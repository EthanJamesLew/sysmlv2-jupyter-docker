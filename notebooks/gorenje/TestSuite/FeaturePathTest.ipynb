{
 "cells": [
  {
   "cell_type": "markdown",
   "id": "e59d2865",
   "metadata": {},
   "source": [
    "# SysML v2 Test Suite\n",
    "\n",
    "This can notebook can be cleared using menu `Edit --> Clear All Outputs` and then all cells can be\n",
    "run using menu `Run --> Run All Cells`.\n",
    "\n",
    "**WARNING**: This file is generated, all modifications here will be ignored.\n"
   ]
  },
  {
   "cell_type": "markdown",
   "id": "ef94d994",
   "metadata": {},
   "source": [
    "## File: ../../sysml/src/examples/Simple Tests/FeaturePathTest.sysml"
   ]
  },
  {
   "cell_type": "code",
   "execution_count": 1,
   "id": "b712e4e6",
   "metadata": {
    "execution": {
     "iopub.execute_input": "2021-05-27T06:11:56.391439Z",
     "iopub.status.busy": "2021-05-27T06:11:56.390248Z",
     "iopub.status.idle": "2021-05-27T06:11:56.913520Z",
     "shell.execute_reply": "2021-05-27T06:11:56.913015Z"
    }
   },
   "outputs": [
    {
     "data": {
      "text/plain": [
       "Package Q (4864e9f4-7a1a-4b87-8da8-5767f6872ec5)\n"
      ]
     },
     "execution_count": 1,
     "metadata": {},
     "output_type": "execute_result"
    }
   ],
   "source": [
    "package Q {\n",
    "  part def F {\n",
    "  \tpart a;\n",
    "  }\n",
    "  \n",
    "  part f : F;\n",
    "  \n",
    "  part def A {\n",
    "    part g = f.a;\n",
    "  }\n",
    "  \n",
    "  part def B {\n",
    "  \tpart f : F;\n",
    "  \tpart a : A;\n",
    "  }\n",
    "  \n",
    "  part b : B {\n",
    "  \tconnect f.a to a.g;\n",
    "  \tbind f.a = a.g;\n",
    "  }\n",
    "}\n"
   ]
  },
  {
   "cell_type": "code",
   "execution_count": 2,
   "id": "c2258f9c",
   "metadata": {
    "execution": {
     "iopub.execute_input": "2021-05-27T06:11:56.964908Z",
     "iopub.status.busy": "2021-05-27T06:11:56.964528Z",
     "iopub.status.idle": "2021-05-27T06:11:57.483893Z",
     "shell.execute_reply": "2021-05-27T06:11:57.483583Z"
    }
   },
   "outputs": [
    {
     "data": {
      "image/svg+xml": [
       "<?xml version=\"1.0\" encoding=\"UTF-8\" standalone=\"no\"?><svg xmlns=\"http://www.w3.org/2000/svg\" xmlns:xlink=\"http://www.w3.org/1999/xlink\" contentScriptType=\"application/ecmascript\" contentStyleType=\"text/css\" height=\"539px\" preserveAspectRatio=\"none\" style=\"width:266px;height:539px;\" version=\"1.1\" viewBox=\"0 0 266 539\" width=\"266px\" zoomAndPan=\"magnify\"><defs/><g><!--MD5=[fbc87193dbaf4d95561dea2c320d4a47]\n",
       "cluster E1--><a href=\"psysml:c58eea24-2ccf-44f2-b6e8-e98c7ec17236\" target=\"_top\" title=\"psysml:c58eea24-2ccf-44f2-b6e8-e98c7ec17236\" xlink:actuate=\"onRequest\" xlink:href=\"psysml:c58eea24-2ccf-44f2-b6e8-e98c7ec17236\" xlink:show=\"new\" xlink:title=\"psysml:c58eea24-2ccf-44f2-b6e8-e98c7ec17236\" xlink:type=\"simple\"><polygon fill=\"#FFFFFF\" points=\"16,6,34,6,41,28.2969,244,28.2969,244,527,16,527,16,6\" style=\"stroke: #000000; stroke-width: 1.5;\"/><line style=\"stroke: #000000; stroke-width: 1.5;\" x1=\"16\" x2=\"41\" y1=\"28.2969\" y2=\"28.2969\"/><text fill=\"#000000\" font-family=\"sans-serif\" font-size=\"14\" font-weight=\"bold\" lengthAdjust=\"spacingAndGlyphs\" textLength=\"12\" x=\"20\" y=\"20.9951\">Q</text></a><!--MD5=[b4997ac47864f28c2f74865a473b2911]\n",
       "class E2--><a href=\"psysml:a4e187a3-203e-405d-be98-97d147693ddf\" target=\"_top\" title=\"psysml:a4e187a3-203e-405d-be98-97d147693ddf\" xlink:actuate=\"onRequest\" xlink:href=\"psysml:a4e187a3-203e-405d-be98-97d147693ddf\" xlink:show=\"new\" xlink:title=\"psysml:a4e187a3-203e-405d-be98-97d147693ddf\" xlink:type=\"simple\"><rect fill=\"#FFFFFF\" height=\"45.9375\" id=\"E2\" style=\"stroke: #383838; stroke-width: 1.5;\" width=\"66\" x=\"147\" y=\"359\"/><text fill=\"#000000\" font-family=\"sans-serif\" font-size=\"12\" font-style=\"italic\" lengthAdjust=\"spacingAndGlyphs\" textLength=\"64\" x=\"148\" y=\"375.1387\">«part def»</text><text fill=\"#000000\" font-family=\"sans-serif\" font-size=\"12\" lengthAdjust=\"spacingAndGlyphs\" textLength=\"7\" x=\"176.5\" y=\"389.1074\">F</text><line style=\"stroke: #383838; stroke-width: 1.5;\" x1=\"148\" x2=\"212\" y1=\"396.9375\" y2=\"396.9375\"/></a><!--MD5=[09b614a08d8cba4a07c9adeb5e0fee81]\n",
       "class E3--><a href=\"psysml:6ada620e-a181-4489-89b5-9a75fb715758\" target=\"_top\" title=\"psysml:6ada620e-a181-4489-89b5-9a75fb715758\" xlink:actuate=\"onRequest\" xlink:href=\"psysml:6ada620e-a181-4489-89b5-9a75fb715758\" xlink:show=\"new\" xlink:title=\"psysml:6ada620e-a181-4489-89b5-9a75fb715758\" xlink:type=\"simple\"><rect fill=\"#FFFFFF\" height=\"45.9375\" id=\"E3\" rx=\"10\" ry=\"10\" style=\"stroke: #383838; stroke-width: 1.5;\" width=\"42\" x=\"159\" y=\"465\"/><text fill=\"#000000\" font-family=\"sans-serif\" font-size=\"12\" font-style=\"italic\" lengthAdjust=\"spacingAndGlyphs\" textLength=\"40\" x=\"160\" y=\"481.1387\">«part»</text><text fill=\"#000000\" font-family=\"sans-serif\" font-size=\"12\" lengthAdjust=\"spacingAndGlyphs\" textLength=\"8\" x=\"176\" y=\"495.1074\">a</text><line style=\"stroke: #383838; stroke-width: 1.5;\" x1=\"160\" x2=\"200\" y1=\"502.9375\" y2=\"502.9375\"/></a><!--MD5=[ebbe1d658d1005bcc118a6aa81145e00]\n",
       "class E4--><a href=\"psysml:90a61716-c53d-4f92-beb5-5068bb9fa1a0\" target=\"_top\" title=\"psysml:90a61716-c53d-4f92-beb5-5068bb9fa1a0\" xlink:actuate=\"onRequest\" xlink:href=\"psysml:90a61716-c53d-4f92-beb5-5068bb9fa1a0\" xlink:show=\"new\" xlink:title=\"psysml:90a61716-c53d-4f92-beb5-5068bb9fa1a0\" xlink:type=\"simple\"><rect fill=\"#FFFFFF\" height=\"45.9375\" id=\"E4\" rx=\"10\" ry=\"10\" style=\"stroke: #383838; stroke-width: 1.5;\" width=\"42\" x=\"186\" y=\"253\"/><text fill=\"#000000\" font-family=\"sans-serif\" font-size=\"12\" font-style=\"italic\" lengthAdjust=\"spacingAndGlyphs\" textLength=\"40\" x=\"187\" y=\"269.1387\">«part»</text><text fill=\"#000000\" font-family=\"sans-serif\" font-size=\"12\" lengthAdjust=\"spacingAndGlyphs\" textLength=\"19\" x=\"197.5\" y=\"283.1074\">f: F</text><line style=\"stroke: #383838; stroke-width: 1.5;\" x1=\"187\" x2=\"227\" y1=\"290.9375\" y2=\"290.9375\"/></a><!--MD5=[270fce915f116d4de14055a7c1d9a0f3]\n",
       "class E5--><a href=\"psysml:282ebd08-29d1-4bc9-b49b-68a749240d69\" target=\"_top\" title=\"psysml:282ebd08-29d1-4bc9-b49b-68a749240d69\" xlink:actuate=\"onRequest\" xlink:href=\"psysml:282ebd08-29d1-4bc9-b49b-68a749240d69\" xlink:show=\"new\" xlink:title=\"psysml:282ebd08-29d1-4bc9-b49b-68a749240d69\" xlink:type=\"simple\"><rect fill=\"#FFFFFF\" height=\"45.9375\" id=\"E5\" style=\"stroke: #383838; stroke-width: 1.5;\" width=\"66\" x=\"32\" y=\"359\"/><text fill=\"#000000\" font-family=\"sans-serif\" font-size=\"12\" font-style=\"italic\" lengthAdjust=\"spacingAndGlyphs\" textLength=\"64\" x=\"33\" y=\"375.1387\">«part def»</text><text fill=\"#000000\" font-family=\"sans-serif\" font-size=\"12\" lengthAdjust=\"spacingAndGlyphs\" textLength=\"8\" x=\"61\" y=\"389.1074\">A</text><line style=\"stroke: #383838; stroke-width: 1.5;\" x1=\"33\" x2=\"97\" y1=\"396.9375\" y2=\"396.9375\"/></a><!--MD5=[60a26617385b1d2d0262a64233df1f8d]\n",
       "class E6--><a href=\"psysml:ba34075d-eebc-4755-94e7-ca84c5a458cd\" target=\"_top\" title=\"psysml:ba34075d-eebc-4755-94e7-ca84c5a458cd\" xlink:actuate=\"onRequest\" xlink:href=\"psysml:ba34075d-eebc-4755-94e7-ca84c5a458cd\" xlink:show=\"new\" xlink:title=\"psysml:ba34075d-eebc-4755-94e7-ca84c5a458cd\" xlink:type=\"simple\"><rect fill=\"#FFFFFF\" height=\"45.9375\" id=\"E6\" rx=\"10\" ry=\"10\" style=\"stroke: #383838; stroke-width: 1.5;\" width=\"42\" x=\"44\" y=\"465\"/><text fill=\"#000000\" font-family=\"sans-serif\" font-size=\"12\" font-style=\"italic\" lengthAdjust=\"spacingAndGlyphs\" textLength=\"40\" x=\"45\" y=\"481.1387\">«part»</text><text fill=\"#000000\" font-family=\"sans-serif\" font-size=\"12\" lengthAdjust=\"spacingAndGlyphs\" textLength=\"8\" x=\"61\" y=\"495.1074\">g</text><line style=\"stroke: #383838; stroke-width: 1.5;\" x1=\"45\" x2=\"85\" y1=\"502.9375\" y2=\"502.9375\"/></a><!--MD5=[2156ba9850f5573cc1fc38a6a4b2f02b]\n",
       "class E7--><a href=\"psysml:88191fe6-4f94-4991-8591-be7eb93db47e\" target=\"_top\" title=\"psysml:88191fe6-4f94-4991-8591-be7eb93db47e\" xlink:actuate=\"onRequest\" xlink:href=\"psysml:88191fe6-4f94-4991-8591-be7eb93db47e\" xlink:show=\"new\" xlink:title=\"psysml:88191fe6-4f94-4991-8591-be7eb93db47e\" xlink:type=\"simple\"><rect fill=\"#FFFFFF\" height=\"45.9375\" id=\"E7\" style=\"stroke: #383838; stroke-width: 1.5;\" width=\"66\" x=\"64\" y=\"147\"/><text fill=\"#000000\" font-family=\"sans-serif\" font-size=\"12\" font-style=\"italic\" lengthAdjust=\"spacingAndGlyphs\" textLength=\"64\" x=\"65\" y=\"163.1387\">«part def»</text><text fill=\"#000000\" font-family=\"sans-serif\" font-size=\"12\" lengthAdjust=\"spacingAndGlyphs\" textLength=\"8\" x=\"93\" y=\"177.1074\">B</text><line style=\"stroke: #383838; stroke-width: 1.5;\" x1=\"65\" x2=\"129\" y1=\"184.9375\" y2=\"184.9375\"/></a><!--MD5=[b9389687b975829384b498ac4b7476b2]\n",
       "class E8--><a href=\"psysml:ab65aa6d-a5a6-4b47-8167-56da9e982a64\" target=\"_top\" title=\"psysml:ab65aa6d-a5a6-4b47-8167-56da9e982a64\" xlink:actuate=\"onRequest\" xlink:href=\"psysml:ab65aa6d-a5a6-4b47-8167-56da9e982a64\" xlink:show=\"new\" xlink:title=\"psysml:ab65aa6d-a5a6-4b47-8167-56da9e982a64\" xlink:type=\"simple\"><rect fill=\"#FFFFFF\" height=\"45.9375\" id=\"E8\" rx=\"10\" ry=\"10\" style=\"stroke: #383838; stroke-width: 1.5;\" width=\"42\" x=\"109\" y=\"253\"/><text fill=\"#000000\" font-family=\"sans-serif\" font-size=\"12\" font-style=\"italic\" lengthAdjust=\"spacingAndGlyphs\" textLength=\"40\" x=\"110\" y=\"269.1387\">«part»</text><text fill=\"#000000\" font-family=\"sans-serif\" font-size=\"12\" lengthAdjust=\"spacingAndGlyphs\" textLength=\"19\" x=\"120.5\" y=\"283.1074\">f: F</text><line style=\"stroke: #383838; stroke-width: 1.5;\" x1=\"110\" x2=\"150\" y1=\"290.9375\" y2=\"290.9375\"/></a><!--MD5=[fd4143e9d270a159db93a4ea2a975926]\n",
       "class E9--><a href=\"psysml:624da0d4-2cfd-4aae-83e5-be6cf87688fa\" target=\"_top\" title=\"psysml:624da0d4-2cfd-4aae-83e5-be6cf87688fa\" xlink:actuate=\"onRequest\" xlink:href=\"psysml:624da0d4-2cfd-4aae-83e5-be6cf87688fa\" xlink:show=\"new\" xlink:title=\"psysml:624da0d4-2cfd-4aae-83e5-be6cf87688fa\" xlink:type=\"simple\"><rect fill=\"#FFFFFF\" height=\"45.9375\" id=\"E9\" rx=\"10\" ry=\"10\" style=\"stroke: #383838; stroke-width: 1.5;\" width=\"42\" x=\"32\" y=\"253\"/><text fill=\"#000000\" font-family=\"sans-serif\" font-size=\"12\" font-style=\"italic\" lengthAdjust=\"spacingAndGlyphs\" textLength=\"40\" x=\"33\" y=\"269.1387\">«part»</text><text fill=\"#000000\" font-family=\"sans-serif\" font-size=\"12\" lengthAdjust=\"spacingAndGlyphs\" textLength=\"24\" x=\"41\" y=\"283.1074\">a: A</text><line style=\"stroke: #383838; stroke-width: 1.5;\" x1=\"33\" x2=\"73\" y1=\"290.9375\" y2=\"290.9375\"/></a><!--MD5=[96f4274e9e20536e775497830990834d]\n",
       "class E10--><a href=\"psysml:5c182589-a5f3-41ec-a644-db6857a5c19a\" target=\"_top\" title=\"psysml:5c182589-a5f3-41ec-a644-db6857a5c19a\" xlink:actuate=\"onRequest\" xlink:href=\"psysml:5c182589-a5f3-41ec-a644-db6857a5c19a\" xlink:show=\"new\" xlink:title=\"psysml:5c182589-a5f3-41ec-a644-db6857a5c19a\" xlink:type=\"simple\"><rect fill=\"#FFFFFF\" height=\"45.9375\" id=\"E10\" rx=\"10\" ry=\"10\" style=\"stroke: #383838; stroke-width: 1.5;\" width=\"42\" x=\"76\" y=\"41\"/><text fill=\"#000000\" font-family=\"sans-serif\" font-size=\"12\" font-style=\"italic\" lengthAdjust=\"spacingAndGlyphs\" textLength=\"40\" x=\"77\" y=\"57.1387\">«part»</text><text fill=\"#000000\" font-family=\"sans-serif\" font-size=\"12\" lengthAdjust=\"spacingAndGlyphs\" textLength=\"24\" x=\"85\" y=\"71.1074\">b: B</text><line style=\"stroke: #383838; stroke-width: 1.5;\" x1=\"77\" x2=\"117\" y1=\"78.9375\" y2=\"78.9375\"/></a><!--MD5=[209b3feb70ccb6233bfe1053d122c12c]\n",
       "reverse link E2 to E3--><a href=\"psysml:f4f335e8-ebb2-4b93-b8a2-3184b124f9b4\" target=\"_top\" title=\"psysml:f4f335e8-ebb2-4b93-b8a2-3184b124f9b4\" xlink:actuate=\"onRequest\" xlink:href=\"psysml:f4f335e8-ebb2-4b93-b8a2-3184b124f9b4\" xlink:show=\"new\" xlink:title=\"psysml:f4f335e8-ebb2-4b93-b8a2-3184b124f9b4\" xlink:type=\"simple\"><path d=\"M180,418.44 C180,433.87 180,451.47 180,464.98 \" fill=\"none\" id=\"E2&lt;-E3\" style=\"stroke: #383838; stroke-width: 1.0;\"/><polygon fill=\"#383838\" points=\"180,405.06,176,411.06,180,417.06,184,411.06,180,405.06\" style=\"stroke: #383838; stroke-width: 1.0;\"/></a><!--MD5=[185131fc0dcab0a4505a2ebe144e961b]\n",
       "link E4 to E2--><a href=\"psysml:6b545197-59fa-4019-832b-0413d8dfad43\" target=\"_top\" title=\"psysml:6b545197-59fa-4019-832b-0413d8dfad43\" xlink:actuate=\"onRequest\" xlink:href=\"psysml:6b545197-59fa-4019-832b-0413d8dfad43\" xlink:show=\"new\" xlink:title=\"psysml:6b545197-59fa-4019-832b-0413d8dfad43\" xlink:type=\"simple\"><path d=\"M201.27,299.06 C198.23,310.78 194.39,325.57 190.81,339.36 \" fill=\"none\" id=\"E4-&gt;E2\" style=\"stroke: #383838; stroke-width: 1.0;\"/><polygon fill=\"#FFFFFF\" points=\"185.72,358.98,183.7221,338.8303,197.2724,342.3504,185.72,358.98\" style=\"stroke: #383838; stroke-width: 1.0;\"/><ellipse cx=\"187.091\" cy=\"333.8163\" fill=\"#383838\" rx=\"2\" ry=\"2\" style=\"stroke: #383838; stroke-width: 1.0;\"/><ellipse cx=\"196.7698\" cy=\"336.3307\" fill=\"#383838\" rx=\"2\" ry=\"2\" style=\"stroke: #383838; stroke-width: 1.0;\"/></a><!--MD5=[85d356282659285ab4b2cfe2f634dd2b]\n",
       "reverse link E5 to E6--><a href=\"psysml:42a57766-d710-4931-98ca-f2942df4b5a7\" target=\"_top\" title=\"psysml:42a57766-d710-4931-98ca-f2942df4b5a7\" xlink:actuate=\"onRequest\" xlink:href=\"psysml:42a57766-d710-4931-98ca-f2942df4b5a7\" xlink:show=\"new\" xlink:title=\"psysml:42a57766-d710-4931-98ca-f2942df4b5a7\" xlink:type=\"simple\"><path d=\"M65,418.44 C65,433.87 65,451.47 65,464.98 \" fill=\"none\" id=\"E5&lt;-E6\" style=\"stroke: #383838; stroke-width: 1.0;\"/><polygon fill=\"#383838\" points=\"65,405.06,61,411.06,65,417.06,69,411.06,65,405.06\" style=\"stroke: #383838; stroke-width: 1.0;\"/></a><!--MD5=[dc164f5e8a733ab456ef1add180e9e34]\n",
       "reverse link E7 to E8--><a href=\"psysml:ee3500c3-1d32-470f-b6bb-e11a5c090a2b\" target=\"_top\" title=\"psysml:ee3500c3-1d32-470f-b6bb-e11a5c090a2b\" xlink:actuate=\"onRequest\" xlink:href=\"psysml:ee3500c3-1d32-470f-b6bb-e11a5c090a2b\" xlink:show=\"new\" xlink:title=\"psysml:ee3500c3-1d32-470f-b6bb-e11a5c090a2b\" xlink:type=\"simple\"><path d=\"M107.95,205.49 C112.91,221.15 118.64,239.19 123.01,252.98 \" fill=\"none\" id=\"E7&lt;-E8\" style=\"stroke: #383838; stroke-width: 1.0;\"/><polygon fill=\"#383838\" points=\"104,193.06,101.9989,199.9879,107.6243,204.4996,109.6253,197.5717,104,193.06\" style=\"stroke: #383838; stroke-width: 1.0;\"/></a><!--MD5=[f1f3f9f2fc535e6147756cb86a7f2e32]\n",
       "link E8 to E2--><a href=\"psysml:385ac8e9-821f-48a2-9a91-91f0503517ad\" target=\"_top\" title=\"psysml:385ac8e9-821f-48a2-9a91-91f0503517ad\" xlink:actuate=\"onRequest\" xlink:href=\"psysml:385ac8e9-821f-48a2-9a91-91f0503517ad\" xlink:show=\"new\" xlink:title=\"psysml:385ac8e9-821f-48a2-9a91-91f0503517ad\" xlink:type=\"simple\"><path d=\"M140.6,299.06 C146.44,311.19 153.86,326.62 160.68,340.82 \" fill=\"none\" id=\"E8-&gt;E2\" style=\"stroke: #383838; stroke-width: 1.0;\"/><polygon fill=\"#FFFFFF\" points=\"169.41,358.98,154.8709,344.8869,167.4894,338.8228,169.41,358.98\" style=\"stroke: #383838; stroke-width: 1.0;\"/><ellipse cx=\"154.2046\" cy=\"338.8831\" fill=\"#383838\" rx=\"2\" ry=\"2\" style=\"stroke: #383838; stroke-width: 1.0;\"/><ellipse cx=\"163.2178\" cy=\"334.5516\" fill=\"#383838\" rx=\"2\" ry=\"2\" style=\"stroke: #383838; stroke-width: 1.0;\"/></a><!--MD5=[e4a10ef82d0e328e31cac39a31e58dda]\n",
       "reverse link E7 to E9--><a href=\"psysml:4dc3c190-fff9-4cfd-9ec6-604d7dd22971\" target=\"_top\" title=\"psysml:4dc3c190-fff9-4cfd-9ec6-604d7dd22971\" xlink:actuate=\"onRequest\" xlink:href=\"psysml:4dc3c190-fff9-4cfd-9ec6-604d7dd22971\" xlink:show=\"new\" xlink:title=\"psysml:4dc3c190-fff9-4cfd-9ec6-604d7dd22971\" xlink:type=\"simple\"><path d=\"M82.41,205.49 C75.78,221.15 68.15,239.19 62.32,252.98 \" fill=\"none\" id=\"E7&lt;-E9\" style=\"stroke: #383838; stroke-width: 1.0;\"/><polygon fill=\"#383838\" points=\"87.67,193.06,81.6505,197.0305,83.0003,204.1142,89.0199,200.1436,87.67,193.06\" style=\"stroke: #383838; stroke-width: 1.0;\"/></a><!--MD5=[bfc3ddf2e613be37104f658f09af896c]\n",
       "link E9 to E5--><a href=\"psysml:e6457602-7adc-4ee0-a454-eb40d686de5b\" target=\"_top\" title=\"psysml:e6457602-7adc-4ee0-a454-eb40d686de5b\" xlink:actuate=\"onRequest\" xlink:href=\"psysml:e6457602-7adc-4ee0-a454-eb40d686de5b\" xlink:show=\"new\" xlink:title=\"psysml:e6457602-7adc-4ee0-a454-eb40d686de5b\" xlink:type=\"simple\"><path d=\"M55.54,299.06 C56.88,310.64 58.56,325.23 60.14,338.87 \" fill=\"none\" id=\"E9-&gt;E5\" style=\"stroke: #383838; stroke-width: 1.0;\"/><polygon fill=\"#FFFFFF\" points=\"62.46,358.98,53.3347,340.9044,67.243,339.3046,62.46,358.98\" style=\"stroke: #383838; stroke-width: 1.0;\"/><ellipse cx=\"54.6702\" cy=\"335.0132\" fill=\"#383838\" rx=\"2\" ry=\"2\" style=\"stroke: #383838; stroke-width: 1.0;\"/><ellipse cx=\"64.6047\" cy=\"333.8704\" fill=\"#383838\" rx=\"2\" ry=\"2\" style=\"stroke: #383838; stroke-width: 1.0;\"/></a><!--MD5=[a919e0967d6f3de553dc51b9865a1d6d]\n",
       "link E10 to E7--><a href=\"psysml:078c16df-6fb3-4d69-bd0c-6c240437776b\" target=\"_top\" title=\"psysml:078c16df-6fb3-4d69-bd0c-6c240437776b\" xlink:actuate=\"onRequest\" xlink:href=\"psysml:078c16df-6fb3-4d69-bd0c-6c240437776b\" xlink:show=\"new\" xlink:title=\"psysml:078c16df-6fb3-4d69-bd0c-6c240437776b\" xlink:type=\"simple\"><path d=\"M97,87.06 C97,98.64 97,113.23 97,126.87 \" fill=\"none\" id=\"E10-&gt;E7\" style=\"stroke: #383838; stroke-width: 1.0;\"/><polygon fill=\"#FFFFFF\" points=\"97,146.98,90,127.98,104,127.98,97,146.98\" style=\"stroke: #383838; stroke-width: 1.0;\"/><ellipse cx=\"92\" cy=\"122.28\" fill=\"#383838\" rx=\"2\" ry=\"2\" style=\"stroke: #383838; stroke-width: 1.0;\"/><ellipse cx=\"102\" cy=\"122.28\" fill=\"#383838\" rx=\"2\" ry=\"2\" style=\"stroke: #383838; stroke-width: 1.0;\"/></a><!--MD5=[23835be9fc9ce65173ae3e72448cb5bb]\n",
       "@startuml\r\n",
       " skinparam monochrome true\r\n",
       "skinparam classbackgroundcolor white\r\n",
       "skinparam shadowing false\r\n",
       "skinparam wrapWidth 300\r\n",
       "hide circle\r\n",
       "\r\n",
       "package \"Q\" as E1  [[psysml:c58eea24-2ccf-44f2-b6e8-e98c7ec17236 ]]  {\r\n",
       "comp def \"F\" as E2  <<(T,blue)part def>> [[psysml:a4e187a3-203e-405d-be98-97d147693ddf ]] {\r\n",
       "}\r\n",
       "comp usage \"a\" as E3  <<(T,blue)part>> [[psysml:6ada620e-a181-4489-89b5-9a75fb715758 ]] {\r\n",
       "}\r\n",
       "comp usage \"f: F\" as E4  <<(T,blue)part>> [[psysml:90a61716-c53d-4f92-beb5-5068bb9fa1a0 ]] {\r\n",
       "}\r\n",
       "comp def \"A\" as E5  <<(T,blue)part def>> [[psysml:282ebd08-29d1-4bc9-b49b-68a749240d69 ]] {\r\n",
       "}\r\n",
       "comp usage \"g\" as E6  <<(T,blue)part>> [[psysml:ba34075d-eebc-4755-94e7-ca84c5a458cd ]] {\r\n",
       "}\r\n",
       "comp def \"B\" as E7  <<(T,blue)part def>> [[psysml:88191fe6-4f94-4991-8591-be7eb93db47e ]] {\r\n",
       "}\r\n",
       "comp usage \"f: F\" as E8  <<(T,blue)part>> [[psysml:ab65aa6d-a5a6-4b47-8167-56da9e982a64 ]] {\r\n",
       "}\r\n",
       "comp usage \"a: A\" as E9  <<(T,blue)part>> [[psysml:624da0d4-2cfd-4aae-83e5-be6cf87688fa ]] {\r\n",
       "}\r\n",
       "comp usage \"b: B\" as E10  <<(T,blue)part>> [[psysml:5c182589-a5f3-41ec-a644-db6857a5c19a ]] {\r\n",
       "}\r\n",
       "E2 *- - E3 [[psysml:f4f335e8-ebb2-4b93-b8a2-3184b124f9b4 ]] \r\n",
       "E4 - -:|> E2 [[psysml:6b545197-59fa-4019-832b-0413d8dfad43 ]] \r\n",
       "E5 *- - E6 [[psysml:42a57766-d710-4931-98ca-f2942df4b5a7 ]] \r\n",
       "E7 *- - E8 [[psysml:ee3500c3-1d32-470f-b6bb-e11a5c090a2b ]] \r\n",
       "E8 - -:|> E2 [[psysml:385ac8e9-821f-48a2-9a91-91f0503517ad ]] \r\n",
       "E7 *- - E9 [[psysml:4dc3c190-fff9-4cfd-9ec6-604d7dd22971 ]] \r\n",
       "E9 - -:|> E5 [[psysml:e6457602-7adc-4ee0-a454-eb40d686de5b ]] \r\n",
       "E10 - -:|> E7 [[psysml:078c16df-6fb3-4d69-bd0c-6c240437776b ]] \r\n",
       "}\r\n",
       "@enduml\r\n",
       "\n",
       "PlantUML version 1.2020.13(Sat Jun 13 12:26:38 UTC 2020)\n",
       "(EPL source distribution)\n",
       "Java Runtime: OpenJDK Runtime Environment\n",
       "JVM: OpenJDK 64-Bit Server VM\n",
       "Default Encoding: UTF-8\n",
       "Language: en\n",
       "Country: null\n",
       "--></g></svg>"
      ]
     },
     "execution_count": 2,
     "metadata": {},
     "output_type": "execute_result"
    }
   ],
   "source": [
    "%viz --style=\"COMPTREE\" --view=\"Default\" \"Q\""
   ]
  },
  {
   "cell_type": "code",
   "execution_count": 3,
   "id": "de893f8f",
   "metadata": {
    "execution": {
     "iopub.execute_input": "2021-05-27T06:11:57.535041Z",
     "iopub.status.busy": "2021-05-27T06:11:57.534544Z",
     "iopub.status.idle": "2021-05-27T06:11:57.613381Z",
     "shell.execute_reply": "2021-05-27T06:11:57.612387Z"
    }
   },
   "outputs": [
    {
     "data": {
      "image/svg+xml": [
       "<?xml version=\"1.0\" encoding=\"UTF-8\" standalone=\"no\"?><svg xmlns=\"http://www.w3.org/2000/svg\" xmlns:xlink=\"http://www.w3.org/1999/xlink\" contentScriptType=\"application/ecmascript\" contentStyleType=\"text/css\" height=\"539px\" preserveAspectRatio=\"none\" style=\"width:266px;height:539px;\" version=\"1.1\" viewBox=\"0 0 266 539\" width=\"266px\" zoomAndPan=\"magnify\"><defs/><g><!--MD5=[fbc87193dbaf4d95561dea2c320d4a47]\n",
       "cluster E1--><a href=\"psysml:c58eea24-2ccf-44f2-b6e8-e98c7ec17236\" target=\"_top\" title=\"psysml:c58eea24-2ccf-44f2-b6e8-e98c7ec17236\" xlink:actuate=\"onRequest\" xlink:href=\"psysml:c58eea24-2ccf-44f2-b6e8-e98c7ec17236\" xlink:show=\"new\" xlink:title=\"psysml:c58eea24-2ccf-44f2-b6e8-e98c7ec17236\" xlink:type=\"simple\"><polygon fill=\"#FFFFFF\" points=\"16,6,34,6,41,28.2969,244,28.2969,244,527,16,527,16,6\" style=\"stroke: #000000; stroke-width: 1.5;\"/><line style=\"stroke: #000000; stroke-width: 1.5;\" x1=\"16\" x2=\"41\" y1=\"28.2969\" y2=\"28.2969\"/><text fill=\"#000000\" font-family=\"sans-serif\" font-size=\"14\" font-weight=\"bold\" lengthAdjust=\"spacingAndGlyphs\" textLength=\"12\" x=\"20\" y=\"20.9951\">Q</text></a><!--MD5=[b4997ac47864f28c2f74865a473b2911]\n",
       "class E2--><a href=\"psysml:a4e187a3-203e-405d-be98-97d147693ddf\" target=\"_top\" title=\"psysml:a4e187a3-203e-405d-be98-97d147693ddf\" xlink:actuate=\"onRequest\" xlink:href=\"psysml:a4e187a3-203e-405d-be98-97d147693ddf\" xlink:show=\"new\" xlink:title=\"psysml:a4e187a3-203e-405d-be98-97d147693ddf\" xlink:type=\"simple\"><rect fill=\"#FFFFFF\" height=\"45.9375\" id=\"E2\" style=\"stroke: #383838; stroke-width: 1.5;\" width=\"66\" x=\"147\" y=\"359\"/><text fill=\"#000000\" font-family=\"sans-serif\" font-size=\"12\" font-style=\"italic\" lengthAdjust=\"spacingAndGlyphs\" textLength=\"64\" x=\"148\" y=\"375.1387\">«part def»</text><text fill=\"#000000\" font-family=\"sans-serif\" font-size=\"12\" lengthAdjust=\"spacingAndGlyphs\" textLength=\"7\" x=\"176.5\" y=\"389.1074\">F</text><line style=\"stroke: #383838; stroke-width: 1.5;\" x1=\"148\" x2=\"212\" y1=\"396.9375\" y2=\"396.9375\"/></a><!--MD5=[09b614a08d8cba4a07c9adeb5e0fee81]\n",
       "class E3--><a href=\"psysml:6ada620e-a181-4489-89b5-9a75fb715758\" target=\"_top\" title=\"psysml:6ada620e-a181-4489-89b5-9a75fb715758\" xlink:actuate=\"onRequest\" xlink:href=\"psysml:6ada620e-a181-4489-89b5-9a75fb715758\" xlink:show=\"new\" xlink:title=\"psysml:6ada620e-a181-4489-89b5-9a75fb715758\" xlink:type=\"simple\"><rect fill=\"#FFFFFF\" height=\"45.9375\" id=\"E3\" rx=\"10\" ry=\"10\" style=\"stroke: #383838; stroke-width: 1.5;\" width=\"42\" x=\"159\" y=\"465\"/><text fill=\"#000000\" font-family=\"sans-serif\" font-size=\"12\" font-style=\"italic\" lengthAdjust=\"spacingAndGlyphs\" textLength=\"40\" x=\"160\" y=\"481.1387\">«part»</text><text fill=\"#000000\" font-family=\"sans-serif\" font-size=\"12\" lengthAdjust=\"spacingAndGlyphs\" textLength=\"8\" x=\"176\" y=\"495.1074\">a</text><line style=\"stroke: #383838; stroke-width: 1.5;\" x1=\"160\" x2=\"200\" y1=\"502.9375\" y2=\"502.9375\"/></a><!--MD5=[ebbe1d658d1005bcc118a6aa81145e00]\n",
       "class E4--><a href=\"psysml:90a61716-c53d-4f92-beb5-5068bb9fa1a0\" target=\"_top\" title=\"psysml:90a61716-c53d-4f92-beb5-5068bb9fa1a0\" xlink:actuate=\"onRequest\" xlink:href=\"psysml:90a61716-c53d-4f92-beb5-5068bb9fa1a0\" xlink:show=\"new\" xlink:title=\"psysml:90a61716-c53d-4f92-beb5-5068bb9fa1a0\" xlink:type=\"simple\"><rect fill=\"#FFFFFF\" height=\"45.9375\" id=\"E4\" rx=\"10\" ry=\"10\" style=\"stroke: #383838; stroke-width: 1.5;\" width=\"42\" x=\"186\" y=\"253\"/><text fill=\"#000000\" font-family=\"sans-serif\" font-size=\"12\" font-style=\"italic\" lengthAdjust=\"spacingAndGlyphs\" textLength=\"40\" x=\"187\" y=\"269.1387\">«part»</text><text fill=\"#000000\" font-family=\"sans-serif\" font-size=\"12\" lengthAdjust=\"spacingAndGlyphs\" textLength=\"19\" x=\"197.5\" y=\"283.1074\">f: F</text><line style=\"stroke: #383838; stroke-width: 1.5;\" x1=\"187\" x2=\"227\" y1=\"290.9375\" y2=\"290.9375\"/></a><!--MD5=[270fce915f116d4de14055a7c1d9a0f3]\n",
       "class E5--><a href=\"psysml:282ebd08-29d1-4bc9-b49b-68a749240d69\" target=\"_top\" title=\"psysml:282ebd08-29d1-4bc9-b49b-68a749240d69\" xlink:actuate=\"onRequest\" xlink:href=\"psysml:282ebd08-29d1-4bc9-b49b-68a749240d69\" xlink:show=\"new\" xlink:title=\"psysml:282ebd08-29d1-4bc9-b49b-68a749240d69\" xlink:type=\"simple\"><rect fill=\"#FFFFFF\" height=\"45.9375\" id=\"E5\" style=\"stroke: #383838; stroke-width: 1.5;\" width=\"66\" x=\"32\" y=\"359\"/><text fill=\"#000000\" font-family=\"sans-serif\" font-size=\"12\" font-style=\"italic\" lengthAdjust=\"spacingAndGlyphs\" textLength=\"64\" x=\"33\" y=\"375.1387\">«part def»</text><text fill=\"#000000\" font-family=\"sans-serif\" font-size=\"12\" lengthAdjust=\"spacingAndGlyphs\" textLength=\"8\" x=\"61\" y=\"389.1074\">A</text><line style=\"stroke: #383838; stroke-width: 1.5;\" x1=\"33\" x2=\"97\" y1=\"396.9375\" y2=\"396.9375\"/></a><!--MD5=[60a26617385b1d2d0262a64233df1f8d]\n",
       "class E6--><a href=\"psysml:ba34075d-eebc-4755-94e7-ca84c5a458cd\" target=\"_top\" title=\"psysml:ba34075d-eebc-4755-94e7-ca84c5a458cd\" xlink:actuate=\"onRequest\" xlink:href=\"psysml:ba34075d-eebc-4755-94e7-ca84c5a458cd\" xlink:show=\"new\" xlink:title=\"psysml:ba34075d-eebc-4755-94e7-ca84c5a458cd\" xlink:type=\"simple\"><rect fill=\"#FFFFFF\" height=\"45.9375\" id=\"E6\" rx=\"10\" ry=\"10\" style=\"stroke: #383838; stroke-width: 1.5;\" width=\"42\" x=\"44\" y=\"465\"/><text fill=\"#000000\" font-family=\"sans-serif\" font-size=\"12\" font-style=\"italic\" lengthAdjust=\"spacingAndGlyphs\" textLength=\"40\" x=\"45\" y=\"481.1387\">«part»</text><text fill=\"#000000\" font-family=\"sans-serif\" font-size=\"12\" lengthAdjust=\"spacingAndGlyphs\" textLength=\"8\" x=\"61\" y=\"495.1074\">g</text><line style=\"stroke: #383838; stroke-width: 1.5;\" x1=\"45\" x2=\"85\" y1=\"502.9375\" y2=\"502.9375\"/></a><!--MD5=[2156ba9850f5573cc1fc38a6a4b2f02b]\n",
       "class E7--><a href=\"psysml:88191fe6-4f94-4991-8591-be7eb93db47e\" target=\"_top\" title=\"psysml:88191fe6-4f94-4991-8591-be7eb93db47e\" xlink:actuate=\"onRequest\" xlink:href=\"psysml:88191fe6-4f94-4991-8591-be7eb93db47e\" xlink:show=\"new\" xlink:title=\"psysml:88191fe6-4f94-4991-8591-be7eb93db47e\" xlink:type=\"simple\"><rect fill=\"#FFFFFF\" height=\"45.9375\" id=\"E7\" style=\"stroke: #383838; stroke-width: 1.5;\" width=\"66\" x=\"64\" y=\"147\"/><text fill=\"#000000\" font-family=\"sans-serif\" font-size=\"12\" font-style=\"italic\" lengthAdjust=\"spacingAndGlyphs\" textLength=\"64\" x=\"65\" y=\"163.1387\">«part def»</text><text fill=\"#000000\" font-family=\"sans-serif\" font-size=\"12\" lengthAdjust=\"spacingAndGlyphs\" textLength=\"8\" x=\"93\" y=\"177.1074\">B</text><line style=\"stroke: #383838; stroke-width: 1.5;\" x1=\"65\" x2=\"129\" y1=\"184.9375\" y2=\"184.9375\"/></a><!--MD5=[b9389687b975829384b498ac4b7476b2]\n",
       "class E8--><a href=\"psysml:ab65aa6d-a5a6-4b47-8167-56da9e982a64\" target=\"_top\" title=\"psysml:ab65aa6d-a5a6-4b47-8167-56da9e982a64\" xlink:actuate=\"onRequest\" xlink:href=\"psysml:ab65aa6d-a5a6-4b47-8167-56da9e982a64\" xlink:show=\"new\" xlink:title=\"psysml:ab65aa6d-a5a6-4b47-8167-56da9e982a64\" xlink:type=\"simple\"><rect fill=\"#FFFFFF\" height=\"45.9375\" id=\"E8\" rx=\"10\" ry=\"10\" style=\"stroke: #383838; stroke-width: 1.5;\" width=\"42\" x=\"109\" y=\"253\"/><text fill=\"#000000\" font-family=\"sans-serif\" font-size=\"12\" font-style=\"italic\" lengthAdjust=\"spacingAndGlyphs\" textLength=\"40\" x=\"110\" y=\"269.1387\">«part»</text><text fill=\"#000000\" font-family=\"sans-serif\" font-size=\"12\" lengthAdjust=\"spacingAndGlyphs\" textLength=\"19\" x=\"120.5\" y=\"283.1074\">f: F</text><line style=\"stroke: #383838; stroke-width: 1.5;\" x1=\"110\" x2=\"150\" y1=\"290.9375\" y2=\"290.9375\"/></a><!--MD5=[fd4143e9d270a159db93a4ea2a975926]\n",
       "class E9--><a href=\"psysml:624da0d4-2cfd-4aae-83e5-be6cf87688fa\" target=\"_top\" title=\"psysml:624da0d4-2cfd-4aae-83e5-be6cf87688fa\" xlink:actuate=\"onRequest\" xlink:href=\"psysml:624da0d4-2cfd-4aae-83e5-be6cf87688fa\" xlink:show=\"new\" xlink:title=\"psysml:624da0d4-2cfd-4aae-83e5-be6cf87688fa\" xlink:type=\"simple\"><rect fill=\"#FFFFFF\" height=\"45.9375\" id=\"E9\" rx=\"10\" ry=\"10\" style=\"stroke: #383838; stroke-width: 1.5;\" width=\"42\" x=\"32\" y=\"253\"/><text fill=\"#000000\" font-family=\"sans-serif\" font-size=\"12\" font-style=\"italic\" lengthAdjust=\"spacingAndGlyphs\" textLength=\"40\" x=\"33\" y=\"269.1387\">«part»</text><text fill=\"#000000\" font-family=\"sans-serif\" font-size=\"12\" lengthAdjust=\"spacingAndGlyphs\" textLength=\"24\" x=\"41\" y=\"283.1074\">a: A</text><line style=\"stroke: #383838; stroke-width: 1.5;\" x1=\"33\" x2=\"73\" y1=\"290.9375\" y2=\"290.9375\"/></a><!--MD5=[96f4274e9e20536e775497830990834d]\n",
       "class E10--><a href=\"psysml:5c182589-a5f3-41ec-a644-db6857a5c19a\" target=\"_top\" title=\"psysml:5c182589-a5f3-41ec-a644-db6857a5c19a\" xlink:actuate=\"onRequest\" xlink:href=\"psysml:5c182589-a5f3-41ec-a644-db6857a5c19a\" xlink:show=\"new\" xlink:title=\"psysml:5c182589-a5f3-41ec-a644-db6857a5c19a\" xlink:type=\"simple\"><rect fill=\"#FFFFFF\" height=\"45.9375\" id=\"E10\" rx=\"10\" ry=\"10\" style=\"stroke: #383838; stroke-width: 1.5;\" width=\"42\" x=\"76\" y=\"41\"/><text fill=\"#000000\" font-family=\"sans-serif\" font-size=\"12\" font-style=\"italic\" lengthAdjust=\"spacingAndGlyphs\" textLength=\"40\" x=\"77\" y=\"57.1387\">«part»</text><text fill=\"#000000\" font-family=\"sans-serif\" font-size=\"12\" lengthAdjust=\"spacingAndGlyphs\" textLength=\"24\" x=\"85\" y=\"71.1074\">b: B</text><line style=\"stroke: #383838; stroke-width: 1.5;\" x1=\"77\" x2=\"117\" y1=\"78.9375\" y2=\"78.9375\"/></a><!--MD5=[209b3feb70ccb6233bfe1053d122c12c]\n",
       "reverse link E2 to E3--><a href=\"psysml:f4f335e8-ebb2-4b93-b8a2-3184b124f9b4\" target=\"_top\" title=\"psysml:f4f335e8-ebb2-4b93-b8a2-3184b124f9b4\" xlink:actuate=\"onRequest\" xlink:href=\"psysml:f4f335e8-ebb2-4b93-b8a2-3184b124f9b4\" xlink:show=\"new\" xlink:title=\"psysml:f4f335e8-ebb2-4b93-b8a2-3184b124f9b4\" xlink:type=\"simple\"><path d=\"M180,418.44 C180,433.87 180,451.47 180,464.98 \" fill=\"none\" id=\"E2&lt;-E3\" style=\"stroke: #383838; stroke-width: 1.0;\"/><polygon fill=\"#383838\" points=\"180,405.06,176,411.06,180,417.06,184,411.06,180,405.06\" style=\"stroke: #383838; stroke-width: 1.0;\"/></a><!--MD5=[185131fc0dcab0a4505a2ebe144e961b]\n",
       "link E4 to E2--><a href=\"psysml:6b545197-59fa-4019-832b-0413d8dfad43\" target=\"_top\" title=\"psysml:6b545197-59fa-4019-832b-0413d8dfad43\" xlink:actuate=\"onRequest\" xlink:href=\"psysml:6b545197-59fa-4019-832b-0413d8dfad43\" xlink:show=\"new\" xlink:title=\"psysml:6b545197-59fa-4019-832b-0413d8dfad43\" xlink:type=\"simple\"><path d=\"M201.27,299.06 C198.23,310.78 194.39,325.57 190.81,339.36 \" fill=\"none\" id=\"E4-&gt;E2\" style=\"stroke: #383838; stroke-width: 1.0;\"/><polygon fill=\"#FFFFFF\" points=\"185.72,358.98,183.7221,338.8303,197.2724,342.3504,185.72,358.98\" style=\"stroke: #383838; stroke-width: 1.0;\"/><ellipse cx=\"187.091\" cy=\"333.8163\" fill=\"#383838\" rx=\"2\" ry=\"2\" style=\"stroke: #383838; stroke-width: 1.0;\"/><ellipse cx=\"196.7698\" cy=\"336.3307\" fill=\"#383838\" rx=\"2\" ry=\"2\" style=\"stroke: #383838; stroke-width: 1.0;\"/></a><!--MD5=[85d356282659285ab4b2cfe2f634dd2b]\n",
       "reverse link E5 to E6--><a href=\"psysml:42a57766-d710-4931-98ca-f2942df4b5a7\" target=\"_top\" title=\"psysml:42a57766-d710-4931-98ca-f2942df4b5a7\" xlink:actuate=\"onRequest\" xlink:href=\"psysml:42a57766-d710-4931-98ca-f2942df4b5a7\" xlink:show=\"new\" xlink:title=\"psysml:42a57766-d710-4931-98ca-f2942df4b5a7\" xlink:type=\"simple\"><path d=\"M65,418.44 C65,433.87 65,451.47 65,464.98 \" fill=\"none\" id=\"E5&lt;-E6\" style=\"stroke: #383838; stroke-width: 1.0;\"/><polygon fill=\"#383838\" points=\"65,405.06,61,411.06,65,417.06,69,411.06,65,405.06\" style=\"stroke: #383838; stroke-width: 1.0;\"/></a><!--MD5=[dc164f5e8a733ab456ef1add180e9e34]\n",
       "reverse link E7 to E8--><a href=\"psysml:ee3500c3-1d32-470f-b6bb-e11a5c090a2b\" target=\"_top\" title=\"psysml:ee3500c3-1d32-470f-b6bb-e11a5c090a2b\" xlink:actuate=\"onRequest\" xlink:href=\"psysml:ee3500c3-1d32-470f-b6bb-e11a5c090a2b\" xlink:show=\"new\" xlink:title=\"psysml:ee3500c3-1d32-470f-b6bb-e11a5c090a2b\" xlink:type=\"simple\"><path d=\"M107.95,205.49 C112.91,221.15 118.64,239.19 123.01,252.98 \" fill=\"none\" id=\"E7&lt;-E8\" style=\"stroke: #383838; stroke-width: 1.0;\"/><polygon fill=\"#383838\" points=\"104,193.06,101.9989,199.9879,107.6243,204.4996,109.6253,197.5717,104,193.06\" style=\"stroke: #383838; stroke-width: 1.0;\"/></a><!--MD5=[f1f3f9f2fc535e6147756cb86a7f2e32]\n",
       "link E8 to E2--><a href=\"psysml:385ac8e9-821f-48a2-9a91-91f0503517ad\" target=\"_top\" title=\"psysml:385ac8e9-821f-48a2-9a91-91f0503517ad\" xlink:actuate=\"onRequest\" xlink:href=\"psysml:385ac8e9-821f-48a2-9a91-91f0503517ad\" xlink:show=\"new\" xlink:title=\"psysml:385ac8e9-821f-48a2-9a91-91f0503517ad\" xlink:type=\"simple\"><path d=\"M140.6,299.06 C146.44,311.19 153.86,326.62 160.68,340.82 \" fill=\"none\" id=\"E8-&gt;E2\" style=\"stroke: #383838; stroke-width: 1.0;\"/><polygon fill=\"#FFFFFF\" points=\"169.41,358.98,154.8709,344.8869,167.4894,338.8228,169.41,358.98\" style=\"stroke: #383838; stroke-width: 1.0;\"/><ellipse cx=\"154.2046\" cy=\"338.8831\" fill=\"#383838\" rx=\"2\" ry=\"2\" style=\"stroke: #383838; stroke-width: 1.0;\"/><ellipse cx=\"163.2178\" cy=\"334.5516\" fill=\"#383838\" rx=\"2\" ry=\"2\" style=\"stroke: #383838; stroke-width: 1.0;\"/></a><!--MD5=[e4a10ef82d0e328e31cac39a31e58dda]\n",
       "reverse link E7 to E9--><a href=\"psysml:4dc3c190-fff9-4cfd-9ec6-604d7dd22971\" target=\"_top\" title=\"psysml:4dc3c190-fff9-4cfd-9ec6-604d7dd22971\" xlink:actuate=\"onRequest\" xlink:href=\"psysml:4dc3c190-fff9-4cfd-9ec6-604d7dd22971\" xlink:show=\"new\" xlink:title=\"psysml:4dc3c190-fff9-4cfd-9ec6-604d7dd22971\" xlink:type=\"simple\"><path d=\"M82.41,205.49 C75.78,221.15 68.15,239.19 62.32,252.98 \" fill=\"none\" id=\"E7&lt;-E9\" style=\"stroke: #383838; stroke-width: 1.0;\"/><polygon fill=\"#383838\" points=\"87.67,193.06,81.6505,197.0305,83.0003,204.1142,89.0199,200.1436,87.67,193.06\" style=\"stroke: #383838; stroke-width: 1.0;\"/></a><!--MD5=[bfc3ddf2e613be37104f658f09af896c]\n",
       "link E9 to E5--><a href=\"psysml:e6457602-7adc-4ee0-a454-eb40d686de5b\" target=\"_top\" title=\"psysml:e6457602-7adc-4ee0-a454-eb40d686de5b\" xlink:actuate=\"onRequest\" xlink:href=\"psysml:e6457602-7adc-4ee0-a454-eb40d686de5b\" xlink:show=\"new\" xlink:title=\"psysml:e6457602-7adc-4ee0-a454-eb40d686de5b\" xlink:type=\"simple\"><path d=\"M55.54,299.06 C56.88,310.64 58.56,325.23 60.14,338.87 \" fill=\"none\" id=\"E9-&gt;E5\" style=\"stroke: #383838; stroke-width: 1.0;\"/><polygon fill=\"#FFFFFF\" points=\"62.46,358.98,53.3347,340.9044,67.243,339.3046,62.46,358.98\" style=\"stroke: #383838; stroke-width: 1.0;\"/><ellipse cx=\"54.6702\" cy=\"335.0132\" fill=\"#383838\" rx=\"2\" ry=\"2\" style=\"stroke: #383838; stroke-width: 1.0;\"/><ellipse cx=\"64.6047\" cy=\"333.8704\" fill=\"#383838\" rx=\"2\" ry=\"2\" style=\"stroke: #383838; stroke-width: 1.0;\"/></a><!--MD5=[a919e0967d6f3de553dc51b9865a1d6d]\n",
       "link E10 to E7--><a href=\"psysml:078c16df-6fb3-4d69-bd0c-6c240437776b\" target=\"_top\" title=\"psysml:078c16df-6fb3-4d69-bd0c-6c240437776b\" xlink:actuate=\"onRequest\" xlink:href=\"psysml:078c16df-6fb3-4d69-bd0c-6c240437776b\" xlink:show=\"new\" xlink:title=\"psysml:078c16df-6fb3-4d69-bd0c-6c240437776b\" xlink:type=\"simple\"><path d=\"M97,87.06 C97,98.64 97,113.23 97,126.87 \" fill=\"none\" id=\"E10-&gt;E7\" style=\"stroke: #383838; stroke-width: 1.0;\"/><polygon fill=\"#FFFFFF\" points=\"97,146.98,90,127.98,104,127.98,97,146.98\" style=\"stroke: #383838; stroke-width: 1.0;\"/><ellipse cx=\"92\" cy=\"122.28\" fill=\"#383838\" rx=\"2\" ry=\"2\" style=\"stroke: #383838; stroke-width: 1.0;\"/><ellipse cx=\"102\" cy=\"122.28\" fill=\"#383838\" rx=\"2\" ry=\"2\" style=\"stroke: #383838; stroke-width: 1.0;\"/></a><!--MD5=[23835be9fc9ce65173ae3e72448cb5bb]\n",
       "@startuml\r\n",
       " skinparam monochrome true\r\n",
       "skinparam classbackgroundcolor white\r\n",
       "skinparam shadowing false\r\n",
       "skinparam wrapWidth 300\r\n",
       "hide circle\r\n",
       "\r\n",
       "package \"Q\" as E1  [[psysml:c58eea24-2ccf-44f2-b6e8-e98c7ec17236 ]]  {\r\n",
       "comp def \"F\" as E2  <<(T,blue)part def>> [[psysml:a4e187a3-203e-405d-be98-97d147693ddf ]] {\r\n",
       "}\r\n",
       "comp usage \"a\" as E3  <<(T,blue)part>> [[psysml:6ada620e-a181-4489-89b5-9a75fb715758 ]] {\r\n",
       "}\r\n",
       "comp usage \"f: F\" as E4  <<(T,blue)part>> [[psysml:90a61716-c53d-4f92-beb5-5068bb9fa1a0 ]] {\r\n",
       "}\r\n",
       "comp def \"A\" as E5  <<(T,blue)part def>> [[psysml:282ebd08-29d1-4bc9-b49b-68a749240d69 ]] {\r\n",
       "}\r\n",
       "comp usage \"g\" as E6  <<(T,blue)part>> [[psysml:ba34075d-eebc-4755-94e7-ca84c5a458cd ]] {\r\n",
       "}\r\n",
       "comp def \"B\" as E7  <<(T,blue)part def>> [[psysml:88191fe6-4f94-4991-8591-be7eb93db47e ]] {\r\n",
       "}\r\n",
       "comp usage \"f: F\" as E8  <<(T,blue)part>> [[psysml:ab65aa6d-a5a6-4b47-8167-56da9e982a64 ]] {\r\n",
       "}\r\n",
       "comp usage \"a: A\" as E9  <<(T,blue)part>> [[psysml:624da0d4-2cfd-4aae-83e5-be6cf87688fa ]] {\r\n",
       "}\r\n",
       "comp usage \"b: B\" as E10  <<(T,blue)part>> [[psysml:5c182589-a5f3-41ec-a644-db6857a5c19a ]] {\r\n",
       "}\r\n",
       "E2 *- - E3 [[psysml:f4f335e8-ebb2-4b93-b8a2-3184b124f9b4 ]] \r\n",
       "E4 - -:|> E2 [[psysml:6b545197-59fa-4019-832b-0413d8dfad43 ]] \r\n",
       "E5 *- - E6 [[psysml:42a57766-d710-4931-98ca-f2942df4b5a7 ]] \r\n",
       "E7 *- - E8 [[psysml:ee3500c3-1d32-470f-b6bb-e11a5c090a2b ]] \r\n",
       "E8 - -:|> E2 [[psysml:385ac8e9-821f-48a2-9a91-91f0503517ad ]] \r\n",
       "E7 *- - E9 [[psysml:4dc3c190-fff9-4cfd-9ec6-604d7dd22971 ]] \r\n",
       "E9 - -:|> E5 [[psysml:e6457602-7adc-4ee0-a454-eb40d686de5b ]] \r\n",
       "E10 - -:|> E7 [[psysml:078c16df-6fb3-4d69-bd0c-6c240437776b ]] \r\n",
       "}\r\n",
       "@enduml\r\n",
       "\n",
       "PlantUML version 1.2020.13(Sat Jun 13 12:26:38 UTC 2020)\n",
       "(EPL source distribution)\n",
       "Java Runtime: OpenJDK Runtime Environment\n",
       "JVM: OpenJDK 64-Bit Server VM\n",
       "Default Encoding: UTF-8\n",
       "Language: en\n",
       "Country: null\n",
       "--></g></svg>"
      ]
     },
     "execution_count": 3,
     "metadata": {},
     "output_type": "execute_result"
    }
   ],
   "source": [
    "%viz --style=\"COMPTREE\" --view=\"Tree\" \"Q\""
   ]
  },
  {
   "cell_type": "code",
   "execution_count": 4,
   "id": "5d23572d",
   "metadata": {
    "execution": {
     "iopub.execute_input": "2021-05-27T06:11:57.668541Z",
     "iopub.status.busy": "2021-05-27T06:11:57.667157Z",
     "iopub.status.idle": "2021-05-27T06:11:57.679575Z",
     "shell.execute_reply": "2021-05-27T06:11:57.678480Z"
    }
   },
   "outputs": [
    {
     "data": {
      "image/svg+xml": [
       "<?xml version=\"1.0\" encoding=\"UTF-8\" standalone=\"no\"?><svg xmlns=\"http://www.w3.org/2000/svg\" xmlns:xlink=\"http://www.w3.org/1999/xlink\" contentScriptType=\"application/ecmascript\" contentStyleType=\"text/css\" height=\"12px\" preserveAspectRatio=\"none\" style=\"width:12px;height:12px;\" version=\"1.1\" viewBox=\"0 0 12 12\" width=\"12px\" zoomAndPan=\"magnify\"><defs/><g><!--MD5=[f19188ef49e11757b5c46753f95d9edc]\n",
       "@startuml\r\n",
       " skinparam monochrome true\r\n",
       "skinparam classbackgroundcolor white\r\n",
       "skinparam shadowing false\r\n",
       "skinparam wrapWidth 300\r\n",
       "hide circle\r\n",
       "\r\n",
       "@enduml\r\n",
       "\n",
       "PlantUML version 1.2020.13(Sat Jun 13 12:26:38 UTC 2020)\n",
       "(EPL source distribution)\n",
       "Java Runtime: OpenJDK Runtime Environment\n",
       "JVM: OpenJDK 64-Bit Server VM\n",
       "Default Encoding: UTF-8\n",
       "Language: en\n",
       "Country: null\n",
       "--></g></svg>"
      ]
     },
     "execution_count": 4,
     "metadata": {},
     "output_type": "execute_result"
    }
   ],
   "source": [
    "%viz --style=\"COMPTREE\" --view=\"State\" \"Q\""
   ]
  },
  {
   "cell_type": "code",
   "execution_count": 5,
   "id": "ceb37b47",
   "metadata": {
    "execution": {
     "iopub.execute_input": "2021-05-27T06:11:57.732302Z",
     "iopub.status.busy": "2021-05-27T06:11:57.731269Z",
     "iopub.status.idle": "2021-05-27T06:11:57.798008Z",
     "shell.execute_reply": "2021-05-27T06:11:57.796836Z"
    }
   },
   "outputs": [
    {
     "data": {
      "image/svg+xml": [
       "<?xml version=\"1.0\" encoding=\"UTF-8\" standalone=\"no\"?><svg xmlns=\"http://www.w3.org/2000/svg\" xmlns:xlink=\"http://www.w3.org/1999/xlink\" contentScriptType=\"application/ecmascript\" contentStyleType=\"text/css\" height=\"192px\" preserveAspectRatio=\"none\" style=\"width:621px;height:192px;\" version=\"1.1\" viewBox=\"0 0 621 192\" width=\"621px\" zoomAndPan=\"magnify\"><defs/><g><!--MD5=[fbc87193dbaf4d95561dea2c320d4a47]\n",
       "cluster E1--><a href=\"psysml:c58eea24-2ccf-44f2-b6e8-e98c7ec17236\" target=\"_top\" title=\"psysml:c58eea24-2ccf-44f2-b6e8-e98c7ec17236\" xlink:actuate=\"onRequest\" xlink:href=\"psysml:c58eea24-2ccf-44f2-b6e8-e98c7ec17236\" xlink:show=\"new\" xlink:title=\"psysml:c58eea24-2ccf-44f2-b6e8-e98c7ec17236\" xlink:type=\"simple\"><polygon fill=\"#FFFFFF\" points=\"16,6,34,6,41,28.2969,599,28.2969,599,180,16,180,16,6\" style=\"stroke: #000000; stroke-width: 1.5;\"/><line style=\"stroke: #000000; stroke-width: 1.5;\" x1=\"16\" x2=\"41\" y1=\"28.2969\" y2=\"28.2969\"/><text fill=\"#000000\" font-family=\"sans-serif\" font-size=\"14\" font-weight=\"bold\" lengthAdjust=\"spacingAndGlyphs\" textLength=\"12\" x=\"20\" y=\"20.9951\">Q</text></a><!--MD5=[e4f7fae6ed58524ba242bb0b0d3be6b7]\n",
       "cluster E2--><a href=\"psysml:a4e187a3-203e-405d-be98-97d147693ddf\" target=\"_top\" title=\"psysml:a4e187a3-203e-405d-be98-97d147693ddf\" xlink:actuate=\"onRequest\" xlink:href=\"psysml:a4e187a3-203e-405d-be98-97d147693ddf\" xlink:show=\"new\" xlink:title=\"psysml:a4e187a3-203e-405d-be98-97d147693ddf\" xlink:type=\"simple\"><rect fill=\"#FFFFFF\" height=\"107\" id=\"E2\" style=\"stroke: #383838; stroke-width: 1.5;\" width=\"87\" x=\"488\" y=\"49\"/><rect fill=\"#F8F8F8\" height=\"37.9375\" style=\"stroke: #383838; stroke-width: 1.5;\" width=\"87\" x=\"488\" y=\"49\"/><text fill=\"#000000\" font-family=\"sans-serif\" font-size=\"12\" font-style=\"italic\" lengthAdjust=\"spacingAndGlyphs\" textLength=\"64\" x=\"499.5\" y=\"65.1387\">«part def»</text><text fill=\"#000000\" font-family=\"sans-serif\" font-size=\"12\" lengthAdjust=\"spacingAndGlyphs\" textLength=\"7\" x=\"528\" y=\"79.1074\">F</text></a><!--MD5=[de5ec2e2e8f62f467e546659f5068c88]\n",
       "cluster E5--><a href=\"psysml:282ebd08-29d1-4bc9-b49b-68a749240d69\" target=\"_top\" title=\"psysml:282ebd08-29d1-4bc9-b49b-68a749240d69\" xlink:actuate=\"onRequest\" xlink:href=\"psysml:282ebd08-29d1-4bc9-b49b-68a749240d69\" xlink:show=\"new\" xlink:title=\"psysml:282ebd08-29d1-4bc9-b49b-68a749240d69\" xlink:type=\"simple\"><rect fill=\"#FFFFFF\" height=\"107\" id=\"E5\" style=\"stroke: #383838; stroke-width: 1.5;\" width=\"87\" x=\"377\" y=\"49\"/><rect fill=\"#F8F8F8\" height=\"37.9375\" style=\"stroke: #383838; stroke-width: 1.5;\" width=\"87\" x=\"377\" y=\"49\"/><text fill=\"#000000\" font-family=\"sans-serif\" font-size=\"12\" font-style=\"italic\" lengthAdjust=\"spacingAndGlyphs\" textLength=\"64\" x=\"388.5\" y=\"65.1387\">«part def»</text><text fill=\"#000000\" font-family=\"sans-serif\" font-size=\"12\" lengthAdjust=\"spacingAndGlyphs\" textLength=\"8\" x=\"416.5\" y=\"79.1074\">A</text></a><!--MD5=[168fadf3d0c3fd93dd5d6da1b1d7ab76]\n",
       "cluster E7--><a href=\"psysml:88191fe6-4f94-4991-8591-be7eb93db47e\" target=\"_top\" title=\"psysml:88191fe6-4f94-4991-8591-be7eb93db47e\" xlink:actuate=\"onRequest\" xlink:href=\"psysml:88191fe6-4f94-4991-8591-be7eb93db47e\" xlink:show=\"new\" xlink:title=\"psysml:88191fe6-4f94-4991-8591-be7eb93db47e\" xlink:type=\"simple\"><rect fill=\"#FFFFFF\" height=\"107\" id=\"E7\" style=\"stroke: #383838; stroke-width: 1.5;\" width=\"167\" x=\"186\" y=\"49\"/><rect fill=\"#F8F8F8\" height=\"37.9375\" style=\"stroke: #383838; stroke-width: 1.5;\" width=\"167\" x=\"186\" y=\"49\"/><text fill=\"#000000\" font-family=\"sans-serif\" font-size=\"12\" font-style=\"italic\" lengthAdjust=\"spacingAndGlyphs\" textLength=\"64\" x=\"237.5\" y=\"65.1387\">«part def»</text><text fill=\"#000000\" font-family=\"sans-serif\" font-size=\"12\" lengthAdjust=\"spacingAndGlyphs\" textLength=\"8\" x=\"265.5\" y=\"79.1074\">B</text></a><g id=\"E1.E2.E3\"><a href=\"psysml:6ada620e-a181-4489-89b5-9a75fb715758\" target=\"_top\" title=\"psysml:6ada620e-a181-4489-89b5-9a75fb715758\" xlink:actuate=\"onRequest\" xlink:href=\"psysml:6ada620e-a181-4489-89b5-9a75fb715758\" xlink:show=\"new\" xlink:title=\"psysml:6ada620e-a181-4489-89b5-9a75fb715758\" xlink:type=\"simple\"><rect fill=\"#FFFFFF\" height=\"40\" id=\"E3\" rx=\"10\" ry=\"10\" style=\"stroke: #383838; stroke-width: 1.5;\" width=\"50\" x=\"506\" y=\"100\"/><rect fill=\"#F8F8F8\" height=\"23.9688\" rx=\"10\" ry=\"10\" style=\"stroke: #F8F8F8; stroke-width: 1.5;\" width=\"50\" x=\"506\" y=\"100\"/><rect fill=\"#F8F8F8\" height=\"10\" style=\"stroke: #F8F8F8; stroke-width: 1.5;\" width=\"50\" x=\"506\" y=\"113.9688\"/><rect fill=\"none\" height=\"40\" id=\"E3\" rx=\"10\" ry=\"10\" style=\"stroke: #383838; stroke-width: 1.5;\" width=\"50\" x=\"506\" y=\"100\"/><text fill=\"#000000\" font-family=\"sans-serif\" font-size=\"12\" lengthAdjust=\"spacingAndGlyphs\" textLength=\"8\" x=\"527\" y=\"116.1387\">a</text></a></g><g id=\"E1.E4\"><a href=\"psysml:90a61716-c53d-4f92-beb5-5068bb9fa1a0\" target=\"_top\" title=\"psysml:90a61716-c53d-4f92-beb5-5068bb9fa1a0\" xlink:actuate=\"onRequest\" xlink:href=\"psysml:90a61716-c53d-4f92-beb5-5068bb9fa1a0\" xlink:show=\"new\" xlink:title=\"psysml:90a61716-c53d-4f92-beb5-5068bb9fa1a0\" xlink:type=\"simple\"><rect fill=\"#FFFFFF\" height=\"40\" id=\"E4\" rx=\"10\" ry=\"10\" style=\"stroke: #383838; stroke-width: 1.5;\" width=\"50\" x=\"117\" y=\"100\"/><rect fill=\"#F8F8F8\" height=\"23.9688\" rx=\"10\" ry=\"10\" style=\"stroke: #F8F8F8; stroke-width: 1.5;\" width=\"50\" x=\"117\" y=\"100\"/><rect fill=\"#F8F8F8\" height=\"10\" style=\"stroke: #F8F8F8; stroke-width: 1.5;\" width=\"50\" x=\"117\" y=\"113.9688\"/><rect fill=\"none\" height=\"40\" id=\"E4\" rx=\"10\" ry=\"10\" style=\"stroke: #383838; stroke-width: 1.5;\" width=\"50\" x=\"117\" y=\"100\"/><text fill=\"#000000\" font-family=\"sans-serif\" font-size=\"12\" lengthAdjust=\"spacingAndGlyphs\" textLength=\"19\" x=\"132.5\" y=\"116.1387\">f: F</text></a></g><g id=\"E1.E5.E6\"><a href=\"psysml:ba34075d-eebc-4755-94e7-ca84c5a458cd\" target=\"_top\" title=\"psysml:ba34075d-eebc-4755-94e7-ca84c5a458cd\" xlink:actuate=\"onRequest\" xlink:href=\"psysml:ba34075d-eebc-4755-94e7-ca84c5a458cd\" xlink:show=\"new\" xlink:title=\"psysml:ba34075d-eebc-4755-94e7-ca84c5a458cd\" xlink:type=\"simple\"><rect fill=\"#FFFFFF\" height=\"40\" id=\"E6\" rx=\"10\" ry=\"10\" style=\"stroke: #383838; stroke-width: 1.5;\" width=\"53\" x=\"393.5\" y=\"100\"/><rect fill=\"#F8F8F8\" height=\"23.9688\" rx=\"10\" ry=\"10\" style=\"stroke: #F8F8F8; stroke-width: 1.5;\" width=\"53\" x=\"393.5\" y=\"100\"/><rect fill=\"#F8F8F8\" height=\"10\" style=\"stroke: #F8F8F8; stroke-width: 1.5;\" width=\"53\" x=\"393.5\" y=\"113.9688\"/><rect fill=\"none\" height=\"40\" id=\"E6\" rx=\"10\" ry=\"10\" style=\"stroke: #383838; stroke-width: 1.5;\" width=\"53\" x=\"393.5\" y=\"100\"/><text fill=\"#000000\" font-family=\"sans-serif\" font-size=\"12\" lengthAdjust=\"spacingAndGlyphs\" textLength=\"38\" x=\"399\" y=\"116.1387\">g=f.a;</text></a></g><g id=\"E1.E7.E8\"><a href=\"psysml:ab65aa6d-a5a6-4b47-8167-56da9e982a64\" target=\"_top\" title=\"psysml:ab65aa6d-a5a6-4b47-8167-56da9e982a64\" xlink:actuate=\"onRequest\" xlink:href=\"psysml:ab65aa6d-a5a6-4b47-8167-56da9e982a64\" xlink:show=\"new\" xlink:title=\"psysml:ab65aa6d-a5a6-4b47-8167-56da9e982a64\" xlink:type=\"simple\"><rect fill=\"#FFFFFF\" height=\"40\" id=\"E8\" rx=\"10\" ry=\"10\" style=\"stroke: #383838; stroke-width: 1.5;\" width=\"50\" x=\"287\" y=\"100\"/><rect fill=\"#F8F8F8\" height=\"23.9688\" rx=\"10\" ry=\"10\" style=\"stroke: #F8F8F8; stroke-width: 1.5;\" width=\"50\" x=\"287\" y=\"100\"/><rect fill=\"#F8F8F8\" height=\"10\" style=\"stroke: #F8F8F8; stroke-width: 1.5;\" width=\"50\" x=\"287\" y=\"113.9688\"/><rect fill=\"none\" height=\"40\" id=\"E8\" rx=\"10\" ry=\"10\" style=\"stroke: #383838; stroke-width: 1.5;\" width=\"50\" x=\"287\" y=\"100\"/><text fill=\"#000000\" font-family=\"sans-serif\" font-size=\"12\" lengthAdjust=\"spacingAndGlyphs\" textLength=\"19\" x=\"302.5\" y=\"116.1387\">f: F</text></a></g><g id=\"E1.E7.E9\"><a href=\"psysml:624da0d4-2cfd-4aae-83e5-be6cf87688fa\" target=\"_top\" title=\"psysml:624da0d4-2cfd-4aae-83e5-be6cf87688fa\" xlink:actuate=\"onRequest\" xlink:href=\"psysml:624da0d4-2cfd-4aae-83e5-be6cf87688fa\" xlink:show=\"new\" xlink:title=\"psysml:624da0d4-2cfd-4aae-83e5-be6cf87688fa\" xlink:type=\"simple\"><rect fill=\"#FFFFFF\" height=\"40\" id=\"E9\" rx=\"10\" ry=\"10\" style=\"stroke: #383838; stroke-width: 1.5;\" width=\"50\" x=\"202\" y=\"100\"/><rect fill=\"#F8F8F8\" height=\"23.9688\" rx=\"10\" ry=\"10\" style=\"stroke: #F8F8F8; stroke-width: 1.5;\" width=\"50\" x=\"202\" y=\"100\"/><rect fill=\"#F8F8F8\" height=\"10\" style=\"stroke: #F8F8F8; stroke-width: 1.5;\" width=\"50\" x=\"202\" y=\"113.9688\"/><rect fill=\"none\" height=\"40\" id=\"E9\" rx=\"10\" ry=\"10\" style=\"stroke: #383838; stroke-width: 1.5;\" width=\"50\" x=\"202\" y=\"100\"/><text fill=\"#000000\" font-family=\"sans-serif\" font-size=\"12\" lengthAdjust=\"spacingAndGlyphs\" textLength=\"24\" x=\"215\" y=\"116.1387\">a: A</text></a></g><g id=\"E1.E10\"><a href=\"psysml:5c182589-a5f3-41ec-a644-db6857a5c19a\" target=\"_top\" title=\"psysml:5c182589-a5f3-41ec-a644-db6857a5c19a\" xlink:actuate=\"onRequest\" xlink:href=\"psysml:5c182589-a5f3-41ec-a644-db6857a5c19a\" xlink:show=\"new\" xlink:title=\"psysml:5c182589-a5f3-41ec-a644-db6857a5c19a\" xlink:type=\"simple\"><rect fill=\"#FFFFFF\" height=\"40\" id=\"E10\" rx=\"10\" ry=\"10\" style=\"stroke: #383838; stroke-width: 1.5;\" width=\"50\" x=\"32\" y=\"100\"/><rect fill=\"#F8F8F8\" height=\"23.9688\" rx=\"10\" ry=\"10\" style=\"stroke: #F8F8F8; stroke-width: 1.5;\" width=\"50\" x=\"32\" y=\"100\"/><rect fill=\"#F8F8F8\" height=\"10\" style=\"stroke: #F8F8F8; stroke-width: 1.5;\" width=\"50\" x=\"32\" y=\"113.9688\"/><rect fill=\"none\" height=\"40\" id=\"E10\" rx=\"10\" ry=\"10\" style=\"stroke: #383838; stroke-width: 1.5;\" width=\"50\" x=\"32\" y=\"100\"/><text fill=\"#000000\" font-family=\"sans-serif\" font-size=\"12\" lengthAdjust=\"spacingAndGlyphs\" textLength=\"24\" x=\"45\" y=\"116.1387\">b: B</text></a></g><!--MD5=[68b6e49cbe706e3ecbfe06c93c584c54]\n",
       "@startuml\r\n",
       "skinparam ranksep 10\r\n",
       "skinparam rectangle {\r\n",
       " backgroundColor<<block>> LightGreen\r\n",
       "}\r\n",
       " skinparam monochrome true\r\n",
       "skinparam classbackgroundcolor white\r\n",
       "skinparam shadowing false\r\n",
       "skinparam wrapWidth 300\r\n",
       "hide circle\r\n",
       "\r\n",
       "package \"Q\" as E1  [[psysml:c58eea24-2ccf-44f2-b6e8-e98c7ec17236 ]]  {\r\n",
       "rec def \"F\" as E2  <<(T,blue)part def>> [[psysml:a4e187a3-203e-405d-be98-97d147693ddf ]] {\r\n",
       "rec usage \"a\" as E3  [[psysml:6ada620e-a181-4489-89b5-9a75fb715758 ]] {\r\n",
       "}\r\n",
       "}\r\n",
       "rec usage \"f: F\" as E4  [[psysml:90a61716-c53d-4f92-beb5-5068bb9fa1a0 ]] {\r\n",
       "}\r\n",
       "rec def \"A\" as E5  <<(T,blue)part def>> [[psysml:282ebd08-29d1-4bc9-b49b-68a749240d69 ]] {\r\n",
       "rec usage \"g=f.a; \" as E6  [[psysml:ba34075d-eebc-4755-94e7-ca84c5a458cd ]] {\r\n",
       "}\r\n",
       "}\r\n",
       "rec def \"B\" as E7  <<(T,blue)part def>> [[psysml:88191fe6-4f94-4991-8591-be7eb93db47e ]] {\r\n",
       "rec usage \"f: F\" as E8  [[psysml:ab65aa6d-a5a6-4b47-8167-56da9e982a64 ]] {\r\n",
       "}\r\n",
       "rec usage \"a: A\" as E9  [[psysml:624da0d4-2cfd-4aae-83e5-be6cf87688fa ]] {\r\n",
       "}\r\n",
       "}\r\n",
       "rec usage \"b: B\" as E10  [[psysml:5c182589-a5f3-41ec-a644-db6857a5c19a ]] {\r\n",
       "}\r\n",
       "}\r\n",
       "@enduml\r\n",
       "\n",
       "PlantUML version 1.2020.13(Sat Jun 13 12:26:38 UTC 2020)\n",
       "(EPL source distribution)\n",
       "Java Runtime: OpenJDK Runtime Environment\n",
       "JVM: OpenJDK 64-Bit Server VM\n",
       "Default Encoding: UTF-8\n",
       "Language: en\n",
       "Country: null\n",
       "--></g></svg>"
      ]
     },
     "execution_count": 5,
     "metadata": {},
     "output_type": "execute_result"
    }
   ],
   "source": [
    "%viz --style=\"COMPTREE\" --view=\"Interconnection\" \"Q\""
   ]
  },
  {
   "cell_type": "code",
   "execution_count": 6,
   "id": "955e25e0",
   "metadata": {
    "execution": {
     "iopub.execute_input": "2021-05-27T06:11:57.850674Z",
     "iopub.status.busy": "2021-05-27T06:11:57.849528Z",
     "iopub.status.idle": "2021-05-27T06:11:57.859565Z",
     "shell.execute_reply": "2021-05-27T06:11:57.859153Z"
    }
   },
   "outputs": [
    {
     "data": {
      "image/svg+xml": [
       "<?xml version=\"1.0\" encoding=\"UTF-8\" standalone=\"no\"?><svg xmlns=\"http://www.w3.org/2000/svg\" xmlns:xlink=\"http://www.w3.org/1999/xlink\" contentScriptType=\"application/ecmascript\" contentStyleType=\"text/css\" height=\"12px\" preserveAspectRatio=\"none\" style=\"width:12px;height:12px;\" version=\"1.1\" viewBox=\"0 0 12 12\" width=\"12px\" zoomAndPan=\"magnify\"><defs/><g><!--MD5=[655b888544ca4751ea36af1068543f84]\n",
       "@startuml\r\n",
       "skinparam ranksep 8\r\n",
       " skinparam monochrome true\r\n",
       "skinparam classbackgroundcolor white\r\n",
       "skinparam shadowing false\r\n",
       "skinparam wrapWidth 300\r\n",
       "hide circle\r\n",
       "\r\n",
       "@enduml\r\n",
       "\n",
       "PlantUML version 1.2020.13(Sat Jun 13 12:26:38 UTC 2020)\n",
       "(EPL source distribution)\n",
       "Java Runtime: OpenJDK Runtime Environment\n",
       "JVM: OpenJDK 64-Bit Server VM\n",
       "Default Encoding: UTF-8\n",
       "Language: en\n",
       "Country: null\n",
       "--></g></svg>"
      ]
     },
     "execution_count": 6,
     "metadata": {},
     "output_type": "execute_result"
    }
   ],
   "source": [
    "%viz --style=\"COMPTREE\" --view=\"Action\" \"Q\""
   ]
  },
  {
   "cell_type": "code",
   "execution_count": 7,
   "id": "0adcd5d7",
   "metadata": {
    "execution": {
     "iopub.execute_input": "2021-05-27T06:11:57.914431Z",
     "iopub.status.busy": "2021-05-27T06:11:57.913739Z",
     "iopub.status.idle": "2021-05-27T06:11:57.993778Z",
     "shell.execute_reply": "2021-05-27T06:11:57.992424Z"
    }
   },
   "outputs": [
    {
     "data": {
      "image/svg+xml": [
       "<?xml version=\"1.0\" encoding=\"UTF-8\" standalone=\"no\"?><svg xmlns=\"http://www.w3.org/2000/svg\" xmlns:xlink=\"http://www.w3.org/1999/xlink\" contentScriptType=\"application/ecmascript\" contentStyleType=\"text/css\" height=\"539px\" preserveAspectRatio=\"none\" style=\"width:266px;height:539px;\" version=\"1.1\" viewBox=\"0 0 266 539\" width=\"266px\" zoomAndPan=\"magnify\"><defs/><g><!--MD5=[fbc87193dbaf4d95561dea2c320d4a47]\n",
       "cluster E1--><a href=\"psysml:c58eea24-2ccf-44f2-b6e8-e98c7ec17236\" target=\"_top\" title=\"psysml:c58eea24-2ccf-44f2-b6e8-e98c7ec17236\" xlink:actuate=\"onRequest\" xlink:href=\"psysml:c58eea24-2ccf-44f2-b6e8-e98c7ec17236\" xlink:show=\"new\" xlink:title=\"psysml:c58eea24-2ccf-44f2-b6e8-e98c7ec17236\" xlink:type=\"simple\"><polygon fill=\"#FFFFFF\" points=\"16,6,34,6,41,28.2969,244,28.2969,244,527,16,527,16,6\" style=\"stroke: #000000; stroke-width: 1.5;\"/><line style=\"stroke: #000000; stroke-width: 1.5;\" x1=\"16\" x2=\"41\" y1=\"28.2969\" y2=\"28.2969\"/><text fill=\"#000000\" font-family=\"sans-serif\" font-size=\"14\" font-weight=\"bold\" lengthAdjust=\"spacingAndGlyphs\" textLength=\"12\" x=\"20\" y=\"20.9951\">Q</text></a><!--MD5=[b4997ac47864f28c2f74865a473b2911]\n",
       "class E2--><a href=\"psysml:a4e187a3-203e-405d-be98-97d147693ddf\" target=\"_top\" title=\"psysml:a4e187a3-203e-405d-be98-97d147693ddf\" xlink:actuate=\"onRequest\" xlink:href=\"psysml:a4e187a3-203e-405d-be98-97d147693ddf\" xlink:show=\"new\" xlink:title=\"psysml:a4e187a3-203e-405d-be98-97d147693ddf\" xlink:type=\"simple\"><rect fill=\"#FFFFFF\" height=\"45.9375\" id=\"E2\" style=\"stroke: #383838; stroke-width: 1.5;\" width=\"66\" x=\"147\" y=\"359\"/><text fill=\"#000000\" font-family=\"sans-serif\" font-size=\"12\" font-style=\"italic\" lengthAdjust=\"spacingAndGlyphs\" textLength=\"64\" x=\"148\" y=\"375.1387\">«part def»</text><text fill=\"#000000\" font-family=\"sans-serif\" font-size=\"12\" lengthAdjust=\"spacingAndGlyphs\" textLength=\"7\" x=\"176.5\" y=\"389.1074\">F</text><line style=\"stroke: #383838; stroke-width: 1.5;\" x1=\"148\" x2=\"212\" y1=\"396.9375\" y2=\"396.9375\"/></a><!--MD5=[09b614a08d8cba4a07c9adeb5e0fee81]\n",
       "class E3--><a href=\"psysml:6ada620e-a181-4489-89b5-9a75fb715758\" target=\"_top\" title=\"psysml:6ada620e-a181-4489-89b5-9a75fb715758\" xlink:actuate=\"onRequest\" xlink:href=\"psysml:6ada620e-a181-4489-89b5-9a75fb715758\" xlink:show=\"new\" xlink:title=\"psysml:6ada620e-a181-4489-89b5-9a75fb715758\" xlink:type=\"simple\"><rect fill=\"#FFFFFF\" height=\"45.9375\" id=\"E3\" rx=\"10\" ry=\"10\" style=\"stroke: #383838; stroke-width: 1.5;\" width=\"42\" x=\"159\" y=\"465\"/><text fill=\"#000000\" font-family=\"sans-serif\" font-size=\"12\" font-style=\"italic\" lengthAdjust=\"spacingAndGlyphs\" textLength=\"40\" x=\"160\" y=\"481.1387\">«part»</text><text fill=\"#000000\" font-family=\"sans-serif\" font-size=\"12\" lengthAdjust=\"spacingAndGlyphs\" textLength=\"8\" x=\"176\" y=\"495.1074\">a</text><line style=\"stroke: #383838; stroke-width: 1.5;\" x1=\"160\" x2=\"200\" y1=\"502.9375\" y2=\"502.9375\"/></a><!--MD5=[ebbe1d658d1005bcc118a6aa81145e00]\n",
       "class E4--><a href=\"psysml:90a61716-c53d-4f92-beb5-5068bb9fa1a0\" target=\"_top\" title=\"psysml:90a61716-c53d-4f92-beb5-5068bb9fa1a0\" xlink:actuate=\"onRequest\" xlink:href=\"psysml:90a61716-c53d-4f92-beb5-5068bb9fa1a0\" xlink:show=\"new\" xlink:title=\"psysml:90a61716-c53d-4f92-beb5-5068bb9fa1a0\" xlink:type=\"simple\"><rect fill=\"#FFFFFF\" height=\"45.9375\" id=\"E4\" rx=\"10\" ry=\"10\" style=\"stroke: #383838; stroke-width: 1.5;\" width=\"42\" x=\"186\" y=\"253\"/><text fill=\"#000000\" font-family=\"sans-serif\" font-size=\"12\" font-style=\"italic\" lengthAdjust=\"spacingAndGlyphs\" textLength=\"40\" x=\"187\" y=\"269.1387\">«part»</text><text fill=\"#000000\" font-family=\"sans-serif\" font-size=\"12\" lengthAdjust=\"spacingAndGlyphs\" textLength=\"19\" x=\"197.5\" y=\"283.1074\">f: F</text><line style=\"stroke: #383838; stroke-width: 1.5;\" x1=\"187\" x2=\"227\" y1=\"290.9375\" y2=\"290.9375\"/></a><!--MD5=[270fce915f116d4de14055a7c1d9a0f3]\n",
       "class E5--><a href=\"psysml:282ebd08-29d1-4bc9-b49b-68a749240d69\" target=\"_top\" title=\"psysml:282ebd08-29d1-4bc9-b49b-68a749240d69\" xlink:actuate=\"onRequest\" xlink:href=\"psysml:282ebd08-29d1-4bc9-b49b-68a749240d69\" xlink:show=\"new\" xlink:title=\"psysml:282ebd08-29d1-4bc9-b49b-68a749240d69\" xlink:type=\"simple\"><rect fill=\"#FFFFFF\" height=\"45.9375\" id=\"E5\" style=\"stroke: #383838; stroke-width: 1.5;\" width=\"66\" x=\"32\" y=\"359\"/><text fill=\"#000000\" font-family=\"sans-serif\" font-size=\"12\" font-style=\"italic\" lengthAdjust=\"spacingAndGlyphs\" textLength=\"64\" x=\"33\" y=\"375.1387\">«part def»</text><text fill=\"#000000\" font-family=\"sans-serif\" font-size=\"12\" lengthAdjust=\"spacingAndGlyphs\" textLength=\"8\" x=\"61\" y=\"389.1074\">A</text><line style=\"stroke: #383838; stroke-width: 1.5;\" x1=\"33\" x2=\"97\" y1=\"396.9375\" y2=\"396.9375\"/></a><!--MD5=[60a26617385b1d2d0262a64233df1f8d]\n",
       "class E6--><a href=\"psysml:ba34075d-eebc-4755-94e7-ca84c5a458cd\" target=\"_top\" title=\"psysml:ba34075d-eebc-4755-94e7-ca84c5a458cd\" xlink:actuate=\"onRequest\" xlink:href=\"psysml:ba34075d-eebc-4755-94e7-ca84c5a458cd\" xlink:show=\"new\" xlink:title=\"psysml:ba34075d-eebc-4755-94e7-ca84c5a458cd\" xlink:type=\"simple\"><rect fill=\"#FFFFFF\" height=\"45.9375\" id=\"E6\" rx=\"10\" ry=\"10\" style=\"stroke: #383838; stroke-width: 1.5;\" width=\"42\" x=\"44\" y=\"465\"/><text fill=\"#000000\" font-family=\"sans-serif\" font-size=\"12\" font-style=\"italic\" lengthAdjust=\"spacingAndGlyphs\" textLength=\"40\" x=\"45\" y=\"481.1387\">«part»</text><text fill=\"#000000\" font-family=\"sans-serif\" font-size=\"12\" lengthAdjust=\"spacingAndGlyphs\" textLength=\"8\" x=\"61\" y=\"495.1074\">g</text><line style=\"stroke: #383838; stroke-width: 1.5;\" x1=\"45\" x2=\"85\" y1=\"502.9375\" y2=\"502.9375\"/></a><!--MD5=[2156ba9850f5573cc1fc38a6a4b2f02b]\n",
       "class E7--><a href=\"psysml:88191fe6-4f94-4991-8591-be7eb93db47e\" target=\"_top\" title=\"psysml:88191fe6-4f94-4991-8591-be7eb93db47e\" xlink:actuate=\"onRequest\" xlink:href=\"psysml:88191fe6-4f94-4991-8591-be7eb93db47e\" xlink:show=\"new\" xlink:title=\"psysml:88191fe6-4f94-4991-8591-be7eb93db47e\" xlink:type=\"simple\"><rect fill=\"#FFFFFF\" height=\"45.9375\" id=\"E7\" style=\"stroke: #383838; stroke-width: 1.5;\" width=\"66\" x=\"64\" y=\"147\"/><text fill=\"#000000\" font-family=\"sans-serif\" font-size=\"12\" font-style=\"italic\" lengthAdjust=\"spacingAndGlyphs\" textLength=\"64\" x=\"65\" y=\"163.1387\">«part def»</text><text fill=\"#000000\" font-family=\"sans-serif\" font-size=\"12\" lengthAdjust=\"spacingAndGlyphs\" textLength=\"8\" x=\"93\" y=\"177.1074\">B</text><line style=\"stroke: #383838; stroke-width: 1.5;\" x1=\"65\" x2=\"129\" y1=\"184.9375\" y2=\"184.9375\"/></a><!--MD5=[b9389687b975829384b498ac4b7476b2]\n",
       "class E8--><a href=\"psysml:ab65aa6d-a5a6-4b47-8167-56da9e982a64\" target=\"_top\" title=\"psysml:ab65aa6d-a5a6-4b47-8167-56da9e982a64\" xlink:actuate=\"onRequest\" xlink:href=\"psysml:ab65aa6d-a5a6-4b47-8167-56da9e982a64\" xlink:show=\"new\" xlink:title=\"psysml:ab65aa6d-a5a6-4b47-8167-56da9e982a64\" xlink:type=\"simple\"><rect fill=\"#FFFFFF\" height=\"45.9375\" id=\"E8\" rx=\"10\" ry=\"10\" style=\"stroke: #383838; stroke-width: 1.5;\" width=\"42\" x=\"109\" y=\"253\"/><text fill=\"#000000\" font-family=\"sans-serif\" font-size=\"12\" font-style=\"italic\" lengthAdjust=\"spacingAndGlyphs\" textLength=\"40\" x=\"110\" y=\"269.1387\">«part»</text><text fill=\"#000000\" font-family=\"sans-serif\" font-size=\"12\" lengthAdjust=\"spacingAndGlyphs\" textLength=\"19\" x=\"120.5\" y=\"283.1074\">f: F</text><line style=\"stroke: #383838; stroke-width: 1.5;\" x1=\"110\" x2=\"150\" y1=\"290.9375\" y2=\"290.9375\"/></a><!--MD5=[fd4143e9d270a159db93a4ea2a975926]\n",
       "class E9--><a href=\"psysml:624da0d4-2cfd-4aae-83e5-be6cf87688fa\" target=\"_top\" title=\"psysml:624da0d4-2cfd-4aae-83e5-be6cf87688fa\" xlink:actuate=\"onRequest\" xlink:href=\"psysml:624da0d4-2cfd-4aae-83e5-be6cf87688fa\" xlink:show=\"new\" xlink:title=\"psysml:624da0d4-2cfd-4aae-83e5-be6cf87688fa\" xlink:type=\"simple\"><rect fill=\"#FFFFFF\" height=\"45.9375\" id=\"E9\" rx=\"10\" ry=\"10\" style=\"stroke: #383838; stroke-width: 1.5;\" width=\"42\" x=\"32\" y=\"253\"/><text fill=\"#000000\" font-family=\"sans-serif\" font-size=\"12\" font-style=\"italic\" lengthAdjust=\"spacingAndGlyphs\" textLength=\"40\" x=\"33\" y=\"269.1387\">«part»</text><text fill=\"#000000\" font-family=\"sans-serif\" font-size=\"12\" lengthAdjust=\"spacingAndGlyphs\" textLength=\"24\" x=\"41\" y=\"283.1074\">a: A</text><line style=\"stroke: #383838; stroke-width: 1.5;\" x1=\"33\" x2=\"73\" y1=\"290.9375\" y2=\"290.9375\"/></a><!--MD5=[96f4274e9e20536e775497830990834d]\n",
       "class E10--><a href=\"psysml:5c182589-a5f3-41ec-a644-db6857a5c19a\" target=\"_top\" title=\"psysml:5c182589-a5f3-41ec-a644-db6857a5c19a\" xlink:actuate=\"onRequest\" xlink:href=\"psysml:5c182589-a5f3-41ec-a644-db6857a5c19a\" xlink:show=\"new\" xlink:title=\"psysml:5c182589-a5f3-41ec-a644-db6857a5c19a\" xlink:type=\"simple\"><rect fill=\"#FFFFFF\" height=\"45.9375\" id=\"E10\" rx=\"10\" ry=\"10\" style=\"stroke: #383838; stroke-width: 1.5;\" width=\"42\" x=\"76\" y=\"41\"/><text fill=\"#000000\" font-family=\"sans-serif\" font-size=\"12\" font-style=\"italic\" lengthAdjust=\"spacingAndGlyphs\" textLength=\"40\" x=\"77\" y=\"57.1387\">«part»</text><text fill=\"#000000\" font-family=\"sans-serif\" font-size=\"12\" lengthAdjust=\"spacingAndGlyphs\" textLength=\"24\" x=\"85\" y=\"71.1074\">b: B</text><line style=\"stroke: #383838; stroke-width: 1.5;\" x1=\"77\" x2=\"117\" y1=\"78.9375\" y2=\"78.9375\"/></a><!--MD5=[209b3feb70ccb6233bfe1053d122c12c]\n",
       "reverse link E2 to E3--><a href=\"psysml:f4f335e8-ebb2-4b93-b8a2-3184b124f9b4\" target=\"_top\" title=\"psysml:f4f335e8-ebb2-4b93-b8a2-3184b124f9b4\" xlink:actuate=\"onRequest\" xlink:href=\"psysml:f4f335e8-ebb2-4b93-b8a2-3184b124f9b4\" xlink:show=\"new\" xlink:title=\"psysml:f4f335e8-ebb2-4b93-b8a2-3184b124f9b4\" xlink:type=\"simple\"><path d=\"M180,418.44 C180,433.87 180,451.47 180,464.98 \" fill=\"none\" id=\"E2&lt;-E3\" style=\"stroke: #383838; stroke-width: 1.0;\"/><polygon fill=\"#383838\" points=\"180,405.06,176,411.06,180,417.06,184,411.06,180,405.06\" style=\"stroke: #383838; stroke-width: 1.0;\"/></a><!--MD5=[185131fc0dcab0a4505a2ebe144e961b]\n",
       "link E4 to E2--><a href=\"psysml:6b545197-59fa-4019-832b-0413d8dfad43\" target=\"_top\" title=\"psysml:6b545197-59fa-4019-832b-0413d8dfad43\" xlink:actuate=\"onRequest\" xlink:href=\"psysml:6b545197-59fa-4019-832b-0413d8dfad43\" xlink:show=\"new\" xlink:title=\"psysml:6b545197-59fa-4019-832b-0413d8dfad43\" xlink:type=\"simple\"><path d=\"M201.27,299.06 C198.23,310.78 194.39,325.57 190.81,339.36 \" fill=\"none\" id=\"E4-&gt;E2\" style=\"stroke: #383838; stroke-width: 1.0;\"/><polygon fill=\"#FFFFFF\" points=\"185.72,358.98,183.7221,338.8303,197.2724,342.3504,185.72,358.98\" style=\"stroke: #383838; stroke-width: 1.0;\"/><ellipse cx=\"187.091\" cy=\"333.8163\" fill=\"#383838\" rx=\"2\" ry=\"2\" style=\"stroke: #383838; stroke-width: 1.0;\"/><ellipse cx=\"196.7698\" cy=\"336.3307\" fill=\"#383838\" rx=\"2\" ry=\"2\" style=\"stroke: #383838; stroke-width: 1.0;\"/></a><!--MD5=[85d356282659285ab4b2cfe2f634dd2b]\n",
       "reverse link E5 to E6--><a href=\"psysml:42a57766-d710-4931-98ca-f2942df4b5a7\" target=\"_top\" title=\"psysml:42a57766-d710-4931-98ca-f2942df4b5a7\" xlink:actuate=\"onRequest\" xlink:href=\"psysml:42a57766-d710-4931-98ca-f2942df4b5a7\" xlink:show=\"new\" xlink:title=\"psysml:42a57766-d710-4931-98ca-f2942df4b5a7\" xlink:type=\"simple\"><path d=\"M65,418.44 C65,433.87 65,451.47 65,464.98 \" fill=\"none\" id=\"E5&lt;-E6\" style=\"stroke: #383838; stroke-width: 1.0;\"/><polygon fill=\"#383838\" points=\"65,405.06,61,411.06,65,417.06,69,411.06,65,405.06\" style=\"stroke: #383838; stroke-width: 1.0;\"/></a><!--MD5=[dc164f5e8a733ab456ef1add180e9e34]\n",
       "reverse link E7 to E8--><a href=\"psysml:ee3500c3-1d32-470f-b6bb-e11a5c090a2b\" target=\"_top\" title=\"psysml:ee3500c3-1d32-470f-b6bb-e11a5c090a2b\" xlink:actuate=\"onRequest\" xlink:href=\"psysml:ee3500c3-1d32-470f-b6bb-e11a5c090a2b\" xlink:show=\"new\" xlink:title=\"psysml:ee3500c3-1d32-470f-b6bb-e11a5c090a2b\" xlink:type=\"simple\"><path d=\"M107.95,205.49 C112.91,221.15 118.64,239.19 123.01,252.98 \" fill=\"none\" id=\"E7&lt;-E8\" style=\"stroke: #383838; stroke-width: 1.0;\"/><polygon fill=\"#383838\" points=\"104,193.06,101.9989,199.9879,107.6243,204.4996,109.6253,197.5717,104,193.06\" style=\"stroke: #383838; stroke-width: 1.0;\"/></a><!--MD5=[f1f3f9f2fc535e6147756cb86a7f2e32]\n",
       "link E8 to E2--><a href=\"psysml:385ac8e9-821f-48a2-9a91-91f0503517ad\" target=\"_top\" title=\"psysml:385ac8e9-821f-48a2-9a91-91f0503517ad\" xlink:actuate=\"onRequest\" xlink:href=\"psysml:385ac8e9-821f-48a2-9a91-91f0503517ad\" xlink:show=\"new\" xlink:title=\"psysml:385ac8e9-821f-48a2-9a91-91f0503517ad\" xlink:type=\"simple\"><path d=\"M140.6,299.06 C146.44,311.19 153.86,326.62 160.68,340.82 \" fill=\"none\" id=\"E8-&gt;E2\" style=\"stroke: #383838; stroke-width: 1.0;\"/><polygon fill=\"#FFFFFF\" points=\"169.41,358.98,154.8709,344.8869,167.4894,338.8228,169.41,358.98\" style=\"stroke: #383838; stroke-width: 1.0;\"/><ellipse cx=\"154.2046\" cy=\"338.8831\" fill=\"#383838\" rx=\"2\" ry=\"2\" style=\"stroke: #383838; stroke-width: 1.0;\"/><ellipse cx=\"163.2178\" cy=\"334.5516\" fill=\"#383838\" rx=\"2\" ry=\"2\" style=\"stroke: #383838; stroke-width: 1.0;\"/></a><!--MD5=[e4a10ef82d0e328e31cac39a31e58dda]\n",
       "reverse link E7 to E9--><a href=\"psysml:4dc3c190-fff9-4cfd-9ec6-604d7dd22971\" target=\"_top\" title=\"psysml:4dc3c190-fff9-4cfd-9ec6-604d7dd22971\" xlink:actuate=\"onRequest\" xlink:href=\"psysml:4dc3c190-fff9-4cfd-9ec6-604d7dd22971\" xlink:show=\"new\" xlink:title=\"psysml:4dc3c190-fff9-4cfd-9ec6-604d7dd22971\" xlink:type=\"simple\"><path d=\"M82.41,205.49 C75.78,221.15 68.15,239.19 62.32,252.98 \" fill=\"none\" id=\"E7&lt;-E9\" style=\"stroke: #383838; stroke-width: 1.0;\"/><polygon fill=\"#383838\" points=\"87.67,193.06,81.6505,197.0305,83.0003,204.1142,89.0199,200.1436,87.67,193.06\" style=\"stroke: #383838; stroke-width: 1.0;\"/></a><!--MD5=[bfc3ddf2e613be37104f658f09af896c]\n",
       "link E9 to E5--><a href=\"psysml:e6457602-7adc-4ee0-a454-eb40d686de5b\" target=\"_top\" title=\"psysml:e6457602-7adc-4ee0-a454-eb40d686de5b\" xlink:actuate=\"onRequest\" xlink:href=\"psysml:e6457602-7adc-4ee0-a454-eb40d686de5b\" xlink:show=\"new\" xlink:title=\"psysml:e6457602-7adc-4ee0-a454-eb40d686de5b\" xlink:type=\"simple\"><path d=\"M55.54,299.06 C56.88,310.64 58.56,325.23 60.14,338.87 \" fill=\"none\" id=\"E9-&gt;E5\" style=\"stroke: #383838; stroke-width: 1.0;\"/><polygon fill=\"#FFFFFF\" points=\"62.46,358.98,53.3347,340.9044,67.243,339.3046,62.46,358.98\" style=\"stroke: #383838; stroke-width: 1.0;\"/><ellipse cx=\"54.6702\" cy=\"335.0132\" fill=\"#383838\" rx=\"2\" ry=\"2\" style=\"stroke: #383838; stroke-width: 1.0;\"/><ellipse cx=\"64.6047\" cy=\"333.8704\" fill=\"#383838\" rx=\"2\" ry=\"2\" style=\"stroke: #383838; stroke-width: 1.0;\"/></a><!--MD5=[a919e0967d6f3de553dc51b9865a1d6d]\n",
       "link E10 to E7--><a href=\"psysml:078c16df-6fb3-4d69-bd0c-6c240437776b\" target=\"_top\" title=\"psysml:078c16df-6fb3-4d69-bd0c-6c240437776b\" xlink:actuate=\"onRequest\" xlink:href=\"psysml:078c16df-6fb3-4d69-bd0c-6c240437776b\" xlink:show=\"new\" xlink:title=\"psysml:078c16df-6fb3-4d69-bd0c-6c240437776b\" xlink:type=\"simple\"><path d=\"M97,87.06 C97,98.64 97,113.23 97,126.87 \" fill=\"none\" id=\"E10-&gt;E7\" style=\"stroke: #383838; stroke-width: 1.0;\"/><polygon fill=\"#FFFFFF\" points=\"97,146.98,90,127.98,104,127.98,97,146.98\" style=\"stroke: #383838; stroke-width: 1.0;\"/><ellipse cx=\"92\" cy=\"122.28\" fill=\"#383838\" rx=\"2\" ry=\"2\" style=\"stroke: #383838; stroke-width: 1.0;\"/><ellipse cx=\"102\" cy=\"122.28\" fill=\"#383838\" rx=\"2\" ry=\"2\" style=\"stroke: #383838; stroke-width: 1.0;\"/></a><!--MD5=[23835be9fc9ce65173ae3e72448cb5bb]\n",
       "@startuml\r\n",
       " skinparam monochrome true\r\n",
       "skinparam classbackgroundcolor white\r\n",
       "skinparam shadowing false\r\n",
       "skinparam wrapWidth 300\r\n",
       "hide circle\r\n",
       "\r\n",
       "package \"Q\" as E1  [[psysml:c58eea24-2ccf-44f2-b6e8-e98c7ec17236 ]]  {\r\n",
       "comp def \"F\" as E2  <<(T,blue)part def>> [[psysml:a4e187a3-203e-405d-be98-97d147693ddf ]] {\r\n",
       "}\r\n",
       "comp usage \"a\" as E3  <<(T,blue)part>> [[psysml:6ada620e-a181-4489-89b5-9a75fb715758 ]] {\r\n",
       "}\r\n",
       "comp usage \"f: F\" as E4  <<(T,blue)part>> [[psysml:90a61716-c53d-4f92-beb5-5068bb9fa1a0 ]] {\r\n",
       "}\r\n",
       "comp def \"A\" as E5  <<(T,blue)part def>> [[psysml:282ebd08-29d1-4bc9-b49b-68a749240d69 ]] {\r\n",
       "}\r\n",
       "comp usage \"g\" as E6  <<(T,blue)part>> [[psysml:ba34075d-eebc-4755-94e7-ca84c5a458cd ]] {\r\n",
       "}\r\n",
       "comp def \"B\" as E7  <<(T,blue)part def>> [[psysml:88191fe6-4f94-4991-8591-be7eb93db47e ]] {\r\n",
       "}\r\n",
       "comp usage \"f: F\" as E8  <<(T,blue)part>> [[psysml:ab65aa6d-a5a6-4b47-8167-56da9e982a64 ]] {\r\n",
       "}\r\n",
       "comp usage \"a: A\" as E9  <<(T,blue)part>> [[psysml:624da0d4-2cfd-4aae-83e5-be6cf87688fa ]] {\r\n",
       "}\r\n",
       "comp usage \"b: B\" as E10  <<(T,blue)part>> [[psysml:5c182589-a5f3-41ec-a644-db6857a5c19a ]] {\r\n",
       "}\r\n",
       "E2 *- - E3 [[psysml:f4f335e8-ebb2-4b93-b8a2-3184b124f9b4 ]] \r\n",
       "E4 - -:|> E2 [[psysml:6b545197-59fa-4019-832b-0413d8dfad43 ]] \r\n",
       "E5 *- - E6 [[psysml:42a57766-d710-4931-98ca-f2942df4b5a7 ]] \r\n",
       "E7 *- - E8 [[psysml:ee3500c3-1d32-470f-b6bb-e11a5c090a2b ]] \r\n",
       "E8 - -:|> E2 [[psysml:385ac8e9-821f-48a2-9a91-91f0503517ad ]] \r\n",
       "E7 *- - E9 [[psysml:4dc3c190-fff9-4cfd-9ec6-604d7dd22971 ]] \r\n",
       "E9 - -:|> E5 [[psysml:e6457602-7adc-4ee0-a454-eb40d686de5b ]] \r\n",
       "E10 - -:|> E7 [[psysml:078c16df-6fb3-4d69-bd0c-6c240437776b ]] \r\n",
       "}\r\n",
       "@enduml\r\n",
       "\n",
       "PlantUML version 1.2020.13(Sat Jun 13 12:26:38 UTC 2020)\n",
       "(EPL source distribution)\n",
       "Java Runtime: OpenJDK Runtime Environment\n",
       "JVM: OpenJDK 64-Bit Server VM\n",
       "Default Encoding: UTF-8\n",
       "Language: en\n",
       "Country: null\n",
       "--></g></svg>"
      ]
     },
     "execution_count": 7,
     "metadata": {},
     "output_type": "execute_result"
    }
   ],
   "source": [
    "%viz --style=\"COMPTREE\" --view=\"Sequence\" \"Q\""
   ]
  },
  {
   "cell_type": "code",
   "execution_count": 8,
   "id": "8cd20c2d",
   "metadata": {
    "execution": {
     "iopub.execute_input": "2021-05-27T06:11:58.046896Z",
     "iopub.status.busy": "2021-05-27T06:11:58.045847Z",
     "iopub.status.idle": "2021-05-27T06:11:58.101959Z",
     "shell.execute_reply": "2021-05-27T06:11:58.099972Z"
    }
   },
   "outputs": [
    {
     "data": {
      "image/svg+xml": [
       "<?xml version=\"1.0\" encoding=\"UTF-8\" standalone=\"no\"?><svg xmlns=\"http://www.w3.org/2000/svg\" xmlns:xlink=\"http://www.w3.org/1999/xlink\" contentScriptType=\"application/ecmascript\" contentStyleType=\"text/css\" height=\"539px\" preserveAspectRatio=\"none\" style=\"width:266px;height:539px;\" version=\"1.1\" viewBox=\"0 0 266 539\" width=\"266px\" zoomAndPan=\"magnify\"><defs/><g><!--MD5=[fbc87193dbaf4d95561dea2c320d4a47]\n",
       "cluster E1--><a href=\"psysml:c58eea24-2ccf-44f2-b6e8-e98c7ec17236\" target=\"_top\" title=\"psysml:c58eea24-2ccf-44f2-b6e8-e98c7ec17236\" xlink:actuate=\"onRequest\" xlink:href=\"psysml:c58eea24-2ccf-44f2-b6e8-e98c7ec17236\" xlink:show=\"new\" xlink:title=\"psysml:c58eea24-2ccf-44f2-b6e8-e98c7ec17236\" xlink:type=\"simple\"><polygon fill=\"#FFFFFF\" points=\"16,6,34,6,41,28.2969,244,28.2969,244,527,16,527,16,6\" style=\"stroke: #000000; stroke-width: 1.5;\"/><line style=\"stroke: #000000; stroke-width: 1.5;\" x1=\"16\" x2=\"41\" y1=\"28.2969\" y2=\"28.2969\"/><text fill=\"#000000\" font-family=\"sans-serif\" font-size=\"14\" font-weight=\"bold\" lengthAdjust=\"spacingAndGlyphs\" textLength=\"12\" x=\"20\" y=\"20.9951\">Q</text></a><!--MD5=[b4997ac47864f28c2f74865a473b2911]\n",
       "class E2--><a href=\"psysml:a4e187a3-203e-405d-be98-97d147693ddf\" target=\"_top\" title=\"psysml:a4e187a3-203e-405d-be98-97d147693ddf\" xlink:actuate=\"onRequest\" xlink:href=\"psysml:a4e187a3-203e-405d-be98-97d147693ddf\" xlink:show=\"new\" xlink:title=\"psysml:a4e187a3-203e-405d-be98-97d147693ddf\" xlink:type=\"simple\"><rect fill=\"#FFFFFF\" height=\"45.9375\" id=\"E2\" style=\"stroke: #383838; stroke-width: 1.5;\" width=\"66\" x=\"147\" y=\"359\"/><text fill=\"#000000\" font-family=\"sans-serif\" font-size=\"12\" font-style=\"italic\" lengthAdjust=\"spacingAndGlyphs\" textLength=\"64\" x=\"148\" y=\"375.1387\">«part def»</text><text fill=\"#000000\" font-family=\"sans-serif\" font-size=\"12\" lengthAdjust=\"spacingAndGlyphs\" textLength=\"7\" x=\"176.5\" y=\"389.1074\">F</text><line style=\"stroke: #383838; stroke-width: 1.5;\" x1=\"148\" x2=\"212\" y1=\"396.9375\" y2=\"396.9375\"/></a><!--MD5=[09b614a08d8cba4a07c9adeb5e0fee81]\n",
       "class E3--><a href=\"psysml:6ada620e-a181-4489-89b5-9a75fb715758\" target=\"_top\" title=\"psysml:6ada620e-a181-4489-89b5-9a75fb715758\" xlink:actuate=\"onRequest\" xlink:href=\"psysml:6ada620e-a181-4489-89b5-9a75fb715758\" xlink:show=\"new\" xlink:title=\"psysml:6ada620e-a181-4489-89b5-9a75fb715758\" xlink:type=\"simple\"><rect fill=\"#FFFFFF\" height=\"45.9375\" id=\"E3\" rx=\"10\" ry=\"10\" style=\"stroke: #383838; stroke-width: 1.5;\" width=\"42\" x=\"159\" y=\"465\"/><text fill=\"#000000\" font-family=\"sans-serif\" font-size=\"12\" font-style=\"italic\" lengthAdjust=\"spacingAndGlyphs\" textLength=\"40\" x=\"160\" y=\"481.1387\">«part»</text><text fill=\"#000000\" font-family=\"sans-serif\" font-size=\"12\" lengthAdjust=\"spacingAndGlyphs\" textLength=\"8\" x=\"176\" y=\"495.1074\">a</text><line style=\"stroke: #383838; stroke-width: 1.5;\" x1=\"160\" x2=\"200\" y1=\"502.9375\" y2=\"502.9375\"/></a><!--MD5=[ebbe1d658d1005bcc118a6aa81145e00]\n",
       "class E4--><a href=\"psysml:90a61716-c53d-4f92-beb5-5068bb9fa1a0\" target=\"_top\" title=\"psysml:90a61716-c53d-4f92-beb5-5068bb9fa1a0\" xlink:actuate=\"onRequest\" xlink:href=\"psysml:90a61716-c53d-4f92-beb5-5068bb9fa1a0\" xlink:show=\"new\" xlink:title=\"psysml:90a61716-c53d-4f92-beb5-5068bb9fa1a0\" xlink:type=\"simple\"><rect fill=\"#FFFFFF\" height=\"45.9375\" id=\"E4\" rx=\"10\" ry=\"10\" style=\"stroke: #383838; stroke-width: 1.5;\" width=\"42\" x=\"186\" y=\"253\"/><text fill=\"#000000\" font-family=\"sans-serif\" font-size=\"12\" font-style=\"italic\" lengthAdjust=\"spacingAndGlyphs\" textLength=\"40\" x=\"187\" y=\"269.1387\">«part»</text><text fill=\"#000000\" font-family=\"sans-serif\" font-size=\"12\" lengthAdjust=\"spacingAndGlyphs\" textLength=\"19\" x=\"197.5\" y=\"283.1074\">f: F</text><line style=\"stroke: #383838; stroke-width: 1.5;\" x1=\"187\" x2=\"227\" y1=\"290.9375\" y2=\"290.9375\"/></a><!--MD5=[270fce915f116d4de14055a7c1d9a0f3]\n",
       "class E5--><a href=\"psysml:282ebd08-29d1-4bc9-b49b-68a749240d69\" target=\"_top\" title=\"psysml:282ebd08-29d1-4bc9-b49b-68a749240d69\" xlink:actuate=\"onRequest\" xlink:href=\"psysml:282ebd08-29d1-4bc9-b49b-68a749240d69\" xlink:show=\"new\" xlink:title=\"psysml:282ebd08-29d1-4bc9-b49b-68a749240d69\" xlink:type=\"simple\"><rect fill=\"#FFFFFF\" height=\"45.9375\" id=\"E5\" style=\"stroke: #383838; stroke-width: 1.5;\" width=\"66\" x=\"32\" y=\"359\"/><text fill=\"#000000\" font-family=\"sans-serif\" font-size=\"12\" font-style=\"italic\" lengthAdjust=\"spacingAndGlyphs\" textLength=\"64\" x=\"33\" y=\"375.1387\">«part def»</text><text fill=\"#000000\" font-family=\"sans-serif\" font-size=\"12\" lengthAdjust=\"spacingAndGlyphs\" textLength=\"8\" x=\"61\" y=\"389.1074\">A</text><line style=\"stroke: #383838; stroke-width: 1.5;\" x1=\"33\" x2=\"97\" y1=\"396.9375\" y2=\"396.9375\"/></a><!--MD5=[60a26617385b1d2d0262a64233df1f8d]\n",
       "class E6--><a href=\"psysml:ba34075d-eebc-4755-94e7-ca84c5a458cd\" target=\"_top\" title=\"psysml:ba34075d-eebc-4755-94e7-ca84c5a458cd\" xlink:actuate=\"onRequest\" xlink:href=\"psysml:ba34075d-eebc-4755-94e7-ca84c5a458cd\" xlink:show=\"new\" xlink:title=\"psysml:ba34075d-eebc-4755-94e7-ca84c5a458cd\" xlink:type=\"simple\"><rect fill=\"#FFFFFF\" height=\"45.9375\" id=\"E6\" rx=\"10\" ry=\"10\" style=\"stroke: #383838; stroke-width: 1.5;\" width=\"42\" x=\"44\" y=\"465\"/><text fill=\"#000000\" font-family=\"sans-serif\" font-size=\"12\" font-style=\"italic\" lengthAdjust=\"spacingAndGlyphs\" textLength=\"40\" x=\"45\" y=\"481.1387\">«part»</text><text fill=\"#000000\" font-family=\"sans-serif\" font-size=\"12\" lengthAdjust=\"spacingAndGlyphs\" textLength=\"8\" x=\"61\" y=\"495.1074\">g</text><line style=\"stroke: #383838; stroke-width: 1.5;\" x1=\"45\" x2=\"85\" y1=\"502.9375\" y2=\"502.9375\"/></a><!--MD5=[2156ba9850f5573cc1fc38a6a4b2f02b]\n",
       "class E7--><a href=\"psysml:88191fe6-4f94-4991-8591-be7eb93db47e\" target=\"_top\" title=\"psysml:88191fe6-4f94-4991-8591-be7eb93db47e\" xlink:actuate=\"onRequest\" xlink:href=\"psysml:88191fe6-4f94-4991-8591-be7eb93db47e\" xlink:show=\"new\" xlink:title=\"psysml:88191fe6-4f94-4991-8591-be7eb93db47e\" xlink:type=\"simple\"><rect fill=\"#FFFFFF\" height=\"45.9375\" id=\"E7\" style=\"stroke: #383838; stroke-width: 1.5;\" width=\"66\" x=\"64\" y=\"147\"/><text fill=\"#000000\" font-family=\"sans-serif\" font-size=\"12\" font-style=\"italic\" lengthAdjust=\"spacingAndGlyphs\" textLength=\"64\" x=\"65\" y=\"163.1387\">«part def»</text><text fill=\"#000000\" font-family=\"sans-serif\" font-size=\"12\" lengthAdjust=\"spacingAndGlyphs\" textLength=\"8\" x=\"93\" y=\"177.1074\">B</text><line style=\"stroke: #383838; stroke-width: 1.5;\" x1=\"65\" x2=\"129\" y1=\"184.9375\" y2=\"184.9375\"/></a><!--MD5=[b9389687b975829384b498ac4b7476b2]\n",
       "class E8--><a href=\"psysml:ab65aa6d-a5a6-4b47-8167-56da9e982a64\" target=\"_top\" title=\"psysml:ab65aa6d-a5a6-4b47-8167-56da9e982a64\" xlink:actuate=\"onRequest\" xlink:href=\"psysml:ab65aa6d-a5a6-4b47-8167-56da9e982a64\" xlink:show=\"new\" xlink:title=\"psysml:ab65aa6d-a5a6-4b47-8167-56da9e982a64\" xlink:type=\"simple\"><rect fill=\"#FFFFFF\" height=\"45.9375\" id=\"E8\" rx=\"10\" ry=\"10\" style=\"stroke: #383838; stroke-width: 1.5;\" width=\"42\" x=\"109\" y=\"253\"/><text fill=\"#000000\" font-family=\"sans-serif\" font-size=\"12\" font-style=\"italic\" lengthAdjust=\"spacingAndGlyphs\" textLength=\"40\" x=\"110\" y=\"269.1387\">«part»</text><text fill=\"#000000\" font-family=\"sans-serif\" font-size=\"12\" lengthAdjust=\"spacingAndGlyphs\" textLength=\"19\" x=\"120.5\" y=\"283.1074\">f: F</text><line style=\"stroke: #383838; stroke-width: 1.5;\" x1=\"110\" x2=\"150\" y1=\"290.9375\" y2=\"290.9375\"/></a><!--MD5=[fd4143e9d270a159db93a4ea2a975926]\n",
       "class E9--><a href=\"psysml:624da0d4-2cfd-4aae-83e5-be6cf87688fa\" target=\"_top\" title=\"psysml:624da0d4-2cfd-4aae-83e5-be6cf87688fa\" xlink:actuate=\"onRequest\" xlink:href=\"psysml:624da0d4-2cfd-4aae-83e5-be6cf87688fa\" xlink:show=\"new\" xlink:title=\"psysml:624da0d4-2cfd-4aae-83e5-be6cf87688fa\" xlink:type=\"simple\"><rect fill=\"#FFFFFF\" height=\"45.9375\" id=\"E9\" rx=\"10\" ry=\"10\" style=\"stroke: #383838; stroke-width: 1.5;\" width=\"42\" x=\"32\" y=\"253\"/><text fill=\"#000000\" font-family=\"sans-serif\" font-size=\"12\" font-style=\"italic\" lengthAdjust=\"spacingAndGlyphs\" textLength=\"40\" x=\"33\" y=\"269.1387\">«part»</text><text fill=\"#000000\" font-family=\"sans-serif\" font-size=\"12\" lengthAdjust=\"spacingAndGlyphs\" textLength=\"24\" x=\"41\" y=\"283.1074\">a: A</text><line style=\"stroke: #383838; stroke-width: 1.5;\" x1=\"33\" x2=\"73\" y1=\"290.9375\" y2=\"290.9375\"/></a><!--MD5=[96f4274e9e20536e775497830990834d]\n",
       "class E10--><a href=\"psysml:5c182589-a5f3-41ec-a644-db6857a5c19a\" target=\"_top\" title=\"psysml:5c182589-a5f3-41ec-a644-db6857a5c19a\" xlink:actuate=\"onRequest\" xlink:href=\"psysml:5c182589-a5f3-41ec-a644-db6857a5c19a\" xlink:show=\"new\" xlink:title=\"psysml:5c182589-a5f3-41ec-a644-db6857a5c19a\" xlink:type=\"simple\"><rect fill=\"#FFFFFF\" height=\"45.9375\" id=\"E10\" rx=\"10\" ry=\"10\" style=\"stroke: #383838; stroke-width: 1.5;\" width=\"42\" x=\"76\" y=\"41\"/><text fill=\"#000000\" font-family=\"sans-serif\" font-size=\"12\" font-style=\"italic\" lengthAdjust=\"spacingAndGlyphs\" textLength=\"40\" x=\"77\" y=\"57.1387\">«part»</text><text fill=\"#000000\" font-family=\"sans-serif\" font-size=\"12\" lengthAdjust=\"spacingAndGlyphs\" textLength=\"24\" x=\"85\" y=\"71.1074\">b: B</text><line style=\"stroke: #383838; stroke-width: 1.5;\" x1=\"77\" x2=\"117\" y1=\"78.9375\" y2=\"78.9375\"/></a><!--MD5=[209b3feb70ccb6233bfe1053d122c12c]\n",
       "reverse link E2 to E3--><a href=\"psysml:f4f335e8-ebb2-4b93-b8a2-3184b124f9b4\" target=\"_top\" title=\"psysml:f4f335e8-ebb2-4b93-b8a2-3184b124f9b4\" xlink:actuate=\"onRequest\" xlink:href=\"psysml:f4f335e8-ebb2-4b93-b8a2-3184b124f9b4\" xlink:show=\"new\" xlink:title=\"psysml:f4f335e8-ebb2-4b93-b8a2-3184b124f9b4\" xlink:type=\"simple\"><path d=\"M180,418.44 C180,433.87 180,451.47 180,464.98 \" fill=\"none\" id=\"E2&lt;-E3\" style=\"stroke: #383838; stroke-width: 1.0;\"/><polygon fill=\"#383838\" points=\"180,405.06,176,411.06,180,417.06,184,411.06,180,405.06\" style=\"stroke: #383838; stroke-width: 1.0;\"/></a><!--MD5=[185131fc0dcab0a4505a2ebe144e961b]\n",
       "link E4 to E2--><a href=\"psysml:6b545197-59fa-4019-832b-0413d8dfad43\" target=\"_top\" title=\"psysml:6b545197-59fa-4019-832b-0413d8dfad43\" xlink:actuate=\"onRequest\" xlink:href=\"psysml:6b545197-59fa-4019-832b-0413d8dfad43\" xlink:show=\"new\" xlink:title=\"psysml:6b545197-59fa-4019-832b-0413d8dfad43\" xlink:type=\"simple\"><path d=\"M201.27,299.06 C198.23,310.78 194.39,325.57 190.81,339.36 \" fill=\"none\" id=\"E4-&gt;E2\" style=\"stroke: #383838; stroke-width: 1.0;\"/><polygon fill=\"#FFFFFF\" points=\"185.72,358.98,183.7221,338.8303,197.2724,342.3504,185.72,358.98\" style=\"stroke: #383838; stroke-width: 1.0;\"/><ellipse cx=\"187.091\" cy=\"333.8163\" fill=\"#383838\" rx=\"2\" ry=\"2\" style=\"stroke: #383838; stroke-width: 1.0;\"/><ellipse cx=\"196.7698\" cy=\"336.3307\" fill=\"#383838\" rx=\"2\" ry=\"2\" style=\"stroke: #383838; stroke-width: 1.0;\"/></a><!--MD5=[85d356282659285ab4b2cfe2f634dd2b]\n",
       "reverse link E5 to E6--><a href=\"psysml:42a57766-d710-4931-98ca-f2942df4b5a7\" target=\"_top\" title=\"psysml:42a57766-d710-4931-98ca-f2942df4b5a7\" xlink:actuate=\"onRequest\" xlink:href=\"psysml:42a57766-d710-4931-98ca-f2942df4b5a7\" xlink:show=\"new\" xlink:title=\"psysml:42a57766-d710-4931-98ca-f2942df4b5a7\" xlink:type=\"simple\"><path d=\"M65,418.44 C65,433.87 65,451.47 65,464.98 \" fill=\"none\" id=\"E5&lt;-E6\" style=\"stroke: #383838; stroke-width: 1.0;\"/><polygon fill=\"#383838\" points=\"65,405.06,61,411.06,65,417.06,69,411.06,65,405.06\" style=\"stroke: #383838; stroke-width: 1.0;\"/></a><!--MD5=[dc164f5e8a733ab456ef1add180e9e34]\n",
       "reverse link E7 to E8--><a href=\"psysml:ee3500c3-1d32-470f-b6bb-e11a5c090a2b\" target=\"_top\" title=\"psysml:ee3500c3-1d32-470f-b6bb-e11a5c090a2b\" xlink:actuate=\"onRequest\" xlink:href=\"psysml:ee3500c3-1d32-470f-b6bb-e11a5c090a2b\" xlink:show=\"new\" xlink:title=\"psysml:ee3500c3-1d32-470f-b6bb-e11a5c090a2b\" xlink:type=\"simple\"><path d=\"M107.95,205.49 C112.91,221.15 118.64,239.19 123.01,252.98 \" fill=\"none\" id=\"E7&lt;-E8\" style=\"stroke: #383838; stroke-width: 1.0;\"/><polygon fill=\"#383838\" points=\"104,193.06,101.9989,199.9879,107.6243,204.4996,109.6253,197.5717,104,193.06\" style=\"stroke: #383838; stroke-width: 1.0;\"/></a><!--MD5=[f1f3f9f2fc535e6147756cb86a7f2e32]\n",
       "link E8 to E2--><a href=\"psysml:385ac8e9-821f-48a2-9a91-91f0503517ad\" target=\"_top\" title=\"psysml:385ac8e9-821f-48a2-9a91-91f0503517ad\" xlink:actuate=\"onRequest\" xlink:href=\"psysml:385ac8e9-821f-48a2-9a91-91f0503517ad\" xlink:show=\"new\" xlink:title=\"psysml:385ac8e9-821f-48a2-9a91-91f0503517ad\" xlink:type=\"simple\"><path d=\"M140.6,299.06 C146.44,311.19 153.86,326.62 160.68,340.82 \" fill=\"none\" id=\"E8-&gt;E2\" style=\"stroke: #383838; stroke-width: 1.0;\"/><polygon fill=\"#FFFFFF\" points=\"169.41,358.98,154.8709,344.8869,167.4894,338.8228,169.41,358.98\" style=\"stroke: #383838; stroke-width: 1.0;\"/><ellipse cx=\"154.2046\" cy=\"338.8831\" fill=\"#383838\" rx=\"2\" ry=\"2\" style=\"stroke: #383838; stroke-width: 1.0;\"/><ellipse cx=\"163.2178\" cy=\"334.5516\" fill=\"#383838\" rx=\"2\" ry=\"2\" style=\"stroke: #383838; stroke-width: 1.0;\"/></a><!--MD5=[e4a10ef82d0e328e31cac39a31e58dda]\n",
       "reverse link E7 to E9--><a href=\"psysml:4dc3c190-fff9-4cfd-9ec6-604d7dd22971\" target=\"_top\" title=\"psysml:4dc3c190-fff9-4cfd-9ec6-604d7dd22971\" xlink:actuate=\"onRequest\" xlink:href=\"psysml:4dc3c190-fff9-4cfd-9ec6-604d7dd22971\" xlink:show=\"new\" xlink:title=\"psysml:4dc3c190-fff9-4cfd-9ec6-604d7dd22971\" xlink:type=\"simple\"><path d=\"M82.41,205.49 C75.78,221.15 68.15,239.19 62.32,252.98 \" fill=\"none\" id=\"E7&lt;-E9\" style=\"stroke: #383838; stroke-width: 1.0;\"/><polygon fill=\"#383838\" points=\"87.67,193.06,81.6505,197.0305,83.0003,204.1142,89.0199,200.1436,87.67,193.06\" style=\"stroke: #383838; stroke-width: 1.0;\"/></a><!--MD5=[bfc3ddf2e613be37104f658f09af896c]\n",
       "link E9 to E5--><a href=\"psysml:e6457602-7adc-4ee0-a454-eb40d686de5b\" target=\"_top\" title=\"psysml:e6457602-7adc-4ee0-a454-eb40d686de5b\" xlink:actuate=\"onRequest\" xlink:href=\"psysml:e6457602-7adc-4ee0-a454-eb40d686de5b\" xlink:show=\"new\" xlink:title=\"psysml:e6457602-7adc-4ee0-a454-eb40d686de5b\" xlink:type=\"simple\"><path d=\"M55.54,299.06 C56.88,310.64 58.56,325.23 60.14,338.87 \" fill=\"none\" id=\"E9-&gt;E5\" style=\"stroke: #383838; stroke-width: 1.0;\"/><polygon fill=\"#FFFFFF\" points=\"62.46,358.98,53.3347,340.9044,67.243,339.3046,62.46,358.98\" style=\"stroke: #383838; stroke-width: 1.0;\"/><ellipse cx=\"54.6702\" cy=\"335.0132\" fill=\"#383838\" rx=\"2\" ry=\"2\" style=\"stroke: #383838; stroke-width: 1.0;\"/><ellipse cx=\"64.6047\" cy=\"333.8704\" fill=\"#383838\" rx=\"2\" ry=\"2\" style=\"stroke: #383838; stroke-width: 1.0;\"/></a><!--MD5=[a919e0967d6f3de553dc51b9865a1d6d]\n",
       "link E10 to E7--><a href=\"psysml:078c16df-6fb3-4d69-bd0c-6c240437776b\" target=\"_top\" title=\"psysml:078c16df-6fb3-4d69-bd0c-6c240437776b\" xlink:actuate=\"onRequest\" xlink:href=\"psysml:078c16df-6fb3-4d69-bd0c-6c240437776b\" xlink:show=\"new\" xlink:title=\"psysml:078c16df-6fb3-4d69-bd0c-6c240437776b\" xlink:type=\"simple\"><path d=\"M97,87.06 C97,98.64 97,113.23 97,126.87 \" fill=\"none\" id=\"E10-&gt;E7\" style=\"stroke: #383838; stroke-width: 1.0;\"/><polygon fill=\"#FFFFFF\" points=\"97,146.98,90,127.98,104,127.98,97,146.98\" style=\"stroke: #383838; stroke-width: 1.0;\"/><ellipse cx=\"92\" cy=\"122.28\" fill=\"#383838\" rx=\"2\" ry=\"2\" style=\"stroke: #383838; stroke-width: 1.0;\"/><ellipse cx=\"102\" cy=\"122.28\" fill=\"#383838\" rx=\"2\" ry=\"2\" style=\"stroke: #383838; stroke-width: 1.0;\"/></a><!--MD5=[23835be9fc9ce65173ae3e72448cb5bb]\n",
       "@startuml\r\n",
       " skinparam monochrome true\r\n",
       "skinparam classbackgroundcolor white\r\n",
       "skinparam shadowing false\r\n",
       "skinparam wrapWidth 300\r\n",
       "hide circle\r\n",
       "\r\n",
       "package \"Q\" as E1  [[psysml:c58eea24-2ccf-44f2-b6e8-e98c7ec17236 ]]  {\r\n",
       "comp def \"F\" as E2  <<(T,blue)part def>> [[psysml:a4e187a3-203e-405d-be98-97d147693ddf ]] {\r\n",
       "}\r\n",
       "comp usage \"a\" as E3  <<(T,blue)part>> [[psysml:6ada620e-a181-4489-89b5-9a75fb715758 ]] {\r\n",
       "}\r\n",
       "comp usage \"f: F\" as E4  <<(T,blue)part>> [[psysml:90a61716-c53d-4f92-beb5-5068bb9fa1a0 ]] {\r\n",
       "}\r\n",
       "comp def \"A\" as E5  <<(T,blue)part def>> [[psysml:282ebd08-29d1-4bc9-b49b-68a749240d69 ]] {\r\n",
       "}\r\n",
       "comp usage \"g\" as E6  <<(T,blue)part>> [[psysml:ba34075d-eebc-4755-94e7-ca84c5a458cd ]] {\r\n",
       "}\r\n",
       "comp def \"B\" as E7  <<(T,blue)part def>> [[psysml:88191fe6-4f94-4991-8591-be7eb93db47e ]] {\r\n",
       "}\r\n",
       "comp usage \"f: F\" as E8  <<(T,blue)part>> [[psysml:ab65aa6d-a5a6-4b47-8167-56da9e982a64 ]] {\r\n",
       "}\r\n",
       "comp usage \"a: A\" as E9  <<(T,blue)part>> [[psysml:624da0d4-2cfd-4aae-83e5-be6cf87688fa ]] {\r\n",
       "}\r\n",
       "comp usage \"b: B\" as E10  <<(T,blue)part>> [[psysml:5c182589-a5f3-41ec-a644-db6857a5c19a ]] {\r\n",
       "}\r\n",
       "E2 *- - E3 [[psysml:f4f335e8-ebb2-4b93-b8a2-3184b124f9b4 ]] \r\n",
       "E4 - -:|> E2 [[psysml:6b545197-59fa-4019-832b-0413d8dfad43 ]] \r\n",
       "E5 *- - E6 [[psysml:42a57766-d710-4931-98ca-f2942df4b5a7 ]] \r\n",
       "E7 *- - E8 [[psysml:ee3500c3-1d32-470f-b6bb-e11a5c090a2b ]] \r\n",
       "E8 - -:|> E2 [[psysml:385ac8e9-821f-48a2-9a91-91f0503517ad ]] \r\n",
       "E7 *- - E9 [[psysml:4dc3c190-fff9-4cfd-9ec6-604d7dd22971 ]] \r\n",
       "E9 - -:|> E5 [[psysml:e6457602-7adc-4ee0-a454-eb40d686de5b ]] \r\n",
       "E10 - -:|> E7 [[psysml:078c16df-6fb3-4d69-bd0c-6c240437776b ]] \r\n",
       "}\r\n",
       "@enduml\r\n",
       "\n",
       "PlantUML version 1.2020.13(Sat Jun 13 12:26:38 UTC 2020)\n",
       "(EPL source distribution)\n",
       "Java Runtime: OpenJDK Runtime Environment\n",
       "JVM: OpenJDK 64-Bit Server VM\n",
       "Default Encoding: UTF-8\n",
       "Language: en\n",
       "Country: null\n",
       "--></g></svg>"
      ]
     },
     "execution_count": 8,
     "metadata": {},
     "output_type": "execute_result"
    }
   ],
   "source": [
    "%viz --style=\"COMPTREE\" --view=\"MIXED\" \"Q\""
   ]
  },
  {
   "cell_type": "code",
   "execution_count": 9,
   "id": "2b815c7a",
   "metadata": {
    "execution": {
     "iopub.execute_input": "2021-05-27T06:11:58.154090Z",
     "iopub.status.busy": "2021-05-27T06:11:58.153710Z",
     "iopub.status.idle": "2021-05-27T06:11:58.202530Z",
     "shell.execute_reply": "2021-05-27T06:11:58.201610Z"
    }
   },
   "outputs": [
    {
     "data": {
      "image/svg+xml": [
       "<?xml version=\"1.0\" encoding=\"UTF-8\" standalone=\"no\"?><svg xmlns=\"http://www.w3.org/2000/svg\" xmlns:xlink=\"http://www.w3.org/1999/xlink\" contentScriptType=\"application/ecmascript\" contentStyleType=\"text/css\" height=\"539px\" preserveAspectRatio=\"none\" style=\"width:266px;height:539px;\" version=\"1.1\" viewBox=\"0 0 266 539\" width=\"266px\" zoomAndPan=\"magnify\"><defs/><g><!--MD5=[fbc87193dbaf4d95561dea2c320d4a47]\n",
       "cluster E1--><a href=\"psysml:c58eea24-2ccf-44f2-b6e8-e98c7ec17236\" target=\"_top\" title=\"psysml:c58eea24-2ccf-44f2-b6e8-e98c7ec17236\" xlink:actuate=\"onRequest\" xlink:href=\"psysml:c58eea24-2ccf-44f2-b6e8-e98c7ec17236\" xlink:show=\"new\" xlink:title=\"psysml:c58eea24-2ccf-44f2-b6e8-e98c7ec17236\" xlink:type=\"simple\"><polygon fill=\"#FFFFFF\" points=\"16,6,34,6,41,28.2969,244,28.2969,244,527,16,527,16,6\" style=\"stroke: #000000; stroke-width: 1.5;\"/><line style=\"stroke: #000000; stroke-width: 1.5;\" x1=\"16\" x2=\"41\" y1=\"28.2969\" y2=\"28.2969\"/><text fill=\"#000000\" font-family=\"sans-serif\" font-size=\"14\" font-weight=\"bold\" lengthAdjust=\"spacingAndGlyphs\" textLength=\"12\" x=\"20\" y=\"20.9951\">Q</text></a><!--MD5=[b4997ac47864f28c2f74865a473b2911]\n",
       "class E2--><a href=\"psysml:a4e187a3-203e-405d-be98-97d147693ddf\" target=\"_top\" title=\"psysml:a4e187a3-203e-405d-be98-97d147693ddf\" xlink:actuate=\"onRequest\" xlink:href=\"psysml:a4e187a3-203e-405d-be98-97d147693ddf\" xlink:show=\"new\" xlink:title=\"psysml:a4e187a3-203e-405d-be98-97d147693ddf\" xlink:type=\"simple\"><rect fill=\"#FFFFFF\" height=\"45.9375\" id=\"E2\" style=\"stroke: #383838; stroke-width: 1.5;\" width=\"66\" x=\"147\" y=\"359\"/><text fill=\"#000000\" font-family=\"sans-serif\" font-size=\"12\" font-style=\"italic\" lengthAdjust=\"spacingAndGlyphs\" textLength=\"64\" x=\"148\" y=\"375.1387\">«part def»</text><text fill=\"#000000\" font-family=\"sans-serif\" font-size=\"12\" lengthAdjust=\"spacingAndGlyphs\" textLength=\"7\" x=\"176.5\" y=\"389.1074\">F</text><line style=\"stroke: #383838; stroke-width: 1.5;\" x1=\"148\" x2=\"212\" y1=\"396.9375\" y2=\"396.9375\"/></a><!--MD5=[09b614a08d8cba4a07c9adeb5e0fee81]\n",
       "class E3--><a href=\"psysml:6ada620e-a181-4489-89b5-9a75fb715758\" target=\"_top\" title=\"psysml:6ada620e-a181-4489-89b5-9a75fb715758\" xlink:actuate=\"onRequest\" xlink:href=\"psysml:6ada620e-a181-4489-89b5-9a75fb715758\" xlink:show=\"new\" xlink:title=\"psysml:6ada620e-a181-4489-89b5-9a75fb715758\" xlink:type=\"simple\"><rect fill=\"#FFFFFF\" height=\"45.9375\" id=\"E3\" rx=\"10\" ry=\"10\" style=\"stroke: #383838; stroke-width: 1.5;\" width=\"42\" x=\"159\" y=\"465\"/><text fill=\"#000000\" font-family=\"sans-serif\" font-size=\"12\" font-style=\"italic\" lengthAdjust=\"spacingAndGlyphs\" textLength=\"40\" x=\"160\" y=\"481.1387\">«part»</text><text fill=\"#000000\" font-family=\"sans-serif\" font-size=\"12\" lengthAdjust=\"spacingAndGlyphs\" textLength=\"8\" x=\"176\" y=\"495.1074\">a</text><line style=\"stroke: #383838; stroke-width: 1.5;\" x1=\"160\" x2=\"200\" y1=\"502.9375\" y2=\"502.9375\"/></a><!--MD5=[ebbe1d658d1005bcc118a6aa81145e00]\n",
       "class E4--><a href=\"psysml:90a61716-c53d-4f92-beb5-5068bb9fa1a0\" target=\"_top\" title=\"psysml:90a61716-c53d-4f92-beb5-5068bb9fa1a0\" xlink:actuate=\"onRequest\" xlink:href=\"psysml:90a61716-c53d-4f92-beb5-5068bb9fa1a0\" xlink:show=\"new\" xlink:title=\"psysml:90a61716-c53d-4f92-beb5-5068bb9fa1a0\" xlink:type=\"simple\"><rect fill=\"#FFFFFF\" height=\"45.9375\" id=\"E4\" rx=\"10\" ry=\"10\" style=\"stroke: #383838; stroke-width: 1.5;\" width=\"42\" x=\"186\" y=\"253\"/><text fill=\"#000000\" font-family=\"sans-serif\" font-size=\"12\" font-style=\"italic\" lengthAdjust=\"spacingAndGlyphs\" textLength=\"40\" x=\"187\" y=\"269.1387\">«part»</text><text fill=\"#000000\" font-family=\"sans-serif\" font-size=\"12\" lengthAdjust=\"spacingAndGlyphs\" textLength=\"19\" x=\"197.5\" y=\"283.1074\">f: F</text><line style=\"stroke: #383838; stroke-width: 1.5;\" x1=\"187\" x2=\"227\" y1=\"290.9375\" y2=\"290.9375\"/></a><!--MD5=[270fce915f116d4de14055a7c1d9a0f3]\n",
       "class E5--><a href=\"psysml:282ebd08-29d1-4bc9-b49b-68a749240d69\" target=\"_top\" title=\"psysml:282ebd08-29d1-4bc9-b49b-68a749240d69\" xlink:actuate=\"onRequest\" xlink:href=\"psysml:282ebd08-29d1-4bc9-b49b-68a749240d69\" xlink:show=\"new\" xlink:title=\"psysml:282ebd08-29d1-4bc9-b49b-68a749240d69\" xlink:type=\"simple\"><rect fill=\"#FFFFFF\" height=\"45.9375\" id=\"E5\" style=\"stroke: #383838; stroke-width: 1.5;\" width=\"66\" x=\"32\" y=\"359\"/><text fill=\"#000000\" font-family=\"sans-serif\" font-size=\"12\" font-style=\"italic\" lengthAdjust=\"spacingAndGlyphs\" textLength=\"64\" x=\"33\" y=\"375.1387\">«part def»</text><text fill=\"#000000\" font-family=\"sans-serif\" font-size=\"12\" lengthAdjust=\"spacingAndGlyphs\" textLength=\"8\" x=\"61\" y=\"389.1074\">A</text><line style=\"stroke: #383838; stroke-width: 1.5;\" x1=\"33\" x2=\"97\" y1=\"396.9375\" y2=\"396.9375\"/></a><!--MD5=[60a26617385b1d2d0262a64233df1f8d]\n",
       "class E6--><a href=\"psysml:ba34075d-eebc-4755-94e7-ca84c5a458cd\" target=\"_top\" title=\"psysml:ba34075d-eebc-4755-94e7-ca84c5a458cd\" xlink:actuate=\"onRequest\" xlink:href=\"psysml:ba34075d-eebc-4755-94e7-ca84c5a458cd\" xlink:show=\"new\" xlink:title=\"psysml:ba34075d-eebc-4755-94e7-ca84c5a458cd\" xlink:type=\"simple\"><rect fill=\"#FFFFFF\" height=\"45.9375\" id=\"E6\" rx=\"10\" ry=\"10\" style=\"stroke: #383838; stroke-width: 1.5;\" width=\"42\" x=\"44\" y=\"465\"/><text fill=\"#000000\" font-family=\"sans-serif\" font-size=\"12\" font-style=\"italic\" lengthAdjust=\"spacingAndGlyphs\" textLength=\"40\" x=\"45\" y=\"481.1387\">«part»</text><text fill=\"#000000\" font-family=\"sans-serif\" font-size=\"12\" lengthAdjust=\"spacingAndGlyphs\" textLength=\"8\" x=\"61\" y=\"495.1074\">g</text><line style=\"stroke: #383838; stroke-width: 1.5;\" x1=\"45\" x2=\"85\" y1=\"502.9375\" y2=\"502.9375\"/></a><!--MD5=[2156ba9850f5573cc1fc38a6a4b2f02b]\n",
       "class E7--><a href=\"psysml:88191fe6-4f94-4991-8591-be7eb93db47e\" target=\"_top\" title=\"psysml:88191fe6-4f94-4991-8591-be7eb93db47e\" xlink:actuate=\"onRequest\" xlink:href=\"psysml:88191fe6-4f94-4991-8591-be7eb93db47e\" xlink:show=\"new\" xlink:title=\"psysml:88191fe6-4f94-4991-8591-be7eb93db47e\" xlink:type=\"simple\"><rect fill=\"#FFFFFF\" height=\"45.9375\" id=\"E7\" style=\"stroke: #383838; stroke-width: 1.5;\" width=\"66\" x=\"64\" y=\"147\"/><text fill=\"#000000\" font-family=\"sans-serif\" font-size=\"12\" font-style=\"italic\" lengthAdjust=\"spacingAndGlyphs\" textLength=\"64\" x=\"65\" y=\"163.1387\">«part def»</text><text fill=\"#000000\" font-family=\"sans-serif\" font-size=\"12\" lengthAdjust=\"spacingAndGlyphs\" textLength=\"8\" x=\"93\" y=\"177.1074\">B</text><line style=\"stroke: #383838; stroke-width: 1.5;\" x1=\"65\" x2=\"129\" y1=\"184.9375\" y2=\"184.9375\"/></a><!--MD5=[b9389687b975829384b498ac4b7476b2]\n",
       "class E8--><a href=\"psysml:ab65aa6d-a5a6-4b47-8167-56da9e982a64\" target=\"_top\" title=\"psysml:ab65aa6d-a5a6-4b47-8167-56da9e982a64\" xlink:actuate=\"onRequest\" xlink:href=\"psysml:ab65aa6d-a5a6-4b47-8167-56da9e982a64\" xlink:show=\"new\" xlink:title=\"psysml:ab65aa6d-a5a6-4b47-8167-56da9e982a64\" xlink:type=\"simple\"><rect fill=\"#FFFFFF\" height=\"45.9375\" id=\"E8\" rx=\"10\" ry=\"10\" style=\"stroke: #383838; stroke-width: 1.5;\" width=\"42\" x=\"109\" y=\"253\"/><text fill=\"#000000\" font-family=\"sans-serif\" font-size=\"12\" font-style=\"italic\" lengthAdjust=\"spacingAndGlyphs\" textLength=\"40\" x=\"110\" y=\"269.1387\">«part»</text><text fill=\"#000000\" font-family=\"sans-serif\" font-size=\"12\" lengthAdjust=\"spacingAndGlyphs\" textLength=\"19\" x=\"120.5\" y=\"283.1074\">f: F</text><line style=\"stroke: #383838; stroke-width: 1.5;\" x1=\"110\" x2=\"150\" y1=\"290.9375\" y2=\"290.9375\"/></a><!--MD5=[fd4143e9d270a159db93a4ea2a975926]\n",
       "class E9--><a href=\"psysml:624da0d4-2cfd-4aae-83e5-be6cf87688fa\" target=\"_top\" title=\"psysml:624da0d4-2cfd-4aae-83e5-be6cf87688fa\" xlink:actuate=\"onRequest\" xlink:href=\"psysml:624da0d4-2cfd-4aae-83e5-be6cf87688fa\" xlink:show=\"new\" xlink:title=\"psysml:624da0d4-2cfd-4aae-83e5-be6cf87688fa\" xlink:type=\"simple\"><rect fill=\"#FFFFFF\" height=\"45.9375\" id=\"E9\" rx=\"10\" ry=\"10\" style=\"stroke: #383838; stroke-width: 1.5;\" width=\"42\" x=\"32\" y=\"253\"/><text fill=\"#000000\" font-family=\"sans-serif\" font-size=\"12\" font-style=\"italic\" lengthAdjust=\"spacingAndGlyphs\" textLength=\"40\" x=\"33\" y=\"269.1387\">«part»</text><text fill=\"#000000\" font-family=\"sans-serif\" font-size=\"12\" lengthAdjust=\"spacingAndGlyphs\" textLength=\"24\" x=\"41\" y=\"283.1074\">a: A</text><line style=\"stroke: #383838; stroke-width: 1.5;\" x1=\"33\" x2=\"73\" y1=\"290.9375\" y2=\"290.9375\"/></a><!--MD5=[96f4274e9e20536e775497830990834d]\n",
       "class E10--><a href=\"psysml:5c182589-a5f3-41ec-a644-db6857a5c19a\" target=\"_top\" title=\"psysml:5c182589-a5f3-41ec-a644-db6857a5c19a\" xlink:actuate=\"onRequest\" xlink:href=\"psysml:5c182589-a5f3-41ec-a644-db6857a5c19a\" xlink:show=\"new\" xlink:title=\"psysml:5c182589-a5f3-41ec-a644-db6857a5c19a\" xlink:type=\"simple\"><rect fill=\"#FFFFFF\" height=\"45.9375\" id=\"E10\" rx=\"10\" ry=\"10\" style=\"stroke: #383838; stroke-width: 1.5;\" width=\"42\" x=\"76\" y=\"41\"/><text fill=\"#000000\" font-family=\"sans-serif\" font-size=\"12\" font-style=\"italic\" lengthAdjust=\"spacingAndGlyphs\" textLength=\"40\" x=\"77\" y=\"57.1387\">«part»</text><text fill=\"#000000\" font-family=\"sans-serif\" font-size=\"12\" lengthAdjust=\"spacingAndGlyphs\" textLength=\"24\" x=\"85\" y=\"71.1074\">b: B</text><line style=\"stroke: #383838; stroke-width: 1.5;\" x1=\"77\" x2=\"117\" y1=\"78.9375\" y2=\"78.9375\"/></a><!--MD5=[209b3feb70ccb6233bfe1053d122c12c]\n",
       "reverse link E2 to E3--><a href=\"psysml:f4f335e8-ebb2-4b93-b8a2-3184b124f9b4\" target=\"_top\" title=\"psysml:f4f335e8-ebb2-4b93-b8a2-3184b124f9b4\" xlink:actuate=\"onRequest\" xlink:href=\"psysml:f4f335e8-ebb2-4b93-b8a2-3184b124f9b4\" xlink:show=\"new\" xlink:title=\"psysml:f4f335e8-ebb2-4b93-b8a2-3184b124f9b4\" xlink:type=\"simple\"><path d=\"M180,418.44 C180,433.87 180,451.47 180,464.98 \" fill=\"none\" id=\"E2&lt;-E3\" style=\"stroke: #383838; stroke-width: 1.0;\"/><polygon fill=\"#383838\" points=\"180,405.06,176,411.06,180,417.06,184,411.06,180,405.06\" style=\"stroke: #383838; stroke-width: 1.0;\"/></a><!--MD5=[185131fc0dcab0a4505a2ebe144e961b]\n",
       "link E4 to E2--><a href=\"psysml:6b545197-59fa-4019-832b-0413d8dfad43\" target=\"_top\" title=\"psysml:6b545197-59fa-4019-832b-0413d8dfad43\" xlink:actuate=\"onRequest\" xlink:href=\"psysml:6b545197-59fa-4019-832b-0413d8dfad43\" xlink:show=\"new\" xlink:title=\"psysml:6b545197-59fa-4019-832b-0413d8dfad43\" xlink:type=\"simple\"><path d=\"M201.27,299.06 C198.23,310.78 194.39,325.57 190.81,339.36 \" fill=\"none\" id=\"E4-&gt;E2\" style=\"stroke: #383838; stroke-width: 1.0;\"/><polygon fill=\"#FFFFFF\" points=\"185.72,358.98,183.7221,338.8303,197.2724,342.3504,185.72,358.98\" style=\"stroke: #383838; stroke-width: 1.0;\"/><ellipse cx=\"187.091\" cy=\"333.8163\" fill=\"#383838\" rx=\"2\" ry=\"2\" style=\"stroke: #383838; stroke-width: 1.0;\"/><ellipse cx=\"196.7698\" cy=\"336.3307\" fill=\"#383838\" rx=\"2\" ry=\"2\" style=\"stroke: #383838; stroke-width: 1.0;\"/></a><!--MD5=[85d356282659285ab4b2cfe2f634dd2b]\n",
       "reverse link E5 to E6--><a href=\"psysml:42a57766-d710-4931-98ca-f2942df4b5a7\" target=\"_top\" title=\"psysml:42a57766-d710-4931-98ca-f2942df4b5a7\" xlink:actuate=\"onRequest\" xlink:href=\"psysml:42a57766-d710-4931-98ca-f2942df4b5a7\" xlink:show=\"new\" xlink:title=\"psysml:42a57766-d710-4931-98ca-f2942df4b5a7\" xlink:type=\"simple\"><path d=\"M65,418.44 C65,433.87 65,451.47 65,464.98 \" fill=\"none\" id=\"E5&lt;-E6\" style=\"stroke: #383838; stroke-width: 1.0;\"/><polygon fill=\"#383838\" points=\"65,405.06,61,411.06,65,417.06,69,411.06,65,405.06\" style=\"stroke: #383838; stroke-width: 1.0;\"/></a><!--MD5=[dc164f5e8a733ab456ef1add180e9e34]\n",
       "reverse link E7 to E8--><a href=\"psysml:ee3500c3-1d32-470f-b6bb-e11a5c090a2b\" target=\"_top\" title=\"psysml:ee3500c3-1d32-470f-b6bb-e11a5c090a2b\" xlink:actuate=\"onRequest\" xlink:href=\"psysml:ee3500c3-1d32-470f-b6bb-e11a5c090a2b\" xlink:show=\"new\" xlink:title=\"psysml:ee3500c3-1d32-470f-b6bb-e11a5c090a2b\" xlink:type=\"simple\"><path d=\"M107.95,205.49 C112.91,221.15 118.64,239.19 123.01,252.98 \" fill=\"none\" id=\"E7&lt;-E8\" style=\"stroke: #383838; stroke-width: 1.0;\"/><polygon fill=\"#383838\" points=\"104,193.06,101.9989,199.9879,107.6243,204.4996,109.6253,197.5717,104,193.06\" style=\"stroke: #383838; stroke-width: 1.0;\"/></a><!--MD5=[f1f3f9f2fc535e6147756cb86a7f2e32]\n",
       "link E8 to E2--><a href=\"psysml:385ac8e9-821f-48a2-9a91-91f0503517ad\" target=\"_top\" title=\"psysml:385ac8e9-821f-48a2-9a91-91f0503517ad\" xlink:actuate=\"onRequest\" xlink:href=\"psysml:385ac8e9-821f-48a2-9a91-91f0503517ad\" xlink:show=\"new\" xlink:title=\"psysml:385ac8e9-821f-48a2-9a91-91f0503517ad\" xlink:type=\"simple\"><path d=\"M140.6,299.06 C146.44,311.19 153.86,326.62 160.68,340.82 \" fill=\"none\" id=\"E8-&gt;E2\" style=\"stroke: #383838; stroke-width: 1.0;\"/><polygon fill=\"#FFFFFF\" points=\"169.41,358.98,154.8709,344.8869,167.4894,338.8228,169.41,358.98\" style=\"stroke: #383838; stroke-width: 1.0;\"/><ellipse cx=\"154.2046\" cy=\"338.8831\" fill=\"#383838\" rx=\"2\" ry=\"2\" style=\"stroke: #383838; stroke-width: 1.0;\"/><ellipse cx=\"163.2178\" cy=\"334.5516\" fill=\"#383838\" rx=\"2\" ry=\"2\" style=\"stroke: #383838; stroke-width: 1.0;\"/></a><!--MD5=[e4a10ef82d0e328e31cac39a31e58dda]\n",
       "reverse link E7 to E9--><a href=\"psysml:4dc3c190-fff9-4cfd-9ec6-604d7dd22971\" target=\"_top\" title=\"psysml:4dc3c190-fff9-4cfd-9ec6-604d7dd22971\" xlink:actuate=\"onRequest\" xlink:href=\"psysml:4dc3c190-fff9-4cfd-9ec6-604d7dd22971\" xlink:show=\"new\" xlink:title=\"psysml:4dc3c190-fff9-4cfd-9ec6-604d7dd22971\" xlink:type=\"simple\"><path d=\"M82.41,205.49 C75.78,221.15 68.15,239.19 62.32,252.98 \" fill=\"none\" id=\"E7&lt;-E9\" style=\"stroke: #383838; stroke-width: 1.0;\"/><polygon fill=\"#383838\" points=\"87.67,193.06,81.6505,197.0305,83.0003,204.1142,89.0199,200.1436,87.67,193.06\" style=\"stroke: #383838; stroke-width: 1.0;\"/></a><!--MD5=[bfc3ddf2e613be37104f658f09af896c]\n",
       "link E9 to E5--><a href=\"psysml:e6457602-7adc-4ee0-a454-eb40d686de5b\" target=\"_top\" title=\"psysml:e6457602-7adc-4ee0-a454-eb40d686de5b\" xlink:actuate=\"onRequest\" xlink:href=\"psysml:e6457602-7adc-4ee0-a454-eb40d686de5b\" xlink:show=\"new\" xlink:title=\"psysml:e6457602-7adc-4ee0-a454-eb40d686de5b\" xlink:type=\"simple\"><path d=\"M55.54,299.06 C56.88,310.64 58.56,325.23 60.14,338.87 \" fill=\"none\" id=\"E9-&gt;E5\" style=\"stroke: #383838; stroke-width: 1.0;\"/><polygon fill=\"#FFFFFF\" points=\"62.46,358.98,53.3347,340.9044,67.243,339.3046,62.46,358.98\" style=\"stroke: #383838; stroke-width: 1.0;\"/><ellipse cx=\"54.6702\" cy=\"335.0132\" fill=\"#383838\" rx=\"2\" ry=\"2\" style=\"stroke: #383838; stroke-width: 1.0;\"/><ellipse cx=\"64.6047\" cy=\"333.8704\" fill=\"#383838\" rx=\"2\" ry=\"2\" style=\"stroke: #383838; stroke-width: 1.0;\"/></a><!--MD5=[a919e0967d6f3de553dc51b9865a1d6d]\n",
       "link E10 to E7--><a href=\"psysml:078c16df-6fb3-4d69-bd0c-6c240437776b\" target=\"_top\" title=\"psysml:078c16df-6fb3-4d69-bd0c-6c240437776b\" xlink:actuate=\"onRequest\" xlink:href=\"psysml:078c16df-6fb3-4d69-bd0c-6c240437776b\" xlink:show=\"new\" xlink:title=\"psysml:078c16df-6fb3-4d69-bd0c-6c240437776b\" xlink:type=\"simple\"><path d=\"M97,87.06 C97,98.64 97,113.23 97,126.87 \" fill=\"none\" id=\"E10-&gt;E7\" style=\"stroke: #383838; stroke-width: 1.0;\"/><polygon fill=\"#FFFFFF\" points=\"97,146.98,90,127.98,104,127.98,97,146.98\" style=\"stroke: #383838; stroke-width: 1.0;\"/><ellipse cx=\"92\" cy=\"122.28\" fill=\"#383838\" rx=\"2\" ry=\"2\" style=\"stroke: #383838; stroke-width: 1.0;\"/><ellipse cx=\"102\" cy=\"122.28\" fill=\"#383838\" rx=\"2\" ry=\"2\" style=\"stroke: #383838; stroke-width: 1.0;\"/></a><!--MD5=[707e3a76da724c26785c95b6c241038c]\n",
       "@startuml\r\n",
       "skinparam linetype polyline\r\n",
       "skinparam monochrome true\r\n",
       "skinparam classbackgroundcolor white\r\n",
       "skinparam shadowing false\r\n",
       "skinparam wrapWidth 300\r\n",
       "hide circle\r\n",
       "\r\n",
       "package \"Q\" as E1  [[psysml:c58eea24-2ccf-44f2-b6e8-e98c7ec17236 ]]  {\r\n",
       "comp def \"F\" as E2  <<(T,blue)part def>> [[psysml:a4e187a3-203e-405d-be98-97d147693ddf ]] {\r\n",
       "}\r\n",
       "comp usage \"a\" as E3  <<(T,blue)part>> [[psysml:6ada620e-a181-4489-89b5-9a75fb715758 ]] {\r\n",
       "}\r\n",
       "comp usage \"f: F\" as E4  <<(T,blue)part>> [[psysml:90a61716-c53d-4f92-beb5-5068bb9fa1a0 ]] {\r\n",
       "}\r\n",
       "comp def \"A\" as E5  <<(T,blue)part def>> [[psysml:282ebd08-29d1-4bc9-b49b-68a749240d69 ]] {\r\n",
       "}\r\n",
       "comp usage \"g\" as E6  <<(T,blue)part>> [[psysml:ba34075d-eebc-4755-94e7-ca84c5a458cd ]] {\r\n",
       "}\r\n",
       "comp def \"B\" as E7  <<(T,blue)part def>> [[psysml:88191fe6-4f94-4991-8591-be7eb93db47e ]] {\r\n",
       "}\r\n",
       "comp usage \"f: F\" as E8  <<(T,blue)part>> [[psysml:ab65aa6d-a5a6-4b47-8167-56da9e982a64 ]] {\r\n",
       "}\r\n",
       "comp usage \"a: A\" as E9  <<(T,blue)part>> [[psysml:624da0d4-2cfd-4aae-83e5-be6cf87688fa ]] {\r\n",
       "}\r\n",
       "comp usage \"b: B\" as E10  <<(T,blue)part>> [[psysml:5c182589-a5f3-41ec-a644-db6857a5c19a ]] {\r\n",
       "}\r\n",
       "E2 *- - E3 [[psysml:f4f335e8-ebb2-4b93-b8a2-3184b124f9b4 ]] \r\n",
       "E4 - -:|> E2 [[psysml:6b545197-59fa-4019-832b-0413d8dfad43 ]] \r\n",
       "E5 *- - E6 [[psysml:42a57766-d710-4931-98ca-f2942df4b5a7 ]] \r\n",
       "E7 *- - E8 [[psysml:ee3500c3-1d32-470f-b6bb-e11a5c090a2b ]] \r\n",
       "E8 - -:|> E2 [[psysml:385ac8e9-821f-48a2-9a91-91f0503517ad ]] \r\n",
       "E7 *- - E9 [[psysml:4dc3c190-fff9-4cfd-9ec6-604d7dd22971 ]] \r\n",
       "E9 - -:|> E5 [[psysml:e6457602-7adc-4ee0-a454-eb40d686de5b ]] \r\n",
       "E10 - -:|> E7 [[psysml:078c16df-6fb3-4d69-bd0c-6c240437776b ]] \r\n",
       "}\r\n",
       "@enduml\r\n",
       "\n",
       "PlantUML version 1.2020.13(Sat Jun 13 12:26:38 UTC 2020)\n",
       "(EPL source distribution)\n",
       "Java Runtime: OpenJDK Runtime Environment\n",
       "JVM: OpenJDK 64-Bit Server VM\n",
       "Default Encoding: UTF-8\n",
       "Language: en\n",
       "Country: null\n",
       "--></g></svg>"
      ]
     },
     "execution_count": 9,
     "metadata": {},
     "output_type": "execute_result"
    }
   ],
   "source": [
    "%viz --style=\"POLYLINE\" --view=\"Default\" \"Q\""
   ]
  },
  {
   "cell_type": "code",
   "execution_count": 10,
   "id": "8dcdb006",
   "metadata": {
    "execution": {
     "iopub.execute_input": "2021-05-27T06:11:58.255351Z",
     "iopub.status.busy": "2021-05-27T06:11:58.254386Z",
     "iopub.status.idle": "2021-05-27T06:11:58.347095Z",
     "shell.execute_reply": "2021-05-27T06:11:58.339567Z"
    }
   },
   "outputs": [
    {
     "data": {
      "image/svg+xml": [
       "<?xml version=\"1.0\" encoding=\"UTF-8\" standalone=\"no\"?><svg xmlns=\"http://www.w3.org/2000/svg\" xmlns:xlink=\"http://www.w3.org/1999/xlink\" contentScriptType=\"application/ecmascript\" contentStyleType=\"text/css\" height=\"539px\" preserveAspectRatio=\"none\" style=\"width:266px;height:539px;\" version=\"1.1\" viewBox=\"0 0 266 539\" width=\"266px\" zoomAndPan=\"magnify\"><defs/><g><!--MD5=[fbc87193dbaf4d95561dea2c320d4a47]\n",
       "cluster E1--><a href=\"psysml:c58eea24-2ccf-44f2-b6e8-e98c7ec17236\" target=\"_top\" title=\"psysml:c58eea24-2ccf-44f2-b6e8-e98c7ec17236\" xlink:actuate=\"onRequest\" xlink:href=\"psysml:c58eea24-2ccf-44f2-b6e8-e98c7ec17236\" xlink:show=\"new\" xlink:title=\"psysml:c58eea24-2ccf-44f2-b6e8-e98c7ec17236\" xlink:type=\"simple\"><polygon fill=\"#FFFFFF\" points=\"16,6,34,6,41,28.2969,244,28.2969,244,527,16,527,16,6\" style=\"stroke: #000000; stroke-width: 1.5;\"/><line style=\"stroke: #000000; stroke-width: 1.5;\" x1=\"16\" x2=\"41\" y1=\"28.2969\" y2=\"28.2969\"/><text fill=\"#000000\" font-family=\"sans-serif\" font-size=\"14\" font-weight=\"bold\" lengthAdjust=\"spacingAndGlyphs\" textLength=\"12\" x=\"20\" y=\"20.9951\">Q</text></a><!--MD5=[b4997ac47864f28c2f74865a473b2911]\n",
       "class E2--><a href=\"psysml:a4e187a3-203e-405d-be98-97d147693ddf\" target=\"_top\" title=\"psysml:a4e187a3-203e-405d-be98-97d147693ddf\" xlink:actuate=\"onRequest\" xlink:href=\"psysml:a4e187a3-203e-405d-be98-97d147693ddf\" xlink:show=\"new\" xlink:title=\"psysml:a4e187a3-203e-405d-be98-97d147693ddf\" xlink:type=\"simple\"><rect fill=\"#FFFFFF\" height=\"45.9375\" id=\"E2\" style=\"stroke: #383838; stroke-width: 1.5;\" width=\"66\" x=\"147\" y=\"359\"/><text fill=\"#000000\" font-family=\"sans-serif\" font-size=\"12\" font-style=\"italic\" lengthAdjust=\"spacingAndGlyphs\" textLength=\"64\" x=\"148\" y=\"375.1387\">«part def»</text><text fill=\"#000000\" font-family=\"sans-serif\" font-size=\"12\" lengthAdjust=\"spacingAndGlyphs\" textLength=\"7\" x=\"176.5\" y=\"389.1074\">F</text><line style=\"stroke: #383838; stroke-width: 1.5;\" x1=\"148\" x2=\"212\" y1=\"396.9375\" y2=\"396.9375\"/></a><!--MD5=[09b614a08d8cba4a07c9adeb5e0fee81]\n",
       "class E3--><a href=\"psysml:6ada620e-a181-4489-89b5-9a75fb715758\" target=\"_top\" title=\"psysml:6ada620e-a181-4489-89b5-9a75fb715758\" xlink:actuate=\"onRequest\" xlink:href=\"psysml:6ada620e-a181-4489-89b5-9a75fb715758\" xlink:show=\"new\" xlink:title=\"psysml:6ada620e-a181-4489-89b5-9a75fb715758\" xlink:type=\"simple\"><rect fill=\"#FFFFFF\" height=\"45.9375\" id=\"E3\" rx=\"10\" ry=\"10\" style=\"stroke: #383838; stroke-width: 1.5;\" width=\"42\" x=\"159\" y=\"465\"/><text fill=\"#000000\" font-family=\"sans-serif\" font-size=\"12\" font-style=\"italic\" lengthAdjust=\"spacingAndGlyphs\" textLength=\"40\" x=\"160\" y=\"481.1387\">«part»</text><text fill=\"#000000\" font-family=\"sans-serif\" font-size=\"12\" lengthAdjust=\"spacingAndGlyphs\" textLength=\"8\" x=\"176\" y=\"495.1074\">a</text><line style=\"stroke: #383838; stroke-width: 1.5;\" x1=\"160\" x2=\"200\" y1=\"502.9375\" y2=\"502.9375\"/></a><!--MD5=[ebbe1d658d1005bcc118a6aa81145e00]\n",
       "class E4--><a href=\"psysml:90a61716-c53d-4f92-beb5-5068bb9fa1a0\" target=\"_top\" title=\"psysml:90a61716-c53d-4f92-beb5-5068bb9fa1a0\" xlink:actuate=\"onRequest\" xlink:href=\"psysml:90a61716-c53d-4f92-beb5-5068bb9fa1a0\" xlink:show=\"new\" xlink:title=\"psysml:90a61716-c53d-4f92-beb5-5068bb9fa1a0\" xlink:type=\"simple\"><rect fill=\"#FFFFFF\" height=\"45.9375\" id=\"E4\" rx=\"10\" ry=\"10\" style=\"stroke: #383838; stroke-width: 1.5;\" width=\"42\" x=\"186\" y=\"253\"/><text fill=\"#000000\" font-family=\"sans-serif\" font-size=\"12\" font-style=\"italic\" lengthAdjust=\"spacingAndGlyphs\" textLength=\"40\" x=\"187\" y=\"269.1387\">«part»</text><text fill=\"#000000\" font-family=\"sans-serif\" font-size=\"12\" lengthAdjust=\"spacingAndGlyphs\" textLength=\"19\" x=\"197.5\" y=\"283.1074\">f: F</text><line style=\"stroke: #383838; stroke-width: 1.5;\" x1=\"187\" x2=\"227\" y1=\"290.9375\" y2=\"290.9375\"/></a><!--MD5=[270fce915f116d4de14055a7c1d9a0f3]\n",
       "class E5--><a href=\"psysml:282ebd08-29d1-4bc9-b49b-68a749240d69\" target=\"_top\" title=\"psysml:282ebd08-29d1-4bc9-b49b-68a749240d69\" xlink:actuate=\"onRequest\" xlink:href=\"psysml:282ebd08-29d1-4bc9-b49b-68a749240d69\" xlink:show=\"new\" xlink:title=\"psysml:282ebd08-29d1-4bc9-b49b-68a749240d69\" xlink:type=\"simple\"><rect fill=\"#FFFFFF\" height=\"45.9375\" id=\"E5\" style=\"stroke: #383838; stroke-width: 1.5;\" width=\"66\" x=\"32\" y=\"359\"/><text fill=\"#000000\" font-family=\"sans-serif\" font-size=\"12\" font-style=\"italic\" lengthAdjust=\"spacingAndGlyphs\" textLength=\"64\" x=\"33\" y=\"375.1387\">«part def»</text><text fill=\"#000000\" font-family=\"sans-serif\" font-size=\"12\" lengthAdjust=\"spacingAndGlyphs\" textLength=\"8\" x=\"61\" y=\"389.1074\">A</text><line style=\"stroke: #383838; stroke-width: 1.5;\" x1=\"33\" x2=\"97\" y1=\"396.9375\" y2=\"396.9375\"/></a><!--MD5=[60a26617385b1d2d0262a64233df1f8d]\n",
       "class E6--><a href=\"psysml:ba34075d-eebc-4755-94e7-ca84c5a458cd\" target=\"_top\" title=\"psysml:ba34075d-eebc-4755-94e7-ca84c5a458cd\" xlink:actuate=\"onRequest\" xlink:href=\"psysml:ba34075d-eebc-4755-94e7-ca84c5a458cd\" xlink:show=\"new\" xlink:title=\"psysml:ba34075d-eebc-4755-94e7-ca84c5a458cd\" xlink:type=\"simple\"><rect fill=\"#FFFFFF\" height=\"45.9375\" id=\"E6\" rx=\"10\" ry=\"10\" style=\"stroke: #383838; stroke-width: 1.5;\" width=\"42\" x=\"44\" y=\"465\"/><text fill=\"#000000\" font-family=\"sans-serif\" font-size=\"12\" font-style=\"italic\" lengthAdjust=\"spacingAndGlyphs\" textLength=\"40\" x=\"45\" y=\"481.1387\">«part»</text><text fill=\"#000000\" font-family=\"sans-serif\" font-size=\"12\" lengthAdjust=\"spacingAndGlyphs\" textLength=\"8\" x=\"61\" y=\"495.1074\">g</text><line style=\"stroke: #383838; stroke-width: 1.5;\" x1=\"45\" x2=\"85\" y1=\"502.9375\" y2=\"502.9375\"/></a><!--MD5=[2156ba9850f5573cc1fc38a6a4b2f02b]\n",
       "class E7--><a href=\"psysml:88191fe6-4f94-4991-8591-be7eb93db47e\" target=\"_top\" title=\"psysml:88191fe6-4f94-4991-8591-be7eb93db47e\" xlink:actuate=\"onRequest\" xlink:href=\"psysml:88191fe6-4f94-4991-8591-be7eb93db47e\" xlink:show=\"new\" xlink:title=\"psysml:88191fe6-4f94-4991-8591-be7eb93db47e\" xlink:type=\"simple\"><rect fill=\"#FFFFFF\" height=\"45.9375\" id=\"E7\" style=\"stroke: #383838; stroke-width: 1.5;\" width=\"66\" x=\"64\" y=\"147\"/><text fill=\"#000000\" font-family=\"sans-serif\" font-size=\"12\" font-style=\"italic\" lengthAdjust=\"spacingAndGlyphs\" textLength=\"64\" x=\"65\" y=\"163.1387\">«part def»</text><text fill=\"#000000\" font-family=\"sans-serif\" font-size=\"12\" lengthAdjust=\"spacingAndGlyphs\" textLength=\"8\" x=\"93\" y=\"177.1074\">B</text><line style=\"stroke: #383838; stroke-width: 1.5;\" x1=\"65\" x2=\"129\" y1=\"184.9375\" y2=\"184.9375\"/></a><!--MD5=[b9389687b975829384b498ac4b7476b2]\n",
       "class E8--><a href=\"psysml:ab65aa6d-a5a6-4b47-8167-56da9e982a64\" target=\"_top\" title=\"psysml:ab65aa6d-a5a6-4b47-8167-56da9e982a64\" xlink:actuate=\"onRequest\" xlink:href=\"psysml:ab65aa6d-a5a6-4b47-8167-56da9e982a64\" xlink:show=\"new\" xlink:title=\"psysml:ab65aa6d-a5a6-4b47-8167-56da9e982a64\" xlink:type=\"simple\"><rect fill=\"#FFFFFF\" height=\"45.9375\" id=\"E8\" rx=\"10\" ry=\"10\" style=\"stroke: #383838; stroke-width: 1.5;\" width=\"42\" x=\"109\" y=\"253\"/><text fill=\"#000000\" font-family=\"sans-serif\" font-size=\"12\" font-style=\"italic\" lengthAdjust=\"spacingAndGlyphs\" textLength=\"40\" x=\"110\" y=\"269.1387\">«part»</text><text fill=\"#000000\" font-family=\"sans-serif\" font-size=\"12\" lengthAdjust=\"spacingAndGlyphs\" textLength=\"19\" x=\"120.5\" y=\"283.1074\">f: F</text><line style=\"stroke: #383838; stroke-width: 1.5;\" x1=\"110\" x2=\"150\" y1=\"290.9375\" y2=\"290.9375\"/></a><!--MD5=[fd4143e9d270a159db93a4ea2a975926]\n",
       "class E9--><a href=\"psysml:624da0d4-2cfd-4aae-83e5-be6cf87688fa\" target=\"_top\" title=\"psysml:624da0d4-2cfd-4aae-83e5-be6cf87688fa\" xlink:actuate=\"onRequest\" xlink:href=\"psysml:624da0d4-2cfd-4aae-83e5-be6cf87688fa\" xlink:show=\"new\" xlink:title=\"psysml:624da0d4-2cfd-4aae-83e5-be6cf87688fa\" xlink:type=\"simple\"><rect fill=\"#FFFFFF\" height=\"45.9375\" id=\"E9\" rx=\"10\" ry=\"10\" style=\"stroke: #383838; stroke-width: 1.5;\" width=\"42\" x=\"32\" y=\"253\"/><text fill=\"#000000\" font-family=\"sans-serif\" font-size=\"12\" font-style=\"italic\" lengthAdjust=\"spacingAndGlyphs\" textLength=\"40\" x=\"33\" y=\"269.1387\">«part»</text><text fill=\"#000000\" font-family=\"sans-serif\" font-size=\"12\" lengthAdjust=\"spacingAndGlyphs\" textLength=\"24\" x=\"41\" y=\"283.1074\">a: A</text><line style=\"stroke: #383838; stroke-width: 1.5;\" x1=\"33\" x2=\"73\" y1=\"290.9375\" y2=\"290.9375\"/></a><!--MD5=[96f4274e9e20536e775497830990834d]\n",
       "class E10--><a href=\"psysml:5c182589-a5f3-41ec-a644-db6857a5c19a\" target=\"_top\" title=\"psysml:5c182589-a5f3-41ec-a644-db6857a5c19a\" xlink:actuate=\"onRequest\" xlink:href=\"psysml:5c182589-a5f3-41ec-a644-db6857a5c19a\" xlink:show=\"new\" xlink:title=\"psysml:5c182589-a5f3-41ec-a644-db6857a5c19a\" xlink:type=\"simple\"><rect fill=\"#FFFFFF\" height=\"45.9375\" id=\"E10\" rx=\"10\" ry=\"10\" style=\"stroke: #383838; stroke-width: 1.5;\" width=\"42\" x=\"76\" y=\"41\"/><text fill=\"#000000\" font-family=\"sans-serif\" font-size=\"12\" font-style=\"italic\" lengthAdjust=\"spacingAndGlyphs\" textLength=\"40\" x=\"77\" y=\"57.1387\">«part»</text><text fill=\"#000000\" font-family=\"sans-serif\" font-size=\"12\" lengthAdjust=\"spacingAndGlyphs\" textLength=\"24\" x=\"85\" y=\"71.1074\">b: B</text><line style=\"stroke: #383838; stroke-width: 1.5;\" x1=\"77\" x2=\"117\" y1=\"78.9375\" y2=\"78.9375\"/></a><!--MD5=[209b3feb70ccb6233bfe1053d122c12c]\n",
       "reverse link E2 to E3--><a href=\"psysml:f4f335e8-ebb2-4b93-b8a2-3184b124f9b4\" target=\"_top\" title=\"psysml:f4f335e8-ebb2-4b93-b8a2-3184b124f9b4\" xlink:actuate=\"onRequest\" xlink:href=\"psysml:f4f335e8-ebb2-4b93-b8a2-3184b124f9b4\" xlink:show=\"new\" xlink:title=\"psysml:f4f335e8-ebb2-4b93-b8a2-3184b124f9b4\" xlink:type=\"simple\"><path d=\"M180,418.44 C180,433.87 180,451.47 180,464.98 \" fill=\"none\" id=\"E2&lt;-E3\" style=\"stroke: #383838; stroke-width: 1.0;\"/><polygon fill=\"#383838\" points=\"180,405.06,176,411.06,180,417.06,184,411.06,180,405.06\" style=\"stroke: #383838; stroke-width: 1.0;\"/></a><!--MD5=[185131fc0dcab0a4505a2ebe144e961b]\n",
       "link E4 to E2--><a href=\"psysml:6b545197-59fa-4019-832b-0413d8dfad43\" target=\"_top\" title=\"psysml:6b545197-59fa-4019-832b-0413d8dfad43\" xlink:actuate=\"onRequest\" xlink:href=\"psysml:6b545197-59fa-4019-832b-0413d8dfad43\" xlink:show=\"new\" xlink:title=\"psysml:6b545197-59fa-4019-832b-0413d8dfad43\" xlink:type=\"simple\"><path d=\"M201.27,299.06 C198.23,310.78 194.39,325.57 190.81,339.36 \" fill=\"none\" id=\"E4-&gt;E2\" style=\"stroke: #383838; stroke-width: 1.0;\"/><polygon fill=\"#FFFFFF\" points=\"185.72,358.98,183.7221,338.8303,197.2724,342.3504,185.72,358.98\" style=\"stroke: #383838; stroke-width: 1.0;\"/><ellipse cx=\"187.091\" cy=\"333.8163\" fill=\"#383838\" rx=\"2\" ry=\"2\" style=\"stroke: #383838; stroke-width: 1.0;\"/><ellipse cx=\"196.7698\" cy=\"336.3307\" fill=\"#383838\" rx=\"2\" ry=\"2\" style=\"stroke: #383838; stroke-width: 1.0;\"/></a><!--MD5=[85d356282659285ab4b2cfe2f634dd2b]\n",
       "reverse link E5 to E6--><a href=\"psysml:42a57766-d710-4931-98ca-f2942df4b5a7\" target=\"_top\" title=\"psysml:42a57766-d710-4931-98ca-f2942df4b5a7\" xlink:actuate=\"onRequest\" xlink:href=\"psysml:42a57766-d710-4931-98ca-f2942df4b5a7\" xlink:show=\"new\" xlink:title=\"psysml:42a57766-d710-4931-98ca-f2942df4b5a7\" xlink:type=\"simple\"><path d=\"M65,418.44 C65,433.87 65,451.47 65,464.98 \" fill=\"none\" id=\"E5&lt;-E6\" style=\"stroke: #383838; stroke-width: 1.0;\"/><polygon fill=\"#383838\" points=\"65,405.06,61,411.06,65,417.06,69,411.06,65,405.06\" style=\"stroke: #383838; stroke-width: 1.0;\"/></a><!--MD5=[dc164f5e8a733ab456ef1add180e9e34]\n",
       "reverse link E7 to E8--><a href=\"psysml:ee3500c3-1d32-470f-b6bb-e11a5c090a2b\" target=\"_top\" title=\"psysml:ee3500c3-1d32-470f-b6bb-e11a5c090a2b\" xlink:actuate=\"onRequest\" xlink:href=\"psysml:ee3500c3-1d32-470f-b6bb-e11a5c090a2b\" xlink:show=\"new\" xlink:title=\"psysml:ee3500c3-1d32-470f-b6bb-e11a5c090a2b\" xlink:type=\"simple\"><path d=\"M107.95,205.49 C112.91,221.15 118.64,239.19 123.01,252.98 \" fill=\"none\" id=\"E7&lt;-E8\" style=\"stroke: #383838; stroke-width: 1.0;\"/><polygon fill=\"#383838\" points=\"104,193.06,101.9989,199.9879,107.6243,204.4996,109.6253,197.5717,104,193.06\" style=\"stroke: #383838; stroke-width: 1.0;\"/></a><!--MD5=[f1f3f9f2fc535e6147756cb86a7f2e32]\n",
       "link E8 to E2--><a href=\"psysml:385ac8e9-821f-48a2-9a91-91f0503517ad\" target=\"_top\" title=\"psysml:385ac8e9-821f-48a2-9a91-91f0503517ad\" xlink:actuate=\"onRequest\" xlink:href=\"psysml:385ac8e9-821f-48a2-9a91-91f0503517ad\" xlink:show=\"new\" xlink:title=\"psysml:385ac8e9-821f-48a2-9a91-91f0503517ad\" xlink:type=\"simple\"><path d=\"M140.6,299.06 C146.44,311.19 153.86,326.62 160.68,340.82 \" fill=\"none\" id=\"E8-&gt;E2\" style=\"stroke: #383838; stroke-width: 1.0;\"/><polygon fill=\"#FFFFFF\" points=\"169.41,358.98,154.8709,344.8869,167.4894,338.8228,169.41,358.98\" style=\"stroke: #383838; stroke-width: 1.0;\"/><ellipse cx=\"154.2046\" cy=\"338.8831\" fill=\"#383838\" rx=\"2\" ry=\"2\" style=\"stroke: #383838; stroke-width: 1.0;\"/><ellipse cx=\"163.2178\" cy=\"334.5516\" fill=\"#383838\" rx=\"2\" ry=\"2\" style=\"stroke: #383838; stroke-width: 1.0;\"/></a><!--MD5=[e4a10ef82d0e328e31cac39a31e58dda]\n",
       "reverse link E7 to E9--><a href=\"psysml:4dc3c190-fff9-4cfd-9ec6-604d7dd22971\" target=\"_top\" title=\"psysml:4dc3c190-fff9-4cfd-9ec6-604d7dd22971\" xlink:actuate=\"onRequest\" xlink:href=\"psysml:4dc3c190-fff9-4cfd-9ec6-604d7dd22971\" xlink:show=\"new\" xlink:title=\"psysml:4dc3c190-fff9-4cfd-9ec6-604d7dd22971\" xlink:type=\"simple\"><path d=\"M82.41,205.49 C75.78,221.15 68.15,239.19 62.32,252.98 \" fill=\"none\" id=\"E7&lt;-E9\" style=\"stroke: #383838; stroke-width: 1.0;\"/><polygon fill=\"#383838\" points=\"87.67,193.06,81.6505,197.0305,83.0003,204.1142,89.0199,200.1436,87.67,193.06\" style=\"stroke: #383838; stroke-width: 1.0;\"/></a><!--MD5=[bfc3ddf2e613be37104f658f09af896c]\n",
       "link E9 to E5--><a href=\"psysml:e6457602-7adc-4ee0-a454-eb40d686de5b\" target=\"_top\" title=\"psysml:e6457602-7adc-4ee0-a454-eb40d686de5b\" xlink:actuate=\"onRequest\" xlink:href=\"psysml:e6457602-7adc-4ee0-a454-eb40d686de5b\" xlink:show=\"new\" xlink:title=\"psysml:e6457602-7adc-4ee0-a454-eb40d686de5b\" xlink:type=\"simple\"><path d=\"M55.54,299.06 C56.88,310.64 58.56,325.23 60.14,338.87 \" fill=\"none\" id=\"E9-&gt;E5\" style=\"stroke: #383838; stroke-width: 1.0;\"/><polygon fill=\"#FFFFFF\" points=\"62.46,358.98,53.3347,340.9044,67.243,339.3046,62.46,358.98\" style=\"stroke: #383838; stroke-width: 1.0;\"/><ellipse cx=\"54.6702\" cy=\"335.0132\" fill=\"#383838\" rx=\"2\" ry=\"2\" style=\"stroke: #383838; stroke-width: 1.0;\"/><ellipse cx=\"64.6047\" cy=\"333.8704\" fill=\"#383838\" rx=\"2\" ry=\"2\" style=\"stroke: #383838; stroke-width: 1.0;\"/></a><!--MD5=[a919e0967d6f3de553dc51b9865a1d6d]\n",
       "link E10 to E7--><a href=\"psysml:078c16df-6fb3-4d69-bd0c-6c240437776b\" target=\"_top\" title=\"psysml:078c16df-6fb3-4d69-bd0c-6c240437776b\" xlink:actuate=\"onRequest\" xlink:href=\"psysml:078c16df-6fb3-4d69-bd0c-6c240437776b\" xlink:show=\"new\" xlink:title=\"psysml:078c16df-6fb3-4d69-bd0c-6c240437776b\" xlink:type=\"simple\"><path d=\"M97,87.06 C97,98.64 97,113.23 97,126.87 \" fill=\"none\" id=\"E10-&gt;E7\" style=\"stroke: #383838; stroke-width: 1.0;\"/><polygon fill=\"#FFFFFF\" points=\"97,146.98,90,127.98,104,127.98,97,146.98\" style=\"stroke: #383838; stroke-width: 1.0;\"/><ellipse cx=\"92\" cy=\"122.28\" fill=\"#383838\" rx=\"2\" ry=\"2\" style=\"stroke: #383838; stroke-width: 1.0;\"/><ellipse cx=\"102\" cy=\"122.28\" fill=\"#383838\" rx=\"2\" ry=\"2\" style=\"stroke: #383838; stroke-width: 1.0;\"/></a><!--MD5=[707e3a76da724c26785c95b6c241038c]\n",
       "@startuml\r\n",
       "skinparam linetype polyline\r\n",
       "skinparam monochrome true\r\n",
       "skinparam classbackgroundcolor white\r\n",
       "skinparam shadowing false\r\n",
       "skinparam wrapWidth 300\r\n",
       "hide circle\r\n",
       "\r\n",
       "package \"Q\" as E1  [[psysml:c58eea24-2ccf-44f2-b6e8-e98c7ec17236 ]]  {\r\n",
       "comp def \"F\" as E2  <<(T,blue)part def>> [[psysml:a4e187a3-203e-405d-be98-97d147693ddf ]] {\r\n",
       "}\r\n",
       "comp usage \"a\" as E3  <<(T,blue)part>> [[psysml:6ada620e-a181-4489-89b5-9a75fb715758 ]] {\r\n",
       "}\r\n",
       "comp usage \"f: F\" as E4  <<(T,blue)part>> [[psysml:90a61716-c53d-4f92-beb5-5068bb9fa1a0 ]] {\r\n",
       "}\r\n",
       "comp def \"A\" as E5  <<(T,blue)part def>> [[psysml:282ebd08-29d1-4bc9-b49b-68a749240d69 ]] {\r\n",
       "}\r\n",
       "comp usage \"g\" as E6  <<(T,blue)part>> [[psysml:ba34075d-eebc-4755-94e7-ca84c5a458cd ]] {\r\n",
       "}\r\n",
       "comp def \"B\" as E7  <<(T,blue)part def>> [[psysml:88191fe6-4f94-4991-8591-be7eb93db47e ]] {\r\n",
       "}\r\n",
       "comp usage \"f: F\" as E8  <<(T,blue)part>> [[psysml:ab65aa6d-a5a6-4b47-8167-56da9e982a64 ]] {\r\n",
       "}\r\n",
       "comp usage \"a: A\" as E9  <<(T,blue)part>> [[psysml:624da0d4-2cfd-4aae-83e5-be6cf87688fa ]] {\r\n",
       "}\r\n",
       "comp usage \"b: B\" as E10  <<(T,blue)part>> [[psysml:5c182589-a5f3-41ec-a644-db6857a5c19a ]] {\r\n",
       "}\r\n",
       "E2 *- - E3 [[psysml:f4f335e8-ebb2-4b93-b8a2-3184b124f9b4 ]] \r\n",
       "E4 - -:|> E2 [[psysml:6b545197-59fa-4019-832b-0413d8dfad43 ]] \r\n",
       "E5 *- - E6 [[psysml:42a57766-d710-4931-98ca-f2942df4b5a7 ]] \r\n",
       "E7 *- - E8 [[psysml:ee3500c3-1d32-470f-b6bb-e11a5c090a2b ]] \r\n",
       "E8 - -:|> E2 [[psysml:385ac8e9-821f-48a2-9a91-91f0503517ad ]] \r\n",
       "E7 *- - E9 [[psysml:4dc3c190-fff9-4cfd-9ec6-604d7dd22971 ]] \r\n",
       "E9 - -:|> E5 [[psysml:e6457602-7adc-4ee0-a454-eb40d686de5b ]] \r\n",
       "E10 - -:|> E7 [[psysml:078c16df-6fb3-4d69-bd0c-6c240437776b ]] \r\n",
       "}\r\n",
       "@enduml\r\n",
       "\n",
       "PlantUML version 1.2020.13(Sat Jun 13 12:26:38 UTC 2020)\n",
       "(EPL source distribution)\n",
       "Java Runtime: OpenJDK Runtime Environment\n",
       "JVM: OpenJDK 64-Bit Server VM\n",
       "Default Encoding: UTF-8\n",
       "Language: en\n",
       "Country: null\n",
       "--></g></svg>"
      ]
     },
     "execution_count": 10,
     "metadata": {},
     "output_type": "execute_result"
    }
   ],
   "source": [
    "%viz --style=\"POLYLINE\" --view=\"Tree\" \"Q\""
   ]
  },
  {
   "cell_type": "code",
   "execution_count": 11,
   "id": "7798a6c5",
   "metadata": {
    "execution": {
     "iopub.execute_input": "2021-05-27T06:11:58.391530Z",
     "iopub.status.busy": "2021-05-27T06:11:58.391095Z",
     "iopub.status.idle": "2021-05-27T06:11:58.398827Z",
     "shell.execute_reply": "2021-05-27T06:11:58.398548Z"
    }
   },
   "outputs": [
    {
     "data": {
      "image/svg+xml": [
       "<?xml version=\"1.0\" encoding=\"UTF-8\" standalone=\"no\"?><svg xmlns=\"http://www.w3.org/2000/svg\" xmlns:xlink=\"http://www.w3.org/1999/xlink\" contentScriptType=\"application/ecmascript\" contentStyleType=\"text/css\" height=\"12px\" preserveAspectRatio=\"none\" style=\"width:12px;height:12px;\" version=\"1.1\" viewBox=\"0 0 12 12\" width=\"12px\" zoomAndPan=\"magnify\"><defs/><g><!--MD5=[896ac0e7a515d8dd7765a661cb4ee08b]\n",
       "@startuml\r\n",
       "skinparam linetype polyline\r\n",
       "skinparam monochrome true\r\n",
       "skinparam classbackgroundcolor white\r\n",
       "skinparam shadowing false\r\n",
       "skinparam wrapWidth 300\r\n",
       "hide circle\r\n",
       "\r\n",
       "@enduml\r\n",
       "\n",
       "PlantUML version 1.2020.13(Sat Jun 13 12:26:38 UTC 2020)\n",
       "(EPL source distribution)\n",
       "Java Runtime: OpenJDK Runtime Environment\n",
       "JVM: OpenJDK 64-Bit Server VM\n",
       "Default Encoding: UTF-8\n",
       "Language: en\n",
       "Country: null\n",
       "--></g></svg>"
      ]
     },
     "execution_count": 11,
     "metadata": {},
     "output_type": "execute_result"
    }
   ],
   "source": [
    "%viz --style=\"POLYLINE\" --view=\"State\" \"Q\""
   ]
  },
  {
   "cell_type": "code",
   "execution_count": 12,
   "id": "e04fc9d2",
   "metadata": {
    "execution": {
     "iopub.execute_input": "2021-05-27T06:11:58.452129Z",
     "iopub.status.busy": "2021-05-27T06:11:58.451783Z",
     "iopub.status.idle": "2021-05-27T06:11:58.510434Z",
     "shell.execute_reply": "2021-05-27T06:11:58.510808Z"
    }
   },
   "outputs": [
    {
     "data": {
      "image/svg+xml": [
       "<?xml version=\"1.0\" encoding=\"UTF-8\" standalone=\"no\"?><svg xmlns=\"http://www.w3.org/2000/svg\" xmlns:xlink=\"http://www.w3.org/1999/xlink\" contentScriptType=\"application/ecmascript\" contentStyleType=\"text/css\" height=\"192px\" preserveAspectRatio=\"none\" style=\"width:621px;height:192px;\" version=\"1.1\" viewBox=\"0 0 621 192\" width=\"621px\" zoomAndPan=\"magnify\"><defs/><g><!--MD5=[fbc87193dbaf4d95561dea2c320d4a47]\n",
       "cluster E1--><a href=\"psysml:c58eea24-2ccf-44f2-b6e8-e98c7ec17236\" target=\"_top\" title=\"psysml:c58eea24-2ccf-44f2-b6e8-e98c7ec17236\" xlink:actuate=\"onRequest\" xlink:href=\"psysml:c58eea24-2ccf-44f2-b6e8-e98c7ec17236\" xlink:show=\"new\" xlink:title=\"psysml:c58eea24-2ccf-44f2-b6e8-e98c7ec17236\" xlink:type=\"simple\"><polygon fill=\"#FFFFFF\" points=\"16,6,34,6,41,28.2969,599,28.2969,599,180,16,180,16,6\" style=\"stroke: #000000; stroke-width: 1.5;\"/><line style=\"stroke: #000000; stroke-width: 1.5;\" x1=\"16\" x2=\"41\" y1=\"28.2969\" y2=\"28.2969\"/><text fill=\"#000000\" font-family=\"sans-serif\" font-size=\"14\" font-weight=\"bold\" lengthAdjust=\"spacingAndGlyphs\" textLength=\"12\" x=\"20\" y=\"20.9951\">Q</text></a><!--MD5=[e4f7fae6ed58524ba242bb0b0d3be6b7]\n",
       "cluster E2--><a href=\"psysml:a4e187a3-203e-405d-be98-97d147693ddf\" target=\"_top\" title=\"psysml:a4e187a3-203e-405d-be98-97d147693ddf\" xlink:actuate=\"onRequest\" xlink:href=\"psysml:a4e187a3-203e-405d-be98-97d147693ddf\" xlink:show=\"new\" xlink:title=\"psysml:a4e187a3-203e-405d-be98-97d147693ddf\" xlink:type=\"simple\"><rect fill=\"#FFFFFF\" height=\"107\" id=\"E2\" style=\"stroke: #383838; stroke-width: 1.5;\" width=\"87\" x=\"488\" y=\"49\"/><rect fill=\"#F8F8F8\" height=\"37.9375\" style=\"stroke: #383838; stroke-width: 1.5;\" width=\"87\" x=\"488\" y=\"49\"/><text fill=\"#000000\" font-family=\"sans-serif\" font-size=\"12\" font-style=\"italic\" lengthAdjust=\"spacingAndGlyphs\" textLength=\"64\" x=\"499.5\" y=\"65.1387\">«part def»</text><text fill=\"#000000\" font-family=\"sans-serif\" font-size=\"12\" lengthAdjust=\"spacingAndGlyphs\" textLength=\"7\" x=\"528\" y=\"79.1074\">F</text></a><!--MD5=[de5ec2e2e8f62f467e546659f5068c88]\n",
       "cluster E5--><a href=\"psysml:282ebd08-29d1-4bc9-b49b-68a749240d69\" target=\"_top\" title=\"psysml:282ebd08-29d1-4bc9-b49b-68a749240d69\" xlink:actuate=\"onRequest\" xlink:href=\"psysml:282ebd08-29d1-4bc9-b49b-68a749240d69\" xlink:show=\"new\" xlink:title=\"psysml:282ebd08-29d1-4bc9-b49b-68a749240d69\" xlink:type=\"simple\"><rect fill=\"#FFFFFF\" height=\"107\" id=\"E5\" style=\"stroke: #383838; stroke-width: 1.5;\" width=\"87\" x=\"377\" y=\"49\"/><rect fill=\"#F8F8F8\" height=\"37.9375\" style=\"stroke: #383838; stroke-width: 1.5;\" width=\"87\" x=\"377\" y=\"49\"/><text fill=\"#000000\" font-family=\"sans-serif\" font-size=\"12\" font-style=\"italic\" lengthAdjust=\"spacingAndGlyphs\" textLength=\"64\" x=\"388.5\" y=\"65.1387\">«part def»</text><text fill=\"#000000\" font-family=\"sans-serif\" font-size=\"12\" lengthAdjust=\"spacingAndGlyphs\" textLength=\"8\" x=\"416.5\" y=\"79.1074\">A</text></a><!--MD5=[168fadf3d0c3fd93dd5d6da1b1d7ab76]\n",
       "cluster E7--><a href=\"psysml:88191fe6-4f94-4991-8591-be7eb93db47e\" target=\"_top\" title=\"psysml:88191fe6-4f94-4991-8591-be7eb93db47e\" xlink:actuate=\"onRequest\" xlink:href=\"psysml:88191fe6-4f94-4991-8591-be7eb93db47e\" xlink:show=\"new\" xlink:title=\"psysml:88191fe6-4f94-4991-8591-be7eb93db47e\" xlink:type=\"simple\"><rect fill=\"#FFFFFF\" height=\"107\" id=\"E7\" style=\"stroke: #383838; stroke-width: 1.5;\" width=\"167\" x=\"186\" y=\"49\"/><rect fill=\"#F8F8F8\" height=\"37.9375\" style=\"stroke: #383838; stroke-width: 1.5;\" width=\"167\" x=\"186\" y=\"49\"/><text fill=\"#000000\" font-family=\"sans-serif\" font-size=\"12\" font-style=\"italic\" lengthAdjust=\"spacingAndGlyphs\" textLength=\"64\" x=\"237.5\" y=\"65.1387\">«part def»</text><text fill=\"#000000\" font-family=\"sans-serif\" font-size=\"12\" lengthAdjust=\"spacingAndGlyphs\" textLength=\"8\" x=\"265.5\" y=\"79.1074\">B</text></a><g id=\"E1.E2.E3\"><a href=\"psysml:6ada620e-a181-4489-89b5-9a75fb715758\" target=\"_top\" title=\"psysml:6ada620e-a181-4489-89b5-9a75fb715758\" xlink:actuate=\"onRequest\" xlink:href=\"psysml:6ada620e-a181-4489-89b5-9a75fb715758\" xlink:show=\"new\" xlink:title=\"psysml:6ada620e-a181-4489-89b5-9a75fb715758\" xlink:type=\"simple\"><rect fill=\"#FFFFFF\" height=\"40\" id=\"E3\" rx=\"10\" ry=\"10\" style=\"stroke: #383838; stroke-width: 1.5;\" width=\"50\" x=\"506\" y=\"100\"/><rect fill=\"#F8F8F8\" height=\"23.9688\" rx=\"10\" ry=\"10\" style=\"stroke: #F8F8F8; stroke-width: 1.5;\" width=\"50\" x=\"506\" y=\"100\"/><rect fill=\"#F8F8F8\" height=\"10\" style=\"stroke: #F8F8F8; stroke-width: 1.5;\" width=\"50\" x=\"506\" y=\"113.9688\"/><rect fill=\"none\" height=\"40\" id=\"E3\" rx=\"10\" ry=\"10\" style=\"stroke: #383838; stroke-width: 1.5;\" width=\"50\" x=\"506\" y=\"100\"/><text fill=\"#000000\" font-family=\"sans-serif\" font-size=\"12\" lengthAdjust=\"spacingAndGlyphs\" textLength=\"8\" x=\"527\" y=\"116.1387\">a</text></a></g><g id=\"E1.E4\"><a href=\"psysml:90a61716-c53d-4f92-beb5-5068bb9fa1a0\" target=\"_top\" title=\"psysml:90a61716-c53d-4f92-beb5-5068bb9fa1a0\" xlink:actuate=\"onRequest\" xlink:href=\"psysml:90a61716-c53d-4f92-beb5-5068bb9fa1a0\" xlink:show=\"new\" xlink:title=\"psysml:90a61716-c53d-4f92-beb5-5068bb9fa1a0\" xlink:type=\"simple\"><rect fill=\"#FFFFFF\" height=\"40\" id=\"E4\" rx=\"10\" ry=\"10\" style=\"stroke: #383838; stroke-width: 1.5;\" width=\"50\" x=\"117\" y=\"100\"/><rect fill=\"#F8F8F8\" height=\"23.9688\" rx=\"10\" ry=\"10\" style=\"stroke: #F8F8F8; stroke-width: 1.5;\" width=\"50\" x=\"117\" y=\"100\"/><rect fill=\"#F8F8F8\" height=\"10\" style=\"stroke: #F8F8F8; stroke-width: 1.5;\" width=\"50\" x=\"117\" y=\"113.9688\"/><rect fill=\"none\" height=\"40\" id=\"E4\" rx=\"10\" ry=\"10\" style=\"stroke: #383838; stroke-width: 1.5;\" width=\"50\" x=\"117\" y=\"100\"/><text fill=\"#000000\" font-family=\"sans-serif\" font-size=\"12\" lengthAdjust=\"spacingAndGlyphs\" textLength=\"19\" x=\"132.5\" y=\"116.1387\">f: F</text></a></g><g id=\"E1.E5.E6\"><a href=\"psysml:ba34075d-eebc-4755-94e7-ca84c5a458cd\" target=\"_top\" title=\"psysml:ba34075d-eebc-4755-94e7-ca84c5a458cd\" xlink:actuate=\"onRequest\" xlink:href=\"psysml:ba34075d-eebc-4755-94e7-ca84c5a458cd\" xlink:show=\"new\" xlink:title=\"psysml:ba34075d-eebc-4755-94e7-ca84c5a458cd\" xlink:type=\"simple\"><rect fill=\"#FFFFFF\" height=\"40\" id=\"E6\" rx=\"10\" ry=\"10\" style=\"stroke: #383838; stroke-width: 1.5;\" width=\"53\" x=\"393.5\" y=\"100\"/><rect fill=\"#F8F8F8\" height=\"23.9688\" rx=\"10\" ry=\"10\" style=\"stroke: #F8F8F8; stroke-width: 1.5;\" width=\"53\" x=\"393.5\" y=\"100\"/><rect fill=\"#F8F8F8\" height=\"10\" style=\"stroke: #F8F8F8; stroke-width: 1.5;\" width=\"53\" x=\"393.5\" y=\"113.9688\"/><rect fill=\"none\" height=\"40\" id=\"E6\" rx=\"10\" ry=\"10\" style=\"stroke: #383838; stroke-width: 1.5;\" width=\"53\" x=\"393.5\" y=\"100\"/><text fill=\"#000000\" font-family=\"sans-serif\" font-size=\"12\" lengthAdjust=\"spacingAndGlyphs\" textLength=\"38\" x=\"399\" y=\"116.1387\">g=f.a;</text></a></g><g id=\"E1.E7.E8\"><a href=\"psysml:ab65aa6d-a5a6-4b47-8167-56da9e982a64\" target=\"_top\" title=\"psysml:ab65aa6d-a5a6-4b47-8167-56da9e982a64\" xlink:actuate=\"onRequest\" xlink:href=\"psysml:ab65aa6d-a5a6-4b47-8167-56da9e982a64\" xlink:show=\"new\" xlink:title=\"psysml:ab65aa6d-a5a6-4b47-8167-56da9e982a64\" xlink:type=\"simple\"><rect fill=\"#FFFFFF\" height=\"40\" id=\"E8\" rx=\"10\" ry=\"10\" style=\"stroke: #383838; stroke-width: 1.5;\" width=\"50\" x=\"287\" y=\"100\"/><rect fill=\"#F8F8F8\" height=\"23.9688\" rx=\"10\" ry=\"10\" style=\"stroke: #F8F8F8; stroke-width: 1.5;\" width=\"50\" x=\"287\" y=\"100\"/><rect fill=\"#F8F8F8\" height=\"10\" style=\"stroke: #F8F8F8; stroke-width: 1.5;\" width=\"50\" x=\"287\" y=\"113.9688\"/><rect fill=\"none\" height=\"40\" id=\"E8\" rx=\"10\" ry=\"10\" style=\"stroke: #383838; stroke-width: 1.5;\" width=\"50\" x=\"287\" y=\"100\"/><text fill=\"#000000\" font-family=\"sans-serif\" font-size=\"12\" lengthAdjust=\"spacingAndGlyphs\" textLength=\"19\" x=\"302.5\" y=\"116.1387\">f: F</text></a></g><g id=\"E1.E7.E9\"><a href=\"psysml:624da0d4-2cfd-4aae-83e5-be6cf87688fa\" target=\"_top\" title=\"psysml:624da0d4-2cfd-4aae-83e5-be6cf87688fa\" xlink:actuate=\"onRequest\" xlink:href=\"psysml:624da0d4-2cfd-4aae-83e5-be6cf87688fa\" xlink:show=\"new\" xlink:title=\"psysml:624da0d4-2cfd-4aae-83e5-be6cf87688fa\" xlink:type=\"simple\"><rect fill=\"#FFFFFF\" height=\"40\" id=\"E9\" rx=\"10\" ry=\"10\" style=\"stroke: #383838; stroke-width: 1.5;\" width=\"50\" x=\"202\" y=\"100\"/><rect fill=\"#F8F8F8\" height=\"23.9688\" rx=\"10\" ry=\"10\" style=\"stroke: #F8F8F8; stroke-width: 1.5;\" width=\"50\" x=\"202\" y=\"100\"/><rect fill=\"#F8F8F8\" height=\"10\" style=\"stroke: #F8F8F8; stroke-width: 1.5;\" width=\"50\" x=\"202\" y=\"113.9688\"/><rect fill=\"none\" height=\"40\" id=\"E9\" rx=\"10\" ry=\"10\" style=\"stroke: #383838; stroke-width: 1.5;\" width=\"50\" x=\"202\" y=\"100\"/><text fill=\"#000000\" font-family=\"sans-serif\" font-size=\"12\" lengthAdjust=\"spacingAndGlyphs\" textLength=\"24\" x=\"215\" y=\"116.1387\">a: A</text></a></g><g id=\"E1.E10\"><a href=\"psysml:5c182589-a5f3-41ec-a644-db6857a5c19a\" target=\"_top\" title=\"psysml:5c182589-a5f3-41ec-a644-db6857a5c19a\" xlink:actuate=\"onRequest\" xlink:href=\"psysml:5c182589-a5f3-41ec-a644-db6857a5c19a\" xlink:show=\"new\" xlink:title=\"psysml:5c182589-a5f3-41ec-a644-db6857a5c19a\" xlink:type=\"simple\"><rect fill=\"#FFFFFF\" height=\"40\" id=\"E10\" rx=\"10\" ry=\"10\" style=\"stroke: #383838; stroke-width: 1.5;\" width=\"50\" x=\"32\" y=\"100\"/><rect fill=\"#F8F8F8\" height=\"23.9688\" rx=\"10\" ry=\"10\" style=\"stroke: #F8F8F8; stroke-width: 1.5;\" width=\"50\" x=\"32\" y=\"100\"/><rect fill=\"#F8F8F8\" height=\"10\" style=\"stroke: #F8F8F8; stroke-width: 1.5;\" width=\"50\" x=\"32\" y=\"113.9688\"/><rect fill=\"none\" height=\"40\" id=\"E10\" rx=\"10\" ry=\"10\" style=\"stroke: #383838; stroke-width: 1.5;\" width=\"50\" x=\"32\" y=\"100\"/><text fill=\"#000000\" font-family=\"sans-serif\" font-size=\"12\" lengthAdjust=\"spacingAndGlyphs\" textLength=\"24\" x=\"45\" y=\"116.1387\">b: B</text></a></g><!--MD5=[01107163b70af6d6fffec3ff3f0778d9]\n",
       "@startuml\r\n",
       "skinparam ranksep 10\r\n",
       "skinparam rectangle {\r\n",
       " backgroundColor<<block>> LightGreen\r\n",
       "}\r\n",
       "skinparam linetype polyline\r\n",
       "skinparam monochrome true\r\n",
       "skinparam classbackgroundcolor white\r\n",
       "skinparam shadowing false\r\n",
       "skinparam wrapWidth 300\r\n",
       "hide circle\r\n",
       "\r\n",
       "package \"Q\" as E1  [[psysml:c58eea24-2ccf-44f2-b6e8-e98c7ec17236 ]]  {\r\n",
       "rec def \"F\" as E2  <<(T,blue)part def>> [[psysml:a4e187a3-203e-405d-be98-97d147693ddf ]] {\r\n",
       "rec usage \"a\" as E3  [[psysml:6ada620e-a181-4489-89b5-9a75fb715758 ]] {\r\n",
       "}\r\n",
       "}\r\n",
       "rec usage \"f: F\" as E4  [[psysml:90a61716-c53d-4f92-beb5-5068bb9fa1a0 ]] {\r\n",
       "}\r\n",
       "rec def \"A\" as E5  <<(T,blue)part def>> [[psysml:282ebd08-29d1-4bc9-b49b-68a749240d69 ]] {\r\n",
       "rec usage \"g=f.a; \" as E6  [[psysml:ba34075d-eebc-4755-94e7-ca84c5a458cd ]] {\r\n",
       "}\r\n",
       "}\r\n",
       "rec def \"B\" as E7  <<(T,blue)part def>> [[psysml:88191fe6-4f94-4991-8591-be7eb93db47e ]] {\r\n",
       "rec usage \"f: F\" as E8  [[psysml:ab65aa6d-a5a6-4b47-8167-56da9e982a64 ]] {\r\n",
       "}\r\n",
       "rec usage \"a: A\" as E9  [[psysml:624da0d4-2cfd-4aae-83e5-be6cf87688fa ]] {\r\n",
       "}\r\n",
       "}\r\n",
       "rec usage \"b: B\" as E10  [[psysml:5c182589-a5f3-41ec-a644-db6857a5c19a ]] {\r\n",
       "}\r\n",
       "}\r\n",
       "@enduml\r\n",
       "\n",
       "PlantUML version 1.2020.13(Sat Jun 13 12:26:38 UTC 2020)\n",
       "(EPL source distribution)\n",
       "Java Runtime: OpenJDK Runtime Environment\n",
       "JVM: OpenJDK 64-Bit Server VM\n",
       "Default Encoding: UTF-8\n",
       "Language: en\n",
       "Country: null\n",
       "--></g></svg>"
      ]
     },
     "execution_count": 12,
     "metadata": {},
     "output_type": "execute_result"
    }
   ],
   "source": [
    "%viz --style=\"POLYLINE\" --view=\"Interconnection\" \"Q\""
   ]
  },
  {
   "cell_type": "code",
   "execution_count": 13,
   "id": "1ed5bec7",
   "metadata": {
    "execution": {
     "iopub.execute_input": "2021-05-27T06:11:58.565196Z",
     "iopub.status.busy": "2021-05-27T06:11:58.564686Z",
     "iopub.status.idle": "2021-05-27T06:11:58.572088Z",
     "shell.execute_reply": "2021-05-27T06:11:58.571798Z"
    }
   },
   "outputs": [
    {
     "data": {
      "image/svg+xml": [
       "<?xml version=\"1.0\" encoding=\"UTF-8\" standalone=\"no\"?><svg xmlns=\"http://www.w3.org/2000/svg\" xmlns:xlink=\"http://www.w3.org/1999/xlink\" contentScriptType=\"application/ecmascript\" contentStyleType=\"text/css\" height=\"12px\" preserveAspectRatio=\"none\" style=\"width:12px;height:12px;\" version=\"1.1\" viewBox=\"0 0 12 12\" width=\"12px\" zoomAndPan=\"magnify\"><defs/><g><!--MD5=[97bbf32f66ccd50cbc40d92ea8f5a65e]\n",
       "@startuml\r\n",
       "skinparam ranksep 8\r\n",
       "skinparam linetype polyline\r\n",
       "skinparam monochrome true\r\n",
       "skinparam classbackgroundcolor white\r\n",
       "skinparam shadowing false\r\n",
       "skinparam wrapWidth 300\r\n",
       "hide circle\r\n",
       "\r\n",
       "@enduml\r\n",
       "\n",
       "PlantUML version 1.2020.13(Sat Jun 13 12:26:38 UTC 2020)\n",
       "(EPL source distribution)\n",
       "Java Runtime: OpenJDK Runtime Environment\n",
       "JVM: OpenJDK 64-Bit Server VM\n",
       "Default Encoding: UTF-8\n",
       "Language: en\n",
       "Country: null\n",
       "--></g></svg>"
      ]
     },
     "execution_count": 13,
     "metadata": {},
     "output_type": "execute_result"
    }
   ],
   "source": [
    "%viz --style=\"POLYLINE\" --view=\"Action\" \"Q\""
   ]
  },
  {
   "cell_type": "code",
   "execution_count": 14,
   "id": "51540313",
   "metadata": {
    "execution": {
     "iopub.execute_input": "2021-05-27T06:11:58.624825Z",
     "iopub.status.busy": "2021-05-27T06:11:58.624049Z",
     "iopub.status.idle": "2021-05-27T06:11:58.665121Z",
     "shell.execute_reply": "2021-05-27T06:11:58.663740Z"
    }
   },
   "outputs": [
    {
     "data": {
      "image/svg+xml": [
       "<?xml version=\"1.0\" encoding=\"UTF-8\" standalone=\"no\"?><svg xmlns=\"http://www.w3.org/2000/svg\" xmlns:xlink=\"http://www.w3.org/1999/xlink\" contentScriptType=\"application/ecmascript\" contentStyleType=\"text/css\" height=\"539px\" preserveAspectRatio=\"none\" style=\"width:266px;height:539px;\" version=\"1.1\" viewBox=\"0 0 266 539\" width=\"266px\" zoomAndPan=\"magnify\"><defs/><g><!--MD5=[fbc87193dbaf4d95561dea2c320d4a47]\n",
       "cluster E1--><a href=\"psysml:c58eea24-2ccf-44f2-b6e8-e98c7ec17236\" target=\"_top\" title=\"psysml:c58eea24-2ccf-44f2-b6e8-e98c7ec17236\" xlink:actuate=\"onRequest\" xlink:href=\"psysml:c58eea24-2ccf-44f2-b6e8-e98c7ec17236\" xlink:show=\"new\" xlink:title=\"psysml:c58eea24-2ccf-44f2-b6e8-e98c7ec17236\" xlink:type=\"simple\"><polygon fill=\"#FFFFFF\" points=\"16,6,34,6,41,28.2969,244,28.2969,244,527,16,527,16,6\" style=\"stroke: #000000; stroke-width: 1.5;\"/><line style=\"stroke: #000000; stroke-width: 1.5;\" x1=\"16\" x2=\"41\" y1=\"28.2969\" y2=\"28.2969\"/><text fill=\"#000000\" font-family=\"sans-serif\" font-size=\"14\" font-weight=\"bold\" lengthAdjust=\"spacingAndGlyphs\" textLength=\"12\" x=\"20\" y=\"20.9951\">Q</text></a><!--MD5=[b4997ac47864f28c2f74865a473b2911]\n",
       "class E2--><a href=\"psysml:a4e187a3-203e-405d-be98-97d147693ddf\" target=\"_top\" title=\"psysml:a4e187a3-203e-405d-be98-97d147693ddf\" xlink:actuate=\"onRequest\" xlink:href=\"psysml:a4e187a3-203e-405d-be98-97d147693ddf\" xlink:show=\"new\" xlink:title=\"psysml:a4e187a3-203e-405d-be98-97d147693ddf\" xlink:type=\"simple\"><rect fill=\"#FFFFFF\" height=\"45.9375\" id=\"E2\" style=\"stroke: #383838; stroke-width: 1.5;\" width=\"66\" x=\"147\" y=\"359\"/><text fill=\"#000000\" font-family=\"sans-serif\" font-size=\"12\" font-style=\"italic\" lengthAdjust=\"spacingAndGlyphs\" textLength=\"64\" x=\"148\" y=\"375.1387\">«part def»</text><text fill=\"#000000\" font-family=\"sans-serif\" font-size=\"12\" lengthAdjust=\"spacingAndGlyphs\" textLength=\"7\" x=\"176.5\" y=\"389.1074\">F</text><line style=\"stroke: #383838; stroke-width: 1.5;\" x1=\"148\" x2=\"212\" y1=\"396.9375\" y2=\"396.9375\"/></a><!--MD5=[09b614a08d8cba4a07c9adeb5e0fee81]\n",
       "class E3--><a href=\"psysml:6ada620e-a181-4489-89b5-9a75fb715758\" target=\"_top\" title=\"psysml:6ada620e-a181-4489-89b5-9a75fb715758\" xlink:actuate=\"onRequest\" xlink:href=\"psysml:6ada620e-a181-4489-89b5-9a75fb715758\" xlink:show=\"new\" xlink:title=\"psysml:6ada620e-a181-4489-89b5-9a75fb715758\" xlink:type=\"simple\"><rect fill=\"#FFFFFF\" height=\"45.9375\" id=\"E3\" rx=\"10\" ry=\"10\" style=\"stroke: #383838; stroke-width: 1.5;\" width=\"42\" x=\"159\" y=\"465\"/><text fill=\"#000000\" font-family=\"sans-serif\" font-size=\"12\" font-style=\"italic\" lengthAdjust=\"spacingAndGlyphs\" textLength=\"40\" x=\"160\" y=\"481.1387\">«part»</text><text fill=\"#000000\" font-family=\"sans-serif\" font-size=\"12\" lengthAdjust=\"spacingAndGlyphs\" textLength=\"8\" x=\"176\" y=\"495.1074\">a</text><line style=\"stroke: #383838; stroke-width: 1.5;\" x1=\"160\" x2=\"200\" y1=\"502.9375\" y2=\"502.9375\"/></a><!--MD5=[ebbe1d658d1005bcc118a6aa81145e00]\n",
       "class E4--><a href=\"psysml:90a61716-c53d-4f92-beb5-5068bb9fa1a0\" target=\"_top\" title=\"psysml:90a61716-c53d-4f92-beb5-5068bb9fa1a0\" xlink:actuate=\"onRequest\" xlink:href=\"psysml:90a61716-c53d-4f92-beb5-5068bb9fa1a0\" xlink:show=\"new\" xlink:title=\"psysml:90a61716-c53d-4f92-beb5-5068bb9fa1a0\" xlink:type=\"simple\"><rect fill=\"#FFFFFF\" height=\"45.9375\" id=\"E4\" rx=\"10\" ry=\"10\" style=\"stroke: #383838; stroke-width: 1.5;\" width=\"42\" x=\"186\" y=\"253\"/><text fill=\"#000000\" font-family=\"sans-serif\" font-size=\"12\" font-style=\"italic\" lengthAdjust=\"spacingAndGlyphs\" textLength=\"40\" x=\"187\" y=\"269.1387\">«part»</text><text fill=\"#000000\" font-family=\"sans-serif\" font-size=\"12\" lengthAdjust=\"spacingAndGlyphs\" textLength=\"19\" x=\"197.5\" y=\"283.1074\">f: F</text><line style=\"stroke: #383838; stroke-width: 1.5;\" x1=\"187\" x2=\"227\" y1=\"290.9375\" y2=\"290.9375\"/></a><!--MD5=[270fce915f116d4de14055a7c1d9a0f3]\n",
       "class E5--><a href=\"psysml:282ebd08-29d1-4bc9-b49b-68a749240d69\" target=\"_top\" title=\"psysml:282ebd08-29d1-4bc9-b49b-68a749240d69\" xlink:actuate=\"onRequest\" xlink:href=\"psysml:282ebd08-29d1-4bc9-b49b-68a749240d69\" xlink:show=\"new\" xlink:title=\"psysml:282ebd08-29d1-4bc9-b49b-68a749240d69\" xlink:type=\"simple\"><rect fill=\"#FFFFFF\" height=\"45.9375\" id=\"E5\" style=\"stroke: #383838; stroke-width: 1.5;\" width=\"66\" x=\"32\" y=\"359\"/><text fill=\"#000000\" font-family=\"sans-serif\" font-size=\"12\" font-style=\"italic\" lengthAdjust=\"spacingAndGlyphs\" textLength=\"64\" x=\"33\" y=\"375.1387\">«part def»</text><text fill=\"#000000\" font-family=\"sans-serif\" font-size=\"12\" lengthAdjust=\"spacingAndGlyphs\" textLength=\"8\" x=\"61\" y=\"389.1074\">A</text><line style=\"stroke: #383838; stroke-width: 1.5;\" x1=\"33\" x2=\"97\" y1=\"396.9375\" y2=\"396.9375\"/></a><!--MD5=[60a26617385b1d2d0262a64233df1f8d]\n",
       "class E6--><a href=\"psysml:ba34075d-eebc-4755-94e7-ca84c5a458cd\" target=\"_top\" title=\"psysml:ba34075d-eebc-4755-94e7-ca84c5a458cd\" xlink:actuate=\"onRequest\" xlink:href=\"psysml:ba34075d-eebc-4755-94e7-ca84c5a458cd\" xlink:show=\"new\" xlink:title=\"psysml:ba34075d-eebc-4755-94e7-ca84c5a458cd\" xlink:type=\"simple\"><rect fill=\"#FFFFFF\" height=\"45.9375\" id=\"E6\" rx=\"10\" ry=\"10\" style=\"stroke: #383838; stroke-width: 1.5;\" width=\"42\" x=\"44\" y=\"465\"/><text fill=\"#000000\" font-family=\"sans-serif\" font-size=\"12\" font-style=\"italic\" lengthAdjust=\"spacingAndGlyphs\" textLength=\"40\" x=\"45\" y=\"481.1387\">«part»</text><text fill=\"#000000\" font-family=\"sans-serif\" font-size=\"12\" lengthAdjust=\"spacingAndGlyphs\" textLength=\"8\" x=\"61\" y=\"495.1074\">g</text><line style=\"stroke: #383838; stroke-width: 1.5;\" x1=\"45\" x2=\"85\" y1=\"502.9375\" y2=\"502.9375\"/></a><!--MD5=[2156ba9850f5573cc1fc38a6a4b2f02b]\n",
       "class E7--><a href=\"psysml:88191fe6-4f94-4991-8591-be7eb93db47e\" target=\"_top\" title=\"psysml:88191fe6-4f94-4991-8591-be7eb93db47e\" xlink:actuate=\"onRequest\" xlink:href=\"psysml:88191fe6-4f94-4991-8591-be7eb93db47e\" xlink:show=\"new\" xlink:title=\"psysml:88191fe6-4f94-4991-8591-be7eb93db47e\" xlink:type=\"simple\"><rect fill=\"#FFFFFF\" height=\"45.9375\" id=\"E7\" style=\"stroke: #383838; stroke-width: 1.5;\" width=\"66\" x=\"64\" y=\"147\"/><text fill=\"#000000\" font-family=\"sans-serif\" font-size=\"12\" font-style=\"italic\" lengthAdjust=\"spacingAndGlyphs\" textLength=\"64\" x=\"65\" y=\"163.1387\">«part def»</text><text fill=\"#000000\" font-family=\"sans-serif\" font-size=\"12\" lengthAdjust=\"spacingAndGlyphs\" textLength=\"8\" x=\"93\" y=\"177.1074\">B</text><line style=\"stroke: #383838; stroke-width: 1.5;\" x1=\"65\" x2=\"129\" y1=\"184.9375\" y2=\"184.9375\"/></a><!--MD5=[b9389687b975829384b498ac4b7476b2]\n",
       "class E8--><a href=\"psysml:ab65aa6d-a5a6-4b47-8167-56da9e982a64\" target=\"_top\" title=\"psysml:ab65aa6d-a5a6-4b47-8167-56da9e982a64\" xlink:actuate=\"onRequest\" xlink:href=\"psysml:ab65aa6d-a5a6-4b47-8167-56da9e982a64\" xlink:show=\"new\" xlink:title=\"psysml:ab65aa6d-a5a6-4b47-8167-56da9e982a64\" xlink:type=\"simple\"><rect fill=\"#FFFFFF\" height=\"45.9375\" id=\"E8\" rx=\"10\" ry=\"10\" style=\"stroke: #383838; stroke-width: 1.5;\" width=\"42\" x=\"109\" y=\"253\"/><text fill=\"#000000\" font-family=\"sans-serif\" font-size=\"12\" font-style=\"italic\" lengthAdjust=\"spacingAndGlyphs\" textLength=\"40\" x=\"110\" y=\"269.1387\">«part»</text><text fill=\"#000000\" font-family=\"sans-serif\" font-size=\"12\" lengthAdjust=\"spacingAndGlyphs\" textLength=\"19\" x=\"120.5\" y=\"283.1074\">f: F</text><line style=\"stroke: #383838; stroke-width: 1.5;\" x1=\"110\" x2=\"150\" y1=\"290.9375\" y2=\"290.9375\"/></a><!--MD5=[fd4143e9d270a159db93a4ea2a975926]\n",
       "class E9--><a href=\"psysml:624da0d4-2cfd-4aae-83e5-be6cf87688fa\" target=\"_top\" title=\"psysml:624da0d4-2cfd-4aae-83e5-be6cf87688fa\" xlink:actuate=\"onRequest\" xlink:href=\"psysml:624da0d4-2cfd-4aae-83e5-be6cf87688fa\" xlink:show=\"new\" xlink:title=\"psysml:624da0d4-2cfd-4aae-83e5-be6cf87688fa\" xlink:type=\"simple\"><rect fill=\"#FFFFFF\" height=\"45.9375\" id=\"E9\" rx=\"10\" ry=\"10\" style=\"stroke: #383838; stroke-width: 1.5;\" width=\"42\" x=\"32\" y=\"253\"/><text fill=\"#000000\" font-family=\"sans-serif\" font-size=\"12\" font-style=\"italic\" lengthAdjust=\"spacingAndGlyphs\" textLength=\"40\" x=\"33\" y=\"269.1387\">«part»</text><text fill=\"#000000\" font-family=\"sans-serif\" font-size=\"12\" lengthAdjust=\"spacingAndGlyphs\" textLength=\"24\" x=\"41\" y=\"283.1074\">a: A</text><line style=\"stroke: #383838; stroke-width: 1.5;\" x1=\"33\" x2=\"73\" y1=\"290.9375\" y2=\"290.9375\"/></a><!--MD5=[96f4274e9e20536e775497830990834d]\n",
       "class E10--><a href=\"psysml:5c182589-a5f3-41ec-a644-db6857a5c19a\" target=\"_top\" title=\"psysml:5c182589-a5f3-41ec-a644-db6857a5c19a\" xlink:actuate=\"onRequest\" xlink:href=\"psysml:5c182589-a5f3-41ec-a644-db6857a5c19a\" xlink:show=\"new\" xlink:title=\"psysml:5c182589-a5f3-41ec-a644-db6857a5c19a\" xlink:type=\"simple\"><rect fill=\"#FFFFFF\" height=\"45.9375\" id=\"E10\" rx=\"10\" ry=\"10\" style=\"stroke: #383838; stroke-width: 1.5;\" width=\"42\" x=\"76\" y=\"41\"/><text fill=\"#000000\" font-family=\"sans-serif\" font-size=\"12\" font-style=\"italic\" lengthAdjust=\"spacingAndGlyphs\" textLength=\"40\" x=\"77\" y=\"57.1387\">«part»</text><text fill=\"#000000\" font-family=\"sans-serif\" font-size=\"12\" lengthAdjust=\"spacingAndGlyphs\" textLength=\"24\" x=\"85\" y=\"71.1074\">b: B</text><line style=\"stroke: #383838; stroke-width: 1.5;\" x1=\"77\" x2=\"117\" y1=\"78.9375\" y2=\"78.9375\"/></a><!--MD5=[209b3feb70ccb6233bfe1053d122c12c]\n",
       "reverse link E2 to E3--><a href=\"psysml:f4f335e8-ebb2-4b93-b8a2-3184b124f9b4\" target=\"_top\" title=\"psysml:f4f335e8-ebb2-4b93-b8a2-3184b124f9b4\" xlink:actuate=\"onRequest\" xlink:href=\"psysml:f4f335e8-ebb2-4b93-b8a2-3184b124f9b4\" xlink:show=\"new\" xlink:title=\"psysml:f4f335e8-ebb2-4b93-b8a2-3184b124f9b4\" xlink:type=\"simple\"><path d=\"M180,418.44 C180,433.87 180,451.47 180,464.98 \" fill=\"none\" id=\"E2&lt;-E3\" style=\"stroke: #383838; stroke-width: 1.0;\"/><polygon fill=\"#383838\" points=\"180,405.06,176,411.06,180,417.06,184,411.06,180,405.06\" style=\"stroke: #383838; stroke-width: 1.0;\"/></a><!--MD5=[185131fc0dcab0a4505a2ebe144e961b]\n",
       "link E4 to E2--><a href=\"psysml:6b545197-59fa-4019-832b-0413d8dfad43\" target=\"_top\" title=\"psysml:6b545197-59fa-4019-832b-0413d8dfad43\" xlink:actuate=\"onRequest\" xlink:href=\"psysml:6b545197-59fa-4019-832b-0413d8dfad43\" xlink:show=\"new\" xlink:title=\"psysml:6b545197-59fa-4019-832b-0413d8dfad43\" xlink:type=\"simple\"><path d=\"M201.27,299.06 C198.23,310.78 194.39,325.57 190.81,339.36 \" fill=\"none\" id=\"E4-&gt;E2\" style=\"stroke: #383838; stroke-width: 1.0;\"/><polygon fill=\"#FFFFFF\" points=\"185.72,358.98,183.7221,338.8303,197.2724,342.3504,185.72,358.98\" style=\"stroke: #383838; stroke-width: 1.0;\"/><ellipse cx=\"187.091\" cy=\"333.8163\" fill=\"#383838\" rx=\"2\" ry=\"2\" style=\"stroke: #383838; stroke-width: 1.0;\"/><ellipse cx=\"196.7698\" cy=\"336.3307\" fill=\"#383838\" rx=\"2\" ry=\"2\" style=\"stroke: #383838; stroke-width: 1.0;\"/></a><!--MD5=[85d356282659285ab4b2cfe2f634dd2b]\n",
       "reverse link E5 to E6--><a href=\"psysml:42a57766-d710-4931-98ca-f2942df4b5a7\" target=\"_top\" title=\"psysml:42a57766-d710-4931-98ca-f2942df4b5a7\" xlink:actuate=\"onRequest\" xlink:href=\"psysml:42a57766-d710-4931-98ca-f2942df4b5a7\" xlink:show=\"new\" xlink:title=\"psysml:42a57766-d710-4931-98ca-f2942df4b5a7\" xlink:type=\"simple\"><path d=\"M65,418.44 C65,433.87 65,451.47 65,464.98 \" fill=\"none\" id=\"E5&lt;-E6\" style=\"stroke: #383838; stroke-width: 1.0;\"/><polygon fill=\"#383838\" points=\"65,405.06,61,411.06,65,417.06,69,411.06,65,405.06\" style=\"stroke: #383838; stroke-width: 1.0;\"/></a><!--MD5=[dc164f5e8a733ab456ef1add180e9e34]\n",
       "reverse link E7 to E8--><a href=\"psysml:ee3500c3-1d32-470f-b6bb-e11a5c090a2b\" target=\"_top\" title=\"psysml:ee3500c3-1d32-470f-b6bb-e11a5c090a2b\" xlink:actuate=\"onRequest\" xlink:href=\"psysml:ee3500c3-1d32-470f-b6bb-e11a5c090a2b\" xlink:show=\"new\" xlink:title=\"psysml:ee3500c3-1d32-470f-b6bb-e11a5c090a2b\" xlink:type=\"simple\"><path d=\"M107.95,205.49 C112.91,221.15 118.64,239.19 123.01,252.98 \" fill=\"none\" id=\"E7&lt;-E8\" style=\"stroke: #383838; stroke-width: 1.0;\"/><polygon fill=\"#383838\" points=\"104,193.06,101.9989,199.9879,107.6243,204.4996,109.6253,197.5717,104,193.06\" style=\"stroke: #383838; stroke-width: 1.0;\"/></a><!--MD5=[f1f3f9f2fc535e6147756cb86a7f2e32]\n",
       "link E8 to E2--><a href=\"psysml:385ac8e9-821f-48a2-9a91-91f0503517ad\" target=\"_top\" title=\"psysml:385ac8e9-821f-48a2-9a91-91f0503517ad\" xlink:actuate=\"onRequest\" xlink:href=\"psysml:385ac8e9-821f-48a2-9a91-91f0503517ad\" xlink:show=\"new\" xlink:title=\"psysml:385ac8e9-821f-48a2-9a91-91f0503517ad\" xlink:type=\"simple\"><path d=\"M140.6,299.06 C146.44,311.19 153.86,326.62 160.68,340.82 \" fill=\"none\" id=\"E8-&gt;E2\" style=\"stroke: #383838; stroke-width: 1.0;\"/><polygon fill=\"#FFFFFF\" points=\"169.41,358.98,154.8709,344.8869,167.4894,338.8228,169.41,358.98\" style=\"stroke: #383838; stroke-width: 1.0;\"/><ellipse cx=\"154.2046\" cy=\"338.8831\" fill=\"#383838\" rx=\"2\" ry=\"2\" style=\"stroke: #383838; stroke-width: 1.0;\"/><ellipse cx=\"163.2178\" cy=\"334.5516\" fill=\"#383838\" rx=\"2\" ry=\"2\" style=\"stroke: #383838; stroke-width: 1.0;\"/></a><!--MD5=[e4a10ef82d0e328e31cac39a31e58dda]\n",
       "reverse link E7 to E9--><a href=\"psysml:4dc3c190-fff9-4cfd-9ec6-604d7dd22971\" target=\"_top\" title=\"psysml:4dc3c190-fff9-4cfd-9ec6-604d7dd22971\" xlink:actuate=\"onRequest\" xlink:href=\"psysml:4dc3c190-fff9-4cfd-9ec6-604d7dd22971\" xlink:show=\"new\" xlink:title=\"psysml:4dc3c190-fff9-4cfd-9ec6-604d7dd22971\" xlink:type=\"simple\"><path d=\"M82.41,205.49 C75.78,221.15 68.15,239.19 62.32,252.98 \" fill=\"none\" id=\"E7&lt;-E9\" style=\"stroke: #383838; stroke-width: 1.0;\"/><polygon fill=\"#383838\" points=\"87.67,193.06,81.6505,197.0305,83.0003,204.1142,89.0199,200.1436,87.67,193.06\" style=\"stroke: #383838; stroke-width: 1.0;\"/></a><!--MD5=[bfc3ddf2e613be37104f658f09af896c]\n",
       "link E9 to E5--><a href=\"psysml:e6457602-7adc-4ee0-a454-eb40d686de5b\" target=\"_top\" title=\"psysml:e6457602-7adc-4ee0-a454-eb40d686de5b\" xlink:actuate=\"onRequest\" xlink:href=\"psysml:e6457602-7adc-4ee0-a454-eb40d686de5b\" xlink:show=\"new\" xlink:title=\"psysml:e6457602-7adc-4ee0-a454-eb40d686de5b\" xlink:type=\"simple\"><path d=\"M55.54,299.06 C56.88,310.64 58.56,325.23 60.14,338.87 \" fill=\"none\" id=\"E9-&gt;E5\" style=\"stroke: #383838; stroke-width: 1.0;\"/><polygon fill=\"#FFFFFF\" points=\"62.46,358.98,53.3347,340.9044,67.243,339.3046,62.46,358.98\" style=\"stroke: #383838; stroke-width: 1.0;\"/><ellipse cx=\"54.6702\" cy=\"335.0132\" fill=\"#383838\" rx=\"2\" ry=\"2\" style=\"stroke: #383838; stroke-width: 1.0;\"/><ellipse cx=\"64.6047\" cy=\"333.8704\" fill=\"#383838\" rx=\"2\" ry=\"2\" style=\"stroke: #383838; stroke-width: 1.0;\"/></a><!--MD5=[a919e0967d6f3de553dc51b9865a1d6d]\n",
       "link E10 to E7--><a href=\"psysml:078c16df-6fb3-4d69-bd0c-6c240437776b\" target=\"_top\" title=\"psysml:078c16df-6fb3-4d69-bd0c-6c240437776b\" xlink:actuate=\"onRequest\" xlink:href=\"psysml:078c16df-6fb3-4d69-bd0c-6c240437776b\" xlink:show=\"new\" xlink:title=\"psysml:078c16df-6fb3-4d69-bd0c-6c240437776b\" xlink:type=\"simple\"><path d=\"M97,87.06 C97,98.64 97,113.23 97,126.87 \" fill=\"none\" id=\"E10-&gt;E7\" style=\"stroke: #383838; stroke-width: 1.0;\"/><polygon fill=\"#FFFFFF\" points=\"97,146.98,90,127.98,104,127.98,97,146.98\" style=\"stroke: #383838; stroke-width: 1.0;\"/><ellipse cx=\"92\" cy=\"122.28\" fill=\"#383838\" rx=\"2\" ry=\"2\" style=\"stroke: #383838; stroke-width: 1.0;\"/><ellipse cx=\"102\" cy=\"122.28\" fill=\"#383838\" rx=\"2\" ry=\"2\" style=\"stroke: #383838; stroke-width: 1.0;\"/></a><!--MD5=[707e3a76da724c26785c95b6c241038c]\n",
       "@startuml\r\n",
       "skinparam linetype polyline\r\n",
       "skinparam monochrome true\r\n",
       "skinparam classbackgroundcolor white\r\n",
       "skinparam shadowing false\r\n",
       "skinparam wrapWidth 300\r\n",
       "hide circle\r\n",
       "\r\n",
       "package \"Q\" as E1  [[psysml:c58eea24-2ccf-44f2-b6e8-e98c7ec17236 ]]  {\r\n",
       "comp def \"F\" as E2  <<(T,blue)part def>> [[psysml:a4e187a3-203e-405d-be98-97d147693ddf ]] {\r\n",
       "}\r\n",
       "comp usage \"a\" as E3  <<(T,blue)part>> [[psysml:6ada620e-a181-4489-89b5-9a75fb715758 ]] {\r\n",
       "}\r\n",
       "comp usage \"f: F\" as E4  <<(T,blue)part>> [[psysml:90a61716-c53d-4f92-beb5-5068bb9fa1a0 ]] {\r\n",
       "}\r\n",
       "comp def \"A\" as E5  <<(T,blue)part def>> [[psysml:282ebd08-29d1-4bc9-b49b-68a749240d69 ]] {\r\n",
       "}\r\n",
       "comp usage \"g\" as E6  <<(T,blue)part>> [[psysml:ba34075d-eebc-4755-94e7-ca84c5a458cd ]] {\r\n",
       "}\r\n",
       "comp def \"B\" as E7  <<(T,blue)part def>> [[psysml:88191fe6-4f94-4991-8591-be7eb93db47e ]] {\r\n",
       "}\r\n",
       "comp usage \"f: F\" as E8  <<(T,blue)part>> [[psysml:ab65aa6d-a5a6-4b47-8167-56da9e982a64 ]] {\r\n",
       "}\r\n",
       "comp usage \"a: A\" as E9  <<(T,blue)part>> [[psysml:624da0d4-2cfd-4aae-83e5-be6cf87688fa ]] {\r\n",
       "}\r\n",
       "comp usage \"b: B\" as E10  <<(T,blue)part>> [[psysml:5c182589-a5f3-41ec-a644-db6857a5c19a ]] {\r\n",
       "}\r\n",
       "E2 *- - E3 [[psysml:f4f335e8-ebb2-4b93-b8a2-3184b124f9b4 ]] \r\n",
       "E4 - -:|> E2 [[psysml:6b545197-59fa-4019-832b-0413d8dfad43 ]] \r\n",
       "E5 *- - E6 [[psysml:42a57766-d710-4931-98ca-f2942df4b5a7 ]] \r\n",
       "E7 *- - E8 [[psysml:ee3500c3-1d32-470f-b6bb-e11a5c090a2b ]] \r\n",
       "E8 - -:|> E2 [[psysml:385ac8e9-821f-48a2-9a91-91f0503517ad ]] \r\n",
       "E7 *- - E9 [[psysml:4dc3c190-fff9-4cfd-9ec6-604d7dd22971 ]] \r\n",
       "E9 - -:|> E5 [[psysml:e6457602-7adc-4ee0-a454-eb40d686de5b ]] \r\n",
       "E10 - -:|> E7 [[psysml:078c16df-6fb3-4d69-bd0c-6c240437776b ]] \r\n",
       "}\r\n",
       "@enduml\r\n",
       "\n",
       "PlantUML version 1.2020.13(Sat Jun 13 12:26:38 UTC 2020)\n",
       "(EPL source distribution)\n",
       "Java Runtime: OpenJDK Runtime Environment\n",
       "JVM: OpenJDK 64-Bit Server VM\n",
       "Default Encoding: UTF-8\n",
       "Language: en\n",
       "Country: null\n",
       "--></g></svg>"
      ]
     },
     "execution_count": 14,
     "metadata": {},
     "output_type": "execute_result"
    }
   ],
   "source": [
    "%viz --style=\"POLYLINE\" --view=\"Sequence\" \"Q\""
   ]
  },
  {
   "cell_type": "code",
   "execution_count": 15,
   "id": "4a05d4ef",
   "metadata": {
    "execution": {
     "iopub.execute_input": "2021-05-27T06:11:58.716748Z",
     "iopub.status.busy": "2021-05-27T06:11:58.715175Z",
     "iopub.status.idle": "2021-05-27T06:11:58.756042Z",
     "shell.execute_reply": "2021-05-27T06:11:58.755771Z"
    }
   },
   "outputs": [
    {
     "data": {
      "image/svg+xml": [
       "<?xml version=\"1.0\" encoding=\"UTF-8\" standalone=\"no\"?><svg xmlns=\"http://www.w3.org/2000/svg\" xmlns:xlink=\"http://www.w3.org/1999/xlink\" contentScriptType=\"application/ecmascript\" contentStyleType=\"text/css\" height=\"539px\" preserveAspectRatio=\"none\" style=\"width:266px;height:539px;\" version=\"1.1\" viewBox=\"0 0 266 539\" width=\"266px\" zoomAndPan=\"magnify\"><defs/><g><!--MD5=[fbc87193dbaf4d95561dea2c320d4a47]\n",
       "cluster E1--><a href=\"psysml:c58eea24-2ccf-44f2-b6e8-e98c7ec17236\" target=\"_top\" title=\"psysml:c58eea24-2ccf-44f2-b6e8-e98c7ec17236\" xlink:actuate=\"onRequest\" xlink:href=\"psysml:c58eea24-2ccf-44f2-b6e8-e98c7ec17236\" xlink:show=\"new\" xlink:title=\"psysml:c58eea24-2ccf-44f2-b6e8-e98c7ec17236\" xlink:type=\"simple\"><polygon fill=\"#FFFFFF\" points=\"16,6,34,6,41,28.2969,244,28.2969,244,527,16,527,16,6\" style=\"stroke: #000000; stroke-width: 1.5;\"/><line style=\"stroke: #000000; stroke-width: 1.5;\" x1=\"16\" x2=\"41\" y1=\"28.2969\" y2=\"28.2969\"/><text fill=\"#000000\" font-family=\"sans-serif\" font-size=\"14\" font-weight=\"bold\" lengthAdjust=\"spacingAndGlyphs\" textLength=\"12\" x=\"20\" y=\"20.9951\">Q</text></a><!--MD5=[b4997ac47864f28c2f74865a473b2911]\n",
       "class E2--><a href=\"psysml:a4e187a3-203e-405d-be98-97d147693ddf\" target=\"_top\" title=\"psysml:a4e187a3-203e-405d-be98-97d147693ddf\" xlink:actuate=\"onRequest\" xlink:href=\"psysml:a4e187a3-203e-405d-be98-97d147693ddf\" xlink:show=\"new\" xlink:title=\"psysml:a4e187a3-203e-405d-be98-97d147693ddf\" xlink:type=\"simple\"><rect fill=\"#FFFFFF\" height=\"45.9375\" id=\"E2\" style=\"stroke: #383838; stroke-width: 1.5;\" width=\"66\" x=\"147\" y=\"359\"/><text fill=\"#000000\" font-family=\"sans-serif\" font-size=\"12\" font-style=\"italic\" lengthAdjust=\"spacingAndGlyphs\" textLength=\"64\" x=\"148\" y=\"375.1387\">«part def»</text><text fill=\"#000000\" font-family=\"sans-serif\" font-size=\"12\" lengthAdjust=\"spacingAndGlyphs\" textLength=\"7\" x=\"176.5\" y=\"389.1074\">F</text><line style=\"stroke: #383838; stroke-width: 1.5;\" x1=\"148\" x2=\"212\" y1=\"396.9375\" y2=\"396.9375\"/></a><!--MD5=[09b614a08d8cba4a07c9adeb5e0fee81]\n",
       "class E3--><a href=\"psysml:6ada620e-a181-4489-89b5-9a75fb715758\" target=\"_top\" title=\"psysml:6ada620e-a181-4489-89b5-9a75fb715758\" xlink:actuate=\"onRequest\" xlink:href=\"psysml:6ada620e-a181-4489-89b5-9a75fb715758\" xlink:show=\"new\" xlink:title=\"psysml:6ada620e-a181-4489-89b5-9a75fb715758\" xlink:type=\"simple\"><rect fill=\"#FFFFFF\" height=\"45.9375\" id=\"E3\" rx=\"10\" ry=\"10\" style=\"stroke: #383838; stroke-width: 1.5;\" width=\"42\" x=\"159\" y=\"465\"/><text fill=\"#000000\" font-family=\"sans-serif\" font-size=\"12\" font-style=\"italic\" lengthAdjust=\"spacingAndGlyphs\" textLength=\"40\" x=\"160\" y=\"481.1387\">«part»</text><text fill=\"#000000\" font-family=\"sans-serif\" font-size=\"12\" lengthAdjust=\"spacingAndGlyphs\" textLength=\"8\" x=\"176\" y=\"495.1074\">a</text><line style=\"stroke: #383838; stroke-width: 1.5;\" x1=\"160\" x2=\"200\" y1=\"502.9375\" y2=\"502.9375\"/></a><!--MD5=[ebbe1d658d1005bcc118a6aa81145e00]\n",
       "class E4--><a href=\"psysml:90a61716-c53d-4f92-beb5-5068bb9fa1a0\" target=\"_top\" title=\"psysml:90a61716-c53d-4f92-beb5-5068bb9fa1a0\" xlink:actuate=\"onRequest\" xlink:href=\"psysml:90a61716-c53d-4f92-beb5-5068bb9fa1a0\" xlink:show=\"new\" xlink:title=\"psysml:90a61716-c53d-4f92-beb5-5068bb9fa1a0\" xlink:type=\"simple\"><rect fill=\"#FFFFFF\" height=\"45.9375\" id=\"E4\" rx=\"10\" ry=\"10\" style=\"stroke: #383838; stroke-width: 1.5;\" width=\"42\" x=\"186\" y=\"253\"/><text fill=\"#000000\" font-family=\"sans-serif\" font-size=\"12\" font-style=\"italic\" lengthAdjust=\"spacingAndGlyphs\" textLength=\"40\" x=\"187\" y=\"269.1387\">«part»</text><text fill=\"#000000\" font-family=\"sans-serif\" font-size=\"12\" lengthAdjust=\"spacingAndGlyphs\" textLength=\"19\" x=\"197.5\" y=\"283.1074\">f: F</text><line style=\"stroke: #383838; stroke-width: 1.5;\" x1=\"187\" x2=\"227\" y1=\"290.9375\" y2=\"290.9375\"/></a><!--MD5=[270fce915f116d4de14055a7c1d9a0f3]\n",
       "class E5--><a href=\"psysml:282ebd08-29d1-4bc9-b49b-68a749240d69\" target=\"_top\" title=\"psysml:282ebd08-29d1-4bc9-b49b-68a749240d69\" xlink:actuate=\"onRequest\" xlink:href=\"psysml:282ebd08-29d1-4bc9-b49b-68a749240d69\" xlink:show=\"new\" xlink:title=\"psysml:282ebd08-29d1-4bc9-b49b-68a749240d69\" xlink:type=\"simple\"><rect fill=\"#FFFFFF\" height=\"45.9375\" id=\"E5\" style=\"stroke: #383838; stroke-width: 1.5;\" width=\"66\" x=\"32\" y=\"359\"/><text fill=\"#000000\" font-family=\"sans-serif\" font-size=\"12\" font-style=\"italic\" lengthAdjust=\"spacingAndGlyphs\" textLength=\"64\" x=\"33\" y=\"375.1387\">«part def»</text><text fill=\"#000000\" font-family=\"sans-serif\" font-size=\"12\" lengthAdjust=\"spacingAndGlyphs\" textLength=\"8\" x=\"61\" y=\"389.1074\">A</text><line style=\"stroke: #383838; stroke-width: 1.5;\" x1=\"33\" x2=\"97\" y1=\"396.9375\" y2=\"396.9375\"/></a><!--MD5=[60a26617385b1d2d0262a64233df1f8d]\n",
       "class E6--><a href=\"psysml:ba34075d-eebc-4755-94e7-ca84c5a458cd\" target=\"_top\" title=\"psysml:ba34075d-eebc-4755-94e7-ca84c5a458cd\" xlink:actuate=\"onRequest\" xlink:href=\"psysml:ba34075d-eebc-4755-94e7-ca84c5a458cd\" xlink:show=\"new\" xlink:title=\"psysml:ba34075d-eebc-4755-94e7-ca84c5a458cd\" xlink:type=\"simple\"><rect fill=\"#FFFFFF\" height=\"45.9375\" id=\"E6\" rx=\"10\" ry=\"10\" style=\"stroke: #383838; stroke-width: 1.5;\" width=\"42\" x=\"44\" y=\"465\"/><text fill=\"#000000\" font-family=\"sans-serif\" font-size=\"12\" font-style=\"italic\" lengthAdjust=\"spacingAndGlyphs\" textLength=\"40\" x=\"45\" y=\"481.1387\">«part»</text><text fill=\"#000000\" font-family=\"sans-serif\" font-size=\"12\" lengthAdjust=\"spacingAndGlyphs\" textLength=\"8\" x=\"61\" y=\"495.1074\">g</text><line style=\"stroke: #383838; stroke-width: 1.5;\" x1=\"45\" x2=\"85\" y1=\"502.9375\" y2=\"502.9375\"/></a><!--MD5=[2156ba9850f5573cc1fc38a6a4b2f02b]\n",
       "class E7--><a href=\"psysml:88191fe6-4f94-4991-8591-be7eb93db47e\" target=\"_top\" title=\"psysml:88191fe6-4f94-4991-8591-be7eb93db47e\" xlink:actuate=\"onRequest\" xlink:href=\"psysml:88191fe6-4f94-4991-8591-be7eb93db47e\" xlink:show=\"new\" xlink:title=\"psysml:88191fe6-4f94-4991-8591-be7eb93db47e\" xlink:type=\"simple\"><rect fill=\"#FFFFFF\" height=\"45.9375\" id=\"E7\" style=\"stroke: #383838; stroke-width: 1.5;\" width=\"66\" x=\"64\" y=\"147\"/><text fill=\"#000000\" font-family=\"sans-serif\" font-size=\"12\" font-style=\"italic\" lengthAdjust=\"spacingAndGlyphs\" textLength=\"64\" x=\"65\" y=\"163.1387\">«part def»</text><text fill=\"#000000\" font-family=\"sans-serif\" font-size=\"12\" lengthAdjust=\"spacingAndGlyphs\" textLength=\"8\" x=\"93\" y=\"177.1074\">B</text><line style=\"stroke: #383838; stroke-width: 1.5;\" x1=\"65\" x2=\"129\" y1=\"184.9375\" y2=\"184.9375\"/></a><!--MD5=[b9389687b975829384b498ac4b7476b2]\n",
       "class E8--><a href=\"psysml:ab65aa6d-a5a6-4b47-8167-56da9e982a64\" target=\"_top\" title=\"psysml:ab65aa6d-a5a6-4b47-8167-56da9e982a64\" xlink:actuate=\"onRequest\" xlink:href=\"psysml:ab65aa6d-a5a6-4b47-8167-56da9e982a64\" xlink:show=\"new\" xlink:title=\"psysml:ab65aa6d-a5a6-4b47-8167-56da9e982a64\" xlink:type=\"simple\"><rect fill=\"#FFFFFF\" height=\"45.9375\" id=\"E8\" rx=\"10\" ry=\"10\" style=\"stroke: #383838; stroke-width: 1.5;\" width=\"42\" x=\"109\" y=\"253\"/><text fill=\"#000000\" font-family=\"sans-serif\" font-size=\"12\" font-style=\"italic\" lengthAdjust=\"spacingAndGlyphs\" textLength=\"40\" x=\"110\" y=\"269.1387\">«part»</text><text fill=\"#000000\" font-family=\"sans-serif\" font-size=\"12\" lengthAdjust=\"spacingAndGlyphs\" textLength=\"19\" x=\"120.5\" y=\"283.1074\">f: F</text><line style=\"stroke: #383838; stroke-width: 1.5;\" x1=\"110\" x2=\"150\" y1=\"290.9375\" y2=\"290.9375\"/></a><!--MD5=[fd4143e9d270a159db93a4ea2a975926]\n",
       "class E9--><a href=\"psysml:624da0d4-2cfd-4aae-83e5-be6cf87688fa\" target=\"_top\" title=\"psysml:624da0d4-2cfd-4aae-83e5-be6cf87688fa\" xlink:actuate=\"onRequest\" xlink:href=\"psysml:624da0d4-2cfd-4aae-83e5-be6cf87688fa\" xlink:show=\"new\" xlink:title=\"psysml:624da0d4-2cfd-4aae-83e5-be6cf87688fa\" xlink:type=\"simple\"><rect fill=\"#FFFFFF\" height=\"45.9375\" id=\"E9\" rx=\"10\" ry=\"10\" style=\"stroke: #383838; stroke-width: 1.5;\" width=\"42\" x=\"32\" y=\"253\"/><text fill=\"#000000\" font-family=\"sans-serif\" font-size=\"12\" font-style=\"italic\" lengthAdjust=\"spacingAndGlyphs\" textLength=\"40\" x=\"33\" y=\"269.1387\">«part»</text><text fill=\"#000000\" font-family=\"sans-serif\" font-size=\"12\" lengthAdjust=\"spacingAndGlyphs\" textLength=\"24\" x=\"41\" y=\"283.1074\">a: A</text><line style=\"stroke: #383838; stroke-width: 1.5;\" x1=\"33\" x2=\"73\" y1=\"290.9375\" y2=\"290.9375\"/></a><!--MD5=[96f4274e9e20536e775497830990834d]\n",
       "class E10--><a href=\"psysml:5c182589-a5f3-41ec-a644-db6857a5c19a\" target=\"_top\" title=\"psysml:5c182589-a5f3-41ec-a644-db6857a5c19a\" xlink:actuate=\"onRequest\" xlink:href=\"psysml:5c182589-a5f3-41ec-a644-db6857a5c19a\" xlink:show=\"new\" xlink:title=\"psysml:5c182589-a5f3-41ec-a644-db6857a5c19a\" xlink:type=\"simple\"><rect fill=\"#FFFFFF\" height=\"45.9375\" id=\"E10\" rx=\"10\" ry=\"10\" style=\"stroke: #383838; stroke-width: 1.5;\" width=\"42\" x=\"76\" y=\"41\"/><text fill=\"#000000\" font-family=\"sans-serif\" font-size=\"12\" font-style=\"italic\" lengthAdjust=\"spacingAndGlyphs\" textLength=\"40\" x=\"77\" y=\"57.1387\">«part»</text><text fill=\"#000000\" font-family=\"sans-serif\" font-size=\"12\" lengthAdjust=\"spacingAndGlyphs\" textLength=\"24\" x=\"85\" y=\"71.1074\">b: B</text><line style=\"stroke: #383838; stroke-width: 1.5;\" x1=\"77\" x2=\"117\" y1=\"78.9375\" y2=\"78.9375\"/></a><!--MD5=[209b3feb70ccb6233bfe1053d122c12c]\n",
       "reverse link E2 to E3--><a href=\"psysml:f4f335e8-ebb2-4b93-b8a2-3184b124f9b4\" target=\"_top\" title=\"psysml:f4f335e8-ebb2-4b93-b8a2-3184b124f9b4\" xlink:actuate=\"onRequest\" xlink:href=\"psysml:f4f335e8-ebb2-4b93-b8a2-3184b124f9b4\" xlink:show=\"new\" xlink:title=\"psysml:f4f335e8-ebb2-4b93-b8a2-3184b124f9b4\" xlink:type=\"simple\"><path d=\"M180,418.44 C180,433.87 180,451.47 180,464.98 \" fill=\"none\" id=\"E2&lt;-E3\" style=\"stroke: #383838; stroke-width: 1.0;\"/><polygon fill=\"#383838\" points=\"180,405.06,176,411.06,180,417.06,184,411.06,180,405.06\" style=\"stroke: #383838; stroke-width: 1.0;\"/></a><!--MD5=[185131fc0dcab0a4505a2ebe144e961b]\n",
       "link E4 to E2--><a href=\"psysml:6b545197-59fa-4019-832b-0413d8dfad43\" target=\"_top\" title=\"psysml:6b545197-59fa-4019-832b-0413d8dfad43\" xlink:actuate=\"onRequest\" xlink:href=\"psysml:6b545197-59fa-4019-832b-0413d8dfad43\" xlink:show=\"new\" xlink:title=\"psysml:6b545197-59fa-4019-832b-0413d8dfad43\" xlink:type=\"simple\"><path d=\"M201.27,299.06 C198.23,310.78 194.39,325.57 190.81,339.36 \" fill=\"none\" id=\"E4-&gt;E2\" style=\"stroke: #383838; stroke-width: 1.0;\"/><polygon fill=\"#FFFFFF\" points=\"185.72,358.98,183.7221,338.8303,197.2724,342.3504,185.72,358.98\" style=\"stroke: #383838; stroke-width: 1.0;\"/><ellipse cx=\"187.091\" cy=\"333.8163\" fill=\"#383838\" rx=\"2\" ry=\"2\" style=\"stroke: #383838; stroke-width: 1.0;\"/><ellipse cx=\"196.7698\" cy=\"336.3307\" fill=\"#383838\" rx=\"2\" ry=\"2\" style=\"stroke: #383838; stroke-width: 1.0;\"/></a><!--MD5=[85d356282659285ab4b2cfe2f634dd2b]\n",
       "reverse link E5 to E6--><a href=\"psysml:42a57766-d710-4931-98ca-f2942df4b5a7\" target=\"_top\" title=\"psysml:42a57766-d710-4931-98ca-f2942df4b5a7\" xlink:actuate=\"onRequest\" xlink:href=\"psysml:42a57766-d710-4931-98ca-f2942df4b5a7\" xlink:show=\"new\" xlink:title=\"psysml:42a57766-d710-4931-98ca-f2942df4b5a7\" xlink:type=\"simple\"><path d=\"M65,418.44 C65,433.87 65,451.47 65,464.98 \" fill=\"none\" id=\"E5&lt;-E6\" style=\"stroke: #383838; stroke-width: 1.0;\"/><polygon fill=\"#383838\" points=\"65,405.06,61,411.06,65,417.06,69,411.06,65,405.06\" style=\"stroke: #383838; stroke-width: 1.0;\"/></a><!--MD5=[dc164f5e8a733ab456ef1add180e9e34]\n",
       "reverse link E7 to E8--><a href=\"psysml:ee3500c3-1d32-470f-b6bb-e11a5c090a2b\" target=\"_top\" title=\"psysml:ee3500c3-1d32-470f-b6bb-e11a5c090a2b\" xlink:actuate=\"onRequest\" xlink:href=\"psysml:ee3500c3-1d32-470f-b6bb-e11a5c090a2b\" xlink:show=\"new\" xlink:title=\"psysml:ee3500c3-1d32-470f-b6bb-e11a5c090a2b\" xlink:type=\"simple\"><path d=\"M107.95,205.49 C112.91,221.15 118.64,239.19 123.01,252.98 \" fill=\"none\" id=\"E7&lt;-E8\" style=\"stroke: #383838; stroke-width: 1.0;\"/><polygon fill=\"#383838\" points=\"104,193.06,101.9989,199.9879,107.6243,204.4996,109.6253,197.5717,104,193.06\" style=\"stroke: #383838; stroke-width: 1.0;\"/></a><!--MD5=[f1f3f9f2fc535e6147756cb86a7f2e32]\n",
       "link E8 to E2--><a href=\"psysml:385ac8e9-821f-48a2-9a91-91f0503517ad\" target=\"_top\" title=\"psysml:385ac8e9-821f-48a2-9a91-91f0503517ad\" xlink:actuate=\"onRequest\" xlink:href=\"psysml:385ac8e9-821f-48a2-9a91-91f0503517ad\" xlink:show=\"new\" xlink:title=\"psysml:385ac8e9-821f-48a2-9a91-91f0503517ad\" xlink:type=\"simple\"><path d=\"M140.6,299.06 C146.44,311.19 153.86,326.62 160.68,340.82 \" fill=\"none\" id=\"E8-&gt;E2\" style=\"stroke: #383838; stroke-width: 1.0;\"/><polygon fill=\"#FFFFFF\" points=\"169.41,358.98,154.8709,344.8869,167.4894,338.8228,169.41,358.98\" style=\"stroke: #383838; stroke-width: 1.0;\"/><ellipse cx=\"154.2046\" cy=\"338.8831\" fill=\"#383838\" rx=\"2\" ry=\"2\" style=\"stroke: #383838; stroke-width: 1.0;\"/><ellipse cx=\"163.2178\" cy=\"334.5516\" fill=\"#383838\" rx=\"2\" ry=\"2\" style=\"stroke: #383838; stroke-width: 1.0;\"/></a><!--MD5=[e4a10ef82d0e328e31cac39a31e58dda]\n",
       "reverse link E7 to E9--><a href=\"psysml:4dc3c190-fff9-4cfd-9ec6-604d7dd22971\" target=\"_top\" title=\"psysml:4dc3c190-fff9-4cfd-9ec6-604d7dd22971\" xlink:actuate=\"onRequest\" xlink:href=\"psysml:4dc3c190-fff9-4cfd-9ec6-604d7dd22971\" xlink:show=\"new\" xlink:title=\"psysml:4dc3c190-fff9-4cfd-9ec6-604d7dd22971\" xlink:type=\"simple\"><path d=\"M82.41,205.49 C75.78,221.15 68.15,239.19 62.32,252.98 \" fill=\"none\" id=\"E7&lt;-E9\" style=\"stroke: #383838; stroke-width: 1.0;\"/><polygon fill=\"#383838\" points=\"87.67,193.06,81.6505,197.0305,83.0003,204.1142,89.0199,200.1436,87.67,193.06\" style=\"stroke: #383838; stroke-width: 1.0;\"/></a><!--MD5=[bfc3ddf2e613be37104f658f09af896c]\n",
       "link E9 to E5--><a href=\"psysml:e6457602-7adc-4ee0-a454-eb40d686de5b\" target=\"_top\" title=\"psysml:e6457602-7adc-4ee0-a454-eb40d686de5b\" xlink:actuate=\"onRequest\" xlink:href=\"psysml:e6457602-7adc-4ee0-a454-eb40d686de5b\" xlink:show=\"new\" xlink:title=\"psysml:e6457602-7adc-4ee0-a454-eb40d686de5b\" xlink:type=\"simple\"><path d=\"M55.54,299.06 C56.88,310.64 58.56,325.23 60.14,338.87 \" fill=\"none\" id=\"E9-&gt;E5\" style=\"stroke: #383838; stroke-width: 1.0;\"/><polygon fill=\"#FFFFFF\" points=\"62.46,358.98,53.3347,340.9044,67.243,339.3046,62.46,358.98\" style=\"stroke: #383838; stroke-width: 1.0;\"/><ellipse cx=\"54.6702\" cy=\"335.0132\" fill=\"#383838\" rx=\"2\" ry=\"2\" style=\"stroke: #383838; stroke-width: 1.0;\"/><ellipse cx=\"64.6047\" cy=\"333.8704\" fill=\"#383838\" rx=\"2\" ry=\"2\" style=\"stroke: #383838; stroke-width: 1.0;\"/></a><!--MD5=[a919e0967d6f3de553dc51b9865a1d6d]\n",
       "link E10 to E7--><a href=\"psysml:078c16df-6fb3-4d69-bd0c-6c240437776b\" target=\"_top\" title=\"psysml:078c16df-6fb3-4d69-bd0c-6c240437776b\" xlink:actuate=\"onRequest\" xlink:href=\"psysml:078c16df-6fb3-4d69-bd0c-6c240437776b\" xlink:show=\"new\" xlink:title=\"psysml:078c16df-6fb3-4d69-bd0c-6c240437776b\" xlink:type=\"simple\"><path d=\"M97,87.06 C97,98.64 97,113.23 97,126.87 \" fill=\"none\" id=\"E10-&gt;E7\" style=\"stroke: #383838; stroke-width: 1.0;\"/><polygon fill=\"#FFFFFF\" points=\"97,146.98,90,127.98,104,127.98,97,146.98\" style=\"stroke: #383838; stroke-width: 1.0;\"/><ellipse cx=\"92\" cy=\"122.28\" fill=\"#383838\" rx=\"2\" ry=\"2\" style=\"stroke: #383838; stroke-width: 1.0;\"/><ellipse cx=\"102\" cy=\"122.28\" fill=\"#383838\" rx=\"2\" ry=\"2\" style=\"stroke: #383838; stroke-width: 1.0;\"/></a><!--MD5=[707e3a76da724c26785c95b6c241038c]\n",
       "@startuml\r\n",
       "skinparam linetype polyline\r\n",
       "skinparam monochrome true\r\n",
       "skinparam classbackgroundcolor white\r\n",
       "skinparam shadowing false\r\n",
       "skinparam wrapWidth 300\r\n",
       "hide circle\r\n",
       "\r\n",
       "package \"Q\" as E1  [[psysml:c58eea24-2ccf-44f2-b6e8-e98c7ec17236 ]]  {\r\n",
       "comp def \"F\" as E2  <<(T,blue)part def>> [[psysml:a4e187a3-203e-405d-be98-97d147693ddf ]] {\r\n",
       "}\r\n",
       "comp usage \"a\" as E3  <<(T,blue)part>> [[psysml:6ada620e-a181-4489-89b5-9a75fb715758 ]] {\r\n",
       "}\r\n",
       "comp usage \"f: F\" as E4  <<(T,blue)part>> [[psysml:90a61716-c53d-4f92-beb5-5068bb9fa1a0 ]] {\r\n",
       "}\r\n",
       "comp def \"A\" as E5  <<(T,blue)part def>> [[psysml:282ebd08-29d1-4bc9-b49b-68a749240d69 ]] {\r\n",
       "}\r\n",
       "comp usage \"g\" as E6  <<(T,blue)part>> [[psysml:ba34075d-eebc-4755-94e7-ca84c5a458cd ]] {\r\n",
       "}\r\n",
       "comp def \"B\" as E7  <<(T,blue)part def>> [[psysml:88191fe6-4f94-4991-8591-be7eb93db47e ]] {\r\n",
       "}\r\n",
       "comp usage \"f: F\" as E8  <<(T,blue)part>> [[psysml:ab65aa6d-a5a6-4b47-8167-56da9e982a64 ]] {\r\n",
       "}\r\n",
       "comp usage \"a: A\" as E9  <<(T,blue)part>> [[psysml:624da0d4-2cfd-4aae-83e5-be6cf87688fa ]] {\r\n",
       "}\r\n",
       "comp usage \"b: B\" as E10  <<(T,blue)part>> [[psysml:5c182589-a5f3-41ec-a644-db6857a5c19a ]] {\r\n",
       "}\r\n",
       "E2 *- - E3 [[psysml:f4f335e8-ebb2-4b93-b8a2-3184b124f9b4 ]] \r\n",
       "E4 - -:|> E2 [[psysml:6b545197-59fa-4019-832b-0413d8dfad43 ]] \r\n",
       "E5 *- - E6 [[psysml:42a57766-d710-4931-98ca-f2942df4b5a7 ]] \r\n",
       "E7 *- - E8 [[psysml:ee3500c3-1d32-470f-b6bb-e11a5c090a2b ]] \r\n",
       "E8 - -:|> E2 [[psysml:385ac8e9-821f-48a2-9a91-91f0503517ad ]] \r\n",
       "E7 *- - E9 [[psysml:4dc3c190-fff9-4cfd-9ec6-604d7dd22971 ]] \r\n",
       "E9 - -:|> E5 [[psysml:e6457602-7adc-4ee0-a454-eb40d686de5b ]] \r\n",
       "E10 - -:|> E7 [[psysml:078c16df-6fb3-4d69-bd0c-6c240437776b ]] \r\n",
       "}\r\n",
       "@enduml\r\n",
       "\n",
       "PlantUML version 1.2020.13(Sat Jun 13 12:26:38 UTC 2020)\n",
       "(EPL source distribution)\n",
       "Java Runtime: OpenJDK Runtime Environment\n",
       "JVM: OpenJDK 64-Bit Server VM\n",
       "Default Encoding: UTF-8\n",
       "Language: en\n",
       "Country: null\n",
       "--></g></svg>"
      ]
     },
     "execution_count": 15,
     "metadata": {},
     "output_type": "execute_result"
    }
   ],
   "source": [
    "%viz --style=\"POLYLINE\" --view=\"MIXED\" \"Q\""
   ]
  },
  {
   "cell_type": "code",
   "execution_count": 16,
   "id": "22fdb146",
   "metadata": {
    "execution": {
     "iopub.execute_input": "2021-05-27T06:11:58.807847Z",
     "iopub.status.busy": "2021-05-27T06:11:58.807503Z",
     "iopub.status.idle": "2021-05-27T06:11:58.842908Z",
     "shell.execute_reply": "2021-05-27T06:11:58.843146Z"
    }
   },
   "outputs": [
    {
     "data": {
      "image/svg+xml": [
       "<?xml version=\"1.0\" encoding=\"UTF-8\" standalone=\"no\"?><svg xmlns=\"http://www.w3.org/2000/svg\" xmlns:xlink=\"http://www.w3.org/1999/xlink\" contentScriptType=\"application/ecmascript\" contentStyleType=\"text/css\" height=\"277px\" preserveAspectRatio=\"none\" style=\"width:568px;height:277px;\" version=\"1.1\" viewBox=\"0 0 568 277\" width=\"568px\" zoomAndPan=\"magnify\"><defs/><g><!--MD5=[fbc87193dbaf4d95561dea2c320d4a47]\n",
       "cluster E1--><a href=\"psysml:c58eea24-2ccf-44f2-b6e8-e98c7ec17236\" target=\"_top\" title=\"psysml:c58eea24-2ccf-44f2-b6e8-e98c7ec17236\" xlink:actuate=\"onRequest\" xlink:href=\"psysml:c58eea24-2ccf-44f2-b6e8-e98c7ec17236\" xlink:show=\"new\" xlink:title=\"psysml:c58eea24-2ccf-44f2-b6e8-e98c7ec17236\" xlink:type=\"simple\"><polygon fill=\"#FFFFFF\" points=\"16,6,34,6,41,28.2969,546,28.2969,546,265,16,265,16,6\" style=\"stroke: #000000; stroke-width: 1.5;\"/><line style=\"stroke: #000000; stroke-width: 1.5;\" x1=\"16\" x2=\"41\" y1=\"28.2969\" y2=\"28.2969\"/><text fill=\"#000000\" font-family=\"sans-serif\" font-size=\"14\" font-weight=\"bold\" lengthAdjust=\"spacingAndGlyphs\" textLength=\"12\" x=\"20\" y=\"20.9951\">Q</text></a><!--MD5=[b4997ac47864f28c2f74865a473b2911]\n",
       "class E2--><a href=\"psysml:a4e187a3-203e-405d-be98-97d147693ddf\" target=\"_top\" title=\"psysml:a4e187a3-203e-405d-be98-97d147693ddf\" xlink:actuate=\"onRequest\" xlink:href=\"psysml:a4e187a3-203e-405d-be98-97d147693ddf\" xlink:show=\"new\" xlink:title=\"psysml:a4e187a3-203e-405d-be98-97d147693ddf\" xlink:type=\"simple\"><rect fill=\"#FFFFFF\" height=\"45.9375\" id=\"E2\" style=\"stroke: #383838; stroke-width: 1.5;\" width=\"66\" x=\"362\" y=\"122\"/><text fill=\"#000000\" font-family=\"sans-serif\" font-size=\"12\" font-style=\"italic\" lengthAdjust=\"spacingAndGlyphs\" textLength=\"64\" x=\"363\" y=\"138.1387\">«part def»</text><text fill=\"#000000\" font-family=\"sans-serif\" font-size=\"12\" lengthAdjust=\"spacingAndGlyphs\" textLength=\"7\" x=\"391.5\" y=\"152.1074\">F</text><line style=\"stroke: #383838; stroke-width: 1.5;\" x1=\"363\" x2=\"427\" y1=\"159.9375\" y2=\"159.9375\"/></a><!--MD5=[09b614a08d8cba4a07c9adeb5e0fee81]\n",
       "class E3--><a href=\"psysml:6ada620e-a181-4489-89b5-9a75fb715758\" target=\"_top\" title=\"psysml:6ada620e-a181-4489-89b5-9a75fb715758\" xlink:actuate=\"onRequest\" xlink:href=\"psysml:6ada620e-a181-4489-89b5-9a75fb715758\" xlink:show=\"new\" xlink:title=\"psysml:6ada620e-a181-4489-89b5-9a75fb715758\" xlink:type=\"simple\"><rect fill=\"#FFFFFF\" height=\"45.9375\" id=\"E3\" rx=\"10\" ry=\"10\" style=\"stroke: #383838; stroke-width: 1.5;\" width=\"42\" x=\"488\" y=\"122\"/><text fill=\"#000000\" font-family=\"sans-serif\" font-size=\"12\" font-style=\"italic\" lengthAdjust=\"spacingAndGlyphs\" textLength=\"40\" x=\"489\" y=\"138.1387\">«part»</text><text fill=\"#000000\" font-family=\"sans-serif\" font-size=\"12\" lengthAdjust=\"spacingAndGlyphs\" textLength=\"8\" x=\"505\" y=\"152.1074\">a</text><line style=\"stroke: #383838; stroke-width: 1.5;\" x1=\"489\" x2=\"529\" y1=\"159.9375\" y2=\"159.9375\"/></a><!--MD5=[ebbe1d658d1005bcc118a6aa81145e00]\n",
       "class E4--><a href=\"psysml:90a61716-c53d-4f92-beb5-5068bb9fa1a0\" target=\"_top\" title=\"psysml:90a61716-c53d-4f92-beb5-5068bb9fa1a0\" xlink:actuate=\"onRequest\" xlink:href=\"psysml:90a61716-c53d-4f92-beb5-5068bb9fa1a0\" xlink:show=\"new\" xlink:title=\"psysml:90a61716-c53d-4f92-beb5-5068bb9fa1a0\" xlink:type=\"simple\"><rect fill=\"#FFFFFF\" height=\"45.9375\" id=\"E4\" rx=\"10\" ry=\"10\" style=\"stroke: #383838; stroke-width: 1.5;\" width=\"42\" x=\"260\" y=\"41\"/><text fill=\"#000000\" font-family=\"sans-serif\" font-size=\"12\" font-style=\"italic\" lengthAdjust=\"spacingAndGlyphs\" textLength=\"40\" x=\"261\" y=\"57.1387\">«part»</text><text fill=\"#000000\" font-family=\"sans-serif\" font-size=\"12\" lengthAdjust=\"spacingAndGlyphs\" textLength=\"19\" x=\"271.5\" y=\"71.1074\">f: F</text><line style=\"stroke: #383838; stroke-width: 1.5;\" x1=\"261\" x2=\"301\" y1=\"78.9375\" y2=\"78.9375\"/></a><!--MD5=[270fce915f116d4de14055a7c1d9a0f3]\n",
       "class E5--><a href=\"psysml:282ebd08-29d1-4bc9-b49b-68a749240d69\" target=\"_top\" title=\"psysml:282ebd08-29d1-4bc9-b49b-68a749240d69\" xlink:actuate=\"onRequest\" xlink:href=\"psysml:282ebd08-29d1-4bc9-b49b-68a749240d69\" xlink:show=\"new\" xlink:title=\"psysml:282ebd08-29d1-4bc9-b49b-68a749240d69\" xlink:type=\"simple\"><rect fill=\"#FFFFFF\" height=\"45.9375\" id=\"E5\" style=\"stroke: #383838; stroke-width: 1.5;\" width=\"66\" x=\"362\" y=\"203\"/><text fill=\"#000000\" font-family=\"sans-serif\" font-size=\"12\" font-style=\"italic\" lengthAdjust=\"spacingAndGlyphs\" textLength=\"64\" x=\"363\" y=\"219.1387\">«part def»</text><text fill=\"#000000\" font-family=\"sans-serif\" font-size=\"12\" lengthAdjust=\"spacingAndGlyphs\" textLength=\"8\" x=\"391\" y=\"233.1074\">A</text><line style=\"stroke: #383838; stroke-width: 1.5;\" x1=\"363\" x2=\"427\" y1=\"240.9375\" y2=\"240.9375\"/></a><!--MD5=[60a26617385b1d2d0262a64233df1f8d]\n",
       "class E6--><a href=\"psysml:ba34075d-eebc-4755-94e7-ca84c5a458cd\" target=\"_top\" title=\"psysml:ba34075d-eebc-4755-94e7-ca84c5a458cd\" xlink:actuate=\"onRequest\" xlink:href=\"psysml:ba34075d-eebc-4755-94e7-ca84c5a458cd\" xlink:show=\"new\" xlink:title=\"psysml:ba34075d-eebc-4755-94e7-ca84c5a458cd\" xlink:type=\"simple\"><rect fill=\"#FFFFFF\" height=\"45.9375\" id=\"E6\" rx=\"10\" ry=\"10\" style=\"stroke: #383838; stroke-width: 1.5;\" width=\"42\" x=\"488\" y=\"203\"/><text fill=\"#000000\" font-family=\"sans-serif\" font-size=\"12\" font-style=\"italic\" lengthAdjust=\"spacingAndGlyphs\" textLength=\"40\" x=\"489\" y=\"219.1387\">«part»</text><text fill=\"#000000\" font-family=\"sans-serif\" font-size=\"12\" lengthAdjust=\"spacingAndGlyphs\" textLength=\"8\" x=\"505\" y=\"233.1074\">g</text><line style=\"stroke: #383838; stroke-width: 1.5;\" x1=\"489\" x2=\"529\" y1=\"240.9375\" y2=\"240.9375\"/></a><!--MD5=[2156ba9850f5573cc1fc38a6a4b2f02b]\n",
       "class E7--><a href=\"psysml:88191fe6-4f94-4991-8591-be7eb93db47e\" target=\"_top\" title=\"psysml:88191fe6-4f94-4991-8591-be7eb93db47e\" xlink:actuate=\"onRequest\" xlink:href=\"psysml:88191fe6-4f94-4991-8591-be7eb93db47e\" xlink:show=\"new\" xlink:title=\"psysml:88191fe6-4f94-4991-8591-be7eb93db47e\" xlink:type=\"simple\"><rect fill=\"#FFFFFF\" height=\"45.9375\" id=\"E7\" style=\"stroke: #383838; stroke-width: 1.5;\" width=\"66\" x=\"134\" y=\"163\"/><text fill=\"#000000\" font-family=\"sans-serif\" font-size=\"12\" font-style=\"italic\" lengthAdjust=\"spacingAndGlyphs\" textLength=\"64\" x=\"135\" y=\"179.1387\">«part def»</text><text fill=\"#000000\" font-family=\"sans-serif\" font-size=\"12\" lengthAdjust=\"spacingAndGlyphs\" textLength=\"8\" x=\"163\" y=\"193.1074\">B</text><line style=\"stroke: #383838; stroke-width: 1.5;\" x1=\"135\" x2=\"199\" y1=\"200.9375\" y2=\"200.9375\"/></a><!--MD5=[b9389687b975829384b498ac4b7476b2]\n",
       "class E8--><a href=\"psysml:ab65aa6d-a5a6-4b47-8167-56da9e982a64\" target=\"_top\" title=\"psysml:ab65aa6d-a5a6-4b47-8167-56da9e982a64\" xlink:actuate=\"onRequest\" xlink:href=\"psysml:ab65aa6d-a5a6-4b47-8167-56da9e982a64\" xlink:show=\"new\" xlink:title=\"psysml:ab65aa6d-a5a6-4b47-8167-56da9e982a64\" xlink:type=\"simple\"><rect fill=\"#FFFFFF\" height=\"45.9375\" id=\"E8\" rx=\"10\" ry=\"10\" style=\"stroke: #383838; stroke-width: 1.5;\" width=\"42\" x=\"260\" y=\"122\"/><text fill=\"#000000\" font-family=\"sans-serif\" font-size=\"12\" font-style=\"italic\" lengthAdjust=\"spacingAndGlyphs\" textLength=\"40\" x=\"261\" y=\"138.1387\">«part»</text><text fill=\"#000000\" font-family=\"sans-serif\" font-size=\"12\" lengthAdjust=\"spacingAndGlyphs\" textLength=\"19\" x=\"271.5\" y=\"152.1074\">f: F</text><line style=\"stroke: #383838; stroke-width: 1.5;\" x1=\"261\" x2=\"301\" y1=\"159.9375\" y2=\"159.9375\"/></a><!--MD5=[fd4143e9d270a159db93a4ea2a975926]\n",
       "class E9--><a href=\"psysml:624da0d4-2cfd-4aae-83e5-be6cf87688fa\" target=\"_top\" title=\"psysml:624da0d4-2cfd-4aae-83e5-be6cf87688fa\" xlink:actuate=\"onRequest\" xlink:href=\"psysml:624da0d4-2cfd-4aae-83e5-be6cf87688fa\" xlink:show=\"new\" xlink:title=\"psysml:624da0d4-2cfd-4aae-83e5-be6cf87688fa\" xlink:type=\"simple\"><rect fill=\"#FFFFFF\" height=\"45.9375\" id=\"E9\" rx=\"10\" ry=\"10\" style=\"stroke: #383838; stroke-width: 1.5;\" width=\"42\" x=\"260\" y=\"203\"/><text fill=\"#000000\" font-family=\"sans-serif\" font-size=\"12\" font-style=\"italic\" lengthAdjust=\"spacingAndGlyphs\" textLength=\"40\" x=\"261\" y=\"219.1387\">«part»</text><text fill=\"#000000\" font-family=\"sans-serif\" font-size=\"12\" lengthAdjust=\"spacingAndGlyphs\" textLength=\"24\" x=\"269\" y=\"233.1074\">a: A</text><line style=\"stroke: #383838; stroke-width: 1.5;\" x1=\"261\" x2=\"301\" y1=\"240.9375\" y2=\"240.9375\"/></a><!--MD5=[96f4274e9e20536e775497830990834d]\n",
       "class E10--><a href=\"psysml:5c182589-a5f3-41ec-a644-db6857a5c19a\" target=\"_top\" title=\"psysml:5c182589-a5f3-41ec-a644-db6857a5c19a\" xlink:actuate=\"onRequest\" xlink:href=\"psysml:5c182589-a5f3-41ec-a644-db6857a5c19a\" xlink:show=\"new\" xlink:title=\"psysml:5c182589-a5f3-41ec-a644-db6857a5c19a\" xlink:type=\"simple\"><rect fill=\"#FFFFFF\" height=\"45.9375\" id=\"E10\" rx=\"10\" ry=\"10\" style=\"stroke: #383838; stroke-width: 1.5;\" width=\"42\" x=\"32\" y=\"163\"/><text fill=\"#000000\" font-family=\"sans-serif\" font-size=\"12\" font-style=\"italic\" lengthAdjust=\"spacingAndGlyphs\" textLength=\"40\" x=\"33\" y=\"179.1387\">«part»</text><text fill=\"#000000\" font-family=\"sans-serif\" font-size=\"12\" lengthAdjust=\"spacingAndGlyphs\" textLength=\"24\" x=\"41\" y=\"193.1074\">b: B</text><line style=\"stroke: #383838; stroke-width: 1.5;\" x1=\"33\" x2=\"73\" y1=\"200.9375\" y2=\"200.9375\"/></a><!--MD5=[209b3feb70ccb6233bfe1053d122c12c]\n",
       "reverse link E2 to E3--><a href=\"psysml:f4f335e8-ebb2-4b93-b8a2-3184b124f9b4\" target=\"_top\" title=\"psysml:f4f335e8-ebb2-4b93-b8a2-3184b124f9b4\" xlink:actuate=\"onRequest\" xlink:href=\"psysml:f4f335e8-ebb2-4b93-b8a2-3184b124f9b4\" xlink:show=\"new\" xlink:title=\"psysml:f4f335e8-ebb2-4b93-b8a2-3184b124f9b4\" xlink:type=\"simple\"><path d=\"M441.28,145 C457.47,145 474.9,145 487.89,145 \" fill=\"none\" id=\"E2&lt;-E3\" style=\"stroke: #383838; stroke-width: 1.0;\"/><polygon fill=\"#383838\" points=\"428.09,145,434.09,149,440.09,145,434.09,141,428.09,145\" style=\"stroke: #383838; stroke-width: 1.0;\"/></a><!--MD5=[185131fc0dcab0a4505a2ebe144e961b]\n",
       "link E4 to E2--><a href=\"psysml:6b545197-59fa-4019-832b-0413d8dfad43\" target=\"_top\" title=\"psysml:6b545197-59fa-4019-832b-0413d8dfad43\" xlink:actuate=\"onRequest\" xlink:href=\"psysml:6b545197-59fa-4019-832b-0413d8dfad43\" xlink:show=\"new\" xlink:title=\"psysml:6b545197-59fa-4019-832b-0413d8dfad43\" xlink:type=\"simple\"><path d=\"M302.02,78.48 C314.09,87.21 330.03,98.73 345.24,109.73 \" fill=\"none\" id=\"E4-&gt;E2\" style=\"stroke: #383838; stroke-width: 1.0;\"/><polygon fill=\"#FFFFFF\" points=\"361.86,121.75,342.3595,116.2973,350.5582,104.9491,361.86,121.75\" style=\"stroke: #383838; stroke-width: 1.0;\"/><ellipse cx=\"338.9104\" cy=\"111.3381\" fill=\"#383838\" rx=\"2\" ry=\"2\" style=\"stroke: #383838; stroke-width: 1.0;\"/><ellipse cx=\"344.7667\" cy=\"103.2322\" fill=\"#383838\" rx=\"2\" ry=\"2\" style=\"stroke: #383838; stroke-width: 1.0;\"/></a><!--MD5=[85d356282659285ab4b2cfe2f634dd2b]\n",
       "reverse link E5 to E6--><a href=\"psysml:42a57766-d710-4931-98ca-f2942df4b5a7\" target=\"_top\" title=\"psysml:42a57766-d710-4931-98ca-f2942df4b5a7\" xlink:actuate=\"onRequest\" xlink:href=\"psysml:42a57766-d710-4931-98ca-f2942df4b5a7\" xlink:show=\"new\" xlink:title=\"psysml:42a57766-d710-4931-98ca-f2942df4b5a7\" xlink:type=\"simple\"><path d=\"M441.28,226 C457.47,226 474.9,226 487.89,226 \" fill=\"none\" id=\"E5&lt;-E6\" style=\"stroke: #383838; stroke-width: 1.0;\"/><polygon fill=\"#383838\" points=\"428.09,226,434.09,230,440.09,226,434.09,222,428.09,226\" style=\"stroke: #383838; stroke-width: 1.0;\"/></a><!--MD5=[dc164f5e8a733ab456ef1add180e9e34]\n",
       "reverse link E7 to E8--><a href=\"psysml:ee3500c3-1d32-470f-b6bb-e11a5c090a2b\" target=\"_top\" title=\"psysml:ee3500c3-1d32-470f-b6bb-e11a5c090a2b\" xlink:actuate=\"onRequest\" xlink:href=\"psysml:ee3500c3-1d32-470f-b6bb-e11a5c090a2b\" xlink:show=\"new\" xlink:title=\"psysml:ee3500c3-1d32-470f-b6bb-e11a5c090a2b\" xlink:type=\"simple\"><path d=\"M212.31,169.78 C228.77,163.75 246.64,157.21 259.89,152.36 \" fill=\"none\" id=\"E7&lt;-E8\" style=\"stroke: #383838; stroke-width: 1.0;\"/><polygon fill=\"#383838\" points=\"200.09,174.25,207.1,175.9409,211.3571,170.1205,204.347,168.4296,200.09,174.25\" style=\"stroke: #383838; stroke-width: 1.0;\"/></a><!--MD5=[f1f3f9f2fc535e6147756cb86a7f2e32]\n",
       "link E8 to E2--><a href=\"psysml:385ac8e9-821f-48a2-9a91-91f0503517ad\" target=\"_top\" title=\"psysml:385ac8e9-821f-48a2-9a91-91f0503517ad\" xlink:actuate=\"onRequest\" xlink:href=\"psysml:385ac8e9-821f-48a2-9a91-91f0503517ad\" xlink:show=\"new\" xlink:title=\"psysml:385ac8e9-821f-48a2-9a91-91f0503517ad\" xlink:type=\"simple\"><path d=\"M302.02,145 C313.18,145 327.65,145 341.79,145 \" fill=\"none\" id=\"E8-&gt;E2\" style=\"stroke: #383838; stroke-width: 1.0;\"/><polygon fill=\"#FFFFFF\" points=\"361.86,145,342.86,152,342.86,138,361.86,145\" style=\"stroke: #383838; stroke-width: 1.0;\"/><ellipse cx=\"337.16\" cy=\"150\" fill=\"#383838\" rx=\"2\" ry=\"2\" style=\"stroke: #383838; stroke-width: 1.0;\"/><ellipse cx=\"337.16\" cy=\"140\" fill=\"#383838\" rx=\"2\" ry=\"2\" style=\"stroke: #383838; stroke-width: 1.0;\"/></a><!--MD5=[e4a10ef82d0e328e31cac39a31e58dda]\n",
       "reverse link E7 to E9--><a href=\"psysml:4dc3c190-fff9-4cfd-9ec6-604d7dd22971\" target=\"_top\" title=\"psysml:4dc3c190-fff9-4cfd-9ec6-604d7dd22971\" xlink:actuate=\"onRequest\" xlink:href=\"psysml:4dc3c190-fff9-4cfd-9ec6-604d7dd22971\" xlink:show=\"new\" xlink:title=\"psysml:4dc3c190-fff9-4cfd-9ec6-604d7dd22971\" xlink:type=\"simple\"><path d=\"M212.79,202 C229.12,207.83 246.77,214.13 259.89,218.82 \" fill=\"none\" id=\"E7&lt;-E9\" style=\"stroke: #383838; stroke-width: 1.0;\"/><polygon fill=\"#383838\" points=\"200.09,197.46,204.3955,203.2447,211.3912,201.4952,207.0857,195.7105,200.09,197.46\" style=\"stroke: #383838; stroke-width: 1.0;\"/></a><!--MD5=[bfc3ddf2e613be37104f658f09af896c]\n",
       "link E9 to E5--><a href=\"psysml:e6457602-7adc-4ee0-a454-eb40d686de5b\" target=\"_top\" title=\"psysml:e6457602-7adc-4ee0-a454-eb40d686de5b\" xlink:actuate=\"onRequest\" xlink:href=\"psysml:e6457602-7adc-4ee0-a454-eb40d686de5b\" xlink:show=\"new\" xlink:title=\"psysml:e6457602-7adc-4ee0-a454-eb40d686de5b\" xlink:type=\"simple\"><path d=\"M302.02,226 C313.18,226 327.65,226 341.79,226 \" fill=\"none\" id=\"E9-&gt;E5\" style=\"stroke: #383838; stroke-width: 1.0;\"/><polygon fill=\"#FFFFFF\" points=\"361.86,226,342.86,233,342.86,219,361.86,226\" style=\"stroke: #383838; stroke-width: 1.0;\"/><ellipse cx=\"337.16\" cy=\"231\" fill=\"#383838\" rx=\"2\" ry=\"2\" style=\"stroke: #383838; stroke-width: 1.0;\"/><ellipse cx=\"337.16\" cy=\"221\" fill=\"#383838\" rx=\"2\" ry=\"2\" style=\"stroke: #383838; stroke-width: 1.0;\"/></a><!--MD5=[a919e0967d6f3de553dc51b9865a1d6d]\n",
       "link E10 to E7--><a href=\"psysml:078c16df-6fb3-4d69-bd0c-6c240437776b\" target=\"_top\" title=\"psysml:078c16df-6fb3-4d69-bd0c-6c240437776b\" xlink:actuate=\"onRequest\" xlink:href=\"psysml:078c16df-6fb3-4d69-bd0c-6c240437776b\" xlink:show=\"new\" xlink:title=\"psysml:078c16df-6fb3-4d69-bd0c-6c240437776b\" xlink:type=\"simple\"><path d=\"M74.02,186 C85.18,186 99.65,186 113.79,186 \" fill=\"none\" id=\"E10-&gt;E7\" style=\"stroke: #383838; stroke-width: 1.0;\"/><polygon fill=\"#FFFFFF\" points=\"133.86,186,114.86,193,114.86,179,133.86,186\" style=\"stroke: #383838; stroke-width: 1.0;\"/><ellipse cx=\"109.16\" cy=\"191\" fill=\"#383838\" rx=\"2\" ry=\"2\" style=\"stroke: #383838; stroke-width: 1.0;\"/><ellipse cx=\"109.16\" cy=\"181\" fill=\"#383838\" rx=\"2\" ry=\"2\" style=\"stroke: #383838; stroke-width: 1.0;\"/></a><!--MD5=[63a431b14de17a938cb465fc2e8a23da]\n",
       "@startuml\r\n",
       "left to right direction\r\n",
       "skinparam monochrome true\r\n",
       "skinparam classbackgroundcolor white\r\n",
       "skinparam shadowing false\r\n",
       "skinparam wrapWidth 300\r\n",
       "hide circle\r\n",
       "\r\n",
       "package \"Q\" as E1  [[psysml:c58eea24-2ccf-44f2-b6e8-e98c7ec17236 ]]  {\r\n",
       "comp def \"F\" as E2  <<(T,blue)part def>> [[psysml:a4e187a3-203e-405d-be98-97d147693ddf ]] {\r\n",
       "}\r\n",
       "comp usage \"a\" as E3  <<(T,blue)part>> [[psysml:6ada620e-a181-4489-89b5-9a75fb715758 ]] {\r\n",
       "}\r\n",
       "comp usage \"f: F\" as E4  <<(T,blue)part>> [[psysml:90a61716-c53d-4f92-beb5-5068bb9fa1a0 ]] {\r\n",
       "}\r\n",
       "comp def \"A\" as E5  <<(T,blue)part def>> [[psysml:282ebd08-29d1-4bc9-b49b-68a749240d69 ]] {\r\n",
       "}\r\n",
       "comp usage \"g\" as E6  <<(T,blue)part>> [[psysml:ba34075d-eebc-4755-94e7-ca84c5a458cd ]] {\r\n",
       "}\r\n",
       "comp def \"B\" as E7  <<(T,blue)part def>> [[psysml:88191fe6-4f94-4991-8591-be7eb93db47e ]] {\r\n",
       "}\r\n",
       "comp usage \"f: F\" as E8  <<(T,blue)part>> [[psysml:ab65aa6d-a5a6-4b47-8167-56da9e982a64 ]] {\r\n",
       "}\r\n",
       "comp usage \"a: A\" as E9  <<(T,blue)part>> [[psysml:624da0d4-2cfd-4aae-83e5-be6cf87688fa ]] {\r\n",
       "}\r\n",
       "comp usage \"b: B\" as E10  <<(T,blue)part>> [[psysml:5c182589-a5f3-41ec-a644-db6857a5c19a ]] {\r\n",
       "}\r\n",
       "E2 *- - E3 [[psysml:f4f335e8-ebb2-4b93-b8a2-3184b124f9b4 ]] \r\n",
       "E4 - -:|> E2 [[psysml:6b545197-59fa-4019-832b-0413d8dfad43 ]] \r\n",
       "E5 *- - E6 [[psysml:42a57766-d710-4931-98ca-f2942df4b5a7 ]] \r\n",
       "E7 *- - E8 [[psysml:ee3500c3-1d32-470f-b6bb-e11a5c090a2b ]] \r\n",
       "E8 - -:|> E2 [[psysml:385ac8e9-821f-48a2-9a91-91f0503517ad ]] \r\n",
       "E7 *- - E9 [[psysml:4dc3c190-fff9-4cfd-9ec6-604d7dd22971 ]] \r\n",
       "E9 - -:|> E5 [[psysml:e6457602-7adc-4ee0-a454-eb40d686de5b ]] \r\n",
       "E10 - -:|> E7 [[psysml:078c16df-6fb3-4d69-bd0c-6c240437776b ]] \r\n",
       "}\r\n",
       "@enduml\r\n",
       "\n",
       "PlantUML version 1.2020.13(Sat Jun 13 12:26:38 UTC 2020)\n",
       "(EPL source distribution)\n",
       "Java Runtime: OpenJDK Runtime Environment\n",
       "JVM: OpenJDK 64-Bit Server VM\n",
       "Default Encoding: UTF-8\n",
       "Language: en\n",
       "Country: null\n",
       "--></g></svg>"
      ]
     },
     "execution_count": 16,
     "metadata": {},
     "output_type": "execute_result"
    }
   ],
   "source": [
    "%viz --style=\"LR\" --view=\"Default\" \"Q\""
   ]
  },
  {
   "cell_type": "code",
   "execution_count": 17,
   "id": "b99f5d75",
   "metadata": {
    "execution": {
     "iopub.execute_input": "2021-05-27T06:11:58.894654Z",
     "iopub.status.busy": "2021-05-27T06:11:58.893788Z",
     "iopub.status.idle": "2021-05-27T06:11:58.937030Z",
     "shell.execute_reply": "2021-05-27T06:11:58.936770Z"
    }
   },
   "outputs": [
    {
     "data": {
      "image/svg+xml": [
       "<?xml version=\"1.0\" encoding=\"UTF-8\" standalone=\"no\"?><svg xmlns=\"http://www.w3.org/2000/svg\" xmlns:xlink=\"http://www.w3.org/1999/xlink\" contentScriptType=\"application/ecmascript\" contentStyleType=\"text/css\" height=\"277px\" preserveAspectRatio=\"none\" style=\"width:568px;height:277px;\" version=\"1.1\" viewBox=\"0 0 568 277\" width=\"568px\" zoomAndPan=\"magnify\"><defs/><g><!--MD5=[fbc87193dbaf4d95561dea2c320d4a47]\n",
       "cluster E1--><a href=\"psysml:c58eea24-2ccf-44f2-b6e8-e98c7ec17236\" target=\"_top\" title=\"psysml:c58eea24-2ccf-44f2-b6e8-e98c7ec17236\" xlink:actuate=\"onRequest\" xlink:href=\"psysml:c58eea24-2ccf-44f2-b6e8-e98c7ec17236\" xlink:show=\"new\" xlink:title=\"psysml:c58eea24-2ccf-44f2-b6e8-e98c7ec17236\" xlink:type=\"simple\"><polygon fill=\"#FFFFFF\" points=\"16,6,34,6,41,28.2969,546,28.2969,546,265,16,265,16,6\" style=\"stroke: #000000; stroke-width: 1.5;\"/><line style=\"stroke: #000000; stroke-width: 1.5;\" x1=\"16\" x2=\"41\" y1=\"28.2969\" y2=\"28.2969\"/><text fill=\"#000000\" font-family=\"sans-serif\" font-size=\"14\" font-weight=\"bold\" lengthAdjust=\"spacingAndGlyphs\" textLength=\"12\" x=\"20\" y=\"20.9951\">Q</text></a><!--MD5=[b4997ac47864f28c2f74865a473b2911]\n",
       "class E2--><a href=\"psysml:a4e187a3-203e-405d-be98-97d147693ddf\" target=\"_top\" title=\"psysml:a4e187a3-203e-405d-be98-97d147693ddf\" xlink:actuate=\"onRequest\" xlink:href=\"psysml:a4e187a3-203e-405d-be98-97d147693ddf\" xlink:show=\"new\" xlink:title=\"psysml:a4e187a3-203e-405d-be98-97d147693ddf\" xlink:type=\"simple\"><rect fill=\"#FFFFFF\" height=\"45.9375\" id=\"E2\" style=\"stroke: #383838; stroke-width: 1.5;\" width=\"66\" x=\"362\" y=\"122\"/><text fill=\"#000000\" font-family=\"sans-serif\" font-size=\"12\" font-style=\"italic\" lengthAdjust=\"spacingAndGlyphs\" textLength=\"64\" x=\"363\" y=\"138.1387\">«part def»</text><text fill=\"#000000\" font-family=\"sans-serif\" font-size=\"12\" lengthAdjust=\"spacingAndGlyphs\" textLength=\"7\" x=\"391.5\" y=\"152.1074\">F</text><line style=\"stroke: #383838; stroke-width: 1.5;\" x1=\"363\" x2=\"427\" y1=\"159.9375\" y2=\"159.9375\"/></a><!--MD5=[09b614a08d8cba4a07c9adeb5e0fee81]\n",
       "class E3--><a href=\"psysml:6ada620e-a181-4489-89b5-9a75fb715758\" target=\"_top\" title=\"psysml:6ada620e-a181-4489-89b5-9a75fb715758\" xlink:actuate=\"onRequest\" xlink:href=\"psysml:6ada620e-a181-4489-89b5-9a75fb715758\" xlink:show=\"new\" xlink:title=\"psysml:6ada620e-a181-4489-89b5-9a75fb715758\" xlink:type=\"simple\"><rect fill=\"#FFFFFF\" height=\"45.9375\" id=\"E3\" rx=\"10\" ry=\"10\" style=\"stroke: #383838; stroke-width: 1.5;\" width=\"42\" x=\"488\" y=\"122\"/><text fill=\"#000000\" font-family=\"sans-serif\" font-size=\"12\" font-style=\"italic\" lengthAdjust=\"spacingAndGlyphs\" textLength=\"40\" x=\"489\" y=\"138.1387\">«part»</text><text fill=\"#000000\" font-family=\"sans-serif\" font-size=\"12\" lengthAdjust=\"spacingAndGlyphs\" textLength=\"8\" x=\"505\" y=\"152.1074\">a</text><line style=\"stroke: #383838; stroke-width: 1.5;\" x1=\"489\" x2=\"529\" y1=\"159.9375\" y2=\"159.9375\"/></a><!--MD5=[ebbe1d658d1005bcc118a6aa81145e00]\n",
       "class E4--><a href=\"psysml:90a61716-c53d-4f92-beb5-5068bb9fa1a0\" target=\"_top\" title=\"psysml:90a61716-c53d-4f92-beb5-5068bb9fa1a0\" xlink:actuate=\"onRequest\" xlink:href=\"psysml:90a61716-c53d-4f92-beb5-5068bb9fa1a0\" xlink:show=\"new\" xlink:title=\"psysml:90a61716-c53d-4f92-beb5-5068bb9fa1a0\" xlink:type=\"simple\"><rect fill=\"#FFFFFF\" height=\"45.9375\" id=\"E4\" rx=\"10\" ry=\"10\" style=\"stroke: #383838; stroke-width: 1.5;\" width=\"42\" x=\"260\" y=\"41\"/><text fill=\"#000000\" font-family=\"sans-serif\" font-size=\"12\" font-style=\"italic\" lengthAdjust=\"spacingAndGlyphs\" textLength=\"40\" x=\"261\" y=\"57.1387\">«part»</text><text fill=\"#000000\" font-family=\"sans-serif\" font-size=\"12\" lengthAdjust=\"spacingAndGlyphs\" textLength=\"19\" x=\"271.5\" y=\"71.1074\">f: F</text><line style=\"stroke: #383838; stroke-width: 1.5;\" x1=\"261\" x2=\"301\" y1=\"78.9375\" y2=\"78.9375\"/></a><!--MD5=[270fce915f116d4de14055a7c1d9a0f3]\n",
       "class E5--><a href=\"psysml:282ebd08-29d1-4bc9-b49b-68a749240d69\" target=\"_top\" title=\"psysml:282ebd08-29d1-4bc9-b49b-68a749240d69\" xlink:actuate=\"onRequest\" xlink:href=\"psysml:282ebd08-29d1-4bc9-b49b-68a749240d69\" xlink:show=\"new\" xlink:title=\"psysml:282ebd08-29d1-4bc9-b49b-68a749240d69\" xlink:type=\"simple\"><rect fill=\"#FFFFFF\" height=\"45.9375\" id=\"E5\" style=\"stroke: #383838; stroke-width: 1.5;\" width=\"66\" x=\"362\" y=\"203\"/><text fill=\"#000000\" font-family=\"sans-serif\" font-size=\"12\" font-style=\"italic\" lengthAdjust=\"spacingAndGlyphs\" textLength=\"64\" x=\"363\" y=\"219.1387\">«part def»</text><text fill=\"#000000\" font-family=\"sans-serif\" font-size=\"12\" lengthAdjust=\"spacingAndGlyphs\" textLength=\"8\" x=\"391\" y=\"233.1074\">A</text><line style=\"stroke: #383838; stroke-width: 1.5;\" x1=\"363\" x2=\"427\" y1=\"240.9375\" y2=\"240.9375\"/></a><!--MD5=[60a26617385b1d2d0262a64233df1f8d]\n",
       "class E6--><a href=\"psysml:ba34075d-eebc-4755-94e7-ca84c5a458cd\" target=\"_top\" title=\"psysml:ba34075d-eebc-4755-94e7-ca84c5a458cd\" xlink:actuate=\"onRequest\" xlink:href=\"psysml:ba34075d-eebc-4755-94e7-ca84c5a458cd\" xlink:show=\"new\" xlink:title=\"psysml:ba34075d-eebc-4755-94e7-ca84c5a458cd\" xlink:type=\"simple\"><rect fill=\"#FFFFFF\" height=\"45.9375\" id=\"E6\" rx=\"10\" ry=\"10\" style=\"stroke: #383838; stroke-width: 1.5;\" width=\"42\" x=\"488\" y=\"203\"/><text fill=\"#000000\" font-family=\"sans-serif\" font-size=\"12\" font-style=\"italic\" lengthAdjust=\"spacingAndGlyphs\" textLength=\"40\" x=\"489\" y=\"219.1387\">«part»</text><text fill=\"#000000\" font-family=\"sans-serif\" font-size=\"12\" lengthAdjust=\"spacingAndGlyphs\" textLength=\"8\" x=\"505\" y=\"233.1074\">g</text><line style=\"stroke: #383838; stroke-width: 1.5;\" x1=\"489\" x2=\"529\" y1=\"240.9375\" y2=\"240.9375\"/></a><!--MD5=[2156ba9850f5573cc1fc38a6a4b2f02b]\n",
       "class E7--><a href=\"psysml:88191fe6-4f94-4991-8591-be7eb93db47e\" target=\"_top\" title=\"psysml:88191fe6-4f94-4991-8591-be7eb93db47e\" xlink:actuate=\"onRequest\" xlink:href=\"psysml:88191fe6-4f94-4991-8591-be7eb93db47e\" xlink:show=\"new\" xlink:title=\"psysml:88191fe6-4f94-4991-8591-be7eb93db47e\" xlink:type=\"simple\"><rect fill=\"#FFFFFF\" height=\"45.9375\" id=\"E7\" style=\"stroke: #383838; stroke-width: 1.5;\" width=\"66\" x=\"134\" y=\"163\"/><text fill=\"#000000\" font-family=\"sans-serif\" font-size=\"12\" font-style=\"italic\" lengthAdjust=\"spacingAndGlyphs\" textLength=\"64\" x=\"135\" y=\"179.1387\">«part def»</text><text fill=\"#000000\" font-family=\"sans-serif\" font-size=\"12\" lengthAdjust=\"spacingAndGlyphs\" textLength=\"8\" x=\"163\" y=\"193.1074\">B</text><line style=\"stroke: #383838; stroke-width: 1.5;\" x1=\"135\" x2=\"199\" y1=\"200.9375\" y2=\"200.9375\"/></a><!--MD5=[b9389687b975829384b498ac4b7476b2]\n",
       "class E8--><a href=\"psysml:ab65aa6d-a5a6-4b47-8167-56da9e982a64\" target=\"_top\" title=\"psysml:ab65aa6d-a5a6-4b47-8167-56da9e982a64\" xlink:actuate=\"onRequest\" xlink:href=\"psysml:ab65aa6d-a5a6-4b47-8167-56da9e982a64\" xlink:show=\"new\" xlink:title=\"psysml:ab65aa6d-a5a6-4b47-8167-56da9e982a64\" xlink:type=\"simple\"><rect fill=\"#FFFFFF\" height=\"45.9375\" id=\"E8\" rx=\"10\" ry=\"10\" style=\"stroke: #383838; stroke-width: 1.5;\" width=\"42\" x=\"260\" y=\"122\"/><text fill=\"#000000\" font-family=\"sans-serif\" font-size=\"12\" font-style=\"italic\" lengthAdjust=\"spacingAndGlyphs\" textLength=\"40\" x=\"261\" y=\"138.1387\">«part»</text><text fill=\"#000000\" font-family=\"sans-serif\" font-size=\"12\" lengthAdjust=\"spacingAndGlyphs\" textLength=\"19\" x=\"271.5\" y=\"152.1074\">f: F</text><line style=\"stroke: #383838; stroke-width: 1.5;\" x1=\"261\" x2=\"301\" y1=\"159.9375\" y2=\"159.9375\"/></a><!--MD5=[fd4143e9d270a159db93a4ea2a975926]\n",
       "class E9--><a href=\"psysml:624da0d4-2cfd-4aae-83e5-be6cf87688fa\" target=\"_top\" title=\"psysml:624da0d4-2cfd-4aae-83e5-be6cf87688fa\" xlink:actuate=\"onRequest\" xlink:href=\"psysml:624da0d4-2cfd-4aae-83e5-be6cf87688fa\" xlink:show=\"new\" xlink:title=\"psysml:624da0d4-2cfd-4aae-83e5-be6cf87688fa\" xlink:type=\"simple\"><rect fill=\"#FFFFFF\" height=\"45.9375\" id=\"E9\" rx=\"10\" ry=\"10\" style=\"stroke: #383838; stroke-width: 1.5;\" width=\"42\" x=\"260\" y=\"203\"/><text fill=\"#000000\" font-family=\"sans-serif\" font-size=\"12\" font-style=\"italic\" lengthAdjust=\"spacingAndGlyphs\" textLength=\"40\" x=\"261\" y=\"219.1387\">«part»</text><text fill=\"#000000\" font-family=\"sans-serif\" font-size=\"12\" lengthAdjust=\"spacingAndGlyphs\" textLength=\"24\" x=\"269\" y=\"233.1074\">a: A</text><line style=\"stroke: #383838; stroke-width: 1.5;\" x1=\"261\" x2=\"301\" y1=\"240.9375\" y2=\"240.9375\"/></a><!--MD5=[96f4274e9e20536e775497830990834d]\n",
       "class E10--><a href=\"psysml:5c182589-a5f3-41ec-a644-db6857a5c19a\" target=\"_top\" title=\"psysml:5c182589-a5f3-41ec-a644-db6857a5c19a\" xlink:actuate=\"onRequest\" xlink:href=\"psysml:5c182589-a5f3-41ec-a644-db6857a5c19a\" xlink:show=\"new\" xlink:title=\"psysml:5c182589-a5f3-41ec-a644-db6857a5c19a\" xlink:type=\"simple\"><rect fill=\"#FFFFFF\" height=\"45.9375\" id=\"E10\" rx=\"10\" ry=\"10\" style=\"stroke: #383838; stroke-width: 1.5;\" width=\"42\" x=\"32\" y=\"163\"/><text fill=\"#000000\" font-family=\"sans-serif\" font-size=\"12\" font-style=\"italic\" lengthAdjust=\"spacingAndGlyphs\" textLength=\"40\" x=\"33\" y=\"179.1387\">«part»</text><text fill=\"#000000\" font-family=\"sans-serif\" font-size=\"12\" lengthAdjust=\"spacingAndGlyphs\" textLength=\"24\" x=\"41\" y=\"193.1074\">b: B</text><line style=\"stroke: #383838; stroke-width: 1.5;\" x1=\"33\" x2=\"73\" y1=\"200.9375\" y2=\"200.9375\"/></a><!--MD5=[209b3feb70ccb6233bfe1053d122c12c]\n",
       "reverse link E2 to E3--><a href=\"psysml:f4f335e8-ebb2-4b93-b8a2-3184b124f9b4\" target=\"_top\" title=\"psysml:f4f335e8-ebb2-4b93-b8a2-3184b124f9b4\" xlink:actuate=\"onRequest\" xlink:href=\"psysml:f4f335e8-ebb2-4b93-b8a2-3184b124f9b4\" xlink:show=\"new\" xlink:title=\"psysml:f4f335e8-ebb2-4b93-b8a2-3184b124f9b4\" xlink:type=\"simple\"><path d=\"M441.28,145 C457.47,145 474.9,145 487.89,145 \" fill=\"none\" id=\"E2&lt;-E3\" style=\"stroke: #383838; stroke-width: 1.0;\"/><polygon fill=\"#383838\" points=\"428.09,145,434.09,149,440.09,145,434.09,141,428.09,145\" style=\"stroke: #383838; stroke-width: 1.0;\"/></a><!--MD5=[185131fc0dcab0a4505a2ebe144e961b]\n",
       "link E4 to E2--><a href=\"psysml:6b545197-59fa-4019-832b-0413d8dfad43\" target=\"_top\" title=\"psysml:6b545197-59fa-4019-832b-0413d8dfad43\" xlink:actuate=\"onRequest\" xlink:href=\"psysml:6b545197-59fa-4019-832b-0413d8dfad43\" xlink:show=\"new\" xlink:title=\"psysml:6b545197-59fa-4019-832b-0413d8dfad43\" xlink:type=\"simple\"><path d=\"M302.02,78.48 C314.09,87.21 330.03,98.73 345.24,109.73 \" fill=\"none\" id=\"E4-&gt;E2\" style=\"stroke: #383838; stroke-width: 1.0;\"/><polygon fill=\"#FFFFFF\" points=\"361.86,121.75,342.3595,116.2973,350.5582,104.9491,361.86,121.75\" style=\"stroke: #383838; stroke-width: 1.0;\"/><ellipse cx=\"338.9104\" cy=\"111.3381\" fill=\"#383838\" rx=\"2\" ry=\"2\" style=\"stroke: #383838; stroke-width: 1.0;\"/><ellipse cx=\"344.7667\" cy=\"103.2322\" fill=\"#383838\" rx=\"2\" ry=\"2\" style=\"stroke: #383838; stroke-width: 1.0;\"/></a><!--MD5=[85d356282659285ab4b2cfe2f634dd2b]\n",
       "reverse link E5 to E6--><a href=\"psysml:42a57766-d710-4931-98ca-f2942df4b5a7\" target=\"_top\" title=\"psysml:42a57766-d710-4931-98ca-f2942df4b5a7\" xlink:actuate=\"onRequest\" xlink:href=\"psysml:42a57766-d710-4931-98ca-f2942df4b5a7\" xlink:show=\"new\" xlink:title=\"psysml:42a57766-d710-4931-98ca-f2942df4b5a7\" xlink:type=\"simple\"><path d=\"M441.28,226 C457.47,226 474.9,226 487.89,226 \" fill=\"none\" id=\"E5&lt;-E6\" style=\"stroke: #383838; stroke-width: 1.0;\"/><polygon fill=\"#383838\" points=\"428.09,226,434.09,230,440.09,226,434.09,222,428.09,226\" style=\"stroke: #383838; stroke-width: 1.0;\"/></a><!--MD5=[dc164f5e8a733ab456ef1add180e9e34]\n",
       "reverse link E7 to E8--><a href=\"psysml:ee3500c3-1d32-470f-b6bb-e11a5c090a2b\" target=\"_top\" title=\"psysml:ee3500c3-1d32-470f-b6bb-e11a5c090a2b\" xlink:actuate=\"onRequest\" xlink:href=\"psysml:ee3500c3-1d32-470f-b6bb-e11a5c090a2b\" xlink:show=\"new\" xlink:title=\"psysml:ee3500c3-1d32-470f-b6bb-e11a5c090a2b\" xlink:type=\"simple\"><path d=\"M212.31,169.78 C228.77,163.75 246.64,157.21 259.89,152.36 \" fill=\"none\" id=\"E7&lt;-E8\" style=\"stroke: #383838; stroke-width: 1.0;\"/><polygon fill=\"#383838\" points=\"200.09,174.25,207.1,175.9409,211.3571,170.1205,204.347,168.4296,200.09,174.25\" style=\"stroke: #383838; stroke-width: 1.0;\"/></a><!--MD5=[f1f3f9f2fc535e6147756cb86a7f2e32]\n",
       "link E8 to E2--><a href=\"psysml:385ac8e9-821f-48a2-9a91-91f0503517ad\" target=\"_top\" title=\"psysml:385ac8e9-821f-48a2-9a91-91f0503517ad\" xlink:actuate=\"onRequest\" xlink:href=\"psysml:385ac8e9-821f-48a2-9a91-91f0503517ad\" xlink:show=\"new\" xlink:title=\"psysml:385ac8e9-821f-48a2-9a91-91f0503517ad\" xlink:type=\"simple\"><path d=\"M302.02,145 C313.18,145 327.65,145 341.79,145 \" fill=\"none\" id=\"E8-&gt;E2\" style=\"stroke: #383838; stroke-width: 1.0;\"/><polygon fill=\"#FFFFFF\" points=\"361.86,145,342.86,152,342.86,138,361.86,145\" style=\"stroke: #383838; stroke-width: 1.0;\"/><ellipse cx=\"337.16\" cy=\"150\" fill=\"#383838\" rx=\"2\" ry=\"2\" style=\"stroke: #383838; stroke-width: 1.0;\"/><ellipse cx=\"337.16\" cy=\"140\" fill=\"#383838\" rx=\"2\" ry=\"2\" style=\"stroke: #383838; stroke-width: 1.0;\"/></a><!--MD5=[e4a10ef82d0e328e31cac39a31e58dda]\n",
       "reverse link E7 to E9--><a href=\"psysml:4dc3c190-fff9-4cfd-9ec6-604d7dd22971\" target=\"_top\" title=\"psysml:4dc3c190-fff9-4cfd-9ec6-604d7dd22971\" xlink:actuate=\"onRequest\" xlink:href=\"psysml:4dc3c190-fff9-4cfd-9ec6-604d7dd22971\" xlink:show=\"new\" xlink:title=\"psysml:4dc3c190-fff9-4cfd-9ec6-604d7dd22971\" xlink:type=\"simple\"><path d=\"M212.79,202 C229.12,207.83 246.77,214.13 259.89,218.82 \" fill=\"none\" id=\"E7&lt;-E9\" style=\"stroke: #383838; stroke-width: 1.0;\"/><polygon fill=\"#383838\" points=\"200.09,197.46,204.3955,203.2447,211.3912,201.4952,207.0857,195.7105,200.09,197.46\" style=\"stroke: #383838; stroke-width: 1.0;\"/></a><!--MD5=[bfc3ddf2e613be37104f658f09af896c]\n",
       "link E9 to E5--><a href=\"psysml:e6457602-7adc-4ee0-a454-eb40d686de5b\" target=\"_top\" title=\"psysml:e6457602-7adc-4ee0-a454-eb40d686de5b\" xlink:actuate=\"onRequest\" xlink:href=\"psysml:e6457602-7adc-4ee0-a454-eb40d686de5b\" xlink:show=\"new\" xlink:title=\"psysml:e6457602-7adc-4ee0-a454-eb40d686de5b\" xlink:type=\"simple\"><path d=\"M302.02,226 C313.18,226 327.65,226 341.79,226 \" fill=\"none\" id=\"E9-&gt;E5\" style=\"stroke: #383838; stroke-width: 1.0;\"/><polygon fill=\"#FFFFFF\" points=\"361.86,226,342.86,233,342.86,219,361.86,226\" style=\"stroke: #383838; stroke-width: 1.0;\"/><ellipse cx=\"337.16\" cy=\"231\" fill=\"#383838\" rx=\"2\" ry=\"2\" style=\"stroke: #383838; stroke-width: 1.0;\"/><ellipse cx=\"337.16\" cy=\"221\" fill=\"#383838\" rx=\"2\" ry=\"2\" style=\"stroke: #383838; stroke-width: 1.0;\"/></a><!--MD5=[a919e0967d6f3de553dc51b9865a1d6d]\n",
       "link E10 to E7--><a href=\"psysml:078c16df-6fb3-4d69-bd0c-6c240437776b\" target=\"_top\" title=\"psysml:078c16df-6fb3-4d69-bd0c-6c240437776b\" xlink:actuate=\"onRequest\" xlink:href=\"psysml:078c16df-6fb3-4d69-bd0c-6c240437776b\" xlink:show=\"new\" xlink:title=\"psysml:078c16df-6fb3-4d69-bd0c-6c240437776b\" xlink:type=\"simple\"><path d=\"M74.02,186 C85.18,186 99.65,186 113.79,186 \" fill=\"none\" id=\"E10-&gt;E7\" style=\"stroke: #383838; stroke-width: 1.0;\"/><polygon fill=\"#FFFFFF\" points=\"133.86,186,114.86,193,114.86,179,133.86,186\" style=\"stroke: #383838; stroke-width: 1.0;\"/><ellipse cx=\"109.16\" cy=\"191\" fill=\"#383838\" rx=\"2\" ry=\"2\" style=\"stroke: #383838; stroke-width: 1.0;\"/><ellipse cx=\"109.16\" cy=\"181\" fill=\"#383838\" rx=\"2\" ry=\"2\" style=\"stroke: #383838; stroke-width: 1.0;\"/></a><!--MD5=[63a431b14de17a938cb465fc2e8a23da]\n",
       "@startuml\r\n",
       "left to right direction\r\n",
       "skinparam monochrome true\r\n",
       "skinparam classbackgroundcolor white\r\n",
       "skinparam shadowing false\r\n",
       "skinparam wrapWidth 300\r\n",
       "hide circle\r\n",
       "\r\n",
       "package \"Q\" as E1  [[psysml:c58eea24-2ccf-44f2-b6e8-e98c7ec17236 ]]  {\r\n",
       "comp def \"F\" as E2  <<(T,blue)part def>> [[psysml:a4e187a3-203e-405d-be98-97d147693ddf ]] {\r\n",
       "}\r\n",
       "comp usage \"a\" as E3  <<(T,blue)part>> [[psysml:6ada620e-a181-4489-89b5-9a75fb715758 ]] {\r\n",
       "}\r\n",
       "comp usage \"f: F\" as E4  <<(T,blue)part>> [[psysml:90a61716-c53d-4f92-beb5-5068bb9fa1a0 ]] {\r\n",
       "}\r\n",
       "comp def \"A\" as E5  <<(T,blue)part def>> [[psysml:282ebd08-29d1-4bc9-b49b-68a749240d69 ]] {\r\n",
       "}\r\n",
       "comp usage \"g\" as E6  <<(T,blue)part>> [[psysml:ba34075d-eebc-4755-94e7-ca84c5a458cd ]] {\r\n",
       "}\r\n",
       "comp def \"B\" as E7  <<(T,blue)part def>> [[psysml:88191fe6-4f94-4991-8591-be7eb93db47e ]] {\r\n",
       "}\r\n",
       "comp usage \"f: F\" as E8  <<(T,blue)part>> [[psysml:ab65aa6d-a5a6-4b47-8167-56da9e982a64 ]] {\r\n",
       "}\r\n",
       "comp usage \"a: A\" as E9  <<(T,blue)part>> [[psysml:624da0d4-2cfd-4aae-83e5-be6cf87688fa ]] {\r\n",
       "}\r\n",
       "comp usage \"b: B\" as E10  <<(T,blue)part>> [[psysml:5c182589-a5f3-41ec-a644-db6857a5c19a ]] {\r\n",
       "}\r\n",
       "E2 *- - E3 [[psysml:f4f335e8-ebb2-4b93-b8a2-3184b124f9b4 ]] \r\n",
       "E4 - -:|> E2 [[psysml:6b545197-59fa-4019-832b-0413d8dfad43 ]] \r\n",
       "E5 *- - E6 [[psysml:42a57766-d710-4931-98ca-f2942df4b5a7 ]] \r\n",
       "E7 *- - E8 [[psysml:ee3500c3-1d32-470f-b6bb-e11a5c090a2b ]] \r\n",
       "E8 - -:|> E2 [[psysml:385ac8e9-821f-48a2-9a91-91f0503517ad ]] \r\n",
       "E7 *- - E9 [[psysml:4dc3c190-fff9-4cfd-9ec6-604d7dd22971 ]] \r\n",
       "E9 - -:|> E5 [[psysml:e6457602-7adc-4ee0-a454-eb40d686de5b ]] \r\n",
       "E10 - -:|> E7 [[psysml:078c16df-6fb3-4d69-bd0c-6c240437776b ]] \r\n",
       "}\r\n",
       "@enduml\r\n",
       "\n",
       "PlantUML version 1.2020.13(Sat Jun 13 12:26:38 UTC 2020)\n",
       "(EPL source distribution)\n",
       "Java Runtime: OpenJDK Runtime Environment\n",
       "JVM: OpenJDK 64-Bit Server VM\n",
       "Default Encoding: UTF-8\n",
       "Language: en\n",
       "Country: null\n",
       "--></g></svg>"
      ]
     },
     "execution_count": 17,
     "metadata": {},
     "output_type": "execute_result"
    }
   ],
   "source": [
    "%viz --style=\"LR\" --view=\"Tree\" \"Q\""
   ]
  },
  {
   "cell_type": "code",
   "execution_count": 18,
   "id": "5cacfe96",
   "metadata": {
    "execution": {
     "iopub.execute_input": "2021-05-27T06:11:58.987993Z",
     "iopub.status.busy": "2021-05-27T06:11:58.987531Z",
     "iopub.status.idle": "2021-05-27T06:11:58.994627Z",
     "shell.execute_reply": "2021-05-27T06:11:58.993730Z"
    }
   },
   "outputs": [
    {
     "data": {
      "image/svg+xml": [
       "<?xml version=\"1.0\" encoding=\"UTF-8\" standalone=\"no\"?><svg xmlns=\"http://www.w3.org/2000/svg\" xmlns:xlink=\"http://www.w3.org/1999/xlink\" contentScriptType=\"application/ecmascript\" contentStyleType=\"text/css\" height=\"12px\" preserveAspectRatio=\"none\" style=\"width:12px;height:12px;\" version=\"1.1\" viewBox=\"0 0 12 12\" width=\"12px\" zoomAndPan=\"magnify\"><defs/><g><!--MD5=[19d285c9d72a204eba4e2cd117d745e8]\n",
       "@startuml\r\n",
       "left to right direction\r\n",
       "skinparam monochrome true\r\n",
       "skinparam classbackgroundcolor white\r\n",
       "skinparam shadowing false\r\n",
       "skinparam wrapWidth 300\r\n",
       "hide circle\r\n",
       "\r\n",
       "@enduml\r\n",
       "\n",
       "PlantUML version 1.2020.13(Sat Jun 13 12:26:38 UTC 2020)\n",
       "(EPL source distribution)\n",
       "Java Runtime: OpenJDK Runtime Environment\n",
       "JVM: OpenJDK 64-Bit Server VM\n",
       "Default Encoding: UTF-8\n",
       "Language: en\n",
       "Country: null\n",
       "--></g></svg>"
      ]
     },
     "execution_count": 18,
     "metadata": {},
     "output_type": "execute_result"
    }
   ],
   "source": [
    "%viz --style=\"LR\" --view=\"State\" \"Q\""
   ]
  },
  {
   "cell_type": "code",
   "execution_count": 19,
   "id": "3a057cf2",
   "metadata": {
    "execution": {
     "iopub.execute_input": "2021-05-27T06:11:59.048753Z",
     "iopub.status.busy": "2021-05-27T06:11:59.048021Z",
     "iopub.status.idle": "2021-05-27T06:11:59.099983Z",
     "shell.execute_reply": "2021-05-27T06:11:59.099654Z"
    }
   },
   "outputs": [
    {
     "data": {
      "image/svg+xml": [
       "<?xml version=\"1.0\" encoding=\"UTF-8\" standalone=\"no\"?><svg xmlns=\"http://www.w3.org/2000/svg\" xmlns:xlink=\"http://www.w3.org/1999/xlink\" contentScriptType=\"application/ecmascript\" contentStyleType=\"text/css\" height=\"655px\" preserveAspectRatio=\"none\" style=\"width:173px;height:655px;\" version=\"1.1\" viewBox=\"0 0 173 655\" width=\"173px\" zoomAndPan=\"magnify\"><defs/><g><!--MD5=[fbc87193dbaf4d95561dea2c320d4a47]\n",
       "cluster E1--><a href=\"psysml:c58eea24-2ccf-44f2-b6e8-e98c7ec17236\" target=\"_top\" title=\"psysml:c58eea24-2ccf-44f2-b6e8-e98c7ec17236\" xlink:actuate=\"onRequest\" xlink:href=\"psysml:c58eea24-2ccf-44f2-b6e8-e98c7ec17236\" xlink:show=\"new\" xlink:title=\"psysml:c58eea24-2ccf-44f2-b6e8-e98c7ec17236\" xlink:type=\"simple\"><polygon fill=\"#FFFFFF\" points=\"16,6,34,6,41,28.2969,151.5,28.2969,151.5,643,16,643,16,6\" style=\"stroke: #000000; stroke-width: 1.5;\"/><line style=\"stroke: #000000; stroke-width: 1.5;\" x1=\"16\" x2=\"41\" y1=\"28.2969\" y2=\"28.2969\"/><text fill=\"#000000\" font-family=\"sans-serif\" font-size=\"14\" font-weight=\"bold\" lengthAdjust=\"spacingAndGlyphs\" textLength=\"12\" x=\"20\" y=\"20.9951\">Q</text></a><!--MD5=[e4f7fae6ed58524ba242bb0b0d3be6b7]\n",
       "cluster E2--><a href=\"psysml:a4e187a3-203e-405d-be98-97d147693ddf\" target=\"_top\" title=\"psysml:a4e187a3-203e-405d-be98-97d147693ddf\" xlink:actuate=\"onRequest\" xlink:href=\"psysml:a4e187a3-203e-405d-be98-97d147693ddf\" xlink:show=\"new\" xlink:title=\"psysml:a4e187a3-203e-405d-be98-97d147693ddf\" xlink:type=\"simple\"><rect fill=\"#FFFFFF\" height=\"107\" id=\"E2\" style=\"stroke: #383838; stroke-width: 1.5;\" width=\"87\" x=\"40.5\" y=\"49\"/><rect fill=\"#F8F8F8\" height=\"37.9375\" style=\"stroke: #383838; stroke-width: 1.5;\" width=\"87\" x=\"40.5\" y=\"49\"/><text fill=\"#000000\" font-family=\"sans-serif\" font-size=\"12\" font-style=\"italic\" lengthAdjust=\"spacingAndGlyphs\" textLength=\"64\" x=\"52\" y=\"65.1387\">«part def»</text><text fill=\"#000000\" font-family=\"sans-serif\" font-size=\"12\" lengthAdjust=\"spacingAndGlyphs\" textLength=\"7\" x=\"80.5\" y=\"79.1074\">F</text></a><!--MD5=[de5ec2e2e8f62f467e546659f5068c88]\n",
       "cluster E5--><a href=\"psysml:282ebd08-29d1-4bc9-b49b-68a749240d69\" target=\"_top\" title=\"psysml:282ebd08-29d1-4bc9-b49b-68a749240d69\" xlink:actuate=\"onRequest\" xlink:href=\"psysml:282ebd08-29d1-4bc9-b49b-68a749240d69\" xlink:show=\"new\" xlink:title=\"psysml:282ebd08-29d1-4bc9-b49b-68a749240d69\" xlink:type=\"simple\"><rect fill=\"#FFFFFF\" height=\"107\" id=\"E5\" style=\"stroke: #383838; stroke-width: 1.5;\" width=\"87\" x=\"40\" y=\"180\"/><rect fill=\"#F8F8F8\" height=\"37.9375\" style=\"stroke: #383838; stroke-width: 1.5;\" width=\"87\" x=\"40\" y=\"180\"/><text fill=\"#000000\" font-family=\"sans-serif\" font-size=\"12\" font-style=\"italic\" lengthAdjust=\"spacingAndGlyphs\" textLength=\"64\" x=\"51.5\" y=\"196.1387\">«part def»</text><text fill=\"#000000\" font-family=\"sans-serif\" font-size=\"12\" lengthAdjust=\"spacingAndGlyphs\" textLength=\"8\" x=\"79.5\" y=\"210.1074\">A</text></a><!--MD5=[168fadf3d0c3fd93dd5d6da1b1d7ab76]\n",
       "cluster E7--><a href=\"psysml:88191fe6-4f94-4991-8591-be7eb93db47e\" target=\"_top\" title=\"psysml:88191fe6-4f94-4991-8591-be7eb93db47e\" xlink:actuate=\"onRequest\" xlink:href=\"psysml:88191fe6-4f94-4991-8591-be7eb93db47e\" xlink:show=\"new\" xlink:title=\"psysml:88191fe6-4f94-4991-8591-be7eb93db47e\" xlink:type=\"simple\"><rect fill=\"#FFFFFF\" height=\"182\" id=\"E7\" style=\"stroke: #383838; stroke-width: 1.5;\" width=\"87\" x=\"40.5\" y=\"311\"/><rect fill=\"#F8F8F8\" height=\"37.9375\" style=\"stroke: #383838; stroke-width: 1.5;\" width=\"87\" x=\"40.5\" y=\"311\"/><text fill=\"#000000\" font-family=\"sans-serif\" font-size=\"12\" font-style=\"italic\" lengthAdjust=\"spacingAndGlyphs\" textLength=\"64\" x=\"52\" y=\"327.1387\">«part def»</text><text fill=\"#000000\" font-family=\"sans-serif\" font-size=\"12\" lengthAdjust=\"spacingAndGlyphs\" textLength=\"8\" x=\"80\" y=\"341.1074\">B</text></a><g id=\"E1.E2.E3\"><a href=\"psysml:6ada620e-a181-4489-89b5-9a75fb715758\" target=\"_top\" title=\"psysml:6ada620e-a181-4489-89b5-9a75fb715758\" xlink:actuate=\"onRequest\" xlink:href=\"psysml:6ada620e-a181-4489-89b5-9a75fb715758\" xlink:show=\"new\" xlink:title=\"psysml:6ada620e-a181-4489-89b5-9a75fb715758\" xlink:type=\"simple\"><rect fill=\"#FFFFFF\" height=\"40\" id=\"E3\" rx=\"10\" ry=\"10\" style=\"stroke: #383838; stroke-width: 1.5;\" width=\"50\" x=\"58.5\" y=\"100\"/><rect fill=\"#F8F8F8\" height=\"23.9688\" rx=\"10\" ry=\"10\" style=\"stroke: #F8F8F8; stroke-width: 1.5;\" width=\"50\" x=\"58.5\" y=\"100\"/><rect fill=\"#F8F8F8\" height=\"10\" style=\"stroke: #F8F8F8; stroke-width: 1.5;\" width=\"50\" x=\"58.5\" y=\"113.9688\"/><rect fill=\"none\" height=\"40\" id=\"E3\" rx=\"10\" ry=\"10\" style=\"stroke: #383838; stroke-width: 1.5;\" width=\"50\" x=\"58.5\" y=\"100\"/><text fill=\"#000000\" font-family=\"sans-serif\" font-size=\"12\" lengthAdjust=\"spacingAndGlyphs\" textLength=\"8\" x=\"79.5\" y=\"116.1387\">a</text></a></g><g id=\"E1.E4\"><a href=\"psysml:90a61716-c53d-4f92-beb5-5068bb9fa1a0\" target=\"_top\" title=\"psysml:90a61716-c53d-4f92-beb5-5068bb9fa1a0\" xlink:actuate=\"onRequest\" xlink:href=\"psysml:90a61716-c53d-4f92-beb5-5068bb9fa1a0\" xlink:show=\"new\" xlink:title=\"psysml:90a61716-c53d-4f92-beb5-5068bb9fa1a0\" xlink:type=\"simple\"><rect fill=\"#FFFFFF\" height=\"40\" id=\"E4\" rx=\"10\" ry=\"10\" style=\"stroke: #383838; stroke-width: 1.5;\" width=\"50\" x=\"58.5\" y=\"512\"/><rect fill=\"#F8F8F8\" height=\"23.9688\" rx=\"10\" ry=\"10\" style=\"stroke: #F8F8F8; stroke-width: 1.5;\" width=\"50\" x=\"58.5\" y=\"512\"/><rect fill=\"#F8F8F8\" height=\"10\" style=\"stroke: #F8F8F8; stroke-width: 1.5;\" width=\"50\" x=\"58.5\" y=\"525.9688\"/><rect fill=\"none\" height=\"40\" id=\"E4\" rx=\"10\" ry=\"10\" style=\"stroke: #383838; stroke-width: 1.5;\" width=\"50\" x=\"58.5\" y=\"512\"/><text fill=\"#000000\" font-family=\"sans-serif\" font-size=\"12\" lengthAdjust=\"spacingAndGlyphs\" textLength=\"19\" x=\"74\" y=\"528.1387\">f: F</text></a></g><g id=\"E1.E5.E6\"><a href=\"psysml:ba34075d-eebc-4755-94e7-ca84c5a458cd\" target=\"_top\" title=\"psysml:ba34075d-eebc-4755-94e7-ca84c5a458cd\" xlink:actuate=\"onRequest\" xlink:href=\"psysml:ba34075d-eebc-4755-94e7-ca84c5a458cd\" xlink:show=\"new\" xlink:title=\"psysml:ba34075d-eebc-4755-94e7-ca84c5a458cd\" xlink:type=\"simple\"><rect fill=\"#FFFFFF\" height=\"40\" id=\"E6\" rx=\"10\" ry=\"10\" style=\"stroke: #383838; stroke-width: 1.5;\" width=\"53\" x=\"57\" y=\"231\"/><rect fill=\"#F8F8F8\" height=\"23.9688\" rx=\"10\" ry=\"10\" style=\"stroke: #F8F8F8; stroke-width: 1.5;\" width=\"53\" x=\"57\" y=\"231\"/><rect fill=\"#F8F8F8\" height=\"10\" style=\"stroke: #F8F8F8; stroke-width: 1.5;\" width=\"53\" x=\"57\" y=\"244.9688\"/><rect fill=\"none\" height=\"40\" id=\"E6\" rx=\"10\" ry=\"10\" style=\"stroke: #383838; stroke-width: 1.5;\" width=\"53\" x=\"57\" y=\"231\"/><text fill=\"#000000\" font-family=\"sans-serif\" font-size=\"12\" lengthAdjust=\"spacingAndGlyphs\" textLength=\"38\" x=\"62.5\" y=\"247.1387\">g=f.a;</text></a></g><g id=\"E1.E7.E8\"><a href=\"psysml:ab65aa6d-a5a6-4b47-8167-56da9e982a64\" target=\"_top\" title=\"psysml:ab65aa6d-a5a6-4b47-8167-56da9e982a64\" xlink:actuate=\"onRequest\" xlink:href=\"psysml:ab65aa6d-a5a6-4b47-8167-56da9e982a64\" xlink:show=\"new\" xlink:title=\"psysml:ab65aa6d-a5a6-4b47-8167-56da9e982a64\" xlink:type=\"simple\"><rect fill=\"#FFFFFF\" height=\"40\" id=\"E8\" rx=\"10\" ry=\"10\" style=\"stroke: #383838; stroke-width: 1.5;\" width=\"50\" x=\"58.5\" y=\"362\"/><rect fill=\"#F8F8F8\" height=\"23.9688\" rx=\"10\" ry=\"10\" style=\"stroke: #F8F8F8; stroke-width: 1.5;\" width=\"50\" x=\"58.5\" y=\"362\"/><rect fill=\"#F8F8F8\" height=\"10\" style=\"stroke: #F8F8F8; stroke-width: 1.5;\" width=\"50\" x=\"58.5\" y=\"375.9688\"/><rect fill=\"none\" height=\"40\" id=\"E8\" rx=\"10\" ry=\"10\" style=\"stroke: #383838; stroke-width: 1.5;\" width=\"50\" x=\"58.5\" y=\"362\"/><text fill=\"#000000\" font-family=\"sans-serif\" font-size=\"12\" lengthAdjust=\"spacingAndGlyphs\" textLength=\"19\" x=\"74\" y=\"378.1387\">f: F</text></a></g><g id=\"E1.E7.E9\"><a href=\"psysml:624da0d4-2cfd-4aae-83e5-be6cf87688fa\" target=\"_top\" title=\"psysml:624da0d4-2cfd-4aae-83e5-be6cf87688fa\" xlink:actuate=\"onRequest\" xlink:href=\"psysml:624da0d4-2cfd-4aae-83e5-be6cf87688fa\" xlink:show=\"new\" xlink:title=\"psysml:624da0d4-2cfd-4aae-83e5-be6cf87688fa\" xlink:type=\"simple\"><rect fill=\"#FFFFFF\" height=\"40\" id=\"E9\" rx=\"10\" ry=\"10\" style=\"stroke: #383838; stroke-width: 1.5;\" width=\"50\" x=\"58.5\" y=\"437\"/><rect fill=\"#F8F8F8\" height=\"23.9688\" rx=\"10\" ry=\"10\" style=\"stroke: #F8F8F8; stroke-width: 1.5;\" width=\"50\" x=\"58.5\" y=\"437\"/><rect fill=\"#F8F8F8\" height=\"10\" style=\"stroke: #F8F8F8; stroke-width: 1.5;\" width=\"50\" x=\"58.5\" y=\"450.9688\"/><rect fill=\"none\" height=\"40\" id=\"E9\" rx=\"10\" ry=\"10\" style=\"stroke: #383838; stroke-width: 1.5;\" width=\"50\" x=\"58.5\" y=\"437\"/><text fill=\"#000000\" font-family=\"sans-serif\" font-size=\"12\" lengthAdjust=\"spacingAndGlyphs\" textLength=\"24\" x=\"71.5\" y=\"453.1387\">a: A</text></a></g><g id=\"E1.E10\"><a href=\"psysml:5c182589-a5f3-41ec-a644-db6857a5c19a\" target=\"_top\" title=\"psysml:5c182589-a5f3-41ec-a644-db6857a5c19a\" xlink:actuate=\"onRequest\" xlink:href=\"psysml:5c182589-a5f3-41ec-a644-db6857a5c19a\" xlink:show=\"new\" xlink:title=\"psysml:5c182589-a5f3-41ec-a644-db6857a5c19a\" xlink:type=\"simple\"><rect fill=\"#FFFFFF\" height=\"40\" id=\"E10\" rx=\"10\" ry=\"10\" style=\"stroke: #383838; stroke-width: 1.5;\" width=\"50\" x=\"58.5\" y=\"587\"/><rect fill=\"#F8F8F8\" height=\"23.9688\" rx=\"10\" ry=\"10\" style=\"stroke: #F8F8F8; stroke-width: 1.5;\" width=\"50\" x=\"58.5\" y=\"587\"/><rect fill=\"#F8F8F8\" height=\"10\" style=\"stroke: #F8F8F8; stroke-width: 1.5;\" width=\"50\" x=\"58.5\" y=\"600.9688\"/><rect fill=\"none\" height=\"40\" id=\"E10\" rx=\"10\" ry=\"10\" style=\"stroke: #383838; stroke-width: 1.5;\" width=\"50\" x=\"58.5\" y=\"587\"/><text fill=\"#000000\" font-family=\"sans-serif\" font-size=\"12\" lengthAdjust=\"spacingAndGlyphs\" textLength=\"24\" x=\"71.5\" y=\"603.1387\">b: B</text></a></g><!--MD5=[f9da636239f4e808f61b376d7a732af0]\n",
       "@startuml\r\n",
       "skinparam ranksep 10\r\n",
       "skinparam rectangle {\r\n",
       " backgroundColor<<block>> LightGreen\r\n",
       "}\r\n",
       "left to right direction\r\n",
       "skinparam monochrome true\r\n",
       "skinparam classbackgroundcolor white\r\n",
       "skinparam shadowing false\r\n",
       "skinparam wrapWidth 300\r\n",
       "hide circle\r\n",
       "\r\n",
       "package \"Q\" as E1  [[psysml:c58eea24-2ccf-44f2-b6e8-e98c7ec17236 ]]  {\r\n",
       "rec def \"F\" as E2  <<(T,blue)part def>> [[psysml:a4e187a3-203e-405d-be98-97d147693ddf ]] {\r\n",
       "rec usage \"a\" as E3  [[psysml:6ada620e-a181-4489-89b5-9a75fb715758 ]] {\r\n",
       "}\r\n",
       "}\r\n",
       "rec usage \"f: F\" as E4  [[psysml:90a61716-c53d-4f92-beb5-5068bb9fa1a0 ]] {\r\n",
       "}\r\n",
       "rec def \"A\" as E5  <<(T,blue)part def>> [[psysml:282ebd08-29d1-4bc9-b49b-68a749240d69 ]] {\r\n",
       "rec usage \"g=f.a; \" as E6  [[psysml:ba34075d-eebc-4755-94e7-ca84c5a458cd ]] {\r\n",
       "}\r\n",
       "}\r\n",
       "rec def \"B\" as E7  <<(T,blue)part def>> [[psysml:88191fe6-4f94-4991-8591-be7eb93db47e ]] {\r\n",
       "rec usage \"f: F\" as E8  [[psysml:ab65aa6d-a5a6-4b47-8167-56da9e982a64 ]] {\r\n",
       "}\r\n",
       "rec usage \"a: A\" as E9  [[psysml:624da0d4-2cfd-4aae-83e5-be6cf87688fa ]] {\r\n",
       "}\r\n",
       "}\r\n",
       "rec usage \"b: B\" as E10  [[psysml:5c182589-a5f3-41ec-a644-db6857a5c19a ]] {\r\n",
       "}\r\n",
       "}\r\n",
       "@enduml\r\n",
       "\n",
       "PlantUML version 1.2020.13(Sat Jun 13 12:26:38 UTC 2020)\n",
       "(EPL source distribution)\n",
       "Java Runtime: OpenJDK Runtime Environment\n",
       "JVM: OpenJDK 64-Bit Server VM\n",
       "Default Encoding: UTF-8\n",
       "Language: en\n",
       "Country: null\n",
       "--></g></svg>"
      ]
     },
     "execution_count": 19,
     "metadata": {},
     "output_type": "execute_result"
    }
   ],
   "source": [
    "%viz --style=\"LR\" --view=\"Interconnection\" \"Q\""
   ]
  },
  {
   "cell_type": "code",
   "execution_count": 20,
   "id": "a15e68d7",
   "metadata": {
    "execution": {
     "iopub.execute_input": "2021-05-27T06:11:59.153607Z",
     "iopub.status.busy": "2021-05-27T06:11:59.153061Z",
     "iopub.status.idle": "2021-05-27T06:11:59.159078Z",
     "shell.execute_reply": "2021-05-27T06:11:59.158767Z"
    }
   },
   "outputs": [
    {
     "data": {
      "image/svg+xml": [
       "<?xml version=\"1.0\" encoding=\"UTF-8\" standalone=\"no\"?><svg xmlns=\"http://www.w3.org/2000/svg\" xmlns:xlink=\"http://www.w3.org/1999/xlink\" contentScriptType=\"application/ecmascript\" contentStyleType=\"text/css\" height=\"12px\" preserveAspectRatio=\"none\" style=\"width:12px;height:12px;\" version=\"1.1\" viewBox=\"0 0 12 12\" width=\"12px\" zoomAndPan=\"magnify\"><defs/><g><!--MD5=[7aeb398939421629f6affaa4a1a7b125]\n",
       "@startuml\r\n",
       "skinparam ranksep 8\r\n",
       "left to right direction\r\n",
       "skinparam monochrome true\r\n",
       "skinparam classbackgroundcolor white\r\n",
       "skinparam shadowing false\r\n",
       "skinparam wrapWidth 300\r\n",
       "hide circle\r\n",
       "\r\n",
       "@enduml\r\n",
       "\n",
       "PlantUML version 1.2020.13(Sat Jun 13 12:26:38 UTC 2020)\n",
       "(EPL source distribution)\n",
       "Java Runtime: OpenJDK Runtime Environment\n",
       "JVM: OpenJDK 64-Bit Server VM\n",
       "Default Encoding: UTF-8\n",
       "Language: en\n",
       "Country: null\n",
       "--></g></svg>"
      ]
     },
     "execution_count": 20,
     "metadata": {},
     "output_type": "execute_result"
    }
   ],
   "source": [
    "%viz --style=\"LR\" --view=\"Action\" \"Q\""
   ]
  },
  {
   "cell_type": "code",
   "execution_count": 21,
   "id": "6a5260fc",
   "metadata": {
    "execution": {
     "iopub.execute_input": "2021-05-27T06:11:59.213533Z",
     "iopub.status.busy": "2021-05-27T06:11:59.212638Z",
     "iopub.status.idle": "2021-05-27T06:11:59.250250Z",
     "shell.execute_reply": "2021-05-27T06:11:59.248874Z"
    }
   },
   "outputs": [
    {
     "data": {
      "image/svg+xml": [
       "<?xml version=\"1.0\" encoding=\"UTF-8\" standalone=\"no\"?><svg xmlns=\"http://www.w3.org/2000/svg\" xmlns:xlink=\"http://www.w3.org/1999/xlink\" contentScriptType=\"application/ecmascript\" contentStyleType=\"text/css\" height=\"277px\" preserveAspectRatio=\"none\" style=\"width:568px;height:277px;\" version=\"1.1\" viewBox=\"0 0 568 277\" width=\"568px\" zoomAndPan=\"magnify\"><defs/><g><!--MD5=[fbc87193dbaf4d95561dea2c320d4a47]\n",
       "cluster E1--><a href=\"psysml:c58eea24-2ccf-44f2-b6e8-e98c7ec17236\" target=\"_top\" title=\"psysml:c58eea24-2ccf-44f2-b6e8-e98c7ec17236\" xlink:actuate=\"onRequest\" xlink:href=\"psysml:c58eea24-2ccf-44f2-b6e8-e98c7ec17236\" xlink:show=\"new\" xlink:title=\"psysml:c58eea24-2ccf-44f2-b6e8-e98c7ec17236\" xlink:type=\"simple\"><polygon fill=\"#FFFFFF\" points=\"16,6,34,6,41,28.2969,546,28.2969,546,265,16,265,16,6\" style=\"stroke: #000000; stroke-width: 1.5;\"/><line style=\"stroke: #000000; stroke-width: 1.5;\" x1=\"16\" x2=\"41\" y1=\"28.2969\" y2=\"28.2969\"/><text fill=\"#000000\" font-family=\"sans-serif\" font-size=\"14\" font-weight=\"bold\" lengthAdjust=\"spacingAndGlyphs\" textLength=\"12\" x=\"20\" y=\"20.9951\">Q</text></a><!--MD5=[b4997ac47864f28c2f74865a473b2911]\n",
       "class E2--><a href=\"psysml:a4e187a3-203e-405d-be98-97d147693ddf\" target=\"_top\" title=\"psysml:a4e187a3-203e-405d-be98-97d147693ddf\" xlink:actuate=\"onRequest\" xlink:href=\"psysml:a4e187a3-203e-405d-be98-97d147693ddf\" xlink:show=\"new\" xlink:title=\"psysml:a4e187a3-203e-405d-be98-97d147693ddf\" xlink:type=\"simple\"><rect fill=\"#FFFFFF\" height=\"45.9375\" id=\"E2\" style=\"stroke: #383838; stroke-width: 1.5;\" width=\"66\" x=\"362\" y=\"122\"/><text fill=\"#000000\" font-family=\"sans-serif\" font-size=\"12\" font-style=\"italic\" lengthAdjust=\"spacingAndGlyphs\" textLength=\"64\" x=\"363\" y=\"138.1387\">«part def»</text><text fill=\"#000000\" font-family=\"sans-serif\" font-size=\"12\" lengthAdjust=\"spacingAndGlyphs\" textLength=\"7\" x=\"391.5\" y=\"152.1074\">F</text><line style=\"stroke: #383838; stroke-width: 1.5;\" x1=\"363\" x2=\"427\" y1=\"159.9375\" y2=\"159.9375\"/></a><!--MD5=[09b614a08d8cba4a07c9adeb5e0fee81]\n",
       "class E3--><a href=\"psysml:6ada620e-a181-4489-89b5-9a75fb715758\" target=\"_top\" title=\"psysml:6ada620e-a181-4489-89b5-9a75fb715758\" xlink:actuate=\"onRequest\" xlink:href=\"psysml:6ada620e-a181-4489-89b5-9a75fb715758\" xlink:show=\"new\" xlink:title=\"psysml:6ada620e-a181-4489-89b5-9a75fb715758\" xlink:type=\"simple\"><rect fill=\"#FFFFFF\" height=\"45.9375\" id=\"E3\" rx=\"10\" ry=\"10\" style=\"stroke: #383838; stroke-width: 1.5;\" width=\"42\" x=\"488\" y=\"122\"/><text fill=\"#000000\" font-family=\"sans-serif\" font-size=\"12\" font-style=\"italic\" lengthAdjust=\"spacingAndGlyphs\" textLength=\"40\" x=\"489\" y=\"138.1387\">«part»</text><text fill=\"#000000\" font-family=\"sans-serif\" font-size=\"12\" lengthAdjust=\"spacingAndGlyphs\" textLength=\"8\" x=\"505\" y=\"152.1074\">a</text><line style=\"stroke: #383838; stroke-width: 1.5;\" x1=\"489\" x2=\"529\" y1=\"159.9375\" y2=\"159.9375\"/></a><!--MD5=[ebbe1d658d1005bcc118a6aa81145e00]\n",
       "class E4--><a href=\"psysml:90a61716-c53d-4f92-beb5-5068bb9fa1a0\" target=\"_top\" title=\"psysml:90a61716-c53d-4f92-beb5-5068bb9fa1a0\" xlink:actuate=\"onRequest\" xlink:href=\"psysml:90a61716-c53d-4f92-beb5-5068bb9fa1a0\" xlink:show=\"new\" xlink:title=\"psysml:90a61716-c53d-4f92-beb5-5068bb9fa1a0\" xlink:type=\"simple\"><rect fill=\"#FFFFFF\" height=\"45.9375\" id=\"E4\" rx=\"10\" ry=\"10\" style=\"stroke: #383838; stroke-width: 1.5;\" width=\"42\" x=\"260\" y=\"41\"/><text fill=\"#000000\" font-family=\"sans-serif\" font-size=\"12\" font-style=\"italic\" lengthAdjust=\"spacingAndGlyphs\" textLength=\"40\" x=\"261\" y=\"57.1387\">«part»</text><text fill=\"#000000\" font-family=\"sans-serif\" font-size=\"12\" lengthAdjust=\"spacingAndGlyphs\" textLength=\"19\" x=\"271.5\" y=\"71.1074\">f: F</text><line style=\"stroke: #383838; stroke-width: 1.5;\" x1=\"261\" x2=\"301\" y1=\"78.9375\" y2=\"78.9375\"/></a><!--MD5=[270fce915f116d4de14055a7c1d9a0f3]\n",
       "class E5--><a href=\"psysml:282ebd08-29d1-4bc9-b49b-68a749240d69\" target=\"_top\" title=\"psysml:282ebd08-29d1-4bc9-b49b-68a749240d69\" xlink:actuate=\"onRequest\" xlink:href=\"psysml:282ebd08-29d1-4bc9-b49b-68a749240d69\" xlink:show=\"new\" xlink:title=\"psysml:282ebd08-29d1-4bc9-b49b-68a749240d69\" xlink:type=\"simple\"><rect fill=\"#FFFFFF\" height=\"45.9375\" id=\"E5\" style=\"stroke: #383838; stroke-width: 1.5;\" width=\"66\" x=\"362\" y=\"203\"/><text fill=\"#000000\" font-family=\"sans-serif\" font-size=\"12\" font-style=\"italic\" lengthAdjust=\"spacingAndGlyphs\" textLength=\"64\" x=\"363\" y=\"219.1387\">«part def»</text><text fill=\"#000000\" font-family=\"sans-serif\" font-size=\"12\" lengthAdjust=\"spacingAndGlyphs\" textLength=\"8\" x=\"391\" y=\"233.1074\">A</text><line style=\"stroke: #383838; stroke-width: 1.5;\" x1=\"363\" x2=\"427\" y1=\"240.9375\" y2=\"240.9375\"/></a><!--MD5=[60a26617385b1d2d0262a64233df1f8d]\n",
       "class E6--><a href=\"psysml:ba34075d-eebc-4755-94e7-ca84c5a458cd\" target=\"_top\" title=\"psysml:ba34075d-eebc-4755-94e7-ca84c5a458cd\" xlink:actuate=\"onRequest\" xlink:href=\"psysml:ba34075d-eebc-4755-94e7-ca84c5a458cd\" xlink:show=\"new\" xlink:title=\"psysml:ba34075d-eebc-4755-94e7-ca84c5a458cd\" xlink:type=\"simple\"><rect fill=\"#FFFFFF\" height=\"45.9375\" id=\"E6\" rx=\"10\" ry=\"10\" style=\"stroke: #383838; stroke-width: 1.5;\" width=\"42\" x=\"488\" y=\"203\"/><text fill=\"#000000\" font-family=\"sans-serif\" font-size=\"12\" font-style=\"italic\" lengthAdjust=\"spacingAndGlyphs\" textLength=\"40\" x=\"489\" y=\"219.1387\">«part»</text><text fill=\"#000000\" font-family=\"sans-serif\" font-size=\"12\" lengthAdjust=\"spacingAndGlyphs\" textLength=\"8\" x=\"505\" y=\"233.1074\">g</text><line style=\"stroke: #383838; stroke-width: 1.5;\" x1=\"489\" x2=\"529\" y1=\"240.9375\" y2=\"240.9375\"/></a><!--MD5=[2156ba9850f5573cc1fc38a6a4b2f02b]\n",
       "class E7--><a href=\"psysml:88191fe6-4f94-4991-8591-be7eb93db47e\" target=\"_top\" title=\"psysml:88191fe6-4f94-4991-8591-be7eb93db47e\" xlink:actuate=\"onRequest\" xlink:href=\"psysml:88191fe6-4f94-4991-8591-be7eb93db47e\" xlink:show=\"new\" xlink:title=\"psysml:88191fe6-4f94-4991-8591-be7eb93db47e\" xlink:type=\"simple\"><rect fill=\"#FFFFFF\" height=\"45.9375\" id=\"E7\" style=\"stroke: #383838; stroke-width: 1.5;\" width=\"66\" x=\"134\" y=\"163\"/><text fill=\"#000000\" font-family=\"sans-serif\" font-size=\"12\" font-style=\"italic\" lengthAdjust=\"spacingAndGlyphs\" textLength=\"64\" x=\"135\" y=\"179.1387\">«part def»</text><text fill=\"#000000\" font-family=\"sans-serif\" font-size=\"12\" lengthAdjust=\"spacingAndGlyphs\" textLength=\"8\" x=\"163\" y=\"193.1074\">B</text><line style=\"stroke: #383838; stroke-width: 1.5;\" x1=\"135\" x2=\"199\" y1=\"200.9375\" y2=\"200.9375\"/></a><!--MD5=[b9389687b975829384b498ac4b7476b2]\n",
       "class E8--><a href=\"psysml:ab65aa6d-a5a6-4b47-8167-56da9e982a64\" target=\"_top\" title=\"psysml:ab65aa6d-a5a6-4b47-8167-56da9e982a64\" xlink:actuate=\"onRequest\" xlink:href=\"psysml:ab65aa6d-a5a6-4b47-8167-56da9e982a64\" xlink:show=\"new\" xlink:title=\"psysml:ab65aa6d-a5a6-4b47-8167-56da9e982a64\" xlink:type=\"simple\"><rect fill=\"#FFFFFF\" height=\"45.9375\" id=\"E8\" rx=\"10\" ry=\"10\" style=\"stroke: #383838; stroke-width: 1.5;\" width=\"42\" x=\"260\" y=\"122\"/><text fill=\"#000000\" font-family=\"sans-serif\" font-size=\"12\" font-style=\"italic\" lengthAdjust=\"spacingAndGlyphs\" textLength=\"40\" x=\"261\" y=\"138.1387\">«part»</text><text fill=\"#000000\" font-family=\"sans-serif\" font-size=\"12\" lengthAdjust=\"spacingAndGlyphs\" textLength=\"19\" x=\"271.5\" y=\"152.1074\">f: F</text><line style=\"stroke: #383838; stroke-width: 1.5;\" x1=\"261\" x2=\"301\" y1=\"159.9375\" y2=\"159.9375\"/></a><!--MD5=[fd4143e9d270a159db93a4ea2a975926]\n",
       "class E9--><a href=\"psysml:624da0d4-2cfd-4aae-83e5-be6cf87688fa\" target=\"_top\" title=\"psysml:624da0d4-2cfd-4aae-83e5-be6cf87688fa\" xlink:actuate=\"onRequest\" xlink:href=\"psysml:624da0d4-2cfd-4aae-83e5-be6cf87688fa\" xlink:show=\"new\" xlink:title=\"psysml:624da0d4-2cfd-4aae-83e5-be6cf87688fa\" xlink:type=\"simple\"><rect fill=\"#FFFFFF\" height=\"45.9375\" id=\"E9\" rx=\"10\" ry=\"10\" style=\"stroke: #383838; stroke-width: 1.5;\" width=\"42\" x=\"260\" y=\"203\"/><text fill=\"#000000\" font-family=\"sans-serif\" font-size=\"12\" font-style=\"italic\" lengthAdjust=\"spacingAndGlyphs\" textLength=\"40\" x=\"261\" y=\"219.1387\">«part»</text><text fill=\"#000000\" font-family=\"sans-serif\" font-size=\"12\" lengthAdjust=\"spacingAndGlyphs\" textLength=\"24\" x=\"269\" y=\"233.1074\">a: A</text><line style=\"stroke: #383838; stroke-width: 1.5;\" x1=\"261\" x2=\"301\" y1=\"240.9375\" y2=\"240.9375\"/></a><!--MD5=[96f4274e9e20536e775497830990834d]\n",
       "class E10--><a href=\"psysml:5c182589-a5f3-41ec-a644-db6857a5c19a\" target=\"_top\" title=\"psysml:5c182589-a5f3-41ec-a644-db6857a5c19a\" xlink:actuate=\"onRequest\" xlink:href=\"psysml:5c182589-a5f3-41ec-a644-db6857a5c19a\" xlink:show=\"new\" xlink:title=\"psysml:5c182589-a5f3-41ec-a644-db6857a5c19a\" xlink:type=\"simple\"><rect fill=\"#FFFFFF\" height=\"45.9375\" id=\"E10\" rx=\"10\" ry=\"10\" style=\"stroke: #383838; stroke-width: 1.5;\" width=\"42\" x=\"32\" y=\"163\"/><text fill=\"#000000\" font-family=\"sans-serif\" font-size=\"12\" font-style=\"italic\" lengthAdjust=\"spacingAndGlyphs\" textLength=\"40\" x=\"33\" y=\"179.1387\">«part»</text><text fill=\"#000000\" font-family=\"sans-serif\" font-size=\"12\" lengthAdjust=\"spacingAndGlyphs\" textLength=\"24\" x=\"41\" y=\"193.1074\">b: B</text><line style=\"stroke: #383838; stroke-width: 1.5;\" x1=\"33\" x2=\"73\" y1=\"200.9375\" y2=\"200.9375\"/></a><!--MD5=[209b3feb70ccb6233bfe1053d122c12c]\n",
       "reverse link E2 to E3--><a href=\"psysml:f4f335e8-ebb2-4b93-b8a2-3184b124f9b4\" target=\"_top\" title=\"psysml:f4f335e8-ebb2-4b93-b8a2-3184b124f9b4\" xlink:actuate=\"onRequest\" xlink:href=\"psysml:f4f335e8-ebb2-4b93-b8a2-3184b124f9b4\" xlink:show=\"new\" xlink:title=\"psysml:f4f335e8-ebb2-4b93-b8a2-3184b124f9b4\" xlink:type=\"simple\"><path d=\"M441.28,145 C457.47,145 474.9,145 487.89,145 \" fill=\"none\" id=\"E2&lt;-E3\" style=\"stroke: #383838; stroke-width: 1.0;\"/><polygon fill=\"#383838\" points=\"428.09,145,434.09,149,440.09,145,434.09,141,428.09,145\" style=\"stroke: #383838; stroke-width: 1.0;\"/></a><!--MD5=[185131fc0dcab0a4505a2ebe144e961b]\n",
       "link E4 to E2--><a href=\"psysml:6b545197-59fa-4019-832b-0413d8dfad43\" target=\"_top\" title=\"psysml:6b545197-59fa-4019-832b-0413d8dfad43\" xlink:actuate=\"onRequest\" xlink:href=\"psysml:6b545197-59fa-4019-832b-0413d8dfad43\" xlink:show=\"new\" xlink:title=\"psysml:6b545197-59fa-4019-832b-0413d8dfad43\" xlink:type=\"simple\"><path d=\"M302.02,78.48 C314.09,87.21 330.03,98.73 345.24,109.73 \" fill=\"none\" id=\"E4-&gt;E2\" style=\"stroke: #383838; stroke-width: 1.0;\"/><polygon fill=\"#FFFFFF\" points=\"361.86,121.75,342.3595,116.2973,350.5582,104.9491,361.86,121.75\" style=\"stroke: #383838; stroke-width: 1.0;\"/><ellipse cx=\"338.9104\" cy=\"111.3381\" fill=\"#383838\" rx=\"2\" ry=\"2\" style=\"stroke: #383838; stroke-width: 1.0;\"/><ellipse cx=\"344.7667\" cy=\"103.2322\" fill=\"#383838\" rx=\"2\" ry=\"2\" style=\"stroke: #383838; stroke-width: 1.0;\"/></a><!--MD5=[85d356282659285ab4b2cfe2f634dd2b]\n",
       "reverse link E5 to E6--><a href=\"psysml:42a57766-d710-4931-98ca-f2942df4b5a7\" target=\"_top\" title=\"psysml:42a57766-d710-4931-98ca-f2942df4b5a7\" xlink:actuate=\"onRequest\" xlink:href=\"psysml:42a57766-d710-4931-98ca-f2942df4b5a7\" xlink:show=\"new\" xlink:title=\"psysml:42a57766-d710-4931-98ca-f2942df4b5a7\" xlink:type=\"simple\"><path d=\"M441.28,226 C457.47,226 474.9,226 487.89,226 \" fill=\"none\" id=\"E5&lt;-E6\" style=\"stroke: #383838; stroke-width: 1.0;\"/><polygon fill=\"#383838\" points=\"428.09,226,434.09,230,440.09,226,434.09,222,428.09,226\" style=\"stroke: #383838; stroke-width: 1.0;\"/></a><!--MD5=[dc164f5e8a733ab456ef1add180e9e34]\n",
       "reverse link E7 to E8--><a href=\"psysml:ee3500c3-1d32-470f-b6bb-e11a5c090a2b\" target=\"_top\" title=\"psysml:ee3500c3-1d32-470f-b6bb-e11a5c090a2b\" xlink:actuate=\"onRequest\" xlink:href=\"psysml:ee3500c3-1d32-470f-b6bb-e11a5c090a2b\" xlink:show=\"new\" xlink:title=\"psysml:ee3500c3-1d32-470f-b6bb-e11a5c090a2b\" xlink:type=\"simple\"><path d=\"M212.31,169.78 C228.77,163.75 246.64,157.21 259.89,152.36 \" fill=\"none\" id=\"E7&lt;-E8\" style=\"stroke: #383838; stroke-width: 1.0;\"/><polygon fill=\"#383838\" points=\"200.09,174.25,207.1,175.9409,211.3571,170.1205,204.347,168.4296,200.09,174.25\" style=\"stroke: #383838; stroke-width: 1.0;\"/></a><!--MD5=[f1f3f9f2fc535e6147756cb86a7f2e32]\n",
       "link E8 to E2--><a href=\"psysml:385ac8e9-821f-48a2-9a91-91f0503517ad\" target=\"_top\" title=\"psysml:385ac8e9-821f-48a2-9a91-91f0503517ad\" xlink:actuate=\"onRequest\" xlink:href=\"psysml:385ac8e9-821f-48a2-9a91-91f0503517ad\" xlink:show=\"new\" xlink:title=\"psysml:385ac8e9-821f-48a2-9a91-91f0503517ad\" xlink:type=\"simple\"><path d=\"M302.02,145 C313.18,145 327.65,145 341.79,145 \" fill=\"none\" id=\"E8-&gt;E2\" style=\"stroke: #383838; stroke-width: 1.0;\"/><polygon fill=\"#FFFFFF\" points=\"361.86,145,342.86,152,342.86,138,361.86,145\" style=\"stroke: #383838; stroke-width: 1.0;\"/><ellipse cx=\"337.16\" cy=\"150\" fill=\"#383838\" rx=\"2\" ry=\"2\" style=\"stroke: #383838; stroke-width: 1.0;\"/><ellipse cx=\"337.16\" cy=\"140\" fill=\"#383838\" rx=\"2\" ry=\"2\" style=\"stroke: #383838; stroke-width: 1.0;\"/></a><!--MD5=[e4a10ef82d0e328e31cac39a31e58dda]\n",
       "reverse link E7 to E9--><a href=\"psysml:4dc3c190-fff9-4cfd-9ec6-604d7dd22971\" target=\"_top\" title=\"psysml:4dc3c190-fff9-4cfd-9ec6-604d7dd22971\" xlink:actuate=\"onRequest\" xlink:href=\"psysml:4dc3c190-fff9-4cfd-9ec6-604d7dd22971\" xlink:show=\"new\" xlink:title=\"psysml:4dc3c190-fff9-4cfd-9ec6-604d7dd22971\" xlink:type=\"simple\"><path d=\"M212.79,202 C229.12,207.83 246.77,214.13 259.89,218.82 \" fill=\"none\" id=\"E7&lt;-E9\" style=\"stroke: #383838; stroke-width: 1.0;\"/><polygon fill=\"#383838\" points=\"200.09,197.46,204.3955,203.2447,211.3912,201.4952,207.0857,195.7105,200.09,197.46\" style=\"stroke: #383838; stroke-width: 1.0;\"/></a><!--MD5=[bfc3ddf2e613be37104f658f09af896c]\n",
       "link E9 to E5--><a href=\"psysml:e6457602-7adc-4ee0-a454-eb40d686de5b\" target=\"_top\" title=\"psysml:e6457602-7adc-4ee0-a454-eb40d686de5b\" xlink:actuate=\"onRequest\" xlink:href=\"psysml:e6457602-7adc-4ee0-a454-eb40d686de5b\" xlink:show=\"new\" xlink:title=\"psysml:e6457602-7adc-4ee0-a454-eb40d686de5b\" xlink:type=\"simple\"><path d=\"M302.02,226 C313.18,226 327.65,226 341.79,226 \" fill=\"none\" id=\"E9-&gt;E5\" style=\"stroke: #383838; stroke-width: 1.0;\"/><polygon fill=\"#FFFFFF\" points=\"361.86,226,342.86,233,342.86,219,361.86,226\" style=\"stroke: #383838; stroke-width: 1.0;\"/><ellipse cx=\"337.16\" cy=\"231\" fill=\"#383838\" rx=\"2\" ry=\"2\" style=\"stroke: #383838; stroke-width: 1.0;\"/><ellipse cx=\"337.16\" cy=\"221\" fill=\"#383838\" rx=\"2\" ry=\"2\" style=\"stroke: #383838; stroke-width: 1.0;\"/></a><!--MD5=[a919e0967d6f3de553dc51b9865a1d6d]\n",
       "link E10 to E7--><a href=\"psysml:078c16df-6fb3-4d69-bd0c-6c240437776b\" target=\"_top\" title=\"psysml:078c16df-6fb3-4d69-bd0c-6c240437776b\" xlink:actuate=\"onRequest\" xlink:href=\"psysml:078c16df-6fb3-4d69-bd0c-6c240437776b\" xlink:show=\"new\" xlink:title=\"psysml:078c16df-6fb3-4d69-bd0c-6c240437776b\" xlink:type=\"simple\"><path d=\"M74.02,186 C85.18,186 99.65,186 113.79,186 \" fill=\"none\" id=\"E10-&gt;E7\" style=\"stroke: #383838; stroke-width: 1.0;\"/><polygon fill=\"#FFFFFF\" points=\"133.86,186,114.86,193,114.86,179,133.86,186\" style=\"stroke: #383838; stroke-width: 1.0;\"/><ellipse cx=\"109.16\" cy=\"191\" fill=\"#383838\" rx=\"2\" ry=\"2\" style=\"stroke: #383838; stroke-width: 1.0;\"/><ellipse cx=\"109.16\" cy=\"181\" fill=\"#383838\" rx=\"2\" ry=\"2\" style=\"stroke: #383838; stroke-width: 1.0;\"/></a><!--MD5=[63a431b14de17a938cb465fc2e8a23da]\n",
       "@startuml\r\n",
       "left to right direction\r\n",
       "skinparam monochrome true\r\n",
       "skinparam classbackgroundcolor white\r\n",
       "skinparam shadowing false\r\n",
       "skinparam wrapWidth 300\r\n",
       "hide circle\r\n",
       "\r\n",
       "package \"Q\" as E1  [[psysml:c58eea24-2ccf-44f2-b6e8-e98c7ec17236 ]]  {\r\n",
       "comp def \"F\" as E2  <<(T,blue)part def>> [[psysml:a4e187a3-203e-405d-be98-97d147693ddf ]] {\r\n",
       "}\r\n",
       "comp usage \"a\" as E3  <<(T,blue)part>> [[psysml:6ada620e-a181-4489-89b5-9a75fb715758 ]] {\r\n",
       "}\r\n",
       "comp usage \"f: F\" as E4  <<(T,blue)part>> [[psysml:90a61716-c53d-4f92-beb5-5068bb9fa1a0 ]] {\r\n",
       "}\r\n",
       "comp def \"A\" as E5  <<(T,blue)part def>> [[psysml:282ebd08-29d1-4bc9-b49b-68a749240d69 ]] {\r\n",
       "}\r\n",
       "comp usage \"g\" as E6  <<(T,blue)part>> [[psysml:ba34075d-eebc-4755-94e7-ca84c5a458cd ]] {\r\n",
       "}\r\n",
       "comp def \"B\" as E7  <<(T,blue)part def>> [[psysml:88191fe6-4f94-4991-8591-be7eb93db47e ]] {\r\n",
       "}\r\n",
       "comp usage \"f: F\" as E8  <<(T,blue)part>> [[psysml:ab65aa6d-a5a6-4b47-8167-56da9e982a64 ]] {\r\n",
       "}\r\n",
       "comp usage \"a: A\" as E9  <<(T,blue)part>> [[psysml:624da0d4-2cfd-4aae-83e5-be6cf87688fa ]] {\r\n",
       "}\r\n",
       "comp usage \"b: B\" as E10  <<(T,blue)part>> [[psysml:5c182589-a5f3-41ec-a644-db6857a5c19a ]] {\r\n",
       "}\r\n",
       "E2 *- - E3 [[psysml:f4f335e8-ebb2-4b93-b8a2-3184b124f9b4 ]] \r\n",
       "E4 - -:|> E2 [[psysml:6b545197-59fa-4019-832b-0413d8dfad43 ]] \r\n",
       "E5 *- - E6 [[psysml:42a57766-d710-4931-98ca-f2942df4b5a7 ]] \r\n",
       "E7 *- - E8 [[psysml:ee3500c3-1d32-470f-b6bb-e11a5c090a2b ]] \r\n",
       "E8 - -:|> E2 [[psysml:385ac8e9-821f-48a2-9a91-91f0503517ad ]] \r\n",
       "E7 *- - E9 [[psysml:4dc3c190-fff9-4cfd-9ec6-604d7dd22971 ]] \r\n",
       "E9 - -:|> E5 [[psysml:e6457602-7adc-4ee0-a454-eb40d686de5b ]] \r\n",
       "E10 - -:|> E7 [[psysml:078c16df-6fb3-4d69-bd0c-6c240437776b ]] \r\n",
       "}\r\n",
       "@enduml\r\n",
       "\n",
       "PlantUML version 1.2020.13(Sat Jun 13 12:26:38 UTC 2020)\n",
       "(EPL source distribution)\n",
       "Java Runtime: OpenJDK Runtime Environment\n",
       "JVM: OpenJDK 64-Bit Server VM\n",
       "Default Encoding: UTF-8\n",
       "Language: en\n",
       "Country: null\n",
       "--></g></svg>"
      ]
     },
     "execution_count": 21,
     "metadata": {},
     "output_type": "execute_result"
    }
   ],
   "source": [
    "%viz --style=\"LR\" --view=\"Sequence\" \"Q\""
   ]
  },
  {
   "cell_type": "code",
   "execution_count": 22,
   "id": "f0bcfc0b",
   "metadata": {
    "execution": {
     "iopub.execute_input": "2021-05-27T06:11:59.300813Z",
     "iopub.status.busy": "2021-05-27T06:11:59.300372Z",
     "iopub.status.idle": "2021-05-27T06:11:59.344441Z",
     "shell.execute_reply": "2021-05-27T06:11:59.343079Z"
    }
   },
   "outputs": [
    {
     "data": {
      "image/svg+xml": [
       "<?xml version=\"1.0\" encoding=\"UTF-8\" standalone=\"no\"?><svg xmlns=\"http://www.w3.org/2000/svg\" xmlns:xlink=\"http://www.w3.org/1999/xlink\" contentScriptType=\"application/ecmascript\" contentStyleType=\"text/css\" height=\"277px\" preserveAspectRatio=\"none\" style=\"width:568px;height:277px;\" version=\"1.1\" viewBox=\"0 0 568 277\" width=\"568px\" zoomAndPan=\"magnify\"><defs/><g><!--MD5=[fbc87193dbaf4d95561dea2c320d4a47]\n",
       "cluster E1--><a href=\"psysml:c58eea24-2ccf-44f2-b6e8-e98c7ec17236\" target=\"_top\" title=\"psysml:c58eea24-2ccf-44f2-b6e8-e98c7ec17236\" xlink:actuate=\"onRequest\" xlink:href=\"psysml:c58eea24-2ccf-44f2-b6e8-e98c7ec17236\" xlink:show=\"new\" xlink:title=\"psysml:c58eea24-2ccf-44f2-b6e8-e98c7ec17236\" xlink:type=\"simple\"><polygon fill=\"#FFFFFF\" points=\"16,6,34,6,41,28.2969,546,28.2969,546,265,16,265,16,6\" style=\"stroke: #000000; stroke-width: 1.5;\"/><line style=\"stroke: #000000; stroke-width: 1.5;\" x1=\"16\" x2=\"41\" y1=\"28.2969\" y2=\"28.2969\"/><text fill=\"#000000\" font-family=\"sans-serif\" font-size=\"14\" font-weight=\"bold\" lengthAdjust=\"spacingAndGlyphs\" textLength=\"12\" x=\"20\" y=\"20.9951\">Q</text></a><!--MD5=[b4997ac47864f28c2f74865a473b2911]\n",
       "class E2--><a href=\"psysml:a4e187a3-203e-405d-be98-97d147693ddf\" target=\"_top\" title=\"psysml:a4e187a3-203e-405d-be98-97d147693ddf\" xlink:actuate=\"onRequest\" xlink:href=\"psysml:a4e187a3-203e-405d-be98-97d147693ddf\" xlink:show=\"new\" xlink:title=\"psysml:a4e187a3-203e-405d-be98-97d147693ddf\" xlink:type=\"simple\"><rect fill=\"#FFFFFF\" height=\"45.9375\" id=\"E2\" style=\"stroke: #383838; stroke-width: 1.5;\" width=\"66\" x=\"362\" y=\"122\"/><text fill=\"#000000\" font-family=\"sans-serif\" font-size=\"12\" font-style=\"italic\" lengthAdjust=\"spacingAndGlyphs\" textLength=\"64\" x=\"363\" y=\"138.1387\">«part def»</text><text fill=\"#000000\" font-family=\"sans-serif\" font-size=\"12\" lengthAdjust=\"spacingAndGlyphs\" textLength=\"7\" x=\"391.5\" y=\"152.1074\">F</text><line style=\"stroke: #383838; stroke-width: 1.5;\" x1=\"363\" x2=\"427\" y1=\"159.9375\" y2=\"159.9375\"/></a><!--MD5=[09b614a08d8cba4a07c9adeb5e0fee81]\n",
       "class E3--><a href=\"psysml:6ada620e-a181-4489-89b5-9a75fb715758\" target=\"_top\" title=\"psysml:6ada620e-a181-4489-89b5-9a75fb715758\" xlink:actuate=\"onRequest\" xlink:href=\"psysml:6ada620e-a181-4489-89b5-9a75fb715758\" xlink:show=\"new\" xlink:title=\"psysml:6ada620e-a181-4489-89b5-9a75fb715758\" xlink:type=\"simple\"><rect fill=\"#FFFFFF\" height=\"45.9375\" id=\"E3\" rx=\"10\" ry=\"10\" style=\"stroke: #383838; stroke-width: 1.5;\" width=\"42\" x=\"488\" y=\"122\"/><text fill=\"#000000\" font-family=\"sans-serif\" font-size=\"12\" font-style=\"italic\" lengthAdjust=\"spacingAndGlyphs\" textLength=\"40\" x=\"489\" y=\"138.1387\">«part»</text><text fill=\"#000000\" font-family=\"sans-serif\" font-size=\"12\" lengthAdjust=\"spacingAndGlyphs\" textLength=\"8\" x=\"505\" y=\"152.1074\">a</text><line style=\"stroke: #383838; stroke-width: 1.5;\" x1=\"489\" x2=\"529\" y1=\"159.9375\" y2=\"159.9375\"/></a><!--MD5=[ebbe1d658d1005bcc118a6aa81145e00]\n",
       "class E4--><a href=\"psysml:90a61716-c53d-4f92-beb5-5068bb9fa1a0\" target=\"_top\" title=\"psysml:90a61716-c53d-4f92-beb5-5068bb9fa1a0\" xlink:actuate=\"onRequest\" xlink:href=\"psysml:90a61716-c53d-4f92-beb5-5068bb9fa1a0\" xlink:show=\"new\" xlink:title=\"psysml:90a61716-c53d-4f92-beb5-5068bb9fa1a0\" xlink:type=\"simple\"><rect fill=\"#FFFFFF\" height=\"45.9375\" id=\"E4\" rx=\"10\" ry=\"10\" style=\"stroke: #383838; stroke-width: 1.5;\" width=\"42\" x=\"260\" y=\"41\"/><text fill=\"#000000\" font-family=\"sans-serif\" font-size=\"12\" font-style=\"italic\" lengthAdjust=\"spacingAndGlyphs\" textLength=\"40\" x=\"261\" y=\"57.1387\">«part»</text><text fill=\"#000000\" font-family=\"sans-serif\" font-size=\"12\" lengthAdjust=\"spacingAndGlyphs\" textLength=\"19\" x=\"271.5\" y=\"71.1074\">f: F</text><line style=\"stroke: #383838; stroke-width: 1.5;\" x1=\"261\" x2=\"301\" y1=\"78.9375\" y2=\"78.9375\"/></a><!--MD5=[270fce915f116d4de14055a7c1d9a0f3]\n",
       "class E5--><a href=\"psysml:282ebd08-29d1-4bc9-b49b-68a749240d69\" target=\"_top\" title=\"psysml:282ebd08-29d1-4bc9-b49b-68a749240d69\" xlink:actuate=\"onRequest\" xlink:href=\"psysml:282ebd08-29d1-4bc9-b49b-68a749240d69\" xlink:show=\"new\" xlink:title=\"psysml:282ebd08-29d1-4bc9-b49b-68a749240d69\" xlink:type=\"simple\"><rect fill=\"#FFFFFF\" height=\"45.9375\" id=\"E5\" style=\"stroke: #383838; stroke-width: 1.5;\" width=\"66\" x=\"362\" y=\"203\"/><text fill=\"#000000\" font-family=\"sans-serif\" font-size=\"12\" font-style=\"italic\" lengthAdjust=\"spacingAndGlyphs\" textLength=\"64\" x=\"363\" y=\"219.1387\">«part def»</text><text fill=\"#000000\" font-family=\"sans-serif\" font-size=\"12\" lengthAdjust=\"spacingAndGlyphs\" textLength=\"8\" x=\"391\" y=\"233.1074\">A</text><line style=\"stroke: #383838; stroke-width: 1.5;\" x1=\"363\" x2=\"427\" y1=\"240.9375\" y2=\"240.9375\"/></a><!--MD5=[60a26617385b1d2d0262a64233df1f8d]\n",
       "class E6--><a href=\"psysml:ba34075d-eebc-4755-94e7-ca84c5a458cd\" target=\"_top\" title=\"psysml:ba34075d-eebc-4755-94e7-ca84c5a458cd\" xlink:actuate=\"onRequest\" xlink:href=\"psysml:ba34075d-eebc-4755-94e7-ca84c5a458cd\" xlink:show=\"new\" xlink:title=\"psysml:ba34075d-eebc-4755-94e7-ca84c5a458cd\" xlink:type=\"simple\"><rect fill=\"#FFFFFF\" height=\"45.9375\" id=\"E6\" rx=\"10\" ry=\"10\" style=\"stroke: #383838; stroke-width: 1.5;\" width=\"42\" x=\"488\" y=\"203\"/><text fill=\"#000000\" font-family=\"sans-serif\" font-size=\"12\" font-style=\"italic\" lengthAdjust=\"spacingAndGlyphs\" textLength=\"40\" x=\"489\" y=\"219.1387\">«part»</text><text fill=\"#000000\" font-family=\"sans-serif\" font-size=\"12\" lengthAdjust=\"spacingAndGlyphs\" textLength=\"8\" x=\"505\" y=\"233.1074\">g</text><line style=\"stroke: #383838; stroke-width: 1.5;\" x1=\"489\" x2=\"529\" y1=\"240.9375\" y2=\"240.9375\"/></a><!--MD5=[2156ba9850f5573cc1fc38a6a4b2f02b]\n",
       "class E7--><a href=\"psysml:88191fe6-4f94-4991-8591-be7eb93db47e\" target=\"_top\" title=\"psysml:88191fe6-4f94-4991-8591-be7eb93db47e\" xlink:actuate=\"onRequest\" xlink:href=\"psysml:88191fe6-4f94-4991-8591-be7eb93db47e\" xlink:show=\"new\" xlink:title=\"psysml:88191fe6-4f94-4991-8591-be7eb93db47e\" xlink:type=\"simple\"><rect fill=\"#FFFFFF\" height=\"45.9375\" id=\"E7\" style=\"stroke: #383838; stroke-width: 1.5;\" width=\"66\" x=\"134\" y=\"163\"/><text fill=\"#000000\" font-family=\"sans-serif\" font-size=\"12\" font-style=\"italic\" lengthAdjust=\"spacingAndGlyphs\" textLength=\"64\" x=\"135\" y=\"179.1387\">«part def»</text><text fill=\"#000000\" font-family=\"sans-serif\" font-size=\"12\" lengthAdjust=\"spacingAndGlyphs\" textLength=\"8\" x=\"163\" y=\"193.1074\">B</text><line style=\"stroke: #383838; stroke-width: 1.5;\" x1=\"135\" x2=\"199\" y1=\"200.9375\" y2=\"200.9375\"/></a><!--MD5=[b9389687b975829384b498ac4b7476b2]\n",
       "class E8--><a href=\"psysml:ab65aa6d-a5a6-4b47-8167-56da9e982a64\" target=\"_top\" title=\"psysml:ab65aa6d-a5a6-4b47-8167-56da9e982a64\" xlink:actuate=\"onRequest\" xlink:href=\"psysml:ab65aa6d-a5a6-4b47-8167-56da9e982a64\" xlink:show=\"new\" xlink:title=\"psysml:ab65aa6d-a5a6-4b47-8167-56da9e982a64\" xlink:type=\"simple\"><rect fill=\"#FFFFFF\" height=\"45.9375\" id=\"E8\" rx=\"10\" ry=\"10\" style=\"stroke: #383838; stroke-width: 1.5;\" width=\"42\" x=\"260\" y=\"122\"/><text fill=\"#000000\" font-family=\"sans-serif\" font-size=\"12\" font-style=\"italic\" lengthAdjust=\"spacingAndGlyphs\" textLength=\"40\" x=\"261\" y=\"138.1387\">«part»</text><text fill=\"#000000\" font-family=\"sans-serif\" font-size=\"12\" lengthAdjust=\"spacingAndGlyphs\" textLength=\"19\" x=\"271.5\" y=\"152.1074\">f: F</text><line style=\"stroke: #383838; stroke-width: 1.5;\" x1=\"261\" x2=\"301\" y1=\"159.9375\" y2=\"159.9375\"/></a><!--MD5=[fd4143e9d270a159db93a4ea2a975926]\n",
       "class E9--><a href=\"psysml:624da0d4-2cfd-4aae-83e5-be6cf87688fa\" target=\"_top\" title=\"psysml:624da0d4-2cfd-4aae-83e5-be6cf87688fa\" xlink:actuate=\"onRequest\" xlink:href=\"psysml:624da0d4-2cfd-4aae-83e5-be6cf87688fa\" xlink:show=\"new\" xlink:title=\"psysml:624da0d4-2cfd-4aae-83e5-be6cf87688fa\" xlink:type=\"simple\"><rect fill=\"#FFFFFF\" height=\"45.9375\" id=\"E9\" rx=\"10\" ry=\"10\" style=\"stroke: #383838; stroke-width: 1.5;\" width=\"42\" x=\"260\" y=\"203\"/><text fill=\"#000000\" font-family=\"sans-serif\" font-size=\"12\" font-style=\"italic\" lengthAdjust=\"spacingAndGlyphs\" textLength=\"40\" x=\"261\" y=\"219.1387\">«part»</text><text fill=\"#000000\" font-family=\"sans-serif\" font-size=\"12\" lengthAdjust=\"spacingAndGlyphs\" textLength=\"24\" x=\"269\" y=\"233.1074\">a: A</text><line style=\"stroke: #383838; stroke-width: 1.5;\" x1=\"261\" x2=\"301\" y1=\"240.9375\" y2=\"240.9375\"/></a><!--MD5=[96f4274e9e20536e775497830990834d]\n",
       "class E10--><a href=\"psysml:5c182589-a5f3-41ec-a644-db6857a5c19a\" target=\"_top\" title=\"psysml:5c182589-a5f3-41ec-a644-db6857a5c19a\" xlink:actuate=\"onRequest\" xlink:href=\"psysml:5c182589-a5f3-41ec-a644-db6857a5c19a\" xlink:show=\"new\" xlink:title=\"psysml:5c182589-a5f3-41ec-a644-db6857a5c19a\" xlink:type=\"simple\"><rect fill=\"#FFFFFF\" height=\"45.9375\" id=\"E10\" rx=\"10\" ry=\"10\" style=\"stroke: #383838; stroke-width: 1.5;\" width=\"42\" x=\"32\" y=\"163\"/><text fill=\"#000000\" font-family=\"sans-serif\" font-size=\"12\" font-style=\"italic\" lengthAdjust=\"spacingAndGlyphs\" textLength=\"40\" x=\"33\" y=\"179.1387\">«part»</text><text fill=\"#000000\" font-family=\"sans-serif\" font-size=\"12\" lengthAdjust=\"spacingAndGlyphs\" textLength=\"24\" x=\"41\" y=\"193.1074\">b: B</text><line style=\"stroke: #383838; stroke-width: 1.5;\" x1=\"33\" x2=\"73\" y1=\"200.9375\" y2=\"200.9375\"/></a><!--MD5=[209b3feb70ccb6233bfe1053d122c12c]\n",
       "reverse link E2 to E3--><a href=\"psysml:f4f335e8-ebb2-4b93-b8a2-3184b124f9b4\" target=\"_top\" title=\"psysml:f4f335e8-ebb2-4b93-b8a2-3184b124f9b4\" xlink:actuate=\"onRequest\" xlink:href=\"psysml:f4f335e8-ebb2-4b93-b8a2-3184b124f9b4\" xlink:show=\"new\" xlink:title=\"psysml:f4f335e8-ebb2-4b93-b8a2-3184b124f9b4\" xlink:type=\"simple\"><path d=\"M441.28,145 C457.47,145 474.9,145 487.89,145 \" fill=\"none\" id=\"E2&lt;-E3\" style=\"stroke: #383838; stroke-width: 1.0;\"/><polygon fill=\"#383838\" points=\"428.09,145,434.09,149,440.09,145,434.09,141,428.09,145\" style=\"stroke: #383838; stroke-width: 1.0;\"/></a><!--MD5=[185131fc0dcab0a4505a2ebe144e961b]\n",
       "link E4 to E2--><a href=\"psysml:6b545197-59fa-4019-832b-0413d8dfad43\" target=\"_top\" title=\"psysml:6b545197-59fa-4019-832b-0413d8dfad43\" xlink:actuate=\"onRequest\" xlink:href=\"psysml:6b545197-59fa-4019-832b-0413d8dfad43\" xlink:show=\"new\" xlink:title=\"psysml:6b545197-59fa-4019-832b-0413d8dfad43\" xlink:type=\"simple\"><path d=\"M302.02,78.48 C314.09,87.21 330.03,98.73 345.24,109.73 \" fill=\"none\" id=\"E4-&gt;E2\" style=\"stroke: #383838; stroke-width: 1.0;\"/><polygon fill=\"#FFFFFF\" points=\"361.86,121.75,342.3595,116.2973,350.5582,104.9491,361.86,121.75\" style=\"stroke: #383838; stroke-width: 1.0;\"/><ellipse cx=\"338.9104\" cy=\"111.3381\" fill=\"#383838\" rx=\"2\" ry=\"2\" style=\"stroke: #383838; stroke-width: 1.0;\"/><ellipse cx=\"344.7667\" cy=\"103.2322\" fill=\"#383838\" rx=\"2\" ry=\"2\" style=\"stroke: #383838; stroke-width: 1.0;\"/></a><!--MD5=[85d356282659285ab4b2cfe2f634dd2b]\n",
       "reverse link E5 to E6--><a href=\"psysml:42a57766-d710-4931-98ca-f2942df4b5a7\" target=\"_top\" title=\"psysml:42a57766-d710-4931-98ca-f2942df4b5a7\" xlink:actuate=\"onRequest\" xlink:href=\"psysml:42a57766-d710-4931-98ca-f2942df4b5a7\" xlink:show=\"new\" xlink:title=\"psysml:42a57766-d710-4931-98ca-f2942df4b5a7\" xlink:type=\"simple\"><path d=\"M441.28,226 C457.47,226 474.9,226 487.89,226 \" fill=\"none\" id=\"E5&lt;-E6\" style=\"stroke: #383838; stroke-width: 1.0;\"/><polygon fill=\"#383838\" points=\"428.09,226,434.09,230,440.09,226,434.09,222,428.09,226\" style=\"stroke: #383838; stroke-width: 1.0;\"/></a><!--MD5=[dc164f5e8a733ab456ef1add180e9e34]\n",
       "reverse link E7 to E8--><a href=\"psysml:ee3500c3-1d32-470f-b6bb-e11a5c090a2b\" target=\"_top\" title=\"psysml:ee3500c3-1d32-470f-b6bb-e11a5c090a2b\" xlink:actuate=\"onRequest\" xlink:href=\"psysml:ee3500c3-1d32-470f-b6bb-e11a5c090a2b\" xlink:show=\"new\" xlink:title=\"psysml:ee3500c3-1d32-470f-b6bb-e11a5c090a2b\" xlink:type=\"simple\"><path d=\"M212.31,169.78 C228.77,163.75 246.64,157.21 259.89,152.36 \" fill=\"none\" id=\"E7&lt;-E8\" style=\"stroke: #383838; stroke-width: 1.0;\"/><polygon fill=\"#383838\" points=\"200.09,174.25,207.1,175.9409,211.3571,170.1205,204.347,168.4296,200.09,174.25\" style=\"stroke: #383838; stroke-width: 1.0;\"/></a><!--MD5=[f1f3f9f2fc535e6147756cb86a7f2e32]\n",
       "link E8 to E2--><a href=\"psysml:385ac8e9-821f-48a2-9a91-91f0503517ad\" target=\"_top\" title=\"psysml:385ac8e9-821f-48a2-9a91-91f0503517ad\" xlink:actuate=\"onRequest\" xlink:href=\"psysml:385ac8e9-821f-48a2-9a91-91f0503517ad\" xlink:show=\"new\" xlink:title=\"psysml:385ac8e9-821f-48a2-9a91-91f0503517ad\" xlink:type=\"simple\"><path d=\"M302.02,145 C313.18,145 327.65,145 341.79,145 \" fill=\"none\" id=\"E8-&gt;E2\" style=\"stroke: #383838; stroke-width: 1.0;\"/><polygon fill=\"#FFFFFF\" points=\"361.86,145,342.86,152,342.86,138,361.86,145\" style=\"stroke: #383838; stroke-width: 1.0;\"/><ellipse cx=\"337.16\" cy=\"150\" fill=\"#383838\" rx=\"2\" ry=\"2\" style=\"stroke: #383838; stroke-width: 1.0;\"/><ellipse cx=\"337.16\" cy=\"140\" fill=\"#383838\" rx=\"2\" ry=\"2\" style=\"stroke: #383838; stroke-width: 1.0;\"/></a><!--MD5=[e4a10ef82d0e328e31cac39a31e58dda]\n",
       "reverse link E7 to E9--><a href=\"psysml:4dc3c190-fff9-4cfd-9ec6-604d7dd22971\" target=\"_top\" title=\"psysml:4dc3c190-fff9-4cfd-9ec6-604d7dd22971\" xlink:actuate=\"onRequest\" xlink:href=\"psysml:4dc3c190-fff9-4cfd-9ec6-604d7dd22971\" xlink:show=\"new\" xlink:title=\"psysml:4dc3c190-fff9-4cfd-9ec6-604d7dd22971\" xlink:type=\"simple\"><path d=\"M212.79,202 C229.12,207.83 246.77,214.13 259.89,218.82 \" fill=\"none\" id=\"E7&lt;-E9\" style=\"stroke: #383838; stroke-width: 1.0;\"/><polygon fill=\"#383838\" points=\"200.09,197.46,204.3955,203.2447,211.3912,201.4952,207.0857,195.7105,200.09,197.46\" style=\"stroke: #383838; stroke-width: 1.0;\"/></a><!--MD5=[bfc3ddf2e613be37104f658f09af896c]\n",
       "link E9 to E5--><a href=\"psysml:e6457602-7adc-4ee0-a454-eb40d686de5b\" target=\"_top\" title=\"psysml:e6457602-7adc-4ee0-a454-eb40d686de5b\" xlink:actuate=\"onRequest\" xlink:href=\"psysml:e6457602-7adc-4ee0-a454-eb40d686de5b\" xlink:show=\"new\" xlink:title=\"psysml:e6457602-7adc-4ee0-a454-eb40d686de5b\" xlink:type=\"simple\"><path d=\"M302.02,226 C313.18,226 327.65,226 341.79,226 \" fill=\"none\" id=\"E9-&gt;E5\" style=\"stroke: #383838; stroke-width: 1.0;\"/><polygon fill=\"#FFFFFF\" points=\"361.86,226,342.86,233,342.86,219,361.86,226\" style=\"stroke: #383838; stroke-width: 1.0;\"/><ellipse cx=\"337.16\" cy=\"231\" fill=\"#383838\" rx=\"2\" ry=\"2\" style=\"stroke: #383838; stroke-width: 1.0;\"/><ellipse cx=\"337.16\" cy=\"221\" fill=\"#383838\" rx=\"2\" ry=\"2\" style=\"stroke: #383838; stroke-width: 1.0;\"/></a><!--MD5=[a919e0967d6f3de553dc51b9865a1d6d]\n",
       "link E10 to E7--><a href=\"psysml:078c16df-6fb3-4d69-bd0c-6c240437776b\" target=\"_top\" title=\"psysml:078c16df-6fb3-4d69-bd0c-6c240437776b\" xlink:actuate=\"onRequest\" xlink:href=\"psysml:078c16df-6fb3-4d69-bd0c-6c240437776b\" xlink:show=\"new\" xlink:title=\"psysml:078c16df-6fb3-4d69-bd0c-6c240437776b\" xlink:type=\"simple\"><path d=\"M74.02,186 C85.18,186 99.65,186 113.79,186 \" fill=\"none\" id=\"E10-&gt;E7\" style=\"stroke: #383838; stroke-width: 1.0;\"/><polygon fill=\"#FFFFFF\" points=\"133.86,186,114.86,193,114.86,179,133.86,186\" style=\"stroke: #383838; stroke-width: 1.0;\"/><ellipse cx=\"109.16\" cy=\"191\" fill=\"#383838\" rx=\"2\" ry=\"2\" style=\"stroke: #383838; stroke-width: 1.0;\"/><ellipse cx=\"109.16\" cy=\"181\" fill=\"#383838\" rx=\"2\" ry=\"2\" style=\"stroke: #383838; stroke-width: 1.0;\"/></a><!--MD5=[63a431b14de17a938cb465fc2e8a23da]\n",
       "@startuml\r\n",
       "left to right direction\r\n",
       "skinparam monochrome true\r\n",
       "skinparam classbackgroundcolor white\r\n",
       "skinparam shadowing false\r\n",
       "skinparam wrapWidth 300\r\n",
       "hide circle\r\n",
       "\r\n",
       "package \"Q\" as E1  [[psysml:c58eea24-2ccf-44f2-b6e8-e98c7ec17236 ]]  {\r\n",
       "comp def \"F\" as E2  <<(T,blue)part def>> [[psysml:a4e187a3-203e-405d-be98-97d147693ddf ]] {\r\n",
       "}\r\n",
       "comp usage \"a\" as E3  <<(T,blue)part>> [[psysml:6ada620e-a181-4489-89b5-9a75fb715758 ]] {\r\n",
       "}\r\n",
       "comp usage \"f: F\" as E4  <<(T,blue)part>> [[psysml:90a61716-c53d-4f92-beb5-5068bb9fa1a0 ]] {\r\n",
       "}\r\n",
       "comp def \"A\" as E5  <<(T,blue)part def>> [[psysml:282ebd08-29d1-4bc9-b49b-68a749240d69 ]] {\r\n",
       "}\r\n",
       "comp usage \"g\" as E6  <<(T,blue)part>> [[psysml:ba34075d-eebc-4755-94e7-ca84c5a458cd ]] {\r\n",
       "}\r\n",
       "comp def \"B\" as E7  <<(T,blue)part def>> [[psysml:88191fe6-4f94-4991-8591-be7eb93db47e ]] {\r\n",
       "}\r\n",
       "comp usage \"f: F\" as E8  <<(T,blue)part>> [[psysml:ab65aa6d-a5a6-4b47-8167-56da9e982a64 ]] {\r\n",
       "}\r\n",
       "comp usage \"a: A\" as E9  <<(T,blue)part>> [[psysml:624da0d4-2cfd-4aae-83e5-be6cf87688fa ]] {\r\n",
       "}\r\n",
       "comp usage \"b: B\" as E10  <<(T,blue)part>> [[psysml:5c182589-a5f3-41ec-a644-db6857a5c19a ]] {\r\n",
       "}\r\n",
       "E2 *- - E3 [[psysml:f4f335e8-ebb2-4b93-b8a2-3184b124f9b4 ]] \r\n",
       "E4 - -:|> E2 [[psysml:6b545197-59fa-4019-832b-0413d8dfad43 ]] \r\n",
       "E5 *- - E6 [[psysml:42a57766-d710-4931-98ca-f2942df4b5a7 ]] \r\n",
       "E7 *- - E8 [[psysml:ee3500c3-1d32-470f-b6bb-e11a5c090a2b ]] \r\n",
       "E8 - -:|> E2 [[psysml:385ac8e9-821f-48a2-9a91-91f0503517ad ]] \r\n",
       "E7 *- - E9 [[psysml:4dc3c190-fff9-4cfd-9ec6-604d7dd22971 ]] \r\n",
       "E9 - -:|> E5 [[psysml:e6457602-7adc-4ee0-a454-eb40d686de5b ]] \r\n",
       "E10 - -:|> E7 [[psysml:078c16df-6fb3-4d69-bd0c-6c240437776b ]] \r\n",
       "}\r\n",
       "@enduml\r\n",
       "\n",
       "PlantUML version 1.2020.13(Sat Jun 13 12:26:38 UTC 2020)\n",
       "(EPL source distribution)\n",
       "Java Runtime: OpenJDK Runtime Environment\n",
       "JVM: OpenJDK 64-Bit Server VM\n",
       "Default Encoding: UTF-8\n",
       "Language: en\n",
       "Country: null\n",
       "--></g></svg>"
      ]
     },
     "execution_count": 22,
     "metadata": {},
     "output_type": "execute_result"
    }
   ],
   "source": [
    "%viz --style=\"LR\" --view=\"MIXED\" \"Q\""
   ]
  },
  {
   "cell_type": "code",
   "execution_count": 23,
   "id": "ea6debfe",
   "metadata": {
    "execution": {
     "iopub.execute_input": "2021-05-27T06:11:59.389605Z",
     "iopub.status.busy": "2021-05-27T06:11:59.388904Z",
     "iopub.status.idle": "2021-05-27T06:11:59.423744Z",
     "shell.execute_reply": "2021-05-27T06:11:59.422219Z"
    }
   },
   "outputs": [
    {
     "data": {
      "image/svg+xml": [
       "<?xml version=\"1.0\" encoding=\"UTF-8\" standalone=\"no\"?><svg xmlns=\"http://www.w3.org/2000/svg\" xmlns:xlink=\"http://www.w3.org/1999/xlink\" contentScriptType=\"application/ecmascript\" contentStyleType=\"text/css\" height=\"539px\" preserveAspectRatio=\"none\" style=\"width:266px;height:539px;\" version=\"1.1\" viewBox=\"0 0 266 539\" width=\"266px\" zoomAndPan=\"magnify\"><defs><filter height=\"300%\" id=\"fxy9ap98ly5x8\" width=\"300%\" x=\"-1\" y=\"-1\"><feGaussianBlur result=\"blurOut\" stdDeviation=\"2.0\"/><feColorMatrix in=\"blurOut\" result=\"blurOut2\" type=\"matrix\" values=\"0 0 0 0 0 0 0 0 0 0 0 0 0 0 0 0 0 0 .4 0\"/><feOffset dx=\"4.0\" dy=\"4.0\" in=\"blurOut2\" result=\"blurOut3\"/><feBlend in=\"SourceGraphic\" in2=\"blurOut3\" mode=\"normal\"/></filter></defs><g><!--MD5=[fbc87193dbaf4d95561dea2c320d4a47]\n",
       "cluster E1--><a href=\"psysml:c58eea24-2ccf-44f2-b6e8-e98c7ec17236\" target=\"_top\" title=\"psysml:c58eea24-2ccf-44f2-b6e8-e98c7ec17236\" xlink:actuate=\"onRequest\" xlink:href=\"psysml:c58eea24-2ccf-44f2-b6e8-e98c7ec17236\" xlink:show=\"new\" xlink:title=\"psysml:c58eea24-2ccf-44f2-b6e8-e98c7ec17236\" xlink:type=\"simple\"><polygon fill=\"#FFFFFF\" filter=\"url(#fxy9ap98ly5x8)\" points=\"16,6,34,6,41,28.2969,244,28.2969,244,527,16,527,16,6\" style=\"stroke: #000000; stroke-width: 1.5;\"/><line style=\"stroke: #000000; stroke-width: 1.5;\" x1=\"16\" x2=\"41\" y1=\"28.2969\" y2=\"28.2969\"/><text fill=\"#000000\" font-family=\"sans-serif\" font-size=\"14\" font-weight=\"bold\" lengthAdjust=\"spacingAndGlyphs\" textLength=\"12\" x=\"20\" y=\"20.9951\">Q</text></a><!--MD5=[b4997ac47864f28c2f74865a473b2911]\n",
       "class E2--><a href=\"psysml:a4e187a3-203e-405d-be98-97d147693ddf\" target=\"_top\" title=\"psysml:a4e187a3-203e-405d-be98-97d147693ddf\" xlink:actuate=\"onRequest\" xlink:href=\"psysml:a4e187a3-203e-405d-be98-97d147693ddf\" xlink:show=\"new\" xlink:title=\"psysml:a4e187a3-203e-405d-be98-97d147693ddf\" xlink:type=\"simple\"><rect fill=\"#FEFECE\" filter=\"url(#fxy9ap98ly5x8)\" height=\"45.9375\" id=\"E2\" style=\"stroke: #A80036; stroke-width: 1.5;\" width=\"66\" x=\"147\" y=\"359\"/><text fill=\"#000000\" font-family=\"sans-serif\" font-size=\"12\" font-style=\"italic\" lengthAdjust=\"spacingAndGlyphs\" textLength=\"64\" x=\"148\" y=\"375.1387\">«part def»</text><text fill=\"#000000\" font-family=\"sans-serif\" font-size=\"12\" lengthAdjust=\"spacingAndGlyphs\" textLength=\"7\" x=\"176.5\" y=\"389.1074\">F</text><line style=\"stroke: #A80036; stroke-width: 1.5;\" x1=\"148\" x2=\"212\" y1=\"396.9375\" y2=\"396.9375\"/></a><!--MD5=[09b614a08d8cba4a07c9adeb5e0fee81]\n",
       "class E3--><a href=\"psysml:6ada620e-a181-4489-89b5-9a75fb715758\" target=\"_top\" title=\"psysml:6ada620e-a181-4489-89b5-9a75fb715758\" xlink:actuate=\"onRequest\" xlink:href=\"psysml:6ada620e-a181-4489-89b5-9a75fb715758\" xlink:show=\"new\" xlink:title=\"psysml:6ada620e-a181-4489-89b5-9a75fb715758\" xlink:type=\"simple\"><rect fill=\"#FEFECE\" filter=\"url(#fxy9ap98ly5x8)\" height=\"45.9375\" id=\"E3\" rx=\"10\" ry=\"10\" style=\"stroke: #A80036; stroke-width: 1.5;\" width=\"42\" x=\"159\" y=\"465\"/><text fill=\"#000000\" font-family=\"sans-serif\" font-size=\"12\" font-style=\"italic\" lengthAdjust=\"spacingAndGlyphs\" textLength=\"40\" x=\"160\" y=\"481.1387\">«part»</text><text fill=\"#000000\" font-family=\"sans-serif\" font-size=\"12\" lengthAdjust=\"spacingAndGlyphs\" textLength=\"8\" x=\"176\" y=\"495.1074\">a</text><line style=\"stroke: #A80036; stroke-width: 1.5;\" x1=\"160\" x2=\"200\" y1=\"502.9375\" y2=\"502.9375\"/></a><!--MD5=[ebbe1d658d1005bcc118a6aa81145e00]\n",
       "class E4--><a href=\"psysml:90a61716-c53d-4f92-beb5-5068bb9fa1a0\" target=\"_top\" title=\"psysml:90a61716-c53d-4f92-beb5-5068bb9fa1a0\" xlink:actuate=\"onRequest\" xlink:href=\"psysml:90a61716-c53d-4f92-beb5-5068bb9fa1a0\" xlink:show=\"new\" xlink:title=\"psysml:90a61716-c53d-4f92-beb5-5068bb9fa1a0\" xlink:type=\"simple\"><rect fill=\"#FEFECE\" filter=\"url(#fxy9ap98ly5x8)\" height=\"45.9375\" id=\"E4\" rx=\"10\" ry=\"10\" style=\"stroke: #A80036; stroke-width: 1.5;\" width=\"42\" x=\"186\" y=\"253\"/><text fill=\"#000000\" font-family=\"sans-serif\" font-size=\"12\" font-style=\"italic\" lengthAdjust=\"spacingAndGlyphs\" textLength=\"40\" x=\"187\" y=\"269.1387\">«part»</text><text fill=\"#000000\" font-family=\"sans-serif\" font-size=\"12\" lengthAdjust=\"spacingAndGlyphs\" textLength=\"19\" x=\"197.5\" y=\"283.1074\">f: F</text><line style=\"stroke: #A80036; stroke-width: 1.5;\" x1=\"187\" x2=\"227\" y1=\"290.9375\" y2=\"290.9375\"/></a><!--MD5=[270fce915f116d4de14055a7c1d9a0f3]\n",
       "class E5--><a href=\"psysml:282ebd08-29d1-4bc9-b49b-68a749240d69\" target=\"_top\" title=\"psysml:282ebd08-29d1-4bc9-b49b-68a749240d69\" xlink:actuate=\"onRequest\" xlink:href=\"psysml:282ebd08-29d1-4bc9-b49b-68a749240d69\" xlink:show=\"new\" xlink:title=\"psysml:282ebd08-29d1-4bc9-b49b-68a749240d69\" xlink:type=\"simple\"><rect fill=\"#FEFECE\" filter=\"url(#fxy9ap98ly5x8)\" height=\"45.9375\" id=\"E5\" style=\"stroke: #A80036; stroke-width: 1.5;\" width=\"66\" x=\"32\" y=\"359\"/><text fill=\"#000000\" font-family=\"sans-serif\" font-size=\"12\" font-style=\"italic\" lengthAdjust=\"spacingAndGlyphs\" textLength=\"64\" x=\"33\" y=\"375.1387\">«part def»</text><text fill=\"#000000\" font-family=\"sans-serif\" font-size=\"12\" lengthAdjust=\"spacingAndGlyphs\" textLength=\"8\" x=\"61\" y=\"389.1074\">A</text><line style=\"stroke: #A80036; stroke-width: 1.5;\" x1=\"33\" x2=\"97\" y1=\"396.9375\" y2=\"396.9375\"/></a><!--MD5=[60a26617385b1d2d0262a64233df1f8d]\n",
       "class E6--><a href=\"psysml:ba34075d-eebc-4755-94e7-ca84c5a458cd\" target=\"_top\" title=\"psysml:ba34075d-eebc-4755-94e7-ca84c5a458cd\" xlink:actuate=\"onRequest\" xlink:href=\"psysml:ba34075d-eebc-4755-94e7-ca84c5a458cd\" xlink:show=\"new\" xlink:title=\"psysml:ba34075d-eebc-4755-94e7-ca84c5a458cd\" xlink:type=\"simple\"><rect fill=\"#FEFECE\" filter=\"url(#fxy9ap98ly5x8)\" height=\"45.9375\" id=\"E6\" rx=\"10\" ry=\"10\" style=\"stroke: #A80036; stroke-width: 1.5;\" width=\"42\" x=\"44\" y=\"465\"/><text fill=\"#000000\" font-family=\"sans-serif\" font-size=\"12\" font-style=\"italic\" lengthAdjust=\"spacingAndGlyphs\" textLength=\"40\" x=\"45\" y=\"481.1387\">«part»</text><text fill=\"#000000\" font-family=\"sans-serif\" font-size=\"12\" lengthAdjust=\"spacingAndGlyphs\" textLength=\"8\" x=\"61\" y=\"495.1074\">g</text><line style=\"stroke: #A80036; stroke-width: 1.5;\" x1=\"45\" x2=\"85\" y1=\"502.9375\" y2=\"502.9375\"/></a><!--MD5=[2156ba9850f5573cc1fc38a6a4b2f02b]\n",
       "class E7--><a href=\"psysml:88191fe6-4f94-4991-8591-be7eb93db47e\" target=\"_top\" title=\"psysml:88191fe6-4f94-4991-8591-be7eb93db47e\" xlink:actuate=\"onRequest\" xlink:href=\"psysml:88191fe6-4f94-4991-8591-be7eb93db47e\" xlink:show=\"new\" xlink:title=\"psysml:88191fe6-4f94-4991-8591-be7eb93db47e\" xlink:type=\"simple\"><rect fill=\"#FEFECE\" filter=\"url(#fxy9ap98ly5x8)\" height=\"45.9375\" id=\"E7\" style=\"stroke: #A80036; stroke-width: 1.5;\" width=\"66\" x=\"64\" y=\"147\"/><text fill=\"#000000\" font-family=\"sans-serif\" font-size=\"12\" font-style=\"italic\" lengthAdjust=\"spacingAndGlyphs\" textLength=\"64\" x=\"65\" y=\"163.1387\">«part def»</text><text fill=\"#000000\" font-family=\"sans-serif\" font-size=\"12\" lengthAdjust=\"spacingAndGlyphs\" textLength=\"8\" x=\"93\" y=\"177.1074\">B</text><line style=\"stroke: #A80036; stroke-width: 1.5;\" x1=\"65\" x2=\"129\" y1=\"184.9375\" y2=\"184.9375\"/></a><!--MD5=[b9389687b975829384b498ac4b7476b2]\n",
       "class E8--><a href=\"psysml:ab65aa6d-a5a6-4b47-8167-56da9e982a64\" target=\"_top\" title=\"psysml:ab65aa6d-a5a6-4b47-8167-56da9e982a64\" xlink:actuate=\"onRequest\" xlink:href=\"psysml:ab65aa6d-a5a6-4b47-8167-56da9e982a64\" xlink:show=\"new\" xlink:title=\"psysml:ab65aa6d-a5a6-4b47-8167-56da9e982a64\" xlink:type=\"simple\"><rect fill=\"#FEFECE\" filter=\"url(#fxy9ap98ly5x8)\" height=\"45.9375\" id=\"E8\" rx=\"10\" ry=\"10\" style=\"stroke: #A80036; stroke-width: 1.5;\" width=\"42\" x=\"109\" y=\"253\"/><text fill=\"#000000\" font-family=\"sans-serif\" font-size=\"12\" font-style=\"italic\" lengthAdjust=\"spacingAndGlyphs\" textLength=\"40\" x=\"110\" y=\"269.1387\">«part»</text><text fill=\"#000000\" font-family=\"sans-serif\" font-size=\"12\" lengthAdjust=\"spacingAndGlyphs\" textLength=\"19\" x=\"120.5\" y=\"283.1074\">f: F</text><line style=\"stroke: #A80036; stroke-width: 1.5;\" x1=\"110\" x2=\"150\" y1=\"290.9375\" y2=\"290.9375\"/></a><!--MD5=[fd4143e9d270a159db93a4ea2a975926]\n",
       "class E9--><a href=\"psysml:624da0d4-2cfd-4aae-83e5-be6cf87688fa\" target=\"_top\" title=\"psysml:624da0d4-2cfd-4aae-83e5-be6cf87688fa\" xlink:actuate=\"onRequest\" xlink:href=\"psysml:624da0d4-2cfd-4aae-83e5-be6cf87688fa\" xlink:show=\"new\" xlink:title=\"psysml:624da0d4-2cfd-4aae-83e5-be6cf87688fa\" xlink:type=\"simple\"><rect fill=\"#FEFECE\" filter=\"url(#fxy9ap98ly5x8)\" height=\"45.9375\" id=\"E9\" rx=\"10\" ry=\"10\" style=\"stroke: #A80036; stroke-width: 1.5;\" width=\"42\" x=\"32\" y=\"253\"/><text fill=\"#000000\" font-family=\"sans-serif\" font-size=\"12\" font-style=\"italic\" lengthAdjust=\"spacingAndGlyphs\" textLength=\"40\" x=\"33\" y=\"269.1387\">«part»</text><text fill=\"#000000\" font-family=\"sans-serif\" font-size=\"12\" lengthAdjust=\"spacingAndGlyphs\" textLength=\"24\" x=\"41\" y=\"283.1074\">a: A</text><line style=\"stroke: #A80036; stroke-width: 1.5;\" x1=\"33\" x2=\"73\" y1=\"290.9375\" y2=\"290.9375\"/></a><!--MD5=[96f4274e9e20536e775497830990834d]\n",
       "class E10--><a href=\"psysml:5c182589-a5f3-41ec-a644-db6857a5c19a\" target=\"_top\" title=\"psysml:5c182589-a5f3-41ec-a644-db6857a5c19a\" xlink:actuate=\"onRequest\" xlink:href=\"psysml:5c182589-a5f3-41ec-a644-db6857a5c19a\" xlink:show=\"new\" xlink:title=\"psysml:5c182589-a5f3-41ec-a644-db6857a5c19a\" xlink:type=\"simple\"><rect fill=\"#FEFECE\" filter=\"url(#fxy9ap98ly5x8)\" height=\"45.9375\" id=\"E10\" rx=\"10\" ry=\"10\" style=\"stroke: #A80036; stroke-width: 1.5;\" width=\"42\" x=\"76\" y=\"41\"/><text fill=\"#000000\" font-family=\"sans-serif\" font-size=\"12\" font-style=\"italic\" lengthAdjust=\"spacingAndGlyphs\" textLength=\"40\" x=\"77\" y=\"57.1387\">«part»</text><text fill=\"#000000\" font-family=\"sans-serif\" font-size=\"12\" lengthAdjust=\"spacingAndGlyphs\" textLength=\"24\" x=\"85\" y=\"71.1074\">b: B</text><line style=\"stroke: #A80036; stroke-width: 1.5;\" x1=\"77\" x2=\"117\" y1=\"78.9375\" y2=\"78.9375\"/></a><!--MD5=[209b3feb70ccb6233bfe1053d122c12c]\n",
       "reverse link E2 to E3--><a href=\"psysml:f4f335e8-ebb2-4b93-b8a2-3184b124f9b4\" target=\"_top\" title=\"psysml:f4f335e8-ebb2-4b93-b8a2-3184b124f9b4\" xlink:actuate=\"onRequest\" xlink:href=\"psysml:f4f335e8-ebb2-4b93-b8a2-3184b124f9b4\" xlink:show=\"new\" xlink:title=\"psysml:f4f335e8-ebb2-4b93-b8a2-3184b124f9b4\" xlink:type=\"simple\"><path d=\"M180,418.44 C180,433.87 180,451.47 180,464.98 \" fill=\"none\" id=\"E2&lt;-E3\" style=\"stroke: #A80036; stroke-width: 1.0;\"/><polygon fill=\"#A80036\" points=\"180,405.06,176,411.06,180,417.06,184,411.06,180,405.06\" style=\"stroke: #A80036; stroke-width: 1.0;\"/></a><!--MD5=[185131fc0dcab0a4505a2ebe144e961b]\n",
       "link E4 to E2--><a href=\"psysml:6b545197-59fa-4019-832b-0413d8dfad43\" target=\"_top\" title=\"psysml:6b545197-59fa-4019-832b-0413d8dfad43\" xlink:actuate=\"onRequest\" xlink:href=\"psysml:6b545197-59fa-4019-832b-0413d8dfad43\" xlink:show=\"new\" xlink:title=\"psysml:6b545197-59fa-4019-832b-0413d8dfad43\" xlink:type=\"simple\"><path d=\"M201.27,299.06 C198.23,310.78 194.39,325.57 190.81,339.36 \" fill=\"none\" id=\"E4-&gt;E2\" style=\"stroke: #A80036; stroke-width: 1.0;\"/><polygon fill=\"#FFFFFF\" points=\"185.72,358.98,183.7221,338.8303,197.2724,342.3504,185.72,358.98\" style=\"stroke: #A80036; stroke-width: 1.0;\"/><ellipse cx=\"187.091\" cy=\"333.8163\" fill=\"#A80036\" rx=\"2\" ry=\"2\" style=\"stroke: #A80036; stroke-width: 1.0;\"/><ellipse cx=\"196.7698\" cy=\"336.3307\" fill=\"#A80036\" rx=\"2\" ry=\"2\" style=\"stroke: #A80036; stroke-width: 1.0;\"/></a><!--MD5=[85d356282659285ab4b2cfe2f634dd2b]\n",
       "reverse link E5 to E6--><a href=\"psysml:42a57766-d710-4931-98ca-f2942df4b5a7\" target=\"_top\" title=\"psysml:42a57766-d710-4931-98ca-f2942df4b5a7\" xlink:actuate=\"onRequest\" xlink:href=\"psysml:42a57766-d710-4931-98ca-f2942df4b5a7\" xlink:show=\"new\" xlink:title=\"psysml:42a57766-d710-4931-98ca-f2942df4b5a7\" xlink:type=\"simple\"><path d=\"M65,418.44 C65,433.87 65,451.47 65,464.98 \" fill=\"none\" id=\"E5&lt;-E6\" style=\"stroke: #A80036; stroke-width: 1.0;\"/><polygon fill=\"#A80036\" points=\"65,405.06,61,411.06,65,417.06,69,411.06,65,405.06\" style=\"stroke: #A80036; stroke-width: 1.0;\"/></a><!--MD5=[dc164f5e8a733ab456ef1add180e9e34]\n",
       "reverse link E7 to E8--><a href=\"psysml:ee3500c3-1d32-470f-b6bb-e11a5c090a2b\" target=\"_top\" title=\"psysml:ee3500c3-1d32-470f-b6bb-e11a5c090a2b\" xlink:actuate=\"onRequest\" xlink:href=\"psysml:ee3500c3-1d32-470f-b6bb-e11a5c090a2b\" xlink:show=\"new\" xlink:title=\"psysml:ee3500c3-1d32-470f-b6bb-e11a5c090a2b\" xlink:type=\"simple\"><path d=\"M107.95,205.49 C112.91,221.15 118.64,239.19 123.01,252.98 \" fill=\"none\" id=\"E7&lt;-E8\" style=\"stroke: #A80036; stroke-width: 1.0;\"/><polygon fill=\"#A80036\" points=\"104,193.06,101.9989,199.9879,107.6243,204.4996,109.6253,197.5717,104,193.06\" style=\"stroke: #A80036; stroke-width: 1.0;\"/></a><!--MD5=[f1f3f9f2fc535e6147756cb86a7f2e32]\n",
       "link E8 to E2--><a href=\"psysml:385ac8e9-821f-48a2-9a91-91f0503517ad\" target=\"_top\" title=\"psysml:385ac8e9-821f-48a2-9a91-91f0503517ad\" xlink:actuate=\"onRequest\" xlink:href=\"psysml:385ac8e9-821f-48a2-9a91-91f0503517ad\" xlink:show=\"new\" xlink:title=\"psysml:385ac8e9-821f-48a2-9a91-91f0503517ad\" xlink:type=\"simple\"><path d=\"M140.6,299.06 C146.44,311.19 153.86,326.62 160.68,340.82 \" fill=\"none\" id=\"E8-&gt;E2\" style=\"stroke: #A80036; stroke-width: 1.0;\"/><polygon fill=\"#FFFFFF\" points=\"169.41,358.98,154.8709,344.8869,167.4894,338.8228,169.41,358.98\" style=\"stroke: #A80036; stroke-width: 1.0;\"/><ellipse cx=\"154.2046\" cy=\"338.8831\" fill=\"#A80036\" rx=\"2\" ry=\"2\" style=\"stroke: #A80036; stroke-width: 1.0;\"/><ellipse cx=\"163.2178\" cy=\"334.5516\" fill=\"#A80036\" rx=\"2\" ry=\"2\" style=\"stroke: #A80036; stroke-width: 1.0;\"/></a><!--MD5=[e4a10ef82d0e328e31cac39a31e58dda]\n",
       "reverse link E7 to E9--><a href=\"psysml:4dc3c190-fff9-4cfd-9ec6-604d7dd22971\" target=\"_top\" title=\"psysml:4dc3c190-fff9-4cfd-9ec6-604d7dd22971\" xlink:actuate=\"onRequest\" xlink:href=\"psysml:4dc3c190-fff9-4cfd-9ec6-604d7dd22971\" xlink:show=\"new\" xlink:title=\"psysml:4dc3c190-fff9-4cfd-9ec6-604d7dd22971\" xlink:type=\"simple\"><path d=\"M82.41,205.49 C75.78,221.15 68.15,239.19 62.32,252.98 \" fill=\"none\" id=\"E7&lt;-E9\" style=\"stroke: #A80036; stroke-width: 1.0;\"/><polygon fill=\"#A80036\" points=\"87.67,193.06,81.6505,197.0305,83.0003,204.1142,89.0199,200.1436,87.67,193.06\" style=\"stroke: #A80036; stroke-width: 1.0;\"/></a><!--MD5=[bfc3ddf2e613be37104f658f09af896c]\n",
       "link E9 to E5--><a href=\"psysml:e6457602-7adc-4ee0-a454-eb40d686de5b\" target=\"_top\" title=\"psysml:e6457602-7adc-4ee0-a454-eb40d686de5b\" xlink:actuate=\"onRequest\" xlink:href=\"psysml:e6457602-7adc-4ee0-a454-eb40d686de5b\" xlink:show=\"new\" xlink:title=\"psysml:e6457602-7adc-4ee0-a454-eb40d686de5b\" xlink:type=\"simple\"><path d=\"M55.54,299.06 C56.88,310.64 58.56,325.23 60.14,338.87 \" fill=\"none\" id=\"E9-&gt;E5\" style=\"stroke: #A80036; stroke-width: 1.0;\"/><polygon fill=\"#FFFFFF\" points=\"62.46,358.98,53.3347,340.9044,67.243,339.3046,62.46,358.98\" style=\"stroke: #A80036; stroke-width: 1.0;\"/><ellipse cx=\"54.6702\" cy=\"335.0132\" fill=\"#A80036\" rx=\"2\" ry=\"2\" style=\"stroke: #A80036; stroke-width: 1.0;\"/><ellipse cx=\"64.6047\" cy=\"333.8704\" fill=\"#A80036\" rx=\"2\" ry=\"2\" style=\"stroke: #A80036; stroke-width: 1.0;\"/></a><!--MD5=[a919e0967d6f3de553dc51b9865a1d6d]\n",
       "link E10 to E7--><a href=\"psysml:078c16df-6fb3-4d69-bd0c-6c240437776b\" target=\"_top\" title=\"psysml:078c16df-6fb3-4d69-bd0c-6c240437776b\" xlink:actuate=\"onRequest\" xlink:href=\"psysml:078c16df-6fb3-4d69-bd0c-6c240437776b\" xlink:show=\"new\" xlink:title=\"psysml:078c16df-6fb3-4d69-bd0c-6c240437776b\" xlink:type=\"simple\"><path d=\"M97,87.06 C97,98.64 97,113.23 97,126.87 \" fill=\"none\" id=\"E10-&gt;E7\" style=\"stroke: #A80036; stroke-width: 1.0;\"/><polygon fill=\"#FFFFFF\" points=\"97,146.98,90,127.98,104,127.98,97,146.98\" style=\"stroke: #A80036; stroke-width: 1.0;\"/><ellipse cx=\"92\" cy=\"122.28\" fill=\"#A80036\" rx=\"2\" ry=\"2\" style=\"stroke: #A80036; stroke-width: 1.0;\"/><ellipse cx=\"102\" cy=\"122.28\" fill=\"#A80036\" rx=\"2\" ry=\"2\" style=\"stroke: #A80036; stroke-width: 1.0;\"/></a><!--MD5=[6a3e5ffd18c3cd00767e754eda6942e8]\n",
       "@startuml\r\n",
       "skinparam wrapWidth 300\r\n",
       "hide circle\r\n",
       "\r\n",
       "package \"Q\" as E1  [[psysml:c58eea24-2ccf-44f2-b6e8-e98c7ec17236 ]]  {\r\n",
       "comp def \"F\" as E2  <<(T,blue)part def>> [[psysml:a4e187a3-203e-405d-be98-97d147693ddf ]] {\r\n",
       "}\r\n",
       "comp usage \"a\" as E3  <<(T,blue)part>> [[psysml:6ada620e-a181-4489-89b5-9a75fb715758 ]] {\r\n",
       "}\r\n",
       "comp usage \"f: F\" as E4  <<(T,blue)part>> [[psysml:90a61716-c53d-4f92-beb5-5068bb9fa1a0 ]] {\r\n",
       "}\r\n",
       "comp def \"A\" as E5  <<(T,blue)part def>> [[psysml:282ebd08-29d1-4bc9-b49b-68a749240d69 ]] {\r\n",
       "}\r\n",
       "comp usage \"g\" as E6  <<(T,blue)part>> [[psysml:ba34075d-eebc-4755-94e7-ca84c5a458cd ]] {\r\n",
       "}\r\n",
       "comp def \"B\" as E7  <<(T,blue)part def>> [[psysml:88191fe6-4f94-4991-8591-be7eb93db47e ]] {\r\n",
       "}\r\n",
       "comp usage \"f: F\" as E8  <<(T,blue)part>> [[psysml:ab65aa6d-a5a6-4b47-8167-56da9e982a64 ]] {\r\n",
       "}\r\n",
       "comp usage \"a: A\" as E9  <<(T,blue)part>> [[psysml:624da0d4-2cfd-4aae-83e5-be6cf87688fa ]] {\r\n",
       "}\r\n",
       "comp usage \"b: B\" as E10  <<(T,blue)part>> [[psysml:5c182589-a5f3-41ec-a644-db6857a5c19a ]] {\r\n",
       "}\r\n",
       "E2 *- - E3 [[psysml:f4f335e8-ebb2-4b93-b8a2-3184b124f9b4 ]] \r\n",
       "E4 - -:|> E2 [[psysml:6b545197-59fa-4019-832b-0413d8dfad43 ]] \r\n",
       "E5 *- - E6 [[psysml:42a57766-d710-4931-98ca-f2942df4b5a7 ]] \r\n",
       "E7 *- - E8 [[psysml:ee3500c3-1d32-470f-b6bb-e11a5c090a2b ]] \r\n",
       "E8 - -:|> E2 [[psysml:385ac8e9-821f-48a2-9a91-91f0503517ad ]] \r\n",
       "E7 *- - E9 [[psysml:4dc3c190-fff9-4cfd-9ec6-604d7dd22971 ]] \r\n",
       "E9 - -:|> E5 [[psysml:e6457602-7adc-4ee0-a454-eb40d686de5b ]] \r\n",
       "E10 - -:|> E7 [[psysml:078c16df-6fb3-4d69-bd0c-6c240437776b ]] \r\n",
       "}\r\n",
       "@enduml\r\n",
       "\n",
       "PlantUML version 1.2020.13(Sat Jun 13 12:26:38 UTC 2020)\n",
       "(EPL source distribution)\n",
       "Java Runtime: OpenJDK Runtime Environment\n",
       "JVM: OpenJDK 64-Bit Server VM\n",
       "Default Encoding: UTF-8\n",
       "Language: en\n",
       "Country: null\n",
       "--></g></svg>"
      ]
     },
     "execution_count": 23,
     "metadata": {},
     "output_type": "execute_result"
    }
   ],
   "source": [
    "%viz --style=\"STDCOLOR\" --view=\"Default\" \"Q\""
   ]
  },
  {
   "cell_type": "code",
   "execution_count": 24,
   "id": "a9928c97",
   "metadata": {
    "execution": {
     "iopub.execute_input": "2021-05-27T06:11:59.474882Z",
     "iopub.status.busy": "2021-05-27T06:11:59.473770Z",
     "iopub.status.idle": "2021-05-27T06:11:59.507974Z",
     "shell.execute_reply": "2021-05-27T06:11:59.506633Z"
    }
   },
   "outputs": [
    {
     "data": {
      "image/svg+xml": [
       "<?xml version=\"1.0\" encoding=\"UTF-8\" standalone=\"no\"?><svg xmlns=\"http://www.w3.org/2000/svg\" xmlns:xlink=\"http://www.w3.org/1999/xlink\" contentScriptType=\"application/ecmascript\" contentStyleType=\"text/css\" height=\"539px\" preserveAspectRatio=\"none\" style=\"width:266px;height:539px;\" version=\"1.1\" viewBox=\"0 0 266 539\" width=\"266px\" zoomAndPan=\"magnify\"><defs><filter height=\"300%\" id=\"fxy9ap98ly5x8\" width=\"300%\" x=\"-1\" y=\"-1\"><feGaussianBlur result=\"blurOut\" stdDeviation=\"2.0\"/><feColorMatrix in=\"blurOut\" result=\"blurOut2\" type=\"matrix\" values=\"0 0 0 0 0 0 0 0 0 0 0 0 0 0 0 0 0 0 .4 0\"/><feOffset dx=\"4.0\" dy=\"4.0\" in=\"blurOut2\" result=\"blurOut3\"/><feBlend in=\"SourceGraphic\" in2=\"blurOut3\" mode=\"normal\"/></filter></defs><g><!--MD5=[fbc87193dbaf4d95561dea2c320d4a47]\n",
       "cluster E1--><a href=\"psysml:c58eea24-2ccf-44f2-b6e8-e98c7ec17236\" target=\"_top\" title=\"psysml:c58eea24-2ccf-44f2-b6e8-e98c7ec17236\" xlink:actuate=\"onRequest\" xlink:href=\"psysml:c58eea24-2ccf-44f2-b6e8-e98c7ec17236\" xlink:show=\"new\" xlink:title=\"psysml:c58eea24-2ccf-44f2-b6e8-e98c7ec17236\" xlink:type=\"simple\"><polygon fill=\"#FFFFFF\" filter=\"url(#fxy9ap98ly5x8)\" points=\"16,6,34,6,41,28.2969,244,28.2969,244,527,16,527,16,6\" style=\"stroke: #000000; stroke-width: 1.5;\"/><line style=\"stroke: #000000; stroke-width: 1.5;\" x1=\"16\" x2=\"41\" y1=\"28.2969\" y2=\"28.2969\"/><text fill=\"#000000\" font-family=\"sans-serif\" font-size=\"14\" font-weight=\"bold\" lengthAdjust=\"spacingAndGlyphs\" textLength=\"12\" x=\"20\" y=\"20.9951\">Q</text></a><!--MD5=[b4997ac47864f28c2f74865a473b2911]\n",
       "class E2--><a href=\"psysml:a4e187a3-203e-405d-be98-97d147693ddf\" target=\"_top\" title=\"psysml:a4e187a3-203e-405d-be98-97d147693ddf\" xlink:actuate=\"onRequest\" xlink:href=\"psysml:a4e187a3-203e-405d-be98-97d147693ddf\" xlink:show=\"new\" xlink:title=\"psysml:a4e187a3-203e-405d-be98-97d147693ddf\" xlink:type=\"simple\"><rect fill=\"#FEFECE\" filter=\"url(#fxy9ap98ly5x8)\" height=\"45.9375\" id=\"E2\" style=\"stroke: #A80036; stroke-width: 1.5;\" width=\"66\" x=\"147\" y=\"359\"/><text fill=\"#000000\" font-family=\"sans-serif\" font-size=\"12\" font-style=\"italic\" lengthAdjust=\"spacingAndGlyphs\" textLength=\"64\" x=\"148\" y=\"375.1387\">«part def»</text><text fill=\"#000000\" font-family=\"sans-serif\" font-size=\"12\" lengthAdjust=\"spacingAndGlyphs\" textLength=\"7\" x=\"176.5\" y=\"389.1074\">F</text><line style=\"stroke: #A80036; stroke-width: 1.5;\" x1=\"148\" x2=\"212\" y1=\"396.9375\" y2=\"396.9375\"/></a><!--MD5=[09b614a08d8cba4a07c9adeb5e0fee81]\n",
       "class E3--><a href=\"psysml:6ada620e-a181-4489-89b5-9a75fb715758\" target=\"_top\" title=\"psysml:6ada620e-a181-4489-89b5-9a75fb715758\" xlink:actuate=\"onRequest\" xlink:href=\"psysml:6ada620e-a181-4489-89b5-9a75fb715758\" xlink:show=\"new\" xlink:title=\"psysml:6ada620e-a181-4489-89b5-9a75fb715758\" xlink:type=\"simple\"><rect fill=\"#FEFECE\" filter=\"url(#fxy9ap98ly5x8)\" height=\"45.9375\" id=\"E3\" rx=\"10\" ry=\"10\" style=\"stroke: #A80036; stroke-width: 1.5;\" width=\"42\" x=\"159\" y=\"465\"/><text fill=\"#000000\" font-family=\"sans-serif\" font-size=\"12\" font-style=\"italic\" lengthAdjust=\"spacingAndGlyphs\" textLength=\"40\" x=\"160\" y=\"481.1387\">«part»</text><text fill=\"#000000\" font-family=\"sans-serif\" font-size=\"12\" lengthAdjust=\"spacingAndGlyphs\" textLength=\"8\" x=\"176\" y=\"495.1074\">a</text><line style=\"stroke: #A80036; stroke-width: 1.5;\" x1=\"160\" x2=\"200\" y1=\"502.9375\" y2=\"502.9375\"/></a><!--MD5=[ebbe1d658d1005bcc118a6aa81145e00]\n",
       "class E4--><a href=\"psysml:90a61716-c53d-4f92-beb5-5068bb9fa1a0\" target=\"_top\" title=\"psysml:90a61716-c53d-4f92-beb5-5068bb9fa1a0\" xlink:actuate=\"onRequest\" xlink:href=\"psysml:90a61716-c53d-4f92-beb5-5068bb9fa1a0\" xlink:show=\"new\" xlink:title=\"psysml:90a61716-c53d-4f92-beb5-5068bb9fa1a0\" xlink:type=\"simple\"><rect fill=\"#FEFECE\" filter=\"url(#fxy9ap98ly5x8)\" height=\"45.9375\" id=\"E4\" rx=\"10\" ry=\"10\" style=\"stroke: #A80036; stroke-width: 1.5;\" width=\"42\" x=\"186\" y=\"253\"/><text fill=\"#000000\" font-family=\"sans-serif\" font-size=\"12\" font-style=\"italic\" lengthAdjust=\"spacingAndGlyphs\" textLength=\"40\" x=\"187\" y=\"269.1387\">«part»</text><text fill=\"#000000\" font-family=\"sans-serif\" font-size=\"12\" lengthAdjust=\"spacingAndGlyphs\" textLength=\"19\" x=\"197.5\" y=\"283.1074\">f: F</text><line style=\"stroke: #A80036; stroke-width: 1.5;\" x1=\"187\" x2=\"227\" y1=\"290.9375\" y2=\"290.9375\"/></a><!--MD5=[270fce915f116d4de14055a7c1d9a0f3]\n",
       "class E5--><a href=\"psysml:282ebd08-29d1-4bc9-b49b-68a749240d69\" target=\"_top\" title=\"psysml:282ebd08-29d1-4bc9-b49b-68a749240d69\" xlink:actuate=\"onRequest\" xlink:href=\"psysml:282ebd08-29d1-4bc9-b49b-68a749240d69\" xlink:show=\"new\" xlink:title=\"psysml:282ebd08-29d1-4bc9-b49b-68a749240d69\" xlink:type=\"simple\"><rect fill=\"#FEFECE\" filter=\"url(#fxy9ap98ly5x8)\" height=\"45.9375\" id=\"E5\" style=\"stroke: #A80036; stroke-width: 1.5;\" width=\"66\" x=\"32\" y=\"359\"/><text fill=\"#000000\" font-family=\"sans-serif\" font-size=\"12\" font-style=\"italic\" lengthAdjust=\"spacingAndGlyphs\" textLength=\"64\" x=\"33\" y=\"375.1387\">«part def»</text><text fill=\"#000000\" font-family=\"sans-serif\" font-size=\"12\" lengthAdjust=\"spacingAndGlyphs\" textLength=\"8\" x=\"61\" y=\"389.1074\">A</text><line style=\"stroke: #A80036; stroke-width: 1.5;\" x1=\"33\" x2=\"97\" y1=\"396.9375\" y2=\"396.9375\"/></a><!--MD5=[60a26617385b1d2d0262a64233df1f8d]\n",
       "class E6--><a href=\"psysml:ba34075d-eebc-4755-94e7-ca84c5a458cd\" target=\"_top\" title=\"psysml:ba34075d-eebc-4755-94e7-ca84c5a458cd\" xlink:actuate=\"onRequest\" xlink:href=\"psysml:ba34075d-eebc-4755-94e7-ca84c5a458cd\" xlink:show=\"new\" xlink:title=\"psysml:ba34075d-eebc-4755-94e7-ca84c5a458cd\" xlink:type=\"simple\"><rect fill=\"#FEFECE\" filter=\"url(#fxy9ap98ly5x8)\" height=\"45.9375\" id=\"E6\" rx=\"10\" ry=\"10\" style=\"stroke: #A80036; stroke-width: 1.5;\" width=\"42\" x=\"44\" y=\"465\"/><text fill=\"#000000\" font-family=\"sans-serif\" font-size=\"12\" font-style=\"italic\" lengthAdjust=\"spacingAndGlyphs\" textLength=\"40\" x=\"45\" y=\"481.1387\">«part»</text><text fill=\"#000000\" font-family=\"sans-serif\" font-size=\"12\" lengthAdjust=\"spacingAndGlyphs\" textLength=\"8\" x=\"61\" y=\"495.1074\">g</text><line style=\"stroke: #A80036; stroke-width: 1.5;\" x1=\"45\" x2=\"85\" y1=\"502.9375\" y2=\"502.9375\"/></a><!--MD5=[2156ba9850f5573cc1fc38a6a4b2f02b]\n",
       "class E7--><a href=\"psysml:88191fe6-4f94-4991-8591-be7eb93db47e\" target=\"_top\" title=\"psysml:88191fe6-4f94-4991-8591-be7eb93db47e\" xlink:actuate=\"onRequest\" xlink:href=\"psysml:88191fe6-4f94-4991-8591-be7eb93db47e\" xlink:show=\"new\" xlink:title=\"psysml:88191fe6-4f94-4991-8591-be7eb93db47e\" xlink:type=\"simple\"><rect fill=\"#FEFECE\" filter=\"url(#fxy9ap98ly5x8)\" height=\"45.9375\" id=\"E7\" style=\"stroke: #A80036; stroke-width: 1.5;\" width=\"66\" x=\"64\" y=\"147\"/><text fill=\"#000000\" font-family=\"sans-serif\" font-size=\"12\" font-style=\"italic\" lengthAdjust=\"spacingAndGlyphs\" textLength=\"64\" x=\"65\" y=\"163.1387\">«part def»</text><text fill=\"#000000\" font-family=\"sans-serif\" font-size=\"12\" lengthAdjust=\"spacingAndGlyphs\" textLength=\"8\" x=\"93\" y=\"177.1074\">B</text><line style=\"stroke: #A80036; stroke-width: 1.5;\" x1=\"65\" x2=\"129\" y1=\"184.9375\" y2=\"184.9375\"/></a><!--MD5=[b9389687b975829384b498ac4b7476b2]\n",
       "class E8--><a href=\"psysml:ab65aa6d-a5a6-4b47-8167-56da9e982a64\" target=\"_top\" title=\"psysml:ab65aa6d-a5a6-4b47-8167-56da9e982a64\" xlink:actuate=\"onRequest\" xlink:href=\"psysml:ab65aa6d-a5a6-4b47-8167-56da9e982a64\" xlink:show=\"new\" xlink:title=\"psysml:ab65aa6d-a5a6-4b47-8167-56da9e982a64\" xlink:type=\"simple\"><rect fill=\"#FEFECE\" filter=\"url(#fxy9ap98ly5x8)\" height=\"45.9375\" id=\"E8\" rx=\"10\" ry=\"10\" style=\"stroke: #A80036; stroke-width: 1.5;\" width=\"42\" x=\"109\" y=\"253\"/><text fill=\"#000000\" font-family=\"sans-serif\" font-size=\"12\" font-style=\"italic\" lengthAdjust=\"spacingAndGlyphs\" textLength=\"40\" x=\"110\" y=\"269.1387\">«part»</text><text fill=\"#000000\" font-family=\"sans-serif\" font-size=\"12\" lengthAdjust=\"spacingAndGlyphs\" textLength=\"19\" x=\"120.5\" y=\"283.1074\">f: F</text><line style=\"stroke: #A80036; stroke-width: 1.5;\" x1=\"110\" x2=\"150\" y1=\"290.9375\" y2=\"290.9375\"/></a><!--MD5=[fd4143e9d270a159db93a4ea2a975926]\n",
       "class E9--><a href=\"psysml:624da0d4-2cfd-4aae-83e5-be6cf87688fa\" target=\"_top\" title=\"psysml:624da0d4-2cfd-4aae-83e5-be6cf87688fa\" xlink:actuate=\"onRequest\" xlink:href=\"psysml:624da0d4-2cfd-4aae-83e5-be6cf87688fa\" xlink:show=\"new\" xlink:title=\"psysml:624da0d4-2cfd-4aae-83e5-be6cf87688fa\" xlink:type=\"simple\"><rect fill=\"#FEFECE\" filter=\"url(#fxy9ap98ly5x8)\" height=\"45.9375\" id=\"E9\" rx=\"10\" ry=\"10\" style=\"stroke: #A80036; stroke-width: 1.5;\" width=\"42\" x=\"32\" y=\"253\"/><text fill=\"#000000\" font-family=\"sans-serif\" font-size=\"12\" font-style=\"italic\" lengthAdjust=\"spacingAndGlyphs\" textLength=\"40\" x=\"33\" y=\"269.1387\">«part»</text><text fill=\"#000000\" font-family=\"sans-serif\" font-size=\"12\" lengthAdjust=\"spacingAndGlyphs\" textLength=\"24\" x=\"41\" y=\"283.1074\">a: A</text><line style=\"stroke: #A80036; stroke-width: 1.5;\" x1=\"33\" x2=\"73\" y1=\"290.9375\" y2=\"290.9375\"/></a><!--MD5=[96f4274e9e20536e775497830990834d]\n",
       "class E10--><a href=\"psysml:5c182589-a5f3-41ec-a644-db6857a5c19a\" target=\"_top\" title=\"psysml:5c182589-a5f3-41ec-a644-db6857a5c19a\" xlink:actuate=\"onRequest\" xlink:href=\"psysml:5c182589-a5f3-41ec-a644-db6857a5c19a\" xlink:show=\"new\" xlink:title=\"psysml:5c182589-a5f3-41ec-a644-db6857a5c19a\" xlink:type=\"simple\"><rect fill=\"#FEFECE\" filter=\"url(#fxy9ap98ly5x8)\" height=\"45.9375\" id=\"E10\" rx=\"10\" ry=\"10\" style=\"stroke: #A80036; stroke-width: 1.5;\" width=\"42\" x=\"76\" y=\"41\"/><text fill=\"#000000\" font-family=\"sans-serif\" font-size=\"12\" font-style=\"italic\" lengthAdjust=\"spacingAndGlyphs\" textLength=\"40\" x=\"77\" y=\"57.1387\">«part»</text><text fill=\"#000000\" font-family=\"sans-serif\" font-size=\"12\" lengthAdjust=\"spacingAndGlyphs\" textLength=\"24\" x=\"85\" y=\"71.1074\">b: B</text><line style=\"stroke: #A80036; stroke-width: 1.5;\" x1=\"77\" x2=\"117\" y1=\"78.9375\" y2=\"78.9375\"/></a><!--MD5=[209b3feb70ccb6233bfe1053d122c12c]\n",
       "reverse link E2 to E3--><a href=\"psysml:f4f335e8-ebb2-4b93-b8a2-3184b124f9b4\" target=\"_top\" title=\"psysml:f4f335e8-ebb2-4b93-b8a2-3184b124f9b4\" xlink:actuate=\"onRequest\" xlink:href=\"psysml:f4f335e8-ebb2-4b93-b8a2-3184b124f9b4\" xlink:show=\"new\" xlink:title=\"psysml:f4f335e8-ebb2-4b93-b8a2-3184b124f9b4\" xlink:type=\"simple\"><path d=\"M180,418.44 C180,433.87 180,451.47 180,464.98 \" fill=\"none\" id=\"E2&lt;-E3\" style=\"stroke: #A80036; stroke-width: 1.0;\"/><polygon fill=\"#A80036\" points=\"180,405.06,176,411.06,180,417.06,184,411.06,180,405.06\" style=\"stroke: #A80036; stroke-width: 1.0;\"/></a><!--MD5=[185131fc0dcab0a4505a2ebe144e961b]\n",
       "link E4 to E2--><a href=\"psysml:6b545197-59fa-4019-832b-0413d8dfad43\" target=\"_top\" title=\"psysml:6b545197-59fa-4019-832b-0413d8dfad43\" xlink:actuate=\"onRequest\" xlink:href=\"psysml:6b545197-59fa-4019-832b-0413d8dfad43\" xlink:show=\"new\" xlink:title=\"psysml:6b545197-59fa-4019-832b-0413d8dfad43\" xlink:type=\"simple\"><path d=\"M201.27,299.06 C198.23,310.78 194.39,325.57 190.81,339.36 \" fill=\"none\" id=\"E4-&gt;E2\" style=\"stroke: #A80036; stroke-width: 1.0;\"/><polygon fill=\"#FFFFFF\" points=\"185.72,358.98,183.7221,338.8303,197.2724,342.3504,185.72,358.98\" style=\"stroke: #A80036; stroke-width: 1.0;\"/><ellipse cx=\"187.091\" cy=\"333.8163\" fill=\"#A80036\" rx=\"2\" ry=\"2\" style=\"stroke: #A80036; stroke-width: 1.0;\"/><ellipse cx=\"196.7698\" cy=\"336.3307\" fill=\"#A80036\" rx=\"2\" ry=\"2\" style=\"stroke: #A80036; stroke-width: 1.0;\"/></a><!--MD5=[85d356282659285ab4b2cfe2f634dd2b]\n",
       "reverse link E5 to E6--><a href=\"psysml:42a57766-d710-4931-98ca-f2942df4b5a7\" target=\"_top\" title=\"psysml:42a57766-d710-4931-98ca-f2942df4b5a7\" xlink:actuate=\"onRequest\" xlink:href=\"psysml:42a57766-d710-4931-98ca-f2942df4b5a7\" xlink:show=\"new\" xlink:title=\"psysml:42a57766-d710-4931-98ca-f2942df4b5a7\" xlink:type=\"simple\"><path d=\"M65,418.44 C65,433.87 65,451.47 65,464.98 \" fill=\"none\" id=\"E5&lt;-E6\" style=\"stroke: #A80036; stroke-width: 1.0;\"/><polygon fill=\"#A80036\" points=\"65,405.06,61,411.06,65,417.06,69,411.06,65,405.06\" style=\"stroke: #A80036; stroke-width: 1.0;\"/></a><!--MD5=[dc164f5e8a733ab456ef1add180e9e34]\n",
       "reverse link E7 to E8--><a href=\"psysml:ee3500c3-1d32-470f-b6bb-e11a5c090a2b\" target=\"_top\" title=\"psysml:ee3500c3-1d32-470f-b6bb-e11a5c090a2b\" xlink:actuate=\"onRequest\" xlink:href=\"psysml:ee3500c3-1d32-470f-b6bb-e11a5c090a2b\" xlink:show=\"new\" xlink:title=\"psysml:ee3500c3-1d32-470f-b6bb-e11a5c090a2b\" xlink:type=\"simple\"><path d=\"M107.95,205.49 C112.91,221.15 118.64,239.19 123.01,252.98 \" fill=\"none\" id=\"E7&lt;-E8\" style=\"stroke: #A80036; stroke-width: 1.0;\"/><polygon fill=\"#A80036\" points=\"104,193.06,101.9989,199.9879,107.6243,204.4996,109.6253,197.5717,104,193.06\" style=\"stroke: #A80036; stroke-width: 1.0;\"/></a><!--MD5=[f1f3f9f2fc535e6147756cb86a7f2e32]\n",
       "link E8 to E2--><a href=\"psysml:385ac8e9-821f-48a2-9a91-91f0503517ad\" target=\"_top\" title=\"psysml:385ac8e9-821f-48a2-9a91-91f0503517ad\" xlink:actuate=\"onRequest\" xlink:href=\"psysml:385ac8e9-821f-48a2-9a91-91f0503517ad\" xlink:show=\"new\" xlink:title=\"psysml:385ac8e9-821f-48a2-9a91-91f0503517ad\" xlink:type=\"simple\"><path d=\"M140.6,299.06 C146.44,311.19 153.86,326.62 160.68,340.82 \" fill=\"none\" id=\"E8-&gt;E2\" style=\"stroke: #A80036; stroke-width: 1.0;\"/><polygon fill=\"#FFFFFF\" points=\"169.41,358.98,154.8709,344.8869,167.4894,338.8228,169.41,358.98\" style=\"stroke: #A80036; stroke-width: 1.0;\"/><ellipse cx=\"154.2046\" cy=\"338.8831\" fill=\"#A80036\" rx=\"2\" ry=\"2\" style=\"stroke: #A80036; stroke-width: 1.0;\"/><ellipse cx=\"163.2178\" cy=\"334.5516\" fill=\"#A80036\" rx=\"2\" ry=\"2\" style=\"stroke: #A80036; stroke-width: 1.0;\"/></a><!--MD5=[e4a10ef82d0e328e31cac39a31e58dda]\n",
       "reverse link E7 to E9--><a href=\"psysml:4dc3c190-fff9-4cfd-9ec6-604d7dd22971\" target=\"_top\" title=\"psysml:4dc3c190-fff9-4cfd-9ec6-604d7dd22971\" xlink:actuate=\"onRequest\" xlink:href=\"psysml:4dc3c190-fff9-4cfd-9ec6-604d7dd22971\" xlink:show=\"new\" xlink:title=\"psysml:4dc3c190-fff9-4cfd-9ec6-604d7dd22971\" xlink:type=\"simple\"><path d=\"M82.41,205.49 C75.78,221.15 68.15,239.19 62.32,252.98 \" fill=\"none\" id=\"E7&lt;-E9\" style=\"stroke: #A80036; stroke-width: 1.0;\"/><polygon fill=\"#A80036\" points=\"87.67,193.06,81.6505,197.0305,83.0003,204.1142,89.0199,200.1436,87.67,193.06\" style=\"stroke: #A80036; stroke-width: 1.0;\"/></a><!--MD5=[bfc3ddf2e613be37104f658f09af896c]\n",
       "link E9 to E5--><a href=\"psysml:e6457602-7adc-4ee0-a454-eb40d686de5b\" target=\"_top\" title=\"psysml:e6457602-7adc-4ee0-a454-eb40d686de5b\" xlink:actuate=\"onRequest\" xlink:href=\"psysml:e6457602-7adc-4ee0-a454-eb40d686de5b\" xlink:show=\"new\" xlink:title=\"psysml:e6457602-7adc-4ee0-a454-eb40d686de5b\" xlink:type=\"simple\"><path d=\"M55.54,299.06 C56.88,310.64 58.56,325.23 60.14,338.87 \" fill=\"none\" id=\"E9-&gt;E5\" style=\"stroke: #A80036; stroke-width: 1.0;\"/><polygon fill=\"#FFFFFF\" points=\"62.46,358.98,53.3347,340.9044,67.243,339.3046,62.46,358.98\" style=\"stroke: #A80036; stroke-width: 1.0;\"/><ellipse cx=\"54.6702\" cy=\"335.0132\" fill=\"#A80036\" rx=\"2\" ry=\"2\" style=\"stroke: #A80036; stroke-width: 1.0;\"/><ellipse cx=\"64.6047\" cy=\"333.8704\" fill=\"#A80036\" rx=\"2\" ry=\"2\" style=\"stroke: #A80036; stroke-width: 1.0;\"/></a><!--MD5=[a919e0967d6f3de553dc51b9865a1d6d]\n",
       "link E10 to E7--><a href=\"psysml:078c16df-6fb3-4d69-bd0c-6c240437776b\" target=\"_top\" title=\"psysml:078c16df-6fb3-4d69-bd0c-6c240437776b\" xlink:actuate=\"onRequest\" xlink:href=\"psysml:078c16df-6fb3-4d69-bd0c-6c240437776b\" xlink:show=\"new\" xlink:title=\"psysml:078c16df-6fb3-4d69-bd0c-6c240437776b\" xlink:type=\"simple\"><path d=\"M97,87.06 C97,98.64 97,113.23 97,126.87 \" fill=\"none\" id=\"E10-&gt;E7\" style=\"stroke: #A80036; stroke-width: 1.0;\"/><polygon fill=\"#FFFFFF\" points=\"97,146.98,90,127.98,104,127.98,97,146.98\" style=\"stroke: #A80036; stroke-width: 1.0;\"/><ellipse cx=\"92\" cy=\"122.28\" fill=\"#A80036\" rx=\"2\" ry=\"2\" style=\"stroke: #A80036; stroke-width: 1.0;\"/><ellipse cx=\"102\" cy=\"122.28\" fill=\"#A80036\" rx=\"2\" ry=\"2\" style=\"stroke: #A80036; stroke-width: 1.0;\"/></a><!--MD5=[6a3e5ffd18c3cd00767e754eda6942e8]\n",
       "@startuml\r\n",
       "skinparam wrapWidth 300\r\n",
       "hide circle\r\n",
       "\r\n",
       "package \"Q\" as E1  [[psysml:c58eea24-2ccf-44f2-b6e8-e98c7ec17236 ]]  {\r\n",
       "comp def \"F\" as E2  <<(T,blue)part def>> [[psysml:a4e187a3-203e-405d-be98-97d147693ddf ]] {\r\n",
       "}\r\n",
       "comp usage \"a\" as E3  <<(T,blue)part>> [[psysml:6ada620e-a181-4489-89b5-9a75fb715758 ]] {\r\n",
       "}\r\n",
       "comp usage \"f: F\" as E4  <<(T,blue)part>> [[psysml:90a61716-c53d-4f92-beb5-5068bb9fa1a0 ]] {\r\n",
       "}\r\n",
       "comp def \"A\" as E5  <<(T,blue)part def>> [[psysml:282ebd08-29d1-4bc9-b49b-68a749240d69 ]] {\r\n",
       "}\r\n",
       "comp usage \"g\" as E6  <<(T,blue)part>> [[psysml:ba34075d-eebc-4755-94e7-ca84c5a458cd ]] {\r\n",
       "}\r\n",
       "comp def \"B\" as E7  <<(T,blue)part def>> [[psysml:88191fe6-4f94-4991-8591-be7eb93db47e ]] {\r\n",
       "}\r\n",
       "comp usage \"f: F\" as E8  <<(T,blue)part>> [[psysml:ab65aa6d-a5a6-4b47-8167-56da9e982a64 ]] {\r\n",
       "}\r\n",
       "comp usage \"a: A\" as E9  <<(T,blue)part>> [[psysml:624da0d4-2cfd-4aae-83e5-be6cf87688fa ]] {\r\n",
       "}\r\n",
       "comp usage \"b: B\" as E10  <<(T,blue)part>> [[psysml:5c182589-a5f3-41ec-a644-db6857a5c19a ]] {\r\n",
       "}\r\n",
       "E2 *- - E3 [[psysml:f4f335e8-ebb2-4b93-b8a2-3184b124f9b4 ]] \r\n",
       "E4 - -:|> E2 [[psysml:6b545197-59fa-4019-832b-0413d8dfad43 ]] \r\n",
       "E5 *- - E6 [[psysml:42a57766-d710-4931-98ca-f2942df4b5a7 ]] \r\n",
       "E7 *- - E8 [[psysml:ee3500c3-1d32-470f-b6bb-e11a5c090a2b ]] \r\n",
       "E8 - -:|> E2 [[psysml:385ac8e9-821f-48a2-9a91-91f0503517ad ]] \r\n",
       "E7 *- - E9 [[psysml:4dc3c190-fff9-4cfd-9ec6-604d7dd22971 ]] \r\n",
       "E9 - -:|> E5 [[psysml:e6457602-7adc-4ee0-a454-eb40d686de5b ]] \r\n",
       "E10 - -:|> E7 [[psysml:078c16df-6fb3-4d69-bd0c-6c240437776b ]] \r\n",
       "}\r\n",
       "@enduml\r\n",
       "\n",
       "PlantUML version 1.2020.13(Sat Jun 13 12:26:38 UTC 2020)\n",
       "(EPL source distribution)\n",
       "Java Runtime: OpenJDK Runtime Environment\n",
       "JVM: OpenJDK 64-Bit Server VM\n",
       "Default Encoding: UTF-8\n",
       "Language: en\n",
       "Country: null\n",
       "--></g></svg>"
      ]
     },
     "execution_count": 24,
     "metadata": {},
     "output_type": "execute_result"
    }
   ],
   "source": [
    "%viz --style=\"STDCOLOR\" --view=\"Tree\" \"Q\""
   ]
  },
  {
   "cell_type": "code",
   "execution_count": 25,
   "id": "90b9b4f2",
   "metadata": {
    "execution": {
     "iopub.execute_input": "2021-05-27T06:11:59.559978Z",
     "iopub.status.busy": "2021-05-27T06:11:59.559187Z",
     "iopub.status.idle": "2021-05-27T06:11:59.565743Z",
     "shell.execute_reply": "2021-05-27T06:11:59.565425Z"
    }
   },
   "outputs": [
    {
     "data": {
      "image/svg+xml": [
       "<?xml version=\"1.0\" encoding=\"UTF-8\" standalone=\"no\"?><svg xmlns=\"http://www.w3.org/2000/svg\" xmlns:xlink=\"http://www.w3.org/1999/xlink\" contentScriptType=\"application/ecmascript\" contentStyleType=\"text/css\" height=\"12px\" preserveAspectRatio=\"none\" style=\"width:12px;height:12px;\" version=\"1.1\" viewBox=\"0 0 12 12\" width=\"12px\" zoomAndPan=\"magnify\"><defs/><g><!--MD5=[aeeef50f102b80d730deb6443d14f702]\n",
       "@startuml\r\n",
       "skinparam wrapWidth 300\r\n",
       "hide circle\r\n",
       "\r\n",
       "@enduml\r\n",
       "\n",
       "PlantUML version 1.2020.13(Sat Jun 13 12:26:38 UTC 2020)\n",
       "(EPL source distribution)\n",
       "Java Runtime: OpenJDK Runtime Environment\n",
       "JVM: OpenJDK 64-Bit Server VM\n",
       "Default Encoding: UTF-8\n",
       "Language: en\n",
       "Country: null\n",
       "--></g></svg>"
      ]
     },
     "execution_count": 25,
     "metadata": {},
     "output_type": "execute_result"
    }
   ],
   "source": [
    "%viz --style=\"STDCOLOR\" --view=\"State\" \"Q\""
   ]
  },
  {
   "cell_type": "code",
   "execution_count": 26,
   "id": "660500c8",
   "metadata": {
    "execution": {
     "iopub.execute_input": "2021-05-27T06:11:59.617355Z",
     "iopub.status.busy": "2021-05-27T06:11:59.616777Z",
     "iopub.status.idle": "2021-05-27T06:11:59.650673Z",
     "shell.execute_reply": "2021-05-27T06:11:59.649298Z"
    }
   },
   "outputs": [
    {
     "data": {
      "image/svg+xml": [
       "<?xml version=\"1.0\" encoding=\"UTF-8\" standalone=\"no\"?><svg xmlns=\"http://www.w3.org/2000/svg\" xmlns:xlink=\"http://www.w3.org/1999/xlink\" contentScriptType=\"application/ecmascript\" contentStyleType=\"text/css\" height=\"192px\" preserveAspectRatio=\"none\" style=\"width:621px;height:192px;\" version=\"1.1\" viewBox=\"0 0 621 192\" width=\"621px\" zoomAndPan=\"magnify\"><defs><filter height=\"300%\" id=\"f1hcu7p5e795nc\" width=\"300%\" x=\"-1\" y=\"-1\"><feGaussianBlur result=\"blurOut\" stdDeviation=\"2.0\"/><feColorMatrix in=\"blurOut\" result=\"blurOut2\" type=\"matrix\" values=\"0 0 0 0 0 0 0 0 0 0 0 0 0 0 0 0 0 0 .4 0\"/><feOffset dx=\"4.0\" dy=\"4.0\" in=\"blurOut2\" result=\"blurOut3\"/><feBlend in=\"SourceGraphic\" in2=\"blurOut3\" mode=\"normal\"/></filter></defs><g><!--MD5=[fbc87193dbaf4d95561dea2c320d4a47]\n",
       "cluster E1--><a href=\"psysml:c58eea24-2ccf-44f2-b6e8-e98c7ec17236\" target=\"_top\" title=\"psysml:c58eea24-2ccf-44f2-b6e8-e98c7ec17236\" xlink:actuate=\"onRequest\" xlink:href=\"psysml:c58eea24-2ccf-44f2-b6e8-e98c7ec17236\" xlink:show=\"new\" xlink:title=\"psysml:c58eea24-2ccf-44f2-b6e8-e98c7ec17236\" xlink:type=\"simple\"><polygon fill=\"#FFFFFF\" filter=\"url(#f1hcu7p5e795nc)\" points=\"16,6,34,6,41,28.2969,599,28.2969,599,180,16,180,16,6\" style=\"stroke: #000000; stroke-width: 1.5;\"/><line style=\"stroke: #000000; stroke-width: 1.5;\" x1=\"16\" x2=\"41\" y1=\"28.2969\" y2=\"28.2969\"/><text fill=\"#000000\" font-family=\"sans-serif\" font-size=\"14\" font-weight=\"bold\" lengthAdjust=\"spacingAndGlyphs\" textLength=\"12\" x=\"20\" y=\"20.9951\">Q</text></a><!--MD5=[e4f7fae6ed58524ba242bb0b0d3be6b7]\n",
       "cluster E2--><a href=\"psysml:a4e187a3-203e-405d-be98-97d147693ddf\" target=\"_top\" title=\"psysml:a4e187a3-203e-405d-be98-97d147693ddf\" xlink:actuate=\"onRequest\" xlink:href=\"psysml:a4e187a3-203e-405d-be98-97d147693ddf\" xlink:show=\"new\" xlink:title=\"psysml:a4e187a3-203e-405d-be98-97d147693ddf\" xlink:type=\"simple\"><rect fill=\"#FFFFFF\" filter=\"url(#f1hcu7p5e795nc)\" height=\"107\" id=\"E2\" style=\"stroke: #A80036; stroke-width: 1.5;\" width=\"87\" x=\"488\" y=\"49\"/><rect fill=\"#FEFECE\" height=\"37.9375\" style=\"stroke: #A80036; stroke-width: 1.5;\" width=\"87\" x=\"488\" y=\"49\"/><text fill=\"#000000\" font-family=\"sans-serif\" font-size=\"12\" font-style=\"italic\" lengthAdjust=\"spacingAndGlyphs\" textLength=\"64\" x=\"499.5\" y=\"65.1387\">«part def»</text><text fill=\"#000000\" font-family=\"sans-serif\" font-size=\"12\" lengthAdjust=\"spacingAndGlyphs\" textLength=\"7\" x=\"528\" y=\"79.1074\">F</text></a><!--MD5=[de5ec2e2e8f62f467e546659f5068c88]\n",
       "cluster E5--><a href=\"psysml:282ebd08-29d1-4bc9-b49b-68a749240d69\" target=\"_top\" title=\"psysml:282ebd08-29d1-4bc9-b49b-68a749240d69\" xlink:actuate=\"onRequest\" xlink:href=\"psysml:282ebd08-29d1-4bc9-b49b-68a749240d69\" xlink:show=\"new\" xlink:title=\"psysml:282ebd08-29d1-4bc9-b49b-68a749240d69\" xlink:type=\"simple\"><rect fill=\"#FFFFFF\" filter=\"url(#f1hcu7p5e795nc)\" height=\"107\" id=\"E5\" style=\"stroke: #A80036; stroke-width: 1.5;\" width=\"87\" x=\"377\" y=\"49\"/><rect fill=\"#FEFECE\" height=\"37.9375\" style=\"stroke: #A80036; stroke-width: 1.5;\" width=\"87\" x=\"377\" y=\"49\"/><text fill=\"#000000\" font-family=\"sans-serif\" font-size=\"12\" font-style=\"italic\" lengthAdjust=\"spacingAndGlyphs\" textLength=\"64\" x=\"388.5\" y=\"65.1387\">«part def»</text><text fill=\"#000000\" font-family=\"sans-serif\" font-size=\"12\" lengthAdjust=\"spacingAndGlyphs\" textLength=\"8\" x=\"416.5\" y=\"79.1074\">A</text></a><!--MD5=[168fadf3d0c3fd93dd5d6da1b1d7ab76]\n",
       "cluster E7--><a href=\"psysml:88191fe6-4f94-4991-8591-be7eb93db47e\" target=\"_top\" title=\"psysml:88191fe6-4f94-4991-8591-be7eb93db47e\" xlink:actuate=\"onRequest\" xlink:href=\"psysml:88191fe6-4f94-4991-8591-be7eb93db47e\" xlink:show=\"new\" xlink:title=\"psysml:88191fe6-4f94-4991-8591-be7eb93db47e\" xlink:type=\"simple\"><rect fill=\"#FFFFFF\" filter=\"url(#f1hcu7p5e795nc)\" height=\"107\" id=\"E7\" style=\"stroke: #A80036; stroke-width: 1.5;\" width=\"167\" x=\"186\" y=\"49\"/><rect fill=\"#FEFECE\" height=\"37.9375\" style=\"stroke: #A80036; stroke-width: 1.5;\" width=\"167\" x=\"186\" y=\"49\"/><text fill=\"#000000\" font-family=\"sans-serif\" font-size=\"12\" font-style=\"italic\" lengthAdjust=\"spacingAndGlyphs\" textLength=\"64\" x=\"237.5\" y=\"65.1387\">«part def»</text><text fill=\"#000000\" font-family=\"sans-serif\" font-size=\"12\" lengthAdjust=\"spacingAndGlyphs\" textLength=\"8\" x=\"265.5\" y=\"79.1074\">B</text></a><g id=\"E1.E2.E3\"><a href=\"psysml:6ada620e-a181-4489-89b5-9a75fb715758\" target=\"_top\" title=\"psysml:6ada620e-a181-4489-89b5-9a75fb715758\" xlink:actuate=\"onRequest\" xlink:href=\"psysml:6ada620e-a181-4489-89b5-9a75fb715758\" xlink:show=\"new\" xlink:title=\"psysml:6ada620e-a181-4489-89b5-9a75fb715758\" xlink:type=\"simple\"><rect fill=\"#FEFECE\" filter=\"url(#f1hcu7p5e795nc)\" height=\"40\" id=\"E3\" rx=\"10\" ry=\"10\" style=\"stroke: #A80036; stroke-width: 1.5;\" width=\"50\" x=\"506\" y=\"100\"/><text fill=\"#000000\" font-family=\"sans-serif\" font-size=\"12\" lengthAdjust=\"spacingAndGlyphs\" textLength=\"8\" x=\"527\" y=\"116.1387\">a</text></a></g><g id=\"E1.E4\"><a href=\"psysml:90a61716-c53d-4f92-beb5-5068bb9fa1a0\" target=\"_top\" title=\"psysml:90a61716-c53d-4f92-beb5-5068bb9fa1a0\" xlink:actuate=\"onRequest\" xlink:href=\"psysml:90a61716-c53d-4f92-beb5-5068bb9fa1a0\" xlink:show=\"new\" xlink:title=\"psysml:90a61716-c53d-4f92-beb5-5068bb9fa1a0\" xlink:type=\"simple\"><rect fill=\"#FEFECE\" filter=\"url(#f1hcu7p5e795nc)\" height=\"40\" id=\"E4\" rx=\"10\" ry=\"10\" style=\"stroke: #A80036; stroke-width: 1.5;\" width=\"50\" x=\"117\" y=\"100\"/><text fill=\"#000000\" font-family=\"sans-serif\" font-size=\"12\" lengthAdjust=\"spacingAndGlyphs\" textLength=\"19\" x=\"132.5\" y=\"116.1387\">f: F</text></a></g><g id=\"E1.E5.E6\"><a href=\"psysml:ba34075d-eebc-4755-94e7-ca84c5a458cd\" target=\"_top\" title=\"psysml:ba34075d-eebc-4755-94e7-ca84c5a458cd\" xlink:actuate=\"onRequest\" xlink:href=\"psysml:ba34075d-eebc-4755-94e7-ca84c5a458cd\" xlink:show=\"new\" xlink:title=\"psysml:ba34075d-eebc-4755-94e7-ca84c5a458cd\" xlink:type=\"simple\"><rect fill=\"#FEFECE\" filter=\"url(#f1hcu7p5e795nc)\" height=\"40\" id=\"E6\" rx=\"10\" ry=\"10\" style=\"stroke: #A80036; stroke-width: 1.5;\" width=\"53\" x=\"393.5\" y=\"100\"/><text fill=\"#000000\" font-family=\"sans-serif\" font-size=\"12\" lengthAdjust=\"spacingAndGlyphs\" textLength=\"38\" x=\"399\" y=\"116.1387\">g=f.a;</text></a></g><g id=\"E1.E7.E8\"><a href=\"psysml:ab65aa6d-a5a6-4b47-8167-56da9e982a64\" target=\"_top\" title=\"psysml:ab65aa6d-a5a6-4b47-8167-56da9e982a64\" xlink:actuate=\"onRequest\" xlink:href=\"psysml:ab65aa6d-a5a6-4b47-8167-56da9e982a64\" xlink:show=\"new\" xlink:title=\"psysml:ab65aa6d-a5a6-4b47-8167-56da9e982a64\" xlink:type=\"simple\"><rect fill=\"#FEFECE\" filter=\"url(#f1hcu7p5e795nc)\" height=\"40\" id=\"E8\" rx=\"10\" ry=\"10\" style=\"stroke: #A80036; stroke-width: 1.5;\" width=\"50\" x=\"287\" y=\"100\"/><text fill=\"#000000\" font-family=\"sans-serif\" font-size=\"12\" lengthAdjust=\"spacingAndGlyphs\" textLength=\"19\" x=\"302.5\" y=\"116.1387\">f: F</text></a></g><g id=\"E1.E7.E9\"><a href=\"psysml:624da0d4-2cfd-4aae-83e5-be6cf87688fa\" target=\"_top\" title=\"psysml:624da0d4-2cfd-4aae-83e5-be6cf87688fa\" xlink:actuate=\"onRequest\" xlink:href=\"psysml:624da0d4-2cfd-4aae-83e5-be6cf87688fa\" xlink:show=\"new\" xlink:title=\"psysml:624da0d4-2cfd-4aae-83e5-be6cf87688fa\" xlink:type=\"simple\"><rect fill=\"#FEFECE\" filter=\"url(#f1hcu7p5e795nc)\" height=\"40\" id=\"E9\" rx=\"10\" ry=\"10\" style=\"stroke: #A80036; stroke-width: 1.5;\" width=\"50\" x=\"202\" y=\"100\"/><text fill=\"#000000\" font-family=\"sans-serif\" font-size=\"12\" lengthAdjust=\"spacingAndGlyphs\" textLength=\"24\" x=\"215\" y=\"116.1387\">a: A</text></a></g><g id=\"E1.E10\"><a href=\"psysml:5c182589-a5f3-41ec-a644-db6857a5c19a\" target=\"_top\" title=\"psysml:5c182589-a5f3-41ec-a644-db6857a5c19a\" xlink:actuate=\"onRequest\" xlink:href=\"psysml:5c182589-a5f3-41ec-a644-db6857a5c19a\" xlink:show=\"new\" xlink:title=\"psysml:5c182589-a5f3-41ec-a644-db6857a5c19a\" xlink:type=\"simple\"><rect fill=\"#FEFECE\" filter=\"url(#f1hcu7p5e795nc)\" height=\"40\" id=\"E10\" rx=\"10\" ry=\"10\" style=\"stroke: #A80036; stroke-width: 1.5;\" width=\"50\" x=\"32\" y=\"100\"/><text fill=\"#000000\" font-family=\"sans-serif\" font-size=\"12\" lengthAdjust=\"spacingAndGlyphs\" textLength=\"24\" x=\"45\" y=\"116.1387\">b: B</text></a></g><!--MD5=[5b68f1cb864e1d172b180510a5c8b581]\n",
       "@startuml\r\n",
       "skinparam ranksep 10\r\n",
       "skinparam rectangle {\r\n",
       " backgroundColor<<block>> LightGreen\r\n",
       "}\r\n",
       "skinparam wrapWidth 300\r\n",
       "hide circle\r\n",
       "\r\n",
       "package \"Q\" as E1  [[psysml:c58eea24-2ccf-44f2-b6e8-e98c7ec17236 ]]  {\r\n",
       "rec def \"F\" as E2  <<(T,blue)part def>> [[psysml:a4e187a3-203e-405d-be98-97d147693ddf ]] {\r\n",
       "rec usage \"a\" as E3  [[psysml:6ada620e-a181-4489-89b5-9a75fb715758 ]] {\r\n",
       "}\r\n",
       "}\r\n",
       "rec usage \"f: F\" as E4  [[psysml:90a61716-c53d-4f92-beb5-5068bb9fa1a0 ]] {\r\n",
       "}\r\n",
       "rec def \"A\" as E5  <<(T,blue)part def>> [[psysml:282ebd08-29d1-4bc9-b49b-68a749240d69 ]] {\r\n",
       "rec usage \"g=f.a; \" as E6  [[psysml:ba34075d-eebc-4755-94e7-ca84c5a458cd ]] {\r\n",
       "}\r\n",
       "}\r\n",
       "rec def \"B\" as E7  <<(T,blue)part def>> [[psysml:88191fe6-4f94-4991-8591-be7eb93db47e ]] {\r\n",
       "rec usage \"f: F\" as E8  [[psysml:ab65aa6d-a5a6-4b47-8167-56da9e982a64 ]] {\r\n",
       "}\r\n",
       "rec usage \"a: A\" as E9  [[psysml:624da0d4-2cfd-4aae-83e5-be6cf87688fa ]] {\r\n",
       "}\r\n",
       "}\r\n",
       "rec usage \"b: B\" as E10  [[psysml:5c182589-a5f3-41ec-a644-db6857a5c19a ]] {\r\n",
       "}\r\n",
       "}\r\n",
       "@enduml\r\n",
       "\n",
       "PlantUML version 1.2020.13(Sat Jun 13 12:26:38 UTC 2020)\n",
       "(EPL source distribution)\n",
       "Java Runtime: OpenJDK Runtime Environment\n",
       "JVM: OpenJDK 64-Bit Server VM\n",
       "Default Encoding: UTF-8\n",
       "Language: en\n",
       "Country: null\n",
       "--></g></svg>"
      ]
     },
     "execution_count": 26,
     "metadata": {},
     "output_type": "execute_result"
    }
   ],
   "source": [
    "%viz --style=\"STDCOLOR\" --view=\"Interconnection\" \"Q\""
   ]
  },
  {
   "cell_type": "code",
   "execution_count": 27,
   "id": "4d26b48b",
   "metadata": {
    "execution": {
     "iopub.execute_input": "2021-05-27T06:11:59.702591Z",
     "iopub.status.busy": "2021-05-27T06:11:59.701928Z",
     "iopub.status.idle": "2021-05-27T06:11:59.707426Z",
     "shell.execute_reply": "2021-05-27T06:11:59.707043Z"
    }
   },
   "outputs": [
    {
     "data": {
      "image/svg+xml": [
       "<?xml version=\"1.0\" encoding=\"UTF-8\" standalone=\"no\"?><svg xmlns=\"http://www.w3.org/2000/svg\" xmlns:xlink=\"http://www.w3.org/1999/xlink\" contentScriptType=\"application/ecmascript\" contentStyleType=\"text/css\" height=\"12px\" preserveAspectRatio=\"none\" style=\"width:12px;height:12px;\" version=\"1.1\" viewBox=\"0 0 12 12\" width=\"12px\" zoomAndPan=\"magnify\"><defs/><g><!--MD5=[9863325348a96a77dacc89509d8ee65e]\n",
       "@startuml\r\n",
       "skinparam ranksep 8\r\n",
       "skinparam wrapWidth 300\r\n",
       "hide circle\r\n",
       "\r\n",
       "@enduml\r\n",
       "\n",
       "PlantUML version 1.2020.13(Sat Jun 13 12:26:38 UTC 2020)\n",
       "(EPL source distribution)\n",
       "Java Runtime: OpenJDK Runtime Environment\n",
       "JVM: OpenJDK 64-Bit Server VM\n",
       "Default Encoding: UTF-8\n",
       "Language: en\n",
       "Country: null\n",
       "--></g></svg>"
      ]
     },
     "execution_count": 27,
     "metadata": {},
     "output_type": "execute_result"
    }
   ],
   "source": [
    "%viz --style=\"STDCOLOR\" --view=\"Action\" \"Q\""
   ]
  },
  {
   "cell_type": "code",
   "execution_count": 28,
   "id": "4cbf21d5",
   "metadata": {
    "execution": {
     "iopub.execute_input": "2021-05-27T06:11:59.759609Z",
     "iopub.status.busy": "2021-05-27T06:11:59.758753Z",
     "iopub.status.idle": "2021-05-27T06:11:59.793334Z",
     "shell.execute_reply": "2021-05-27T06:11:59.791973Z"
    }
   },
   "outputs": [
    {
     "data": {
      "image/svg+xml": [
       "<?xml version=\"1.0\" encoding=\"UTF-8\" standalone=\"no\"?><svg xmlns=\"http://www.w3.org/2000/svg\" xmlns:xlink=\"http://www.w3.org/1999/xlink\" contentScriptType=\"application/ecmascript\" contentStyleType=\"text/css\" height=\"539px\" preserveAspectRatio=\"none\" style=\"width:266px;height:539px;\" version=\"1.1\" viewBox=\"0 0 266 539\" width=\"266px\" zoomAndPan=\"magnify\"><defs><filter height=\"300%\" id=\"fxy9ap98ly5x8\" width=\"300%\" x=\"-1\" y=\"-1\"><feGaussianBlur result=\"blurOut\" stdDeviation=\"2.0\"/><feColorMatrix in=\"blurOut\" result=\"blurOut2\" type=\"matrix\" values=\"0 0 0 0 0 0 0 0 0 0 0 0 0 0 0 0 0 0 .4 0\"/><feOffset dx=\"4.0\" dy=\"4.0\" in=\"blurOut2\" result=\"blurOut3\"/><feBlend in=\"SourceGraphic\" in2=\"blurOut3\" mode=\"normal\"/></filter></defs><g><!--MD5=[fbc87193dbaf4d95561dea2c320d4a47]\n",
       "cluster E1--><a href=\"psysml:c58eea24-2ccf-44f2-b6e8-e98c7ec17236\" target=\"_top\" title=\"psysml:c58eea24-2ccf-44f2-b6e8-e98c7ec17236\" xlink:actuate=\"onRequest\" xlink:href=\"psysml:c58eea24-2ccf-44f2-b6e8-e98c7ec17236\" xlink:show=\"new\" xlink:title=\"psysml:c58eea24-2ccf-44f2-b6e8-e98c7ec17236\" xlink:type=\"simple\"><polygon fill=\"#FFFFFF\" filter=\"url(#fxy9ap98ly5x8)\" points=\"16,6,34,6,41,28.2969,244,28.2969,244,527,16,527,16,6\" style=\"stroke: #000000; stroke-width: 1.5;\"/><line style=\"stroke: #000000; stroke-width: 1.5;\" x1=\"16\" x2=\"41\" y1=\"28.2969\" y2=\"28.2969\"/><text fill=\"#000000\" font-family=\"sans-serif\" font-size=\"14\" font-weight=\"bold\" lengthAdjust=\"spacingAndGlyphs\" textLength=\"12\" x=\"20\" y=\"20.9951\">Q</text></a><!--MD5=[b4997ac47864f28c2f74865a473b2911]\n",
       "class E2--><a href=\"psysml:a4e187a3-203e-405d-be98-97d147693ddf\" target=\"_top\" title=\"psysml:a4e187a3-203e-405d-be98-97d147693ddf\" xlink:actuate=\"onRequest\" xlink:href=\"psysml:a4e187a3-203e-405d-be98-97d147693ddf\" xlink:show=\"new\" xlink:title=\"psysml:a4e187a3-203e-405d-be98-97d147693ddf\" xlink:type=\"simple\"><rect fill=\"#FEFECE\" filter=\"url(#fxy9ap98ly5x8)\" height=\"45.9375\" id=\"E2\" style=\"stroke: #A80036; stroke-width: 1.5;\" width=\"66\" x=\"147\" y=\"359\"/><text fill=\"#000000\" font-family=\"sans-serif\" font-size=\"12\" font-style=\"italic\" lengthAdjust=\"spacingAndGlyphs\" textLength=\"64\" x=\"148\" y=\"375.1387\">«part def»</text><text fill=\"#000000\" font-family=\"sans-serif\" font-size=\"12\" lengthAdjust=\"spacingAndGlyphs\" textLength=\"7\" x=\"176.5\" y=\"389.1074\">F</text><line style=\"stroke: #A80036; stroke-width: 1.5;\" x1=\"148\" x2=\"212\" y1=\"396.9375\" y2=\"396.9375\"/></a><!--MD5=[09b614a08d8cba4a07c9adeb5e0fee81]\n",
       "class E3--><a href=\"psysml:6ada620e-a181-4489-89b5-9a75fb715758\" target=\"_top\" title=\"psysml:6ada620e-a181-4489-89b5-9a75fb715758\" xlink:actuate=\"onRequest\" xlink:href=\"psysml:6ada620e-a181-4489-89b5-9a75fb715758\" xlink:show=\"new\" xlink:title=\"psysml:6ada620e-a181-4489-89b5-9a75fb715758\" xlink:type=\"simple\"><rect fill=\"#FEFECE\" filter=\"url(#fxy9ap98ly5x8)\" height=\"45.9375\" id=\"E3\" rx=\"10\" ry=\"10\" style=\"stroke: #A80036; stroke-width: 1.5;\" width=\"42\" x=\"159\" y=\"465\"/><text fill=\"#000000\" font-family=\"sans-serif\" font-size=\"12\" font-style=\"italic\" lengthAdjust=\"spacingAndGlyphs\" textLength=\"40\" x=\"160\" y=\"481.1387\">«part»</text><text fill=\"#000000\" font-family=\"sans-serif\" font-size=\"12\" lengthAdjust=\"spacingAndGlyphs\" textLength=\"8\" x=\"176\" y=\"495.1074\">a</text><line style=\"stroke: #A80036; stroke-width: 1.5;\" x1=\"160\" x2=\"200\" y1=\"502.9375\" y2=\"502.9375\"/></a><!--MD5=[ebbe1d658d1005bcc118a6aa81145e00]\n",
       "class E4--><a href=\"psysml:90a61716-c53d-4f92-beb5-5068bb9fa1a0\" target=\"_top\" title=\"psysml:90a61716-c53d-4f92-beb5-5068bb9fa1a0\" xlink:actuate=\"onRequest\" xlink:href=\"psysml:90a61716-c53d-4f92-beb5-5068bb9fa1a0\" xlink:show=\"new\" xlink:title=\"psysml:90a61716-c53d-4f92-beb5-5068bb9fa1a0\" xlink:type=\"simple\"><rect fill=\"#FEFECE\" filter=\"url(#fxy9ap98ly5x8)\" height=\"45.9375\" id=\"E4\" rx=\"10\" ry=\"10\" style=\"stroke: #A80036; stroke-width: 1.5;\" width=\"42\" x=\"186\" y=\"253\"/><text fill=\"#000000\" font-family=\"sans-serif\" font-size=\"12\" font-style=\"italic\" lengthAdjust=\"spacingAndGlyphs\" textLength=\"40\" x=\"187\" y=\"269.1387\">«part»</text><text fill=\"#000000\" font-family=\"sans-serif\" font-size=\"12\" lengthAdjust=\"spacingAndGlyphs\" textLength=\"19\" x=\"197.5\" y=\"283.1074\">f: F</text><line style=\"stroke: #A80036; stroke-width: 1.5;\" x1=\"187\" x2=\"227\" y1=\"290.9375\" y2=\"290.9375\"/></a><!--MD5=[270fce915f116d4de14055a7c1d9a0f3]\n",
       "class E5--><a href=\"psysml:282ebd08-29d1-4bc9-b49b-68a749240d69\" target=\"_top\" title=\"psysml:282ebd08-29d1-4bc9-b49b-68a749240d69\" xlink:actuate=\"onRequest\" xlink:href=\"psysml:282ebd08-29d1-4bc9-b49b-68a749240d69\" xlink:show=\"new\" xlink:title=\"psysml:282ebd08-29d1-4bc9-b49b-68a749240d69\" xlink:type=\"simple\"><rect fill=\"#FEFECE\" filter=\"url(#fxy9ap98ly5x8)\" height=\"45.9375\" id=\"E5\" style=\"stroke: #A80036; stroke-width: 1.5;\" width=\"66\" x=\"32\" y=\"359\"/><text fill=\"#000000\" font-family=\"sans-serif\" font-size=\"12\" font-style=\"italic\" lengthAdjust=\"spacingAndGlyphs\" textLength=\"64\" x=\"33\" y=\"375.1387\">«part def»</text><text fill=\"#000000\" font-family=\"sans-serif\" font-size=\"12\" lengthAdjust=\"spacingAndGlyphs\" textLength=\"8\" x=\"61\" y=\"389.1074\">A</text><line style=\"stroke: #A80036; stroke-width: 1.5;\" x1=\"33\" x2=\"97\" y1=\"396.9375\" y2=\"396.9375\"/></a><!--MD5=[60a26617385b1d2d0262a64233df1f8d]\n",
       "class E6--><a href=\"psysml:ba34075d-eebc-4755-94e7-ca84c5a458cd\" target=\"_top\" title=\"psysml:ba34075d-eebc-4755-94e7-ca84c5a458cd\" xlink:actuate=\"onRequest\" xlink:href=\"psysml:ba34075d-eebc-4755-94e7-ca84c5a458cd\" xlink:show=\"new\" xlink:title=\"psysml:ba34075d-eebc-4755-94e7-ca84c5a458cd\" xlink:type=\"simple\"><rect fill=\"#FEFECE\" filter=\"url(#fxy9ap98ly5x8)\" height=\"45.9375\" id=\"E6\" rx=\"10\" ry=\"10\" style=\"stroke: #A80036; stroke-width: 1.5;\" width=\"42\" x=\"44\" y=\"465\"/><text fill=\"#000000\" font-family=\"sans-serif\" font-size=\"12\" font-style=\"italic\" lengthAdjust=\"spacingAndGlyphs\" textLength=\"40\" x=\"45\" y=\"481.1387\">«part»</text><text fill=\"#000000\" font-family=\"sans-serif\" font-size=\"12\" lengthAdjust=\"spacingAndGlyphs\" textLength=\"8\" x=\"61\" y=\"495.1074\">g</text><line style=\"stroke: #A80036; stroke-width: 1.5;\" x1=\"45\" x2=\"85\" y1=\"502.9375\" y2=\"502.9375\"/></a><!--MD5=[2156ba9850f5573cc1fc38a6a4b2f02b]\n",
       "class E7--><a href=\"psysml:88191fe6-4f94-4991-8591-be7eb93db47e\" target=\"_top\" title=\"psysml:88191fe6-4f94-4991-8591-be7eb93db47e\" xlink:actuate=\"onRequest\" xlink:href=\"psysml:88191fe6-4f94-4991-8591-be7eb93db47e\" xlink:show=\"new\" xlink:title=\"psysml:88191fe6-4f94-4991-8591-be7eb93db47e\" xlink:type=\"simple\"><rect fill=\"#FEFECE\" filter=\"url(#fxy9ap98ly5x8)\" height=\"45.9375\" id=\"E7\" style=\"stroke: #A80036; stroke-width: 1.5;\" width=\"66\" x=\"64\" y=\"147\"/><text fill=\"#000000\" font-family=\"sans-serif\" font-size=\"12\" font-style=\"italic\" lengthAdjust=\"spacingAndGlyphs\" textLength=\"64\" x=\"65\" y=\"163.1387\">«part def»</text><text fill=\"#000000\" font-family=\"sans-serif\" font-size=\"12\" lengthAdjust=\"spacingAndGlyphs\" textLength=\"8\" x=\"93\" y=\"177.1074\">B</text><line style=\"stroke: #A80036; stroke-width: 1.5;\" x1=\"65\" x2=\"129\" y1=\"184.9375\" y2=\"184.9375\"/></a><!--MD5=[b9389687b975829384b498ac4b7476b2]\n",
       "class E8--><a href=\"psysml:ab65aa6d-a5a6-4b47-8167-56da9e982a64\" target=\"_top\" title=\"psysml:ab65aa6d-a5a6-4b47-8167-56da9e982a64\" xlink:actuate=\"onRequest\" xlink:href=\"psysml:ab65aa6d-a5a6-4b47-8167-56da9e982a64\" xlink:show=\"new\" xlink:title=\"psysml:ab65aa6d-a5a6-4b47-8167-56da9e982a64\" xlink:type=\"simple\"><rect fill=\"#FEFECE\" filter=\"url(#fxy9ap98ly5x8)\" height=\"45.9375\" id=\"E8\" rx=\"10\" ry=\"10\" style=\"stroke: #A80036; stroke-width: 1.5;\" width=\"42\" x=\"109\" y=\"253\"/><text fill=\"#000000\" font-family=\"sans-serif\" font-size=\"12\" font-style=\"italic\" lengthAdjust=\"spacingAndGlyphs\" textLength=\"40\" x=\"110\" y=\"269.1387\">«part»</text><text fill=\"#000000\" font-family=\"sans-serif\" font-size=\"12\" lengthAdjust=\"spacingAndGlyphs\" textLength=\"19\" x=\"120.5\" y=\"283.1074\">f: F</text><line style=\"stroke: #A80036; stroke-width: 1.5;\" x1=\"110\" x2=\"150\" y1=\"290.9375\" y2=\"290.9375\"/></a><!--MD5=[fd4143e9d270a159db93a4ea2a975926]\n",
       "class E9--><a href=\"psysml:624da0d4-2cfd-4aae-83e5-be6cf87688fa\" target=\"_top\" title=\"psysml:624da0d4-2cfd-4aae-83e5-be6cf87688fa\" xlink:actuate=\"onRequest\" xlink:href=\"psysml:624da0d4-2cfd-4aae-83e5-be6cf87688fa\" xlink:show=\"new\" xlink:title=\"psysml:624da0d4-2cfd-4aae-83e5-be6cf87688fa\" xlink:type=\"simple\"><rect fill=\"#FEFECE\" filter=\"url(#fxy9ap98ly5x8)\" height=\"45.9375\" id=\"E9\" rx=\"10\" ry=\"10\" style=\"stroke: #A80036; stroke-width: 1.5;\" width=\"42\" x=\"32\" y=\"253\"/><text fill=\"#000000\" font-family=\"sans-serif\" font-size=\"12\" font-style=\"italic\" lengthAdjust=\"spacingAndGlyphs\" textLength=\"40\" x=\"33\" y=\"269.1387\">«part»</text><text fill=\"#000000\" font-family=\"sans-serif\" font-size=\"12\" lengthAdjust=\"spacingAndGlyphs\" textLength=\"24\" x=\"41\" y=\"283.1074\">a: A</text><line style=\"stroke: #A80036; stroke-width: 1.5;\" x1=\"33\" x2=\"73\" y1=\"290.9375\" y2=\"290.9375\"/></a><!--MD5=[96f4274e9e20536e775497830990834d]\n",
       "class E10--><a href=\"psysml:5c182589-a5f3-41ec-a644-db6857a5c19a\" target=\"_top\" title=\"psysml:5c182589-a5f3-41ec-a644-db6857a5c19a\" xlink:actuate=\"onRequest\" xlink:href=\"psysml:5c182589-a5f3-41ec-a644-db6857a5c19a\" xlink:show=\"new\" xlink:title=\"psysml:5c182589-a5f3-41ec-a644-db6857a5c19a\" xlink:type=\"simple\"><rect fill=\"#FEFECE\" filter=\"url(#fxy9ap98ly5x8)\" height=\"45.9375\" id=\"E10\" rx=\"10\" ry=\"10\" style=\"stroke: #A80036; stroke-width: 1.5;\" width=\"42\" x=\"76\" y=\"41\"/><text fill=\"#000000\" font-family=\"sans-serif\" font-size=\"12\" font-style=\"italic\" lengthAdjust=\"spacingAndGlyphs\" textLength=\"40\" x=\"77\" y=\"57.1387\">«part»</text><text fill=\"#000000\" font-family=\"sans-serif\" font-size=\"12\" lengthAdjust=\"spacingAndGlyphs\" textLength=\"24\" x=\"85\" y=\"71.1074\">b: B</text><line style=\"stroke: #A80036; stroke-width: 1.5;\" x1=\"77\" x2=\"117\" y1=\"78.9375\" y2=\"78.9375\"/></a><!--MD5=[209b3feb70ccb6233bfe1053d122c12c]\n",
       "reverse link E2 to E3--><a href=\"psysml:f4f335e8-ebb2-4b93-b8a2-3184b124f9b4\" target=\"_top\" title=\"psysml:f4f335e8-ebb2-4b93-b8a2-3184b124f9b4\" xlink:actuate=\"onRequest\" xlink:href=\"psysml:f4f335e8-ebb2-4b93-b8a2-3184b124f9b4\" xlink:show=\"new\" xlink:title=\"psysml:f4f335e8-ebb2-4b93-b8a2-3184b124f9b4\" xlink:type=\"simple\"><path d=\"M180,418.44 C180,433.87 180,451.47 180,464.98 \" fill=\"none\" id=\"E2&lt;-E3\" style=\"stroke: #A80036; stroke-width: 1.0;\"/><polygon fill=\"#A80036\" points=\"180,405.06,176,411.06,180,417.06,184,411.06,180,405.06\" style=\"stroke: #A80036; stroke-width: 1.0;\"/></a><!--MD5=[185131fc0dcab0a4505a2ebe144e961b]\n",
       "link E4 to E2--><a href=\"psysml:6b545197-59fa-4019-832b-0413d8dfad43\" target=\"_top\" title=\"psysml:6b545197-59fa-4019-832b-0413d8dfad43\" xlink:actuate=\"onRequest\" xlink:href=\"psysml:6b545197-59fa-4019-832b-0413d8dfad43\" xlink:show=\"new\" xlink:title=\"psysml:6b545197-59fa-4019-832b-0413d8dfad43\" xlink:type=\"simple\"><path d=\"M201.27,299.06 C198.23,310.78 194.39,325.57 190.81,339.36 \" fill=\"none\" id=\"E4-&gt;E2\" style=\"stroke: #A80036; stroke-width: 1.0;\"/><polygon fill=\"#FFFFFF\" points=\"185.72,358.98,183.7221,338.8303,197.2724,342.3504,185.72,358.98\" style=\"stroke: #A80036; stroke-width: 1.0;\"/><ellipse cx=\"187.091\" cy=\"333.8163\" fill=\"#A80036\" rx=\"2\" ry=\"2\" style=\"stroke: #A80036; stroke-width: 1.0;\"/><ellipse cx=\"196.7698\" cy=\"336.3307\" fill=\"#A80036\" rx=\"2\" ry=\"2\" style=\"stroke: #A80036; stroke-width: 1.0;\"/></a><!--MD5=[85d356282659285ab4b2cfe2f634dd2b]\n",
       "reverse link E5 to E6--><a href=\"psysml:42a57766-d710-4931-98ca-f2942df4b5a7\" target=\"_top\" title=\"psysml:42a57766-d710-4931-98ca-f2942df4b5a7\" xlink:actuate=\"onRequest\" xlink:href=\"psysml:42a57766-d710-4931-98ca-f2942df4b5a7\" xlink:show=\"new\" xlink:title=\"psysml:42a57766-d710-4931-98ca-f2942df4b5a7\" xlink:type=\"simple\"><path d=\"M65,418.44 C65,433.87 65,451.47 65,464.98 \" fill=\"none\" id=\"E5&lt;-E6\" style=\"stroke: #A80036; stroke-width: 1.0;\"/><polygon fill=\"#A80036\" points=\"65,405.06,61,411.06,65,417.06,69,411.06,65,405.06\" style=\"stroke: #A80036; stroke-width: 1.0;\"/></a><!--MD5=[dc164f5e8a733ab456ef1add180e9e34]\n",
       "reverse link E7 to E8--><a href=\"psysml:ee3500c3-1d32-470f-b6bb-e11a5c090a2b\" target=\"_top\" title=\"psysml:ee3500c3-1d32-470f-b6bb-e11a5c090a2b\" xlink:actuate=\"onRequest\" xlink:href=\"psysml:ee3500c3-1d32-470f-b6bb-e11a5c090a2b\" xlink:show=\"new\" xlink:title=\"psysml:ee3500c3-1d32-470f-b6bb-e11a5c090a2b\" xlink:type=\"simple\"><path d=\"M107.95,205.49 C112.91,221.15 118.64,239.19 123.01,252.98 \" fill=\"none\" id=\"E7&lt;-E8\" style=\"stroke: #A80036; stroke-width: 1.0;\"/><polygon fill=\"#A80036\" points=\"104,193.06,101.9989,199.9879,107.6243,204.4996,109.6253,197.5717,104,193.06\" style=\"stroke: #A80036; stroke-width: 1.0;\"/></a><!--MD5=[f1f3f9f2fc535e6147756cb86a7f2e32]\n",
       "link E8 to E2--><a href=\"psysml:385ac8e9-821f-48a2-9a91-91f0503517ad\" target=\"_top\" title=\"psysml:385ac8e9-821f-48a2-9a91-91f0503517ad\" xlink:actuate=\"onRequest\" xlink:href=\"psysml:385ac8e9-821f-48a2-9a91-91f0503517ad\" xlink:show=\"new\" xlink:title=\"psysml:385ac8e9-821f-48a2-9a91-91f0503517ad\" xlink:type=\"simple\"><path d=\"M140.6,299.06 C146.44,311.19 153.86,326.62 160.68,340.82 \" fill=\"none\" id=\"E8-&gt;E2\" style=\"stroke: #A80036; stroke-width: 1.0;\"/><polygon fill=\"#FFFFFF\" points=\"169.41,358.98,154.8709,344.8869,167.4894,338.8228,169.41,358.98\" style=\"stroke: #A80036; stroke-width: 1.0;\"/><ellipse cx=\"154.2046\" cy=\"338.8831\" fill=\"#A80036\" rx=\"2\" ry=\"2\" style=\"stroke: #A80036; stroke-width: 1.0;\"/><ellipse cx=\"163.2178\" cy=\"334.5516\" fill=\"#A80036\" rx=\"2\" ry=\"2\" style=\"stroke: #A80036; stroke-width: 1.0;\"/></a><!--MD5=[e4a10ef82d0e328e31cac39a31e58dda]\n",
       "reverse link E7 to E9--><a href=\"psysml:4dc3c190-fff9-4cfd-9ec6-604d7dd22971\" target=\"_top\" title=\"psysml:4dc3c190-fff9-4cfd-9ec6-604d7dd22971\" xlink:actuate=\"onRequest\" xlink:href=\"psysml:4dc3c190-fff9-4cfd-9ec6-604d7dd22971\" xlink:show=\"new\" xlink:title=\"psysml:4dc3c190-fff9-4cfd-9ec6-604d7dd22971\" xlink:type=\"simple\"><path d=\"M82.41,205.49 C75.78,221.15 68.15,239.19 62.32,252.98 \" fill=\"none\" id=\"E7&lt;-E9\" style=\"stroke: #A80036; stroke-width: 1.0;\"/><polygon fill=\"#A80036\" points=\"87.67,193.06,81.6505,197.0305,83.0003,204.1142,89.0199,200.1436,87.67,193.06\" style=\"stroke: #A80036; stroke-width: 1.0;\"/></a><!--MD5=[bfc3ddf2e613be37104f658f09af896c]\n",
       "link E9 to E5--><a href=\"psysml:e6457602-7adc-4ee0-a454-eb40d686de5b\" target=\"_top\" title=\"psysml:e6457602-7adc-4ee0-a454-eb40d686de5b\" xlink:actuate=\"onRequest\" xlink:href=\"psysml:e6457602-7adc-4ee0-a454-eb40d686de5b\" xlink:show=\"new\" xlink:title=\"psysml:e6457602-7adc-4ee0-a454-eb40d686de5b\" xlink:type=\"simple\"><path d=\"M55.54,299.06 C56.88,310.64 58.56,325.23 60.14,338.87 \" fill=\"none\" id=\"E9-&gt;E5\" style=\"stroke: #A80036; stroke-width: 1.0;\"/><polygon fill=\"#FFFFFF\" points=\"62.46,358.98,53.3347,340.9044,67.243,339.3046,62.46,358.98\" style=\"stroke: #A80036; stroke-width: 1.0;\"/><ellipse cx=\"54.6702\" cy=\"335.0132\" fill=\"#A80036\" rx=\"2\" ry=\"2\" style=\"stroke: #A80036; stroke-width: 1.0;\"/><ellipse cx=\"64.6047\" cy=\"333.8704\" fill=\"#A80036\" rx=\"2\" ry=\"2\" style=\"stroke: #A80036; stroke-width: 1.0;\"/></a><!--MD5=[a919e0967d6f3de553dc51b9865a1d6d]\n",
       "link E10 to E7--><a href=\"psysml:078c16df-6fb3-4d69-bd0c-6c240437776b\" target=\"_top\" title=\"psysml:078c16df-6fb3-4d69-bd0c-6c240437776b\" xlink:actuate=\"onRequest\" xlink:href=\"psysml:078c16df-6fb3-4d69-bd0c-6c240437776b\" xlink:show=\"new\" xlink:title=\"psysml:078c16df-6fb3-4d69-bd0c-6c240437776b\" xlink:type=\"simple\"><path d=\"M97,87.06 C97,98.64 97,113.23 97,126.87 \" fill=\"none\" id=\"E10-&gt;E7\" style=\"stroke: #A80036; stroke-width: 1.0;\"/><polygon fill=\"#FFFFFF\" points=\"97,146.98,90,127.98,104,127.98,97,146.98\" style=\"stroke: #A80036; stroke-width: 1.0;\"/><ellipse cx=\"92\" cy=\"122.28\" fill=\"#A80036\" rx=\"2\" ry=\"2\" style=\"stroke: #A80036; stroke-width: 1.0;\"/><ellipse cx=\"102\" cy=\"122.28\" fill=\"#A80036\" rx=\"2\" ry=\"2\" style=\"stroke: #A80036; stroke-width: 1.0;\"/></a><!--MD5=[6a3e5ffd18c3cd00767e754eda6942e8]\n",
       "@startuml\r\n",
       "skinparam wrapWidth 300\r\n",
       "hide circle\r\n",
       "\r\n",
       "package \"Q\" as E1  [[psysml:c58eea24-2ccf-44f2-b6e8-e98c7ec17236 ]]  {\r\n",
       "comp def \"F\" as E2  <<(T,blue)part def>> [[psysml:a4e187a3-203e-405d-be98-97d147693ddf ]] {\r\n",
       "}\r\n",
       "comp usage \"a\" as E3  <<(T,blue)part>> [[psysml:6ada620e-a181-4489-89b5-9a75fb715758 ]] {\r\n",
       "}\r\n",
       "comp usage \"f: F\" as E4  <<(T,blue)part>> [[psysml:90a61716-c53d-4f92-beb5-5068bb9fa1a0 ]] {\r\n",
       "}\r\n",
       "comp def \"A\" as E5  <<(T,blue)part def>> [[psysml:282ebd08-29d1-4bc9-b49b-68a749240d69 ]] {\r\n",
       "}\r\n",
       "comp usage \"g\" as E6  <<(T,blue)part>> [[psysml:ba34075d-eebc-4755-94e7-ca84c5a458cd ]] {\r\n",
       "}\r\n",
       "comp def \"B\" as E7  <<(T,blue)part def>> [[psysml:88191fe6-4f94-4991-8591-be7eb93db47e ]] {\r\n",
       "}\r\n",
       "comp usage \"f: F\" as E8  <<(T,blue)part>> [[psysml:ab65aa6d-a5a6-4b47-8167-56da9e982a64 ]] {\r\n",
       "}\r\n",
       "comp usage \"a: A\" as E9  <<(T,blue)part>> [[psysml:624da0d4-2cfd-4aae-83e5-be6cf87688fa ]] {\r\n",
       "}\r\n",
       "comp usage \"b: B\" as E10  <<(T,blue)part>> [[psysml:5c182589-a5f3-41ec-a644-db6857a5c19a ]] {\r\n",
       "}\r\n",
       "E2 *- - E3 [[psysml:f4f335e8-ebb2-4b93-b8a2-3184b124f9b4 ]] \r\n",
       "E4 - -:|> E2 [[psysml:6b545197-59fa-4019-832b-0413d8dfad43 ]] \r\n",
       "E5 *- - E6 [[psysml:42a57766-d710-4931-98ca-f2942df4b5a7 ]] \r\n",
       "E7 *- - E8 [[psysml:ee3500c3-1d32-470f-b6bb-e11a5c090a2b ]] \r\n",
       "E8 - -:|> E2 [[psysml:385ac8e9-821f-48a2-9a91-91f0503517ad ]] \r\n",
       "E7 *- - E9 [[psysml:4dc3c190-fff9-4cfd-9ec6-604d7dd22971 ]] \r\n",
       "E9 - -:|> E5 [[psysml:e6457602-7adc-4ee0-a454-eb40d686de5b ]] \r\n",
       "E10 - -:|> E7 [[psysml:078c16df-6fb3-4d69-bd0c-6c240437776b ]] \r\n",
       "}\r\n",
       "@enduml\r\n",
       "\n",
       "PlantUML version 1.2020.13(Sat Jun 13 12:26:38 UTC 2020)\n",
       "(EPL source distribution)\n",
       "Java Runtime: OpenJDK Runtime Environment\n",
       "JVM: OpenJDK 64-Bit Server VM\n",
       "Default Encoding: UTF-8\n",
       "Language: en\n",
       "Country: null\n",
       "--></g></svg>"
      ]
     },
     "execution_count": 28,
     "metadata": {},
     "output_type": "execute_result"
    }
   ],
   "source": [
    "%viz --style=\"STDCOLOR\" --view=\"Sequence\" \"Q\""
   ]
  },
  {
   "cell_type": "code",
   "execution_count": 29,
   "id": "73cb0f68",
   "metadata": {
    "execution": {
     "iopub.execute_input": "2021-05-27T06:11:59.845430Z",
     "iopub.status.busy": "2021-05-27T06:11:59.844877Z",
     "iopub.status.idle": "2021-05-27T06:11:59.886172Z",
     "shell.execute_reply": "2021-05-27T06:11:59.884838Z"
    }
   },
   "outputs": [
    {
     "data": {
      "image/svg+xml": [
       "<?xml version=\"1.0\" encoding=\"UTF-8\" standalone=\"no\"?><svg xmlns=\"http://www.w3.org/2000/svg\" xmlns:xlink=\"http://www.w3.org/1999/xlink\" contentScriptType=\"application/ecmascript\" contentStyleType=\"text/css\" height=\"539px\" preserveAspectRatio=\"none\" style=\"width:266px;height:539px;\" version=\"1.1\" viewBox=\"0 0 266 539\" width=\"266px\" zoomAndPan=\"magnify\"><defs><filter height=\"300%\" id=\"fxy9ap98ly5x8\" width=\"300%\" x=\"-1\" y=\"-1\"><feGaussianBlur result=\"blurOut\" stdDeviation=\"2.0\"/><feColorMatrix in=\"blurOut\" result=\"blurOut2\" type=\"matrix\" values=\"0 0 0 0 0 0 0 0 0 0 0 0 0 0 0 0 0 0 .4 0\"/><feOffset dx=\"4.0\" dy=\"4.0\" in=\"blurOut2\" result=\"blurOut3\"/><feBlend in=\"SourceGraphic\" in2=\"blurOut3\" mode=\"normal\"/></filter></defs><g><!--MD5=[fbc87193dbaf4d95561dea2c320d4a47]\n",
       "cluster E1--><a href=\"psysml:c58eea24-2ccf-44f2-b6e8-e98c7ec17236\" target=\"_top\" title=\"psysml:c58eea24-2ccf-44f2-b6e8-e98c7ec17236\" xlink:actuate=\"onRequest\" xlink:href=\"psysml:c58eea24-2ccf-44f2-b6e8-e98c7ec17236\" xlink:show=\"new\" xlink:title=\"psysml:c58eea24-2ccf-44f2-b6e8-e98c7ec17236\" xlink:type=\"simple\"><polygon fill=\"#FFFFFF\" filter=\"url(#fxy9ap98ly5x8)\" points=\"16,6,34,6,41,28.2969,244,28.2969,244,527,16,527,16,6\" style=\"stroke: #000000; stroke-width: 1.5;\"/><line style=\"stroke: #000000; stroke-width: 1.5;\" x1=\"16\" x2=\"41\" y1=\"28.2969\" y2=\"28.2969\"/><text fill=\"#000000\" font-family=\"sans-serif\" font-size=\"14\" font-weight=\"bold\" lengthAdjust=\"spacingAndGlyphs\" textLength=\"12\" x=\"20\" y=\"20.9951\">Q</text></a><!--MD5=[b4997ac47864f28c2f74865a473b2911]\n",
       "class E2--><a href=\"psysml:a4e187a3-203e-405d-be98-97d147693ddf\" target=\"_top\" title=\"psysml:a4e187a3-203e-405d-be98-97d147693ddf\" xlink:actuate=\"onRequest\" xlink:href=\"psysml:a4e187a3-203e-405d-be98-97d147693ddf\" xlink:show=\"new\" xlink:title=\"psysml:a4e187a3-203e-405d-be98-97d147693ddf\" xlink:type=\"simple\"><rect fill=\"#FEFECE\" filter=\"url(#fxy9ap98ly5x8)\" height=\"45.9375\" id=\"E2\" style=\"stroke: #A80036; stroke-width: 1.5;\" width=\"66\" x=\"147\" y=\"359\"/><text fill=\"#000000\" font-family=\"sans-serif\" font-size=\"12\" font-style=\"italic\" lengthAdjust=\"spacingAndGlyphs\" textLength=\"64\" x=\"148\" y=\"375.1387\">«part def»</text><text fill=\"#000000\" font-family=\"sans-serif\" font-size=\"12\" lengthAdjust=\"spacingAndGlyphs\" textLength=\"7\" x=\"176.5\" y=\"389.1074\">F</text><line style=\"stroke: #A80036; stroke-width: 1.5;\" x1=\"148\" x2=\"212\" y1=\"396.9375\" y2=\"396.9375\"/></a><!--MD5=[09b614a08d8cba4a07c9adeb5e0fee81]\n",
       "class E3--><a href=\"psysml:6ada620e-a181-4489-89b5-9a75fb715758\" target=\"_top\" title=\"psysml:6ada620e-a181-4489-89b5-9a75fb715758\" xlink:actuate=\"onRequest\" xlink:href=\"psysml:6ada620e-a181-4489-89b5-9a75fb715758\" xlink:show=\"new\" xlink:title=\"psysml:6ada620e-a181-4489-89b5-9a75fb715758\" xlink:type=\"simple\"><rect fill=\"#FEFECE\" filter=\"url(#fxy9ap98ly5x8)\" height=\"45.9375\" id=\"E3\" rx=\"10\" ry=\"10\" style=\"stroke: #A80036; stroke-width: 1.5;\" width=\"42\" x=\"159\" y=\"465\"/><text fill=\"#000000\" font-family=\"sans-serif\" font-size=\"12\" font-style=\"italic\" lengthAdjust=\"spacingAndGlyphs\" textLength=\"40\" x=\"160\" y=\"481.1387\">«part»</text><text fill=\"#000000\" font-family=\"sans-serif\" font-size=\"12\" lengthAdjust=\"spacingAndGlyphs\" textLength=\"8\" x=\"176\" y=\"495.1074\">a</text><line style=\"stroke: #A80036; stroke-width: 1.5;\" x1=\"160\" x2=\"200\" y1=\"502.9375\" y2=\"502.9375\"/></a><!--MD5=[ebbe1d658d1005bcc118a6aa81145e00]\n",
       "class E4--><a href=\"psysml:90a61716-c53d-4f92-beb5-5068bb9fa1a0\" target=\"_top\" title=\"psysml:90a61716-c53d-4f92-beb5-5068bb9fa1a0\" xlink:actuate=\"onRequest\" xlink:href=\"psysml:90a61716-c53d-4f92-beb5-5068bb9fa1a0\" xlink:show=\"new\" xlink:title=\"psysml:90a61716-c53d-4f92-beb5-5068bb9fa1a0\" xlink:type=\"simple\"><rect fill=\"#FEFECE\" filter=\"url(#fxy9ap98ly5x8)\" height=\"45.9375\" id=\"E4\" rx=\"10\" ry=\"10\" style=\"stroke: #A80036; stroke-width: 1.5;\" width=\"42\" x=\"186\" y=\"253\"/><text fill=\"#000000\" font-family=\"sans-serif\" font-size=\"12\" font-style=\"italic\" lengthAdjust=\"spacingAndGlyphs\" textLength=\"40\" x=\"187\" y=\"269.1387\">«part»</text><text fill=\"#000000\" font-family=\"sans-serif\" font-size=\"12\" lengthAdjust=\"spacingAndGlyphs\" textLength=\"19\" x=\"197.5\" y=\"283.1074\">f: F</text><line style=\"stroke: #A80036; stroke-width: 1.5;\" x1=\"187\" x2=\"227\" y1=\"290.9375\" y2=\"290.9375\"/></a><!--MD5=[270fce915f116d4de14055a7c1d9a0f3]\n",
       "class E5--><a href=\"psysml:282ebd08-29d1-4bc9-b49b-68a749240d69\" target=\"_top\" title=\"psysml:282ebd08-29d1-4bc9-b49b-68a749240d69\" xlink:actuate=\"onRequest\" xlink:href=\"psysml:282ebd08-29d1-4bc9-b49b-68a749240d69\" xlink:show=\"new\" xlink:title=\"psysml:282ebd08-29d1-4bc9-b49b-68a749240d69\" xlink:type=\"simple\"><rect fill=\"#FEFECE\" filter=\"url(#fxy9ap98ly5x8)\" height=\"45.9375\" id=\"E5\" style=\"stroke: #A80036; stroke-width: 1.5;\" width=\"66\" x=\"32\" y=\"359\"/><text fill=\"#000000\" font-family=\"sans-serif\" font-size=\"12\" font-style=\"italic\" lengthAdjust=\"spacingAndGlyphs\" textLength=\"64\" x=\"33\" y=\"375.1387\">«part def»</text><text fill=\"#000000\" font-family=\"sans-serif\" font-size=\"12\" lengthAdjust=\"spacingAndGlyphs\" textLength=\"8\" x=\"61\" y=\"389.1074\">A</text><line style=\"stroke: #A80036; stroke-width: 1.5;\" x1=\"33\" x2=\"97\" y1=\"396.9375\" y2=\"396.9375\"/></a><!--MD5=[60a26617385b1d2d0262a64233df1f8d]\n",
       "class E6--><a href=\"psysml:ba34075d-eebc-4755-94e7-ca84c5a458cd\" target=\"_top\" title=\"psysml:ba34075d-eebc-4755-94e7-ca84c5a458cd\" xlink:actuate=\"onRequest\" xlink:href=\"psysml:ba34075d-eebc-4755-94e7-ca84c5a458cd\" xlink:show=\"new\" xlink:title=\"psysml:ba34075d-eebc-4755-94e7-ca84c5a458cd\" xlink:type=\"simple\"><rect fill=\"#FEFECE\" filter=\"url(#fxy9ap98ly5x8)\" height=\"45.9375\" id=\"E6\" rx=\"10\" ry=\"10\" style=\"stroke: #A80036; stroke-width: 1.5;\" width=\"42\" x=\"44\" y=\"465\"/><text fill=\"#000000\" font-family=\"sans-serif\" font-size=\"12\" font-style=\"italic\" lengthAdjust=\"spacingAndGlyphs\" textLength=\"40\" x=\"45\" y=\"481.1387\">«part»</text><text fill=\"#000000\" font-family=\"sans-serif\" font-size=\"12\" lengthAdjust=\"spacingAndGlyphs\" textLength=\"8\" x=\"61\" y=\"495.1074\">g</text><line style=\"stroke: #A80036; stroke-width: 1.5;\" x1=\"45\" x2=\"85\" y1=\"502.9375\" y2=\"502.9375\"/></a><!--MD5=[2156ba9850f5573cc1fc38a6a4b2f02b]\n",
       "class E7--><a href=\"psysml:88191fe6-4f94-4991-8591-be7eb93db47e\" target=\"_top\" title=\"psysml:88191fe6-4f94-4991-8591-be7eb93db47e\" xlink:actuate=\"onRequest\" xlink:href=\"psysml:88191fe6-4f94-4991-8591-be7eb93db47e\" xlink:show=\"new\" xlink:title=\"psysml:88191fe6-4f94-4991-8591-be7eb93db47e\" xlink:type=\"simple\"><rect fill=\"#FEFECE\" filter=\"url(#fxy9ap98ly5x8)\" height=\"45.9375\" id=\"E7\" style=\"stroke: #A80036; stroke-width: 1.5;\" width=\"66\" x=\"64\" y=\"147\"/><text fill=\"#000000\" font-family=\"sans-serif\" font-size=\"12\" font-style=\"italic\" lengthAdjust=\"spacingAndGlyphs\" textLength=\"64\" x=\"65\" y=\"163.1387\">«part def»</text><text fill=\"#000000\" font-family=\"sans-serif\" font-size=\"12\" lengthAdjust=\"spacingAndGlyphs\" textLength=\"8\" x=\"93\" y=\"177.1074\">B</text><line style=\"stroke: #A80036; stroke-width: 1.5;\" x1=\"65\" x2=\"129\" y1=\"184.9375\" y2=\"184.9375\"/></a><!--MD5=[b9389687b975829384b498ac4b7476b2]\n",
       "class E8--><a href=\"psysml:ab65aa6d-a5a6-4b47-8167-56da9e982a64\" target=\"_top\" title=\"psysml:ab65aa6d-a5a6-4b47-8167-56da9e982a64\" xlink:actuate=\"onRequest\" xlink:href=\"psysml:ab65aa6d-a5a6-4b47-8167-56da9e982a64\" xlink:show=\"new\" xlink:title=\"psysml:ab65aa6d-a5a6-4b47-8167-56da9e982a64\" xlink:type=\"simple\"><rect fill=\"#FEFECE\" filter=\"url(#fxy9ap98ly5x8)\" height=\"45.9375\" id=\"E8\" rx=\"10\" ry=\"10\" style=\"stroke: #A80036; stroke-width: 1.5;\" width=\"42\" x=\"109\" y=\"253\"/><text fill=\"#000000\" font-family=\"sans-serif\" font-size=\"12\" font-style=\"italic\" lengthAdjust=\"spacingAndGlyphs\" textLength=\"40\" x=\"110\" y=\"269.1387\">«part»</text><text fill=\"#000000\" font-family=\"sans-serif\" font-size=\"12\" lengthAdjust=\"spacingAndGlyphs\" textLength=\"19\" x=\"120.5\" y=\"283.1074\">f: F</text><line style=\"stroke: #A80036; stroke-width: 1.5;\" x1=\"110\" x2=\"150\" y1=\"290.9375\" y2=\"290.9375\"/></a><!--MD5=[fd4143e9d270a159db93a4ea2a975926]\n",
       "class E9--><a href=\"psysml:624da0d4-2cfd-4aae-83e5-be6cf87688fa\" target=\"_top\" title=\"psysml:624da0d4-2cfd-4aae-83e5-be6cf87688fa\" xlink:actuate=\"onRequest\" xlink:href=\"psysml:624da0d4-2cfd-4aae-83e5-be6cf87688fa\" xlink:show=\"new\" xlink:title=\"psysml:624da0d4-2cfd-4aae-83e5-be6cf87688fa\" xlink:type=\"simple\"><rect fill=\"#FEFECE\" filter=\"url(#fxy9ap98ly5x8)\" height=\"45.9375\" id=\"E9\" rx=\"10\" ry=\"10\" style=\"stroke: #A80036; stroke-width: 1.5;\" width=\"42\" x=\"32\" y=\"253\"/><text fill=\"#000000\" font-family=\"sans-serif\" font-size=\"12\" font-style=\"italic\" lengthAdjust=\"spacingAndGlyphs\" textLength=\"40\" x=\"33\" y=\"269.1387\">«part»</text><text fill=\"#000000\" font-family=\"sans-serif\" font-size=\"12\" lengthAdjust=\"spacingAndGlyphs\" textLength=\"24\" x=\"41\" y=\"283.1074\">a: A</text><line style=\"stroke: #A80036; stroke-width: 1.5;\" x1=\"33\" x2=\"73\" y1=\"290.9375\" y2=\"290.9375\"/></a><!--MD5=[96f4274e9e20536e775497830990834d]\n",
       "class E10--><a href=\"psysml:5c182589-a5f3-41ec-a644-db6857a5c19a\" target=\"_top\" title=\"psysml:5c182589-a5f3-41ec-a644-db6857a5c19a\" xlink:actuate=\"onRequest\" xlink:href=\"psysml:5c182589-a5f3-41ec-a644-db6857a5c19a\" xlink:show=\"new\" xlink:title=\"psysml:5c182589-a5f3-41ec-a644-db6857a5c19a\" xlink:type=\"simple\"><rect fill=\"#FEFECE\" filter=\"url(#fxy9ap98ly5x8)\" height=\"45.9375\" id=\"E10\" rx=\"10\" ry=\"10\" style=\"stroke: #A80036; stroke-width: 1.5;\" width=\"42\" x=\"76\" y=\"41\"/><text fill=\"#000000\" font-family=\"sans-serif\" font-size=\"12\" font-style=\"italic\" lengthAdjust=\"spacingAndGlyphs\" textLength=\"40\" x=\"77\" y=\"57.1387\">«part»</text><text fill=\"#000000\" font-family=\"sans-serif\" font-size=\"12\" lengthAdjust=\"spacingAndGlyphs\" textLength=\"24\" x=\"85\" y=\"71.1074\">b: B</text><line style=\"stroke: #A80036; stroke-width: 1.5;\" x1=\"77\" x2=\"117\" y1=\"78.9375\" y2=\"78.9375\"/></a><!--MD5=[209b3feb70ccb6233bfe1053d122c12c]\n",
       "reverse link E2 to E3--><a href=\"psysml:f4f335e8-ebb2-4b93-b8a2-3184b124f9b4\" target=\"_top\" title=\"psysml:f4f335e8-ebb2-4b93-b8a2-3184b124f9b4\" xlink:actuate=\"onRequest\" xlink:href=\"psysml:f4f335e8-ebb2-4b93-b8a2-3184b124f9b4\" xlink:show=\"new\" xlink:title=\"psysml:f4f335e8-ebb2-4b93-b8a2-3184b124f9b4\" xlink:type=\"simple\"><path d=\"M180,418.44 C180,433.87 180,451.47 180,464.98 \" fill=\"none\" id=\"E2&lt;-E3\" style=\"stroke: #A80036; stroke-width: 1.0;\"/><polygon fill=\"#A80036\" points=\"180,405.06,176,411.06,180,417.06,184,411.06,180,405.06\" style=\"stroke: #A80036; stroke-width: 1.0;\"/></a><!--MD5=[185131fc0dcab0a4505a2ebe144e961b]\n",
       "link E4 to E2--><a href=\"psysml:6b545197-59fa-4019-832b-0413d8dfad43\" target=\"_top\" title=\"psysml:6b545197-59fa-4019-832b-0413d8dfad43\" xlink:actuate=\"onRequest\" xlink:href=\"psysml:6b545197-59fa-4019-832b-0413d8dfad43\" xlink:show=\"new\" xlink:title=\"psysml:6b545197-59fa-4019-832b-0413d8dfad43\" xlink:type=\"simple\"><path d=\"M201.27,299.06 C198.23,310.78 194.39,325.57 190.81,339.36 \" fill=\"none\" id=\"E4-&gt;E2\" style=\"stroke: #A80036; stroke-width: 1.0;\"/><polygon fill=\"#FFFFFF\" points=\"185.72,358.98,183.7221,338.8303,197.2724,342.3504,185.72,358.98\" style=\"stroke: #A80036; stroke-width: 1.0;\"/><ellipse cx=\"187.091\" cy=\"333.8163\" fill=\"#A80036\" rx=\"2\" ry=\"2\" style=\"stroke: #A80036; stroke-width: 1.0;\"/><ellipse cx=\"196.7698\" cy=\"336.3307\" fill=\"#A80036\" rx=\"2\" ry=\"2\" style=\"stroke: #A80036; stroke-width: 1.0;\"/></a><!--MD5=[85d356282659285ab4b2cfe2f634dd2b]\n",
       "reverse link E5 to E6--><a href=\"psysml:42a57766-d710-4931-98ca-f2942df4b5a7\" target=\"_top\" title=\"psysml:42a57766-d710-4931-98ca-f2942df4b5a7\" xlink:actuate=\"onRequest\" xlink:href=\"psysml:42a57766-d710-4931-98ca-f2942df4b5a7\" xlink:show=\"new\" xlink:title=\"psysml:42a57766-d710-4931-98ca-f2942df4b5a7\" xlink:type=\"simple\"><path d=\"M65,418.44 C65,433.87 65,451.47 65,464.98 \" fill=\"none\" id=\"E5&lt;-E6\" style=\"stroke: #A80036; stroke-width: 1.0;\"/><polygon fill=\"#A80036\" points=\"65,405.06,61,411.06,65,417.06,69,411.06,65,405.06\" style=\"stroke: #A80036; stroke-width: 1.0;\"/></a><!--MD5=[dc164f5e8a733ab456ef1add180e9e34]\n",
       "reverse link E7 to E8--><a href=\"psysml:ee3500c3-1d32-470f-b6bb-e11a5c090a2b\" target=\"_top\" title=\"psysml:ee3500c3-1d32-470f-b6bb-e11a5c090a2b\" xlink:actuate=\"onRequest\" xlink:href=\"psysml:ee3500c3-1d32-470f-b6bb-e11a5c090a2b\" xlink:show=\"new\" xlink:title=\"psysml:ee3500c3-1d32-470f-b6bb-e11a5c090a2b\" xlink:type=\"simple\"><path d=\"M107.95,205.49 C112.91,221.15 118.64,239.19 123.01,252.98 \" fill=\"none\" id=\"E7&lt;-E8\" style=\"stroke: #A80036; stroke-width: 1.0;\"/><polygon fill=\"#A80036\" points=\"104,193.06,101.9989,199.9879,107.6243,204.4996,109.6253,197.5717,104,193.06\" style=\"stroke: #A80036; stroke-width: 1.0;\"/></a><!--MD5=[f1f3f9f2fc535e6147756cb86a7f2e32]\n",
       "link E8 to E2--><a href=\"psysml:385ac8e9-821f-48a2-9a91-91f0503517ad\" target=\"_top\" title=\"psysml:385ac8e9-821f-48a2-9a91-91f0503517ad\" xlink:actuate=\"onRequest\" xlink:href=\"psysml:385ac8e9-821f-48a2-9a91-91f0503517ad\" xlink:show=\"new\" xlink:title=\"psysml:385ac8e9-821f-48a2-9a91-91f0503517ad\" xlink:type=\"simple\"><path d=\"M140.6,299.06 C146.44,311.19 153.86,326.62 160.68,340.82 \" fill=\"none\" id=\"E8-&gt;E2\" style=\"stroke: #A80036; stroke-width: 1.0;\"/><polygon fill=\"#FFFFFF\" points=\"169.41,358.98,154.8709,344.8869,167.4894,338.8228,169.41,358.98\" style=\"stroke: #A80036; stroke-width: 1.0;\"/><ellipse cx=\"154.2046\" cy=\"338.8831\" fill=\"#A80036\" rx=\"2\" ry=\"2\" style=\"stroke: #A80036; stroke-width: 1.0;\"/><ellipse cx=\"163.2178\" cy=\"334.5516\" fill=\"#A80036\" rx=\"2\" ry=\"2\" style=\"stroke: #A80036; stroke-width: 1.0;\"/></a><!--MD5=[e4a10ef82d0e328e31cac39a31e58dda]\n",
       "reverse link E7 to E9--><a href=\"psysml:4dc3c190-fff9-4cfd-9ec6-604d7dd22971\" target=\"_top\" title=\"psysml:4dc3c190-fff9-4cfd-9ec6-604d7dd22971\" xlink:actuate=\"onRequest\" xlink:href=\"psysml:4dc3c190-fff9-4cfd-9ec6-604d7dd22971\" xlink:show=\"new\" xlink:title=\"psysml:4dc3c190-fff9-4cfd-9ec6-604d7dd22971\" xlink:type=\"simple\"><path d=\"M82.41,205.49 C75.78,221.15 68.15,239.19 62.32,252.98 \" fill=\"none\" id=\"E7&lt;-E9\" style=\"stroke: #A80036; stroke-width: 1.0;\"/><polygon fill=\"#A80036\" points=\"87.67,193.06,81.6505,197.0305,83.0003,204.1142,89.0199,200.1436,87.67,193.06\" style=\"stroke: #A80036; stroke-width: 1.0;\"/></a><!--MD5=[bfc3ddf2e613be37104f658f09af896c]\n",
       "link E9 to E5--><a href=\"psysml:e6457602-7adc-4ee0-a454-eb40d686de5b\" target=\"_top\" title=\"psysml:e6457602-7adc-4ee0-a454-eb40d686de5b\" xlink:actuate=\"onRequest\" xlink:href=\"psysml:e6457602-7adc-4ee0-a454-eb40d686de5b\" xlink:show=\"new\" xlink:title=\"psysml:e6457602-7adc-4ee0-a454-eb40d686de5b\" xlink:type=\"simple\"><path d=\"M55.54,299.06 C56.88,310.64 58.56,325.23 60.14,338.87 \" fill=\"none\" id=\"E9-&gt;E5\" style=\"stroke: #A80036; stroke-width: 1.0;\"/><polygon fill=\"#FFFFFF\" points=\"62.46,358.98,53.3347,340.9044,67.243,339.3046,62.46,358.98\" style=\"stroke: #A80036; stroke-width: 1.0;\"/><ellipse cx=\"54.6702\" cy=\"335.0132\" fill=\"#A80036\" rx=\"2\" ry=\"2\" style=\"stroke: #A80036; stroke-width: 1.0;\"/><ellipse cx=\"64.6047\" cy=\"333.8704\" fill=\"#A80036\" rx=\"2\" ry=\"2\" style=\"stroke: #A80036; stroke-width: 1.0;\"/></a><!--MD5=[a919e0967d6f3de553dc51b9865a1d6d]\n",
       "link E10 to E7--><a href=\"psysml:078c16df-6fb3-4d69-bd0c-6c240437776b\" target=\"_top\" title=\"psysml:078c16df-6fb3-4d69-bd0c-6c240437776b\" xlink:actuate=\"onRequest\" xlink:href=\"psysml:078c16df-6fb3-4d69-bd0c-6c240437776b\" xlink:show=\"new\" xlink:title=\"psysml:078c16df-6fb3-4d69-bd0c-6c240437776b\" xlink:type=\"simple\"><path d=\"M97,87.06 C97,98.64 97,113.23 97,126.87 \" fill=\"none\" id=\"E10-&gt;E7\" style=\"stroke: #A80036; stroke-width: 1.0;\"/><polygon fill=\"#FFFFFF\" points=\"97,146.98,90,127.98,104,127.98,97,146.98\" style=\"stroke: #A80036; stroke-width: 1.0;\"/><ellipse cx=\"92\" cy=\"122.28\" fill=\"#A80036\" rx=\"2\" ry=\"2\" style=\"stroke: #A80036; stroke-width: 1.0;\"/><ellipse cx=\"102\" cy=\"122.28\" fill=\"#A80036\" rx=\"2\" ry=\"2\" style=\"stroke: #A80036; stroke-width: 1.0;\"/></a><!--MD5=[6a3e5ffd18c3cd00767e754eda6942e8]\n",
       "@startuml\r\n",
       "skinparam wrapWidth 300\r\n",
       "hide circle\r\n",
       "\r\n",
       "package \"Q\" as E1  [[psysml:c58eea24-2ccf-44f2-b6e8-e98c7ec17236 ]]  {\r\n",
       "comp def \"F\" as E2  <<(T,blue)part def>> [[psysml:a4e187a3-203e-405d-be98-97d147693ddf ]] {\r\n",
       "}\r\n",
       "comp usage \"a\" as E3  <<(T,blue)part>> [[psysml:6ada620e-a181-4489-89b5-9a75fb715758 ]] {\r\n",
       "}\r\n",
       "comp usage \"f: F\" as E4  <<(T,blue)part>> [[psysml:90a61716-c53d-4f92-beb5-5068bb9fa1a0 ]] {\r\n",
       "}\r\n",
       "comp def \"A\" as E5  <<(T,blue)part def>> [[psysml:282ebd08-29d1-4bc9-b49b-68a749240d69 ]] {\r\n",
       "}\r\n",
       "comp usage \"g\" as E6  <<(T,blue)part>> [[psysml:ba34075d-eebc-4755-94e7-ca84c5a458cd ]] {\r\n",
       "}\r\n",
       "comp def \"B\" as E7  <<(T,blue)part def>> [[psysml:88191fe6-4f94-4991-8591-be7eb93db47e ]] {\r\n",
       "}\r\n",
       "comp usage \"f: F\" as E8  <<(T,blue)part>> [[psysml:ab65aa6d-a5a6-4b47-8167-56da9e982a64 ]] {\r\n",
       "}\r\n",
       "comp usage \"a: A\" as E9  <<(T,blue)part>> [[psysml:624da0d4-2cfd-4aae-83e5-be6cf87688fa ]] {\r\n",
       "}\r\n",
       "comp usage \"b: B\" as E10  <<(T,blue)part>> [[psysml:5c182589-a5f3-41ec-a644-db6857a5c19a ]] {\r\n",
       "}\r\n",
       "E2 *- - E3 [[psysml:f4f335e8-ebb2-4b93-b8a2-3184b124f9b4 ]] \r\n",
       "E4 - -:|> E2 [[psysml:6b545197-59fa-4019-832b-0413d8dfad43 ]] \r\n",
       "E5 *- - E6 [[psysml:42a57766-d710-4931-98ca-f2942df4b5a7 ]] \r\n",
       "E7 *- - E8 [[psysml:ee3500c3-1d32-470f-b6bb-e11a5c090a2b ]] \r\n",
       "E8 - -:|> E2 [[psysml:385ac8e9-821f-48a2-9a91-91f0503517ad ]] \r\n",
       "E7 *- - E9 [[psysml:4dc3c190-fff9-4cfd-9ec6-604d7dd22971 ]] \r\n",
       "E9 - -:|> E5 [[psysml:e6457602-7adc-4ee0-a454-eb40d686de5b ]] \r\n",
       "E10 - -:|> E7 [[psysml:078c16df-6fb3-4d69-bd0c-6c240437776b ]] \r\n",
       "}\r\n",
       "@enduml\r\n",
       "\n",
       "PlantUML version 1.2020.13(Sat Jun 13 12:26:38 UTC 2020)\n",
       "(EPL source distribution)\n",
       "Java Runtime: OpenJDK Runtime Environment\n",
       "JVM: OpenJDK 64-Bit Server VM\n",
       "Default Encoding: UTF-8\n",
       "Language: en\n",
       "Country: null\n",
       "--></g></svg>"
      ]
     },
     "execution_count": 29,
     "metadata": {},
     "output_type": "execute_result"
    }
   ],
   "source": [
    "%viz --style=\"STDCOLOR\" --view=\"MIXED\" \"Q\""
   ]
  },
  {
   "cell_type": "code",
   "execution_count": 30,
   "id": "f492070c",
   "metadata": {
    "execution": {
     "iopub.execute_input": "2021-05-27T06:11:59.944530Z",
     "iopub.status.busy": "2021-05-27T06:11:59.944024Z",
     "iopub.status.idle": "2021-05-27T06:11:59.997472Z",
     "shell.execute_reply": "2021-05-27T06:11:59.997104Z"
    }
   },
   "outputs": [
    {
     "data": {
      "image/svg+xml": [
       "<?xml version=\"1.0\" encoding=\"UTF-8\" standalone=\"no\"?><svg xmlns=\"http://www.w3.org/2000/svg\" xmlns:xlink=\"http://www.w3.org/1999/xlink\" contentScriptType=\"application/ecmascript\" contentStyleType=\"text/css\" height=\"527px\" preserveAspectRatio=\"none\" style=\"width:344px;height:527px;\" version=\"1.1\" viewBox=\"0 0 344 527\" width=\"344px\" zoomAndPan=\"magnify\"><defs><filter height=\"300%\" id=\"f1bzc5fs7x6zm0\" width=\"300%\" x=\"-1\" y=\"-1\"><feGaussianBlur result=\"blurOut\" stdDeviation=\"2.0\"/><feColorMatrix in=\"blurOut\" result=\"blurOut2\" type=\"matrix\" values=\"0 0 0 0 0 0 0 0 0 0 0 0 0 0 0 0 0 0 .4 0\"/><feOffset dx=\"4.0\" dy=\"4.0\" in=\"blurOut2\" result=\"blurOut3\"/><feBlend in=\"SourceGraphic\" in2=\"blurOut3\" mode=\"normal\"/></filter></defs><g><!--MD5=[fbc87193dbaf4d95561dea2c320d4a47]\n",
       "cluster E1--><a href=\"psysml:c58eea24-2ccf-44f2-b6e8-e98c7ec17236\" target=\"_top\" title=\"psysml:c58eea24-2ccf-44f2-b6e8-e98c7ec17236\" xlink:actuate=\"onRequest\" xlink:href=\"psysml:c58eea24-2ccf-44f2-b6e8-e98c7ec17236\" xlink:show=\"new\" xlink:title=\"psysml:c58eea24-2ccf-44f2-b6e8-e98c7ec17236\" xlink:type=\"simple\"><polygon fill=\"#FFFFFF\" filter=\"url(#f1bzc5fs7x6zm0)\" points=\"16,6,34,6,41,28.2969,322,28.2969,322,515,16,515,16,6\" style=\"stroke: #000000; stroke-width: 1.5;\"/><line style=\"stroke: #000000; stroke-width: 1.5;\" x1=\"16\" x2=\"41\" y1=\"28.2969\" y2=\"28.2969\"/><text fill=\"#000000\" font-family=\"sans-serif\" font-size=\"14\" font-weight=\"bold\" lengthAdjust=\"spacingAndGlyphs\" textLength=\"12\" x=\"20\" y=\"20.9951\">Q</text></a><!--MD5=[b4997ac47864f28c2f74865a473b2911]\n",
       "class E2--><a href=\"psysml:a4e187a3-203e-405d-be98-97d147693ddf\" target=\"_top\" title=\"psysml:a4e187a3-203e-405d-be98-97d147693ddf\" xlink:actuate=\"onRequest\" xlink:href=\"psysml:a4e187a3-203e-405d-be98-97d147693ddf\" xlink:show=\"new\" xlink:title=\"psysml:a4e187a3-203e-405d-be98-97d147693ddf\" xlink:type=\"simple\"><rect fill=\"#FEFECE\" filter=\"url(#f1bzc5fs7x6zm0)\" height=\"40\" id=\"E2\" style=\"stroke: #A80036; stroke-width: 1.5;\" width=\"39\" x=\"200.5\" y=\"353\"/><ellipse cx=\"215.5\" cy=\"369\" fill=\"#008000\" rx=\"11\" ry=\"11\" style=\"stroke: #A80036; stroke-width: 1.0;\"/><path d=\"M214.4063,369.375 L214.4063,373.0469 L216.0313,373.0469 Q217.2031,373.0469 217.6719,372.6563 Q218.1406,372.25 218.1406,371.25 Q218.1406,370.25 217.6406,369.8125 Q217.1563,369.375 216.0313,369.375 L214.4063,369.375 Z M214.4063,364.5469 L214.4063,367.4219 L216.0313,367.4219 Q216.9531,367.4219 217.3438,367.0938 Q217.75,366.75 217.75,366 Q217.75,365.2344 217.3438,364.8906 Q216.9375,364.5469 216.0313,364.5469 L214.4063,364.5469 Z M212.0313,362.5938 L216.0313,362.5938 Q218.0938,362.5938 219.1406,363.375 Q220.1875,364.1563 220.1875,365.7188 Q220.1875,366.9219 219.5625,367.5938 Q218.9531,368.2656 217.7656,368.375 Q219.1875,368.5156 219.9063,369.3281 Q220.625,370.1406 220.625,371.5938 Q220.625,373.3906 219.5469,374.2031 Q218.4688,375 216.0313,375 L212.0313,375 L212.0313,362.5938 Z \"/><text fill=\"#000000\" font-family=\"sans-serif\" font-size=\"12\" lengthAdjust=\"spacingAndGlyphs\" textLength=\"7\" x=\"229.5\" y=\"373.1543\">F</text><line style=\"stroke: #A80036; stroke-width: 1.5;\" x1=\"201.5\" x2=\"238.5\" y1=\"385\" y2=\"385\"/></a><!--MD5=[09b614a08d8cba4a07c9adeb5e0fee81]\n",
       "class E3--><a href=\"psysml:6ada620e-a181-4489-89b5-9a75fb715758\" target=\"_top\" title=\"psysml:6ada620e-a181-4489-89b5-9a75fb715758\" xlink:actuate=\"onRequest\" xlink:href=\"psysml:6ada620e-a181-4489-89b5-9a75fb715758\" xlink:show=\"new\" xlink:title=\"psysml:6ada620e-a181-4489-89b5-9a75fb715758\" xlink:type=\"simple\"><rect fill=\"#FEFECE\" filter=\"url(#f1bzc5fs7x6zm0)\" height=\"45.9375\" id=\"E3\" rx=\"10\" ry=\"10\" style=\"stroke: #A80036; stroke-width: 1.5;\" width=\"68\" x=\"186\" y=\"453\"/><ellipse cx=\"201\" cy=\"471.9688\" fill=\"#32CD32\" rx=\"11\" ry=\"11\" style=\"stroke: #A80036; stroke-width: 1.0;\"/><path d=\"M200.7969,467.6406 L200.7969,471.2656 L201.7969,471.2656 Q203,471.2656 203.4844,470.8594 Q203.9688,470.4531 203.9688,469.4531 Q203.9688,468.4531 203.4844,468.0469 Q203,467.6406 201.7969,467.6406 L200.7969,467.6406 Z M198.3438,465.5781 L201.7031,465.5781 Q204.2656,465.5781 205.3906,466.5 Q206.5156,467.4063 206.5156,469.4531 Q206.5156,471.5 205.3906,472.4219 Q204.2656,473.3281 201.7031,473.3281 L200.7969,473.3281 L200.7969,477.9688 L198.3438,477.9688 L198.3438,465.5781 Z \"/><text fill=\"#000000\" font-family=\"sans-serif\" font-size=\"12\" font-style=\"italic\" lengthAdjust=\"spacingAndGlyphs\" textLength=\"40\" x=\"213\" y=\"469.1387\">«part»</text><text fill=\"#000000\" font-family=\"sans-serif\" font-size=\"12\" lengthAdjust=\"spacingAndGlyphs\" textLength=\"8\" x=\"229\" y=\"483.1074\">a</text><line style=\"stroke: #A80036; stroke-width: 1.5;\" x1=\"187\" x2=\"253\" y1=\"490.9375\" y2=\"490.9375\"/></a><!--MD5=[ebbe1d658d1005bcc118a6aa81145e00]\n",
       "class E4--><a href=\"psysml:90a61716-c53d-4f92-beb5-5068bb9fa1a0\" target=\"_top\" title=\"psysml:90a61716-c53d-4f92-beb5-5068bb9fa1a0\" xlink:actuate=\"onRequest\" xlink:href=\"psysml:90a61716-c53d-4f92-beb5-5068bb9fa1a0\" xlink:show=\"new\" xlink:title=\"psysml:90a61716-c53d-4f92-beb5-5068bb9fa1a0\" xlink:type=\"simple\"><rect fill=\"#FEFECE\" filter=\"url(#f1bzc5fs7x6zm0)\" height=\"45.9375\" id=\"E4\" rx=\"10\" ry=\"10\" style=\"stroke: #A80036; stroke-width: 1.5;\" width=\"68\" x=\"238\" y=\"247\"/><ellipse cx=\"253\" cy=\"265.9688\" fill=\"#32CD32\" rx=\"11\" ry=\"11\" style=\"stroke: #A80036; stroke-width: 1.0;\"/><path d=\"M252.7969,261.6406 L252.7969,265.2656 L253.7969,265.2656 Q255,265.2656 255.4844,264.8594 Q255.9688,264.4531 255.9688,263.4531 Q255.9688,262.4531 255.4844,262.0469 Q255,261.6406 253.7969,261.6406 L252.7969,261.6406 Z M250.3438,259.5781 L253.7031,259.5781 Q256.2656,259.5781 257.3906,260.5 Q258.5156,261.4063 258.5156,263.4531 Q258.5156,265.5 257.3906,266.4219 Q256.2656,267.3281 253.7031,267.3281 L252.7969,267.3281 L252.7969,271.9688 L250.3438,271.9688 L250.3438,259.5781 Z \"/><text fill=\"#000000\" font-family=\"sans-serif\" font-size=\"12\" font-style=\"italic\" lengthAdjust=\"spacingAndGlyphs\" textLength=\"40\" x=\"265\" y=\"263.1387\">«part»</text><text fill=\"#000000\" font-family=\"sans-serif\" font-size=\"12\" lengthAdjust=\"spacingAndGlyphs\" textLength=\"19\" x=\"275.5\" y=\"277.1074\">f: F</text><line style=\"stroke: #A80036; stroke-width: 1.5;\" x1=\"239\" x2=\"305\" y1=\"284.9375\" y2=\"284.9375\"/></a><!--MD5=[270fce915f116d4de14055a7c1d9a0f3]\n",
       "class E5--><a href=\"psysml:282ebd08-29d1-4bc9-b49b-68a749240d69\" target=\"_top\" title=\"psysml:282ebd08-29d1-4bc9-b49b-68a749240d69\" xlink:actuate=\"onRequest\" xlink:href=\"psysml:282ebd08-29d1-4bc9-b49b-68a749240d69\" xlink:show=\"new\" xlink:title=\"psysml:282ebd08-29d1-4bc9-b49b-68a749240d69\" xlink:type=\"simple\"><rect fill=\"#FEFECE\" filter=\"url(#f1bzc5fs7x6zm0)\" height=\"40\" id=\"E5\" style=\"stroke: #A80036; stroke-width: 1.5;\" width=\"40\" x=\"46\" y=\"353\"/><ellipse cx=\"61\" cy=\"369\" fill=\"#008000\" rx=\"11\" ry=\"11\" style=\"stroke: #A80036; stroke-width: 1.0;\"/><path d=\"M59.9063,369.375 L59.9063,373.0469 L61.5313,373.0469 Q62.7031,373.0469 63.1719,372.6563 Q63.6406,372.25 63.6406,371.25 Q63.6406,370.25 63.1406,369.8125 Q62.6563,369.375 61.5313,369.375 L59.9063,369.375 Z M59.9063,364.5469 L59.9063,367.4219 L61.5313,367.4219 Q62.4531,367.4219 62.8438,367.0938 Q63.25,366.75 63.25,366 Q63.25,365.2344 62.8438,364.8906 Q62.4375,364.5469 61.5313,364.5469 L59.9063,364.5469 Z M57.5313,362.5938 L61.5313,362.5938 Q63.5938,362.5938 64.6406,363.375 Q65.6875,364.1563 65.6875,365.7188 Q65.6875,366.9219 65.0625,367.5938 Q64.4531,368.2656 63.2656,368.375 Q64.6875,368.5156 65.4063,369.3281 Q66.125,370.1406 66.125,371.5938 Q66.125,373.3906 65.0469,374.2031 Q63.9688,375 61.5313,375 L57.5313,375 L57.5313,362.5938 Z \"/><text fill=\"#000000\" font-family=\"sans-serif\" font-size=\"12\" lengthAdjust=\"spacingAndGlyphs\" textLength=\"8\" x=\"75\" y=\"373.1543\">A</text><line style=\"stroke: #A80036; stroke-width: 1.5;\" x1=\"47\" x2=\"85\" y1=\"385\" y2=\"385\"/></a><!--MD5=[60a26617385b1d2d0262a64233df1f8d]\n",
       "class E6--><a href=\"psysml:ba34075d-eebc-4755-94e7-ca84c5a458cd\" target=\"_top\" title=\"psysml:ba34075d-eebc-4755-94e7-ca84c5a458cd\" xlink:actuate=\"onRequest\" xlink:href=\"psysml:ba34075d-eebc-4755-94e7-ca84c5a458cd\" xlink:show=\"new\" xlink:title=\"psysml:ba34075d-eebc-4755-94e7-ca84c5a458cd\" xlink:type=\"simple\"><rect fill=\"#FEFECE\" filter=\"url(#f1bzc5fs7x6zm0)\" height=\"45.9375\" id=\"E6\" rx=\"10\" ry=\"10\" style=\"stroke: #A80036; stroke-width: 1.5;\" width=\"68\" x=\"32\" y=\"453\"/><ellipse cx=\"47\" cy=\"471.9688\" fill=\"#32CD32\" rx=\"11\" ry=\"11\" style=\"stroke: #A80036; stroke-width: 1.0;\"/><path d=\"M46.7969,467.6406 L46.7969,471.2656 L47.7969,471.2656 Q49,471.2656 49.4844,470.8594 Q49.9688,470.4531 49.9688,469.4531 Q49.9688,468.4531 49.4844,468.0469 Q49,467.6406 47.7969,467.6406 L46.7969,467.6406 Z M44.3438,465.5781 L47.7031,465.5781 Q50.2656,465.5781 51.3906,466.5 Q52.5156,467.4063 52.5156,469.4531 Q52.5156,471.5 51.3906,472.4219 Q50.2656,473.3281 47.7031,473.3281 L46.7969,473.3281 L46.7969,477.9688 L44.3438,477.9688 L44.3438,465.5781 Z \"/><text fill=\"#000000\" font-family=\"sans-serif\" font-size=\"12\" font-style=\"italic\" lengthAdjust=\"spacingAndGlyphs\" textLength=\"40\" x=\"59\" y=\"469.1387\">«part»</text><text fill=\"#000000\" font-family=\"sans-serif\" font-size=\"12\" lengthAdjust=\"spacingAndGlyphs\" textLength=\"8\" x=\"75\" y=\"483.1074\">g</text><line style=\"stroke: #A80036; stroke-width: 1.5;\" x1=\"33\" x2=\"99\" y1=\"490.9375\" y2=\"490.9375\"/></a><!--MD5=[2156ba9850f5573cc1fc38a6a4b2f02b]\n",
       "class E7--><a href=\"psysml:88191fe6-4f94-4991-8591-be7eb93db47e\" target=\"_top\" title=\"psysml:88191fe6-4f94-4991-8591-be7eb93db47e\" xlink:actuate=\"onRequest\" xlink:href=\"psysml:88191fe6-4f94-4991-8591-be7eb93db47e\" xlink:show=\"new\" xlink:title=\"psysml:88191fe6-4f94-4991-8591-be7eb93db47e\" xlink:type=\"simple\"><rect fill=\"#FEFECE\" filter=\"url(#f1bzc5fs7x6zm0)\" height=\"40\" id=\"E7\" style=\"stroke: #A80036; stroke-width: 1.5;\" width=\"40\" x=\"97\" y=\"147\"/><ellipse cx=\"112\" cy=\"163\" fill=\"#008000\" rx=\"11\" ry=\"11\" style=\"stroke: #A80036; stroke-width: 1.0;\"/><path d=\"M110.9063,163.375 L110.9063,167.0469 L112.5313,167.0469 Q113.7031,167.0469 114.1719,166.6563 Q114.6406,166.25 114.6406,165.25 Q114.6406,164.25 114.1406,163.8125 Q113.6563,163.375 112.5313,163.375 L110.9063,163.375 Z M110.9063,158.5469 L110.9063,161.4219 L112.5313,161.4219 Q113.4531,161.4219 113.8438,161.0938 Q114.25,160.75 114.25,160 Q114.25,159.2344 113.8438,158.8906 Q113.4375,158.5469 112.5313,158.5469 L110.9063,158.5469 Z M108.5313,156.5938 L112.5313,156.5938 Q114.5938,156.5938 115.6406,157.375 Q116.6875,158.1563 116.6875,159.7188 Q116.6875,160.9219 116.0625,161.5938 Q115.4531,162.2656 114.2656,162.375 Q115.6875,162.5156 116.4063,163.3281 Q117.125,164.1406 117.125,165.5938 Q117.125,167.3906 116.0469,168.2031 Q114.9688,169 112.5313,169 L108.5313,169 L108.5313,156.5938 Z \"/><text fill=\"#000000\" font-family=\"sans-serif\" font-size=\"12\" lengthAdjust=\"spacingAndGlyphs\" textLength=\"8\" x=\"126\" y=\"167.1543\">B</text><line style=\"stroke: #A80036; stroke-width: 1.5;\" x1=\"98\" x2=\"136\" y1=\"179\" y2=\"179\"/></a><!--MD5=[b9389687b975829384b498ac4b7476b2]\n",
       "class E8--><a href=\"psysml:ab65aa6d-a5a6-4b47-8167-56da9e982a64\" target=\"_top\" title=\"psysml:ab65aa6d-a5a6-4b47-8167-56da9e982a64\" xlink:actuate=\"onRequest\" xlink:href=\"psysml:ab65aa6d-a5a6-4b47-8167-56da9e982a64\" xlink:show=\"new\" xlink:title=\"psysml:ab65aa6d-a5a6-4b47-8167-56da9e982a64\" xlink:type=\"simple\"><rect fill=\"#FEFECE\" filter=\"url(#f1bzc5fs7x6zm0)\" height=\"45.9375\" id=\"E8\" rx=\"10\" ry=\"10\" style=\"stroke: #A80036; stroke-width: 1.5;\" width=\"68\" x=\"135\" y=\"247\"/><ellipse cx=\"150\" cy=\"265.9688\" fill=\"#32CD32\" rx=\"11\" ry=\"11\" style=\"stroke: #A80036; stroke-width: 1.0;\"/><path d=\"M149.7969,261.6406 L149.7969,265.2656 L150.7969,265.2656 Q152,265.2656 152.4844,264.8594 Q152.9688,264.4531 152.9688,263.4531 Q152.9688,262.4531 152.4844,262.0469 Q152,261.6406 150.7969,261.6406 L149.7969,261.6406 Z M147.3438,259.5781 L150.7031,259.5781 Q153.2656,259.5781 154.3906,260.5 Q155.5156,261.4063 155.5156,263.4531 Q155.5156,265.5 154.3906,266.4219 Q153.2656,267.3281 150.7031,267.3281 L149.7969,267.3281 L149.7969,271.9688 L147.3438,271.9688 L147.3438,259.5781 Z \"/><text fill=\"#000000\" font-family=\"sans-serif\" font-size=\"12\" font-style=\"italic\" lengthAdjust=\"spacingAndGlyphs\" textLength=\"40\" x=\"162\" y=\"263.1387\">«part»</text><text fill=\"#000000\" font-family=\"sans-serif\" font-size=\"12\" lengthAdjust=\"spacingAndGlyphs\" textLength=\"19\" x=\"172.5\" y=\"277.1074\">f: F</text><line style=\"stroke: #A80036; stroke-width: 1.5;\" x1=\"136\" x2=\"202\" y1=\"284.9375\" y2=\"284.9375\"/></a><!--MD5=[fd4143e9d270a159db93a4ea2a975926]\n",
       "class E9--><a href=\"psysml:624da0d4-2cfd-4aae-83e5-be6cf87688fa\" target=\"_top\" title=\"psysml:624da0d4-2cfd-4aae-83e5-be6cf87688fa\" xlink:actuate=\"onRequest\" xlink:href=\"psysml:624da0d4-2cfd-4aae-83e5-be6cf87688fa\" xlink:show=\"new\" xlink:title=\"psysml:624da0d4-2cfd-4aae-83e5-be6cf87688fa\" xlink:type=\"simple\"><rect fill=\"#FEFECE\" filter=\"url(#f1bzc5fs7x6zm0)\" height=\"45.9375\" id=\"E9\" rx=\"10\" ry=\"10\" style=\"stroke: #A80036; stroke-width: 1.5;\" width=\"68\" x=\"32\" y=\"247\"/><ellipse cx=\"47\" cy=\"265.9688\" fill=\"#32CD32\" rx=\"11\" ry=\"11\" style=\"stroke: #A80036; stroke-width: 1.0;\"/><path d=\"M46.7969,261.6406 L46.7969,265.2656 L47.7969,265.2656 Q49,265.2656 49.4844,264.8594 Q49.9688,264.4531 49.9688,263.4531 Q49.9688,262.4531 49.4844,262.0469 Q49,261.6406 47.7969,261.6406 L46.7969,261.6406 Z M44.3438,259.5781 L47.7031,259.5781 Q50.2656,259.5781 51.3906,260.5 Q52.5156,261.4063 52.5156,263.4531 Q52.5156,265.5 51.3906,266.4219 Q50.2656,267.3281 47.7031,267.3281 L46.7969,267.3281 L46.7969,271.9688 L44.3438,271.9688 L44.3438,259.5781 Z \"/><text fill=\"#000000\" font-family=\"sans-serif\" font-size=\"12\" font-style=\"italic\" lengthAdjust=\"spacingAndGlyphs\" textLength=\"40\" x=\"59\" y=\"263.1387\">«part»</text><text fill=\"#000000\" font-family=\"sans-serif\" font-size=\"12\" lengthAdjust=\"spacingAndGlyphs\" textLength=\"24\" x=\"67\" y=\"277.1074\">a: A</text><line style=\"stroke: #A80036; stroke-width: 1.5;\" x1=\"33\" x2=\"99\" y1=\"284.9375\" y2=\"284.9375\"/></a><!--MD5=[96f4274e9e20536e775497830990834d]\n",
       "class E10--><a href=\"psysml:5c182589-a5f3-41ec-a644-db6857a5c19a\" target=\"_top\" title=\"psysml:5c182589-a5f3-41ec-a644-db6857a5c19a\" xlink:actuate=\"onRequest\" xlink:href=\"psysml:5c182589-a5f3-41ec-a644-db6857a5c19a\" xlink:show=\"new\" xlink:title=\"psysml:5c182589-a5f3-41ec-a644-db6857a5c19a\" xlink:type=\"simple\"><rect fill=\"#FEFECE\" filter=\"url(#f1bzc5fs7x6zm0)\" height=\"45.9375\" id=\"E10\" rx=\"10\" ry=\"10\" style=\"stroke: #A80036; stroke-width: 1.5;\" width=\"68\" x=\"83\" y=\"41\"/><ellipse cx=\"98\" cy=\"59.9688\" fill=\"#32CD32\" rx=\"11\" ry=\"11\" style=\"stroke: #A80036; stroke-width: 1.0;\"/><path d=\"M97.7969,55.6406 L97.7969,59.2656 L98.7969,59.2656 Q100,59.2656 100.4844,58.8594 Q100.9688,58.4531 100.9688,57.4531 Q100.9688,56.4531 100.4844,56.0469 Q100,55.6406 98.7969,55.6406 L97.7969,55.6406 Z M95.3438,53.5781 L98.7031,53.5781 Q101.2656,53.5781 102.3906,54.5 Q103.5156,55.4063 103.5156,57.4531 Q103.5156,59.5 102.3906,60.4219 Q101.2656,61.3281 98.7031,61.3281 L97.7969,61.3281 L97.7969,65.9688 L95.3438,65.9688 L95.3438,53.5781 Z \"/><text fill=\"#000000\" font-family=\"sans-serif\" font-size=\"12\" font-style=\"italic\" lengthAdjust=\"spacingAndGlyphs\" textLength=\"40\" x=\"110\" y=\"57.1387\">«part»</text><text fill=\"#000000\" font-family=\"sans-serif\" font-size=\"12\" lengthAdjust=\"spacingAndGlyphs\" textLength=\"24\" x=\"118\" y=\"71.1074\">b: B</text><line style=\"stroke: #A80036; stroke-width: 1.5;\" x1=\"84\" x2=\"150\" y1=\"78.9375\" y2=\"78.9375\"/></a><!--MD5=[209b3feb70ccb6233bfe1053d122c12c]\n",
       "reverse link E2 to E3--><a href=\"psysml:f4f335e8-ebb2-4b93-b8a2-3184b124f9b4\" target=\"_top\" title=\"psysml:f4f335e8-ebb2-4b93-b8a2-3184b124f9b4\" xlink:actuate=\"onRequest\" xlink:href=\"psysml:f4f335e8-ebb2-4b93-b8a2-3184b124f9b4\" xlink:show=\"new\" xlink:title=\"psysml:f4f335e8-ebb2-4b93-b8a2-3184b124f9b4\" xlink:type=\"simple\"><path d=\"M220,406.47 C220,421.59 220,439.2 220,452.77 \" fill=\"none\" id=\"E2&lt;-E3\" style=\"stroke: #A80036; stroke-width: 1.0;\"/><polygon fill=\"#A80036\" points=\"220,393.47,216,399.47,220,405.47,224,399.47,220,393.47\" style=\"stroke: #A80036; stroke-width: 1.0;\"/></a><!--MD5=[185131fc0dcab0a4505a2ebe144e961b]\n",
       "link E4 to E2--><a href=\"psysml:6b545197-59fa-4019-832b-0413d8dfad43\" target=\"_top\" title=\"psysml:6b545197-59fa-4019-832b-0413d8dfad43\" xlink:actuate=\"onRequest\" xlink:href=\"psysml:6b545197-59fa-4019-832b-0413d8dfad43\" xlink:show=\"new\" xlink:title=\"psysml:6b545197-59fa-4019-832b-0413d8dfad43\" xlink:type=\"simple\"><path d=\"M260.46,293.42 C254.24,305.5 246.39,320.74 239.27,334.57 \" fill=\"none\" id=\"E4-&gt;E2\" style=\"stroke: #A80036; stroke-width: 1.0;\"/><polygon fill=\"#FFFFFF\" points=\"229.93,352.71,232.4037,332.6132,244.8508,339.0217,229.93,352.71\" style=\"stroke: #A80036; stroke-width: 1.0;\"/><ellipse cx=\"236.7911\" cy=\"328.461\" fill=\"#A80036\" rx=\"2\" ry=\"2\" style=\"stroke: #A80036; stroke-width: 1.0;\"/><ellipse cx=\"245.6819\" cy=\"333.0385\" fill=\"#A80036\" rx=\"2\" ry=\"2\" style=\"stroke: #A80036; stroke-width: 1.0;\"/></a><!--MD5=[85d356282659285ab4b2cfe2f634dd2b]\n",
       "reverse link E5 to E6--><a href=\"psysml:42a57766-d710-4931-98ca-f2942df4b5a7\" target=\"_top\" title=\"psysml:42a57766-d710-4931-98ca-f2942df4b5a7\" xlink:actuate=\"onRequest\" xlink:href=\"psysml:42a57766-d710-4931-98ca-f2942df4b5a7\" xlink:show=\"new\" xlink:title=\"psysml:42a57766-d710-4931-98ca-f2942df4b5a7\" xlink:type=\"simple\"><path d=\"M66,406.47 C66,421.59 66,439.2 66,452.77 \" fill=\"none\" id=\"E5&lt;-E6\" style=\"stroke: #A80036; stroke-width: 1.0;\"/><polygon fill=\"#A80036\" points=\"66,393.47,62,399.47,66,405.47,70,399.47,66,393.47\" style=\"stroke: #A80036; stroke-width: 1.0;\"/></a><!--MD5=[dc164f5e8a733ab456ef1add180e9e34]\n",
       "reverse link E7 to E8--><a href=\"psysml:ee3500c3-1d32-470f-b6bb-e11a5c090a2b\" target=\"_top\" title=\"psysml:ee3500c3-1d32-470f-b6bb-e11a5c090a2b\" xlink:actuate=\"onRequest\" xlink:href=\"psysml:ee3500c3-1d32-470f-b6bb-e11a5c090a2b\" xlink:show=\"new\" xlink:title=\"psysml:ee3500c3-1d32-470f-b6bb-e11a5c090a2b\" xlink:type=\"simple\"><path d=\"M133.01,199.09 C140.95,214.51 150.35,232.78 157.56,246.77 \" fill=\"none\" id=\"E7&lt;-E8\" style=\"stroke: #A80036; stroke-width: 1.0;\"/><polygon fill=\"#A80036\" points=\"127.03,187.47,126.2165,194.6351,132.5176,198.1418,133.331,190.9767,127.03,187.47\" style=\"stroke: #A80036; stroke-width: 1.0;\"/></a><!--MD5=[f1f3f9f2fc535e6147756cb86a7f2e32]\n",
       "link E8 to E2--><a href=\"psysml:385ac8e9-821f-48a2-9a91-91f0503517ad\" target=\"_top\" title=\"psysml:385ac8e9-821f-48a2-9a91-91f0503517ad\" xlink:actuate=\"onRequest\" xlink:href=\"psysml:385ac8e9-821f-48a2-9a91-91f0503517ad\" xlink:show=\"new\" xlink:title=\"psysml:385ac8e9-821f-48a2-9a91-91f0503517ad\" xlink:type=\"simple\"><path d=\"M180.32,293.42 C186.42,305.5 194.11,320.74 201.1,334.57 \" fill=\"none\" id=\"E8-&gt;E2\" style=\"stroke: #A80036; stroke-width: 1.0;\"/><polygon fill=\"#FFFFFF\" points=\"210.26,352.71,195.4445,338.9078,207.9403,332.5949,210.26,352.71\" style=\"stroke: #A80036; stroke-width: 1.0;\"/><ellipse cx=\"194.6593\" cy=\"332.9184\" fill=\"#A80036\" rx=\"2\" ry=\"2\" style=\"stroke: #A80036; stroke-width: 1.0;\"/><ellipse cx=\"203.5849\" cy=\"328.4091\" fill=\"#A80036\" rx=\"2\" ry=\"2\" style=\"stroke: #A80036; stroke-width: 1.0;\"/></a><!--MD5=[e4a10ef82d0e328e31cac39a31e58dda]\n",
       "reverse link E7 to E9--><a href=\"psysml:4dc3c190-fff9-4cfd-9ec6-604d7dd22971\" target=\"_top\" title=\"psysml:4dc3c190-fff9-4cfd-9ec6-604d7dd22971\" xlink:actuate=\"onRequest\" xlink:href=\"psysml:4dc3c190-fff9-4cfd-9ec6-604d7dd22971\" xlink:show=\"new\" xlink:title=\"psysml:4dc3c190-fff9-4cfd-9ec6-604d7dd22971\" xlink:type=\"simple\"><path d=\"M101.3,199.09 C93.51,214.51 84.29,232.78 77.22,246.77 \" fill=\"none\" id=\"E7&lt;-E9\" style=\"stroke: #A80036; stroke-width: 1.0;\"/><polygon fill=\"#A80036\" points=\"107.17,187.47,100.895,191.0231,101.7613,198.1819,108.0363,194.6289,107.17,187.47\" style=\"stroke: #A80036; stroke-width: 1.0;\"/></a><!--MD5=[bfc3ddf2e613be37104f658f09af896c]\n",
       "link E9 to E5--><a href=\"psysml:e6457602-7adc-4ee0-a454-eb40d686de5b\" target=\"_top\" title=\"psysml:e6457602-7adc-4ee0-a454-eb40d686de5b\" xlink:actuate=\"onRequest\" xlink:href=\"psysml:e6457602-7adc-4ee0-a454-eb40d686de5b\" xlink:show=\"new\" xlink:title=\"psysml:e6457602-7adc-4ee0-a454-eb40d686de5b\" xlink:type=\"simple\"><path d=\"M66,293.42 C66,304.95 66,319.34 66,332.65 \" fill=\"none\" id=\"E9-&gt;E5\" style=\"stroke: #A80036; stroke-width: 1.0;\"/><polygon fill=\"#FFFFFF\" points=\"66,352.71,59,333.71,73,333.71,66,352.71\" style=\"stroke: #A80036; stroke-width: 1.0;\"/><ellipse cx=\"61\" cy=\"328.01\" fill=\"#A80036\" rx=\"2\" ry=\"2\" style=\"stroke: #A80036; stroke-width: 1.0;\"/><ellipse cx=\"71\" cy=\"328.01\" fill=\"#A80036\" rx=\"2\" ry=\"2\" style=\"stroke: #A80036; stroke-width: 1.0;\"/></a><!--MD5=[a919e0967d6f3de553dc51b9865a1d6d]\n",
       "link E10 to E7--><a href=\"psysml:078c16df-6fb3-4d69-bd0c-6c240437776b\" target=\"_top\" title=\"psysml:078c16df-6fb3-4d69-bd0c-6c240437776b\" xlink:actuate=\"onRequest\" xlink:href=\"psysml:078c16df-6fb3-4d69-bd0c-6c240437776b\" xlink:show=\"new\" xlink:title=\"psysml:078c16df-6fb3-4d69-bd0c-6c240437776b\" xlink:type=\"simple\"><path d=\"M117,87.42 C117,98.95 117,113.34 117,126.65 \" fill=\"none\" id=\"E10-&gt;E7\" style=\"stroke: #A80036; stroke-width: 1.0;\"/><polygon fill=\"#FFFFFF\" points=\"117,146.71,110,127.71,124,127.71,117,146.71\" style=\"stroke: #A80036; stroke-width: 1.0;\"/><ellipse cx=\"112\" cy=\"122.01\" fill=\"#A80036\" rx=\"2\" ry=\"2\" style=\"stroke: #A80036; stroke-width: 1.0;\"/><ellipse cx=\"122\" cy=\"122.01\" fill=\"#A80036\" rx=\"2\" ry=\"2\" style=\"stroke: #A80036; stroke-width: 1.0;\"/></a><!--MD5=[62529e636522679930743bef3412052f]\n",
       "@startuml\r\n",
       " \r\n",
       "package \"Q\" as E1  [[psysml:c58eea24-2ccf-44f2-b6e8-e98c7ec17236 ]]  {\r\n",
       "comp def \"F\" as E2  << (B,green) >> [[psysml:a4e187a3-203e-405d-be98-97d147693ddf ]] {\r\n",
       "}\r\n",
       "comp usage \"a\" as E3  << (P,limegreen) part>> [[psysml:6ada620e-a181-4489-89b5-9a75fb715758 ]] {\r\n",
       "}\r\n",
       "comp usage \"f: F\" as E4  << (P,limegreen) part>> [[psysml:90a61716-c53d-4f92-beb5-5068bb9fa1a0 ]] {\r\n",
       "}\r\n",
       "comp def \"A\" as E5  << (B,green) >> [[psysml:282ebd08-29d1-4bc9-b49b-68a749240d69 ]] {\r\n",
       "}\r\n",
       "comp usage \"g\" as E6  << (P,limegreen) part>> [[psysml:ba34075d-eebc-4755-94e7-ca84c5a458cd ]] {\r\n",
       "}\r\n",
       "comp def \"B\" as E7  << (B,green) >> [[psysml:88191fe6-4f94-4991-8591-be7eb93db47e ]] {\r\n",
       "}\r\n",
       "comp usage \"f: F\" as E8  << (P,limegreen) part>> [[psysml:ab65aa6d-a5a6-4b47-8167-56da9e982a64 ]] {\r\n",
       "}\r\n",
       "comp usage \"a: A\" as E9  << (P,limegreen) part>> [[psysml:624da0d4-2cfd-4aae-83e5-be6cf87688fa ]] {\r\n",
       "}\r\n",
       "comp usage \"b: B\" as E10  << (P,limegreen) part>> [[psysml:5c182589-a5f3-41ec-a644-db6857a5c19a ]] {\r\n",
       "}\r\n",
       "E2 *- - E3 [[psysml:f4f335e8-ebb2-4b93-b8a2-3184b124f9b4 ]] \r\n",
       "E4 - -:|> E2 [[psysml:6b545197-59fa-4019-832b-0413d8dfad43 ]] \r\n",
       "E5 *- - E6 [[psysml:42a57766-d710-4931-98ca-f2942df4b5a7 ]] \r\n",
       "E7 *- - E8 [[psysml:ee3500c3-1d32-470f-b6bb-e11a5c090a2b ]] \r\n",
       "E8 - -:|> E2 [[psysml:385ac8e9-821f-48a2-9a91-91f0503517ad ]] \r\n",
       "E7 *- - E9 [[psysml:4dc3c190-fff9-4cfd-9ec6-604d7dd22971 ]] \r\n",
       "E9 - -:|> E5 [[psysml:e6457602-7adc-4ee0-a454-eb40d686de5b ]] \r\n",
       "E10 - -:|> E7 [[psysml:078c16df-6fb3-4d69-bd0c-6c240437776b ]] \r\n",
       "}\r\n",
       "@enduml\r\n",
       "\n",
       "PlantUML version 1.2020.13(Sat Jun 13 12:26:38 UTC 2020)\n",
       "(EPL source distribution)\n",
       "Java Runtime: OpenJDK Runtime Environment\n",
       "JVM: OpenJDK 64-Bit Server VM\n",
       "Default Encoding: UTF-8\n",
       "Language: en\n",
       "Country: null\n",
       "--></g></svg>"
      ]
     },
     "execution_count": 30,
     "metadata": {},
     "output_type": "execute_result"
    }
   ],
   "source": [
    "%viz --style=\"PLANTUML\" --view=\"Default\" \"Q\""
   ]
  },
  {
   "cell_type": "code",
   "execution_count": 31,
   "id": "62d504af",
   "metadata": {
    "execution": {
     "iopub.execute_input": "2021-05-27T06:12:00.048996Z",
     "iopub.status.busy": "2021-05-27T06:12:00.048557Z",
     "iopub.status.idle": "2021-05-27T06:12:00.086965Z",
     "shell.execute_reply": "2021-05-27T06:12:00.087218Z"
    }
   },
   "outputs": [
    {
     "data": {
      "image/svg+xml": [
       "<?xml version=\"1.0\" encoding=\"UTF-8\" standalone=\"no\"?><svg xmlns=\"http://www.w3.org/2000/svg\" xmlns:xlink=\"http://www.w3.org/1999/xlink\" contentScriptType=\"application/ecmascript\" contentStyleType=\"text/css\" height=\"527px\" preserveAspectRatio=\"none\" style=\"width:344px;height:527px;\" version=\"1.1\" viewBox=\"0 0 344 527\" width=\"344px\" zoomAndPan=\"magnify\"><defs><filter height=\"300%\" id=\"f1bzc5fs7x6zm0\" width=\"300%\" x=\"-1\" y=\"-1\"><feGaussianBlur result=\"blurOut\" stdDeviation=\"2.0\"/><feColorMatrix in=\"blurOut\" result=\"blurOut2\" type=\"matrix\" values=\"0 0 0 0 0 0 0 0 0 0 0 0 0 0 0 0 0 0 .4 0\"/><feOffset dx=\"4.0\" dy=\"4.0\" in=\"blurOut2\" result=\"blurOut3\"/><feBlend in=\"SourceGraphic\" in2=\"blurOut3\" mode=\"normal\"/></filter></defs><g><!--MD5=[fbc87193dbaf4d95561dea2c320d4a47]\n",
       "cluster E1--><a href=\"psysml:c58eea24-2ccf-44f2-b6e8-e98c7ec17236\" target=\"_top\" title=\"psysml:c58eea24-2ccf-44f2-b6e8-e98c7ec17236\" xlink:actuate=\"onRequest\" xlink:href=\"psysml:c58eea24-2ccf-44f2-b6e8-e98c7ec17236\" xlink:show=\"new\" xlink:title=\"psysml:c58eea24-2ccf-44f2-b6e8-e98c7ec17236\" xlink:type=\"simple\"><polygon fill=\"#FFFFFF\" filter=\"url(#f1bzc5fs7x6zm0)\" points=\"16,6,34,6,41,28.2969,322,28.2969,322,515,16,515,16,6\" style=\"stroke: #000000; stroke-width: 1.5;\"/><line style=\"stroke: #000000; stroke-width: 1.5;\" x1=\"16\" x2=\"41\" y1=\"28.2969\" y2=\"28.2969\"/><text fill=\"#000000\" font-family=\"sans-serif\" font-size=\"14\" font-weight=\"bold\" lengthAdjust=\"spacingAndGlyphs\" textLength=\"12\" x=\"20\" y=\"20.9951\">Q</text></a><!--MD5=[b4997ac47864f28c2f74865a473b2911]\n",
       "class E2--><a href=\"psysml:a4e187a3-203e-405d-be98-97d147693ddf\" target=\"_top\" title=\"psysml:a4e187a3-203e-405d-be98-97d147693ddf\" xlink:actuate=\"onRequest\" xlink:href=\"psysml:a4e187a3-203e-405d-be98-97d147693ddf\" xlink:show=\"new\" xlink:title=\"psysml:a4e187a3-203e-405d-be98-97d147693ddf\" xlink:type=\"simple\"><rect fill=\"#FEFECE\" filter=\"url(#f1bzc5fs7x6zm0)\" height=\"40\" id=\"E2\" style=\"stroke: #A80036; stroke-width: 1.5;\" width=\"39\" x=\"200.5\" y=\"353\"/><ellipse cx=\"215.5\" cy=\"369\" fill=\"#008000\" rx=\"11\" ry=\"11\" style=\"stroke: #A80036; stroke-width: 1.0;\"/><path d=\"M214.4063,369.375 L214.4063,373.0469 L216.0313,373.0469 Q217.2031,373.0469 217.6719,372.6563 Q218.1406,372.25 218.1406,371.25 Q218.1406,370.25 217.6406,369.8125 Q217.1563,369.375 216.0313,369.375 L214.4063,369.375 Z M214.4063,364.5469 L214.4063,367.4219 L216.0313,367.4219 Q216.9531,367.4219 217.3438,367.0938 Q217.75,366.75 217.75,366 Q217.75,365.2344 217.3438,364.8906 Q216.9375,364.5469 216.0313,364.5469 L214.4063,364.5469 Z M212.0313,362.5938 L216.0313,362.5938 Q218.0938,362.5938 219.1406,363.375 Q220.1875,364.1563 220.1875,365.7188 Q220.1875,366.9219 219.5625,367.5938 Q218.9531,368.2656 217.7656,368.375 Q219.1875,368.5156 219.9063,369.3281 Q220.625,370.1406 220.625,371.5938 Q220.625,373.3906 219.5469,374.2031 Q218.4688,375 216.0313,375 L212.0313,375 L212.0313,362.5938 Z \"/><text fill=\"#000000\" font-family=\"sans-serif\" font-size=\"12\" lengthAdjust=\"spacingAndGlyphs\" textLength=\"7\" x=\"229.5\" y=\"373.1543\">F</text><line style=\"stroke: #A80036; stroke-width: 1.5;\" x1=\"201.5\" x2=\"238.5\" y1=\"385\" y2=\"385\"/></a><!--MD5=[09b614a08d8cba4a07c9adeb5e0fee81]\n",
       "class E3--><a href=\"psysml:6ada620e-a181-4489-89b5-9a75fb715758\" target=\"_top\" title=\"psysml:6ada620e-a181-4489-89b5-9a75fb715758\" xlink:actuate=\"onRequest\" xlink:href=\"psysml:6ada620e-a181-4489-89b5-9a75fb715758\" xlink:show=\"new\" xlink:title=\"psysml:6ada620e-a181-4489-89b5-9a75fb715758\" xlink:type=\"simple\"><rect fill=\"#FEFECE\" filter=\"url(#f1bzc5fs7x6zm0)\" height=\"45.9375\" id=\"E3\" rx=\"10\" ry=\"10\" style=\"stroke: #A80036; stroke-width: 1.5;\" width=\"68\" x=\"186\" y=\"453\"/><ellipse cx=\"201\" cy=\"471.9688\" fill=\"#32CD32\" rx=\"11\" ry=\"11\" style=\"stroke: #A80036; stroke-width: 1.0;\"/><path d=\"M200.7969,467.6406 L200.7969,471.2656 L201.7969,471.2656 Q203,471.2656 203.4844,470.8594 Q203.9688,470.4531 203.9688,469.4531 Q203.9688,468.4531 203.4844,468.0469 Q203,467.6406 201.7969,467.6406 L200.7969,467.6406 Z M198.3438,465.5781 L201.7031,465.5781 Q204.2656,465.5781 205.3906,466.5 Q206.5156,467.4063 206.5156,469.4531 Q206.5156,471.5 205.3906,472.4219 Q204.2656,473.3281 201.7031,473.3281 L200.7969,473.3281 L200.7969,477.9688 L198.3438,477.9688 L198.3438,465.5781 Z \"/><text fill=\"#000000\" font-family=\"sans-serif\" font-size=\"12\" font-style=\"italic\" lengthAdjust=\"spacingAndGlyphs\" textLength=\"40\" x=\"213\" y=\"469.1387\">«part»</text><text fill=\"#000000\" font-family=\"sans-serif\" font-size=\"12\" lengthAdjust=\"spacingAndGlyphs\" textLength=\"8\" x=\"229\" y=\"483.1074\">a</text><line style=\"stroke: #A80036; stroke-width: 1.5;\" x1=\"187\" x2=\"253\" y1=\"490.9375\" y2=\"490.9375\"/></a><!--MD5=[ebbe1d658d1005bcc118a6aa81145e00]\n",
       "class E4--><a href=\"psysml:90a61716-c53d-4f92-beb5-5068bb9fa1a0\" target=\"_top\" title=\"psysml:90a61716-c53d-4f92-beb5-5068bb9fa1a0\" xlink:actuate=\"onRequest\" xlink:href=\"psysml:90a61716-c53d-4f92-beb5-5068bb9fa1a0\" xlink:show=\"new\" xlink:title=\"psysml:90a61716-c53d-4f92-beb5-5068bb9fa1a0\" xlink:type=\"simple\"><rect fill=\"#FEFECE\" filter=\"url(#f1bzc5fs7x6zm0)\" height=\"45.9375\" id=\"E4\" rx=\"10\" ry=\"10\" style=\"stroke: #A80036; stroke-width: 1.5;\" width=\"68\" x=\"238\" y=\"247\"/><ellipse cx=\"253\" cy=\"265.9688\" fill=\"#32CD32\" rx=\"11\" ry=\"11\" style=\"stroke: #A80036; stroke-width: 1.0;\"/><path d=\"M252.7969,261.6406 L252.7969,265.2656 L253.7969,265.2656 Q255,265.2656 255.4844,264.8594 Q255.9688,264.4531 255.9688,263.4531 Q255.9688,262.4531 255.4844,262.0469 Q255,261.6406 253.7969,261.6406 L252.7969,261.6406 Z M250.3438,259.5781 L253.7031,259.5781 Q256.2656,259.5781 257.3906,260.5 Q258.5156,261.4063 258.5156,263.4531 Q258.5156,265.5 257.3906,266.4219 Q256.2656,267.3281 253.7031,267.3281 L252.7969,267.3281 L252.7969,271.9688 L250.3438,271.9688 L250.3438,259.5781 Z \"/><text fill=\"#000000\" font-family=\"sans-serif\" font-size=\"12\" font-style=\"italic\" lengthAdjust=\"spacingAndGlyphs\" textLength=\"40\" x=\"265\" y=\"263.1387\">«part»</text><text fill=\"#000000\" font-family=\"sans-serif\" font-size=\"12\" lengthAdjust=\"spacingAndGlyphs\" textLength=\"19\" x=\"275.5\" y=\"277.1074\">f: F</text><line style=\"stroke: #A80036; stroke-width: 1.5;\" x1=\"239\" x2=\"305\" y1=\"284.9375\" y2=\"284.9375\"/></a><!--MD5=[270fce915f116d4de14055a7c1d9a0f3]\n",
       "class E5--><a href=\"psysml:282ebd08-29d1-4bc9-b49b-68a749240d69\" target=\"_top\" title=\"psysml:282ebd08-29d1-4bc9-b49b-68a749240d69\" xlink:actuate=\"onRequest\" xlink:href=\"psysml:282ebd08-29d1-4bc9-b49b-68a749240d69\" xlink:show=\"new\" xlink:title=\"psysml:282ebd08-29d1-4bc9-b49b-68a749240d69\" xlink:type=\"simple\"><rect fill=\"#FEFECE\" filter=\"url(#f1bzc5fs7x6zm0)\" height=\"40\" id=\"E5\" style=\"stroke: #A80036; stroke-width: 1.5;\" width=\"40\" x=\"46\" y=\"353\"/><ellipse cx=\"61\" cy=\"369\" fill=\"#008000\" rx=\"11\" ry=\"11\" style=\"stroke: #A80036; stroke-width: 1.0;\"/><path d=\"M59.9063,369.375 L59.9063,373.0469 L61.5313,373.0469 Q62.7031,373.0469 63.1719,372.6563 Q63.6406,372.25 63.6406,371.25 Q63.6406,370.25 63.1406,369.8125 Q62.6563,369.375 61.5313,369.375 L59.9063,369.375 Z M59.9063,364.5469 L59.9063,367.4219 L61.5313,367.4219 Q62.4531,367.4219 62.8438,367.0938 Q63.25,366.75 63.25,366 Q63.25,365.2344 62.8438,364.8906 Q62.4375,364.5469 61.5313,364.5469 L59.9063,364.5469 Z M57.5313,362.5938 L61.5313,362.5938 Q63.5938,362.5938 64.6406,363.375 Q65.6875,364.1563 65.6875,365.7188 Q65.6875,366.9219 65.0625,367.5938 Q64.4531,368.2656 63.2656,368.375 Q64.6875,368.5156 65.4063,369.3281 Q66.125,370.1406 66.125,371.5938 Q66.125,373.3906 65.0469,374.2031 Q63.9688,375 61.5313,375 L57.5313,375 L57.5313,362.5938 Z \"/><text fill=\"#000000\" font-family=\"sans-serif\" font-size=\"12\" lengthAdjust=\"spacingAndGlyphs\" textLength=\"8\" x=\"75\" y=\"373.1543\">A</text><line style=\"stroke: #A80036; stroke-width: 1.5;\" x1=\"47\" x2=\"85\" y1=\"385\" y2=\"385\"/></a><!--MD5=[60a26617385b1d2d0262a64233df1f8d]\n",
       "class E6--><a href=\"psysml:ba34075d-eebc-4755-94e7-ca84c5a458cd\" target=\"_top\" title=\"psysml:ba34075d-eebc-4755-94e7-ca84c5a458cd\" xlink:actuate=\"onRequest\" xlink:href=\"psysml:ba34075d-eebc-4755-94e7-ca84c5a458cd\" xlink:show=\"new\" xlink:title=\"psysml:ba34075d-eebc-4755-94e7-ca84c5a458cd\" xlink:type=\"simple\"><rect fill=\"#FEFECE\" filter=\"url(#f1bzc5fs7x6zm0)\" height=\"45.9375\" id=\"E6\" rx=\"10\" ry=\"10\" style=\"stroke: #A80036; stroke-width: 1.5;\" width=\"68\" x=\"32\" y=\"453\"/><ellipse cx=\"47\" cy=\"471.9688\" fill=\"#32CD32\" rx=\"11\" ry=\"11\" style=\"stroke: #A80036; stroke-width: 1.0;\"/><path d=\"M46.7969,467.6406 L46.7969,471.2656 L47.7969,471.2656 Q49,471.2656 49.4844,470.8594 Q49.9688,470.4531 49.9688,469.4531 Q49.9688,468.4531 49.4844,468.0469 Q49,467.6406 47.7969,467.6406 L46.7969,467.6406 Z M44.3438,465.5781 L47.7031,465.5781 Q50.2656,465.5781 51.3906,466.5 Q52.5156,467.4063 52.5156,469.4531 Q52.5156,471.5 51.3906,472.4219 Q50.2656,473.3281 47.7031,473.3281 L46.7969,473.3281 L46.7969,477.9688 L44.3438,477.9688 L44.3438,465.5781 Z \"/><text fill=\"#000000\" font-family=\"sans-serif\" font-size=\"12\" font-style=\"italic\" lengthAdjust=\"spacingAndGlyphs\" textLength=\"40\" x=\"59\" y=\"469.1387\">«part»</text><text fill=\"#000000\" font-family=\"sans-serif\" font-size=\"12\" lengthAdjust=\"spacingAndGlyphs\" textLength=\"8\" x=\"75\" y=\"483.1074\">g</text><line style=\"stroke: #A80036; stroke-width: 1.5;\" x1=\"33\" x2=\"99\" y1=\"490.9375\" y2=\"490.9375\"/></a><!--MD5=[2156ba9850f5573cc1fc38a6a4b2f02b]\n",
       "class E7--><a href=\"psysml:88191fe6-4f94-4991-8591-be7eb93db47e\" target=\"_top\" title=\"psysml:88191fe6-4f94-4991-8591-be7eb93db47e\" xlink:actuate=\"onRequest\" xlink:href=\"psysml:88191fe6-4f94-4991-8591-be7eb93db47e\" xlink:show=\"new\" xlink:title=\"psysml:88191fe6-4f94-4991-8591-be7eb93db47e\" xlink:type=\"simple\"><rect fill=\"#FEFECE\" filter=\"url(#f1bzc5fs7x6zm0)\" height=\"40\" id=\"E7\" style=\"stroke: #A80036; stroke-width: 1.5;\" width=\"40\" x=\"97\" y=\"147\"/><ellipse cx=\"112\" cy=\"163\" fill=\"#008000\" rx=\"11\" ry=\"11\" style=\"stroke: #A80036; stroke-width: 1.0;\"/><path d=\"M110.9063,163.375 L110.9063,167.0469 L112.5313,167.0469 Q113.7031,167.0469 114.1719,166.6563 Q114.6406,166.25 114.6406,165.25 Q114.6406,164.25 114.1406,163.8125 Q113.6563,163.375 112.5313,163.375 L110.9063,163.375 Z M110.9063,158.5469 L110.9063,161.4219 L112.5313,161.4219 Q113.4531,161.4219 113.8438,161.0938 Q114.25,160.75 114.25,160 Q114.25,159.2344 113.8438,158.8906 Q113.4375,158.5469 112.5313,158.5469 L110.9063,158.5469 Z M108.5313,156.5938 L112.5313,156.5938 Q114.5938,156.5938 115.6406,157.375 Q116.6875,158.1563 116.6875,159.7188 Q116.6875,160.9219 116.0625,161.5938 Q115.4531,162.2656 114.2656,162.375 Q115.6875,162.5156 116.4063,163.3281 Q117.125,164.1406 117.125,165.5938 Q117.125,167.3906 116.0469,168.2031 Q114.9688,169 112.5313,169 L108.5313,169 L108.5313,156.5938 Z \"/><text fill=\"#000000\" font-family=\"sans-serif\" font-size=\"12\" lengthAdjust=\"spacingAndGlyphs\" textLength=\"8\" x=\"126\" y=\"167.1543\">B</text><line style=\"stroke: #A80036; stroke-width: 1.5;\" x1=\"98\" x2=\"136\" y1=\"179\" y2=\"179\"/></a><!--MD5=[b9389687b975829384b498ac4b7476b2]\n",
       "class E8--><a href=\"psysml:ab65aa6d-a5a6-4b47-8167-56da9e982a64\" target=\"_top\" title=\"psysml:ab65aa6d-a5a6-4b47-8167-56da9e982a64\" xlink:actuate=\"onRequest\" xlink:href=\"psysml:ab65aa6d-a5a6-4b47-8167-56da9e982a64\" xlink:show=\"new\" xlink:title=\"psysml:ab65aa6d-a5a6-4b47-8167-56da9e982a64\" xlink:type=\"simple\"><rect fill=\"#FEFECE\" filter=\"url(#f1bzc5fs7x6zm0)\" height=\"45.9375\" id=\"E8\" rx=\"10\" ry=\"10\" style=\"stroke: #A80036; stroke-width: 1.5;\" width=\"68\" x=\"135\" y=\"247\"/><ellipse cx=\"150\" cy=\"265.9688\" fill=\"#32CD32\" rx=\"11\" ry=\"11\" style=\"stroke: #A80036; stroke-width: 1.0;\"/><path d=\"M149.7969,261.6406 L149.7969,265.2656 L150.7969,265.2656 Q152,265.2656 152.4844,264.8594 Q152.9688,264.4531 152.9688,263.4531 Q152.9688,262.4531 152.4844,262.0469 Q152,261.6406 150.7969,261.6406 L149.7969,261.6406 Z M147.3438,259.5781 L150.7031,259.5781 Q153.2656,259.5781 154.3906,260.5 Q155.5156,261.4063 155.5156,263.4531 Q155.5156,265.5 154.3906,266.4219 Q153.2656,267.3281 150.7031,267.3281 L149.7969,267.3281 L149.7969,271.9688 L147.3438,271.9688 L147.3438,259.5781 Z \"/><text fill=\"#000000\" font-family=\"sans-serif\" font-size=\"12\" font-style=\"italic\" lengthAdjust=\"spacingAndGlyphs\" textLength=\"40\" x=\"162\" y=\"263.1387\">«part»</text><text fill=\"#000000\" font-family=\"sans-serif\" font-size=\"12\" lengthAdjust=\"spacingAndGlyphs\" textLength=\"19\" x=\"172.5\" y=\"277.1074\">f: F</text><line style=\"stroke: #A80036; stroke-width: 1.5;\" x1=\"136\" x2=\"202\" y1=\"284.9375\" y2=\"284.9375\"/></a><!--MD5=[fd4143e9d270a159db93a4ea2a975926]\n",
       "class E9--><a href=\"psysml:624da0d4-2cfd-4aae-83e5-be6cf87688fa\" target=\"_top\" title=\"psysml:624da0d4-2cfd-4aae-83e5-be6cf87688fa\" xlink:actuate=\"onRequest\" xlink:href=\"psysml:624da0d4-2cfd-4aae-83e5-be6cf87688fa\" xlink:show=\"new\" xlink:title=\"psysml:624da0d4-2cfd-4aae-83e5-be6cf87688fa\" xlink:type=\"simple\"><rect fill=\"#FEFECE\" filter=\"url(#f1bzc5fs7x6zm0)\" height=\"45.9375\" id=\"E9\" rx=\"10\" ry=\"10\" style=\"stroke: #A80036; stroke-width: 1.5;\" width=\"68\" x=\"32\" y=\"247\"/><ellipse cx=\"47\" cy=\"265.9688\" fill=\"#32CD32\" rx=\"11\" ry=\"11\" style=\"stroke: #A80036; stroke-width: 1.0;\"/><path d=\"M46.7969,261.6406 L46.7969,265.2656 L47.7969,265.2656 Q49,265.2656 49.4844,264.8594 Q49.9688,264.4531 49.9688,263.4531 Q49.9688,262.4531 49.4844,262.0469 Q49,261.6406 47.7969,261.6406 L46.7969,261.6406 Z M44.3438,259.5781 L47.7031,259.5781 Q50.2656,259.5781 51.3906,260.5 Q52.5156,261.4063 52.5156,263.4531 Q52.5156,265.5 51.3906,266.4219 Q50.2656,267.3281 47.7031,267.3281 L46.7969,267.3281 L46.7969,271.9688 L44.3438,271.9688 L44.3438,259.5781 Z \"/><text fill=\"#000000\" font-family=\"sans-serif\" font-size=\"12\" font-style=\"italic\" lengthAdjust=\"spacingAndGlyphs\" textLength=\"40\" x=\"59\" y=\"263.1387\">«part»</text><text fill=\"#000000\" font-family=\"sans-serif\" font-size=\"12\" lengthAdjust=\"spacingAndGlyphs\" textLength=\"24\" x=\"67\" y=\"277.1074\">a: A</text><line style=\"stroke: #A80036; stroke-width: 1.5;\" x1=\"33\" x2=\"99\" y1=\"284.9375\" y2=\"284.9375\"/></a><!--MD5=[96f4274e9e20536e775497830990834d]\n",
       "class E10--><a href=\"psysml:5c182589-a5f3-41ec-a644-db6857a5c19a\" target=\"_top\" title=\"psysml:5c182589-a5f3-41ec-a644-db6857a5c19a\" xlink:actuate=\"onRequest\" xlink:href=\"psysml:5c182589-a5f3-41ec-a644-db6857a5c19a\" xlink:show=\"new\" xlink:title=\"psysml:5c182589-a5f3-41ec-a644-db6857a5c19a\" xlink:type=\"simple\"><rect fill=\"#FEFECE\" filter=\"url(#f1bzc5fs7x6zm0)\" height=\"45.9375\" id=\"E10\" rx=\"10\" ry=\"10\" style=\"stroke: #A80036; stroke-width: 1.5;\" width=\"68\" x=\"83\" y=\"41\"/><ellipse cx=\"98\" cy=\"59.9688\" fill=\"#32CD32\" rx=\"11\" ry=\"11\" style=\"stroke: #A80036; stroke-width: 1.0;\"/><path d=\"M97.7969,55.6406 L97.7969,59.2656 L98.7969,59.2656 Q100,59.2656 100.4844,58.8594 Q100.9688,58.4531 100.9688,57.4531 Q100.9688,56.4531 100.4844,56.0469 Q100,55.6406 98.7969,55.6406 L97.7969,55.6406 Z M95.3438,53.5781 L98.7031,53.5781 Q101.2656,53.5781 102.3906,54.5 Q103.5156,55.4063 103.5156,57.4531 Q103.5156,59.5 102.3906,60.4219 Q101.2656,61.3281 98.7031,61.3281 L97.7969,61.3281 L97.7969,65.9688 L95.3438,65.9688 L95.3438,53.5781 Z \"/><text fill=\"#000000\" font-family=\"sans-serif\" font-size=\"12\" font-style=\"italic\" lengthAdjust=\"spacingAndGlyphs\" textLength=\"40\" x=\"110\" y=\"57.1387\">«part»</text><text fill=\"#000000\" font-family=\"sans-serif\" font-size=\"12\" lengthAdjust=\"spacingAndGlyphs\" textLength=\"24\" x=\"118\" y=\"71.1074\">b: B</text><line style=\"stroke: #A80036; stroke-width: 1.5;\" x1=\"84\" x2=\"150\" y1=\"78.9375\" y2=\"78.9375\"/></a><!--MD5=[209b3feb70ccb6233bfe1053d122c12c]\n",
       "reverse link E2 to E3--><a href=\"psysml:f4f335e8-ebb2-4b93-b8a2-3184b124f9b4\" target=\"_top\" title=\"psysml:f4f335e8-ebb2-4b93-b8a2-3184b124f9b4\" xlink:actuate=\"onRequest\" xlink:href=\"psysml:f4f335e8-ebb2-4b93-b8a2-3184b124f9b4\" xlink:show=\"new\" xlink:title=\"psysml:f4f335e8-ebb2-4b93-b8a2-3184b124f9b4\" xlink:type=\"simple\"><path d=\"M220,406.47 C220,421.59 220,439.2 220,452.77 \" fill=\"none\" id=\"E2&lt;-E3\" style=\"stroke: #A80036; stroke-width: 1.0;\"/><polygon fill=\"#A80036\" points=\"220,393.47,216,399.47,220,405.47,224,399.47,220,393.47\" style=\"stroke: #A80036; stroke-width: 1.0;\"/></a><!--MD5=[185131fc0dcab0a4505a2ebe144e961b]\n",
       "link E4 to E2--><a href=\"psysml:6b545197-59fa-4019-832b-0413d8dfad43\" target=\"_top\" title=\"psysml:6b545197-59fa-4019-832b-0413d8dfad43\" xlink:actuate=\"onRequest\" xlink:href=\"psysml:6b545197-59fa-4019-832b-0413d8dfad43\" xlink:show=\"new\" xlink:title=\"psysml:6b545197-59fa-4019-832b-0413d8dfad43\" xlink:type=\"simple\"><path d=\"M260.46,293.42 C254.24,305.5 246.39,320.74 239.27,334.57 \" fill=\"none\" id=\"E4-&gt;E2\" style=\"stroke: #A80036; stroke-width: 1.0;\"/><polygon fill=\"#FFFFFF\" points=\"229.93,352.71,232.4037,332.6132,244.8508,339.0217,229.93,352.71\" style=\"stroke: #A80036; stroke-width: 1.0;\"/><ellipse cx=\"236.7911\" cy=\"328.461\" fill=\"#A80036\" rx=\"2\" ry=\"2\" style=\"stroke: #A80036; stroke-width: 1.0;\"/><ellipse cx=\"245.6819\" cy=\"333.0385\" fill=\"#A80036\" rx=\"2\" ry=\"2\" style=\"stroke: #A80036; stroke-width: 1.0;\"/></a><!--MD5=[85d356282659285ab4b2cfe2f634dd2b]\n",
       "reverse link E5 to E6--><a href=\"psysml:42a57766-d710-4931-98ca-f2942df4b5a7\" target=\"_top\" title=\"psysml:42a57766-d710-4931-98ca-f2942df4b5a7\" xlink:actuate=\"onRequest\" xlink:href=\"psysml:42a57766-d710-4931-98ca-f2942df4b5a7\" xlink:show=\"new\" xlink:title=\"psysml:42a57766-d710-4931-98ca-f2942df4b5a7\" xlink:type=\"simple\"><path d=\"M66,406.47 C66,421.59 66,439.2 66,452.77 \" fill=\"none\" id=\"E5&lt;-E6\" style=\"stroke: #A80036; stroke-width: 1.0;\"/><polygon fill=\"#A80036\" points=\"66,393.47,62,399.47,66,405.47,70,399.47,66,393.47\" style=\"stroke: #A80036; stroke-width: 1.0;\"/></a><!--MD5=[dc164f5e8a733ab456ef1add180e9e34]\n",
       "reverse link E7 to E8--><a href=\"psysml:ee3500c3-1d32-470f-b6bb-e11a5c090a2b\" target=\"_top\" title=\"psysml:ee3500c3-1d32-470f-b6bb-e11a5c090a2b\" xlink:actuate=\"onRequest\" xlink:href=\"psysml:ee3500c3-1d32-470f-b6bb-e11a5c090a2b\" xlink:show=\"new\" xlink:title=\"psysml:ee3500c3-1d32-470f-b6bb-e11a5c090a2b\" xlink:type=\"simple\"><path d=\"M133.01,199.09 C140.95,214.51 150.35,232.78 157.56,246.77 \" fill=\"none\" id=\"E7&lt;-E8\" style=\"stroke: #A80036; stroke-width: 1.0;\"/><polygon fill=\"#A80036\" points=\"127.03,187.47,126.2165,194.6351,132.5176,198.1418,133.331,190.9767,127.03,187.47\" style=\"stroke: #A80036; stroke-width: 1.0;\"/></a><!--MD5=[f1f3f9f2fc535e6147756cb86a7f2e32]\n",
       "link E8 to E2--><a href=\"psysml:385ac8e9-821f-48a2-9a91-91f0503517ad\" target=\"_top\" title=\"psysml:385ac8e9-821f-48a2-9a91-91f0503517ad\" xlink:actuate=\"onRequest\" xlink:href=\"psysml:385ac8e9-821f-48a2-9a91-91f0503517ad\" xlink:show=\"new\" xlink:title=\"psysml:385ac8e9-821f-48a2-9a91-91f0503517ad\" xlink:type=\"simple\"><path d=\"M180.32,293.42 C186.42,305.5 194.11,320.74 201.1,334.57 \" fill=\"none\" id=\"E8-&gt;E2\" style=\"stroke: #A80036; stroke-width: 1.0;\"/><polygon fill=\"#FFFFFF\" points=\"210.26,352.71,195.4445,338.9078,207.9403,332.5949,210.26,352.71\" style=\"stroke: #A80036; stroke-width: 1.0;\"/><ellipse cx=\"194.6593\" cy=\"332.9184\" fill=\"#A80036\" rx=\"2\" ry=\"2\" style=\"stroke: #A80036; stroke-width: 1.0;\"/><ellipse cx=\"203.5849\" cy=\"328.4091\" fill=\"#A80036\" rx=\"2\" ry=\"2\" style=\"stroke: #A80036; stroke-width: 1.0;\"/></a><!--MD5=[e4a10ef82d0e328e31cac39a31e58dda]\n",
       "reverse link E7 to E9--><a href=\"psysml:4dc3c190-fff9-4cfd-9ec6-604d7dd22971\" target=\"_top\" title=\"psysml:4dc3c190-fff9-4cfd-9ec6-604d7dd22971\" xlink:actuate=\"onRequest\" xlink:href=\"psysml:4dc3c190-fff9-4cfd-9ec6-604d7dd22971\" xlink:show=\"new\" xlink:title=\"psysml:4dc3c190-fff9-4cfd-9ec6-604d7dd22971\" xlink:type=\"simple\"><path d=\"M101.3,199.09 C93.51,214.51 84.29,232.78 77.22,246.77 \" fill=\"none\" id=\"E7&lt;-E9\" style=\"stroke: #A80036; stroke-width: 1.0;\"/><polygon fill=\"#A80036\" points=\"107.17,187.47,100.895,191.0231,101.7613,198.1819,108.0363,194.6289,107.17,187.47\" style=\"stroke: #A80036; stroke-width: 1.0;\"/></a><!--MD5=[bfc3ddf2e613be37104f658f09af896c]\n",
       "link E9 to E5--><a href=\"psysml:e6457602-7adc-4ee0-a454-eb40d686de5b\" target=\"_top\" title=\"psysml:e6457602-7adc-4ee0-a454-eb40d686de5b\" xlink:actuate=\"onRequest\" xlink:href=\"psysml:e6457602-7adc-4ee0-a454-eb40d686de5b\" xlink:show=\"new\" xlink:title=\"psysml:e6457602-7adc-4ee0-a454-eb40d686de5b\" xlink:type=\"simple\"><path d=\"M66,293.42 C66,304.95 66,319.34 66,332.65 \" fill=\"none\" id=\"E9-&gt;E5\" style=\"stroke: #A80036; stroke-width: 1.0;\"/><polygon fill=\"#FFFFFF\" points=\"66,352.71,59,333.71,73,333.71,66,352.71\" style=\"stroke: #A80036; stroke-width: 1.0;\"/><ellipse cx=\"61\" cy=\"328.01\" fill=\"#A80036\" rx=\"2\" ry=\"2\" style=\"stroke: #A80036; stroke-width: 1.0;\"/><ellipse cx=\"71\" cy=\"328.01\" fill=\"#A80036\" rx=\"2\" ry=\"2\" style=\"stroke: #A80036; stroke-width: 1.0;\"/></a><!--MD5=[a919e0967d6f3de553dc51b9865a1d6d]\n",
       "link E10 to E7--><a href=\"psysml:078c16df-6fb3-4d69-bd0c-6c240437776b\" target=\"_top\" title=\"psysml:078c16df-6fb3-4d69-bd0c-6c240437776b\" xlink:actuate=\"onRequest\" xlink:href=\"psysml:078c16df-6fb3-4d69-bd0c-6c240437776b\" xlink:show=\"new\" xlink:title=\"psysml:078c16df-6fb3-4d69-bd0c-6c240437776b\" xlink:type=\"simple\"><path d=\"M117,87.42 C117,98.95 117,113.34 117,126.65 \" fill=\"none\" id=\"E10-&gt;E7\" style=\"stroke: #A80036; stroke-width: 1.0;\"/><polygon fill=\"#FFFFFF\" points=\"117,146.71,110,127.71,124,127.71,117,146.71\" style=\"stroke: #A80036; stroke-width: 1.0;\"/><ellipse cx=\"112\" cy=\"122.01\" fill=\"#A80036\" rx=\"2\" ry=\"2\" style=\"stroke: #A80036; stroke-width: 1.0;\"/><ellipse cx=\"122\" cy=\"122.01\" fill=\"#A80036\" rx=\"2\" ry=\"2\" style=\"stroke: #A80036; stroke-width: 1.0;\"/></a><!--MD5=[62529e636522679930743bef3412052f]\n",
       "@startuml\r\n",
       " \r\n",
       "package \"Q\" as E1  [[psysml:c58eea24-2ccf-44f2-b6e8-e98c7ec17236 ]]  {\r\n",
       "comp def \"F\" as E2  << (B,green) >> [[psysml:a4e187a3-203e-405d-be98-97d147693ddf ]] {\r\n",
       "}\r\n",
       "comp usage \"a\" as E3  << (P,limegreen) part>> [[psysml:6ada620e-a181-4489-89b5-9a75fb715758 ]] {\r\n",
       "}\r\n",
       "comp usage \"f: F\" as E4  << (P,limegreen) part>> [[psysml:90a61716-c53d-4f92-beb5-5068bb9fa1a0 ]] {\r\n",
       "}\r\n",
       "comp def \"A\" as E5  << (B,green) >> [[psysml:282ebd08-29d1-4bc9-b49b-68a749240d69 ]] {\r\n",
       "}\r\n",
       "comp usage \"g\" as E6  << (P,limegreen) part>> [[psysml:ba34075d-eebc-4755-94e7-ca84c5a458cd ]] {\r\n",
       "}\r\n",
       "comp def \"B\" as E7  << (B,green) >> [[psysml:88191fe6-4f94-4991-8591-be7eb93db47e ]] {\r\n",
       "}\r\n",
       "comp usage \"f: F\" as E8  << (P,limegreen) part>> [[psysml:ab65aa6d-a5a6-4b47-8167-56da9e982a64 ]] {\r\n",
       "}\r\n",
       "comp usage \"a: A\" as E9  << (P,limegreen) part>> [[psysml:624da0d4-2cfd-4aae-83e5-be6cf87688fa ]] {\r\n",
       "}\r\n",
       "comp usage \"b: B\" as E10  << (P,limegreen) part>> [[psysml:5c182589-a5f3-41ec-a644-db6857a5c19a ]] {\r\n",
       "}\r\n",
       "E2 *- - E3 [[psysml:f4f335e8-ebb2-4b93-b8a2-3184b124f9b4 ]] \r\n",
       "E4 - -:|> E2 [[psysml:6b545197-59fa-4019-832b-0413d8dfad43 ]] \r\n",
       "E5 *- - E6 [[psysml:42a57766-d710-4931-98ca-f2942df4b5a7 ]] \r\n",
       "E7 *- - E8 [[psysml:ee3500c3-1d32-470f-b6bb-e11a5c090a2b ]] \r\n",
       "E8 - -:|> E2 [[psysml:385ac8e9-821f-48a2-9a91-91f0503517ad ]] \r\n",
       "E7 *- - E9 [[psysml:4dc3c190-fff9-4cfd-9ec6-604d7dd22971 ]] \r\n",
       "E9 - -:|> E5 [[psysml:e6457602-7adc-4ee0-a454-eb40d686de5b ]] \r\n",
       "E10 - -:|> E7 [[psysml:078c16df-6fb3-4d69-bd0c-6c240437776b ]] \r\n",
       "}\r\n",
       "@enduml\r\n",
       "\n",
       "PlantUML version 1.2020.13(Sat Jun 13 12:26:38 UTC 2020)\n",
       "(EPL source distribution)\n",
       "Java Runtime: OpenJDK Runtime Environment\n",
       "JVM: OpenJDK 64-Bit Server VM\n",
       "Default Encoding: UTF-8\n",
       "Language: en\n",
       "Country: null\n",
       "--></g></svg>"
      ]
     },
     "execution_count": 31,
     "metadata": {},
     "output_type": "execute_result"
    }
   ],
   "source": [
    "%viz --style=\"PLANTUML\" --view=\"Tree\" \"Q\""
   ]
  },
  {
   "cell_type": "code",
   "execution_count": 32,
   "id": "4e5fefc1",
   "metadata": {
    "execution": {
     "iopub.execute_input": "2021-05-27T06:12:00.137847Z",
     "iopub.status.busy": "2021-05-27T06:12:00.137207Z",
     "iopub.status.idle": "2021-05-27T06:12:00.221777Z",
     "shell.execute_reply": "2021-05-27T06:12:00.220714Z"
    }
   },
   "outputs": [
    {
     "data": {
      "image/svg+xml": [
       "<?xml version=\"1.0\" encoding=\"UTF-8\" standalone=\"no\"?><svg xmlns=\"http://www.w3.org/2000/svg\" xmlns:xlink=\"http://www.w3.org/1999/xlink\" contentScriptType=\"application/ecmascript\" contentStyleType=\"text/css\" height=\"303px\" preserveAspectRatio=\"none\" style=\"width:603px;height:303px;background:#000000;\" version=\"1.1\" viewBox=\"0 0 603 303\" width=\"603px\" zoomAndPan=\"magnify\"><defs/><g><rect fill=\"#1A1621\" height=\"1\" style=\"stroke: #1A1621; stroke-width: 1.0;\" width=\"1\" x=\"0\" y=\"0\"/><rect fill=\"#FFFFFF\" height=\"205.5625\" style=\"stroke: #FFFFFF; stroke-width: 1.0;\" width=\"602\" x=\"0\" y=\"0\"/><text fill=\"#000000\" font-family=\"sans-serif\" font-size=\"12\" font-weight=\"bold\" lengthAdjust=\"spacingAndGlyphs\" textLength=\"159\" x=\"5\" y=\"16.1387\">Welcome to PlantUML!</text><text fill=\"#000000\" font-family=\"sans-serif\" font-size=\"12\" lengthAdjust=\"spacingAndGlyphs\" textLength=\"0\" x=\"9\" y=\"30.1074\"/><text fill=\"#000000\" font-family=\"sans-serif\" font-size=\"12\" lengthAdjust=\"spacingAndGlyphs\" textLength=\"293\" x=\"5\" y=\"44.0762\">If you use this software, you accept its license.</text><text fill=\"#000000\" font-family=\"sans-serif\" font-size=\"12\" lengthAdjust=\"spacingAndGlyphs\" textLength=\"107\" x=\"5\" y=\"58.0449\">(details by typing</text><text fill=\"#000000\" font-family=\"monospace\" font-size=\"12\" lengthAdjust=\"spacingAndGlyphs\" textLength=\"49\" x=\"116\" y=\"58.0449\">license</text><text fill=\"#000000\" font-family=\"sans-serif\" font-size=\"12\" lengthAdjust=\"spacingAndGlyphs\" textLength=\"56\" x=\"169\" y=\"58.0449\">keyword)</text><text fill=\"#000000\" font-family=\"sans-serif\" font-size=\"12\" lengthAdjust=\"spacingAndGlyphs\" textLength=\"0\" x=\"9\" y=\"72.0137\"/><text fill=\"#000000\" font-family=\"sans-serif\" font-size=\"12\" lengthAdjust=\"spacingAndGlyphs\" textLength=\"283\" x=\"5\" y=\"85.9824\">You can start with a simple UML Diagram like:</text><text fill=\"#000000\" font-family=\"sans-serif\" font-size=\"12\" lengthAdjust=\"spacingAndGlyphs\" textLength=\"0\" x=\"9\" y=\"99.9512\"/><text fill=\"#000000\" font-family=\"monospace\" font-size=\"12\" lengthAdjust=\"spacingAndGlyphs\" textLength=\"119\" x=\"5\" y=\"113.9199\">Bob-&gt;Alice: Hello</text><text fill=\"#000000\" font-family=\"sans-serif\" font-size=\"12\" lengthAdjust=\"spacingAndGlyphs\" textLength=\"0\" x=\"9\" y=\"127.8887\"/><text fill=\"#000000\" font-family=\"sans-serif\" font-size=\"12\" lengthAdjust=\"spacingAndGlyphs\" textLength=\"14\" x=\"5\" y=\"141.8574\">Or</text><text fill=\"#000000\" font-family=\"sans-serif\" font-size=\"12\" lengthAdjust=\"spacingAndGlyphs\" textLength=\"0\" x=\"9\" y=\"155.8262\"/><text fill=\"#000000\" font-family=\"monospace\" font-size=\"12\" lengthAdjust=\"spacingAndGlyphs\" textLength=\"91\" x=\"5\" y=\"169.7949\">class Example</text><text fill=\"#000000\" font-family=\"sans-serif\" font-size=\"12\" lengthAdjust=\"spacingAndGlyphs\" textLength=\"0\" x=\"9\" y=\"183.7637\"/><text fill=\"#000000\" font-family=\"sans-serif\" font-size=\"12\" lengthAdjust=\"spacingAndGlyphs\" textLength=\"349\" x=\"5\" y=\"197.7324\">You will find more information about PlantUML syntax on</text><text fill=\"#000000\" font-family=\"sans-serif\" font-size=\"12\" lengthAdjust=\"spacingAndGlyphs\" text-decoration=\"underline\" textLength=\"129\" x=\"358\" y=\"197.7324\">https://plantuml.com</text><image height=\"71\" width=\"80\" x=\"516\" xlink:href=\"data:image/png;base64,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\" y=\"6\"/><rect fill=\"#000000\" height=\"96.4844\" style=\"stroke: #000000; stroke-width: 1.0;\" width=\"602\" x=\"0\" y=\"205.5625\"/><rect fill=\"#33FF02\" height=\"21.2969\" style=\"stroke: #33FF02; stroke-width: 1.0;\" width=\"170\" x=\"5\" y=\"210.5625\"/><text fill=\"#000000\" font-family=\"sans-serif\" font-size=\"14\" font-weight=\"bold\" lengthAdjust=\"spacingAndGlyphs\" textLength=\"168\" x=\"6\" y=\"225.5625\">[From string (line 2) ]</text><text fill=\"#33FF02\" font-family=\"sans-serif\" font-size=\"14\" font-weight=\"bold\" lengthAdjust=\"spacingAndGlyphs\" textLength=\"0\" x=\"10\" y=\"245.8594\"/><text fill=\"#33FF02\" font-family=\"sans-serif\" font-size=\"14\" font-weight=\"bold\" lengthAdjust=\"spacingAndGlyphs\" textLength=\"79\" x=\"5\" y=\"262.1563\">@startuml</text><text fill=\"#33FF02\" font-family=\"sans-serif\" font-size=\"14\" font-weight=\"bold\" lengthAdjust=\"spacingAndGlyphs\" textLength=\"0\" x=\"10\" y=\"278.4531\"/><text fill=\"#FF0000\" font-family=\"sans-serif\" font-size=\"14\" font-weight=\"bold\" lengthAdjust=\"spacingAndGlyphs\" textLength=\"142\" x=\"10\" y=\"294.75\">Empty description</text><!--MD5=[f59edd8218d337f74d0c332fc6737304]\n",
       "@startuml\r\n",
       " \r\n",
       "@enduml\r\n",
       "\n",
       "PlantUML version 1.2020.13(Sat Jun 13 12:26:38 UTC 2020)\n",
       "(EPL source distribution)\n",
       "Java Runtime: OpenJDK Runtime Environment\n",
       "JVM: OpenJDK 64-Bit Server VM\n",
       "Default Encoding: UTF-8\n",
       "Language: en\n",
       "Country: null\n",
       "--></g></svg>"
      ]
     },
     "execution_count": 32,
     "metadata": {},
     "output_type": "execute_result"
    }
   ],
   "source": [
    "%viz --style=\"PLANTUML\" --view=\"State\" \"Q\""
   ]
  },
  {
   "cell_type": "code",
   "execution_count": 33,
   "id": "75e066b9",
   "metadata": {
    "execution": {
     "iopub.execute_input": "2021-05-27T06:12:00.274042Z",
     "iopub.status.busy": "2021-05-27T06:12:00.273182Z",
     "iopub.status.idle": "2021-05-27T06:12:00.310144Z",
     "shell.execute_reply": "2021-05-27T06:12:00.308907Z"
    }
   },
   "outputs": [
    {
     "data": {
      "image/svg+xml": [
       "<?xml version=\"1.0\" encoding=\"UTF-8\" standalone=\"no\"?><svg xmlns=\"http://www.w3.org/2000/svg\" xmlns:xlink=\"http://www.w3.org/1999/xlink\" contentScriptType=\"application/ecmascript\" contentStyleType=\"text/css\" height=\"176px\" preserveAspectRatio=\"none\" style=\"width:675px;height:176px;\" version=\"1.1\" viewBox=\"0 0 675 176\" width=\"675px\" zoomAndPan=\"magnify\"><defs><filter height=\"300%\" id=\"f1jq5hg2wqyppc\" width=\"300%\" x=\"-1\" y=\"-1\"><feGaussianBlur result=\"blurOut\" stdDeviation=\"2.0\"/><feColorMatrix in=\"blurOut\" result=\"blurOut2\" type=\"matrix\" values=\"0 0 0 0 0 0 0 0 0 0 0 0 0 0 0 0 0 0 .4 0\"/><feOffset dx=\"4.0\" dy=\"4.0\" in=\"blurOut2\" result=\"blurOut3\"/><feBlend in=\"SourceGraphic\" in2=\"blurOut3\" mode=\"normal\"/></filter></defs><g><!--MD5=[fbc87193dbaf4d95561dea2c320d4a47]\n",
       "cluster E1--><a href=\"psysml:c58eea24-2ccf-44f2-b6e8-e98c7ec17236\" target=\"_top\" title=\"psysml:c58eea24-2ccf-44f2-b6e8-e98c7ec17236\" xlink:actuate=\"onRequest\" xlink:href=\"psysml:c58eea24-2ccf-44f2-b6e8-e98c7ec17236\" xlink:show=\"new\" xlink:title=\"psysml:c58eea24-2ccf-44f2-b6e8-e98c7ec17236\" xlink:type=\"simple\"><polygon fill=\"#FFFFFF\" filter=\"url(#f1jq5hg2wqyppc)\" points=\"16,6,34,6,41,28.2969,653,28.2969,653,164,16,164,16,6\" style=\"stroke: #000000; stroke-width: 1.5;\"/><line style=\"stroke: #000000; stroke-width: 1.5;\" x1=\"16\" x2=\"41\" y1=\"28.2969\" y2=\"28.2969\"/><text fill=\"#000000\" font-family=\"sans-serif\" font-size=\"14\" font-weight=\"bold\" lengthAdjust=\"spacingAndGlyphs\" textLength=\"12\" x=\"20\" y=\"20.9951\">Q</text></a><!--MD5=[e4f7fae6ed58524ba242bb0b0d3be6b7]\n",
       "cluster E2--><a href=\"psysml:a4e187a3-203e-405d-be98-97d147693ddf\" target=\"_top\" title=\"psysml:a4e187a3-203e-405d-be98-97d147693ddf\" xlink:actuate=\"onRequest\" xlink:href=\"psysml:a4e187a3-203e-405d-be98-97d147693ddf\" xlink:show=\"new\" xlink:title=\"psysml:a4e187a3-203e-405d-be98-97d147693ddf\" xlink:type=\"simple\"><rect fill=\"#FFFFFF\" filter=\"url(#f1jq5hg2wqyppc)\" height=\"91\" id=\"E2\" style=\"stroke: #A80036; stroke-width: 1.5;\" width=\"82\" x=\"547\" y=\"49\"/><rect fill=\"#FEFECE\" height=\"23.9688\" style=\"stroke: #A80036; stroke-width: 1.5;\" width=\"82\" x=\"547\" y=\"49\"/><text fill=\"#000000\" font-family=\"sans-serif\" font-size=\"12\" lengthAdjust=\"spacingAndGlyphs\" textLength=\"7\" x=\"584.5\" y=\"65.1387\">F</text></a><!--MD5=[de5ec2e2e8f62f467e546659f5068c88]\n",
       "cluster E5--><a href=\"psysml:282ebd08-29d1-4bc9-b49b-68a749240d69\" target=\"_top\" title=\"psysml:282ebd08-29d1-4bc9-b49b-68a749240d69\" xlink:actuate=\"onRequest\" xlink:href=\"psysml:282ebd08-29d1-4bc9-b49b-68a749240d69\" xlink:show=\"new\" xlink:title=\"psysml:282ebd08-29d1-4bc9-b49b-68a749240d69\" xlink:type=\"simple\"><rect fill=\"#FFFFFF\" filter=\"url(#f1jq5hg2wqyppc)\" height=\"91\" id=\"E5\" style=\"stroke: #A80036; stroke-width: 1.5;\" width=\"110\" x=\"413\" y=\"49\"/><rect fill=\"#FEFECE\" height=\"23.9688\" style=\"stroke: #A80036; stroke-width: 1.5;\" width=\"110\" x=\"413\" y=\"49\"/><text fill=\"#000000\" font-family=\"sans-serif\" font-size=\"12\" lengthAdjust=\"spacingAndGlyphs\" textLength=\"8\" x=\"464\" y=\"65.1387\">A</text></a><!--MD5=[168fadf3d0c3fd93dd5d6da1b1d7ab76]\n",
       "cluster E7--><a href=\"psysml:88191fe6-4f94-4991-8591-be7eb93db47e\" target=\"_top\" title=\"psysml:88191fe6-4f94-4991-8591-be7eb93db47e\" xlink:actuate=\"onRequest\" xlink:href=\"psysml:88191fe6-4f94-4991-8591-be7eb93db47e\" xlink:show=\"new\" xlink:title=\"psysml:88191fe6-4f94-4991-8591-be7eb93db47e\" xlink:type=\"simple\"><rect fill=\"#FFFFFF\" filter=\"url(#f1jq5hg2wqyppc)\" height=\"91\" id=\"E7\" style=\"stroke: #A80036; stroke-width: 1.5;\" width=\"185\" x=\"204\" y=\"49\"/><rect fill=\"#FEFECE\" height=\"23.9688\" style=\"stroke: #A80036; stroke-width: 1.5;\" width=\"185\" x=\"204\" y=\"49\"/><text fill=\"#000000\" font-family=\"sans-serif\" font-size=\"12\" lengthAdjust=\"spacingAndGlyphs\" textLength=\"8\" x=\"292.5\" y=\"65.1387\">B</text></a><g id=\"E1.E2.E3\"><a href=\"psysml:6ada620e-a181-4489-89b5-9a75fb715758\" target=\"_top\" title=\"psysml:6ada620e-a181-4489-89b5-9a75fb715758\" xlink:actuate=\"onRequest\" xlink:href=\"psysml:6ada620e-a181-4489-89b5-9a75fb715758\" xlink:show=\"new\" xlink:title=\"psysml:6ada620e-a181-4489-89b5-9a75fb715758\" xlink:type=\"simple\"><rect fill=\"#FEFECE\" filter=\"url(#f1jq5hg2wqyppc)\" height=\"40\" id=\"E3\" rx=\"10\" ry=\"10\" style=\"stroke: #A80036; stroke-width: 1.5;\" width=\"50\" x=\"563\" y=\"84\"/><ellipse cx=\"582.5\" cy=\"100\" fill=\"#B6DBBB\" rx=\"11\" ry=\"11\" style=\"stroke: #A80036; stroke-width: 1.0;\"/><path d=\"M578.375,101.9219 L578.375,94.1094 L580.8281,94.1094 L580.8281,102.5469 Q580.8281,103.4688 581.2969,104 Q581.7813,104.5313 582.6094,104.5313 Q583.4531,104.5313 583.9219,104 Q584.3906,103.4688 584.3906,102.5469 L584.3906,94.1094 L586.8438,94.1094 L586.8438,101.9219 Q586.8438,104.4531 585.8438,105.5938 Q584.8438,106.7344 582.6094,106.7344 Q580.3906,106.7344 579.375,105.5938 Q578.375,104.4531 578.375,101.9219 Z \"/><text fill=\"#000000\" font-family=\"sans-serif\" font-size=\"12\" lengthAdjust=\"spacingAndGlyphs\" textLength=\"8\" x=\"597.5\" y=\"104.1543\">a</text></a></g><g id=\"E1.E4\"><a href=\"psysml:90a61716-c53d-4f92-beb5-5068bb9fa1a0\" target=\"_top\" title=\"psysml:90a61716-c53d-4f92-beb5-5068bb9fa1a0\" xlink:actuate=\"onRequest\" xlink:href=\"psysml:90a61716-c53d-4f92-beb5-5068bb9fa1a0\" xlink:show=\"new\" xlink:title=\"psysml:90a61716-c53d-4f92-beb5-5068bb9fa1a0\" xlink:type=\"simple\"><rect fill=\"#FEFECE\" filter=\"url(#f1jq5hg2wqyppc)\" height=\"40\" id=\"E4\" rx=\"10\" ry=\"10\" style=\"stroke: #A80036; stroke-width: 1.5;\" width=\"56\" x=\"129\" y=\"84\"/><ellipse cx=\"146.25\" cy=\"100\" fill=\"#B6DBBB\" rx=\"11\" ry=\"11\" style=\"stroke: #A80036; stroke-width: 1.0;\"/><path d=\"M142.125,101.9219 L142.125,94.1094 L144.5781,94.1094 L144.5781,102.5469 Q144.5781,103.4688 145.0469,104 Q145.5313,104.5313 146.3594,104.5313 Q147.2031,104.5313 147.6719,104 Q148.1406,103.4688 148.1406,102.5469 L148.1406,94.1094 L150.5938,94.1094 L150.5938,101.9219 Q150.5938,104.4531 149.5938,105.5938 Q148.5938,106.7344 146.3594,106.7344 Q144.1406,106.7344 143.125,105.5938 Q142.125,104.4531 142.125,101.9219 Z \"/><text fill=\"#000000\" font-family=\"sans-serif\" font-size=\"12\" lengthAdjust=\"spacingAndGlyphs\" textLength=\"19\" x=\"160.75\" y=\"104.1543\">f: F</text></a></g><g id=\"E1.E5.E6\"><a href=\"psysml:ba34075d-eebc-4755-94e7-ca84c5a458cd\" target=\"_top\" title=\"psysml:ba34075d-eebc-4755-94e7-ca84c5a458cd\" xlink:actuate=\"onRequest\" xlink:href=\"psysml:ba34075d-eebc-4755-94e7-ca84c5a458cd\" xlink:show=\"new\" xlink:title=\"psysml:ba34075d-eebc-4755-94e7-ca84c5a458cd\" xlink:type=\"simple\"><rect fill=\"#FEFECE\" filter=\"url(#f1jq5hg2wqyppc)\" height=\"40\" id=\"E6\" rx=\"10\" ry=\"10\" style=\"stroke: #A80036; stroke-width: 1.5;\" width=\"79\" x=\"428.5\" y=\"84\"/><ellipse cx=\"445.75\" cy=\"100\" fill=\"#B6DBBB\" rx=\"11\" ry=\"11\" style=\"stroke: #A80036; stroke-width: 1.0;\"/><path d=\"M441.625,101.9219 L441.625,94.1094 L444.0781,94.1094 L444.0781,102.5469 Q444.0781,103.4688 444.5469,104 Q445.0313,104.5313 445.8594,104.5313 Q446.7031,104.5313 447.1719,104 Q447.6406,103.4688 447.6406,102.5469 L447.6406,94.1094 L450.0938,94.1094 L450.0938,101.9219 Q450.0938,104.4531 449.0938,105.5938 Q448.0938,106.7344 445.8594,106.7344 Q443.6406,106.7344 442.625,105.5938 Q441.625,104.4531 441.625,101.9219 Z \"/><text fill=\"#000000\" font-family=\"sans-serif\" font-size=\"12\" lengthAdjust=\"spacingAndGlyphs\" textLength=\"38\" x=\"460.25\" y=\"104.1543\">g=f.a;</text></a></g><g id=\"E1.E7.E8\"><a href=\"psysml:ab65aa6d-a5a6-4b47-8167-56da9e982a64\" target=\"_top\" title=\"psysml:ab65aa6d-a5a6-4b47-8167-56da9e982a64\" xlink:actuate=\"onRequest\" xlink:href=\"psysml:ab65aa6d-a5a6-4b47-8167-56da9e982a64\" xlink:show=\"new\" xlink:title=\"psysml:ab65aa6d-a5a6-4b47-8167-56da9e982a64\" xlink:type=\"simple\"><rect fill=\"#FEFECE\" filter=\"url(#f1jq5hg2wqyppc)\" height=\"40\" id=\"E8\" rx=\"10\" ry=\"10\" style=\"stroke: #A80036; stroke-width: 1.5;\" width=\"56\" x=\"317\" y=\"84\"/><ellipse cx=\"334.25\" cy=\"100\" fill=\"#B6DBBB\" rx=\"11\" ry=\"11\" style=\"stroke: #A80036; stroke-width: 1.0;\"/><path d=\"M330.125,101.9219 L330.125,94.1094 L332.5781,94.1094 L332.5781,102.5469 Q332.5781,103.4688 333.0469,104 Q333.5313,104.5313 334.3594,104.5313 Q335.2031,104.5313 335.6719,104 Q336.1406,103.4688 336.1406,102.5469 L336.1406,94.1094 L338.5938,94.1094 L338.5938,101.9219 Q338.5938,104.4531 337.5938,105.5938 Q336.5938,106.7344 334.3594,106.7344 Q332.1406,106.7344 331.125,105.5938 Q330.125,104.4531 330.125,101.9219 Z \"/><text fill=\"#000000\" font-family=\"sans-serif\" font-size=\"12\" lengthAdjust=\"spacingAndGlyphs\" textLength=\"19\" x=\"348.75\" y=\"104.1543\">f: F</text></a></g><g id=\"E1.E7.E9\"><a href=\"psysml:624da0d4-2cfd-4aae-83e5-be6cf87688fa\" target=\"_top\" title=\"psysml:624da0d4-2cfd-4aae-83e5-be6cf87688fa\" xlink:actuate=\"onRequest\" xlink:href=\"psysml:624da0d4-2cfd-4aae-83e5-be6cf87688fa\" xlink:show=\"new\" xlink:title=\"psysml:624da0d4-2cfd-4aae-83e5-be6cf87688fa\" xlink:type=\"simple\"><rect fill=\"#FEFECE\" filter=\"url(#f1jq5hg2wqyppc)\" height=\"40\" id=\"E9\" rx=\"10\" ry=\"10\" style=\"stroke: #A80036; stroke-width: 1.5;\" width=\"61\" x=\"220.5\" y=\"84\"/><ellipse cx=\"237.75\" cy=\"100\" fill=\"#B6DBBB\" rx=\"11\" ry=\"11\" style=\"stroke: #A80036; stroke-width: 1.0;\"/><path d=\"M233.625,101.9219 L233.625,94.1094 L236.0781,94.1094 L236.0781,102.5469 Q236.0781,103.4688 236.5469,104 Q237.0313,104.5313 237.8594,104.5313 Q238.7031,104.5313 239.1719,104 Q239.6406,103.4688 239.6406,102.5469 L239.6406,94.1094 L242.0938,94.1094 L242.0938,101.9219 Q242.0938,104.4531 241.0938,105.5938 Q240.0938,106.7344 237.8594,106.7344 Q235.6406,106.7344 234.625,105.5938 Q233.625,104.4531 233.625,101.9219 Z \"/><text fill=\"#000000\" font-family=\"sans-serif\" font-size=\"12\" lengthAdjust=\"spacingAndGlyphs\" textLength=\"24\" x=\"252.25\" y=\"104.1543\">a: A</text></a></g><g id=\"E1.E10\"><a href=\"psysml:5c182589-a5f3-41ec-a644-db6857a5c19a\" target=\"_top\" title=\"psysml:5c182589-a5f3-41ec-a644-db6857a5c19a\" xlink:actuate=\"onRequest\" xlink:href=\"psysml:5c182589-a5f3-41ec-a644-db6857a5c19a\" xlink:show=\"new\" xlink:title=\"psysml:5c182589-a5f3-41ec-a644-db6857a5c19a\" xlink:type=\"simple\"><rect fill=\"#FEFECE\" filter=\"url(#f1jq5hg2wqyppc)\" height=\"40\" id=\"E10\" rx=\"10\" ry=\"10\" style=\"stroke: #A80036; stroke-width: 1.5;\" width=\"61\" x=\"32.5\" y=\"84\"/><ellipse cx=\"49.75\" cy=\"100\" fill=\"#B6DBBB\" rx=\"11\" ry=\"11\" style=\"stroke: #A80036; stroke-width: 1.0;\"/><path d=\"M45.625,101.9219 L45.625,94.1094 L48.0781,94.1094 L48.0781,102.5469 Q48.0781,103.4688 48.5469,104 Q49.0313,104.5313 49.8594,104.5313 Q50.7031,104.5313 51.1719,104 Q51.6406,103.4688 51.6406,102.5469 L51.6406,94.1094 L54.0938,94.1094 L54.0938,101.9219 Q54.0938,104.4531 53.0938,105.5938 Q52.0938,106.7344 49.8594,106.7344 Q47.6406,106.7344 46.625,105.5938 Q45.625,104.4531 45.625,101.9219 Z \"/><text fill=\"#000000\" font-family=\"sans-serif\" font-size=\"12\" lengthAdjust=\"spacingAndGlyphs\" textLength=\"24\" x=\"64.25\" y=\"104.1543\">b: B</text></a></g><!--MD5=[af7e72d3b7000c75958bc21a2f82e2dc]\n",
       "@startuml\r\n",
       "skinparam ranksep 10\r\n",
       "skinparam rectangle {\r\n",
       " backgroundColor<<block>> LightGreen\r\n",
       "}\r\n",
       " \r\n",
       "package \"Q\" as E1  [[psysml:c58eea24-2ccf-44f2-b6e8-e98c7ec17236 ]]  {\r\n",
       "rec def \"F\" as E2  << (B,green) >> [[psysml:a4e187a3-203e-405d-be98-97d147693ddf ]] {\r\n",
       "rec usage \"a\" as E3  [[psysml:6ada620e-a181-4489-89b5-9a75fb715758 ]] {\r\n",
       "}\r\n",
       "}\r\n",
       "rec usage \"f: F\" as E4  [[psysml:90a61716-c53d-4f92-beb5-5068bb9fa1a0 ]] {\r\n",
       "}\r\n",
       "rec def \"A\" as E5  << (B,green) >> [[psysml:282ebd08-29d1-4bc9-b49b-68a749240d69 ]] {\r\n",
       "rec usage \"g=f.a; \" as E6  [[psysml:ba34075d-eebc-4755-94e7-ca84c5a458cd ]] {\r\n",
       "}\r\n",
       "}\r\n",
       "rec def \"B\" as E7  << (B,green) >> [[psysml:88191fe6-4f94-4991-8591-be7eb93db47e ]] {\r\n",
       "rec usage \"f: F\" as E8  [[psysml:ab65aa6d-a5a6-4b47-8167-56da9e982a64 ]] {\r\n",
       "}\r\n",
       "rec usage \"a: A\" as E9  [[psysml:624da0d4-2cfd-4aae-83e5-be6cf87688fa ]] {\r\n",
       "}\r\n",
       "}\r\n",
       "rec usage \"b: B\" as E10  [[psysml:5c182589-a5f3-41ec-a644-db6857a5c19a ]] {\r\n",
       "}\r\n",
       "}\r\n",
       "@enduml\r\n",
       "\n",
       "PlantUML version 1.2020.13(Sat Jun 13 12:26:38 UTC 2020)\n",
       "(EPL source distribution)\n",
       "Java Runtime: OpenJDK Runtime Environment\n",
       "JVM: OpenJDK 64-Bit Server VM\n",
       "Default Encoding: UTF-8\n",
       "Language: en\n",
       "Country: null\n",
       "--></g></svg>"
      ]
     },
     "execution_count": 33,
     "metadata": {},
     "output_type": "execute_result"
    }
   ],
   "source": [
    "%viz --style=\"PLANTUML\" --view=\"Interconnection\" \"Q\""
   ]
  },
  {
   "cell_type": "code",
   "execution_count": 34,
   "id": "a089a43f",
   "metadata": {
    "execution": {
     "iopub.execute_input": "2021-05-27T06:12:00.363053Z",
     "iopub.status.busy": "2021-05-27T06:12:00.362222Z",
     "iopub.status.idle": "2021-05-27T06:12:00.368185Z",
     "shell.execute_reply": "2021-05-27T06:12:00.367822Z"
    }
   },
   "outputs": [
    {
     "data": {
      "image/svg+xml": [
       "<?xml version=\"1.0\" encoding=\"UTF-8\" standalone=\"no\"?><svg xmlns=\"http://www.w3.org/2000/svg\" xmlns:xlink=\"http://www.w3.org/1999/xlink\" contentScriptType=\"application/ecmascript\" contentStyleType=\"text/css\" height=\"12px\" preserveAspectRatio=\"none\" style=\"width:12px;height:12px;\" version=\"1.1\" viewBox=\"0 0 12 12\" width=\"12px\" zoomAndPan=\"magnify\"><defs/><g><!--MD5=[6a4cb978cab31700e1ce5529f947a75d]\n",
       "@startuml\r\n",
       "skinparam ranksep 8\r\n",
       " \r\n",
       "@enduml\r\n",
       "\n",
       "PlantUML version 1.2020.13(Sat Jun 13 12:26:38 UTC 2020)\n",
       "(EPL source distribution)\n",
       "Java Runtime: OpenJDK Runtime Environment\n",
       "JVM: OpenJDK 64-Bit Server VM\n",
       "Default Encoding: UTF-8\n",
       "Language: en\n",
       "Country: null\n",
       "--></g></svg>"
      ]
     },
     "execution_count": 34,
     "metadata": {},
     "output_type": "execute_result"
    }
   ],
   "source": [
    "%viz --style=\"PLANTUML\" --view=\"Action\" \"Q\""
   ]
  },
  {
   "cell_type": "code",
   "execution_count": 35,
   "id": "cafda703",
   "metadata": {
    "execution": {
     "iopub.execute_input": "2021-05-27T06:12:00.419991Z",
     "iopub.status.busy": "2021-05-27T06:12:00.419519Z",
     "iopub.status.idle": "2021-05-27T06:12:00.463477Z",
     "shell.execute_reply": "2021-05-27T06:12:00.461987Z"
    }
   },
   "outputs": [
    {
     "data": {
      "image/svg+xml": [
       "<?xml version=\"1.0\" encoding=\"UTF-8\" standalone=\"no\"?><svg xmlns=\"http://www.w3.org/2000/svg\" xmlns:xlink=\"http://www.w3.org/1999/xlink\" contentScriptType=\"application/ecmascript\" contentStyleType=\"text/css\" height=\"527px\" preserveAspectRatio=\"none\" style=\"width:344px;height:527px;\" version=\"1.1\" viewBox=\"0 0 344 527\" width=\"344px\" zoomAndPan=\"magnify\"><defs><filter height=\"300%\" id=\"f1bzc5fs7x6zm0\" width=\"300%\" x=\"-1\" y=\"-1\"><feGaussianBlur result=\"blurOut\" stdDeviation=\"2.0\"/><feColorMatrix in=\"blurOut\" result=\"blurOut2\" type=\"matrix\" values=\"0 0 0 0 0 0 0 0 0 0 0 0 0 0 0 0 0 0 .4 0\"/><feOffset dx=\"4.0\" dy=\"4.0\" in=\"blurOut2\" result=\"blurOut3\"/><feBlend in=\"SourceGraphic\" in2=\"blurOut3\" mode=\"normal\"/></filter></defs><g><!--MD5=[fbc87193dbaf4d95561dea2c320d4a47]\n",
       "cluster E1--><a href=\"psysml:c58eea24-2ccf-44f2-b6e8-e98c7ec17236\" target=\"_top\" title=\"psysml:c58eea24-2ccf-44f2-b6e8-e98c7ec17236\" xlink:actuate=\"onRequest\" xlink:href=\"psysml:c58eea24-2ccf-44f2-b6e8-e98c7ec17236\" xlink:show=\"new\" xlink:title=\"psysml:c58eea24-2ccf-44f2-b6e8-e98c7ec17236\" xlink:type=\"simple\"><polygon fill=\"#FFFFFF\" filter=\"url(#f1bzc5fs7x6zm0)\" points=\"16,6,34,6,41,28.2969,322,28.2969,322,515,16,515,16,6\" style=\"stroke: #000000; stroke-width: 1.5;\"/><line style=\"stroke: #000000; stroke-width: 1.5;\" x1=\"16\" x2=\"41\" y1=\"28.2969\" y2=\"28.2969\"/><text fill=\"#000000\" font-family=\"sans-serif\" font-size=\"14\" font-weight=\"bold\" lengthAdjust=\"spacingAndGlyphs\" textLength=\"12\" x=\"20\" y=\"20.9951\">Q</text></a><!--MD5=[b4997ac47864f28c2f74865a473b2911]\n",
       "class E2--><a href=\"psysml:a4e187a3-203e-405d-be98-97d147693ddf\" target=\"_top\" title=\"psysml:a4e187a3-203e-405d-be98-97d147693ddf\" xlink:actuate=\"onRequest\" xlink:href=\"psysml:a4e187a3-203e-405d-be98-97d147693ddf\" xlink:show=\"new\" xlink:title=\"psysml:a4e187a3-203e-405d-be98-97d147693ddf\" xlink:type=\"simple\"><rect fill=\"#FEFECE\" filter=\"url(#f1bzc5fs7x6zm0)\" height=\"40\" id=\"E2\" style=\"stroke: #A80036; stroke-width: 1.5;\" width=\"39\" x=\"200.5\" y=\"353\"/><ellipse cx=\"215.5\" cy=\"369\" fill=\"#008000\" rx=\"11\" ry=\"11\" style=\"stroke: #A80036; stroke-width: 1.0;\"/><path d=\"M214.4063,369.375 L214.4063,373.0469 L216.0313,373.0469 Q217.2031,373.0469 217.6719,372.6563 Q218.1406,372.25 218.1406,371.25 Q218.1406,370.25 217.6406,369.8125 Q217.1563,369.375 216.0313,369.375 L214.4063,369.375 Z M214.4063,364.5469 L214.4063,367.4219 L216.0313,367.4219 Q216.9531,367.4219 217.3438,367.0938 Q217.75,366.75 217.75,366 Q217.75,365.2344 217.3438,364.8906 Q216.9375,364.5469 216.0313,364.5469 L214.4063,364.5469 Z M212.0313,362.5938 L216.0313,362.5938 Q218.0938,362.5938 219.1406,363.375 Q220.1875,364.1563 220.1875,365.7188 Q220.1875,366.9219 219.5625,367.5938 Q218.9531,368.2656 217.7656,368.375 Q219.1875,368.5156 219.9063,369.3281 Q220.625,370.1406 220.625,371.5938 Q220.625,373.3906 219.5469,374.2031 Q218.4688,375 216.0313,375 L212.0313,375 L212.0313,362.5938 Z \"/><text fill=\"#000000\" font-family=\"sans-serif\" font-size=\"12\" lengthAdjust=\"spacingAndGlyphs\" textLength=\"7\" x=\"229.5\" y=\"373.1543\">F</text><line style=\"stroke: #A80036; stroke-width: 1.5;\" x1=\"201.5\" x2=\"238.5\" y1=\"385\" y2=\"385\"/></a><!--MD5=[09b614a08d8cba4a07c9adeb5e0fee81]\n",
       "class E3--><a href=\"psysml:6ada620e-a181-4489-89b5-9a75fb715758\" target=\"_top\" title=\"psysml:6ada620e-a181-4489-89b5-9a75fb715758\" xlink:actuate=\"onRequest\" xlink:href=\"psysml:6ada620e-a181-4489-89b5-9a75fb715758\" xlink:show=\"new\" xlink:title=\"psysml:6ada620e-a181-4489-89b5-9a75fb715758\" xlink:type=\"simple\"><rect fill=\"#FEFECE\" filter=\"url(#f1bzc5fs7x6zm0)\" height=\"45.9375\" id=\"E3\" rx=\"10\" ry=\"10\" style=\"stroke: #A80036; stroke-width: 1.5;\" width=\"68\" x=\"186\" y=\"453\"/><ellipse cx=\"201\" cy=\"471.9688\" fill=\"#32CD32\" rx=\"11\" ry=\"11\" style=\"stroke: #A80036; stroke-width: 1.0;\"/><path d=\"M200.7969,467.6406 L200.7969,471.2656 L201.7969,471.2656 Q203,471.2656 203.4844,470.8594 Q203.9688,470.4531 203.9688,469.4531 Q203.9688,468.4531 203.4844,468.0469 Q203,467.6406 201.7969,467.6406 L200.7969,467.6406 Z M198.3438,465.5781 L201.7031,465.5781 Q204.2656,465.5781 205.3906,466.5 Q206.5156,467.4063 206.5156,469.4531 Q206.5156,471.5 205.3906,472.4219 Q204.2656,473.3281 201.7031,473.3281 L200.7969,473.3281 L200.7969,477.9688 L198.3438,477.9688 L198.3438,465.5781 Z \"/><text fill=\"#000000\" font-family=\"sans-serif\" font-size=\"12\" font-style=\"italic\" lengthAdjust=\"spacingAndGlyphs\" textLength=\"40\" x=\"213\" y=\"469.1387\">«part»</text><text fill=\"#000000\" font-family=\"sans-serif\" font-size=\"12\" lengthAdjust=\"spacingAndGlyphs\" textLength=\"8\" x=\"229\" y=\"483.1074\">a</text><line style=\"stroke: #A80036; stroke-width: 1.5;\" x1=\"187\" x2=\"253\" y1=\"490.9375\" y2=\"490.9375\"/></a><!--MD5=[ebbe1d658d1005bcc118a6aa81145e00]\n",
       "class E4--><a href=\"psysml:90a61716-c53d-4f92-beb5-5068bb9fa1a0\" target=\"_top\" title=\"psysml:90a61716-c53d-4f92-beb5-5068bb9fa1a0\" xlink:actuate=\"onRequest\" xlink:href=\"psysml:90a61716-c53d-4f92-beb5-5068bb9fa1a0\" xlink:show=\"new\" xlink:title=\"psysml:90a61716-c53d-4f92-beb5-5068bb9fa1a0\" xlink:type=\"simple\"><rect fill=\"#FEFECE\" filter=\"url(#f1bzc5fs7x6zm0)\" height=\"45.9375\" id=\"E4\" rx=\"10\" ry=\"10\" style=\"stroke: #A80036; stroke-width: 1.5;\" width=\"68\" x=\"238\" y=\"247\"/><ellipse cx=\"253\" cy=\"265.9688\" fill=\"#32CD32\" rx=\"11\" ry=\"11\" style=\"stroke: #A80036; stroke-width: 1.0;\"/><path d=\"M252.7969,261.6406 L252.7969,265.2656 L253.7969,265.2656 Q255,265.2656 255.4844,264.8594 Q255.9688,264.4531 255.9688,263.4531 Q255.9688,262.4531 255.4844,262.0469 Q255,261.6406 253.7969,261.6406 L252.7969,261.6406 Z M250.3438,259.5781 L253.7031,259.5781 Q256.2656,259.5781 257.3906,260.5 Q258.5156,261.4063 258.5156,263.4531 Q258.5156,265.5 257.3906,266.4219 Q256.2656,267.3281 253.7031,267.3281 L252.7969,267.3281 L252.7969,271.9688 L250.3438,271.9688 L250.3438,259.5781 Z \"/><text fill=\"#000000\" font-family=\"sans-serif\" font-size=\"12\" font-style=\"italic\" lengthAdjust=\"spacingAndGlyphs\" textLength=\"40\" x=\"265\" y=\"263.1387\">«part»</text><text fill=\"#000000\" font-family=\"sans-serif\" font-size=\"12\" lengthAdjust=\"spacingAndGlyphs\" textLength=\"19\" x=\"275.5\" y=\"277.1074\">f: F</text><line style=\"stroke: #A80036; stroke-width: 1.5;\" x1=\"239\" x2=\"305\" y1=\"284.9375\" y2=\"284.9375\"/></a><!--MD5=[270fce915f116d4de14055a7c1d9a0f3]\n",
       "class E5--><a href=\"psysml:282ebd08-29d1-4bc9-b49b-68a749240d69\" target=\"_top\" title=\"psysml:282ebd08-29d1-4bc9-b49b-68a749240d69\" xlink:actuate=\"onRequest\" xlink:href=\"psysml:282ebd08-29d1-4bc9-b49b-68a749240d69\" xlink:show=\"new\" xlink:title=\"psysml:282ebd08-29d1-4bc9-b49b-68a749240d69\" xlink:type=\"simple\"><rect fill=\"#FEFECE\" filter=\"url(#f1bzc5fs7x6zm0)\" height=\"40\" id=\"E5\" style=\"stroke: #A80036; stroke-width: 1.5;\" width=\"40\" x=\"46\" y=\"353\"/><ellipse cx=\"61\" cy=\"369\" fill=\"#008000\" rx=\"11\" ry=\"11\" style=\"stroke: #A80036; stroke-width: 1.0;\"/><path d=\"M59.9063,369.375 L59.9063,373.0469 L61.5313,373.0469 Q62.7031,373.0469 63.1719,372.6563 Q63.6406,372.25 63.6406,371.25 Q63.6406,370.25 63.1406,369.8125 Q62.6563,369.375 61.5313,369.375 L59.9063,369.375 Z M59.9063,364.5469 L59.9063,367.4219 L61.5313,367.4219 Q62.4531,367.4219 62.8438,367.0938 Q63.25,366.75 63.25,366 Q63.25,365.2344 62.8438,364.8906 Q62.4375,364.5469 61.5313,364.5469 L59.9063,364.5469 Z M57.5313,362.5938 L61.5313,362.5938 Q63.5938,362.5938 64.6406,363.375 Q65.6875,364.1563 65.6875,365.7188 Q65.6875,366.9219 65.0625,367.5938 Q64.4531,368.2656 63.2656,368.375 Q64.6875,368.5156 65.4063,369.3281 Q66.125,370.1406 66.125,371.5938 Q66.125,373.3906 65.0469,374.2031 Q63.9688,375 61.5313,375 L57.5313,375 L57.5313,362.5938 Z \"/><text fill=\"#000000\" font-family=\"sans-serif\" font-size=\"12\" lengthAdjust=\"spacingAndGlyphs\" textLength=\"8\" x=\"75\" y=\"373.1543\">A</text><line style=\"stroke: #A80036; stroke-width: 1.5;\" x1=\"47\" x2=\"85\" y1=\"385\" y2=\"385\"/></a><!--MD5=[60a26617385b1d2d0262a64233df1f8d]\n",
       "class E6--><a href=\"psysml:ba34075d-eebc-4755-94e7-ca84c5a458cd\" target=\"_top\" title=\"psysml:ba34075d-eebc-4755-94e7-ca84c5a458cd\" xlink:actuate=\"onRequest\" xlink:href=\"psysml:ba34075d-eebc-4755-94e7-ca84c5a458cd\" xlink:show=\"new\" xlink:title=\"psysml:ba34075d-eebc-4755-94e7-ca84c5a458cd\" xlink:type=\"simple\"><rect fill=\"#FEFECE\" filter=\"url(#f1bzc5fs7x6zm0)\" height=\"45.9375\" id=\"E6\" rx=\"10\" ry=\"10\" style=\"stroke: #A80036; stroke-width: 1.5;\" width=\"68\" x=\"32\" y=\"453\"/><ellipse cx=\"47\" cy=\"471.9688\" fill=\"#32CD32\" rx=\"11\" ry=\"11\" style=\"stroke: #A80036; stroke-width: 1.0;\"/><path d=\"M46.7969,467.6406 L46.7969,471.2656 L47.7969,471.2656 Q49,471.2656 49.4844,470.8594 Q49.9688,470.4531 49.9688,469.4531 Q49.9688,468.4531 49.4844,468.0469 Q49,467.6406 47.7969,467.6406 L46.7969,467.6406 Z M44.3438,465.5781 L47.7031,465.5781 Q50.2656,465.5781 51.3906,466.5 Q52.5156,467.4063 52.5156,469.4531 Q52.5156,471.5 51.3906,472.4219 Q50.2656,473.3281 47.7031,473.3281 L46.7969,473.3281 L46.7969,477.9688 L44.3438,477.9688 L44.3438,465.5781 Z \"/><text fill=\"#000000\" font-family=\"sans-serif\" font-size=\"12\" font-style=\"italic\" lengthAdjust=\"spacingAndGlyphs\" textLength=\"40\" x=\"59\" y=\"469.1387\">«part»</text><text fill=\"#000000\" font-family=\"sans-serif\" font-size=\"12\" lengthAdjust=\"spacingAndGlyphs\" textLength=\"8\" x=\"75\" y=\"483.1074\">g</text><line style=\"stroke: #A80036; stroke-width: 1.5;\" x1=\"33\" x2=\"99\" y1=\"490.9375\" y2=\"490.9375\"/></a><!--MD5=[2156ba9850f5573cc1fc38a6a4b2f02b]\n",
       "class E7--><a href=\"psysml:88191fe6-4f94-4991-8591-be7eb93db47e\" target=\"_top\" title=\"psysml:88191fe6-4f94-4991-8591-be7eb93db47e\" xlink:actuate=\"onRequest\" xlink:href=\"psysml:88191fe6-4f94-4991-8591-be7eb93db47e\" xlink:show=\"new\" xlink:title=\"psysml:88191fe6-4f94-4991-8591-be7eb93db47e\" xlink:type=\"simple\"><rect fill=\"#FEFECE\" filter=\"url(#f1bzc5fs7x6zm0)\" height=\"40\" id=\"E7\" style=\"stroke: #A80036; stroke-width: 1.5;\" width=\"40\" x=\"97\" y=\"147\"/><ellipse cx=\"112\" cy=\"163\" fill=\"#008000\" rx=\"11\" ry=\"11\" style=\"stroke: #A80036; stroke-width: 1.0;\"/><path d=\"M110.9063,163.375 L110.9063,167.0469 L112.5313,167.0469 Q113.7031,167.0469 114.1719,166.6563 Q114.6406,166.25 114.6406,165.25 Q114.6406,164.25 114.1406,163.8125 Q113.6563,163.375 112.5313,163.375 L110.9063,163.375 Z M110.9063,158.5469 L110.9063,161.4219 L112.5313,161.4219 Q113.4531,161.4219 113.8438,161.0938 Q114.25,160.75 114.25,160 Q114.25,159.2344 113.8438,158.8906 Q113.4375,158.5469 112.5313,158.5469 L110.9063,158.5469 Z M108.5313,156.5938 L112.5313,156.5938 Q114.5938,156.5938 115.6406,157.375 Q116.6875,158.1563 116.6875,159.7188 Q116.6875,160.9219 116.0625,161.5938 Q115.4531,162.2656 114.2656,162.375 Q115.6875,162.5156 116.4063,163.3281 Q117.125,164.1406 117.125,165.5938 Q117.125,167.3906 116.0469,168.2031 Q114.9688,169 112.5313,169 L108.5313,169 L108.5313,156.5938 Z \"/><text fill=\"#000000\" font-family=\"sans-serif\" font-size=\"12\" lengthAdjust=\"spacingAndGlyphs\" textLength=\"8\" x=\"126\" y=\"167.1543\">B</text><line style=\"stroke: #A80036; stroke-width: 1.5;\" x1=\"98\" x2=\"136\" y1=\"179\" y2=\"179\"/></a><!--MD5=[b9389687b975829384b498ac4b7476b2]\n",
       "class E8--><a href=\"psysml:ab65aa6d-a5a6-4b47-8167-56da9e982a64\" target=\"_top\" title=\"psysml:ab65aa6d-a5a6-4b47-8167-56da9e982a64\" xlink:actuate=\"onRequest\" xlink:href=\"psysml:ab65aa6d-a5a6-4b47-8167-56da9e982a64\" xlink:show=\"new\" xlink:title=\"psysml:ab65aa6d-a5a6-4b47-8167-56da9e982a64\" xlink:type=\"simple\"><rect fill=\"#FEFECE\" filter=\"url(#f1bzc5fs7x6zm0)\" height=\"45.9375\" id=\"E8\" rx=\"10\" ry=\"10\" style=\"stroke: #A80036; stroke-width: 1.5;\" width=\"68\" x=\"135\" y=\"247\"/><ellipse cx=\"150\" cy=\"265.9688\" fill=\"#32CD32\" rx=\"11\" ry=\"11\" style=\"stroke: #A80036; stroke-width: 1.0;\"/><path d=\"M149.7969,261.6406 L149.7969,265.2656 L150.7969,265.2656 Q152,265.2656 152.4844,264.8594 Q152.9688,264.4531 152.9688,263.4531 Q152.9688,262.4531 152.4844,262.0469 Q152,261.6406 150.7969,261.6406 L149.7969,261.6406 Z M147.3438,259.5781 L150.7031,259.5781 Q153.2656,259.5781 154.3906,260.5 Q155.5156,261.4063 155.5156,263.4531 Q155.5156,265.5 154.3906,266.4219 Q153.2656,267.3281 150.7031,267.3281 L149.7969,267.3281 L149.7969,271.9688 L147.3438,271.9688 L147.3438,259.5781 Z \"/><text fill=\"#000000\" font-family=\"sans-serif\" font-size=\"12\" font-style=\"italic\" lengthAdjust=\"spacingAndGlyphs\" textLength=\"40\" x=\"162\" y=\"263.1387\">«part»</text><text fill=\"#000000\" font-family=\"sans-serif\" font-size=\"12\" lengthAdjust=\"spacingAndGlyphs\" textLength=\"19\" x=\"172.5\" y=\"277.1074\">f: F</text><line style=\"stroke: #A80036; stroke-width: 1.5;\" x1=\"136\" x2=\"202\" y1=\"284.9375\" y2=\"284.9375\"/></a><!--MD5=[fd4143e9d270a159db93a4ea2a975926]\n",
       "class E9--><a href=\"psysml:624da0d4-2cfd-4aae-83e5-be6cf87688fa\" target=\"_top\" title=\"psysml:624da0d4-2cfd-4aae-83e5-be6cf87688fa\" xlink:actuate=\"onRequest\" xlink:href=\"psysml:624da0d4-2cfd-4aae-83e5-be6cf87688fa\" xlink:show=\"new\" xlink:title=\"psysml:624da0d4-2cfd-4aae-83e5-be6cf87688fa\" xlink:type=\"simple\"><rect fill=\"#FEFECE\" filter=\"url(#f1bzc5fs7x6zm0)\" height=\"45.9375\" id=\"E9\" rx=\"10\" ry=\"10\" style=\"stroke: #A80036; stroke-width: 1.5;\" width=\"68\" x=\"32\" y=\"247\"/><ellipse cx=\"47\" cy=\"265.9688\" fill=\"#32CD32\" rx=\"11\" ry=\"11\" style=\"stroke: #A80036; stroke-width: 1.0;\"/><path d=\"M46.7969,261.6406 L46.7969,265.2656 L47.7969,265.2656 Q49,265.2656 49.4844,264.8594 Q49.9688,264.4531 49.9688,263.4531 Q49.9688,262.4531 49.4844,262.0469 Q49,261.6406 47.7969,261.6406 L46.7969,261.6406 Z M44.3438,259.5781 L47.7031,259.5781 Q50.2656,259.5781 51.3906,260.5 Q52.5156,261.4063 52.5156,263.4531 Q52.5156,265.5 51.3906,266.4219 Q50.2656,267.3281 47.7031,267.3281 L46.7969,267.3281 L46.7969,271.9688 L44.3438,271.9688 L44.3438,259.5781 Z \"/><text fill=\"#000000\" font-family=\"sans-serif\" font-size=\"12\" font-style=\"italic\" lengthAdjust=\"spacingAndGlyphs\" textLength=\"40\" x=\"59\" y=\"263.1387\">«part»</text><text fill=\"#000000\" font-family=\"sans-serif\" font-size=\"12\" lengthAdjust=\"spacingAndGlyphs\" textLength=\"24\" x=\"67\" y=\"277.1074\">a: A</text><line style=\"stroke: #A80036; stroke-width: 1.5;\" x1=\"33\" x2=\"99\" y1=\"284.9375\" y2=\"284.9375\"/></a><!--MD5=[96f4274e9e20536e775497830990834d]\n",
       "class E10--><a href=\"psysml:5c182589-a5f3-41ec-a644-db6857a5c19a\" target=\"_top\" title=\"psysml:5c182589-a5f3-41ec-a644-db6857a5c19a\" xlink:actuate=\"onRequest\" xlink:href=\"psysml:5c182589-a5f3-41ec-a644-db6857a5c19a\" xlink:show=\"new\" xlink:title=\"psysml:5c182589-a5f3-41ec-a644-db6857a5c19a\" xlink:type=\"simple\"><rect fill=\"#FEFECE\" filter=\"url(#f1bzc5fs7x6zm0)\" height=\"45.9375\" id=\"E10\" rx=\"10\" ry=\"10\" style=\"stroke: #A80036; stroke-width: 1.5;\" width=\"68\" x=\"83\" y=\"41\"/><ellipse cx=\"98\" cy=\"59.9688\" fill=\"#32CD32\" rx=\"11\" ry=\"11\" style=\"stroke: #A80036; stroke-width: 1.0;\"/><path d=\"M97.7969,55.6406 L97.7969,59.2656 L98.7969,59.2656 Q100,59.2656 100.4844,58.8594 Q100.9688,58.4531 100.9688,57.4531 Q100.9688,56.4531 100.4844,56.0469 Q100,55.6406 98.7969,55.6406 L97.7969,55.6406 Z M95.3438,53.5781 L98.7031,53.5781 Q101.2656,53.5781 102.3906,54.5 Q103.5156,55.4063 103.5156,57.4531 Q103.5156,59.5 102.3906,60.4219 Q101.2656,61.3281 98.7031,61.3281 L97.7969,61.3281 L97.7969,65.9688 L95.3438,65.9688 L95.3438,53.5781 Z \"/><text fill=\"#000000\" font-family=\"sans-serif\" font-size=\"12\" font-style=\"italic\" lengthAdjust=\"spacingAndGlyphs\" textLength=\"40\" x=\"110\" y=\"57.1387\">«part»</text><text fill=\"#000000\" font-family=\"sans-serif\" font-size=\"12\" lengthAdjust=\"spacingAndGlyphs\" textLength=\"24\" x=\"118\" y=\"71.1074\">b: B</text><line style=\"stroke: #A80036; stroke-width: 1.5;\" x1=\"84\" x2=\"150\" y1=\"78.9375\" y2=\"78.9375\"/></a><!--MD5=[209b3feb70ccb6233bfe1053d122c12c]\n",
       "reverse link E2 to E3--><a href=\"psysml:f4f335e8-ebb2-4b93-b8a2-3184b124f9b4\" target=\"_top\" title=\"psysml:f4f335e8-ebb2-4b93-b8a2-3184b124f9b4\" xlink:actuate=\"onRequest\" xlink:href=\"psysml:f4f335e8-ebb2-4b93-b8a2-3184b124f9b4\" xlink:show=\"new\" xlink:title=\"psysml:f4f335e8-ebb2-4b93-b8a2-3184b124f9b4\" xlink:type=\"simple\"><path d=\"M220,406.47 C220,421.59 220,439.2 220,452.77 \" fill=\"none\" id=\"E2&lt;-E3\" style=\"stroke: #A80036; stroke-width: 1.0;\"/><polygon fill=\"#A80036\" points=\"220,393.47,216,399.47,220,405.47,224,399.47,220,393.47\" style=\"stroke: #A80036; stroke-width: 1.0;\"/></a><!--MD5=[185131fc0dcab0a4505a2ebe144e961b]\n",
       "link E4 to E2--><a href=\"psysml:6b545197-59fa-4019-832b-0413d8dfad43\" target=\"_top\" title=\"psysml:6b545197-59fa-4019-832b-0413d8dfad43\" xlink:actuate=\"onRequest\" xlink:href=\"psysml:6b545197-59fa-4019-832b-0413d8dfad43\" xlink:show=\"new\" xlink:title=\"psysml:6b545197-59fa-4019-832b-0413d8dfad43\" xlink:type=\"simple\"><path d=\"M260.46,293.42 C254.24,305.5 246.39,320.74 239.27,334.57 \" fill=\"none\" id=\"E4-&gt;E2\" style=\"stroke: #A80036; stroke-width: 1.0;\"/><polygon fill=\"#FFFFFF\" points=\"229.93,352.71,232.4037,332.6132,244.8508,339.0217,229.93,352.71\" style=\"stroke: #A80036; stroke-width: 1.0;\"/><ellipse cx=\"236.7911\" cy=\"328.461\" fill=\"#A80036\" rx=\"2\" ry=\"2\" style=\"stroke: #A80036; stroke-width: 1.0;\"/><ellipse cx=\"245.6819\" cy=\"333.0385\" fill=\"#A80036\" rx=\"2\" ry=\"2\" style=\"stroke: #A80036; stroke-width: 1.0;\"/></a><!--MD5=[85d356282659285ab4b2cfe2f634dd2b]\n",
       "reverse link E5 to E6--><a href=\"psysml:42a57766-d710-4931-98ca-f2942df4b5a7\" target=\"_top\" title=\"psysml:42a57766-d710-4931-98ca-f2942df4b5a7\" xlink:actuate=\"onRequest\" xlink:href=\"psysml:42a57766-d710-4931-98ca-f2942df4b5a7\" xlink:show=\"new\" xlink:title=\"psysml:42a57766-d710-4931-98ca-f2942df4b5a7\" xlink:type=\"simple\"><path d=\"M66,406.47 C66,421.59 66,439.2 66,452.77 \" fill=\"none\" id=\"E5&lt;-E6\" style=\"stroke: #A80036; stroke-width: 1.0;\"/><polygon fill=\"#A80036\" points=\"66,393.47,62,399.47,66,405.47,70,399.47,66,393.47\" style=\"stroke: #A80036; stroke-width: 1.0;\"/></a><!--MD5=[dc164f5e8a733ab456ef1add180e9e34]\n",
       "reverse link E7 to E8--><a href=\"psysml:ee3500c3-1d32-470f-b6bb-e11a5c090a2b\" target=\"_top\" title=\"psysml:ee3500c3-1d32-470f-b6bb-e11a5c090a2b\" xlink:actuate=\"onRequest\" xlink:href=\"psysml:ee3500c3-1d32-470f-b6bb-e11a5c090a2b\" xlink:show=\"new\" xlink:title=\"psysml:ee3500c3-1d32-470f-b6bb-e11a5c090a2b\" xlink:type=\"simple\"><path d=\"M133.01,199.09 C140.95,214.51 150.35,232.78 157.56,246.77 \" fill=\"none\" id=\"E7&lt;-E8\" style=\"stroke: #A80036; stroke-width: 1.0;\"/><polygon fill=\"#A80036\" points=\"127.03,187.47,126.2165,194.6351,132.5176,198.1418,133.331,190.9767,127.03,187.47\" style=\"stroke: #A80036; stroke-width: 1.0;\"/></a><!--MD5=[f1f3f9f2fc535e6147756cb86a7f2e32]\n",
       "link E8 to E2--><a href=\"psysml:385ac8e9-821f-48a2-9a91-91f0503517ad\" target=\"_top\" title=\"psysml:385ac8e9-821f-48a2-9a91-91f0503517ad\" xlink:actuate=\"onRequest\" xlink:href=\"psysml:385ac8e9-821f-48a2-9a91-91f0503517ad\" xlink:show=\"new\" xlink:title=\"psysml:385ac8e9-821f-48a2-9a91-91f0503517ad\" xlink:type=\"simple\"><path d=\"M180.32,293.42 C186.42,305.5 194.11,320.74 201.1,334.57 \" fill=\"none\" id=\"E8-&gt;E2\" style=\"stroke: #A80036; stroke-width: 1.0;\"/><polygon fill=\"#FFFFFF\" points=\"210.26,352.71,195.4445,338.9078,207.9403,332.5949,210.26,352.71\" style=\"stroke: #A80036; stroke-width: 1.0;\"/><ellipse cx=\"194.6593\" cy=\"332.9184\" fill=\"#A80036\" rx=\"2\" ry=\"2\" style=\"stroke: #A80036; stroke-width: 1.0;\"/><ellipse cx=\"203.5849\" cy=\"328.4091\" fill=\"#A80036\" rx=\"2\" ry=\"2\" style=\"stroke: #A80036; stroke-width: 1.0;\"/></a><!--MD5=[e4a10ef82d0e328e31cac39a31e58dda]\n",
       "reverse link E7 to E9--><a href=\"psysml:4dc3c190-fff9-4cfd-9ec6-604d7dd22971\" target=\"_top\" title=\"psysml:4dc3c190-fff9-4cfd-9ec6-604d7dd22971\" xlink:actuate=\"onRequest\" xlink:href=\"psysml:4dc3c190-fff9-4cfd-9ec6-604d7dd22971\" xlink:show=\"new\" xlink:title=\"psysml:4dc3c190-fff9-4cfd-9ec6-604d7dd22971\" xlink:type=\"simple\"><path d=\"M101.3,199.09 C93.51,214.51 84.29,232.78 77.22,246.77 \" fill=\"none\" id=\"E7&lt;-E9\" style=\"stroke: #A80036; stroke-width: 1.0;\"/><polygon fill=\"#A80036\" points=\"107.17,187.47,100.895,191.0231,101.7613,198.1819,108.0363,194.6289,107.17,187.47\" style=\"stroke: #A80036; stroke-width: 1.0;\"/></a><!--MD5=[bfc3ddf2e613be37104f658f09af896c]\n",
       "link E9 to E5--><a href=\"psysml:e6457602-7adc-4ee0-a454-eb40d686de5b\" target=\"_top\" title=\"psysml:e6457602-7adc-4ee0-a454-eb40d686de5b\" xlink:actuate=\"onRequest\" xlink:href=\"psysml:e6457602-7adc-4ee0-a454-eb40d686de5b\" xlink:show=\"new\" xlink:title=\"psysml:e6457602-7adc-4ee0-a454-eb40d686de5b\" xlink:type=\"simple\"><path d=\"M66,293.42 C66,304.95 66,319.34 66,332.65 \" fill=\"none\" id=\"E9-&gt;E5\" style=\"stroke: #A80036; stroke-width: 1.0;\"/><polygon fill=\"#FFFFFF\" points=\"66,352.71,59,333.71,73,333.71,66,352.71\" style=\"stroke: #A80036; stroke-width: 1.0;\"/><ellipse cx=\"61\" cy=\"328.01\" fill=\"#A80036\" rx=\"2\" ry=\"2\" style=\"stroke: #A80036; stroke-width: 1.0;\"/><ellipse cx=\"71\" cy=\"328.01\" fill=\"#A80036\" rx=\"2\" ry=\"2\" style=\"stroke: #A80036; stroke-width: 1.0;\"/></a><!--MD5=[a919e0967d6f3de553dc51b9865a1d6d]\n",
       "link E10 to E7--><a href=\"psysml:078c16df-6fb3-4d69-bd0c-6c240437776b\" target=\"_top\" title=\"psysml:078c16df-6fb3-4d69-bd0c-6c240437776b\" xlink:actuate=\"onRequest\" xlink:href=\"psysml:078c16df-6fb3-4d69-bd0c-6c240437776b\" xlink:show=\"new\" xlink:title=\"psysml:078c16df-6fb3-4d69-bd0c-6c240437776b\" xlink:type=\"simple\"><path d=\"M117,87.42 C117,98.95 117,113.34 117,126.65 \" fill=\"none\" id=\"E10-&gt;E7\" style=\"stroke: #A80036; stroke-width: 1.0;\"/><polygon fill=\"#FFFFFF\" points=\"117,146.71,110,127.71,124,127.71,117,146.71\" style=\"stroke: #A80036; stroke-width: 1.0;\"/><ellipse cx=\"112\" cy=\"122.01\" fill=\"#A80036\" rx=\"2\" ry=\"2\" style=\"stroke: #A80036; stroke-width: 1.0;\"/><ellipse cx=\"122\" cy=\"122.01\" fill=\"#A80036\" rx=\"2\" ry=\"2\" style=\"stroke: #A80036; stroke-width: 1.0;\"/></a><!--MD5=[62529e636522679930743bef3412052f]\n",
       "@startuml\r\n",
       " \r\n",
       "package \"Q\" as E1  [[psysml:c58eea24-2ccf-44f2-b6e8-e98c7ec17236 ]]  {\r\n",
       "comp def \"F\" as E2  << (B,green) >> [[psysml:a4e187a3-203e-405d-be98-97d147693ddf ]] {\r\n",
       "}\r\n",
       "comp usage \"a\" as E3  << (P,limegreen) part>> [[psysml:6ada620e-a181-4489-89b5-9a75fb715758 ]] {\r\n",
       "}\r\n",
       "comp usage \"f: F\" as E4  << (P,limegreen) part>> [[psysml:90a61716-c53d-4f92-beb5-5068bb9fa1a0 ]] {\r\n",
       "}\r\n",
       "comp def \"A\" as E5  << (B,green) >> [[psysml:282ebd08-29d1-4bc9-b49b-68a749240d69 ]] {\r\n",
       "}\r\n",
       "comp usage \"g\" as E6  << (P,limegreen) part>> [[psysml:ba34075d-eebc-4755-94e7-ca84c5a458cd ]] {\r\n",
       "}\r\n",
       "comp def \"B\" as E7  << (B,green) >> [[psysml:88191fe6-4f94-4991-8591-be7eb93db47e ]] {\r\n",
       "}\r\n",
       "comp usage \"f: F\" as E8  << (P,limegreen) part>> [[psysml:ab65aa6d-a5a6-4b47-8167-56da9e982a64 ]] {\r\n",
       "}\r\n",
       "comp usage \"a: A\" as E9  << (P,limegreen) part>> [[psysml:624da0d4-2cfd-4aae-83e5-be6cf87688fa ]] {\r\n",
       "}\r\n",
       "comp usage \"b: B\" as E10  << (P,limegreen) part>> [[psysml:5c182589-a5f3-41ec-a644-db6857a5c19a ]] {\r\n",
       "}\r\n",
       "E2 *- - E3 [[psysml:f4f335e8-ebb2-4b93-b8a2-3184b124f9b4 ]] \r\n",
       "E4 - -:|> E2 [[psysml:6b545197-59fa-4019-832b-0413d8dfad43 ]] \r\n",
       "E5 *- - E6 [[psysml:42a57766-d710-4931-98ca-f2942df4b5a7 ]] \r\n",
       "E7 *- - E8 [[psysml:ee3500c3-1d32-470f-b6bb-e11a5c090a2b ]] \r\n",
       "E8 - -:|> E2 [[psysml:385ac8e9-821f-48a2-9a91-91f0503517ad ]] \r\n",
       "E7 *- - E9 [[psysml:4dc3c190-fff9-4cfd-9ec6-604d7dd22971 ]] \r\n",
       "E9 - -:|> E5 [[psysml:e6457602-7adc-4ee0-a454-eb40d686de5b ]] \r\n",
       "E10 - -:|> E7 [[psysml:078c16df-6fb3-4d69-bd0c-6c240437776b ]] \r\n",
       "}\r\n",
       "@enduml\r\n",
       "\n",
       "PlantUML version 1.2020.13(Sat Jun 13 12:26:38 UTC 2020)\n",
       "(EPL source distribution)\n",
       "Java Runtime: OpenJDK Runtime Environment\n",
       "JVM: OpenJDK 64-Bit Server VM\n",
       "Default Encoding: UTF-8\n",
       "Language: en\n",
       "Country: null\n",
       "--></g></svg>"
      ]
     },
     "execution_count": 35,
     "metadata": {},
     "output_type": "execute_result"
    }
   ],
   "source": [
    "%viz --style=\"PLANTUML\" --view=\"Sequence\" \"Q\""
   ]
  },
  {
   "cell_type": "code",
   "execution_count": 36,
   "id": "3689886c",
   "metadata": {
    "execution": {
     "iopub.execute_input": "2021-05-27T06:12:00.515233Z",
     "iopub.status.busy": "2021-05-27T06:12:00.514699Z",
     "iopub.status.idle": "2021-05-27T06:12:00.549684Z",
     "shell.execute_reply": "2021-05-27T06:12:00.548136Z"
    }
   },
   "outputs": [
    {
     "data": {
      "image/svg+xml": [
       "<?xml version=\"1.0\" encoding=\"UTF-8\" standalone=\"no\"?><svg xmlns=\"http://www.w3.org/2000/svg\" xmlns:xlink=\"http://www.w3.org/1999/xlink\" contentScriptType=\"application/ecmascript\" contentStyleType=\"text/css\" height=\"527px\" preserveAspectRatio=\"none\" style=\"width:344px;height:527px;\" version=\"1.1\" viewBox=\"0 0 344 527\" width=\"344px\" zoomAndPan=\"magnify\"><defs><filter height=\"300%\" id=\"f1bzc5fs7x6zm0\" width=\"300%\" x=\"-1\" y=\"-1\"><feGaussianBlur result=\"blurOut\" stdDeviation=\"2.0\"/><feColorMatrix in=\"blurOut\" result=\"blurOut2\" type=\"matrix\" values=\"0 0 0 0 0 0 0 0 0 0 0 0 0 0 0 0 0 0 .4 0\"/><feOffset dx=\"4.0\" dy=\"4.0\" in=\"blurOut2\" result=\"blurOut3\"/><feBlend in=\"SourceGraphic\" in2=\"blurOut3\" mode=\"normal\"/></filter></defs><g><!--MD5=[fbc87193dbaf4d95561dea2c320d4a47]\n",
       "cluster E1--><a href=\"psysml:c58eea24-2ccf-44f2-b6e8-e98c7ec17236\" target=\"_top\" title=\"psysml:c58eea24-2ccf-44f2-b6e8-e98c7ec17236\" xlink:actuate=\"onRequest\" xlink:href=\"psysml:c58eea24-2ccf-44f2-b6e8-e98c7ec17236\" xlink:show=\"new\" xlink:title=\"psysml:c58eea24-2ccf-44f2-b6e8-e98c7ec17236\" xlink:type=\"simple\"><polygon fill=\"#FFFFFF\" filter=\"url(#f1bzc5fs7x6zm0)\" points=\"16,6,34,6,41,28.2969,322,28.2969,322,515,16,515,16,6\" style=\"stroke: #000000; stroke-width: 1.5;\"/><line style=\"stroke: #000000; stroke-width: 1.5;\" x1=\"16\" x2=\"41\" y1=\"28.2969\" y2=\"28.2969\"/><text fill=\"#000000\" font-family=\"sans-serif\" font-size=\"14\" font-weight=\"bold\" lengthAdjust=\"spacingAndGlyphs\" textLength=\"12\" x=\"20\" y=\"20.9951\">Q</text></a><!--MD5=[b4997ac47864f28c2f74865a473b2911]\n",
       "class E2--><a href=\"psysml:a4e187a3-203e-405d-be98-97d147693ddf\" target=\"_top\" title=\"psysml:a4e187a3-203e-405d-be98-97d147693ddf\" xlink:actuate=\"onRequest\" xlink:href=\"psysml:a4e187a3-203e-405d-be98-97d147693ddf\" xlink:show=\"new\" xlink:title=\"psysml:a4e187a3-203e-405d-be98-97d147693ddf\" xlink:type=\"simple\"><rect fill=\"#FEFECE\" filter=\"url(#f1bzc5fs7x6zm0)\" height=\"40\" id=\"E2\" style=\"stroke: #A80036; stroke-width: 1.5;\" width=\"39\" x=\"200.5\" y=\"353\"/><ellipse cx=\"215.5\" cy=\"369\" fill=\"#008000\" rx=\"11\" ry=\"11\" style=\"stroke: #A80036; stroke-width: 1.0;\"/><path d=\"M214.4063,369.375 L214.4063,373.0469 L216.0313,373.0469 Q217.2031,373.0469 217.6719,372.6563 Q218.1406,372.25 218.1406,371.25 Q218.1406,370.25 217.6406,369.8125 Q217.1563,369.375 216.0313,369.375 L214.4063,369.375 Z M214.4063,364.5469 L214.4063,367.4219 L216.0313,367.4219 Q216.9531,367.4219 217.3438,367.0938 Q217.75,366.75 217.75,366 Q217.75,365.2344 217.3438,364.8906 Q216.9375,364.5469 216.0313,364.5469 L214.4063,364.5469 Z M212.0313,362.5938 L216.0313,362.5938 Q218.0938,362.5938 219.1406,363.375 Q220.1875,364.1563 220.1875,365.7188 Q220.1875,366.9219 219.5625,367.5938 Q218.9531,368.2656 217.7656,368.375 Q219.1875,368.5156 219.9063,369.3281 Q220.625,370.1406 220.625,371.5938 Q220.625,373.3906 219.5469,374.2031 Q218.4688,375 216.0313,375 L212.0313,375 L212.0313,362.5938 Z \"/><text fill=\"#000000\" font-family=\"sans-serif\" font-size=\"12\" lengthAdjust=\"spacingAndGlyphs\" textLength=\"7\" x=\"229.5\" y=\"373.1543\">F</text><line style=\"stroke: #A80036; stroke-width: 1.5;\" x1=\"201.5\" x2=\"238.5\" y1=\"385\" y2=\"385\"/></a><!--MD5=[09b614a08d8cba4a07c9adeb5e0fee81]\n",
       "class E3--><a href=\"psysml:6ada620e-a181-4489-89b5-9a75fb715758\" target=\"_top\" title=\"psysml:6ada620e-a181-4489-89b5-9a75fb715758\" xlink:actuate=\"onRequest\" xlink:href=\"psysml:6ada620e-a181-4489-89b5-9a75fb715758\" xlink:show=\"new\" xlink:title=\"psysml:6ada620e-a181-4489-89b5-9a75fb715758\" xlink:type=\"simple\"><rect fill=\"#FEFECE\" filter=\"url(#f1bzc5fs7x6zm0)\" height=\"45.9375\" id=\"E3\" rx=\"10\" ry=\"10\" style=\"stroke: #A80036; stroke-width: 1.5;\" width=\"68\" x=\"186\" y=\"453\"/><ellipse cx=\"201\" cy=\"471.9688\" fill=\"#32CD32\" rx=\"11\" ry=\"11\" style=\"stroke: #A80036; stroke-width: 1.0;\"/><path d=\"M200.7969,467.6406 L200.7969,471.2656 L201.7969,471.2656 Q203,471.2656 203.4844,470.8594 Q203.9688,470.4531 203.9688,469.4531 Q203.9688,468.4531 203.4844,468.0469 Q203,467.6406 201.7969,467.6406 L200.7969,467.6406 Z M198.3438,465.5781 L201.7031,465.5781 Q204.2656,465.5781 205.3906,466.5 Q206.5156,467.4063 206.5156,469.4531 Q206.5156,471.5 205.3906,472.4219 Q204.2656,473.3281 201.7031,473.3281 L200.7969,473.3281 L200.7969,477.9688 L198.3438,477.9688 L198.3438,465.5781 Z \"/><text fill=\"#000000\" font-family=\"sans-serif\" font-size=\"12\" font-style=\"italic\" lengthAdjust=\"spacingAndGlyphs\" textLength=\"40\" x=\"213\" y=\"469.1387\">«part»</text><text fill=\"#000000\" font-family=\"sans-serif\" font-size=\"12\" lengthAdjust=\"spacingAndGlyphs\" textLength=\"8\" x=\"229\" y=\"483.1074\">a</text><line style=\"stroke: #A80036; stroke-width: 1.5;\" x1=\"187\" x2=\"253\" y1=\"490.9375\" y2=\"490.9375\"/></a><!--MD5=[ebbe1d658d1005bcc118a6aa81145e00]\n",
       "class E4--><a href=\"psysml:90a61716-c53d-4f92-beb5-5068bb9fa1a0\" target=\"_top\" title=\"psysml:90a61716-c53d-4f92-beb5-5068bb9fa1a0\" xlink:actuate=\"onRequest\" xlink:href=\"psysml:90a61716-c53d-4f92-beb5-5068bb9fa1a0\" xlink:show=\"new\" xlink:title=\"psysml:90a61716-c53d-4f92-beb5-5068bb9fa1a0\" xlink:type=\"simple\"><rect fill=\"#FEFECE\" filter=\"url(#f1bzc5fs7x6zm0)\" height=\"45.9375\" id=\"E4\" rx=\"10\" ry=\"10\" style=\"stroke: #A80036; stroke-width: 1.5;\" width=\"68\" x=\"238\" y=\"247\"/><ellipse cx=\"253\" cy=\"265.9688\" fill=\"#32CD32\" rx=\"11\" ry=\"11\" style=\"stroke: #A80036; stroke-width: 1.0;\"/><path d=\"M252.7969,261.6406 L252.7969,265.2656 L253.7969,265.2656 Q255,265.2656 255.4844,264.8594 Q255.9688,264.4531 255.9688,263.4531 Q255.9688,262.4531 255.4844,262.0469 Q255,261.6406 253.7969,261.6406 L252.7969,261.6406 Z M250.3438,259.5781 L253.7031,259.5781 Q256.2656,259.5781 257.3906,260.5 Q258.5156,261.4063 258.5156,263.4531 Q258.5156,265.5 257.3906,266.4219 Q256.2656,267.3281 253.7031,267.3281 L252.7969,267.3281 L252.7969,271.9688 L250.3438,271.9688 L250.3438,259.5781 Z \"/><text fill=\"#000000\" font-family=\"sans-serif\" font-size=\"12\" font-style=\"italic\" lengthAdjust=\"spacingAndGlyphs\" textLength=\"40\" x=\"265\" y=\"263.1387\">«part»</text><text fill=\"#000000\" font-family=\"sans-serif\" font-size=\"12\" lengthAdjust=\"spacingAndGlyphs\" textLength=\"19\" x=\"275.5\" y=\"277.1074\">f: F</text><line style=\"stroke: #A80036; stroke-width: 1.5;\" x1=\"239\" x2=\"305\" y1=\"284.9375\" y2=\"284.9375\"/></a><!--MD5=[270fce915f116d4de14055a7c1d9a0f3]\n",
       "class E5--><a href=\"psysml:282ebd08-29d1-4bc9-b49b-68a749240d69\" target=\"_top\" title=\"psysml:282ebd08-29d1-4bc9-b49b-68a749240d69\" xlink:actuate=\"onRequest\" xlink:href=\"psysml:282ebd08-29d1-4bc9-b49b-68a749240d69\" xlink:show=\"new\" xlink:title=\"psysml:282ebd08-29d1-4bc9-b49b-68a749240d69\" xlink:type=\"simple\"><rect fill=\"#FEFECE\" filter=\"url(#f1bzc5fs7x6zm0)\" height=\"40\" id=\"E5\" style=\"stroke: #A80036; stroke-width: 1.5;\" width=\"40\" x=\"46\" y=\"353\"/><ellipse cx=\"61\" cy=\"369\" fill=\"#008000\" rx=\"11\" ry=\"11\" style=\"stroke: #A80036; stroke-width: 1.0;\"/><path d=\"M59.9063,369.375 L59.9063,373.0469 L61.5313,373.0469 Q62.7031,373.0469 63.1719,372.6563 Q63.6406,372.25 63.6406,371.25 Q63.6406,370.25 63.1406,369.8125 Q62.6563,369.375 61.5313,369.375 L59.9063,369.375 Z M59.9063,364.5469 L59.9063,367.4219 L61.5313,367.4219 Q62.4531,367.4219 62.8438,367.0938 Q63.25,366.75 63.25,366 Q63.25,365.2344 62.8438,364.8906 Q62.4375,364.5469 61.5313,364.5469 L59.9063,364.5469 Z M57.5313,362.5938 L61.5313,362.5938 Q63.5938,362.5938 64.6406,363.375 Q65.6875,364.1563 65.6875,365.7188 Q65.6875,366.9219 65.0625,367.5938 Q64.4531,368.2656 63.2656,368.375 Q64.6875,368.5156 65.4063,369.3281 Q66.125,370.1406 66.125,371.5938 Q66.125,373.3906 65.0469,374.2031 Q63.9688,375 61.5313,375 L57.5313,375 L57.5313,362.5938 Z \"/><text fill=\"#000000\" font-family=\"sans-serif\" font-size=\"12\" lengthAdjust=\"spacingAndGlyphs\" textLength=\"8\" x=\"75\" y=\"373.1543\">A</text><line style=\"stroke: #A80036; stroke-width: 1.5;\" x1=\"47\" x2=\"85\" y1=\"385\" y2=\"385\"/></a><!--MD5=[60a26617385b1d2d0262a64233df1f8d]\n",
       "class E6--><a href=\"psysml:ba34075d-eebc-4755-94e7-ca84c5a458cd\" target=\"_top\" title=\"psysml:ba34075d-eebc-4755-94e7-ca84c5a458cd\" xlink:actuate=\"onRequest\" xlink:href=\"psysml:ba34075d-eebc-4755-94e7-ca84c5a458cd\" xlink:show=\"new\" xlink:title=\"psysml:ba34075d-eebc-4755-94e7-ca84c5a458cd\" xlink:type=\"simple\"><rect fill=\"#FEFECE\" filter=\"url(#f1bzc5fs7x6zm0)\" height=\"45.9375\" id=\"E6\" rx=\"10\" ry=\"10\" style=\"stroke: #A80036; stroke-width: 1.5;\" width=\"68\" x=\"32\" y=\"453\"/><ellipse cx=\"47\" cy=\"471.9688\" fill=\"#32CD32\" rx=\"11\" ry=\"11\" style=\"stroke: #A80036; stroke-width: 1.0;\"/><path d=\"M46.7969,467.6406 L46.7969,471.2656 L47.7969,471.2656 Q49,471.2656 49.4844,470.8594 Q49.9688,470.4531 49.9688,469.4531 Q49.9688,468.4531 49.4844,468.0469 Q49,467.6406 47.7969,467.6406 L46.7969,467.6406 Z M44.3438,465.5781 L47.7031,465.5781 Q50.2656,465.5781 51.3906,466.5 Q52.5156,467.4063 52.5156,469.4531 Q52.5156,471.5 51.3906,472.4219 Q50.2656,473.3281 47.7031,473.3281 L46.7969,473.3281 L46.7969,477.9688 L44.3438,477.9688 L44.3438,465.5781 Z \"/><text fill=\"#000000\" font-family=\"sans-serif\" font-size=\"12\" font-style=\"italic\" lengthAdjust=\"spacingAndGlyphs\" textLength=\"40\" x=\"59\" y=\"469.1387\">«part»</text><text fill=\"#000000\" font-family=\"sans-serif\" font-size=\"12\" lengthAdjust=\"spacingAndGlyphs\" textLength=\"8\" x=\"75\" y=\"483.1074\">g</text><line style=\"stroke: #A80036; stroke-width: 1.5;\" x1=\"33\" x2=\"99\" y1=\"490.9375\" y2=\"490.9375\"/></a><!--MD5=[2156ba9850f5573cc1fc38a6a4b2f02b]\n",
       "class E7--><a href=\"psysml:88191fe6-4f94-4991-8591-be7eb93db47e\" target=\"_top\" title=\"psysml:88191fe6-4f94-4991-8591-be7eb93db47e\" xlink:actuate=\"onRequest\" xlink:href=\"psysml:88191fe6-4f94-4991-8591-be7eb93db47e\" xlink:show=\"new\" xlink:title=\"psysml:88191fe6-4f94-4991-8591-be7eb93db47e\" xlink:type=\"simple\"><rect fill=\"#FEFECE\" filter=\"url(#f1bzc5fs7x6zm0)\" height=\"40\" id=\"E7\" style=\"stroke: #A80036; stroke-width: 1.5;\" width=\"40\" x=\"97\" y=\"147\"/><ellipse cx=\"112\" cy=\"163\" fill=\"#008000\" rx=\"11\" ry=\"11\" style=\"stroke: #A80036; stroke-width: 1.0;\"/><path d=\"M110.9063,163.375 L110.9063,167.0469 L112.5313,167.0469 Q113.7031,167.0469 114.1719,166.6563 Q114.6406,166.25 114.6406,165.25 Q114.6406,164.25 114.1406,163.8125 Q113.6563,163.375 112.5313,163.375 L110.9063,163.375 Z M110.9063,158.5469 L110.9063,161.4219 L112.5313,161.4219 Q113.4531,161.4219 113.8438,161.0938 Q114.25,160.75 114.25,160 Q114.25,159.2344 113.8438,158.8906 Q113.4375,158.5469 112.5313,158.5469 L110.9063,158.5469 Z M108.5313,156.5938 L112.5313,156.5938 Q114.5938,156.5938 115.6406,157.375 Q116.6875,158.1563 116.6875,159.7188 Q116.6875,160.9219 116.0625,161.5938 Q115.4531,162.2656 114.2656,162.375 Q115.6875,162.5156 116.4063,163.3281 Q117.125,164.1406 117.125,165.5938 Q117.125,167.3906 116.0469,168.2031 Q114.9688,169 112.5313,169 L108.5313,169 L108.5313,156.5938 Z \"/><text fill=\"#000000\" font-family=\"sans-serif\" font-size=\"12\" lengthAdjust=\"spacingAndGlyphs\" textLength=\"8\" x=\"126\" y=\"167.1543\">B</text><line style=\"stroke: #A80036; stroke-width: 1.5;\" x1=\"98\" x2=\"136\" y1=\"179\" y2=\"179\"/></a><!--MD5=[b9389687b975829384b498ac4b7476b2]\n",
       "class E8--><a href=\"psysml:ab65aa6d-a5a6-4b47-8167-56da9e982a64\" target=\"_top\" title=\"psysml:ab65aa6d-a5a6-4b47-8167-56da9e982a64\" xlink:actuate=\"onRequest\" xlink:href=\"psysml:ab65aa6d-a5a6-4b47-8167-56da9e982a64\" xlink:show=\"new\" xlink:title=\"psysml:ab65aa6d-a5a6-4b47-8167-56da9e982a64\" xlink:type=\"simple\"><rect fill=\"#FEFECE\" filter=\"url(#f1bzc5fs7x6zm0)\" height=\"45.9375\" id=\"E8\" rx=\"10\" ry=\"10\" style=\"stroke: #A80036; stroke-width: 1.5;\" width=\"68\" x=\"135\" y=\"247\"/><ellipse cx=\"150\" cy=\"265.9688\" fill=\"#32CD32\" rx=\"11\" ry=\"11\" style=\"stroke: #A80036; stroke-width: 1.0;\"/><path d=\"M149.7969,261.6406 L149.7969,265.2656 L150.7969,265.2656 Q152,265.2656 152.4844,264.8594 Q152.9688,264.4531 152.9688,263.4531 Q152.9688,262.4531 152.4844,262.0469 Q152,261.6406 150.7969,261.6406 L149.7969,261.6406 Z M147.3438,259.5781 L150.7031,259.5781 Q153.2656,259.5781 154.3906,260.5 Q155.5156,261.4063 155.5156,263.4531 Q155.5156,265.5 154.3906,266.4219 Q153.2656,267.3281 150.7031,267.3281 L149.7969,267.3281 L149.7969,271.9688 L147.3438,271.9688 L147.3438,259.5781 Z \"/><text fill=\"#000000\" font-family=\"sans-serif\" font-size=\"12\" font-style=\"italic\" lengthAdjust=\"spacingAndGlyphs\" textLength=\"40\" x=\"162\" y=\"263.1387\">«part»</text><text fill=\"#000000\" font-family=\"sans-serif\" font-size=\"12\" lengthAdjust=\"spacingAndGlyphs\" textLength=\"19\" x=\"172.5\" y=\"277.1074\">f: F</text><line style=\"stroke: #A80036; stroke-width: 1.5;\" x1=\"136\" x2=\"202\" y1=\"284.9375\" y2=\"284.9375\"/></a><!--MD5=[fd4143e9d270a159db93a4ea2a975926]\n",
       "class E9--><a href=\"psysml:624da0d4-2cfd-4aae-83e5-be6cf87688fa\" target=\"_top\" title=\"psysml:624da0d4-2cfd-4aae-83e5-be6cf87688fa\" xlink:actuate=\"onRequest\" xlink:href=\"psysml:624da0d4-2cfd-4aae-83e5-be6cf87688fa\" xlink:show=\"new\" xlink:title=\"psysml:624da0d4-2cfd-4aae-83e5-be6cf87688fa\" xlink:type=\"simple\"><rect fill=\"#FEFECE\" filter=\"url(#f1bzc5fs7x6zm0)\" height=\"45.9375\" id=\"E9\" rx=\"10\" ry=\"10\" style=\"stroke: #A80036; stroke-width: 1.5;\" width=\"68\" x=\"32\" y=\"247\"/><ellipse cx=\"47\" cy=\"265.9688\" fill=\"#32CD32\" rx=\"11\" ry=\"11\" style=\"stroke: #A80036; stroke-width: 1.0;\"/><path d=\"M46.7969,261.6406 L46.7969,265.2656 L47.7969,265.2656 Q49,265.2656 49.4844,264.8594 Q49.9688,264.4531 49.9688,263.4531 Q49.9688,262.4531 49.4844,262.0469 Q49,261.6406 47.7969,261.6406 L46.7969,261.6406 Z M44.3438,259.5781 L47.7031,259.5781 Q50.2656,259.5781 51.3906,260.5 Q52.5156,261.4063 52.5156,263.4531 Q52.5156,265.5 51.3906,266.4219 Q50.2656,267.3281 47.7031,267.3281 L46.7969,267.3281 L46.7969,271.9688 L44.3438,271.9688 L44.3438,259.5781 Z \"/><text fill=\"#000000\" font-family=\"sans-serif\" font-size=\"12\" font-style=\"italic\" lengthAdjust=\"spacingAndGlyphs\" textLength=\"40\" x=\"59\" y=\"263.1387\">«part»</text><text fill=\"#000000\" font-family=\"sans-serif\" font-size=\"12\" lengthAdjust=\"spacingAndGlyphs\" textLength=\"24\" x=\"67\" y=\"277.1074\">a: A</text><line style=\"stroke: #A80036; stroke-width: 1.5;\" x1=\"33\" x2=\"99\" y1=\"284.9375\" y2=\"284.9375\"/></a><!--MD5=[96f4274e9e20536e775497830990834d]\n",
       "class E10--><a href=\"psysml:5c182589-a5f3-41ec-a644-db6857a5c19a\" target=\"_top\" title=\"psysml:5c182589-a5f3-41ec-a644-db6857a5c19a\" xlink:actuate=\"onRequest\" xlink:href=\"psysml:5c182589-a5f3-41ec-a644-db6857a5c19a\" xlink:show=\"new\" xlink:title=\"psysml:5c182589-a5f3-41ec-a644-db6857a5c19a\" xlink:type=\"simple\"><rect fill=\"#FEFECE\" filter=\"url(#f1bzc5fs7x6zm0)\" height=\"45.9375\" id=\"E10\" rx=\"10\" ry=\"10\" style=\"stroke: #A80036; stroke-width: 1.5;\" width=\"68\" x=\"83\" y=\"41\"/><ellipse cx=\"98\" cy=\"59.9688\" fill=\"#32CD32\" rx=\"11\" ry=\"11\" style=\"stroke: #A80036; stroke-width: 1.0;\"/><path d=\"M97.7969,55.6406 L97.7969,59.2656 L98.7969,59.2656 Q100,59.2656 100.4844,58.8594 Q100.9688,58.4531 100.9688,57.4531 Q100.9688,56.4531 100.4844,56.0469 Q100,55.6406 98.7969,55.6406 L97.7969,55.6406 Z M95.3438,53.5781 L98.7031,53.5781 Q101.2656,53.5781 102.3906,54.5 Q103.5156,55.4063 103.5156,57.4531 Q103.5156,59.5 102.3906,60.4219 Q101.2656,61.3281 98.7031,61.3281 L97.7969,61.3281 L97.7969,65.9688 L95.3438,65.9688 L95.3438,53.5781 Z \"/><text fill=\"#000000\" font-family=\"sans-serif\" font-size=\"12\" font-style=\"italic\" lengthAdjust=\"spacingAndGlyphs\" textLength=\"40\" x=\"110\" y=\"57.1387\">«part»</text><text fill=\"#000000\" font-family=\"sans-serif\" font-size=\"12\" lengthAdjust=\"spacingAndGlyphs\" textLength=\"24\" x=\"118\" y=\"71.1074\">b: B</text><line style=\"stroke: #A80036; stroke-width: 1.5;\" x1=\"84\" x2=\"150\" y1=\"78.9375\" y2=\"78.9375\"/></a><!--MD5=[209b3feb70ccb6233bfe1053d122c12c]\n",
       "reverse link E2 to E3--><a href=\"psysml:f4f335e8-ebb2-4b93-b8a2-3184b124f9b4\" target=\"_top\" title=\"psysml:f4f335e8-ebb2-4b93-b8a2-3184b124f9b4\" xlink:actuate=\"onRequest\" xlink:href=\"psysml:f4f335e8-ebb2-4b93-b8a2-3184b124f9b4\" xlink:show=\"new\" xlink:title=\"psysml:f4f335e8-ebb2-4b93-b8a2-3184b124f9b4\" xlink:type=\"simple\"><path d=\"M220,406.47 C220,421.59 220,439.2 220,452.77 \" fill=\"none\" id=\"E2&lt;-E3\" style=\"stroke: #A80036; stroke-width: 1.0;\"/><polygon fill=\"#A80036\" points=\"220,393.47,216,399.47,220,405.47,224,399.47,220,393.47\" style=\"stroke: #A80036; stroke-width: 1.0;\"/></a><!--MD5=[185131fc0dcab0a4505a2ebe144e961b]\n",
       "link E4 to E2--><a href=\"psysml:6b545197-59fa-4019-832b-0413d8dfad43\" target=\"_top\" title=\"psysml:6b545197-59fa-4019-832b-0413d8dfad43\" xlink:actuate=\"onRequest\" xlink:href=\"psysml:6b545197-59fa-4019-832b-0413d8dfad43\" xlink:show=\"new\" xlink:title=\"psysml:6b545197-59fa-4019-832b-0413d8dfad43\" xlink:type=\"simple\"><path d=\"M260.46,293.42 C254.24,305.5 246.39,320.74 239.27,334.57 \" fill=\"none\" id=\"E4-&gt;E2\" style=\"stroke: #A80036; stroke-width: 1.0;\"/><polygon fill=\"#FFFFFF\" points=\"229.93,352.71,232.4037,332.6132,244.8508,339.0217,229.93,352.71\" style=\"stroke: #A80036; stroke-width: 1.0;\"/><ellipse cx=\"236.7911\" cy=\"328.461\" fill=\"#A80036\" rx=\"2\" ry=\"2\" style=\"stroke: #A80036; stroke-width: 1.0;\"/><ellipse cx=\"245.6819\" cy=\"333.0385\" fill=\"#A80036\" rx=\"2\" ry=\"2\" style=\"stroke: #A80036; stroke-width: 1.0;\"/></a><!--MD5=[85d356282659285ab4b2cfe2f634dd2b]\n",
       "reverse link E5 to E6--><a href=\"psysml:42a57766-d710-4931-98ca-f2942df4b5a7\" target=\"_top\" title=\"psysml:42a57766-d710-4931-98ca-f2942df4b5a7\" xlink:actuate=\"onRequest\" xlink:href=\"psysml:42a57766-d710-4931-98ca-f2942df4b5a7\" xlink:show=\"new\" xlink:title=\"psysml:42a57766-d710-4931-98ca-f2942df4b5a7\" xlink:type=\"simple\"><path d=\"M66,406.47 C66,421.59 66,439.2 66,452.77 \" fill=\"none\" id=\"E5&lt;-E6\" style=\"stroke: #A80036; stroke-width: 1.0;\"/><polygon fill=\"#A80036\" points=\"66,393.47,62,399.47,66,405.47,70,399.47,66,393.47\" style=\"stroke: #A80036; stroke-width: 1.0;\"/></a><!--MD5=[dc164f5e8a733ab456ef1add180e9e34]\n",
       "reverse link E7 to E8--><a href=\"psysml:ee3500c3-1d32-470f-b6bb-e11a5c090a2b\" target=\"_top\" title=\"psysml:ee3500c3-1d32-470f-b6bb-e11a5c090a2b\" xlink:actuate=\"onRequest\" xlink:href=\"psysml:ee3500c3-1d32-470f-b6bb-e11a5c090a2b\" xlink:show=\"new\" xlink:title=\"psysml:ee3500c3-1d32-470f-b6bb-e11a5c090a2b\" xlink:type=\"simple\"><path d=\"M133.01,199.09 C140.95,214.51 150.35,232.78 157.56,246.77 \" fill=\"none\" id=\"E7&lt;-E8\" style=\"stroke: #A80036; stroke-width: 1.0;\"/><polygon fill=\"#A80036\" points=\"127.03,187.47,126.2165,194.6351,132.5176,198.1418,133.331,190.9767,127.03,187.47\" style=\"stroke: #A80036; stroke-width: 1.0;\"/></a><!--MD5=[f1f3f9f2fc535e6147756cb86a7f2e32]\n",
       "link E8 to E2--><a href=\"psysml:385ac8e9-821f-48a2-9a91-91f0503517ad\" target=\"_top\" title=\"psysml:385ac8e9-821f-48a2-9a91-91f0503517ad\" xlink:actuate=\"onRequest\" xlink:href=\"psysml:385ac8e9-821f-48a2-9a91-91f0503517ad\" xlink:show=\"new\" xlink:title=\"psysml:385ac8e9-821f-48a2-9a91-91f0503517ad\" xlink:type=\"simple\"><path d=\"M180.32,293.42 C186.42,305.5 194.11,320.74 201.1,334.57 \" fill=\"none\" id=\"E8-&gt;E2\" style=\"stroke: #A80036; stroke-width: 1.0;\"/><polygon fill=\"#FFFFFF\" points=\"210.26,352.71,195.4445,338.9078,207.9403,332.5949,210.26,352.71\" style=\"stroke: #A80036; stroke-width: 1.0;\"/><ellipse cx=\"194.6593\" cy=\"332.9184\" fill=\"#A80036\" rx=\"2\" ry=\"2\" style=\"stroke: #A80036; stroke-width: 1.0;\"/><ellipse cx=\"203.5849\" cy=\"328.4091\" fill=\"#A80036\" rx=\"2\" ry=\"2\" style=\"stroke: #A80036; stroke-width: 1.0;\"/></a><!--MD5=[e4a10ef82d0e328e31cac39a31e58dda]\n",
       "reverse link E7 to E9--><a href=\"psysml:4dc3c190-fff9-4cfd-9ec6-604d7dd22971\" target=\"_top\" title=\"psysml:4dc3c190-fff9-4cfd-9ec6-604d7dd22971\" xlink:actuate=\"onRequest\" xlink:href=\"psysml:4dc3c190-fff9-4cfd-9ec6-604d7dd22971\" xlink:show=\"new\" xlink:title=\"psysml:4dc3c190-fff9-4cfd-9ec6-604d7dd22971\" xlink:type=\"simple\"><path d=\"M101.3,199.09 C93.51,214.51 84.29,232.78 77.22,246.77 \" fill=\"none\" id=\"E7&lt;-E9\" style=\"stroke: #A80036; stroke-width: 1.0;\"/><polygon fill=\"#A80036\" points=\"107.17,187.47,100.895,191.0231,101.7613,198.1819,108.0363,194.6289,107.17,187.47\" style=\"stroke: #A80036; stroke-width: 1.0;\"/></a><!--MD5=[bfc3ddf2e613be37104f658f09af896c]\n",
       "link E9 to E5--><a href=\"psysml:e6457602-7adc-4ee0-a454-eb40d686de5b\" target=\"_top\" title=\"psysml:e6457602-7adc-4ee0-a454-eb40d686de5b\" xlink:actuate=\"onRequest\" xlink:href=\"psysml:e6457602-7adc-4ee0-a454-eb40d686de5b\" xlink:show=\"new\" xlink:title=\"psysml:e6457602-7adc-4ee0-a454-eb40d686de5b\" xlink:type=\"simple\"><path d=\"M66,293.42 C66,304.95 66,319.34 66,332.65 \" fill=\"none\" id=\"E9-&gt;E5\" style=\"stroke: #A80036; stroke-width: 1.0;\"/><polygon fill=\"#FFFFFF\" points=\"66,352.71,59,333.71,73,333.71,66,352.71\" style=\"stroke: #A80036; stroke-width: 1.0;\"/><ellipse cx=\"61\" cy=\"328.01\" fill=\"#A80036\" rx=\"2\" ry=\"2\" style=\"stroke: #A80036; stroke-width: 1.0;\"/><ellipse cx=\"71\" cy=\"328.01\" fill=\"#A80036\" rx=\"2\" ry=\"2\" style=\"stroke: #A80036; stroke-width: 1.0;\"/></a><!--MD5=[a919e0967d6f3de553dc51b9865a1d6d]\n",
       "link E10 to E7--><a href=\"psysml:078c16df-6fb3-4d69-bd0c-6c240437776b\" target=\"_top\" title=\"psysml:078c16df-6fb3-4d69-bd0c-6c240437776b\" xlink:actuate=\"onRequest\" xlink:href=\"psysml:078c16df-6fb3-4d69-bd0c-6c240437776b\" xlink:show=\"new\" xlink:title=\"psysml:078c16df-6fb3-4d69-bd0c-6c240437776b\" xlink:type=\"simple\"><path d=\"M117,87.42 C117,98.95 117,113.34 117,126.65 \" fill=\"none\" id=\"E10-&gt;E7\" style=\"stroke: #A80036; stroke-width: 1.0;\"/><polygon fill=\"#FFFFFF\" points=\"117,146.71,110,127.71,124,127.71,117,146.71\" style=\"stroke: #A80036; stroke-width: 1.0;\"/><ellipse cx=\"112\" cy=\"122.01\" fill=\"#A80036\" rx=\"2\" ry=\"2\" style=\"stroke: #A80036; stroke-width: 1.0;\"/><ellipse cx=\"122\" cy=\"122.01\" fill=\"#A80036\" rx=\"2\" ry=\"2\" style=\"stroke: #A80036; stroke-width: 1.0;\"/></a><!--MD5=[62529e636522679930743bef3412052f]\n",
       "@startuml\r\n",
       " \r\n",
       "package \"Q\" as E1  [[psysml:c58eea24-2ccf-44f2-b6e8-e98c7ec17236 ]]  {\r\n",
       "comp def \"F\" as E2  << (B,green) >> [[psysml:a4e187a3-203e-405d-be98-97d147693ddf ]] {\r\n",
       "}\r\n",
       "comp usage \"a\" as E3  << (P,limegreen) part>> [[psysml:6ada620e-a181-4489-89b5-9a75fb715758 ]] {\r\n",
       "}\r\n",
       "comp usage \"f: F\" as E4  << (P,limegreen) part>> [[psysml:90a61716-c53d-4f92-beb5-5068bb9fa1a0 ]] {\r\n",
       "}\r\n",
       "comp def \"A\" as E5  << (B,green) >> [[psysml:282ebd08-29d1-4bc9-b49b-68a749240d69 ]] {\r\n",
       "}\r\n",
       "comp usage \"g\" as E6  << (P,limegreen) part>> [[psysml:ba34075d-eebc-4755-94e7-ca84c5a458cd ]] {\r\n",
       "}\r\n",
       "comp def \"B\" as E7  << (B,green) >> [[psysml:88191fe6-4f94-4991-8591-be7eb93db47e ]] {\r\n",
       "}\r\n",
       "comp usage \"f: F\" as E8  << (P,limegreen) part>> [[psysml:ab65aa6d-a5a6-4b47-8167-56da9e982a64 ]] {\r\n",
       "}\r\n",
       "comp usage \"a: A\" as E9  << (P,limegreen) part>> [[psysml:624da0d4-2cfd-4aae-83e5-be6cf87688fa ]] {\r\n",
       "}\r\n",
       "comp usage \"b: B\" as E10  << (P,limegreen) part>> [[psysml:5c182589-a5f3-41ec-a644-db6857a5c19a ]] {\r\n",
       "}\r\n",
       "E2 *- - E3 [[psysml:f4f335e8-ebb2-4b93-b8a2-3184b124f9b4 ]] \r\n",
       "E4 - -:|> E2 [[psysml:6b545197-59fa-4019-832b-0413d8dfad43 ]] \r\n",
       "E5 *- - E6 [[psysml:42a57766-d710-4931-98ca-f2942df4b5a7 ]] \r\n",
       "E7 *- - E8 [[psysml:ee3500c3-1d32-470f-b6bb-e11a5c090a2b ]] \r\n",
       "E8 - -:|> E2 [[psysml:385ac8e9-821f-48a2-9a91-91f0503517ad ]] \r\n",
       "E7 *- - E9 [[psysml:4dc3c190-fff9-4cfd-9ec6-604d7dd22971 ]] \r\n",
       "E9 - -:|> E5 [[psysml:e6457602-7adc-4ee0-a454-eb40d686de5b ]] \r\n",
       "E10 - -:|> E7 [[psysml:078c16df-6fb3-4d69-bd0c-6c240437776b ]] \r\n",
       "}\r\n",
       "@enduml\r\n",
       "\n",
       "PlantUML version 1.2020.13(Sat Jun 13 12:26:38 UTC 2020)\n",
       "(EPL source distribution)\n",
       "Java Runtime: OpenJDK Runtime Environment\n",
       "JVM: OpenJDK 64-Bit Server VM\n",
       "Default Encoding: UTF-8\n",
       "Language: en\n",
       "Country: null\n",
       "--></g></svg>"
      ]
     },
     "execution_count": 36,
     "metadata": {},
     "output_type": "execute_result"
    }
   ],
   "source": [
    "%viz --style=\"PLANTUML\" --view=\"MIXED\" \"Q\""
   ]
  },
  {
   "cell_type": "code",
   "execution_count": 37,
   "id": "a6153048",
   "metadata": {
    "execution": {
     "iopub.execute_input": "2021-05-27T06:12:00.601387Z",
     "iopub.status.busy": "2021-05-27T06:12:00.600880Z",
     "iopub.status.idle": "2021-05-27T06:12:00.640337Z",
     "shell.execute_reply": "2021-05-27T06:12:00.638950Z"
    }
   },
   "outputs": [
    {
     "data": {
      "image/svg+xml": [
       "<?xml version=\"1.0\" encoding=\"UTF-8\" standalone=\"no\"?><svg xmlns=\"http://www.w3.org/2000/svg\" xmlns:xlink=\"http://www.w3.org/1999/xlink\" contentScriptType=\"application/ecmascript\" contentStyleType=\"text/css\" height=\"539px\" preserveAspectRatio=\"none\" style=\"width:266px;height:539px;\" version=\"1.1\" viewBox=\"0 0 266 539\" width=\"266px\" zoomAndPan=\"magnify\"><defs/><g><!--MD5=[fbc87193dbaf4d95561dea2c320d4a47]\n",
       "cluster E1--><a href=\"psysml:c58eea24-2ccf-44f2-b6e8-e98c7ec17236\" target=\"_top\" title=\"psysml:c58eea24-2ccf-44f2-b6e8-e98c7ec17236\" xlink:actuate=\"onRequest\" xlink:href=\"psysml:c58eea24-2ccf-44f2-b6e8-e98c7ec17236\" xlink:show=\"new\" xlink:title=\"psysml:c58eea24-2ccf-44f2-b6e8-e98c7ec17236\" xlink:type=\"simple\"><polygon fill=\"#FFFFFF\" points=\"16,6,34,6,41,28.2969,244,28.2969,244,527,16,527,16,6\" style=\"stroke: #000000; stroke-width: 1.5;\"/><line style=\"stroke: #000000; stroke-width: 1.5;\" x1=\"16\" x2=\"41\" y1=\"28.2969\" y2=\"28.2969\"/><text fill=\"#000000\" font-family=\"sans-serif\" font-size=\"14\" font-weight=\"bold\" lengthAdjust=\"spacingAndGlyphs\" textLength=\"12\" x=\"20\" y=\"20.9951\">Q</text></a><!--MD5=[b4997ac47864f28c2f74865a473b2911]\n",
       "class E2--><a href=\"psysml:a4e187a3-203e-405d-be98-97d147693ddf\" target=\"_top\" title=\"psysml:a4e187a3-203e-405d-be98-97d147693ddf\" xlink:actuate=\"onRequest\" xlink:href=\"psysml:a4e187a3-203e-405d-be98-97d147693ddf\" xlink:show=\"new\" xlink:title=\"psysml:a4e187a3-203e-405d-be98-97d147693ddf\" xlink:type=\"simple\"><rect fill=\"#FFFFFF\" height=\"45.9375\" id=\"E2\" style=\"stroke: #383838; stroke-width: 1.5;\" width=\"66\" x=\"147\" y=\"359\"/><text fill=\"#000000\" font-family=\"sans-serif\" font-size=\"12\" font-style=\"italic\" lengthAdjust=\"spacingAndGlyphs\" textLength=\"64\" x=\"148\" y=\"375.1387\">«part def»</text><text fill=\"#000000\" font-family=\"sans-serif\" font-size=\"12\" lengthAdjust=\"spacingAndGlyphs\" textLength=\"7\" x=\"176.5\" y=\"389.1074\">F</text><line style=\"stroke: #383838; stroke-width: 1.5;\" x1=\"148\" x2=\"212\" y1=\"396.9375\" y2=\"396.9375\"/></a><!--MD5=[09b614a08d8cba4a07c9adeb5e0fee81]\n",
       "class E3--><a href=\"psysml:6ada620e-a181-4489-89b5-9a75fb715758\" target=\"_top\" title=\"psysml:6ada620e-a181-4489-89b5-9a75fb715758\" xlink:actuate=\"onRequest\" xlink:href=\"psysml:6ada620e-a181-4489-89b5-9a75fb715758\" xlink:show=\"new\" xlink:title=\"psysml:6ada620e-a181-4489-89b5-9a75fb715758\" xlink:type=\"simple\"><rect fill=\"#FFFFFF\" height=\"45.9375\" id=\"E3\" rx=\"10\" ry=\"10\" style=\"stroke: #383838; stroke-width: 1.5;\" width=\"42\" x=\"159\" y=\"465\"/><text fill=\"#000000\" font-family=\"sans-serif\" font-size=\"12\" font-style=\"italic\" lengthAdjust=\"spacingAndGlyphs\" textLength=\"40\" x=\"160\" y=\"481.1387\">«part»</text><text fill=\"#000000\" font-family=\"sans-serif\" font-size=\"12\" lengthAdjust=\"spacingAndGlyphs\" textLength=\"8\" x=\"176\" y=\"495.1074\">a</text><line style=\"stroke: #383838; stroke-width: 1.5;\" x1=\"160\" x2=\"200\" y1=\"502.9375\" y2=\"502.9375\"/></a><!--MD5=[ebbe1d658d1005bcc118a6aa81145e00]\n",
       "class E4--><a href=\"psysml:90a61716-c53d-4f92-beb5-5068bb9fa1a0\" target=\"_top\" title=\"psysml:90a61716-c53d-4f92-beb5-5068bb9fa1a0\" xlink:actuate=\"onRequest\" xlink:href=\"psysml:90a61716-c53d-4f92-beb5-5068bb9fa1a0\" xlink:show=\"new\" xlink:title=\"psysml:90a61716-c53d-4f92-beb5-5068bb9fa1a0\" xlink:type=\"simple\"><rect fill=\"#FFFFFF\" height=\"45.9375\" id=\"E4\" rx=\"10\" ry=\"10\" style=\"stroke: #383838; stroke-width: 1.5;\" width=\"42\" x=\"186\" y=\"253\"/><text fill=\"#000000\" font-family=\"sans-serif\" font-size=\"12\" font-style=\"italic\" lengthAdjust=\"spacingAndGlyphs\" textLength=\"40\" x=\"187\" y=\"269.1387\">«part»</text><text fill=\"#000000\" font-family=\"sans-serif\" font-size=\"12\" lengthAdjust=\"spacingAndGlyphs\" textLength=\"19\" x=\"197.5\" y=\"283.1074\">f: F</text><line style=\"stroke: #383838; stroke-width: 1.5;\" x1=\"187\" x2=\"227\" y1=\"290.9375\" y2=\"290.9375\"/></a><!--MD5=[270fce915f116d4de14055a7c1d9a0f3]\n",
       "class E5--><a href=\"psysml:282ebd08-29d1-4bc9-b49b-68a749240d69\" target=\"_top\" title=\"psysml:282ebd08-29d1-4bc9-b49b-68a749240d69\" xlink:actuate=\"onRequest\" xlink:href=\"psysml:282ebd08-29d1-4bc9-b49b-68a749240d69\" xlink:show=\"new\" xlink:title=\"psysml:282ebd08-29d1-4bc9-b49b-68a749240d69\" xlink:type=\"simple\"><rect fill=\"#FFFFFF\" height=\"45.9375\" id=\"E5\" style=\"stroke: #383838; stroke-width: 1.5;\" width=\"66\" x=\"32\" y=\"359\"/><text fill=\"#000000\" font-family=\"sans-serif\" font-size=\"12\" font-style=\"italic\" lengthAdjust=\"spacingAndGlyphs\" textLength=\"64\" x=\"33\" y=\"375.1387\">«part def»</text><text fill=\"#000000\" font-family=\"sans-serif\" font-size=\"12\" lengthAdjust=\"spacingAndGlyphs\" textLength=\"8\" x=\"61\" y=\"389.1074\">A</text><line style=\"stroke: #383838; stroke-width: 1.5;\" x1=\"33\" x2=\"97\" y1=\"396.9375\" y2=\"396.9375\"/></a><!--MD5=[60a26617385b1d2d0262a64233df1f8d]\n",
       "class E6--><a href=\"psysml:ba34075d-eebc-4755-94e7-ca84c5a458cd\" target=\"_top\" title=\"psysml:ba34075d-eebc-4755-94e7-ca84c5a458cd\" xlink:actuate=\"onRequest\" xlink:href=\"psysml:ba34075d-eebc-4755-94e7-ca84c5a458cd\" xlink:show=\"new\" xlink:title=\"psysml:ba34075d-eebc-4755-94e7-ca84c5a458cd\" xlink:type=\"simple\"><rect fill=\"#FFFFFF\" height=\"45.9375\" id=\"E6\" rx=\"10\" ry=\"10\" style=\"stroke: #383838; stroke-width: 1.5;\" width=\"42\" x=\"44\" y=\"465\"/><text fill=\"#000000\" font-family=\"sans-serif\" font-size=\"12\" font-style=\"italic\" lengthAdjust=\"spacingAndGlyphs\" textLength=\"40\" x=\"45\" y=\"481.1387\">«part»</text><text fill=\"#000000\" font-family=\"sans-serif\" font-size=\"12\" lengthAdjust=\"spacingAndGlyphs\" textLength=\"8\" x=\"61\" y=\"495.1074\">g</text><line style=\"stroke: #383838; stroke-width: 1.5;\" x1=\"45\" x2=\"85\" y1=\"502.9375\" y2=\"502.9375\"/></a><!--MD5=[2156ba9850f5573cc1fc38a6a4b2f02b]\n",
       "class E7--><a href=\"psysml:88191fe6-4f94-4991-8591-be7eb93db47e\" target=\"_top\" title=\"psysml:88191fe6-4f94-4991-8591-be7eb93db47e\" xlink:actuate=\"onRequest\" xlink:href=\"psysml:88191fe6-4f94-4991-8591-be7eb93db47e\" xlink:show=\"new\" xlink:title=\"psysml:88191fe6-4f94-4991-8591-be7eb93db47e\" xlink:type=\"simple\"><rect fill=\"#FFFFFF\" height=\"45.9375\" id=\"E7\" style=\"stroke: #383838; stroke-width: 1.5;\" width=\"66\" x=\"64\" y=\"147\"/><text fill=\"#000000\" font-family=\"sans-serif\" font-size=\"12\" font-style=\"italic\" lengthAdjust=\"spacingAndGlyphs\" textLength=\"64\" x=\"65\" y=\"163.1387\">«part def»</text><text fill=\"#000000\" font-family=\"sans-serif\" font-size=\"12\" lengthAdjust=\"spacingAndGlyphs\" textLength=\"8\" x=\"93\" y=\"177.1074\">B</text><line style=\"stroke: #383838; stroke-width: 1.5;\" x1=\"65\" x2=\"129\" y1=\"184.9375\" y2=\"184.9375\"/></a><!--MD5=[b9389687b975829384b498ac4b7476b2]\n",
       "class E8--><a href=\"psysml:ab65aa6d-a5a6-4b47-8167-56da9e982a64\" target=\"_top\" title=\"psysml:ab65aa6d-a5a6-4b47-8167-56da9e982a64\" xlink:actuate=\"onRequest\" xlink:href=\"psysml:ab65aa6d-a5a6-4b47-8167-56da9e982a64\" xlink:show=\"new\" xlink:title=\"psysml:ab65aa6d-a5a6-4b47-8167-56da9e982a64\" xlink:type=\"simple\"><rect fill=\"#FFFFFF\" height=\"45.9375\" id=\"E8\" rx=\"10\" ry=\"10\" style=\"stroke: #383838; stroke-width: 1.5;\" width=\"42\" x=\"109\" y=\"253\"/><text fill=\"#000000\" font-family=\"sans-serif\" font-size=\"12\" font-style=\"italic\" lengthAdjust=\"spacingAndGlyphs\" textLength=\"40\" x=\"110\" y=\"269.1387\">«part»</text><text fill=\"#000000\" font-family=\"sans-serif\" font-size=\"12\" lengthAdjust=\"spacingAndGlyphs\" textLength=\"19\" x=\"120.5\" y=\"283.1074\">f: F</text><line style=\"stroke: #383838; stroke-width: 1.5;\" x1=\"110\" x2=\"150\" y1=\"290.9375\" y2=\"290.9375\"/></a><!--MD5=[fd4143e9d270a159db93a4ea2a975926]\n",
       "class E9--><a href=\"psysml:624da0d4-2cfd-4aae-83e5-be6cf87688fa\" target=\"_top\" title=\"psysml:624da0d4-2cfd-4aae-83e5-be6cf87688fa\" xlink:actuate=\"onRequest\" xlink:href=\"psysml:624da0d4-2cfd-4aae-83e5-be6cf87688fa\" xlink:show=\"new\" xlink:title=\"psysml:624da0d4-2cfd-4aae-83e5-be6cf87688fa\" xlink:type=\"simple\"><rect fill=\"#FFFFFF\" height=\"45.9375\" id=\"E9\" rx=\"10\" ry=\"10\" style=\"stroke: #383838; stroke-width: 1.5;\" width=\"42\" x=\"32\" y=\"253\"/><text fill=\"#000000\" font-family=\"sans-serif\" font-size=\"12\" font-style=\"italic\" lengthAdjust=\"spacingAndGlyphs\" textLength=\"40\" x=\"33\" y=\"269.1387\">«part»</text><text fill=\"#000000\" font-family=\"sans-serif\" font-size=\"12\" lengthAdjust=\"spacingAndGlyphs\" textLength=\"24\" x=\"41\" y=\"283.1074\">a: A</text><line style=\"stroke: #383838; stroke-width: 1.5;\" x1=\"33\" x2=\"73\" y1=\"290.9375\" y2=\"290.9375\"/></a><!--MD5=[96f4274e9e20536e775497830990834d]\n",
       "class E10--><a href=\"psysml:5c182589-a5f3-41ec-a644-db6857a5c19a\" target=\"_top\" title=\"psysml:5c182589-a5f3-41ec-a644-db6857a5c19a\" xlink:actuate=\"onRequest\" xlink:href=\"psysml:5c182589-a5f3-41ec-a644-db6857a5c19a\" xlink:show=\"new\" xlink:title=\"psysml:5c182589-a5f3-41ec-a644-db6857a5c19a\" xlink:type=\"simple\"><rect fill=\"#FFFFFF\" height=\"45.9375\" id=\"E10\" rx=\"10\" ry=\"10\" style=\"stroke: #383838; stroke-width: 1.5;\" width=\"42\" x=\"76\" y=\"41\"/><text fill=\"#000000\" font-family=\"sans-serif\" font-size=\"12\" font-style=\"italic\" lengthAdjust=\"spacingAndGlyphs\" textLength=\"40\" x=\"77\" y=\"57.1387\">«part»</text><text fill=\"#000000\" font-family=\"sans-serif\" font-size=\"12\" lengthAdjust=\"spacingAndGlyphs\" textLength=\"24\" x=\"85\" y=\"71.1074\">b: B</text><line style=\"stroke: #383838; stroke-width: 1.5;\" x1=\"77\" x2=\"117\" y1=\"78.9375\" y2=\"78.9375\"/></a><!--MD5=[209b3feb70ccb6233bfe1053d122c12c]\n",
       "reverse link E2 to E3--><a href=\"psysml:f4f335e8-ebb2-4b93-b8a2-3184b124f9b4\" target=\"_top\" title=\"psysml:f4f335e8-ebb2-4b93-b8a2-3184b124f9b4\" xlink:actuate=\"onRequest\" xlink:href=\"psysml:f4f335e8-ebb2-4b93-b8a2-3184b124f9b4\" xlink:show=\"new\" xlink:title=\"psysml:f4f335e8-ebb2-4b93-b8a2-3184b124f9b4\" xlink:type=\"simple\"><path d=\"M180,418.44 C180,433.87 180,451.47 180,464.98 \" fill=\"none\" id=\"E2&lt;-E3\" style=\"stroke: #383838; stroke-width: 1.0;\"/><polygon fill=\"#383838\" points=\"180,405.06,176,411.06,180,417.06,184,411.06,180,405.06\" style=\"stroke: #383838; stroke-width: 1.0;\"/></a><!--MD5=[185131fc0dcab0a4505a2ebe144e961b]\n",
       "link E4 to E2--><a href=\"psysml:6b545197-59fa-4019-832b-0413d8dfad43\" target=\"_top\" title=\"psysml:6b545197-59fa-4019-832b-0413d8dfad43\" xlink:actuate=\"onRequest\" xlink:href=\"psysml:6b545197-59fa-4019-832b-0413d8dfad43\" xlink:show=\"new\" xlink:title=\"psysml:6b545197-59fa-4019-832b-0413d8dfad43\" xlink:type=\"simple\"><path d=\"M201.27,299.06 C198.23,310.78 194.39,325.57 190.81,339.36 \" fill=\"none\" id=\"E4-&gt;E2\" style=\"stroke: #383838; stroke-width: 1.0;\"/><polygon fill=\"#FFFFFF\" points=\"185.72,358.98,183.7221,338.8303,197.2724,342.3504,185.72,358.98\" style=\"stroke: #383838; stroke-width: 1.0;\"/><ellipse cx=\"187.091\" cy=\"333.8163\" fill=\"#383838\" rx=\"2\" ry=\"2\" style=\"stroke: #383838; stroke-width: 1.0;\"/><ellipse cx=\"196.7698\" cy=\"336.3307\" fill=\"#383838\" rx=\"2\" ry=\"2\" style=\"stroke: #383838; stroke-width: 1.0;\"/></a><!--MD5=[85d356282659285ab4b2cfe2f634dd2b]\n",
       "reverse link E5 to E6--><a href=\"psysml:42a57766-d710-4931-98ca-f2942df4b5a7\" target=\"_top\" title=\"psysml:42a57766-d710-4931-98ca-f2942df4b5a7\" xlink:actuate=\"onRequest\" xlink:href=\"psysml:42a57766-d710-4931-98ca-f2942df4b5a7\" xlink:show=\"new\" xlink:title=\"psysml:42a57766-d710-4931-98ca-f2942df4b5a7\" xlink:type=\"simple\"><path d=\"M65,418.44 C65,433.87 65,451.47 65,464.98 \" fill=\"none\" id=\"E5&lt;-E6\" style=\"stroke: #383838; stroke-width: 1.0;\"/><polygon fill=\"#383838\" points=\"65,405.06,61,411.06,65,417.06,69,411.06,65,405.06\" style=\"stroke: #383838; stroke-width: 1.0;\"/></a><!--MD5=[dc164f5e8a733ab456ef1add180e9e34]\n",
       "reverse link E7 to E8--><a href=\"psysml:ee3500c3-1d32-470f-b6bb-e11a5c090a2b\" target=\"_top\" title=\"psysml:ee3500c3-1d32-470f-b6bb-e11a5c090a2b\" xlink:actuate=\"onRequest\" xlink:href=\"psysml:ee3500c3-1d32-470f-b6bb-e11a5c090a2b\" xlink:show=\"new\" xlink:title=\"psysml:ee3500c3-1d32-470f-b6bb-e11a5c090a2b\" xlink:type=\"simple\"><path d=\"M107.95,205.49 C112.91,221.15 118.64,239.19 123.01,252.98 \" fill=\"none\" id=\"E7&lt;-E8\" style=\"stroke: #383838; stroke-width: 1.0;\"/><polygon fill=\"#383838\" points=\"104,193.06,101.9989,199.9879,107.6243,204.4996,109.6253,197.5717,104,193.06\" style=\"stroke: #383838; stroke-width: 1.0;\"/></a><!--MD5=[f1f3f9f2fc535e6147756cb86a7f2e32]\n",
       "link E8 to E2--><a href=\"psysml:385ac8e9-821f-48a2-9a91-91f0503517ad\" target=\"_top\" title=\"psysml:385ac8e9-821f-48a2-9a91-91f0503517ad\" xlink:actuate=\"onRequest\" xlink:href=\"psysml:385ac8e9-821f-48a2-9a91-91f0503517ad\" xlink:show=\"new\" xlink:title=\"psysml:385ac8e9-821f-48a2-9a91-91f0503517ad\" xlink:type=\"simple\"><path d=\"M140.6,299.06 C146.44,311.19 153.86,326.62 160.68,340.82 \" fill=\"none\" id=\"E8-&gt;E2\" style=\"stroke: #383838; stroke-width: 1.0;\"/><polygon fill=\"#FFFFFF\" points=\"169.41,358.98,154.8709,344.8869,167.4894,338.8228,169.41,358.98\" style=\"stroke: #383838; stroke-width: 1.0;\"/><ellipse cx=\"154.2046\" cy=\"338.8831\" fill=\"#383838\" rx=\"2\" ry=\"2\" style=\"stroke: #383838; stroke-width: 1.0;\"/><ellipse cx=\"163.2178\" cy=\"334.5516\" fill=\"#383838\" rx=\"2\" ry=\"2\" style=\"stroke: #383838; stroke-width: 1.0;\"/></a><!--MD5=[e4a10ef82d0e328e31cac39a31e58dda]\n",
       "reverse link E7 to E9--><a href=\"psysml:4dc3c190-fff9-4cfd-9ec6-604d7dd22971\" target=\"_top\" title=\"psysml:4dc3c190-fff9-4cfd-9ec6-604d7dd22971\" xlink:actuate=\"onRequest\" xlink:href=\"psysml:4dc3c190-fff9-4cfd-9ec6-604d7dd22971\" xlink:show=\"new\" xlink:title=\"psysml:4dc3c190-fff9-4cfd-9ec6-604d7dd22971\" xlink:type=\"simple\"><path d=\"M82.41,205.49 C75.78,221.15 68.15,239.19 62.32,252.98 \" fill=\"none\" id=\"E7&lt;-E9\" style=\"stroke: #383838; stroke-width: 1.0;\"/><polygon fill=\"#383838\" points=\"87.67,193.06,81.6505,197.0305,83.0003,204.1142,89.0199,200.1436,87.67,193.06\" style=\"stroke: #383838; stroke-width: 1.0;\"/></a><!--MD5=[bfc3ddf2e613be37104f658f09af896c]\n",
       "link E9 to E5--><a href=\"psysml:e6457602-7adc-4ee0-a454-eb40d686de5b\" target=\"_top\" title=\"psysml:e6457602-7adc-4ee0-a454-eb40d686de5b\" xlink:actuate=\"onRequest\" xlink:href=\"psysml:e6457602-7adc-4ee0-a454-eb40d686de5b\" xlink:show=\"new\" xlink:title=\"psysml:e6457602-7adc-4ee0-a454-eb40d686de5b\" xlink:type=\"simple\"><path d=\"M55.54,299.06 C56.88,310.64 58.56,325.23 60.14,338.87 \" fill=\"none\" id=\"E9-&gt;E5\" style=\"stroke: #383838; stroke-width: 1.0;\"/><polygon fill=\"#FFFFFF\" points=\"62.46,358.98,53.3347,340.9044,67.243,339.3046,62.46,358.98\" style=\"stroke: #383838; stroke-width: 1.0;\"/><ellipse cx=\"54.6702\" cy=\"335.0132\" fill=\"#383838\" rx=\"2\" ry=\"2\" style=\"stroke: #383838; stroke-width: 1.0;\"/><ellipse cx=\"64.6047\" cy=\"333.8704\" fill=\"#383838\" rx=\"2\" ry=\"2\" style=\"stroke: #383838; stroke-width: 1.0;\"/></a><!--MD5=[a919e0967d6f3de553dc51b9865a1d6d]\n",
       "link E10 to E7--><a href=\"psysml:078c16df-6fb3-4d69-bd0c-6c240437776b\" target=\"_top\" title=\"psysml:078c16df-6fb3-4d69-bd0c-6c240437776b\" xlink:actuate=\"onRequest\" xlink:href=\"psysml:078c16df-6fb3-4d69-bd0c-6c240437776b\" xlink:show=\"new\" xlink:title=\"psysml:078c16df-6fb3-4d69-bd0c-6c240437776b\" xlink:type=\"simple\"><path d=\"M97,87.06 C97,98.64 97,113.23 97,126.87 \" fill=\"none\" id=\"E10-&gt;E7\" style=\"stroke: #383838; stroke-width: 1.0;\"/><polygon fill=\"#FFFFFF\" points=\"97,146.98,90,127.98,104,127.98,97,146.98\" style=\"stroke: #383838; stroke-width: 1.0;\"/><ellipse cx=\"92\" cy=\"122.28\" fill=\"#383838\" rx=\"2\" ry=\"2\" style=\"stroke: #383838; stroke-width: 1.0;\"/><ellipse cx=\"102\" cy=\"122.28\" fill=\"#383838\" rx=\"2\" ry=\"2\" style=\"stroke: #383838; stroke-width: 1.0;\"/></a><!--MD5=[a6ceb1ac91e8631b7836ded9c4d4c9e4]\n",
       "@startuml\r\n",
       "skinparam monochrome true\r\n",
       "skinparam classbackgroundcolor white\r\n",
       "skinparam shadowing false\r\n",
       "skinparam wrapWidth 300\r\n",
       "hide circle\r\n",
       "\r\n",
       "package \"Q\" as E1  [[psysml:c58eea24-2ccf-44f2-b6e8-e98c7ec17236 ]]  {\r\n",
       "comp def \"F\" as E2  <<(T,blue)part def>> [[psysml:a4e187a3-203e-405d-be98-97d147693ddf ]] {\r\n",
       "}\r\n",
       "comp usage \"a\" as E3  <<(T,blue)part>> [[psysml:6ada620e-a181-4489-89b5-9a75fb715758 ]] {\r\n",
       "}\r\n",
       "comp usage \"f: F\" as E4  <<(T,blue)part>> [[psysml:90a61716-c53d-4f92-beb5-5068bb9fa1a0 ]] {\r\n",
       "}\r\n",
       "comp def \"A\" as E5  <<(T,blue)part def>> [[psysml:282ebd08-29d1-4bc9-b49b-68a749240d69 ]] {\r\n",
       "}\r\n",
       "comp usage \"g\" as E6  <<(T,blue)part>> [[psysml:ba34075d-eebc-4755-94e7-ca84c5a458cd ]] {\r\n",
       "}\r\n",
       "comp def \"B\" as E7  <<(T,blue)part def>> [[psysml:88191fe6-4f94-4991-8591-be7eb93db47e ]] {\r\n",
       "}\r\n",
       "comp usage \"f: F\" as E8  <<(T,blue)part>> [[psysml:ab65aa6d-a5a6-4b47-8167-56da9e982a64 ]] {\r\n",
       "}\r\n",
       "comp usage \"a: A\" as E9  <<(T,blue)part>> [[psysml:624da0d4-2cfd-4aae-83e5-be6cf87688fa ]] {\r\n",
       "}\r\n",
       "comp usage \"b: B\" as E10  <<(T,blue)part>> [[psysml:5c182589-a5f3-41ec-a644-db6857a5c19a ]] {\r\n",
       "}\r\n",
       "E2 *- - E3 [[psysml:f4f335e8-ebb2-4b93-b8a2-3184b124f9b4 ]] \r\n",
       "E4 - -:|> E2 [[psysml:6b545197-59fa-4019-832b-0413d8dfad43 ]] \r\n",
       "E5 *- - E6 [[psysml:42a57766-d710-4931-98ca-f2942df4b5a7 ]] \r\n",
       "E7 *- - E8 [[psysml:ee3500c3-1d32-470f-b6bb-e11a5c090a2b ]] \r\n",
       "E8 - -:|> E2 [[psysml:385ac8e9-821f-48a2-9a91-91f0503517ad ]] \r\n",
       "E7 *- - E9 [[psysml:4dc3c190-fff9-4cfd-9ec6-604d7dd22971 ]] \r\n",
       "E9 - -:|> E5 [[psysml:e6457602-7adc-4ee0-a454-eb40d686de5b ]] \r\n",
       "E10 - -:|> E7 [[psysml:078c16df-6fb3-4d69-bd0c-6c240437776b ]] \r\n",
       "}\r\n",
       "@enduml\r\n",
       "\n",
       "PlantUML version 1.2020.13(Sat Jun 13 12:26:38 UTC 2020)\n",
       "(EPL source distribution)\n",
       "Java Runtime: OpenJDK Runtime Environment\n",
       "JVM: OpenJDK 64-Bit Server VM\n",
       "Default Encoding: UTF-8\n",
       "Language: en\n",
       "Country: null\n",
       "--></g></svg>"
      ]
     },
     "execution_count": 37,
     "metadata": {},
     "output_type": "execute_result"
    }
   ],
   "source": [
    "%viz --style=\"DEFAULT\" --view=\"Default\" \"Q\""
   ]
  },
  {
   "cell_type": "code",
   "execution_count": 38,
   "id": "bcd7ee8b",
   "metadata": {
    "execution": {
     "iopub.execute_input": "2021-05-27T06:12:00.690125Z",
     "iopub.status.busy": "2021-05-27T06:12:00.689788Z",
     "iopub.status.idle": "2021-05-27T06:12:00.720681Z",
     "shell.execute_reply": "2021-05-27T06:12:00.719927Z"
    }
   },
   "outputs": [
    {
     "data": {
      "image/svg+xml": [
       "<?xml version=\"1.0\" encoding=\"UTF-8\" standalone=\"no\"?><svg xmlns=\"http://www.w3.org/2000/svg\" xmlns:xlink=\"http://www.w3.org/1999/xlink\" contentScriptType=\"application/ecmascript\" contentStyleType=\"text/css\" height=\"539px\" preserveAspectRatio=\"none\" style=\"width:266px;height:539px;\" version=\"1.1\" viewBox=\"0 0 266 539\" width=\"266px\" zoomAndPan=\"magnify\"><defs/><g><!--MD5=[fbc87193dbaf4d95561dea2c320d4a47]\n",
       "cluster E1--><a href=\"psysml:c58eea24-2ccf-44f2-b6e8-e98c7ec17236\" target=\"_top\" title=\"psysml:c58eea24-2ccf-44f2-b6e8-e98c7ec17236\" xlink:actuate=\"onRequest\" xlink:href=\"psysml:c58eea24-2ccf-44f2-b6e8-e98c7ec17236\" xlink:show=\"new\" xlink:title=\"psysml:c58eea24-2ccf-44f2-b6e8-e98c7ec17236\" xlink:type=\"simple\"><polygon fill=\"#FFFFFF\" points=\"16,6,34,6,41,28.2969,244,28.2969,244,527,16,527,16,6\" style=\"stroke: #000000; stroke-width: 1.5;\"/><line style=\"stroke: #000000; stroke-width: 1.5;\" x1=\"16\" x2=\"41\" y1=\"28.2969\" y2=\"28.2969\"/><text fill=\"#000000\" font-family=\"sans-serif\" font-size=\"14\" font-weight=\"bold\" lengthAdjust=\"spacingAndGlyphs\" textLength=\"12\" x=\"20\" y=\"20.9951\">Q</text></a><!--MD5=[b4997ac47864f28c2f74865a473b2911]\n",
       "class E2--><a href=\"psysml:a4e187a3-203e-405d-be98-97d147693ddf\" target=\"_top\" title=\"psysml:a4e187a3-203e-405d-be98-97d147693ddf\" xlink:actuate=\"onRequest\" xlink:href=\"psysml:a4e187a3-203e-405d-be98-97d147693ddf\" xlink:show=\"new\" xlink:title=\"psysml:a4e187a3-203e-405d-be98-97d147693ddf\" xlink:type=\"simple\"><rect fill=\"#FFFFFF\" height=\"45.9375\" id=\"E2\" style=\"stroke: #383838; stroke-width: 1.5;\" width=\"66\" x=\"147\" y=\"359\"/><text fill=\"#000000\" font-family=\"sans-serif\" font-size=\"12\" font-style=\"italic\" lengthAdjust=\"spacingAndGlyphs\" textLength=\"64\" x=\"148\" y=\"375.1387\">«part def»</text><text fill=\"#000000\" font-family=\"sans-serif\" font-size=\"12\" lengthAdjust=\"spacingAndGlyphs\" textLength=\"7\" x=\"176.5\" y=\"389.1074\">F</text><line style=\"stroke: #383838; stroke-width: 1.5;\" x1=\"148\" x2=\"212\" y1=\"396.9375\" y2=\"396.9375\"/></a><!--MD5=[09b614a08d8cba4a07c9adeb5e0fee81]\n",
       "class E3--><a href=\"psysml:6ada620e-a181-4489-89b5-9a75fb715758\" target=\"_top\" title=\"psysml:6ada620e-a181-4489-89b5-9a75fb715758\" xlink:actuate=\"onRequest\" xlink:href=\"psysml:6ada620e-a181-4489-89b5-9a75fb715758\" xlink:show=\"new\" xlink:title=\"psysml:6ada620e-a181-4489-89b5-9a75fb715758\" xlink:type=\"simple\"><rect fill=\"#FFFFFF\" height=\"45.9375\" id=\"E3\" rx=\"10\" ry=\"10\" style=\"stroke: #383838; stroke-width: 1.5;\" width=\"42\" x=\"159\" y=\"465\"/><text fill=\"#000000\" font-family=\"sans-serif\" font-size=\"12\" font-style=\"italic\" lengthAdjust=\"spacingAndGlyphs\" textLength=\"40\" x=\"160\" y=\"481.1387\">«part»</text><text fill=\"#000000\" font-family=\"sans-serif\" font-size=\"12\" lengthAdjust=\"spacingAndGlyphs\" textLength=\"8\" x=\"176\" y=\"495.1074\">a</text><line style=\"stroke: #383838; stroke-width: 1.5;\" x1=\"160\" x2=\"200\" y1=\"502.9375\" y2=\"502.9375\"/></a><!--MD5=[ebbe1d658d1005bcc118a6aa81145e00]\n",
       "class E4--><a href=\"psysml:90a61716-c53d-4f92-beb5-5068bb9fa1a0\" target=\"_top\" title=\"psysml:90a61716-c53d-4f92-beb5-5068bb9fa1a0\" xlink:actuate=\"onRequest\" xlink:href=\"psysml:90a61716-c53d-4f92-beb5-5068bb9fa1a0\" xlink:show=\"new\" xlink:title=\"psysml:90a61716-c53d-4f92-beb5-5068bb9fa1a0\" xlink:type=\"simple\"><rect fill=\"#FFFFFF\" height=\"45.9375\" id=\"E4\" rx=\"10\" ry=\"10\" style=\"stroke: #383838; stroke-width: 1.5;\" width=\"42\" x=\"186\" y=\"253\"/><text fill=\"#000000\" font-family=\"sans-serif\" font-size=\"12\" font-style=\"italic\" lengthAdjust=\"spacingAndGlyphs\" textLength=\"40\" x=\"187\" y=\"269.1387\">«part»</text><text fill=\"#000000\" font-family=\"sans-serif\" font-size=\"12\" lengthAdjust=\"spacingAndGlyphs\" textLength=\"19\" x=\"197.5\" y=\"283.1074\">f: F</text><line style=\"stroke: #383838; stroke-width: 1.5;\" x1=\"187\" x2=\"227\" y1=\"290.9375\" y2=\"290.9375\"/></a><!--MD5=[270fce915f116d4de14055a7c1d9a0f3]\n",
       "class E5--><a href=\"psysml:282ebd08-29d1-4bc9-b49b-68a749240d69\" target=\"_top\" title=\"psysml:282ebd08-29d1-4bc9-b49b-68a749240d69\" xlink:actuate=\"onRequest\" xlink:href=\"psysml:282ebd08-29d1-4bc9-b49b-68a749240d69\" xlink:show=\"new\" xlink:title=\"psysml:282ebd08-29d1-4bc9-b49b-68a749240d69\" xlink:type=\"simple\"><rect fill=\"#FFFFFF\" height=\"45.9375\" id=\"E5\" style=\"stroke: #383838; stroke-width: 1.5;\" width=\"66\" x=\"32\" y=\"359\"/><text fill=\"#000000\" font-family=\"sans-serif\" font-size=\"12\" font-style=\"italic\" lengthAdjust=\"spacingAndGlyphs\" textLength=\"64\" x=\"33\" y=\"375.1387\">«part def»</text><text fill=\"#000000\" font-family=\"sans-serif\" font-size=\"12\" lengthAdjust=\"spacingAndGlyphs\" textLength=\"8\" x=\"61\" y=\"389.1074\">A</text><line style=\"stroke: #383838; stroke-width: 1.5;\" x1=\"33\" x2=\"97\" y1=\"396.9375\" y2=\"396.9375\"/></a><!--MD5=[60a26617385b1d2d0262a64233df1f8d]\n",
       "class E6--><a href=\"psysml:ba34075d-eebc-4755-94e7-ca84c5a458cd\" target=\"_top\" title=\"psysml:ba34075d-eebc-4755-94e7-ca84c5a458cd\" xlink:actuate=\"onRequest\" xlink:href=\"psysml:ba34075d-eebc-4755-94e7-ca84c5a458cd\" xlink:show=\"new\" xlink:title=\"psysml:ba34075d-eebc-4755-94e7-ca84c5a458cd\" xlink:type=\"simple\"><rect fill=\"#FFFFFF\" height=\"45.9375\" id=\"E6\" rx=\"10\" ry=\"10\" style=\"stroke: #383838; stroke-width: 1.5;\" width=\"42\" x=\"44\" y=\"465\"/><text fill=\"#000000\" font-family=\"sans-serif\" font-size=\"12\" font-style=\"italic\" lengthAdjust=\"spacingAndGlyphs\" textLength=\"40\" x=\"45\" y=\"481.1387\">«part»</text><text fill=\"#000000\" font-family=\"sans-serif\" font-size=\"12\" lengthAdjust=\"spacingAndGlyphs\" textLength=\"8\" x=\"61\" y=\"495.1074\">g</text><line style=\"stroke: #383838; stroke-width: 1.5;\" x1=\"45\" x2=\"85\" y1=\"502.9375\" y2=\"502.9375\"/></a><!--MD5=[2156ba9850f5573cc1fc38a6a4b2f02b]\n",
       "class E7--><a href=\"psysml:88191fe6-4f94-4991-8591-be7eb93db47e\" target=\"_top\" title=\"psysml:88191fe6-4f94-4991-8591-be7eb93db47e\" xlink:actuate=\"onRequest\" xlink:href=\"psysml:88191fe6-4f94-4991-8591-be7eb93db47e\" xlink:show=\"new\" xlink:title=\"psysml:88191fe6-4f94-4991-8591-be7eb93db47e\" xlink:type=\"simple\"><rect fill=\"#FFFFFF\" height=\"45.9375\" id=\"E7\" style=\"stroke: #383838; stroke-width: 1.5;\" width=\"66\" x=\"64\" y=\"147\"/><text fill=\"#000000\" font-family=\"sans-serif\" font-size=\"12\" font-style=\"italic\" lengthAdjust=\"spacingAndGlyphs\" textLength=\"64\" x=\"65\" y=\"163.1387\">«part def»</text><text fill=\"#000000\" font-family=\"sans-serif\" font-size=\"12\" lengthAdjust=\"spacingAndGlyphs\" textLength=\"8\" x=\"93\" y=\"177.1074\">B</text><line style=\"stroke: #383838; stroke-width: 1.5;\" x1=\"65\" x2=\"129\" y1=\"184.9375\" y2=\"184.9375\"/></a><!--MD5=[b9389687b975829384b498ac4b7476b2]\n",
       "class E8--><a href=\"psysml:ab65aa6d-a5a6-4b47-8167-56da9e982a64\" target=\"_top\" title=\"psysml:ab65aa6d-a5a6-4b47-8167-56da9e982a64\" xlink:actuate=\"onRequest\" xlink:href=\"psysml:ab65aa6d-a5a6-4b47-8167-56da9e982a64\" xlink:show=\"new\" xlink:title=\"psysml:ab65aa6d-a5a6-4b47-8167-56da9e982a64\" xlink:type=\"simple\"><rect fill=\"#FFFFFF\" height=\"45.9375\" id=\"E8\" rx=\"10\" ry=\"10\" style=\"stroke: #383838; stroke-width: 1.5;\" width=\"42\" x=\"109\" y=\"253\"/><text fill=\"#000000\" font-family=\"sans-serif\" font-size=\"12\" font-style=\"italic\" lengthAdjust=\"spacingAndGlyphs\" textLength=\"40\" x=\"110\" y=\"269.1387\">«part»</text><text fill=\"#000000\" font-family=\"sans-serif\" font-size=\"12\" lengthAdjust=\"spacingAndGlyphs\" textLength=\"19\" x=\"120.5\" y=\"283.1074\">f: F</text><line style=\"stroke: #383838; stroke-width: 1.5;\" x1=\"110\" x2=\"150\" y1=\"290.9375\" y2=\"290.9375\"/></a><!--MD5=[fd4143e9d270a159db93a4ea2a975926]\n",
       "class E9--><a href=\"psysml:624da0d4-2cfd-4aae-83e5-be6cf87688fa\" target=\"_top\" title=\"psysml:624da0d4-2cfd-4aae-83e5-be6cf87688fa\" xlink:actuate=\"onRequest\" xlink:href=\"psysml:624da0d4-2cfd-4aae-83e5-be6cf87688fa\" xlink:show=\"new\" xlink:title=\"psysml:624da0d4-2cfd-4aae-83e5-be6cf87688fa\" xlink:type=\"simple\"><rect fill=\"#FFFFFF\" height=\"45.9375\" id=\"E9\" rx=\"10\" ry=\"10\" style=\"stroke: #383838; stroke-width: 1.5;\" width=\"42\" x=\"32\" y=\"253\"/><text fill=\"#000000\" font-family=\"sans-serif\" font-size=\"12\" font-style=\"italic\" lengthAdjust=\"spacingAndGlyphs\" textLength=\"40\" x=\"33\" y=\"269.1387\">«part»</text><text fill=\"#000000\" font-family=\"sans-serif\" font-size=\"12\" lengthAdjust=\"spacingAndGlyphs\" textLength=\"24\" x=\"41\" y=\"283.1074\">a: A</text><line style=\"stroke: #383838; stroke-width: 1.5;\" x1=\"33\" x2=\"73\" y1=\"290.9375\" y2=\"290.9375\"/></a><!--MD5=[96f4274e9e20536e775497830990834d]\n",
       "class E10--><a href=\"psysml:5c182589-a5f3-41ec-a644-db6857a5c19a\" target=\"_top\" title=\"psysml:5c182589-a5f3-41ec-a644-db6857a5c19a\" xlink:actuate=\"onRequest\" xlink:href=\"psysml:5c182589-a5f3-41ec-a644-db6857a5c19a\" xlink:show=\"new\" xlink:title=\"psysml:5c182589-a5f3-41ec-a644-db6857a5c19a\" xlink:type=\"simple\"><rect fill=\"#FFFFFF\" height=\"45.9375\" id=\"E10\" rx=\"10\" ry=\"10\" style=\"stroke: #383838; stroke-width: 1.5;\" width=\"42\" x=\"76\" y=\"41\"/><text fill=\"#000000\" font-family=\"sans-serif\" font-size=\"12\" font-style=\"italic\" lengthAdjust=\"spacingAndGlyphs\" textLength=\"40\" x=\"77\" y=\"57.1387\">«part»</text><text fill=\"#000000\" font-family=\"sans-serif\" font-size=\"12\" lengthAdjust=\"spacingAndGlyphs\" textLength=\"24\" x=\"85\" y=\"71.1074\">b: B</text><line style=\"stroke: #383838; stroke-width: 1.5;\" x1=\"77\" x2=\"117\" y1=\"78.9375\" y2=\"78.9375\"/></a><!--MD5=[209b3feb70ccb6233bfe1053d122c12c]\n",
       "reverse link E2 to E3--><a href=\"psysml:f4f335e8-ebb2-4b93-b8a2-3184b124f9b4\" target=\"_top\" title=\"psysml:f4f335e8-ebb2-4b93-b8a2-3184b124f9b4\" xlink:actuate=\"onRequest\" xlink:href=\"psysml:f4f335e8-ebb2-4b93-b8a2-3184b124f9b4\" xlink:show=\"new\" xlink:title=\"psysml:f4f335e8-ebb2-4b93-b8a2-3184b124f9b4\" xlink:type=\"simple\"><path d=\"M180,418.44 C180,433.87 180,451.47 180,464.98 \" fill=\"none\" id=\"E2&lt;-E3\" style=\"stroke: #383838; stroke-width: 1.0;\"/><polygon fill=\"#383838\" points=\"180,405.06,176,411.06,180,417.06,184,411.06,180,405.06\" style=\"stroke: #383838; stroke-width: 1.0;\"/></a><!--MD5=[185131fc0dcab0a4505a2ebe144e961b]\n",
       "link E4 to E2--><a href=\"psysml:6b545197-59fa-4019-832b-0413d8dfad43\" target=\"_top\" title=\"psysml:6b545197-59fa-4019-832b-0413d8dfad43\" xlink:actuate=\"onRequest\" xlink:href=\"psysml:6b545197-59fa-4019-832b-0413d8dfad43\" xlink:show=\"new\" xlink:title=\"psysml:6b545197-59fa-4019-832b-0413d8dfad43\" xlink:type=\"simple\"><path d=\"M201.27,299.06 C198.23,310.78 194.39,325.57 190.81,339.36 \" fill=\"none\" id=\"E4-&gt;E2\" style=\"stroke: #383838; stroke-width: 1.0;\"/><polygon fill=\"#FFFFFF\" points=\"185.72,358.98,183.7221,338.8303,197.2724,342.3504,185.72,358.98\" style=\"stroke: #383838; stroke-width: 1.0;\"/><ellipse cx=\"187.091\" cy=\"333.8163\" fill=\"#383838\" rx=\"2\" ry=\"2\" style=\"stroke: #383838; stroke-width: 1.0;\"/><ellipse cx=\"196.7698\" cy=\"336.3307\" fill=\"#383838\" rx=\"2\" ry=\"2\" style=\"stroke: #383838; stroke-width: 1.0;\"/></a><!--MD5=[85d356282659285ab4b2cfe2f634dd2b]\n",
       "reverse link E5 to E6--><a href=\"psysml:42a57766-d710-4931-98ca-f2942df4b5a7\" target=\"_top\" title=\"psysml:42a57766-d710-4931-98ca-f2942df4b5a7\" xlink:actuate=\"onRequest\" xlink:href=\"psysml:42a57766-d710-4931-98ca-f2942df4b5a7\" xlink:show=\"new\" xlink:title=\"psysml:42a57766-d710-4931-98ca-f2942df4b5a7\" xlink:type=\"simple\"><path d=\"M65,418.44 C65,433.87 65,451.47 65,464.98 \" fill=\"none\" id=\"E5&lt;-E6\" style=\"stroke: #383838; stroke-width: 1.0;\"/><polygon fill=\"#383838\" points=\"65,405.06,61,411.06,65,417.06,69,411.06,65,405.06\" style=\"stroke: #383838; stroke-width: 1.0;\"/></a><!--MD5=[dc164f5e8a733ab456ef1add180e9e34]\n",
       "reverse link E7 to E8--><a href=\"psysml:ee3500c3-1d32-470f-b6bb-e11a5c090a2b\" target=\"_top\" title=\"psysml:ee3500c3-1d32-470f-b6bb-e11a5c090a2b\" xlink:actuate=\"onRequest\" xlink:href=\"psysml:ee3500c3-1d32-470f-b6bb-e11a5c090a2b\" xlink:show=\"new\" xlink:title=\"psysml:ee3500c3-1d32-470f-b6bb-e11a5c090a2b\" xlink:type=\"simple\"><path d=\"M107.95,205.49 C112.91,221.15 118.64,239.19 123.01,252.98 \" fill=\"none\" id=\"E7&lt;-E8\" style=\"stroke: #383838; stroke-width: 1.0;\"/><polygon fill=\"#383838\" points=\"104,193.06,101.9989,199.9879,107.6243,204.4996,109.6253,197.5717,104,193.06\" style=\"stroke: #383838; stroke-width: 1.0;\"/></a><!--MD5=[f1f3f9f2fc535e6147756cb86a7f2e32]\n",
       "link E8 to E2--><a href=\"psysml:385ac8e9-821f-48a2-9a91-91f0503517ad\" target=\"_top\" title=\"psysml:385ac8e9-821f-48a2-9a91-91f0503517ad\" xlink:actuate=\"onRequest\" xlink:href=\"psysml:385ac8e9-821f-48a2-9a91-91f0503517ad\" xlink:show=\"new\" xlink:title=\"psysml:385ac8e9-821f-48a2-9a91-91f0503517ad\" xlink:type=\"simple\"><path d=\"M140.6,299.06 C146.44,311.19 153.86,326.62 160.68,340.82 \" fill=\"none\" id=\"E8-&gt;E2\" style=\"stroke: #383838; stroke-width: 1.0;\"/><polygon fill=\"#FFFFFF\" points=\"169.41,358.98,154.8709,344.8869,167.4894,338.8228,169.41,358.98\" style=\"stroke: #383838; stroke-width: 1.0;\"/><ellipse cx=\"154.2046\" cy=\"338.8831\" fill=\"#383838\" rx=\"2\" ry=\"2\" style=\"stroke: #383838; stroke-width: 1.0;\"/><ellipse cx=\"163.2178\" cy=\"334.5516\" fill=\"#383838\" rx=\"2\" ry=\"2\" style=\"stroke: #383838; stroke-width: 1.0;\"/></a><!--MD5=[e4a10ef82d0e328e31cac39a31e58dda]\n",
       "reverse link E7 to E9--><a href=\"psysml:4dc3c190-fff9-4cfd-9ec6-604d7dd22971\" target=\"_top\" title=\"psysml:4dc3c190-fff9-4cfd-9ec6-604d7dd22971\" xlink:actuate=\"onRequest\" xlink:href=\"psysml:4dc3c190-fff9-4cfd-9ec6-604d7dd22971\" xlink:show=\"new\" xlink:title=\"psysml:4dc3c190-fff9-4cfd-9ec6-604d7dd22971\" xlink:type=\"simple\"><path d=\"M82.41,205.49 C75.78,221.15 68.15,239.19 62.32,252.98 \" fill=\"none\" id=\"E7&lt;-E9\" style=\"stroke: #383838; stroke-width: 1.0;\"/><polygon fill=\"#383838\" points=\"87.67,193.06,81.6505,197.0305,83.0003,204.1142,89.0199,200.1436,87.67,193.06\" style=\"stroke: #383838; stroke-width: 1.0;\"/></a><!--MD5=[bfc3ddf2e613be37104f658f09af896c]\n",
       "link E9 to E5--><a href=\"psysml:e6457602-7adc-4ee0-a454-eb40d686de5b\" target=\"_top\" title=\"psysml:e6457602-7adc-4ee0-a454-eb40d686de5b\" xlink:actuate=\"onRequest\" xlink:href=\"psysml:e6457602-7adc-4ee0-a454-eb40d686de5b\" xlink:show=\"new\" xlink:title=\"psysml:e6457602-7adc-4ee0-a454-eb40d686de5b\" xlink:type=\"simple\"><path d=\"M55.54,299.06 C56.88,310.64 58.56,325.23 60.14,338.87 \" fill=\"none\" id=\"E9-&gt;E5\" style=\"stroke: #383838; stroke-width: 1.0;\"/><polygon fill=\"#FFFFFF\" points=\"62.46,358.98,53.3347,340.9044,67.243,339.3046,62.46,358.98\" style=\"stroke: #383838; stroke-width: 1.0;\"/><ellipse cx=\"54.6702\" cy=\"335.0132\" fill=\"#383838\" rx=\"2\" ry=\"2\" style=\"stroke: #383838; stroke-width: 1.0;\"/><ellipse cx=\"64.6047\" cy=\"333.8704\" fill=\"#383838\" rx=\"2\" ry=\"2\" style=\"stroke: #383838; stroke-width: 1.0;\"/></a><!--MD5=[a919e0967d6f3de553dc51b9865a1d6d]\n",
       "link E10 to E7--><a href=\"psysml:078c16df-6fb3-4d69-bd0c-6c240437776b\" target=\"_top\" title=\"psysml:078c16df-6fb3-4d69-bd0c-6c240437776b\" xlink:actuate=\"onRequest\" xlink:href=\"psysml:078c16df-6fb3-4d69-bd0c-6c240437776b\" xlink:show=\"new\" xlink:title=\"psysml:078c16df-6fb3-4d69-bd0c-6c240437776b\" xlink:type=\"simple\"><path d=\"M97,87.06 C97,98.64 97,113.23 97,126.87 \" fill=\"none\" id=\"E10-&gt;E7\" style=\"stroke: #383838; stroke-width: 1.0;\"/><polygon fill=\"#FFFFFF\" points=\"97,146.98,90,127.98,104,127.98,97,146.98\" style=\"stroke: #383838; stroke-width: 1.0;\"/><ellipse cx=\"92\" cy=\"122.28\" fill=\"#383838\" rx=\"2\" ry=\"2\" style=\"stroke: #383838; stroke-width: 1.0;\"/><ellipse cx=\"102\" cy=\"122.28\" fill=\"#383838\" rx=\"2\" ry=\"2\" style=\"stroke: #383838; stroke-width: 1.0;\"/></a><!--MD5=[a6ceb1ac91e8631b7836ded9c4d4c9e4]\n",
       "@startuml\r\n",
       "skinparam monochrome true\r\n",
       "skinparam classbackgroundcolor white\r\n",
       "skinparam shadowing false\r\n",
       "skinparam wrapWidth 300\r\n",
       "hide circle\r\n",
       "\r\n",
       "package \"Q\" as E1  [[psysml:c58eea24-2ccf-44f2-b6e8-e98c7ec17236 ]]  {\r\n",
       "comp def \"F\" as E2  <<(T,blue)part def>> [[psysml:a4e187a3-203e-405d-be98-97d147693ddf ]] {\r\n",
       "}\r\n",
       "comp usage \"a\" as E3  <<(T,blue)part>> [[psysml:6ada620e-a181-4489-89b5-9a75fb715758 ]] {\r\n",
       "}\r\n",
       "comp usage \"f: F\" as E4  <<(T,blue)part>> [[psysml:90a61716-c53d-4f92-beb5-5068bb9fa1a0 ]] {\r\n",
       "}\r\n",
       "comp def \"A\" as E5  <<(T,blue)part def>> [[psysml:282ebd08-29d1-4bc9-b49b-68a749240d69 ]] {\r\n",
       "}\r\n",
       "comp usage \"g\" as E6  <<(T,blue)part>> [[psysml:ba34075d-eebc-4755-94e7-ca84c5a458cd ]] {\r\n",
       "}\r\n",
       "comp def \"B\" as E7  <<(T,blue)part def>> [[psysml:88191fe6-4f94-4991-8591-be7eb93db47e ]] {\r\n",
       "}\r\n",
       "comp usage \"f: F\" as E8  <<(T,blue)part>> [[psysml:ab65aa6d-a5a6-4b47-8167-56da9e982a64 ]] {\r\n",
       "}\r\n",
       "comp usage \"a: A\" as E9  <<(T,blue)part>> [[psysml:624da0d4-2cfd-4aae-83e5-be6cf87688fa ]] {\r\n",
       "}\r\n",
       "comp usage \"b: B\" as E10  <<(T,blue)part>> [[psysml:5c182589-a5f3-41ec-a644-db6857a5c19a ]] {\r\n",
       "}\r\n",
       "E2 *- - E3 [[psysml:f4f335e8-ebb2-4b93-b8a2-3184b124f9b4 ]] \r\n",
       "E4 - -:|> E2 [[psysml:6b545197-59fa-4019-832b-0413d8dfad43 ]] \r\n",
       "E5 *- - E6 [[psysml:42a57766-d710-4931-98ca-f2942df4b5a7 ]] \r\n",
       "E7 *- - E8 [[psysml:ee3500c3-1d32-470f-b6bb-e11a5c090a2b ]] \r\n",
       "E8 - -:|> E2 [[psysml:385ac8e9-821f-48a2-9a91-91f0503517ad ]] \r\n",
       "E7 *- - E9 [[psysml:4dc3c190-fff9-4cfd-9ec6-604d7dd22971 ]] \r\n",
       "E9 - -:|> E5 [[psysml:e6457602-7adc-4ee0-a454-eb40d686de5b ]] \r\n",
       "E10 - -:|> E7 [[psysml:078c16df-6fb3-4d69-bd0c-6c240437776b ]] \r\n",
       "}\r\n",
       "@enduml\r\n",
       "\n",
       "PlantUML version 1.2020.13(Sat Jun 13 12:26:38 UTC 2020)\n",
       "(EPL source distribution)\n",
       "Java Runtime: OpenJDK Runtime Environment\n",
       "JVM: OpenJDK 64-Bit Server VM\n",
       "Default Encoding: UTF-8\n",
       "Language: en\n",
       "Country: null\n",
       "--></g></svg>"
      ]
     },
     "execution_count": 38,
     "metadata": {},
     "output_type": "execute_result"
    }
   ],
   "source": [
    "%viz --style=\"DEFAULT\" --view=\"Tree\" \"Q\""
   ]
  },
  {
   "cell_type": "code",
   "execution_count": 39,
   "id": "08b80828",
   "metadata": {
    "execution": {
     "iopub.execute_input": "2021-05-27T06:12:00.773010Z",
     "iopub.status.busy": "2021-05-27T06:12:00.772033Z",
     "iopub.status.idle": "2021-05-27T06:12:00.779035Z",
     "shell.execute_reply": "2021-05-27T06:12:00.778374Z"
    }
   },
   "outputs": [
    {
     "data": {
      "image/svg+xml": [
       "<?xml version=\"1.0\" encoding=\"UTF-8\" standalone=\"no\"?><svg xmlns=\"http://www.w3.org/2000/svg\" xmlns:xlink=\"http://www.w3.org/1999/xlink\" contentScriptType=\"application/ecmascript\" contentStyleType=\"text/css\" height=\"12px\" preserveAspectRatio=\"none\" style=\"width:12px;height:12px;\" version=\"1.1\" viewBox=\"0 0 12 12\" width=\"12px\" zoomAndPan=\"magnify\"><defs/><g><!--MD5=[c5f280e076d0d61ccf4b0f27871bda1d]\n",
       "@startuml\r\n",
       "skinparam monochrome true\r\n",
       "skinparam classbackgroundcolor white\r\n",
       "skinparam shadowing false\r\n",
       "skinparam wrapWidth 300\r\n",
       "hide circle\r\n",
       "\r\n",
       "@enduml\r\n",
       "\n",
       "PlantUML version 1.2020.13(Sat Jun 13 12:26:38 UTC 2020)\n",
       "(EPL source distribution)\n",
       "Java Runtime: OpenJDK Runtime Environment\n",
       "JVM: OpenJDK 64-Bit Server VM\n",
       "Default Encoding: UTF-8\n",
       "Language: en\n",
       "Country: null\n",
       "--></g></svg>"
      ]
     },
     "execution_count": 39,
     "metadata": {},
     "output_type": "execute_result"
    }
   ],
   "source": [
    "%viz --style=\"DEFAULT\" --view=\"State\" \"Q\""
   ]
  },
  {
   "cell_type": "code",
   "execution_count": 40,
   "id": "0bd5c020",
   "metadata": {
    "execution": {
     "iopub.execute_input": "2021-05-27T06:12:00.832225Z",
     "iopub.status.busy": "2021-05-27T06:12:00.831052Z",
     "iopub.status.idle": "2021-05-27T06:12:00.876356Z",
     "shell.execute_reply": "2021-05-27T06:12:00.874768Z"
    }
   },
   "outputs": [
    {
     "data": {
      "image/svg+xml": [
       "<?xml version=\"1.0\" encoding=\"UTF-8\" standalone=\"no\"?><svg xmlns=\"http://www.w3.org/2000/svg\" xmlns:xlink=\"http://www.w3.org/1999/xlink\" contentScriptType=\"application/ecmascript\" contentStyleType=\"text/css\" height=\"192px\" preserveAspectRatio=\"none\" style=\"width:621px;height:192px;\" version=\"1.1\" viewBox=\"0 0 621 192\" width=\"621px\" zoomAndPan=\"magnify\"><defs/><g><!--MD5=[fbc87193dbaf4d95561dea2c320d4a47]\n",
       "cluster E1--><a href=\"psysml:c58eea24-2ccf-44f2-b6e8-e98c7ec17236\" target=\"_top\" title=\"psysml:c58eea24-2ccf-44f2-b6e8-e98c7ec17236\" xlink:actuate=\"onRequest\" xlink:href=\"psysml:c58eea24-2ccf-44f2-b6e8-e98c7ec17236\" xlink:show=\"new\" xlink:title=\"psysml:c58eea24-2ccf-44f2-b6e8-e98c7ec17236\" xlink:type=\"simple\"><polygon fill=\"#FFFFFF\" points=\"16,6,34,6,41,28.2969,599,28.2969,599,180,16,180,16,6\" style=\"stroke: #000000; stroke-width: 1.5;\"/><line style=\"stroke: #000000; stroke-width: 1.5;\" x1=\"16\" x2=\"41\" y1=\"28.2969\" y2=\"28.2969\"/><text fill=\"#000000\" font-family=\"sans-serif\" font-size=\"14\" font-weight=\"bold\" lengthAdjust=\"spacingAndGlyphs\" textLength=\"12\" x=\"20\" y=\"20.9951\">Q</text></a><!--MD5=[e4f7fae6ed58524ba242bb0b0d3be6b7]\n",
       "cluster E2--><a href=\"psysml:a4e187a3-203e-405d-be98-97d147693ddf\" target=\"_top\" title=\"psysml:a4e187a3-203e-405d-be98-97d147693ddf\" xlink:actuate=\"onRequest\" xlink:href=\"psysml:a4e187a3-203e-405d-be98-97d147693ddf\" xlink:show=\"new\" xlink:title=\"psysml:a4e187a3-203e-405d-be98-97d147693ddf\" xlink:type=\"simple\"><rect fill=\"#FFFFFF\" height=\"107\" id=\"E2\" style=\"stroke: #383838; stroke-width: 1.5;\" width=\"87\" x=\"488\" y=\"49\"/><rect fill=\"#F8F8F8\" height=\"37.9375\" style=\"stroke: #383838; stroke-width: 1.5;\" width=\"87\" x=\"488\" y=\"49\"/><text fill=\"#000000\" font-family=\"sans-serif\" font-size=\"12\" font-style=\"italic\" lengthAdjust=\"spacingAndGlyphs\" textLength=\"64\" x=\"499.5\" y=\"65.1387\">«part def»</text><text fill=\"#000000\" font-family=\"sans-serif\" font-size=\"12\" lengthAdjust=\"spacingAndGlyphs\" textLength=\"7\" x=\"528\" y=\"79.1074\">F</text></a><!--MD5=[de5ec2e2e8f62f467e546659f5068c88]\n",
       "cluster E5--><a href=\"psysml:282ebd08-29d1-4bc9-b49b-68a749240d69\" target=\"_top\" title=\"psysml:282ebd08-29d1-4bc9-b49b-68a749240d69\" xlink:actuate=\"onRequest\" xlink:href=\"psysml:282ebd08-29d1-4bc9-b49b-68a749240d69\" xlink:show=\"new\" xlink:title=\"psysml:282ebd08-29d1-4bc9-b49b-68a749240d69\" xlink:type=\"simple\"><rect fill=\"#FFFFFF\" height=\"107\" id=\"E5\" style=\"stroke: #383838; stroke-width: 1.5;\" width=\"87\" x=\"377\" y=\"49\"/><rect fill=\"#F8F8F8\" height=\"37.9375\" style=\"stroke: #383838; stroke-width: 1.5;\" width=\"87\" x=\"377\" y=\"49\"/><text fill=\"#000000\" font-family=\"sans-serif\" font-size=\"12\" font-style=\"italic\" lengthAdjust=\"spacingAndGlyphs\" textLength=\"64\" x=\"388.5\" y=\"65.1387\">«part def»</text><text fill=\"#000000\" font-family=\"sans-serif\" font-size=\"12\" lengthAdjust=\"spacingAndGlyphs\" textLength=\"8\" x=\"416.5\" y=\"79.1074\">A</text></a><!--MD5=[168fadf3d0c3fd93dd5d6da1b1d7ab76]\n",
       "cluster E7--><a href=\"psysml:88191fe6-4f94-4991-8591-be7eb93db47e\" target=\"_top\" title=\"psysml:88191fe6-4f94-4991-8591-be7eb93db47e\" xlink:actuate=\"onRequest\" xlink:href=\"psysml:88191fe6-4f94-4991-8591-be7eb93db47e\" xlink:show=\"new\" xlink:title=\"psysml:88191fe6-4f94-4991-8591-be7eb93db47e\" xlink:type=\"simple\"><rect fill=\"#FFFFFF\" height=\"107\" id=\"E7\" style=\"stroke: #383838; stroke-width: 1.5;\" width=\"167\" x=\"186\" y=\"49\"/><rect fill=\"#F8F8F8\" height=\"37.9375\" style=\"stroke: #383838; stroke-width: 1.5;\" width=\"167\" x=\"186\" y=\"49\"/><text fill=\"#000000\" font-family=\"sans-serif\" font-size=\"12\" font-style=\"italic\" lengthAdjust=\"spacingAndGlyphs\" textLength=\"64\" x=\"237.5\" y=\"65.1387\">«part def»</text><text fill=\"#000000\" font-family=\"sans-serif\" font-size=\"12\" lengthAdjust=\"spacingAndGlyphs\" textLength=\"8\" x=\"265.5\" y=\"79.1074\">B</text></a><g id=\"E1.E2.E3\"><a href=\"psysml:6ada620e-a181-4489-89b5-9a75fb715758\" target=\"_top\" title=\"psysml:6ada620e-a181-4489-89b5-9a75fb715758\" xlink:actuate=\"onRequest\" xlink:href=\"psysml:6ada620e-a181-4489-89b5-9a75fb715758\" xlink:show=\"new\" xlink:title=\"psysml:6ada620e-a181-4489-89b5-9a75fb715758\" xlink:type=\"simple\"><rect fill=\"#FFFFFF\" height=\"40\" id=\"E3\" rx=\"10\" ry=\"10\" style=\"stroke: #383838; stroke-width: 1.5;\" width=\"50\" x=\"506\" y=\"100\"/><rect fill=\"#F8F8F8\" height=\"23.9688\" rx=\"10\" ry=\"10\" style=\"stroke: #F8F8F8; stroke-width: 1.5;\" width=\"50\" x=\"506\" y=\"100\"/><rect fill=\"#F8F8F8\" height=\"10\" style=\"stroke: #F8F8F8; stroke-width: 1.5;\" width=\"50\" x=\"506\" y=\"113.9688\"/><rect fill=\"none\" height=\"40\" id=\"E3\" rx=\"10\" ry=\"10\" style=\"stroke: #383838; stroke-width: 1.5;\" width=\"50\" x=\"506\" y=\"100\"/><text fill=\"#000000\" font-family=\"sans-serif\" font-size=\"12\" lengthAdjust=\"spacingAndGlyphs\" textLength=\"8\" x=\"527\" y=\"116.1387\">a</text></a></g><g id=\"E1.E4\"><a href=\"psysml:90a61716-c53d-4f92-beb5-5068bb9fa1a0\" target=\"_top\" title=\"psysml:90a61716-c53d-4f92-beb5-5068bb9fa1a0\" xlink:actuate=\"onRequest\" xlink:href=\"psysml:90a61716-c53d-4f92-beb5-5068bb9fa1a0\" xlink:show=\"new\" xlink:title=\"psysml:90a61716-c53d-4f92-beb5-5068bb9fa1a0\" xlink:type=\"simple\"><rect fill=\"#FFFFFF\" height=\"40\" id=\"E4\" rx=\"10\" ry=\"10\" style=\"stroke: #383838; stroke-width: 1.5;\" width=\"50\" x=\"117\" y=\"100\"/><rect fill=\"#F8F8F8\" height=\"23.9688\" rx=\"10\" ry=\"10\" style=\"stroke: #F8F8F8; stroke-width: 1.5;\" width=\"50\" x=\"117\" y=\"100\"/><rect fill=\"#F8F8F8\" height=\"10\" style=\"stroke: #F8F8F8; stroke-width: 1.5;\" width=\"50\" x=\"117\" y=\"113.9688\"/><rect fill=\"none\" height=\"40\" id=\"E4\" rx=\"10\" ry=\"10\" style=\"stroke: #383838; stroke-width: 1.5;\" width=\"50\" x=\"117\" y=\"100\"/><text fill=\"#000000\" font-family=\"sans-serif\" font-size=\"12\" lengthAdjust=\"spacingAndGlyphs\" textLength=\"19\" x=\"132.5\" y=\"116.1387\">f: F</text></a></g><g id=\"E1.E5.E6\"><a href=\"psysml:ba34075d-eebc-4755-94e7-ca84c5a458cd\" target=\"_top\" title=\"psysml:ba34075d-eebc-4755-94e7-ca84c5a458cd\" xlink:actuate=\"onRequest\" xlink:href=\"psysml:ba34075d-eebc-4755-94e7-ca84c5a458cd\" xlink:show=\"new\" xlink:title=\"psysml:ba34075d-eebc-4755-94e7-ca84c5a458cd\" xlink:type=\"simple\"><rect fill=\"#FFFFFF\" height=\"40\" id=\"E6\" rx=\"10\" ry=\"10\" style=\"stroke: #383838; stroke-width: 1.5;\" width=\"53\" x=\"393.5\" y=\"100\"/><rect fill=\"#F8F8F8\" height=\"23.9688\" rx=\"10\" ry=\"10\" style=\"stroke: #F8F8F8; stroke-width: 1.5;\" width=\"53\" x=\"393.5\" y=\"100\"/><rect fill=\"#F8F8F8\" height=\"10\" style=\"stroke: #F8F8F8; stroke-width: 1.5;\" width=\"53\" x=\"393.5\" y=\"113.9688\"/><rect fill=\"none\" height=\"40\" id=\"E6\" rx=\"10\" ry=\"10\" style=\"stroke: #383838; stroke-width: 1.5;\" width=\"53\" x=\"393.5\" y=\"100\"/><text fill=\"#000000\" font-family=\"sans-serif\" font-size=\"12\" lengthAdjust=\"spacingAndGlyphs\" textLength=\"38\" x=\"399\" y=\"116.1387\">g=f.a;</text></a></g><g id=\"E1.E7.E8\"><a href=\"psysml:ab65aa6d-a5a6-4b47-8167-56da9e982a64\" target=\"_top\" title=\"psysml:ab65aa6d-a5a6-4b47-8167-56da9e982a64\" xlink:actuate=\"onRequest\" xlink:href=\"psysml:ab65aa6d-a5a6-4b47-8167-56da9e982a64\" xlink:show=\"new\" xlink:title=\"psysml:ab65aa6d-a5a6-4b47-8167-56da9e982a64\" xlink:type=\"simple\"><rect fill=\"#FFFFFF\" height=\"40\" id=\"E8\" rx=\"10\" ry=\"10\" style=\"stroke: #383838; stroke-width: 1.5;\" width=\"50\" x=\"287\" y=\"100\"/><rect fill=\"#F8F8F8\" height=\"23.9688\" rx=\"10\" ry=\"10\" style=\"stroke: #F8F8F8; stroke-width: 1.5;\" width=\"50\" x=\"287\" y=\"100\"/><rect fill=\"#F8F8F8\" height=\"10\" style=\"stroke: #F8F8F8; stroke-width: 1.5;\" width=\"50\" x=\"287\" y=\"113.9688\"/><rect fill=\"none\" height=\"40\" id=\"E8\" rx=\"10\" ry=\"10\" style=\"stroke: #383838; stroke-width: 1.5;\" width=\"50\" x=\"287\" y=\"100\"/><text fill=\"#000000\" font-family=\"sans-serif\" font-size=\"12\" lengthAdjust=\"spacingAndGlyphs\" textLength=\"19\" x=\"302.5\" y=\"116.1387\">f: F</text></a></g><g id=\"E1.E7.E9\"><a href=\"psysml:624da0d4-2cfd-4aae-83e5-be6cf87688fa\" target=\"_top\" title=\"psysml:624da0d4-2cfd-4aae-83e5-be6cf87688fa\" xlink:actuate=\"onRequest\" xlink:href=\"psysml:624da0d4-2cfd-4aae-83e5-be6cf87688fa\" xlink:show=\"new\" xlink:title=\"psysml:624da0d4-2cfd-4aae-83e5-be6cf87688fa\" xlink:type=\"simple\"><rect fill=\"#FFFFFF\" height=\"40\" id=\"E9\" rx=\"10\" ry=\"10\" style=\"stroke: #383838; stroke-width: 1.5;\" width=\"50\" x=\"202\" y=\"100\"/><rect fill=\"#F8F8F8\" height=\"23.9688\" rx=\"10\" ry=\"10\" style=\"stroke: #F8F8F8; stroke-width: 1.5;\" width=\"50\" x=\"202\" y=\"100\"/><rect fill=\"#F8F8F8\" height=\"10\" style=\"stroke: #F8F8F8; stroke-width: 1.5;\" width=\"50\" x=\"202\" y=\"113.9688\"/><rect fill=\"none\" height=\"40\" id=\"E9\" rx=\"10\" ry=\"10\" style=\"stroke: #383838; stroke-width: 1.5;\" width=\"50\" x=\"202\" y=\"100\"/><text fill=\"#000000\" font-family=\"sans-serif\" font-size=\"12\" lengthAdjust=\"spacingAndGlyphs\" textLength=\"24\" x=\"215\" y=\"116.1387\">a: A</text></a></g><g id=\"E1.E10\"><a href=\"psysml:5c182589-a5f3-41ec-a644-db6857a5c19a\" target=\"_top\" title=\"psysml:5c182589-a5f3-41ec-a644-db6857a5c19a\" xlink:actuate=\"onRequest\" xlink:href=\"psysml:5c182589-a5f3-41ec-a644-db6857a5c19a\" xlink:show=\"new\" xlink:title=\"psysml:5c182589-a5f3-41ec-a644-db6857a5c19a\" xlink:type=\"simple\"><rect fill=\"#FFFFFF\" height=\"40\" id=\"E10\" rx=\"10\" ry=\"10\" style=\"stroke: #383838; stroke-width: 1.5;\" width=\"50\" x=\"32\" y=\"100\"/><rect fill=\"#F8F8F8\" height=\"23.9688\" rx=\"10\" ry=\"10\" style=\"stroke: #F8F8F8; stroke-width: 1.5;\" width=\"50\" x=\"32\" y=\"100\"/><rect fill=\"#F8F8F8\" height=\"10\" style=\"stroke: #F8F8F8; stroke-width: 1.5;\" width=\"50\" x=\"32\" y=\"113.9688\"/><rect fill=\"none\" height=\"40\" id=\"E10\" rx=\"10\" ry=\"10\" style=\"stroke: #383838; stroke-width: 1.5;\" width=\"50\" x=\"32\" y=\"100\"/><text fill=\"#000000\" font-family=\"sans-serif\" font-size=\"12\" lengthAdjust=\"spacingAndGlyphs\" textLength=\"24\" x=\"45\" y=\"116.1387\">b: B</text></a></g><!--MD5=[3927b0c66fcd8814a64cb0a9d1b43bbc]\n",
       "@startuml\r\n",
       "skinparam ranksep 10\r\n",
       "skinparam rectangle {\r\n",
       " backgroundColor<<block>> LightGreen\r\n",
       "}\r\n",
       "skinparam monochrome true\r\n",
       "skinparam classbackgroundcolor white\r\n",
       "skinparam shadowing false\r\n",
       "skinparam wrapWidth 300\r\n",
       "hide circle\r\n",
       "\r\n",
       "package \"Q\" as E1  [[psysml:c58eea24-2ccf-44f2-b6e8-e98c7ec17236 ]]  {\r\n",
       "rec def \"F\" as E2  <<(T,blue)part def>> [[psysml:a4e187a3-203e-405d-be98-97d147693ddf ]] {\r\n",
       "rec usage \"a\" as E3  [[psysml:6ada620e-a181-4489-89b5-9a75fb715758 ]] {\r\n",
       "}\r\n",
       "}\r\n",
       "rec usage \"f: F\" as E4  [[psysml:90a61716-c53d-4f92-beb5-5068bb9fa1a0 ]] {\r\n",
       "}\r\n",
       "rec def \"A\" as E5  <<(T,blue)part def>> [[psysml:282ebd08-29d1-4bc9-b49b-68a749240d69 ]] {\r\n",
       "rec usage \"g=f.a; \" as E6  [[psysml:ba34075d-eebc-4755-94e7-ca84c5a458cd ]] {\r\n",
       "}\r\n",
       "}\r\n",
       "rec def \"B\" as E7  <<(T,blue)part def>> [[psysml:88191fe6-4f94-4991-8591-be7eb93db47e ]] {\r\n",
       "rec usage \"f: F\" as E8  [[psysml:ab65aa6d-a5a6-4b47-8167-56da9e982a64 ]] {\r\n",
       "}\r\n",
       "rec usage \"a: A\" as E9  [[psysml:624da0d4-2cfd-4aae-83e5-be6cf87688fa ]] {\r\n",
       "}\r\n",
       "}\r\n",
       "rec usage \"b: B\" as E10  [[psysml:5c182589-a5f3-41ec-a644-db6857a5c19a ]] {\r\n",
       "}\r\n",
       "}\r\n",
       "@enduml\r\n",
       "\n",
       "PlantUML version 1.2020.13(Sat Jun 13 12:26:38 UTC 2020)\n",
       "(EPL source distribution)\n",
       "Java Runtime: OpenJDK Runtime Environment\n",
       "JVM: OpenJDK 64-Bit Server VM\n",
       "Default Encoding: UTF-8\n",
       "Language: en\n",
       "Country: null\n",
       "--></g></svg>"
      ]
     },
     "execution_count": 40,
     "metadata": {},
     "output_type": "execute_result"
    }
   ],
   "source": [
    "%viz --style=\"DEFAULT\" --view=\"Interconnection\" \"Q\""
   ]
  },
  {
   "cell_type": "code",
   "execution_count": 41,
   "id": "ad40b7bc",
   "metadata": {
    "execution": {
     "iopub.execute_input": "2021-05-27T06:12:00.928582Z",
     "iopub.status.busy": "2021-05-27T06:12:00.927622Z",
     "iopub.status.idle": "2021-05-27T06:12:00.938185Z",
     "shell.execute_reply": "2021-05-27T06:12:00.937747Z"
    }
   },
   "outputs": [
    {
     "data": {
      "image/svg+xml": [
       "<?xml version=\"1.0\" encoding=\"UTF-8\" standalone=\"no\"?><svg xmlns=\"http://www.w3.org/2000/svg\" xmlns:xlink=\"http://www.w3.org/1999/xlink\" contentScriptType=\"application/ecmascript\" contentStyleType=\"text/css\" height=\"12px\" preserveAspectRatio=\"none\" style=\"width:12px;height:12px;\" version=\"1.1\" viewBox=\"0 0 12 12\" width=\"12px\" zoomAndPan=\"magnify\"><defs/><g><!--MD5=[388f21188e31bfdd97050473b19af356]\n",
       "@startuml\r\n",
       "skinparam ranksep 8\r\n",
       "skinparam monochrome true\r\n",
       "skinparam classbackgroundcolor white\r\n",
       "skinparam shadowing false\r\n",
       "skinparam wrapWidth 300\r\n",
       "hide circle\r\n",
       "\r\n",
       "@enduml\r\n",
       "\n",
       "PlantUML version 1.2020.13(Sat Jun 13 12:26:38 UTC 2020)\n",
       "(EPL source distribution)\n",
       "Java Runtime: OpenJDK Runtime Environment\n",
       "JVM: OpenJDK 64-Bit Server VM\n",
       "Default Encoding: UTF-8\n",
       "Language: en\n",
       "Country: null\n",
       "--></g></svg>"
      ]
     },
     "execution_count": 41,
     "metadata": {},
     "output_type": "execute_result"
    }
   ],
   "source": [
    "%viz --style=\"DEFAULT\" --view=\"Action\" \"Q\""
   ]
  },
  {
   "cell_type": "code",
   "execution_count": 42,
   "id": "1a2a6e83",
   "metadata": {
    "execution": {
     "iopub.execute_input": "2021-05-27T06:12:00.989251Z",
     "iopub.status.busy": "2021-05-27T06:12:00.988838Z",
     "iopub.status.idle": "2021-05-27T06:12:01.032901Z",
     "shell.execute_reply": "2021-05-27T06:12:01.031228Z"
    }
   },
   "outputs": [
    {
     "data": {
      "image/svg+xml": [
       "<?xml version=\"1.0\" encoding=\"UTF-8\" standalone=\"no\"?><svg xmlns=\"http://www.w3.org/2000/svg\" xmlns:xlink=\"http://www.w3.org/1999/xlink\" contentScriptType=\"application/ecmascript\" contentStyleType=\"text/css\" height=\"539px\" preserveAspectRatio=\"none\" style=\"width:266px;height:539px;\" version=\"1.1\" viewBox=\"0 0 266 539\" width=\"266px\" zoomAndPan=\"magnify\"><defs/><g><!--MD5=[fbc87193dbaf4d95561dea2c320d4a47]\n",
       "cluster E1--><a href=\"psysml:c58eea24-2ccf-44f2-b6e8-e98c7ec17236\" target=\"_top\" title=\"psysml:c58eea24-2ccf-44f2-b6e8-e98c7ec17236\" xlink:actuate=\"onRequest\" xlink:href=\"psysml:c58eea24-2ccf-44f2-b6e8-e98c7ec17236\" xlink:show=\"new\" xlink:title=\"psysml:c58eea24-2ccf-44f2-b6e8-e98c7ec17236\" xlink:type=\"simple\"><polygon fill=\"#FFFFFF\" points=\"16,6,34,6,41,28.2969,244,28.2969,244,527,16,527,16,6\" style=\"stroke: #000000; stroke-width: 1.5;\"/><line style=\"stroke: #000000; stroke-width: 1.5;\" x1=\"16\" x2=\"41\" y1=\"28.2969\" y2=\"28.2969\"/><text fill=\"#000000\" font-family=\"sans-serif\" font-size=\"14\" font-weight=\"bold\" lengthAdjust=\"spacingAndGlyphs\" textLength=\"12\" x=\"20\" y=\"20.9951\">Q</text></a><!--MD5=[b4997ac47864f28c2f74865a473b2911]\n",
       "class E2--><a href=\"psysml:a4e187a3-203e-405d-be98-97d147693ddf\" target=\"_top\" title=\"psysml:a4e187a3-203e-405d-be98-97d147693ddf\" xlink:actuate=\"onRequest\" xlink:href=\"psysml:a4e187a3-203e-405d-be98-97d147693ddf\" xlink:show=\"new\" xlink:title=\"psysml:a4e187a3-203e-405d-be98-97d147693ddf\" xlink:type=\"simple\"><rect fill=\"#FFFFFF\" height=\"45.9375\" id=\"E2\" style=\"stroke: #383838; stroke-width: 1.5;\" width=\"66\" x=\"147\" y=\"359\"/><text fill=\"#000000\" font-family=\"sans-serif\" font-size=\"12\" font-style=\"italic\" lengthAdjust=\"spacingAndGlyphs\" textLength=\"64\" x=\"148\" y=\"375.1387\">«part def»</text><text fill=\"#000000\" font-family=\"sans-serif\" font-size=\"12\" lengthAdjust=\"spacingAndGlyphs\" textLength=\"7\" x=\"176.5\" y=\"389.1074\">F</text><line style=\"stroke: #383838; stroke-width: 1.5;\" x1=\"148\" x2=\"212\" y1=\"396.9375\" y2=\"396.9375\"/></a><!--MD5=[09b614a08d8cba4a07c9adeb5e0fee81]\n",
       "class E3--><a href=\"psysml:6ada620e-a181-4489-89b5-9a75fb715758\" target=\"_top\" title=\"psysml:6ada620e-a181-4489-89b5-9a75fb715758\" xlink:actuate=\"onRequest\" xlink:href=\"psysml:6ada620e-a181-4489-89b5-9a75fb715758\" xlink:show=\"new\" xlink:title=\"psysml:6ada620e-a181-4489-89b5-9a75fb715758\" xlink:type=\"simple\"><rect fill=\"#FFFFFF\" height=\"45.9375\" id=\"E3\" rx=\"10\" ry=\"10\" style=\"stroke: #383838; stroke-width: 1.5;\" width=\"42\" x=\"159\" y=\"465\"/><text fill=\"#000000\" font-family=\"sans-serif\" font-size=\"12\" font-style=\"italic\" lengthAdjust=\"spacingAndGlyphs\" textLength=\"40\" x=\"160\" y=\"481.1387\">«part»</text><text fill=\"#000000\" font-family=\"sans-serif\" font-size=\"12\" lengthAdjust=\"spacingAndGlyphs\" textLength=\"8\" x=\"176\" y=\"495.1074\">a</text><line style=\"stroke: #383838; stroke-width: 1.5;\" x1=\"160\" x2=\"200\" y1=\"502.9375\" y2=\"502.9375\"/></a><!--MD5=[ebbe1d658d1005bcc118a6aa81145e00]\n",
       "class E4--><a href=\"psysml:90a61716-c53d-4f92-beb5-5068bb9fa1a0\" target=\"_top\" title=\"psysml:90a61716-c53d-4f92-beb5-5068bb9fa1a0\" xlink:actuate=\"onRequest\" xlink:href=\"psysml:90a61716-c53d-4f92-beb5-5068bb9fa1a0\" xlink:show=\"new\" xlink:title=\"psysml:90a61716-c53d-4f92-beb5-5068bb9fa1a0\" xlink:type=\"simple\"><rect fill=\"#FFFFFF\" height=\"45.9375\" id=\"E4\" rx=\"10\" ry=\"10\" style=\"stroke: #383838; stroke-width: 1.5;\" width=\"42\" x=\"186\" y=\"253\"/><text fill=\"#000000\" font-family=\"sans-serif\" font-size=\"12\" font-style=\"italic\" lengthAdjust=\"spacingAndGlyphs\" textLength=\"40\" x=\"187\" y=\"269.1387\">«part»</text><text fill=\"#000000\" font-family=\"sans-serif\" font-size=\"12\" lengthAdjust=\"spacingAndGlyphs\" textLength=\"19\" x=\"197.5\" y=\"283.1074\">f: F</text><line style=\"stroke: #383838; stroke-width: 1.5;\" x1=\"187\" x2=\"227\" y1=\"290.9375\" y2=\"290.9375\"/></a><!--MD5=[270fce915f116d4de14055a7c1d9a0f3]\n",
       "class E5--><a href=\"psysml:282ebd08-29d1-4bc9-b49b-68a749240d69\" target=\"_top\" title=\"psysml:282ebd08-29d1-4bc9-b49b-68a749240d69\" xlink:actuate=\"onRequest\" xlink:href=\"psysml:282ebd08-29d1-4bc9-b49b-68a749240d69\" xlink:show=\"new\" xlink:title=\"psysml:282ebd08-29d1-4bc9-b49b-68a749240d69\" xlink:type=\"simple\"><rect fill=\"#FFFFFF\" height=\"45.9375\" id=\"E5\" style=\"stroke: #383838; stroke-width: 1.5;\" width=\"66\" x=\"32\" y=\"359\"/><text fill=\"#000000\" font-family=\"sans-serif\" font-size=\"12\" font-style=\"italic\" lengthAdjust=\"spacingAndGlyphs\" textLength=\"64\" x=\"33\" y=\"375.1387\">«part def»</text><text fill=\"#000000\" font-family=\"sans-serif\" font-size=\"12\" lengthAdjust=\"spacingAndGlyphs\" textLength=\"8\" x=\"61\" y=\"389.1074\">A</text><line style=\"stroke: #383838; stroke-width: 1.5;\" x1=\"33\" x2=\"97\" y1=\"396.9375\" y2=\"396.9375\"/></a><!--MD5=[60a26617385b1d2d0262a64233df1f8d]\n",
       "class E6--><a href=\"psysml:ba34075d-eebc-4755-94e7-ca84c5a458cd\" target=\"_top\" title=\"psysml:ba34075d-eebc-4755-94e7-ca84c5a458cd\" xlink:actuate=\"onRequest\" xlink:href=\"psysml:ba34075d-eebc-4755-94e7-ca84c5a458cd\" xlink:show=\"new\" xlink:title=\"psysml:ba34075d-eebc-4755-94e7-ca84c5a458cd\" xlink:type=\"simple\"><rect fill=\"#FFFFFF\" height=\"45.9375\" id=\"E6\" rx=\"10\" ry=\"10\" style=\"stroke: #383838; stroke-width: 1.5;\" width=\"42\" x=\"44\" y=\"465\"/><text fill=\"#000000\" font-family=\"sans-serif\" font-size=\"12\" font-style=\"italic\" lengthAdjust=\"spacingAndGlyphs\" textLength=\"40\" x=\"45\" y=\"481.1387\">«part»</text><text fill=\"#000000\" font-family=\"sans-serif\" font-size=\"12\" lengthAdjust=\"spacingAndGlyphs\" textLength=\"8\" x=\"61\" y=\"495.1074\">g</text><line style=\"stroke: #383838; stroke-width: 1.5;\" x1=\"45\" x2=\"85\" y1=\"502.9375\" y2=\"502.9375\"/></a><!--MD5=[2156ba9850f5573cc1fc38a6a4b2f02b]\n",
       "class E7--><a href=\"psysml:88191fe6-4f94-4991-8591-be7eb93db47e\" target=\"_top\" title=\"psysml:88191fe6-4f94-4991-8591-be7eb93db47e\" xlink:actuate=\"onRequest\" xlink:href=\"psysml:88191fe6-4f94-4991-8591-be7eb93db47e\" xlink:show=\"new\" xlink:title=\"psysml:88191fe6-4f94-4991-8591-be7eb93db47e\" xlink:type=\"simple\"><rect fill=\"#FFFFFF\" height=\"45.9375\" id=\"E7\" style=\"stroke: #383838; stroke-width: 1.5;\" width=\"66\" x=\"64\" y=\"147\"/><text fill=\"#000000\" font-family=\"sans-serif\" font-size=\"12\" font-style=\"italic\" lengthAdjust=\"spacingAndGlyphs\" textLength=\"64\" x=\"65\" y=\"163.1387\">«part def»</text><text fill=\"#000000\" font-family=\"sans-serif\" font-size=\"12\" lengthAdjust=\"spacingAndGlyphs\" textLength=\"8\" x=\"93\" y=\"177.1074\">B</text><line style=\"stroke: #383838; stroke-width: 1.5;\" x1=\"65\" x2=\"129\" y1=\"184.9375\" y2=\"184.9375\"/></a><!--MD5=[b9389687b975829384b498ac4b7476b2]\n",
       "class E8--><a href=\"psysml:ab65aa6d-a5a6-4b47-8167-56da9e982a64\" target=\"_top\" title=\"psysml:ab65aa6d-a5a6-4b47-8167-56da9e982a64\" xlink:actuate=\"onRequest\" xlink:href=\"psysml:ab65aa6d-a5a6-4b47-8167-56da9e982a64\" xlink:show=\"new\" xlink:title=\"psysml:ab65aa6d-a5a6-4b47-8167-56da9e982a64\" xlink:type=\"simple\"><rect fill=\"#FFFFFF\" height=\"45.9375\" id=\"E8\" rx=\"10\" ry=\"10\" style=\"stroke: #383838; stroke-width: 1.5;\" width=\"42\" x=\"109\" y=\"253\"/><text fill=\"#000000\" font-family=\"sans-serif\" font-size=\"12\" font-style=\"italic\" lengthAdjust=\"spacingAndGlyphs\" textLength=\"40\" x=\"110\" y=\"269.1387\">«part»</text><text fill=\"#000000\" font-family=\"sans-serif\" font-size=\"12\" lengthAdjust=\"spacingAndGlyphs\" textLength=\"19\" x=\"120.5\" y=\"283.1074\">f: F</text><line style=\"stroke: #383838; stroke-width: 1.5;\" x1=\"110\" x2=\"150\" y1=\"290.9375\" y2=\"290.9375\"/></a><!--MD5=[fd4143e9d270a159db93a4ea2a975926]\n",
       "class E9--><a href=\"psysml:624da0d4-2cfd-4aae-83e5-be6cf87688fa\" target=\"_top\" title=\"psysml:624da0d4-2cfd-4aae-83e5-be6cf87688fa\" xlink:actuate=\"onRequest\" xlink:href=\"psysml:624da0d4-2cfd-4aae-83e5-be6cf87688fa\" xlink:show=\"new\" xlink:title=\"psysml:624da0d4-2cfd-4aae-83e5-be6cf87688fa\" xlink:type=\"simple\"><rect fill=\"#FFFFFF\" height=\"45.9375\" id=\"E9\" rx=\"10\" ry=\"10\" style=\"stroke: #383838; stroke-width: 1.5;\" width=\"42\" x=\"32\" y=\"253\"/><text fill=\"#000000\" font-family=\"sans-serif\" font-size=\"12\" font-style=\"italic\" lengthAdjust=\"spacingAndGlyphs\" textLength=\"40\" x=\"33\" y=\"269.1387\">«part»</text><text fill=\"#000000\" font-family=\"sans-serif\" font-size=\"12\" lengthAdjust=\"spacingAndGlyphs\" textLength=\"24\" x=\"41\" y=\"283.1074\">a: A</text><line style=\"stroke: #383838; stroke-width: 1.5;\" x1=\"33\" x2=\"73\" y1=\"290.9375\" y2=\"290.9375\"/></a><!--MD5=[96f4274e9e20536e775497830990834d]\n",
       "class E10--><a href=\"psysml:5c182589-a5f3-41ec-a644-db6857a5c19a\" target=\"_top\" title=\"psysml:5c182589-a5f3-41ec-a644-db6857a5c19a\" xlink:actuate=\"onRequest\" xlink:href=\"psysml:5c182589-a5f3-41ec-a644-db6857a5c19a\" xlink:show=\"new\" xlink:title=\"psysml:5c182589-a5f3-41ec-a644-db6857a5c19a\" xlink:type=\"simple\"><rect fill=\"#FFFFFF\" height=\"45.9375\" id=\"E10\" rx=\"10\" ry=\"10\" style=\"stroke: #383838; stroke-width: 1.5;\" width=\"42\" x=\"76\" y=\"41\"/><text fill=\"#000000\" font-family=\"sans-serif\" font-size=\"12\" font-style=\"italic\" lengthAdjust=\"spacingAndGlyphs\" textLength=\"40\" x=\"77\" y=\"57.1387\">«part»</text><text fill=\"#000000\" font-family=\"sans-serif\" font-size=\"12\" lengthAdjust=\"spacingAndGlyphs\" textLength=\"24\" x=\"85\" y=\"71.1074\">b: B</text><line style=\"stroke: #383838; stroke-width: 1.5;\" x1=\"77\" x2=\"117\" y1=\"78.9375\" y2=\"78.9375\"/></a><!--MD5=[209b3feb70ccb6233bfe1053d122c12c]\n",
       "reverse link E2 to E3--><a href=\"psysml:f4f335e8-ebb2-4b93-b8a2-3184b124f9b4\" target=\"_top\" title=\"psysml:f4f335e8-ebb2-4b93-b8a2-3184b124f9b4\" xlink:actuate=\"onRequest\" xlink:href=\"psysml:f4f335e8-ebb2-4b93-b8a2-3184b124f9b4\" xlink:show=\"new\" xlink:title=\"psysml:f4f335e8-ebb2-4b93-b8a2-3184b124f9b4\" xlink:type=\"simple\"><path d=\"M180,418.44 C180,433.87 180,451.47 180,464.98 \" fill=\"none\" id=\"E2&lt;-E3\" style=\"stroke: #383838; stroke-width: 1.0;\"/><polygon fill=\"#383838\" points=\"180,405.06,176,411.06,180,417.06,184,411.06,180,405.06\" style=\"stroke: #383838; stroke-width: 1.0;\"/></a><!--MD5=[185131fc0dcab0a4505a2ebe144e961b]\n",
       "link E4 to E2--><a href=\"psysml:6b545197-59fa-4019-832b-0413d8dfad43\" target=\"_top\" title=\"psysml:6b545197-59fa-4019-832b-0413d8dfad43\" xlink:actuate=\"onRequest\" xlink:href=\"psysml:6b545197-59fa-4019-832b-0413d8dfad43\" xlink:show=\"new\" xlink:title=\"psysml:6b545197-59fa-4019-832b-0413d8dfad43\" xlink:type=\"simple\"><path d=\"M201.27,299.06 C198.23,310.78 194.39,325.57 190.81,339.36 \" fill=\"none\" id=\"E4-&gt;E2\" style=\"stroke: #383838; stroke-width: 1.0;\"/><polygon fill=\"#FFFFFF\" points=\"185.72,358.98,183.7221,338.8303,197.2724,342.3504,185.72,358.98\" style=\"stroke: #383838; stroke-width: 1.0;\"/><ellipse cx=\"187.091\" cy=\"333.8163\" fill=\"#383838\" rx=\"2\" ry=\"2\" style=\"stroke: #383838; stroke-width: 1.0;\"/><ellipse cx=\"196.7698\" cy=\"336.3307\" fill=\"#383838\" rx=\"2\" ry=\"2\" style=\"stroke: #383838; stroke-width: 1.0;\"/></a><!--MD5=[85d356282659285ab4b2cfe2f634dd2b]\n",
       "reverse link E5 to E6--><a href=\"psysml:42a57766-d710-4931-98ca-f2942df4b5a7\" target=\"_top\" title=\"psysml:42a57766-d710-4931-98ca-f2942df4b5a7\" xlink:actuate=\"onRequest\" xlink:href=\"psysml:42a57766-d710-4931-98ca-f2942df4b5a7\" xlink:show=\"new\" xlink:title=\"psysml:42a57766-d710-4931-98ca-f2942df4b5a7\" xlink:type=\"simple\"><path d=\"M65,418.44 C65,433.87 65,451.47 65,464.98 \" fill=\"none\" id=\"E5&lt;-E6\" style=\"stroke: #383838; stroke-width: 1.0;\"/><polygon fill=\"#383838\" points=\"65,405.06,61,411.06,65,417.06,69,411.06,65,405.06\" style=\"stroke: #383838; stroke-width: 1.0;\"/></a><!--MD5=[dc164f5e8a733ab456ef1add180e9e34]\n",
       "reverse link E7 to E8--><a href=\"psysml:ee3500c3-1d32-470f-b6bb-e11a5c090a2b\" target=\"_top\" title=\"psysml:ee3500c3-1d32-470f-b6bb-e11a5c090a2b\" xlink:actuate=\"onRequest\" xlink:href=\"psysml:ee3500c3-1d32-470f-b6bb-e11a5c090a2b\" xlink:show=\"new\" xlink:title=\"psysml:ee3500c3-1d32-470f-b6bb-e11a5c090a2b\" xlink:type=\"simple\"><path d=\"M107.95,205.49 C112.91,221.15 118.64,239.19 123.01,252.98 \" fill=\"none\" id=\"E7&lt;-E8\" style=\"stroke: #383838; stroke-width: 1.0;\"/><polygon fill=\"#383838\" points=\"104,193.06,101.9989,199.9879,107.6243,204.4996,109.6253,197.5717,104,193.06\" style=\"stroke: #383838; stroke-width: 1.0;\"/></a><!--MD5=[f1f3f9f2fc535e6147756cb86a7f2e32]\n",
       "link E8 to E2--><a href=\"psysml:385ac8e9-821f-48a2-9a91-91f0503517ad\" target=\"_top\" title=\"psysml:385ac8e9-821f-48a2-9a91-91f0503517ad\" xlink:actuate=\"onRequest\" xlink:href=\"psysml:385ac8e9-821f-48a2-9a91-91f0503517ad\" xlink:show=\"new\" xlink:title=\"psysml:385ac8e9-821f-48a2-9a91-91f0503517ad\" xlink:type=\"simple\"><path d=\"M140.6,299.06 C146.44,311.19 153.86,326.62 160.68,340.82 \" fill=\"none\" id=\"E8-&gt;E2\" style=\"stroke: #383838; stroke-width: 1.0;\"/><polygon fill=\"#FFFFFF\" points=\"169.41,358.98,154.8709,344.8869,167.4894,338.8228,169.41,358.98\" style=\"stroke: #383838; stroke-width: 1.0;\"/><ellipse cx=\"154.2046\" cy=\"338.8831\" fill=\"#383838\" rx=\"2\" ry=\"2\" style=\"stroke: #383838; stroke-width: 1.0;\"/><ellipse cx=\"163.2178\" cy=\"334.5516\" fill=\"#383838\" rx=\"2\" ry=\"2\" style=\"stroke: #383838; stroke-width: 1.0;\"/></a><!--MD5=[e4a10ef82d0e328e31cac39a31e58dda]\n",
       "reverse link E7 to E9--><a href=\"psysml:4dc3c190-fff9-4cfd-9ec6-604d7dd22971\" target=\"_top\" title=\"psysml:4dc3c190-fff9-4cfd-9ec6-604d7dd22971\" xlink:actuate=\"onRequest\" xlink:href=\"psysml:4dc3c190-fff9-4cfd-9ec6-604d7dd22971\" xlink:show=\"new\" xlink:title=\"psysml:4dc3c190-fff9-4cfd-9ec6-604d7dd22971\" xlink:type=\"simple\"><path d=\"M82.41,205.49 C75.78,221.15 68.15,239.19 62.32,252.98 \" fill=\"none\" id=\"E7&lt;-E9\" style=\"stroke: #383838; stroke-width: 1.0;\"/><polygon fill=\"#383838\" points=\"87.67,193.06,81.6505,197.0305,83.0003,204.1142,89.0199,200.1436,87.67,193.06\" style=\"stroke: #383838; stroke-width: 1.0;\"/></a><!--MD5=[bfc3ddf2e613be37104f658f09af896c]\n",
       "link E9 to E5--><a href=\"psysml:e6457602-7adc-4ee0-a454-eb40d686de5b\" target=\"_top\" title=\"psysml:e6457602-7adc-4ee0-a454-eb40d686de5b\" xlink:actuate=\"onRequest\" xlink:href=\"psysml:e6457602-7adc-4ee0-a454-eb40d686de5b\" xlink:show=\"new\" xlink:title=\"psysml:e6457602-7adc-4ee0-a454-eb40d686de5b\" xlink:type=\"simple\"><path d=\"M55.54,299.06 C56.88,310.64 58.56,325.23 60.14,338.87 \" fill=\"none\" id=\"E9-&gt;E5\" style=\"stroke: #383838; stroke-width: 1.0;\"/><polygon fill=\"#FFFFFF\" points=\"62.46,358.98,53.3347,340.9044,67.243,339.3046,62.46,358.98\" style=\"stroke: #383838; stroke-width: 1.0;\"/><ellipse cx=\"54.6702\" cy=\"335.0132\" fill=\"#383838\" rx=\"2\" ry=\"2\" style=\"stroke: #383838; stroke-width: 1.0;\"/><ellipse cx=\"64.6047\" cy=\"333.8704\" fill=\"#383838\" rx=\"2\" ry=\"2\" style=\"stroke: #383838; stroke-width: 1.0;\"/></a><!--MD5=[a919e0967d6f3de553dc51b9865a1d6d]\n",
       "link E10 to E7--><a href=\"psysml:078c16df-6fb3-4d69-bd0c-6c240437776b\" target=\"_top\" title=\"psysml:078c16df-6fb3-4d69-bd0c-6c240437776b\" xlink:actuate=\"onRequest\" xlink:href=\"psysml:078c16df-6fb3-4d69-bd0c-6c240437776b\" xlink:show=\"new\" xlink:title=\"psysml:078c16df-6fb3-4d69-bd0c-6c240437776b\" xlink:type=\"simple\"><path d=\"M97,87.06 C97,98.64 97,113.23 97,126.87 \" fill=\"none\" id=\"E10-&gt;E7\" style=\"stroke: #383838; stroke-width: 1.0;\"/><polygon fill=\"#FFFFFF\" points=\"97,146.98,90,127.98,104,127.98,97,146.98\" style=\"stroke: #383838; stroke-width: 1.0;\"/><ellipse cx=\"92\" cy=\"122.28\" fill=\"#383838\" rx=\"2\" ry=\"2\" style=\"stroke: #383838; stroke-width: 1.0;\"/><ellipse cx=\"102\" cy=\"122.28\" fill=\"#383838\" rx=\"2\" ry=\"2\" style=\"stroke: #383838; stroke-width: 1.0;\"/></a><!--MD5=[a6ceb1ac91e8631b7836ded9c4d4c9e4]\n",
       "@startuml\r\n",
       "skinparam monochrome true\r\n",
       "skinparam classbackgroundcolor white\r\n",
       "skinparam shadowing false\r\n",
       "skinparam wrapWidth 300\r\n",
       "hide circle\r\n",
       "\r\n",
       "package \"Q\" as E1  [[psysml:c58eea24-2ccf-44f2-b6e8-e98c7ec17236 ]]  {\r\n",
       "comp def \"F\" as E2  <<(T,blue)part def>> [[psysml:a4e187a3-203e-405d-be98-97d147693ddf ]] {\r\n",
       "}\r\n",
       "comp usage \"a\" as E3  <<(T,blue)part>> [[psysml:6ada620e-a181-4489-89b5-9a75fb715758 ]] {\r\n",
       "}\r\n",
       "comp usage \"f: F\" as E4  <<(T,blue)part>> [[psysml:90a61716-c53d-4f92-beb5-5068bb9fa1a0 ]] {\r\n",
       "}\r\n",
       "comp def \"A\" as E5  <<(T,blue)part def>> [[psysml:282ebd08-29d1-4bc9-b49b-68a749240d69 ]] {\r\n",
       "}\r\n",
       "comp usage \"g\" as E6  <<(T,blue)part>> [[psysml:ba34075d-eebc-4755-94e7-ca84c5a458cd ]] {\r\n",
       "}\r\n",
       "comp def \"B\" as E7  <<(T,blue)part def>> [[psysml:88191fe6-4f94-4991-8591-be7eb93db47e ]] {\r\n",
       "}\r\n",
       "comp usage \"f: F\" as E8  <<(T,blue)part>> [[psysml:ab65aa6d-a5a6-4b47-8167-56da9e982a64 ]] {\r\n",
       "}\r\n",
       "comp usage \"a: A\" as E9  <<(T,blue)part>> [[psysml:624da0d4-2cfd-4aae-83e5-be6cf87688fa ]] {\r\n",
       "}\r\n",
       "comp usage \"b: B\" as E10  <<(T,blue)part>> [[psysml:5c182589-a5f3-41ec-a644-db6857a5c19a ]] {\r\n",
       "}\r\n",
       "E2 *- - E3 [[psysml:f4f335e8-ebb2-4b93-b8a2-3184b124f9b4 ]] \r\n",
       "E4 - -:|> E2 [[psysml:6b545197-59fa-4019-832b-0413d8dfad43 ]] \r\n",
       "E5 *- - E6 [[psysml:42a57766-d710-4931-98ca-f2942df4b5a7 ]] \r\n",
       "E7 *- - E8 [[psysml:ee3500c3-1d32-470f-b6bb-e11a5c090a2b ]] \r\n",
       "E8 - -:|> E2 [[psysml:385ac8e9-821f-48a2-9a91-91f0503517ad ]] \r\n",
       "E7 *- - E9 [[psysml:4dc3c190-fff9-4cfd-9ec6-604d7dd22971 ]] \r\n",
       "E9 - -:|> E5 [[psysml:e6457602-7adc-4ee0-a454-eb40d686de5b ]] \r\n",
       "E10 - -:|> E7 [[psysml:078c16df-6fb3-4d69-bd0c-6c240437776b ]] \r\n",
       "}\r\n",
       "@enduml\r\n",
       "\n",
       "PlantUML version 1.2020.13(Sat Jun 13 12:26:38 UTC 2020)\n",
       "(EPL source distribution)\n",
       "Java Runtime: OpenJDK Runtime Environment\n",
       "JVM: OpenJDK 64-Bit Server VM\n",
       "Default Encoding: UTF-8\n",
       "Language: en\n",
       "Country: null\n",
       "--></g></svg>"
      ]
     },
     "execution_count": 42,
     "metadata": {},
     "output_type": "execute_result"
    }
   ],
   "source": [
    "%viz --style=\"DEFAULT\" --view=\"Sequence\" \"Q\""
   ]
  },
  {
   "cell_type": "code",
   "execution_count": 43,
   "id": "988785bf",
   "metadata": {
    "execution": {
     "iopub.execute_input": "2021-05-27T06:12:01.083184Z",
     "iopub.status.busy": "2021-05-27T06:12:01.082217Z",
     "iopub.status.idle": "2021-05-27T06:12:01.119279Z",
     "shell.execute_reply": "2021-05-27T06:12:01.117729Z"
    }
   },
   "outputs": [
    {
     "data": {
      "image/svg+xml": [
       "<?xml version=\"1.0\" encoding=\"UTF-8\" standalone=\"no\"?><svg xmlns=\"http://www.w3.org/2000/svg\" xmlns:xlink=\"http://www.w3.org/1999/xlink\" contentScriptType=\"application/ecmascript\" contentStyleType=\"text/css\" height=\"539px\" preserveAspectRatio=\"none\" style=\"width:266px;height:539px;\" version=\"1.1\" viewBox=\"0 0 266 539\" width=\"266px\" zoomAndPan=\"magnify\"><defs/><g><!--MD5=[fbc87193dbaf4d95561dea2c320d4a47]\n",
       "cluster E1--><a href=\"psysml:c58eea24-2ccf-44f2-b6e8-e98c7ec17236\" target=\"_top\" title=\"psysml:c58eea24-2ccf-44f2-b6e8-e98c7ec17236\" xlink:actuate=\"onRequest\" xlink:href=\"psysml:c58eea24-2ccf-44f2-b6e8-e98c7ec17236\" xlink:show=\"new\" xlink:title=\"psysml:c58eea24-2ccf-44f2-b6e8-e98c7ec17236\" xlink:type=\"simple\"><polygon fill=\"#FFFFFF\" points=\"16,6,34,6,41,28.2969,244,28.2969,244,527,16,527,16,6\" style=\"stroke: #000000; stroke-width: 1.5;\"/><line style=\"stroke: #000000; stroke-width: 1.5;\" x1=\"16\" x2=\"41\" y1=\"28.2969\" y2=\"28.2969\"/><text fill=\"#000000\" font-family=\"sans-serif\" font-size=\"14\" font-weight=\"bold\" lengthAdjust=\"spacingAndGlyphs\" textLength=\"12\" x=\"20\" y=\"20.9951\">Q</text></a><!--MD5=[b4997ac47864f28c2f74865a473b2911]\n",
       "class E2--><a href=\"psysml:a4e187a3-203e-405d-be98-97d147693ddf\" target=\"_top\" title=\"psysml:a4e187a3-203e-405d-be98-97d147693ddf\" xlink:actuate=\"onRequest\" xlink:href=\"psysml:a4e187a3-203e-405d-be98-97d147693ddf\" xlink:show=\"new\" xlink:title=\"psysml:a4e187a3-203e-405d-be98-97d147693ddf\" xlink:type=\"simple\"><rect fill=\"#FFFFFF\" height=\"45.9375\" id=\"E2\" style=\"stroke: #383838; stroke-width: 1.5;\" width=\"66\" x=\"147\" y=\"359\"/><text fill=\"#000000\" font-family=\"sans-serif\" font-size=\"12\" font-style=\"italic\" lengthAdjust=\"spacingAndGlyphs\" textLength=\"64\" x=\"148\" y=\"375.1387\">«part def»</text><text fill=\"#000000\" font-family=\"sans-serif\" font-size=\"12\" lengthAdjust=\"spacingAndGlyphs\" textLength=\"7\" x=\"176.5\" y=\"389.1074\">F</text><line style=\"stroke: #383838; stroke-width: 1.5;\" x1=\"148\" x2=\"212\" y1=\"396.9375\" y2=\"396.9375\"/></a><!--MD5=[09b614a08d8cba4a07c9adeb5e0fee81]\n",
       "class E3--><a href=\"psysml:6ada620e-a181-4489-89b5-9a75fb715758\" target=\"_top\" title=\"psysml:6ada620e-a181-4489-89b5-9a75fb715758\" xlink:actuate=\"onRequest\" xlink:href=\"psysml:6ada620e-a181-4489-89b5-9a75fb715758\" xlink:show=\"new\" xlink:title=\"psysml:6ada620e-a181-4489-89b5-9a75fb715758\" xlink:type=\"simple\"><rect fill=\"#FFFFFF\" height=\"45.9375\" id=\"E3\" rx=\"10\" ry=\"10\" style=\"stroke: #383838; stroke-width: 1.5;\" width=\"42\" x=\"159\" y=\"465\"/><text fill=\"#000000\" font-family=\"sans-serif\" font-size=\"12\" font-style=\"italic\" lengthAdjust=\"spacingAndGlyphs\" textLength=\"40\" x=\"160\" y=\"481.1387\">«part»</text><text fill=\"#000000\" font-family=\"sans-serif\" font-size=\"12\" lengthAdjust=\"spacingAndGlyphs\" textLength=\"8\" x=\"176\" y=\"495.1074\">a</text><line style=\"stroke: #383838; stroke-width: 1.5;\" x1=\"160\" x2=\"200\" y1=\"502.9375\" y2=\"502.9375\"/></a><!--MD5=[ebbe1d658d1005bcc118a6aa81145e00]\n",
       "class E4--><a href=\"psysml:90a61716-c53d-4f92-beb5-5068bb9fa1a0\" target=\"_top\" title=\"psysml:90a61716-c53d-4f92-beb5-5068bb9fa1a0\" xlink:actuate=\"onRequest\" xlink:href=\"psysml:90a61716-c53d-4f92-beb5-5068bb9fa1a0\" xlink:show=\"new\" xlink:title=\"psysml:90a61716-c53d-4f92-beb5-5068bb9fa1a0\" xlink:type=\"simple\"><rect fill=\"#FFFFFF\" height=\"45.9375\" id=\"E4\" rx=\"10\" ry=\"10\" style=\"stroke: #383838; stroke-width: 1.5;\" width=\"42\" x=\"186\" y=\"253\"/><text fill=\"#000000\" font-family=\"sans-serif\" font-size=\"12\" font-style=\"italic\" lengthAdjust=\"spacingAndGlyphs\" textLength=\"40\" x=\"187\" y=\"269.1387\">«part»</text><text fill=\"#000000\" font-family=\"sans-serif\" font-size=\"12\" lengthAdjust=\"spacingAndGlyphs\" textLength=\"19\" x=\"197.5\" y=\"283.1074\">f: F</text><line style=\"stroke: #383838; stroke-width: 1.5;\" x1=\"187\" x2=\"227\" y1=\"290.9375\" y2=\"290.9375\"/></a><!--MD5=[270fce915f116d4de14055a7c1d9a0f3]\n",
       "class E5--><a href=\"psysml:282ebd08-29d1-4bc9-b49b-68a749240d69\" target=\"_top\" title=\"psysml:282ebd08-29d1-4bc9-b49b-68a749240d69\" xlink:actuate=\"onRequest\" xlink:href=\"psysml:282ebd08-29d1-4bc9-b49b-68a749240d69\" xlink:show=\"new\" xlink:title=\"psysml:282ebd08-29d1-4bc9-b49b-68a749240d69\" xlink:type=\"simple\"><rect fill=\"#FFFFFF\" height=\"45.9375\" id=\"E5\" style=\"stroke: #383838; stroke-width: 1.5;\" width=\"66\" x=\"32\" y=\"359\"/><text fill=\"#000000\" font-family=\"sans-serif\" font-size=\"12\" font-style=\"italic\" lengthAdjust=\"spacingAndGlyphs\" textLength=\"64\" x=\"33\" y=\"375.1387\">«part def»</text><text fill=\"#000000\" font-family=\"sans-serif\" font-size=\"12\" lengthAdjust=\"spacingAndGlyphs\" textLength=\"8\" x=\"61\" y=\"389.1074\">A</text><line style=\"stroke: #383838; stroke-width: 1.5;\" x1=\"33\" x2=\"97\" y1=\"396.9375\" y2=\"396.9375\"/></a><!--MD5=[60a26617385b1d2d0262a64233df1f8d]\n",
       "class E6--><a href=\"psysml:ba34075d-eebc-4755-94e7-ca84c5a458cd\" target=\"_top\" title=\"psysml:ba34075d-eebc-4755-94e7-ca84c5a458cd\" xlink:actuate=\"onRequest\" xlink:href=\"psysml:ba34075d-eebc-4755-94e7-ca84c5a458cd\" xlink:show=\"new\" xlink:title=\"psysml:ba34075d-eebc-4755-94e7-ca84c5a458cd\" xlink:type=\"simple\"><rect fill=\"#FFFFFF\" height=\"45.9375\" id=\"E6\" rx=\"10\" ry=\"10\" style=\"stroke: #383838; stroke-width: 1.5;\" width=\"42\" x=\"44\" y=\"465\"/><text fill=\"#000000\" font-family=\"sans-serif\" font-size=\"12\" font-style=\"italic\" lengthAdjust=\"spacingAndGlyphs\" textLength=\"40\" x=\"45\" y=\"481.1387\">«part»</text><text fill=\"#000000\" font-family=\"sans-serif\" font-size=\"12\" lengthAdjust=\"spacingAndGlyphs\" textLength=\"8\" x=\"61\" y=\"495.1074\">g</text><line style=\"stroke: #383838; stroke-width: 1.5;\" x1=\"45\" x2=\"85\" y1=\"502.9375\" y2=\"502.9375\"/></a><!--MD5=[2156ba9850f5573cc1fc38a6a4b2f02b]\n",
       "class E7--><a href=\"psysml:88191fe6-4f94-4991-8591-be7eb93db47e\" target=\"_top\" title=\"psysml:88191fe6-4f94-4991-8591-be7eb93db47e\" xlink:actuate=\"onRequest\" xlink:href=\"psysml:88191fe6-4f94-4991-8591-be7eb93db47e\" xlink:show=\"new\" xlink:title=\"psysml:88191fe6-4f94-4991-8591-be7eb93db47e\" xlink:type=\"simple\"><rect fill=\"#FFFFFF\" height=\"45.9375\" id=\"E7\" style=\"stroke: #383838; stroke-width: 1.5;\" width=\"66\" x=\"64\" y=\"147\"/><text fill=\"#000000\" font-family=\"sans-serif\" font-size=\"12\" font-style=\"italic\" lengthAdjust=\"spacingAndGlyphs\" textLength=\"64\" x=\"65\" y=\"163.1387\">«part def»</text><text fill=\"#000000\" font-family=\"sans-serif\" font-size=\"12\" lengthAdjust=\"spacingAndGlyphs\" textLength=\"8\" x=\"93\" y=\"177.1074\">B</text><line style=\"stroke: #383838; stroke-width: 1.5;\" x1=\"65\" x2=\"129\" y1=\"184.9375\" y2=\"184.9375\"/></a><!--MD5=[b9389687b975829384b498ac4b7476b2]\n",
       "class E8--><a href=\"psysml:ab65aa6d-a5a6-4b47-8167-56da9e982a64\" target=\"_top\" title=\"psysml:ab65aa6d-a5a6-4b47-8167-56da9e982a64\" xlink:actuate=\"onRequest\" xlink:href=\"psysml:ab65aa6d-a5a6-4b47-8167-56da9e982a64\" xlink:show=\"new\" xlink:title=\"psysml:ab65aa6d-a5a6-4b47-8167-56da9e982a64\" xlink:type=\"simple\"><rect fill=\"#FFFFFF\" height=\"45.9375\" id=\"E8\" rx=\"10\" ry=\"10\" style=\"stroke: #383838; stroke-width: 1.5;\" width=\"42\" x=\"109\" y=\"253\"/><text fill=\"#000000\" font-family=\"sans-serif\" font-size=\"12\" font-style=\"italic\" lengthAdjust=\"spacingAndGlyphs\" textLength=\"40\" x=\"110\" y=\"269.1387\">«part»</text><text fill=\"#000000\" font-family=\"sans-serif\" font-size=\"12\" lengthAdjust=\"spacingAndGlyphs\" textLength=\"19\" x=\"120.5\" y=\"283.1074\">f: F</text><line style=\"stroke: #383838; stroke-width: 1.5;\" x1=\"110\" x2=\"150\" y1=\"290.9375\" y2=\"290.9375\"/></a><!--MD5=[fd4143e9d270a159db93a4ea2a975926]\n",
       "class E9--><a href=\"psysml:624da0d4-2cfd-4aae-83e5-be6cf87688fa\" target=\"_top\" title=\"psysml:624da0d4-2cfd-4aae-83e5-be6cf87688fa\" xlink:actuate=\"onRequest\" xlink:href=\"psysml:624da0d4-2cfd-4aae-83e5-be6cf87688fa\" xlink:show=\"new\" xlink:title=\"psysml:624da0d4-2cfd-4aae-83e5-be6cf87688fa\" xlink:type=\"simple\"><rect fill=\"#FFFFFF\" height=\"45.9375\" id=\"E9\" rx=\"10\" ry=\"10\" style=\"stroke: #383838; stroke-width: 1.5;\" width=\"42\" x=\"32\" y=\"253\"/><text fill=\"#000000\" font-family=\"sans-serif\" font-size=\"12\" font-style=\"italic\" lengthAdjust=\"spacingAndGlyphs\" textLength=\"40\" x=\"33\" y=\"269.1387\">«part»</text><text fill=\"#000000\" font-family=\"sans-serif\" font-size=\"12\" lengthAdjust=\"spacingAndGlyphs\" textLength=\"24\" x=\"41\" y=\"283.1074\">a: A</text><line style=\"stroke: #383838; stroke-width: 1.5;\" x1=\"33\" x2=\"73\" y1=\"290.9375\" y2=\"290.9375\"/></a><!--MD5=[96f4274e9e20536e775497830990834d]\n",
       "class E10--><a href=\"psysml:5c182589-a5f3-41ec-a644-db6857a5c19a\" target=\"_top\" title=\"psysml:5c182589-a5f3-41ec-a644-db6857a5c19a\" xlink:actuate=\"onRequest\" xlink:href=\"psysml:5c182589-a5f3-41ec-a644-db6857a5c19a\" xlink:show=\"new\" xlink:title=\"psysml:5c182589-a5f3-41ec-a644-db6857a5c19a\" xlink:type=\"simple\"><rect fill=\"#FFFFFF\" height=\"45.9375\" id=\"E10\" rx=\"10\" ry=\"10\" style=\"stroke: #383838; stroke-width: 1.5;\" width=\"42\" x=\"76\" y=\"41\"/><text fill=\"#000000\" font-family=\"sans-serif\" font-size=\"12\" font-style=\"italic\" lengthAdjust=\"spacingAndGlyphs\" textLength=\"40\" x=\"77\" y=\"57.1387\">«part»</text><text fill=\"#000000\" font-family=\"sans-serif\" font-size=\"12\" lengthAdjust=\"spacingAndGlyphs\" textLength=\"24\" x=\"85\" y=\"71.1074\">b: B</text><line style=\"stroke: #383838; stroke-width: 1.5;\" x1=\"77\" x2=\"117\" y1=\"78.9375\" y2=\"78.9375\"/></a><!--MD5=[209b3feb70ccb6233bfe1053d122c12c]\n",
       "reverse link E2 to E3--><a href=\"psysml:f4f335e8-ebb2-4b93-b8a2-3184b124f9b4\" target=\"_top\" title=\"psysml:f4f335e8-ebb2-4b93-b8a2-3184b124f9b4\" xlink:actuate=\"onRequest\" xlink:href=\"psysml:f4f335e8-ebb2-4b93-b8a2-3184b124f9b4\" xlink:show=\"new\" xlink:title=\"psysml:f4f335e8-ebb2-4b93-b8a2-3184b124f9b4\" xlink:type=\"simple\"><path d=\"M180,418.44 C180,433.87 180,451.47 180,464.98 \" fill=\"none\" id=\"E2&lt;-E3\" style=\"stroke: #383838; stroke-width: 1.0;\"/><polygon fill=\"#383838\" points=\"180,405.06,176,411.06,180,417.06,184,411.06,180,405.06\" style=\"stroke: #383838; stroke-width: 1.0;\"/></a><!--MD5=[185131fc0dcab0a4505a2ebe144e961b]\n",
       "link E4 to E2--><a href=\"psysml:6b545197-59fa-4019-832b-0413d8dfad43\" target=\"_top\" title=\"psysml:6b545197-59fa-4019-832b-0413d8dfad43\" xlink:actuate=\"onRequest\" xlink:href=\"psysml:6b545197-59fa-4019-832b-0413d8dfad43\" xlink:show=\"new\" xlink:title=\"psysml:6b545197-59fa-4019-832b-0413d8dfad43\" xlink:type=\"simple\"><path d=\"M201.27,299.06 C198.23,310.78 194.39,325.57 190.81,339.36 \" fill=\"none\" id=\"E4-&gt;E2\" style=\"stroke: #383838; stroke-width: 1.0;\"/><polygon fill=\"#FFFFFF\" points=\"185.72,358.98,183.7221,338.8303,197.2724,342.3504,185.72,358.98\" style=\"stroke: #383838; stroke-width: 1.0;\"/><ellipse cx=\"187.091\" cy=\"333.8163\" fill=\"#383838\" rx=\"2\" ry=\"2\" style=\"stroke: #383838; stroke-width: 1.0;\"/><ellipse cx=\"196.7698\" cy=\"336.3307\" fill=\"#383838\" rx=\"2\" ry=\"2\" style=\"stroke: #383838; stroke-width: 1.0;\"/></a><!--MD5=[85d356282659285ab4b2cfe2f634dd2b]\n",
       "reverse link E5 to E6--><a href=\"psysml:42a57766-d710-4931-98ca-f2942df4b5a7\" target=\"_top\" title=\"psysml:42a57766-d710-4931-98ca-f2942df4b5a7\" xlink:actuate=\"onRequest\" xlink:href=\"psysml:42a57766-d710-4931-98ca-f2942df4b5a7\" xlink:show=\"new\" xlink:title=\"psysml:42a57766-d710-4931-98ca-f2942df4b5a7\" xlink:type=\"simple\"><path d=\"M65,418.44 C65,433.87 65,451.47 65,464.98 \" fill=\"none\" id=\"E5&lt;-E6\" style=\"stroke: #383838; stroke-width: 1.0;\"/><polygon fill=\"#383838\" points=\"65,405.06,61,411.06,65,417.06,69,411.06,65,405.06\" style=\"stroke: #383838; stroke-width: 1.0;\"/></a><!--MD5=[dc164f5e8a733ab456ef1add180e9e34]\n",
       "reverse link E7 to E8--><a href=\"psysml:ee3500c3-1d32-470f-b6bb-e11a5c090a2b\" target=\"_top\" title=\"psysml:ee3500c3-1d32-470f-b6bb-e11a5c090a2b\" xlink:actuate=\"onRequest\" xlink:href=\"psysml:ee3500c3-1d32-470f-b6bb-e11a5c090a2b\" xlink:show=\"new\" xlink:title=\"psysml:ee3500c3-1d32-470f-b6bb-e11a5c090a2b\" xlink:type=\"simple\"><path d=\"M107.95,205.49 C112.91,221.15 118.64,239.19 123.01,252.98 \" fill=\"none\" id=\"E7&lt;-E8\" style=\"stroke: #383838; stroke-width: 1.0;\"/><polygon fill=\"#383838\" points=\"104,193.06,101.9989,199.9879,107.6243,204.4996,109.6253,197.5717,104,193.06\" style=\"stroke: #383838; stroke-width: 1.0;\"/></a><!--MD5=[f1f3f9f2fc535e6147756cb86a7f2e32]\n",
       "link E8 to E2--><a href=\"psysml:385ac8e9-821f-48a2-9a91-91f0503517ad\" target=\"_top\" title=\"psysml:385ac8e9-821f-48a2-9a91-91f0503517ad\" xlink:actuate=\"onRequest\" xlink:href=\"psysml:385ac8e9-821f-48a2-9a91-91f0503517ad\" xlink:show=\"new\" xlink:title=\"psysml:385ac8e9-821f-48a2-9a91-91f0503517ad\" xlink:type=\"simple\"><path d=\"M140.6,299.06 C146.44,311.19 153.86,326.62 160.68,340.82 \" fill=\"none\" id=\"E8-&gt;E2\" style=\"stroke: #383838; stroke-width: 1.0;\"/><polygon fill=\"#FFFFFF\" points=\"169.41,358.98,154.8709,344.8869,167.4894,338.8228,169.41,358.98\" style=\"stroke: #383838; stroke-width: 1.0;\"/><ellipse cx=\"154.2046\" cy=\"338.8831\" fill=\"#383838\" rx=\"2\" ry=\"2\" style=\"stroke: #383838; stroke-width: 1.0;\"/><ellipse cx=\"163.2178\" cy=\"334.5516\" fill=\"#383838\" rx=\"2\" ry=\"2\" style=\"stroke: #383838; stroke-width: 1.0;\"/></a><!--MD5=[e4a10ef82d0e328e31cac39a31e58dda]\n",
       "reverse link E7 to E9--><a href=\"psysml:4dc3c190-fff9-4cfd-9ec6-604d7dd22971\" target=\"_top\" title=\"psysml:4dc3c190-fff9-4cfd-9ec6-604d7dd22971\" xlink:actuate=\"onRequest\" xlink:href=\"psysml:4dc3c190-fff9-4cfd-9ec6-604d7dd22971\" xlink:show=\"new\" xlink:title=\"psysml:4dc3c190-fff9-4cfd-9ec6-604d7dd22971\" xlink:type=\"simple\"><path d=\"M82.41,205.49 C75.78,221.15 68.15,239.19 62.32,252.98 \" fill=\"none\" id=\"E7&lt;-E9\" style=\"stroke: #383838; stroke-width: 1.0;\"/><polygon fill=\"#383838\" points=\"87.67,193.06,81.6505,197.0305,83.0003,204.1142,89.0199,200.1436,87.67,193.06\" style=\"stroke: #383838; stroke-width: 1.0;\"/></a><!--MD5=[bfc3ddf2e613be37104f658f09af896c]\n",
       "link E9 to E5--><a href=\"psysml:e6457602-7adc-4ee0-a454-eb40d686de5b\" target=\"_top\" title=\"psysml:e6457602-7adc-4ee0-a454-eb40d686de5b\" xlink:actuate=\"onRequest\" xlink:href=\"psysml:e6457602-7adc-4ee0-a454-eb40d686de5b\" xlink:show=\"new\" xlink:title=\"psysml:e6457602-7adc-4ee0-a454-eb40d686de5b\" xlink:type=\"simple\"><path d=\"M55.54,299.06 C56.88,310.64 58.56,325.23 60.14,338.87 \" fill=\"none\" id=\"E9-&gt;E5\" style=\"stroke: #383838; stroke-width: 1.0;\"/><polygon fill=\"#FFFFFF\" points=\"62.46,358.98,53.3347,340.9044,67.243,339.3046,62.46,358.98\" style=\"stroke: #383838; stroke-width: 1.0;\"/><ellipse cx=\"54.6702\" cy=\"335.0132\" fill=\"#383838\" rx=\"2\" ry=\"2\" style=\"stroke: #383838; stroke-width: 1.0;\"/><ellipse cx=\"64.6047\" cy=\"333.8704\" fill=\"#383838\" rx=\"2\" ry=\"2\" style=\"stroke: #383838; stroke-width: 1.0;\"/></a><!--MD5=[a919e0967d6f3de553dc51b9865a1d6d]\n",
       "link E10 to E7--><a href=\"psysml:078c16df-6fb3-4d69-bd0c-6c240437776b\" target=\"_top\" title=\"psysml:078c16df-6fb3-4d69-bd0c-6c240437776b\" xlink:actuate=\"onRequest\" xlink:href=\"psysml:078c16df-6fb3-4d69-bd0c-6c240437776b\" xlink:show=\"new\" xlink:title=\"psysml:078c16df-6fb3-4d69-bd0c-6c240437776b\" xlink:type=\"simple\"><path d=\"M97,87.06 C97,98.64 97,113.23 97,126.87 \" fill=\"none\" id=\"E10-&gt;E7\" style=\"stroke: #383838; stroke-width: 1.0;\"/><polygon fill=\"#FFFFFF\" points=\"97,146.98,90,127.98,104,127.98,97,146.98\" style=\"stroke: #383838; stroke-width: 1.0;\"/><ellipse cx=\"92\" cy=\"122.28\" fill=\"#383838\" rx=\"2\" ry=\"2\" style=\"stroke: #383838; stroke-width: 1.0;\"/><ellipse cx=\"102\" cy=\"122.28\" fill=\"#383838\" rx=\"2\" ry=\"2\" style=\"stroke: #383838; stroke-width: 1.0;\"/></a><!--MD5=[a6ceb1ac91e8631b7836ded9c4d4c9e4]\n",
       "@startuml\r\n",
       "skinparam monochrome true\r\n",
       "skinparam classbackgroundcolor white\r\n",
       "skinparam shadowing false\r\n",
       "skinparam wrapWidth 300\r\n",
       "hide circle\r\n",
       "\r\n",
       "package \"Q\" as E1  [[psysml:c58eea24-2ccf-44f2-b6e8-e98c7ec17236 ]]  {\r\n",
       "comp def \"F\" as E2  <<(T,blue)part def>> [[psysml:a4e187a3-203e-405d-be98-97d147693ddf ]] {\r\n",
       "}\r\n",
       "comp usage \"a\" as E3  <<(T,blue)part>> [[psysml:6ada620e-a181-4489-89b5-9a75fb715758 ]] {\r\n",
       "}\r\n",
       "comp usage \"f: F\" as E4  <<(T,blue)part>> [[psysml:90a61716-c53d-4f92-beb5-5068bb9fa1a0 ]] {\r\n",
       "}\r\n",
       "comp def \"A\" as E5  <<(T,blue)part def>> [[psysml:282ebd08-29d1-4bc9-b49b-68a749240d69 ]] {\r\n",
       "}\r\n",
       "comp usage \"g\" as E6  <<(T,blue)part>> [[psysml:ba34075d-eebc-4755-94e7-ca84c5a458cd ]] {\r\n",
       "}\r\n",
       "comp def \"B\" as E7  <<(T,blue)part def>> [[psysml:88191fe6-4f94-4991-8591-be7eb93db47e ]] {\r\n",
       "}\r\n",
       "comp usage \"f: F\" as E8  <<(T,blue)part>> [[psysml:ab65aa6d-a5a6-4b47-8167-56da9e982a64 ]] {\r\n",
       "}\r\n",
       "comp usage \"a: A\" as E9  <<(T,blue)part>> [[psysml:624da0d4-2cfd-4aae-83e5-be6cf87688fa ]] {\r\n",
       "}\r\n",
       "comp usage \"b: B\" as E10  <<(T,blue)part>> [[psysml:5c182589-a5f3-41ec-a644-db6857a5c19a ]] {\r\n",
       "}\r\n",
       "E2 *- - E3 [[psysml:f4f335e8-ebb2-4b93-b8a2-3184b124f9b4 ]] \r\n",
       "E4 - -:|> E2 [[psysml:6b545197-59fa-4019-832b-0413d8dfad43 ]] \r\n",
       "E5 *- - E6 [[psysml:42a57766-d710-4931-98ca-f2942df4b5a7 ]] \r\n",
       "E7 *- - E8 [[psysml:ee3500c3-1d32-470f-b6bb-e11a5c090a2b ]] \r\n",
       "E8 - -:|> E2 [[psysml:385ac8e9-821f-48a2-9a91-91f0503517ad ]] \r\n",
       "E7 *- - E9 [[psysml:4dc3c190-fff9-4cfd-9ec6-604d7dd22971 ]] \r\n",
       "E9 - -:|> E5 [[psysml:e6457602-7adc-4ee0-a454-eb40d686de5b ]] \r\n",
       "E10 - -:|> E7 [[psysml:078c16df-6fb3-4d69-bd0c-6c240437776b ]] \r\n",
       "}\r\n",
       "@enduml\r\n",
       "\n",
       "PlantUML version 1.2020.13(Sat Jun 13 12:26:38 UTC 2020)\n",
       "(EPL source distribution)\n",
       "Java Runtime: OpenJDK Runtime Environment\n",
       "JVM: OpenJDK 64-Bit Server VM\n",
       "Default Encoding: UTF-8\n",
       "Language: en\n",
       "Country: null\n",
       "--></g></svg>"
      ]
     },
     "execution_count": 43,
     "metadata": {},
     "output_type": "execute_result"
    }
   ],
   "source": [
    "%viz --style=\"DEFAULT\" --view=\"MIXED\" \"Q\""
   ]
  },
  {
   "cell_type": "code",
   "execution_count": 44,
   "id": "56d492e3",
   "metadata": {
    "execution": {
     "iopub.execute_input": "2021-05-27T06:12:01.168346Z",
     "iopub.status.busy": "2021-05-27T06:12:01.167404Z",
     "iopub.status.idle": "2021-05-27T06:12:01.207465Z",
     "shell.execute_reply": "2021-05-27T06:12:01.206735Z"
    }
   },
   "outputs": [
    {
     "data": {
      "image/svg+xml": [
       "<?xml version=\"1.0\" encoding=\"UTF-8\" standalone=\"no\"?><svg xmlns=\"http://www.w3.org/2000/svg\" xmlns:xlink=\"http://www.w3.org/1999/xlink\" contentScriptType=\"application/ecmascript\" contentStyleType=\"text/css\" height=\"539px\" preserveAspectRatio=\"none\" style=\"width:266px;height:539px;\" version=\"1.1\" viewBox=\"0 0 266 539\" width=\"266px\" zoomAndPan=\"magnify\"><defs/><g><!--MD5=[fbc87193dbaf4d95561dea2c320d4a47]\n",
       "cluster E1--><a href=\"psysml:c58eea24-2ccf-44f2-b6e8-e98c7ec17236\" target=\"_top\" title=\"psysml:c58eea24-2ccf-44f2-b6e8-e98c7ec17236\" xlink:actuate=\"onRequest\" xlink:href=\"psysml:c58eea24-2ccf-44f2-b6e8-e98c7ec17236\" xlink:show=\"new\" xlink:title=\"psysml:c58eea24-2ccf-44f2-b6e8-e98c7ec17236\" xlink:type=\"simple\"><polygon fill=\"#FFFFFF\" points=\"16,6,34,6,41,28.2969,244,28.2969,244,527,16,527,16,6\" style=\"stroke: #000000; stroke-width: 1.5;\"/><line style=\"stroke: #000000; stroke-width: 1.5;\" x1=\"16\" x2=\"41\" y1=\"28.2969\" y2=\"28.2969\"/><text fill=\"#000000\" font-family=\"sans-serif\" font-size=\"14\" font-weight=\"bold\" lengthAdjust=\"spacingAndGlyphs\" textLength=\"12\" x=\"20\" y=\"20.9951\">Q</text></a><!--MD5=[b4997ac47864f28c2f74865a473b2911]\n",
       "class E2--><a href=\"psysml:a4e187a3-203e-405d-be98-97d147693ddf\" target=\"_top\" title=\"psysml:a4e187a3-203e-405d-be98-97d147693ddf\" xlink:actuate=\"onRequest\" xlink:href=\"psysml:a4e187a3-203e-405d-be98-97d147693ddf\" xlink:show=\"new\" xlink:title=\"psysml:a4e187a3-203e-405d-be98-97d147693ddf\" xlink:type=\"simple\"><rect fill=\"#FFFFFF\" height=\"45.9375\" id=\"E2\" style=\"stroke: #383838; stroke-width: 1.5;\" width=\"66\" x=\"147\" y=\"359\"/><text fill=\"#000000\" font-family=\"sans-serif\" font-size=\"12\" font-style=\"italic\" lengthAdjust=\"spacingAndGlyphs\" textLength=\"64\" x=\"148\" y=\"375.1387\">«part def»</text><text fill=\"#000000\" font-family=\"sans-serif\" font-size=\"12\" lengthAdjust=\"spacingAndGlyphs\" textLength=\"7\" x=\"176.5\" y=\"389.1074\">F</text><line style=\"stroke: #383838; stroke-width: 1.5;\" x1=\"148\" x2=\"212\" y1=\"396.9375\" y2=\"396.9375\"/></a><!--MD5=[09b614a08d8cba4a07c9adeb5e0fee81]\n",
       "class E3--><a href=\"psysml:6ada620e-a181-4489-89b5-9a75fb715758\" target=\"_top\" title=\"psysml:6ada620e-a181-4489-89b5-9a75fb715758\" xlink:actuate=\"onRequest\" xlink:href=\"psysml:6ada620e-a181-4489-89b5-9a75fb715758\" xlink:show=\"new\" xlink:title=\"psysml:6ada620e-a181-4489-89b5-9a75fb715758\" xlink:type=\"simple\"><rect fill=\"#FFFFFF\" height=\"45.9375\" id=\"E3\" rx=\"10\" ry=\"10\" style=\"stroke: #383838; stroke-width: 1.5;\" width=\"42\" x=\"159\" y=\"465\"/><text fill=\"#000000\" font-family=\"sans-serif\" font-size=\"12\" font-style=\"italic\" lengthAdjust=\"spacingAndGlyphs\" textLength=\"40\" x=\"160\" y=\"481.1387\">«part»</text><text fill=\"#000000\" font-family=\"sans-serif\" font-size=\"12\" lengthAdjust=\"spacingAndGlyphs\" textLength=\"8\" x=\"176\" y=\"495.1074\">a</text><line style=\"stroke: #383838; stroke-width: 1.5;\" x1=\"160\" x2=\"200\" y1=\"502.9375\" y2=\"502.9375\"/></a><!--MD5=[ebbe1d658d1005bcc118a6aa81145e00]\n",
       "class E4--><a href=\"psysml:90a61716-c53d-4f92-beb5-5068bb9fa1a0\" target=\"_top\" title=\"psysml:90a61716-c53d-4f92-beb5-5068bb9fa1a0\" xlink:actuate=\"onRequest\" xlink:href=\"psysml:90a61716-c53d-4f92-beb5-5068bb9fa1a0\" xlink:show=\"new\" xlink:title=\"psysml:90a61716-c53d-4f92-beb5-5068bb9fa1a0\" xlink:type=\"simple\"><rect fill=\"#FFFFFF\" height=\"45.9375\" id=\"E4\" rx=\"10\" ry=\"10\" style=\"stroke: #383838; stroke-width: 1.5;\" width=\"42\" x=\"186\" y=\"253\"/><text fill=\"#000000\" font-family=\"sans-serif\" font-size=\"12\" font-style=\"italic\" lengthAdjust=\"spacingAndGlyphs\" textLength=\"40\" x=\"187\" y=\"269.1387\">«part»</text><text fill=\"#000000\" font-family=\"sans-serif\" font-size=\"12\" lengthAdjust=\"spacingAndGlyphs\" textLength=\"19\" x=\"197.5\" y=\"283.1074\">f: F</text><line style=\"stroke: #383838; stroke-width: 1.5;\" x1=\"187\" x2=\"227\" y1=\"290.9375\" y2=\"290.9375\"/></a><!--MD5=[270fce915f116d4de14055a7c1d9a0f3]\n",
       "class E5--><a href=\"psysml:282ebd08-29d1-4bc9-b49b-68a749240d69\" target=\"_top\" title=\"psysml:282ebd08-29d1-4bc9-b49b-68a749240d69\" xlink:actuate=\"onRequest\" xlink:href=\"psysml:282ebd08-29d1-4bc9-b49b-68a749240d69\" xlink:show=\"new\" xlink:title=\"psysml:282ebd08-29d1-4bc9-b49b-68a749240d69\" xlink:type=\"simple\"><rect fill=\"#FFFFFF\" height=\"45.9375\" id=\"E5\" style=\"stroke: #383838; stroke-width: 1.5;\" width=\"66\" x=\"32\" y=\"359\"/><text fill=\"#000000\" font-family=\"sans-serif\" font-size=\"12\" font-style=\"italic\" lengthAdjust=\"spacingAndGlyphs\" textLength=\"64\" x=\"33\" y=\"375.1387\">«part def»</text><text fill=\"#000000\" font-family=\"sans-serif\" font-size=\"12\" lengthAdjust=\"spacingAndGlyphs\" textLength=\"8\" x=\"61\" y=\"389.1074\">A</text><line style=\"stroke: #383838; stroke-width: 1.5;\" x1=\"33\" x2=\"97\" y1=\"396.9375\" y2=\"396.9375\"/></a><!--MD5=[60a26617385b1d2d0262a64233df1f8d]\n",
       "class E6--><a href=\"psysml:ba34075d-eebc-4755-94e7-ca84c5a458cd\" target=\"_top\" title=\"psysml:ba34075d-eebc-4755-94e7-ca84c5a458cd\" xlink:actuate=\"onRequest\" xlink:href=\"psysml:ba34075d-eebc-4755-94e7-ca84c5a458cd\" xlink:show=\"new\" xlink:title=\"psysml:ba34075d-eebc-4755-94e7-ca84c5a458cd\" xlink:type=\"simple\"><rect fill=\"#FFFFFF\" height=\"45.9375\" id=\"E6\" rx=\"10\" ry=\"10\" style=\"stroke: #383838; stroke-width: 1.5;\" width=\"42\" x=\"44\" y=\"465\"/><text fill=\"#000000\" font-family=\"sans-serif\" font-size=\"12\" font-style=\"italic\" lengthAdjust=\"spacingAndGlyphs\" textLength=\"40\" x=\"45\" y=\"481.1387\">«part»</text><text fill=\"#000000\" font-family=\"sans-serif\" font-size=\"12\" lengthAdjust=\"spacingAndGlyphs\" textLength=\"8\" x=\"61\" y=\"495.1074\">g</text><line style=\"stroke: #383838; stroke-width: 1.5;\" x1=\"45\" x2=\"85\" y1=\"502.9375\" y2=\"502.9375\"/></a><!--MD5=[2156ba9850f5573cc1fc38a6a4b2f02b]\n",
       "class E7--><a href=\"psysml:88191fe6-4f94-4991-8591-be7eb93db47e\" target=\"_top\" title=\"psysml:88191fe6-4f94-4991-8591-be7eb93db47e\" xlink:actuate=\"onRequest\" xlink:href=\"psysml:88191fe6-4f94-4991-8591-be7eb93db47e\" xlink:show=\"new\" xlink:title=\"psysml:88191fe6-4f94-4991-8591-be7eb93db47e\" xlink:type=\"simple\"><rect fill=\"#FFFFFF\" height=\"45.9375\" id=\"E7\" style=\"stroke: #383838; stroke-width: 1.5;\" width=\"66\" x=\"64\" y=\"147\"/><text fill=\"#000000\" font-family=\"sans-serif\" font-size=\"12\" font-style=\"italic\" lengthAdjust=\"spacingAndGlyphs\" textLength=\"64\" x=\"65\" y=\"163.1387\">«part def»</text><text fill=\"#000000\" font-family=\"sans-serif\" font-size=\"12\" lengthAdjust=\"spacingAndGlyphs\" textLength=\"8\" x=\"93\" y=\"177.1074\">B</text><line style=\"stroke: #383838; stroke-width: 1.5;\" x1=\"65\" x2=\"129\" y1=\"184.9375\" y2=\"184.9375\"/></a><!--MD5=[b9389687b975829384b498ac4b7476b2]\n",
       "class E8--><a href=\"psysml:ab65aa6d-a5a6-4b47-8167-56da9e982a64\" target=\"_top\" title=\"psysml:ab65aa6d-a5a6-4b47-8167-56da9e982a64\" xlink:actuate=\"onRequest\" xlink:href=\"psysml:ab65aa6d-a5a6-4b47-8167-56da9e982a64\" xlink:show=\"new\" xlink:title=\"psysml:ab65aa6d-a5a6-4b47-8167-56da9e982a64\" xlink:type=\"simple\"><rect fill=\"#FFFFFF\" height=\"45.9375\" id=\"E8\" rx=\"10\" ry=\"10\" style=\"stroke: #383838; stroke-width: 1.5;\" width=\"42\" x=\"109\" y=\"253\"/><text fill=\"#000000\" font-family=\"sans-serif\" font-size=\"12\" font-style=\"italic\" lengthAdjust=\"spacingAndGlyphs\" textLength=\"40\" x=\"110\" y=\"269.1387\">«part»</text><text fill=\"#000000\" font-family=\"sans-serif\" font-size=\"12\" lengthAdjust=\"spacingAndGlyphs\" textLength=\"19\" x=\"120.5\" y=\"283.1074\">f: F</text><line style=\"stroke: #383838; stroke-width: 1.5;\" x1=\"110\" x2=\"150\" y1=\"290.9375\" y2=\"290.9375\"/></a><!--MD5=[fd4143e9d270a159db93a4ea2a975926]\n",
       "class E9--><a href=\"psysml:624da0d4-2cfd-4aae-83e5-be6cf87688fa\" target=\"_top\" title=\"psysml:624da0d4-2cfd-4aae-83e5-be6cf87688fa\" xlink:actuate=\"onRequest\" xlink:href=\"psysml:624da0d4-2cfd-4aae-83e5-be6cf87688fa\" xlink:show=\"new\" xlink:title=\"psysml:624da0d4-2cfd-4aae-83e5-be6cf87688fa\" xlink:type=\"simple\"><rect fill=\"#FFFFFF\" height=\"45.9375\" id=\"E9\" rx=\"10\" ry=\"10\" style=\"stroke: #383838; stroke-width: 1.5;\" width=\"42\" x=\"32\" y=\"253\"/><text fill=\"#000000\" font-family=\"sans-serif\" font-size=\"12\" font-style=\"italic\" lengthAdjust=\"spacingAndGlyphs\" textLength=\"40\" x=\"33\" y=\"269.1387\">«part»</text><text fill=\"#000000\" font-family=\"sans-serif\" font-size=\"12\" lengthAdjust=\"spacingAndGlyphs\" textLength=\"24\" x=\"41\" y=\"283.1074\">a: A</text><line style=\"stroke: #383838; stroke-width: 1.5;\" x1=\"33\" x2=\"73\" y1=\"290.9375\" y2=\"290.9375\"/></a><!--MD5=[96f4274e9e20536e775497830990834d]\n",
       "class E10--><a href=\"psysml:5c182589-a5f3-41ec-a644-db6857a5c19a\" target=\"_top\" title=\"psysml:5c182589-a5f3-41ec-a644-db6857a5c19a\" xlink:actuate=\"onRequest\" xlink:href=\"psysml:5c182589-a5f3-41ec-a644-db6857a5c19a\" xlink:show=\"new\" xlink:title=\"psysml:5c182589-a5f3-41ec-a644-db6857a5c19a\" xlink:type=\"simple\"><rect fill=\"#FFFFFF\" height=\"45.9375\" id=\"E10\" rx=\"10\" ry=\"10\" style=\"stroke: #383838; stroke-width: 1.5;\" width=\"42\" x=\"76\" y=\"41\"/><text fill=\"#000000\" font-family=\"sans-serif\" font-size=\"12\" font-style=\"italic\" lengthAdjust=\"spacingAndGlyphs\" textLength=\"40\" x=\"77\" y=\"57.1387\">«part»</text><text fill=\"#000000\" font-family=\"sans-serif\" font-size=\"12\" lengthAdjust=\"spacingAndGlyphs\" textLength=\"24\" x=\"85\" y=\"71.1074\">b: B</text><line style=\"stroke: #383838; stroke-width: 1.5;\" x1=\"77\" x2=\"117\" y1=\"78.9375\" y2=\"78.9375\"/></a><!--MD5=[209b3feb70ccb6233bfe1053d122c12c]\n",
       "reverse link E2 to E3--><a href=\"psysml:f4f335e8-ebb2-4b93-b8a2-3184b124f9b4\" target=\"_top\" title=\"psysml:f4f335e8-ebb2-4b93-b8a2-3184b124f9b4\" xlink:actuate=\"onRequest\" xlink:href=\"psysml:f4f335e8-ebb2-4b93-b8a2-3184b124f9b4\" xlink:show=\"new\" xlink:title=\"psysml:f4f335e8-ebb2-4b93-b8a2-3184b124f9b4\" xlink:type=\"simple\"><path d=\"M180,418.44 C180,433.87 180,451.47 180,464.98 \" fill=\"none\" id=\"E2&lt;-E3\" style=\"stroke: #383838; stroke-width: 1.0;\"/><polygon fill=\"#383838\" points=\"180,405.06,176,411.06,180,417.06,184,411.06,180,405.06\" style=\"stroke: #383838; stroke-width: 1.0;\"/></a><!--MD5=[185131fc0dcab0a4505a2ebe144e961b]\n",
       "link E4 to E2--><a href=\"psysml:6b545197-59fa-4019-832b-0413d8dfad43\" target=\"_top\" title=\"psysml:6b545197-59fa-4019-832b-0413d8dfad43\" xlink:actuate=\"onRequest\" xlink:href=\"psysml:6b545197-59fa-4019-832b-0413d8dfad43\" xlink:show=\"new\" xlink:title=\"psysml:6b545197-59fa-4019-832b-0413d8dfad43\" xlink:type=\"simple\"><path d=\"M201.27,299.06 C198.23,310.78 194.39,325.57 190.81,339.36 \" fill=\"none\" id=\"E4-&gt;E2\" style=\"stroke: #383838; stroke-width: 1.0;\"/><polygon fill=\"#FFFFFF\" points=\"185.72,358.98,183.7221,338.8303,197.2724,342.3504,185.72,358.98\" style=\"stroke: #383838; stroke-width: 1.0;\"/><ellipse cx=\"187.091\" cy=\"333.8163\" fill=\"#383838\" rx=\"2\" ry=\"2\" style=\"stroke: #383838; stroke-width: 1.0;\"/><ellipse cx=\"196.7698\" cy=\"336.3307\" fill=\"#383838\" rx=\"2\" ry=\"2\" style=\"stroke: #383838; stroke-width: 1.0;\"/></a><!--MD5=[85d356282659285ab4b2cfe2f634dd2b]\n",
       "reverse link E5 to E6--><a href=\"psysml:42a57766-d710-4931-98ca-f2942df4b5a7\" target=\"_top\" title=\"psysml:42a57766-d710-4931-98ca-f2942df4b5a7\" xlink:actuate=\"onRequest\" xlink:href=\"psysml:42a57766-d710-4931-98ca-f2942df4b5a7\" xlink:show=\"new\" xlink:title=\"psysml:42a57766-d710-4931-98ca-f2942df4b5a7\" xlink:type=\"simple\"><path d=\"M65,418.44 C65,433.87 65,451.47 65,464.98 \" fill=\"none\" id=\"E5&lt;-E6\" style=\"stroke: #383838; stroke-width: 1.0;\"/><polygon fill=\"#383838\" points=\"65,405.06,61,411.06,65,417.06,69,411.06,65,405.06\" style=\"stroke: #383838; stroke-width: 1.0;\"/></a><!--MD5=[dc164f5e8a733ab456ef1add180e9e34]\n",
       "reverse link E7 to E8--><a href=\"psysml:ee3500c3-1d32-470f-b6bb-e11a5c090a2b\" target=\"_top\" title=\"psysml:ee3500c3-1d32-470f-b6bb-e11a5c090a2b\" xlink:actuate=\"onRequest\" xlink:href=\"psysml:ee3500c3-1d32-470f-b6bb-e11a5c090a2b\" xlink:show=\"new\" xlink:title=\"psysml:ee3500c3-1d32-470f-b6bb-e11a5c090a2b\" xlink:type=\"simple\"><path d=\"M107.95,205.49 C112.91,221.15 118.64,239.19 123.01,252.98 \" fill=\"none\" id=\"E7&lt;-E8\" style=\"stroke: #383838; stroke-width: 1.0;\"/><polygon fill=\"#383838\" points=\"104,193.06,101.9989,199.9879,107.6243,204.4996,109.6253,197.5717,104,193.06\" style=\"stroke: #383838; stroke-width: 1.0;\"/></a><!--MD5=[f1f3f9f2fc535e6147756cb86a7f2e32]\n",
       "link E8 to E2--><a href=\"psysml:385ac8e9-821f-48a2-9a91-91f0503517ad\" target=\"_top\" title=\"psysml:385ac8e9-821f-48a2-9a91-91f0503517ad\" xlink:actuate=\"onRequest\" xlink:href=\"psysml:385ac8e9-821f-48a2-9a91-91f0503517ad\" xlink:show=\"new\" xlink:title=\"psysml:385ac8e9-821f-48a2-9a91-91f0503517ad\" xlink:type=\"simple\"><path d=\"M140.6,299.06 C146.44,311.19 153.86,326.62 160.68,340.82 \" fill=\"none\" id=\"E8-&gt;E2\" style=\"stroke: #383838; stroke-width: 1.0;\"/><polygon fill=\"#FFFFFF\" points=\"169.41,358.98,154.8709,344.8869,167.4894,338.8228,169.41,358.98\" style=\"stroke: #383838; stroke-width: 1.0;\"/><ellipse cx=\"154.2046\" cy=\"338.8831\" fill=\"#383838\" rx=\"2\" ry=\"2\" style=\"stroke: #383838; stroke-width: 1.0;\"/><ellipse cx=\"163.2178\" cy=\"334.5516\" fill=\"#383838\" rx=\"2\" ry=\"2\" style=\"stroke: #383838; stroke-width: 1.0;\"/></a><!--MD5=[e4a10ef82d0e328e31cac39a31e58dda]\n",
       "reverse link E7 to E9--><a href=\"psysml:4dc3c190-fff9-4cfd-9ec6-604d7dd22971\" target=\"_top\" title=\"psysml:4dc3c190-fff9-4cfd-9ec6-604d7dd22971\" xlink:actuate=\"onRequest\" xlink:href=\"psysml:4dc3c190-fff9-4cfd-9ec6-604d7dd22971\" xlink:show=\"new\" xlink:title=\"psysml:4dc3c190-fff9-4cfd-9ec6-604d7dd22971\" xlink:type=\"simple\"><path d=\"M82.41,205.49 C75.78,221.15 68.15,239.19 62.32,252.98 \" fill=\"none\" id=\"E7&lt;-E9\" style=\"stroke: #383838; stroke-width: 1.0;\"/><polygon fill=\"#383838\" points=\"87.67,193.06,81.6505,197.0305,83.0003,204.1142,89.0199,200.1436,87.67,193.06\" style=\"stroke: #383838; stroke-width: 1.0;\"/></a><!--MD5=[bfc3ddf2e613be37104f658f09af896c]\n",
       "link E9 to E5--><a href=\"psysml:e6457602-7adc-4ee0-a454-eb40d686de5b\" target=\"_top\" title=\"psysml:e6457602-7adc-4ee0-a454-eb40d686de5b\" xlink:actuate=\"onRequest\" xlink:href=\"psysml:e6457602-7adc-4ee0-a454-eb40d686de5b\" xlink:show=\"new\" xlink:title=\"psysml:e6457602-7adc-4ee0-a454-eb40d686de5b\" xlink:type=\"simple\"><path d=\"M55.54,299.06 C56.88,310.64 58.56,325.23 60.14,338.87 \" fill=\"none\" id=\"E9-&gt;E5\" style=\"stroke: #383838; stroke-width: 1.0;\"/><polygon fill=\"#FFFFFF\" points=\"62.46,358.98,53.3347,340.9044,67.243,339.3046,62.46,358.98\" style=\"stroke: #383838; stroke-width: 1.0;\"/><ellipse cx=\"54.6702\" cy=\"335.0132\" fill=\"#383838\" rx=\"2\" ry=\"2\" style=\"stroke: #383838; stroke-width: 1.0;\"/><ellipse cx=\"64.6047\" cy=\"333.8704\" fill=\"#383838\" rx=\"2\" ry=\"2\" style=\"stroke: #383838; stroke-width: 1.0;\"/></a><!--MD5=[a919e0967d6f3de553dc51b9865a1d6d]\n",
       "link E10 to E7--><a href=\"psysml:078c16df-6fb3-4d69-bd0c-6c240437776b\" target=\"_top\" title=\"psysml:078c16df-6fb3-4d69-bd0c-6c240437776b\" xlink:actuate=\"onRequest\" xlink:href=\"psysml:078c16df-6fb3-4d69-bd0c-6c240437776b\" xlink:show=\"new\" xlink:title=\"psysml:078c16df-6fb3-4d69-bd0c-6c240437776b\" xlink:type=\"simple\"><path d=\"M97,87.06 C97,98.64 97,113.23 97,126.87 \" fill=\"none\" id=\"E10-&gt;E7\" style=\"stroke: #383838; stroke-width: 1.0;\"/><polygon fill=\"#FFFFFF\" points=\"97,146.98,90,127.98,104,127.98,97,146.98\" style=\"stroke: #383838; stroke-width: 1.0;\"/><ellipse cx=\"92\" cy=\"122.28\" fill=\"#383838\" rx=\"2\" ry=\"2\" style=\"stroke: #383838; stroke-width: 1.0;\"/><ellipse cx=\"102\" cy=\"122.28\" fill=\"#383838\" rx=\"2\" ry=\"2\" style=\"stroke: #383838; stroke-width: 1.0;\"/></a><!--MD5=[820a10df3a4cd2f7e66e5c481b990468]\n",
       "@startuml\r\n",
       "top to bottom direction\r\n",
       "skinparam monochrome true\r\n",
       "skinparam classbackgroundcolor white\r\n",
       "skinparam shadowing false\r\n",
       "skinparam wrapWidth 300\r\n",
       "hide circle\r\n",
       "\r\n",
       "package \"Q\" as E1  [[psysml:c58eea24-2ccf-44f2-b6e8-e98c7ec17236 ]]  {\r\n",
       "comp def \"F\" as E2  <<(T,blue)part def>> [[psysml:a4e187a3-203e-405d-be98-97d147693ddf ]] {\r\n",
       "}\r\n",
       "comp usage \"a\" as E3  <<(T,blue)part>> [[psysml:6ada620e-a181-4489-89b5-9a75fb715758 ]] {\r\n",
       "}\r\n",
       "comp usage \"f: F\" as E4  <<(T,blue)part>> [[psysml:90a61716-c53d-4f92-beb5-5068bb9fa1a0 ]] {\r\n",
       "}\r\n",
       "comp def \"A\" as E5  <<(T,blue)part def>> [[psysml:282ebd08-29d1-4bc9-b49b-68a749240d69 ]] {\r\n",
       "}\r\n",
       "comp usage \"g\" as E6  <<(T,blue)part>> [[psysml:ba34075d-eebc-4755-94e7-ca84c5a458cd ]] {\r\n",
       "}\r\n",
       "comp def \"B\" as E7  <<(T,blue)part def>> [[psysml:88191fe6-4f94-4991-8591-be7eb93db47e ]] {\r\n",
       "}\r\n",
       "comp usage \"f: F\" as E8  <<(T,blue)part>> [[psysml:ab65aa6d-a5a6-4b47-8167-56da9e982a64 ]] {\r\n",
       "}\r\n",
       "comp usage \"a: A\" as E9  <<(T,blue)part>> [[psysml:624da0d4-2cfd-4aae-83e5-be6cf87688fa ]] {\r\n",
       "}\r\n",
       "comp usage \"b: B\" as E10  <<(T,blue)part>> [[psysml:5c182589-a5f3-41ec-a644-db6857a5c19a ]] {\r\n",
       "}\r\n",
       "E2 *- - E3 [[psysml:f4f335e8-ebb2-4b93-b8a2-3184b124f9b4 ]] \r\n",
       "E4 - -:|> E2 [[psysml:6b545197-59fa-4019-832b-0413d8dfad43 ]] \r\n",
       "E5 *- - E6 [[psysml:42a57766-d710-4931-98ca-f2942df4b5a7 ]] \r\n",
       "E7 *- - E8 [[psysml:ee3500c3-1d32-470f-b6bb-e11a5c090a2b ]] \r\n",
       "E8 - -:|> E2 [[psysml:385ac8e9-821f-48a2-9a91-91f0503517ad ]] \r\n",
       "E7 *- - E9 [[psysml:4dc3c190-fff9-4cfd-9ec6-604d7dd22971 ]] \r\n",
       "E9 - -:|> E5 [[psysml:e6457602-7adc-4ee0-a454-eb40d686de5b ]] \r\n",
       "E10 - -:|> E7 [[psysml:078c16df-6fb3-4d69-bd0c-6c240437776b ]] \r\n",
       "}\r\n",
       "@enduml\r\n",
       "\n",
       "PlantUML version 1.2020.13(Sat Jun 13 12:26:38 UTC 2020)\n",
       "(EPL source distribution)\n",
       "Java Runtime: OpenJDK Runtime Environment\n",
       "JVM: OpenJDK 64-Bit Server VM\n",
       "Default Encoding: UTF-8\n",
       "Language: en\n",
       "Country: null\n",
       "--></g></svg>"
      ]
     },
     "execution_count": 44,
     "metadata": {},
     "output_type": "execute_result"
    }
   ],
   "source": [
    "%viz --style=\"TB\" --view=\"Default\" \"Q\""
   ]
  },
  {
   "cell_type": "code",
   "execution_count": 45,
   "id": "6d2f68d9",
   "metadata": {
    "execution": {
     "iopub.execute_input": "2021-05-27T06:12:01.259174Z",
     "iopub.status.busy": "2021-05-27T06:12:01.258791Z",
     "iopub.status.idle": "2021-05-27T06:12:01.294993Z",
     "shell.execute_reply": "2021-05-27T06:12:01.290459Z"
    }
   },
   "outputs": [
    {
     "data": {
      "image/svg+xml": [
       "<?xml version=\"1.0\" encoding=\"UTF-8\" standalone=\"no\"?><svg xmlns=\"http://www.w3.org/2000/svg\" xmlns:xlink=\"http://www.w3.org/1999/xlink\" contentScriptType=\"application/ecmascript\" contentStyleType=\"text/css\" height=\"539px\" preserveAspectRatio=\"none\" style=\"width:266px;height:539px;\" version=\"1.1\" viewBox=\"0 0 266 539\" width=\"266px\" zoomAndPan=\"magnify\"><defs/><g><!--MD5=[fbc87193dbaf4d95561dea2c320d4a47]\n",
       "cluster E1--><a href=\"psysml:c58eea24-2ccf-44f2-b6e8-e98c7ec17236\" target=\"_top\" title=\"psysml:c58eea24-2ccf-44f2-b6e8-e98c7ec17236\" xlink:actuate=\"onRequest\" xlink:href=\"psysml:c58eea24-2ccf-44f2-b6e8-e98c7ec17236\" xlink:show=\"new\" xlink:title=\"psysml:c58eea24-2ccf-44f2-b6e8-e98c7ec17236\" xlink:type=\"simple\"><polygon fill=\"#FFFFFF\" points=\"16,6,34,6,41,28.2969,244,28.2969,244,527,16,527,16,6\" style=\"stroke: #000000; stroke-width: 1.5;\"/><line style=\"stroke: #000000; stroke-width: 1.5;\" x1=\"16\" x2=\"41\" y1=\"28.2969\" y2=\"28.2969\"/><text fill=\"#000000\" font-family=\"sans-serif\" font-size=\"14\" font-weight=\"bold\" lengthAdjust=\"spacingAndGlyphs\" textLength=\"12\" x=\"20\" y=\"20.9951\">Q</text></a><!--MD5=[b4997ac47864f28c2f74865a473b2911]\n",
       "class E2--><a href=\"psysml:a4e187a3-203e-405d-be98-97d147693ddf\" target=\"_top\" title=\"psysml:a4e187a3-203e-405d-be98-97d147693ddf\" xlink:actuate=\"onRequest\" xlink:href=\"psysml:a4e187a3-203e-405d-be98-97d147693ddf\" xlink:show=\"new\" xlink:title=\"psysml:a4e187a3-203e-405d-be98-97d147693ddf\" xlink:type=\"simple\"><rect fill=\"#FFFFFF\" height=\"45.9375\" id=\"E2\" style=\"stroke: #383838; stroke-width: 1.5;\" width=\"66\" x=\"147\" y=\"359\"/><text fill=\"#000000\" font-family=\"sans-serif\" font-size=\"12\" font-style=\"italic\" lengthAdjust=\"spacingAndGlyphs\" textLength=\"64\" x=\"148\" y=\"375.1387\">«part def»</text><text fill=\"#000000\" font-family=\"sans-serif\" font-size=\"12\" lengthAdjust=\"spacingAndGlyphs\" textLength=\"7\" x=\"176.5\" y=\"389.1074\">F</text><line style=\"stroke: #383838; stroke-width: 1.5;\" x1=\"148\" x2=\"212\" y1=\"396.9375\" y2=\"396.9375\"/></a><!--MD5=[09b614a08d8cba4a07c9adeb5e0fee81]\n",
       "class E3--><a href=\"psysml:6ada620e-a181-4489-89b5-9a75fb715758\" target=\"_top\" title=\"psysml:6ada620e-a181-4489-89b5-9a75fb715758\" xlink:actuate=\"onRequest\" xlink:href=\"psysml:6ada620e-a181-4489-89b5-9a75fb715758\" xlink:show=\"new\" xlink:title=\"psysml:6ada620e-a181-4489-89b5-9a75fb715758\" xlink:type=\"simple\"><rect fill=\"#FFFFFF\" height=\"45.9375\" id=\"E3\" rx=\"10\" ry=\"10\" style=\"stroke: #383838; stroke-width: 1.5;\" width=\"42\" x=\"159\" y=\"465\"/><text fill=\"#000000\" font-family=\"sans-serif\" font-size=\"12\" font-style=\"italic\" lengthAdjust=\"spacingAndGlyphs\" textLength=\"40\" x=\"160\" y=\"481.1387\">«part»</text><text fill=\"#000000\" font-family=\"sans-serif\" font-size=\"12\" lengthAdjust=\"spacingAndGlyphs\" textLength=\"8\" x=\"176\" y=\"495.1074\">a</text><line style=\"stroke: #383838; stroke-width: 1.5;\" x1=\"160\" x2=\"200\" y1=\"502.9375\" y2=\"502.9375\"/></a><!--MD5=[ebbe1d658d1005bcc118a6aa81145e00]\n",
       "class E4--><a href=\"psysml:90a61716-c53d-4f92-beb5-5068bb9fa1a0\" target=\"_top\" title=\"psysml:90a61716-c53d-4f92-beb5-5068bb9fa1a0\" xlink:actuate=\"onRequest\" xlink:href=\"psysml:90a61716-c53d-4f92-beb5-5068bb9fa1a0\" xlink:show=\"new\" xlink:title=\"psysml:90a61716-c53d-4f92-beb5-5068bb9fa1a0\" xlink:type=\"simple\"><rect fill=\"#FFFFFF\" height=\"45.9375\" id=\"E4\" rx=\"10\" ry=\"10\" style=\"stroke: #383838; stroke-width: 1.5;\" width=\"42\" x=\"186\" y=\"253\"/><text fill=\"#000000\" font-family=\"sans-serif\" font-size=\"12\" font-style=\"italic\" lengthAdjust=\"spacingAndGlyphs\" textLength=\"40\" x=\"187\" y=\"269.1387\">«part»</text><text fill=\"#000000\" font-family=\"sans-serif\" font-size=\"12\" lengthAdjust=\"spacingAndGlyphs\" textLength=\"19\" x=\"197.5\" y=\"283.1074\">f: F</text><line style=\"stroke: #383838; stroke-width: 1.5;\" x1=\"187\" x2=\"227\" y1=\"290.9375\" y2=\"290.9375\"/></a><!--MD5=[270fce915f116d4de14055a7c1d9a0f3]\n",
       "class E5--><a href=\"psysml:282ebd08-29d1-4bc9-b49b-68a749240d69\" target=\"_top\" title=\"psysml:282ebd08-29d1-4bc9-b49b-68a749240d69\" xlink:actuate=\"onRequest\" xlink:href=\"psysml:282ebd08-29d1-4bc9-b49b-68a749240d69\" xlink:show=\"new\" xlink:title=\"psysml:282ebd08-29d1-4bc9-b49b-68a749240d69\" xlink:type=\"simple\"><rect fill=\"#FFFFFF\" height=\"45.9375\" id=\"E5\" style=\"stroke: #383838; stroke-width: 1.5;\" width=\"66\" x=\"32\" y=\"359\"/><text fill=\"#000000\" font-family=\"sans-serif\" font-size=\"12\" font-style=\"italic\" lengthAdjust=\"spacingAndGlyphs\" textLength=\"64\" x=\"33\" y=\"375.1387\">«part def»</text><text fill=\"#000000\" font-family=\"sans-serif\" font-size=\"12\" lengthAdjust=\"spacingAndGlyphs\" textLength=\"8\" x=\"61\" y=\"389.1074\">A</text><line style=\"stroke: #383838; stroke-width: 1.5;\" x1=\"33\" x2=\"97\" y1=\"396.9375\" y2=\"396.9375\"/></a><!--MD5=[60a26617385b1d2d0262a64233df1f8d]\n",
       "class E6--><a href=\"psysml:ba34075d-eebc-4755-94e7-ca84c5a458cd\" target=\"_top\" title=\"psysml:ba34075d-eebc-4755-94e7-ca84c5a458cd\" xlink:actuate=\"onRequest\" xlink:href=\"psysml:ba34075d-eebc-4755-94e7-ca84c5a458cd\" xlink:show=\"new\" xlink:title=\"psysml:ba34075d-eebc-4755-94e7-ca84c5a458cd\" xlink:type=\"simple\"><rect fill=\"#FFFFFF\" height=\"45.9375\" id=\"E6\" rx=\"10\" ry=\"10\" style=\"stroke: #383838; stroke-width: 1.5;\" width=\"42\" x=\"44\" y=\"465\"/><text fill=\"#000000\" font-family=\"sans-serif\" font-size=\"12\" font-style=\"italic\" lengthAdjust=\"spacingAndGlyphs\" textLength=\"40\" x=\"45\" y=\"481.1387\">«part»</text><text fill=\"#000000\" font-family=\"sans-serif\" font-size=\"12\" lengthAdjust=\"spacingAndGlyphs\" textLength=\"8\" x=\"61\" y=\"495.1074\">g</text><line style=\"stroke: #383838; stroke-width: 1.5;\" x1=\"45\" x2=\"85\" y1=\"502.9375\" y2=\"502.9375\"/></a><!--MD5=[2156ba9850f5573cc1fc38a6a4b2f02b]\n",
       "class E7--><a href=\"psysml:88191fe6-4f94-4991-8591-be7eb93db47e\" target=\"_top\" title=\"psysml:88191fe6-4f94-4991-8591-be7eb93db47e\" xlink:actuate=\"onRequest\" xlink:href=\"psysml:88191fe6-4f94-4991-8591-be7eb93db47e\" xlink:show=\"new\" xlink:title=\"psysml:88191fe6-4f94-4991-8591-be7eb93db47e\" xlink:type=\"simple\"><rect fill=\"#FFFFFF\" height=\"45.9375\" id=\"E7\" style=\"stroke: #383838; stroke-width: 1.5;\" width=\"66\" x=\"64\" y=\"147\"/><text fill=\"#000000\" font-family=\"sans-serif\" font-size=\"12\" font-style=\"italic\" lengthAdjust=\"spacingAndGlyphs\" textLength=\"64\" x=\"65\" y=\"163.1387\">«part def»</text><text fill=\"#000000\" font-family=\"sans-serif\" font-size=\"12\" lengthAdjust=\"spacingAndGlyphs\" textLength=\"8\" x=\"93\" y=\"177.1074\">B</text><line style=\"stroke: #383838; stroke-width: 1.5;\" x1=\"65\" x2=\"129\" y1=\"184.9375\" y2=\"184.9375\"/></a><!--MD5=[b9389687b975829384b498ac4b7476b2]\n",
       "class E8--><a href=\"psysml:ab65aa6d-a5a6-4b47-8167-56da9e982a64\" target=\"_top\" title=\"psysml:ab65aa6d-a5a6-4b47-8167-56da9e982a64\" xlink:actuate=\"onRequest\" xlink:href=\"psysml:ab65aa6d-a5a6-4b47-8167-56da9e982a64\" xlink:show=\"new\" xlink:title=\"psysml:ab65aa6d-a5a6-4b47-8167-56da9e982a64\" xlink:type=\"simple\"><rect fill=\"#FFFFFF\" height=\"45.9375\" id=\"E8\" rx=\"10\" ry=\"10\" style=\"stroke: #383838; stroke-width: 1.5;\" width=\"42\" x=\"109\" y=\"253\"/><text fill=\"#000000\" font-family=\"sans-serif\" font-size=\"12\" font-style=\"italic\" lengthAdjust=\"spacingAndGlyphs\" textLength=\"40\" x=\"110\" y=\"269.1387\">«part»</text><text fill=\"#000000\" font-family=\"sans-serif\" font-size=\"12\" lengthAdjust=\"spacingAndGlyphs\" textLength=\"19\" x=\"120.5\" y=\"283.1074\">f: F</text><line style=\"stroke: #383838; stroke-width: 1.5;\" x1=\"110\" x2=\"150\" y1=\"290.9375\" y2=\"290.9375\"/></a><!--MD5=[fd4143e9d270a159db93a4ea2a975926]\n",
       "class E9--><a href=\"psysml:624da0d4-2cfd-4aae-83e5-be6cf87688fa\" target=\"_top\" title=\"psysml:624da0d4-2cfd-4aae-83e5-be6cf87688fa\" xlink:actuate=\"onRequest\" xlink:href=\"psysml:624da0d4-2cfd-4aae-83e5-be6cf87688fa\" xlink:show=\"new\" xlink:title=\"psysml:624da0d4-2cfd-4aae-83e5-be6cf87688fa\" xlink:type=\"simple\"><rect fill=\"#FFFFFF\" height=\"45.9375\" id=\"E9\" rx=\"10\" ry=\"10\" style=\"stroke: #383838; stroke-width: 1.5;\" width=\"42\" x=\"32\" y=\"253\"/><text fill=\"#000000\" font-family=\"sans-serif\" font-size=\"12\" font-style=\"italic\" lengthAdjust=\"spacingAndGlyphs\" textLength=\"40\" x=\"33\" y=\"269.1387\">«part»</text><text fill=\"#000000\" font-family=\"sans-serif\" font-size=\"12\" lengthAdjust=\"spacingAndGlyphs\" textLength=\"24\" x=\"41\" y=\"283.1074\">a: A</text><line style=\"stroke: #383838; stroke-width: 1.5;\" x1=\"33\" x2=\"73\" y1=\"290.9375\" y2=\"290.9375\"/></a><!--MD5=[96f4274e9e20536e775497830990834d]\n",
       "class E10--><a href=\"psysml:5c182589-a5f3-41ec-a644-db6857a5c19a\" target=\"_top\" title=\"psysml:5c182589-a5f3-41ec-a644-db6857a5c19a\" xlink:actuate=\"onRequest\" xlink:href=\"psysml:5c182589-a5f3-41ec-a644-db6857a5c19a\" xlink:show=\"new\" xlink:title=\"psysml:5c182589-a5f3-41ec-a644-db6857a5c19a\" xlink:type=\"simple\"><rect fill=\"#FFFFFF\" height=\"45.9375\" id=\"E10\" rx=\"10\" ry=\"10\" style=\"stroke: #383838; stroke-width: 1.5;\" width=\"42\" x=\"76\" y=\"41\"/><text fill=\"#000000\" font-family=\"sans-serif\" font-size=\"12\" font-style=\"italic\" lengthAdjust=\"spacingAndGlyphs\" textLength=\"40\" x=\"77\" y=\"57.1387\">«part»</text><text fill=\"#000000\" font-family=\"sans-serif\" font-size=\"12\" lengthAdjust=\"spacingAndGlyphs\" textLength=\"24\" x=\"85\" y=\"71.1074\">b: B</text><line style=\"stroke: #383838; stroke-width: 1.5;\" x1=\"77\" x2=\"117\" y1=\"78.9375\" y2=\"78.9375\"/></a><!--MD5=[209b3feb70ccb6233bfe1053d122c12c]\n",
       "reverse link E2 to E3--><a href=\"psysml:f4f335e8-ebb2-4b93-b8a2-3184b124f9b4\" target=\"_top\" title=\"psysml:f4f335e8-ebb2-4b93-b8a2-3184b124f9b4\" xlink:actuate=\"onRequest\" xlink:href=\"psysml:f4f335e8-ebb2-4b93-b8a2-3184b124f9b4\" xlink:show=\"new\" xlink:title=\"psysml:f4f335e8-ebb2-4b93-b8a2-3184b124f9b4\" xlink:type=\"simple\"><path d=\"M180,418.44 C180,433.87 180,451.47 180,464.98 \" fill=\"none\" id=\"E2&lt;-E3\" style=\"stroke: #383838; stroke-width: 1.0;\"/><polygon fill=\"#383838\" points=\"180,405.06,176,411.06,180,417.06,184,411.06,180,405.06\" style=\"stroke: #383838; stroke-width: 1.0;\"/></a><!--MD5=[185131fc0dcab0a4505a2ebe144e961b]\n",
       "link E4 to E2--><a href=\"psysml:6b545197-59fa-4019-832b-0413d8dfad43\" target=\"_top\" title=\"psysml:6b545197-59fa-4019-832b-0413d8dfad43\" xlink:actuate=\"onRequest\" xlink:href=\"psysml:6b545197-59fa-4019-832b-0413d8dfad43\" xlink:show=\"new\" xlink:title=\"psysml:6b545197-59fa-4019-832b-0413d8dfad43\" xlink:type=\"simple\"><path d=\"M201.27,299.06 C198.23,310.78 194.39,325.57 190.81,339.36 \" fill=\"none\" id=\"E4-&gt;E2\" style=\"stroke: #383838; stroke-width: 1.0;\"/><polygon fill=\"#FFFFFF\" points=\"185.72,358.98,183.7221,338.8303,197.2724,342.3504,185.72,358.98\" style=\"stroke: #383838; stroke-width: 1.0;\"/><ellipse cx=\"187.091\" cy=\"333.8163\" fill=\"#383838\" rx=\"2\" ry=\"2\" style=\"stroke: #383838; stroke-width: 1.0;\"/><ellipse cx=\"196.7698\" cy=\"336.3307\" fill=\"#383838\" rx=\"2\" ry=\"2\" style=\"stroke: #383838; stroke-width: 1.0;\"/></a><!--MD5=[85d356282659285ab4b2cfe2f634dd2b]\n",
       "reverse link E5 to E6--><a href=\"psysml:42a57766-d710-4931-98ca-f2942df4b5a7\" target=\"_top\" title=\"psysml:42a57766-d710-4931-98ca-f2942df4b5a7\" xlink:actuate=\"onRequest\" xlink:href=\"psysml:42a57766-d710-4931-98ca-f2942df4b5a7\" xlink:show=\"new\" xlink:title=\"psysml:42a57766-d710-4931-98ca-f2942df4b5a7\" xlink:type=\"simple\"><path d=\"M65,418.44 C65,433.87 65,451.47 65,464.98 \" fill=\"none\" id=\"E5&lt;-E6\" style=\"stroke: #383838; stroke-width: 1.0;\"/><polygon fill=\"#383838\" points=\"65,405.06,61,411.06,65,417.06,69,411.06,65,405.06\" style=\"stroke: #383838; stroke-width: 1.0;\"/></a><!--MD5=[dc164f5e8a733ab456ef1add180e9e34]\n",
       "reverse link E7 to E8--><a href=\"psysml:ee3500c3-1d32-470f-b6bb-e11a5c090a2b\" target=\"_top\" title=\"psysml:ee3500c3-1d32-470f-b6bb-e11a5c090a2b\" xlink:actuate=\"onRequest\" xlink:href=\"psysml:ee3500c3-1d32-470f-b6bb-e11a5c090a2b\" xlink:show=\"new\" xlink:title=\"psysml:ee3500c3-1d32-470f-b6bb-e11a5c090a2b\" xlink:type=\"simple\"><path d=\"M107.95,205.49 C112.91,221.15 118.64,239.19 123.01,252.98 \" fill=\"none\" id=\"E7&lt;-E8\" style=\"stroke: #383838; stroke-width: 1.0;\"/><polygon fill=\"#383838\" points=\"104,193.06,101.9989,199.9879,107.6243,204.4996,109.6253,197.5717,104,193.06\" style=\"stroke: #383838; stroke-width: 1.0;\"/></a><!--MD5=[f1f3f9f2fc535e6147756cb86a7f2e32]\n",
       "link E8 to E2--><a href=\"psysml:385ac8e9-821f-48a2-9a91-91f0503517ad\" target=\"_top\" title=\"psysml:385ac8e9-821f-48a2-9a91-91f0503517ad\" xlink:actuate=\"onRequest\" xlink:href=\"psysml:385ac8e9-821f-48a2-9a91-91f0503517ad\" xlink:show=\"new\" xlink:title=\"psysml:385ac8e9-821f-48a2-9a91-91f0503517ad\" xlink:type=\"simple\"><path d=\"M140.6,299.06 C146.44,311.19 153.86,326.62 160.68,340.82 \" fill=\"none\" id=\"E8-&gt;E2\" style=\"stroke: #383838; stroke-width: 1.0;\"/><polygon fill=\"#FFFFFF\" points=\"169.41,358.98,154.8709,344.8869,167.4894,338.8228,169.41,358.98\" style=\"stroke: #383838; stroke-width: 1.0;\"/><ellipse cx=\"154.2046\" cy=\"338.8831\" fill=\"#383838\" rx=\"2\" ry=\"2\" style=\"stroke: #383838; stroke-width: 1.0;\"/><ellipse cx=\"163.2178\" cy=\"334.5516\" fill=\"#383838\" rx=\"2\" ry=\"2\" style=\"stroke: #383838; stroke-width: 1.0;\"/></a><!--MD5=[e4a10ef82d0e328e31cac39a31e58dda]\n",
       "reverse link E7 to E9--><a href=\"psysml:4dc3c190-fff9-4cfd-9ec6-604d7dd22971\" target=\"_top\" title=\"psysml:4dc3c190-fff9-4cfd-9ec6-604d7dd22971\" xlink:actuate=\"onRequest\" xlink:href=\"psysml:4dc3c190-fff9-4cfd-9ec6-604d7dd22971\" xlink:show=\"new\" xlink:title=\"psysml:4dc3c190-fff9-4cfd-9ec6-604d7dd22971\" xlink:type=\"simple\"><path d=\"M82.41,205.49 C75.78,221.15 68.15,239.19 62.32,252.98 \" fill=\"none\" id=\"E7&lt;-E9\" style=\"stroke: #383838; stroke-width: 1.0;\"/><polygon fill=\"#383838\" points=\"87.67,193.06,81.6505,197.0305,83.0003,204.1142,89.0199,200.1436,87.67,193.06\" style=\"stroke: #383838; stroke-width: 1.0;\"/></a><!--MD5=[bfc3ddf2e613be37104f658f09af896c]\n",
       "link E9 to E5--><a href=\"psysml:e6457602-7adc-4ee0-a454-eb40d686de5b\" target=\"_top\" title=\"psysml:e6457602-7adc-4ee0-a454-eb40d686de5b\" xlink:actuate=\"onRequest\" xlink:href=\"psysml:e6457602-7adc-4ee0-a454-eb40d686de5b\" xlink:show=\"new\" xlink:title=\"psysml:e6457602-7adc-4ee0-a454-eb40d686de5b\" xlink:type=\"simple\"><path d=\"M55.54,299.06 C56.88,310.64 58.56,325.23 60.14,338.87 \" fill=\"none\" id=\"E9-&gt;E5\" style=\"stroke: #383838; stroke-width: 1.0;\"/><polygon fill=\"#FFFFFF\" points=\"62.46,358.98,53.3347,340.9044,67.243,339.3046,62.46,358.98\" style=\"stroke: #383838; stroke-width: 1.0;\"/><ellipse cx=\"54.6702\" cy=\"335.0132\" fill=\"#383838\" rx=\"2\" ry=\"2\" style=\"stroke: #383838; stroke-width: 1.0;\"/><ellipse cx=\"64.6047\" cy=\"333.8704\" fill=\"#383838\" rx=\"2\" ry=\"2\" style=\"stroke: #383838; stroke-width: 1.0;\"/></a><!--MD5=[a919e0967d6f3de553dc51b9865a1d6d]\n",
       "link E10 to E7--><a href=\"psysml:078c16df-6fb3-4d69-bd0c-6c240437776b\" target=\"_top\" title=\"psysml:078c16df-6fb3-4d69-bd0c-6c240437776b\" xlink:actuate=\"onRequest\" xlink:href=\"psysml:078c16df-6fb3-4d69-bd0c-6c240437776b\" xlink:show=\"new\" xlink:title=\"psysml:078c16df-6fb3-4d69-bd0c-6c240437776b\" xlink:type=\"simple\"><path d=\"M97,87.06 C97,98.64 97,113.23 97,126.87 \" fill=\"none\" id=\"E10-&gt;E7\" style=\"stroke: #383838; stroke-width: 1.0;\"/><polygon fill=\"#FFFFFF\" points=\"97,146.98,90,127.98,104,127.98,97,146.98\" style=\"stroke: #383838; stroke-width: 1.0;\"/><ellipse cx=\"92\" cy=\"122.28\" fill=\"#383838\" rx=\"2\" ry=\"2\" style=\"stroke: #383838; stroke-width: 1.0;\"/><ellipse cx=\"102\" cy=\"122.28\" fill=\"#383838\" rx=\"2\" ry=\"2\" style=\"stroke: #383838; stroke-width: 1.0;\"/></a><!--MD5=[820a10df3a4cd2f7e66e5c481b990468]\n",
       "@startuml\r\n",
       "top to bottom direction\r\n",
       "skinparam monochrome true\r\n",
       "skinparam classbackgroundcolor white\r\n",
       "skinparam shadowing false\r\n",
       "skinparam wrapWidth 300\r\n",
       "hide circle\r\n",
       "\r\n",
       "package \"Q\" as E1  [[psysml:c58eea24-2ccf-44f2-b6e8-e98c7ec17236 ]]  {\r\n",
       "comp def \"F\" as E2  <<(T,blue)part def>> [[psysml:a4e187a3-203e-405d-be98-97d147693ddf ]] {\r\n",
       "}\r\n",
       "comp usage \"a\" as E3  <<(T,blue)part>> [[psysml:6ada620e-a181-4489-89b5-9a75fb715758 ]] {\r\n",
       "}\r\n",
       "comp usage \"f: F\" as E4  <<(T,blue)part>> [[psysml:90a61716-c53d-4f92-beb5-5068bb9fa1a0 ]] {\r\n",
       "}\r\n",
       "comp def \"A\" as E5  <<(T,blue)part def>> [[psysml:282ebd08-29d1-4bc9-b49b-68a749240d69 ]] {\r\n",
       "}\r\n",
       "comp usage \"g\" as E6  <<(T,blue)part>> [[psysml:ba34075d-eebc-4755-94e7-ca84c5a458cd ]] {\r\n",
       "}\r\n",
       "comp def \"B\" as E7  <<(T,blue)part def>> [[psysml:88191fe6-4f94-4991-8591-be7eb93db47e ]] {\r\n",
       "}\r\n",
       "comp usage \"f: F\" as E8  <<(T,blue)part>> [[psysml:ab65aa6d-a5a6-4b47-8167-56da9e982a64 ]] {\r\n",
       "}\r\n",
       "comp usage \"a: A\" as E9  <<(T,blue)part>> [[psysml:624da0d4-2cfd-4aae-83e5-be6cf87688fa ]] {\r\n",
       "}\r\n",
       "comp usage \"b: B\" as E10  <<(T,blue)part>> [[psysml:5c182589-a5f3-41ec-a644-db6857a5c19a ]] {\r\n",
       "}\r\n",
       "E2 *- - E3 [[psysml:f4f335e8-ebb2-4b93-b8a2-3184b124f9b4 ]] \r\n",
       "E4 - -:|> E2 [[psysml:6b545197-59fa-4019-832b-0413d8dfad43 ]] \r\n",
       "E5 *- - E6 [[psysml:42a57766-d710-4931-98ca-f2942df4b5a7 ]] \r\n",
       "E7 *- - E8 [[psysml:ee3500c3-1d32-470f-b6bb-e11a5c090a2b ]] \r\n",
       "E8 - -:|> E2 [[psysml:385ac8e9-821f-48a2-9a91-91f0503517ad ]] \r\n",
       "E7 *- - E9 [[psysml:4dc3c190-fff9-4cfd-9ec6-604d7dd22971 ]] \r\n",
       "E9 - -:|> E5 [[psysml:e6457602-7adc-4ee0-a454-eb40d686de5b ]] \r\n",
       "E10 - -:|> E7 [[psysml:078c16df-6fb3-4d69-bd0c-6c240437776b ]] \r\n",
       "}\r\n",
       "@enduml\r\n",
       "\n",
       "PlantUML version 1.2020.13(Sat Jun 13 12:26:38 UTC 2020)\n",
       "(EPL source distribution)\n",
       "Java Runtime: OpenJDK Runtime Environment\n",
       "JVM: OpenJDK 64-Bit Server VM\n",
       "Default Encoding: UTF-8\n",
       "Language: en\n",
       "Country: null\n",
       "--></g></svg>"
      ]
     },
     "execution_count": 45,
     "metadata": {},
     "output_type": "execute_result"
    }
   ],
   "source": [
    "%viz --style=\"TB\" --view=\"Tree\" \"Q\""
   ]
  },
  {
   "cell_type": "code",
   "execution_count": 46,
   "id": "2c069661",
   "metadata": {
    "execution": {
     "iopub.execute_input": "2021-05-27T06:12:01.348029Z",
     "iopub.status.busy": "2021-05-27T06:12:01.346655Z",
     "iopub.status.idle": "2021-05-27T06:12:01.352522Z",
     "shell.execute_reply": "2021-05-27T06:12:01.351889Z"
    }
   },
   "outputs": [
    {
     "data": {
      "image/svg+xml": [
       "<?xml version=\"1.0\" encoding=\"UTF-8\" standalone=\"no\"?><svg xmlns=\"http://www.w3.org/2000/svg\" xmlns:xlink=\"http://www.w3.org/1999/xlink\" contentScriptType=\"application/ecmascript\" contentStyleType=\"text/css\" height=\"12px\" preserveAspectRatio=\"none\" style=\"width:12px;height:12px;\" version=\"1.1\" viewBox=\"0 0 12 12\" width=\"12px\" zoomAndPan=\"magnify\"><defs/><g><!--MD5=[f4ee21bc66e489b5061b7c3e9601fdef]\n",
       "@startuml\r\n",
       "top to bottom direction\r\n",
       "skinparam monochrome true\r\n",
       "skinparam classbackgroundcolor white\r\n",
       "skinparam shadowing false\r\n",
       "skinparam wrapWidth 300\r\n",
       "hide circle\r\n",
       "\r\n",
       "@enduml\r\n",
       "\n",
       "PlantUML version 1.2020.13(Sat Jun 13 12:26:38 UTC 2020)\n",
       "(EPL source distribution)\n",
       "Java Runtime: OpenJDK Runtime Environment\n",
       "JVM: OpenJDK 64-Bit Server VM\n",
       "Default Encoding: UTF-8\n",
       "Language: en\n",
       "Country: null\n",
       "--></g></svg>"
      ]
     },
     "execution_count": 46,
     "metadata": {},
     "output_type": "execute_result"
    }
   ],
   "source": [
    "%viz --style=\"TB\" --view=\"State\" \"Q\""
   ]
  },
  {
   "cell_type": "code",
   "execution_count": 47,
   "id": "59fb55ce",
   "metadata": {
    "execution": {
     "iopub.execute_input": "2021-05-27T06:12:01.404808Z",
     "iopub.status.busy": "2021-05-27T06:12:01.404359Z",
     "iopub.status.idle": "2021-05-27T06:12:01.435639Z",
     "shell.execute_reply": "2021-05-27T06:12:01.434021Z"
    }
   },
   "outputs": [
    {
     "data": {
      "image/svg+xml": [
       "<?xml version=\"1.0\" encoding=\"UTF-8\" standalone=\"no\"?><svg xmlns=\"http://www.w3.org/2000/svg\" xmlns:xlink=\"http://www.w3.org/1999/xlink\" contentScriptType=\"application/ecmascript\" contentStyleType=\"text/css\" height=\"192px\" preserveAspectRatio=\"none\" style=\"width:621px;height:192px;\" version=\"1.1\" viewBox=\"0 0 621 192\" width=\"621px\" zoomAndPan=\"magnify\"><defs/><g><!--MD5=[fbc87193dbaf4d95561dea2c320d4a47]\n",
       "cluster E1--><a href=\"psysml:c58eea24-2ccf-44f2-b6e8-e98c7ec17236\" target=\"_top\" title=\"psysml:c58eea24-2ccf-44f2-b6e8-e98c7ec17236\" xlink:actuate=\"onRequest\" xlink:href=\"psysml:c58eea24-2ccf-44f2-b6e8-e98c7ec17236\" xlink:show=\"new\" xlink:title=\"psysml:c58eea24-2ccf-44f2-b6e8-e98c7ec17236\" xlink:type=\"simple\"><polygon fill=\"#FFFFFF\" points=\"16,6,34,6,41,28.2969,599,28.2969,599,180,16,180,16,6\" style=\"stroke: #000000; stroke-width: 1.5;\"/><line style=\"stroke: #000000; stroke-width: 1.5;\" x1=\"16\" x2=\"41\" y1=\"28.2969\" y2=\"28.2969\"/><text fill=\"#000000\" font-family=\"sans-serif\" font-size=\"14\" font-weight=\"bold\" lengthAdjust=\"spacingAndGlyphs\" textLength=\"12\" x=\"20\" y=\"20.9951\">Q</text></a><!--MD5=[e4f7fae6ed58524ba242bb0b0d3be6b7]\n",
       "cluster E2--><a href=\"psysml:a4e187a3-203e-405d-be98-97d147693ddf\" target=\"_top\" title=\"psysml:a4e187a3-203e-405d-be98-97d147693ddf\" xlink:actuate=\"onRequest\" xlink:href=\"psysml:a4e187a3-203e-405d-be98-97d147693ddf\" xlink:show=\"new\" xlink:title=\"psysml:a4e187a3-203e-405d-be98-97d147693ddf\" xlink:type=\"simple\"><rect fill=\"#FFFFFF\" height=\"107\" id=\"E2\" style=\"stroke: #383838; stroke-width: 1.5;\" width=\"87\" x=\"488\" y=\"49\"/><rect fill=\"#F8F8F8\" height=\"37.9375\" style=\"stroke: #383838; stroke-width: 1.5;\" width=\"87\" x=\"488\" y=\"49\"/><text fill=\"#000000\" font-family=\"sans-serif\" font-size=\"12\" font-style=\"italic\" lengthAdjust=\"spacingAndGlyphs\" textLength=\"64\" x=\"499.5\" y=\"65.1387\">«part def»</text><text fill=\"#000000\" font-family=\"sans-serif\" font-size=\"12\" lengthAdjust=\"spacingAndGlyphs\" textLength=\"7\" x=\"528\" y=\"79.1074\">F</text></a><!--MD5=[de5ec2e2e8f62f467e546659f5068c88]\n",
       "cluster E5--><a href=\"psysml:282ebd08-29d1-4bc9-b49b-68a749240d69\" target=\"_top\" title=\"psysml:282ebd08-29d1-4bc9-b49b-68a749240d69\" xlink:actuate=\"onRequest\" xlink:href=\"psysml:282ebd08-29d1-4bc9-b49b-68a749240d69\" xlink:show=\"new\" xlink:title=\"psysml:282ebd08-29d1-4bc9-b49b-68a749240d69\" xlink:type=\"simple\"><rect fill=\"#FFFFFF\" height=\"107\" id=\"E5\" style=\"stroke: #383838; stroke-width: 1.5;\" width=\"87\" x=\"377\" y=\"49\"/><rect fill=\"#F8F8F8\" height=\"37.9375\" style=\"stroke: #383838; stroke-width: 1.5;\" width=\"87\" x=\"377\" y=\"49\"/><text fill=\"#000000\" font-family=\"sans-serif\" font-size=\"12\" font-style=\"italic\" lengthAdjust=\"spacingAndGlyphs\" textLength=\"64\" x=\"388.5\" y=\"65.1387\">«part def»</text><text fill=\"#000000\" font-family=\"sans-serif\" font-size=\"12\" lengthAdjust=\"spacingAndGlyphs\" textLength=\"8\" x=\"416.5\" y=\"79.1074\">A</text></a><!--MD5=[168fadf3d0c3fd93dd5d6da1b1d7ab76]\n",
       "cluster E7--><a href=\"psysml:88191fe6-4f94-4991-8591-be7eb93db47e\" target=\"_top\" title=\"psysml:88191fe6-4f94-4991-8591-be7eb93db47e\" xlink:actuate=\"onRequest\" xlink:href=\"psysml:88191fe6-4f94-4991-8591-be7eb93db47e\" xlink:show=\"new\" xlink:title=\"psysml:88191fe6-4f94-4991-8591-be7eb93db47e\" xlink:type=\"simple\"><rect fill=\"#FFFFFF\" height=\"107\" id=\"E7\" style=\"stroke: #383838; stroke-width: 1.5;\" width=\"167\" x=\"186\" y=\"49\"/><rect fill=\"#F8F8F8\" height=\"37.9375\" style=\"stroke: #383838; stroke-width: 1.5;\" width=\"167\" x=\"186\" y=\"49\"/><text fill=\"#000000\" font-family=\"sans-serif\" font-size=\"12\" font-style=\"italic\" lengthAdjust=\"spacingAndGlyphs\" textLength=\"64\" x=\"237.5\" y=\"65.1387\">«part def»</text><text fill=\"#000000\" font-family=\"sans-serif\" font-size=\"12\" lengthAdjust=\"spacingAndGlyphs\" textLength=\"8\" x=\"265.5\" y=\"79.1074\">B</text></a><g id=\"E1.E2.E3\"><a href=\"psysml:6ada620e-a181-4489-89b5-9a75fb715758\" target=\"_top\" title=\"psysml:6ada620e-a181-4489-89b5-9a75fb715758\" xlink:actuate=\"onRequest\" xlink:href=\"psysml:6ada620e-a181-4489-89b5-9a75fb715758\" xlink:show=\"new\" xlink:title=\"psysml:6ada620e-a181-4489-89b5-9a75fb715758\" xlink:type=\"simple\"><rect fill=\"#FFFFFF\" height=\"40\" id=\"E3\" rx=\"10\" ry=\"10\" style=\"stroke: #383838; stroke-width: 1.5;\" width=\"50\" x=\"506\" y=\"100\"/><rect fill=\"#F8F8F8\" height=\"23.9688\" rx=\"10\" ry=\"10\" style=\"stroke: #F8F8F8; stroke-width: 1.5;\" width=\"50\" x=\"506\" y=\"100\"/><rect fill=\"#F8F8F8\" height=\"10\" style=\"stroke: #F8F8F8; stroke-width: 1.5;\" width=\"50\" x=\"506\" y=\"113.9688\"/><rect fill=\"none\" height=\"40\" id=\"E3\" rx=\"10\" ry=\"10\" style=\"stroke: #383838; stroke-width: 1.5;\" width=\"50\" x=\"506\" y=\"100\"/><text fill=\"#000000\" font-family=\"sans-serif\" font-size=\"12\" lengthAdjust=\"spacingAndGlyphs\" textLength=\"8\" x=\"527\" y=\"116.1387\">a</text></a></g><g id=\"E1.E4\"><a href=\"psysml:90a61716-c53d-4f92-beb5-5068bb9fa1a0\" target=\"_top\" title=\"psysml:90a61716-c53d-4f92-beb5-5068bb9fa1a0\" xlink:actuate=\"onRequest\" xlink:href=\"psysml:90a61716-c53d-4f92-beb5-5068bb9fa1a0\" xlink:show=\"new\" xlink:title=\"psysml:90a61716-c53d-4f92-beb5-5068bb9fa1a0\" xlink:type=\"simple\"><rect fill=\"#FFFFFF\" height=\"40\" id=\"E4\" rx=\"10\" ry=\"10\" style=\"stroke: #383838; stroke-width: 1.5;\" width=\"50\" x=\"117\" y=\"100\"/><rect fill=\"#F8F8F8\" height=\"23.9688\" rx=\"10\" ry=\"10\" style=\"stroke: #F8F8F8; stroke-width: 1.5;\" width=\"50\" x=\"117\" y=\"100\"/><rect fill=\"#F8F8F8\" height=\"10\" style=\"stroke: #F8F8F8; stroke-width: 1.5;\" width=\"50\" x=\"117\" y=\"113.9688\"/><rect fill=\"none\" height=\"40\" id=\"E4\" rx=\"10\" ry=\"10\" style=\"stroke: #383838; stroke-width: 1.5;\" width=\"50\" x=\"117\" y=\"100\"/><text fill=\"#000000\" font-family=\"sans-serif\" font-size=\"12\" lengthAdjust=\"spacingAndGlyphs\" textLength=\"19\" x=\"132.5\" y=\"116.1387\">f: F</text></a></g><g id=\"E1.E5.E6\"><a href=\"psysml:ba34075d-eebc-4755-94e7-ca84c5a458cd\" target=\"_top\" title=\"psysml:ba34075d-eebc-4755-94e7-ca84c5a458cd\" xlink:actuate=\"onRequest\" xlink:href=\"psysml:ba34075d-eebc-4755-94e7-ca84c5a458cd\" xlink:show=\"new\" xlink:title=\"psysml:ba34075d-eebc-4755-94e7-ca84c5a458cd\" xlink:type=\"simple\"><rect fill=\"#FFFFFF\" height=\"40\" id=\"E6\" rx=\"10\" ry=\"10\" style=\"stroke: #383838; stroke-width: 1.5;\" width=\"53\" x=\"393.5\" y=\"100\"/><rect fill=\"#F8F8F8\" height=\"23.9688\" rx=\"10\" ry=\"10\" style=\"stroke: #F8F8F8; stroke-width: 1.5;\" width=\"53\" x=\"393.5\" y=\"100\"/><rect fill=\"#F8F8F8\" height=\"10\" style=\"stroke: #F8F8F8; stroke-width: 1.5;\" width=\"53\" x=\"393.5\" y=\"113.9688\"/><rect fill=\"none\" height=\"40\" id=\"E6\" rx=\"10\" ry=\"10\" style=\"stroke: #383838; stroke-width: 1.5;\" width=\"53\" x=\"393.5\" y=\"100\"/><text fill=\"#000000\" font-family=\"sans-serif\" font-size=\"12\" lengthAdjust=\"spacingAndGlyphs\" textLength=\"38\" x=\"399\" y=\"116.1387\">g=f.a;</text></a></g><g id=\"E1.E7.E8\"><a href=\"psysml:ab65aa6d-a5a6-4b47-8167-56da9e982a64\" target=\"_top\" title=\"psysml:ab65aa6d-a5a6-4b47-8167-56da9e982a64\" xlink:actuate=\"onRequest\" xlink:href=\"psysml:ab65aa6d-a5a6-4b47-8167-56da9e982a64\" xlink:show=\"new\" xlink:title=\"psysml:ab65aa6d-a5a6-4b47-8167-56da9e982a64\" xlink:type=\"simple\"><rect fill=\"#FFFFFF\" height=\"40\" id=\"E8\" rx=\"10\" ry=\"10\" style=\"stroke: #383838; stroke-width: 1.5;\" width=\"50\" x=\"287\" y=\"100\"/><rect fill=\"#F8F8F8\" height=\"23.9688\" rx=\"10\" ry=\"10\" style=\"stroke: #F8F8F8; stroke-width: 1.5;\" width=\"50\" x=\"287\" y=\"100\"/><rect fill=\"#F8F8F8\" height=\"10\" style=\"stroke: #F8F8F8; stroke-width: 1.5;\" width=\"50\" x=\"287\" y=\"113.9688\"/><rect fill=\"none\" height=\"40\" id=\"E8\" rx=\"10\" ry=\"10\" style=\"stroke: #383838; stroke-width: 1.5;\" width=\"50\" x=\"287\" y=\"100\"/><text fill=\"#000000\" font-family=\"sans-serif\" font-size=\"12\" lengthAdjust=\"spacingAndGlyphs\" textLength=\"19\" x=\"302.5\" y=\"116.1387\">f: F</text></a></g><g id=\"E1.E7.E9\"><a href=\"psysml:624da0d4-2cfd-4aae-83e5-be6cf87688fa\" target=\"_top\" title=\"psysml:624da0d4-2cfd-4aae-83e5-be6cf87688fa\" xlink:actuate=\"onRequest\" xlink:href=\"psysml:624da0d4-2cfd-4aae-83e5-be6cf87688fa\" xlink:show=\"new\" xlink:title=\"psysml:624da0d4-2cfd-4aae-83e5-be6cf87688fa\" xlink:type=\"simple\"><rect fill=\"#FFFFFF\" height=\"40\" id=\"E9\" rx=\"10\" ry=\"10\" style=\"stroke: #383838; stroke-width: 1.5;\" width=\"50\" x=\"202\" y=\"100\"/><rect fill=\"#F8F8F8\" height=\"23.9688\" rx=\"10\" ry=\"10\" style=\"stroke: #F8F8F8; stroke-width: 1.5;\" width=\"50\" x=\"202\" y=\"100\"/><rect fill=\"#F8F8F8\" height=\"10\" style=\"stroke: #F8F8F8; stroke-width: 1.5;\" width=\"50\" x=\"202\" y=\"113.9688\"/><rect fill=\"none\" height=\"40\" id=\"E9\" rx=\"10\" ry=\"10\" style=\"stroke: #383838; stroke-width: 1.5;\" width=\"50\" x=\"202\" y=\"100\"/><text fill=\"#000000\" font-family=\"sans-serif\" font-size=\"12\" lengthAdjust=\"spacingAndGlyphs\" textLength=\"24\" x=\"215\" y=\"116.1387\">a: A</text></a></g><g id=\"E1.E10\"><a href=\"psysml:5c182589-a5f3-41ec-a644-db6857a5c19a\" target=\"_top\" title=\"psysml:5c182589-a5f3-41ec-a644-db6857a5c19a\" xlink:actuate=\"onRequest\" xlink:href=\"psysml:5c182589-a5f3-41ec-a644-db6857a5c19a\" xlink:show=\"new\" xlink:title=\"psysml:5c182589-a5f3-41ec-a644-db6857a5c19a\" xlink:type=\"simple\"><rect fill=\"#FFFFFF\" height=\"40\" id=\"E10\" rx=\"10\" ry=\"10\" style=\"stroke: #383838; stroke-width: 1.5;\" width=\"50\" x=\"32\" y=\"100\"/><rect fill=\"#F8F8F8\" height=\"23.9688\" rx=\"10\" ry=\"10\" style=\"stroke: #F8F8F8; stroke-width: 1.5;\" width=\"50\" x=\"32\" y=\"100\"/><rect fill=\"#F8F8F8\" height=\"10\" style=\"stroke: #F8F8F8; stroke-width: 1.5;\" width=\"50\" x=\"32\" y=\"113.9688\"/><rect fill=\"none\" height=\"40\" id=\"E10\" rx=\"10\" ry=\"10\" style=\"stroke: #383838; stroke-width: 1.5;\" width=\"50\" x=\"32\" y=\"100\"/><text fill=\"#000000\" font-family=\"sans-serif\" font-size=\"12\" lengthAdjust=\"spacingAndGlyphs\" textLength=\"24\" x=\"45\" y=\"116.1387\">b: B</text></a></g><!--MD5=[8f78477a7ea9e876bf751e3d6ce7cc36]\n",
       "@startuml\r\n",
       "skinparam ranksep 10\r\n",
       "skinparam rectangle {\r\n",
       " backgroundColor<<block>> LightGreen\r\n",
       "}\r\n",
       "top to bottom direction\r\n",
       "skinparam monochrome true\r\n",
       "skinparam classbackgroundcolor white\r\n",
       "skinparam shadowing false\r\n",
       "skinparam wrapWidth 300\r\n",
       "hide circle\r\n",
       "\r\n",
       "package \"Q\" as E1  [[psysml:c58eea24-2ccf-44f2-b6e8-e98c7ec17236 ]]  {\r\n",
       "rec def \"F\" as E2  <<(T,blue)part def>> [[psysml:a4e187a3-203e-405d-be98-97d147693ddf ]] {\r\n",
       "rec usage \"a\" as E3  [[psysml:6ada620e-a181-4489-89b5-9a75fb715758 ]] {\r\n",
       "}\r\n",
       "}\r\n",
       "rec usage \"f: F\" as E4  [[psysml:90a61716-c53d-4f92-beb5-5068bb9fa1a0 ]] {\r\n",
       "}\r\n",
       "rec def \"A\" as E5  <<(T,blue)part def>> [[psysml:282ebd08-29d1-4bc9-b49b-68a749240d69 ]] {\r\n",
       "rec usage \"g=f.a; \" as E6  [[psysml:ba34075d-eebc-4755-94e7-ca84c5a458cd ]] {\r\n",
       "}\r\n",
       "}\r\n",
       "rec def \"B\" as E7  <<(T,blue)part def>> [[psysml:88191fe6-4f94-4991-8591-be7eb93db47e ]] {\r\n",
       "rec usage \"f: F\" as E8  [[psysml:ab65aa6d-a5a6-4b47-8167-56da9e982a64 ]] {\r\n",
       "}\r\n",
       "rec usage \"a: A\" as E9  [[psysml:624da0d4-2cfd-4aae-83e5-be6cf87688fa ]] {\r\n",
       "}\r\n",
       "}\r\n",
       "rec usage \"b: B\" as E10  [[psysml:5c182589-a5f3-41ec-a644-db6857a5c19a ]] {\r\n",
       "}\r\n",
       "}\r\n",
       "@enduml\r\n",
       "\n",
       "PlantUML version 1.2020.13(Sat Jun 13 12:26:38 UTC 2020)\n",
       "(EPL source distribution)\n",
       "Java Runtime: OpenJDK Runtime Environment\n",
       "JVM: OpenJDK 64-Bit Server VM\n",
       "Default Encoding: UTF-8\n",
       "Language: en\n",
       "Country: null\n",
       "--></g></svg>"
      ]
     },
     "execution_count": 47,
     "metadata": {},
     "output_type": "execute_result"
    }
   ],
   "source": [
    "%viz --style=\"TB\" --view=\"Interconnection\" \"Q\""
   ]
  },
  {
   "cell_type": "code",
   "execution_count": 48,
   "id": "9d05a4a9",
   "metadata": {
    "execution": {
     "iopub.execute_input": "2021-05-27T06:12:01.487186Z",
     "iopub.status.busy": "2021-05-27T06:12:01.486817Z",
     "iopub.status.idle": "2021-05-27T06:12:01.492759Z",
     "shell.execute_reply": "2021-05-27T06:12:01.492454Z"
    }
   },
   "outputs": [
    {
     "data": {
      "image/svg+xml": [
       "<?xml version=\"1.0\" encoding=\"UTF-8\" standalone=\"no\"?><svg xmlns=\"http://www.w3.org/2000/svg\" xmlns:xlink=\"http://www.w3.org/1999/xlink\" contentScriptType=\"application/ecmascript\" contentStyleType=\"text/css\" height=\"12px\" preserveAspectRatio=\"none\" style=\"width:12px;height:12px;\" version=\"1.1\" viewBox=\"0 0 12 12\" width=\"12px\" zoomAndPan=\"magnify\"><defs/><g><!--MD5=[06afc254b03ac5e9d9fb7773b07d0800]\n",
       "@startuml\r\n",
       "skinparam ranksep 8\r\n",
       "top to bottom direction\r\n",
       "skinparam monochrome true\r\n",
       "skinparam classbackgroundcolor white\r\n",
       "skinparam shadowing false\r\n",
       "skinparam wrapWidth 300\r\n",
       "hide circle\r\n",
       "\r\n",
       "@enduml\r\n",
       "\n",
       "PlantUML version 1.2020.13(Sat Jun 13 12:26:38 UTC 2020)\n",
       "(EPL source distribution)\n",
       "Java Runtime: OpenJDK Runtime Environment\n",
       "JVM: OpenJDK 64-Bit Server VM\n",
       "Default Encoding: UTF-8\n",
       "Language: en\n",
       "Country: null\n",
       "--></g></svg>"
      ]
     },
     "execution_count": 48,
     "metadata": {},
     "output_type": "execute_result"
    }
   ],
   "source": [
    "%viz --style=\"TB\" --view=\"Action\" \"Q\""
   ]
  },
  {
   "cell_type": "code",
   "execution_count": 49,
   "id": "e4e3162a",
   "metadata": {
    "execution": {
     "iopub.execute_input": "2021-05-27T06:12:01.545578Z",
     "iopub.status.busy": "2021-05-27T06:12:01.545183Z",
     "iopub.status.idle": "2021-05-27T06:12:01.575409Z",
     "shell.execute_reply": "2021-05-27T06:12:01.573788Z"
    }
   },
   "outputs": [
    {
     "data": {
      "image/svg+xml": [
       "<?xml version=\"1.0\" encoding=\"UTF-8\" standalone=\"no\"?><svg xmlns=\"http://www.w3.org/2000/svg\" xmlns:xlink=\"http://www.w3.org/1999/xlink\" contentScriptType=\"application/ecmascript\" contentStyleType=\"text/css\" height=\"539px\" preserveAspectRatio=\"none\" style=\"width:266px;height:539px;\" version=\"1.1\" viewBox=\"0 0 266 539\" width=\"266px\" zoomAndPan=\"magnify\"><defs/><g><!--MD5=[fbc87193dbaf4d95561dea2c320d4a47]\n",
       "cluster E1--><a href=\"psysml:c58eea24-2ccf-44f2-b6e8-e98c7ec17236\" target=\"_top\" title=\"psysml:c58eea24-2ccf-44f2-b6e8-e98c7ec17236\" xlink:actuate=\"onRequest\" xlink:href=\"psysml:c58eea24-2ccf-44f2-b6e8-e98c7ec17236\" xlink:show=\"new\" xlink:title=\"psysml:c58eea24-2ccf-44f2-b6e8-e98c7ec17236\" xlink:type=\"simple\"><polygon fill=\"#FFFFFF\" points=\"16,6,34,6,41,28.2969,244,28.2969,244,527,16,527,16,6\" style=\"stroke: #000000; stroke-width: 1.5;\"/><line style=\"stroke: #000000; stroke-width: 1.5;\" x1=\"16\" x2=\"41\" y1=\"28.2969\" y2=\"28.2969\"/><text fill=\"#000000\" font-family=\"sans-serif\" font-size=\"14\" font-weight=\"bold\" lengthAdjust=\"spacingAndGlyphs\" textLength=\"12\" x=\"20\" y=\"20.9951\">Q</text></a><!--MD5=[b4997ac47864f28c2f74865a473b2911]\n",
       "class E2--><a href=\"psysml:a4e187a3-203e-405d-be98-97d147693ddf\" target=\"_top\" title=\"psysml:a4e187a3-203e-405d-be98-97d147693ddf\" xlink:actuate=\"onRequest\" xlink:href=\"psysml:a4e187a3-203e-405d-be98-97d147693ddf\" xlink:show=\"new\" xlink:title=\"psysml:a4e187a3-203e-405d-be98-97d147693ddf\" xlink:type=\"simple\"><rect fill=\"#FFFFFF\" height=\"45.9375\" id=\"E2\" style=\"stroke: #383838; stroke-width: 1.5;\" width=\"66\" x=\"147\" y=\"359\"/><text fill=\"#000000\" font-family=\"sans-serif\" font-size=\"12\" font-style=\"italic\" lengthAdjust=\"spacingAndGlyphs\" textLength=\"64\" x=\"148\" y=\"375.1387\">«part def»</text><text fill=\"#000000\" font-family=\"sans-serif\" font-size=\"12\" lengthAdjust=\"spacingAndGlyphs\" textLength=\"7\" x=\"176.5\" y=\"389.1074\">F</text><line style=\"stroke: #383838; stroke-width: 1.5;\" x1=\"148\" x2=\"212\" y1=\"396.9375\" y2=\"396.9375\"/></a><!--MD5=[09b614a08d8cba4a07c9adeb5e0fee81]\n",
       "class E3--><a href=\"psysml:6ada620e-a181-4489-89b5-9a75fb715758\" target=\"_top\" title=\"psysml:6ada620e-a181-4489-89b5-9a75fb715758\" xlink:actuate=\"onRequest\" xlink:href=\"psysml:6ada620e-a181-4489-89b5-9a75fb715758\" xlink:show=\"new\" xlink:title=\"psysml:6ada620e-a181-4489-89b5-9a75fb715758\" xlink:type=\"simple\"><rect fill=\"#FFFFFF\" height=\"45.9375\" id=\"E3\" rx=\"10\" ry=\"10\" style=\"stroke: #383838; stroke-width: 1.5;\" width=\"42\" x=\"159\" y=\"465\"/><text fill=\"#000000\" font-family=\"sans-serif\" font-size=\"12\" font-style=\"italic\" lengthAdjust=\"spacingAndGlyphs\" textLength=\"40\" x=\"160\" y=\"481.1387\">«part»</text><text fill=\"#000000\" font-family=\"sans-serif\" font-size=\"12\" lengthAdjust=\"spacingAndGlyphs\" textLength=\"8\" x=\"176\" y=\"495.1074\">a</text><line style=\"stroke: #383838; stroke-width: 1.5;\" x1=\"160\" x2=\"200\" y1=\"502.9375\" y2=\"502.9375\"/></a><!--MD5=[ebbe1d658d1005bcc118a6aa81145e00]\n",
       "class E4--><a href=\"psysml:90a61716-c53d-4f92-beb5-5068bb9fa1a0\" target=\"_top\" title=\"psysml:90a61716-c53d-4f92-beb5-5068bb9fa1a0\" xlink:actuate=\"onRequest\" xlink:href=\"psysml:90a61716-c53d-4f92-beb5-5068bb9fa1a0\" xlink:show=\"new\" xlink:title=\"psysml:90a61716-c53d-4f92-beb5-5068bb9fa1a0\" xlink:type=\"simple\"><rect fill=\"#FFFFFF\" height=\"45.9375\" id=\"E4\" rx=\"10\" ry=\"10\" style=\"stroke: #383838; stroke-width: 1.5;\" width=\"42\" x=\"186\" y=\"253\"/><text fill=\"#000000\" font-family=\"sans-serif\" font-size=\"12\" font-style=\"italic\" lengthAdjust=\"spacingAndGlyphs\" textLength=\"40\" x=\"187\" y=\"269.1387\">«part»</text><text fill=\"#000000\" font-family=\"sans-serif\" font-size=\"12\" lengthAdjust=\"spacingAndGlyphs\" textLength=\"19\" x=\"197.5\" y=\"283.1074\">f: F</text><line style=\"stroke: #383838; stroke-width: 1.5;\" x1=\"187\" x2=\"227\" y1=\"290.9375\" y2=\"290.9375\"/></a><!--MD5=[270fce915f116d4de14055a7c1d9a0f3]\n",
       "class E5--><a href=\"psysml:282ebd08-29d1-4bc9-b49b-68a749240d69\" target=\"_top\" title=\"psysml:282ebd08-29d1-4bc9-b49b-68a749240d69\" xlink:actuate=\"onRequest\" xlink:href=\"psysml:282ebd08-29d1-4bc9-b49b-68a749240d69\" xlink:show=\"new\" xlink:title=\"psysml:282ebd08-29d1-4bc9-b49b-68a749240d69\" xlink:type=\"simple\"><rect fill=\"#FFFFFF\" height=\"45.9375\" id=\"E5\" style=\"stroke: #383838; stroke-width: 1.5;\" width=\"66\" x=\"32\" y=\"359\"/><text fill=\"#000000\" font-family=\"sans-serif\" font-size=\"12\" font-style=\"italic\" lengthAdjust=\"spacingAndGlyphs\" textLength=\"64\" x=\"33\" y=\"375.1387\">«part def»</text><text fill=\"#000000\" font-family=\"sans-serif\" font-size=\"12\" lengthAdjust=\"spacingAndGlyphs\" textLength=\"8\" x=\"61\" y=\"389.1074\">A</text><line style=\"stroke: #383838; stroke-width: 1.5;\" x1=\"33\" x2=\"97\" y1=\"396.9375\" y2=\"396.9375\"/></a><!--MD5=[60a26617385b1d2d0262a64233df1f8d]\n",
       "class E6--><a href=\"psysml:ba34075d-eebc-4755-94e7-ca84c5a458cd\" target=\"_top\" title=\"psysml:ba34075d-eebc-4755-94e7-ca84c5a458cd\" xlink:actuate=\"onRequest\" xlink:href=\"psysml:ba34075d-eebc-4755-94e7-ca84c5a458cd\" xlink:show=\"new\" xlink:title=\"psysml:ba34075d-eebc-4755-94e7-ca84c5a458cd\" xlink:type=\"simple\"><rect fill=\"#FFFFFF\" height=\"45.9375\" id=\"E6\" rx=\"10\" ry=\"10\" style=\"stroke: #383838; stroke-width: 1.5;\" width=\"42\" x=\"44\" y=\"465\"/><text fill=\"#000000\" font-family=\"sans-serif\" font-size=\"12\" font-style=\"italic\" lengthAdjust=\"spacingAndGlyphs\" textLength=\"40\" x=\"45\" y=\"481.1387\">«part»</text><text fill=\"#000000\" font-family=\"sans-serif\" font-size=\"12\" lengthAdjust=\"spacingAndGlyphs\" textLength=\"8\" x=\"61\" y=\"495.1074\">g</text><line style=\"stroke: #383838; stroke-width: 1.5;\" x1=\"45\" x2=\"85\" y1=\"502.9375\" y2=\"502.9375\"/></a><!--MD5=[2156ba9850f5573cc1fc38a6a4b2f02b]\n",
       "class E7--><a href=\"psysml:88191fe6-4f94-4991-8591-be7eb93db47e\" target=\"_top\" title=\"psysml:88191fe6-4f94-4991-8591-be7eb93db47e\" xlink:actuate=\"onRequest\" xlink:href=\"psysml:88191fe6-4f94-4991-8591-be7eb93db47e\" xlink:show=\"new\" xlink:title=\"psysml:88191fe6-4f94-4991-8591-be7eb93db47e\" xlink:type=\"simple\"><rect fill=\"#FFFFFF\" height=\"45.9375\" id=\"E7\" style=\"stroke: #383838; stroke-width: 1.5;\" width=\"66\" x=\"64\" y=\"147\"/><text fill=\"#000000\" font-family=\"sans-serif\" font-size=\"12\" font-style=\"italic\" lengthAdjust=\"spacingAndGlyphs\" textLength=\"64\" x=\"65\" y=\"163.1387\">«part def»</text><text fill=\"#000000\" font-family=\"sans-serif\" font-size=\"12\" lengthAdjust=\"spacingAndGlyphs\" textLength=\"8\" x=\"93\" y=\"177.1074\">B</text><line style=\"stroke: #383838; stroke-width: 1.5;\" x1=\"65\" x2=\"129\" y1=\"184.9375\" y2=\"184.9375\"/></a><!--MD5=[b9389687b975829384b498ac4b7476b2]\n",
       "class E8--><a href=\"psysml:ab65aa6d-a5a6-4b47-8167-56da9e982a64\" target=\"_top\" title=\"psysml:ab65aa6d-a5a6-4b47-8167-56da9e982a64\" xlink:actuate=\"onRequest\" xlink:href=\"psysml:ab65aa6d-a5a6-4b47-8167-56da9e982a64\" xlink:show=\"new\" xlink:title=\"psysml:ab65aa6d-a5a6-4b47-8167-56da9e982a64\" xlink:type=\"simple\"><rect fill=\"#FFFFFF\" height=\"45.9375\" id=\"E8\" rx=\"10\" ry=\"10\" style=\"stroke: #383838; stroke-width: 1.5;\" width=\"42\" x=\"109\" y=\"253\"/><text fill=\"#000000\" font-family=\"sans-serif\" font-size=\"12\" font-style=\"italic\" lengthAdjust=\"spacingAndGlyphs\" textLength=\"40\" x=\"110\" y=\"269.1387\">«part»</text><text fill=\"#000000\" font-family=\"sans-serif\" font-size=\"12\" lengthAdjust=\"spacingAndGlyphs\" textLength=\"19\" x=\"120.5\" y=\"283.1074\">f: F</text><line style=\"stroke: #383838; stroke-width: 1.5;\" x1=\"110\" x2=\"150\" y1=\"290.9375\" y2=\"290.9375\"/></a><!--MD5=[fd4143e9d270a159db93a4ea2a975926]\n",
       "class E9--><a href=\"psysml:624da0d4-2cfd-4aae-83e5-be6cf87688fa\" target=\"_top\" title=\"psysml:624da0d4-2cfd-4aae-83e5-be6cf87688fa\" xlink:actuate=\"onRequest\" xlink:href=\"psysml:624da0d4-2cfd-4aae-83e5-be6cf87688fa\" xlink:show=\"new\" xlink:title=\"psysml:624da0d4-2cfd-4aae-83e5-be6cf87688fa\" xlink:type=\"simple\"><rect fill=\"#FFFFFF\" height=\"45.9375\" id=\"E9\" rx=\"10\" ry=\"10\" style=\"stroke: #383838; stroke-width: 1.5;\" width=\"42\" x=\"32\" y=\"253\"/><text fill=\"#000000\" font-family=\"sans-serif\" font-size=\"12\" font-style=\"italic\" lengthAdjust=\"spacingAndGlyphs\" textLength=\"40\" x=\"33\" y=\"269.1387\">«part»</text><text fill=\"#000000\" font-family=\"sans-serif\" font-size=\"12\" lengthAdjust=\"spacingAndGlyphs\" textLength=\"24\" x=\"41\" y=\"283.1074\">a: A</text><line style=\"stroke: #383838; stroke-width: 1.5;\" x1=\"33\" x2=\"73\" y1=\"290.9375\" y2=\"290.9375\"/></a><!--MD5=[96f4274e9e20536e775497830990834d]\n",
       "class E10--><a href=\"psysml:5c182589-a5f3-41ec-a644-db6857a5c19a\" target=\"_top\" title=\"psysml:5c182589-a5f3-41ec-a644-db6857a5c19a\" xlink:actuate=\"onRequest\" xlink:href=\"psysml:5c182589-a5f3-41ec-a644-db6857a5c19a\" xlink:show=\"new\" xlink:title=\"psysml:5c182589-a5f3-41ec-a644-db6857a5c19a\" xlink:type=\"simple\"><rect fill=\"#FFFFFF\" height=\"45.9375\" id=\"E10\" rx=\"10\" ry=\"10\" style=\"stroke: #383838; stroke-width: 1.5;\" width=\"42\" x=\"76\" y=\"41\"/><text fill=\"#000000\" font-family=\"sans-serif\" font-size=\"12\" font-style=\"italic\" lengthAdjust=\"spacingAndGlyphs\" textLength=\"40\" x=\"77\" y=\"57.1387\">«part»</text><text fill=\"#000000\" font-family=\"sans-serif\" font-size=\"12\" lengthAdjust=\"spacingAndGlyphs\" textLength=\"24\" x=\"85\" y=\"71.1074\">b: B</text><line style=\"stroke: #383838; stroke-width: 1.5;\" x1=\"77\" x2=\"117\" y1=\"78.9375\" y2=\"78.9375\"/></a><!--MD5=[209b3feb70ccb6233bfe1053d122c12c]\n",
       "reverse link E2 to E3--><a href=\"psysml:f4f335e8-ebb2-4b93-b8a2-3184b124f9b4\" target=\"_top\" title=\"psysml:f4f335e8-ebb2-4b93-b8a2-3184b124f9b4\" xlink:actuate=\"onRequest\" xlink:href=\"psysml:f4f335e8-ebb2-4b93-b8a2-3184b124f9b4\" xlink:show=\"new\" xlink:title=\"psysml:f4f335e8-ebb2-4b93-b8a2-3184b124f9b4\" xlink:type=\"simple\"><path d=\"M180,418.44 C180,433.87 180,451.47 180,464.98 \" fill=\"none\" id=\"E2&lt;-E3\" style=\"stroke: #383838; stroke-width: 1.0;\"/><polygon fill=\"#383838\" points=\"180,405.06,176,411.06,180,417.06,184,411.06,180,405.06\" style=\"stroke: #383838; stroke-width: 1.0;\"/></a><!--MD5=[185131fc0dcab0a4505a2ebe144e961b]\n",
       "link E4 to E2--><a href=\"psysml:6b545197-59fa-4019-832b-0413d8dfad43\" target=\"_top\" title=\"psysml:6b545197-59fa-4019-832b-0413d8dfad43\" xlink:actuate=\"onRequest\" xlink:href=\"psysml:6b545197-59fa-4019-832b-0413d8dfad43\" xlink:show=\"new\" xlink:title=\"psysml:6b545197-59fa-4019-832b-0413d8dfad43\" xlink:type=\"simple\"><path d=\"M201.27,299.06 C198.23,310.78 194.39,325.57 190.81,339.36 \" fill=\"none\" id=\"E4-&gt;E2\" style=\"stroke: #383838; stroke-width: 1.0;\"/><polygon fill=\"#FFFFFF\" points=\"185.72,358.98,183.7221,338.8303,197.2724,342.3504,185.72,358.98\" style=\"stroke: #383838; stroke-width: 1.0;\"/><ellipse cx=\"187.091\" cy=\"333.8163\" fill=\"#383838\" rx=\"2\" ry=\"2\" style=\"stroke: #383838; stroke-width: 1.0;\"/><ellipse cx=\"196.7698\" cy=\"336.3307\" fill=\"#383838\" rx=\"2\" ry=\"2\" style=\"stroke: #383838; stroke-width: 1.0;\"/></a><!--MD5=[85d356282659285ab4b2cfe2f634dd2b]\n",
       "reverse link E5 to E6--><a href=\"psysml:42a57766-d710-4931-98ca-f2942df4b5a7\" target=\"_top\" title=\"psysml:42a57766-d710-4931-98ca-f2942df4b5a7\" xlink:actuate=\"onRequest\" xlink:href=\"psysml:42a57766-d710-4931-98ca-f2942df4b5a7\" xlink:show=\"new\" xlink:title=\"psysml:42a57766-d710-4931-98ca-f2942df4b5a7\" xlink:type=\"simple\"><path d=\"M65,418.44 C65,433.87 65,451.47 65,464.98 \" fill=\"none\" id=\"E5&lt;-E6\" style=\"stroke: #383838; stroke-width: 1.0;\"/><polygon fill=\"#383838\" points=\"65,405.06,61,411.06,65,417.06,69,411.06,65,405.06\" style=\"stroke: #383838; stroke-width: 1.0;\"/></a><!--MD5=[dc164f5e8a733ab456ef1add180e9e34]\n",
       "reverse link E7 to E8--><a href=\"psysml:ee3500c3-1d32-470f-b6bb-e11a5c090a2b\" target=\"_top\" title=\"psysml:ee3500c3-1d32-470f-b6bb-e11a5c090a2b\" xlink:actuate=\"onRequest\" xlink:href=\"psysml:ee3500c3-1d32-470f-b6bb-e11a5c090a2b\" xlink:show=\"new\" xlink:title=\"psysml:ee3500c3-1d32-470f-b6bb-e11a5c090a2b\" xlink:type=\"simple\"><path d=\"M107.95,205.49 C112.91,221.15 118.64,239.19 123.01,252.98 \" fill=\"none\" id=\"E7&lt;-E8\" style=\"stroke: #383838; stroke-width: 1.0;\"/><polygon fill=\"#383838\" points=\"104,193.06,101.9989,199.9879,107.6243,204.4996,109.6253,197.5717,104,193.06\" style=\"stroke: #383838; stroke-width: 1.0;\"/></a><!--MD5=[f1f3f9f2fc535e6147756cb86a7f2e32]\n",
       "link E8 to E2--><a href=\"psysml:385ac8e9-821f-48a2-9a91-91f0503517ad\" target=\"_top\" title=\"psysml:385ac8e9-821f-48a2-9a91-91f0503517ad\" xlink:actuate=\"onRequest\" xlink:href=\"psysml:385ac8e9-821f-48a2-9a91-91f0503517ad\" xlink:show=\"new\" xlink:title=\"psysml:385ac8e9-821f-48a2-9a91-91f0503517ad\" xlink:type=\"simple\"><path d=\"M140.6,299.06 C146.44,311.19 153.86,326.62 160.68,340.82 \" fill=\"none\" id=\"E8-&gt;E2\" style=\"stroke: #383838; stroke-width: 1.0;\"/><polygon fill=\"#FFFFFF\" points=\"169.41,358.98,154.8709,344.8869,167.4894,338.8228,169.41,358.98\" style=\"stroke: #383838; stroke-width: 1.0;\"/><ellipse cx=\"154.2046\" cy=\"338.8831\" fill=\"#383838\" rx=\"2\" ry=\"2\" style=\"stroke: #383838; stroke-width: 1.0;\"/><ellipse cx=\"163.2178\" cy=\"334.5516\" fill=\"#383838\" rx=\"2\" ry=\"2\" style=\"stroke: #383838; stroke-width: 1.0;\"/></a><!--MD5=[e4a10ef82d0e328e31cac39a31e58dda]\n",
       "reverse link E7 to E9--><a href=\"psysml:4dc3c190-fff9-4cfd-9ec6-604d7dd22971\" target=\"_top\" title=\"psysml:4dc3c190-fff9-4cfd-9ec6-604d7dd22971\" xlink:actuate=\"onRequest\" xlink:href=\"psysml:4dc3c190-fff9-4cfd-9ec6-604d7dd22971\" xlink:show=\"new\" xlink:title=\"psysml:4dc3c190-fff9-4cfd-9ec6-604d7dd22971\" xlink:type=\"simple\"><path d=\"M82.41,205.49 C75.78,221.15 68.15,239.19 62.32,252.98 \" fill=\"none\" id=\"E7&lt;-E9\" style=\"stroke: #383838; stroke-width: 1.0;\"/><polygon fill=\"#383838\" points=\"87.67,193.06,81.6505,197.0305,83.0003,204.1142,89.0199,200.1436,87.67,193.06\" style=\"stroke: #383838; stroke-width: 1.0;\"/></a><!--MD5=[bfc3ddf2e613be37104f658f09af896c]\n",
       "link E9 to E5--><a href=\"psysml:e6457602-7adc-4ee0-a454-eb40d686de5b\" target=\"_top\" title=\"psysml:e6457602-7adc-4ee0-a454-eb40d686de5b\" xlink:actuate=\"onRequest\" xlink:href=\"psysml:e6457602-7adc-4ee0-a454-eb40d686de5b\" xlink:show=\"new\" xlink:title=\"psysml:e6457602-7adc-4ee0-a454-eb40d686de5b\" xlink:type=\"simple\"><path d=\"M55.54,299.06 C56.88,310.64 58.56,325.23 60.14,338.87 \" fill=\"none\" id=\"E9-&gt;E5\" style=\"stroke: #383838; stroke-width: 1.0;\"/><polygon fill=\"#FFFFFF\" points=\"62.46,358.98,53.3347,340.9044,67.243,339.3046,62.46,358.98\" style=\"stroke: #383838; stroke-width: 1.0;\"/><ellipse cx=\"54.6702\" cy=\"335.0132\" fill=\"#383838\" rx=\"2\" ry=\"2\" style=\"stroke: #383838; stroke-width: 1.0;\"/><ellipse cx=\"64.6047\" cy=\"333.8704\" fill=\"#383838\" rx=\"2\" ry=\"2\" style=\"stroke: #383838; stroke-width: 1.0;\"/></a><!--MD5=[a919e0967d6f3de553dc51b9865a1d6d]\n",
       "link E10 to E7--><a href=\"psysml:078c16df-6fb3-4d69-bd0c-6c240437776b\" target=\"_top\" title=\"psysml:078c16df-6fb3-4d69-bd0c-6c240437776b\" xlink:actuate=\"onRequest\" xlink:href=\"psysml:078c16df-6fb3-4d69-bd0c-6c240437776b\" xlink:show=\"new\" xlink:title=\"psysml:078c16df-6fb3-4d69-bd0c-6c240437776b\" xlink:type=\"simple\"><path d=\"M97,87.06 C97,98.64 97,113.23 97,126.87 \" fill=\"none\" id=\"E10-&gt;E7\" style=\"stroke: #383838; stroke-width: 1.0;\"/><polygon fill=\"#FFFFFF\" points=\"97,146.98,90,127.98,104,127.98,97,146.98\" style=\"stroke: #383838; stroke-width: 1.0;\"/><ellipse cx=\"92\" cy=\"122.28\" fill=\"#383838\" rx=\"2\" ry=\"2\" style=\"stroke: #383838; stroke-width: 1.0;\"/><ellipse cx=\"102\" cy=\"122.28\" fill=\"#383838\" rx=\"2\" ry=\"2\" style=\"stroke: #383838; stroke-width: 1.0;\"/></a><!--MD5=[820a10df3a4cd2f7e66e5c481b990468]\n",
       "@startuml\r\n",
       "top to bottom direction\r\n",
       "skinparam monochrome true\r\n",
       "skinparam classbackgroundcolor white\r\n",
       "skinparam shadowing false\r\n",
       "skinparam wrapWidth 300\r\n",
       "hide circle\r\n",
       "\r\n",
       "package \"Q\" as E1  [[psysml:c58eea24-2ccf-44f2-b6e8-e98c7ec17236 ]]  {\r\n",
       "comp def \"F\" as E2  <<(T,blue)part def>> [[psysml:a4e187a3-203e-405d-be98-97d147693ddf ]] {\r\n",
       "}\r\n",
       "comp usage \"a\" as E3  <<(T,blue)part>> [[psysml:6ada620e-a181-4489-89b5-9a75fb715758 ]] {\r\n",
       "}\r\n",
       "comp usage \"f: F\" as E4  <<(T,blue)part>> [[psysml:90a61716-c53d-4f92-beb5-5068bb9fa1a0 ]] {\r\n",
       "}\r\n",
       "comp def \"A\" as E5  <<(T,blue)part def>> [[psysml:282ebd08-29d1-4bc9-b49b-68a749240d69 ]] {\r\n",
       "}\r\n",
       "comp usage \"g\" as E6  <<(T,blue)part>> [[psysml:ba34075d-eebc-4755-94e7-ca84c5a458cd ]] {\r\n",
       "}\r\n",
       "comp def \"B\" as E7  <<(T,blue)part def>> [[psysml:88191fe6-4f94-4991-8591-be7eb93db47e ]] {\r\n",
       "}\r\n",
       "comp usage \"f: F\" as E8  <<(T,blue)part>> [[psysml:ab65aa6d-a5a6-4b47-8167-56da9e982a64 ]] {\r\n",
       "}\r\n",
       "comp usage \"a: A\" as E9  <<(T,blue)part>> [[psysml:624da0d4-2cfd-4aae-83e5-be6cf87688fa ]] {\r\n",
       "}\r\n",
       "comp usage \"b: B\" as E10  <<(T,blue)part>> [[psysml:5c182589-a5f3-41ec-a644-db6857a5c19a ]] {\r\n",
       "}\r\n",
       "E2 *- - E3 [[psysml:f4f335e8-ebb2-4b93-b8a2-3184b124f9b4 ]] \r\n",
       "E4 - -:|> E2 [[psysml:6b545197-59fa-4019-832b-0413d8dfad43 ]] \r\n",
       "E5 *- - E6 [[psysml:42a57766-d710-4931-98ca-f2942df4b5a7 ]] \r\n",
       "E7 *- - E8 [[psysml:ee3500c3-1d32-470f-b6bb-e11a5c090a2b ]] \r\n",
       "E8 - -:|> E2 [[psysml:385ac8e9-821f-48a2-9a91-91f0503517ad ]] \r\n",
       "E7 *- - E9 [[psysml:4dc3c190-fff9-4cfd-9ec6-604d7dd22971 ]] \r\n",
       "E9 - -:|> E5 [[psysml:e6457602-7adc-4ee0-a454-eb40d686de5b ]] \r\n",
       "E10 - -:|> E7 [[psysml:078c16df-6fb3-4d69-bd0c-6c240437776b ]] \r\n",
       "}\r\n",
       "@enduml\r\n",
       "\n",
       "PlantUML version 1.2020.13(Sat Jun 13 12:26:38 UTC 2020)\n",
       "(EPL source distribution)\n",
       "Java Runtime: OpenJDK Runtime Environment\n",
       "JVM: OpenJDK 64-Bit Server VM\n",
       "Default Encoding: UTF-8\n",
       "Language: en\n",
       "Country: null\n",
       "--></g></svg>"
      ]
     },
     "execution_count": 49,
     "metadata": {},
     "output_type": "execute_result"
    }
   ],
   "source": [
    "%viz --style=\"TB\" --view=\"Sequence\" \"Q\""
   ]
  },
  {
   "cell_type": "code",
   "execution_count": 50,
   "id": "b7989b6b",
   "metadata": {
    "execution": {
     "iopub.execute_input": "2021-05-27T06:12:01.627276Z",
     "iopub.status.busy": "2021-05-27T06:12:01.626735Z",
     "iopub.status.idle": "2021-05-27T06:12:01.655398Z",
     "shell.execute_reply": "2021-05-27T06:12:01.654042Z"
    }
   },
   "outputs": [
    {
     "data": {
      "image/svg+xml": [
       "<?xml version=\"1.0\" encoding=\"UTF-8\" standalone=\"no\"?><svg xmlns=\"http://www.w3.org/2000/svg\" xmlns:xlink=\"http://www.w3.org/1999/xlink\" contentScriptType=\"application/ecmascript\" contentStyleType=\"text/css\" height=\"539px\" preserveAspectRatio=\"none\" style=\"width:266px;height:539px;\" version=\"1.1\" viewBox=\"0 0 266 539\" width=\"266px\" zoomAndPan=\"magnify\"><defs/><g><!--MD5=[fbc87193dbaf4d95561dea2c320d4a47]\n",
       "cluster E1--><a href=\"psysml:c58eea24-2ccf-44f2-b6e8-e98c7ec17236\" target=\"_top\" title=\"psysml:c58eea24-2ccf-44f2-b6e8-e98c7ec17236\" xlink:actuate=\"onRequest\" xlink:href=\"psysml:c58eea24-2ccf-44f2-b6e8-e98c7ec17236\" xlink:show=\"new\" xlink:title=\"psysml:c58eea24-2ccf-44f2-b6e8-e98c7ec17236\" xlink:type=\"simple\"><polygon fill=\"#FFFFFF\" points=\"16,6,34,6,41,28.2969,244,28.2969,244,527,16,527,16,6\" style=\"stroke: #000000; stroke-width: 1.5;\"/><line style=\"stroke: #000000; stroke-width: 1.5;\" x1=\"16\" x2=\"41\" y1=\"28.2969\" y2=\"28.2969\"/><text fill=\"#000000\" font-family=\"sans-serif\" font-size=\"14\" font-weight=\"bold\" lengthAdjust=\"spacingAndGlyphs\" textLength=\"12\" x=\"20\" y=\"20.9951\">Q</text></a><!--MD5=[b4997ac47864f28c2f74865a473b2911]\n",
       "class E2--><a href=\"psysml:a4e187a3-203e-405d-be98-97d147693ddf\" target=\"_top\" title=\"psysml:a4e187a3-203e-405d-be98-97d147693ddf\" xlink:actuate=\"onRequest\" xlink:href=\"psysml:a4e187a3-203e-405d-be98-97d147693ddf\" xlink:show=\"new\" xlink:title=\"psysml:a4e187a3-203e-405d-be98-97d147693ddf\" xlink:type=\"simple\"><rect fill=\"#FFFFFF\" height=\"45.9375\" id=\"E2\" style=\"stroke: #383838; stroke-width: 1.5;\" width=\"66\" x=\"147\" y=\"359\"/><text fill=\"#000000\" font-family=\"sans-serif\" font-size=\"12\" font-style=\"italic\" lengthAdjust=\"spacingAndGlyphs\" textLength=\"64\" x=\"148\" y=\"375.1387\">«part def»</text><text fill=\"#000000\" font-family=\"sans-serif\" font-size=\"12\" lengthAdjust=\"spacingAndGlyphs\" textLength=\"7\" x=\"176.5\" y=\"389.1074\">F</text><line style=\"stroke: #383838; stroke-width: 1.5;\" x1=\"148\" x2=\"212\" y1=\"396.9375\" y2=\"396.9375\"/></a><!--MD5=[09b614a08d8cba4a07c9adeb5e0fee81]\n",
       "class E3--><a href=\"psysml:6ada620e-a181-4489-89b5-9a75fb715758\" target=\"_top\" title=\"psysml:6ada620e-a181-4489-89b5-9a75fb715758\" xlink:actuate=\"onRequest\" xlink:href=\"psysml:6ada620e-a181-4489-89b5-9a75fb715758\" xlink:show=\"new\" xlink:title=\"psysml:6ada620e-a181-4489-89b5-9a75fb715758\" xlink:type=\"simple\"><rect fill=\"#FFFFFF\" height=\"45.9375\" id=\"E3\" rx=\"10\" ry=\"10\" style=\"stroke: #383838; stroke-width: 1.5;\" width=\"42\" x=\"159\" y=\"465\"/><text fill=\"#000000\" font-family=\"sans-serif\" font-size=\"12\" font-style=\"italic\" lengthAdjust=\"spacingAndGlyphs\" textLength=\"40\" x=\"160\" y=\"481.1387\">«part»</text><text fill=\"#000000\" font-family=\"sans-serif\" font-size=\"12\" lengthAdjust=\"spacingAndGlyphs\" textLength=\"8\" x=\"176\" y=\"495.1074\">a</text><line style=\"stroke: #383838; stroke-width: 1.5;\" x1=\"160\" x2=\"200\" y1=\"502.9375\" y2=\"502.9375\"/></a><!--MD5=[ebbe1d658d1005bcc118a6aa81145e00]\n",
       "class E4--><a href=\"psysml:90a61716-c53d-4f92-beb5-5068bb9fa1a0\" target=\"_top\" title=\"psysml:90a61716-c53d-4f92-beb5-5068bb9fa1a0\" xlink:actuate=\"onRequest\" xlink:href=\"psysml:90a61716-c53d-4f92-beb5-5068bb9fa1a0\" xlink:show=\"new\" xlink:title=\"psysml:90a61716-c53d-4f92-beb5-5068bb9fa1a0\" xlink:type=\"simple\"><rect fill=\"#FFFFFF\" height=\"45.9375\" id=\"E4\" rx=\"10\" ry=\"10\" style=\"stroke: #383838; stroke-width: 1.5;\" width=\"42\" x=\"186\" y=\"253\"/><text fill=\"#000000\" font-family=\"sans-serif\" font-size=\"12\" font-style=\"italic\" lengthAdjust=\"spacingAndGlyphs\" textLength=\"40\" x=\"187\" y=\"269.1387\">«part»</text><text fill=\"#000000\" font-family=\"sans-serif\" font-size=\"12\" lengthAdjust=\"spacingAndGlyphs\" textLength=\"19\" x=\"197.5\" y=\"283.1074\">f: F</text><line style=\"stroke: #383838; stroke-width: 1.5;\" x1=\"187\" x2=\"227\" y1=\"290.9375\" y2=\"290.9375\"/></a><!--MD5=[270fce915f116d4de14055a7c1d9a0f3]\n",
       "class E5--><a href=\"psysml:282ebd08-29d1-4bc9-b49b-68a749240d69\" target=\"_top\" title=\"psysml:282ebd08-29d1-4bc9-b49b-68a749240d69\" xlink:actuate=\"onRequest\" xlink:href=\"psysml:282ebd08-29d1-4bc9-b49b-68a749240d69\" xlink:show=\"new\" xlink:title=\"psysml:282ebd08-29d1-4bc9-b49b-68a749240d69\" xlink:type=\"simple\"><rect fill=\"#FFFFFF\" height=\"45.9375\" id=\"E5\" style=\"stroke: #383838; stroke-width: 1.5;\" width=\"66\" x=\"32\" y=\"359\"/><text fill=\"#000000\" font-family=\"sans-serif\" font-size=\"12\" font-style=\"italic\" lengthAdjust=\"spacingAndGlyphs\" textLength=\"64\" x=\"33\" y=\"375.1387\">«part def»</text><text fill=\"#000000\" font-family=\"sans-serif\" font-size=\"12\" lengthAdjust=\"spacingAndGlyphs\" textLength=\"8\" x=\"61\" y=\"389.1074\">A</text><line style=\"stroke: #383838; stroke-width: 1.5;\" x1=\"33\" x2=\"97\" y1=\"396.9375\" y2=\"396.9375\"/></a><!--MD5=[60a26617385b1d2d0262a64233df1f8d]\n",
       "class E6--><a href=\"psysml:ba34075d-eebc-4755-94e7-ca84c5a458cd\" target=\"_top\" title=\"psysml:ba34075d-eebc-4755-94e7-ca84c5a458cd\" xlink:actuate=\"onRequest\" xlink:href=\"psysml:ba34075d-eebc-4755-94e7-ca84c5a458cd\" xlink:show=\"new\" xlink:title=\"psysml:ba34075d-eebc-4755-94e7-ca84c5a458cd\" xlink:type=\"simple\"><rect fill=\"#FFFFFF\" height=\"45.9375\" id=\"E6\" rx=\"10\" ry=\"10\" style=\"stroke: #383838; stroke-width: 1.5;\" width=\"42\" x=\"44\" y=\"465\"/><text fill=\"#000000\" font-family=\"sans-serif\" font-size=\"12\" font-style=\"italic\" lengthAdjust=\"spacingAndGlyphs\" textLength=\"40\" x=\"45\" y=\"481.1387\">«part»</text><text fill=\"#000000\" font-family=\"sans-serif\" font-size=\"12\" lengthAdjust=\"spacingAndGlyphs\" textLength=\"8\" x=\"61\" y=\"495.1074\">g</text><line style=\"stroke: #383838; stroke-width: 1.5;\" x1=\"45\" x2=\"85\" y1=\"502.9375\" y2=\"502.9375\"/></a><!--MD5=[2156ba9850f5573cc1fc38a6a4b2f02b]\n",
       "class E7--><a href=\"psysml:88191fe6-4f94-4991-8591-be7eb93db47e\" target=\"_top\" title=\"psysml:88191fe6-4f94-4991-8591-be7eb93db47e\" xlink:actuate=\"onRequest\" xlink:href=\"psysml:88191fe6-4f94-4991-8591-be7eb93db47e\" xlink:show=\"new\" xlink:title=\"psysml:88191fe6-4f94-4991-8591-be7eb93db47e\" xlink:type=\"simple\"><rect fill=\"#FFFFFF\" height=\"45.9375\" id=\"E7\" style=\"stroke: #383838; stroke-width: 1.5;\" width=\"66\" x=\"64\" y=\"147\"/><text fill=\"#000000\" font-family=\"sans-serif\" font-size=\"12\" font-style=\"italic\" lengthAdjust=\"spacingAndGlyphs\" textLength=\"64\" x=\"65\" y=\"163.1387\">«part def»</text><text fill=\"#000000\" font-family=\"sans-serif\" font-size=\"12\" lengthAdjust=\"spacingAndGlyphs\" textLength=\"8\" x=\"93\" y=\"177.1074\">B</text><line style=\"stroke: #383838; stroke-width: 1.5;\" x1=\"65\" x2=\"129\" y1=\"184.9375\" y2=\"184.9375\"/></a><!--MD5=[b9389687b975829384b498ac4b7476b2]\n",
       "class E8--><a href=\"psysml:ab65aa6d-a5a6-4b47-8167-56da9e982a64\" target=\"_top\" title=\"psysml:ab65aa6d-a5a6-4b47-8167-56da9e982a64\" xlink:actuate=\"onRequest\" xlink:href=\"psysml:ab65aa6d-a5a6-4b47-8167-56da9e982a64\" xlink:show=\"new\" xlink:title=\"psysml:ab65aa6d-a5a6-4b47-8167-56da9e982a64\" xlink:type=\"simple\"><rect fill=\"#FFFFFF\" height=\"45.9375\" id=\"E8\" rx=\"10\" ry=\"10\" style=\"stroke: #383838; stroke-width: 1.5;\" width=\"42\" x=\"109\" y=\"253\"/><text fill=\"#000000\" font-family=\"sans-serif\" font-size=\"12\" font-style=\"italic\" lengthAdjust=\"spacingAndGlyphs\" textLength=\"40\" x=\"110\" y=\"269.1387\">«part»</text><text fill=\"#000000\" font-family=\"sans-serif\" font-size=\"12\" lengthAdjust=\"spacingAndGlyphs\" textLength=\"19\" x=\"120.5\" y=\"283.1074\">f: F</text><line style=\"stroke: #383838; stroke-width: 1.5;\" x1=\"110\" x2=\"150\" y1=\"290.9375\" y2=\"290.9375\"/></a><!--MD5=[fd4143e9d270a159db93a4ea2a975926]\n",
       "class E9--><a href=\"psysml:624da0d4-2cfd-4aae-83e5-be6cf87688fa\" target=\"_top\" title=\"psysml:624da0d4-2cfd-4aae-83e5-be6cf87688fa\" xlink:actuate=\"onRequest\" xlink:href=\"psysml:624da0d4-2cfd-4aae-83e5-be6cf87688fa\" xlink:show=\"new\" xlink:title=\"psysml:624da0d4-2cfd-4aae-83e5-be6cf87688fa\" xlink:type=\"simple\"><rect fill=\"#FFFFFF\" height=\"45.9375\" id=\"E9\" rx=\"10\" ry=\"10\" style=\"stroke: #383838; stroke-width: 1.5;\" width=\"42\" x=\"32\" y=\"253\"/><text fill=\"#000000\" font-family=\"sans-serif\" font-size=\"12\" font-style=\"italic\" lengthAdjust=\"spacingAndGlyphs\" textLength=\"40\" x=\"33\" y=\"269.1387\">«part»</text><text fill=\"#000000\" font-family=\"sans-serif\" font-size=\"12\" lengthAdjust=\"spacingAndGlyphs\" textLength=\"24\" x=\"41\" y=\"283.1074\">a: A</text><line style=\"stroke: #383838; stroke-width: 1.5;\" x1=\"33\" x2=\"73\" y1=\"290.9375\" y2=\"290.9375\"/></a><!--MD5=[96f4274e9e20536e775497830990834d]\n",
       "class E10--><a href=\"psysml:5c182589-a5f3-41ec-a644-db6857a5c19a\" target=\"_top\" title=\"psysml:5c182589-a5f3-41ec-a644-db6857a5c19a\" xlink:actuate=\"onRequest\" xlink:href=\"psysml:5c182589-a5f3-41ec-a644-db6857a5c19a\" xlink:show=\"new\" xlink:title=\"psysml:5c182589-a5f3-41ec-a644-db6857a5c19a\" xlink:type=\"simple\"><rect fill=\"#FFFFFF\" height=\"45.9375\" id=\"E10\" rx=\"10\" ry=\"10\" style=\"stroke: #383838; stroke-width: 1.5;\" width=\"42\" x=\"76\" y=\"41\"/><text fill=\"#000000\" font-family=\"sans-serif\" font-size=\"12\" font-style=\"italic\" lengthAdjust=\"spacingAndGlyphs\" textLength=\"40\" x=\"77\" y=\"57.1387\">«part»</text><text fill=\"#000000\" font-family=\"sans-serif\" font-size=\"12\" lengthAdjust=\"spacingAndGlyphs\" textLength=\"24\" x=\"85\" y=\"71.1074\">b: B</text><line style=\"stroke: #383838; stroke-width: 1.5;\" x1=\"77\" x2=\"117\" y1=\"78.9375\" y2=\"78.9375\"/></a><!--MD5=[209b3feb70ccb6233bfe1053d122c12c]\n",
       "reverse link E2 to E3--><a href=\"psysml:f4f335e8-ebb2-4b93-b8a2-3184b124f9b4\" target=\"_top\" title=\"psysml:f4f335e8-ebb2-4b93-b8a2-3184b124f9b4\" xlink:actuate=\"onRequest\" xlink:href=\"psysml:f4f335e8-ebb2-4b93-b8a2-3184b124f9b4\" xlink:show=\"new\" xlink:title=\"psysml:f4f335e8-ebb2-4b93-b8a2-3184b124f9b4\" xlink:type=\"simple\"><path d=\"M180,418.44 C180,433.87 180,451.47 180,464.98 \" fill=\"none\" id=\"E2&lt;-E3\" style=\"stroke: #383838; stroke-width: 1.0;\"/><polygon fill=\"#383838\" points=\"180,405.06,176,411.06,180,417.06,184,411.06,180,405.06\" style=\"stroke: #383838; stroke-width: 1.0;\"/></a><!--MD5=[185131fc0dcab0a4505a2ebe144e961b]\n",
       "link E4 to E2--><a href=\"psysml:6b545197-59fa-4019-832b-0413d8dfad43\" target=\"_top\" title=\"psysml:6b545197-59fa-4019-832b-0413d8dfad43\" xlink:actuate=\"onRequest\" xlink:href=\"psysml:6b545197-59fa-4019-832b-0413d8dfad43\" xlink:show=\"new\" xlink:title=\"psysml:6b545197-59fa-4019-832b-0413d8dfad43\" xlink:type=\"simple\"><path d=\"M201.27,299.06 C198.23,310.78 194.39,325.57 190.81,339.36 \" fill=\"none\" id=\"E4-&gt;E2\" style=\"stroke: #383838; stroke-width: 1.0;\"/><polygon fill=\"#FFFFFF\" points=\"185.72,358.98,183.7221,338.8303,197.2724,342.3504,185.72,358.98\" style=\"stroke: #383838; stroke-width: 1.0;\"/><ellipse cx=\"187.091\" cy=\"333.8163\" fill=\"#383838\" rx=\"2\" ry=\"2\" style=\"stroke: #383838; stroke-width: 1.0;\"/><ellipse cx=\"196.7698\" cy=\"336.3307\" fill=\"#383838\" rx=\"2\" ry=\"2\" style=\"stroke: #383838; stroke-width: 1.0;\"/></a><!--MD5=[85d356282659285ab4b2cfe2f634dd2b]\n",
       "reverse link E5 to E6--><a href=\"psysml:42a57766-d710-4931-98ca-f2942df4b5a7\" target=\"_top\" title=\"psysml:42a57766-d710-4931-98ca-f2942df4b5a7\" xlink:actuate=\"onRequest\" xlink:href=\"psysml:42a57766-d710-4931-98ca-f2942df4b5a7\" xlink:show=\"new\" xlink:title=\"psysml:42a57766-d710-4931-98ca-f2942df4b5a7\" xlink:type=\"simple\"><path d=\"M65,418.44 C65,433.87 65,451.47 65,464.98 \" fill=\"none\" id=\"E5&lt;-E6\" style=\"stroke: #383838; stroke-width: 1.0;\"/><polygon fill=\"#383838\" points=\"65,405.06,61,411.06,65,417.06,69,411.06,65,405.06\" style=\"stroke: #383838; stroke-width: 1.0;\"/></a><!--MD5=[dc164f5e8a733ab456ef1add180e9e34]\n",
       "reverse link E7 to E8--><a href=\"psysml:ee3500c3-1d32-470f-b6bb-e11a5c090a2b\" target=\"_top\" title=\"psysml:ee3500c3-1d32-470f-b6bb-e11a5c090a2b\" xlink:actuate=\"onRequest\" xlink:href=\"psysml:ee3500c3-1d32-470f-b6bb-e11a5c090a2b\" xlink:show=\"new\" xlink:title=\"psysml:ee3500c3-1d32-470f-b6bb-e11a5c090a2b\" xlink:type=\"simple\"><path d=\"M107.95,205.49 C112.91,221.15 118.64,239.19 123.01,252.98 \" fill=\"none\" id=\"E7&lt;-E8\" style=\"stroke: #383838; stroke-width: 1.0;\"/><polygon fill=\"#383838\" points=\"104,193.06,101.9989,199.9879,107.6243,204.4996,109.6253,197.5717,104,193.06\" style=\"stroke: #383838; stroke-width: 1.0;\"/></a><!--MD5=[f1f3f9f2fc535e6147756cb86a7f2e32]\n",
       "link E8 to E2--><a href=\"psysml:385ac8e9-821f-48a2-9a91-91f0503517ad\" target=\"_top\" title=\"psysml:385ac8e9-821f-48a2-9a91-91f0503517ad\" xlink:actuate=\"onRequest\" xlink:href=\"psysml:385ac8e9-821f-48a2-9a91-91f0503517ad\" xlink:show=\"new\" xlink:title=\"psysml:385ac8e9-821f-48a2-9a91-91f0503517ad\" xlink:type=\"simple\"><path d=\"M140.6,299.06 C146.44,311.19 153.86,326.62 160.68,340.82 \" fill=\"none\" id=\"E8-&gt;E2\" style=\"stroke: #383838; stroke-width: 1.0;\"/><polygon fill=\"#FFFFFF\" points=\"169.41,358.98,154.8709,344.8869,167.4894,338.8228,169.41,358.98\" style=\"stroke: #383838; stroke-width: 1.0;\"/><ellipse cx=\"154.2046\" cy=\"338.8831\" fill=\"#383838\" rx=\"2\" ry=\"2\" style=\"stroke: #383838; stroke-width: 1.0;\"/><ellipse cx=\"163.2178\" cy=\"334.5516\" fill=\"#383838\" rx=\"2\" ry=\"2\" style=\"stroke: #383838; stroke-width: 1.0;\"/></a><!--MD5=[e4a10ef82d0e328e31cac39a31e58dda]\n",
       "reverse link E7 to E9--><a href=\"psysml:4dc3c190-fff9-4cfd-9ec6-604d7dd22971\" target=\"_top\" title=\"psysml:4dc3c190-fff9-4cfd-9ec6-604d7dd22971\" xlink:actuate=\"onRequest\" xlink:href=\"psysml:4dc3c190-fff9-4cfd-9ec6-604d7dd22971\" xlink:show=\"new\" xlink:title=\"psysml:4dc3c190-fff9-4cfd-9ec6-604d7dd22971\" xlink:type=\"simple\"><path d=\"M82.41,205.49 C75.78,221.15 68.15,239.19 62.32,252.98 \" fill=\"none\" id=\"E7&lt;-E9\" style=\"stroke: #383838; stroke-width: 1.0;\"/><polygon fill=\"#383838\" points=\"87.67,193.06,81.6505,197.0305,83.0003,204.1142,89.0199,200.1436,87.67,193.06\" style=\"stroke: #383838; stroke-width: 1.0;\"/></a><!--MD5=[bfc3ddf2e613be37104f658f09af896c]\n",
       "link E9 to E5--><a href=\"psysml:e6457602-7adc-4ee0-a454-eb40d686de5b\" target=\"_top\" title=\"psysml:e6457602-7adc-4ee0-a454-eb40d686de5b\" xlink:actuate=\"onRequest\" xlink:href=\"psysml:e6457602-7adc-4ee0-a454-eb40d686de5b\" xlink:show=\"new\" xlink:title=\"psysml:e6457602-7adc-4ee0-a454-eb40d686de5b\" xlink:type=\"simple\"><path d=\"M55.54,299.06 C56.88,310.64 58.56,325.23 60.14,338.87 \" fill=\"none\" id=\"E9-&gt;E5\" style=\"stroke: #383838; stroke-width: 1.0;\"/><polygon fill=\"#FFFFFF\" points=\"62.46,358.98,53.3347,340.9044,67.243,339.3046,62.46,358.98\" style=\"stroke: #383838; stroke-width: 1.0;\"/><ellipse cx=\"54.6702\" cy=\"335.0132\" fill=\"#383838\" rx=\"2\" ry=\"2\" style=\"stroke: #383838; stroke-width: 1.0;\"/><ellipse cx=\"64.6047\" cy=\"333.8704\" fill=\"#383838\" rx=\"2\" ry=\"2\" style=\"stroke: #383838; stroke-width: 1.0;\"/></a><!--MD5=[a919e0967d6f3de553dc51b9865a1d6d]\n",
       "link E10 to E7--><a href=\"psysml:078c16df-6fb3-4d69-bd0c-6c240437776b\" target=\"_top\" title=\"psysml:078c16df-6fb3-4d69-bd0c-6c240437776b\" xlink:actuate=\"onRequest\" xlink:href=\"psysml:078c16df-6fb3-4d69-bd0c-6c240437776b\" xlink:show=\"new\" xlink:title=\"psysml:078c16df-6fb3-4d69-bd0c-6c240437776b\" xlink:type=\"simple\"><path d=\"M97,87.06 C97,98.64 97,113.23 97,126.87 \" fill=\"none\" id=\"E10-&gt;E7\" style=\"stroke: #383838; stroke-width: 1.0;\"/><polygon fill=\"#FFFFFF\" points=\"97,146.98,90,127.98,104,127.98,97,146.98\" style=\"stroke: #383838; stroke-width: 1.0;\"/><ellipse cx=\"92\" cy=\"122.28\" fill=\"#383838\" rx=\"2\" ry=\"2\" style=\"stroke: #383838; stroke-width: 1.0;\"/><ellipse cx=\"102\" cy=\"122.28\" fill=\"#383838\" rx=\"2\" ry=\"2\" style=\"stroke: #383838; stroke-width: 1.0;\"/></a><!--MD5=[820a10df3a4cd2f7e66e5c481b990468]\n",
       "@startuml\r\n",
       "top to bottom direction\r\n",
       "skinparam monochrome true\r\n",
       "skinparam classbackgroundcolor white\r\n",
       "skinparam shadowing false\r\n",
       "skinparam wrapWidth 300\r\n",
       "hide circle\r\n",
       "\r\n",
       "package \"Q\" as E1  [[psysml:c58eea24-2ccf-44f2-b6e8-e98c7ec17236 ]]  {\r\n",
       "comp def \"F\" as E2  <<(T,blue)part def>> [[psysml:a4e187a3-203e-405d-be98-97d147693ddf ]] {\r\n",
       "}\r\n",
       "comp usage \"a\" as E3  <<(T,blue)part>> [[psysml:6ada620e-a181-4489-89b5-9a75fb715758 ]] {\r\n",
       "}\r\n",
       "comp usage \"f: F\" as E4  <<(T,blue)part>> [[psysml:90a61716-c53d-4f92-beb5-5068bb9fa1a0 ]] {\r\n",
       "}\r\n",
       "comp def \"A\" as E5  <<(T,blue)part def>> [[psysml:282ebd08-29d1-4bc9-b49b-68a749240d69 ]] {\r\n",
       "}\r\n",
       "comp usage \"g\" as E6  <<(T,blue)part>> [[psysml:ba34075d-eebc-4755-94e7-ca84c5a458cd ]] {\r\n",
       "}\r\n",
       "comp def \"B\" as E7  <<(T,blue)part def>> [[psysml:88191fe6-4f94-4991-8591-be7eb93db47e ]] {\r\n",
       "}\r\n",
       "comp usage \"f: F\" as E8  <<(T,blue)part>> [[psysml:ab65aa6d-a5a6-4b47-8167-56da9e982a64 ]] {\r\n",
       "}\r\n",
       "comp usage \"a: A\" as E9  <<(T,blue)part>> [[psysml:624da0d4-2cfd-4aae-83e5-be6cf87688fa ]] {\r\n",
       "}\r\n",
       "comp usage \"b: B\" as E10  <<(T,blue)part>> [[psysml:5c182589-a5f3-41ec-a644-db6857a5c19a ]] {\r\n",
       "}\r\n",
       "E2 *- - E3 [[psysml:f4f335e8-ebb2-4b93-b8a2-3184b124f9b4 ]] \r\n",
       "E4 - -:|> E2 [[psysml:6b545197-59fa-4019-832b-0413d8dfad43 ]] \r\n",
       "E5 *- - E6 [[psysml:42a57766-d710-4931-98ca-f2942df4b5a7 ]] \r\n",
       "E7 *- - E8 [[psysml:ee3500c3-1d32-470f-b6bb-e11a5c090a2b ]] \r\n",
       "E8 - -:|> E2 [[psysml:385ac8e9-821f-48a2-9a91-91f0503517ad ]] \r\n",
       "E7 *- - E9 [[psysml:4dc3c190-fff9-4cfd-9ec6-604d7dd22971 ]] \r\n",
       "E9 - -:|> E5 [[psysml:e6457602-7adc-4ee0-a454-eb40d686de5b ]] \r\n",
       "E10 - -:|> E7 [[psysml:078c16df-6fb3-4d69-bd0c-6c240437776b ]] \r\n",
       "}\r\n",
       "@enduml\r\n",
       "\n",
       "PlantUML version 1.2020.13(Sat Jun 13 12:26:38 UTC 2020)\n",
       "(EPL source distribution)\n",
       "Java Runtime: OpenJDK Runtime Environment\n",
       "JVM: OpenJDK 64-Bit Server VM\n",
       "Default Encoding: UTF-8\n",
       "Language: en\n",
       "Country: null\n",
       "--></g></svg>"
      ]
     },
     "execution_count": 50,
     "metadata": {},
     "output_type": "execute_result"
    }
   ],
   "source": [
    "%viz --style=\"TB\" --view=\"MIXED\" \"Q\""
   ]
  },
  {
   "cell_type": "code",
   "execution_count": 51,
   "id": "5f3001b2",
   "metadata": {
    "execution": {
     "iopub.execute_input": "2021-05-27T06:12:01.709559Z",
     "iopub.status.busy": "2021-05-27T06:12:01.708791Z",
     "iopub.status.idle": "2021-05-27T06:12:01.743538Z",
     "shell.execute_reply": "2021-05-27T06:12:01.743219Z"
    }
   },
   "outputs": [
    {
     "data": {
      "image/svg+xml": [
       "<?xml version=\"1.0\" encoding=\"UTF-8\" standalone=\"no\"?><svg xmlns=\"http://www.w3.org/2000/svg\" xmlns:xlink=\"http://www.w3.org/1999/xlink\" contentScriptType=\"application/ecmascript\" contentStyleType=\"text/css\" height=\"539px\" preserveAspectRatio=\"none\" style=\"width:266px;height:539px;\" version=\"1.1\" viewBox=\"0 0 266 539\" width=\"266px\" zoomAndPan=\"magnify\"><defs/><g><!--MD5=[fbc87193dbaf4d95561dea2c320d4a47]\n",
       "cluster E1--><a href=\"psysml:c58eea24-2ccf-44f2-b6e8-e98c7ec17236\" target=\"_top\" title=\"psysml:c58eea24-2ccf-44f2-b6e8-e98c7ec17236\" xlink:actuate=\"onRequest\" xlink:href=\"psysml:c58eea24-2ccf-44f2-b6e8-e98c7ec17236\" xlink:show=\"new\" xlink:title=\"psysml:c58eea24-2ccf-44f2-b6e8-e98c7ec17236\" xlink:type=\"simple\"><polygon fill=\"#FFFFFF\" points=\"16,6,34,6,41,28.2969,244,28.2969,244,527,16,527,16,6\" style=\"stroke: #000000; stroke-width: 1.5;\"/><line style=\"stroke: #000000; stroke-width: 1.5;\" x1=\"16\" x2=\"41\" y1=\"28.2969\" y2=\"28.2969\"/><text fill=\"#000000\" font-family=\"sans-serif\" font-size=\"14\" font-weight=\"bold\" lengthAdjust=\"spacingAndGlyphs\" textLength=\"12\" x=\"20\" y=\"20.9951\">Q</text></a><!--MD5=[b4997ac47864f28c2f74865a473b2911]\n",
       "class E2--><a href=\"psysml:a4e187a3-203e-405d-be98-97d147693ddf\" target=\"_top\" title=\"psysml:a4e187a3-203e-405d-be98-97d147693ddf\" xlink:actuate=\"onRequest\" xlink:href=\"psysml:a4e187a3-203e-405d-be98-97d147693ddf\" xlink:show=\"new\" xlink:title=\"psysml:a4e187a3-203e-405d-be98-97d147693ddf\" xlink:type=\"simple\"><rect fill=\"#FFFFFF\" height=\"45.9375\" id=\"E2\" style=\"stroke: #383838; stroke-width: 1.5;\" width=\"66\" x=\"147\" y=\"359\"/><text fill=\"#000000\" font-family=\"sans-serif\" font-size=\"12\" font-style=\"italic\" lengthAdjust=\"spacingAndGlyphs\" textLength=\"64\" x=\"148\" y=\"375.1387\">«part def»</text><text fill=\"#000000\" font-family=\"sans-serif\" font-size=\"12\" lengthAdjust=\"spacingAndGlyphs\" textLength=\"7\" x=\"176.5\" y=\"389.1074\">F</text><line style=\"stroke: #383838; stroke-width: 1.5;\" x1=\"148\" x2=\"212\" y1=\"396.9375\" y2=\"396.9375\"/></a><!--MD5=[09b614a08d8cba4a07c9adeb5e0fee81]\n",
       "class E3--><a href=\"psysml:6ada620e-a181-4489-89b5-9a75fb715758\" target=\"_top\" title=\"psysml:6ada620e-a181-4489-89b5-9a75fb715758\" xlink:actuate=\"onRequest\" xlink:href=\"psysml:6ada620e-a181-4489-89b5-9a75fb715758\" xlink:show=\"new\" xlink:title=\"psysml:6ada620e-a181-4489-89b5-9a75fb715758\" xlink:type=\"simple\"><rect fill=\"#FFFFFF\" height=\"45.9375\" id=\"E3\" rx=\"10\" ry=\"10\" style=\"stroke: #383838; stroke-width: 1.5;\" width=\"42\" x=\"159\" y=\"465\"/><text fill=\"#000000\" font-family=\"sans-serif\" font-size=\"12\" font-style=\"italic\" lengthAdjust=\"spacingAndGlyphs\" textLength=\"40\" x=\"160\" y=\"481.1387\">«part»</text><text fill=\"#000000\" font-family=\"sans-serif\" font-size=\"12\" lengthAdjust=\"spacingAndGlyphs\" textLength=\"8\" x=\"176\" y=\"495.1074\">a</text><line style=\"stroke: #383838; stroke-width: 1.5;\" x1=\"160\" x2=\"200\" y1=\"502.9375\" y2=\"502.9375\"/></a><!--MD5=[ebbe1d658d1005bcc118a6aa81145e00]\n",
       "class E4--><a href=\"psysml:90a61716-c53d-4f92-beb5-5068bb9fa1a0\" target=\"_top\" title=\"psysml:90a61716-c53d-4f92-beb5-5068bb9fa1a0\" xlink:actuate=\"onRequest\" xlink:href=\"psysml:90a61716-c53d-4f92-beb5-5068bb9fa1a0\" xlink:show=\"new\" xlink:title=\"psysml:90a61716-c53d-4f92-beb5-5068bb9fa1a0\" xlink:type=\"simple\"><rect fill=\"#FFFFFF\" height=\"45.9375\" id=\"E4\" rx=\"10\" ry=\"10\" style=\"stroke: #383838; stroke-width: 1.5;\" width=\"42\" x=\"186\" y=\"253\"/><text fill=\"#000000\" font-family=\"sans-serif\" font-size=\"12\" font-style=\"italic\" lengthAdjust=\"spacingAndGlyphs\" textLength=\"40\" x=\"187\" y=\"269.1387\">«part»</text><text fill=\"#000000\" font-family=\"sans-serif\" font-size=\"12\" lengthAdjust=\"spacingAndGlyphs\" textLength=\"19\" x=\"197.5\" y=\"283.1074\">f: F</text><line style=\"stroke: #383838; stroke-width: 1.5;\" x1=\"187\" x2=\"227\" y1=\"290.9375\" y2=\"290.9375\"/></a><!--MD5=[270fce915f116d4de14055a7c1d9a0f3]\n",
       "class E5--><a href=\"psysml:282ebd08-29d1-4bc9-b49b-68a749240d69\" target=\"_top\" title=\"psysml:282ebd08-29d1-4bc9-b49b-68a749240d69\" xlink:actuate=\"onRequest\" xlink:href=\"psysml:282ebd08-29d1-4bc9-b49b-68a749240d69\" xlink:show=\"new\" xlink:title=\"psysml:282ebd08-29d1-4bc9-b49b-68a749240d69\" xlink:type=\"simple\"><rect fill=\"#FFFFFF\" height=\"45.9375\" id=\"E5\" style=\"stroke: #383838; stroke-width: 1.5;\" width=\"66\" x=\"32\" y=\"359\"/><text fill=\"#000000\" font-family=\"sans-serif\" font-size=\"12\" font-style=\"italic\" lengthAdjust=\"spacingAndGlyphs\" textLength=\"64\" x=\"33\" y=\"375.1387\">«part def»</text><text fill=\"#000000\" font-family=\"sans-serif\" font-size=\"12\" lengthAdjust=\"spacingAndGlyphs\" textLength=\"8\" x=\"61\" y=\"389.1074\">A</text><line style=\"stroke: #383838; stroke-width: 1.5;\" x1=\"33\" x2=\"97\" y1=\"396.9375\" y2=\"396.9375\"/></a><!--MD5=[60a26617385b1d2d0262a64233df1f8d]\n",
       "class E6--><a href=\"psysml:ba34075d-eebc-4755-94e7-ca84c5a458cd\" target=\"_top\" title=\"psysml:ba34075d-eebc-4755-94e7-ca84c5a458cd\" xlink:actuate=\"onRequest\" xlink:href=\"psysml:ba34075d-eebc-4755-94e7-ca84c5a458cd\" xlink:show=\"new\" xlink:title=\"psysml:ba34075d-eebc-4755-94e7-ca84c5a458cd\" xlink:type=\"simple\"><rect fill=\"#FFFFFF\" height=\"45.9375\" id=\"E6\" rx=\"10\" ry=\"10\" style=\"stroke: #383838; stroke-width: 1.5;\" width=\"42\" x=\"44\" y=\"465\"/><text fill=\"#000000\" font-family=\"sans-serif\" font-size=\"12\" font-style=\"italic\" lengthAdjust=\"spacingAndGlyphs\" textLength=\"40\" x=\"45\" y=\"481.1387\">«part»</text><text fill=\"#000000\" font-family=\"sans-serif\" font-size=\"12\" lengthAdjust=\"spacingAndGlyphs\" textLength=\"8\" x=\"61\" y=\"495.1074\">g</text><line style=\"stroke: #383838; stroke-width: 1.5;\" x1=\"45\" x2=\"85\" y1=\"502.9375\" y2=\"502.9375\"/></a><!--MD5=[2156ba9850f5573cc1fc38a6a4b2f02b]\n",
       "class E7--><a href=\"psysml:88191fe6-4f94-4991-8591-be7eb93db47e\" target=\"_top\" title=\"psysml:88191fe6-4f94-4991-8591-be7eb93db47e\" xlink:actuate=\"onRequest\" xlink:href=\"psysml:88191fe6-4f94-4991-8591-be7eb93db47e\" xlink:show=\"new\" xlink:title=\"psysml:88191fe6-4f94-4991-8591-be7eb93db47e\" xlink:type=\"simple\"><rect fill=\"#FFFFFF\" height=\"45.9375\" id=\"E7\" style=\"stroke: #383838; stroke-width: 1.5;\" width=\"66\" x=\"64\" y=\"147\"/><text fill=\"#000000\" font-family=\"sans-serif\" font-size=\"12\" font-style=\"italic\" lengthAdjust=\"spacingAndGlyphs\" textLength=\"64\" x=\"65\" y=\"163.1387\">«part def»</text><text fill=\"#000000\" font-family=\"sans-serif\" font-size=\"12\" lengthAdjust=\"spacingAndGlyphs\" textLength=\"8\" x=\"93\" y=\"177.1074\">B</text><line style=\"stroke: #383838; stroke-width: 1.5;\" x1=\"65\" x2=\"129\" y1=\"184.9375\" y2=\"184.9375\"/></a><!--MD5=[b9389687b975829384b498ac4b7476b2]\n",
       "class E8--><a href=\"psysml:ab65aa6d-a5a6-4b47-8167-56da9e982a64\" target=\"_top\" title=\"psysml:ab65aa6d-a5a6-4b47-8167-56da9e982a64\" xlink:actuate=\"onRequest\" xlink:href=\"psysml:ab65aa6d-a5a6-4b47-8167-56da9e982a64\" xlink:show=\"new\" xlink:title=\"psysml:ab65aa6d-a5a6-4b47-8167-56da9e982a64\" xlink:type=\"simple\"><rect fill=\"#FFFFFF\" height=\"45.9375\" id=\"E8\" rx=\"10\" ry=\"10\" style=\"stroke: #383838; stroke-width: 1.5;\" width=\"42\" x=\"109\" y=\"253\"/><text fill=\"#000000\" font-family=\"sans-serif\" font-size=\"12\" font-style=\"italic\" lengthAdjust=\"spacingAndGlyphs\" textLength=\"40\" x=\"110\" y=\"269.1387\">«part»</text><text fill=\"#000000\" font-family=\"sans-serif\" font-size=\"12\" lengthAdjust=\"spacingAndGlyphs\" textLength=\"19\" x=\"120.5\" y=\"283.1074\">f: F</text><line style=\"stroke: #383838; stroke-width: 1.5;\" x1=\"110\" x2=\"150\" y1=\"290.9375\" y2=\"290.9375\"/></a><!--MD5=[fd4143e9d270a159db93a4ea2a975926]\n",
       "class E9--><a href=\"psysml:624da0d4-2cfd-4aae-83e5-be6cf87688fa\" target=\"_top\" title=\"psysml:624da0d4-2cfd-4aae-83e5-be6cf87688fa\" xlink:actuate=\"onRequest\" xlink:href=\"psysml:624da0d4-2cfd-4aae-83e5-be6cf87688fa\" xlink:show=\"new\" xlink:title=\"psysml:624da0d4-2cfd-4aae-83e5-be6cf87688fa\" xlink:type=\"simple\"><rect fill=\"#FFFFFF\" height=\"45.9375\" id=\"E9\" rx=\"10\" ry=\"10\" style=\"stroke: #383838; stroke-width: 1.5;\" width=\"42\" x=\"32\" y=\"253\"/><text fill=\"#000000\" font-family=\"sans-serif\" font-size=\"12\" font-style=\"italic\" lengthAdjust=\"spacingAndGlyphs\" textLength=\"40\" x=\"33\" y=\"269.1387\">«part»</text><text fill=\"#000000\" font-family=\"sans-serif\" font-size=\"12\" lengthAdjust=\"spacingAndGlyphs\" textLength=\"24\" x=\"41\" y=\"283.1074\">a: A</text><line style=\"stroke: #383838; stroke-width: 1.5;\" x1=\"33\" x2=\"73\" y1=\"290.9375\" y2=\"290.9375\"/></a><!--MD5=[96f4274e9e20536e775497830990834d]\n",
       "class E10--><a href=\"psysml:5c182589-a5f3-41ec-a644-db6857a5c19a\" target=\"_top\" title=\"psysml:5c182589-a5f3-41ec-a644-db6857a5c19a\" xlink:actuate=\"onRequest\" xlink:href=\"psysml:5c182589-a5f3-41ec-a644-db6857a5c19a\" xlink:show=\"new\" xlink:title=\"psysml:5c182589-a5f3-41ec-a644-db6857a5c19a\" xlink:type=\"simple\"><rect fill=\"#FFFFFF\" height=\"45.9375\" id=\"E10\" rx=\"10\" ry=\"10\" style=\"stroke: #383838; stroke-width: 1.5;\" width=\"42\" x=\"76\" y=\"41\"/><text fill=\"#000000\" font-family=\"sans-serif\" font-size=\"12\" font-style=\"italic\" lengthAdjust=\"spacingAndGlyphs\" textLength=\"40\" x=\"77\" y=\"57.1387\">«part»</text><text fill=\"#000000\" font-family=\"sans-serif\" font-size=\"12\" lengthAdjust=\"spacingAndGlyphs\" textLength=\"24\" x=\"85\" y=\"71.1074\">b: B</text><line style=\"stroke: #383838; stroke-width: 1.5;\" x1=\"77\" x2=\"117\" y1=\"78.9375\" y2=\"78.9375\"/></a><!--MD5=[209b3feb70ccb6233bfe1053d122c12c]\n",
       "reverse link E2 to E3--><a href=\"psysml:f4f335e8-ebb2-4b93-b8a2-3184b124f9b4\" target=\"_top\" title=\"psysml:f4f335e8-ebb2-4b93-b8a2-3184b124f9b4\" xlink:actuate=\"onRequest\" xlink:href=\"psysml:f4f335e8-ebb2-4b93-b8a2-3184b124f9b4\" xlink:show=\"new\" xlink:title=\"psysml:f4f335e8-ebb2-4b93-b8a2-3184b124f9b4\" xlink:type=\"simple\"><path d=\"M180,418 C180,418 180,464.68 180,464.68 \" fill=\"none\" id=\"E2&lt;-E3\" style=\"stroke: #383838; stroke-width: 1.0;\"/><polygon fill=\"#383838\" points=\"180,405,176,411,180,417,184,411,180,405\" style=\"stroke: #383838; stroke-width: 1.0;\"/></a><!--MD5=[185131fc0dcab0a4505a2ebe144e961b]\n",
       "link E4 to E2--><a href=\"psysml:6b545197-59fa-4019-832b-0413d8dfad43\" target=\"_top\" title=\"psysml:6b545197-59fa-4019-832b-0413d8dfad43\" xlink:actuate=\"onRequest\" xlink:href=\"psysml:6b545197-59fa-4019-832b-0413d8dfad43\" xlink:show=\"new\" xlink:title=\"psysml:6b545197-59fa-4019-832b-0413d8dfad43\" xlink:type=\"simple\"><path d=\"M199.5,299 C199.5,299 199.5,338.68 199.5,338.68 \" fill=\"none\" id=\"E4-&gt;E2\" style=\"stroke: #383838; stroke-width: 1.0;\"/><polygon fill=\"#FFFFFF\" points=\"199.5,358.68,192.5,339.68,206.5,339.68,199.5,358.68\" style=\"stroke: #383838; stroke-width: 1.0;\"/><ellipse cx=\"194.5\" cy=\"333.98\" fill=\"#383838\" rx=\"2\" ry=\"2\" style=\"stroke: #383838; stroke-width: 1.0;\"/><ellipse cx=\"204.5\" cy=\"333.98\" fill=\"#383838\" rx=\"2\" ry=\"2\" style=\"stroke: #383838; stroke-width: 1.0;\"/></a><!--MD5=[85d356282659285ab4b2cfe2f634dd2b]\n",
       "reverse link E5 to E6--><a href=\"psysml:42a57766-d710-4931-98ca-f2942df4b5a7\" target=\"_top\" title=\"psysml:42a57766-d710-4931-98ca-f2942df4b5a7\" xlink:actuate=\"onRequest\" xlink:href=\"psysml:42a57766-d710-4931-98ca-f2942df4b5a7\" xlink:show=\"new\" xlink:title=\"psysml:42a57766-d710-4931-98ca-f2942df4b5a7\" xlink:type=\"simple\"><path d=\"M65,418 C65,418 65,464.68 65,464.68 \" fill=\"none\" id=\"E5&lt;-E6\" style=\"stroke: #383838; stroke-width: 1.0;\"/><polygon fill=\"#383838\" points=\"65,405,61,411,65,417,69,411,65,405\" style=\"stroke: #383838; stroke-width: 1.0;\"/></a><!--MD5=[dc164f5e8a733ab456ef1add180e9e34]\n",
       "reverse link E7 to E8--><a href=\"psysml:ee3500c3-1d32-470f-b6bb-e11a5c090a2b\" target=\"_top\" title=\"psysml:ee3500c3-1d32-470f-b6bb-e11a5c090a2b\" xlink:actuate=\"onRequest\" xlink:href=\"psysml:ee3500c3-1d32-470f-b6bb-e11a5c090a2b\" xlink:show=\"new\" xlink:title=\"psysml:ee3500c3-1d32-470f-b6bb-e11a5c090a2b\" xlink:type=\"simple\"><path d=\"M119.5,206 C119.5,206 119.5,252.68 119.5,252.68 \" fill=\"none\" id=\"E7&lt;-E8\" style=\"stroke: #383838; stroke-width: 1.0;\"/><polygon fill=\"#383838\" points=\"119.5,193,115.5,199,119.5,205,123.5,199,119.5,193\" style=\"stroke: #383838; stroke-width: 1.0;\"/></a><!--MD5=[f1f3f9f2fc535e6147756cb86a7f2e32]\n",
       "link E8 to E2--><a href=\"psysml:385ac8e9-821f-48a2-9a91-91f0503517ad\" target=\"_top\" title=\"psysml:385ac8e9-821f-48a2-9a91-91f0503517ad\" xlink:actuate=\"onRequest\" xlink:href=\"psysml:385ac8e9-821f-48a2-9a91-91f0503517ad\" xlink:show=\"new\" xlink:title=\"psysml:385ac8e9-821f-48a2-9a91-91f0503517ad\" xlink:type=\"simple\"><path d=\"M151.05,276 C160.04,276 168.5,276 168.5,276 C168.5,276 168.5,339 168.5,339 \" fill=\"none\" id=\"E8-&gt;E2\" style=\"stroke: #383838; stroke-width: 1.0;\"/><polygon fill=\"#FFFFFF\" points=\"168.5,359,161.5,340,175.5,340,168.5,359\" style=\"stroke: #383838; stroke-width: 1.0;\"/><ellipse cx=\"163.5\" cy=\"334.3\" fill=\"#383838\" rx=\"2\" ry=\"2\" style=\"stroke: #383838; stroke-width: 1.0;\"/><ellipse cx=\"173.5\" cy=\"334.3\" fill=\"#383838\" rx=\"2\" ry=\"2\" style=\"stroke: #383838; stroke-width: 1.0;\"/></a><!--MD5=[e4a10ef82d0e328e31cac39a31e58dda]\n",
       "reverse link E7 to E9--><a href=\"psysml:4dc3c190-fff9-4cfd-9ec6-604d7dd22971\" target=\"_top\" title=\"psysml:4dc3c190-fff9-4cfd-9ec6-604d7dd22971\" xlink:actuate=\"onRequest\" xlink:href=\"psysml:4dc3c190-fff9-4cfd-9ec6-604d7dd22971\" xlink:show=\"new\" xlink:title=\"psysml:4dc3c190-fff9-4cfd-9ec6-604d7dd22971\" xlink:type=\"simple\"><path d=\"M69,206 C69,206 69,252.68 69,252.68 \" fill=\"none\" id=\"E7&lt;-E9\" style=\"stroke: #383838; stroke-width: 1.0;\"/><polygon fill=\"#383838\" points=\"69,193,65,199,69,205,73,199,69,193\" style=\"stroke: #383838; stroke-width: 1.0;\"/></a><!--MD5=[bfc3ddf2e613be37104f658f09af896c]\n",
       "link E9 to E5--><a href=\"psysml:e6457602-7adc-4ee0-a454-eb40d686de5b\" target=\"_top\" title=\"psysml:e6457602-7adc-4ee0-a454-eb40d686de5b\" xlink:actuate=\"onRequest\" xlink:href=\"psysml:e6457602-7adc-4ee0-a454-eb40d686de5b\" xlink:show=\"new\" xlink:title=\"psysml:e6457602-7adc-4ee0-a454-eb40d686de5b\" xlink:type=\"simple\"><path d=\"M74.09,276 C80.55,276 86,276 86,276 C86,276 86,339 86,339 \" fill=\"none\" id=\"E9-&gt;E5\" style=\"stroke: #383838; stroke-width: 1.0;\"/><polygon fill=\"#FFFFFF\" points=\"86,359,79,340,93,340,86,359\" style=\"stroke: #383838; stroke-width: 1.0;\"/><ellipse cx=\"81\" cy=\"334.3\" fill=\"#383838\" rx=\"2\" ry=\"2\" style=\"stroke: #383838; stroke-width: 1.0;\"/><ellipse cx=\"91\" cy=\"334.3\" fill=\"#383838\" rx=\"2\" ry=\"2\" style=\"stroke: #383838; stroke-width: 1.0;\"/></a><!--MD5=[a919e0967d6f3de553dc51b9865a1d6d]\n",
       "link E10 to E7--><a href=\"psysml:078c16df-6fb3-4d69-bd0c-6c240437776b\" target=\"_top\" title=\"psysml:078c16df-6fb3-4d69-bd0c-6c240437776b\" xlink:actuate=\"onRequest\" xlink:href=\"psysml:078c16df-6fb3-4d69-bd0c-6c240437776b\" xlink:show=\"new\" xlink:title=\"psysml:078c16df-6fb3-4d69-bd0c-6c240437776b\" xlink:type=\"simple\"><path d=\"M97,87 C97,87 97,126.68 97,126.68 \" fill=\"none\" id=\"E10-&gt;E7\" style=\"stroke: #383838; stroke-width: 1.0;\"/><polygon fill=\"#FFFFFF\" points=\"97,146.68,90,127.68,104,127.68,97,146.68\" style=\"stroke: #383838; stroke-width: 1.0;\"/><ellipse cx=\"92\" cy=\"121.98\" fill=\"#383838\" rx=\"2\" ry=\"2\" style=\"stroke: #383838; stroke-width: 1.0;\"/><ellipse cx=\"102\" cy=\"121.98\" fill=\"#383838\" rx=\"2\" ry=\"2\" style=\"stroke: #383838; stroke-width: 1.0;\"/></a><!--MD5=[794ee67e9968624cc7951e1afb94efc3]\n",
       "@startuml\r\n",
       "skinparam linetype ortho\r\n",
       "skinparam monochrome true\r\n",
       "skinparam classbackgroundcolor white\r\n",
       "skinparam shadowing false\r\n",
       "skinparam wrapWidth 300\r\n",
       "hide circle\r\n",
       "\r\n",
       "package \"Q\" as E1  [[psysml:c58eea24-2ccf-44f2-b6e8-e98c7ec17236 ]]  {\r\n",
       "comp def \"F\" as E2  <<(T,blue)part def>> [[psysml:a4e187a3-203e-405d-be98-97d147693ddf ]] {\r\n",
       "}\r\n",
       "comp usage \"a\" as E3  <<(T,blue)part>> [[psysml:6ada620e-a181-4489-89b5-9a75fb715758 ]] {\r\n",
       "}\r\n",
       "comp usage \"f: F\" as E4  <<(T,blue)part>> [[psysml:90a61716-c53d-4f92-beb5-5068bb9fa1a0 ]] {\r\n",
       "}\r\n",
       "comp def \"A\" as E5  <<(T,blue)part def>> [[psysml:282ebd08-29d1-4bc9-b49b-68a749240d69 ]] {\r\n",
       "}\r\n",
       "comp usage \"g\" as E6  <<(T,blue)part>> [[psysml:ba34075d-eebc-4755-94e7-ca84c5a458cd ]] {\r\n",
       "}\r\n",
       "comp def \"B\" as E7  <<(T,blue)part def>> [[psysml:88191fe6-4f94-4991-8591-be7eb93db47e ]] {\r\n",
       "}\r\n",
       "comp usage \"f: F\" as E8  <<(T,blue)part>> [[psysml:ab65aa6d-a5a6-4b47-8167-56da9e982a64 ]] {\r\n",
       "}\r\n",
       "comp usage \"a: A\" as E9  <<(T,blue)part>> [[psysml:624da0d4-2cfd-4aae-83e5-be6cf87688fa ]] {\r\n",
       "}\r\n",
       "comp usage \"b: B\" as E10  <<(T,blue)part>> [[psysml:5c182589-a5f3-41ec-a644-db6857a5c19a ]] {\r\n",
       "}\r\n",
       "E2 *- - E3 [[psysml:f4f335e8-ebb2-4b93-b8a2-3184b124f9b4 ]] \r\n",
       "E4 - -:|> E2 [[psysml:6b545197-59fa-4019-832b-0413d8dfad43 ]] \r\n",
       "E5 *- - E6 [[psysml:42a57766-d710-4931-98ca-f2942df4b5a7 ]] \r\n",
       "E7 *- - E8 [[psysml:ee3500c3-1d32-470f-b6bb-e11a5c090a2b ]] \r\n",
       "E8 - -:|> E2 [[psysml:385ac8e9-821f-48a2-9a91-91f0503517ad ]] \r\n",
       "E7 *- - E9 [[psysml:4dc3c190-fff9-4cfd-9ec6-604d7dd22971 ]] \r\n",
       "E9 - -:|> E5 [[psysml:e6457602-7adc-4ee0-a454-eb40d686de5b ]] \r\n",
       "E10 - -:|> E7 [[psysml:078c16df-6fb3-4d69-bd0c-6c240437776b ]] \r\n",
       "}\r\n",
       "@enduml\r\n",
       "\n",
       "PlantUML version 1.2020.13(Sat Jun 13 12:26:38 UTC 2020)\n",
       "(EPL source distribution)\n",
       "Java Runtime: OpenJDK Runtime Environment\n",
       "JVM: OpenJDK 64-Bit Server VM\n",
       "Default Encoding: UTF-8\n",
       "Language: en\n",
       "Country: null\n",
       "--></g></svg>"
      ]
     },
     "execution_count": 51,
     "metadata": {},
     "output_type": "execute_result"
    }
   ],
   "source": [
    "%viz --style=\"ORTHOLINE\" --view=\"Default\" \"Q\""
   ]
  },
  {
   "cell_type": "code",
   "execution_count": 52,
   "id": "b016c3ad",
   "metadata": {
    "execution": {
     "iopub.execute_input": "2021-05-27T06:12:01.795218Z",
     "iopub.status.busy": "2021-05-27T06:12:01.794645Z",
     "iopub.status.idle": "2021-05-27T06:12:01.826078Z",
     "shell.execute_reply": "2021-05-27T06:12:01.825780Z"
    }
   },
   "outputs": [
    {
     "data": {
      "image/svg+xml": [
       "<?xml version=\"1.0\" encoding=\"UTF-8\" standalone=\"no\"?><svg xmlns=\"http://www.w3.org/2000/svg\" xmlns:xlink=\"http://www.w3.org/1999/xlink\" contentScriptType=\"application/ecmascript\" contentStyleType=\"text/css\" height=\"539px\" preserveAspectRatio=\"none\" style=\"width:266px;height:539px;\" version=\"1.1\" viewBox=\"0 0 266 539\" width=\"266px\" zoomAndPan=\"magnify\"><defs/><g><!--MD5=[fbc87193dbaf4d95561dea2c320d4a47]\n",
       "cluster E1--><a href=\"psysml:c58eea24-2ccf-44f2-b6e8-e98c7ec17236\" target=\"_top\" title=\"psysml:c58eea24-2ccf-44f2-b6e8-e98c7ec17236\" xlink:actuate=\"onRequest\" xlink:href=\"psysml:c58eea24-2ccf-44f2-b6e8-e98c7ec17236\" xlink:show=\"new\" xlink:title=\"psysml:c58eea24-2ccf-44f2-b6e8-e98c7ec17236\" xlink:type=\"simple\"><polygon fill=\"#FFFFFF\" points=\"16,6,34,6,41,28.2969,244,28.2969,244,527,16,527,16,6\" style=\"stroke: #000000; stroke-width: 1.5;\"/><line style=\"stroke: #000000; stroke-width: 1.5;\" x1=\"16\" x2=\"41\" y1=\"28.2969\" y2=\"28.2969\"/><text fill=\"#000000\" font-family=\"sans-serif\" font-size=\"14\" font-weight=\"bold\" lengthAdjust=\"spacingAndGlyphs\" textLength=\"12\" x=\"20\" y=\"20.9951\">Q</text></a><!--MD5=[b4997ac47864f28c2f74865a473b2911]\n",
       "class E2--><a href=\"psysml:a4e187a3-203e-405d-be98-97d147693ddf\" target=\"_top\" title=\"psysml:a4e187a3-203e-405d-be98-97d147693ddf\" xlink:actuate=\"onRequest\" xlink:href=\"psysml:a4e187a3-203e-405d-be98-97d147693ddf\" xlink:show=\"new\" xlink:title=\"psysml:a4e187a3-203e-405d-be98-97d147693ddf\" xlink:type=\"simple\"><rect fill=\"#FFFFFF\" height=\"45.9375\" id=\"E2\" style=\"stroke: #383838; stroke-width: 1.5;\" width=\"66\" x=\"147\" y=\"359\"/><text fill=\"#000000\" font-family=\"sans-serif\" font-size=\"12\" font-style=\"italic\" lengthAdjust=\"spacingAndGlyphs\" textLength=\"64\" x=\"148\" y=\"375.1387\">«part def»</text><text fill=\"#000000\" font-family=\"sans-serif\" font-size=\"12\" lengthAdjust=\"spacingAndGlyphs\" textLength=\"7\" x=\"176.5\" y=\"389.1074\">F</text><line style=\"stroke: #383838; stroke-width: 1.5;\" x1=\"148\" x2=\"212\" y1=\"396.9375\" y2=\"396.9375\"/></a><!--MD5=[09b614a08d8cba4a07c9adeb5e0fee81]\n",
       "class E3--><a href=\"psysml:6ada620e-a181-4489-89b5-9a75fb715758\" target=\"_top\" title=\"psysml:6ada620e-a181-4489-89b5-9a75fb715758\" xlink:actuate=\"onRequest\" xlink:href=\"psysml:6ada620e-a181-4489-89b5-9a75fb715758\" xlink:show=\"new\" xlink:title=\"psysml:6ada620e-a181-4489-89b5-9a75fb715758\" xlink:type=\"simple\"><rect fill=\"#FFFFFF\" height=\"45.9375\" id=\"E3\" rx=\"10\" ry=\"10\" style=\"stroke: #383838; stroke-width: 1.5;\" width=\"42\" x=\"159\" y=\"465\"/><text fill=\"#000000\" font-family=\"sans-serif\" font-size=\"12\" font-style=\"italic\" lengthAdjust=\"spacingAndGlyphs\" textLength=\"40\" x=\"160\" y=\"481.1387\">«part»</text><text fill=\"#000000\" font-family=\"sans-serif\" font-size=\"12\" lengthAdjust=\"spacingAndGlyphs\" textLength=\"8\" x=\"176\" y=\"495.1074\">a</text><line style=\"stroke: #383838; stroke-width: 1.5;\" x1=\"160\" x2=\"200\" y1=\"502.9375\" y2=\"502.9375\"/></a><!--MD5=[ebbe1d658d1005bcc118a6aa81145e00]\n",
       "class E4--><a href=\"psysml:90a61716-c53d-4f92-beb5-5068bb9fa1a0\" target=\"_top\" title=\"psysml:90a61716-c53d-4f92-beb5-5068bb9fa1a0\" xlink:actuate=\"onRequest\" xlink:href=\"psysml:90a61716-c53d-4f92-beb5-5068bb9fa1a0\" xlink:show=\"new\" xlink:title=\"psysml:90a61716-c53d-4f92-beb5-5068bb9fa1a0\" xlink:type=\"simple\"><rect fill=\"#FFFFFF\" height=\"45.9375\" id=\"E4\" rx=\"10\" ry=\"10\" style=\"stroke: #383838; stroke-width: 1.5;\" width=\"42\" x=\"186\" y=\"253\"/><text fill=\"#000000\" font-family=\"sans-serif\" font-size=\"12\" font-style=\"italic\" lengthAdjust=\"spacingAndGlyphs\" textLength=\"40\" x=\"187\" y=\"269.1387\">«part»</text><text fill=\"#000000\" font-family=\"sans-serif\" font-size=\"12\" lengthAdjust=\"spacingAndGlyphs\" textLength=\"19\" x=\"197.5\" y=\"283.1074\">f: F</text><line style=\"stroke: #383838; stroke-width: 1.5;\" x1=\"187\" x2=\"227\" y1=\"290.9375\" y2=\"290.9375\"/></a><!--MD5=[270fce915f116d4de14055a7c1d9a0f3]\n",
       "class E5--><a href=\"psysml:282ebd08-29d1-4bc9-b49b-68a749240d69\" target=\"_top\" title=\"psysml:282ebd08-29d1-4bc9-b49b-68a749240d69\" xlink:actuate=\"onRequest\" xlink:href=\"psysml:282ebd08-29d1-4bc9-b49b-68a749240d69\" xlink:show=\"new\" xlink:title=\"psysml:282ebd08-29d1-4bc9-b49b-68a749240d69\" xlink:type=\"simple\"><rect fill=\"#FFFFFF\" height=\"45.9375\" id=\"E5\" style=\"stroke: #383838; stroke-width: 1.5;\" width=\"66\" x=\"32\" y=\"359\"/><text fill=\"#000000\" font-family=\"sans-serif\" font-size=\"12\" font-style=\"italic\" lengthAdjust=\"spacingAndGlyphs\" textLength=\"64\" x=\"33\" y=\"375.1387\">«part def»</text><text fill=\"#000000\" font-family=\"sans-serif\" font-size=\"12\" lengthAdjust=\"spacingAndGlyphs\" textLength=\"8\" x=\"61\" y=\"389.1074\">A</text><line style=\"stroke: #383838; stroke-width: 1.5;\" x1=\"33\" x2=\"97\" y1=\"396.9375\" y2=\"396.9375\"/></a><!--MD5=[60a26617385b1d2d0262a64233df1f8d]\n",
       "class E6--><a href=\"psysml:ba34075d-eebc-4755-94e7-ca84c5a458cd\" target=\"_top\" title=\"psysml:ba34075d-eebc-4755-94e7-ca84c5a458cd\" xlink:actuate=\"onRequest\" xlink:href=\"psysml:ba34075d-eebc-4755-94e7-ca84c5a458cd\" xlink:show=\"new\" xlink:title=\"psysml:ba34075d-eebc-4755-94e7-ca84c5a458cd\" xlink:type=\"simple\"><rect fill=\"#FFFFFF\" height=\"45.9375\" id=\"E6\" rx=\"10\" ry=\"10\" style=\"stroke: #383838; stroke-width: 1.5;\" width=\"42\" x=\"44\" y=\"465\"/><text fill=\"#000000\" font-family=\"sans-serif\" font-size=\"12\" font-style=\"italic\" lengthAdjust=\"spacingAndGlyphs\" textLength=\"40\" x=\"45\" y=\"481.1387\">«part»</text><text fill=\"#000000\" font-family=\"sans-serif\" font-size=\"12\" lengthAdjust=\"spacingAndGlyphs\" textLength=\"8\" x=\"61\" y=\"495.1074\">g</text><line style=\"stroke: #383838; stroke-width: 1.5;\" x1=\"45\" x2=\"85\" y1=\"502.9375\" y2=\"502.9375\"/></a><!--MD5=[2156ba9850f5573cc1fc38a6a4b2f02b]\n",
       "class E7--><a href=\"psysml:88191fe6-4f94-4991-8591-be7eb93db47e\" target=\"_top\" title=\"psysml:88191fe6-4f94-4991-8591-be7eb93db47e\" xlink:actuate=\"onRequest\" xlink:href=\"psysml:88191fe6-4f94-4991-8591-be7eb93db47e\" xlink:show=\"new\" xlink:title=\"psysml:88191fe6-4f94-4991-8591-be7eb93db47e\" xlink:type=\"simple\"><rect fill=\"#FFFFFF\" height=\"45.9375\" id=\"E7\" style=\"stroke: #383838; stroke-width: 1.5;\" width=\"66\" x=\"64\" y=\"147\"/><text fill=\"#000000\" font-family=\"sans-serif\" font-size=\"12\" font-style=\"italic\" lengthAdjust=\"spacingAndGlyphs\" textLength=\"64\" x=\"65\" y=\"163.1387\">«part def»</text><text fill=\"#000000\" font-family=\"sans-serif\" font-size=\"12\" lengthAdjust=\"spacingAndGlyphs\" textLength=\"8\" x=\"93\" y=\"177.1074\">B</text><line style=\"stroke: #383838; stroke-width: 1.5;\" x1=\"65\" x2=\"129\" y1=\"184.9375\" y2=\"184.9375\"/></a><!--MD5=[b9389687b975829384b498ac4b7476b2]\n",
       "class E8--><a href=\"psysml:ab65aa6d-a5a6-4b47-8167-56da9e982a64\" target=\"_top\" title=\"psysml:ab65aa6d-a5a6-4b47-8167-56da9e982a64\" xlink:actuate=\"onRequest\" xlink:href=\"psysml:ab65aa6d-a5a6-4b47-8167-56da9e982a64\" xlink:show=\"new\" xlink:title=\"psysml:ab65aa6d-a5a6-4b47-8167-56da9e982a64\" xlink:type=\"simple\"><rect fill=\"#FFFFFF\" height=\"45.9375\" id=\"E8\" rx=\"10\" ry=\"10\" style=\"stroke: #383838; stroke-width: 1.5;\" width=\"42\" x=\"109\" y=\"253\"/><text fill=\"#000000\" font-family=\"sans-serif\" font-size=\"12\" font-style=\"italic\" lengthAdjust=\"spacingAndGlyphs\" textLength=\"40\" x=\"110\" y=\"269.1387\">«part»</text><text fill=\"#000000\" font-family=\"sans-serif\" font-size=\"12\" lengthAdjust=\"spacingAndGlyphs\" textLength=\"19\" x=\"120.5\" y=\"283.1074\">f: F</text><line style=\"stroke: #383838; stroke-width: 1.5;\" x1=\"110\" x2=\"150\" y1=\"290.9375\" y2=\"290.9375\"/></a><!--MD5=[fd4143e9d270a159db93a4ea2a975926]\n",
       "class E9--><a href=\"psysml:624da0d4-2cfd-4aae-83e5-be6cf87688fa\" target=\"_top\" title=\"psysml:624da0d4-2cfd-4aae-83e5-be6cf87688fa\" xlink:actuate=\"onRequest\" xlink:href=\"psysml:624da0d4-2cfd-4aae-83e5-be6cf87688fa\" xlink:show=\"new\" xlink:title=\"psysml:624da0d4-2cfd-4aae-83e5-be6cf87688fa\" xlink:type=\"simple\"><rect fill=\"#FFFFFF\" height=\"45.9375\" id=\"E9\" rx=\"10\" ry=\"10\" style=\"stroke: #383838; stroke-width: 1.5;\" width=\"42\" x=\"32\" y=\"253\"/><text fill=\"#000000\" font-family=\"sans-serif\" font-size=\"12\" font-style=\"italic\" lengthAdjust=\"spacingAndGlyphs\" textLength=\"40\" x=\"33\" y=\"269.1387\">«part»</text><text fill=\"#000000\" font-family=\"sans-serif\" font-size=\"12\" lengthAdjust=\"spacingAndGlyphs\" textLength=\"24\" x=\"41\" y=\"283.1074\">a: A</text><line style=\"stroke: #383838; stroke-width: 1.5;\" x1=\"33\" x2=\"73\" y1=\"290.9375\" y2=\"290.9375\"/></a><!--MD5=[96f4274e9e20536e775497830990834d]\n",
       "class E10--><a href=\"psysml:5c182589-a5f3-41ec-a644-db6857a5c19a\" target=\"_top\" title=\"psysml:5c182589-a5f3-41ec-a644-db6857a5c19a\" xlink:actuate=\"onRequest\" xlink:href=\"psysml:5c182589-a5f3-41ec-a644-db6857a5c19a\" xlink:show=\"new\" xlink:title=\"psysml:5c182589-a5f3-41ec-a644-db6857a5c19a\" xlink:type=\"simple\"><rect fill=\"#FFFFFF\" height=\"45.9375\" id=\"E10\" rx=\"10\" ry=\"10\" style=\"stroke: #383838; stroke-width: 1.5;\" width=\"42\" x=\"76\" y=\"41\"/><text fill=\"#000000\" font-family=\"sans-serif\" font-size=\"12\" font-style=\"italic\" lengthAdjust=\"spacingAndGlyphs\" textLength=\"40\" x=\"77\" y=\"57.1387\">«part»</text><text fill=\"#000000\" font-family=\"sans-serif\" font-size=\"12\" lengthAdjust=\"spacingAndGlyphs\" textLength=\"24\" x=\"85\" y=\"71.1074\">b: B</text><line style=\"stroke: #383838; stroke-width: 1.5;\" x1=\"77\" x2=\"117\" y1=\"78.9375\" y2=\"78.9375\"/></a><!--MD5=[209b3feb70ccb6233bfe1053d122c12c]\n",
       "reverse link E2 to E3--><a href=\"psysml:f4f335e8-ebb2-4b93-b8a2-3184b124f9b4\" target=\"_top\" title=\"psysml:f4f335e8-ebb2-4b93-b8a2-3184b124f9b4\" xlink:actuate=\"onRequest\" xlink:href=\"psysml:f4f335e8-ebb2-4b93-b8a2-3184b124f9b4\" xlink:show=\"new\" xlink:title=\"psysml:f4f335e8-ebb2-4b93-b8a2-3184b124f9b4\" xlink:type=\"simple\"><path d=\"M180,418 C180,418 180,464.68 180,464.68 \" fill=\"none\" id=\"E2&lt;-E3\" style=\"stroke: #383838; stroke-width: 1.0;\"/><polygon fill=\"#383838\" points=\"180,405,176,411,180,417,184,411,180,405\" style=\"stroke: #383838; stroke-width: 1.0;\"/></a><!--MD5=[185131fc0dcab0a4505a2ebe144e961b]\n",
       "link E4 to E2--><a href=\"psysml:6b545197-59fa-4019-832b-0413d8dfad43\" target=\"_top\" title=\"psysml:6b545197-59fa-4019-832b-0413d8dfad43\" xlink:actuate=\"onRequest\" xlink:href=\"psysml:6b545197-59fa-4019-832b-0413d8dfad43\" xlink:show=\"new\" xlink:title=\"psysml:6b545197-59fa-4019-832b-0413d8dfad43\" xlink:type=\"simple\"><path d=\"M199.5,299 C199.5,299 199.5,338.68 199.5,338.68 \" fill=\"none\" id=\"E4-&gt;E2\" style=\"stroke: #383838; stroke-width: 1.0;\"/><polygon fill=\"#FFFFFF\" points=\"199.5,358.68,192.5,339.68,206.5,339.68,199.5,358.68\" style=\"stroke: #383838; stroke-width: 1.0;\"/><ellipse cx=\"194.5\" cy=\"333.98\" fill=\"#383838\" rx=\"2\" ry=\"2\" style=\"stroke: #383838; stroke-width: 1.0;\"/><ellipse cx=\"204.5\" cy=\"333.98\" fill=\"#383838\" rx=\"2\" ry=\"2\" style=\"stroke: #383838; stroke-width: 1.0;\"/></a><!--MD5=[85d356282659285ab4b2cfe2f634dd2b]\n",
       "reverse link E5 to E6--><a href=\"psysml:42a57766-d710-4931-98ca-f2942df4b5a7\" target=\"_top\" title=\"psysml:42a57766-d710-4931-98ca-f2942df4b5a7\" xlink:actuate=\"onRequest\" xlink:href=\"psysml:42a57766-d710-4931-98ca-f2942df4b5a7\" xlink:show=\"new\" xlink:title=\"psysml:42a57766-d710-4931-98ca-f2942df4b5a7\" xlink:type=\"simple\"><path d=\"M65,418 C65,418 65,464.68 65,464.68 \" fill=\"none\" id=\"E5&lt;-E6\" style=\"stroke: #383838; stroke-width: 1.0;\"/><polygon fill=\"#383838\" points=\"65,405,61,411,65,417,69,411,65,405\" style=\"stroke: #383838; stroke-width: 1.0;\"/></a><!--MD5=[dc164f5e8a733ab456ef1add180e9e34]\n",
       "reverse link E7 to E8--><a href=\"psysml:ee3500c3-1d32-470f-b6bb-e11a5c090a2b\" target=\"_top\" title=\"psysml:ee3500c3-1d32-470f-b6bb-e11a5c090a2b\" xlink:actuate=\"onRequest\" xlink:href=\"psysml:ee3500c3-1d32-470f-b6bb-e11a5c090a2b\" xlink:show=\"new\" xlink:title=\"psysml:ee3500c3-1d32-470f-b6bb-e11a5c090a2b\" xlink:type=\"simple\"><path d=\"M119.5,206 C119.5,206 119.5,252.68 119.5,252.68 \" fill=\"none\" id=\"E7&lt;-E8\" style=\"stroke: #383838; stroke-width: 1.0;\"/><polygon fill=\"#383838\" points=\"119.5,193,115.5,199,119.5,205,123.5,199,119.5,193\" style=\"stroke: #383838; stroke-width: 1.0;\"/></a><!--MD5=[f1f3f9f2fc535e6147756cb86a7f2e32]\n",
       "link E8 to E2--><a href=\"psysml:385ac8e9-821f-48a2-9a91-91f0503517ad\" target=\"_top\" title=\"psysml:385ac8e9-821f-48a2-9a91-91f0503517ad\" xlink:actuate=\"onRequest\" xlink:href=\"psysml:385ac8e9-821f-48a2-9a91-91f0503517ad\" xlink:show=\"new\" xlink:title=\"psysml:385ac8e9-821f-48a2-9a91-91f0503517ad\" xlink:type=\"simple\"><path d=\"M151.05,276 C160.04,276 168.5,276 168.5,276 C168.5,276 168.5,339 168.5,339 \" fill=\"none\" id=\"E8-&gt;E2\" style=\"stroke: #383838; stroke-width: 1.0;\"/><polygon fill=\"#FFFFFF\" points=\"168.5,359,161.5,340,175.5,340,168.5,359\" style=\"stroke: #383838; stroke-width: 1.0;\"/><ellipse cx=\"163.5\" cy=\"334.3\" fill=\"#383838\" rx=\"2\" ry=\"2\" style=\"stroke: #383838; stroke-width: 1.0;\"/><ellipse cx=\"173.5\" cy=\"334.3\" fill=\"#383838\" rx=\"2\" ry=\"2\" style=\"stroke: #383838; stroke-width: 1.0;\"/></a><!--MD5=[e4a10ef82d0e328e31cac39a31e58dda]\n",
       "reverse link E7 to E9--><a href=\"psysml:4dc3c190-fff9-4cfd-9ec6-604d7dd22971\" target=\"_top\" title=\"psysml:4dc3c190-fff9-4cfd-9ec6-604d7dd22971\" xlink:actuate=\"onRequest\" xlink:href=\"psysml:4dc3c190-fff9-4cfd-9ec6-604d7dd22971\" xlink:show=\"new\" xlink:title=\"psysml:4dc3c190-fff9-4cfd-9ec6-604d7dd22971\" xlink:type=\"simple\"><path d=\"M69,206 C69,206 69,252.68 69,252.68 \" fill=\"none\" id=\"E7&lt;-E9\" style=\"stroke: #383838; stroke-width: 1.0;\"/><polygon fill=\"#383838\" points=\"69,193,65,199,69,205,73,199,69,193\" style=\"stroke: #383838; stroke-width: 1.0;\"/></a><!--MD5=[bfc3ddf2e613be37104f658f09af896c]\n",
       "link E9 to E5--><a href=\"psysml:e6457602-7adc-4ee0-a454-eb40d686de5b\" target=\"_top\" title=\"psysml:e6457602-7adc-4ee0-a454-eb40d686de5b\" xlink:actuate=\"onRequest\" xlink:href=\"psysml:e6457602-7adc-4ee0-a454-eb40d686de5b\" xlink:show=\"new\" xlink:title=\"psysml:e6457602-7adc-4ee0-a454-eb40d686de5b\" xlink:type=\"simple\"><path d=\"M74.09,276 C80.55,276 86,276 86,276 C86,276 86,339 86,339 \" fill=\"none\" id=\"E9-&gt;E5\" style=\"stroke: #383838; stroke-width: 1.0;\"/><polygon fill=\"#FFFFFF\" points=\"86,359,79,340,93,340,86,359\" style=\"stroke: #383838; stroke-width: 1.0;\"/><ellipse cx=\"81\" cy=\"334.3\" fill=\"#383838\" rx=\"2\" ry=\"2\" style=\"stroke: #383838; stroke-width: 1.0;\"/><ellipse cx=\"91\" cy=\"334.3\" fill=\"#383838\" rx=\"2\" ry=\"2\" style=\"stroke: #383838; stroke-width: 1.0;\"/></a><!--MD5=[a919e0967d6f3de553dc51b9865a1d6d]\n",
       "link E10 to E7--><a href=\"psysml:078c16df-6fb3-4d69-bd0c-6c240437776b\" target=\"_top\" title=\"psysml:078c16df-6fb3-4d69-bd0c-6c240437776b\" xlink:actuate=\"onRequest\" xlink:href=\"psysml:078c16df-6fb3-4d69-bd0c-6c240437776b\" xlink:show=\"new\" xlink:title=\"psysml:078c16df-6fb3-4d69-bd0c-6c240437776b\" xlink:type=\"simple\"><path d=\"M97,87 C97,87 97,126.68 97,126.68 \" fill=\"none\" id=\"E10-&gt;E7\" style=\"stroke: #383838; stroke-width: 1.0;\"/><polygon fill=\"#FFFFFF\" points=\"97,146.68,90,127.68,104,127.68,97,146.68\" style=\"stroke: #383838; stroke-width: 1.0;\"/><ellipse cx=\"92\" cy=\"121.98\" fill=\"#383838\" rx=\"2\" ry=\"2\" style=\"stroke: #383838; stroke-width: 1.0;\"/><ellipse cx=\"102\" cy=\"121.98\" fill=\"#383838\" rx=\"2\" ry=\"2\" style=\"stroke: #383838; stroke-width: 1.0;\"/></a><!--MD5=[794ee67e9968624cc7951e1afb94efc3]\n",
       "@startuml\r\n",
       "skinparam linetype ortho\r\n",
       "skinparam monochrome true\r\n",
       "skinparam classbackgroundcolor white\r\n",
       "skinparam shadowing false\r\n",
       "skinparam wrapWidth 300\r\n",
       "hide circle\r\n",
       "\r\n",
       "package \"Q\" as E1  [[psysml:c58eea24-2ccf-44f2-b6e8-e98c7ec17236 ]]  {\r\n",
       "comp def \"F\" as E2  <<(T,blue)part def>> [[psysml:a4e187a3-203e-405d-be98-97d147693ddf ]] {\r\n",
       "}\r\n",
       "comp usage \"a\" as E3  <<(T,blue)part>> [[psysml:6ada620e-a181-4489-89b5-9a75fb715758 ]] {\r\n",
       "}\r\n",
       "comp usage \"f: F\" as E4  <<(T,blue)part>> [[psysml:90a61716-c53d-4f92-beb5-5068bb9fa1a0 ]] {\r\n",
       "}\r\n",
       "comp def \"A\" as E5  <<(T,blue)part def>> [[psysml:282ebd08-29d1-4bc9-b49b-68a749240d69 ]] {\r\n",
       "}\r\n",
       "comp usage \"g\" as E6  <<(T,blue)part>> [[psysml:ba34075d-eebc-4755-94e7-ca84c5a458cd ]] {\r\n",
       "}\r\n",
       "comp def \"B\" as E7  <<(T,blue)part def>> [[psysml:88191fe6-4f94-4991-8591-be7eb93db47e ]] {\r\n",
       "}\r\n",
       "comp usage \"f: F\" as E8  <<(T,blue)part>> [[psysml:ab65aa6d-a5a6-4b47-8167-56da9e982a64 ]] {\r\n",
       "}\r\n",
       "comp usage \"a: A\" as E9  <<(T,blue)part>> [[psysml:624da0d4-2cfd-4aae-83e5-be6cf87688fa ]] {\r\n",
       "}\r\n",
       "comp usage \"b: B\" as E10  <<(T,blue)part>> [[psysml:5c182589-a5f3-41ec-a644-db6857a5c19a ]] {\r\n",
       "}\r\n",
       "E2 *- - E3 [[psysml:f4f335e8-ebb2-4b93-b8a2-3184b124f9b4 ]] \r\n",
       "E4 - -:|> E2 [[psysml:6b545197-59fa-4019-832b-0413d8dfad43 ]] \r\n",
       "E5 *- - E6 [[psysml:42a57766-d710-4931-98ca-f2942df4b5a7 ]] \r\n",
       "E7 *- - E8 [[psysml:ee3500c3-1d32-470f-b6bb-e11a5c090a2b ]] \r\n",
       "E8 - -:|> E2 [[psysml:385ac8e9-821f-48a2-9a91-91f0503517ad ]] \r\n",
       "E7 *- - E9 [[psysml:4dc3c190-fff9-4cfd-9ec6-604d7dd22971 ]] \r\n",
       "E9 - -:|> E5 [[psysml:e6457602-7adc-4ee0-a454-eb40d686de5b ]] \r\n",
       "E10 - -:|> E7 [[psysml:078c16df-6fb3-4d69-bd0c-6c240437776b ]] \r\n",
       "}\r\n",
       "@enduml\r\n",
       "\n",
       "PlantUML version 1.2020.13(Sat Jun 13 12:26:38 UTC 2020)\n",
       "(EPL source distribution)\n",
       "Java Runtime: OpenJDK Runtime Environment\n",
       "JVM: OpenJDK 64-Bit Server VM\n",
       "Default Encoding: UTF-8\n",
       "Language: en\n",
       "Country: null\n",
       "--></g></svg>"
      ]
     },
     "execution_count": 52,
     "metadata": {},
     "output_type": "execute_result"
    }
   ],
   "source": [
    "%viz --style=\"ORTHOLINE\" --view=\"Tree\" \"Q\""
   ]
  },
  {
   "cell_type": "code",
   "execution_count": 53,
   "id": "1ba2037a",
   "metadata": {
    "execution": {
     "iopub.execute_input": "2021-05-27T06:12:01.880332Z",
     "iopub.status.busy": "2021-05-27T06:12:01.879811Z",
     "iopub.status.idle": "2021-05-27T06:12:01.883607Z",
     "shell.execute_reply": "2021-05-27T06:12:01.883174Z"
    }
   },
   "outputs": [
    {
     "data": {
      "image/svg+xml": [
       "<?xml version=\"1.0\" encoding=\"UTF-8\" standalone=\"no\"?><svg xmlns=\"http://www.w3.org/2000/svg\" xmlns:xlink=\"http://www.w3.org/1999/xlink\" contentScriptType=\"application/ecmascript\" contentStyleType=\"text/css\" height=\"12px\" preserveAspectRatio=\"none\" style=\"width:12px;height:12px;\" version=\"1.1\" viewBox=\"0 0 12 12\" width=\"12px\" zoomAndPan=\"magnify\"><defs/><g><!--MD5=[97d6f38768b311333d388e66b2b27985]\n",
       "@startuml\r\n",
       "skinparam linetype ortho\r\n",
       "skinparam monochrome true\r\n",
       "skinparam classbackgroundcolor white\r\n",
       "skinparam shadowing false\r\n",
       "skinparam wrapWidth 300\r\n",
       "hide circle\r\n",
       "\r\n",
       "@enduml\r\n",
       "\n",
       "PlantUML version 1.2020.13(Sat Jun 13 12:26:38 UTC 2020)\n",
       "(EPL source distribution)\n",
       "Java Runtime: OpenJDK Runtime Environment\n",
       "JVM: OpenJDK 64-Bit Server VM\n",
       "Default Encoding: UTF-8\n",
       "Language: en\n",
       "Country: null\n",
       "--></g></svg>"
      ]
     },
     "execution_count": 53,
     "metadata": {},
     "output_type": "execute_result"
    }
   ],
   "source": [
    "%viz --style=\"ORTHOLINE\" --view=\"State\" \"Q\""
   ]
  },
  {
   "cell_type": "code",
   "execution_count": 54,
   "id": "5299b241",
   "metadata": {
    "execution": {
     "iopub.execute_input": "2021-05-27T06:12:01.935811Z",
     "iopub.status.busy": "2021-05-27T06:12:01.934553Z",
     "iopub.status.idle": "2021-05-27T06:12:01.972097Z",
     "shell.execute_reply": "2021-05-27T06:12:01.970760Z"
    }
   },
   "outputs": [
    {
     "data": {
      "image/svg+xml": [
       "<?xml version=\"1.0\" encoding=\"UTF-8\" standalone=\"no\"?><svg xmlns=\"http://www.w3.org/2000/svg\" xmlns:xlink=\"http://www.w3.org/1999/xlink\" contentScriptType=\"application/ecmascript\" contentStyleType=\"text/css\" height=\"192px\" preserveAspectRatio=\"none\" style=\"width:621px;height:192px;\" version=\"1.1\" viewBox=\"0 0 621 192\" width=\"621px\" zoomAndPan=\"magnify\"><defs/><g><!--MD5=[fbc87193dbaf4d95561dea2c320d4a47]\n",
       "cluster E1--><a href=\"psysml:c58eea24-2ccf-44f2-b6e8-e98c7ec17236\" target=\"_top\" title=\"psysml:c58eea24-2ccf-44f2-b6e8-e98c7ec17236\" xlink:actuate=\"onRequest\" xlink:href=\"psysml:c58eea24-2ccf-44f2-b6e8-e98c7ec17236\" xlink:show=\"new\" xlink:title=\"psysml:c58eea24-2ccf-44f2-b6e8-e98c7ec17236\" xlink:type=\"simple\"><polygon fill=\"#FFFFFF\" points=\"16,6,34,6,41,28.2969,599,28.2969,599,180,16,180,16,6\" style=\"stroke: #000000; stroke-width: 1.5;\"/><line style=\"stroke: #000000; stroke-width: 1.5;\" x1=\"16\" x2=\"41\" y1=\"28.2969\" y2=\"28.2969\"/><text fill=\"#000000\" font-family=\"sans-serif\" font-size=\"14\" font-weight=\"bold\" lengthAdjust=\"spacingAndGlyphs\" textLength=\"12\" x=\"20\" y=\"20.9951\">Q</text></a><!--MD5=[e4f7fae6ed58524ba242bb0b0d3be6b7]\n",
       "cluster E2--><a href=\"psysml:a4e187a3-203e-405d-be98-97d147693ddf\" target=\"_top\" title=\"psysml:a4e187a3-203e-405d-be98-97d147693ddf\" xlink:actuate=\"onRequest\" xlink:href=\"psysml:a4e187a3-203e-405d-be98-97d147693ddf\" xlink:show=\"new\" xlink:title=\"psysml:a4e187a3-203e-405d-be98-97d147693ddf\" xlink:type=\"simple\"><rect fill=\"#FFFFFF\" height=\"107\" id=\"E2\" style=\"stroke: #383838; stroke-width: 1.5;\" width=\"87\" x=\"488\" y=\"49\"/><rect fill=\"#F8F8F8\" height=\"37.9375\" style=\"stroke: #383838; stroke-width: 1.5;\" width=\"87\" x=\"488\" y=\"49\"/><text fill=\"#000000\" font-family=\"sans-serif\" font-size=\"12\" font-style=\"italic\" lengthAdjust=\"spacingAndGlyphs\" textLength=\"64\" x=\"499.5\" y=\"65.1387\">«part def»</text><text fill=\"#000000\" font-family=\"sans-serif\" font-size=\"12\" lengthAdjust=\"spacingAndGlyphs\" textLength=\"7\" x=\"528\" y=\"79.1074\">F</text></a><!--MD5=[de5ec2e2e8f62f467e546659f5068c88]\n",
       "cluster E5--><a href=\"psysml:282ebd08-29d1-4bc9-b49b-68a749240d69\" target=\"_top\" title=\"psysml:282ebd08-29d1-4bc9-b49b-68a749240d69\" xlink:actuate=\"onRequest\" xlink:href=\"psysml:282ebd08-29d1-4bc9-b49b-68a749240d69\" xlink:show=\"new\" xlink:title=\"psysml:282ebd08-29d1-4bc9-b49b-68a749240d69\" xlink:type=\"simple\"><rect fill=\"#FFFFFF\" height=\"107\" id=\"E5\" style=\"stroke: #383838; stroke-width: 1.5;\" width=\"87\" x=\"377\" y=\"49\"/><rect fill=\"#F8F8F8\" height=\"37.9375\" style=\"stroke: #383838; stroke-width: 1.5;\" width=\"87\" x=\"377\" y=\"49\"/><text fill=\"#000000\" font-family=\"sans-serif\" font-size=\"12\" font-style=\"italic\" lengthAdjust=\"spacingAndGlyphs\" textLength=\"64\" x=\"388.5\" y=\"65.1387\">«part def»</text><text fill=\"#000000\" font-family=\"sans-serif\" font-size=\"12\" lengthAdjust=\"spacingAndGlyphs\" textLength=\"8\" x=\"416.5\" y=\"79.1074\">A</text></a><!--MD5=[168fadf3d0c3fd93dd5d6da1b1d7ab76]\n",
       "cluster E7--><a href=\"psysml:88191fe6-4f94-4991-8591-be7eb93db47e\" target=\"_top\" title=\"psysml:88191fe6-4f94-4991-8591-be7eb93db47e\" xlink:actuate=\"onRequest\" xlink:href=\"psysml:88191fe6-4f94-4991-8591-be7eb93db47e\" xlink:show=\"new\" xlink:title=\"psysml:88191fe6-4f94-4991-8591-be7eb93db47e\" xlink:type=\"simple\"><rect fill=\"#FFFFFF\" height=\"107\" id=\"E7\" style=\"stroke: #383838; stroke-width: 1.5;\" width=\"167\" x=\"186\" y=\"49\"/><rect fill=\"#F8F8F8\" height=\"37.9375\" style=\"stroke: #383838; stroke-width: 1.5;\" width=\"167\" x=\"186\" y=\"49\"/><text fill=\"#000000\" font-family=\"sans-serif\" font-size=\"12\" font-style=\"italic\" lengthAdjust=\"spacingAndGlyphs\" textLength=\"64\" x=\"237.5\" y=\"65.1387\">«part def»</text><text fill=\"#000000\" font-family=\"sans-serif\" font-size=\"12\" lengthAdjust=\"spacingAndGlyphs\" textLength=\"8\" x=\"265.5\" y=\"79.1074\">B</text></a><g id=\"E1.E2.E3\"><a href=\"psysml:6ada620e-a181-4489-89b5-9a75fb715758\" target=\"_top\" title=\"psysml:6ada620e-a181-4489-89b5-9a75fb715758\" xlink:actuate=\"onRequest\" xlink:href=\"psysml:6ada620e-a181-4489-89b5-9a75fb715758\" xlink:show=\"new\" xlink:title=\"psysml:6ada620e-a181-4489-89b5-9a75fb715758\" xlink:type=\"simple\"><rect fill=\"#FFFFFF\" height=\"40\" id=\"E3\" rx=\"10\" ry=\"10\" style=\"stroke: #383838; stroke-width: 1.5;\" width=\"50\" x=\"506\" y=\"100\"/><rect fill=\"#F8F8F8\" height=\"23.9688\" rx=\"10\" ry=\"10\" style=\"stroke: #F8F8F8; stroke-width: 1.5;\" width=\"50\" x=\"506\" y=\"100\"/><rect fill=\"#F8F8F8\" height=\"10\" style=\"stroke: #F8F8F8; stroke-width: 1.5;\" width=\"50\" x=\"506\" y=\"113.9688\"/><rect fill=\"none\" height=\"40\" id=\"E3\" rx=\"10\" ry=\"10\" style=\"stroke: #383838; stroke-width: 1.5;\" width=\"50\" x=\"506\" y=\"100\"/><text fill=\"#000000\" font-family=\"sans-serif\" font-size=\"12\" lengthAdjust=\"spacingAndGlyphs\" textLength=\"8\" x=\"527\" y=\"116.1387\">a</text></a></g><g id=\"E1.E4\"><a href=\"psysml:90a61716-c53d-4f92-beb5-5068bb9fa1a0\" target=\"_top\" title=\"psysml:90a61716-c53d-4f92-beb5-5068bb9fa1a0\" xlink:actuate=\"onRequest\" xlink:href=\"psysml:90a61716-c53d-4f92-beb5-5068bb9fa1a0\" xlink:show=\"new\" xlink:title=\"psysml:90a61716-c53d-4f92-beb5-5068bb9fa1a0\" xlink:type=\"simple\"><rect fill=\"#FFFFFF\" height=\"40\" id=\"E4\" rx=\"10\" ry=\"10\" style=\"stroke: #383838; stroke-width: 1.5;\" width=\"50\" x=\"117\" y=\"100\"/><rect fill=\"#F8F8F8\" height=\"23.9688\" rx=\"10\" ry=\"10\" style=\"stroke: #F8F8F8; stroke-width: 1.5;\" width=\"50\" x=\"117\" y=\"100\"/><rect fill=\"#F8F8F8\" height=\"10\" style=\"stroke: #F8F8F8; stroke-width: 1.5;\" width=\"50\" x=\"117\" y=\"113.9688\"/><rect fill=\"none\" height=\"40\" id=\"E4\" rx=\"10\" ry=\"10\" style=\"stroke: #383838; stroke-width: 1.5;\" width=\"50\" x=\"117\" y=\"100\"/><text fill=\"#000000\" font-family=\"sans-serif\" font-size=\"12\" lengthAdjust=\"spacingAndGlyphs\" textLength=\"19\" x=\"132.5\" y=\"116.1387\">f: F</text></a></g><g id=\"E1.E5.E6\"><a href=\"psysml:ba34075d-eebc-4755-94e7-ca84c5a458cd\" target=\"_top\" title=\"psysml:ba34075d-eebc-4755-94e7-ca84c5a458cd\" xlink:actuate=\"onRequest\" xlink:href=\"psysml:ba34075d-eebc-4755-94e7-ca84c5a458cd\" xlink:show=\"new\" xlink:title=\"psysml:ba34075d-eebc-4755-94e7-ca84c5a458cd\" xlink:type=\"simple\"><rect fill=\"#FFFFFF\" height=\"40\" id=\"E6\" rx=\"10\" ry=\"10\" style=\"stroke: #383838; stroke-width: 1.5;\" width=\"53\" x=\"393.5\" y=\"100\"/><rect fill=\"#F8F8F8\" height=\"23.9688\" rx=\"10\" ry=\"10\" style=\"stroke: #F8F8F8; stroke-width: 1.5;\" width=\"53\" x=\"393.5\" y=\"100\"/><rect fill=\"#F8F8F8\" height=\"10\" style=\"stroke: #F8F8F8; stroke-width: 1.5;\" width=\"53\" x=\"393.5\" y=\"113.9688\"/><rect fill=\"none\" height=\"40\" id=\"E6\" rx=\"10\" ry=\"10\" style=\"stroke: #383838; stroke-width: 1.5;\" width=\"53\" x=\"393.5\" y=\"100\"/><text fill=\"#000000\" font-family=\"sans-serif\" font-size=\"12\" lengthAdjust=\"spacingAndGlyphs\" textLength=\"38\" x=\"399\" y=\"116.1387\">g=f.a;</text></a></g><g id=\"E1.E7.E8\"><a href=\"psysml:ab65aa6d-a5a6-4b47-8167-56da9e982a64\" target=\"_top\" title=\"psysml:ab65aa6d-a5a6-4b47-8167-56da9e982a64\" xlink:actuate=\"onRequest\" xlink:href=\"psysml:ab65aa6d-a5a6-4b47-8167-56da9e982a64\" xlink:show=\"new\" xlink:title=\"psysml:ab65aa6d-a5a6-4b47-8167-56da9e982a64\" xlink:type=\"simple\"><rect fill=\"#FFFFFF\" height=\"40\" id=\"E8\" rx=\"10\" ry=\"10\" style=\"stroke: #383838; stroke-width: 1.5;\" width=\"50\" x=\"287\" y=\"100\"/><rect fill=\"#F8F8F8\" height=\"23.9688\" rx=\"10\" ry=\"10\" style=\"stroke: #F8F8F8; stroke-width: 1.5;\" width=\"50\" x=\"287\" y=\"100\"/><rect fill=\"#F8F8F8\" height=\"10\" style=\"stroke: #F8F8F8; stroke-width: 1.5;\" width=\"50\" x=\"287\" y=\"113.9688\"/><rect fill=\"none\" height=\"40\" id=\"E8\" rx=\"10\" ry=\"10\" style=\"stroke: #383838; stroke-width: 1.5;\" width=\"50\" x=\"287\" y=\"100\"/><text fill=\"#000000\" font-family=\"sans-serif\" font-size=\"12\" lengthAdjust=\"spacingAndGlyphs\" textLength=\"19\" x=\"302.5\" y=\"116.1387\">f: F</text></a></g><g id=\"E1.E7.E9\"><a href=\"psysml:624da0d4-2cfd-4aae-83e5-be6cf87688fa\" target=\"_top\" title=\"psysml:624da0d4-2cfd-4aae-83e5-be6cf87688fa\" xlink:actuate=\"onRequest\" xlink:href=\"psysml:624da0d4-2cfd-4aae-83e5-be6cf87688fa\" xlink:show=\"new\" xlink:title=\"psysml:624da0d4-2cfd-4aae-83e5-be6cf87688fa\" xlink:type=\"simple\"><rect fill=\"#FFFFFF\" height=\"40\" id=\"E9\" rx=\"10\" ry=\"10\" style=\"stroke: #383838; stroke-width: 1.5;\" width=\"50\" x=\"202\" y=\"100\"/><rect fill=\"#F8F8F8\" height=\"23.9688\" rx=\"10\" ry=\"10\" style=\"stroke: #F8F8F8; stroke-width: 1.5;\" width=\"50\" x=\"202\" y=\"100\"/><rect fill=\"#F8F8F8\" height=\"10\" style=\"stroke: #F8F8F8; stroke-width: 1.5;\" width=\"50\" x=\"202\" y=\"113.9688\"/><rect fill=\"none\" height=\"40\" id=\"E9\" rx=\"10\" ry=\"10\" style=\"stroke: #383838; stroke-width: 1.5;\" width=\"50\" x=\"202\" y=\"100\"/><text fill=\"#000000\" font-family=\"sans-serif\" font-size=\"12\" lengthAdjust=\"spacingAndGlyphs\" textLength=\"24\" x=\"215\" y=\"116.1387\">a: A</text></a></g><g id=\"E1.E10\"><a href=\"psysml:5c182589-a5f3-41ec-a644-db6857a5c19a\" target=\"_top\" title=\"psysml:5c182589-a5f3-41ec-a644-db6857a5c19a\" xlink:actuate=\"onRequest\" xlink:href=\"psysml:5c182589-a5f3-41ec-a644-db6857a5c19a\" xlink:show=\"new\" xlink:title=\"psysml:5c182589-a5f3-41ec-a644-db6857a5c19a\" xlink:type=\"simple\"><rect fill=\"#FFFFFF\" height=\"40\" id=\"E10\" rx=\"10\" ry=\"10\" style=\"stroke: #383838; stroke-width: 1.5;\" width=\"50\" x=\"32\" y=\"100\"/><rect fill=\"#F8F8F8\" height=\"23.9688\" rx=\"10\" ry=\"10\" style=\"stroke: #F8F8F8; stroke-width: 1.5;\" width=\"50\" x=\"32\" y=\"100\"/><rect fill=\"#F8F8F8\" height=\"10\" style=\"stroke: #F8F8F8; stroke-width: 1.5;\" width=\"50\" x=\"32\" y=\"113.9688\"/><rect fill=\"none\" height=\"40\" id=\"E10\" rx=\"10\" ry=\"10\" style=\"stroke: #383838; stroke-width: 1.5;\" width=\"50\" x=\"32\" y=\"100\"/><text fill=\"#000000\" font-family=\"sans-serif\" font-size=\"12\" lengthAdjust=\"spacingAndGlyphs\" textLength=\"24\" x=\"45\" y=\"116.1387\">b: B</text></a></g><!--MD5=[861462e88acecb0ee8ee02679962e1c5]\n",
       "@startuml\r\n",
       "skinparam ranksep 10\r\n",
       "skinparam rectangle {\r\n",
       " backgroundColor<<block>> LightGreen\r\n",
       "}\r\n",
       "skinparam linetype ortho\r\n",
       "skinparam monochrome true\r\n",
       "skinparam classbackgroundcolor white\r\n",
       "skinparam shadowing false\r\n",
       "skinparam wrapWidth 300\r\n",
       "hide circle\r\n",
       "\r\n",
       "package \"Q\" as E1  [[psysml:c58eea24-2ccf-44f2-b6e8-e98c7ec17236 ]]  {\r\n",
       "rec def \"F\" as E2  <<(T,blue)part def>> [[psysml:a4e187a3-203e-405d-be98-97d147693ddf ]] {\r\n",
       "rec usage \"a\" as E3  [[psysml:6ada620e-a181-4489-89b5-9a75fb715758 ]] {\r\n",
       "}\r\n",
       "}\r\n",
       "rec usage \"f: F\" as E4  [[psysml:90a61716-c53d-4f92-beb5-5068bb9fa1a0 ]] {\r\n",
       "}\r\n",
       "rec def \"A\" as E5  <<(T,blue)part def>> [[psysml:282ebd08-29d1-4bc9-b49b-68a749240d69 ]] {\r\n",
       "rec usage \"g=f.a; \" as E6  [[psysml:ba34075d-eebc-4755-94e7-ca84c5a458cd ]] {\r\n",
       "}\r\n",
       "}\r\n",
       "rec def \"B\" as E7  <<(T,blue)part def>> [[psysml:88191fe6-4f94-4991-8591-be7eb93db47e ]] {\r\n",
       "rec usage \"f: F\" as E8  [[psysml:ab65aa6d-a5a6-4b47-8167-56da9e982a64 ]] {\r\n",
       "}\r\n",
       "rec usage \"a: A\" as E9  [[psysml:624da0d4-2cfd-4aae-83e5-be6cf87688fa ]] {\r\n",
       "}\r\n",
       "}\r\n",
       "rec usage \"b: B\" as E10  [[psysml:5c182589-a5f3-41ec-a644-db6857a5c19a ]] {\r\n",
       "}\r\n",
       "}\r\n",
       "@enduml\r\n",
       "\n",
       "PlantUML version 1.2020.13(Sat Jun 13 12:26:38 UTC 2020)\n",
       "(EPL source distribution)\n",
       "Java Runtime: OpenJDK Runtime Environment\n",
       "JVM: OpenJDK 64-Bit Server VM\n",
       "Default Encoding: UTF-8\n",
       "Language: en\n",
       "Country: null\n",
       "--></g></svg>"
      ]
     },
     "execution_count": 54,
     "metadata": {},
     "output_type": "execute_result"
    }
   ],
   "source": [
    "%viz --style=\"ORTHOLINE\" --view=\"Interconnection\" \"Q\""
   ]
  },
  {
   "cell_type": "code",
   "execution_count": 55,
   "id": "1f62b54c",
   "metadata": {
    "execution": {
     "iopub.execute_input": "2021-05-27T06:12:02.023163Z",
     "iopub.status.busy": "2021-05-27T06:12:02.022611Z",
     "iopub.status.idle": "2021-05-27T06:12:02.028013Z",
     "shell.execute_reply": "2021-05-27T06:12:02.027647Z"
    }
   },
   "outputs": [
    {
     "data": {
      "image/svg+xml": [
       "<?xml version=\"1.0\" encoding=\"UTF-8\" standalone=\"no\"?><svg xmlns=\"http://www.w3.org/2000/svg\" xmlns:xlink=\"http://www.w3.org/1999/xlink\" contentScriptType=\"application/ecmascript\" contentStyleType=\"text/css\" height=\"12px\" preserveAspectRatio=\"none\" style=\"width:12px;height:12px;\" version=\"1.1\" viewBox=\"0 0 12 12\" width=\"12px\" zoomAndPan=\"magnify\"><defs/><g><!--MD5=[72934c63077099a26744516a776b4749]\n",
       "@startuml\r\n",
       "skinparam ranksep 8\r\n",
       "skinparam linetype ortho\r\n",
       "skinparam monochrome true\r\n",
       "skinparam classbackgroundcolor white\r\n",
       "skinparam shadowing false\r\n",
       "skinparam wrapWidth 300\r\n",
       "hide circle\r\n",
       "\r\n",
       "@enduml\r\n",
       "\n",
       "PlantUML version 1.2020.13(Sat Jun 13 12:26:38 UTC 2020)\n",
       "(EPL source distribution)\n",
       "Java Runtime: OpenJDK Runtime Environment\n",
       "JVM: OpenJDK 64-Bit Server VM\n",
       "Default Encoding: UTF-8\n",
       "Language: en\n",
       "Country: null\n",
       "--></g></svg>"
      ]
     },
     "execution_count": 55,
     "metadata": {},
     "output_type": "execute_result"
    }
   ],
   "source": [
    "%viz --style=\"ORTHOLINE\" --view=\"Action\" \"Q\""
   ]
  },
  {
   "cell_type": "code",
   "execution_count": 56,
   "id": "c4495e62",
   "metadata": {
    "execution": {
     "iopub.execute_input": "2021-05-27T06:12:02.080400Z",
     "iopub.status.busy": "2021-05-27T06:12:02.079789Z",
     "iopub.status.idle": "2021-05-27T06:12:02.108686Z",
     "shell.execute_reply": "2021-05-27T06:12:02.107247Z"
    }
   },
   "outputs": [
    {
     "data": {
      "image/svg+xml": [
       "<?xml version=\"1.0\" encoding=\"UTF-8\" standalone=\"no\"?><svg xmlns=\"http://www.w3.org/2000/svg\" xmlns:xlink=\"http://www.w3.org/1999/xlink\" contentScriptType=\"application/ecmascript\" contentStyleType=\"text/css\" height=\"539px\" preserveAspectRatio=\"none\" style=\"width:266px;height:539px;\" version=\"1.1\" viewBox=\"0 0 266 539\" width=\"266px\" zoomAndPan=\"magnify\"><defs/><g><!--MD5=[fbc87193dbaf4d95561dea2c320d4a47]\n",
       "cluster E1--><a href=\"psysml:c58eea24-2ccf-44f2-b6e8-e98c7ec17236\" target=\"_top\" title=\"psysml:c58eea24-2ccf-44f2-b6e8-e98c7ec17236\" xlink:actuate=\"onRequest\" xlink:href=\"psysml:c58eea24-2ccf-44f2-b6e8-e98c7ec17236\" xlink:show=\"new\" xlink:title=\"psysml:c58eea24-2ccf-44f2-b6e8-e98c7ec17236\" xlink:type=\"simple\"><polygon fill=\"#FFFFFF\" points=\"16,6,34,6,41,28.2969,244,28.2969,244,527,16,527,16,6\" style=\"stroke: #000000; stroke-width: 1.5;\"/><line style=\"stroke: #000000; stroke-width: 1.5;\" x1=\"16\" x2=\"41\" y1=\"28.2969\" y2=\"28.2969\"/><text fill=\"#000000\" font-family=\"sans-serif\" font-size=\"14\" font-weight=\"bold\" lengthAdjust=\"spacingAndGlyphs\" textLength=\"12\" x=\"20\" y=\"20.9951\">Q</text></a><!--MD5=[b4997ac47864f28c2f74865a473b2911]\n",
       "class E2--><a href=\"psysml:a4e187a3-203e-405d-be98-97d147693ddf\" target=\"_top\" title=\"psysml:a4e187a3-203e-405d-be98-97d147693ddf\" xlink:actuate=\"onRequest\" xlink:href=\"psysml:a4e187a3-203e-405d-be98-97d147693ddf\" xlink:show=\"new\" xlink:title=\"psysml:a4e187a3-203e-405d-be98-97d147693ddf\" xlink:type=\"simple\"><rect fill=\"#FFFFFF\" height=\"45.9375\" id=\"E2\" style=\"stroke: #383838; stroke-width: 1.5;\" width=\"66\" x=\"147\" y=\"359\"/><text fill=\"#000000\" font-family=\"sans-serif\" font-size=\"12\" font-style=\"italic\" lengthAdjust=\"spacingAndGlyphs\" textLength=\"64\" x=\"148\" y=\"375.1387\">«part def»</text><text fill=\"#000000\" font-family=\"sans-serif\" font-size=\"12\" lengthAdjust=\"spacingAndGlyphs\" textLength=\"7\" x=\"176.5\" y=\"389.1074\">F</text><line style=\"stroke: #383838; stroke-width: 1.5;\" x1=\"148\" x2=\"212\" y1=\"396.9375\" y2=\"396.9375\"/></a><!--MD5=[09b614a08d8cba4a07c9adeb5e0fee81]\n",
       "class E3--><a href=\"psysml:6ada620e-a181-4489-89b5-9a75fb715758\" target=\"_top\" title=\"psysml:6ada620e-a181-4489-89b5-9a75fb715758\" xlink:actuate=\"onRequest\" xlink:href=\"psysml:6ada620e-a181-4489-89b5-9a75fb715758\" xlink:show=\"new\" xlink:title=\"psysml:6ada620e-a181-4489-89b5-9a75fb715758\" xlink:type=\"simple\"><rect fill=\"#FFFFFF\" height=\"45.9375\" id=\"E3\" rx=\"10\" ry=\"10\" style=\"stroke: #383838; stroke-width: 1.5;\" width=\"42\" x=\"159\" y=\"465\"/><text fill=\"#000000\" font-family=\"sans-serif\" font-size=\"12\" font-style=\"italic\" lengthAdjust=\"spacingAndGlyphs\" textLength=\"40\" x=\"160\" y=\"481.1387\">«part»</text><text fill=\"#000000\" font-family=\"sans-serif\" font-size=\"12\" lengthAdjust=\"spacingAndGlyphs\" textLength=\"8\" x=\"176\" y=\"495.1074\">a</text><line style=\"stroke: #383838; stroke-width: 1.5;\" x1=\"160\" x2=\"200\" y1=\"502.9375\" y2=\"502.9375\"/></a><!--MD5=[ebbe1d658d1005bcc118a6aa81145e00]\n",
       "class E4--><a href=\"psysml:90a61716-c53d-4f92-beb5-5068bb9fa1a0\" target=\"_top\" title=\"psysml:90a61716-c53d-4f92-beb5-5068bb9fa1a0\" xlink:actuate=\"onRequest\" xlink:href=\"psysml:90a61716-c53d-4f92-beb5-5068bb9fa1a0\" xlink:show=\"new\" xlink:title=\"psysml:90a61716-c53d-4f92-beb5-5068bb9fa1a0\" xlink:type=\"simple\"><rect fill=\"#FFFFFF\" height=\"45.9375\" id=\"E4\" rx=\"10\" ry=\"10\" style=\"stroke: #383838; stroke-width: 1.5;\" width=\"42\" x=\"186\" y=\"253\"/><text fill=\"#000000\" font-family=\"sans-serif\" font-size=\"12\" font-style=\"italic\" lengthAdjust=\"spacingAndGlyphs\" textLength=\"40\" x=\"187\" y=\"269.1387\">«part»</text><text fill=\"#000000\" font-family=\"sans-serif\" font-size=\"12\" lengthAdjust=\"spacingAndGlyphs\" textLength=\"19\" x=\"197.5\" y=\"283.1074\">f: F</text><line style=\"stroke: #383838; stroke-width: 1.5;\" x1=\"187\" x2=\"227\" y1=\"290.9375\" y2=\"290.9375\"/></a><!--MD5=[270fce915f116d4de14055a7c1d9a0f3]\n",
       "class E5--><a href=\"psysml:282ebd08-29d1-4bc9-b49b-68a749240d69\" target=\"_top\" title=\"psysml:282ebd08-29d1-4bc9-b49b-68a749240d69\" xlink:actuate=\"onRequest\" xlink:href=\"psysml:282ebd08-29d1-4bc9-b49b-68a749240d69\" xlink:show=\"new\" xlink:title=\"psysml:282ebd08-29d1-4bc9-b49b-68a749240d69\" xlink:type=\"simple\"><rect fill=\"#FFFFFF\" height=\"45.9375\" id=\"E5\" style=\"stroke: #383838; stroke-width: 1.5;\" width=\"66\" x=\"32\" y=\"359\"/><text fill=\"#000000\" font-family=\"sans-serif\" font-size=\"12\" font-style=\"italic\" lengthAdjust=\"spacingAndGlyphs\" textLength=\"64\" x=\"33\" y=\"375.1387\">«part def»</text><text fill=\"#000000\" font-family=\"sans-serif\" font-size=\"12\" lengthAdjust=\"spacingAndGlyphs\" textLength=\"8\" x=\"61\" y=\"389.1074\">A</text><line style=\"stroke: #383838; stroke-width: 1.5;\" x1=\"33\" x2=\"97\" y1=\"396.9375\" y2=\"396.9375\"/></a><!--MD5=[60a26617385b1d2d0262a64233df1f8d]\n",
       "class E6--><a href=\"psysml:ba34075d-eebc-4755-94e7-ca84c5a458cd\" target=\"_top\" title=\"psysml:ba34075d-eebc-4755-94e7-ca84c5a458cd\" xlink:actuate=\"onRequest\" xlink:href=\"psysml:ba34075d-eebc-4755-94e7-ca84c5a458cd\" xlink:show=\"new\" xlink:title=\"psysml:ba34075d-eebc-4755-94e7-ca84c5a458cd\" xlink:type=\"simple\"><rect fill=\"#FFFFFF\" height=\"45.9375\" id=\"E6\" rx=\"10\" ry=\"10\" style=\"stroke: #383838; stroke-width: 1.5;\" width=\"42\" x=\"44\" y=\"465\"/><text fill=\"#000000\" font-family=\"sans-serif\" font-size=\"12\" font-style=\"italic\" lengthAdjust=\"spacingAndGlyphs\" textLength=\"40\" x=\"45\" y=\"481.1387\">«part»</text><text fill=\"#000000\" font-family=\"sans-serif\" font-size=\"12\" lengthAdjust=\"spacingAndGlyphs\" textLength=\"8\" x=\"61\" y=\"495.1074\">g</text><line style=\"stroke: #383838; stroke-width: 1.5;\" x1=\"45\" x2=\"85\" y1=\"502.9375\" y2=\"502.9375\"/></a><!--MD5=[2156ba9850f5573cc1fc38a6a4b2f02b]\n",
       "class E7--><a href=\"psysml:88191fe6-4f94-4991-8591-be7eb93db47e\" target=\"_top\" title=\"psysml:88191fe6-4f94-4991-8591-be7eb93db47e\" xlink:actuate=\"onRequest\" xlink:href=\"psysml:88191fe6-4f94-4991-8591-be7eb93db47e\" xlink:show=\"new\" xlink:title=\"psysml:88191fe6-4f94-4991-8591-be7eb93db47e\" xlink:type=\"simple\"><rect fill=\"#FFFFFF\" height=\"45.9375\" id=\"E7\" style=\"stroke: #383838; stroke-width: 1.5;\" width=\"66\" x=\"64\" y=\"147\"/><text fill=\"#000000\" font-family=\"sans-serif\" font-size=\"12\" font-style=\"italic\" lengthAdjust=\"spacingAndGlyphs\" textLength=\"64\" x=\"65\" y=\"163.1387\">«part def»</text><text fill=\"#000000\" font-family=\"sans-serif\" font-size=\"12\" lengthAdjust=\"spacingAndGlyphs\" textLength=\"8\" x=\"93\" y=\"177.1074\">B</text><line style=\"stroke: #383838; stroke-width: 1.5;\" x1=\"65\" x2=\"129\" y1=\"184.9375\" y2=\"184.9375\"/></a><!--MD5=[b9389687b975829384b498ac4b7476b2]\n",
       "class E8--><a href=\"psysml:ab65aa6d-a5a6-4b47-8167-56da9e982a64\" target=\"_top\" title=\"psysml:ab65aa6d-a5a6-4b47-8167-56da9e982a64\" xlink:actuate=\"onRequest\" xlink:href=\"psysml:ab65aa6d-a5a6-4b47-8167-56da9e982a64\" xlink:show=\"new\" xlink:title=\"psysml:ab65aa6d-a5a6-4b47-8167-56da9e982a64\" xlink:type=\"simple\"><rect fill=\"#FFFFFF\" height=\"45.9375\" id=\"E8\" rx=\"10\" ry=\"10\" style=\"stroke: #383838; stroke-width: 1.5;\" width=\"42\" x=\"109\" y=\"253\"/><text fill=\"#000000\" font-family=\"sans-serif\" font-size=\"12\" font-style=\"italic\" lengthAdjust=\"spacingAndGlyphs\" textLength=\"40\" x=\"110\" y=\"269.1387\">«part»</text><text fill=\"#000000\" font-family=\"sans-serif\" font-size=\"12\" lengthAdjust=\"spacingAndGlyphs\" textLength=\"19\" x=\"120.5\" y=\"283.1074\">f: F</text><line style=\"stroke: #383838; stroke-width: 1.5;\" x1=\"110\" x2=\"150\" y1=\"290.9375\" y2=\"290.9375\"/></a><!--MD5=[fd4143e9d270a159db93a4ea2a975926]\n",
       "class E9--><a href=\"psysml:624da0d4-2cfd-4aae-83e5-be6cf87688fa\" target=\"_top\" title=\"psysml:624da0d4-2cfd-4aae-83e5-be6cf87688fa\" xlink:actuate=\"onRequest\" xlink:href=\"psysml:624da0d4-2cfd-4aae-83e5-be6cf87688fa\" xlink:show=\"new\" xlink:title=\"psysml:624da0d4-2cfd-4aae-83e5-be6cf87688fa\" xlink:type=\"simple\"><rect fill=\"#FFFFFF\" height=\"45.9375\" id=\"E9\" rx=\"10\" ry=\"10\" style=\"stroke: #383838; stroke-width: 1.5;\" width=\"42\" x=\"32\" y=\"253\"/><text fill=\"#000000\" font-family=\"sans-serif\" font-size=\"12\" font-style=\"italic\" lengthAdjust=\"spacingAndGlyphs\" textLength=\"40\" x=\"33\" y=\"269.1387\">«part»</text><text fill=\"#000000\" font-family=\"sans-serif\" font-size=\"12\" lengthAdjust=\"spacingAndGlyphs\" textLength=\"24\" x=\"41\" y=\"283.1074\">a: A</text><line style=\"stroke: #383838; stroke-width: 1.5;\" x1=\"33\" x2=\"73\" y1=\"290.9375\" y2=\"290.9375\"/></a><!--MD5=[96f4274e9e20536e775497830990834d]\n",
       "class E10--><a href=\"psysml:5c182589-a5f3-41ec-a644-db6857a5c19a\" target=\"_top\" title=\"psysml:5c182589-a5f3-41ec-a644-db6857a5c19a\" xlink:actuate=\"onRequest\" xlink:href=\"psysml:5c182589-a5f3-41ec-a644-db6857a5c19a\" xlink:show=\"new\" xlink:title=\"psysml:5c182589-a5f3-41ec-a644-db6857a5c19a\" xlink:type=\"simple\"><rect fill=\"#FFFFFF\" height=\"45.9375\" id=\"E10\" rx=\"10\" ry=\"10\" style=\"stroke: #383838; stroke-width: 1.5;\" width=\"42\" x=\"76\" y=\"41\"/><text fill=\"#000000\" font-family=\"sans-serif\" font-size=\"12\" font-style=\"italic\" lengthAdjust=\"spacingAndGlyphs\" textLength=\"40\" x=\"77\" y=\"57.1387\">«part»</text><text fill=\"#000000\" font-family=\"sans-serif\" font-size=\"12\" lengthAdjust=\"spacingAndGlyphs\" textLength=\"24\" x=\"85\" y=\"71.1074\">b: B</text><line style=\"stroke: #383838; stroke-width: 1.5;\" x1=\"77\" x2=\"117\" y1=\"78.9375\" y2=\"78.9375\"/></a><!--MD5=[209b3feb70ccb6233bfe1053d122c12c]\n",
       "reverse link E2 to E3--><a href=\"psysml:f4f335e8-ebb2-4b93-b8a2-3184b124f9b4\" target=\"_top\" title=\"psysml:f4f335e8-ebb2-4b93-b8a2-3184b124f9b4\" xlink:actuate=\"onRequest\" xlink:href=\"psysml:f4f335e8-ebb2-4b93-b8a2-3184b124f9b4\" xlink:show=\"new\" xlink:title=\"psysml:f4f335e8-ebb2-4b93-b8a2-3184b124f9b4\" xlink:type=\"simple\"><path d=\"M180,418 C180,418 180,464.68 180,464.68 \" fill=\"none\" id=\"E2&lt;-E3\" style=\"stroke: #383838; stroke-width: 1.0;\"/><polygon fill=\"#383838\" points=\"180,405,176,411,180,417,184,411,180,405\" style=\"stroke: #383838; stroke-width: 1.0;\"/></a><!--MD5=[185131fc0dcab0a4505a2ebe144e961b]\n",
       "link E4 to E2--><a href=\"psysml:6b545197-59fa-4019-832b-0413d8dfad43\" target=\"_top\" title=\"psysml:6b545197-59fa-4019-832b-0413d8dfad43\" xlink:actuate=\"onRequest\" xlink:href=\"psysml:6b545197-59fa-4019-832b-0413d8dfad43\" xlink:show=\"new\" xlink:title=\"psysml:6b545197-59fa-4019-832b-0413d8dfad43\" xlink:type=\"simple\"><path d=\"M199.5,299 C199.5,299 199.5,338.68 199.5,338.68 \" fill=\"none\" id=\"E4-&gt;E2\" style=\"stroke: #383838; stroke-width: 1.0;\"/><polygon fill=\"#FFFFFF\" points=\"199.5,358.68,192.5,339.68,206.5,339.68,199.5,358.68\" style=\"stroke: #383838; stroke-width: 1.0;\"/><ellipse cx=\"194.5\" cy=\"333.98\" fill=\"#383838\" rx=\"2\" ry=\"2\" style=\"stroke: #383838; stroke-width: 1.0;\"/><ellipse cx=\"204.5\" cy=\"333.98\" fill=\"#383838\" rx=\"2\" ry=\"2\" style=\"stroke: #383838; stroke-width: 1.0;\"/></a><!--MD5=[85d356282659285ab4b2cfe2f634dd2b]\n",
       "reverse link E5 to E6--><a href=\"psysml:42a57766-d710-4931-98ca-f2942df4b5a7\" target=\"_top\" title=\"psysml:42a57766-d710-4931-98ca-f2942df4b5a7\" xlink:actuate=\"onRequest\" xlink:href=\"psysml:42a57766-d710-4931-98ca-f2942df4b5a7\" xlink:show=\"new\" xlink:title=\"psysml:42a57766-d710-4931-98ca-f2942df4b5a7\" xlink:type=\"simple\"><path d=\"M65,418 C65,418 65,464.68 65,464.68 \" fill=\"none\" id=\"E5&lt;-E6\" style=\"stroke: #383838; stroke-width: 1.0;\"/><polygon fill=\"#383838\" points=\"65,405,61,411,65,417,69,411,65,405\" style=\"stroke: #383838; stroke-width: 1.0;\"/></a><!--MD5=[dc164f5e8a733ab456ef1add180e9e34]\n",
       "reverse link E7 to E8--><a href=\"psysml:ee3500c3-1d32-470f-b6bb-e11a5c090a2b\" target=\"_top\" title=\"psysml:ee3500c3-1d32-470f-b6bb-e11a5c090a2b\" xlink:actuate=\"onRequest\" xlink:href=\"psysml:ee3500c3-1d32-470f-b6bb-e11a5c090a2b\" xlink:show=\"new\" xlink:title=\"psysml:ee3500c3-1d32-470f-b6bb-e11a5c090a2b\" xlink:type=\"simple\"><path d=\"M119.5,206 C119.5,206 119.5,252.68 119.5,252.68 \" fill=\"none\" id=\"E7&lt;-E8\" style=\"stroke: #383838; stroke-width: 1.0;\"/><polygon fill=\"#383838\" points=\"119.5,193,115.5,199,119.5,205,123.5,199,119.5,193\" style=\"stroke: #383838; stroke-width: 1.0;\"/></a><!--MD5=[f1f3f9f2fc535e6147756cb86a7f2e32]\n",
       "link E8 to E2--><a href=\"psysml:385ac8e9-821f-48a2-9a91-91f0503517ad\" target=\"_top\" title=\"psysml:385ac8e9-821f-48a2-9a91-91f0503517ad\" xlink:actuate=\"onRequest\" xlink:href=\"psysml:385ac8e9-821f-48a2-9a91-91f0503517ad\" xlink:show=\"new\" xlink:title=\"psysml:385ac8e9-821f-48a2-9a91-91f0503517ad\" xlink:type=\"simple\"><path d=\"M151.05,276 C160.04,276 168.5,276 168.5,276 C168.5,276 168.5,339 168.5,339 \" fill=\"none\" id=\"E8-&gt;E2\" style=\"stroke: #383838; stroke-width: 1.0;\"/><polygon fill=\"#FFFFFF\" points=\"168.5,359,161.5,340,175.5,340,168.5,359\" style=\"stroke: #383838; stroke-width: 1.0;\"/><ellipse cx=\"163.5\" cy=\"334.3\" fill=\"#383838\" rx=\"2\" ry=\"2\" style=\"stroke: #383838; stroke-width: 1.0;\"/><ellipse cx=\"173.5\" cy=\"334.3\" fill=\"#383838\" rx=\"2\" ry=\"2\" style=\"stroke: #383838; stroke-width: 1.0;\"/></a><!--MD5=[e4a10ef82d0e328e31cac39a31e58dda]\n",
       "reverse link E7 to E9--><a href=\"psysml:4dc3c190-fff9-4cfd-9ec6-604d7dd22971\" target=\"_top\" title=\"psysml:4dc3c190-fff9-4cfd-9ec6-604d7dd22971\" xlink:actuate=\"onRequest\" xlink:href=\"psysml:4dc3c190-fff9-4cfd-9ec6-604d7dd22971\" xlink:show=\"new\" xlink:title=\"psysml:4dc3c190-fff9-4cfd-9ec6-604d7dd22971\" xlink:type=\"simple\"><path d=\"M69,206 C69,206 69,252.68 69,252.68 \" fill=\"none\" id=\"E7&lt;-E9\" style=\"stroke: #383838; stroke-width: 1.0;\"/><polygon fill=\"#383838\" points=\"69,193,65,199,69,205,73,199,69,193\" style=\"stroke: #383838; stroke-width: 1.0;\"/></a><!--MD5=[bfc3ddf2e613be37104f658f09af896c]\n",
       "link E9 to E5--><a href=\"psysml:e6457602-7adc-4ee0-a454-eb40d686de5b\" target=\"_top\" title=\"psysml:e6457602-7adc-4ee0-a454-eb40d686de5b\" xlink:actuate=\"onRequest\" xlink:href=\"psysml:e6457602-7adc-4ee0-a454-eb40d686de5b\" xlink:show=\"new\" xlink:title=\"psysml:e6457602-7adc-4ee0-a454-eb40d686de5b\" xlink:type=\"simple\"><path d=\"M74.09,276 C80.55,276 86,276 86,276 C86,276 86,339 86,339 \" fill=\"none\" id=\"E9-&gt;E5\" style=\"stroke: #383838; stroke-width: 1.0;\"/><polygon fill=\"#FFFFFF\" points=\"86,359,79,340,93,340,86,359\" style=\"stroke: #383838; stroke-width: 1.0;\"/><ellipse cx=\"81\" cy=\"334.3\" fill=\"#383838\" rx=\"2\" ry=\"2\" style=\"stroke: #383838; stroke-width: 1.0;\"/><ellipse cx=\"91\" cy=\"334.3\" fill=\"#383838\" rx=\"2\" ry=\"2\" style=\"stroke: #383838; stroke-width: 1.0;\"/></a><!--MD5=[a919e0967d6f3de553dc51b9865a1d6d]\n",
       "link E10 to E7--><a href=\"psysml:078c16df-6fb3-4d69-bd0c-6c240437776b\" target=\"_top\" title=\"psysml:078c16df-6fb3-4d69-bd0c-6c240437776b\" xlink:actuate=\"onRequest\" xlink:href=\"psysml:078c16df-6fb3-4d69-bd0c-6c240437776b\" xlink:show=\"new\" xlink:title=\"psysml:078c16df-6fb3-4d69-bd0c-6c240437776b\" xlink:type=\"simple\"><path d=\"M97,87 C97,87 97,126.68 97,126.68 \" fill=\"none\" id=\"E10-&gt;E7\" style=\"stroke: #383838; stroke-width: 1.0;\"/><polygon fill=\"#FFFFFF\" points=\"97,146.68,90,127.68,104,127.68,97,146.68\" style=\"stroke: #383838; stroke-width: 1.0;\"/><ellipse cx=\"92\" cy=\"121.98\" fill=\"#383838\" rx=\"2\" ry=\"2\" style=\"stroke: #383838; stroke-width: 1.0;\"/><ellipse cx=\"102\" cy=\"121.98\" fill=\"#383838\" rx=\"2\" ry=\"2\" style=\"stroke: #383838; stroke-width: 1.0;\"/></a><!--MD5=[794ee67e9968624cc7951e1afb94efc3]\n",
       "@startuml\r\n",
       "skinparam linetype ortho\r\n",
       "skinparam monochrome true\r\n",
       "skinparam classbackgroundcolor white\r\n",
       "skinparam shadowing false\r\n",
       "skinparam wrapWidth 300\r\n",
       "hide circle\r\n",
       "\r\n",
       "package \"Q\" as E1  [[psysml:c58eea24-2ccf-44f2-b6e8-e98c7ec17236 ]]  {\r\n",
       "comp def \"F\" as E2  <<(T,blue)part def>> [[psysml:a4e187a3-203e-405d-be98-97d147693ddf ]] {\r\n",
       "}\r\n",
       "comp usage \"a\" as E3  <<(T,blue)part>> [[psysml:6ada620e-a181-4489-89b5-9a75fb715758 ]] {\r\n",
       "}\r\n",
       "comp usage \"f: F\" as E4  <<(T,blue)part>> [[psysml:90a61716-c53d-4f92-beb5-5068bb9fa1a0 ]] {\r\n",
       "}\r\n",
       "comp def \"A\" as E5  <<(T,blue)part def>> [[psysml:282ebd08-29d1-4bc9-b49b-68a749240d69 ]] {\r\n",
       "}\r\n",
       "comp usage \"g\" as E6  <<(T,blue)part>> [[psysml:ba34075d-eebc-4755-94e7-ca84c5a458cd ]] {\r\n",
       "}\r\n",
       "comp def \"B\" as E7  <<(T,blue)part def>> [[psysml:88191fe6-4f94-4991-8591-be7eb93db47e ]] {\r\n",
       "}\r\n",
       "comp usage \"f: F\" as E8  <<(T,blue)part>> [[psysml:ab65aa6d-a5a6-4b47-8167-56da9e982a64 ]] {\r\n",
       "}\r\n",
       "comp usage \"a: A\" as E9  <<(T,blue)part>> [[psysml:624da0d4-2cfd-4aae-83e5-be6cf87688fa ]] {\r\n",
       "}\r\n",
       "comp usage \"b: B\" as E10  <<(T,blue)part>> [[psysml:5c182589-a5f3-41ec-a644-db6857a5c19a ]] {\r\n",
       "}\r\n",
       "E2 *- - E3 [[psysml:f4f335e8-ebb2-4b93-b8a2-3184b124f9b4 ]] \r\n",
       "E4 - -:|> E2 [[psysml:6b545197-59fa-4019-832b-0413d8dfad43 ]] \r\n",
       "E5 *- - E6 [[psysml:42a57766-d710-4931-98ca-f2942df4b5a7 ]] \r\n",
       "E7 *- - E8 [[psysml:ee3500c3-1d32-470f-b6bb-e11a5c090a2b ]] \r\n",
       "E8 - -:|> E2 [[psysml:385ac8e9-821f-48a2-9a91-91f0503517ad ]] \r\n",
       "E7 *- - E9 [[psysml:4dc3c190-fff9-4cfd-9ec6-604d7dd22971 ]] \r\n",
       "E9 - -:|> E5 [[psysml:e6457602-7adc-4ee0-a454-eb40d686de5b ]] \r\n",
       "E10 - -:|> E7 [[psysml:078c16df-6fb3-4d69-bd0c-6c240437776b ]] \r\n",
       "}\r\n",
       "@enduml\r\n",
       "\n",
       "PlantUML version 1.2020.13(Sat Jun 13 12:26:38 UTC 2020)\n",
       "(EPL source distribution)\n",
       "Java Runtime: OpenJDK Runtime Environment\n",
       "JVM: OpenJDK 64-Bit Server VM\n",
       "Default Encoding: UTF-8\n",
       "Language: en\n",
       "Country: null\n",
       "--></g></svg>"
      ]
     },
     "execution_count": 56,
     "metadata": {},
     "output_type": "execute_result"
    }
   ],
   "source": [
    "%viz --style=\"ORTHOLINE\" --view=\"Sequence\" \"Q\""
   ]
  },
  {
   "cell_type": "code",
   "execution_count": 57,
   "id": "7b3e96bf",
   "metadata": {
    "execution": {
     "iopub.execute_input": "2021-05-27T06:12:02.162469Z",
     "iopub.status.busy": "2021-05-27T06:12:02.159946Z",
     "iopub.status.idle": "2021-05-27T06:12:02.192394Z",
     "shell.execute_reply": "2021-05-27T06:12:02.190974Z"
    }
   },
   "outputs": [
    {
     "data": {
      "image/svg+xml": [
       "<?xml version=\"1.0\" encoding=\"UTF-8\" standalone=\"no\"?><svg xmlns=\"http://www.w3.org/2000/svg\" xmlns:xlink=\"http://www.w3.org/1999/xlink\" contentScriptType=\"application/ecmascript\" contentStyleType=\"text/css\" height=\"539px\" preserveAspectRatio=\"none\" style=\"width:266px;height:539px;\" version=\"1.1\" viewBox=\"0 0 266 539\" width=\"266px\" zoomAndPan=\"magnify\"><defs/><g><!--MD5=[fbc87193dbaf4d95561dea2c320d4a47]\n",
       "cluster E1--><a href=\"psysml:c58eea24-2ccf-44f2-b6e8-e98c7ec17236\" target=\"_top\" title=\"psysml:c58eea24-2ccf-44f2-b6e8-e98c7ec17236\" xlink:actuate=\"onRequest\" xlink:href=\"psysml:c58eea24-2ccf-44f2-b6e8-e98c7ec17236\" xlink:show=\"new\" xlink:title=\"psysml:c58eea24-2ccf-44f2-b6e8-e98c7ec17236\" xlink:type=\"simple\"><polygon fill=\"#FFFFFF\" points=\"16,6,34,6,41,28.2969,244,28.2969,244,527,16,527,16,6\" style=\"stroke: #000000; stroke-width: 1.5;\"/><line style=\"stroke: #000000; stroke-width: 1.5;\" x1=\"16\" x2=\"41\" y1=\"28.2969\" y2=\"28.2969\"/><text fill=\"#000000\" font-family=\"sans-serif\" font-size=\"14\" font-weight=\"bold\" lengthAdjust=\"spacingAndGlyphs\" textLength=\"12\" x=\"20\" y=\"20.9951\">Q</text></a><!--MD5=[b4997ac47864f28c2f74865a473b2911]\n",
       "class E2--><a href=\"psysml:a4e187a3-203e-405d-be98-97d147693ddf\" target=\"_top\" title=\"psysml:a4e187a3-203e-405d-be98-97d147693ddf\" xlink:actuate=\"onRequest\" xlink:href=\"psysml:a4e187a3-203e-405d-be98-97d147693ddf\" xlink:show=\"new\" xlink:title=\"psysml:a4e187a3-203e-405d-be98-97d147693ddf\" xlink:type=\"simple\"><rect fill=\"#FFFFFF\" height=\"45.9375\" id=\"E2\" style=\"stroke: #383838; stroke-width: 1.5;\" width=\"66\" x=\"147\" y=\"359\"/><text fill=\"#000000\" font-family=\"sans-serif\" font-size=\"12\" font-style=\"italic\" lengthAdjust=\"spacingAndGlyphs\" textLength=\"64\" x=\"148\" y=\"375.1387\">«part def»</text><text fill=\"#000000\" font-family=\"sans-serif\" font-size=\"12\" lengthAdjust=\"spacingAndGlyphs\" textLength=\"7\" x=\"176.5\" y=\"389.1074\">F</text><line style=\"stroke: #383838; stroke-width: 1.5;\" x1=\"148\" x2=\"212\" y1=\"396.9375\" y2=\"396.9375\"/></a><!--MD5=[09b614a08d8cba4a07c9adeb5e0fee81]\n",
       "class E3--><a href=\"psysml:6ada620e-a181-4489-89b5-9a75fb715758\" target=\"_top\" title=\"psysml:6ada620e-a181-4489-89b5-9a75fb715758\" xlink:actuate=\"onRequest\" xlink:href=\"psysml:6ada620e-a181-4489-89b5-9a75fb715758\" xlink:show=\"new\" xlink:title=\"psysml:6ada620e-a181-4489-89b5-9a75fb715758\" xlink:type=\"simple\"><rect fill=\"#FFFFFF\" height=\"45.9375\" id=\"E3\" rx=\"10\" ry=\"10\" style=\"stroke: #383838; stroke-width: 1.5;\" width=\"42\" x=\"159\" y=\"465\"/><text fill=\"#000000\" font-family=\"sans-serif\" font-size=\"12\" font-style=\"italic\" lengthAdjust=\"spacingAndGlyphs\" textLength=\"40\" x=\"160\" y=\"481.1387\">«part»</text><text fill=\"#000000\" font-family=\"sans-serif\" font-size=\"12\" lengthAdjust=\"spacingAndGlyphs\" textLength=\"8\" x=\"176\" y=\"495.1074\">a</text><line style=\"stroke: #383838; stroke-width: 1.5;\" x1=\"160\" x2=\"200\" y1=\"502.9375\" y2=\"502.9375\"/></a><!--MD5=[ebbe1d658d1005bcc118a6aa81145e00]\n",
       "class E4--><a href=\"psysml:90a61716-c53d-4f92-beb5-5068bb9fa1a0\" target=\"_top\" title=\"psysml:90a61716-c53d-4f92-beb5-5068bb9fa1a0\" xlink:actuate=\"onRequest\" xlink:href=\"psysml:90a61716-c53d-4f92-beb5-5068bb9fa1a0\" xlink:show=\"new\" xlink:title=\"psysml:90a61716-c53d-4f92-beb5-5068bb9fa1a0\" xlink:type=\"simple\"><rect fill=\"#FFFFFF\" height=\"45.9375\" id=\"E4\" rx=\"10\" ry=\"10\" style=\"stroke: #383838; stroke-width: 1.5;\" width=\"42\" x=\"186\" y=\"253\"/><text fill=\"#000000\" font-family=\"sans-serif\" font-size=\"12\" font-style=\"italic\" lengthAdjust=\"spacingAndGlyphs\" textLength=\"40\" x=\"187\" y=\"269.1387\">«part»</text><text fill=\"#000000\" font-family=\"sans-serif\" font-size=\"12\" lengthAdjust=\"spacingAndGlyphs\" textLength=\"19\" x=\"197.5\" y=\"283.1074\">f: F</text><line style=\"stroke: #383838; stroke-width: 1.5;\" x1=\"187\" x2=\"227\" y1=\"290.9375\" y2=\"290.9375\"/></a><!--MD5=[270fce915f116d4de14055a7c1d9a0f3]\n",
       "class E5--><a href=\"psysml:282ebd08-29d1-4bc9-b49b-68a749240d69\" target=\"_top\" title=\"psysml:282ebd08-29d1-4bc9-b49b-68a749240d69\" xlink:actuate=\"onRequest\" xlink:href=\"psysml:282ebd08-29d1-4bc9-b49b-68a749240d69\" xlink:show=\"new\" xlink:title=\"psysml:282ebd08-29d1-4bc9-b49b-68a749240d69\" xlink:type=\"simple\"><rect fill=\"#FFFFFF\" height=\"45.9375\" id=\"E5\" style=\"stroke: #383838; stroke-width: 1.5;\" width=\"66\" x=\"32\" y=\"359\"/><text fill=\"#000000\" font-family=\"sans-serif\" font-size=\"12\" font-style=\"italic\" lengthAdjust=\"spacingAndGlyphs\" textLength=\"64\" x=\"33\" y=\"375.1387\">«part def»</text><text fill=\"#000000\" font-family=\"sans-serif\" font-size=\"12\" lengthAdjust=\"spacingAndGlyphs\" textLength=\"8\" x=\"61\" y=\"389.1074\">A</text><line style=\"stroke: #383838; stroke-width: 1.5;\" x1=\"33\" x2=\"97\" y1=\"396.9375\" y2=\"396.9375\"/></a><!--MD5=[60a26617385b1d2d0262a64233df1f8d]\n",
       "class E6--><a href=\"psysml:ba34075d-eebc-4755-94e7-ca84c5a458cd\" target=\"_top\" title=\"psysml:ba34075d-eebc-4755-94e7-ca84c5a458cd\" xlink:actuate=\"onRequest\" xlink:href=\"psysml:ba34075d-eebc-4755-94e7-ca84c5a458cd\" xlink:show=\"new\" xlink:title=\"psysml:ba34075d-eebc-4755-94e7-ca84c5a458cd\" xlink:type=\"simple\"><rect fill=\"#FFFFFF\" height=\"45.9375\" id=\"E6\" rx=\"10\" ry=\"10\" style=\"stroke: #383838; stroke-width: 1.5;\" width=\"42\" x=\"44\" y=\"465\"/><text fill=\"#000000\" font-family=\"sans-serif\" font-size=\"12\" font-style=\"italic\" lengthAdjust=\"spacingAndGlyphs\" textLength=\"40\" x=\"45\" y=\"481.1387\">«part»</text><text fill=\"#000000\" font-family=\"sans-serif\" font-size=\"12\" lengthAdjust=\"spacingAndGlyphs\" textLength=\"8\" x=\"61\" y=\"495.1074\">g</text><line style=\"stroke: #383838; stroke-width: 1.5;\" x1=\"45\" x2=\"85\" y1=\"502.9375\" y2=\"502.9375\"/></a><!--MD5=[2156ba9850f5573cc1fc38a6a4b2f02b]\n",
       "class E7--><a href=\"psysml:88191fe6-4f94-4991-8591-be7eb93db47e\" target=\"_top\" title=\"psysml:88191fe6-4f94-4991-8591-be7eb93db47e\" xlink:actuate=\"onRequest\" xlink:href=\"psysml:88191fe6-4f94-4991-8591-be7eb93db47e\" xlink:show=\"new\" xlink:title=\"psysml:88191fe6-4f94-4991-8591-be7eb93db47e\" xlink:type=\"simple\"><rect fill=\"#FFFFFF\" height=\"45.9375\" id=\"E7\" style=\"stroke: #383838; stroke-width: 1.5;\" width=\"66\" x=\"64\" y=\"147\"/><text fill=\"#000000\" font-family=\"sans-serif\" font-size=\"12\" font-style=\"italic\" lengthAdjust=\"spacingAndGlyphs\" textLength=\"64\" x=\"65\" y=\"163.1387\">«part def»</text><text fill=\"#000000\" font-family=\"sans-serif\" font-size=\"12\" lengthAdjust=\"spacingAndGlyphs\" textLength=\"8\" x=\"93\" y=\"177.1074\">B</text><line style=\"stroke: #383838; stroke-width: 1.5;\" x1=\"65\" x2=\"129\" y1=\"184.9375\" y2=\"184.9375\"/></a><!--MD5=[b9389687b975829384b498ac4b7476b2]\n",
       "class E8--><a href=\"psysml:ab65aa6d-a5a6-4b47-8167-56da9e982a64\" target=\"_top\" title=\"psysml:ab65aa6d-a5a6-4b47-8167-56da9e982a64\" xlink:actuate=\"onRequest\" xlink:href=\"psysml:ab65aa6d-a5a6-4b47-8167-56da9e982a64\" xlink:show=\"new\" xlink:title=\"psysml:ab65aa6d-a5a6-4b47-8167-56da9e982a64\" xlink:type=\"simple\"><rect fill=\"#FFFFFF\" height=\"45.9375\" id=\"E8\" rx=\"10\" ry=\"10\" style=\"stroke: #383838; stroke-width: 1.5;\" width=\"42\" x=\"109\" y=\"253\"/><text fill=\"#000000\" font-family=\"sans-serif\" font-size=\"12\" font-style=\"italic\" lengthAdjust=\"spacingAndGlyphs\" textLength=\"40\" x=\"110\" y=\"269.1387\">«part»</text><text fill=\"#000000\" font-family=\"sans-serif\" font-size=\"12\" lengthAdjust=\"spacingAndGlyphs\" textLength=\"19\" x=\"120.5\" y=\"283.1074\">f: F</text><line style=\"stroke: #383838; stroke-width: 1.5;\" x1=\"110\" x2=\"150\" y1=\"290.9375\" y2=\"290.9375\"/></a><!--MD5=[fd4143e9d270a159db93a4ea2a975926]\n",
       "class E9--><a href=\"psysml:624da0d4-2cfd-4aae-83e5-be6cf87688fa\" target=\"_top\" title=\"psysml:624da0d4-2cfd-4aae-83e5-be6cf87688fa\" xlink:actuate=\"onRequest\" xlink:href=\"psysml:624da0d4-2cfd-4aae-83e5-be6cf87688fa\" xlink:show=\"new\" xlink:title=\"psysml:624da0d4-2cfd-4aae-83e5-be6cf87688fa\" xlink:type=\"simple\"><rect fill=\"#FFFFFF\" height=\"45.9375\" id=\"E9\" rx=\"10\" ry=\"10\" style=\"stroke: #383838; stroke-width: 1.5;\" width=\"42\" x=\"32\" y=\"253\"/><text fill=\"#000000\" font-family=\"sans-serif\" font-size=\"12\" font-style=\"italic\" lengthAdjust=\"spacingAndGlyphs\" textLength=\"40\" x=\"33\" y=\"269.1387\">«part»</text><text fill=\"#000000\" font-family=\"sans-serif\" font-size=\"12\" lengthAdjust=\"spacingAndGlyphs\" textLength=\"24\" x=\"41\" y=\"283.1074\">a: A</text><line style=\"stroke: #383838; stroke-width: 1.5;\" x1=\"33\" x2=\"73\" y1=\"290.9375\" y2=\"290.9375\"/></a><!--MD5=[96f4274e9e20536e775497830990834d]\n",
       "class E10--><a href=\"psysml:5c182589-a5f3-41ec-a644-db6857a5c19a\" target=\"_top\" title=\"psysml:5c182589-a5f3-41ec-a644-db6857a5c19a\" xlink:actuate=\"onRequest\" xlink:href=\"psysml:5c182589-a5f3-41ec-a644-db6857a5c19a\" xlink:show=\"new\" xlink:title=\"psysml:5c182589-a5f3-41ec-a644-db6857a5c19a\" xlink:type=\"simple\"><rect fill=\"#FFFFFF\" height=\"45.9375\" id=\"E10\" rx=\"10\" ry=\"10\" style=\"stroke: #383838; stroke-width: 1.5;\" width=\"42\" x=\"76\" y=\"41\"/><text fill=\"#000000\" font-family=\"sans-serif\" font-size=\"12\" font-style=\"italic\" lengthAdjust=\"spacingAndGlyphs\" textLength=\"40\" x=\"77\" y=\"57.1387\">«part»</text><text fill=\"#000000\" font-family=\"sans-serif\" font-size=\"12\" lengthAdjust=\"spacingAndGlyphs\" textLength=\"24\" x=\"85\" y=\"71.1074\">b: B</text><line style=\"stroke: #383838; stroke-width: 1.5;\" x1=\"77\" x2=\"117\" y1=\"78.9375\" y2=\"78.9375\"/></a><!--MD5=[209b3feb70ccb6233bfe1053d122c12c]\n",
       "reverse link E2 to E3--><a href=\"psysml:f4f335e8-ebb2-4b93-b8a2-3184b124f9b4\" target=\"_top\" title=\"psysml:f4f335e8-ebb2-4b93-b8a2-3184b124f9b4\" xlink:actuate=\"onRequest\" xlink:href=\"psysml:f4f335e8-ebb2-4b93-b8a2-3184b124f9b4\" xlink:show=\"new\" xlink:title=\"psysml:f4f335e8-ebb2-4b93-b8a2-3184b124f9b4\" xlink:type=\"simple\"><path d=\"M180,418 C180,418 180,464.68 180,464.68 \" fill=\"none\" id=\"E2&lt;-E3\" style=\"stroke: #383838; stroke-width: 1.0;\"/><polygon fill=\"#383838\" points=\"180,405,176,411,180,417,184,411,180,405\" style=\"stroke: #383838; stroke-width: 1.0;\"/></a><!--MD5=[185131fc0dcab0a4505a2ebe144e961b]\n",
       "link E4 to E2--><a href=\"psysml:6b545197-59fa-4019-832b-0413d8dfad43\" target=\"_top\" title=\"psysml:6b545197-59fa-4019-832b-0413d8dfad43\" xlink:actuate=\"onRequest\" xlink:href=\"psysml:6b545197-59fa-4019-832b-0413d8dfad43\" xlink:show=\"new\" xlink:title=\"psysml:6b545197-59fa-4019-832b-0413d8dfad43\" xlink:type=\"simple\"><path d=\"M199.5,299 C199.5,299 199.5,338.68 199.5,338.68 \" fill=\"none\" id=\"E4-&gt;E2\" style=\"stroke: #383838; stroke-width: 1.0;\"/><polygon fill=\"#FFFFFF\" points=\"199.5,358.68,192.5,339.68,206.5,339.68,199.5,358.68\" style=\"stroke: #383838; stroke-width: 1.0;\"/><ellipse cx=\"194.5\" cy=\"333.98\" fill=\"#383838\" rx=\"2\" ry=\"2\" style=\"stroke: #383838; stroke-width: 1.0;\"/><ellipse cx=\"204.5\" cy=\"333.98\" fill=\"#383838\" rx=\"2\" ry=\"2\" style=\"stroke: #383838; stroke-width: 1.0;\"/></a><!--MD5=[85d356282659285ab4b2cfe2f634dd2b]\n",
       "reverse link E5 to E6--><a href=\"psysml:42a57766-d710-4931-98ca-f2942df4b5a7\" target=\"_top\" title=\"psysml:42a57766-d710-4931-98ca-f2942df4b5a7\" xlink:actuate=\"onRequest\" xlink:href=\"psysml:42a57766-d710-4931-98ca-f2942df4b5a7\" xlink:show=\"new\" xlink:title=\"psysml:42a57766-d710-4931-98ca-f2942df4b5a7\" xlink:type=\"simple\"><path d=\"M65,418 C65,418 65,464.68 65,464.68 \" fill=\"none\" id=\"E5&lt;-E6\" style=\"stroke: #383838; stroke-width: 1.0;\"/><polygon fill=\"#383838\" points=\"65,405,61,411,65,417,69,411,65,405\" style=\"stroke: #383838; stroke-width: 1.0;\"/></a><!--MD5=[dc164f5e8a733ab456ef1add180e9e34]\n",
       "reverse link E7 to E8--><a href=\"psysml:ee3500c3-1d32-470f-b6bb-e11a5c090a2b\" target=\"_top\" title=\"psysml:ee3500c3-1d32-470f-b6bb-e11a5c090a2b\" xlink:actuate=\"onRequest\" xlink:href=\"psysml:ee3500c3-1d32-470f-b6bb-e11a5c090a2b\" xlink:show=\"new\" xlink:title=\"psysml:ee3500c3-1d32-470f-b6bb-e11a5c090a2b\" xlink:type=\"simple\"><path d=\"M119.5,206 C119.5,206 119.5,252.68 119.5,252.68 \" fill=\"none\" id=\"E7&lt;-E8\" style=\"stroke: #383838; stroke-width: 1.0;\"/><polygon fill=\"#383838\" points=\"119.5,193,115.5,199,119.5,205,123.5,199,119.5,193\" style=\"stroke: #383838; stroke-width: 1.0;\"/></a><!--MD5=[f1f3f9f2fc535e6147756cb86a7f2e32]\n",
       "link E8 to E2--><a href=\"psysml:385ac8e9-821f-48a2-9a91-91f0503517ad\" target=\"_top\" title=\"psysml:385ac8e9-821f-48a2-9a91-91f0503517ad\" xlink:actuate=\"onRequest\" xlink:href=\"psysml:385ac8e9-821f-48a2-9a91-91f0503517ad\" xlink:show=\"new\" xlink:title=\"psysml:385ac8e9-821f-48a2-9a91-91f0503517ad\" xlink:type=\"simple\"><path d=\"M151.05,276 C160.04,276 168.5,276 168.5,276 C168.5,276 168.5,339 168.5,339 \" fill=\"none\" id=\"E8-&gt;E2\" style=\"stroke: #383838; stroke-width: 1.0;\"/><polygon fill=\"#FFFFFF\" points=\"168.5,359,161.5,340,175.5,340,168.5,359\" style=\"stroke: #383838; stroke-width: 1.0;\"/><ellipse cx=\"163.5\" cy=\"334.3\" fill=\"#383838\" rx=\"2\" ry=\"2\" style=\"stroke: #383838; stroke-width: 1.0;\"/><ellipse cx=\"173.5\" cy=\"334.3\" fill=\"#383838\" rx=\"2\" ry=\"2\" style=\"stroke: #383838; stroke-width: 1.0;\"/></a><!--MD5=[e4a10ef82d0e328e31cac39a31e58dda]\n",
       "reverse link E7 to E9--><a href=\"psysml:4dc3c190-fff9-4cfd-9ec6-604d7dd22971\" target=\"_top\" title=\"psysml:4dc3c190-fff9-4cfd-9ec6-604d7dd22971\" xlink:actuate=\"onRequest\" xlink:href=\"psysml:4dc3c190-fff9-4cfd-9ec6-604d7dd22971\" xlink:show=\"new\" xlink:title=\"psysml:4dc3c190-fff9-4cfd-9ec6-604d7dd22971\" xlink:type=\"simple\"><path d=\"M69,206 C69,206 69,252.68 69,252.68 \" fill=\"none\" id=\"E7&lt;-E9\" style=\"stroke: #383838; stroke-width: 1.0;\"/><polygon fill=\"#383838\" points=\"69,193,65,199,69,205,73,199,69,193\" style=\"stroke: #383838; stroke-width: 1.0;\"/></a><!--MD5=[bfc3ddf2e613be37104f658f09af896c]\n",
       "link E9 to E5--><a href=\"psysml:e6457602-7adc-4ee0-a454-eb40d686de5b\" target=\"_top\" title=\"psysml:e6457602-7adc-4ee0-a454-eb40d686de5b\" xlink:actuate=\"onRequest\" xlink:href=\"psysml:e6457602-7adc-4ee0-a454-eb40d686de5b\" xlink:show=\"new\" xlink:title=\"psysml:e6457602-7adc-4ee0-a454-eb40d686de5b\" xlink:type=\"simple\"><path d=\"M74.09,276 C80.55,276 86,276 86,276 C86,276 86,339 86,339 \" fill=\"none\" id=\"E9-&gt;E5\" style=\"stroke: #383838; stroke-width: 1.0;\"/><polygon fill=\"#FFFFFF\" points=\"86,359,79,340,93,340,86,359\" style=\"stroke: #383838; stroke-width: 1.0;\"/><ellipse cx=\"81\" cy=\"334.3\" fill=\"#383838\" rx=\"2\" ry=\"2\" style=\"stroke: #383838; stroke-width: 1.0;\"/><ellipse cx=\"91\" cy=\"334.3\" fill=\"#383838\" rx=\"2\" ry=\"2\" style=\"stroke: #383838; stroke-width: 1.0;\"/></a><!--MD5=[a919e0967d6f3de553dc51b9865a1d6d]\n",
       "link E10 to E7--><a href=\"psysml:078c16df-6fb3-4d69-bd0c-6c240437776b\" target=\"_top\" title=\"psysml:078c16df-6fb3-4d69-bd0c-6c240437776b\" xlink:actuate=\"onRequest\" xlink:href=\"psysml:078c16df-6fb3-4d69-bd0c-6c240437776b\" xlink:show=\"new\" xlink:title=\"psysml:078c16df-6fb3-4d69-bd0c-6c240437776b\" xlink:type=\"simple\"><path d=\"M97,87 C97,87 97,126.68 97,126.68 \" fill=\"none\" id=\"E10-&gt;E7\" style=\"stroke: #383838; stroke-width: 1.0;\"/><polygon fill=\"#FFFFFF\" points=\"97,146.68,90,127.68,104,127.68,97,146.68\" style=\"stroke: #383838; stroke-width: 1.0;\"/><ellipse cx=\"92\" cy=\"121.98\" fill=\"#383838\" rx=\"2\" ry=\"2\" style=\"stroke: #383838; stroke-width: 1.0;\"/><ellipse cx=\"102\" cy=\"121.98\" fill=\"#383838\" rx=\"2\" ry=\"2\" style=\"stroke: #383838; stroke-width: 1.0;\"/></a><!--MD5=[794ee67e9968624cc7951e1afb94efc3]\n",
       "@startuml\r\n",
       "skinparam linetype ortho\r\n",
       "skinparam monochrome true\r\n",
       "skinparam classbackgroundcolor white\r\n",
       "skinparam shadowing false\r\n",
       "skinparam wrapWidth 300\r\n",
       "hide circle\r\n",
       "\r\n",
       "package \"Q\" as E1  [[psysml:c58eea24-2ccf-44f2-b6e8-e98c7ec17236 ]]  {\r\n",
       "comp def \"F\" as E2  <<(T,blue)part def>> [[psysml:a4e187a3-203e-405d-be98-97d147693ddf ]] {\r\n",
       "}\r\n",
       "comp usage \"a\" as E3  <<(T,blue)part>> [[psysml:6ada620e-a181-4489-89b5-9a75fb715758 ]] {\r\n",
       "}\r\n",
       "comp usage \"f: F\" as E4  <<(T,blue)part>> [[psysml:90a61716-c53d-4f92-beb5-5068bb9fa1a0 ]] {\r\n",
       "}\r\n",
       "comp def \"A\" as E5  <<(T,blue)part def>> [[psysml:282ebd08-29d1-4bc9-b49b-68a749240d69 ]] {\r\n",
       "}\r\n",
       "comp usage \"g\" as E6  <<(T,blue)part>> [[psysml:ba34075d-eebc-4755-94e7-ca84c5a458cd ]] {\r\n",
       "}\r\n",
       "comp def \"B\" as E7  <<(T,blue)part def>> [[psysml:88191fe6-4f94-4991-8591-be7eb93db47e ]] {\r\n",
       "}\r\n",
       "comp usage \"f: F\" as E8  <<(T,blue)part>> [[psysml:ab65aa6d-a5a6-4b47-8167-56da9e982a64 ]] {\r\n",
       "}\r\n",
       "comp usage \"a: A\" as E9  <<(T,blue)part>> [[psysml:624da0d4-2cfd-4aae-83e5-be6cf87688fa ]] {\r\n",
       "}\r\n",
       "comp usage \"b: B\" as E10  <<(T,blue)part>> [[psysml:5c182589-a5f3-41ec-a644-db6857a5c19a ]] {\r\n",
       "}\r\n",
       "E2 *- - E3 [[psysml:f4f335e8-ebb2-4b93-b8a2-3184b124f9b4 ]] \r\n",
       "E4 - -:|> E2 [[psysml:6b545197-59fa-4019-832b-0413d8dfad43 ]] \r\n",
       "E5 *- - E6 [[psysml:42a57766-d710-4931-98ca-f2942df4b5a7 ]] \r\n",
       "E7 *- - E8 [[psysml:ee3500c3-1d32-470f-b6bb-e11a5c090a2b ]] \r\n",
       "E8 - -:|> E2 [[psysml:385ac8e9-821f-48a2-9a91-91f0503517ad ]] \r\n",
       "E7 *- - E9 [[psysml:4dc3c190-fff9-4cfd-9ec6-604d7dd22971 ]] \r\n",
       "E9 - -:|> E5 [[psysml:e6457602-7adc-4ee0-a454-eb40d686de5b ]] \r\n",
       "E10 - -:|> E7 [[psysml:078c16df-6fb3-4d69-bd0c-6c240437776b ]] \r\n",
       "}\r\n",
       "@enduml\r\n",
       "\n",
       "PlantUML version 1.2020.13(Sat Jun 13 12:26:38 UTC 2020)\n",
       "(EPL source distribution)\n",
       "Java Runtime: OpenJDK Runtime Environment\n",
       "JVM: OpenJDK 64-Bit Server VM\n",
       "Default Encoding: UTF-8\n",
       "Language: en\n",
       "Country: null\n",
       "--></g></svg>"
      ]
     },
     "execution_count": 57,
     "metadata": {},
     "output_type": "execute_result"
    }
   ],
   "source": [
    "%viz --style=\"ORTHOLINE\" --view=\"MIXED\" \"Q\""
   ]
  }
 ],
 "metadata": {
  "kernelspec": {
   "display_name": "SysML",
   "language": "sysml",
   "name": "sysml"
  },
  "language_info": {
   "codemirror_mode": "sysml",
   "file_extension": ".sysml",
   "mimetype": "text/x-sysml",
   "name": "SysML",
   "pygments_lexer": "java",
   "version": "1.0.0"
  }
 },
 "nbformat": 4,
 "nbformat_minor": 5
}
