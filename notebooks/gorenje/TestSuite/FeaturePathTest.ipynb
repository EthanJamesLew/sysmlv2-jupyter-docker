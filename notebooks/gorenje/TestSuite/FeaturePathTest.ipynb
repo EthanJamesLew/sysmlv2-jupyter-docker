{
 "cells": [
  {
   "cell_type": "markdown",
   "id": "488c821f",
   "metadata": {},
   "source": [
    "# SysML v2 Test Suite\n",
    "\n",
    "This can notebook can be cleared using menu `Edit --> Clear All Outputs` and then all cells can be\n",
    "run using menu `Run --> Run All Cells`.\n",
    "\n",
    "**WARNING**: This file is generated, all modifications here will be ignored.\n"
   ]
  },
  {
   "cell_type": "markdown",
   "id": "a4fca74d",
   "metadata": {},
   "source": [
    "## File: ../../sysml/src/examples/Simple Tests/FeaturePathTest.sysml"
   ]
  },
  {
   "cell_type": "code",
   "execution_count": 1,
   "id": "04f3d70c",
   "metadata": {
    "execution": {
     "iopub.execute_input": "2021-06-30T09:23:26.080195Z",
     "iopub.status.busy": "2021-06-30T09:23:26.076900Z",
     "iopub.status.idle": "2021-06-30T09:23:27.558426Z",
     "shell.execute_reply": "2021-06-30T09:23:27.557370Z"
    }
   },
   "outputs": [
    {
     "data": {
      "text/plain": [
       "Package Q (0a026479-256b-49ef-84dd-d58812f7104d)\n"
      ]
     },
     "execution_count": 1,
     "metadata": {},
     "output_type": "execute_result"
    }
   ],
   "source": [
    "package Q {\n",
    "  part def F {\n",
    "  \tpart a;\n",
    "  }\n",
    "  \n",
    "  part f : F;\n",
    "  \n",
    "  part def A {\n",
    "    part g = f.a;\n",
    "  }\n",
    "  \n",
    "  part def B {\n",
    "  \tpart f : F;\n",
    "  \tpart a : A;\n",
    "  }\n",
    "  \n",
    "  part b : B {\n",
    "  \tconnect f.a to a.g;\n",
    "  \tbind f.a = a.g;\n",
    "  }\n",
    "}\n"
   ]
  },
  {
   "cell_type": "code",
   "execution_count": 2,
   "id": "6d588d90",
   "metadata": {
    "execution": {
     "iopub.execute_input": "2021-06-30T09:23:27.617420Z",
     "iopub.status.busy": "2021-06-30T09:23:27.613950Z",
     "iopub.status.idle": "2021-06-30T09:23:29.341201Z",
     "shell.execute_reply": "2021-06-30T09:23:29.341814Z"
    }
   },
   "outputs": [
    {
     "data": {
      "image/svg+xml": [
       "<?xml version=\"1.0\" encoding=\"UTF-8\" standalone=\"no\"?><svg xmlns=\"http://www.w3.org/2000/svg\" xmlns:xlink=\"http://www.w3.org/1999/xlink\" contentScriptType=\"application/ecmascript\" contentStyleType=\"text/css\" height=\"539px\" preserveAspectRatio=\"none\" style=\"width:266px;height:539px;\" version=\"1.1\" viewBox=\"0 0 266 539\" width=\"266px\" zoomAndPan=\"magnify\"><defs/><g><!--MD5=[fbc87193dbaf4d95561dea2c320d4a47]\n",
       "cluster E1--><a href=\"psysml:427a19be-4ba6-433c-b392-6823bf74d458\" target=\"_top\" title=\"psysml:427a19be-4ba6-433c-b392-6823bf74d458\" xlink:actuate=\"onRequest\" xlink:href=\"psysml:427a19be-4ba6-433c-b392-6823bf74d458\" xlink:show=\"new\" xlink:title=\"psysml:427a19be-4ba6-433c-b392-6823bf74d458\" xlink:type=\"simple\"><polygon fill=\"#FFFFFF\" points=\"16,6,34,6,41,28.2969,244,28.2969,244,527,16,527,16,6\" style=\"stroke: #000000; stroke-width: 1.5;\"/><line style=\"stroke: #000000; stroke-width: 1.5;\" x1=\"16\" x2=\"41\" y1=\"28.2969\" y2=\"28.2969\"/><text fill=\"#000000\" font-family=\"sans-serif\" font-size=\"14\" font-weight=\"bold\" lengthAdjust=\"spacingAndGlyphs\" textLength=\"12\" x=\"20\" y=\"20.9951\">Q</text></a><!--MD5=[b4997ac47864f28c2f74865a473b2911]\n",
       "class E2--><a href=\"psysml:027effde-34e9-4491-ba0c-9f82cacaad23\" target=\"_top\" title=\"psysml:027effde-34e9-4491-ba0c-9f82cacaad23\" xlink:actuate=\"onRequest\" xlink:href=\"psysml:027effde-34e9-4491-ba0c-9f82cacaad23\" xlink:show=\"new\" xlink:title=\"psysml:027effde-34e9-4491-ba0c-9f82cacaad23\" xlink:type=\"simple\"><rect fill=\"#FFFFFF\" height=\"45.9375\" id=\"E2\" style=\"stroke: #383838; stroke-width: 1.5;\" width=\"66\" x=\"147\" y=\"359\"/><text fill=\"#000000\" font-family=\"sans-serif\" font-size=\"12\" font-style=\"italic\" lengthAdjust=\"spacingAndGlyphs\" textLength=\"64\" x=\"148\" y=\"375.1387\">«part def»</text><text fill=\"#000000\" font-family=\"sans-serif\" font-size=\"12\" lengthAdjust=\"spacingAndGlyphs\" textLength=\"7\" x=\"176.5\" y=\"389.1074\">F</text><line style=\"stroke: #383838; stroke-width: 1.5;\" x1=\"148\" x2=\"212\" y1=\"396.9375\" y2=\"396.9375\"/></a><!--MD5=[09b614a08d8cba4a07c9adeb5e0fee81]\n",
       "class E3--><a href=\"psysml:241a9b2a-e9cc-4b19-964a-2424b61c0639\" target=\"_top\" title=\"psysml:241a9b2a-e9cc-4b19-964a-2424b61c0639\" xlink:actuate=\"onRequest\" xlink:href=\"psysml:241a9b2a-e9cc-4b19-964a-2424b61c0639\" xlink:show=\"new\" xlink:title=\"psysml:241a9b2a-e9cc-4b19-964a-2424b61c0639\" xlink:type=\"simple\"><rect fill=\"#FFFFFF\" height=\"45.9375\" id=\"E3\" rx=\"10\" ry=\"10\" style=\"stroke: #383838; stroke-width: 1.5;\" width=\"42\" x=\"159\" y=\"465\"/><text fill=\"#000000\" font-family=\"sans-serif\" font-size=\"12\" font-style=\"italic\" lengthAdjust=\"spacingAndGlyphs\" textLength=\"40\" x=\"160\" y=\"481.1387\">«part»</text><text fill=\"#000000\" font-family=\"sans-serif\" font-size=\"12\" lengthAdjust=\"spacingAndGlyphs\" textLength=\"8\" x=\"176\" y=\"495.1074\">a</text><line style=\"stroke: #383838; stroke-width: 1.5;\" x1=\"160\" x2=\"200\" y1=\"502.9375\" y2=\"502.9375\"/></a><!--MD5=[ebbe1d658d1005bcc118a6aa81145e00]\n",
       "class E4--><a href=\"psysml:40835df5-3f1f-4886-9446-1465d21ad736\" target=\"_top\" title=\"psysml:40835df5-3f1f-4886-9446-1465d21ad736\" xlink:actuate=\"onRequest\" xlink:href=\"psysml:40835df5-3f1f-4886-9446-1465d21ad736\" xlink:show=\"new\" xlink:title=\"psysml:40835df5-3f1f-4886-9446-1465d21ad736\" xlink:type=\"simple\"><rect fill=\"#FFFFFF\" height=\"45.9375\" id=\"E4\" rx=\"10\" ry=\"10\" style=\"stroke: #383838; stroke-width: 1.5;\" width=\"42\" x=\"186\" y=\"253\"/><text fill=\"#000000\" font-family=\"sans-serif\" font-size=\"12\" font-style=\"italic\" lengthAdjust=\"spacingAndGlyphs\" textLength=\"40\" x=\"187\" y=\"269.1387\">«part»</text><text fill=\"#000000\" font-family=\"sans-serif\" font-size=\"12\" lengthAdjust=\"spacingAndGlyphs\" textLength=\"19\" x=\"197.5\" y=\"283.1074\">f: F</text><line style=\"stroke: #383838; stroke-width: 1.5;\" x1=\"187\" x2=\"227\" y1=\"290.9375\" y2=\"290.9375\"/></a><!--MD5=[270fce915f116d4de14055a7c1d9a0f3]\n",
       "class E5--><a href=\"psysml:299c2c32-5ec1-43b2-a066-b7748b01150c\" target=\"_top\" title=\"psysml:299c2c32-5ec1-43b2-a066-b7748b01150c\" xlink:actuate=\"onRequest\" xlink:href=\"psysml:299c2c32-5ec1-43b2-a066-b7748b01150c\" xlink:show=\"new\" xlink:title=\"psysml:299c2c32-5ec1-43b2-a066-b7748b01150c\" xlink:type=\"simple\"><rect fill=\"#FFFFFF\" height=\"45.9375\" id=\"E5\" style=\"stroke: #383838; stroke-width: 1.5;\" width=\"66\" x=\"32\" y=\"359\"/><text fill=\"#000000\" font-family=\"sans-serif\" font-size=\"12\" font-style=\"italic\" lengthAdjust=\"spacingAndGlyphs\" textLength=\"64\" x=\"33\" y=\"375.1387\">«part def»</text><text fill=\"#000000\" font-family=\"sans-serif\" font-size=\"12\" lengthAdjust=\"spacingAndGlyphs\" textLength=\"8\" x=\"61\" y=\"389.1074\">A</text><line style=\"stroke: #383838; stroke-width: 1.5;\" x1=\"33\" x2=\"97\" y1=\"396.9375\" y2=\"396.9375\"/></a><!--MD5=[60a26617385b1d2d0262a64233df1f8d]\n",
       "class E6--><a href=\"psysml:31dec55f-8acf-4d42-bd51-f4047894820c\" target=\"_top\" title=\"psysml:31dec55f-8acf-4d42-bd51-f4047894820c\" xlink:actuate=\"onRequest\" xlink:href=\"psysml:31dec55f-8acf-4d42-bd51-f4047894820c\" xlink:show=\"new\" xlink:title=\"psysml:31dec55f-8acf-4d42-bd51-f4047894820c\" xlink:type=\"simple\"><rect fill=\"#FFFFFF\" height=\"45.9375\" id=\"E6\" rx=\"10\" ry=\"10\" style=\"stroke: #383838; stroke-width: 1.5;\" width=\"42\" x=\"44\" y=\"465\"/><text fill=\"#000000\" font-family=\"sans-serif\" font-size=\"12\" font-style=\"italic\" lengthAdjust=\"spacingAndGlyphs\" textLength=\"40\" x=\"45\" y=\"481.1387\">«part»</text><text fill=\"#000000\" font-family=\"sans-serif\" font-size=\"12\" lengthAdjust=\"spacingAndGlyphs\" textLength=\"8\" x=\"61\" y=\"495.1074\">g</text><line style=\"stroke: #383838; stroke-width: 1.5;\" x1=\"45\" x2=\"85\" y1=\"502.9375\" y2=\"502.9375\"/></a><!--MD5=[2156ba9850f5573cc1fc38a6a4b2f02b]\n",
       "class E7--><a href=\"psysml:e57a8ff4-b454-49af-9671-50f81189572a\" target=\"_top\" title=\"psysml:e57a8ff4-b454-49af-9671-50f81189572a\" xlink:actuate=\"onRequest\" xlink:href=\"psysml:e57a8ff4-b454-49af-9671-50f81189572a\" xlink:show=\"new\" xlink:title=\"psysml:e57a8ff4-b454-49af-9671-50f81189572a\" xlink:type=\"simple\"><rect fill=\"#FFFFFF\" height=\"45.9375\" id=\"E7\" style=\"stroke: #383838; stroke-width: 1.5;\" width=\"66\" x=\"64\" y=\"147\"/><text fill=\"#000000\" font-family=\"sans-serif\" font-size=\"12\" font-style=\"italic\" lengthAdjust=\"spacingAndGlyphs\" textLength=\"64\" x=\"65\" y=\"163.1387\">«part def»</text><text fill=\"#000000\" font-family=\"sans-serif\" font-size=\"12\" lengthAdjust=\"spacingAndGlyphs\" textLength=\"8\" x=\"93\" y=\"177.1074\">B</text><line style=\"stroke: #383838; stroke-width: 1.5;\" x1=\"65\" x2=\"129\" y1=\"184.9375\" y2=\"184.9375\"/></a><!--MD5=[b9389687b975829384b498ac4b7476b2]\n",
       "class E8--><a href=\"psysml:ae9b8861-e9cc-45e7-97b3-375fd90ac7d9\" target=\"_top\" title=\"psysml:ae9b8861-e9cc-45e7-97b3-375fd90ac7d9\" xlink:actuate=\"onRequest\" xlink:href=\"psysml:ae9b8861-e9cc-45e7-97b3-375fd90ac7d9\" xlink:show=\"new\" xlink:title=\"psysml:ae9b8861-e9cc-45e7-97b3-375fd90ac7d9\" xlink:type=\"simple\"><rect fill=\"#FFFFFF\" height=\"45.9375\" id=\"E8\" rx=\"10\" ry=\"10\" style=\"stroke: #383838; stroke-width: 1.5;\" width=\"42\" x=\"109\" y=\"253\"/><text fill=\"#000000\" font-family=\"sans-serif\" font-size=\"12\" font-style=\"italic\" lengthAdjust=\"spacingAndGlyphs\" textLength=\"40\" x=\"110\" y=\"269.1387\">«part»</text><text fill=\"#000000\" font-family=\"sans-serif\" font-size=\"12\" lengthAdjust=\"spacingAndGlyphs\" textLength=\"19\" x=\"120.5\" y=\"283.1074\">f: F</text><line style=\"stroke: #383838; stroke-width: 1.5;\" x1=\"110\" x2=\"150\" y1=\"290.9375\" y2=\"290.9375\"/></a><!--MD5=[fd4143e9d270a159db93a4ea2a975926]\n",
       "class E9--><a href=\"psysml:d620b19b-a1e2-497d-8cad-3b2dc38fedc0\" target=\"_top\" title=\"psysml:d620b19b-a1e2-497d-8cad-3b2dc38fedc0\" xlink:actuate=\"onRequest\" xlink:href=\"psysml:d620b19b-a1e2-497d-8cad-3b2dc38fedc0\" xlink:show=\"new\" xlink:title=\"psysml:d620b19b-a1e2-497d-8cad-3b2dc38fedc0\" xlink:type=\"simple\"><rect fill=\"#FFFFFF\" height=\"45.9375\" id=\"E9\" rx=\"10\" ry=\"10\" style=\"stroke: #383838; stroke-width: 1.5;\" width=\"42\" x=\"32\" y=\"253\"/><text fill=\"#000000\" font-family=\"sans-serif\" font-size=\"12\" font-style=\"italic\" lengthAdjust=\"spacingAndGlyphs\" textLength=\"40\" x=\"33\" y=\"269.1387\">«part»</text><text fill=\"#000000\" font-family=\"sans-serif\" font-size=\"12\" lengthAdjust=\"spacingAndGlyphs\" textLength=\"24\" x=\"41\" y=\"283.1074\">a: A</text><line style=\"stroke: #383838; stroke-width: 1.5;\" x1=\"33\" x2=\"73\" y1=\"290.9375\" y2=\"290.9375\"/></a><!--MD5=[96f4274e9e20536e775497830990834d]\n",
       "class E10--><a href=\"psysml:f9a1a989-561d-4119-971e-8ebceafa94b4\" target=\"_top\" title=\"psysml:f9a1a989-561d-4119-971e-8ebceafa94b4\" xlink:actuate=\"onRequest\" xlink:href=\"psysml:f9a1a989-561d-4119-971e-8ebceafa94b4\" xlink:show=\"new\" xlink:title=\"psysml:f9a1a989-561d-4119-971e-8ebceafa94b4\" xlink:type=\"simple\"><rect fill=\"#FFFFFF\" height=\"45.9375\" id=\"E10\" rx=\"10\" ry=\"10\" style=\"stroke: #383838; stroke-width: 1.5;\" width=\"42\" x=\"76\" y=\"41\"/><text fill=\"#000000\" font-family=\"sans-serif\" font-size=\"12\" font-style=\"italic\" lengthAdjust=\"spacingAndGlyphs\" textLength=\"40\" x=\"77\" y=\"57.1387\">«part»</text><text fill=\"#000000\" font-family=\"sans-serif\" font-size=\"12\" lengthAdjust=\"spacingAndGlyphs\" textLength=\"24\" x=\"85\" y=\"71.1074\">b: B</text><line style=\"stroke: #383838; stroke-width: 1.5;\" x1=\"77\" x2=\"117\" y1=\"78.9375\" y2=\"78.9375\"/></a><!--MD5=[209b3feb70ccb6233bfe1053d122c12c]\n",
       "reverse link E2 to E3--><a href=\"psysml:5ee10b2b-55c1-4a08-a13b-bdb74e3f50e5\" target=\"_top\" title=\"psysml:5ee10b2b-55c1-4a08-a13b-bdb74e3f50e5\" xlink:actuate=\"onRequest\" xlink:href=\"psysml:5ee10b2b-55c1-4a08-a13b-bdb74e3f50e5\" xlink:show=\"new\" xlink:title=\"psysml:5ee10b2b-55c1-4a08-a13b-bdb74e3f50e5\" xlink:type=\"simple\"><path d=\"M180,418.44 C180,433.87 180,451.47 180,464.98 \" fill=\"none\" id=\"E2&lt;-E3\" style=\"stroke: #383838; stroke-width: 1.0;\"/><polygon fill=\"#383838\" points=\"180,405.06,176,411.06,180,417.06,184,411.06,180,405.06\" style=\"stroke: #383838; stroke-width: 1.0;\"/></a><!--MD5=[185131fc0dcab0a4505a2ebe144e961b]\n",
       "link E4 to E2--><a href=\"psysml:c4c1c0e2-eca3-4dc3-a203-c30912c3ab2b\" target=\"_top\" title=\"psysml:c4c1c0e2-eca3-4dc3-a203-c30912c3ab2b\" xlink:actuate=\"onRequest\" xlink:href=\"psysml:c4c1c0e2-eca3-4dc3-a203-c30912c3ab2b\" xlink:show=\"new\" xlink:title=\"psysml:c4c1c0e2-eca3-4dc3-a203-c30912c3ab2b\" xlink:type=\"simple\"><path d=\"M201.27,299.06 C198.23,310.78 194.39,325.57 190.81,339.36 \" fill=\"none\" id=\"E4-&gt;E2\" style=\"stroke: #383838; stroke-width: 1.0;\"/><polygon fill=\"#FFFFFF\" points=\"185.72,358.98,183.7221,338.8303,197.2724,342.3504,185.72,358.98\" style=\"stroke: #383838; stroke-width: 1.0;\"/><ellipse cx=\"187.091\" cy=\"333.8163\" fill=\"#383838\" rx=\"2\" ry=\"2\" style=\"stroke: #383838; stroke-width: 1.0;\"/><ellipse cx=\"196.7698\" cy=\"336.3307\" fill=\"#383838\" rx=\"2\" ry=\"2\" style=\"stroke: #383838; stroke-width: 1.0;\"/></a><!--MD5=[85d356282659285ab4b2cfe2f634dd2b]\n",
       "reverse link E5 to E6--><a href=\"psysml:93463b7d-149f-4a15-b84b-177a9e530eda\" target=\"_top\" title=\"psysml:93463b7d-149f-4a15-b84b-177a9e530eda\" xlink:actuate=\"onRequest\" xlink:href=\"psysml:93463b7d-149f-4a15-b84b-177a9e530eda\" xlink:show=\"new\" xlink:title=\"psysml:93463b7d-149f-4a15-b84b-177a9e530eda\" xlink:type=\"simple\"><path d=\"M65,418.44 C65,433.87 65,451.47 65,464.98 \" fill=\"none\" id=\"E5&lt;-E6\" style=\"stroke: #383838; stroke-width: 1.0;\"/><polygon fill=\"#383838\" points=\"65,405.06,61,411.06,65,417.06,69,411.06,65,405.06\" style=\"stroke: #383838; stroke-width: 1.0;\"/></a><!--MD5=[dc164f5e8a733ab456ef1add180e9e34]\n",
       "reverse link E7 to E8--><a href=\"psysml:de6f8f38-3125-456b-a954-15a696931b63\" target=\"_top\" title=\"psysml:de6f8f38-3125-456b-a954-15a696931b63\" xlink:actuate=\"onRequest\" xlink:href=\"psysml:de6f8f38-3125-456b-a954-15a696931b63\" xlink:show=\"new\" xlink:title=\"psysml:de6f8f38-3125-456b-a954-15a696931b63\" xlink:type=\"simple\"><path d=\"M107.95,205.49 C112.91,221.15 118.64,239.19 123.01,252.98 \" fill=\"none\" id=\"E7&lt;-E8\" style=\"stroke: #383838; stroke-width: 1.0;\"/><polygon fill=\"#383838\" points=\"104,193.06,101.9989,199.9879,107.6243,204.4996,109.6253,197.5717,104,193.06\" style=\"stroke: #383838; stroke-width: 1.0;\"/></a><!--MD5=[f1f3f9f2fc535e6147756cb86a7f2e32]\n",
       "link E8 to E2--><a href=\"psysml:536a95df-7241-4403-bcab-1aa9fe7a4b7d\" target=\"_top\" title=\"psysml:536a95df-7241-4403-bcab-1aa9fe7a4b7d\" xlink:actuate=\"onRequest\" xlink:href=\"psysml:536a95df-7241-4403-bcab-1aa9fe7a4b7d\" xlink:show=\"new\" xlink:title=\"psysml:536a95df-7241-4403-bcab-1aa9fe7a4b7d\" xlink:type=\"simple\"><path d=\"M140.6,299.06 C146.44,311.19 153.86,326.62 160.68,340.82 \" fill=\"none\" id=\"E8-&gt;E2\" style=\"stroke: #383838; stroke-width: 1.0;\"/><polygon fill=\"#FFFFFF\" points=\"169.41,358.98,154.8709,344.8869,167.4894,338.8228,169.41,358.98\" style=\"stroke: #383838; stroke-width: 1.0;\"/><ellipse cx=\"154.2046\" cy=\"338.8831\" fill=\"#383838\" rx=\"2\" ry=\"2\" style=\"stroke: #383838; stroke-width: 1.0;\"/><ellipse cx=\"163.2178\" cy=\"334.5516\" fill=\"#383838\" rx=\"2\" ry=\"2\" style=\"stroke: #383838; stroke-width: 1.0;\"/></a><!--MD5=[e4a10ef82d0e328e31cac39a31e58dda]\n",
       "reverse link E7 to E9--><a href=\"psysml:2c441a1b-e979-4985-bcd5-61f8c13172d0\" target=\"_top\" title=\"psysml:2c441a1b-e979-4985-bcd5-61f8c13172d0\" xlink:actuate=\"onRequest\" xlink:href=\"psysml:2c441a1b-e979-4985-bcd5-61f8c13172d0\" xlink:show=\"new\" xlink:title=\"psysml:2c441a1b-e979-4985-bcd5-61f8c13172d0\" xlink:type=\"simple\"><path d=\"M82.41,205.49 C75.78,221.15 68.15,239.19 62.32,252.98 \" fill=\"none\" id=\"E7&lt;-E9\" style=\"stroke: #383838; stroke-width: 1.0;\"/><polygon fill=\"#383838\" points=\"87.67,193.06,81.6505,197.0305,83.0003,204.1142,89.0199,200.1436,87.67,193.06\" style=\"stroke: #383838; stroke-width: 1.0;\"/></a><!--MD5=[bfc3ddf2e613be37104f658f09af896c]\n",
       "link E9 to E5--><a href=\"psysml:fc8a5d52-f7b0-45e1-9a4f-1e932b65f071\" target=\"_top\" title=\"psysml:fc8a5d52-f7b0-45e1-9a4f-1e932b65f071\" xlink:actuate=\"onRequest\" xlink:href=\"psysml:fc8a5d52-f7b0-45e1-9a4f-1e932b65f071\" xlink:show=\"new\" xlink:title=\"psysml:fc8a5d52-f7b0-45e1-9a4f-1e932b65f071\" xlink:type=\"simple\"><path d=\"M55.54,299.06 C56.88,310.64 58.56,325.23 60.14,338.87 \" fill=\"none\" id=\"E9-&gt;E5\" style=\"stroke: #383838; stroke-width: 1.0;\"/><polygon fill=\"#FFFFFF\" points=\"62.46,358.98,53.3347,340.9044,67.243,339.3046,62.46,358.98\" style=\"stroke: #383838; stroke-width: 1.0;\"/><ellipse cx=\"54.6702\" cy=\"335.0132\" fill=\"#383838\" rx=\"2\" ry=\"2\" style=\"stroke: #383838; stroke-width: 1.0;\"/><ellipse cx=\"64.6047\" cy=\"333.8704\" fill=\"#383838\" rx=\"2\" ry=\"2\" style=\"stroke: #383838; stroke-width: 1.0;\"/></a><!--MD5=[a919e0967d6f3de553dc51b9865a1d6d]\n",
       "link E10 to E7--><a href=\"psysml:2e3833d6-0a03-41e5-9593-325ba84dff2e\" target=\"_top\" title=\"psysml:2e3833d6-0a03-41e5-9593-325ba84dff2e\" xlink:actuate=\"onRequest\" xlink:href=\"psysml:2e3833d6-0a03-41e5-9593-325ba84dff2e\" xlink:show=\"new\" xlink:title=\"psysml:2e3833d6-0a03-41e5-9593-325ba84dff2e\" xlink:type=\"simple\"><path d=\"M97,87.06 C97,98.64 97,113.23 97,126.87 \" fill=\"none\" id=\"E10-&gt;E7\" style=\"stroke: #383838; stroke-width: 1.0;\"/><polygon fill=\"#FFFFFF\" points=\"97,146.98,90,127.98,104,127.98,97,146.98\" style=\"stroke: #383838; stroke-width: 1.0;\"/><ellipse cx=\"92\" cy=\"122.28\" fill=\"#383838\" rx=\"2\" ry=\"2\" style=\"stroke: #383838; stroke-width: 1.0;\"/><ellipse cx=\"102\" cy=\"122.28\" fill=\"#383838\" rx=\"2\" ry=\"2\" style=\"stroke: #383838; stroke-width: 1.0;\"/></a><!--MD5=[9aef9f4e40f0b9f5ae7c2d7f91db51af]\n",
       "@startuml\r\n",
       " skinparam monochrome true\r\n",
       "skinparam classbackgroundcolor white\r\n",
       "skinparam shadowing false\r\n",
       "skinparam wrapWidth 300\r\n",
       "hide circle\r\n",
       "\r\n",
       "package \"Q\" as E1  [[psysml:427a19be-4ba6-433c-b392-6823bf74d458 ]]  {\r\n",
       "comp def \"F\" as E2  <<(T,blue) part def>> [[psysml:027effde-34e9-4491-ba0c-9f82cacaad23 ]] {\r\n",
       "}\r\n",
       "comp usage \"a\" as E3  <<(T,blue) part>> [[psysml:241a9b2a-e9cc-4b19-964a-2424b61c0639 ]] {\r\n",
       "}\r\n",
       "comp usage \"f: F\" as E4  <<(T,blue) part>> [[psysml:40835df5-3f1f-4886-9446-1465d21ad736 ]] {\r\n",
       "}\r\n",
       "comp def \"A\" as E5  <<(T,blue) part def>> [[psysml:299c2c32-5ec1-43b2-a066-b7748b01150c ]] {\r\n",
       "}\r\n",
       "comp usage \"g\" as E6  <<(T,blue) part>> [[psysml:31dec55f-8acf-4d42-bd51-f4047894820c ]] {\r\n",
       "}\r\n",
       "comp def \"B\" as E7  <<(T,blue) part def>> [[psysml:e57a8ff4-b454-49af-9671-50f81189572a ]] {\r\n",
       "}\r\n",
       "comp usage \"f: F\" as E8  <<(T,blue) part>> [[psysml:ae9b8861-e9cc-45e7-97b3-375fd90ac7d9 ]] {\r\n",
       "}\r\n",
       "comp usage \"a: A\" as E9  <<(T,blue) part>> [[psysml:d620b19b-a1e2-497d-8cad-3b2dc38fedc0 ]] {\r\n",
       "}\r\n",
       "comp usage \"b: B\" as E10  <<(T,blue) part>> [[psysml:f9a1a989-561d-4119-971e-8ebceafa94b4 ]] {\r\n",
       "}\r\n",
       "E2 *- - E3 [[psysml:5ee10b2b-55c1-4a08-a13b-bdb74e3f50e5 ]] \r\n",
       "E4 - -:|> E2 [[psysml:c4c1c0e2-eca3-4dc3-a203-c30912c3ab2b ]] \r\n",
       "E5 *- - E6 [[psysml:93463b7d-149f-4a15-b84b-177a9e530eda ]] \r\n",
       "E7 *- - E8 [[psysml:de6f8f38-3125-456b-a954-15a696931b63 ]] \r\n",
       "E8 - -:|> E2 [[psysml:536a95df-7241-4403-bcab-1aa9fe7a4b7d ]] \r\n",
       "E7 *- - E9 [[psysml:2c441a1b-e979-4985-bcd5-61f8c13172d0 ]] \r\n",
       "E9 - -:|> E5 [[psysml:fc8a5d52-f7b0-45e1-9a4f-1e932b65f071 ]] \r\n",
       "E10 - -:|> E7 [[psysml:2e3833d6-0a03-41e5-9593-325ba84dff2e ]] \r\n",
       "}\r\n",
       "@enduml\r\n",
       "\n",
       "PlantUML version 1.2020.13(Sat Jun 13 12:26:38 UTC 2020)\n",
       "(EPL source distribution)\n",
       "Java Runtime: OpenJDK Runtime Environment\n",
       "JVM: OpenJDK 64-Bit Server VM\n",
       "Default Encoding: UTF-8\n",
       "Language: en\n",
       "Country: null\n",
       "--></g></svg>"
      ]
     },
     "execution_count": 2,
     "metadata": {},
     "output_type": "execute_result"
    }
   ],
   "source": [
    "%viz --style=\"COMPTREE\" --view=\"Default\" \"Q\""
   ]
  },
  {
   "cell_type": "code",
   "execution_count": 3,
   "id": "8c2068c7",
   "metadata": {
    "execution": {
     "iopub.execute_input": "2021-06-30T09:23:29.396434Z",
     "iopub.status.busy": "2021-06-30T09:23:29.394851Z",
     "iopub.status.idle": "2021-06-30T09:23:29.606781Z",
     "shell.execute_reply": "2021-06-30T09:23:29.605981Z"
    }
   },
   "outputs": [
    {
     "data": {
      "image/svg+xml": [
       "<?xml version=\"1.0\" encoding=\"UTF-8\" standalone=\"no\"?><svg xmlns=\"http://www.w3.org/2000/svg\" xmlns:xlink=\"http://www.w3.org/1999/xlink\" contentScriptType=\"application/ecmascript\" contentStyleType=\"text/css\" height=\"539px\" preserveAspectRatio=\"none\" style=\"width:266px;height:539px;\" version=\"1.1\" viewBox=\"0 0 266 539\" width=\"266px\" zoomAndPan=\"magnify\"><defs/><g><!--MD5=[fbc87193dbaf4d95561dea2c320d4a47]\n",
       "cluster E1--><a href=\"psysml:427a19be-4ba6-433c-b392-6823bf74d458\" target=\"_top\" title=\"psysml:427a19be-4ba6-433c-b392-6823bf74d458\" xlink:actuate=\"onRequest\" xlink:href=\"psysml:427a19be-4ba6-433c-b392-6823bf74d458\" xlink:show=\"new\" xlink:title=\"psysml:427a19be-4ba6-433c-b392-6823bf74d458\" xlink:type=\"simple\"><polygon fill=\"#FFFFFF\" points=\"16,6,34,6,41,28.2969,244,28.2969,244,527,16,527,16,6\" style=\"stroke: #000000; stroke-width: 1.5;\"/><line style=\"stroke: #000000; stroke-width: 1.5;\" x1=\"16\" x2=\"41\" y1=\"28.2969\" y2=\"28.2969\"/><text fill=\"#000000\" font-family=\"sans-serif\" font-size=\"14\" font-weight=\"bold\" lengthAdjust=\"spacingAndGlyphs\" textLength=\"12\" x=\"20\" y=\"20.9951\">Q</text></a><!--MD5=[b4997ac47864f28c2f74865a473b2911]\n",
       "class E2--><a href=\"psysml:027effde-34e9-4491-ba0c-9f82cacaad23\" target=\"_top\" title=\"psysml:027effde-34e9-4491-ba0c-9f82cacaad23\" xlink:actuate=\"onRequest\" xlink:href=\"psysml:027effde-34e9-4491-ba0c-9f82cacaad23\" xlink:show=\"new\" xlink:title=\"psysml:027effde-34e9-4491-ba0c-9f82cacaad23\" xlink:type=\"simple\"><rect fill=\"#FFFFFF\" height=\"45.9375\" id=\"E2\" style=\"stroke: #383838; stroke-width: 1.5;\" width=\"66\" x=\"147\" y=\"359\"/><text fill=\"#000000\" font-family=\"sans-serif\" font-size=\"12\" font-style=\"italic\" lengthAdjust=\"spacingAndGlyphs\" textLength=\"64\" x=\"148\" y=\"375.1387\">«part def»</text><text fill=\"#000000\" font-family=\"sans-serif\" font-size=\"12\" lengthAdjust=\"spacingAndGlyphs\" textLength=\"7\" x=\"176.5\" y=\"389.1074\">F</text><line style=\"stroke: #383838; stroke-width: 1.5;\" x1=\"148\" x2=\"212\" y1=\"396.9375\" y2=\"396.9375\"/></a><!--MD5=[09b614a08d8cba4a07c9adeb5e0fee81]\n",
       "class E3--><a href=\"psysml:241a9b2a-e9cc-4b19-964a-2424b61c0639\" target=\"_top\" title=\"psysml:241a9b2a-e9cc-4b19-964a-2424b61c0639\" xlink:actuate=\"onRequest\" xlink:href=\"psysml:241a9b2a-e9cc-4b19-964a-2424b61c0639\" xlink:show=\"new\" xlink:title=\"psysml:241a9b2a-e9cc-4b19-964a-2424b61c0639\" xlink:type=\"simple\"><rect fill=\"#FFFFFF\" height=\"45.9375\" id=\"E3\" rx=\"10\" ry=\"10\" style=\"stroke: #383838; stroke-width: 1.5;\" width=\"42\" x=\"159\" y=\"465\"/><text fill=\"#000000\" font-family=\"sans-serif\" font-size=\"12\" font-style=\"italic\" lengthAdjust=\"spacingAndGlyphs\" textLength=\"40\" x=\"160\" y=\"481.1387\">«part»</text><text fill=\"#000000\" font-family=\"sans-serif\" font-size=\"12\" lengthAdjust=\"spacingAndGlyphs\" textLength=\"8\" x=\"176\" y=\"495.1074\">a</text><line style=\"stroke: #383838; stroke-width: 1.5;\" x1=\"160\" x2=\"200\" y1=\"502.9375\" y2=\"502.9375\"/></a><!--MD5=[ebbe1d658d1005bcc118a6aa81145e00]\n",
       "class E4--><a href=\"psysml:40835df5-3f1f-4886-9446-1465d21ad736\" target=\"_top\" title=\"psysml:40835df5-3f1f-4886-9446-1465d21ad736\" xlink:actuate=\"onRequest\" xlink:href=\"psysml:40835df5-3f1f-4886-9446-1465d21ad736\" xlink:show=\"new\" xlink:title=\"psysml:40835df5-3f1f-4886-9446-1465d21ad736\" xlink:type=\"simple\"><rect fill=\"#FFFFFF\" height=\"45.9375\" id=\"E4\" rx=\"10\" ry=\"10\" style=\"stroke: #383838; stroke-width: 1.5;\" width=\"42\" x=\"186\" y=\"253\"/><text fill=\"#000000\" font-family=\"sans-serif\" font-size=\"12\" font-style=\"italic\" lengthAdjust=\"spacingAndGlyphs\" textLength=\"40\" x=\"187\" y=\"269.1387\">«part»</text><text fill=\"#000000\" font-family=\"sans-serif\" font-size=\"12\" lengthAdjust=\"spacingAndGlyphs\" textLength=\"19\" x=\"197.5\" y=\"283.1074\">f: F</text><line style=\"stroke: #383838; stroke-width: 1.5;\" x1=\"187\" x2=\"227\" y1=\"290.9375\" y2=\"290.9375\"/></a><!--MD5=[270fce915f116d4de14055a7c1d9a0f3]\n",
       "class E5--><a href=\"psysml:299c2c32-5ec1-43b2-a066-b7748b01150c\" target=\"_top\" title=\"psysml:299c2c32-5ec1-43b2-a066-b7748b01150c\" xlink:actuate=\"onRequest\" xlink:href=\"psysml:299c2c32-5ec1-43b2-a066-b7748b01150c\" xlink:show=\"new\" xlink:title=\"psysml:299c2c32-5ec1-43b2-a066-b7748b01150c\" xlink:type=\"simple\"><rect fill=\"#FFFFFF\" height=\"45.9375\" id=\"E5\" style=\"stroke: #383838; stroke-width: 1.5;\" width=\"66\" x=\"32\" y=\"359\"/><text fill=\"#000000\" font-family=\"sans-serif\" font-size=\"12\" font-style=\"italic\" lengthAdjust=\"spacingAndGlyphs\" textLength=\"64\" x=\"33\" y=\"375.1387\">«part def»</text><text fill=\"#000000\" font-family=\"sans-serif\" font-size=\"12\" lengthAdjust=\"spacingAndGlyphs\" textLength=\"8\" x=\"61\" y=\"389.1074\">A</text><line style=\"stroke: #383838; stroke-width: 1.5;\" x1=\"33\" x2=\"97\" y1=\"396.9375\" y2=\"396.9375\"/></a><!--MD5=[60a26617385b1d2d0262a64233df1f8d]\n",
       "class E6--><a href=\"psysml:31dec55f-8acf-4d42-bd51-f4047894820c\" target=\"_top\" title=\"psysml:31dec55f-8acf-4d42-bd51-f4047894820c\" xlink:actuate=\"onRequest\" xlink:href=\"psysml:31dec55f-8acf-4d42-bd51-f4047894820c\" xlink:show=\"new\" xlink:title=\"psysml:31dec55f-8acf-4d42-bd51-f4047894820c\" xlink:type=\"simple\"><rect fill=\"#FFFFFF\" height=\"45.9375\" id=\"E6\" rx=\"10\" ry=\"10\" style=\"stroke: #383838; stroke-width: 1.5;\" width=\"42\" x=\"44\" y=\"465\"/><text fill=\"#000000\" font-family=\"sans-serif\" font-size=\"12\" font-style=\"italic\" lengthAdjust=\"spacingAndGlyphs\" textLength=\"40\" x=\"45\" y=\"481.1387\">«part»</text><text fill=\"#000000\" font-family=\"sans-serif\" font-size=\"12\" lengthAdjust=\"spacingAndGlyphs\" textLength=\"8\" x=\"61\" y=\"495.1074\">g</text><line style=\"stroke: #383838; stroke-width: 1.5;\" x1=\"45\" x2=\"85\" y1=\"502.9375\" y2=\"502.9375\"/></a><!--MD5=[2156ba9850f5573cc1fc38a6a4b2f02b]\n",
       "class E7--><a href=\"psysml:e57a8ff4-b454-49af-9671-50f81189572a\" target=\"_top\" title=\"psysml:e57a8ff4-b454-49af-9671-50f81189572a\" xlink:actuate=\"onRequest\" xlink:href=\"psysml:e57a8ff4-b454-49af-9671-50f81189572a\" xlink:show=\"new\" xlink:title=\"psysml:e57a8ff4-b454-49af-9671-50f81189572a\" xlink:type=\"simple\"><rect fill=\"#FFFFFF\" height=\"45.9375\" id=\"E7\" style=\"stroke: #383838; stroke-width: 1.5;\" width=\"66\" x=\"64\" y=\"147\"/><text fill=\"#000000\" font-family=\"sans-serif\" font-size=\"12\" font-style=\"italic\" lengthAdjust=\"spacingAndGlyphs\" textLength=\"64\" x=\"65\" y=\"163.1387\">«part def»</text><text fill=\"#000000\" font-family=\"sans-serif\" font-size=\"12\" lengthAdjust=\"spacingAndGlyphs\" textLength=\"8\" x=\"93\" y=\"177.1074\">B</text><line style=\"stroke: #383838; stroke-width: 1.5;\" x1=\"65\" x2=\"129\" y1=\"184.9375\" y2=\"184.9375\"/></a><!--MD5=[b9389687b975829384b498ac4b7476b2]\n",
       "class E8--><a href=\"psysml:ae9b8861-e9cc-45e7-97b3-375fd90ac7d9\" target=\"_top\" title=\"psysml:ae9b8861-e9cc-45e7-97b3-375fd90ac7d9\" xlink:actuate=\"onRequest\" xlink:href=\"psysml:ae9b8861-e9cc-45e7-97b3-375fd90ac7d9\" xlink:show=\"new\" xlink:title=\"psysml:ae9b8861-e9cc-45e7-97b3-375fd90ac7d9\" xlink:type=\"simple\"><rect fill=\"#FFFFFF\" height=\"45.9375\" id=\"E8\" rx=\"10\" ry=\"10\" style=\"stroke: #383838; stroke-width: 1.5;\" width=\"42\" x=\"109\" y=\"253\"/><text fill=\"#000000\" font-family=\"sans-serif\" font-size=\"12\" font-style=\"italic\" lengthAdjust=\"spacingAndGlyphs\" textLength=\"40\" x=\"110\" y=\"269.1387\">«part»</text><text fill=\"#000000\" font-family=\"sans-serif\" font-size=\"12\" lengthAdjust=\"spacingAndGlyphs\" textLength=\"19\" x=\"120.5\" y=\"283.1074\">f: F</text><line style=\"stroke: #383838; stroke-width: 1.5;\" x1=\"110\" x2=\"150\" y1=\"290.9375\" y2=\"290.9375\"/></a><!--MD5=[fd4143e9d270a159db93a4ea2a975926]\n",
       "class E9--><a href=\"psysml:d620b19b-a1e2-497d-8cad-3b2dc38fedc0\" target=\"_top\" title=\"psysml:d620b19b-a1e2-497d-8cad-3b2dc38fedc0\" xlink:actuate=\"onRequest\" xlink:href=\"psysml:d620b19b-a1e2-497d-8cad-3b2dc38fedc0\" xlink:show=\"new\" xlink:title=\"psysml:d620b19b-a1e2-497d-8cad-3b2dc38fedc0\" xlink:type=\"simple\"><rect fill=\"#FFFFFF\" height=\"45.9375\" id=\"E9\" rx=\"10\" ry=\"10\" style=\"stroke: #383838; stroke-width: 1.5;\" width=\"42\" x=\"32\" y=\"253\"/><text fill=\"#000000\" font-family=\"sans-serif\" font-size=\"12\" font-style=\"italic\" lengthAdjust=\"spacingAndGlyphs\" textLength=\"40\" x=\"33\" y=\"269.1387\">«part»</text><text fill=\"#000000\" font-family=\"sans-serif\" font-size=\"12\" lengthAdjust=\"spacingAndGlyphs\" textLength=\"24\" x=\"41\" y=\"283.1074\">a: A</text><line style=\"stroke: #383838; stroke-width: 1.5;\" x1=\"33\" x2=\"73\" y1=\"290.9375\" y2=\"290.9375\"/></a><!--MD5=[96f4274e9e20536e775497830990834d]\n",
       "class E10--><a href=\"psysml:f9a1a989-561d-4119-971e-8ebceafa94b4\" target=\"_top\" title=\"psysml:f9a1a989-561d-4119-971e-8ebceafa94b4\" xlink:actuate=\"onRequest\" xlink:href=\"psysml:f9a1a989-561d-4119-971e-8ebceafa94b4\" xlink:show=\"new\" xlink:title=\"psysml:f9a1a989-561d-4119-971e-8ebceafa94b4\" xlink:type=\"simple\"><rect fill=\"#FFFFFF\" height=\"45.9375\" id=\"E10\" rx=\"10\" ry=\"10\" style=\"stroke: #383838; stroke-width: 1.5;\" width=\"42\" x=\"76\" y=\"41\"/><text fill=\"#000000\" font-family=\"sans-serif\" font-size=\"12\" font-style=\"italic\" lengthAdjust=\"spacingAndGlyphs\" textLength=\"40\" x=\"77\" y=\"57.1387\">«part»</text><text fill=\"#000000\" font-family=\"sans-serif\" font-size=\"12\" lengthAdjust=\"spacingAndGlyphs\" textLength=\"24\" x=\"85\" y=\"71.1074\">b: B</text><line style=\"stroke: #383838; stroke-width: 1.5;\" x1=\"77\" x2=\"117\" y1=\"78.9375\" y2=\"78.9375\"/></a><!--MD5=[209b3feb70ccb6233bfe1053d122c12c]\n",
       "reverse link E2 to E3--><a href=\"psysml:5ee10b2b-55c1-4a08-a13b-bdb74e3f50e5\" target=\"_top\" title=\"psysml:5ee10b2b-55c1-4a08-a13b-bdb74e3f50e5\" xlink:actuate=\"onRequest\" xlink:href=\"psysml:5ee10b2b-55c1-4a08-a13b-bdb74e3f50e5\" xlink:show=\"new\" xlink:title=\"psysml:5ee10b2b-55c1-4a08-a13b-bdb74e3f50e5\" xlink:type=\"simple\"><path d=\"M180,418.44 C180,433.87 180,451.47 180,464.98 \" fill=\"none\" id=\"E2&lt;-E3\" style=\"stroke: #383838; stroke-width: 1.0;\"/><polygon fill=\"#383838\" points=\"180,405.06,176,411.06,180,417.06,184,411.06,180,405.06\" style=\"stroke: #383838; stroke-width: 1.0;\"/></a><!--MD5=[185131fc0dcab0a4505a2ebe144e961b]\n",
       "link E4 to E2--><a href=\"psysml:c4c1c0e2-eca3-4dc3-a203-c30912c3ab2b\" target=\"_top\" title=\"psysml:c4c1c0e2-eca3-4dc3-a203-c30912c3ab2b\" xlink:actuate=\"onRequest\" xlink:href=\"psysml:c4c1c0e2-eca3-4dc3-a203-c30912c3ab2b\" xlink:show=\"new\" xlink:title=\"psysml:c4c1c0e2-eca3-4dc3-a203-c30912c3ab2b\" xlink:type=\"simple\"><path d=\"M201.27,299.06 C198.23,310.78 194.39,325.57 190.81,339.36 \" fill=\"none\" id=\"E4-&gt;E2\" style=\"stroke: #383838; stroke-width: 1.0;\"/><polygon fill=\"#FFFFFF\" points=\"185.72,358.98,183.7221,338.8303,197.2724,342.3504,185.72,358.98\" style=\"stroke: #383838; stroke-width: 1.0;\"/><ellipse cx=\"187.091\" cy=\"333.8163\" fill=\"#383838\" rx=\"2\" ry=\"2\" style=\"stroke: #383838; stroke-width: 1.0;\"/><ellipse cx=\"196.7698\" cy=\"336.3307\" fill=\"#383838\" rx=\"2\" ry=\"2\" style=\"stroke: #383838; stroke-width: 1.0;\"/></a><!--MD5=[85d356282659285ab4b2cfe2f634dd2b]\n",
       "reverse link E5 to E6--><a href=\"psysml:93463b7d-149f-4a15-b84b-177a9e530eda\" target=\"_top\" title=\"psysml:93463b7d-149f-4a15-b84b-177a9e530eda\" xlink:actuate=\"onRequest\" xlink:href=\"psysml:93463b7d-149f-4a15-b84b-177a9e530eda\" xlink:show=\"new\" xlink:title=\"psysml:93463b7d-149f-4a15-b84b-177a9e530eda\" xlink:type=\"simple\"><path d=\"M65,418.44 C65,433.87 65,451.47 65,464.98 \" fill=\"none\" id=\"E5&lt;-E6\" style=\"stroke: #383838; stroke-width: 1.0;\"/><polygon fill=\"#383838\" points=\"65,405.06,61,411.06,65,417.06,69,411.06,65,405.06\" style=\"stroke: #383838; stroke-width: 1.0;\"/></a><!--MD5=[dc164f5e8a733ab456ef1add180e9e34]\n",
       "reverse link E7 to E8--><a href=\"psysml:de6f8f38-3125-456b-a954-15a696931b63\" target=\"_top\" title=\"psysml:de6f8f38-3125-456b-a954-15a696931b63\" xlink:actuate=\"onRequest\" xlink:href=\"psysml:de6f8f38-3125-456b-a954-15a696931b63\" xlink:show=\"new\" xlink:title=\"psysml:de6f8f38-3125-456b-a954-15a696931b63\" xlink:type=\"simple\"><path d=\"M107.95,205.49 C112.91,221.15 118.64,239.19 123.01,252.98 \" fill=\"none\" id=\"E7&lt;-E8\" style=\"stroke: #383838; stroke-width: 1.0;\"/><polygon fill=\"#383838\" points=\"104,193.06,101.9989,199.9879,107.6243,204.4996,109.6253,197.5717,104,193.06\" style=\"stroke: #383838; stroke-width: 1.0;\"/></a><!--MD5=[f1f3f9f2fc535e6147756cb86a7f2e32]\n",
       "link E8 to E2--><a href=\"psysml:536a95df-7241-4403-bcab-1aa9fe7a4b7d\" target=\"_top\" title=\"psysml:536a95df-7241-4403-bcab-1aa9fe7a4b7d\" xlink:actuate=\"onRequest\" xlink:href=\"psysml:536a95df-7241-4403-bcab-1aa9fe7a4b7d\" xlink:show=\"new\" xlink:title=\"psysml:536a95df-7241-4403-bcab-1aa9fe7a4b7d\" xlink:type=\"simple\"><path d=\"M140.6,299.06 C146.44,311.19 153.86,326.62 160.68,340.82 \" fill=\"none\" id=\"E8-&gt;E2\" style=\"stroke: #383838; stroke-width: 1.0;\"/><polygon fill=\"#FFFFFF\" points=\"169.41,358.98,154.8709,344.8869,167.4894,338.8228,169.41,358.98\" style=\"stroke: #383838; stroke-width: 1.0;\"/><ellipse cx=\"154.2046\" cy=\"338.8831\" fill=\"#383838\" rx=\"2\" ry=\"2\" style=\"stroke: #383838; stroke-width: 1.0;\"/><ellipse cx=\"163.2178\" cy=\"334.5516\" fill=\"#383838\" rx=\"2\" ry=\"2\" style=\"stroke: #383838; stroke-width: 1.0;\"/></a><!--MD5=[e4a10ef82d0e328e31cac39a31e58dda]\n",
       "reverse link E7 to E9--><a href=\"psysml:2c441a1b-e979-4985-bcd5-61f8c13172d0\" target=\"_top\" title=\"psysml:2c441a1b-e979-4985-bcd5-61f8c13172d0\" xlink:actuate=\"onRequest\" xlink:href=\"psysml:2c441a1b-e979-4985-bcd5-61f8c13172d0\" xlink:show=\"new\" xlink:title=\"psysml:2c441a1b-e979-4985-bcd5-61f8c13172d0\" xlink:type=\"simple\"><path d=\"M82.41,205.49 C75.78,221.15 68.15,239.19 62.32,252.98 \" fill=\"none\" id=\"E7&lt;-E9\" style=\"stroke: #383838; stroke-width: 1.0;\"/><polygon fill=\"#383838\" points=\"87.67,193.06,81.6505,197.0305,83.0003,204.1142,89.0199,200.1436,87.67,193.06\" style=\"stroke: #383838; stroke-width: 1.0;\"/></a><!--MD5=[bfc3ddf2e613be37104f658f09af896c]\n",
       "link E9 to E5--><a href=\"psysml:fc8a5d52-f7b0-45e1-9a4f-1e932b65f071\" target=\"_top\" title=\"psysml:fc8a5d52-f7b0-45e1-9a4f-1e932b65f071\" xlink:actuate=\"onRequest\" xlink:href=\"psysml:fc8a5d52-f7b0-45e1-9a4f-1e932b65f071\" xlink:show=\"new\" xlink:title=\"psysml:fc8a5d52-f7b0-45e1-9a4f-1e932b65f071\" xlink:type=\"simple\"><path d=\"M55.54,299.06 C56.88,310.64 58.56,325.23 60.14,338.87 \" fill=\"none\" id=\"E9-&gt;E5\" style=\"stroke: #383838; stroke-width: 1.0;\"/><polygon fill=\"#FFFFFF\" points=\"62.46,358.98,53.3347,340.9044,67.243,339.3046,62.46,358.98\" style=\"stroke: #383838; stroke-width: 1.0;\"/><ellipse cx=\"54.6702\" cy=\"335.0132\" fill=\"#383838\" rx=\"2\" ry=\"2\" style=\"stroke: #383838; stroke-width: 1.0;\"/><ellipse cx=\"64.6047\" cy=\"333.8704\" fill=\"#383838\" rx=\"2\" ry=\"2\" style=\"stroke: #383838; stroke-width: 1.0;\"/></a><!--MD5=[a919e0967d6f3de553dc51b9865a1d6d]\n",
       "link E10 to E7--><a href=\"psysml:2e3833d6-0a03-41e5-9593-325ba84dff2e\" target=\"_top\" title=\"psysml:2e3833d6-0a03-41e5-9593-325ba84dff2e\" xlink:actuate=\"onRequest\" xlink:href=\"psysml:2e3833d6-0a03-41e5-9593-325ba84dff2e\" xlink:show=\"new\" xlink:title=\"psysml:2e3833d6-0a03-41e5-9593-325ba84dff2e\" xlink:type=\"simple\"><path d=\"M97,87.06 C97,98.64 97,113.23 97,126.87 \" fill=\"none\" id=\"E10-&gt;E7\" style=\"stroke: #383838; stroke-width: 1.0;\"/><polygon fill=\"#FFFFFF\" points=\"97,146.98,90,127.98,104,127.98,97,146.98\" style=\"stroke: #383838; stroke-width: 1.0;\"/><ellipse cx=\"92\" cy=\"122.28\" fill=\"#383838\" rx=\"2\" ry=\"2\" style=\"stroke: #383838; stroke-width: 1.0;\"/><ellipse cx=\"102\" cy=\"122.28\" fill=\"#383838\" rx=\"2\" ry=\"2\" style=\"stroke: #383838; stroke-width: 1.0;\"/></a><!--MD5=[9aef9f4e40f0b9f5ae7c2d7f91db51af]\n",
       "@startuml\r\n",
       " skinparam monochrome true\r\n",
       "skinparam classbackgroundcolor white\r\n",
       "skinparam shadowing false\r\n",
       "skinparam wrapWidth 300\r\n",
       "hide circle\r\n",
       "\r\n",
       "package \"Q\" as E1  [[psysml:427a19be-4ba6-433c-b392-6823bf74d458 ]]  {\r\n",
       "comp def \"F\" as E2  <<(T,blue) part def>> [[psysml:027effde-34e9-4491-ba0c-9f82cacaad23 ]] {\r\n",
       "}\r\n",
       "comp usage \"a\" as E3  <<(T,blue) part>> [[psysml:241a9b2a-e9cc-4b19-964a-2424b61c0639 ]] {\r\n",
       "}\r\n",
       "comp usage \"f: F\" as E4  <<(T,blue) part>> [[psysml:40835df5-3f1f-4886-9446-1465d21ad736 ]] {\r\n",
       "}\r\n",
       "comp def \"A\" as E5  <<(T,blue) part def>> [[psysml:299c2c32-5ec1-43b2-a066-b7748b01150c ]] {\r\n",
       "}\r\n",
       "comp usage \"g\" as E6  <<(T,blue) part>> [[psysml:31dec55f-8acf-4d42-bd51-f4047894820c ]] {\r\n",
       "}\r\n",
       "comp def \"B\" as E7  <<(T,blue) part def>> [[psysml:e57a8ff4-b454-49af-9671-50f81189572a ]] {\r\n",
       "}\r\n",
       "comp usage \"f: F\" as E8  <<(T,blue) part>> [[psysml:ae9b8861-e9cc-45e7-97b3-375fd90ac7d9 ]] {\r\n",
       "}\r\n",
       "comp usage \"a: A\" as E9  <<(T,blue) part>> [[psysml:d620b19b-a1e2-497d-8cad-3b2dc38fedc0 ]] {\r\n",
       "}\r\n",
       "comp usage \"b: B\" as E10  <<(T,blue) part>> [[psysml:f9a1a989-561d-4119-971e-8ebceafa94b4 ]] {\r\n",
       "}\r\n",
       "E2 *- - E3 [[psysml:5ee10b2b-55c1-4a08-a13b-bdb74e3f50e5 ]] \r\n",
       "E4 - -:|> E2 [[psysml:c4c1c0e2-eca3-4dc3-a203-c30912c3ab2b ]] \r\n",
       "E5 *- - E6 [[psysml:93463b7d-149f-4a15-b84b-177a9e530eda ]] \r\n",
       "E7 *- - E8 [[psysml:de6f8f38-3125-456b-a954-15a696931b63 ]] \r\n",
       "E8 - -:|> E2 [[psysml:536a95df-7241-4403-bcab-1aa9fe7a4b7d ]] \r\n",
       "E7 *- - E9 [[psysml:2c441a1b-e979-4985-bcd5-61f8c13172d0 ]] \r\n",
       "E9 - -:|> E5 [[psysml:fc8a5d52-f7b0-45e1-9a4f-1e932b65f071 ]] \r\n",
       "E10 - -:|> E7 [[psysml:2e3833d6-0a03-41e5-9593-325ba84dff2e ]] \r\n",
       "}\r\n",
       "@enduml\r\n",
       "\n",
       "PlantUML version 1.2020.13(Sat Jun 13 12:26:38 UTC 2020)\n",
       "(EPL source distribution)\n",
       "Java Runtime: OpenJDK Runtime Environment\n",
       "JVM: OpenJDK 64-Bit Server VM\n",
       "Default Encoding: UTF-8\n",
       "Language: en\n",
       "Country: null\n",
       "--></g></svg>"
      ]
     },
     "execution_count": 3,
     "metadata": {},
     "output_type": "execute_result"
    }
   ],
   "source": [
    "%viz --style=\"COMPTREE\" --view=\"Tree\" \"Q\""
   ]
  },
  {
   "cell_type": "code",
   "execution_count": 4,
   "id": "634ad2ed",
   "metadata": {
    "execution": {
     "iopub.execute_input": "2021-06-30T09:23:29.657346Z",
     "iopub.status.busy": "2021-06-30T09:23:29.654156Z",
     "iopub.status.idle": "2021-06-30T09:23:29.682260Z",
     "shell.execute_reply": "2021-06-30T09:23:29.683096Z"
    }
   },
   "outputs": [
    {
     "data": {
      "image/svg+xml": [
       "<?xml version=\"1.0\" encoding=\"UTF-8\" standalone=\"no\"?><svg xmlns=\"http://www.w3.org/2000/svg\" xmlns:xlink=\"http://www.w3.org/1999/xlink\" contentScriptType=\"application/ecmascript\" contentStyleType=\"text/css\" height=\"12px\" preserveAspectRatio=\"none\" style=\"width:12px;height:12px;\" version=\"1.1\" viewBox=\"0 0 12 12\" width=\"12px\" zoomAndPan=\"magnify\"><defs/><g><!--MD5=[f19188ef49e11757b5c46753f95d9edc]\n",
       "@startuml\r\n",
       " skinparam monochrome true\r\n",
       "skinparam classbackgroundcolor white\r\n",
       "skinparam shadowing false\r\n",
       "skinparam wrapWidth 300\r\n",
       "hide circle\r\n",
       "\r\n",
       "@enduml\r\n",
       "\n",
       "PlantUML version 1.2020.13(Sat Jun 13 12:26:38 UTC 2020)\n",
       "(EPL source distribution)\n",
       "Java Runtime: OpenJDK Runtime Environment\n",
       "JVM: OpenJDK 64-Bit Server VM\n",
       "Default Encoding: UTF-8\n",
       "Language: en\n",
       "Country: null\n",
       "--></g></svg>"
      ]
     },
     "execution_count": 4,
     "metadata": {},
     "output_type": "execute_result"
    }
   ],
   "source": [
    "%viz --style=\"COMPTREE\" --view=\"State\" \"Q\""
   ]
  },
  {
   "cell_type": "code",
   "execution_count": 5,
   "id": "6fe3cc08",
   "metadata": {
    "execution": {
     "iopub.execute_input": "2021-06-30T09:23:29.737912Z",
     "iopub.status.busy": "2021-06-30T09:23:29.734731Z",
     "iopub.status.idle": "2021-06-30T09:23:30.006513Z",
     "shell.execute_reply": "2021-06-30T09:23:30.004277Z"
    }
   },
   "outputs": [
    {
     "data": {
      "image/svg+xml": [
       "<?xml version=\"1.0\" encoding=\"UTF-8\" standalone=\"no\"?><svg xmlns=\"http://www.w3.org/2000/svg\" xmlns:xlink=\"http://www.w3.org/1999/xlink\" contentScriptType=\"application/ecmascript\" contentStyleType=\"text/css\" height=\"374px\" preserveAspectRatio=\"none\" style=\"width:616px;height:374px;\" version=\"1.1\" viewBox=\"0 0 616 374\" width=\"616px\" zoomAndPan=\"magnify\"><defs/><g><!--MD5=[fbc87193dbaf4d95561dea2c320d4a47]\n",
       "cluster E1--><a href=\"psysml:427a19be-4ba6-433c-b392-6823bf74d458\" target=\"_top\" title=\"psysml:427a19be-4ba6-433c-b392-6823bf74d458\" xlink:actuate=\"onRequest\" xlink:href=\"psysml:427a19be-4ba6-433c-b392-6823bf74d458\" xlink:show=\"new\" xlink:title=\"psysml:427a19be-4ba6-433c-b392-6823bf74d458\" xlink:type=\"simple\"><polygon fill=\"#FFFFFF\" points=\"16,6,34,6,41,28.2969,594,28.2969,594,362,16,362,16,6\" style=\"stroke: #000000; stroke-width: 1.5;\"/><line style=\"stroke: #000000; stroke-width: 1.5;\" x1=\"16\" x2=\"41\" y1=\"28.2969\" y2=\"28.2969\"/><text fill=\"#000000\" font-family=\"sans-serif\" font-size=\"14\" font-weight=\"bold\" lengthAdjust=\"spacingAndGlyphs\" textLength=\"12\" x=\"20\" y=\"20.9951\">Q</text></a><!--MD5=[e4f7fae6ed58524ba242bb0b0d3be6b7]\n",
       "cluster E2--><a href=\"psysml:027effde-34e9-4491-ba0c-9f82cacaad23\" target=\"_top\" title=\"psysml:027effde-34e9-4491-ba0c-9f82cacaad23\" xlink:actuate=\"onRequest\" xlink:href=\"psysml:027effde-34e9-4491-ba0c-9f82cacaad23\" xlink:show=\"new\" xlink:title=\"psysml:027effde-34e9-4491-ba0c-9f82cacaad23\" xlink:type=\"simple\"><rect fill=\"#FFFFFF\" height=\"107\" id=\"E2\" style=\"stroke: #383838; stroke-width: 1.5;\" width=\"87\" x=\"483\" y=\"92\"/><rect fill=\"#F8F8F8\" height=\"37.9375\" style=\"stroke: #383838; stroke-width: 1.5;\" width=\"87\" x=\"483\" y=\"92\"/><text fill=\"#000000\" font-family=\"sans-serif\" font-size=\"12\" font-style=\"italic\" lengthAdjust=\"spacingAndGlyphs\" textLength=\"64\" x=\"494.5\" y=\"108.1387\">«part def»</text><text fill=\"#000000\" font-family=\"sans-serif\" font-size=\"12\" lengthAdjust=\"spacingAndGlyphs\" textLength=\"7\" x=\"523\" y=\"122.1074\">F</text></a><!--MD5=[f6df4d0ebaf0b5dfb2ced0ae5af7c670]\n",
       "cluster E4--><a href=\"psysml:40835df5-3f1f-4886-9446-1465d21ad736\" target=\"_top\" title=\"psysml:40835df5-3f1f-4886-9446-1465d21ad736\" xlink:actuate=\"onRequest\" xlink:href=\"psysml:40835df5-3f1f-4886-9446-1465d21ad736\" xlink:show=\"new\" xlink:title=\"psysml:40835df5-3f1f-4886-9446-1465d21ad736\" xlink:type=\"simple\"><rect fill=\"#FFFFFF\" height=\"91\" id=\"E4\" rx=\"10\" ry=\"10\" style=\"stroke: #383838; stroke-width: 1.5;\" width=\"82\" x=\"377\" y=\"108\"/><rect fill=\"#F8F8F8\" height=\"23.9688\" rx=\"10\" ry=\"10\" style=\"stroke: #F8F8F8; stroke-width: 1.5;\" width=\"82\" x=\"377\" y=\"108\"/><rect fill=\"#F8F8F8\" height=\"10\" style=\"stroke: #F8F8F8; stroke-width: 1.5;\" width=\"82\" x=\"377\" y=\"121.9688\"/><rect fill=\"none\" height=\"91\" id=\"E4\" rx=\"10\" ry=\"10\" style=\"stroke: #383838; stroke-width: 1.5;\" width=\"82\" x=\"377\" y=\"108\"/><text fill=\"#000000\" font-family=\"sans-serif\" font-size=\"12\" lengthAdjust=\"spacingAndGlyphs\" textLength=\"19\" x=\"408.5\" y=\"124.1387\">f: F</text><line style=\"stroke: #383838; stroke-width: 1.0;\" x1=\"377\" x2=\"459\" y1=\"131.9688\" y2=\"131.9688\"/></a><!--MD5=[14e3b0961a2654348d326746436168a1]\n",
       "cluster E6--><a href=\"psysml:299c2c32-5ec1-43b2-a066-b7748b01150c\" target=\"_top\" title=\"psysml:299c2c32-5ec1-43b2-a066-b7748b01150c\" xlink:actuate=\"onRequest\" xlink:href=\"psysml:299c2c32-5ec1-43b2-a066-b7748b01150c\" xlink:show=\"new\" xlink:title=\"psysml:299c2c32-5ec1-43b2-a066-b7748b01150c\" xlink:type=\"simple\"><rect fill=\"#FFFFFF\" height=\"107\" id=\"E6\" style=\"stroke: #383838; stroke-width: 1.5;\" width=\"87\" x=\"266\" y=\"92\"/><rect fill=\"#F8F8F8\" height=\"37.9375\" style=\"stroke: #383838; stroke-width: 1.5;\" width=\"87\" x=\"266\" y=\"92\"/><text fill=\"#000000\" font-family=\"sans-serif\" font-size=\"12\" font-style=\"italic\" lengthAdjust=\"spacingAndGlyphs\" textLength=\"64\" x=\"277.5\" y=\"108.1387\">«part def»</text><text fill=\"#000000\" font-family=\"sans-serif\" font-size=\"12\" lengthAdjust=\"spacingAndGlyphs\" textLength=\"8\" x=\"305.5\" y=\"122.1074\">A</text></a><!--MD5=[55dfccfc6c49c2d10cd1bd2211a6c90c]\n",
       "cluster E8--><a href=\"psysml:e57a8ff4-b454-49af-9671-50f81189572a\" target=\"_top\" title=\"psysml:e57a8ff4-b454-49af-9671-50f81189572a\" xlink:actuate=\"onRequest\" xlink:href=\"psysml:e57a8ff4-b454-49af-9671-50f81189572a\" xlink:show=\"new\" xlink:title=\"psysml:e57a8ff4-b454-49af-9671-50f81189572a\" xlink:type=\"simple\"><rect fill=\"#FFFFFF\" height=\"289\" id=\"E8\" style=\"stroke: #383838; stroke-width: 1.5;\" width=\"144\" x=\"98\" y=\"49\"/><rect fill=\"#F8F8F8\" height=\"37.9375\" style=\"stroke: #383838; stroke-width: 1.5;\" width=\"144\" x=\"98\" y=\"49\"/><text fill=\"#000000\" font-family=\"sans-serif\" font-size=\"12\" font-style=\"italic\" lengthAdjust=\"spacingAndGlyphs\" textLength=\"64\" x=\"138\" y=\"65.1387\">«part def»</text><text fill=\"#000000\" font-family=\"sans-serif\" font-size=\"12\" lengthAdjust=\"spacingAndGlyphs\" textLength=\"8\" x=\"166\" y=\"79.1074\">B</text></a><!--MD5=[7f149f147074ac12df2cb0a7728a5fb0]\n",
       "cluster E9--><a href=\"psysml:ae9b8861-e9cc-45e7-97b3-375fd90ac7d9\" target=\"_top\" title=\"psysml:ae9b8861-e9cc-45e7-97b3-375fd90ac7d9\" xlink:actuate=\"onRequest\" xlink:href=\"psysml:ae9b8861-e9cc-45e7-97b3-375fd90ac7d9\" xlink:show=\"new\" xlink:title=\"psysml:ae9b8861-e9cc-45e7-97b3-375fd90ac7d9\" xlink:type=\"simple\"><rect fill=\"#FFFFFF\" height=\"91\" id=\"E9\" rx=\"10\" ry=\"10\" style=\"stroke: #383838; stroke-width: 1.5;\" width=\"82\" x=\"129\" y=\"223\"/><rect fill=\"#F8F8F8\" height=\"23.9688\" rx=\"10\" ry=\"10\" style=\"stroke: #F8F8F8; stroke-width: 1.5;\" width=\"82\" x=\"129\" y=\"223\"/><rect fill=\"#F8F8F8\" height=\"10\" style=\"stroke: #F8F8F8; stroke-width: 1.5;\" width=\"82\" x=\"129\" y=\"236.9688\"/><rect fill=\"none\" height=\"91\" id=\"E9\" rx=\"10\" ry=\"10\" style=\"stroke: #383838; stroke-width: 1.5;\" width=\"82\" x=\"129\" y=\"223\"/><text fill=\"#000000\" font-family=\"sans-serif\" font-size=\"12\" lengthAdjust=\"spacingAndGlyphs\" textLength=\"19\" x=\"160.5\" y=\"239.1387\">f: F</text><line style=\"stroke: #383838; stroke-width: 1.0;\" x1=\"129\" x2=\"211\" y1=\"246.9688\" y2=\"246.9688\"/></a><!--MD5=[917b9dd0c7eca3ee5f47219d1a84c0ad]\n",
       "cluster E11--><a href=\"psysml:d620b19b-a1e2-497d-8cad-3b2dc38fedc0\" target=\"_top\" title=\"psysml:d620b19b-a1e2-497d-8cad-3b2dc38fedc0\" xlink:actuate=\"onRequest\" xlink:href=\"psysml:d620b19b-a1e2-497d-8cad-3b2dc38fedc0\" xlink:show=\"new\" xlink:title=\"psysml:d620b19b-a1e2-497d-8cad-3b2dc38fedc0\" xlink:type=\"simple\"><rect fill=\"#FFFFFF\" height=\"91\" id=\"E11\" rx=\"10\" ry=\"10\" style=\"stroke: #383838; stroke-width: 1.5;\" width=\"96\" x=\"122\" y=\"108\"/><rect fill=\"#F8F8F8\" height=\"23.9688\" rx=\"10\" ry=\"10\" style=\"stroke: #F8F8F8; stroke-width: 1.5;\" width=\"96\" x=\"122\" y=\"108\"/><rect fill=\"#F8F8F8\" height=\"10\" style=\"stroke: #F8F8F8; stroke-width: 1.5;\" width=\"96\" x=\"122\" y=\"121.9688\"/><rect fill=\"none\" height=\"91\" id=\"E11\" rx=\"10\" ry=\"10\" style=\"stroke: #383838; stroke-width: 1.5;\" width=\"96\" x=\"122\" y=\"108\"/><text fill=\"#000000\" font-family=\"sans-serif\" font-size=\"12\" lengthAdjust=\"spacingAndGlyphs\" textLength=\"24\" x=\"158\" y=\"124.1387\">a: A</text><line style=\"stroke: #383838; stroke-width: 1.0;\" x1=\"122\" x2=\"218\" y1=\"131.9688\" y2=\"131.9688\"/></a><g id=\"E1.E2.E3\"><a href=\"psysml:241a9b2a-e9cc-4b19-964a-2424b61c0639\" target=\"_top\" title=\"psysml:241a9b2a-e9cc-4b19-964a-2424b61c0639\" xlink:actuate=\"onRequest\" xlink:href=\"psysml:241a9b2a-e9cc-4b19-964a-2424b61c0639\" xlink:show=\"new\" xlink:title=\"psysml:241a9b2a-e9cc-4b19-964a-2424b61c0639\" xlink:type=\"simple\"><rect fill=\"#FFFFFF\" height=\"40\" id=\"E3\" rx=\"10\" ry=\"10\" style=\"stroke: #383838; stroke-width: 1.5;\" width=\"50\" x=\"501\" y=\"143\"/><rect fill=\"#F8F8F8\" height=\"23.9688\" rx=\"10\" ry=\"10\" style=\"stroke: #F8F8F8; stroke-width: 1.5;\" width=\"50\" x=\"501\" y=\"143\"/><rect fill=\"#F8F8F8\" height=\"10\" style=\"stroke: #F8F8F8; stroke-width: 1.5;\" width=\"50\" x=\"501\" y=\"156.9688\"/><rect fill=\"none\" height=\"40\" id=\"E3\" rx=\"10\" ry=\"10\" style=\"stroke: #383838; stroke-width: 1.5;\" width=\"50\" x=\"501\" y=\"143\"/><text fill=\"#000000\" font-family=\"sans-serif\" font-size=\"12\" lengthAdjust=\"spacingAndGlyphs\" textLength=\"8\" x=\"522\" y=\"159.1387\">a</text></a></g><g id=\"E1.E4.E5\"><a href=\"psysml:241a9b2a-e9cc-4b19-964a-2424b61c0639\" target=\"_top\" title=\"psysml:241a9b2a-e9cc-4b19-964a-2424b61c0639\" xlink:actuate=\"onRequest\" xlink:href=\"psysml:241a9b2a-e9cc-4b19-964a-2424b61c0639\" xlink:show=\"new\" xlink:title=\"psysml:241a9b2a-e9cc-4b19-964a-2424b61c0639\" xlink:type=\"simple\"><rect fill=\"#FFFFFF\" height=\"40\" id=\"E5\" rx=\"10\" ry=\"10\" style=\"stroke: #383838; stroke-width: 1.5;\" width=\"50\" x=\"393\" y=\"143\"/><rect fill=\"#F8F8F8\" height=\"23.9688\" rx=\"10\" ry=\"10\" style=\"stroke: #F8F8F8; stroke-width: 1.5;\" width=\"50\" x=\"393\" y=\"143\"/><rect fill=\"#F8F8F8\" height=\"10\" style=\"stroke: #F8F8F8; stroke-width: 1.5;\" width=\"50\" x=\"393\" y=\"156.9688\"/><rect fill=\"none\" height=\"40\" id=\"E5\" rx=\"10\" ry=\"10\" style=\"stroke: #383838; stroke-width: 1.5;\" width=\"50\" x=\"393\" y=\"143\"/><text fill=\"#000000\" font-family=\"sans-serif\" font-size=\"12\" lengthAdjust=\"spacingAndGlyphs\" textLength=\"18\" x=\"409\" y=\"159.1387\">^a</text></a></g><g id=\"E1.E6.E7\"><a href=\"psysml:31dec55f-8acf-4d42-bd51-f4047894820c\" target=\"_top\" title=\"psysml:31dec55f-8acf-4d42-bd51-f4047894820c\" xlink:actuate=\"onRequest\" xlink:href=\"psysml:31dec55f-8acf-4d42-bd51-f4047894820c\" xlink:show=\"new\" xlink:title=\"psysml:31dec55f-8acf-4d42-bd51-f4047894820c\" xlink:type=\"simple\"><rect fill=\"#FFFFFF\" height=\"40\" id=\"E7\" rx=\"10\" ry=\"10\" style=\"stroke: #383838; stroke-width: 1.5;\" width=\"53\" x=\"282.5\" y=\"143\"/><rect fill=\"#F8F8F8\" height=\"23.9688\" rx=\"10\" ry=\"10\" style=\"stroke: #F8F8F8; stroke-width: 1.5;\" width=\"53\" x=\"282.5\" y=\"143\"/><rect fill=\"#F8F8F8\" height=\"10\" style=\"stroke: #F8F8F8; stroke-width: 1.5;\" width=\"53\" x=\"282.5\" y=\"156.9688\"/><rect fill=\"none\" height=\"40\" id=\"E7\" rx=\"10\" ry=\"10\" style=\"stroke: #383838; stroke-width: 1.5;\" width=\"53\" x=\"282.5\" y=\"143\"/><text fill=\"#000000\" font-family=\"sans-serif\" font-size=\"12\" lengthAdjust=\"spacingAndGlyphs\" textLength=\"38\" x=\"288\" y=\"159.1387\">g=f.a;</text></a></g><g id=\"E1.E8.E9.E10\"><a href=\"psysml:241a9b2a-e9cc-4b19-964a-2424b61c0639\" target=\"_top\" title=\"psysml:241a9b2a-e9cc-4b19-964a-2424b61c0639\" xlink:actuate=\"onRequest\" xlink:href=\"psysml:241a9b2a-e9cc-4b19-964a-2424b61c0639\" xlink:show=\"new\" xlink:title=\"psysml:241a9b2a-e9cc-4b19-964a-2424b61c0639\" xlink:type=\"simple\"><rect fill=\"#FFFFFF\" height=\"40\" id=\"E10\" rx=\"10\" ry=\"10\" style=\"stroke: #383838; stroke-width: 1.5;\" width=\"50\" x=\"145\" y=\"258\"/><rect fill=\"#F8F8F8\" height=\"23.9688\" rx=\"10\" ry=\"10\" style=\"stroke: #F8F8F8; stroke-width: 1.5;\" width=\"50\" x=\"145\" y=\"258\"/><rect fill=\"#F8F8F8\" height=\"10\" style=\"stroke: #F8F8F8; stroke-width: 1.5;\" width=\"50\" x=\"145\" y=\"271.9688\"/><rect fill=\"none\" height=\"40\" id=\"E10\" rx=\"10\" ry=\"10\" style=\"stroke: #383838; stroke-width: 1.5;\" width=\"50\" x=\"145\" y=\"258\"/><text fill=\"#000000\" font-family=\"sans-serif\" font-size=\"12\" lengthAdjust=\"spacingAndGlyphs\" textLength=\"18\" x=\"161\" y=\"274.1387\">^a</text></a></g><g id=\"E1.E8.E11.E12\"><a href=\"psysml:31dec55f-8acf-4d42-bd51-f4047894820c\" target=\"_top\" title=\"psysml:31dec55f-8acf-4d42-bd51-f4047894820c\" xlink:actuate=\"onRequest\" xlink:href=\"psysml:31dec55f-8acf-4d42-bd51-f4047894820c\" xlink:show=\"new\" xlink:title=\"psysml:31dec55f-8acf-4d42-bd51-f4047894820c\" xlink:type=\"simple\"><rect fill=\"#FFFFFF\" height=\"40\" id=\"E12\" rx=\"10\" ry=\"10\" style=\"stroke: #383838; stroke-width: 1.5;\" width=\"63\" x=\"138.5\" y=\"143\"/><rect fill=\"#F8F8F8\" height=\"23.9688\" rx=\"10\" ry=\"10\" style=\"stroke: #F8F8F8; stroke-width: 1.5;\" width=\"63\" x=\"138.5\" y=\"143\"/><rect fill=\"#F8F8F8\" height=\"10\" style=\"stroke: #F8F8F8; stroke-width: 1.5;\" width=\"63\" x=\"138.5\" y=\"156.9688\"/><rect fill=\"none\" height=\"40\" id=\"E12\" rx=\"10\" ry=\"10\" style=\"stroke: #383838; stroke-width: 1.5;\" width=\"63\" x=\"138.5\" y=\"143\"/><text fill=\"#000000\" font-family=\"sans-serif\" font-size=\"12\" lengthAdjust=\"spacingAndGlyphs\" textLength=\"48\" x=\"144\" y=\"159.1387\">^g=f.a;</text></a></g><g id=\"E1.E13\"><a href=\"psysml:f9a1a989-561d-4119-971e-8ebceafa94b4\" target=\"_top\" title=\"psysml:f9a1a989-561d-4119-971e-8ebceafa94b4\" xlink:actuate=\"onRequest\" xlink:href=\"psysml:f9a1a989-561d-4119-971e-8ebceafa94b4\" xlink:show=\"new\" xlink:title=\"psysml:f9a1a989-561d-4119-971e-8ebceafa94b4\" xlink:type=\"simple\"><rect fill=\"#FFFFFF\" height=\"40\" id=\"E13\" rx=\"10\" ry=\"10\" style=\"stroke: #383838; stroke-width: 1.5;\" width=\"50\" x=\"32\" y=\"143\"/><rect fill=\"#F8F8F8\" height=\"23.9688\" rx=\"10\" ry=\"10\" style=\"stroke: #F8F8F8; stroke-width: 1.5;\" width=\"50\" x=\"32\" y=\"143\"/><rect fill=\"#F8F8F8\" height=\"10\" style=\"stroke: #F8F8F8; stroke-width: 1.5;\" width=\"50\" x=\"32\" y=\"156.9688\"/><rect fill=\"none\" height=\"40\" id=\"E13\" rx=\"10\" ry=\"10\" style=\"stroke: #383838; stroke-width: 1.5;\" width=\"50\" x=\"32\" y=\"143\"/><text fill=\"#000000\" font-family=\"sans-serif\" font-size=\"12\" lengthAdjust=\"spacingAndGlyphs\" textLength=\"24\" x=\"45\" y=\"159.1387\">b: B</text></a></g><!--MD5=[65481eef76a7486101c58ded21a552db]\n",
       "link E12 to E10--><a href=\"psysml:d897c185-bd23-4685-b4dd-90f768e45c35\" target=\"_top\" title=\"psysml:d897c185-bd23-4685-b4dd-90f768e45c35\" xlink:actuate=\"onRequest\" xlink:href=\"psysml:d897c185-bd23-4685-b4dd-90f768e45c35\" xlink:show=\"new\" xlink:title=\"psysml:d897c185-bd23-4685-b4dd-90f768e45c35\" xlink:type=\"simple\"><path d=\"M160.15,183.17 C156.29,203.95 156.28,236.92 160.13,257.74 \" fill=\"none\" id=\"E12-E10\" style=\"stroke: #383838; stroke-width: 3.0;\"/></a><!--MD5=[65481eef76a7486101c58ded21a552db]\n",
       "link E12 to E10--><a href=\"psysml:a65e9cd3-f7a6-42d1-a2aa-d32628740aff\" target=\"_top\" title=\"psysml:a65e9cd3-f7a6-42d1-a2aa-d32628740aff\" xlink:actuate=\"onRequest\" xlink:href=\"psysml:a65e9cd3-f7a6-42d1-a2aa-d32628740aff\" xlink:show=\"new\" xlink:title=\"psysml:a65e9cd3-f7a6-42d1-a2aa-d32628740aff\" xlink:type=\"simple\"><path d=\"M180.43,183.17 C184.52,203.95 184.52,236.92 180.45,257.74 \" fill=\"none\" id=\"E12-E10-1\" style=\"stroke: #383838; stroke-width: 5.0;\"/></a><!--MD5=[e3e62c782cb7c42434052adaa9a478a5]\n",
       "@startuml\r\n",
       "skinparam ranksep 10\r\n",
       "skinparam rectangle {\r\n",
       " backgroundColor<<block>> LightGreen\r\n",
       "}\r\n",
       " skinparam monochrome true\r\n",
       "skinparam classbackgroundcolor white\r\n",
       "skinparam shadowing false\r\n",
       "skinparam wrapWidth 300\r\n",
       "hide circle\r\n",
       "\r\n",
       "package \"Q\" as E1  [[psysml:427a19be-4ba6-433c-b392-6823bf74d458 ]]  {\r\n",
       "rec def \"F\" as E2  <<(T,blue) part def>> [[psysml:027effde-34e9-4491-ba0c-9f82cacaad23 ]] {\r\n",
       "rec usage \"a\" as E3  [[psysml:241a9b2a-e9cc-4b19-964a-2424b61c0639 ]] {\r\n",
       "}\r\n",
       "}\r\n",
       "rec usage \"f: F\" as E4  [[psysml:40835df5-3f1f-4886-9446-1465d21ad736 ]] {\r\n",
       "rec usage \"^a\" as E5  [[psysml:241a9b2a-e9cc-4b19-964a-2424b61c0639 ]] {\r\n",
       "}\r\n",
       "}\r\n",
       "rec def \"A\" as E6  <<(T,blue) part def>> [[psysml:299c2c32-5ec1-43b2-a066-b7748b01150c ]] {\r\n",
       "rec usage \"g=f.a; \" as E7  [[psysml:31dec55f-8acf-4d42-bd51-f4047894820c ]] {\r\n",
       "}\r\n",
       "}\r\n",
       "rec def \"B\" as E8  <<(T,blue) part def>> [[psysml:e57a8ff4-b454-49af-9671-50f81189572a ]] {\r\n",
       "rec usage \"f: F\" as E9  [[psysml:ae9b8861-e9cc-45e7-97b3-375fd90ac7d9 ]] {\r\n",
       "rec usage \"^a\" as E10  [[psysml:241a9b2a-e9cc-4b19-964a-2424b61c0639 ]] {\r\n",
       "}\r\n",
       "}\r\n",
       "rec usage \"a: A\" as E11  [[psysml:d620b19b-a1e2-497d-8cad-3b2dc38fedc0 ]] {\r\n",
       "rec usage \"^g=f.a; \" as E12  [[psysml:31dec55f-8acf-4d42-bd51-f4047894820c ]] {\r\n",
       "}\r\n",
       "}\r\n",
       "}\r\n",
       "rec usage \"b: B\" as E13  [[psysml:f9a1a989-561d-4119-971e-8ebceafa94b4 ]] {\r\n",
       "}\r\n",
       "E12 -[thickness=3]- E10 [[psysml:d897c185-bd23-4685-b4dd-90f768e45c35 ]] \r\n",
       "E12 -[thickness=5]- E10 [[psysml:a65e9cd3-f7a6-42d1-a2aa-d32628740aff ]] \r\n",
       "}\r\n",
       "@enduml\r\n",
       "\n",
       "PlantUML version 1.2020.13(Sat Jun 13 12:26:38 UTC 2020)\n",
       "(EPL source distribution)\n",
       "Java Runtime: OpenJDK Runtime Environment\n",
       "JVM: OpenJDK 64-Bit Server VM\n",
       "Default Encoding: UTF-8\n",
       "Language: en\n",
       "Country: null\n",
       "--></g></svg>"
      ]
     },
     "execution_count": 5,
     "metadata": {},
     "output_type": "execute_result"
    }
   ],
   "source": [
    "%viz --style=\"COMPTREE\" --view=\"Interconnection\" \"Q\""
   ]
  },
  {
   "cell_type": "code",
   "execution_count": 6,
   "id": "a28e3028",
   "metadata": {
    "execution": {
     "iopub.execute_input": "2021-06-30T09:23:30.064947Z",
     "iopub.status.busy": "2021-06-30T09:23:30.063438Z",
     "iopub.status.idle": "2021-06-30T09:23:30.113239Z",
     "shell.execute_reply": "2021-06-30T09:23:30.115582Z"
    }
   },
   "outputs": [
    {
     "data": {
      "image/svg+xml": [
       "<?xml version=\"1.0\" encoding=\"UTF-8\" standalone=\"no\"?><svg xmlns=\"http://www.w3.org/2000/svg\" xmlns:xlink=\"http://www.w3.org/1999/xlink\" contentScriptType=\"application/ecmascript\" contentStyleType=\"text/css\" height=\"12px\" preserveAspectRatio=\"none\" style=\"width:12px;height:12px;\" version=\"1.1\" viewBox=\"0 0 12 12\" width=\"12px\" zoomAndPan=\"magnify\"><defs/><g><!--MD5=[655b888544ca4751ea36af1068543f84]\n",
       "@startuml\r\n",
       "skinparam ranksep 8\r\n",
       " skinparam monochrome true\r\n",
       "skinparam classbackgroundcolor white\r\n",
       "skinparam shadowing false\r\n",
       "skinparam wrapWidth 300\r\n",
       "hide circle\r\n",
       "\r\n",
       "@enduml\r\n",
       "\n",
       "PlantUML version 1.2020.13(Sat Jun 13 12:26:38 UTC 2020)\n",
       "(EPL source distribution)\n",
       "Java Runtime: OpenJDK Runtime Environment\n",
       "JVM: OpenJDK 64-Bit Server VM\n",
       "Default Encoding: UTF-8\n",
       "Language: en\n",
       "Country: null\n",
       "--></g></svg>"
      ]
     },
     "execution_count": 6,
     "metadata": {},
     "output_type": "execute_result"
    }
   ],
   "source": [
    "%viz --style=\"COMPTREE\" --view=\"Action\" \"Q\""
   ]
  },
  {
   "cell_type": "code",
   "execution_count": 7,
   "id": "6599c4a1",
   "metadata": {
    "execution": {
     "iopub.execute_input": "2021-06-30T09:23:30.169793Z",
     "iopub.status.busy": "2021-06-30T09:23:30.168196Z",
     "iopub.status.idle": "2021-06-30T09:23:30.335545Z",
     "shell.execute_reply": "2021-06-30T09:23:30.334658Z"
    }
   },
   "outputs": [
    {
     "data": {
      "image/svg+xml": [
       "<?xml version=\"1.0\" encoding=\"UTF-8\" standalone=\"no\"?><svg xmlns=\"http://www.w3.org/2000/svg\" xmlns:xlink=\"http://www.w3.org/1999/xlink\" contentScriptType=\"application/ecmascript\" contentStyleType=\"text/css\" height=\"539px\" preserveAspectRatio=\"none\" style=\"width:266px;height:539px;\" version=\"1.1\" viewBox=\"0 0 266 539\" width=\"266px\" zoomAndPan=\"magnify\"><defs/><g><!--MD5=[fbc87193dbaf4d95561dea2c320d4a47]\n",
       "cluster E1--><a href=\"psysml:427a19be-4ba6-433c-b392-6823bf74d458\" target=\"_top\" title=\"psysml:427a19be-4ba6-433c-b392-6823bf74d458\" xlink:actuate=\"onRequest\" xlink:href=\"psysml:427a19be-4ba6-433c-b392-6823bf74d458\" xlink:show=\"new\" xlink:title=\"psysml:427a19be-4ba6-433c-b392-6823bf74d458\" xlink:type=\"simple\"><polygon fill=\"#FFFFFF\" points=\"16,6,34,6,41,28.2969,244,28.2969,244,527,16,527,16,6\" style=\"stroke: #000000; stroke-width: 1.5;\"/><line style=\"stroke: #000000; stroke-width: 1.5;\" x1=\"16\" x2=\"41\" y1=\"28.2969\" y2=\"28.2969\"/><text fill=\"#000000\" font-family=\"sans-serif\" font-size=\"14\" font-weight=\"bold\" lengthAdjust=\"spacingAndGlyphs\" textLength=\"12\" x=\"20\" y=\"20.9951\">Q</text></a><!--MD5=[b4997ac47864f28c2f74865a473b2911]\n",
       "class E2--><a href=\"psysml:027effde-34e9-4491-ba0c-9f82cacaad23\" target=\"_top\" title=\"psysml:027effde-34e9-4491-ba0c-9f82cacaad23\" xlink:actuate=\"onRequest\" xlink:href=\"psysml:027effde-34e9-4491-ba0c-9f82cacaad23\" xlink:show=\"new\" xlink:title=\"psysml:027effde-34e9-4491-ba0c-9f82cacaad23\" xlink:type=\"simple\"><rect fill=\"#FFFFFF\" height=\"45.9375\" id=\"E2\" style=\"stroke: #383838; stroke-width: 1.5;\" width=\"66\" x=\"147\" y=\"359\"/><text fill=\"#000000\" font-family=\"sans-serif\" font-size=\"12\" font-style=\"italic\" lengthAdjust=\"spacingAndGlyphs\" textLength=\"64\" x=\"148\" y=\"375.1387\">«part def»</text><text fill=\"#000000\" font-family=\"sans-serif\" font-size=\"12\" lengthAdjust=\"spacingAndGlyphs\" textLength=\"7\" x=\"176.5\" y=\"389.1074\">F</text><line style=\"stroke: #383838; stroke-width: 1.5;\" x1=\"148\" x2=\"212\" y1=\"396.9375\" y2=\"396.9375\"/></a><!--MD5=[09b614a08d8cba4a07c9adeb5e0fee81]\n",
       "class E3--><a href=\"psysml:241a9b2a-e9cc-4b19-964a-2424b61c0639\" target=\"_top\" title=\"psysml:241a9b2a-e9cc-4b19-964a-2424b61c0639\" xlink:actuate=\"onRequest\" xlink:href=\"psysml:241a9b2a-e9cc-4b19-964a-2424b61c0639\" xlink:show=\"new\" xlink:title=\"psysml:241a9b2a-e9cc-4b19-964a-2424b61c0639\" xlink:type=\"simple\"><rect fill=\"#FFFFFF\" height=\"45.9375\" id=\"E3\" rx=\"10\" ry=\"10\" style=\"stroke: #383838; stroke-width: 1.5;\" width=\"42\" x=\"159\" y=\"465\"/><text fill=\"#000000\" font-family=\"sans-serif\" font-size=\"12\" font-style=\"italic\" lengthAdjust=\"spacingAndGlyphs\" textLength=\"40\" x=\"160\" y=\"481.1387\">«part»</text><text fill=\"#000000\" font-family=\"sans-serif\" font-size=\"12\" lengthAdjust=\"spacingAndGlyphs\" textLength=\"8\" x=\"176\" y=\"495.1074\">a</text><line style=\"stroke: #383838; stroke-width: 1.5;\" x1=\"160\" x2=\"200\" y1=\"502.9375\" y2=\"502.9375\"/></a><!--MD5=[ebbe1d658d1005bcc118a6aa81145e00]\n",
       "class E4--><a href=\"psysml:40835df5-3f1f-4886-9446-1465d21ad736\" target=\"_top\" title=\"psysml:40835df5-3f1f-4886-9446-1465d21ad736\" xlink:actuate=\"onRequest\" xlink:href=\"psysml:40835df5-3f1f-4886-9446-1465d21ad736\" xlink:show=\"new\" xlink:title=\"psysml:40835df5-3f1f-4886-9446-1465d21ad736\" xlink:type=\"simple\"><rect fill=\"#FFFFFF\" height=\"45.9375\" id=\"E4\" rx=\"10\" ry=\"10\" style=\"stroke: #383838; stroke-width: 1.5;\" width=\"42\" x=\"186\" y=\"253\"/><text fill=\"#000000\" font-family=\"sans-serif\" font-size=\"12\" font-style=\"italic\" lengthAdjust=\"spacingAndGlyphs\" textLength=\"40\" x=\"187\" y=\"269.1387\">«part»</text><text fill=\"#000000\" font-family=\"sans-serif\" font-size=\"12\" lengthAdjust=\"spacingAndGlyphs\" textLength=\"19\" x=\"197.5\" y=\"283.1074\">f: F</text><line style=\"stroke: #383838; stroke-width: 1.5;\" x1=\"187\" x2=\"227\" y1=\"290.9375\" y2=\"290.9375\"/></a><!--MD5=[270fce915f116d4de14055a7c1d9a0f3]\n",
       "class E5--><a href=\"psysml:299c2c32-5ec1-43b2-a066-b7748b01150c\" target=\"_top\" title=\"psysml:299c2c32-5ec1-43b2-a066-b7748b01150c\" xlink:actuate=\"onRequest\" xlink:href=\"psysml:299c2c32-5ec1-43b2-a066-b7748b01150c\" xlink:show=\"new\" xlink:title=\"psysml:299c2c32-5ec1-43b2-a066-b7748b01150c\" xlink:type=\"simple\"><rect fill=\"#FFFFFF\" height=\"45.9375\" id=\"E5\" style=\"stroke: #383838; stroke-width: 1.5;\" width=\"66\" x=\"32\" y=\"359\"/><text fill=\"#000000\" font-family=\"sans-serif\" font-size=\"12\" font-style=\"italic\" lengthAdjust=\"spacingAndGlyphs\" textLength=\"64\" x=\"33\" y=\"375.1387\">«part def»</text><text fill=\"#000000\" font-family=\"sans-serif\" font-size=\"12\" lengthAdjust=\"spacingAndGlyphs\" textLength=\"8\" x=\"61\" y=\"389.1074\">A</text><line style=\"stroke: #383838; stroke-width: 1.5;\" x1=\"33\" x2=\"97\" y1=\"396.9375\" y2=\"396.9375\"/></a><!--MD5=[60a26617385b1d2d0262a64233df1f8d]\n",
       "class E6--><a href=\"psysml:31dec55f-8acf-4d42-bd51-f4047894820c\" target=\"_top\" title=\"psysml:31dec55f-8acf-4d42-bd51-f4047894820c\" xlink:actuate=\"onRequest\" xlink:href=\"psysml:31dec55f-8acf-4d42-bd51-f4047894820c\" xlink:show=\"new\" xlink:title=\"psysml:31dec55f-8acf-4d42-bd51-f4047894820c\" xlink:type=\"simple\"><rect fill=\"#FFFFFF\" height=\"45.9375\" id=\"E6\" rx=\"10\" ry=\"10\" style=\"stroke: #383838; stroke-width: 1.5;\" width=\"42\" x=\"44\" y=\"465\"/><text fill=\"#000000\" font-family=\"sans-serif\" font-size=\"12\" font-style=\"italic\" lengthAdjust=\"spacingAndGlyphs\" textLength=\"40\" x=\"45\" y=\"481.1387\">«part»</text><text fill=\"#000000\" font-family=\"sans-serif\" font-size=\"12\" lengthAdjust=\"spacingAndGlyphs\" textLength=\"8\" x=\"61\" y=\"495.1074\">g</text><line style=\"stroke: #383838; stroke-width: 1.5;\" x1=\"45\" x2=\"85\" y1=\"502.9375\" y2=\"502.9375\"/></a><!--MD5=[2156ba9850f5573cc1fc38a6a4b2f02b]\n",
       "class E7--><a href=\"psysml:e57a8ff4-b454-49af-9671-50f81189572a\" target=\"_top\" title=\"psysml:e57a8ff4-b454-49af-9671-50f81189572a\" xlink:actuate=\"onRequest\" xlink:href=\"psysml:e57a8ff4-b454-49af-9671-50f81189572a\" xlink:show=\"new\" xlink:title=\"psysml:e57a8ff4-b454-49af-9671-50f81189572a\" xlink:type=\"simple\"><rect fill=\"#FFFFFF\" height=\"45.9375\" id=\"E7\" style=\"stroke: #383838; stroke-width: 1.5;\" width=\"66\" x=\"64\" y=\"147\"/><text fill=\"#000000\" font-family=\"sans-serif\" font-size=\"12\" font-style=\"italic\" lengthAdjust=\"spacingAndGlyphs\" textLength=\"64\" x=\"65\" y=\"163.1387\">«part def»</text><text fill=\"#000000\" font-family=\"sans-serif\" font-size=\"12\" lengthAdjust=\"spacingAndGlyphs\" textLength=\"8\" x=\"93\" y=\"177.1074\">B</text><line style=\"stroke: #383838; stroke-width: 1.5;\" x1=\"65\" x2=\"129\" y1=\"184.9375\" y2=\"184.9375\"/></a><!--MD5=[b9389687b975829384b498ac4b7476b2]\n",
       "class E8--><a href=\"psysml:ae9b8861-e9cc-45e7-97b3-375fd90ac7d9\" target=\"_top\" title=\"psysml:ae9b8861-e9cc-45e7-97b3-375fd90ac7d9\" xlink:actuate=\"onRequest\" xlink:href=\"psysml:ae9b8861-e9cc-45e7-97b3-375fd90ac7d9\" xlink:show=\"new\" xlink:title=\"psysml:ae9b8861-e9cc-45e7-97b3-375fd90ac7d9\" xlink:type=\"simple\"><rect fill=\"#FFFFFF\" height=\"45.9375\" id=\"E8\" rx=\"10\" ry=\"10\" style=\"stroke: #383838; stroke-width: 1.5;\" width=\"42\" x=\"109\" y=\"253\"/><text fill=\"#000000\" font-family=\"sans-serif\" font-size=\"12\" font-style=\"italic\" lengthAdjust=\"spacingAndGlyphs\" textLength=\"40\" x=\"110\" y=\"269.1387\">«part»</text><text fill=\"#000000\" font-family=\"sans-serif\" font-size=\"12\" lengthAdjust=\"spacingAndGlyphs\" textLength=\"19\" x=\"120.5\" y=\"283.1074\">f: F</text><line style=\"stroke: #383838; stroke-width: 1.5;\" x1=\"110\" x2=\"150\" y1=\"290.9375\" y2=\"290.9375\"/></a><!--MD5=[fd4143e9d270a159db93a4ea2a975926]\n",
       "class E9--><a href=\"psysml:d620b19b-a1e2-497d-8cad-3b2dc38fedc0\" target=\"_top\" title=\"psysml:d620b19b-a1e2-497d-8cad-3b2dc38fedc0\" xlink:actuate=\"onRequest\" xlink:href=\"psysml:d620b19b-a1e2-497d-8cad-3b2dc38fedc0\" xlink:show=\"new\" xlink:title=\"psysml:d620b19b-a1e2-497d-8cad-3b2dc38fedc0\" xlink:type=\"simple\"><rect fill=\"#FFFFFF\" height=\"45.9375\" id=\"E9\" rx=\"10\" ry=\"10\" style=\"stroke: #383838; stroke-width: 1.5;\" width=\"42\" x=\"32\" y=\"253\"/><text fill=\"#000000\" font-family=\"sans-serif\" font-size=\"12\" font-style=\"italic\" lengthAdjust=\"spacingAndGlyphs\" textLength=\"40\" x=\"33\" y=\"269.1387\">«part»</text><text fill=\"#000000\" font-family=\"sans-serif\" font-size=\"12\" lengthAdjust=\"spacingAndGlyphs\" textLength=\"24\" x=\"41\" y=\"283.1074\">a: A</text><line style=\"stroke: #383838; stroke-width: 1.5;\" x1=\"33\" x2=\"73\" y1=\"290.9375\" y2=\"290.9375\"/></a><!--MD5=[96f4274e9e20536e775497830990834d]\n",
       "class E10--><a href=\"psysml:f9a1a989-561d-4119-971e-8ebceafa94b4\" target=\"_top\" title=\"psysml:f9a1a989-561d-4119-971e-8ebceafa94b4\" xlink:actuate=\"onRequest\" xlink:href=\"psysml:f9a1a989-561d-4119-971e-8ebceafa94b4\" xlink:show=\"new\" xlink:title=\"psysml:f9a1a989-561d-4119-971e-8ebceafa94b4\" xlink:type=\"simple\"><rect fill=\"#FFFFFF\" height=\"45.9375\" id=\"E10\" rx=\"10\" ry=\"10\" style=\"stroke: #383838; stroke-width: 1.5;\" width=\"42\" x=\"76\" y=\"41\"/><text fill=\"#000000\" font-family=\"sans-serif\" font-size=\"12\" font-style=\"italic\" lengthAdjust=\"spacingAndGlyphs\" textLength=\"40\" x=\"77\" y=\"57.1387\">«part»</text><text fill=\"#000000\" font-family=\"sans-serif\" font-size=\"12\" lengthAdjust=\"spacingAndGlyphs\" textLength=\"24\" x=\"85\" y=\"71.1074\">b: B</text><line style=\"stroke: #383838; stroke-width: 1.5;\" x1=\"77\" x2=\"117\" y1=\"78.9375\" y2=\"78.9375\"/></a><!--MD5=[209b3feb70ccb6233bfe1053d122c12c]\n",
       "reverse link E2 to E3--><a href=\"psysml:5ee10b2b-55c1-4a08-a13b-bdb74e3f50e5\" target=\"_top\" title=\"psysml:5ee10b2b-55c1-4a08-a13b-bdb74e3f50e5\" xlink:actuate=\"onRequest\" xlink:href=\"psysml:5ee10b2b-55c1-4a08-a13b-bdb74e3f50e5\" xlink:show=\"new\" xlink:title=\"psysml:5ee10b2b-55c1-4a08-a13b-bdb74e3f50e5\" xlink:type=\"simple\"><path d=\"M180,418.44 C180,433.87 180,451.47 180,464.98 \" fill=\"none\" id=\"E2&lt;-E3\" style=\"stroke: #383838; stroke-width: 1.0;\"/><polygon fill=\"#383838\" points=\"180,405.06,176,411.06,180,417.06,184,411.06,180,405.06\" style=\"stroke: #383838; stroke-width: 1.0;\"/></a><!--MD5=[185131fc0dcab0a4505a2ebe144e961b]\n",
       "link E4 to E2--><a href=\"psysml:c4c1c0e2-eca3-4dc3-a203-c30912c3ab2b\" target=\"_top\" title=\"psysml:c4c1c0e2-eca3-4dc3-a203-c30912c3ab2b\" xlink:actuate=\"onRequest\" xlink:href=\"psysml:c4c1c0e2-eca3-4dc3-a203-c30912c3ab2b\" xlink:show=\"new\" xlink:title=\"psysml:c4c1c0e2-eca3-4dc3-a203-c30912c3ab2b\" xlink:type=\"simple\"><path d=\"M201.27,299.06 C198.23,310.78 194.39,325.57 190.81,339.36 \" fill=\"none\" id=\"E4-&gt;E2\" style=\"stroke: #383838; stroke-width: 1.0;\"/><polygon fill=\"#FFFFFF\" points=\"185.72,358.98,183.7221,338.8303,197.2724,342.3504,185.72,358.98\" style=\"stroke: #383838; stroke-width: 1.0;\"/><ellipse cx=\"187.091\" cy=\"333.8163\" fill=\"#383838\" rx=\"2\" ry=\"2\" style=\"stroke: #383838; stroke-width: 1.0;\"/><ellipse cx=\"196.7698\" cy=\"336.3307\" fill=\"#383838\" rx=\"2\" ry=\"2\" style=\"stroke: #383838; stroke-width: 1.0;\"/></a><!--MD5=[85d356282659285ab4b2cfe2f634dd2b]\n",
       "reverse link E5 to E6--><a href=\"psysml:93463b7d-149f-4a15-b84b-177a9e530eda\" target=\"_top\" title=\"psysml:93463b7d-149f-4a15-b84b-177a9e530eda\" xlink:actuate=\"onRequest\" xlink:href=\"psysml:93463b7d-149f-4a15-b84b-177a9e530eda\" xlink:show=\"new\" xlink:title=\"psysml:93463b7d-149f-4a15-b84b-177a9e530eda\" xlink:type=\"simple\"><path d=\"M65,418.44 C65,433.87 65,451.47 65,464.98 \" fill=\"none\" id=\"E5&lt;-E6\" style=\"stroke: #383838; stroke-width: 1.0;\"/><polygon fill=\"#383838\" points=\"65,405.06,61,411.06,65,417.06,69,411.06,65,405.06\" style=\"stroke: #383838; stroke-width: 1.0;\"/></a><!--MD5=[dc164f5e8a733ab456ef1add180e9e34]\n",
       "reverse link E7 to E8--><a href=\"psysml:de6f8f38-3125-456b-a954-15a696931b63\" target=\"_top\" title=\"psysml:de6f8f38-3125-456b-a954-15a696931b63\" xlink:actuate=\"onRequest\" xlink:href=\"psysml:de6f8f38-3125-456b-a954-15a696931b63\" xlink:show=\"new\" xlink:title=\"psysml:de6f8f38-3125-456b-a954-15a696931b63\" xlink:type=\"simple\"><path d=\"M107.95,205.49 C112.91,221.15 118.64,239.19 123.01,252.98 \" fill=\"none\" id=\"E7&lt;-E8\" style=\"stroke: #383838; stroke-width: 1.0;\"/><polygon fill=\"#383838\" points=\"104,193.06,101.9989,199.9879,107.6243,204.4996,109.6253,197.5717,104,193.06\" style=\"stroke: #383838; stroke-width: 1.0;\"/></a><!--MD5=[f1f3f9f2fc535e6147756cb86a7f2e32]\n",
       "link E8 to E2--><a href=\"psysml:536a95df-7241-4403-bcab-1aa9fe7a4b7d\" target=\"_top\" title=\"psysml:536a95df-7241-4403-bcab-1aa9fe7a4b7d\" xlink:actuate=\"onRequest\" xlink:href=\"psysml:536a95df-7241-4403-bcab-1aa9fe7a4b7d\" xlink:show=\"new\" xlink:title=\"psysml:536a95df-7241-4403-bcab-1aa9fe7a4b7d\" xlink:type=\"simple\"><path d=\"M140.6,299.06 C146.44,311.19 153.86,326.62 160.68,340.82 \" fill=\"none\" id=\"E8-&gt;E2\" style=\"stroke: #383838; stroke-width: 1.0;\"/><polygon fill=\"#FFFFFF\" points=\"169.41,358.98,154.8709,344.8869,167.4894,338.8228,169.41,358.98\" style=\"stroke: #383838; stroke-width: 1.0;\"/><ellipse cx=\"154.2046\" cy=\"338.8831\" fill=\"#383838\" rx=\"2\" ry=\"2\" style=\"stroke: #383838; stroke-width: 1.0;\"/><ellipse cx=\"163.2178\" cy=\"334.5516\" fill=\"#383838\" rx=\"2\" ry=\"2\" style=\"stroke: #383838; stroke-width: 1.0;\"/></a><!--MD5=[e4a10ef82d0e328e31cac39a31e58dda]\n",
       "reverse link E7 to E9--><a href=\"psysml:2c441a1b-e979-4985-bcd5-61f8c13172d0\" target=\"_top\" title=\"psysml:2c441a1b-e979-4985-bcd5-61f8c13172d0\" xlink:actuate=\"onRequest\" xlink:href=\"psysml:2c441a1b-e979-4985-bcd5-61f8c13172d0\" xlink:show=\"new\" xlink:title=\"psysml:2c441a1b-e979-4985-bcd5-61f8c13172d0\" xlink:type=\"simple\"><path d=\"M82.41,205.49 C75.78,221.15 68.15,239.19 62.32,252.98 \" fill=\"none\" id=\"E7&lt;-E9\" style=\"stroke: #383838; stroke-width: 1.0;\"/><polygon fill=\"#383838\" points=\"87.67,193.06,81.6505,197.0305,83.0003,204.1142,89.0199,200.1436,87.67,193.06\" style=\"stroke: #383838; stroke-width: 1.0;\"/></a><!--MD5=[bfc3ddf2e613be37104f658f09af896c]\n",
       "link E9 to E5--><a href=\"psysml:fc8a5d52-f7b0-45e1-9a4f-1e932b65f071\" target=\"_top\" title=\"psysml:fc8a5d52-f7b0-45e1-9a4f-1e932b65f071\" xlink:actuate=\"onRequest\" xlink:href=\"psysml:fc8a5d52-f7b0-45e1-9a4f-1e932b65f071\" xlink:show=\"new\" xlink:title=\"psysml:fc8a5d52-f7b0-45e1-9a4f-1e932b65f071\" xlink:type=\"simple\"><path d=\"M55.54,299.06 C56.88,310.64 58.56,325.23 60.14,338.87 \" fill=\"none\" id=\"E9-&gt;E5\" style=\"stroke: #383838; stroke-width: 1.0;\"/><polygon fill=\"#FFFFFF\" points=\"62.46,358.98,53.3347,340.9044,67.243,339.3046,62.46,358.98\" style=\"stroke: #383838; stroke-width: 1.0;\"/><ellipse cx=\"54.6702\" cy=\"335.0132\" fill=\"#383838\" rx=\"2\" ry=\"2\" style=\"stroke: #383838; stroke-width: 1.0;\"/><ellipse cx=\"64.6047\" cy=\"333.8704\" fill=\"#383838\" rx=\"2\" ry=\"2\" style=\"stroke: #383838; stroke-width: 1.0;\"/></a><!--MD5=[a919e0967d6f3de553dc51b9865a1d6d]\n",
       "link E10 to E7--><a href=\"psysml:2e3833d6-0a03-41e5-9593-325ba84dff2e\" target=\"_top\" title=\"psysml:2e3833d6-0a03-41e5-9593-325ba84dff2e\" xlink:actuate=\"onRequest\" xlink:href=\"psysml:2e3833d6-0a03-41e5-9593-325ba84dff2e\" xlink:show=\"new\" xlink:title=\"psysml:2e3833d6-0a03-41e5-9593-325ba84dff2e\" xlink:type=\"simple\"><path d=\"M97,87.06 C97,98.64 97,113.23 97,126.87 \" fill=\"none\" id=\"E10-&gt;E7\" style=\"stroke: #383838; stroke-width: 1.0;\"/><polygon fill=\"#FFFFFF\" points=\"97,146.98,90,127.98,104,127.98,97,146.98\" style=\"stroke: #383838; stroke-width: 1.0;\"/><ellipse cx=\"92\" cy=\"122.28\" fill=\"#383838\" rx=\"2\" ry=\"2\" style=\"stroke: #383838; stroke-width: 1.0;\"/><ellipse cx=\"102\" cy=\"122.28\" fill=\"#383838\" rx=\"2\" ry=\"2\" style=\"stroke: #383838; stroke-width: 1.0;\"/></a><!--MD5=[9aef9f4e40f0b9f5ae7c2d7f91db51af]\n",
       "@startuml\r\n",
       " skinparam monochrome true\r\n",
       "skinparam classbackgroundcolor white\r\n",
       "skinparam shadowing false\r\n",
       "skinparam wrapWidth 300\r\n",
       "hide circle\r\n",
       "\r\n",
       "package \"Q\" as E1  [[psysml:427a19be-4ba6-433c-b392-6823bf74d458 ]]  {\r\n",
       "comp def \"F\" as E2  <<(T,blue) part def>> [[psysml:027effde-34e9-4491-ba0c-9f82cacaad23 ]] {\r\n",
       "}\r\n",
       "comp usage \"a\" as E3  <<(T,blue) part>> [[psysml:241a9b2a-e9cc-4b19-964a-2424b61c0639 ]] {\r\n",
       "}\r\n",
       "comp usage \"f: F\" as E4  <<(T,blue) part>> [[psysml:40835df5-3f1f-4886-9446-1465d21ad736 ]] {\r\n",
       "}\r\n",
       "comp def \"A\" as E5  <<(T,blue) part def>> [[psysml:299c2c32-5ec1-43b2-a066-b7748b01150c ]] {\r\n",
       "}\r\n",
       "comp usage \"g\" as E6  <<(T,blue) part>> [[psysml:31dec55f-8acf-4d42-bd51-f4047894820c ]] {\r\n",
       "}\r\n",
       "comp def \"B\" as E7  <<(T,blue) part def>> [[psysml:e57a8ff4-b454-49af-9671-50f81189572a ]] {\r\n",
       "}\r\n",
       "comp usage \"f: F\" as E8  <<(T,blue) part>> [[psysml:ae9b8861-e9cc-45e7-97b3-375fd90ac7d9 ]] {\r\n",
       "}\r\n",
       "comp usage \"a: A\" as E9  <<(T,blue) part>> [[psysml:d620b19b-a1e2-497d-8cad-3b2dc38fedc0 ]] {\r\n",
       "}\r\n",
       "comp usage \"b: B\" as E10  <<(T,blue) part>> [[psysml:f9a1a989-561d-4119-971e-8ebceafa94b4 ]] {\r\n",
       "}\r\n",
       "E2 *- - E3 [[psysml:5ee10b2b-55c1-4a08-a13b-bdb74e3f50e5 ]] \r\n",
       "E4 - -:|> E2 [[psysml:c4c1c0e2-eca3-4dc3-a203-c30912c3ab2b ]] \r\n",
       "E5 *- - E6 [[psysml:93463b7d-149f-4a15-b84b-177a9e530eda ]] \r\n",
       "E7 *- - E8 [[psysml:de6f8f38-3125-456b-a954-15a696931b63 ]] \r\n",
       "E8 - -:|> E2 [[psysml:536a95df-7241-4403-bcab-1aa9fe7a4b7d ]] \r\n",
       "E7 *- - E9 [[psysml:2c441a1b-e979-4985-bcd5-61f8c13172d0 ]] \r\n",
       "E9 - -:|> E5 [[psysml:fc8a5d52-f7b0-45e1-9a4f-1e932b65f071 ]] \r\n",
       "E10 - -:|> E7 [[psysml:2e3833d6-0a03-41e5-9593-325ba84dff2e ]] \r\n",
       "}\r\n",
       "@enduml\r\n",
       "\n",
       "PlantUML version 1.2020.13(Sat Jun 13 12:26:38 UTC 2020)\n",
       "(EPL source distribution)\n",
       "Java Runtime: OpenJDK Runtime Environment\n",
       "JVM: OpenJDK 64-Bit Server VM\n",
       "Default Encoding: UTF-8\n",
       "Language: en\n",
       "Country: null\n",
       "--></g></svg>"
      ]
     },
     "execution_count": 7,
     "metadata": {},
     "output_type": "execute_result"
    }
   ],
   "source": [
    "%viz --style=\"COMPTREE\" --view=\"Sequence\" \"Q\""
   ]
  },
  {
   "cell_type": "code",
   "execution_count": 8,
   "id": "0ae9b836",
   "metadata": {
    "execution": {
     "iopub.execute_input": "2021-06-30T09:23:30.386343Z",
     "iopub.status.busy": "2021-06-30T09:23:30.382618Z",
     "iopub.status.idle": "2021-06-30T09:23:30.536516Z",
     "shell.execute_reply": "2021-06-30T09:23:30.534311Z"
    }
   },
   "outputs": [
    {
     "data": {
      "image/svg+xml": [
       "<?xml version=\"1.0\" encoding=\"UTF-8\" standalone=\"no\"?><svg xmlns=\"http://www.w3.org/2000/svg\" xmlns:xlink=\"http://www.w3.org/1999/xlink\" contentScriptType=\"application/ecmascript\" contentStyleType=\"text/css\" height=\"539px\" preserveAspectRatio=\"none\" style=\"width:266px;height:539px;\" version=\"1.1\" viewBox=\"0 0 266 539\" width=\"266px\" zoomAndPan=\"magnify\"><defs/><g><!--MD5=[fbc87193dbaf4d95561dea2c320d4a47]\n",
       "cluster E1--><a href=\"psysml:427a19be-4ba6-433c-b392-6823bf74d458\" target=\"_top\" title=\"psysml:427a19be-4ba6-433c-b392-6823bf74d458\" xlink:actuate=\"onRequest\" xlink:href=\"psysml:427a19be-4ba6-433c-b392-6823bf74d458\" xlink:show=\"new\" xlink:title=\"psysml:427a19be-4ba6-433c-b392-6823bf74d458\" xlink:type=\"simple\"><polygon fill=\"#FFFFFF\" points=\"16,6,34,6,41,28.2969,244,28.2969,244,527,16,527,16,6\" style=\"stroke: #000000; stroke-width: 1.5;\"/><line style=\"stroke: #000000; stroke-width: 1.5;\" x1=\"16\" x2=\"41\" y1=\"28.2969\" y2=\"28.2969\"/><text fill=\"#000000\" font-family=\"sans-serif\" font-size=\"14\" font-weight=\"bold\" lengthAdjust=\"spacingAndGlyphs\" textLength=\"12\" x=\"20\" y=\"20.9951\">Q</text></a><!--MD5=[b4997ac47864f28c2f74865a473b2911]\n",
       "class E2--><a href=\"psysml:027effde-34e9-4491-ba0c-9f82cacaad23\" target=\"_top\" title=\"psysml:027effde-34e9-4491-ba0c-9f82cacaad23\" xlink:actuate=\"onRequest\" xlink:href=\"psysml:027effde-34e9-4491-ba0c-9f82cacaad23\" xlink:show=\"new\" xlink:title=\"psysml:027effde-34e9-4491-ba0c-9f82cacaad23\" xlink:type=\"simple\"><rect fill=\"#FFFFFF\" height=\"45.9375\" id=\"E2\" style=\"stroke: #383838; stroke-width: 1.5;\" width=\"66\" x=\"147\" y=\"359\"/><text fill=\"#000000\" font-family=\"sans-serif\" font-size=\"12\" font-style=\"italic\" lengthAdjust=\"spacingAndGlyphs\" textLength=\"64\" x=\"148\" y=\"375.1387\">«part def»</text><text fill=\"#000000\" font-family=\"sans-serif\" font-size=\"12\" lengthAdjust=\"spacingAndGlyphs\" textLength=\"7\" x=\"176.5\" y=\"389.1074\">F</text><line style=\"stroke: #383838; stroke-width: 1.5;\" x1=\"148\" x2=\"212\" y1=\"396.9375\" y2=\"396.9375\"/></a><!--MD5=[09b614a08d8cba4a07c9adeb5e0fee81]\n",
       "class E3--><a href=\"psysml:241a9b2a-e9cc-4b19-964a-2424b61c0639\" target=\"_top\" title=\"psysml:241a9b2a-e9cc-4b19-964a-2424b61c0639\" xlink:actuate=\"onRequest\" xlink:href=\"psysml:241a9b2a-e9cc-4b19-964a-2424b61c0639\" xlink:show=\"new\" xlink:title=\"psysml:241a9b2a-e9cc-4b19-964a-2424b61c0639\" xlink:type=\"simple\"><rect fill=\"#FFFFFF\" height=\"45.9375\" id=\"E3\" rx=\"10\" ry=\"10\" style=\"stroke: #383838; stroke-width: 1.5;\" width=\"42\" x=\"159\" y=\"465\"/><text fill=\"#000000\" font-family=\"sans-serif\" font-size=\"12\" font-style=\"italic\" lengthAdjust=\"spacingAndGlyphs\" textLength=\"40\" x=\"160\" y=\"481.1387\">«part»</text><text fill=\"#000000\" font-family=\"sans-serif\" font-size=\"12\" lengthAdjust=\"spacingAndGlyphs\" textLength=\"8\" x=\"176\" y=\"495.1074\">a</text><line style=\"stroke: #383838; stroke-width: 1.5;\" x1=\"160\" x2=\"200\" y1=\"502.9375\" y2=\"502.9375\"/></a><!--MD5=[ebbe1d658d1005bcc118a6aa81145e00]\n",
       "class E4--><a href=\"psysml:40835df5-3f1f-4886-9446-1465d21ad736\" target=\"_top\" title=\"psysml:40835df5-3f1f-4886-9446-1465d21ad736\" xlink:actuate=\"onRequest\" xlink:href=\"psysml:40835df5-3f1f-4886-9446-1465d21ad736\" xlink:show=\"new\" xlink:title=\"psysml:40835df5-3f1f-4886-9446-1465d21ad736\" xlink:type=\"simple\"><rect fill=\"#FFFFFF\" height=\"45.9375\" id=\"E4\" rx=\"10\" ry=\"10\" style=\"stroke: #383838; stroke-width: 1.5;\" width=\"42\" x=\"186\" y=\"253\"/><text fill=\"#000000\" font-family=\"sans-serif\" font-size=\"12\" font-style=\"italic\" lengthAdjust=\"spacingAndGlyphs\" textLength=\"40\" x=\"187\" y=\"269.1387\">«part»</text><text fill=\"#000000\" font-family=\"sans-serif\" font-size=\"12\" lengthAdjust=\"spacingAndGlyphs\" textLength=\"19\" x=\"197.5\" y=\"283.1074\">f: F</text><line style=\"stroke: #383838; stroke-width: 1.5;\" x1=\"187\" x2=\"227\" y1=\"290.9375\" y2=\"290.9375\"/></a><!--MD5=[270fce915f116d4de14055a7c1d9a0f3]\n",
       "class E5--><a href=\"psysml:299c2c32-5ec1-43b2-a066-b7748b01150c\" target=\"_top\" title=\"psysml:299c2c32-5ec1-43b2-a066-b7748b01150c\" xlink:actuate=\"onRequest\" xlink:href=\"psysml:299c2c32-5ec1-43b2-a066-b7748b01150c\" xlink:show=\"new\" xlink:title=\"psysml:299c2c32-5ec1-43b2-a066-b7748b01150c\" xlink:type=\"simple\"><rect fill=\"#FFFFFF\" height=\"45.9375\" id=\"E5\" style=\"stroke: #383838; stroke-width: 1.5;\" width=\"66\" x=\"32\" y=\"359\"/><text fill=\"#000000\" font-family=\"sans-serif\" font-size=\"12\" font-style=\"italic\" lengthAdjust=\"spacingAndGlyphs\" textLength=\"64\" x=\"33\" y=\"375.1387\">«part def»</text><text fill=\"#000000\" font-family=\"sans-serif\" font-size=\"12\" lengthAdjust=\"spacingAndGlyphs\" textLength=\"8\" x=\"61\" y=\"389.1074\">A</text><line style=\"stroke: #383838; stroke-width: 1.5;\" x1=\"33\" x2=\"97\" y1=\"396.9375\" y2=\"396.9375\"/></a><!--MD5=[60a26617385b1d2d0262a64233df1f8d]\n",
       "class E6--><a href=\"psysml:31dec55f-8acf-4d42-bd51-f4047894820c\" target=\"_top\" title=\"psysml:31dec55f-8acf-4d42-bd51-f4047894820c\" xlink:actuate=\"onRequest\" xlink:href=\"psysml:31dec55f-8acf-4d42-bd51-f4047894820c\" xlink:show=\"new\" xlink:title=\"psysml:31dec55f-8acf-4d42-bd51-f4047894820c\" xlink:type=\"simple\"><rect fill=\"#FFFFFF\" height=\"45.9375\" id=\"E6\" rx=\"10\" ry=\"10\" style=\"stroke: #383838; stroke-width: 1.5;\" width=\"42\" x=\"44\" y=\"465\"/><text fill=\"#000000\" font-family=\"sans-serif\" font-size=\"12\" font-style=\"italic\" lengthAdjust=\"spacingAndGlyphs\" textLength=\"40\" x=\"45\" y=\"481.1387\">«part»</text><text fill=\"#000000\" font-family=\"sans-serif\" font-size=\"12\" lengthAdjust=\"spacingAndGlyphs\" textLength=\"8\" x=\"61\" y=\"495.1074\">g</text><line style=\"stroke: #383838; stroke-width: 1.5;\" x1=\"45\" x2=\"85\" y1=\"502.9375\" y2=\"502.9375\"/></a><!--MD5=[2156ba9850f5573cc1fc38a6a4b2f02b]\n",
       "class E7--><a href=\"psysml:e57a8ff4-b454-49af-9671-50f81189572a\" target=\"_top\" title=\"psysml:e57a8ff4-b454-49af-9671-50f81189572a\" xlink:actuate=\"onRequest\" xlink:href=\"psysml:e57a8ff4-b454-49af-9671-50f81189572a\" xlink:show=\"new\" xlink:title=\"psysml:e57a8ff4-b454-49af-9671-50f81189572a\" xlink:type=\"simple\"><rect fill=\"#FFFFFF\" height=\"45.9375\" id=\"E7\" style=\"stroke: #383838; stroke-width: 1.5;\" width=\"66\" x=\"64\" y=\"147\"/><text fill=\"#000000\" font-family=\"sans-serif\" font-size=\"12\" font-style=\"italic\" lengthAdjust=\"spacingAndGlyphs\" textLength=\"64\" x=\"65\" y=\"163.1387\">«part def»</text><text fill=\"#000000\" font-family=\"sans-serif\" font-size=\"12\" lengthAdjust=\"spacingAndGlyphs\" textLength=\"8\" x=\"93\" y=\"177.1074\">B</text><line style=\"stroke: #383838; stroke-width: 1.5;\" x1=\"65\" x2=\"129\" y1=\"184.9375\" y2=\"184.9375\"/></a><!--MD5=[b9389687b975829384b498ac4b7476b2]\n",
       "class E8--><a href=\"psysml:ae9b8861-e9cc-45e7-97b3-375fd90ac7d9\" target=\"_top\" title=\"psysml:ae9b8861-e9cc-45e7-97b3-375fd90ac7d9\" xlink:actuate=\"onRequest\" xlink:href=\"psysml:ae9b8861-e9cc-45e7-97b3-375fd90ac7d9\" xlink:show=\"new\" xlink:title=\"psysml:ae9b8861-e9cc-45e7-97b3-375fd90ac7d9\" xlink:type=\"simple\"><rect fill=\"#FFFFFF\" height=\"45.9375\" id=\"E8\" rx=\"10\" ry=\"10\" style=\"stroke: #383838; stroke-width: 1.5;\" width=\"42\" x=\"109\" y=\"253\"/><text fill=\"#000000\" font-family=\"sans-serif\" font-size=\"12\" font-style=\"italic\" lengthAdjust=\"spacingAndGlyphs\" textLength=\"40\" x=\"110\" y=\"269.1387\">«part»</text><text fill=\"#000000\" font-family=\"sans-serif\" font-size=\"12\" lengthAdjust=\"spacingAndGlyphs\" textLength=\"19\" x=\"120.5\" y=\"283.1074\">f: F</text><line style=\"stroke: #383838; stroke-width: 1.5;\" x1=\"110\" x2=\"150\" y1=\"290.9375\" y2=\"290.9375\"/></a><!--MD5=[fd4143e9d270a159db93a4ea2a975926]\n",
       "class E9--><a href=\"psysml:d620b19b-a1e2-497d-8cad-3b2dc38fedc0\" target=\"_top\" title=\"psysml:d620b19b-a1e2-497d-8cad-3b2dc38fedc0\" xlink:actuate=\"onRequest\" xlink:href=\"psysml:d620b19b-a1e2-497d-8cad-3b2dc38fedc0\" xlink:show=\"new\" xlink:title=\"psysml:d620b19b-a1e2-497d-8cad-3b2dc38fedc0\" xlink:type=\"simple\"><rect fill=\"#FFFFFF\" height=\"45.9375\" id=\"E9\" rx=\"10\" ry=\"10\" style=\"stroke: #383838; stroke-width: 1.5;\" width=\"42\" x=\"32\" y=\"253\"/><text fill=\"#000000\" font-family=\"sans-serif\" font-size=\"12\" font-style=\"italic\" lengthAdjust=\"spacingAndGlyphs\" textLength=\"40\" x=\"33\" y=\"269.1387\">«part»</text><text fill=\"#000000\" font-family=\"sans-serif\" font-size=\"12\" lengthAdjust=\"spacingAndGlyphs\" textLength=\"24\" x=\"41\" y=\"283.1074\">a: A</text><line style=\"stroke: #383838; stroke-width: 1.5;\" x1=\"33\" x2=\"73\" y1=\"290.9375\" y2=\"290.9375\"/></a><!--MD5=[96f4274e9e20536e775497830990834d]\n",
       "class E10--><a href=\"psysml:f9a1a989-561d-4119-971e-8ebceafa94b4\" target=\"_top\" title=\"psysml:f9a1a989-561d-4119-971e-8ebceafa94b4\" xlink:actuate=\"onRequest\" xlink:href=\"psysml:f9a1a989-561d-4119-971e-8ebceafa94b4\" xlink:show=\"new\" xlink:title=\"psysml:f9a1a989-561d-4119-971e-8ebceafa94b4\" xlink:type=\"simple\"><rect fill=\"#FFFFFF\" height=\"45.9375\" id=\"E10\" rx=\"10\" ry=\"10\" style=\"stroke: #383838; stroke-width: 1.5;\" width=\"42\" x=\"76\" y=\"41\"/><text fill=\"#000000\" font-family=\"sans-serif\" font-size=\"12\" font-style=\"italic\" lengthAdjust=\"spacingAndGlyphs\" textLength=\"40\" x=\"77\" y=\"57.1387\">«part»</text><text fill=\"#000000\" font-family=\"sans-serif\" font-size=\"12\" lengthAdjust=\"spacingAndGlyphs\" textLength=\"24\" x=\"85\" y=\"71.1074\">b: B</text><line style=\"stroke: #383838; stroke-width: 1.5;\" x1=\"77\" x2=\"117\" y1=\"78.9375\" y2=\"78.9375\"/></a><!--MD5=[209b3feb70ccb6233bfe1053d122c12c]\n",
       "reverse link E2 to E3--><a href=\"psysml:5ee10b2b-55c1-4a08-a13b-bdb74e3f50e5\" target=\"_top\" title=\"psysml:5ee10b2b-55c1-4a08-a13b-bdb74e3f50e5\" xlink:actuate=\"onRequest\" xlink:href=\"psysml:5ee10b2b-55c1-4a08-a13b-bdb74e3f50e5\" xlink:show=\"new\" xlink:title=\"psysml:5ee10b2b-55c1-4a08-a13b-bdb74e3f50e5\" xlink:type=\"simple\"><path d=\"M180,418.44 C180,433.87 180,451.47 180,464.98 \" fill=\"none\" id=\"E2&lt;-E3\" style=\"stroke: #383838; stroke-width: 1.0;\"/><polygon fill=\"#383838\" points=\"180,405.06,176,411.06,180,417.06,184,411.06,180,405.06\" style=\"stroke: #383838; stroke-width: 1.0;\"/></a><!--MD5=[185131fc0dcab0a4505a2ebe144e961b]\n",
       "link E4 to E2--><a href=\"psysml:c4c1c0e2-eca3-4dc3-a203-c30912c3ab2b\" target=\"_top\" title=\"psysml:c4c1c0e2-eca3-4dc3-a203-c30912c3ab2b\" xlink:actuate=\"onRequest\" xlink:href=\"psysml:c4c1c0e2-eca3-4dc3-a203-c30912c3ab2b\" xlink:show=\"new\" xlink:title=\"psysml:c4c1c0e2-eca3-4dc3-a203-c30912c3ab2b\" xlink:type=\"simple\"><path d=\"M201.27,299.06 C198.23,310.78 194.39,325.57 190.81,339.36 \" fill=\"none\" id=\"E4-&gt;E2\" style=\"stroke: #383838; stroke-width: 1.0;\"/><polygon fill=\"#FFFFFF\" points=\"185.72,358.98,183.7221,338.8303,197.2724,342.3504,185.72,358.98\" style=\"stroke: #383838; stroke-width: 1.0;\"/><ellipse cx=\"187.091\" cy=\"333.8163\" fill=\"#383838\" rx=\"2\" ry=\"2\" style=\"stroke: #383838; stroke-width: 1.0;\"/><ellipse cx=\"196.7698\" cy=\"336.3307\" fill=\"#383838\" rx=\"2\" ry=\"2\" style=\"stroke: #383838; stroke-width: 1.0;\"/></a><!--MD5=[85d356282659285ab4b2cfe2f634dd2b]\n",
       "reverse link E5 to E6--><a href=\"psysml:93463b7d-149f-4a15-b84b-177a9e530eda\" target=\"_top\" title=\"psysml:93463b7d-149f-4a15-b84b-177a9e530eda\" xlink:actuate=\"onRequest\" xlink:href=\"psysml:93463b7d-149f-4a15-b84b-177a9e530eda\" xlink:show=\"new\" xlink:title=\"psysml:93463b7d-149f-4a15-b84b-177a9e530eda\" xlink:type=\"simple\"><path d=\"M65,418.44 C65,433.87 65,451.47 65,464.98 \" fill=\"none\" id=\"E5&lt;-E6\" style=\"stroke: #383838; stroke-width: 1.0;\"/><polygon fill=\"#383838\" points=\"65,405.06,61,411.06,65,417.06,69,411.06,65,405.06\" style=\"stroke: #383838; stroke-width: 1.0;\"/></a><!--MD5=[dc164f5e8a733ab456ef1add180e9e34]\n",
       "reverse link E7 to E8--><a href=\"psysml:de6f8f38-3125-456b-a954-15a696931b63\" target=\"_top\" title=\"psysml:de6f8f38-3125-456b-a954-15a696931b63\" xlink:actuate=\"onRequest\" xlink:href=\"psysml:de6f8f38-3125-456b-a954-15a696931b63\" xlink:show=\"new\" xlink:title=\"psysml:de6f8f38-3125-456b-a954-15a696931b63\" xlink:type=\"simple\"><path d=\"M107.95,205.49 C112.91,221.15 118.64,239.19 123.01,252.98 \" fill=\"none\" id=\"E7&lt;-E8\" style=\"stroke: #383838; stroke-width: 1.0;\"/><polygon fill=\"#383838\" points=\"104,193.06,101.9989,199.9879,107.6243,204.4996,109.6253,197.5717,104,193.06\" style=\"stroke: #383838; stroke-width: 1.0;\"/></a><!--MD5=[f1f3f9f2fc535e6147756cb86a7f2e32]\n",
       "link E8 to E2--><a href=\"psysml:536a95df-7241-4403-bcab-1aa9fe7a4b7d\" target=\"_top\" title=\"psysml:536a95df-7241-4403-bcab-1aa9fe7a4b7d\" xlink:actuate=\"onRequest\" xlink:href=\"psysml:536a95df-7241-4403-bcab-1aa9fe7a4b7d\" xlink:show=\"new\" xlink:title=\"psysml:536a95df-7241-4403-bcab-1aa9fe7a4b7d\" xlink:type=\"simple\"><path d=\"M140.6,299.06 C146.44,311.19 153.86,326.62 160.68,340.82 \" fill=\"none\" id=\"E8-&gt;E2\" style=\"stroke: #383838; stroke-width: 1.0;\"/><polygon fill=\"#FFFFFF\" points=\"169.41,358.98,154.8709,344.8869,167.4894,338.8228,169.41,358.98\" style=\"stroke: #383838; stroke-width: 1.0;\"/><ellipse cx=\"154.2046\" cy=\"338.8831\" fill=\"#383838\" rx=\"2\" ry=\"2\" style=\"stroke: #383838; stroke-width: 1.0;\"/><ellipse cx=\"163.2178\" cy=\"334.5516\" fill=\"#383838\" rx=\"2\" ry=\"2\" style=\"stroke: #383838; stroke-width: 1.0;\"/></a><!--MD5=[e4a10ef82d0e328e31cac39a31e58dda]\n",
       "reverse link E7 to E9--><a href=\"psysml:2c441a1b-e979-4985-bcd5-61f8c13172d0\" target=\"_top\" title=\"psysml:2c441a1b-e979-4985-bcd5-61f8c13172d0\" xlink:actuate=\"onRequest\" xlink:href=\"psysml:2c441a1b-e979-4985-bcd5-61f8c13172d0\" xlink:show=\"new\" xlink:title=\"psysml:2c441a1b-e979-4985-bcd5-61f8c13172d0\" xlink:type=\"simple\"><path d=\"M82.41,205.49 C75.78,221.15 68.15,239.19 62.32,252.98 \" fill=\"none\" id=\"E7&lt;-E9\" style=\"stroke: #383838; stroke-width: 1.0;\"/><polygon fill=\"#383838\" points=\"87.67,193.06,81.6505,197.0305,83.0003,204.1142,89.0199,200.1436,87.67,193.06\" style=\"stroke: #383838; stroke-width: 1.0;\"/></a><!--MD5=[bfc3ddf2e613be37104f658f09af896c]\n",
       "link E9 to E5--><a href=\"psysml:fc8a5d52-f7b0-45e1-9a4f-1e932b65f071\" target=\"_top\" title=\"psysml:fc8a5d52-f7b0-45e1-9a4f-1e932b65f071\" xlink:actuate=\"onRequest\" xlink:href=\"psysml:fc8a5d52-f7b0-45e1-9a4f-1e932b65f071\" xlink:show=\"new\" xlink:title=\"psysml:fc8a5d52-f7b0-45e1-9a4f-1e932b65f071\" xlink:type=\"simple\"><path d=\"M55.54,299.06 C56.88,310.64 58.56,325.23 60.14,338.87 \" fill=\"none\" id=\"E9-&gt;E5\" style=\"stroke: #383838; stroke-width: 1.0;\"/><polygon fill=\"#FFFFFF\" points=\"62.46,358.98,53.3347,340.9044,67.243,339.3046,62.46,358.98\" style=\"stroke: #383838; stroke-width: 1.0;\"/><ellipse cx=\"54.6702\" cy=\"335.0132\" fill=\"#383838\" rx=\"2\" ry=\"2\" style=\"stroke: #383838; stroke-width: 1.0;\"/><ellipse cx=\"64.6047\" cy=\"333.8704\" fill=\"#383838\" rx=\"2\" ry=\"2\" style=\"stroke: #383838; stroke-width: 1.0;\"/></a><!--MD5=[a919e0967d6f3de553dc51b9865a1d6d]\n",
       "link E10 to E7--><a href=\"psysml:2e3833d6-0a03-41e5-9593-325ba84dff2e\" target=\"_top\" title=\"psysml:2e3833d6-0a03-41e5-9593-325ba84dff2e\" xlink:actuate=\"onRequest\" xlink:href=\"psysml:2e3833d6-0a03-41e5-9593-325ba84dff2e\" xlink:show=\"new\" xlink:title=\"psysml:2e3833d6-0a03-41e5-9593-325ba84dff2e\" xlink:type=\"simple\"><path d=\"M97,87.06 C97,98.64 97,113.23 97,126.87 \" fill=\"none\" id=\"E10-&gt;E7\" style=\"stroke: #383838; stroke-width: 1.0;\"/><polygon fill=\"#FFFFFF\" points=\"97,146.98,90,127.98,104,127.98,97,146.98\" style=\"stroke: #383838; stroke-width: 1.0;\"/><ellipse cx=\"92\" cy=\"122.28\" fill=\"#383838\" rx=\"2\" ry=\"2\" style=\"stroke: #383838; stroke-width: 1.0;\"/><ellipse cx=\"102\" cy=\"122.28\" fill=\"#383838\" rx=\"2\" ry=\"2\" style=\"stroke: #383838; stroke-width: 1.0;\"/></a><!--MD5=[9aef9f4e40f0b9f5ae7c2d7f91db51af]\n",
       "@startuml\r\n",
       " skinparam monochrome true\r\n",
       "skinparam classbackgroundcolor white\r\n",
       "skinparam shadowing false\r\n",
       "skinparam wrapWidth 300\r\n",
       "hide circle\r\n",
       "\r\n",
       "package \"Q\" as E1  [[psysml:427a19be-4ba6-433c-b392-6823bf74d458 ]]  {\r\n",
       "comp def \"F\" as E2  <<(T,blue) part def>> [[psysml:027effde-34e9-4491-ba0c-9f82cacaad23 ]] {\r\n",
       "}\r\n",
       "comp usage \"a\" as E3  <<(T,blue) part>> [[psysml:241a9b2a-e9cc-4b19-964a-2424b61c0639 ]] {\r\n",
       "}\r\n",
       "comp usage \"f: F\" as E4  <<(T,blue) part>> [[psysml:40835df5-3f1f-4886-9446-1465d21ad736 ]] {\r\n",
       "}\r\n",
       "comp def \"A\" as E5  <<(T,blue) part def>> [[psysml:299c2c32-5ec1-43b2-a066-b7748b01150c ]] {\r\n",
       "}\r\n",
       "comp usage \"g\" as E6  <<(T,blue) part>> [[psysml:31dec55f-8acf-4d42-bd51-f4047894820c ]] {\r\n",
       "}\r\n",
       "comp def \"B\" as E7  <<(T,blue) part def>> [[psysml:e57a8ff4-b454-49af-9671-50f81189572a ]] {\r\n",
       "}\r\n",
       "comp usage \"f: F\" as E8  <<(T,blue) part>> [[psysml:ae9b8861-e9cc-45e7-97b3-375fd90ac7d9 ]] {\r\n",
       "}\r\n",
       "comp usage \"a: A\" as E9  <<(T,blue) part>> [[psysml:d620b19b-a1e2-497d-8cad-3b2dc38fedc0 ]] {\r\n",
       "}\r\n",
       "comp usage \"b: B\" as E10  <<(T,blue) part>> [[psysml:f9a1a989-561d-4119-971e-8ebceafa94b4 ]] {\r\n",
       "}\r\n",
       "E2 *- - E3 [[psysml:5ee10b2b-55c1-4a08-a13b-bdb74e3f50e5 ]] \r\n",
       "E4 - -:|> E2 [[psysml:c4c1c0e2-eca3-4dc3-a203-c30912c3ab2b ]] \r\n",
       "E5 *- - E6 [[psysml:93463b7d-149f-4a15-b84b-177a9e530eda ]] \r\n",
       "E7 *- - E8 [[psysml:de6f8f38-3125-456b-a954-15a696931b63 ]] \r\n",
       "E8 - -:|> E2 [[psysml:536a95df-7241-4403-bcab-1aa9fe7a4b7d ]] \r\n",
       "E7 *- - E9 [[psysml:2c441a1b-e979-4985-bcd5-61f8c13172d0 ]] \r\n",
       "E9 - -:|> E5 [[psysml:fc8a5d52-f7b0-45e1-9a4f-1e932b65f071 ]] \r\n",
       "E10 - -:|> E7 [[psysml:2e3833d6-0a03-41e5-9593-325ba84dff2e ]] \r\n",
       "}\r\n",
       "@enduml\r\n",
       "\n",
       "PlantUML version 1.2020.13(Sat Jun 13 12:26:38 UTC 2020)\n",
       "(EPL source distribution)\n",
       "Java Runtime: OpenJDK Runtime Environment\n",
       "JVM: OpenJDK 64-Bit Server VM\n",
       "Default Encoding: UTF-8\n",
       "Language: en\n",
       "Country: null\n",
       "--></g></svg>"
      ]
     },
     "execution_count": 8,
     "metadata": {},
     "output_type": "execute_result"
    }
   ],
   "source": [
    "%viz --style=\"COMPTREE\" --view=\"MIXED\" \"Q\""
   ]
  },
  {
   "cell_type": "code",
   "execution_count": 9,
   "id": "77e9f430",
   "metadata": {
    "execution": {
     "iopub.execute_input": "2021-06-30T09:23:30.583849Z",
     "iopub.status.busy": "2021-06-30T09:23:30.583013Z",
     "iopub.status.idle": "2021-06-30T09:23:30.771581Z",
     "shell.execute_reply": "2021-06-30T09:23:30.770904Z"
    }
   },
   "outputs": [
    {
     "data": {
      "image/svg+xml": [
       "<?xml version=\"1.0\" encoding=\"UTF-8\" standalone=\"no\"?><svg xmlns=\"http://www.w3.org/2000/svg\" xmlns:xlink=\"http://www.w3.org/1999/xlink\" contentScriptType=\"application/ecmascript\" contentStyleType=\"text/css\" height=\"539px\" preserveAspectRatio=\"none\" style=\"width:266px;height:539px;\" version=\"1.1\" viewBox=\"0 0 266 539\" width=\"266px\" zoomAndPan=\"magnify\"><defs/><g><!--MD5=[fbc87193dbaf4d95561dea2c320d4a47]\n",
       "cluster E1--><a href=\"psysml:427a19be-4ba6-433c-b392-6823bf74d458\" target=\"_top\" title=\"psysml:427a19be-4ba6-433c-b392-6823bf74d458\" xlink:actuate=\"onRequest\" xlink:href=\"psysml:427a19be-4ba6-433c-b392-6823bf74d458\" xlink:show=\"new\" xlink:title=\"psysml:427a19be-4ba6-433c-b392-6823bf74d458\" xlink:type=\"simple\"><polygon fill=\"#FFFFFF\" points=\"16,6,34,6,41,28.2969,244,28.2969,244,527,16,527,16,6\" style=\"stroke: #000000; stroke-width: 1.5;\"/><line style=\"stroke: #000000; stroke-width: 1.5;\" x1=\"16\" x2=\"41\" y1=\"28.2969\" y2=\"28.2969\"/><text fill=\"#000000\" font-family=\"sans-serif\" font-size=\"14\" font-weight=\"bold\" lengthAdjust=\"spacingAndGlyphs\" textLength=\"12\" x=\"20\" y=\"20.9951\">Q</text></a><!--MD5=[b4997ac47864f28c2f74865a473b2911]\n",
       "class E2--><a href=\"psysml:027effde-34e9-4491-ba0c-9f82cacaad23\" target=\"_top\" title=\"psysml:027effde-34e9-4491-ba0c-9f82cacaad23\" xlink:actuate=\"onRequest\" xlink:href=\"psysml:027effde-34e9-4491-ba0c-9f82cacaad23\" xlink:show=\"new\" xlink:title=\"psysml:027effde-34e9-4491-ba0c-9f82cacaad23\" xlink:type=\"simple\"><rect fill=\"#FFFFFF\" height=\"45.9375\" id=\"E2\" style=\"stroke: #383838; stroke-width: 1.5;\" width=\"66\" x=\"147\" y=\"359\"/><text fill=\"#000000\" font-family=\"sans-serif\" font-size=\"12\" font-style=\"italic\" lengthAdjust=\"spacingAndGlyphs\" textLength=\"64\" x=\"148\" y=\"375.1387\">«part def»</text><text fill=\"#000000\" font-family=\"sans-serif\" font-size=\"12\" lengthAdjust=\"spacingAndGlyphs\" textLength=\"7\" x=\"176.5\" y=\"389.1074\">F</text><line style=\"stroke: #383838; stroke-width: 1.5;\" x1=\"148\" x2=\"212\" y1=\"396.9375\" y2=\"396.9375\"/></a><!--MD5=[09b614a08d8cba4a07c9adeb5e0fee81]\n",
       "class E3--><a href=\"psysml:241a9b2a-e9cc-4b19-964a-2424b61c0639\" target=\"_top\" title=\"psysml:241a9b2a-e9cc-4b19-964a-2424b61c0639\" xlink:actuate=\"onRequest\" xlink:href=\"psysml:241a9b2a-e9cc-4b19-964a-2424b61c0639\" xlink:show=\"new\" xlink:title=\"psysml:241a9b2a-e9cc-4b19-964a-2424b61c0639\" xlink:type=\"simple\"><rect fill=\"#FFFFFF\" height=\"45.9375\" id=\"E3\" rx=\"10\" ry=\"10\" style=\"stroke: #383838; stroke-width: 1.5;\" width=\"42\" x=\"159\" y=\"465\"/><text fill=\"#000000\" font-family=\"sans-serif\" font-size=\"12\" font-style=\"italic\" lengthAdjust=\"spacingAndGlyphs\" textLength=\"40\" x=\"160\" y=\"481.1387\">«part»</text><text fill=\"#000000\" font-family=\"sans-serif\" font-size=\"12\" lengthAdjust=\"spacingAndGlyphs\" textLength=\"8\" x=\"176\" y=\"495.1074\">a</text><line style=\"stroke: #383838; stroke-width: 1.5;\" x1=\"160\" x2=\"200\" y1=\"502.9375\" y2=\"502.9375\"/></a><!--MD5=[ebbe1d658d1005bcc118a6aa81145e00]\n",
       "class E4--><a href=\"psysml:40835df5-3f1f-4886-9446-1465d21ad736\" target=\"_top\" title=\"psysml:40835df5-3f1f-4886-9446-1465d21ad736\" xlink:actuate=\"onRequest\" xlink:href=\"psysml:40835df5-3f1f-4886-9446-1465d21ad736\" xlink:show=\"new\" xlink:title=\"psysml:40835df5-3f1f-4886-9446-1465d21ad736\" xlink:type=\"simple\"><rect fill=\"#FFFFFF\" height=\"45.9375\" id=\"E4\" rx=\"10\" ry=\"10\" style=\"stroke: #383838; stroke-width: 1.5;\" width=\"42\" x=\"186\" y=\"253\"/><text fill=\"#000000\" font-family=\"sans-serif\" font-size=\"12\" font-style=\"italic\" lengthAdjust=\"spacingAndGlyphs\" textLength=\"40\" x=\"187\" y=\"269.1387\">«part»</text><text fill=\"#000000\" font-family=\"sans-serif\" font-size=\"12\" lengthAdjust=\"spacingAndGlyphs\" textLength=\"19\" x=\"197.5\" y=\"283.1074\">f: F</text><line style=\"stroke: #383838; stroke-width: 1.5;\" x1=\"187\" x2=\"227\" y1=\"290.9375\" y2=\"290.9375\"/></a><!--MD5=[270fce915f116d4de14055a7c1d9a0f3]\n",
       "class E5--><a href=\"psysml:299c2c32-5ec1-43b2-a066-b7748b01150c\" target=\"_top\" title=\"psysml:299c2c32-5ec1-43b2-a066-b7748b01150c\" xlink:actuate=\"onRequest\" xlink:href=\"psysml:299c2c32-5ec1-43b2-a066-b7748b01150c\" xlink:show=\"new\" xlink:title=\"psysml:299c2c32-5ec1-43b2-a066-b7748b01150c\" xlink:type=\"simple\"><rect fill=\"#FFFFFF\" height=\"45.9375\" id=\"E5\" style=\"stroke: #383838; stroke-width: 1.5;\" width=\"66\" x=\"32\" y=\"359\"/><text fill=\"#000000\" font-family=\"sans-serif\" font-size=\"12\" font-style=\"italic\" lengthAdjust=\"spacingAndGlyphs\" textLength=\"64\" x=\"33\" y=\"375.1387\">«part def»</text><text fill=\"#000000\" font-family=\"sans-serif\" font-size=\"12\" lengthAdjust=\"spacingAndGlyphs\" textLength=\"8\" x=\"61\" y=\"389.1074\">A</text><line style=\"stroke: #383838; stroke-width: 1.5;\" x1=\"33\" x2=\"97\" y1=\"396.9375\" y2=\"396.9375\"/></a><!--MD5=[60a26617385b1d2d0262a64233df1f8d]\n",
       "class E6--><a href=\"psysml:31dec55f-8acf-4d42-bd51-f4047894820c\" target=\"_top\" title=\"psysml:31dec55f-8acf-4d42-bd51-f4047894820c\" xlink:actuate=\"onRequest\" xlink:href=\"psysml:31dec55f-8acf-4d42-bd51-f4047894820c\" xlink:show=\"new\" xlink:title=\"psysml:31dec55f-8acf-4d42-bd51-f4047894820c\" xlink:type=\"simple\"><rect fill=\"#FFFFFF\" height=\"45.9375\" id=\"E6\" rx=\"10\" ry=\"10\" style=\"stroke: #383838; stroke-width: 1.5;\" width=\"42\" x=\"44\" y=\"465\"/><text fill=\"#000000\" font-family=\"sans-serif\" font-size=\"12\" font-style=\"italic\" lengthAdjust=\"spacingAndGlyphs\" textLength=\"40\" x=\"45\" y=\"481.1387\">«part»</text><text fill=\"#000000\" font-family=\"sans-serif\" font-size=\"12\" lengthAdjust=\"spacingAndGlyphs\" textLength=\"8\" x=\"61\" y=\"495.1074\">g</text><line style=\"stroke: #383838; stroke-width: 1.5;\" x1=\"45\" x2=\"85\" y1=\"502.9375\" y2=\"502.9375\"/></a><!--MD5=[2156ba9850f5573cc1fc38a6a4b2f02b]\n",
       "class E7--><a href=\"psysml:e57a8ff4-b454-49af-9671-50f81189572a\" target=\"_top\" title=\"psysml:e57a8ff4-b454-49af-9671-50f81189572a\" xlink:actuate=\"onRequest\" xlink:href=\"psysml:e57a8ff4-b454-49af-9671-50f81189572a\" xlink:show=\"new\" xlink:title=\"psysml:e57a8ff4-b454-49af-9671-50f81189572a\" xlink:type=\"simple\"><rect fill=\"#FFFFFF\" height=\"45.9375\" id=\"E7\" style=\"stroke: #383838; stroke-width: 1.5;\" width=\"66\" x=\"64\" y=\"147\"/><text fill=\"#000000\" font-family=\"sans-serif\" font-size=\"12\" font-style=\"italic\" lengthAdjust=\"spacingAndGlyphs\" textLength=\"64\" x=\"65\" y=\"163.1387\">«part def»</text><text fill=\"#000000\" font-family=\"sans-serif\" font-size=\"12\" lengthAdjust=\"spacingAndGlyphs\" textLength=\"8\" x=\"93\" y=\"177.1074\">B</text><line style=\"stroke: #383838; stroke-width: 1.5;\" x1=\"65\" x2=\"129\" y1=\"184.9375\" y2=\"184.9375\"/></a><!--MD5=[b9389687b975829384b498ac4b7476b2]\n",
       "class E8--><a href=\"psysml:ae9b8861-e9cc-45e7-97b3-375fd90ac7d9\" target=\"_top\" title=\"psysml:ae9b8861-e9cc-45e7-97b3-375fd90ac7d9\" xlink:actuate=\"onRequest\" xlink:href=\"psysml:ae9b8861-e9cc-45e7-97b3-375fd90ac7d9\" xlink:show=\"new\" xlink:title=\"psysml:ae9b8861-e9cc-45e7-97b3-375fd90ac7d9\" xlink:type=\"simple\"><rect fill=\"#FFFFFF\" height=\"45.9375\" id=\"E8\" rx=\"10\" ry=\"10\" style=\"stroke: #383838; stroke-width: 1.5;\" width=\"42\" x=\"109\" y=\"253\"/><text fill=\"#000000\" font-family=\"sans-serif\" font-size=\"12\" font-style=\"italic\" lengthAdjust=\"spacingAndGlyphs\" textLength=\"40\" x=\"110\" y=\"269.1387\">«part»</text><text fill=\"#000000\" font-family=\"sans-serif\" font-size=\"12\" lengthAdjust=\"spacingAndGlyphs\" textLength=\"19\" x=\"120.5\" y=\"283.1074\">f: F</text><line style=\"stroke: #383838; stroke-width: 1.5;\" x1=\"110\" x2=\"150\" y1=\"290.9375\" y2=\"290.9375\"/></a><!--MD5=[fd4143e9d270a159db93a4ea2a975926]\n",
       "class E9--><a href=\"psysml:d620b19b-a1e2-497d-8cad-3b2dc38fedc0\" target=\"_top\" title=\"psysml:d620b19b-a1e2-497d-8cad-3b2dc38fedc0\" xlink:actuate=\"onRequest\" xlink:href=\"psysml:d620b19b-a1e2-497d-8cad-3b2dc38fedc0\" xlink:show=\"new\" xlink:title=\"psysml:d620b19b-a1e2-497d-8cad-3b2dc38fedc0\" xlink:type=\"simple\"><rect fill=\"#FFFFFF\" height=\"45.9375\" id=\"E9\" rx=\"10\" ry=\"10\" style=\"stroke: #383838; stroke-width: 1.5;\" width=\"42\" x=\"32\" y=\"253\"/><text fill=\"#000000\" font-family=\"sans-serif\" font-size=\"12\" font-style=\"italic\" lengthAdjust=\"spacingAndGlyphs\" textLength=\"40\" x=\"33\" y=\"269.1387\">«part»</text><text fill=\"#000000\" font-family=\"sans-serif\" font-size=\"12\" lengthAdjust=\"spacingAndGlyphs\" textLength=\"24\" x=\"41\" y=\"283.1074\">a: A</text><line style=\"stroke: #383838; stroke-width: 1.5;\" x1=\"33\" x2=\"73\" y1=\"290.9375\" y2=\"290.9375\"/></a><!--MD5=[96f4274e9e20536e775497830990834d]\n",
       "class E10--><a href=\"psysml:f9a1a989-561d-4119-971e-8ebceafa94b4\" target=\"_top\" title=\"psysml:f9a1a989-561d-4119-971e-8ebceafa94b4\" xlink:actuate=\"onRequest\" xlink:href=\"psysml:f9a1a989-561d-4119-971e-8ebceafa94b4\" xlink:show=\"new\" xlink:title=\"psysml:f9a1a989-561d-4119-971e-8ebceafa94b4\" xlink:type=\"simple\"><rect fill=\"#FFFFFF\" height=\"45.9375\" id=\"E10\" rx=\"10\" ry=\"10\" style=\"stroke: #383838; stroke-width: 1.5;\" width=\"42\" x=\"76\" y=\"41\"/><text fill=\"#000000\" font-family=\"sans-serif\" font-size=\"12\" font-style=\"italic\" lengthAdjust=\"spacingAndGlyphs\" textLength=\"40\" x=\"77\" y=\"57.1387\">«part»</text><text fill=\"#000000\" font-family=\"sans-serif\" font-size=\"12\" lengthAdjust=\"spacingAndGlyphs\" textLength=\"24\" x=\"85\" y=\"71.1074\">b: B</text><line style=\"stroke: #383838; stroke-width: 1.5;\" x1=\"77\" x2=\"117\" y1=\"78.9375\" y2=\"78.9375\"/></a><!--MD5=[209b3feb70ccb6233bfe1053d122c12c]\n",
       "reverse link E2 to E3--><a href=\"psysml:5ee10b2b-55c1-4a08-a13b-bdb74e3f50e5\" target=\"_top\" title=\"psysml:5ee10b2b-55c1-4a08-a13b-bdb74e3f50e5\" xlink:actuate=\"onRequest\" xlink:href=\"psysml:5ee10b2b-55c1-4a08-a13b-bdb74e3f50e5\" xlink:show=\"new\" xlink:title=\"psysml:5ee10b2b-55c1-4a08-a13b-bdb74e3f50e5\" xlink:type=\"simple\"><path d=\"M180,418.44 C180,433.87 180,451.47 180,464.98 \" fill=\"none\" id=\"E2&lt;-E3\" style=\"stroke: #383838; stroke-width: 1.0;\"/><polygon fill=\"#383838\" points=\"180,405.06,176,411.06,180,417.06,184,411.06,180,405.06\" style=\"stroke: #383838; stroke-width: 1.0;\"/></a><!--MD5=[185131fc0dcab0a4505a2ebe144e961b]\n",
       "link E4 to E2--><a href=\"psysml:c4c1c0e2-eca3-4dc3-a203-c30912c3ab2b\" target=\"_top\" title=\"psysml:c4c1c0e2-eca3-4dc3-a203-c30912c3ab2b\" xlink:actuate=\"onRequest\" xlink:href=\"psysml:c4c1c0e2-eca3-4dc3-a203-c30912c3ab2b\" xlink:show=\"new\" xlink:title=\"psysml:c4c1c0e2-eca3-4dc3-a203-c30912c3ab2b\" xlink:type=\"simple\"><path d=\"M201.27,299.06 C198.23,310.78 194.39,325.57 190.81,339.36 \" fill=\"none\" id=\"E4-&gt;E2\" style=\"stroke: #383838; stroke-width: 1.0;\"/><polygon fill=\"#FFFFFF\" points=\"185.72,358.98,183.7221,338.8303,197.2724,342.3504,185.72,358.98\" style=\"stroke: #383838; stroke-width: 1.0;\"/><ellipse cx=\"187.091\" cy=\"333.8163\" fill=\"#383838\" rx=\"2\" ry=\"2\" style=\"stroke: #383838; stroke-width: 1.0;\"/><ellipse cx=\"196.7698\" cy=\"336.3307\" fill=\"#383838\" rx=\"2\" ry=\"2\" style=\"stroke: #383838; stroke-width: 1.0;\"/></a><!--MD5=[85d356282659285ab4b2cfe2f634dd2b]\n",
       "reverse link E5 to E6--><a href=\"psysml:93463b7d-149f-4a15-b84b-177a9e530eda\" target=\"_top\" title=\"psysml:93463b7d-149f-4a15-b84b-177a9e530eda\" xlink:actuate=\"onRequest\" xlink:href=\"psysml:93463b7d-149f-4a15-b84b-177a9e530eda\" xlink:show=\"new\" xlink:title=\"psysml:93463b7d-149f-4a15-b84b-177a9e530eda\" xlink:type=\"simple\"><path d=\"M65,418.44 C65,433.87 65,451.47 65,464.98 \" fill=\"none\" id=\"E5&lt;-E6\" style=\"stroke: #383838; stroke-width: 1.0;\"/><polygon fill=\"#383838\" points=\"65,405.06,61,411.06,65,417.06,69,411.06,65,405.06\" style=\"stroke: #383838; stroke-width: 1.0;\"/></a><!--MD5=[dc164f5e8a733ab456ef1add180e9e34]\n",
       "reverse link E7 to E8--><a href=\"psysml:de6f8f38-3125-456b-a954-15a696931b63\" target=\"_top\" title=\"psysml:de6f8f38-3125-456b-a954-15a696931b63\" xlink:actuate=\"onRequest\" xlink:href=\"psysml:de6f8f38-3125-456b-a954-15a696931b63\" xlink:show=\"new\" xlink:title=\"psysml:de6f8f38-3125-456b-a954-15a696931b63\" xlink:type=\"simple\"><path d=\"M107.95,205.49 C112.91,221.15 118.64,239.19 123.01,252.98 \" fill=\"none\" id=\"E7&lt;-E8\" style=\"stroke: #383838; stroke-width: 1.0;\"/><polygon fill=\"#383838\" points=\"104,193.06,101.9989,199.9879,107.6243,204.4996,109.6253,197.5717,104,193.06\" style=\"stroke: #383838; stroke-width: 1.0;\"/></a><!--MD5=[f1f3f9f2fc535e6147756cb86a7f2e32]\n",
       "link E8 to E2--><a href=\"psysml:536a95df-7241-4403-bcab-1aa9fe7a4b7d\" target=\"_top\" title=\"psysml:536a95df-7241-4403-bcab-1aa9fe7a4b7d\" xlink:actuate=\"onRequest\" xlink:href=\"psysml:536a95df-7241-4403-bcab-1aa9fe7a4b7d\" xlink:show=\"new\" xlink:title=\"psysml:536a95df-7241-4403-bcab-1aa9fe7a4b7d\" xlink:type=\"simple\"><path d=\"M140.6,299.06 C146.44,311.19 153.86,326.62 160.68,340.82 \" fill=\"none\" id=\"E8-&gt;E2\" style=\"stroke: #383838; stroke-width: 1.0;\"/><polygon fill=\"#FFFFFF\" points=\"169.41,358.98,154.8709,344.8869,167.4894,338.8228,169.41,358.98\" style=\"stroke: #383838; stroke-width: 1.0;\"/><ellipse cx=\"154.2046\" cy=\"338.8831\" fill=\"#383838\" rx=\"2\" ry=\"2\" style=\"stroke: #383838; stroke-width: 1.0;\"/><ellipse cx=\"163.2178\" cy=\"334.5516\" fill=\"#383838\" rx=\"2\" ry=\"2\" style=\"stroke: #383838; stroke-width: 1.0;\"/></a><!--MD5=[e4a10ef82d0e328e31cac39a31e58dda]\n",
       "reverse link E7 to E9--><a href=\"psysml:2c441a1b-e979-4985-bcd5-61f8c13172d0\" target=\"_top\" title=\"psysml:2c441a1b-e979-4985-bcd5-61f8c13172d0\" xlink:actuate=\"onRequest\" xlink:href=\"psysml:2c441a1b-e979-4985-bcd5-61f8c13172d0\" xlink:show=\"new\" xlink:title=\"psysml:2c441a1b-e979-4985-bcd5-61f8c13172d0\" xlink:type=\"simple\"><path d=\"M82.41,205.49 C75.78,221.15 68.15,239.19 62.32,252.98 \" fill=\"none\" id=\"E7&lt;-E9\" style=\"stroke: #383838; stroke-width: 1.0;\"/><polygon fill=\"#383838\" points=\"87.67,193.06,81.6505,197.0305,83.0003,204.1142,89.0199,200.1436,87.67,193.06\" style=\"stroke: #383838; stroke-width: 1.0;\"/></a><!--MD5=[bfc3ddf2e613be37104f658f09af896c]\n",
       "link E9 to E5--><a href=\"psysml:fc8a5d52-f7b0-45e1-9a4f-1e932b65f071\" target=\"_top\" title=\"psysml:fc8a5d52-f7b0-45e1-9a4f-1e932b65f071\" xlink:actuate=\"onRequest\" xlink:href=\"psysml:fc8a5d52-f7b0-45e1-9a4f-1e932b65f071\" xlink:show=\"new\" xlink:title=\"psysml:fc8a5d52-f7b0-45e1-9a4f-1e932b65f071\" xlink:type=\"simple\"><path d=\"M55.54,299.06 C56.88,310.64 58.56,325.23 60.14,338.87 \" fill=\"none\" id=\"E9-&gt;E5\" style=\"stroke: #383838; stroke-width: 1.0;\"/><polygon fill=\"#FFFFFF\" points=\"62.46,358.98,53.3347,340.9044,67.243,339.3046,62.46,358.98\" style=\"stroke: #383838; stroke-width: 1.0;\"/><ellipse cx=\"54.6702\" cy=\"335.0132\" fill=\"#383838\" rx=\"2\" ry=\"2\" style=\"stroke: #383838; stroke-width: 1.0;\"/><ellipse cx=\"64.6047\" cy=\"333.8704\" fill=\"#383838\" rx=\"2\" ry=\"2\" style=\"stroke: #383838; stroke-width: 1.0;\"/></a><!--MD5=[a919e0967d6f3de553dc51b9865a1d6d]\n",
       "link E10 to E7--><a href=\"psysml:2e3833d6-0a03-41e5-9593-325ba84dff2e\" target=\"_top\" title=\"psysml:2e3833d6-0a03-41e5-9593-325ba84dff2e\" xlink:actuate=\"onRequest\" xlink:href=\"psysml:2e3833d6-0a03-41e5-9593-325ba84dff2e\" xlink:show=\"new\" xlink:title=\"psysml:2e3833d6-0a03-41e5-9593-325ba84dff2e\" xlink:type=\"simple\"><path d=\"M97,87.06 C97,98.64 97,113.23 97,126.87 \" fill=\"none\" id=\"E10-&gt;E7\" style=\"stroke: #383838; stroke-width: 1.0;\"/><polygon fill=\"#FFFFFF\" points=\"97,146.98,90,127.98,104,127.98,97,146.98\" style=\"stroke: #383838; stroke-width: 1.0;\"/><ellipse cx=\"92\" cy=\"122.28\" fill=\"#383838\" rx=\"2\" ry=\"2\" style=\"stroke: #383838; stroke-width: 1.0;\"/><ellipse cx=\"102\" cy=\"122.28\" fill=\"#383838\" rx=\"2\" ry=\"2\" style=\"stroke: #383838; stroke-width: 1.0;\"/></a><!--MD5=[a92a183829e5c84a6445d1f43873c88f]\n",
       "@startuml\r\n",
       "skinparam linetype polyline\r\n",
       "skinparam monochrome true\r\n",
       "skinparam classbackgroundcolor white\r\n",
       "skinparam shadowing false\r\n",
       "skinparam wrapWidth 300\r\n",
       "hide circle\r\n",
       "\r\n",
       "package \"Q\" as E1  [[psysml:427a19be-4ba6-433c-b392-6823bf74d458 ]]  {\r\n",
       "comp def \"F\" as E2  <<(T,blue) part def>> [[psysml:027effde-34e9-4491-ba0c-9f82cacaad23 ]] {\r\n",
       "}\r\n",
       "comp usage \"a\" as E3  <<(T,blue) part>> [[psysml:241a9b2a-e9cc-4b19-964a-2424b61c0639 ]] {\r\n",
       "}\r\n",
       "comp usage \"f: F\" as E4  <<(T,blue) part>> [[psysml:40835df5-3f1f-4886-9446-1465d21ad736 ]] {\r\n",
       "}\r\n",
       "comp def \"A\" as E5  <<(T,blue) part def>> [[psysml:299c2c32-5ec1-43b2-a066-b7748b01150c ]] {\r\n",
       "}\r\n",
       "comp usage \"g\" as E6  <<(T,blue) part>> [[psysml:31dec55f-8acf-4d42-bd51-f4047894820c ]] {\r\n",
       "}\r\n",
       "comp def \"B\" as E7  <<(T,blue) part def>> [[psysml:e57a8ff4-b454-49af-9671-50f81189572a ]] {\r\n",
       "}\r\n",
       "comp usage \"f: F\" as E8  <<(T,blue) part>> [[psysml:ae9b8861-e9cc-45e7-97b3-375fd90ac7d9 ]] {\r\n",
       "}\r\n",
       "comp usage \"a: A\" as E9  <<(T,blue) part>> [[psysml:d620b19b-a1e2-497d-8cad-3b2dc38fedc0 ]] {\r\n",
       "}\r\n",
       "comp usage \"b: B\" as E10  <<(T,blue) part>> [[psysml:f9a1a989-561d-4119-971e-8ebceafa94b4 ]] {\r\n",
       "}\r\n",
       "E2 *- - E3 [[psysml:5ee10b2b-55c1-4a08-a13b-bdb74e3f50e5 ]] \r\n",
       "E4 - -:|> E2 [[psysml:c4c1c0e2-eca3-4dc3-a203-c30912c3ab2b ]] \r\n",
       "E5 *- - E6 [[psysml:93463b7d-149f-4a15-b84b-177a9e530eda ]] \r\n",
       "E7 *- - E8 [[psysml:de6f8f38-3125-456b-a954-15a696931b63 ]] \r\n",
       "E8 - -:|> E2 [[psysml:536a95df-7241-4403-bcab-1aa9fe7a4b7d ]] \r\n",
       "E7 *- - E9 [[psysml:2c441a1b-e979-4985-bcd5-61f8c13172d0 ]] \r\n",
       "E9 - -:|> E5 [[psysml:fc8a5d52-f7b0-45e1-9a4f-1e932b65f071 ]] \r\n",
       "E10 - -:|> E7 [[psysml:2e3833d6-0a03-41e5-9593-325ba84dff2e ]] \r\n",
       "}\r\n",
       "@enduml\r\n",
       "\n",
       "PlantUML version 1.2020.13(Sat Jun 13 12:26:38 UTC 2020)\n",
       "(EPL source distribution)\n",
       "Java Runtime: OpenJDK Runtime Environment\n",
       "JVM: OpenJDK 64-Bit Server VM\n",
       "Default Encoding: UTF-8\n",
       "Language: en\n",
       "Country: null\n",
       "--></g></svg>"
      ]
     },
     "execution_count": 9,
     "metadata": {},
     "output_type": "execute_result"
    }
   ],
   "source": [
    "%viz --style=\"POLYLINE\" --view=\"Default\" \"Q\""
   ]
  },
  {
   "cell_type": "code",
   "execution_count": 10,
   "id": "89987595",
   "metadata": {
    "execution": {
     "iopub.execute_input": "2021-06-30T09:23:30.820032Z",
     "iopub.status.busy": "2021-06-30T09:23:30.818824Z",
     "iopub.status.idle": "2021-06-30T09:23:30.970239Z",
     "shell.execute_reply": "2021-06-30T09:23:30.969492Z"
    }
   },
   "outputs": [
    {
     "data": {
      "image/svg+xml": [
       "<?xml version=\"1.0\" encoding=\"UTF-8\" standalone=\"no\"?><svg xmlns=\"http://www.w3.org/2000/svg\" xmlns:xlink=\"http://www.w3.org/1999/xlink\" contentScriptType=\"application/ecmascript\" contentStyleType=\"text/css\" height=\"539px\" preserveAspectRatio=\"none\" style=\"width:266px;height:539px;\" version=\"1.1\" viewBox=\"0 0 266 539\" width=\"266px\" zoomAndPan=\"magnify\"><defs/><g><!--MD5=[fbc87193dbaf4d95561dea2c320d4a47]\n",
       "cluster E1--><a href=\"psysml:427a19be-4ba6-433c-b392-6823bf74d458\" target=\"_top\" title=\"psysml:427a19be-4ba6-433c-b392-6823bf74d458\" xlink:actuate=\"onRequest\" xlink:href=\"psysml:427a19be-4ba6-433c-b392-6823bf74d458\" xlink:show=\"new\" xlink:title=\"psysml:427a19be-4ba6-433c-b392-6823bf74d458\" xlink:type=\"simple\"><polygon fill=\"#FFFFFF\" points=\"16,6,34,6,41,28.2969,244,28.2969,244,527,16,527,16,6\" style=\"stroke: #000000; stroke-width: 1.5;\"/><line style=\"stroke: #000000; stroke-width: 1.5;\" x1=\"16\" x2=\"41\" y1=\"28.2969\" y2=\"28.2969\"/><text fill=\"#000000\" font-family=\"sans-serif\" font-size=\"14\" font-weight=\"bold\" lengthAdjust=\"spacingAndGlyphs\" textLength=\"12\" x=\"20\" y=\"20.9951\">Q</text></a><!--MD5=[b4997ac47864f28c2f74865a473b2911]\n",
       "class E2--><a href=\"psysml:027effde-34e9-4491-ba0c-9f82cacaad23\" target=\"_top\" title=\"psysml:027effde-34e9-4491-ba0c-9f82cacaad23\" xlink:actuate=\"onRequest\" xlink:href=\"psysml:027effde-34e9-4491-ba0c-9f82cacaad23\" xlink:show=\"new\" xlink:title=\"psysml:027effde-34e9-4491-ba0c-9f82cacaad23\" xlink:type=\"simple\"><rect fill=\"#FFFFFF\" height=\"45.9375\" id=\"E2\" style=\"stroke: #383838; stroke-width: 1.5;\" width=\"66\" x=\"147\" y=\"359\"/><text fill=\"#000000\" font-family=\"sans-serif\" font-size=\"12\" font-style=\"italic\" lengthAdjust=\"spacingAndGlyphs\" textLength=\"64\" x=\"148\" y=\"375.1387\">«part def»</text><text fill=\"#000000\" font-family=\"sans-serif\" font-size=\"12\" lengthAdjust=\"spacingAndGlyphs\" textLength=\"7\" x=\"176.5\" y=\"389.1074\">F</text><line style=\"stroke: #383838; stroke-width: 1.5;\" x1=\"148\" x2=\"212\" y1=\"396.9375\" y2=\"396.9375\"/></a><!--MD5=[09b614a08d8cba4a07c9adeb5e0fee81]\n",
       "class E3--><a href=\"psysml:241a9b2a-e9cc-4b19-964a-2424b61c0639\" target=\"_top\" title=\"psysml:241a9b2a-e9cc-4b19-964a-2424b61c0639\" xlink:actuate=\"onRequest\" xlink:href=\"psysml:241a9b2a-e9cc-4b19-964a-2424b61c0639\" xlink:show=\"new\" xlink:title=\"psysml:241a9b2a-e9cc-4b19-964a-2424b61c0639\" xlink:type=\"simple\"><rect fill=\"#FFFFFF\" height=\"45.9375\" id=\"E3\" rx=\"10\" ry=\"10\" style=\"stroke: #383838; stroke-width: 1.5;\" width=\"42\" x=\"159\" y=\"465\"/><text fill=\"#000000\" font-family=\"sans-serif\" font-size=\"12\" font-style=\"italic\" lengthAdjust=\"spacingAndGlyphs\" textLength=\"40\" x=\"160\" y=\"481.1387\">«part»</text><text fill=\"#000000\" font-family=\"sans-serif\" font-size=\"12\" lengthAdjust=\"spacingAndGlyphs\" textLength=\"8\" x=\"176\" y=\"495.1074\">a</text><line style=\"stroke: #383838; stroke-width: 1.5;\" x1=\"160\" x2=\"200\" y1=\"502.9375\" y2=\"502.9375\"/></a><!--MD5=[ebbe1d658d1005bcc118a6aa81145e00]\n",
       "class E4--><a href=\"psysml:40835df5-3f1f-4886-9446-1465d21ad736\" target=\"_top\" title=\"psysml:40835df5-3f1f-4886-9446-1465d21ad736\" xlink:actuate=\"onRequest\" xlink:href=\"psysml:40835df5-3f1f-4886-9446-1465d21ad736\" xlink:show=\"new\" xlink:title=\"psysml:40835df5-3f1f-4886-9446-1465d21ad736\" xlink:type=\"simple\"><rect fill=\"#FFFFFF\" height=\"45.9375\" id=\"E4\" rx=\"10\" ry=\"10\" style=\"stroke: #383838; stroke-width: 1.5;\" width=\"42\" x=\"186\" y=\"253\"/><text fill=\"#000000\" font-family=\"sans-serif\" font-size=\"12\" font-style=\"italic\" lengthAdjust=\"spacingAndGlyphs\" textLength=\"40\" x=\"187\" y=\"269.1387\">«part»</text><text fill=\"#000000\" font-family=\"sans-serif\" font-size=\"12\" lengthAdjust=\"spacingAndGlyphs\" textLength=\"19\" x=\"197.5\" y=\"283.1074\">f: F</text><line style=\"stroke: #383838; stroke-width: 1.5;\" x1=\"187\" x2=\"227\" y1=\"290.9375\" y2=\"290.9375\"/></a><!--MD5=[270fce915f116d4de14055a7c1d9a0f3]\n",
       "class E5--><a href=\"psysml:299c2c32-5ec1-43b2-a066-b7748b01150c\" target=\"_top\" title=\"psysml:299c2c32-5ec1-43b2-a066-b7748b01150c\" xlink:actuate=\"onRequest\" xlink:href=\"psysml:299c2c32-5ec1-43b2-a066-b7748b01150c\" xlink:show=\"new\" xlink:title=\"psysml:299c2c32-5ec1-43b2-a066-b7748b01150c\" xlink:type=\"simple\"><rect fill=\"#FFFFFF\" height=\"45.9375\" id=\"E5\" style=\"stroke: #383838; stroke-width: 1.5;\" width=\"66\" x=\"32\" y=\"359\"/><text fill=\"#000000\" font-family=\"sans-serif\" font-size=\"12\" font-style=\"italic\" lengthAdjust=\"spacingAndGlyphs\" textLength=\"64\" x=\"33\" y=\"375.1387\">«part def»</text><text fill=\"#000000\" font-family=\"sans-serif\" font-size=\"12\" lengthAdjust=\"spacingAndGlyphs\" textLength=\"8\" x=\"61\" y=\"389.1074\">A</text><line style=\"stroke: #383838; stroke-width: 1.5;\" x1=\"33\" x2=\"97\" y1=\"396.9375\" y2=\"396.9375\"/></a><!--MD5=[60a26617385b1d2d0262a64233df1f8d]\n",
       "class E6--><a href=\"psysml:31dec55f-8acf-4d42-bd51-f4047894820c\" target=\"_top\" title=\"psysml:31dec55f-8acf-4d42-bd51-f4047894820c\" xlink:actuate=\"onRequest\" xlink:href=\"psysml:31dec55f-8acf-4d42-bd51-f4047894820c\" xlink:show=\"new\" xlink:title=\"psysml:31dec55f-8acf-4d42-bd51-f4047894820c\" xlink:type=\"simple\"><rect fill=\"#FFFFFF\" height=\"45.9375\" id=\"E6\" rx=\"10\" ry=\"10\" style=\"stroke: #383838; stroke-width: 1.5;\" width=\"42\" x=\"44\" y=\"465\"/><text fill=\"#000000\" font-family=\"sans-serif\" font-size=\"12\" font-style=\"italic\" lengthAdjust=\"spacingAndGlyphs\" textLength=\"40\" x=\"45\" y=\"481.1387\">«part»</text><text fill=\"#000000\" font-family=\"sans-serif\" font-size=\"12\" lengthAdjust=\"spacingAndGlyphs\" textLength=\"8\" x=\"61\" y=\"495.1074\">g</text><line style=\"stroke: #383838; stroke-width: 1.5;\" x1=\"45\" x2=\"85\" y1=\"502.9375\" y2=\"502.9375\"/></a><!--MD5=[2156ba9850f5573cc1fc38a6a4b2f02b]\n",
       "class E7--><a href=\"psysml:e57a8ff4-b454-49af-9671-50f81189572a\" target=\"_top\" title=\"psysml:e57a8ff4-b454-49af-9671-50f81189572a\" xlink:actuate=\"onRequest\" xlink:href=\"psysml:e57a8ff4-b454-49af-9671-50f81189572a\" xlink:show=\"new\" xlink:title=\"psysml:e57a8ff4-b454-49af-9671-50f81189572a\" xlink:type=\"simple\"><rect fill=\"#FFFFFF\" height=\"45.9375\" id=\"E7\" style=\"stroke: #383838; stroke-width: 1.5;\" width=\"66\" x=\"64\" y=\"147\"/><text fill=\"#000000\" font-family=\"sans-serif\" font-size=\"12\" font-style=\"italic\" lengthAdjust=\"spacingAndGlyphs\" textLength=\"64\" x=\"65\" y=\"163.1387\">«part def»</text><text fill=\"#000000\" font-family=\"sans-serif\" font-size=\"12\" lengthAdjust=\"spacingAndGlyphs\" textLength=\"8\" x=\"93\" y=\"177.1074\">B</text><line style=\"stroke: #383838; stroke-width: 1.5;\" x1=\"65\" x2=\"129\" y1=\"184.9375\" y2=\"184.9375\"/></a><!--MD5=[b9389687b975829384b498ac4b7476b2]\n",
       "class E8--><a href=\"psysml:ae9b8861-e9cc-45e7-97b3-375fd90ac7d9\" target=\"_top\" title=\"psysml:ae9b8861-e9cc-45e7-97b3-375fd90ac7d9\" xlink:actuate=\"onRequest\" xlink:href=\"psysml:ae9b8861-e9cc-45e7-97b3-375fd90ac7d9\" xlink:show=\"new\" xlink:title=\"psysml:ae9b8861-e9cc-45e7-97b3-375fd90ac7d9\" xlink:type=\"simple\"><rect fill=\"#FFFFFF\" height=\"45.9375\" id=\"E8\" rx=\"10\" ry=\"10\" style=\"stroke: #383838; stroke-width: 1.5;\" width=\"42\" x=\"109\" y=\"253\"/><text fill=\"#000000\" font-family=\"sans-serif\" font-size=\"12\" font-style=\"italic\" lengthAdjust=\"spacingAndGlyphs\" textLength=\"40\" x=\"110\" y=\"269.1387\">«part»</text><text fill=\"#000000\" font-family=\"sans-serif\" font-size=\"12\" lengthAdjust=\"spacingAndGlyphs\" textLength=\"19\" x=\"120.5\" y=\"283.1074\">f: F</text><line style=\"stroke: #383838; stroke-width: 1.5;\" x1=\"110\" x2=\"150\" y1=\"290.9375\" y2=\"290.9375\"/></a><!--MD5=[fd4143e9d270a159db93a4ea2a975926]\n",
       "class E9--><a href=\"psysml:d620b19b-a1e2-497d-8cad-3b2dc38fedc0\" target=\"_top\" title=\"psysml:d620b19b-a1e2-497d-8cad-3b2dc38fedc0\" xlink:actuate=\"onRequest\" xlink:href=\"psysml:d620b19b-a1e2-497d-8cad-3b2dc38fedc0\" xlink:show=\"new\" xlink:title=\"psysml:d620b19b-a1e2-497d-8cad-3b2dc38fedc0\" xlink:type=\"simple\"><rect fill=\"#FFFFFF\" height=\"45.9375\" id=\"E9\" rx=\"10\" ry=\"10\" style=\"stroke: #383838; stroke-width: 1.5;\" width=\"42\" x=\"32\" y=\"253\"/><text fill=\"#000000\" font-family=\"sans-serif\" font-size=\"12\" font-style=\"italic\" lengthAdjust=\"spacingAndGlyphs\" textLength=\"40\" x=\"33\" y=\"269.1387\">«part»</text><text fill=\"#000000\" font-family=\"sans-serif\" font-size=\"12\" lengthAdjust=\"spacingAndGlyphs\" textLength=\"24\" x=\"41\" y=\"283.1074\">a: A</text><line style=\"stroke: #383838; stroke-width: 1.5;\" x1=\"33\" x2=\"73\" y1=\"290.9375\" y2=\"290.9375\"/></a><!--MD5=[96f4274e9e20536e775497830990834d]\n",
       "class E10--><a href=\"psysml:f9a1a989-561d-4119-971e-8ebceafa94b4\" target=\"_top\" title=\"psysml:f9a1a989-561d-4119-971e-8ebceafa94b4\" xlink:actuate=\"onRequest\" xlink:href=\"psysml:f9a1a989-561d-4119-971e-8ebceafa94b4\" xlink:show=\"new\" xlink:title=\"psysml:f9a1a989-561d-4119-971e-8ebceafa94b4\" xlink:type=\"simple\"><rect fill=\"#FFFFFF\" height=\"45.9375\" id=\"E10\" rx=\"10\" ry=\"10\" style=\"stroke: #383838; stroke-width: 1.5;\" width=\"42\" x=\"76\" y=\"41\"/><text fill=\"#000000\" font-family=\"sans-serif\" font-size=\"12\" font-style=\"italic\" lengthAdjust=\"spacingAndGlyphs\" textLength=\"40\" x=\"77\" y=\"57.1387\">«part»</text><text fill=\"#000000\" font-family=\"sans-serif\" font-size=\"12\" lengthAdjust=\"spacingAndGlyphs\" textLength=\"24\" x=\"85\" y=\"71.1074\">b: B</text><line style=\"stroke: #383838; stroke-width: 1.5;\" x1=\"77\" x2=\"117\" y1=\"78.9375\" y2=\"78.9375\"/></a><!--MD5=[209b3feb70ccb6233bfe1053d122c12c]\n",
       "reverse link E2 to E3--><a href=\"psysml:5ee10b2b-55c1-4a08-a13b-bdb74e3f50e5\" target=\"_top\" title=\"psysml:5ee10b2b-55c1-4a08-a13b-bdb74e3f50e5\" xlink:actuate=\"onRequest\" xlink:href=\"psysml:5ee10b2b-55c1-4a08-a13b-bdb74e3f50e5\" xlink:show=\"new\" xlink:title=\"psysml:5ee10b2b-55c1-4a08-a13b-bdb74e3f50e5\" xlink:type=\"simple\"><path d=\"M180,418.44 C180,433.87 180,451.47 180,464.98 \" fill=\"none\" id=\"E2&lt;-E3\" style=\"stroke: #383838; stroke-width: 1.0;\"/><polygon fill=\"#383838\" points=\"180,405.06,176,411.06,180,417.06,184,411.06,180,405.06\" style=\"stroke: #383838; stroke-width: 1.0;\"/></a><!--MD5=[185131fc0dcab0a4505a2ebe144e961b]\n",
       "link E4 to E2--><a href=\"psysml:c4c1c0e2-eca3-4dc3-a203-c30912c3ab2b\" target=\"_top\" title=\"psysml:c4c1c0e2-eca3-4dc3-a203-c30912c3ab2b\" xlink:actuate=\"onRequest\" xlink:href=\"psysml:c4c1c0e2-eca3-4dc3-a203-c30912c3ab2b\" xlink:show=\"new\" xlink:title=\"psysml:c4c1c0e2-eca3-4dc3-a203-c30912c3ab2b\" xlink:type=\"simple\"><path d=\"M201.27,299.06 C198.23,310.78 194.39,325.57 190.81,339.36 \" fill=\"none\" id=\"E4-&gt;E2\" style=\"stroke: #383838; stroke-width: 1.0;\"/><polygon fill=\"#FFFFFF\" points=\"185.72,358.98,183.7221,338.8303,197.2724,342.3504,185.72,358.98\" style=\"stroke: #383838; stroke-width: 1.0;\"/><ellipse cx=\"187.091\" cy=\"333.8163\" fill=\"#383838\" rx=\"2\" ry=\"2\" style=\"stroke: #383838; stroke-width: 1.0;\"/><ellipse cx=\"196.7698\" cy=\"336.3307\" fill=\"#383838\" rx=\"2\" ry=\"2\" style=\"stroke: #383838; stroke-width: 1.0;\"/></a><!--MD5=[85d356282659285ab4b2cfe2f634dd2b]\n",
       "reverse link E5 to E6--><a href=\"psysml:93463b7d-149f-4a15-b84b-177a9e530eda\" target=\"_top\" title=\"psysml:93463b7d-149f-4a15-b84b-177a9e530eda\" xlink:actuate=\"onRequest\" xlink:href=\"psysml:93463b7d-149f-4a15-b84b-177a9e530eda\" xlink:show=\"new\" xlink:title=\"psysml:93463b7d-149f-4a15-b84b-177a9e530eda\" xlink:type=\"simple\"><path d=\"M65,418.44 C65,433.87 65,451.47 65,464.98 \" fill=\"none\" id=\"E5&lt;-E6\" style=\"stroke: #383838; stroke-width: 1.0;\"/><polygon fill=\"#383838\" points=\"65,405.06,61,411.06,65,417.06,69,411.06,65,405.06\" style=\"stroke: #383838; stroke-width: 1.0;\"/></a><!--MD5=[dc164f5e8a733ab456ef1add180e9e34]\n",
       "reverse link E7 to E8--><a href=\"psysml:de6f8f38-3125-456b-a954-15a696931b63\" target=\"_top\" title=\"psysml:de6f8f38-3125-456b-a954-15a696931b63\" xlink:actuate=\"onRequest\" xlink:href=\"psysml:de6f8f38-3125-456b-a954-15a696931b63\" xlink:show=\"new\" xlink:title=\"psysml:de6f8f38-3125-456b-a954-15a696931b63\" xlink:type=\"simple\"><path d=\"M107.95,205.49 C112.91,221.15 118.64,239.19 123.01,252.98 \" fill=\"none\" id=\"E7&lt;-E8\" style=\"stroke: #383838; stroke-width: 1.0;\"/><polygon fill=\"#383838\" points=\"104,193.06,101.9989,199.9879,107.6243,204.4996,109.6253,197.5717,104,193.06\" style=\"stroke: #383838; stroke-width: 1.0;\"/></a><!--MD5=[f1f3f9f2fc535e6147756cb86a7f2e32]\n",
       "link E8 to E2--><a href=\"psysml:536a95df-7241-4403-bcab-1aa9fe7a4b7d\" target=\"_top\" title=\"psysml:536a95df-7241-4403-bcab-1aa9fe7a4b7d\" xlink:actuate=\"onRequest\" xlink:href=\"psysml:536a95df-7241-4403-bcab-1aa9fe7a4b7d\" xlink:show=\"new\" xlink:title=\"psysml:536a95df-7241-4403-bcab-1aa9fe7a4b7d\" xlink:type=\"simple\"><path d=\"M140.6,299.06 C146.44,311.19 153.86,326.62 160.68,340.82 \" fill=\"none\" id=\"E8-&gt;E2\" style=\"stroke: #383838; stroke-width: 1.0;\"/><polygon fill=\"#FFFFFF\" points=\"169.41,358.98,154.8709,344.8869,167.4894,338.8228,169.41,358.98\" style=\"stroke: #383838; stroke-width: 1.0;\"/><ellipse cx=\"154.2046\" cy=\"338.8831\" fill=\"#383838\" rx=\"2\" ry=\"2\" style=\"stroke: #383838; stroke-width: 1.0;\"/><ellipse cx=\"163.2178\" cy=\"334.5516\" fill=\"#383838\" rx=\"2\" ry=\"2\" style=\"stroke: #383838; stroke-width: 1.0;\"/></a><!--MD5=[e4a10ef82d0e328e31cac39a31e58dda]\n",
       "reverse link E7 to E9--><a href=\"psysml:2c441a1b-e979-4985-bcd5-61f8c13172d0\" target=\"_top\" title=\"psysml:2c441a1b-e979-4985-bcd5-61f8c13172d0\" xlink:actuate=\"onRequest\" xlink:href=\"psysml:2c441a1b-e979-4985-bcd5-61f8c13172d0\" xlink:show=\"new\" xlink:title=\"psysml:2c441a1b-e979-4985-bcd5-61f8c13172d0\" xlink:type=\"simple\"><path d=\"M82.41,205.49 C75.78,221.15 68.15,239.19 62.32,252.98 \" fill=\"none\" id=\"E7&lt;-E9\" style=\"stroke: #383838; stroke-width: 1.0;\"/><polygon fill=\"#383838\" points=\"87.67,193.06,81.6505,197.0305,83.0003,204.1142,89.0199,200.1436,87.67,193.06\" style=\"stroke: #383838; stroke-width: 1.0;\"/></a><!--MD5=[bfc3ddf2e613be37104f658f09af896c]\n",
       "link E9 to E5--><a href=\"psysml:fc8a5d52-f7b0-45e1-9a4f-1e932b65f071\" target=\"_top\" title=\"psysml:fc8a5d52-f7b0-45e1-9a4f-1e932b65f071\" xlink:actuate=\"onRequest\" xlink:href=\"psysml:fc8a5d52-f7b0-45e1-9a4f-1e932b65f071\" xlink:show=\"new\" xlink:title=\"psysml:fc8a5d52-f7b0-45e1-9a4f-1e932b65f071\" xlink:type=\"simple\"><path d=\"M55.54,299.06 C56.88,310.64 58.56,325.23 60.14,338.87 \" fill=\"none\" id=\"E9-&gt;E5\" style=\"stroke: #383838; stroke-width: 1.0;\"/><polygon fill=\"#FFFFFF\" points=\"62.46,358.98,53.3347,340.9044,67.243,339.3046,62.46,358.98\" style=\"stroke: #383838; stroke-width: 1.0;\"/><ellipse cx=\"54.6702\" cy=\"335.0132\" fill=\"#383838\" rx=\"2\" ry=\"2\" style=\"stroke: #383838; stroke-width: 1.0;\"/><ellipse cx=\"64.6047\" cy=\"333.8704\" fill=\"#383838\" rx=\"2\" ry=\"2\" style=\"stroke: #383838; stroke-width: 1.0;\"/></a><!--MD5=[a919e0967d6f3de553dc51b9865a1d6d]\n",
       "link E10 to E7--><a href=\"psysml:2e3833d6-0a03-41e5-9593-325ba84dff2e\" target=\"_top\" title=\"psysml:2e3833d6-0a03-41e5-9593-325ba84dff2e\" xlink:actuate=\"onRequest\" xlink:href=\"psysml:2e3833d6-0a03-41e5-9593-325ba84dff2e\" xlink:show=\"new\" xlink:title=\"psysml:2e3833d6-0a03-41e5-9593-325ba84dff2e\" xlink:type=\"simple\"><path d=\"M97,87.06 C97,98.64 97,113.23 97,126.87 \" fill=\"none\" id=\"E10-&gt;E7\" style=\"stroke: #383838; stroke-width: 1.0;\"/><polygon fill=\"#FFFFFF\" points=\"97,146.98,90,127.98,104,127.98,97,146.98\" style=\"stroke: #383838; stroke-width: 1.0;\"/><ellipse cx=\"92\" cy=\"122.28\" fill=\"#383838\" rx=\"2\" ry=\"2\" style=\"stroke: #383838; stroke-width: 1.0;\"/><ellipse cx=\"102\" cy=\"122.28\" fill=\"#383838\" rx=\"2\" ry=\"2\" style=\"stroke: #383838; stroke-width: 1.0;\"/></a><!--MD5=[a92a183829e5c84a6445d1f43873c88f]\n",
       "@startuml\r\n",
       "skinparam linetype polyline\r\n",
       "skinparam monochrome true\r\n",
       "skinparam classbackgroundcolor white\r\n",
       "skinparam shadowing false\r\n",
       "skinparam wrapWidth 300\r\n",
       "hide circle\r\n",
       "\r\n",
       "package \"Q\" as E1  [[psysml:427a19be-4ba6-433c-b392-6823bf74d458 ]]  {\r\n",
       "comp def \"F\" as E2  <<(T,blue) part def>> [[psysml:027effde-34e9-4491-ba0c-9f82cacaad23 ]] {\r\n",
       "}\r\n",
       "comp usage \"a\" as E3  <<(T,blue) part>> [[psysml:241a9b2a-e9cc-4b19-964a-2424b61c0639 ]] {\r\n",
       "}\r\n",
       "comp usage \"f: F\" as E4  <<(T,blue) part>> [[psysml:40835df5-3f1f-4886-9446-1465d21ad736 ]] {\r\n",
       "}\r\n",
       "comp def \"A\" as E5  <<(T,blue) part def>> [[psysml:299c2c32-5ec1-43b2-a066-b7748b01150c ]] {\r\n",
       "}\r\n",
       "comp usage \"g\" as E6  <<(T,blue) part>> [[psysml:31dec55f-8acf-4d42-bd51-f4047894820c ]] {\r\n",
       "}\r\n",
       "comp def \"B\" as E7  <<(T,blue) part def>> [[psysml:e57a8ff4-b454-49af-9671-50f81189572a ]] {\r\n",
       "}\r\n",
       "comp usage \"f: F\" as E8  <<(T,blue) part>> [[psysml:ae9b8861-e9cc-45e7-97b3-375fd90ac7d9 ]] {\r\n",
       "}\r\n",
       "comp usage \"a: A\" as E9  <<(T,blue) part>> [[psysml:d620b19b-a1e2-497d-8cad-3b2dc38fedc0 ]] {\r\n",
       "}\r\n",
       "comp usage \"b: B\" as E10  <<(T,blue) part>> [[psysml:f9a1a989-561d-4119-971e-8ebceafa94b4 ]] {\r\n",
       "}\r\n",
       "E2 *- - E3 [[psysml:5ee10b2b-55c1-4a08-a13b-bdb74e3f50e5 ]] \r\n",
       "E4 - -:|> E2 [[psysml:c4c1c0e2-eca3-4dc3-a203-c30912c3ab2b ]] \r\n",
       "E5 *- - E6 [[psysml:93463b7d-149f-4a15-b84b-177a9e530eda ]] \r\n",
       "E7 *- - E8 [[psysml:de6f8f38-3125-456b-a954-15a696931b63 ]] \r\n",
       "E8 - -:|> E2 [[psysml:536a95df-7241-4403-bcab-1aa9fe7a4b7d ]] \r\n",
       "E7 *- - E9 [[psysml:2c441a1b-e979-4985-bcd5-61f8c13172d0 ]] \r\n",
       "E9 - -:|> E5 [[psysml:fc8a5d52-f7b0-45e1-9a4f-1e932b65f071 ]] \r\n",
       "E10 - -:|> E7 [[psysml:2e3833d6-0a03-41e5-9593-325ba84dff2e ]] \r\n",
       "}\r\n",
       "@enduml\r\n",
       "\n",
       "PlantUML version 1.2020.13(Sat Jun 13 12:26:38 UTC 2020)\n",
       "(EPL source distribution)\n",
       "Java Runtime: OpenJDK Runtime Environment\n",
       "JVM: OpenJDK 64-Bit Server VM\n",
       "Default Encoding: UTF-8\n",
       "Language: en\n",
       "Country: null\n",
       "--></g></svg>"
      ]
     },
     "execution_count": 10,
     "metadata": {},
     "output_type": "execute_result"
    }
   ],
   "source": [
    "%viz --style=\"POLYLINE\" --view=\"Tree\" \"Q\""
   ]
  },
  {
   "cell_type": "code",
   "execution_count": 11,
   "id": "17e3cf98",
   "metadata": {
    "execution": {
     "iopub.execute_input": "2021-06-30T09:23:31.024969Z",
     "iopub.status.busy": "2021-06-30T09:23:31.023386Z",
     "iopub.status.idle": "2021-06-30T09:23:31.043450Z",
     "shell.execute_reply": "2021-06-30T09:23:31.042336Z"
    }
   },
   "outputs": [
    {
     "data": {
      "image/svg+xml": [
       "<?xml version=\"1.0\" encoding=\"UTF-8\" standalone=\"no\"?><svg xmlns=\"http://www.w3.org/2000/svg\" xmlns:xlink=\"http://www.w3.org/1999/xlink\" contentScriptType=\"application/ecmascript\" contentStyleType=\"text/css\" height=\"12px\" preserveAspectRatio=\"none\" style=\"width:12px;height:12px;\" version=\"1.1\" viewBox=\"0 0 12 12\" width=\"12px\" zoomAndPan=\"magnify\"><defs/><g><!--MD5=[896ac0e7a515d8dd7765a661cb4ee08b]\n",
       "@startuml\r\n",
       "skinparam linetype polyline\r\n",
       "skinparam monochrome true\r\n",
       "skinparam classbackgroundcolor white\r\n",
       "skinparam shadowing false\r\n",
       "skinparam wrapWidth 300\r\n",
       "hide circle\r\n",
       "\r\n",
       "@enduml\r\n",
       "\n",
       "PlantUML version 1.2020.13(Sat Jun 13 12:26:38 UTC 2020)\n",
       "(EPL source distribution)\n",
       "Java Runtime: OpenJDK Runtime Environment\n",
       "JVM: OpenJDK 64-Bit Server VM\n",
       "Default Encoding: UTF-8\n",
       "Language: en\n",
       "Country: null\n",
       "--></g></svg>"
      ]
     },
     "execution_count": 11,
     "metadata": {},
     "output_type": "execute_result"
    }
   ],
   "source": [
    "%viz --style=\"POLYLINE\" --view=\"State\" \"Q\""
   ]
  },
  {
   "cell_type": "code",
   "execution_count": 12,
   "id": "e9db4b74",
   "metadata": {
    "execution": {
     "iopub.execute_input": "2021-06-30T09:23:31.097505Z",
     "iopub.status.busy": "2021-06-30T09:23:31.096678Z",
     "iopub.status.idle": "2021-06-30T09:23:31.271382Z",
     "shell.execute_reply": "2021-06-30T09:23:31.272005Z"
    }
   },
   "outputs": [
    {
     "data": {
      "image/svg+xml": [
       "<?xml version=\"1.0\" encoding=\"UTF-8\" standalone=\"no\"?><svg xmlns=\"http://www.w3.org/2000/svg\" xmlns:xlink=\"http://www.w3.org/1999/xlink\" contentScriptType=\"application/ecmascript\" contentStyleType=\"text/css\" height=\"374px\" preserveAspectRatio=\"none\" style=\"width:616px;height:374px;\" version=\"1.1\" viewBox=\"0 0 616 374\" width=\"616px\" zoomAndPan=\"magnify\"><defs/><g><!--MD5=[fbc87193dbaf4d95561dea2c320d4a47]\n",
       "cluster E1--><a href=\"psysml:427a19be-4ba6-433c-b392-6823bf74d458\" target=\"_top\" title=\"psysml:427a19be-4ba6-433c-b392-6823bf74d458\" xlink:actuate=\"onRequest\" xlink:href=\"psysml:427a19be-4ba6-433c-b392-6823bf74d458\" xlink:show=\"new\" xlink:title=\"psysml:427a19be-4ba6-433c-b392-6823bf74d458\" xlink:type=\"simple\"><polygon fill=\"#FFFFFF\" points=\"16,6,34,6,41,28.2969,594,28.2969,594,362,16,362,16,6\" style=\"stroke: #000000; stroke-width: 1.5;\"/><line style=\"stroke: #000000; stroke-width: 1.5;\" x1=\"16\" x2=\"41\" y1=\"28.2969\" y2=\"28.2969\"/><text fill=\"#000000\" font-family=\"sans-serif\" font-size=\"14\" font-weight=\"bold\" lengthAdjust=\"spacingAndGlyphs\" textLength=\"12\" x=\"20\" y=\"20.9951\">Q</text></a><!--MD5=[e4f7fae6ed58524ba242bb0b0d3be6b7]\n",
       "cluster E2--><a href=\"psysml:027effde-34e9-4491-ba0c-9f82cacaad23\" target=\"_top\" title=\"psysml:027effde-34e9-4491-ba0c-9f82cacaad23\" xlink:actuate=\"onRequest\" xlink:href=\"psysml:027effde-34e9-4491-ba0c-9f82cacaad23\" xlink:show=\"new\" xlink:title=\"psysml:027effde-34e9-4491-ba0c-9f82cacaad23\" xlink:type=\"simple\"><rect fill=\"#FFFFFF\" height=\"107\" id=\"E2\" style=\"stroke: #383838; stroke-width: 1.5;\" width=\"87\" x=\"483\" y=\"92\"/><rect fill=\"#F8F8F8\" height=\"37.9375\" style=\"stroke: #383838; stroke-width: 1.5;\" width=\"87\" x=\"483\" y=\"92\"/><text fill=\"#000000\" font-family=\"sans-serif\" font-size=\"12\" font-style=\"italic\" lengthAdjust=\"spacingAndGlyphs\" textLength=\"64\" x=\"494.5\" y=\"108.1387\">«part def»</text><text fill=\"#000000\" font-family=\"sans-serif\" font-size=\"12\" lengthAdjust=\"spacingAndGlyphs\" textLength=\"7\" x=\"523\" y=\"122.1074\">F</text></a><!--MD5=[f6df4d0ebaf0b5dfb2ced0ae5af7c670]\n",
       "cluster E4--><a href=\"psysml:40835df5-3f1f-4886-9446-1465d21ad736\" target=\"_top\" title=\"psysml:40835df5-3f1f-4886-9446-1465d21ad736\" xlink:actuate=\"onRequest\" xlink:href=\"psysml:40835df5-3f1f-4886-9446-1465d21ad736\" xlink:show=\"new\" xlink:title=\"psysml:40835df5-3f1f-4886-9446-1465d21ad736\" xlink:type=\"simple\"><rect fill=\"#FFFFFF\" height=\"91\" id=\"E4\" rx=\"10\" ry=\"10\" style=\"stroke: #383838; stroke-width: 1.5;\" width=\"82\" x=\"377\" y=\"108\"/><rect fill=\"#F8F8F8\" height=\"23.9688\" rx=\"10\" ry=\"10\" style=\"stroke: #F8F8F8; stroke-width: 1.5;\" width=\"82\" x=\"377\" y=\"108\"/><rect fill=\"#F8F8F8\" height=\"10\" style=\"stroke: #F8F8F8; stroke-width: 1.5;\" width=\"82\" x=\"377\" y=\"121.9688\"/><rect fill=\"none\" height=\"91\" id=\"E4\" rx=\"10\" ry=\"10\" style=\"stroke: #383838; stroke-width: 1.5;\" width=\"82\" x=\"377\" y=\"108\"/><text fill=\"#000000\" font-family=\"sans-serif\" font-size=\"12\" lengthAdjust=\"spacingAndGlyphs\" textLength=\"19\" x=\"408.5\" y=\"124.1387\">f: F</text><line style=\"stroke: #383838; stroke-width: 1.0;\" x1=\"377\" x2=\"459\" y1=\"131.9688\" y2=\"131.9688\"/></a><!--MD5=[14e3b0961a2654348d326746436168a1]\n",
       "cluster E6--><a href=\"psysml:299c2c32-5ec1-43b2-a066-b7748b01150c\" target=\"_top\" title=\"psysml:299c2c32-5ec1-43b2-a066-b7748b01150c\" xlink:actuate=\"onRequest\" xlink:href=\"psysml:299c2c32-5ec1-43b2-a066-b7748b01150c\" xlink:show=\"new\" xlink:title=\"psysml:299c2c32-5ec1-43b2-a066-b7748b01150c\" xlink:type=\"simple\"><rect fill=\"#FFFFFF\" height=\"107\" id=\"E6\" style=\"stroke: #383838; stroke-width: 1.5;\" width=\"87\" x=\"266\" y=\"92\"/><rect fill=\"#F8F8F8\" height=\"37.9375\" style=\"stroke: #383838; stroke-width: 1.5;\" width=\"87\" x=\"266\" y=\"92\"/><text fill=\"#000000\" font-family=\"sans-serif\" font-size=\"12\" font-style=\"italic\" lengthAdjust=\"spacingAndGlyphs\" textLength=\"64\" x=\"277.5\" y=\"108.1387\">«part def»</text><text fill=\"#000000\" font-family=\"sans-serif\" font-size=\"12\" lengthAdjust=\"spacingAndGlyphs\" textLength=\"8\" x=\"305.5\" y=\"122.1074\">A</text></a><!--MD5=[55dfccfc6c49c2d10cd1bd2211a6c90c]\n",
       "cluster E8--><a href=\"psysml:e57a8ff4-b454-49af-9671-50f81189572a\" target=\"_top\" title=\"psysml:e57a8ff4-b454-49af-9671-50f81189572a\" xlink:actuate=\"onRequest\" xlink:href=\"psysml:e57a8ff4-b454-49af-9671-50f81189572a\" xlink:show=\"new\" xlink:title=\"psysml:e57a8ff4-b454-49af-9671-50f81189572a\" xlink:type=\"simple\"><rect fill=\"#FFFFFF\" height=\"289\" id=\"E8\" style=\"stroke: #383838; stroke-width: 1.5;\" width=\"144\" x=\"98\" y=\"49\"/><rect fill=\"#F8F8F8\" height=\"37.9375\" style=\"stroke: #383838; stroke-width: 1.5;\" width=\"144\" x=\"98\" y=\"49\"/><text fill=\"#000000\" font-family=\"sans-serif\" font-size=\"12\" font-style=\"italic\" lengthAdjust=\"spacingAndGlyphs\" textLength=\"64\" x=\"138\" y=\"65.1387\">«part def»</text><text fill=\"#000000\" font-family=\"sans-serif\" font-size=\"12\" lengthAdjust=\"spacingAndGlyphs\" textLength=\"8\" x=\"166\" y=\"79.1074\">B</text></a><!--MD5=[7f149f147074ac12df2cb0a7728a5fb0]\n",
       "cluster E9--><a href=\"psysml:ae9b8861-e9cc-45e7-97b3-375fd90ac7d9\" target=\"_top\" title=\"psysml:ae9b8861-e9cc-45e7-97b3-375fd90ac7d9\" xlink:actuate=\"onRequest\" xlink:href=\"psysml:ae9b8861-e9cc-45e7-97b3-375fd90ac7d9\" xlink:show=\"new\" xlink:title=\"psysml:ae9b8861-e9cc-45e7-97b3-375fd90ac7d9\" xlink:type=\"simple\"><rect fill=\"#FFFFFF\" height=\"91\" id=\"E9\" rx=\"10\" ry=\"10\" style=\"stroke: #383838; stroke-width: 1.5;\" width=\"82\" x=\"129\" y=\"223\"/><rect fill=\"#F8F8F8\" height=\"23.9688\" rx=\"10\" ry=\"10\" style=\"stroke: #F8F8F8; stroke-width: 1.5;\" width=\"82\" x=\"129\" y=\"223\"/><rect fill=\"#F8F8F8\" height=\"10\" style=\"stroke: #F8F8F8; stroke-width: 1.5;\" width=\"82\" x=\"129\" y=\"236.9688\"/><rect fill=\"none\" height=\"91\" id=\"E9\" rx=\"10\" ry=\"10\" style=\"stroke: #383838; stroke-width: 1.5;\" width=\"82\" x=\"129\" y=\"223\"/><text fill=\"#000000\" font-family=\"sans-serif\" font-size=\"12\" lengthAdjust=\"spacingAndGlyphs\" textLength=\"19\" x=\"160.5\" y=\"239.1387\">f: F</text><line style=\"stroke: #383838; stroke-width: 1.0;\" x1=\"129\" x2=\"211\" y1=\"246.9688\" y2=\"246.9688\"/></a><!--MD5=[917b9dd0c7eca3ee5f47219d1a84c0ad]\n",
       "cluster E11--><a href=\"psysml:d620b19b-a1e2-497d-8cad-3b2dc38fedc0\" target=\"_top\" title=\"psysml:d620b19b-a1e2-497d-8cad-3b2dc38fedc0\" xlink:actuate=\"onRequest\" xlink:href=\"psysml:d620b19b-a1e2-497d-8cad-3b2dc38fedc0\" xlink:show=\"new\" xlink:title=\"psysml:d620b19b-a1e2-497d-8cad-3b2dc38fedc0\" xlink:type=\"simple\"><rect fill=\"#FFFFFF\" height=\"91\" id=\"E11\" rx=\"10\" ry=\"10\" style=\"stroke: #383838; stroke-width: 1.5;\" width=\"96\" x=\"122\" y=\"108\"/><rect fill=\"#F8F8F8\" height=\"23.9688\" rx=\"10\" ry=\"10\" style=\"stroke: #F8F8F8; stroke-width: 1.5;\" width=\"96\" x=\"122\" y=\"108\"/><rect fill=\"#F8F8F8\" height=\"10\" style=\"stroke: #F8F8F8; stroke-width: 1.5;\" width=\"96\" x=\"122\" y=\"121.9688\"/><rect fill=\"none\" height=\"91\" id=\"E11\" rx=\"10\" ry=\"10\" style=\"stroke: #383838; stroke-width: 1.5;\" width=\"96\" x=\"122\" y=\"108\"/><text fill=\"#000000\" font-family=\"sans-serif\" font-size=\"12\" lengthAdjust=\"spacingAndGlyphs\" textLength=\"24\" x=\"158\" y=\"124.1387\">a: A</text><line style=\"stroke: #383838; stroke-width: 1.0;\" x1=\"122\" x2=\"218\" y1=\"131.9688\" y2=\"131.9688\"/></a><g id=\"E1.E2.E3\"><a href=\"psysml:241a9b2a-e9cc-4b19-964a-2424b61c0639\" target=\"_top\" title=\"psysml:241a9b2a-e9cc-4b19-964a-2424b61c0639\" xlink:actuate=\"onRequest\" xlink:href=\"psysml:241a9b2a-e9cc-4b19-964a-2424b61c0639\" xlink:show=\"new\" xlink:title=\"psysml:241a9b2a-e9cc-4b19-964a-2424b61c0639\" xlink:type=\"simple\"><rect fill=\"#FFFFFF\" height=\"40\" id=\"E3\" rx=\"10\" ry=\"10\" style=\"stroke: #383838; stroke-width: 1.5;\" width=\"50\" x=\"501\" y=\"143\"/><rect fill=\"#F8F8F8\" height=\"23.9688\" rx=\"10\" ry=\"10\" style=\"stroke: #F8F8F8; stroke-width: 1.5;\" width=\"50\" x=\"501\" y=\"143\"/><rect fill=\"#F8F8F8\" height=\"10\" style=\"stroke: #F8F8F8; stroke-width: 1.5;\" width=\"50\" x=\"501\" y=\"156.9688\"/><rect fill=\"none\" height=\"40\" id=\"E3\" rx=\"10\" ry=\"10\" style=\"stroke: #383838; stroke-width: 1.5;\" width=\"50\" x=\"501\" y=\"143\"/><text fill=\"#000000\" font-family=\"sans-serif\" font-size=\"12\" lengthAdjust=\"spacingAndGlyphs\" textLength=\"8\" x=\"522\" y=\"159.1387\">a</text></a></g><g id=\"E1.E4.E5\"><a href=\"psysml:241a9b2a-e9cc-4b19-964a-2424b61c0639\" target=\"_top\" title=\"psysml:241a9b2a-e9cc-4b19-964a-2424b61c0639\" xlink:actuate=\"onRequest\" xlink:href=\"psysml:241a9b2a-e9cc-4b19-964a-2424b61c0639\" xlink:show=\"new\" xlink:title=\"psysml:241a9b2a-e9cc-4b19-964a-2424b61c0639\" xlink:type=\"simple\"><rect fill=\"#FFFFFF\" height=\"40\" id=\"E5\" rx=\"10\" ry=\"10\" style=\"stroke: #383838; stroke-width: 1.5;\" width=\"50\" x=\"393\" y=\"143\"/><rect fill=\"#F8F8F8\" height=\"23.9688\" rx=\"10\" ry=\"10\" style=\"stroke: #F8F8F8; stroke-width: 1.5;\" width=\"50\" x=\"393\" y=\"143\"/><rect fill=\"#F8F8F8\" height=\"10\" style=\"stroke: #F8F8F8; stroke-width: 1.5;\" width=\"50\" x=\"393\" y=\"156.9688\"/><rect fill=\"none\" height=\"40\" id=\"E5\" rx=\"10\" ry=\"10\" style=\"stroke: #383838; stroke-width: 1.5;\" width=\"50\" x=\"393\" y=\"143\"/><text fill=\"#000000\" font-family=\"sans-serif\" font-size=\"12\" lengthAdjust=\"spacingAndGlyphs\" textLength=\"18\" x=\"409\" y=\"159.1387\">^a</text></a></g><g id=\"E1.E6.E7\"><a href=\"psysml:31dec55f-8acf-4d42-bd51-f4047894820c\" target=\"_top\" title=\"psysml:31dec55f-8acf-4d42-bd51-f4047894820c\" xlink:actuate=\"onRequest\" xlink:href=\"psysml:31dec55f-8acf-4d42-bd51-f4047894820c\" xlink:show=\"new\" xlink:title=\"psysml:31dec55f-8acf-4d42-bd51-f4047894820c\" xlink:type=\"simple\"><rect fill=\"#FFFFFF\" height=\"40\" id=\"E7\" rx=\"10\" ry=\"10\" style=\"stroke: #383838; stroke-width: 1.5;\" width=\"53\" x=\"282.5\" y=\"143\"/><rect fill=\"#F8F8F8\" height=\"23.9688\" rx=\"10\" ry=\"10\" style=\"stroke: #F8F8F8; stroke-width: 1.5;\" width=\"53\" x=\"282.5\" y=\"143\"/><rect fill=\"#F8F8F8\" height=\"10\" style=\"stroke: #F8F8F8; stroke-width: 1.5;\" width=\"53\" x=\"282.5\" y=\"156.9688\"/><rect fill=\"none\" height=\"40\" id=\"E7\" rx=\"10\" ry=\"10\" style=\"stroke: #383838; stroke-width: 1.5;\" width=\"53\" x=\"282.5\" y=\"143\"/><text fill=\"#000000\" font-family=\"sans-serif\" font-size=\"12\" lengthAdjust=\"spacingAndGlyphs\" textLength=\"38\" x=\"288\" y=\"159.1387\">g=f.a;</text></a></g><g id=\"E1.E8.E9.E10\"><a href=\"psysml:241a9b2a-e9cc-4b19-964a-2424b61c0639\" target=\"_top\" title=\"psysml:241a9b2a-e9cc-4b19-964a-2424b61c0639\" xlink:actuate=\"onRequest\" xlink:href=\"psysml:241a9b2a-e9cc-4b19-964a-2424b61c0639\" xlink:show=\"new\" xlink:title=\"psysml:241a9b2a-e9cc-4b19-964a-2424b61c0639\" xlink:type=\"simple\"><rect fill=\"#FFFFFF\" height=\"40\" id=\"E10\" rx=\"10\" ry=\"10\" style=\"stroke: #383838; stroke-width: 1.5;\" width=\"50\" x=\"145\" y=\"258\"/><rect fill=\"#F8F8F8\" height=\"23.9688\" rx=\"10\" ry=\"10\" style=\"stroke: #F8F8F8; stroke-width: 1.5;\" width=\"50\" x=\"145\" y=\"258\"/><rect fill=\"#F8F8F8\" height=\"10\" style=\"stroke: #F8F8F8; stroke-width: 1.5;\" width=\"50\" x=\"145\" y=\"271.9688\"/><rect fill=\"none\" height=\"40\" id=\"E10\" rx=\"10\" ry=\"10\" style=\"stroke: #383838; stroke-width: 1.5;\" width=\"50\" x=\"145\" y=\"258\"/><text fill=\"#000000\" font-family=\"sans-serif\" font-size=\"12\" lengthAdjust=\"spacingAndGlyphs\" textLength=\"18\" x=\"161\" y=\"274.1387\">^a</text></a></g><g id=\"E1.E8.E11.E12\"><a href=\"psysml:31dec55f-8acf-4d42-bd51-f4047894820c\" target=\"_top\" title=\"psysml:31dec55f-8acf-4d42-bd51-f4047894820c\" xlink:actuate=\"onRequest\" xlink:href=\"psysml:31dec55f-8acf-4d42-bd51-f4047894820c\" xlink:show=\"new\" xlink:title=\"psysml:31dec55f-8acf-4d42-bd51-f4047894820c\" xlink:type=\"simple\"><rect fill=\"#FFFFFF\" height=\"40\" id=\"E12\" rx=\"10\" ry=\"10\" style=\"stroke: #383838; stroke-width: 1.5;\" width=\"63\" x=\"138.5\" y=\"143\"/><rect fill=\"#F8F8F8\" height=\"23.9688\" rx=\"10\" ry=\"10\" style=\"stroke: #F8F8F8; stroke-width: 1.5;\" width=\"63\" x=\"138.5\" y=\"143\"/><rect fill=\"#F8F8F8\" height=\"10\" style=\"stroke: #F8F8F8; stroke-width: 1.5;\" width=\"63\" x=\"138.5\" y=\"156.9688\"/><rect fill=\"none\" height=\"40\" id=\"E12\" rx=\"10\" ry=\"10\" style=\"stroke: #383838; stroke-width: 1.5;\" width=\"63\" x=\"138.5\" y=\"143\"/><text fill=\"#000000\" font-family=\"sans-serif\" font-size=\"12\" lengthAdjust=\"spacingAndGlyphs\" textLength=\"48\" x=\"144\" y=\"159.1387\">^g=f.a;</text></a></g><g id=\"E1.E13\"><a href=\"psysml:f9a1a989-561d-4119-971e-8ebceafa94b4\" target=\"_top\" title=\"psysml:f9a1a989-561d-4119-971e-8ebceafa94b4\" xlink:actuate=\"onRequest\" xlink:href=\"psysml:f9a1a989-561d-4119-971e-8ebceafa94b4\" xlink:show=\"new\" xlink:title=\"psysml:f9a1a989-561d-4119-971e-8ebceafa94b4\" xlink:type=\"simple\"><rect fill=\"#FFFFFF\" height=\"40\" id=\"E13\" rx=\"10\" ry=\"10\" style=\"stroke: #383838; stroke-width: 1.5;\" width=\"50\" x=\"32\" y=\"143\"/><rect fill=\"#F8F8F8\" height=\"23.9688\" rx=\"10\" ry=\"10\" style=\"stroke: #F8F8F8; stroke-width: 1.5;\" width=\"50\" x=\"32\" y=\"143\"/><rect fill=\"#F8F8F8\" height=\"10\" style=\"stroke: #F8F8F8; stroke-width: 1.5;\" width=\"50\" x=\"32\" y=\"156.9688\"/><rect fill=\"none\" height=\"40\" id=\"E13\" rx=\"10\" ry=\"10\" style=\"stroke: #383838; stroke-width: 1.5;\" width=\"50\" x=\"32\" y=\"143\"/><text fill=\"#000000\" font-family=\"sans-serif\" font-size=\"12\" lengthAdjust=\"spacingAndGlyphs\" textLength=\"24\" x=\"45\" y=\"159.1387\">b: B</text></a></g><!--MD5=[65481eef76a7486101c58ded21a552db]\n",
       "link E12 to E10--><a href=\"psysml:d897c185-bd23-4685-b4dd-90f768e45c35\" target=\"_top\" title=\"psysml:d897c185-bd23-4685-b4dd-90f768e45c35\" xlink:actuate=\"onRequest\" xlink:href=\"psysml:d897c185-bd23-4685-b4dd-90f768e45c35\" xlink:show=\"new\" xlink:title=\"psysml:d897c185-bd23-4685-b4dd-90f768e45c35\" xlink:type=\"simple\"><path d=\"M160.15,183.17 C156.29,203.95 156.28,236.92 160.13,257.74 \" fill=\"none\" id=\"E12-E10\" style=\"stroke: #383838; stroke-width: 3.0;\"/></a><!--MD5=[65481eef76a7486101c58ded21a552db]\n",
       "link E12 to E10--><a href=\"psysml:a65e9cd3-f7a6-42d1-a2aa-d32628740aff\" target=\"_top\" title=\"psysml:a65e9cd3-f7a6-42d1-a2aa-d32628740aff\" xlink:actuate=\"onRequest\" xlink:href=\"psysml:a65e9cd3-f7a6-42d1-a2aa-d32628740aff\" xlink:show=\"new\" xlink:title=\"psysml:a65e9cd3-f7a6-42d1-a2aa-d32628740aff\" xlink:type=\"simple\"><path d=\"M180.43,183.17 C184.52,203.95 184.52,236.92 180.45,257.74 \" fill=\"none\" id=\"E12-E10-1\" style=\"stroke: #383838; stroke-width: 5.0;\"/></a><!--MD5=[0faad599dad8e78e94311481f2ae1a6d]\n",
       "@startuml\r\n",
       "skinparam ranksep 10\r\n",
       "skinparam rectangle {\r\n",
       " backgroundColor<<block>> LightGreen\r\n",
       "}\r\n",
       "skinparam linetype polyline\r\n",
       "skinparam monochrome true\r\n",
       "skinparam classbackgroundcolor white\r\n",
       "skinparam shadowing false\r\n",
       "skinparam wrapWidth 300\r\n",
       "hide circle\r\n",
       "\r\n",
       "package \"Q\" as E1  [[psysml:427a19be-4ba6-433c-b392-6823bf74d458 ]]  {\r\n",
       "rec def \"F\" as E2  <<(T,blue) part def>> [[psysml:027effde-34e9-4491-ba0c-9f82cacaad23 ]] {\r\n",
       "rec usage \"a\" as E3  [[psysml:241a9b2a-e9cc-4b19-964a-2424b61c0639 ]] {\r\n",
       "}\r\n",
       "}\r\n",
       "rec usage \"f: F\" as E4  [[psysml:40835df5-3f1f-4886-9446-1465d21ad736 ]] {\r\n",
       "rec usage \"^a\" as E5  [[psysml:241a9b2a-e9cc-4b19-964a-2424b61c0639 ]] {\r\n",
       "}\r\n",
       "}\r\n",
       "rec def \"A\" as E6  <<(T,blue) part def>> [[psysml:299c2c32-5ec1-43b2-a066-b7748b01150c ]] {\r\n",
       "rec usage \"g=f.a; \" as E7  [[psysml:31dec55f-8acf-4d42-bd51-f4047894820c ]] {\r\n",
       "}\r\n",
       "}\r\n",
       "rec def \"B\" as E8  <<(T,blue) part def>> [[psysml:e57a8ff4-b454-49af-9671-50f81189572a ]] {\r\n",
       "rec usage \"f: F\" as E9  [[psysml:ae9b8861-e9cc-45e7-97b3-375fd90ac7d9 ]] {\r\n",
       "rec usage \"^a\" as E10  [[psysml:241a9b2a-e9cc-4b19-964a-2424b61c0639 ]] {\r\n",
       "}\r\n",
       "}\r\n",
       "rec usage \"a: A\" as E11  [[psysml:d620b19b-a1e2-497d-8cad-3b2dc38fedc0 ]] {\r\n",
       "rec usage \"^g=f.a; \" as E12  [[psysml:31dec55f-8acf-4d42-bd51-f4047894820c ]] {\r\n",
       "}\r\n",
       "}\r\n",
       "}\r\n",
       "rec usage \"b: B\" as E13  [[psysml:f9a1a989-561d-4119-971e-8ebceafa94b4 ]] {\r\n",
       "}\r\n",
       "E12 -[thickness=3]- E10 [[psysml:d897c185-bd23-4685-b4dd-90f768e45c35 ]] \r\n",
       "E12 -[thickness=5]- E10 [[psysml:a65e9cd3-f7a6-42d1-a2aa-d32628740aff ]] \r\n",
       "}\r\n",
       "@enduml\r\n",
       "\n",
       "PlantUML version 1.2020.13(Sat Jun 13 12:26:38 UTC 2020)\n",
       "(EPL source distribution)\n",
       "Java Runtime: OpenJDK Runtime Environment\n",
       "JVM: OpenJDK 64-Bit Server VM\n",
       "Default Encoding: UTF-8\n",
       "Language: en\n",
       "Country: null\n",
       "--></g></svg>"
      ]
     },
     "execution_count": 12,
     "metadata": {},
     "output_type": "execute_result"
    }
   ],
   "source": [
    "%viz --style=\"POLYLINE\" --view=\"Interconnection\" \"Q\""
   ]
  },
  {
   "cell_type": "code",
   "execution_count": 13,
   "id": "9203ca91",
   "metadata": {
    "execution": {
     "iopub.execute_input": "2021-06-30T09:23:31.327847Z",
     "iopub.status.busy": "2021-06-30T09:23:31.326376Z",
     "iopub.status.idle": "2021-06-30T09:23:31.346015Z",
     "shell.execute_reply": "2021-06-30T09:23:31.344760Z"
    }
   },
   "outputs": [
    {
     "data": {
      "image/svg+xml": [
       "<?xml version=\"1.0\" encoding=\"UTF-8\" standalone=\"no\"?><svg xmlns=\"http://www.w3.org/2000/svg\" xmlns:xlink=\"http://www.w3.org/1999/xlink\" contentScriptType=\"application/ecmascript\" contentStyleType=\"text/css\" height=\"12px\" preserveAspectRatio=\"none\" style=\"width:12px;height:12px;\" version=\"1.1\" viewBox=\"0 0 12 12\" width=\"12px\" zoomAndPan=\"magnify\"><defs/><g><!--MD5=[97bbf32f66ccd50cbc40d92ea8f5a65e]\n",
       "@startuml\r\n",
       "skinparam ranksep 8\r\n",
       "skinparam linetype polyline\r\n",
       "skinparam monochrome true\r\n",
       "skinparam classbackgroundcolor white\r\n",
       "skinparam shadowing false\r\n",
       "skinparam wrapWidth 300\r\n",
       "hide circle\r\n",
       "\r\n",
       "@enduml\r\n",
       "\n",
       "PlantUML version 1.2020.13(Sat Jun 13 12:26:38 UTC 2020)\n",
       "(EPL source distribution)\n",
       "Java Runtime: OpenJDK Runtime Environment\n",
       "JVM: OpenJDK 64-Bit Server VM\n",
       "Default Encoding: UTF-8\n",
       "Language: en\n",
       "Country: null\n",
       "--></g></svg>"
      ]
     },
     "execution_count": 13,
     "metadata": {},
     "output_type": "execute_result"
    }
   ],
   "source": [
    "%viz --style=\"POLYLINE\" --view=\"Action\" \"Q\""
   ]
  },
  {
   "cell_type": "code",
   "execution_count": 14,
   "id": "78580851",
   "metadata": {
    "execution": {
     "iopub.execute_input": "2021-06-30T09:23:31.395592Z",
     "iopub.status.busy": "2021-06-30T09:23:31.394941Z",
     "iopub.status.idle": "2021-06-30T09:23:31.514394Z",
     "shell.execute_reply": "2021-06-30T09:23:31.511374Z"
    }
   },
   "outputs": [
    {
     "data": {
      "image/svg+xml": [
       "<?xml version=\"1.0\" encoding=\"UTF-8\" standalone=\"no\"?><svg xmlns=\"http://www.w3.org/2000/svg\" xmlns:xlink=\"http://www.w3.org/1999/xlink\" contentScriptType=\"application/ecmascript\" contentStyleType=\"text/css\" height=\"539px\" preserveAspectRatio=\"none\" style=\"width:266px;height:539px;\" version=\"1.1\" viewBox=\"0 0 266 539\" width=\"266px\" zoomAndPan=\"magnify\"><defs/><g><!--MD5=[fbc87193dbaf4d95561dea2c320d4a47]\n",
       "cluster E1--><a href=\"psysml:427a19be-4ba6-433c-b392-6823bf74d458\" target=\"_top\" title=\"psysml:427a19be-4ba6-433c-b392-6823bf74d458\" xlink:actuate=\"onRequest\" xlink:href=\"psysml:427a19be-4ba6-433c-b392-6823bf74d458\" xlink:show=\"new\" xlink:title=\"psysml:427a19be-4ba6-433c-b392-6823bf74d458\" xlink:type=\"simple\"><polygon fill=\"#FFFFFF\" points=\"16,6,34,6,41,28.2969,244,28.2969,244,527,16,527,16,6\" style=\"stroke: #000000; stroke-width: 1.5;\"/><line style=\"stroke: #000000; stroke-width: 1.5;\" x1=\"16\" x2=\"41\" y1=\"28.2969\" y2=\"28.2969\"/><text fill=\"#000000\" font-family=\"sans-serif\" font-size=\"14\" font-weight=\"bold\" lengthAdjust=\"spacingAndGlyphs\" textLength=\"12\" x=\"20\" y=\"20.9951\">Q</text></a><!--MD5=[b4997ac47864f28c2f74865a473b2911]\n",
       "class E2--><a href=\"psysml:027effde-34e9-4491-ba0c-9f82cacaad23\" target=\"_top\" title=\"psysml:027effde-34e9-4491-ba0c-9f82cacaad23\" xlink:actuate=\"onRequest\" xlink:href=\"psysml:027effde-34e9-4491-ba0c-9f82cacaad23\" xlink:show=\"new\" xlink:title=\"psysml:027effde-34e9-4491-ba0c-9f82cacaad23\" xlink:type=\"simple\"><rect fill=\"#FFFFFF\" height=\"45.9375\" id=\"E2\" style=\"stroke: #383838; stroke-width: 1.5;\" width=\"66\" x=\"147\" y=\"359\"/><text fill=\"#000000\" font-family=\"sans-serif\" font-size=\"12\" font-style=\"italic\" lengthAdjust=\"spacingAndGlyphs\" textLength=\"64\" x=\"148\" y=\"375.1387\">«part def»</text><text fill=\"#000000\" font-family=\"sans-serif\" font-size=\"12\" lengthAdjust=\"spacingAndGlyphs\" textLength=\"7\" x=\"176.5\" y=\"389.1074\">F</text><line style=\"stroke: #383838; stroke-width: 1.5;\" x1=\"148\" x2=\"212\" y1=\"396.9375\" y2=\"396.9375\"/></a><!--MD5=[09b614a08d8cba4a07c9adeb5e0fee81]\n",
       "class E3--><a href=\"psysml:241a9b2a-e9cc-4b19-964a-2424b61c0639\" target=\"_top\" title=\"psysml:241a9b2a-e9cc-4b19-964a-2424b61c0639\" xlink:actuate=\"onRequest\" xlink:href=\"psysml:241a9b2a-e9cc-4b19-964a-2424b61c0639\" xlink:show=\"new\" xlink:title=\"psysml:241a9b2a-e9cc-4b19-964a-2424b61c0639\" xlink:type=\"simple\"><rect fill=\"#FFFFFF\" height=\"45.9375\" id=\"E3\" rx=\"10\" ry=\"10\" style=\"stroke: #383838; stroke-width: 1.5;\" width=\"42\" x=\"159\" y=\"465\"/><text fill=\"#000000\" font-family=\"sans-serif\" font-size=\"12\" font-style=\"italic\" lengthAdjust=\"spacingAndGlyphs\" textLength=\"40\" x=\"160\" y=\"481.1387\">«part»</text><text fill=\"#000000\" font-family=\"sans-serif\" font-size=\"12\" lengthAdjust=\"spacingAndGlyphs\" textLength=\"8\" x=\"176\" y=\"495.1074\">a</text><line style=\"stroke: #383838; stroke-width: 1.5;\" x1=\"160\" x2=\"200\" y1=\"502.9375\" y2=\"502.9375\"/></a><!--MD5=[ebbe1d658d1005bcc118a6aa81145e00]\n",
       "class E4--><a href=\"psysml:40835df5-3f1f-4886-9446-1465d21ad736\" target=\"_top\" title=\"psysml:40835df5-3f1f-4886-9446-1465d21ad736\" xlink:actuate=\"onRequest\" xlink:href=\"psysml:40835df5-3f1f-4886-9446-1465d21ad736\" xlink:show=\"new\" xlink:title=\"psysml:40835df5-3f1f-4886-9446-1465d21ad736\" xlink:type=\"simple\"><rect fill=\"#FFFFFF\" height=\"45.9375\" id=\"E4\" rx=\"10\" ry=\"10\" style=\"stroke: #383838; stroke-width: 1.5;\" width=\"42\" x=\"186\" y=\"253\"/><text fill=\"#000000\" font-family=\"sans-serif\" font-size=\"12\" font-style=\"italic\" lengthAdjust=\"spacingAndGlyphs\" textLength=\"40\" x=\"187\" y=\"269.1387\">«part»</text><text fill=\"#000000\" font-family=\"sans-serif\" font-size=\"12\" lengthAdjust=\"spacingAndGlyphs\" textLength=\"19\" x=\"197.5\" y=\"283.1074\">f: F</text><line style=\"stroke: #383838; stroke-width: 1.5;\" x1=\"187\" x2=\"227\" y1=\"290.9375\" y2=\"290.9375\"/></a><!--MD5=[270fce915f116d4de14055a7c1d9a0f3]\n",
       "class E5--><a href=\"psysml:299c2c32-5ec1-43b2-a066-b7748b01150c\" target=\"_top\" title=\"psysml:299c2c32-5ec1-43b2-a066-b7748b01150c\" xlink:actuate=\"onRequest\" xlink:href=\"psysml:299c2c32-5ec1-43b2-a066-b7748b01150c\" xlink:show=\"new\" xlink:title=\"psysml:299c2c32-5ec1-43b2-a066-b7748b01150c\" xlink:type=\"simple\"><rect fill=\"#FFFFFF\" height=\"45.9375\" id=\"E5\" style=\"stroke: #383838; stroke-width: 1.5;\" width=\"66\" x=\"32\" y=\"359\"/><text fill=\"#000000\" font-family=\"sans-serif\" font-size=\"12\" font-style=\"italic\" lengthAdjust=\"spacingAndGlyphs\" textLength=\"64\" x=\"33\" y=\"375.1387\">«part def»</text><text fill=\"#000000\" font-family=\"sans-serif\" font-size=\"12\" lengthAdjust=\"spacingAndGlyphs\" textLength=\"8\" x=\"61\" y=\"389.1074\">A</text><line style=\"stroke: #383838; stroke-width: 1.5;\" x1=\"33\" x2=\"97\" y1=\"396.9375\" y2=\"396.9375\"/></a><!--MD5=[60a26617385b1d2d0262a64233df1f8d]\n",
       "class E6--><a href=\"psysml:31dec55f-8acf-4d42-bd51-f4047894820c\" target=\"_top\" title=\"psysml:31dec55f-8acf-4d42-bd51-f4047894820c\" xlink:actuate=\"onRequest\" xlink:href=\"psysml:31dec55f-8acf-4d42-bd51-f4047894820c\" xlink:show=\"new\" xlink:title=\"psysml:31dec55f-8acf-4d42-bd51-f4047894820c\" xlink:type=\"simple\"><rect fill=\"#FFFFFF\" height=\"45.9375\" id=\"E6\" rx=\"10\" ry=\"10\" style=\"stroke: #383838; stroke-width: 1.5;\" width=\"42\" x=\"44\" y=\"465\"/><text fill=\"#000000\" font-family=\"sans-serif\" font-size=\"12\" font-style=\"italic\" lengthAdjust=\"spacingAndGlyphs\" textLength=\"40\" x=\"45\" y=\"481.1387\">«part»</text><text fill=\"#000000\" font-family=\"sans-serif\" font-size=\"12\" lengthAdjust=\"spacingAndGlyphs\" textLength=\"8\" x=\"61\" y=\"495.1074\">g</text><line style=\"stroke: #383838; stroke-width: 1.5;\" x1=\"45\" x2=\"85\" y1=\"502.9375\" y2=\"502.9375\"/></a><!--MD5=[2156ba9850f5573cc1fc38a6a4b2f02b]\n",
       "class E7--><a href=\"psysml:e57a8ff4-b454-49af-9671-50f81189572a\" target=\"_top\" title=\"psysml:e57a8ff4-b454-49af-9671-50f81189572a\" xlink:actuate=\"onRequest\" xlink:href=\"psysml:e57a8ff4-b454-49af-9671-50f81189572a\" xlink:show=\"new\" xlink:title=\"psysml:e57a8ff4-b454-49af-9671-50f81189572a\" xlink:type=\"simple\"><rect fill=\"#FFFFFF\" height=\"45.9375\" id=\"E7\" style=\"stroke: #383838; stroke-width: 1.5;\" width=\"66\" x=\"64\" y=\"147\"/><text fill=\"#000000\" font-family=\"sans-serif\" font-size=\"12\" font-style=\"italic\" lengthAdjust=\"spacingAndGlyphs\" textLength=\"64\" x=\"65\" y=\"163.1387\">«part def»</text><text fill=\"#000000\" font-family=\"sans-serif\" font-size=\"12\" lengthAdjust=\"spacingAndGlyphs\" textLength=\"8\" x=\"93\" y=\"177.1074\">B</text><line style=\"stroke: #383838; stroke-width: 1.5;\" x1=\"65\" x2=\"129\" y1=\"184.9375\" y2=\"184.9375\"/></a><!--MD5=[b9389687b975829384b498ac4b7476b2]\n",
       "class E8--><a href=\"psysml:ae9b8861-e9cc-45e7-97b3-375fd90ac7d9\" target=\"_top\" title=\"psysml:ae9b8861-e9cc-45e7-97b3-375fd90ac7d9\" xlink:actuate=\"onRequest\" xlink:href=\"psysml:ae9b8861-e9cc-45e7-97b3-375fd90ac7d9\" xlink:show=\"new\" xlink:title=\"psysml:ae9b8861-e9cc-45e7-97b3-375fd90ac7d9\" xlink:type=\"simple\"><rect fill=\"#FFFFFF\" height=\"45.9375\" id=\"E8\" rx=\"10\" ry=\"10\" style=\"stroke: #383838; stroke-width: 1.5;\" width=\"42\" x=\"109\" y=\"253\"/><text fill=\"#000000\" font-family=\"sans-serif\" font-size=\"12\" font-style=\"italic\" lengthAdjust=\"spacingAndGlyphs\" textLength=\"40\" x=\"110\" y=\"269.1387\">«part»</text><text fill=\"#000000\" font-family=\"sans-serif\" font-size=\"12\" lengthAdjust=\"spacingAndGlyphs\" textLength=\"19\" x=\"120.5\" y=\"283.1074\">f: F</text><line style=\"stroke: #383838; stroke-width: 1.5;\" x1=\"110\" x2=\"150\" y1=\"290.9375\" y2=\"290.9375\"/></a><!--MD5=[fd4143e9d270a159db93a4ea2a975926]\n",
       "class E9--><a href=\"psysml:d620b19b-a1e2-497d-8cad-3b2dc38fedc0\" target=\"_top\" title=\"psysml:d620b19b-a1e2-497d-8cad-3b2dc38fedc0\" xlink:actuate=\"onRequest\" xlink:href=\"psysml:d620b19b-a1e2-497d-8cad-3b2dc38fedc0\" xlink:show=\"new\" xlink:title=\"psysml:d620b19b-a1e2-497d-8cad-3b2dc38fedc0\" xlink:type=\"simple\"><rect fill=\"#FFFFFF\" height=\"45.9375\" id=\"E9\" rx=\"10\" ry=\"10\" style=\"stroke: #383838; stroke-width: 1.5;\" width=\"42\" x=\"32\" y=\"253\"/><text fill=\"#000000\" font-family=\"sans-serif\" font-size=\"12\" font-style=\"italic\" lengthAdjust=\"spacingAndGlyphs\" textLength=\"40\" x=\"33\" y=\"269.1387\">«part»</text><text fill=\"#000000\" font-family=\"sans-serif\" font-size=\"12\" lengthAdjust=\"spacingAndGlyphs\" textLength=\"24\" x=\"41\" y=\"283.1074\">a: A</text><line style=\"stroke: #383838; stroke-width: 1.5;\" x1=\"33\" x2=\"73\" y1=\"290.9375\" y2=\"290.9375\"/></a><!--MD5=[96f4274e9e20536e775497830990834d]\n",
       "class E10--><a href=\"psysml:f9a1a989-561d-4119-971e-8ebceafa94b4\" target=\"_top\" title=\"psysml:f9a1a989-561d-4119-971e-8ebceafa94b4\" xlink:actuate=\"onRequest\" xlink:href=\"psysml:f9a1a989-561d-4119-971e-8ebceafa94b4\" xlink:show=\"new\" xlink:title=\"psysml:f9a1a989-561d-4119-971e-8ebceafa94b4\" xlink:type=\"simple\"><rect fill=\"#FFFFFF\" height=\"45.9375\" id=\"E10\" rx=\"10\" ry=\"10\" style=\"stroke: #383838; stroke-width: 1.5;\" width=\"42\" x=\"76\" y=\"41\"/><text fill=\"#000000\" font-family=\"sans-serif\" font-size=\"12\" font-style=\"italic\" lengthAdjust=\"spacingAndGlyphs\" textLength=\"40\" x=\"77\" y=\"57.1387\">«part»</text><text fill=\"#000000\" font-family=\"sans-serif\" font-size=\"12\" lengthAdjust=\"spacingAndGlyphs\" textLength=\"24\" x=\"85\" y=\"71.1074\">b: B</text><line style=\"stroke: #383838; stroke-width: 1.5;\" x1=\"77\" x2=\"117\" y1=\"78.9375\" y2=\"78.9375\"/></a><!--MD5=[209b3feb70ccb6233bfe1053d122c12c]\n",
       "reverse link E2 to E3--><a href=\"psysml:5ee10b2b-55c1-4a08-a13b-bdb74e3f50e5\" target=\"_top\" title=\"psysml:5ee10b2b-55c1-4a08-a13b-bdb74e3f50e5\" xlink:actuate=\"onRequest\" xlink:href=\"psysml:5ee10b2b-55c1-4a08-a13b-bdb74e3f50e5\" xlink:show=\"new\" xlink:title=\"psysml:5ee10b2b-55c1-4a08-a13b-bdb74e3f50e5\" xlink:type=\"simple\"><path d=\"M180,418.44 C180,433.87 180,451.47 180,464.98 \" fill=\"none\" id=\"E2&lt;-E3\" style=\"stroke: #383838; stroke-width: 1.0;\"/><polygon fill=\"#383838\" points=\"180,405.06,176,411.06,180,417.06,184,411.06,180,405.06\" style=\"stroke: #383838; stroke-width: 1.0;\"/></a><!--MD5=[185131fc0dcab0a4505a2ebe144e961b]\n",
       "link E4 to E2--><a href=\"psysml:c4c1c0e2-eca3-4dc3-a203-c30912c3ab2b\" target=\"_top\" title=\"psysml:c4c1c0e2-eca3-4dc3-a203-c30912c3ab2b\" xlink:actuate=\"onRequest\" xlink:href=\"psysml:c4c1c0e2-eca3-4dc3-a203-c30912c3ab2b\" xlink:show=\"new\" xlink:title=\"psysml:c4c1c0e2-eca3-4dc3-a203-c30912c3ab2b\" xlink:type=\"simple\"><path d=\"M201.27,299.06 C198.23,310.78 194.39,325.57 190.81,339.36 \" fill=\"none\" id=\"E4-&gt;E2\" style=\"stroke: #383838; stroke-width: 1.0;\"/><polygon fill=\"#FFFFFF\" points=\"185.72,358.98,183.7221,338.8303,197.2724,342.3504,185.72,358.98\" style=\"stroke: #383838; stroke-width: 1.0;\"/><ellipse cx=\"187.091\" cy=\"333.8163\" fill=\"#383838\" rx=\"2\" ry=\"2\" style=\"stroke: #383838; stroke-width: 1.0;\"/><ellipse cx=\"196.7698\" cy=\"336.3307\" fill=\"#383838\" rx=\"2\" ry=\"2\" style=\"stroke: #383838; stroke-width: 1.0;\"/></a><!--MD5=[85d356282659285ab4b2cfe2f634dd2b]\n",
       "reverse link E5 to E6--><a href=\"psysml:93463b7d-149f-4a15-b84b-177a9e530eda\" target=\"_top\" title=\"psysml:93463b7d-149f-4a15-b84b-177a9e530eda\" xlink:actuate=\"onRequest\" xlink:href=\"psysml:93463b7d-149f-4a15-b84b-177a9e530eda\" xlink:show=\"new\" xlink:title=\"psysml:93463b7d-149f-4a15-b84b-177a9e530eda\" xlink:type=\"simple\"><path d=\"M65,418.44 C65,433.87 65,451.47 65,464.98 \" fill=\"none\" id=\"E5&lt;-E6\" style=\"stroke: #383838; stroke-width: 1.0;\"/><polygon fill=\"#383838\" points=\"65,405.06,61,411.06,65,417.06,69,411.06,65,405.06\" style=\"stroke: #383838; stroke-width: 1.0;\"/></a><!--MD5=[dc164f5e8a733ab456ef1add180e9e34]\n",
       "reverse link E7 to E8--><a href=\"psysml:de6f8f38-3125-456b-a954-15a696931b63\" target=\"_top\" title=\"psysml:de6f8f38-3125-456b-a954-15a696931b63\" xlink:actuate=\"onRequest\" xlink:href=\"psysml:de6f8f38-3125-456b-a954-15a696931b63\" xlink:show=\"new\" xlink:title=\"psysml:de6f8f38-3125-456b-a954-15a696931b63\" xlink:type=\"simple\"><path d=\"M107.95,205.49 C112.91,221.15 118.64,239.19 123.01,252.98 \" fill=\"none\" id=\"E7&lt;-E8\" style=\"stroke: #383838; stroke-width: 1.0;\"/><polygon fill=\"#383838\" points=\"104,193.06,101.9989,199.9879,107.6243,204.4996,109.6253,197.5717,104,193.06\" style=\"stroke: #383838; stroke-width: 1.0;\"/></a><!--MD5=[f1f3f9f2fc535e6147756cb86a7f2e32]\n",
       "link E8 to E2--><a href=\"psysml:536a95df-7241-4403-bcab-1aa9fe7a4b7d\" target=\"_top\" title=\"psysml:536a95df-7241-4403-bcab-1aa9fe7a4b7d\" xlink:actuate=\"onRequest\" xlink:href=\"psysml:536a95df-7241-4403-bcab-1aa9fe7a4b7d\" xlink:show=\"new\" xlink:title=\"psysml:536a95df-7241-4403-bcab-1aa9fe7a4b7d\" xlink:type=\"simple\"><path d=\"M140.6,299.06 C146.44,311.19 153.86,326.62 160.68,340.82 \" fill=\"none\" id=\"E8-&gt;E2\" style=\"stroke: #383838; stroke-width: 1.0;\"/><polygon fill=\"#FFFFFF\" points=\"169.41,358.98,154.8709,344.8869,167.4894,338.8228,169.41,358.98\" style=\"stroke: #383838; stroke-width: 1.0;\"/><ellipse cx=\"154.2046\" cy=\"338.8831\" fill=\"#383838\" rx=\"2\" ry=\"2\" style=\"stroke: #383838; stroke-width: 1.0;\"/><ellipse cx=\"163.2178\" cy=\"334.5516\" fill=\"#383838\" rx=\"2\" ry=\"2\" style=\"stroke: #383838; stroke-width: 1.0;\"/></a><!--MD5=[e4a10ef82d0e328e31cac39a31e58dda]\n",
       "reverse link E7 to E9--><a href=\"psysml:2c441a1b-e979-4985-bcd5-61f8c13172d0\" target=\"_top\" title=\"psysml:2c441a1b-e979-4985-bcd5-61f8c13172d0\" xlink:actuate=\"onRequest\" xlink:href=\"psysml:2c441a1b-e979-4985-bcd5-61f8c13172d0\" xlink:show=\"new\" xlink:title=\"psysml:2c441a1b-e979-4985-bcd5-61f8c13172d0\" xlink:type=\"simple\"><path d=\"M82.41,205.49 C75.78,221.15 68.15,239.19 62.32,252.98 \" fill=\"none\" id=\"E7&lt;-E9\" style=\"stroke: #383838; stroke-width: 1.0;\"/><polygon fill=\"#383838\" points=\"87.67,193.06,81.6505,197.0305,83.0003,204.1142,89.0199,200.1436,87.67,193.06\" style=\"stroke: #383838; stroke-width: 1.0;\"/></a><!--MD5=[bfc3ddf2e613be37104f658f09af896c]\n",
       "link E9 to E5--><a href=\"psysml:fc8a5d52-f7b0-45e1-9a4f-1e932b65f071\" target=\"_top\" title=\"psysml:fc8a5d52-f7b0-45e1-9a4f-1e932b65f071\" xlink:actuate=\"onRequest\" xlink:href=\"psysml:fc8a5d52-f7b0-45e1-9a4f-1e932b65f071\" xlink:show=\"new\" xlink:title=\"psysml:fc8a5d52-f7b0-45e1-9a4f-1e932b65f071\" xlink:type=\"simple\"><path d=\"M55.54,299.06 C56.88,310.64 58.56,325.23 60.14,338.87 \" fill=\"none\" id=\"E9-&gt;E5\" style=\"stroke: #383838; stroke-width: 1.0;\"/><polygon fill=\"#FFFFFF\" points=\"62.46,358.98,53.3347,340.9044,67.243,339.3046,62.46,358.98\" style=\"stroke: #383838; stroke-width: 1.0;\"/><ellipse cx=\"54.6702\" cy=\"335.0132\" fill=\"#383838\" rx=\"2\" ry=\"2\" style=\"stroke: #383838; stroke-width: 1.0;\"/><ellipse cx=\"64.6047\" cy=\"333.8704\" fill=\"#383838\" rx=\"2\" ry=\"2\" style=\"stroke: #383838; stroke-width: 1.0;\"/></a><!--MD5=[a919e0967d6f3de553dc51b9865a1d6d]\n",
       "link E10 to E7--><a href=\"psysml:2e3833d6-0a03-41e5-9593-325ba84dff2e\" target=\"_top\" title=\"psysml:2e3833d6-0a03-41e5-9593-325ba84dff2e\" xlink:actuate=\"onRequest\" xlink:href=\"psysml:2e3833d6-0a03-41e5-9593-325ba84dff2e\" xlink:show=\"new\" xlink:title=\"psysml:2e3833d6-0a03-41e5-9593-325ba84dff2e\" xlink:type=\"simple\"><path d=\"M97,87.06 C97,98.64 97,113.23 97,126.87 \" fill=\"none\" id=\"E10-&gt;E7\" style=\"stroke: #383838; stroke-width: 1.0;\"/><polygon fill=\"#FFFFFF\" points=\"97,146.98,90,127.98,104,127.98,97,146.98\" style=\"stroke: #383838; stroke-width: 1.0;\"/><ellipse cx=\"92\" cy=\"122.28\" fill=\"#383838\" rx=\"2\" ry=\"2\" style=\"stroke: #383838; stroke-width: 1.0;\"/><ellipse cx=\"102\" cy=\"122.28\" fill=\"#383838\" rx=\"2\" ry=\"2\" style=\"stroke: #383838; stroke-width: 1.0;\"/></a><!--MD5=[a92a183829e5c84a6445d1f43873c88f]\n",
       "@startuml\r\n",
       "skinparam linetype polyline\r\n",
       "skinparam monochrome true\r\n",
       "skinparam classbackgroundcolor white\r\n",
       "skinparam shadowing false\r\n",
       "skinparam wrapWidth 300\r\n",
       "hide circle\r\n",
       "\r\n",
       "package \"Q\" as E1  [[psysml:427a19be-4ba6-433c-b392-6823bf74d458 ]]  {\r\n",
       "comp def \"F\" as E2  <<(T,blue) part def>> [[psysml:027effde-34e9-4491-ba0c-9f82cacaad23 ]] {\r\n",
       "}\r\n",
       "comp usage \"a\" as E3  <<(T,blue) part>> [[psysml:241a9b2a-e9cc-4b19-964a-2424b61c0639 ]] {\r\n",
       "}\r\n",
       "comp usage \"f: F\" as E4  <<(T,blue) part>> [[psysml:40835df5-3f1f-4886-9446-1465d21ad736 ]] {\r\n",
       "}\r\n",
       "comp def \"A\" as E5  <<(T,blue) part def>> [[psysml:299c2c32-5ec1-43b2-a066-b7748b01150c ]] {\r\n",
       "}\r\n",
       "comp usage \"g\" as E6  <<(T,blue) part>> [[psysml:31dec55f-8acf-4d42-bd51-f4047894820c ]] {\r\n",
       "}\r\n",
       "comp def \"B\" as E7  <<(T,blue) part def>> [[psysml:e57a8ff4-b454-49af-9671-50f81189572a ]] {\r\n",
       "}\r\n",
       "comp usage \"f: F\" as E8  <<(T,blue) part>> [[psysml:ae9b8861-e9cc-45e7-97b3-375fd90ac7d9 ]] {\r\n",
       "}\r\n",
       "comp usage \"a: A\" as E9  <<(T,blue) part>> [[psysml:d620b19b-a1e2-497d-8cad-3b2dc38fedc0 ]] {\r\n",
       "}\r\n",
       "comp usage \"b: B\" as E10  <<(T,blue) part>> [[psysml:f9a1a989-561d-4119-971e-8ebceafa94b4 ]] {\r\n",
       "}\r\n",
       "E2 *- - E3 [[psysml:5ee10b2b-55c1-4a08-a13b-bdb74e3f50e5 ]] \r\n",
       "E4 - -:|> E2 [[psysml:c4c1c0e2-eca3-4dc3-a203-c30912c3ab2b ]] \r\n",
       "E5 *- - E6 [[psysml:93463b7d-149f-4a15-b84b-177a9e530eda ]] \r\n",
       "E7 *- - E8 [[psysml:de6f8f38-3125-456b-a954-15a696931b63 ]] \r\n",
       "E8 - -:|> E2 [[psysml:536a95df-7241-4403-bcab-1aa9fe7a4b7d ]] \r\n",
       "E7 *- - E9 [[psysml:2c441a1b-e979-4985-bcd5-61f8c13172d0 ]] \r\n",
       "E9 - -:|> E5 [[psysml:fc8a5d52-f7b0-45e1-9a4f-1e932b65f071 ]] \r\n",
       "E10 - -:|> E7 [[psysml:2e3833d6-0a03-41e5-9593-325ba84dff2e ]] \r\n",
       "}\r\n",
       "@enduml\r\n",
       "\n",
       "PlantUML version 1.2020.13(Sat Jun 13 12:26:38 UTC 2020)\n",
       "(EPL source distribution)\n",
       "Java Runtime: OpenJDK Runtime Environment\n",
       "JVM: OpenJDK 64-Bit Server VM\n",
       "Default Encoding: UTF-8\n",
       "Language: en\n",
       "Country: null\n",
       "--></g></svg>"
      ]
     },
     "execution_count": 14,
     "metadata": {},
     "output_type": "execute_result"
    }
   ],
   "source": [
    "%viz --style=\"POLYLINE\" --view=\"Sequence\" \"Q\""
   ]
  },
  {
   "cell_type": "code",
   "execution_count": 15,
   "id": "cd387468",
   "metadata": {
    "execution": {
     "iopub.execute_input": "2021-06-30T09:23:31.569276Z",
     "iopub.status.busy": "2021-06-30T09:23:31.567452Z",
     "iopub.status.idle": "2021-06-30T09:23:31.701106Z",
     "shell.execute_reply": "2021-06-30T09:23:31.702058Z"
    }
   },
   "outputs": [
    {
     "data": {
      "image/svg+xml": [
       "<?xml version=\"1.0\" encoding=\"UTF-8\" standalone=\"no\"?><svg xmlns=\"http://www.w3.org/2000/svg\" xmlns:xlink=\"http://www.w3.org/1999/xlink\" contentScriptType=\"application/ecmascript\" contentStyleType=\"text/css\" height=\"539px\" preserveAspectRatio=\"none\" style=\"width:266px;height:539px;\" version=\"1.1\" viewBox=\"0 0 266 539\" width=\"266px\" zoomAndPan=\"magnify\"><defs/><g><!--MD5=[fbc87193dbaf4d95561dea2c320d4a47]\n",
       "cluster E1--><a href=\"psysml:427a19be-4ba6-433c-b392-6823bf74d458\" target=\"_top\" title=\"psysml:427a19be-4ba6-433c-b392-6823bf74d458\" xlink:actuate=\"onRequest\" xlink:href=\"psysml:427a19be-4ba6-433c-b392-6823bf74d458\" xlink:show=\"new\" xlink:title=\"psysml:427a19be-4ba6-433c-b392-6823bf74d458\" xlink:type=\"simple\"><polygon fill=\"#FFFFFF\" points=\"16,6,34,6,41,28.2969,244,28.2969,244,527,16,527,16,6\" style=\"stroke: #000000; stroke-width: 1.5;\"/><line style=\"stroke: #000000; stroke-width: 1.5;\" x1=\"16\" x2=\"41\" y1=\"28.2969\" y2=\"28.2969\"/><text fill=\"#000000\" font-family=\"sans-serif\" font-size=\"14\" font-weight=\"bold\" lengthAdjust=\"spacingAndGlyphs\" textLength=\"12\" x=\"20\" y=\"20.9951\">Q</text></a><!--MD5=[b4997ac47864f28c2f74865a473b2911]\n",
       "class E2--><a href=\"psysml:027effde-34e9-4491-ba0c-9f82cacaad23\" target=\"_top\" title=\"psysml:027effde-34e9-4491-ba0c-9f82cacaad23\" xlink:actuate=\"onRequest\" xlink:href=\"psysml:027effde-34e9-4491-ba0c-9f82cacaad23\" xlink:show=\"new\" xlink:title=\"psysml:027effde-34e9-4491-ba0c-9f82cacaad23\" xlink:type=\"simple\"><rect fill=\"#FFFFFF\" height=\"45.9375\" id=\"E2\" style=\"stroke: #383838; stroke-width: 1.5;\" width=\"66\" x=\"147\" y=\"359\"/><text fill=\"#000000\" font-family=\"sans-serif\" font-size=\"12\" font-style=\"italic\" lengthAdjust=\"spacingAndGlyphs\" textLength=\"64\" x=\"148\" y=\"375.1387\">«part def»</text><text fill=\"#000000\" font-family=\"sans-serif\" font-size=\"12\" lengthAdjust=\"spacingAndGlyphs\" textLength=\"7\" x=\"176.5\" y=\"389.1074\">F</text><line style=\"stroke: #383838; stroke-width: 1.5;\" x1=\"148\" x2=\"212\" y1=\"396.9375\" y2=\"396.9375\"/></a><!--MD5=[09b614a08d8cba4a07c9adeb5e0fee81]\n",
       "class E3--><a href=\"psysml:241a9b2a-e9cc-4b19-964a-2424b61c0639\" target=\"_top\" title=\"psysml:241a9b2a-e9cc-4b19-964a-2424b61c0639\" xlink:actuate=\"onRequest\" xlink:href=\"psysml:241a9b2a-e9cc-4b19-964a-2424b61c0639\" xlink:show=\"new\" xlink:title=\"psysml:241a9b2a-e9cc-4b19-964a-2424b61c0639\" xlink:type=\"simple\"><rect fill=\"#FFFFFF\" height=\"45.9375\" id=\"E3\" rx=\"10\" ry=\"10\" style=\"stroke: #383838; stroke-width: 1.5;\" width=\"42\" x=\"159\" y=\"465\"/><text fill=\"#000000\" font-family=\"sans-serif\" font-size=\"12\" font-style=\"italic\" lengthAdjust=\"spacingAndGlyphs\" textLength=\"40\" x=\"160\" y=\"481.1387\">«part»</text><text fill=\"#000000\" font-family=\"sans-serif\" font-size=\"12\" lengthAdjust=\"spacingAndGlyphs\" textLength=\"8\" x=\"176\" y=\"495.1074\">a</text><line style=\"stroke: #383838; stroke-width: 1.5;\" x1=\"160\" x2=\"200\" y1=\"502.9375\" y2=\"502.9375\"/></a><!--MD5=[ebbe1d658d1005bcc118a6aa81145e00]\n",
       "class E4--><a href=\"psysml:40835df5-3f1f-4886-9446-1465d21ad736\" target=\"_top\" title=\"psysml:40835df5-3f1f-4886-9446-1465d21ad736\" xlink:actuate=\"onRequest\" xlink:href=\"psysml:40835df5-3f1f-4886-9446-1465d21ad736\" xlink:show=\"new\" xlink:title=\"psysml:40835df5-3f1f-4886-9446-1465d21ad736\" xlink:type=\"simple\"><rect fill=\"#FFFFFF\" height=\"45.9375\" id=\"E4\" rx=\"10\" ry=\"10\" style=\"stroke: #383838; stroke-width: 1.5;\" width=\"42\" x=\"186\" y=\"253\"/><text fill=\"#000000\" font-family=\"sans-serif\" font-size=\"12\" font-style=\"italic\" lengthAdjust=\"spacingAndGlyphs\" textLength=\"40\" x=\"187\" y=\"269.1387\">«part»</text><text fill=\"#000000\" font-family=\"sans-serif\" font-size=\"12\" lengthAdjust=\"spacingAndGlyphs\" textLength=\"19\" x=\"197.5\" y=\"283.1074\">f: F</text><line style=\"stroke: #383838; stroke-width: 1.5;\" x1=\"187\" x2=\"227\" y1=\"290.9375\" y2=\"290.9375\"/></a><!--MD5=[270fce915f116d4de14055a7c1d9a0f3]\n",
       "class E5--><a href=\"psysml:299c2c32-5ec1-43b2-a066-b7748b01150c\" target=\"_top\" title=\"psysml:299c2c32-5ec1-43b2-a066-b7748b01150c\" xlink:actuate=\"onRequest\" xlink:href=\"psysml:299c2c32-5ec1-43b2-a066-b7748b01150c\" xlink:show=\"new\" xlink:title=\"psysml:299c2c32-5ec1-43b2-a066-b7748b01150c\" xlink:type=\"simple\"><rect fill=\"#FFFFFF\" height=\"45.9375\" id=\"E5\" style=\"stroke: #383838; stroke-width: 1.5;\" width=\"66\" x=\"32\" y=\"359\"/><text fill=\"#000000\" font-family=\"sans-serif\" font-size=\"12\" font-style=\"italic\" lengthAdjust=\"spacingAndGlyphs\" textLength=\"64\" x=\"33\" y=\"375.1387\">«part def»</text><text fill=\"#000000\" font-family=\"sans-serif\" font-size=\"12\" lengthAdjust=\"spacingAndGlyphs\" textLength=\"8\" x=\"61\" y=\"389.1074\">A</text><line style=\"stroke: #383838; stroke-width: 1.5;\" x1=\"33\" x2=\"97\" y1=\"396.9375\" y2=\"396.9375\"/></a><!--MD5=[60a26617385b1d2d0262a64233df1f8d]\n",
       "class E6--><a href=\"psysml:31dec55f-8acf-4d42-bd51-f4047894820c\" target=\"_top\" title=\"psysml:31dec55f-8acf-4d42-bd51-f4047894820c\" xlink:actuate=\"onRequest\" xlink:href=\"psysml:31dec55f-8acf-4d42-bd51-f4047894820c\" xlink:show=\"new\" xlink:title=\"psysml:31dec55f-8acf-4d42-bd51-f4047894820c\" xlink:type=\"simple\"><rect fill=\"#FFFFFF\" height=\"45.9375\" id=\"E6\" rx=\"10\" ry=\"10\" style=\"stroke: #383838; stroke-width: 1.5;\" width=\"42\" x=\"44\" y=\"465\"/><text fill=\"#000000\" font-family=\"sans-serif\" font-size=\"12\" font-style=\"italic\" lengthAdjust=\"spacingAndGlyphs\" textLength=\"40\" x=\"45\" y=\"481.1387\">«part»</text><text fill=\"#000000\" font-family=\"sans-serif\" font-size=\"12\" lengthAdjust=\"spacingAndGlyphs\" textLength=\"8\" x=\"61\" y=\"495.1074\">g</text><line style=\"stroke: #383838; stroke-width: 1.5;\" x1=\"45\" x2=\"85\" y1=\"502.9375\" y2=\"502.9375\"/></a><!--MD5=[2156ba9850f5573cc1fc38a6a4b2f02b]\n",
       "class E7--><a href=\"psysml:e57a8ff4-b454-49af-9671-50f81189572a\" target=\"_top\" title=\"psysml:e57a8ff4-b454-49af-9671-50f81189572a\" xlink:actuate=\"onRequest\" xlink:href=\"psysml:e57a8ff4-b454-49af-9671-50f81189572a\" xlink:show=\"new\" xlink:title=\"psysml:e57a8ff4-b454-49af-9671-50f81189572a\" xlink:type=\"simple\"><rect fill=\"#FFFFFF\" height=\"45.9375\" id=\"E7\" style=\"stroke: #383838; stroke-width: 1.5;\" width=\"66\" x=\"64\" y=\"147\"/><text fill=\"#000000\" font-family=\"sans-serif\" font-size=\"12\" font-style=\"italic\" lengthAdjust=\"spacingAndGlyphs\" textLength=\"64\" x=\"65\" y=\"163.1387\">«part def»</text><text fill=\"#000000\" font-family=\"sans-serif\" font-size=\"12\" lengthAdjust=\"spacingAndGlyphs\" textLength=\"8\" x=\"93\" y=\"177.1074\">B</text><line style=\"stroke: #383838; stroke-width: 1.5;\" x1=\"65\" x2=\"129\" y1=\"184.9375\" y2=\"184.9375\"/></a><!--MD5=[b9389687b975829384b498ac4b7476b2]\n",
       "class E8--><a href=\"psysml:ae9b8861-e9cc-45e7-97b3-375fd90ac7d9\" target=\"_top\" title=\"psysml:ae9b8861-e9cc-45e7-97b3-375fd90ac7d9\" xlink:actuate=\"onRequest\" xlink:href=\"psysml:ae9b8861-e9cc-45e7-97b3-375fd90ac7d9\" xlink:show=\"new\" xlink:title=\"psysml:ae9b8861-e9cc-45e7-97b3-375fd90ac7d9\" xlink:type=\"simple\"><rect fill=\"#FFFFFF\" height=\"45.9375\" id=\"E8\" rx=\"10\" ry=\"10\" style=\"stroke: #383838; stroke-width: 1.5;\" width=\"42\" x=\"109\" y=\"253\"/><text fill=\"#000000\" font-family=\"sans-serif\" font-size=\"12\" font-style=\"italic\" lengthAdjust=\"spacingAndGlyphs\" textLength=\"40\" x=\"110\" y=\"269.1387\">«part»</text><text fill=\"#000000\" font-family=\"sans-serif\" font-size=\"12\" lengthAdjust=\"spacingAndGlyphs\" textLength=\"19\" x=\"120.5\" y=\"283.1074\">f: F</text><line style=\"stroke: #383838; stroke-width: 1.5;\" x1=\"110\" x2=\"150\" y1=\"290.9375\" y2=\"290.9375\"/></a><!--MD5=[fd4143e9d270a159db93a4ea2a975926]\n",
       "class E9--><a href=\"psysml:d620b19b-a1e2-497d-8cad-3b2dc38fedc0\" target=\"_top\" title=\"psysml:d620b19b-a1e2-497d-8cad-3b2dc38fedc0\" xlink:actuate=\"onRequest\" xlink:href=\"psysml:d620b19b-a1e2-497d-8cad-3b2dc38fedc0\" xlink:show=\"new\" xlink:title=\"psysml:d620b19b-a1e2-497d-8cad-3b2dc38fedc0\" xlink:type=\"simple\"><rect fill=\"#FFFFFF\" height=\"45.9375\" id=\"E9\" rx=\"10\" ry=\"10\" style=\"stroke: #383838; stroke-width: 1.5;\" width=\"42\" x=\"32\" y=\"253\"/><text fill=\"#000000\" font-family=\"sans-serif\" font-size=\"12\" font-style=\"italic\" lengthAdjust=\"spacingAndGlyphs\" textLength=\"40\" x=\"33\" y=\"269.1387\">«part»</text><text fill=\"#000000\" font-family=\"sans-serif\" font-size=\"12\" lengthAdjust=\"spacingAndGlyphs\" textLength=\"24\" x=\"41\" y=\"283.1074\">a: A</text><line style=\"stroke: #383838; stroke-width: 1.5;\" x1=\"33\" x2=\"73\" y1=\"290.9375\" y2=\"290.9375\"/></a><!--MD5=[96f4274e9e20536e775497830990834d]\n",
       "class E10--><a href=\"psysml:f9a1a989-561d-4119-971e-8ebceafa94b4\" target=\"_top\" title=\"psysml:f9a1a989-561d-4119-971e-8ebceafa94b4\" xlink:actuate=\"onRequest\" xlink:href=\"psysml:f9a1a989-561d-4119-971e-8ebceafa94b4\" xlink:show=\"new\" xlink:title=\"psysml:f9a1a989-561d-4119-971e-8ebceafa94b4\" xlink:type=\"simple\"><rect fill=\"#FFFFFF\" height=\"45.9375\" id=\"E10\" rx=\"10\" ry=\"10\" style=\"stroke: #383838; stroke-width: 1.5;\" width=\"42\" x=\"76\" y=\"41\"/><text fill=\"#000000\" font-family=\"sans-serif\" font-size=\"12\" font-style=\"italic\" lengthAdjust=\"spacingAndGlyphs\" textLength=\"40\" x=\"77\" y=\"57.1387\">«part»</text><text fill=\"#000000\" font-family=\"sans-serif\" font-size=\"12\" lengthAdjust=\"spacingAndGlyphs\" textLength=\"24\" x=\"85\" y=\"71.1074\">b: B</text><line style=\"stroke: #383838; stroke-width: 1.5;\" x1=\"77\" x2=\"117\" y1=\"78.9375\" y2=\"78.9375\"/></a><!--MD5=[209b3feb70ccb6233bfe1053d122c12c]\n",
       "reverse link E2 to E3--><a href=\"psysml:5ee10b2b-55c1-4a08-a13b-bdb74e3f50e5\" target=\"_top\" title=\"psysml:5ee10b2b-55c1-4a08-a13b-bdb74e3f50e5\" xlink:actuate=\"onRequest\" xlink:href=\"psysml:5ee10b2b-55c1-4a08-a13b-bdb74e3f50e5\" xlink:show=\"new\" xlink:title=\"psysml:5ee10b2b-55c1-4a08-a13b-bdb74e3f50e5\" xlink:type=\"simple\"><path d=\"M180,418.44 C180,433.87 180,451.47 180,464.98 \" fill=\"none\" id=\"E2&lt;-E3\" style=\"stroke: #383838; stroke-width: 1.0;\"/><polygon fill=\"#383838\" points=\"180,405.06,176,411.06,180,417.06,184,411.06,180,405.06\" style=\"stroke: #383838; stroke-width: 1.0;\"/></a><!--MD5=[185131fc0dcab0a4505a2ebe144e961b]\n",
       "link E4 to E2--><a href=\"psysml:c4c1c0e2-eca3-4dc3-a203-c30912c3ab2b\" target=\"_top\" title=\"psysml:c4c1c0e2-eca3-4dc3-a203-c30912c3ab2b\" xlink:actuate=\"onRequest\" xlink:href=\"psysml:c4c1c0e2-eca3-4dc3-a203-c30912c3ab2b\" xlink:show=\"new\" xlink:title=\"psysml:c4c1c0e2-eca3-4dc3-a203-c30912c3ab2b\" xlink:type=\"simple\"><path d=\"M201.27,299.06 C198.23,310.78 194.39,325.57 190.81,339.36 \" fill=\"none\" id=\"E4-&gt;E2\" style=\"stroke: #383838; stroke-width: 1.0;\"/><polygon fill=\"#FFFFFF\" points=\"185.72,358.98,183.7221,338.8303,197.2724,342.3504,185.72,358.98\" style=\"stroke: #383838; stroke-width: 1.0;\"/><ellipse cx=\"187.091\" cy=\"333.8163\" fill=\"#383838\" rx=\"2\" ry=\"2\" style=\"stroke: #383838; stroke-width: 1.0;\"/><ellipse cx=\"196.7698\" cy=\"336.3307\" fill=\"#383838\" rx=\"2\" ry=\"2\" style=\"stroke: #383838; stroke-width: 1.0;\"/></a><!--MD5=[85d356282659285ab4b2cfe2f634dd2b]\n",
       "reverse link E5 to E6--><a href=\"psysml:93463b7d-149f-4a15-b84b-177a9e530eda\" target=\"_top\" title=\"psysml:93463b7d-149f-4a15-b84b-177a9e530eda\" xlink:actuate=\"onRequest\" xlink:href=\"psysml:93463b7d-149f-4a15-b84b-177a9e530eda\" xlink:show=\"new\" xlink:title=\"psysml:93463b7d-149f-4a15-b84b-177a9e530eda\" xlink:type=\"simple\"><path d=\"M65,418.44 C65,433.87 65,451.47 65,464.98 \" fill=\"none\" id=\"E5&lt;-E6\" style=\"stroke: #383838; stroke-width: 1.0;\"/><polygon fill=\"#383838\" points=\"65,405.06,61,411.06,65,417.06,69,411.06,65,405.06\" style=\"stroke: #383838; stroke-width: 1.0;\"/></a><!--MD5=[dc164f5e8a733ab456ef1add180e9e34]\n",
       "reverse link E7 to E8--><a href=\"psysml:de6f8f38-3125-456b-a954-15a696931b63\" target=\"_top\" title=\"psysml:de6f8f38-3125-456b-a954-15a696931b63\" xlink:actuate=\"onRequest\" xlink:href=\"psysml:de6f8f38-3125-456b-a954-15a696931b63\" xlink:show=\"new\" xlink:title=\"psysml:de6f8f38-3125-456b-a954-15a696931b63\" xlink:type=\"simple\"><path d=\"M107.95,205.49 C112.91,221.15 118.64,239.19 123.01,252.98 \" fill=\"none\" id=\"E7&lt;-E8\" style=\"stroke: #383838; stroke-width: 1.0;\"/><polygon fill=\"#383838\" points=\"104,193.06,101.9989,199.9879,107.6243,204.4996,109.6253,197.5717,104,193.06\" style=\"stroke: #383838; stroke-width: 1.0;\"/></a><!--MD5=[f1f3f9f2fc535e6147756cb86a7f2e32]\n",
       "link E8 to E2--><a href=\"psysml:536a95df-7241-4403-bcab-1aa9fe7a4b7d\" target=\"_top\" title=\"psysml:536a95df-7241-4403-bcab-1aa9fe7a4b7d\" xlink:actuate=\"onRequest\" xlink:href=\"psysml:536a95df-7241-4403-bcab-1aa9fe7a4b7d\" xlink:show=\"new\" xlink:title=\"psysml:536a95df-7241-4403-bcab-1aa9fe7a4b7d\" xlink:type=\"simple\"><path d=\"M140.6,299.06 C146.44,311.19 153.86,326.62 160.68,340.82 \" fill=\"none\" id=\"E8-&gt;E2\" style=\"stroke: #383838; stroke-width: 1.0;\"/><polygon fill=\"#FFFFFF\" points=\"169.41,358.98,154.8709,344.8869,167.4894,338.8228,169.41,358.98\" style=\"stroke: #383838; stroke-width: 1.0;\"/><ellipse cx=\"154.2046\" cy=\"338.8831\" fill=\"#383838\" rx=\"2\" ry=\"2\" style=\"stroke: #383838; stroke-width: 1.0;\"/><ellipse cx=\"163.2178\" cy=\"334.5516\" fill=\"#383838\" rx=\"2\" ry=\"2\" style=\"stroke: #383838; stroke-width: 1.0;\"/></a><!--MD5=[e4a10ef82d0e328e31cac39a31e58dda]\n",
       "reverse link E7 to E9--><a href=\"psysml:2c441a1b-e979-4985-bcd5-61f8c13172d0\" target=\"_top\" title=\"psysml:2c441a1b-e979-4985-bcd5-61f8c13172d0\" xlink:actuate=\"onRequest\" xlink:href=\"psysml:2c441a1b-e979-4985-bcd5-61f8c13172d0\" xlink:show=\"new\" xlink:title=\"psysml:2c441a1b-e979-4985-bcd5-61f8c13172d0\" xlink:type=\"simple\"><path d=\"M82.41,205.49 C75.78,221.15 68.15,239.19 62.32,252.98 \" fill=\"none\" id=\"E7&lt;-E9\" style=\"stroke: #383838; stroke-width: 1.0;\"/><polygon fill=\"#383838\" points=\"87.67,193.06,81.6505,197.0305,83.0003,204.1142,89.0199,200.1436,87.67,193.06\" style=\"stroke: #383838; stroke-width: 1.0;\"/></a><!--MD5=[bfc3ddf2e613be37104f658f09af896c]\n",
       "link E9 to E5--><a href=\"psysml:fc8a5d52-f7b0-45e1-9a4f-1e932b65f071\" target=\"_top\" title=\"psysml:fc8a5d52-f7b0-45e1-9a4f-1e932b65f071\" xlink:actuate=\"onRequest\" xlink:href=\"psysml:fc8a5d52-f7b0-45e1-9a4f-1e932b65f071\" xlink:show=\"new\" xlink:title=\"psysml:fc8a5d52-f7b0-45e1-9a4f-1e932b65f071\" xlink:type=\"simple\"><path d=\"M55.54,299.06 C56.88,310.64 58.56,325.23 60.14,338.87 \" fill=\"none\" id=\"E9-&gt;E5\" style=\"stroke: #383838; stroke-width: 1.0;\"/><polygon fill=\"#FFFFFF\" points=\"62.46,358.98,53.3347,340.9044,67.243,339.3046,62.46,358.98\" style=\"stroke: #383838; stroke-width: 1.0;\"/><ellipse cx=\"54.6702\" cy=\"335.0132\" fill=\"#383838\" rx=\"2\" ry=\"2\" style=\"stroke: #383838; stroke-width: 1.0;\"/><ellipse cx=\"64.6047\" cy=\"333.8704\" fill=\"#383838\" rx=\"2\" ry=\"2\" style=\"stroke: #383838; stroke-width: 1.0;\"/></a><!--MD5=[a919e0967d6f3de553dc51b9865a1d6d]\n",
       "link E10 to E7--><a href=\"psysml:2e3833d6-0a03-41e5-9593-325ba84dff2e\" target=\"_top\" title=\"psysml:2e3833d6-0a03-41e5-9593-325ba84dff2e\" xlink:actuate=\"onRequest\" xlink:href=\"psysml:2e3833d6-0a03-41e5-9593-325ba84dff2e\" xlink:show=\"new\" xlink:title=\"psysml:2e3833d6-0a03-41e5-9593-325ba84dff2e\" xlink:type=\"simple\"><path d=\"M97,87.06 C97,98.64 97,113.23 97,126.87 \" fill=\"none\" id=\"E10-&gt;E7\" style=\"stroke: #383838; stroke-width: 1.0;\"/><polygon fill=\"#FFFFFF\" points=\"97,146.98,90,127.98,104,127.98,97,146.98\" style=\"stroke: #383838; stroke-width: 1.0;\"/><ellipse cx=\"92\" cy=\"122.28\" fill=\"#383838\" rx=\"2\" ry=\"2\" style=\"stroke: #383838; stroke-width: 1.0;\"/><ellipse cx=\"102\" cy=\"122.28\" fill=\"#383838\" rx=\"2\" ry=\"2\" style=\"stroke: #383838; stroke-width: 1.0;\"/></a><!--MD5=[a92a183829e5c84a6445d1f43873c88f]\n",
       "@startuml\r\n",
       "skinparam linetype polyline\r\n",
       "skinparam monochrome true\r\n",
       "skinparam classbackgroundcolor white\r\n",
       "skinparam shadowing false\r\n",
       "skinparam wrapWidth 300\r\n",
       "hide circle\r\n",
       "\r\n",
       "package \"Q\" as E1  [[psysml:427a19be-4ba6-433c-b392-6823bf74d458 ]]  {\r\n",
       "comp def \"F\" as E2  <<(T,blue) part def>> [[psysml:027effde-34e9-4491-ba0c-9f82cacaad23 ]] {\r\n",
       "}\r\n",
       "comp usage \"a\" as E3  <<(T,blue) part>> [[psysml:241a9b2a-e9cc-4b19-964a-2424b61c0639 ]] {\r\n",
       "}\r\n",
       "comp usage \"f: F\" as E4  <<(T,blue) part>> [[psysml:40835df5-3f1f-4886-9446-1465d21ad736 ]] {\r\n",
       "}\r\n",
       "comp def \"A\" as E5  <<(T,blue) part def>> [[psysml:299c2c32-5ec1-43b2-a066-b7748b01150c ]] {\r\n",
       "}\r\n",
       "comp usage \"g\" as E6  <<(T,blue) part>> [[psysml:31dec55f-8acf-4d42-bd51-f4047894820c ]] {\r\n",
       "}\r\n",
       "comp def \"B\" as E7  <<(T,blue) part def>> [[psysml:e57a8ff4-b454-49af-9671-50f81189572a ]] {\r\n",
       "}\r\n",
       "comp usage \"f: F\" as E8  <<(T,blue) part>> [[psysml:ae9b8861-e9cc-45e7-97b3-375fd90ac7d9 ]] {\r\n",
       "}\r\n",
       "comp usage \"a: A\" as E9  <<(T,blue) part>> [[psysml:d620b19b-a1e2-497d-8cad-3b2dc38fedc0 ]] {\r\n",
       "}\r\n",
       "comp usage \"b: B\" as E10  <<(T,blue) part>> [[psysml:f9a1a989-561d-4119-971e-8ebceafa94b4 ]] {\r\n",
       "}\r\n",
       "E2 *- - E3 [[psysml:5ee10b2b-55c1-4a08-a13b-bdb74e3f50e5 ]] \r\n",
       "E4 - -:|> E2 [[psysml:c4c1c0e2-eca3-4dc3-a203-c30912c3ab2b ]] \r\n",
       "E5 *- - E6 [[psysml:93463b7d-149f-4a15-b84b-177a9e530eda ]] \r\n",
       "E7 *- - E8 [[psysml:de6f8f38-3125-456b-a954-15a696931b63 ]] \r\n",
       "E8 - -:|> E2 [[psysml:536a95df-7241-4403-bcab-1aa9fe7a4b7d ]] \r\n",
       "E7 *- - E9 [[psysml:2c441a1b-e979-4985-bcd5-61f8c13172d0 ]] \r\n",
       "E9 - -:|> E5 [[psysml:fc8a5d52-f7b0-45e1-9a4f-1e932b65f071 ]] \r\n",
       "E10 - -:|> E7 [[psysml:2e3833d6-0a03-41e5-9593-325ba84dff2e ]] \r\n",
       "}\r\n",
       "@enduml\r\n",
       "\n",
       "PlantUML version 1.2020.13(Sat Jun 13 12:26:38 UTC 2020)\n",
       "(EPL source distribution)\n",
       "Java Runtime: OpenJDK Runtime Environment\n",
       "JVM: OpenJDK 64-Bit Server VM\n",
       "Default Encoding: UTF-8\n",
       "Language: en\n",
       "Country: null\n",
       "--></g></svg>"
      ]
     },
     "execution_count": 15,
     "metadata": {},
     "output_type": "execute_result"
    }
   ],
   "source": [
    "%viz --style=\"POLYLINE\" --view=\"MIXED\" \"Q\""
   ]
  },
  {
   "cell_type": "code",
   "execution_count": 16,
   "id": "0309d885",
   "metadata": {
    "execution": {
     "iopub.execute_input": "2021-06-30T09:23:31.753456Z",
     "iopub.status.busy": "2021-06-30T09:23:31.751987Z",
     "iopub.status.idle": "2021-06-30T09:23:31.880415Z",
     "shell.execute_reply": "2021-06-30T09:23:31.876561Z"
    }
   },
   "outputs": [
    {
     "data": {
      "image/svg+xml": [
       "<?xml version=\"1.0\" encoding=\"UTF-8\" standalone=\"no\"?><svg xmlns=\"http://www.w3.org/2000/svg\" xmlns:xlink=\"http://www.w3.org/1999/xlink\" contentScriptType=\"application/ecmascript\" contentStyleType=\"text/css\" height=\"277px\" preserveAspectRatio=\"none\" style=\"width:568px;height:277px;\" version=\"1.1\" viewBox=\"0 0 568 277\" width=\"568px\" zoomAndPan=\"magnify\"><defs/><g><!--MD5=[fbc87193dbaf4d95561dea2c320d4a47]\n",
       "cluster E1--><a href=\"psysml:427a19be-4ba6-433c-b392-6823bf74d458\" target=\"_top\" title=\"psysml:427a19be-4ba6-433c-b392-6823bf74d458\" xlink:actuate=\"onRequest\" xlink:href=\"psysml:427a19be-4ba6-433c-b392-6823bf74d458\" xlink:show=\"new\" xlink:title=\"psysml:427a19be-4ba6-433c-b392-6823bf74d458\" xlink:type=\"simple\"><polygon fill=\"#FFFFFF\" points=\"16,6,34,6,41,28.2969,546,28.2969,546,265,16,265,16,6\" style=\"stroke: #000000; stroke-width: 1.5;\"/><line style=\"stroke: #000000; stroke-width: 1.5;\" x1=\"16\" x2=\"41\" y1=\"28.2969\" y2=\"28.2969\"/><text fill=\"#000000\" font-family=\"sans-serif\" font-size=\"14\" font-weight=\"bold\" lengthAdjust=\"spacingAndGlyphs\" textLength=\"12\" x=\"20\" y=\"20.9951\">Q</text></a><!--MD5=[b4997ac47864f28c2f74865a473b2911]\n",
       "class E2--><a href=\"psysml:027effde-34e9-4491-ba0c-9f82cacaad23\" target=\"_top\" title=\"psysml:027effde-34e9-4491-ba0c-9f82cacaad23\" xlink:actuate=\"onRequest\" xlink:href=\"psysml:027effde-34e9-4491-ba0c-9f82cacaad23\" xlink:show=\"new\" xlink:title=\"psysml:027effde-34e9-4491-ba0c-9f82cacaad23\" xlink:type=\"simple\"><rect fill=\"#FFFFFF\" height=\"45.9375\" id=\"E2\" style=\"stroke: #383838; stroke-width: 1.5;\" width=\"66\" x=\"362\" y=\"122\"/><text fill=\"#000000\" font-family=\"sans-serif\" font-size=\"12\" font-style=\"italic\" lengthAdjust=\"spacingAndGlyphs\" textLength=\"64\" x=\"363\" y=\"138.1387\">«part def»</text><text fill=\"#000000\" font-family=\"sans-serif\" font-size=\"12\" lengthAdjust=\"spacingAndGlyphs\" textLength=\"7\" x=\"391.5\" y=\"152.1074\">F</text><line style=\"stroke: #383838; stroke-width: 1.5;\" x1=\"363\" x2=\"427\" y1=\"159.9375\" y2=\"159.9375\"/></a><!--MD5=[09b614a08d8cba4a07c9adeb5e0fee81]\n",
       "class E3--><a href=\"psysml:241a9b2a-e9cc-4b19-964a-2424b61c0639\" target=\"_top\" title=\"psysml:241a9b2a-e9cc-4b19-964a-2424b61c0639\" xlink:actuate=\"onRequest\" xlink:href=\"psysml:241a9b2a-e9cc-4b19-964a-2424b61c0639\" xlink:show=\"new\" xlink:title=\"psysml:241a9b2a-e9cc-4b19-964a-2424b61c0639\" xlink:type=\"simple\"><rect fill=\"#FFFFFF\" height=\"45.9375\" id=\"E3\" rx=\"10\" ry=\"10\" style=\"stroke: #383838; stroke-width: 1.5;\" width=\"42\" x=\"488\" y=\"122\"/><text fill=\"#000000\" font-family=\"sans-serif\" font-size=\"12\" font-style=\"italic\" lengthAdjust=\"spacingAndGlyphs\" textLength=\"40\" x=\"489\" y=\"138.1387\">«part»</text><text fill=\"#000000\" font-family=\"sans-serif\" font-size=\"12\" lengthAdjust=\"spacingAndGlyphs\" textLength=\"8\" x=\"505\" y=\"152.1074\">a</text><line style=\"stroke: #383838; stroke-width: 1.5;\" x1=\"489\" x2=\"529\" y1=\"159.9375\" y2=\"159.9375\"/></a><!--MD5=[ebbe1d658d1005bcc118a6aa81145e00]\n",
       "class E4--><a href=\"psysml:40835df5-3f1f-4886-9446-1465d21ad736\" target=\"_top\" title=\"psysml:40835df5-3f1f-4886-9446-1465d21ad736\" xlink:actuate=\"onRequest\" xlink:href=\"psysml:40835df5-3f1f-4886-9446-1465d21ad736\" xlink:show=\"new\" xlink:title=\"psysml:40835df5-3f1f-4886-9446-1465d21ad736\" xlink:type=\"simple\"><rect fill=\"#FFFFFF\" height=\"45.9375\" id=\"E4\" rx=\"10\" ry=\"10\" style=\"stroke: #383838; stroke-width: 1.5;\" width=\"42\" x=\"260\" y=\"41\"/><text fill=\"#000000\" font-family=\"sans-serif\" font-size=\"12\" font-style=\"italic\" lengthAdjust=\"spacingAndGlyphs\" textLength=\"40\" x=\"261\" y=\"57.1387\">«part»</text><text fill=\"#000000\" font-family=\"sans-serif\" font-size=\"12\" lengthAdjust=\"spacingAndGlyphs\" textLength=\"19\" x=\"271.5\" y=\"71.1074\">f: F</text><line style=\"stroke: #383838; stroke-width: 1.5;\" x1=\"261\" x2=\"301\" y1=\"78.9375\" y2=\"78.9375\"/></a><!--MD5=[270fce915f116d4de14055a7c1d9a0f3]\n",
       "class E5--><a href=\"psysml:299c2c32-5ec1-43b2-a066-b7748b01150c\" target=\"_top\" title=\"psysml:299c2c32-5ec1-43b2-a066-b7748b01150c\" xlink:actuate=\"onRequest\" xlink:href=\"psysml:299c2c32-5ec1-43b2-a066-b7748b01150c\" xlink:show=\"new\" xlink:title=\"psysml:299c2c32-5ec1-43b2-a066-b7748b01150c\" xlink:type=\"simple\"><rect fill=\"#FFFFFF\" height=\"45.9375\" id=\"E5\" style=\"stroke: #383838; stroke-width: 1.5;\" width=\"66\" x=\"362\" y=\"203\"/><text fill=\"#000000\" font-family=\"sans-serif\" font-size=\"12\" font-style=\"italic\" lengthAdjust=\"spacingAndGlyphs\" textLength=\"64\" x=\"363\" y=\"219.1387\">«part def»</text><text fill=\"#000000\" font-family=\"sans-serif\" font-size=\"12\" lengthAdjust=\"spacingAndGlyphs\" textLength=\"8\" x=\"391\" y=\"233.1074\">A</text><line style=\"stroke: #383838; stroke-width: 1.5;\" x1=\"363\" x2=\"427\" y1=\"240.9375\" y2=\"240.9375\"/></a><!--MD5=[60a26617385b1d2d0262a64233df1f8d]\n",
       "class E6--><a href=\"psysml:31dec55f-8acf-4d42-bd51-f4047894820c\" target=\"_top\" title=\"psysml:31dec55f-8acf-4d42-bd51-f4047894820c\" xlink:actuate=\"onRequest\" xlink:href=\"psysml:31dec55f-8acf-4d42-bd51-f4047894820c\" xlink:show=\"new\" xlink:title=\"psysml:31dec55f-8acf-4d42-bd51-f4047894820c\" xlink:type=\"simple\"><rect fill=\"#FFFFFF\" height=\"45.9375\" id=\"E6\" rx=\"10\" ry=\"10\" style=\"stroke: #383838; stroke-width: 1.5;\" width=\"42\" x=\"488\" y=\"203\"/><text fill=\"#000000\" font-family=\"sans-serif\" font-size=\"12\" font-style=\"italic\" lengthAdjust=\"spacingAndGlyphs\" textLength=\"40\" x=\"489\" y=\"219.1387\">«part»</text><text fill=\"#000000\" font-family=\"sans-serif\" font-size=\"12\" lengthAdjust=\"spacingAndGlyphs\" textLength=\"8\" x=\"505\" y=\"233.1074\">g</text><line style=\"stroke: #383838; stroke-width: 1.5;\" x1=\"489\" x2=\"529\" y1=\"240.9375\" y2=\"240.9375\"/></a><!--MD5=[2156ba9850f5573cc1fc38a6a4b2f02b]\n",
       "class E7--><a href=\"psysml:e57a8ff4-b454-49af-9671-50f81189572a\" target=\"_top\" title=\"psysml:e57a8ff4-b454-49af-9671-50f81189572a\" xlink:actuate=\"onRequest\" xlink:href=\"psysml:e57a8ff4-b454-49af-9671-50f81189572a\" xlink:show=\"new\" xlink:title=\"psysml:e57a8ff4-b454-49af-9671-50f81189572a\" xlink:type=\"simple\"><rect fill=\"#FFFFFF\" height=\"45.9375\" id=\"E7\" style=\"stroke: #383838; stroke-width: 1.5;\" width=\"66\" x=\"134\" y=\"163\"/><text fill=\"#000000\" font-family=\"sans-serif\" font-size=\"12\" font-style=\"italic\" lengthAdjust=\"spacingAndGlyphs\" textLength=\"64\" x=\"135\" y=\"179.1387\">«part def»</text><text fill=\"#000000\" font-family=\"sans-serif\" font-size=\"12\" lengthAdjust=\"spacingAndGlyphs\" textLength=\"8\" x=\"163\" y=\"193.1074\">B</text><line style=\"stroke: #383838; stroke-width: 1.5;\" x1=\"135\" x2=\"199\" y1=\"200.9375\" y2=\"200.9375\"/></a><!--MD5=[b9389687b975829384b498ac4b7476b2]\n",
       "class E8--><a href=\"psysml:ae9b8861-e9cc-45e7-97b3-375fd90ac7d9\" target=\"_top\" title=\"psysml:ae9b8861-e9cc-45e7-97b3-375fd90ac7d9\" xlink:actuate=\"onRequest\" xlink:href=\"psysml:ae9b8861-e9cc-45e7-97b3-375fd90ac7d9\" xlink:show=\"new\" xlink:title=\"psysml:ae9b8861-e9cc-45e7-97b3-375fd90ac7d9\" xlink:type=\"simple\"><rect fill=\"#FFFFFF\" height=\"45.9375\" id=\"E8\" rx=\"10\" ry=\"10\" style=\"stroke: #383838; stroke-width: 1.5;\" width=\"42\" x=\"260\" y=\"122\"/><text fill=\"#000000\" font-family=\"sans-serif\" font-size=\"12\" font-style=\"italic\" lengthAdjust=\"spacingAndGlyphs\" textLength=\"40\" x=\"261\" y=\"138.1387\">«part»</text><text fill=\"#000000\" font-family=\"sans-serif\" font-size=\"12\" lengthAdjust=\"spacingAndGlyphs\" textLength=\"19\" x=\"271.5\" y=\"152.1074\">f: F</text><line style=\"stroke: #383838; stroke-width: 1.5;\" x1=\"261\" x2=\"301\" y1=\"159.9375\" y2=\"159.9375\"/></a><!--MD5=[fd4143e9d270a159db93a4ea2a975926]\n",
       "class E9--><a href=\"psysml:d620b19b-a1e2-497d-8cad-3b2dc38fedc0\" target=\"_top\" title=\"psysml:d620b19b-a1e2-497d-8cad-3b2dc38fedc0\" xlink:actuate=\"onRequest\" xlink:href=\"psysml:d620b19b-a1e2-497d-8cad-3b2dc38fedc0\" xlink:show=\"new\" xlink:title=\"psysml:d620b19b-a1e2-497d-8cad-3b2dc38fedc0\" xlink:type=\"simple\"><rect fill=\"#FFFFFF\" height=\"45.9375\" id=\"E9\" rx=\"10\" ry=\"10\" style=\"stroke: #383838; stroke-width: 1.5;\" width=\"42\" x=\"260\" y=\"203\"/><text fill=\"#000000\" font-family=\"sans-serif\" font-size=\"12\" font-style=\"italic\" lengthAdjust=\"spacingAndGlyphs\" textLength=\"40\" x=\"261\" y=\"219.1387\">«part»</text><text fill=\"#000000\" font-family=\"sans-serif\" font-size=\"12\" lengthAdjust=\"spacingAndGlyphs\" textLength=\"24\" x=\"269\" y=\"233.1074\">a: A</text><line style=\"stroke: #383838; stroke-width: 1.5;\" x1=\"261\" x2=\"301\" y1=\"240.9375\" y2=\"240.9375\"/></a><!--MD5=[96f4274e9e20536e775497830990834d]\n",
       "class E10--><a href=\"psysml:f9a1a989-561d-4119-971e-8ebceafa94b4\" target=\"_top\" title=\"psysml:f9a1a989-561d-4119-971e-8ebceafa94b4\" xlink:actuate=\"onRequest\" xlink:href=\"psysml:f9a1a989-561d-4119-971e-8ebceafa94b4\" xlink:show=\"new\" xlink:title=\"psysml:f9a1a989-561d-4119-971e-8ebceafa94b4\" xlink:type=\"simple\"><rect fill=\"#FFFFFF\" height=\"45.9375\" id=\"E10\" rx=\"10\" ry=\"10\" style=\"stroke: #383838; stroke-width: 1.5;\" width=\"42\" x=\"32\" y=\"163\"/><text fill=\"#000000\" font-family=\"sans-serif\" font-size=\"12\" font-style=\"italic\" lengthAdjust=\"spacingAndGlyphs\" textLength=\"40\" x=\"33\" y=\"179.1387\">«part»</text><text fill=\"#000000\" font-family=\"sans-serif\" font-size=\"12\" lengthAdjust=\"spacingAndGlyphs\" textLength=\"24\" x=\"41\" y=\"193.1074\">b: B</text><line style=\"stroke: #383838; stroke-width: 1.5;\" x1=\"33\" x2=\"73\" y1=\"200.9375\" y2=\"200.9375\"/></a><!--MD5=[209b3feb70ccb6233bfe1053d122c12c]\n",
       "reverse link E2 to E3--><a href=\"psysml:5ee10b2b-55c1-4a08-a13b-bdb74e3f50e5\" target=\"_top\" title=\"psysml:5ee10b2b-55c1-4a08-a13b-bdb74e3f50e5\" xlink:actuate=\"onRequest\" xlink:href=\"psysml:5ee10b2b-55c1-4a08-a13b-bdb74e3f50e5\" xlink:show=\"new\" xlink:title=\"psysml:5ee10b2b-55c1-4a08-a13b-bdb74e3f50e5\" xlink:type=\"simple\"><path d=\"M441.28,145 C457.47,145 474.9,145 487.89,145 \" fill=\"none\" id=\"E2&lt;-E3\" style=\"stroke: #383838; stroke-width: 1.0;\"/><polygon fill=\"#383838\" points=\"428.09,145,434.09,149,440.09,145,434.09,141,428.09,145\" style=\"stroke: #383838; stroke-width: 1.0;\"/></a><!--MD5=[185131fc0dcab0a4505a2ebe144e961b]\n",
       "link E4 to E2--><a href=\"psysml:c4c1c0e2-eca3-4dc3-a203-c30912c3ab2b\" target=\"_top\" title=\"psysml:c4c1c0e2-eca3-4dc3-a203-c30912c3ab2b\" xlink:actuate=\"onRequest\" xlink:href=\"psysml:c4c1c0e2-eca3-4dc3-a203-c30912c3ab2b\" xlink:show=\"new\" xlink:title=\"psysml:c4c1c0e2-eca3-4dc3-a203-c30912c3ab2b\" xlink:type=\"simple\"><path d=\"M302.02,78.48 C314.09,87.21 330.03,98.73 345.24,109.73 \" fill=\"none\" id=\"E4-&gt;E2\" style=\"stroke: #383838; stroke-width: 1.0;\"/><polygon fill=\"#FFFFFF\" points=\"361.86,121.75,342.3595,116.2973,350.5582,104.9491,361.86,121.75\" style=\"stroke: #383838; stroke-width: 1.0;\"/><ellipse cx=\"338.9104\" cy=\"111.3381\" fill=\"#383838\" rx=\"2\" ry=\"2\" style=\"stroke: #383838; stroke-width: 1.0;\"/><ellipse cx=\"344.7667\" cy=\"103.2322\" fill=\"#383838\" rx=\"2\" ry=\"2\" style=\"stroke: #383838; stroke-width: 1.0;\"/></a><!--MD5=[85d356282659285ab4b2cfe2f634dd2b]\n",
       "reverse link E5 to E6--><a href=\"psysml:93463b7d-149f-4a15-b84b-177a9e530eda\" target=\"_top\" title=\"psysml:93463b7d-149f-4a15-b84b-177a9e530eda\" xlink:actuate=\"onRequest\" xlink:href=\"psysml:93463b7d-149f-4a15-b84b-177a9e530eda\" xlink:show=\"new\" xlink:title=\"psysml:93463b7d-149f-4a15-b84b-177a9e530eda\" xlink:type=\"simple\"><path d=\"M441.28,226 C457.47,226 474.9,226 487.89,226 \" fill=\"none\" id=\"E5&lt;-E6\" style=\"stroke: #383838; stroke-width: 1.0;\"/><polygon fill=\"#383838\" points=\"428.09,226,434.09,230,440.09,226,434.09,222,428.09,226\" style=\"stroke: #383838; stroke-width: 1.0;\"/></a><!--MD5=[dc164f5e8a733ab456ef1add180e9e34]\n",
       "reverse link E7 to E8--><a href=\"psysml:de6f8f38-3125-456b-a954-15a696931b63\" target=\"_top\" title=\"psysml:de6f8f38-3125-456b-a954-15a696931b63\" xlink:actuate=\"onRequest\" xlink:href=\"psysml:de6f8f38-3125-456b-a954-15a696931b63\" xlink:show=\"new\" xlink:title=\"psysml:de6f8f38-3125-456b-a954-15a696931b63\" xlink:type=\"simple\"><path d=\"M212.31,169.78 C228.77,163.75 246.64,157.21 259.89,152.36 \" fill=\"none\" id=\"E7&lt;-E8\" style=\"stroke: #383838; stroke-width: 1.0;\"/><polygon fill=\"#383838\" points=\"200.09,174.25,207.1,175.9409,211.3571,170.1205,204.347,168.4296,200.09,174.25\" style=\"stroke: #383838; stroke-width: 1.0;\"/></a><!--MD5=[f1f3f9f2fc535e6147756cb86a7f2e32]\n",
       "link E8 to E2--><a href=\"psysml:536a95df-7241-4403-bcab-1aa9fe7a4b7d\" target=\"_top\" title=\"psysml:536a95df-7241-4403-bcab-1aa9fe7a4b7d\" xlink:actuate=\"onRequest\" xlink:href=\"psysml:536a95df-7241-4403-bcab-1aa9fe7a4b7d\" xlink:show=\"new\" xlink:title=\"psysml:536a95df-7241-4403-bcab-1aa9fe7a4b7d\" xlink:type=\"simple\"><path d=\"M302.02,145 C313.18,145 327.65,145 341.79,145 \" fill=\"none\" id=\"E8-&gt;E2\" style=\"stroke: #383838; stroke-width: 1.0;\"/><polygon fill=\"#FFFFFF\" points=\"361.86,145,342.86,152,342.86,138,361.86,145\" style=\"stroke: #383838; stroke-width: 1.0;\"/><ellipse cx=\"337.16\" cy=\"150\" fill=\"#383838\" rx=\"2\" ry=\"2\" style=\"stroke: #383838; stroke-width: 1.0;\"/><ellipse cx=\"337.16\" cy=\"140\" fill=\"#383838\" rx=\"2\" ry=\"2\" style=\"stroke: #383838; stroke-width: 1.0;\"/></a><!--MD5=[e4a10ef82d0e328e31cac39a31e58dda]\n",
       "reverse link E7 to E9--><a href=\"psysml:2c441a1b-e979-4985-bcd5-61f8c13172d0\" target=\"_top\" title=\"psysml:2c441a1b-e979-4985-bcd5-61f8c13172d0\" xlink:actuate=\"onRequest\" xlink:href=\"psysml:2c441a1b-e979-4985-bcd5-61f8c13172d0\" xlink:show=\"new\" xlink:title=\"psysml:2c441a1b-e979-4985-bcd5-61f8c13172d0\" xlink:type=\"simple\"><path d=\"M212.79,202 C229.12,207.83 246.77,214.13 259.89,218.82 \" fill=\"none\" id=\"E7&lt;-E9\" style=\"stroke: #383838; stroke-width: 1.0;\"/><polygon fill=\"#383838\" points=\"200.09,197.46,204.3955,203.2447,211.3912,201.4952,207.0857,195.7105,200.09,197.46\" style=\"stroke: #383838; stroke-width: 1.0;\"/></a><!--MD5=[bfc3ddf2e613be37104f658f09af896c]\n",
       "link E9 to E5--><a href=\"psysml:fc8a5d52-f7b0-45e1-9a4f-1e932b65f071\" target=\"_top\" title=\"psysml:fc8a5d52-f7b0-45e1-9a4f-1e932b65f071\" xlink:actuate=\"onRequest\" xlink:href=\"psysml:fc8a5d52-f7b0-45e1-9a4f-1e932b65f071\" xlink:show=\"new\" xlink:title=\"psysml:fc8a5d52-f7b0-45e1-9a4f-1e932b65f071\" xlink:type=\"simple\"><path d=\"M302.02,226 C313.18,226 327.65,226 341.79,226 \" fill=\"none\" id=\"E9-&gt;E5\" style=\"stroke: #383838; stroke-width: 1.0;\"/><polygon fill=\"#FFFFFF\" points=\"361.86,226,342.86,233,342.86,219,361.86,226\" style=\"stroke: #383838; stroke-width: 1.0;\"/><ellipse cx=\"337.16\" cy=\"231\" fill=\"#383838\" rx=\"2\" ry=\"2\" style=\"stroke: #383838; stroke-width: 1.0;\"/><ellipse cx=\"337.16\" cy=\"221\" fill=\"#383838\" rx=\"2\" ry=\"2\" style=\"stroke: #383838; stroke-width: 1.0;\"/></a><!--MD5=[a919e0967d6f3de553dc51b9865a1d6d]\n",
       "link E10 to E7--><a href=\"psysml:2e3833d6-0a03-41e5-9593-325ba84dff2e\" target=\"_top\" title=\"psysml:2e3833d6-0a03-41e5-9593-325ba84dff2e\" xlink:actuate=\"onRequest\" xlink:href=\"psysml:2e3833d6-0a03-41e5-9593-325ba84dff2e\" xlink:show=\"new\" xlink:title=\"psysml:2e3833d6-0a03-41e5-9593-325ba84dff2e\" xlink:type=\"simple\"><path d=\"M74.02,186 C85.18,186 99.65,186 113.79,186 \" fill=\"none\" id=\"E10-&gt;E7\" style=\"stroke: #383838; stroke-width: 1.0;\"/><polygon fill=\"#FFFFFF\" points=\"133.86,186,114.86,193,114.86,179,133.86,186\" style=\"stroke: #383838; stroke-width: 1.0;\"/><ellipse cx=\"109.16\" cy=\"191\" fill=\"#383838\" rx=\"2\" ry=\"2\" style=\"stroke: #383838; stroke-width: 1.0;\"/><ellipse cx=\"109.16\" cy=\"181\" fill=\"#383838\" rx=\"2\" ry=\"2\" style=\"stroke: #383838; stroke-width: 1.0;\"/></a><!--MD5=[c2d0cca95efaca978c8fdce58033e952]\n",
       "@startuml\r\n",
       "left to right direction\r\n",
       "skinparam monochrome true\r\n",
       "skinparam classbackgroundcolor white\r\n",
       "skinparam shadowing false\r\n",
       "skinparam wrapWidth 300\r\n",
       "hide circle\r\n",
       "\r\n",
       "package \"Q\" as E1  [[psysml:427a19be-4ba6-433c-b392-6823bf74d458 ]]  {\r\n",
       "comp def \"F\" as E2  <<(T,blue) part def>> [[psysml:027effde-34e9-4491-ba0c-9f82cacaad23 ]] {\r\n",
       "}\r\n",
       "comp usage \"a\" as E3  <<(T,blue) part>> [[psysml:241a9b2a-e9cc-4b19-964a-2424b61c0639 ]] {\r\n",
       "}\r\n",
       "comp usage \"f: F\" as E4  <<(T,blue) part>> [[psysml:40835df5-3f1f-4886-9446-1465d21ad736 ]] {\r\n",
       "}\r\n",
       "comp def \"A\" as E5  <<(T,blue) part def>> [[psysml:299c2c32-5ec1-43b2-a066-b7748b01150c ]] {\r\n",
       "}\r\n",
       "comp usage \"g\" as E6  <<(T,blue) part>> [[psysml:31dec55f-8acf-4d42-bd51-f4047894820c ]] {\r\n",
       "}\r\n",
       "comp def \"B\" as E7  <<(T,blue) part def>> [[psysml:e57a8ff4-b454-49af-9671-50f81189572a ]] {\r\n",
       "}\r\n",
       "comp usage \"f: F\" as E8  <<(T,blue) part>> [[psysml:ae9b8861-e9cc-45e7-97b3-375fd90ac7d9 ]] {\r\n",
       "}\r\n",
       "comp usage \"a: A\" as E9  <<(T,blue) part>> [[psysml:d620b19b-a1e2-497d-8cad-3b2dc38fedc0 ]] {\r\n",
       "}\r\n",
       "comp usage \"b: B\" as E10  <<(T,blue) part>> [[psysml:f9a1a989-561d-4119-971e-8ebceafa94b4 ]] {\r\n",
       "}\r\n",
       "E2 *- - E3 [[psysml:5ee10b2b-55c1-4a08-a13b-bdb74e3f50e5 ]] \r\n",
       "E4 - -:|> E2 [[psysml:c4c1c0e2-eca3-4dc3-a203-c30912c3ab2b ]] \r\n",
       "E5 *- - E6 [[psysml:93463b7d-149f-4a15-b84b-177a9e530eda ]] \r\n",
       "E7 *- - E8 [[psysml:de6f8f38-3125-456b-a954-15a696931b63 ]] \r\n",
       "E8 - -:|> E2 [[psysml:536a95df-7241-4403-bcab-1aa9fe7a4b7d ]] \r\n",
       "E7 *- - E9 [[psysml:2c441a1b-e979-4985-bcd5-61f8c13172d0 ]] \r\n",
       "E9 - -:|> E5 [[psysml:fc8a5d52-f7b0-45e1-9a4f-1e932b65f071 ]] \r\n",
       "E10 - -:|> E7 [[psysml:2e3833d6-0a03-41e5-9593-325ba84dff2e ]] \r\n",
       "}\r\n",
       "@enduml\r\n",
       "\n",
       "PlantUML version 1.2020.13(Sat Jun 13 12:26:38 UTC 2020)\n",
       "(EPL source distribution)\n",
       "Java Runtime: OpenJDK Runtime Environment\n",
       "JVM: OpenJDK 64-Bit Server VM\n",
       "Default Encoding: UTF-8\n",
       "Language: en\n",
       "Country: null\n",
       "--></g></svg>"
      ]
     },
     "execution_count": 16,
     "metadata": {},
     "output_type": "execute_result"
    }
   ],
   "source": [
    "%viz --style=\"LR\" --view=\"Default\" \"Q\""
   ]
  },
  {
   "cell_type": "code",
   "execution_count": 17,
   "id": "6106231f",
   "metadata": {
    "execution": {
     "iopub.execute_input": "2021-06-30T09:23:31.938385Z",
     "iopub.status.busy": "2021-06-30T09:23:31.937087Z",
     "iopub.status.idle": "2021-06-30T09:23:32.054100Z",
     "shell.execute_reply": "2021-06-30T09:23:32.053146Z"
    }
   },
   "outputs": [
    {
     "data": {
      "image/svg+xml": [
       "<?xml version=\"1.0\" encoding=\"UTF-8\" standalone=\"no\"?><svg xmlns=\"http://www.w3.org/2000/svg\" xmlns:xlink=\"http://www.w3.org/1999/xlink\" contentScriptType=\"application/ecmascript\" contentStyleType=\"text/css\" height=\"277px\" preserveAspectRatio=\"none\" style=\"width:568px;height:277px;\" version=\"1.1\" viewBox=\"0 0 568 277\" width=\"568px\" zoomAndPan=\"magnify\"><defs/><g><!--MD5=[fbc87193dbaf4d95561dea2c320d4a47]\n",
       "cluster E1--><a href=\"psysml:427a19be-4ba6-433c-b392-6823bf74d458\" target=\"_top\" title=\"psysml:427a19be-4ba6-433c-b392-6823bf74d458\" xlink:actuate=\"onRequest\" xlink:href=\"psysml:427a19be-4ba6-433c-b392-6823bf74d458\" xlink:show=\"new\" xlink:title=\"psysml:427a19be-4ba6-433c-b392-6823bf74d458\" xlink:type=\"simple\"><polygon fill=\"#FFFFFF\" points=\"16,6,34,6,41,28.2969,546,28.2969,546,265,16,265,16,6\" style=\"stroke: #000000; stroke-width: 1.5;\"/><line style=\"stroke: #000000; stroke-width: 1.5;\" x1=\"16\" x2=\"41\" y1=\"28.2969\" y2=\"28.2969\"/><text fill=\"#000000\" font-family=\"sans-serif\" font-size=\"14\" font-weight=\"bold\" lengthAdjust=\"spacingAndGlyphs\" textLength=\"12\" x=\"20\" y=\"20.9951\">Q</text></a><!--MD5=[b4997ac47864f28c2f74865a473b2911]\n",
       "class E2--><a href=\"psysml:027effde-34e9-4491-ba0c-9f82cacaad23\" target=\"_top\" title=\"psysml:027effde-34e9-4491-ba0c-9f82cacaad23\" xlink:actuate=\"onRequest\" xlink:href=\"psysml:027effde-34e9-4491-ba0c-9f82cacaad23\" xlink:show=\"new\" xlink:title=\"psysml:027effde-34e9-4491-ba0c-9f82cacaad23\" xlink:type=\"simple\"><rect fill=\"#FFFFFF\" height=\"45.9375\" id=\"E2\" style=\"stroke: #383838; stroke-width: 1.5;\" width=\"66\" x=\"362\" y=\"122\"/><text fill=\"#000000\" font-family=\"sans-serif\" font-size=\"12\" font-style=\"italic\" lengthAdjust=\"spacingAndGlyphs\" textLength=\"64\" x=\"363\" y=\"138.1387\">«part def»</text><text fill=\"#000000\" font-family=\"sans-serif\" font-size=\"12\" lengthAdjust=\"spacingAndGlyphs\" textLength=\"7\" x=\"391.5\" y=\"152.1074\">F</text><line style=\"stroke: #383838; stroke-width: 1.5;\" x1=\"363\" x2=\"427\" y1=\"159.9375\" y2=\"159.9375\"/></a><!--MD5=[09b614a08d8cba4a07c9adeb5e0fee81]\n",
       "class E3--><a href=\"psysml:241a9b2a-e9cc-4b19-964a-2424b61c0639\" target=\"_top\" title=\"psysml:241a9b2a-e9cc-4b19-964a-2424b61c0639\" xlink:actuate=\"onRequest\" xlink:href=\"psysml:241a9b2a-e9cc-4b19-964a-2424b61c0639\" xlink:show=\"new\" xlink:title=\"psysml:241a9b2a-e9cc-4b19-964a-2424b61c0639\" xlink:type=\"simple\"><rect fill=\"#FFFFFF\" height=\"45.9375\" id=\"E3\" rx=\"10\" ry=\"10\" style=\"stroke: #383838; stroke-width: 1.5;\" width=\"42\" x=\"488\" y=\"122\"/><text fill=\"#000000\" font-family=\"sans-serif\" font-size=\"12\" font-style=\"italic\" lengthAdjust=\"spacingAndGlyphs\" textLength=\"40\" x=\"489\" y=\"138.1387\">«part»</text><text fill=\"#000000\" font-family=\"sans-serif\" font-size=\"12\" lengthAdjust=\"spacingAndGlyphs\" textLength=\"8\" x=\"505\" y=\"152.1074\">a</text><line style=\"stroke: #383838; stroke-width: 1.5;\" x1=\"489\" x2=\"529\" y1=\"159.9375\" y2=\"159.9375\"/></a><!--MD5=[ebbe1d658d1005bcc118a6aa81145e00]\n",
       "class E4--><a href=\"psysml:40835df5-3f1f-4886-9446-1465d21ad736\" target=\"_top\" title=\"psysml:40835df5-3f1f-4886-9446-1465d21ad736\" xlink:actuate=\"onRequest\" xlink:href=\"psysml:40835df5-3f1f-4886-9446-1465d21ad736\" xlink:show=\"new\" xlink:title=\"psysml:40835df5-3f1f-4886-9446-1465d21ad736\" xlink:type=\"simple\"><rect fill=\"#FFFFFF\" height=\"45.9375\" id=\"E4\" rx=\"10\" ry=\"10\" style=\"stroke: #383838; stroke-width: 1.5;\" width=\"42\" x=\"260\" y=\"41\"/><text fill=\"#000000\" font-family=\"sans-serif\" font-size=\"12\" font-style=\"italic\" lengthAdjust=\"spacingAndGlyphs\" textLength=\"40\" x=\"261\" y=\"57.1387\">«part»</text><text fill=\"#000000\" font-family=\"sans-serif\" font-size=\"12\" lengthAdjust=\"spacingAndGlyphs\" textLength=\"19\" x=\"271.5\" y=\"71.1074\">f: F</text><line style=\"stroke: #383838; stroke-width: 1.5;\" x1=\"261\" x2=\"301\" y1=\"78.9375\" y2=\"78.9375\"/></a><!--MD5=[270fce915f116d4de14055a7c1d9a0f3]\n",
       "class E5--><a href=\"psysml:299c2c32-5ec1-43b2-a066-b7748b01150c\" target=\"_top\" title=\"psysml:299c2c32-5ec1-43b2-a066-b7748b01150c\" xlink:actuate=\"onRequest\" xlink:href=\"psysml:299c2c32-5ec1-43b2-a066-b7748b01150c\" xlink:show=\"new\" xlink:title=\"psysml:299c2c32-5ec1-43b2-a066-b7748b01150c\" xlink:type=\"simple\"><rect fill=\"#FFFFFF\" height=\"45.9375\" id=\"E5\" style=\"stroke: #383838; stroke-width: 1.5;\" width=\"66\" x=\"362\" y=\"203\"/><text fill=\"#000000\" font-family=\"sans-serif\" font-size=\"12\" font-style=\"italic\" lengthAdjust=\"spacingAndGlyphs\" textLength=\"64\" x=\"363\" y=\"219.1387\">«part def»</text><text fill=\"#000000\" font-family=\"sans-serif\" font-size=\"12\" lengthAdjust=\"spacingAndGlyphs\" textLength=\"8\" x=\"391\" y=\"233.1074\">A</text><line style=\"stroke: #383838; stroke-width: 1.5;\" x1=\"363\" x2=\"427\" y1=\"240.9375\" y2=\"240.9375\"/></a><!--MD5=[60a26617385b1d2d0262a64233df1f8d]\n",
       "class E6--><a href=\"psysml:31dec55f-8acf-4d42-bd51-f4047894820c\" target=\"_top\" title=\"psysml:31dec55f-8acf-4d42-bd51-f4047894820c\" xlink:actuate=\"onRequest\" xlink:href=\"psysml:31dec55f-8acf-4d42-bd51-f4047894820c\" xlink:show=\"new\" xlink:title=\"psysml:31dec55f-8acf-4d42-bd51-f4047894820c\" xlink:type=\"simple\"><rect fill=\"#FFFFFF\" height=\"45.9375\" id=\"E6\" rx=\"10\" ry=\"10\" style=\"stroke: #383838; stroke-width: 1.5;\" width=\"42\" x=\"488\" y=\"203\"/><text fill=\"#000000\" font-family=\"sans-serif\" font-size=\"12\" font-style=\"italic\" lengthAdjust=\"spacingAndGlyphs\" textLength=\"40\" x=\"489\" y=\"219.1387\">«part»</text><text fill=\"#000000\" font-family=\"sans-serif\" font-size=\"12\" lengthAdjust=\"spacingAndGlyphs\" textLength=\"8\" x=\"505\" y=\"233.1074\">g</text><line style=\"stroke: #383838; stroke-width: 1.5;\" x1=\"489\" x2=\"529\" y1=\"240.9375\" y2=\"240.9375\"/></a><!--MD5=[2156ba9850f5573cc1fc38a6a4b2f02b]\n",
       "class E7--><a href=\"psysml:e57a8ff4-b454-49af-9671-50f81189572a\" target=\"_top\" title=\"psysml:e57a8ff4-b454-49af-9671-50f81189572a\" xlink:actuate=\"onRequest\" xlink:href=\"psysml:e57a8ff4-b454-49af-9671-50f81189572a\" xlink:show=\"new\" xlink:title=\"psysml:e57a8ff4-b454-49af-9671-50f81189572a\" xlink:type=\"simple\"><rect fill=\"#FFFFFF\" height=\"45.9375\" id=\"E7\" style=\"stroke: #383838; stroke-width: 1.5;\" width=\"66\" x=\"134\" y=\"163\"/><text fill=\"#000000\" font-family=\"sans-serif\" font-size=\"12\" font-style=\"italic\" lengthAdjust=\"spacingAndGlyphs\" textLength=\"64\" x=\"135\" y=\"179.1387\">«part def»</text><text fill=\"#000000\" font-family=\"sans-serif\" font-size=\"12\" lengthAdjust=\"spacingAndGlyphs\" textLength=\"8\" x=\"163\" y=\"193.1074\">B</text><line style=\"stroke: #383838; stroke-width: 1.5;\" x1=\"135\" x2=\"199\" y1=\"200.9375\" y2=\"200.9375\"/></a><!--MD5=[b9389687b975829384b498ac4b7476b2]\n",
       "class E8--><a href=\"psysml:ae9b8861-e9cc-45e7-97b3-375fd90ac7d9\" target=\"_top\" title=\"psysml:ae9b8861-e9cc-45e7-97b3-375fd90ac7d9\" xlink:actuate=\"onRequest\" xlink:href=\"psysml:ae9b8861-e9cc-45e7-97b3-375fd90ac7d9\" xlink:show=\"new\" xlink:title=\"psysml:ae9b8861-e9cc-45e7-97b3-375fd90ac7d9\" xlink:type=\"simple\"><rect fill=\"#FFFFFF\" height=\"45.9375\" id=\"E8\" rx=\"10\" ry=\"10\" style=\"stroke: #383838; stroke-width: 1.5;\" width=\"42\" x=\"260\" y=\"122\"/><text fill=\"#000000\" font-family=\"sans-serif\" font-size=\"12\" font-style=\"italic\" lengthAdjust=\"spacingAndGlyphs\" textLength=\"40\" x=\"261\" y=\"138.1387\">«part»</text><text fill=\"#000000\" font-family=\"sans-serif\" font-size=\"12\" lengthAdjust=\"spacingAndGlyphs\" textLength=\"19\" x=\"271.5\" y=\"152.1074\">f: F</text><line style=\"stroke: #383838; stroke-width: 1.5;\" x1=\"261\" x2=\"301\" y1=\"159.9375\" y2=\"159.9375\"/></a><!--MD5=[fd4143e9d270a159db93a4ea2a975926]\n",
       "class E9--><a href=\"psysml:d620b19b-a1e2-497d-8cad-3b2dc38fedc0\" target=\"_top\" title=\"psysml:d620b19b-a1e2-497d-8cad-3b2dc38fedc0\" xlink:actuate=\"onRequest\" xlink:href=\"psysml:d620b19b-a1e2-497d-8cad-3b2dc38fedc0\" xlink:show=\"new\" xlink:title=\"psysml:d620b19b-a1e2-497d-8cad-3b2dc38fedc0\" xlink:type=\"simple\"><rect fill=\"#FFFFFF\" height=\"45.9375\" id=\"E9\" rx=\"10\" ry=\"10\" style=\"stroke: #383838; stroke-width: 1.5;\" width=\"42\" x=\"260\" y=\"203\"/><text fill=\"#000000\" font-family=\"sans-serif\" font-size=\"12\" font-style=\"italic\" lengthAdjust=\"spacingAndGlyphs\" textLength=\"40\" x=\"261\" y=\"219.1387\">«part»</text><text fill=\"#000000\" font-family=\"sans-serif\" font-size=\"12\" lengthAdjust=\"spacingAndGlyphs\" textLength=\"24\" x=\"269\" y=\"233.1074\">a: A</text><line style=\"stroke: #383838; stroke-width: 1.5;\" x1=\"261\" x2=\"301\" y1=\"240.9375\" y2=\"240.9375\"/></a><!--MD5=[96f4274e9e20536e775497830990834d]\n",
       "class E10--><a href=\"psysml:f9a1a989-561d-4119-971e-8ebceafa94b4\" target=\"_top\" title=\"psysml:f9a1a989-561d-4119-971e-8ebceafa94b4\" xlink:actuate=\"onRequest\" xlink:href=\"psysml:f9a1a989-561d-4119-971e-8ebceafa94b4\" xlink:show=\"new\" xlink:title=\"psysml:f9a1a989-561d-4119-971e-8ebceafa94b4\" xlink:type=\"simple\"><rect fill=\"#FFFFFF\" height=\"45.9375\" id=\"E10\" rx=\"10\" ry=\"10\" style=\"stroke: #383838; stroke-width: 1.5;\" width=\"42\" x=\"32\" y=\"163\"/><text fill=\"#000000\" font-family=\"sans-serif\" font-size=\"12\" font-style=\"italic\" lengthAdjust=\"spacingAndGlyphs\" textLength=\"40\" x=\"33\" y=\"179.1387\">«part»</text><text fill=\"#000000\" font-family=\"sans-serif\" font-size=\"12\" lengthAdjust=\"spacingAndGlyphs\" textLength=\"24\" x=\"41\" y=\"193.1074\">b: B</text><line style=\"stroke: #383838; stroke-width: 1.5;\" x1=\"33\" x2=\"73\" y1=\"200.9375\" y2=\"200.9375\"/></a><!--MD5=[209b3feb70ccb6233bfe1053d122c12c]\n",
       "reverse link E2 to E3--><a href=\"psysml:5ee10b2b-55c1-4a08-a13b-bdb74e3f50e5\" target=\"_top\" title=\"psysml:5ee10b2b-55c1-4a08-a13b-bdb74e3f50e5\" xlink:actuate=\"onRequest\" xlink:href=\"psysml:5ee10b2b-55c1-4a08-a13b-bdb74e3f50e5\" xlink:show=\"new\" xlink:title=\"psysml:5ee10b2b-55c1-4a08-a13b-bdb74e3f50e5\" xlink:type=\"simple\"><path d=\"M441.28,145 C457.47,145 474.9,145 487.89,145 \" fill=\"none\" id=\"E2&lt;-E3\" style=\"stroke: #383838; stroke-width: 1.0;\"/><polygon fill=\"#383838\" points=\"428.09,145,434.09,149,440.09,145,434.09,141,428.09,145\" style=\"stroke: #383838; stroke-width: 1.0;\"/></a><!--MD5=[185131fc0dcab0a4505a2ebe144e961b]\n",
       "link E4 to E2--><a href=\"psysml:c4c1c0e2-eca3-4dc3-a203-c30912c3ab2b\" target=\"_top\" title=\"psysml:c4c1c0e2-eca3-4dc3-a203-c30912c3ab2b\" xlink:actuate=\"onRequest\" xlink:href=\"psysml:c4c1c0e2-eca3-4dc3-a203-c30912c3ab2b\" xlink:show=\"new\" xlink:title=\"psysml:c4c1c0e2-eca3-4dc3-a203-c30912c3ab2b\" xlink:type=\"simple\"><path d=\"M302.02,78.48 C314.09,87.21 330.03,98.73 345.24,109.73 \" fill=\"none\" id=\"E4-&gt;E2\" style=\"stroke: #383838; stroke-width: 1.0;\"/><polygon fill=\"#FFFFFF\" points=\"361.86,121.75,342.3595,116.2973,350.5582,104.9491,361.86,121.75\" style=\"stroke: #383838; stroke-width: 1.0;\"/><ellipse cx=\"338.9104\" cy=\"111.3381\" fill=\"#383838\" rx=\"2\" ry=\"2\" style=\"stroke: #383838; stroke-width: 1.0;\"/><ellipse cx=\"344.7667\" cy=\"103.2322\" fill=\"#383838\" rx=\"2\" ry=\"2\" style=\"stroke: #383838; stroke-width: 1.0;\"/></a><!--MD5=[85d356282659285ab4b2cfe2f634dd2b]\n",
       "reverse link E5 to E6--><a href=\"psysml:93463b7d-149f-4a15-b84b-177a9e530eda\" target=\"_top\" title=\"psysml:93463b7d-149f-4a15-b84b-177a9e530eda\" xlink:actuate=\"onRequest\" xlink:href=\"psysml:93463b7d-149f-4a15-b84b-177a9e530eda\" xlink:show=\"new\" xlink:title=\"psysml:93463b7d-149f-4a15-b84b-177a9e530eda\" xlink:type=\"simple\"><path d=\"M441.28,226 C457.47,226 474.9,226 487.89,226 \" fill=\"none\" id=\"E5&lt;-E6\" style=\"stroke: #383838; stroke-width: 1.0;\"/><polygon fill=\"#383838\" points=\"428.09,226,434.09,230,440.09,226,434.09,222,428.09,226\" style=\"stroke: #383838; stroke-width: 1.0;\"/></a><!--MD5=[dc164f5e8a733ab456ef1add180e9e34]\n",
       "reverse link E7 to E8--><a href=\"psysml:de6f8f38-3125-456b-a954-15a696931b63\" target=\"_top\" title=\"psysml:de6f8f38-3125-456b-a954-15a696931b63\" xlink:actuate=\"onRequest\" xlink:href=\"psysml:de6f8f38-3125-456b-a954-15a696931b63\" xlink:show=\"new\" xlink:title=\"psysml:de6f8f38-3125-456b-a954-15a696931b63\" xlink:type=\"simple\"><path d=\"M212.31,169.78 C228.77,163.75 246.64,157.21 259.89,152.36 \" fill=\"none\" id=\"E7&lt;-E8\" style=\"stroke: #383838; stroke-width: 1.0;\"/><polygon fill=\"#383838\" points=\"200.09,174.25,207.1,175.9409,211.3571,170.1205,204.347,168.4296,200.09,174.25\" style=\"stroke: #383838; stroke-width: 1.0;\"/></a><!--MD5=[f1f3f9f2fc535e6147756cb86a7f2e32]\n",
       "link E8 to E2--><a href=\"psysml:536a95df-7241-4403-bcab-1aa9fe7a4b7d\" target=\"_top\" title=\"psysml:536a95df-7241-4403-bcab-1aa9fe7a4b7d\" xlink:actuate=\"onRequest\" xlink:href=\"psysml:536a95df-7241-4403-bcab-1aa9fe7a4b7d\" xlink:show=\"new\" xlink:title=\"psysml:536a95df-7241-4403-bcab-1aa9fe7a4b7d\" xlink:type=\"simple\"><path d=\"M302.02,145 C313.18,145 327.65,145 341.79,145 \" fill=\"none\" id=\"E8-&gt;E2\" style=\"stroke: #383838; stroke-width: 1.0;\"/><polygon fill=\"#FFFFFF\" points=\"361.86,145,342.86,152,342.86,138,361.86,145\" style=\"stroke: #383838; stroke-width: 1.0;\"/><ellipse cx=\"337.16\" cy=\"150\" fill=\"#383838\" rx=\"2\" ry=\"2\" style=\"stroke: #383838; stroke-width: 1.0;\"/><ellipse cx=\"337.16\" cy=\"140\" fill=\"#383838\" rx=\"2\" ry=\"2\" style=\"stroke: #383838; stroke-width: 1.0;\"/></a><!--MD5=[e4a10ef82d0e328e31cac39a31e58dda]\n",
       "reverse link E7 to E9--><a href=\"psysml:2c441a1b-e979-4985-bcd5-61f8c13172d0\" target=\"_top\" title=\"psysml:2c441a1b-e979-4985-bcd5-61f8c13172d0\" xlink:actuate=\"onRequest\" xlink:href=\"psysml:2c441a1b-e979-4985-bcd5-61f8c13172d0\" xlink:show=\"new\" xlink:title=\"psysml:2c441a1b-e979-4985-bcd5-61f8c13172d0\" xlink:type=\"simple\"><path d=\"M212.79,202 C229.12,207.83 246.77,214.13 259.89,218.82 \" fill=\"none\" id=\"E7&lt;-E9\" style=\"stroke: #383838; stroke-width: 1.0;\"/><polygon fill=\"#383838\" points=\"200.09,197.46,204.3955,203.2447,211.3912,201.4952,207.0857,195.7105,200.09,197.46\" style=\"stroke: #383838; stroke-width: 1.0;\"/></a><!--MD5=[bfc3ddf2e613be37104f658f09af896c]\n",
       "link E9 to E5--><a href=\"psysml:fc8a5d52-f7b0-45e1-9a4f-1e932b65f071\" target=\"_top\" title=\"psysml:fc8a5d52-f7b0-45e1-9a4f-1e932b65f071\" xlink:actuate=\"onRequest\" xlink:href=\"psysml:fc8a5d52-f7b0-45e1-9a4f-1e932b65f071\" xlink:show=\"new\" xlink:title=\"psysml:fc8a5d52-f7b0-45e1-9a4f-1e932b65f071\" xlink:type=\"simple\"><path d=\"M302.02,226 C313.18,226 327.65,226 341.79,226 \" fill=\"none\" id=\"E9-&gt;E5\" style=\"stroke: #383838; stroke-width: 1.0;\"/><polygon fill=\"#FFFFFF\" points=\"361.86,226,342.86,233,342.86,219,361.86,226\" style=\"stroke: #383838; stroke-width: 1.0;\"/><ellipse cx=\"337.16\" cy=\"231\" fill=\"#383838\" rx=\"2\" ry=\"2\" style=\"stroke: #383838; stroke-width: 1.0;\"/><ellipse cx=\"337.16\" cy=\"221\" fill=\"#383838\" rx=\"2\" ry=\"2\" style=\"stroke: #383838; stroke-width: 1.0;\"/></a><!--MD5=[a919e0967d6f3de553dc51b9865a1d6d]\n",
       "link E10 to E7--><a href=\"psysml:2e3833d6-0a03-41e5-9593-325ba84dff2e\" target=\"_top\" title=\"psysml:2e3833d6-0a03-41e5-9593-325ba84dff2e\" xlink:actuate=\"onRequest\" xlink:href=\"psysml:2e3833d6-0a03-41e5-9593-325ba84dff2e\" xlink:show=\"new\" xlink:title=\"psysml:2e3833d6-0a03-41e5-9593-325ba84dff2e\" xlink:type=\"simple\"><path d=\"M74.02,186 C85.18,186 99.65,186 113.79,186 \" fill=\"none\" id=\"E10-&gt;E7\" style=\"stroke: #383838; stroke-width: 1.0;\"/><polygon fill=\"#FFFFFF\" points=\"133.86,186,114.86,193,114.86,179,133.86,186\" style=\"stroke: #383838; stroke-width: 1.0;\"/><ellipse cx=\"109.16\" cy=\"191\" fill=\"#383838\" rx=\"2\" ry=\"2\" style=\"stroke: #383838; stroke-width: 1.0;\"/><ellipse cx=\"109.16\" cy=\"181\" fill=\"#383838\" rx=\"2\" ry=\"2\" style=\"stroke: #383838; stroke-width: 1.0;\"/></a><!--MD5=[c2d0cca95efaca978c8fdce58033e952]\n",
       "@startuml\r\n",
       "left to right direction\r\n",
       "skinparam monochrome true\r\n",
       "skinparam classbackgroundcolor white\r\n",
       "skinparam shadowing false\r\n",
       "skinparam wrapWidth 300\r\n",
       "hide circle\r\n",
       "\r\n",
       "package \"Q\" as E1  [[psysml:427a19be-4ba6-433c-b392-6823bf74d458 ]]  {\r\n",
       "comp def \"F\" as E2  <<(T,blue) part def>> [[psysml:027effde-34e9-4491-ba0c-9f82cacaad23 ]] {\r\n",
       "}\r\n",
       "comp usage \"a\" as E3  <<(T,blue) part>> [[psysml:241a9b2a-e9cc-4b19-964a-2424b61c0639 ]] {\r\n",
       "}\r\n",
       "comp usage \"f: F\" as E4  <<(T,blue) part>> [[psysml:40835df5-3f1f-4886-9446-1465d21ad736 ]] {\r\n",
       "}\r\n",
       "comp def \"A\" as E5  <<(T,blue) part def>> [[psysml:299c2c32-5ec1-43b2-a066-b7748b01150c ]] {\r\n",
       "}\r\n",
       "comp usage \"g\" as E6  <<(T,blue) part>> [[psysml:31dec55f-8acf-4d42-bd51-f4047894820c ]] {\r\n",
       "}\r\n",
       "comp def \"B\" as E7  <<(T,blue) part def>> [[psysml:e57a8ff4-b454-49af-9671-50f81189572a ]] {\r\n",
       "}\r\n",
       "comp usage \"f: F\" as E8  <<(T,blue) part>> [[psysml:ae9b8861-e9cc-45e7-97b3-375fd90ac7d9 ]] {\r\n",
       "}\r\n",
       "comp usage \"a: A\" as E9  <<(T,blue) part>> [[psysml:d620b19b-a1e2-497d-8cad-3b2dc38fedc0 ]] {\r\n",
       "}\r\n",
       "comp usage \"b: B\" as E10  <<(T,blue) part>> [[psysml:f9a1a989-561d-4119-971e-8ebceafa94b4 ]] {\r\n",
       "}\r\n",
       "E2 *- - E3 [[psysml:5ee10b2b-55c1-4a08-a13b-bdb74e3f50e5 ]] \r\n",
       "E4 - -:|> E2 [[psysml:c4c1c0e2-eca3-4dc3-a203-c30912c3ab2b ]] \r\n",
       "E5 *- - E6 [[psysml:93463b7d-149f-4a15-b84b-177a9e530eda ]] \r\n",
       "E7 *- - E8 [[psysml:de6f8f38-3125-456b-a954-15a696931b63 ]] \r\n",
       "E8 - -:|> E2 [[psysml:536a95df-7241-4403-bcab-1aa9fe7a4b7d ]] \r\n",
       "E7 *- - E9 [[psysml:2c441a1b-e979-4985-bcd5-61f8c13172d0 ]] \r\n",
       "E9 - -:|> E5 [[psysml:fc8a5d52-f7b0-45e1-9a4f-1e932b65f071 ]] \r\n",
       "E10 - -:|> E7 [[psysml:2e3833d6-0a03-41e5-9593-325ba84dff2e ]] \r\n",
       "}\r\n",
       "@enduml\r\n",
       "\n",
       "PlantUML version 1.2020.13(Sat Jun 13 12:26:38 UTC 2020)\n",
       "(EPL source distribution)\n",
       "Java Runtime: OpenJDK Runtime Environment\n",
       "JVM: OpenJDK 64-Bit Server VM\n",
       "Default Encoding: UTF-8\n",
       "Language: en\n",
       "Country: null\n",
       "--></g></svg>"
      ]
     },
     "execution_count": 17,
     "metadata": {},
     "output_type": "execute_result"
    }
   ],
   "source": [
    "%viz --style=\"LR\" --view=\"Tree\" \"Q\""
   ]
  },
  {
   "cell_type": "code",
   "execution_count": 18,
   "id": "87782436",
   "metadata": {
    "execution": {
     "iopub.execute_input": "2021-06-30T09:23:32.105016Z",
     "iopub.status.busy": "2021-06-30T09:23:32.103547Z",
     "iopub.status.idle": "2021-06-30T09:23:32.116580Z",
     "shell.execute_reply": "2021-06-30T09:23:32.115882Z"
    }
   },
   "outputs": [
    {
     "data": {
      "image/svg+xml": [
       "<?xml version=\"1.0\" encoding=\"UTF-8\" standalone=\"no\"?><svg xmlns=\"http://www.w3.org/2000/svg\" xmlns:xlink=\"http://www.w3.org/1999/xlink\" contentScriptType=\"application/ecmascript\" contentStyleType=\"text/css\" height=\"12px\" preserveAspectRatio=\"none\" style=\"width:12px;height:12px;\" version=\"1.1\" viewBox=\"0 0 12 12\" width=\"12px\" zoomAndPan=\"magnify\"><defs/><g><!--MD5=[19d285c9d72a204eba4e2cd117d745e8]\n",
       "@startuml\r\n",
       "left to right direction\r\n",
       "skinparam monochrome true\r\n",
       "skinparam classbackgroundcolor white\r\n",
       "skinparam shadowing false\r\n",
       "skinparam wrapWidth 300\r\n",
       "hide circle\r\n",
       "\r\n",
       "@enduml\r\n",
       "\n",
       "PlantUML version 1.2020.13(Sat Jun 13 12:26:38 UTC 2020)\n",
       "(EPL source distribution)\n",
       "Java Runtime: OpenJDK Runtime Environment\n",
       "JVM: OpenJDK 64-Bit Server VM\n",
       "Default Encoding: UTF-8\n",
       "Language: en\n",
       "Country: null\n",
       "--></g></svg>"
      ]
     },
     "execution_count": 18,
     "metadata": {},
     "output_type": "execute_result"
    }
   ],
   "source": [
    "%viz --style=\"LR\" --view=\"State\" \"Q\""
   ]
  },
  {
   "cell_type": "code",
   "execution_count": 19,
   "id": "14b109ba",
   "metadata": {
    "execution": {
     "iopub.execute_input": "2021-06-30T09:23:32.173020Z",
     "iopub.status.busy": "2021-06-30T09:23:32.171369Z",
     "iopub.status.idle": "2021-06-30T09:23:32.310486Z",
     "shell.execute_reply": "2021-06-30T09:23:32.305609Z"
    }
   },
   "outputs": [
    {
     "data": {
      "image/svg+xml": [
       "<?xml version=\"1.0\" encoding=\"UTF-8\" standalone=\"no\"?><svg xmlns=\"http://www.w3.org/2000/svg\" xmlns:xlink=\"http://www.w3.org/1999/xlink\" contentScriptType=\"application/ecmascript\" contentStyleType=\"text/css\" height=\"684px\" preserveAspectRatio=\"none\" style=\"width:375px;height:684px;\" version=\"1.1\" viewBox=\"0 0 375 684\" width=\"375px\" zoomAndPan=\"magnify\"><defs/><g><!--MD5=[fbc87193dbaf4d95561dea2c320d4a47]\n",
       "cluster E1--><a href=\"psysml:427a19be-4ba6-433c-b392-6823bf74d458\" target=\"_top\" title=\"psysml:427a19be-4ba6-433c-b392-6823bf74d458\" xlink:actuate=\"onRequest\" xlink:href=\"psysml:427a19be-4ba6-433c-b392-6823bf74d458\" xlink:show=\"new\" xlink:title=\"psysml:427a19be-4ba6-433c-b392-6823bf74d458\" xlink:type=\"simple\"><polygon fill=\"#FFFFFF\" points=\"16,6,34,6,41,28.2969,353,28.2969,353,672,16,672,16,6\" style=\"stroke: #000000; stroke-width: 1.5;\"/><line style=\"stroke: #000000; stroke-width: 1.5;\" x1=\"16\" x2=\"41\" y1=\"28.2969\" y2=\"28.2969\"/><text fill=\"#000000\" font-family=\"sans-serif\" font-size=\"14\" font-weight=\"bold\" lengthAdjust=\"spacingAndGlyphs\" textLength=\"12\" x=\"20\" y=\"20.9951\">Q</text></a><!--MD5=[e4f7fae6ed58524ba242bb0b0d3be6b7]\n",
       "cluster E2--><a href=\"psysml:027effde-34e9-4491-ba0c-9f82cacaad23\" target=\"_top\" title=\"psysml:027effde-34e9-4491-ba0c-9f82cacaad23\" xlink:actuate=\"onRequest\" xlink:href=\"psysml:027effde-34e9-4491-ba0c-9f82cacaad23\" xlink:show=\"new\" xlink:title=\"psysml:027effde-34e9-4491-ba0c-9f82cacaad23\" xlink:type=\"simple\"><rect fill=\"#FFFFFF\" height=\"107\" id=\"E2\" style=\"stroke: #383838; stroke-width: 1.5;\" width=\"87\" x=\"68.5\" y=\"49\"/><rect fill=\"#F8F8F8\" height=\"37.9375\" style=\"stroke: #383838; stroke-width: 1.5;\" width=\"87\" x=\"68.5\" y=\"49\"/><text fill=\"#000000\" font-family=\"sans-serif\" font-size=\"12\" font-style=\"italic\" lengthAdjust=\"spacingAndGlyphs\" textLength=\"64\" x=\"80\" y=\"65.1387\">«part def»</text><text fill=\"#000000\" font-family=\"sans-serif\" font-size=\"12\" lengthAdjust=\"spacingAndGlyphs\" textLength=\"7\" x=\"108.5\" y=\"79.1074\">F</text></a><!--MD5=[f6df4d0ebaf0b5dfb2ced0ae5af7c670]\n",
       "cluster E4--><a href=\"psysml:40835df5-3f1f-4886-9446-1465d21ad736\" target=\"_top\" title=\"psysml:40835df5-3f1f-4886-9446-1465d21ad736\" xlink:actuate=\"onRequest\" xlink:href=\"psysml:40835df5-3f1f-4886-9446-1465d21ad736\" xlink:show=\"new\" xlink:title=\"psysml:40835df5-3f1f-4886-9446-1465d21ad736\" xlink:type=\"simple\"><rect fill=\"#FFFFFF\" height=\"91\" id=\"E4\" rx=\"10\" ry=\"10\" style=\"stroke: #383838; stroke-width: 1.5;\" width=\"82\" x=\"70.5\" y=\"180\"/><rect fill=\"#F8F8F8\" height=\"23.9688\" rx=\"10\" ry=\"10\" style=\"stroke: #F8F8F8; stroke-width: 1.5;\" width=\"82\" x=\"70.5\" y=\"180\"/><rect fill=\"#F8F8F8\" height=\"10\" style=\"stroke: #F8F8F8; stroke-width: 1.5;\" width=\"82\" x=\"70.5\" y=\"193.9688\"/><rect fill=\"none\" height=\"91\" id=\"E4\" rx=\"10\" ry=\"10\" style=\"stroke: #383838; stroke-width: 1.5;\" width=\"82\" x=\"70.5\" y=\"180\"/><text fill=\"#000000\" font-family=\"sans-serif\" font-size=\"12\" lengthAdjust=\"spacingAndGlyphs\" textLength=\"19\" x=\"102\" y=\"196.1387\">f: F</text><line style=\"stroke: #383838; stroke-width: 1.0;\" x1=\"70.5\" x2=\"152.5\" y1=\"203.9688\" y2=\"203.9688\"/></a><!--MD5=[14e3b0961a2654348d326746436168a1]\n",
       "cluster E6--><a href=\"psysml:299c2c32-5ec1-43b2-a066-b7748b01150c\" target=\"_top\" title=\"psysml:299c2c32-5ec1-43b2-a066-b7748b01150c\" xlink:actuate=\"onRequest\" xlink:href=\"psysml:299c2c32-5ec1-43b2-a066-b7748b01150c\" xlink:show=\"new\" xlink:title=\"psysml:299c2c32-5ec1-43b2-a066-b7748b01150c\" xlink:type=\"simple\"><rect fill=\"#FFFFFF\" height=\"107\" id=\"E6\" style=\"stroke: #383838; stroke-width: 1.5;\" width=\"87\" x=\"68\" y=\"295\"/><rect fill=\"#F8F8F8\" height=\"37.9375\" style=\"stroke: #383838; stroke-width: 1.5;\" width=\"87\" x=\"68\" y=\"295\"/><text fill=\"#000000\" font-family=\"sans-serif\" font-size=\"12\" font-style=\"italic\" lengthAdjust=\"spacingAndGlyphs\" textLength=\"64\" x=\"79.5\" y=\"311.1387\">«part def»</text><text fill=\"#000000\" font-family=\"sans-serif\" font-size=\"12\" lengthAdjust=\"spacingAndGlyphs\" textLength=\"8\" x=\"107.5\" y=\"325.1074\">A</text></a><!--MD5=[55dfccfc6c49c2d10cd1bd2211a6c90c]\n",
       "cluster E8--><a href=\"psysml:e57a8ff4-b454-49af-9671-50f81189572a\" target=\"_top\" title=\"psysml:e57a8ff4-b454-49af-9671-50f81189572a\" xlink:actuate=\"onRequest\" xlink:href=\"psysml:e57a8ff4-b454-49af-9671-50f81189572a\" xlink:show=\"new\" xlink:title=\"psysml:e57a8ff4-b454-49af-9671-50f81189572a\" xlink:type=\"simple\"><rect fill=\"#FFFFFF\" height=\"174\" id=\"E8\" style=\"stroke: #383838; stroke-width: 1.5;\" width=\"289\" x=\"40\" y=\"426\"/><rect fill=\"#F8F8F8\" height=\"37.9375\" style=\"stroke: #383838; stroke-width: 1.5;\" width=\"289\" x=\"40\" y=\"426\"/><text fill=\"#000000\" font-family=\"sans-serif\" font-size=\"12\" font-style=\"italic\" lengthAdjust=\"spacingAndGlyphs\" textLength=\"64\" x=\"152.5\" y=\"442.1387\">«part def»</text><text fill=\"#000000\" font-family=\"sans-serif\" font-size=\"12\" lengthAdjust=\"spacingAndGlyphs\" textLength=\"8\" x=\"180.5\" y=\"456.1074\">B</text></a><!--MD5=[7f149f147074ac12df2cb0a7728a5fb0]\n",
       "cluster E9--><a href=\"psysml:ae9b8861-e9cc-45e7-97b3-375fd90ac7d9\" target=\"_top\" title=\"psysml:ae9b8861-e9cc-45e7-97b3-375fd90ac7d9\" xlink:actuate=\"onRequest\" xlink:href=\"psysml:ae9b8861-e9cc-45e7-97b3-375fd90ac7d9\" xlink:show=\"new\" xlink:title=\"psysml:ae9b8861-e9cc-45e7-97b3-375fd90ac7d9\" xlink:type=\"simple\"><rect fill=\"#FFFFFF\" height=\"91\" id=\"E9\" rx=\"10\" ry=\"10\" style=\"stroke: #383838; stroke-width: 1.5;\" width=\"82\" x=\"223\" y=\"485\"/><rect fill=\"#F8F8F8\" height=\"23.9688\" rx=\"10\" ry=\"10\" style=\"stroke: #F8F8F8; stroke-width: 1.5;\" width=\"82\" x=\"223\" y=\"485\"/><rect fill=\"#F8F8F8\" height=\"10\" style=\"stroke: #F8F8F8; stroke-width: 1.5;\" width=\"82\" x=\"223\" y=\"498.9688\"/><rect fill=\"none\" height=\"91\" id=\"E9\" rx=\"10\" ry=\"10\" style=\"stroke: #383838; stroke-width: 1.5;\" width=\"82\" x=\"223\" y=\"485\"/><text fill=\"#000000\" font-family=\"sans-serif\" font-size=\"12\" lengthAdjust=\"spacingAndGlyphs\" textLength=\"19\" x=\"254.5\" y=\"501.1387\">f: F</text><line style=\"stroke: #383838; stroke-width: 1.0;\" x1=\"223\" x2=\"305\" y1=\"508.9688\" y2=\"508.9688\"/></a><!--MD5=[917b9dd0c7eca3ee5f47219d1a84c0ad]\n",
       "cluster E11--><a href=\"psysml:d620b19b-a1e2-497d-8cad-3b2dc38fedc0\" target=\"_top\" title=\"psysml:d620b19b-a1e2-497d-8cad-3b2dc38fedc0\" xlink:actuate=\"onRequest\" xlink:href=\"psysml:d620b19b-a1e2-497d-8cad-3b2dc38fedc0\" xlink:show=\"new\" xlink:title=\"psysml:d620b19b-a1e2-497d-8cad-3b2dc38fedc0\" xlink:type=\"simple\"><rect fill=\"#FFFFFF\" height=\"91\" id=\"E11\" rx=\"10\" ry=\"10\" style=\"stroke: #383838; stroke-width: 1.5;\" width=\"95\" x=\"64\" y=\"485\"/><rect fill=\"#F8F8F8\" height=\"23.9688\" rx=\"10\" ry=\"10\" style=\"stroke: #F8F8F8; stroke-width: 1.5;\" width=\"95\" x=\"64\" y=\"485\"/><rect fill=\"#F8F8F8\" height=\"10\" style=\"stroke: #F8F8F8; stroke-width: 1.5;\" width=\"95\" x=\"64\" y=\"498.9688\"/><rect fill=\"none\" height=\"91\" id=\"E11\" rx=\"10\" ry=\"10\" style=\"stroke: #383838; stroke-width: 1.5;\" width=\"95\" x=\"64\" y=\"485\"/><text fill=\"#000000\" font-family=\"sans-serif\" font-size=\"12\" lengthAdjust=\"spacingAndGlyphs\" textLength=\"24\" x=\"99.5\" y=\"501.1387\">a: A</text><line style=\"stroke: #383838; stroke-width: 1.0;\" x1=\"64\" x2=\"159\" y1=\"508.9688\" y2=\"508.9688\"/></a><g id=\"E1.E2.E3\"><a href=\"psysml:241a9b2a-e9cc-4b19-964a-2424b61c0639\" target=\"_top\" title=\"psysml:241a9b2a-e9cc-4b19-964a-2424b61c0639\" xlink:actuate=\"onRequest\" xlink:href=\"psysml:241a9b2a-e9cc-4b19-964a-2424b61c0639\" xlink:show=\"new\" xlink:title=\"psysml:241a9b2a-e9cc-4b19-964a-2424b61c0639\" xlink:type=\"simple\"><rect fill=\"#FFFFFF\" height=\"40\" id=\"E3\" rx=\"10\" ry=\"10\" style=\"stroke: #383838; stroke-width: 1.5;\" width=\"50\" x=\"86.5\" y=\"100\"/><rect fill=\"#F8F8F8\" height=\"23.9688\" rx=\"10\" ry=\"10\" style=\"stroke: #F8F8F8; stroke-width: 1.5;\" width=\"50\" x=\"86.5\" y=\"100\"/><rect fill=\"#F8F8F8\" height=\"10\" style=\"stroke: #F8F8F8; stroke-width: 1.5;\" width=\"50\" x=\"86.5\" y=\"113.9688\"/><rect fill=\"none\" height=\"40\" id=\"E3\" rx=\"10\" ry=\"10\" style=\"stroke: #383838; stroke-width: 1.5;\" width=\"50\" x=\"86.5\" y=\"100\"/><text fill=\"#000000\" font-family=\"sans-serif\" font-size=\"12\" lengthAdjust=\"spacingAndGlyphs\" textLength=\"8\" x=\"107.5\" y=\"116.1387\">a</text></a></g><g id=\"E1.E4.E5\"><a href=\"psysml:241a9b2a-e9cc-4b19-964a-2424b61c0639\" target=\"_top\" title=\"psysml:241a9b2a-e9cc-4b19-964a-2424b61c0639\" xlink:actuate=\"onRequest\" xlink:href=\"psysml:241a9b2a-e9cc-4b19-964a-2424b61c0639\" xlink:show=\"new\" xlink:title=\"psysml:241a9b2a-e9cc-4b19-964a-2424b61c0639\" xlink:type=\"simple\"><rect fill=\"#FFFFFF\" height=\"40\" id=\"E5\" rx=\"10\" ry=\"10\" style=\"stroke: #383838; stroke-width: 1.5;\" width=\"50\" x=\"86.5\" y=\"215\"/><rect fill=\"#F8F8F8\" height=\"23.9688\" rx=\"10\" ry=\"10\" style=\"stroke: #F8F8F8; stroke-width: 1.5;\" width=\"50\" x=\"86.5\" y=\"215\"/><rect fill=\"#F8F8F8\" height=\"10\" style=\"stroke: #F8F8F8; stroke-width: 1.5;\" width=\"50\" x=\"86.5\" y=\"228.9688\"/><rect fill=\"none\" height=\"40\" id=\"E5\" rx=\"10\" ry=\"10\" style=\"stroke: #383838; stroke-width: 1.5;\" width=\"50\" x=\"86.5\" y=\"215\"/><text fill=\"#000000\" font-family=\"sans-serif\" font-size=\"12\" lengthAdjust=\"spacingAndGlyphs\" textLength=\"18\" x=\"102.5\" y=\"231.1387\">^a</text></a></g><g id=\"E1.E6.E7\"><a href=\"psysml:31dec55f-8acf-4d42-bd51-f4047894820c\" target=\"_top\" title=\"psysml:31dec55f-8acf-4d42-bd51-f4047894820c\" xlink:actuate=\"onRequest\" xlink:href=\"psysml:31dec55f-8acf-4d42-bd51-f4047894820c\" xlink:show=\"new\" xlink:title=\"psysml:31dec55f-8acf-4d42-bd51-f4047894820c\" xlink:type=\"simple\"><rect fill=\"#FFFFFF\" height=\"40\" id=\"E7\" rx=\"10\" ry=\"10\" style=\"stroke: #383838; stroke-width: 1.5;\" width=\"53\" x=\"85\" y=\"346\"/><rect fill=\"#F8F8F8\" height=\"23.9688\" rx=\"10\" ry=\"10\" style=\"stroke: #F8F8F8; stroke-width: 1.5;\" width=\"53\" x=\"85\" y=\"346\"/><rect fill=\"#F8F8F8\" height=\"10\" style=\"stroke: #F8F8F8; stroke-width: 1.5;\" width=\"53\" x=\"85\" y=\"359.9688\"/><rect fill=\"none\" height=\"40\" id=\"E7\" rx=\"10\" ry=\"10\" style=\"stroke: #383838; stroke-width: 1.5;\" width=\"53\" x=\"85\" y=\"346\"/><text fill=\"#000000\" font-family=\"sans-serif\" font-size=\"12\" lengthAdjust=\"spacingAndGlyphs\" textLength=\"38\" x=\"90.5\" y=\"362.1387\">g=f.a;</text></a></g><g id=\"E1.E8.E9.E10\"><a href=\"psysml:241a9b2a-e9cc-4b19-964a-2424b61c0639\" target=\"_top\" title=\"psysml:241a9b2a-e9cc-4b19-964a-2424b61c0639\" xlink:actuate=\"onRequest\" xlink:href=\"psysml:241a9b2a-e9cc-4b19-964a-2424b61c0639\" xlink:show=\"new\" xlink:title=\"psysml:241a9b2a-e9cc-4b19-964a-2424b61c0639\" xlink:type=\"simple\"><rect fill=\"#FFFFFF\" height=\"40\" id=\"E10\" rx=\"10\" ry=\"10\" style=\"stroke: #383838; stroke-width: 1.5;\" width=\"50\" x=\"239\" y=\"520\"/><rect fill=\"#F8F8F8\" height=\"23.9688\" rx=\"10\" ry=\"10\" style=\"stroke: #F8F8F8; stroke-width: 1.5;\" width=\"50\" x=\"239\" y=\"520\"/><rect fill=\"#F8F8F8\" height=\"10\" style=\"stroke: #F8F8F8; stroke-width: 1.5;\" width=\"50\" x=\"239\" y=\"533.9688\"/><rect fill=\"none\" height=\"40\" id=\"E10\" rx=\"10\" ry=\"10\" style=\"stroke: #383838; stroke-width: 1.5;\" width=\"50\" x=\"239\" y=\"520\"/><text fill=\"#000000\" font-family=\"sans-serif\" font-size=\"12\" lengthAdjust=\"spacingAndGlyphs\" textLength=\"18\" x=\"255\" y=\"536.1387\">^a</text></a></g><g id=\"E1.E8.E11.E12\"><a href=\"psysml:31dec55f-8acf-4d42-bd51-f4047894820c\" target=\"_top\" title=\"psysml:31dec55f-8acf-4d42-bd51-f4047894820c\" xlink:actuate=\"onRequest\" xlink:href=\"psysml:31dec55f-8acf-4d42-bd51-f4047894820c\" xlink:show=\"new\" xlink:title=\"psysml:31dec55f-8acf-4d42-bd51-f4047894820c\" xlink:type=\"simple\"><rect fill=\"#FFFFFF\" height=\"40\" id=\"E12\" rx=\"10\" ry=\"10\" style=\"stroke: #383838; stroke-width: 1.5;\" width=\"63\" x=\"80\" y=\"520\"/><rect fill=\"#F8F8F8\" height=\"23.9688\" rx=\"10\" ry=\"10\" style=\"stroke: #F8F8F8; stroke-width: 1.5;\" width=\"63\" x=\"80\" y=\"520\"/><rect fill=\"#F8F8F8\" height=\"10\" style=\"stroke: #F8F8F8; stroke-width: 1.5;\" width=\"63\" x=\"80\" y=\"533.9688\"/><rect fill=\"none\" height=\"40\" id=\"E12\" rx=\"10\" ry=\"10\" style=\"stroke: #383838; stroke-width: 1.5;\" width=\"63\" x=\"80\" y=\"520\"/><text fill=\"#000000\" font-family=\"sans-serif\" font-size=\"12\" lengthAdjust=\"spacingAndGlyphs\" textLength=\"48\" x=\"85.5\" y=\"536.1387\">^g=f.a;</text></a></g><g id=\"E1.E13\"><a href=\"psysml:f9a1a989-561d-4119-971e-8ebceafa94b4\" target=\"_top\" title=\"psysml:f9a1a989-561d-4119-971e-8ebceafa94b4\" xlink:actuate=\"onRequest\" xlink:href=\"psysml:f9a1a989-561d-4119-971e-8ebceafa94b4\" xlink:show=\"new\" xlink:title=\"psysml:f9a1a989-561d-4119-971e-8ebceafa94b4\" xlink:type=\"simple\"><rect fill=\"#FFFFFF\" height=\"40\" id=\"E13\" rx=\"10\" ry=\"10\" style=\"stroke: #383838; stroke-width: 1.5;\" width=\"50\" x=\"86.5\" y=\"616\"/><rect fill=\"#F8F8F8\" height=\"23.9688\" rx=\"10\" ry=\"10\" style=\"stroke: #F8F8F8; stroke-width: 1.5;\" width=\"50\" x=\"86.5\" y=\"616\"/><rect fill=\"#F8F8F8\" height=\"10\" style=\"stroke: #F8F8F8; stroke-width: 1.5;\" width=\"50\" x=\"86.5\" y=\"629.9688\"/><rect fill=\"none\" height=\"40\" id=\"E13\" rx=\"10\" ry=\"10\" style=\"stroke: #383838; stroke-width: 1.5;\" width=\"50\" x=\"86.5\" y=\"616\"/><text fill=\"#000000\" font-family=\"sans-serif\" font-size=\"12\" lengthAdjust=\"spacingAndGlyphs\" textLength=\"24\" x=\"99.5\" y=\"632.1387\">b: B</text></a></g><!--MD5=[65481eef76a7486101c58ded21a552db]\n",
       "link E12 to E10--><a href=\"psysml:d897c185-bd23-4685-b4dd-90f768e45c35\" target=\"_top\" title=\"psysml:d897c185-bd23-4685-b4dd-90f768e45c35\" xlink:actuate=\"onRequest\" xlink:href=\"psysml:d897c185-bd23-4685-b4dd-90f768e45c35\" xlink:show=\"new\" xlink:title=\"psysml:d897c185-bd23-4685-b4dd-90f768e45c35\" xlink:type=\"simple\"><path d=\"M143.32,550.52 C171.53,553.75 212.71,553.47 238.67,549.68 \" fill=\"none\" id=\"E12-E10\" style=\"stroke: #383838; stroke-width: 3.0;\"/></a><!--MD5=[65481eef76a7486101c58ded21a552db]\n",
       "link E12 to E10--><a href=\"psysml:a65e9cd3-f7a6-42d1-a2aa-d32628740aff\" target=\"_top\" title=\"psysml:a65e9cd3-f7a6-42d1-a2aa-d32628740aff\" xlink:actuate=\"onRequest\" xlink:href=\"psysml:a65e9cd3-f7a6-42d1-a2aa-d32628740aff\" xlink:show=\"new\" xlink:title=\"psysml:a65e9cd3-f7a6-42d1-a2aa-d32628740aff\" xlink:type=\"simple\"><path d=\"M143.32,528.86 C171.53,525.44 212.71,525.74 238.67,529.75 \" fill=\"none\" id=\"E12-E10-1\" style=\"stroke: #383838; stroke-width: 5.0;\"/></a><!--MD5=[dfa84487009f772ed5ed5b3e6ded96ed]\n",
       "@startuml\r\n",
       "skinparam ranksep 10\r\n",
       "skinparam rectangle {\r\n",
       " backgroundColor<<block>> LightGreen\r\n",
       "}\r\n",
       "left to right direction\r\n",
       "skinparam monochrome true\r\n",
       "skinparam classbackgroundcolor white\r\n",
       "skinparam shadowing false\r\n",
       "skinparam wrapWidth 300\r\n",
       "hide circle\r\n",
       "\r\n",
       "package \"Q\" as E1  [[psysml:427a19be-4ba6-433c-b392-6823bf74d458 ]]  {\r\n",
       "rec def \"F\" as E2  <<(T,blue) part def>> [[psysml:027effde-34e9-4491-ba0c-9f82cacaad23 ]] {\r\n",
       "rec usage \"a\" as E3  [[psysml:241a9b2a-e9cc-4b19-964a-2424b61c0639 ]] {\r\n",
       "}\r\n",
       "}\r\n",
       "rec usage \"f: F\" as E4  [[psysml:40835df5-3f1f-4886-9446-1465d21ad736 ]] {\r\n",
       "rec usage \"^a\" as E5  [[psysml:241a9b2a-e9cc-4b19-964a-2424b61c0639 ]] {\r\n",
       "}\r\n",
       "}\r\n",
       "rec def \"A\" as E6  <<(T,blue) part def>> [[psysml:299c2c32-5ec1-43b2-a066-b7748b01150c ]] {\r\n",
       "rec usage \"g=f.a; \" as E7  [[psysml:31dec55f-8acf-4d42-bd51-f4047894820c ]] {\r\n",
       "}\r\n",
       "}\r\n",
       "rec def \"B\" as E8  <<(T,blue) part def>> [[psysml:e57a8ff4-b454-49af-9671-50f81189572a ]] {\r\n",
       "rec usage \"f: F\" as E9  [[psysml:ae9b8861-e9cc-45e7-97b3-375fd90ac7d9 ]] {\r\n",
       "rec usage \"^a\" as E10  [[psysml:241a9b2a-e9cc-4b19-964a-2424b61c0639 ]] {\r\n",
       "}\r\n",
       "}\r\n",
       "rec usage \"a: A\" as E11  [[psysml:d620b19b-a1e2-497d-8cad-3b2dc38fedc0 ]] {\r\n",
       "rec usage \"^g=f.a; \" as E12  [[psysml:31dec55f-8acf-4d42-bd51-f4047894820c ]] {\r\n",
       "}\r\n",
       "}\r\n",
       "}\r\n",
       "rec usage \"b: B\" as E13  [[psysml:f9a1a989-561d-4119-971e-8ebceafa94b4 ]] {\r\n",
       "}\r\n",
       "E12 -[thickness=3]- E10 [[psysml:d897c185-bd23-4685-b4dd-90f768e45c35 ]] \r\n",
       "E12 -[thickness=5]- E10 [[psysml:a65e9cd3-f7a6-42d1-a2aa-d32628740aff ]] \r\n",
       "}\r\n",
       "@enduml\r\n",
       "\n",
       "PlantUML version 1.2020.13(Sat Jun 13 12:26:38 UTC 2020)\n",
       "(EPL source distribution)\n",
       "Java Runtime: OpenJDK Runtime Environment\n",
       "JVM: OpenJDK 64-Bit Server VM\n",
       "Default Encoding: UTF-8\n",
       "Language: en\n",
       "Country: null\n",
       "--></g></svg>"
      ]
     },
     "execution_count": 19,
     "metadata": {},
     "output_type": "execute_result"
    }
   ],
   "source": [
    "%viz --style=\"LR\" --view=\"Interconnection\" \"Q\""
   ]
  },
  {
   "cell_type": "code",
   "execution_count": 20,
   "id": "ccc2eb2a",
   "metadata": {
    "execution": {
     "iopub.execute_input": "2021-06-30T09:23:32.359435Z",
     "iopub.status.busy": "2021-06-30T09:23:32.358439Z",
     "iopub.status.idle": "2021-06-30T09:23:32.370876Z",
     "shell.execute_reply": "2021-06-30T09:23:32.370304Z"
    }
   },
   "outputs": [
    {
     "data": {
      "image/svg+xml": [
       "<?xml version=\"1.0\" encoding=\"UTF-8\" standalone=\"no\"?><svg xmlns=\"http://www.w3.org/2000/svg\" xmlns:xlink=\"http://www.w3.org/1999/xlink\" contentScriptType=\"application/ecmascript\" contentStyleType=\"text/css\" height=\"12px\" preserveAspectRatio=\"none\" style=\"width:12px;height:12px;\" version=\"1.1\" viewBox=\"0 0 12 12\" width=\"12px\" zoomAndPan=\"magnify\"><defs/><g><!--MD5=[7aeb398939421629f6affaa4a1a7b125]\n",
       "@startuml\r\n",
       "skinparam ranksep 8\r\n",
       "left to right direction\r\n",
       "skinparam monochrome true\r\n",
       "skinparam classbackgroundcolor white\r\n",
       "skinparam shadowing false\r\n",
       "skinparam wrapWidth 300\r\n",
       "hide circle\r\n",
       "\r\n",
       "@enduml\r\n",
       "\n",
       "PlantUML version 1.2020.13(Sat Jun 13 12:26:38 UTC 2020)\n",
       "(EPL source distribution)\n",
       "Java Runtime: OpenJDK Runtime Environment\n",
       "JVM: OpenJDK 64-Bit Server VM\n",
       "Default Encoding: UTF-8\n",
       "Language: en\n",
       "Country: null\n",
       "--></g></svg>"
      ]
     },
     "execution_count": 20,
     "metadata": {},
     "output_type": "execute_result"
    }
   ],
   "source": [
    "%viz --style=\"LR\" --view=\"Action\" \"Q\""
   ]
  },
  {
   "cell_type": "code",
   "execution_count": 21,
   "id": "d2f16669",
   "metadata": {
    "execution": {
     "iopub.execute_input": "2021-06-30T09:23:32.425508Z",
     "iopub.status.busy": "2021-06-30T09:23:32.424611Z",
     "iopub.status.idle": "2021-06-30T09:23:32.516120Z",
     "shell.execute_reply": "2021-06-30T09:23:32.516991Z"
    }
   },
   "outputs": [
    {
     "data": {
      "image/svg+xml": [
       "<?xml version=\"1.0\" encoding=\"UTF-8\" standalone=\"no\"?><svg xmlns=\"http://www.w3.org/2000/svg\" xmlns:xlink=\"http://www.w3.org/1999/xlink\" contentScriptType=\"application/ecmascript\" contentStyleType=\"text/css\" height=\"277px\" preserveAspectRatio=\"none\" style=\"width:568px;height:277px;\" version=\"1.1\" viewBox=\"0 0 568 277\" width=\"568px\" zoomAndPan=\"magnify\"><defs/><g><!--MD5=[fbc87193dbaf4d95561dea2c320d4a47]\n",
       "cluster E1--><a href=\"psysml:427a19be-4ba6-433c-b392-6823bf74d458\" target=\"_top\" title=\"psysml:427a19be-4ba6-433c-b392-6823bf74d458\" xlink:actuate=\"onRequest\" xlink:href=\"psysml:427a19be-4ba6-433c-b392-6823bf74d458\" xlink:show=\"new\" xlink:title=\"psysml:427a19be-4ba6-433c-b392-6823bf74d458\" xlink:type=\"simple\"><polygon fill=\"#FFFFFF\" points=\"16,6,34,6,41,28.2969,546,28.2969,546,265,16,265,16,6\" style=\"stroke: #000000; stroke-width: 1.5;\"/><line style=\"stroke: #000000; stroke-width: 1.5;\" x1=\"16\" x2=\"41\" y1=\"28.2969\" y2=\"28.2969\"/><text fill=\"#000000\" font-family=\"sans-serif\" font-size=\"14\" font-weight=\"bold\" lengthAdjust=\"spacingAndGlyphs\" textLength=\"12\" x=\"20\" y=\"20.9951\">Q</text></a><!--MD5=[b4997ac47864f28c2f74865a473b2911]\n",
       "class E2--><a href=\"psysml:027effde-34e9-4491-ba0c-9f82cacaad23\" target=\"_top\" title=\"psysml:027effde-34e9-4491-ba0c-9f82cacaad23\" xlink:actuate=\"onRequest\" xlink:href=\"psysml:027effde-34e9-4491-ba0c-9f82cacaad23\" xlink:show=\"new\" xlink:title=\"psysml:027effde-34e9-4491-ba0c-9f82cacaad23\" xlink:type=\"simple\"><rect fill=\"#FFFFFF\" height=\"45.9375\" id=\"E2\" style=\"stroke: #383838; stroke-width: 1.5;\" width=\"66\" x=\"362\" y=\"122\"/><text fill=\"#000000\" font-family=\"sans-serif\" font-size=\"12\" font-style=\"italic\" lengthAdjust=\"spacingAndGlyphs\" textLength=\"64\" x=\"363\" y=\"138.1387\">«part def»</text><text fill=\"#000000\" font-family=\"sans-serif\" font-size=\"12\" lengthAdjust=\"spacingAndGlyphs\" textLength=\"7\" x=\"391.5\" y=\"152.1074\">F</text><line style=\"stroke: #383838; stroke-width: 1.5;\" x1=\"363\" x2=\"427\" y1=\"159.9375\" y2=\"159.9375\"/></a><!--MD5=[09b614a08d8cba4a07c9adeb5e0fee81]\n",
       "class E3--><a href=\"psysml:241a9b2a-e9cc-4b19-964a-2424b61c0639\" target=\"_top\" title=\"psysml:241a9b2a-e9cc-4b19-964a-2424b61c0639\" xlink:actuate=\"onRequest\" xlink:href=\"psysml:241a9b2a-e9cc-4b19-964a-2424b61c0639\" xlink:show=\"new\" xlink:title=\"psysml:241a9b2a-e9cc-4b19-964a-2424b61c0639\" xlink:type=\"simple\"><rect fill=\"#FFFFFF\" height=\"45.9375\" id=\"E3\" rx=\"10\" ry=\"10\" style=\"stroke: #383838; stroke-width: 1.5;\" width=\"42\" x=\"488\" y=\"122\"/><text fill=\"#000000\" font-family=\"sans-serif\" font-size=\"12\" font-style=\"italic\" lengthAdjust=\"spacingAndGlyphs\" textLength=\"40\" x=\"489\" y=\"138.1387\">«part»</text><text fill=\"#000000\" font-family=\"sans-serif\" font-size=\"12\" lengthAdjust=\"spacingAndGlyphs\" textLength=\"8\" x=\"505\" y=\"152.1074\">a</text><line style=\"stroke: #383838; stroke-width: 1.5;\" x1=\"489\" x2=\"529\" y1=\"159.9375\" y2=\"159.9375\"/></a><!--MD5=[ebbe1d658d1005bcc118a6aa81145e00]\n",
       "class E4--><a href=\"psysml:40835df5-3f1f-4886-9446-1465d21ad736\" target=\"_top\" title=\"psysml:40835df5-3f1f-4886-9446-1465d21ad736\" xlink:actuate=\"onRequest\" xlink:href=\"psysml:40835df5-3f1f-4886-9446-1465d21ad736\" xlink:show=\"new\" xlink:title=\"psysml:40835df5-3f1f-4886-9446-1465d21ad736\" xlink:type=\"simple\"><rect fill=\"#FFFFFF\" height=\"45.9375\" id=\"E4\" rx=\"10\" ry=\"10\" style=\"stroke: #383838; stroke-width: 1.5;\" width=\"42\" x=\"260\" y=\"41\"/><text fill=\"#000000\" font-family=\"sans-serif\" font-size=\"12\" font-style=\"italic\" lengthAdjust=\"spacingAndGlyphs\" textLength=\"40\" x=\"261\" y=\"57.1387\">«part»</text><text fill=\"#000000\" font-family=\"sans-serif\" font-size=\"12\" lengthAdjust=\"spacingAndGlyphs\" textLength=\"19\" x=\"271.5\" y=\"71.1074\">f: F</text><line style=\"stroke: #383838; stroke-width: 1.5;\" x1=\"261\" x2=\"301\" y1=\"78.9375\" y2=\"78.9375\"/></a><!--MD5=[270fce915f116d4de14055a7c1d9a0f3]\n",
       "class E5--><a href=\"psysml:299c2c32-5ec1-43b2-a066-b7748b01150c\" target=\"_top\" title=\"psysml:299c2c32-5ec1-43b2-a066-b7748b01150c\" xlink:actuate=\"onRequest\" xlink:href=\"psysml:299c2c32-5ec1-43b2-a066-b7748b01150c\" xlink:show=\"new\" xlink:title=\"psysml:299c2c32-5ec1-43b2-a066-b7748b01150c\" xlink:type=\"simple\"><rect fill=\"#FFFFFF\" height=\"45.9375\" id=\"E5\" style=\"stroke: #383838; stroke-width: 1.5;\" width=\"66\" x=\"362\" y=\"203\"/><text fill=\"#000000\" font-family=\"sans-serif\" font-size=\"12\" font-style=\"italic\" lengthAdjust=\"spacingAndGlyphs\" textLength=\"64\" x=\"363\" y=\"219.1387\">«part def»</text><text fill=\"#000000\" font-family=\"sans-serif\" font-size=\"12\" lengthAdjust=\"spacingAndGlyphs\" textLength=\"8\" x=\"391\" y=\"233.1074\">A</text><line style=\"stroke: #383838; stroke-width: 1.5;\" x1=\"363\" x2=\"427\" y1=\"240.9375\" y2=\"240.9375\"/></a><!--MD5=[60a26617385b1d2d0262a64233df1f8d]\n",
       "class E6--><a href=\"psysml:31dec55f-8acf-4d42-bd51-f4047894820c\" target=\"_top\" title=\"psysml:31dec55f-8acf-4d42-bd51-f4047894820c\" xlink:actuate=\"onRequest\" xlink:href=\"psysml:31dec55f-8acf-4d42-bd51-f4047894820c\" xlink:show=\"new\" xlink:title=\"psysml:31dec55f-8acf-4d42-bd51-f4047894820c\" xlink:type=\"simple\"><rect fill=\"#FFFFFF\" height=\"45.9375\" id=\"E6\" rx=\"10\" ry=\"10\" style=\"stroke: #383838; stroke-width: 1.5;\" width=\"42\" x=\"488\" y=\"203\"/><text fill=\"#000000\" font-family=\"sans-serif\" font-size=\"12\" font-style=\"italic\" lengthAdjust=\"spacingAndGlyphs\" textLength=\"40\" x=\"489\" y=\"219.1387\">«part»</text><text fill=\"#000000\" font-family=\"sans-serif\" font-size=\"12\" lengthAdjust=\"spacingAndGlyphs\" textLength=\"8\" x=\"505\" y=\"233.1074\">g</text><line style=\"stroke: #383838; stroke-width: 1.5;\" x1=\"489\" x2=\"529\" y1=\"240.9375\" y2=\"240.9375\"/></a><!--MD5=[2156ba9850f5573cc1fc38a6a4b2f02b]\n",
       "class E7--><a href=\"psysml:e57a8ff4-b454-49af-9671-50f81189572a\" target=\"_top\" title=\"psysml:e57a8ff4-b454-49af-9671-50f81189572a\" xlink:actuate=\"onRequest\" xlink:href=\"psysml:e57a8ff4-b454-49af-9671-50f81189572a\" xlink:show=\"new\" xlink:title=\"psysml:e57a8ff4-b454-49af-9671-50f81189572a\" xlink:type=\"simple\"><rect fill=\"#FFFFFF\" height=\"45.9375\" id=\"E7\" style=\"stroke: #383838; stroke-width: 1.5;\" width=\"66\" x=\"134\" y=\"163\"/><text fill=\"#000000\" font-family=\"sans-serif\" font-size=\"12\" font-style=\"italic\" lengthAdjust=\"spacingAndGlyphs\" textLength=\"64\" x=\"135\" y=\"179.1387\">«part def»</text><text fill=\"#000000\" font-family=\"sans-serif\" font-size=\"12\" lengthAdjust=\"spacingAndGlyphs\" textLength=\"8\" x=\"163\" y=\"193.1074\">B</text><line style=\"stroke: #383838; stroke-width: 1.5;\" x1=\"135\" x2=\"199\" y1=\"200.9375\" y2=\"200.9375\"/></a><!--MD5=[b9389687b975829384b498ac4b7476b2]\n",
       "class E8--><a href=\"psysml:ae9b8861-e9cc-45e7-97b3-375fd90ac7d9\" target=\"_top\" title=\"psysml:ae9b8861-e9cc-45e7-97b3-375fd90ac7d9\" xlink:actuate=\"onRequest\" xlink:href=\"psysml:ae9b8861-e9cc-45e7-97b3-375fd90ac7d9\" xlink:show=\"new\" xlink:title=\"psysml:ae9b8861-e9cc-45e7-97b3-375fd90ac7d9\" xlink:type=\"simple\"><rect fill=\"#FFFFFF\" height=\"45.9375\" id=\"E8\" rx=\"10\" ry=\"10\" style=\"stroke: #383838; stroke-width: 1.5;\" width=\"42\" x=\"260\" y=\"122\"/><text fill=\"#000000\" font-family=\"sans-serif\" font-size=\"12\" font-style=\"italic\" lengthAdjust=\"spacingAndGlyphs\" textLength=\"40\" x=\"261\" y=\"138.1387\">«part»</text><text fill=\"#000000\" font-family=\"sans-serif\" font-size=\"12\" lengthAdjust=\"spacingAndGlyphs\" textLength=\"19\" x=\"271.5\" y=\"152.1074\">f: F</text><line style=\"stroke: #383838; stroke-width: 1.5;\" x1=\"261\" x2=\"301\" y1=\"159.9375\" y2=\"159.9375\"/></a><!--MD5=[fd4143e9d270a159db93a4ea2a975926]\n",
       "class E9--><a href=\"psysml:d620b19b-a1e2-497d-8cad-3b2dc38fedc0\" target=\"_top\" title=\"psysml:d620b19b-a1e2-497d-8cad-3b2dc38fedc0\" xlink:actuate=\"onRequest\" xlink:href=\"psysml:d620b19b-a1e2-497d-8cad-3b2dc38fedc0\" xlink:show=\"new\" xlink:title=\"psysml:d620b19b-a1e2-497d-8cad-3b2dc38fedc0\" xlink:type=\"simple\"><rect fill=\"#FFFFFF\" height=\"45.9375\" id=\"E9\" rx=\"10\" ry=\"10\" style=\"stroke: #383838; stroke-width: 1.5;\" width=\"42\" x=\"260\" y=\"203\"/><text fill=\"#000000\" font-family=\"sans-serif\" font-size=\"12\" font-style=\"italic\" lengthAdjust=\"spacingAndGlyphs\" textLength=\"40\" x=\"261\" y=\"219.1387\">«part»</text><text fill=\"#000000\" font-family=\"sans-serif\" font-size=\"12\" lengthAdjust=\"spacingAndGlyphs\" textLength=\"24\" x=\"269\" y=\"233.1074\">a: A</text><line style=\"stroke: #383838; stroke-width: 1.5;\" x1=\"261\" x2=\"301\" y1=\"240.9375\" y2=\"240.9375\"/></a><!--MD5=[96f4274e9e20536e775497830990834d]\n",
       "class E10--><a href=\"psysml:f9a1a989-561d-4119-971e-8ebceafa94b4\" target=\"_top\" title=\"psysml:f9a1a989-561d-4119-971e-8ebceafa94b4\" xlink:actuate=\"onRequest\" xlink:href=\"psysml:f9a1a989-561d-4119-971e-8ebceafa94b4\" xlink:show=\"new\" xlink:title=\"psysml:f9a1a989-561d-4119-971e-8ebceafa94b4\" xlink:type=\"simple\"><rect fill=\"#FFFFFF\" height=\"45.9375\" id=\"E10\" rx=\"10\" ry=\"10\" style=\"stroke: #383838; stroke-width: 1.5;\" width=\"42\" x=\"32\" y=\"163\"/><text fill=\"#000000\" font-family=\"sans-serif\" font-size=\"12\" font-style=\"italic\" lengthAdjust=\"spacingAndGlyphs\" textLength=\"40\" x=\"33\" y=\"179.1387\">«part»</text><text fill=\"#000000\" font-family=\"sans-serif\" font-size=\"12\" lengthAdjust=\"spacingAndGlyphs\" textLength=\"24\" x=\"41\" y=\"193.1074\">b: B</text><line style=\"stroke: #383838; stroke-width: 1.5;\" x1=\"33\" x2=\"73\" y1=\"200.9375\" y2=\"200.9375\"/></a><!--MD5=[209b3feb70ccb6233bfe1053d122c12c]\n",
       "reverse link E2 to E3--><a href=\"psysml:5ee10b2b-55c1-4a08-a13b-bdb74e3f50e5\" target=\"_top\" title=\"psysml:5ee10b2b-55c1-4a08-a13b-bdb74e3f50e5\" xlink:actuate=\"onRequest\" xlink:href=\"psysml:5ee10b2b-55c1-4a08-a13b-bdb74e3f50e5\" xlink:show=\"new\" xlink:title=\"psysml:5ee10b2b-55c1-4a08-a13b-bdb74e3f50e5\" xlink:type=\"simple\"><path d=\"M441.28,145 C457.47,145 474.9,145 487.89,145 \" fill=\"none\" id=\"E2&lt;-E3\" style=\"stroke: #383838; stroke-width: 1.0;\"/><polygon fill=\"#383838\" points=\"428.09,145,434.09,149,440.09,145,434.09,141,428.09,145\" style=\"stroke: #383838; stroke-width: 1.0;\"/></a><!--MD5=[185131fc0dcab0a4505a2ebe144e961b]\n",
       "link E4 to E2--><a href=\"psysml:c4c1c0e2-eca3-4dc3-a203-c30912c3ab2b\" target=\"_top\" title=\"psysml:c4c1c0e2-eca3-4dc3-a203-c30912c3ab2b\" xlink:actuate=\"onRequest\" xlink:href=\"psysml:c4c1c0e2-eca3-4dc3-a203-c30912c3ab2b\" xlink:show=\"new\" xlink:title=\"psysml:c4c1c0e2-eca3-4dc3-a203-c30912c3ab2b\" xlink:type=\"simple\"><path d=\"M302.02,78.48 C314.09,87.21 330.03,98.73 345.24,109.73 \" fill=\"none\" id=\"E4-&gt;E2\" style=\"stroke: #383838; stroke-width: 1.0;\"/><polygon fill=\"#FFFFFF\" points=\"361.86,121.75,342.3595,116.2973,350.5582,104.9491,361.86,121.75\" style=\"stroke: #383838; stroke-width: 1.0;\"/><ellipse cx=\"338.9104\" cy=\"111.3381\" fill=\"#383838\" rx=\"2\" ry=\"2\" style=\"stroke: #383838; stroke-width: 1.0;\"/><ellipse cx=\"344.7667\" cy=\"103.2322\" fill=\"#383838\" rx=\"2\" ry=\"2\" style=\"stroke: #383838; stroke-width: 1.0;\"/></a><!--MD5=[85d356282659285ab4b2cfe2f634dd2b]\n",
       "reverse link E5 to E6--><a href=\"psysml:93463b7d-149f-4a15-b84b-177a9e530eda\" target=\"_top\" title=\"psysml:93463b7d-149f-4a15-b84b-177a9e530eda\" xlink:actuate=\"onRequest\" xlink:href=\"psysml:93463b7d-149f-4a15-b84b-177a9e530eda\" xlink:show=\"new\" xlink:title=\"psysml:93463b7d-149f-4a15-b84b-177a9e530eda\" xlink:type=\"simple\"><path d=\"M441.28,226 C457.47,226 474.9,226 487.89,226 \" fill=\"none\" id=\"E5&lt;-E6\" style=\"stroke: #383838; stroke-width: 1.0;\"/><polygon fill=\"#383838\" points=\"428.09,226,434.09,230,440.09,226,434.09,222,428.09,226\" style=\"stroke: #383838; stroke-width: 1.0;\"/></a><!--MD5=[dc164f5e8a733ab456ef1add180e9e34]\n",
       "reverse link E7 to E8--><a href=\"psysml:de6f8f38-3125-456b-a954-15a696931b63\" target=\"_top\" title=\"psysml:de6f8f38-3125-456b-a954-15a696931b63\" xlink:actuate=\"onRequest\" xlink:href=\"psysml:de6f8f38-3125-456b-a954-15a696931b63\" xlink:show=\"new\" xlink:title=\"psysml:de6f8f38-3125-456b-a954-15a696931b63\" xlink:type=\"simple\"><path d=\"M212.31,169.78 C228.77,163.75 246.64,157.21 259.89,152.36 \" fill=\"none\" id=\"E7&lt;-E8\" style=\"stroke: #383838; stroke-width: 1.0;\"/><polygon fill=\"#383838\" points=\"200.09,174.25,207.1,175.9409,211.3571,170.1205,204.347,168.4296,200.09,174.25\" style=\"stroke: #383838; stroke-width: 1.0;\"/></a><!--MD5=[f1f3f9f2fc535e6147756cb86a7f2e32]\n",
       "link E8 to E2--><a href=\"psysml:536a95df-7241-4403-bcab-1aa9fe7a4b7d\" target=\"_top\" title=\"psysml:536a95df-7241-4403-bcab-1aa9fe7a4b7d\" xlink:actuate=\"onRequest\" xlink:href=\"psysml:536a95df-7241-4403-bcab-1aa9fe7a4b7d\" xlink:show=\"new\" xlink:title=\"psysml:536a95df-7241-4403-bcab-1aa9fe7a4b7d\" xlink:type=\"simple\"><path d=\"M302.02,145 C313.18,145 327.65,145 341.79,145 \" fill=\"none\" id=\"E8-&gt;E2\" style=\"stroke: #383838; stroke-width: 1.0;\"/><polygon fill=\"#FFFFFF\" points=\"361.86,145,342.86,152,342.86,138,361.86,145\" style=\"stroke: #383838; stroke-width: 1.0;\"/><ellipse cx=\"337.16\" cy=\"150\" fill=\"#383838\" rx=\"2\" ry=\"2\" style=\"stroke: #383838; stroke-width: 1.0;\"/><ellipse cx=\"337.16\" cy=\"140\" fill=\"#383838\" rx=\"2\" ry=\"2\" style=\"stroke: #383838; stroke-width: 1.0;\"/></a><!--MD5=[e4a10ef82d0e328e31cac39a31e58dda]\n",
       "reverse link E7 to E9--><a href=\"psysml:2c441a1b-e979-4985-bcd5-61f8c13172d0\" target=\"_top\" title=\"psysml:2c441a1b-e979-4985-bcd5-61f8c13172d0\" xlink:actuate=\"onRequest\" xlink:href=\"psysml:2c441a1b-e979-4985-bcd5-61f8c13172d0\" xlink:show=\"new\" xlink:title=\"psysml:2c441a1b-e979-4985-bcd5-61f8c13172d0\" xlink:type=\"simple\"><path d=\"M212.79,202 C229.12,207.83 246.77,214.13 259.89,218.82 \" fill=\"none\" id=\"E7&lt;-E9\" style=\"stroke: #383838; stroke-width: 1.0;\"/><polygon fill=\"#383838\" points=\"200.09,197.46,204.3955,203.2447,211.3912,201.4952,207.0857,195.7105,200.09,197.46\" style=\"stroke: #383838; stroke-width: 1.0;\"/></a><!--MD5=[bfc3ddf2e613be37104f658f09af896c]\n",
       "link E9 to E5--><a href=\"psysml:fc8a5d52-f7b0-45e1-9a4f-1e932b65f071\" target=\"_top\" title=\"psysml:fc8a5d52-f7b0-45e1-9a4f-1e932b65f071\" xlink:actuate=\"onRequest\" xlink:href=\"psysml:fc8a5d52-f7b0-45e1-9a4f-1e932b65f071\" xlink:show=\"new\" xlink:title=\"psysml:fc8a5d52-f7b0-45e1-9a4f-1e932b65f071\" xlink:type=\"simple\"><path d=\"M302.02,226 C313.18,226 327.65,226 341.79,226 \" fill=\"none\" id=\"E9-&gt;E5\" style=\"stroke: #383838; stroke-width: 1.0;\"/><polygon fill=\"#FFFFFF\" points=\"361.86,226,342.86,233,342.86,219,361.86,226\" style=\"stroke: #383838; stroke-width: 1.0;\"/><ellipse cx=\"337.16\" cy=\"231\" fill=\"#383838\" rx=\"2\" ry=\"2\" style=\"stroke: #383838; stroke-width: 1.0;\"/><ellipse cx=\"337.16\" cy=\"221\" fill=\"#383838\" rx=\"2\" ry=\"2\" style=\"stroke: #383838; stroke-width: 1.0;\"/></a><!--MD5=[a919e0967d6f3de553dc51b9865a1d6d]\n",
       "link E10 to E7--><a href=\"psysml:2e3833d6-0a03-41e5-9593-325ba84dff2e\" target=\"_top\" title=\"psysml:2e3833d6-0a03-41e5-9593-325ba84dff2e\" xlink:actuate=\"onRequest\" xlink:href=\"psysml:2e3833d6-0a03-41e5-9593-325ba84dff2e\" xlink:show=\"new\" xlink:title=\"psysml:2e3833d6-0a03-41e5-9593-325ba84dff2e\" xlink:type=\"simple\"><path d=\"M74.02,186 C85.18,186 99.65,186 113.79,186 \" fill=\"none\" id=\"E10-&gt;E7\" style=\"stroke: #383838; stroke-width: 1.0;\"/><polygon fill=\"#FFFFFF\" points=\"133.86,186,114.86,193,114.86,179,133.86,186\" style=\"stroke: #383838; stroke-width: 1.0;\"/><ellipse cx=\"109.16\" cy=\"191\" fill=\"#383838\" rx=\"2\" ry=\"2\" style=\"stroke: #383838; stroke-width: 1.0;\"/><ellipse cx=\"109.16\" cy=\"181\" fill=\"#383838\" rx=\"2\" ry=\"2\" style=\"stroke: #383838; stroke-width: 1.0;\"/></a><!--MD5=[c2d0cca95efaca978c8fdce58033e952]\n",
       "@startuml\r\n",
       "left to right direction\r\n",
       "skinparam monochrome true\r\n",
       "skinparam classbackgroundcolor white\r\n",
       "skinparam shadowing false\r\n",
       "skinparam wrapWidth 300\r\n",
       "hide circle\r\n",
       "\r\n",
       "package \"Q\" as E1  [[psysml:427a19be-4ba6-433c-b392-6823bf74d458 ]]  {\r\n",
       "comp def \"F\" as E2  <<(T,blue) part def>> [[psysml:027effde-34e9-4491-ba0c-9f82cacaad23 ]] {\r\n",
       "}\r\n",
       "comp usage \"a\" as E3  <<(T,blue) part>> [[psysml:241a9b2a-e9cc-4b19-964a-2424b61c0639 ]] {\r\n",
       "}\r\n",
       "comp usage \"f: F\" as E4  <<(T,blue) part>> [[psysml:40835df5-3f1f-4886-9446-1465d21ad736 ]] {\r\n",
       "}\r\n",
       "comp def \"A\" as E5  <<(T,blue) part def>> [[psysml:299c2c32-5ec1-43b2-a066-b7748b01150c ]] {\r\n",
       "}\r\n",
       "comp usage \"g\" as E6  <<(T,blue) part>> [[psysml:31dec55f-8acf-4d42-bd51-f4047894820c ]] {\r\n",
       "}\r\n",
       "comp def \"B\" as E7  <<(T,blue) part def>> [[psysml:e57a8ff4-b454-49af-9671-50f81189572a ]] {\r\n",
       "}\r\n",
       "comp usage \"f: F\" as E8  <<(T,blue) part>> [[psysml:ae9b8861-e9cc-45e7-97b3-375fd90ac7d9 ]] {\r\n",
       "}\r\n",
       "comp usage \"a: A\" as E9  <<(T,blue) part>> [[psysml:d620b19b-a1e2-497d-8cad-3b2dc38fedc0 ]] {\r\n",
       "}\r\n",
       "comp usage \"b: B\" as E10  <<(T,blue) part>> [[psysml:f9a1a989-561d-4119-971e-8ebceafa94b4 ]] {\r\n",
       "}\r\n",
       "E2 *- - E3 [[psysml:5ee10b2b-55c1-4a08-a13b-bdb74e3f50e5 ]] \r\n",
       "E4 - -:|> E2 [[psysml:c4c1c0e2-eca3-4dc3-a203-c30912c3ab2b ]] \r\n",
       "E5 *- - E6 [[psysml:93463b7d-149f-4a15-b84b-177a9e530eda ]] \r\n",
       "E7 *- - E8 [[psysml:de6f8f38-3125-456b-a954-15a696931b63 ]] \r\n",
       "E8 - -:|> E2 [[psysml:536a95df-7241-4403-bcab-1aa9fe7a4b7d ]] \r\n",
       "E7 *- - E9 [[psysml:2c441a1b-e979-4985-bcd5-61f8c13172d0 ]] \r\n",
       "E9 - -:|> E5 [[psysml:fc8a5d52-f7b0-45e1-9a4f-1e932b65f071 ]] \r\n",
       "E10 - -:|> E7 [[psysml:2e3833d6-0a03-41e5-9593-325ba84dff2e ]] \r\n",
       "}\r\n",
       "@enduml\r\n",
       "\n",
       "PlantUML version 1.2020.13(Sat Jun 13 12:26:38 UTC 2020)\n",
       "(EPL source distribution)\n",
       "Java Runtime: OpenJDK Runtime Environment\n",
       "JVM: OpenJDK 64-Bit Server VM\n",
       "Default Encoding: UTF-8\n",
       "Language: en\n",
       "Country: null\n",
       "--></g></svg>"
      ]
     },
     "execution_count": 21,
     "metadata": {},
     "output_type": "execute_result"
    }
   ],
   "source": [
    "%viz --style=\"LR\" --view=\"Sequence\" \"Q\""
   ]
  },
  {
   "cell_type": "code",
   "execution_count": 22,
   "id": "ed2d55d0",
   "metadata": {
    "execution": {
     "iopub.execute_input": "2021-06-30T09:23:32.566397Z",
     "iopub.status.busy": "2021-06-30T09:23:32.565307Z",
     "iopub.status.idle": "2021-06-30T09:23:32.664874Z",
     "shell.execute_reply": "2021-06-30T09:23:32.664226Z"
    }
   },
   "outputs": [
    {
     "data": {
      "image/svg+xml": [
       "<?xml version=\"1.0\" encoding=\"UTF-8\" standalone=\"no\"?><svg xmlns=\"http://www.w3.org/2000/svg\" xmlns:xlink=\"http://www.w3.org/1999/xlink\" contentScriptType=\"application/ecmascript\" contentStyleType=\"text/css\" height=\"277px\" preserveAspectRatio=\"none\" style=\"width:568px;height:277px;\" version=\"1.1\" viewBox=\"0 0 568 277\" width=\"568px\" zoomAndPan=\"magnify\"><defs/><g><!--MD5=[fbc87193dbaf4d95561dea2c320d4a47]\n",
       "cluster E1--><a href=\"psysml:427a19be-4ba6-433c-b392-6823bf74d458\" target=\"_top\" title=\"psysml:427a19be-4ba6-433c-b392-6823bf74d458\" xlink:actuate=\"onRequest\" xlink:href=\"psysml:427a19be-4ba6-433c-b392-6823bf74d458\" xlink:show=\"new\" xlink:title=\"psysml:427a19be-4ba6-433c-b392-6823bf74d458\" xlink:type=\"simple\"><polygon fill=\"#FFFFFF\" points=\"16,6,34,6,41,28.2969,546,28.2969,546,265,16,265,16,6\" style=\"stroke: #000000; stroke-width: 1.5;\"/><line style=\"stroke: #000000; stroke-width: 1.5;\" x1=\"16\" x2=\"41\" y1=\"28.2969\" y2=\"28.2969\"/><text fill=\"#000000\" font-family=\"sans-serif\" font-size=\"14\" font-weight=\"bold\" lengthAdjust=\"spacingAndGlyphs\" textLength=\"12\" x=\"20\" y=\"20.9951\">Q</text></a><!--MD5=[b4997ac47864f28c2f74865a473b2911]\n",
       "class E2--><a href=\"psysml:027effde-34e9-4491-ba0c-9f82cacaad23\" target=\"_top\" title=\"psysml:027effde-34e9-4491-ba0c-9f82cacaad23\" xlink:actuate=\"onRequest\" xlink:href=\"psysml:027effde-34e9-4491-ba0c-9f82cacaad23\" xlink:show=\"new\" xlink:title=\"psysml:027effde-34e9-4491-ba0c-9f82cacaad23\" xlink:type=\"simple\"><rect fill=\"#FFFFFF\" height=\"45.9375\" id=\"E2\" style=\"stroke: #383838; stroke-width: 1.5;\" width=\"66\" x=\"362\" y=\"122\"/><text fill=\"#000000\" font-family=\"sans-serif\" font-size=\"12\" font-style=\"italic\" lengthAdjust=\"spacingAndGlyphs\" textLength=\"64\" x=\"363\" y=\"138.1387\">«part def»</text><text fill=\"#000000\" font-family=\"sans-serif\" font-size=\"12\" lengthAdjust=\"spacingAndGlyphs\" textLength=\"7\" x=\"391.5\" y=\"152.1074\">F</text><line style=\"stroke: #383838; stroke-width: 1.5;\" x1=\"363\" x2=\"427\" y1=\"159.9375\" y2=\"159.9375\"/></a><!--MD5=[09b614a08d8cba4a07c9adeb5e0fee81]\n",
       "class E3--><a href=\"psysml:241a9b2a-e9cc-4b19-964a-2424b61c0639\" target=\"_top\" title=\"psysml:241a9b2a-e9cc-4b19-964a-2424b61c0639\" xlink:actuate=\"onRequest\" xlink:href=\"psysml:241a9b2a-e9cc-4b19-964a-2424b61c0639\" xlink:show=\"new\" xlink:title=\"psysml:241a9b2a-e9cc-4b19-964a-2424b61c0639\" xlink:type=\"simple\"><rect fill=\"#FFFFFF\" height=\"45.9375\" id=\"E3\" rx=\"10\" ry=\"10\" style=\"stroke: #383838; stroke-width: 1.5;\" width=\"42\" x=\"488\" y=\"122\"/><text fill=\"#000000\" font-family=\"sans-serif\" font-size=\"12\" font-style=\"italic\" lengthAdjust=\"spacingAndGlyphs\" textLength=\"40\" x=\"489\" y=\"138.1387\">«part»</text><text fill=\"#000000\" font-family=\"sans-serif\" font-size=\"12\" lengthAdjust=\"spacingAndGlyphs\" textLength=\"8\" x=\"505\" y=\"152.1074\">a</text><line style=\"stroke: #383838; stroke-width: 1.5;\" x1=\"489\" x2=\"529\" y1=\"159.9375\" y2=\"159.9375\"/></a><!--MD5=[ebbe1d658d1005bcc118a6aa81145e00]\n",
       "class E4--><a href=\"psysml:40835df5-3f1f-4886-9446-1465d21ad736\" target=\"_top\" title=\"psysml:40835df5-3f1f-4886-9446-1465d21ad736\" xlink:actuate=\"onRequest\" xlink:href=\"psysml:40835df5-3f1f-4886-9446-1465d21ad736\" xlink:show=\"new\" xlink:title=\"psysml:40835df5-3f1f-4886-9446-1465d21ad736\" xlink:type=\"simple\"><rect fill=\"#FFFFFF\" height=\"45.9375\" id=\"E4\" rx=\"10\" ry=\"10\" style=\"stroke: #383838; stroke-width: 1.5;\" width=\"42\" x=\"260\" y=\"41\"/><text fill=\"#000000\" font-family=\"sans-serif\" font-size=\"12\" font-style=\"italic\" lengthAdjust=\"spacingAndGlyphs\" textLength=\"40\" x=\"261\" y=\"57.1387\">«part»</text><text fill=\"#000000\" font-family=\"sans-serif\" font-size=\"12\" lengthAdjust=\"spacingAndGlyphs\" textLength=\"19\" x=\"271.5\" y=\"71.1074\">f: F</text><line style=\"stroke: #383838; stroke-width: 1.5;\" x1=\"261\" x2=\"301\" y1=\"78.9375\" y2=\"78.9375\"/></a><!--MD5=[270fce915f116d4de14055a7c1d9a0f3]\n",
       "class E5--><a href=\"psysml:299c2c32-5ec1-43b2-a066-b7748b01150c\" target=\"_top\" title=\"psysml:299c2c32-5ec1-43b2-a066-b7748b01150c\" xlink:actuate=\"onRequest\" xlink:href=\"psysml:299c2c32-5ec1-43b2-a066-b7748b01150c\" xlink:show=\"new\" xlink:title=\"psysml:299c2c32-5ec1-43b2-a066-b7748b01150c\" xlink:type=\"simple\"><rect fill=\"#FFFFFF\" height=\"45.9375\" id=\"E5\" style=\"stroke: #383838; stroke-width: 1.5;\" width=\"66\" x=\"362\" y=\"203\"/><text fill=\"#000000\" font-family=\"sans-serif\" font-size=\"12\" font-style=\"italic\" lengthAdjust=\"spacingAndGlyphs\" textLength=\"64\" x=\"363\" y=\"219.1387\">«part def»</text><text fill=\"#000000\" font-family=\"sans-serif\" font-size=\"12\" lengthAdjust=\"spacingAndGlyphs\" textLength=\"8\" x=\"391\" y=\"233.1074\">A</text><line style=\"stroke: #383838; stroke-width: 1.5;\" x1=\"363\" x2=\"427\" y1=\"240.9375\" y2=\"240.9375\"/></a><!--MD5=[60a26617385b1d2d0262a64233df1f8d]\n",
       "class E6--><a href=\"psysml:31dec55f-8acf-4d42-bd51-f4047894820c\" target=\"_top\" title=\"psysml:31dec55f-8acf-4d42-bd51-f4047894820c\" xlink:actuate=\"onRequest\" xlink:href=\"psysml:31dec55f-8acf-4d42-bd51-f4047894820c\" xlink:show=\"new\" xlink:title=\"psysml:31dec55f-8acf-4d42-bd51-f4047894820c\" xlink:type=\"simple\"><rect fill=\"#FFFFFF\" height=\"45.9375\" id=\"E6\" rx=\"10\" ry=\"10\" style=\"stroke: #383838; stroke-width: 1.5;\" width=\"42\" x=\"488\" y=\"203\"/><text fill=\"#000000\" font-family=\"sans-serif\" font-size=\"12\" font-style=\"italic\" lengthAdjust=\"spacingAndGlyphs\" textLength=\"40\" x=\"489\" y=\"219.1387\">«part»</text><text fill=\"#000000\" font-family=\"sans-serif\" font-size=\"12\" lengthAdjust=\"spacingAndGlyphs\" textLength=\"8\" x=\"505\" y=\"233.1074\">g</text><line style=\"stroke: #383838; stroke-width: 1.5;\" x1=\"489\" x2=\"529\" y1=\"240.9375\" y2=\"240.9375\"/></a><!--MD5=[2156ba9850f5573cc1fc38a6a4b2f02b]\n",
       "class E7--><a href=\"psysml:e57a8ff4-b454-49af-9671-50f81189572a\" target=\"_top\" title=\"psysml:e57a8ff4-b454-49af-9671-50f81189572a\" xlink:actuate=\"onRequest\" xlink:href=\"psysml:e57a8ff4-b454-49af-9671-50f81189572a\" xlink:show=\"new\" xlink:title=\"psysml:e57a8ff4-b454-49af-9671-50f81189572a\" xlink:type=\"simple\"><rect fill=\"#FFFFFF\" height=\"45.9375\" id=\"E7\" style=\"stroke: #383838; stroke-width: 1.5;\" width=\"66\" x=\"134\" y=\"163\"/><text fill=\"#000000\" font-family=\"sans-serif\" font-size=\"12\" font-style=\"italic\" lengthAdjust=\"spacingAndGlyphs\" textLength=\"64\" x=\"135\" y=\"179.1387\">«part def»</text><text fill=\"#000000\" font-family=\"sans-serif\" font-size=\"12\" lengthAdjust=\"spacingAndGlyphs\" textLength=\"8\" x=\"163\" y=\"193.1074\">B</text><line style=\"stroke: #383838; stroke-width: 1.5;\" x1=\"135\" x2=\"199\" y1=\"200.9375\" y2=\"200.9375\"/></a><!--MD5=[b9389687b975829384b498ac4b7476b2]\n",
       "class E8--><a href=\"psysml:ae9b8861-e9cc-45e7-97b3-375fd90ac7d9\" target=\"_top\" title=\"psysml:ae9b8861-e9cc-45e7-97b3-375fd90ac7d9\" xlink:actuate=\"onRequest\" xlink:href=\"psysml:ae9b8861-e9cc-45e7-97b3-375fd90ac7d9\" xlink:show=\"new\" xlink:title=\"psysml:ae9b8861-e9cc-45e7-97b3-375fd90ac7d9\" xlink:type=\"simple\"><rect fill=\"#FFFFFF\" height=\"45.9375\" id=\"E8\" rx=\"10\" ry=\"10\" style=\"stroke: #383838; stroke-width: 1.5;\" width=\"42\" x=\"260\" y=\"122\"/><text fill=\"#000000\" font-family=\"sans-serif\" font-size=\"12\" font-style=\"italic\" lengthAdjust=\"spacingAndGlyphs\" textLength=\"40\" x=\"261\" y=\"138.1387\">«part»</text><text fill=\"#000000\" font-family=\"sans-serif\" font-size=\"12\" lengthAdjust=\"spacingAndGlyphs\" textLength=\"19\" x=\"271.5\" y=\"152.1074\">f: F</text><line style=\"stroke: #383838; stroke-width: 1.5;\" x1=\"261\" x2=\"301\" y1=\"159.9375\" y2=\"159.9375\"/></a><!--MD5=[fd4143e9d270a159db93a4ea2a975926]\n",
       "class E9--><a href=\"psysml:d620b19b-a1e2-497d-8cad-3b2dc38fedc0\" target=\"_top\" title=\"psysml:d620b19b-a1e2-497d-8cad-3b2dc38fedc0\" xlink:actuate=\"onRequest\" xlink:href=\"psysml:d620b19b-a1e2-497d-8cad-3b2dc38fedc0\" xlink:show=\"new\" xlink:title=\"psysml:d620b19b-a1e2-497d-8cad-3b2dc38fedc0\" xlink:type=\"simple\"><rect fill=\"#FFFFFF\" height=\"45.9375\" id=\"E9\" rx=\"10\" ry=\"10\" style=\"stroke: #383838; stroke-width: 1.5;\" width=\"42\" x=\"260\" y=\"203\"/><text fill=\"#000000\" font-family=\"sans-serif\" font-size=\"12\" font-style=\"italic\" lengthAdjust=\"spacingAndGlyphs\" textLength=\"40\" x=\"261\" y=\"219.1387\">«part»</text><text fill=\"#000000\" font-family=\"sans-serif\" font-size=\"12\" lengthAdjust=\"spacingAndGlyphs\" textLength=\"24\" x=\"269\" y=\"233.1074\">a: A</text><line style=\"stroke: #383838; stroke-width: 1.5;\" x1=\"261\" x2=\"301\" y1=\"240.9375\" y2=\"240.9375\"/></a><!--MD5=[96f4274e9e20536e775497830990834d]\n",
       "class E10--><a href=\"psysml:f9a1a989-561d-4119-971e-8ebceafa94b4\" target=\"_top\" title=\"psysml:f9a1a989-561d-4119-971e-8ebceafa94b4\" xlink:actuate=\"onRequest\" xlink:href=\"psysml:f9a1a989-561d-4119-971e-8ebceafa94b4\" xlink:show=\"new\" xlink:title=\"psysml:f9a1a989-561d-4119-971e-8ebceafa94b4\" xlink:type=\"simple\"><rect fill=\"#FFFFFF\" height=\"45.9375\" id=\"E10\" rx=\"10\" ry=\"10\" style=\"stroke: #383838; stroke-width: 1.5;\" width=\"42\" x=\"32\" y=\"163\"/><text fill=\"#000000\" font-family=\"sans-serif\" font-size=\"12\" font-style=\"italic\" lengthAdjust=\"spacingAndGlyphs\" textLength=\"40\" x=\"33\" y=\"179.1387\">«part»</text><text fill=\"#000000\" font-family=\"sans-serif\" font-size=\"12\" lengthAdjust=\"spacingAndGlyphs\" textLength=\"24\" x=\"41\" y=\"193.1074\">b: B</text><line style=\"stroke: #383838; stroke-width: 1.5;\" x1=\"33\" x2=\"73\" y1=\"200.9375\" y2=\"200.9375\"/></a><!--MD5=[209b3feb70ccb6233bfe1053d122c12c]\n",
       "reverse link E2 to E3--><a href=\"psysml:5ee10b2b-55c1-4a08-a13b-bdb74e3f50e5\" target=\"_top\" title=\"psysml:5ee10b2b-55c1-4a08-a13b-bdb74e3f50e5\" xlink:actuate=\"onRequest\" xlink:href=\"psysml:5ee10b2b-55c1-4a08-a13b-bdb74e3f50e5\" xlink:show=\"new\" xlink:title=\"psysml:5ee10b2b-55c1-4a08-a13b-bdb74e3f50e5\" xlink:type=\"simple\"><path d=\"M441.28,145 C457.47,145 474.9,145 487.89,145 \" fill=\"none\" id=\"E2&lt;-E3\" style=\"stroke: #383838; stroke-width: 1.0;\"/><polygon fill=\"#383838\" points=\"428.09,145,434.09,149,440.09,145,434.09,141,428.09,145\" style=\"stroke: #383838; stroke-width: 1.0;\"/></a><!--MD5=[185131fc0dcab0a4505a2ebe144e961b]\n",
       "link E4 to E2--><a href=\"psysml:c4c1c0e2-eca3-4dc3-a203-c30912c3ab2b\" target=\"_top\" title=\"psysml:c4c1c0e2-eca3-4dc3-a203-c30912c3ab2b\" xlink:actuate=\"onRequest\" xlink:href=\"psysml:c4c1c0e2-eca3-4dc3-a203-c30912c3ab2b\" xlink:show=\"new\" xlink:title=\"psysml:c4c1c0e2-eca3-4dc3-a203-c30912c3ab2b\" xlink:type=\"simple\"><path d=\"M302.02,78.48 C314.09,87.21 330.03,98.73 345.24,109.73 \" fill=\"none\" id=\"E4-&gt;E2\" style=\"stroke: #383838; stroke-width: 1.0;\"/><polygon fill=\"#FFFFFF\" points=\"361.86,121.75,342.3595,116.2973,350.5582,104.9491,361.86,121.75\" style=\"stroke: #383838; stroke-width: 1.0;\"/><ellipse cx=\"338.9104\" cy=\"111.3381\" fill=\"#383838\" rx=\"2\" ry=\"2\" style=\"stroke: #383838; stroke-width: 1.0;\"/><ellipse cx=\"344.7667\" cy=\"103.2322\" fill=\"#383838\" rx=\"2\" ry=\"2\" style=\"stroke: #383838; stroke-width: 1.0;\"/></a><!--MD5=[85d356282659285ab4b2cfe2f634dd2b]\n",
       "reverse link E5 to E6--><a href=\"psysml:93463b7d-149f-4a15-b84b-177a9e530eda\" target=\"_top\" title=\"psysml:93463b7d-149f-4a15-b84b-177a9e530eda\" xlink:actuate=\"onRequest\" xlink:href=\"psysml:93463b7d-149f-4a15-b84b-177a9e530eda\" xlink:show=\"new\" xlink:title=\"psysml:93463b7d-149f-4a15-b84b-177a9e530eda\" xlink:type=\"simple\"><path d=\"M441.28,226 C457.47,226 474.9,226 487.89,226 \" fill=\"none\" id=\"E5&lt;-E6\" style=\"stroke: #383838; stroke-width: 1.0;\"/><polygon fill=\"#383838\" points=\"428.09,226,434.09,230,440.09,226,434.09,222,428.09,226\" style=\"stroke: #383838; stroke-width: 1.0;\"/></a><!--MD5=[dc164f5e8a733ab456ef1add180e9e34]\n",
       "reverse link E7 to E8--><a href=\"psysml:de6f8f38-3125-456b-a954-15a696931b63\" target=\"_top\" title=\"psysml:de6f8f38-3125-456b-a954-15a696931b63\" xlink:actuate=\"onRequest\" xlink:href=\"psysml:de6f8f38-3125-456b-a954-15a696931b63\" xlink:show=\"new\" xlink:title=\"psysml:de6f8f38-3125-456b-a954-15a696931b63\" xlink:type=\"simple\"><path d=\"M212.31,169.78 C228.77,163.75 246.64,157.21 259.89,152.36 \" fill=\"none\" id=\"E7&lt;-E8\" style=\"stroke: #383838; stroke-width: 1.0;\"/><polygon fill=\"#383838\" points=\"200.09,174.25,207.1,175.9409,211.3571,170.1205,204.347,168.4296,200.09,174.25\" style=\"stroke: #383838; stroke-width: 1.0;\"/></a><!--MD5=[f1f3f9f2fc535e6147756cb86a7f2e32]\n",
       "link E8 to E2--><a href=\"psysml:536a95df-7241-4403-bcab-1aa9fe7a4b7d\" target=\"_top\" title=\"psysml:536a95df-7241-4403-bcab-1aa9fe7a4b7d\" xlink:actuate=\"onRequest\" xlink:href=\"psysml:536a95df-7241-4403-bcab-1aa9fe7a4b7d\" xlink:show=\"new\" xlink:title=\"psysml:536a95df-7241-4403-bcab-1aa9fe7a4b7d\" xlink:type=\"simple\"><path d=\"M302.02,145 C313.18,145 327.65,145 341.79,145 \" fill=\"none\" id=\"E8-&gt;E2\" style=\"stroke: #383838; stroke-width: 1.0;\"/><polygon fill=\"#FFFFFF\" points=\"361.86,145,342.86,152,342.86,138,361.86,145\" style=\"stroke: #383838; stroke-width: 1.0;\"/><ellipse cx=\"337.16\" cy=\"150\" fill=\"#383838\" rx=\"2\" ry=\"2\" style=\"stroke: #383838; stroke-width: 1.0;\"/><ellipse cx=\"337.16\" cy=\"140\" fill=\"#383838\" rx=\"2\" ry=\"2\" style=\"stroke: #383838; stroke-width: 1.0;\"/></a><!--MD5=[e4a10ef82d0e328e31cac39a31e58dda]\n",
       "reverse link E7 to E9--><a href=\"psysml:2c441a1b-e979-4985-bcd5-61f8c13172d0\" target=\"_top\" title=\"psysml:2c441a1b-e979-4985-bcd5-61f8c13172d0\" xlink:actuate=\"onRequest\" xlink:href=\"psysml:2c441a1b-e979-4985-bcd5-61f8c13172d0\" xlink:show=\"new\" xlink:title=\"psysml:2c441a1b-e979-4985-bcd5-61f8c13172d0\" xlink:type=\"simple\"><path d=\"M212.79,202 C229.12,207.83 246.77,214.13 259.89,218.82 \" fill=\"none\" id=\"E7&lt;-E9\" style=\"stroke: #383838; stroke-width: 1.0;\"/><polygon fill=\"#383838\" points=\"200.09,197.46,204.3955,203.2447,211.3912,201.4952,207.0857,195.7105,200.09,197.46\" style=\"stroke: #383838; stroke-width: 1.0;\"/></a><!--MD5=[bfc3ddf2e613be37104f658f09af896c]\n",
       "link E9 to E5--><a href=\"psysml:fc8a5d52-f7b0-45e1-9a4f-1e932b65f071\" target=\"_top\" title=\"psysml:fc8a5d52-f7b0-45e1-9a4f-1e932b65f071\" xlink:actuate=\"onRequest\" xlink:href=\"psysml:fc8a5d52-f7b0-45e1-9a4f-1e932b65f071\" xlink:show=\"new\" xlink:title=\"psysml:fc8a5d52-f7b0-45e1-9a4f-1e932b65f071\" xlink:type=\"simple\"><path d=\"M302.02,226 C313.18,226 327.65,226 341.79,226 \" fill=\"none\" id=\"E9-&gt;E5\" style=\"stroke: #383838; stroke-width: 1.0;\"/><polygon fill=\"#FFFFFF\" points=\"361.86,226,342.86,233,342.86,219,361.86,226\" style=\"stroke: #383838; stroke-width: 1.0;\"/><ellipse cx=\"337.16\" cy=\"231\" fill=\"#383838\" rx=\"2\" ry=\"2\" style=\"stroke: #383838; stroke-width: 1.0;\"/><ellipse cx=\"337.16\" cy=\"221\" fill=\"#383838\" rx=\"2\" ry=\"2\" style=\"stroke: #383838; stroke-width: 1.0;\"/></a><!--MD5=[a919e0967d6f3de553dc51b9865a1d6d]\n",
       "link E10 to E7--><a href=\"psysml:2e3833d6-0a03-41e5-9593-325ba84dff2e\" target=\"_top\" title=\"psysml:2e3833d6-0a03-41e5-9593-325ba84dff2e\" xlink:actuate=\"onRequest\" xlink:href=\"psysml:2e3833d6-0a03-41e5-9593-325ba84dff2e\" xlink:show=\"new\" xlink:title=\"psysml:2e3833d6-0a03-41e5-9593-325ba84dff2e\" xlink:type=\"simple\"><path d=\"M74.02,186 C85.18,186 99.65,186 113.79,186 \" fill=\"none\" id=\"E10-&gt;E7\" style=\"stroke: #383838; stroke-width: 1.0;\"/><polygon fill=\"#FFFFFF\" points=\"133.86,186,114.86,193,114.86,179,133.86,186\" style=\"stroke: #383838; stroke-width: 1.0;\"/><ellipse cx=\"109.16\" cy=\"191\" fill=\"#383838\" rx=\"2\" ry=\"2\" style=\"stroke: #383838; stroke-width: 1.0;\"/><ellipse cx=\"109.16\" cy=\"181\" fill=\"#383838\" rx=\"2\" ry=\"2\" style=\"stroke: #383838; stroke-width: 1.0;\"/></a><!--MD5=[c2d0cca95efaca978c8fdce58033e952]\n",
       "@startuml\r\n",
       "left to right direction\r\n",
       "skinparam monochrome true\r\n",
       "skinparam classbackgroundcolor white\r\n",
       "skinparam shadowing false\r\n",
       "skinparam wrapWidth 300\r\n",
       "hide circle\r\n",
       "\r\n",
       "package \"Q\" as E1  [[psysml:427a19be-4ba6-433c-b392-6823bf74d458 ]]  {\r\n",
       "comp def \"F\" as E2  <<(T,blue) part def>> [[psysml:027effde-34e9-4491-ba0c-9f82cacaad23 ]] {\r\n",
       "}\r\n",
       "comp usage \"a\" as E3  <<(T,blue) part>> [[psysml:241a9b2a-e9cc-4b19-964a-2424b61c0639 ]] {\r\n",
       "}\r\n",
       "comp usage \"f: F\" as E4  <<(T,blue) part>> [[psysml:40835df5-3f1f-4886-9446-1465d21ad736 ]] {\r\n",
       "}\r\n",
       "comp def \"A\" as E5  <<(T,blue) part def>> [[psysml:299c2c32-5ec1-43b2-a066-b7748b01150c ]] {\r\n",
       "}\r\n",
       "comp usage \"g\" as E6  <<(T,blue) part>> [[psysml:31dec55f-8acf-4d42-bd51-f4047894820c ]] {\r\n",
       "}\r\n",
       "comp def \"B\" as E7  <<(T,blue) part def>> [[psysml:e57a8ff4-b454-49af-9671-50f81189572a ]] {\r\n",
       "}\r\n",
       "comp usage \"f: F\" as E8  <<(T,blue) part>> [[psysml:ae9b8861-e9cc-45e7-97b3-375fd90ac7d9 ]] {\r\n",
       "}\r\n",
       "comp usage \"a: A\" as E9  <<(T,blue) part>> [[psysml:d620b19b-a1e2-497d-8cad-3b2dc38fedc0 ]] {\r\n",
       "}\r\n",
       "comp usage \"b: B\" as E10  <<(T,blue) part>> [[psysml:f9a1a989-561d-4119-971e-8ebceafa94b4 ]] {\r\n",
       "}\r\n",
       "E2 *- - E3 [[psysml:5ee10b2b-55c1-4a08-a13b-bdb74e3f50e5 ]] \r\n",
       "E4 - -:|> E2 [[psysml:c4c1c0e2-eca3-4dc3-a203-c30912c3ab2b ]] \r\n",
       "E5 *- - E6 [[psysml:93463b7d-149f-4a15-b84b-177a9e530eda ]] \r\n",
       "E7 *- - E8 [[psysml:de6f8f38-3125-456b-a954-15a696931b63 ]] \r\n",
       "E8 - -:|> E2 [[psysml:536a95df-7241-4403-bcab-1aa9fe7a4b7d ]] \r\n",
       "E7 *- - E9 [[psysml:2c441a1b-e979-4985-bcd5-61f8c13172d0 ]] \r\n",
       "E9 - -:|> E5 [[psysml:fc8a5d52-f7b0-45e1-9a4f-1e932b65f071 ]] \r\n",
       "E10 - -:|> E7 [[psysml:2e3833d6-0a03-41e5-9593-325ba84dff2e ]] \r\n",
       "}\r\n",
       "@enduml\r\n",
       "\n",
       "PlantUML version 1.2020.13(Sat Jun 13 12:26:38 UTC 2020)\n",
       "(EPL source distribution)\n",
       "Java Runtime: OpenJDK Runtime Environment\n",
       "JVM: OpenJDK 64-Bit Server VM\n",
       "Default Encoding: UTF-8\n",
       "Language: en\n",
       "Country: null\n",
       "--></g></svg>"
      ]
     },
     "execution_count": 22,
     "metadata": {},
     "output_type": "execute_result"
    }
   ],
   "source": [
    "%viz --style=\"LR\" --view=\"MIXED\" \"Q\""
   ]
  },
  {
   "cell_type": "code",
   "execution_count": 23,
   "id": "64a5cf29",
   "metadata": {
    "execution": {
     "iopub.execute_input": "2021-06-30T09:23:32.712764Z",
     "iopub.status.busy": "2021-06-30T09:23:32.711986Z",
     "iopub.status.idle": "2021-06-30T09:23:32.820882Z",
     "shell.execute_reply": "2021-06-30T09:23:32.819692Z"
    }
   },
   "outputs": [
    {
     "data": {
      "image/svg+xml": [
       "<?xml version=\"1.0\" encoding=\"UTF-8\" standalone=\"no\"?><svg xmlns=\"http://www.w3.org/2000/svg\" xmlns:xlink=\"http://www.w3.org/1999/xlink\" contentScriptType=\"application/ecmascript\" contentStyleType=\"text/css\" height=\"539px\" preserveAspectRatio=\"none\" style=\"width:266px;height:539px;\" version=\"1.1\" viewBox=\"0 0 266 539\" width=\"266px\" zoomAndPan=\"magnify\"><defs><filter height=\"300%\" id=\"fnq6gryv2tfkt\" width=\"300%\" x=\"-1\" y=\"-1\"><feGaussianBlur result=\"blurOut\" stdDeviation=\"2.0\"/><feColorMatrix in=\"blurOut\" result=\"blurOut2\" type=\"matrix\" values=\"0 0 0 0 0 0 0 0 0 0 0 0 0 0 0 0 0 0 .4 0\"/><feOffset dx=\"4.0\" dy=\"4.0\" in=\"blurOut2\" result=\"blurOut3\"/><feBlend in=\"SourceGraphic\" in2=\"blurOut3\" mode=\"normal\"/></filter></defs><g><!--MD5=[fbc87193dbaf4d95561dea2c320d4a47]\n",
       "cluster E1--><a href=\"psysml:427a19be-4ba6-433c-b392-6823bf74d458\" target=\"_top\" title=\"psysml:427a19be-4ba6-433c-b392-6823bf74d458\" xlink:actuate=\"onRequest\" xlink:href=\"psysml:427a19be-4ba6-433c-b392-6823bf74d458\" xlink:show=\"new\" xlink:title=\"psysml:427a19be-4ba6-433c-b392-6823bf74d458\" xlink:type=\"simple\"><polygon fill=\"#FFFFFF\" filter=\"url(#fnq6gryv2tfkt)\" points=\"16,6,34,6,41,28.2969,244,28.2969,244,527,16,527,16,6\" style=\"stroke: #000000; stroke-width: 1.5;\"/><line style=\"stroke: #000000; stroke-width: 1.5;\" x1=\"16\" x2=\"41\" y1=\"28.2969\" y2=\"28.2969\"/><text fill=\"#000000\" font-family=\"sans-serif\" font-size=\"14\" font-weight=\"bold\" lengthAdjust=\"spacingAndGlyphs\" textLength=\"12\" x=\"20\" y=\"20.9951\">Q</text></a><!--MD5=[b4997ac47864f28c2f74865a473b2911]\n",
       "class E2--><a href=\"psysml:027effde-34e9-4491-ba0c-9f82cacaad23\" target=\"_top\" title=\"psysml:027effde-34e9-4491-ba0c-9f82cacaad23\" xlink:actuate=\"onRequest\" xlink:href=\"psysml:027effde-34e9-4491-ba0c-9f82cacaad23\" xlink:show=\"new\" xlink:title=\"psysml:027effde-34e9-4491-ba0c-9f82cacaad23\" xlink:type=\"simple\"><rect fill=\"#FEFECE\" filter=\"url(#fnq6gryv2tfkt)\" height=\"45.9375\" id=\"E2\" style=\"stroke: #A80036; stroke-width: 1.5;\" width=\"66\" x=\"147\" y=\"359\"/><text fill=\"#000000\" font-family=\"sans-serif\" font-size=\"12\" font-style=\"italic\" lengthAdjust=\"spacingAndGlyphs\" textLength=\"64\" x=\"148\" y=\"375.1387\">«part def»</text><text fill=\"#000000\" font-family=\"sans-serif\" font-size=\"12\" lengthAdjust=\"spacingAndGlyphs\" textLength=\"7\" x=\"176.5\" y=\"389.1074\">F</text><line style=\"stroke: #A80036; stroke-width: 1.5;\" x1=\"148\" x2=\"212\" y1=\"396.9375\" y2=\"396.9375\"/></a><!--MD5=[09b614a08d8cba4a07c9adeb5e0fee81]\n",
       "class E3--><a href=\"psysml:241a9b2a-e9cc-4b19-964a-2424b61c0639\" target=\"_top\" title=\"psysml:241a9b2a-e9cc-4b19-964a-2424b61c0639\" xlink:actuate=\"onRequest\" xlink:href=\"psysml:241a9b2a-e9cc-4b19-964a-2424b61c0639\" xlink:show=\"new\" xlink:title=\"psysml:241a9b2a-e9cc-4b19-964a-2424b61c0639\" xlink:type=\"simple\"><rect fill=\"#FEFECE\" filter=\"url(#fnq6gryv2tfkt)\" height=\"45.9375\" id=\"E3\" rx=\"10\" ry=\"10\" style=\"stroke: #A80036; stroke-width: 1.5;\" width=\"42\" x=\"159\" y=\"465\"/><text fill=\"#000000\" font-family=\"sans-serif\" font-size=\"12\" font-style=\"italic\" lengthAdjust=\"spacingAndGlyphs\" textLength=\"40\" x=\"160\" y=\"481.1387\">«part»</text><text fill=\"#000000\" font-family=\"sans-serif\" font-size=\"12\" lengthAdjust=\"spacingAndGlyphs\" textLength=\"8\" x=\"176\" y=\"495.1074\">a</text><line style=\"stroke: #A80036; stroke-width: 1.5;\" x1=\"160\" x2=\"200\" y1=\"502.9375\" y2=\"502.9375\"/></a><!--MD5=[ebbe1d658d1005bcc118a6aa81145e00]\n",
       "class E4--><a href=\"psysml:40835df5-3f1f-4886-9446-1465d21ad736\" target=\"_top\" title=\"psysml:40835df5-3f1f-4886-9446-1465d21ad736\" xlink:actuate=\"onRequest\" xlink:href=\"psysml:40835df5-3f1f-4886-9446-1465d21ad736\" xlink:show=\"new\" xlink:title=\"psysml:40835df5-3f1f-4886-9446-1465d21ad736\" xlink:type=\"simple\"><rect fill=\"#FEFECE\" filter=\"url(#fnq6gryv2tfkt)\" height=\"45.9375\" id=\"E4\" rx=\"10\" ry=\"10\" style=\"stroke: #A80036; stroke-width: 1.5;\" width=\"42\" x=\"186\" y=\"253\"/><text fill=\"#000000\" font-family=\"sans-serif\" font-size=\"12\" font-style=\"italic\" lengthAdjust=\"spacingAndGlyphs\" textLength=\"40\" x=\"187\" y=\"269.1387\">«part»</text><text fill=\"#000000\" font-family=\"sans-serif\" font-size=\"12\" lengthAdjust=\"spacingAndGlyphs\" textLength=\"19\" x=\"197.5\" y=\"283.1074\">f: F</text><line style=\"stroke: #A80036; stroke-width: 1.5;\" x1=\"187\" x2=\"227\" y1=\"290.9375\" y2=\"290.9375\"/></a><!--MD5=[270fce915f116d4de14055a7c1d9a0f3]\n",
       "class E5--><a href=\"psysml:299c2c32-5ec1-43b2-a066-b7748b01150c\" target=\"_top\" title=\"psysml:299c2c32-5ec1-43b2-a066-b7748b01150c\" xlink:actuate=\"onRequest\" xlink:href=\"psysml:299c2c32-5ec1-43b2-a066-b7748b01150c\" xlink:show=\"new\" xlink:title=\"psysml:299c2c32-5ec1-43b2-a066-b7748b01150c\" xlink:type=\"simple\"><rect fill=\"#FEFECE\" filter=\"url(#fnq6gryv2tfkt)\" height=\"45.9375\" id=\"E5\" style=\"stroke: #A80036; stroke-width: 1.5;\" width=\"66\" x=\"32\" y=\"359\"/><text fill=\"#000000\" font-family=\"sans-serif\" font-size=\"12\" font-style=\"italic\" lengthAdjust=\"spacingAndGlyphs\" textLength=\"64\" x=\"33\" y=\"375.1387\">«part def»</text><text fill=\"#000000\" font-family=\"sans-serif\" font-size=\"12\" lengthAdjust=\"spacingAndGlyphs\" textLength=\"8\" x=\"61\" y=\"389.1074\">A</text><line style=\"stroke: #A80036; stroke-width: 1.5;\" x1=\"33\" x2=\"97\" y1=\"396.9375\" y2=\"396.9375\"/></a><!--MD5=[60a26617385b1d2d0262a64233df1f8d]\n",
       "class E6--><a href=\"psysml:31dec55f-8acf-4d42-bd51-f4047894820c\" target=\"_top\" title=\"psysml:31dec55f-8acf-4d42-bd51-f4047894820c\" xlink:actuate=\"onRequest\" xlink:href=\"psysml:31dec55f-8acf-4d42-bd51-f4047894820c\" xlink:show=\"new\" xlink:title=\"psysml:31dec55f-8acf-4d42-bd51-f4047894820c\" xlink:type=\"simple\"><rect fill=\"#FEFECE\" filter=\"url(#fnq6gryv2tfkt)\" height=\"45.9375\" id=\"E6\" rx=\"10\" ry=\"10\" style=\"stroke: #A80036; stroke-width: 1.5;\" width=\"42\" x=\"44\" y=\"465\"/><text fill=\"#000000\" font-family=\"sans-serif\" font-size=\"12\" font-style=\"italic\" lengthAdjust=\"spacingAndGlyphs\" textLength=\"40\" x=\"45\" y=\"481.1387\">«part»</text><text fill=\"#000000\" font-family=\"sans-serif\" font-size=\"12\" lengthAdjust=\"spacingAndGlyphs\" textLength=\"8\" x=\"61\" y=\"495.1074\">g</text><line style=\"stroke: #A80036; stroke-width: 1.5;\" x1=\"45\" x2=\"85\" y1=\"502.9375\" y2=\"502.9375\"/></a><!--MD5=[2156ba9850f5573cc1fc38a6a4b2f02b]\n",
       "class E7--><a href=\"psysml:e57a8ff4-b454-49af-9671-50f81189572a\" target=\"_top\" title=\"psysml:e57a8ff4-b454-49af-9671-50f81189572a\" xlink:actuate=\"onRequest\" xlink:href=\"psysml:e57a8ff4-b454-49af-9671-50f81189572a\" xlink:show=\"new\" xlink:title=\"psysml:e57a8ff4-b454-49af-9671-50f81189572a\" xlink:type=\"simple\"><rect fill=\"#FEFECE\" filter=\"url(#fnq6gryv2tfkt)\" height=\"45.9375\" id=\"E7\" style=\"stroke: #A80036; stroke-width: 1.5;\" width=\"66\" x=\"64\" y=\"147\"/><text fill=\"#000000\" font-family=\"sans-serif\" font-size=\"12\" font-style=\"italic\" lengthAdjust=\"spacingAndGlyphs\" textLength=\"64\" x=\"65\" y=\"163.1387\">«part def»</text><text fill=\"#000000\" font-family=\"sans-serif\" font-size=\"12\" lengthAdjust=\"spacingAndGlyphs\" textLength=\"8\" x=\"93\" y=\"177.1074\">B</text><line style=\"stroke: #A80036; stroke-width: 1.5;\" x1=\"65\" x2=\"129\" y1=\"184.9375\" y2=\"184.9375\"/></a><!--MD5=[b9389687b975829384b498ac4b7476b2]\n",
       "class E8--><a href=\"psysml:ae9b8861-e9cc-45e7-97b3-375fd90ac7d9\" target=\"_top\" title=\"psysml:ae9b8861-e9cc-45e7-97b3-375fd90ac7d9\" xlink:actuate=\"onRequest\" xlink:href=\"psysml:ae9b8861-e9cc-45e7-97b3-375fd90ac7d9\" xlink:show=\"new\" xlink:title=\"psysml:ae9b8861-e9cc-45e7-97b3-375fd90ac7d9\" xlink:type=\"simple\"><rect fill=\"#FEFECE\" filter=\"url(#fnq6gryv2tfkt)\" height=\"45.9375\" id=\"E8\" rx=\"10\" ry=\"10\" style=\"stroke: #A80036; stroke-width: 1.5;\" width=\"42\" x=\"109\" y=\"253\"/><text fill=\"#000000\" font-family=\"sans-serif\" font-size=\"12\" font-style=\"italic\" lengthAdjust=\"spacingAndGlyphs\" textLength=\"40\" x=\"110\" y=\"269.1387\">«part»</text><text fill=\"#000000\" font-family=\"sans-serif\" font-size=\"12\" lengthAdjust=\"spacingAndGlyphs\" textLength=\"19\" x=\"120.5\" y=\"283.1074\">f: F</text><line style=\"stroke: #A80036; stroke-width: 1.5;\" x1=\"110\" x2=\"150\" y1=\"290.9375\" y2=\"290.9375\"/></a><!--MD5=[fd4143e9d270a159db93a4ea2a975926]\n",
       "class E9--><a href=\"psysml:d620b19b-a1e2-497d-8cad-3b2dc38fedc0\" target=\"_top\" title=\"psysml:d620b19b-a1e2-497d-8cad-3b2dc38fedc0\" xlink:actuate=\"onRequest\" xlink:href=\"psysml:d620b19b-a1e2-497d-8cad-3b2dc38fedc0\" xlink:show=\"new\" xlink:title=\"psysml:d620b19b-a1e2-497d-8cad-3b2dc38fedc0\" xlink:type=\"simple\"><rect fill=\"#FEFECE\" filter=\"url(#fnq6gryv2tfkt)\" height=\"45.9375\" id=\"E9\" rx=\"10\" ry=\"10\" style=\"stroke: #A80036; stroke-width: 1.5;\" width=\"42\" x=\"32\" y=\"253\"/><text fill=\"#000000\" font-family=\"sans-serif\" font-size=\"12\" font-style=\"italic\" lengthAdjust=\"spacingAndGlyphs\" textLength=\"40\" x=\"33\" y=\"269.1387\">«part»</text><text fill=\"#000000\" font-family=\"sans-serif\" font-size=\"12\" lengthAdjust=\"spacingAndGlyphs\" textLength=\"24\" x=\"41\" y=\"283.1074\">a: A</text><line style=\"stroke: #A80036; stroke-width: 1.5;\" x1=\"33\" x2=\"73\" y1=\"290.9375\" y2=\"290.9375\"/></a><!--MD5=[96f4274e9e20536e775497830990834d]\n",
       "class E10--><a href=\"psysml:f9a1a989-561d-4119-971e-8ebceafa94b4\" target=\"_top\" title=\"psysml:f9a1a989-561d-4119-971e-8ebceafa94b4\" xlink:actuate=\"onRequest\" xlink:href=\"psysml:f9a1a989-561d-4119-971e-8ebceafa94b4\" xlink:show=\"new\" xlink:title=\"psysml:f9a1a989-561d-4119-971e-8ebceafa94b4\" xlink:type=\"simple\"><rect fill=\"#FEFECE\" filter=\"url(#fnq6gryv2tfkt)\" height=\"45.9375\" id=\"E10\" rx=\"10\" ry=\"10\" style=\"stroke: #A80036; stroke-width: 1.5;\" width=\"42\" x=\"76\" y=\"41\"/><text fill=\"#000000\" font-family=\"sans-serif\" font-size=\"12\" font-style=\"italic\" lengthAdjust=\"spacingAndGlyphs\" textLength=\"40\" x=\"77\" y=\"57.1387\">«part»</text><text fill=\"#000000\" font-family=\"sans-serif\" font-size=\"12\" lengthAdjust=\"spacingAndGlyphs\" textLength=\"24\" x=\"85\" y=\"71.1074\">b: B</text><line style=\"stroke: #A80036; stroke-width: 1.5;\" x1=\"77\" x2=\"117\" y1=\"78.9375\" y2=\"78.9375\"/></a><!--MD5=[209b3feb70ccb6233bfe1053d122c12c]\n",
       "reverse link E2 to E3--><a href=\"psysml:5ee10b2b-55c1-4a08-a13b-bdb74e3f50e5\" target=\"_top\" title=\"psysml:5ee10b2b-55c1-4a08-a13b-bdb74e3f50e5\" xlink:actuate=\"onRequest\" xlink:href=\"psysml:5ee10b2b-55c1-4a08-a13b-bdb74e3f50e5\" xlink:show=\"new\" xlink:title=\"psysml:5ee10b2b-55c1-4a08-a13b-bdb74e3f50e5\" xlink:type=\"simple\"><path d=\"M180,418.44 C180,433.87 180,451.47 180,464.98 \" fill=\"none\" id=\"E2&lt;-E3\" style=\"stroke: #A80036; stroke-width: 1.0;\"/><polygon fill=\"#A80036\" points=\"180,405.06,176,411.06,180,417.06,184,411.06,180,405.06\" style=\"stroke: #A80036; stroke-width: 1.0;\"/></a><!--MD5=[185131fc0dcab0a4505a2ebe144e961b]\n",
       "link E4 to E2--><a href=\"psysml:c4c1c0e2-eca3-4dc3-a203-c30912c3ab2b\" target=\"_top\" title=\"psysml:c4c1c0e2-eca3-4dc3-a203-c30912c3ab2b\" xlink:actuate=\"onRequest\" xlink:href=\"psysml:c4c1c0e2-eca3-4dc3-a203-c30912c3ab2b\" xlink:show=\"new\" xlink:title=\"psysml:c4c1c0e2-eca3-4dc3-a203-c30912c3ab2b\" xlink:type=\"simple\"><path d=\"M201.27,299.06 C198.23,310.78 194.39,325.57 190.81,339.36 \" fill=\"none\" id=\"E4-&gt;E2\" style=\"stroke: #A80036; stroke-width: 1.0;\"/><polygon fill=\"#FFFFFF\" points=\"185.72,358.98,183.7221,338.8303,197.2724,342.3504,185.72,358.98\" style=\"stroke: #A80036; stroke-width: 1.0;\"/><ellipse cx=\"187.091\" cy=\"333.8163\" fill=\"#A80036\" rx=\"2\" ry=\"2\" style=\"stroke: #A80036; stroke-width: 1.0;\"/><ellipse cx=\"196.7698\" cy=\"336.3307\" fill=\"#A80036\" rx=\"2\" ry=\"2\" style=\"stroke: #A80036; stroke-width: 1.0;\"/></a><!--MD5=[85d356282659285ab4b2cfe2f634dd2b]\n",
       "reverse link E5 to E6--><a href=\"psysml:93463b7d-149f-4a15-b84b-177a9e530eda\" target=\"_top\" title=\"psysml:93463b7d-149f-4a15-b84b-177a9e530eda\" xlink:actuate=\"onRequest\" xlink:href=\"psysml:93463b7d-149f-4a15-b84b-177a9e530eda\" xlink:show=\"new\" xlink:title=\"psysml:93463b7d-149f-4a15-b84b-177a9e530eda\" xlink:type=\"simple\"><path d=\"M65,418.44 C65,433.87 65,451.47 65,464.98 \" fill=\"none\" id=\"E5&lt;-E6\" style=\"stroke: #A80036; stroke-width: 1.0;\"/><polygon fill=\"#A80036\" points=\"65,405.06,61,411.06,65,417.06,69,411.06,65,405.06\" style=\"stroke: #A80036; stroke-width: 1.0;\"/></a><!--MD5=[dc164f5e8a733ab456ef1add180e9e34]\n",
       "reverse link E7 to E8--><a href=\"psysml:de6f8f38-3125-456b-a954-15a696931b63\" target=\"_top\" title=\"psysml:de6f8f38-3125-456b-a954-15a696931b63\" xlink:actuate=\"onRequest\" xlink:href=\"psysml:de6f8f38-3125-456b-a954-15a696931b63\" xlink:show=\"new\" xlink:title=\"psysml:de6f8f38-3125-456b-a954-15a696931b63\" xlink:type=\"simple\"><path d=\"M107.95,205.49 C112.91,221.15 118.64,239.19 123.01,252.98 \" fill=\"none\" id=\"E7&lt;-E8\" style=\"stroke: #A80036; stroke-width: 1.0;\"/><polygon fill=\"#A80036\" points=\"104,193.06,101.9989,199.9879,107.6243,204.4996,109.6253,197.5717,104,193.06\" style=\"stroke: #A80036; stroke-width: 1.0;\"/></a><!--MD5=[f1f3f9f2fc535e6147756cb86a7f2e32]\n",
       "link E8 to E2--><a href=\"psysml:536a95df-7241-4403-bcab-1aa9fe7a4b7d\" target=\"_top\" title=\"psysml:536a95df-7241-4403-bcab-1aa9fe7a4b7d\" xlink:actuate=\"onRequest\" xlink:href=\"psysml:536a95df-7241-4403-bcab-1aa9fe7a4b7d\" xlink:show=\"new\" xlink:title=\"psysml:536a95df-7241-4403-bcab-1aa9fe7a4b7d\" xlink:type=\"simple\"><path d=\"M140.6,299.06 C146.44,311.19 153.86,326.62 160.68,340.82 \" fill=\"none\" id=\"E8-&gt;E2\" style=\"stroke: #A80036; stroke-width: 1.0;\"/><polygon fill=\"#FFFFFF\" points=\"169.41,358.98,154.8709,344.8869,167.4894,338.8228,169.41,358.98\" style=\"stroke: #A80036; stroke-width: 1.0;\"/><ellipse cx=\"154.2046\" cy=\"338.8831\" fill=\"#A80036\" rx=\"2\" ry=\"2\" style=\"stroke: #A80036; stroke-width: 1.0;\"/><ellipse cx=\"163.2178\" cy=\"334.5516\" fill=\"#A80036\" rx=\"2\" ry=\"2\" style=\"stroke: #A80036; stroke-width: 1.0;\"/></a><!--MD5=[e4a10ef82d0e328e31cac39a31e58dda]\n",
       "reverse link E7 to E9--><a href=\"psysml:2c441a1b-e979-4985-bcd5-61f8c13172d0\" target=\"_top\" title=\"psysml:2c441a1b-e979-4985-bcd5-61f8c13172d0\" xlink:actuate=\"onRequest\" xlink:href=\"psysml:2c441a1b-e979-4985-bcd5-61f8c13172d0\" xlink:show=\"new\" xlink:title=\"psysml:2c441a1b-e979-4985-bcd5-61f8c13172d0\" xlink:type=\"simple\"><path d=\"M82.41,205.49 C75.78,221.15 68.15,239.19 62.32,252.98 \" fill=\"none\" id=\"E7&lt;-E9\" style=\"stroke: #A80036; stroke-width: 1.0;\"/><polygon fill=\"#A80036\" points=\"87.67,193.06,81.6505,197.0305,83.0003,204.1142,89.0199,200.1436,87.67,193.06\" style=\"stroke: #A80036; stroke-width: 1.0;\"/></a><!--MD5=[bfc3ddf2e613be37104f658f09af896c]\n",
       "link E9 to E5--><a href=\"psysml:fc8a5d52-f7b0-45e1-9a4f-1e932b65f071\" target=\"_top\" title=\"psysml:fc8a5d52-f7b0-45e1-9a4f-1e932b65f071\" xlink:actuate=\"onRequest\" xlink:href=\"psysml:fc8a5d52-f7b0-45e1-9a4f-1e932b65f071\" xlink:show=\"new\" xlink:title=\"psysml:fc8a5d52-f7b0-45e1-9a4f-1e932b65f071\" xlink:type=\"simple\"><path d=\"M55.54,299.06 C56.88,310.64 58.56,325.23 60.14,338.87 \" fill=\"none\" id=\"E9-&gt;E5\" style=\"stroke: #A80036; stroke-width: 1.0;\"/><polygon fill=\"#FFFFFF\" points=\"62.46,358.98,53.3347,340.9044,67.243,339.3046,62.46,358.98\" style=\"stroke: #A80036; stroke-width: 1.0;\"/><ellipse cx=\"54.6702\" cy=\"335.0132\" fill=\"#A80036\" rx=\"2\" ry=\"2\" style=\"stroke: #A80036; stroke-width: 1.0;\"/><ellipse cx=\"64.6047\" cy=\"333.8704\" fill=\"#A80036\" rx=\"2\" ry=\"2\" style=\"stroke: #A80036; stroke-width: 1.0;\"/></a><!--MD5=[a919e0967d6f3de553dc51b9865a1d6d]\n",
       "link E10 to E7--><a href=\"psysml:2e3833d6-0a03-41e5-9593-325ba84dff2e\" target=\"_top\" title=\"psysml:2e3833d6-0a03-41e5-9593-325ba84dff2e\" xlink:actuate=\"onRequest\" xlink:href=\"psysml:2e3833d6-0a03-41e5-9593-325ba84dff2e\" xlink:show=\"new\" xlink:title=\"psysml:2e3833d6-0a03-41e5-9593-325ba84dff2e\" xlink:type=\"simple\"><path d=\"M97,87.06 C97,98.64 97,113.23 97,126.87 \" fill=\"none\" id=\"E10-&gt;E7\" style=\"stroke: #A80036; stroke-width: 1.0;\"/><polygon fill=\"#FFFFFF\" points=\"97,146.98,90,127.98,104,127.98,97,146.98\" style=\"stroke: #A80036; stroke-width: 1.0;\"/><ellipse cx=\"92\" cy=\"122.28\" fill=\"#A80036\" rx=\"2\" ry=\"2\" style=\"stroke: #A80036; stroke-width: 1.0;\"/><ellipse cx=\"102\" cy=\"122.28\" fill=\"#A80036\" rx=\"2\" ry=\"2\" style=\"stroke: #A80036; stroke-width: 1.0;\"/></a><!--MD5=[8dba09f7c70edadd410024ac7b3bea83]\n",
       "@startuml\r\n",
       "skinparam wrapWidth 300\r\n",
       "hide circle\r\n",
       "\r\n",
       "package \"Q\" as E1  [[psysml:427a19be-4ba6-433c-b392-6823bf74d458 ]]  {\r\n",
       "comp def \"F\" as E2  <<(T,blue) part def>> [[psysml:027effde-34e9-4491-ba0c-9f82cacaad23 ]] {\r\n",
       "}\r\n",
       "comp usage \"a\" as E3  <<(T,blue) part>> [[psysml:241a9b2a-e9cc-4b19-964a-2424b61c0639 ]] {\r\n",
       "}\r\n",
       "comp usage \"f: F\" as E4  <<(T,blue) part>> [[psysml:40835df5-3f1f-4886-9446-1465d21ad736 ]] {\r\n",
       "}\r\n",
       "comp def \"A\" as E5  <<(T,blue) part def>> [[psysml:299c2c32-5ec1-43b2-a066-b7748b01150c ]] {\r\n",
       "}\r\n",
       "comp usage \"g\" as E6  <<(T,blue) part>> [[psysml:31dec55f-8acf-4d42-bd51-f4047894820c ]] {\r\n",
       "}\r\n",
       "comp def \"B\" as E7  <<(T,blue) part def>> [[psysml:e57a8ff4-b454-49af-9671-50f81189572a ]] {\r\n",
       "}\r\n",
       "comp usage \"f: F\" as E8  <<(T,blue) part>> [[psysml:ae9b8861-e9cc-45e7-97b3-375fd90ac7d9 ]] {\r\n",
       "}\r\n",
       "comp usage \"a: A\" as E9  <<(T,blue) part>> [[psysml:d620b19b-a1e2-497d-8cad-3b2dc38fedc0 ]] {\r\n",
       "}\r\n",
       "comp usage \"b: B\" as E10  <<(T,blue) part>> [[psysml:f9a1a989-561d-4119-971e-8ebceafa94b4 ]] {\r\n",
       "}\r\n",
       "E2 *- - E3 [[psysml:5ee10b2b-55c1-4a08-a13b-bdb74e3f50e5 ]] \r\n",
       "E4 - -:|> E2 [[psysml:c4c1c0e2-eca3-4dc3-a203-c30912c3ab2b ]] \r\n",
       "E5 *- - E6 [[psysml:93463b7d-149f-4a15-b84b-177a9e530eda ]] \r\n",
       "E7 *- - E8 [[psysml:de6f8f38-3125-456b-a954-15a696931b63 ]] \r\n",
       "E8 - -:|> E2 [[psysml:536a95df-7241-4403-bcab-1aa9fe7a4b7d ]] \r\n",
       "E7 *- - E9 [[psysml:2c441a1b-e979-4985-bcd5-61f8c13172d0 ]] \r\n",
       "E9 - -:|> E5 [[psysml:fc8a5d52-f7b0-45e1-9a4f-1e932b65f071 ]] \r\n",
       "E10 - -:|> E7 [[psysml:2e3833d6-0a03-41e5-9593-325ba84dff2e ]] \r\n",
       "}\r\n",
       "@enduml\r\n",
       "\n",
       "PlantUML version 1.2020.13(Sat Jun 13 12:26:38 UTC 2020)\n",
       "(EPL source distribution)\n",
       "Java Runtime: OpenJDK Runtime Environment\n",
       "JVM: OpenJDK 64-Bit Server VM\n",
       "Default Encoding: UTF-8\n",
       "Language: en\n",
       "Country: null\n",
       "--></g></svg>"
      ]
     },
     "execution_count": 23,
     "metadata": {},
     "output_type": "execute_result"
    }
   ],
   "source": [
    "%viz --style=\"STDCOLOR\" --view=\"Default\" \"Q\""
   ]
  },
  {
   "cell_type": "code",
   "execution_count": 24,
   "id": "2701a163",
   "metadata": {
    "execution": {
     "iopub.execute_input": "2021-06-30T09:23:32.870455Z",
     "iopub.status.busy": "2021-06-30T09:23:32.868379Z",
     "iopub.status.idle": "2021-06-30T09:23:33.047722Z",
     "shell.execute_reply": "2021-06-30T09:23:33.040362Z"
    }
   },
   "outputs": [
    {
     "data": {
      "image/svg+xml": [
       "<?xml version=\"1.0\" encoding=\"UTF-8\" standalone=\"no\"?><svg xmlns=\"http://www.w3.org/2000/svg\" xmlns:xlink=\"http://www.w3.org/1999/xlink\" contentScriptType=\"application/ecmascript\" contentStyleType=\"text/css\" height=\"539px\" preserveAspectRatio=\"none\" style=\"width:266px;height:539px;\" version=\"1.1\" viewBox=\"0 0 266 539\" width=\"266px\" zoomAndPan=\"magnify\"><defs><filter height=\"300%\" id=\"fnq6gryv2tfkt\" width=\"300%\" x=\"-1\" y=\"-1\"><feGaussianBlur result=\"blurOut\" stdDeviation=\"2.0\"/><feColorMatrix in=\"blurOut\" result=\"blurOut2\" type=\"matrix\" values=\"0 0 0 0 0 0 0 0 0 0 0 0 0 0 0 0 0 0 .4 0\"/><feOffset dx=\"4.0\" dy=\"4.0\" in=\"blurOut2\" result=\"blurOut3\"/><feBlend in=\"SourceGraphic\" in2=\"blurOut3\" mode=\"normal\"/></filter></defs><g><!--MD5=[fbc87193dbaf4d95561dea2c320d4a47]\n",
       "cluster E1--><a href=\"psysml:427a19be-4ba6-433c-b392-6823bf74d458\" target=\"_top\" title=\"psysml:427a19be-4ba6-433c-b392-6823bf74d458\" xlink:actuate=\"onRequest\" xlink:href=\"psysml:427a19be-4ba6-433c-b392-6823bf74d458\" xlink:show=\"new\" xlink:title=\"psysml:427a19be-4ba6-433c-b392-6823bf74d458\" xlink:type=\"simple\"><polygon fill=\"#FFFFFF\" filter=\"url(#fnq6gryv2tfkt)\" points=\"16,6,34,6,41,28.2969,244,28.2969,244,527,16,527,16,6\" style=\"stroke: #000000; stroke-width: 1.5;\"/><line style=\"stroke: #000000; stroke-width: 1.5;\" x1=\"16\" x2=\"41\" y1=\"28.2969\" y2=\"28.2969\"/><text fill=\"#000000\" font-family=\"sans-serif\" font-size=\"14\" font-weight=\"bold\" lengthAdjust=\"spacingAndGlyphs\" textLength=\"12\" x=\"20\" y=\"20.9951\">Q</text></a><!--MD5=[b4997ac47864f28c2f74865a473b2911]\n",
       "class E2--><a href=\"psysml:027effde-34e9-4491-ba0c-9f82cacaad23\" target=\"_top\" title=\"psysml:027effde-34e9-4491-ba0c-9f82cacaad23\" xlink:actuate=\"onRequest\" xlink:href=\"psysml:027effde-34e9-4491-ba0c-9f82cacaad23\" xlink:show=\"new\" xlink:title=\"psysml:027effde-34e9-4491-ba0c-9f82cacaad23\" xlink:type=\"simple\"><rect fill=\"#FEFECE\" filter=\"url(#fnq6gryv2tfkt)\" height=\"45.9375\" id=\"E2\" style=\"stroke: #A80036; stroke-width: 1.5;\" width=\"66\" x=\"147\" y=\"359\"/><text fill=\"#000000\" font-family=\"sans-serif\" font-size=\"12\" font-style=\"italic\" lengthAdjust=\"spacingAndGlyphs\" textLength=\"64\" x=\"148\" y=\"375.1387\">«part def»</text><text fill=\"#000000\" font-family=\"sans-serif\" font-size=\"12\" lengthAdjust=\"spacingAndGlyphs\" textLength=\"7\" x=\"176.5\" y=\"389.1074\">F</text><line style=\"stroke: #A80036; stroke-width: 1.5;\" x1=\"148\" x2=\"212\" y1=\"396.9375\" y2=\"396.9375\"/></a><!--MD5=[09b614a08d8cba4a07c9adeb5e0fee81]\n",
       "class E3--><a href=\"psysml:241a9b2a-e9cc-4b19-964a-2424b61c0639\" target=\"_top\" title=\"psysml:241a9b2a-e9cc-4b19-964a-2424b61c0639\" xlink:actuate=\"onRequest\" xlink:href=\"psysml:241a9b2a-e9cc-4b19-964a-2424b61c0639\" xlink:show=\"new\" xlink:title=\"psysml:241a9b2a-e9cc-4b19-964a-2424b61c0639\" xlink:type=\"simple\"><rect fill=\"#FEFECE\" filter=\"url(#fnq6gryv2tfkt)\" height=\"45.9375\" id=\"E3\" rx=\"10\" ry=\"10\" style=\"stroke: #A80036; stroke-width: 1.5;\" width=\"42\" x=\"159\" y=\"465\"/><text fill=\"#000000\" font-family=\"sans-serif\" font-size=\"12\" font-style=\"italic\" lengthAdjust=\"spacingAndGlyphs\" textLength=\"40\" x=\"160\" y=\"481.1387\">«part»</text><text fill=\"#000000\" font-family=\"sans-serif\" font-size=\"12\" lengthAdjust=\"spacingAndGlyphs\" textLength=\"8\" x=\"176\" y=\"495.1074\">a</text><line style=\"stroke: #A80036; stroke-width: 1.5;\" x1=\"160\" x2=\"200\" y1=\"502.9375\" y2=\"502.9375\"/></a><!--MD5=[ebbe1d658d1005bcc118a6aa81145e00]\n",
       "class E4--><a href=\"psysml:40835df5-3f1f-4886-9446-1465d21ad736\" target=\"_top\" title=\"psysml:40835df5-3f1f-4886-9446-1465d21ad736\" xlink:actuate=\"onRequest\" xlink:href=\"psysml:40835df5-3f1f-4886-9446-1465d21ad736\" xlink:show=\"new\" xlink:title=\"psysml:40835df5-3f1f-4886-9446-1465d21ad736\" xlink:type=\"simple\"><rect fill=\"#FEFECE\" filter=\"url(#fnq6gryv2tfkt)\" height=\"45.9375\" id=\"E4\" rx=\"10\" ry=\"10\" style=\"stroke: #A80036; stroke-width: 1.5;\" width=\"42\" x=\"186\" y=\"253\"/><text fill=\"#000000\" font-family=\"sans-serif\" font-size=\"12\" font-style=\"italic\" lengthAdjust=\"spacingAndGlyphs\" textLength=\"40\" x=\"187\" y=\"269.1387\">«part»</text><text fill=\"#000000\" font-family=\"sans-serif\" font-size=\"12\" lengthAdjust=\"spacingAndGlyphs\" textLength=\"19\" x=\"197.5\" y=\"283.1074\">f: F</text><line style=\"stroke: #A80036; stroke-width: 1.5;\" x1=\"187\" x2=\"227\" y1=\"290.9375\" y2=\"290.9375\"/></a><!--MD5=[270fce915f116d4de14055a7c1d9a0f3]\n",
       "class E5--><a href=\"psysml:299c2c32-5ec1-43b2-a066-b7748b01150c\" target=\"_top\" title=\"psysml:299c2c32-5ec1-43b2-a066-b7748b01150c\" xlink:actuate=\"onRequest\" xlink:href=\"psysml:299c2c32-5ec1-43b2-a066-b7748b01150c\" xlink:show=\"new\" xlink:title=\"psysml:299c2c32-5ec1-43b2-a066-b7748b01150c\" xlink:type=\"simple\"><rect fill=\"#FEFECE\" filter=\"url(#fnq6gryv2tfkt)\" height=\"45.9375\" id=\"E5\" style=\"stroke: #A80036; stroke-width: 1.5;\" width=\"66\" x=\"32\" y=\"359\"/><text fill=\"#000000\" font-family=\"sans-serif\" font-size=\"12\" font-style=\"italic\" lengthAdjust=\"spacingAndGlyphs\" textLength=\"64\" x=\"33\" y=\"375.1387\">«part def»</text><text fill=\"#000000\" font-family=\"sans-serif\" font-size=\"12\" lengthAdjust=\"spacingAndGlyphs\" textLength=\"8\" x=\"61\" y=\"389.1074\">A</text><line style=\"stroke: #A80036; stroke-width: 1.5;\" x1=\"33\" x2=\"97\" y1=\"396.9375\" y2=\"396.9375\"/></a><!--MD5=[60a26617385b1d2d0262a64233df1f8d]\n",
       "class E6--><a href=\"psysml:31dec55f-8acf-4d42-bd51-f4047894820c\" target=\"_top\" title=\"psysml:31dec55f-8acf-4d42-bd51-f4047894820c\" xlink:actuate=\"onRequest\" xlink:href=\"psysml:31dec55f-8acf-4d42-bd51-f4047894820c\" xlink:show=\"new\" xlink:title=\"psysml:31dec55f-8acf-4d42-bd51-f4047894820c\" xlink:type=\"simple\"><rect fill=\"#FEFECE\" filter=\"url(#fnq6gryv2tfkt)\" height=\"45.9375\" id=\"E6\" rx=\"10\" ry=\"10\" style=\"stroke: #A80036; stroke-width: 1.5;\" width=\"42\" x=\"44\" y=\"465\"/><text fill=\"#000000\" font-family=\"sans-serif\" font-size=\"12\" font-style=\"italic\" lengthAdjust=\"spacingAndGlyphs\" textLength=\"40\" x=\"45\" y=\"481.1387\">«part»</text><text fill=\"#000000\" font-family=\"sans-serif\" font-size=\"12\" lengthAdjust=\"spacingAndGlyphs\" textLength=\"8\" x=\"61\" y=\"495.1074\">g</text><line style=\"stroke: #A80036; stroke-width: 1.5;\" x1=\"45\" x2=\"85\" y1=\"502.9375\" y2=\"502.9375\"/></a><!--MD5=[2156ba9850f5573cc1fc38a6a4b2f02b]\n",
       "class E7--><a href=\"psysml:e57a8ff4-b454-49af-9671-50f81189572a\" target=\"_top\" title=\"psysml:e57a8ff4-b454-49af-9671-50f81189572a\" xlink:actuate=\"onRequest\" xlink:href=\"psysml:e57a8ff4-b454-49af-9671-50f81189572a\" xlink:show=\"new\" xlink:title=\"psysml:e57a8ff4-b454-49af-9671-50f81189572a\" xlink:type=\"simple\"><rect fill=\"#FEFECE\" filter=\"url(#fnq6gryv2tfkt)\" height=\"45.9375\" id=\"E7\" style=\"stroke: #A80036; stroke-width: 1.5;\" width=\"66\" x=\"64\" y=\"147\"/><text fill=\"#000000\" font-family=\"sans-serif\" font-size=\"12\" font-style=\"italic\" lengthAdjust=\"spacingAndGlyphs\" textLength=\"64\" x=\"65\" y=\"163.1387\">«part def»</text><text fill=\"#000000\" font-family=\"sans-serif\" font-size=\"12\" lengthAdjust=\"spacingAndGlyphs\" textLength=\"8\" x=\"93\" y=\"177.1074\">B</text><line style=\"stroke: #A80036; stroke-width: 1.5;\" x1=\"65\" x2=\"129\" y1=\"184.9375\" y2=\"184.9375\"/></a><!--MD5=[b9389687b975829384b498ac4b7476b2]\n",
       "class E8--><a href=\"psysml:ae9b8861-e9cc-45e7-97b3-375fd90ac7d9\" target=\"_top\" title=\"psysml:ae9b8861-e9cc-45e7-97b3-375fd90ac7d9\" xlink:actuate=\"onRequest\" xlink:href=\"psysml:ae9b8861-e9cc-45e7-97b3-375fd90ac7d9\" xlink:show=\"new\" xlink:title=\"psysml:ae9b8861-e9cc-45e7-97b3-375fd90ac7d9\" xlink:type=\"simple\"><rect fill=\"#FEFECE\" filter=\"url(#fnq6gryv2tfkt)\" height=\"45.9375\" id=\"E8\" rx=\"10\" ry=\"10\" style=\"stroke: #A80036; stroke-width: 1.5;\" width=\"42\" x=\"109\" y=\"253\"/><text fill=\"#000000\" font-family=\"sans-serif\" font-size=\"12\" font-style=\"italic\" lengthAdjust=\"spacingAndGlyphs\" textLength=\"40\" x=\"110\" y=\"269.1387\">«part»</text><text fill=\"#000000\" font-family=\"sans-serif\" font-size=\"12\" lengthAdjust=\"spacingAndGlyphs\" textLength=\"19\" x=\"120.5\" y=\"283.1074\">f: F</text><line style=\"stroke: #A80036; stroke-width: 1.5;\" x1=\"110\" x2=\"150\" y1=\"290.9375\" y2=\"290.9375\"/></a><!--MD5=[fd4143e9d270a159db93a4ea2a975926]\n",
       "class E9--><a href=\"psysml:d620b19b-a1e2-497d-8cad-3b2dc38fedc0\" target=\"_top\" title=\"psysml:d620b19b-a1e2-497d-8cad-3b2dc38fedc0\" xlink:actuate=\"onRequest\" xlink:href=\"psysml:d620b19b-a1e2-497d-8cad-3b2dc38fedc0\" xlink:show=\"new\" xlink:title=\"psysml:d620b19b-a1e2-497d-8cad-3b2dc38fedc0\" xlink:type=\"simple\"><rect fill=\"#FEFECE\" filter=\"url(#fnq6gryv2tfkt)\" height=\"45.9375\" id=\"E9\" rx=\"10\" ry=\"10\" style=\"stroke: #A80036; stroke-width: 1.5;\" width=\"42\" x=\"32\" y=\"253\"/><text fill=\"#000000\" font-family=\"sans-serif\" font-size=\"12\" font-style=\"italic\" lengthAdjust=\"spacingAndGlyphs\" textLength=\"40\" x=\"33\" y=\"269.1387\">«part»</text><text fill=\"#000000\" font-family=\"sans-serif\" font-size=\"12\" lengthAdjust=\"spacingAndGlyphs\" textLength=\"24\" x=\"41\" y=\"283.1074\">a: A</text><line style=\"stroke: #A80036; stroke-width: 1.5;\" x1=\"33\" x2=\"73\" y1=\"290.9375\" y2=\"290.9375\"/></a><!--MD5=[96f4274e9e20536e775497830990834d]\n",
       "class E10--><a href=\"psysml:f9a1a989-561d-4119-971e-8ebceafa94b4\" target=\"_top\" title=\"psysml:f9a1a989-561d-4119-971e-8ebceafa94b4\" xlink:actuate=\"onRequest\" xlink:href=\"psysml:f9a1a989-561d-4119-971e-8ebceafa94b4\" xlink:show=\"new\" xlink:title=\"psysml:f9a1a989-561d-4119-971e-8ebceafa94b4\" xlink:type=\"simple\"><rect fill=\"#FEFECE\" filter=\"url(#fnq6gryv2tfkt)\" height=\"45.9375\" id=\"E10\" rx=\"10\" ry=\"10\" style=\"stroke: #A80036; stroke-width: 1.5;\" width=\"42\" x=\"76\" y=\"41\"/><text fill=\"#000000\" font-family=\"sans-serif\" font-size=\"12\" font-style=\"italic\" lengthAdjust=\"spacingAndGlyphs\" textLength=\"40\" x=\"77\" y=\"57.1387\">«part»</text><text fill=\"#000000\" font-family=\"sans-serif\" font-size=\"12\" lengthAdjust=\"spacingAndGlyphs\" textLength=\"24\" x=\"85\" y=\"71.1074\">b: B</text><line style=\"stroke: #A80036; stroke-width: 1.5;\" x1=\"77\" x2=\"117\" y1=\"78.9375\" y2=\"78.9375\"/></a><!--MD5=[209b3feb70ccb6233bfe1053d122c12c]\n",
       "reverse link E2 to E3--><a href=\"psysml:5ee10b2b-55c1-4a08-a13b-bdb74e3f50e5\" target=\"_top\" title=\"psysml:5ee10b2b-55c1-4a08-a13b-bdb74e3f50e5\" xlink:actuate=\"onRequest\" xlink:href=\"psysml:5ee10b2b-55c1-4a08-a13b-bdb74e3f50e5\" xlink:show=\"new\" xlink:title=\"psysml:5ee10b2b-55c1-4a08-a13b-bdb74e3f50e5\" xlink:type=\"simple\"><path d=\"M180,418.44 C180,433.87 180,451.47 180,464.98 \" fill=\"none\" id=\"E2&lt;-E3\" style=\"stroke: #A80036; stroke-width: 1.0;\"/><polygon fill=\"#A80036\" points=\"180,405.06,176,411.06,180,417.06,184,411.06,180,405.06\" style=\"stroke: #A80036; stroke-width: 1.0;\"/></a><!--MD5=[185131fc0dcab0a4505a2ebe144e961b]\n",
       "link E4 to E2--><a href=\"psysml:c4c1c0e2-eca3-4dc3-a203-c30912c3ab2b\" target=\"_top\" title=\"psysml:c4c1c0e2-eca3-4dc3-a203-c30912c3ab2b\" xlink:actuate=\"onRequest\" xlink:href=\"psysml:c4c1c0e2-eca3-4dc3-a203-c30912c3ab2b\" xlink:show=\"new\" xlink:title=\"psysml:c4c1c0e2-eca3-4dc3-a203-c30912c3ab2b\" xlink:type=\"simple\"><path d=\"M201.27,299.06 C198.23,310.78 194.39,325.57 190.81,339.36 \" fill=\"none\" id=\"E4-&gt;E2\" style=\"stroke: #A80036; stroke-width: 1.0;\"/><polygon fill=\"#FFFFFF\" points=\"185.72,358.98,183.7221,338.8303,197.2724,342.3504,185.72,358.98\" style=\"stroke: #A80036; stroke-width: 1.0;\"/><ellipse cx=\"187.091\" cy=\"333.8163\" fill=\"#A80036\" rx=\"2\" ry=\"2\" style=\"stroke: #A80036; stroke-width: 1.0;\"/><ellipse cx=\"196.7698\" cy=\"336.3307\" fill=\"#A80036\" rx=\"2\" ry=\"2\" style=\"stroke: #A80036; stroke-width: 1.0;\"/></a><!--MD5=[85d356282659285ab4b2cfe2f634dd2b]\n",
       "reverse link E5 to E6--><a href=\"psysml:93463b7d-149f-4a15-b84b-177a9e530eda\" target=\"_top\" title=\"psysml:93463b7d-149f-4a15-b84b-177a9e530eda\" xlink:actuate=\"onRequest\" xlink:href=\"psysml:93463b7d-149f-4a15-b84b-177a9e530eda\" xlink:show=\"new\" xlink:title=\"psysml:93463b7d-149f-4a15-b84b-177a9e530eda\" xlink:type=\"simple\"><path d=\"M65,418.44 C65,433.87 65,451.47 65,464.98 \" fill=\"none\" id=\"E5&lt;-E6\" style=\"stroke: #A80036; stroke-width: 1.0;\"/><polygon fill=\"#A80036\" points=\"65,405.06,61,411.06,65,417.06,69,411.06,65,405.06\" style=\"stroke: #A80036; stroke-width: 1.0;\"/></a><!--MD5=[dc164f5e8a733ab456ef1add180e9e34]\n",
       "reverse link E7 to E8--><a href=\"psysml:de6f8f38-3125-456b-a954-15a696931b63\" target=\"_top\" title=\"psysml:de6f8f38-3125-456b-a954-15a696931b63\" xlink:actuate=\"onRequest\" xlink:href=\"psysml:de6f8f38-3125-456b-a954-15a696931b63\" xlink:show=\"new\" xlink:title=\"psysml:de6f8f38-3125-456b-a954-15a696931b63\" xlink:type=\"simple\"><path d=\"M107.95,205.49 C112.91,221.15 118.64,239.19 123.01,252.98 \" fill=\"none\" id=\"E7&lt;-E8\" style=\"stroke: #A80036; stroke-width: 1.0;\"/><polygon fill=\"#A80036\" points=\"104,193.06,101.9989,199.9879,107.6243,204.4996,109.6253,197.5717,104,193.06\" style=\"stroke: #A80036; stroke-width: 1.0;\"/></a><!--MD5=[f1f3f9f2fc535e6147756cb86a7f2e32]\n",
       "link E8 to E2--><a href=\"psysml:536a95df-7241-4403-bcab-1aa9fe7a4b7d\" target=\"_top\" title=\"psysml:536a95df-7241-4403-bcab-1aa9fe7a4b7d\" xlink:actuate=\"onRequest\" xlink:href=\"psysml:536a95df-7241-4403-bcab-1aa9fe7a4b7d\" xlink:show=\"new\" xlink:title=\"psysml:536a95df-7241-4403-bcab-1aa9fe7a4b7d\" xlink:type=\"simple\"><path d=\"M140.6,299.06 C146.44,311.19 153.86,326.62 160.68,340.82 \" fill=\"none\" id=\"E8-&gt;E2\" style=\"stroke: #A80036; stroke-width: 1.0;\"/><polygon fill=\"#FFFFFF\" points=\"169.41,358.98,154.8709,344.8869,167.4894,338.8228,169.41,358.98\" style=\"stroke: #A80036; stroke-width: 1.0;\"/><ellipse cx=\"154.2046\" cy=\"338.8831\" fill=\"#A80036\" rx=\"2\" ry=\"2\" style=\"stroke: #A80036; stroke-width: 1.0;\"/><ellipse cx=\"163.2178\" cy=\"334.5516\" fill=\"#A80036\" rx=\"2\" ry=\"2\" style=\"stroke: #A80036; stroke-width: 1.0;\"/></a><!--MD5=[e4a10ef82d0e328e31cac39a31e58dda]\n",
       "reverse link E7 to E9--><a href=\"psysml:2c441a1b-e979-4985-bcd5-61f8c13172d0\" target=\"_top\" title=\"psysml:2c441a1b-e979-4985-bcd5-61f8c13172d0\" xlink:actuate=\"onRequest\" xlink:href=\"psysml:2c441a1b-e979-4985-bcd5-61f8c13172d0\" xlink:show=\"new\" xlink:title=\"psysml:2c441a1b-e979-4985-bcd5-61f8c13172d0\" xlink:type=\"simple\"><path d=\"M82.41,205.49 C75.78,221.15 68.15,239.19 62.32,252.98 \" fill=\"none\" id=\"E7&lt;-E9\" style=\"stroke: #A80036; stroke-width: 1.0;\"/><polygon fill=\"#A80036\" points=\"87.67,193.06,81.6505,197.0305,83.0003,204.1142,89.0199,200.1436,87.67,193.06\" style=\"stroke: #A80036; stroke-width: 1.0;\"/></a><!--MD5=[bfc3ddf2e613be37104f658f09af896c]\n",
       "link E9 to E5--><a href=\"psysml:fc8a5d52-f7b0-45e1-9a4f-1e932b65f071\" target=\"_top\" title=\"psysml:fc8a5d52-f7b0-45e1-9a4f-1e932b65f071\" xlink:actuate=\"onRequest\" xlink:href=\"psysml:fc8a5d52-f7b0-45e1-9a4f-1e932b65f071\" xlink:show=\"new\" xlink:title=\"psysml:fc8a5d52-f7b0-45e1-9a4f-1e932b65f071\" xlink:type=\"simple\"><path d=\"M55.54,299.06 C56.88,310.64 58.56,325.23 60.14,338.87 \" fill=\"none\" id=\"E9-&gt;E5\" style=\"stroke: #A80036; stroke-width: 1.0;\"/><polygon fill=\"#FFFFFF\" points=\"62.46,358.98,53.3347,340.9044,67.243,339.3046,62.46,358.98\" style=\"stroke: #A80036; stroke-width: 1.0;\"/><ellipse cx=\"54.6702\" cy=\"335.0132\" fill=\"#A80036\" rx=\"2\" ry=\"2\" style=\"stroke: #A80036; stroke-width: 1.0;\"/><ellipse cx=\"64.6047\" cy=\"333.8704\" fill=\"#A80036\" rx=\"2\" ry=\"2\" style=\"stroke: #A80036; stroke-width: 1.0;\"/></a><!--MD5=[a919e0967d6f3de553dc51b9865a1d6d]\n",
       "link E10 to E7--><a href=\"psysml:2e3833d6-0a03-41e5-9593-325ba84dff2e\" target=\"_top\" title=\"psysml:2e3833d6-0a03-41e5-9593-325ba84dff2e\" xlink:actuate=\"onRequest\" xlink:href=\"psysml:2e3833d6-0a03-41e5-9593-325ba84dff2e\" xlink:show=\"new\" xlink:title=\"psysml:2e3833d6-0a03-41e5-9593-325ba84dff2e\" xlink:type=\"simple\"><path d=\"M97,87.06 C97,98.64 97,113.23 97,126.87 \" fill=\"none\" id=\"E10-&gt;E7\" style=\"stroke: #A80036; stroke-width: 1.0;\"/><polygon fill=\"#FFFFFF\" points=\"97,146.98,90,127.98,104,127.98,97,146.98\" style=\"stroke: #A80036; stroke-width: 1.0;\"/><ellipse cx=\"92\" cy=\"122.28\" fill=\"#A80036\" rx=\"2\" ry=\"2\" style=\"stroke: #A80036; stroke-width: 1.0;\"/><ellipse cx=\"102\" cy=\"122.28\" fill=\"#A80036\" rx=\"2\" ry=\"2\" style=\"stroke: #A80036; stroke-width: 1.0;\"/></a><!--MD5=[8dba09f7c70edadd410024ac7b3bea83]\n",
       "@startuml\r\n",
       "skinparam wrapWidth 300\r\n",
       "hide circle\r\n",
       "\r\n",
       "package \"Q\" as E1  [[psysml:427a19be-4ba6-433c-b392-6823bf74d458 ]]  {\r\n",
       "comp def \"F\" as E2  <<(T,blue) part def>> [[psysml:027effde-34e9-4491-ba0c-9f82cacaad23 ]] {\r\n",
       "}\r\n",
       "comp usage \"a\" as E3  <<(T,blue) part>> [[psysml:241a9b2a-e9cc-4b19-964a-2424b61c0639 ]] {\r\n",
       "}\r\n",
       "comp usage \"f: F\" as E4  <<(T,blue) part>> [[psysml:40835df5-3f1f-4886-9446-1465d21ad736 ]] {\r\n",
       "}\r\n",
       "comp def \"A\" as E5  <<(T,blue) part def>> [[psysml:299c2c32-5ec1-43b2-a066-b7748b01150c ]] {\r\n",
       "}\r\n",
       "comp usage \"g\" as E6  <<(T,blue) part>> [[psysml:31dec55f-8acf-4d42-bd51-f4047894820c ]] {\r\n",
       "}\r\n",
       "comp def \"B\" as E7  <<(T,blue) part def>> [[psysml:e57a8ff4-b454-49af-9671-50f81189572a ]] {\r\n",
       "}\r\n",
       "comp usage \"f: F\" as E8  <<(T,blue) part>> [[psysml:ae9b8861-e9cc-45e7-97b3-375fd90ac7d9 ]] {\r\n",
       "}\r\n",
       "comp usage \"a: A\" as E9  <<(T,blue) part>> [[psysml:d620b19b-a1e2-497d-8cad-3b2dc38fedc0 ]] {\r\n",
       "}\r\n",
       "comp usage \"b: B\" as E10  <<(T,blue) part>> [[psysml:f9a1a989-561d-4119-971e-8ebceafa94b4 ]] {\r\n",
       "}\r\n",
       "E2 *- - E3 [[psysml:5ee10b2b-55c1-4a08-a13b-bdb74e3f50e5 ]] \r\n",
       "E4 - -:|> E2 [[psysml:c4c1c0e2-eca3-4dc3-a203-c30912c3ab2b ]] \r\n",
       "E5 *- - E6 [[psysml:93463b7d-149f-4a15-b84b-177a9e530eda ]] \r\n",
       "E7 *- - E8 [[psysml:de6f8f38-3125-456b-a954-15a696931b63 ]] \r\n",
       "E8 - -:|> E2 [[psysml:536a95df-7241-4403-bcab-1aa9fe7a4b7d ]] \r\n",
       "E7 *- - E9 [[psysml:2c441a1b-e979-4985-bcd5-61f8c13172d0 ]] \r\n",
       "E9 - -:|> E5 [[psysml:fc8a5d52-f7b0-45e1-9a4f-1e932b65f071 ]] \r\n",
       "E10 - -:|> E7 [[psysml:2e3833d6-0a03-41e5-9593-325ba84dff2e ]] \r\n",
       "}\r\n",
       "@enduml\r\n",
       "\n",
       "PlantUML version 1.2020.13(Sat Jun 13 12:26:38 UTC 2020)\n",
       "(EPL source distribution)\n",
       "Java Runtime: OpenJDK Runtime Environment\n",
       "JVM: OpenJDK 64-Bit Server VM\n",
       "Default Encoding: UTF-8\n",
       "Language: en\n",
       "Country: null\n",
       "--></g></svg>"
      ]
     },
     "execution_count": 24,
     "metadata": {},
     "output_type": "execute_result"
    }
   ],
   "source": [
    "%viz --style=\"STDCOLOR\" --view=\"Tree\" \"Q\""
   ]
  },
  {
   "cell_type": "code",
   "execution_count": 25,
   "id": "7ab3a3da",
   "metadata": {
    "execution": {
     "iopub.execute_input": "2021-06-30T09:23:33.100231Z",
     "iopub.status.busy": "2021-06-30T09:23:33.098991Z",
     "iopub.status.idle": "2021-06-30T09:23:33.115788Z",
     "shell.execute_reply": "2021-06-30T09:23:33.114815Z"
    }
   },
   "outputs": [
    {
     "data": {
      "image/svg+xml": [
       "<?xml version=\"1.0\" encoding=\"UTF-8\" standalone=\"no\"?><svg xmlns=\"http://www.w3.org/2000/svg\" xmlns:xlink=\"http://www.w3.org/1999/xlink\" contentScriptType=\"application/ecmascript\" contentStyleType=\"text/css\" height=\"12px\" preserveAspectRatio=\"none\" style=\"width:12px;height:12px;\" version=\"1.1\" viewBox=\"0 0 12 12\" width=\"12px\" zoomAndPan=\"magnify\"><defs/><g><!--MD5=[aeeef50f102b80d730deb6443d14f702]\n",
       "@startuml\r\n",
       "skinparam wrapWidth 300\r\n",
       "hide circle\r\n",
       "\r\n",
       "@enduml\r\n",
       "\n",
       "PlantUML version 1.2020.13(Sat Jun 13 12:26:38 UTC 2020)\n",
       "(EPL source distribution)\n",
       "Java Runtime: OpenJDK Runtime Environment\n",
       "JVM: OpenJDK 64-Bit Server VM\n",
       "Default Encoding: UTF-8\n",
       "Language: en\n",
       "Country: null\n",
       "--></g></svg>"
      ]
     },
     "execution_count": 25,
     "metadata": {},
     "output_type": "execute_result"
    }
   ],
   "source": [
    "%viz --style=\"STDCOLOR\" --view=\"State\" \"Q\""
   ]
  },
  {
   "cell_type": "code",
   "execution_count": 26,
   "id": "ba6c433a",
   "metadata": {
    "execution": {
     "iopub.execute_input": "2021-06-30T09:23:33.164827Z",
     "iopub.status.busy": "2021-06-30T09:23:33.163684Z",
     "iopub.status.idle": "2021-06-30T09:23:33.333278Z",
     "shell.execute_reply": "2021-06-30T09:23:33.330816Z"
    }
   },
   "outputs": [
    {
     "data": {
      "image/svg+xml": [
       "<?xml version=\"1.0\" encoding=\"UTF-8\" standalone=\"no\"?><svg xmlns=\"http://www.w3.org/2000/svg\" xmlns:xlink=\"http://www.w3.org/1999/xlink\" contentScriptType=\"application/ecmascript\" contentStyleType=\"text/css\" height=\"374px\" preserveAspectRatio=\"none\" style=\"width:616px;height:374px;\" version=\"1.1\" viewBox=\"0 0 616 374\" width=\"616px\" zoomAndPan=\"magnify\"><defs><filter height=\"300%\" id=\"f3lq1mnuxh46w\" width=\"300%\" x=\"-1\" y=\"-1\"><feGaussianBlur result=\"blurOut\" stdDeviation=\"2.0\"/><feColorMatrix in=\"blurOut\" result=\"blurOut2\" type=\"matrix\" values=\"0 0 0 0 0 0 0 0 0 0 0 0 0 0 0 0 0 0 .4 0\"/><feOffset dx=\"4.0\" dy=\"4.0\" in=\"blurOut2\" result=\"blurOut3\"/><feBlend in=\"SourceGraphic\" in2=\"blurOut3\" mode=\"normal\"/></filter></defs><g><!--MD5=[fbc87193dbaf4d95561dea2c320d4a47]\n",
       "cluster E1--><a href=\"psysml:427a19be-4ba6-433c-b392-6823bf74d458\" target=\"_top\" title=\"psysml:427a19be-4ba6-433c-b392-6823bf74d458\" xlink:actuate=\"onRequest\" xlink:href=\"psysml:427a19be-4ba6-433c-b392-6823bf74d458\" xlink:show=\"new\" xlink:title=\"psysml:427a19be-4ba6-433c-b392-6823bf74d458\" xlink:type=\"simple\"><polygon fill=\"#FFFFFF\" filter=\"url(#f3lq1mnuxh46w)\" points=\"16,6,34,6,41,28.2969,594,28.2969,594,362,16,362,16,6\" style=\"stroke: #000000; stroke-width: 1.5;\"/><line style=\"stroke: #000000; stroke-width: 1.5;\" x1=\"16\" x2=\"41\" y1=\"28.2969\" y2=\"28.2969\"/><text fill=\"#000000\" font-family=\"sans-serif\" font-size=\"14\" font-weight=\"bold\" lengthAdjust=\"spacingAndGlyphs\" textLength=\"12\" x=\"20\" y=\"20.9951\">Q</text></a><!--MD5=[e4f7fae6ed58524ba242bb0b0d3be6b7]\n",
       "cluster E2--><a href=\"psysml:027effde-34e9-4491-ba0c-9f82cacaad23\" target=\"_top\" title=\"psysml:027effde-34e9-4491-ba0c-9f82cacaad23\" xlink:actuate=\"onRequest\" xlink:href=\"psysml:027effde-34e9-4491-ba0c-9f82cacaad23\" xlink:show=\"new\" xlink:title=\"psysml:027effde-34e9-4491-ba0c-9f82cacaad23\" xlink:type=\"simple\"><rect fill=\"#FFFFFF\" filter=\"url(#f3lq1mnuxh46w)\" height=\"107\" id=\"E2\" style=\"stroke: #A80036; stroke-width: 1.5;\" width=\"87\" x=\"483\" y=\"92\"/><rect fill=\"#FEFECE\" height=\"37.9375\" style=\"stroke: #A80036; stroke-width: 1.5;\" width=\"87\" x=\"483\" y=\"92\"/><text fill=\"#000000\" font-family=\"sans-serif\" font-size=\"12\" font-style=\"italic\" lengthAdjust=\"spacingAndGlyphs\" textLength=\"64\" x=\"494.5\" y=\"108.1387\">«part def»</text><text fill=\"#000000\" font-family=\"sans-serif\" font-size=\"12\" lengthAdjust=\"spacingAndGlyphs\" textLength=\"7\" x=\"523\" y=\"122.1074\">F</text></a><!--MD5=[f6df4d0ebaf0b5dfb2ced0ae5af7c670]\n",
       "cluster E4--><a href=\"psysml:40835df5-3f1f-4886-9446-1465d21ad736\" target=\"_top\" title=\"psysml:40835df5-3f1f-4886-9446-1465d21ad736\" xlink:actuate=\"onRequest\" xlink:href=\"psysml:40835df5-3f1f-4886-9446-1465d21ad736\" xlink:show=\"new\" xlink:title=\"psysml:40835df5-3f1f-4886-9446-1465d21ad736\" xlink:type=\"simple\"><rect fill=\"#FFFFFF\" filter=\"url(#f3lq1mnuxh46w)\" height=\"91\" id=\"E4\" rx=\"10\" ry=\"10\" style=\"stroke: #A80036; stroke-width: 1.5;\" width=\"82\" x=\"377\" y=\"108\"/><rect fill=\"#FEFECE\" height=\"23.9688\" rx=\"10\" ry=\"10\" style=\"stroke: #FEFECE; stroke-width: 1.5;\" width=\"82\" x=\"377\" y=\"108\"/><rect fill=\"#FEFECE\" height=\"10\" style=\"stroke: #FEFECE; stroke-width: 1.5;\" width=\"82\" x=\"377\" y=\"121.9688\"/><rect fill=\"none\" height=\"91\" id=\"E4\" rx=\"10\" ry=\"10\" style=\"stroke: #A80036; stroke-width: 1.5;\" width=\"82\" x=\"377\" y=\"108\"/><text fill=\"#000000\" font-family=\"sans-serif\" font-size=\"12\" lengthAdjust=\"spacingAndGlyphs\" textLength=\"19\" x=\"408.5\" y=\"124.1387\">f: F</text><line style=\"stroke: #A80036; stroke-width: 1.0;\" x1=\"377\" x2=\"459\" y1=\"131.9688\" y2=\"131.9688\"/></a><!--MD5=[14e3b0961a2654348d326746436168a1]\n",
       "cluster E6--><a href=\"psysml:299c2c32-5ec1-43b2-a066-b7748b01150c\" target=\"_top\" title=\"psysml:299c2c32-5ec1-43b2-a066-b7748b01150c\" xlink:actuate=\"onRequest\" xlink:href=\"psysml:299c2c32-5ec1-43b2-a066-b7748b01150c\" xlink:show=\"new\" xlink:title=\"psysml:299c2c32-5ec1-43b2-a066-b7748b01150c\" xlink:type=\"simple\"><rect fill=\"#FFFFFF\" filter=\"url(#f3lq1mnuxh46w)\" height=\"107\" id=\"E6\" style=\"stroke: #A80036; stroke-width: 1.5;\" width=\"87\" x=\"266\" y=\"92\"/><rect fill=\"#FEFECE\" height=\"37.9375\" style=\"stroke: #A80036; stroke-width: 1.5;\" width=\"87\" x=\"266\" y=\"92\"/><text fill=\"#000000\" font-family=\"sans-serif\" font-size=\"12\" font-style=\"italic\" lengthAdjust=\"spacingAndGlyphs\" textLength=\"64\" x=\"277.5\" y=\"108.1387\">«part def»</text><text fill=\"#000000\" font-family=\"sans-serif\" font-size=\"12\" lengthAdjust=\"spacingAndGlyphs\" textLength=\"8\" x=\"305.5\" y=\"122.1074\">A</text></a><!--MD5=[55dfccfc6c49c2d10cd1bd2211a6c90c]\n",
       "cluster E8--><a href=\"psysml:e57a8ff4-b454-49af-9671-50f81189572a\" target=\"_top\" title=\"psysml:e57a8ff4-b454-49af-9671-50f81189572a\" xlink:actuate=\"onRequest\" xlink:href=\"psysml:e57a8ff4-b454-49af-9671-50f81189572a\" xlink:show=\"new\" xlink:title=\"psysml:e57a8ff4-b454-49af-9671-50f81189572a\" xlink:type=\"simple\"><rect fill=\"#FFFFFF\" filter=\"url(#f3lq1mnuxh46w)\" height=\"289\" id=\"E8\" style=\"stroke: #A80036; stroke-width: 1.5;\" width=\"144\" x=\"98\" y=\"49\"/><rect fill=\"#FEFECE\" height=\"37.9375\" style=\"stroke: #A80036; stroke-width: 1.5;\" width=\"144\" x=\"98\" y=\"49\"/><text fill=\"#000000\" font-family=\"sans-serif\" font-size=\"12\" font-style=\"italic\" lengthAdjust=\"spacingAndGlyphs\" textLength=\"64\" x=\"138\" y=\"65.1387\">«part def»</text><text fill=\"#000000\" font-family=\"sans-serif\" font-size=\"12\" lengthAdjust=\"spacingAndGlyphs\" textLength=\"8\" x=\"166\" y=\"79.1074\">B</text></a><!--MD5=[7f149f147074ac12df2cb0a7728a5fb0]\n",
       "cluster E9--><a href=\"psysml:ae9b8861-e9cc-45e7-97b3-375fd90ac7d9\" target=\"_top\" title=\"psysml:ae9b8861-e9cc-45e7-97b3-375fd90ac7d9\" xlink:actuate=\"onRequest\" xlink:href=\"psysml:ae9b8861-e9cc-45e7-97b3-375fd90ac7d9\" xlink:show=\"new\" xlink:title=\"psysml:ae9b8861-e9cc-45e7-97b3-375fd90ac7d9\" xlink:type=\"simple\"><rect fill=\"#FFFFFF\" filter=\"url(#f3lq1mnuxh46w)\" height=\"91\" id=\"E9\" rx=\"10\" ry=\"10\" style=\"stroke: #A80036; stroke-width: 1.5;\" width=\"82\" x=\"129\" y=\"223\"/><rect fill=\"#FEFECE\" height=\"23.9688\" rx=\"10\" ry=\"10\" style=\"stroke: #FEFECE; stroke-width: 1.5;\" width=\"82\" x=\"129\" y=\"223\"/><rect fill=\"#FEFECE\" height=\"10\" style=\"stroke: #FEFECE; stroke-width: 1.5;\" width=\"82\" x=\"129\" y=\"236.9688\"/><rect fill=\"none\" height=\"91\" id=\"E9\" rx=\"10\" ry=\"10\" style=\"stroke: #A80036; stroke-width: 1.5;\" width=\"82\" x=\"129\" y=\"223\"/><text fill=\"#000000\" font-family=\"sans-serif\" font-size=\"12\" lengthAdjust=\"spacingAndGlyphs\" textLength=\"19\" x=\"160.5\" y=\"239.1387\">f: F</text><line style=\"stroke: #A80036; stroke-width: 1.0;\" x1=\"129\" x2=\"211\" y1=\"246.9688\" y2=\"246.9688\"/></a><!--MD5=[917b9dd0c7eca3ee5f47219d1a84c0ad]\n",
       "cluster E11--><a href=\"psysml:d620b19b-a1e2-497d-8cad-3b2dc38fedc0\" target=\"_top\" title=\"psysml:d620b19b-a1e2-497d-8cad-3b2dc38fedc0\" xlink:actuate=\"onRequest\" xlink:href=\"psysml:d620b19b-a1e2-497d-8cad-3b2dc38fedc0\" xlink:show=\"new\" xlink:title=\"psysml:d620b19b-a1e2-497d-8cad-3b2dc38fedc0\" xlink:type=\"simple\"><rect fill=\"#FFFFFF\" filter=\"url(#f3lq1mnuxh46w)\" height=\"91\" id=\"E11\" rx=\"10\" ry=\"10\" style=\"stroke: #A80036; stroke-width: 1.5;\" width=\"96\" x=\"122\" y=\"108\"/><rect fill=\"#FEFECE\" height=\"23.9688\" rx=\"10\" ry=\"10\" style=\"stroke: #FEFECE; stroke-width: 1.5;\" width=\"96\" x=\"122\" y=\"108\"/><rect fill=\"#FEFECE\" height=\"10\" style=\"stroke: #FEFECE; stroke-width: 1.5;\" width=\"96\" x=\"122\" y=\"121.9688\"/><rect fill=\"none\" height=\"91\" id=\"E11\" rx=\"10\" ry=\"10\" style=\"stroke: #A80036; stroke-width: 1.5;\" width=\"96\" x=\"122\" y=\"108\"/><text fill=\"#000000\" font-family=\"sans-serif\" font-size=\"12\" lengthAdjust=\"spacingAndGlyphs\" textLength=\"24\" x=\"158\" y=\"124.1387\">a: A</text><line style=\"stroke: #A80036; stroke-width: 1.0;\" x1=\"122\" x2=\"218\" y1=\"131.9688\" y2=\"131.9688\"/></a><g id=\"E1.E2.E3\"><a href=\"psysml:241a9b2a-e9cc-4b19-964a-2424b61c0639\" target=\"_top\" title=\"psysml:241a9b2a-e9cc-4b19-964a-2424b61c0639\" xlink:actuate=\"onRequest\" xlink:href=\"psysml:241a9b2a-e9cc-4b19-964a-2424b61c0639\" xlink:show=\"new\" xlink:title=\"psysml:241a9b2a-e9cc-4b19-964a-2424b61c0639\" xlink:type=\"simple\"><rect fill=\"#FEFECE\" filter=\"url(#f3lq1mnuxh46w)\" height=\"40\" id=\"E3\" rx=\"10\" ry=\"10\" style=\"stroke: #A80036; stroke-width: 1.5;\" width=\"50\" x=\"501\" y=\"143\"/><text fill=\"#000000\" font-family=\"sans-serif\" font-size=\"12\" lengthAdjust=\"spacingAndGlyphs\" textLength=\"8\" x=\"522\" y=\"159.1387\">a</text></a></g><g id=\"E1.E4.E5\"><a href=\"psysml:241a9b2a-e9cc-4b19-964a-2424b61c0639\" target=\"_top\" title=\"psysml:241a9b2a-e9cc-4b19-964a-2424b61c0639\" xlink:actuate=\"onRequest\" xlink:href=\"psysml:241a9b2a-e9cc-4b19-964a-2424b61c0639\" xlink:show=\"new\" xlink:title=\"psysml:241a9b2a-e9cc-4b19-964a-2424b61c0639\" xlink:type=\"simple\"><rect fill=\"#FEFECE\" filter=\"url(#f3lq1mnuxh46w)\" height=\"40\" id=\"E5\" rx=\"10\" ry=\"10\" style=\"stroke: #A80036; stroke-width: 1.5;\" width=\"50\" x=\"393\" y=\"143\"/><text fill=\"#000000\" font-family=\"sans-serif\" font-size=\"12\" lengthAdjust=\"spacingAndGlyphs\" textLength=\"18\" x=\"409\" y=\"159.1387\">^a</text></a></g><g id=\"E1.E6.E7\"><a href=\"psysml:31dec55f-8acf-4d42-bd51-f4047894820c\" target=\"_top\" title=\"psysml:31dec55f-8acf-4d42-bd51-f4047894820c\" xlink:actuate=\"onRequest\" xlink:href=\"psysml:31dec55f-8acf-4d42-bd51-f4047894820c\" xlink:show=\"new\" xlink:title=\"psysml:31dec55f-8acf-4d42-bd51-f4047894820c\" xlink:type=\"simple\"><rect fill=\"#FEFECE\" filter=\"url(#f3lq1mnuxh46w)\" height=\"40\" id=\"E7\" rx=\"10\" ry=\"10\" style=\"stroke: #A80036; stroke-width: 1.5;\" width=\"53\" x=\"282.5\" y=\"143\"/><text fill=\"#000000\" font-family=\"sans-serif\" font-size=\"12\" lengthAdjust=\"spacingAndGlyphs\" textLength=\"38\" x=\"288\" y=\"159.1387\">g=f.a;</text></a></g><g id=\"E1.E8.E9.E10\"><a href=\"psysml:241a9b2a-e9cc-4b19-964a-2424b61c0639\" target=\"_top\" title=\"psysml:241a9b2a-e9cc-4b19-964a-2424b61c0639\" xlink:actuate=\"onRequest\" xlink:href=\"psysml:241a9b2a-e9cc-4b19-964a-2424b61c0639\" xlink:show=\"new\" xlink:title=\"psysml:241a9b2a-e9cc-4b19-964a-2424b61c0639\" xlink:type=\"simple\"><rect fill=\"#FEFECE\" filter=\"url(#f3lq1mnuxh46w)\" height=\"40\" id=\"E10\" rx=\"10\" ry=\"10\" style=\"stroke: #A80036; stroke-width: 1.5;\" width=\"50\" x=\"145\" y=\"258\"/><text fill=\"#000000\" font-family=\"sans-serif\" font-size=\"12\" lengthAdjust=\"spacingAndGlyphs\" textLength=\"18\" x=\"161\" y=\"274.1387\">^a</text></a></g><g id=\"E1.E8.E11.E12\"><a href=\"psysml:31dec55f-8acf-4d42-bd51-f4047894820c\" target=\"_top\" title=\"psysml:31dec55f-8acf-4d42-bd51-f4047894820c\" xlink:actuate=\"onRequest\" xlink:href=\"psysml:31dec55f-8acf-4d42-bd51-f4047894820c\" xlink:show=\"new\" xlink:title=\"psysml:31dec55f-8acf-4d42-bd51-f4047894820c\" xlink:type=\"simple\"><rect fill=\"#FEFECE\" filter=\"url(#f3lq1mnuxh46w)\" height=\"40\" id=\"E12\" rx=\"10\" ry=\"10\" style=\"stroke: #A80036; stroke-width: 1.5;\" width=\"63\" x=\"138.5\" y=\"143\"/><text fill=\"#000000\" font-family=\"sans-serif\" font-size=\"12\" lengthAdjust=\"spacingAndGlyphs\" textLength=\"48\" x=\"144\" y=\"159.1387\">^g=f.a;</text></a></g><g id=\"E1.E13\"><a href=\"psysml:f9a1a989-561d-4119-971e-8ebceafa94b4\" target=\"_top\" title=\"psysml:f9a1a989-561d-4119-971e-8ebceafa94b4\" xlink:actuate=\"onRequest\" xlink:href=\"psysml:f9a1a989-561d-4119-971e-8ebceafa94b4\" xlink:show=\"new\" xlink:title=\"psysml:f9a1a989-561d-4119-971e-8ebceafa94b4\" xlink:type=\"simple\"><rect fill=\"#FEFECE\" filter=\"url(#f3lq1mnuxh46w)\" height=\"40\" id=\"E13\" rx=\"10\" ry=\"10\" style=\"stroke: #A80036; stroke-width: 1.5;\" width=\"50\" x=\"32\" y=\"143\"/><text fill=\"#000000\" font-family=\"sans-serif\" font-size=\"12\" lengthAdjust=\"spacingAndGlyphs\" textLength=\"24\" x=\"45\" y=\"159.1387\">b: B</text></a></g><!--MD5=[65481eef76a7486101c58ded21a552db]\n",
       "link E12 to E10--><a href=\"psysml:d897c185-bd23-4685-b4dd-90f768e45c35\" target=\"_top\" title=\"psysml:d897c185-bd23-4685-b4dd-90f768e45c35\" xlink:actuate=\"onRequest\" xlink:href=\"psysml:d897c185-bd23-4685-b4dd-90f768e45c35\" xlink:show=\"new\" xlink:title=\"psysml:d897c185-bd23-4685-b4dd-90f768e45c35\" xlink:type=\"simple\"><path d=\"M160.15,183.17 C156.29,203.95 156.28,236.92 160.13,257.74 \" fill=\"none\" id=\"E12-E10\" style=\"stroke: #A80036; stroke-width: 3.0;\"/></a><!--MD5=[65481eef76a7486101c58ded21a552db]\n",
       "link E12 to E10--><a href=\"psysml:a65e9cd3-f7a6-42d1-a2aa-d32628740aff\" target=\"_top\" title=\"psysml:a65e9cd3-f7a6-42d1-a2aa-d32628740aff\" xlink:actuate=\"onRequest\" xlink:href=\"psysml:a65e9cd3-f7a6-42d1-a2aa-d32628740aff\" xlink:show=\"new\" xlink:title=\"psysml:a65e9cd3-f7a6-42d1-a2aa-d32628740aff\" xlink:type=\"simple\"><path d=\"M180.43,183.17 C184.52,203.95 184.52,236.92 180.45,257.74 \" fill=\"none\" id=\"E12-E10-1\" style=\"stroke: #FF0000; stroke-width: 5.0;\"/></a><!--MD5=[e417c9c04e19a442bee8e2ce73408739]\n",
       "@startuml\r\n",
       "skinparam ranksep 10\r\n",
       "skinparam rectangle {\r\n",
       " backgroundColor<<block>> LightGreen\r\n",
       "}\r\n",
       "skinparam wrapWidth 300\r\n",
       "hide circle\r\n",
       "\r\n",
       "package \"Q\" as E1  [[psysml:427a19be-4ba6-433c-b392-6823bf74d458 ]]  {\r\n",
       "rec def \"F\" as E2  <<(T,blue) part def>> [[psysml:027effde-34e9-4491-ba0c-9f82cacaad23 ]] {\r\n",
       "rec usage \"a\" as E3  [[psysml:241a9b2a-e9cc-4b19-964a-2424b61c0639 ]] {\r\n",
       "}\r\n",
       "}\r\n",
       "rec usage \"f: F\" as E4  [[psysml:40835df5-3f1f-4886-9446-1465d21ad736 ]] {\r\n",
       "rec usage \"^a\" as E5  [[psysml:241a9b2a-e9cc-4b19-964a-2424b61c0639 ]] {\r\n",
       "}\r\n",
       "}\r\n",
       "rec def \"A\" as E6  <<(T,blue) part def>> [[psysml:299c2c32-5ec1-43b2-a066-b7748b01150c ]] {\r\n",
       "rec usage \"g=f.a; \" as E7  [[psysml:31dec55f-8acf-4d42-bd51-f4047894820c ]] {\r\n",
       "}\r\n",
       "}\r\n",
       "rec def \"B\" as E8  <<(T,blue) part def>> [[psysml:e57a8ff4-b454-49af-9671-50f81189572a ]] {\r\n",
       "rec usage \"f: F\" as E9  [[psysml:ae9b8861-e9cc-45e7-97b3-375fd90ac7d9 ]] {\r\n",
       "rec usage \"^a\" as E10  [[psysml:241a9b2a-e9cc-4b19-964a-2424b61c0639 ]] {\r\n",
       "}\r\n",
       "}\r\n",
       "rec usage \"a: A\" as E11  [[psysml:d620b19b-a1e2-497d-8cad-3b2dc38fedc0 ]] {\r\n",
       "rec usage \"^g=f.a; \" as E12  [[psysml:31dec55f-8acf-4d42-bd51-f4047894820c ]] {\r\n",
       "}\r\n",
       "}\r\n",
       "}\r\n",
       "rec usage \"b: B\" as E13  [[psysml:f9a1a989-561d-4119-971e-8ebceafa94b4 ]] {\r\n",
       "}\r\n",
       "E12 -[thickness=3]- E10 [[psysml:d897c185-bd23-4685-b4dd-90f768e45c35 ]] \r\n",
       "E12 -[thickness=5,#red]- E10 [[psysml:a65e9cd3-f7a6-42d1-a2aa-d32628740aff ]] \r\n",
       "}\r\n",
       "@enduml\r\n",
       "\n",
       "PlantUML version 1.2020.13(Sat Jun 13 12:26:38 UTC 2020)\n",
       "(EPL source distribution)\n",
       "Java Runtime: OpenJDK Runtime Environment\n",
       "JVM: OpenJDK 64-Bit Server VM\n",
       "Default Encoding: UTF-8\n",
       "Language: en\n",
       "Country: null\n",
       "--></g></svg>"
      ]
     },
     "execution_count": 26,
     "metadata": {},
     "output_type": "execute_result"
    }
   ],
   "source": [
    "%viz --style=\"STDCOLOR\" --view=\"Interconnection\" \"Q\""
   ]
  },
  {
   "cell_type": "code",
   "execution_count": 27,
   "id": "dcc1bcd6",
   "metadata": {
    "execution": {
     "iopub.execute_input": "2021-06-30T09:23:33.384802Z",
     "iopub.status.busy": "2021-06-30T09:23:33.383436Z",
     "iopub.status.idle": "2021-06-30T09:23:33.401052Z",
     "shell.execute_reply": "2021-06-30T09:23:33.400046Z"
    }
   },
   "outputs": [
    {
     "data": {
      "image/svg+xml": [
       "<?xml version=\"1.0\" encoding=\"UTF-8\" standalone=\"no\"?><svg xmlns=\"http://www.w3.org/2000/svg\" xmlns:xlink=\"http://www.w3.org/1999/xlink\" contentScriptType=\"application/ecmascript\" contentStyleType=\"text/css\" height=\"12px\" preserveAspectRatio=\"none\" style=\"width:12px;height:12px;\" version=\"1.1\" viewBox=\"0 0 12 12\" width=\"12px\" zoomAndPan=\"magnify\"><defs/><g><!--MD5=[9863325348a96a77dacc89509d8ee65e]\n",
       "@startuml\r\n",
       "skinparam ranksep 8\r\n",
       "skinparam wrapWidth 300\r\n",
       "hide circle\r\n",
       "\r\n",
       "@enduml\r\n",
       "\n",
       "PlantUML version 1.2020.13(Sat Jun 13 12:26:38 UTC 2020)\n",
       "(EPL source distribution)\n",
       "Java Runtime: OpenJDK Runtime Environment\n",
       "JVM: OpenJDK 64-Bit Server VM\n",
       "Default Encoding: UTF-8\n",
       "Language: en\n",
       "Country: null\n",
       "--></g></svg>"
      ]
     },
     "execution_count": 27,
     "metadata": {},
     "output_type": "execute_result"
    }
   ],
   "source": [
    "%viz --style=\"STDCOLOR\" --view=\"Action\" \"Q\""
   ]
  },
  {
   "cell_type": "code",
   "execution_count": 28,
   "id": "99cec99c",
   "metadata": {
    "execution": {
     "iopub.execute_input": "2021-06-30T09:23:33.450779Z",
     "iopub.status.busy": "2021-06-30T09:23:33.450089Z",
     "iopub.status.idle": "2021-06-30T09:23:33.543740Z",
     "shell.execute_reply": "2021-06-30T09:23:33.540334Z"
    }
   },
   "outputs": [
    {
     "data": {
      "image/svg+xml": [
       "<?xml version=\"1.0\" encoding=\"UTF-8\" standalone=\"no\"?><svg xmlns=\"http://www.w3.org/2000/svg\" xmlns:xlink=\"http://www.w3.org/1999/xlink\" contentScriptType=\"application/ecmascript\" contentStyleType=\"text/css\" height=\"539px\" preserveAspectRatio=\"none\" style=\"width:266px;height:539px;\" version=\"1.1\" viewBox=\"0 0 266 539\" width=\"266px\" zoomAndPan=\"magnify\"><defs><filter height=\"300%\" id=\"fnq6gryv2tfkt\" width=\"300%\" x=\"-1\" y=\"-1\"><feGaussianBlur result=\"blurOut\" stdDeviation=\"2.0\"/><feColorMatrix in=\"blurOut\" result=\"blurOut2\" type=\"matrix\" values=\"0 0 0 0 0 0 0 0 0 0 0 0 0 0 0 0 0 0 .4 0\"/><feOffset dx=\"4.0\" dy=\"4.0\" in=\"blurOut2\" result=\"blurOut3\"/><feBlend in=\"SourceGraphic\" in2=\"blurOut3\" mode=\"normal\"/></filter></defs><g><!--MD5=[fbc87193dbaf4d95561dea2c320d4a47]\n",
       "cluster E1--><a href=\"psysml:427a19be-4ba6-433c-b392-6823bf74d458\" target=\"_top\" title=\"psysml:427a19be-4ba6-433c-b392-6823bf74d458\" xlink:actuate=\"onRequest\" xlink:href=\"psysml:427a19be-4ba6-433c-b392-6823bf74d458\" xlink:show=\"new\" xlink:title=\"psysml:427a19be-4ba6-433c-b392-6823bf74d458\" xlink:type=\"simple\"><polygon fill=\"#FFFFFF\" filter=\"url(#fnq6gryv2tfkt)\" points=\"16,6,34,6,41,28.2969,244,28.2969,244,527,16,527,16,6\" style=\"stroke: #000000; stroke-width: 1.5;\"/><line style=\"stroke: #000000; stroke-width: 1.5;\" x1=\"16\" x2=\"41\" y1=\"28.2969\" y2=\"28.2969\"/><text fill=\"#000000\" font-family=\"sans-serif\" font-size=\"14\" font-weight=\"bold\" lengthAdjust=\"spacingAndGlyphs\" textLength=\"12\" x=\"20\" y=\"20.9951\">Q</text></a><!--MD5=[b4997ac47864f28c2f74865a473b2911]\n",
       "class E2--><a href=\"psysml:027effde-34e9-4491-ba0c-9f82cacaad23\" target=\"_top\" title=\"psysml:027effde-34e9-4491-ba0c-9f82cacaad23\" xlink:actuate=\"onRequest\" xlink:href=\"psysml:027effde-34e9-4491-ba0c-9f82cacaad23\" xlink:show=\"new\" xlink:title=\"psysml:027effde-34e9-4491-ba0c-9f82cacaad23\" xlink:type=\"simple\"><rect fill=\"#FEFECE\" filter=\"url(#fnq6gryv2tfkt)\" height=\"45.9375\" id=\"E2\" style=\"stroke: #A80036; stroke-width: 1.5;\" width=\"66\" x=\"147\" y=\"359\"/><text fill=\"#000000\" font-family=\"sans-serif\" font-size=\"12\" font-style=\"italic\" lengthAdjust=\"spacingAndGlyphs\" textLength=\"64\" x=\"148\" y=\"375.1387\">«part def»</text><text fill=\"#000000\" font-family=\"sans-serif\" font-size=\"12\" lengthAdjust=\"spacingAndGlyphs\" textLength=\"7\" x=\"176.5\" y=\"389.1074\">F</text><line style=\"stroke: #A80036; stroke-width: 1.5;\" x1=\"148\" x2=\"212\" y1=\"396.9375\" y2=\"396.9375\"/></a><!--MD5=[09b614a08d8cba4a07c9adeb5e0fee81]\n",
       "class E3--><a href=\"psysml:241a9b2a-e9cc-4b19-964a-2424b61c0639\" target=\"_top\" title=\"psysml:241a9b2a-e9cc-4b19-964a-2424b61c0639\" xlink:actuate=\"onRequest\" xlink:href=\"psysml:241a9b2a-e9cc-4b19-964a-2424b61c0639\" xlink:show=\"new\" xlink:title=\"psysml:241a9b2a-e9cc-4b19-964a-2424b61c0639\" xlink:type=\"simple\"><rect fill=\"#FEFECE\" filter=\"url(#fnq6gryv2tfkt)\" height=\"45.9375\" id=\"E3\" rx=\"10\" ry=\"10\" style=\"stroke: #A80036; stroke-width: 1.5;\" width=\"42\" x=\"159\" y=\"465\"/><text fill=\"#000000\" font-family=\"sans-serif\" font-size=\"12\" font-style=\"italic\" lengthAdjust=\"spacingAndGlyphs\" textLength=\"40\" x=\"160\" y=\"481.1387\">«part»</text><text fill=\"#000000\" font-family=\"sans-serif\" font-size=\"12\" lengthAdjust=\"spacingAndGlyphs\" textLength=\"8\" x=\"176\" y=\"495.1074\">a</text><line style=\"stroke: #A80036; stroke-width: 1.5;\" x1=\"160\" x2=\"200\" y1=\"502.9375\" y2=\"502.9375\"/></a><!--MD5=[ebbe1d658d1005bcc118a6aa81145e00]\n",
       "class E4--><a href=\"psysml:40835df5-3f1f-4886-9446-1465d21ad736\" target=\"_top\" title=\"psysml:40835df5-3f1f-4886-9446-1465d21ad736\" xlink:actuate=\"onRequest\" xlink:href=\"psysml:40835df5-3f1f-4886-9446-1465d21ad736\" xlink:show=\"new\" xlink:title=\"psysml:40835df5-3f1f-4886-9446-1465d21ad736\" xlink:type=\"simple\"><rect fill=\"#FEFECE\" filter=\"url(#fnq6gryv2tfkt)\" height=\"45.9375\" id=\"E4\" rx=\"10\" ry=\"10\" style=\"stroke: #A80036; stroke-width: 1.5;\" width=\"42\" x=\"186\" y=\"253\"/><text fill=\"#000000\" font-family=\"sans-serif\" font-size=\"12\" font-style=\"italic\" lengthAdjust=\"spacingAndGlyphs\" textLength=\"40\" x=\"187\" y=\"269.1387\">«part»</text><text fill=\"#000000\" font-family=\"sans-serif\" font-size=\"12\" lengthAdjust=\"spacingAndGlyphs\" textLength=\"19\" x=\"197.5\" y=\"283.1074\">f: F</text><line style=\"stroke: #A80036; stroke-width: 1.5;\" x1=\"187\" x2=\"227\" y1=\"290.9375\" y2=\"290.9375\"/></a><!--MD5=[270fce915f116d4de14055a7c1d9a0f3]\n",
       "class E5--><a href=\"psysml:299c2c32-5ec1-43b2-a066-b7748b01150c\" target=\"_top\" title=\"psysml:299c2c32-5ec1-43b2-a066-b7748b01150c\" xlink:actuate=\"onRequest\" xlink:href=\"psysml:299c2c32-5ec1-43b2-a066-b7748b01150c\" xlink:show=\"new\" xlink:title=\"psysml:299c2c32-5ec1-43b2-a066-b7748b01150c\" xlink:type=\"simple\"><rect fill=\"#FEFECE\" filter=\"url(#fnq6gryv2tfkt)\" height=\"45.9375\" id=\"E5\" style=\"stroke: #A80036; stroke-width: 1.5;\" width=\"66\" x=\"32\" y=\"359\"/><text fill=\"#000000\" font-family=\"sans-serif\" font-size=\"12\" font-style=\"italic\" lengthAdjust=\"spacingAndGlyphs\" textLength=\"64\" x=\"33\" y=\"375.1387\">«part def»</text><text fill=\"#000000\" font-family=\"sans-serif\" font-size=\"12\" lengthAdjust=\"spacingAndGlyphs\" textLength=\"8\" x=\"61\" y=\"389.1074\">A</text><line style=\"stroke: #A80036; stroke-width: 1.5;\" x1=\"33\" x2=\"97\" y1=\"396.9375\" y2=\"396.9375\"/></a><!--MD5=[60a26617385b1d2d0262a64233df1f8d]\n",
       "class E6--><a href=\"psysml:31dec55f-8acf-4d42-bd51-f4047894820c\" target=\"_top\" title=\"psysml:31dec55f-8acf-4d42-bd51-f4047894820c\" xlink:actuate=\"onRequest\" xlink:href=\"psysml:31dec55f-8acf-4d42-bd51-f4047894820c\" xlink:show=\"new\" xlink:title=\"psysml:31dec55f-8acf-4d42-bd51-f4047894820c\" xlink:type=\"simple\"><rect fill=\"#FEFECE\" filter=\"url(#fnq6gryv2tfkt)\" height=\"45.9375\" id=\"E6\" rx=\"10\" ry=\"10\" style=\"stroke: #A80036; stroke-width: 1.5;\" width=\"42\" x=\"44\" y=\"465\"/><text fill=\"#000000\" font-family=\"sans-serif\" font-size=\"12\" font-style=\"italic\" lengthAdjust=\"spacingAndGlyphs\" textLength=\"40\" x=\"45\" y=\"481.1387\">«part»</text><text fill=\"#000000\" font-family=\"sans-serif\" font-size=\"12\" lengthAdjust=\"spacingAndGlyphs\" textLength=\"8\" x=\"61\" y=\"495.1074\">g</text><line style=\"stroke: #A80036; stroke-width: 1.5;\" x1=\"45\" x2=\"85\" y1=\"502.9375\" y2=\"502.9375\"/></a><!--MD5=[2156ba9850f5573cc1fc38a6a4b2f02b]\n",
       "class E7--><a href=\"psysml:e57a8ff4-b454-49af-9671-50f81189572a\" target=\"_top\" title=\"psysml:e57a8ff4-b454-49af-9671-50f81189572a\" xlink:actuate=\"onRequest\" xlink:href=\"psysml:e57a8ff4-b454-49af-9671-50f81189572a\" xlink:show=\"new\" xlink:title=\"psysml:e57a8ff4-b454-49af-9671-50f81189572a\" xlink:type=\"simple\"><rect fill=\"#FEFECE\" filter=\"url(#fnq6gryv2tfkt)\" height=\"45.9375\" id=\"E7\" style=\"stroke: #A80036; stroke-width: 1.5;\" width=\"66\" x=\"64\" y=\"147\"/><text fill=\"#000000\" font-family=\"sans-serif\" font-size=\"12\" font-style=\"italic\" lengthAdjust=\"spacingAndGlyphs\" textLength=\"64\" x=\"65\" y=\"163.1387\">«part def»</text><text fill=\"#000000\" font-family=\"sans-serif\" font-size=\"12\" lengthAdjust=\"spacingAndGlyphs\" textLength=\"8\" x=\"93\" y=\"177.1074\">B</text><line style=\"stroke: #A80036; stroke-width: 1.5;\" x1=\"65\" x2=\"129\" y1=\"184.9375\" y2=\"184.9375\"/></a><!--MD5=[b9389687b975829384b498ac4b7476b2]\n",
       "class E8--><a href=\"psysml:ae9b8861-e9cc-45e7-97b3-375fd90ac7d9\" target=\"_top\" title=\"psysml:ae9b8861-e9cc-45e7-97b3-375fd90ac7d9\" xlink:actuate=\"onRequest\" xlink:href=\"psysml:ae9b8861-e9cc-45e7-97b3-375fd90ac7d9\" xlink:show=\"new\" xlink:title=\"psysml:ae9b8861-e9cc-45e7-97b3-375fd90ac7d9\" xlink:type=\"simple\"><rect fill=\"#FEFECE\" filter=\"url(#fnq6gryv2tfkt)\" height=\"45.9375\" id=\"E8\" rx=\"10\" ry=\"10\" style=\"stroke: #A80036; stroke-width: 1.5;\" width=\"42\" x=\"109\" y=\"253\"/><text fill=\"#000000\" font-family=\"sans-serif\" font-size=\"12\" font-style=\"italic\" lengthAdjust=\"spacingAndGlyphs\" textLength=\"40\" x=\"110\" y=\"269.1387\">«part»</text><text fill=\"#000000\" font-family=\"sans-serif\" font-size=\"12\" lengthAdjust=\"spacingAndGlyphs\" textLength=\"19\" x=\"120.5\" y=\"283.1074\">f: F</text><line style=\"stroke: #A80036; stroke-width: 1.5;\" x1=\"110\" x2=\"150\" y1=\"290.9375\" y2=\"290.9375\"/></a><!--MD5=[fd4143e9d270a159db93a4ea2a975926]\n",
       "class E9--><a href=\"psysml:d620b19b-a1e2-497d-8cad-3b2dc38fedc0\" target=\"_top\" title=\"psysml:d620b19b-a1e2-497d-8cad-3b2dc38fedc0\" xlink:actuate=\"onRequest\" xlink:href=\"psysml:d620b19b-a1e2-497d-8cad-3b2dc38fedc0\" xlink:show=\"new\" xlink:title=\"psysml:d620b19b-a1e2-497d-8cad-3b2dc38fedc0\" xlink:type=\"simple\"><rect fill=\"#FEFECE\" filter=\"url(#fnq6gryv2tfkt)\" height=\"45.9375\" id=\"E9\" rx=\"10\" ry=\"10\" style=\"stroke: #A80036; stroke-width: 1.5;\" width=\"42\" x=\"32\" y=\"253\"/><text fill=\"#000000\" font-family=\"sans-serif\" font-size=\"12\" font-style=\"italic\" lengthAdjust=\"spacingAndGlyphs\" textLength=\"40\" x=\"33\" y=\"269.1387\">«part»</text><text fill=\"#000000\" font-family=\"sans-serif\" font-size=\"12\" lengthAdjust=\"spacingAndGlyphs\" textLength=\"24\" x=\"41\" y=\"283.1074\">a: A</text><line style=\"stroke: #A80036; stroke-width: 1.5;\" x1=\"33\" x2=\"73\" y1=\"290.9375\" y2=\"290.9375\"/></a><!--MD5=[96f4274e9e20536e775497830990834d]\n",
       "class E10--><a href=\"psysml:f9a1a989-561d-4119-971e-8ebceafa94b4\" target=\"_top\" title=\"psysml:f9a1a989-561d-4119-971e-8ebceafa94b4\" xlink:actuate=\"onRequest\" xlink:href=\"psysml:f9a1a989-561d-4119-971e-8ebceafa94b4\" xlink:show=\"new\" xlink:title=\"psysml:f9a1a989-561d-4119-971e-8ebceafa94b4\" xlink:type=\"simple\"><rect fill=\"#FEFECE\" filter=\"url(#fnq6gryv2tfkt)\" height=\"45.9375\" id=\"E10\" rx=\"10\" ry=\"10\" style=\"stroke: #A80036; stroke-width: 1.5;\" width=\"42\" x=\"76\" y=\"41\"/><text fill=\"#000000\" font-family=\"sans-serif\" font-size=\"12\" font-style=\"italic\" lengthAdjust=\"spacingAndGlyphs\" textLength=\"40\" x=\"77\" y=\"57.1387\">«part»</text><text fill=\"#000000\" font-family=\"sans-serif\" font-size=\"12\" lengthAdjust=\"spacingAndGlyphs\" textLength=\"24\" x=\"85\" y=\"71.1074\">b: B</text><line style=\"stroke: #A80036; stroke-width: 1.5;\" x1=\"77\" x2=\"117\" y1=\"78.9375\" y2=\"78.9375\"/></a><!--MD5=[209b3feb70ccb6233bfe1053d122c12c]\n",
       "reverse link E2 to E3--><a href=\"psysml:5ee10b2b-55c1-4a08-a13b-bdb74e3f50e5\" target=\"_top\" title=\"psysml:5ee10b2b-55c1-4a08-a13b-bdb74e3f50e5\" xlink:actuate=\"onRequest\" xlink:href=\"psysml:5ee10b2b-55c1-4a08-a13b-bdb74e3f50e5\" xlink:show=\"new\" xlink:title=\"psysml:5ee10b2b-55c1-4a08-a13b-bdb74e3f50e5\" xlink:type=\"simple\"><path d=\"M180,418.44 C180,433.87 180,451.47 180,464.98 \" fill=\"none\" id=\"E2&lt;-E3\" style=\"stroke: #A80036; stroke-width: 1.0;\"/><polygon fill=\"#A80036\" points=\"180,405.06,176,411.06,180,417.06,184,411.06,180,405.06\" style=\"stroke: #A80036; stroke-width: 1.0;\"/></a><!--MD5=[185131fc0dcab0a4505a2ebe144e961b]\n",
       "link E4 to E2--><a href=\"psysml:c4c1c0e2-eca3-4dc3-a203-c30912c3ab2b\" target=\"_top\" title=\"psysml:c4c1c0e2-eca3-4dc3-a203-c30912c3ab2b\" xlink:actuate=\"onRequest\" xlink:href=\"psysml:c4c1c0e2-eca3-4dc3-a203-c30912c3ab2b\" xlink:show=\"new\" xlink:title=\"psysml:c4c1c0e2-eca3-4dc3-a203-c30912c3ab2b\" xlink:type=\"simple\"><path d=\"M201.27,299.06 C198.23,310.78 194.39,325.57 190.81,339.36 \" fill=\"none\" id=\"E4-&gt;E2\" style=\"stroke: #A80036; stroke-width: 1.0;\"/><polygon fill=\"#FFFFFF\" points=\"185.72,358.98,183.7221,338.8303,197.2724,342.3504,185.72,358.98\" style=\"stroke: #A80036; stroke-width: 1.0;\"/><ellipse cx=\"187.091\" cy=\"333.8163\" fill=\"#A80036\" rx=\"2\" ry=\"2\" style=\"stroke: #A80036; stroke-width: 1.0;\"/><ellipse cx=\"196.7698\" cy=\"336.3307\" fill=\"#A80036\" rx=\"2\" ry=\"2\" style=\"stroke: #A80036; stroke-width: 1.0;\"/></a><!--MD5=[85d356282659285ab4b2cfe2f634dd2b]\n",
       "reverse link E5 to E6--><a href=\"psysml:93463b7d-149f-4a15-b84b-177a9e530eda\" target=\"_top\" title=\"psysml:93463b7d-149f-4a15-b84b-177a9e530eda\" xlink:actuate=\"onRequest\" xlink:href=\"psysml:93463b7d-149f-4a15-b84b-177a9e530eda\" xlink:show=\"new\" xlink:title=\"psysml:93463b7d-149f-4a15-b84b-177a9e530eda\" xlink:type=\"simple\"><path d=\"M65,418.44 C65,433.87 65,451.47 65,464.98 \" fill=\"none\" id=\"E5&lt;-E6\" style=\"stroke: #A80036; stroke-width: 1.0;\"/><polygon fill=\"#A80036\" points=\"65,405.06,61,411.06,65,417.06,69,411.06,65,405.06\" style=\"stroke: #A80036; stroke-width: 1.0;\"/></a><!--MD5=[dc164f5e8a733ab456ef1add180e9e34]\n",
       "reverse link E7 to E8--><a href=\"psysml:de6f8f38-3125-456b-a954-15a696931b63\" target=\"_top\" title=\"psysml:de6f8f38-3125-456b-a954-15a696931b63\" xlink:actuate=\"onRequest\" xlink:href=\"psysml:de6f8f38-3125-456b-a954-15a696931b63\" xlink:show=\"new\" xlink:title=\"psysml:de6f8f38-3125-456b-a954-15a696931b63\" xlink:type=\"simple\"><path d=\"M107.95,205.49 C112.91,221.15 118.64,239.19 123.01,252.98 \" fill=\"none\" id=\"E7&lt;-E8\" style=\"stroke: #A80036; stroke-width: 1.0;\"/><polygon fill=\"#A80036\" points=\"104,193.06,101.9989,199.9879,107.6243,204.4996,109.6253,197.5717,104,193.06\" style=\"stroke: #A80036; stroke-width: 1.0;\"/></a><!--MD5=[f1f3f9f2fc535e6147756cb86a7f2e32]\n",
       "link E8 to E2--><a href=\"psysml:536a95df-7241-4403-bcab-1aa9fe7a4b7d\" target=\"_top\" title=\"psysml:536a95df-7241-4403-bcab-1aa9fe7a4b7d\" xlink:actuate=\"onRequest\" xlink:href=\"psysml:536a95df-7241-4403-bcab-1aa9fe7a4b7d\" xlink:show=\"new\" xlink:title=\"psysml:536a95df-7241-4403-bcab-1aa9fe7a4b7d\" xlink:type=\"simple\"><path d=\"M140.6,299.06 C146.44,311.19 153.86,326.62 160.68,340.82 \" fill=\"none\" id=\"E8-&gt;E2\" style=\"stroke: #A80036; stroke-width: 1.0;\"/><polygon fill=\"#FFFFFF\" points=\"169.41,358.98,154.8709,344.8869,167.4894,338.8228,169.41,358.98\" style=\"stroke: #A80036; stroke-width: 1.0;\"/><ellipse cx=\"154.2046\" cy=\"338.8831\" fill=\"#A80036\" rx=\"2\" ry=\"2\" style=\"stroke: #A80036; stroke-width: 1.0;\"/><ellipse cx=\"163.2178\" cy=\"334.5516\" fill=\"#A80036\" rx=\"2\" ry=\"2\" style=\"stroke: #A80036; stroke-width: 1.0;\"/></a><!--MD5=[e4a10ef82d0e328e31cac39a31e58dda]\n",
       "reverse link E7 to E9--><a href=\"psysml:2c441a1b-e979-4985-bcd5-61f8c13172d0\" target=\"_top\" title=\"psysml:2c441a1b-e979-4985-bcd5-61f8c13172d0\" xlink:actuate=\"onRequest\" xlink:href=\"psysml:2c441a1b-e979-4985-bcd5-61f8c13172d0\" xlink:show=\"new\" xlink:title=\"psysml:2c441a1b-e979-4985-bcd5-61f8c13172d0\" xlink:type=\"simple\"><path d=\"M82.41,205.49 C75.78,221.15 68.15,239.19 62.32,252.98 \" fill=\"none\" id=\"E7&lt;-E9\" style=\"stroke: #A80036; stroke-width: 1.0;\"/><polygon fill=\"#A80036\" points=\"87.67,193.06,81.6505,197.0305,83.0003,204.1142,89.0199,200.1436,87.67,193.06\" style=\"stroke: #A80036; stroke-width: 1.0;\"/></a><!--MD5=[bfc3ddf2e613be37104f658f09af896c]\n",
       "link E9 to E5--><a href=\"psysml:fc8a5d52-f7b0-45e1-9a4f-1e932b65f071\" target=\"_top\" title=\"psysml:fc8a5d52-f7b0-45e1-9a4f-1e932b65f071\" xlink:actuate=\"onRequest\" xlink:href=\"psysml:fc8a5d52-f7b0-45e1-9a4f-1e932b65f071\" xlink:show=\"new\" xlink:title=\"psysml:fc8a5d52-f7b0-45e1-9a4f-1e932b65f071\" xlink:type=\"simple\"><path d=\"M55.54,299.06 C56.88,310.64 58.56,325.23 60.14,338.87 \" fill=\"none\" id=\"E9-&gt;E5\" style=\"stroke: #A80036; stroke-width: 1.0;\"/><polygon fill=\"#FFFFFF\" points=\"62.46,358.98,53.3347,340.9044,67.243,339.3046,62.46,358.98\" style=\"stroke: #A80036; stroke-width: 1.0;\"/><ellipse cx=\"54.6702\" cy=\"335.0132\" fill=\"#A80036\" rx=\"2\" ry=\"2\" style=\"stroke: #A80036; stroke-width: 1.0;\"/><ellipse cx=\"64.6047\" cy=\"333.8704\" fill=\"#A80036\" rx=\"2\" ry=\"2\" style=\"stroke: #A80036; stroke-width: 1.0;\"/></a><!--MD5=[a919e0967d6f3de553dc51b9865a1d6d]\n",
       "link E10 to E7--><a href=\"psysml:2e3833d6-0a03-41e5-9593-325ba84dff2e\" target=\"_top\" title=\"psysml:2e3833d6-0a03-41e5-9593-325ba84dff2e\" xlink:actuate=\"onRequest\" xlink:href=\"psysml:2e3833d6-0a03-41e5-9593-325ba84dff2e\" xlink:show=\"new\" xlink:title=\"psysml:2e3833d6-0a03-41e5-9593-325ba84dff2e\" xlink:type=\"simple\"><path d=\"M97,87.06 C97,98.64 97,113.23 97,126.87 \" fill=\"none\" id=\"E10-&gt;E7\" style=\"stroke: #A80036; stroke-width: 1.0;\"/><polygon fill=\"#FFFFFF\" points=\"97,146.98,90,127.98,104,127.98,97,146.98\" style=\"stroke: #A80036; stroke-width: 1.0;\"/><ellipse cx=\"92\" cy=\"122.28\" fill=\"#A80036\" rx=\"2\" ry=\"2\" style=\"stroke: #A80036; stroke-width: 1.0;\"/><ellipse cx=\"102\" cy=\"122.28\" fill=\"#A80036\" rx=\"2\" ry=\"2\" style=\"stroke: #A80036; stroke-width: 1.0;\"/></a><!--MD5=[8dba09f7c70edadd410024ac7b3bea83]\n",
       "@startuml\r\n",
       "skinparam wrapWidth 300\r\n",
       "hide circle\r\n",
       "\r\n",
       "package \"Q\" as E1  [[psysml:427a19be-4ba6-433c-b392-6823bf74d458 ]]  {\r\n",
       "comp def \"F\" as E2  <<(T,blue) part def>> [[psysml:027effde-34e9-4491-ba0c-9f82cacaad23 ]] {\r\n",
       "}\r\n",
       "comp usage \"a\" as E3  <<(T,blue) part>> [[psysml:241a9b2a-e9cc-4b19-964a-2424b61c0639 ]] {\r\n",
       "}\r\n",
       "comp usage \"f: F\" as E4  <<(T,blue) part>> [[psysml:40835df5-3f1f-4886-9446-1465d21ad736 ]] {\r\n",
       "}\r\n",
       "comp def \"A\" as E5  <<(T,blue) part def>> [[psysml:299c2c32-5ec1-43b2-a066-b7748b01150c ]] {\r\n",
       "}\r\n",
       "comp usage \"g\" as E6  <<(T,blue) part>> [[psysml:31dec55f-8acf-4d42-bd51-f4047894820c ]] {\r\n",
       "}\r\n",
       "comp def \"B\" as E7  <<(T,blue) part def>> [[psysml:e57a8ff4-b454-49af-9671-50f81189572a ]] {\r\n",
       "}\r\n",
       "comp usage \"f: F\" as E8  <<(T,blue) part>> [[psysml:ae9b8861-e9cc-45e7-97b3-375fd90ac7d9 ]] {\r\n",
       "}\r\n",
       "comp usage \"a: A\" as E9  <<(T,blue) part>> [[psysml:d620b19b-a1e2-497d-8cad-3b2dc38fedc0 ]] {\r\n",
       "}\r\n",
       "comp usage \"b: B\" as E10  <<(T,blue) part>> [[psysml:f9a1a989-561d-4119-971e-8ebceafa94b4 ]] {\r\n",
       "}\r\n",
       "E2 *- - E3 [[psysml:5ee10b2b-55c1-4a08-a13b-bdb74e3f50e5 ]] \r\n",
       "E4 - -:|> E2 [[psysml:c4c1c0e2-eca3-4dc3-a203-c30912c3ab2b ]] \r\n",
       "E5 *- - E6 [[psysml:93463b7d-149f-4a15-b84b-177a9e530eda ]] \r\n",
       "E7 *- - E8 [[psysml:de6f8f38-3125-456b-a954-15a696931b63 ]] \r\n",
       "E8 - -:|> E2 [[psysml:536a95df-7241-4403-bcab-1aa9fe7a4b7d ]] \r\n",
       "E7 *- - E9 [[psysml:2c441a1b-e979-4985-bcd5-61f8c13172d0 ]] \r\n",
       "E9 - -:|> E5 [[psysml:fc8a5d52-f7b0-45e1-9a4f-1e932b65f071 ]] \r\n",
       "E10 - -:|> E7 [[psysml:2e3833d6-0a03-41e5-9593-325ba84dff2e ]] \r\n",
       "}\r\n",
       "@enduml\r\n",
       "\n",
       "PlantUML version 1.2020.13(Sat Jun 13 12:26:38 UTC 2020)\n",
       "(EPL source distribution)\n",
       "Java Runtime: OpenJDK Runtime Environment\n",
       "JVM: OpenJDK 64-Bit Server VM\n",
       "Default Encoding: UTF-8\n",
       "Language: en\n",
       "Country: null\n",
       "--></g></svg>"
      ]
     },
     "execution_count": 28,
     "metadata": {},
     "output_type": "execute_result"
    }
   ],
   "source": [
    "%viz --style=\"STDCOLOR\" --view=\"Sequence\" \"Q\""
   ]
  },
  {
   "cell_type": "code",
   "execution_count": 29,
   "id": "cc42548a",
   "metadata": {
    "execution": {
     "iopub.execute_input": "2021-06-30T09:23:33.594160Z",
     "iopub.status.busy": "2021-06-30T09:23:33.592290Z",
     "iopub.status.idle": "2021-06-30T09:23:33.715078Z",
     "shell.execute_reply": "2021-06-30T09:23:33.711306Z"
    }
   },
   "outputs": [
    {
     "data": {
      "image/svg+xml": [
       "<?xml version=\"1.0\" encoding=\"UTF-8\" standalone=\"no\"?><svg xmlns=\"http://www.w3.org/2000/svg\" xmlns:xlink=\"http://www.w3.org/1999/xlink\" contentScriptType=\"application/ecmascript\" contentStyleType=\"text/css\" height=\"539px\" preserveAspectRatio=\"none\" style=\"width:266px;height:539px;\" version=\"1.1\" viewBox=\"0 0 266 539\" width=\"266px\" zoomAndPan=\"magnify\"><defs><filter height=\"300%\" id=\"fnq6gryv2tfkt\" width=\"300%\" x=\"-1\" y=\"-1\"><feGaussianBlur result=\"blurOut\" stdDeviation=\"2.0\"/><feColorMatrix in=\"blurOut\" result=\"blurOut2\" type=\"matrix\" values=\"0 0 0 0 0 0 0 0 0 0 0 0 0 0 0 0 0 0 .4 0\"/><feOffset dx=\"4.0\" dy=\"4.0\" in=\"blurOut2\" result=\"blurOut3\"/><feBlend in=\"SourceGraphic\" in2=\"blurOut3\" mode=\"normal\"/></filter></defs><g><!--MD5=[fbc87193dbaf4d95561dea2c320d4a47]\n",
       "cluster E1--><a href=\"psysml:427a19be-4ba6-433c-b392-6823bf74d458\" target=\"_top\" title=\"psysml:427a19be-4ba6-433c-b392-6823bf74d458\" xlink:actuate=\"onRequest\" xlink:href=\"psysml:427a19be-4ba6-433c-b392-6823bf74d458\" xlink:show=\"new\" xlink:title=\"psysml:427a19be-4ba6-433c-b392-6823bf74d458\" xlink:type=\"simple\"><polygon fill=\"#FFFFFF\" filter=\"url(#fnq6gryv2tfkt)\" points=\"16,6,34,6,41,28.2969,244,28.2969,244,527,16,527,16,6\" style=\"stroke: #000000; stroke-width: 1.5;\"/><line style=\"stroke: #000000; stroke-width: 1.5;\" x1=\"16\" x2=\"41\" y1=\"28.2969\" y2=\"28.2969\"/><text fill=\"#000000\" font-family=\"sans-serif\" font-size=\"14\" font-weight=\"bold\" lengthAdjust=\"spacingAndGlyphs\" textLength=\"12\" x=\"20\" y=\"20.9951\">Q</text></a><!--MD5=[b4997ac47864f28c2f74865a473b2911]\n",
       "class E2--><a href=\"psysml:027effde-34e9-4491-ba0c-9f82cacaad23\" target=\"_top\" title=\"psysml:027effde-34e9-4491-ba0c-9f82cacaad23\" xlink:actuate=\"onRequest\" xlink:href=\"psysml:027effde-34e9-4491-ba0c-9f82cacaad23\" xlink:show=\"new\" xlink:title=\"psysml:027effde-34e9-4491-ba0c-9f82cacaad23\" xlink:type=\"simple\"><rect fill=\"#FEFECE\" filter=\"url(#fnq6gryv2tfkt)\" height=\"45.9375\" id=\"E2\" style=\"stroke: #A80036; stroke-width: 1.5;\" width=\"66\" x=\"147\" y=\"359\"/><text fill=\"#000000\" font-family=\"sans-serif\" font-size=\"12\" font-style=\"italic\" lengthAdjust=\"spacingAndGlyphs\" textLength=\"64\" x=\"148\" y=\"375.1387\">«part def»</text><text fill=\"#000000\" font-family=\"sans-serif\" font-size=\"12\" lengthAdjust=\"spacingAndGlyphs\" textLength=\"7\" x=\"176.5\" y=\"389.1074\">F</text><line style=\"stroke: #A80036; stroke-width: 1.5;\" x1=\"148\" x2=\"212\" y1=\"396.9375\" y2=\"396.9375\"/></a><!--MD5=[09b614a08d8cba4a07c9adeb5e0fee81]\n",
       "class E3--><a href=\"psysml:241a9b2a-e9cc-4b19-964a-2424b61c0639\" target=\"_top\" title=\"psysml:241a9b2a-e9cc-4b19-964a-2424b61c0639\" xlink:actuate=\"onRequest\" xlink:href=\"psysml:241a9b2a-e9cc-4b19-964a-2424b61c0639\" xlink:show=\"new\" xlink:title=\"psysml:241a9b2a-e9cc-4b19-964a-2424b61c0639\" xlink:type=\"simple\"><rect fill=\"#FEFECE\" filter=\"url(#fnq6gryv2tfkt)\" height=\"45.9375\" id=\"E3\" rx=\"10\" ry=\"10\" style=\"stroke: #A80036; stroke-width: 1.5;\" width=\"42\" x=\"159\" y=\"465\"/><text fill=\"#000000\" font-family=\"sans-serif\" font-size=\"12\" font-style=\"italic\" lengthAdjust=\"spacingAndGlyphs\" textLength=\"40\" x=\"160\" y=\"481.1387\">«part»</text><text fill=\"#000000\" font-family=\"sans-serif\" font-size=\"12\" lengthAdjust=\"spacingAndGlyphs\" textLength=\"8\" x=\"176\" y=\"495.1074\">a</text><line style=\"stroke: #A80036; stroke-width: 1.5;\" x1=\"160\" x2=\"200\" y1=\"502.9375\" y2=\"502.9375\"/></a><!--MD5=[ebbe1d658d1005bcc118a6aa81145e00]\n",
       "class E4--><a href=\"psysml:40835df5-3f1f-4886-9446-1465d21ad736\" target=\"_top\" title=\"psysml:40835df5-3f1f-4886-9446-1465d21ad736\" xlink:actuate=\"onRequest\" xlink:href=\"psysml:40835df5-3f1f-4886-9446-1465d21ad736\" xlink:show=\"new\" xlink:title=\"psysml:40835df5-3f1f-4886-9446-1465d21ad736\" xlink:type=\"simple\"><rect fill=\"#FEFECE\" filter=\"url(#fnq6gryv2tfkt)\" height=\"45.9375\" id=\"E4\" rx=\"10\" ry=\"10\" style=\"stroke: #A80036; stroke-width: 1.5;\" width=\"42\" x=\"186\" y=\"253\"/><text fill=\"#000000\" font-family=\"sans-serif\" font-size=\"12\" font-style=\"italic\" lengthAdjust=\"spacingAndGlyphs\" textLength=\"40\" x=\"187\" y=\"269.1387\">«part»</text><text fill=\"#000000\" font-family=\"sans-serif\" font-size=\"12\" lengthAdjust=\"spacingAndGlyphs\" textLength=\"19\" x=\"197.5\" y=\"283.1074\">f: F</text><line style=\"stroke: #A80036; stroke-width: 1.5;\" x1=\"187\" x2=\"227\" y1=\"290.9375\" y2=\"290.9375\"/></a><!--MD5=[270fce915f116d4de14055a7c1d9a0f3]\n",
       "class E5--><a href=\"psysml:299c2c32-5ec1-43b2-a066-b7748b01150c\" target=\"_top\" title=\"psysml:299c2c32-5ec1-43b2-a066-b7748b01150c\" xlink:actuate=\"onRequest\" xlink:href=\"psysml:299c2c32-5ec1-43b2-a066-b7748b01150c\" xlink:show=\"new\" xlink:title=\"psysml:299c2c32-5ec1-43b2-a066-b7748b01150c\" xlink:type=\"simple\"><rect fill=\"#FEFECE\" filter=\"url(#fnq6gryv2tfkt)\" height=\"45.9375\" id=\"E5\" style=\"stroke: #A80036; stroke-width: 1.5;\" width=\"66\" x=\"32\" y=\"359\"/><text fill=\"#000000\" font-family=\"sans-serif\" font-size=\"12\" font-style=\"italic\" lengthAdjust=\"spacingAndGlyphs\" textLength=\"64\" x=\"33\" y=\"375.1387\">«part def»</text><text fill=\"#000000\" font-family=\"sans-serif\" font-size=\"12\" lengthAdjust=\"spacingAndGlyphs\" textLength=\"8\" x=\"61\" y=\"389.1074\">A</text><line style=\"stroke: #A80036; stroke-width: 1.5;\" x1=\"33\" x2=\"97\" y1=\"396.9375\" y2=\"396.9375\"/></a><!--MD5=[60a26617385b1d2d0262a64233df1f8d]\n",
       "class E6--><a href=\"psysml:31dec55f-8acf-4d42-bd51-f4047894820c\" target=\"_top\" title=\"psysml:31dec55f-8acf-4d42-bd51-f4047894820c\" xlink:actuate=\"onRequest\" xlink:href=\"psysml:31dec55f-8acf-4d42-bd51-f4047894820c\" xlink:show=\"new\" xlink:title=\"psysml:31dec55f-8acf-4d42-bd51-f4047894820c\" xlink:type=\"simple\"><rect fill=\"#FEFECE\" filter=\"url(#fnq6gryv2tfkt)\" height=\"45.9375\" id=\"E6\" rx=\"10\" ry=\"10\" style=\"stroke: #A80036; stroke-width: 1.5;\" width=\"42\" x=\"44\" y=\"465\"/><text fill=\"#000000\" font-family=\"sans-serif\" font-size=\"12\" font-style=\"italic\" lengthAdjust=\"spacingAndGlyphs\" textLength=\"40\" x=\"45\" y=\"481.1387\">«part»</text><text fill=\"#000000\" font-family=\"sans-serif\" font-size=\"12\" lengthAdjust=\"spacingAndGlyphs\" textLength=\"8\" x=\"61\" y=\"495.1074\">g</text><line style=\"stroke: #A80036; stroke-width: 1.5;\" x1=\"45\" x2=\"85\" y1=\"502.9375\" y2=\"502.9375\"/></a><!--MD5=[2156ba9850f5573cc1fc38a6a4b2f02b]\n",
       "class E7--><a href=\"psysml:e57a8ff4-b454-49af-9671-50f81189572a\" target=\"_top\" title=\"psysml:e57a8ff4-b454-49af-9671-50f81189572a\" xlink:actuate=\"onRequest\" xlink:href=\"psysml:e57a8ff4-b454-49af-9671-50f81189572a\" xlink:show=\"new\" xlink:title=\"psysml:e57a8ff4-b454-49af-9671-50f81189572a\" xlink:type=\"simple\"><rect fill=\"#FEFECE\" filter=\"url(#fnq6gryv2tfkt)\" height=\"45.9375\" id=\"E7\" style=\"stroke: #A80036; stroke-width: 1.5;\" width=\"66\" x=\"64\" y=\"147\"/><text fill=\"#000000\" font-family=\"sans-serif\" font-size=\"12\" font-style=\"italic\" lengthAdjust=\"spacingAndGlyphs\" textLength=\"64\" x=\"65\" y=\"163.1387\">«part def»</text><text fill=\"#000000\" font-family=\"sans-serif\" font-size=\"12\" lengthAdjust=\"spacingAndGlyphs\" textLength=\"8\" x=\"93\" y=\"177.1074\">B</text><line style=\"stroke: #A80036; stroke-width: 1.5;\" x1=\"65\" x2=\"129\" y1=\"184.9375\" y2=\"184.9375\"/></a><!--MD5=[b9389687b975829384b498ac4b7476b2]\n",
       "class E8--><a href=\"psysml:ae9b8861-e9cc-45e7-97b3-375fd90ac7d9\" target=\"_top\" title=\"psysml:ae9b8861-e9cc-45e7-97b3-375fd90ac7d9\" xlink:actuate=\"onRequest\" xlink:href=\"psysml:ae9b8861-e9cc-45e7-97b3-375fd90ac7d9\" xlink:show=\"new\" xlink:title=\"psysml:ae9b8861-e9cc-45e7-97b3-375fd90ac7d9\" xlink:type=\"simple\"><rect fill=\"#FEFECE\" filter=\"url(#fnq6gryv2tfkt)\" height=\"45.9375\" id=\"E8\" rx=\"10\" ry=\"10\" style=\"stroke: #A80036; stroke-width: 1.5;\" width=\"42\" x=\"109\" y=\"253\"/><text fill=\"#000000\" font-family=\"sans-serif\" font-size=\"12\" font-style=\"italic\" lengthAdjust=\"spacingAndGlyphs\" textLength=\"40\" x=\"110\" y=\"269.1387\">«part»</text><text fill=\"#000000\" font-family=\"sans-serif\" font-size=\"12\" lengthAdjust=\"spacingAndGlyphs\" textLength=\"19\" x=\"120.5\" y=\"283.1074\">f: F</text><line style=\"stroke: #A80036; stroke-width: 1.5;\" x1=\"110\" x2=\"150\" y1=\"290.9375\" y2=\"290.9375\"/></a><!--MD5=[fd4143e9d270a159db93a4ea2a975926]\n",
       "class E9--><a href=\"psysml:d620b19b-a1e2-497d-8cad-3b2dc38fedc0\" target=\"_top\" title=\"psysml:d620b19b-a1e2-497d-8cad-3b2dc38fedc0\" xlink:actuate=\"onRequest\" xlink:href=\"psysml:d620b19b-a1e2-497d-8cad-3b2dc38fedc0\" xlink:show=\"new\" xlink:title=\"psysml:d620b19b-a1e2-497d-8cad-3b2dc38fedc0\" xlink:type=\"simple\"><rect fill=\"#FEFECE\" filter=\"url(#fnq6gryv2tfkt)\" height=\"45.9375\" id=\"E9\" rx=\"10\" ry=\"10\" style=\"stroke: #A80036; stroke-width: 1.5;\" width=\"42\" x=\"32\" y=\"253\"/><text fill=\"#000000\" font-family=\"sans-serif\" font-size=\"12\" font-style=\"italic\" lengthAdjust=\"spacingAndGlyphs\" textLength=\"40\" x=\"33\" y=\"269.1387\">«part»</text><text fill=\"#000000\" font-family=\"sans-serif\" font-size=\"12\" lengthAdjust=\"spacingAndGlyphs\" textLength=\"24\" x=\"41\" y=\"283.1074\">a: A</text><line style=\"stroke: #A80036; stroke-width: 1.5;\" x1=\"33\" x2=\"73\" y1=\"290.9375\" y2=\"290.9375\"/></a><!--MD5=[96f4274e9e20536e775497830990834d]\n",
       "class E10--><a href=\"psysml:f9a1a989-561d-4119-971e-8ebceafa94b4\" target=\"_top\" title=\"psysml:f9a1a989-561d-4119-971e-8ebceafa94b4\" xlink:actuate=\"onRequest\" xlink:href=\"psysml:f9a1a989-561d-4119-971e-8ebceafa94b4\" xlink:show=\"new\" xlink:title=\"psysml:f9a1a989-561d-4119-971e-8ebceafa94b4\" xlink:type=\"simple\"><rect fill=\"#FEFECE\" filter=\"url(#fnq6gryv2tfkt)\" height=\"45.9375\" id=\"E10\" rx=\"10\" ry=\"10\" style=\"stroke: #A80036; stroke-width: 1.5;\" width=\"42\" x=\"76\" y=\"41\"/><text fill=\"#000000\" font-family=\"sans-serif\" font-size=\"12\" font-style=\"italic\" lengthAdjust=\"spacingAndGlyphs\" textLength=\"40\" x=\"77\" y=\"57.1387\">«part»</text><text fill=\"#000000\" font-family=\"sans-serif\" font-size=\"12\" lengthAdjust=\"spacingAndGlyphs\" textLength=\"24\" x=\"85\" y=\"71.1074\">b: B</text><line style=\"stroke: #A80036; stroke-width: 1.5;\" x1=\"77\" x2=\"117\" y1=\"78.9375\" y2=\"78.9375\"/></a><!--MD5=[209b3feb70ccb6233bfe1053d122c12c]\n",
       "reverse link E2 to E3--><a href=\"psysml:5ee10b2b-55c1-4a08-a13b-bdb74e3f50e5\" target=\"_top\" title=\"psysml:5ee10b2b-55c1-4a08-a13b-bdb74e3f50e5\" xlink:actuate=\"onRequest\" xlink:href=\"psysml:5ee10b2b-55c1-4a08-a13b-bdb74e3f50e5\" xlink:show=\"new\" xlink:title=\"psysml:5ee10b2b-55c1-4a08-a13b-bdb74e3f50e5\" xlink:type=\"simple\"><path d=\"M180,418.44 C180,433.87 180,451.47 180,464.98 \" fill=\"none\" id=\"E2&lt;-E3\" style=\"stroke: #A80036; stroke-width: 1.0;\"/><polygon fill=\"#A80036\" points=\"180,405.06,176,411.06,180,417.06,184,411.06,180,405.06\" style=\"stroke: #A80036; stroke-width: 1.0;\"/></a><!--MD5=[185131fc0dcab0a4505a2ebe144e961b]\n",
       "link E4 to E2--><a href=\"psysml:c4c1c0e2-eca3-4dc3-a203-c30912c3ab2b\" target=\"_top\" title=\"psysml:c4c1c0e2-eca3-4dc3-a203-c30912c3ab2b\" xlink:actuate=\"onRequest\" xlink:href=\"psysml:c4c1c0e2-eca3-4dc3-a203-c30912c3ab2b\" xlink:show=\"new\" xlink:title=\"psysml:c4c1c0e2-eca3-4dc3-a203-c30912c3ab2b\" xlink:type=\"simple\"><path d=\"M201.27,299.06 C198.23,310.78 194.39,325.57 190.81,339.36 \" fill=\"none\" id=\"E4-&gt;E2\" style=\"stroke: #A80036; stroke-width: 1.0;\"/><polygon fill=\"#FFFFFF\" points=\"185.72,358.98,183.7221,338.8303,197.2724,342.3504,185.72,358.98\" style=\"stroke: #A80036; stroke-width: 1.0;\"/><ellipse cx=\"187.091\" cy=\"333.8163\" fill=\"#A80036\" rx=\"2\" ry=\"2\" style=\"stroke: #A80036; stroke-width: 1.0;\"/><ellipse cx=\"196.7698\" cy=\"336.3307\" fill=\"#A80036\" rx=\"2\" ry=\"2\" style=\"stroke: #A80036; stroke-width: 1.0;\"/></a><!--MD5=[85d356282659285ab4b2cfe2f634dd2b]\n",
       "reverse link E5 to E6--><a href=\"psysml:93463b7d-149f-4a15-b84b-177a9e530eda\" target=\"_top\" title=\"psysml:93463b7d-149f-4a15-b84b-177a9e530eda\" xlink:actuate=\"onRequest\" xlink:href=\"psysml:93463b7d-149f-4a15-b84b-177a9e530eda\" xlink:show=\"new\" xlink:title=\"psysml:93463b7d-149f-4a15-b84b-177a9e530eda\" xlink:type=\"simple\"><path d=\"M65,418.44 C65,433.87 65,451.47 65,464.98 \" fill=\"none\" id=\"E5&lt;-E6\" style=\"stroke: #A80036; stroke-width: 1.0;\"/><polygon fill=\"#A80036\" points=\"65,405.06,61,411.06,65,417.06,69,411.06,65,405.06\" style=\"stroke: #A80036; stroke-width: 1.0;\"/></a><!--MD5=[dc164f5e8a733ab456ef1add180e9e34]\n",
       "reverse link E7 to E8--><a href=\"psysml:de6f8f38-3125-456b-a954-15a696931b63\" target=\"_top\" title=\"psysml:de6f8f38-3125-456b-a954-15a696931b63\" xlink:actuate=\"onRequest\" xlink:href=\"psysml:de6f8f38-3125-456b-a954-15a696931b63\" xlink:show=\"new\" xlink:title=\"psysml:de6f8f38-3125-456b-a954-15a696931b63\" xlink:type=\"simple\"><path d=\"M107.95,205.49 C112.91,221.15 118.64,239.19 123.01,252.98 \" fill=\"none\" id=\"E7&lt;-E8\" style=\"stroke: #A80036; stroke-width: 1.0;\"/><polygon fill=\"#A80036\" points=\"104,193.06,101.9989,199.9879,107.6243,204.4996,109.6253,197.5717,104,193.06\" style=\"stroke: #A80036; stroke-width: 1.0;\"/></a><!--MD5=[f1f3f9f2fc535e6147756cb86a7f2e32]\n",
       "link E8 to E2--><a href=\"psysml:536a95df-7241-4403-bcab-1aa9fe7a4b7d\" target=\"_top\" title=\"psysml:536a95df-7241-4403-bcab-1aa9fe7a4b7d\" xlink:actuate=\"onRequest\" xlink:href=\"psysml:536a95df-7241-4403-bcab-1aa9fe7a4b7d\" xlink:show=\"new\" xlink:title=\"psysml:536a95df-7241-4403-bcab-1aa9fe7a4b7d\" xlink:type=\"simple\"><path d=\"M140.6,299.06 C146.44,311.19 153.86,326.62 160.68,340.82 \" fill=\"none\" id=\"E8-&gt;E2\" style=\"stroke: #A80036; stroke-width: 1.0;\"/><polygon fill=\"#FFFFFF\" points=\"169.41,358.98,154.8709,344.8869,167.4894,338.8228,169.41,358.98\" style=\"stroke: #A80036; stroke-width: 1.0;\"/><ellipse cx=\"154.2046\" cy=\"338.8831\" fill=\"#A80036\" rx=\"2\" ry=\"2\" style=\"stroke: #A80036; stroke-width: 1.0;\"/><ellipse cx=\"163.2178\" cy=\"334.5516\" fill=\"#A80036\" rx=\"2\" ry=\"2\" style=\"stroke: #A80036; stroke-width: 1.0;\"/></a><!--MD5=[e4a10ef82d0e328e31cac39a31e58dda]\n",
       "reverse link E7 to E9--><a href=\"psysml:2c441a1b-e979-4985-bcd5-61f8c13172d0\" target=\"_top\" title=\"psysml:2c441a1b-e979-4985-bcd5-61f8c13172d0\" xlink:actuate=\"onRequest\" xlink:href=\"psysml:2c441a1b-e979-4985-bcd5-61f8c13172d0\" xlink:show=\"new\" xlink:title=\"psysml:2c441a1b-e979-4985-bcd5-61f8c13172d0\" xlink:type=\"simple\"><path d=\"M82.41,205.49 C75.78,221.15 68.15,239.19 62.32,252.98 \" fill=\"none\" id=\"E7&lt;-E9\" style=\"stroke: #A80036; stroke-width: 1.0;\"/><polygon fill=\"#A80036\" points=\"87.67,193.06,81.6505,197.0305,83.0003,204.1142,89.0199,200.1436,87.67,193.06\" style=\"stroke: #A80036; stroke-width: 1.0;\"/></a><!--MD5=[bfc3ddf2e613be37104f658f09af896c]\n",
       "link E9 to E5--><a href=\"psysml:fc8a5d52-f7b0-45e1-9a4f-1e932b65f071\" target=\"_top\" title=\"psysml:fc8a5d52-f7b0-45e1-9a4f-1e932b65f071\" xlink:actuate=\"onRequest\" xlink:href=\"psysml:fc8a5d52-f7b0-45e1-9a4f-1e932b65f071\" xlink:show=\"new\" xlink:title=\"psysml:fc8a5d52-f7b0-45e1-9a4f-1e932b65f071\" xlink:type=\"simple\"><path d=\"M55.54,299.06 C56.88,310.64 58.56,325.23 60.14,338.87 \" fill=\"none\" id=\"E9-&gt;E5\" style=\"stroke: #A80036; stroke-width: 1.0;\"/><polygon fill=\"#FFFFFF\" points=\"62.46,358.98,53.3347,340.9044,67.243,339.3046,62.46,358.98\" style=\"stroke: #A80036; stroke-width: 1.0;\"/><ellipse cx=\"54.6702\" cy=\"335.0132\" fill=\"#A80036\" rx=\"2\" ry=\"2\" style=\"stroke: #A80036; stroke-width: 1.0;\"/><ellipse cx=\"64.6047\" cy=\"333.8704\" fill=\"#A80036\" rx=\"2\" ry=\"2\" style=\"stroke: #A80036; stroke-width: 1.0;\"/></a><!--MD5=[a919e0967d6f3de553dc51b9865a1d6d]\n",
       "link E10 to E7--><a href=\"psysml:2e3833d6-0a03-41e5-9593-325ba84dff2e\" target=\"_top\" title=\"psysml:2e3833d6-0a03-41e5-9593-325ba84dff2e\" xlink:actuate=\"onRequest\" xlink:href=\"psysml:2e3833d6-0a03-41e5-9593-325ba84dff2e\" xlink:show=\"new\" xlink:title=\"psysml:2e3833d6-0a03-41e5-9593-325ba84dff2e\" xlink:type=\"simple\"><path d=\"M97,87.06 C97,98.64 97,113.23 97,126.87 \" fill=\"none\" id=\"E10-&gt;E7\" style=\"stroke: #A80036; stroke-width: 1.0;\"/><polygon fill=\"#FFFFFF\" points=\"97,146.98,90,127.98,104,127.98,97,146.98\" style=\"stroke: #A80036; stroke-width: 1.0;\"/><ellipse cx=\"92\" cy=\"122.28\" fill=\"#A80036\" rx=\"2\" ry=\"2\" style=\"stroke: #A80036; stroke-width: 1.0;\"/><ellipse cx=\"102\" cy=\"122.28\" fill=\"#A80036\" rx=\"2\" ry=\"2\" style=\"stroke: #A80036; stroke-width: 1.0;\"/></a><!--MD5=[8dba09f7c70edadd410024ac7b3bea83]\n",
       "@startuml\r\n",
       "skinparam wrapWidth 300\r\n",
       "hide circle\r\n",
       "\r\n",
       "package \"Q\" as E1  [[psysml:427a19be-4ba6-433c-b392-6823bf74d458 ]]  {\r\n",
       "comp def \"F\" as E2  <<(T,blue) part def>> [[psysml:027effde-34e9-4491-ba0c-9f82cacaad23 ]] {\r\n",
       "}\r\n",
       "comp usage \"a\" as E3  <<(T,blue) part>> [[psysml:241a9b2a-e9cc-4b19-964a-2424b61c0639 ]] {\r\n",
       "}\r\n",
       "comp usage \"f: F\" as E4  <<(T,blue) part>> [[psysml:40835df5-3f1f-4886-9446-1465d21ad736 ]] {\r\n",
       "}\r\n",
       "comp def \"A\" as E5  <<(T,blue) part def>> [[psysml:299c2c32-5ec1-43b2-a066-b7748b01150c ]] {\r\n",
       "}\r\n",
       "comp usage \"g\" as E6  <<(T,blue) part>> [[psysml:31dec55f-8acf-4d42-bd51-f4047894820c ]] {\r\n",
       "}\r\n",
       "comp def \"B\" as E7  <<(T,blue) part def>> [[psysml:e57a8ff4-b454-49af-9671-50f81189572a ]] {\r\n",
       "}\r\n",
       "comp usage \"f: F\" as E8  <<(T,blue) part>> [[psysml:ae9b8861-e9cc-45e7-97b3-375fd90ac7d9 ]] {\r\n",
       "}\r\n",
       "comp usage \"a: A\" as E9  <<(T,blue) part>> [[psysml:d620b19b-a1e2-497d-8cad-3b2dc38fedc0 ]] {\r\n",
       "}\r\n",
       "comp usage \"b: B\" as E10  <<(T,blue) part>> [[psysml:f9a1a989-561d-4119-971e-8ebceafa94b4 ]] {\r\n",
       "}\r\n",
       "E2 *- - E3 [[psysml:5ee10b2b-55c1-4a08-a13b-bdb74e3f50e5 ]] \r\n",
       "E4 - -:|> E2 [[psysml:c4c1c0e2-eca3-4dc3-a203-c30912c3ab2b ]] \r\n",
       "E5 *- - E6 [[psysml:93463b7d-149f-4a15-b84b-177a9e530eda ]] \r\n",
       "E7 *- - E8 [[psysml:de6f8f38-3125-456b-a954-15a696931b63 ]] \r\n",
       "E8 - -:|> E2 [[psysml:536a95df-7241-4403-bcab-1aa9fe7a4b7d ]] \r\n",
       "E7 *- - E9 [[psysml:2c441a1b-e979-4985-bcd5-61f8c13172d0 ]] \r\n",
       "E9 - -:|> E5 [[psysml:fc8a5d52-f7b0-45e1-9a4f-1e932b65f071 ]] \r\n",
       "E10 - -:|> E7 [[psysml:2e3833d6-0a03-41e5-9593-325ba84dff2e ]] \r\n",
       "}\r\n",
       "@enduml\r\n",
       "\n",
       "PlantUML version 1.2020.13(Sat Jun 13 12:26:38 UTC 2020)\n",
       "(EPL source distribution)\n",
       "Java Runtime: OpenJDK Runtime Environment\n",
       "JVM: OpenJDK 64-Bit Server VM\n",
       "Default Encoding: UTF-8\n",
       "Language: en\n",
       "Country: null\n",
       "--></g></svg>"
      ]
     },
     "execution_count": 29,
     "metadata": {},
     "output_type": "execute_result"
    }
   ],
   "source": [
    "%viz --style=\"STDCOLOR\" --view=\"MIXED\" \"Q\""
   ]
  },
  {
   "cell_type": "code",
   "execution_count": 30,
   "id": "d0786279",
   "metadata": {
    "execution": {
     "iopub.execute_input": "2021-06-30T09:23:33.764362Z",
     "iopub.status.busy": "2021-06-30T09:23:33.763267Z",
     "iopub.status.idle": "2021-06-30T09:23:33.909024Z",
     "shell.execute_reply": "2021-06-30T09:23:33.904045Z"
    }
   },
   "outputs": [
    {
     "data": {
      "image/svg+xml": [
       "<?xml version=\"1.0\" encoding=\"UTF-8\" standalone=\"no\"?><svg xmlns=\"http://www.w3.org/2000/svg\" xmlns:xlink=\"http://www.w3.org/1999/xlink\" contentScriptType=\"application/ecmascript\" contentStyleType=\"text/css\" height=\"527px\" preserveAspectRatio=\"none\" style=\"width:344px;height:527px;\" version=\"1.1\" viewBox=\"0 0 344 527\" width=\"344px\" zoomAndPan=\"magnify\"><defs><filter height=\"300%\" id=\"f1bjt7m172rsd9\" width=\"300%\" x=\"-1\" y=\"-1\"><feGaussianBlur result=\"blurOut\" stdDeviation=\"2.0\"/><feColorMatrix in=\"blurOut\" result=\"blurOut2\" type=\"matrix\" values=\"0 0 0 0 0 0 0 0 0 0 0 0 0 0 0 0 0 0 .4 0\"/><feOffset dx=\"4.0\" dy=\"4.0\" in=\"blurOut2\" result=\"blurOut3\"/><feBlend in=\"SourceGraphic\" in2=\"blurOut3\" mode=\"normal\"/></filter></defs><g><!--MD5=[fbc87193dbaf4d95561dea2c320d4a47]\n",
       "cluster E1--><a href=\"psysml:427a19be-4ba6-433c-b392-6823bf74d458\" target=\"_top\" title=\"psysml:427a19be-4ba6-433c-b392-6823bf74d458\" xlink:actuate=\"onRequest\" xlink:href=\"psysml:427a19be-4ba6-433c-b392-6823bf74d458\" xlink:show=\"new\" xlink:title=\"psysml:427a19be-4ba6-433c-b392-6823bf74d458\" xlink:type=\"simple\"><polygon fill=\"#FFFFFF\" filter=\"url(#f1bjt7m172rsd9)\" points=\"16,6,34,6,41,28.2969,322,28.2969,322,515,16,515,16,6\" style=\"stroke: #000000; stroke-width: 1.5;\"/><line style=\"stroke: #000000; stroke-width: 1.5;\" x1=\"16\" x2=\"41\" y1=\"28.2969\" y2=\"28.2969\"/><text fill=\"#000000\" font-family=\"sans-serif\" font-size=\"14\" font-weight=\"bold\" lengthAdjust=\"spacingAndGlyphs\" textLength=\"12\" x=\"20\" y=\"20.9951\">Q</text></a><!--MD5=[b4997ac47864f28c2f74865a473b2911]\n",
       "class E2--><a href=\"psysml:027effde-34e9-4491-ba0c-9f82cacaad23\" target=\"_top\" title=\"psysml:027effde-34e9-4491-ba0c-9f82cacaad23\" xlink:actuate=\"onRequest\" xlink:href=\"psysml:027effde-34e9-4491-ba0c-9f82cacaad23\" xlink:show=\"new\" xlink:title=\"psysml:027effde-34e9-4491-ba0c-9f82cacaad23\" xlink:type=\"simple\"><rect fill=\"#FEFECE\" filter=\"url(#f1bjt7m172rsd9)\" height=\"40\" id=\"E2\" style=\"stroke: #A80036; stroke-width: 1.5;\" width=\"39\" x=\"200.5\" y=\"353\"/><ellipse cx=\"215.5\" cy=\"369\" fill=\"#008000\" rx=\"11\" ry=\"11\" style=\"stroke: #A80036; stroke-width: 1.0;\"/><path d=\"M214.4063,369.375 L214.4063,373.0469 L216.0313,373.0469 Q217.2031,373.0469 217.6719,372.6563 Q218.1406,372.25 218.1406,371.25 Q218.1406,370.25 217.6406,369.8125 Q217.1563,369.375 216.0313,369.375 L214.4063,369.375 Z M214.4063,364.5469 L214.4063,367.4219 L216.0313,367.4219 Q216.9531,367.4219 217.3438,367.0938 Q217.75,366.75 217.75,366 Q217.75,365.2344 217.3438,364.8906 Q216.9375,364.5469 216.0313,364.5469 L214.4063,364.5469 Z M212.0313,362.5938 L216.0313,362.5938 Q218.0938,362.5938 219.1406,363.375 Q220.1875,364.1563 220.1875,365.7188 Q220.1875,366.9219 219.5625,367.5938 Q218.9531,368.2656 217.7656,368.375 Q219.1875,368.5156 219.9063,369.3281 Q220.625,370.1406 220.625,371.5938 Q220.625,373.3906 219.5469,374.2031 Q218.4688,375 216.0313,375 L212.0313,375 L212.0313,362.5938 Z \"/><text fill=\"#000000\" font-family=\"sans-serif\" font-size=\"12\" lengthAdjust=\"spacingAndGlyphs\" textLength=\"7\" x=\"229.5\" y=\"373.1543\">F</text><line style=\"stroke: #A80036; stroke-width: 1.5;\" x1=\"201.5\" x2=\"238.5\" y1=\"385\" y2=\"385\"/></a><!--MD5=[09b614a08d8cba4a07c9adeb5e0fee81]\n",
       "class E3--><a href=\"psysml:241a9b2a-e9cc-4b19-964a-2424b61c0639\" target=\"_top\" title=\"psysml:241a9b2a-e9cc-4b19-964a-2424b61c0639\" xlink:actuate=\"onRequest\" xlink:href=\"psysml:241a9b2a-e9cc-4b19-964a-2424b61c0639\" xlink:show=\"new\" xlink:title=\"psysml:241a9b2a-e9cc-4b19-964a-2424b61c0639\" xlink:type=\"simple\"><rect fill=\"#FEFECE\" filter=\"url(#f1bjt7m172rsd9)\" height=\"45.9375\" id=\"E3\" rx=\"10\" ry=\"10\" style=\"stroke: #A80036; stroke-width: 1.5;\" width=\"68\" x=\"186\" y=\"453\"/><ellipse cx=\"201\" cy=\"471.9688\" fill=\"#32CD32\" rx=\"11\" ry=\"11\" style=\"stroke: #A80036; stroke-width: 1.0;\"/><path d=\"M200.7969,467.6406 L200.7969,471.2656 L201.7969,471.2656 Q203,471.2656 203.4844,470.8594 Q203.9688,470.4531 203.9688,469.4531 Q203.9688,468.4531 203.4844,468.0469 Q203,467.6406 201.7969,467.6406 L200.7969,467.6406 Z M198.3438,465.5781 L201.7031,465.5781 Q204.2656,465.5781 205.3906,466.5 Q206.5156,467.4063 206.5156,469.4531 Q206.5156,471.5 205.3906,472.4219 Q204.2656,473.3281 201.7031,473.3281 L200.7969,473.3281 L200.7969,477.9688 L198.3438,477.9688 L198.3438,465.5781 Z \"/><text fill=\"#000000\" font-family=\"sans-serif\" font-size=\"12\" font-style=\"italic\" lengthAdjust=\"spacingAndGlyphs\" textLength=\"40\" x=\"213\" y=\"469.1387\">«part»</text><text fill=\"#000000\" font-family=\"sans-serif\" font-size=\"12\" lengthAdjust=\"spacingAndGlyphs\" textLength=\"8\" x=\"229\" y=\"483.1074\">a</text><line style=\"stroke: #A80036; stroke-width: 1.5;\" x1=\"187\" x2=\"253\" y1=\"490.9375\" y2=\"490.9375\"/></a><!--MD5=[ebbe1d658d1005bcc118a6aa81145e00]\n",
       "class E4--><a href=\"psysml:40835df5-3f1f-4886-9446-1465d21ad736\" target=\"_top\" title=\"psysml:40835df5-3f1f-4886-9446-1465d21ad736\" xlink:actuate=\"onRequest\" xlink:href=\"psysml:40835df5-3f1f-4886-9446-1465d21ad736\" xlink:show=\"new\" xlink:title=\"psysml:40835df5-3f1f-4886-9446-1465d21ad736\" xlink:type=\"simple\"><rect fill=\"#FEFECE\" filter=\"url(#f1bjt7m172rsd9)\" height=\"45.9375\" id=\"E4\" rx=\"10\" ry=\"10\" style=\"stroke: #A80036; stroke-width: 1.5;\" width=\"68\" x=\"238\" y=\"247\"/><ellipse cx=\"253\" cy=\"265.9688\" fill=\"#32CD32\" rx=\"11\" ry=\"11\" style=\"stroke: #A80036; stroke-width: 1.0;\"/><path d=\"M252.7969,261.6406 L252.7969,265.2656 L253.7969,265.2656 Q255,265.2656 255.4844,264.8594 Q255.9688,264.4531 255.9688,263.4531 Q255.9688,262.4531 255.4844,262.0469 Q255,261.6406 253.7969,261.6406 L252.7969,261.6406 Z M250.3438,259.5781 L253.7031,259.5781 Q256.2656,259.5781 257.3906,260.5 Q258.5156,261.4063 258.5156,263.4531 Q258.5156,265.5 257.3906,266.4219 Q256.2656,267.3281 253.7031,267.3281 L252.7969,267.3281 L252.7969,271.9688 L250.3438,271.9688 L250.3438,259.5781 Z \"/><text fill=\"#000000\" font-family=\"sans-serif\" font-size=\"12\" font-style=\"italic\" lengthAdjust=\"spacingAndGlyphs\" textLength=\"40\" x=\"265\" y=\"263.1387\">«part»</text><text fill=\"#000000\" font-family=\"sans-serif\" font-size=\"12\" lengthAdjust=\"spacingAndGlyphs\" textLength=\"19\" x=\"275.5\" y=\"277.1074\">f: F</text><line style=\"stroke: #A80036; stroke-width: 1.5;\" x1=\"239\" x2=\"305\" y1=\"284.9375\" y2=\"284.9375\"/></a><!--MD5=[270fce915f116d4de14055a7c1d9a0f3]\n",
       "class E5--><a href=\"psysml:299c2c32-5ec1-43b2-a066-b7748b01150c\" target=\"_top\" title=\"psysml:299c2c32-5ec1-43b2-a066-b7748b01150c\" xlink:actuate=\"onRequest\" xlink:href=\"psysml:299c2c32-5ec1-43b2-a066-b7748b01150c\" xlink:show=\"new\" xlink:title=\"psysml:299c2c32-5ec1-43b2-a066-b7748b01150c\" xlink:type=\"simple\"><rect fill=\"#FEFECE\" filter=\"url(#f1bjt7m172rsd9)\" height=\"40\" id=\"E5\" style=\"stroke: #A80036; stroke-width: 1.5;\" width=\"40\" x=\"46\" y=\"353\"/><ellipse cx=\"61\" cy=\"369\" fill=\"#008000\" rx=\"11\" ry=\"11\" style=\"stroke: #A80036; stroke-width: 1.0;\"/><path d=\"M59.9063,369.375 L59.9063,373.0469 L61.5313,373.0469 Q62.7031,373.0469 63.1719,372.6563 Q63.6406,372.25 63.6406,371.25 Q63.6406,370.25 63.1406,369.8125 Q62.6563,369.375 61.5313,369.375 L59.9063,369.375 Z M59.9063,364.5469 L59.9063,367.4219 L61.5313,367.4219 Q62.4531,367.4219 62.8438,367.0938 Q63.25,366.75 63.25,366 Q63.25,365.2344 62.8438,364.8906 Q62.4375,364.5469 61.5313,364.5469 L59.9063,364.5469 Z M57.5313,362.5938 L61.5313,362.5938 Q63.5938,362.5938 64.6406,363.375 Q65.6875,364.1563 65.6875,365.7188 Q65.6875,366.9219 65.0625,367.5938 Q64.4531,368.2656 63.2656,368.375 Q64.6875,368.5156 65.4063,369.3281 Q66.125,370.1406 66.125,371.5938 Q66.125,373.3906 65.0469,374.2031 Q63.9688,375 61.5313,375 L57.5313,375 L57.5313,362.5938 Z \"/><text fill=\"#000000\" font-family=\"sans-serif\" font-size=\"12\" lengthAdjust=\"spacingAndGlyphs\" textLength=\"8\" x=\"75\" y=\"373.1543\">A</text><line style=\"stroke: #A80036; stroke-width: 1.5;\" x1=\"47\" x2=\"85\" y1=\"385\" y2=\"385\"/></a><!--MD5=[60a26617385b1d2d0262a64233df1f8d]\n",
       "class E6--><a href=\"psysml:31dec55f-8acf-4d42-bd51-f4047894820c\" target=\"_top\" title=\"psysml:31dec55f-8acf-4d42-bd51-f4047894820c\" xlink:actuate=\"onRequest\" xlink:href=\"psysml:31dec55f-8acf-4d42-bd51-f4047894820c\" xlink:show=\"new\" xlink:title=\"psysml:31dec55f-8acf-4d42-bd51-f4047894820c\" xlink:type=\"simple\"><rect fill=\"#FEFECE\" filter=\"url(#f1bjt7m172rsd9)\" height=\"45.9375\" id=\"E6\" rx=\"10\" ry=\"10\" style=\"stroke: #A80036; stroke-width: 1.5;\" width=\"68\" x=\"32\" y=\"453\"/><ellipse cx=\"47\" cy=\"471.9688\" fill=\"#32CD32\" rx=\"11\" ry=\"11\" style=\"stroke: #A80036; stroke-width: 1.0;\"/><path d=\"M46.7969,467.6406 L46.7969,471.2656 L47.7969,471.2656 Q49,471.2656 49.4844,470.8594 Q49.9688,470.4531 49.9688,469.4531 Q49.9688,468.4531 49.4844,468.0469 Q49,467.6406 47.7969,467.6406 L46.7969,467.6406 Z M44.3438,465.5781 L47.7031,465.5781 Q50.2656,465.5781 51.3906,466.5 Q52.5156,467.4063 52.5156,469.4531 Q52.5156,471.5 51.3906,472.4219 Q50.2656,473.3281 47.7031,473.3281 L46.7969,473.3281 L46.7969,477.9688 L44.3438,477.9688 L44.3438,465.5781 Z \"/><text fill=\"#000000\" font-family=\"sans-serif\" font-size=\"12\" font-style=\"italic\" lengthAdjust=\"spacingAndGlyphs\" textLength=\"40\" x=\"59\" y=\"469.1387\">«part»</text><text fill=\"#000000\" font-family=\"sans-serif\" font-size=\"12\" lengthAdjust=\"spacingAndGlyphs\" textLength=\"8\" x=\"75\" y=\"483.1074\">g</text><line style=\"stroke: #A80036; stroke-width: 1.5;\" x1=\"33\" x2=\"99\" y1=\"490.9375\" y2=\"490.9375\"/></a><!--MD5=[2156ba9850f5573cc1fc38a6a4b2f02b]\n",
       "class E7--><a href=\"psysml:e57a8ff4-b454-49af-9671-50f81189572a\" target=\"_top\" title=\"psysml:e57a8ff4-b454-49af-9671-50f81189572a\" xlink:actuate=\"onRequest\" xlink:href=\"psysml:e57a8ff4-b454-49af-9671-50f81189572a\" xlink:show=\"new\" xlink:title=\"psysml:e57a8ff4-b454-49af-9671-50f81189572a\" xlink:type=\"simple\"><rect fill=\"#FEFECE\" filter=\"url(#f1bjt7m172rsd9)\" height=\"40\" id=\"E7\" style=\"stroke: #A80036; stroke-width: 1.5;\" width=\"40\" x=\"97\" y=\"147\"/><ellipse cx=\"112\" cy=\"163\" fill=\"#008000\" rx=\"11\" ry=\"11\" style=\"stroke: #A80036; stroke-width: 1.0;\"/><path d=\"M110.9063,163.375 L110.9063,167.0469 L112.5313,167.0469 Q113.7031,167.0469 114.1719,166.6563 Q114.6406,166.25 114.6406,165.25 Q114.6406,164.25 114.1406,163.8125 Q113.6563,163.375 112.5313,163.375 L110.9063,163.375 Z M110.9063,158.5469 L110.9063,161.4219 L112.5313,161.4219 Q113.4531,161.4219 113.8438,161.0938 Q114.25,160.75 114.25,160 Q114.25,159.2344 113.8438,158.8906 Q113.4375,158.5469 112.5313,158.5469 L110.9063,158.5469 Z M108.5313,156.5938 L112.5313,156.5938 Q114.5938,156.5938 115.6406,157.375 Q116.6875,158.1563 116.6875,159.7188 Q116.6875,160.9219 116.0625,161.5938 Q115.4531,162.2656 114.2656,162.375 Q115.6875,162.5156 116.4063,163.3281 Q117.125,164.1406 117.125,165.5938 Q117.125,167.3906 116.0469,168.2031 Q114.9688,169 112.5313,169 L108.5313,169 L108.5313,156.5938 Z \"/><text fill=\"#000000\" font-family=\"sans-serif\" font-size=\"12\" lengthAdjust=\"spacingAndGlyphs\" textLength=\"8\" x=\"126\" y=\"167.1543\">B</text><line style=\"stroke: #A80036; stroke-width: 1.5;\" x1=\"98\" x2=\"136\" y1=\"179\" y2=\"179\"/></a><!--MD5=[b9389687b975829384b498ac4b7476b2]\n",
       "class E8--><a href=\"psysml:ae9b8861-e9cc-45e7-97b3-375fd90ac7d9\" target=\"_top\" title=\"psysml:ae9b8861-e9cc-45e7-97b3-375fd90ac7d9\" xlink:actuate=\"onRequest\" xlink:href=\"psysml:ae9b8861-e9cc-45e7-97b3-375fd90ac7d9\" xlink:show=\"new\" xlink:title=\"psysml:ae9b8861-e9cc-45e7-97b3-375fd90ac7d9\" xlink:type=\"simple\"><rect fill=\"#FEFECE\" filter=\"url(#f1bjt7m172rsd9)\" height=\"45.9375\" id=\"E8\" rx=\"10\" ry=\"10\" style=\"stroke: #A80036; stroke-width: 1.5;\" width=\"68\" x=\"135\" y=\"247\"/><ellipse cx=\"150\" cy=\"265.9688\" fill=\"#32CD32\" rx=\"11\" ry=\"11\" style=\"stroke: #A80036; stroke-width: 1.0;\"/><path d=\"M149.7969,261.6406 L149.7969,265.2656 L150.7969,265.2656 Q152,265.2656 152.4844,264.8594 Q152.9688,264.4531 152.9688,263.4531 Q152.9688,262.4531 152.4844,262.0469 Q152,261.6406 150.7969,261.6406 L149.7969,261.6406 Z M147.3438,259.5781 L150.7031,259.5781 Q153.2656,259.5781 154.3906,260.5 Q155.5156,261.4063 155.5156,263.4531 Q155.5156,265.5 154.3906,266.4219 Q153.2656,267.3281 150.7031,267.3281 L149.7969,267.3281 L149.7969,271.9688 L147.3438,271.9688 L147.3438,259.5781 Z \"/><text fill=\"#000000\" font-family=\"sans-serif\" font-size=\"12\" font-style=\"italic\" lengthAdjust=\"spacingAndGlyphs\" textLength=\"40\" x=\"162\" y=\"263.1387\">«part»</text><text fill=\"#000000\" font-family=\"sans-serif\" font-size=\"12\" lengthAdjust=\"spacingAndGlyphs\" textLength=\"19\" x=\"172.5\" y=\"277.1074\">f: F</text><line style=\"stroke: #A80036; stroke-width: 1.5;\" x1=\"136\" x2=\"202\" y1=\"284.9375\" y2=\"284.9375\"/></a><!--MD5=[fd4143e9d270a159db93a4ea2a975926]\n",
       "class E9--><a href=\"psysml:d620b19b-a1e2-497d-8cad-3b2dc38fedc0\" target=\"_top\" title=\"psysml:d620b19b-a1e2-497d-8cad-3b2dc38fedc0\" xlink:actuate=\"onRequest\" xlink:href=\"psysml:d620b19b-a1e2-497d-8cad-3b2dc38fedc0\" xlink:show=\"new\" xlink:title=\"psysml:d620b19b-a1e2-497d-8cad-3b2dc38fedc0\" xlink:type=\"simple\"><rect fill=\"#FEFECE\" filter=\"url(#f1bjt7m172rsd9)\" height=\"45.9375\" id=\"E9\" rx=\"10\" ry=\"10\" style=\"stroke: #A80036; stroke-width: 1.5;\" width=\"68\" x=\"32\" y=\"247\"/><ellipse cx=\"47\" cy=\"265.9688\" fill=\"#32CD32\" rx=\"11\" ry=\"11\" style=\"stroke: #A80036; stroke-width: 1.0;\"/><path d=\"M46.7969,261.6406 L46.7969,265.2656 L47.7969,265.2656 Q49,265.2656 49.4844,264.8594 Q49.9688,264.4531 49.9688,263.4531 Q49.9688,262.4531 49.4844,262.0469 Q49,261.6406 47.7969,261.6406 L46.7969,261.6406 Z M44.3438,259.5781 L47.7031,259.5781 Q50.2656,259.5781 51.3906,260.5 Q52.5156,261.4063 52.5156,263.4531 Q52.5156,265.5 51.3906,266.4219 Q50.2656,267.3281 47.7031,267.3281 L46.7969,267.3281 L46.7969,271.9688 L44.3438,271.9688 L44.3438,259.5781 Z \"/><text fill=\"#000000\" font-family=\"sans-serif\" font-size=\"12\" font-style=\"italic\" lengthAdjust=\"spacingAndGlyphs\" textLength=\"40\" x=\"59\" y=\"263.1387\">«part»</text><text fill=\"#000000\" font-family=\"sans-serif\" font-size=\"12\" lengthAdjust=\"spacingAndGlyphs\" textLength=\"24\" x=\"67\" y=\"277.1074\">a: A</text><line style=\"stroke: #A80036; stroke-width: 1.5;\" x1=\"33\" x2=\"99\" y1=\"284.9375\" y2=\"284.9375\"/></a><!--MD5=[96f4274e9e20536e775497830990834d]\n",
       "class E10--><a href=\"psysml:f9a1a989-561d-4119-971e-8ebceafa94b4\" target=\"_top\" title=\"psysml:f9a1a989-561d-4119-971e-8ebceafa94b4\" xlink:actuate=\"onRequest\" xlink:href=\"psysml:f9a1a989-561d-4119-971e-8ebceafa94b4\" xlink:show=\"new\" xlink:title=\"psysml:f9a1a989-561d-4119-971e-8ebceafa94b4\" xlink:type=\"simple\"><rect fill=\"#FEFECE\" filter=\"url(#f1bjt7m172rsd9)\" height=\"45.9375\" id=\"E10\" rx=\"10\" ry=\"10\" style=\"stroke: #A80036; stroke-width: 1.5;\" width=\"68\" x=\"83\" y=\"41\"/><ellipse cx=\"98\" cy=\"59.9688\" fill=\"#32CD32\" rx=\"11\" ry=\"11\" style=\"stroke: #A80036; stroke-width: 1.0;\"/><path d=\"M97.7969,55.6406 L97.7969,59.2656 L98.7969,59.2656 Q100,59.2656 100.4844,58.8594 Q100.9688,58.4531 100.9688,57.4531 Q100.9688,56.4531 100.4844,56.0469 Q100,55.6406 98.7969,55.6406 L97.7969,55.6406 Z M95.3438,53.5781 L98.7031,53.5781 Q101.2656,53.5781 102.3906,54.5 Q103.5156,55.4063 103.5156,57.4531 Q103.5156,59.5 102.3906,60.4219 Q101.2656,61.3281 98.7031,61.3281 L97.7969,61.3281 L97.7969,65.9688 L95.3438,65.9688 L95.3438,53.5781 Z \"/><text fill=\"#000000\" font-family=\"sans-serif\" font-size=\"12\" font-style=\"italic\" lengthAdjust=\"spacingAndGlyphs\" textLength=\"40\" x=\"110\" y=\"57.1387\">«part»</text><text fill=\"#000000\" font-family=\"sans-serif\" font-size=\"12\" lengthAdjust=\"spacingAndGlyphs\" textLength=\"24\" x=\"118\" y=\"71.1074\">b: B</text><line style=\"stroke: #A80036; stroke-width: 1.5;\" x1=\"84\" x2=\"150\" y1=\"78.9375\" y2=\"78.9375\"/></a><!--MD5=[209b3feb70ccb6233bfe1053d122c12c]\n",
       "reverse link E2 to E3--><a href=\"psysml:5ee10b2b-55c1-4a08-a13b-bdb74e3f50e5\" target=\"_top\" title=\"psysml:5ee10b2b-55c1-4a08-a13b-bdb74e3f50e5\" xlink:actuate=\"onRequest\" xlink:href=\"psysml:5ee10b2b-55c1-4a08-a13b-bdb74e3f50e5\" xlink:show=\"new\" xlink:title=\"psysml:5ee10b2b-55c1-4a08-a13b-bdb74e3f50e5\" xlink:type=\"simple\"><path d=\"M220,406.47 C220,421.59 220,439.2 220,452.77 \" fill=\"none\" id=\"E2&lt;-E3\" style=\"stroke: #A80036; stroke-width: 1.0;\"/><polygon fill=\"#A80036\" points=\"220,393.47,216,399.47,220,405.47,224,399.47,220,393.47\" style=\"stroke: #A80036; stroke-width: 1.0;\"/></a><!--MD5=[185131fc0dcab0a4505a2ebe144e961b]\n",
       "link E4 to E2--><a href=\"psysml:c4c1c0e2-eca3-4dc3-a203-c30912c3ab2b\" target=\"_top\" title=\"psysml:c4c1c0e2-eca3-4dc3-a203-c30912c3ab2b\" xlink:actuate=\"onRequest\" xlink:href=\"psysml:c4c1c0e2-eca3-4dc3-a203-c30912c3ab2b\" xlink:show=\"new\" xlink:title=\"psysml:c4c1c0e2-eca3-4dc3-a203-c30912c3ab2b\" xlink:type=\"simple\"><path d=\"M260.46,293.42 C254.24,305.5 246.39,320.74 239.27,334.57 \" fill=\"none\" id=\"E4-&gt;E2\" style=\"stroke: #A80036; stroke-width: 1.0;\"/><polygon fill=\"#FFFFFF\" points=\"229.93,352.71,232.4037,332.6132,244.8508,339.0217,229.93,352.71\" style=\"stroke: #A80036; stroke-width: 1.0;\"/><ellipse cx=\"236.7911\" cy=\"328.461\" fill=\"#A80036\" rx=\"2\" ry=\"2\" style=\"stroke: #A80036; stroke-width: 1.0;\"/><ellipse cx=\"245.6819\" cy=\"333.0385\" fill=\"#A80036\" rx=\"2\" ry=\"2\" style=\"stroke: #A80036; stroke-width: 1.0;\"/></a><!--MD5=[85d356282659285ab4b2cfe2f634dd2b]\n",
       "reverse link E5 to E6--><a href=\"psysml:93463b7d-149f-4a15-b84b-177a9e530eda\" target=\"_top\" title=\"psysml:93463b7d-149f-4a15-b84b-177a9e530eda\" xlink:actuate=\"onRequest\" xlink:href=\"psysml:93463b7d-149f-4a15-b84b-177a9e530eda\" xlink:show=\"new\" xlink:title=\"psysml:93463b7d-149f-4a15-b84b-177a9e530eda\" xlink:type=\"simple\"><path d=\"M66,406.47 C66,421.59 66,439.2 66,452.77 \" fill=\"none\" id=\"E5&lt;-E6\" style=\"stroke: #A80036; stroke-width: 1.0;\"/><polygon fill=\"#A80036\" points=\"66,393.47,62,399.47,66,405.47,70,399.47,66,393.47\" style=\"stroke: #A80036; stroke-width: 1.0;\"/></a><!--MD5=[dc164f5e8a733ab456ef1add180e9e34]\n",
       "reverse link E7 to E8--><a href=\"psysml:de6f8f38-3125-456b-a954-15a696931b63\" target=\"_top\" title=\"psysml:de6f8f38-3125-456b-a954-15a696931b63\" xlink:actuate=\"onRequest\" xlink:href=\"psysml:de6f8f38-3125-456b-a954-15a696931b63\" xlink:show=\"new\" xlink:title=\"psysml:de6f8f38-3125-456b-a954-15a696931b63\" xlink:type=\"simple\"><path d=\"M133.01,199.09 C140.95,214.51 150.35,232.78 157.56,246.77 \" fill=\"none\" id=\"E7&lt;-E8\" style=\"stroke: #A80036; stroke-width: 1.0;\"/><polygon fill=\"#A80036\" points=\"127.03,187.47,126.2165,194.6351,132.5176,198.1418,133.331,190.9767,127.03,187.47\" style=\"stroke: #A80036; stroke-width: 1.0;\"/></a><!--MD5=[f1f3f9f2fc535e6147756cb86a7f2e32]\n",
       "link E8 to E2--><a href=\"psysml:536a95df-7241-4403-bcab-1aa9fe7a4b7d\" target=\"_top\" title=\"psysml:536a95df-7241-4403-bcab-1aa9fe7a4b7d\" xlink:actuate=\"onRequest\" xlink:href=\"psysml:536a95df-7241-4403-bcab-1aa9fe7a4b7d\" xlink:show=\"new\" xlink:title=\"psysml:536a95df-7241-4403-bcab-1aa9fe7a4b7d\" xlink:type=\"simple\"><path d=\"M180.32,293.42 C186.42,305.5 194.11,320.74 201.1,334.57 \" fill=\"none\" id=\"E8-&gt;E2\" style=\"stroke: #A80036; stroke-width: 1.0;\"/><polygon fill=\"#FFFFFF\" points=\"210.26,352.71,195.4445,338.9078,207.9403,332.5949,210.26,352.71\" style=\"stroke: #A80036; stroke-width: 1.0;\"/><ellipse cx=\"194.6593\" cy=\"332.9184\" fill=\"#A80036\" rx=\"2\" ry=\"2\" style=\"stroke: #A80036; stroke-width: 1.0;\"/><ellipse cx=\"203.5849\" cy=\"328.4091\" fill=\"#A80036\" rx=\"2\" ry=\"2\" style=\"stroke: #A80036; stroke-width: 1.0;\"/></a><!--MD5=[e4a10ef82d0e328e31cac39a31e58dda]\n",
       "reverse link E7 to E9--><a href=\"psysml:2c441a1b-e979-4985-bcd5-61f8c13172d0\" target=\"_top\" title=\"psysml:2c441a1b-e979-4985-bcd5-61f8c13172d0\" xlink:actuate=\"onRequest\" xlink:href=\"psysml:2c441a1b-e979-4985-bcd5-61f8c13172d0\" xlink:show=\"new\" xlink:title=\"psysml:2c441a1b-e979-4985-bcd5-61f8c13172d0\" xlink:type=\"simple\"><path d=\"M101.3,199.09 C93.51,214.51 84.29,232.78 77.22,246.77 \" fill=\"none\" id=\"E7&lt;-E9\" style=\"stroke: #A80036; stroke-width: 1.0;\"/><polygon fill=\"#A80036\" points=\"107.17,187.47,100.895,191.0231,101.7613,198.1819,108.0363,194.6289,107.17,187.47\" style=\"stroke: #A80036; stroke-width: 1.0;\"/></a><!--MD5=[bfc3ddf2e613be37104f658f09af896c]\n",
       "link E9 to E5--><a href=\"psysml:fc8a5d52-f7b0-45e1-9a4f-1e932b65f071\" target=\"_top\" title=\"psysml:fc8a5d52-f7b0-45e1-9a4f-1e932b65f071\" xlink:actuate=\"onRequest\" xlink:href=\"psysml:fc8a5d52-f7b0-45e1-9a4f-1e932b65f071\" xlink:show=\"new\" xlink:title=\"psysml:fc8a5d52-f7b0-45e1-9a4f-1e932b65f071\" xlink:type=\"simple\"><path d=\"M66,293.42 C66,304.95 66,319.34 66,332.65 \" fill=\"none\" id=\"E9-&gt;E5\" style=\"stroke: #A80036; stroke-width: 1.0;\"/><polygon fill=\"#FFFFFF\" points=\"66,352.71,59,333.71,73,333.71,66,352.71\" style=\"stroke: #A80036; stroke-width: 1.0;\"/><ellipse cx=\"61\" cy=\"328.01\" fill=\"#A80036\" rx=\"2\" ry=\"2\" style=\"stroke: #A80036; stroke-width: 1.0;\"/><ellipse cx=\"71\" cy=\"328.01\" fill=\"#A80036\" rx=\"2\" ry=\"2\" style=\"stroke: #A80036; stroke-width: 1.0;\"/></a><!--MD5=[a919e0967d6f3de553dc51b9865a1d6d]\n",
       "link E10 to E7--><a href=\"psysml:2e3833d6-0a03-41e5-9593-325ba84dff2e\" target=\"_top\" title=\"psysml:2e3833d6-0a03-41e5-9593-325ba84dff2e\" xlink:actuate=\"onRequest\" xlink:href=\"psysml:2e3833d6-0a03-41e5-9593-325ba84dff2e\" xlink:show=\"new\" xlink:title=\"psysml:2e3833d6-0a03-41e5-9593-325ba84dff2e\" xlink:type=\"simple\"><path d=\"M117,87.42 C117,98.95 117,113.34 117,126.65 \" fill=\"none\" id=\"E10-&gt;E7\" style=\"stroke: #A80036; stroke-width: 1.0;\"/><polygon fill=\"#FFFFFF\" points=\"117,146.71,110,127.71,124,127.71,117,146.71\" style=\"stroke: #A80036; stroke-width: 1.0;\"/><ellipse cx=\"112\" cy=\"122.01\" fill=\"#A80036\" rx=\"2\" ry=\"2\" style=\"stroke: #A80036; stroke-width: 1.0;\"/><ellipse cx=\"122\" cy=\"122.01\" fill=\"#A80036\" rx=\"2\" ry=\"2\" style=\"stroke: #A80036; stroke-width: 1.0;\"/></a><!--MD5=[dd0b2f0d21cda7a77e904ff107991f1f]\n",
       "@startuml\r\n",
       " \r\n",
       "package \"Q\" as E1  [[psysml:427a19be-4ba6-433c-b392-6823bf74d458 ]]  {\r\n",
       "comp def \"F\" as E2 << << (B,green) >> [[psysml:027effde-34e9-4491-ba0c-9f82cacaad23 ]] {\r\n",
       "}\r\n",
       "comp usage \"a\" as E3 << << (P,limegreen) part>> [[psysml:241a9b2a-e9cc-4b19-964a-2424b61c0639 ]] {\r\n",
       "}\r\n",
       "comp usage \"f: F\" as E4 << << (P,limegreen) part>> [[psysml:40835df5-3f1f-4886-9446-1465d21ad736 ]] {\r\n",
       "}\r\n",
       "comp def \"A\" as E5 << << (B,green) >> [[psysml:299c2c32-5ec1-43b2-a066-b7748b01150c ]] {\r\n",
       "}\r\n",
       "comp usage \"g\" as E6 << << (P,limegreen) part>> [[psysml:31dec55f-8acf-4d42-bd51-f4047894820c ]] {\r\n",
       "}\r\n",
       "comp def \"B\" as E7 << << (B,green) >> [[psysml:e57a8ff4-b454-49af-9671-50f81189572a ]] {\r\n",
       "}\r\n",
       "comp usage \"f: F\" as E8 << << (P,limegreen) part>> [[psysml:ae9b8861-e9cc-45e7-97b3-375fd90ac7d9 ]] {\r\n",
       "}\r\n",
       "comp usage \"a: A\" as E9 << << (P,limegreen) part>> [[psysml:d620b19b-a1e2-497d-8cad-3b2dc38fedc0 ]] {\r\n",
       "}\r\n",
       "comp usage \"b: B\" as E10 << << (P,limegreen) part>> [[psysml:f9a1a989-561d-4119-971e-8ebceafa94b4 ]] {\r\n",
       "}\r\n",
       "E2 *- - E3 [[psysml:5ee10b2b-55c1-4a08-a13b-bdb74e3f50e5 ]] \r\n",
       "E4 - -:|> E2 [[psysml:c4c1c0e2-eca3-4dc3-a203-c30912c3ab2b ]] \r\n",
       "E5 *- - E6 [[psysml:93463b7d-149f-4a15-b84b-177a9e530eda ]] \r\n",
       "E7 *- - E8 [[psysml:de6f8f38-3125-456b-a954-15a696931b63 ]] \r\n",
       "E8 - -:|> E2 [[psysml:536a95df-7241-4403-bcab-1aa9fe7a4b7d ]] \r\n",
       "E7 *- - E9 [[psysml:2c441a1b-e979-4985-bcd5-61f8c13172d0 ]] \r\n",
       "E9 - -:|> E5 [[psysml:fc8a5d52-f7b0-45e1-9a4f-1e932b65f071 ]] \r\n",
       "E10 - -:|> E7 [[psysml:2e3833d6-0a03-41e5-9593-325ba84dff2e ]] \r\n",
       "}\r\n",
       "@enduml\r\n",
       "\n",
       "PlantUML version 1.2020.13(Sat Jun 13 12:26:38 UTC 2020)\n",
       "(EPL source distribution)\n",
       "Java Runtime: OpenJDK Runtime Environment\n",
       "JVM: OpenJDK 64-Bit Server VM\n",
       "Default Encoding: UTF-8\n",
       "Language: en\n",
       "Country: null\n",
       "--></g></svg>"
      ]
     },
     "execution_count": 30,
     "metadata": {},
     "output_type": "execute_result"
    }
   ],
   "source": [
    "%viz --style=\"PLANTUML\" --view=\"Default\" \"Q\""
   ]
  },
  {
   "cell_type": "code",
   "execution_count": 31,
   "id": "4d626c40",
   "metadata": {
    "execution": {
     "iopub.execute_input": "2021-06-30T09:23:33.957397Z",
     "iopub.status.busy": "2021-06-30T09:23:33.955608Z",
     "iopub.status.idle": "2021-06-30T09:23:34.054841Z",
     "shell.execute_reply": "2021-06-30T09:23:34.055772Z"
    }
   },
   "outputs": [
    {
     "data": {
      "image/svg+xml": [
       "<?xml version=\"1.0\" encoding=\"UTF-8\" standalone=\"no\"?><svg xmlns=\"http://www.w3.org/2000/svg\" xmlns:xlink=\"http://www.w3.org/1999/xlink\" contentScriptType=\"application/ecmascript\" contentStyleType=\"text/css\" height=\"527px\" preserveAspectRatio=\"none\" style=\"width:344px;height:527px;\" version=\"1.1\" viewBox=\"0 0 344 527\" width=\"344px\" zoomAndPan=\"magnify\"><defs><filter height=\"300%\" id=\"f1bjt7m172rsd9\" width=\"300%\" x=\"-1\" y=\"-1\"><feGaussianBlur result=\"blurOut\" stdDeviation=\"2.0\"/><feColorMatrix in=\"blurOut\" result=\"blurOut2\" type=\"matrix\" values=\"0 0 0 0 0 0 0 0 0 0 0 0 0 0 0 0 0 0 .4 0\"/><feOffset dx=\"4.0\" dy=\"4.0\" in=\"blurOut2\" result=\"blurOut3\"/><feBlend in=\"SourceGraphic\" in2=\"blurOut3\" mode=\"normal\"/></filter></defs><g><!--MD5=[fbc87193dbaf4d95561dea2c320d4a47]\n",
       "cluster E1--><a href=\"psysml:427a19be-4ba6-433c-b392-6823bf74d458\" target=\"_top\" title=\"psysml:427a19be-4ba6-433c-b392-6823bf74d458\" xlink:actuate=\"onRequest\" xlink:href=\"psysml:427a19be-4ba6-433c-b392-6823bf74d458\" xlink:show=\"new\" xlink:title=\"psysml:427a19be-4ba6-433c-b392-6823bf74d458\" xlink:type=\"simple\"><polygon fill=\"#FFFFFF\" filter=\"url(#f1bjt7m172rsd9)\" points=\"16,6,34,6,41,28.2969,322,28.2969,322,515,16,515,16,6\" style=\"stroke: #000000; stroke-width: 1.5;\"/><line style=\"stroke: #000000; stroke-width: 1.5;\" x1=\"16\" x2=\"41\" y1=\"28.2969\" y2=\"28.2969\"/><text fill=\"#000000\" font-family=\"sans-serif\" font-size=\"14\" font-weight=\"bold\" lengthAdjust=\"spacingAndGlyphs\" textLength=\"12\" x=\"20\" y=\"20.9951\">Q</text></a><!--MD5=[b4997ac47864f28c2f74865a473b2911]\n",
       "class E2--><a href=\"psysml:027effde-34e9-4491-ba0c-9f82cacaad23\" target=\"_top\" title=\"psysml:027effde-34e9-4491-ba0c-9f82cacaad23\" xlink:actuate=\"onRequest\" xlink:href=\"psysml:027effde-34e9-4491-ba0c-9f82cacaad23\" xlink:show=\"new\" xlink:title=\"psysml:027effde-34e9-4491-ba0c-9f82cacaad23\" xlink:type=\"simple\"><rect fill=\"#FEFECE\" filter=\"url(#f1bjt7m172rsd9)\" height=\"40\" id=\"E2\" style=\"stroke: #A80036; stroke-width: 1.5;\" width=\"39\" x=\"200.5\" y=\"353\"/><ellipse cx=\"215.5\" cy=\"369\" fill=\"#008000\" rx=\"11\" ry=\"11\" style=\"stroke: #A80036; stroke-width: 1.0;\"/><path d=\"M214.4063,369.375 L214.4063,373.0469 L216.0313,373.0469 Q217.2031,373.0469 217.6719,372.6563 Q218.1406,372.25 218.1406,371.25 Q218.1406,370.25 217.6406,369.8125 Q217.1563,369.375 216.0313,369.375 L214.4063,369.375 Z M214.4063,364.5469 L214.4063,367.4219 L216.0313,367.4219 Q216.9531,367.4219 217.3438,367.0938 Q217.75,366.75 217.75,366 Q217.75,365.2344 217.3438,364.8906 Q216.9375,364.5469 216.0313,364.5469 L214.4063,364.5469 Z M212.0313,362.5938 L216.0313,362.5938 Q218.0938,362.5938 219.1406,363.375 Q220.1875,364.1563 220.1875,365.7188 Q220.1875,366.9219 219.5625,367.5938 Q218.9531,368.2656 217.7656,368.375 Q219.1875,368.5156 219.9063,369.3281 Q220.625,370.1406 220.625,371.5938 Q220.625,373.3906 219.5469,374.2031 Q218.4688,375 216.0313,375 L212.0313,375 L212.0313,362.5938 Z \"/><text fill=\"#000000\" font-family=\"sans-serif\" font-size=\"12\" lengthAdjust=\"spacingAndGlyphs\" textLength=\"7\" x=\"229.5\" y=\"373.1543\">F</text><line style=\"stroke: #A80036; stroke-width: 1.5;\" x1=\"201.5\" x2=\"238.5\" y1=\"385\" y2=\"385\"/></a><!--MD5=[09b614a08d8cba4a07c9adeb5e0fee81]\n",
       "class E3--><a href=\"psysml:241a9b2a-e9cc-4b19-964a-2424b61c0639\" target=\"_top\" title=\"psysml:241a9b2a-e9cc-4b19-964a-2424b61c0639\" xlink:actuate=\"onRequest\" xlink:href=\"psysml:241a9b2a-e9cc-4b19-964a-2424b61c0639\" xlink:show=\"new\" xlink:title=\"psysml:241a9b2a-e9cc-4b19-964a-2424b61c0639\" xlink:type=\"simple\"><rect fill=\"#FEFECE\" filter=\"url(#f1bjt7m172rsd9)\" height=\"45.9375\" id=\"E3\" rx=\"10\" ry=\"10\" style=\"stroke: #A80036; stroke-width: 1.5;\" width=\"68\" x=\"186\" y=\"453\"/><ellipse cx=\"201\" cy=\"471.9688\" fill=\"#32CD32\" rx=\"11\" ry=\"11\" style=\"stroke: #A80036; stroke-width: 1.0;\"/><path d=\"M200.7969,467.6406 L200.7969,471.2656 L201.7969,471.2656 Q203,471.2656 203.4844,470.8594 Q203.9688,470.4531 203.9688,469.4531 Q203.9688,468.4531 203.4844,468.0469 Q203,467.6406 201.7969,467.6406 L200.7969,467.6406 Z M198.3438,465.5781 L201.7031,465.5781 Q204.2656,465.5781 205.3906,466.5 Q206.5156,467.4063 206.5156,469.4531 Q206.5156,471.5 205.3906,472.4219 Q204.2656,473.3281 201.7031,473.3281 L200.7969,473.3281 L200.7969,477.9688 L198.3438,477.9688 L198.3438,465.5781 Z \"/><text fill=\"#000000\" font-family=\"sans-serif\" font-size=\"12\" font-style=\"italic\" lengthAdjust=\"spacingAndGlyphs\" textLength=\"40\" x=\"213\" y=\"469.1387\">«part»</text><text fill=\"#000000\" font-family=\"sans-serif\" font-size=\"12\" lengthAdjust=\"spacingAndGlyphs\" textLength=\"8\" x=\"229\" y=\"483.1074\">a</text><line style=\"stroke: #A80036; stroke-width: 1.5;\" x1=\"187\" x2=\"253\" y1=\"490.9375\" y2=\"490.9375\"/></a><!--MD5=[ebbe1d658d1005bcc118a6aa81145e00]\n",
       "class E4--><a href=\"psysml:40835df5-3f1f-4886-9446-1465d21ad736\" target=\"_top\" title=\"psysml:40835df5-3f1f-4886-9446-1465d21ad736\" xlink:actuate=\"onRequest\" xlink:href=\"psysml:40835df5-3f1f-4886-9446-1465d21ad736\" xlink:show=\"new\" xlink:title=\"psysml:40835df5-3f1f-4886-9446-1465d21ad736\" xlink:type=\"simple\"><rect fill=\"#FEFECE\" filter=\"url(#f1bjt7m172rsd9)\" height=\"45.9375\" id=\"E4\" rx=\"10\" ry=\"10\" style=\"stroke: #A80036; stroke-width: 1.5;\" width=\"68\" x=\"238\" y=\"247\"/><ellipse cx=\"253\" cy=\"265.9688\" fill=\"#32CD32\" rx=\"11\" ry=\"11\" style=\"stroke: #A80036; stroke-width: 1.0;\"/><path d=\"M252.7969,261.6406 L252.7969,265.2656 L253.7969,265.2656 Q255,265.2656 255.4844,264.8594 Q255.9688,264.4531 255.9688,263.4531 Q255.9688,262.4531 255.4844,262.0469 Q255,261.6406 253.7969,261.6406 L252.7969,261.6406 Z M250.3438,259.5781 L253.7031,259.5781 Q256.2656,259.5781 257.3906,260.5 Q258.5156,261.4063 258.5156,263.4531 Q258.5156,265.5 257.3906,266.4219 Q256.2656,267.3281 253.7031,267.3281 L252.7969,267.3281 L252.7969,271.9688 L250.3438,271.9688 L250.3438,259.5781 Z \"/><text fill=\"#000000\" font-family=\"sans-serif\" font-size=\"12\" font-style=\"italic\" lengthAdjust=\"spacingAndGlyphs\" textLength=\"40\" x=\"265\" y=\"263.1387\">«part»</text><text fill=\"#000000\" font-family=\"sans-serif\" font-size=\"12\" lengthAdjust=\"spacingAndGlyphs\" textLength=\"19\" x=\"275.5\" y=\"277.1074\">f: F</text><line style=\"stroke: #A80036; stroke-width: 1.5;\" x1=\"239\" x2=\"305\" y1=\"284.9375\" y2=\"284.9375\"/></a><!--MD5=[270fce915f116d4de14055a7c1d9a0f3]\n",
       "class E5--><a href=\"psysml:299c2c32-5ec1-43b2-a066-b7748b01150c\" target=\"_top\" title=\"psysml:299c2c32-5ec1-43b2-a066-b7748b01150c\" xlink:actuate=\"onRequest\" xlink:href=\"psysml:299c2c32-5ec1-43b2-a066-b7748b01150c\" xlink:show=\"new\" xlink:title=\"psysml:299c2c32-5ec1-43b2-a066-b7748b01150c\" xlink:type=\"simple\"><rect fill=\"#FEFECE\" filter=\"url(#f1bjt7m172rsd9)\" height=\"40\" id=\"E5\" style=\"stroke: #A80036; stroke-width: 1.5;\" width=\"40\" x=\"46\" y=\"353\"/><ellipse cx=\"61\" cy=\"369\" fill=\"#008000\" rx=\"11\" ry=\"11\" style=\"stroke: #A80036; stroke-width: 1.0;\"/><path d=\"M59.9063,369.375 L59.9063,373.0469 L61.5313,373.0469 Q62.7031,373.0469 63.1719,372.6563 Q63.6406,372.25 63.6406,371.25 Q63.6406,370.25 63.1406,369.8125 Q62.6563,369.375 61.5313,369.375 L59.9063,369.375 Z M59.9063,364.5469 L59.9063,367.4219 L61.5313,367.4219 Q62.4531,367.4219 62.8438,367.0938 Q63.25,366.75 63.25,366 Q63.25,365.2344 62.8438,364.8906 Q62.4375,364.5469 61.5313,364.5469 L59.9063,364.5469 Z M57.5313,362.5938 L61.5313,362.5938 Q63.5938,362.5938 64.6406,363.375 Q65.6875,364.1563 65.6875,365.7188 Q65.6875,366.9219 65.0625,367.5938 Q64.4531,368.2656 63.2656,368.375 Q64.6875,368.5156 65.4063,369.3281 Q66.125,370.1406 66.125,371.5938 Q66.125,373.3906 65.0469,374.2031 Q63.9688,375 61.5313,375 L57.5313,375 L57.5313,362.5938 Z \"/><text fill=\"#000000\" font-family=\"sans-serif\" font-size=\"12\" lengthAdjust=\"spacingAndGlyphs\" textLength=\"8\" x=\"75\" y=\"373.1543\">A</text><line style=\"stroke: #A80036; stroke-width: 1.5;\" x1=\"47\" x2=\"85\" y1=\"385\" y2=\"385\"/></a><!--MD5=[60a26617385b1d2d0262a64233df1f8d]\n",
       "class E6--><a href=\"psysml:31dec55f-8acf-4d42-bd51-f4047894820c\" target=\"_top\" title=\"psysml:31dec55f-8acf-4d42-bd51-f4047894820c\" xlink:actuate=\"onRequest\" xlink:href=\"psysml:31dec55f-8acf-4d42-bd51-f4047894820c\" xlink:show=\"new\" xlink:title=\"psysml:31dec55f-8acf-4d42-bd51-f4047894820c\" xlink:type=\"simple\"><rect fill=\"#FEFECE\" filter=\"url(#f1bjt7m172rsd9)\" height=\"45.9375\" id=\"E6\" rx=\"10\" ry=\"10\" style=\"stroke: #A80036; stroke-width: 1.5;\" width=\"68\" x=\"32\" y=\"453\"/><ellipse cx=\"47\" cy=\"471.9688\" fill=\"#32CD32\" rx=\"11\" ry=\"11\" style=\"stroke: #A80036; stroke-width: 1.0;\"/><path d=\"M46.7969,467.6406 L46.7969,471.2656 L47.7969,471.2656 Q49,471.2656 49.4844,470.8594 Q49.9688,470.4531 49.9688,469.4531 Q49.9688,468.4531 49.4844,468.0469 Q49,467.6406 47.7969,467.6406 L46.7969,467.6406 Z M44.3438,465.5781 L47.7031,465.5781 Q50.2656,465.5781 51.3906,466.5 Q52.5156,467.4063 52.5156,469.4531 Q52.5156,471.5 51.3906,472.4219 Q50.2656,473.3281 47.7031,473.3281 L46.7969,473.3281 L46.7969,477.9688 L44.3438,477.9688 L44.3438,465.5781 Z \"/><text fill=\"#000000\" font-family=\"sans-serif\" font-size=\"12\" font-style=\"italic\" lengthAdjust=\"spacingAndGlyphs\" textLength=\"40\" x=\"59\" y=\"469.1387\">«part»</text><text fill=\"#000000\" font-family=\"sans-serif\" font-size=\"12\" lengthAdjust=\"spacingAndGlyphs\" textLength=\"8\" x=\"75\" y=\"483.1074\">g</text><line style=\"stroke: #A80036; stroke-width: 1.5;\" x1=\"33\" x2=\"99\" y1=\"490.9375\" y2=\"490.9375\"/></a><!--MD5=[2156ba9850f5573cc1fc38a6a4b2f02b]\n",
       "class E7--><a href=\"psysml:e57a8ff4-b454-49af-9671-50f81189572a\" target=\"_top\" title=\"psysml:e57a8ff4-b454-49af-9671-50f81189572a\" xlink:actuate=\"onRequest\" xlink:href=\"psysml:e57a8ff4-b454-49af-9671-50f81189572a\" xlink:show=\"new\" xlink:title=\"psysml:e57a8ff4-b454-49af-9671-50f81189572a\" xlink:type=\"simple\"><rect fill=\"#FEFECE\" filter=\"url(#f1bjt7m172rsd9)\" height=\"40\" id=\"E7\" style=\"stroke: #A80036; stroke-width: 1.5;\" width=\"40\" x=\"97\" y=\"147\"/><ellipse cx=\"112\" cy=\"163\" fill=\"#008000\" rx=\"11\" ry=\"11\" style=\"stroke: #A80036; stroke-width: 1.0;\"/><path d=\"M110.9063,163.375 L110.9063,167.0469 L112.5313,167.0469 Q113.7031,167.0469 114.1719,166.6563 Q114.6406,166.25 114.6406,165.25 Q114.6406,164.25 114.1406,163.8125 Q113.6563,163.375 112.5313,163.375 L110.9063,163.375 Z M110.9063,158.5469 L110.9063,161.4219 L112.5313,161.4219 Q113.4531,161.4219 113.8438,161.0938 Q114.25,160.75 114.25,160 Q114.25,159.2344 113.8438,158.8906 Q113.4375,158.5469 112.5313,158.5469 L110.9063,158.5469 Z M108.5313,156.5938 L112.5313,156.5938 Q114.5938,156.5938 115.6406,157.375 Q116.6875,158.1563 116.6875,159.7188 Q116.6875,160.9219 116.0625,161.5938 Q115.4531,162.2656 114.2656,162.375 Q115.6875,162.5156 116.4063,163.3281 Q117.125,164.1406 117.125,165.5938 Q117.125,167.3906 116.0469,168.2031 Q114.9688,169 112.5313,169 L108.5313,169 L108.5313,156.5938 Z \"/><text fill=\"#000000\" font-family=\"sans-serif\" font-size=\"12\" lengthAdjust=\"spacingAndGlyphs\" textLength=\"8\" x=\"126\" y=\"167.1543\">B</text><line style=\"stroke: #A80036; stroke-width: 1.5;\" x1=\"98\" x2=\"136\" y1=\"179\" y2=\"179\"/></a><!--MD5=[b9389687b975829384b498ac4b7476b2]\n",
       "class E8--><a href=\"psysml:ae9b8861-e9cc-45e7-97b3-375fd90ac7d9\" target=\"_top\" title=\"psysml:ae9b8861-e9cc-45e7-97b3-375fd90ac7d9\" xlink:actuate=\"onRequest\" xlink:href=\"psysml:ae9b8861-e9cc-45e7-97b3-375fd90ac7d9\" xlink:show=\"new\" xlink:title=\"psysml:ae9b8861-e9cc-45e7-97b3-375fd90ac7d9\" xlink:type=\"simple\"><rect fill=\"#FEFECE\" filter=\"url(#f1bjt7m172rsd9)\" height=\"45.9375\" id=\"E8\" rx=\"10\" ry=\"10\" style=\"stroke: #A80036; stroke-width: 1.5;\" width=\"68\" x=\"135\" y=\"247\"/><ellipse cx=\"150\" cy=\"265.9688\" fill=\"#32CD32\" rx=\"11\" ry=\"11\" style=\"stroke: #A80036; stroke-width: 1.0;\"/><path d=\"M149.7969,261.6406 L149.7969,265.2656 L150.7969,265.2656 Q152,265.2656 152.4844,264.8594 Q152.9688,264.4531 152.9688,263.4531 Q152.9688,262.4531 152.4844,262.0469 Q152,261.6406 150.7969,261.6406 L149.7969,261.6406 Z M147.3438,259.5781 L150.7031,259.5781 Q153.2656,259.5781 154.3906,260.5 Q155.5156,261.4063 155.5156,263.4531 Q155.5156,265.5 154.3906,266.4219 Q153.2656,267.3281 150.7031,267.3281 L149.7969,267.3281 L149.7969,271.9688 L147.3438,271.9688 L147.3438,259.5781 Z \"/><text fill=\"#000000\" font-family=\"sans-serif\" font-size=\"12\" font-style=\"italic\" lengthAdjust=\"spacingAndGlyphs\" textLength=\"40\" x=\"162\" y=\"263.1387\">«part»</text><text fill=\"#000000\" font-family=\"sans-serif\" font-size=\"12\" lengthAdjust=\"spacingAndGlyphs\" textLength=\"19\" x=\"172.5\" y=\"277.1074\">f: F</text><line style=\"stroke: #A80036; stroke-width: 1.5;\" x1=\"136\" x2=\"202\" y1=\"284.9375\" y2=\"284.9375\"/></a><!--MD5=[fd4143e9d270a159db93a4ea2a975926]\n",
       "class E9--><a href=\"psysml:d620b19b-a1e2-497d-8cad-3b2dc38fedc0\" target=\"_top\" title=\"psysml:d620b19b-a1e2-497d-8cad-3b2dc38fedc0\" xlink:actuate=\"onRequest\" xlink:href=\"psysml:d620b19b-a1e2-497d-8cad-3b2dc38fedc0\" xlink:show=\"new\" xlink:title=\"psysml:d620b19b-a1e2-497d-8cad-3b2dc38fedc0\" xlink:type=\"simple\"><rect fill=\"#FEFECE\" filter=\"url(#f1bjt7m172rsd9)\" height=\"45.9375\" id=\"E9\" rx=\"10\" ry=\"10\" style=\"stroke: #A80036; stroke-width: 1.5;\" width=\"68\" x=\"32\" y=\"247\"/><ellipse cx=\"47\" cy=\"265.9688\" fill=\"#32CD32\" rx=\"11\" ry=\"11\" style=\"stroke: #A80036; stroke-width: 1.0;\"/><path d=\"M46.7969,261.6406 L46.7969,265.2656 L47.7969,265.2656 Q49,265.2656 49.4844,264.8594 Q49.9688,264.4531 49.9688,263.4531 Q49.9688,262.4531 49.4844,262.0469 Q49,261.6406 47.7969,261.6406 L46.7969,261.6406 Z M44.3438,259.5781 L47.7031,259.5781 Q50.2656,259.5781 51.3906,260.5 Q52.5156,261.4063 52.5156,263.4531 Q52.5156,265.5 51.3906,266.4219 Q50.2656,267.3281 47.7031,267.3281 L46.7969,267.3281 L46.7969,271.9688 L44.3438,271.9688 L44.3438,259.5781 Z \"/><text fill=\"#000000\" font-family=\"sans-serif\" font-size=\"12\" font-style=\"italic\" lengthAdjust=\"spacingAndGlyphs\" textLength=\"40\" x=\"59\" y=\"263.1387\">«part»</text><text fill=\"#000000\" font-family=\"sans-serif\" font-size=\"12\" lengthAdjust=\"spacingAndGlyphs\" textLength=\"24\" x=\"67\" y=\"277.1074\">a: A</text><line style=\"stroke: #A80036; stroke-width: 1.5;\" x1=\"33\" x2=\"99\" y1=\"284.9375\" y2=\"284.9375\"/></a><!--MD5=[96f4274e9e20536e775497830990834d]\n",
       "class E10--><a href=\"psysml:f9a1a989-561d-4119-971e-8ebceafa94b4\" target=\"_top\" title=\"psysml:f9a1a989-561d-4119-971e-8ebceafa94b4\" xlink:actuate=\"onRequest\" xlink:href=\"psysml:f9a1a989-561d-4119-971e-8ebceafa94b4\" xlink:show=\"new\" xlink:title=\"psysml:f9a1a989-561d-4119-971e-8ebceafa94b4\" xlink:type=\"simple\"><rect fill=\"#FEFECE\" filter=\"url(#f1bjt7m172rsd9)\" height=\"45.9375\" id=\"E10\" rx=\"10\" ry=\"10\" style=\"stroke: #A80036; stroke-width: 1.5;\" width=\"68\" x=\"83\" y=\"41\"/><ellipse cx=\"98\" cy=\"59.9688\" fill=\"#32CD32\" rx=\"11\" ry=\"11\" style=\"stroke: #A80036; stroke-width: 1.0;\"/><path d=\"M97.7969,55.6406 L97.7969,59.2656 L98.7969,59.2656 Q100,59.2656 100.4844,58.8594 Q100.9688,58.4531 100.9688,57.4531 Q100.9688,56.4531 100.4844,56.0469 Q100,55.6406 98.7969,55.6406 L97.7969,55.6406 Z M95.3438,53.5781 L98.7031,53.5781 Q101.2656,53.5781 102.3906,54.5 Q103.5156,55.4063 103.5156,57.4531 Q103.5156,59.5 102.3906,60.4219 Q101.2656,61.3281 98.7031,61.3281 L97.7969,61.3281 L97.7969,65.9688 L95.3438,65.9688 L95.3438,53.5781 Z \"/><text fill=\"#000000\" font-family=\"sans-serif\" font-size=\"12\" font-style=\"italic\" lengthAdjust=\"spacingAndGlyphs\" textLength=\"40\" x=\"110\" y=\"57.1387\">«part»</text><text fill=\"#000000\" font-family=\"sans-serif\" font-size=\"12\" lengthAdjust=\"spacingAndGlyphs\" textLength=\"24\" x=\"118\" y=\"71.1074\">b: B</text><line style=\"stroke: #A80036; stroke-width: 1.5;\" x1=\"84\" x2=\"150\" y1=\"78.9375\" y2=\"78.9375\"/></a><!--MD5=[209b3feb70ccb6233bfe1053d122c12c]\n",
       "reverse link E2 to E3--><a href=\"psysml:5ee10b2b-55c1-4a08-a13b-bdb74e3f50e5\" target=\"_top\" title=\"psysml:5ee10b2b-55c1-4a08-a13b-bdb74e3f50e5\" xlink:actuate=\"onRequest\" xlink:href=\"psysml:5ee10b2b-55c1-4a08-a13b-bdb74e3f50e5\" xlink:show=\"new\" xlink:title=\"psysml:5ee10b2b-55c1-4a08-a13b-bdb74e3f50e5\" xlink:type=\"simple\"><path d=\"M220,406.47 C220,421.59 220,439.2 220,452.77 \" fill=\"none\" id=\"E2&lt;-E3\" style=\"stroke: #A80036; stroke-width: 1.0;\"/><polygon fill=\"#A80036\" points=\"220,393.47,216,399.47,220,405.47,224,399.47,220,393.47\" style=\"stroke: #A80036; stroke-width: 1.0;\"/></a><!--MD5=[185131fc0dcab0a4505a2ebe144e961b]\n",
       "link E4 to E2--><a href=\"psysml:c4c1c0e2-eca3-4dc3-a203-c30912c3ab2b\" target=\"_top\" title=\"psysml:c4c1c0e2-eca3-4dc3-a203-c30912c3ab2b\" xlink:actuate=\"onRequest\" xlink:href=\"psysml:c4c1c0e2-eca3-4dc3-a203-c30912c3ab2b\" xlink:show=\"new\" xlink:title=\"psysml:c4c1c0e2-eca3-4dc3-a203-c30912c3ab2b\" xlink:type=\"simple\"><path d=\"M260.46,293.42 C254.24,305.5 246.39,320.74 239.27,334.57 \" fill=\"none\" id=\"E4-&gt;E2\" style=\"stroke: #A80036; stroke-width: 1.0;\"/><polygon fill=\"#FFFFFF\" points=\"229.93,352.71,232.4037,332.6132,244.8508,339.0217,229.93,352.71\" style=\"stroke: #A80036; stroke-width: 1.0;\"/><ellipse cx=\"236.7911\" cy=\"328.461\" fill=\"#A80036\" rx=\"2\" ry=\"2\" style=\"stroke: #A80036; stroke-width: 1.0;\"/><ellipse cx=\"245.6819\" cy=\"333.0385\" fill=\"#A80036\" rx=\"2\" ry=\"2\" style=\"stroke: #A80036; stroke-width: 1.0;\"/></a><!--MD5=[85d356282659285ab4b2cfe2f634dd2b]\n",
       "reverse link E5 to E6--><a href=\"psysml:93463b7d-149f-4a15-b84b-177a9e530eda\" target=\"_top\" title=\"psysml:93463b7d-149f-4a15-b84b-177a9e530eda\" xlink:actuate=\"onRequest\" xlink:href=\"psysml:93463b7d-149f-4a15-b84b-177a9e530eda\" xlink:show=\"new\" xlink:title=\"psysml:93463b7d-149f-4a15-b84b-177a9e530eda\" xlink:type=\"simple\"><path d=\"M66,406.47 C66,421.59 66,439.2 66,452.77 \" fill=\"none\" id=\"E5&lt;-E6\" style=\"stroke: #A80036; stroke-width: 1.0;\"/><polygon fill=\"#A80036\" points=\"66,393.47,62,399.47,66,405.47,70,399.47,66,393.47\" style=\"stroke: #A80036; stroke-width: 1.0;\"/></a><!--MD5=[dc164f5e8a733ab456ef1add180e9e34]\n",
       "reverse link E7 to E8--><a href=\"psysml:de6f8f38-3125-456b-a954-15a696931b63\" target=\"_top\" title=\"psysml:de6f8f38-3125-456b-a954-15a696931b63\" xlink:actuate=\"onRequest\" xlink:href=\"psysml:de6f8f38-3125-456b-a954-15a696931b63\" xlink:show=\"new\" xlink:title=\"psysml:de6f8f38-3125-456b-a954-15a696931b63\" xlink:type=\"simple\"><path d=\"M133.01,199.09 C140.95,214.51 150.35,232.78 157.56,246.77 \" fill=\"none\" id=\"E7&lt;-E8\" style=\"stroke: #A80036; stroke-width: 1.0;\"/><polygon fill=\"#A80036\" points=\"127.03,187.47,126.2165,194.6351,132.5176,198.1418,133.331,190.9767,127.03,187.47\" style=\"stroke: #A80036; stroke-width: 1.0;\"/></a><!--MD5=[f1f3f9f2fc535e6147756cb86a7f2e32]\n",
       "link E8 to E2--><a href=\"psysml:536a95df-7241-4403-bcab-1aa9fe7a4b7d\" target=\"_top\" title=\"psysml:536a95df-7241-4403-bcab-1aa9fe7a4b7d\" xlink:actuate=\"onRequest\" xlink:href=\"psysml:536a95df-7241-4403-bcab-1aa9fe7a4b7d\" xlink:show=\"new\" xlink:title=\"psysml:536a95df-7241-4403-bcab-1aa9fe7a4b7d\" xlink:type=\"simple\"><path d=\"M180.32,293.42 C186.42,305.5 194.11,320.74 201.1,334.57 \" fill=\"none\" id=\"E8-&gt;E2\" style=\"stroke: #A80036; stroke-width: 1.0;\"/><polygon fill=\"#FFFFFF\" points=\"210.26,352.71,195.4445,338.9078,207.9403,332.5949,210.26,352.71\" style=\"stroke: #A80036; stroke-width: 1.0;\"/><ellipse cx=\"194.6593\" cy=\"332.9184\" fill=\"#A80036\" rx=\"2\" ry=\"2\" style=\"stroke: #A80036; stroke-width: 1.0;\"/><ellipse cx=\"203.5849\" cy=\"328.4091\" fill=\"#A80036\" rx=\"2\" ry=\"2\" style=\"stroke: #A80036; stroke-width: 1.0;\"/></a><!--MD5=[e4a10ef82d0e328e31cac39a31e58dda]\n",
       "reverse link E7 to E9--><a href=\"psysml:2c441a1b-e979-4985-bcd5-61f8c13172d0\" target=\"_top\" title=\"psysml:2c441a1b-e979-4985-bcd5-61f8c13172d0\" xlink:actuate=\"onRequest\" xlink:href=\"psysml:2c441a1b-e979-4985-bcd5-61f8c13172d0\" xlink:show=\"new\" xlink:title=\"psysml:2c441a1b-e979-4985-bcd5-61f8c13172d0\" xlink:type=\"simple\"><path d=\"M101.3,199.09 C93.51,214.51 84.29,232.78 77.22,246.77 \" fill=\"none\" id=\"E7&lt;-E9\" style=\"stroke: #A80036; stroke-width: 1.0;\"/><polygon fill=\"#A80036\" points=\"107.17,187.47,100.895,191.0231,101.7613,198.1819,108.0363,194.6289,107.17,187.47\" style=\"stroke: #A80036; stroke-width: 1.0;\"/></a><!--MD5=[bfc3ddf2e613be37104f658f09af896c]\n",
       "link E9 to E5--><a href=\"psysml:fc8a5d52-f7b0-45e1-9a4f-1e932b65f071\" target=\"_top\" title=\"psysml:fc8a5d52-f7b0-45e1-9a4f-1e932b65f071\" xlink:actuate=\"onRequest\" xlink:href=\"psysml:fc8a5d52-f7b0-45e1-9a4f-1e932b65f071\" xlink:show=\"new\" xlink:title=\"psysml:fc8a5d52-f7b0-45e1-9a4f-1e932b65f071\" xlink:type=\"simple\"><path d=\"M66,293.42 C66,304.95 66,319.34 66,332.65 \" fill=\"none\" id=\"E9-&gt;E5\" style=\"stroke: #A80036; stroke-width: 1.0;\"/><polygon fill=\"#FFFFFF\" points=\"66,352.71,59,333.71,73,333.71,66,352.71\" style=\"stroke: #A80036; stroke-width: 1.0;\"/><ellipse cx=\"61\" cy=\"328.01\" fill=\"#A80036\" rx=\"2\" ry=\"2\" style=\"stroke: #A80036; stroke-width: 1.0;\"/><ellipse cx=\"71\" cy=\"328.01\" fill=\"#A80036\" rx=\"2\" ry=\"2\" style=\"stroke: #A80036; stroke-width: 1.0;\"/></a><!--MD5=[a919e0967d6f3de553dc51b9865a1d6d]\n",
       "link E10 to E7--><a href=\"psysml:2e3833d6-0a03-41e5-9593-325ba84dff2e\" target=\"_top\" title=\"psysml:2e3833d6-0a03-41e5-9593-325ba84dff2e\" xlink:actuate=\"onRequest\" xlink:href=\"psysml:2e3833d6-0a03-41e5-9593-325ba84dff2e\" xlink:show=\"new\" xlink:title=\"psysml:2e3833d6-0a03-41e5-9593-325ba84dff2e\" xlink:type=\"simple\"><path d=\"M117,87.42 C117,98.95 117,113.34 117,126.65 \" fill=\"none\" id=\"E10-&gt;E7\" style=\"stroke: #A80036; stroke-width: 1.0;\"/><polygon fill=\"#FFFFFF\" points=\"117,146.71,110,127.71,124,127.71,117,146.71\" style=\"stroke: #A80036; stroke-width: 1.0;\"/><ellipse cx=\"112\" cy=\"122.01\" fill=\"#A80036\" rx=\"2\" ry=\"2\" style=\"stroke: #A80036; stroke-width: 1.0;\"/><ellipse cx=\"122\" cy=\"122.01\" fill=\"#A80036\" rx=\"2\" ry=\"2\" style=\"stroke: #A80036; stroke-width: 1.0;\"/></a><!--MD5=[dd0b2f0d21cda7a77e904ff107991f1f]\n",
       "@startuml\r\n",
       " \r\n",
       "package \"Q\" as E1  [[psysml:427a19be-4ba6-433c-b392-6823bf74d458 ]]  {\r\n",
       "comp def \"F\" as E2 << << (B,green) >> [[psysml:027effde-34e9-4491-ba0c-9f82cacaad23 ]] {\r\n",
       "}\r\n",
       "comp usage \"a\" as E3 << << (P,limegreen) part>> [[psysml:241a9b2a-e9cc-4b19-964a-2424b61c0639 ]] {\r\n",
       "}\r\n",
       "comp usage \"f: F\" as E4 << << (P,limegreen) part>> [[psysml:40835df5-3f1f-4886-9446-1465d21ad736 ]] {\r\n",
       "}\r\n",
       "comp def \"A\" as E5 << << (B,green) >> [[psysml:299c2c32-5ec1-43b2-a066-b7748b01150c ]] {\r\n",
       "}\r\n",
       "comp usage \"g\" as E6 << << (P,limegreen) part>> [[psysml:31dec55f-8acf-4d42-bd51-f4047894820c ]] {\r\n",
       "}\r\n",
       "comp def \"B\" as E7 << << (B,green) >> [[psysml:e57a8ff4-b454-49af-9671-50f81189572a ]] {\r\n",
       "}\r\n",
       "comp usage \"f: F\" as E8 << << (P,limegreen) part>> [[psysml:ae9b8861-e9cc-45e7-97b3-375fd90ac7d9 ]] {\r\n",
       "}\r\n",
       "comp usage \"a: A\" as E9 << << (P,limegreen) part>> [[psysml:d620b19b-a1e2-497d-8cad-3b2dc38fedc0 ]] {\r\n",
       "}\r\n",
       "comp usage \"b: B\" as E10 << << (P,limegreen) part>> [[psysml:f9a1a989-561d-4119-971e-8ebceafa94b4 ]] {\r\n",
       "}\r\n",
       "E2 *- - E3 [[psysml:5ee10b2b-55c1-4a08-a13b-bdb74e3f50e5 ]] \r\n",
       "E4 - -:|> E2 [[psysml:c4c1c0e2-eca3-4dc3-a203-c30912c3ab2b ]] \r\n",
       "E5 *- - E6 [[psysml:93463b7d-149f-4a15-b84b-177a9e530eda ]] \r\n",
       "E7 *- - E8 [[psysml:de6f8f38-3125-456b-a954-15a696931b63 ]] \r\n",
       "E8 - -:|> E2 [[psysml:536a95df-7241-4403-bcab-1aa9fe7a4b7d ]] \r\n",
       "E7 *- - E9 [[psysml:2c441a1b-e979-4985-bcd5-61f8c13172d0 ]] \r\n",
       "E9 - -:|> E5 [[psysml:fc8a5d52-f7b0-45e1-9a4f-1e932b65f071 ]] \r\n",
       "E10 - -:|> E7 [[psysml:2e3833d6-0a03-41e5-9593-325ba84dff2e ]] \r\n",
       "}\r\n",
       "@enduml\r\n",
       "\n",
       "PlantUML version 1.2020.13(Sat Jun 13 12:26:38 UTC 2020)\n",
       "(EPL source distribution)\n",
       "Java Runtime: OpenJDK Runtime Environment\n",
       "JVM: OpenJDK 64-Bit Server VM\n",
       "Default Encoding: UTF-8\n",
       "Language: en\n",
       "Country: null\n",
       "--></g></svg>"
      ]
     },
     "execution_count": 31,
     "metadata": {},
     "output_type": "execute_result"
    }
   ],
   "source": [
    "%viz --style=\"PLANTUML\" --view=\"Tree\" \"Q\""
   ]
  },
  {
   "cell_type": "code",
   "execution_count": 32,
   "id": "d3fe2090",
   "metadata": {
    "execution": {
     "iopub.execute_input": "2021-06-30T09:23:34.104901Z",
     "iopub.status.busy": "2021-06-30T09:23:34.103817Z",
     "iopub.status.idle": "2021-06-30T09:23:34.408401Z",
     "shell.execute_reply": "2021-06-30T09:23:34.404602Z"
    }
   },
   "outputs": [
    {
     "data": {
      "image/svg+xml": [
       "<?xml version=\"1.0\" encoding=\"UTF-8\" standalone=\"no\"?><svg xmlns=\"http://www.w3.org/2000/svg\" xmlns:xlink=\"http://www.w3.org/1999/xlink\" contentScriptType=\"application/ecmascript\" contentStyleType=\"text/css\" height=\"303px\" preserveAspectRatio=\"none\" style=\"width:603px;height:303px;background:#000000;\" version=\"1.1\" viewBox=\"0 0 603 303\" width=\"603px\" zoomAndPan=\"magnify\"><defs/><g><rect fill=\"#090726\" height=\"1\" style=\"stroke: #090726; stroke-width: 1.0;\" width=\"1\" x=\"0\" y=\"0\"/><rect fill=\"#FFFFFF\" height=\"205.5625\" style=\"stroke: #FFFFFF; stroke-width: 1.0;\" width=\"602\" x=\"0\" y=\"0\"/><text fill=\"#000000\" font-family=\"sans-serif\" font-size=\"12\" font-weight=\"bold\" lengthAdjust=\"spacingAndGlyphs\" textLength=\"159\" x=\"5\" y=\"16.1387\">Welcome to PlantUML!</text><text fill=\"#000000\" font-family=\"sans-serif\" font-size=\"12\" lengthAdjust=\"spacingAndGlyphs\" textLength=\"0\" x=\"9\" y=\"30.1074\"/><text fill=\"#000000\" font-family=\"sans-serif\" font-size=\"12\" lengthAdjust=\"spacingAndGlyphs\" textLength=\"293\" x=\"5\" y=\"44.0762\">If you use this software, you accept its license.</text><text fill=\"#000000\" font-family=\"sans-serif\" font-size=\"12\" lengthAdjust=\"spacingAndGlyphs\" textLength=\"107\" x=\"5\" y=\"58.0449\">(details by typing</text><text fill=\"#000000\" font-family=\"monospace\" font-size=\"12\" lengthAdjust=\"spacingAndGlyphs\" textLength=\"49\" x=\"116\" y=\"58.0449\">license</text><text fill=\"#000000\" font-family=\"sans-serif\" font-size=\"12\" lengthAdjust=\"spacingAndGlyphs\" textLength=\"56\" x=\"169\" y=\"58.0449\">keyword)</text><text fill=\"#000000\" font-family=\"sans-serif\" font-size=\"12\" lengthAdjust=\"spacingAndGlyphs\" textLength=\"0\" x=\"9\" y=\"72.0137\"/><text fill=\"#000000\" font-family=\"sans-serif\" font-size=\"12\" lengthAdjust=\"spacingAndGlyphs\" textLength=\"283\" x=\"5\" y=\"85.9824\">You can start with a simple UML Diagram like:</text><text fill=\"#000000\" font-family=\"sans-serif\" font-size=\"12\" lengthAdjust=\"spacingAndGlyphs\" textLength=\"0\" x=\"9\" y=\"99.9512\"/><text fill=\"#000000\" font-family=\"monospace\" font-size=\"12\" lengthAdjust=\"spacingAndGlyphs\" textLength=\"119\" x=\"5\" y=\"113.9199\">Bob-&gt;Alice: Hello</text><text fill=\"#000000\" font-family=\"sans-serif\" font-size=\"12\" lengthAdjust=\"spacingAndGlyphs\" textLength=\"0\" x=\"9\" y=\"127.8887\"/><text fill=\"#000000\" font-family=\"sans-serif\" font-size=\"12\" lengthAdjust=\"spacingAndGlyphs\" textLength=\"14\" x=\"5\" y=\"141.8574\">Or</text><text fill=\"#000000\" font-family=\"sans-serif\" font-size=\"12\" lengthAdjust=\"spacingAndGlyphs\" textLength=\"0\" x=\"9\" y=\"155.8262\"/><text fill=\"#000000\" font-family=\"monospace\" font-size=\"12\" lengthAdjust=\"spacingAndGlyphs\" textLength=\"91\" x=\"5\" y=\"169.7949\">class Example</text><text fill=\"#000000\" font-family=\"sans-serif\" font-size=\"12\" lengthAdjust=\"spacingAndGlyphs\" textLength=\"0\" x=\"9\" y=\"183.7637\"/><text fill=\"#000000\" font-family=\"sans-serif\" font-size=\"12\" lengthAdjust=\"spacingAndGlyphs\" textLength=\"349\" x=\"5\" y=\"197.7324\">You will find more information about PlantUML syntax on</text><text fill=\"#000000\" font-family=\"sans-serif\" font-size=\"12\" lengthAdjust=\"spacingAndGlyphs\" text-decoration=\"underline\" textLength=\"129\" x=\"358\" y=\"197.7324\">https://plantuml.com</text><image height=\"71\" width=\"80\" x=\"516\" xlink:href=\"data:image/png;base64,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\" y=\"6\"/><rect fill=\"#000000\" height=\"96.4844\" style=\"stroke: #000000; stroke-width: 1.0;\" width=\"602\" x=\"0\" y=\"205.5625\"/><rect fill=\"#33FF02\" height=\"21.2969\" style=\"stroke: #33FF02; stroke-width: 1.0;\" width=\"170\" x=\"5\" y=\"210.5625\"/><text fill=\"#000000\" font-family=\"sans-serif\" font-size=\"14\" font-weight=\"bold\" lengthAdjust=\"spacingAndGlyphs\" textLength=\"168\" x=\"6\" y=\"225.5625\">[From string (line 2) ]</text><text fill=\"#33FF02\" font-family=\"sans-serif\" font-size=\"14\" font-weight=\"bold\" lengthAdjust=\"spacingAndGlyphs\" textLength=\"0\" x=\"10\" y=\"245.8594\"/><text fill=\"#33FF02\" font-family=\"sans-serif\" font-size=\"14\" font-weight=\"bold\" lengthAdjust=\"spacingAndGlyphs\" textLength=\"79\" x=\"5\" y=\"262.1563\">@startuml</text><text fill=\"#33FF02\" font-family=\"sans-serif\" font-size=\"14\" font-weight=\"bold\" lengthAdjust=\"spacingAndGlyphs\" textLength=\"0\" x=\"10\" y=\"278.4531\"/><text fill=\"#FF0000\" font-family=\"sans-serif\" font-size=\"14\" font-weight=\"bold\" lengthAdjust=\"spacingAndGlyphs\" textLength=\"142\" x=\"10\" y=\"294.75\">Empty description</text><!--MD5=[f59edd8218d337f74d0c332fc6737304]\n",
       "@startuml\r\n",
       " \r\n",
       "@enduml\r\n",
       "\n",
       "PlantUML version 1.2020.13(Sat Jun 13 12:26:38 UTC 2020)\n",
       "(EPL source distribution)\n",
       "Java Runtime: OpenJDK Runtime Environment\n",
       "JVM: OpenJDK 64-Bit Server VM\n",
       "Default Encoding: UTF-8\n",
       "Language: en\n",
       "Country: null\n",
       "--></g></svg>"
      ]
     },
     "execution_count": 32,
     "metadata": {},
     "output_type": "execute_result"
    }
   ],
   "source": [
    "%viz --style=\"PLANTUML\" --view=\"State\" \"Q\""
   ]
  },
  {
   "cell_type": "code",
   "execution_count": 33,
   "id": "f81d3560",
   "metadata": {
    "execution": {
     "iopub.execute_input": "2021-06-30T09:23:34.460199Z",
     "iopub.status.busy": "2021-06-30T09:23:34.456942Z",
     "iopub.status.idle": "2021-06-30T09:23:34.592080Z",
     "shell.execute_reply": "2021-06-30T09:23:34.592818Z"
    }
   },
   "outputs": [
    {
     "data": {
      "image/svg+xml": [
       "<?xml version=\"1.0\" encoding=\"UTF-8\" standalone=\"no\"?><svg xmlns=\"http://www.w3.org/2000/svg\" xmlns:xlink=\"http://www.w3.org/1999/xlink\" contentScriptType=\"application/ecmascript\" contentStyleType=\"text/css\" height=\"358px\" preserveAspectRatio=\"none\" style=\"width:676px;height:358px;\" version=\"1.1\" viewBox=\"0 0 676 358\" width=\"676px\" zoomAndPan=\"magnify\"><defs><filter height=\"300%\" id=\"f24chce32l6nw\" width=\"300%\" x=\"-1\" y=\"-1\"><feGaussianBlur result=\"blurOut\" stdDeviation=\"2.0\"/><feColorMatrix in=\"blurOut\" result=\"blurOut2\" type=\"matrix\" values=\"0 0 0 0 0 0 0 0 0 0 0 0 0 0 0 0 0 0 .4 0\"/><feOffset dx=\"4.0\" dy=\"4.0\" in=\"blurOut2\" result=\"blurOut3\"/><feBlend in=\"SourceGraphic\" in2=\"blurOut3\" mode=\"normal\"/></filter></defs><g><!--MD5=[fbc87193dbaf4d95561dea2c320d4a47]\n",
       "cluster E1--><a href=\"psysml:427a19be-4ba6-433c-b392-6823bf74d458\" target=\"_top\" title=\"psysml:427a19be-4ba6-433c-b392-6823bf74d458\" xlink:actuate=\"onRequest\" xlink:href=\"psysml:427a19be-4ba6-433c-b392-6823bf74d458\" xlink:show=\"new\" xlink:title=\"psysml:427a19be-4ba6-433c-b392-6823bf74d458\" xlink:type=\"simple\"><polygon fill=\"#FFFFFF\" filter=\"url(#f24chce32l6nw)\" points=\"16,6,34,6,41,28.2969,654,28.2969,654,346,16,346,16,6\" style=\"stroke: #000000; stroke-width: 1.5;\"/><line style=\"stroke: #000000; stroke-width: 1.5;\" x1=\"16\" x2=\"41\" y1=\"28.2969\" y2=\"28.2969\"/><text fill=\"#000000\" font-family=\"sans-serif\" font-size=\"14\" font-weight=\"bold\" lengthAdjust=\"spacingAndGlyphs\" textLength=\"12\" x=\"20\" y=\"20.9951\">Q</text></a><!--MD5=[e4f7fae6ed58524ba242bb0b0d3be6b7]\n",
       "cluster E2--><a href=\"psysml:027effde-34e9-4491-ba0c-9f82cacaad23\" target=\"_top\" title=\"psysml:027effde-34e9-4491-ba0c-9f82cacaad23\" xlink:actuate=\"onRequest\" xlink:href=\"psysml:027effde-34e9-4491-ba0c-9f82cacaad23\" xlink:show=\"new\" xlink:title=\"psysml:027effde-34e9-4491-ba0c-9f82cacaad23\" xlink:type=\"simple\"><rect fill=\"#FFFFFF\" filter=\"url(#f24chce32l6nw)\" height=\"91\" id=\"E2\" style=\"stroke: #A80036; stroke-width: 1.5;\" width=\"82\" x=\"548\" y=\"92\"/><rect fill=\"#FEFECE\" height=\"23.9688\" style=\"stroke: #A80036; stroke-width: 1.5;\" width=\"82\" x=\"548\" y=\"92\"/><text fill=\"#000000\" font-family=\"sans-serif\" font-size=\"12\" lengthAdjust=\"spacingAndGlyphs\" textLength=\"7\" x=\"585.5\" y=\"108.1387\">F</text></a><!--MD5=[f6df4d0ebaf0b5dfb2ced0ae5af7c670]\n",
       "cluster E4--><a href=\"psysml:40835df5-3f1f-4886-9446-1465d21ad736\" target=\"_top\" title=\"psysml:40835df5-3f1f-4886-9446-1465d21ad736\" xlink:actuate=\"onRequest\" xlink:href=\"psysml:40835df5-3f1f-4886-9446-1465d21ad736\" xlink:show=\"new\" xlink:title=\"psysml:40835df5-3f1f-4886-9446-1465d21ad736\" xlink:type=\"simple\"><rect fill=\"#FFFFFF\" filter=\"url(#f24chce32l6nw)\" height=\"91\" id=\"E4\" rx=\"10\" ry=\"10\" style=\"stroke: #A80036; stroke-width: 1.5;\" width=\"88\" x=\"436\" y=\"92\"/><rect fill=\"#FEFECE\" height=\"23.9688\" rx=\"10\" ry=\"10\" style=\"stroke: #FEFECE; stroke-width: 1.5;\" width=\"88\" x=\"436\" y=\"92\"/><rect fill=\"#FEFECE\" height=\"10\" style=\"stroke: #FEFECE; stroke-width: 1.5;\" width=\"88\" x=\"436\" y=\"105.9688\"/><rect fill=\"none\" height=\"91\" id=\"E4\" rx=\"10\" ry=\"10\" style=\"stroke: #A80036; stroke-width: 1.5;\" width=\"88\" x=\"436\" y=\"92\"/><text fill=\"#000000\" font-family=\"sans-serif\" font-size=\"12\" lengthAdjust=\"spacingAndGlyphs\" textLength=\"19\" x=\"470.5\" y=\"108.1387\">f: F</text><line style=\"stroke: #A80036; stroke-width: 1.0;\" x1=\"436\" x2=\"524\" y1=\"115.9688\" y2=\"115.9688\"/></a><!--MD5=[14e3b0961a2654348d326746436168a1]\n",
       "cluster E6--><a href=\"psysml:299c2c32-5ec1-43b2-a066-b7748b01150c\" target=\"_top\" title=\"psysml:299c2c32-5ec1-43b2-a066-b7748b01150c\" xlink:actuate=\"onRequest\" xlink:href=\"psysml:299c2c32-5ec1-43b2-a066-b7748b01150c\" xlink:show=\"new\" xlink:title=\"psysml:299c2c32-5ec1-43b2-a066-b7748b01150c\" xlink:type=\"simple\"><rect fill=\"#FFFFFF\" filter=\"url(#f24chce32l6nw)\" height=\"91\" id=\"E6\" style=\"stroke: #A80036; stroke-width: 1.5;\" width=\"110\" x=\"302\" y=\"92\"/><rect fill=\"#FEFECE\" height=\"23.9688\" style=\"stroke: #A80036; stroke-width: 1.5;\" width=\"110\" x=\"302\" y=\"92\"/><text fill=\"#000000\" font-family=\"sans-serif\" font-size=\"12\" lengthAdjust=\"spacingAndGlyphs\" textLength=\"8\" x=\"353\" y=\"108.1387\">A</text></a><!--MD5=[55dfccfc6c49c2d10cd1bd2211a6c90c]\n",
       "cluster E8--><a href=\"psysml:e57a8ff4-b454-49af-9671-50f81189572a\" target=\"_top\" title=\"psysml:e57a8ff4-b454-49af-9671-50f81189572a\" xlink:actuate=\"onRequest\" xlink:href=\"psysml:e57a8ff4-b454-49af-9671-50f81189572a\" xlink:show=\"new\" xlink:title=\"psysml:e57a8ff4-b454-49af-9671-50f81189572a\" xlink:type=\"simple\"><rect fill=\"#FFFFFF\" filter=\"url(#f24chce32l6nw)\" height=\"273\" id=\"E8\" style=\"stroke: #A80036; stroke-width: 1.5;\" width=\"168\" x=\"110\" y=\"49\"/><rect fill=\"#FEFECE\" height=\"23.9688\" style=\"stroke: #A80036; stroke-width: 1.5;\" width=\"168\" x=\"110\" y=\"49\"/><text fill=\"#000000\" font-family=\"sans-serif\" font-size=\"12\" lengthAdjust=\"spacingAndGlyphs\" textLength=\"8\" x=\"190\" y=\"65.1387\">B</text></a><!--MD5=[7f149f147074ac12df2cb0a7728a5fb0]\n",
       "cluster E9--><a href=\"psysml:ae9b8861-e9cc-45e7-97b3-375fd90ac7d9\" target=\"_top\" title=\"psysml:ae9b8861-e9cc-45e7-97b3-375fd90ac7d9\" xlink:actuate=\"onRequest\" xlink:href=\"psysml:ae9b8861-e9cc-45e7-97b3-375fd90ac7d9\" xlink:show=\"new\" xlink:title=\"psysml:ae9b8861-e9cc-45e7-97b3-375fd90ac7d9\" xlink:type=\"simple\"><rect fill=\"#FFFFFF\" filter=\"url(#f24chce32l6nw)\" height=\"91\" id=\"E9\" rx=\"10\" ry=\"10\" style=\"stroke: #A80036; stroke-width: 1.5;\" width=\"88\" x=\"150\" y=\"207\"/><rect fill=\"#FEFECE\" height=\"23.9688\" rx=\"10\" ry=\"10\" style=\"stroke: #FEFECE; stroke-width: 1.5;\" width=\"88\" x=\"150\" y=\"207\"/><rect fill=\"#FEFECE\" height=\"10\" style=\"stroke: #FEFECE; stroke-width: 1.5;\" width=\"88\" x=\"150\" y=\"220.9688\"/><rect fill=\"none\" height=\"91\" id=\"E9\" rx=\"10\" ry=\"10\" style=\"stroke: #A80036; stroke-width: 1.5;\" width=\"88\" x=\"150\" y=\"207\"/><text fill=\"#000000\" font-family=\"sans-serif\" font-size=\"12\" lengthAdjust=\"spacingAndGlyphs\" textLength=\"19\" x=\"184.5\" y=\"223.1387\">f: F</text><line style=\"stroke: #A80036; stroke-width: 1.0;\" x1=\"150\" x2=\"238\" y1=\"230.9688\" y2=\"230.9688\"/></a><!--MD5=[917b9dd0c7eca3ee5f47219d1a84c0ad]\n",
       "cluster E11--><a href=\"psysml:d620b19b-a1e2-497d-8cad-3b2dc38fedc0\" target=\"_top\" title=\"psysml:d620b19b-a1e2-497d-8cad-3b2dc38fedc0\" xlink:actuate=\"onRequest\" xlink:href=\"psysml:d620b19b-a1e2-497d-8cad-3b2dc38fedc0\" xlink:show=\"new\" xlink:title=\"psysml:d620b19b-a1e2-497d-8cad-3b2dc38fedc0\" xlink:type=\"simple\"><rect fill=\"#FFFFFF\" filter=\"url(#f24chce32l6nw)\" height=\"91\" id=\"E11\" rx=\"10\" ry=\"10\" style=\"stroke: #A80036; stroke-width: 1.5;\" width=\"120\" x=\"134\" y=\"92\"/><rect fill=\"#FEFECE\" height=\"23.9688\" rx=\"10\" ry=\"10\" style=\"stroke: #FEFECE; stroke-width: 1.5;\" width=\"120\" x=\"134\" y=\"92\"/><rect fill=\"#FEFECE\" height=\"10\" style=\"stroke: #FEFECE; stroke-width: 1.5;\" width=\"120\" x=\"134\" y=\"105.9688\"/><rect fill=\"none\" height=\"91\" id=\"E11\" rx=\"10\" ry=\"10\" style=\"stroke: #A80036; stroke-width: 1.5;\" width=\"120\" x=\"134\" y=\"92\"/><text fill=\"#000000\" font-family=\"sans-serif\" font-size=\"12\" lengthAdjust=\"spacingAndGlyphs\" textLength=\"24\" x=\"182\" y=\"108.1387\">a: A</text><line style=\"stroke: #A80036; stroke-width: 1.0;\" x1=\"134\" x2=\"254\" y1=\"115.9688\" y2=\"115.9688\"/></a><g id=\"E1.E2.E3\"><a href=\"psysml:241a9b2a-e9cc-4b19-964a-2424b61c0639\" target=\"_top\" title=\"psysml:241a9b2a-e9cc-4b19-964a-2424b61c0639\" xlink:actuate=\"onRequest\" xlink:href=\"psysml:241a9b2a-e9cc-4b19-964a-2424b61c0639\" xlink:show=\"new\" xlink:title=\"psysml:241a9b2a-e9cc-4b19-964a-2424b61c0639\" xlink:type=\"simple\"><rect fill=\"#FEFECE\" filter=\"url(#f24chce32l6nw)\" height=\"40\" id=\"E3\" rx=\"10\" ry=\"10\" style=\"stroke: #A80036; stroke-width: 1.5;\" width=\"50\" x=\"564\" y=\"127\"/><ellipse cx=\"583.5\" cy=\"143\" fill=\"#B6DBBB\" rx=\"11\" ry=\"11\" style=\"stroke: #A80036; stroke-width: 1.0;\"/><path d=\"M579.375,144.9219 L579.375,137.1094 L581.8281,137.1094 L581.8281,145.5469 Q581.8281,146.4688 582.2969,147 Q582.7813,147.5313 583.6094,147.5313 Q584.4531,147.5313 584.9219,147 Q585.3906,146.4688 585.3906,145.5469 L585.3906,137.1094 L587.8438,137.1094 L587.8438,144.9219 Q587.8438,147.4531 586.8438,148.5938 Q585.8438,149.7344 583.6094,149.7344 Q581.3906,149.7344 580.375,148.5938 Q579.375,147.4531 579.375,144.9219 Z \"/><text fill=\"#000000\" font-family=\"sans-serif\" font-size=\"12\" lengthAdjust=\"spacingAndGlyphs\" textLength=\"8\" x=\"598.5\" y=\"147.1543\">a</text></a></g><g id=\"E1.E4.E5\"><a href=\"psysml:241a9b2a-e9cc-4b19-964a-2424b61c0639\" target=\"_top\" title=\"psysml:241a9b2a-e9cc-4b19-964a-2424b61c0639\" xlink:actuate=\"onRequest\" xlink:href=\"psysml:241a9b2a-e9cc-4b19-964a-2424b61c0639\" xlink:show=\"new\" xlink:title=\"psysml:241a9b2a-e9cc-4b19-964a-2424b61c0639\" xlink:type=\"simple\"><rect fill=\"#FEFECE\" filter=\"url(#f24chce32l6nw)\" height=\"40\" id=\"E5\" rx=\"10\" ry=\"10\" style=\"stroke: #A80036; stroke-width: 1.5;\" width=\"55\" x=\"452.5\" y=\"127\"/><ellipse cx=\"469.75\" cy=\"143\" fill=\"#B6DBBB\" rx=\"11\" ry=\"11\" style=\"stroke: #A80036; stroke-width: 1.0;\"/><path d=\"M465.625,144.9219 L465.625,137.1094 L468.0781,137.1094 L468.0781,145.5469 Q468.0781,146.4688 468.5469,147 Q469.0313,147.5313 469.8594,147.5313 Q470.7031,147.5313 471.1719,147 Q471.6406,146.4688 471.6406,145.5469 L471.6406,137.1094 L474.0938,137.1094 L474.0938,144.9219 Q474.0938,147.4531 473.0938,148.5938 Q472.0938,149.7344 469.8594,149.7344 Q467.6406,149.7344 466.625,148.5938 Q465.625,147.4531 465.625,144.9219 Z \"/><text fill=\"#000000\" font-family=\"sans-serif\" font-size=\"12\" lengthAdjust=\"spacingAndGlyphs\" textLength=\"18\" x=\"484.25\" y=\"147.1543\">^a</text></a></g><g id=\"E1.E6.E7\"><a href=\"psysml:31dec55f-8acf-4d42-bd51-f4047894820c\" target=\"_top\" title=\"psysml:31dec55f-8acf-4d42-bd51-f4047894820c\" xlink:actuate=\"onRequest\" xlink:href=\"psysml:31dec55f-8acf-4d42-bd51-f4047894820c\" xlink:show=\"new\" xlink:title=\"psysml:31dec55f-8acf-4d42-bd51-f4047894820c\" xlink:type=\"simple\"><rect fill=\"#FEFECE\" filter=\"url(#f24chce32l6nw)\" height=\"40\" id=\"E7\" rx=\"10\" ry=\"10\" style=\"stroke: #A80036; stroke-width: 1.5;\" width=\"79\" x=\"317.5\" y=\"127\"/><ellipse cx=\"334.75\" cy=\"143\" fill=\"#B6DBBB\" rx=\"11\" ry=\"11\" style=\"stroke: #A80036; stroke-width: 1.0;\"/><path d=\"M330.625,144.9219 L330.625,137.1094 L333.0781,137.1094 L333.0781,145.5469 Q333.0781,146.4688 333.5469,147 Q334.0313,147.5313 334.8594,147.5313 Q335.7031,147.5313 336.1719,147 Q336.6406,146.4688 336.6406,145.5469 L336.6406,137.1094 L339.0938,137.1094 L339.0938,144.9219 Q339.0938,147.4531 338.0938,148.5938 Q337.0938,149.7344 334.8594,149.7344 Q332.6406,149.7344 331.625,148.5938 Q330.625,147.4531 330.625,144.9219 Z \"/><text fill=\"#000000\" font-family=\"sans-serif\" font-size=\"12\" lengthAdjust=\"spacingAndGlyphs\" textLength=\"38\" x=\"349.25\" y=\"147.1543\">g=f.a;</text></a></g><g id=\"E1.E8.E9.E10\"><a href=\"psysml:241a9b2a-e9cc-4b19-964a-2424b61c0639\" target=\"_top\" title=\"psysml:241a9b2a-e9cc-4b19-964a-2424b61c0639\" xlink:actuate=\"onRequest\" xlink:href=\"psysml:241a9b2a-e9cc-4b19-964a-2424b61c0639\" xlink:show=\"new\" xlink:title=\"psysml:241a9b2a-e9cc-4b19-964a-2424b61c0639\" xlink:type=\"simple\"><rect fill=\"#FEFECE\" filter=\"url(#f24chce32l6nw)\" height=\"40\" id=\"E10\" rx=\"10\" ry=\"10\" style=\"stroke: #A80036; stroke-width: 1.5;\" width=\"55\" x=\"166.5\" y=\"242\"/><ellipse cx=\"183.75\" cy=\"258\" fill=\"#B6DBBB\" rx=\"11\" ry=\"11\" style=\"stroke: #A80036; stroke-width: 1.0;\"/><path d=\"M179.625,259.9219 L179.625,252.1094 L182.0781,252.1094 L182.0781,260.5469 Q182.0781,261.4688 182.5469,262 Q183.0313,262.5313 183.8594,262.5313 Q184.7031,262.5313 185.1719,262 Q185.6406,261.4688 185.6406,260.5469 L185.6406,252.1094 L188.0938,252.1094 L188.0938,259.9219 Q188.0938,262.4531 187.0938,263.5938 Q186.0938,264.7344 183.8594,264.7344 Q181.6406,264.7344 180.625,263.5938 Q179.625,262.4531 179.625,259.9219 Z \"/><text fill=\"#000000\" font-family=\"sans-serif\" font-size=\"12\" lengthAdjust=\"spacingAndGlyphs\" textLength=\"18\" x=\"198.25\" y=\"262.1543\">^a</text></a></g><g id=\"E1.E8.E11.E12\"><a href=\"psysml:31dec55f-8acf-4d42-bd51-f4047894820c\" target=\"_top\" title=\"psysml:31dec55f-8acf-4d42-bd51-f4047894820c\" xlink:actuate=\"onRequest\" xlink:href=\"psysml:31dec55f-8acf-4d42-bd51-f4047894820c\" xlink:show=\"new\" xlink:title=\"psysml:31dec55f-8acf-4d42-bd51-f4047894820c\" xlink:type=\"simple\"><rect fill=\"#FEFECE\" filter=\"url(#f24chce32l6nw)\" height=\"40\" id=\"E12\" rx=\"10\" ry=\"10\" style=\"stroke: #A80036; stroke-width: 1.5;\" width=\"89\" x=\"149.5\" y=\"127\"/><ellipse cx=\"166.75\" cy=\"143\" fill=\"#B6DBBB\" rx=\"11\" ry=\"11\" style=\"stroke: #A80036; stroke-width: 1.0;\"/><path d=\"M162.625,144.9219 L162.625,137.1094 L165.0781,137.1094 L165.0781,145.5469 Q165.0781,146.4688 165.5469,147 Q166.0313,147.5313 166.8594,147.5313 Q167.7031,147.5313 168.1719,147 Q168.6406,146.4688 168.6406,145.5469 L168.6406,137.1094 L171.0938,137.1094 L171.0938,144.9219 Q171.0938,147.4531 170.0938,148.5938 Q169.0938,149.7344 166.8594,149.7344 Q164.6406,149.7344 163.625,148.5938 Q162.625,147.4531 162.625,144.9219 Z \"/><text fill=\"#000000\" font-family=\"sans-serif\" font-size=\"12\" lengthAdjust=\"spacingAndGlyphs\" textLength=\"48\" x=\"181.25\" y=\"147.1543\">^g=f.a;</text></a></g><g id=\"E1.E13\"><a href=\"psysml:f9a1a989-561d-4119-971e-8ebceafa94b4\" target=\"_top\" title=\"psysml:f9a1a989-561d-4119-971e-8ebceafa94b4\" xlink:actuate=\"onRequest\" xlink:href=\"psysml:f9a1a989-561d-4119-971e-8ebceafa94b4\" xlink:show=\"new\" xlink:title=\"psysml:f9a1a989-561d-4119-971e-8ebceafa94b4\" xlink:type=\"simple\"><rect fill=\"#FEFECE\" filter=\"url(#f24chce32l6nw)\" height=\"40\" id=\"E13\" rx=\"10\" ry=\"10\" style=\"stroke: #A80036; stroke-width: 1.5;\" width=\"61\" x=\"32.5\" y=\"127\"/><ellipse cx=\"49.75\" cy=\"143\" fill=\"#B6DBBB\" rx=\"11\" ry=\"11\" style=\"stroke: #A80036; stroke-width: 1.0;\"/><path d=\"M45.625,144.9219 L45.625,137.1094 L48.0781,137.1094 L48.0781,145.5469 Q48.0781,146.4688 48.5469,147 Q49.0313,147.5313 49.8594,147.5313 Q50.7031,147.5313 51.1719,147 Q51.6406,146.4688 51.6406,145.5469 L51.6406,137.1094 L54.0938,137.1094 L54.0938,144.9219 Q54.0938,147.4531 53.0938,148.5938 Q52.0938,149.7344 49.8594,149.7344 Q47.6406,149.7344 46.625,148.5938 Q45.625,147.4531 45.625,144.9219 Z \"/><text fill=\"#000000\" font-family=\"sans-serif\" font-size=\"12\" lengthAdjust=\"spacingAndGlyphs\" textLength=\"24\" x=\"64.25\" y=\"147.1543\">b: B</text></a></g><!--MD5=[65481eef76a7486101c58ded21a552db]\n",
       "link E12 to E10--><a href=\"psysml:d897c185-bd23-4685-b4dd-90f768e45c35\" target=\"_top\" title=\"psysml:d897c185-bd23-4685-b4dd-90f768e45c35\" xlink:actuate=\"onRequest\" xlink:href=\"psysml:d897c185-bd23-4685-b4dd-90f768e45c35\" xlink:show=\"new\" xlink:title=\"psysml:d897c185-bd23-4685-b4dd-90f768e45c35\" xlink:type=\"simple\"><path d=\"M184.15,167.17 C180.29,187.95 180.28,220.92 184.13,241.74 \" fill=\"none\" id=\"E12-E10\" style=\"stroke: #A80036; stroke-width: 3.0;\"/></a><!--MD5=[65481eef76a7486101c58ded21a552db]\n",
       "link E12 to E10--><a href=\"psysml:a65e9cd3-f7a6-42d1-a2aa-d32628740aff\" target=\"_top\" title=\"psysml:a65e9cd3-f7a6-42d1-a2aa-d32628740aff\" xlink:actuate=\"onRequest\" xlink:href=\"psysml:a65e9cd3-f7a6-42d1-a2aa-d32628740aff\" xlink:show=\"new\" xlink:title=\"psysml:a65e9cd3-f7a6-42d1-a2aa-d32628740aff\" xlink:type=\"simple\"><path d=\"M204.43,167.17 C208.52,187.95 208.52,220.92 204.45,241.74 \" fill=\"none\" id=\"E12-E10-1\" style=\"stroke: #FF0000; stroke-width: 5.0;\"/></a><!--MD5=[c33b4484d5648460375314512dabf3ad]\n",
       "@startuml\r\n",
       "skinparam ranksep 10\r\n",
       "skinparam rectangle {\r\n",
       " backgroundColor<<block>> LightGreen\r\n",
       "}\r\n",
       " \r\n",
       "package \"Q\" as E1  [[psysml:427a19be-4ba6-433c-b392-6823bf74d458 ]]  {\r\n",
       "rec def \"F\" as E2 << << (B,green) >> [[psysml:027effde-34e9-4491-ba0c-9f82cacaad23 ]] {\r\n",
       "rec usage \"a\" as E3  [[psysml:241a9b2a-e9cc-4b19-964a-2424b61c0639 ]] {\r\n",
       "}\r\n",
       "}\r\n",
       "rec usage \"f: F\" as E4  [[psysml:40835df5-3f1f-4886-9446-1465d21ad736 ]] {\r\n",
       "rec usage \"^a\" as E5  [[psysml:241a9b2a-e9cc-4b19-964a-2424b61c0639 ]] {\r\n",
       "}\r\n",
       "}\r\n",
       "rec def \"A\" as E6 << << (B,green) >> [[psysml:299c2c32-5ec1-43b2-a066-b7748b01150c ]] {\r\n",
       "rec usage \"g=f.a; \" as E7  [[psysml:31dec55f-8acf-4d42-bd51-f4047894820c ]] {\r\n",
       "}\r\n",
       "}\r\n",
       "rec def \"B\" as E8 << << (B,green) >> [[psysml:e57a8ff4-b454-49af-9671-50f81189572a ]] {\r\n",
       "rec usage \"f: F\" as E9  [[psysml:ae9b8861-e9cc-45e7-97b3-375fd90ac7d9 ]] {\r\n",
       "rec usage \"^a\" as E10  [[psysml:241a9b2a-e9cc-4b19-964a-2424b61c0639 ]] {\r\n",
       "}\r\n",
       "}\r\n",
       "rec usage \"a: A\" as E11  [[psysml:d620b19b-a1e2-497d-8cad-3b2dc38fedc0 ]] {\r\n",
       "rec usage \"^g=f.a; \" as E12  [[psysml:31dec55f-8acf-4d42-bd51-f4047894820c ]] {\r\n",
       "}\r\n",
       "}\r\n",
       "}\r\n",
       "rec usage \"b: B\" as E13  [[psysml:f9a1a989-561d-4119-971e-8ebceafa94b4 ]] {\r\n",
       "}\r\n",
       "E12 -[thickness=3]- E10 [[psysml:d897c185-bd23-4685-b4dd-90f768e45c35 ]] \r\n",
       "E12 -[thickness=5,#red]- E10 [[psysml:a65e9cd3-f7a6-42d1-a2aa-d32628740aff ]] \r\n",
       "}\r\n",
       "@enduml\r\n",
       "\n",
       "PlantUML version 1.2020.13(Sat Jun 13 12:26:38 UTC 2020)\n",
       "(EPL source distribution)\n",
       "Java Runtime: OpenJDK Runtime Environment\n",
       "JVM: OpenJDK 64-Bit Server VM\n",
       "Default Encoding: UTF-8\n",
       "Language: en\n",
       "Country: null\n",
       "--></g></svg>"
      ]
     },
     "execution_count": 33,
     "metadata": {},
     "output_type": "execute_result"
    }
   ],
   "source": [
    "%viz --style=\"PLANTUML\" --view=\"Interconnection\" \"Q\""
   ]
  },
  {
   "cell_type": "code",
   "execution_count": 34,
   "id": "038b2658",
   "metadata": {
    "execution": {
     "iopub.execute_input": "2021-06-30T09:23:34.632498Z",
     "iopub.status.busy": "2021-06-30T09:23:34.631358Z",
     "iopub.status.idle": "2021-06-30T09:23:34.643473Z",
     "shell.execute_reply": "2021-06-30T09:23:34.642828Z"
    }
   },
   "outputs": [
    {
     "data": {
      "image/svg+xml": [
       "<?xml version=\"1.0\" encoding=\"UTF-8\" standalone=\"no\"?><svg xmlns=\"http://www.w3.org/2000/svg\" xmlns:xlink=\"http://www.w3.org/1999/xlink\" contentScriptType=\"application/ecmascript\" contentStyleType=\"text/css\" height=\"12px\" preserveAspectRatio=\"none\" style=\"width:12px;height:12px;\" version=\"1.1\" viewBox=\"0 0 12 12\" width=\"12px\" zoomAndPan=\"magnify\"><defs/><g><!--MD5=[6a4cb978cab31700e1ce5529f947a75d]\n",
       "@startuml\r\n",
       "skinparam ranksep 8\r\n",
       " \r\n",
       "@enduml\r\n",
       "\n",
       "PlantUML version 1.2020.13(Sat Jun 13 12:26:38 UTC 2020)\n",
       "(EPL source distribution)\n",
       "Java Runtime: OpenJDK Runtime Environment\n",
       "JVM: OpenJDK 64-Bit Server VM\n",
       "Default Encoding: UTF-8\n",
       "Language: en\n",
       "Country: null\n",
       "--></g></svg>"
      ]
     },
     "execution_count": 34,
     "metadata": {},
     "output_type": "execute_result"
    }
   ],
   "source": [
    "%viz --style=\"PLANTUML\" --view=\"Action\" \"Q\""
   ]
  },
  {
   "cell_type": "code",
   "execution_count": 35,
   "id": "29e7145f",
   "metadata": {
    "execution": {
     "iopub.execute_input": "2021-06-30T09:23:34.696197Z",
     "iopub.status.busy": "2021-06-30T09:23:34.695250Z",
     "iopub.status.idle": "2021-06-30T09:23:34.781996Z",
     "shell.execute_reply": "2021-06-30T09:23:34.781455Z"
    }
   },
   "outputs": [
    {
     "data": {
      "image/svg+xml": [
       "<?xml version=\"1.0\" encoding=\"UTF-8\" standalone=\"no\"?><svg xmlns=\"http://www.w3.org/2000/svg\" xmlns:xlink=\"http://www.w3.org/1999/xlink\" contentScriptType=\"application/ecmascript\" contentStyleType=\"text/css\" height=\"527px\" preserveAspectRatio=\"none\" style=\"width:344px;height:527px;\" version=\"1.1\" viewBox=\"0 0 344 527\" width=\"344px\" zoomAndPan=\"magnify\"><defs><filter height=\"300%\" id=\"f1bjt7m172rsd9\" width=\"300%\" x=\"-1\" y=\"-1\"><feGaussianBlur result=\"blurOut\" stdDeviation=\"2.0\"/><feColorMatrix in=\"blurOut\" result=\"blurOut2\" type=\"matrix\" values=\"0 0 0 0 0 0 0 0 0 0 0 0 0 0 0 0 0 0 .4 0\"/><feOffset dx=\"4.0\" dy=\"4.0\" in=\"blurOut2\" result=\"blurOut3\"/><feBlend in=\"SourceGraphic\" in2=\"blurOut3\" mode=\"normal\"/></filter></defs><g><!--MD5=[fbc87193dbaf4d95561dea2c320d4a47]\n",
       "cluster E1--><a href=\"psysml:427a19be-4ba6-433c-b392-6823bf74d458\" target=\"_top\" title=\"psysml:427a19be-4ba6-433c-b392-6823bf74d458\" xlink:actuate=\"onRequest\" xlink:href=\"psysml:427a19be-4ba6-433c-b392-6823bf74d458\" xlink:show=\"new\" xlink:title=\"psysml:427a19be-4ba6-433c-b392-6823bf74d458\" xlink:type=\"simple\"><polygon fill=\"#FFFFFF\" filter=\"url(#f1bjt7m172rsd9)\" points=\"16,6,34,6,41,28.2969,322,28.2969,322,515,16,515,16,6\" style=\"stroke: #000000; stroke-width: 1.5;\"/><line style=\"stroke: #000000; stroke-width: 1.5;\" x1=\"16\" x2=\"41\" y1=\"28.2969\" y2=\"28.2969\"/><text fill=\"#000000\" font-family=\"sans-serif\" font-size=\"14\" font-weight=\"bold\" lengthAdjust=\"spacingAndGlyphs\" textLength=\"12\" x=\"20\" y=\"20.9951\">Q</text></a><!--MD5=[b4997ac47864f28c2f74865a473b2911]\n",
       "class E2--><a href=\"psysml:027effde-34e9-4491-ba0c-9f82cacaad23\" target=\"_top\" title=\"psysml:027effde-34e9-4491-ba0c-9f82cacaad23\" xlink:actuate=\"onRequest\" xlink:href=\"psysml:027effde-34e9-4491-ba0c-9f82cacaad23\" xlink:show=\"new\" xlink:title=\"psysml:027effde-34e9-4491-ba0c-9f82cacaad23\" xlink:type=\"simple\"><rect fill=\"#FEFECE\" filter=\"url(#f1bjt7m172rsd9)\" height=\"40\" id=\"E2\" style=\"stroke: #A80036; stroke-width: 1.5;\" width=\"39\" x=\"200.5\" y=\"353\"/><ellipse cx=\"215.5\" cy=\"369\" fill=\"#008000\" rx=\"11\" ry=\"11\" style=\"stroke: #A80036; stroke-width: 1.0;\"/><path d=\"M214.4063,369.375 L214.4063,373.0469 L216.0313,373.0469 Q217.2031,373.0469 217.6719,372.6563 Q218.1406,372.25 218.1406,371.25 Q218.1406,370.25 217.6406,369.8125 Q217.1563,369.375 216.0313,369.375 L214.4063,369.375 Z M214.4063,364.5469 L214.4063,367.4219 L216.0313,367.4219 Q216.9531,367.4219 217.3438,367.0938 Q217.75,366.75 217.75,366 Q217.75,365.2344 217.3438,364.8906 Q216.9375,364.5469 216.0313,364.5469 L214.4063,364.5469 Z M212.0313,362.5938 L216.0313,362.5938 Q218.0938,362.5938 219.1406,363.375 Q220.1875,364.1563 220.1875,365.7188 Q220.1875,366.9219 219.5625,367.5938 Q218.9531,368.2656 217.7656,368.375 Q219.1875,368.5156 219.9063,369.3281 Q220.625,370.1406 220.625,371.5938 Q220.625,373.3906 219.5469,374.2031 Q218.4688,375 216.0313,375 L212.0313,375 L212.0313,362.5938 Z \"/><text fill=\"#000000\" font-family=\"sans-serif\" font-size=\"12\" lengthAdjust=\"spacingAndGlyphs\" textLength=\"7\" x=\"229.5\" y=\"373.1543\">F</text><line style=\"stroke: #A80036; stroke-width: 1.5;\" x1=\"201.5\" x2=\"238.5\" y1=\"385\" y2=\"385\"/></a><!--MD5=[09b614a08d8cba4a07c9adeb5e0fee81]\n",
       "class E3--><a href=\"psysml:241a9b2a-e9cc-4b19-964a-2424b61c0639\" target=\"_top\" title=\"psysml:241a9b2a-e9cc-4b19-964a-2424b61c0639\" xlink:actuate=\"onRequest\" xlink:href=\"psysml:241a9b2a-e9cc-4b19-964a-2424b61c0639\" xlink:show=\"new\" xlink:title=\"psysml:241a9b2a-e9cc-4b19-964a-2424b61c0639\" xlink:type=\"simple\"><rect fill=\"#FEFECE\" filter=\"url(#f1bjt7m172rsd9)\" height=\"45.9375\" id=\"E3\" rx=\"10\" ry=\"10\" style=\"stroke: #A80036; stroke-width: 1.5;\" width=\"68\" x=\"186\" y=\"453\"/><ellipse cx=\"201\" cy=\"471.9688\" fill=\"#32CD32\" rx=\"11\" ry=\"11\" style=\"stroke: #A80036; stroke-width: 1.0;\"/><path d=\"M200.7969,467.6406 L200.7969,471.2656 L201.7969,471.2656 Q203,471.2656 203.4844,470.8594 Q203.9688,470.4531 203.9688,469.4531 Q203.9688,468.4531 203.4844,468.0469 Q203,467.6406 201.7969,467.6406 L200.7969,467.6406 Z M198.3438,465.5781 L201.7031,465.5781 Q204.2656,465.5781 205.3906,466.5 Q206.5156,467.4063 206.5156,469.4531 Q206.5156,471.5 205.3906,472.4219 Q204.2656,473.3281 201.7031,473.3281 L200.7969,473.3281 L200.7969,477.9688 L198.3438,477.9688 L198.3438,465.5781 Z \"/><text fill=\"#000000\" font-family=\"sans-serif\" font-size=\"12\" font-style=\"italic\" lengthAdjust=\"spacingAndGlyphs\" textLength=\"40\" x=\"213\" y=\"469.1387\">«part»</text><text fill=\"#000000\" font-family=\"sans-serif\" font-size=\"12\" lengthAdjust=\"spacingAndGlyphs\" textLength=\"8\" x=\"229\" y=\"483.1074\">a</text><line style=\"stroke: #A80036; stroke-width: 1.5;\" x1=\"187\" x2=\"253\" y1=\"490.9375\" y2=\"490.9375\"/></a><!--MD5=[ebbe1d658d1005bcc118a6aa81145e00]\n",
       "class E4--><a href=\"psysml:40835df5-3f1f-4886-9446-1465d21ad736\" target=\"_top\" title=\"psysml:40835df5-3f1f-4886-9446-1465d21ad736\" xlink:actuate=\"onRequest\" xlink:href=\"psysml:40835df5-3f1f-4886-9446-1465d21ad736\" xlink:show=\"new\" xlink:title=\"psysml:40835df5-3f1f-4886-9446-1465d21ad736\" xlink:type=\"simple\"><rect fill=\"#FEFECE\" filter=\"url(#f1bjt7m172rsd9)\" height=\"45.9375\" id=\"E4\" rx=\"10\" ry=\"10\" style=\"stroke: #A80036; stroke-width: 1.5;\" width=\"68\" x=\"238\" y=\"247\"/><ellipse cx=\"253\" cy=\"265.9688\" fill=\"#32CD32\" rx=\"11\" ry=\"11\" style=\"stroke: #A80036; stroke-width: 1.0;\"/><path d=\"M252.7969,261.6406 L252.7969,265.2656 L253.7969,265.2656 Q255,265.2656 255.4844,264.8594 Q255.9688,264.4531 255.9688,263.4531 Q255.9688,262.4531 255.4844,262.0469 Q255,261.6406 253.7969,261.6406 L252.7969,261.6406 Z M250.3438,259.5781 L253.7031,259.5781 Q256.2656,259.5781 257.3906,260.5 Q258.5156,261.4063 258.5156,263.4531 Q258.5156,265.5 257.3906,266.4219 Q256.2656,267.3281 253.7031,267.3281 L252.7969,267.3281 L252.7969,271.9688 L250.3438,271.9688 L250.3438,259.5781 Z \"/><text fill=\"#000000\" font-family=\"sans-serif\" font-size=\"12\" font-style=\"italic\" lengthAdjust=\"spacingAndGlyphs\" textLength=\"40\" x=\"265\" y=\"263.1387\">«part»</text><text fill=\"#000000\" font-family=\"sans-serif\" font-size=\"12\" lengthAdjust=\"spacingAndGlyphs\" textLength=\"19\" x=\"275.5\" y=\"277.1074\">f: F</text><line style=\"stroke: #A80036; stroke-width: 1.5;\" x1=\"239\" x2=\"305\" y1=\"284.9375\" y2=\"284.9375\"/></a><!--MD5=[270fce915f116d4de14055a7c1d9a0f3]\n",
       "class E5--><a href=\"psysml:299c2c32-5ec1-43b2-a066-b7748b01150c\" target=\"_top\" title=\"psysml:299c2c32-5ec1-43b2-a066-b7748b01150c\" xlink:actuate=\"onRequest\" xlink:href=\"psysml:299c2c32-5ec1-43b2-a066-b7748b01150c\" xlink:show=\"new\" xlink:title=\"psysml:299c2c32-5ec1-43b2-a066-b7748b01150c\" xlink:type=\"simple\"><rect fill=\"#FEFECE\" filter=\"url(#f1bjt7m172rsd9)\" height=\"40\" id=\"E5\" style=\"stroke: #A80036; stroke-width: 1.5;\" width=\"40\" x=\"46\" y=\"353\"/><ellipse cx=\"61\" cy=\"369\" fill=\"#008000\" rx=\"11\" ry=\"11\" style=\"stroke: #A80036; stroke-width: 1.0;\"/><path d=\"M59.9063,369.375 L59.9063,373.0469 L61.5313,373.0469 Q62.7031,373.0469 63.1719,372.6563 Q63.6406,372.25 63.6406,371.25 Q63.6406,370.25 63.1406,369.8125 Q62.6563,369.375 61.5313,369.375 L59.9063,369.375 Z M59.9063,364.5469 L59.9063,367.4219 L61.5313,367.4219 Q62.4531,367.4219 62.8438,367.0938 Q63.25,366.75 63.25,366 Q63.25,365.2344 62.8438,364.8906 Q62.4375,364.5469 61.5313,364.5469 L59.9063,364.5469 Z M57.5313,362.5938 L61.5313,362.5938 Q63.5938,362.5938 64.6406,363.375 Q65.6875,364.1563 65.6875,365.7188 Q65.6875,366.9219 65.0625,367.5938 Q64.4531,368.2656 63.2656,368.375 Q64.6875,368.5156 65.4063,369.3281 Q66.125,370.1406 66.125,371.5938 Q66.125,373.3906 65.0469,374.2031 Q63.9688,375 61.5313,375 L57.5313,375 L57.5313,362.5938 Z \"/><text fill=\"#000000\" font-family=\"sans-serif\" font-size=\"12\" lengthAdjust=\"spacingAndGlyphs\" textLength=\"8\" x=\"75\" y=\"373.1543\">A</text><line style=\"stroke: #A80036; stroke-width: 1.5;\" x1=\"47\" x2=\"85\" y1=\"385\" y2=\"385\"/></a><!--MD5=[60a26617385b1d2d0262a64233df1f8d]\n",
       "class E6--><a href=\"psysml:31dec55f-8acf-4d42-bd51-f4047894820c\" target=\"_top\" title=\"psysml:31dec55f-8acf-4d42-bd51-f4047894820c\" xlink:actuate=\"onRequest\" xlink:href=\"psysml:31dec55f-8acf-4d42-bd51-f4047894820c\" xlink:show=\"new\" xlink:title=\"psysml:31dec55f-8acf-4d42-bd51-f4047894820c\" xlink:type=\"simple\"><rect fill=\"#FEFECE\" filter=\"url(#f1bjt7m172rsd9)\" height=\"45.9375\" id=\"E6\" rx=\"10\" ry=\"10\" style=\"stroke: #A80036; stroke-width: 1.5;\" width=\"68\" x=\"32\" y=\"453\"/><ellipse cx=\"47\" cy=\"471.9688\" fill=\"#32CD32\" rx=\"11\" ry=\"11\" style=\"stroke: #A80036; stroke-width: 1.0;\"/><path d=\"M46.7969,467.6406 L46.7969,471.2656 L47.7969,471.2656 Q49,471.2656 49.4844,470.8594 Q49.9688,470.4531 49.9688,469.4531 Q49.9688,468.4531 49.4844,468.0469 Q49,467.6406 47.7969,467.6406 L46.7969,467.6406 Z M44.3438,465.5781 L47.7031,465.5781 Q50.2656,465.5781 51.3906,466.5 Q52.5156,467.4063 52.5156,469.4531 Q52.5156,471.5 51.3906,472.4219 Q50.2656,473.3281 47.7031,473.3281 L46.7969,473.3281 L46.7969,477.9688 L44.3438,477.9688 L44.3438,465.5781 Z \"/><text fill=\"#000000\" font-family=\"sans-serif\" font-size=\"12\" font-style=\"italic\" lengthAdjust=\"spacingAndGlyphs\" textLength=\"40\" x=\"59\" y=\"469.1387\">«part»</text><text fill=\"#000000\" font-family=\"sans-serif\" font-size=\"12\" lengthAdjust=\"spacingAndGlyphs\" textLength=\"8\" x=\"75\" y=\"483.1074\">g</text><line style=\"stroke: #A80036; stroke-width: 1.5;\" x1=\"33\" x2=\"99\" y1=\"490.9375\" y2=\"490.9375\"/></a><!--MD5=[2156ba9850f5573cc1fc38a6a4b2f02b]\n",
       "class E7--><a href=\"psysml:e57a8ff4-b454-49af-9671-50f81189572a\" target=\"_top\" title=\"psysml:e57a8ff4-b454-49af-9671-50f81189572a\" xlink:actuate=\"onRequest\" xlink:href=\"psysml:e57a8ff4-b454-49af-9671-50f81189572a\" xlink:show=\"new\" xlink:title=\"psysml:e57a8ff4-b454-49af-9671-50f81189572a\" xlink:type=\"simple\"><rect fill=\"#FEFECE\" filter=\"url(#f1bjt7m172rsd9)\" height=\"40\" id=\"E7\" style=\"stroke: #A80036; stroke-width: 1.5;\" width=\"40\" x=\"97\" y=\"147\"/><ellipse cx=\"112\" cy=\"163\" fill=\"#008000\" rx=\"11\" ry=\"11\" style=\"stroke: #A80036; stroke-width: 1.0;\"/><path d=\"M110.9063,163.375 L110.9063,167.0469 L112.5313,167.0469 Q113.7031,167.0469 114.1719,166.6563 Q114.6406,166.25 114.6406,165.25 Q114.6406,164.25 114.1406,163.8125 Q113.6563,163.375 112.5313,163.375 L110.9063,163.375 Z M110.9063,158.5469 L110.9063,161.4219 L112.5313,161.4219 Q113.4531,161.4219 113.8438,161.0938 Q114.25,160.75 114.25,160 Q114.25,159.2344 113.8438,158.8906 Q113.4375,158.5469 112.5313,158.5469 L110.9063,158.5469 Z M108.5313,156.5938 L112.5313,156.5938 Q114.5938,156.5938 115.6406,157.375 Q116.6875,158.1563 116.6875,159.7188 Q116.6875,160.9219 116.0625,161.5938 Q115.4531,162.2656 114.2656,162.375 Q115.6875,162.5156 116.4063,163.3281 Q117.125,164.1406 117.125,165.5938 Q117.125,167.3906 116.0469,168.2031 Q114.9688,169 112.5313,169 L108.5313,169 L108.5313,156.5938 Z \"/><text fill=\"#000000\" font-family=\"sans-serif\" font-size=\"12\" lengthAdjust=\"spacingAndGlyphs\" textLength=\"8\" x=\"126\" y=\"167.1543\">B</text><line style=\"stroke: #A80036; stroke-width: 1.5;\" x1=\"98\" x2=\"136\" y1=\"179\" y2=\"179\"/></a><!--MD5=[b9389687b975829384b498ac4b7476b2]\n",
       "class E8--><a href=\"psysml:ae9b8861-e9cc-45e7-97b3-375fd90ac7d9\" target=\"_top\" title=\"psysml:ae9b8861-e9cc-45e7-97b3-375fd90ac7d9\" xlink:actuate=\"onRequest\" xlink:href=\"psysml:ae9b8861-e9cc-45e7-97b3-375fd90ac7d9\" xlink:show=\"new\" xlink:title=\"psysml:ae9b8861-e9cc-45e7-97b3-375fd90ac7d9\" xlink:type=\"simple\"><rect fill=\"#FEFECE\" filter=\"url(#f1bjt7m172rsd9)\" height=\"45.9375\" id=\"E8\" rx=\"10\" ry=\"10\" style=\"stroke: #A80036; stroke-width: 1.5;\" width=\"68\" x=\"135\" y=\"247\"/><ellipse cx=\"150\" cy=\"265.9688\" fill=\"#32CD32\" rx=\"11\" ry=\"11\" style=\"stroke: #A80036; stroke-width: 1.0;\"/><path d=\"M149.7969,261.6406 L149.7969,265.2656 L150.7969,265.2656 Q152,265.2656 152.4844,264.8594 Q152.9688,264.4531 152.9688,263.4531 Q152.9688,262.4531 152.4844,262.0469 Q152,261.6406 150.7969,261.6406 L149.7969,261.6406 Z M147.3438,259.5781 L150.7031,259.5781 Q153.2656,259.5781 154.3906,260.5 Q155.5156,261.4063 155.5156,263.4531 Q155.5156,265.5 154.3906,266.4219 Q153.2656,267.3281 150.7031,267.3281 L149.7969,267.3281 L149.7969,271.9688 L147.3438,271.9688 L147.3438,259.5781 Z \"/><text fill=\"#000000\" font-family=\"sans-serif\" font-size=\"12\" font-style=\"italic\" lengthAdjust=\"spacingAndGlyphs\" textLength=\"40\" x=\"162\" y=\"263.1387\">«part»</text><text fill=\"#000000\" font-family=\"sans-serif\" font-size=\"12\" lengthAdjust=\"spacingAndGlyphs\" textLength=\"19\" x=\"172.5\" y=\"277.1074\">f: F</text><line style=\"stroke: #A80036; stroke-width: 1.5;\" x1=\"136\" x2=\"202\" y1=\"284.9375\" y2=\"284.9375\"/></a><!--MD5=[fd4143e9d270a159db93a4ea2a975926]\n",
       "class E9--><a href=\"psysml:d620b19b-a1e2-497d-8cad-3b2dc38fedc0\" target=\"_top\" title=\"psysml:d620b19b-a1e2-497d-8cad-3b2dc38fedc0\" xlink:actuate=\"onRequest\" xlink:href=\"psysml:d620b19b-a1e2-497d-8cad-3b2dc38fedc0\" xlink:show=\"new\" xlink:title=\"psysml:d620b19b-a1e2-497d-8cad-3b2dc38fedc0\" xlink:type=\"simple\"><rect fill=\"#FEFECE\" filter=\"url(#f1bjt7m172rsd9)\" height=\"45.9375\" id=\"E9\" rx=\"10\" ry=\"10\" style=\"stroke: #A80036; stroke-width: 1.5;\" width=\"68\" x=\"32\" y=\"247\"/><ellipse cx=\"47\" cy=\"265.9688\" fill=\"#32CD32\" rx=\"11\" ry=\"11\" style=\"stroke: #A80036; stroke-width: 1.0;\"/><path d=\"M46.7969,261.6406 L46.7969,265.2656 L47.7969,265.2656 Q49,265.2656 49.4844,264.8594 Q49.9688,264.4531 49.9688,263.4531 Q49.9688,262.4531 49.4844,262.0469 Q49,261.6406 47.7969,261.6406 L46.7969,261.6406 Z M44.3438,259.5781 L47.7031,259.5781 Q50.2656,259.5781 51.3906,260.5 Q52.5156,261.4063 52.5156,263.4531 Q52.5156,265.5 51.3906,266.4219 Q50.2656,267.3281 47.7031,267.3281 L46.7969,267.3281 L46.7969,271.9688 L44.3438,271.9688 L44.3438,259.5781 Z \"/><text fill=\"#000000\" font-family=\"sans-serif\" font-size=\"12\" font-style=\"italic\" lengthAdjust=\"spacingAndGlyphs\" textLength=\"40\" x=\"59\" y=\"263.1387\">«part»</text><text fill=\"#000000\" font-family=\"sans-serif\" font-size=\"12\" lengthAdjust=\"spacingAndGlyphs\" textLength=\"24\" x=\"67\" y=\"277.1074\">a: A</text><line style=\"stroke: #A80036; stroke-width: 1.5;\" x1=\"33\" x2=\"99\" y1=\"284.9375\" y2=\"284.9375\"/></a><!--MD5=[96f4274e9e20536e775497830990834d]\n",
       "class E10--><a href=\"psysml:f9a1a989-561d-4119-971e-8ebceafa94b4\" target=\"_top\" title=\"psysml:f9a1a989-561d-4119-971e-8ebceafa94b4\" xlink:actuate=\"onRequest\" xlink:href=\"psysml:f9a1a989-561d-4119-971e-8ebceafa94b4\" xlink:show=\"new\" xlink:title=\"psysml:f9a1a989-561d-4119-971e-8ebceafa94b4\" xlink:type=\"simple\"><rect fill=\"#FEFECE\" filter=\"url(#f1bjt7m172rsd9)\" height=\"45.9375\" id=\"E10\" rx=\"10\" ry=\"10\" style=\"stroke: #A80036; stroke-width: 1.5;\" width=\"68\" x=\"83\" y=\"41\"/><ellipse cx=\"98\" cy=\"59.9688\" fill=\"#32CD32\" rx=\"11\" ry=\"11\" style=\"stroke: #A80036; stroke-width: 1.0;\"/><path d=\"M97.7969,55.6406 L97.7969,59.2656 L98.7969,59.2656 Q100,59.2656 100.4844,58.8594 Q100.9688,58.4531 100.9688,57.4531 Q100.9688,56.4531 100.4844,56.0469 Q100,55.6406 98.7969,55.6406 L97.7969,55.6406 Z M95.3438,53.5781 L98.7031,53.5781 Q101.2656,53.5781 102.3906,54.5 Q103.5156,55.4063 103.5156,57.4531 Q103.5156,59.5 102.3906,60.4219 Q101.2656,61.3281 98.7031,61.3281 L97.7969,61.3281 L97.7969,65.9688 L95.3438,65.9688 L95.3438,53.5781 Z \"/><text fill=\"#000000\" font-family=\"sans-serif\" font-size=\"12\" font-style=\"italic\" lengthAdjust=\"spacingAndGlyphs\" textLength=\"40\" x=\"110\" y=\"57.1387\">«part»</text><text fill=\"#000000\" font-family=\"sans-serif\" font-size=\"12\" lengthAdjust=\"spacingAndGlyphs\" textLength=\"24\" x=\"118\" y=\"71.1074\">b: B</text><line style=\"stroke: #A80036; stroke-width: 1.5;\" x1=\"84\" x2=\"150\" y1=\"78.9375\" y2=\"78.9375\"/></a><!--MD5=[209b3feb70ccb6233bfe1053d122c12c]\n",
       "reverse link E2 to E3--><a href=\"psysml:5ee10b2b-55c1-4a08-a13b-bdb74e3f50e5\" target=\"_top\" title=\"psysml:5ee10b2b-55c1-4a08-a13b-bdb74e3f50e5\" xlink:actuate=\"onRequest\" xlink:href=\"psysml:5ee10b2b-55c1-4a08-a13b-bdb74e3f50e5\" xlink:show=\"new\" xlink:title=\"psysml:5ee10b2b-55c1-4a08-a13b-bdb74e3f50e5\" xlink:type=\"simple\"><path d=\"M220,406.47 C220,421.59 220,439.2 220,452.77 \" fill=\"none\" id=\"E2&lt;-E3\" style=\"stroke: #A80036; stroke-width: 1.0;\"/><polygon fill=\"#A80036\" points=\"220,393.47,216,399.47,220,405.47,224,399.47,220,393.47\" style=\"stroke: #A80036; stroke-width: 1.0;\"/></a><!--MD5=[185131fc0dcab0a4505a2ebe144e961b]\n",
       "link E4 to E2--><a href=\"psysml:c4c1c0e2-eca3-4dc3-a203-c30912c3ab2b\" target=\"_top\" title=\"psysml:c4c1c0e2-eca3-4dc3-a203-c30912c3ab2b\" xlink:actuate=\"onRequest\" xlink:href=\"psysml:c4c1c0e2-eca3-4dc3-a203-c30912c3ab2b\" xlink:show=\"new\" xlink:title=\"psysml:c4c1c0e2-eca3-4dc3-a203-c30912c3ab2b\" xlink:type=\"simple\"><path d=\"M260.46,293.42 C254.24,305.5 246.39,320.74 239.27,334.57 \" fill=\"none\" id=\"E4-&gt;E2\" style=\"stroke: #A80036; stroke-width: 1.0;\"/><polygon fill=\"#FFFFFF\" points=\"229.93,352.71,232.4037,332.6132,244.8508,339.0217,229.93,352.71\" style=\"stroke: #A80036; stroke-width: 1.0;\"/><ellipse cx=\"236.7911\" cy=\"328.461\" fill=\"#A80036\" rx=\"2\" ry=\"2\" style=\"stroke: #A80036; stroke-width: 1.0;\"/><ellipse cx=\"245.6819\" cy=\"333.0385\" fill=\"#A80036\" rx=\"2\" ry=\"2\" style=\"stroke: #A80036; stroke-width: 1.0;\"/></a><!--MD5=[85d356282659285ab4b2cfe2f634dd2b]\n",
       "reverse link E5 to E6--><a href=\"psysml:93463b7d-149f-4a15-b84b-177a9e530eda\" target=\"_top\" title=\"psysml:93463b7d-149f-4a15-b84b-177a9e530eda\" xlink:actuate=\"onRequest\" xlink:href=\"psysml:93463b7d-149f-4a15-b84b-177a9e530eda\" xlink:show=\"new\" xlink:title=\"psysml:93463b7d-149f-4a15-b84b-177a9e530eda\" xlink:type=\"simple\"><path d=\"M66,406.47 C66,421.59 66,439.2 66,452.77 \" fill=\"none\" id=\"E5&lt;-E6\" style=\"stroke: #A80036; stroke-width: 1.0;\"/><polygon fill=\"#A80036\" points=\"66,393.47,62,399.47,66,405.47,70,399.47,66,393.47\" style=\"stroke: #A80036; stroke-width: 1.0;\"/></a><!--MD5=[dc164f5e8a733ab456ef1add180e9e34]\n",
       "reverse link E7 to E8--><a href=\"psysml:de6f8f38-3125-456b-a954-15a696931b63\" target=\"_top\" title=\"psysml:de6f8f38-3125-456b-a954-15a696931b63\" xlink:actuate=\"onRequest\" xlink:href=\"psysml:de6f8f38-3125-456b-a954-15a696931b63\" xlink:show=\"new\" xlink:title=\"psysml:de6f8f38-3125-456b-a954-15a696931b63\" xlink:type=\"simple\"><path d=\"M133.01,199.09 C140.95,214.51 150.35,232.78 157.56,246.77 \" fill=\"none\" id=\"E7&lt;-E8\" style=\"stroke: #A80036; stroke-width: 1.0;\"/><polygon fill=\"#A80036\" points=\"127.03,187.47,126.2165,194.6351,132.5176,198.1418,133.331,190.9767,127.03,187.47\" style=\"stroke: #A80036; stroke-width: 1.0;\"/></a><!--MD5=[f1f3f9f2fc535e6147756cb86a7f2e32]\n",
       "link E8 to E2--><a href=\"psysml:536a95df-7241-4403-bcab-1aa9fe7a4b7d\" target=\"_top\" title=\"psysml:536a95df-7241-4403-bcab-1aa9fe7a4b7d\" xlink:actuate=\"onRequest\" xlink:href=\"psysml:536a95df-7241-4403-bcab-1aa9fe7a4b7d\" xlink:show=\"new\" xlink:title=\"psysml:536a95df-7241-4403-bcab-1aa9fe7a4b7d\" xlink:type=\"simple\"><path d=\"M180.32,293.42 C186.42,305.5 194.11,320.74 201.1,334.57 \" fill=\"none\" id=\"E8-&gt;E2\" style=\"stroke: #A80036; stroke-width: 1.0;\"/><polygon fill=\"#FFFFFF\" points=\"210.26,352.71,195.4445,338.9078,207.9403,332.5949,210.26,352.71\" style=\"stroke: #A80036; stroke-width: 1.0;\"/><ellipse cx=\"194.6593\" cy=\"332.9184\" fill=\"#A80036\" rx=\"2\" ry=\"2\" style=\"stroke: #A80036; stroke-width: 1.0;\"/><ellipse cx=\"203.5849\" cy=\"328.4091\" fill=\"#A80036\" rx=\"2\" ry=\"2\" style=\"stroke: #A80036; stroke-width: 1.0;\"/></a><!--MD5=[e4a10ef82d0e328e31cac39a31e58dda]\n",
       "reverse link E7 to E9--><a href=\"psysml:2c441a1b-e979-4985-bcd5-61f8c13172d0\" target=\"_top\" title=\"psysml:2c441a1b-e979-4985-bcd5-61f8c13172d0\" xlink:actuate=\"onRequest\" xlink:href=\"psysml:2c441a1b-e979-4985-bcd5-61f8c13172d0\" xlink:show=\"new\" xlink:title=\"psysml:2c441a1b-e979-4985-bcd5-61f8c13172d0\" xlink:type=\"simple\"><path d=\"M101.3,199.09 C93.51,214.51 84.29,232.78 77.22,246.77 \" fill=\"none\" id=\"E7&lt;-E9\" style=\"stroke: #A80036; stroke-width: 1.0;\"/><polygon fill=\"#A80036\" points=\"107.17,187.47,100.895,191.0231,101.7613,198.1819,108.0363,194.6289,107.17,187.47\" style=\"stroke: #A80036; stroke-width: 1.0;\"/></a><!--MD5=[bfc3ddf2e613be37104f658f09af896c]\n",
       "link E9 to E5--><a href=\"psysml:fc8a5d52-f7b0-45e1-9a4f-1e932b65f071\" target=\"_top\" title=\"psysml:fc8a5d52-f7b0-45e1-9a4f-1e932b65f071\" xlink:actuate=\"onRequest\" xlink:href=\"psysml:fc8a5d52-f7b0-45e1-9a4f-1e932b65f071\" xlink:show=\"new\" xlink:title=\"psysml:fc8a5d52-f7b0-45e1-9a4f-1e932b65f071\" xlink:type=\"simple\"><path d=\"M66,293.42 C66,304.95 66,319.34 66,332.65 \" fill=\"none\" id=\"E9-&gt;E5\" style=\"stroke: #A80036; stroke-width: 1.0;\"/><polygon fill=\"#FFFFFF\" points=\"66,352.71,59,333.71,73,333.71,66,352.71\" style=\"stroke: #A80036; stroke-width: 1.0;\"/><ellipse cx=\"61\" cy=\"328.01\" fill=\"#A80036\" rx=\"2\" ry=\"2\" style=\"stroke: #A80036; stroke-width: 1.0;\"/><ellipse cx=\"71\" cy=\"328.01\" fill=\"#A80036\" rx=\"2\" ry=\"2\" style=\"stroke: #A80036; stroke-width: 1.0;\"/></a><!--MD5=[a919e0967d6f3de553dc51b9865a1d6d]\n",
       "link E10 to E7--><a href=\"psysml:2e3833d6-0a03-41e5-9593-325ba84dff2e\" target=\"_top\" title=\"psysml:2e3833d6-0a03-41e5-9593-325ba84dff2e\" xlink:actuate=\"onRequest\" xlink:href=\"psysml:2e3833d6-0a03-41e5-9593-325ba84dff2e\" xlink:show=\"new\" xlink:title=\"psysml:2e3833d6-0a03-41e5-9593-325ba84dff2e\" xlink:type=\"simple\"><path d=\"M117,87.42 C117,98.95 117,113.34 117,126.65 \" fill=\"none\" id=\"E10-&gt;E7\" style=\"stroke: #A80036; stroke-width: 1.0;\"/><polygon fill=\"#FFFFFF\" points=\"117,146.71,110,127.71,124,127.71,117,146.71\" style=\"stroke: #A80036; stroke-width: 1.0;\"/><ellipse cx=\"112\" cy=\"122.01\" fill=\"#A80036\" rx=\"2\" ry=\"2\" style=\"stroke: #A80036; stroke-width: 1.0;\"/><ellipse cx=\"122\" cy=\"122.01\" fill=\"#A80036\" rx=\"2\" ry=\"2\" style=\"stroke: #A80036; stroke-width: 1.0;\"/></a><!--MD5=[dd0b2f0d21cda7a77e904ff107991f1f]\n",
       "@startuml\r\n",
       " \r\n",
       "package \"Q\" as E1  [[psysml:427a19be-4ba6-433c-b392-6823bf74d458 ]]  {\r\n",
       "comp def \"F\" as E2 << << (B,green) >> [[psysml:027effde-34e9-4491-ba0c-9f82cacaad23 ]] {\r\n",
       "}\r\n",
       "comp usage \"a\" as E3 << << (P,limegreen) part>> [[psysml:241a9b2a-e9cc-4b19-964a-2424b61c0639 ]] {\r\n",
       "}\r\n",
       "comp usage \"f: F\" as E4 << << (P,limegreen) part>> [[psysml:40835df5-3f1f-4886-9446-1465d21ad736 ]] {\r\n",
       "}\r\n",
       "comp def \"A\" as E5 << << (B,green) >> [[psysml:299c2c32-5ec1-43b2-a066-b7748b01150c ]] {\r\n",
       "}\r\n",
       "comp usage \"g\" as E6 << << (P,limegreen) part>> [[psysml:31dec55f-8acf-4d42-bd51-f4047894820c ]] {\r\n",
       "}\r\n",
       "comp def \"B\" as E7 << << (B,green) >> [[psysml:e57a8ff4-b454-49af-9671-50f81189572a ]] {\r\n",
       "}\r\n",
       "comp usage \"f: F\" as E8 << << (P,limegreen) part>> [[psysml:ae9b8861-e9cc-45e7-97b3-375fd90ac7d9 ]] {\r\n",
       "}\r\n",
       "comp usage \"a: A\" as E9 << << (P,limegreen) part>> [[psysml:d620b19b-a1e2-497d-8cad-3b2dc38fedc0 ]] {\r\n",
       "}\r\n",
       "comp usage \"b: B\" as E10 << << (P,limegreen) part>> [[psysml:f9a1a989-561d-4119-971e-8ebceafa94b4 ]] {\r\n",
       "}\r\n",
       "E2 *- - E3 [[psysml:5ee10b2b-55c1-4a08-a13b-bdb74e3f50e5 ]] \r\n",
       "E4 - -:|> E2 [[psysml:c4c1c0e2-eca3-4dc3-a203-c30912c3ab2b ]] \r\n",
       "E5 *- - E6 [[psysml:93463b7d-149f-4a15-b84b-177a9e530eda ]] \r\n",
       "E7 *- - E8 [[psysml:de6f8f38-3125-456b-a954-15a696931b63 ]] \r\n",
       "E8 - -:|> E2 [[psysml:536a95df-7241-4403-bcab-1aa9fe7a4b7d ]] \r\n",
       "E7 *- - E9 [[psysml:2c441a1b-e979-4985-bcd5-61f8c13172d0 ]] \r\n",
       "E9 - -:|> E5 [[psysml:fc8a5d52-f7b0-45e1-9a4f-1e932b65f071 ]] \r\n",
       "E10 - -:|> E7 [[psysml:2e3833d6-0a03-41e5-9593-325ba84dff2e ]] \r\n",
       "}\r\n",
       "@enduml\r\n",
       "\n",
       "PlantUML version 1.2020.13(Sat Jun 13 12:26:38 UTC 2020)\n",
       "(EPL source distribution)\n",
       "Java Runtime: OpenJDK Runtime Environment\n",
       "JVM: OpenJDK 64-Bit Server VM\n",
       "Default Encoding: UTF-8\n",
       "Language: en\n",
       "Country: null\n",
       "--></g></svg>"
      ]
     },
     "execution_count": 35,
     "metadata": {},
     "output_type": "execute_result"
    }
   ],
   "source": [
    "%viz --style=\"PLANTUML\" --view=\"Sequence\" \"Q\""
   ]
  },
  {
   "cell_type": "code",
   "execution_count": 36,
   "id": "263f9699",
   "metadata": {
    "execution": {
     "iopub.execute_input": "2021-06-30T09:23:34.831743Z",
     "iopub.status.busy": "2021-06-30T09:23:34.829382Z",
     "iopub.status.idle": "2021-06-30T09:23:34.915779Z",
     "shell.execute_reply": "2021-06-30T09:23:34.914586Z"
    }
   },
   "outputs": [
    {
     "data": {
      "image/svg+xml": [
       "<?xml version=\"1.0\" encoding=\"UTF-8\" standalone=\"no\"?><svg xmlns=\"http://www.w3.org/2000/svg\" xmlns:xlink=\"http://www.w3.org/1999/xlink\" contentScriptType=\"application/ecmascript\" contentStyleType=\"text/css\" height=\"527px\" preserveAspectRatio=\"none\" style=\"width:344px;height:527px;\" version=\"1.1\" viewBox=\"0 0 344 527\" width=\"344px\" zoomAndPan=\"magnify\"><defs><filter height=\"300%\" id=\"f1bjt7m172rsd9\" width=\"300%\" x=\"-1\" y=\"-1\"><feGaussianBlur result=\"blurOut\" stdDeviation=\"2.0\"/><feColorMatrix in=\"blurOut\" result=\"blurOut2\" type=\"matrix\" values=\"0 0 0 0 0 0 0 0 0 0 0 0 0 0 0 0 0 0 .4 0\"/><feOffset dx=\"4.0\" dy=\"4.0\" in=\"blurOut2\" result=\"blurOut3\"/><feBlend in=\"SourceGraphic\" in2=\"blurOut3\" mode=\"normal\"/></filter></defs><g><!--MD5=[fbc87193dbaf4d95561dea2c320d4a47]\n",
       "cluster E1--><a href=\"psysml:427a19be-4ba6-433c-b392-6823bf74d458\" target=\"_top\" title=\"psysml:427a19be-4ba6-433c-b392-6823bf74d458\" xlink:actuate=\"onRequest\" xlink:href=\"psysml:427a19be-4ba6-433c-b392-6823bf74d458\" xlink:show=\"new\" xlink:title=\"psysml:427a19be-4ba6-433c-b392-6823bf74d458\" xlink:type=\"simple\"><polygon fill=\"#FFFFFF\" filter=\"url(#f1bjt7m172rsd9)\" points=\"16,6,34,6,41,28.2969,322,28.2969,322,515,16,515,16,6\" style=\"stroke: #000000; stroke-width: 1.5;\"/><line style=\"stroke: #000000; stroke-width: 1.5;\" x1=\"16\" x2=\"41\" y1=\"28.2969\" y2=\"28.2969\"/><text fill=\"#000000\" font-family=\"sans-serif\" font-size=\"14\" font-weight=\"bold\" lengthAdjust=\"spacingAndGlyphs\" textLength=\"12\" x=\"20\" y=\"20.9951\">Q</text></a><!--MD5=[b4997ac47864f28c2f74865a473b2911]\n",
       "class E2--><a href=\"psysml:027effde-34e9-4491-ba0c-9f82cacaad23\" target=\"_top\" title=\"psysml:027effde-34e9-4491-ba0c-9f82cacaad23\" xlink:actuate=\"onRequest\" xlink:href=\"psysml:027effde-34e9-4491-ba0c-9f82cacaad23\" xlink:show=\"new\" xlink:title=\"psysml:027effde-34e9-4491-ba0c-9f82cacaad23\" xlink:type=\"simple\"><rect fill=\"#FEFECE\" filter=\"url(#f1bjt7m172rsd9)\" height=\"40\" id=\"E2\" style=\"stroke: #A80036; stroke-width: 1.5;\" width=\"39\" x=\"200.5\" y=\"353\"/><ellipse cx=\"215.5\" cy=\"369\" fill=\"#008000\" rx=\"11\" ry=\"11\" style=\"stroke: #A80036; stroke-width: 1.0;\"/><path d=\"M214.4063,369.375 L214.4063,373.0469 L216.0313,373.0469 Q217.2031,373.0469 217.6719,372.6563 Q218.1406,372.25 218.1406,371.25 Q218.1406,370.25 217.6406,369.8125 Q217.1563,369.375 216.0313,369.375 L214.4063,369.375 Z M214.4063,364.5469 L214.4063,367.4219 L216.0313,367.4219 Q216.9531,367.4219 217.3438,367.0938 Q217.75,366.75 217.75,366 Q217.75,365.2344 217.3438,364.8906 Q216.9375,364.5469 216.0313,364.5469 L214.4063,364.5469 Z M212.0313,362.5938 L216.0313,362.5938 Q218.0938,362.5938 219.1406,363.375 Q220.1875,364.1563 220.1875,365.7188 Q220.1875,366.9219 219.5625,367.5938 Q218.9531,368.2656 217.7656,368.375 Q219.1875,368.5156 219.9063,369.3281 Q220.625,370.1406 220.625,371.5938 Q220.625,373.3906 219.5469,374.2031 Q218.4688,375 216.0313,375 L212.0313,375 L212.0313,362.5938 Z \"/><text fill=\"#000000\" font-family=\"sans-serif\" font-size=\"12\" lengthAdjust=\"spacingAndGlyphs\" textLength=\"7\" x=\"229.5\" y=\"373.1543\">F</text><line style=\"stroke: #A80036; stroke-width: 1.5;\" x1=\"201.5\" x2=\"238.5\" y1=\"385\" y2=\"385\"/></a><!--MD5=[09b614a08d8cba4a07c9adeb5e0fee81]\n",
       "class E3--><a href=\"psysml:241a9b2a-e9cc-4b19-964a-2424b61c0639\" target=\"_top\" title=\"psysml:241a9b2a-e9cc-4b19-964a-2424b61c0639\" xlink:actuate=\"onRequest\" xlink:href=\"psysml:241a9b2a-e9cc-4b19-964a-2424b61c0639\" xlink:show=\"new\" xlink:title=\"psysml:241a9b2a-e9cc-4b19-964a-2424b61c0639\" xlink:type=\"simple\"><rect fill=\"#FEFECE\" filter=\"url(#f1bjt7m172rsd9)\" height=\"45.9375\" id=\"E3\" rx=\"10\" ry=\"10\" style=\"stroke: #A80036; stroke-width: 1.5;\" width=\"68\" x=\"186\" y=\"453\"/><ellipse cx=\"201\" cy=\"471.9688\" fill=\"#32CD32\" rx=\"11\" ry=\"11\" style=\"stroke: #A80036; stroke-width: 1.0;\"/><path d=\"M200.7969,467.6406 L200.7969,471.2656 L201.7969,471.2656 Q203,471.2656 203.4844,470.8594 Q203.9688,470.4531 203.9688,469.4531 Q203.9688,468.4531 203.4844,468.0469 Q203,467.6406 201.7969,467.6406 L200.7969,467.6406 Z M198.3438,465.5781 L201.7031,465.5781 Q204.2656,465.5781 205.3906,466.5 Q206.5156,467.4063 206.5156,469.4531 Q206.5156,471.5 205.3906,472.4219 Q204.2656,473.3281 201.7031,473.3281 L200.7969,473.3281 L200.7969,477.9688 L198.3438,477.9688 L198.3438,465.5781 Z \"/><text fill=\"#000000\" font-family=\"sans-serif\" font-size=\"12\" font-style=\"italic\" lengthAdjust=\"spacingAndGlyphs\" textLength=\"40\" x=\"213\" y=\"469.1387\">«part»</text><text fill=\"#000000\" font-family=\"sans-serif\" font-size=\"12\" lengthAdjust=\"spacingAndGlyphs\" textLength=\"8\" x=\"229\" y=\"483.1074\">a</text><line style=\"stroke: #A80036; stroke-width: 1.5;\" x1=\"187\" x2=\"253\" y1=\"490.9375\" y2=\"490.9375\"/></a><!--MD5=[ebbe1d658d1005bcc118a6aa81145e00]\n",
       "class E4--><a href=\"psysml:40835df5-3f1f-4886-9446-1465d21ad736\" target=\"_top\" title=\"psysml:40835df5-3f1f-4886-9446-1465d21ad736\" xlink:actuate=\"onRequest\" xlink:href=\"psysml:40835df5-3f1f-4886-9446-1465d21ad736\" xlink:show=\"new\" xlink:title=\"psysml:40835df5-3f1f-4886-9446-1465d21ad736\" xlink:type=\"simple\"><rect fill=\"#FEFECE\" filter=\"url(#f1bjt7m172rsd9)\" height=\"45.9375\" id=\"E4\" rx=\"10\" ry=\"10\" style=\"stroke: #A80036; stroke-width: 1.5;\" width=\"68\" x=\"238\" y=\"247\"/><ellipse cx=\"253\" cy=\"265.9688\" fill=\"#32CD32\" rx=\"11\" ry=\"11\" style=\"stroke: #A80036; stroke-width: 1.0;\"/><path d=\"M252.7969,261.6406 L252.7969,265.2656 L253.7969,265.2656 Q255,265.2656 255.4844,264.8594 Q255.9688,264.4531 255.9688,263.4531 Q255.9688,262.4531 255.4844,262.0469 Q255,261.6406 253.7969,261.6406 L252.7969,261.6406 Z M250.3438,259.5781 L253.7031,259.5781 Q256.2656,259.5781 257.3906,260.5 Q258.5156,261.4063 258.5156,263.4531 Q258.5156,265.5 257.3906,266.4219 Q256.2656,267.3281 253.7031,267.3281 L252.7969,267.3281 L252.7969,271.9688 L250.3438,271.9688 L250.3438,259.5781 Z \"/><text fill=\"#000000\" font-family=\"sans-serif\" font-size=\"12\" font-style=\"italic\" lengthAdjust=\"spacingAndGlyphs\" textLength=\"40\" x=\"265\" y=\"263.1387\">«part»</text><text fill=\"#000000\" font-family=\"sans-serif\" font-size=\"12\" lengthAdjust=\"spacingAndGlyphs\" textLength=\"19\" x=\"275.5\" y=\"277.1074\">f: F</text><line style=\"stroke: #A80036; stroke-width: 1.5;\" x1=\"239\" x2=\"305\" y1=\"284.9375\" y2=\"284.9375\"/></a><!--MD5=[270fce915f116d4de14055a7c1d9a0f3]\n",
       "class E5--><a href=\"psysml:299c2c32-5ec1-43b2-a066-b7748b01150c\" target=\"_top\" title=\"psysml:299c2c32-5ec1-43b2-a066-b7748b01150c\" xlink:actuate=\"onRequest\" xlink:href=\"psysml:299c2c32-5ec1-43b2-a066-b7748b01150c\" xlink:show=\"new\" xlink:title=\"psysml:299c2c32-5ec1-43b2-a066-b7748b01150c\" xlink:type=\"simple\"><rect fill=\"#FEFECE\" filter=\"url(#f1bjt7m172rsd9)\" height=\"40\" id=\"E5\" style=\"stroke: #A80036; stroke-width: 1.5;\" width=\"40\" x=\"46\" y=\"353\"/><ellipse cx=\"61\" cy=\"369\" fill=\"#008000\" rx=\"11\" ry=\"11\" style=\"stroke: #A80036; stroke-width: 1.0;\"/><path d=\"M59.9063,369.375 L59.9063,373.0469 L61.5313,373.0469 Q62.7031,373.0469 63.1719,372.6563 Q63.6406,372.25 63.6406,371.25 Q63.6406,370.25 63.1406,369.8125 Q62.6563,369.375 61.5313,369.375 L59.9063,369.375 Z M59.9063,364.5469 L59.9063,367.4219 L61.5313,367.4219 Q62.4531,367.4219 62.8438,367.0938 Q63.25,366.75 63.25,366 Q63.25,365.2344 62.8438,364.8906 Q62.4375,364.5469 61.5313,364.5469 L59.9063,364.5469 Z M57.5313,362.5938 L61.5313,362.5938 Q63.5938,362.5938 64.6406,363.375 Q65.6875,364.1563 65.6875,365.7188 Q65.6875,366.9219 65.0625,367.5938 Q64.4531,368.2656 63.2656,368.375 Q64.6875,368.5156 65.4063,369.3281 Q66.125,370.1406 66.125,371.5938 Q66.125,373.3906 65.0469,374.2031 Q63.9688,375 61.5313,375 L57.5313,375 L57.5313,362.5938 Z \"/><text fill=\"#000000\" font-family=\"sans-serif\" font-size=\"12\" lengthAdjust=\"spacingAndGlyphs\" textLength=\"8\" x=\"75\" y=\"373.1543\">A</text><line style=\"stroke: #A80036; stroke-width: 1.5;\" x1=\"47\" x2=\"85\" y1=\"385\" y2=\"385\"/></a><!--MD5=[60a26617385b1d2d0262a64233df1f8d]\n",
       "class E6--><a href=\"psysml:31dec55f-8acf-4d42-bd51-f4047894820c\" target=\"_top\" title=\"psysml:31dec55f-8acf-4d42-bd51-f4047894820c\" xlink:actuate=\"onRequest\" xlink:href=\"psysml:31dec55f-8acf-4d42-bd51-f4047894820c\" xlink:show=\"new\" xlink:title=\"psysml:31dec55f-8acf-4d42-bd51-f4047894820c\" xlink:type=\"simple\"><rect fill=\"#FEFECE\" filter=\"url(#f1bjt7m172rsd9)\" height=\"45.9375\" id=\"E6\" rx=\"10\" ry=\"10\" style=\"stroke: #A80036; stroke-width: 1.5;\" width=\"68\" x=\"32\" y=\"453\"/><ellipse cx=\"47\" cy=\"471.9688\" fill=\"#32CD32\" rx=\"11\" ry=\"11\" style=\"stroke: #A80036; stroke-width: 1.0;\"/><path d=\"M46.7969,467.6406 L46.7969,471.2656 L47.7969,471.2656 Q49,471.2656 49.4844,470.8594 Q49.9688,470.4531 49.9688,469.4531 Q49.9688,468.4531 49.4844,468.0469 Q49,467.6406 47.7969,467.6406 L46.7969,467.6406 Z M44.3438,465.5781 L47.7031,465.5781 Q50.2656,465.5781 51.3906,466.5 Q52.5156,467.4063 52.5156,469.4531 Q52.5156,471.5 51.3906,472.4219 Q50.2656,473.3281 47.7031,473.3281 L46.7969,473.3281 L46.7969,477.9688 L44.3438,477.9688 L44.3438,465.5781 Z \"/><text fill=\"#000000\" font-family=\"sans-serif\" font-size=\"12\" font-style=\"italic\" lengthAdjust=\"spacingAndGlyphs\" textLength=\"40\" x=\"59\" y=\"469.1387\">«part»</text><text fill=\"#000000\" font-family=\"sans-serif\" font-size=\"12\" lengthAdjust=\"spacingAndGlyphs\" textLength=\"8\" x=\"75\" y=\"483.1074\">g</text><line style=\"stroke: #A80036; stroke-width: 1.5;\" x1=\"33\" x2=\"99\" y1=\"490.9375\" y2=\"490.9375\"/></a><!--MD5=[2156ba9850f5573cc1fc38a6a4b2f02b]\n",
       "class E7--><a href=\"psysml:e57a8ff4-b454-49af-9671-50f81189572a\" target=\"_top\" title=\"psysml:e57a8ff4-b454-49af-9671-50f81189572a\" xlink:actuate=\"onRequest\" xlink:href=\"psysml:e57a8ff4-b454-49af-9671-50f81189572a\" xlink:show=\"new\" xlink:title=\"psysml:e57a8ff4-b454-49af-9671-50f81189572a\" xlink:type=\"simple\"><rect fill=\"#FEFECE\" filter=\"url(#f1bjt7m172rsd9)\" height=\"40\" id=\"E7\" style=\"stroke: #A80036; stroke-width: 1.5;\" width=\"40\" x=\"97\" y=\"147\"/><ellipse cx=\"112\" cy=\"163\" fill=\"#008000\" rx=\"11\" ry=\"11\" style=\"stroke: #A80036; stroke-width: 1.0;\"/><path d=\"M110.9063,163.375 L110.9063,167.0469 L112.5313,167.0469 Q113.7031,167.0469 114.1719,166.6563 Q114.6406,166.25 114.6406,165.25 Q114.6406,164.25 114.1406,163.8125 Q113.6563,163.375 112.5313,163.375 L110.9063,163.375 Z M110.9063,158.5469 L110.9063,161.4219 L112.5313,161.4219 Q113.4531,161.4219 113.8438,161.0938 Q114.25,160.75 114.25,160 Q114.25,159.2344 113.8438,158.8906 Q113.4375,158.5469 112.5313,158.5469 L110.9063,158.5469 Z M108.5313,156.5938 L112.5313,156.5938 Q114.5938,156.5938 115.6406,157.375 Q116.6875,158.1563 116.6875,159.7188 Q116.6875,160.9219 116.0625,161.5938 Q115.4531,162.2656 114.2656,162.375 Q115.6875,162.5156 116.4063,163.3281 Q117.125,164.1406 117.125,165.5938 Q117.125,167.3906 116.0469,168.2031 Q114.9688,169 112.5313,169 L108.5313,169 L108.5313,156.5938 Z \"/><text fill=\"#000000\" font-family=\"sans-serif\" font-size=\"12\" lengthAdjust=\"spacingAndGlyphs\" textLength=\"8\" x=\"126\" y=\"167.1543\">B</text><line style=\"stroke: #A80036; stroke-width: 1.5;\" x1=\"98\" x2=\"136\" y1=\"179\" y2=\"179\"/></a><!--MD5=[b9389687b975829384b498ac4b7476b2]\n",
       "class E8--><a href=\"psysml:ae9b8861-e9cc-45e7-97b3-375fd90ac7d9\" target=\"_top\" title=\"psysml:ae9b8861-e9cc-45e7-97b3-375fd90ac7d9\" xlink:actuate=\"onRequest\" xlink:href=\"psysml:ae9b8861-e9cc-45e7-97b3-375fd90ac7d9\" xlink:show=\"new\" xlink:title=\"psysml:ae9b8861-e9cc-45e7-97b3-375fd90ac7d9\" xlink:type=\"simple\"><rect fill=\"#FEFECE\" filter=\"url(#f1bjt7m172rsd9)\" height=\"45.9375\" id=\"E8\" rx=\"10\" ry=\"10\" style=\"stroke: #A80036; stroke-width: 1.5;\" width=\"68\" x=\"135\" y=\"247\"/><ellipse cx=\"150\" cy=\"265.9688\" fill=\"#32CD32\" rx=\"11\" ry=\"11\" style=\"stroke: #A80036; stroke-width: 1.0;\"/><path d=\"M149.7969,261.6406 L149.7969,265.2656 L150.7969,265.2656 Q152,265.2656 152.4844,264.8594 Q152.9688,264.4531 152.9688,263.4531 Q152.9688,262.4531 152.4844,262.0469 Q152,261.6406 150.7969,261.6406 L149.7969,261.6406 Z M147.3438,259.5781 L150.7031,259.5781 Q153.2656,259.5781 154.3906,260.5 Q155.5156,261.4063 155.5156,263.4531 Q155.5156,265.5 154.3906,266.4219 Q153.2656,267.3281 150.7031,267.3281 L149.7969,267.3281 L149.7969,271.9688 L147.3438,271.9688 L147.3438,259.5781 Z \"/><text fill=\"#000000\" font-family=\"sans-serif\" font-size=\"12\" font-style=\"italic\" lengthAdjust=\"spacingAndGlyphs\" textLength=\"40\" x=\"162\" y=\"263.1387\">«part»</text><text fill=\"#000000\" font-family=\"sans-serif\" font-size=\"12\" lengthAdjust=\"spacingAndGlyphs\" textLength=\"19\" x=\"172.5\" y=\"277.1074\">f: F</text><line style=\"stroke: #A80036; stroke-width: 1.5;\" x1=\"136\" x2=\"202\" y1=\"284.9375\" y2=\"284.9375\"/></a><!--MD5=[fd4143e9d270a159db93a4ea2a975926]\n",
       "class E9--><a href=\"psysml:d620b19b-a1e2-497d-8cad-3b2dc38fedc0\" target=\"_top\" title=\"psysml:d620b19b-a1e2-497d-8cad-3b2dc38fedc0\" xlink:actuate=\"onRequest\" xlink:href=\"psysml:d620b19b-a1e2-497d-8cad-3b2dc38fedc0\" xlink:show=\"new\" xlink:title=\"psysml:d620b19b-a1e2-497d-8cad-3b2dc38fedc0\" xlink:type=\"simple\"><rect fill=\"#FEFECE\" filter=\"url(#f1bjt7m172rsd9)\" height=\"45.9375\" id=\"E9\" rx=\"10\" ry=\"10\" style=\"stroke: #A80036; stroke-width: 1.5;\" width=\"68\" x=\"32\" y=\"247\"/><ellipse cx=\"47\" cy=\"265.9688\" fill=\"#32CD32\" rx=\"11\" ry=\"11\" style=\"stroke: #A80036; stroke-width: 1.0;\"/><path d=\"M46.7969,261.6406 L46.7969,265.2656 L47.7969,265.2656 Q49,265.2656 49.4844,264.8594 Q49.9688,264.4531 49.9688,263.4531 Q49.9688,262.4531 49.4844,262.0469 Q49,261.6406 47.7969,261.6406 L46.7969,261.6406 Z M44.3438,259.5781 L47.7031,259.5781 Q50.2656,259.5781 51.3906,260.5 Q52.5156,261.4063 52.5156,263.4531 Q52.5156,265.5 51.3906,266.4219 Q50.2656,267.3281 47.7031,267.3281 L46.7969,267.3281 L46.7969,271.9688 L44.3438,271.9688 L44.3438,259.5781 Z \"/><text fill=\"#000000\" font-family=\"sans-serif\" font-size=\"12\" font-style=\"italic\" lengthAdjust=\"spacingAndGlyphs\" textLength=\"40\" x=\"59\" y=\"263.1387\">«part»</text><text fill=\"#000000\" font-family=\"sans-serif\" font-size=\"12\" lengthAdjust=\"spacingAndGlyphs\" textLength=\"24\" x=\"67\" y=\"277.1074\">a: A</text><line style=\"stroke: #A80036; stroke-width: 1.5;\" x1=\"33\" x2=\"99\" y1=\"284.9375\" y2=\"284.9375\"/></a><!--MD5=[96f4274e9e20536e775497830990834d]\n",
       "class E10--><a href=\"psysml:f9a1a989-561d-4119-971e-8ebceafa94b4\" target=\"_top\" title=\"psysml:f9a1a989-561d-4119-971e-8ebceafa94b4\" xlink:actuate=\"onRequest\" xlink:href=\"psysml:f9a1a989-561d-4119-971e-8ebceafa94b4\" xlink:show=\"new\" xlink:title=\"psysml:f9a1a989-561d-4119-971e-8ebceafa94b4\" xlink:type=\"simple\"><rect fill=\"#FEFECE\" filter=\"url(#f1bjt7m172rsd9)\" height=\"45.9375\" id=\"E10\" rx=\"10\" ry=\"10\" style=\"stroke: #A80036; stroke-width: 1.5;\" width=\"68\" x=\"83\" y=\"41\"/><ellipse cx=\"98\" cy=\"59.9688\" fill=\"#32CD32\" rx=\"11\" ry=\"11\" style=\"stroke: #A80036; stroke-width: 1.0;\"/><path d=\"M97.7969,55.6406 L97.7969,59.2656 L98.7969,59.2656 Q100,59.2656 100.4844,58.8594 Q100.9688,58.4531 100.9688,57.4531 Q100.9688,56.4531 100.4844,56.0469 Q100,55.6406 98.7969,55.6406 L97.7969,55.6406 Z M95.3438,53.5781 L98.7031,53.5781 Q101.2656,53.5781 102.3906,54.5 Q103.5156,55.4063 103.5156,57.4531 Q103.5156,59.5 102.3906,60.4219 Q101.2656,61.3281 98.7031,61.3281 L97.7969,61.3281 L97.7969,65.9688 L95.3438,65.9688 L95.3438,53.5781 Z \"/><text fill=\"#000000\" font-family=\"sans-serif\" font-size=\"12\" font-style=\"italic\" lengthAdjust=\"spacingAndGlyphs\" textLength=\"40\" x=\"110\" y=\"57.1387\">«part»</text><text fill=\"#000000\" font-family=\"sans-serif\" font-size=\"12\" lengthAdjust=\"spacingAndGlyphs\" textLength=\"24\" x=\"118\" y=\"71.1074\">b: B</text><line style=\"stroke: #A80036; stroke-width: 1.5;\" x1=\"84\" x2=\"150\" y1=\"78.9375\" y2=\"78.9375\"/></a><!--MD5=[209b3feb70ccb6233bfe1053d122c12c]\n",
       "reverse link E2 to E3--><a href=\"psysml:5ee10b2b-55c1-4a08-a13b-bdb74e3f50e5\" target=\"_top\" title=\"psysml:5ee10b2b-55c1-4a08-a13b-bdb74e3f50e5\" xlink:actuate=\"onRequest\" xlink:href=\"psysml:5ee10b2b-55c1-4a08-a13b-bdb74e3f50e5\" xlink:show=\"new\" xlink:title=\"psysml:5ee10b2b-55c1-4a08-a13b-bdb74e3f50e5\" xlink:type=\"simple\"><path d=\"M220,406.47 C220,421.59 220,439.2 220,452.77 \" fill=\"none\" id=\"E2&lt;-E3\" style=\"stroke: #A80036; stroke-width: 1.0;\"/><polygon fill=\"#A80036\" points=\"220,393.47,216,399.47,220,405.47,224,399.47,220,393.47\" style=\"stroke: #A80036; stroke-width: 1.0;\"/></a><!--MD5=[185131fc0dcab0a4505a2ebe144e961b]\n",
       "link E4 to E2--><a href=\"psysml:c4c1c0e2-eca3-4dc3-a203-c30912c3ab2b\" target=\"_top\" title=\"psysml:c4c1c0e2-eca3-4dc3-a203-c30912c3ab2b\" xlink:actuate=\"onRequest\" xlink:href=\"psysml:c4c1c0e2-eca3-4dc3-a203-c30912c3ab2b\" xlink:show=\"new\" xlink:title=\"psysml:c4c1c0e2-eca3-4dc3-a203-c30912c3ab2b\" xlink:type=\"simple\"><path d=\"M260.46,293.42 C254.24,305.5 246.39,320.74 239.27,334.57 \" fill=\"none\" id=\"E4-&gt;E2\" style=\"stroke: #A80036; stroke-width: 1.0;\"/><polygon fill=\"#FFFFFF\" points=\"229.93,352.71,232.4037,332.6132,244.8508,339.0217,229.93,352.71\" style=\"stroke: #A80036; stroke-width: 1.0;\"/><ellipse cx=\"236.7911\" cy=\"328.461\" fill=\"#A80036\" rx=\"2\" ry=\"2\" style=\"stroke: #A80036; stroke-width: 1.0;\"/><ellipse cx=\"245.6819\" cy=\"333.0385\" fill=\"#A80036\" rx=\"2\" ry=\"2\" style=\"stroke: #A80036; stroke-width: 1.0;\"/></a><!--MD5=[85d356282659285ab4b2cfe2f634dd2b]\n",
       "reverse link E5 to E6--><a href=\"psysml:93463b7d-149f-4a15-b84b-177a9e530eda\" target=\"_top\" title=\"psysml:93463b7d-149f-4a15-b84b-177a9e530eda\" xlink:actuate=\"onRequest\" xlink:href=\"psysml:93463b7d-149f-4a15-b84b-177a9e530eda\" xlink:show=\"new\" xlink:title=\"psysml:93463b7d-149f-4a15-b84b-177a9e530eda\" xlink:type=\"simple\"><path d=\"M66,406.47 C66,421.59 66,439.2 66,452.77 \" fill=\"none\" id=\"E5&lt;-E6\" style=\"stroke: #A80036; stroke-width: 1.0;\"/><polygon fill=\"#A80036\" points=\"66,393.47,62,399.47,66,405.47,70,399.47,66,393.47\" style=\"stroke: #A80036; stroke-width: 1.0;\"/></a><!--MD5=[dc164f5e8a733ab456ef1add180e9e34]\n",
       "reverse link E7 to E8--><a href=\"psysml:de6f8f38-3125-456b-a954-15a696931b63\" target=\"_top\" title=\"psysml:de6f8f38-3125-456b-a954-15a696931b63\" xlink:actuate=\"onRequest\" xlink:href=\"psysml:de6f8f38-3125-456b-a954-15a696931b63\" xlink:show=\"new\" xlink:title=\"psysml:de6f8f38-3125-456b-a954-15a696931b63\" xlink:type=\"simple\"><path d=\"M133.01,199.09 C140.95,214.51 150.35,232.78 157.56,246.77 \" fill=\"none\" id=\"E7&lt;-E8\" style=\"stroke: #A80036; stroke-width: 1.0;\"/><polygon fill=\"#A80036\" points=\"127.03,187.47,126.2165,194.6351,132.5176,198.1418,133.331,190.9767,127.03,187.47\" style=\"stroke: #A80036; stroke-width: 1.0;\"/></a><!--MD5=[f1f3f9f2fc535e6147756cb86a7f2e32]\n",
       "link E8 to E2--><a href=\"psysml:536a95df-7241-4403-bcab-1aa9fe7a4b7d\" target=\"_top\" title=\"psysml:536a95df-7241-4403-bcab-1aa9fe7a4b7d\" xlink:actuate=\"onRequest\" xlink:href=\"psysml:536a95df-7241-4403-bcab-1aa9fe7a4b7d\" xlink:show=\"new\" xlink:title=\"psysml:536a95df-7241-4403-bcab-1aa9fe7a4b7d\" xlink:type=\"simple\"><path d=\"M180.32,293.42 C186.42,305.5 194.11,320.74 201.1,334.57 \" fill=\"none\" id=\"E8-&gt;E2\" style=\"stroke: #A80036; stroke-width: 1.0;\"/><polygon fill=\"#FFFFFF\" points=\"210.26,352.71,195.4445,338.9078,207.9403,332.5949,210.26,352.71\" style=\"stroke: #A80036; stroke-width: 1.0;\"/><ellipse cx=\"194.6593\" cy=\"332.9184\" fill=\"#A80036\" rx=\"2\" ry=\"2\" style=\"stroke: #A80036; stroke-width: 1.0;\"/><ellipse cx=\"203.5849\" cy=\"328.4091\" fill=\"#A80036\" rx=\"2\" ry=\"2\" style=\"stroke: #A80036; stroke-width: 1.0;\"/></a><!--MD5=[e4a10ef82d0e328e31cac39a31e58dda]\n",
       "reverse link E7 to E9--><a href=\"psysml:2c441a1b-e979-4985-bcd5-61f8c13172d0\" target=\"_top\" title=\"psysml:2c441a1b-e979-4985-bcd5-61f8c13172d0\" xlink:actuate=\"onRequest\" xlink:href=\"psysml:2c441a1b-e979-4985-bcd5-61f8c13172d0\" xlink:show=\"new\" xlink:title=\"psysml:2c441a1b-e979-4985-bcd5-61f8c13172d0\" xlink:type=\"simple\"><path d=\"M101.3,199.09 C93.51,214.51 84.29,232.78 77.22,246.77 \" fill=\"none\" id=\"E7&lt;-E9\" style=\"stroke: #A80036; stroke-width: 1.0;\"/><polygon fill=\"#A80036\" points=\"107.17,187.47,100.895,191.0231,101.7613,198.1819,108.0363,194.6289,107.17,187.47\" style=\"stroke: #A80036; stroke-width: 1.0;\"/></a><!--MD5=[bfc3ddf2e613be37104f658f09af896c]\n",
       "link E9 to E5--><a href=\"psysml:fc8a5d52-f7b0-45e1-9a4f-1e932b65f071\" target=\"_top\" title=\"psysml:fc8a5d52-f7b0-45e1-9a4f-1e932b65f071\" xlink:actuate=\"onRequest\" xlink:href=\"psysml:fc8a5d52-f7b0-45e1-9a4f-1e932b65f071\" xlink:show=\"new\" xlink:title=\"psysml:fc8a5d52-f7b0-45e1-9a4f-1e932b65f071\" xlink:type=\"simple\"><path d=\"M66,293.42 C66,304.95 66,319.34 66,332.65 \" fill=\"none\" id=\"E9-&gt;E5\" style=\"stroke: #A80036; stroke-width: 1.0;\"/><polygon fill=\"#FFFFFF\" points=\"66,352.71,59,333.71,73,333.71,66,352.71\" style=\"stroke: #A80036; stroke-width: 1.0;\"/><ellipse cx=\"61\" cy=\"328.01\" fill=\"#A80036\" rx=\"2\" ry=\"2\" style=\"stroke: #A80036; stroke-width: 1.0;\"/><ellipse cx=\"71\" cy=\"328.01\" fill=\"#A80036\" rx=\"2\" ry=\"2\" style=\"stroke: #A80036; stroke-width: 1.0;\"/></a><!--MD5=[a919e0967d6f3de553dc51b9865a1d6d]\n",
       "link E10 to E7--><a href=\"psysml:2e3833d6-0a03-41e5-9593-325ba84dff2e\" target=\"_top\" title=\"psysml:2e3833d6-0a03-41e5-9593-325ba84dff2e\" xlink:actuate=\"onRequest\" xlink:href=\"psysml:2e3833d6-0a03-41e5-9593-325ba84dff2e\" xlink:show=\"new\" xlink:title=\"psysml:2e3833d6-0a03-41e5-9593-325ba84dff2e\" xlink:type=\"simple\"><path d=\"M117,87.42 C117,98.95 117,113.34 117,126.65 \" fill=\"none\" id=\"E10-&gt;E7\" style=\"stroke: #A80036; stroke-width: 1.0;\"/><polygon fill=\"#FFFFFF\" points=\"117,146.71,110,127.71,124,127.71,117,146.71\" style=\"stroke: #A80036; stroke-width: 1.0;\"/><ellipse cx=\"112\" cy=\"122.01\" fill=\"#A80036\" rx=\"2\" ry=\"2\" style=\"stroke: #A80036; stroke-width: 1.0;\"/><ellipse cx=\"122\" cy=\"122.01\" fill=\"#A80036\" rx=\"2\" ry=\"2\" style=\"stroke: #A80036; stroke-width: 1.0;\"/></a><!--MD5=[dd0b2f0d21cda7a77e904ff107991f1f]\n",
       "@startuml\r\n",
       " \r\n",
       "package \"Q\" as E1  [[psysml:427a19be-4ba6-433c-b392-6823bf74d458 ]]  {\r\n",
       "comp def \"F\" as E2 << << (B,green) >> [[psysml:027effde-34e9-4491-ba0c-9f82cacaad23 ]] {\r\n",
       "}\r\n",
       "comp usage \"a\" as E3 << << (P,limegreen) part>> [[psysml:241a9b2a-e9cc-4b19-964a-2424b61c0639 ]] {\r\n",
       "}\r\n",
       "comp usage \"f: F\" as E4 << << (P,limegreen) part>> [[psysml:40835df5-3f1f-4886-9446-1465d21ad736 ]] {\r\n",
       "}\r\n",
       "comp def \"A\" as E5 << << (B,green) >> [[psysml:299c2c32-5ec1-43b2-a066-b7748b01150c ]] {\r\n",
       "}\r\n",
       "comp usage \"g\" as E6 << << (P,limegreen) part>> [[psysml:31dec55f-8acf-4d42-bd51-f4047894820c ]] {\r\n",
       "}\r\n",
       "comp def \"B\" as E7 << << (B,green) >> [[psysml:e57a8ff4-b454-49af-9671-50f81189572a ]] {\r\n",
       "}\r\n",
       "comp usage \"f: F\" as E8 << << (P,limegreen) part>> [[psysml:ae9b8861-e9cc-45e7-97b3-375fd90ac7d9 ]] {\r\n",
       "}\r\n",
       "comp usage \"a: A\" as E9 << << (P,limegreen) part>> [[psysml:d620b19b-a1e2-497d-8cad-3b2dc38fedc0 ]] {\r\n",
       "}\r\n",
       "comp usage \"b: B\" as E10 << << (P,limegreen) part>> [[psysml:f9a1a989-561d-4119-971e-8ebceafa94b4 ]] {\r\n",
       "}\r\n",
       "E2 *- - E3 [[psysml:5ee10b2b-55c1-4a08-a13b-bdb74e3f50e5 ]] \r\n",
       "E4 - -:|> E2 [[psysml:c4c1c0e2-eca3-4dc3-a203-c30912c3ab2b ]] \r\n",
       "E5 *- - E6 [[psysml:93463b7d-149f-4a15-b84b-177a9e530eda ]] \r\n",
       "E7 *- - E8 [[psysml:de6f8f38-3125-456b-a954-15a696931b63 ]] \r\n",
       "E8 - -:|> E2 [[psysml:536a95df-7241-4403-bcab-1aa9fe7a4b7d ]] \r\n",
       "E7 *- - E9 [[psysml:2c441a1b-e979-4985-bcd5-61f8c13172d0 ]] \r\n",
       "E9 - -:|> E5 [[psysml:fc8a5d52-f7b0-45e1-9a4f-1e932b65f071 ]] \r\n",
       "E10 - -:|> E7 [[psysml:2e3833d6-0a03-41e5-9593-325ba84dff2e ]] \r\n",
       "}\r\n",
       "@enduml\r\n",
       "\n",
       "PlantUML version 1.2020.13(Sat Jun 13 12:26:38 UTC 2020)\n",
       "(EPL source distribution)\n",
       "Java Runtime: OpenJDK Runtime Environment\n",
       "JVM: OpenJDK 64-Bit Server VM\n",
       "Default Encoding: UTF-8\n",
       "Language: en\n",
       "Country: null\n",
       "--></g></svg>"
      ]
     },
     "execution_count": 36,
     "metadata": {},
     "output_type": "execute_result"
    }
   ],
   "source": [
    "%viz --style=\"PLANTUML\" --view=\"MIXED\" \"Q\""
   ]
  },
  {
   "cell_type": "code",
   "execution_count": 37,
   "id": "76d08768",
   "metadata": {
    "execution": {
     "iopub.execute_input": "2021-06-30T09:23:34.965178Z",
     "iopub.status.busy": "2021-06-30T09:23:34.964306Z",
     "iopub.status.idle": "2021-06-30T09:23:35.036849Z",
     "shell.execute_reply": "2021-06-30T09:23:35.037363Z"
    }
   },
   "outputs": [
    {
     "data": {
      "image/svg+xml": [
       "<?xml version=\"1.0\" encoding=\"UTF-8\" standalone=\"no\"?><svg xmlns=\"http://www.w3.org/2000/svg\" xmlns:xlink=\"http://www.w3.org/1999/xlink\" contentScriptType=\"application/ecmascript\" contentStyleType=\"text/css\" height=\"539px\" preserveAspectRatio=\"none\" style=\"width:266px;height:539px;\" version=\"1.1\" viewBox=\"0 0 266 539\" width=\"266px\" zoomAndPan=\"magnify\"><defs/><g><!--MD5=[fbc87193dbaf4d95561dea2c320d4a47]\n",
       "cluster E1--><a href=\"psysml:427a19be-4ba6-433c-b392-6823bf74d458\" target=\"_top\" title=\"psysml:427a19be-4ba6-433c-b392-6823bf74d458\" xlink:actuate=\"onRequest\" xlink:href=\"psysml:427a19be-4ba6-433c-b392-6823bf74d458\" xlink:show=\"new\" xlink:title=\"psysml:427a19be-4ba6-433c-b392-6823bf74d458\" xlink:type=\"simple\"><polygon fill=\"#FFFFFF\" points=\"16,6,34,6,41,28.2969,244,28.2969,244,527,16,527,16,6\" style=\"stroke: #000000; stroke-width: 1.5;\"/><line style=\"stroke: #000000; stroke-width: 1.5;\" x1=\"16\" x2=\"41\" y1=\"28.2969\" y2=\"28.2969\"/><text fill=\"#000000\" font-family=\"sans-serif\" font-size=\"14\" font-weight=\"bold\" lengthAdjust=\"spacingAndGlyphs\" textLength=\"12\" x=\"20\" y=\"20.9951\">Q</text></a><!--MD5=[b4997ac47864f28c2f74865a473b2911]\n",
       "class E2--><a href=\"psysml:027effde-34e9-4491-ba0c-9f82cacaad23\" target=\"_top\" title=\"psysml:027effde-34e9-4491-ba0c-9f82cacaad23\" xlink:actuate=\"onRequest\" xlink:href=\"psysml:027effde-34e9-4491-ba0c-9f82cacaad23\" xlink:show=\"new\" xlink:title=\"psysml:027effde-34e9-4491-ba0c-9f82cacaad23\" xlink:type=\"simple\"><rect fill=\"#FFFFFF\" height=\"45.9375\" id=\"E2\" style=\"stroke: #383838; stroke-width: 1.5;\" width=\"66\" x=\"147\" y=\"359\"/><text fill=\"#000000\" font-family=\"sans-serif\" font-size=\"12\" font-style=\"italic\" lengthAdjust=\"spacingAndGlyphs\" textLength=\"64\" x=\"148\" y=\"375.1387\">«part def»</text><text fill=\"#000000\" font-family=\"sans-serif\" font-size=\"12\" lengthAdjust=\"spacingAndGlyphs\" textLength=\"7\" x=\"176.5\" y=\"389.1074\">F</text><line style=\"stroke: #383838; stroke-width: 1.5;\" x1=\"148\" x2=\"212\" y1=\"396.9375\" y2=\"396.9375\"/></a><!--MD5=[09b614a08d8cba4a07c9adeb5e0fee81]\n",
       "class E3--><a href=\"psysml:241a9b2a-e9cc-4b19-964a-2424b61c0639\" target=\"_top\" title=\"psysml:241a9b2a-e9cc-4b19-964a-2424b61c0639\" xlink:actuate=\"onRequest\" xlink:href=\"psysml:241a9b2a-e9cc-4b19-964a-2424b61c0639\" xlink:show=\"new\" xlink:title=\"psysml:241a9b2a-e9cc-4b19-964a-2424b61c0639\" xlink:type=\"simple\"><rect fill=\"#FFFFFF\" height=\"45.9375\" id=\"E3\" rx=\"10\" ry=\"10\" style=\"stroke: #383838; stroke-width: 1.5;\" width=\"42\" x=\"159\" y=\"465\"/><text fill=\"#000000\" font-family=\"sans-serif\" font-size=\"12\" font-style=\"italic\" lengthAdjust=\"spacingAndGlyphs\" textLength=\"40\" x=\"160\" y=\"481.1387\">«part»</text><text fill=\"#000000\" font-family=\"sans-serif\" font-size=\"12\" lengthAdjust=\"spacingAndGlyphs\" textLength=\"8\" x=\"176\" y=\"495.1074\">a</text><line style=\"stroke: #383838; stroke-width: 1.5;\" x1=\"160\" x2=\"200\" y1=\"502.9375\" y2=\"502.9375\"/></a><!--MD5=[ebbe1d658d1005bcc118a6aa81145e00]\n",
       "class E4--><a href=\"psysml:40835df5-3f1f-4886-9446-1465d21ad736\" target=\"_top\" title=\"psysml:40835df5-3f1f-4886-9446-1465d21ad736\" xlink:actuate=\"onRequest\" xlink:href=\"psysml:40835df5-3f1f-4886-9446-1465d21ad736\" xlink:show=\"new\" xlink:title=\"psysml:40835df5-3f1f-4886-9446-1465d21ad736\" xlink:type=\"simple\"><rect fill=\"#FFFFFF\" height=\"45.9375\" id=\"E4\" rx=\"10\" ry=\"10\" style=\"stroke: #383838; stroke-width: 1.5;\" width=\"42\" x=\"186\" y=\"253\"/><text fill=\"#000000\" font-family=\"sans-serif\" font-size=\"12\" font-style=\"italic\" lengthAdjust=\"spacingAndGlyphs\" textLength=\"40\" x=\"187\" y=\"269.1387\">«part»</text><text fill=\"#000000\" font-family=\"sans-serif\" font-size=\"12\" lengthAdjust=\"spacingAndGlyphs\" textLength=\"19\" x=\"197.5\" y=\"283.1074\">f: F</text><line style=\"stroke: #383838; stroke-width: 1.5;\" x1=\"187\" x2=\"227\" y1=\"290.9375\" y2=\"290.9375\"/></a><!--MD5=[270fce915f116d4de14055a7c1d9a0f3]\n",
       "class E5--><a href=\"psysml:299c2c32-5ec1-43b2-a066-b7748b01150c\" target=\"_top\" title=\"psysml:299c2c32-5ec1-43b2-a066-b7748b01150c\" xlink:actuate=\"onRequest\" xlink:href=\"psysml:299c2c32-5ec1-43b2-a066-b7748b01150c\" xlink:show=\"new\" xlink:title=\"psysml:299c2c32-5ec1-43b2-a066-b7748b01150c\" xlink:type=\"simple\"><rect fill=\"#FFFFFF\" height=\"45.9375\" id=\"E5\" style=\"stroke: #383838; stroke-width: 1.5;\" width=\"66\" x=\"32\" y=\"359\"/><text fill=\"#000000\" font-family=\"sans-serif\" font-size=\"12\" font-style=\"italic\" lengthAdjust=\"spacingAndGlyphs\" textLength=\"64\" x=\"33\" y=\"375.1387\">«part def»</text><text fill=\"#000000\" font-family=\"sans-serif\" font-size=\"12\" lengthAdjust=\"spacingAndGlyphs\" textLength=\"8\" x=\"61\" y=\"389.1074\">A</text><line style=\"stroke: #383838; stroke-width: 1.5;\" x1=\"33\" x2=\"97\" y1=\"396.9375\" y2=\"396.9375\"/></a><!--MD5=[60a26617385b1d2d0262a64233df1f8d]\n",
       "class E6--><a href=\"psysml:31dec55f-8acf-4d42-bd51-f4047894820c\" target=\"_top\" title=\"psysml:31dec55f-8acf-4d42-bd51-f4047894820c\" xlink:actuate=\"onRequest\" xlink:href=\"psysml:31dec55f-8acf-4d42-bd51-f4047894820c\" xlink:show=\"new\" xlink:title=\"psysml:31dec55f-8acf-4d42-bd51-f4047894820c\" xlink:type=\"simple\"><rect fill=\"#FFFFFF\" height=\"45.9375\" id=\"E6\" rx=\"10\" ry=\"10\" style=\"stroke: #383838; stroke-width: 1.5;\" width=\"42\" x=\"44\" y=\"465\"/><text fill=\"#000000\" font-family=\"sans-serif\" font-size=\"12\" font-style=\"italic\" lengthAdjust=\"spacingAndGlyphs\" textLength=\"40\" x=\"45\" y=\"481.1387\">«part»</text><text fill=\"#000000\" font-family=\"sans-serif\" font-size=\"12\" lengthAdjust=\"spacingAndGlyphs\" textLength=\"8\" x=\"61\" y=\"495.1074\">g</text><line style=\"stroke: #383838; stroke-width: 1.5;\" x1=\"45\" x2=\"85\" y1=\"502.9375\" y2=\"502.9375\"/></a><!--MD5=[2156ba9850f5573cc1fc38a6a4b2f02b]\n",
       "class E7--><a href=\"psysml:e57a8ff4-b454-49af-9671-50f81189572a\" target=\"_top\" title=\"psysml:e57a8ff4-b454-49af-9671-50f81189572a\" xlink:actuate=\"onRequest\" xlink:href=\"psysml:e57a8ff4-b454-49af-9671-50f81189572a\" xlink:show=\"new\" xlink:title=\"psysml:e57a8ff4-b454-49af-9671-50f81189572a\" xlink:type=\"simple\"><rect fill=\"#FFFFFF\" height=\"45.9375\" id=\"E7\" style=\"stroke: #383838; stroke-width: 1.5;\" width=\"66\" x=\"64\" y=\"147\"/><text fill=\"#000000\" font-family=\"sans-serif\" font-size=\"12\" font-style=\"italic\" lengthAdjust=\"spacingAndGlyphs\" textLength=\"64\" x=\"65\" y=\"163.1387\">«part def»</text><text fill=\"#000000\" font-family=\"sans-serif\" font-size=\"12\" lengthAdjust=\"spacingAndGlyphs\" textLength=\"8\" x=\"93\" y=\"177.1074\">B</text><line style=\"stroke: #383838; stroke-width: 1.5;\" x1=\"65\" x2=\"129\" y1=\"184.9375\" y2=\"184.9375\"/></a><!--MD5=[b9389687b975829384b498ac4b7476b2]\n",
       "class E8--><a href=\"psysml:ae9b8861-e9cc-45e7-97b3-375fd90ac7d9\" target=\"_top\" title=\"psysml:ae9b8861-e9cc-45e7-97b3-375fd90ac7d9\" xlink:actuate=\"onRequest\" xlink:href=\"psysml:ae9b8861-e9cc-45e7-97b3-375fd90ac7d9\" xlink:show=\"new\" xlink:title=\"psysml:ae9b8861-e9cc-45e7-97b3-375fd90ac7d9\" xlink:type=\"simple\"><rect fill=\"#FFFFFF\" height=\"45.9375\" id=\"E8\" rx=\"10\" ry=\"10\" style=\"stroke: #383838; stroke-width: 1.5;\" width=\"42\" x=\"109\" y=\"253\"/><text fill=\"#000000\" font-family=\"sans-serif\" font-size=\"12\" font-style=\"italic\" lengthAdjust=\"spacingAndGlyphs\" textLength=\"40\" x=\"110\" y=\"269.1387\">«part»</text><text fill=\"#000000\" font-family=\"sans-serif\" font-size=\"12\" lengthAdjust=\"spacingAndGlyphs\" textLength=\"19\" x=\"120.5\" y=\"283.1074\">f: F</text><line style=\"stroke: #383838; stroke-width: 1.5;\" x1=\"110\" x2=\"150\" y1=\"290.9375\" y2=\"290.9375\"/></a><!--MD5=[fd4143e9d270a159db93a4ea2a975926]\n",
       "class E9--><a href=\"psysml:d620b19b-a1e2-497d-8cad-3b2dc38fedc0\" target=\"_top\" title=\"psysml:d620b19b-a1e2-497d-8cad-3b2dc38fedc0\" xlink:actuate=\"onRequest\" xlink:href=\"psysml:d620b19b-a1e2-497d-8cad-3b2dc38fedc0\" xlink:show=\"new\" xlink:title=\"psysml:d620b19b-a1e2-497d-8cad-3b2dc38fedc0\" xlink:type=\"simple\"><rect fill=\"#FFFFFF\" height=\"45.9375\" id=\"E9\" rx=\"10\" ry=\"10\" style=\"stroke: #383838; stroke-width: 1.5;\" width=\"42\" x=\"32\" y=\"253\"/><text fill=\"#000000\" font-family=\"sans-serif\" font-size=\"12\" font-style=\"italic\" lengthAdjust=\"spacingAndGlyphs\" textLength=\"40\" x=\"33\" y=\"269.1387\">«part»</text><text fill=\"#000000\" font-family=\"sans-serif\" font-size=\"12\" lengthAdjust=\"spacingAndGlyphs\" textLength=\"24\" x=\"41\" y=\"283.1074\">a: A</text><line style=\"stroke: #383838; stroke-width: 1.5;\" x1=\"33\" x2=\"73\" y1=\"290.9375\" y2=\"290.9375\"/></a><!--MD5=[96f4274e9e20536e775497830990834d]\n",
       "class E10--><a href=\"psysml:f9a1a989-561d-4119-971e-8ebceafa94b4\" target=\"_top\" title=\"psysml:f9a1a989-561d-4119-971e-8ebceafa94b4\" xlink:actuate=\"onRequest\" xlink:href=\"psysml:f9a1a989-561d-4119-971e-8ebceafa94b4\" xlink:show=\"new\" xlink:title=\"psysml:f9a1a989-561d-4119-971e-8ebceafa94b4\" xlink:type=\"simple\"><rect fill=\"#FFFFFF\" height=\"45.9375\" id=\"E10\" rx=\"10\" ry=\"10\" style=\"stroke: #383838; stroke-width: 1.5;\" width=\"42\" x=\"76\" y=\"41\"/><text fill=\"#000000\" font-family=\"sans-serif\" font-size=\"12\" font-style=\"italic\" lengthAdjust=\"spacingAndGlyphs\" textLength=\"40\" x=\"77\" y=\"57.1387\">«part»</text><text fill=\"#000000\" font-family=\"sans-serif\" font-size=\"12\" lengthAdjust=\"spacingAndGlyphs\" textLength=\"24\" x=\"85\" y=\"71.1074\">b: B</text><line style=\"stroke: #383838; stroke-width: 1.5;\" x1=\"77\" x2=\"117\" y1=\"78.9375\" y2=\"78.9375\"/></a><!--MD5=[209b3feb70ccb6233bfe1053d122c12c]\n",
       "reverse link E2 to E3--><a href=\"psysml:5ee10b2b-55c1-4a08-a13b-bdb74e3f50e5\" target=\"_top\" title=\"psysml:5ee10b2b-55c1-4a08-a13b-bdb74e3f50e5\" xlink:actuate=\"onRequest\" xlink:href=\"psysml:5ee10b2b-55c1-4a08-a13b-bdb74e3f50e5\" xlink:show=\"new\" xlink:title=\"psysml:5ee10b2b-55c1-4a08-a13b-bdb74e3f50e5\" xlink:type=\"simple\"><path d=\"M180,418.44 C180,433.87 180,451.47 180,464.98 \" fill=\"none\" id=\"E2&lt;-E3\" style=\"stroke: #383838; stroke-width: 1.0;\"/><polygon fill=\"#383838\" points=\"180,405.06,176,411.06,180,417.06,184,411.06,180,405.06\" style=\"stroke: #383838; stroke-width: 1.0;\"/></a><!--MD5=[185131fc0dcab0a4505a2ebe144e961b]\n",
       "link E4 to E2--><a href=\"psysml:c4c1c0e2-eca3-4dc3-a203-c30912c3ab2b\" target=\"_top\" title=\"psysml:c4c1c0e2-eca3-4dc3-a203-c30912c3ab2b\" xlink:actuate=\"onRequest\" xlink:href=\"psysml:c4c1c0e2-eca3-4dc3-a203-c30912c3ab2b\" xlink:show=\"new\" xlink:title=\"psysml:c4c1c0e2-eca3-4dc3-a203-c30912c3ab2b\" xlink:type=\"simple\"><path d=\"M201.27,299.06 C198.23,310.78 194.39,325.57 190.81,339.36 \" fill=\"none\" id=\"E4-&gt;E2\" style=\"stroke: #383838; stroke-width: 1.0;\"/><polygon fill=\"#FFFFFF\" points=\"185.72,358.98,183.7221,338.8303,197.2724,342.3504,185.72,358.98\" style=\"stroke: #383838; stroke-width: 1.0;\"/><ellipse cx=\"187.091\" cy=\"333.8163\" fill=\"#383838\" rx=\"2\" ry=\"2\" style=\"stroke: #383838; stroke-width: 1.0;\"/><ellipse cx=\"196.7698\" cy=\"336.3307\" fill=\"#383838\" rx=\"2\" ry=\"2\" style=\"stroke: #383838; stroke-width: 1.0;\"/></a><!--MD5=[85d356282659285ab4b2cfe2f634dd2b]\n",
       "reverse link E5 to E6--><a href=\"psysml:93463b7d-149f-4a15-b84b-177a9e530eda\" target=\"_top\" title=\"psysml:93463b7d-149f-4a15-b84b-177a9e530eda\" xlink:actuate=\"onRequest\" xlink:href=\"psysml:93463b7d-149f-4a15-b84b-177a9e530eda\" xlink:show=\"new\" xlink:title=\"psysml:93463b7d-149f-4a15-b84b-177a9e530eda\" xlink:type=\"simple\"><path d=\"M65,418.44 C65,433.87 65,451.47 65,464.98 \" fill=\"none\" id=\"E5&lt;-E6\" style=\"stroke: #383838; stroke-width: 1.0;\"/><polygon fill=\"#383838\" points=\"65,405.06,61,411.06,65,417.06,69,411.06,65,405.06\" style=\"stroke: #383838; stroke-width: 1.0;\"/></a><!--MD5=[dc164f5e8a733ab456ef1add180e9e34]\n",
       "reverse link E7 to E8--><a href=\"psysml:de6f8f38-3125-456b-a954-15a696931b63\" target=\"_top\" title=\"psysml:de6f8f38-3125-456b-a954-15a696931b63\" xlink:actuate=\"onRequest\" xlink:href=\"psysml:de6f8f38-3125-456b-a954-15a696931b63\" xlink:show=\"new\" xlink:title=\"psysml:de6f8f38-3125-456b-a954-15a696931b63\" xlink:type=\"simple\"><path d=\"M107.95,205.49 C112.91,221.15 118.64,239.19 123.01,252.98 \" fill=\"none\" id=\"E7&lt;-E8\" style=\"stroke: #383838; stroke-width: 1.0;\"/><polygon fill=\"#383838\" points=\"104,193.06,101.9989,199.9879,107.6243,204.4996,109.6253,197.5717,104,193.06\" style=\"stroke: #383838; stroke-width: 1.0;\"/></a><!--MD5=[f1f3f9f2fc535e6147756cb86a7f2e32]\n",
       "link E8 to E2--><a href=\"psysml:536a95df-7241-4403-bcab-1aa9fe7a4b7d\" target=\"_top\" title=\"psysml:536a95df-7241-4403-bcab-1aa9fe7a4b7d\" xlink:actuate=\"onRequest\" xlink:href=\"psysml:536a95df-7241-4403-bcab-1aa9fe7a4b7d\" xlink:show=\"new\" xlink:title=\"psysml:536a95df-7241-4403-bcab-1aa9fe7a4b7d\" xlink:type=\"simple\"><path d=\"M140.6,299.06 C146.44,311.19 153.86,326.62 160.68,340.82 \" fill=\"none\" id=\"E8-&gt;E2\" style=\"stroke: #383838; stroke-width: 1.0;\"/><polygon fill=\"#FFFFFF\" points=\"169.41,358.98,154.8709,344.8869,167.4894,338.8228,169.41,358.98\" style=\"stroke: #383838; stroke-width: 1.0;\"/><ellipse cx=\"154.2046\" cy=\"338.8831\" fill=\"#383838\" rx=\"2\" ry=\"2\" style=\"stroke: #383838; stroke-width: 1.0;\"/><ellipse cx=\"163.2178\" cy=\"334.5516\" fill=\"#383838\" rx=\"2\" ry=\"2\" style=\"stroke: #383838; stroke-width: 1.0;\"/></a><!--MD5=[e4a10ef82d0e328e31cac39a31e58dda]\n",
       "reverse link E7 to E9--><a href=\"psysml:2c441a1b-e979-4985-bcd5-61f8c13172d0\" target=\"_top\" title=\"psysml:2c441a1b-e979-4985-bcd5-61f8c13172d0\" xlink:actuate=\"onRequest\" xlink:href=\"psysml:2c441a1b-e979-4985-bcd5-61f8c13172d0\" xlink:show=\"new\" xlink:title=\"psysml:2c441a1b-e979-4985-bcd5-61f8c13172d0\" xlink:type=\"simple\"><path d=\"M82.41,205.49 C75.78,221.15 68.15,239.19 62.32,252.98 \" fill=\"none\" id=\"E7&lt;-E9\" style=\"stroke: #383838; stroke-width: 1.0;\"/><polygon fill=\"#383838\" points=\"87.67,193.06,81.6505,197.0305,83.0003,204.1142,89.0199,200.1436,87.67,193.06\" style=\"stroke: #383838; stroke-width: 1.0;\"/></a><!--MD5=[bfc3ddf2e613be37104f658f09af896c]\n",
       "link E9 to E5--><a href=\"psysml:fc8a5d52-f7b0-45e1-9a4f-1e932b65f071\" target=\"_top\" title=\"psysml:fc8a5d52-f7b0-45e1-9a4f-1e932b65f071\" xlink:actuate=\"onRequest\" xlink:href=\"psysml:fc8a5d52-f7b0-45e1-9a4f-1e932b65f071\" xlink:show=\"new\" xlink:title=\"psysml:fc8a5d52-f7b0-45e1-9a4f-1e932b65f071\" xlink:type=\"simple\"><path d=\"M55.54,299.06 C56.88,310.64 58.56,325.23 60.14,338.87 \" fill=\"none\" id=\"E9-&gt;E5\" style=\"stroke: #383838; stroke-width: 1.0;\"/><polygon fill=\"#FFFFFF\" points=\"62.46,358.98,53.3347,340.9044,67.243,339.3046,62.46,358.98\" style=\"stroke: #383838; stroke-width: 1.0;\"/><ellipse cx=\"54.6702\" cy=\"335.0132\" fill=\"#383838\" rx=\"2\" ry=\"2\" style=\"stroke: #383838; stroke-width: 1.0;\"/><ellipse cx=\"64.6047\" cy=\"333.8704\" fill=\"#383838\" rx=\"2\" ry=\"2\" style=\"stroke: #383838; stroke-width: 1.0;\"/></a><!--MD5=[a919e0967d6f3de553dc51b9865a1d6d]\n",
       "link E10 to E7--><a href=\"psysml:2e3833d6-0a03-41e5-9593-325ba84dff2e\" target=\"_top\" title=\"psysml:2e3833d6-0a03-41e5-9593-325ba84dff2e\" xlink:actuate=\"onRequest\" xlink:href=\"psysml:2e3833d6-0a03-41e5-9593-325ba84dff2e\" xlink:show=\"new\" xlink:title=\"psysml:2e3833d6-0a03-41e5-9593-325ba84dff2e\" xlink:type=\"simple\"><path d=\"M97,87.06 C97,98.64 97,113.23 97,126.87 \" fill=\"none\" id=\"E10-&gt;E7\" style=\"stroke: #383838; stroke-width: 1.0;\"/><polygon fill=\"#FFFFFF\" points=\"97,146.98,90,127.98,104,127.98,97,146.98\" style=\"stroke: #383838; stroke-width: 1.0;\"/><ellipse cx=\"92\" cy=\"122.28\" fill=\"#383838\" rx=\"2\" ry=\"2\" style=\"stroke: #383838; stroke-width: 1.0;\"/><ellipse cx=\"102\" cy=\"122.28\" fill=\"#383838\" rx=\"2\" ry=\"2\" style=\"stroke: #383838; stroke-width: 1.0;\"/></a><!--MD5=[6146f19260f6ab07093f2b87ff3e1e19]\n",
       "@startuml\r\n",
       "skinparam monochrome true\r\n",
       "skinparam classbackgroundcolor white\r\n",
       "skinparam shadowing false\r\n",
       "skinparam wrapWidth 300\r\n",
       "hide circle\r\n",
       "\r\n",
       "package \"Q\" as E1  [[psysml:427a19be-4ba6-433c-b392-6823bf74d458 ]]  {\r\n",
       "comp def \"F\" as E2  <<(T,blue) part def>> [[psysml:027effde-34e9-4491-ba0c-9f82cacaad23 ]] {\r\n",
       "}\r\n",
       "comp usage \"a\" as E3  <<(T,blue) part>> [[psysml:241a9b2a-e9cc-4b19-964a-2424b61c0639 ]] {\r\n",
       "}\r\n",
       "comp usage \"f: F\" as E4  <<(T,blue) part>> [[psysml:40835df5-3f1f-4886-9446-1465d21ad736 ]] {\r\n",
       "}\r\n",
       "comp def \"A\" as E5  <<(T,blue) part def>> [[psysml:299c2c32-5ec1-43b2-a066-b7748b01150c ]] {\r\n",
       "}\r\n",
       "comp usage \"g\" as E6  <<(T,blue) part>> [[psysml:31dec55f-8acf-4d42-bd51-f4047894820c ]] {\r\n",
       "}\r\n",
       "comp def \"B\" as E7  <<(T,blue) part def>> [[psysml:e57a8ff4-b454-49af-9671-50f81189572a ]] {\r\n",
       "}\r\n",
       "comp usage \"f: F\" as E8  <<(T,blue) part>> [[psysml:ae9b8861-e9cc-45e7-97b3-375fd90ac7d9 ]] {\r\n",
       "}\r\n",
       "comp usage \"a: A\" as E9  <<(T,blue) part>> [[psysml:d620b19b-a1e2-497d-8cad-3b2dc38fedc0 ]] {\r\n",
       "}\r\n",
       "comp usage \"b: B\" as E10  <<(T,blue) part>> [[psysml:f9a1a989-561d-4119-971e-8ebceafa94b4 ]] {\r\n",
       "}\r\n",
       "E2 *- - E3 [[psysml:5ee10b2b-55c1-4a08-a13b-bdb74e3f50e5 ]] \r\n",
       "E4 - -:|> E2 [[psysml:c4c1c0e2-eca3-4dc3-a203-c30912c3ab2b ]] \r\n",
       "E5 *- - E6 [[psysml:93463b7d-149f-4a15-b84b-177a9e530eda ]] \r\n",
       "E7 *- - E8 [[psysml:de6f8f38-3125-456b-a954-15a696931b63 ]] \r\n",
       "E8 - -:|> E2 [[psysml:536a95df-7241-4403-bcab-1aa9fe7a4b7d ]] \r\n",
       "E7 *- - E9 [[psysml:2c441a1b-e979-4985-bcd5-61f8c13172d0 ]] \r\n",
       "E9 - -:|> E5 [[psysml:fc8a5d52-f7b0-45e1-9a4f-1e932b65f071 ]] \r\n",
       "E10 - -:|> E7 [[psysml:2e3833d6-0a03-41e5-9593-325ba84dff2e ]] \r\n",
       "}\r\n",
       "@enduml\r\n",
       "\n",
       "PlantUML version 1.2020.13(Sat Jun 13 12:26:38 UTC 2020)\n",
       "(EPL source distribution)\n",
       "Java Runtime: OpenJDK Runtime Environment\n",
       "JVM: OpenJDK 64-Bit Server VM\n",
       "Default Encoding: UTF-8\n",
       "Language: en\n",
       "Country: null\n",
       "--></g></svg>"
      ]
     },
     "execution_count": 37,
     "metadata": {},
     "output_type": "execute_result"
    }
   ],
   "source": [
    "%viz --style=\"DEFAULT\" --view=\"Default\" \"Q\""
   ]
  },
  {
   "cell_type": "code",
   "execution_count": 38,
   "id": "3ef4923e",
   "metadata": {
    "execution": {
     "iopub.execute_input": "2021-06-30T09:23:35.087325Z",
     "iopub.status.busy": "2021-06-30T09:23:35.086164Z",
     "iopub.status.idle": "2021-06-30T09:23:35.151790Z",
     "shell.execute_reply": "2021-06-30T09:23:35.149178Z"
    }
   },
   "outputs": [
    {
     "data": {
      "image/svg+xml": [
       "<?xml version=\"1.0\" encoding=\"UTF-8\" standalone=\"no\"?><svg xmlns=\"http://www.w3.org/2000/svg\" xmlns:xlink=\"http://www.w3.org/1999/xlink\" contentScriptType=\"application/ecmascript\" contentStyleType=\"text/css\" height=\"539px\" preserveAspectRatio=\"none\" style=\"width:266px;height:539px;\" version=\"1.1\" viewBox=\"0 0 266 539\" width=\"266px\" zoomAndPan=\"magnify\"><defs/><g><!--MD5=[fbc87193dbaf4d95561dea2c320d4a47]\n",
       "cluster E1--><a href=\"psysml:427a19be-4ba6-433c-b392-6823bf74d458\" target=\"_top\" title=\"psysml:427a19be-4ba6-433c-b392-6823bf74d458\" xlink:actuate=\"onRequest\" xlink:href=\"psysml:427a19be-4ba6-433c-b392-6823bf74d458\" xlink:show=\"new\" xlink:title=\"psysml:427a19be-4ba6-433c-b392-6823bf74d458\" xlink:type=\"simple\"><polygon fill=\"#FFFFFF\" points=\"16,6,34,6,41,28.2969,244,28.2969,244,527,16,527,16,6\" style=\"stroke: #000000; stroke-width: 1.5;\"/><line style=\"stroke: #000000; stroke-width: 1.5;\" x1=\"16\" x2=\"41\" y1=\"28.2969\" y2=\"28.2969\"/><text fill=\"#000000\" font-family=\"sans-serif\" font-size=\"14\" font-weight=\"bold\" lengthAdjust=\"spacingAndGlyphs\" textLength=\"12\" x=\"20\" y=\"20.9951\">Q</text></a><!--MD5=[b4997ac47864f28c2f74865a473b2911]\n",
       "class E2--><a href=\"psysml:027effde-34e9-4491-ba0c-9f82cacaad23\" target=\"_top\" title=\"psysml:027effde-34e9-4491-ba0c-9f82cacaad23\" xlink:actuate=\"onRequest\" xlink:href=\"psysml:027effde-34e9-4491-ba0c-9f82cacaad23\" xlink:show=\"new\" xlink:title=\"psysml:027effde-34e9-4491-ba0c-9f82cacaad23\" xlink:type=\"simple\"><rect fill=\"#FFFFFF\" height=\"45.9375\" id=\"E2\" style=\"stroke: #383838; stroke-width: 1.5;\" width=\"66\" x=\"147\" y=\"359\"/><text fill=\"#000000\" font-family=\"sans-serif\" font-size=\"12\" font-style=\"italic\" lengthAdjust=\"spacingAndGlyphs\" textLength=\"64\" x=\"148\" y=\"375.1387\">«part def»</text><text fill=\"#000000\" font-family=\"sans-serif\" font-size=\"12\" lengthAdjust=\"spacingAndGlyphs\" textLength=\"7\" x=\"176.5\" y=\"389.1074\">F</text><line style=\"stroke: #383838; stroke-width: 1.5;\" x1=\"148\" x2=\"212\" y1=\"396.9375\" y2=\"396.9375\"/></a><!--MD5=[09b614a08d8cba4a07c9adeb5e0fee81]\n",
       "class E3--><a href=\"psysml:241a9b2a-e9cc-4b19-964a-2424b61c0639\" target=\"_top\" title=\"psysml:241a9b2a-e9cc-4b19-964a-2424b61c0639\" xlink:actuate=\"onRequest\" xlink:href=\"psysml:241a9b2a-e9cc-4b19-964a-2424b61c0639\" xlink:show=\"new\" xlink:title=\"psysml:241a9b2a-e9cc-4b19-964a-2424b61c0639\" xlink:type=\"simple\"><rect fill=\"#FFFFFF\" height=\"45.9375\" id=\"E3\" rx=\"10\" ry=\"10\" style=\"stroke: #383838; stroke-width: 1.5;\" width=\"42\" x=\"159\" y=\"465\"/><text fill=\"#000000\" font-family=\"sans-serif\" font-size=\"12\" font-style=\"italic\" lengthAdjust=\"spacingAndGlyphs\" textLength=\"40\" x=\"160\" y=\"481.1387\">«part»</text><text fill=\"#000000\" font-family=\"sans-serif\" font-size=\"12\" lengthAdjust=\"spacingAndGlyphs\" textLength=\"8\" x=\"176\" y=\"495.1074\">a</text><line style=\"stroke: #383838; stroke-width: 1.5;\" x1=\"160\" x2=\"200\" y1=\"502.9375\" y2=\"502.9375\"/></a><!--MD5=[ebbe1d658d1005bcc118a6aa81145e00]\n",
       "class E4--><a href=\"psysml:40835df5-3f1f-4886-9446-1465d21ad736\" target=\"_top\" title=\"psysml:40835df5-3f1f-4886-9446-1465d21ad736\" xlink:actuate=\"onRequest\" xlink:href=\"psysml:40835df5-3f1f-4886-9446-1465d21ad736\" xlink:show=\"new\" xlink:title=\"psysml:40835df5-3f1f-4886-9446-1465d21ad736\" xlink:type=\"simple\"><rect fill=\"#FFFFFF\" height=\"45.9375\" id=\"E4\" rx=\"10\" ry=\"10\" style=\"stroke: #383838; stroke-width: 1.5;\" width=\"42\" x=\"186\" y=\"253\"/><text fill=\"#000000\" font-family=\"sans-serif\" font-size=\"12\" font-style=\"italic\" lengthAdjust=\"spacingAndGlyphs\" textLength=\"40\" x=\"187\" y=\"269.1387\">«part»</text><text fill=\"#000000\" font-family=\"sans-serif\" font-size=\"12\" lengthAdjust=\"spacingAndGlyphs\" textLength=\"19\" x=\"197.5\" y=\"283.1074\">f: F</text><line style=\"stroke: #383838; stroke-width: 1.5;\" x1=\"187\" x2=\"227\" y1=\"290.9375\" y2=\"290.9375\"/></a><!--MD5=[270fce915f116d4de14055a7c1d9a0f3]\n",
       "class E5--><a href=\"psysml:299c2c32-5ec1-43b2-a066-b7748b01150c\" target=\"_top\" title=\"psysml:299c2c32-5ec1-43b2-a066-b7748b01150c\" xlink:actuate=\"onRequest\" xlink:href=\"psysml:299c2c32-5ec1-43b2-a066-b7748b01150c\" xlink:show=\"new\" xlink:title=\"psysml:299c2c32-5ec1-43b2-a066-b7748b01150c\" xlink:type=\"simple\"><rect fill=\"#FFFFFF\" height=\"45.9375\" id=\"E5\" style=\"stroke: #383838; stroke-width: 1.5;\" width=\"66\" x=\"32\" y=\"359\"/><text fill=\"#000000\" font-family=\"sans-serif\" font-size=\"12\" font-style=\"italic\" lengthAdjust=\"spacingAndGlyphs\" textLength=\"64\" x=\"33\" y=\"375.1387\">«part def»</text><text fill=\"#000000\" font-family=\"sans-serif\" font-size=\"12\" lengthAdjust=\"spacingAndGlyphs\" textLength=\"8\" x=\"61\" y=\"389.1074\">A</text><line style=\"stroke: #383838; stroke-width: 1.5;\" x1=\"33\" x2=\"97\" y1=\"396.9375\" y2=\"396.9375\"/></a><!--MD5=[60a26617385b1d2d0262a64233df1f8d]\n",
       "class E6--><a href=\"psysml:31dec55f-8acf-4d42-bd51-f4047894820c\" target=\"_top\" title=\"psysml:31dec55f-8acf-4d42-bd51-f4047894820c\" xlink:actuate=\"onRequest\" xlink:href=\"psysml:31dec55f-8acf-4d42-bd51-f4047894820c\" xlink:show=\"new\" xlink:title=\"psysml:31dec55f-8acf-4d42-bd51-f4047894820c\" xlink:type=\"simple\"><rect fill=\"#FFFFFF\" height=\"45.9375\" id=\"E6\" rx=\"10\" ry=\"10\" style=\"stroke: #383838; stroke-width: 1.5;\" width=\"42\" x=\"44\" y=\"465\"/><text fill=\"#000000\" font-family=\"sans-serif\" font-size=\"12\" font-style=\"italic\" lengthAdjust=\"spacingAndGlyphs\" textLength=\"40\" x=\"45\" y=\"481.1387\">«part»</text><text fill=\"#000000\" font-family=\"sans-serif\" font-size=\"12\" lengthAdjust=\"spacingAndGlyphs\" textLength=\"8\" x=\"61\" y=\"495.1074\">g</text><line style=\"stroke: #383838; stroke-width: 1.5;\" x1=\"45\" x2=\"85\" y1=\"502.9375\" y2=\"502.9375\"/></a><!--MD5=[2156ba9850f5573cc1fc38a6a4b2f02b]\n",
       "class E7--><a href=\"psysml:e57a8ff4-b454-49af-9671-50f81189572a\" target=\"_top\" title=\"psysml:e57a8ff4-b454-49af-9671-50f81189572a\" xlink:actuate=\"onRequest\" xlink:href=\"psysml:e57a8ff4-b454-49af-9671-50f81189572a\" xlink:show=\"new\" xlink:title=\"psysml:e57a8ff4-b454-49af-9671-50f81189572a\" xlink:type=\"simple\"><rect fill=\"#FFFFFF\" height=\"45.9375\" id=\"E7\" style=\"stroke: #383838; stroke-width: 1.5;\" width=\"66\" x=\"64\" y=\"147\"/><text fill=\"#000000\" font-family=\"sans-serif\" font-size=\"12\" font-style=\"italic\" lengthAdjust=\"spacingAndGlyphs\" textLength=\"64\" x=\"65\" y=\"163.1387\">«part def»</text><text fill=\"#000000\" font-family=\"sans-serif\" font-size=\"12\" lengthAdjust=\"spacingAndGlyphs\" textLength=\"8\" x=\"93\" y=\"177.1074\">B</text><line style=\"stroke: #383838; stroke-width: 1.5;\" x1=\"65\" x2=\"129\" y1=\"184.9375\" y2=\"184.9375\"/></a><!--MD5=[b9389687b975829384b498ac4b7476b2]\n",
       "class E8--><a href=\"psysml:ae9b8861-e9cc-45e7-97b3-375fd90ac7d9\" target=\"_top\" title=\"psysml:ae9b8861-e9cc-45e7-97b3-375fd90ac7d9\" xlink:actuate=\"onRequest\" xlink:href=\"psysml:ae9b8861-e9cc-45e7-97b3-375fd90ac7d9\" xlink:show=\"new\" xlink:title=\"psysml:ae9b8861-e9cc-45e7-97b3-375fd90ac7d9\" xlink:type=\"simple\"><rect fill=\"#FFFFFF\" height=\"45.9375\" id=\"E8\" rx=\"10\" ry=\"10\" style=\"stroke: #383838; stroke-width: 1.5;\" width=\"42\" x=\"109\" y=\"253\"/><text fill=\"#000000\" font-family=\"sans-serif\" font-size=\"12\" font-style=\"italic\" lengthAdjust=\"spacingAndGlyphs\" textLength=\"40\" x=\"110\" y=\"269.1387\">«part»</text><text fill=\"#000000\" font-family=\"sans-serif\" font-size=\"12\" lengthAdjust=\"spacingAndGlyphs\" textLength=\"19\" x=\"120.5\" y=\"283.1074\">f: F</text><line style=\"stroke: #383838; stroke-width: 1.5;\" x1=\"110\" x2=\"150\" y1=\"290.9375\" y2=\"290.9375\"/></a><!--MD5=[fd4143e9d270a159db93a4ea2a975926]\n",
       "class E9--><a href=\"psysml:d620b19b-a1e2-497d-8cad-3b2dc38fedc0\" target=\"_top\" title=\"psysml:d620b19b-a1e2-497d-8cad-3b2dc38fedc0\" xlink:actuate=\"onRequest\" xlink:href=\"psysml:d620b19b-a1e2-497d-8cad-3b2dc38fedc0\" xlink:show=\"new\" xlink:title=\"psysml:d620b19b-a1e2-497d-8cad-3b2dc38fedc0\" xlink:type=\"simple\"><rect fill=\"#FFFFFF\" height=\"45.9375\" id=\"E9\" rx=\"10\" ry=\"10\" style=\"stroke: #383838; stroke-width: 1.5;\" width=\"42\" x=\"32\" y=\"253\"/><text fill=\"#000000\" font-family=\"sans-serif\" font-size=\"12\" font-style=\"italic\" lengthAdjust=\"spacingAndGlyphs\" textLength=\"40\" x=\"33\" y=\"269.1387\">«part»</text><text fill=\"#000000\" font-family=\"sans-serif\" font-size=\"12\" lengthAdjust=\"spacingAndGlyphs\" textLength=\"24\" x=\"41\" y=\"283.1074\">a: A</text><line style=\"stroke: #383838; stroke-width: 1.5;\" x1=\"33\" x2=\"73\" y1=\"290.9375\" y2=\"290.9375\"/></a><!--MD5=[96f4274e9e20536e775497830990834d]\n",
       "class E10--><a href=\"psysml:f9a1a989-561d-4119-971e-8ebceafa94b4\" target=\"_top\" title=\"psysml:f9a1a989-561d-4119-971e-8ebceafa94b4\" xlink:actuate=\"onRequest\" xlink:href=\"psysml:f9a1a989-561d-4119-971e-8ebceafa94b4\" xlink:show=\"new\" xlink:title=\"psysml:f9a1a989-561d-4119-971e-8ebceafa94b4\" xlink:type=\"simple\"><rect fill=\"#FFFFFF\" height=\"45.9375\" id=\"E10\" rx=\"10\" ry=\"10\" style=\"stroke: #383838; stroke-width: 1.5;\" width=\"42\" x=\"76\" y=\"41\"/><text fill=\"#000000\" font-family=\"sans-serif\" font-size=\"12\" font-style=\"italic\" lengthAdjust=\"spacingAndGlyphs\" textLength=\"40\" x=\"77\" y=\"57.1387\">«part»</text><text fill=\"#000000\" font-family=\"sans-serif\" font-size=\"12\" lengthAdjust=\"spacingAndGlyphs\" textLength=\"24\" x=\"85\" y=\"71.1074\">b: B</text><line style=\"stroke: #383838; stroke-width: 1.5;\" x1=\"77\" x2=\"117\" y1=\"78.9375\" y2=\"78.9375\"/></a><!--MD5=[209b3feb70ccb6233bfe1053d122c12c]\n",
       "reverse link E2 to E3--><a href=\"psysml:5ee10b2b-55c1-4a08-a13b-bdb74e3f50e5\" target=\"_top\" title=\"psysml:5ee10b2b-55c1-4a08-a13b-bdb74e3f50e5\" xlink:actuate=\"onRequest\" xlink:href=\"psysml:5ee10b2b-55c1-4a08-a13b-bdb74e3f50e5\" xlink:show=\"new\" xlink:title=\"psysml:5ee10b2b-55c1-4a08-a13b-bdb74e3f50e5\" xlink:type=\"simple\"><path d=\"M180,418.44 C180,433.87 180,451.47 180,464.98 \" fill=\"none\" id=\"E2&lt;-E3\" style=\"stroke: #383838; stroke-width: 1.0;\"/><polygon fill=\"#383838\" points=\"180,405.06,176,411.06,180,417.06,184,411.06,180,405.06\" style=\"stroke: #383838; stroke-width: 1.0;\"/></a><!--MD5=[185131fc0dcab0a4505a2ebe144e961b]\n",
       "link E4 to E2--><a href=\"psysml:c4c1c0e2-eca3-4dc3-a203-c30912c3ab2b\" target=\"_top\" title=\"psysml:c4c1c0e2-eca3-4dc3-a203-c30912c3ab2b\" xlink:actuate=\"onRequest\" xlink:href=\"psysml:c4c1c0e2-eca3-4dc3-a203-c30912c3ab2b\" xlink:show=\"new\" xlink:title=\"psysml:c4c1c0e2-eca3-4dc3-a203-c30912c3ab2b\" xlink:type=\"simple\"><path d=\"M201.27,299.06 C198.23,310.78 194.39,325.57 190.81,339.36 \" fill=\"none\" id=\"E4-&gt;E2\" style=\"stroke: #383838; stroke-width: 1.0;\"/><polygon fill=\"#FFFFFF\" points=\"185.72,358.98,183.7221,338.8303,197.2724,342.3504,185.72,358.98\" style=\"stroke: #383838; stroke-width: 1.0;\"/><ellipse cx=\"187.091\" cy=\"333.8163\" fill=\"#383838\" rx=\"2\" ry=\"2\" style=\"stroke: #383838; stroke-width: 1.0;\"/><ellipse cx=\"196.7698\" cy=\"336.3307\" fill=\"#383838\" rx=\"2\" ry=\"2\" style=\"stroke: #383838; stroke-width: 1.0;\"/></a><!--MD5=[85d356282659285ab4b2cfe2f634dd2b]\n",
       "reverse link E5 to E6--><a href=\"psysml:93463b7d-149f-4a15-b84b-177a9e530eda\" target=\"_top\" title=\"psysml:93463b7d-149f-4a15-b84b-177a9e530eda\" xlink:actuate=\"onRequest\" xlink:href=\"psysml:93463b7d-149f-4a15-b84b-177a9e530eda\" xlink:show=\"new\" xlink:title=\"psysml:93463b7d-149f-4a15-b84b-177a9e530eda\" xlink:type=\"simple\"><path d=\"M65,418.44 C65,433.87 65,451.47 65,464.98 \" fill=\"none\" id=\"E5&lt;-E6\" style=\"stroke: #383838; stroke-width: 1.0;\"/><polygon fill=\"#383838\" points=\"65,405.06,61,411.06,65,417.06,69,411.06,65,405.06\" style=\"stroke: #383838; stroke-width: 1.0;\"/></a><!--MD5=[dc164f5e8a733ab456ef1add180e9e34]\n",
       "reverse link E7 to E8--><a href=\"psysml:de6f8f38-3125-456b-a954-15a696931b63\" target=\"_top\" title=\"psysml:de6f8f38-3125-456b-a954-15a696931b63\" xlink:actuate=\"onRequest\" xlink:href=\"psysml:de6f8f38-3125-456b-a954-15a696931b63\" xlink:show=\"new\" xlink:title=\"psysml:de6f8f38-3125-456b-a954-15a696931b63\" xlink:type=\"simple\"><path d=\"M107.95,205.49 C112.91,221.15 118.64,239.19 123.01,252.98 \" fill=\"none\" id=\"E7&lt;-E8\" style=\"stroke: #383838; stroke-width: 1.0;\"/><polygon fill=\"#383838\" points=\"104,193.06,101.9989,199.9879,107.6243,204.4996,109.6253,197.5717,104,193.06\" style=\"stroke: #383838; stroke-width: 1.0;\"/></a><!--MD5=[f1f3f9f2fc535e6147756cb86a7f2e32]\n",
       "link E8 to E2--><a href=\"psysml:536a95df-7241-4403-bcab-1aa9fe7a4b7d\" target=\"_top\" title=\"psysml:536a95df-7241-4403-bcab-1aa9fe7a4b7d\" xlink:actuate=\"onRequest\" xlink:href=\"psysml:536a95df-7241-4403-bcab-1aa9fe7a4b7d\" xlink:show=\"new\" xlink:title=\"psysml:536a95df-7241-4403-bcab-1aa9fe7a4b7d\" xlink:type=\"simple\"><path d=\"M140.6,299.06 C146.44,311.19 153.86,326.62 160.68,340.82 \" fill=\"none\" id=\"E8-&gt;E2\" style=\"stroke: #383838; stroke-width: 1.0;\"/><polygon fill=\"#FFFFFF\" points=\"169.41,358.98,154.8709,344.8869,167.4894,338.8228,169.41,358.98\" style=\"stroke: #383838; stroke-width: 1.0;\"/><ellipse cx=\"154.2046\" cy=\"338.8831\" fill=\"#383838\" rx=\"2\" ry=\"2\" style=\"stroke: #383838; stroke-width: 1.0;\"/><ellipse cx=\"163.2178\" cy=\"334.5516\" fill=\"#383838\" rx=\"2\" ry=\"2\" style=\"stroke: #383838; stroke-width: 1.0;\"/></a><!--MD5=[e4a10ef82d0e328e31cac39a31e58dda]\n",
       "reverse link E7 to E9--><a href=\"psysml:2c441a1b-e979-4985-bcd5-61f8c13172d0\" target=\"_top\" title=\"psysml:2c441a1b-e979-4985-bcd5-61f8c13172d0\" xlink:actuate=\"onRequest\" xlink:href=\"psysml:2c441a1b-e979-4985-bcd5-61f8c13172d0\" xlink:show=\"new\" xlink:title=\"psysml:2c441a1b-e979-4985-bcd5-61f8c13172d0\" xlink:type=\"simple\"><path d=\"M82.41,205.49 C75.78,221.15 68.15,239.19 62.32,252.98 \" fill=\"none\" id=\"E7&lt;-E9\" style=\"stroke: #383838; stroke-width: 1.0;\"/><polygon fill=\"#383838\" points=\"87.67,193.06,81.6505,197.0305,83.0003,204.1142,89.0199,200.1436,87.67,193.06\" style=\"stroke: #383838; stroke-width: 1.0;\"/></a><!--MD5=[bfc3ddf2e613be37104f658f09af896c]\n",
       "link E9 to E5--><a href=\"psysml:fc8a5d52-f7b0-45e1-9a4f-1e932b65f071\" target=\"_top\" title=\"psysml:fc8a5d52-f7b0-45e1-9a4f-1e932b65f071\" xlink:actuate=\"onRequest\" xlink:href=\"psysml:fc8a5d52-f7b0-45e1-9a4f-1e932b65f071\" xlink:show=\"new\" xlink:title=\"psysml:fc8a5d52-f7b0-45e1-9a4f-1e932b65f071\" xlink:type=\"simple\"><path d=\"M55.54,299.06 C56.88,310.64 58.56,325.23 60.14,338.87 \" fill=\"none\" id=\"E9-&gt;E5\" style=\"stroke: #383838; stroke-width: 1.0;\"/><polygon fill=\"#FFFFFF\" points=\"62.46,358.98,53.3347,340.9044,67.243,339.3046,62.46,358.98\" style=\"stroke: #383838; stroke-width: 1.0;\"/><ellipse cx=\"54.6702\" cy=\"335.0132\" fill=\"#383838\" rx=\"2\" ry=\"2\" style=\"stroke: #383838; stroke-width: 1.0;\"/><ellipse cx=\"64.6047\" cy=\"333.8704\" fill=\"#383838\" rx=\"2\" ry=\"2\" style=\"stroke: #383838; stroke-width: 1.0;\"/></a><!--MD5=[a919e0967d6f3de553dc51b9865a1d6d]\n",
       "link E10 to E7--><a href=\"psysml:2e3833d6-0a03-41e5-9593-325ba84dff2e\" target=\"_top\" title=\"psysml:2e3833d6-0a03-41e5-9593-325ba84dff2e\" xlink:actuate=\"onRequest\" xlink:href=\"psysml:2e3833d6-0a03-41e5-9593-325ba84dff2e\" xlink:show=\"new\" xlink:title=\"psysml:2e3833d6-0a03-41e5-9593-325ba84dff2e\" xlink:type=\"simple\"><path d=\"M97,87.06 C97,98.64 97,113.23 97,126.87 \" fill=\"none\" id=\"E10-&gt;E7\" style=\"stroke: #383838; stroke-width: 1.0;\"/><polygon fill=\"#FFFFFF\" points=\"97,146.98,90,127.98,104,127.98,97,146.98\" style=\"stroke: #383838; stroke-width: 1.0;\"/><ellipse cx=\"92\" cy=\"122.28\" fill=\"#383838\" rx=\"2\" ry=\"2\" style=\"stroke: #383838; stroke-width: 1.0;\"/><ellipse cx=\"102\" cy=\"122.28\" fill=\"#383838\" rx=\"2\" ry=\"2\" style=\"stroke: #383838; stroke-width: 1.0;\"/></a><!--MD5=[6146f19260f6ab07093f2b87ff3e1e19]\n",
       "@startuml\r\n",
       "skinparam monochrome true\r\n",
       "skinparam classbackgroundcolor white\r\n",
       "skinparam shadowing false\r\n",
       "skinparam wrapWidth 300\r\n",
       "hide circle\r\n",
       "\r\n",
       "package \"Q\" as E1  [[psysml:427a19be-4ba6-433c-b392-6823bf74d458 ]]  {\r\n",
       "comp def \"F\" as E2  <<(T,blue) part def>> [[psysml:027effde-34e9-4491-ba0c-9f82cacaad23 ]] {\r\n",
       "}\r\n",
       "comp usage \"a\" as E3  <<(T,blue) part>> [[psysml:241a9b2a-e9cc-4b19-964a-2424b61c0639 ]] {\r\n",
       "}\r\n",
       "comp usage \"f: F\" as E4  <<(T,blue) part>> [[psysml:40835df5-3f1f-4886-9446-1465d21ad736 ]] {\r\n",
       "}\r\n",
       "comp def \"A\" as E5  <<(T,blue) part def>> [[psysml:299c2c32-5ec1-43b2-a066-b7748b01150c ]] {\r\n",
       "}\r\n",
       "comp usage \"g\" as E6  <<(T,blue) part>> [[psysml:31dec55f-8acf-4d42-bd51-f4047894820c ]] {\r\n",
       "}\r\n",
       "comp def \"B\" as E7  <<(T,blue) part def>> [[psysml:e57a8ff4-b454-49af-9671-50f81189572a ]] {\r\n",
       "}\r\n",
       "comp usage \"f: F\" as E8  <<(T,blue) part>> [[psysml:ae9b8861-e9cc-45e7-97b3-375fd90ac7d9 ]] {\r\n",
       "}\r\n",
       "comp usage \"a: A\" as E9  <<(T,blue) part>> [[psysml:d620b19b-a1e2-497d-8cad-3b2dc38fedc0 ]] {\r\n",
       "}\r\n",
       "comp usage \"b: B\" as E10  <<(T,blue) part>> [[psysml:f9a1a989-561d-4119-971e-8ebceafa94b4 ]] {\r\n",
       "}\r\n",
       "E2 *- - E3 [[psysml:5ee10b2b-55c1-4a08-a13b-bdb74e3f50e5 ]] \r\n",
       "E4 - -:|> E2 [[psysml:c4c1c0e2-eca3-4dc3-a203-c30912c3ab2b ]] \r\n",
       "E5 *- - E6 [[psysml:93463b7d-149f-4a15-b84b-177a9e530eda ]] \r\n",
       "E7 *- - E8 [[psysml:de6f8f38-3125-456b-a954-15a696931b63 ]] \r\n",
       "E8 - -:|> E2 [[psysml:536a95df-7241-4403-bcab-1aa9fe7a4b7d ]] \r\n",
       "E7 *- - E9 [[psysml:2c441a1b-e979-4985-bcd5-61f8c13172d0 ]] \r\n",
       "E9 - -:|> E5 [[psysml:fc8a5d52-f7b0-45e1-9a4f-1e932b65f071 ]] \r\n",
       "E10 - -:|> E7 [[psysml:2e3833d6-0a03-41e5-9593-325ba84dff2e ]] \r\n",
       "}\r\n",
       "@enduml\r\n",
       "\n",
       "PlantUML version 1.2020.13(Sat Jun 13 12:26:38 UTC 2020)\n",
       "(EPL source distribution)\n",
       "Java Runtime: OpenJDK Runtime Environment\n",
       "JVM: OpenJDK 64-Bit Server VM\n",
       "Default Encoding: UTF-8\n",
       "Language: en\n",
       "Country: null\n",
       "--></g></svg>"
      ]
     },
     "execution_count": 38,
     "metadata": {},
     "output_type": "execute_result"
    }
   ],
   "source": [
    "%viz --style=\"DEFAULT\" --view=\"Tree\" \"Q\""
   ]
  },
  {
   "cell_type": "code",
   "execution_count": 39,
   "id": "e1a81321",
   "metadata": {
    "execution": {
     "iopub.execute_input": "2021-06-30T09:23:35.203603Z",
     "iopub.status.busy": "2021-06-30T09:23:35.202321Z",
     "iopub.status.idle": "2021-06-30T09:23:35.213760Z",
     "shell.execute_reply": "2021-06-30T09:23:35.213086Z"
    }
   },
   "outputs": [
    {
     "data": {
      "image/svg+xml": [
       "<?xml version=\"1.0\" encoding=\"UTF-8\" standalone=\"no\"?><svg xmlns=\"http://www.w3.org/2000/svg\" xmlns:xlink=\"http://www.w3.org/1999/xlink\" contentScriptType=\"application/ecmascript\" contentStyleType=\"text/css\" height=\"12px\" preserveAspectRatio=\"none\" style=\"width:12px;height:12px;\" version=\"1.1\" viewBox=\"0 0 12 12\" width=\"12px\" zoomAndPan=\"magnify\"><defs/><g><!--MD5=[c5f280e076d0d61ccf4b0f27871bda1d]\n",
       "@startuml\r\n",
       "skinparam monochrome true\r\n",
       "skinparam classbackgroundcolor white\r\n",
       "skinparam shadowing false\r\n",
       "skinparam wrapWidth 300\r\n",
       "hide circle\r\n",
       "\r\n",
       "@enduml\r\n",
       "\n",
       "PlantUML version 1.2020.13(Sat Jun 13 12:26:38 UTC 2020)\n",
       "(EPL source distribution)\n",
       "Java Runtime: OpenJDK Runtime Environment\n",
       "JVM: OpenJDK 64-Bit Server VM\n",
       "Default Encoding: UTF-8\n",
       "Language: en\n",
       "Country: null\n",
       "--></g></svg>"
      ]
     },
     "execution_count": 39,
     "metadata": {},
     "output_type": "execute_result"
    }
   ],
   "source": [
    "%viz --style=\"DEFAULT\" --view=\"State\" \"Q\""
   ]
  },
  {
   "cell_type": "code",
   "execution_count": 40,
   "id": "5f0469a5",
   "metadata": {
    "execution": {
     "iopub.execute_input": "2021-06-30T09:23:35.264068Z",
     "iopub.status.busy": "2021-06-30T09:23:35.263085Z",
     "iopub.status.idle": "2021-06-30T09:23:35.357711Z",
     "shell.execute_reply": "2021-06-30T09:23:35.357084Z"
    }
   },
   "outputs": [
    {
     "data": {
      "image/svg+xml": [
       "<?xml version=\"1.0\" encoding=\"UTF-8\" standalone=\"no\"?><svg xmlns=\"http://www.w3.org/2000/svg\" xmlns:xlink=\"http://www.w3.org/1999/xlink\" contentScriptType=\"application/ecmascript\" contentStyleType=\"text/css\" height=\"374px\" preserveAspectRatio=\"none\" style=\"width:616px;height:374px;\" version=\"1.1\" viewBox=\"0 0 616 374\" width=\"616px\" zoomAndPan=\"magnify\"><defs/><g><!--MD5=[fbc87193dbaf4d95561dea2c320d4a47]\n",
       "cluster E1--><a href=\"psysml:427a19be-4ba6-433c-b392-6823bf74d458\" target=\"_top\" title=\"psysml:427a19be-4ba6-433c-b392-6823bf74d458\" xlink:actuate=\"onRequest\" xlink:href=\"psysml:427a19be-4ba6-433c-b392-6823bf74d458\" xlink:show=\"new\" xlink:title=\"psysml:427a19be-4ba6-433c-b392-6823bf74d458\" xlink:type=\"simple\"><polygon fill=\"#FFFFFF\" points=\"16,6,34,6,41,28.2969,594,28.2969,594,362,16,362,16,6\" style=\"stroke: #000000; stroke-width: 1.5;\"/><line style=\"stroke: #000000; stroke-width: 1.5;\" x1=\"16\" x2=\"41\" y1=\"28.2969\" y2=\"28.2969\"/><text fill=\"#000000\" font-family=\"sans-serif\" font-size=\"14\" font-weight=\"bold\" lengthAdjust=\"spacingAndGlyphs\" textLength=\"12\" x=\"20\" y=\"20.9951\">Q</text></a><!--MD5=[e4f7fae6ed58524ba242bb0b0d3be6b7]\n",
       "cluster E2--><a href=\"psysml:027effde-34e9-4491-ba0c-9f82cacaad23\" target=\"_top\" title=\"psysml:027effde-34e9-4491-ba0c-9f82cacaad23\" xlink:actuate=\"onRequest\" xlink:href=\"psysml:027effde-34e9-4491-ba0c-9f82cacaad23\" xlink:show=\"new\" xlink:title=\"psysml:027effde-34e9-4491-ba0c-9f82cacaad23\" xlink:type=\"simple\"><rect fill=\"#FFFFFF\" height=\"107\" id=\"E2\" style=\"stroke: #383838; stroke-width: 1.5;\" width=\"87\" x=\"483\" y=\"92\"/><rect fill=\"#F8F8F8\" height=\"37.9375\" style=\"stroke: #383838; stroke-width: 1.5;\" width=\"87\" x=\"483\" y=\"92\"/><text fill=\"#000000\" font-family=\"sans-serif\" font-size=\"12\" font-style=\"italic\" lengthAdjust=\"spacingAndGlyphs\" textLength=\"64\" x=\"494.5\" y=\"108.1387\">«part def»</text><text fill=\"#000000\" font-family=\"sans-serif\" font-size=\"12\" lengthAdjust=\"spacingAndGlyphs\" textLength=\"7\" x=\"523\" y=\"122.1074\">F</text></a><!--MD5=[f6df4d0ebaf0b5dfb2ced0ae5af7c670]\n",
       "cluster E4--><a href=\"psysml:40835df5-3f1f-4886-9446-1465d21ad736\" target=\"_top\" title=\"psysml:40835df5-3f1f-4886-9446-1465d21ad736\" xlink:actuate=\"onRequest\" xlink:href=\"psysml:40835df5-3f1f-4886-9446-1465d21ad736\" xlink:show=\"new\" xlink:title=\"psysml:40835df5-3f1f-4886-9446-1465d21ad736\" xlink:type=\"simple\"><rect fill=\"#FFFFFF\" height=\"91\" id=\"E4\" rx=\"10\" ry=\"10\" style=\"stroke: #383838; stroke-width: 1.5;\" width=\"82\" x=\"377\" y=\"108\"/><rect fill=\"#F8F8F8\" height=\"23.9688\" rx=\"10\" ry=\"10\" style=\"stroke: #F8F8F8; stroke-width: 1.5;\" width=\"82\" x=\"377\" y=\"108\"/><rect fill=\"#F8F8F8\" height=\"10\" style=\"stroke: #F8F8F8; stroke-width: 1.5;\" width=\"82\" x=\"377\" y=\"121.9688\"/><rect fill=\"none\" height=\"91\" id=\"E4\" rx=\"10\" ry=\"10\" style=\"stroke: #383838; stroke-width: 1.5;\" width=\"82\" x=\"377\" y=\"108\"/><text fill=\"#000000\" font-family=\"sans-serif\" font-size=\"12\" lengthAdjust=\"spacingAndGlyphs\" textLength=\"19\" x=\"408.5\" y=\"124.1387\">f: F</text><line style=\"stroke: #383838; stroke-width: 1.0;\" x1=\"377\" x2=\"459\" y1=\"131.9688\" y2=\"131.9688\"/></a><!--MD5=[14e3b0961a2654348d326746436168a1]\n",
       "cluster E6--><a href=\"psysml:299c2c32-5ec1-43b2-a066-b7748b01150c\" target=\"_top\" title=\"psysml:299c2c32-5ec1-43b2-a066-b7748b01150c\" xlink:actuate=\"onRequest\" xlink:href=\"psysml:299c2c32-5ec1-43b2-a066-b7748b01150c\" xlink:show=\"new\" xlink:title=\"psysml:299c2c32-5ec1-43b2-a066-b7748b01150c\" xlink:type=\"simple\"><rect fill=\"#FFFFFF\" height=\"107\" id=\"E6\" style=\"stroke: #383838; stroke-width: 1.5;\" width=\"87\" x=\"266\" y=\"92\"/><rect fill=\"#F8F8F8\" height=\"37.9375\" style=\"stroke: #383838; stroke-width: 1.5;\" width=\"87\" x=\"266\" y=\"92\"/><text fill=\"#000000\" font-family=\"sans-serif\" font-size=\"12\" font-style=\"italic\" lengthAdjust=\"spacingAndGlyphs\" textLength=\"64\" x=\"277.5\" y=\"108.1387\">«part def»</text><text fill=\"#000000\" font-family=\"sans-serif\" font-size=\"12\" lengthAdjust=\"spacingAndGlyphs\" textLength=\"8\" x=\"305.5\" y=\"122.1074\">A</text></a><!--MD5=[55dfccfc6c49c2d10cd1bd2211a6c90c]\n",
       "cluster E8--><a href=\"psysml:e57a8ff4-b454-49af-9671-50f81189572a\" target=\"_top\" title=\"psysml:e57a8ff4-b454-49af-9671-50f81189572a\" xlink:actuate=\"onRequest\" xlink:href=\"psysml:e57a8ff4-b454-49af-9671-50f81189572a\" xlink:show=\"new\" xlink:title=\"psysml:e57a8ff4-b454-49af-9671-50f81189572a\" xlink:type=\"simple\"><rect fill=\"#FFFFFF\" height=\"289\" id=\"E8\" style=\"stroke: #383838; stroke-width: 1.5;\" width=\"144\" x=\"98\" y=\"49\"/><rect fill=\"#F8F8F8\" height=\"37.9375\" style=\"stroke: #383838; stroke-width: 1.5;\" width=\"144\" x=\"98\" y=\"49\"/><text fill=\"#000000\" font-family=\"sans-serif\" font-size=\"12\" font-style=\"italic\" lengthAdjust=\"spacingAndGlyphs\" textLength=\"64\" x=\"138\" y=\"65.1387\">«part def»</text><text fill=\"#000000\" font-family=\"sans-serif\" font-size=\"12\" lengthAdjust=\"spacingAndGlyphs\" textLength=\"8\" x=\"166\" y=\"79.1074\">B</text></a><!--MD5=[7f149f147074ac12df2cb0a7728a5fb0]\n",
       "cluster E9--><a href=\"psysml:ae9b8861-e9cc-45e7-97b3-375fd90ac7d9\" target=\"_top\" title=\"psysml:ae9b8861-e9cc-45e7-97b3-375fd90ac7d9\" xlink:actuate=\"onRequest\" xlink:href=\"psysml:ae9b8861-e9cc-45e7-97b3-375fd90ac7d9\" xlink:show=\"new\" xlink:title=\"psysml:ae9b8861-e9cc-45e7-97b3-375fd90ac7d9\" xlink:type=\"simple\"><rect fill=\"#FFFFFF\" height=\"91\" id=\"E9\" rx=\"10\" ry=\"10\" style=\"stroke: #383838; stroke-width: 1.5;\" width=\"82\" x=\"129\" y=\"223\"/><rect fill=\"#F8F8F8\" height=\"23.9688\" rx=\"10\" ry=\"10\" style=\"stroke: #F8F8F8; stroke-width: 1.5;\" width=\"82\" x=\"129\" y=\"223\"/><rect fill=\"#F8F8F8\" height=\"10\" style=\"stroke: #F8F8F8; stroke-width: 1.5;\" width=\"82\" x=\"129\" y=\"236.9688\"/><rect fill=\"none\" height=\"91\" id=\"E9\" rx=\"10\" ry=\"10\" style=\"stroke: #383838; stroke-width: 1.5;\" width=\"82\" x=\"129\" y=\"223\"/><text fill=\"#000000\" font-family=\"sans-serif\" font-size=\"12\" lengthAdjust=\"spacingAndGlyphs\" textLength=\"19\" x=\"160.5\" y=\"239.1387\">f: F</text><line style=\"stroke: #383838; stroke-width: 1.0;\" x1=\"129\" x2=\"211\" y1=\"246.9688\" y2=\"246.9688\"/></a><!--MD5=[917b9dd0c7eca3ee5f47219d1a84c0ad]\n",
       "cluster E11--><a href=\"psysml:d620b19b-a1e2-497d-8cad-3b2dc38fedc0\" target=\"_top\" title=\"psysml:d620b19b-a1e2-497d-8cad-3b2dc38fedc0\" xlink:actuate=\"onRequest\" xlink:href=\"psysml:d620b19b-a1e2-497d-8cad-3b2dc38fedc0\" xlink:show=\"new\" xlink:title=\"psysml:d620b19b-a1e2-497d-8cad-3b2dc38fedc0\" xlink:type=\"simple\"><rect fill=\"#FFFFFF\" height=\"91\" id=\"E11\" rx=\"10\" ry=\"10\" style=\"stroke: #383838; stroke-width: 1.5;\" width=\"96\" x=\"122\" y=\"108\"/><rect fill=\"#F8F8F8\" height=\"23.9688\" rx=\"10\" ry=\"10\" style=\"stroke: #F8F8F8; stroke-width: 1.5;\" width=\"96\" x=\"122\" y=\"108\"/><rect fill=\"#F8F8F8\" height=\"10\" style=\"stroke: #F8F8F8; stroke-width: 1.5;\" width=\"96\" x=\"122\" y=\"121.9688\"/><rect fill=\"none\" height=\"91\" id=\"E11\" rx=\"10\" ry=\"10\" style=\"stroke: #383838; stroke-width: 1.5;\" width=\"96\" x=\"122\" y=\"108\"/><text fill=\"#000000\" font-family=\"sans-serif\" font-size=\"12\" lengthAdjust=\"spacingAndGlyphs\" textLength=\"24\" x=\"158\" y=\"124.1387\">a: A</text><line style=\"stroke: #383838; stroke-width: 1.0;\" x1=\"122\" x2=\"218\" y1=\"131.9688\" y2=\"131.9688\"/></a><g id=\"E1.E2.E3\"><a href=\"psysml:241a9b2a-e9cc-4b19-964a-2424b61c0639\" target=\"_top\" title=\"psysml:241a9b2a-e9cc-4b19-964a-2424b61c0639\" xlink:actuate=\"onRequest\" xlink:href=\"psysml:241a9b2a-e9cc-4b19-964a-2424b61c0639\" xlink:show=\"new\" xlink:title=\"psysml:241a9b2a-e9cc-4b19-964a-2424b61c0639\" xlink:type=\"simple\"><rect fill=\"#FFFFFF\" height=\"40\" id=\"E3\" rx=\"10\" ry=\"10\" style=\"stroke: #383838; stroke-width: 1.5;\" width=\"50\" x=\"501\" y=\"143\"/><rect fill=\"#F8F8F8\" height=\"23.9688\" rx=\"10\" ry=\"10\" style=\"stroke: #F8F8F8; stroke-width: 1.5;\" width=\"50\" x=\"501\" y=\"143\"/><rect fill=\"#F8F8F8\" height=\"10\" style=\"stroke: #F8F8F8; stroke-width: 1.5;\" width=\"50\" x=\"501\" y=\"156.9688\"/><rect fill=\"none\" height=\"40\" id=\"E3\" rx=\"10\" ry=\"10\" style=\"stroke: #383838; stroke-width: 1.5;\" width=\"50\" x=\"501\" y=\"143\"/><text fill=\"#000000\" font-family=\"sans-serif\" font-size=\"12\" lengthAdjust=\"spacingAndGlyphs\" textLength=\"8\" x=\"522\" y=\"159.1387\">a</text></a></g><g id=\"E1.E4.E5\"><a href=\"psysml:241a9b2a-e9cc-4b19-964a-2424b61c0639\" target=\"_top\" title=\"psysml:241a9b2a-e9cc-4b19-964a-2424b61c0639\" xlink:actuate=\"onRequest\" xlink:href=\"psysml:241a9b2a-e9cc-4b19-964a-2424b61c0639\" xlink:show=\"new\" xlink:title=\"psysml:241a9b2a-e9cc-4b19-964a-2424b61c0639\" xlink:type=\"simple\"><rect fill=\"#FFFFFF\" height=\"40\" id=\"E5\" rx=\"10\" ry=\"10\" style=\"stroke: #383838; stroke-width: 1.5;\" width=\"50\" x=\"393\" y=\"143\"/><rect fill=\"#F8F8F8\" height=\"23.9688\" rx=\"10\" ry=\"10\" style=\"stroke: #F8F8F8; stroke-width: 1.5;\" width=\"50\" x=\"393\" y=\"143\"/><rect fill=\"#F8F8F8\" height=\"10\" style=\"stroke: #F8F8F8; stroke-width: 1.5;\" width=\"50\" x=\"393\" y=\"156.9688\"/><rect fill=\"none\" height=\"40\" id=\"E5\" rx=\"10\" ry=\"10\" style=\"stroke: #383838; stroke-width: 1.5;\" width=\"50\" x=\"393\" y=\"143\"/><text fill=\"#000000\" font-family=\"sans-serif\" font-size=\"12\" lengthAdjust=\"spacingAndGlyphs\" textLength=\"18\" x=\"409\" y=\"159.1387\">^a</text></a></g><g id=\"E1.E6.E7\"><a href=\"psysml:31dec55f-8acf-4d42-bd51-f4047894820c\" target=\"_top\" title=\"psysml:31dec55f-8acf-4d42-bd51-f4047894820c\" xlink:actuate=\"onRequest\" xlink:href=\"psysml:31dec55f-8acf-4d42-bd51-f4047894820c\" xlink:show=\"new\" xlink:title=\"psysml:31dec55f-8acf-4d42-bd51-f4047894820c\" xlink:type=\"simple\"><rect fill=\"#FFFFFF\" height=\"40\" id=\"E7\" rx=\"10\" ry=\"10\" style=\"stroke: #383838; stroke-width: 1.5;\" width=\"53\" x=\"282.5\" y=\"143\"/><rect fill=\"#F8F8F8\" height=\"23.9688\" rx=\"10\" ry=\"10\" style=\"stroke: #F8F8F8; stroke-width: 1.5;\" width=\"53\" x=\"282.5\" y=\"143\"/><rect fill=\"#F8F8F8\" height=\"10\" style=\"stroke: #F8F8F8; stroke-width: 1.5;\" width=\"53\" x=\"282.5\" y=\"156.9688\"/><rect fill=\"none\" height=\"40\" id=\"E7\" rx=\"10\" ry=\"10\" style=\"stroke: #383838; stroke-width: 1.5;\" width=\"53\" x=\"282.5\" y=\"143\"/><text fill=\"#000000\" font-family=\"sans-serif\" font-size=\"12\" lengthAdjust=\"spacingAndGlyphs\" textLength=\"38\" x=\"288\" y=\"159.1387\">g=f.a;</text></a></g><g id=\"E1.E8.E9.E10\"><a href=\"psysml:241a9b2a-e9cc-4b19-964a-2424b61c0639\" target=\"_top\" title=\"psysml:241a9b2a-e9cc-4b19-964a-2424b61c0639\" xlink:actuate=\"onRequest\" xlink:href=\"psysml:241a9b2a-e9cc-4b19-964a-2424b61c0639\" xlink:show=\"new\" xlink:title=\"psysml:241a9b2a-e9cc-4b19-964a-2424b61c0639\" xlink:type=\"simple\"><rect fill=\"#FFFFFF\" height=\"40\" id=\"E10\" rx=\"10\" ry=\"10\" style=\"stroke: #383838; stroke-width: 1.5;\" width=\"50\" x=\"145\" y=\"258\"/><rect fill=\"#F8F8F8\" height=\"23.9688\" rx=\"10\" ry=\"10\" style=\"stroke: #F8F8F8; stroke-width: 1.5;\" width=\"50\" x=\"145\" y=\"258\"/><rect fill=\"#F8F8F8\" height=\"10\" style=\"stroke: #F8F8F8; stroke-width: 1.5;\" width=\"50\" x=\"145\" y=\"271.9688\"/><rect fill=\"none\" height=\"40\" id=\"E10\" rx=\"10\" ry=\"10\" style=\"stroke: #383838; stroke-width: 1.5;\" width=\"50\" x=\"145\" y=\"258\"/><text fill=\"#000000\" font-family=\"sans-serif\" font-size=\"12\" lengthAdjust=\"spacingAndGlyphs\" textLength=\"18\" x=\"161\" y=\"274.1387\">^a</text></a></g><g id=\"E1.E8.E11.E12\"><a href=\"psysml:31dec55f-8acf-4d42-bd51-f4047894820c\" target=\"_top\" title=\"psysml:31dec55f-8acf-4d42-bd51-f4047894820c\" xlink:actuate=\"onRequest\" xlink:href=\"psysml:31dec55f-8acf-4d42-bd51-f4047894820c\" xlink:show=\"new\" xlink:title=\"psysml:31dec55f-8acf-4d42-bd51-f4047894820c\" xlink:type=\"simple\"><rect fill=\"#FFFFFF\" height=\"40\" id=\"E12\" rx=\"10\" ry=\"10\" style=\"stroke: #383838; stroke-width: 1.5;\" width=\"63\" x=\"138.5\" y=\"143\"/><rect fill=\"#F8F8F8\" height=\"23.9688\" rx=\"10\" ry=\"10\" style=\"stroke: #F8F8F8; stroke-width: 1.5;\" width=\"63\" x=\"138.5\" y=\"143\"/><rect fill=\"#F8F8F8\" height=\"10\" style=\"stroke: #F8F8F8; stroke-width: 1.5;\" width=\"63\" x=\"138.5\" y=\"156.9688\"/><rect fill=\"none\" height=\"40\" id=\"E12\" rx=\"10\" ry=\"10\" style=\"stroke: #383838; stroke-width: 1.5;\" width=\"63\" x=\"138.5\" y=\"143\"/><text fill=\"#000000\" font-family=\"sans-serif\" font-size=\"12\" lengthAdjust=\"spacingAndGlyphs\" textLength=\"48\" x=\"144\" y=\"159.1387\">^g=f.a;</text></a></g><g id=\"E1.E13\"><a href=\"psysml:f9a1a989-561d-4119-971e-8ebceafa94b4\" target=\"_top\" title=\"psysml:f9a1a989-561d-4119-971e-8ebceafa94b4\" xlink:actuate=\"onRequest\" xlink:href=\"psysml:f9a1a989-561d-4119-971e-8ebceafa94b4\" xlink:show=\"new\" xlink:title=\"psysml:f9a1a989-561d-4119-971e-8ebceafa94b4\" xlink:type=\"simple\"><rect fill=\"#FFFFFF\" height=\"40\" id=\"E13\" rx=\"10\" ry=\"10\" style=\"stroke: #383838; stroke-width: 1.5;\" width=\"50\" x=\"32\" y=\"143\"/><rect fill=\"#F8F8F8\" height=\"23.9688\" rx=\"10\" ry=\"10\" style=\"stroke: #F8F8F8; stroke-width: 1.5;\" width=\"50\" x=\"32\" y=\"143\"/><rect fill=\"#F8F8F8\" height=\"10\" style=\"stroke: #F8F8F8; stroke-width: 1.5;\" width=\"50\" x=\"32\" y=\"156.9688\"/><rect fill=\"none\" height=\"40\" id=\"E13\" rx=\"10\" ry=\"10\" style=\"stroke: #383838; stroke-width: 1.5;\" width=\"50\" x=\"32\" y=\"143\"/><text fill=\"#000000\" font-family=\"sans-serif\" font-size=\"12\" lengthAdjust=\"spacingAndGlyphs\" textLength=\"24\" x=\"45\" y=\"159.1387\">b: B</text></a></g><!--MD5=[65481eef76a7486101c58ded21a552db]\n",
       "link E12 to E10--><a href=\"psysml:d897c185-bd23-4685-b4dd-90f768e45c35\" target=\"_top\" title=\"psysml:d897c185-bd23-4685-b4dd-90f768e45c35\" xlink:actuate=\"onRequest\" xlink:href=\"psysml:d897c185-bd23-4685-b4dd-90f768e45c35\" xlink:show=\"new\" xlink:title=\"psysml:d897c185-bd23-4685-b4dd-90f768e45c35\" xlink:type=\"simple\"><path d=\"M160.15,183.17 C156.29,203.95 156.28,236.92 160.13,257.74 \" fill=\"none\" id=\"E12-E10\" style=\"stroke: #383838; stroke-width: 3.0;\"/></a><!--MD5=[65481eef76a7486101c58ded21a552db]\n",
       "link E12 to E10--><a href=\"psysml:a65e9cd3-f7a6-42d1-a2aa-d32628740aff\" target=\"_top\" title=\"psysml:a65e9cd3-f7a6-42d1-a2aa-d32628740aff\" xlink:actuate=\"onRequest\" xlink:href=\"psysml:a65e9cd3-f7a6-42d1-a2aa-d32628740aff\" xlink:show=\"new\" xlink:title=\"psysml:a65e9cd3-f7a6-42d1-a2aa-d32628740aff\" xlink:type=\"simple\"><path d=\"M180.43,183.17 C184.52,203.95 184.52,236.92 180.45,257.74 \" fill=\"none\" id=\"E12-E10-1\" style=\"stroke: #383838; stroke-width: 5.0;\"/></a><!--MD5=[c9b5ccd3ed1ced383d26ffea598159ad]\n",
       "@startuml\r\n",
       "skinparam ranksep 10\r\n",
       "skinparam rectangle {\r\n",
       " backgroundColor<<block>> LightGreen\r\n",
       "}\r\n",
       "skinparam monochrome true\r\n",
       "skinparam classbackgroundcolor white\r\n",
       "skinparam shadowing false\r\n",
       "skinparam wrapWidth 300\r\n",
       "hide circle\r\n",
       "\r\n",
       "package \"Q\" as E1  [[psysml:427a19be-4ba6-433c-b392-6823bf74d458 ]]  {\r\n",
       "rec def \"F\" as E2  <<(T,blue) part def>> [[psysml:027effde-34e9-4491-ba0c-9f82cacaad23 ]] {\r\n",
       "rec usage \"a\" as E3  [[psysml:241a9b2a-e9cc-4b19-964a-2424b61c0639 ]] {\r\n",
       "}\r\n",
       "}\r\n",
       "rec usage \"f: F\" as E4  [[psysml:40835df5-3f1f-4886-9446-1465d21ad736 ]] {\r\n",
       "rec usage \"^a\" as E5  [[psysml:241a9b2a-e9cc-4b19-964a-2424b61c0639 ]] {\r\n",
       "}\r\n",
       "}\r\n",
       "rec def \"A\" as E6  <<(T,blue) part def>> [[psysml:299c2c32-5ec1-43b2-a066-b7748b01150c ]] {\r\n",
       "rec usage \"g=f.a; \" as E7  [[psysml:31dec55f-8acf-4d42-bd51-f4047894820c ]] {\r\n",
       "}\r\n",
       "}\r\n",
       "rec def \"B\" as E8  <<(T,blue) part def>> [[psysml:e57a8ff4-b454-49af-9671-50f81189572a ]] {\r\n",
       "rec usage \"f: F\" as E9  [[psysml:ae9b8861-e9cc-45e7-97b3-375fd90ac7d9 ]] {\r\n",
       "rec usage \"^a\" as E10  [[psysml:241a9b2a-e9cc-4b19-964a-2424b61c0639 ]] {\r\n",
       "}\r\n",
       "}\r\n",
       "rec usage \"a: A\" as E11  [[psysml:d620b19b-a1e2-497d-8cad-3b2dc38fedc0 ]] {\r\n",
       "rec usage \"^g=f.a; \" as E12  [[psysml:31dec55f-8acf-4d42-bd51-f4047894820c ]] {\r\n",
       "}\r\n",
       "}\r\n",
       "}\r\n",
       "rec usage \"b: B\" as E13  [[psysml:f9a1a989-561d-4119-971e-8ebceafa94b4 ]] {\r\n",
       "}\r\n",
       "E12 -[thickness=3]- E10 [[psysml:d897c185-bd23-4685-b4dd-90f768e45c35 ]] \r\n",
       "E12 -[thickness=5]- E10 [[psysml:a65e9cd3-f7a6-42d1-a2aa-d32628740aff ]] \r\n",
       "}\r\n",
       "@enduml\r\n",
       "\n",
       "PlantUML version 1.2020.13(Sat Jun 13 12:26:38 UTC 2020)\n",
       "(EPL source distribution)\n",
       "Java Runtime: OpenJDK Runtime Environment\n",
       "JVM: OpenJDK 64-Bit Server VM\n",
       "Default Encoding: UTF-8\n",
       "Language: en\n",
       "Country: null\n",
       "--></g></svg>"
      ]
     },
     "execution_count": 40,
     "metadata": {},
     "output_type": "execute_result"
    }
   ],
   "source": [
    "%viz --style=\"DEFAULT\" --view=\"Interconnection\" \"Q\""
   ]
  },
  {
   "cell_type": "code",
   "execution_count": 41,
   "id": "33e9ded1",
   "metadata": {
    "execution": {
     "iopub.execute_input": "2021-06-30T09:23:35.408029Z",
     "iopub.status.busy": "2021-06-30T09:23:35.407261Z",
     "iopub.status.idle": "2021-06-30T09:23:35.422366Z",
     "shell.execute_reply": "2021-06-30T09:23:35.421469Z"
    }
   },
   "outputs": [
    {
     "data": {
      "image/svg+xml": [
       "<?xml version=\"1.0\" encoding=\"UTF-8\" standalone=\"no\"?><svg xmlns=\"http://www.w3.org/2000/svg\" xmlns:xlink=\"http://www.w3.org/1999/xlink\" contentScriptType=\"application/ecmascript\" contentStyleType=\"text/css\" height=\"12px\" preserveAspectRatio=\"none\" style=\"width:12px;height:12px;\" version=\"1.1\" viewBox=\"0 0 12 12\" width=\"12px\" zoomAndPan=\"magnify\"><defs/><g><!--MD5=[388f21188e31bfdd97050473b19af356]\n",
       "@startuml\r\n",
       "skinparam ranksep 8\r\n",
       "skinparam monochrome true\r\n",
       "skinparam classbackgroundcolor white\r\n",
       "skinparam shadowing false\r\n",
       "skinparam wrapWidth 300\r\n",
       "hide circle\r\n",
       "\r\n",
       "@enduml\r\n",
       "\n",
       "PlantUML version 1.2020.13(Sat Jun 13 12:26:38 UTC 2020)\n",
       "(EPL source distribution)\n",
       "Java Runtime: OpenJDK Runtime Environment\n",
       "JVM: OpenJDK 64-Bit Server VM\n",
       "Default Encoding: UTF-8\n",
       "Language: en\n",
       "Country: null\n",
       "--></g></svg>"
      ]
     },
     "execution_count": 41,
     "metadata": {},
     "output_type": "execute_result"
    }
   ],
   "source": [
    "%viz --style=\"DEFAULT\" --view=\"Action\" \"Q\""
   ]
  },
  {
   "cell_type": "code",
   "execution_count": 42,
   "id": "ad46bf07",
   "metadata": {
    "execution": {
     "iopub.execute_input": "2021-06-30T09:23:35.474336Z",
     "iopub.status.busy": "2021-06-30T09:23:35.472776Z",
     "iopub.status.idle": "2021-06-30T09:23:35.563168Z",
     "shell.execute_reply": "2021-06-30T09:23:35.562630Z"
    }
   },
   "outputs": [
    {
     "data": {
      "image/svg+xml": [
       "<?xml version=\"1.0\" encoding=\"UTF-8\" standalone=\"no\"?><svg xmlns=\"http://www.w3.org/2000/svg\" xmlns:xlink=\"http://www.w3.org/1999/xlink\" contentScriptType=\"application/ecmascript\" contentStyleType=\"text/css\" height=\"539px\" preserveAspectRatio=\"none\" style=\"width:266px;height:539px;\" version=\"1.1\" viewBox=\"0 0 266 539\" width=\"266px\" zoomAndPan=\"magnify\"><defs/><g><!--MD5=[fbc87193dbaf4d95561dea2c320d4a47]\n",
       "cluster E1--><a href=\"psysml:427a19be-4ba6-433c-b392-6823bf74d458\" target=\"_top\" title=\"psysml:427a19be-4ba6-433c-b392-6823bf74d458\" xlink:actuate=\"onRequest\" xlink:href=\"psysml:427a19be-4ba6-433c-b392-6823bf74d458\" xlink:show=\"new\" xlink:title=\"psysml:427a19be-4ba6-433c-b392-6823bf74d458\" xlink:type=\"simple\"><polygon fill=\"#FFFFFF\" points=\"16,6,34,6,41,28.2969,244,28.2969,244,527,16,527,16,6\" style=\"stroke: #000000; stroke-width: 1.5;\"/><line style=\"stroke: #000000; stroke-width: 1.5;\" x1=\"16\" x2=\"41\" y1=\"28.2969\" y2=\"28.2969\"/><text fill=\"#000000\" font-family=\"sans-serif\" font-size=\"14\" font-weight=\"bold\" lengthAdjust=\"spacingAndGlyphs\" textLength=\"12\" x=\"20\" y=\"20.9951\">Q</text></a><!--MD5=[b4997ac47864f28c2f74865a473b2911]\n",
       "class E2--><a href=\"psysml:027effde-34e9-4491-ba0c-9f82cacaad23\" target=\"_top\" title=\"psysml:027effde-34e9-4491-ba0c-9f82cacaad23\" xlink:actuate=\"onRequest\" xlink:href=\"psysml:027effde-34e9-4491-ba0c-9f82cacaad23\" xlink:show=\"new\" xlink:title=\"psysml:027effde-34e9-4491-ba0c-9f82cacaad23\" xlink:type=\"simple\"><rect fill=\"#FFFFFF\" height=\"45.9375\" id=\"E2\" style=\"stroke: #383838; stroke-width: 1.5;\" width=\"66\" x=\"147\" y=\"359\"/><text fill=\"#000000\" font-family=\"sans-serif\" font-size=\"12\" font-style=\"italic\" lengthAdjust=\"spacingAndGlyphs\" textLength=\"64\" x=\"148\" y=\"375.1387\">«part def»</text><text fill=\"#000000\" font-family=\"sans-serif\" font-size=\"12\" lengthAdjust=\"spacingAndGlyphs\" textLength=\"7\" x=\"176.5\" y=\"389.1074\">F</text><line style=\"stroke: #383838; stroke-width: 1.5;\" x1=\"148\" x2=\"212\" y1=\"396.9375\" y2=\"396.9375\"/></a><!--MD5=[09b614a08d8cba4a07c9adeb5e0fee81]\n",
       "class E3--><a href=\"psysml:241a9b2a-e9cc-4b19-964a-2424b61c0639\" target=\"_top\" title=\"psysml:241a9b2a-e9cc-4b19-964a-2424b61c0639\" xlink:actuate=\"onRequest\" xlink:href=\"psysml:241a9b2a-e9cc-4b19-964a-2424b61c0639\" xlink:show=\"new\" xlink:title=\"psysml:241a9b2a-e9cc-4b19-964a-2424b61c0639\" xlink:type=\"simple\"><rect fill=\"#FFFFFF\" height=\"45.9375\" id=\"E3\" rx=\"10\" ry=\"10\" style=\"stroke: #383838; stroke-width: 1.5;\" width=\"42\" x=\"159\" y=\"465\"/><text fill=\"#000000\" font-family=\"sans-serif\" font-size=\"12\" font-style=\"italic\" lengthAdjust=\"spacingAndGlyphs\" textLength=\"40\" x=\"160\" y=\"481.1387\">«part»</text><text fill=\"#000000\" font-family=\"sans-serif\" font-size=\"12\" lengthAdjust=\"spacingAndGlyphs\" textLength=\"8\" x=\"176\" y=\"495.1074\">a</text><line style=\"stroke: #383838; stroke-width: 1.5;\" x1=\"160\" x2=\"200\" y1=\"502.9375\" y2=\"502.9375\"/></a><!--MD5=[ebbe1d658d1005bcc118a6aa81145e00]\n",
       "class E4--><a href=\"psysml:40835df5-3f1f-4886-9446-1465d21ad736\" target=\"_top\" title=\"psysml:40835df5-3f1f-4886-9446-1465d21ad736\" xlink:actuate=\"onRequest\" xlink:href=\"psysml:40835df5-3f1f-4886-9446-1465d21ad736\" xlink:show=\"new\" xlink:title=\"psysml:40835df5-3f1f-4886-9446-1465d21ad736\" xlink:type=\"simple\"><rect fill=\"#FFFFFF\" height=\"45.9375\" id=\"E4\" rx=\"10\" ry=\"10\" style=\"stroke: #383838; stroke-width: 1.5;\" width=\"42\" x=\"186\" y=\"253\"/><text fill=\"#000000\" font-family=\"sans-serif\" font-size=\"12\" font-style=\"italic\" lengthAdjust=\"spacingAndGlyphs\" textLength=\"40\" x=\"187\" y=\"269.1387\">«part»</text><text fill=\"#000000\" font-family=\"sans-serif\" font-size=\"12\" lengthAdjust=\"spacingAndGlyphs\" textLength=\"19\" x=\"197.5\" y=\"283.1074\">f: F</text><line style=\"stroke: #383838; stroke-width: 1.5;\" x1=\"187\" x2=\"227\" y1=\"290.9375\" y2=\"290.9375\"/></a><!--MD5=[270fce915f116d4de14055a7c1d9a0f3]\n",
       "class E5--><a href=\"psysml:299c2c32-5ec1-43b2-a066-b7748b01150c\" target=\"_top\" title=\"psysml:299c2c32-5ec1-43b2-a066-b7748b01150c\" xlink:actuate=\"onRequest\" xlink:href=\"psysml:299c2c32-5ec1-43b2-a066-b7748b01150c\" xlink:show=\"new\" xlink:title=\"psysml:299c2c32-5ec1-43b2-a066-b7748b01150c\" xlink:type=\"simple\"><rect fill=\"#FFFFFF\" height=\"45.9375\" id=\"E5\" style=\"stroke: #383838; stroke-width: 1.5;\" width=\"66\" x=\"32\" y=\"359\"/><text fill=\"#000000\" font-family=\"sans-serif\" font-size=\"12\" font-style=\"italic\" lengthAdjust=\"spacingAndGlyphs\" textLength=\"64\" x=\"33\" y=\"375.1387\">«part def»</text><text fill=\"#000000\" font-family=\"sans-serif\" font-size=\"12\" lengthAdjust=\"spacingAndGlyphs\" textLength=\"8\" x=\"61\" y=\"389.1074\">A</text><line style=\"stroke: #383838; stroke-width: 1.5;\" x1=\"33\" x2=\"97\" y1=\"396.9375\" y2=\"396.9375\"/></a><!--MD5=[60a26617385b1d2d0262a64233df1f8d]\n",
       "class E6--><a href=\"psysml:31dec55f-8acf-4d42-bd51-f4047894820c\" target=\"_top\" title=\"psysml:31dec55f-8acf-4d42-bd51-f4047894820c\" xlink:actuate=\"onRequest\" xlink:href=\"psysml:31dec55f-8acf-4d42-bd51-f4047894820c\" xlink:show=\"new\" xlink:title=\"psysml:31dec55f-8acf-4d42-bd51-f4047894820c\" xlink:type=\"simple\"><rect fill=\"#FFFFFF\" height=\"45.9375\" id=\"E6\" rx=\"10\" ry=\"10\" style=\"stroke: #383838; stroke-width: 1.5;\" width=\"42\" x=\"44\" y=\"465\"/><text fill=\"#000000\" font-family=\"sans-serif\" font-size=\"12\" font-style=\"italic\" lengthAdjust=\"spacingAndGlyphs\" textLength=\"40\" x=\"45\" y=\"481.1387\">«part»</text><text fill=\"#000000\" font-family=\"sans-serif\" font-size=\"12\" lengthAdjust=\"spacingAndGlyphs\" textLength=\"8\" x=\"61\" y=\"495.1074\">g</text><line style=\"stroke: #383838; stroke-width: 1.5;\" x1=\"45\" x2=\"85\" y1=\"502.9375\" y2=\"502.9375\"/></a><!--MD5=[2156ba9850f5573cc1fc38a6a4b2f02b]\n",
       "class E7--><a href=\"psysml:e57a8ff4-b454-49af-9671-50f81189572a\" target=\"_top\" title=\"psysml:e57a8ff4-b454-49af-9671-50f81189572a\" xlink:actuate=\"onRequest\" xlink:href=\"psysml:e57a8ff4-b454-49af-9671-50f81189572a\" xlink:show=\"new\" xlink:title=\"psysml:e57a8ff4-b454-49af-9671-50f81189572a\" xlink:type=\"simple\"><rect fill=\"#FFFFFF\" height=\"45.9375\" id=\"E7\" style=\"stroke: #383838; stroke-width: 1.5;\" width=\"66\" x=\"64\" y=\"147\"/><text fill=\"#000000\" font-family=\"sans-serif\" font-size=\"12\" font-style=\"italic\" lengthAdjust=\"spacingAndGlyphs\" textLength=\"64\" x=\"65\" y=\"163.1387\">«part def»</text><text fill=\"#000000\" font-family=\"sans-serif\" font-size=\"12\" lengthAdjust=\"spacingAndGlyphs\" textLength=\"8\" x=\"93\" y=\"177.1074\">B</text><line style=\"stroke: #383838; stroke-width: 1.5;\" x1=\"65\" x2=\"129\" y1=\"184.9375\" y2=\"184.9375\"/></a><!--MD5=[b9389687b975829384b498ac4b7476b2]\n",
       "class E8--><a href=\"psysml:ae9b8861-e9cc-45e7-97b3-375fd90ac7d9\" target=\"_top\" title=\"psysml:ae9b8861-e9cc-45e7-97b3-375fd90ac7d9\" xlink:actuate=\"onRequest\" xlink:href=\"psysml:ae9b8861-e9cc-45e7-97b3-375fd90ac7d9\" xlink:show=\"new\" xlink:title=\"psysml:ae9b8861-e9cc-45e7-97b3-375fd90ac7d9\" xlink:type=\"simple\"><rect fill=\"#FFFFFF\" height=\"45.9375\" id=\"E8\" rx=\"10\" ry=\"10\" style=\"stroke: #383838; stroke-width: 1.5;\" width=\"42\" x=\"109\" y=\"253\"/><text fill=\"#000000\" font-family=\"sans-serif\" font-size=\"12\" font-style=\"italic\" lengthAdjust=\"spacingAndGlyphs\" textLength=\"40\" x=\"110\" y=\"269.1387\">«part»</text><text fill=\"#000000\" font-family=\"sans-serif\" font-size=\"12\" lengthAdjust=\"spacingAndGlyphs\" textLength=\"19\" x=\"120.5\" y=\"283.1074\">f: F</text><line style=\"stroke: #383838; stroke-width: 1.5;\" x1=\"110\" x2=\"150\" y1=\"290.9375\" y2=\"290.9375\"/></a><!--MD5=[fd4143e9d270a159db93a4ea2a975926]\n",
       "class E9--><a href=\"psysml:d620b19b-a1e2-497d-8cad-3b2dc38fedc0\" target=\"_top\" title=\"psysml:d620b19b-a1e2-497d-8cad-3b2dc38fedc0\" xlink:actuate=\"onRequest\" xlink:href=\"psysml:d620b19b-a1e2-497d-8cad-3b2dc38fedc0\" xlink:show=\"new\" xlink:title=\"psysml:d620b19b-a1e2-497d-8cad-3b2dc38fedc0\" xlink:type=\"simple\"><rect fill=\"#FFFFFF\" height=\"45.9375\" id=\"E9\" rx=\"10\" ry=\"10\" style=\"stroke: #383838; stroke-width: 1.5;\" width=\"42\" x=\"32\" y=\"253\"/><text fill=\"#000000\" font-family=\"sans-serif\" font-size=\"12\" font-style=\"italic\" lengthAdjust=\"spacingAndGlyphs\" textLength=\"40\" x=\"33\" y=\"269.1387\">«part»</text><text fill=\"#000000\" font-family=\"sans-serif\" font-size=\"12\" lengthAdjust=\"spacingAndGlyphs\" textLength=\"24\" x=\"41\" y=\"283.1074\">a: A</text><line style=\"stroke: #383838; stroke-width: 1.5;\" x1=\"33\" x2=\"73\" y1=\"290.9375\" y2=\"290.9375\"/></a><!--MD5=[96f4274e9e20536e775497830990834d]\n",
       "class E10--><a href=\"psysml:f9a1a989-561d-4119-971e-8ebceafa94b4\" target=\"_top\" title=\"psysml:f9a1a989-561d-4119-971e-8ebceafa94b4\" xlink:actuate=\"onRequest\" xlink:href=\"psysml:f9a1a989-561d-4119-971e-8ebceafa94b4\" xlink:show=\"new\" xlink:title=\"psysml:f9a1a989-561d-4119-971e-8ebceafa94b4\" xlink:type=\"simple\"><rect fill=\"#FFFFFF\" height=\"45.9375\" id=\"E10\" rx=\"10\" ry=\"10\" style=\"stroke: #383838; stroke-width: 1.5;\" width=\"42\" x=\"76\" y=\"41\"/><text fill=\"#000000\" font-family=\"sans-serif\" font-size=\"12\" font-style=\"italic\" lengthAdjust=\"spacingAndGlyphs\" textLength=\"40\" x=\"77\" y=\"57.1387\">«part»</text><text fill=\"#000000\" font-family=\"sans-serif\" font-size=\"12\" lengthAdjust=\"spacingAndGlyphs\" textLength=\"24\" x=\"85\" y=\"71.1074\">b: B</text><line style=\"stroke: #383838; stroke-width: 1.5;\" x1=\"77\" x2=\"117\" y1=\"78.9375\" y2=\"78.9375\"/></a><!--MD5=[209b3feb70ccb6233bfe1053d122c12c]\n",
       "reverse link E2 to E3--><a href=\"psysml:5ee10b2b-55c1-4a08-a13b-bdb74e3f50e5\" target=\"_top\" title=\"psysml:5ee10b2b-55c1-4a08-a13b-bdb74e3f50e5\" xlink:actuate=\"onRequest\" xlink:href=\"psysml:5ee10b2b-55c1-4a08-a13b-bdb74e3f50e5\" xlink:show=\"new\" xlink:title=\"psysml:5ee10b2b-55c1-4a08-a13b-bdb74e3f50e5\" xlink:type=\"simple\"><path d=\"M180,418.44 C180,433.87 180,451.47 180,464.98 \" fill=\"none\" id=\"E2&lt;-E3\" style=\"stroke: #383838; stroke-width: 1.0;\"/><polygon fill=\"#383838\" points=\"180,405.06,176,411.06,180,417.06,184,411.06,180,405.06\" style=\"stroke: #383838; stroke-width: 1.0;\"/></a><!--MD5=[185131fc0dcab0a4505a2ebe144e961b]\n",
       "link E4 to E2--><a href=\"psysml:c4c1c0e2-eca3-4dc3-a203-c30912c3ab2b\" target=\"_top\" title=\"psysml:c4c1c0e2-eca3-4dc3-a203-c30912c3ab2b\" xlink:actuate=\"onRequest\" xlink:href=\"psysml:c4c1c0e2-eca3-4dc3-a203-c30912c3ab2b\" xlink:show=\"new\" xlink:title=\"psysml:c4c1c0e2-eca3-4dc3-a203-c30912c3ab2b\" xlink:type=\"simple\"><path d=\"M201.27,299.06 C198.23,310.78 194.39,325.57 190.81,339.36 \" fill=\"none\" id=\"E4-&gt;E2\" style=\"stroke: #383838; stroke-width: 1.0;\"/><polygon fill=\"#FFFFFF\" points=\"185.72,358.98,183.7221,338.8303,197.2724,342.3504,185.72,358.98\" style=\"stroke: #383838; stroke-width: 1.0;\"/><ellipse cx=\"187.091\" cy=\"333.8163\" fill=\"#383838\" rx=\"2\" ry=\"2\" style=\"stroke: #383838; stroke-width: 1.0;\"/><ellipse cx=\"196.7698\" cy=\"336.3307\" fill=\"#383838\" rx=\"2\" ry=\"2\" style=\"stroke: #383838; stroke-width: 1.0;\"/></a><!--MD5=[85d356282659285ab4b2cfe2f634dd2b]\n",
       "reverse link E5 to E6--><a href=\"psysml:93463b7d-149f-4a15-b84b-177a9e530eda\" target=\"_top\" title=\"psysml:93463b7d-149f-4a15-b84b-177a9e530eda\" xlink:actuate=\"onRequest\" xlink:href=\"psysml:93463b7d-149f-4a15-b84b-177a9e530eda\" xlink:show=\"new\" xlink:title=\"psysml:93463b7d-149f-4a15-b84b-177a9e530eda\" xlink:type=\"simple\"><path d=\"M65,418.44 C65,433.87 65,451.47 65,464.98 \" fill=\"none\" id=\"E5&lt;-E6\" style=\"stroke: #383838; stroke-width: 1.0;\"/><polygon fill=\"#383838\" points=\"65,405.06,61,411.06,65,417.06,69,411.06,65,405.06\" style=\"stroke: #383838; stroke-width: 1.0;\"/></a><!--MD5=[dc164f5e8a733ab456ef1add180e9e34]\n",
       "reverse link E7 to E8--><a href=\"psysml:de6f8f38-3125-456b-a954-15a696931b63\" target=\"_top\" title=\"psysml:de6f8f38-3125-456b-a954-15a696931b63\" xlink:actuate=\"onRequest\" xlink:href=\"psysml:de6f8f38-3125-456b-a954-15a696931b63\" xlink:show=\"new\" xlink:title=\"psysml:de6f8f38-3125-456b-a954-15a696931b63\" xlink:type=\"simple\"><path d=\"M107.95,205.49 C112.91,221.15 118.64,239.19 123.01,252.98 \" fill=\"none\" id=\"E7&lt;-E8\" style=\"stroke: #383838; stroke-width: 1.0;\"/><polygon fill=\"#383838\" points=\"104,193.06,101.9989,199.9879,107.6243,204.4996,109.6253,197.5717,104,193.06\" style=\"stroke: #383838; stroke-width: 1.0;\"/></a><!--MD5=[f1f3f9f2fc535e6147756cb86a7f2e32]\n",
       "link E8 to E2--><a href=\"psysml:536a95df-7241-4403-bcab-1aa9fe7a4b7d\" target=\"_top\" title=\"psysml:536a95df-7241-4403-bcab-1aa9fe7a4b7d\" xlink:actuate=\"onRequest\" xlink:href=\"psysml:536a95df-7241-4403-bcab-1aa9fe7a4b7d\" xlink:show=\"new\" xlink:title=\"psysml:536a95df-7241-4403-bcab-1aa9fe7a4b7d\" xlink:type=\"simple\"><path d=\"M140.6,299.06 C146.44,311.19 153.86,326.62 160.68,340.82 \" fill=\"none\" id=\"E8-&gt;E2\" style=\"stroke: #383838; stroke-width: 1.0;\"/><polygon fill=\"#FFFFFF\" points=\"169.41,358.98,154.8709,344.8869,167.4894,338.8228,169.41,358.98\" style=\"stroke: #383838; stroke-width: 1.0;\"/><ellipse cx=\"154.2046\" cy=\"338.8831\" fill=\"#383838\" rx=\"2\" ry=\"2\" style=\"stroke: #383838; stroke-width: 1.0;\"/><ellipse cx=\"163.2178\" cy=\"334.5516\" fill=\"#383838\" rx=\"2\" ry=\"2\" style=\"stroke: #383838; stroke-width: 1.0;\"/></a><!--MD5=[e4a10ef82d0e328e31cac39a31e58dda]\n",
       "reverse link E7 to E9--><a href=\"psysml:2c441a1b-e979-4985-bcd5-61f8c13172d0\" target=\"_top\" title=\"psysml:2c441a1b-e979-4985-bcd5-61f8c13172d0\" xlink:actuate=\"onRequest\" xlink:href=\"psysml:2c441a1b-e979-4985-bcd5-61f8c13172d0\" xlink:show=\"new\" xlink:title=\"psysml:2c441a1b-e979-4985-bcd5-61f8c13172d0\" xlink:type=\"simple\"><path d=\"M82.41,205.49 C75.78,221.15 68.15,239.19 62.32,252.98 \" fill=\"none\" id=\"E7&lt;-E9\" style=\"stroke: #383838; stroke-width: 1.0;\"/><polygon fill=\"#383838\" points=\"87.67,193.06,81.6505,197.0305,83.0003,204.1142,89.0199,200.1436,87.67,193.06\" style=\"stroke: #383838; stroke-width: 1.0;\"/></a><!--MD5=[bfc3ddf2e613be37104f658f09af896c]\n",
       "link E9 to E5--><a href=\"psysml:fc8a5d52-f7b0-45e1-9a4f-1e932b65f071\" target=\"_top\" title=\"psysml:fc8a5d52-f7b0-45e1-9a4f-1e932b65f071\" xlink:actuate=\"onRequest\" xlink:href=\"psysml:fc8a5d52-f7b0-45e1-9a4f-1e932b65f071\" xlink:show=\"new\" xlink:title=\"psysml:fc8a5d52-f7b0-45e1-9a4f-1e932b65f071\" xlink:type=\"simple\"><path d=\"M55.54,299.06 C56.88,310.64 58.56,325.23 60.14,338.87 \" fill=\"none\" id=\"E9-&gt;E5\" style=\"stroke: #383838; stroke-width: 1.0;\"/><polygon fill=\"#FFFFFF\" points=\"62.46,358.98,53.3347,340.9044,67.243,339.3046,62.46,358.98\" style=\"stroke: #383838; stroke-width: 1.0;\"/><ellipse cx=\"54.6702\" cy=\"335.0132\" fill=\"#383838\" rx=\"2\" ry=\"2\" style=\"stroke: #383838; stroke-width: 1.0;\"/><ellipse cx=\"64.6047\" cy=\"333.8704\" fill=\"#383838\" rx=\"2\" ry=\"2\" style=\"stroke: #383838; stroke-width: 1.0;\"/></a><!--MD5=[a919e0967d6f3de553dc51b9865a1d6d]\n",
       "link E10 to E7--><a href=\"psysml:2e3833d6-0a03-41e5-9593-325ba84dff2e\" target=\"_top\" title=\"psysml:2e3833d6-0a03-41e5-9593-325ba84dff2e\" xlink:actuate=\"onRequest\" xlink:href=\"psysml:2e3833d6-0a03-41e5-9593-325ba84dff2e\" xlink:show=\"new\" xlink:title=\"psysml:2e3833d6-0a03-41e5-9593-325ba84dff2e\" xlink:type=\"simple\"><path d=\"M97,87.06 C97,98.64 97,113.23 97,126.87 \" fill=\"none\" id=\"E10-&gt;E7\" style=\"stroke: #383838; stroke-width: 1.0;\"/><polygon fill=\"#FFFFFF\" points=\"97,146.98,90,127.98,104,127.98,97,146.98\" style=\"stroke: #383838; stroke-width: 1.0;\"/><ellipse cx=\"92\" cy=\"122.28\" fill=\"#383838\" rx=\"2\" ry=\"2\" style=\"stroke: #383838; stroke-width: 1.0;\"/><ellipse cx=\"102\" cy=\"122.28\" fill=\"#383838\" rx=\"2\" ry=\"2\" style=\"stroke: #383838; stroke-width: 1.0;\"/></a><!--MD5=[6146f19260f6ab07093f2b87ff3e1e19]\n",
       "@startuml\r\n",
       "skinparam monochrome true\r\n",
       "skinparam classbackgroundcolor white\r\n",
       "skinparam shadowing false\r\n",
       "skinparam wrapWidth 300\r\n",
       "hide circle\r\n",
       "\r\n",
       "package \"Q\" as E1  [[psysml:427a19be-4ba6-433c-b392-6823bf74d458 ]]  {\r\n",
       "comp def \"F\" as E2  <<(T,blue) part def>> [[psysml:027effde-34e9-4491-ba0c-9f82cacaad23 ]] {\r\n",
       "}\r\n",
       "comp usage \"a\" as E3  <<(T,blue) part>> [[psysml:241a9b2a-e9cc-4b19-964a-2424b61c0639 ]] {\r\n",
       "}\r\n",
       "comp usage \"f: F\" as E4  <<(T,blue) part>> [[psysml:40835df5-3f1f-4886-9446-1465d21ad736 ]] {\r\n",
       "}\r\n",
       "comp def \"A\" as E5  <<(T,blue) part def>> [[psysml:299c2c32-5ec1-43b2-a066-b7748b01150c ]] {\r\n",
       "}\r\n",
       "comp usage \"g\" as E6  <<(T,blue) part>> [[psysml:31dec55f-8acf-4d42-bd51-f4047894820c ]] {\r\n",
       "}\r\n",
       "comp def \"B\" as E7  <<(T,blue) part def>> [[psysml:e57a8ff4-b454-49af-9671-50f81189572a ]] {\r\n",
       "}\r\n",
       "comp usage \"f: F\" as E8  <<(T,blue) part>> [[psysml:ae9b8861-e9cc-45e7-97b3-375fd90ac7d9 ]] {\r\n",
       "}\r\n",
       "comp usage \"a: A\" as E9  <<(T,blue) part>> [[psysml:d620b19b-a1e2-497d-8cad-3b2dc38fedc0 ]] {\r\n",
       "}\r\n",
       "comp usage \"b: B\" as E10  <<(T,blue) part>> [[psysml:f9a1a989-561d-4119-971e-8ebceafa94b4 ]] {\r\n",
       "}\r\n",
       "E2 *- - E3 [[psysml:5ee10b2b-55c1-4a08-a13b-bdb74e3f50e5 ]] \r\n",
       "E4 - -:|> E2 [[psysml:c4c1c0e2-eca3-4dc3-a203-c30912c3ab2b ]] \r\n",
       "E5 *- - E6 [[psysml:93463b7d-149f-4a15-b84b-177a9e530eda ]] \r\n",
       "E7 *- - E8 [[psysml:de6f8f38-3125-456b-a954-15a696931b63 ]] \r\n",
       "E8 - -:|> E2 [[psysml:536a95df-7241-4403-bcab-1aa9fe7a4b7d ]] \r\n",
       "E7 *- - E9 [[psysml:2c441a1b-e979-4985-bcd5-61f8c13172d0 ]] \r\n",
       "E9 - -:|> E5 [[psysml:fc8a5d52-f7b0-45e1-9a4f-1e932b65f071 ]] \r\n",
       "E10 - -:|> E7 [[psysml:2e3833d6-0a03-41e5-9593-325ba84dff2e ]] \r\n",
       "}\r\n",
       "@enduml\r\n",
       "\n",
       "PlantUML version 1.2020.13(Sat Jun 13 12:26:38 UTC 2020)\n",
       "(EPL source distribution)\n",
       "Java Runtime: OpenJDK Runtime Environment\n",
       "JVM: OpenJDK 64-Bit Server VM\n",
       "Default Encoding: UTF-8\n",
       "Language: en\n",
       "Country: null\n",
       "--></g></svg>"
      ]
     },
     "execution_count": 42,
     "metadata": {},
     "output_type": "execute_result"
    }
   ],
   "source": [
    "%viz --style=\"DEFAULT\" --view=\"Sequence\" \"Q\""
   ]
  },
  {
   "cell_type": "code",
   "execution_count": 43,
   "id": "c7bb6117",
   "metadata": {
    "execution": {
     "iopub.execute_input": "2021-06-30T09:23:35.614037Z",
     "iopub.status.busy": "2021-06-30T09:23:35.613240Z",
     "iopub.status.idle": "2021-06-30T09:23:35.694231Z",
     "shell.execute_reply": "2021-06-30T09:23:35.693690Z"
    }
   },
   "outputs": [
    {
     "data": {
      "image/svg+xml": [
       "<?xml version=\"1.0\" encoding=\"UTF-8\" standalone=\"no\"?><svg xmlns=\"http://www.w3.org/2000/svg\" xmlns:xlink=\"http://www.w3.org/1999/xlink\" contentScriptType=\"application/ecmascript\" contentStyleType=\"text/css\" height=\"539px\" preserveAspectRatio=\"none\" style=\"width:266px;height:539px;\" version=\"1.1\" viewBox=\"0 0 266 539\" width=\"266px\" zoomAndPan=\"magnify\"><defs/><g><!--MD5=[fbc87193dbaf4d95561dea2c320d4a47]\n",
       "cluster E1--><a href=\"psysml:427a19be-4ba6-433c-b392-6823bf74d458\" target=\"_top\" title=\"psysml:427a19be-4ba6-433c-b392-6823bf74d458\" xlink:actuate=\"onRequest\" xlink:href=\"psysml:427a19be-4ba6-433c-b392-6823bf74d458\" xlink:show=\"new\" xlink:title=\"psysml:427a19be-4ba6-433c-b392-6823bf74d458\" xlink:type=\"simple\"><polygon fill=\"#FFFFFF\" points=\"16,6,34,6,41,28.2969,244,28.2969,244,527,16,527,16,6\" style=\"stroke: #000000; stroke-width: 1.5;\"/><line style=\"stroke: #000000; stroke-width: 1.5;\" x1=\"16\" x2=\"41\" y1=\"28.2969\" y2=\"28.2969\"/><text fill=\"#000000\" font-family=\"sans-serif\" font-size=\"14\" font-weight=\"bold\" lengthAdjust=\"spacingAndGlyphs\" textLength=\"12\" x=\"20\" y=\"20.9951\">Q</text></a><!--MD5=[b4997ac47864f28c2f74865a473b2911]\n",
       "class E2--><a href=\"psysml:027effde-34e9-4491-ba0c-9f82cacaad23\" target=\"_top\" title=\"psysml:027effde-34e9-4491-ba0c-9f82cacaad23\" xlink:actuate=\"onRequest\" xlink:href=\"psysml:027effde-34e9-4491-ba0c-9f82cacaad23\" xlink:show=\"new\" xlink:title=\"psysml:027effde-34e9-4491-ba0c-9f82cacaad23\" xlink:type=\"simple\"><rect fill=\"#FFFFFF\" height=\"45.9375\" id=\"E2\" style=\"stroke: #383838; stroke-width: 1.5;\" width=\"66\" x=\"147\" y=\"359\"/><text fill=\"#000000\" font-family=\"sans-serif\" font-size=\"12\" font-style=\"italic\" lengthAdjust=\"spacingAndGlyphs\" textLength=\"64\" x=\"148\" y=\"375.1387\">«part def»</text><text fill=\"#000000\" font-family=\"sans-serif\" font-size=\"12\" lengthAdjust=\"spacingAndGlyphs\" textLength=\"7\" x=\"176.5\" y=\"389.1074\">F</text><line style=\"stroke: #383838; stroke-width: 1.5;\" x1=\"148\" x2=\"212\" y1=\"396.9375\" y2=\"396.9375\"/></a><!--MD5=[09b614a08d8cba4a07c9adeb5e0fee81]\n",
       "class E3--><a href=\"psysml:241a9b2a-e9cc-4b19-964a-2424b61c0639\" target=\"_top\" title=\"psysml:241a9b2a-e9cc-4b19-964a-2424b61c0639\" xlink:actuate=\"onRequest\" xlink:href=\"psysml:241a9b2a-e9cc-4b19-964a-2424b61c0639\" xlink:show=\"new\" xlink:title=\"psysml:241a9b2a-e9cc-4b19-964a-2424b61c0639\" xlink:type=\"simple\"><rect fill=\"#FFFFFF\" height=\"45.9375\" id=\"E3\" rx=\"10\" ry=\"10\" style=\"stroke: #383838; stroke-width: 1.5;\" width=\"42\" x=\"159\" y=\"465\"/><text fill=\"#000000\" font-family=\"sans-serif\" font-size=\"12\" font-style=\"italic\" lengthAdjust=\"spacingAndGlyphs\" textLength=\"40\" x=\"160\" y=\"481.1387\">«part»</text><text fill=\"#000000\" font-family=\"sans-serif\" font-size=\"12\" lengthAdjust=\"spacingAndGlyphs\" textLength=\"8\" x=\"176\" y=\"495.1074\">a</text><line style=\"stroke: #383838; stroke-width: 1.5;\" x1=\"160\" x2=\"200\" y1=\"502.9375\" y2=\"502.9375\"/></a><!--MD5=[ebbe1d658d1005bcc118a6aa81145e00]\n",
       "class E4--><a href=\"psysml:40835df5-3f1f-4886-9446-1465d21ad736\" target=\"_top\" title=\"psysml:40835df5-3f1f-4886-9446-1465d21ad736\" xlink:actuate=\"onRequest\" xlink:href=\"psysml:40835df5-3f1f-4886-9446-1465d21ad736\" xlink:show=\"new\" xlink:title=\"psysml:40835df5-3f1f-4886-9446-1465d21ad736\" xlink:type=\"simple\"><rect fill=\"#FFFFFF\" height=\"45.9375\" id=\"E4\" rx=\"10\" ry=\"10\" style=\"stroke: #383838; stroke-width: 1.5;\" width=\"42\" x=\"186\" y=\"253\"/><text fill=\"#000000\" font-family=\"sans-serif\" font-size=\"12\" font-style=\"italic\" lengthAdjust=\"spacingAndGlyphs\" textLength=\"40\" x=\"187\" y=\"269.1387\">«part»</text><text fill=\"#000000\" font-family=\"sans-serif\" font-size=\"12\" lengthAdjust=\"spacingAndGlyphs\" textLength=\"19\" x=\"197.5\" y=\"283.1074\">f: F</text><line style=\"stroke: #383838; stroke-width: 1.5;\" x1=\"187\" x2=\"227\" y1=\"290.9375\" y2=\"290.9375\"/></a><!--MD5=[270fce915f116d4de14055a7c1d9a0f3]\n",
       "class E5--><a href=\"psysml:299c2c32-5ec1-43b2-a066-b7748b01150c\" target=\"_top\" title=\"psysml:299c2c32-5ec1-43b2-a066-b7748b01150c\" xlink:actuate=\"onRequest\" xlink:href=\"psysml:299c2c32-5ec1-43b2-a066-b7748b01150c\" xlink:show=\"new\" xlink:title=\"psysml:299c2c32-5ec1-43b2-a066-b7748b01150c\" xlink:type=\"simple\"><rect fill=\"#FFFFFF\" height=\"45.9375\" id=\"E5\" style=\"stroke: #383838; stroke-width: 1.5;\" width=\"66\" x=\"32\" y=\"359\"/><text fill=\"#000000\" font-family=\"sans-serif\" font-size=\"12\" font-style=\"italic\" lengthAdjust=\"spacingAndGlyphs\" textLength=\"64\" x=\"33\" y=\"375.1387\">«part def»</text><text fill=\"#000000\" font-family=\"sans-serif\" font-size=\"12\" lengthAdjust=\"spacingAndGlyphs\" textLength=\"8\" x=\"61\" y=\"389.1074\">A</text><line style=\"stroke: #383838; stroke-width: 1.5;\" x1=\"33\" x2=\"97\" y1=\"396.9375\" y2=\"396.9375\"/></a><!--MD5=[60a26617385b1d2d0262a64233df1f8d]\n",
       "class E6--><a href=\"psysml:31dec55f-8acf-4d42-bd51-f4047894820c\" target=\"_top\" title=\"psysml:31dec55f-8acf-4d42-bd51-f4047894820c\" xlink:actuate=\"onRequest\" xlink:href=\"psysml:31dec55f-8acf-4d42-bd51-f4047894820c\" xlink:show=\"new\" xlink:title=\"psysml:31dec55f-8acf-4d42-bd51-f4047894820c\" xlink:type=\"simple\"><rect fill=\"#FFFFFF\" height=\"45.9375\" id=\"E6\" rx=\"10\" ry=\"10\" style=\"stroke: #383838; stroke-width: 1.5;\" width=\"42\" x=\"44\" y=\"465\"/><text fill=\"#000000\" font-family=\"sans-serif\" font-size=\"12\" font-style=\"italic\" lengthAdjust=\"spacingAndGlyphs\" textLength=\"40\" x=\"45\" y=\"481.1387\">«part»</text><text fill=\"#000000\" font-family=\"sans-serif\" font-size=\"12\" lengthAdjust=\"spacingAndGlyphs\" textLength=\"8\" x=\"61\" y=\"495.1074\">g</text><line style=\"stroke: #383838; stroke-width: 1.5;\" x1=\"45\" x2=\"85\" y1=\"502.9375\" y2=\"502.9375\"/></a><!--MD5=[2156ba9850f5573cc1fc38a6a4b2f02b]\n",
       "class E7--><a href=\"psysml:e57a8ff4-b454-49af-9671-50f81189572a\" target=\"_top\" title=\"psysml:e57a8ff4-b454-49af-9671-50f81189572a\" xlink:actuate=\"onRequest\" xlink:href=\"psysml:e57a8ff4-b454-49af-9671-50f81189572a\" xlink:show=\"new\" xlink:title=\"psysml:e57a8ff4-b454-49af-9671-50f81189572a\" xlink:type=\"simple\"><rect fill=\"#FFFFFF\" height=\"45.9375\" id=\"E7\" style=\"stroke: #383838; stroke-width: 1.5;\" width=\"66\" x=\"64\" y=\"147\"/><text fill=\"#000000\" font-family=\"sans-serif\" font-size=\"12\" font-style=\"italic\" lengthAdjust=\"spacingAndGlyphs\" textLength=\"64\" x=\"65\" y=\"163.1387\">«part def»</text><text fill=\"#000000\" font-family=\"sans-serif\" font-size=\"12\" lengthAdjust=\"spacingAndGlyphs\" textLength=\"8\" x=\"93\" y=\"177.1074\">B</text><line style=\"stroke: #383838; stroke-width: 1.5;\" x1=\"65\" x2=\"129\" y1=\"184.9375\" y2=\"184.9375\"/></a><!--MD5=[b9389687b975829384b498ac4b7476b2]\n",
       "class E8--><a href=\"psysml:ae9b8861-e9cc-45e7-97b3-375fd90ac7d9\" target=\"_top\" title=\"psysml:ae9b8861-e9cc-45e7-97b3-375fd90ac7d9\" xlink:actuate=\"onRequest\" xlink:href=\"psysml:ae9b8861-e9cc-45e7-97b3-375fd90ac7d9\" xlink:show=\"new\" xlink:title=\"psysml:ae9b8861-e9cc-45e7-97b3-375fd90ac7d9\" xlink:type=\"simple\"><rect fill=\"#FFFFFF\" height=\"45.9375\" id=\"E8\" rx=\"10\" ry=\"10\" style=\"stroke: #383838; stroke-width: 1.5;\" width=\"42\" x=\"109\" y=\"253\"/><text fill=\"#000000\" font-family=\"sans-serif\" font-size=\"12\" font-style=\"italic\" lengthAdjust=\"spacingAndGlyphs\" textLength=\"40\" x=\"110\" y=\"269.1387\">«part»</text><text fill=\"#000000\" font-family=\"sans-serif\" font-size=\"12\" lengthAdjust=\"spacingAndGlyphs\" textLength=\"19\" x=\"120.5\" y=\"283.1074\">f: F</text><line style=\"stroke: #383838; stroke-width: 1.5;\" x1=\"110\" x2=\"150\" y1=\"290.9375\" y2=\"290.9375\"/></a><!--MD5=[fd4143e9d270a159db93a4ea2a975926]\n",
       "class E9--><a href=\"psysml:d620b19b-a1e2-497d-8cad-3b2dc38fedc0\" target=\"_top\" title=\"psysml:d620b19b-a1e2-497d-8cad-3b2dc38fedc0\" xlink:actuate=\"onRequest\" xlink:href=\"psysml:d620b19b-a1e2-497d-8cad-3b2dc38fedc0\" xlink:show=\"new\" xlink:title=\"psysml:d620b19b-a1e2-497d-8cad-3b2dc38fedc0\" xlink:type=\"simple\"><rect fill=\"#FFFFFF\" height=\"45.9375\" id=\"E9\" rx=\"10\" ry=\"10\" style=\"stroke: #383838; stroke-width: 1.5;\" width=\"42\" x=\"32\" y=\"253\"/><text fill=\"#000000\" font-family=\"sans-serif\" font-size=\"12\" font-style=\"italic\" lengthAdjust=\"spacingAndGlyphs\" textLength=\"40\" x=\"33\" y=\"269.1387\">«part»</text><text fill=\"#000000\" font-family=\"sans-serif\" font-size=\"12\" lengthAdjust=\"spacingAndGlyphs\" textLength=\"24\" x=\"41\" y=\"283.1074\">a: A</text><line style=\"stroke: #383838; stroke-width: 1.5;\" x1=\"33\" x2=\"73\" y1=\"290.9375\" y2=\"290.9375\"/></a><!--MD5=[96f4274e9e20536e775497830990834d]\n",
       "class E10--><a href=\"psysml:f9a1a989-561d-4119-971e-8ebceafa94b4\" target=\"_top\" title=\"psysml:f9a1a989-561d-4119-971e-8ebceafa94b4\" xlink:actuate=\"onRequest\" xlink:href=\"psysml:f9a1a989-561d-4119-971e-8ebceafa94b4\" xlink:show=\"new\" xlink:title=\"psysml:f9a1a989-561d-4119-971e-8ebceafa94b4\" xlink:type=\"simple\"><rect fill=\"#FFFFFF\" height=\"45.9375\" id=\"E10\" rx=\"10\" ry=\"10\" style=\"stroke: #383838; stroke-width: 1.5;\" width=\"42\" x=\"76\" y=\"41\"/><text fill=\"#000000\" font-family=\"sans-serif\" font-size=\"12\" font-style=\"italic\" lengthAdjust=\"spacingAndGlyphs\" textLength=\"40\" x=\"77\" y=\"57.1387\">«part»</text><text fill=\"#000000\" font-family=\"sans-serif\" font-size=\"12\" lengthAdjust=\"spacingAndGlyphs\" textLength=\"24\" x=\"85\" y=\"71.1074\">b: B</text><line style=\"stroke: #383838; stroke-width: 1.5;\" x1=\"77\" x2=\"117\" y1=\"78.9375\" y2=\"78.9375\"/></a><!--MD5=[209b3feb70ccb6233bfe1053d122c12c]\n",
       "reverse link E2 to E3--><a href=\"psysml:5ee10b2b-55c1-4a08-a13b-bdb74e3f50e5\" target=\"_top\" title=\"psysml:5ee10b2b-55c1-4a08-a13b-bdb74e3f50e5\" xlink:actuate=\"onRequest\" xlink:href=\"psysml:5ee10b2b-55c1-4a08-a13b-bdb74e3f50e5\" xlink:show=\"new\" xlink:title=\"psysml:5ee10b2b-55c1-4a08-a13b-bdb74e3f50e5\" xlink:type=\"simple\"><path d=\"M180,418.44 C180,433.87 180,451.47 180,464.98 \" fill=\"none\" id=\"E2&lt;-E3\" style=\"stroke: #383838; stroke-width: 1.0;\"/><polygon fill=\"#383838\" points=\"180,405.06,176,411.06,180,417.06,184,411.06,180,405.06\" style=\"stroke: #383838; stroke-width: 1.0;\"/></a><!--MD5=[185131fc0dcab0a4505a2ebe144e961b]\n",
       "link E4 to E2--><a href=\"psysml:c4c1c0e2-eca3-4dc3-a203-c30912c3ab2b\" target=\"_top\" title=\"psysml:c4c1c0e2-eca3-4dc3-a203-c30912c3ab2b\" xlink:actuate=\"onRequest\" xlink:href=\"psysml:c4c1c0e2-eca3-4dc3-a203-c30912c3ab2b\" xlink:show=\"new\" xlink:title=\"psysml:c4c1c0e2-eca3-4dc3-a203-c30912c3ab2b\" xlink:type=\"simple\"><path d=\"M201.27,299.06 C198.23,310.78 194.39,325.57 190.81,339.36 \" fill=\"none\" id=\"E4-&gt;E2\" style=\"stroke: #383838; stroke-width: 1.0;\"/><polygon fill=\"#FFFFFF\" points=\"185.72,358.98,183.7221,338.8303,197.2724,342.3504,185.72,358.98\" style=\"stroke: #383838; stroke-width: 1.0;\"/><ellipse cx=\"187.091\" cy=\"333.8163\" fill=\"#383838\" rx=\"2\" ry=\"2\" style=\"stroke: #383838; stroke-width: 1.0;\"/><ellipse cx=\"196.7698\" cy=\"336.3307\" fill=\"#383838\" rx=\"2\" ry=\"2\" style=\"stroke: #383838; stroke-width: 1.0;\"/></a><!--MD5=[85d356282659285ab4b2cfe2f634dd2b]\n",
       "reverse link E5 to E6--><a href=\"psysml:93463b7d-149f-4a15-b84b-177a9e530eda\" target=\"_top\" title=\"psysml:93463b7d-149f-4a15-b84b-177a9e530eda\" xlink:actuate=\"onRequest\" xlink:href=\"psysml:93463b7d-149f-4a15-b84b-177a9e530eda\" xlink:show=\"new\" xlink:title=\"psysml:93463b7d-149f-4a15-b84b-177a9e530eda\" xlink:type=\"simple\"><path d=\"M65,418.44 C65,433.87 65,451.47 65,464.98 \" fill=\"none\" id=\"E5&lt;-E6\" style=\"stroke: #383838; stroke-width: 1.0;\"/><polygon fill=\"#383838\" points=\"65,405.06,61,411.06,65,417.06,69,411.06,65,405.06\" style=\"stroke: #383838; stroke-width: 1.0;\"/></a><!--MD5=[dc164f5e8a733ab456ef1add180e9e34]\n",
       "reverse link E7 to E8--><a href=\"psysml:de6f8f38-3125-456b-a954-15a696931b63\" target=\"_top\" title=\"psysml:de6f8f38-3125-456b-a954-15a696931b63\" xlink:actuate=\"onRequest\" xlink:href=\"psysml:de6f8f38-3125-456b-a954-15a696931b63\" xlink:show=\"new\" xlink:title=\"psysml:de6f8f38-3125-456b-a954-15a696931b63\" xlink:type=\"simple\"><path d=\"M107.95,205.49 C112.91,221.15 118.64,239.19 123.01,252.98 \" fill=\"none\" id=\"E7&lt;-E8\" style=\"stroke: #383838; stroke-width: 1.0;\"/><polygon fill=\"#383838\" points=\"104,193.06,101.9989,199.9879,107.6243,204.4996,109.6253,197.5717,104,193.06\" style=\"stroke: #383838; stroke-width: 1.0;\"/></a><!--MD5=[f1f3f9f2fc535e6147756cb86a7f2e32]\n",
       "link E8 to E2--><a href=\"psysml:536a95df-7241-4403-bcab-1aa9fe7a4b7d\" target=\"_top\" title=\"psysml:536a95df-7241-4403-bcab-1aa9fe7a4b7d\" xlink:actuate=\"onRequest\" xlink:href=\"psysml:536a95df-7241-4403-bcab-1aa9fe7a4b7d\" xlink:show=\"new\" xlink:title=\"psysml:536a95df-7241-4403-bcab-1aa9fe7a4b7d\" xlink:type=\"simple\"><path d=\"M140.6,299.06 C146.44,311.19 153.86,326.62 160.68,340.82 \" fill=\"none\" id=\"E8-&gt;E2\" style=\"stroke: #383838; stroke-width: 1.0;\"/><polygon fill=\"#FFFFFF\" points=\"169.41,358.98,154.8709,344.8869,167.4894,338.8228,169.41,358.98\" style=\"stroke: #383838; stroke-width: 1.0;\"/><ellipse cx=\"154.2046\" cy=\"338.8831\" fill=\"#383838\" rx=\"2\" ry=\"2\" style=\"stroke: #383838; stroke-width: 1.0;\"/><ellipse cx=\"163.2178\" cy=\"334.5516\" fill=\"#383838\" rx=\"2\" ry=\"2\" style=\"stroke: #383838; stroke-width: 1.0;\"/></a><!--MD5=[e4a10ef82d0e328e31cac39a31e58dda]\n",
       "reverse link E7 to E9--><a href=\"psysml:2c441a1b-e979-4985-bcd5-61f8c13172d0\" target=\"_top\" title=\"psysml:2c441a1b-e979-4985-bcd5-61f8c13172d0\" xlink:actuate=\"onRequest\" xlink:href=\"psysml:2c441a1b-e979-4985-bcd5-61f8c13172d0\" xlink:show=\"new\" xlink:title=\"psysml:2c441a1b-e979-4985-bcd5-61f8c13172d0\" xlink:type=\"simple\"><path d=\"M82.41,205.49 C75.78,221.15 68.15,239.19 62.32,252.98 \" fill=\"none\" id=\"E7&lt;-E9\" style=\"stroke: #383838; stroke-width: 1.0;\"/><polygon fill=\"#383838\" points=\"87.67,193.06,81.6505,197.0305,83.0003,204.1142,89.0199,200.1436,87.67,193.06\" style=\"stroke: #383838; stroke-width: 1.0;\"/></a><!--MD5=[bfc3ddf2e613be37104f658f09af896c]\n",
       "link E9 to E5--><a href=\"psysml:fc8a5d52-f7b0-45e1-9a4f-1e932b65f071\" target=\"_top\" title=\"psysml:fc8a5d52-f7b0-45e1-9a4f-1e932b65f071\" xlink:actuate=\"onRequest\" xlink:href=\"psysml:fc8a5d52-f7b0-45e1-9a4f-1e932b65f071\" xlink:show=\"new\" xlink:title=\"psysml:fc8a5d52-f7b0-45e1-9a4f-1e932b65f071\" xlink:type=\"simple\"><path d=\"M55.54,299.06 C56.88,310.64 58.56,325.23 60.14,338.87 \" fill=\"none\" id=\"E9-&gt;E5\" style=\"stroke: #383838; stroke-width: 1.0;\"/><polygon fill=\"#FFFFFF\" points=\"62.46,358.98,53.3347,340.9044,67.243,339.3046,62.46,358.98\" style=\"stroke: #383838; stroke-width: 1.0;\"/><ellipse cx=\"54.6702\" cy=\"335.0132\" fill=\"#383838\" rx=\"2\" ry=\"2\" style=\"stroke: #383838; stroke-width: 1.0;\"/><ellipse cx=\"64.6047\" cy=\"333.8704\" fill=\"#383838\" rx=\"2\" ry=\"2\" style=\"stroke: #383838; stroke-width: 1.0;\"/></a><!--MD5=[a919e0967d6f3de553dc51b9865a1d6d]\n",
       "link E10 to E7--><a href=\"psysml:2e3833d6-0a03-41e5-9593-325ba84dff2e\" target=\"_top\" title=\"psysml:2e3833d6-0a03-41e5-9593-325ba84dff2e\" xlink:actuate=\"onRequest\" xlink:href=\"psysml:2e3833d6-0a03-41e5-9593-325ba84dff2e\" xlink:show=\"new\" xlink:title=\"psysml:2e3833d6-0a03-41e5-9593-325ba84dff2e\" xlink:type=\"simple\"><path d=\"M97,87.06 C97,98.64 97,113.23 97,126.87 \" fill=\"none\" id=\"E10-&gt;E7\" style=\"stroke: #383838; stroke-width: 1.0;\"/><polygon fill=\"#FFFFFF\" points=\"97,146.98,90,127.98,104,127.98,97,146.98\" style=\"stroke: #383838; stroke-width: 1.0;\"/><ellipse cx=\"92\" cy=\"122.28\" fill=\"#383838\" rx=\"2\" ry=\"2\" style=\"stroke: #383838; stroke-width: 1.0;\"/><ellipse cx=\"102\" cy=\"122.28\" fill=\"#383838\" rx=\"2\" ry=\"2\" style=\"stroke: #383838; stroke-width: 1.0;\"/></a><!--MD5=[6146f19260f6ab07093f2b87ff3e1e19]\n",
       "@startuml\r\n",
       "skinparam monochrome true\r\n",
       "skinparam classbackgroundcolor white\r\n",
       "skinparam shadowing false\r\n",
       "skinparam wrapWidth 300\r\n",
       "hide circle\r\n",
       "\r\n",
       "package \"Q\" as E1  [[psysml:427a19be-4ba6-433c-b392-6823bf74d458 ]]  {\r\n",
       "comp def \"F\" as E2  <<(T,blue) part def>> [[psysml:027effde-34e9-4491-ba0c-9f82cacaad23 ]] {\r\n",
       "}\r\n",
       "comp usage \"a\" as E3  <<(T,blue) part>> [[psysml:241a9b2a-e9cc-4b19-964a-2424b61c0639 ]] {\r\n",
       "}\r\n",
       "comp usage \"f: F\" as E4  <<(T,blue) part>> [[psysml:40835df5-3f1f-4886-9446-1465d21ad736 ]] {\r\n",
       "}\r\n",
       "comp def \"A\" as E5  <<(T,blue) part def>> [[psysml:299c2c32-5ec1-43b2-a066-b7748b01150c ]] {\r\n",
       "}\r\n",
       "comp usage \"g\" as E6  <<(T,blue) part>> [[psysml:31dec55f-8acf-4d42-bd51-f4047894820c ]] {\r\n",
       "}\r\n",
       "comp def \"B\" as E7  <<(T,blue) part def>> [[psysml:e57a8ff4-b454-49af-9671-50f81189572a ]] {\r\n",
       "}\r\n",
       "comp usage \"f: F\" as E8  <<(T,blue) part>> [[psysml:ae9b8861-e9cc-45e7-97b3-375fd90ac7d9 ]] {\r\n",
       "}\r\n",
       "comp usage \"a: A\" as E9  <<(T,blue) part>> [[psysml:d620b19b-a1e2-497d-8cad-3b2dc38fedc0 ]] {\r\n",
       "}\r\n",
       "comp usage \"b: B\" as E10  <<(T,blue) part>> [[psysml:f9a1a989-561d-4119-971e-8ebceafa94b4 ]] {\r\n",
       "}\r\n",
       "E2 *- - E3 [[psysml:5ee10b2b-55c1-4a08-a13b-bdb74e3f50e5 ]] \r\n",
       "E4 - -:|> E2 [[psysml:c4c1c0e2-eca3-4dc3-a203-c30912c3ab2b ]] \r\n",
       "E5 *- - E6 [[psysml:93463b7d-149f-4a15-b84b-177a9e530eda ]] \r\n",
       "E7 *- - E8 [[psysml:de6f8f38-3125-456b-a954-15a696931b63 ]] \r\n",
       "E8 - -:|> E2 [[psysml:536a95df-7241-4403-bcab-1aa9fe7a4b7d ]] \r\n",
       "E7 *- - E9 [[psysml:2c441a1b-e979-4985-bcd5-61f8c13172d0 ]] \r\n",
       "E9 - -:|> E5 [[psysml:fc8a5d52-f7b0-45e1-9a4f-1e932b65f071 ]] \r\n",
       "E10 - -:|> E7 [[psysml:2e3833d6-0a03-41e5-9593-325ba84dff2e ]] \r\n",
       "}\r\n",
       "@enduml\r\n",
       "\n",
       "PlantUML version 1.2020.13(Sat Jun 13 12:26:38 UTC 2020)\n",
       "(EPL source distribution)\n",
       "Java Runtime: OpenJDK Runtime Environment\n",
       "JVM: OpenJDK 64-Bit Server VM\n",
       "Default Encoding: UTF-8\n",
       "Language: en\n",
       "Country: null\n",
       "--></g></svg>"
      ]
     },
     "execution_count": 43,
     "metadata": {},
     "output_type": "execute_result"
    }
   ],
   "source": [
    "%viz --style=\"DEFAULT\" --view=\"MIXED\" \"Q\""
   ]
  },
  {
   "cell_type": "code",
   "execution_count": 44,
   "id": "adc55b9a",
   "metadata": {
    "execution": {
     "iopub.execute_input": "2021-06-30T09:23:35.743584Z",
     "iopub.status.busy": "2021-06-30T09:23:35.742987Z",
     "iopub.status.idle": "2021-06-30T09:23:35.813242Z",
     "shell.execute_reply": "2021-06-30T09:23:35.810378Z"
    }
   },
   "outputs": [
    {
     "data": {
      "image/svg+xml": [
       "<?xml version=\"1.0\" encoding=\"UTF-8\" standalone=\"no\"?><svg xmlns=\"http://www.w3.org/2000/svg\" xmlns:xlink=\"http://www.w3.org/1999/xlink\" contentScriptType=\"application/ecmascript\" contentStyleType=\"text/css\" height=\"539px\" preserveAspectRatio=\"none\" style=\"width:266px;height:539px;\" version=\"1.1\" viewBox=\"0 0 266 539\" width=\"266px\" zoomAndPan=\"magnify\"><defs/><g><!--MD5=[fbc87193dbaf4d95561dea2c320d4a47]\n",
       "cluster E1--><a href=\"psysml:427a19be-4ba6-433c-b392-6823bf74d458\" target=\"_top\" title=\"psysml:427a19be-4ba6-433c-b392-6823bf74d458\" xlink:actuate=\"onRequest\" xlink:href=\"psysml:427a19be-4ba6-433c-b392-6823bf74d458\" xlink:show=\"new\" xlink:title=\"psysml:427a19be-4ba6-433c-b392-6823bf74d458\" xlink:type=\"simple\"><polygon fill=\"#FFFFFF\" points=\"16,6,34,6,41,28.2969,244,28.2969,244,527,16,527,16,6\" style=\"stroke: #000000; stroke-width: 1.5;\"/><line style=\"stroke: #000000; stroke-width: 1.5;\" x1=\"16\" x2=\"41\" y1=\"28.2969\" y2=\"28.2969\"/><text fill=\"#000000\" font-family=\"sans-serif\" font-size=\"14\" font-weight=\"bold\" lengthAdjust=\"spacingAndGlyphs\" textLength=\"12\" x=\"20\" y=\"20.9951\">Q</text></a><!--MD5=[b4997ac47864f28c2f74865a473b2911]\n",
       "class E2--><a href=\"psysml:027effde-34e9-4491-ba0c-9f82cacaad23\" target=\"_top\" title=\"psysml:027effde-34e9-4491-ba0c-9f82cacaad23\" xlink:actuate=\"onRequest\" xlink:href=\"psysml:027effde-34e9-4491-ba0c-9f82cacaad23\" xlink:show=\"new\" xlink:title=\"psysml:027effde-34e9-4491-ba0c-9f82cacaad23\" xlink:type=\"simple\"><rect fill=\"#FFFFFF\" height=\"45.9375\" id=\"E2\" style=\"stroke: #383838; stroke-width: 1.5;\" width=\"66\" x=\"147\" y=\"359\"/><text fill=\"#000000\" font-family=\"sans-serif\" font-size=\"12\" font-style=\"italic\" lengthAdjust=\"spacingAndGlyphs\" textLength=\"64\" x=\"148\" y=\"375.1387\">«part def»</text><text fill=\"#000000\" font-family=\"sans-serif\" font-size=\"12\" lengthAdjust=\"spacingAndGlyphs\" textLength=\"7\" x=\"176.5\" y=\"389.1074\">F</text><line style=\"stroke: #383838; stroke-width: 1.5;\" x1=\"148\" x2=\"212\" y1=\"396.9375\" y2=\"396.9375\"/></a><!--MD5=[09b614a08d8cba4a07c9adeb5e0fee81]\n",
       "class E3--><a href=\"psysml:241a9b2a-e9cc-4b19-964a-2424b61c0639\" target=\"_top\" title=\"psysml:241a9b2a-e9cc-4b19-964a-2424b61c0639\" xlink:actuate=\"onRequest\" xlink:href=\"psysml:241a9b2a-e9cc-4b19-964a-2424b61c0639\" xlink:show=\"new\" xlink:title=\"psysml:241a9b2a-e9cc-4b19-964a-2424b61c0639\" xlink:type=\"simple\"><rect fill=\"#FFFFFF\" height=\"45.9375\" id=\"E3\" rx=\"10\" ry=\"10\" style=\"stroke: #383838; stroke-width: 1.5;\" width=\"42\" x=\"159\" y=\"465\"/><text fill=\"#000000\" font-family=\"sans-serif\" font-size=\"12\" font-style=\"italic\" lengthAdjust=\"spacingAndGlyphs\" textLength=\"40\" x=\"160\" y=\"481.1387\">«part»</text><text fill=\"#000000\" font-family=\"sans-serif\" font-size=\"12\" lengthAdjust=\"spacingAndGlyphs\" textLength=\"8\" x=\"176\" y=\"495.1074\">a</text><line style=\"stroke: #383838; stroke-width: 1.5;\" x1=\"160\" x2=\"200\" y1=\"502.9375\" y2=\"502.9375\"/></a><!--MD5=[ebbe1d658d1005bcc118a6aa81145e00]\n",
       "class E4--><a href=\"psysml:40835df5-3f1f-4886-9446-1465d21ad736\" target=\"_top\" title=\"psysml:40835df5-3f1f-4886-9446-1465d21ad736\" xlink:actuate=\"onRequest\" xlink:href=\"psysml:40835df5-3f1f-4886-9446-1465d21ad736\" xlink:show=\"new\" xlink:title=\"psysml:40835df5-3f1f-4886-9446-1465d21ad736\" xlink:type=\"simple\"><rect fill=\"#FFFFFF\" height=\"45.9375\" id=\"E4\" rx=\"10\" ry=\"10\" style=\"stroke: #383838; stroke-width: 1.5;\" width=\"42\" x=\"186\" y=\"253\"/><text fill=\"#000000\" font-family=\"sans-serif\" font-size=\"12\" font-style=\"italic\" lengthAdjust=\"spacingAndGlyphs\" textLength=\"40\" x=\"187\" y=\"269.1387\">«part»</text><text fill=\"#000000\" font-family=\"sans-serif\" font-size=\"12\" lengthAdjust=\"spacingAndGlyphs\" textLength=\"19\" x=\"197.5\" y=\"283.1074\">f: F</text><line style=\"stroke: #383838; stroke-width: 1.5;\" x1=\"187\" x2=\"227\" y1=\"290.9375\" y2=\"290.9375\"/></a><!--MD5=[270fce915f116d4de14055a7c1d9a0f3]\n",
       "class E5--><a href=\"psysml:299c2c32-5ec1-43b2-a066-b7748b01150c\" target=\"_top\" title=\"psysml:299c2c32-5ec1-43b2-a066-b7748b01150c\" xlink:actuate=\"onRequest\" xlink:href=\"psysml:299c2c32-5ec1-43b2-a066-b7748b01150c\" xlink:show=\"new\" xlink:title=\"psysml:299c2c32-5ec1-43b2-a066-b7748b01150c\" xlink:type=\"simple\"><rect fill=\"#FFFFFF\" height=\"45.9375\" id=\"E5\" style=\"stroke: #383838; stroke-width: 1.5;\" width=\"66\" x=\"32\" y=\"359\"/><text fill=\"#000000\" font-family=\"sans-serif\" font-size=\"12\" font-style=\"italic\" lengthAdjust=\"spacingAndGlyphs\" textLength=\"64\" x=\"33\" y=\"375.1387\">«part def»</text><text fill=\"#000000\" font-family=\"sans-serif\" font-size=\"12\" lengthAdjust=\"spacingAndGlyphs\" textLength=\"8\" x=\"61\" y=\"389.1074\">A</text><line style=\"stroke: #383838; stroke-width: 1.5;\" x1=\"33\" x2=\"97\" y1=\"396.9375\" y2=\"396.9375\"/></a><!--MD5=[60a26617385b1d2d0262a64233df1f8d]\n",
       "class E6--><a href=\"psysml:31dec55f-8acf-4d42-bd51-f4047894820c\" target=\"_top\" title=\"psysml:31dec55f-8acf-4d42-bd51-f4047894820c\" xlink:actuate=\"onRequest\" xlink:href=\"psysml:31dec55f-8acf-4d42-bd51-f4047894820c\" xlink:show=\"new\" xlink:title=\"psysml:31dec55f-8acf-4d42-bd51-f4047894820c\" xlink:type=\"simple\"><rect fill=\"#FFFFFF\" height=\"45.9375\" id=\"E6\" rx=\"10\" ry=\"10\" style=\"stroke: #383838; stroke-width: 1.5;\" width=\"42\" x=\"44\" y=\"465\"/><text fill=\"#000000\" font-family=\"sans-serif\" font-size=\"12\" font-style=\"italic\" lengthAdjust=\"spacingAndGlyphs\" textLength=\"40\" x=\"45\" y=\"481.1387\">«part»</text><text fill=\"#000000\" font-family=\"sans-serif\" font-size=\"12\" lengthAdjust=\"spacingAndGlyphs\" textLength=\"8\" x=\"61\" y=\"495.1074\">g</text><line style=\"stroke: #383838; stroke-width: 1.5;\" x1=\"45\" x2=\"85\" y1=\"502.9375\" y2=\"502.9375\"/></a><!--MD5=[2156ba9850f5573cc1fc38a6a4b2f02b]\n",
       "class E7--><a href=\"psysml:e57a8ff4-b454-49af-9671-50f81189572a\" target=\"_top\" title=\"psysml:e57a8ff4-b454-49af-9671-50f81189572a\" xlink:actuate=\"onRequest\" xlink:href=\"psysml:e57a8ff4-b454-49af-9671-50f81189572a\" xlink:show=\"new\" xlink:title=\"psysml:e57a8ff4-b454-49af-9671-50f81189572a\" xlink:type=\"simple\"><rect fill=\"#FFFFFF\" height=\"45.9375\" id=\"E7\" style=\"stroke: #383838; stroke-width: 1.5;\" width=\"66\" x=\"64\" y=\"147\"/><text fill=\"#000000\" font-family=\"sans-serif\" font-size=\"12\" font-style=\"italic\" lengthAdjust=\"spacingAndGlyphs\" textLength=\"64\" x=\"65\" y=\"163.1387\">«part def»</text><text fill=\"#000000\" font-family=\"sans-serif\" font-size=\"12\" lengthAdjust=\"spacingAndGlyphs\" textLength=\"8\" x=\"93\" y=\"177.1074\">B</text><line style=\"stroke: #383838; stroke-width: 1.5;\" x1=\"65\" x2=\"129\" y1=\"184.9375\" y2=\"184.9375\"/></a><!--MD5=[b9389687b975829384b498ac4b7476b2]\n",
       "class E8--><a href=\"psysml:ae9b8861-e9cc-45e7-97b3-375fd90ac7d9\" target=\"_top\" title=\"psysml:ae9b8861-e9cc-45e7-97b3-375fd90ac7d9\" xlink:actuate=\"onRequest\" xlink:href=\"psysml:ae9b8861-e9cc-45e7-97b3-375fd90ac7d9\" xlink:show=\"new\" xlink:title=\"psysml:ae9b8861-e9cc-45e7-97b3-375fd90ac7d9\" xlink:type=\"simple\"><rect fill=\"#FFFFFF\" height=\"45.9375\" id=\"E8\" rx=\"10\" ry=\"10\" style=\"stroke: #383838; stroke-width: 1.5;\" width=\"42\" x=\"109\" y=\"253\"/><text fill=\"#000000\" font-family=\"sans-serif\" font-size=\"12\" font-style=\"italic\" lengthAdjust=\"spacingAndGlyphs\" textLength=\"40\" x=\"110\" y=\"269.1387\">«part»</text><text fill=\"#000000\" font-family=\"sans-serif\" font-size=\"12\" lengthAdjust=\"spacingAndGlyphs\" textLength=\"19\" x=\"120.5\" y=\"283.1074\">f: F</text><line style=\"stroke: #383838; stroke-width: 1.5;\" x1=\"110\" x2=\"150\" y1=\"290.9375\" y2=\"290.9375\"/></a><!--MD5=[fd4143e9d270a159db93a4ea2a975926]\n",
       "class E9--><a href=\"psysml:d620b19b-a1e2-497d-8cad-3b2dc38fedc0\" target=\"_top\" title=\"psysml:d620b19b-a1e2-497d-8cad-3b2dc38fedc0\" xlink:actuate=\"onRequest\" xlink:href=\"psysml:d620b19b-a1e2-497d-8cad-3b2dc38fedc0\" xlink:show=\"new\" xlink:title=\"psysml:d620b19b-a1e2-497d-8cad-3b2dc38fedc0\" xlink:type=\"simple\"><rect fill=\"#FFFFFF\" height=\"45.9375\" id=\"E9\" rx=\"10\" ry=\"10\" style=\"stroke: #383838; stroke-width: 1.5;\" width=\"42\" x=\"32\" y=\"253\"/><text fill=\"#000000\" font-family=\"sans-serif\" font-size=\"12\" font-style=\"italic\" lengthAdjust=\"spacingAndGlyphs\" textLength=\"40\" x=\"33\" y=\"269.1387\">«part»</text><text fill=\"#000000\" font-family=\"sans-serif\" font-size=\"12\" lengthAdjust=\"spacingAndGlyphs\" textLength=\"24\" x=\"41\" y=\"283.1074\">a: A</text><line style=\"stroke: #383838; stroke-width: 1.5;\" x1=\"33\" x2=\"73\" y1=\"290.9375\" y2=\"290.9375\"/></a><!--MD5=[96f4274e9e20536e775497830990834d]\n",
       "class E10--><a href=\"psysml:f9a1a989-561d-4119-971e-8ebceafa94b4\" target=\"_top\" title=\"psysml:f9a1a989-561d-4119-971e-8ebceafa94b4\" xlink:actuate=\"onRequest\" xlink:href=\"psysml:f9a1a989-561d-4119-971e-8ebceafa94b4\" xlink:show=\"new\" xlink:title=\"psysml:f9a1a989-561d-4119-971e-8ebceafa94b4\" xlink:type=\"simple\"><rect fill=\"#FFFFFF\" height=\"45.9375\" id=\"E10\" rx=\"10\" ry=\"10\" style=\"stroke: #383838; stroke-width: 1.5;\" width=\"42\" x=\"76\" y=\"41\"/><text fill=\"#000000\" font-family=\"sans-serif\" font-size=\"12\" font-style=\"italic\" lengthAdjust=\"spacingAndGlyphs\" textLength=\"40\" x=\"77\" y=\"57.1387\">«part»</text><text fill=\"#000000\" font-family=\"sans-serif\" font-size=\"12\" lengthAdjust=\"spacingAndGlyphs\" textLength=\"24\" x=\"85\" y=\"71.1074\">b: B</text><line style=\"stroke: #383838; stroke-width: 1.5;\" x1=\"77\" x2=\"117\" y1=\"78.9375\" y2=\"78.9375\"/></a><!--MD5=[209b3feb70ccb6233bfe1053d122c12c]\n",
       "reverse link E2 to E3--><a href=\"psysml:5ee10b2b-55c1-4a08-a13b-bdb74e3f50e5\" target=\"_top\" title=\"psysml:5ee10b2b-55c1-4a08-a13b-bdb74e3f50e5\" xlink:actuate=\"onRequest\" xlink:href=\"psysml:5ee10b2b-55c1-4a08-a13b-bdb74e3f50e5\" xlink:show=\"new\" xlink:title=\"psysml:5ee10b2b-55c1-4a08-a13b-bdb74e3f50e5\" xlink:type=\"simple\"><path d=\"M180,418.44 C180,433.87 180,451.47 180,464.98 \" fill=\"none\" id=\"E2&lt;-E3\" style=\"stroke: #383838; stroke-width: 1.0;\"/><polygon fill=\"#383838\" points=\"180,405.06,176,411.06,180,417.06,184,411.06,180,405.06\" style=\"stroke: #383838; stroke-width: 1.0;\"/></a><!--MD5=[185131fc0dcab0a4505a2ebe144e961b]\n",
       "link E4 to E2--><a href=\"psysml:c4c1c0e2-eca3-4dc3-a203-c30912c3ab2b\" target=\"_top\" title=\"psysml:c4c1c0e2-eca3-4dc3-a203-c30912c3ab2b\" xlink:actuate=\"onRequest\" xlink:href=\"psysml:c4c1c0e2-eca3-4dc3-a203-c30912c3ab2b\" xlink:show=\"new\" xlink:title=\"psysml:c4c1c0e2-eca3-4dc3-a203-c30912c3ab2b\" xlink:type=\"simple\"><path d=\"M201.27,299.06 C198.23,310.78 194.39,325.57 190.81,339.36 \" fill=\"none\" id=\"E4-&gt;E2\" style=\"stroke: #383838; stroke-width: 1.0;\"/><polygon fill=\"#FFFFFF\" points=\"185.72,358.98,183.7221,338.8303,197.2724,342.3504,185.72,358.98\" style=\"stroke: #383838; stroke-width: 1.0;\"/><ellipse cx=\"187.091\" cy=\"333.8163\" fill=\"#383838\" rx=\"2\" ry=\"2\" style=\"stroke: #383838; stroke-width: 1.0;\"/><ellipse cx=\"196.7698\" cy=\"336.3307\" fill=\"#383838\" rx=\"2\" ry=\"2\" style=\"stroke: #383838; stroke-width: 1.0;\"/></a><!--MD5=[85d356282659285ab4b2cfe2f634dd2b]\n",
       "reverse link E5 to E6--><a href=\"psysml:93463b7d-149f-4a15-b84b-177a9e530eda\" target=\"_top\" title=\"psysml:93463b7d-149f-4a15-b84b-177a9e530eda\" xlink:actuate=\"onRequest\" xlink:href=\"psysml:93463b7d-149f-4a15-b84b-177a9e530eda\" xlink:show=\"new\" xlink:title=\"psysml:93463b7d-149f-4a15-b84b-177a9e530eda\" xlink:type=\"simple\"><path d=\"M65,418.44 C65,433.87 65,451.47 65,464.98 \" fill=\"none\" id=\"E5&lt;-E6\" style=\"stroke: #383838; stroke-width: 1.0;\"/><polygon fill=\"#383838\" points=\"65,405.06,61,411.06,65,417.06,69,411.06,65,405.06\" style=\"stroke: #383838; stroke-width: 1.0;\"/></a><!--MD5=[dc164f5e8a733ab456ef1add180e9e34]\n",
       "reverse link E7 to E8--><a href=\"psysml:de6f8f38-3125-456b-a954-15a696931b63\" target=\"_top\" title=\"psysml:de6f8f38-3125-456b-a954-15a696931b63\" xlink:actuate=\"onRequest\" xlink:href=\"psysml:de6f8f38-3125-456b-a954-15a696931b63\" xlink:show=\"new\" xlink:title=\"psysml:de6f8f38-3125-456b-a954-15a696931b63\" xlink:type=\"simple\"><path d=\"M107.95,205.49 C112.91,221.15 118.64,239.19 123.01,252.98 \" fill=\"none\" id=\"E7&lt;-E8\" style=\"stroke: #383838; stroke-width: 1.0;\"/><polygon fill=\"#383838\" points=\"104,193.06,101.9989,199.9879,107.6243,204.4996,109.6253,197.5717,104,193.06\" style=\"stroke: #383838; stroke-width: 1.0;\"/></a><!--MD5=[f1f3f9f2fc535e6147756cb86a7f2e32]\n",
       "link E8 to E2--><a href=\"psysml:536a95df-7241-4403-bcab-1aa9fe7a4b7d\" target=\"_top\" title=\"psysml:536a95df-7241-4403-bcab-1aa9fe7a4b7d\" xlink:actuate=\"onRequest\" xlink:href=\"psysml:536a95df-7241-4403-bcab-1aa9fe7a4b7d\" xlink:show=\"new\" xlink:title=\"psysml:536a95df-7241-4403-bcab-1aa9fe7a4b7d\" xlink:type=\"simple\"><path d=\"M140.6,299.06 C146.44,311.19 153.86,326.62 160.68,340.82 \" fill=\"none\" id=\"E8-&gt;E2\" style=\"stroke: #383838; stroke-width: 1.0;\"/><polygon fill=\"#FFFFFF\" points=\"169.41,358.98,154.8709,344.8869,167.4894,338.8228,169.41,358.98\" style=\"stroke: #383838; stroke-width: 1.0;\"/><ellipse cx=\"154.2046\" cy=\"338.8831\" fill=\"#383838\" rx=\"2\" ry=\"2\" style=\"stroke: #383838; stroke-width: 1.0;\"/><ellipse cx=\"163.2178\" cy=\"334.5516\" fill=\"#383838\" rx=\"2\" ry=\"2\" style=\"stroke: #383838; stroke-width: 1.0;\"/></a><!--MD5=[e4a10ef82d0e328e31cac39a31e58dda]\n",
       "reverse link E7 to E9--><a href=\"psysml:2c441a1b-e979-4985-bcd5-61f8c13172d0\" target=\"_top\" title=\"psysml:2c441a1b-e979-4985-bcd5-61f8c13172d0\" xlink:actuate=\"onRequest\" xlink:href=\"psysml:2c441a1b-e979-4985-bcd5-61f8c13172d0\" xlink:show=\"new\" xlink:title=\"psysml:2c441a1b-e979-4985-bcd5-61f8c13172d0\" xlink:type=\"simple\"><path d=\"M82.41,205.49 C75.78,221.15 68.15,239.19 62.32,252.98 \" fill=\"none\" id=\"E7&lt;-E9\" style=\"stroke: #383838; stroke-width: 1.0;\"/><polygon fill=\"#383838\" points=\"87.67,193.06,81.6505,197.0305,83.0003,204.1142,89.0199,200.1436,87.67,193.06\" style=\"stroke: #383838; stroke-width: 1.0;\"/></a><!--MD5=[bfc3ddf2e613be37104f658f09af896c]\n",
       "link E9 to E5--><a href=\"psysml:fc8a5d52-f7b0-45e1-9a4f-1e932b65f071\" target=\"_top\" title=\"psysml:fc8a5d52-f7b0-45e1-9a4f-1e932b65f071\" xlink:actuate=\"onRequest\" xlink:href=\"psysml:fc8a5d52-f7b0-45e1-9a4f-1e932b65f071\" xlink:show=\"new\" xlink:title=\"psysml:fc8a5d52-f7b0-45e1-9a4f-1e932b65f071\" xlink:type=\"simple\"><path d=\"M55.54,299.06 C56.88,310.64 58.56,325.23 60.14,338.87 \" fill=\"none\" id=\"E9-&gt;E5\" style=\"stroke: #383838; stroke-width: 1.0;\"/><polygon fill=\"#FFFFFF\" points=\"62.46,358.98,53.3347,340.9044,67.243,339.3046,62.46,358.98\" style=\"stroke: #383838; stroke-width: 1.0;\"/><ellipse cx=\"54.6702\" cy=\"335.0132\" fill=\"#383838\" rx=\"2\" ry=\"2\" style=\"stroke: #383838; stroke-width: 1.0;\"/><ellipse cx=\"64.6047\" cy=\"333.8704\" fill=\"#383838\" rx=\"2\" ry=\"2\" style=\"stroke: #383838; stroke-width: 1.0;\"/></a><!--MD5=[a919e0967d6f3de553dc51b9865a1d6d]\n",
       "link E10 to E7--><a href=\"psysml:2e3833d6-0a03-41e5-9593-325ba84dff2e\" target=\"_top\" title=\"psysml:2e3833d6-0a03-41e5-9593-325ba84dff2e\" xlink:actuate=\"onRequest\" xlink:href=\"psysml:2e3833d6-0a03-41e5-9593-325ba84dff2e\" xlink:show=\"new\" xlink:title=\"psysml:2e3833d6-0a03-41e5-9593-325ba84dff2e\" xlink:type=\"simple\"><path d=\"M97,87.06 C97,98.64 97,113.23 97,126.87 \" fill=\"none\" id=\"E10-&gt;E7\" style=\"stroke: #383838; stroke-width: 1.0;\"/><polygon fill=\"#FFFFFF\" points=\"97,146.98,90,127.98,104,127.98,97,146.98\" style=\"stroke: #383838; stroke-width: 1.0;\"/><ellipse cx=\"92\" cy=\"122.28\" fill=\"#383838\" rx=\"2\" ry=\"2\" style=\"stroke: #383838; stroke-width: 1.0;\"/><ellipse cx=\"102\" cy=\"122.28\" fill=\"#383838\" rx=\"2\" ry=\"2\" style=\"stroke: #383838; stroke-width: 1.0;\"/></a><!--MD5=[6aee78d05d74074574f7e8288756ad00]\n",
       "@startuml\r\n",
       "top to bottom direction\r\n",
       "skinparam monochrome true\r\n",
       "skinparam classbackgroundcolor white\r\n",
       "skinparam shadowing false\r\n",
       "skinparam wrapWidth 300\r\n",
       "hide circle\r\n",
       "\r\n",
       "package \"Q\" as E1  [[psysml:427a19be-4ba6-433c-b392-6823bf74d458 ]]  {\r\n",
       "comp def \"F\" as E2  <<(T,blue) part def>> [[psysml:027effde-34e9-4491-ba0c-9f82cacaad23 ]] {\r\n",
       "}\r\n",
       "comp usage \"a\" as E3  <<(T,blue) part>> [[psysml:241a9b2a-e9cc-4b19-964a-2424b61c0639 ]] {\r\n",
       "}\r\n",
       "comp usage \"f: F\" as E4  <<(T,blue) part>> [[psysml:40835df5-3f1f-4886-9446-1465d21ad736 ]] {\r\n",
       "}\r\n",
       "comp def \"A\" as E5  <<(T,blue) part def>> [[psysml:299c2c32-5ec1-43b2-a066-b7748b01150c ]] {\r\n",
       "}\r\n",
       "comp usage \"g\" as E6  <<(T,blue) part>> [[psysml:31dec55f-8acf-4d42-bd51-f4047894820c ]] {\r\n",
       "}\r\n",
       "comp def \"B\" as E7  <<(T,blue) part def>> [[psysml:e57a8ff4-b454-49af-9671-50f81189572a ]] {\r\n",
       "}\r\n",
       "comp usage \"f: F\" as E8  <<(T,blue) part>> [[psysml:ae9b8861-e9cc-45e7-97b3-375fd90ac7d9 ]] {\r\n",
       "}\r\n",
       "comp usage \"a: A\" as E9  <<(T,blue) part>> [[psysml:d620b19b-a1e2-497d-8cad-3b2dc38fedc0 ]] {\r\n",
       "}\r\n",
       "comp usage \"b: B\" as E10  <<(T,blue) part>> [[psysml:f9a1a989-561d-4119-971e-8ebceafa94b4 ]] {\r\n",
       "}\r\n",
       "E2 *- - E3 [[psysml:5ee10b2b-55c1-4a08-a13b-bdb74e3f50e5 ]] \r\n",
       "E4 - -:|> E2 [[psysml:c4c1c0e2-eca3-4dc3-a203-c30912c3ab2b ]] \r\n",
       "E5 *- - E6 [[psysml:93463b7d-149f-4a15-b84b-177a9e530eda ]] \r\n",
       "E7 *- - E8 [[psysml:de6f8f38-3125-456b-a954-15a696931b63 ]] \r\n",
       "E8 - -:|> E2 [[psysml:536a95df-7241-4403-bcab-1aa9fe7a4b7d ]] \r\n",
       "E7 *- - E9 [[psysml:2c441a1b-e979-4985-bcd5-61f8c13172d0 ]] \r\n",
       "E9 - -:|> E5 [[psysml:fc8a5d52-f7b0-45e1-9a4f-1e932b65f071 ]] \r\n",
       "E10 - -:|> E7 [[psysml:2e3833d6-0a03-41e5-9593-325ba84dff2e ]] \r\n",
       "}\r\n",
       "@enduml\r\n",
       "\n",
       "PlantUML version 1.2020.13(Sat Jun 13 12:26:38 UTC 2020)\n",
       "(EPL source distribution)\n",
       "Java Runtime: OpenJDK Runtime Environment\n",
       "JVM: OpenJDK 64-Bit Server VM\n",
       "Default Encoding: UTF-8\n",
       "Language: en\n",
       "Country: null\n",
       "--></g></svg>"
      ]
     },
     "execution_count": 44,
     "metadata": {},
     "output_type": "execute_result"
    }
   ],
   "source": [
    "%viz --style=\"TB\" --view=\"Default\" \"Q\""
   ]
  },
  {
   "cell_type": "code",
   "execution_count": 45,
   "id": "5a5b4b68",
   "metadata": {
    "execution": {
     "iopub.execute_input": "2021-06-30T09:23:35.863307Z",
     "iopub.status.busy": "2021-06-30T09:23:35.862556Z",
     "iopub.status.idle": "2021-06-30T09:23:35.933599Z",
     "shell.execute_reply": "2021-06-30T09:23:35.932952Z"
    }
   },
   "outputs": [
    {
     "data": {
      "image/svg+xml": [
       "<?xml version=\"1.0\" encoding=\"UTF-8\" standalone=\"no\"?><svg xmlns=\"http://www.w3.org/2000/svg\" xmlns:xlink=\"http://www.w3.org/1999/xlink\" contentScriptType=\"application/ecmascript\" contentStyleType=\"text/css\" height=\"539px\" preserveAspectRatio=\"none\" style=\"width:266px;height:539px;\" version=\"1.1\" viewBox=\"0 0 266 539\" width=\"266px\" zoomAndPan=\"magnify\"><defs/><g><!--MD5=[fbc87193dbaf4d95561dea2c320d4a47]\n",
       "cluster E1--><a href=\"psysml:427a19be-4ba6-433c-b392-6823bf74d458\" target=\"_top\" title=\"psysml:427a19be-4ba6-433c-b392-6823bf74d458\" xlink:actuate=\"onRequest\" xlink:href=\"psysml:427a19be-4ba6-433c-b392-6823bf74d458\" xlink:show=\"new\" xlink:title=\"psysml:427a19be-4ba6-433c-b392-6823bf74d458\" xlink:type=\"simple\"><polygon fill=\"#FFFFFF\" points=\"16,6,34,6,41,28.2969,244,28.2969,244,527,16,527,16,6\" style=\"stroke: #000000; stroke-width: 1.5;\"/><line style=\"stroke: #000000; stroke-width: 1.5;\" x1=\"16\" x2=\"41\" y1=\"28.2969\" y2=\"28.2969\"/><text fill=\"#000000\" font-family=\"sans-serif\" font-size=\"14\" font-weight=\"bold\" lengthAdjust=\"spacingAndGlyphs\" textLength=\"12\" x=\"20\" y=\"20.9951\">Q</text></a><!--MD5=[b4997ac47864f28c2f74865a473b2911]\n",
       "class E2--><a href=\"psysml:027effde-34e9-4491-ba0c-9f82cacaad23\" target=\"_top\" title=\"psysml:027effde-34e9-4491-ba0c-9f82cacaad23\" xlink:actuate=\"onRequest\" xlink:href=\"psysml:027effde-34e9-4491-ba0c-9f82cacaad23\" xlink:show=\"new\" xlink:title=\"psysml:027effde-34e9-4491-ba0c-9f82cacaad23\" xlink:type=\"simple\"><rect fill=\"#FFFFFF\" height=\"45.9375\" id=\"E2\" style=\"stroke: #383838; stroke-width: 1.5;\" width=\"66\" x=\"147\" y=\"359\"/><text fill=\"#000000\" font-family=\"sans-serif\" font-size=\"12\" font-style=\"italic\" lengthAdjust=\"spacingAndGlyphs\" textLength=\"64\" x=\"148\" y=\"375.1387\">«part def»</text><text fill=\"#000000\" font-family=\"sans-serif\" font-size=\"12\" lengthAdjust=\"spacingAndGlyphs\" textLength=\"7\" x=\"176.5\" y=\"389.1074\">F</text><line style=\"stroke: #383838; stroke-width: 1.5;\" x1=\"148\" x2=\"212\" y1=\"396.9375\" y2=\"396.9375\"/></a><!--MD5=[09b614a08d8cba4a07c9adeb5e0fee81]\n",
       "class E3--><a href=\"psysml:241a9b2a-e9cc-4b19-964a-2424b61c0639\" target=\"_top\" title=\"psysml:241a9b2a-e9cc-4b19-964a-2424b61c0639\" xlink:actuate=\"onRequest\" xlink:href=\"psysml:241a9b2a-e9cc-4b19-964a-2424b61c0639\" xlink:show=\"new\" xlink:title=\"psysml:241a9b2a-e9cc-4b19-964a-2424b61c0639\" xlink:type=\"simple\"><rect fill=\"#FFFFFF\" height=\"45.9375\" id=\"E3\" rx=\"10\" ry=\"10\" style=\"stroke: #383838; stroke-width: 1.5;\" width=\"42\" x=\"159\" y=\"465\"/><text fill=\"#000000\" font-family=\"sans-serif\" font-size=\"12\" font-style=\"italic\" lengthAdjust=\"spacingAndGlyphs\" textLength=\"40\" x=\"160\" y=\"481.1387\">«part»</text><text fill=\"#000000\" font-family=\"sans-serif\" font-size=\"12\" lengthAdjust=\"spacingAndGlyphs\" textLength=\"8\" x=\"176\" y=\"495.1074\">a</text><line style=\"stroke: #383838; stroke-width: 1.5;\" x1=\"160\" x2=\"200\" y1=\"502.9375\" y2=\"502.9375\"/></a><!--MD5=[ebbe1d658d1005bcc118a6aa81145e00]\n",
       "class E4--><a href=\"psysml:40835df5-3f1f-4886-9446-1465d21ad736\" target=\"_top\" title=\"psysml:40835df5-3f1f-4886-9446-1465d21ad736\" xlink:actuate=\"onRequest\" xlink:href=\"psysml:40835df5-3f1f-4886-9446-1465d21ad736\" xlink:show=\"new\" xlink:title=\"psysml:40835df5-3f1f-4886-9446-1465d21ad736\" xlink:type=\"simple\"><rect fill=\"#FFFFFF\" height=\"45.9375\" id=\"E4\" rx=\"10\" ry=\"10\" style=\"stroke: #383838; stroke-width: 1.5;\" width=\"42\" x=\"186\" y=\"253\"/><text fill=\"#000000\" font-family=\"sans-serif\" font-size=\"12\" font-style=\"italic\" lengthAdjust=\"spacingAndGlyphs\" textLength=\"40\" x=\"187\" y=\"269.1387\">«part»</text><text fill=\"#000000\" font-family=\"sans-serif\" font-size=\"12\" lengthAdjust=\"spacingAndGlyphs\" textLength=\"19\" x=\"197.5\" y=\"283.1074\">f: F</text><line style=\"stroke: #383838; stroke-width: 1.5;\" x1=\"187\" x2=\"227\" y1=\"290.9375\" y2=\"290.9375\"/></a><!--MD5=[270fce915f116d4de14055a7c1d9a0f3]\n",
       "class E5--><a href=\"psysml:299c2c32-5ec1-43b2-a066-b7748b01150c\" target=\"_top\" title=\"psysml:299c2c32-5ec1-43b2-a066-b7748b01150c\" xlink:actuate=\"onRequest\" xlink:href=\"psysml:299c2c32-5ec1-43b2-a066-b7748b01150c\" xlink:show=\"new\" xlink:title=\"psysml:299c2c32-5ec1-43b2-a066-b7748b01150c\" xlink:type=\"simple\"><rect fill=\"#FFFFFF\" height=\"45.9375\" id=\"E5\" style=\"stroke: #383838; stroke-width: 1.5;\" width=\"66\" x=\"32\" y=\"359\"/><text fill=\"#000000\" font-family=\"sans-serif\" font-size=\"12\" font-style=\"italic\" lengthAdjust=\"spacingAndGlyphs\" textLength=\"64\" x=\"33\" y=\"375.1387\">«part def»</text><text fill=\"#000000\" font-family=\"sans-serif\" font-size=\"12\" lengthAdjust=\"spacingAndGlyphs\" textLength=\"8\" x=\"61\" y=\"389.1074\">A</text><line style=\"stroke: #383838; stroke-width: 1.5;\" x1=\"33\" x2=\"97\" y1=\"396.9375\" y2=\"396.9375\"/></a><!--MD5=[60a26617385b1d2d0262a64233df1f8d]\n",
       "class E6--><a href=\"psysml:31dec55f-8acf-4d42-bd51-f4047894820c\" target=\"_top\" title=\"psysml:31dec55f-8acf-4d42-bd51-f4047894820c\" xlink:actuate=\"onRequest\" xlink:href=\"psysml:31dec55f-8acf-4d42-bd51-f4047894820c\" xlink:show=\"new\" xlink:title=\"psysml:31dec55f-8acf-4d42-bd51-f4047894820c\" xlink:type=\"simple\"><rect fill=\"#FFFFFF\" height=\"45.9375\" id=\"E6\" rx=\"10\" ry=\"10\" style=\"stroke: #383838; stroke-width: 1.5;\" width=\"42\" x=\"44\" y=\"465\"/><text fill=\"#000000\" font-family=\"sans-serif\" font-size=\"12\" font-style=\"italic\" lengthAdjust=\"spacingAndGlyphs\" textLength=\"40\" x=\"45\" y=\"481.1387\">«part»</text><text fill=\"#000000\" font-family=\"sans-serif\" font-size=\"12\" lengthAdjust=\"spacingAndGlyphs\" textLength=\"8\" x=\"61\" y=\"495.1074\">g</text><line style=\"stroke: #383838; stroke-width: 1.5;\" x1=\"45\" x2=\"85\" y1=\"502.9375\" y2=\"502.9375\"/></a><!--MD5=[2156ba9850f5573cc1fc38a6a4b2f02b]\n",
       "class E7--><a href=\"psysml:e57a8ff4-b454-49af-9671-50f81189572a\" target=\"_top\" title=\"psysml:e57a8ff4-b454-49af-9671-50f81189572a\" xlink:actuate=\"onRequest\" xlink:href=\"psysml:e57a8ff4-b454-49af-9671-50f81189572a\" xlink:show=\"new\" xlink:title=\"psysml:e57a8ff4-b454-49af-9671-50f81189572a\" xlink:type=\"simple\"><rect fill=\"#FFFFFF\" height=\"45.9375\" id=\"E7\" style=\"stroke: #383838; stroke-width: 1.5;\" width=\"66\" x=\"64\" y=\"147\"/><text fill=\"#000000\" font-family=\"sans-serif\" font-size=\"12\" font-style=\"italic\" lengthAdjust=\"spacingAndGlyphs\" textLength=\"64\" x=\"65\" y=\"163.1387\">«part def»</text><text fill=\"#000000\" font-family=\"sans-serif\" font-size=\"12\" lengthAdjust=\"spacingAndGlyphs\" textLength=\"8\" x=\"93\" y=\"177.1074\">B</text><line style=\"stroke: #383838; stroke-width: 1.5;\" x1=\"65\" x2=\"129\" y1=\"184.9375\" y2=\"184.9375\"/></a><!--MD5=[b9389687b975829384b498ac4b7476b2]\n",
       "class E8--><a href=\"psysml:ae9b8861-e9cc-45e7-97b3-375fd90ac7d9\" target=\"_top\" title=\"psysml:ae9b8861-e9cc-45e7-97b3-375fd90ac7d9\" xlink:actuate=\"onRequest\" xlink:href=\"psysml:ae9b8861-e9cc-45e7-97b3-375fd90ac7d9\" xlink:show=\"new\" xlink:title=\"psysml:ae9b8861-e9cc-45e7-97b3-375fd90ac7d9\" xlink:type=\"simple\"><rect fill=\"#FFFFFF\" height=\"45.9375\" id=\"E8\" rx=\"10\" ry=\"10\" style=\"stroke: #383838; stroke-width: 1.5;\" width=\"42\" x=\"109\" y=\"253\"/><text fill=\"#000000\" font-family=\"sans-serif\" font-size=\"12\" font-style=\"italic\" lengthAdjust=\"spacingAndGlyphs\" textLength=\"40\" x=\"110\" y=\"269.1387\">«part»</text><text fill=\"#000000\" font-family=\"sans-serif\" font-size=\"12\" lengthAdjust=\"spacingAndGlyphs\" textLength=\"19\" x=\"120.5\" y=\"283.1074\">f: F</text><line style=\"stroke: #383838; stroke-width: 1.5;\" x1=\"110\" x2=\"150\" y1=\"290.9375\" y2=\"290.9375\"/></a><!--MD5=[fd4143e9d270a159db93a4ea2a975926]\n",
       "class E9--><a href=\"psysml:d620b19b-a1e2-497d-8cad-3b2dc38fedc0\" target=\"_top\" title=\"psysml:d620b19b-a1e2-497d-8cad-3b2dc38fedc0\" xlink:actuate=\"onRequest\" xlink:href=\"psysml:d620b19b-a1e2-497d-8cad-3b2dc38fedc0\" xlink:show=\"new\" xlink:title=\"psysml:d620b19b-a1e2-497d-8cad-3b2dc38fedc0\" xlink:type=\"simple\"><rect fill=\"#FFFFFF\" height=\"45.9375\" id=\"E9\" rx=\"10\" ry=\"10\" style=\"stroke: #383838; stroke-width: 1.5;\" width=\"42\" x=\"32\" y=\"253\"/><text fill=\"#000000\" font-family=\"sans-serif\" font-size=\"12\" font-style=\"italic\" lengthAdjust=\"spacingAndGlyphs\" textLength=\"40\" x=\"33\" y=\"269.1387\">«part»</text><text fill=\"#000000\" font-family=\"sans-serif\" font-size=\"12\" lengthAdjust=\"spacingAndGlyphs\" textLength=\"24\" x=\"41\" y=\"283.1074\">a: A</text><line style=\"stroke: #383838; stroke-width: 1.5;\" x1=\"33\" x2=\"73\" y1=\"290.9375\" y2=\"290.9375\"/></a><!--MD5=[96f4274e9e20536e775497830990834d]\n",
       "class E10--><a href=\"psysml:f9a1a989-561d-4119-971e-8ebceafa94b4\" target=\"_top\" title=\"psysml:f9a1a989-561d-4119-971e-8ebceafa94b4\" xlink:actuate=\"onRequest\" xlink:href=\"psysml:f9a1a989-561d-4119-971e-8ebceafa94b4\" xlink:show=\"new\" xlink:title=\"psysml:f9a1a989-561d-4119-971e-8ebceafa94b4\" xlink:type=\"simple\"><rect fill=\"#FFFFFF\" height=\"45.9375\" id=\"E10\" rx=\"10\" ry=\"10\" style=\"stroke: #383838; stroke-width: 1.5;\" width=\"42\" x=\"76\" y=\"41\"/><text fill=\"#000000\" font-family=\"sans-serif\" font-size=\"12\" font-style=\"italic\" lengthAdjust=\"spacingAndGlyphs\" textLength=\"40\" x=\"77\" y=\"57.1387\">«part»</text><text fill=\"#000000\" font-family=\"sans-serif\" font-size=\"12\" lengthAdjust=\"spacingAndGlyphs\" textLength=\"24\" x=\"85\" y=\"71.1074\">b: B</text><line style=\"stroke: #383838; stroke-width: 1.5;\" x1=\"77\" x2=\"117\" y1=\"78.9375\" y2=\"78.9375\"/></a><!--MD5=[209b3feb70ccb6233bfe1053d122c12c]\n",
       "reverse link E2 to E3--><a href=\"psysml:5ee10b2b-55c1-4a08-a13b-bdb74e3f50e5\" target=\"_top\" title=\"psysml:5ee10b2b-55c1-4a08-a13b-bdb74e3f50e5\" xlink:actuate=\"onRequest\" xlink:href=\"psysml:5ee10b2b-55c1-4a08-a13b-bdb74e3f50e5\" xlink:show=\"new\" xlink:title=\"psysml:5ee10b2b-55c1-4a08-a13b-bdb74e3f50e5\" xlink:type=\"simple\"><path d=\"M180,418.44 C180,433.87 180,451.47 180,464.98 \" fill=\"none\" id=\"E2&lt;-E3\" style=\"stroke: #383838; stroke-width: 1.0;\"/><polygon fill=\"#383838\" points=\"180,405.06,176,411.06,180,417.06,184,411.06,180,405.06\" style=\"stroke: #383838; stroke-width: 1.0;\"/></a><!--MD5=[185131fc0dcab0a4505a2ebe144e961b]\n",
       "link E4 to E2--><a href=\"psysml:c4c1c0e2-eca3-4dc3-a203-c30912c3ab2b\" target=\"_top\" title=\"psysml:c4c1c0e2-eca3-4dc3-a203-c30912c3ab2b\" xlink:actuate=\"onRequest\" xlink:href=\"psysml:c4c1c0e2-eca3-4dc3-a203-c30912c3ab2b\" xlink:show=\"new\" xlink:title=\"psysml:c4c1c0e2-eca3-4dc3-a203-c30912c3ab2b\" xlink:type=\"simple\"><path d=\"M201.27,299.06 C198.23,310.78 194.39,325.57 190.81,339.36 \" fill=\"none\" id=\"E4-&gt;E2\" style=\"stroke: #383838; stroke-width: 1.0;\"/><polygon fill=\"#FFFFFF\" points=\"185.72,358.98,183.7221,338.8303,197.2724,342.3504,185.72,358.98\" style=\"stroke: #383838; stroke-width: 1.0;\"/><ellipse cx=\"187.091\" cy=\"333.8163\" fill=\"#383838\" rx=\"2\" ry=\"2\" style=\"stroke: #383838; stroke-width: 1.0;\"/><ellipse cx=\"196.7698\" cy=\"336.3307\" fill=\"#383838\" rx=\"2\" ry=\"2\" style=\"stroke: #383838; stroke-width: 1.0;\"/></a><!--MD5=[85d356282659285ab4b2cfe2f634dd2b]\n",
       "reverse link E5 to E6--><a href=\"psysml:93463b7d-149f-4a15-b84b-177a9e530eda\" target=\"_top\" title=\"psysml:93463b7d-149f-4a15-b84b-177a9e530eda\" xlink:actuate=\"onRequest\" xlink:href=\"psysml:93463b7d-149f-4a15-b84b-177a9e530eda\" xlink:show=\"new\" xlink:title=\"psysml:93463b7d-149f-4a15-b84b-177a9e530eda\" xlink:type=\"simple\"><path d=\"M65,418.44 C65,433.87 65,451.47 65,464.98 \" fill=\"none\" id=\"E5&lt;-E6\" style=\"stroke: #383838; stroke-width: 1.0;\"/><polygon fill=\"#383838\" points=\"65,405.06,61,411.06,65,417.06,69,411.06,65,405.06\" style=\"stroke: #383838; stroke-width: 1.0;\"/></a><!--MD5=[dc164f5e8a733ab456ef1add180e9e34]\n",
       "reverse link E7 to E8--><a href=\"psysml:de6f8f38-3125-456b-a954-15a696931b63\" target=\"_top\" title=\"psysml:de6f8f38-3125-456b-a954-15a696931b63\" xlink:actuate=\"onRequest\" xlink:href=\"psysml:de6f8f38-3125-456b-a954-15a696931b63\" xlink:show=\"new\" xlink:title=\"psysml:de6f8f38-3125-456b-a954-15a696931b63\" xlink:type=\"simple\"><path d=\"M107.95,205.49 C112.91,221.15 118.64,239.19 123.01,252.98 \" fill=\"none\" id=\"E7&lt;-E8\" style=\"stroke: #383838; stroke-width: 1.0;\"/><polygon fill=\"#383838\" points=\"104,193.06,101.9989,199.9879,107.6243,204.4996,109.6253,197.5717,104,193.06\" style=\"stroke: #383838; stroke-width: 1.0;\"/></a><!--MD5=[f1f3f9f2fc535e6147756cb86a7f2e32]\n",
       "link E8 to E2--><a href=\"psysml:536a95df-7241-4403-bcab-1aa9fe7a4b7d\" target=\"_top\" title=\"psysml:536a95df-7241-4403-bcab-1aa9fe7a4b7d\" xlink:actuate=\"onRequest\" xlink:href=\"psysml:536a95df-7241-4403-bcab-1aa9fe7a4b7d\" xlink:show=\"new\" xlink:title=\"psysml:536a95df-7241-4403-bcab-1aa9fe7a4b7d\" xlink:type=\"simple\"><path d=\"M140.6,299.06 C146.44,311.19 153.86,326.62 160.68,340.82 \" fill=\"none\" id=\"E8-&gt;E2\" style=\"stroke: #383838; stroke-width: 1.0;\"/><polygon fill=\"#FFFFFF\" points=\"169.41,358.98,154.8709,344.8869,167.4894,338.8228,169.41,358.98\" style=\"stroke: #383838; stroke-width: 1.0;\"/><ellipse cx=\"154.2046\" cy=\"338.8831\" fill=\"#383838\" rx=\"2\" ry=\"2\" style=\"stroke: #383838; stroke-width: 1.0;\"/><ellipse cx=\"163.2178\" cy=\"334.5516\" fill=\"#383838\" rx=\"2\" ry=\"2\" style=\"stroke: #383838; stroke-width: 1.0;\"/></a><!--MD5=[e4a10ef82d0e328e31cac39a31e58dda]\n",
       "reverse link E7 to E9--><a href=\"psysml:2c441a1b-e979-4985-bcd5-61f8c13172d0\" target=\"_top\" title=\"psysml:2c441a1b-e979-4985-bcd5-61f8c13172d0\" xlink:actuate=\"onRequest\" xlink:href=\"psysml:2c441a1b-e979-4985-bcd5-61f8c13172d0\" xlink:show=\"new\" xlink:title=\"psysml:2c441a1b-e979-4985-bcd5-61f8c13172d0\" xlink:type=\"simple\"><path d=\"M82.41,205.49 C75.78,221.15 68.15,239.19 62.32,252.98 \" fill=\"none\" id=\"E7&lt;-E9\" style=\"stroke: #383838; stroke-width: 1.0;\"/><polygon fill=\"#383838\" points=\"87.67,193.06,81.6505,197.0305,83.0003,204.1142,89.0199,200.1436,87.67,193.06\" style=\"stroke: #383838; stroke-width: 1.0;\"/></a><!--MD5=[bfc3ddf2e613be37104f658f09af896c]\n",
       "link E9 to E5--><a href=\"psysml:fc8a5d52-f7b0-45e1-9a4f-1e932b65f071\" target=\"_top\" title=\"psysml:fc8a5d52-f7b0-45e1-9a4f-1e932b65f071\" xlink:actuate=\"onRequest\" xlink:href=\"psysml:fc8a5d52-f7b0-45e1-9a4f-1e932b65f071\" xlink:show=\"new\" xlink:title=\"psysml:fc8a5d52-f7b0-45e1-9a4f-1e932b65f071\" xlink:type=\"simple\"><path d=\"M55.54,299.06 C56.88,310.64 58.56,325.23 60.14,338.87 \" fill=\"none\" id=\"E9-&gt;E5\" style=\"stroke: #383838; stroke-width: 1.0;\"/><polygon fill=\"#FFFFFF\" points=\"62.46,358.98,53.3347,340.9044,67.243,339.3046,62.46,358.98\" style=\"stroke: #383838; stroke-width: 1.0;\"/><ellipse cx=\"54.6702\" cy=\"335.0132\" fill=\"#383838\" rx=\"2\" ry=\"2\" style=\"stroke: #383838; stroke-width: 1.0;\"/><ellipse cx=\"64.6047\" cy=\"333.8704\" fill=\"#383838\" rx=\"2\" ry=\"2\" style=\"stroke: #383838; stroke-width: 1.0;\"/></a><!--MD5=[a919e0967d6f3de553dc51b9865a1d6d]\n",
       "link E10 to E7--><a href=\"psysml:2e3833d6-0a03-41e5-9593-325ba84dff2e\" target=\"_top\" title=\"psysml:2e3833d6-0a03-41e5-9593-325ba84dff2e\" xlink:actuate=\"onRequest\" xlink:href=\"psysml:2e3833d6-0a03-41e5-9593-325ba84dff2e\" xlink:show=\"new\" xlink:title=\"psysml:2e3833d6-0a03-41e5-9593-325ba84dff2e\" xlink:type=\"simple\"><path d=\"M97,87.06 C97,98.64 97,113.23 97,126.87 \" fill=\"none\" id=\"E10-&gt;E7\" style=\"stroke: #383838; stroke-width: 1.0;\"/><polygon fill=\"#FFFFFF\" points=\"97,146.98,90,127.98,104,127.98,97,146.98\" style=\"stroke: #383838; stroke-width: 1.0;\"/><ellipse cx=\"92\" cy=\"122.28\" fill=\"#383838\" rx=\"2\" ry=\"2\" style=\"stroke: #383838; stroke-width: 1.0;\"/><ellipse cx=\"102\" cy=\"122.28\" fill=\"#383838\" rx=\"2\" ry=\"2\" style=\"stroke: #383838; stroke-width: 1.0;\"/></a><!--MD5=[6aee78d05d74074574f7e8288756ad00]\n",
       "@startuml\r\n",
       "top to bottom direction\r\n",
       "skinparam monochrome true\r\n",
       "skinparam classbackgroundcolor white\r\n",
       "skinparam shadowing false\r\n",
       "skinparam wrapWidth 300\r\n",
       "hide circle\r\n",
       "\r\n",
       "package \"Q\" as E1  [[psysml:427a19be-4ba6-433c-b392-6823bf74d458 ]]  {\r\n",
       "comp def \"F\" as E2  <<(T,blue) part def>> [[psysml:027effde-34e9-4491-ba0c-9f82cacaad23 ]] {\r\n",
       "}\r\n",
       "comp usage \"a\" as E3  <<(T,blue) part>> [[psysml:241a9b2a-e9cc-4b19-964a-2424b61c0639 ]] {\r\n",
       "}\r\n",
       "comp usage \"f: F\" as E4  <<(T,blue) part>> [[psysml:40835df5-3f1f-4886-9446-1465d21ad736 ]] {\r\n",
       "}\r\n",
       "comp def \"A\" as E5  <<(T,blue) part def>> [[psysml:299c2c32-5ec1-43b2-a066-b7748b01150c ]] {\r\n",
       "}\r\n",
       "comp usage \"g\" as E6  <<(T,blue) part>> [[psysml:31dec55f-8acf-4d42-bd51-f4047894820c ]] {\r\n",
       "}\r\n",
       "comp def \"B\" as E7  <<(T,blue) part def>> [[psysml:e57a8ff4-b454-49af-9671-50f81189572a ]] {\r\n",
       "}\r\n",
       "comp usage \"f: F\" as E8  <<(T,blue) part>> [[psysml:ae9b8861-e9cc-45e7-97b3-375fd90ac7d9 ]] {\r\n",
       "}\r\n",
       "comp usage \"a: A\" as E9  <<(T,blue) part>> [[psysml:d620b19b-a1e2-497d-8cad-3b2dc38fedc0 ]] {\r\n",
       "}\r\n",
       "comp usage \"b: B\" as E10  <<(T,blue) part>> [[psysml:f9a1a989-561d-4119-971e-8ebceafa94b4 ]] {\r\n",
       "}\r\n",
       "E2 *- - E3 [[psysml:5ee10b2b-55c1-4a08-a13b-bdb74e3f50e5 ]] \r\n",
       "E4 - -:|> E2 [[psysml:c4c1c0e2-eca3-4dc3-a203-c30912c3ab2b ]] \r\n",
       "E5 *- - E6 [[psysml:93463b7d-149f-4a15-b84b-177a9e530eda ]] \r\n",
       "E7 *- - E8 [[psysml:de6f8f38-3125-456b-a954-15a696931b63 ]] \r\n",
       "E8 - -:|> E2 [[psysml:536a95df-7241-4403-bcab-1aa9fe7a4b7d ]] \r\n",
       "E7 *- - E9 [[psysml:2c441a1b-e979-4985-bcd5-61f8c13172d0 ]] \r\n",
       "E9 - -:|> E5 [[psysml:fc8a5d52-f7b0-45e1-9a4f-1e932b65f071 ]] \r\n",
       "E10 - -:|> E7 [[psysml:2e3833d6-0a03-41e5-9593-325ba84dff2e ]] \r\n",
       "}\r\n",
       "@enduml\r\n",
       "\n",
       "PlantUML version 1.2020.13(Sat Jun 13 12:26:38 UTC 2020)\n",
       "(EPL source distribution)\n",
       "Java Runtime: OpenJDK Runtime Environment\n",
       "JVM: OpenJDK 64-Bit Server VM\n",
       "Default Encoding: UTF-8\n",
       "Language: en\n",
       "Country: null\n",
       "--></g></svg>"
      ]
     },
     "execution_count": 45,
     "metadata": {},
     "output_type": "execute_result"
    }
   ],
   "source": [
    "%viz --style=\"TB\" --view=\"Tree\" \"Q\""
   ]
  },
  {
   "cell_type": "code",
   "execution_count": 46,
   "id": "25d5ecf3",
   "metadata": {
    "execution": {
     "iopub.execute_input": "2021-06-30T09:23:35.987165Z",
     "iopub.status.busy": "2021-06-30T09:23:35.985321Z",
     "iopub.status.idle": "2021-06-30T09:23:35.993993Z",
     "shell.execute_reply": "2021-06-30T09:23:35.994470Z"
    }
   },
   "outputs": [
    {
     "data": {
      "image/svg+xml": [
       "<?xml version=\"1.0\" encoding=\"UTF-8\" standalone=\"no\"?><svg xmlns=\"http://www.w3.org/2000/svg\" xmlns:xlink=\"http://www.w3.org/1999/xlink\" contentScriptType=\"application/ecmascript\" contentStyleType=\"text/css\" height=\"12px\" preserveAspectRatio=\"none\" style=\"width:12px;height:12px;\" version=\"1.1\" viewBox=\"0 0 12 12\" width=\"12px\" zoomAndPan=\"magnify\"><defs/><g><!--MD5=[f4ee21bc66e489b5061b7c3e9601fdef]\n",
       "@startuml\r\n",
       "top to bottom direction\r\n",
       "skinparam monochrome true\r\n",
       "skinparam classbackgroundcolor white\r\n",
       "skinparam shadowing false\r\n",
       "skinparam wrapWidth 300\r\n",
       "hide circle\r\n",
       "\r\n",
       "@enduml\r\n",
       "\n",
       "PlantUML version 1.2020.13(Sat Jun 13 12:26:38 UTC 2020)\n",
       "(EPL source distribution)\n",
       "Java Runtime: OpenJDK Runtime Environment\n",
       "JVM: OpenJDK 64-Bit Server VM\n",
       "Default Encoding: UTF-8\n",
       "Language: en\n",
       "Country: null\n",
       "--></g></svg>"
      ]
     },
     "execution_count": 46,
     "metadata": {},
     "output_type": "execute_result"
    }
   ],
   "source": [
    "%viz --style=\"TB\" --view=\"State\" \"Q\""
   ]
  },
  {
   "cell_type": "code",
   "execution_count": 47,
   "id": "8d540514",
   "metadata": {
    "execution": {
     "iopub.execute_input": "2021-06-30T09:23:36.045267Z",
     "iopub.status.busy": "2021-06-30T09:23:36.044594Z",
     "iopub.status.idle": "2021-06-30T09:23:36.127332Z",
     "shell.execute_reply": "2021-06-30T09:23:36.122417Z"
    }
   },
   "outputs": [
    {
     "data": {
      "image/svg+xml": [
       "<?xml version=\"1.0\" encoding=\"UTF-8\" standalone=\"no\"?><svg xmlns=\"http://www.w3.org/2000/svg\" xmlns:xlink=\"http://www.w3.org/1999/xlink\" contentScriptType=\"application/ecmascript\" contentStyleType=\"text/css\" height=\"374px\" preserveAspectRatio=\"none\" style=\"width:616px;height:374px;\" version=\"1.1\" viewBox=\"0 0 616 374\" width=\"616px\" zoomAndPan=\"magnify\"><defs/><g><!--MD5=[fbc87193dbaf4d95561dea2c320d4a47]\n",
       "cluster E1--><a href=\"psysml:427a19be-4ba6-433c-b392-6823bf74d458\" target=\"_top\" title=\"psysml:427a19be-4ba6-433c-b392-6823bf74d458\" xlink:actuate=\"onRequest\" xlink:href=\"psysml:427a19be-4ba6-433c-b392-6823bf74d458\" xlink:show=\"new\" xlink:title=\"psysml:427a19be-4ba6-433c-b392-6823bf74d458\" xlink:type=\"simple\"><polygon fill=\"#FFFFFF\" points=\"16,6,34,6,41,28.2969,594,28.2969,594,362,16,362,16,6\" style=\"stroke: #000000; stroke-width: 1.5;\"/><line style=\"stroke: #000000; stroke-width: 1.5;\" x1=\"16\" x2=\"41\" y1=\"28.2969\" y2=\"28.2969\"/><text fill=\"#000000\" font-family=\"sans-serif\" font-size=\"14\" font-weight=\"bold\" lengthAdjust=\"spacingAndGlyphs\" textLength=\"12\" x=\"20\" y=\"20.9951\">Q</text></a><!--MD5=[e4f7fae6ed58524ba242bb0b0d3be6b7]\n",
       "cluster E2--><a href=\"psysml:027effde-34e9-4491-ba0c-9f82cacaad23\" target=\"_top\" title=\"psysml:027effde-34e9-4491-ba0c-9f82cacaad23\" xlink:actuate=\"onRequest\" xlink:href=\"psysml:027effde-34e9-4491-ba0c-9f82cacaad23\" xlink:show=\"new\" xlink:title=\"psysml:027effde-34e9-4491-ba0c-9f82cacaad23\" xlink:type=\"simple\"><rect fill=\"#FFFFFF\" height=\"107\" id=\"E2\" style=\"stroke: #383838; stroke-width: 1.5;\" width=\"87\" x=\"483\" y=\"92\"/><rect fill=\"#F8F8F8\" height=\"37.9375\" style=\"stroke: #383838; stroke-width: 1.5;\" width=\"87\" x=\"483\" y=\"92\"/><text fill=\"#000000\" font-family=\"sans-serif\" font-size=\"12\" font-style=\"italic\" lengthAdjust=\"spacingAndGlyphs\" textLength=\"64\" x=\"494.5\" y=\"108.1387\">«part def»</text><text fill=\"#000000\" font-family=\"sans-serif\" font-size=\"12\" lengthAdjust=\"spacingAndGlyphs\" textLength=\"7\" x=\"523\" y=\"122.1074\">F</text></a><!--MD5=[f6df4d0ebaf0b5dfb2ced0ae5af7c670]\n",
       "cluster E4--><a href=\"psysml:40835df5-3f1f-4886-9446-1465d21ad736\" target=\"_top\" title=\"psysml:40835df5-3f1f-4886-9446-1465d21ad736\" xlink:actuate=\"onRequest\" xlink:href=\"psysml:40835df5-3f1f-4886-9446-1465d21ad736\" xlink:show=\"new\" xlink:title=\"psysml:40835df5-3f1f-4886-9446-1465d21ad736\" xlink:type=\"simple\"><rect fill=\"#FFFFFF\" height=\"91\" id=\"E4\" rx=\"10\" ry=\"10\" style=\"stroke: #383838; stroke-width: 1.5;\" width=\"82\" x=\"377\" y=\"108\"/><rect fill=\"#F8F8F8\" height=\"23.9688\" rx=\"10\" ry=\"10\" style=\"stroke: #F8F8F8; stroke-width: 1.5;\" width=\"82\" x=\"377\" y=\"108\"/><rect fill=\"#F8F8F8\" height=\"10\" style=\"stroke: #F8F8F8; stroke-width: 1.5;\" width=\"82\" x=\"377\" y=\"121.9688\"/><rect fill=\"none\" height=\"91\" id=\"E4\" rx=\"10\" ry=\"10\" style=\"stroke: #383838; stroke-width: 1.5;\" width=\"82\" x=\"377\" y=\"108\"/><text fill=\"#000000\" font-family=\"sans-serif\" font-size=\"12\" lengthAdjust=\"spacingAndGlyphs\" textLength=\"19\" x=\"408.5\" y=\"124.1387\">f: F</text><line style=\"stroke: #383838; stroke-width: 1.0;\" x1=\"377\" x2=\"459\" y1=\"131.9688\" y2=\"131.9688\"/></a><!--MD5=[14e3b0961a2654348d326746436168a1]\n",
       "cluster E6--><a href=\"psysml:299c2c32-5ec1-43b2-a066-b7748b01150c\" target=\"_top\" title=\"psysml:299c2c32-5ec1-43b2-a066-b7748b01150c\" xlink:actuate=\"onRequest\" xlink:href=\"psysml:299c2c32-5ec1-43b2-a066-b7748b01150c\" xlink:show=\"new\" xlink:title=\"psysml:299c2c32-5ec1-43b2-a066-b7748b01150c\" xlink:type=\"simple\"><rect fill=\"#FFFFFF\" height=\"107\" id=\"E6\" style=\"stroke: #383838; stroke-width: 1.5;\" width=\"87\" x=\"266\" y=\"92\"/><rect fill=\"#F8F8F8\" height=\"37.9375\" style=\"stroke: #383838; stroke-width: 1.5;\" width=\"87\" x=\"266\" y=\"92\"/><text fill=\"#000000\" font-family=\"sans-serif\" font-size=\"12\" font-style=\"italic\" lengthAdjust=\"spacingAndGlyphs\" textLength=\"64\" x=\"277.5\" y=\"108.1387\">«part def»</text><text fill=\"#000000\" font-family=\"sans-serif\" font-size=\"12\" lengthAdjust=\"spacingAndGlyphs\" textLength=\"8\" x=\"305.5\" y=\"122.1074\">A</text></a><!--MD5=[55dfccfc6c49c2d10cd1bd2211a6c90c]\n",
       "cluster E8--><a href=\"psysml:e57a8ff4-b454-49af-9671-50f81189572a\" target=\"_top\" title=\"psysml:e57a8ff4-b454-49af-9671-50f81189572a\" xlink:actuate=\"onRequest\" xlink:href=\"psysml:e57a8ff4-b454-49af-9671-50f81189572a\" xlink:show=\"new\" xlink:title=\"psysml:e57a8ff4-b454-49af-9671-50f81189572a\" xlink:type=\"simple\"><rect fill=\"#FFFFFF\" height=\"289\" id=\"E8\" style=\"stroke: #383838; stroke-width: 1.5;\" width=\"144\" x=\"98\" y=\"49\"/><rect fill=\"#F8F8F8\" height=\"37.9375\" style=\"stroke: #383838; stroke-width: 1.5;\" width=\"144\" x=\"98\" y=\"49\"/><text fill=\"#000000\" font-family=\"sans-serif\" font-size=\"12\" font-style=\"italic\" lengthAdjust=\"spacingAndGlyphs\" textLength=\"64\" x=\"138\" y=\"65.1387\">«part def»</text><text fill=\"#000000\" font-family=\"sans-serif\" font-size=\"12\" lengthAdjust=\"spacingAndGlyphs\" textLength=\"8\" x=\"166\" y=\"79.1074\">B</text></a><!--MD5=[7f149f147074ac12df2cb0a7728a5fb0]\n",
       "cluster E9--><a href=\"psysml:ae9b8861-e9cc-45e7-97b3-375fd90ac7d9\" target=\"_top\" title=\"psysml:ae9b8861-e9cc-45e7-97b3-375fd90ac7d9\" xlink:actuate=\"onRequest\" xlink:href=\"psysml:ae9b8861-e9cc-45e7-97b3-375fd90ac7d9\" xlink:show=\"new\" xlink:title=\"psysml:ae9b8861-e9cc-45e7-97b3-375fd90ac7d9\" xlink:type=\"simple\"><rect fill=\"#FFFFFF\" height=\"91\" id=\"E9\" rx=\"10\" ry=\"10\" style=\"stroke: #383838; stroke-width: 1.5;\" width=\"82\" x=\"129\" y=\"223\"/><rect fill=\"#F8F8F8\" height=\"23.9688\" rx=\"10\" ry=\"10\" style=\"stroke: #F8F8F8; stroke-width: 1.5;\" width=\"82\" x=\"129\" y=\"223\"/><rect fill=\"#F8F8F8\" height=\"10\" style=\"stroke: #F8F8F8; stroke-width: 1.5;\" width=\"82\" x=\"129\" y=\"236.9688\"/><rect fill=\"none\" height=\"91\" id=\"E9\" rx=\"10\" ry=\"10\" style=\"stroke: #383838; stroke-width: 1.5;\" width=\"82\" x=\"129\" y=\"223\"/><text fill=\"#000000\" font-family=\"sans-serif\" font-size=\"12\" lengthAdjust=\"spacingAndGlyphs\" textLength=\"19\" x=\"160.5\" y=\"239.1387\">f: F</text><line style=\"stroke: #383838; stroke-width: 1.0;\" x1=\"129\" x2=\"211\" y1=\"246.9688\" y2=\"246.9688\"/></a><!--MD5=[917b9dd0c7eca3ee5f47219d1a84c0ad]\n",
       "cluster E11--><a href=\"psysml:d620b19b-a1e2-497d-8cad-3b2dc38fedc0\" target=\"_top\" title=\"psysml:d620b19b-a1e2-497d-8cad-3b2dc38fedc0\" xlink:actuate=\"onRequest\" xlink:href=\"psysml:d620b19b-a1e2-497d-8cad-3b2dc38fedc0\" xlink:show=\"new\" xlink:title=\"psysml:d620b19b-a1e2-497d-8cad-3b2dc38fedc0\" xlink:type=\"simple\"><rect fill=\"#FFFFFF\" height=\"91\" id=\"E11\" rx=\"10\" ry=\"10\" style=\"stroke: #383838; stroke-width: 1.5;\" width=\"96\" x=\"122\" y=\"108\"/><rect fill=\"#F8F8F8\" height=\"23.9688\" rx=\"10\" ry=\"10\" style=\"stroke: #F8F8F8; stroke-width: 1.5;\" width=\"96\" x=\"122\" y=\"108\"/><rect fill=\"#F8F8F8\" height=\"10\" style=\"stroke: #F8F8F8; stroke-width: 1.5;\" width=\"96\" x=\"122\" y=\"121.9688\"/><rect fill=\"none\" height=\"91\" id=\"E11\" rx=\"10\" ry=\"10\" style=\"stroke: #383838; stroke-width: 1.5;\" width=\"96\" x=\"122\" y=\"108\"/><text fill=\"#000000\" font-family=\"sans-serif\" font-size=\"12\" lengthAdjust=\"spacingAndGlyphs\" textLength=\"24\" x=\"158\" y=\"124.1387\">a: A</text><line style=\"stroke: #383838; stroke-width: 1.0;\" x1=\"122\" x2=\"218\" y1=\"131.9688\" y2=\"131.9688\"/></a><g id=\"E1.E2.E3\"><a href=\"psysml:241a9b2a-e9cc-4b19-964a-2424b61c0639\" target=\"_top\" title=\"psysml:241a9b2a-e9cc-4b19-964a-2424b61c0639\" xlink:actuate=\"onRequest\" xlink:href=\"psysml:241a9b2a-e9cc-4b19-964a-2424b61c0639\" xlink:show=\"new\" xlink:title=\"psysml:241a9b2a-e9cc-4b19-964a-2424b61c0639\" xlink:type=\"simple\"><rect fill=\"#FFFFFF\" height=\"40\" id=\"E3\" rx=\"10\" ry=\"10\" style=\"stroke: #383838; stroke-width: 1.5;\" width=\"50\" x=\"501\" y=\"143\"/><rect fill=\"#F8F8F8\" height=\"23.9688\" rx=\"10\" ry=\"10\" style=\"stroke: #F8F8F8; stroke-width: 1.5;\" width=\"50\" x=\"501\" y=\"143\"/><rect fill=\"#F8F8F8\" height=\"10\" style=\"stroke: #F8F8F8; stroke-width: 1.5;\" width=\"50\" x=\"501\" y=\"156.9688\"/><rect fill=\"none\" height=\"40\" id=\"E3\" rx=\"10\" ry=\"10\" style=\"stroke: #383838; stroke-width: 1.5;\" width=\"50\" x=\"501\" y=\"143\"/><text fill=\"#000000\" font-family=\"sans-serif\" font-size=\"12\" lengthAdjust=\"spacingAndGlyphs\" textLength=\"8\" x=\"522\" y=\"159.1387\">a</text></a></g><g id=\"E1.E4.E5\"><a href=\"psysml:241a9b2a-e9cc-4b19-964a-2424b61c0639\" target=\"_top\" title=\"psysml:241a9b2a-e9cc-4b19-964a-2424b61c0639\" xlink:actuate=\"onRequest\" xlink:href=\"psysml:241a9b2a-e9cc-4b19-964a-2424b61c0639\" xlink:show=\"new\" xlink:title=\"psysml:241a9b2a-e9cc-4b19-964a-2424b61c0639\" xlink:type=\"simple\"><rect fill=\"#FFFFFF\" height=\"40\" id=\"E5\" rx=\"10\" ry=\"10\" style=\"stroke: #383838; stroke-width: 1.5;\" width=\"50\" x=\"393\" y=\"143\"/><rect fill=\"#F8F8F8\" height=\"23.9688\" rx=\"10\" ry=\"10\" style=\"stroke: #F8F8F8; stroke-width: 1.5;\" width=\"50\" x=\"393\" y=\"143\"/><rect fill=\"#F8F8F8\" height=\"10\" style=\"stroke: #F8F8F8; stroke-width: 1.5;\" width=\"50\" x=\"393\" y=\"156.9688\"/><rect fill=\"none\" height=\"40\" id=\"E5\" rx=\"10\" ry=\"10\" style=\"stroke: #383838; stroke-width: 1.5;\" width=\"50\" x=\"393\" y=\"143\"/><text fill=\"#000000\" font-family=\"sans-serif\" font-size=\"12\" lengthAdjust=\"spacingAndGlyphs\" textLength=\"18\" x=\"409\" y=\"159.1387\">^a</text></a></g><g id=\"E1.E6.E7\"><a href=\"psysml:31dec55f-8acf-4d42-bd51-f4047894820c\" target=\"_top\" title=\"psysml:31dec55f-8acf-4d42-bd51-f4047894820c\" xlink:actuate=\"onRequest\" xlink:href=\"psysml:31dec55f-8acf-4d42-bd51-f4047894820c\" xlink:show=\"new\" xlink:title=\"psysml:31dec55f-8acf-4d42-bd51-f4047894820c\" xlink:type=\"simple\"><rect fill=\"#FFFFFF\" height=\"40\" id=\"E7\" rx=\"10\" ry=\"10\" style=\"stroke: #383838; stroke-width: 1.5;\" width=\"53\" x=\"282.5\" y=\"143\"/><rect fill=\"#F8F8F8\" height=\"23.9688\" rx=\"10\" ry=\"10\" style=\"stroke: #F8F8F8; stroke-width: 1.5;\" width=\"53\" x=\"282.5\" y=\"143\"/><rect fill=\"#F8F8F8\" height=\"10\" style=\"stroke: #F8F8F8; stroke-width: 1.5;\" width=\"53\" x=\"282.5\" y=\"156.9688\"/><rect fill=\"none\" height=\"40\" id=\"E7\" rx=\"10\" ry=\"10\" style=\"stroke: #383838; stroke-width: 1.5;\" width=\"53\" x=\"282.5\" y=\"143\"/><text fill=\"#000000\" font-family=\"sans-serif\" font-size=\"12\" lengthAdjust=\"spacingAndGlyphs\" textLength=\"38\" x=\"288\" y=\"159.1387\">g=f.a;</text></a></g><g id=\"E1.E8.E9.E10\"><a href=\"psysml:241a9b2a-e9cc-4b19-964a-2424b61c0639\" target=\"_top\" title=\"psysml:241a9b2a-e9cc-4b19-964a-2424b61c0639\" xlink:actuate=\"onRequest\" xlink:href=\"psysml:241a9b2a-e9cc-4b19-964a-2424b61c0639\" xlink:show=\"new\" xlink:title=\"psysml:241a9b2a-e9cc-4b19-964a-2424b61c0639\" xlink:type=\"simple\"><rect fill=\"#FFFFFF\" height=\"40\" id=\"E10\" rx=\"10\" ry=\"10\" style=\"stroke: #383838; stroke-width: 1.5;\" width=\"50\" x=\"145\" y=\"258\"/><rect fill=\"#F8F8F8\" height=\"23.9688\" rx=\"10\" ry=\"10\" style=\"stroke: #F8F8F8; stroke-width: 1.5;\" width=\"50\" x=\"145\" y=\"258\"/><rect fill=\"#F8F8F8\" height=\"10\" style=\"stroke: #F8F8F8; stroke-width: 1.5;\" width=\"50\" x=\"145\" y=\"271.9688\"/><rect fill=\"none\" height=\"40\" id=\"E10\" rx=\"10\" ry=\"10\" style=\"stroke: #383838; stroke-width: 1.5;\" width=\"50\" x=\"145\" y=\"258\"/><text fill=\"#000000\" font-family=\"sans-serif\" font-size=\"12\" lengthAdjust=\"spacingAndGlyphs\" textLength=\"18\" x=\"161\" y=\"274.1387\">^a</text></a></g><g id=\"E1.E8.E11.E12\"><a href=\"psysml:31dec55f-8acf-4d42-bd51-f4047894820c\" target=\"_top\" title=\"psysml:31dec55f-8acf-4d42-bd51-f4047894820c\" xlink:actuate=\"onRequest\" xlink:href=\"psysml:31dec55f-8acf-4d42-bd51-f4047894820c\" xlink:show=\"new\" xlink:title=\"psysml:31dec55f-8acf-4d42-bd51-f4047894820c\" xlink:type=\"simple\"><rect fill=\"#FFFFFF\" height=\"40\" id=\"E12\" rx=\"10\" ry=\"10\" style=\"stroke: #383838; stroke-width: 1.5;\" width=\"63\" x=\"138.5\" y=\"143\"/><rect fill=\"#F8F8F8\" height=\"23.9688\" rx=\"10\" ry=\"10\" style=\"stroke: #F8F8F8; stroke-width: 1.5;\" width=\"63\" x=\"138.5\" y=\"143\"/><rect fill=\"#F8F8F8\" height=\"10\" style=\"stroke: #F8F8F8; stroke-width: 1.5;\" width=\"63\" x=\"138.5\" y=\"156.9688\"/><rect fill=\"none\" height=\"40\" id=\"E12\" rx=\"10\" ry=\"10\" style=\"stroke: #383838; stroke-width: 1.5;\" width=\"63\" x=\"138.5\" y=\"143\"/><text fill=\"#000000\" font-family=\"sans-serif\" font-size=\"12\" lengthAdjust=\"spacingAndGlyphs\" textLength=\"48\" x=\"144\" y=\"159.1387\">^g=f.a;</text></a></g><g id=\"E1.E13\"><a href=\"psysml:f9a1a989-561d-4119-971e-8ebceafa94b4\" target=\"_top\" title=\"psysml:f9a1a989-561d-4119-971e-8ebceafa94b4\" xlink:actuate=\"onRequest\" xlink:href=\"psysml:f9a1a989-561d-4119-971e-8ebceafa94b4\" xlink:show=\"new\" xlink:title=\"psysml:f9a1a989-561d-4119-971e-8ebceafa94b4\" xlink:type=\"simple\"><rect fill=\"#FFFFFF\" height=\"40\" id=\"E13\" rx=\"10\" ry=\"10\" style=\"stroke: #383838; stroke-width: 1.5;\" width=\"50\" x=\"32\" y=\"143\"/><rect fill=\"#F8F8F8\" height=\"23.9688\" rx=\"10\" ry=\"10\" style=\"stroke: #F8F8F8; stroke-width: 1.5;\" width=\"50\" x=\"32\" y=\"143\"/><rect fill=\"#F8F8F8\" height=\"10\" style=\"stroke: #F8F8F8; stroke-width: 1.5;\" width=\"50\" x=\"32\" y=\"156.9688\"/><rect fill=\"none\" height=\"40\" id=\"E13\" rx=\"10\" ry=\"10\" style=\"stroke: #383838; stroke-width: 1.5;\" width=\"50\" x=\"32\" y=\"143\"/><text fill=\"#000000\" font-family=\"sans-serif\" font-size=\"12\" lengthAdjust=\"spacingAndGlyphs\" textLength=\"24\" x=\"45\" y=\"159.1387\">b: B</text></a></g><!--MD5=[65481eef76a7486101c58ded21a552db]\n",
       "link E12 to E10--><a href=\"psysml:d897c185-bd23-4685-b4dd-90f768e45c35\" target=\"_top\" title=\"psysml:d897c185-bd23-4685-b4dd-90f768e45c35\" xlink:actuate=\"onRequest\" xlink:href=\"psysml:d897c185-bd23-4685-b4dd-90f768e45c35\" xlink:show=\"new\" xlink:title=\"psysml:d897c185-bd23-4685-b4dd-90f768e45c35\" xlink:type=\"simple\"><path d=\"M160.15,183.17 C156.29,203.95 156.28,236.92 160.13,257.74 \" fill=\"none\" id=\"E12-E10\" style=\"stroke: #383838; stroke-width: 3.0;\"/></a><!--MD5=[65481eef76a7486101c58ded21a552db]\n",
       "link E12 to E10--><a href=\"psysml:a65e9cd3-f7a6-42d1-a2aa-d32628740aff\" target=\"_top\" title=\"psysml:a65e9cd3-f7a6-42d1-a2aa-d32628740aff\" xlink:actuate=\"onRequest\" xlink:href=\"psysml:a65e9cd3-f7a6-42d1-a2aa-d32628740aff\" xlink:show=\"new\" xlink:title=\"psysml:a65e9cd3-f7a6-42d1-a2aa-d32628740aff\" xlink:type=\"simple\"><path d=\"M180.43,183.17 C184.52,203.95 184.52,236.92 180.45,257.74 \" fill=\"none\" id=\"E12-E10-1\" style=\"stroke: #383838; stroke-width: 5.0;\"/></a><!--MD5=[44a6576678a79f85ef22f3d3040aedce]\n",
       "@startuml\r\n",
       "skinparam ranksep 10\r\n",
       "skinparam rectangle {\r\n",
       " backgroundColor<<block>> LightGreen\r\n",
       "}\r\n",
       "top to bottom direction\r\n",
       "skinparam monochrome true\r\n",
       "skinparam classbackgroundcolor white\r\n",
       "skinparam shadowing false\r\n",
       "skinparam wrapWidth 300\r\n",
       "hide circle\r\n",
       "\r\n",
       "package \"Q\" as E1  [[psysml:427a19be-4ba6-433c-b392-6823bf74d458 ]]  {\r\n",
       "rec def \"F\" as E2  <<(T,blue) part def>> [[psysml:027effde-34e9-4491-ba0c-9f82cacaad23 ]] {\r\n",
       "rec usage \"a\" as E3  [[psysml:241a9b2a-e9cc-4b19-964a-2424b61c0639 ]] {\r\n",
       "}\r\n",
       "}\r\n",
       "rec usage \"f: F\" as E4  [[psysml:40835df5-3f1f-4886-9446-1465d21ad736 ]] {\r\n",
       "rec usage \"^a\" as E5  [[psysml:241a9b2a-e9cc-4b19-964a-2424b61c0639 ]] {\r\n",
       "}\r\n",
       "}\r\n",
       "rec def \"A\" as E6  <<(T,blue) part def>> [[psysml:299c2c32-5ec1-43b2-a066-b7748b01150c ]] {\r\n",
       "rec usage \"g=f.a; \" as E7  [[psysml:31dec55f-8acf-4d42-bd51-f4047894820c ]] {\r\n",
       "}\r\n",
       "}\r\n",
       "rec def \"B\" as E8  <<(T,blue) part def>> [[psysml:e57a8ff4-b454-49af-9671-50f81189572a ]] {\r\n",
       "rec usage \"f: F\" as E9  [[psysml:ae9b8861-e9cc-45e7-97b3-375fd90ac7d9 ]] {\r\n",
       "rec usage \"^a\" as E10  [[psysml:241a9b2a-e9cc-4b19-964a-2424b61c0639 ]] {\r\n",
       "}\r\n",
       "}\r\n",
       "rec usage \"a: A\" as E11  [[psysml:d620b19b-a1e2-497d-8cad-3b2dc38fedc0 ]] {\r\n",
       "rec usage \"^g=f.a; \" as E12  [[psysml:31dec55f-8acf-4d42-bd51-f4047894820c ]] {\r\n",
       "}\r\n",
       "}\r\n",
       "}\r\n",
       "rec usage \"b: B\" as E13  [[psysml:f9a1a989-561d-4119-971e-8ebceafa94b4 ]] {\r\n",
       "}\r\n",
       "E12 -[thickness=3]- E10 [[psysml:d897c185-bd23-4685-b4dd-90f768e45c35 ]] \r\n",
       "E12 -[thickness=5]- E10 [[psysml:a65e9cd3-f7a6-42d1-a2aa-d32628740aff ]] \r\n",
       "}\r\n",
       "@enduml\r\n",
       "\n",
       "PlantUML version 1.2020.13(Sat Jun 13 12:26:38 UTC 2020)\n",
       "(EPL source distribution)\n",
       "Java Runtime: OpenJDK Runtime Environment\n",
       "JVM: OpenJDK 64-Bit Server VM\n",
       "Default Encoding: UTF-8\n",
       "Language: en\n",
       "Country: null\n",
       "--></g></svg>"
      ]
     },
     "execution_count": 47,
     "metadata": {},
     "output_type": "execute_result"
    }
   ],
   "source": [
    "%viz --style=\"TB\" --view=\"Interconnection\" \"Q\""
   ]
  },
  {
   "cell_type": "code",
   "execution_count": 48,
   "id": "16327b9c",
   "metadata": {
    "execution": {
     "iopub.execute_input": "2021-06-30T09:23:36.183251Z",
     "iopub.status.busy": "2021-06-30T09:23:36.181808Z",
     "iopub.status.idle": "2021-06-30T09:23:36.191217Z",
     "shell.execute_reply": "2021-06-30T09:23:36.190398Z"
    }
   },
   "outputs": [
    {
     "data": {
      "image/svg+xml": [
       "<?xml version=\"1.0\" encoding=\"UTF-8\" standalone=\"no\"?><svg xmlns=\"http://www.w3.org/2000/svg\" xmlns:xlink=\"http://www.w3.org/1999/xlink\" contentScriptType=\"application/ecmascript\" contentStyleType=\"text/css\" height=\"12px\" preserveAspectRatio=\"none\" style=\"width:12px;height:12px;\" version=\"1.1\" viewBox=\"0 0 12 12\" width=\"12px\" zoomAndPan=\"magnify\"><defs/><g><!--MD5=[06afc254b03ac5e9d9fb7773b07d0800]\n",
       "@startuml\r\n",
       "skinparam ranksep 8\r\n",
       "top to bottom direction\r\n",
       "skinparam monochrome true\r\n",
       "skinparam classbackgroundcolor white\r\n",
       "skinparam shadowing false\r\n",
       "skinparam wrapWidth 300\r\n",
       "hide circle\r\n",
       "\r\n",
       "@enduml\r\n",
       "\n",
       "PlantUML version 1.2020.13(Sat Jun 13 12:26:38 UTC 2020)\n",
       "(EPL source distribution)\n",
       "Java Runtime: OpenJDK Runtime Environment\n",
       "JVM: OpenJDK 64-Bit Server VM\n",
       "Default Encoding: UTF-8\n",
       "Language: en\n",
       "Country: null\n",
       "--></g></svg>"
      ]
     },
     "execution_count": 48,
     "metadata": {},
     "output_type": "execute_result"
    }
   ],
   "source": [
    "%viz --style=\"TB\" --view=\"Action\" \"Q\""
   ]
  },
  {
   "cell_type": "code",
   "execution_count": 49,
   "id": "f0b78802",
   "metadata": {
    "execution": {
     "iopub.execute_input": "2021-06-30T09:23:36.241421Z",
     "iopub.status.busy": "2021-06-30T09:23:36.240826Z",
     "iopub.status.idle": "2021-06-30T09:23:36.305440Z",
     "shell.execute_reply": "2021-06-30T09:23:36.306017Z"
    }
   },
   "outputs": [
    {
     "data": {
      "image/svg+xml": [
       "<?xml version=\"1.0\" encoding=\"UTF-8\" standalone=\"no\"?><svg xmlns=\"http://www.w3.org/2000/svg\" xmlns:xlink=\"http://www.w3.org/1999/xlink\" contentScriptType=\"application/ecmascript\" contentStyleType=\"text/css\" height=\"539px\" preserveAspectRatio=\"none\" style=\"width:266px;height:539px;\" version=\"1.1\" viewBox=\"0 0 266 539\" width=\"266px\" zoomAndPan=\"magnify\"><defs/><g><!--MD5=[fbc87193dbaf4d95561dea2c320d4a47]\n",
       "cluster E1--><a href=\"psysml:427a19be-4ba6-433c-b392-6823bf74d458\" target=\"_top\" title=\"psysml:427a19be-4ba6-433c-b392-6823bf74d458\" xlink:actuate=\"onRequest\" xlink:href=\"psysml:427a19be-4ba6-433c-b392-6823bf74d458\" xlink:show=\"new\" xlink:title=\"psysml:427a19be-4ba6-433c-b392-6823bf74d458\" xlink:type=\"simple\"><polygon fill=\"#FFFFFF\" points=\"16,6,34,6,41,28.2969,244,28.2969,244,527,16,527,16,6\" style=\"stroke: #000000; stroke-width: 1.5;\"/><line style=\"stroke: #000000; stroke-width: 1.5;\" x1=\"16\" x2=\"41\" y1=\"28.2969\" y2=\"28.2969\"/><text fill=\"#000000\" font-family=\"sans-serif\" font-size=\"14\" font-weight=\"bold\" lengthAdjust=\"spacingAndGlyphs\" textLength=\"12\" x=\"20\" y=\"20.9951\">Q</text></a><!--MD5=[b4997ac47864f28c2f74865a473b2911]\n",
       "class E2--><a href=\"psysml:027effde-34e9-4491-ba0c-9f82cacaad23\" target=\"_top\" title=\"psysml:027effde-34e9-4491-ba0c-9f82cacaad23\" xlink:actuate=\"onRequest\" xlink:href=\"psysml:027effde-34e9-4491-ba0c-9f82cacaad23\" xlink:show=\"new\" xlink:title=\"psysml:027effde-34e9-4491-ba0c-9f82cacaad23\" xlink:type=\"simple\"><rect fill=\"#FFFFFF\" height=\"45.9375\" id=\"E2\" style=\"stroke: #383838; stroke-width: 1.5;\" width=\"66\" x=\"147\" y=\"359\"/><text fill=\"#000000\" font-family=\"sans-serif\" font-size=\"12\" font-style=\"italic\" lengthAdjust=\"spacingAndGlyphs\" textLength=\"64\" x=\"148\" y=\"375.1387\">«part def»</text><text fill=\"#000000\" font-family=\"sans-serif\" font-size=\"12\" lengthAdjust=\"spacingAndGlyphs\" textLength=\"7\" x=\"176.5\" y=\"389.1074\">F</text><line style=\"stroke: #383838; stroke-width: 1.5;\" x1=\"148\" x2=\"212\" y1=\"396.9375\" y2=\"396.9375\"/></a><!--MD5=[09b614a08d8cba4a07c9adeb5e0fee81]\n",
       "class E3--><a href=\"psysml:241a9b2a-e9cc-4b19-964a-2424b61c0639\" target=\"_top\" title=\"psysml:241a9b2a-e9cc-4b19-964a-2424b61c0639\" xlink:actuate=\"onRequest\" xlink:href=\"psysml:241a9b2a-e9cc-4b19-964a-2424b61c0639\" xlink:show=\"new\" xlink:title=\"psysml:241a9b2a-e9cc-4b19-964a-2424b61c0639\" xlink:type=\"simple\"><rect fill=\"#FFFFFF\" height=\"45.9375\" id=\"E3\" rx=\"10\" ry=\"10\" style=\"stroke: #383838; stroke-width: 1.5;\" width=\"42\" x=\"159\" y=\"465\"/><text fill=\"#000000\" font-family=\"sans-serif\" font-size=\"12\" font-style=\"italic\" lengthAdjust=\"spacingAndGlyphs\" textLength=\"40\" x=\"160\" y=\"481.1387\">«part»</text><text fill=\"#000000\" font-family=\"sans-serif\" font-size=\"12\" lengthAdjust=\"spacingAndGlyphs\" textLength=\"8\" x=\"176\" y=\"495.1074\">a</text><line style=\"stroke: #383838; stroke-width: 1.5;\" x1=\"160\" x2=\"200\" y1=\"502.9375\" y2=\"502.9375\"/></a><!--MD5=[ebbe1d658d1005bcc118a6aa81145e00]\n",
       "class E4--><a href=\"psysml:40835df5-3f1f-4886-9446-1465d21ad736\" target=\"_top\" title=\"psysml:40835df5-3f1f-4886-9446-1465d21ad736\" xlink:actuate=\"onRequest\" xlink:href=\"psysml:40835df5-3f1f-4886-9446-1465d21ad736\" xlink:show=\"new\" xlink:title=\"psysml:40835df5-3f1f-4886-9446-1465d21ad736\" xlink:type=\"simple\"><rect fill=\"#FFFFFF\" height=\"45.9375\" id=\"E4\" rx=\"10\" ry=\"10\" style=\"stroke: #383838; stroke-width: 1.5;\" width=\"42\" x=\"186\" y=\"253\"/><text fill=\"#000000\" font-family=\"sans-serif\" font-size=\"12\" font-style=\"italic\" lengthAdjust=\"spacingAndGlyphs\" textLength=\"40\" x=\"187\" y=\"269.1387\">«part»</text><text fill=\"#000000\" font-family=\"sans-serif\" font-size=\"12\" lengthAdjust=\"spacingAndGlyphs\" textLength=\"19\" x=\"197.5\" y=\"283.1074\">f: F</text><line style=\"stroke: #383838; stroke-width: 1.5;\" x1=\"187\" x2=\"227\" y1=\"290.9375\" y2=\"290.9375\"/></a><!--MD5=[270fce915f116d4de14055a7c1d9a0f3]\n",
       "class E5--><a href=\"psysml:299c2c32-5ec1-43b2-a066-b7748b01150c\" target=\"_top\" title=\"psysml:299c2c32-5ec1-43b2-a066-b7748b01150c\" xlink:actuate=\"onRequest\" xlink:href=\"psysml:299c2c32-5ec1-43b2-a066-b7748b01150c\" xlink:show=\"new\" xlink:title=\"psysml:299c2c32-5ec1-43b2-a066-b7748b01150c\" xlink:type=\"simple\"><rect fill=\"#FFFFFF\" height=\"45.9375\" id=\"E5\" style=\"stroke: #383838; stroke-width: 1.5;\" width=\"66\" x=\"32\" y=\"359\"/><text fill=\"#000000\" font-family=\"sans-serif\" font-size=\"12\" font-style=\"italic\" lengthAdjust=\"spacingAndGlyphs\" textLength=\"64\" x=\"33\" y=\"375.1387\">«part def»</text><text fill=\"#000000\" font-family=\"sans-serif\" font-size=\"12\" lengthAdjust=\"spacingAndGlyphs\" textLength=\"8\" x=\"61\" y=\"389.1074\">A</text><line style=\"stroke: #383838; stroke-width: 1.5;\" x1=\"33\" x2=\"97\" y1=\"396.9375\" y2=\"396.9375\"/></a><!--MD5=[60a26617385b1d2d0262a64233df1f8d]\n",
       "class E6--><a href=\"psysml:31dec55f-8acf-4d42-bd51-f4047894820c\" target=\"_top\" title=\"psysml:31dec55f-8acf-4d42-bd51-f4047894820c\" xlink:actuate=\"onRequest\" xlink:href=\"psysml:31dec55f-8acf-4d42-bd51-f4047894820c\" xlink:show=\"new\" xlink:title=\"psysml:31dec55f-8acf-4d42-bd51-f4047894820c\" xlink:type=\"simple\"><rect fill=\"#FFFFFF\" height=\"45.9375\" id=\"E6\" rx=\"10\" ry=\"10\" style=\"stroke: #383838; stroke-width: 1.5;\" width=\"42\" x=\"44\" y=\"465\"/><text fill=\"#000000\" font-family=\"sans-serif\" font-size=\"12\" font-style=\"italic\" lengthAdjust=\"spacingAndGlyphs\" textLength=\"40\" x=\"45\" y=\"481.1387\">«part»</text><text fill=\"#000000\" font-family=\"sans-serif\" font-size=\"12\" lengthAdjust=\"spacingAndGlyphs\" textLength=\"8\" x=\"61\" y=\"495.1074\">g</text><line style=\"stroke: #383838; stroke-width: 1.5;\" x1=\"45\" x2=\"85\" y1=\"502.9375\" y2=\"502.9375\"/></a><!--MD5=[2156ba9850f5573cc1fc38a6a4b2f02b]\n",
       "class E7--><a href=\"psysml:e57a8ff4-b454-49af-9671-50f81189572a\" target=\"_top\" title=\"psysml:e57a8ff4-b454-49af-9671-50f81189572a\" xlink:actuate=\"onRequest\" xlink:href=\"psysml:e57a8ff4-b454-49af-9671-50f81189572a\" xlink:show=\"new\" xlink:title=\"psysml:e57a8ff4-b454-49af-9671-50f81189572a\" xlink:type=\"simple\"><rect fill=\"#FFFFFF\" height=\"45.9375\" id=\"E7\" style=\"stroke: #383838; stroke-width: 1.5;\" width=\"66\" x=\"64\" y=\"147\"/><text fill=\"#000000\" font-family=\"sans-serif\" font-size=\"12\" font-style=\"italic\" lengthAdjust=\"spacingAndGlyphs\" textLength=\"64\" x=\"65\" y=\"163.1387\">«part def»</text><text fill=\"#000000\" font-family=\"sans-serif\" font-size=\"12\" lengthAdjust=\"spacingAndGlyphs\" textLength=\"8\" x=\"93\" y=\"177.1074\">B</text><line style=\"stroke: #383838; stroke-width: 1.5;\" x1=\"65\" x2=\"129\" y1=\"184.9375\" y2=\"184.9375\"/></a><!--MD5=[b9389687b975829384b498ac4b7476b2]\n",
       "class E8--><a href=\"psysml:ae9b8861-e9cc-45e7-97b3-375fd90ac7d9\" target=\"_top\" title=\"psysml:ae9b8861-e9cc-45e7-97b3-375fd90ac7d9\" xlink:actuate=\"onRequest\" xlink:href=\"psysml:ae9b8861-e9cc-45e7-97b3-375fd90ac7d9\" xlink:show=\"new\" xlink:title=\"psysml:ae9b8861-e9cc-45e7-97b3-375fd90ac7d9\" xlink:type=\"simple\"><rect fill=\"#FFFFFF\" height=\"45.9375\" id=\"E8\" rx=\"10\" ry=\"10\" style=\"stroke: #383838; stroke-width: 1.5;\" width=\"42\" x=\"109\" y=\"253\"/><text fill=\"#000000\" font-family=\"sans-serif\" font-size=\"12\" font-style=\"italic\" lengthAdjust=\"spacingAndGlyphs\" textLength=\"40\" x=\"110\" y=\"269.1387\">«part»</text><text fill=\"#000000\" font-family=\"sans-serif\" font-size=\"12\" lengthAdjust=\"spacingAndGlyphs\" textLength=\"19\" x=\"120.5\" y=\"283.1074\">f: F</text><line style=\"stroke: #383838; stroke-width: 1.5;\" x1=\"110\" x2=\"150\" y1=\"290.9375\" y2=\"290.9375\"/></a><!--MD5=[fd4143e9d270a159db93a4ea2a975926]\n",
       "class E9--><a href=\"psysml:d620b19b-a1e2-497d-8cad-3b2dc38fedc0\" target=\"_top\" title=\"psysml:d620b19b-a1e2-497d-8cad-3b2dc38fedc0\" xlink:actuate=\"onRequest\" xlink:href=\"psysml:d620b19b-a1e2-497d-8cad-3b2dc38fedc0\" xlink:show=\"new\" xlink:title=\"psysml:d620b19b-a1e2-497d-8cad-3b2dc38fedc0\" xlink:type=\"simple\"><rect fill=\"#FFFFFF\" height=\"45.9375\" id=\"E9\" rx=\"10\" ry=\"10\" style=\"stroke: #383838; stroke-width: 1.5;\" width=\"42\" x=\"32\" y=\"253\"/><text fill=\"#000000\" font-family=\"sans-serif\" font-size=\"12\" font-style=\"italic\" lengthAdjust=\"spacingAndGlyphs\" textLength=\"40\" x=\"33\" y=\"269.1387\">«part»</text><text fill=\"#000000\" font-family=\"sans-serif\" font-size=\"12\" lengthAdjust=\"spacingAndGlyphs\" textLength=\"24\" x=\"41\" y=\"283.1074\">a: A</text><line style=\"stroke: #383838; stroke-width: 1.5;\" x1=\"33\" x2=\"73\" y1=\"290.9375\" y2=\"290.9375\"/></a><!--MD5=[96f4274e9e20536e775497830990834d]\n",
       "class E10--><a href=\"psysml:f9a1a989-561d-4119-971e-8ebceafa94b4\" target=\"_top\" title=\"psysml:f9a1a989-561d-4119-971e-8ebceafa94b4\" xlink:actuate=\"onRequest\" xlink:href=\"psysml:f9a1a989-561d-4119-971e-8ebceafa94b4\" xlink:show=\"new\" xlink:title=\"psysml:f9a1a989-561d-4119-971e-8ebceafa94b4\" xlink:type=\"simple\"><rect fill=\"#FFFFFF\" height=\"45.9375\" id=\"E10\" rx=\"10\" ry=\"10\" style=\"stroke: #383838; stroke-width: 1.5;\" width=\"42\" x=\"76\" y=\"41\"/><text fill=\"#000000\" font-family=\"sans-serif\" font-size=\"12\" font-style=\"italic\" lengthAdjust=\"spacingAndGlyphs\" textLength=\"40\" x=\"77\" y=\"57.1387\">«part»</text><text fill=\"#000000\" font-family=\"sans-serif\" font-size=\"12\" lengthAdjust=\"spacingAndGlyphs\" textLength=\"24\" x=\"85\" y=\"71.1074\">b: B</text><line style=\"stroke: #383838; stroke-width: 1.5;\" x1=\"77\" x2=\"117\" y1=\"78.9375\" y2=\"78.9375\"/></a><!--MD5=[209b3feb70ccb6233bfe1053d122c12c]\n",
       "reverse link E2 to E3--><a href=\"psysml:5ee10b2b-55c1-4a08-a13b-bdb74e3f50e5\" target=\"_top\" title=\"psysml:5ee10b2b-55c1-4a08-a13b-bdb74e3f50e5\" xlink:actuate=\"onRequest\" xlink:href=\"psysml:5ee10b2b-55c1-4a08-a13b-bdb74e3f50e5\" xlink:show=\"new\" xlink:title=\"psysml:5ee10b2b-55c1-4a08-a13b-bdb74e3f50e5\" xlink:type=\"simple\"><path d=\"M180,418.44 C180,433.87 180,451.47 180,464.98 \" fill=\"none\" id=\"E2&lt;-E3\" style=\"stroke: #383838; stroke-width: 1.0;\"/><polygon fill=\"#383838\" points=\"180,405.06,176,411.06,180,417.06,184,411.06,180,405.06\" style=\"stroke: #383838; stroke-width: 1.0;\"/></a><!--MD5=[185131fc0dcab0a4505a2ebe144e961b]\n",
       "link E4 to E2--><a href=\"psysml:c4c1c0e2-eca3-4dc3-a203-c30912c3ab2b\" target=\"_top\" title=\"psysml:c4c1c0e2-eca3-4dc3-a203-c30912c3ab2b\" xlink:actuate=\"onRequest\" xlink:href=\"psysml:c4c1c0e2-eca3-4dc3-a203-c30912c3ab2b\" xlink:show=\"new\" xlink:title=\"psysml:c4c1c0e2-eca3-4dc3-a203-c30912c3ab2b\" xlink:type=\"simple\"><path d=\"M201.27,299.06 C198.23,310.78 194.39,325.57 190.81,339.36 \" fill=\"none\" id=\"E4-&gt;E2\" style=\"stroke: #383838; stroke-width: 1.0;\"/><polygon fill=\"#FFFFFF\" points=\"185.72,358.98,183.7221,338.8303,197.2724,342.3504,185.72,358.98\" style=\"stroke: #383838; stroke-width: 1.0;\"/><ellipse cx=\"187.091\" cy=\"333.8163\" fill=\"#383838\" rx=\"2\" ry=\"2\" style=\"stroke: #383838; stroke-width: 1.0;\"/><ellipse cx=\"196.7698\" cy=\"336.3307\" fill=\"#383838\" rx=\"2\" ry=\"2\" style=\"stroke: #383838; stroke-width: 1.0;\"/></a><!--MD5=[85d356282659285ab4b2cfe2f634dd2b]\n",
       "reverse link E5 to E6--><a href=\"psysml:93463b7d-149f-4a15-b84b-177a9e530eda\" target=\"_top\" title=\"psysml:93463b7d-149f-4a15-b84b-177a9e530eda\" xlink:actuate=\"onRequest\" xlink:href=\"psysml:93463b7d-149f-4a15-b84b-177a9e530eda\" xlink:show=\"new\" xlink:title=\"psysml:93463b7d-149f-4a15-b84b-177a9e530eda\" xlink:type=\"simple\"><path d=\"M65,418.44 C65,433.87 65,451.47 65,464.98 \" fill=\"none\" id=\"E5&lt;-E6\" style=\"stroke: #383838; stroke-width: 1.0;\"/><polygon fill=\"#383838\" points=\"65,405.06,61,411.06,65,417.06,69,411.06,65,405.06\" style=\"stroke: #383838; stroke-width: 1.0;\"/></a><!--MD5=[dc164f5e8a733ab456ef1add180e9e34]\n",
       "reverse link E7 to E8--><a href=\"psysml:de6f8f38-3125-456b-a954-15a696931b63\" target=\"_top\" title=\"psysml:de6f8f38-3125-456b-a954-15a696931b63\" xlink:actuate=\"onRequest\" xlink:href=\"psysml:de6f8f38-3125-456b-a954-15a696931b63\" xlink:show=\"new\" xlink:title=\"psysml:de6f8f38-3125-456b-a954-15a696931b63\" xlink:type=\"simple\"><path d=\"M107.95,205.49 C112.91,221.15 118.64,239.19 123.01,252.98 \" fill=\"none\" id=\"E7&lt;-E8\" style=\"stroke: #383838; stroke-width: 1.0;\"/><polygon fill=\"#383838\" points=\"104,193.06,101.9989,199.9879,107.6243,204.4996,109.6253,197.5717,104,193.06\" style=\"stroke: #383838; stroke-width: 1.0;\"/></a><!--MD5=[f1f3f9f2fc535e6147756cb86a7f2e32]\n",
       "link E8 to E2--><a href=\"psysml:536a95df-7241-4403-bcab-1aa9fe7a4b7d\" target=\"_top\" title=\"psysml:536a95df-7241-4403-bcab-1aa9fe7a4b7d\" xlink:actuate=\"onRequest\" xlink:href=\"psysml:536a95df-7241-4403-bcab-1aa9fe7a4b7d\" xlink:show=\"new\" xlink:title=\"psysml:536a95df-7241-4403-bcab-1aa9fe7a4b7d\" xlink:type=\"simple\"><path d=\"M140.6,299.06 C146.44,311.19 153.86,326.62 160.68,340.82 \" fill=\"none\" id=\"E8-&gt;E2\" style=\"stroke: #383838; stroke-width: 1.0;\"/><polygon fill=\"#FFFFFF\" points=\"169.41,358.98,154.8709,344.8869,167.4894,338.8228,169.41,358.98\" style=\"stroke: #383838; stroke-width: 1.0;\"/><ellipse cx=\"154.2046\" cy=\"338.8831\" fill=\"#383838\" rx=\"2\" ry=\"2\" style=\"stroke: #383838; stroke-width: 1.0;\"/><ellipse cx=\"163.2178\" cy=\"334.5516\" fill=\"#383838\" rx=\"2\" ry=\"2\" style=\"stroke: #383838; stroke-width: 1.0;\"/></a><!--MD5=[e4a10ef82d0e328e31cac39a31e58dda]\n",
       "reverse link E7 to E9--><a href=\"psysml:2c441a1b-e979-4985-bcd5-61f8c13172d0\" target=\"_top\" title=\"psysml:2c441a1b-e979-4985-bcd5-61f8c13172d0\" xlink:actuate=\"onRequest\" xlink:href=\"psysml:2c441a1b-e979-4985-bcd5-61f8c13172d0\" xlink:show=\"new\" xlink:title=\"psysml:2c441a1b-e979-4985-bcd5-61f8c13172d0\" xlink:type=\"simple\"><path d=\"M82.41,205.49 C75.78,221.15 68.15,239.19 62.32,252.98 \" fill=\"none\" id=\"E7&lt;-E9\" style=\"stroke: #383838; stroke-width: 1.0;\"/><polygon fill=\"#383838\" points=\"87.67,193.06,81.6505,197.0305,83.0003,204.1142,89.0199,200.1436,87.67,193.06\" style=\"stroke: #383838; stroke-width: 1.0;\"/></a><!--MD5=[bfc3ddf2e613be37104f658f09af896c]\n",
       "link E9 to E5--><a href=\"psysml:fc8a5d52-f7b0-45e1-9a4f-1e932b65f071\" target=\"_top\" title=\"psysml:fc8a5d52-f7b0-45e1-9a4f-1e932b65f071\" xlink:actuate=\"onRequest\" xlink:href=\"psysml:fc8a5d52-f7b0-45e1-9a4f-1e932b65f071\" xlink:show=\"new\" xlink:title=\"psysml:fc8a5d52-f7b0-45e1-9a4f-1e932b65f071\" xlink:type=\"simple\"><path d=\"M55.54,299.06 C56.88,310.64 58.56,325.23 60.14,338.87 \" fill=\"none\" id=\"E9-&gt;E5\" style=\"stroke: #383838; stroke-width: 1.0;\"/><polygon fill=\"#FFFFFF\" points=\"62.46,358.98,53.3347,340.9044,67.243,339.3046,62.46,358.98\" style=\"stroke: #383838; stroke-width: 1.0;\"/><ellipse cx=\"54.6702\" cy=\"335.0132\" fill=\"#383838\" rx=\"2\" ry=\"2\" style=\"stroke: #383838; stroke-width: 1.0;\"/><ellipse cx=\"64.6047\" cy=\"333.8704\" fill=\"#383838\" rx=\"2\" ry=\"2\" style=\"stroke: #383838; stroke-width: 1.0;\"/></a><!--MD5=[a919e0967d6f3de553dc51b9865a1d6d]\n",
       "link E10 to E7--><a href=\"psysml:2e3833d6-0a03-41e5-9593-325ba84dff2e\" target=\"_top\" title=\"psysml:2e3833d6-0a03-41e5-9593-325ba84dff2e\" xlink:actuate=\"onRequest\" xlink:href=\"psysml:2e3833d6-0a03-41e5-9593-325ba84dff2e\" xlink:show=\"new\" xlink:title=\"psysml:2e3833d6-0a03-41e5-9593-325ba84dff2e\" xlink:type=\"simple\"><path d=\"M97,87.06 C97,98.64 97,113.23 97,126.87 \" fill=\"none\" id=\"E10-&gt;E7\" style=\"stroke: #383838; stroke-width: 1.0;\"/><polygon fill=\"#FFFFFF\" points=\"97,146.98,90,127.98,104,127.98,97,146.98\" style=\"stroke: #383838; stroke-width: 1.0;\"/><ellipse cx=\"92\" cy=\"122.28\" fill=\"#383838\" rx=\"2\" ry=\"2\" style=\"stroke: #383838; stroke-width: 1.0;\"/><ellipse cx=\"102\" cy=\"122.28\" fill=\"#383838\" rx=\"2\" ry=\"2\" style=\"stroke: #383838; stroke-width: 1.0;\"/></a><!--MD5=[6aee78d05d74074574f7e8288756ad00]\n",
       "@startuml\r\n",
       "top to bottom direction\r\n",
       "skinparam monochrome true\r\n",
       "skinparam classbackgroundcolor white\r\n",
       "skinparam shadowing false\r\n",
       "skinparam wrapWidth 300\r\n",
       "hide circle\r\n",
       "\r\n",
       "package \"Q\" as E1  [[psysml:427a19be-4ba6-433c-b392-6823bf74d458 ]]  {\r\n",
       "comp def \"F\" as E2  <<(T,blue) part def>> [[psysml:027effde-34e9-4491-ba0c-9f82cacaad23 ]] {\r\n",
       "}\r\n",
       "comp usage \"a\" as E3  <<(T,blue) part>> [[psysml:241a9b2a-e9cc-4b19-964a-2424b61c0639 ]] {\r\n",
       "}\r\n",
       "comp usage \"f: F\" as E4  <<(T,blue) part>> [[psysml:40835df5-3f1f-4886-9446-1465d21ad736 ]] {\r\n",
       "}\r\n",
       "comp def \"A\" as E5  <<(T,blue) part def>> [[psysml:299c2c32-5ec1-43b2-a066-b7748b01150c ]] {\r\n",
       "}\r\n",
       "comp usage \"g\" as E6  <<(T,blue) part>> [[psysml:31dec55f-8acf-4d42-bd51-f4047894820c ]] {\r\n",
       "}\r\n",
       "comp def \"B\" as E7  <<(T,blue) part def>> [[psysml:e57a8ff4-b454-49af-9671-50f81189572a ]] {\r\n",
       "}\r\n",
       "comp usage \"f: F\" as E8  <<(T,blue) part>> [[psysml:ae9b8861-e9cc-45e7-97b3-375fd90ac7d9 ]] {\r\n",
       "}\r\n",
       "comp usage \"a: A\" as E9  <<(T,blue) part>> [[psysml:d620b19b-a1e2-497d-8cad-3b2dc38fedc0 ]] {\r\n",
       "}\r\n",
       "comp usage \"b: B\" as E10  <<(T,blue) part>> [[psysml:f9a1a989-561d-4119-971e-8ebceafa94b4 ]] {\r\n",
       "}\r\n",
       "E2 *- - E3 [[psysml:5ee10b2b-55c1-4a08-a13b-bdb74e3f50e5 ]] \r\n",
       "E4 - -:|> E2 [[psysml:c4c1c0e2-eca3-4dc3-a203-c30912c3ab2b ]] \r\n",
       "E5 *- - E6 [[psysml:93463b7d-149f-4a15-b84b-177a9e530eda ]] \r\n",
       "E7 *- - E8 [[psysml:de6f8f38-3125-456b-a954-15a696931b63 ]] \r\n",
       "E8 - -:|> E2 [[psysml:536a95df-7241-4403-bcab-1aa9fe7a4b7d ]] \r\n",
       "E7 *- - E9 [[psysml:2c441a1b-e979-4985-bcd5-61f8c13172d0 ]] \r\n",
       "E9 - -:|> E5 [[psysml:fc8a5d52-f7b0-45e1-9a4f-1e932b65f071 ]] \r\n",
       "E10 - -:|> E7 [[psysml:2e3833d6-0a03-41e5-9593-325ba84dff2e ]] \r\n",
       "}\r\n",
       "@enduml\r\n",
       "\n",
       "PlantUML version 1.2020.13(Sat Jun 13 12:26:38 UTC 2020)\n",
       "(EPL source distribution)\n",
       "Java Runtime: OpenJDK Runtime Environment\n",
       "JVM: OpenJDK 64-Bit Server VM\n",
       "Default Encoding: UTF-8\n",
       "Language: en\n",
       "Country: null\n",
       "--></g></svg>"
      ]
     },
     "execution_count": 49,
     "metadata": {},
     "output_type": "execute_result"
    }
   ],
   "source": [
    "%viz --style=\"TB\" --view=\"Sequence\" \"Q\""
   ]
  },
  {
   "cell_type": "code",
   "execution_count": 50,
   "id": "8d9de4ce",
   "metadata": {
    "execution": {
     "iopub.execute_input": "2021-06-30T09:23:36.365409Z",
     "iopub.status.busy": "2021-06-30T09:23:36.362810Z",
     "iopub.status.idle": "2021-06-30T09:23:36.422020Z",
     "shell.execute_reply": "2021-06-30T09:23:36.419097Z"
    }
   },
   "outputs": [
    {
     "data": {
      "image/svg+xml": [
       "<?xml version=\"1.0\" encoding=\"UTF-8\" standalone=\"no\"?><svg xmlns=\"http://www.w3.org/2000/svg\" xmlns:xlink=\"http://www.w3.org/1999/xlink\" contentScriptType=\"application/ecmascript\" contentStyleType=\"text/css\" height=\"539px\" preserveAspectRatio=\"none\" style=\"width:266px;height:539px;\" version=\"1.1\" viewBox=\"0 0 266 539\" width=\"266px\" zoomAndPan=\"magnify\"><defs/><g><!--MD5=[fbc87193dbaf4d95561dea2c320d4a47]\n",
       "cluster E1--><a href=\"psysml:427a19be-4ba6-433c-b392-6823bf74d458\" target=\"_top\" title=\"psysml:427a19be-4ba6-433c-b392-6823bf74d458\" xlink:actuate=\"onRequest\" xlink:href=\"psysml:427a19be-4ba6-433c-b392-6823bf74d458\" xlink:show=\"new\" xlink:title=\"psysml:427a19be-4ba6-433c-b392-6823bf74d458\" xlink:type=\"simple\"><polygon fill=\"#FFFFFF\" points=\"16,6,34,6,41,28.2969,244,28.2969,244,527,16,527,16,6\" style=\"stroke: #000000; stroke-width: 1.5;\"/><line style=\"stroke: #000000; stroke-width: 1.5;\" x1=\"16\" x2=\"41\" y1=\"28.2969\" y2=\"28.2969\"/><text fill=\"#000000\" font-family=\"sans-serif\" font-size=\"14\" font-weight=\"bold\" lengthAdjust=\"spacingAndGlyphs\" textLength=\"12\" x=\"20\" y=\"20.9951\">Q</text></a><!--MD5=[b4997ac47864f28c2f74865a473b2911]\n",
       "class E2--><a href=\"psysml:027effde-34e9-4491-ba0c-9f82cacaad23\" target=\"_top\" title=\"psysml:027effde-34e9-4491-ba0c-9f82cacaad23\" xlink:actuate=\"onRequest\" xlink:href=\"psysml:027effde-34e9-4491-ba0c-9f82cacaad23\" xlink:show=\"new\" xlink:title=\"psysml:027effde-34e9-4491-ba0c-9f82cacaad23\" xlink:type=\"simple\"><rect fill=\"#FFFFFF\" height=\"45.9375\" id=\"E2\" style=\"stroke: #383838; stroke-width: 1.5;\" width=\"66\" x=\"147\" y=\"359\"/><text fill=\"#000000\" font-family=\"sans-serif\" font-size=\"12\" font-style=\"italic\" lengthAdjust=\"spacingAndGlyphs\" textLength=\"64\" x=\"148\" y=\"375.1387\">«part def»</text><text fill=\"#000000\" font-family=\"sans-serif\" font-size=\"12\" lengthAdjust=\"spacingAndGlyphs\" textLength=\"7\" x=\"176.5\" y=\"389.1074\">F</text><line style=\"stroke: #383838; stroke-width: 1.5;\" x1=\"148\" x2=\"212\" y1=\"396.9375\" y2=\"396.9375\"/></a><!--MD5=[09b614a08d8cba4a07c9adeb5e0fee81]\n",
       "class E3--><a href=\"psysml:241a9b2a-e9cc-4b19-964a-2424b61c0639\" target=\"_top\" title=\"psysml:241a9b2a-e9cc-4b19-964a-2424b61c0639\" xlink:actuate=\"onRequest\" xlink:href=\"psysml:241a9b2a-e9cc-4b19-964a-2424b61c0639\" xlink:show=\"new\" xlink:title=\"psysml:241a9b2a-e9cc-4b19-964a-2424b61c0639\" xlink:type=\"simple\"><rect fill=\"#FFFFFF\" height=\"45.9375\" id=\"E3\" rx=\"10\" ry=\"10\" style=\"stroke: #383838; stroke-width: 1.5;\" width=\"42\" x=\"159\" y=\"465\"/><text fill=\"#000000\" font-family=\"sans-serif\" font-size=\"12\" font-style=\"italic\" lengthAdjust=\"spacingAndGlyphs\" textLength=\"40\" x=\"160\" y=\"481.1387\">«part»</text><text fill=\"#000000\" font-family=\"sans-serif\" font-size=\"12\" lengthAdjust=\"spacingAndGlyphs\" textLength=\"8\" x=\"176\" y=\"495.1074\">a</text><line style=\"stroke: #383838; stroke-width: 1.5;\" x1=\"160\" x2=\"200\" y1=\"502.9375\" y2=\"502.9375\"/></a><!--MD5=[ebbe1d658d1005bcc118a6aa81145e00]\n",
       "class E4--><a href=\"psysml:40835df5-3f1f-4886-9446-1465d21ad736\" target=\"_top\" title=\"psysml:40835df5-3f1f-4886-9446-1465d21ad736\" xlink:actuate=\"onRequest\" xlink:href=\"psysml:40835df5-3f1f-4886-9446-1465d21ad736\" xlink:show=\"new\" xlink:title=\"psysml:40835df5-3f1f-4886-9446-1465d21ad736\" xlink:type=\"simple\"><rect fill=\"#FFFFFF\" height=\"45.9375\" id=\"E4\" rx=\"10\" ry=\"10\" style=\"stroke: #383838; stroke-width: 1.5;\" width=\"42\" x=\"186\" y=\"253\"/><text fill=\"#000000\" font-family=\"sans-serif\" font-size=\"12\" font-style=\"italic\" lengthAdjust=\"spacingAndGlyphs\" textLength=\"40\" x=\"187\" y=\"269.1387\">«part»</text><text fill=\"#000000\" font-family=\"sans-serif\" font-size=\"12\" lengthAdjust=\"spacingAndGlyphs\" textLength=\"19\" x=\"197.5\" y=\"283.1074\">f: F</text><line style=\"stroke: #383838; stroke-width: 1.5;\" x1=\"187\" x2=\"227\" y1=\"290.9375\" y2=\"290.9375\"/></a><!--MD5=[270fce915f116d4de14055a7c1d9a0f3]\n",
       "class E5--><a href=\"psysml:299c2c32-5ec1-43b2-a066-b7748b01150c\" target=\"_top\" title=\"psysml:299c2c32-5ec1-43b2-a066-b7748b01150c\" xlink:actuate=\"onRequest\" xlink:href=\"psysml:299c2c32-5ec1-43b2-a066-b7748b01150c\" xlink:show=\"new\" xlink:title=\"psysml:299c2c32-5ec1-43b2-a066-b7748b01150c\" xlink:type=\"simple\"><rect fill=\"#FFFFFF\" height=\"45.9375\" id=\"E5\" style=\"stroke: #383838; stroke-width: 1.5;\" width=\"66\" x=\"32\" y=\"359\"/><text fill=\"#000000\" font-family=\"sans-serif\" font-size=\"12\" font-style=\"italic\" lengthAdjust=\"spacingAndGlyphs\" textLength=\"64\" x=\"33\" y=\"375.1387\">«part def»</text><text fill=\"#000000\" font-family=\"sans-serif\" font-size=\"12\" lengthAdjust=\"spacingAndGlyphs\" textLength=\"8\" x=\"61\" y=\"389.1074\">A</text><line style=\"stroke: #383838; stroke-width: 1.5;\" x1=\"33\" x2=\"97\" y1=\"396.9375\" y2=\"396.9375\"/></a><!--MD5=[60a26617385b1d2d0262a64233df1f8d]\n",
       "class E6--><a href=\"psysml:31dec55f-8acf-4d42-bd51-f4047894820c\" target=\"_top\" title=\"psysml:31dec55f-8acf-4d42-bd51-f4047894820c\" xlink:actuate=\"onRequest\" xlink:href=\"psysml:31dec55f-8acf-4d42-bd51-f4047894820c\" xlink:show=\"new\" xlink:title=\"psysml:31dec55f-8acf-4d42-bd51-f4047894820c\" xlink:type=\"simple\"><rect fill=\"#FFFFFF\" height=\"45.9375\" id=\"E6\" rx=\"10\" ry=\"10\" style=\"stroke: #383838; stroke-width: 1.5;\" width=\"42\" x=\"44\" y=\"465\"/><text fill=\"#000000\" font-family=\"sans-serif\" font-size=\"12\" font-style=\"italic\" lengthAdjust=\"spacingAndGlyphs\" textLength=\"40\" x=\"45\" y=\"481.1387\">«part»</text><text fill=\"#000000\" font-family=\"sans-serif\" font-size=\"12\" lengthAdjust=\"spacingAndGlyphs\" textLength=\"8\" x=\"61\" y=\"495.1074\">g</text><line style=\"stroke: #383838; stroke-width: 1.5;\" x1=\"45\" x2=\"85\" y1=\"502.9375\" y2=\"502.9375\"/></a><!--MD5=[2156ba9850f5573cc1fc38a6a4b2f02b]\n",
       "class E7--><a href=\"psysml:e57a8ff4-b454-49af-9671-50f81189572a\" target=\"_top\" title=\"psysml:e57a8ff4-b454-49af-9671-50f81189572a\" xlink:actuate=\"onRequest\" xlink:href=\"psysml:e57a8ff4-b454-49af-9671-50f81189572a\" xlink:show=\"new\" xlink:title=\"psysml:e57a8ff4-b454-49af-9671-50f81189572a\" xlink:type=\"simple\"><rect fill=\"#FFFFFF\" height=\"45.9375\" id=\"E7\" style=\"stroke: #383838; stroke-width: 1.5;\" width=\"66\" x=\"64\" y=\"147\"/><text fill=\"#000000\" font-family=\"sans-serif\" font-size=\"12\" font-style=\"italic\" lengthAdjust=\"spacingAndGlyphs\" textLength=\"64\" x=\"65\" y=\"163.1387\">«part def»</text><text fill=\"#000000\" font-family=\"sans-serif\" font-size=\"12\" lengthAdjust=\"spacingAndGlyphs\" textLength=\"8\" x=\"93\" y=\"177.1074\">B</text><line style=\"stroke: #383838; stroke-width: 1.5;\" x1=\"65\" x2=\"129\" y1=\"184.9375\" y2=\"184.9375\"/></a><!--MD5=[b9389687b975829384b498ac4b7476b2]\n",
       "class E8--><a href=\"psysml:ae9b8861-e9cc-45e7-97b3-375fd90ac7d9\" target=\"_top\" title=\"psysml:ae9b8861-e9cc-45e7-97b3-375fd90ac7d9\" xlink:actuate=\"onRequest\" xlink:href=\"psysml:ae9b8861-e9cc-45e7-97b3-375fd90ac7d9\" xlink:show=\"new\" xlink:title=\"psysml:ae9b8861-e9cc-45e7-97b3-375fd90ac7d9\" xlink:type=\"simple\"><rect fill=\"#FFFFFF\" height=\"45.9375\" id=\"E8\" rx=\"10\" ry=\"10\" style=\"stroke: #383838; stroke-width: 1.5;\" width=\"42\" x=\"109\" y=\"253\"/><text fill=\"#000000\" font-family=\"sans-serif\" font-size=\"12\" font-style=\"italic\" lengthAdjust=\"spacingAndGlyphs\" textLength=\"40\" x=\"110\" y=\"269.1387\">«part»</text><text fill=\"#000000\" font-family=\"sans-serif\" font-size=\"12\" lengthAdjust=\"spacingAndGlyphs\" textLength=\"19\" x=\"120.5\" y=\"283.1074\">f: F</text><line style=\"stroke: #383838; stroke-width: 1.5;\" x1=\"110\" x2=\"150\" y1=\"290.9375\" y2=\"290.9375\"/></a><!--MD5=[fd4143e9d270a159db93a4ea2a975926]\n",
       "class E9--><a href=\"psysml:d620b19b-a1e2-497d-8cad-3b2dc38fedc0\" target=\"_top\" title=\"psysml:d620b19b-a1e2-497d-8cad-3b2dc38fedc0\" xlink:actuate=\"onRequest\" xlink:href=\"psysml:d620b19b-a1e2-497d-8cad-3b2dc38fedc0\" xlink:show=\"new\" xlink:title=\"psysml:d620b19b-a1e2-497d-8cad-3b2dc38fedc0\" xlink:type=\"simple\"><rect fill=\"#FFFFFF\" height=\"45.9375\" id=\"E9\" rx=\"10\" ry=\"10\" style=\"stroke: #383838; stroke-width: 1.5;\" width=\"42\" x=\"32\" y=\"253\"/><text fill=\"#000000\" font-family=\"sans-serif\" font-size=\"12\" font-style=\"italic\" lengthAdjust=\"spacingAndGlyphs\" textLength=\"40\" x=\"33\" y=\"269.1387\">«part»</text><text fill=\"#000000\" font-family=\"sans-serif\" font-size=\"12\" lengthAdjust=\"spacingAndGlyphs\" textLength=\"24\" x=\"41\" y=\"283.1074\">a: A</text><line style=\"stroke: #383838; stroke-width: 1.5;\" x1=\"33\" x2=\"73\" y1=\"290.9375\" y2=\"290.9375\"/></a><!--MD5=[96f4274e9e20536e775497830990834d]\n",
       "class E10--><a href=\"psysml:f9a1a989-561d-4119-971e-8ebceafa94b4\" target=\"_top\" title=\"psysml:f9a1a989-561d-4119-971e-8ebceafa94b4\" xlink:actuate=\"onRequest\" xlink:href=\"psysml:f9a1a989-561d-4119-971e-8ebceafa94b4\" xlink:show=\"new\" xlink:title=\"psysml:f9a1a989-561d-4119-971e-8ebceafa94b4\" xlink:type=\"simple\"><rect fill=\"#FFFFFF\" height=\"45.9375\" id=\"E10\" rx=\"10\" ry=\"10\" style=\"stroke: #383838; stroke-width: 1.5;\" width=\"42\" x=\"76\" y=\"41\"/><text fill=\"#000000\" font-family=\"sans-serif\" font-size=\"12\" font-style=\"italic\" lengthAdjust=\"spacingAndGlyphs\" textLength=\"40\" x=\"77\" y=\"57.1387\">«part»</text><text fill=\"#000000\" font-family=\"sans-serif\" font-size=\"12\" lengthAdjust=\"spacingAndGlyphs\" textLength=\"24\" x=\"85\" y=\"71.1074\">b: B</text><line style=\"stroke: #383838; stroke-width: 1.5;\" x1=\"77\" x2=\"117\" y1=\"78.9375\" y2=\"78.9375\"/></a><!--MD5=[209b3feb70ccb6233bfe1053d122c12c]\n",
       "reverse link E2 to E3--><a href=\"psysml:5ee10b2b-55c1-4a08-a13b-bdb74e3f50e5\" target=\"_top\" title=\"psysml:5ee10b2b-55c1-4a08-a13b-bdb74e3f50e5\" xlink:actuate=\"onRequest\" xlink:href=\"psysml:5ee10b2b-55c1-4a08-a13b-bdb74e3f50e5\" xlink:show=\"new\" xlink:title=\"psysml:5ee10b2b-55c1-4a08-a13b-bdb74e3f50e5\" xlink:type=\"simple\"><path d=\"M180,418.44 C180,433.87 180,451.47 180,464.98 \" fill=\"none\" id=\"E2&lt;-E3\" style=\"stroke: #383838; stroke-width: 1.0;\"/><polygon fill=\"#383838\" points=\"180,405.06,176,411.06,180,417.06,184,411.06,180,405.06\" style=\"stroke: #383838; stroke-width: 1.0;\"/></a><!--MD5=[185131fc0dcab0a4505a2ebe144e961b]\n",
       "link E4 to E2--><a href=\"psysml:c4c1c0e2-eca3-4dc3-a203-c30912c3ab2b\" target=\"_top\" title=\"psysml:c4c1c0e2-eca3-4dc3-a203-c30912c3ab2b\" xlink:actuate=\"onRequest\" xlink:href=\"psysml:c4c1c0e2-eca3-4dc3-a203-c30912c3ab2b\" xlink:show=\"new\" xlink:title=\"psysml:c4c1c0e2-eca3-4dc3-a203-c30912c3ab2b\" xlink:type=\"simple\"><path d=\"M201.27,299.06 C198.23,310.78 194.39,325.57 190.81,339.36 \" fill=\"none\" id=\"E4-&gt;E2\" style=\"stroke: #383838; stroke-width: 1.0;\"/><polygon fill=\"#FFFFFF\" points=\"185.72,358.98,183.7221,338.8303,197.2724,342.3504,185.72,358.98\" style=\"stroke: #383838; stroke-width: 1.0;\"/><ellipse cx=\"187.091\" cy=\"333.8163\" fill=\"#383838\" rx=\"2\" ry=\"2\" style=\"stroke: #383838; stroke-width: 1.0;\"/><ellipse cx=\"196.7698\" cy=\"336.3307\" fill=\"#383838\" rx=\"2\" ry=\"2\" style=\"stroke: #383838; stroke-width: 1.0;\"/></a><!--MD5=[85d356282659285ab4b2cfe2f634dd2b]\n",
       "reverse link E5 to E6--><a href=\"psysml:93463b7d-149f-4a15-b84b-177a9e530eda\" target=\"_top\" title=\"psysml:93463b7d-149f-4a15-b84b-177a9e530eda\" xlink:actuate=\"onRequest\" xlink:href=\"psysml:93463b7d-149f-4a15-b84b-177a9e530eda\" xlink:show=\"new\" xlink:title=\"psysml:93463b7d-149f-4a15-b84b-177a9e530eda\" xlink:type=\"simple\"><path d=\"M65,418.44 C65,433.87 65,451.47 65,464.98 \" fill=\"none\" id=\"E5&lt;-E6\" style=\"stroke: #383838; stroke-width: 1.0;\"/><polygon fill=\"#383838\" points=\"65,405.06,61,411.06,65,417.06,69,411.06,65,405.06\" style=\"stroke: #383838; stroke-width: 1.0;\"/></a><!--MD5=[dc164f5e8a733ab456ef1add180e9e34]\n",
       "reverse link E7 to E8--><a href=\"psysml:de6f8f38-3125-456b-a954-15a696931b63\" target=\"_top\" title=\"psysml:de6f8f38-3125-456b-a954-15a696931b63\" xlink:actuate=\"onRequest\" xlink:href=\"psysml:de6f8f38-3125-456b-a954-15a696931b63\" xlink:show=\"new\" xlink:title=\"psysml:de6f8f38-3125-456b-a954-15a696931b63\" xlink:type=\"simple\"><path d=\"M107.95,205.49 C112.91,221.15 118.64,239.19 123.01,252.98 \" fill=\"none\" id=\"E7&lt;-E8\" style=\"stroke: #383838; stroke-width: 1.0;\"/><polygon fill=\"#383838\" points=\"104,193.06,101.9989,199.9879,107.6243,204.4996,109.6253,197.5717,104,193.06\" style=\"stroke: #383838; stroke-width: 1.0;\"/></a><!--MD5=[f1f3f9f2fc535e6147756cb86a7f2e32]\n",
       "link E8 to E2--><a href=\"psysml:536a95df-7241-4403-bcab-1aa9fe7a4b7d\" target=\"_top\" title=\"psysml:536a95df-7241-4403-bcab-1aa9fe7a4b7d\" xlink:actuate=\"onRequest\" xlink:href=\"psysml:536a95df-7241-4403-bcab-1aa9fe7a4b7d\" xlink:show=\"new\" xlink:title=\"psysml:536a95df-7241-4403-bcab-1aa9fe7a4b7d\" xlink:type=\"simple\"><path d=\"M140.6,299.06 C146.44,311.19 153.86,326.62 160.68,340.82 \" fill=\"none\" id=\"E8-&gt;E2\" style=\"stroke: #383838; stroke-width: 1.0;\"/><polygon fill=\"#FFFFFF\" points=\"169.41,358.98,154.8709,344.8869,167.4894,338.8228,169.41,358.98\" style=\"stroke: #383838; stroke-width: 1.0;\"/><ellipse cx=\"154.2046\" cy=\"338.8831\" fill=\"#383838\" rx=\"2\" ry=\"2\" style=\"stroke: #383838; stroke-width: 1.0;\"/><ellipse cx=\"163.2178\" cy=\"334.5516\" fill=\"#383838\" rx=\"2\" ry=\"2\" style=\"stroke: #383838; stroke-width: 1.0;\"/></a><!--MD5=[e4a10ef82d0e328e31cac39a31e58dda]\n",
       "reverse link E7 to E9--><a href=\"psysml:2c441a1b-e979-4985-bcd5-61f8c13172d0\" target=\"_top\" title=\"psysml:2c441a1b-e979-4985-bcd5-61f8c13172d0\" xlink:actuate=\"onRequest\" xlink:href=\"psysml:2c441a1b-e979-4985-bcd5-61f8c13172d0\" xlink:show=\"new\" xlink:title=\"psysml:2c441a1b-e979-4985-bcd5-61f8c13172d0\" xlink:type=\"simple\"><path d=\"M82.41,205.49 C75.78,221.15 68.15,239.19 62.32,252.98 \" fill=\"none\" id=\"E7&lt;-E9\" style=\"stroke: #383838; stroke-width: 1.0;\"/><polygon fill=\"#383838\" points=\"87.67,193.06,81.6505,197.0305,83.0003,204.1142,89.0199,200.1436,87.67,193.06\" style=\"stroke: #383838; stroke-width: 1.0;\"/></a><!--MD5=[bfc3ddf2e613be37104f658f09af896c]\n",
       "link E9 to E5--><a href=\"psysml:fc8a5d52-f7b0-45e1-9a4f-1e932b65f071\" target=\"_top\" title=\"psysml:fc8a5d52-f7b0-45e1-9a4f-1e932b65f071\" xlink:actuate=\"onRequest\" xlink:href=\"psysml:fc8a5d52-f7b0-45e1-9a4f-1e932b65f071\" xlink:show=\"new\" xlink:title=\"psysml:fc8a5d52-f7b0-45e1-9a4f-1e932b65f071\" xlink:type=\"simple\"><path d=\"M55.54,299.06 C56.88,310.64 58.56,325.23 60.14,338.87 \" fill=\"none\" id=\"E9-&gt;E5\" style=\"stroke: #383838; stroke-width: 1.0;\"/><polygon fill=\"#FFFFFF\" points=\"62.46,358.98,53.3347,340.9044,67.243,339.3046,62.46,358.98\" style=\"stroke: #383838; stroke-width: 1.0;\"/><ellipse cx=\"54.6702\" cy=\"335.0132\" fill=\"#383838\" rx=\"2\" ry=\"2\" style=\"stroke: #383838; stroke-width: 1.0;\"/><ellipse cx=\"64.6047\" cy=\"333.8704\" fill=\"#383838\" rx=\"2\" ry=\"2\" style=\"stroke: #383838; stroke-width: 1.0;\"/></a><!--MD5=[a919e0967d6f3de553dc51b9865a1d6d]\n",
       "link E10 to E7--><a href=\"psysml:2e3833d6-0a03-41e5-9593-325ba84dff2e\" target=\"_top\" title=\"psysml:2e3833d6-0a03-41e5-9593-325ba84dff2e\" xlink:actuate=\"onRequest\" xlink:href=\"psysml:2e3833d6-0a03-41e5-9593-325ba84dff2e\" xlink:show=\"new\" xlink:title=\"psysml:2e3833d6-0a03-41e5-9593-325ba84dff2e\" xlink:type=\"simple\"><path d=\"M97,87.06 C97,98.64 97,113.23 97,126.87 \" fill=\"none\" id=\"E10-&gt;E7\" style=\"stroke: #383838; stroke-width: 1.0;\"/><polygon fill=\"#FFFFFF\" points=\"97,146.98,90,127.98,104,127.98,97,146.98\" style=\"stroke: #383838; stroke-width: 1.0;\"/><ellipse cx=\"92\" cy=\"122.28\" fill=\"#383838\" rx=\"2\" ry=\"2\" style=\"stroke: #383838; stroke-width: 1.0;\"/><ellipse cx=\"102\" cy=\"122.28\" fill=\"#383838\" rx=\"2\" ry=\"2\" style=\"stroke: #383838; stroke-width: 1.0;\"/></a><!--MD5=[6aee78d05d74074574f7e8288756ad00]\n",
       "@startuml\r\n",
       "top to bottom direction\r\n",
       "skinparam monochrome true\r\n",
       "skinparam classbackgroundcolor white\r\n",
       "skinparam shadowing false\r\n",
       "skinparam wrapWidth 300\r\n",
       "hide circle\r\n",
       "\r\n",
       "package \"Q\" as E1  [[psysml:427a19be-4ba6-433c-b392-6823bf74d458 ]]  {\r\n",
       "comp def \"F\" as E2  <<(T,blue) part def>> [[psysml:027effde-34e9-4491-ba0c-9f82cacaad23 ]] {\r\n",
       "}\r\n",
       "comp usage \"a\" as E3  <<(T,blue) part>> [[psysml:241a9b2a-e9cc-4b19-964a-2424b61c0639 ]] {\r\n",
       "}\r\n",
       "comp usage \"f: F\" as E4  <<(T,blue) part>> [[psysml:40835df5-3f1f-4886-9446-1465d21ad736 ]] {\r\n",
       "}\r\n",
       "comp def \"A\" as E5  <<(T,blue) part def>> [[psysml:299c2c32-5ec1-43b2-a066-b7748b01150c ]] {\r\n",
       "}\r\n",
       "comp usage \"g\" as E6  <<(T,blue) part>> [[psysml:31dec55f-8acf-4d42-bd51-f4047894820c ]] {\r\n",
       "}\r\n",
       "comp def \"B\" as E7  <<(T,blue) part def>> [[psysml:e57a8ff4-b454-49af-9671-50f81189572a ]] {\r\n",
       "}\r\n",
       "comp usage \"f: F\" as E8  <<(T,blue) part>> [[psysml:ae9b8861-e9cc-45e7-97b3-375fd90ac7d9 ]] {\r\n",
       "}\r\n",
       "comp usage \"a: A\" as E9  <<(T,blue) part>> [[psysml:d620b19b-a1e2-497d-8cad-3b2dc38fedc0 ]] {\r\n",
       "}\r\n",
       "comp usage \"b: B\" as E10  <<(T,blue) part>> [[psysml:f9a1a989-561d-4119-971e-8ebceafa94b4 ]] {\r\n",
       "}\r\n",
       "E2 *- - E3 [[psysml:5ee10b2b-55c1-4a08-a13b-bdb74e3f50e5 ]] \r\n",
       "E4 - -:|> E2 [[psysml:c4c1c0e2-eca3-4dc3-a203-c30912c3ab2b ]] \r\n",
       "E5 *- - E6 [[psysml:93463b7d-149f-4a15-b84b-177a9e530eda ]] \r\n",
       "E7 *- - E8 [[psysml:de6f8f38-3125-456b-a954-15a696931b63 ]] \r\n",
       "E8 - -:|> E2 [[psysml:536a95df-7241-4403-bcab-1aa9fe7a4b7d ]] \r\n",
       "E7 *- - E9 [[psysml:2c441a1b-e979-4985-bcd5-61f8c13172d0 ]] \r\n",
       "E9 - -:|> E5 [[psysml:fc8a5d52-f7b0-45e1-9a4f-1e932b65f071 ]] \r\n",
       "E10 - -:|> E7 [[psysml:2e3833d6-0a03-41e5-9593-325ba84dff2e ]] \r\n",
       "}\r\n",
       "@enduml\r\n",
       "\n",
       "PlantUML version 1.2020.13(Sat Jun 13 12:26:38 UTC 2020)\n",
       "(EPL source distribution)\n",
       "Java Runtime: OpenJDK Runtime Environment\n",
       "JVM: OpenJDK 64-Bit Server VM\n",
       "Default Encoding: UTF-8\n",
       "Language: en\n",
       "Country: null\n",
       "--></g></svg>"
      ]
     },
     "execution_count": 50,
     "metadata": {},
     "output_type": "execute_result"
    }
   ],
   "source": [
    "%viz --style=\"TB\" --view=\"MIXED\" \"Q\""
   ]
  },
  {
   "cell_type": "code",
   "execution_count": 51,
   "id": "706d383d",
   "metadata": {
    "execution": {
     "iopub.execute_input": "2021-06-30T09:23:36.477316Z",
     "iopub.status.busy": "2021-06-30T09:23:36.476465Z",
     "iopub.status.idle": "2021-06-30T09:23:36.543649Z",
     "shell.execute_reply": "2021-06-30T09:23:36.541049Z"
    }
   },
   "outputs": [
    {
     "data": {
      "image/svg+xml": [
       "<?xml version=\"1.0\" encoding=\"UTF-8\" standalone=\"no\"?><svg xmlns=\"http://www.w3.org/2000/svg\" xmlns:xlink=\"http://www.w3.org/1999/xlink\" contentScriptType=\"application/ecmascript\" contentStyleType=\"text/css\" height=\"539px\" preserveAspectRatio=\"none\" style=\"width:266px;height:539px;\" version=\"1.1\" viewBox=\"0 0 266 539\" width=\"266px\" zoomAndPan=\"magnify\"><defs/><g><!--MD5=[fbc87193dbaf4d95561dea2c320d4a47]\n",
       "cluster E1--><a href=\"psysml:427a19be-4ba6-433c-b392-6823bf74d458\" target=\"_top\" title=\"psysml:427a19be-4ba6-433c-b392-6823bf74d458\" xlink:actuate=\"onRequest\" xlink:href=\"psysml:427a19be-4ba6-433c-b392-6823bf74d458\" xlink:show=\"new\" xlink:title=\"psysml:427a19be-4ba6-433c-b392-6823bf74d458\" xlink:type=\"simple\"><polygon fill=\"#FFFFFF\" points=\"16,6,34,6,41,28.2969,244,28.2969,244,527,16,527,16,6\" style=\"stroke: #000000; stroke-width: 1.5;\"/><line style=\"stroke: #000000; stroke-width: 1.5;\" x1=\"16\" x2=\"41\" y1=\"28.2969\" y2=\"28.2969\"/><text fill=\"#000000\" font-family=\"sans-serif\" font-size=\"14\" font-weight=\"bold\" lengthAdjust=\"spacingAndGlyphs\" textLength=\"12\" x=\"20\" y=\"20.9951\">Q</text></a><!--MD5=[b4997ac47864f28c2f74865a473b2911]\n",
       "class E2--><a href=\"psysml:027effde-34e9-4491-ba0c-9f82cacaad23\" target=\"_top\" title=\"psysml:027effde-34e9-4491-ba0c-9f82cacaad23\" xlink:actuate=\"onRequest\" xlink:href=\"psysml:027effde-34e9-4491-ba0c-9f82cacaad23\" xlink:show=\"new\" xlink:title=\"psysml:027effde-34e9-4491-ba0c-9f82cacaad23\" xlink:type=\"simple\"><rect fill=\"#FFFFFF\" height=\"45.9375\" id=\"E2\" style=\"stroke: #383838; stroke-width: 1.5;\" width=\"66\" x=\"147\" y=\"359\"/><text fill=\"#000000\" font-family=\"sans-serif\" font-size=\"12\" font-style=\"italic\" lengthAdjust=\"spacingAndGlyphs\" textLength=\"64\" x=\"148\" y=\"375.1387\">«part def»</text><text fill=\"#000000\" font-family=\"sans-serif\" font-size=\"12\" lengthAdjust=\"spacingAndGlyphs\" textLength=\"7\" x=\"176.5\" y=\"389.1074\">F</text><line style=\"stroke: #383838; stroke-width: 1.5;\" x1=\"148\" x2=\"212\" y1=\"396.9375\" y2=\"396.9375\"/></a><!--MD5=[09b614a08d8cba4a07c9adeb5e0fee81]\n",
       "class E3--><a href=\"psysml:241a9b2a-e9cc-4b19-964a-2424b61c0639\" target=\"_top\" title=\"psysml:241a9b2a-e9cc-4b19-964a-2424b61c0639\" xlink:actuate=\"onRequest\" xlink:href=\"psysml:241a9b2a-e9cc-4b19-964a-2424b61c0639\" xlink:show=\"new\" xlink:title=\"psysml:241a9b2a-e9cc-4b19-964a-2424b61c0639\" xlink:type=\"simple\"><rect fill=\"#FFFFFF\" height=\"45.9375\" id=\"E3\" rx=\"10\" ry=\"10\" style=\"stroke: #383838; stroke-width: 1.5;\" width=\"42\" x=\"159\" y=\"465\"/><text fill=\"#000000\" font-family=\"sans-serif\" font-size=\"12\" font-style=\"italic\" lengthAdjust=\"spacingAndGlyphs\" textLength=\"40\" x=\"160\" y=\"481.1387\">«part»</text><text fill=\"#000000\" font-family=\"sans-serif\" font-size=\"12\" lengthAdjust=\"spacingAndGlyphs\" textLength=\"8\" x=\"176\" y=\"495.1074\">a</text><line style=\"stroke: #383838; stroke-width: 1.5;\" x1=\"160\" x2=\"200\" y1=\"502.9375\" y2=\"502.9375\"/></a><!--MD5=[ebbe1d658d1005bcc118a6aa81145e00]\n",
       "class E4--><a href=\"psysml:40835df5-3f1f-4886-9446-1465d21ad736\" target=\"_top\" title=\"psysml:40835df5-3f1f-4886-9446-1465d21ad736\" xlink:actuate=\"onRequest\" xlink:href=\"psysml:40835df5-3f1f-4886-9446-1465d21ad736\" xlink:show=\"new\" xlink:title=\"psysml:40835df5-3f1f-4886-9446-1465d21ad736\" xlink:type=\"simple\"><rect fill=\"#FFFFFF\" height=\"45.9375\" id=\"E4\" rx=\"10\" ry=\"10\" style=\"stroke: #383838; stroke-width: 1.5;\" width=\"42\" x=\"186\" y=\"253\"/><text fill=\"#000000\" font-family=\"sans-serif\" font-size=\"12\" font-style=\"italic\" lengthAdjust=\"spacingAndGlyphs\" textLength=\"40\" x=\"187\" y=\"269.1387\">«part»</text><text fill=\"#000000\" font-family=\"sans-serif\" font-size=\"12\" lengthAdjust=\"spacingAndGlyphs\" textLength=\"19\" x=\"197.5\" y=\"283.1074\">f: F</text><line style=\"stroke: #383838; stroke-width: 1.5;\" x1=\"187\" x2=\"227\" y1=\"290.9375\" y2=\"290.9375\"/></a><!--MD5=[270fce915f116d4de14055a7c1d9a0f3]\n",
       "class E5--><a href=\"psysml:299c2c32-5ec1-43b2-a066-b7748b01150c\" target=\"_top\" title=\"psysml:299c2c32-5ec1-43b2-a066-b7748b01150c\" xlink:actuate=\"onRequest\" xlink:href=\"psysml:299c2c32-5ec1-43b2-a066-b7748b01150c\" xlink:show=\"new\" xlink:title=\"psysml:299c2c32-5ec1-43b2-a066-b7748b01150c\" xlink:type=\"simple\"><rect fill=\"#FFFFFF\" height=\"45.9375\" id=\"E5\" style=\"stroke: #383838; stroke-width: 1.5;\" width=\"66\" x=\"32\" y=\"359\"/><text fill=\"#000000\" font-family=\"sans-serif\" font-size=\"12\" font-style=\"italic\" lengthAdjust=\"spacingAndGlyphs\" textLength=\"64\" x=\"33\" y=\"375.1387\">«part def»</text><text fill=\"#000000\" font-family=\"sans-serif\" font-size=\"12\" lengthAdjust=\"spacingAndGlyphs\" textLength=\"8\" x=\"61\" y=\"389.1074\">A</text><line style=\"stroke: #383838; stroke-width: 1.5;\" x1=\"33\" x2=\"97\" y1=\"396.9375\" y2=\"396.9375\"/></a><!--MD5=[60a26617385b1d2d0262a64233df1f8d]\n",
       "class E6--><a href=\"psysml:31dec55f-8acf-4d42-bd51-f4047894820c\" target=\"_top\" title=\"psysml:31dec55f-8acf-4d42-bd51-f4047894820c\" xlink:actuate=\"onRequest\" xlink:href=\"psysml:31dec55f-8acf-4d42-bd51-f4047894820c\" xlink:show=\"new\" xlink:title=\"psysml:31dec55f-8acf-4d42-bd51-f4047894820c\" xlink:type=\"simple\"><rect fill=\"#FFFFFF\" height=\"45.9375\" id=\"E6\" rx=\"10\" ry=\"10\" style=\"stroke: #383838; stroke-width: 1.5;\" width=\"42\" x=\"44\" y=\"465\"/><text fill=\"#000000\" font-family=\"sans-serif\" font-size=\"12\" font-style=\"italic\" lengthAdjust=\"spacingAndGlyphs\" textLength=\"40\" x=\"45\" y=\"481.1387\">«part»</text><text fill=\"#000000\" font-family=\"sans-serif\" font-size=\"12\" lengthAdjust=\"spacingAndGlyphs\" textLength=\"8\" x=\"61\" y=\"495.1074\">g</text><line style=\"stroke: #383838; stroke-width: 1.5;\" x1=\"45\" x2=\"85\" y1=\"502.9375\" y2=\"502.9375\"/></a><!--MD5=[2156ba9850f5573cc1fc38a6a4b2f02b]\n",
       "class E7--><a href=\"psysml:e57a8ff4-b454-49af-9671-50f81189572a\" target=\"_top\" title=\"psysml:e57a8ff4-b454-49af-9671-50f81189572a\" xlink:actuate=\"onRequest\" xlink:href=\"psysml:e57a8ff4-b454-49af-9671-50f81189572a\" xlink:show=\"new\" xlink:title=\"psysml:e57a8ff4-b454-49af-9671-50f81189572a\" xlink:type=\"simple\"><rect fill=\"#FFFFFF\" height=\"45.9375\" id=\"E7\" style=\"stroke: #383838; stroke-width: 1.5;\" width=\"66\" x=\"64\" y=\"147\"/><text fill=\"#000000\" font-family=\"sans-serif\" font-size=\"12\" font-style=\"italic\" lengthAdjust=\"spacingAndGlyphs\" textLength=\"64\" x=\"65\" y=\"163.1387\">«part def»</text><text fill=\"#000000\" font-family=\"sans-serif\" font-size=\"12\" lengthAdjust=\"spacingAndGlyphs\" textLength=\"8\" x=\"93\" y=\"177.1074\">B</text><line style=\"stroke: #383838; stroke-width: 1.5;\" x1=\"65\" x2=\"129\" y1=\"184.9375\" y2=\"184.9375\"/></a><!--MD5=[b9389687b975829384b498ac4b7476b2]\n",
       "class E8--><a href=\"psysml:ae9b8861-e9cc-45e7-97b3-375fd90ac7d9\" target=\"_top\" title=\"psysml:ae9b8861-e9cc-45e7-97b3-375fd90ac7d9\" xlink:actuate=\"onRequest\" xlink:href=\"psysml:ae9b8861-e9cc-45e7-97b3-375fd90ac7d9\" xlink:show=\"new\" xlink:title=\"psysml:ae9b8861-e9cc-45e7-97b3-375fd90ac7d9\" xlink:type=\"simple\"><rect fill=\"#FFFFFF\" height=\"45.9375\" id=\"E8\" rx=\"10\" ry=\"10\" style=\"stroke: #383838; stroke-width: 1.5;\" width=\"42\" x=\"109\" y=\"253\"/><text fill=\"#000000\" font-family=\"sans-serif\" font-size=\"12\" font-style=\"italic\" lengthAdjust=\"spacingAndGlyphs\" textLength=\"40\" x=\"110\" y=\"269.1387\">«part»</text><text fill=\"#000000\" font-family=\"sans-serif\" font-size=\"12\" lengthAdjust=\"spacingAndGlyphs\" textLength=\"19\" x=\"120.5\" y=\"283.1074\">f: F</text><line style=\"stroke: #383838; stroke-width: 1.5;\" x1=\"110\" x2=\"150\" y1=\"290.9375\" y2=\"290.9375\"/></a><!--MD5=[fd4143e9d270a159db93a4ea2a975926]\n",
       "class E9--><a href=\"psysml:d620b19b-a1e2-497d-8cad-3b2dc38fedc0\" target=\"_top\" title=\"psysml:d620b19b-a1e2-497d-8cad-3b2dc38fedc0\" xlink:actuate=\"onRequest\" xlink:href=\"psysml:d620b19b-a1e2-497d-8cad-3b2dc38fedc0\" xlink:show=\"new\" xlink:title=\"psysml:d620b19b-a1e2-497d-8cad-3b2dc38fedc0\" xlink:type=\"simple\"><rect fill=\"#FFFFFF\" height=\"45.9375\" id=\"E9\" rx=\"10\" ry=\"10\" style=\"stroke: #383838; stroke-width: 1.5;\" width=\"42\" x=\"32\" y=\"253\"/><text fill=\"#000000\" font-family=\"sans-serif\" font-size=\"12\" font-style=\"italic\" lengthAdjust=\"spacingAndGlyphs\" textLength=\"40\" x=\"33\" y=\"269.1387\">«part»</text><text fill=\"#000000\" font-family=\"sans-serif\" font-size=\"12\" lengthAdjust=\"spacingAndGlyphs\" textLength=\"24\" x=\"41\" y=\"283.1074\">a: A</text><line style=\"stroke: #383838; stroke-width: 1.5;\" x1=\"33\" x2=\"73\" y1=\"290.9375\" y2=\"290.9375\"/></a><!--MD5=[96f4274e9e20536e775497830990834d]\n",
       "class E10--><a href=\"psysml:f9a1a989-561d-4119-971e-8ebceafa94b4\" target=\"_top\" title=\"psysml:f9a1a989-561d-4119-971e-8ebceafa94b4\" xlink:actuate=\"onRequest\" xlink:href=\"psysml:f9a1a989-561d-4119-971e-8ebceafa94b4\" xlink:show=\"new\" xlink:title=\"psysml:f9a1a989-561d-4119-971e-8ebceafa94b4\" xlink:type=\"simple\"><rect fill=\"#FFFFFF\" height=\"45.9375\" id=\"E10\" rx=\"10\" ry=\"10\" style=\"stroke: #383838; stroke-width: 1.5;\" width=\"42\" x=\"76\" y=\"41\"/><text fill=\"#000000\" font-family=\"sans-serif\" font-size=\"12\" font-style=\"italic\" lengthAdjust=\"spacingAndGlyphs\" textLength=\"40\" x=\"77\" y=\"57.1387\">«part»</text><text fill=\"#000000\" font-family=\"sans-serif\" font-size=\"12\" lengthAdjust=\"spacingAndGlyphs\" textLength=\"24\" x=\"85\" y=\"71.1074\">b: B</text><line style=\"stroke: #383838; stroke-width: 1.5;\" x1=\"77\" x2=\"117\" y1=\"78.9375\" y2=\"78.9375\"/></a><!--MD5=[209b3feb70ccb6233bfe1053d122c12c]\n",
       "reverse link E2 to E3--><a href=\"psysml:5ee10b2b-55c1-4a08-a13b-bdb74e3f50e5\" target=\"_top\" title=\"psysml:5ee10b2b-55c1-4a08-a13b-bdb74e3f50e5\" xlink:actuate=\"onRequest\" xlink:href=\"psysml:5ee10b2b-55c1-4a08-a13b-bdb74e3f50e5\" xlink:show=\"new\" xlink:title=\"psysml:5ee10b2b-55c1-4a08-a13b-bdb74e3f50e5\" xlink:type=\"simple\"><path d=\"M180,418 C180,418 180,464.68 180,464.68 \" fill=\"none\" id=\"E2&lt;-E3\" style=\"stroke: #383838; stroke-width: 1.0;\"/><polygon fill=\"#383838\" points=\"180,405,176,411,180,417,184,411,180,405\" style=\"stroke: #383838; stroke-width: 1.0;\"/></a><!--MD5=[185131fc0dcab0a4505a2ebe144e961b]\n",
       "link E4 to E2--><a href=\"psysml:c4c1c0e2-eca3-4dc3-a203-c30912c3ab2b\" target=\"_top\" title=\"psysml:c4c1c0e2-eca3-4dc3-a203-c30912c3ab2b\" xlink:actuate=\"onRequest\" xlink:href=\"psysml:c4c1c0e2-eca3-4dc3-a203-c30912c3ab2b\" xlink:show=\"new\" xlink:title=\"psysml:c4c1c0e2-eca3-4dc3-a203-c30912c3ab2b\" xlink:type=\"simple\"><path d=\"M199.5,299 C199.5,299 199.5,338.68 199.5,338.68 \" fill=\"none\" id=\"E4-&gt;E2\" style=\"stroke: #383838; stroke-width: 1.0;\"/><polygon fill=\"#FFFFFF\" points=\"199.5,358.68,192.5,339.68,206.5,339.68,199.5,358.68\" style=\"stroke: #383838; stroke-width: 1.0;\"/><ellipse cx=\"194.5\" cy=\"333.98\" fill=\"#383838\" rx=\"2\" ry=\"2\" style=\"stroke: #383838; stroke-width: 1.0;\"/><ellipse cx=\"204.5\" cy=\"333.98\" fill=\"#383838\" rx=\"2\" ry=\"2\" style=\"stroke: #383838; stroke-width: 1.0;\"/></a><!--MD5=[85d356282659285ab4b2cfe2f634dd2b]\n",
       "reverse link E5 to E6--><a href=\"psysml:93463b7d-149f-4a15-b84b-177a9e530eda\" target=\"_top\" title=\"psysml:93463b7d-149f-4a15-b84b-177a9e530eda\" xlink:actuate=\"onRequest\" xlink:href=\"psysml:93463b7d-149f-4a15-b84b-177a9e530eda\" xlink:show=\"new\" xlink:title=\"psysml:93463b7d-149f-4a15-b84b-177a9e530eda\" xlink:type=\"simple\"><path d=\"M65,418 C65,418 65,464.68 65,464.68 \" fill=\"none\" id=\"E5&lt;-E6\" style=\"stroke: #383838; stroke-width: 1.0;\"/><polygon fill=\"#383838\" points=\"65,405,61,411,65,417,69,411,65,405\" style=\"stroke: #383838; stroke-width: 1.0;\"/></a><!--MD5=[dc164f5e8a733ab456ef1add180e9e34]\n",
       "reverse link E7 to E8--><a href=\"psysml:de6f8f38-3125-456b-a954-15a696931b63\" target=\"_top\" title=\"psysml:de6f8f38-3125-456b-a954-15a696931b63\" xlink:actuate=\"onRequest\" xlink:href=\"psysml:de6f8f38-3125-456b-a954-15a696931b63\" xlink:show=\"new\" xlink:title=\"psysml:de6f8f38-3125-456b-a954-15a696931b63\" xlink:type=\"simple\"><path d=\"M119.5,206 C119.5,206 119.5,252.68 119.5,252.68 \" fill=\"none\" id=\"E7&lt;-E8\" style=\"stroke: #383838; stroke-width: 1.0;\"/><polygon fill=\"#383838\" points=\"119.5,193,115.5,199,119.5,205,123.5,199,119.5,193\" style=\"stroke: #383838; stroke-width: 1.0;\"/></a><!--MD5=[f1f3f9f2fc535e6147756cb86a7f2e32]\n",
       "link E8 to E2--><a href=\"psysml:536a95df-7241-4403-bcab-1aa9fe7a4b7d\" target=\"_top\" title=\"psysml:536a95df-7241-4403-bcab-1aa9fe7a4b7d\" xlink:actuate=\"onRequest\" xlink:href=\"psysml:536a95df-7241-4403-bcab-1aa9fe7a4b7d\" xlink:show=\"new\" xlink:title=\"psysml:536a95df-7241-4403-bcab-1aa9fe7a4b7d\" xlink:type=\"simple\"><path d=\"M151.05,276 C160.04,276 168.5,276 168.5,276 C168.5,276 168.5,339 168.5,339 \" fill=\"none\" id=\"E8-&gt;E2\" style=\"stroke: #383838; stroke-width: 1.0;\"/><polygon fill=\"#FFFFFF\" points=\"168.5,359,161.5,340,175.5,340,168.5,359\" style=\"stroke: #383838; stroke-width: 1.0;\"/><ellipse cx=\"163.5\" cy=\"334.3\" fill=\"#383838\" rx=\"2\" ry=\"2\" style=\"stroke: #383838; stroke-width: 1.0;\"/><ellipse cx=\"173.5\" cy=\"334.3\" fill=\"#383838\" rx=\"2\" ry=\"2\" style=\"stroke: #383838; stroke-width: 1.0;\"/></a><!--MD5=[e4a10ef82d0e328e31cac39a31e58dda]\n",
       "reverse link E7 to E9--><a href=\"psysml:2c441a1b-e979-4985-bcd5-61f8c13172d0\" target=\"_top\" title=\"psysml:2c441a1b-e979-4985-bcd5-61f8c13172d0\" xlink:actuate=\"onRequest\" xlink:href=\"psysml:2c441a1b-e979-4985-bcd5-61f8c13172d0\" xlink:show=\"new\" xlink:title=\"psysml:2c441a1b-e979-4985-bcd5-61f8c13172d0\" xlink:type=\"simple\"><path d=\"M69,206 C69,206 69,252.68 69,252.68 \" fill=\"none\" id=\"E7&lt;-E9\" style=\"stroke: #383838; stroke-width: 1.0;\"/><polygon fill=\"#383838\" points=\"69,193,65,199,69,205,73,199,69,193\" style=\"stroke: #383838; stroke-width: 1.0;\"/></a><!--MD5=[bfc3ddf2e613be37104f658f09af896c]\n",
       "link E9 to E5--><a href=\"psysml:fc8a5d52-f7b0-45e1-9a4f-1e932b65f071\" target=\"_top\" title=\"psysml:fc8a5d52-f7b0-45e1-9a4f-1e932b65f071\" xlink:actuate=\"onRequest\" xlink:href=\"psysml:fc8a5d52-f7b0-45e1-9a4f-1e932b65f071\" xlink:show=\"new\" xlink:title=\"psysml:fc8a5d52-f7b0-45e1-9a4f-1e932b65f071\" xlink:type=\"simple\"><path d=\"M74.09,276 C80.55,276 86,276 86,276 C86,276 86,339 86,339 \" fill=\"none\" id=\"E9-&gt;E5\" style=\"stroke: #383838; stroke-width: 1.0;\"/><polygon fill=\"#FFFFFF\" points=\"86,359,79,340,93,340,86,359\" style=\"stroke: #383838; stroke-width: 1.0;\"/><ellipse cx=\"81\" cy=\"334.3\" fill=\"#383838\" rx=\"2\" ry=\"2\" style=\"stroke: #383838; stroke-width: 1.0;\"/><ellipse cx=\"91\" cy=\"334.3\" fill=\"#383838\" rx=\"2\" ry=\"2\" style=\"stroke: #383838; stroke-width: 1.0;\"/></a><!--MD5=[a919e0967d6f3de553dc51b9865a1d6d]\n",
       "link E10 to E7--><a href=\"psysml:2e3833d6-0a03-41e5-9593-325ba84dff2e\" target=\"_top\" title=\"psysml:2e3833d6-0a03-41e5-9593-325ba84dff2e\" xlink:actuate=\"onRequest\" xlink:href=\"psysml:2e3833d6-0a03-41e5-9593-325ba84dff2e\" xlink:show=\"new\" xlink:title=\"psysml:2e3833d6-0a03-41e5-9593-325ba84dff2e\" xlink:type=\"simple\"><path d=\"M97,87 C97,87 97,126.68 97,126.68 \" fill=\"none\" id=\"E10-&gt;E7\" style=\"stroke: #383838; stroke-width: 1.0;\"/><polygon fill=\"#FFFFFF\" points=\"97,146.68,90,127.68,104,127.68,97,146.68\" style=\"stroke: #383838; stroke-width: 1.0;\"/><ellipse cx=\"92\" cy=\"121.98\" fill=\"#383838\" rx=\"2\" ry=\"2\" style=\"stroke: #383838; stroke-width: 1.0;\"/><ellipse cx=\"102\" cy=\"121.98\" fill=\"#383838\" rx=\"2\" ry=\"2\" style=\"stroke: #383838; stroke-width: 1.0;\"/></a><!--MD5=[e1692f3fcb4515e80d49ec669a914359]\n",
       "@startuml\r\n",
       "skinparam linetype ortho\r\n",
       "skinparam monochrome true\r\n",
       "skinparam classbackgroundcolor white\r\n",
       "skinparam shadowing false\r\n",
       "skinparam wrapWidth 300\r\n",
       "hide circle\r\n",
       "\r\n",
       "package \"Q\" as E1  [[psysml:427a19be-4ba6-433c-b392-6823bf74d458 ]]  {\r\n",
       "comp def \"F\" as E2  <<(T,blue) part def>> [[psysml:027effde-34e9-4491-ba0c-9f82cacaad23 ]] {\r\n",
       "}\r\n",
       "comp usage \"a\" as E3  <<(T,blue) part>> [[psysml:241a9b2a-e9cc-4b19-964a-2424b61c0639 ]] {\r\n",
       "}\r\n",
       "comp usage \"f: F\" as E4  <<(T,blue) part>> [[psysml:40835df5-3f1f-4886-9446-1465d21ad736 ]] {\r\n",
       "}\r\n",
       "comp def \"A\" as E5  <<(T,blue) part def>> [[psysml:299c2c32-5ec1-43b2-a066-b7748b01150c ]] {\r\n",
       "}\r\n",
       "comp usage \"g\" as E6  <<(T,blue) part>> [[psysml:31dec55f-8acf-4d42-bd51-f4047894820c ]] {\r\n",
       "}\r\n",
       "comp def \"B\" as E7  <<(T,blue) part def>> [[psysml:e57a8ff4-b454-49af-9671-50f81189572a ]] {\r\n",
       "}\r\n",
       "comp usage \"f: F\" as E8  <<(T,blue) part>> [[psysml:ae9b8861-e9cc-45e7-97b3-375fd90ac7d9 ]] {\r\n",
       "}\r\n",
       "comp usage \"a: A\" as E9  <<(T,blue) part>> [[psysml:d620b19b-a1e2-497d-8cad-3b2dc38fedc0 ]] {\r\n",
       "}\r\n",
       "comp usage \"b: B\" as E10  <<(T,blue) part>> [[psysml:f9a1a989-561d-4119-971e-8ebceafa94b4 ]] {\r\n",
       "}\r\n",
       "E2 *- - E3 [[psysml:5ee10b2b-55c1-4a08-a13b-bdb74e3f50e5 ]] \r\n",
       "E4 - -:|> E2 [[psysml:c4c1c0e2-eca3-4dc3-a203-c30912c3ab2b ]] \r\n",
       "E5 *- - E6 [[psysml:93463b7d-149f-4a15-b84b-177a9e530eda ]] \r\n",
       "E7 *- - E8 [[psysml:de6f8f38-3125-456b-a954-15a696931b63 ]] \r\n",
       "E8 - -:|> E2 [[psysml:536a95df-7241-4403-bcab-1aa9fe7a4b7d ]] \r\n",
       "E7 *- - E9 [[psysml:2c441a1b-e979-4985-bcd5-61f8c13172d0 ]] \r\n",
       "E9 - -:|> E5 [[psysml:fc8a5d52-f7b0-45e1-9a4f-1e932b65f071 ]] \r\n",
       "E10 - -:|> E7 [[psysml:2e3833d6-0a03-41e5-9593-325ba84dff2e ]] \r\n",
       "}\r\n",
       "@enduml\r\n",
       "\n",
       "PlantUML version 1.2020.13(Sat Jun 13 12:26:38 UTC 2020)\n",
       "(EPL source distribution)\n",
       "Java Runtime: OpenJDK Runtime Environment\n",
       "JVM: OpenJDK 64-Bit Server VM\n",
       "Default Encoding: UTF-8\n",
       "Language: en\n",
       "Country: null\n",
       "--></g></svg>"
      ]
     },
     "execution_count": 51,
     "metadata": {},
     "output_type": "execute_result"
    }
   ],
   "source": [
    "%viz --style=\"ORTHOLINE\" --view=\"Default\" \"Q\""
   ]
  },
  {
   "cell_type": "code",
   "execution_count": 52,
   "id": "4138cf21",
   "metadata": {
    "execution": {
     "iopub.execute_input": "2021-06-30T09:23:36.592492Z",
     "iopub.status.busy": "2021-06-30T09:23:36.591932Z",
     "iopub.status.idle": "2021-06-30T09:23:36.694501Z",
     "shell.execute_reply": "2021-06-30T09:23:36.691024Z"
    }
   },
   "outputs": [
    {
     "data": {
      "image/svg+xml": [
       "<?xml version=\"1.0\" encoding=\"UTF-8\" standalone=\"no\"?><svg xmlns=\"http://www.w3.org/2000/svg\" xmlns:xlink=\"http://www.w3.org/1999/xlink\" contentScriptType=\"application/ecmascript\" contentStyleType=\"text/css\" height=\"539px\" preserveAspectRatio=\"none\" style=\"width:266px;height:539px;\" version=\"1.1\" viewBox=\"0 0 266 539\" width=\"266px\" zoomAndPan=\"magnify\"><defs/><g><!--MD5=[fbc87193dbaf4d95561dea2c320d4a47]\n",
       "cluster E1--><a href=\"psysml:427a19be-4ba6-433c-b392-6823bf74d458\" target=\"_top\" title=\"psysml:427a19be-4ba6-433c-b392-6823bf74d458\" xlink:actuate=\"onRequest\" xlink:href=\"psysml:427a19be-4ba6-433c-b392-6823bf74d458\" xlink:show=\"new\" xlink:title=\"psysml:427a19be-4ba6-433c-b392-6823bf74d458\" xlink:type=\"simple\"><polygon fill=\"#FFFFFF\" points=\"16,6,34,6,41,28.2969,244,28.2969,244,527,16,527,16,6\" style=\"stroke: #000000; stroke-width: 1.5;\"/><line style=\"stroke: #000000; stroke-width: 1.5;\" x1=\"16\" x2=\"41\" y1=\"28.2969\" y2=\"28.2969\"/><text fill=\"#000000\" font-family=\"sans-serif\" font-size=\"14\" font-weight=\"bold\" lengthAdjust=\"spacingAndGlyphs\" textLength=\"12\" x=\"20\" y=\"20.9951\">Q</text></a><!--MD5=[b4997ac47864f28c2f74865a473b2911]\n",
       "class E2--><a href=\"psysml:027effde-34e9-4491-ba0c-9f82cacaad23\" target=\"_top\" title=\"psysml:027effde-34e9-4491-ba0c-9f82cacaad23\" xlink:actuate=\"onRequest\" xlink:href=\"psysml:027effde-34e9-4491-ba0c-9f82cacaad23\" xlink:show=\"new\" xlink:title=\"psysml:027effde-34e9-4491-ba0c-9f82cacaad23\" xlink:type=\"simple\"><rect fill=\"#FFFFFF\" height=\"45.9375\" id=\"E2\" style=\"stroke: #383838; stroke-width: 1.5;\" width=\"66\" x=\"147\" y=\"359\"/><text fill=\"#000000\" font-family=\"sans-serif\" font-size=\"12\" font-style=\"italic\" lengthAdjust=\"spacingAndGlyphs\" textLength=\"64\" x=\"148\" y=\"375.1387\">«part def»</text><text fill=\"#000000\" font-family=\"sans-serif\" font-size=\"12\" lengthAdjust=\"spacingAndGlyphs\" textLength=\"7\" x=\"176.5\" y=\"389.1074\">F</text><line style=\"stroke: #383838; stroke-width: 1.5;\" x1=\"148\" x2=\"212\" y1=\"396.9375\" y2=\"396.9375\"/></a><!--MD5=[09b614a08d8cba4a07c9adeb5e0fee81]\n",
       "class E3--><a href=\"psysml:241a9b2a-e9cc-4b19-964a-2424b61c0639\" target=\"_top\" title=\"psysml:241a9b2a-e9cc-4b19-964a-2424b61c0639\" xlink:actuate=\"onRequest\" xlink:href=\"psysml:241a9b2a-e9cc-4b19-964a-2424b61c0639\" xlink:show=\"new\" xlink:title=\"psysml:241a9b2a-e9cc-4b19-964a-2424b61c0639\" xlink:type=\"simple\"><rect fill=\"#FFFFFF\" height=\"45.9375\" id=\"E3\" rx=\"10\" ry=\"10\" style=\"stroke: #383838; stroke-width: 1.5;\" width=\"42\" x=\"159\" y=\"465\"/><text fill=\"#000000\" font-family=\"sans-serif\" font-size=\"12\" font-style=\"italic\" lengthAdjust=\"spacingAndGlyphs\" textLength=\"40\" x=\"160\" y=\"481.1387\">«part»</text><text fill=\"#000000\" font-family=\"sans-serif\" font-size=\"12\" lengthAdjust=\"spacingAndGlyphs\" textLength=\"8\" x=\"176\" y=\"495.1074\">a</text><line style=\"stroke: #383838; stroke-width: 1.5;\" x1=\"160\" x2=\"200\" y1=\"502.9375\" y2=\"502.9375\"/></a><!--MD5=[ebbe1d658d1005bcc118a6aa81145e00]\n",
       "class E4--><a href=\"psysml:40835df5-3f1f-4886-9446-1465d21ad736\" target=\"_top\" title=\"psysml:40835df5-3f1f-4886-9446-1465d21ad736\" xlink:actuate=\"onRequest\" xlink:href=\"psysml:40835df5-3f1f-4886-9446-1465d21ad736\" xlink:show=\"new\" xlink:title=\"psysml:40835df5-3f1f-4886-9446-1465d21ad736\" xlink:type=\"simple\"><rect fill=\"#FFFFFF\" height=\"45.9375\" id=\"E4\" rx=\"10\" ry=\"10\" style=\"stroke: #383838; stroke-width: 1.5;\" width=\"42\" x=\"186\" y=\"253\"/><text fill=\"#000000\" font-family=\"sans-serif\" font-size=\"12\" font-style=\"italic\" lengthAdjust=\"spacingAndGlyphs\" textLength=\"40\" x=\"187\" y=\"269.1387\">«part»</text><text fill=\"#000000\" font-family=\"sans-serif\" font-size=\"12\" lengthAdjust=\"spacingAndGlyphs\" textLength=\"19\" x=\"197.5\" y=\"283.1074\">f: F</text><line style=\"stroke: #383838; stroke-width: 1.5;\" x1=\"187\" x2=\"227\" y1=\"290.9375\" y2=\"290.9375\"/></a><!--MD5=[270fce915f116d4de14055a7c1d9a0f3]\n",
       "class E5--><a href=\"psysml:299c2c32-5ec1-43b2-a066-b7748b01150c\" target=\"_top\" title=\"psysml:299c2c32-5ec1-43b2-a066-b7748b01150c\" xlink:actuate=\"onRequest\" xlink:href=\"psysml:299c2c32-5ec1-43b2-a066-b7748b01150c\" xlink:show=\"new\" xlink:title=\"psysml:299c2c32-5ec1-43b2-a066-b7748b01150c\" xlink:type=\"simple\"><rect fill=\"#FFFFFF\" height=\"45.9375\" id=\"E5\" style=\"stroke: #383838; stroke-width: 1.5;\" width=\"66\" x=\"32\" y=\"359\"/><text fill=\"#000000\" font-family=\"sans-serif\" font-size=\"12\" font-style=\"italic\" lengthAdjust=\"spacingAndGlyphs\" textLength=\"64\" x=\"33\" y=\"375.1387\">«part def»</text><text fill=\"#000000\" font-family=\"sans-serif\" font-size=\"12\" lengthAdjust=\"spacingAndGlyphs\" textLength=\"8\" x=\"61\" y=\"389.1074\">A</text><line style=\"stroke: #383838; stroke-width: 1.5;\" x1=\"33\" x2=\"97\" y1=\"396.9375\" y2=\"396.9375\"/></a><!--MD5=[60a26617385b1d2d0262a64233df1f8d]\n",
       "class E6--><a href=\"psysml:31dec55f-8acf-4d42-bd51-f4047894820c\" target=\"_top\" title=\"psysml:31dec55f-8acf-4d42-bd51-f4047894820c\" xlink:actuate=\"onRequest\" xlink:href=\"psysml:31dec55f-8acf-4d42-bd51-f4047894820c\" xlink:show=\"new\" xlink:title=\"psysml:31dec55f-8acf-4d42-bd51-f4047894820c\" xlink:type=\"simple\"><rect fill=\"#FFFFFF\" height=\"45.9375\" id=\"E6\" rx=\"10\" ry=\"10\" style=\"stroke: #383838; stroke-width: 1.5;\" width=\"42\" x=\"44\" y=\"465\"/><text fill=\"#000000\" font-family=\"sans-serif\" font-size=\"12\" font-style=\"italic\" lengthAdjust=\"spacingAndGlyphs\" textLength=\"40\" x=\"45\" y=\"481.1387\">«part»</text><text fill=\"#000000\" font-family=\"sans-serif\" font-size=\"12\" lengthAdjust=\"spacingAndGlyphs\" textLength=\"8\" x=\"61\" y=\"495.1074\">g</text><line style=\"stroke: #383838; stroke-width: 1.5;\" x1=\"45\" x2=\"85\" y1=\"502.9375\" y2=\"502.9375\"/></a><!--MD5=[2156ba9850f5573cc1fc38a6a4b2f02b]\n",
       "class E7--><a href=\"psysml:e57a8ff4-b454-49af-9671-50f81189572a\" target=\"_top\" title=\"psysml:e57a8ff4-b454-49af-9671-50f81189572a\" xlink:actuate=\"onRequest\" xlink:href=\"psysml:e57a8ff4-b454-49af-9671-50f81189572a\" xlink:show=\"new\" xlink:title=\"psysml:e57a8ff4-b454-49af-9671-50f81189572a\" xlink:type=\"simple\"><rect fill=\"#FFFFFF\" height=\"45.9375\" id=\"E7\" style=\"stroke: #383838; stroke-width: 1.5;\" width=\"66\" x=\"64\" y=\"147\"/><text fill=\"#000000\" font-family=\"sans-serif\" font-size=\"12\" font-style=\"italic\" lengthAdjust=\"spacingAndGlyphs\" textLength=\"64\" x=\"65\" y=\"163.1387\">«part def»</text><text fill=\"#000000\" font-family=\"sans-serif\" font-size=\"12\" lengthAdjust=\"spacingAndGlyphs\" textLength=\"8\" x=\"93\" y=\"177.1074\">B</text><line style=\"stroke: #383838; stroke-width: 1.5;\" x1=\"65\" x2=\"129\" y1=\"184.9375\" y2=\"184.9375\"/></a><!--MD5=[b9389687b975829384b498ac4b7476b2]\n",
       "class E8--><a href=\"psysml:ae9b8861-e9cc-45e7-97b3-375fd90ac7d9\" target=\"_top\" title=\"psysml:ae9b8861-e9cc-45e7-97b3-375fd90ac7d9\" xlink:actuate=\"onRequest\" xlink:href=\"psysml:ae9b8861-e9cc-45e7-97b3-375fd90ac7d9\" xlink:show=\"new\" xlink:title=\"psysml:ae9b8861-e9cc-45e7-97b3-375fd90ac7d9\" xlink:type=\"simple\"><rect fill=\"#FFFFFF\" height=\"45.9375\" id=\"E8\" rx=\"10\" ry=\"10\" style=\"stroke: #383838; stroke-width: 1.5;\" width=\"42\" x=\"109\" y=\"253\"/><text fill=\"#000000\" font-family=\"sans-serif\" font-size=\"12\" font-style=\"italic\" lengthAdjust=\"spacingAndGlyphs\" textLength=\"40\" x=\"110\" y=\"269.1387\">«part»</text><text fill=\"#000000\" font-family=\"sans-serif\" font-size=\"12\" lengthAdjust=\"spacingAndGlyphs\" textLength=\"19\" x=\"120.5\" y=\"283.1074\">f: F</text><line style=\"stroke: #383838; stroke-width: 1.5;\" x1=\"110\" x2=\"150\" y1=\"290.9375\" y2=\"290.9375\"/></a><!--MD5=[fd4143e9d270a159db93a4ea2a975926]\n",
       "class E9--><a href=\"psysml:d620b19b-a1e2-497d-8cad-3b2dc38fedc0\" target=\"_top\" title=\"psysml:d620b19b-a1e2-497d-8cad-3b2dc38fedc0\" xlink:actuate=\"onRequest\" xlink:href=\"psysml:d620b19b-a1e2-497d-8cad-3b2dc38fedc0\" xlink:show=\"new\" xlink:title=\"psysml:d620b19b-a1e2-497d-8cad-3b2dc38fedc0\" xlink:type=\"simple\"><rect fill=\"#FFFFFF\" height=\"45.9375\" id=\"E9\" rx=\"10\" ry=\"10\" style=\"stroke: #383838; stroke-width: 1.5;\" width=\"42\" x=\"32\" y=\"253\"/><text fill=\"#000000\" font-family=\"sans-serif\" font-size=\"12\" font-style=\"italic\" lengthAdjust=\"spacingAndGlyphs\" textLength=\"40\" x=\"33\" y=\"269.1387\">«part»</text><text fill=\"#000000\" font-family=\"sans-serif\" font-size=\"12\" lengthAdjust=\"spacingAndGlyphs\" textLength=\"24\" x=\"41\" y=\"283.1074\">a: A</text><line style=\"stroke: #383838; stroke-width: 1.5;\" x1=\"33\" x2=\"73\" y1=\"290.9375\" y2=\"290.9375\"/></a><!--MD5=[96f4274e9e20536e775497830990834d]\n",
       "class E10--><a href=\"psysml:f9a1a989-561d-4119-971e-8ebceafa94b4\" target=\"_top\" title=\"psysml:f9a1a989-561d-4119-971e-8ebceafa94b4\" xlink:actuate=\"onRequest\" xlink:href=\"psysml:f9a1a989-561d-4119-971e-8ebceafa94b4\" xlink:show=\"new\" xlink:title=\"psysml:f9a1a989-561d-4119-971e-8ebceafa94b4\" xlink:type=\"simple\"><rect fill=\"#FFFFFF\" height=\"45.9375\" id=\"E10\" rx=\"10\" ry=\"10\" style=\"stroke: #383838; stroke-width: 1.5;\" width=\"42\" x=\"76\" y=\"41\"/><text fill=\"#000000\" font-family=\"sans-serif\" font-size=\"12\" font-style=\"italic\" lengthAdjust=\"spacingAndGlyphs\" textLength=\"40\" x=\"77\" y=\"57.1387\">«part»</text><text fill=\"#000000\" font-family=\"sans-serif\" font-size=\"12\" lengthAdjust=\"spacingAndGlyphs\" textLength=\"24\" x=\"85\" y=\"71.1074\">b: B</text><line style=\"stroke: #383838; stroke-width: 1.5;\" x1=\"77\" x2=\"117\" y1=\"78.9375\" y2=\"78.9375\"/></a><!--MD5=[209b3feb70ccb6233bfe1053d122c12c]\n",
       "reverse link E2 to E3--><a href=\"psysml:5ee10b2b-55c1-4a08-a13b-bdb74e3f50e5\" target=\"_top\" title=\"psysml:5ee10b2b-55c1-4a08-a13b-bdb74e3f50e5\" xlink:actuate=\"onRequest\" xlink:href=\"psysml:5ee10b2b-55c1-4a08-a13b-bdb74e3f50e5\" xlink:show=\"new\" xlink:title=\"psysml:5ee10b2b-55c1-4a08-a13b-bdb74e3f50e5\" xlink:type=\"simple\"><path d=\"M180,418 C180,418 180,464.68 180,464.68 \" fill=\"none\" id=\"E2&lt;-E3\" style=\"stroke: #383838; stroke-width: 1.0;\"/><polygon fill=\"#383838\" points=\"180,405,176,411,180,417,184,411,180,405\" style=\"stroke: #383838; stroke-width: 1.0;\"/></a><!--MD5=[185131fc0dcab0a4505a2ebe144e961b]\n",
       "link E4 to E2--><a href=\"psysml:c4c1c0e2-eca3-4dc3-a203-c30912c3ab2b\" target=\"_top\" title=\"psysml:c4c1c0e2-eca3-4dc3-a203-c30912c3ab2b\" xlink:actuate=\"onRequest\" xlink:href=\"psysml:c4c1c0e2-eca3-4dc3-a203-c30912c3ab2b\" xlink:show=\"new\" xlink:title=\"psysml:c4c1c0e2-eca3-4dc3-a203-c30912c3ab2b\" xlink:type=\"simple\"><path d=\"M199.5,299 C199.5,299 199.5,338.68 199.5,338.68 \" fill=\"none\" id=\"E4-&gt;E2\" style=\"stroke: #383838; stroke-width: 1.0;\"/><polygon fill=\"#FFFFFF\" points=\"199.5,358.68,192.5,339.68,206.5,339.68,199.5,358.68\" style=\"stroke: #383838; stroke-width: 1.0;\"/><ellipse cx=\"194.5\" cy=\"333.98\" fill=\"#383838\" rx=\"2\" ry=\"2\" style=\"stroke: #383838; stroke-width: 1.0;\"/><ellipse cx=\"204.5\" cy=\"333.98\" fill=\"#383838\" rx=\"2\" ry=\"2\" style=\"stroke: #383838; stroke-width: 1.0;\"/></a><!--MD5=[85d356282659285ab4b2cfe2f634dd2b]\n",
       "reverse link E5 to E6--><a href=\"psysml:93463b7d-149f-4a15-b84b-177a9e530eda\" target=\"_top\" title=\"psysml:93463b7d-149f-4a15-b84b-177a9e530eda\" xlink:actuate=\"onRequest\" xlink:href=\"psysml:93463b7d-149f-4a15-b84b-177a9e530eda\" xlink:show=\"new\" xlink:title=\"psysml:93463b7d-149f-4a15-b84b-177a9e530eda\" xlink:type=\"simple\"><path d=\"M65,418 C65,418 65,464.68 65,464.68 \" fill=\"none\" id=\"E5&lt;-E6\" style=\"stroke: #383838; stroke-width: 1.0;\"/><polygon fill=\"#383838\" points=\"65,405,61,411,65,417,69,411,65,405\" style=\"stroke: #383838; stroke-width: 1.0;\"/></a><!--MD5=[dc164f5e8a733ab456ef1add180e9e34]\n",
       "reverse link E7 to E8--><a href=\"psysml:de6f8f38-3125-456b-a954-15a696931b63\" target=\"_top\" title=\"psysml:de6f8f38-3125-456b-a954-15a696931b63\" xlink:actuate=\"onRequest\" xlink:href=\"psysml:de6f8f38-3125-456b-a954-15a696931b63\" xlink:show=\"new\" xlink:title=\"psysml:de6f8f38-3125-456b-a954-15a696931b63\" xlink:type=\"simple\"><path d=\"M119.5,206 C119.5,206 119.5,252.68 119.5,252.68 \" fill=\"none\" id=\"E7&lt;-E8\" style=\"stroke: #383838; stroke-width: 1.0;\"/><polygon fill=\"#383838\" points=\"119.5,193,115.5,199,119.5,205,123.5,199,119.5,193\" style=\"stroke: #383838; stroke-width: 1.0;\"/></a><!--MD5=[f1f3f9f2fc535e6147756cb86a7f2e32]\n",
       "link E8 to E2--><a href=\"psysml:536a95df-7241-4403-bcab-1aa9fe7a4b7d\" target=\"_top\" title=\"psysml:536a95df-7241-4403-bcab-1aa9fe7a4b7d\" xlink:actuate=\"onRequest\" xlink:href=\"psysml:536a95df-7241-4403-bcab-1aa9fe7a4b7d\" xlink:show=\"new\" xlink:title=\"psysml:536a95df-7241-4403-bcab-1aa9fe7a4b7d\" xlink:type=\"simple\"><path d=\"M151.05,276 C160.04,276 168.5,276 168.5,276 C168.5,276 168.5,339 168.5,339 \" fill=\"none\" id=\"E8-&gt;E2\" style=\"stroke: #383838; stroke-width: 1.0;\"/><polygon fill=\"#FFFFFF\" points=\"168.5,359,161.5,340,175.5,340,168.5,359\" style=\"stroke: #383838; stroke-width: 1.0;\"/><ellipse cx=\"163.5\" cy=\"334.3\" fill=\"#383838\" rx=\"2\" ry=\"2\" style=\"stroke: #383838; stroke-width: 1.0;\"/><ellipse cx=\"173.5\" cy=\"334.3\" fill=\"#383838\" rx=\"2\" ry=\"2\" style=\"stroke: #383838; stroke-width: 1.0;\"/></a><!--MD5=[e4a10ef82d0e328e31cac39a31e58dda]\n",
       "reverse link E7 to E9--><a href=\"psysml:2c441a1b-e979-4985-bcd5-61f8c13172d0\" target=\"_top\" title=\"psysml:2c441a1b-e979-4985-bcd5-61f8c13172d0\" xlink:actuate=\"onRequest\" xlink:href=\"psysml:2c441a1b-e979-4985-bcd5-61f8c13172d0\" xlink:show=\"new\" xlink:title=\"psysml:2c441a1b-e979-4985-bcd5-61f8c13172d0\" xlink:type=\"simple\"><path d=\"M69,206 C69,206 69,252.68 69,252.68 \" fill=\"none\" id=\"E7&lt;-E9\" style=\"stroke: #383838; stroke-width: 1.0;\"/><polygon fill=\"#383838\" points=\"69,193,65,199,69,205,73,199,69,193\" style=\"stroke: #383838; stroke-width: 1.0;\"/></a><!--MD5=[bfc3ddf2e613be37104f658f09af896c]\n",
       "link E9 to E5--><a href=\"psysml:fc8a5d52-f7b0-45e1-9a4f-1e932b65f071\" target=\"_top\" title=\"psysml:fc8a5d52-f7b0-45e1-9a4f-1e932b65f071\" xlink:actuate=\"onRequest\" xlink:href=\"psysml:fc8a5d52-f7b0-45e1-9a4f-1e932b65f071\" xlink:show=\"new\" xlink:title=\"psysml:fc8a5d52-f7b0-45e1-9a4f-1e932b65f071\" xlink:type=\"simple\"><path d=\"M74.09,276 C80.55,276 86,276 86,276 C86,276 86,339 86,339 \" fill=\"none\" id=\"E9-&gt;E5\" style=\"stroke: #383838; stroke-width: 1.0;\"/><polygon fill=\"#FFFFFF\" points=\"86,359,79,340,93,340,86,359\" style=\"stroke: #383838; stroke-width: 1.0;\"/><ellipse cx=\"81\" cy=\"334.3\" fill=\"#383838\" rx=\"2\" ry=\"2\" style=\"stroke: #383838; stroke-width: 1.0;\"/><ellipse cx=\"91\" cy=\"334.3\" fill=\"#383838\" rx=\"2\" ry=\"2\" style=\"stroke: #383838; stroke-width: 1.0;\"/></a><!--MD5=[a919e0967d6f3de553dc51b9865a1d6d]\n",
       "link E10 to E7--><a href=\"psysml:2e3833d6-0a03-41e5-9593-325ba84dff2e\" target=\"_top\" title=\"psysml:2e3833d6-0a03-41e5-9593-325ba84dff2e\" xlink:actuate=\"onRequest\" xlink:href=\"psysml:2e3833d6-0a03-41e5-9593-325ba84dff2e\" xlink:show=\"new\" xlink:title=\"psysml:2e3833d6-0a03-41e5-9593-325ba84dff2e\" xlink:type=\"simple\"><path d=\"M97,87 C97,87 97,126.68 97,126.68 \" fill=\"none\" id=\"E10-&gt;E7\" style=\"stroke: #383838; stroke-width: 1.0;\"/><polygon fill=\"#FFFFFF\" points=\"97,146.68,90,127.68,104,127.68,97,146.68\" style=\"stroke: #383838; stroke-width: 1.0;\"/><ellipse cx=\"92\" cy=\"121.98\" fill=\"#383838\" rx=\"2\" ry=\"2\" style=\"stroke: #383838; stroke-width: 1.0;\"/><ellipse cx=\"102\" cy=\"121.98\" fill=\"#383838\" rx=\"2\" ry=\"2\" style=\"stroke: #383838; stroke-width: 1.0;\"/></a><!--MD5=[e1692f3fcb4515e80d49ec669a914359]\n",
       "@startuml\r\n",
       "skinparam linetype ortho\r\n",
       "skinparam monochrome true\r\n",
       "skinparam classbackgroundcolor white\r\n",
       "skinparam shadowing false\r\n",
       "skinparam wrapWidth 300\r\n",
       "hide circle\r\n",
       "\r\n",
       "package \"Q\" as E1  [[psysml:427a19be-4ba6-433c-b392-6823bf74d458 ]]  {\r\n",
       "comp def \"F\" as E2  <<(T,blue) part def>> [[psysml:027effde-34e9-4491-ba0c-9f82cacaad23 ]] {\r\n",
       "}\r\n",
       "comp usage \"a\" as E3  <<(T,blue) part>> [[psysml:241a9b2a-e9cc-4b19-964a-2424b61c0639 ]] {\r\n",
       "}\r\n",
       "comp usage \"f: F\" as E4  <<(T,blue) part>> [[psysml:40835df5-3f1f-4886-9446-1465d21ad736 ]] {\r\n",
       "}\r\n",
       "comp def \"A\" as E5  <<(T,blue) part def>> [[psysml:299c2c32-5ec1-43b2-a066-b7748b01150c ]] {\r\n",
       "}\r\n",
       "comp usage \"g\" as E6  <<(T,blue) part>> [[psysml:31dec55f-8acf-4d42-bd51-f4047894820c ]] {\r\n",
       "}\r\n",
       "comp def \"B\" as E7  <<(T,blue) part def>> [[psysml:e57a8ff4-b454-49af-9671-50f81189572a ]] {\r\n",
       "}\r\n",
       "comp usage \"f: F\" as E8  <<(T,blue) part>> [[psysml:ae9b8861-e9cc-45e7-97b3-375fd90ac7d9 ]] {\r\n",
       "}\r\n",
       "comp usage \"a: A\" as E9  <<(T,blue) part>> [[psysml:d620b19b-a1e2-497d-8cad-3b2dc38fedc0 ]] {\r\n",
       "}\r\n",
       "comp usage \"b: B\" as E10  <<(T,blue) part>> [[psysml:f9a1a989-561d-4119-971e-8ebceafa94b4 ]] {\r\n",
       "}\r\n",
       "E2 *- - E3 [[psysml:5ee10b2b-55c1-4a08-a13b-bdb74e3f50e5 ]] \r\n",
       "E4 - -:|> E2 [[psysml:c4c1c0e2-eca3-4dc3-a203-c30912c3ab2b ]] \r\n",
       "E5 *- - E6 [[psysml:93463b7d-149f-4a15-b84b-177a9e530eda ]] \r\n",
       "E7 *- - E8 [[psysml:de6f8f38-3125-456b-a954-15a696931b63 ]] \r\n",
       "E8 - -:|> E2 [[psysml:536a95df-7241-4403-bcab-1aa9fe7a4b7d ]] \r\n",
       "E7 *- - E9 [[psysml:2c441a1b-e979-4985-bcd5-61f8c13172d0 ]] \r\n",
       "E9 - -:|> E5 [[psysml:fc8a5d52-f7b0-45e1-9a4f-1e932b65f071 ]] \r\n",
       "E10 - -:|> E7 [[psysml:2e3833d6-0a03-41e5-9593-325ba84dff2e ]] \r\n",
       "}\r\n",
       "@enduml\r\n",
       "\n",
       "PlantUML version 1.2020.13(Sat Jun 13 12:26:38 UTC 2020)\n",
       "(EPL source distribution)\n",
       "Java Runtime: OpenJDK Runtime Environment\n",
       "JVM: OpenJDK 64-Bit Server VM\n",
       "Default Encoding: UTF-8\n",
       "Language: en\n",
       "Country: null\n",
       "--></g></svg>"
      ]
     },
     "execution_count": 52,
     "metadata": {},
     "output_type": "execute_result"
    }
   ],
   "source": [
    "%viz --style=\"ORTHOLINE\" --view=\"Tree\" \"Q\""
   ]
  },
  {
   "cell_type": "code",
   "execution_count": 53,
   "id": "c51c9dcd",
   "metadata": {
    "execution": {
     "iopub.execute_input": "2021-06-30T09:23:36.750231Z",
     "iopub.status.busy": "2021-06-30T09:23:36.748004Z",
     "iopub.status.idle": "2021-06-30T09:23:36.759114Z",
     "shell.execute_reply": "2021-06-30T09:23:36.758571Z"
    }
   },
   "outputs": [
    {
     "data": {
      "image/svg+xml": [
       "<?xml version=\"1.0\" encoding=\"UTF-8\" standalone=\"no\"?><svg xmlns=\"http://www.w3.org/2000/svg\" xmlns:xlink=\"http://www.w3.org/1999/xlink\" contentScriptType=\"application/ecmascript\" contentStyleType=\"text/css\" height=\"12px\" preserveAspectRatio=\"none\" style=\"width:12px;height:12px;\" version=\"1.1\" viewBox=\"0 0 12 12\" width=\"12px\" zoomAndPan=\"magnify\"><defs/><g><!--MD5=[97d6f38768b311333d388e66b2b27985]\n",
       "@startuml\r\n",
       "skinparam linetype ortho\r\n",
       "skinparam monochrome true\r\n",
       "skinparam classbackgroundcolor white\r\n",
       "skinparam shadowing false\r\n",
       "skinparam wrapWidth 300\r\n",
       "hide circle\r\n",
       "\r\n",
       "@enduml\r\n",
       "\n",
       "PlantUML version 1.2020.13(Sat Jun 13 12:26:38 UTC 2020)\n",
       "(EPL source distribution)\n",
       "Java Runtime: OpenJDK Runtime Environment\n",
       "JVM: OpenJDK 64-Bit Server VM\n",
       "Default Encoding: UTF-8\n",
       "Language: en\n",
       "Country: null\n",
       "--></g></svg>"
      ]
     },
     "execution_count": 53,
     "metadata": {},
     "output_type": "execute_result"
    }
   ],
   "source": [
    "%viz --style=\"ORTHOLINE\" --view=\"State\" \"Q\""
   ]
  },
  {
   "cell_type": "code",
   "execution_count": 54,
   "id": "9e429156",
   "metadata": {
    "execution": {
     "iopub.execute_input": "2021-06-30T09:23:36.811456Z",
     "iopub.status.busy": "2021-06-30T09:23:36.809904Z",
     "iopub.status.idle": "2021-06-30T09:23:36.919681Z",
     "shell.execute_reply": "2021-06-30T09:23:36.918889Z"
    }
   },
   "outputs": [
    {
     "data": {
      "image/svg+xml": [
       "<?xml version=\"1.0\" encoding=\"UTF-8\" standalone=\"no\"?><svg xmlns=\"http://www.w3.org/2000/svg\" xmlns:xlink=\"http://www.w3.org/1999/xlink\" contentScriptType=\"application/ecmascript\" contentStyleType=\"text/css\" height=\"374px\" preserveAspectRatio=\"none\" style=\"width:616px;height:374px;\" version=\"1.1\" viewBox=\"0 0 616 374\" width=\"616px\" zoomAndPan=\"magnify\"><defs/><g><!--MD5=[fbc87193dbaf4d95561dea2c320d4a47]\n",
       "cluster E1--><a href=\"psysml:427a19be-4ba6-433c-b392-6823bf74d458\" target=\"_top\" title=\"psysml:427a19be-4ba6-433c-b392-6823bf74d458\" xlink:actuate=\"onRequest\" xlink:href=\"psysml:427a19be-4ba6-433c-b392-6823bf74d458\" xlink:show=\"new\" xlink:title=\"psysml:427a19be-4ba6-433c-b392-6823bf74d458\" xlink:type=\"simple\"><polygon fill=\"#FFFFFF\" points=\"16,6,34,6,41,28.2969,594,28.2969,594,362,16,362,16,6\" style=\"stroke: #000000; stroke-width: 1.5;\"/><line style=\"stroke: #000000; stroke-width: 1.5;\" x1=\"16\" x2=\"41\" y1=\"28.2969\" y2=\"28.2969\"/><text fill=\"#000000\" font-family=\"sans-serif\" font-size=\"14\" font-weight=\"bold\" lengthAdjust=\"spacingAndGlyphs\" textLength=\"12\" x=\"20\" y=\"20.9951\">Q</text></a><!--MD5=[e4f7fae6ed58524ba242bb0b0d3be6b7]\n",
       "cluster E2--><a href=\"psysml:027effde-34e9-4491-ba0c-9f82cacaad23\" target=\"_top\" title=\"psysml:027effde-34e9-4491-ba0c-9f82cacaad23\" xlink:actuate=\"onRequest\" xlink:href=\"psysml:027effde-34e9-4491-ba0c-9f82cacaad23\" xlink:show=\"new\" xlink:title=\"psysml:027effde-34e9-4491-ba0c-9f82cacaad23\" xlink:type=\"simple\"><rect fill=\"#FFFFFF\" height=\"107\" id=\"E2\" style=\"stroke: #383838; stroke-width: 1.5;\" width=\"87\" x=\"483\" y=\"92\"/><rect fill=\"#F8F8F8\" height=\"37.9375\" style=\"stroke: #383838; stroke-width: 1.5;\" width=\"87\" x=\"483\" y=\"92\"/><text fill=\"#000000\" font-family=\"sans-serif\" font-size=\"12\" font-style=\"italic\" lengthAdjust=\"spacingAndGlyphs\" textLength=\"64\" x=\"494.5\" y=\"108.1387\">«part def»</text><text fill=\"#000000\" font-family=\"sans-serif\" font-size=\"12\" lengthAdjust=\"spacingAndGlyphs\" textLength=\"7\" x=\"523\" y=\"122.1074\">F</text></a><!--MD5=[f6df4d0ebaf0b5dfb2ced0ae5af7c670]\n",
       "cluster E4--><a href=\"psysml:40835df5-3f1f-4886-9446-1465d21ad736\" target=\"_top\" title=\"psysml:40835df5-3f1f-4886-9446-1465d21ad736\" xlink:actuate=\"onRequest\" xlink:href=\"psysml:40835df5-3f1f-4886-9446-1465d21ad736\" xlink:show=\"new\" xlink:title=\"psysml:40835df5-3f1f-4886-9446-1465d21ad736\" xlink:type=\"simple\"><rect fill=\"#FFFFFF\" height=\"91\" id=\"E4\" rx=\"10\" ry=\"10\" style=\"stroke: #383838; stroke-width: 1.5;\" width=\"82\" x=\"377\" y=\"108\"/><rect fill=\"#F8F8F8\" height=\"23.9688\" rx=\"10\" ry=\"10\" style=\"stroke: #F8F8F8; stroke-width: 1.5;\" width=\"82\" x=\"377\" y=\"108\"/><rect fill=\"#F8F8F8\" height=\"10\" style=\"stroke: #F8F8F8; stroke-width: 1.5;\" width=\"82\" x=\"377\" y=\"121.9688\"/><rect fill=\"none\" height=\"91\" id=\"E4\" rx=\"10\" ry=\"10\" style=\"stroke: #383838; stroke-width: 1.5;\" width=\"82\" x=\"377\" y=\"108\"/><text fill=\"#000000\" font-family=\"sans-serif\" font-size=\"12\" lengthAdjust=\"spacingAndGlyphs\" textLength=\"19\" x=\"408.5\" y=\"124.1387\">f: F</text><line style=\"stroke: #383838; stroke-width: 1.0;\" x1=\"377\" x2=\"459\" y1=\"131.9688\" y2=\"131.9688\"/></a><!--MD5=[14e3b0961a2654348d326746436168a1]\n",
       "cluster E6--><a href=\"psysml:299c2c32-5ec1-43b2-a066-b7748b01150c\" target=\"_top\" title=\"psysml:299c2c32-5ec1-43b2-a066-b7748b01150c\" xlink:actuate=\"onRequest\" xlink:href=\"psysml:299c2c32-5ec1-43b2-a066-b7748b01150c\" xlink:show=\"new\" xlink:title=\"psysml:299c2c32-5ec1-43b2-a066-b7748b01150c\" xlink:type=\"simple\"><rect fill=\"#FFFFFF\" height=\"107\" id=\"E6\" style=\"stroke: #383838; stroke-width: 1.5;\" width=\"87\" x=\"266\" y=\"92\"/><rect fill=\"#F8F8F8\" height=\"37.9375\" style=\"stroke: #383838; stroke-width: 1.5;\" width=\"87\" x=\"266\" y=\"92\"/><text fill=\"#000000\" font-family=\"sans-serif\" font-size=\"12\" font-style=\"italic\" lengthAdjust=\"spacingAndGlyphs\" textLength=\"64\" x=\"277.5\" y=\"108.1387\">«part def»</text><text fill=\"#000000\" font-family=\"sans-serif\" font-size=\"12\" lengthAdjust=\"spacingAndGlyphs\" textLength=\"8\" x=\"305.5\" y=\"122.1074\">A</text></a><!--MD5=[55dfccfc6c49c2d10cd1bd2211a6c90c]\n",
       "cluster E8--><a href=\"psysml:e57a8ff4-b454-49af-9671-50f81189572a\" target=\"_top\" title=\"psysml:e57a8ff4-b454-49af-9671-50f81189572a\" xlink:actuate=\"onRequest\" xlink:href=\"psysml:e57a8ff4-b454-49af-9671-50f81189572a\" xlink:show=\"new\" xlink:title=\"psysml:e57a8ff4-b454-49af-9671-50f81189572a\" xlink:type=\"simple\"><rect fill=\"#FFFFFF\" height=\"289\" id=\"E8\" style=\"stroke: #383838; stroke-width: 1.5;\" width=\"144\" x=\"98\" y=\"49\"/><rect fill=\"#F8F8F8\" height=\"37.9375\" style=\"stroke: #383838; stroke-width: 1.5;\" width=\"144\" x=\"98\" y=\"49\"/><text fill=\"#000000\" font-family=\"sans-serif\" font-size=\"12\" font-style=\"italic\" lengthAdjust=\"spacingAndGlyphs\" textLength=\"64\" x=\"138\" y=\"65.1387\">«part def»</text><text fill=\"#000000\" font-family=\"sans-serif\" font-size=\"12\" lengthAdjust=\"spacingAndGlyphs\" textLength=\"8\" x=\"166\" y=\"79.1074\">B</text></a><!--MD5=[7f149f147074ac12df2cb0a7728a5fb0]\n",
       "cluster E9--><a href=\"psysml:ae9b8861-e9cc-45e7-97b3-375fd90ac7d9\" target=\"_top\" title=\"psysml:ae9b8861-e9cc-45e7-97b3-375fd90ac7d9\" xlink:actuate=\"onRequest\" xlink:href=\"psysml:ae9b8861-e9cc-45e7-97b3-375fd90ac7d9\" xlink:show=\"new\" xlink:title=\"psysml:ae9b8861-e9cc-45e7-97b3-375fd90ac7d9\" xlink:type=\"simple\"><rect fill=\"#FFFFFF\" height=\"91\" id=\"E9\" rx=\"10\" ry=\"10\" style=\"stroke: #383838; stroke-width: 1.5;\" width=\"82\" x=\"129\" y=\"223\"/><rect fill=\"#F8F8F8\" height=\"23.9688\" rx=\"10\" ry=\"10\" style=\"stroke: #F8F8F8; stroke-width: 1.5;\" width=\"82\" x=\"129\" y=\"223\"/><rect fill=\"#F8F8F8\" height=\"10\" style=\"stroke: #F8F8F8; stroke-width: 1.5;\" width=\"82\" x=\"129\" y=\"236.9688\"/><rect fill=\"none\" height=\"91\" id=\"E9\" rx=\"10\" ry=\"10\" style=\"stroke: #383838; stroke-width: 1.5;\" width=\"82\" x=\"129\" y=\"223\"/><text fill=\"#000000\" font-family=\"sans-serif\" font-size=\"12\" lengthAdjust=\"spacingAndGlyphs\" textLength=\"19\" x=\"160.5\" y=\"239.1387\">f: F</text><line style=\"stroke: #383838; stroke-width: 1.0;\" x1=\"129\" x2=\"211\" y1=\"246.9688\" y2=\"246.9688\"/></a><!--MD5=[917b9dd0c7eca3ee5f47219d1a84c0ad]\n",
       "cluster E11--><a href=\"psysml:d620b19b-a1e2-497d-8cad-3b2dc38fedc0\" target=\"_top\" title=\"psysml:d620b19b-a1e2-497d-8cad-3b2dc38fedc0\" xlink:actuate=\"onRequest\" xlink:href=\"psysml:d620b19b-a1e2-497d-8cad-3b2dc38fedc0\" xlink:show=\"new\" xlink:title=\"psysml:d620b19b-a1e2-497d-8cad-3b2dc38fedc0\" xlink:type=\"simple\"><rect fill=\"#FFFFFF\" height=\"91\" id=\"E11\" rx=\"10\" ry=\"10\" style=\"stroke: #383838; stroke-width: 1.5;\" width=\"96\" x=\"122\" y=\"108\"/><rect fill=\"#F8F8F8\" height=\"23.9688\" rx=\"10\" ry=\"10\" style=\"stroke: #F8F8F8; stroke-width: 1.5;\" width=\"96\" x=\"122\" y=\"108\"/><rect fill=\"#F8F8F8\" height=\"10\" style=\"stroke: #F8F8F8; stroke-width: 1.5;\" width=\"96\" x=\"122\" y=\"121.9688\"/><rect fill=\"none\" height=\"91\" id=\"E11\" rx=\"10\" ry=\"10\" style=\"stroke: #383838; stroke-width: 1.5;\" width=\"96\" x=\"122\" y=\"108\"/><text fill=\"#000000\" font-family=\"sans-serif\" font-size=\"12\" lengthAdjust=\"spacingAndGlyphs\" textLength=\"24\" x=\"158\" y=\"124.1387\">a: A</text><line style=\"stroke: #383838; stroke-width: 1.0;\" x1=\"122\" x2=\"218\" y1=\"131.9688\" y2=\"131.9688\"/></a><g id=\"E1.E2.E3\"><a href=\"psysml:241a9b2a-e9cc-4b19-964a-2424b61c0639\" target=\"_top\" title=\"psysml:241a9b2a-e9cc-4b19-964a-2424b61c0639\" xlink:actuate=\"onRequest\" xlink:href=\"psysml:241a9b2a-e9cc-4b19-964a-2424b61c0639\" xlink:show=\"new\" xlink:title=\"psysml:241a9b2a-e9cc-4b19-964a-2424b61c0639\" xlink:type=\"simple\"><rect fill=\"#FFFFFF\" height=\"40\" id=\"E3\" rx=\"10\" ry=\"10\" style=\"stroke: #383838; stroke-width: 1.5;\" width=\"50\" x=\"501\" y=\"143\"/><rect fill=\"#F8F8F8\" height=\"23.9688\" rx=\"10\" ry=\"10\" style=\"stroke: #F8F8F8; stroke-width: 1.5;\" width=\"50\" x=\"501\" y=\"143\"/><rect fill=\"#F8F8F8\" height=\"10\" style=\"stroke: #F8F8F8; stroke-width: 1.5;\" width=\"50\" x=\"501\" y=\"156.9688\"/><rect fill=\"none\" height=\"40\" id=\"E3\" rx=\"10\" ry=\"10\" style=\"stroke: #383838; stroke-width: 1.5;\" width=\"50\" x=\"501\" y=\"143\"/><text fill=\"#000000\" font-family=\"sans-serif\" font-size=\"12\" lengthAdjust=\"spacingAndGlyphs\" textLength=\"8\" x=\"522\" y=\"159.1387\">a</text></a></g><g id=\"E1.E4.E5\"><a href=\"psysml:241a9b2a-e9cc-4b19-964a-2424b61c0639\" target=\"_top\" title=\"psysml:241a9b2a-e9cc-4b19-964a-2424b61c0639\" xlink:actuate=\"onRequest\" xlink:href=\"psysml:241a9b2a-e9cc-4b19-964a-2424b61c0639\" xlink:show=\"new\" xlink:title=\"psysml:241a9b2a-e9cc-4b19-964a-2424b61c0639\" xlink:type=\"simple\"><rect fill=\"#FFFFFF\" height=\"40\" id=\"E5\" rx=\"10\" ry=\"10\" style=\"stroke: #383838; stroke-width: 1.5;\" width=\"50\" x=\"393\" y=\"143\"/><rect fill=\"#F8F8F8\" height=\"23.9688\" rx=\"10\" ry=\"10\" style=\"stroke: #F8F8F8; stroke-width: 1.5;\" width=\"50\" x=\"393\" y=\"143\"/><rect fill=\"#F8F8F8\" height=\"10\" style=\"stroke: #F8F8F8; stroke-width: 1.5;\" width=\"50\" x=\"393\" y=\"156.9688\"/><rect fill=\"none\" height=\"40\" id=\"E5\" rx=\"10\" ry=\"10\" style=\"stroke: #383838; stroke-width: 1.5;\" width=\"50\" x=\"393\" y=\"143\"/><text fill=\"#000000\" font-family=\"sans-serif\" font-size=\"12\" lengthAdjust=\"spacingAndGlyphs\" textLength=\"18\" x=\"409\" y=\"159.1387\">^a</text></a></g><g id=\"E1.E6.E7\"><a href=\"psysml:31dec55f-8acf-4d42-bd51-f4047894820c\" target=\"_top\" title=\"psysml:31dec55f-8acf-4d42-bd51-f4047894820c\" xlink:actuate=\"onRequest\" xlink:href=\"psysml:31dec55f-8acf-4d42-bd51-f4047894820c\" xlink:show=\"new\" xlink:title=\"psysml:31dec55f-8acf-4d42-bd51-f4047894820c\" xlink:type=\"simple\"><rect fill=\"#FFFFFF\" height=\"40\" id=\"E7\" rx=\"10\" ry=\"10\" style=\"stroke: #383838; stroke-width: 1.5;\" width=\"53\" x=\"282.5\" y=\"143\"/><rect fill=\"#F8F8F8\" height=\"23.9688\" rx=\"10\" ry=\"10\" style=\"stroke: #F8F8F8; stroke-width: 1.5;\" width=\"53\" x=\"282.5\" y=\"143\"/><rect fill=\"#F8F8F8\" height=\"10\" style=\"stroke: #F8F8F8; stroke-width: 1.5;\" width=\"53\" x=\"282.5\" y=\"156.9688\"/><rect fill=\"none\" height=\"40\" id=\"E7\" rx=\"10\" ry=\"10\" style=\"stroke: #383838; stroke-width: 1.5;\" width=\"53\" x=\"282.5\" y=\"143\"/><text fill=\"#000000\" font-family=\"sans-serif\" font-size=\"12\" lengthAdjust=\"spacingAndGlyphs\" textLength=\"38\" x=\"288\" y=\"159.1387\">g=f.a;</text></a></g><g id=\"E1.E8.E9.E10\"><a href=\"psysml:241a9b2a-e9cc-4b19-964a-2424b61c0639\" target=\"_top\" title=\"psysml:241a9b2a-e9cc-4b19-964a-2424b61c0639\" xlink:actuate=\"onRequest\" xlink:href=\"psysml:241a9b2a-e9cc-4b19-964a-2424b61c0639\" xlink:show=\"new\" xlink:title=\"psysml:241a9b2a-e9cc-4b19-964a-2424b61c0639\" xlink:type=\"simple\"><rect fill=\"#FFFFFF\" height=\"40\" id=\"E10\" rx=\"10\" ry=\"10\" style=\"stroke: #383838; stroke-width: 1.5;\" width=\"50\" x=\"145\" y=\"258\"/><rect fill=\"#F8F8F8\" height=\"23.9688\" rx=\"10\" ry=\"10\" style=\"stroke: #F8F8F8; stroke-width: 1.5;\" width=\"50\" x=\"145\" y=\"258\"/><rect fill=\"#F8F8F8\" height=\"10\" style=\"stroke: #F8F8F8; stroke-width: 1.5;\" width=\"50\" x=\"145\" y=\"271.9688\"/><rect fill=\"none\" height=\"40\" id=\"E10\" rx=\"10\" ry=\"10\" style=\"stroke: #383838; stroke-width: 1.5;\" width=\"50\" x=\"145\" y=\"258\"/><text fill=\"#000000\" font-family=\"sans-serif\" font-size=\"12\" lengthAdjust=\"spacingAndGlyphs\" textLength=\"18\" x=\"161\" y=\"274.1387\">^a</text></a></g><g id=\"E1.E8.E11.E12\"><a href=\"psysml:31dec55f-8acf-4d42-bd51-f4047894820c\" target=\"_top\" title=\"psysml:31dec55f-8acf-4d42-bd51-f4047894820c\" xlink:actuate=\"onRequest\" xlink:href=\"psysml:31dec55f-8acf-4d42-bd51-f4047894820c\" xlink:show=\"new\" xlink:title=\"psysml:31dec55f-8acf-4d42-bd51-f4047894820c\" xlink:type=\"simple\"><rect fill=\"#FFFFFF\" height=\"40\" id=\"E12\" rx=\"10\" ry=\"10\" style=\"stroke: #383838; stroke-width: 1.5;\" width=\"63\" x=\"138.5\" y=\"143\"/><rect fill=\"#F8F8F8\" height=\"23.9688\" rx=\"10\" ry=\"10\" style=\"stroke: #F8F8F8; stroke-width: 1.5;\" width=\"63\" x=\"138.5\" y=\"143\"/><rect fill=\"#F8F8F8\" height=\"10\" style=\"stroke: #F8F8F8; stroke-width: 1.5;\" width=\"63\" x=\"138.5\" y=\"156.9688\"/><rect fill=\"none\" height=\"40\" id=\"E12\" rx=\"10\" ry=\"10\" style=\"stroke: #383838; stroke-width: 1.5;\" width=\"63\" x=\"138.5\" y=\"143\"/><text fill=\"#000000\" font-family=\"sans-serif\" font-size=\"12\" lengthAdjust=\"spacingAndGlyphs\" textLength=\"48\" x=\"144\" y=\"159.1387\">^g=f.a;</text></a></g><g id=\"E1.E13\"><a href=\"psysml:f9a1a989-561d-4119-971e-8ebceafa94b4\" target=\"_top\" title=\"psysml:f9a1a989-561d-4119-971e-8ebceafa94b4\" xlink:actuate=\"onRequest\" xlink:href=\"psysml:f9a1a989-561d-4119-971e-8ebceafa94b4\" xlink:show=\"new\" xlink:title=\"psysml:f9a1a989-561d-4119-971e-8ebceafa94b4\" xlink:type=\"simple\"><rect fill=\"#FFFFFF\" height=\"40\" id=\"E13\" rx=\"10\" ry=\"10\" style=\"stroke: #383838; stroke-width: 1.5;\" width=\"50\" x=\"32\" y=\"143\"/><rect fill=\"#F8F8F8\" height=\"23.9688\" rx=\"10\" ry=\"10\" style=\"stroke: #F8F8F8; stroke-width: 1.5;\" width=\"50\" x=\"32\" y=\"143\"/><rect fill=\"#F8F8F8\" height=\"10\" style=\"stroke: #F8F8F8; stroke-width: 1.5;\" width=\"50\" x=\"32\" y=\"156.9688\"/><rect fill=\"none\" height=\"40\" id=\"E13\" rx=\"10\" ry=\"10\" style=\"stroke: #383838; stroke-width: 1.5;\" width=\"50\" x=\"32\" y=\"143\"/><text fill=\"#000000\" font-family=\"sans-serif\" font-size=\"12\" lengthAdjust=\"spacingAndGlyphs\" textLength=\"24\" x=\"45\" y=\"159.1387\">b: B</text></a></g><!--MD5=[65481eef76a7486101c58ded21a552db]\n",
       "link E12 to E10--><a href=\"psysml:d897c185-bd23-4685-b4dd-90f768e45c35\" target=\"_top\" title=\"psysml:d897c185-bd23-4685-b4dd-90f768e45c35\" xlink:actuate=\"onRequest\" xlink:href=\"psysml:d897c185-bd23-4685-b4dd-90f768e45c35\" xlink:show=\"new\" xlink:title=\"psysml:d897c185-bd23-4685-b4dd-90f768e45c35\" xlink:type=\"simple\"><path d=\"M161.67,183.03 C161.67,204.01 161.67,236.78 161.67,257.81 \" fill=\"none\" id=\"E12-E10\" style=\"stroke: #383838; stroke-width: 3.0;\"/></a><!--MD5=[65481eef76a7486101c58ded21a552db]\n",
       "link E12 to E10--><a href=\"psysml:a65e9cd3-f7a6-42d1-a2aa-d32628740aff\" target=\"_top\" title=\"psysml:a65e9cd3-f7a6-42d1-a2aa-d32628740aff\" xlink:actuate=\"onRequest\" xlink:href=\"psysml:a65e9cd3-f7a6-42d1-a2aa-d32628740aff\" xlink:show=\"new\" xlink:title=\"psysml:a65e9cd3-f7a6-42d1-a2aa-d32628740aff\" xlink:type=\"simple\"><path d=\"M178.33,183.03 C178.33,204.01 178.33,236.78 178.33,257.81 \" fill=\"none\" id=\"E12-E10-1\" style=\"stroke: #383838; stroke-width: 5.0;\"/></a><!--MD5=[8d05ca15944df56b393450f8d1259687]\n",
       "@startuml\r\n",
       "skinparam ranksep 10\r\n",
       "skinparam rectangle {\r\n",
       " backgroundColor<<block>> LightGreen\r\n",
       "}\r\n",
       "skinparam linetype ortho\r\n",
       "skinparam monochrome true\r\n",
       "skinparam classbackgroundcolor white\r\n",
       "skinparam shadowing false\r\n",
       "skinparam wrapWidth 300\r\n",
       "hide circle\r\n",
       "\r\n",
       "package \"Q\" as E1  [[psysml:427a19be-4ba6-433c-b392-6823bf74d458 ]]  {\r\n",
       "rec def \"F\" as E2  <<(T,blue) part def>> [[psysml:027effde-34e9-4491-ba0c-9f82cacaad23 ]] {\r\n",
       "rec usage \"a\" as E3  [[psysml:241a9b2a-e9cc-4b19-964a-2424b61c0639 ]] {\r\n",
       "}\r\n",
       "}\r\n",
       "rec usage \"f: F\" as E4  [[psysml:40835df5-3f1f-4886-9446-1465d21ad736 ]] {\r\n",
       "rec usage \"^a\" as E5  [[psysml:241a9b2a-e9cc-4b19-964a-2424b61c0639 ]] {\r\n",
       "}\r\n",
       "}\r\n",
       "rec def \"A\" as E6  <<(T,blue) part def>> [[psysml:299c2c32-5ec1-43b2-a066-b7748b01150c ]] {\r\n",
       "rec usage \"g=f.a; \" as E7  [[psysml:31dec55f-8acf-4d42-bd51-f4047894820c ]] {\r\n",
       "}\r\n",
       "}\r\n",
       "rec def \"B\" as E8  <<(T,blue) part def>> [[psysml:e57a8ff4-b454-49af-9671-50f81189572a ]] {\r\n",
       "rec usage \"f: F\" as E9  [[psysml:ae9b8861-e9cc-45e7-97b3-375fd90ac7d9 ]] {\r\n",
       "rec usage \"^a\" as E10  [[psysml:241a9b2a-e9cc-4b19-964a-2424b61c0639 ]] {\r\n",
       "}\r\n",
       "}\r\n",
       "rec usage \"a: A\" as E11  [[psysml:d620b19b-a1e2-497d-8cad-3b2dc38fedc0 ]] {\r\n",
       "rec usage \"^g=f.a; \" as E12  [[psysml:31dec55f-8acf-4d42-bd51-f4047894820c ]] {\r\n",
       "}\r\n",
       "}\r\n",
       "}\r\n",
       "rec usage \"b: B\" as E13  [[psysml:f9a1a989-561d-4119-971e-8ebceafa94b4 ]] {\r\n",
       "}\r\n",
       "E12 -[thickness=3]- E10 [[psysml:d897c185-bd23-4685-b4dd-90f768e45c35 ]] \r\n",
       "E12 -[thickness=5]- E10 [[psysml:a65e9cd3-f7a6-42d1-a2aa-d32628740aff ]] \r\n",
       "}\r\n",
       "@enduml\r\n",
       "\n",
       "PlantUML version 1.2020.13(Sat Jun 13 12:26:38 UTC 2020)\n",
       "(EPL source distribution)\n",
       "Java Runtime: OpenJDK Runtime Environment\n",
       "JVM: OpenJDK 64-Bit Server VM\n",
       "Default Encoding: UTF-8\n",
       "Language: en\n",
       "Country: null\n",
       "--></g></svg>"
      ]
     },
     "execution_count": 54,
     "metadata": {},
     "output_type": "execute_result"
    }
   ],
   "source": [
    "%viz --style=\"ORTHOLINE\" --view=\"Interconnection\" \"Q\""
   ]
  },
  {
   "cell_type": "code",
   "execution_count": 55,
   "id": "e4832f73",
   "metadata": {
    "execution": {
     "iopub.execute_input": "2021-06-30T09:23:36.969775Z",
     "iopub.status.busy": "2021-06-30T09:23:36.968115Z",
     "iopub.status.idle": "2021-06-30T09:23:36.984975Z",
     "shell.execute_reply": "2021-06-30T09:23:36.983917Z"
    }
   },
   "outputs": [
    {
     "data": {
      "image/svg+xml": [
       "<?xml version=\"1.0\" encoding=\"UTF-8\" standalone=\"no\"?><svg xmlns=\"http://www.w3.org/2000/svg\" xmlns:xlink=\"http://www.w3.org/1999/xlink\" contentScriptType=\"application/ecmascript\" contentStyleType=\"text/css\" height=\"12px\" preserveAspectRatio=\"none\" style=\"width:12px;height:12px;\" version=\"1.1\" viewBox=\"0 0 12 12\" width=\"12px\" zoomAndPan=\"magnify\"><defs/><g><!--MD5=[72934c63077099a26744516a776b4749]\n",
       "@startuml\r\n",
       "skinparam ranksep 8\r\n",
       "skinparam linetype ortho\r\n",
       "skinparam monochrome true\r\n",
       "skinparam classbackgroundcolor white\r\n",
       "skinparam shadowing false\r\n",
       "skinparam wrapWidth 300\r\n",
       "hide circle\r\n",
       "\r\n",
       "@enduml\r\n",
       "\n",
       "PlantUML version 1.2020.13(Sat Jun 13 12:26:38 UTC 2020)\n",
       "(EPL source distribution)\n",
       "Java Runtime: OpenJDK Runtime Environment\n",
       "JVM: OpenJDK 64-Bit Server VM\n",
       "Default Encoding: UTF-8\n",
       "Language: en\n",
       "Country: null\n",
       "--></g></svg>"
      ]
     },
     "execution_count": 55,
     "metadata": {},
     "output_type": "execute_result"
    }
   ],
   "source": [
    "%viz --style=\"ORTHOLINE\" --view=\"Action\" \"Q\""
   ]
  },
  {
   "cell_type": "code",
   "execution_count": 56,
   "id": "6335852c",
   "metadata": {
    "execution": {
     "iopub.execute_input": "2021-06-30T09:23:37.034781Z",
     "iopub.status.busy": "2021-06-30T09:23:37.033325Z",
     "iopub.status.idle": "2021-06-30T09:23:37.119379Z",
     "shell.execute_reply": "2021-06-30T09:23:37.118093Z"
    }
   },
   "outputs": [
    {
     "data": {
      "image/svg+xml": [
       "<?xml version=\"1.0\" encoding=\"UTF-8\" standalone=\"no\"?><svg xmlns=\"http://www.w3.org/2000/svg\" xmlns:xlink=\"http://www.w3.org/1999/xlink\" contentScriptType=\"application/ecmascript\" contentStyleType=\"text/css\" height=\"539px\" preserveAspectRatio=\"none\" style=\"width:266px;height:539px;\" version=\"1.1\" viewBox=\"0 0 266 539\" width=\"266px\" zoomAndPan=\"magnify\"><defs/><g><!--MD5=[fbc87193dbaf4d95561dea2c320d4a47]\n",
       "cluster E1--><a href=\"psysml:427a19be-4ba6-433c-b392-6823bf74d458\" target=\"_top\" title=\"psysml:427a19be-4ba6-433c-b392-6823bf74d458\" xlink:actuate=\"onRequest\" xlink:href=\"psysml:427a19be-4ba6-433c-b392-6823bf74d458\" xlink:show=\"new\" xlink:title=\"psysml:427a19be-4ba6-433c-b392-6823bf74d458\" xlink:type=\"simple\"><polygon fill=\"#FFFFFF\" points=\"16,6,34,6,41,28.2969,244,28.2969,244,527,16,527,16,6\" style=\"stroke: #000000; stroke-width: 1.5;\"/><line style=\"stroke: #000000; stroke-width: 1.5;\" x1=\"16\" x2=\"41\" y1=\"28.2969\" y2=\"28.2969\"/><text fill=\"#000000\" font-family=\"sans-serif\" font-size=\"14\" font-weight=\"bold\" lengthAdjust=\"spacingAndGlyphs\" textLength=\"12\" x=\"20\" y=\"20.9951\">Q</text></a><!--MD5=[b4997ac47864f28c2f74865a473b2911]\n",
       "class E2--><a href=\"psysml:027effde-34e9-4491-ba0c-9f82cacaad23\" target=\"_top\" title=\"psysml:027effde-34e9-4491-ba0c-9f82cacaad23\" xlink:actuate=\"onRequest\" xlink:href=\"psysml:027effde-34e9-4491-ba0c-9f82cacaad23\" xlink:show=\"new\" xlink:title=\"psysml:027effde-34e9-4491-ba0c-9f82cacaad23\" xlink:type=\"simple\"><rect fill=\"#FFFFFF\" height=\"45.9375\" id=\"E2\" style=\"stroke: #383838; stroke-width: 1.5;\" width=\"66\" x=\"147\" y=\"359\"/><text fill=\"#000000\" font-family=\"sans-serif\" font-size=\"12\" font-style=\"italic\" lengthAdjust=\"spacingAndGlyphs\" textLength=\"64\" x=\"148\" y=\"375.1387\">«part def»</text><text fill=\"#000000\" font-family=\"sans-serif\" font-size=\"12\" lengthAdjust=\"spacingAndGlyphs\" textLength=\"7\" x=\"176.5\" y=\"389.1074\">F</text><line style=\"stroke: #383838; stroke-width: 1.5;\" x1=\"148\" x2=\"212\" y1=\"396.9375\" y2=\"396.9375\"/></a><!--MD5=[09b614a08d8cba4a07c9adeb5e0fee81]\n",
       "class E3--><a href=\"psysml:241a9b2a-e9cc-4b19-964a-2424b61c0639\" target=\"_top\" title=\"psysml:241a9b2a-e9cc-4b19-964a-2424b61c0639\" xlink:actuate=\"onRequest\" xlink:href=\"psysml:241a9b2a-e9cc-4b19-964a-2424b61c0639\" xlink:show=\"new\" xlink:title=\"psysml:241a9b2a-e9cc-4b19-964a-2424b61c0639\" xlink:type=\"simple\"><rect fill=\"#FFFFFF\" height=\"45.9375\" id=\"E3\" rx=\"10\" ry=\"10\" style=\"stroke: #383838; stroke-width: 1.5;\" width=\"42\" x=\"159\" y=\"465\"/><text fill=\"#000000\" font-family=\"sans-serif\" font-size=\"12\" font-style=\"italic\" lengthAdjust=\"spacingAndGlyphs\" textLength=\"40\" x=\"160\" y=\"481.1387\">«part»</text><text fill=\"#000000\" font-family=\"sans-serif\" font-size=\"12\" lengthAdjust=\"spacingAndGlyphs\" textLength=\"8\" x=\"176\" y=\"495.1074\">a</text><line style=\"stroke: #383838; stroke-width: 1.5;\" x1=\"160\" x2=\"200\" y1=\"502.9375\" y2=\"502.9375\"/></a><!--MD5=[ebbe1d658d1005bcc118a6aa81145e00]\n",
       "class E4--><a href=\"psysml:40835df5-3f1f-4886-9446-1465d21ad736\" target=\"_top\" title=\"psysml:40835df5-3f1f-4886-9446-1465d21ad736\" xlink:actuate=\"onRequest\" xlink:href=\"psysml:40835df5-3f1f-4886-9446-1465d21ad736\" xlink:show=\"new\" xlink:title=\"psysml:40835df5-3f1f-4886-9446-1465d21ad736\" xlink:type=\"simple\"><rect fill=\"#FFFFFF\" height=\"45.9375\" id=\"E4\" rx=\"10\" ry=\"10\" style=\"stroke: #383838; stroke-width: 1.5;\" width=\"42\" x=\"186\" y=\"253\"/><text fill=\"#000000\" font-family=\"sans-serif\" font-size=\"12\" font-style=\"italic\" lengthAdjust=\"spacingAndGlyphs\" textLength=\"40\" x=\"187\" y=\"269.1387\">«part»</text><text fill=\"#000000\" font-family=\"sans-serif\" font-size=\"12\" lengthAdjust=\"spacingAndGlyphs\" textLength=\"19\" x=\"197.5\" y=\"283.1074\">f: F</text><line style=\"stroke: #383838; stroke-width: 1.5;\" x1=\"187\" x2=\"227\" y1=\"290.9375\" y2=\"290.9375\"/></a><!--MD5=[270fce915f116d4de14055a7c1d9a0f3]\n",
       "class E5--><a href=\"psysml:299c2c32-5ec1-43b2-a066-b7748b01150c\" target=\"_top\" title=\"psysml:299c2c32-5ec1-43b2-a066-b7748b01150c\" xlink:actuate=\"onRequest\" xlink:href=\"psysml:299c2c32-5ec1-43b2-a066-b7748b01150c\" xlink:show=\"new\" xlink:title=\"psysml:299c2c32-5ec1-43b2-a066-b7748b01150c\" xlink:type=\"simple\"><rect fill=\"#FFFFFF\" height=\"45.9375\" id=\"E5\" style=\"stroke: #383838; stroke-width: 1.5;\" width=\"66\" x=\"32\" y=\"359\"/><text fill=\"#000000\" font-family=\"sans-serif\" font-size=\"12\" font-style=\"italic\" lengthAdjust=\"spacingAndGlyphs\" textLength=\"64\" x=\"33\" y=\"375.1387\">«part def»</text><text fill=\"#000000\" font-family=\"sans-serif\" font-size=\"12\" lengthAdjust=\"spacingAndGlyphs\" textLength=\"8\" x=\"61\" y=\"389.1074\">A</text><line style=\"stroke: #383838; stroke-width: 1.5;\" x1=\"33\" x2=\"97\" y1=\"396.9375\" y2=\"396.9375\"/></a><!--MD5=[60a26617385b1d2d0262a64233df1f8d]\n",
       "class E6--><a href=\"psysml:31dec55f-8acf-4d42-bd51-f4047894820c\" target=\"_top\" title=\"psysml:31dec55f-8acf-4d42-bd51-f4047894820c\" xlink:actuate=\"onRequest\" xlink:href=\"psysml:31dec55f-8acf-4d42-bd51-f4047894820c\" xlink:show=\"new\" xlink:title=\"psysml:31dec55f-8acf-4d42-bd51-f4047894820c\" xlink:type=\"simple\"><rect fill=\"#FFFFFF\" height=\"45.9375\" id=\"E6\" rx=\"10\" ry=\"10\" style=\"stroke: #383838; stroke-width: 1.5;\" width=\"42\" x=\"44\" y=\"465\"/><text fill=\"#000000\" font-family=\"sans-serif\" font-size=\"12\" font-style=\"italic\" lengthAdjust=\"spacingAndGlyphs\" textLength=\"40\" x=\"45\" y=\"481.1387\">«part»</text><text fill=\"#000000\" font-family=\"sans-serif\" font-size=\"12\" lengthAdjust=\"spacingAndGlyphs\" textLength=\"8\" x=\"61\" y=\"495.1074\">g</text><line style=\"stroke: #383838; stroke-width: 1.5;\" x1=\"45\" x2=\"85\" y1=\"502.9375\" y2=\"502.9375\"/></a><!--MD5=[2156ba9850f5573cc1fc38a6a4b2f02b]\n",
       "class E7--><a href=\"psysml:e57a8ff4-b454-49af-9671-50f81189572a\" target=\"_top\" title=\"psysml:e57a8ff4-b454-49af-9671-50f81189572a\" xlink:actuate=\"onRequest\" xlink:href=\"psysml:e57a8ff4-b454-49af-9671-50f81189572a\" xlink:show=\"new\" xlink:title=\"psysml:e57a8ff4-b454-49af-9671-50f81189572a\" xlink:type=\"simple\"><rect fill=\"#FFFFFF\" height=\"45.9375\" id=\"E7\" style=\"stroke: #383838; stroke-width: 1.5;\" width=\"66\" x=\"64\" y=\"147\"/><text fill=\"#000000\" font-family=\"sans-serif\" font-size=\"12\" font-style=\"italic\" lengthAdjust=\"spacingAndGlyphs\" textLength=\"64\" x=\"65\" y=\"163.1387\">«part def»</text><text fill=\"#000000\" font-family=\"sans-serif\" font-size=\"12\" lengthAdjust=\"spacingAndGlyphs\" textLength=\"8\" x=\"93\" y=\"177.1074\">B</text><line style=\"stroke: #383838; stroke-width: 1.5;\" x1=\"65\" x2=\"129\" y1=\"184.9375\" y2=\"184.9375\"/></a><!--MD5=[b9389687b975829384b498ac4b7476b2]\n",
       "class E8--><a href=\"psysml:ae9b8861-e9cc-45e7-97b3-375fd90ac7d9\" target=\"_top\" title=\"psysml:ae9b8861-e9cc-45e7-97b3-375fd90ac7d9\" xlink:actuate=\"onRequest\" xlink:href=\"psysml:ae9b8861-e9cc-45e7-97b3-375fd90ac7d9\" xlink:show=\"new\" xlink:title=\"psysml:ae9b8861-e9cc-45e7-97b3-375fd90ac7d9\" xlink:type=\"simple\"><rect fill=\"#FFFFFF\" height=\"45.9375\" id=\"E8\" rx=\"10\" ry=\"10\" style=\"stroke: #383838; stroke-width: 1.5;\" width=\"42\" x=\"109\" y=\"253\"/><text fill=\"#000000\" font-family=\"sans-serif\" font-size=\"12\" font-style=\"italic\" lengthAdjust=\"spacingAndGlyphs\" textLength=\"40\" x=\"110\" y=\"269.1387\">«part»</text><text fill=\"#000000\" font-family=\"sans-serif\" font-size=\"12\" lengthAdjust=\"spacingAndGlyphs\" textLength=\"19\" x=\"120.5\" y=\"283.1074\">f: F</text><line style=\"stroke: #383838; stroke-width: 1.5;\" x1=\"110\" x2=\"150\" y1=\"290.9375\" y2=\"290.9375\"/></a><!--MD5=[fd4143e9d270a159db93a4ea2a975926]\n",
       "class E9--><a href=\"psysml:d620b19b-a1e2-497d-8cad-3b2dc38fedc0\" target=\"_top\" title=\"psysml:d620b19b-a1e2-497d-8cad-3b2dc38fedc0\" xlink:actuate=\"onRequest\" xlink:href=\"psysml:d620b19b-a1e2-497d-8cad-3b2dc38fedc0\" xlink:show=\"new\" xlink:title=\"psysml:d620b19b-a1e2-497d-8cad-3b2dc38fedc0\" xlink:type=\"simple\"><rect fill=\"#FFFFFF\" height=\"45.9375\" id=\"E9\" rx=\"10\" ry=\"10\" style=\"stroke: #383838; stroke-width: 1.5;\" width=\"42\" x=\"32\" y=\"253\"/><text fill=\"#000000\" font-family=\"sans-serif\" font-size=\"12\" font-style=\"italic\" lengthAdjust=\"spacingAndGlyphs\" textLength=\"40\" x=\"33\" y=\"269.1387\">«part»</text><text fill=\"#000000\" font-family=\"sans-serif\" font-size=\"12\" lengthAdjust=\"spacingAndGlyphs\" textLength=\"24\" x=\"41\" y=\"283.1074\">a: A</text><line style=\"stroke: #383838; stroke-width: 1.5;\" x1=\"33\" x2=\"73\" y1=\"290.9375\" y2=\"290.9375\"/></a><!--MD5=[96f4274e9e20536e775497830990834d]\n",
       "class E10--><a href=\"psysml:f9a1a989-561d-4119-971e-8ebceafa94b4\" target=\"_top\" title=\"psysml:f9a1a989-561d-4119-971e-8ebceafa94b4\" xlink:actuate=\"onRequest\" xlink:href=\"psysml:f9a1a989-561d-4119-971e-8ebceafa94b4\" xlink:show=\"new\" xlink:title=\"psysml:f9a1a989-561d-4119-971e-8ebceafa94b4\" xlink:type=\"simple\"><rect fill=\"#FFFFFF\" height=\"45.9375\" id=\"E10\" rx=\"10\" ry=\"10\" style=\"stroke: #383838; stroke-width: 1.5;\" width=\"42\" x=\"76\" y=\"41\"/><text fill=\"#000000\" font-family=\"sans-serif\" font-size=\"12\" font-style=\"italic\" lengthAdjust=\"spacingAndGlyphs\" textLength=\"40\" x=\"77\" y=\"57.1387\">«part»</text><text fill=\"#000000\" font-family=\"sans-serif\" font-size=\"12\" lengthAdjust=\"spacingAndGlyphs\" textLength=\"24\" x=\"85\" y=\"71.1074\">b: B</text><line style=\"stroke: #383838; stroke-width: 1.5;\" x1=\"77\" x2=\"117\" y1=\"78.9375\" y2=\"78.9375\"/></a><!--MD5=[209b3feb70ccb6233bfe1053d122c12c]\n",
       "reverse link E2 to E3--><a href=\"psysml:5ee10b2b-55c1-4a08-a13b-bdb74e3f50e5\" target=\"_top\" title=\"psysml:5ee10b2b-55c1-4a08-a13b-bdb74e3f50e5\" xlink:actuate=\"onRequest\" xlink:href=\"psysml:5ee10b2b-55c1-4a08-a13b-bdb74e3f50e5\" xlink:show=\"new\" xlink:title=\"psysml:5ee10b2b-55c1-4a08-a13b-bdb74e3f50e5\" xlink:type=\"simple\"><path d=\"M180,418 C180,418 180,464.68 180,464.68 \" fill=\"none\" id=\"E2&lt;-E3\" style=\"stroke: #383838; stroke-width: 1.0;\"/><polygon fill=\"#383838\" points=\"180,405,176,411,180,417,184,411,180,405\" style=\"stroke: #383838; stroke-width: 1.0;\"/></a><!--MD5=[185131fc0dcab0a4505a2ebe144e961b]\n",
       "link E4 to E2--><a href=\"psysml:c4c1c0e2-eca3-4dc3-a203-c30912c3ab2b\" target=\"_top\" title=\"psysml:c4c1c0e2-eca3-4dc3-a203-c30912c3ab2b\" xlink:actuate=\"onRequest\" xlink:href=\"psysml:c4c1c0e2-eca3-4dc3-a203-c30912c3ab2b\" xlink:show=\"new\" xlink:title=\"psysml:c4c1c0e2-eca3-4dc3-a203-c30912c3ab2b\" xlink:type=\"simple\"><path d=\"M199.5,299 C199.5,299 199.5,338.68 199.5,338.68 \" fill=\"none\" id=\"E4-&gt;E2\" style=\"stroke: #383838; stroke-width: 1.0;\"/><polygon fill=\"#FFFFFF\" points=\"199.5,358.68,192.5,339.68,206.5,339.68,199.5,358.68\" style=\"stroke: #383838; stroke-width: 1.0;\"/><ellipse cx=\"194.5\" cy=\"333.98\" fill=\"#383838\" rx=\"2\" ry=\"2\" style=\"stroke: #383838; stroke-width: 1.0;\"/><ellipse cx=\"204.5\" cy=\"333.98\" fill=\"#383838\" rx=\"2\" ry=\"2\" style=\"stroke: #383838; stroke-width: 1.0;\"/></a><!--MD5=[85d356282659285ab4b2cfe2f634dd2b]\n",
       "reverse link E5 to E6--><a href=\"psysml:93463b7d-149f-4a15-b84b-177a9e530eda\" target=\"_top\" title=\"psysml:93463b7d-149f-4a15-b84b-177a9e530eda\" xlink:actuate=\"onRequest\" xlink:href=\"psysml:93463b7d-149f-4a15-b84b-177a9e530eda\" xlink:show=\"new\" xlink:title=\"psysml:93463b7d-149f-4a15-b84b-177a9e530eda\" xlink:type=\"simple\"><path d=\"M65,418 C65,418 65,464.68 65,464.68 \" fill=\"none\" id=\"E5&lt;-E6\" style=\"stroke: #383838; stroke-width: 1.0;\"/><polygon fill=\"#383838\" points=\"65,405,61,411,65,417,69,411,65,405\" style=\"stroke: #383838; stroke-width: 1.0;\"/></a><!--MD5=[dc164f5e8a733ab456ef1add180e9e34]\n",
       "reverse link E7 to E8--><a href=\"psysml:de6f8f38-3125-456b-a954-15a696931b63\" target=\"_top\" title=\"psysml:de6f8f38-3125-456b-a954-15a696931b63\" xlink:actuate=\"onRequest\" xlink:href=\"psysml:de6f8f38-3125-456b-a954-15a696931b63\" xlink:show=\"new\" xlink:title=\"psysml:de6f8f38-3125-456b-a954-15a696931b63\" xlink:type=\"simple\"><path d=\"M119.5,206 C119.5,206 119.5,252.68 119.5,252.68 \" fill=\"none\" id=\"E7&lt;-E8\" style=\"stroke: #383838; stroke-width: 1.0;\"/><polygon fill=\"#383838\" points=\"119.5,193,115.5,199,119.5,205,123.5,199,119.5,193\" style=\"stroke: #383838; stroke-width: 1.0;\"/></a><!--MD5=[f1f3f9f2fc535e6147756cb86a7f2e32]\n",
       "link E8 to E2--><a href=\"psysml:536a95df-7241-4403-bcab-1aa9fe7a4b7d\" target=\"_top\" title=\"psysml:536a95df-7241-4403-bcab-1aa9fe7a4b7d\" xlink:actuate=\"onRequest\" xlink:href=\"psysml:536a95df-7241-4403-bcab-1aa9fe7a4b7d\" xlink:show=\"new\" xlink:title=\"psysml:536a95df-7241-4403-bcab-1aa9fe7a4b7d\" xlink:type=\"simple\"><path d=\"M151.05,276 C160.04,276 168.5,276 168.5,276 C168.5,276 168.5,339 168.5,339 \" fill=\"none\" id=\"E8-&gt;E2\" style=\"stroke: #383838; stroke-width: 1.0;\"/><polygon fill=\"#FFFFFF\" points=\"168.5,359,161.5,340,175.5,340,168.5,359\" style=\"stroke: #383838; stroke-width: 1.0;\"/><ellipse cx=\"163.5\" cy=\"334.3\" fill=\"#383838\" rx=\"2\" ry=\"2\" style=\"stroke: #383838; stroke-width: 1.0;\"/><ellipse cx=\"173.5\" cy=\"334.3\" fill=\"#383838\" rx=\"2\" ry=\"2\" style=\"stroke: #383838; stroke-width: 1.0;\"/></a><!--MD5=[e4a10ef82d0e328e31cac39a31e58dda]\n",
       "reverse link E7 to E9--><a href=\"psysml:2c441a1b-e979-4985-bcd5-61f8c13172d0\" target=\"_top\" title=\"psysml:2c441a1b-e979-4985-bcd5-61f8c13172d0\" xlink:actuate=\"onRequest\" xlink:href=\"psysml:2c441a1b-e979-4985-bcd5-61f8c13172d0\" xlink:show=\"new\" xlink:title=\"psysml:2c441a1b-e979-4985-bcd5-61f8c13172d0\" xlink:type=\"simple\"><path d=\"M69,206 C69,206 69,252.68 69,252.68 \" fill=\"none\" id=\"E7&lt;-E9\" style=\"stroke: #383838; stroke-width: 1.0;\"/><polygon fill=\"#383838\" points=\"69,193,65,199,69,205,73,199,69,193\" style=\"stroke: #383838; stroke-width: 1.0;\"/></a><!--MD5=[bfc3ddf2e613be37104f658f09af896c]\n",
       "link E9 to E5--><a href=\"psysml:fc8a5d52-f7b0-45e1-9a4f-1e932b65f071\" target=\"_top\" title=\"psysml:fc8a5d52-f7b0-45e1-9a4f-1e932b65f071\" xlink:actuate=\"onRequest\" xlink:href=\"psysml:fc8a5d52-f7b0-45e1-9a4f-1e932b65f071\" xlink:show=\"new\" xlink:title=\"psysml:fc8a5d52-f7b0-45e1-9a4f-1e932b65f071\" xlink:type=\"simple\"><path d=\"M74.09,276 C80.55,276 86,276 86,276 C86,276 86,339 86,339 \" fill=\"none\" id=\"E9-&gt;E5\" style=\"stroke: #383838; stroke-width: 1.0;\"/><polygon fill=\"#FFFFFF\" points=\"86,359,79,340,93,340,86,359\" style=\"stroke: #383838; stroke-width: 1.0;\"/><ellipse cx=\"81\" cy=\"334.3\" fill=\"#383838\" rx=\"2\" ry=\"2\" style=\"stroke: #383838; stroke-width: 1.0;\"/><ellipse cx=\"91\" cy=\"334.3\" fill=\"#383838\" rx=\"2\" ry=\"2\" style=\"stroke: #383838; stroke-width: 1.0;\"/></a><!--MD5=[a919e0967d6f3de553dc51b9865a1d6d]\n",
       "link E10 to E7--><a href=\"psysml:2e3833d6-0a03-41e5-9593-325ba84dff2e\" target=\"_top\" title=\"psysml:2e3833d6-0a03-41e5-9593-325ba84dff2e\" xlink:actuate=\"onRequest\" xlink:href=\"psysml:2e3833d6-0a03-41e5-9593-325ba84dff2e\" xlink:show=\"new\" xlink:title=\"psysml:2e3833d6-0a03-41e5-9593-325ba84dff2e\" xlink:type=\"simple\"><path d=\"M97,87 C97,87 97,126.68 97,126.68 \" fill=\"none\" id=\"E10-&gt;E7\" style=\"stroke: #383838; stroke-width: 1.0;\"/><polygon fill=\"#FFFFFF\" points=\"97,146.68,90,127.68,104,127.68,97,146.68\" style=\"stroke: #383838; stroke-width: 1.0;\"/><ellipse cx=\"92\" cy=\"121.98\" fill=\"#383838\" rx=\"2\" ry=\"2\" style=\"stroke: #383838; stroke-width: 1.0;\"/><ellipse cx=\"102\" cy=\"121.98\" fill=\"#383838\" rx=\"2\" ry=\"2\" style=\"stroke: #383838; stroke-width: 1.0;\"/></a><!--MD5=[e1692f3fcb4515e80d49ec669a914359]\n",
       "@startuml\r\n",
       "skinparam linetype ortho\r\n",
       "skinparam monochrome true\r\n",
       "skinparam classbackgroundcolor white\r\n",
       "skinparam shadowing false\r\n",
       "skinparam wrapWidth 300\r\n",
       "hide circle\r\n",
       "\r\n",
       "package \"Q\" as E1  [[psysml:427a19be-4ba6-433c-b392-6823bf74d458 ]]  {\r\n",
       "comp def \"F\" as E2  <<(T,blue) part def>> [[psysml:027effde-34e9-4491-ba0c-9f82cacaad23 ]] {\r\n",
       "}\r\n",
       "comp usage \"a\" as E3  <<(T,blue) part>> [[psysml:241a9b2a-e9cc-4b19-964a-2424b61c0639 ]] {\r\n",
       "}\r\n",
       "comp usage \"f: F\" as E4  <<(T,blue) part>> [[psysml:40835df5-3f1f-4886-9446-1465d21ad736 ]] {\r\n",
       "}\r\n",
       "comp def \"A\" as E5  <<(T,blue) part def>> [[psysml:299c2c32-5ec1-43b2-a066-b7748b01150c ]] {\r\n",
       "}\r\n",
       "comp usage \"g\" as E6  <<(T,blue) part>> [[psysml:31dec55f-8acf-4d42-bd51-f4047894820c ]] {\r\n",
       "}\r\n",
       "comp def \"B\" as E7  <<(T,blue) part def>> [[psysml:e57a8ff4-b454-49af-9671-50f81189572a ]] {\r\n",
       "}\r\n",
       "comp usage \"f: F\" as E8  <<(T,blue) part>> [[psysml:ae9b8861-e9cc-45e7-97b3-375fd90ac7d9 ]] {\r\n",
       "}\r\n",
       "comp usage \"a: A\" as E9  <<(T,blue) part>> [[psysml:d620b19b-a1e2-497d-8cad-3b2dc38fedc0 ]] {\r\n",
       "}\r\n",
       "comp usage \"b: B\" as E10  <<(T,blue) part>> [[psysml:f9a1a989-561d-4119-971e-8ebceafa94b4 ]] {\r\n",
       "}\r\n",
       "E2 *- - E3 [[psysml:5ee10b2b-55c1-4a08-a13b-bdb74e3f50e5 ]] \r\n",
       "E4 - -:|> E2 [[psysml:c4c1c0e2-eca3-4dc3-a203-c30912c3ab2b ]] \r\n",
       "E5 *- - E6 [[psysml:93463b7d-149f-4a15-b84b-177a9e530eda ]] \r\n",
       "E7 *- - E8 [[psysml:de6f8f38-3125-456b-a954-15a696931b63 ]] \r\n",
       "E8 - -:|> E2 [[psysml:536a95df-7241-4403-bcab-1aa9fe7a4b7d ]] \r\n",
       "E7 *- - E9 [[psysml:2c441a1b-e979-4985-bcd5-61f8c13172d0 ]] \r\n",
       "E9 - -:|> E5 [[psysml:fc8a5d52-f7b0-45e1-9a4f-1e932b65f071 ]] \r\n",
       "E10 - -:|> E7 [[psysml:2e3833d6-0a03-41e5-9593-325ba84dff2e ]] \r\n",
       "}\r\n",
       "@enduml\r\n",
       "\n",
       "PlantUML version 1.2020.13(Sat Jun 13 12:26:38 UTC 2020)\n",
       "(EPL source distribution)\n",
       "Java Runtime: OpenJDK Runtime Environment\n",
       "JVM: OpenJDK 64-Bit Server VM\n",
       "Default Encoding: UTF-8\n",
       "Language: en\n",
       "Country: null\n",
       "--></g></svg>"
      ]
     },
     "execution_count": 56,
     "metadata": {},
     "output_type": "execute_result"
    }
   ],
   "source": [
    "%viz --style=\"ORTHOLINE\" --view=\"Sequence\" \"Q\""
   ]
  },
  {
   "cell_type": "code",
   "execution_count": 57,
   "id": "7d6f3664",
   "metadata": {
    "execution": {
     "iopub.execute_input": "2021-06-30T09:23:37.170838Z",
     "iopub.status.busy": "2021-06-30T09:23:37.164867Z",
     "iopub.status.idle": "2021-06-30T09:23:37.263551Z",
     "shell.execute_reply": "2021-06-30T09:23:37.262692Z"
    }
   },
   "outputs": [
    {
     "data": {
      "image/svg+xml": [
       "<?xml version=\"1.0\" encoding=\"UTF-8\" standalone=\"no\"?><svg xmlns=\"http://www.w3.org/2000/svg\" xmlns:xlink=\"http://www.w3.org/1999/xlink\" contentScriptType=\"application/ecmascript\" contentStyleType=\"text/css\" height=\"539px\" preserveAspectRatio=\"none\" style=\"width:266px;height:539px;\" version=\"1.1\" viewBox=\"0 0 266 539\" width=\"266px\" zoomAndPan=\"magnify\"><defs/><g><!--MD5=[fbc87193dbaf4d95561dea2c320d4a47]\n",
       "cluster E1--><a href=\"psysml:427a19be-4ba6-433c-b392-6823bf74d458\" target=\"_top\" title=\"psysml:427a19be-4ba6-433c-b392-6823bf74d458\" xlink:actuate=\"onRequest\" xlink:href=\"psysml:427a19be-4ba6-433c-b392-6823bf74d458\" xlink:show=\"new\" xlink:title=\"psysml:427a19be-4ba6-433c-b392-6823bf74d458\" xlink:type=\"simple\"><polygon fill=\"#FFFFFF\" points=\"16,6,34,6,41,28.2969,244,28.2969,244,527,16,527,16,6\" style=\"stroke: #000000; stroke-width: 1.5;\"/><line style=\"stroke: #000000; stroke-width: 1.5;\" x1=\"16\" x2=\"41\" y1=\"28.2969\" y2=\"28.2969\"/><text fill=\"#000000\" font-family=\"sans-serif\" font-size=\"14\" font-weight=\"bold\" lengthAdjust=\"spacingAndGlyphs\" textLength=\"12\" x=\"20\" y=\"20.9951\">Q</text></a><!--MD5=[b4997ac47864f28c2f74865a473b2911]\n",
       "class E2--><a href=\"psysml:027effde-34e9-4491-ba0c-9f82cacaad23\" target=\"_top\" title=\"psysml:027effde-34e9-4491-ba0c-9f82cacaad23\" xlink:actuate=\"onRequest\" xlink:href=\"psysml:027effde-34e9-4491-ba0c-9f82cacaad23\" xlink:show=\"new\" xlink:title=\"psysml:027effde-34e9-4491-ba0c-9f82cacaad23\" xlink:type=\"simple\"><rect fill=\"#FFFFFF\" height=\"45.9375\" id=\"E2\" style=\"stroke: #383838; stroke-width: 1.5;\" width=\"66\" x=\"147\" y=\"359\"/><text fill=\"#000000\" font-family=\"sans-serif\" font-size=\"12\" font-style=\"italic\" lengthAdjust=\"spacingAndGlyphs\" textLength=\"64\" x=\"148\" y=\"375.1387\">«part def»</text><text fill=\"#000000\" font-family=\"sans-serif\" font-size=\"12\" lengthAdjust=\"spacingAndGlyphs\" textLength=\"7\" x=\"176.5\" y=\"389.1074\">F</text><line style=\"stroke: #383838; stroke-width: 1.5;\" x1=\"148\" x2=\"212\" y1=\"396.9375\" y2=\"396.9375\"/></a><!--MD5=[09b614a08d8cba4a07c9adeb5e0fee81]\n",
       "class E3--><a href=\"psysml:241a9b2a-e9cc-4b19-964a-2424b61c0639\" target=\"_top\" title=\"psysml:241a9b2a-e9cc-4b19-964a-2424b61c0639\" xlink:actuate=\"onRequest\" xlink:href=\"psysml:241a9b2a-e9cc-4b19-964a-2424b61c0639\" xlink:show=\"new\" xlink:title=\"psysml:241a9b2a-e9cc-4b19-964a-2424b61c0639\" xlink:type=\"simple\"><rect fill=\"#FFFFFF\" height=\"45.9375\" id=\"E3\" rx=\"10\" ry=\"10\" style=\"stroke: #383838; stroke-width: 1.5;\" width=\"42\" x=\"159\" y=\"465\"/><text fill=\"#000000\" font-family=\"sans-serif\" font-size=\"12\" font-style=\"italic\" lengthAdjust=\"spacingAndGlyphs\" textLength=\"40\" x=\"160\" y=\"481.1387\">«part»</text><text fill=\"#000000\" font-family=\"sans-serif\" font-size=\"12\" lengthAdjust=\"spacingAndGlyphs\" textLength=\"8\" x=\"176\" y=\"495.1074\">a</text><line style=\"stroke: #383838; stroke-width: 1.5;\" x1=\"160\" x2=\"200\" y1=\"502.9375\" y2=\"502.9375\"/></a><!--MD5=[ebbe1d658d1005bcc118a6aa81145e00]\n",
       "class E4--><a href=\"psysml:40835df5-3f1f-4886-9446-1465d21ad736\" target=\"_top\" title=\"psysml:40835df5-3f1f-4886-9446-1465d21ad736\" xlink:actuate=\"onRequest\" xlink:href=\"psysml:40835df5-3f1f-4886-9446-1465d21ad736\" xlink:show=\"new\" xlink:title=\"psysml:40835df5-3f1f-4886-9446-1465d21ad736\" xlink:type=\"simple\"><rect fill=\"#FFFFFF\" height=\"45.9375\" id=\"E4\" rx=\"10\" ry=\"10\" style=\"stroke: #383838; stroke-width: 1.5;\" width=\"42\" x=\"186\" y=\"253\"/><text fill=\"#000000\" font-family=\"sans-serif\" font-size=\"12\" font-style=\"italic\" lengthAdjust=\"spacingAndGlyphs\" textLength=\"40\" x=\"187\" y=\"269.1387\">«part»</text><text fill=\"#000000\" font-family=\"sans-serif\" font-size=\"12\" lengthAdjust=\"spacingAndGlyphs\" textLength=\"19\" x=\"197.5\" y=\"283.1074\">f: F</text><line style=\"stroke: #383838; stroke-width: 1.5;\" x1=\"187\" x2=\"227\" y1=\"290.9375\" y2=\"290.9375\"/></a><!--MD5=[270fce915f116d4de14055a7c1d9a0f3]\n",
       "class E5--><a href=\"psysml:299c2c32-5ec1-43b2-a066-b7748b01150c\" target=\"_top\" title=\"psysml:299c2c32-5ec1-43b2-a066-b7748b01150c\" xlink:actuate=\"onRequest\" xlink:href=\"psysml:299c2c32-5ec1-43b2-a066-b7748b01150c\" xlink:show=\"new\" xlink:title=\"psysml:299c2c32-5ec1-43b2-a066-b7748b01150c\" xlink:type=\"simple\"><rect fill=\"#FFFFFF\" height=\"45.9375\" id=\"E5\" style=\"stroke: #383838; stroke-width: 1.5;\" width=\"66\" x=\"32\" y=\"359\"/><text fill=\"#000000\" font-family=\"sans-serif\" font-size=\"12\" font-style=\"italic\" lengthAdjust=\"spacingAndGlyphs\" textLength=\"64\" x=\"33\" y=\"375.1387\">«part def»</text><text fill=\"#000000\" font-family=\"sans-serif\" font-size=\"12\" lengthAdjust=\"spacingAndGlyphs\" textLength=\"8\" x=\"61\" y=\"389.1074\">A</text><line style=\"stroke: #383838; stroke-width: 1.5;\" x1=\"33\" x2=\"97\" y1=\"396.9375\" y2=\"396.9375\"/></a><!--MD5=[60a26617385b1d2d0262a64233df1f8d]\n",
       "class E6--><a href=\"psysml:31dec55f-8acf-4d42-bd51-f4047894820c\" target=\"_top\" title=\"psysml:31dec55f-8acf-4d42-bd51-f4047894820c\" xlink:actuate=\"onRequest\" xlink:href=\"psysml:31dec55f-8acf-4d42-bd51-f4047894820c\" xlink:show=\"new\" xlink:title=\"psysml:31dec55f-8acf-4d42-bd51-f4047894820c\" xlink:type=\"simple\"><rect fill=\"#FFFFFF\" height=\"45.9375\" id=\"E6\" rx=\"10\" ry=\"10\" style=\"stroke: #383838; stroke-width: 1.5;\" width=\"42\" x=\"44\" y=\"465\"/><text fill=\"#000000\" font-family=\"sans-serif\" font-size=\"12\" font-style=\"italic\" lengthAdjust=\"spacingAndGlyphs\" textLength=\"40\" x=\"45\" y=\"481.1387\">«part»</text><text fill=\"#000000\" font-family=\"sans-serif\" font-size=\"12\" lengthAdjust=\"spacingAndGlyphs\" textLength=\"8\" x=\"61\" y=\"495.1074\">g</text><line style=\"stroke: #383838; stroke-width: 1.5;\" x1=\"45\" x2=\"85\" y1=\"502.9375\" y2=\"502.9375\"/></a><!--MD5=[2156ba9850f5573cc1fc38a6a4b2f02b]\n",
       "class E7--><a href=\"psysml:e57a8ff4-b454-49af-9671-50f81189572a\" target=\"_top\" title=\"psysml:e57a8ff4-b454-49af-9671-50f81189572a\" xlink:actuate=\"onRequest\" xlink:href=\"psysml:e57a8ff4-b454-49af-9671-50f81189572a\" xlink:show=\"new\" xlink:title=\"psysml:e57a8ff4-b454-49af-9671-50f81189572a\" xlink:type=\"simple\"><rect fill=\"#FFFFFF\" height=\"45.9375\" id=\"E7\" style=\"stroke: #383838; stroke-width: 1.5;\" width=\"66\" x=\"64\" y=\"147\"/><text fill=\"#000000\" font-family=\"sans-serif\" font-size=\"12\" font-style=\"italic\" lengthAdjust=\"spacingAndGlyphs\" textLength=\"64\" x=\"65\" y=\"163.1387\">«part def»</text><text fill=\"#000000\" font-family=\"sans-serif\" font-size=\"12\" lengthAdjust=\"spacingAndGlyphs\" textLength=\"8\" x=\"93\" y=\"177.1074\">B</text><line style=\"stroke: #383838; stroke-width: 1.5;\" x1=\"65\" x2=\"129\" y1=\"184.9375\" y2=\"184.9375\"/></a><!--MD5=[b9389687b975829384b498ac4b7476b2]\n",
       "class E8--><a href=\"psysml:ae9b8861-e9cc-45e7-97b3-375fd90ac7d9\" target=\"_top\" title=\"psysml:ae9b8861-e9cc-45e7-97b3-375fd90ac7d9\" xlink:actuate=\"onRequest\" xlink:href=\"psysml:ae9b8861-e9cc-45e7-97b3-375fd90ac7d9\" xlink:show=\"new\" xlink:title=\"psysml:ae9b8861-e9cc-45e7-97b3-375fd90ac7d9\" xlink:type=\"simple\"><rect fill=\"#FFFFFF\" height=\"45.9375\" id=\"E8\" rx=\"10\" ry=\"10\" style=\"stroke: #383838; stroke-width: 1.5;\" width=\"42\" x=\"109\" y=\"253\"/><text fill=\"#000000\" font-family=\"sans-serif\" font-size=\"12\" font-style=\"italic\" lengthAdjust=\"spacingAndGlyphs\" textLength=\"40\" x=\"110\" y=\"269.1387\">«part»</text><text fill=\"#000000\" font-family=\"sans-serif\" font-size=\"12\" lengthAdjust=\"spacingAndGlyphs\" textLength=\"19\" x=\"120.5\" y=\"283.1074\">f: F</text><line style=\"stroke: #383838; stroke-width: 1.5;\" x1=\"110\" x2=\"150\" y1=\"290.9375\" y2=\"290.9375\"/></a><!--MD5=[fd4143e9d270a159db93a4ea2a975926]\n",
       "class E9--><a href=\"psysml:d620b19b-a1e2-497d-8cad-3b2dc38fedc0\" target=\"_top\" title=\"psysml:d620b19b-a1e2-497d-8cad-3b2dc38fedc0\" xlink:actuate=\"onRequest\" xlink:href=\"psysml:d620b19b-a1e2-497d-8cad-3b2dc38fedc0\" xlink:show=\"new\" xlink:title=\"psysml:d620b19b-a1e2-497d-8cad-3b2dc38fedc0\" xlink:type=\"simple\"><rect fill=\"#FFFFFF\" height=\"45.9375\" id=\"E9\" rx=\"10\" ry=\"10\" style=\"stroke: #383838; stroke-width: 1.5;\" width=\"42\" x=\"32\" y=\"253\"/><text fill=\"#000000\" font-family=\"sans-serif\" font-size=\"12\" font-style=\"italic\" lengthAdjust=\"spacingAndGlyphs\" textLength=\"40\" x=\"33\" y=\"269.1387\">«part»</text><text fill=\"#000000\" font-family=\"sans-serif\" font-size=\"12\" lengthAdjust=\"spacingAndGlyphs\" textLength=\"24\" x=\"41\" y=\"283.1074\">a: A</text><line style=\"stroke: #383838; stroke-width: 1.5;\" x1=\"33\" x2=\"73\" y1=\"290.9375\" y2=\"290.9375\"/></a><!--MD5=[96f4274e9e20536e775497830990834d]\n",
       "class E10--><a href=\"psysml:f9a1a989-561d-4119-971e-8ebceafa94b4\" target=\"_top\" title=\"psysml:f9a1a989-561d-4119-971e-8ebceafa94b4\" xlink:actuate=\"onRequest\" xlink:href=\"psysml:f9a1a989-561d-4119-971e-8ebceafa94b4\" xlink:show=\"new\" xlink:title=\"psysml:f9a1a989-561d-4119-971e-8ebceafa94b4\" xlink:type=\"simple\"><rect fill=\"#FFFFFF\" height=\"45.9375\" id=\"E10\" rx=\"10\" ry=\"10\" style=\"stroke: #383838; stroke-width: 1.5;\" width=\"42\" x=\"76\" y=\"41\"/><text fill=\"#000000\" font-family=\"sans-serif\" font-size=\"12\" font-style=\"italic\" lengthAdjust=\"spacingAndGlyphs\" textLength=\"40\" x=\"77\" y=\"57.1387\">«part»</text><text fill=\"#000000\" font-family=\"sans-serif\" font-size=\"12\" lengthAdjust=\"spacingAndGlyphs\" textLength=\"24\" x=\"85\" y=\"71.1074\">b: B</text><line style=\"stroke: #383838; stroke-width: 1.5;\" x1=\"77\" x2=\"117\" y1=\"78.9375\" y2=\"78.9375\"/></a><!--MD5=[209b3feb70ccb6233bfe1053d122c12c]\n",
       "reverse link E2 to E3--><a href=\"psysml:5ee10b2b-55c1-4a08-a13b-bdb74e3f50e5\" target=\"_top\" title=\"psysml:5ee10b2b-55c1-4a08-a13b-bdb74e3f50e5\" xlink:actuate=\"onRequest\" xlink:href=\"psysml:5ee10b2b-55c1-4a08-a13b-bdb74e3f50e5\" xlink:show=\"new\" xlink:title=\"psysml:5ee10b2b-55c1-4a08-a13b-bdb74e3f50e5\" xlink:type=\"simple\"><path d=\"M180,418 C180,418 180,464.68 180,464.68 \" fill=\"none\" id=\"E2&lt;-E3\" style=\"stroke: #383838; stroke-width: 1.0;\"/><polygon fill=\"#383838\" points=\"180,405,176,411,180,417,184,411,180,405\" style=\"stroke: #383838; stroke-width: 1.0;\"/></a><!--MD5=[185131fc0dcab0a4505a2ebe144e961b]\n",
       "link E4 to E2--><a href=\"psysml:c4c1c0e2-eca3-4dc3-a203-c30912c3ab2b\" target=\"_top\" title=\"psysml:c4c1c0e2-eca3-4dc3-a203-c30912c3ab2b\" xlink:actuate=\"onRequest\" xlink:href=\"psysml:c4c1c0e2-eca3-4dc3-a203-c30912c3ab2b\" xlink:show=\"new\" xlink:title=\"psysml:c4c1c0e2-eca3-4dc3-a203-c30912c3ab2b\" xlink:type=\"simple\"><path d=\"M199.5,299 C199.5,299 199.5,338.68 199.5,338.68 \" fill=\"none\" id=\"E4-&gt;E2\" style=\"stroke: #383838; stroke-width: 1.0;\"/><polygon fill=\"#FFFFFF\" points=\"199.5,358.68,192.5,339.68,206.5,339.68,199.5,358.68\" style=\"stroke: #383838; stroke-width: 1.0;\"/><ellipse cx=\"194.5\" cy=\"333.98\" fill=\"#383838\" rx=\"2\" ry=\"2\" style=\"stroke: #383838; stroke-width: 1.0;\"/><ellipse cx=\"204.5\" cy=\"333.98\" fill=\"#383838\" rx=\"2\" ry=\"2\" style=\"stroke: #383838; stroke-width: 1.0;\"/></a><!--MD5=[85d356282659285ab4b2cfe2f634dd2b]\n",
       "reverse link E5 to E6--><a href=\"psysml:93463b7d-149f-4a15-b84b-177a9e530eda\" target=\"_top\" title=\"psysml:93463b7d-149f-4a15-b84b-177a9e530eda\" xlink:actuate=\"onRequest\" xlink:href=\"psysml:93463b7d-149f-4a15-b84b-177a9e530eda\" xlink:show=\"new\" xlink:title=\"psysml:93463b7d-149f-4a15-b84b-177a9e530eda\" xlink:type=\"simple\"><path d=\"M65,418 C65,418 65,464.68 65,464.68 \" fill=\"none\" id=\"E5&lt;-E6\" style=\"stroke: #383838; stroke-width: 1.0;\"/><polygon fill=\"#383838\" points=\"65,405,61,411,65,417,69,411,65,405\" style=\"stroke: #383838; stroke-width: 1.0;\"/></a><!--MD5=[dc164f5e8a733ab456ef1add180e9e34]\n",
       "reverse link E7 to E8--><a href=\"psysml:de6f8f38-3125-456b-a954-15a696931b63\" target=\"_top\" title=\"psysml:de6f8f38-3125-456b-a954-15a696931b63\" xlink:actuate=\"onRequest\" xlink:href=\"psysml:de6f8f38-3125-456b-a954-15a696931b63\" xlink:show=\"new\" xlink:title=\"psysml:de6f8f38-3125-456b-a954-15a696931b63\" xlink:type=\"simple\"><path d=\"M119.5,206 C119.5,206 119.5,252.68 119.5,252.68 \" fill=\"none\" id=\"E7&lt;-E8\" style=\"stroke: #383838; stroke-width: 1.0;\"/><polygon fill=\"#383838\" points=\"119.5,193,115.5,199,119.5,205,123.5,199,119.5,193\" style=\"stroke: #383838; stroke-width: 1.0;\"/></a><!--MD5=[f1f3f9f2fc535e6147756cb86a7f2e32]\n",
       "link E8 to E2--><a href=\"psysml:536a95df-7241-4403-bcab-1aa9fe7a4b7d\" target=\"_top\" title=\"psysml:536a95df-7241-4403-bcab-1aa9fe7a4b7d\" xlink:actuate=\"onRequest\" xlink:href=\"psysml:536a95df-7241-4403-bcab-1aa9fe7a4b7d\" xlink:show=\"new\" xlink:title=\"psysml:536a95df-7241-4403-bcab-1aa9fe7a4b7d\" xlink:type=\"simple\"><path d=\"M151.05,276 C160.04,276 168.5,276 168.5,276 C168.5,276 168.5,339 168.5,339 \" fill=\"none\" id=\"E8-&gt;E2\" style=\"stroke: #383838; stroke-width: 1.0;\"/><polygon fill=\"#FFFFFF\" points=\"168.5,359,161.5,340,175.5,340,168.5,359\" style=\"stroke: #383838; stroke-width: 1.0;\"/><ellipse cx=\"163.5\" cy=\"334.3\" fill=\"#383838\" rx=\"2\" ry=\"2\" style=\"stroke: #383838; stroke-width: 1.0;\"/><ellipse cx=\"173.5\" cy=\"334.3\" fill=\"#383838\" rx=\"2\" ry=\"2\" style=\"stroke: #383838; stroke-width: 1.0;\"/></a><!--MD5=[e4a10ef82d0e328e31cac39a31e58dda]\n",
       "reverse link E7 to E9--><a href=\"psysml:2c441a1b-e979-4985-bcd5-61f8c13172d0\" target=\"_top\" title=\"psysml:2c441a1b-e979-4985-bcd5-61f8c13172d0\" xlink:actuate=\"onRequest\" xlink:href=\"psysml:2c441a1b-e979-4985-bcd5-61f8c13172d0\" xlink:show=\"new\" xlink:title=\"psysml:2c441a1b-e979-4985-bcd5-61f8c13172d0\" xlink:type=\"simple\"><path d=\"M69,206 C69,206 69,252.68 69,252.68 \" fill=\"none\" id=\"E7&lt;-E9\" style=\"stroke: #383838; stroke-width: 1.0;\"/><polygon fill=\"#383838\" points=\"69,193,65,199,69,205,73,199,69,193\" style=\"stroke: #383838; stroke-width: 1.0;\"/></a><!--MD5=[bfc3ddf2e613be37104f658f09af896c]\n",
       "link E9 to E5--><a href=\"psysml:fc8a5d52-f7b0-45e1-9a4f-1e932b65f071\" target=\"_top\" title=\"psysml:fc8a5d52-f7b0-45e1-9a4f-1e932b65f071\" xlink:actuate=\"onRequest\" xlink:href=\"psysml:fc8a5d52-f7b0-45e1-9a4f-1e932b65f071\" xlink:show=\"new\" xlink:title=\"psysml:fc8a5d52-f7b0-45e1-9a4f-1e932b65f071\" xlink:type=\"simple\"><path d=\"M74.09,276 C80.55,276 86,276 86,276 C86,276 86,339 86,339 \" fill=\"none\" id=\"E9-&gt;E5\" style=\"stroke: #383838; stroke-width: 1.0;\"/><polygon fill=\"#FFFFFF\" points=\"86,359,79,340,93,340,86,359\" style=\"stroke: #383838; stroke-width: 1.0;\"/><ellipse cx=\"81\" cy=\"334.3\" fill=\"#383838\" rx=\"2\" ry=\"2\" style=\"stroke: #383838; stroke-width: 1.0;\"/><ellipse cx=\"91\" cy=\"334.3\" fill=\"#383838\" rx=\"2\" ry=\"2\" style=\"stroke: #383838; stroke-width: 1.0;\"/></a><!--MD5=[a919e0967d6f3de553dc51b9865a1d6d]\n",
       "link E10 to E7--><a href=\"psysml:2e3833d6-0a03-41e5-9593-325ba84dff2e\" target=\"_top\" title=\"psysml:2e3833d6-0a03-41e5-9593-325ba84dff2e\" xlink:actuate=\"onRequest\" xlink:href=\"psysml:2e3833d6-0a03-41e5-9593-325ba84dff2e\" xlink:show=\"new\" xlink:title=\"psysml:2e3833d6-0a03-41e5-9593-325ba84dff2e\" xlink:type=\"simple\"><path d=\"M97,87 C97,87 97,126.68 97,126.68 \" fill=\"none\" id=\"E10-&gt;E7\" style=\"stroke: #383838; stroke-width: 1.0;\"/><polygon fill=\"#FFFFFF\" points=\"97,146.68,90,127.68,104,127.68,97,146.68\" style=\"stroke: #383838; stroke-width: 1.0;\"/><ellipse cx=\"92\" cy=\"121.98\" fill=\"#383838\" rx=\"2\" ry=\"2\" style=\"stroke: #383838; stroke-width: 1.0;\"/><ellipse cx=\"102\" cy=\"121.98\" fill=\"#383838\" rx=\"2\" ry=\"2\" style=\"stroke: #383838; stroke-width: 1.0;\"/></a><!--MD5=[e1692f3fcb4515e80d49ec669a914359]\n",
       "@startuml\r\n",
       "skinparam linetype ortho\r\n",
       "skinparam monochrome true\r\n",
       "skinparam classbackgroundcolor white\r\n",
       "skinparam shadowing false\r\n",
       "skinparam wrapWidth 300\r\n",
       "hide circle\r\n",
       "\r\n",
       "package \"Q\" as E1  [[psysml:427a19be-4ba6-433c-b392-6823bf74d458 ]]  {\r\n",
       "comp def \"F\" as E2  <<(T,blue) part def>> [[psysml:027effde-34e9-4491-ba0c-9f82cacaad23 ]] {\r\n",
       "}\r\n",
       "comp usage \"a\" as E3  <<(T,blue) part>> [[psysml:241a9b2a-e9cc-4b19-964a-2424b61c0639 ]] {\r\n",
       "}\r\n",
       "comp usage \"f: F\" as E4  <<(T,blue) part>> [[psysml:40835df5-3f1f-4886-9446-1465d21ad736 ]] {\r\n",
       "}\r\n",
       "comp def \"A\" as E5  <<(T,blue) part def>> [[psysml:299c2c32-5ec1-43b2-a066-b7748b01150c ]] {\r\n",
       "}\r\n",
       "comp usage \"g\" as E6  <<(T,blue) part>> [[psysml:31dec55f-8acf-4d42-bd51-f4047894820c ]] {\r\n",
       "}\r\n",
       "comp def \"B\" as E7  <<(T,blue) part def>> [[psysml:e57a8ff4-b454-49af-9671-50f81189572a ]] {\r\n",
       "}\r\n",
       "comp usage \"f: F\" as E8  <<(T,blue) part>> [[psysml:ae9b8861-e9cc-45e7-97b3-375fd90ac7d9 ]] {\r\n",
       "}\r\n",
       "comp usage \"a: A\" as E9  <<(T,blue) part>> [[psysml:d620b19b-a1e2-497d-8cad-3b2dc38fedc0 ]] {\r\n",
       "}\r\n",
       "comp usage \"b: B\" as E10  <<(T,blue) part>> [[psysml:f9a1a989-561d-4119-971e-8ebceafa94b4 ]] {\r\n",
       "}\r\n",
       "E2 *- - E3 [[psysml:5ee10b2b-55c1-4a08-a13b-bdb74e3f50e5 ]] \r\n",
       "E4 - -:|> E2 [[psysml:c4c1c0e2-eca3-4dc3-a203-c30912c3ab2b ]] \r\n",
       "E5 *- - E6 [[psysml:93463b7d-149f-4a15-b84b-177a9e530eda ]] \r\n",
       "E7 *- - E8 [[psysml:de6f8f38-3125-456b-a954-15a696931b63 ]] \r\n",
       "E8 - -:|> E2 [[psysml:536a95df-7241-4403-bcab-1aa9fe7a4b7d ]] \r\n",
       "E7 *- - E9 [[psysml:2c441a1b-e979-4985-bcd5-61f8c13172d0 ]] \r\n",
       "E9 - -:|> E5 [[psysml:fc8a5d52-f7b0-45e1-9a4f-1e932b65f071 ]] \r\n",
       "E10 - -:|> E7 [[psysml:2e3833d6-0a03-41e5-9593-325ba84dff2e ]] \r\n",
       "}\r\n",
       "@enduml\r\n",
       "\n",
       "PlantUML version 1.2020.13(Sat Jun 13 12:26:38 UTC 2020)\n",
       "(EPL source distribution)\n",
       "Java Runtime: OpenJDK Runtime Environment\n",
       "JVM: OpenJDK 64-Bit Server VM\n",
       "Default Encoding: UTF-8\n",
       "Language: en\n",
       "Country: null\n",
       "--></g></svg>"
      ]
     },
     "execution_count": 57,
     "metadata": {},
     "output_type": "execute_result"
    }
   ],
   "source": [
    "%viz --style=\"ORTHOLINE\" --view=\"MIXED\" \"Q\""
   ]
  }
 ],
 "metadata": {
  "kernelspec": {
   "display_name": "SysML",
   "language": "sysml",
   "name": "sysml"
  },
  "language_info": {
   "codemirror_mode": "sysml",
   "file_extension": ".sysml",
   "mimetype": "text/x-sysml",
   "name": "SysML",
   "pygments_lexer": "java",
   "version": "1.0.0"
  }
 },
 "nbformat": 4,
 "nbformat_minor": 5
}
