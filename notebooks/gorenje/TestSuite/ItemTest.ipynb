{
 "cells": [
  {
   "cell_type": "markdown",
   "id": "8a952079",
   "metadata": {},
   "source": [
    "# SysML v2 Test Suite\n",
    "\n",
    "This can notebook can be cleared using menu `Edit --> Clear All Outputs` and then all cells can be\n",
    "run using menu `Run --> Run All Cells`.\n",
    "\n",
    "**WARNING**: This file is generated, all modifications here will be ignored.\n"
   ]
  },
  {
   "cell_type": "markdown",
   "id": "ecd44297",
   "metadata": {},
   "source": [
    "## File: ../../sysml/src/examples/Simple Tests/ItemTest.sysml"
   ]
  },
  {
   "cell_type": "code",
   "execution_count": 1,
   "id": "faf8dce0",
   "metadata": {
    "execution": {
     "iopub.execute_input": "2022-04-22T09:48:22.087738Z",
     "iopub.status.busy": "2022-04-22T09:48:22.086001Z",
     "iopub.status.idle": "2022-04-22T09:48:22.308546Z",
     "shell.execute_reply": "2022-04-22T09:48:22.308261Z"
    }
   },
   "outputs": [
    {
     "data": {
      "text/plain": [
       "Package ItemTest (2378a73c-62c8-441b-bbe7-8bdb0ead851b)\n"
      ]
     },
     "execution_count": 1,
     "metadata": {},
     "output_type": "execute_result"
    }
   ],
   "source": [
    "package ItemTest {\n",
    "\t\n",
    "\titem f: A;\n",
    "\n",
    "\tpublic item def A {\n",
    "\t\titem b: B;\n",
    "\t\tprotected ref part c: C;\n",
    "\t}\n",
    "\t\n",
    "\tabstract item def B {\n",
    "\t\tpublic abstract part a: A;\n",
    "\t}\n",
    "\t\n",
    "\tprivate part def C {\n",
    "\t\tprivate in ref y: A, B;\n",
    "\t}\n",
    "\t\n",
    "\tport def P {\n",
    "\t\tin item a1: A;\n",
    "\t\tout item a2: A;\n",
    "\t}\n",
    "\t\n",
    "}"
   ]
  },
  {
   "cell_type": "code",
   "execution_count": 2,
   "id": "4af108e2",
   "metadata": {
    "execution": {
     "iopub.execute_input": "2022-04-22T09:48:22.360141Z",
     "iopub.status.busy": "2022-04-22T09:48:22.359714Z",
     "iopub.status.idle": "2022-04-22T09:48:22.878360Z",
     "shell.execute_reply": "2022-04-22T09:48:22.877930Z"
    }
   },
   "outputs": [
    {
     "data": {
      "image/svg+xml": [
       "<?xml version=\"1.0\" encoding=\"UTF-8\" standalone=\"no\"?><svg xmlns=\"http://www.w3.org/2000/svg\" xmlns:xlink=\"http://www.w3.org/1999/xlink\" contentScriptType=\"application/ecmascript\" contentStyleType=\"text/css\" height=\"818px\" preserveAspectRatio=\"none\" style=\"width:270px;height:818px;\" version=\"1.1\" viewBox=\"0 0 270 818\" width=\"270px\" zoomAndPan=\"magnify\"><defs/><g><!--MD5=[fbc87193dbaf4d95561dea2c320d4a47]\n",
       "cluster E1--><a href=\"psysml:05177c11-5394-41b2-a0a0-71a4c06ed611\" target=\"_top\" title=\"psysml:05177c11-5394-41b2-a0a0-71a4c06ed611\" xlink:actuate=\"onRequest\" xlink:href=\"psysml:05177c11-5394-41b2-a0a0-71a4c06ed611\" xlink:show=\"new\" xlink:title=\"psysml:05177c11-5394-41b2-a0a0-71a4c06ed611\" xlink:type=\"simple\"><polygon fill=\"#FFFFFF\" points=\"16,6,83,6,90,28.2969,248,28.2969,248,806,16,806,16,6\" style=\"stroke: #000000; stroke-width: 1.5;\"/><line style=\"stroke: #000000; stroke-width: 1.5;\" x1=\"16\" x2=\"90\" y1=\"28.2969\" y2=\"28.2969\"/><text fill=\"#000000\" font-family=\"sans-serif\" font-size=\"14\" font-weight=\"bold\" lengthAdjust=\"spacingAndGlyphs\" textLength=\"61\" x=\"20\" y=\"20.9951\">ItemTest</text></a><!--MD5=[b4997ac47864f28c2f74865a473b2911]\n",
       "class E2--><a href=\"psysml:9b37ce48-aa06-4adb-ba3b-3b1410731947\" target=\"_top\" title=\"psysml:9b37ce48-aa06-4adb-ba3b-3b1410731947\" xlink:actuate=\"onRequest\" xlink:href=\"psysml:9b37ce48-aa06-4adb-ba3b-3b1410731947\" xlink:show=\"new\" xlink:title=\"psysml:9b37ce48-aa06-4adb-ba3b-3b1410731947\" xlink:type=\"simple\"><rect fill=\"#FFFFFF\" height=\"45.9375\" id=\"E2\" rx=\"10\" ry=\"10\" style=\"stroke: #383838; stroke-width: 1.5;\" width=\"43\" x=\"188.5\" y=\"148\"/><text fill=\"#000000\" font-family=\"sans-serif\" font-size=\"12\" font-style=\"italic\" lengthAdjust=\"spacingAndGlyphs\" textLength=\"41\" x=\"189.5\" y=\"164.1387\">«item»</text><text fill=\"#000000\" font-family=\"sans-serif\" font-size=\"12\" lengthAdjust=\"spacingAndGlyphs\" textLength=\"20\" x=\"198\" y=\"178.1074\">f: A</text><line style=\"stroke: #383838; stroke-width: 1.5;\" x1=\"189.5\" x2=\"230.5\" y1=\"185.9375\" y2=\"185.9375\"/></a><!--MD5=[09b614a08d8cba4a07c9adeb5e0fee81]\n",
       "class E3--><a href=\"psysml:373f36dd-9125-4f4d-9beb-8d6cd21e1469\" target=\"_top\" title=\"psysml:373f36dd-9125-4f4d-9beb-8d6cd21e1469\" xlink:actuate=\"onRequest\" xlink:href=\"psysml:373f36dd-9125-4f4d-9beb-8d6cd21e1469\" xlink:show=\"new\" xlink:title=\"psysml:373f36dd-9125-4f4d-9beb-8d6cd21e1469\" xlink:type=\"simple\"><rect fill=\"#FFFFFF\" height=\"45.9375\" id=\"E3\" style=\"stroke: #383838; stroke-width: 1.5;\" width=\"71\" x=\"96.5\" y=\"255\"/><text fill=\"#000000\" font-family=\"sans-serif\" font-size=\"12\" font-style=\"italic\" lengthAdjust=\"spacingAndGlyphs\" textLength=\"69\" x=\"97.5\" y=\"271.1387\">«item  def»</text><text fill=\"#000000\" font-family=\"sans-serif\" font-size=\"12\" lengthAdjust=\"spacingAndGlyphs\" textLength=\"8\" x=\"128\" y=\"285.1074\">A</text><line style=\"stroke: #383838; stroke-width: 1.5;\" x1=\"97.5\" x2=\"166.5\" y1=\"292.9375\" y2=\"292.9375\"/></a><!--MD5=[ebbe1d658d1005bcc118a6aa81145e00]\n",
       "class E4--><a href=\"psysml:130e11a2-3d5f-4cd9-b0cd-9225a7528360\" target=\"_top\" title=\"psysml:130e11a2-3d5f-4cd9-b0cd-9225a7528360\" xlink:actuate=\"onRequest\" xlink:href=\"psysml:130e11a2-3d5f-4cd9-b0cd-9225a7528360\" xlink:show=\"new\" xlink:title=\"psysml:130e11a2-3d5f-4cd9-b0cd-9225a7528360\" xlink:type=\"simple\"><rect fill=\"#FFFFFF\" height=\"45.9375\" id=\"E4\" rx=\"10\" ry=\"10\" style=\"stroke: #383838; stroke-width: 1.5;\" width=\"43\" x=\"45.5\" y=\"438\"/><text fill=\"#000000\" font-family=\"sans-serif\" font-size=\"12\" font-style=\"italic\" lengthAdjust=\"spacingAndGlyphs\" textLength=\"41\" x=\"46.5\" y=\"454.1387\">«item»</text><text fill=\"#000000\" font-family=\"sans-serif\" font-size=\"12\" lengthAdjust=\"spacingAndGlyphs\" textLength=\"24\" x=\"53\" y=\"468.1074\">b: B</text><line style=\"stroke: #383838; stroke-width: 1.5;\" x1=\"46.5\" x2=\"87.5\" y1=\"475.9375\" y2=\"475.9375\"/></a><!--MD5=[270fce915f116d4de14055a7c1d9a0f3]\n",
       "class E5--><a href=\"psysml:80ae9a50-ac1f-4423-b935-68d8f5716f01\" target=\"_top\" title=\"psysml:80ae9a50-ac1f-4423-b935-68d8f5716f01\" xlink:actuate=\"onRequest\" xlink:href=\"psysml:80ae9a50-ac1f-4423-b935-68d8f5716f01\" xlink:show=\"new\" xlink:title=\"psysml:80ae9a50-ac1f-4423-b935-68d8f5716f01\" xlink:type=\"simple\"><rect fill=\"#FFFFFF\" height=\"45.9375\" id=\"E5\" rx=\"10\" ry=\"10\" style=\"stroke: #383838; stroke-width: 1.5;\" width=\"42\" x=\"151\" y=\"362\"/><text fill=\"#000000\" font-family=\"sans-serif\" font-size=\"12\" font-style=\"italic\" lengthAdjust=\"spacingAndGlyphs\" textLength=\"40\" x=\"152\" y=\"378.1387\">«part»</text><text fill=\"#000000\" font-family=\"sans-serif\" font-size=\"12\" lengthAdjust=\"spacingAndGlyphs\" textLength=\"23\" x=\"158.5\" y=\"392.1074\">c: C</text><line style=\"stroke: #383838; stroke-width: 1.5;\" x1=\"152\" x2=\"192\" y1=\"399.9375\" y2=\"399.9375\"/></a><!--MD5=[60a26617385b1d2d0262a64233df1f8d]\n",
       "class E6--><a href=\"psysml:7d838d86-0408-4401-9cbf-32b733f3993a\" target=\"_top\" title=\"psysml:7d838d86-0408-4401-9cbf-32b733f3993a\" xlink:actuate=\"onRequest\" xlink:href=\"psysml:7d838d86-0408-4401-9cbf-32b733f3993a\" xlink:show=\"new\" xlink:title=\"psysml:7d838d86-0408-4401-9cbf-32b733f3993a\" xlink:type=\"simple\"><rect fill=\"#FFFFFF\" height=\"45.9375\" id=\"E6\" style=\"stroke: #383838; stroke-width: 1.5;\" width=\"71\" x=\"112.5\" y=\"637\"/><text fill=\"#000000\" font-family=\"sans-serif\" font-size=\"12\" font-style=\"italic\" lengthAdjust=\"spacingAndGlyphs\" textLength=\"69\" x=\"113.5\" y=\"653.1387\">«item  def»</text><text fill=\"#000000\" font-family=\"sans-serif\" font-size=\"12\" font-style=\"italic\" lengthAdjust=\"spacingAndGlyphs\" textLength=\"8\" x=\"144\" y=\"667.1074\">B</text><line style=\"stroke: #383838; stroke-width: 1.5;\" x1=\"113.5\" x2=\"182.5\" y1=\"674.9375\" y2=\"674.9375\"/></a><!--MD5=[2156ba9850f5573cc1fc38a6a4b2f02b]\n",
       "class E7--><a href=\"psysml:d06b8fcb-8cda-493c-875d-bdf01ed715df\" target=\"_top\" title=\"psysml:d06b8fcb-8cda-493c-875d-bdf01ed715df\" xlink:actuate=\"onRequest\" xlink:href=\"psysml:d06b8fcb-8cda-493c-875d-bdf01ed715df\" xlink:show=\"new\" xlink:title=\"psysml:d06b8fcb-8cda-493c-875d-bdf01ed715df\" xlink:type=\"simple\"><rect fill=\"#FFFFFF\" height=\"45.9375\" id=\"E7\" rx=\"10\" ry=\"10\" style=\"stroke: #383838; stroke-width: 1.5;\" width=\"42\" x=\"159\" y=\"744\"/><text fill=\"#000000\" font-family=\"sans-serif\" font-size=\"12\" font-style=\"italic\" lengthAdjust=\"spacingAndGlyphs\" textLength=\"40\" x=\"160\" y=\"760.1387\">«part»</text><text fill=\"#000000\" font-family=\"sans-serif\" font-size=\"12\" font-style=\"italic\" lengthAdjust=\"spacingAndGlyphs\" textLength=\"8\" x=\"166\" y=\"774.1074\">a</text><text fill=\"#000000\" font-family=\"sans-serif\" font-size=\"12\" lengthAdjust=\"spacingAndGlyphs\" textLength=\"16\" x=\"174\" y=\"774.1074\">: A</text><line style=\"stroke: #383838; stroke-width: 1.5;\" x1=\"160\" x2=\"200\" y1=\"781.9375\" y2=\"781.9375\"/></a><!--MD5=[b9389687b975829384b498ac4b7476b2]\n",
       "class E8--><a href=\"psysml:a2efb8df-7581-49ed-b24f-8030c12b0405\" target=\"_top\" title=\"psysml:a2efb8df-7581-49ed-b24f-8030c12b0405\" xlink:actuate=\"onRequest\" xlink:href=\"psysml:a2efb8df-7581-49ed-b24f-8030c12b0405\" xlink:show=\"new\" xlink:title=\"psysml:a2efb8df-7581-49ed-b24f-8030c12b0405\" xlink:type=\"simple\"><rect fill=\"#FFFFFF\" height=\"45.9375\" id=\"E8\" style=\"stroke: #383838; stroke-width: 1.5;\" width=\"70\" x=\"113\" y=\"514\"/><text fill=\"#000000\" font-family=\"sans-serif\" font-size=\"12\" font-style=\"italic\" lengthAdjust=\"spacingAndGlyphs\" textLength=\"68\" x=\"114\" y=\"530.1387\">«part  def»</text><text fill=\"#000000\" font-family=\"sans-serif\" font-size=\"12\" lengthAdjust=\"spacingAndGlyphs\" textLength=\"8\" x=\"144\" y=\"544.1074\">C</text><line style=\"stroke: #383838; stroke-width: 1.5;\" x1=\"114\" x2=\"182\" y1=\"551.9375\" y2=\"551.9375\"/></a><!--MD5=[fd4143e9d270a159db93a4ea2a975926]\n",
       "class E9--><a href=\"psysml:91f3ce36-c57b-44eb-a625-32b1f3011842\" target=\"_top\" title=\"psysml:91f3ce36-c57b-44eb-a625-32b1f3011842\" xlink:actuate=\"onRequest\" xlink:href=\"psysml:91f3ce36-c57b-44eb-a625-32b1f3011842\" xlink:show=\"new\" xlink:title=\"psysml:91f3ce36-c57b-44eb-a625-32b1f3011842\" xlink:type=\"simple\"><rect fill=\"#FFFFFF\" height=\"45.9375\" id=\"E9\" style=\"stroke: #383838; stroke-width: 1.5;\" width=\"70\" x=\"64\" y=\"41\"/><text fill=\"#000000\" font-family=\"sans-serif\" font-size=\"12\" font-style=\"italic\" lengthAdjust=\"spacingAndGlyphs\" textLength=\"68\" x=\"65\" y=\"57.1387\">«port  def»</text><text fill=\"#000000\" font-family=\"sans-serif\" font-size=\"12\" lengthAdjust=\"spacingAndGlyphs\" textLength=\"8\" x=\"95\" y=\"71.1074\">P</text><line style=\"stroke: #383838; stroke-width: 1.5;\" x1=\"65\" x2=\"133\" y1=\"78.9375\" y2=\"78.9375\"/></a><!--MD5=[96f4274e9e20536e775497830990834d]\n",
       "class E10--><a href=\"psysml:5a8db81a-c733-4c6f-be90-4f9ffe214caa\" target=\"_top\" title=\"psysml:5a8db81a-c733-4c6f-be90-4f9ffe214caa\" xlink:actuate=\"onRequest\" xlink:href=\"psysml:5a8db81a-c733-4c6f-be90-4f9ffe214caa\" xlink:show=\"new\" xlink:title=\"psysml:5a8db81a-c733-4c6f-be90-4f9ffe214caa\" xlink:type=\"simple\"><rect fill=\"#FFFFFF\" height=\"45.9375\" id=\"E10\" rx=\"10\" ry=\"10\" style=\"stroke: #383838; stroke-width: 1.5;\" width=\"43\" x=\"32.5\" y=\"148\"/><text fill=\"#000000\" font-family=\"sans-serif\" font-size=\"12\" font-style=\"italic\" lengthAdjust=\"spacingAndGlyphs\" textLength=\"41\" x=\"33.5\" y=\"164.1387\">«item»</text><text fill=\"#000000\" font-family=\"sans-serif\" font-size=\"12\" lengthAdjust=\"spacingAndGlyphs\" textLength=\"32\" x=\"36\" y=\"178.1074\">a1: A</text><line style=\"stroke: #383838; stroke-width: 1.5;\" x1=\"33.5\" x2=\"74.5\" y1=\"185.9375\" y2=\"185.9375\"/></a><!--MD5=[1dd1bfd58a279cf63c5f349dbc8fc6a1]\n",
       "class E11--><a href=\"psysml:50797105-d3dc-4af6-be0e-986a23cb6cc7\" target=\"_top\" title=\"psysml:50797105-d3dc-4af6-be0e-986a23cb6cc7\" xlink:actuate=\"onRequest\" xlink:href=\"psysml:50797105-d3dc-4af6-be0e-986a23cb6cc7\" xlink:show=\"new\" xlink:title=\"psysml:50797105-d3dc-4af6-be0e-986a23cb6cc7\" xlink:type=\"simple\"><rect fill=\"#FFFFFF\" height=\"45.9375\" id=\"E11\" rx=\"10\" ry=\"10\" style=\"stroke: #383838; stroke-width: 1.5;\" width=\"43\" x=\"110.5\" y=\"148\"/><text fill=\"#000000\" font-family=\"sans-serif\" font-size=\"12\" font-style=\"italic\" lengthAdjust=\"spacingAndGlyphs\" textLength=\"41\" x=\"111.5\" y=\"164.1387\">«item»</text><text fill=\"#000000\" font-family=\"sans-serif\" font-size=\"12\" lengthAdjust=\"spacingAndGlyphs\" textLength=\"32\" x=\"114\" y=\"178.1074\">a2: A</text><line style=\"stroke: #383838; stroke-width: 1.5;\" x1=\"111.5\" x2=\"152.5\" y1=\"185.9375\" y2=\"185.9375\"/></a><!--MD5=[2720a5a1f2c3fca2055b230370638851]\n",
       "link E2 to E3--><a href=\"psysml:2d349f36-3ef3-481f-a80c-9f5be02d82e3\" target=\"_top\" title=\"psysml:2d349f36-3ef3-481f-a80c-9f5be02d82e3\" xlink:actuate=\"onRequest\" xlink:href=\"psysml:2d349f36-3ef3-481f-a80c-9f5be02d82e3\" xlink:show=\"new\" xlink:title=\"psysml:2d349f36-3ef3-481f-a80c-9f5be02d82e3\" xlink:type=\"simple\"><path d=\"M193.65,194.01 C184.14,206.81 171.89,223.3 160.82,238.2 \" fill=\"none\" id=\"E2-&gt;E3\" style=\"stroke: #383838; stroke-width: 1.0;\"/><polygon fill=\"#FFFFFF\" points=\"148.6,254.66,154.3195,235.2361,165.5543,243.5896,148.6,254.66\" style=\"stroke: #383838; stroke-width: 1.0;\"/><ellipse cx=\"159.3256\" cy=\"231.8554\" fill=\"#383838\" rx=\"2\" ry=\"2\" style=\"stroke: #383838; stroke-width: 1.0;\"/><ellipse cx=\"167.3504\" cy=\"237.8221\" fill=\"#383838\" rx=\"2\" ry=\"2\" style=\"stroke: #383838; stroke-width: 1.0;\"/></a><!--MD5=[4672eba38e49728da53d11aeb285b987]\n",
       "reverse link E3 to E4--><a href=\"psysml:1fc0b9c6-f917-494b-8539-e8a30a151a21\" target=\"_top\" title=\"psysml:1fc0b9c6-f917-494b-8539-e8a30a151a21\" xlink:actuate=\"onRequest\" xlink:href=\"psysml:1fc0b9c6-f917-494b-8539-e8a30a151a21\" xlink:show=\"new\" xlink:title=\"psysml:1fc0b9c6-f917-494b-8539-e8a30a151a21\" xlink:type=\"simple\"><path d=\"M97.11,310.9 C84.08,325.11 70.81,342.94 64,362 C55.12,386.85 58.09,417.53 61.82,437.88 \" fill=\"none\" id=\"E3&lt;-E4\" style=\"stroke: #383838; stroke-width: 1.0;\"/><polygon fill=\"#383838\" points=\"106.46,301.23,99.4153,302.7703,98.1277,309.8655,105.1724,308.3252,106.46,301.23\" style=\"stroke: #383838; stroke-width: 1.0;\"/><text fill=\"#000000\" font-family=\"sans-serif\" font-size=\"13\" lengthAdjust=\"spacingAndGlyphs\" textLength=\"8\" x=\"51.3529\" y=\"426.744\">1</text></a><!--MD5=[191cde3d490a3f6d7bb551fe3ddca469]\n",
       "reverse link E3 to E5--><a href=\"psysml:1188b8bd-fcbe-4041-bfa3-3c6757b772de\" target=\"_top\" title=\"psysml:1188b8bd-fcbe-4041-bfa3-3c6757b772de\" xlink:actuate=\"onRequest\" xlink:href=\"psysml:1188b8bd-fcbe-4041-bfa3-3c6757b772de\" xlink:show=\"new\" xlink:title=\"psysml:1188b8bd-fcbe-4041-bfa3-3c6757b772de\" xlink:type=\"simple\"><path d=\"M145.17,313.57 C151.2,329.39 158.16,347.68 163.49,361.66 \" fill=\"none\" id=\"E3&lt;-E5\" style=\"stroke: #383838; stroke-width: 1.0;\"/><polygon fill=\"#FFFFFF\" points=\"140.39,301.01,138.7866,308.0406,144.6598,312.2247,146.2631,305.1941,140.39,301.01\" style=\"stroke: #383838; stroke-width: 1.0;\"/><text fill=\"#000000\" font-family=\"sans-serif\" font-size=\"13\" lengthAdjust=\"spacingAndGlyphs\" textLength=\"8\" x=\"152.2843\" y=\"350.8492\">1</text></a><!--MD5=[79568f1e445c3877b6a54524624ccc7d]\n",
       "link E4 to E6--><a href=\"psysml:b444802f-fd06-4322-964d-2bd41504258e\" target=\"_top\" title=\"psysml:b444802f-fd06-4322-964d-2bd41504258e\" xlink:actuate=\"onRequest\" xlink:href=\"psysml:b444802f-fd06-4322-964d-2bd41504258e\" xlink:show=\"new\" xlink:title=\"psysml:b444802f-fd06-4322-964d-2bd41504258e\" xlink:type=\"simple\"><path d=\"M72.25,484.22 C77.31,504.36 85.72,534.68 96,560 C104.15,580.08 115.08,601.47 124.82,619.21 \" fill=\"none\" id=\"E4-&gt;E6\" style=\"stroke: #383838; stroke-width: 1.0;\"/><polygon fill=\"#FFFFFF\" points=\"134.72,636.8,119.2979,623.6791,131.4967,616.8097,134.72,636.8\" style=\"stroke: #383838; stroke-width: 1.0;\"/><ellipse cx=\"118.2438\" cy=\"617.7311\" fill=\"#383838\" rx=\"2\" ry=\"2\" style=\"stroke: #383838; stroke-width: 1.0;\"/><ellipse cx=\"126.9572\" cy=\"612.8244\" fill=\"#383838\" rx=\"2\" ry=\"2\" style=\"stroke: #383838; stroke-width: 1.0;\"/></a><!--MD5=[3f50a3473f1dfb74d3f76443e03635af]\n",
       "reverse link E6 to E7--><a href=\"psysml:fe8fc95e-22bb-46d1-b0fd-61d73c45474f\" target=\"_top\" title=\"psysml:fe8fc95e-22bb-46d1-b0fd-61d73c45474f\" xlink:actuate=\"onRequest\" xlink:href=\"psysml:fe8fc95e-22bb-46d1-b0fd-61d73c45474f\" xlink:show=\"new\" xlink:title=\"psysml:fe8fc95e-22bb-46d1-b0fd-61d73c45474f\" xlink:type=\"simple\"><path d=\"M158.54,695.57 C163.36,711.39 168.93,729.68 173.19,743.66 \" fill=\"none\" id=\"E6&lt;-E7\" style=\"stroke: #383838; stroke-width: 1.0;\"/><polygon fill=\"#383838\" points=\"154.71,683.01,152.6319,689.9152,158.2066,694.4893,160.2847,687.5841,154.71,683.01\" style=\"stroke: #383838; stroke-width: 1.0;\"/><text fill=\"#000000\" font-family=\"sans-serif\" font-size=\"13\" lengthAdjust=\"spacingAndGlyphs\" textLength=\"8\" x=\"162.4199\" y=\"732.8492\">1</text></a><!--MD5=[14ccda38c055a5c0da953d572bc50960]\n",
       "link E7 to E3--><a href=\"psysml:599ea15b-bb0f-4f03-a502-f2e1a3a71e91\" target=\"_top\" title=\"psysml:599ea15b-bb0f-4f03-a502-f2e1a3a71e91\" xlink:actuate=\"onRequest\" xlink:href=\"psysml:599ea15b-bb0f-4f03-a502-f2e1a3a71e91\" xlink:show=\"new\" xlink:title=\"psysml:599ea15b-bb0f-4f03-a502-f2e1a3a71e91\" xlink:type=\"simple\"><path d=\"M197.41,743.63 C211.5,723.27 229,691.78 229,661 C229,384 229,384 229,384 C229,353.7 206.93,328.42 183.85,310.26 \" fill=\"none\" id=\"E7-&gt;E3\" style=\"stroke: #383838; stroke-width: 1.0;\"/><polygon fill=\"#FFFFFF\" points=\"167.57,298.59,187.0929,303.9617,178.9414,315.3438,167.57,298.59\" style=\"stroke: #383838; stroke-width: 1.0;\"/><ellipse cx=\"190.5626\" cy=\"308.9066\" fill=\"#383838\" rx=\"2\" ry=\"2\" style=\"stroke: #383838; stroke-width: 1.0;\"/><ellipse cx=\"184.7401\" cy=\"317.0367\" fill=\"#383838\" rx=\"2\" ry=\"2\" style=\"stroke: #383838; stroke-width: 1.0;\"/></a><!--MD5=[dfaffb906826c3e5aca635516100ff21]\n",
       "link E5 to E8--><a href=\"psysml:ebb03462-10dd-4a39-86ac-c1648f226bb6\" target=\"_top\" title=\"psysml:ebb03462-10dd-4a39-86ac-c1648f226bb6\" xlink:actuate=\"onRequest\" xlink:href=\"psysml:ebb03462-10dd-4a39-86ac-c1648f226bb6\" xlink:show=\"new\" xlink:title=\"psysml:ebb03462-10dd-4a39-86ac-c1648f226bb6\" xlink:type=\"simple\"><path d=\"M168.46,408.13 C164.86,430.62 159.2,466.01 154.74,493.87 \" fill=\"none\" id=\"E5-&gt;E8\" style=\"stroke: #383838; stroke-width: 1.0;\"/><polygon fill=\"#FFFFFF\" points=\"151.56,513.78,147.6458,493.9135,161.4704,496.1226,151.56,513.78\" style=\"stroke: #383838; stroke-width: 1.0;\"/><ellipse cx=\"150.5202\" cy=\"488.6005\" fill=\"#383838\" rx=\"2\" ry=\"2\" style=\"stroke: #383838; stroke-width: 1.0;\"/><ellipse cx=\"160.3949\" cy=\"490.1784\" fill=\"#383838\" rx=\"2\" ry=\"2\" style=\"stroke: #383838; stroke-width: 1.0;\"/></a><!--MD5=[03c8294790d3c57651a1993cecff665f]\n",
       "reverse link E8 to E3--><a href=\"psysml:4ca20137-091c-4af4-8b05-aa2379f8c92e\" target=\"_top\" title=\"psysml:4ca20137-091c-4af4-8b05-aa2379f8c92e\" xlink:actuate=\"onRequest\" xlink:href=\"psysml:4ca20137-091c-4af4-8b05-aa2379f8c92e\" xlink:show=\"new\" xlink:title=\"psysml:4ca20137-091c-4af4-8b05-aa2379f8c92e\" xlink:type=\"simple\"><path d=\"M140.02,501.22 C134.57,475.6 127.84,439.84 125,408 C123.18,387.64 124.14,382.43 125,362 C125.87,341.34 127.95,317.86 129.62,301.16 \" fill=\"none\" id=\"E8&lt;-E3\" style=\"stroke: #383838; stroke-width: 1.0;\"/><polygon fill=\"#FFFFFF\" points=\"142.81,513.96,145.4388,507.2451,140.2515,502.2359,137.6227,508.9508,142.81,513.96\" style=\"stroke: #383838; stroke-width: 1.0;\"/><text fill=\"#000000\" font-family=\"sans-serif\" font-size=\"13\" lengthAdjust=\"spacingAndGlyphs\" textLength=\"7\" x=\"126\" y=\"389.5669\">y</text></a><!--MD5=[0d75d2178373a6a4568e5dc728f58aef]\n",
       "reverse link E8 to E6--><a href=\"psysml:4ca20137-091c-4af4-8b05-aa2379f8c92e\" target=\"_top\" title=\"psysml:4ca20137-091c-4af4-8b05-aa2379f8c92e\" xlink:actuate=\"onRequest\" xlink:href=\"psysml:4ca20137-091c-4af4-8b05-aa2379f8c92e\" xlink:show=\"new\" xlink:title=\"psysml:4ca20137-091c-4af4-8b05-aa2379f8c92e\" xlink:type=\"simple\"><path d=\"M148,573.22 C148,593.81 148,619.16 148,636.95 \" fill=\"none\" id=\"E8&lt;-E6\" style=\"stroke: #383838; stroke-width: 1.0;\"/><polygon fill=\"#FFFFFF\" points=\"148,560.19,144,566.19,148,572.19,152,566.19,148,560.19\" style=\"stroke: #383838; stroke-width: 1.0;\"/><text fill=\"#000000\" font-family=\"sans-serif\" font-size=\"13\" lengthAdjust=\"spacingAndGlyphs\" textLength=\"7\" x=\"149\" y=\"603.0669\">y</text></a><!--MD5=[23ac544a70576c3e717098101004234c]\n",
       "reverse link E9 to E10--><a href=\"psysml:bbec5841-3ffd-488b-b643-01adfe752a25\" target=\"_top\" title=\"psysml:bbec5841-3ffd-488b-b643-01adfe752a25\" xlink:actuate=\"onRequest\" xlink:href=\"psysml:bbec5841-3ffd-488b-b643-01adfe752a25\" xlink:show=\"new\" xlink:title=\"psysml:bbec5841-3ffd-488b-b643-01adfe752a25\" xlink:type=\"simple\"><path d=\"M84.39,99.1 C77.56,115.03 69.63,133.54 63.58,147.66 \" fill=\"none\" id=\"E9&lt;-E10\" style=\"stroke: #383838; stroke-width: 1.0;\"/><polygon fill=\"#FFFFFF\" points=\"89.57,87.01,83.5327,90.9535,84.8509,98.0431,90.8882,94.0996,89.57,87.01\" style=\"stroke: #383838; stroke-width: 1.0;\"/><text fill=\"#000000\" font-family=\"sans-serif\" font-size=\"13\" lengthAdjust=\"spacingAndGlyphs\" textLength=\"8\" x=\"57.0099\" y=\"136.8492\">1</text></a><!--MD5=[feeac5eb423634930294aa81f2d25a4c]\n",
       "link E10 to E3--><a href=\"psysml:fb12afbf-9138-40ff-bf3b-75b81b096774\" target=\"_top\" title=\"psysml:fb12afbf-9138-40ff-bf3b-75b81b096774\" xlink:actuate=\"onRequest\" xlink:href=\"psysml:fb12afbf-9138-40ff-bf3b-75b81b096774\" xlink:show=\"new\" xlink:title=\"psysml:fb12afbf-9138-40ff-bf3b-75b81b096774\" xlink:type=\"simple\"><path d=\"M70.35,194.01 C79.86,206.81 92.11,223.3 103.18,238.2 \" fill=\"none\" id=\"E10-&gt;E3\" style=\"stroke: #383838; stroke-width: 1.0;\"/><polygon fill=\"#FFFFFF\" points=\"115.4,254.66,98.4457,243.5896,109.6805,235.2361,115.4,254.66\" style=\"stroke: #383838; stroke-width: 1.0;\"/><ellipse cx=\"96.6496\" cy=\"237.8221\" fill=\"#383838\" rx=\"2\" ry=\"2\" style=\"stroke: #383838; stroke-width: 1.0;\"/><ellipse cx=\"104.6744\" cy=\"231.8554\" fill=\"#383838\" rx=\"2\" ry=\"2\" style=\"stroke: #383838; stroke-width: 1.0;\"/></a><!--MD5=[1fc04a95fd77ad5ce46c1a3027516051]\n",
       "reverse link E9 to E11--><a href=\"psysml:20edee2c-da5c-4ff9-9cec-febcc5f58071\" target=\"_top\" title=\"psysml:20edee2c-da5c-4ff9-9cec-febcc5f58071\" xlink:actuate=\"onRequest\" xlink:href=\"psysml:20edee2c-da5c-4ff9-9cec-febcc5f58071\" xlink:show=\"new\" xlink:title=\"psysml:20edee2c-da5c-4ff9-9cec-febcc5f58071\" xlink:type=\"simple\"><path d=\"M109.87,99.57 C114.84,115.39 120.59,133.68 124.98,147.66 \" fill=\"none\" id=\"E9&lt;-E11\" style=\"stroke: #383838; stroke-width: 1.0;\"/><polygon fill=\"#FFFFFF\" points=\"105.92,87.01,103.9044,93.9337,109.5203,98.4572,111.5359,91.5335,105.92,87.01\" style=\"stroke: #383838; stroke-width: 1.0;\"/><text fill=\"#000000\" font-family=\"sans-serif\" font-size=\"13\" lengthAdjust=\"spacingAndGlyphs\" textLength=\"8\" x=\"114.1561\" y=\"136.8492\">1</text></a><!--MD5=[0517f1ce58c4d5483948f93845c45e26]\n",
       "link E11 to E3--><a href=\"psysml:6098403c-f8e4-4c64-8bc6-7f6e4aceb826\" target=\"_top\" title=\"psysml:6098403c-f8e4-4c64-8bc6-7f6e4aceb826\" xlink:actuate=\"onRequest\" xlink:href=\"psysml:6098403c-f8e4-4c64-8bc6-7f6e4aceb826\" xlink:show=\"new\" xlink:title=\"psysml:6098403c-f8e4-4c64-8bc6-7f6e4aceb826\" xlink:type=\"simple\"><path d=\"M132,194.01 C132,205.69 132,220.46 132,234.28 \" fill=\"none\" id=\"E11-&gt;E3\" style=\"stroke: #383838; stroke-width: 1.0;\"/><polygon fill=\"#FFFFFF\" points=\"132,254.66,125,235.66,139,235.66,132,254.66\" style=\"stroke: #383838; stroke-width: 1.0;\"/><ellipse cx=\"127\" cy=\"229.96\" fill=\"#383838\" rx=\"2\" ry=\"2\" style=\"stroke: #383838; stroke-width: 1.0;\"/><ellipse cx=\"137\" cy=\"229.96\" fill=\"#383838\" rx=\"2\" ry=\"2\" style=\"stroke: #383838; stroke-width: 1.0;\"/></a><!--MD5=[f59b1073e875eea753337a7a6d019b51]\n",
       "@startuml\r\n",
       " skinparam monochrome true\r\n",
       "skinparam classbackgroundcolor white\r\n",
       "skinparam shadowing false\r\n",
       "skinparam wrapWidth 300\r\n",
       "hide circle\r\n",
       "\r\n",
       "package \"ItemTest\" as E1  [[psysml:05177c11-5394-41b2-a0a0-71a4c06ed611 ]]  {\r\n",
       "comp usage \"f: A \" as E2  <<(T,blue) item>> [[psysml:9b37ce48-aa06-4adb-ba3b-3b1410731947 ]] {\r\n",
       "}\r\n",
       "comp def \"A\" as E3  <<(T,blue) item  def>> [[psysml:373f36dd-9125-4f4d-9beb-8d6cd21e1469 ]] {\r\n",
       "}\r\n",
       "comp usage \"b: B \" as E4  <<(T,blue) item>> [[psysml:130e11a2-3d5f-4cd9-b0cd-9225a7528360 ]] {\r\n",
       "}\r\n",
       "comp usage \"c: C \" as E5  <<(T,blue) part>> [[psysml:80ae9a50-ac1f-4423-b935-68d8f5716f01 ]] {\r\n",
       "}\r\n",
       "comp def \"<i>B</i>\" as E6  <<(T,blue) item  def>> [[psysml:7d838d86-0408-4401-9cbf-32b733f3993a ]] {\r\n",
       "}\r\n",
       "comp usage \"<i>a</i>: A \" as E7  <<(T,blue) part>> [[psysml:d06b8fcb-8cda-493c-875d-bdf01ed715df ]] {\r\n",
       "}\r\n",
       "comp def \"C\" as E8  <<(T,blue) part  def>> [[psysml:a2efb8df-7581-49ed-b24f-8030c12b0405 ]] {\r\n",
       "}\r\n",
       "comp def \"P\" as E9  <<(T,blue) port  def>> [[psysml:91f3ce36-c57b-44eb-a625-32b1f3011842 ]] {\r\n",
       "}\r\n",
       "comp usage \"a1: A \" as E10  <<(T,blue) item>> [[psysml:5a8db81a-c733-4c6f-be90-4f9ffe214caa ]] {\r\n",
       "}\r\n",
       "comp usage \"a2: A \" as E11  <<(T,blue) item>> [[psysml:50797105-d3dc-4af6-be0e-986a23cb6cc7 ]] {\r\n",
       "}\r\n",
       "}\r\n",
       "E2 - -:|> E3 [[psysml:2d349f36-3ef3-481f-a80c-9f5be02d82e3 ]] \r\n",
       "E3 *- - \"1\"E4 [[psysml:1fc0b9c6-f917-494b-8539-e8a30a151a21 ]] \r\n",
       "E3 o- - \"1\"E5 [[psysml:1188b8bd-fcbe-4041-bfa3-3c6757b772de ]] \r\n",
       "E4 - -:|> E6 [[psysml:b444802f-fd06-4322-964d-2bd41504258e ]] \r\n",
       "E6 *- - \"1\"E7 [[psysml:fe8fc95e-22bb-46d1-b0fd-61d73c45474f ]] \r\n",
       "E7 - -:|> E3 [[psysml:599ea15b-bb0f-4f03-a502-f2e1a3a71e91 ]] \r\n",
       "E5 - -:|> E8 [[psysml:ebb03462-10dd-4a39-86ac-c1648f226bb6 ]] \r\n",
       "E8 o- - E3 [[psysml:4ca20137-091c-4af4-8b05-aa2379f8c92e ]] : y\r\n",
       "E8 o- - E6 [[psysml:4ca20137-091c-4af4-8b05-aa2379f8c92e ]] : y\r\n",
       "E9 o- - \"1\"E10 [[psysml:bbec5841-3ffd-488b-b643-01adfe752a25 ]] \r\n",
       "E10 - -:|> E3 [[psysml:fb12afbf-9138-40ff-bf3b-75b81b096774 ]] \r\n",
       "E9 o- - \"1\"E11 [[psysml:20edee2c-da5c-4ff9-9cec-febcc5f58071 ]] \r\n",
       "E11 - -:|> E3 [[psysml:6098403c-f8e4-4c64-8bc6-7f6e4aceb826 ]] \r\n",
       "@enduml\r\n",
       "\n",
       "PlantUML version 1.2020.13(Sat Jun 13 12:26:38 UTC 2020)\n",
       "(EPL source distribution)\n",
       "Java Runtime: OpenJDK Runtime Environment\n",
       "JVM: OpenJDK 64-Bit Server VM\n",
       "Default Encoding: UTF-8\n",
       "Language: en\n",
       "Country: null\n",
       "--></g></svg>"
      ]
     },
     "execution_count": 2,
     "metadata": {},
     "output_type": "execute_result"
    }
   ],
   "source": [
    "%viz --style=\"COMPTREE\" --view=\"Default\" \"ItemTest\""
   ]
  },
  {
   "cell_type": "code",
   "execution_count": 3,
   "id": "8d0f99b7",
   "metadata": {
    "execution": {
     "iopub.execute_input": "2022-04-22T09:48:22.927505Z",
     "iopub.status.busy": "2022-04-22T09:48:22.927027Z",
     "iopub.status.idle": "2022-04-22T09:48:23.012900Z",
     "shell.execute_reply": "2022-04-22T09:48:23.012706Z"
    }
   },
   "outputs": [
    {
     "data": {
      "image/svg+xml": [
       "<?xml version=\"1.0\" encoding=\"UTF-8\" standalone=\"no\"?><svg xmlns=\"http://www.w3.org/2000/svg\" xmlns:xlink=\"http://www.w3.org/1999/xlink\" contentScriptType=\"application/ecmascript\" contentStyleType=\"text/css\" height=\"818px\" preserveAspectRatio=\"none\" style=\"width:270px;height:818px;\" version=\"1.1\" viewBox=\"0 0 270 818\" width=\"270px\" zoomAndPan=\"magnify\"><defs/><g><!--MD5=[fbc87193dbaf4d95561dea2c320d4a47]\n",
       "cluster E1--><a href=\"psysml:05177c11-5394-41b2-a0a0-71a4c06ed611\" target=\"_top\" title=\"psysml:05177c11-5394-41b2-a0a0-71a4c06ed611\" xlink:actuate=\"onRequest\" xlink:href=\"psysml:05177c11-5394-41b2-a0a0-71a4c06ed611\" xlink:show=\"new\" xlink:title=\"psysml:05177c11-5394-41b2-a0a0-71a4c06ed611\" xlink:type=\"simple\"><polygon fill=\"#FFFFFF\" points=\"16,6,83,6,90,28.2969,248,28.2969,248,806,16,806,16,6\" style=\"stroke: #000000; stroke-width: 1.5;\"/><line style=\"stroke: #000000; stroke-width: 1.5;\" x1=\"16\" x2=\"90\" y1=\"28.2969\" y2=\"28.2969\"/><text fill=\"#000000\" font-family=\"sans-serif\" font-size=\"14\" font-weight=\"bold\" lengthAdjust=\"spacingAndGlyphs\" textLength=\"61\" x=\"20\" y=\"20.9951\">ItemTest</text></a><!--MD5=[b4997ac47864f28c2f74865a473b2911]\n",
       "class E2--><a href=\"psysml:9b37ce48-aa06-4adb-ba3b-3b1410731947\" target=\"_top\" title=\"psysml:9b37ce48-aa06-4adb-ba3b-3b1410731947\" xlink:actuate=\"onRequest\" xlink:href=\"psysml:9b37ce48-aa06-4adb-ba3b-3b1410731947\" xlink:show=\"new\" xlink:title=\"psysml:9b37ce48-aa06-4adb-ba3b-3b1410731947\" xlink:type=\"simple\"><rect fill=\"#FFFFFF\" height=\"45.9375\" id=\"E2\" rx=\"10\" ry=\"10\" style=\"stroke: #383838; stroke-width: 1.5;\" width=\"43\" x=\"188.5\" y=\"148\"/><text fill=\"#000000\" font-family=\"sans-serif\" font-size=\"12\" font-style=\"italic\" lengthAdjust=\"spacingAndGlyphs\" textLength=\"41\" x=\"189.5\" y=\"164.1387\">«item»</text><text fill=\"#000000\" font-family=\"sans-serif\" font-size=\"12\" lengthAdjust=\"spacingAndGlyphs\" textLength=\"20\" x=\"198\" y=\"178.1074\">f: A</text><line style=\"stroke: #383838; stroke-width: 1.5;\" x1=\"189.5\" x2=\"230.5\" y1=\"185.9375\" y2=\"185.9375\"/></a><!--MD5=[09b614a08d8cba4a07c9adeb5e0fee81]\n",
       "class E3--><a href=\"psysml:373f36dd-9125-4f4d-9beb-8d6cd21e1469\" target=\"_top\" title=\"psysml:373f36dd-9125-4f4d-9beb-8d6cd21e1469\" xlink:actuate=\"onRequest\" xlink:href=\"psysml:373f36dd-9125-4f4d-9beb-8d6cd21e1469\" xlink:show=\"new\" xlink:title=\"psysml:373f36dd-9125-4f4d-9beb-8d6cd21e1469\" xlink:type=\"simple\"><rect fill=\"#FFFFFF\" height=\"45.9375\" id=\"E3\" style=\"stroke: #383838; stroke-width: 1.5;\" width=\"71\" x=\"96.5\" y=\"255\"/><text fill=\"#000000\" font-family=\"sans-serif\" font-size=\"12\" font-style=\"italic\" lengthAdjust=\"spacingAndGlyphs\" textLength=\"69\" x=\"97.5\" y=\"271.1387\">«item  def»</text><text fill=\"#000000\" font-family=\"sans-serif\" font-size=\"12\" lengthAdjust=\"spacingAndGlyphs\" textLength=\"8\" x=\"128\" y=\"285.1074\">A</text><line style=\"stroke: #383838; stroke-width: 1.5;\" x1=\"97.5\" x2=\"166.5\" y1=\"292.9375\" y2=\"292.9375\"/></a><!--MD5=[ebbe1d658d1005bcc118a6aa81145e00]\n",
       "class E4--><a href=\"psysml:130e11a2-3d5f-4cd9-b0cd-9225a7528360\" target=\"_top\" title=\"psysml:130e11a2-3d5f-4cd9-b0cd-9225a7528360\" xlink:actuate=\"onRequest\" xlink:href=\"psysml:130e11a2-3d5f-4cd9-b0cd-9225a7528360\" xlink:show=\"new\" xlink:title=\"psysml:130e11a2-3d5f-4cd9-b0cd-9225a7528360\" xlink:type=\"simple\"><rect fill=\"#FFFFFF\" height=\"45.9375\" id=\"E4\" rx=\"10\" ry=\"10\" style=\"stroke: #383838; stroke-width: 1.5;\" width=\"43\" x=\"45.5\" y=\"438\"/><text fill=\"#000000\" font-family=\"sans-serif\" font-size=\"12\" font-style=\"italic\" lengthAdjust=\"spacingAndGlyphs\" textLength=\"41\" x=\"46.5\" y=\"454.1387\">«item»</text><text fill=\"#000000\" font-family=\"sans-serif\" font-size=\"12\" lengthAdjust=\"spacingAndGlyphs\" textLength=\"24\" x=\"53\" y=\"468.1074\">b: B</text><line style=\"stroke: #383838; stroke-width: 1.5;\" x1=\"46.5\" x2=\"87.5\" y1=\"475.9375\" y2=\"475.9375\"/></a><!--MD5=[270fce915f116d4de14055a7c1d9a0f3]\n",
       "class E5--><a href=\"psysml:80ae9a50-ac1f-4423-b935-68d8f5716f01\" target=\"_top\" title=\"psysml:80ae9a50-ac1f-4423-b935-68d8f5716f01\" xlink:actuate=\"onRequest\" xlink:href=\"psysml:80ae9a50-ac1f-4423-b935-68d8f5716f01\" xlink:show=\"new\" xlink:title=\"psysml:80ae9a50-ac1f-4423-b935-68d8f5716f01\" xlink:type=\"simple\"><rect fill=\"#FFFFFF\" height=\"45.9375\" id=\"E5\" rx=\"10\" ry=\"10\" style=\"stroke: #383838; stroke-width: 1.5;\" width=\"42\" x=\"151\" y=\"362\"/><text fill=\"#000000\" font-family=\"sans-serif\" font-size=\"12\" font-style=\"italic\" lengthAdjust=\"spacingAndGlyphs\" textLength=\"40\" x=\"152\" y=\"378.1387\">«part»</text><text fill=\"#000000\" font-family=\"sans-serif\" font-size=\"12\" lengthAdjust=\"spacingAndGlyphs\" textLength=\"23\" x=\"158.5\" y=\"392.1074\">c: C</text><line style=\"stroke: #383838; stroke-width: 1.5;\" x1=\"152\" x2=\"192\" y1=\"399.9375\" y2=\"399.9375\"/></a><!--MD5=[60a26617385b1d2d0262a64233df1f8d]\n",
       "class E6--><a href=\"psysml:7d838d86-0408-4401-9cbf-32b733f3993a\" target=\"_top\" title=\"psysml:7d838d86-0408-4401-9cbf-32b733f3993a\" xlink:actuate=\"onRequest\" xlink:href=\"psysml:7d838d86-0408-4401-9cbf-32b733f3993a\" xlink:show=\"new\" xlink:title=\"psysml:7d838d86-0408-4401-9cbf-32b733f3993a\" xlink:type=\"simple\"><rect fill=\"#FFFFFF\" height=\"45.9375\" id=\"E6\" style=\"stroke: #383838; stroke-width: 1.5;\" width=\"71\" x=\"112.5\" y=\"637\"/><text fill=\"#000000\" font-family=\"sans-serif\" font-size=\"12\" font-style=\"italic\" lengthAdjust=\"spacingAndGlyphs\" textLength=\"69\" x=\"113.5\" y=\"653.1387\">«item  def»</text><text fill=\"#000000\" font-family=\"sans-serif\" font-size=\"12\" font-style=\"italic\" lengthAdjust=\"spacingAndGlyphs\" textLength=\"8\" x=\"144\" y=\"667.1074\">B</text><line style=\"stroke: #383838; stroke-width: 1.5;\" x1=\"113.5\" x2=\"182.5\" y1=\"674.9375\" y2=\"674.9375\"/></a><!--MD5=[2156ba9850f5573cc1fc38a6a4b2f02b]\n",
       "class E7--><a href=\"psysml:d06b8fcb-8cda-493c-875d-bdf01ed715df\" target=\"_top\" title=\"psysml:d06b8fcb-8cda-493c-875d-bdf01ed715df\" xlink:actuate=\"onRequest\" xlink:href=\"psysml:d06b8fcb-8cda-493c-875d-bdf01ed715df\" xlink:show=\"new\" xlink:title=\"psysml:d06b8fcb-8cda-493c-875d-bdf01ed715df\" xlink:type=\"simple\"><rect fill=\"#FFFFFF\" height=\"45.9375\" id=\"E7\" rx=\"10\" ry=\"10\" style=\"stroke: #383838; stroke-width: 1.5;\" width=\"42\" x=\"159\" y=\"744\"/><text fill=\"#000000\" font-family=\"sans-serif\" font-size=\"12\" font-style=\"italic\" lengthAdjust=\"spacingAndGlyphs\" textLength=\"40\" x=\"160\" y=\"760.1387\">«part»</text><text fill=\"#000000\" font-family=\"sans-serif\" font-size=\"12\" font-style=\"italic\" lengthAdjust=\"spacingAndGlyphs\" textLength=\"8\" x=\"166\" y=\"774.1074\">a</text><text fill=\"#000000\" font-family=\"sans-serif\" font-size=\"12\" lengthAdjust=\"spacingAndGlyphs\" textLength=\"16\" x=\"174\" y=\"774.1074\">: A</text><line style=\"stroke: #383838; stroke-width: 1.5;\" x1=\"160\" x2=\"200\" y1=\"781.9375\" y2=\"781.9375\"/></a><!--MD5=[b9389687b975829384b498ac4b7476b2]\n",
       "class E8--><a href=\"psysml:a2efb8df-7581-49ed-b24f-8030c12b0405\" target=\"_top\" title=\"psysml:a2efb8df-7581-49ed-b24f-8030c12b0405\" xlink:actuate=\"onRequest\" xlink:href=\"psysml:a2efb8df-7581-49ed-b24f-8030c12b0405\" xlink:show=\"new\" xlink:title=\"psysml:a2efb8df-7581-49ed-b24f-8030c12b0405\" xlink:type=\"simple\"><rect fill=\"#FFFFFF\" height=\"45.9375\" id=\"E8\" style=\"stroke: #383838; stroke-width: 1.5;\" width=\"70\" x=\"113\" y=\"514\"/><text fill=\"#000000\" font-family=\"sans-serif\" font-size=\"12\" font-style=\"italic\" lengthAdjust=\"spacingAndGlyphs\" textLength=\"68\" x=\"114\" y=\"530.1387\">«part  def»</text><text fill=\"#000000\" font-family=\"sans-serif\" font-size=\"12\" lengthAdjust=\"spacingAndGlyphs\" textLength=\"8\" x=\"144\" y=\"544.1074\">C</text><line style=\"stroke: #383838; stroke-width: 1.5;\" x1=\"114\" x2=\"182\" y1=\"551.9375\" y2=\"551.9375\"/></a><!--MD5=[fd4143e9d270a159db93a4ea2a975926]\n",
       "class E9--><a href=\"psysml:91f3ce36-c57b-44eb-a625-32b1f3011842\" target=\"_top\" title=\"psysml:91f3ce36-c57b-44eb-a625-32b1f3011842\" xlink:actuate=\"onRequest\" xlink:href=\"psysml:91f3ce36-c57b-44eb-a625-32b1f3011842\" xlink:show=\"new\" xlink:title=\"psysml:91f3ce36-c57b-44eb-a625-32b1f3011842\" xlink:type=\"simple\"><rect fill=\"#FFFFFF\" height=\"45.9375\" id=\"E9\" style=\"stroke: #383838; stroke-width: 1.5;\" width=\"70\" x=\"64\" y=\"41\"/><text fill=\"#000000\" font-family=\"sans-serif\" font-size=\"12\" font-style=\"italic\" lengthAdjust=\"spacingAndGlyphs\" textLength=\"68\" x=\"65\" y=\"57.1387\">«port  def»</text><text fill=\"#000000\" font-family=\"sans-serif\" font-size=\"12\" lengthAdjust=\"spacingAndGlyphs\" textLength=\"8\" x=\"95\" y=\"71.1074\">P</text><line style=\"stroke: #383838; stroke-width: 1.5;\" x1=\"65\" x2=\"133\" y1=\"78.9375\" y2=\"78.9375\"/></a><!--MD5=[96f4274e9e20536e775497830990834d]\n",
       "class E10--><a href=\"psysml:5a8db81a-c733-4c6f-be90-4f9ffe214caa\" target=\"_top\" title=\"psysml:5a8db81a-c733-4c6f-be90-4f9ffe214caa\" xlink:actuate=\"onRequest\" xlink:href=\"psysml:5a8db81a-c733-4c6f-be90-4f9ffe214caa\" xlink:show=\"new\" xlink:title=\"psysml:5a8db81a-c733-4c6f-be90-4f9ffe214caa\" xlink:type=\"simple\"><rect fill=\"#FFFFFF\" height=\"45.9375\" id=\"E10\" rx=\"10\" ry=\"10\" style=\"stroke: #383838; stroke-width: 1.5;\" width=\"43\" x=\"32.5\" y=\"148\"/><text fill=\"#000000\" font-family=\"sans-serif\" font-size=\"12\" font-style=\"italic\" lengthAdjust=\"spacingAndGlyphs\" textLength=\"41\" x=\"33.5\" y=\"164.1387\">«item»</text><text fill=\"#000000\" font-family=\"sans-serif\" font-size=\"12\" lengthAdjust=\"spacingAndGlyphs\" textLength=\"32\" x=\"36\" y=\"178.1074\">a1: A</text><line style=\"stroke: #383838; stroke-width: 1.5;\" x1=\"33.5\" x2=\"74.5\" y1=\"185.9375\" y2=\"185.9375\"/></a><!--MD5=[1dd1bfd58a279cf63c5f349dbc8fc6a1]\n",
       "class E11--><a href=\"psysml:50797105-d3dc-4af6-be0e-986a23cb6cc7\" target=\"_top\" title=\"psysml:50797105-d3dc-4af6-be0e-986a23cb6cc7\" xlink:actuate=\"onRequest\" xlink:href=\"psysml:50797105-d3dc-4af6-be0e-986a23cb6cc7\" xlink:show=\"new\" xlink:title=\"psysml:50797105-d3dc-4af6-be0e-986a23cb6cc7\" xlink:type=\"simple\"><rect fill=\"#FFFFFF\" height=\"45.9375\" id=\"E11\" rx=\"10\" ry=\"10\" style=\"stroke: #383838; stroke-width: 1.5;\" width=\"43\" x=\"110.5\" y=\"148\"/><text fill=\"#000000\" font-family=\"sans-serif\" font-size=\"12\" font-style=\"italic\" lengthAdjust=\"spacingAndGlyphs\" textLength=\"41\" x=\"111.5\" y=\"164.1387\">«item»</text><text fill=\"#000000\" font-family=\"sans-serif\" font-size=\"12\" lengthAdjust=\"spacingAndGlyphs\" textLength=\"32\" x=\"114\" y=\"178.1074\">a2: A</text><line style=\"stroke: #383838; stroke-width: 1.5;\" x1=\"111.5\" x2=\"152.5\" y1=\"185.9375\" y2=\"185.9375\"/></a><!--MD5=[2720a5a1f2c3fca2055b230370638851]\n",
       "link E2 to E3--><a href=\"psysml:2d349f36-3ef3-481f-a80c-9f5be02d82e3\" target=\"_top\" title=\"psysml:2d349f36-3ef3-481f-a80c-9f5be02d82e3\" xlink:actuate=\"onRequest\" xlink:href=\"psysml:2d349f36-3ef3-481f-a80c-9f5be02d82e3\" xlink:show=\"new\" xlink:title=\"psysml:2d349f36-3ef3-481f-a80c-9f5be02d82e3\" xlink:type=\"simple\"><path d=\"M193.65,194.01 C184.14,206.81 171.89,223.3 160.82,238.2 \" fill=\"none\" id=\"E2-&gt;E3\" style=\"stroke: #383838; stroke-width: 1.0;\"/><polygon fill=\"#FFFFFF\" points=\"148.6,254.66,154.3195,235.2361,165.5543,243.5896,148.6,254.66\" style=\"stroke: #383838; stroke-width: 1.0;\"/><ellipse cx=\"159.3256\" cy=\"231.8554\" fill=\"#383838\" rx=\"2\" ry=\"2\" style=\"stroke: #383838; stroke-width: 1.0;\"/><ellipse cx=\"167.3504\" cy=\"237.8221\" fill=\"#383838\" rx=\"2\" ry=\"2\" style=\"stroke: #383838; stroke-width: 1.0;\"/></a><!--MD5=[4672eba38e49728da53d11aeb285b987]\n",
       "reverse link E3 to E4--><a href=\"psysml:1fc0b9c6-f917-494b-8539-e8a30a151a21\" target=\"_top\" title=\"psysml:1fc0b9c6-f917-494b-8539-e8a30a151a21\" xlink:actuate=\"onRequest\" xlink:href=\"psysml:1fc0b9c6-f917-494b-8539-e8a30a151a21\" xlink:show=\"new\" xlink:title=\"psysml:1fc0b9c6-f917-494b-8539-e8a30a151a21\" xlink:type=\"simple\"><path d=\"M97.11,310.9 C84.08,325.11 70.81,342.94 64,362 C55.12,386.85 58.09,417.53 61.82,437.88 \" fill=\"none\" id=\"E3&lt;-E4\" style=\"stroke: #383838; stroke-width: 1.0;\"/><polygon fill=\"#383838\" points=\"106.46,301.23,99.4153,302.7703,98.1277,309.8655,105.1724,308.3252,106.46,301.23\" style=\"stroke: #383838; stroke-width: 1.0;\"/><text fill=\"#000000\" font-family=\"sans-serif\" font-size=\"13\" lengthAdjust=\"spacingAndGlyphs\" textLength=\"8\" x=\"51.3529\" y=\"426.744\">1</text></a><!--MD5=[191cde3d490a3f6d7bb551fe3ddca469]\n",
       "reverse link E3 to E5--><a href=\"psysml:1188b8bd-fcbe-4041-bfa3-3c6757b772de\" target=\"_top\" title=\"psysml:1188b8bd-fcbe-4041-bfa3-3c6757b772de\" xlink:actuate=\"onRequest\" xlink:href=\"psysml:1188b8bd-fcbe-4041-bfa3-3c6757b772de\" xlink:show=\"new\" xlink:title=\"psysml:1188b8bd-fcbe-4041-bfa3-3c6757b772de\" xlink:type=\"simple\"><path d=\"M145.17,313.57 C151.2,329.39 158.16,347.68 163.49,361.66 \" fill=\"none\" id=\"E3&lt;-E5\" style=\"stroke: #383838; stroke-width: 1.0;\"/><polygon fill=\"#FFFFFF\" points=\"140.39,301.01,138.7866,308.0406,144.6598,312.2247,146.2631,305.1941,140.39,301.01\" style=\"stroke: #383838; stroke-width: 1.0;\"/><text fill=\"#000000\" font-family=\"sans-serif\" font-size=\"13\" lengthAdjust=\"spacingAndGlyphs\" textLength=\"8\" x=\"152.2843\" y=\"350.8492\">1</text></a><!--MD5=[79568f1e445c3877b6a54524624ccc7d]\n",
       "link E4 to E6--><a href=\"psysml:b444802f-fd06-4322-964d-2bd41504258e\" target=\"_top\" title=\"psysml:b444802f-fd06-4322-964d-2bd41504258e\" xlink:actuate=\"onRequest\" xlink:href=\"psysml:b444802f-fd06-4322-964d-2bd41504258e\" xlink:show=\"new\" xlink:title=\"psysml:b444802f-fd06-4322-964d-2bd41504258e\" xlink:type=\"simple\"><path d=\"M72.25,484.22 C77.31,504.36 85.72,534.68 96,560 C104.15,580.08 115.08,601.47 124.82,619.21 \" fill=\"none\" id=\"E4-&gt;E6\" style=\"stroke: #383838; stroke-width: 1.0;\"/><polygon fill=\"#FFFFFF\" points=\"134.72,636.8,119.2979,623.6791,131.4967,616.8097,134.72,636.8\" style=\"stroke: #383838; stroke-width: 1.0;\"/><ellipse cx=\"118.2438\" cy=\"617.7311\" fill=\"#383838\" rx=\"2\" ry=\"2\" style=\"stroke: #383838; stroke-width: 1.0;\"/><ellipse cx=\"126.9572\" cy=\"612.8244\" fill=\"#383838\" rx=\"2\" ry=\"2\" style=\"stroke: #383838; stroke-width: 1.0;\"/></a><!--MD5=[3f50a3473f1dfb74d3f76443e03635af]\n",
       "reverse link E6 to E7--><a href=\"psysml:fe8fc95e-22bb-46d1-b0fd-61d73c45474f\" target=\"_top\" title=\"psysml:fe8fc95e-22bb-46d1-b0fd-61d73c45474f\" xlink:actuate=\"onRequest\" xlink:href=\"psysml:fe8fc95e-22bb-46d1-b0fd-61d73c45474f\" xlink:show=\"new\" xlink:title=\"psysml:fe8fc95e-22bb-46d1-b0fd-61d73c45474f\" xlink:type=\"simple\"><path d=\"M158.54,695.57 C163.36,711.39 168.93,729.68 173.19,743.66 \" fill=\"none\" id=\"E6&lt;-E7\" style=\"stroke: #383838; stroke-width: 1.0;\"/><polygon fill=\"#383838\" points=\"154.71,683.01,152.6319,689.9152,158.2066,694.4893,160.2847,687.5841,154.71,683.01\" style=\"stroke: #383838; stroke-width: 1.0;\"/><text fill=\"#000000\" font-family=\"sans-serif\" font-size=\"13\" lengthAdjust=\"spacingAndGlyphs\" textLength=\"8\" x=\"162.4199\" y=\"732.8492\">1</text></a><!--MD5=[14ccda38c055a5c0da953d572bc50960]\n",
       "link E7 to E3--><a href=\"psysml:599ea15b-bb0f-4f03-a502-f2e1a3a71e91\" target=\"_top\" title=\"psysml:599ea15b-bb0f-4f03-a502-f2e1a3a71e91\" xlink:actuate=\"onRequest\" xlink:href=\"psysml:599ea15b-bb0f-4f03-a502-f2e1a3a71e91\" xlink:show=\"new\" xlink:title=\"psysml:599ea15b-bb0f-4f03-a502-f2e1a3a71e91\" xlink:type=\"simple\"><path d=\"M197.41,743.63 C211.5,723.27 229,691.78 229,661 C229,384 229,384 229,384 C229,353.7 206.93,328.42 183.85,310.26 \" fill=\"none\" id=\"E7-&gt;E3\" style=\"stroke: #383838; stroke-width: 1.0;\"/><polygon fill=\"#FFFFFF\" points=\"167.57,298.59,187.0929,303.9617,178.9414,315.3438,167.57,298.59\" style=\"stroke: #383838; stroke-width: 1.0;\"/><ellipse cx=\"190.5626\" cy=\"308.9066\" fill=\"#383838\" rx=\"2\" ry=\"2\" style=\"stroke: #383838; stroke-width: 1.0;\"/><ellipse cx=\"184.7401\" cy=\"317.0367\" fill=\"#383838\" rx=\"2\" ry=\"2\" style=\"stroke: #383838; stroke-width: 1.0;\"/></a><!--MD5=[dfaffb906826c3e5aca635516100ff21]\n",
       "link E5 to E8--><a href=\"psysml:ebb03462-10dd-4a39-86ac-c1648f226bb6\" target=\"_top\" title=\"psysml:ebb03462-10dd-4a39-86ac-c1648f226bb6\" xlink:actuate=\"onRequest\" xlink:href=\"psysml:ebb03462-10dd-4a39-86ac-c1648f226bb6\" xlink:show=\"new\" xlink:title=\"psysml:ebb03462-10dd-4a39-86ac-c1648f226bb6\" xlink:type=\"simple\"><path d=\"M168.46,408.13 C164.86,430.62 159.2,466.01 154.74,493.87 \" fill=\"none\" id=\"E5-&gt;E8\" style=\"stroke: #383838; stroke-width: 1.0;\"/><polygon fill=\"#FFFFFF\" points=\"151.56,513.78,147.6458,493.9135,161.4704,496.1226,151.56,513.78\" style=\"stroke: #383838; stroke-width: 1.0;\"/><ellipse cx=\"150.5202\" cy=\"488.6005\" fill=\"#383838\" rx=\"2\" ry=\"2\" style=\"stroke: #383838; stroke-width: 1.0;\"/><ellipse cx=\"160.3949\" cy=\"490.1784\" fill=\"#383838\" rx=\"2\" ry=\"2\" style=\"stroke: #383838; stroke-width: 1.0;\"/></a><!--MD5=[03c8294790d3c57651a1993cecff665f]\n",
       "reverse link E8 to E3--><a href=\"psysml:4ca20137-091c-4af4-8b05-aa2379f8c92e\" target=\"_top\" title=\"psysml:4ca20137-091c-4af4-8b05-aa2379f8c92e\" xlink:actuate=\"onRequest\" xlink:href=\"psysml:4ca20137-091c-4af4-8b05-aa2379f8c92e\" xlink:show=\"new\" xlink:title=\"psysml:4ca20137-091c-4af4-8b05-aa2379f8c92e\" xlink:type=\"simple\"><path d=\"M140.02,501.22 C134.57,475.6 127.84,439.84 125,408 C123.18,387.64 124.14,382.43 125,362 C125.87,341.34 127.95,317.86 129.62,301.16 \" fill=\"none\" id=\"E8&lt;-E3\" style=\"stroke: #383838; stroke-width: 1.0;\"/><polygon fill=\"#FFFFFF\" points=\"142.81,513.96,145.4388,507.2451,140.2515,502.2359,137.6227,508.9508,142.81,513.96\" style=\"stroke: #383838; stroke-width: 1.0;\"/><text fill=\"#000000\" font-family=\"sans-serif\" font-size=\"13\" lengthAdjust=\"spacingAndGlyphs\" textLength=\"7\" x=\"126\" y=\"389.5669\">y</text></a><!--MD5=[0d75d2178373a6a4568e5dc728f58aef]\n",
       "reverse link E8 to E6--><a href=\"psysml:4ca20137-091c-4af4-8b05-aa2379f8c92e\" target=\"_top\" title=\"psysml:4ca20137-091c-4af4-8b05-aa2379f8c92e\" xlink:actuate=\"onRequest\" xlink:href=\"psysml:4ca20137-091c-4af4-8b05-aa2379f8c92e\" xlink:show=\"new\" xlink:title=\"psysml:4ca20137-091c-4af4-8b05-aa2379f8c92e\" xlink:type=\"simple\"><path d=\"M148,573.22 C148,593.81 148,619.16 148,636.95 \" fill=\"none\" id=\"E8&lt;-E6\" style=\"stroke: #383838; stroke-width: 1.0;\"/><polygon fill=\"#FFFFFF\" points=\"148,560.19,144,566.19,148,572.19,152,566.19,148,560.19\" style=\"stroke: #383838; stroke-width: 1.0;\"/><text fill=\"#000000\" font-family=\"sans-serif\" font-size=\"13\" lengthAdjust=\"spacingAndGlyphs\" textLength=\"7\" x=\"149\" y=\"603.0669\">y</text></a><!--MD5=[23ac544a70576c3e717098101004234c]\n",
       "reverse link E9 to E10--><a href=\"psysml:bbec5841-3ffd-488b-b643-01adfe752a25\" target=\"_top\" title=\"psysml:bbec5841-3ffd-488b-b643-01adfe752a25\" xlink:actuate=\"onRequest\" xlink:href=\"psysml:bbec5841-3ffd-488b-b643-01adfe752a25\" xlink:show=\"new\" xlink:title=\"psysml:bbec5841-3ffd-488b-b643-01adfe752a25\" xlink:type=\"simple\"><path d=\"M84.39,99.1 C77.56,115.03 69.63,133.54 63.58,147.66 \" fill=\"none\" id=\"E9&lt;-E10\" style=\"stroke: #383838; stroke-width: 1.0;\"/><polygon fill=\"#FFFFFF\" points=\"89.57,87.01,83.5327,90.9535,84.8509,98.0431,90.8882,94.0996,89.57,87.01\" style=\"stroke: #383838; stroke-width: 1.0;\"/><text fill=\"#000000\" font-family=\"sans-serif\" font-size=\"13\" lengthAdjust=\"spacingAndGlyphs\" textLength=\"8\" x=\"57.0099\" y=\"136.8492\">1</text></a><!--MD5=[feeac5eb423634930294aa81f2d25a4c]\n",
       "link E10 to E3--><a href=\"psysml:fb12afbf-9138-40ff-bf3b-75b81b096774\" target=\"_top\" title=\"psysml:fb12afbf-9138-40ff-bf3b-75b81b096774\" xlink:actuate=\"onRequest\" xlink:href=\"psysml:fb12afbf-9138-40ff-bf3b-75b81b096774\" xlink:show=\"new\" xlink:title=\"psysml:fb12afbf-9138-40ff-bf3b-75b81b096774\" xlink:type=\"simple\"><path d=\"M70.35,194.01 C79.86,206.81 92.11,223.3 103.18,238.2 \" fill=\"none\" id=\"E10-&gt;E3\" style=\"stroke: #383838; stroke-width: 1.0;\"/><polygon fill=\"#FFFFFF\" points=\"115.4,254.66,98.4457,243.5896,109.6805,235.2361,115.4,254.66\" style=\"stroke: #383838; stroke-width: 1.0;\"/><ellipse cx=\"96.6496\" cy=\"237.8221\" fill=\"#383838\" rx=\"2\" ry=\"2\" style=\"stroke: #383838; stroke-width: 1.0;\"/><ellipse cx=\"104.6744\" cy=\"231.8554\" fill=\"#383838\" rx=\"2\" ry=\"2\" style=\"stroke: #383838; stroke-width: 1.0;\"/></a><!--MD5=[1fc04a95fd77ad5ce46c1a3027516051]\n",
       "reverse link E9 to E11--><a href=\"psysml:20edee2c-da5c-4ff9-9cec-febcc5f58071\" target=\"_top\" title=\"psysml:20edee2c-da5c-4ff9-9cec-febcc5f58071\" xlink:actuate=\"onRequest\" xlink:href=\"psysml:20edee2c-da5c-4ff9-9cec-febcc5f58071\" xlink:show=\"new\" xlink:title=\"psysml:20edee2c-da5c-4ff9-9cec-febcc5f58071\" xlink:type=\"simple\"><path d=\"M109.87,99.57 C114.84,115.39 120.59,133.68 124.98,147.66 \" fill=\"none\" id=\"E9&lt;-E11\" style=\"stroke: #383838; stroke-width: 1.0;\"/><polygon fill=\"#FFFFFF\" points=\"105.92,87.01,103.9044,93.9337,109.5203,98.4572,111.5359,91.5335,105.92,87.01\" style=\"stroke: #383838; stroke-width: 1.0;\"/><text fill=\"#000000\" font-family=\"sans-serif\" font-size=\"13\" lengthAdjust=\"spacingAndGlyphs\" textLength=\"8\" x=\"114.1561\" y=\"136.8492\">1</text></a><!--MD5=[0517f1ce58c4d5483948f93845c45e26]\n",
       "link E11 to E3--><a href=\"psysml:6098403c-f8e4-4c64-8bc6-7f6e4aceb826\" target=\"_top\" title=\"psysml:6098403c-f8e4-4c64-8bc6-7f6e4aceb826\" xlink:actuate=\"onRequest\" xlink:href=\"psysml:6098403c-f8e4-4c64-8bc6-7f6e4aceb826\" xlink:show=\"new\" xlink:title=\"psysml:6098403c-f8e4-4c64-8bc6-7f6e4aceb826\" xlink:type=\"simple\"><path d=\"M132,194.01 C132,205.69 132,220.46 132,234.28 \" fill=\"none\" id=\"E11-&gt;E3\" style=\"stroke: #383838; stroke-width: 1.0;\"/><polygon fill=\"#FFFFFF\" points=\"132,254.66,125,235.66,139,235.66,132,254.66\" style=\"stroke: #383838; stroke-width: 1.0;\"/><ellipse cx=\"127\" cy=\"229.96\" fill=\"#383838\" rx=\"2\" ry=\"2\" style=\"stroke: #383838; stroke-width: 1.0;\"/><ellipse cx=\"137\" cy=\"229.96\" fill=\"#383838\" rx=\"2\" ry=\"2\" style=\"stroke: #383838; stroke-width: 1.0;\"/></a><!--MD5=[f59b1073e875eea753337a7a6d019b51]\n",
       "@startuml\r\n",
       " skinparam monochrome true\r\n",
       "skinparam classbackgroundcolor white\r\n",
       "skinparam shadowing false\r\n",
       "skinparam wrapWidth 300\r\n",
       "hide circle\r\n",
       "\r\n",
       "package \"ItemTest\" as E1  [[psysml:05177c11-5394-41b2-a0a0-71a4c06ed611 ]]  {\r\n",
       "comp usage \"f: A \" as E2  <<(T,blue) item>> [[psysml:9b37ce48-aa06-4adb-ba3b-3b1410731947 ]] {\r\n",
       "}\r\n",
       "comp def \"A\" as E3  <<(T,blue) item  def>> [[psysml:373f36dd-9125-4f4d-9beb-8d6cd21e1469 ]] {\r\n",
       "}\r\n",
       "comp usage \"b: B \" as E4  <<(T,blue) item>> [[psysml:130e11a2-3d5f-4cd9-b0cd-9225a7528360 ]] {\r\n",
       "}\r\n",
       "comp usage \"c: C \" as E5  <<(T,blue) part>> [[psysml:80ae9a50-ac1f-4423-b935-68d8f5716f01 ]] {\r\n",
       "}\r\n",
       "comp def \"<i>B</i>\" as E6  <<(T,blue) item  def>> [[psysml:7d838d86-0408-4401-9cbf-32b733f3993a ]] {\r\n",
       "}\r\n",
       "comp usage \"<i>a</i>: A \" as E7  <<(T,blue) part>> [[psysml:d06b8fcb-8cda-493c-875d-bdf01ed715df ]] {\r\n",
       "}\r\n",
       "comp def \"C\" as E8  <<(T,blue) part  def>> [[psysml:a2efb8df-7581-49ed-b24f-8030c12b0405 ]] {\r\n",
       "}\r\n",
       "comp def \"P\" as E9  <<(T,blue) port  def>> [[psysml:91f3ce36-c57b-44eb-a625-32b1f3011842 ]] {\r\n",
       "}\r\n",
       "comp usage \"a1: A \" as E10  <<(T,blue) item>> [[psysml:5a8db81a-c733-4c6f-be90-4f9ffe214caa ]] {\r\n",
       "}\r\n",
       "comp usage \"a2: A \" as E11  <<(T,blue) item>> [[psysml:50797105-d3dc-4af6-be0e-986a23cb6cc7 ]] {\r\n",
       "}\r\n",
       "}\r\n",
       "E2 - -:|> E3 [[psysml:2d349f36-3ef3-481f-a80c-9f5be02d82e3 ]] \r\n",
       "E3 *- - \"1\"E4 [[psysml:1fc0b9c6-f917-494b-8539-e8a30a151a21 ]] \r\n",
       "E3 o- - \"1\"E5 [[psysml:1188b8bd-fcbe-4041-bfa3-3c6757b772de ]] \r\n",
       "E4 - -:|> E6 [[psysml:b444802f-fd06-4322-964d-2bd41504258e ]] \r\n",
       "E6 *- - \"1\"E7 [[psysml:fe8fc95e-22bb-46d1-b0fd-61d73c45474f ]] \r\n",
       "E7 - -:|> E3 [[psysml:599ea15b-bb0f-4f03-a502-f2e1a3a71e91 ]] \r\n",
       "E5 - -:|> E8 [[psysml:ebb03462-10dd-4a39-86ac-c1648f226bb6 ]] \r\n",
       "E8 o- - E3 [[psysml:4ca20137-091c-4af4-8b05-aa2379f8c92e ]] : y\r\n",
       "E8 o- - E6 [[psysml:4ca20137-091c-4af4-8b05-aa2379f8c92e ]] : y\r\n",
       "E9 o- - \"1\"E10 [[psysml:bbec5841-3ffd-488b-b643-01adfe752a25 ]] \r\n",
       "E10 - -:|> E3 [[psysml:fb12afbf-9138-40ff-bf3b-75b81b096774 ]] \r\n",
       "E9 o- - \"1\"E11 [[psysml:20edee2c-da5c-4ff9-9cec-febcc5f58071 ]] \r\n",
       "E11 - -:|> E3 [[psysml:6098403c-f8e4-4c64-8bc6-7f6e4aceb826 ]] \r\n",
       "@enduml\r\n",
       "\n",
       "PlantUML version 1.2020.13(Sat Jun 13 12:26:38 UTC 2020)\n",
       "(EPL source distribution)\n",
       "Java Runtime: OpenJDK Runtime Environment\n",
       "JVM: OpenJDK 64-Bit Server VM\n",
       "Default Encoding: UTF-8\n",
       "Language: en\n",
       "Country: null\n",
       "--></g></svg>"
      ]
     },
     "execution_count": 3,
     "metadata": {},
     "output_type": "execute_result"
    }
   ],
   "source": [
    "%viz --style=\"COMPTREE\" --view=\"Tree\" \"ItemTest\""
   ]
  },
  {
   "cell_type": "code",
   "execution_count": 4,
   "id": "ea137670",
   "metadata": {
    "execution": {
     "iopub.execute_input": "2022-04-22T09:48:23.063640Z",
     "iopub.status.busy": "2022-04-22T09:48:23.063296Z",
     "iopub.status.idle": "2022-04-22T09:48:23.071492Z",
     "shell.execute_reply": "2022-04-22T09:48:23.071817Z"
    }
   },
   "outputs": [
    {
     "data": {
      "image/svg+xml": [
       "<?xml version=\"1.0\" encoding=\"UTF-8\" standalone=\"no\"?><svg xmlns=\"http://www.w3.org/2000/svg\" xmlns:xlink=\"http://www.w3.org/1999/xlink\" contentScriptType=\"application/ecmascript\" contentStyleType=\"text/css\" height=\"12px\" preserveAspectRatio=\"none\" style=\"width:12px;height:12px;\" version=\"1.1\" viewBox=\"0 0 12 12\" width=\"12px\" zoomAndPan=\"magnify\"><defs/><g><!--MD5=[f19188ef49e11757b5c46753f95d9edc]\n",
       "@startuml\r\n",
       " skinparam monochrome true\r\n",
       "skinparam classbackgroundcolor white\r\n",
       "skinparam shadowing false\r\n",
       "skinparam wrapWidth 300\r\n",
       "hide circle\r\n",
       "\r\n",
       "@enduml\r\n",
       "\n",
       "PlantUML version 1.2020.13(Sat Jun 13 12:26:38 UTC 2020)\n",
       "(EPL source distribution)\n",
       "Java Runtime: OpenJDK Runtime Environment\n",
       "JVM: OpenJDK 64-Bit Server VM\n",
       "Default Encoding: UTF-8\n",
       "Language: en\n",
       "Country: null\n",
       "--></g></svg>"
      ]
     },
     "execution_count": 4,
     "metadata": {},
     "output_type": "execute_result"
    }
   ],
   "source": [
    "%viz --style=\"COMPTREE\" --view=\"State\" \"ItemTest\""
   ]
  },
  {
   "cell_type": "code",
   "execution_count": 5,
   "id": "30bf52f3",
   "metadata": {
    "execution": {
     "iopub.execute_input": "2022-04-22T09:48:23.122294Z",
     "iopub.status.busy": "2022-04-22T09:48:23.121885Z",
     "iopub.status.idle": "2022-04-22T09:48:23.172728Z",
     "shell.execute_reply": "2022-04-22T09:48:23.173024Z"
    }
   },
   "outputs": [
    {
     "data": {
      "image/svg+xml": [
       "<?xml version=\"1.0\" encoding=\"UTF-8\" standalone=\"no\"?><svg xmlns=\"http://www.w3.org/2000/svg\" xmlns:xlink=\"http://www.w3.org/1999/xlink\" contentScriptType=\"application/ecmascript\" contentStyleType=\"text/css\" height=\"179px\" preserveAspectRatio=\"none\" style=\"width:474px;height:179px;\" version=\"1.1\" viewBox=\"0 0 474 179\" width=\"474px\" zoomAndPan=\"magnify\"><defs/><g><!--MD5=[fbc87193dbaf4d95561dea2c320d4a47]\n",
       "cluster E1--><a href=\"psysml:05177c11-5394-41b2-a0a0-71a4c06ed611\" target=\"_top\" title=\"psysml:05177c11-5394-41b2-a0a0-71a4c06ed611\" xlink:actuate=\"onRequest\" xlink:href=\"psysml:05177c11-5394-41b2-a0a0-71a4c06ed611\" xlink:show=\"new\" xlink:title=\"psysml:05177c11-5394-41b2-a0a0-71a4c06ed611\" xlink:type=\"simple\"><polygon fill=\"#FFFFFF\" points=\"16,6,83,6,90,28.2969,452,28.2969,452,167,16,167,16,6\" style=\"stroke: #000000; stroke-width: 1.5;\"/><line style=\"stroke: #000000; stroke-width: 1.5;\" x1=\"16\" x2=\"90\" y1=\"28.2969\" y2=\"28.2969\"/><text fill=\"#000000\" font-family=\"sans-serif\" font-size=\"14\" font-weight=\"bold\" lengthAdjust=\"spacingAndGlyphs\" textLength=\"61\" x=\"20\" y=\"20.9951\">ItemTest</text></a><!--MD5=[de5ec2e2e8f62f467e546659f5068c88]\n",
       "cluster E5--><a href=\"psysml:a2efb8df-7581-49ed-b24f-8030c12b0405\" target=\"_top\" title=\"psysml:a2efb8df-7581-49ed-b24f-8030c12b0405\" xlink:actuate=\"onRequest\" xlink:href=\"psysml:a2efb8df-7581-49ed-b24f-8030c12b0405\" xlink:show=\"new\" xlink:title=\"psysml:a2efb8df-7581-49ed-b24f-8030c12b0405\" xlink:type=\"simple\"><rect fill=\"#FFFFFF\" height=\"88.5\" id=\"E5\" style=\"stroke: #383838; stroke-width: 1.5;\" width=\"124\" x=\"312\" y=\"62.5\"/><rect fill=\"#F8F8F8\" height=\"37.9375\" style=\"stroke: #383838; stroke-width: 1.5;\" width=\"124\" x=\"312\" y=\"62.5\"/><text fill=\"#000000\" font-family=\"sans-serif\" font-size=\"12\" font-style=\"italic\" lengthAdjust=\"spacingAndGlyphs\" textLength=\"68\" x=\"340\" y=\"78.6387\">«part  def»</text><text fill=\"#000000\" font-family=\"sans-serif\" font-size=\"12\" lengthAdjust=\"spacingAndGlyphs\" textLength=\"8\" x=\"370\" y=\"92.6074\">C</text></a><g id=\"E1.E3\"><a href=\"psysml:373f36dd-9125-4f4d-9beb-8d6cd21e1469\" target=\"_top\" title=\"psysml:373f36dd-9125-4f4d-9beb-8d6cd21e1469\" xlink:actuate=\"onRequest\" xlink:href=\"psysml:373f36dd-9125-4f4d-9beb-8d6cd21e1469\" xlink:show=\"new\" xlink:title=\"psysml:373f36dd-9125-4f4d-9beb-8d6cd21e1469\" xlink:type=\"simple\"><rect fill=\"#FFFFFF\" height=\"42.9375\" id=\"E3\" style=\"stroke: #383838; stroke-width: 1.5;\" width=\"76\" x=\"32\" y=\"96\"/><rect fill=\"#F8F8F8\" height=\"37.9375\" style=\"stroke: #383838; stroke-width: 1.5;\" width=\"76\" x=\"32\" y=\"96\"/><text fill=\"#000000\" font-family=\"sans-serif\" font-size=\"12\" font-style=\"italic\" lengthAdjust=\"spacingAndGlyphs\" textLength=\"69\" x=\"35.5\" y=\"112.1387\">«item  def»</text><text fill=\"#000000\" font-family=\"sans-serif\" font-size=\"12\" lengthAdjust=\"spacingAndGlyphs\" textLength=\"8\" x=\"66\" y=\"126.1074\">A</text></a></g><g id=\"E1.E4\"><a href=\"psysml:7d838d86-0408-4401-9cbf-32b733f3993a\" target=\"_top\" title=\"psysml:7d838d86-0408-4401-9cbf-32b733f3993a\" xlink:actuate=\"onRequest\" xlink:href=\"psysml:7d838d86-0408-4401-9cbf-32b733f3993a\" xlink:show=\"new\" xlink:title=\"psysml:7d838d86-0408-4401-9cbf-32b733f3993a\" xlink:type=\"simple\"><rect fill=\"#FFFFFF\" height=\"42.9375\" id=\"E4\" style=\"stroke: #383838; stroke-width: 1.5;\" width=\"76\" x=\"228\" y=\"41\"/><rect fill=\"#F8F8F8\" height=\"37.9375\" style=\"stroke: #383838; stroke-width: 1.5;\" width=\"76\" x=\"228\" y=\"41\"/><text fill=\"#000000\" font-family=\"sans-serif\" font-size=\"12\" font-style=\"italic\" lengthAdjust=\"spacingAndGlyphs\" textLength=\"69\" x=\"231.5\" y=\"57.1387\">«item  def»</text><text fill=\"#000000\" font-family=\"sans-serif\" font-size=\"12\" font-style=\"italic\" lengthAdjust=\"spacingAndGlyphs\" textLength=\"8\" x=\"262\" y=\"71.1074\">B</text></a></g><g id=\"E1.E7\"><a href=\"psysml:91f3ce36-c57b-44eb-a625-32b1f3011842\" target=\"_top\" title=\"psysml:91f3ce36-c57b-44eb-a625-32b1f3011842\" xlink:actuate=\"onRequest\" xlink:href=\"psysml:91f3ce36-c57b-44eb-a625-32b1f3011842\" xlink:show=\"new\" xlink:title=\"psysml:91f3ce36-c57b-44eb-a625-32b1f3011842\" xlink:type=\"simple\"><rect fill=\"#FFFFFF\" height=\"42.9375\" id=\"E7\" style=\"stroke: #383838; stroke-width: 1.5;\" width=\"75\" x=\"117.5\" y=\"41\"/><rect fill=\"#F8F8F8\" height=\"37.9375\" style=\"stroke: #383838; stroke-width: 1.5;\" width=\"75\" x=\"117.5\" y=\"41\"/><text fill=\"#000000\" font-family=\"sans-serif\" font-size=\"12\" font-style=\"italic\" lengthAdjust=\"spacingAndGlyphs\" textLength=\"68\" x=\"121\" y=\"57.1387\">«port  def»</text><text fill=\"#000000\" font-family=\"sans-serif\" font-size=\"12\" lengthAdjust=\"spacingAndGlyphs\" textLength=\"8\" x=\"151\" y=\"71.1074\">P</text></a></g><g id=\"E1.E2\"><a href=\"psysml:9b37ce48-aa06-4adb-ba3b-3b1410731947\" target=\"_top\" title=\"psysml:9b37ce48-aa06-4adb-ba3b-3b1410731947\" xlink:actuate=\"onRequest\" xlink:href=\"psysml:9b37ce48-aa06-4adb-ba3b-3b1410731947\" xlink:show=\"new\" xlink:title=\"psysml:9b37ce48-aa06-4adb-ba3b-3b1410731947\" xlink:type=\"simple\"><rect fill=\"#FFFFFF\" height=\"42.9375\" id=\"E2\" rx=\"10\" ry=\"10\" style=\"stroke: #383838; stroke-width: 1.5;\" width=\"50\" x=\"32\" y=\"41\"/><rect fill=\"#F8F8F8\" height=\"37.9375\" rx=\"10\" ry=\"10\" style=\"stroke: #F8F8F8; stroke-width: 1.5;\" width=\"50\" x=\"32\" y=\"41\"/><rect fill=\"#F8F8F8\" height=\"10\" style=\"stroke: #F8F8F8; stroke-width: 1.5;\" width=\"50\" x=\"32\" y=\"68.9375\"/><rect fill=\"none\" height=\"42.9375\" id=\"E2\" rx=\"10\" ry=\"10\" style=\"stroke: #383838; stroke-width: 1.5;\" width=\"50\" x=\"32\" y=\"41\"/><text fill=\"#000000\" font-family=\"sans-serif\" font-size=\"12\" font-style=\"italic\" lengthAdjust=\"spacingAndGlyphs\" textLength=\"41\" x=\"36.5\" y=\"57.1387\">«item»</text><text fill=\"#000000\" font-family=\"sans-serif\" font-size=\"12\" lengthAdjust=\"spacingAndGlyphs\" textLength=\"20\" x=\"47\" y=\"71.1074\">f: A</text></a></g><text fill=\"#000000\" font-family=\"sans-serif\" font-size=\"14\" lengthAdjust=\"spacingAndGlyphs\" textLength=\"43\" x=\"350.5\" y=\"41.1982\">y: A, B</text><rect fill=\"#383838\" height=\"12\" style=\"stroke: #F8F8F8; stroke-width: 1.5;\" width=\"12\" x=\"368\" y=\"56.5\"/><!--MD5=[2720a5a1f2c3fca2055b230370638851]\n",
       "link E2 to E3--><a href=\"psysml:2d349f36-3ef3-481f-a80c-9f5be02d82e3\" target=\"_top\" title=\"psysml:2d349f36-3ef3-481f-a80c-9f5be02d82e3\" xlink:actuate=\"onRequest\" xlink:href=\"psysml:2d349f36-3ef3-481f-a80c-9f5be02d82e3\" xlink:show=\"new\" xlink:title=\"psysml:2d349f36-3ef3-481f-a80c-9f5be02d82e3\" xlink:type=\"simple\"><path d=\"M62.06,84.14 C62.09,84.26 62.12,84.38 62.15,84.5 \" fill=\"none\" id=\"E2-&gt;E3\" style=\"stroke: #383838; stroke-width: 1.0;\"/><polygon fill=\"#FFFFFF\" points=\"64.93,95.83,53.5976,79.0497,67.193,75.7084,64.93,95.83\" style=\"stroke: #383838; stroke-width: 1.0;\"/><ellipse cx=\"54.1794\" cy=\"73.0371\" fill=\"#383838\" rx=\"2\" ry=\"2\" style=\"stroke: #383838; stroke-width: 1.0;\"/><ellipse cx=\"63.8904\" cy=\"70.6505\" fill=\"#383838\" rx=\"2\" ry=\"2\" style=\"stroke: #383838; stroke-width: 1.0;\"/></a><!--MD5=[5480f9c397f3be6061f9f5ddb2214f04]\n",
       "@startuml\r\n",
       "skinparam ranksep 10\r\n",
       "skinparam rectangle {\r\n",
       " backgroundColor<<block>> LightGreen\r\n",
       "}\r\n",
       " skinparam monochrome true\r\n",
       "skinparam classbackgroundcolor white\r\n",
       "skinparam shadowing false\r\n",
       "skinparam wrapWidth 300\r\n",
       "hide circle\r\n",
       "\r\n",
       "package \"ItemTest\" as E1  [[psysml:05177c11-5394-41b2-a0a0-71a4c06ed611 ]]  {\r\n",
       "rec usage \"f: A\" as E2  <<(T,blue) item>> [[psysml:9b37ce48-aa06-4adb-ba3b-3b1410731947 ]] {\r\n",
       "}\r\n",
       "def \"A\" as E3  <<(T,blue) item  def>> [[psysml:373f36dd-9125-4f4d-9beb-8d6cd21e1469 ]] \r\n",
       "def \"<i>B</i>\" as E4  <<(T,blue) item  def>> [[psysml:7d838d86-0408-4401-9cbf-32b733f3993a ]] \r\n",
       "rec def \"C\" as E5  <<(T,blue) part  def>> [[psysml:a2efb8df-7581-49ed-b24f-8030c12b0405 ]] {\r\n",
       "portin \"y: A, B \" as E6  <<(T,blue) reference>> [[psysml:4ca20137-091c-4af4-8b05-aa2379f8c92e ]] \r\n",
       "}\r\n",
       "def \"P\" as E7  <<(T,blue) port  def>> [[psysml:91f3ce36-c57b-44eb-a625-32b1f3011842 ]] \r\n",
       "}\r\n",
       "E2 - -:|> E3 [[psysml:2d349f36-3ef3-481f-a80c-9f5be02d82e3 ]] \r\n",
       "@enduml\r\n",
       "\n",
       "PlantUML version 1.2020.13(Sat Jun 13 12:26:38 UTC 2020)\n",
       "(EPL source distribution)\n",
       "Java Runtime: OpenJDK Runtime Environment\n",
       "JVM: OpenJDK 64-Bit Server VM\n",
       "Default Encoding: UTF-8\n",
       "Language: en\n",
       "Country: null\n",
       "--></g></svg>"
      ]
     },
     "execution_count": 5,
     "metadata": {},
     "output_type": "execute_result"
    }
   ],
   "source": [
    "%viz --style=\"COMPTREE\" --view=\"Interconnection\" \"ItemTest\""
   ]
  },
  {
   "cell_type": "code",
   "execution_count": 6,
   "id": "474de501",
   "metadata": {
    "execution": {
     "iopub.execute_input": "2022-04-22T09:48:23.223634Z",
     "iopub.status.busy": "2022-04-22T09:48:23.223205Z",
     "iopub.status.idle": "2022-04-22T09:48:23.230799Z",
     "shell.execute_reply": "2022-04-22T09:48:23.231045Z"
    }
   },
   "outputs": [
    {
     "data": {
      "image/svg+xml": [
       "<?xml version=\"1.0\" encoding=\"UTF-8\" standalone=\"no\"?><svg xmlns=\"http://www.w3.org/2000/svg\" xmlns:xlink=\"http://www.w3.org/1999/xlink\" contentScriptType=\"application/ecmascript\" contentStyleType=\"text/css\" height=\"12px\" preserveAspectRatio=\"none\" style=\"width:12px;height:12px;\" version=\"1.1\" viewBox=\"0 0 12 12\" width=\"12px\" zoomAndPan=\"magnify\"><defs/><g><!--MD5=[655b888544ca4751ea36af1068543f84]\n",
       "@startuml\r\n",
       "skinparam ranksep 8\r\n",
       " skinparam monochrome true\r\n",
       "skinparam classbackgroundcolor white\r\n",
       "skinparam shadowing false\r\n",
       "skinparam wrapWidth 300\r\n",
       "hide circle\r\n",
       "\r\n",
       "@enduml\r\n",
       "\n",
       "PlantUML version 1.2020.13(Sat Jun 13 12:26:38 UTC 2020)\n",
       "(EPL source distribution)\n",
       "Java Runtime: OpenJDK Runtime Environment\n",
       "JVM: OpenJDK 64-Bit Server VM\n",
       "Default Encoding: UTF-8\n",
       "Language: en\n",
       "Country: null\n",
       "--></g></svg>"
      ]
     },
     "execution_count": 6,
     "metadata": {},
     "output_type": "execute_result"
    }
   ],
   "source": [
    "%viz --style=\"COMPTREE\" --view=\"Action\" \"ItemTest\""
   ]
  },
  {
   "cell_type": "code",
   "execution_count": 7,
   "id": "36ee2228",
   "metadata": {
    "execution": {
     "iopub.execute_input": "2022-04-22T09:48:23.281741Z",
     "iopub.status.busy": "2022-04-22T09:48:23.281489Z",
     "iopub.status.idle": "2022-04-22T09:48:23.293451Z",
     "shell.execute_reply": "2022-04-22T09:48:23.293704Z"
    }
   },
   "outputs": [
    {
     "data": {
      "image/svg+xml": [
       "<?xml version=\"1.0\" encoding=\"UTF-8\" standalone=\"no\"?><svg xmlns=\"http://www.w3.org/2000/svg\" xmlns:xlink=\"http://www.w3.org/1999/xlink\" contentScriptType=\"application/ecmascript\" contentStyleType=\"text/css\" height=\"12px\" preserveAspectRatio=\"none\" style=\"width:12px;height:12px;\" version=\"1.1\" viewBox=\"0 0 12 12\" width=\"12px\" zoomAndPan=\"magnify\"><defs/><g><!--MD5=[803fc46c337be7a5c8a9831e35356779]\n",
       "@startuml\r\n",
       "skinparam roundcorner 20\r\n",
       "skinparam BoxPadding 20\r\n",
       "skinparam SequenceBoxBackgroundColor #white\r\n",
       "skinparam style strictuml\r\n",
       "skinparam maxMessageSize 100\r\n",
       " skinparam monochrome true\r\n",
       "skinparam classbackgroundcolor white\r\n",
       "skinparam shadowing false\r\n",
       "skinparam wrapWidth 300\r\n",
       "hide circle\r\n",
       "\r\n",
       "@enduml\r\n",
       "\n",
       "PlantUML version 1.2020.13(Sat Jun 13 12:26:38 UTC 2020)\n",
       "(EPL source distribution)\n",
       "Java Runtime: OpenJDK Runtime Environment\n",
       "JVM: OpenJDK 64-Bit Server VM\n",
       "Default Encoding: UTF-8\n",
       "Language: en\n",
       "Country: null\n",
       "--></g></svg>"
      ]
     },
     "execution_count": 7,
     "metadata": {},
     "output_type": "execute_result"
    }
   ],
   "source": [
    "%viz --style=\"COMPTREE\" --view=\"Sequence\" \"ItemTest\""
   ]
  },
  {
   "cell_type": "code",
   "execution_count": 8,
   "id": "1eb5ce8a",
   "metadata": {
    "execution": {
     "iopub.execute_input": "2022-04-22T09:48:23.343947Z",
     "iopub.status.busy": "2022-04-22T09:48:23.343753Z",
     "iopub.status.idle": "2022-04-22T09:48:23.414107Z",
     "shell.execute_reply": "2022-04-22T09:48:23.413820Z"
    }
   },
   "outputs": [
    {
     "data": {
      "image/svg+xml": [
       "<?xml version=\"1.0\" encoding=\"UTF-8\" standalone=\"no\"?><svg xmlns=\"http://www.w3.org/2000/svg\" xmlns:xlink=\"http://www.w3.org/1999/xlink\" contentScriptType=\"application/ecmascript\" contentStyleType=\"text/css\" height=\"818px\" preserveAspectRatio=\"none\" style=\"width:270px;height:818px;\" version=\"1.1\" viewBox=\"0 0 270 818\" width=\"270px\" zoomAndPan=\"magnify\"><defs/><g><!--MD5=[fbc87193dbaf4d95561dea2c320d4a47]\n",
       "cluster E1--><a href=\"psysml:05177c11-5394-41b2-a0a0-71a4c06ed611\" target=\"_top\" title=\"psysml:05177c11-5394-41b2-a0a0-71a4c06ed611\" xlink:actuate=\"onRequest\" xlink:href=\"psysml:05177c11-5394-41b2-a0a0-71a4c06ed611\" xlink:show=\"new\" xlink:title=\"psysml:05177c11-5394-41b2-a0a0-71a4c06ed611\" xlink:type=\"simple\"><polygon fill=\"#FFFFFF\" points=\"16,6,83,6,90,28.2969,248,28.2969,248,806,16,806,16,6\" style=\"stroke: #000000; stroke-width: 1.5;\"/><line style=\"stroke: #000000; stroke-width: 1.5;\" x1=\"16\" x2=\"90\" y1=\"28.2969\" y2=\"28.2969\"/><text fill=\"#000000\" font-family=\"sans-serif\" font-size=\"14\" font-weight=\"bold\" lengthAdjust=\"spacingAndGlyphs\" textLength=\"61\" x=\"20\" y=\"20.9951\">ItemTest</text></a><!--MD5=[b4997ac47864f28c2f74865a473b2911]\n",
       "class E2--><a href=\"psysml:9b37ce48-aa06-4adb-ba3b-3b1410731947\" target=\"_top\" title=\"psysml:9b37ce48-aa06-4adb-ba3b-3b1410731947\" xlink:actuate=\"onRequest\" xlink:href=\"psysml:9b37ce48-aa06-4adb-ba3b-3b1410731947\" xlink:show=\"new\" xlink:title=\"psysml:9b37ce48-aa06-4adb-ba3b-3b1410731947\" xlink:type=\"simple\"><rect fill=\"#FFFFFF\" height=\"45.9375\" id=\"E2\" rx=\"10\" ry=\"10\" style=\"stroke: #383838; stroke-width: 1.5;\" width=\"43\" x=\"188.5\" y=\"148\"/><text fill=\"#000000\" font-family=\"sans-serif\" font-size=\"12\" font-style=\"italic\" lengthAdjust=\"spacingAndGlyphs\" textLength=\"41\" x=\"189.5\" y=\"164.1387\">«item»</text><text fill=\"#000000\" font-family=\"sans-serif\" font-size=\"12\" lengthAdjust=\"spacingAndGlyphs\" textLength=\"20\" x=\"198\" y=\"178.1074\">f: A</text><line style=\"stroke: #383838; stroke-width: 1.5;\" x1=\"189.5\" x2=\"230.5\" y1=\"185.9375\" y2=\"185.9375\"/></a><!--MD5=[09b614a08d8cba4a07c9adeb5e0fee81]\n",
       "class E3--><a href=\"psysml:373f36dd-9125-4f4d-9beb-8d6cd21e1469\" target=\"_top\" title=\"psysml:373f36dd-9125-4f4d-9beb-8d6cd21e1469\" xlink:actuate=\"onRequest\" xlink:href=\"psysml:373f36dd-9125-4f4d-9beb-8d6cd21e1469\" xlink:show=\"new\" xlink:title=\"psysml:373f36dd-9125-4f4d-9beb-8d6cd21e1469\" xlink:type=\"simple\"><rect fill=\"#FFFFFF\" height=\"45.9375\" id=\"E3\" style=\"stroke: #383838; stroke-width: 1.5;\" width=\"71\" x=\"96.5\" y=\"255\"/><text fill=\"#000000\" font-family=\"sans-serif\" font-size=\"12\" font-style=\"italic\" lengthAdjust=\"spacingAndGlyphs\" textLength=\"69\" x=\"97.5\" y=\"271.1387\">«item  def»</text><text fill=\"#000000\" font-family=\"sans-serif\" font-size=\"12\" lengthAdjust=\"spacingAndGlyphs\" textLength=\"8\" x=\"128\" y=\"285.1074\">A</text><line style=\"stroke: #383838; stroke-width: 1.5;\" x1=\"97.5\" x2=\"166.5\" y1=\"292.9375\" y2=\"292.9375\"/></a><!--MD5=[ebbe1d658d1005bcc118a6aa81145e00]\n",
       "class E4--><a href=\"psysml:130e11a2-3d5f-4cd9-b0cd-9225a7528360\" target=\"_top\" title=\"psysml:130e11a2-3d5f-4cd9-b0cd-9225a7528360\" xlink:actuate=\"onRequest\" xlink:href=\"psysml:130e11a2-3d5f-4cd9-b0cd-9225a7528360\" xlink:show=\"new\" xlink:title=\"psysml:130e11a2-3d5f-4cd9-b0cd-9225a7528360\" xlink:type=\"simple\"><rect fill=\"#FFFFFF\" height=\"45.9375\" id=\"E4\" rx=\"10\" ry=\"10\" style=\"stroke: #383838; stroke-width: 1.5;\" width=\"43\" x=\"45.5\" y=\"438\"/><text fill=\"#000000\" font-family=\"sans-serif\" font-size=\"12\" font-style=\"italic\" lengthAdjust=\"spacingAndGlyphs\" textLength=\"41\" x=\"46.5\" y=\"454.1387\">«item»</text><text fill=\"#000000\" font-family=\"sans-serif\" font-size=\"12\" lengthAdjust=\"spacingAndGlyphs\" textLength=\"24\" x=\"53\" y=\"468.1074\">b: B</text><line style=\"stroke: #383838; stroke-width: 1.5;\" x1=\"46.5\" x2=\"87.5\" y1=\"475.9375\" y2=\"475.9375\"/></a><!--MD5=[270fce915f116d4de14055a7c1d9a0f3]\n",
       "class E5--><a href=\"psysml:80ae9a50-ac1f-4423-b935-68d8f5716f01\" target=\"_top\" title=\"psysml:80ae9a50-ac1f-4423-b935-68d8f5716f01\" xlink:actuate=\"onRequest\" xlink:href=\"psysml:80ae9a50-ac1f-4423-b935-68d8f5716f01\" xlink:show=\"new\" xlink:title=\"psysml:80ae9a50-ac1f-4423-b935-68d8f5716f01\" xlink:type=\"simple\"><rect fill=\"#FFFFFF\" height=\"45.9375\" id=\"E5\" rx=\"10\" ry=\"10\" style=\"stroke: #383838; stroke-width: 1.5;\" width=\"42\" x=\"151\" y=\"362\"/><text fill=\"#000000\" font-family=\"sans-serif\" font-size=\"12\" font-style=\"italic\" lengthAdjust=\"spacingAndGlyphs\" textLength=\"40\" x=\"152\" y=\"378.1387\">«part»</text><text fill=\"#000000\" font-family=\"sans-serif\" font-size=\"12\" lengthAdjust=\"spacingAndGlyphs\" textLength=\"23\" x=\"158.5\" y=\"392.1074\">c: C</text><line style=\"stroke: #383838; stroke-width: 1.5;\" x1=\"152\" x2=\"192\" y1=\"399.9375\" y2=\"399.9375\"/></a><!--MD5=[60a26617385b1d2d0262a64233df1f8d]\n",
       "class E6--><a href=\"psysml:7d838d86-0408-4401-9cbf-32b733f3993a\" target=\"_top\" title=\"psysml:7d838d86-0408-4401-9cbf-32b733f3993a\" xlink:actuate=\"onRequest\" xlink:href=\"psysml:7d838d86-0408-4401-9cbf-32b733f3993a\" xlink:show=\"new\" xlink:title=\"psysml:7d838d86-0408-4401-9cbf-32b733f3993a\" xlink:type=\"simple\"><rect fill=\"#FFFFFF\" height=\"45.9375\" id=\"E6\" style=\"stroke: #383838; stroke-width: 1.5;\" width=\"71\" x=\"112.5\" y=\"637\"/><text fill=\"#000000\" font-family=\"sans-serif\" font-size=\"12\" font-style=\"italic\" lengthAdjust=\"spacingAndGlyphs\" textLength=\"69\" x=\"113.5\" y=\"653.1387\">«item  def»</text><text fill=\"#000000\" font-family=\"sans-serif\" font-size=\"12\" font-style=\"italic\" lengthAdjust=\"spacingAndGlyphs\" textLength=\"8\" x=\"144\" y=\"667.1074\">B</text><line style=\"stroke: #383838; stroke-width: 1.5;\" x1=\"113.5\" x2=\"182.5\" y1=\"674.9375\" y2=\"674.9375\"/></a><!--MD5=[2156ba9850f5573cc1fc38a6a4b2f02b]\n",
       "class E7--><a href=\"psysml:d06b8fcb-8cda-493c-875d-bdf01ed715df\" target=\"_top\" title=\"psysml:d06b8fcb-8cda-493c-875d-bdf01ed715df\" xlink:actuate=\"onRequest\" xlink:href=\"psysml:d06b8fcb-8cda-493c-875d-bdf01ed715df\" xlink:show=\"new\" xlink:title=\"psysml:d06b8fcb-8cda-493c-875d-bdf01ed715df\" xlink:type=\"simple\"><rect fill=\"#FFFFFF\" height=\"45.9375\" id=\"E7\" rx=\"10\" ry=\"10\" style=\"stroke: #383838; stroke-width: 1.5;\" width=\"42\" x=\"159\" y=\"744\"/><text fill=\"#000000\" font-family=\"sans-serif\" font-size=\"12\" font-style=\"italic\" lengthAdjust=\"spacingAndGlyphs\" textLength=\"40\" x=\"160\" y=\"760.1387\">«part»</text><text fill=\"#000000\" font-family=\"sans-serif\" font-size=\"12\" font-style=\"italic\" lengthAdjust=\"spacingAndGlyphs\" textLength=\"8\" x=\"166\" y=\"774.1074\">a</text><text fill=\"#000000\" font-family=\"sans-serif\" font-size=\"12\" lengthAdjust=\"spacingAndGlyphs\" textLength=\"16\" x=\"174\" y=\"774.1074\">: A</text><line style=\"stroke: #383838; stroke-width: 1.5;\" x1=\"160\" x2=\"200\" y1=\"781.9375\" y2=\"781.9375\"/></a><!--MD5=[b9389687b975829384b498ac4b7476b2]\n",
       "class E8--><a href=\"psysml:a2efb8df-7581-49ed-b24f-8030c12b0405\" target=\"_top\" title=\"psysml:a2efb8df-7581-49ed-b24f-8030c12b0405\" xlink:actuate=\"onRequest\" xlink:href=\"psysml:a2efb8df-7581-49ed-b24f-8030c12b0405\" xlink:show=\"new\" xlink:title=\"psysml:a2efb8df-7581-49ed-b24f-8030c12b0405\" xlink:type=\"simple\"><rect fill=\"#FFFFFF\" height=\"45.9375\" id=\"E8\" style=\"stroke: #383838; stroke-width: 1.5;\" width=\"70\" x=\"113\" y=\"514\"/><text fill=\"#000000\" font-family=\"sans-serif\" font-size=\"12\" font-style=\"italic\" lengthAdjust=\"spacingAndGlyphs\" textLength=\"68\" x=\"114\" y=\"530.1387\">«part  def»</text><text fill=\"#000000\" font-family=\"sans-serif\" font-size=\"12\" lengthAdjust=\"spacingAndGlyphs\" textLength=\"8\" x=\"144\" y=\"544.1074\">C</text><line style=\"stroke: #383838; stroke-width: 1.5;\" x1=\"114\" x2=\"182\" y1=\"551.9375\" y2=\"551.9375\"/></a><!--MD5=[fd4143e9d270a159db93a4ea2a975926]\n",
       "class E9--><a href=\"psysml:91f3ce36-c57b-44eb-a625-32b1f3011842\" target=\"_top\" title=\"psysml:91f3ce36-c57b-44eb-a625-32b1f3011842\" xlink:actuate=\"onRequest\" xlink:href=\"psysml:91f3ce36-c57b-44eb-a625-32b1f3011842\" xlink:show=\"new\" xlink:title=\"psysml:91f3ce36-c57b-44eb-a625-32b1f3011842\" xlink:type=\"simple\"><rect fill=\"#FFFFFF\" height=\"45.9375\" id=\"E9\" style=\"stroke: #383838; stroke-width: 1.5;\" width=\"70\" x=\"64\" y=\"41\"/><text fill=\"#000000\" font-family=\"sans-serif\" font-size=\"12\" font-style=\"italic\" lengthAdjust=\"spacingAndGlyphs\" textLength=\"68\" x=\"65\" y=\"57.1387\">«port  def»</text><text fill=\"#000000\" font-family=\"sans-serif\" font-size=\"12\" lengthAdjust=\"spacingAndGlyphs\" textLength=\"8\" x=\"95\" y=\"71.1074\">P</text><line style=\"stroke: #383838; stroke-width: 1.5;\" x1=\"65\" x2=\"133\" y1=\"78.9375\" y2=\"78.9375\"/></a><!--MD5=[96f4274e9e20536e775497830990834d]\n",
       "class E10--><a href=\"psysml:5a8db81a-c733-4c6f-be90-4f9ffe214caa\" target=\"_top\" title=\"psysml:5a8db81a-c733-4c6f-be90-4f9ffe214caa\" xlink:actuate=\"onRequest\" xlink:href=\"psysml:5a8db81a-c733-4c6f-be90-4f9ffe214caa\" xlink:show=\"new\" xlink:title=\"psysml:5a8db81a-c733-4c6f-be90-4f9ffe214caa\" xlink:type=\"simple\"><rect fill=\"#FFFFFF\" height=\"45.9375\" id=\"E10\" rx=\"10\" ry=\"10\" style=\"stroke: #383838; stroke-width: 1.5;\" width=\"43\" x=\"32.5\" y=\"148\"/><text fill=\"#000000\" font-family=\"sans-serif\" font-size=\"12\" font-style=\"italic\" lengthAdjust=\"spacingAndGlyphs\" textLength=\"41\" x=\"33.5\" y=\"164.1387\">«item»</text><text fill=\"#000000\" font-family=\"sans-serif\" font-size=\"12\" lengthAdjust=\"spacingAndGlyphs\" textLength=\"32\" x=\"36\" y=\"178.1074\">a1: A</text><line style=\"stroke: #383838; stroke-width: 1.5;\" x1=\"33.5\" x2=\"74.5\" y1=\"185.9375\" y2=\"185.9375\"/></a><!--MD5=[1dd1bfd58a279cf63c5f349dbc8fc6a1]\n",
       "class E11--><a href=\"psysml:50797105-d3dc-4af6-be0e-986a23cb6cc7\" target=\"_top\" title=\"psysml:50797105-d3dc-4af6-be0e-986a23cb6cc7\" xlink:actuate=\"onRequest\" xlink:href=\"psysml:50797105-d3dc-4af6-be0e-986a23cb6cc7\" xlink:show=\"new\" xlink:title=\"psysml:50797105-d3dc-4af6-be0e-986a23cb6cc7\" xlink:type=\"simple\"><rect fill=\"#FFFFFF\" height=\"45.9375\" id=\"E11\" rx=\"10\" ry=\"10\" style=\"stroke: #383838; stroke-width: 1.5;\" width=\"43\" x=\"110.5\" y=\"148\"/><text fill=\"#000000\" font-family=\"sans-serif\" font-size=\"12\" font-style=\"italic\" lengthAdjust=\"spacingAndGlyphs\" textLength=\"41\" x=\"111.5\" y=\"164.1387\">«item»</text><text fill=\"#000000\" font-family=\"sans-serif\" font-size=\"12\" lengthAdjust=\"spacingAndGlyphs\" textLength=\"32\" x=\"114\" y=\"178.1074\">a2: A</text><line style=\"stroke: #383838; stroke-width: 1.5;\" x1=\"111.5\" x2=\"152.5\" y1=\"185.9375\" y2=\"185.9375\"/></a><!--MD5=[2720a5a1f2c3fca2055b230370638851]\n",
       "link E2 to E3--><a href=\"psysml:2d349f36-3ef3-481f-a80c-9f5be02d82e3\" target=\"_top\" title=\"psysml:2d349f36-3ef3-481f-a80c-9f5be02d82e3\" xlink:actuate=\"onRequest\" xlink:href=\"psysml:2d349f36-3ef3-481f-a80c-9f5be02d82e3\" xlink:show=\"new\" xlink:title=\"psysml:2d349f36-3ef3-481f-a80c-9f5be02d82e3\" xlink:type=\"simple\"><path d=\"M193.65,194.01 C184.14,206.81 171.89,223.3 160.82,238.2 \" fill=\"none\" id=\"E2-&gt;E3\" style=\"stroke: #383838; stroke-width: 1.0;\"/><polygon fill=\"#FFFFFF\" points=\"148.6,254.66,154.3195,235.2361,165.5543,243.5896,148.6,254.66\" style=\"stroke: #383838; stroke-width: 1.0;\"/><ellipse cx=\"159.3256\" cy=\"231.8554\" fill=\"#383838\" rx=\"2\" ry=\"2\" style=\"stroke: #383838; stroke-width: 1.0;\"/><ellipse cx=\"167.3504\" cy=\"237.8221\" fill=\"#383838\" rx=\"2\" ry=\"2\" style=\"stroke: #383838; stroke-width: 1.0;\"/></a><!--MD5=[4672eba38e49728da53d11aeb285b987]\n",
       "reverse link E3 to E4--><a href=\"psysml:1fc0b9c6-f917-494b-8539-e8a30a151a21\" target=\"_top\" title=\"psysml:1fc0b9c6-f917-494b-8539-e8a30a151a21\" xlink:actuate=\"onRequest\" xlink:href=\"psysml:1fc0b9c6-f917-494b-8539-e8a30a151a21\" xlink:show=\"new\" xlink:title=\"psysml:1fc0b9c6-f917-494b-8539-e8a30a151a21\" xlink:type=\"simple\"><path d=\"M97.11,310.9 C84.08,325.11 70.81,342.94 64,362 C55.12,386.85 58.09,417.53 61.82,437.88 \" fill=\"none\" id=\"E3&lt;-E4\" style=\"stroke: #383838; stroke-width: 1.0;\"/><polygon fill=\"#383838\" points=\"106.46,301.23,99.4153,302.7703,98.1277,309.8655,105.1724,308.3252,106.46,301.23\" style=\"stroke: #383838; stroke-width: 1.0;\"/><text fill=\"#000000\" font-family=\"sans-serif\" font-size=\"13\" lengthAdjust=\"spacingAndGlyphs\" textLength=\"8\" x=\"51.3529\" y=\"426.744\">1</text></a><!--MD5=[191cde3d490a3f6d7bb551fe3ddca469]\n",
       "reverse link E3 to E5--><a href=\"psysml:1188b8bd-fcbe-4041-bfa3-3c6757b772de\" target=\"_top\" title=\"psysml:1188b8bd-fcbe-4041-bfa3-3c6757b772de\" xlink:actuate=\"onRequest\" xlink:href=\"psysml:1188b8bd-fcbe-4041-bfa3-3c6757b772de\" xlink:show=\"new\" xlink:title=\"psysml:1188b8bd-fcbe-4041-bfa3-3c6757b772de\" xlink:type=\"simple\"><path d=\"M145.17,313.57 C151.2,329.39 158.16,347.68 163.49,361.66 \" fill=\"none\" id=\"E3&lt;-E5\" style=\"stroke: #383838; stroke-width: 1.0;\"/><polygon fill=\"#FFFFFF\" points=\"140.39,301.01,138.7866,308.0406,144.6598,312.2247,146.2631,305.1941,140.39,301.01\" style=\"stroke: #383838; stroke-width: 1.0;\"/><text fill=\"#000000\" font-family=\"sans-serif\" font-size=\"13\" lengthAdjust=\"spacingAndGlyphs\" textLength=\"8\" x=\"152.2843\" y=\"350.8492\">1</text></a><!--MD5=[79568f1e445c3877b6a54524624ccc7d]\n",
       "link E4 to E6--><a href=\"psysml:b444802f-fd06-4322-964d-2bd41504258e\" target=\"_top\" title=\"psysml:b444802f-fd06-4322-964d-2bd41504258e\" xlink:actuate=\"onRequest\" xlink:href=\"psysml:b444802f-fd06-4322-964d-2bd41504258e\" xlink:show=\"new\" xlink:title=\"psysml:b444802f-fd06-4322-964d-2bd41504258e\" xlink:type=\"simple\"><path d=\"M72.25,484.22 C77.31,504.36 85.72,534.68 96,560 C104.15,580.08 115.08,601.47 124.82,619.21 \" fill=\"none\" id=\"E4-&gt;E6\" style=\"stroke: #383838; stroke-width: 1.0;\"/><polygon fill=\"#FFFFFF\" points=\"134.72,636.8,119.2979,623.6791,131.4967,616.8097,134.72,636.8\" style=\"stroke: #383838; stroke-width: 1.0;\"/><ellipse cx=\"118.2438\" cy=\"617.7311\" fill=\"#383838\" rx=\"2\" ry=\"2\" style=\"stroke: #383838; stroke-width: 1.0;\"/><ellipse cx=\"126.9572\" cy=\"612.8244\" fill=\"#383838\" rx=\"2\" ry=\"2\" style=\"stroke: #383838; stroke-width: 1.0;\"/></a><!--MD5=[3f50a3473f1dfb74d3f76443e03635af]\n",
       "reverse link E6 to E7--><a href=\"psysml:fe8fc95e-22bb-46d1-b0fd-61d73c45474f\" target=\"_top\" title=\"psysml:fe8fc95e-22bb-46d1-b0fd-61d73c45474f\" xlink:actuate=\"onRequest\" xlink:href=\"psysml:fe8fc95e-22bb-46d1-b0fd-61d73c45474f\" xlink:show=\"new\" xlink:title=\"psysml:fe8fc95e-22bb-46d1-b0fd-61d73c45474f\" xlink:type=\"simple\"><path d=\"M158.54,695.57 C163.36,711.39 168.93,729.68 173.19,743.66 \" fill=\"none\" id=\"E6&lt;-E7\" style=\"stroke: #383838; stroke-width: 1.0;\"/><polygon fill=\"#383838\" points=\"154.71,683.01,152.6319,689.9152,158.2066,694.4893,160.2847,687.5841,154.71,683.01\" style=\"stroke: #383838; stroke-width: 1.0;\"/><text fill=\"#000000\" font-family=\"sans-serif\" font-size=\"13\" lengthAdjust=\"spacingAndGlyphs\" textLength=\"8\" x=\"162.4199\" y=\"732.8492\">1</text></a><!--MD5=[14ccda38c055a5c0da953d572bc50960]\n",
       "link E7 to E3--><a href=\"psysml:599ea15b-bb0f-4f03-a502-f2e1a3a71e91\" target=\"_top\" title=\"psysml:599ea15b-bb0f-4f03-a502-f2e1a3a71e91\" xlink:actuate=\"onRequest\" xlink:href=\"psysml:599ea15b-bb0f-4f03-a502-f2e1a3a71e91\" xlink:show=\"new\" xlink:title=\"psysml:599ea15b-bb0f-4f03-a502-f2e1a3a71e91\" xlink:type=\"simple\"><path d=\"M197.41,743.63 C211.5,723.27 229,691.78 229,661 C229,384 229,384 229,384 C229,353.7 206.93,328.42 183.85,310.26 \" fill=\"none\" id=\"E7-&gt;E3\" style=\"stroke: #383838; stroke-width: 1.0;\"/><polygon fill=\"#FFFFFF\" points=\"167.57,298.59,187.0929,303.9617,178.9414,315.3438,167.57,298.59\" style=\"stroke: #383838; stroke-width: 1.0;\"/><ellipse cx=\"190.5626\" cy=\"308.9066\" fill=\"#383838\" rx=\"2\" ry=\"2\" style=\"stroke: #383838; stroke-width: 1.0;\"/><ellipse cx=\"184.7401\" cy=\"317.0367\" fill=\"#383838\" rx=\"2\" ry=\"2\" style=\"stroke: #383838; stroke-width: 1.0;\"/></a><!--MD5=[dfaffb906826c3e5aca635516100ff21]\n",
       "link E5 to E8--><a href=\"psysml:ebb03462-10dd-4a39-86ac-c1648f226bb6\" target=\"_top\" title=\"psysml:ebb03462-10dd-4a39-86ac-c1648f226bb6\" xlink:actuate=\"onRequest\" xlink:href=\"psysml:ebb03462-10dd-4a39-86ac-c1648f226bb6\" xlink:show=\"new\" xlink:title=\"psysml:ebb03462-10dd-4a39-86ac-c1648f226bb6\" xlink:type=\"simple\"><path d=\"M168.46,408.13 C164.86,430.62 159.2,466.01 154.74,493.87 \" fill=\"none\" id=\"E5-&gt;E8\" style=\"stroke: #383838; stroke-width: 1.0;\"/><polygon fill=\"#FFFFFF\" points=\"151.56,513.78,147.6458,493.9135,161.4704,496.1226,151.56,513.78\" style=\"stroke: #383838; stroke-width: 1.0;\"/><ellipse cx=\"150.5202\" cy=\"488.6005\" fill=\"#383838\" rx=\"2\" ry=\"2\" style=\"stroke: #383838; stroke-width: 1.0;\"/><ellipse cx=\"160.3949\" cy=\"490.1784\" fill=\"#383838\" rx=\"2\" ry=\"2\" style=\"stroke: #383838; stroke-width: 1.0;\"/></a><!--MD5=[03c8294790d3c57651a1993cecff665f]\n",
       "reverse link E8 to E3--><a href=\"psysml:4ca20137-091c-4af4-8b05-aa2379f8c92e\" target=\"_top\" title=\"psysml:4ca20137-091c-4af4-8b05-aa2379f8c92e\" xlink:actuate=\"onRequest\" xlink:href=\"psysml:4ca20137-091c-4af4-8b05-aa2379f8c92e\" xlink:show=\"new\" xlink:title=\"psysml:4ca20137-091c-4af4-8b05-aa2379f8c92e\" xlink:type=\"simple\"><path d=\"M140.02,501.22 C134.57,475.6 127.84,439.84 125,408 C123.18,387.64 124.14,382.43 125,362 C125.87,341.34 127.95,317.86 129.62,301.16 \" fill=\"none\" id=\"E8&lt;-E3\" style=\"stroke: #383838; stroke-width: 1.0;\"/><polygon fill=\"#FFFFFF\" points=\"142.81,513.96,145.4388,507.2451,140.2515,502.2359,137.6227,508.9508,142.81,513.96\" style=\"stroke: #383838; stroke-width: 1.0;\"/><text fill=\"#000000\" font-family=\"sans-serif\" font-size=\"13\" lengthAdjust=\"spacingAndGlyphs\" textLength=\"7\" x=\"126\" y=\"389.5669\">y</text></a><!--MD5=[0d75d2178373a6a4568e5dc728f58aef]\n",
       "reverse link E8 to E6--><a href=\"psysml:4ca20137-091c-4af4-8b05-aa2379f8c92e\" target=\"_top\" title=\"psysml:4ca20137-091c-4af4-8b05-aa2379f8c92e\" xlink:actuate=\"onRequest\" xlink:href=\"psysml:4ca20137-091c-4af4-8b05-aa2379f8c92e\" xlink:show=\"new\" xlink:title=\"psysml:4ca20137-091c-4af4-8b05-aa2379f8c92e\" xlink:type=\"simple\"><path d=\"M148,573.22 C148,593.81 148,619.16 148,636.95 \" fill=\"none\" id=\"E8&lt;-E6\" style=\"stroke: #383838; stroke-width: 1.0;\"/><polygon fill=\"#FFFFFF\" points=\"148,560.19,144,566.19,148,572.19,152,566.19,148,560.19\" style=\"stroke: #383838; stroke-width: 1.0;\"/><text fill=\"#000000\" font-family=\"sans-serif\" font-size=\"13\" lengthAdjust=\"spacingAndGlyphs\" textLength=\"7\" x=\"149\" y=\"603.0669\">y</text></a><!--MD5=[23ac544a70576c3e717098101004234c]\n",
       "reverse link E9 to E10--><a href=\"psysml:bbec5841-3ffd-488b-b643-01adfe752a25\" target=\"_top\" title=\"psysml:bbec5841-3ffd-488b-b643-01adfe752a25\" xlink:actuate=\"onRequest\" xlink:href=\"psysml:bbec5841-3ffd-488b-b643-01adfe752a25\" xlink:show=\"new\" xlink:title=\"psysml:bbec5841-3ffd-488b-b643-01adfe752a25\" xlink:type=\"simple\"><path d=\"M84.39,99.1 C77.56,115.03 69.63,133.54 63.58,147.66 \" fill=\"none\" id=\"E9&lt;-E10\" style=\"stroke: #383838; stroke-width: 1.0;\"/><polygon fill=\"#FFFFFF\" points=\"89.57,87.01,83.5327,90.9535,84.8509,98.0431,90.8882,94.0996,89.57,87.01\" style=\"stroke: #383838; stroke-width: 1.0;\"/><text fill=\"#000000\" font-family=\"sans-serif\" font-size=\"13\" lengthAdjust=\"spacingAndGlyphs\" textLength=\"8\" x=\"57.0099\" y=\"136.8492\">1</text></a><!--MD5=[feeac5eb423634930294aa81f2d25a4c]\n",
       "link E10 to E3--><a href=\"psysml:fb12afbf-9138-40ff-bf3b-75b81b096774\" target=\"_top\" title=\"psysml:fb12afbf-9138-40ff-bf3b-75b81b096774\" xlink:actuate=\"onRequest\" xlink:href=\"psysml:fb12afbf-9138-40ff-bf3b-75b81b096774\" xlink:show=\"new\" xlink:title=\"psysml:fb12afbf-9138-40ff-bf3b-75b81b096774\" xlink:type=\"simple\"><path d=\"M70.35,194.01 C79.86,206.81 92.11,223.3 103.18,238.2 \" fill=\"none\" id=\"E10-&gt;E3\" style=\"stroke: #383838; stroke-width: 1.0;\"/><polygon fill=\"#FFFFFF\" points=\"115.4,254.66,98.4457,243.5896,109.6805,235.2361,115.4,254.66\" style=\"stroke: #383838; stroke-width: 1.0;\"/><ellipse cx=\"96.6496\" cy=\"237.8221\" fill=\"#383838\" rx=\"2\" ry=\"2\" style=\"stroke: #383838; stroke-width: 1.0;\"/><ellipse cx=\"104.6744\" cy=\"231.8554\" fill=\"#383838\" rx=\"2\" ry=\"2\" style=\"stroke: #383838; stroke-width: 1.0;\"/></a><!--MD5=[1fc04a95fd77ad5ce46c1a3027516051]\n",
       "reverse link E9 to E11--><a href=\"psysml:20edee2c-da5c-4ff9-9cec-febcc5f58071\" target=\"_top\" title=\"psysml:20edee2c-da5c-4ff9-9cec-febcc5f58071\" xlink:actuate=\"onRequest\" xlink:href=\"psysml:20edee2c-da5c-4ff9-9cec-febcc5f58071\" xlink:show=\"new\" xlink:title=\"psysml:20edee2c-da5c-4ff9-9cec-febcc5f58071\" xlink:type=\"simple\"><path d=\"M109.87,99.57 C114.84,115.39 120.59,133.68 124.98,147.66 \" fill=\"none\" id=\"E9&lt;-E11\" style=\"stroke: #383838; stroke-width: 1.0;\"/><polygon fill=\"#FFFFFF\" points=\"105.92,87.01,103.9044,93.9337,109.5203,98.4572,111.5359,91.5335,105.92,87.01\" style=\"stroke: #383838; stroke-width: 1.0;\"/><text fill=\"#000000\" font-family=\"sans-serif\" font-size=\"13\" lengthAdjust=\"spacingAndGlyphs\" textLength=\"8\" x=\"114.1561\" y=\"136.8492\">1</text></a><!--MD5=[0517f1ce58c4d5483948f93845c45e26]\n",
       "link E11 to E3--><a href=\"psysml:6098403c-f8e4-4c64-8bc6-7f6e4aceb826\" target=\"_top\" title=\"psysml:6098403c-f8e4-4c64-8bc6-7f6e4aceb826\" xlink:actuate=\"onRequest\" xlink:href=\"psysml:6098403c-f8e4-4c64-8bc6-7f6e4aceb826\" xlink:show=\"new\" xlink:title=\"psysml:6098403c-f8e4-4c64-8bc6-7f6e4aceb826\" xlink:type=\"simple\"><path d=\"M132,194.01 C132,205.69 132,220.46 132,234.28 \" fill=\"none\" id=\"E11-&gt;E3\" style=\"stroke: #383838; stroke-width: 1.0;\"/><polygon fill=\"#FFFFFF\" points=\"132,254.66,125,235.66,139,235.66,132,254.66\" style=\"stroke: #383838; stroke-width: 1.0;\"/><ellipse cx=\"127\" cy=\"229.96\" fill=\"#383838\" rx=\"2\" ry=\"2\" style=\"stroke: #383838; stroke-width: 1.0;\"/><ellipse cx=\"137\" cy=\"229.96\" fill=\"#383838\" rx=\"2\" ry=\"2\" style=\"stroke: #383838; stroke-width: 1.0;\"/></a><!--MD5=[f59b1073e875eea753337a7a6d019b51]\n",
       "@startuml\r\n",
       " skinparam monochrome true\r\n",
       "skinparam classbackgroundcolor white\r\n",
       "skinparam shadowing false\r\n",
       "skinparam wrapWidth 300\r\n",
       "hide circle\r\n",
       "\r\n",
       "package \"ItemTest\" as E1  [[psysml:05177c11-5394-41b2-a0a0-71a4c06ed611 ]]  {\r\n",
       "comp usage \"f: A \" as E2  <<(T,blue) item>> [[psysml:9b37ce48-aa06-4adb-ba3b-3b1410731947 ]] {\r\n",
       "}\r\n",
       "comp def \"A\" as E3  <<(T,blue) item  def>> [[psysml:373f36dd-9125-4f4d-9beb-8d6cd21e1469 ]] {\r\n",
       "}\r\n",
       "comp usage \"b: B \" as E4  <<(T,blue) item>> [[psysml:130e11a2-3d5f-4cd9-b0cd-9225a7528360 ]] {\r\n",
       "}\r\n",
       "comp usage \"c: C \" as E5  <<(T,blue) part>> [[psysml:80ae9a50-ac1f-4423-b935-68d8f5716f01 ]] {\r\n",
       "}\r\n",
       "comp def \"<i>B</i>\" as E6  <<(T,blue) item  def>> [[psysml:7d838d86-0408-4401-9cbf-32b733f3993a ]] {\r\n",
       "}\r\n",
       "comp usage \"<i>a</i>: A \" as E7  <<(T,blue) part>> [[psysml:d06b8fcb-8cda-493c-875d-bdf01ed715df ]] {\r\n",
       "}\r\n",
       "comp def \"C\" as E8  <<(T,blue) part  def>> [[psysml:a2efb8df-7581-49ed-b24f-8030c12b0405 ]] {\r\n",
       "}\r\n",
       "comp def \"P\" as E9  <<(T,blue) port  def>> [[psysml:91f3ce36-c57b-44eb-a625-32b1f3011842 ]] {\r\n",
       "}\r\n",
       "comp usage \"a1: A \" as E10  <<(T,blue) item>> [[psysml:5a8db81a-c733-4c6f-be90-4f9ffe214caa ]] {\r\n",
       "}\r\n",
       "comp usage \"a2: A \" as E11  <<(T,blue) item>> [[psysml:50797105-d3dc-4af6-be0e-986a23cb6cc7 ]] {\r\n",
       "}\r\n",
       "}\r\n",
       "E2 - -:|> E3 [[psysml:2d349f36-3ef3-481f-a80c-9f5be02d82e3 ]] \r\n",
       "E3 *- - \"1\"E4 [[psysml:1fc0b9c6-f917-494b-8539-e8a30a151a21 ]] \r\n",
       "E3 o- - \"1\"E5 [[psysml:1188b8bd-fcbe-4041-bfa3-3c6757b772de ]] \r\n",
       "E4 - -:|> E6 [[psysml:b444802f-fd06-4322-964d-2bd41504258e ]] \r\n",
       "E6 *- - \"1\"E7 [[psysml:fe8fc95e-22bb-46d1-b0fd-61d73c45474f ]] \r\n",
       "E7 - -:|> E3 [[psysml:599ea15b-bb0f-4f03-a502-f2e1a3a71e91 ]] \r\n",
       "E5 - -:|> E8 [[psysml:ebb03462-10dd-4a39-86ac-c1648f226bb6 ]] \r\n",
       "E8 o- - E3 [[psysml:4ca20137-091c-4af4-8b05-aa2379f8c92e ]] : y\r\n",
       "E8 o- - E6 [[psysml:4ca20137-091c-4af4-8b05-aa2379f8c92e ]] : y\r\n",
       "E9 o- - \"1\"E10 [[psysml:bbec5841-3ffd-488b-b643-01adfe752a25 ]] \r\n",
       "E10 - -:|> E3 [[psysml:fb12afbf-9138-40ff-bf3b-75b81b096774 ]] \r\n",
       "E9 o- - \"1\"E11 [[psysml:20edee2c-da5c-4ff9-9cec-febcc5f58071 ]] \r\n",
       "E11 - -:|> E3 [[psysml:6098403c-f8e4-4c64-8bc6-7f6e4aceb826 ]] \r\n",
       "@enduml\r\n",
       "\n",
       "PlantUML version 1.2020.13(Sat Jun 13 12:26:38 UTC 2020)\n",
       "(EPL source distribution)\n",
       "Java Runtime: OpenJDK Runtime Environment\n",
       "JVM: OpenJDK 64-Bit Server VM\n",
       "Default Encoding: UTF-8\n",
       "Language: en\n",
       "Country: null\n",
       "--></g></svg>"
      ]
     },
     "execution_count": 8,
     "metadata": {},
     "output_type": "execute_result"
    }
   ],
   "source": [
    "%viz --style=\"COMPTREE\" --view=\"MIXED\" \"ItemTest\""
   ]
  },
  {
   "cell_type": "code",
   "execution_count": 9,
   "id": "92c787cc",
   "metadata": {
    "execution": {
     "iopub.execute_input": "2022-04-22T09:48:23.463983Z",
     "iopub.status.busy": "2022-04-22T09:48:23.463577Z",
     "iopub.status.idle": "2022-04-22T09:48:23.519905Z",
     "shell.execute_reply": "2022-04-22T09:48:23.518403Z"
    }
   },
   "outputs": [
    {
     "data": {
      "image/svg+xml": [
       "<?xml version=\"1.0\" encoding=\"UTF-8\" standalone=\"no\"?><svg xmlns=\"http://www.w3.org/2000/svg\" xmlns:xlink=\"http://www.w3.org/1999/xlink\" contentScriptType=\"application/ecmascript\" contentStyleType=\"text/css\" height=\"818px\" preserveAspectRatio=\"none\" style=\"width:270px;height:818px;\" version=\"1.1\" viewBox=\"0 0 270 818\" width=\"270px\" zoomAndPan=\"magnify\"><defs/><g><!--MD5=[fbc87193dbaf4d95561dea2c320d4a47]\n",
       "cluster E1--><a href=\"psysml:05177c11-5394-41b2-a0a0-71a4c06ed611\" target=\"_top\" title=\"psysml:05177c11-5394-41b2-a0a0-71a4c06ed611\" xlink:actuate=\"onRequest\" xlink:href=\"psysml:05177c11-5394-41b2-a0a0-71a4c06ed611\" xlink:show=\"new\" xlink:title=\"psysml:05177c11-5394-41b2-a0a0-71a4c06ed611\" xlink:type=\"simple\"><polygon fill=\"#FFFFFF\" points=\"16,6,83,6,90,28.2969,248,28.2969,248,806,16,806,16,6\" style=\"stroke: #000000; stroke-width: 1.5;\"/><line style=\"stroke: #000000; stroke-width: 1.5;\" x1=\"16\" x2=\"90\" y1=\"28.2969\" y2=\"28.2969\"/><text fill=\"#000000\" font-family=\"sans-serif\" font-size=\"14\" font-weight=\"bold\" lengthAdjust=\"spacingAndGlyphs\" textLength=\"61\" x=\"20\" y=\"20.9951\">ItemTest</text></a><!--MD5=[b4997ac47864f28c2f74865a473b2911]\n",
       "class E2--><a href=\"psysml:9b37ce48-aa06-4adb-ba3b-3b1410731947\" target=\"_top\" title=\"psysml:9b37ce48-aa06-4adb-ba3b-3b1410731947\" xlink:actuate=\"onRequest\" xlink:href=\"psysml:9b37ce48-aa06-4adb-ba3b-3b1410731947\" xlink:show=\"new\" xlink:title=\"psysml:9b37ce48-aa06-4adb-ba3b-3b1410731947\" xlink:type=\"simple\"><rect fill=\"#FFFFFF\" height=\"45.9375\" id=\"E2\" rx=\"10\" ry=\"10\" style=\"stroke: #383838; stroke-width: 1.5;\" width=\"43\" x=\"188.5\" y=\"148\"/><text fill=\"#000000\" font-family=\"sans-serif\" font-size=\"12\" font-style=\"italic\" lengthAdjust=\"spacingAndGlyphs\" textLength=\"41\" x=\"189.5\" y=\"164.1387\">«item»</text><text fill=\"#000000\" font-family=\"sans-serif\" font-size=\"12\" lengthAdjust=\"spacingAndGlyphs\" textLength=\"20\" x=\"198\" y=\"178.1074\">f: A</text><line style=\"stroke: #383838; stroke-width: 1.5;\" x1=\"189.5\" x2=\"230.5\" y1=\"185.9375\" y2=\"185.9375\"/></a><!--MD5=[09b614a08d8cba4a07c9adeb5e0fee81]\n",
       "class E3--><a href=\"psysml:373f36dd-9125-4f4d-9beb-8d6cd21e1469\" target=\"_top\" title=\"psysml:373f36dd-9125-4f4d-9beb-8d6cd21e1469\" xlink:actuate=\"onRequest\" xlink:href=\"psysml:373f36dd-9125-4f4d-9beb-8d6cd21e1469\" xlink:show=\"new\" xlink:title=\"psysml:373f36dd-9125-4f4d-9beb-8d6cd21e1469\" xlink:type=\"simple\"><rect fill=\"#FFFFFF\" height=\"45.9375\" id=\"E3\" style=\"stroke: #383838; stroke-width: 1.5;\" width=\"71\" x=\"96.5\" y=\"255\"/><text fill=\"#000000\" font-family=\"sans-serif\" font-size=\"12\" font-style=\"italic\" lengthAdjust=\"spacingAndGlyphs\" textLength=\"69\" x=\"97.5\" y=\"271.1387\">«item  def»</text><text fill=\"#000000\" font-family=\"sans-serif\" font-size=\"12\" lengthAdjust=\"spacingAndGlyphs\" textLength=\"8\" x=\"128\" y=\"285.1074\">A</text><line style=\"stroke: #383838; stroke-width: 1.5;\" x1=\"97.5\" x2=\"166.5\" y1=\"292.9375\" y2=\"292.9375\"/></a><!--MD5=[ebbe1d658d1005bcc118a6aa81145e00]\n",
       "class E4--><a href=\"psysml:130e11a2-3d5f-4cd9-b0cd-9225a7528360\" target=\"_top\" title=\"psysml:130e11a2-3d5f-4cd9-b0cd-9225a7528360\" xlink:actuate=\"onRequest\" xlink:href=\"psysml:130e11a2-3d5f-4cd9-b0cd-9225a7528360\" xlink:show=\"new\" xlink:title=\"psysml:130e11a2-3d5f-4cd9-b0cd-9225a7528360\" xlink:type=\"simple\"><rect fill=\"#FFFFFF\" height=\"45.9375\" id=\"E4\" rx=\"10\" ry=\"10\" style=\"stroke: #383838; stroke-width: 1.5;\" width=\"43\" x=\"45.5\" y=\"438\"/><text fill=\"#000000\" font-family=\"sans-serif\" font-size=\"12\" font-style=\"italic\" lengthAdjust=\"spacingAndGlyphs\" textLength=\"41\" x=\"46.5\" y=\"454.1387\">«item»</text><text fill=\"#000000\" font-family=\"sans-serif\" font-size=\"12\" lengthAdjust=\"spacingAndGlyphs\" textLength=\"24\" x=\"53\" y=\"468.1074\">b: B</text><line style=\"stroke: #383838; stroke-width: 1.5;\" x1=\"46.5\" x2=\"87.5\" y1=\"475.9375\" y2=\"475.9375\"/></a><!--MD5=[270fce915f116d4de14055a7c1d9a0f3]\n",
       "class E5--><a href=\"psysml:80ae9a50-ac1f-4423-b935-68d8f5716f01\" target=\"_top\" title=\"psysml:80ae9a50-ac1f-4423-b935-68d8f5716f01\" xlink:actuate=\"onRequest\" xlink:href=\"psysml:80ae9a50-ac1f-4423-b935-68d8f5716f01\" xlink:show=\"new\" xlink:title=\"psysml:80ae9a50-ac1f-4423-b935-68d8f5716f01\" xlink:type=\"simple\"><rect fill=\"#FFFFFF\" height=\"45.9375\" id=\"E5\" rx=\"10\" ry=\"10\" style=\"stroke: #383838; stroke-width: 1.5;\" width=\"42\" x=\"151\" y=\"362\"/><text fill=\"#000000\" font-family=\"sans-serif\" font-size=\"12\" font-style=\"italic\" lengthAdjust=\"spacingAndGlyphs\" textLength=\"40\" x=\"152\" y=\"378.1387\">«part»</text><text fill=\"#000000\" font-family=\"sans-serif\" font-size=\"12\" lengthAdjust=\"spacingAndGlyphs\" textLength=\"23\" x=\"158.5\" y=\"392.1074\">c: C</text><line style=\"stroke: #383838; stroke-width: 1.5;\" x1=\"152\" x2=\"192\" y1=\"399.9375\" y2=\"399.9375\"/></a><!--MD5=[60a26617385b1d2d0262a64233df1f8d]\n",
       "class E6--><a href=\"psysml:7d838d86-0408-4401-9cbf-32b733f3993a\" target=\"_top\" title=\"psysml:7d838d86-0408-4401-9cbf-32b733f3993a\" xlink:actuate=\"onRequest\" xlink:href=\"psysml:7d838d86-0408-4401-9cbf-32b733f3993a\" xlink:show=\"new\" xlink:title=\"psysml:7d838d86-0408-4401-9cbf-32b733f3993a\" xlink:type=\"simple\"><rect fill=\"#FFFFFF\" height=\"45.9375\" id=\"E6\" style=\"stroke: #383838; stroke-width: 1.5;\" width=\"71\" x=\"112.5\" y=\"637\"/><text fill=\"#000000\" font-family=\"sans-serif\" font-size=\"12\" font-style=\"italic\" lengthAdjust=\"spacingAndGlyphs\" textLength=\"69\" x=\"113.5\" y=\"653.1387\">«item  def»</text><text fill=\"#000000\" font-family=\"sans-serif\" font-size=\"12\" font-style=\"italic\" lengthAdjust=\"spacingAndGlyphs\" textLength=\"8\" x=\"144\" y=\"667.1074\">B</text><line style=\"stroke: #383838; stroke-width: 1.5;\" x1=\"113.5\" x2=\"182.5\" y1=\"674.9375\" y2=\"674.9375\"/></a><!--MD5=[2156ba9850f5573cc1fc38a6a4b2f02b]\n",
       "class E7--><a href=\"psysml:d06b8fcb-8cda-493c-875d-bdf01ed715df\" target=\"_top\" title=\"psysml:d06b8fcb-8cda-493c-875d-bdf01ed715df\" xlink:actuate=\"onRequest\" xlink:href=\"psysml:d06b8fcb-8cda-493c-875d-bdf01ed715df\" xlink:show=\"new\" xlink:title=\"psysml:d06b8fcb-8cda-493c-875d-bdf01ed715df\" xlink:type=\"simple\"><rect fill=\"#FFFFFF\" height=\"45.9375\" id=\"E7\" rx=\"10\" ry=\"10\" style=\"stroke: #383838; stroke-width: 1.5;\" width=\"42\" x=\"159\" y=\"744\"/><text fill=\"#000000\" font-family=\"sans-serif\" font-size=\"12\" font-style=\"italic\" lengthAdjust=\"spacingAndGlyphs\" textLength=\"40\" x=\"160\" y=\"760.1387\">«part»</text><text fill=\"#000000\" font-family=\"sans-serif\" font-size=\"12\" font-style=\"italic\" lengthAdjust=\"spacingAndGlyphs\" textLength=\"8\" x=\"166\" y=\"774.1074\">a</text><text fill=\"#000000\" font-family=\"sans-serif\" font-size=\"12\" lengthAdjust=\"spacingAndGlyphs\" textLength=\"16\" x=\"174\" y=\"774.1074\">: A</text><line style=\"stroke: #383838; stroke-width: 1.5;\" x1=\"160\" x2=\"200\" y1=\"781.9375\" y2=\"781.9375\"/></a><!--MD5=[b9389687b975829384b498ac4b7476b2]\n",
       "class E8--><a href=\"psysml:a2efb8df-7581-49ed-b24f-8030c12b0405\" target=\"_top\" title=\"psysml:a2efb8df-7581-49ed-b24f-8030c12b0405\" xlink:actuate=\"onRequest\" xlink:href=\"psysml:a2efb8df-7581-49ed-b24f-8030c12b0405\" xlink:show=\"new\" xlink:title=\"psysml:a2efb8df-7581-49ed-b24f-8030c12b0405\" xlink:type=\"simple\"><rect fill=\"#FFFFFF\" height=\"45.9375\" id=\"E8\" style=\"stroke: #383838; stroke-width: 1.5;\" width=\"70\" x=\"113\" y=\"514\"/><text fill=\"#000000\" font-family=\"sans-serif\" font-size=\"12\" font-style=\"italic\" lengthAdjust=\"spacingAndGlyphs\" textLength=\"68\" x=\"114\" y=\"530.1387\">«part  def»</text><text fill=\"#000000\" font-family=\"sans-serif\" font-size=\"12\" lengthAdjust=\"spacingAndGlyphs\" textLength=\"8\" x=\"144\" y=\"544.1074\">C</text><line style=\"stroke: #383838; stroke-width: 1.5;\" x1=\"114\" x2=\"182\" y1=\"551.9375\" y2=\"551.9375\"/></a><!--MD5=[fd4143e9d270a159db93a4ea2a975926]\n",
       "class E9--><a href=\"psysml:91f3ce36-c57b-44eb-a625-32b1f3011842\" target=\"_top\" title=\"psysml:91f3ce36-c57b-44eb-a625-32b1f3011842\" xlink:actuate=\"onRequest\" xlink:href=\"psysml:91f3ce36-c57b-44eb-a625-32b1f3011842\" xlink:show=\"new\" xlink:title=\"psysml:91f3ce36-c57b-44eb-a625-32b1f3011842\" xlink:type=\"simple\"><rect fill=\"#FFFFFF\" height=\"45.9375\" id=\"E9\" style=\"stroke: #383838; stroke-width: 1.5;\" width=\"70\" x=\"64\" y=\"41\"/><text fill=\"#000000\" font-family=\"sans-serif\" font-size=\"12\" font-style=\"italic\" lengthAdjust=\"spacingAndGlyphs\" textLength=\"68\" x=\"65\" y=\"57.1387\">«port  def»</text><text fill=\"#000000\" font-family=\"sans-serif\" font-size=\"12\" lengthAdjust=\"spacingAndGlyphs\" textLength=\"8\" x=\"95\" y=\"71.1074\">P</text><line style=\"stroke: #383838; stroke-width: 1.5;\" x1=\"65\" x2=\"133\" y1=\"78.9375\" y2=\"78.9375\"/></a><!--MD5=[96f4274e9e20536e775497830990834d]\n",
       "class E10--><a href=\"psysml:5a8db81a-c733-4c6f-be90-4f9ffe214caa\" target=\"_top\" title=\"psysml:5a8db81a-c733-4c6f-be90-4f9ffe214caa\" xlink:actuate=\"onRequest\" xlink:href=\"psysml:5a8db81a-c733-4c6f-be90-4f9ffe214caa\" xlink:show=\"new\" xlink:title=\"psysml:5a8db81a-c733-4c6f-be90-4f9ffe214caa\" xlink:type=\"simple\"><rect fill=\"#FFFFFF\" height=\"45.9375\" id=\"E10\" rx=\"10\" ry=\"10\" style=\"stroke: #383838; stroke-width: 1.5;\" width=\"43\" x=\"32.5\" y=\"148\"/><text fill=\"#000000\" font-family=\"sans-serif\" font-size=\"12\" font-style=\"italic\" lengthAdjust=\"spacingAndGlyphs\" textLength=\"41\" x=\"33.5\" y=\"164.1387\">«item»</text><text fill=\"#000000\" font-family=\"sans-serif\" font-size=\"12\" lengthAdjust=\"spacingAndGlyphs\" textLength=\"32\" x=\"36\" y=\"178.1074\">a1: A</text><line style=\"stroke: #383838; stroke-width: 1.5;\" x1=\"33.5\" x2=\"74.5\" y1=\"185.9375\" y2=\"185.9375\"/></a><!--MD5=[1dd1bfd58a279cf63c5f349dbc8fc6a1]\n",
       "class E11--><a href=\"psysml:50797105-d3dc-4af6-be0e-986a23cb6cc7\" target=\"_top\" title=\"psysml:50797105-d3dc-4af6-be0e-986a23cb6cc7\" xlink:actuate=\"onRequest\" xlink:href=\"psysml:50797105-d3dc-4af6-be0e-986a23cb6cc7\" xlink:show=\"new\" xlink:title=\"psysml:50797105-d3dc-4af6-be0e-986a23cb6cc7\" xlink:type=\"simple\"><rect fill=\"#FFFFFF\" height=\"45.9375\" id=\"E11\" rx=\"10\" ry=\"10\" style=\"stroke: #383838; stroke-width: 1.5;\" width=\"43\" x=\"110.5\" y=\"148\"/><text fill=\"#000000\" font-family=\"sans-serif\" font-size=\"12\" font-style=\"italic\" lengthAdjust=\"spacingAndGlyphs\" textLength=\"41\" x=\"111.5\" y=\"164.1387\">«item»</text><text fill=\"#000000\" font-family=\"sans-serif\" font-size=\"12\" lengthAdjust=\"spacingAndGlyphs\" textLength=\"32\" x=\"114\" y=\"178.1074\">a2: A</text><line style=\"stroke: #383838; stroke-width: 1.5;\" x1=\"111.5\" x2=\"152.5\" y1=\"185.9375\" y2=\"185.9375\"/></a><!--MD5=[2720a5a1f2c3fca2055b230370638851]\n",
       "link E2 to E3--><a href=\"psysml:2d349f36-3ef3-481f-a80c-9f5be02d82e3\" target=\"_top\" title=\"psysml:2d349f36-3ef3-481f-a80c-9f5be02d82e3\" xlink:actuate=\"onRequest\" xlink:href=\"psysml:2d349f36-3ef3-481f-a80c-9f5be02d82e3\" xlink:show=\"new\" xlink:title=\"psysml:2d349f36-3ef3-481f-a80c-9f5be02d82e3\" xlink:type=\"simple\"><path d=\"M193.65,194.01 C184.14,206.81 171.89,223.3 160.82,238.2 \" fill=\"none\" id=\"E2-&gt;E3\" style=\"stroke: #383838; stroke-width: 1.0;\"/><polygon fill=\"#FFFFFF\" points=\"148.6,254.66,154.3195,235.2361,165.5543,243.5896,148.6,254.66\" style=\"stroke: #383838; stroke-width: 1.0;\"/><ellipse cx=\"159.3256\" cy=\"231.8554\" fill=\"#383838\" rx=\"2\" ry=\"2\" style=\"stroke: #383838; stroke-width: 1.0;\"/><ellipse cx=\"167.3504\" cy=\"237.8221\" fill=\"#383838\" rx=\"2\" ry=\"2\" style=\"stroke: #383838; stroke-width: 1.0;\"/></a><!--MD5=[4672eba38e49728da53d11aeb285b987]\n",
       "reverse link E3 to E4--><a href=\"psysml:1fc0b9c6-f917-494b-8539-e8a30a151a21\" target=\"_top\" title=\"psysml:1fc0b9c6-f917-494b-8539-e8a30a151a21\" xlink:actuate=\"onRequest\" xlink:href=\"psysml:1fc0b9c6-f917-494b-8539-e8a30a151a21\" xlink:show=\"new\" xlink:title=\"psysml:1fc0b9c6-f917-494b-8539-e8a30a151a21\" xlink:type=\"simple\"><path d=\"M105.34,311.54 C86.29,334.8 64,362 64,362 C64,362 64,408 64,408 C64,408 64.91,423.77 65.73,437.95 \" fill=\"none\" id=\"E3&lt;-E4\" style=\"stroke: #383838; stroke-width: 1.0;\"/><polygon fill=\"#383838\" points=\"113.78,301.24,106.883,303.3449,106.1733,310.521,113.0703,308.4161,113.78,301.24\" style=\"stroke: #383838; stroke-width: 1.0;\"/><text fill=\"#000000\" font-family=\"sans-serif\" font-size=\"13\" lengthAdjust=\"spacingAndGlyphs\" textLength=\"8\" x=\"56.3137\" y=\"426.8328\">1</text></a><!--MD5=[191cde3d490a3f6d7bb551fe3ddca469]\n",
       "reverse link E3 to E5--><a href=\"psysml:1188b8bd-fcbe-4041-bfa3-3c6757b772de\" target=\"_top\" title=\"psysml:1188b8bd-fcbe-4041-bfa3-3c6757b772de\" xlink:actuate=\"onRequest\" xlink:href=\"psysml:1188b8bd-fcbe-4041-bfa3-3c6757b772de\" xlink:show=\"new\" xlink:title=\"psysml:1188b8bd-fcbe-4041-bfa3-3c6757b772de\" xlink:type=\"simple\"><path d=\"M145.17,313.57 C151.2,329.39 158.16,347.68 163.49,361.66 \" fill=\"none\" id=\"E3&lt;-E5\" style=\"stroke: #383838; stroke-width: 1.0;\"/><polygon fill=\"#FFFFFF\" points=\"140.39,301.01,138.7866,308.0406,144.6598,312.2247,146.2631,305.1941,140.39,301.01\" style=\"stroke: #383838; stroke-width: 1.0;\"/><text fill=\"#000000\" font-family=\"sans-serif\" font-size=\"13\" lengthAdjust=\"spacingAndGlyphs\" textLength=\"8\" x=\"152.2843\" y=\"350.8492\">1</text></a><!--MD5=[79568f1e445c3877b6a54524624ccc7d]\n",
       "link E4 to E6--><a href=\"psysml:b444802f-fd06-4322-964d-2bd41504258e\" target=\"_top\" title=\"psysml:b444802f-fd06-4322-964d-2bd41504258e\" xlink:actuate=\"onRequest\" xlink:href=\"psysml:b444802f-fd06-4322-964d-2bd41504258e\" xlink:show=\"new\" xlink:title=\"psysml:b444802f-fd06-4322-964d-2bd41504258e\" xlink:type=\"simple\"><path d=\"M73.58,484.24 C82.14,513.15 96,560 96,560 C96,560 112.41,591.24 126.79,618.63 \" fill=\"none\" id=\"E4-&gt;E6\" style=\"stroke: #383838; stroke-width: 1.0;\"/><polygon fill=\"#FFFFFF\" points=\"136.2,636.54,121.1704,622.9713,133.5659,616.4636,136.2,636.54\" style=\"stroke: #383838; stroke-width: 1.0;\"/><ellipse cx=\"120.2916\" cy=\"616.9948\" fill=\"#383838\" rx=\"2\" ry=\"2\" style=\"stroke: #383838; stroke-width: 1.0;\"/><ellipse cx=\"129.1456\" cy=\"612.3465\" fill=\"#383838\" rx=\"2\" ry=\"2\" style=\"stroke: #383838; stroke-width: 1.0;\"/></a><!--MD5=[3f50a3473f1dfb74d3f76443e03635af]\n",
       "reverse link E6 to E7--><a href=\"psysml:fe8fc95e-22bb-46d1-b0fd-61d73c45474f\" target=\"_top\" title=\"psysml:fe8fc95e-22bb-46d1-b0fd-61d73c45474f\" xlink:actuate=\"onRequest\" xlink:href=\"psysml:fe8fc95e-22bb-46d1-b0fd-61d73c45474f\" xlink:show=\"new\" xlink:title=\"psysml:fe8fc95e-22bb-46d1-b0fd-61d73c45474f\" xlink:type=\"simple\"><path d=\"M158.54,695.57 C163.36,711.39 168.93,729.68 173.19,743.66 \" fill=\"none\" id=\"E6&lt;-E7\" style=\"stroke: #383838; stroke-width: 1.0;\"/><polygon fill=\"#383838\" points=\"154.71,683.01,152.6319,689.9152,158.2066,694.4893,160.2847,687.5841,154.71,683.01\" style=\"stroke: #383838; stroke-width: 1.0;\"/><text fill=\"#000000\" font-family=\"sans-serif\" font-size=\"13\" lengthAdjust=\"spacingAndGlyphs\" textLength=\"8\" x=\"162.4199\" y=\"732.8492\">1</text></a><!--MD5=[14ccda38c055a5c0da953d572bc50960]\n",
       "link E7 to E3--><a href=\"psysml:599ea15b-bb0f-4f03-a502-f2e1a3a71e91\" target=\"_top\" title=\"psysml:599ea15b-bb0f-4f03-a502-f2e1a3a71e91\" xlink:actuate=\"onRequest\" xlink:href=\"psysml:599ea15b-bb0f-4f03-a502-f2e1a3a71e91\" xlink:show=\"new\" xlink:title=\"psysml:599ea15b-bb0f-4f03-a502-f2e1a3a71e91\" xlink:type=\"simple\"><path d=\"M190.27,743.99 C204.64,713.2 229,661 229,661 C229,384 229,384 229,384 C229,384 211,362 211,362 C211,362 188.27,338.12 167.2,315.98 \" fill=\"none\" id=\"E7-&gt;E3\" style=\"stroke: #383838; stroke-width: 1.0;\"/><polygon fill=\"#FFFFFF\" points=\"153.17,301.24,171.3437,310.1683,161.2072,319.825,153.17,301.24\" style=\"stroke: #383838; stroke-width: 1.0;\"/><ellipse cx=\"173.8273\" cy=\"315.6749\" fill=\"#383838\" rx=\"2\" ry=\"2\" style=\"stroke: #383838; stroke-width: 1.0;\"/><ellipse cx=\"166.5869\" cy=\"322.5725\" fill=\"#383838\" rx=\"2\" ry=\"2\" style=\"stroke: #383838; stroke-width: 1.0;\"/></a><!--MD5=[dfaffb906826c3e5aca635516100ff21]\n",
       "link E5 to E8--><a href=\"psysml:ebb03462-10dd-4a39-86ac-c1648f226bb6\" target=\"_top\" title=\"psysml:ebb03462-10dd-4a39-86ac-c1648f226bb6\" xlink:actuate=\"onRequest\" xlink:href=\"psysml:ebb03462-10dd-4a39-86ac-c1648f226bb6\" xlink:show=\"new\" xlink:title=\"psysml:ebb03462-10dd-4a39-86ac-c1648f226bb6\" xlink:type=\"simple\"><path d=\"M168.46,408.13 C164.86,430.62 159.2,466.01 154.74,493.87 \" fill=\"none\" id=\"E5-&gt;E8\" style=\"stroke: #383838; stroke-width: 1.0;\"/><polygon fill=\"#FFFFFF\" points=\"151.56,513.78,147.6458,493.9135,161.4704,496.1226,151.56,513.78\" style=\"stroke: #383838; stroke-width: 1.0;\"/><ellipse cx=\"150.5202\" cy=\"488.6005\" fill=\"#383838\" rx=\"2\" ry=\"2\" style=\"stroke: #383838; stroke-width: 1.0;\"/><ellipse cx=\"160.3949\" cy=\"490.1784\" fill=\"#383838\" rx=\"2\" ry=\"2\" style=\"stroke: #383838; stroke-width: 1.0;\"/></a><!--MD5=[03c8294790d3c57651a1993cecff665f]\n",
       "reverse link E8 to E3--><a href=\"psysml:4ca20137-091c-4af4-8b05-aa2379f8c92e\" target=\"_top\" title=\"psysml:4ca20137-091c-4af4-8b05-aa2379f8c92e\" xlink:actuate=\"onRequest\" xlink:href=\"psysml:4ca20137-091c-4af4-8b05-aa2379f8c92e\" xlink:show=\"new\" xlink:title=\"psysml:4ca20137-091c-4af4-8b05-aa2379f8c92e\" xlink:type=\"simple\"><path d=\"M141.7,500.94 C134.89,463.05 125,408 125,408 C125,408 125,362 125,362 C125,362 128.05,325.83 130.12,301.24 \" fill=\"none\" id=\"E8&lt;-E3\" style=\"stroke: #383838; stroke-width: 1.0;\"/><polygon fill=\"#FFFFFF\" points=\"144.05,514,146.9258,507.3872,141.9277,502.1892,139.0519,508.802,144.05,514\" style=\"stroke: #383838; stroke-width: 1.0;\"/><text fill=\"#000000\" font-family=\"sans-serif\" font-size=\"13\" lengthAdjust=\"spacingAndGlyphs\" textLength=\"7\" x=\"126\" y=\"389.5669\">y</text></a><!--MD5=[0d75d2178373a6a4568e5dc728f58aef]\n",
       "reverse link E8 to E6--><a href=\"psysml:4ca20137-091c-4af4-8b05-aa2379f8c92e\" target=\"_top\" title=\"psysml:4ca20137-091c-4af4-8b05-aa2379f8c92e\" xlink:actuate=\"onRequest\" xlink:href=\"psysml:4ca20137-091c-4af4-8b05-aa2379f8c92e\" xlink:show=\"new\" xlink:title=\"psysml:4ca20137-091c-4af4-8b05-aa2379f8c92e\" xlink:type=\"simple\"><path d=\"M148,573.22 C148,593.81 148,619.16 148,636.95 \" fill=\"none\" id=\"E8&lt;-E6\" style=\"stroke: #383838; stroke-width: 1.0;\"/><polygon fill=\"#FFFFFF\" points=\"148,560.19,144,566.19,148,572.19,152,566.19,148,560.19\" style=\"stroke: #383838; stroke-width: 1.0;\"/><text fill=\"#000000\" font-family=\"sans-serif\" font-size=\"13\" lengthAdjust=\"spacingAndGlyphs\" textLength=\"7\" x=\"149\" y=\"603.0669\">y</text></a><!--MD5=[23ac544a70576c3e717098101004234c]\n",
       "reverse link E9 to E10--><a href=\"psysml:bbec5841-3ffd-488b-b643-01adfe752a25\" target=\"_top\" title=\"psysml:bbec5841-3ffd-488b-b643-01adfe752a25\" xlink:actuate=\"onRequest\" xlink:href=\"psysml:bbec5841-3ffd-488b-b643-01adfe752a25\" xlink:show=\"new\" xlink:title=\"psysml:bbec5841-3ffd-488b-b643-01adfe752a25\" xlink:type=\"simple\"><path d=\"M84.39,99.1 C77.56,115.03 69.63,133.54 63.58,147.66 \" fill=\"none\" id=\"E9&lt;-E10\" style=\"stroke: #383838; stroke-width: 1.0;\"/><polygon fill=\"#FFFFFF\" points=\"89.57,87.01,83.5327,90.9535,84.8509,98.0431,90.8882,94.0996,89.57,87.01\" style=\"stroke: #383838; stroke-width: 1.0;\"/><text fill=\"#000000\" font-family=\"sans-serif\" font-size=\"13\" lengthAdjust=\"spacingAndGlyphs\" textLength=\"8\" x=\"57.0099\" y=\"136.8492\">1</text></a><!--MD5=[feeac5eb423634930294aa81f2d25a4c]\n",
       "link E10 to E3--><a href=\"psysml:fb12afbf-9138-40ff-bf3b-75b81b096774\" target=\"_top\" title=\"psysml:fb12afbf-9138-40ff-bf3b-75b81b096774\" xlink:actuate=\"onRequest\" xlink:href=\"psysml:fb12afbf-9138-40ff-bf3b-75b81b096774\" xlink:show=\"new\" xlink:title=\"psysml:fb12afbf-9138-40ff-bf3b-75b81b096774\" xlink:type=\"simple\"><path d=\"M70.35,194.01 C79.86,206.81 92.11,223.3 103.18,238.2 \" fill=\"none\" id=\"E10-&gt;E3\" style=\"stroke: #383838; stroke-width: 1.0;\"/><polygon fill=\"#FFFFFF\" points=\"115.4,254.66,98.4457,243.5896,109.6805,235.2361,115.4,254.66\" style=\"stroke: #383838; stroke-width: 1.0;\"/><ellipse cx=\"96.6496\" cy=\"237.8221\" fill=\"#383838\" rx=\"2\" ry=\"2\" style=\"stroke: #383838; stroke-width: 1.0;\"/><ellipse cx=\"104.6744\" cy=\"231.8554\" fill=\"#383838\" rx=\"2\" ry=\"2\" style=\"stroke: #383838; stroke-width: 1.0;\"/></a><!--MD5=[1fc04a95fd77ad5ce46c1a3027516051]\n",
       "reverse link E9 to E11--><a href=\"psysml:20edee2c-da5c-4ff9-9cec-febcc5f58071\" target=\"_top\" title=\"psysml:20edee2c-da5c-4ff9-9cec-febcc5f58071\" xlink:actuate=\"onRequest\" xlink:href=\"psysml:20edee2c-da5c-4ff9-9cec-febcc5f58071\" xlink:show=\"new\" xlink:title=\"psysml:20edee2c-da5c-4ff9-9cec-febcc5f58071\" xlink:type=\"simple\"><path d=\"M109.87,99.57 C114.84,115.39 120.59,133.68 124.98,147.66 \" fill=\"none\" id=\"E9&lt;-E11\" style=\"stroke: #383838; stroke-width: 1.0;\"/><polygon fill=\"#FFFFFF\" points=\"105.92,87.01,103.9044,93.9337,109.5203,98.4572,111.5359,91.5335,105.92,87.01\" style=\"stroke: #383838; stroke-width: 1.0;\"/><text fill=\"#000000\" font-family=\"sans-serif\" font-size=\"13\" lengthAdjust=\"spacingAndGlyphs\" textLength=\"8\" x=\"114.1561\" y=\"136.8492\">1</text></a><!--MD5=[0517f1ce58c4d5483948f93845c45e26]\n",
       "link E11 to E3--><a href=\"psysml:6098403c-f8e4-4c64-8bc6-7f6e4aceb826\" target=\"_top\" title=\"psysml:6098403c-f8e4-4c64-8bc6-7f6e4aceb826\" xlink:actuate=\"onRequest\" xlink:href=\"psysml:6098403c-f8e4-4c64-8bc6-7f6e4aceb826\" xlink:show=\"new\" xlink:title=\"psysml:6098403c-f8e4-4c64-8bc6-7f6e4aceb826\" xlink:type=\"simple\"><path d=\"M132,194.01 C132,205.69 132,220.46 132,234.28 \" fill=\"none\" id=\"E11-&gt;E3\" style=\"stroke: #383838; stroke-width: 1.0;\"/><polygon fill=\"#FFFFFF\" points=\"132,254.66,125,235.66,139,235.66,132,254.66\" style=\"stroke: #383838; stroke-width: 1.0;\"/><ellipse cx=\"127\" cy=\"229.96\" fill=\"#383838\" rx=\"2\" ry=\"2\" style=\"stroke: #383838; stroke-width: 1.0;\"/><ellipse cx=\"137\" cy=\"229.96\" fill=\"#383838\" rx=\"2\" ry=\"2\" style=\"stroke: #383838; stroke-width: 1.0;\"/></a><!--MD5=[053ac4ae0382852bb20262bf1e3dd394]\n",
       "@startuml\r\n",
       "skinparam linetype polyline\r\n",
       "skinparam monochrome true\r\n",
       "skinparam classbackgroundcolor white\r\n",
       "skinparam shadowing false\r\n",
       "skinparam wrapWidth 300\r\n",
       "hide circle\r\n",
       "\r\n",
       "package \"ItemTest\" as E1  [[psysml:05177c11-5394-41b2-a0a0-71a4c06ed611 ]]  {\r\n",
       "comp usage \"f: A \" as E2  <<(T,blue) item>> [[psysml:9b37ce48-aa06-4adb-ba3b-3b1410731947 ]] {\r\n",
       "}\r\n",
       "comp def \"A\" as E3  <<(T,blue) item  def>> [[psysml:373f36dd-9125-4f4d-9beb-8d6cd21e1469 ]] {\r\n",
       "}\r\n",
       "comp usage \"b: B \" as E4  <<(T,blue) item>> [[psysml:130e11a2-3d5f-4cd9-b0cd-9225a7528360 ]] {\r\n",
       "}\r\n",
       "comp usage \"c: C \" as E5  <<(T,blue) part>> [[psysml:80ae9a50-ac1f-4423-b935-68d8f5716f01 ]] {\r\n",
       "}\r\n",
       "comp def \"<i>B</i>\" as E6  <<(T,blue) item  def>> [[psysml:7d838d86-0408-4401-9cbf-32b733f3993a ]] {\r\n",
       "}\r\n",
       "comp usage \"<i>a</i>: A \" as E7  <<(T,blue) part>> [[psysml:d06b8fcb-8cda-493c-875d-bdf01ed715df ]] {\r\n",
       "}\r\n",
       "comp def \"C\" as E8  <<(T,blue) part  def>> [[psysml:a2efb8df-7581-49ed-b24f-8030c12b0405 ]] {\r\n",
       "}\r\n",
       "comp def \"P\" as E9  <<(T,blue) port  def>> [[psysml:91f3ce36-c57b-44eb-a625-32b1f3011842 ]] {\r\n",
       "}\r\n",
       "comp usage \"a1: A \" as E10  <<(T,blue) item>> [[psysml:5a8db81a-c733-4c6f-be90-4f9ffe214caa ]] {\r\n",
       "}\r\n",
       "comp usage \"a2: A \" as E11  <<(T,blue) item>> [[psysml:50797105-d3dc-4af6-be0e-986a23cb6cc7 ]] {\r\n",
       "}\r\n",
       "}\r\n",
       "E2 - -:|> E3 [[psysml:2d349f36-3ef3-481f-a80c-9f5be02d82e3 ]] \r\n",
       "E3 *- - \"1\"E4 [[psysml:1fc0b9c6-f917-494b-8539-e8a30a151a21 ]] \r\n",
       "E3 o- - \"1\"E5 [[psysml:1188b8bd-fcbe-4041-bfa3-3c6757b772de ]] \r\n",
       "E4 - -:|> E6 [[psysml:b444802f-fd06-4322-964d-2bd41504258e ]] \r\n",
       "E6 *- - \"1\"E7 [[psysml:fe8fc95e-22bb-46d1-b0fd-61d73c45474f ]] \r\n",
       "E7 - -:|> E3 [[psysml:599ea15b-bb0f-4f03-a502-f2e1a3a71e91 ]] \r\n",
       "E5 - -:|> E8 [[psysml:ebb03462-10dd-4a39-86ac-c1648f226bb6 ]] \r\n",
       "E8 o- - E3 [[psysml:4ca20137-091c-4af4-8b05-aa2379f8c92e ]] : y\r\n",
       "E8 o- - E6 [[psysml:4ca20137-091c-4af4-8b05-aa2379f8c92e ]] : y\r\n",
       "E9 o- - \"1\"E10 [[psysml:bbec5841-3ffd-488b-b643-01adfe752a25 ]] \r\n",
       "E10 - -:|> E3 [[psysml:fb12afbf-9138-40ff-bf3b-75b81b096774 ]] \r\n",
       "E9 o- - \"1\"E11 [[psysml:20edee2c-da5c-4ff9-9cec-febcc5f58071 ]] \r\n",
       "E11 - -:|> E3 [[psysml:6098403c-f8e4-4c64-8bc6-7f6e4aceb826 ]] \r\n",
       "@enduml\r\n",
       "\n",
       "PlantUML version 1.2020.13(Sat Jun 13 12:26:38 UTC 2020)\n",
       "(EPL source distribution)\n",
       "Java Runtime: OpenJDK Runtime Environment\n",
       "JVM: OpenJDK 64-Bit Server VM\n",
       "Default Encoding: UTF-8\n",
       "Language: en\n",
       "Country: null\n",
       "--></g></svg>"
      ]
     },
     "execution_count": 9,
     "metadata": {},
     "output_type": "execute_result"
    }
   ],
   "source": [
    "%viz --style=\"POLYLINE\" --view=\"Default\" \"ItemTest\""
   ]
  },
  {
   "cell_type": "code",
   "execution_count": 10,
   "id": "543a789f",
   "metadata": {
    "execution": {
     "iopub.execute_input": "2022-04-22T09:48:23.569254Z",
     "iopub.status.busy": "2022-04-22T09:48:23.568855Z",
     "iopub.status.idle": "2022-04-22T09:48:23.638046Z",
     "shell.execute_reply": "2022-04-22T09:48:23.638193Z"
    }
   },
   "outputs": [
    {
     "data": {
      "image/svg+xml": [
       "<?xml version=\"1.0\" encoding=\"UTF-8\" standalone=\"no\"?><svg xmlns=\"http://www.w3.org/2000/svg\" xmlns:xlink=\"http://www.w3.org/1999/xlink\" contentScriptType=\"application/ecmascript\" contentStyleType=\"text/css\" height=\"818px\" preserveAspectRatio=\"none\" style=\"width:270px;height:818px;\" version=\"1.1\" viewBox=\"0 0 270 818\" width=\"270px\" zoomAndPan=\"magnify\"><defs/><g><!--MD5=[fbc87193dbaf4d95561dea2c320d4a47]\n",
       "cluster E1--><a href=\"psysml:05177c11-5394-41b2-a0a0-71a4c06ed611\" target=\"_top\" title=\"psysml:05177c11-5394-41b2-a0a0-71a4c06ed611\" xlink:actuate=\"onRequest\" xlink:href=\"psysml:05177c11-5394-41b2-a0a0-71a4c06ed611\" xlink:show=\"new\" xlink:title=\"psysml:05177c11-5394-41b2-a0a0-71a4c06ed611\" xlink:type=\"simple\"><polygon fill=\"#FFFFFF\" points=\"16,6,83,6,90,28.2969,248,28.2969,248,806,16,806,16,6\" style=\"stroke: #000000; stroke-width: 1.5;\"/><line style=\"stroke: #000000; stroke-width: 1.5;\" x1=\"16\" x2=\"90\" y1=\"28.2969\" y2=\"28.2969\"/><text fill=\"#000000\" font-family=\"sans-serif\" font-size=\"14\" font-weight=\"bold\" lengthAdjust=\"spacingAndGlyphs\" textLength=\"61\" x=\"20\" y=\"20.9951\">ItemTest</text></a><!--MD5=[b4997ac47864f28c2f74865a473b2911]\n",
       "class E2--><a href=\"psysml:9b37ce48-aa06-4adb-ba3b-3b1410731947\" target=\"_top\" title=\"psysml:9b37ce48-aa06-4adb-ba3b-3b1410731947\" xlink:actuate=\"onRequest\" xlink:href=\"psysml:9b37ce48-aa06-4adb-ba3b-3b1410731947\" xlink:show=\"new\" xlink:title=\"psysml:9b37ce48-aa06-4adb-ba3b-3b1410731947\" xlink:type=\"simple\"><rect fill=\"#FFFFFF\" height=\"45.9375\" id=\"E2\" rx=\"10\" ry=\"10\" style=\"stroke: #383838; stroke-width: 1.5;\" width=\"43\" x=\"188.5\" y=\"148\"/><text fill=\"#000000\" font-family=\"sans-serif\" font-size=\"12\" font-style=\"italic\" lengthAdjust=\"spacingAndGlyphs\" textLength=\"41\" x=\"189.5\" y=\"164.1387\">«item»</text><text fill=\"#000000\" font-family=\"sans-serif\" font-size=\"12\" lengthAdjust=\"spacingAndGlyphs\" textLength=\"20\" x=\"198\" y=\"178.1074\">f: A</text><line style=\"stroke: #383838; stroke-width: 1.5;\" x1=\"189.5\" x2=\"230.5\" y1=\"185.9375\" y2=\"185.9375\"/></a><!--MD5=[09b614a08d8cba4a07c9adeb5e0fee81]\n",
       "class E3--><a href=\"psysml:373f36dd-9125-4f4d-9beb-8d6cd21e1469\" target=\"_top\" title=\"psysml:373f36dd-9125-4f4d-9beb-8d6cd21e1469\" xlink:actuate=\"onRequest\" xlink:href=\"psysml:373f36dd-9125-4f4d-9beb-8d6cd21e1469\" xlink:show=\"new\" xlink:title=\"psysml:373f36dd-9125-4f4d-9beb-8d6cd21e1469\" xlink:type=\"simple\"><rect fill=\"#FFFFFF\" height=\"45.9375\" id=\"E3\" style=\"stroke: #383838; stroke-width: 1.5;\" width=\"71\" x=\"96.5\" y=\"255\"/><text fill=\"#000000\" font-family=\"sans-serif\" font-size=\"12\" font-style=\"italic\" lengthAdjust=\"spacingAndGlyphs\" textLength=\"69\" x=\"97.5\" y=\"271.1387\">«item  def»</text><text fill=\"#000000\" font-family=\"sans-serif\" font-size=\"12\" lengthAdjust=\"spacingAndGlyphs\" textLength=\"8\" x=\"128\" y=\"285.1074\">A</text><line style=\"stroke: #383838; stroke-width: 1.5;\" x1=\"97.5\" x2=\"166.5\" y1=\"292.9375\" y2=\"292.9375\"/></a><!--MD5=[ebbe1d658d1005bcc118a6aa81145e00]\n",
       "class E4--><a href=\"psysml:130e11a2-3d5f-4cd9-b0cd-9225a7528360\" target=\"_top\" title=\"psysml:130e11a2-3d5f-4cd9-b0cd-9225a7528360\" xlink:actuate=\"onRequest\" xlink:href=\"psysml:130e11a2-3d5f-4cd9-b0cd-9225a7528360\" xlink:show=\"new\" xlink:title=\"psysml:130e11a2-3d5f-4cd9-b0cd-9225a7528360\" xlink:type=\"simple\"><rect fill=\"#FFFFFF\" height=\"45.9375\" id=\"E4\" rx=\"10\" ry=\"10\" style=\"stroke: #383838; stroke-width: 1.5;\" width=\"43\" x=\"45.5\" y=\"438\"/><text fill=\"#000000\" font-family=\"sans-serif\" font-size=\"12\" font-style=\"italic\" lengthAdjust=\"spacingAndGlyphs\" textLength=\"41\" x=\"46.5\" y=\"454.1387\">«item»</text><text fill=\"#000000\" font-family=\"sans-serif\" font-size=\"12\" lengthAdjust=\"spacingAndGlyphs\" textLength=\"24\" x=\"53\" y=\"468.1074\">b: B</text><line style=\"stroke: #383838; stroke-width: 1.5;\" x1=\"46.5\" x2=\"87.5\" y1=\"475.9375\" y2=\"475.9375\"/></a><!--MD5=[270fce915f116d4de14055a7c1d9a0f3]\n",
       "class E5--><a href=\"psysml:80ae9a50-ac1f-4423-b935-68d8f5716f01\" target=\"_top\" title=\"psysml:80ae9a50-ac1f-4423-b935-68d8f5716f01\" xlink:actuate=\"onRequest\" xlink:href=\"psysml:80ae9a50-ac1f-4423-b935-68d8f5716f01\" xlink:show=\"new\" xlink:title=\"psysml:80ae9a50-ac1f-4423-b935-68d8f5716f01\" xlink:type=\"simple\"><rect fill=\"#FFFFFF\" height=\"45.9375\" id=\"E5\" rx=\"10\" ry=\"10\" style=\"stroke: #383838; stroke-width: 1.5;\" width=\"42\" x=\"151\" y=\"362\"/><text fill=\"#000000\" font-family=\"sans-serif\" font-size=\"12\" font-style=\"italic\" lengthAdjust=\"spacingAndGlyphs\" textLength=\"40\" x=\"152\" y=\"378.1387\">«part»</text><text fill=\"#000000\" font-family=\"sans-serif\" font-size=\"12\" lengthAdjust=\"spacingAndGlyphs\" textLength=\"23\" x=\"158.5\" y=\"392.1074\">c: C</text><line style=\"stroke: #383838; stroke-width: 1.5;\" x1=\"152\" x2=\"192\" y1=\"399.9375\" y2=\"399.9375\"/></a><!--MD5=[60a26617385b1d2d0262a64233df1f8d]\n",
       "class E6--><a href=\"psysml:7d838d86-0408-4401-9cbf-32b733f3993a\" target=\"_top\" title=\"psysml:7d838d86-0408-4401-9cbf-32b733f3993a\" xlink:actuate=\"onRequest\" xlink:href=\"psysml:7d838d86-0408-4401-9cbf-32b733f3993a\" xlink:show=\"new\" xlink:title=\"psysml:7d838d86-0408-4401-9cbf-32b733f3993a\" xlink:type=\"simple\"><rect fill=\"#FFFFFF\" height=\"45.9375\" id=\"E6\" style=\"stroke: #383838; stroke-width: 1.5;\" width=\"71\" x=\"112.5\" y=\"637\"/><text fill=\"#000000\" font-family=\"sans-serif\" font-size=\"12\" font-style=\"italic\" lengthAdjust=\"spacingAndGlyphs\" textLength=\"69\" x=\"113.5\" y=\"653.1387\">«item  def»</text><text fill=\"#000000\" font-family=\"sans-serif\" font-size=\"12\" font-style=\"italic\" lengthAdjust=\"spacingAndGlyphs\" textLength=\"8\" x=\"144\" y=\"667.1074\">B</text><line style=\"stroke: #383838; stroke-width: 1.5;\" x1=\"113.5\" x2=\"182.5\" y1=\"674.9375\" y2=\"674.9375\"/></a><!--MD5=[2156ba9850f5573cc1fc38a6a4b2f02b]\n",
       "class E7--><a href=\"psysml:d06b8fcb-8cda-493c-875d-bdf01ed715df\" target=\"_top\" title=\"psysml:d06b8fcb-8cda-493c-875d-bdf01ed715df\" xlink:actuate=\"onRequest\" xlink:href=\"psysml:d06b8fcb-8cda-493c-875d-bdf01ed715df\" xlink:show=\"new\" xlink:title=\"psysml:d06b8fcb-8cda-493c-875d-bdf01ed715df\" xlink:type=\"simple\"><rect fill=\"#FFFFFF\" height=\"45.9375\" id=\"E7\" rx=\"10\" ry=\"10\" style=\"stroke: #383838; stroke-width: 1.5;\" width=\"42\" x=\"159\" y=\"744\"/><text fill=\"#000000\" font-family=\"sans-serif\" font-size=\"12\" font-style=\"italic\" lengthAdjust=\"spacingAndGlyphs\" textLength=\"40\" x=\"160\" y=\"760.1387\">«part»</text><text fill=\"#000000\" font-family=\"sans-serif\" font-size=\"12\" font-style=\"italic\" lengthAdjust=\"spacingAndGlyphs\" textLength=\"8\" x=\"166\" y=\"774.1074\">a</text><text fill=\"#000000\" font-family=\"sans-serif\" font-size=\"12\" lengthAdjust=\"spacingAndGlyphs\" textLength=\"16\" x=\"174\" y=\"774.1074\">: A</text><line style=\"stroke: #383838; stroke-width: 1.5;\" x1=\"160\" x2=\"200\" y1=\"781.9375\" y2=\"781.9375\"/></a><!--MD5=[b9389687b975829384b498ac4b7476b2]\n",
       "class E8--><a href=\"psysml:a2efb8df-7581-49ed-b24f-8030c12b0405\" target=\"_top\" title=\"psysml:a2efb8df-7581-49ed-b24f-8030c12b0405\" xlink:actuate=\"onRequest\" xlink:href=\"psysml:a2efb8df-7581-49ed-b24f-8030c12b0405\" xlink:show=\"new\" xlink:title=\"psysml:a2efb8df-7581-49ed-b24f-8030c12b0405\" xlink:type=\"simple\"><rect fill=\"#FFFFFF\" height=\"45.9375\" id=\"E8\" style=\"stroke: #383838; stroke-width: 1.5;\" width=\"70\" x=\"113\" y=\"514\"/><text fill=\"#000000\" font-family=\"sans-serif\" font-size=\"12\" font-style=\"italic\" lengthAdjust=\"spacingAndGlyphs\" textLength=\"68\" x=\"114\" y=\"530.1387\">«part  def»</text><text fill=\"#000000\" font-family=\"sans-serif\" font-size=\"12\" lengthAdjust=\"spacingAndGlyphs\" textLength=\"8\" x=\"144\" y=\"544.1074\">C</text><line style=\"stroke: #383838; stroke-width: 1.5;\" x1=\"114\" x2=\"182\" y1=\"551.9375\" y2=\"551.9375\"/></a><!--MD5=[fd4143e9d270a159db93a4ea2a975926]\n",
       "class E9--><a href=\"psysml:91f3ce36-c57b-44eb-a625-32b1f3011842\" target=\"_top\" title=\"psysml:91f3ce36-c57b-44eb-a625-32b1f3011842\" xlink:actuate=\"onRequest\" xlink:href=\"psysml:91f3ce36-c57b-44eb-a625-32b1f3011842\" xlink:show=\"new\" xlink:title=\"psysml:91f3ce36-c57b-44eb-a625-32b1f3011842\" xlink:type=\"simple\"><rect fill=\"#FFFFFF\" height=\"45.9375\" id=\"E9\" style=\"stroke: #383838; stroke-width: 1.5;\" width=\"70\" x=\"64\" y=\"41\"/><text fill=\"#000000\" font-family=\"sans-serif\" font-size=\"12\" font-style=\"italic\" lengthAdjust=\"spacingAndGlyphs\" textLength=\"68\" x=\"65\" y=\"57.1387\">«port  def»</text><text fill=\"#000000\" font-family=\"sans-serif\" font-size=\"12\" lengthAdjust=\"spacingAndGlyphs\" textLength=\"8\" x=\"95\" y=\"71.1074\">P</text><line style=\"stroke: #383838; stroke-width: 1.5;\" x1=\"65\" x2=\"133\" y1=\"78.9375\" y2=\"78.9375\"/></a><!--MD5=[96f4274e9e20536e775497830990834d]\n",
       "class E10--><a href=\"psysml:5a8db81a-c733-4c6f-be90-4f9ffe214caa\" target=\"_top\" title=\"psysml:5a8db81a-c733-4c6f-be90-4f9ffe214caa\" xlink:actuate=\"onRequest\" xlink:href=\"psysml:5a8db81a-c733-4c6f-be90-4f9ffe214caa\" xlink:show=\"new\" xlink:title=\"psysml:5a8db81a-c733-4c6f-be90-4f9ffe214caa\" xlink:type=\"simple\"><rect fill=\"#FFFFFF\" height=\"45.9375\" id=\"E10\" rx=\"10\" ry=\"10\" style=\"stroke: #383838; stroke-width: 1.5;\" width=\"43\" x=\"32.5\" y=\"148\"/><text fill=\"#000000\" font-family=\"sans-serif\" font-size=\"12\" font-style=\"italic\" lengthAdjust=\"spacingAndGlyphs\" textLength=\"41\" x=\"33.5\" y=\"164.1387\">«item»</text><text fill=\"#000000\" font-family=\"sans-serif\" font-size=\"12\" lengthAdjust=\"spacingAndGlyphs\" textLength=\"32\" x=\"36\" y=\"178.1074\">a1: A</text><line style=\"stroke: #383838; stroke-width: 1.5;\" x1=\"33.5\" x2=\"74.5\" y1=\"185.9375\" y2=\"185.9375\"/></a><!--MD5=[1dd1bfd58a279cf63c5f349dbc8fc6a1]\n",
       "class E11--><a href=\"psysml:50797105-d3dc-4af6-be0e-986a23cb6cc7\" target=\"_top\" title=\"psysml:50797105-d3dc-4af6-be0e-986a23cb6cc7\" xlink:actuate=\"onRequest\" xlink:href=\"psysml:50797105-d3dc-4af6-be0e-986a23cb6cc7\" xlink:show=\"new\" xlink:title=\"psysml:50797105-d3dc-4af6-be0e-986a23cb6cc7\" xlink:type=\"simple\"><rect fill=\"#FFFFFF\" height=\"45.9375\" id=\"E11\" rx=\"10\" ry=\"10\" style=\"stroke: #383838; stroke-width: 1.5;\" width=\"43\" x=\"110.5\" y=\"148\"/><text fill=\"#000000\" font-family=\"sans-serif\" font-size=\"12\" font-style=\"italic\" lengthAdjust=\"spacingAndGlyphs\" textLength=\"41\" x=\"111.5\" y=\"164.1387\">«item»</text><text fill=\"#000000\" font-family=\"sans-serif\" font-size=\"12\" lengthAdjust=\"spacingAndGlyphs\" textLength=\"32\" x=\"114\" y=\"178.1074\">a2: A</text><line style=\"stroke: #383838; stroke-width: 1.5;\" x1=\"111.5\" x2=\"152.5\" y1=\"185.9375\" y2=\"185.9375\"/></a><!--MD5=[2720a5a1f2c3fca2055b230370638851]\n",
       "link E2 to E3--><a href=\"psysml:2d349f36-3ef3-481f-a80c-9f5be02d82e3\" target=\"_top\" title=\"psysml:2d349f36-3ef3-481f-a80c-9f5be02d82e3\" xlink:actuate=\"onRequest\" xlink:href=\"psysml:2d349f36-3ef3-481f-a80c-9f5be02d82e3\" xlink:show=\"new\" xlink:title=\"psysml:2d349f36-3ef3-481f-a80c-9f5be02d82e3\" xlink:type=\"simple\"><path d=\"M193.65,194.01 C184.14,206.81 171.89,223.3 160.82,238.2 \" fill=\"none\" id=\"E2-&gt;E3\" style=\"stroke: #383838; stroke-width: 1.0;\"/><polygon fill=\"#FFFFFF\" points=\"148.6,254.66,154.3195,235.2361,165.5543,243.5896,148.6,254.66\" style=\"stroke: #383838; stroke-width: 1.0;\"/><ellipse cx=\"159.3256\" cy=\"231.8554\" fill=\"#383838\" rx=\"2\" ry=\"2\" style=\"stroke: #383838; stroke-width: 1.0;\"/><ellipse cx=\"167.3504\" cy=\"237.8221\" fill=\"#383838\" rx=\"2\" ry=\"2\" style=\"stroke: #383838; stroke-width: 1.0;\"/></a><!--MD5=[4672eba38e49728da53d11aeb285b987]\n",
       "reverse link E3 to E4--><a href=\"psysml:1fc0b9c6-f917-494b-8539-e8a30a151a21\" target=\"_top\" title=\"psysml:1fc0b9c6-f917-494b-8539-e8a30a151a21\" xlink:actuate=\"onRequest\" xlink:href=\"psysml:1fc0b9c6-f917-494b-8539-e8a30a151a21\" xlink:show=\"new\" xlink:title=\"psysml:1fc0b9c6-f917-494b-8539-e8a30a151a21\" xlink:type=\"simple\"><path d=\"M105.34,311.54 C86.29,334.8 64,362 64,362 C64,362 64,408 64,408 C64,408 64.91,423.77 65.73,437.95 \" fill=\"none\" id=\"E3&lt;-E4\" style=\"stroke: #383838; stroke-width: 1.0;\"/><polygon fill=\"#383838\" points=\"113.78,301.24,106.883,303.3449,106.1733,310.521,113.0703,308.4161,113.78,301.24\" style=\"stroke: #383838; stroke-width: 1.0;\"/><text fill=\"#000000\" font-family=\"sans-serif\" font-size=\"13\" lengthAdjust=\"spacingAndGlyphs\" textLength=\"8\" x=\"56.3137\" y=\"426.8328\">1</text></a><!--MD5=[191cde3d490a3f6d7bb551fe3ddca469]\n",
       "reverse link E3 to E5--><a href=\"psysml:1188b8bd-fcbe-4041-bfa3-3c6757b772de\" target=\"_top\" title=\"psysml:1188b8bd-fcbe-4041-bfa3-3c6757b772de\" xlink:actuate=\"onRequest\" xlink:href=\"psysml:1188b8bd-fcbe-4041-bfa3-3c6757b772de\" xlink:show=\"new\" xlink:title=\"psysml:1188b8bd-fcbe-4041-bfa3-3c6757b772de\" xlink:type=\"simple\"><path d=\"M145.17,313.57 C151.2,329.39 158.16,347.68 163.49,361.66 \" fill=\"none\" id=\"E3&lt;-E5\" style=\"stroke: #383838; stroke-width: 1.0;\"/><polygon fill=\"#FFFFFF\" points=\"140.39,301.01,138.7866,308.0406,144.6598,312.2247,146.2631,305.1941,140.39,301.01\" style=\"stroke: #383838; stroke-width: 1.0;\"/><text fill=\"#000000\" font-family=\"sans-serif\" font-size=\"13\" lengthAdjust=\"spacingAndGlyphs\" textLength=\"8\" x=\"152.2843\" y=\"350.8492\">1</text></a><!--MD5=[79568f1e445c3877b6a54524624ccc7d]\n",
       "link E4 to E6--><a href=\"psysml:b444802f-fd06-4322-964d-2bd41504258e\" target=\"_top\" title=\"psysml:b444802f-fd06-4322-964d-2bd41504258e\" xlink:actuate=\"onRequest\" xlink:href=\"psysml:b444802f-fd06-4322-964d-2bd41504258e\" xlink:show=\"new\" xlink:title=\"psysml:b444802f-fd06-4322-964d-2bd41504258e\" xlink:type=\"simple\"><path d=\"M73.58,484.24 C82.14,513.15 96,560 96,560 C96,560 112.41,591.24 126.79,618.63 \" fill=\"none\" id=\"E4-&gt;E6\" style=\"stroke: #383838; stroke-width: 1.0;\"/><polygon fill=\"#FFFFFF\" points=\"136.2,636.54,121.1704,622.9713,133.5659,616.4636,136.2,636.54\" style=\"stroke: #383838; stroke-width: 1.0;\"/><ellipse cx=\"120.2916\" cy=\"616.9948\" fill=\"#383838\" rx=\"2\" ry=\"2\" style=\"stroke: #383838; stroke-width: 1.0;\"/><ellipse cx=\"129.1456\" cy=\"612.3465\" fill=\"#383838\" rx=\"2\" ry=\"2\" style=\"stroke: #383838; stroke-width: 1.0;\"/></a><!--MD5=[3f50a3473f1dfb74d3f76443e03635af]\n",
       "reverse link E6 to E7--><a href=\"psysml:fe8fc95e-22bb-46d1-b0fd-61d73c45474f\" target=\"_top\" title=\"psysml:fe8fc95e-22bb-46d1-b0fd-61d73c45474f\" xlink:actuate=\"onRequest\" xlink:href=\"psysml:fe8fc95e-22bb-46d1-b0fd-61d73c45474f\" xlink:show=\"new\" xlink:title=\"psysml:fe8fc95e-22bb-46d1-b0fd-61d73c45474f\" xlink:type=\"simple\"><path d=\"M158.54,695.57 C163.36,711.39 168.93,729.68 173.19,743.66 \" fill=\"none\" id=\"E6&lt;-E7\" style=\"stroke: #383838; stroke-width: 1.0;\"/><polygon fill=\"#383838\" points=\"154.71,683.01,152.6319,689.9152,158.2066,694.4893,160.2847,687.5841,154.71,683.01\" style=\"stroke: #383838; stroke-width: 1.0;\"/><text fill=\"#000000\" font-family=\"sans-serif\" font-size=\"13\" lengthAdjust=\"spacingAndGlyphs\" textLength=\"8\" x=\"162.4199\" y=\"732.8492\">1</text></a><!--MD5=[14ccda38c055a5c0da953d572bc50960]\n",
       "link E7 to E3--><a href=\"psysml:599ea15b-bb0f-4f03-a502-f2e1a3a71e91\" target=\"_top\" title=\"psysml:599ea15b-bb0f-4f03-a502-f2e1a3a71e91\" xlink:actuate=\"onRequest\" xlink:href=\"psysml:599ea15b-bb0f-4f03-a502-f2e1a3a71e91\" xlink:show=\"new\" xlink:title=\"psysml:599ea15b-bb0f-4f03-a502-f2e1a3a71e91\" xlink:type=\"simple\"><path d=\"M190.27,743.99 C204.64,713.2 229,661 229,661 C229,384 229,384 229,384 C229,384 211,362 211,362 C211,362 188.27,338.12 167.2,315.98 \" fill=\"none\" id=\"E7-&gt;E3\" style=\"stroke: #383838; stroke-width: 1.0;\"/><polygon fill=\"#FFFFFF\" points=\"153.17,301.24,171.3437,310.1683,161.2072,319.825,153.17,301.24\" style=\"stroke: #383838; stroke-width: 1.0;\"/><ellipse cx=\"173.8273\" cy=\"315.6749\" fill=\"#383838\" rx=\"2\" ry=\"2\" style=\"stroke: #383838; stroke-width: 1.0;\"/><ellipse cx=\"166.5869\" cy=\"322.5725\" fill=\"#383838\" rx=\"2\" ry=\"2\" style=\"stroke: #383838; stroke-width: 1.0;\"/></a><!--MD5=[dfaffb906826c3e5aca635516100ff21]\n",
       "link E5 to E8--><a href=\"psysml:ebb03462-10dd-4a39-86ac-c1648f226bb6\" target=\"_top\" title=\"psysml:ebb03462-10dd-4a39-86ac-c1648f226bb6\" xlink:actuate=\"onRequest\" xlink:href=\"psysml:ebb03462-10dd-4a39-86ac-c1648f226bb6\" xlink:show=\"new\" xlink:title=\"psysml:ebb03462-10dd-4a39-86ac-c1648f226bb6\" xlink:type=\"simple\"><path d=\"M168.46,408.13 C164.86,430.62 159.2,466.01 154.74,493.87 \" fill=\"none\" id=\"E5-&gt;E8\" style=\"stroke: #383838; stroke-width: 1.0;\"/><polygon fill=\"#FFFFFF\" points=\"151.56,513.78,147.6458,493.9135,161.4704,496.1226,151.56,513.78\" style=\"stroke: #383838; stroke-width: 1.0;\"/><ellipse cx=\"150.5202\" cy=\"488.6005\" fill=\"#383838\" rx=\"2\" ry=\"2\" style=\"stroke: #383838; stroke-width: 1.0;\"/><ellipse cx=\"160.3949\" cy=\"490.1784\" fill=\"#383838\" rx=\"2\" ry=\"2\" style=\"stroke: #383838; stroke-width: 1.0;\"/></a><!--MD5=[03c8294790d3c57651a1993cecff665f]\n",
       "reverse link E8 to E3--><a href=\"psysml:4ca20137-091c-4af4-8b05-aa2379f8c92e\" target=\"_top\" title=\"psysml:4ca20137-091c-4af4-8b05-aa2379f8c92e\" xlink:actuate=\"onRequest\" xlink:href=\"psysml:4ca20137-091c-4af4-8b05-aa2379f8c92e\" xlink:show=\"new\" xlink:title=\"psysml:4ca20137-091c-4af4-8b05-aa2379f8c92e\" xlink:type=\"simple\"><path d=\"M141.7,500.94 C134.89,463.05 125,408 125,408 C125,408 125,362 125,362 C125,362 128.05,325.83 130.12,301.24 \" fill=\"none\" id=\"E8&lt;-E3\" style=\"stroke: #383838; stroke-width: 1.0;\"/><polygon fill=\"#FFFFFF\" points=\"144.05,514,146.9258,507.3872,141.9277,502.1892,139.0519,508.802,144.05,514\" style=\"stroke: #383838; stroke-width: 1.0;\"/><text fill=\"#000000\" font-family=\"sans-serif\" font-size=\"13\" lengthAdjust=\"spacingAndGlyphs\" textLength=\"7\" x=\"126\" y=\"389.5669\">y</text></a><!--MD5=[0d75d2178373a6a4568e5dc728f58aef]\n",
       "reverse link E8 to E6--><a href=\"psysml:4ca20137-091c-4af4-8b05-aa2379f8c92e\" target=\"_top\" title=\"psysml:4ca20137-091c-4af4-8b05-aa2379f8c92e\" xlink:actuate=\"onRequest\" xlink:href=\"psysml:4ca20137-091c-4af4-8b05-aa2379f8c92e\" xlink:show=\"new\" xlink:title=\"psysml:4ca20137-091c-4af4-8b05-aa2379f8c92e\" xlink:type=\"simple\"><path d=\"M148,573.22 C148,593.81 148,619.16 148,636.95 \" fill=\"none\" id=\"E8&lt;-E6\" style=\"stroke: #383838; stroke-width: 1.0;\"/><polygon fill=\"#FFFFFF\" points=\"148,560.19,144,566.19,148,572.19,152,566.19,148,560.19\" style=\"stroke: #383838; stroke-width: 1.0;\"/><text fill=\"#000000\" font-family=\"sans-serif\" font-size=\"13\" lengthAdjust=\"spacingAndGlyphs\" textLength=\"7\" x=\"149\" y=\"603.0669\">y</text></a><!--MD5=[23ac544a70576c3e717098101004234c]\n",
       "reverse link E9 to E10--><a href=\"psysml:bbec5841-3ffd-488b-b643-01adfe752a25\" target=\"_top\" title=\"psysml:bbec5841-3ffd-488b-b643-01adfe752a25\" xlink:actuate=\"onRequest\" xlink:href=\"psysml:bbec5841-3ffd-488b-b643-01adfe752a25\" xlink:show=\"new\" xlink:title=\"psysml:bbec5841-3ffd-488b-b643-01adfe752a25\" xlink:type=\"simple\"><path d=\"M84.39,99.1 C77.56,115.03 69.63,133.54 63.58,147.66 \" fill=\"none\" id=\"E9&lt;-E10\" style=\"stroke: #383838; stroke-width: 1.0;\"/><polygon fill=\"#FFFFFF\" points=\"89.57,87.01,83.5327,90.9535,84.8509,98.0431,90.8882,94.0996,89.57,87.01\" style=\"stroke: #383838; stroke-width: 1.0;\"/><text fill=\"#000000\" font-family=\"sans-serif\" font-size=\"13\" lengthAdjust=\"spacingAndGlyphs\" textLength=\"8\" x=\"57.0099\" y=\"136.8492\">1</text></a><!--MD5=[feeac5eb423634930294aa81f2d25a4c]\n",
       "link E10 to E3--><a href=\"psysml:fb12afbf-9138-40ff-bf3b-75b81b096774\" target=\"_top\" title=\"psysml:fb12afbf-9138-40ff-bf3b-75b81b096774\" xlink:actuate=\"onRequest\" xlink:href=\"psysml:fb12afbf-9138-40ff-bf3b-75b81b096774\" xlink:show=\"new\" xlink:title=\"psysml:fb12afbf-9138-40ff-bf3b-75b81b096774\" xlink:type=\"simple\"><path d=\"M70.35,194.01 C79.86,206.81 92.11,223.3 103.18,238.2 \" fill=\"none\" id=\"E10-&gt;E3\" style=\"stroke: #383838; stroke-width: 1.0;\"/><polygon fill=\"#FFFFFF\" points=\"115.4,254.66,98.4457,243.5896,109.6805,235.2361,115.4,254.66\" style=\"stroke: #383838; stroke-width: 1.0;\"/><ellipse cx=\"96.6496\" cy=\"237.8221\" fill=\"#383838\" rx=\"2\" ry=\"2\" style=\"stroke: #383838; stroke-width: 1.0;\"/><ellipse cx=\"104.6744\" cy=\"231.8554\" fill=\"#383838\" rx=\"2\" ry=\"2\" style=\"stroke: #383838; stroke-width: 1.0;\"/></a><!--MD5=[1fc04a95fd77ad5ce46c1a3027516051]\n",
       "reverse link E9 to E11--><a href=\"psysml:20edee2c-da5c-4ff9-9cec-febcc5f58071\" target=\"_top\" title=\"psysml:20edee2c-da5c-4ff9-9cec-febcc5f58071\" xlink:actuate=\"onRequest\" xlink:href=\"psysml:20edee2c-da5c-4ff9-9cec-febcc5f58071\" xlink:show=\"new\" xlink:title=\"psysml:20edee2c-da5c-4ff9-9cec-febcc5f58071\" xlink:type=\"simple\"><path d=\"M109.87,99.57 C114.84,115.39 120.59,133.68 124.98,147.66 \" fill=\"none\" id=\"E9&lt;-E11\" style=\"stroke: #383838; stroke-width: 1.0;\"/><polygon fill=\"#FFFFFF\" points=\"105.92,87.01,103.9044,93.9337,109.5203,98.4572,111.5359,91.5335,105.92,87.01\" style=\"stroke: #383838; stroke-width: 1.0;\"/><text fill=\"#000000\" font-family=\"sans-serif\" font-size=\"13\" lengthAdjust=\"spacingAndGlyphs\" textLength=\"8\" x=\"114.1561\" y=\"136.8492\">1</text></a><!--MD5=[0517f1ce58c4d5483948f93845c45e26]\n",
       "link E11 to E3--><a href=\"psysml:6098403c-f8e4-4c64-8bc6-7f6e4aceb826\" target=\"_top\" title=\"psysml:6098403c-f8e4-4c64-8bc6-7f6e4aceb826\" xlink:actuate=\"onRequest\" xlink:href=\"psysml:6098403c-f8e4-4c64-8bc6-7f6e4aceb826\" xlink:show=\"new\" xlink:title=\"psysml:6098403c-f8e4-4c64-8bc6-7f6e4aceb826\" xlink:type=\"simple\"><path d=\"M132,194.01 C132,205.69 132,220.46 132,234.28 \" fill=\"none\" id=\"E11-&gt;E3\" style=\"stroke: #383838; stroke-width: 1.0;\"/><polygon fill=\"#FFFFFF\" points=\"132,254.66,125,235.66,139,235.66,132,254.66\" style=\"stroke: #383838; stroke-width: 1.0;\"/><ellipse cx=\"127\" cy=\"229.96\" fill=\"#383838\" rx=\"2\" ry=\"2\" style=\"stroke: #383838; stroke-width: 1.0;\"/><ellipse cx=\"137\" cy=\"229.96\" fill=\"#383838\" rx=\"2\" ry=\"2\" style=\"stroke: #383838; stroke-width: 1.0;\"/></a><!--MD5=[053ac4ae0382852bb20262bf1e3dd394]\n",
       "@startuml\r\n",
       "skinparam linetype polyline\r\n",
       "skinparam monochrome true\r\n",
       "skinparam classbackgroundcolor white\r\n",
       "skinparam shadowing false\r\n",
       "skinparam wrapWidth 300\r\n",
       "hide circle\r\n",
       "\r\n",
       "package \"ItemTest\" as E1  [[psysml:05177c11-5394-41b2-a0a0-71a4c06ed611 ]]  {\r\n",
       "comp usage \"f: A \" as E2  <<(T,blue) item>> [[psysml:9b37ce48-aa06-4adb-ba3b-3b1410731947 ]] {\r\n",
       "}\r\n",
       "comp def \"A\" as E3  <<(T,blue) item  def>> [[psysml:373f36dd-9125-4f4d-9beb-8d6cd21e1469 ]] {\r\n",
       "}\r\n",
       "comp usage \"b: B \" as E4  <<(T,blue) item>> [[psysml:130e11a2-3d5f-4cd9-b0cd-9225a7528360 ]] {\r\n",
       "}\r\n",
       "comp usage \"c: C \" as E5  <<(T,blue) part>> [[psysml:80ae9a50-ac1f-4423-b935-68d8f5716f01 ]] {\r\n",
       "}\r\n",
       "comp def \"<i>B</i>\" as E6  <<(T,blue) item  def>> [[psysml:7d838d86-0408-4401-9cbf-32b733f3993a ]] {\r\n",
       "}\r\n",
       "comp usage \"<i>a</i>: A \" as E7  <<(T,blue) part>> [[psysml:d06b8fcb-8cda-493c-875d-bdf01ed715df ]] {\r\n",
       "}\r\n",
       "comp def \"C\" as E8  <<(T,blue) part  def>> [[psysml:a2efb8df-7581-49ed-b24f-8030c12b0405 ]] {\r\n",
       "}\r\n",
       "comp def \"P\" as E9  <<(T,blue) port  def>> [[psysml:91f3ce36-c57b-44eb-a625-32b1f3011842 ]] {\r\n",
       "}\r\n",
       "comp usage \"a1: A \" as E10  <<(T,blue) item>> [[psysml:5a8db81a-c733-4c6f-be90-4f9ffe214caa ]] {\r\n",
       "}\r\n",
       "comp usage \"a2: A \" as E11  <<(T,blue) item>> [[psysml:50797105-d3dc-4af6-be0e-986a23cb6cc7 ]] {\r\n",
       "}\r\n",
       "}\r\n",
       "E2 - -:|> E3 [[psysml:2d349f36-3ef3-481f-a80c-9f5be02d82e3 ]] \r\n",
       "E3 *- - \"1\"E4 [[psysml:1fc0b9c6-f917-494b-8539-e8a30a151a21 ]] \r\n",
       "E3 o- - \"1\"E5 [[psysml:1188b8bd-fcbe-4041-bfa3-3c6757b772de ]] \r\n",
       "E4 - -:|> E6 [[psysml:b444802f-fd06-4322-964d-2bd41504258e ]] \r\n",
       "E6 *- - \"1\"E7 [[psysml:fe8fc95e-22bb-46d1-b0fd-61d73c45474f ]] \r\n",
       "E7 - -:|> E3 [[psysml:599ea15b-bb0f-4f03-a502-f2e1a3a71e91 ]] \r\n",
       "E5 - -:|> E8 [[psysml:ebb03462-10dd-4a39-86ac-c1648f226bb6 ]] \r\n",
       "E8 o- - E3 [[psysml:4ca20137-091c-4af4-8b05-aa2379f8c92e ]] : y\r\n",
       "E8 o- - E6 [[psysml:4ca20137-091c-4af4-8b05-aa2379f8c92e ]] : y\r\n",
       "E9 o- - \"1\"E10 [[psysml:bbec5841-3ffd-488b-b643-01adfe752a25 ]] \r\n",
       "E10 - -:|> E3 [[psysml:fb12afbf-9138-40ff-bf3b-75b81b096774 ]] \r\n",
       "E9 o- - \"1\"E11 [[psysml:20edee2c-da5c-4ff9-9cec-febcc5f58071 ]] \r\n",
       "E11 - -:|> E3 [[psysml:6098403c-f8e4-4c64-8bc6-7f6e4aceb826 ]] \r\n",
       "@enduml\r\n",
       "\n",
       "PlantUML version 1.2020.13(Sat Jun 13 12:26:38 UTC 2020)\n",
       "(EPL source distribution)\n",
       "Java Runtime: OpenJDK Runtime Environment\n",
       "JVM: OpenJDK 64-Bit Server VM\n",
       "Default Encoding: UTF-8\n",
       "Language: en\n",
       "Country: null\n",
       "--></g></svg>"
      ]
     },
     "execution_count": 10,
     "metadata": {},
     "output_type": "execute_result"
    }
   ],
   "source": [
    "%viz --style=\"POLYLINE\" --view=\"Tree\" \"ItemTest\""
   ]
  },
  {
   "cell_type": "code",
   "execution_count": 11,
   "id": "5127b810",
   "metadata": {
    "execution": {
     "iopub.execute_input": "2022-04-22T09:48:23.688834Z",
     "iopub.status.busy": "2022-04-22T09:48:23.688433Z",
     "iopub.status.idle": "2022-04-22T09:48:23.694192Z",
     "shell.execute_reply": "2022-04-22T09:48:23.694434Z"
    }
   },
   "outputs": [
    {
     "data": {
      "image/svg+xml": [
       "<?xml version=\"1.0\" encoding=\"UTF-8\" standalone=\"no\"?><svg xmlns=\"http://www.w3.org/2000/svg\" xmlns:xlink=\"http://www.w3.org/1999/xlink\" contentScriptType=\"application/ecmascript\" contentStyleType=\"text/css\" height=\"12px\" preserveAspectRatio=\"none\" style=\"width:12px;height:12px;\" version=\"1.1\" viewBox=\"0 0 12 12\" width=\"12px\" zoomAndPan=\"magnify\"><defs/><g><!--MD5=[896ac0e7a515d8dd7765a661cb4ee08b]\n",
       "@startuml\r\n",
       "skinparam linetype polyline\r\n",
       "skinparam monochrome true\r\n",
       "skinparam classbackgroundcolor white\r\n",
       "skinparam shadowing false\r\n",
       "skinparam wrapWidth 300\r\n",
       "hide circle\r\n",
       "\r\n",
       "@enduml\r\n",
       "\n",
       "PlantUML version 1.2020.13(Sat Jun 13 12:26:38 UTC 2020)\n",
       "(EPL source distribution)\n",
       "Java Runtime: OpenJDK Runtime Environment\n",
       "JVM: OpenJDK 64-Bit Server VM\n",
       "Default Encoding: UTF-8\n",
       "Language: en\n",
       "Country: null\n",
       "--></g></svg>"
      ]
     },
     "execution_count": 11,
     "metadata": {},
     "output_type": "execute_result"
    }
   ],
   "source": [
    "%viz --style=\"POLYLINE\" --view=\"State\" \"ItemTest\""
   ]
  },
  {
   "cell_type": "code",
   "execution_count": 12,
   "id": "f25afa65",
   "metadata": {
    "execution": {
     "iopub.execute_input": "2022-04-22T09:48:23.744348Z",
     "iopub.status.busy": "2022-04-22T09:48:23.744155Z",
     "iopub.status.idle": "2022-04-22T09:48:23.782879Z",
     "shell.execute_reply": "2022-04-22T09:48:23.783336Z"
    }
   },
   "outputs": [
    {
     "data": {
      "image/svg+xml": [
       "<?xml version=\"1.0\" encoding=\"UTF-8\" standalone=\"no\"?><svg xmlns=\"http://www.w3.org/2000/svg\" xmlns:xlink=\"http://www.w3.org/1999/xlink\" contentScriptType=\"application/ecmascript\" contentStyleType=\"text/css\" height=\"179px\" preserveAspectRatio=\"none\" style=\"width:474px;height:179px;\" version=\"1.1\" viewBox=\"0 0 474 179\" width=\"474px\" zoomAndPan=\"magnify\"><defs/><g><!--MD5=[fbc87193dbaf4d95561dea2c320d4a47]\n",
       "cluster E1--><a href=\"psysml:05177c11-5394-41b2-a0a0-71a4c06ed611\" target=\"_top\" title=\"psysml:05177c11-5394-41b2-a0a0-71a4c06ed611\" xlink:actuate=\"onRequest\" xlink:href=\"psysml:05177c11-5394-41b2-a0a0-71a4c06ed611\" xlink:show=\"new\" xlink:title=\"psysml:05177c11-5394-41b2-a0a0-71a4c06ed611\" xlink:type=\"simple\"><polygon fill=\"#FFFFFF\" points=\"16,6,83,6,90,28.2969,452,28.2969,452,167,16,167,16,6\" style=\"stroke: #000000; stroke-width: 1.5;\"/><line style=\"stroke: #000000; stroke-width: 1.5;\" x1=\"16\" x2=\"90\" y1=\"28.2969\" y2=\"28.2969\"/><text fill=\"#000000\" font-family=\"sans-serif\" font-size=\"14\" font-weight=\"bold\" lengthAdjust=\"spacingAndGlyphs\" textLength=\"61\" x=\"20\" y=\"20.9951\">ItemTest</text></a><!--MD5=[de5ec2e2e8f62f467e546659f5068c88]\n",
       "cluster E5--><a href=\"psysml:a2efb8df-7581-49ed-b24f-8030c12b0405\" target=\"_top\" title=\"psysml:a2efb8df-7581-49ed-b24f-8030c12b0405\" xlink:actuate=\"onRequest\" xlink:href=\"psysml:a2efb8df-7581-49ed-b24f-8030c12b0405\" xlink:show=\"new\" xlink:title=\"psysml:a2efb8df-7581-49ed-b24f-8030c12b0405\" xlink:type=\"simple\"><rect fill=\"#FFFFFF\" height=\"88.5\" id=\"E5\" style=\"stroke: #383838; stroke-width: 1.5;\" width=\"124\" x=\"312\" y=\"62.5\"/><rect fill=\"#F8F8F8\" height=\"37.9375\" style=\"stroke: #383838; stroke-width: 1.5;\" width=\"124\" x=\"312\" y=\"62.5\"/><text fill=\"#000000\" font-family=\"sans-serif\" font-size=\"12\" font-style=\"italic\" lengthAdjust=\"spacingAndGlyphs\" textLength=\"68\" x=\"340\" y=\"78.6387\">«part  def»</text><text fill=\"#000000\" font-family=\"sans-serif\" font-size=\"12\" lengthAdjust=\"spacingAndGlyphs\" textLength=\"8\" x=\"370\" y=\"92.6074\">C</text></a><g id=\"E1.E3\"><a href=\"psysml:373f36dd-9125-4f4d-9beb-8d6cd21e1469\" target=\"_top\" title=\"psysml:373f36dd-9125-4f4d-9beb-8d6cd21e1469\" xlink:actuate=\"onRequest\" xlink:href=\"psysml:373f36dd-9125-4f4d-9beb-8d6cd21e1469\" xlink:show=\"new\" xlink:title=\"psysml:373f36dd-9125-4f4d-9beb-8d6cd21e1469\" xlink:type=\"simple\"><rect fill=\"#FFFFFF\" height=\"42.9375\" id=\"E3\" style=\"stroke: #383838; stroke-width: 1.5;\" width=\"76\" x=\"32\" y=\"96\"/><rect fill=\"#F8F8F8\" height=\"37.9375\" style=\"stroke: #383838; stroke-width: 1.5;\" width=\"76\" x=\"32\" y=\"96\"/><text fill=\"#000000\" font-family=\"sans-serif\" font-size=\"12\" font-style=\"italic\" lengthAdjust=\"spacingAndGlyphs\" textLength=\"69\" x=\"35.5\" y=\"112.1387\">«item  def»</text><text fill=\"#000000\" font-family=\"sans-serif\" font-size=\"12\" lengthAdjust=\"spacingAndGlyphs\" textLength=\"8\" x=\"66\" y=\"126.1074\">A</text></a></g><g id=\"E1.E4\"><a href=\"psysml:7d838d86-0408-4401-9cbf-32b733f3993a\" target=\"_top\" title=\"psysml:7d838d86-0408-4401-9cbf-32b733f3993a\" xlink:actuate=\"onRequest\" xlink:href=\"psysml:7d838d86-0408-4401-9cbf-32b733f3993a\" xlink:show=\"new\" xlink:title=\"psysml:7d838d86-0408-4401-9cbf-32b733f3993a\" xlink:type=\"simple\"><rect fill=\"#FFFFFF\" height=\"42.9375\" id=\"E4\" style=\"stroke: #383838; stroke-width: 1.5;\" width=\"76\" x=\"228\" y=\"41\"/><rect fill=\"#F8F8F8\" height=\"37.9375\" style=\"stroke: #383838; stroke-width: 1.5;\" width=\"76\" x=\"228\" y=\"41\"/><text fill=\"#000000\" font-family=\"sans-serif\" font-size=\"12\" font-style=\"italic\" lengthAdjust=\"spacingAndGlyphs\" textLength=\"69\" x=\"231.5\" y=\"57.1387\">«item  def»</text><text fill=\"#000000\" font-family=\"sans-serif\" font-size=\"12\" font-style=\"italic\" lengthAdjust=\"spacingAndGlyphs\" textLength=\"8\" x=\"262\" y=\"71.1074\">B</text></a></g><g id=\"E1.E7\"><a href=\"psysml:91f3ce36-c57b-44eb-a625-32b1f3011842\" target=\"_top\" title=\"psysml:91f3ce36-c57b-44eb-a625-32b1f3011842\" xlink:actuate=\"onRequest\" xlink:href=\"psysml:91f3ce36-c57b-44eb-a625-32b1f3011842\" xlink:show=\"new\" xlink:title=\"psysml:91f3ce36-c57b-44eb-a625-32b1f3011842\" xlink:type=\"simple\"><rect fill=\"#FFFFFF\" height=\"42.9375\" id=\"E7\" style=\"stroke: #383838; stroke-width: 1.5;\" width=\"75\" x=\"117.5\" y=\"41\"/><rect fill=\"#F8F8F8\" height=\"37.9375\" style=\"stroke: #383838; stroke-width: 1.5;\" width=\"75\" x=\"117.5\" y=\"41\"/><text fill=\"#000000\" font-family=\"sans-serif\" font-size=\"12\" font-style=\"italic\" lengthAdjust=\"spacingAndGlyphs\" textLength=\"68\" x=\"121\" y=\"57.1387\">«port  def»</text><text fill=\"#000000\" font-family=\"sans-serif\" font-size=\"12\" lengthAdjust=\"spacingAndGlyphs\" textLength=\"8\" x=\"151\" y=\"71.1074\">P</text></a></g><g id=\"E1.E2\"><a href=\"psysml:9b37ce48-aa06-4adb-ba3b-3b1410731947\" target=\"_top\" title=\"psysml:9b37ce48-aa06-4adb-ba3b-3b1410731947\" xlink:actuate=\"onRequest\" xlink:href=\"psysml:9b37ce48-aa06-4adb-ba3b-3b1410731947\" xlink:show=\"new\" xlink:title=\"psysml:9b37ce48-aa06-4adb-ba3b-3b1410731947\" xlink:type=\"simple\"><rect fill=\"#FFFFFF\" height=\"42.9375\" id=\"E2\" rx=\"10\" ry=\"10\" style=\"stroke: #383838; stroke-width: 1.5;\" width=\"50\" x=\"32\" y=\"41\"/><rect fill=\"#F8F8F8\" height=\"37.9375\" rx=\"10\" ry=\"10\" style=\"stroke: #F8F8F8; stroke-width: 1.5;\" width=\"50\" x=\"32\" y=\"41\"/><rect fill=\"#F8F8F8\" height=\"10\" style=\"stroke: #F8F8F8; stroke-width: 1.5;\" width=\"50\" x=\"32\" y=\"68.9375\"/><rect fill=\"none\" height=\"42.9375\" id=\"E2\" rx=\"10\" ry=\"10\" style=\"stroke: #383838; stroke-width: 1.5;\" width=\"50\" x=\"32\" y=\"41\"/><text fill=\"#000000\" font-family=\"sans-serif\" font-size=\"12\" font-style=\"italic\" lengthAdjust=\"spacingAndGlyphs\" textLength=\"41\" x=\"36.5\" y=\"57.1387\">«item»</text><text fill=\"#000000\" font-family=\"sans-serif\" font-size=\"12\" lengthAdjust=\"spacingAndGlyphs\" textLength=\"20\" x=\"47\" y=\"71.1074\">f: A</text></a></g><text fill=\"#000000\" font-family=\"sans-serif\" font-size=\"14\" lengthAdjust=\"spacingAndGlyphs\" textLength=\"43\" x=\"350.5\" y=\"41.1982\">y: A, B</text><rect fill=\"#383838\" height=\"12\" style=\"stroke: #F8F8F8; stroke-width: 1.5;\" width=\"12\" x=\"368\" y=\"56.5\"/><!--MD5=[2720a5a1f2c3fca2055b230370638851]\n",
       "link E2 to E3--><a href=\"psysml:2d349f36-3ef3-481f-a80c-9f5be02d82e3\" target=\"_top\" title=\"psysml:2d349f36-3ef3-481f-a80c-9f5be02d82e3\" xlink:actuate=\"onRequest\" xlink:href=\"psysml:2d349f36-3ef3-481f-a80c-9f5be02d82e3\" xlink:show=\"new\" xlink:title=\"psysml:2d349f36-3ef3-481f-a80c-9f5be02d82e3\" xlink:type=\"simple\"><path d=\"M62.06,84.14 C62.09,84.26 62.12,84.38 62.15,84.5 \" fill=\"none\" id=\"E2-&gt;E3\" style=\"stroke: #383838; stroke-width: 1.0;\"/><polygon fill=\"#FFFFFF\" points=\"64.93,95.83,53.5976,79.0497,67.193,75.7084,64.93,95.83\" style=\"stroke: #383838; stroke-width: 1.0;\"/><ellipse cx=\"54.1794\" cy=\"73.0371\" fill=\"#383838\" rx=\"2\" ry=\"2\" style=\"stroke: #383838; stroke-width: 1.0;\"/><ellipse cx=\"63.8904\" cy=\"70.6505\" fill=\"#383838\" rx=\"2\" ry=\"2\" style=\"stroke: #383838; stroke-width: 1.0;\"/></a><!--MD5=[0541b36d06d1c64a41fef4a66582e294]\n",
       "@startuml\r\n",
       "skinparam ranksep 10\r\n",
       "skinparam rectangle {\r\n",
       " backgroundColor<<block>> LightGreen\r\n",
       "}\r\n",
       "skinparam linetype polyline\r\n",
       "skinparam monochrome true\r\n",
       "skinparam classbackgroundcolor white\r\n",
       "skinparam shadowing false\r\n",
       "skinparam wrapWidth 300\r\n",
       "hide circle\r\n",
       "\r\n",
       "package \"ItemTest\" as E1  [[psysml:05177c11-5394-41b2-a0a0-71a4c06ed611 ]]  {\r\n",
       "rec usage \"f: A\" as E2  <<(T,blue) item>> [[psysml:9b37ce48-aa06-4adb-ba3b-3b1410731947 ]] {\r\n",
       "}\r\n",
       "def \"A\" as E3  <<(T,blue) item  def>> [[psysml:373f36dd-9125-4f4d-9beb-8d6cd21e1469 ]] \r\n",
       "def \"<i>B</i>\" as E4  <<(T,blue) item  def>> [[psysml:7d838d86-0408-4401-9cbf-32b733f3993a ]] \r\n",
       "rec def \"C\" as E5  <<(T,blue) part  def>> [[psysml:a2efb8df-7581-49ed-b24f-8030c12b0405 ]] {\r\n",
       "portin \"y: A, B \" as E6  <<(T,blue) reference>> [[psysml:4ca20137-091c-4af4-8b05-aa2379f8c92e ]] \r\n",
       "}\r\n",
       "def \"P\" as E7  <<(T,blue) port  def>> [[psysml:91f3ce36-c57b-44eb-a625-32b1f3011842 ]] \r\n",
       "}\r\n",
       "E2 - -:|> E3 [[psysml:2d349f36-3ef3-481f-a80c-9f5be02d82e3 ]] \r\n",
       "@enduml\r\n",
       "\n",
       "PlantUML version 1.2020.13(Sat Jun 13 12:26:38 UTC 2020)\n",
       "(EPL source distribution)\n",
       "Java Runtime: OpenJDK Runtime Environment\n",
       "JVM: OpenJDK 64-Bit Server VM\n",
       "Default Encoding: UTF-8\n",
       "Language: en\n",
       "Country: null\n",
       "--></g></svg>"
      ]
     },
     "execution_count": 12,
     "metadata": {},
     "output_type": "execute_result"
    }
   ],
   "source": [
    "%viz --style=\"POLYLINE\" --view=\"Interconnection\" \"ItemTest\""
   ]
  },
  {
   "cell_type": "code",
   "execution_count": 13,
   "id": "1aee1e44",
   "metadata": {
    "execution": {
     "iopub.execute_input": "2022-04-22T09:48:23.832961Z",
     "iopub.status.busy": "2022-04-22T09:48:23.832758Z",
     "iopub.status.idle": "2022-04-22T09:48:23.837297Z",
     "shell.execute_reply": "2022-04-22T09:48:23.836955Z"
    }
   },
   "outputs": [
    {
     "data": {
      "image/svg+xml": [
       "<?xml version=\"1.0\" encoding=\"UTF-8\" standalone=\"no\"?><svg xmlns=\"http://www.w3.org/2000/svg\" xmlns:xlink=\"http://www.w3.org/1999/xlink\" contentScriptType=\"application/ecmascript\" contentStyleType=\"text/css\" height=\"12px\" preserveAspectRatio=\"none\" style=\"width:12px;height:12px;\" version=\"1.1\" viewBox=\"0 0 12 12\" width=\"12px\" zoomAndPan=\"magnify\"><defs/><g><!--MD5=[97bbf32f66ccd50cbc40d92ea8f5a65e]\n",
       "@startuml\r\n",
       "skinparam ranksep 8\r\n",
       "skinparam linetype polyline\r\n",
       "skinparam monochrome true\r\n",
       "skinparam classbackgroundcolor white\r\n",
       "skinparam shadowing false\r\n",
       "skinparam wrapWidth 300\r\n",
       "hide circle\r\n",
       "\r\n",
       "@enduml\r\n",
       "\n",
       "PlantUML version 1.2020.13(Sat Jun 13 12:26:38 UTC 2020)\n",
       "(EPL source distribution)\n",
       "Java Runtime: OpenJDK Runtime Environment\n",
       "JVM: OpenJDK 64-Bit Server VM\n",
       "Default Encoding: UTF-8\n",
       "Language: en\n",
       "Country: null\n",
       "--></g></svg>"
      ]
     },
     "execution_count": 13,
     "metadata": {},
     "output_type": "execute_result"
    }
   ],
   "source": [
    "%viz --style=\"POLYLINE\" --view=\"Action\" \"ItemTest\""
   ]
  },
  {
   "cell_type": "code",
   "execution_count": 14,
   "id": "3a922b60",
   "metadata": {
    "execution": {
     "iopub.execute_input": "2022-04-22T09:48:23.886952Z",
     "iopub.status.busy": "2022-04-22T09:48:23.886712Z",
     "iopub.status.idle": "2022-04-22T09:48:23.890908Z",
     "shell.execute_reply": "2022-04-22T09:48:23.891211Z"
    }
   },
   "outputs": [
    {
     "data": {
      "image/svg+xml": [
       "<?xml version=\"1.0\" encoding=\"UTF-8\" standalone=\"no\"?><svg xmlns=\"http://www.w3.org/2000/svg\" xmlns:xlink=\"http://www.w3.org/1999/xlink\" contentScriptType=\"application/ecmascript\" contentStyleType=\"text/css\" height=\"12px\" preserveAspectRatio=\"none\" style=\"width:12px;height:12px;\" version=\"1.1\" viewBox=\"0 0 12 12\" width=\"12px\" zoomAndPan=\"magnify\"><defs/><g><!--MD5=[dc938048236c351797870c36b62f92ad]\n",
       "@startuml\r\n",
       "skinparam roundcorner 20\r\n",
       "skinparam BoxPadding 20\r\n",
       "skinparam SequenceBoxBackgroundColor #white\r\n",
       "skinparam style strictuml\r\n",
       "skinparam maxMessageSize 100\r\n",
       "skinparam linetype polyline\r\n",
       "skinparam monochrome true\r\n",
       "skinparam classbackgroundcolor white\r\n",
       "skinparam shadowing false\r\n",
       "skinparam wrapWidth 300\r\n",
       "hide circle\r\n",
       "\r\n",
       "@enduml\r\n",
       "\n",
       "PlantUML version 1.2020.13(Sat Jun 13 12:26:38 UTC 2020)\n",
       "(EPL source distribution)\n",
       "Java Runtime: OpenJDK Runtime Environment\n",
       "JVM: OpenJDK 64-Bit Server VM\n",
       "Default Encoding: UTF-8\n",
       "Language: en\n",
       "Country: null\n",
       "--></g></svg>"
      ]
     },
     "execution_count": 14,
     "metadata": {},
     "output_type": "execute_result"
    }
   ],
   "source": [
    "%viz --style=\"POLYLINE\" --view=\"Sequence\" \"ItemTest\""
   ]
  },
  {
   "cell_type": "code",
   "execution_count": 15,
   "id": "acf121de",
   "metadata": {
    "execution": {
     "iopub.execute_input": "2022-04-22T09:48:23.941509Z",
     "iopub.status.busy": "2022-04-22T09:48:23.941268Z",
     "iopub.status.idle": "2022-04-22T09:48:24.000690Z",
     "shell.execute_reply": "2022-04-22T09:48:23.999377Z"
    }
   },
   "outputs": [
    {
     "data": {
      "image/svg+xml": [
       "<?xml version=\"1.0\" encoding=\"UTF-8\" standalone=\"no\"?><svg xmlns=\"http://www.w3.org/2000/svg\" xmlns:xlink=\"http://www.w3.org/1999/xlink\" contentScriptType=\"application/ecmascript\" contentStyleType=\"text/css\" height=\"818px\" preserveAspectRatio=\"none\" style=\"width:270px;height:818px;\" version=\"1.1\" viewBox=\"0 0 270 818\" width=\"270px\" zoomAndPan=\"magnify\"><defs/><g><!--MD5=[fbc87193dbaf4d95561dea2c320d4a47]\n",
       "cluster E1--><a href=\"psysml:05177c11-5394-41b2-a0a0-71a4c06ed611\" target=\"_top\" title=\"psysml:05177c11-5394-41b2-a0a0-71a4c06ed611\" xlink:actuate=\"onRequest\" xlink:href=\"psysml:05177c11-5394-41b2-a0a0-71a4c06ed611\" xlink:show=\"new\" xlink:title=\"psysml:05177c11-5394-41b2-a0a0-71a4c06ed611\" xlink:type=\"simple\"><polygon fill=\"#FFFFFF\" points=\"16,6,83,6,90,28.2969,248,28.2969,248,806,16,806,16,6\" style=\"stroke: #000000; stroke-width: 1.5;\"/><line style=\"stroke: #000000; stroke-width: 1.5;\" x1=\"16\" x2=\"90\" y1=\"28.2969\" y2=\"28.2969\"/><text fill=\"#000000\" font-family=\"sans-serif\" font-size=\"14\" font-weight=\"bold\" lengthAdjust=\"spacingAndGlyphs\" textLength=\"61\" x=\"20\" y=\"20.9951\">ItemTest</text></a><!--MD5=[b4997ac47864f28c2f74865a473b2911]\n",
       "class E2--><a href=\"psysml:9b37ce48-aa06-4adb-ba3b-3b1410731947\" target=\"_top\" title=\"psysml:9b37ce48-aa06-4adb-ba3b-3b1410731947\" xlink:actuate=\"onRequest\" xlink:href=\"psysml:9b37ce48-aa06-4adb-ba3b-3b1410731947\" xlink:show=\"new\" xlink:title=\"psysml:9b37ce48-aa06-4adb-ba3b-3b1410731947\" xlink:type=\"simple\"><rect fill=\"#FFFFFF\" height=\"45.9375\" id=\"E2\" rx=\"10\" ry=\"10\" style=\"stroke: #383838; stroke-width: 1.5;\" width=\"43\" x=\"188.5\" y=\"148\"/><text fill=\"#000000\" font-family=\"sans-serif\" font-size=\"12\" font-style=\"italic\" lengthAdjust=\"spacingAndGlyphs\" textLength=\"41\" x=\"189.5\" y=\"164.1387\">«item»</text><text fill=\"#000000\" font-family=\"sans-serif\" font-size=\"12\" lengthAdjust=\"spacingAndGlyphs\" textLength=\"20\" x=\"198\" y=\"178.1074\">f: A</text><line style=\"stroke: #383838; stroke-width: 1.5;\" x1=\"189.5\" x2=\"230.5\" y1=\"185.9375\" y2=\"185.9375\"/></a><!--MD5=[09b614a08d8cba4a07c9adeb5e0fee81]\n",
       "class E3--><a href=\"psysml:373f36dd-9125-4f4d-9beb-8d6cd21e1469\" target=\"_top\" title=\"psysml:373f36dd-9125-4f4d-9beb-8d6cd21e1469\" xlink:actuate=\"onRequest\" xlink:href=\"psysml:373f36dd-9125-4f4d-9beb-8d6cd21e1469\" xlink:show=\"new\" xlink:title=\"psysml:373f36dd-9125-4f4d-9beb-8d6cd21e1469\" xlink:type=\"simple\"><rect fill=\"#FFFFFF\" height=\"45.9375\" id=\"E3\" style=\"stroke: #383838; stroke-width: 1.5;\" width=\"71\" x=\"96.5\" y=\"255\"/><text fill=\"#000000\" font-family=\"sans-serif\" font-size=\"12\" font-style=\"italic\" lengthAdjust=\"spacingAndGlyphs\" textLength=\"69\" x=\"97.5\" y=\"271.1387\">«item  def»</text><text fill=\"#000000\" font-family=\"sans-serif\" font-size=\"12\" lengthAdjust=\"spacingAndGlyphs\" textLength=\"8\" x=\"128\" y=\"285.1074\">A</text><line style=\"stroke: #383838; stroke-width: 1.5;\" x1=\"97.5\" x2=\"166.5\" y1=\"292.9375\" y2=\"292.9375\"/></a><!--MD5=[ebbe1d658d1005bcc118a6aa81145e00]\n",
       "class E4--><a href=\"psysml:130e11a2-3d5f-4cd9-b0cd-9225a7528360\" target=\"_top\" title=\"psysml:130e11a2-3d5f-4cd9-b0cd-9225a7528360\" xlink:actuate=\"onRequest\" xlink:href=\"psysml:130e11a2-3d5f-4cd9-b0cd-9225a7528360\" xlink:show=\"new\" xlink:title=\"psysml:130e11a2-3d5f-4cd9-b0cd-9225a7528360\" xlink:type=\"simple\"><rect fill=\"#FFFFFF\" height=\"45.9375\" id=\"E4\" rx=\"10\" ry=\"10\" style=\"stroke: #383838; stroke-width: 1.5;\" width=\"43\" x=\"45.5\" y=\"438\"/><text fill=\"#000000\" font-family=\"sans-serif\" font-size=\"12\" font-style=\"italic\" lengthAdjust=\"spacingAndGlyphs\" textLength=\"41\" x=\"46.5\" y=\"454.1387\">«item»</text><text fill=\"#000000\" font-family=\"sans-serif\" font-size=\"12\" lengthAdjust=\"spacingAndGlyphs\" textLength=\"24\" x=\"53\" y=\"468.1074\">b: B</text><line style=\"stroke: #383838; stroke-width: 1.5;\" x1=\"46.5\" x2=\"87.5\" y1=\"475.9375\" y2=\"475.9375\"/></a><!--MD5=[270fce915f116d4de14055a7c1d9a0f3]\n",
       "class E5--><a href=\"psysml:80ae9a50-ac1f-4423-b935-68d8f5716f01\" target=\"_top\" title=\"psysml:80ae9a50-ac1f-4423-b935-68d8f5716f01\" xlink:actuate=\"onRequest\" xlink:href=\"psysml:80ae9a50-ac1f-4423-b935-68d8f5716f01\" xlink:show=\"new\" xlink:title=\"psysml:80ae9a50-ac1f-4423-b935-68d8f5716f01\" xlink:type=\"simple\"><rect fill=\"#FFFFFF\" height=\"45.9375\" id=\"E5\" rx=\"10\" ry=\"10\" style=\"stroke: #383838; stroke-width: 1.5;\" width=\"42\" x=\"151\" y=\"362\"/><text fill=\"#000000\" font-family=\"sans-serif\" font-size=\"12\" font-style=\"italic\" lengthAdjust=\"spacingAndGlyphs\" textLength=\"40\" x=\"152\" y=\"378.1387\">«part»</text><text fill=\"#000000\" font-family=\"sans-serif\" font-size=\"12\" lengthAdjust=\"spacingAndGlyphs\" textLength=\"23\" x=\"158.5\" y=\"392.1074\">c: C</text><line style=\"stroke: #383838; stroke-width: 1.5;\" x1=\"152\" x2=\"192\" y1=\"399.9375\" y2=\"399.9375\"/></a><!--MD5=[60a26617385b1d2d0262a64233df1f8d]\n",
       "class E6--><a href=\"psysml:7d838d86-0408-4401-9cbf-32b733f3993a\" target=\"_top\" title=\"psysml:7d838d86-0408-4401-9cbf-32b733f3993a\" xlink:actuate=\"onRequest\" xlink:href=\"psysml:7d838d86-0408-4401-9cbf-32b733f3993a\" xlink:show=\"new\" xlink:title=\"psysml:7d838d86-0408-4401-9cbf-32b733f3993a\" xlink:type=\"simple\"><rect fill=\"#FFFFFF\" height=\"45.9375\" id=\"E6\" style=\"stroke: #383838; stroke-width: 1.5;\" width=\"71\" x=\"112.5\" y=\"637\"/><text fill=\"#000000\" font-family=\"sans-serif\" font-size=\"12\" font-style=\"italic\" lengthAdjust=\"spacingAndGlyphs\" textLength=\"69\" x=\"113.5\" y=\"653.1387\">«item  def»</text><text fill=\"#000000\" font-family=\"sans-serif\" font-size=\"12\" font-style=\"italic\" lengthAdjust=\"spacingAndGlyphs\" textLength=\"8\" x=\"144\" y=\"667.1074\">B</text><line style=\"stroke: #383838; stroke-width: 1.5;\" x1=\"113.5\" x2=\"182.5\" y1=\"674.9375\" y2=\"674.9375\"/></a><!--MD5=[2156ba9850f5573cc1fc38a6a4b2f02b]\n",
       "class E7--><a href=\"psysml:d06b8fcb-8cda-493c-875d-bdf01ed715df\" target=\"_top\" title=\"psysml:d06b8fcb-8cda-493c-875d-bdf01ed715df\" xlink:actuate=\"onRequest\" xlink:href=\"psysml:d06b8fcb-8cda-493c-875d-bdf01ed715df\" xlink:show=\"new\" xlink:title=\"psysml:d06b8fcb-8cda-493c-875d-bdf01ed715df\" xlink:type=\"simple\"><rect fill=\"#FFFFFF\" height=\"45.9375\" id=\"E7\" rx=\"10\" ry=\"10\" style=\"stroke: #383838; stroke-width: 1.5;\" width=\"42\" x=\"159\" y=\"744\"/><text fill=\"#000000\" font-family=\"sans-serif\" font-size=\"12\" font-style=\"italic\" lengthAdjust=\"spacingAndGlyphs\" textLength=\"40\" x=\"160\" y=\"760.1387\">«part»</text><text fill=\"#000000\" font-family=\"sans-serif\" font-size=\"12\" font-style=\"italic\" lengthAdjust=\"spacingAndGlyphs\" textLength=\"8\" x=\"166\" y=\"774.1074\">a</text><text fill=\"#000000\" font-family=\"sans-serif\" font-size=\"12\" lengthAdjust=\"spacingAndGlyphs\" textLength=\"16\" x=\"174\" y=\"774.1074\">: A</text><line style=\"stroke: #383838; stroke-width: 1.5;\" x1=\"160\" x2=\"200\" y1=\"781.9375\" y2=\"781.9375\"/></a><!--MD5=[b9389687b975829384b498ac4b7476b2]\n",
       "class E8--><a href=\"psysml:a2efb8df-7581-49ed-b24f-8030c12b0405\" target=\"_top\" title=\"psysml:a2efb8df-7581-49ed-b24f-8030c12b0405\" xlink:actuate=\"onRequest\" xlink:href=\"psysml:a2efb8df-7581-49ed-b24f-8030c12b0405\" xlink:show=\"new\" xlink:title=\"psysml:a2efb8df-7581-49ed-b24f-8030c12b0405\" xlink:type=\"simple\"><rect fill=\"#FFFFFF\" height=\"45.9375\" id=\"E8\" style=\"stroke: #383838; stroke-width: 1.5;\" width=\"70\" x=\"113\" y=\"514\"/><text fill=\"#000000\" font-family=\"sans-serif\" font-size=\"12\" font-style=\"italic\" lengthAdjust=\"spacingAndGlyphs\" textLength=\"68\" x=\"114\" y=\"530.1387\">«part  def»</text><text fill=\"#000000\" font-family=\"sans-serif\" font-size=\"12\" lengthAdjust=\"spacingAndGlyphs\" textLength=\"8\" x=\"144\" y=\"544.1074\">C</text><line style=\"stroke: #383838; stroke-width: 1.5;\" x1=\"114\" x2=\"182\" y1=\"551.9375\" y2=\"551.9375\"/></a><!--MD5=[fd4143e9d270a159db93a4ea2a975926]\n",
       "class E9--><a href=\"psysml:91f3ce36-c57b-44eb-a625-32b1f3011842\" target=\"_top\" title=\"psysml:91f3ce36-c57b-44eb-a625-32b1f3011842\" xlink:actuate=\"onRequest\" xlink:href=\"psysml:91f3ce36-c57b-44eb-a625-32b1f3011842\" xlink:show=\"new\" xlink:title=\"psysml:91f3ce36-c57b-44eb-a625-32b1f3011842\" xlink:type=\"simple\"><rect fill=\"#FFFFFF\" height=\"45.9375\" id=\"E9\" style=\"stroke: #383838; stroke-width: 1.5;\" width=\"70\" x=\"64\" y=\"41\"/><text fill=\"#000000\" font-family=\"sans-serif\" font-size=\"12\" font-style=\"italic\" lengthAdjust=\"spacingAndGlyphs\" textLength=\"68\" x=\"65\" y=\"57.1387\">«port  def»</text><text fill=\"#000000\" font-family=\"sans-serif\" font-size=\"12\" lengthAdjust=\"spacingAndGlyphs\" textLength=\"8\" x=\"95\" y=\"71.1074\">P</text><line style=\"stroke: #383838; stroke-width: 1.5;\" x1=\"65\" x2=\"133\" y1=\"78.9375\" y2=\"78.9375\"/></a><!--MD5=[96f4274e9e20536e775497830990834d]\n",
       "class E10--><a href=\"psysml:5a8db81a-c733-4c6f-be90-4f9ffe214caa\" target=\"_top\" title=\"psysml:5a8db81a-c733-4c6f-be90-4f9ffe214caa\" xlink:actuate=\"onRequest\" xlink:href=\"psysml:5a8db81a-c733-4c6f-be90-4f9ffe214caa\" xlink:show=\"new\" xlink:title=\"psysml:5a8db81a-c733-4c6f-be90-4f9ffe214caa\" xlink:type=\"simple\"><rect fill=\"#FFFFFF\" height=\"45.9375\" id=\"E10\" rx=\"10\" ry=\"10\" style=\"stroke: #383838; stroke-width: 1.5;\" width=\"43\" x=\"32.5\" y=\"148\"/><text fill=\"#000000\" font-family=\"sans-serif\" font-size=\"12\" font-style=\"italic\" lengthAdjust=\"spacingAndGlyphs\" textLength=\"41\" x=\"33.5\" y=\"164.1387\">«item»</text><text fill=\"#000000\" font-family=\"sans-serif\" font-size=\"12\" lengthAdjust=\"spacingAndGlyphs\" textLength=\"32\" x=\"36\" y=\"178.1074\">a1: A</text><line style=\"stroke: #383838; stroke-width: 1.5;\" x1=\"33.5\" x2=\"74.5\" y1=\"185.9375\" y2=\"185.9375\"/></a><!--MD5=[1dd1bfd58a279cf63c5f349dbc8fc6a1]\n",
       "class E11--><a href=\"psysml:50797105-d3dc-4af6-be0e-986a23cb6cc7\" target=\"_top\" title=\"psysml:50797105-d3dc-4af6-be0e-986a23cb6cc7\" xlink:actuate=\"onRequest\" xlink:href=\"psysml:50797105-d3dc-4af6-be0e-986a23cb6cc7\" xlink:show=\"new\" xlink:title=\"psysml:50797105-d3dc-4af6-be0e-986a23cb6cc7\" xlink:type=\"simple\"><rect fill=\"#FFFFFF\" height=\"45.9375\" id=\"E11\" rx=\"10\" ry=\"10\" style=\"stroke: #383838; stroke-width: 1.5;\" width=\"43\" x=\"110.5\" y=\"148\"/><text fill=\"#000000\" font-family=\"sans-serif\" font-size=\"12\" font-style=\"italic\" lengthAdjust=\"spacingAndGlyphs\" textLength=\"41\" x=\"111.5\" y=\"164.1387\">«item»</text><text fill=\"#000000\" font-family=\"sans-serif\" font-size=\"12\" lengthAdjust=\"spacingAndGlyphs\" textLength=\"32\" x=\"114\" y=\"178.1074\">a2: A</text><line style=\"stroke: #383838; stroke-width: 1.5;\" x1=\"111.5\" x2=\"152.5\" y1=\"185.9375\" y2=\"185.9375\"/></a><!--MD5=[2720a5a1f2c3fca2055b230370638851]\n",
       "link E2 to E3--><a href=\"psysml:2d349f36-3ef3-481f-a80c-9f5be02d82e3\" target=\"_top\" title=\"psysml:2d349f36-3ef3-481f-a80c-9f5be02d82e3\" xlink:actuate=\"onRequest\" xlink:href=\"psysml:2d349f36-3ef3-481f-a80c-9f5be02d82e3\" xlink:show=\"new\" xlink:title=\"psysml:2d349f36-3ef3-481f-a80c-9f5be02d82e3\" xlink:type=\"simple\"><path d=\"M193.65,194.01 C184.14,206.81 171.89,223.3 160.82,238.2 \" fill=\"none\" id=\"E2-&gt;E3\" style=\"stroke: #383838; stroke-width: 1.0;\"/><polygon fill=\"#FFFFFF\" points=\"148.6,254.66,154.3195,235.2361,165.5543,243.5896,148.6,254.66\" style=\"stroke: #383838; stroke-width: 1.0;\"/><ellipse cx=\"159.3256\" cy=\"231.8554\" fill=\"#383838\" rx=\"2\" ry=\"2\" style=\"stroke: #383838; stroke-width: 1.0;\"/><ellipse cx=\"167.3504\" cy=\"237.8221\" fill=\"#383838\" rx=\"2\" ry=\"2\" style=\"stroke: #383838; stroke-width: 1.0;\"/></a><!--MD5=[4672eba38e49728da53d11aeb285b987]\n",
       "reverse link E3 to E4--><a href=\"psysml:1fc0b9c6-f917-494b-8539-e8a30a151a21\" target=\"_top\" title=\"psysml:1fc0b9c6-f917-494b-8539-e8a30a151a21\" xlink:actuate=\"onRequest\" xlink:href=\"psysml:1fc0b9c6-f917-494b-8539-e8a30a151a21\" xlink:show=\"new\" xlink:title=\"psysml:1fc0b9c6-f917-494b-8539-e8a30a151a21\" xlink:type=\"simple\"><path d=\"M105.34,311.54 C86.29,334.8 64,362 64,362 C64,362 64,408 64,408 C64,408 64.91,423.77 65.73,437.95 \" fill=\"none\" id=\"E3&lt;-E4\" style=\"stroke: #383838; stroke-width: 1.0;\"/><polygon fill=\"#383838\" points=\"113.78,301.24,106.883,303.3449,106.1733,310.521,113.0703,308.4161,113.78,301.24\" style=\"stroke: #383838; stroke-width: 1.0;\"/><text fill=\"#000000\" font-family=\"sans-serif\" font-size=\"13\" lengthAdjust=\"spacingAndGlyphs\" textLength=\"8\" x=\"56.3137\" y=\"426.8328\">1</text></a><!--MD5=[191cde3d490a3f6d7bb551fe3ddca469]\n",
       "reverse link E3 to E5--><a href=\"psysml:1188b8bd-fcbe-4041-bfa3-3c6757b772de\" target=\"_top\" title=\"psysml:1188b8bd-fcbe-4041-bfa3-3c6757b772de\" xlink:actuate=\"onRequest\" xlink:href=\"psysml:1188b8bd-fcbe-4041-bfa3-3c6757b772de\" xlink:show=\"new\" xlink:title=\"psysml:1188b8bd-fcbe-4041-bfa3-3c6757b772de\" xlink:type=\"simple\"><path d=\"M145.17,313.57 C151.2,329.39 158.16,347.68 163.49,361.66 \" fill=\"none\" id=\"E3&lt;-E5\" style=\"stroke: #383838; stroke-width: 1.0;\"/><polygon fill=\"#FFFFFF\" points=\"140.39,301.01,138.7866,308.0406,144.6598,312.2247,146.2631,305.1941,140.39,301.01\" style=\"stroke: #383838; stroke-width: 1.0;\"/><text fill=\"#000000\" font-family=\"sans-serif\" font-size=\"13\" lengthAdjust=\"spacingAndGlyphs\" textLength=\"8\" x=\"152.2843\" y=\"350.8492\">1</text></a><!--MD5=[79568f1e445c3877b6a54524624ccc7d]\n",
       "link E4 to E6--><a href=\"psysml:b444802f-fd06-4322-964d-2bd41504258e\" target=\"_top\" title=\"psysml:b444802f-fd06-4322-964d-2bd41504258e\" xlink:actuate=\"onRequest\" xlink:href=\"psysml:b444802f-fd06-4322-964d-2bd41504258e\" xlink:show=\"new\" xlink:title=\"psysml:b444802f-fd06-4322-964d-2bd41504258e\" xlink:type=\"simple\"><path d=\"M73.58,484.24 C82.14,513.15 96,560 96,560 C96,560 112.41,591.24 126.79,618.63 \" fill=\"none\" id=\"E4-&gt;E6\" style=\"stroke: #383838; stroke-width: 1.0;\"/><polygon fill=\"#FFFFFF\" points=\"136.2,636.54,121.1704,622.9713,133.5659,616.4636,136.2,636.54\" style=\"stroke: #383838; stroke-width: 1.0;\"/><ellipse cx=\"120.2916\" cy=\"616.9948\" fill=\"#383838\" rx=\"2\" ry=\"2\" style=\"stroke: #383838; stroke-width: 1.0;\"/><ellipse cx=\"129.1456\" cy=\"612.3465\" fill=\"#383838\" rx=\"2\" ry=\"2\" style=\"stroke: #383838; stroke-width: 1.0;\"/></a><!--MD5=[3f50a3473f1dfb74d3f76443e03635af]\n",
       "reverse link E6 to E7--><a href=\"psysml:fe8fc95e-22bb-46d1-b0fd-61d73c45474f\" target=\"_top\" title=\"psysml:fe8fc95e-22bb-46d1-b0fd-61d73c45474f\" xlink:actuate=\"onRequest\" xlink:href=\"psysml:fe8fc95e-22bb-46d1-b0fd-61d73c45474f\" xlink:show=\"new\" xlink:title=\"psysml:fe8fc95e-22bb-46d1-b0fd-61d73c45474f\" xlink:type=\"simple\"><path d=\"M158.54,695.57 C163.36,711.39 168.93,729.68 173.19,743.66 \" fill=\"none\" id=\"E6&lt;-E7\" style=\"stroke: #383838; stroke-width: 1.0;\"/><polygon fill=\"#383838\" points=\"154.71,683.01,152.6319,689.9152,158.2066,694.4893,160.2847,687.5841,154.71,683.01\" style=\"stroke: #383838; stroke-width: 1.0;\"/><text fill=\"#000000\" font-family=\"sans-serif\" font-size=\"13\" lengthAdjust=\"spacingAndGlyphs\" textLength=\"8\" x=\"162.4199\" y=\"732.8492\">1</text></a><!--MD5=[14ccda38c055a5c0da953d572bc50960]\n",
       "link E7 to E3--><a href=\"psysml:599ea15b-bb0f-4f03-a502-f2e1a3a71e91\" target=\"_top\" title=\"psysml:599ea15b-bb0f-4f03-a502-f2e1a3a71e91\" xlink:actuate=\"onRequest\" xlink:href=\"psysml:599ea15b-bb0f-4f03-a502-f2e1a3a71e91\" xlink:show=\"new\" xlink:title=\"psysml:599ea15b-bb0f-4f03-a502-f2e1a3a71e91\" xlink:type=\"simple\"><path d=\"M190.27,743.99 C204.64,713.2 229,661 229,661 C229,384 229,384 229,384 C229,384 211,362 211,362 C211,362 188.27,338.12 167.2,315.98 \" fill=\"none\" id=\"E7-&gt;E3\" style=\"stroke: #383838; stroke-width: 1.0;\"/><polygon fill=\"#FFFFFF\" points=\"153.17,301.24,171.3437,310.1683,161.2072,319.825,153.17,301.24\" style=\"stroke: #383838; stroke-width: 1.0;\"/><ellipse cx=\"173.8273\" cy=\"315.6749\" fill=\"#383838\" rx=\"2\" ry=\"2\" style=\"stroke: #383838; stroke-width: 1.0;\"/><ellipse cx=\"166.5869\" cy=\"322.5725\" fill=\"#383838\" rx=\"2\" ry=\"2\" style=\"stroke: #383838; stroke-width: 1.0;\"/></a><!--MD5=[dfaffb906826c3e5aca635516100ff21]\n",
       "link E5 to E8--><a href=\"psysml:ebb03462-10dd-4a39-86ac-c1648f226bb6\" target=\"_top\" title=\"psysml:ebb03462-10dd-4a39-86ac-c1648f226bb6\" xlink:actuate=\"onRequest\" xlink:href=\"psysml:ebb03462-10dd-4a39-86ac-c1648f226bb6\" xlink:show=\"new\" xlink:title=\"psysml:ebb03462-10dd-4a39-86ac-c1648f226bb6\" xlink:type=\"simple\"><path d=\"M168.46,408.13 C164.86,430.62 159.2,466.01 154.74,493.87 \" fill=\"none\" id=\"E5-&gt;E8\" style=\"stroke: #383838; stroke-width: 1.0;\"/><polygon fill=\"#FFFFFF\" points=\"151.56,513.78,147.6458,493.9135,161.4704,496.1226,151.56,513.78\" style=\"stroke: #383838; stroke-width: 1.0;\"/><ellipse cx=\"150.5202\" cy=\"488.6005\" fill=\"#383838\" rx=\"2\" ry=\"2\" style=\"stroke: #383838; stroke-width: 1.0;\"/><ellipse cx=\"160.3949\" cy=\"490.1784\" fill=\"#383838\" rx=\"2\" ry=\"2\" style=\"stroke: #383838; stroke-width: 1.0;\"/></a><!--MD5=[03c8294790d3c57651a1993cecff665f]\n",
       "reverse link E8 to E3--><a href=\"psysml:4ca20137-091c-4af4-8b05-aa2379f8c92e\" target=\"_top\" title=\"psysml:4ca20137-091c-4af4-8b05-aa2379f8c92e\" xlink:actuate=\"onRequest\" xlink:href=\"psysml:4ca20137-091c-4af4-8b05-aa2379f8c92e\" xlink:show=\"new\" xlink:title=\"psysml:4ca20137-091c-4af4-8b05-aa2379f8c92e\" xlink:type=\"simple\"><path d=\"M141.7,500.94 C134.89,463.05 125,408 125,408 C125,408 125,362 125,362 C125,362 128.05,325.83 130.12,301.24 \" fill=\"none\" id=\"E8&lt;-E3\" style=\"stroke: #383838; stroke-width: 1.0;\"/><polygon fill=\"#FFFFFF\" points=\"144.05,514,146.9258,507.3872,141.9277,502.1892,139.0519,508.802,144.05,514\" style=\"stroke: #383838; stroke-width: 1.0;\"/><text fill=\"#000000\" font-family=\"sans-serif\" font-size=\"13\" lengthAdjust=\"spacingAndGlyphs\" textLength=\"7\" x=\"126\" y=\"389.5669\">y</text></a><!--MD5=[0d75d2178373a6a4568e5dc728f58aef]\n",
       "reverse link E8 to E6--><a href=\"psysml:4ca20137-091c-4af4-8b05-aa2379f8c92e\" target=\"_top\" title=\"psysml:4ca20137-091c-4af4-8b05-aa2379f8c92e\" xlink:actuate=\"onRequest\" xlink:href=\"psysml:4ca20137-091c-4af4-8b05-aa2379f8c92e\" xlink:show=\"new\" xlink:title=\"psysml:4ca20137-091c-4af4-8b05-aa2379f8c92e\" xlink:type=\"simple\"><path d=\"M148,573.22 C148,593.81 148,619.16 148,636.95 \" fill=\"none\" id=\"E8&lt;-E6\" style=\"stroke: #383838; stroke-width: 1.0;\"/><polygon fill=\"#FFFFFF\" points=\"148,560.19,144,566.19,148,572.19,152,566.19,148,560.19\" style=\"stroke: #383838; stroke-width: 1.0;\"/><text fill=\"#000000\" font-family=\"sans-serif\" font-size=\"13\" lengthAdjust=\"spacingAndGlyphs\" textLength=\"7\" x=\"149\" y=\"603.0669\">y</text></a><!--MD5=[23ac544a70576c3e717098101004234c]\n",
       "reverse link E9 to E10--><a href=\"psysml:bbec5841-3ffd-488b-b643-01adfe752a25\" target=\"_top\" title=\"psysml:bbec5841-3ffd-488b-b643-01adfe752a25\" xlink:actuate=\"onRequest\" xlink:href=\"psysml:bbec5841-3ffd-488b-b643-01adfe752a25\" xlink:show=\"new\" xlink:title=\"psysml:bbec5841-3ffd-488b-b643-01adfe752a25\" xlink:type=\"simple\"><path d=\"M84.39,99.1 C77.56,115.03 69.63,133.54 63.58,147.66 \" fill=\"none\" id=\"E9&lt;-E10\" style=\"stroke: #383838; stroke-width: 1.0;\"/><polygon fill=\"#FFFFFF\" points=\"89.57,87.01,83.5327,90.9535,84.8509,98.0431,90.8882,94.0996,89.57,87.01\" style=\"stroke: #383838; stroke-width: 1.0;\"/><text fill=\"#000000\" font-family=\"sans-serif\" font-size=\"13\" lengthAdjust=\"spacingAndGlyphs\" textLength=\"8\" x=\"57.0099\" y=\"136.8492\">1</text></a><!--MD5=[feeac5eb423634930294aa81f2d25a4c]\n",
       "link E10 to E3--><a href=\"psysml:fb12afbf-9138-40ff-bf3b-75b81b096774\" target=\"_top\" title=\"psysml:fb12afbf-9138-40ff-bf3b-75b81b096774\" xlink:actuate=\"onRequest\" xlink:href=\"psysml:fb12afbf-9138-40ff-bf3b-75b81b096774\" xlink:show=\"new\" xlink:title=\"psysml:fb12afbf-9138-40ff-bf3b-75b81b096774\" xlink:type=\"simple\"><path d=\"M70.35,194.01 C79.86,206.81 92.11,223.3 103.18,238.2 \" fill=\"none\" id=\"E10-&gt;E3\" style=\"stroke: #383838; stroke-width: 1.0;\"/><polygon fill=\"#FFFFFF\" points=\"115.4,254.66,98.4457,243.5896,109.6805,235.2361,115.4,254.66\" style=\"stroke: #383838; stroke-width: 1.0;\"/><ellipse cx=\"96.6496\" cy=\"237.8221\" fill=\"#383838\" rx=\"2\" ry=\"2\" style=\"stroke: #383838; stroke-width: 1.0;\"/><ellipse cx=\"104.6744\" cy=\"231.8554\" fill=\"#383838\" rx=\"2\" ry=\"2\" style=\"stroke: #383838; stroke-width: 1.0;\"/></a><!--MD5=[1fc04a95fd77ad5ce46c1a3027516051]\n",
       "reverse link E9 to E11--><a href=\"psysml:20edee2c-da5c-4ff9-9cec-febcc5f58071\" target=\"_top\" title=\"psysml:20edee2c-da5c-4ff9-9cec-febcc5f58071\" xlink:actuate=\"onRequest\" xlink:href=\"psysml:20edee2c-da5c-4ff9-9cec-febcc5f58071\" xlink:show=\"new\" xlink:title=\"psysml:20edee2c-da5c-4ff9-9cec-febcc5f58071\" xlink:type=\"simple\"><path d=\"M109.87,99.57 C114.84,115.39 120.59,133.68 124.98,147.66 \" fill=\"none\" id=\"E9&lt;-E11\" style=\"stroke: #383838; stroke-width: 1.0;\"/><polygon fill=\"#FFFFFF\" points=\"105.92,87.01,103.9044,93.9337,109.5203,98.4572,111.5359,91.5335,105.92,87.01\" style=\"stroke: #383838; stroke-width: 1.0;\"/><text fill=\"#000000\" font-family=\"sans-serif\" font-size=\"13\" lengthAdjust=\"spacingAndGlyphs\" textLength=\"8\" x=\"114.1561\" y=\"136.8492\">1</text></a><!--MD5=[0517f1ce58c4d5483948f93845c45e26]\n",
       "link E11 to E3--><a href=\"psysml:6098403c-f8e4-4c64-8bc6-7f6e4aceb826\" target=\"_top\" title=\"psysml:6098403c-f8e4-4c64-8bc6-7f6e4aceb826\" xlink:actuate=\"onRequest\" xlink:href=\"psysml:6098403c-f8e4-4c64-8bc6-7f6e4aceb826\" xlink:show=\"new\" xlink:title=\"psysml:6098403c-f8e4-4c64-8bc6-7f6e4aceb826\" xlink:type=\"simple\"><path d=\"M132,194.01 C132,205.69 132,220.46 132,234.28 \" fill=\"none\" id=\"E11-&gt;E3\" style=\"stroke: #383838; stroke-width: 1.0;\"/><polygon fill=\"#FFFFFF\" points=\"132,254.66,125,235.66,139,235.66,132,254.66\" style=\"stroke: #383838; stroke-width: 1.0;\"/><ellipse cx=\"127\" cy=\"229.96\" fill=\"#383838\" rx=\"2\" ry=\"2\" style=\"stroke: #383838; stroke-width: 1.0;\"/><ellipse cx=\"137\" cy=\"229.96\" fill=\"#383838\" rx=\"2\" ry=\"2\" style=\"stroke: #383838; stroke-width: 1.0;\"/></a><!--MD5=[053ac4ae0382852bb20262bf1e3dd394]\n",
       "@startuml\r\n",
       "skinparam linetype polyline\r\n",
       "skinparam monochrome true\r\n",
       "skinparam classbackgroundcolor white\r\n",
       "skinparam shadowing false\r\n",
       "skinparam wrapWidth 300\r\n",
       "hide circle\r\n",
       "\r\n",
       "package \"ItemTest\" as E1  [[psysml:05177c11-5394-41b2-a0a0-71a4c06ed611 ]]  {\r\n",
       "comp usage \"f: A \" as E2  <<(T,blue) item>> [[psysml:9b37ce48-aa06-4adb-ba3b-3b1410731947 ]] {\r\n",
       "}\r\n",
       "comp def \"A\" as E3  <<(T,blue) item  def>> [[psysml:373f36dd-9125-4f4d-9beb-8d6cd21e1469 ]] {\r\n",
       "}\r\n",
       "comp usage \"b: B \" as E4  <<(T,blue) item>> [[psysml:130e11a2-3d5f-4cd9-b0cd-9225a7528360 ]] {\r\n",
       "}\r\n",
       "comp usage \"c: C \" as E5  <<(T,blue) part>> [[psysml:80ae9a50-ac1f-4423-b935-68d8f5716f01 ]] {\r\n",
       "}\r\n",
       "comp def \"<i>B</i>\" as E6  <<(T,blue) item  def>> [[psysml:7d838d86-0408-4401-9cbf-32b733f3993a ]] {\r\n",
       "}\r\n",
       "comp usage \"<i>a</i>: A \" as E7  <<(T,blue) part>> [[psysml:d06b8fcb-8cda-493c-875d-bdf01ed715df ]] {\r\n",
       "}\r\n",
       "comp def \"C\" as E8  <<(T,blue) part  def>> [[psysml:a2efb8df-7581-49ed-b24f-8030c12b0405 ]] {\r\n",
       "}\r\n",
       "comp def \"P\" as E9  <<(T,blue) port  def>> [[psysml:91f3ce36-c57b-44eb-a625-32b1f3011842 ]] {\r\n",
       "}\r\n",
       "comp usage \"a1: A \" as E10  <<(T,blue) item>> [[psysml:5a8db81a-c733-4c6f-be90-4f9ffe214caa ]] {\r\n",
       "}\r\n",
       "comp usage \"a2: A \" as E11  <<(T,blue) item>> [[psysml:50797105-d3dc-4af6-be0e-986a23cb6cc7 ]] {\r\n",
       "}\r\n",
       "}\r\n",
       "E2 - -:|> E3 [[psysml:2d349f36-3ef3-481f-a80c-9f5be02d82e3 ]] \r\n",
       "E3 *- - \"1\"E4 [[psysml:1fc0b9c6-f917-494b-8539-e8a30a151a21 ]] \r\n",
       "E3 o- - \"1\"E5 [[psysml:1188b8bd-fcbe-4041-bfa3-3c6757b772de ]] \r\n",
       "E4 - -:|> E6 [[psysml:b444802f-fd06-4322-964d-2bd41504258e ]] \r\n",
       "E6 *- - \"1\"E7 [[psysml:fe8fc95e-22bb-46d1-b0fd-61d73c45474f ]] \r\n",
       "E7 - -:|> E3 [[psysml:599ea15b-bb0f-4f03-a502-f2e1a3a71e91 ]] \r\n",
       "E5 - -:|> E8 [[psysml:ebb03462-10dd-4a39-86ac-c1648f226bb6 ]] \r\n",
       "E8 o- - E3 [[psysml:4ca20137-091c-4af4-8b05-aa2379f8c92e ]] : y\r\n",
       "E8 o- - E6 [[psysml:4ca20137-091c-4af4-8b05-aa2379f8c92e ]] : y\r\n",
       "E9 o- - \"1\"E10 [[psysml:bbec5841-3ffd-488b-b643-01adfe752a25 ]] \r\n",
       "E10 - -:|> E3 [[psysml:fb12afbf-9138-40ff-bf3b-75b81b096774 ]] \r\n",
       "E9 o- - \"1\"E11 [[psysml:20edee2c-da5c-4ff9-9cec-febcc5f58071 ]] \r\n",
       "E11 - -:|> E3 [[psysml:6098403c-f8e4-4c64-8bc6-7f6e4aceb826 ]] \r\n",
       "@enduml\r\n",
       "\n",
       "PlantUML version 1.2020.13(Sat Jun 13 12:26:38 UTC 2020)\n",
       "(EPL source distribution)\n",
       "Java Runtime: OpenJDK Runtime Environment\n",
       "JVM: OpenJDK 64-Bit Server VM\n",
       "Default Encoding: UTF-8\n",
       "Language: en\n",
       "Country: null\n",
       "--></g></svg>"
      ]
     },
     "execution_count": 15,
     "metadata": {},
     "output_type": "execute_result"
    }
   ],
   "source": [
    "%viz --style=\"POLYLINE\" --view=\"MIXED\" \"ItemTest\""
   ]
  },
  {
   "cell_type": "code",
   "execution_count": 16,
   "id": "613fcf01",
   "metadata": {
    "execution": {
     "iopub.execute_input": "2022-04-22T09:48:24.050705Z",
     "iopub.status.busy": "2022-04-22T09:48:24.050301Z",
     "iopub.status.idle": "2022-04-22T09:48:24.107558Z",
     "shell.execute_reply": "2022-04-22T09:48:24.107231Z"
    }
   },
   "outputs": [
    {
     "data": {
      "image/svg+xml": [
       "<?xml version=\"1.0\" encoding=\"UTF-8\" standalone=\"no\"?><svg xmlns=\"http://www.w3.org/2000/svg\" xmlns:xlink=\"http://www.w3.org/1999/xlink\" contentScriptType=\"application/ecmascript\" contentStyleType=\"text/css\" height=\"277px\" preserveAspectRatio=\"none\" style=\"width:895px;height:277px;\" version=\"1.1\" viewBox=\"0 0 895 277\" width=\"895px\" zoomAndPan=\"magnify\"><defs/><g><!--MD5=[fbc87193dbaf4d95561dea2c320d4a47]\n",
       "cluster E1--><a href=\"psysml:05177c11-5394-41b2-a0a0-71a4c06ed611\" target=\"_top\" title=\"psysml:05177c11-5394-41b2-a0a0-71a4c06ed611\" xlink:actuate=\"onRequest\" xlink:href=\"psysml:05177c11-5394-41b2-a0a0-71a4c06ed611\" xlink:show=\"new\" xlink:title=\"psysml:05177c11-5394-41b2-a0a0-71a4c06ed611\" xlink:type=\"simple\"><polygon fill=\"#FFFFFF\" points=\"16,6,83,6,90,28.2969,873,28.2969,873,265,16,265,16,6\" style=\"stroke: #000000; stroke-width: 1.5;\"/><line style=\"stroke: #000000; stroke-width: 1.5;\" x1=\"16\" x2=\"90\" y1=\"28.2969\" y2=\"28.2969\"/><text fill=\"#000000\" font-family=\"sans-serif\" font-size=\"14\" font-weight=\"bold\" lengthAdjust=\"spacingAndGlyphs\" textLength=\"61\" x=\"20\" y=\"20.9951\">ItemTest</text></a><!--MD5=[b4997ac47864f28c2f74865a473b2911]\n",
       "class E2--><a href=\"psysml:9b37ce48-aa06-4adb-ba3b-3b1410731947\" target=\"_top\" title=\"psysml:9b37ce48-aa06-4adb-ba3b-3b1410731947\" xlink:actuate=\"onRequest\" xlink:href=\"psysml:9b37ce48-aa06-4adb-ba3b-3b1410731947\" xlink:show=\"new\" xlink:title=\"psysml:9b37ce48-aa06-4adb-ba3b-3b1410731947\" xlink:type=\"simple\"><rect fill=\"#FFFFFF\" height=\"45.9375\" id=\"E2\" rx=\"10\" ry=\"10\" style=\"stroke: #383838; stroke-width: 1.5;\" width=\"43\" x=\"163\" y=\"41\"/><text fill=\"#000000\" font-family=\"sans-serif\" font-size=\"12\" font-style=\"italic\" lengthAdjust=\"spacingAndGlyphs\" textLength=\"41\" x=\"164\" y=\"57.1387\">«item»</text><text fill=\"#000000\" font-family=\"sans-serif\" font-size=\"12\" lengthAdjust=\"spacingAndGlyphs\" textLength=\"20\" x=\"172.5\" y=\"71.1074\">f: A</text><line style=\"stroke: #383838; stroke-width: 1.5;\" x1=\"164\" x2=\"205\" y1=\"78.9375\" y2=\"78.9375\"/></a><!--MD5=[09b614a08d8cba4a07c9adeb5e0fee81]\n",
       "class E3--><a href=\"psysml:373f36dd-9125-4f4d-9beb-8d6cd21e1469\" target=\"_top\" title=\"psysml:373f36dd-9125-4f4d-9beb-8d6cd21e1469\" xlink:actuate=\"onRequest\" xlink:href=\"psysml:373f36dd-9125-4f4d-9beb-8d6cd21e1469\" xlink:show=\"new\" xlink:title=\"psysml:373f36dd-9125-4f4d-9beb-8d6cd21e1469\" xlink:type=\"simple\"><rect fill=\"#FFFFFF\" height=\"45.9375\" id=\"E3\" style=\"stroke: #383838; stroke-width: 1.5;\" width=\"71\" x=\"267\" y=\"122\"/><text fill=\"#000000\" font-family=\"sans-serif\" font-size=\"12\" font-style=\"italic\" lengthAdjust=\"spacingAndGlyphs\" textLength=\"69\" x=\"268\" y=\"138.1387\">«item  def»</text><text fill=\"#000000\" font-family=\"sans-serif\" font-size=\"12\" lengthAdjust=\"spacingAndGlyphs\" textLength=\"8\" x=\"298.5\" y=\"152.1074\">A</text><line style=\"stroke: #383838; stroke-width: 1.5;\" x1=\"268\" x2=\"337\" y1=\"159.9375\" y2=\"159.9375\"/></a><!--MD5=[ebbe1d658d1005bcc118a6aa81145e00]\n",
       "class E4--><a href=\"psysml:130e11a2-3d5f-4cd9-b0cd-9225a7528360\" target=\"_top\" title=\"psysml:130e11a2-3d5f-4cd9-b0cd-9225a7528360\" xlink:actuate=\"onRequest\" xlink:href=\"psysml:130e11a2-3d5f-4cd9-b0cd-9225a7528360\" xlink:show=\"new\" xlink:title=\"psysml:130e11a2-3d5f-4cd9-b0cd-9225a7528360\" xlink:type=\"simple\"><rect fill=\"#FFFFFF\" height=\"45.9375\" id=\"E4\" rx=\"10\" ry=\"10\" style=\"stroke: #383838; stroke-width: 1.5;\" width=\"43\" x=\"471\" y=\"192\"/><text fill=\"#000000\" font-family=\"sans-serif\" font-size=\"12\" font-style=\"italic\" lengthAdjust=\"spacingAndGlyphs\" textLength=\"41\" x=\"472\" y=\"208.1387\">«item»</text><text fill=\"#000000\" font-family=\"sans-serif\" font-size=\"12\" lengthAdjust=\"spacingAndGlyphs\" textLength=\"24\" x=\"478.5\" y=\"222.1074\">b: B</text><line style=\"stroke: #383838; stroke-width: 1.5;\" x1=\"472\" x2=\"513\" y1=\"229.9375\" y2=\"229.9375\"/></a><!--MD5=[270fce915f116d4de14055a7c1d9a0f3]\n",
       "class E5--><a href=\"psysml:80ae9a50-ac1f-4423-b935-68d8f5716f01\" target=\"_top\" title=\"psysml:80ae9a50-ac1f-4423-b935-68d8f5716f01\" xlink:actuate=\"onRequest\" xlink:href=\"psysml:80ae9a50-ac1f-4423-b935-68d8f5716f01\" xlink:show=\"new\" xlink:title=\"psysml:80ae9a50-ac1f-4423-b935-68d8f5716f01\" xlink:type=\"simple\"><rect fill=\"#FFFFFF\" height=\"45.9375\" id=\"E5\" rx=\"10\" ry=\"10\" style=\"stroke: #383838; stroke-width: 1.5;\" width=\"42\" x=\"399\" y=\"78\"/><text fill=\"#000000\" font-family=\"sans-serif\" font-size=\"12\" font-style=\"italic\" lengthAdjust=\"spacingAndGlyphs\" textLength=\"40\" x=\"400\" y=\"94.1387\">«part»</text><text fill=\"#000000\" font-family=\"sans-serif\" font-size=\"12\" lengthAdjust=\"spacingAndGlyphs\" textLength=\"23\" x=\"406.5\" y=\"108.1074\">c: C</text><line style=\"stroke: #383838; stroke-width: 1.5;\" x1=\"400\" x2=\"440\" y1=\"115.9375\" y2=\"115.9375\"/></a><!--MD5=[60a26617385b1d2d0262a64233df1f8d]\n",
       "class E6--><a href=\"psysml:7d838d86-0408-4401-9cbf-32b733f3993a\" target=\"_top\" title=\"psysml:7d838d86-0408-4401-9cbf-32b733f3993a\" xlink:actuate=\"onRequest\" xlink:href=\"psysml:7d838d86-0408-4401-9cbf-32b733f3993a\" xlink:show=\"new\" xlink:title=\"psysml:7d838d86-0408-4401-9cbf-32b733f3993a\" xlink:type=\"simple\"><rect fill=\"#FFFFFF\" height=\"45.9375\" id=\"E6\" style=\"stroke: #383838; stroke-width: 1.5;\" width=\"71\" x=\"683\" y=\"105\"/><text fill=\"#000000\" font-family=\"sans-serif\" font-size=\"12\" font-style=\"italic\" lengthAdjust=\"spacingAndGlyphs\" textLength=\"69\" x=\"684\" y=\"121.1387\">«item  def»</text><text fill=\"#000000\" font-family=\"sans-serif\" font-size=\"12\" font-style=\"italic\" lengthAdjust=\"spacingAndGlyphs\" textLength=\"8\" x=\"714.5\" y=\"135.1074\">B</text><line style=\"stroke: #383838; stroke-width: 1.5;\" x1=\"684\" x2=\"753\" y1=\"142.9375\" y2=\"142.9375\"/></a><!--MD5=[2156ba9850f5573cc1fc38a6a4b2f02b]\n",
       "class E7--><a href=\"psysml:d06b8fcb-8cda-493c-875d-bdf01ed715df\" target=\"_top\" title=\"psysml:d06b8fcb-8cda-493c-875d-bdf01ed715df\" xlink:actuate=\"onRequest\" xlink:href=\"psysml:d06b8fcb-8cda-493c-875d-bdf01ed715df\" xlink:show=\"new\" xlink:title=\"psysml:d06b8fcb-8cda-493c-875d-bdf01ed715df\" xlink:type=\"simple\"><rect fill=\"#FFFFFF\" height=\"45.9375\" id=\"E7\" rx=\"10\" ry=\"10\" style=\"stroke: #383838; stroke-width: 1.5;\" width=\"42\" x=\"815\" y=\"73\"/><text fill=\"#000000\" font-family=\"sans-serif\" font-size=\"12\" font-style=\"italic\" lengthAdjust=\"spacingAndGlyphs\" textLength=\"40\" x=\"816\" y=\"89.1387\">«part»</text><text fill=\"#000000\" font-family=\"sans-serif\" font-size=\"12\" font-style=\"italic\" lengthAdjust=\"spacingAndGlyphs\" textLength=\"8\" x=\"822\" y=\"103.1074\">a</text><text fill=\"#000000\" font-family=\"sans-serif\" font-size=\"12\" lengthAdjust=\"spacingAndGlyphs\" textLength=\"16\" x=\"830\" y=\"103.1074\">: A</text><line style=\"stroke: #383838; stroke-width: 1.5;\" x1=\"816\" x2=\"856\" y1=\"110.9375\" y2=\"110.9375\"/></a><!--MD5=[b9389687b975829384b498ac4b7476b2]\n",
       "class E8--><a href=\"psysml:a2efb8df-7581-49ed-b24f-8030c12b0405\" target=\"_top\" title=\"psysml:a2efb8df-7581-49ed-b24f-8030c12b0405\" xlink:actuate=\"onRequest\" xlink:href=\"psysml:a2efb8df-7581-49ed-b24f-8030c12b0405\" xlink:show=\"new\" xlink:title=\"psysml:a2efb8df-7581-49ed-b24f-8030c12b0405\" xlink:type=\"simple\"><rect fill=\"#FFFFFF\" height=\"45.9375\" id=\"E8\" style=\"stroke: #383838; stroke-width: 1.5;\" width=\"70\" x=\"544\" y=\"105\"/><text fill=\"#000000\" font-family=\"sans-serif\" font-size=\"12\" font-style=\"italic\" lengthAdjust=\"spacingAndGlyphs\" textLength=\"68\" x=\"545\" y=\"121.1387\">«part  def»</text><text fill=\"#000000\" font-family=\"sans-serif\" font-size=\"12\" lengthAdjust=\"spacingAndGlyphs\" textLength=\"8\" x=\"575\" y=\"135.1074\">C</text><line style=\"stroke: #383838; stroke-width: 1.5;\" x1=\"545\" x2=\"613\" y1=\"142.9375\" y2=\"142.9375\"/></a><!--MD5=[fd4143e9d270a159db93a4ea2a975926]\n",
       "class E9--><a href=\"psysml:91f3ce36-c57b-44eb-a625-32b1f3011842\" target=\"_top\" title=\"psysml:91f3ce36-c57b-44eb-a625-32b1f3011842\" xlink:actuate=\"onRequest\" xlink:href=\"psysml:91f3ce36-c57b-44eb-a625-32b1f3011842\" xlink:show=\"new\" xlink:title=\"psysml:91f3ce36-c57b-44eb-a625-32b1f3011842\" xlink:type=\"simple\"><rect fill=\"#FFFFFF\" height=\"45.9375\" id=\"E9\" style=\"stroke: #383838; stroke-width: 1.5;\" width=\"70\" x=\"32\" y=\"163\"/><text fill=\"#000000\" font-family=\"sans-serif\" font-size=\"12\" font-style=\"italic\" lengthAdjust=\"spacingAndGlyphs\" textLength=\"68\" x=\"33\" y=\"179.1387\">«port  def»</text><text fill=\"#000000\" font-family=\"sans-serif\" font-size=\"12\" lengthAdjust=\"spacingAndGlyphs\" textLength=\"8\" x=\"63\" y=\"193.1074\">P</text><line style=\"stroke: #383838; stroke-width: 1.5;\" x1=\"33\" x2=\"101\" y1=\"200.9375\" y2=\"200.9375\"/></a><!--MD5=[96f4274e9e20536e775497830990834d]\n",
       "class E10--><a href=\"psysml:5a8db81a-c733-4c6f-be90-4f9ffe214caa\" target=\"_top\" title=\"psysml:5a8db81a-c733-4c6f-be90-4f9ffe214caa\" xlink:actuate=\"onRequest\" xlink:href=\"psysml:5a8db81a-c733-4c6f-be90-4f9ffe214caa\" xlink:show=\"new\" xlink:title=\"psysml:5a8db81a-c733-4c6f-be90-4f9ffe214caa\" xlink:type=\"simple\"><rect fill=\"#FFFFFF\" height=\"45.9375\" id=\"E10\" rx=\"10\" ry=\"10\" style=\"stroke: #383838; stroke-width: 1.5;\" width=\"43\" x=\"163\" y=\"203\"/><text fill=\"#000000\" font-family=\"sans-serif\" font-size=\"12\" font-style=\"italic\" lengthAdjust=\"spacingAndGlyphs\" textLength=\"41\" x=\"164\" y=\"219.1387\">«item»</text><text fill=\"#000000\" font-family=\"sans-serif\" font-size=\"12\" lengthAdjust=\"spacingAndGlyphs\" textLength=\"32\" x=\"166.5\" y=\"233.1074\">a1: A</text><line style=\"stroke: #383838; stroke-width: 1.5;\" x1=\"164\" x2=\"205\" y1=\"240.9375\" y2=\"240.9375\"/></a><!--MD5=[1dd1bfd58a279cf63c5f349dbc8fc6a1]\n",
       "class E11--><a href=\"psysml:50797105-d3dc-4af6-be0e-986a23cb6cc7\" target=\"_top\" title=\"psysml:50797105-d3dc-4af6-be0e-986a23cb6cc7\" xlink:actuate=\"onRequest\" xlink:href=\"psysml:50797105-d3dc-4af6-be0e-986a23cb6cc7\" xlink:show=\"new\" xlink:title=\"psysml:50797105-d3dc-4af6-be0e-986a23cb6cc7\" xlink:type=\"simple\"><rect fill=\"#FFFFFF\" height=\"45.9375\" id=\"E11\" rx=\"10\" ry=\"10\" style=\"stroke: #383838; stroke-width: 1.5;\" width=\"43\" x=\"163\" y=\"122\"/><text fill=\"#000000\" font-family=\"sans-serif\" font-size=\"12\" font-style=\"italic\" lengthAdjust=\"spacingAndGlyphs\" textLength=\"41\" x=\"164\" y=\"138.1387\">«item»</text><text fill=\"#000000\" font-family=\"sans-serif\" font-size=\"12\" lengthAdjust=\"spacingAndGlyphs\" textLength=\"32\" x=\"166.5\" y=\"152.1074\">a2: A</text><line style=\"stroke: #383838; stroke-width: 1.5;\" x1=\"164\" x2=\"205\" y1=\"159.9375\" y2=\"159.9375\"/></a><!--MD5=[2720a5a1f2c3fca2055b230370638851]\n",
       "link E2 to E3--><a href=\"psysml:2d349f36-3ef3-481f-a80c-9f5be02d82e3\" target=\"_top\" title=\"psysml:2d349f36-3ef3-481f-a80c-9f5be02d82e3\" xlink:actuate=\"onRequest\" xlink:href=\"psysml:2d349f36-3ef3-481f-a80c-9f5be02d82e3\" xlink:show=\"new\" xlink:title=\"psysml:2d349f36-3ef3-481f-a80c-9f5be02d82e3\" xlink:type=\"simple\"><path d=\"M206.24,78.48 C218.94,87.35 235.78,99.11 251.76,110.27 \" fill=\"none\" id=\"E2-&gt;E3\" style=\"stroke: #383838; stroke-width: 1.0;\"/><polygon fill=\"#FFFFFF\" points=\"268.21,121.75,248.6276,116.5992,256.6501,105.1257,268.21,121.75\" style=\"stroke: #383838; stroke-width: 1.0;\"/><ellipse cx=\"245.1024\" cy=\"111.6938\" fill=\"#383838\" rx=\"2\" ry=\"2\" style=\"stroke: #383838; stroke-width: 1.0;\"/><ellipse cx=\"250.8327\" cy=\"103.4985\" fill=\"#383838\" rx=\"2\" ry=\"2\" style=\"stroke: #383838; stroke-width: 1.0;\"/></a><!--MD5=[4672eba38e49728da53d11aeb285b987]\n",
       "reverse link E3 to E4--><a href=\"psysml:1fc0b9c6-f917-494b-8539-e8a30a151a21\" target=\"_top\" title=\"psysml:1fc0b9c6-f917-494b-8539-e8a30a151a21\" xlink:actuate=\"onRequest\" xlink:href=\"psysml:1fc0b9c6-f917-494b-8539-e8a30a151a21\" xlink:show=\"new\" xlink:title=\"psysml:1fc0b9c6-f917-494b-8539-e8a30a151a21\" xlink:type=\"simple\"><path d=\"M333.98,177.13 C351.32,193.04 374.45,210.6 399,219 C422.57,227.06 451.51,223.9 470.67,220.14 \" fill=\"none\" id=\"E3&lt;-E4\" style=\"stroke: #383838; stroke-width: 1.0;\"/><polygon fill=\"#383838\" points=\"324.47,168.03,326.0431,175.0674,333.1443,176.322,331.5711,169.2846,324.47,168.03\" style=\"stroke: #383838; stroke-width: 1.0;\"/><text fill=\"#000000\" font-family=\"sans-serif\" font-size=\"13\" lengthAdjust=\"spacingAndGlyphs\" textLength=\"8\" x=\"455.0824\" y=\"235.9486\">1</text></a><!--MD5=[191cde3d490a3f6d7bb551fe3ddca469]\n",
       "reverse link E3 to E5--><a href=\"psysml:1188b8bd-fcbe-4041-bfa3-3c6757b772de\" target=\"_top\" title=\"psysml:1188b8bd-fcbe-4041-bfa3-3c6757b772de\" xlink:actuate=\"onRequest\" xlink:href=\"psysml:1188b8bd-fcbe-4041-bfa3-3c6757b772de\" xlink:show=\"new\" xlink:title=\"psysml:1188b8bd-fcbe-4041-bfa3-3c6757b772de\" xlink:type=\"simple\"><path d=\"M350.66,127.03 C367.46,120.64 385.49,113.77 398.81,108.69 \" fill=\"none\" id=\"E3&lt;-E5\" style=\"stroke: #383838; stroke-width: 1.0;\"/><polygon fill=\"#FFFFFF\" points=\"338.15,131.8,345.1812,133.4006,349.363,127.5259,342.3318,125.9253,338.15,131.8\" style=\"stroke: #383838; stroke-width: 1.0;\"/><text fill=\"#000000\" font-family=\"sans-serif\" font-size=\"13\" lengthAdjust=\"spacingAndGlyphs\" textLength=\"8\" x=\"383.0956\" y=\"125.4387\">1</text></a><!--MD5=[79568f1e445c3877b6a54524624ccc7d]\n",
       "link E4 to E6--><a href=\"psysml:b444802f-fd06-4322-964d-2bd41504258e\" target=\"_top\" title=\"psysml:b444802f-fd06-4322-964d-2bd41504258e\" xlink:actuate=\"onRequest\" xlink:href=\"psysml:b444802f-fd06-4322-964d-2bd41504258e\" xlink:show=\"new\" xlink:title=\"psysml:b444802f-fd06-4322-964d-2bd41504258e\" xlink:type=\"simple\"><path d=\"M514.17,206.97 C547.89,193.88 615.78,167.51 663.82,148.85 \" fill=\"none\" id=\"E4-&gt;E6\" style=\"stroke: #383838; stroke-width: 1.0;\"/><polygon fill=\"#FFFFFF\" points=\"682.72,141.51,667.5446,154.9155,662.4747,141.8657,682.72,141.51\" style=\"stroke: #383838; stroke-width: 1.0;\"/><ellipse cx=\"661.5072\" cy=\"155.1154\" fill=\"#383838\" rx=\"2\" ry=\"2\" style=\"stroke: #383838; stroke-width: 1.0;\"/><ellipse cx=\"657.8858\" cy=\"145.7941\" fill=\"#383838\" rx=\"2\" ry=\"2\" style=\"stroke: #383838; stroke-width: 1.0;\"/></a><!--MD5=[3f50a3473f1dfb74d3f76443e03635af]\n",
       "reverse link E6 to E7--><a href=\"psysml:fe8fc95e-22bb-46d1-b0fd-61d73c45474f\" target=\"_top\" title=\"psysml:fe8fc95e-22bb-46d1-b0fd-61d73c45474f\" xlink:actuate=\"onRequest\" xlink:href=\"psysml:fe8fc95e-22bb-46d1-b0fd-61d73c45474f\" xlink:show=\"new\" xlink:title=\"psysml:fe8fc95e-22bb-46d1-b0fd-61d73c45474f\" xlink:type=\"simple\"><path d=\"M767.15,114.8 C783.81,110.18 801.62,105.25 814.81,101.59 \" fill=\"none\" id=\"E6&lt;-E7\" style=\"stroke: #383838; stroke-width: 1.0;\"/><polygon fill=\"#383838\" points=\"754.15,118.4,761.0002,120.6526,765.7143,115.1958,758.8641,112.9431,754.15,118.4\" style=\"stroke: #383838; stroke-width: 1.0;\"/><text fill=\"#000000\" font-family=\"sans-serif\" font-size=\"13\" lengthAdjust=\"spacingAndGlyphs\" textLength=\"8\" x=\"799.0956\" y=\"117.6956\">1</text></a><!--MD5=[14ccda38c055a5c0da953d572bc50960]\n",
       "link E7 to E3--><a href=\"psysml:599ea15b-bb0f-4f03-a502-f2e1a3a71e91\" target=\"_top\" title=\"psysml:599ea15b-bb0f-4f03-a502-f2e1a3a71e91\" xlink:actuate=\"onRequest\" xlink:href=\"psysml:599ea15b-bb0f-4f03-a502-f2e1a3a71e91\" xlink:show=\"new\" xlink:title=\"psysml:599ea15b-bb0f-4f03-a502-f2e1a3a71e91\" xlink:type=\"simple\"><path d=\"M814.63,79.8 C792.54,63.89 755.58,42 719.5,42 C419,42 419,42 419,42 C379.51,42 347.29,75.96 327.01,104.88 \" fill=\"none\" id=\"E7-&gt;E3\" style=\"stroke: #383838; stroke-width: 1.0;\"/><polygon fill=\"#FFFFFF\" points=\"315.97,121.88,320.4427,102.1317,332.1859,109.7538,315.97,121.88\" style=\"stroke: #383838; stroke-width: 1.0;\"/><ellipse cx=\"325.2235\" cy=\"98.4394\" fill=\"#383838\" rx=\"2\" ry=\"2\" style=\"stroke: #383838; stroke-width: 1.0;\"/><ellipse cx=\"333.6116\" cy=\"103.8838\" fill=\"#383838\" rx=\"2\" ry=\"2\" style=\"stroke: #383838; stroke-width: 1.0;\"/></a><!--MD5=[dfaffb906826c3e5aca635516100ff21]\n",
       "link E5 to E8--><a href=\"psysml:ebb03462-10dd-4a39-86ac-c1648f226bb6\" target=\"_top\" title=\"psysml:ebb03462-10dd-4a39-86ac-c1648f226bb6\" xlink:actuate=\"onRequest\" xlink:href=\"psysml:ebb03462-10dd-4a39-86ac-c1648f226bb6\" xlink:show=\"new\" xlink:title=\"psysml:ebb03462-10dd-4a39-86ac-c1648f226bb6\" xlink:type=\"simple\"><path d=\"M441.2,104.47 C462.06,108.06 495.5,113.81 524.1,118.73 \" fill=\"none\" id=\"E5-&gt;E8\" style=\"stroke: #383838; stroke-width: 1.0;\"/><polygon fill=\"#FFFFFF\" points=\"543.82,122.12,523.9093,125.803,526.279,112.005,543.82,122.12\" style=\"stroke: #383838; stroke-width: 1.0;\"/><ellipse cx=\"518.6301\" cy=\"122.8671\" fill=\"#383838\" rx=\"2\" ry=\"2\" style=\"stroke: #383838; stroke-width: 1.0;\"/><ellipse cx=\"520.3227\" cy=\"113.0114\" fill=\"#383838\" rx=\"2\" ry=\"2\" style=\"stroke: #383838; stroke-width: 1.0;\"/></a><!--MD5=[03c8294790d3c57651a1993cecff665f]\n",
       "reverse link E8 to E3--><a href=\"psysml:4ca20137-091c-4af4-8b05-aa2379f8c92e\" target=\"_top\" title=\"psysml:4ca20137-091c-4af4-8b05-aa2379f8c92e\" xlink:actuate=\"onRequest\" xlink:href=\"psysml:4ca20137-091c-4af4-8b05-aa2379f8c92e\" xlink:show=\"new\" xlink:title=\"psysml:4ca20137-091c-4af4-8b05-aa2379f8c92e\" xlink:type=\"simple\"><path d=\"M531.34,140.84 C505.03,147.41 471.44,154.71 441,158 C422.44,160.01 417.62,159.26 399,158 C378.8,156.63 356.36,153.65 338.31,150.89 \" fill=\"none\" id=\"E8&lt;-E3\" style=\"stroke: #383838; stroke-width: 1.0;\"/><polygon fill=\"#FFFFFF\" points=\"543.99,137.59,537.1849,135.2045,532.3655,140.5686,539.1706,142.9541,543.99,137.59\" style=\"stroke: #383838; stroke-width: 1.0;\"/><text fill=\"#000000\" font-family=\"sans-serif\" font-size=\"13\" lengthAdjust=\"spacingAndGlyphs\" textLength=\"7\" x=\"416.5\" y=\"154.0669\">y</text></a><!--MD5=[0d75d2178373a6a4568e5dc728f58aef]\n",
       "reverse link E8 to E6--><a href=\"psysml:4ca20137-091c-4af4-8b05-aa2379f8c92e\" target=\"_top\" title=\"psysml:4ca20137-091c-4af4-8b05-aa2379f8c92e\" xlink:actuate=\"onRequest\" xlink:href=\"psysml:4ca20137-091c-4af4-8b05-aa2379f8c92e\" xlink:show=\"new\" xlink:title=\"psysml:4ca20137-091c-4af4-8b05-aa2379f8c92e\" xlink:type=\"simple\"><path d=\"M627.39,128 C645.53,128 665.88,128 682.64,128 \" fill=\"none\" id=\"E8&lt;-E6\" style=\"stroke: #383838; stroke-width: 1.0;\"/><polygon fill=\"#FFFFFF\" points=\"614.34,128,620.34,132,626.34,128,620.34,124,614.34,128\" style=\"stroke: #383838; stroke-width: 1.0;\"/><text fill=\"#000000\" font-family=\"sans-serif\" font-size=\"13\" lengthAdjust=\"spacingAndGlyphs\" textLength=\"7\" x=\"645\" y=\"124.0669\">y</text></a><!--MD5=[23ac544a70576c3e717098101004234c]\n",
       "reverse link E9 to E10--><a href=\"psysml:bbec5841-3ffd-488b-b643-01adfe752a25\" target=\"_top\" title=\"psysml:bbec5841-3ffd-488b-b643-01adfe752a25\" xlink:actuate=\"onRequest\" xlink:href=\"psysml:bbec5841-3ffd-488b-b643-01adfe752a25\" xlink:show=\"new\" xlink:title=\"psysml:bbec5841-3ffd-488b-b643-01adfe752a25\" xlink:type=\"simple\"><path d=\"M114.48,202.1 C131.24,207.9 149.31,214.16 162.75,218.81 \" fill=\"none\" id=\"E9&lt;-E10\" style=\"stroke: #383838; stroke-width: 1.0;\"/><polygon fill=\"#FFFFFF\" points=\"102.03,197.78,106.3896,203.524,113.3686,201.7089,109.0089,195.9649,102.03,197.78\" style=\"stroke: #383838; stroke-width: 1.0;\"/><text fill=\"#000000\" font-family=\"sans-serif\" font-size=\"13\" lengthAdjust=\"spacingAndGlyphs\" textLength=\"8\" x=\"146.8641\" y=\"231.0017\">1</text></a><!--MD5=[feeac5eb423634930294aa81f2d25a4c]\n",
       "link E10 to E3--><a href=\"psysml:fb12afbf-9138-40ff-bf3b-75b81b096774\" target=\"_top\" title=\"psysml:fb12afbf-9138-40ff-bf3b-75b81b096774\" xlink:actuate=\"onRequest\" xlink:href=\"psysml:fb12afbf-9138-40ff-bf3b-75b81b096774\" xlink:show=\"new\" xlink:title=\"psysml:fb12afbf-9138-40ff-bf3b-75b81b096774\" xlink:type=\"simple\"><path d=\"M206.24,211.52 C218.94,202.65 235.78,190.89 251.76,179.73 \" fill=\"none\" id=\"E10-&gt;E3\" style=\"stroke: #383838; stroke-width: 1.0;\"/><polygon fill=\"#FFFFFF\" points=\"268.21,168.25,256.6501,184.8743,248.6276,173.4008,268.21,168.25\" style=\"stroke: #383838; stroke-width: 1.0;\"/><ellipse cx=\"250.8327\" cy=\"186.5015\" fill=\"#383838\" rx=\"2\" ry=\"2\" style=\"stroke: #383838; stroke-width: 1.0;\"/><ellipse cx=\"245.1024\" cy=\"178.3062\" fill=\"#383838\" rx=\"2\" ry=\"2\" style=\"stroke: #383838; stroke-width: 1.0;\"/></a><!--MD5=[1fc04a95fd77ad5ce46c1a3027516051]\n",
       "reverse link E9 to E11--><a href=\"psysml:20edee2c-da5c-4ff9-9cec-febcc5f58071\" target=\"_top\" title=\"psysml:20edee2c-da5c-4ff9-9cec-febcc5f58071\" xlink:actuate=\"onRequest\" xlink:href=\"psysml:20edee2c-da5c-4ff9-9cec-febcc5f58071\" xlink:show=\"new\" xlink:title=\"psysml:20edee2c-da5c-4ff9-9cec-febcc5f58071\" xlink:type=\"simple\"><path d=\"M114.48,169.5 C131.24,163.55 149.31,157.14 162.75,152.37 \" fill=\"none\" id=\"E9&lt;-E11\" style=\"stroke: #383838; stroke-width: 1.0;\"/><polygon fill=\"#FFFFFF\" points=\"102.03,173.92,109.0214,175.6865,113.341,169.9124,106.3496,168.1458,102.03,173.92\" style=\"stroke: #383838; stroke-width: 1.0;\"/><text fill=\"#000000\" font-family=\"sans-serif\" font-size=\"13\" lengthAdjust=\"spacingAndGlyphs\" textLength=\"8\" x=\"146.8641\" y=\"169.0207\">1</text></a><!--MD5=[0517f1ce58c4d5483948f93845c45e26]\n",
       "link E11 to E3--><a href=\"psysml:6098403c-f8e4-4c64-8bc6-7f6e4aceb826\" target=\"_top\" title=\"psysml:6098403c-f8e4-4c64-8bc6-7f6e4aceb826\" xlink:actuate=\"onRequest\" xlink:href=\"psysml:6098403c-f8e4-4c64-8bc6-7f6e4aceb826\" xlink:show=\"new\" xlink:title=\"psysml:6098403c-f8e4-4c64-8bc6-7f6e4aceb826\" xlink:type=\"simple\"><path d=\"M206.24,145 C217.53,145 232.1,145 246.43,145 \" fill=\"none\" id=\"E11-&gt;E3\" style=\"stroke: #383838; stroke-width: 1.0;\"/><polygon fill=\"#FFFFFF\" points=\"266.84,145,247.84,152,247.84,138,266.84,145\" style=\"stroke: #383838; stroke-width: 1.0;\"/><ellipse cx=\"242.14\" cy=\"150\" fill=\"#383838\" rx=\"2\" ry=\"2\" style=\"stroke: #383838; stroke-width: 1.0;\"/><ellipse cx=\"242.14\" cy=\"140\" fill=\"#383838\" rx=\"2\" ry=\"2\" style=\"stroke: #383838; stroke-width: 1.0;\"/></a><!--MD5=[aec27ce3fc82b32af87cb200b50463b7]\n",
       "@startuml\r\n",
       "left to right direction\r\n",
       "skinparam monochrome true\r\n",
       "skinparam classbackgroundcolor white\r\n",
       "skinparam shadowing false\r\n",
       "skinparam wrapWidth 300\r\n",
       "hide circle\r\n",
       "\r\n",
       "package \"ItemTest\" as E1  [[psysml:05177c11-5394-41b2-a0a0-71a4c06ed611 ]]  {\r\n",
       "comp usage \"f: A \" as E2  <<(T,blue) item>> [[psysml:9b37ce48-aa06-4adb-ba3b-3b1410731947 ]] {\r\n",
       "}\r\n",
       "comp def \"A\" as E3  <<(T,blue) item  def>> [[psysml:373f36dd-9125-4f4d-9beb-8d6cd21e1469 ]] {\r\n",
       "}\r\n",
       "comp usage \"b: B \" as E4  <<(T,blue) item>> [[psysml:130e11a2-3d5f-4cd9-b0cd-9225a7528360 ]] {\r\n",
       "}\r\n",
       "comp usage \"c: C \" as E5  <<(T,blue) part>> [[psysml:80ae9a50-ac1f-4423-b935-68d8f5716f01 ]] {\r\n",
       "}\r\n",
       "comp def \"<i>B</i>\" as E6  <<(T,blue) item  def>> [[psysml:7d838d86-0408-4401-9cbf-32b733f3993a ]] {\r\n",
       "}\r\n",
       "comp usage \"<i>a</i>: A \" as E7  <<(T,blue) part>> [[psysml:d06b8fcb-8cda-493c-875d-bdf01ed715df ]] {\r\n",
       "}\r\n",
       "comp def \"C\" as E8  <<(T,blue) part  def>> [[psysml:a2efb8df-7581-49ed-b24f-8030c12b0405 ]] {\r\n",
       "}\r\n",
       "comp def \"P\" as E9  <<(T,blue) port  def>> [[psysml:91f3ce36-c57b-44eb-a625-32b1f3011842 ]] {\r\n",
       "}\r\n",
       "comp usage \"a1: A \" as E10  <<(T,blue) item>> [[psysml:5a8db81a-c733-4c6f-be90-4f9ffe214caa ]] {\r\n",
       "}\r\n",
       "comp usage \"a2: A \" as E11  <<(T,blue) item>> [[psysml:50797105-d3dc-4af6-be0e-986a23cb6cc7 ]] {\r\n",
       "}\r\n",
       "}\r\n",
       "E2 - -:|> E3 [[psysml:2d349f36-3ef3-481f-a80c-9f5be02d82e3 ]] \r\n",
       "E3 *- - \"1\"E4 [[psysml:1fc0b9c6-f917-494b-8539-e8a30a151a21 ]] \r\n",
       "E3 o- - \"1\"E5 [[psysml:1188b8bd-fcbe-4041-bfa3-3c6757b772de ]] \r\n",
       "E4 - -:|> E6 [[psysml:b444802f-fd06-4322-964d-2bd41504258e ]] \r\n",
       "E6 *- - \"1\"E7 [[psysml:fe8fc95e-22bb-46d1-b0fd-61d73c45474f ]] \r\n",
       "E7 - -:|> E3 [[psysml:599ea15b-bb0f-4f03-a502-f2e1a3a71e91 ]] \r\n",
       "E5 - -:|> E8 [[psysml:ebb03462-10dd-4a39-86ac-c1648f226bb6 ]] \r\n",
       "E8 o- - E3 [[psysml:4ca20137-091c-4af4-8b05-aa2379f8c92e ]] : y\r\n",
       "E8 o- - E6 [[psysml:4ca20137-091c-4af4-8b05-aa2379f8c92e ]] : y\r\n",
       "E9 o- - \"1\"E10 [[psysml:bbec5841-3ffd-488b-b643-01adfe752a25 ]] \r\n",
       "E10 - -:|> E3 [[psysml:fb12afbf-9138-40ff-bf3b-75b81b096774 ]] \r\n",
       "E9 o- - \"1\"E11 [[psysml:20edee2c-da5c-4ff9-9cec-febcc5f58071 ]] \r\n",
       "E11 - -:|> E3 [[psysml:6098403c-f8e4-4c64-8bc6-7f6e4aceb826 ]] \r\n",
       "@enduml\r\n",
       "\n",
       "PlantUML version 1.2020.13(Sat Jun 13 12:26:38 UTC 2020)\n",
       "(EPL source distribution)\n",
       "Java Runtime: OpenJDK Runtime Environment\n",
       "JVM: OpenJDK 64-Bit Server VM\n",
       "Default Encoding: UTF-8\n",
       "Language: en\n",
       "Country: null\n",
       "--></g></svg>"
      ]
     },
     "execution_count": 16,
     "metadata": {},
     "output_type": "execute_result"
    }
   ],
   "source": [
    "%viz --style=\"LR\" --view=\"Default\" \"ItemTest\""
   ]
  },
  {
   "cell_type": "code",
   "execution_count": 17,
   "id": "efd22824",
   "metadata": {
    "execution": {
     "iopub.execute_input": "2022-04-22T09:48:24.157338Z",
     "iopub.status.busy": "2022-04-22T09:48:24.156932Z",
     "iopub.status.idle": "2022-04-22T09:48:24.223387Z",
     "shell.execute_reply": "2022-04-22T09:48:24.223196Z"
    }
   },
   "outputs": [
    {
     "data": {
      "image/svg+xml": [
       "<?xml version=\"1.0\" encoding=\"UTF-8\" standalone=\"no\"?><svg xmlns=\"http://www.w3.org/2000/svg\" xmlns:xlink=\"http://www.w3.org/1999/xlink\" contentScriptType=\"application/ecmascript\" contentStyleType=\"text/css\" height=\"277px\" preserveAspectRatio=\"none\" style=\"width:895px;height:277px;\" version=\"1.1\" viewBox=\"0 0 895 277\" width=\"895px\" zoomAndPan=\"magnify\"><defs/><g><!--MD5=[fbc87193dbaf4d95561dea2c320d4a47]\n",
       "cluster E1--><a href=\"psysml:05177c11-5394-41b2-a0a0-71a4c06ed611\" target=\"_top\" title=\"psysml:05177c11-5394-41b2-a0a0-71a4c06ed611\" xlink:actuate=\"onRequest\" xlink:href=\"psysml:05177c11-5394-41b2-a0a0-71a4c06ed611\" xlink:show=\"new\" xlink:title=\"psysml:05177c11-5394-41b2-a0a0-71a4c06ed611\" xlink:type=\"simple\"><polygon fill=\"#FFFFFF\" points=\"16,6,83,6,90,28.2969,873,28.2969,873,265,16,265,16,6\" style=\"stroke: #000000; stroke-width: 1.5;\"/><line style=\"stroke: #000000; stroke-width: 1.5;\" x1=\"16\" x2=\"90\" y1=\"28.2969\" y2=\"28.2969\"/><text fill=\"#000000\" font-family=\"sans-serif\" font-size=\"14\" font-weight=\"bold\" lengthAdjust=\"spacingAndGlyphs\" textLength=\"61\" x=\"20\" y=\"20.9951\">ItemTest</text></a><!--MD5=[b4997ac47864f28c2f74865a473b2911]\n",
       "class E2--><a href=\"psysml:9b37ce48-aa06-4adb-ba3b-3b1410731947\" target=\"_top\" title=\"psysml:9b37ce48-aa06-4adb-ba3b-3b1410731947\" xlink:actuate=\"onRequest\" xlink:href=\"psysml:9b37ce48-aa06-4adb-ba3b-3b1410731947\" xlink:show=\"new\" xlink:title=\"psysml:9b37ce48-aa06-4adb-ba3b-3b1410731947\" xlink:type=\"simple\"><rect fill=\"#FFFFFF\" height=\"45.9375\" id=\"E2\" rx=\"10\" ry=\"10\" style=\"stroke: #383838; stroke-width: 1.5;\" width=\"43\" x=\"163\" y=\"41\"/><text fill=\"#000000\" font-family=\"sans-serif\" font-size=\"12\" font-style=\"italic\" lengthAdjust=\"spacingAndGlyphs\" textLength=\"41\" x=\"164\" y=\"57.1387\">«item»</text><text fill=\"#000000\" font-family=\"sans-serif\" font-size=\"12\" lengthAdjust=\"spacingAndGlyphs\" textLength=\"20\" x=\"172.5\" y=\"71.1074\">f: A</text><line style=\"stroke: #383838; stroke-width: 1.5;\" x1=\"164\" x2=\"205\" y1=\"78.9375\" y2=\"78.9375\"/></a><!--MD5=[09b614a08d8cba4a07c9adeb5e0fee81]\n",
       "class E3--><a href=\"psysml:373f36dd-9125-4f4d-9beb-8d6cd21e1469\" target=\"_top\" title=\"psysml:373f36dd-9125-4f4d-9beb-8d6cd21e1469\" xlink:actuate=\"onRequest\" xlink:href=\"psysml:373f36dd-9125-4f4d-9beb-8d6cd21e1469\" xlink:show=\"new\" xlink:title=\"psysml:373f36dd-9125-4f4d-9beb-8d6cd21e1469\" xlink:type=\"simple\"><rect fill=\"#FFFFFF\" height=\"45.9375\" id=\"E3\" style=\"stroke: #383838; stroke-width: 1.5;\" width=\"71\" x=\"267\" y=\"122\"/><text fill=\"#000000\" font-family=\"sans-serif\" font-size=\"12\" font-style=\"italic\" lengthAdjust=\"spacingAndGlyphs\" textLength=\"69\" x=\"268\" y=\"138.1387\">«item  def»</text><text fill=\"#000000\" font-family=\"sans-serif\" font-size=\"12\" lengthAdjust=\"spacingAndGlyphs\" textLength=\"8\" x=\"298.5\" y=\"152.1074\">A</text><line style=\"stroke: #383838; stroke-width: 1.5;\" x1=\"268\" x2=\"337\" y1=\"159.9375\" y2=\"159.9375\"/></a><!--MD5=[ebbe1d658d1005bcc118a6aa81145e00]\n",
       "class E4--><a href=\"psysml:130e11a2-3d5f-4cd9-b0cd-9225a7528360\" target=\"_top\" title=\"psysml:130e11a2-3d5f-4cd9-b0cd-9225a7528360\" xlink:actuate=\"onRequest\" xlink:href=\"psysml:130e11a2-3d5f-4cd9-b0cd-9225a7528360\" xlink:show=\"new\" xlink:title=\"psysml:130e11a2-3d5f-4cd9-b0cd-9225a7528360\" xlink:type=\"simple\"><rect fill=\"#FFFFFF\" height=\"45.9375\" id=\"E4\" rx=\"10\" ry=\"10\" style=\"stroke: #383838; stroke-width: 1.5;\" width=\"43\" x=\"471\" y=\"192\"/><text fill=\"#000000\" font-family=\"sans-serif\" font-size=\"12\" font-style=\"italic\" lengthAdjust=\"spacingAndGlyphs\" textLength=\"41\" x=\"472\" y=\"208.1387\">«item»</text><text fill=\"#000000\" font-family=\"sans-serif\" font-size=\"12\" lengthAdjust=\"spacingAndGlyphs\" textLength=\"24\" x=\"478.5\" y=\"222.1074\">b: B</text><line style=\"stroke: #383838; stroke-width: 1.5;\" x1=\"472\" x2=\"513\" y1=\"229.9375\" y2=\"229.9375\"/></a><!--MD5=[270fce915f116d4de14055a7c1d9a0f3]\n",
       "class E5--><a href=\"psysml:80ae9a50-ac1f-4423-b935-68d8f5716f01\" target=\"_top\" title=\"psysml:80ae9a50-ac1f-4423-b935-68d8f5716f01\" xlink:actuate=\"onRequest\" xlink:href=\"psysml:80ae9a50-ac1f-4423-b935-68d8f5716f01\" xlink:show=\"new\" xlink:title=\"psysml:80ae9a50-ac1f-4423-b935-68d8f5716f01\" xlink:type=\"simple\"><rect fill=\"#FFFFFF\" height=\"45.9375\" id=\"E5\" rx=\"10\" ry=\"10\" style=\"stroke: #383838; stroke-width: 1.5;\" width=\"42\" x=\"399\" y=\"78\"/><text fill=\"#000000\" font-family=\"sans-serif\" font-size=\"12\" font-style=\"italic\" lengthAdjust=\"spacingAndGlyphs\" textLength=\"40\" x=\"400\" y=\"94.1387\">«part»</text><text fill=\"#000000\" font-family=\"sans-serif\" font-size=\"12\" lengthAdjust=\"spacingAndGlyphs\" textLength=\"23\" x=\"406.5\" y=\"108.1074\">c: C</text><line style=\"stroke: #383838; stroke-width: 1.5;\" x1=\"400\" x2=\"440\" y1=\"115.9375\" y2=\"115.9375\"/></a><!--MD5=[60a26617385b1d2d0262a64233df1f8d]\n",
       "class E6--><a href=\"psysml:7d838d86-0408-4401-9cbf-32b733f3993a\" target=\"_top\" title=\"psysml:7d838d86-0408-4401-9cbf-32b733f3993a\" xlink:actuate=\"onRequest\" xlink:href=\"psysml:7d838d86-0408-4401-9cbf-32b733f3993a\" xlink:show=\"new\" xlink:title=\"psysml:7d838d86-0408-4401-9cbf-32b733f3993a\" xlink:type=\"simple\"><rect fill=\"#FFFFFF\" height=\"45.9375\" id=\"E6\" style=\"stroke: #383838; stroke-width: 1.5;\" width=\"71\" x=\"683\" y=\"105\"/><text fill=\"#000000\" font-family=\"sans-serif\" font-size=\"12\" font-style=\"italic\" lengthAdjust=\"spacingAndGlyphs\" textLength=\"69\" x=\"684\" y=\"121.1387\">«item  def»</text><text fill=\"#000000\" font-family=\"sans-serif\" font-size=\"12\" font-style=\"italic\" lengthAdjust=\"spacingAndGlyphs\" textLength=\"8\" x=\"714.5\" y=\"135.1074\">B</text><line style=\"stroke: #383838; stroke-width: 1.5;\" x1=\"684\" x2=\"753\" y1=\"142.9375\" y2=\"142.9375\"/></a><!--MD5=[2156ba9850f5573cc1fc38a6a4b2f02b]\n",
       "class E7--><a href=\"psysml:d06b8fcb-8cda-493c-875d-bdf01ed715df\" target=\"_top\" title=\"psysml:d06b8fcb-8cda-493c-875d-bdf01ed715df\" xlink:actuate=\"onRequest\" xlink:href=\"psysml:d06b8fcb-8cda-493c-875d-bdf01ed715df\" xlink:show=\"new\" xlink:title=\"psysml:d06b8fcb-8cda-493c-875d-bdf01ed715df\" xlink:type=\"simple\"><rect fill=\"#FFFFFF\" height=\"45.9375\" id=\"E7\" rx=\"10\" ry=\"10\" style=\"stroke: #383838; stroke-width: 1.5;\" width=\"42\" x=\"815\" y=\"73\"/><text fill=\"#000000\" font-family=\"sans-serif\" font-size=\"12\" font-style=\"italic\" lengthAdjust=\"spacingAndGlyphs\" textLength=\"40\" x=\"816\" y=\"89.1387\">«part»</text><text fill=\"#000000\" font-family=\"sans-serif\" font-size=\"12\" font-style=\"italic\" lengthAdjust=\"spacingAndGlyphs\" textLength=\"8\" x=\"822\" y=\"103.1074\">a</text><text fill=\"#000000\" font-family=\"sans-serif\" font-size=\"12\" lengthAdjust=\"spacingAndGlyphs\" textLength=\"16\" x=\"830\" y=\"103.1074\">: A</text><line style=\"stroke: #383838; stroke-width: 1.5;\" x1=\"816\" x2=\"856\" y1=\"110.9375\" y2=\"110.9375\"/></a><!--MD5=[b9389687b975829384b498ac4b7476b2]\n",
       "class E8--><a href=\"psysml:a2efb8df-7581-49ed-b24f-8030c12b0405\" target=\"_top\" title=\"psysml:a2efb8df-7581-49ed-b24f-8030c12b0405\" xlink:actuate=\"onRequest\" xlink:href=\"psysml:a2efb8df-7581-49ed-b24f-8030c12b0405\" xlink:show=\"new\" xlink:title=\"psysml:a2efb8df-7581-49ed-b24f-8030c12b0405\" xlink:type=\"simple\"><rect fill=\"#FFFFFF\" height=\"45.9375\" id=\"E8\" style=\"stroke: #383838; stroke-width: 1.5;\" width=\"70\" x=\"544\" y=\"105\"/><text fill=\"#000000\" font-family=\"sans-serif\" font-size=\"12\" font-style=\"italic\" lengthAdjust=\"spacingAndGlyphs\" textLength=\"68\" x=\"545\" y=\"121.1387\">«part  def»</text><text fill=\"#000000\" font-family=\"sans-serif\" font-size=\"12\" lengthAdjust=\"spacingAndGlyphs\" textLength=\"8\" x=\"575\" y=\"135.1074\">C</text><line style=\"stroke: #383838; stroke-width: 1.5;\" x1=\"545\" x2=\"613\" y1=\"142.9375\" y2=\"142.9375\"/></a><!--MD5=[fd4143e9d270a159db93a4ea2a975926]\n",
       "class E9--><a href=\"psysml:91f3ce36-c57b-44eb-a625-32b1f3011842\" target=\"_top\" title=\"psysml:91f3ce36-c57b-44eb-a625-32b1f3011842\" xlink:actuate=\"onRequest\" xlink:href=\"psysml:91f3ce36-c57b-44eb-a625-32b1f3011842\" xlink:show=\"new\" xlink:title=\"psysml:91f3ce36-c57b-44eb-a625-32b1f3011842\" xlink:type=\"simple\"><rect fill=\"#FFFFFF\" height=\"45.9375\" id=\"E9\" style=\"stroke: #383838; stroke-width: 1.5;\" width=\"70\" x=\"32\" y=\"163\"/><text fill=\"#000000\" font-family=\"sans-serif\" font-size=\"12\" font-style=\"italic\" lengthAdjust=\"spacingAndGlyphs\" textLength=\"68\" x=\"33\" y=\"179.1387\">«port  def»</text><text fill=\"#000000\" font-family=\"sans-serif\" font-size=\"12\" lengthAdjust=\"spacingAndGlyphs\" textLength=\"8\" x=\"63\" y=\"193.1074\">P</text><line style=\"stroke: #383838; stroke-width: 1.5;\" x1=\"33\" x2=\"101\" y1=\"200.9375\" y2=\"200.9375\"/></a><!--MD5=[96f4274e9e20536e775497830990834d]\n",
       "class E10--><a href=\"psysml:5a8db81a-c733-4c6f-be90-4f9ffe214caa\" target=\"_top\" title=\"psysml:5a8db81a-c733-4c6f-be90-4f9ffe214caa\" xlink:actuate=\"onRequest\" xlink:href=\"psysml:5a8db81a-c733-4c6f-be90-4f9ffe214caa\" xlink:show=\"new\" xlink:title=\"psysml:5a8db81a-c733-4c6f-be90-4f9ffe214caa\" xlink:type=\"simple\"><rect fill=\"#FFFFFF\" height=\"45.9375\" id=\"E10\" rx=\"10\" ry=\"10\" style=\"stroke: #383838; stroke-width: 1.5;\" width=\"43\" x=\"163\" y=\"203\"/><text fill=\"#000000\" font-family=\"sans-serif\" font-size=\"12\" font-style=\"italic\" lengthAdjust=\"spacingAndGlyphs\" textLength=\"41\" x=\"164\" y=\"219.1387\">«item»</text><text fill=\"#000000\" font-family=\"sans-serif\" font-size=\"12\" lengthAdjust=\"spacingAndGlyphs\" textLength=\"32\" x=\"166.5\" y=\"233.1074\">a1: A</text><line style=\"stroke: #383838; stroke-width: 1.5;\" x1=\"164\" x2=\"205\" y1=\"240.9375\" y2=\"240.9375\"/></a><!--MD5=[1dd1bfd58a279cf63c5f349dbc8fc6a1]\n",
       "class E11--><a href=\"psysml:50797105-d3dc-4af6-be0e-986a23cb6cc7\" target=\"_top\" title=\"psysml:50797105-d3dc-4af6-be0e-986a23cb6cc7\" xlink:actuate=\"onRequest\" xlink:href=\"psysml:50797105-d3dc-4af6-be0e-986a23cb6cc7\" xlink:show=\"new\" xlink:title=\"psysml:50797105-d3dc-4af6-be0e-986a23cb6cc7\" xlink:type=\"simple\"><rect fill=\"#FFFFFF\" height=\"45.9375\" id=\"E11\" rx=\"10\" ry=\"10\" style=\"stroke: #383838; stroke-width: 1.5;\" width=\"43\" x=\"163\" y=\"122\"/><text fill=\"#000000\" font-family=\"sans-serif\" font-size=\"12\" font-style=\"italic\" lengthAdjust=\"spacingAndGlyphs\" textLength=\"41\" x=\"164\" y=\"138.1387\">«item»</text><text fill=\"#000000\" font-family=\"sans-serif\" font-size=\"12\" lengthAdjust=\"spacingAndGlyphs\" textLength=\"32\" x=\"166.5\" y=\"152.1074\">a2: A</text><line style=\"stroke: #383838; stroke-width: 1.5;\" x1=\"164\" x2=\"205\" y1=\"159.9375\" y2=\"159.9375\"/></a><!--MD5=[2720a5a1f2c3fca2055b230370638851]\n",
       "link E2 to E3--><a href=\"psysml:2d349f36-3ef3-481f-a80c-9f5be02d82e3\" target=\"_top\" title=\"psysml:2d349f36-3ef3-481f-a80c-9f5be02d82e3\" xlink:actuate=\"onRequest\" xlink:href=\"psysml:2d349f36-3ef3-481f-a80c-9f5be02d82e3\" xlink:show=\"new\" xlink:title=\"psysml:2d349f36-3ef3-481f-a80c-9f5be02d82e3\" xlink:type=\"simple\"><path d=\"M206.24,78.48 C218.94,87.35 235.78,99.11 251.76,110.27 \" fill=\"none\" id=\"E2-&gt;E3\" style=\"stroke: #383838; stroke-width: 1.0;\"/><polygon fill=\"#FFFFFF\" points=\"268.21,121.75,248.6276,116.5992,256.6501,105.1257,268.21,121.75\" style=\"stroke: #383838; stroke-width: 1.0;\"/><ellipse cx=\"245.1024\" cy=\"111.6938\" fill=\"#383838\" rx=\"2\" ry=\"2\" style=\"stroke: #383838; stroke-width: 1.0;\"/><ellipse cx=\"250.8327\" cy=\"103.4985\" fill=\"#383838\" rx=\"2\" ry=\"2\" style=\"stroke: #383838; stroke-width: 1.0;\"/></a><!--MD5=[4672eba38e49728da53d11aeb285b987]\n",
       "reverse link E3 to E4--><a href=\"psysml:1fc0b9c6-f917-494b-8539-e8a30a151a21\" target=\"_top\" title=\"psysml:1fc0b9c6-f917-494b-8539-e8a30a151a21\" xlink:actuate=\"onRequest\" xlink:href=\"psysml:1fc0b9c6-f917-494b-8539-e8a30a151a21\" xlink:show=\"new\" xlink:title=\"psysml:1fc0b9c6-f917-494b-8539-e8a30a151a21\" xlink:type=\"simple\"><path d=\"M333.98,177.13 C351.32,193.04 374.45,210.6 399,219 C422.57,227.06 451.51,223.9 470.67,220.14 \" fill=\"none\" id=\"E3&lt;-E4\" style=\"stroke: #383838; stroke-width: 1.0;\"/><polygon fill=\"#383838\" points=\"324.47,168.03,326.0431,175.0674,333.1443,176.322,331.5711,169.2846,324.47,168.03\" style=\"stroke: #383838; stroke-width: 1.0;\"/><text fill=\"#000000\" font-family=\"sans-serif\" font-size=\"13\" lengthAdjust=\"spacingAndGlyphs\" textLength=\"8\" x=\"455.0824\" y=\"235.9486\">1</text></a><!--MD5=[191cde3d490a3f6d7bb551fe3ddca469]\n",
       "reverse link E3 to E5--><a href=\"psysml:1188b8bd-fcbe-4041-bfa3-3c6757b772de\" target=\"_top\" title=\"psysml:1188b8bd-fcbe-4041-bfa3-3c6757b772de\" xlink:actuate=\"onRequest\" xlink:href=\"psysml:1188b8bd-fcbe-4041-bfa3-3c6757b772de\" xlink:show=\"new\" xlink:title=\"psysml:1188b8bd-fcbe-4041-bfa3-3c6757b772de\" xlink:type=\"simple\"><path d=\"M350.66,127.03 C367.46,120.64 385.49,113.77 398.81,108.69 \" fill=\"none\" id=\"E3&lt;-E5\" style=\"stroke: #383838; stroke-width: 1.0;\"/><polygon fill=\"#FFFFFF\" points=\"338.15,131.8,345.1812,133.4006,349.363,127.5259,342.3318,125.9253,338.15,131.8\" style=\"stroke: #383838; stroke-width: 1.0;\"/><text fill=\"#000000\" font-family=\"sans-serif\" font-size=\"13\" lengthAdjust=\"spacingAndGlyphs\" textLength=\"8\" x=\"383.0956\" y=\"125.4387\">1</text></a><!--MD5=[79568f1e445c3877b6a54524624ccc7d]\n",
       "link E4 to E6--><a href=\"psysml:b444802f-fd06-4322-964d-2bd41504258e\" target=\"_top\" title=\"psysml:b444802f-fd06-4322-964d-2bd41504258e\" xlink:actuate=\"onRequest\" xlink:href=\"psysml:b444802f-fd06-4322-964d-2bd41504258e\" xlink:show=\"new\" xlink:title=\"psysml:b444802f-fd06-4322-964d-2bd41504258e\" xlink:type=\"simple\"><path d=\"M514.17,206.97 C547.89,193.88 615.78,167.51 663.82,148.85 \" fill=\"none\" id=\"E4-&gt;E6\" style=\"stroke: #383838; stroke-width: 1.0;\"/><polygon fill=\"#FFFFFF\" points=\"682.72,141.51,667.5446,154.9155,662.4747,141.8657,682.72,141.51\" style=\"stroke: #383838; stroke-width: 1.0;\"/><ellipse cx=\"661.5072\" cy=\"155.1154\" fill=\"#383838\" rx=\"2\" ry=\"2\" style=\"stroke: #383838; stroke-width: 1.0;\"/><ellipse cx=\"657.8858\" cy=\"145.7941\" fill=\"#383838\" rx=\"2\" ry=\"2\" style=\"stroke: #383838; stroke-width: 1.0;\"/></a><!--MD5=[3f50a3473f1dfb74d3f76443e03635af]\n",
       "reverse link E6 to E7--><a href=\"psysml:fe8fc95e-22bb-46d1-b0fd-61d73c45474f\" target=\"_top\" title=\"psysml:fe8fc95e-22bb-46d1-b0fd-61d73c45474f\" xlink:actuate=\"onRequest\" xlink:href=\"psysml:fe8fc95e-22bb-46d1-b0fd-61d73c45474f\" xlink:show=\"new\" xlink:title=\"psysml:fe8fc95e-22bb-46d1-b0fd-61d73c45474f\" xlink:type=\"simple\"><path d=\"M767.15,114.8 C783.81,110.18 801.62,105.25 814.81,101.59 \" fill=\"none\" id=\"E6&lt;-E7\" style=\"stroke: #383838; stroke-width: 1.0;\"/><polygon fill=\"#383838\" points=\"754.15,118.4,761.0002,120.6526,765.7143,115.1958,758.8641,112.9431,754.15,118.4\" style=\"stroke: #383838; stroke-width: 1.0;\"/><text fill=\"#000000\" font-family=\"sans-serif\" font-size=\"13\" lengthAdjust=\"spacingAndGlyphs\" textLength=\"8\" x=\"799.0956\" y=\"117.6956\">1</text></a><!--MD5=[14ccda38c055a5c0da953d572bc50960]\n",
       "link E7 to E3--><a href=\"psysml:599ea15b-bb0f-4f03-a502-f2e1a3a71e91\" target=\"_top\" title=\"psysml:599ea15b-bb0f-4f03-a502-f2e1a3a71e91\" xlink:actuate=\"onRequest\" xlink:href=\"psysml:599ea15b-bb0f-4f03-a502-f2e1a3a71e91\" xlink:show=\"new\" xlink:title=\"psysml:599ea15b-bb0f-4f03-a502-f2e1a3a71e91\" xlink:type=\"simple\"><path d=\"M814.63,79.8 C792.54,63.89 755.58,42 719.5,42 C419,42 419,42 419,42 C379.51,42 347.29,75.96 327.01,104.88 \" fill=\"none\" id=\"E7-&gt;E3\" style=\"stroke: #383838; stroke-width: 1.0;\"/><polygon fill=\"#FFFFFF\" points=\"315.97,121.88,320.4427,102.1317,332.1859,109.7538,315.97,121.88\" style=\"stroke: #383838; stroke-width: 1.0;\"/><ellipse cx=\"325.2235\" cy=\"98.4394\" fill=\"#383838\" rx=\"2\" ry=\"2\" style=\"stroke: #383838; stroke-width: 1.0;\"/><ellipse cx=\"333.6116\" cy=\"103.8838\" fill=\"#383838\" rx=\"2\" ry=\"2\" style=\"stroke: #383838; stroke-width: 1.0;\"/></a><!--MD5=[dfaffb906826c3e5aca635516100ff21]\n",
       "link E5 to E8--><a href=\"psysml:ebb03462-10dd-4a39-86ac-c1648f226bb6\" target=\"_top\" title=\"psysml:ebb03462-10dd-4a39-86ac-c1648f226bb6\" xlink:actuate=\"onRequest\" xlink:href=\"psysml:ebb03462-10dd-4a39-86ac-c1648f226bb6\" xlink:show=\"new\" xlink:title=\"psysml:ebb03462-10dd-4a39-86ac-c1648f226bb6\" xlink:type=\"simple\"><path d=\"M441.2,104.47 C462.06,108.06 495.5,113.81 524.1,118.73 \" fill=\"none\" id=\"E5-&gt;E8\" style=\"stroke: #383838; stroke-width: 1.0;\"/><polygon fill=\"#FFFFFF\" points=\"543.82,122.12,523.9093,125.803,526.279,112.005,543.82,122.12\" style=\"stroke: #383838; stroke-width: 1.0;\"/><ellipse cx=\"518.6301\" cy=\"122.8671\" fill=\"#383838\" rx=\"2\" ry=\"2\" style=\"stroke: #383838; stroke-width: 1.0;\"/><ellipse cx=\"520.3227\" cy=\"113.0114\" fill=\"#383838\" rx=\"2\" ry=\"2\" style=\"stroke: #383838; stroke-width: 1.0;\"/></a><!--MD5=[03c8294790d3c57651a1993cecff665f]\n",
       "reverse link E8 to E3--><a href=\"psysml:4ca20137-091c-4af4-8b05-aa2379f8c92e\" target=\"_top\" title=\"psysml:4ca20137-091c-4af4-8b05-aa2379f8c92e\" xlink:actuate=\"onRequest\" xlink:href=\"psysml:4ca20137-091c-4af4-8b05-aa2379f8c92e\" xlink:show=\"new\" xlink:title=\"psysml:4ca20137-091c-4af4-8b05-aa2379f8c92e\" xlink:type=\"simple\"><path d=\"M531.34,140.84 C505.03,147.41 471.44,154.71 441,158 C422.44,160.01 417.62,159.26 399,158 C378.8,156.63 356.36,153.65 338.31,150.89 \" fill=\"none\" id=\"E8&lt;-E3\" style=\"stroke: #383838; stroke-width: 1.0;\"/><polygon fill=\"#FFFFFF\" points=\"543.99,137.59,537.1849,135.2045,532.3655,140.5686,539.1706,142.9541,543.99,137.59\" style=\"stroke: #383838; stroke-width: 1.0;\"/><text fill=\"#000000\" font-family=\"sans-serif\" font-size=\"13\" lengthAdjust=\"spacingAndGlyphs\" textLength=\"7\" x=\"416.5\" y=\"154.0669\">y</text></a><!--MD5=[0d75d2178373a6a4568e5dc728f58aef]\n",
       "reverse link E8 to E6--><a href=\"psysml:4ca20137-091c-4af4-8b05-aa2379f8c92e\" target=\"_top\" title=\"psysml:4ca20137-091c-4af4-8b05-aa2379f8c92e\" xlink:actuate=\"onRequest\" xlink:href=\"psysml:4ca20137-091c-4af4-8b05-aa2379f8c92e\" xlink:show=\"new\" xlink:title=\"psysml:4ca20137-091c-4af4-8b05-aa2379f8c92e\" xlink:type=\"simple\"><path d=\"M627.39,128 C645.53,128 665.88,128 682.64,128 \" fill=\"none\" id=\"E8&lt;-E6\" style=\"stroke: #383838; stroke-width: 1.0;\"/><polygon fill=\"#FFFFFF\" points=\"614.34,128,620.34,132,626.34,128,620.34,124,614.34,128\" style=\"stroke: #383838; stroke-width: 1.0;\"/><text fill=\"#000000\" font-family=\"sans-serif\" font-size=\"13\" lengthAdjust=\"spacingAndGlyphs\" textLength=\"7\" x=\"645\" y=\"124.0669\">y</text></a><!--MD5=[23ac544a70576c3e717098101004234c]\n",
       "reverse link E9 to E10--><a href=\"psysml:bbec5841-3ffd-488b-b643-01adfe752a25\" target=\"_top\" title=\"psysml:bbec5841-3ffd-488b-b643-01adfe752a25\" xlink:actuate=\"onRequest\" xlink:href=\"psysml:bbec5841-3ffd-488b-b643-01adfe752a25\" xlink:show=\"new\" xlink:title=\"psysml:bbec5841-3ffd-488b-b643-01adfe752a25\" xlink:type=\"simple\"><path d=\"M114.48,202.1 C131.24,207.9 149.31,214.16 162.75,218.81 \" fill=\"none\" id=\"E9&lt;-E10\" style=\"stroke: #383838; stroke-width: 1.0;\"/><polygon fill=\"#FFFFFF\" points=\"102.03,197.78,106.3896,203.524,113.3686,201.7089,109.0089,195.9649,102.03,197.78\" style=\"stroke: #383838; stroke-width: 1.0;\"/><text fill=\"#000000\" font-family=\"sans-serif\" font-size=\"13\" lengthAdjust=\"spacingAndGlyphs\" textLength=\"8\" x=\"146.8641\" y=\"231.0017\">1</text></a><!--MD5=[feeac5eb423634930294aa81f2d25a4c]\n",
       "link E10 to E3--><a href=\"psysml:fb12afbf-9138-40ff-bf3b-75b81b096774\" target=\"_top\" title=\"psysml:fb12afbf-9138-40ff-bf3b-75b81b096774\" xlink:actuate=\"onRequest\" xlink:href=\"psysml:fb12afbf-9138-40ff-bf3b-75b81b096774\" xlink:show=\"new\" xlink:title=\"psysml:fb12afbf-9138-40ff-bf3b-75b81b096774\" xlink:type=\"simple\"><path d=\"M206.24,211.52 C218.94,202.65 235.78,190.89 251.76,179.73 \" fill=\"none\" id=\"E10-&gt;E3\" style=\"stroke: #383838; stroke-width: 1.0;\"/><polygon fill=\"#FFFFFF\" points=\"268.21,168.25,256.6501,184.8743,248.6276,173.4008,268.21,168.25\" style=\"stroke: #383838; stroke-width: 1.0;\"/><ellipse cx=\"250.8327\" cy=\"186.5015\" fill=\"#383838\" rx=\"2\" ry=\"2\" style=\"stroke: #383838; stroke-width: 1.0;\"/><ellipse cx=\"245.1024\" cy=\"178.3062\" fill=\"#383838\" rx=\"2\" ry=\"2\" style=\"stroke: #383838; stroke-width: 1.0;\"/></a><!--MD5=[1fc04a95fd77ad5ce46c1a3027516051]\n",
       "reverse link E9 to E11--><a href=\"psysml:20edee2c-da5c-4ff9-9cec-febcc5f58071\" target=\"_top\" title=\"psysml:20edee2c-da5c-4ff9-9cec-febcc5f58071\" xlink:actuate=\"onRequest\" xlink:href=\"psysml:20edee2c-da5c-4ff9-9cec-febcc5f58071\" xlink:show=\"new\" xlink:title=\"psysml:20edee2c-da5c-4ff9-9cec-febcc5f58071\" xlink:type=\"simple\"><path d=\"M114.48,169.5 C131.24,163.55 149.31,157.14 162.75,152.37 \" fill=\"none\" id=\"E9&lt;-E11\" style=\"stroke: #383838; stroke-width: 1.0;\"/><polygon fill=\"#FFFFFF\" points=\"102.03,173.92,109.0214,175.6865,113.341,169.9124,106.3496,168.1458,102.03,173.92\" style=\"stroke: #383838; stroke-width: 1.0;\"/><text fill=\"#000000\" font-family=\"sans-serif\" font-size=\"13\" lengthAdjust=\"spacingAndGlyphs\" textLength=\"8\" x=\"146.8641\" y=\"169.0207\">1</text></a><!--MD5=[0517f1ce58c4d5483948f93845c45e26]\n",
       "link E11 to E3--><a href=\"psysml:6098403c-f8e4-4c64-8bc6-7f6e4aceb826\" target=\"_top\" title=\"psysml:6098403c-f8e4-4c64-8bc6-7f6e4aceb826\" xlink:actuate=\"onRequest\" xlink:href=\"psysml:6098403c-f8e4-4c64-8bc6-7f6e4aceb826\" xlink:show=\"new\" xlink:title=\"psysml:6098403c-f8e4-4c64-8bc6-7f6e4aceb826\" xlink:type=\"simple\"><path d=\"M206.24,145 C217.53,145 232.1,145 246.43,145 \" fill=\"none\" id=\"E11-&gt;E3\" style=\"stroke: #383838; stroke-width: 1.0;\"/><polygon fill=\"#FFFFFF\" points=\"266.84,145,247.84,152,247.84,138,266.84,145\" style=\"stroke: #383838; stroke-width: 1.0;\"/><ellipse cx=\"242.14\" cy=\"150\" fill=\"#383838\" rx=\"2\" ry=\"2\" style=\"stroke: #383838; stroke-width: 1.0;\"/><ellipse cx=\"242.14\" cy=\"140\" fill=\"#383838\" rx=\"2\" ry=\"2\" style=\"stroke: #383838; stroke-width: 1.0;\"/></a><!--MD5=[aec27ce3fc82b32af87cb200b50463b7]\n",
       "@startuml\r\n",
       "left to right direction\r\n",
       "skinparam monochrome true\r\n",
       "skinparam classbackgroundcolor white\r\n",
       "skinparam shadowing false\r\n",
       "skinparam wrapWidth 300\r\n",
       "hide circle\r\n",
       "\r\n",
       "package \"ItemTest\" as E1  [[psysml:05177c11-5394-41b2-a0a0-71a4c06ed611 ]]  {\r\n",
       "comp usage \"f: A \" as E2  <<(T,blue) item>> [[psysml:9b37ce48-aa06-4adb-ba3b-3b1410731947 ]] {\r\n",
       "}\r\n",
       "comp def \"A\" as E3  <<(T,blue) item  def>> [[psysml:373f36dd-9125-4f4d-9beb-8d6cd21e1469 ]] {\r\n",
       "}\r\n",
       "comp usage \"b: B \" as E4  <<(T,blue) item>> [[psysml:130e11a2-3d5f-4cd9-b0cd-9225a7528360 ]] {\r\n",
       "}\r\n",
       "comp usage \"c: C \" as E5  <<(T,blue) part>> [[psysml:80ae9a50-ac1f-4423-b935-68d8f5716f01 ]] {\r\n",
       "}\r\n",
       "comp def \"<i>B</i>\" as E6  <<(T,blue) item  def>> [[psysml:7d838d86-0408-4401-9cbf-32b733f3993a ]] {\r\n",
       "}\r\n",
       "comp usage \"<i>a</i>: A \" as E7  <<(T,blue) part>> [[psysml:d06b8fcb-8cda-493c-875d-bdf01ed715df ]] {\r\n",
       "}\r\n",
       "comp def \"C\" as E8  <<(T,blue) part  def>> [[psysml:a2efb8df-7581-49ed-b24f-8030c12b0405 ]] {\r\n",
       "}\r\n",
       "comp def \"P\" as E9  <<(T,blue) port  def>> [[psysml:91f3ce36-c57b-44eb-a625-32b1f3011842 ]] {\r\n",
       "}\r\n",
       "comp usage \"a1: A \" as E10  <<(T,blue) item>> [[psysml:5a8db81a-c733-4c6f-be90-4f9ffe214caa ]] {\r\n",
       "}\r\n",
       "comp usage \"a2: A \" as E11  <<(T,blue) item>> [[psysml:50797105-d3dc-4af6-be0e-986a23cb6cc7 ]] {\r\n",
       "}\r\n",
       "}\r\n",
       "E2 - -:|> E3 [[psysml:2d349f36-3ef3-481f-a80c-9f5be02d82e3 ]] \r\n",
       "E3 *- - \"1\"E4 [[psysml:1fc0b9c6-f917-494b-8539-e8a30a151a21 ]] \r\n",
       "E3 o- - \"1\"E5 [[psysml:1188b8bd-fcbe-4041-bfa3-3c6757b772de ]] \r\n",
       "E4 - -:|> E6 [[psysml:b444802f-fd06-4322-964d-2bd41504258e ]] \r\n",
       "E6 *- - \"1\"E7 [[psysml:fe8fc95e-22bb-46d1-b0fd-61d73c45474f ]] \r\n",
       "E7 - -:|> E3 [[psysml:599ea15b-bb0f-4f03-a502-f2e1a3a71e91 ]] \r\n",
       "E5 - -:|> E8 [[psysml:ebb03462-10dd-4a39-86ac-c1648f226bb6 ]] \r\n",
       "E8 o- - E3 [[psysml:4ca20137-091c-4af4-8b05-aa2379f8c92e ]] : y\r\n",
       "E8 o- - E6 [[psysml:4ca20137-091c-4af4-8b05-aa2379f8c92e ]] : y\r\n",
       "E9 o- - \"1\"E10 [[psysml:bbec5841-3ffd-488b-b643-01adfe752a25 ]] \r\n",
       "E10 - -:|> E3 [[psysml:fb12afbf-9138-40ff-bf3b-75b81b096774 ]] \r\n",
       "E9 o- - \"1\"E11 [[psysml:20edee2c-da5c-4ff9-9cec-febcc5f58071 ]] \r\n",
       "E11 - -:|> E3 [[psysml:6098403c-f8e4-4c64-8bc6-7f6e4aceb826 ]] \r\n",
       "@enduml\r\n",
       "\n",
       "PlantUML version 1.2020.13(Sat Jun 13 12:26:38 UTC 2020)\n",
       "(EPL source distribution)\n",
       "Java Runtime: OpenJDK Runtime Environment\n",
       "JVM: OpenJDK 64-Bit Server VM\n",
       "Default Encoding: UTF-8\n",
       "Language: en\n",
       "Country: null\n",
       "--></g></svg>"
      ]
     },
     "execution_count": 17,
     "metadata": {},
     "output_type": "execute_result"
    }
   ],
   "source": [
    "%viz --style=\"LR\" --view=\"Tree\" \"ItemTest\""
   ]
  },
  {
   "cell_type": "code",
   "execution_count": 18,
   "id": "ed5da838",
   "metadata": {
    "execution": {
     "iopub.execute_input": "2022-04-22T09:48:24.273709Z",
     "iopub.status.busy": "2022-04-22T09:48:24.273302Z",
     "iopub.status.idle": "2022-04-22T09:48:24.278030Z",
     "shell.execute_reply": "2022-04-22T09:48:24.278273Z"
    }
   },
   "outputs": [
    {
     "data": {
      "image/svg+xml": [
       "<?xml version=\"1.0\" encoding=\"UTF-8\" standalone=\"no\"?><svg xmlns=\"http://www.w3.org/2000/svg\" xmlns:xlink=\"http://www.w3.org/1999/xlink\" contentScriptType=\"application/ecmascript\" contentStyleType=\"text/css\" height=\"12px\" preserveAspectRatio=\"none\" style=\"width:12px;height:12px;\" version=\"1.1\" viewBox=\"0 0 12 12\" width=\"12px\" zoomAndPan=\"magnify\"><defs/><g><!--MD5=[19d285c9d72a204eba4e2cd117d745e8]\n",
       "@startuml\r\n",
       "left to right direction\r\n",
       "skinparam monochrome true\r\n",
       "skinparam classbackgroundcolor white\r\n",
       "skinparam shadowing false\r\n",
       "skinparam wrapWidth 300\r\n",
       "hide circle\r\n",
       "\r\n",
       "@enduml\r\n",
       "\n",
       "PlantUML version 1.2020.13(Sat Jun 13 12:26:38 UTC 2020)\n",
       "(EPL source distribution)\n",
       "Java Runtime: OpenJDK Runtime Environment\n",
       "JVM: OpenJDK 64-Bit Server VM\n",
       "Default Encoding: UTF-8\n",
       "Language: en\n",
       "Country: null\n",
       "--></g></svg>"
      ]
     },
     "execution_count": 18,
     "metadata": {},
     "output_type": "execute_result"
    }
   ],
   "source": [
    "%viz --style=\"LR\" --view=\"State\" \"ItemTest\""
   ]
  },
  {
   "cell_type": "code",
   "execution_count": 19,
   "id": "44b6e4a6",
   "metadata": {
    "execution": {
     "iopub.execute_input": "2022-04-22T09:48:24.328769Z",
     "iopub.status.busy": "2022-04-22T09:48:24.328458Z",
     "iopub.status.idle": "2022-04-22T09:48:24.358249Z",
     "shell.execute_reply": "2022-04-22T09:48:24.358395Z"
    }
   },
   "outputs": [
    {
     "data": {
      "image/svg+xml": [
       "<?xml version=\"1.0\" encoding=\"UTF-8\" standalone=\"no\"?><svg xmlns=\"http://www.w3.org/2000/svg\" xmlns:xlink=\"http://www.w3.org/1999/xlink\" contentScriptType=\"application/ecmascript\" contentStyleType=\"text/css\" height=\"345px\" preserveAspectRatio=\"none\" style=\"width:269px;height:345px;\" version=\"1.1\" viewBox=\"0 0 269 345\" width=\"269px\" zoomAndPan=\"magnify\"><defs/><g><!--MD5=[fbc87193dbaf4d95561dea2c320d4a47]\n",
       "cluster E1--><a href=\"psysml:05177c11-5394-41b2-a0a0-71a4c06ed611\" target=\"_top\" title=\"psysml:05177c11-5394-41b2-a0a0-71a4c06ed611\" xlink:actuate=\"onRequest\" xlink:href=\"psysml:05177c11-5394-41b2-a0a0-71a4c06ed611\" xlink:show=\"new\" xlink:title=\"psysml:05177c11-5394-41b2-a0a0-71a4c06ed611\" xlink:type=\"simple\"><polygon fill=\"#FFFFFF\" points=\"16,6,83,6,90,28.2969,247,28.2969,247,333,16,333,16,6\" style=\"stroke: #000000; stroke-width: 1.5;\"/><line style=\"stroke: #000000; stroke-width: 1.5;\" x1=\"16\" x2=\"90\" y1=\"28.2969\" y2=\"28.2969\"/><text fill=\"#000000\" font-family=\"sans-serif\" font-size=\"14\" font-weight=\"bold\" lengthAdjust=\"spacingAndGlyphs\" textLength=\"61\" x=\"20\" y=\"20.9951\">ItemTest</text></a><!--MD5=[de5ec2e2e8f62f467e546659f5068c88]\n",
       "cluster E5--><a href=\"psysml:a2efb8df-7581-49ed-b24f-8030c12b0405\" target=\"_top\" title=\"psysml:a2efb8df-7581-49ed-b24f-8030c12b0405\" xlink:actuate=\"onRequest\" xlink:href=\"psysml:a2efb8df-7581-49ed-b24f-8030c12b0405\" xlink:show=\"new\" xlink:title=\"psysml:a2efb8df-7581-49ed-b24f-8030c12b0405\" xlink:type=\"simple\"><rect fill=\"#FFFFFF\" height=\"68\" id=\"E5\" style=\"stroke: #383838; stroke-width: 1.5;\" width=\"161\" x=\"70\" y=\"41\"/><rect fill=\"#F8F8F8\" height=\"37.9375\" style=\"stroke: #383838; stroke-width: 1.5;\" width=\"161\" x=\"70\" y=\"41\"/><text fill=\"#000000\" font-family=\"sans-serif\" font-size=\"12\" font-style=\"italic\" lengthAdjust=\"spacingAndGlyphs\" textLength=\"68\" x=\"116.5\" y=\"57.1387\">«part  def»</text><text fill=\"#000000\" font-family=\"sans-serif\" font-size=\"12\" lengthAdjust=\"spacingAndGlyphs\" textLength=\"8\" x=\"146.5\" y=\"71.1074\">C</text></a><g id=\"E1.E3\"><a href=\"psysml:373f36dd-9125-4f4d-9beb-8d6cd21e1469\" target=\"_top\" title=\"psysml:373f36dd-9125-4f4d-9beb-8d6cd21e1469\" xlink:actuate=\"onRequest\" xlink:href=\"psysml:373f36dd-9125-4f4d-9beb-8d6cd21e1469\" xlink:show=\"new\" xlink:title=\"psysml:373f36dd-9125-4f4d-9beb-8d6cd21e1469\" xlink:type=\"simple\"><rect fill=\"#FFFFFF\" height=\"42.9375\" id=\"E3\" style=\"stroke: #383838; stroke-width: 1.5;\" width=\"76\" x=\"131.5\" y=\"273.5\"/><rect fill=\"#F8F8F8\" height=\"37.9375\" style=\"stroke: #383838; stroke-width: 1.5;\" width=\"76\" x=\"131.5\" y=\"273.5\"/><text fill=\"#000000\" font-family=\"sans-serif\" font-size=\"12\" font-style=\"italic\" lengthAdjust=\"spacingAndGlyphs\" textLength=\"69\" x=\"135\" y=\"289.6387\">«item  def»</text><text fill=\"#000000\" font-family=\"sans-serif\" font-size=\"12\" lengthAdjust=\"spacingAndGlyphs\" textLength=\"8\" x=\"165.5\" y=\"303.6074\">A</text></a></g><g id=\"E1.E4\"><a href=\"psysml:7d838d86-0408-4401-9cbf-32b733f3993a\" target=\"_top\" title=\"psysml:7d838d86-0408-4401-9cbf-32b733f3993a\" xlink:actuate=\"onRequest\" xlink:href=\"psysml:7d838d86-0408-4401-9cbf-32b733f3993a\" xlink:show=\"new\" xlink:title=\"psysml:7d838d86-0408-4401-9cbf-32b733f3993a\" xlink:type=\"simple\"><rect fill=\"#FFFFFF\" height=\"42.9375\" id=\"E4\" style=\"stroke: #383838; stroke-width: 1.5;\" width=\"76\" x=\"32\" y=\"117.5\"/><rect fill=\"#F8F8F8\" height=\"37.9375\" style=\"stroke: #383838; stroke-width: 1.5;\" width=\"76\" x=\"32\" y=\"117.5\"/><text fill=\"#000000\" font-family=\"sans-serif\" font-size=\"12\" font-style=\"italic\" lengthAdjust=\"spacingAndGlyphs\" textLength=\"69\" x=\"35.5\" y=\"133.6387\">«item  def»</text><text fill=\"#000000\" font-family=\"sans-serif\" font-size=\"12\" font-style=\"italic\" lengthAdjust=\"spacingAndGlyphs\" textLength=\"8\" x=\"66\" y=\"147.6074\">B</text></a></g><g id=\"E1.E7\"><a href=\"psysml:91f3ce36-c57b-44eb-a625-32b1f3011842\" target=\"_top\" title=\"psysml:91f3ce36-c57b-44eb-a625-32b1f3011842\" xlink:actuate=\"onRequest\" xlink:href=\"psysml:91f3ce36-c57b-44eb-a625-32b1f3011842\" xlink:show=\"new\" xlink:title=\"psysml:91f3ce36-c57b-44eb-a625-32b1f3011842\" xlink:type=\"simple\"><rect fill=\"#FFFFFF\" height=\"42.9375\" id=\"E7\" style=\"stroke: #383838; stroke-width: 1.5;\" width=\"75\" x=\"32.5\" y=\"195.5\"/><rect fill=\"#F8F8F8\" height=\"37.9375\" style=\"stroke: #383838; stroke-width: 1.5;\" width=\"75\" x=\"32.5\" y=\"195.5\"/><text fill=\"#000000\" font-family=\"sans-serif\" font-size=\"12\" font-style=\"italic\" lengthAdjust=\"spacingAndGlyphs\" textLength=\"68\" x=\"36\" y=\"211.6387\">«port  def»</text><text fill=\"#000000\" font-family=\"sans-serif\" font-size=\"12\" lengthAdjust=\"spacingAndGlyphs\" textLength=\"8\" x=\"66\" y=\"225.6074\">P</text></a></g><g id=\"E1.E2\"><a href=\"psysml:9b37ce48-aa06-4adb-ba3b-3b1410731947\" target=\"_top\" title=\"psysml:9b37ce48-aa06-4adb-ba3b-3b1410731947\" xlink:actuate=\"onRequest\" xlink:href=\"psysml:9b37ce48-aa06-4adb-ba3b-3b1410731947\" xlink:show=\"new\" xlink:title=\"psysml:9b37ce48-aa06-4adb-ba3b-3b1410731947\" xlink:type=\"simple\"><rect fill=\"#FFFFFF\" height=\"42.9375\" id=\"E2\" rx=\"10\" ry=\"10\" style=\"stroke: #383838; stroke-width: 1.5;\" width=\"50\" x=\"45\" y=\"273.5\"/><rect fill=\"#F8F8F8\" height=\"37.9375\" rx=\"10\" ry=\"10\" style=\"stroke: #F8F8F8; stroke-width: 1.5;\" width=\"50\" x=\"45\" y=\"273.5\"/><rect fill=\"#F8F8F8\" height=\"10\" style=\"stroke: #F8F8F8; stroke-width: 1.5;\" width=\"50\" x=\"45\" y=\"301.4375\"/><rect fill=\"none\" height=\"42.9375\" id=\"E2\" rx=\"10\" ry=\"10\" style=\"stroke: #383838; stroke-width: 1.5;\" width=\"50\" x=\"45\" y=\"273.5\"/><text fill=\"#000000\" font-family=\"sans-serif\" font-size=\"12\" font-style=\"italic\" lengthAdjust=\"spacingAndGlyphs\" textLength=\"41\" x=\"49.5\" y=\"289.6387\">«item»</text><text fill=\"#000000\" font-family=\"sans-serif\" font-size=\"12\" lengthAdjust=\"spacingAndGlyphs\" textLength=\"20\" x=\"60\" y=\"303.6074\">f: A</text></a></g><text fill=\"#000000\" font-family=\"sans-serif\" font-size=\"14\" lengthAdjust=\"spacingAndGlyphs\" textLength=\"43\" x=\"46.5\" y=\"53.6982\">y: A, B</text><rect fill=\"#383838\" height=\"12\" style=\"stroke: #F8F8F8; stroke-width: 1.5;\" width=\"12\" x=\"64\" y=\"69\"/><!--MD5=[2720a5a1f2c3fca2055b230370638851]\n",
       "link E2 to E3--><a href=\"psysml:2d349f36-3ef3-481f-a80c-9f5be02d82e3\" target=\"_top\" title=\"psysml:2d349f36-3ef3-481f-a80c-9f5be02d82e3\" xlink:actuate=\"onRequest\" xlink:href=\"psysml:2d349f36-3ef3-481f-a80c-9f5be02d82e3\" xlink:show=\"new\" xlink:title=\"psysml:2d349f36-3ef3-481f-a80c-9f5be02d82e3\" xlink:type=\"simple\"><path d=\"M95.1,295 C100.14,295 105.66,295 111.34,295 \" fill=\"none\" id=\"E2-&gt;E3\" style=\"stroke: #383838; stroke-width: 1.0;\"/><polygon fill=\"#FFFFFF\" points=\"131.39,295,112.39,302,112.39,288,131.39,295\" style=\"stroke: #383838; stroke-width: 1.0;\"/><ellipse cx=\"106.69\" cy=\"300\" fill=\"#383838\" rx=\"2\" ry=\"2\" style=\"stroke: #383838; stroke-width: 1.0;\"/><ellipse cx=\"106.69\" cy=\"290\" fill=\"#383838\" rx=\"2\" ry=\"2\" style=\"stroke: #383838; stroke-width: 1.0;\"/></a><!--MD5=[e82a6bbcdc5c1fe43c63e6c78bb906bd]\n",
       "@startuml\r\n",
       "skinparam ranksep 10\r\n",
       "skinparam rectangle {\r\n",
       " backgroundColor<<block>> LightGreen\r\n",
       "}\r\n",
       "left to right direction\r\n",
       "skinparam monochrome true\r\n",
       "skinparam classbackgroundcolor white\r\n",
       "skinparam shadowing false\r\n",
       "skinparam wrapWidth 300\r\n",
       "hide circle\r\n",
       "\r\n",
       "package \"ItemTest\" as E1  [[psysml:05177c11-5394-41b2-a0a0-71a4c06ed611 ]]  {\r\n",
       "rec usage \"f: A\" as E2  <<(T,blue) item>> [[psysml:9b37ce48-aa06-4adb-ba3b-3b1410731947 ]] {\r\n",
       "}\r\n",
       "def \"A\" as E3  <<(T,blue) item  def>> [[psysml:373f36dd-9125-4f4d-9beb-8d6cd21e1469 ]] \r\n",
       "def \"<i>B</i>\" as E4  <<(T,blue) item  def>> [[psysml:7d838d86-0408-4401-9cbf-32b733f3993a ]] \r\n",
       "rec def \"C\" as E5  <<(T,blue) part  def>> [[psysml:a2efb8df-7581-49ed-b24f-8030c12b0405 ]] {\r\n",
       "portin \"y: A, B \" as E6  <<(T,blue) reference>> [[psysml:4ca20137-091c-4af4-8b05-aa2379f8c92e ]] \r\n",
       "}\r\n",
       "def \"P\" as E7  <<(T,blue) port  def>> [[psysml:91f3ce36-c57b-44eb-a625-32b1f3011842 ]] \r\n",
       "}\r\n",
       "E2 - -:|> E3 [[psysml:2d349f36-3ef3-481f-a80c-9f5be02d82e3 ]] \r\n",
       "@enduml\r\n",
       "\n",
       "PlantUML version 1.2020.13(Sat Jun 13 12:26:38 UTC 2020)\n",
       "(EPL source distribution)\n",
       "Java Runtime: OpenJDK Runtime Environment\n",
       "JVM: OpenJDK 64-Bit Server VM\n",
       "Default Encoding: UTF-8\n",
       "Language: en\n",
       "Country: null\n",
       "--></g></svg>"
      ]
     },
     "execution_count": 19,
     "metadata": {},
     "output_type": "execute_result"
    }
   ],
   "source": [
    "%viz --style=\"LR\" --view=\"Interconnection\" \"ItemTest\""
   ]
  },
  {
   "cell_type": "code",
   "execution_count": 20,
   "id": "a8c34a6d",
   "metadata": {
    "execution": {
     "iopub.execute_input": "2022-04-22T09:48:24.408638Z",
     "iopub.status.busy": "2022-04-22T09:48:24.408389Z",
     "iopub.status.idle": "2022-04-22T09:48:24.413320Z",
     "shell.execute_reply": "2022-04-22T09:48:24.413472Z"
    }
   },
   "outputs": [
    {
     "data": {
      "image/svg+xml": [
       "<?xml version=\"1.0\" encoding=\"UTF-8\" standalone=\"no\"?><svg xmlns=\"http://www.w3.org/2000/svg\" xmlns:xlink=\"http://www.w3.org/1999/xlink\" contentScriptType=\"application/ecmascript\" contentStyleType=\"text/css\" height=\"12px\" preserveAspectRatio=\"none\" style=\"width:12px;height:12px;\" version=\"1.1\" viewBox=\"0 0 12 12\" width=\"12px\" zoomAndPan=\"magnify\"><defs/><g><!--MD5=[7aeb398939421629f6affaa4a1a7b125]\n",
       "@startuml\r\n",
       "skinparam ranksep 8\r\n",
       "left to right direction\r\n",
       "skinparam monochrome true\r\n",
       "skinparam classbackgroundcolor white\r\n",
       "skinparam shadowing false\r\n",
       "skinparam wrapWidth 300\r\n",
       "hide circle\r\n",
       "\r\n",
       "@enduml\r\n",
       "\n",
       "PlantUML version 1.2020.13(Sat Jun 13 12:26:38 UTC 2020)\n",
       "(EPL source distribution)\n",
       "Java Runtime: OpenJDK Runtime Environment\n",
       "JVM: OpenJDK 64-Bit Server VM\n",
       "Default Encoding: UTF-8\n",
       "Language: en\n",
       "Country: null\n",
       "--></g></svg>"
      ]
     },
     "execution_count": 20,
     "metadata": {},
     "output_type": "execute_result"
    }
   ],
   "source": [
    "%viz --style=\"LR\" --view=\"Action\" \"ItemTest\""
   ]
  },
  {
   "cell_type": "code",
   "execution_count": 21,
   "id": "0befe119",
   "metadata": {
    "execution": {
     "iopub.execute_input": "2022-04-22T09:48:24.464246Z",
     "iopub.status.busy": "2022-04-22T09:48:24.463934Z",
     "iopub.status.idle": "2022-04-22T09:48:24.469455Z",
     "shell.execute_reply": "2022-04-22T09:48:24.469128Z"
    }
   },
   "outputs": [
    {
     "data": {
      "image/svg+xml": [
       "<?xml version=\"1.0\" encoding=\"UTF-8\" standalone=\"no\"?><svg xmlns=\"http://www.w3.org/2000/svg\" xmlns:xlink=\"http://www.w3.org/1999/xlink\" contentScriptType=\"application/ecmascript\" contentStyleType=\"text/css\" height=\"12px\" preserveAspectRatio=\"none\" style=\"width:12px;height:12px;\" version=\"1.1\" viewBox=\"0 0 12 12\" width=\"12px\" zoomAndPan=\"magnify\"><defs/><g><!--MD5=[238c11ea2002f03115ad6b49a457d50e]\n",
       "@startuml\r\n",
       "skinparam roundcorner 20\r\n",
       "skinparam BoxPadding 20\r\n",
       "skinparam SequenceBoxBackgroundColor #white\r\n",
       "skinparam style strictuml\r\n",
       "skinparam maxMessageSize 100\r\n",
       "left to right direction\r\n",
       "skinparam monochrome true\r\n",
       "skinparam classbackgroundcolor white\r\n",
       "skinparam shadowing false\r\n",
       "skinparam wrapWidth 300\r\n",
       "hide circle\r\n",
       "\r\n",
       "@enduml\r\n",
       "\n",
       "PlantUML version 1.2020.13(Sat Jun 13 12:26:38 UTC 2020)\n",
       "(EPL source distribution)\n",
       "Java Runtime: OpenJDK Runtime Environment\n",
       "JVM: OpenJDK 64-Bit Server VM\n",
       "Default Encoding: UTF-8\n",
       "Language: en\n",
       "Country: null\n",
       "--></g></svg>"
      ]
     },
     "execution_count": 21,
     "metadata": {},
     "output_type": "execute_result"
    }
   ],
   "source": [
    "%viz --style=\"LR\" --view=\"Sequence\" \"ItemTest\""
   ]
  },
  {
   "cell_type": "code",
   "execution_count": 22,
   "id": "90bc2106",
   "metadata": {
    "execution": {
     "iopub.execute_input": "2022-04-22T09:48:24.519582Z",
     "iopub.status.busy": "2022-04-22T09:48:24.519181Z",
     "iopub.status.idle": "2022-04-22T09:48:24.571302Z",
     "shell.execute_reply": "2022-04-22T09:48:24.571457Z"
    }
   },
   "outputs": [
    {
     "data": {
      "image/svg+xml": [
       "<?xml version=\"1.0\" encoding=\"UTF-8\" standalone=\"no\"?><svg xmlns=\"http://www.w3.org/2000/svg\" xmlns:xlink=\"http://www.w3.org/1999/xlink\" contentScriptType=\"application/ecmascript\" contentStyleType=\"text/css\" height=\"277px\" preserveAspectRatio=\"none\" style=\"width:895px;height:277px;\" version=\"1.1\" viewBox=\"0 0 895 277\" width=\"895px\" zoomAndPan=\"magnify\"><defs/><g><!--MD5=[fbc87193dbaf4d95561dea2c320d4a47]\n",
       "cluster E1--><a href=\"psysml:05177c11-5394-41b2-a0a0-71a4c06ed611\" target=\"_top\" title=\"psysml:05177c11-5394-41b2-a0a0-71a4c06ed611\" xlink:actuate=\"onRequest\" xlink:href=\"psysml:05177c11-5394-41b2-a0a0-71a4c06ed611\" xlink:show=\"new\" xlink:title=\"psysml:05177c11-5394-41b2-a0a0-71a4c06ed611\" xlink:type=\"simple\"><polygon fill=\"#FFFFFF\" points=\"16,6,83,6,90,28.2969,873,28.2969,873,265,16,265,16,6\" style=\"stroke: #000000; stroke-width: 1.5;\"/><line style=\"stroke: #000000; stroke-width: 1.5;\" x1=\"16\" x2=\"90\" y1=\"28.2969\" y2=\"28.2969\"/><text fill=\"#000000\" font-family=\"sans-serif\" font-size=\"14\" font-weight=\"bold\" lengthAdjust=\"spacingAndGlyphs\" textLength=\"61\" x=\"20\" y=\"20.9951\">ItemTest</text></a><!--MD5=[b4997ac47864f28c2f74865a473b2911]\n",
       "class E2--><a href=\"psysml:9b37ce48-aa06-4adb-ba3b-3b1410731947\" target=\"_top\" title=\"psysml:9b37ce48-aa06-4adb-ba3b-3b1410731947\" xlink:actuate=\"onRequest\" xlink:href=\"psysml:9b37ce48-aa06-4adb-ba3b-3b1410731947\" xlink:show=\"new\" xlink:title=\"psysml:9b37ce48-aa06-4adb-ba3b-3b1410731947\" xlink:type=\"simple\"><rect fill=\"#FFFFFF\" height=\"45.9375\" id=\"E2\" rx=\"10\" ry=\"10\" style=\"stroke: #383838; stroke-width: 1.5;\" width=\"43\" x=\"163\" y=\"41\"/><text fill=\"#000000\" font-family=\"sans-serif\" font-size=\"12\" font-style=\"italic\" lengthAdjust=\"spacingAndGlyphs\" textLength=\"41\" x=\"164\" y=\"57.1387\">«item»</text><text fill=\"#000000\" font-family=\"sans-serif\" font-size=\"12\" lengthAdjust=\"spacingAndGlyphs\" textLength=\"20\" x=\"172.5\" y=\"71.1074\">f: A</text><line style=\"stroke: #383838; stroke-width: 1.5;\" x1=\"164\" x2=\"205\" y1=\"78.9375\" y2=\"78.9375\"/></a><!--MD5=[09b614a08d8cba4a07c9adeb5e0fee81]\n",
       "class E3--><a href=\"psysml:373f36dd-9125-4f4d-9beb-8d6cd21e1469\" target=\"_top\" title=\"psysml:373f36dd-9125-4f4d-9beb-8d6cd21e1469\" xlink:actuate=\"onRequest\" xlink:href=\"psysml:373f36dd-9125-4f4d-9beb-8d6cd21e1469\" xlink:show=\"new\" xlink:title=\"psysml:373f36dd-9125-4f4d-9beb-8d6cd21e1469\" xlink:type=\"simple\"><rect fill=\"#FFFFFF\" height=\"45.9375\" id=\"E3\" style=\"stroke: #383838; stroke-width: 1.5;\" width=\"71\" x=\"267\" y=\"122\"/><text fill=\"#000000\" font-family=\"sans-serif\" font-size=\"12\" font-style=\"italic\" lengthAdjust=\"spacingAndGlyphs\" textLength=\"69\" x=\"268\" y=\"138.1387\">«item  def»</text><text fill=\"#000000\" font-family=\"sans-serif\" font-size=\"12\" lengthAdjust=\"spacingAndGlyphs\" textLength=\"8\" x=\"298.5\" y=\"152.1074\">A</text><line style=\"stroke: #383838; stroke-width: 1.5;\" x1=\"268\" x2=\"337\" y1=\"159.9375\" y2=\"159.9375\"/></a><!--MD5=[ebbe1d658d1005bcc118a6aa81145e00]\n",
       "class E4--><a href=\"psysml:130e11a2-3d5f-4cd9-b0cd-9225a7528360\" target=\"_top\" title=\"psysml:130e11a2-3d5f-4cd9-b0cd-9225a7528360\" xlink:actuate=\"onRequest\" xlink:href=\"psysml:130e11a2-3d5f-4cd9-b0cd-9225a7528360\" xlink:show=\"new\" xlink:title=\"psysml:130e11a2-3d5f-4cd9-b0cd-9225a7528360\" xlink:type=\"simple\"><rect fill=\"#FFFFFF\" height=\"45.9375\" id=\"E4\" rx=\"10\" ry=\"10\" style=\"stroke: #383838; stroke-width: 1.5;\" width=\"43\" x=\"471\" y=\"192\"/><text fill=\"#000000\" font-family=\"sans-serif\" font-size=\"12\" font-style=\"italic\" lengthAdjust=\"spacingAndGlyphs\" textLength=\"41\" x=\"472\" y=\"208.1387\">«item»</text><text fill=\"#000000\" font-family=\"sans-serif\" font-size=\"12\" lengthAdjust=\"spacingAndGlyphs\" textLength=\"24\" x=\"478.5\" y=\"222.1074\">b: B</text><line style=\"stroke: #383838; stroke-width: 1.5;\" x1=\"472\" x2=\"513\" y1=\"229.9375\" y2=\"229.9375\"/></a><!--MD5=[270fce915f116d4de14055a7c1d9a0f3]\n",
       "class E5--><a href=\"psysml:80ae9a50-ac1f-4423-b935-68d8f5716f01\" target=\"_top\" title=\"psysml:80ae9a50-ac1f-4423-b935-68d8f5716f01\" xlink:actuate=\"onRequest\" xlink:href=\"psysml:80ae9a50-ac1f-4423-b935-68d8f5716f01\" xlink:show=\"new\" xlink:title=\"psysml:80ae9a50-ac1f-4423-b935-68d8f5716f01\" xlink:type=\"simple\"><rect fill=\"#FFFFFF\" height=\"45.9375\" id=\"E5\" rx=\"10\" ry=\"10\" style=\"stroke: #383838; stroke-width: 1.5;\" width=\"42\" x=\"399\" y=\"78\"/><text fill=\"#000000\" font-family=\"sans-serif\" font-size=\"12\" font-style=\"italic\" lengthAdjust=\"spacingAndGlyphs\" textLength=\"40\" x=\"400\" y=\"94.1387\">«part»</text><text fill=\"#000000\" font-family=\"sans-serif\" font-size=\"12\" lengthAdjust=\"spacingAndGlyphs\" textLength=\"23\" x=\"406.5\" y=\"108.1074\">c: C</text><line style=\"stroke: #383838; stroke-width: 1.5;\" x1=\"400\" x2=\"440\" y1=\"115.9375\" y2=\"115.9375\"/></a><!--MD5=[60a26617385b1d2d0262a64233df1f8d]\n",
       "class E6--><a href=\"psysml:7d838d86-0408-4401-9cbf-32b733f3993a\" target=\"_top\" title=\"psysml:7d838d86-0408-4401-9cbf-32b733f3993a\" xlink:actuate=\"onRequest\" xlink:href=\"psysml:7d838d86-0408-4401-9cbf-32b733f3993a\" xlink:show=\"new\" xlink:title=\"psysml:7d838d86-0408-4401-9cbf-32b733f3993a\" xlink:type=\"simple\"><rect fill=\"#FFFFFF\" height=\"45.9375\" id=\"E6\" style=\"stroke: #383838; stroke-width: 1.5;\" width=\"71\" x=\"683\" y=\"105\"/><text fill=\"#000000\" font-family=\"sans-serif\" font-size=\"12\" font-style=\"italic\" lengthAdjust=\"spacingAndGlyphs\" textLength=\"69\" x=\"684\" y=\"121.1387\">«item  def»</text><text fill=\"#000000\" font-family=\"sans-serif\" font-size=\"12\" font-style=\"italic\" lengthAdjust=\"spacingAndGlyphs\" textLength=\"8\" x=\"714.5\" y=\"135.1074\">B</text><line style=\"stroke: #383838; stroke-width: 1.5;\" x1=\"684\" x2=\"753\" y1=\"142.9375\" y2=\"142.9375\"/></a><!--MD5=[2156ba9850f5573cc1fc38a6a4b2f02b]\n",
       "class E7--><a href=\"psysml:d06b8fcb-8cda-493c-875d-bdf01ed715df\" target=\"_top\" title=\"psysml:d06b8fcb-8cda-493c-875d-bdf01ed715df\" xlink:actuate=\"onRequest\" xlink:href=\"psysml:d06b8fcb-8cda-493c-875d-bdf01ed715df\" xlink:show=\"new\" xlink:title=\"psysml:d06b8fcb-8cda-493c-875d-bdf01ed715df\" xlink:type=\"simple\"><rect fill=\"#FFFFFF\" height=\"45.9375\" id=\"E7\" rx=\"10\" ry=\"10\" style=\"stroke: #383838; stroke-width: 1.5;\" width=\"42\" x=\"815\" y=\"73\"/><text fill=\"#000000\" font-family=\"sans-serif\" font-size=\"12\" font-style=\"italic\" lengthAdjust=\"spacingAndGlyphs\" textLength=\"40\" x=\"816\" y=\"89.1387\">«part»</text><text fill=\"#000000\" font-family=\"sans-serif\" font-size=\"12\" font-style=\"italic\" lengthAdjust=\"spacingAndGlyphs\" textLength=\"8\" x=\"822\" y=\"103.1074\">a</text><text fill=\"#000000\" font-family=\"sans-serif\" font-size=\"12\" lengthAdjust=\"spacingAndGlyphs\" textLength=\"16\" x=\"830\" y=\"103.1074\">: A</text><line style=\"stroke: #383838; stroke-width: 1.5;\" x1=\"816\" x2=\"856\" y1=\"110.9375\" y2=\"110.9375\"/></a><!--MD5=[b9389687b975829384b498ac4b7476b2]\n",
       "class E8--><a href=\"psysml:a2efb8df-7581-49ed-b24f-8030c12b0405\" target=\"_top\" title=\"psysml:a2efb8df-7581-49ed-b24f-8030c12b0405\" xlink:actuate=\"onRequest\" xlink:href=\"psysml:a2efb8df-7581-49ed-b24f-8030c12b0405\" xlink:show=\"new\" xlink:title=\"psysml:a2efb8df-7581-49ed-b24f-8030c12b0405\" xlink:type=\"simple\"><rect fill=\"#FFFFFF\" height=\"45.9375\" id=\"E8\" style=\"stroke: #383838; stroke-width: 1.5;\" width=\"70\" x=\"544\" y=\"105\"/><text fill=\"#000000\" font-family=\"sans-serif\" font-size=\"12\" font-style=\"italic\" lengthAdjust=\"spacingAndGlyphs\" textLength=\"68\" x=\"545\" y=\"121.1387\">«part  def»</text><text fill=\"#000000\" font-family=\"sans-serif\" font-size=\"12\" lengthAdjust=\"spacingAndGlyphs\" textLength=\"8\" x=\"575\" y=\"135.1074\">C</text><line style=\"stroke: #383838; stroke-width: 1.5;\" x1=\"545\" x2=\"613\" y1=\"142.9375\" y2=\"142.9375\"/></a><!--MD5=[fd4143e9d270a159db93a4ea2a975926]\n",
       "class E9--><a href=\"psysml:91f3ce36-c57b-44eb-a625-32b1f3011842\" target=\"_top\" title=\"psysml:91f3ce36-c57b-44eb-a625-32b1f3011842\" xlink:actuate=\"onRequest\" xlink:href=\"psysml:91f3ce36-c57b-44eb-a625-32b1f3011842\" xlink:show=\"new\" xlink:title=\"psysml:91f3ce36-c57b-44eb-a625-32b1f3011842\" xlink:type=\"simple\"><rect fill=\"#FFFFFF\" height=\"45.9375\" id=\"E9\" style=\"stroke: #383838; stroke-width: 1.5;\" width=\"70\" x=\"32\" y=\"163\"/><text fill=\"#000000\" font-family=\"sans-serif\" font-size=\"12\" font-style=\"italic\" lengthAdjust=\"spacingAndGlyphs\" textLength=\"68\" x=\"33\" y=\"179.1387\">«port  def»</text><text fill=\"#000000\" font-family=\"sans-serif\" font-size=\"12\" lengthAdjust=\"spacingAndGlyphs\" textLength=\"8\" x=\"63\" y=\"193.1074\">P</text><line style=\"stroke: #383838; stroke-width: 1.5;\" x1=\"33\" x2=\"101\" y1=\"200.9375\" y2=\"200.9375\"/></a><!--MD5=[96f4274e9e20536e775497830990834d]\n",
       "class E10--><a href=\"psysml:5a8db81a-c733-4c6f-be90-4f9ffe214caa\" target=\"_top\" title=\"psysml:5a8db81a-c733-4c6f-be90-4f9ffe214caa\" xlink:actuate=\"onRequest\" xlink:href=\"psysml:5a8db81a-c733-4c6f-be90-4f9ffe214caa\" xlink:show=\"new\" xlink:title=\"psysml:5a8db81a-c733-4c6f-be90-4f9ffe214caa\" xlink:type=\"simple\"><rect fill=\"#FFFFFF\" height=\"45.9375\" id=\"E10\" rx=\"10\" ry=\"10\" style=\"stroke: #383838; stroke-width: 1.5;\" width=\"43\" x=\"163\" y=\"203\"/><text fill=\"#000000\" font-family=\"sans-serif\" font-size=\"12\" font-style=\"italic\" lengthAdjust=\"spacingAndGlyphs\" textLength=\"41\" x=\"164\" y=\"219.1387\">«item»</text><text fill=\"#000000\" font-family=\"sans-serif\" font-size=\"12\" lengthAdjust=\"spacingAndGlyphs\" textLength=\"32\" x=\"166.5\" y=\"233.1074\">a1: A</text><line style=\"stroke: #383838; stroke-width: 1.5;\" x1=\"164\" x2=\"205\" y1=\"240.9375\" y2=\"240.9375\"/></a><!--MD5=[1dd1bfd58a279cf63c5f349dbc8fc6a1]\n",
       "class E11--><a href=\"psysml:50797105-d3dc-4af6-be0e-986a23cb6cc7\" target=\"_top\" title=\"psysml:50797105-d3dc-4af6-be0e-986a23cb6cc7\" xlink:actuate=\"onRequest\" xlink:href=\"psysml:50797105-d3dc-4af6-be0e-986a23cb6cc7\" xlink:show=\"new\" xlink:title=\"psysml:50797105-d3dc-4af6-be0e-986a23cb6cc7\" xlink:type=\"simple\"><rect fill=\"#FFFFFF\" height=\"45.9375\" id=\"E11\" rx=\"10\" ry=\"10\" style=\"stroke: #383838; stroke-width: 1.5;\" width=\"43\" x=\"163\" y=\"122\"/><text fill=\"#000000\" font-family=\"sans-serif\" font-size=\"12\" font-style=\"italic\" lengthAdjust=\"spacingAndGlyphs\" textLength=\"41\" x=\"164\" y=\"138.1387\">«item»</text><text fill=\"#000000\" font-family=\"sans-serif\" font-size=\"12\" lengthAdjust=\"spacingAndGlyphs\" textLength=\"32\" x=\"166.5\" y=\"152.1074\">a2: A</text><line style=\"stroke: #383838; stroke-width: 1.5;\" x1=\"164\" x2=\"205\" y1=\"159.9375\" y2=\"159.9375\"/></a><!--MD5=[2720a5a1f2c3fca2055b230370638851]\n",
       "link E2 to E3--><a href=\"psysml:2d349f36-3ef3-481f-a80c-9f5be02d82e3\" target=\"_top\" title=\"psysml:2d349f36-3ef3-481f-a80c-9f5be02d82e3\" xlink:actuate=\"onRequest\" xlink:href=\"psysml:2d349f36-3ef3-481f-a80c-9f5be02d82e3\" xlink:show=\"new\" xlink:title=\"psysml:2d349f36-3ef3-481f-a80c-9f5be02d82e3\" xlink:type=\"simple\"><path d=\"M206.24,78.48 C218.94,87.35 235.78,99.11 251.76,110.27 \" fill=\"none\" id=\"E2-&gt;E3\" style=\"stroke: #383838; stroke-width: 1.0;\"/><polygon fill=\"#FFFFFF\" points=\"268.21,121.75,248.6276,116.5992,256.6501,105.1257,268.21,121.75\" style=\"stroke: #383838; stroke-width: 1.0;\"/><ellipse cx=\"245.1024\" cy=\"111.6938\" fill=\"#383838\" rx=\"2\" ry=\"2\" style=\"stroke: #383838; stroke-width: 1.0;\"/><ellipse cx=\"250.8327\" cy=\"103.4985\" fill=\"#383838\" rx=\"2\" ry=\"2\" style=\"stroke: #383838; stroke-width: 1.0;\"/></a><!--MD5=[4672eba38e49728da53d11aeb285b987]\n",
       "reverse link E3 to E4--><a href=\"psysml:1fc0b9c6-f917-494b-8539-e8a30a151a21\" target=\"_top\" title=\"psysml:1fc0b9c6-f917-494b-8539-e8a30a151a21\" xlink:actuate=\"onRequest\" xlink:href=\"psysml:1fc0b9c6-f917-494b-8539-e8a30a151a21\" xlink:show=\"new\" xlink:title=\"psysml:1fc0b9c6-f917-494b-8539-e8a30a151a21\" xlink:type=\"simple\"><path d=\"M333.98,177.13 C351.32,193.04 374.45,210.6 399,219 C422.57,227.06 451.51,223.9 470.67,220.14 \" fill=\"none\" id=\"E3&lt;-E4\" style=\"stroke: #383838; stroke-width: 1.0;\"/><polygon fill=\"#383838\" points=\"324.47,168.03,326.0431,175.0674,333.1443,176.322,331.5711,169.2846,324.47,168.03\" style=\"stroke: #383838; stroke-width: 1.0;\"/><text fill=\"#000000\" font-family=\"sans-serif\" font-size=\"13\" lengthAdjust=\"spacingAndGlyphs\" textLength=\"8\" x=\"455.0824\" y=\"235.9486\">1</text></a><!--MD5=[191cde3d490a3f6d7bb551fe3ddca469]\n",
       "reverse link E3 to E5--><a href=\"psysml:1188b8bd-fcbe-4041-bfa3-3c6757b772de\" target=\"_top\" title=\"psysml:1188b8bd-fcbe-4041-bfa3-3c6757b772de\" xlink:actuate=\"onRequest\" xlink:href=\"psysml:1188b8bd-fcbe-4041-bfa3-3c6757b772de\" xlink:show=\"new\" xlink:title=\"psysml:1188b8bd-fcbe-4041-bfa3-3c6757b772de\" xlink:type=\"simple\"><path d=\"M350.66,127.03 C367.46,120.64 385.49,113.77 398.81,108.69 \" fill=\"none\" id=\"E3&lt;-E5\" style=\"stroke: #383838; stroke-width: 1.0;\"/><polygon fill=\"#FFFFFF\" points=\"338.15,131.8,345.1812,133.4006,349.363,127.5259,342.3318,125.9253,338.15,131.8\" style=\"stroke: #383838; stroke-width: 1.0;\"/><text fill=\"#000000\" font-family=\"sans-serif\" font-size=\"13\" lengthAdjust=\"spacingAndGlyphs\" textLength=\"8\" x=\"383.0956\" y=\"125.4387\">1</text></a><!--MD5=[79568f1e445c3877b6a54524624ccc7d]\n",
       "link E4 to E6--><a href=\"psysml:b444802f-fd06-4322-964d-2bd41504258e\" target=\"_top\" title=\"psysml:b444802f-fd06-4322-964d-2bd41504258e\" xlink:actuate=\"onRequest\" xlink:href=\"psysml:b444802f-fd06-4322-964d-2bd41504258e\" xlink:show=\"new\" xlink:title=\"psysml:b444802f-fd06-4322-964d-2bd41504258e\" xlink:type=\"simple\"><path d=\"M514.17,206.97 C547.89,193.88 615.78,167.51 663.82,148.85 \" fill=\"none\" id=\"E4-&gt;E6\" style=\"stroke: #383838; stroke-width: 1.0;\"/><polygon fill=\"#FFFFFF\" points=\"682.72,141.51,667.5446,154.9155,662.4747,141.8657,682.72,141.51\" style=\"stroke: #383838; stroke-width: 1.0;\"/><ellipse cx=\"661.5072\" cy=\"155.1154\" fill=\"#383838\" rx=\"2\" ry=\"2\" style=\"stroke: #383838; stroke-width: 1.0;\"/><ellipse cx=\"657.8858\" cy=\"145.7941\" fill=\"#383838\" rx=\"2\" ry=\"2\" style=\"stroke: #383838; stroke-width: 1.0;\"/></a><!--MD5=[3f50a3473f1dfb74d3f76443e03635af]\n",
       "reverse link E6 to E7--><a href=\"psysml:fe8fc95e-22bb-46d1-b0fd-61d73c45474f\" target=\"_top\" title=\"psysml:fe8fc95e-22bb-46d1-b0fd-61d73c45474f\" xlink:actuate=\"onRequest\" xlink:href=\"psysml:fe8fc95e-22bb-46d1-b0fd-61d73c45474f\" xlink:show=\"new\" xlink:title=\"psysml:fe8fc95e-22bb-46d1-b0fd-61d73c45474f\" xlink:type=\"simple\"><path d=\"M767.15,114.8 C783.81,110.18 801.62,105.25 814.81,101.59 \" fill=\"none\" id=\"E6&lt;-E7\" style=\"stroke: #383838; stroke-width: 1.0;\"/><polygon fill=\"#383838\" points=\"754.15,118.4,761.0002,120.6526,765.7143,115.1958,758.8641,112.9431,754.15,118.4\" style=\"stroke: #383838; stroke-width: 1.0;\"/><text fill=\"#000000\" font-family=\"sans-serif\" font-size=\"13\" lengthAdjust=\"spacingAndGlyphs\" textLength=\"8\" x=\"799.0956\" y=\"117.6956\">1</text></a><!--MD5=[14ccda38c055a5c0da953d572bc50960]\n",
       "link E7 to E3--><a href=\"psysml:599ea15b-bb0f-4f03-a502-f2e1a3a71e91\" target=\"_top\" title=\"psysml:599ea15b-bb0f-4f03-a502-f2e1a3a71e91\" xlink:actuate=\"onRequest\" xlink:href=\"psysml:599ea15b-bb0f-4f03-a502-f2e1a3a71e91\" xlink:show=\"new\" xlink:title=\"psysml:599ea15b-bb0f-4f03-a502-f2e1a3a71e91\" xlink:type=\"simple\"><path d=\"M814.63,79.8 C792.54,63.89 755.58,42 719.5,42 C419,42 419,42 419,42 C379.51,42 347.29,75.96 327.01,104.88 \" fill=\"none\" id=\"E7-&gt;E3\" style=\"stroke: #383838; stroke-width: 1.0;\"/><polygon fill=\"#FFFFFF\" points=\"315.97,121.88,320.4427,102.1317,332.1859,109.7538,315.97,121.88\" style=\"stroke: #383838; stroke-width: 1.0;\"/><ellipse cx=\"325.2235\" cy=\"98.4394\" fill=\"#383838\" rx=\"2\" ry=\"2\" style=\"stroke: #383838; stroke-width: 1.0;\"/><ellipse cx=\"333.6116\" cy=\"103.8838\" fill=\"#383838\" rx=\"2\" ry=\"2\" style=\"stroke: #383838; stroke-width: 1.0;\"/></a><!--MD5=[dfaffb906826c3e5aca635516100ff21]\n",
       "link E5 to E8--><a href=\"psysml:ebb03462-10dd-4a39-86ac-c1648f226bb6\" target=\"_top\" title=\"psysml:ebb03462-10dd-4a39-86ac-c1648f226bb6\" xlink:actuate=\"onRequest\" xlink:href=\"psysml:ebb03462-10dd-4a39-86ac-c1648f226bb6\" xlink:show=\"new\" xlink:title=\"psysml:ebb03462-10dd-4a39-86ac-c1648f226bb6\" xlink:type=\"simple\"><path d=\"M441.2,104.47 C462.06,108.06 495.5,113.81 524.1,118.73 \" fill=\"none\" id=\"E5-&gt;E8\" style=\"stroke: #383838; stroke-width: 1.0;\"/><polygon fill=\"#FFFFFF\" points=\"543.82,122.12,523.9093,125.803,526.279,112.005,543.82,122.12\" style=\"stroke: #383838; stroke-width: 1.0;\"/><ellipse cx=\"518.6301\" cy=\"122.8671\" fill=\"#383838\" rx=\"2\" ry=\"2\" style=\"stroke: #383838; stroke-width: 1.0;\"/><ellipse cx=\"520.3227\" cy=\"113.0114\" fill=\"#383838\" rx=\"2\" ry=\"2\" style=\"stroke: #383838; stroke-width: 1.0;\"/></a><!--MD5=[03c8294790d3c57651a1993cecff665f]\n",
       "reverse link E8 to E3--><a href=\"psysml:4ca20137-091c-4af4-8b05-aa2379f8c92e\" target=\"_top\" title=\"psysml:4ca20137-091c-4af4-8b05-aa2379f8c92e\" xlink:actuate=\"onRequest\" xlink:href=\"psysml:4ca20137-091c-4af4-8b05-aa2379f8c92e\" xlink:show=\"new\" xlink:title=\"psysml:4ca20137-091c-4af4-8b05-aa2379f8c92e\" xlink:type=\"simple\"><path d=\"M531.34,140.84 C505.03,147.41 471.44,154.71 441,158 C422.44,160.01 417.62,159.26 399,158 C378.8,156.63 356.36,153.65 338.31,150.89 \" fill=\"none\" id=\"E8&lt;-E3\" style=\"stroke: #383838; stroke-width: 1.0;\"/><polygon fill=\"#FFFFFF\" points=\"543.99,137.59,537.1849,135.2045,532.3655,140.5686,539.1706,142.9541,543.99,137.59\" style=\"stroke: #383838; stroke-width: 1.0;\"/><text fill=\"#000000\" font-family=\"sans-serif\" font-size=\"13\" lengthAdjust=\"spacingAndGlyphs\" textLength=\"7\" x=\"416.5\" y=\"154.0669\">y</text></a><!--MD5=[0d75d2178373a6a4568e5dc728f58aef]\n",
       "reverse link E8 to E6--><a href=\"psysml:4ca20137-091c-4af4-8b05-aa2379f8c92e\" target=\"_top\" title=\"psysml:4ca20137-091c-4af4-8b05-aa2379f8c92e\" xlink:actuate=\"onRequest\" xlink:href=\"psysml:4ca20137-091c-4af4-8b05-aa2379f8c92e\" xlink:show=\"new\" xlink:title=\"psysml:4ca20137-091c-4af4-8b05-aa2379f8c92e\" xlink:type=\"simple\"><path d=\"M627.39,128 C645.53,128 665.88,128 682.64,128 \" fill=\"none\" id=\"E8&lt;-E6\" style=\"stroke: #383838; stroke-width: 1.0;\"/><polygon fill=\"#FFFFFF\" points=\"614.34,128,620.34,132,626.34,128,620.34,124,614.34,128\" style=\"stroke: #383838; stroke-width: 1.0;\"/><text fill=\"#000000\" font-family=\"sans-serif\" font-size=\"13\" lengthAdjust=\"spacingAndGlyphs\" textLength=\"7\" x=\"645\" y=\"124.0669\">y</text></a><!--MD5=[23ac544a70576c3e717098101004234c]\n",
       "reverse link E9 to E10--><a href=\"psysml:bbec5841-3ffd-488b-b643-01adfe752a25\" target=\"_top\" title=\"psysml:bbec5841-3ffd-488b-b643-01adfe752a25\" xlink:actuate=\"onRequest\" xlink:href=\"psysml:bbec5841-3ffd-488b-b643-01adfe752a25\" xlink:show=\"new\" xlink:title=\"psysml:bbec5841-3ffd-488b-b643-01adfe752a25\" xlink:type=\"simple\"><path d=\"M114.48,202.1 C131.24,207.9 149.31,214.16 162.75,218.81 \" fill=\"none\" id=\"E9&lt;-E10\" style=\"stroke: #383838; stroke-width: 1.0;\"/><polygon fill=\"#FFFFFF\" points=\"102.03,197.78,106.3896,203.524,113.3686,201.7089,109.0089,195.9649,102.03,197.78\" style=\"stroke: #383838; stroke-width: 1.0;\"/><text fill=\"#000000\" font-family=\"sans-serif\" font-size=\"13\" lengthAdjust=\"spacingAndGlyphs\" textLength=\"8\" x=\"146.8641\" y=\"231.0017\">1</text></a><!--MD5=[feeac5eb423634930294aa81f2d25a4c]\n",
       "link E10 to E3--><a href=\"psysml:fb12afbf-9138-40ff-bf3b-75b81b096774\" target=\"_top\" title=\"psysml:fb12afbf-9138-40ff-bf3b-75b81b096774\" xlink:actuate=\"onRequest\" xlink:href=\"psysml:fb12afbf-9138-40ff-bf3b-75b81b096774\" xlink:show=\"new\" xlink:title=\"psysml:fb12afbf-9138-40ff-bf3b-75b81b096774\" xlink:type=\"simple\"><path d=\"M206.24,211.52 C218.94,202.65 235.78,190.89 251.76,179.73 \" fill=\"none\" id=\"E10-&gt;E3\" style=\"stroke: #383838; stroke-width: 1.0;\"/><polygon fill=\"#FFFFFF\" points=\"268.21,168.25,256.6501,184.8743,248.6276,173.4008,268.21,168.25\" style=\"stroke: #383838; stroke-width: 1.0;\"/><ellipse cx=\"250.8327\" cy=\"186.5015\" fill=\"#383838\" rx=\"2\" ry=\"2\" style=\"stroke: #383838; stroke-width: 1.0;\"/><ellipse cx=\"245.1024\" cy=\"178.3062\" fill=\"#383838\" rx=\"2\" ry=\"2\" style=\"stroke: #383838; stroke-width: 1.0;\"/></a><!--MD5=[1fc04a95fd77ad5ce46c1a3027516051]\n",
       "reverse link E9 to E11--><a href=\"psysml:20edee2c-da5c-4ff9-9cec-febcc5f58071\" target=\"_top\" title=\"psysml:20edee2c-da5c-4ff9-9cec-febcc5f58071\" xlink:actuate=\"onRequest\" xlink:href=\"psysml:20edee2c-da5c-4ff9-9cec-febcc5f58071\" xlink:show=\"new\" xlink:title=\"psysml:20edee2c-da5c-4ff9-9cec-febcc5f58071\" xlink:type=\"simple\"><path d=\"M114.48,169.5 C131.24,163.55 149.31,157.14 162.75,152.37 \" fill=\"none\" id=\"E9&lt;-E11\" style=\"stroke: #383838; stroke-width: 1.0;\"/><polygon fill=\"#FFFFFF\" points=\"102.03,173.92,109.0214,175.6865,113.341,169.9124,106.3496,168.1458,102.03,173.92\" style=\"stroke: #383838; stroke-width: 1.0;\"/><text fill=\"#000000\" font-family=\"sans-serif\" font-size=\"13\" lengthAdjust=\"spacingAndGlyphs\" textLength=\"8\" x=\"146.8641\" y=\"169.0207\">1</text></a><!--MD5=[0517f1ce58c4d5483948f93845c45e26]\n",
       "link E11 to E3--><a href=\"psysml:6098403c-f8e4-4c64-8bc6-7f6e4aceb826\" target=\"_top\" title=\"psysml:6098403c-f8e4-4c64-8bc6-7f6e4aceb826\" xlink:actuate=\"onRequest\" xlink:href=\"psysml:6098403c-f8e4-4c64-8bc6-7f6e4aceb826\" xlink:show=\"new\" xlink:title=\"psysml:6098403c-f8e4-4c64-8bc6-7f6e4aceb826\" xlink:type=\"simple\"><path d=\"M206.24,145 C217.53,145 232.1,145 246.43,145 \" fill=\"none\" id=\"E11-&gt;E3\" style=\"stroke: #383838; stroke-width: 1.0;\"/><polygon fill=\"#FFFFFF\" points=\"266.84,145,247.84,152,247.84,138,266.84,145\" style=\"stroke: #383838; stroke-width: 1.0;\"/><ellipse cx=\"242.14\" cy=\"150\" fill=\"#383838\" rx=\"2\" ry=\"2\" style=\"stroke: #383838; stroke-width: 1.0;\"/><ellipse cx=\"242.14\" cy=\"140\" fill=\"#383838\" rx=\"2\" ry=\"2\" style=\"stroke: #383838; stroke-width: 1.0;\"/></a><!--MD5=[aec27ce3fc82b32af87cb200b50463b7]\n",
       "@startuml\r\n",
       "left to right direction\r\n",
       "skinparam monochrome true\r\n",
       "skinparam classbackgroundcolor white\r\n",
       "skinparam shadowing false\r\n",
       "skinparam wrapWidth 300\r\n",
       "hide circle\r\n",
       "\r\n",
       "package \"ItemTest\" as E1  [[psysml:05177c11-5394-41b2-a0a0-71a4c06ed611 ]]  {\r\n",
       "comp usage \"f: A \" as E2  <<(T,blue) item>> [[psysml:9b37ce48-aa06-4adb-ba3b-3b1410731947 ]] {\r\n",
       "}\r\n",
       "comp def \"A\" as E3  <<(T,blue) item  def>> [[psysml:373f36dd-9125-4f4d-9beb-8d6cd21e1469 ]] {\r\n",
       "}\r\n",
       "comp usage \"b: B \" as E4  <<(T,blue) item>> [[psysml:130e11a2-3d5f-4cd9-b0cd-9225a7528360 ]] {\r\n",
       "}\r\n",
       "comp usage \"c: C \" as E5  <<(T,blue) part>> [[psysml:80ae9a50-ac1f-4423-b935-68d8f5716f01 ]] {\r\n",
       "}\r\n",
       "comp def \"<i>B</i>\" as E6  <<(T,blue) item  def>> [[psysml:7d838d86-0408-4401-9cbf-32b733f3993a ]] {\r\n",
       "}\r\n",
       "comp usage \"<i>a</i>: A \" as E7  <<(T,blue) part>> [[psysml:d06b8fcb-8cda-493c-875d-bdf01ed715df ]] {\r\n",
       "}\r\n",
       "comp def \"C\" as E8  <<(T,blue) part  def>> [[psysml:a2efb8df-7581-49ed-b24f-8030c12b0405 ]] {\r\n",
       "}\r\n",
       "comp def \"P\" as E9  <<(T,blue) port  def>> [[psysml:91f3ce36-c57b-44eb-a625-32b1f3011842 ]] {\r\n",
       "}\r\n",
       "comp usage \"a1: A \" as E10  <<(T,blue) item>> [[psysml:5a8db81a-c733-4c6f-be90-4f9ffe214caa ]] {\r\n",
       "}\r\n",
       "comp usage \"a2: A \" as E11  <<(T,blue) item>> [[psysml:50797105-d3dc-4af6-be0e-986a23cb6cc7 ]] {\r\n",
       "}\r\n",
       "}\r\n",
       "E2 - -:|> E3 [[psysml:2d349f36-3ef3-481f-a80c-9f5be02d82e3 ]] \r\n",
       "E3 *- - \"1\"E4 [[psysml:1fc0b9c6-f917-494b-8539-e8a30a151a21 ]] \r\n",
       "E3 o- - \"1\"E5 [[psysml:1188b8bd-fcbe-4041-bfa3-3c6757b772de ]] \r\n",
       "E4 - -:|> E6 [[psysml:b444802f-fd06-4322-964d-2bd41504258e ]] \r\n",
       "E6 *- - \"1\"E7 [[psysml:fe8fc95e-22bb-46d1-b0fd-61d73c45474f ]] \r\n",
       "E7 - -:|> E3 [[psysml:599ea15b-bb0f-4f03-a502-f2e1a3a71e91 ]] \r\n",
       "E5 - -:|> E8 [[psysml:ebb03462-10dd-4a39-86ac-c1648f226bb6 ]] \r\n",
       "E8 o- - E3 [[psysml:4ca20137-091c-4af4-8b05-aa2379f8c92e ]] : y\r\n",
       "E8 o- - E6 [[psysml:4ca20137-091c-4af4-8b05-aa2379f8c92e ]] : y\r\n",
       "E9 o- - \"1\"E10 [[psysml:bbec5841-3ffd-488b-b643-01adfe752a25 ]] \r\n",
       "E10 - -:|> E3 [[psysml:fb12afbf-9138-40ff-bf3b-75b81b096774 ]] \r\n",
       "E9 o- - \"1\"E11 [[psysml:20edee2c-da5c-4ff9-9cec-febcc5f58071 ]] \r\n",
       "E11 - -:|> E3 [[psysml:6098403c-f8e4-4c64-8bc6-7f6e4aceb826 ]] \r\n",
       "@enduml\r\n",
       "\n",
       "PlantUML version 1.2020.13(Sat Jun 13 12:26:38 UTC 2020)\n",
       "(EPL source distribution)\n",
       "Java Runtime: OpenJDK Runtime Environment\n",
       "JVM: OpenJDK 64-Bit Server VM\n",
       "Default Encoding: UTF-8\n",
       "Language: en\n",
       "Country: null\n",
       "--></g></svg>"
      ]
     },
     "execution_count": 22,
     "metadata": {},
     "output_type": "execute_result"
    }
   ],
   "source": [
    "%viz --style=\"LR\" --view=\"MIXED\" \"ItemTest\""
   ]
  },
  {
   "cell_type": "code",
   "execution_count": 23,
   "id": "7a7ba90f",
   "metadata": {
    "execution": {
     "iopub.execute_input": "2022-04-22T09:48:24.622476Z",
     "iopub.status.busy": "2022-04-22T09:48:24.622066Z",
     "iopub.status.idle": "2022-04-22T09:48:24.673548Z",
     "shell.execute_reply": "2022-04-22T09:48:24.673272Z"
    }
   },
   "outputs": [
    {
     "data": {
      "image/svg+xml": [
       "<?xml version=\"1.0\" encoding=\"UTF-8\" standalone=\"no\"?><svg xmlns=\"http://www.w3.org/2000/svg\" xmlns:xlink=\"http://www.w3.org/1999/xlink\" contentScriptType=\"application/ecmascript\" contentStyleType=\"text/css\" height=\"818px\" preserveAspectRatio=\"none\" style=\"width:270px;height:818px;\" version=\"1.1\" viewBox=\"0 0 270 818\" width=\"270px\" zoomAndPan=\"magnify\"><defs><filter height=\"300%\" id=\"f2h02z9m7vvrd\" width=\"300%\" x=\"-1\" y=\"-1\"><feGaussianBlur result=\"blurOut\" stdDeviation=\"2.0\"/><feColorMatrix in=\"blurOut\" result=\"blurOut2\" type=\"matrix\" values=\"0 0 0 0 0 0 0 0 0 0 0 0 0 0 0 0 0 0 .4 0\"/><feOffset dx=\"4.0\" dy=\"4.0\" in=\"blurOut2\" result=\"blurOut3\"/><feBlend in=\"SourceGraphic\" in2=\"blurOut3\" mode=\"normal\"/></filter></defs><g><!--MD5=[fbc87193dbaf4d95561dea2c320d4a47]\n",
       "cluster E1--><a href=\"psysml:05177c11-5394-41b2-a0a0-71a4c06ed611\" target=\"_top\" title=\"psysml:05177c11-5394-41b2-a0a0-71a4c06ed611\" xlink:actuate=\"onRequest\" xlink:href=\"psysml:05177c11-5394-41b2-a0a0-71a4c06ed611\" xlink:show=\"new\" xlink:title=\"psysml:05177c11-5394-41b2-a0a0-71a4c06ed611\" xlink:type=\"simple\"><polygon fill=\"#FFFFFF\" filter=\"url(#f2h02z9m7vvrd)\" points=\"16,6,83,6,90,28.2969,248,28.2969,248,806,16,806,16,6\" style=\"stroke: #000000; stroke-width: 1.5;\"/><line style=\"stroke: #000000; stroke-width: 1.5;\" x1=\"16\" x2=\"90\" y1=\"28.2969\" y2=\"28.2969\"/><text fill=\"#000000\" font-family=\"sans-serif\" font-size=\"14\" font-weight=\"bold\" lengthAdjust=\"spacingAndGlyphs\" textLength=\"61\" x=\"20\" y=\"20.9951\">ItemTest</text></a><!--MD5=[b4997ac47864f28c2f74865a473b2911]\n",
       "class E2--><a href=\"psysml:9b37ce48-aa06-4adb-ba3b-3b1410731947\" target=\"_top\" title=\"psysml:9b37ce48-aa06-4adb-ba3b-3b1410731947\" xlink:actuate=\"onRequest\" xlink:href=\"psysml:9b37ce48-aa06-4adb-ba3b-3b1410731947\" xlink:show=\"new\" xlink:title=\"psysml:9b37ce48-aa06-4adb-ba3b-3b1410731947\" xlink:type=\"simple\"><rect fill=\"#FEFECE\" filter=\"url(#f2h02z9m7vvrd)\" height=\"45.9375\" id=\"E2\" rx=\"10\" ry=\"10\" style=\"stroke: #A80036; stroke-width: 1.5;\" width=\"43\" x=\"188.5\" y=\"148\"/><text fill=\"#000000\" font-family=\"sans-serif\" font-size=\"12\" font-style=\"italic\" lengthAdjust=\"spacingAndGlyphs\" textLength=\"41\" x=\"189.5\" y=\"164.1387\">«item»</text><text fill=\"#000000\" font-family=\"sans-serif\" font-size=\"12\" lengthAdjust=\"spacingAndGlyphs\" textLength=\"20\" x=\"198\" y=\"178.1074\">f: A</text><line style=\"stroke: #A80036; stroke-width: 1.5;\" x1=\"189.5\" x2=\"230.5\" y1=\"185.9375\" y2=\"185.9375\"/></a><!--MD5=[09b614a08d8cba4a07c9adeb5e0fee81]\n",
       "class E3--><a href=\"psysml:373f36dd-9125-4f4d-9beb-8d6cd21e1469\" target=\"_top\" title=\"psysml:373f36dd-9125-4f4d-9beb-8d6cd21e1469\" xlink:actuate=\"onRequest\" xlink:href=\"psysml:373f36dd-9125-4f4d-9beb-8d6cd21e1469\" xlink:show=\"new\" xlink:title=\"psysml:373f36dd-9125-4f4d-9beb-8d6cd21e1469\" xlink:type=\"simple\"><rect fill=\"#FEFECE\" filter=\"url(#f2h02z9m7vvrd)\" height=\"45.9375\" id=\"E3\" style=\"stroke: #A80036; stroke-width: 1.5;\" width=\"71\" x=\"96.5\" y=\"255\"/><text fill=\"#000000\" font-family=\"sans-serif\" font-size=\"12\" font-style=\"italic\" lengthAdjust=\"spacingAndGlyphs\" textLength=\"69\" x=\"97.5\" y=\"271.1387\">«item  def»</text><text fill=\"#000000\" font-family=\"sans-serif\" font-size=\"12\" lengthAdjust=\"spacingAndGlyphs\" textLength=\"8\" x=\"128\" y=\"285.1074\">A</text><line style=\"stroke: #A80036; stroke-width: 1.5;\" x1=\"97.5\" x2=\"166.5\" y1=\"292.9375\" y2=\"292.9375\"/></a><!--MD5=[ebbe1d658d1005bcc118a6aa81145e00]\n",
       "class E4--><a href=\"psysml:130e11a2-3d5f-4cd9-b0cd-9225a7528360\" target=\"_top\" title=\"psysml:130e11a2-3d5f-4cd9-b0cd-9225a7528360\" xlink:actuate=\"onRequest\" xlink:href=\"psysml:130e11a2-3d5f-4cd9-b0cd-9225a7528360\" xlink:show=\"new\" xlink:title=\"psysml:130e11a2-3d5f-4cd9-b0cd-9225a7528360\" xlink:type=\"simple\"><rect fill=\"#FEFECE\" filter=\"url(#f2h02z9m7vvrd)\" height=\"45.9375\" id=\"E4\" rx=\"10\" ry=\"10\" style=\"stroke: #A80036; stroke-width: 1.5;\" width=\"43\" x=\"45.5\" y=\"438\"/><text fill=\"#000000\" font-family=\"sans-serif\" font-size=\"12\" font-style=\"italic\" lengthAdjust=\"spacingAndGlyphs\" textLength=\"41\" x=\"46.5\" y=\"454.1387\">«item»</text><text fill=\"#000000\" font-family=\"sans-serif\" font-size=\"12\" lengthAdjust=\"spacingAndGlyphs\" textLength=\"24\" x=\"53\" y=\"468.1074\">b: B</text><line style=\"stroke: #A80036; stroke-width: 1.5;\" x1=\"46.5\" x2=\"87.5\" y1=\"475.9375\" y2=\"475.9375\"/></a><!--MD5=[270fce915f116d4de14055a7c1d9a0f3]\n",
       "class E5--><a href=\"psysml:80ae9a50-ac1f-4423-b935-68d8f5716f01\" target=\"_top\" title=\"psysml:80ae9a50-ac1f-4423-b935-68d8f5716f01\" xlink:actuate=\"onRequest\" xlink:href=\"psysml:80ae9a50-ac1f-4423-b935-68d8f5716f01\" xlink:show=\"new\" xlink:title=\"psysml:80ae9a50-ac1f-4423-b935-68d8f5716f01\" xlink:type=\"simple\"><rect fill=\"#FEFECE\" filter=\"url(#f2h02z9m7vvrd)\" height=\"45.9375\" id=\"E5\" rx=\"10\" ry=\"10\" style=\"stroke: #A80036; stroke-width: 1.5;\" width=\"42\" x=\"151\" y=\"362\"/><text fill=\"#000000\" font-family=\"sans-serif\" font-size=\"12\" font-style=\"italic\" lengthAdjust=\"spacingAndGlyphs\" textLength=\"40\" x=\"152\" y=\"378.1387\">«part»</text><text fill=\"#000000\" font-family=\"sans-serif\" font-size=\"12\" lengthAdjust=\"spacingAndGlyphs\" textLength=\"23\" x=\"158.5\" y=\"392.1074\">c: C</text><line style=\"stroke: #A80036; stroke-width: 1.5;\" x1=\"152\" x2=\"192\" y1=\"399.9375\" y2=\"399.9375\"/></a><!--MD5=[60a26617385b1d2d0262a64233df1f8d]\n",
       "class E6--><a href=\"psysml:7d838d86-0408-4401-9cbf-32b733f3993a\" target=\"_top\" title=\"psysml:7d838d86-0408-4401-9cbf-32b733f3993a\" xlink:actuate=\"onRequest\" xlink:href=\"psysml:7d838d86-0408-4401-9cbf-32b733f3993a\" xlink:show=\"new\" xlink:title=\"psysml:7d838d86-0408-4401-9cbf-32b733f3993a\" xlink:type=\"simple\"><rect fill=\"#FEFECE\" filter=\"url(#f2h02z9m7vvrd)\" height=\"45.9375\" id=\"E6\" style=\"stroke: #A80036; stroke-width: 1.5;\" width=\"71\" x=\"112.5\" y=\"637\"/><text fill=\"#000000\" font-family=\"sans-serif\" font-size=\"12\" font-style=\"italic\" lengthAdjust=\"spacingAndGlyphs\" textLength=\"69\" x=\"113.5\" y=\"653.1387\">«item  def»</text><text fill=\"#000000\" font-family=\"sans-serif\" font-size=\"12\" font-style=\"italic\" lengthAdjust=\"spacingAndGlyphs\" textLength=\"8\" x=\"144\" y=\"667.1074\">B</text><line style=\"stroke: #A80036; stroke-width: 1.5;\" x1=\"113.5\" x2=\"182.5\" y1=\"674.9375\" y2=\"674.9375\"/></a><!--MD5=[2156ba9850f5573cc1fc38a6a4b2f02b]\n",
       "class E7--><a href=\"psysml:d06b8fcb-8cda-493c-875d-bdf01ed715df\" target=\"_top\" title=\"psysml:d06b8fcb-8cda-493c-875d-bdf01ed715df\" xlink:actuate=\"onRequest\" xlink:href=\"psysml:d06b8fcb-8cda-493c-875d-bdf01ed715df\" xlink:show=\"new\" xlink:title=\"psysml:d06b8fcb-8cda-493c-875d-bdf01ed715df\" xlink:type=\"simple\"><rect fill=\"#FEFECE\" filter=\"url(#f2h02z9m7vvrd)\" height=\"45.9375\" id=\"E7\" rx=\"10\" ry=\"10\" style=\"stroke: #A80036; stroke-width: 1.5;\" width=\"42\" x=\"159\" y=\"744\"/><text fill=\"#000000\" font-family=\"sans-serif\" font-size=\"12\" font-style=\"italic\" lengthAdjust=\"spacingAndGlyphs\" textLength=\"40\" x=\"160\" y=\"760.1387\">«part»</text><text fill=\"#000000\" font-family=\"sans-serif\" font-size=\"12\" font-style=\"italic\" lengthAdjust=\"spacingAndGlyphs\" textLength=\"8\" x=\"166\" y=\"774.1074\">a</text><text fill=\"#000000\" font-family=\"sans-serif\" font-size=\"12\" lengthAdjust=\"spacingAndGlyphs\" textLength=\"16\" x=\"174\" y=\"774.1074\">: A</text><line style=\"stroke: #A80036; stroke-width: 1.5;\" x1=\"160\" x2=\"200\" y1=\"781.9375\" y2=\"781.9375\"/></a><!--MD5=[b9389687b975829384b498ac4b7476b2]\n",
       "class E8--><a href=\"psysml:a2efb8df-7581-49ed-b24f-8030c12b0405\" target=\"_top\" title=\"psysml:a2efb8df-7581-49ed-b24f-8030c12b0405\" xlink:actuate=\"onRequest\" xlink:href=\"psysml:a2efb8df-7581-49ed-b24f-8030c12b0405\" xlink:show=\"new\" xlink:title=\"psysml:a2efb8df-7581-49ed-b24f-8030c12b0405\" xlink:type=\"simple\"><rect fill=\"#FEFECE\" filter=\"url(#f2h02z9m7vvrd)\" height=\"45.9375\" id=\"E8\" style=\"stroke: #A80036; stroke-width: 1.5;\" width=\"70\" x=\"113\" y=\"514\"/><text fill=\"#000000\" font-family=\"sans-serif\" font-size=\"12\" font-style=\"italic\" lengthAdjust=\"spacingAndGlyphs\" textLength=\"68\" x=\"114\" y=\"530.1387\">«part  def»</text><text fill=\"#000000\" font-family=\"sans-serif\" font-size=\"12\" lengthAdjust=\"spacingAndGlyphs\" textLength=\"8\" x=\"144\" y=\"544.1074\">C</text><line style=\"stroke: #A80036; stroke-width: 1.5;\" x1=\"114\" x2=\"182\" y1=\"551.9375\" y2=\"551.9375\"/></a><!--MD5=[fd4143e9d270a159db93a4ea2a975926]\n",
       "class E9--><a href=\"psysml:91f3ce36-c57b-44eb-a625-32b1f3011842\" target=\"_top\" title=\"psysml:91f3ce36-c57b-44eb-a625-32b1f3011842\" xlink:actuate=\"onRequest\" xlink:href=\"psysml:91f3ce36-c57b-44eb-a625-32b1f3011842\" xlink:show=\"new\" xlink:title=\"psysml:91f3ce36-c57b-44eb-a625-32b1f3011842\" xlink:type=\"simple\"><rect fill=\"#FEFECE\" filter=\"url(#f2h02z9m7vvrd)\" height=\"45.9375\" id=\"E9\" style=\"stroke: #A80036; stroke-width: 1.5;\" width=\"70\" x=\"64\" y=\"41\"/><text fill=\"#000000\" font-family=\"sans-serif\" font-size=\"12\" font-style=\"italic\" lengthAdjust=\"spacingAndGlyphs\" textLength=\"68\" x=\"65\" y=\"57.1387\">«port  def»</text><text fill=\"#000000\" font-family=\"sans-serif\" font-size=\"12\" lengthAdjust=\"spacingAndGlyphs\" textLength=\"8\" x=\"95\" y=\"71.1074\">P</text><line style=\"stroke: #A80036; stroke-width: 1.5;\" x1=\"65\" x2=\"133\" y1=\"78.9375\" y2=\"78.9375\"/></a><!--MD5=[96f4274e9e20536e775497830990834d]\n",
       "class E10--><a href=\"psysml:5a8db81a-c733-4c6f-be90-4f9ffe214caa\" target=\"_top\" title=\"psysml:5a8db81a-c733-4c6f-be90-4f9ffe214caa\" xlink:actuate=\"onRequest\" xlink:href=\"psysml:5a8db81a-c733-4c6f-be90-4f9ffe214caa\" xlink:show=\"new\" xlink:title=\"psysml:5a8db81a-c733-4c6f-be90-4f9ffe214caa\" xlink:type=\"simple\"><rect fill=\"#FEFECE\" filter=\"url(#f2h02z9m7vvrd)\" height=\"45.9375\" id=\"E10\" rx=\"10\" ry=\"10\" style=\"stroke: #A80036; stroke-width: 1.5;\" width=\"43\" x=\"32.5\" y=\"148\"/><text fill=\"#000000\" font-family=\"sans-serif\" font-size=\"12\" font-style=\"italic\" lengthAdjust=\"spacingAndGlyphs\" textLength=\"41\" x=\"33.5\" y=\"164.1387\">«item»</text><text fill=\"#000000\" font-family=\"sans-serif\" font-size=\"12\" lengthAdjust=\"spacingAndGlyphs\" textLength=\"32\" x=\"36\" y=\"178.1074\">a1: A</text><line style=\"stroke: #A80036; stroke-width: 1.5;\" x1=\"33.5\" x2=\"74.5\" y1=\"185.9375\" y2=\"185.9375\"/></a><!--MD5=[1dd1bfd58a279cf63c5f349dbc8fc6a1]\n",
       "class E11--><a href=\"psysml:50797105-d3dc-4af6-be0e-986a23cb6cc7\" target=\"_top\" title=\"psysml:50797105-d3dc-4af6-be0e-986a23cb6cc7\" xlink:actuate=\"onRequest\" xlink:href=\"psysml:50797105-d3dc-4af6-be0e-986a23cb6cc7\" xlink:show=\"new\" xlink:title=\"psysml:50797105-d3dc-4af6-be0e-986a23cb6cc7\" xlink:type=\"simple\"><rect fill=\"#FEFECE\" filter=\"url(#f2h02z9m7vvrd)\" height=\"45.9375\" id=\"E11\" rx=\"10\" ry=\"10\" style=\"stroke: #A80036; stroke-width: 1.5;\" width=\"43\" x=\"110.5\" y=\"148\"/><text fill=\"#000000\" font-family=\"sans-serif\" font-size=\"12\" font-style=\"italic\" lengthAdjust=\"spacingAndGlyphs\" textLength=\"41\" x=\"111.5\" y=\"164.1387\">«item»</text><text fill=\"#000000\" font-family=\"sans-serif\" font-size=\"12\" lengthAdjust=\"spacingAndGlyphs\" textLength=\"32\" x=\"114\" y=\"178.1074\">a2: A</text><line style=\"stroke: #A80036; stroke-width: 1.5;\" x1=\"111.5\" x2=\"152.5\" y1=\"185.9375\" y2=\"185.9375\"/></a><!--MD5=[2720a5a1f2c3fca2055b230370638851]\n",
       "link E2 to E3--><a href=\"psysml:2d349f36-3ef3-481f-a80c-9f5be02d82e3\" target=\"_top\" title=\"psysml:2d349f36-3ef3-481f-a80c-9f5be02d82e3\" xlink:actuate=\"onRequest\" xlink:href=\"psysml:2d349f36-3ef3-481f-a80c-9f5be02d82e3\" xlink:show=\"new\" xlink:title=\"psysml:2d349f36-3ef3-481f-a80c-9f5be02d82e3\" xlink:type=\"simple\"><path d=\"M193.65,194.01 C184.14,206.81 171.89,223.3 160.82,238.2 \" fill=\"none\" id=\"E2-&gt;E3\" style=\"stroke: #A80036; stroke-width: 1.0;\"/><polygon fill=\"#FFFFFF\" points=\"148.6,254.66,154.3195,235.2361,165.5543,243.5896,148.6,254.66\" style=\"stroke: #A80036; stroke-width: 1.0;\"/><ellipse cx=\"159.3256\" cy=\"231.8554\" fill=\"#A80036\" rx=\"2\" ry=\"2\" style=\"stroke: #A80036; stroke-width: 1.0;\"/><ellipse cx=\"167.3504\" cy=\"237.8221\" fill=\"#A80036\" rx=\"2\" ry=\"2\" style=\"stroke: #A80036; stroke-width: 1.0;\"/></a><!--MD5=[4672eba38e49728da53d11aeb285b987]\n",
       "reverse link E3 to E4--><a href=\"psysml:1fc0b9c6-f917-494b-8539-e8a30a151a21\" target=\"_top\" title=\"psysml:1fc0b9c6-f917-494b-8539-e8a30a151a21\" xlink:actuate=\"onRequest\" xlink:href=\"psysml:1fc0b9c6-f917-494b-8539-e8a30a151a21\" xlink:show=\"new\" xlink:title=\"psysml:1fc0b9c6-f917-494b-8539-e8a30a151a21\" xlink:type=\"simple\"><path d=\"M97.11,310.9 C84.08,325.11 70.81,342.94 64,362 C55.12,386.85 58.09,417.53 61.82,437.88 \" fill=\"none\" id=\"E3&lt;-E4\" style=\"stroke: #A80036; stroke-width: 1.0;\"/><polygon fill=\"#A80036\" points=\"106.46,301.23,99.4153,302.7703,98.1277,309.8655,105.1724,308.3252,106.46,301.23\" style=\"stroke: #A80036; stroke-width: 1.0;\"/><text fill=\"#000000\" font-family=\"sans-serif\" font-size=\"13\" lengthAdjust=\"spacingAndGlyphs\" textLength=\"8\" x=\"51.3529\" y=\"426.744\">1</text></a><!--MD5=[191cde3d490a3f6d7bb551fe3ddca469]\n",
       "reverse link E3 to E5--><a href=\"psysml:1188b8bd-fcbe-4041-bfa3-3c6757b772de\" target=\"_top\" title=\"psysml:1188b8bd-fcbe-4041-bfa3-3c6757b772de\" xlink:actuate=\"onRequest\" xlink:href=\"psysml:1188b8bd-fcbe-4041-bfa3-3c6757b772de\" xlink:show=\"new\" xlink:title=\"psysml:1188b8bd-fcbe-4041-bfa3-3c6757b772de\" xlink:type=\"simple\"><path d=\"M145.17,313.57 C151.2,329.39 158.16,347.68 163.49,361.66 \" fill=\"none\" id=\"E3&lt;-E5\" style=\"stroke: #A80036; stroke-width: 1.0;\"/><polygon fill=\"#FFFFFF\" points=\"140.39,301.01,138.7866,308.0406,144.6598,312.2247,146.2631,305.1941,140.39,301.01\" style=\"stroke: #A80036; stroke-width: 1.0;\"/><text fill=\"#000000\" font-family=\"sans-serif\" font-size=\"13\" lengthAdjust=\"spacingAndGlyphs\" textLength=\"8\" x=\"152.2843\" y=\"350.8492\">1</text></a><!--MD5=[79568f1e445c3877b6a54524624ccc7d]\n",
       "link E4 to E6--><a href=\"psysml:b444802f-fd06-4322-964d-2bd41504258e\" target=\"_top\" title=\"psysml:b444802f-fd06-4322-964d-2bd41504258e\" xlink:actuate=\"onRequest\" xlink:href=\"psysml:b444802f-fd06-4322-964d-2bd41504258e\" xlink:show=\"new\" xlink:title=\"psysml:b444802f-fd06-4322-964d-2bd41504258e\" xlink:type=\"simple\"><path d=\"M72.25,484.22 C77.31,504.36 85.72,534.68 96,560 C104.15,580.08 115.08,601.47 124.82,619.21 \" fill=\"none\" id=\"E4-&gt;E6\" style=\"stroke: #A80036; stroke-width: 1.0;\"/><polygon fill=\"#FFFFFF\" points=\"134.72,636.8,119.2979,623.6791,131.4967,616.8097,134.72,636.8\" style=\"stroke: #A80036; stroke-width: 1.0;\"/><ellipse cx=\"118.2438\" cy=\"617.7311\" fill=\"#A80036\" rx=\"2\" ry=\"2\" style=\"stroke: #A80036; stroke-width: 1.0;\"/><ellipse cx=\"126.9572\" cy=\"612.8244\" fill=\"#A80036\" rx=\"2\" ry=\"2\" style=\"stroke: #A80036; stroke-width: 1.0;\"/></a><!--MD5=[3f50a3473f1dfb74d3f76443e03635af]\n",
       "reverse link E6 to E7--><a href=\"psysml:fe8fc95e-22bb-46d1-b0fd-61d73c45474f\" target=\"_top\" title=\"psysml:fe8fc95e-22bb-46d1-b0fd-61d73c45474f\" xlink:actuate=\"onRequest\" xlink:href=\"psysml:fe8fc95e-22bb-46d1-b0fd-61d73c45474f\" xlink:show=\"new\" xlink:title=\"psysml:fe8fc95e-22bb-46d1-b0fd-61d73c45474f\" xlink:type=\"simple\"><path d=\"M158.54,695.57 C163.36,711.39 168.93,729.68 173.19,743.66 \" fill=\"none\" id=\"E6&lt;-E7\" style=\"stroke: #A80036; stroke-width: 1.0;\"/><polygon fill=\"#A80036\" points=\"154.71,683.01,152.6319,689.9152,158.2066,694.4893,160.2847,687.5841,154.71,683.01\" style=\"stroke: #A80036; stroke-width: 1.0;\"/><text fill=\"#000000\" font-family=\"sans-serif\" font-size=\"13\" lengthAdjust=\"spacingAndGlyphs\" textLength=\"8\" x=\"162.4199\" y=\"732.8492\">1</text></a><!--MD5=[14ccda38c055a5c0da953d572bc50960]\n",
       "link E7 to E3--><a href=\"psysml:599ea15b-bb0f-4f03-a502-f2e1a3a71e91\" target=\"_top\" title=\"psysml:599ea15b-bb0f-4f03-a502-f2e1a3a71e91\" xlink:actuate=\"onRequest\" xlink:href=\"psysml:599ea15b-bb0f-4f03-a502-f2e1a3a71e91\" xlink:show=\"new\" xlink:title=\"psysml:599ea15b-bb0f-4f03-a502-f2e1a3a71e91\" xlink:type=\"simple\"><path d=\"M197.41,743.63 C211.5,723.27 229,691.78 229,661 C229,384 229,384 229,384 C229,353.7 206.93,328.42 183.85,310.26 \" fill=\"none\" id=\"E7-&gt;E3\" style=\"stroke: #A80036; stroke-width: 1.0;\"/><polygon fill=\"#FFFFFF\" points=\"167.57,298.59,187.0929,303.9617,178.9414,315.3438,167.57,298.59\" style=\"stroke: #A80036; stroke-width: 1.0;\"/><ellipse cx=\"190.5626\" cy=\"308.9066\" fill=\"#A80036\" rx=\"2\" ry=\"2\" style=\"stroke: #A80036; stroke-width: 1.0;\"/><ellipse cx=\"184.7401\" cy=\"317.0367\" fill=\"#A80036\" rx=\"2\" ry=\"2\" style=\"stroke: #A80036; stroke-width: 1.0;\"/></a><!--MD5=[dfaffb906826c3e5aca635516100ff21]\n",
       "link E5 to E8--><a href=\"psysml:ebb03462-10dd-4a39-86ac-c1648f226bb6\" target=\"_top\" title=\"psysml:ebb03462-10dd-4a39-86ac-c1648f226bb6\" xlink:actuate=\"onRequest\" xlink:href=\"psysml:ebb03462-10dd-4a39-86ac-c1648f226bb6\" xlink:show=\"new\" xlink:title=\"psysml:ebb03462-10dd-4a39-86ac-c1648f226bb6\" xlink:type=\"simple\"><path d=\"M168.46,408.13 C164.86,430.62 159.2,466.01 154.74,493.87 \" fill=\"none\" id=\"E5-&gt;E8\" style=\"stroke: #A80036; stroke-width: 1.0;\"/><polygon fill=\"#FFFFFF\" points=\"151.56,513.78,147.6458,493.9135,161.4704,496.1226,151.56,513.78\" style=\"stroke: #A80036; stroke-width: 1.0;\"/><ellipse cx=\"150.5202\" cy=\"488.6005\" fill=\"#A80036\" rx=\"2\" ry=\"2\" style=\"stroke: #A80036; stroke-width: 1.0;\"/><ellipse cx=\"160.3949\" cy=\"490.1784\" fill=\"#A80036\" rx=\"2\" ry=\"2\" style=\"stroke: #A80036; stroke-width: 1.0;\"/></a><!--MD5=[03c8294790d3c57651a1993cecff665f]\n",
       "reverse link E8 to E3--><a href=\"psysml:4ca20137-091c-4af4-8b05-aa2379f8c92e\" target=\"_top\" title=\"psysml:4ca20137-091c-4af4-8b05-aa2379f8c92e\" xlink:actuate=\"onRequest\" xlink:href=\"psysml:4ca20137-091c-4af4-8b05-aa2379f8c92e\" xlink:show=\"new\" xlink:title=\"psysml:4ca20137-091c-4af4-8b05-aa2379f8c92e\" xlink:type=\"simple\"><path d=\"M140.02,501.22 C134.57,475.6 127.84,439.84 125,408 C123.18,387.64 124.14,382.43 125,362 C125.87,341.34 127.95,317.86 129.62,301.16 \" fill=\"none\" id=\"E8&lt;-E3\" style=\"stroke: #A80036; stroke-width: 1.0;\"/><polygon fill=\"#FFFFFF\" points=\"142.81,513.96,145.4388,507.2451,140.2515,502.2359,137.6227,508.9508,142.81,513.96\" style=\"stroke: #A80036; stroke-width: 1.0;\"/><text fill=\"#000000\" font-family=\"sans-serif\" font-size=\"13\" lengthAdjust=\"spacingAndGlyphs\" textLength=\"7\" x=\"126\" y=\"389.5669\">y</text></a><!--MD5=[0d75d2178373a6a4568e5dc728f58aef]\n",
       "reverse link E8 to E6--><a href=\"psysml:4ca20137-091c-4af4-8b05-aa2379f8c92e\" target=\"_top\" title=\"psysml:4ca20137-091c-4af4-8b05-aa2379f8c92e\" xlink:actuate=\"onRequest\" xlink:href=\"psysml:4ca20137-091c-4af4-8b05-aa2379f8c92e\" xlink:show=\"new\" xlink:title=\"psysml:4ca20137-091c-4af4-8b05-aa2379f8c92e\" xlink:type=\"simple\"><path d=\"M148,573.22 C148,593.81 148,619.16 148,636.95 \" fill=\"none\" id=\"E8&lt;-E6\" style=\"stroke: #A80036; stroke-width: 1.0;\"/><polygon fill=\"#FFFFFF\" points=\"148,560.19,144,566.19,148,572.19,152,566.19,148,560.19\" style=\"stroke: #A80036; stroke-width: 1.0;\"/><text fill=\"#000000\" font-family=\"sans-serif\" font-size=\"13\" lengthAdjust=\"spacingAndGlyphs\" textLength=\"7\" x=\"149\" y=\"603.0669\">y</text></a><!--MD5=[23ac544a70576c3e717098101004234c]\n",
       "reverse link E9 to E10--><a href=\"psysml:bbec5841-3ffd-488b-b643-01adfe752a25\" target=\"_top\" title=\"psysml:bbec5841-3ffd-488b-b643-01adfe752a25\" xlink:actuate=\"onRequest\" xlink:href=\"psysml:bbec5841-3ffd-488b-b643-01adfe752a25\" xlink:show=\"new\" xlink:title=\"psysml:bbec5841-3ffd-488b-b643-01adfe752a25\" xlink:type=\"simple\"><path d=\"M84.39,99.1 C77.56,115.03 69.63,133.54 63.58,147.66 \" fill=\"none\" id=\"E9&lt;-E10\" style=\"stroke: #A80036; stroke-width: 1.0;\"/><polygon fill=\"#FFFFFF\" points=\"89.57,87.01,83.5327,90.9535,84.8509,98.0431,90.8882,94.0996,89.57,87.01\" style=\"stroke: #A80036; stroke-width: 1.0;\"/><text fill=\"#000000\" font-family=\"sans-serif\" font-size=\"13\" lengthAdjust=\"spacingAndGlyphs\" textLength=\"8\" x=\"57.0099\" y=\"136.8492\">1</text></a><!--MD5=[feeac5eb423634930294aa81f2d25a4c]\n",
       "link E10 to E3--><a href=\"psysml:fb12afbf-9138-40ff-bf3b-75b81b096774\" target=\"_top\" title=\"psysml:fb12afbf-9138-40ff-bf3b-75b81b096774\" xlink:actuate=\"onRequest\" xlink:href=\"psysml:fb12afbf-9138-40ff-bf3b-75b81b096774\" xlink:show=\"new\" xlink:title=\"psysml:fb12afbf-9138-40ff-bf3b-75b81b096774\" xlink:type=\"simple\"><path d=\"M70.35,194.01 C79.86,206.81 92.11,223.3 103.18,238.2 \" fill=\"none\" id=\"E10-&gt;E3\" style=\"stroke: #A80036; stroke-width: 1.0;\"/><polygon fill=\"#FFFFFF\" points=\"115.4,254.66,98.4457,243.5896,109.6805,235.2361,115.4,254.66\" style=\"stroke: #A80036; stroke-width: 1.0;\"/><ellipse cx=\"96.6496\" cy=\"237.8221\" fill=\"#A80036\" rx=\"2\" ry=\"2\" style=\"stroke: #A80036; stroke-width: 1.0;\"/><ellipse cx=\"104.6744\" cy=\"231.8554\" fill=\"#A80036\" rx=\"2\" ry=\"2\" style=\"stroke: #A80036; stroke-width: 1.0;\"/></a><!--MD5=[1fc04a95fd77ad5ce46c1a3027516051]\n",
       "reverse link E9 to E11--><a href=\"psysml:20edee2c-da5c-4ff9-9cec-febcc5f58071\" target=\"_top\" title=\"psysml:20edee2c-da5c-4ff9-9cec-febcc5f58071\" xlink:actuate=\"onRequest\" xlink:href=\"psysml:20edee2c-da5c-4ff9-9cec-febcc5f58071\" xlink:show=\"new\" xlink:title=\"psysml:20edee2c-da5c-4ff9-9cec-febcc5f58071\" xlink:type=\"simple\"><path d=\"M109.87,99.57 C114.84,115.39 120.59,133.68 124.98,147.66 \" fill=\"none\" id=\"E9&lt;-E11\" style=\"stroke: #A80036; stroke-width: 1.0;\"/><polygon fill=\"#FFFFFF\" points=\"105.92,87.01,103.9044,93.9337,109.5203,98.4572,111.5359,91.5335,105.92,87.01\" style=\"stroke: #A80036; stroke-width: 1.0;\"/><text fill=\"#000000\" font-family=\"sans-serif\" font-size=\"13\" lengthAdjust=\"spacingAndGlyphs\" textLength=\"8\" x=\"114.1561\" y=\"136.8492\">1</text></a><!--MD5=[0517f1ce58c4d5483948f93845c45e26]\n",
       "link E11 to E3--><a href=\"psysml:6098403c-f8e4-4c64-8bc6-7f6e4aceb826\" target=\"_top\" title=\"psysml:6098403c-f8e4-4c64-8bc6-7f6e4aceb826\" xlink:actuate=\"onRequest\" xlink:href=\"psysml:6098403c-f8e4-4c64-8bc6-7f6e4aceb826\" xlink:show=\"new\" xlink:title=\"psysml:6098403c-f8e4-4c64-8bc6-7f6e4aceb826\" xlink:type=\"simple\"><path d=\"M132,194.01 C132,205.69 132,220.46 132,234.28 \" fill=\"none\" id=\"E11-&gt;E3\" style=\"stroke: #A80036; stroke-width: 1.0;\"/><polygon fill=\"#FFFFFF\" points=\"132,254.66,125,235.66,139,235.66,132,254.66\" style=\"stroke: #A80036; stroke-width: 1.0;\"/><ellipse cx=\"127\" cy=\"229.96\" fill=\"#A80036\" rx=\"2\" ry=\"2\" style=\"stroke: #A80036; stroke-width: 1.0;\"/><ellipse cx=\"137\" cy=\"229.96\" fill=\"#A80036\" rx=\"2\" ry=\"2\" style=\"stroke: #A80036; stroke-width: 1.0;\"/></a><!--MD5=[af743aa221c57127914618ec843fef83]\n",
       "@startuml\r\n",
       "skinparam wrapWidth 300\r\n",
       "hide circle\r\n",
       "\r\n",
       "package \"ItemTest\" as E1  [[psysml:05177c11-5394-41b2-a0a0-71a4c06ed611 ]]  {\r\n",
       "comp usage \"f: A \" as E2  <<(T,blue) item>> [[psysml:9b37ce48-aa06-4adb-ba3b-3b1410731947 ]] {\r\n",
       "}\r\n",
       "comp def \"A\" as E3  <<(T,blue) item  def>> [[psysml:373f36dd-9125-4f4d-9beb-8d6cd21e1469 ]] {\r\n",
       "}\r\n",
       "comp usage \"b: B \" as E4  <<(T,blue) item>> [[psysml:130e11a2-3d5f-4cd9-b0cd-9225a7528360 ]] {\r\n",
       "}\r\n",
       "comp usage \"c: C \" as E5  <<(T,blue) part>> [[psysml:80ae9a50-ac1f-4423-b935-68d8f5716f01 ]] {\r\n",
       "}\r\n",
       "comp def \"<i>B</i>\" as E6  <<(T,blue) item  def>> [[psysml:7d838d86-0408-4401-9cbf-32b733f3993a ]] {\r\n",
       "}\r\n",
       "comp usage \"<i>a</i>: A \" as E7  <<(T,blue) part>> [[psysml:d06b8fcb-8cda-493c-875d-bdf01ed715df ]] {\r\n",
       "}\r\n",
       "comp def \"C\" as E8  <<(T,blue) part  def>> [[psysml:a2efb8df-7581-49ed-b24f-8030c12b0405 ]] {\r\n",
       "}\r\n",
       "comp def \"P\" as E9  <<(T,blue) port  def>> [[psysml:91f3ce36-c57b-44eb-a625-32b1f3011842 ]] {\r\n",
       "}\r\n",
       "comp usage \"a1: A \" as E10  <<(T,blue) item>> [[psysml:5a8db81a-c733-4c6f-be90-4f9ffe214caa ]] {\r\n",
       "}\r\n",
       "comp usage \"a2: A \" as E11  <<(T,blue) item>> [[psysml:50797105-d3dc-4af6-be0e-986a23cb6cc7 ]] {\r\n",
       "}\r\n",
       "}\r\n",
       "E2 - -:|> E3 [[psysml:2d349f36-3ef3-481f-a80c-9f5be02d82e3 ]] \r\n",
       "E3 *- - \"1\"E4 [[psysml:1fc0b9c6-f917-494b-8539-e8a30a151a21 ]] \r\n",
       "E3 o- - \"1\"E5 [[psysml:1188b8bd-fcbe-4041-bfa3-3c6757b772de ]] \r\n",
       "E4 - -:|> E6 [[psysml:b444802f-fd06-4322-964d-2bd41504258e ]] \r\n",
       "E6 *- - \"1\"E7 [[psysml:fe8fc95e-22bb-46d1-b0fd-61d73c45474f ]] \r\n",
       "E7 - -:|> E3 [[psysml:599ea15b-bb0f-4f03-a502-f2e1a3a71e91 ]] \r\n",
       "E5 - -:|> E8 [[psysml:ebb03462-10dd-4a39-86ac-c1648f226bb6 ]] \r\n",
       "E8 o- - E3 [[psysml:4ca20137-091c-4af4-8b05-aa2379f8c92e ]] : y\r\n",
       "E8 o- - E6 [[psysml:4ca20137-091c-4af4-8b05-aa2379f8c92e ]] : y\r\n",
       "E9 o- - \"1\"E10 [[psysml:bbec5841-3ffd-488b-b643-01adfe752a25 ]] \r\n",
       "E10 - -:|> E3 [[psysml:fb12afbf-9138-40ff-bf3b-75b81b096774 ]] \r\n",
       "E9 o- - \"1\"E11 [[psysml:20edee2c-da5c-4ff9-9cec-febcc5f58071 ]] \r\n",
       "E11 - -:|> E3 [[psysml:6098403c-f8e4-4c64-8bc6-7f6e4aceb826 ]] \r\n",
       "@enduml\r\n",
       "\n",
       "PlantUML version 1.2020.13(Sat Jun 13 12:26:38 UTC 2020)\n",
       "(EPL source distribution)\n",
       "Java Runtime: OpenJDK Runtime Environment\n",
       "JVM: OpenJDK 64-Bit Server VM\n",
       "Default Encoding: UTF-8\n",
       "Language: en\n",
       "Country: null\n",
       "--></g></svg>"
      ]
     },
     "execution_count": 23,
     "metadata": {},
     "output_type": "execute_result"
    }
   ],
   "source": [
    "%viz --style=\"STDCOLOR\" --view=\"Default\" \"ItemTest\""
   ]
  },
  {
   "cell_type": "code",
   "execution_count": 24,
   "id": "259cf780",
   "metadata": {
    "execution": {
     "iopub.execute_input": "2022-04-22T09:48:24.723708Z",
     "iopub.status.busy": "2022-04-22T09:48:24.723382Z",
     "iopub.status.idle": "2022-04-22T09:48:24.772674Z",
     "shell.execute_reply": "2022-04-22T09:48:24.771161Z"
    }
   },
   "outputs": [
    {
     "data": {
      "image/svg+xml": [
       "<?xml version=\"1.0\" encoding=\"UTF-8\" standalone=\"no\"?><svg xmlns=\"http://www.w3.org/2000/svg\" xmlns:xlink=\"http://www.w3.org/1999/xlink\" contentScriptType=\"application/ecmascript\" contentStyleType=\"text/css\" height=\"818px\" preserveAspectRatio=\"none\" style=\"width:270px;height:818px;\" version=\"1.1\" viewBox=\"0 0 270 818\" width=\"270px\" zoomAndPan=\"magnify\"><defs><filter height=\"300%\" id=\"f2h02z9m7vvrd\" width=\"300%\" x=\"-1\" y=\"-1\"><feGaussianBlur result=\"blurOut\" stdDeviation=\"2.0\"/><feColorMatrix in=\"blurOut\" result=\"blurOut2\" type=\"matrix\" values=\"0 0 0 0 0 0 0 0 0 0 0 0 0 0 0 0 0 0 .4 0\"/><feOffset dx=\"4.0\" dy=\"4.0\" in=\"blurOut2\" result=\"blurOut3\"/><feBlend in=\"SourceGraphic\" in2=\"blurOut3\" mode=\"normal\"/></filter></defs><g><!--MD5=[fbc87193dbaf4d95561dea2c320d4a47]\n",
       "cluster E1--><a href=\"psysml:05177c11-5394-41b2-a0a0-71a4c06ed611\" target=\"_top\" title=\"psysml:05177c11-5394-41b2-a0a0-71a4c06ed611\" xlink:actuate=\"onRequest\" xlink:href=\"psysml:05177c11-5394-41b2-a0a0-71a4c06ed611\" xlink:show=\"new\" xlink:title=\"psysml:05177c11-5394-41b2-a0a0-71a4c06ed611\" xlink:type=\"simple\"><polygon fill=\"#FFFFFF\" filter=\"url(#f2h02z9m7vvrd)\" points=\"16,6,83,6,90,28.2969,248,28.2969,248,806,16,806,16,6\" style=\"stroke: #000000; stroke-width: 1.5;\"/><line style=\"stroke: #000000; stroke-width: 1.5;\" x1=\"16\" x2=\"90\" y1=\"28.2969\" y2=\"28.2969\"/><text fill=\"#000000\" font-family=\"sans-serif\" font-size=\"14\" font-weight=\"bold\" lengthAdjust=\"spacingAndGlyphs\" textLength=\"61\" x=\"20\" y=\"20.9951\">ItemTest</text></a><!--MD5=[b4997ac47864f28c2f74865a473b2911]\n",
       "class E2--><a href=\"psysml:9b37ce48-aa06-4adb-ba3b-3b1410731947\" target=\"_top\" title=\"psysml:9b37ce48-aa06-4adb-ba3b-3b1410731947\" xlink:actuate=\"onRequest\" xlink:href=\"psysml:9b37ce48-aa06-4adb-ba3b-3b1410731947\" xlink:show=\"new\" xlink:title=\"psysml:9b37ce48-aa06-4adb-ba3b-3b1410731947\" xlink:type=\"simple\"><rect fill=\"#FEFECE\" filter=\"url(#f2h02z9m7vvrd)\" height=\"45.9375\" id=\"E2\" rx=\"10\" ry=\"10\" style=\"stroke: #A80036; stroke-width: 1.5;\" width=\"43\" x=\"188.5\" y=\"148\"/><text fill=\"#000000\" font-family=\"sans-serif\" font-size=\"12\" font-style=\"italic\" lengthAdjust=\"spacingAndGlyphs\" textLength=\"41\" x=\"189.5\" y=\"164.1387\">«item»</text><text fill=\"#000000\" font-family=\"sans-serif\" font-size=\"12\" lengthAdjust=\"spacingAndGlyphs\" textLength=\"20\" x=\"198\" y=\"178.1074\">f: A</text><line style=\"stroke: #A80036; stroke-width: 1.5;\" x1=\"189.5\" x2=\"230.5\" y1=\"185.9375\" y2=\"185.9375\"/></a><!--MD5=[09b614a08d8cba4a07c9adeb5e0fee81]\n",
       "class E3--><a href=\"psysml:373f36dd-9125-4f4d-9beb-8d6cd21e1469\" target=\"_top\" title=\"psysml:373f36dd-9125-4f4d-9beb-8d6cd21e1469\" xlink:actuate=\"onRequest\" xlink:href=\"psysml:373f36dd-9125-4f4d-9beb-8d6cd21e1469\" xlink:show=\"new\" xlink:title=\"psysml:373f36dd-9125-4f4d-9beb-8d6cd21e1469\" xlink:type=\"simple\"><rect fill=\"#FEFECE\" filter=\"url(#f2h02z9m7vvrd)\" height=\"45.9375\" id=\"E3\" style=\"stroke: #A80036; stroke-width: 1.5;\" width=\"71\" x=\"96.5\" y=\"255\"/><text fill=\"#000000\" font-family=\"sans-serif\" font-size=\"12\" font-style=\"italic\" lengthAdjust=\"spacingAndGlyphs\" textLength=\"69\" x=\"97.5\" y=\"271.1387\">«item  def»</text><text fill=\"#000000\" font-family=\"sans-serif\" font-size=\"12\" lengthAdjust=\"spacingAndGlyphs\" textLength=\"8\" x=\"128\" y=\"285.1074\">A</text><line style=\"stroke: #A80036; stroke-width: 1.5;\" x1=\"97.5\" x2=\"166.5\" y1=\"292.9375\" y2=\"292.9375\"/></a><!--MD5=[ebbe1d658d1005bcc118a6aa81145e00]\n",
       "class E4--><a href=\"psysml:130e11a2-3d5f-4cd9-b0cd-9225a7528360\" target=\"_top\" title=\"psysml:130e11a2-3d5f-4cd9-b0cd-9225a7528360\" xlink:actuate=\"onRequest\" xlink:href=\"psysml:130e11a2-3d5f-4cd9-b0cd-9225a7528360\" xlink:show=\"new\" xlink:title=\"psysml:130e11a2-3d5f-4cd9-b0cd-9225a7528360\" xlink:type=\"simple\"><rect fill=\"#FEFECE\" filter=\"url(#f2h02z9m7vvrd)\" height=\"45.9375\" id=\"E4\" rx=\"10\" ry=\"10\" style=\"stroke: #A80036; stroke-width: 1.5;\" width=\"43\" x=\"45.5\" y=\"438\"/><text fill=\"#000000\" font-family=\"sans-serif\" font-size=\"12\" font-style=\"italic\" lengthAdjust=\"spacingAndGlyphs\" textLength=\"41\" x=\"46.5\" y=\"454.1387\">«item»</text><text fill=\"#000000\" font-family=\"sans-serif\" font-size=\"12\" lengthAdjust=\"spacingAndGlyphs\" textLength=\"24\" x=\"53\" y=\"468.1074\">b: B</text><line style=\"stroke: #A80036; stroke-width: 1.5;\" x1=\"46.5\" x2=\"87.5\" y1=\"475.9375\" y2=\"475.9375\"/></a><!--MD5=[270fce915f116d4de14055a7c1d9a0f3]\n",
       "class E5--><a href=\"psysml:80ae9a50-ac1f-4423-b935-68d8f5716f01\" target=\"_top\" title=\"psysml:80ae9a50-ac1f-4423-b935-68d8f5716f01\" xlink:actuate=\"onRequest\" xlink:href=\"psysml:80ae9a50-ac1f-4423-b935-68d8f5716f01\" xlink:show=\"new\" xlink:title=\"psysml:80ae9a50-ac1f-4423-b935-68d8f5716f01\" xlink:type=\"simple\"><rect fill=\"#FEFECE\" filter=\"url(#f2h02z9m7vvrd)\" height=\"45.9375\" id=\"E5\" rx=\"10\" ry=\"10\" style=\"stroke: #A80036; stroke-width: 1.5;\" width=\"42\" x=\"151\" y=\"362\"/><text fill=\"#000000\" font-family=\"sans-serif\" font-size=\"12\" font-style=\"italic\" lengthAdjust=\"spacingAndGlyphs\" textLength=\"40\" x=\"152\" y=\"378.1387\">«part»</text><text fill=\"#000000\" font-family=\"sans-serif\" font-size=\"12\" lengthAdjust=\"spacingAndGlyphs\" textLength=\"23\" x=\"158.5\" y=\"392.1074\">c: C</text><line style=\"stroke: #A80036; stroke-width: 1.5;\" x1=\"152\" x2=\"192\" y1=\"399.9375\" y2=\"399.9375\"/></a><!--MD5=[60a26617385b1d2d0262a64233df1f8d]\n",
       "class E6--><a href=\"psysml:7d838d86-0408-4401-9cbf-32b733f3993a\" target=\"_top\" title=\"psysml:7d838d86-0408-4401-9cbf-32b733f3993a\" xlink:actuate=\"onRequest\" xlink:href=\"psysml:7d838d86-0408-4401-9cbf-32b733f3993a\" xlink:show=\"new\" xlink:title=\"psysml:7d838d86-0408-4401-9cbf-32b733f3993a\" xlink:type=\"simple\"><rect fill=\"#FEFECE\" filter=\"url(#f2h02z9m7vvrd)\" height=\"45.9375\" id=\"E6\" style=\"stroke: #A80036; stroke-width: 1.5;\" width=\"71\" x=\"112.5\" y=\"637\"/><text fill=\"#000000\" font-family=\"sans-serif\" font-size=\"12\" font-style=\"italic\" lengthAdjust=\"spacingAndGlyphs\" textLength=\"69\" x=\"113.5\" y=\"653.1387\">«item  def»</text><text fill=\"#000000\" font-family=\"sans-serif\" font-size=\"12\" font-style=\"italic\" lengthAdjust=\"spacingAndGlyphs\" textLength=\"8\" x=\"144\" y=\"667.1074\">B</text><line style=\"stroke: #A80036; stroke-width: 1.5;\" x1=\"113.5\" x2=\"182.5\" y1=\"674.9375\" y2=\"674.9375\"/></a><!--MD5=[2156ba9850f5573cc1fc38a6a4b2f02b]\n",
       "class E7--><a href=\"psysml:d06b8fcb-8cda-493c-875d-bdf01ed715df\" target=\"_top\" title=\"psysml:d06b8fcb-8cda-493c-875d-bdf01ed715df\" xlink:actuate=\"onRequest\" xlink:href=\"psysml:d06b8fcb-8cda-493c-875d-bdf01ed715df\" xlink:show=\"new\" xlink:title=\"psysml:d06b8fcb-8cda-493c-875d-bdf01ed715df\" xlink:type=\"simple\"><rect fill=\"#FEFECE\" filter=\"url(#f2h02z9m7vvrd)\" height=\"45.9375\" id=\"E7\" rx=\"10\" ry=\"10\" style=\"stroke: #A80036; stroke-width: 1.5;\" width=\"42\" x=\"159\" y=\"744\"/><text fill=\"#000000\" font-family=\"sans-serif\" font-size=\"12\" font-style=\"italic\" lengthAdjust=\"spacingAndGlyphs\" textLength=\"40\" x=\"160\" y=\"760.1387\">«part»</text><text fill=\"#000000\" font-family=\"sans-serif\" font-size=\"12\" font-style=\"italic\" lengthAdjust=\"spacingAndGlyphs\" textLength=\"8\" x=\"166\" y=\"774.1074\">a</text><text fill=\"#000000\" font-family=\"sans-serif\" font-size=\"12\" lengthAdjust=\"spacingAndGlyphs\" textLength=\"16\" x=\"174\" y=\"774.1074\">: A</text><line style=\"stroke: #A80036; stroke-width: 1.5;\" x1=\"160\" x2=\"200\" y1=\"781.9375\" y2=\"781.9375\"/></a><!--MD5=[b9389687b975829384b498ac4b7476b2]\n",
       "class E8--><a href=\"psysml:a2efb8df-7581-49ed-b24f-8030c12b0405\" target=\"_top\" title=\"psysml:a2efb8df-7581-49ed-b24f-8030c12b0405\" xlink:actuate=\"onRequest\" xlink:href=\"psysml:a2efb8df-7581-49ed-b24f-8030c12b0405\" xlink:show=\"new\" xlink:title=\"psysml:a2efb8df-7581-49ed-b24f-8030c12b0405\" xlink:type=\"simple\"><rect fill=\"#FEFECE\" filter=\"url(#f2h02z9m7vvrd)\" height=\"45.9375\" id=\"E8\" style=\"stroke: #A80036; stroke-width: 1.5;\" width=\"70\" x=\"113\" y=\"514\"/><text fill=\"#000000\" font-family=\"sans-serif\" font-size=\"12\" font-style=\"italic\" lengthAdjust=\"spacingAndGlyphs\" textLength=\"68\" x=\"114\" y=\"530.1387\">«part  def»</text><text fill=\"#000000\" font-family=\"sans-serif\" font-size=\"12\" lengthAdjust=\"spacingAndGlyphs\" textLength=\"8\" x=\"144\" y=\"544.1074\">C</text><line style=\"stroke: #A80036; stroke-width: 1.5;\" x1=\"114\" x2=\"182\" y1=\"551.9375\" y2=\"551.9375\"/></a><!--MD5=[fd4143e9d270a159db93a4ea2a975926]\n",
       "class E9--><a href=\"psysml:91f3ce36-c57b-44eb-a625-32b1f3011842\" target=\"_top\" title=\"psysml:91f3ce36-c57b-44eb-a625-32b1f3011842\" xlink:actuate=\"onRequest\" xlink:href=\"psysml:91f3ce36-c57b-44eb-a625-32b1f3011842\" xlink:show=\"new\" xlink:title=\"psysml:91f3ce36-c57b-44eb-a625-32b1f3011842\" xlink:type=\"simple\"><rect fill=\"#FEFECE\" filter=\"url(#f2h02z9m7vvrd)\" height=\"45.9375\" id=\"E9\" style=\"stroke: #A80036; stroke-width: 1.5;\" width=\"70\" x=\"64\" y=\"41\"/><text fill=\"#000000\" font-family=\"sans-serif\" font-size=\"12\" font-style=\"italic\" lengthAdjust=\"spacingAndGlyphs\" textLength=\"68\" x=\"65\" y=\"57.1387\">«port  def»</text><text fill=\"#000000\" font-family=\"sans-serif\" font-size=\"12\" lengthAdjust=\"spacingAndGlyphs\" textLength=\"8\" x=\"95\" y=\"71.1074\">P</text><line style=\"stroke: #A80036; stroke-width: 1.5;\" x1=\"65\" x2=\"133\" y1=\"78.9375\" y2=\"78.9375\"/></a><!--MD5=[96f4274e9e20536e775497830990834d]\n",
       "class E10--><a href=\"psysml:5a8db81a-c733-4c6f-be90-4f9ffe214caa\" target=\"_top\" title=\"psysml:5a8db81a-c733-4c6f-be90-4f9ffe214caa\" xlink:actuate=\"onRequest\" xlink:href=\"psysml:5a8db81a-c733-4c6f-be90-4f9ffe214caa\" xlink:show=\"new\" xlink:title=\"psysml:5a8db81a-c733-4c6f-be90-4f9ffe214caa\" xlink:type=\"simple\"><rect fill=\"#FEFECE\" filter=\"url(#f2h02z9m7vvrd)\" height=\"45.9375\" id=\"E10\" rx=\"10\" ry=\"10\" style=\"stroke: #A80036; stroke-width: 1.5;\" width=\"43\" x=\"32.5\" y=\"148\"/><text fill=\"#000000\" font-family=\"sans-serif\" font-size=\"12\" font-style=\"italic\" lengthAdjust=\"spacingAndGlyphs\" textLength=\"41\" x=\"33.5\" y=\"164.1387\">«item»</text><text fill=\"#000000\" font-family=\"sans-serif\" font-size=\"12\" lengthAdjust=\"spacingAndGlyphs\" textLength=\"32\" x=\"36\" y=\"178.1074\">a1: A</text><line style=\"stroke: #A80036; stroke-width: 1.5;\" x1=\"33.5\" x2=\"74.5\" y1=\"185.9375\" y2=\"185.9375\"/></a><!--MD5=[1dd1bfd58a279cf63c5f349dbc8fc6a1]\n",
       "class E11--><a href=\"psysml:50797105-d3dc-4af6-be0e-986a23cb6cc7\" target=\"_top\" title=\"psysml:50797105-d3dc-4af6-be0e-986a23cb6cc7\" xlink:actuate=\"onRequest\" xlink:href=\"psysml:50797105-d3dc-4af6-be0e-986a23cb6cc7\" xlink:show=\"new\" xlink:title=\"psysml:50797105-d3dc-4af6-be0e-986a23cb6cc7\" xlink:type=\"simple\"><rect fill=\"#FEFECE\" filter=\"url(#f2h02z9m7vvrd)\" height=\"45.9375\" id=\"E11\" rx=\"10\" ry=\"10\" style=\"stroke: #A80036; stroke-width: 1.5;\" width=\"43\" x=\"110.5\" y=\"148\"/><text fill=\"#000000\" font-family=\"sans-serif\" font-size=\"12\" font-style=\"italic\" lengthAdjust=\"spacingAndGlyphs\" textLength=\"41\" x=\"111.5\" y=\"164.1387\">«item»</text><text fill=\"#000000\" font-family=\"sans-serif\" font-size=\"12\" lengthAdjust=\"spacingAndGlyphs\" textLength=\"32\" x=\"114\" y=\"178.1074\">a2: A</text><line style=\"stroke: #A80036; stroke-width: 1.5;\" x1=\"111.5\" x2=\"152.5\" y1=\"185.9375\" y2=\"185.9375\"/></a><!--MD5=[2720a5a1f2c3fca2055b230370638851]\n",
       "link E2 to E3--><a href=\"psysml:2d349f36-3ef3-481f-a80c-9f5be02d82e3\" target=\"_top\" title=\"psysml:2d349f36-3ef3-481f-a80c-9f5be02d82e3\" xlink:actuate=\"onRequest\" xlink:href=\"psysml:2d349f36-3ef3-481f-a80c-9f5be02d82e3\" xlink:show=\"new\" xlink:title=\"psysml:2d349f36-3ef3-481f-a80c-9f5be02d82e3\" xlink:type=\"simple\"><path d=\"M193.65,194.01 C184.14,206.81 171.89,223.3 160.82,238.2 \" fill=\"none\" id=\"E2-&gt;E3\" style=\"stroke: #A80036; stroke-width: 1.0;\"/><polygon fill=\"#FFFFFF\" points=\"148.6,254.66,154.3195,235.2361,165.5543,243.5896,148.6,254.66\" style=\"stroke: #A80036; stroke-width: 1.0;\"/><ellipse cx=\"159.3256\" cy=\"231.8554\" fill=\"#A80036\" rx=\"2\" ry=\"2\" style=\"stroke: #A80036; stroke-width: 1.0;\"/><ellipse cx=\"167.3504\" cy=\"237.8221\" fill=\"#A80036\" rx=\"2\" ry=\"2\" style=\"stroke: #A80036; stroke-width: 1.0;\"/></a><!--MD5=[4672eba38e49728da53d11aeb285b987]\n",
       "reverse link E3 to E4--><a href=\"psysml:1fc0b9c6-f917-494b-8539-e8a30a151a21\" target=\"_top\" title=\"psysml:1fc0b9c6-f917-494b-8539-e8a30a151a21\" xlink:actuate=\"onRequest\" xlink:href=\"psysml:1fc0b9c6-f917-494b-8539-e8a30a151a21\" xlink:show=\"new\" xlink:title=\"psysml:1fc0b9c6-f917-494b-8539-e8a30a151a21\" xlink:type=\"simple\"><path d=\"M97.11,310.9 C84.08,325.11 70.81,342.94 64,362 C55.12,386.85 58.09,417.53 61.82,437.88 \" fill=\"none\" id=\"E3&lt;-E4\" style=\"stroke: #A80036; stroke-width: 1.0;\"/><polygon fill=\"#A80036\" points=\"106.46,301.23,99.4153,302.7703,98.1277,309.8655,105.1724,308.3252,106.46,301.23\" style=\"stroke: #A80036; stroke-width: 1.0;\"/><text fill=\"#000000\" font-family=\"sans-serif\" font-size=\"13\" lengthAdjust=\"spacingAndGlyphs\" textLength=\"8\" x=\"51.3529\" y=\"426.744\">1</text></a><!--MD5=[191cde3d490a3f6d7bb551fe3ddca469]\n",
       "reverse link E3 to E5--><a href=\"psysml:1188b8bd-fcbe-4041-bfa3-3c6757b772de\" target=\"_top\" title=\"psysml:1188b8bd-fcbe-4041-bfa3-3c6757b772de\" xlink:actuate=\"onRequest\" xlink:href=\"psysml:1188b8bd-fcbe-4041-bfa3-3c6757b772de\" xlink:show=\"new\" xlink:title=\"psysml:1188b8bd-fcbe-4041-bfa3-3c6757b772de\" xlink:type=\"simple\"><path d=\"M145.17,313.57 C151.2,329.39 158.16,347.68 163.49,361.66 \" fill=\"none\" id=\"E3&lt;-E5\" style=\"stroke: #A80036; stroke-width: 1.0;\"/><polygon fill=\"#FFFFFF\" points=\"140.39,301.01,138.7866,308.0406,144.6598,312.2247,146.2631,305.1941,140.39,301.01\" style=\"stroke: #A80036; stroke-width: 1.0;\"/><text fill=\"#000000\" font-family=\"sans-serif\" font-size=\"13\" lengthAdjust=\"spacingAndGlyphs\" textLength=\"8\" x=\"152.2843\" y=\"350.8492\">1</text></a><!--MD5=[79568f1e445c3877b6a54524624ccc7d]\n",
       "link E4 to E6--><a href=\"psysml:b444802f-fd06-4322-964d-2bd41504258e\" target=\"_top\" title=\"psysml:b444802f-fd06-4322-964d-2bd41504258e\" xlink:actuate=\"onRequest\" xlink:href=\"psysml:b444802f-fd06-4322-964d-2bd41504258e\" xlink:show=\"new\" xlink:title=\"psysml:b444802f-fd06-4322-964d-2bd41504258e\" xlink:type=\"simple\"><path d=\"M72.25,484.22 C77.31,504.36 85.72,534.68 96,560 C104.15,580.08 115.08,601.47 124.82,619.21 \" fill=\"none\" id=\"E4-&gt;E6\" style=\"stroke: #A80036; stroke-width: 1.0;\"/><polygon fill=\"#FFFFFF\" points=\"134.72,636.8,119.2979,623.6791,131.4967,616.8097,134.72,636.8\" style=\"stroke: #A80036; stroke-width: 1.0;\"/><ellipse cx=\"118.2438\" cy=\"617.7311\" fill=\"#A80036\" rx=\"2\" ry=\"2\" style=\"stroke: #A80036; stroke-width: 1.0;\"/><ellipse cx=\"126.9572\" cy=\"612.8244\" fill=\"#A80036\" rx=\"2\" ry=\"2\" style=\"stroke: #A80036; stroke-width: 1.0;\"/></a><!--MD5=[3f50a3473f1dfb74d3f76443e03635af]\n",
       "reverse link E6 to E7--><a href=\"psysml:fe8fc95e-22bb-46d1-b0fd-61d73c45474f\" target=\"_top\" title=\"psysml:fe8fc95e-22bb-46d1-b0fd-61d73c45474f\" xlink:actuate=\"onRequest\" xlink:href=\"psysml:fe8fc95e-22bb-46d1-b0fd-61d73c45474f\" xlink:show=\"new\" xlink:title=\"psysml:fe8fc95e-22bb-46d1-b0fd-61d73c45474f\" xlink:type=\"simple\"><path d=\"M158.54,695.57 C163.36,711.39 168.93,729.68 173.19,743.66 \" fill=\"none\" id=\"E6&lt;-E7\" style=\"stroke: #A80036; stroke-width: 1.0;\"/><polygon fill=\"#A80036\" points=\"154.71,683.01,152.6319,689.9152,158.2066,694.4893,160.2847,687.5841,154.71,683.01\" style=\"stroke: #A80036; stroke-width: 1.0;\"/><text fill=\"#000000\" font-family=\"sans-serif\" font-size=\"13\" lengthAdjust=\"spacingAndGlyphs\" textLength=\"8\" x=\"162.4199\" y=\"732.8492\">1</text></a><!--MD5=[14ccda38c055a5c0da953d572bc50960]\n",
       "link E7 to E3--><a href=\"psysml:599ea15b-bb0f-4f03-a502-f2e1a3a71e91\" target=\"_top\" title=\"psysml:599ea15b-bb0f-4f03-a502-f2e1a3a71e91\" xlink:actuate=\"onRequest\" xlink:href=\"psysml:599ea15b-bb0f-4f03-a502-f2e1a3a71e91\" xlink:show=\"new\" xlink:title=\"psysml:599ea15b-bb0f-4f03-a502-f2e1a3a71e91\" xlink:type=\"simple\"><path d=\"M197.41,743.63 C211.5,723.27 229,691.78 229,661 C229,384 229,384 229,384 C229,353.7 206.93,328.42 183.85,310.26 \" fill=\"none\" id=\"E7-&gt;E3\" style=\"stroke: #A80036; stroke-width: 1.0;\"/><polygon fill=\"#FFFFFF\" points=\"167.57,298.59,187.0929,303.9617,178.9414,315.3438,167.57,298.59\" style=\"stroke: #A80036; stroke-width: 1.0;\"/><ellipse cx=\"190.5626\" cy=\"308.9066\" fill=\"#A80036\" rx=\"2\" ry=\"2\" style=\"stroke: #A80036; stroke-width: 1.0;\"/><ellipse cx=\"184.7401\" cy=\"317.0367\" fill=\"#A80036\" rx=\"2\" ry=\"2\" style=\"stroke: #A80036; stroke-width: 1.0;\"/></a><!--MD5=[dfaffb906826c3e5aca635516100ff21]\n",
       "link E5 to E8--><a href=\"psysml:ebb03462-10dd-4a39-86ac-c1648f226bb6\" target=\"_top\" title=\"psysml:ebb03462-10dd-4a39-86ac-c1648f226bb6\" xlink:actuate=\"onRequest\" xlink:href=\"psysml:ebb03462-10dd-4a39-86ac-c1648f226bb6\" xlink:show=\"new\" xlink:title=\"psysml:ebb03462-10dd-4a39-86ac-c1648f226bb6\" xlink:type=\"simple\"><path d=\"M168.46,408.13 C164.86,430.62 159.2,466.01 154.74,493.87 \" fill=\"none\" id=\"E5-&gt;E8\" style=\"stroke: #A80036; stroke-width: 1.0;\"/><polygon fill=\"#FFFFFF\" points=\"151.56,513.78,147.6458,493.9135,161.4704,496.1226,151.56,513.78\" style=\"stroke: #A80036; stroke-width: 1.0;\"/><ellipse cx=\"150.5202\" cy=\"488.6005\" fill=\"#A80036\" rx=\"2\" ry=\"2\" style=\"stroke: #A80036; stroke-width: 1.0;\"/><ellipse cx=\"160.3949\" cy=\"490.1784\" fill=\"#A80036\" rx=\"2\" ry=\"2\" style=\"stroke: #A80036; stroke-width: 1.0;\"/></a><!--MD5=[03c8294790d3c57651a1993cecff665f]\n",
       "reverse link E8 to E3--><a href=\"psysml:4ca20137-091c-4af4-8b05-aa2379f8c92e\" target=\"_top\" title=\"psysml:4ca20137-091c-4af4-8b05-aa2379f8c92e\" xlink:actuate=\"onRequest\" xlink:href=\"psysml:4ca20137-091c-4af4-8b05-aa2379f8c92e\" xlink:show=\"new\" xlink:title=\"psysml:4ca20137-091c-4af4-8b05-aa2379f8c92e\" xlink:type=\"simple\"><path d=\"M140.02,501.22 C134.57,475.6 127.84,439.84 125,408 C123.18,387.64 124.14,382.43 125,362 C125.87,341.34 127.95,317.86 129.62,301.16 \" fill=\"none\" id=\"E8&lt;-E3\" style=\"stroke: #A80036; stroke-width: 1.0;\"/><polygon fill=\"#FFFFFF\" points=\"142.81,513.96,145.4388,507.2451,140.2515,502.2359,137.6227,508.9508,142.81,513.96\" style=\"stroke: #A80036; stroke-width: 1.0;\"/><text fill=\"#000000\" font-family=\"sans-serif\" font-size=\"13\" lengthAdjust=\"spacingAndGlyphs\" textLength=\"7\" x=\"126\" y=\"389.5669\">y</text></a><!--MD5=[0d75d2178373a6a4568e5dc728f58aef]\n",
       "reverse link E8 to E6--><a href=\"psysml:4ca20137-091c-4af4-8b05-aa2379f8c92e\" target=\"_top\" title=\"psysml:4ca20137-091c-4af4-8b05-aa2379f8c92e\" xlink:actuate=\"onRequest\" xlink:href=\"psysml:4ca20137-091c-4af4-8b05-aa2379f8c92e\" xlink:show=\"new\" xlink:title=\"psysml:4ca20137-091c-4af4-8b05-aa2379f8c92e\" xlink:type=\"simple\"><path d=\"M148,573.22 C148,593.81 148,619.16 148,636.95 \" fill=\"none\" id=\"E8&lt;-E6\" style=\"stroke: #A80036; stroke-width: 1.0;\"/><polygon fill=\"#FFFFFF\" points=\"148,560.19,144,566.19,148,572.19,152,566.19,148,560.19\" style=\"stroke: #A80036; stroke-width: 1.0;\"/><text fill=\"#000000\" font-family=\"sans-serif\" font-size=\"13\" lengthAdjust=\"spacingAndGlyphs\" textLength=\"7\" x=\"149\" y=\"603.0669\">y</text></a><!--MD5=[23ac544a70576c3e717098101004234c]\n",
       "reverse link E9 to E10--><a href=\"psysml:bbec5841-3ffd-488b-b643-01adfe752a25\" target=\"_top\" title=\"psysml:bbec5841-3ffd-488b-b643-01adfe752a25\" xlink:actuate=\"onRequest\" xlink:href=\"psysml:bbec5841-3ffd-488b-b643-01adfe752a25\" xlink:show=\"new\" xlink:title=\"psysml:bbec5841-3ffd-488b-b643-01adfe752a25\" xlink:type=\"simple\"><path d=\"M84.39,99.1 C77.56,115.03 69.63,133.54 63.58,147.66 \" fill=\"none\" id=\"E9&lt;-E10\" style=\"stroke: #A80036; stroke-width: 1.0;\"/><polygon fill=\"#FFFFFF\" points=\"89.57,87.01,83.5327,90.9535,84.8509,98.0431,90.8882,94.0996,89.57,87.01\" style=\"stroke: #A80036; stroke-width: 1.0;\"/><text fill=\"#000000\" font-family=\"sans-serif\" font-size=\"13\" lengthAdjust=\"spacingAndGlyphs\" textLength=\"8\" x=\"57.0099\" y=\"136.8492\">1</text></a><!--MD5=[feeac5eb423634930294aa81f2d25a4c]\n",
       "link E10 to E3--><a href=\"psysml:fb12afbf-9138-40ff-bf3b-75b81b096774\" target=\"_top\" title=\"psysml:fb12afbf-9138-40ff-bf3b-75b81b096774\" xlink:actuate=\"onRequest\" xlink:href=\"psysml:fb12afbf-9138-40ff-bf3b-75b81b096774\" xlink:show=\"new\" xlink:title=\"psysml:fb12afbf-9138-40ff-bf3b-75b81b096774\" xlink:type=\"simple\"><path d=\"M70.35,194.01 C79.86,206.81 92.11,223.3 103.18,238.2 \" fill=\"none\" id=\"E10-&gt;E3\" style=\"stroke: #A80036; stroke-width: 1.0;\"/><polygon fill=\"#FFFFFF\" points=\"115.4,254.66,98.4457,243.5896,109.6805,235.2361,115.4,254.66\" style=\"stroke: #A80036; stroke-width: 1.0;\"/><ellipse cx=\"96.6496\" cy=\"237.8221\" fill=\"#A80036\" rx=\"2\" ry=\"2\" style=\"stroke: #A80036; stroke-width: 1.0;\"/><ellipse cx=\"104.6744\" cy=\"231.8554\" fill=\"#A80036\" rx=\"2\" ry=\"2\" style=\"stroke: #A80036; stroke-width: 1.0;\"/></a><!--MD5=[1fc04a95fd77ad5ce46c1a3027516051]\n",
       "reverse link E9 to E11--><a href=\"psysml:20edee2c-da5c-4ff9-9cec-febcc5f58071\" target=\"_top\" title=\"psysml:20edee2c-da5c-4ff9-9cec-febcc5f58071\" xlink:actuate=\"onRequest\" xlink:href=\"psysml:20edee2c-da5c-4ff9-9cec-febcc5f58071\" xlink:show=\"new\" xlink:title=\"psysml:20edee2c-da5c-4ff9-9cec-febcc5f58071\" xlink:type=\"simple\"><path d=\"M109.87,99.57 C114.84,115.39 120.59,133.68 124.98,147.66 \" fill=\"none\" id=\"E9&lt;-E11\" style=\"stroke: #A80036; stroke-width: 1.0;\"/><polygon fill=\"#FFFFFF\" points=\"105.92,87.01,103.9044,93.9337,109.5203,98.4572,111.5359,91.5335,105.92,87.01\" style=\"stroke: #A80036; stroke-width: 1.0;\"/><text fill=\"#000000\" font-family=\"sans-serif\" font-size=\"13\" lengthAdjust=\"spacingAndGlyphs\" textLength=\"8\" x=\"114.1561\" y=\"136.8492\">1</text></a><!--MD5=[0517f1ce58c4d5483948f93845c45e26]\n",
       "link E11 to E3--><a href=\"psysml:6098403c-f8e4-4c64-8bc6-7f6e4aceb826\" target=\"_top\" title=\"psysml:6098403c-f8e4-4c64-8bc6-7f6e4aceb826\" xlink:actuate=\"onRequest\" xlink:href=\"psysml:6098403c-f8e4-4c64-8bc6-7f6e4aceb826\" xlink:show=\"new\" xlink:title=\"psysml:6098403c-f8e4-4c64-8bc6-7f6e4aceb826\" xlink:type=\"simple\"><path d=\"M132,194.01 C132,205.69 132,220.46 132,234.28 \" fill=\"none\" id=\"E11-&gt;E3\" style=\"stroke: #A80036; stroke-width: 1.0;\"/><polygon fill=\"#FFFFFF\" points=\"132,254.66,125,235.66,139,235.66,132,254.66\" style=\"stroke: #A80036; stroke-width: 1.0;\"/><ellipse cx=\"127\" cy=\"229.96\" fill=\"#A80036\" rx=\"2\" ry=\"2\" style=\"stroke: #A80036; stroke-width: 1.0;\"/><ellipse cx=\"137\" cy=\"229.96\" fill=\"#A80036\" rx=\"2\" ry=\"2\" style=\"stroke: #A80036; stroke-width: 1.0;\"/></a><!--MD5=[af743aa221c57127914618ec843fef83]\n",
       "@startuml\r\n",
       "skinparam wrapWidth 300\r\n",
       "hide circle\r\n",
       "\r\n",
       "package \"ItemTest\" as E1  [[psysml:05177c11-5394-41b2-a0a0-71a4c06ed611 ]]  {\r\n",
       "comp usage \"f: A \" as E2  <<(T,blue) item>> [[psysml:9b37ce48-aa06-4adb-ba3b-3b1410731947 ]] {\r\n",
       "}\r\n",
       "comp def \"A\" as E3  <<(T,blue) item  def>> [[psysml:373f36dd-9125-4f4d-9beb-8d6cd21e1469 ]] {\r\n",
       "}\r\n",
       "comp usage \"b: B \" as E4  <<(T,blue) item>> [[psysml:130e11a2-3d5f-4cd9-b0cd-9225a7528360 ]] {\r\n",
       "}\r\n",
       "comp usage \"c: C \" as E5  <<(T,blue) part>> [[psysml:80ae9a50-ac1f-4423-b935-68d8f5716f01 ]] {\r\n",
       "}\r\n",
       "comp def \"<i>B</i>\" as E6  <<(T,blue) item  def>> [[psysml:7d838d86-0408-4401-9cbf-32b733f3993a ]] {\r\n",
       "}\r\n",
       "comp usage \"<i>a</i>: A \" as E7  <<(T,blue) part>> [[psysml:d06b8fcb-8cda-493c-875d-bdf01ed715df ]] {\r\n",
       "}\r\n",
       "comp def \"C\" as E8  <<(T,blue) part  def>> [[psysml:a2efb8df-7581-49ed-b24f-8030c12b0405 ]] {\r\n",
       "}\r\n",
       "comp def \"P\" as E9  <<(T,blue) port  def>> [[psysml:91f3ce36-c57b-44eb-a625-32b1f3011842 ]] {\r\n",
       "}\r\n",
       "comp usage \"a1: A \" as E10  <<(T,blue) item>> [[psysml:5a8db81a-c733-4c6f-be90-4f9ffe214caa ]] {\r\n",
       "}\r\n",
       "comp usage \"a2: A \" as E11  <<(T,blue) item>> [[psysml:50797105-d3dc-4af6-be0e-986a23cb6cc7 ]] {\r\n",
       "}\r\n",
       "}\r\n",
       "E2 - -:|> E3 [[psysml:2d349f36-3ef3-481f-a80c-9f5be02d82e3 ]] \r\n",
       "E3 *- - \"1\"E4 [[psysml:1fc0b9c6-f917-494b-8539-e8a30a151a21 ]] \r\n",
       "E3 o- - \"1\"E5 [[psysml:1188b8bd-fcbe-4041-bfa3-3c6757b772de ]] \r\n",
       "E4 - -:|> E6 [[psysml:b444802f-fd06-4322-964d-2bd41504258e ]] \r\n",
       "E6 *- - \"1\"E7 [[psysml:fe8fc95e-22bb-46d1-b0fd-61d73c45474f ]] \r\n",
       "E7 - -:|> E3 [[psysml:599ea15b-bb0f-4f03-a502-f2e1a3a71e91 ]] \r\n",
       "E5 - -:|> E8 [[psysml:ebb03462-10dd-4a39-86ac-c1648f226bb6 ]] \r\n",
       "E8 o- - E3 [[psysml:4ca20137-091c-4af4-8b05-aa2379f8c92e ]] : y\r\n",
       "E8 o- - E6 [[psysml:4ca20137-091c-4af4-8b05-aa2379f8c92e ]] : y\r\n",
       "E9 o- - \"1\"E10 [[psysml:bbec5841-3ffd-488b-b643-01adfe752a25 ]] \r\n",
       "E10 - -:|> E3 [[psysml:fb12afbf-9138-40ff-bf3b-75b81b096774 ]] \r\n",
       "E9 o- - \"1\"E11 [[psysml:20edee2c-da5c-4ff9-9cec-febcc5f58071 ]] \r\n",
       "E11 - -:|> E3 [[psysml:6098403c-f8e4-4c64-8bc6-7f6e4aceb826 ]] \r\n",
       "@enduml\r\n",
       "\n",
       "PlantUML version 1.2020.13(Sat Jun 13 12:26:38 UTC 2020)\n",
       "(EPL source distribution)\n",
       "Java Runtime: OpenJDK Runtime Environment\n",
       "JVM: OpenJDK 64-Bit Server VM\n",
       "Default Encoding: UTF-8\n",
       "Language: en\n",
       "Country: null\n",
       "--></g></svg>"
      ]
     },
     "execution_count": 24,
     "metadata": {},
     "output_type": "execute_result"
    }
   ],
   "source": [
    "%viz --style=\"STDCOLOR\" --view=\"Tree\" \"ItemTest\""
   ]
  },
  {
   "cell_type": "code",
   "execution_count": 25,
   "id": "5959bd9c",
   "metadata": {
    "execution": {
     "iopub.execute_input": "2022-04-22T09:48:24.822213Z",
     "iopub.status.busy": "2022-04-22T09:48:24.821797Z",
     "iopub.status.idle": "2022-04-22T09:48:24.826156Z",
     "shell.execute_reply": "2022-04-22T09:48:24.826465Z"
    }
   },
   "outputs": [
    {
     "data": {
      "image/svg+xml": [
       "<?xml version=\"1.0\" encoding=\"UTF-8\" standalone=\"no\"?><svg xmlns=\"http://www.w3.org/2000/svg\" xmlns:xlink=\"http://www.w3.org/1999/xlink\" contentScriptType=\"application/ecmascript\" contentStyleType=\"text/css\" height=\"12px\" preserveAspectRatio=\"none\" style=\"width:12px;height:12px;\" version=\"1.1\" viewBox=\"0 0 12 12\" width=\"12px\" zoomAndPan=\"magnify\"><defs/><g><!--MD5=[aeeef50f102b80d730deb6443d14f702]\n",
       "@startuml\r\n",
       "skinparam wrapWidth 300\r\n",
       "hide circle\r\n",
       "\r\n",
       "@enduml\r\n",
       "\n",
       "PlantUML version 1.2020.13(Sat Jun 13 12:26:38 UTC 2020)\n",
       "(EPL source distribution)\n",
       "Java Runtime: OpenJDK Runtime Environment\n",
       "JVM: OpenJDK 64-Bit Server VM\n",
       "Default Encoding: UTF-8\n",
       "Language: en\n",
       "Country: null\n",
       "--></g></svg>"
      ]
     },
     "execution_count": 25,
     "metadata": {},
     "output_type": "execute_result"
    }
   ],
   "source": [
    "%viz --style=\"STDCOLOR\" --view=\"State\" \"ItemTest\""
   ]
  },
  {
   "cell_type": "code",
   "execution_count": 26,
   "id": "88ac8f4f",
   "metadata": {
    "execution": {
     "iopub.execute_input": "2022-04-22T09:48:24.876703Z",
     "iopub.status.busy": "2022-04-22T09:48:24.876294Z",
     "iopub.status.idle": "2022-04-22T09:48:24.909014Z",
     "shell.execute_reply": "2022-04-22T09:48:24.908603Z"
    }
   },
   "outputs": [
    {
     "data": {
      "image/svg+xml": [
       "<?xml version=\"1.0\" encoding=\"UTF-8\" standalone=\"no\"?><svg xmlns=\"http://www.w3.org/2000/svg\" xmlns:xlink=\"http://www.w3.org/1999/xlink\" contentScriptType=\"application/ecmascript\" contentStyleType=\"text/css\" height=\"179px\" preserveAspectRatio=\"none\" style=\"width:474px;height:179px;\" version=\"1.1\" viewBox=\"0 0 474 179\" width=\"474px\" zoomAndPan=\"magnify\"><defs><filter height=\"300%\" id=\"fwzmnrck0t2e8\" width=\"300%\" x=\"-1\" y=\"-1\"><feGaussianBlur result=\"blurOut\" stdDeviation=\"2.0\"/><feColorMatrix in=\"blurOut\" result=\"blurOut2\" type=\"matrix\" values=\"0 0 0 0 0 0 0 0 0 0 0 0 0 0 0 0 0 0 .4 0\"/><feOffset dx=\"4.0\" dy=\"4.0\" in=\"blurOut2\" result=\"blurOut3\"/><feBlend in=\"SourceGraphic\" in2=\"blurOut3\" mode=\"normal\"/></filter></defs><g><!--MD5=[fbc87193dbaf4d95561dea2c320d4a47]\n",
       "cluster E1--><a href=\"psysml:05177c11-5394-41b2-a0a0-71a4c06ed611\" target=\"_top\" title=\"psysml:05177c11-5394-41b2-a0a0-71a4c06ed611\" xlink:actuate=\"onRequest\" xlink:href=\"psysml:05177c11-5394-41b2-a0a0-71a4c06ed611\" xlink:show=\"new\" xlink:title=\"psysml:05177c11-5394-41b2-a0a0-71a4c06ed611\" xlink:type=\"simple\"><polygon fill=\"#FFFFFF\" filter=\"url(#fwzmnrck0t2e8)\" points=\"16,6,83,6,90,28.2969,452,28.2969,452,167,16,167,16,6\" style=\"stroke: #000000; stroke-width: 1.5;\"/><line style=\"stroke: #000000; stroke-width: 1.5;\" x1=\"16\" x2=\"90\" y1=\"28.2969\" y2=\"28.2969\"/><text fill=\"#000000\" font-family=\"sans-serif\" font-size=\"14\" font-weight=\"bold\" lengthAdjust=\"spacingAndGlyphs\" textLength=\"61\" x=\"20\" y=\"20.9951\">ItemTest</text></a><!--MD5=[de5ec2e2e8f62f467e546659f5068c88]\n",
       "cluster E5--><a href=\"psysml:a2efb8df-7581-49ed-b24f-8030c12b0405\" target=\"_top\" title=\"psysml:a2efb8df-7581-49ed-b24f-8030c12b0405\" xlink:actuate=\"onRequest\" xlink:href=\"psysml:a2efb8df-7581-49ed-b24f-8030c12b0405\" xlink:show=\"new\" xlink:title=\"psysml:a2efb8df-7581-49ed-b24f-8030c12b0405\" xlink:type=\"simple\"><rect fill=\"#FFFFFF\" filter=\"url(#fwzmnrck0t2e8)\" height=\"88.5\" id=\"E5\" style=\"stroke: #A80036; stroke-width: 1.5;\" width=\"124\" x=\"312\" y=\"62.5\"/><rect fill=\"#FEFECE\" height=\"37.9375\" style=\"stroke: #A80036; stroke-width: 1.5;\" width=\"124\" x=\"312\" y=\"62.5\"/><text fill=\"#000000\" font-family=\"sans-serif\" font-size=\"12\" font-style=\"italic\" lengthAdjust=\"spacingAndGlyphs\" textLength=\"68\" x=\"340\" y=\"78.6387\">«part  def»</text><text fill=\"#000000\" font-family=\"sans-serif\" font-size=\"12\" lengthAdjust=\"spacingAndGlyphs\" textLength=\"8\" x=\"370\" y=\"92.6074\">C</text></a><g id=\"E1.E3\"><a href=\"psysml:373f36dd-9125-4f4d-9beb-8d6cd21e1469\" target=\"_top\" title=\"psysml:373f36dd-9125-4f4d-9beb-8d6cd21e1469\" xlink:actuate=\"onRequest\" xlink:href=\"psysml:373f36dd-9125-4f4d-9beb-8d6cd21e1469\" xlink:show=\"new\" xlink:title=\"psysml:373f36dd-9125-4f4d-9beb-8d6cd21e1469\" xlink:type=\"simple\"><rect fill=\"#FEFECE\" filter=\"url(#fwzmnrck0t2e8)\" height=\"42.9375\" id=\"E3\" style=\"stroke: #A80036; stroke-width: 1.5;\" width=\"76\" x=\"32\" y=\"96\"/><text fill=\"#000000\" font-family=\"sans-serif\" font-size=\"12\" font-style=\"italic\" lengthAdjust=\"spacingAndGlyphs\" textLength=\"69\" x=\"35.5\" y=\"112.1387\">«item  def»</text><text fill=\"#000000\" font-family=\"sans-serif\" font-size=\"12\" lengthAdjust=\"spacingAndGlyphs\" textLength=\"8\" x=\"66\" y=\"126.1074\">A</text></a></g><g id=\"E1.E4\"><a href=\"psysml:7d838d86-0408-4401-9cbf-32b733f3993a\" target=\"_top\" title=\"psysml:7d838d86-0408-4401-9cbf-32b733f3993a\" xlink:actuate=\"onRequest\" xlink:href=\"psysml:7d838d86-0408-4401-9cbf-32b733f3993a\" xlink:show=\"new\" xlink:title=\"psysml:7d838d86-0408-4401-9cbf-32b733f3993a\" xlink:type=\"simple\"><rect fill=\"#FEFECE\" filter=\"url(#fwzmnrck0t2e8)\" height=\"42.9375\" id=\"E4\" style=\"stroke: #A80036; stroke-width: 1.5;\" width=\"76\" x=\"228\" y=\"41\"/><text fill=\"#000000\" font-family=\"sans-serif\" font-size=\"12\" font-style=\"italic\" lengthAdjust=\"spacingAndGlyphs\" textLength=\"69\" x=\"231.5\" y=\"57.1387\">«item  def»</text><text fill=\"#000000\" font-family=\"sans-serif\" font-size=\"12\" font-style=\"italic\" lengthAdjust=\"spacingAndGlyphs\" textLength=\"8\" x=\"262\" y=\"71.1074\">B</text></a></g><g id=\"E1.E7\"><a href=\"psysml:91f3ce36-c57b-44eb-a625-32b1f3011842\" target=\"_top\" title=\"psysml:91f3ce36-c57b-44eb-a625-32b1f3011842\" xlink:actuate=\"onRequest\" xlink:href=\"psysml:91f3ce36-c57b-44eb-a625-32b1f3011842\" xlink:show=\"new\" xlink:title=\"psysml:91f3ce36-c57b-44eb-a625-32b1f3011842\" xlink:type=\"simple\"><rect fill=\"#FEFECE\" filter=\"url(#fwzmnrck0t2e8)\" height=\"42.9375\" id=\"E7\" style=\"stroke: #A80036; stroke-width: 1.5;\" width=\"75\" x=\"117.5\" y=\"41\"/><text fill=\"#000000\" font-family=\"sans-serif\" font-size=\"12\" font-style=\"italic\" lengthAdjust=\"spacingAndGlyphs\" textLength=\"68\" x=\"121\" y=\"57.1387\">«port  def»</text><text fill=\"#000000\" font-family=\"sans-serif\" font-size=\"12\" lengthAdjust=\"spacingAndGlyphs\" textLength=\"8\" x=\"151\" y=\"71.1074\">P</text></a></g><g id=\"E1.E2\"><a href=\"psysml:9b37ce48-aa06-4adb-ba3b-3b1410731947\" target=\"_top\" title=\"psysml:9b37ce48-aa06-4adb-ba3b-3b1410731947\" xlink:actuate=\"onRequest\" xlink:href=\"psysml:9b37ce48-aa06-4adb-ba3b-3b1410731947\" xlink:show=\"new\" xlink:title=\"psysml:9b37ce48-aa06-4adb-ba3b-3b1410731947\" xlink:type=\"simple\"><rect fill=\"#FEFECE\" filter=\"url(#fwzmnrck0t2e8)\" height=\"42.9375\" id=\"E2\" rx=\"10\" ry=\"10\" style=\"stroke: #A80036; stroke-width: 1.5;\" width=\"50\" x=\"32\" y=\"41\"/><text fill=\"#000000\" font-family=\"sans-serif\" font-size=\"12\" font-style=\"italic\" lengthAdjust=\"spacingAndGlyphs\" textLength=\"41\" x=\"36.5\" y=\"57.1387\">«item»</text><text fill=\"#000000\" font-family=\"sans-serif\" font-size=\"12\" lengthAdjust=\"spacingAndGlyphs\" textLength=\"20\" x=\"47\" y=\"71.1074\">f: A</text></a></g><text fill=\"#000000\" font-family=\"sans-serif\" font-size=\"14\" lengthAdjust=\"spacingAndGlyphs\" textLength=\"43\" x=\"350.5\" y=\"41.1982\">y: A, B</text><rect fill=\"#A80036\" height=\"12\" style=\"stroke: #FEFECE; stroke-width: 1.5;\" width=\"12\" x=\"368\" y=\"56.5\"/><!--MD5=[2720a5a1f2c3fca2055b230370638851]\n",
       "link E2 to E3--><a href=\"psysml:2d349f36-3ef3-481f-a80c-9f5be02d82e3\" target=\"_top\" title=\"psysml:2d349f36-3ef3-481f-a80c-9f5be02d82e3\" xlink:actuate=\"onRequest\" xlink:href=\"psysml:2d349f36-3ef3-481f-a80c-9f5be02d82e3\" xlink:show=\"new\" xlink:title=\"psysml:2d349f36-3ef3-481f-a80c-9f5be02d82e3\" xlink:type=\"simple\"><path d=\"M62.06,84.14 C62.09,84.26 62.12,84.38 62.15,84.5 \" fill=\"none\" id=\"E2-&gt;E3\" style=\"stroke: #A80036; stroke-width: 1.0;\"/><polygon fill=\"#FFFFFF\" points=\"64.93,95.83,53.5976,79.0497,67.193,75.7084,64.93,95.83\" style=\"stroke: #A80036; stroke-width: 1.0;\"/><ellipse cx=\"54.1794\" cy=\"73.0371\" fill=\"#A80036\" rx=\"2\" ry=\"2\" style=\"stroke: #A80036; stroke-width: 1.0;\"/><ellipse cx=\"63.8904\" cy=\"70.6505\" fill=\"#A80036\" rx=\"2\" ry=\"2\" style=\"stroke: #A80036; stroke-width: 1.0;\"/></a><!--MD5=[0a7af07e5b57f2ddf2104d08c646ad9a]\n",
       "@startuml\r\n",
       "skinparam ranksep 10\r\n",
       "skinparam rectangle {\r\n",
       " backgroundColor<<block>> LightGreen\r\n",
       "}\r\n",
       "skinparam wrapWidth 300\r\n",
       "hide circle\r\n",
       "\r\n",
       "package \"ItemTest\" as E1  [[psysml:05177c11-5394-41b2-a0a0-71a4c06ed611 ]]  {\r\n",
       "rec usage \"f: A\" as E2  <<(T,blue) item>> [[psysml:9b37ce48-aa06-4adb-ba3b-3b1410731947 ]] {\r\n",
       "}\r\n",
       "def \"A\" as E3  <<(T,blue) item  def>> [[psysml:373f36dd-9125-4f4d-9beb-8d6cd21e1469 ]] \r\n",
       "def \"<i>B</i>\" as E4  <<(T,blue) item  def>> [[psysml:7d838d86-0408-4401-9cbf-32b733f3993a ]] \r\n",
       "rec def \"C\" as E5  <<(T,blue) part  def>> [[psysml:a2efb8df-7581-49ed-b24f-8030c12b0405 ]] {\r\n",
       "portin \"y: A, B \" as E6  <<(T,blue) reference>> [[psysml:4ca20137-091c-4af4-8b05-aa2379f8c92e ]] \r\n",
       "}\r\n",
       "def \"P\" as E7  <<(T,blue) port  def>> [[psysml:91f3ce36-c57b-44eb-a625-32b1f3011842 ]] \r\n",
       "}\r\n",
       "E2 - -:|> E3 [[psysml:2d349f36-3ef3-481f-a80c-9f5be02d82e3 ]] \r\n",
       "@enduml\r\n",
       "\n",
       "PlantUML version 1.2020.13(Sat Jun 13 12:26:38 UTC 2020)\n",
       "(EPL source distribution)\n",
       "Java Runtime: OpenJDK Runtime Environment\n",
       "JVM: OpenJDK 64-Bit Server VM\n",
       "Default Encoding: UTF-8\n",
       "Language: en\n",
       "Country: null\n",
       "--></g></svg>"
      ]
     },
     "execution_count": 26,
     "metadata": {},
     "output_type": "execute_result"
    }
   ],
   "source": [
    "%viz --style=\"STDCOLOR\" --view=\"Interconnection\" \"ItemTest\""
   ]
  },
  {
   "cell_type": "code",
   "execution_count": 27,
   "id": "e7957235",
   "metadata": {
    "execution": {
     "iopub.execute_input": "2022-04-22T09:48:24.958989Z",
     "iopub.status.busy": "2022-04-22T09:48:24.958358Z",
     "iopub.status.idle": "2022-04-22T09:48:24.963659Z",
     "shell.execute_reply": "2022-04-22T09:48:24.964035Z"
    }
   },
   "outputs": [
    {
     "data": {
      "image/svg+xml": [
       "<?xml version=\"1.0\" encoding=\"UTF-8\" standalone=\"no\"?><svg xmlns=\"http://www.w3.org/2000/svg\" xmlns:xlink=\"http://www.w3.org/1999/xlink\" contentScriptType=\"application/ecmascript\" contentStyleType=\"text/css\" height=\"12px\" preserveAspectRatio=\"none\" style=\"width:12px;height:12px;\" version=\"1.1\" viewBox=\"0 0 12 12\" width=\"12px\" zoomAndPan=\"magnify\"><defs/><g><!--MD5=[9863325348a96a77dacc89509d8ee65e]\n",
       "@startuml\r\n",
       "skinparam ranksep 8\r\n",
       "skinparam wrapWidth 300\r\n",
       "hide circle\r\n",
       "\r\n",
       "@enduml\r\n",
       "\n",
       "PlantUML version 1.2020.13(Sat Jun 13 12:26:38 UTC 2020)\n",
       "(EPL source distribution)\n",
       "Java Runtime: OpenJDK Runtime Environment\n",
       "JVM: OpenJDK 64-Bit Server VM\n",
       "Default Encoding: UTF-8\n",
       "Language: en\n",
       "Country: null\n",
       "--></g></svg>"
      ]
     },
     "execution_count": 27,
     "metadata": {},
     "output_type": "execute_result"
    }
   ],
   "source": [
    "%viz --style=\"STDCOLOR\" --view=\"Action\" \"ItemTest\""
   ]
  },
  {
   "cell_type": "code",
   "execution_count": 28,
   "id": "5787679b",
   "metadata": {
    "execution": {
     "iopub.execute_input": "2022-04-22T09:48:25.014534Z",
     "iopub.status.busy": "2022-04-22T09:48:25.013812Z",
     "iopub.status.idle": "2022-04-22T09:48:25.019442Z",
     "shell.execute_reply": "2022-04-22T09:48:25.019101Z"
    }
   },
   "outputs": [
    {
     "data": {
      "image/svg+xml": [
       "<?xml version=\"1.0\" encoding=\"UTF-8\" standalone=\"no\"?><svg xmlns=\"http://www.w3.org/2000/svg\" xmlns:xlink=\"http://www.w3.org/1999/xlink\" contentScriptType=\"application/ecmascript\" contentStyleType=\"text/css\" height=\"12px\" preserveAspectRatio=\"none\" style=\"width:12px;height:12px;\" version=\"1.1\" viewBox=\"0 0 12 12\" width=\"12px\" zoomAndPan=\"magnify\"><defs/><g><!--MD5=[6c4bca67b4d71758159a5a7f1f1e1fc2]\n",
       "@startuml\r\n",
       "skinparam roundcorner 20\r\n",
       "skinparam BoxPadding 20\r\n",
       "skinparam SequenceBoxBackgroundColor #white\r\n",
       "skinparam style strictuml\r\n",
       "skinparam maxMessageSize 100\r\n",
       "skinparam wrapWidth 300\r\n",
       "hide circle\r\n",
       "\r\n",
       "@enduml\r\n",
       "\n",
       "PlantUML version 1.2020.13(Sat Jun 13 12:26:38 UTC 2020)\n",
       "(EPL source distribution)\n",
       "Java Runtime: OpenJDK Runtime Environment\n",
       "JVM: OpenJDK 64-Bit Server VM\n",
       "Default Encoding: UTF-8\n",
       "Language: en\n",
       "Country: null\n",
       "--></g></svg>"
      ]
     },
     "execution_count": 28,
     "metadata": {},
     "output_type": "execute_result"
    }
   ],
   "source": [
    "%viz --style=\"STDCOLOR\" --view=\"Sequence\" \"ItemTest\""
   ]
  },
  {
   "cell_type": "code",
   "execution_count": 29,
   "id": "10b42fdf",
   "metadata": {
    "execution": {
     "iopub.execute_input": "2022-04-22T09:48:25.069757Z",
     "iopub.status.busy": "2022-04-22T09:48:25.069127Z",
     "iopub.status.idle": "2022-04-22T09:48:25.113656Z",
     "shell.execute_reply": "2022-04-22T09:48:25.113359Z"
    }
   },
   "outputs": [
    {
     "data": {
      "image/svg+xml": [
       "<?xml version=\"1.0\" encoding=\"UTF-8\" standalone=\"no\"?><svg xmlns=\"http://www.w3.org/2000/svg\" xmlns:xlink=\"http://www.w3.org/1999/xlink\" contentScriptType=\"application/ecmascript\" contentStyleType=\"text/css\" height=\"818px\" preserveAspectRatio=\"none\" style=\"width:270px;height:818px;\" version=\"1.1\" viewBox=\"0 0 270 818\" width=\"270px\" zoomAndPan=\"magnify\"><defs><filter height=\"300%\" id=\"f2h02z9m7vvrd\" width=\"300%\" x=\"-1\" y=\"-1\"><feGaussianBlur result=\"blurOut\" stdDeviation=\"2.0\"/><feColorMatrix in=\"blurOut\" result=\"blurOut2\" type=\"matrix\" values=\"0 0 0 0 0 0 0 0 0 0 0 0 0 0 0 0 0 0 .4 0\"/><feOffset dx=\"4.0\" dy=\"4.0\" in=\"blurOut2\" result=\"blurOut3\"/><feBlend in=\"SourceGraphic\" in2=\"blurOut3\" mode=\"normal\"/></filter></defs><g><!--MD5=[fbc87193dbaf4d95561dea2c320d4a47]\n",
       "cluster E1--><a href=\"psysml:05177c11-5394-41b2-a0a0-71a4c06ed611\" target=\"_top\" title=\"psysml:05177c11-5394-41b2-a0a0-71a4c06ed611\" xlink:actuate=\"onRequest\" xlink:href=\"psysml:05177c11-5394-41b2-a0a0-71a4c06ed611\" xlink:show=\"new\" xlink:title=\"psysml:05177c11-5394-41b2-a0a0-71a4c06ed611\" xlink:type=\"simple\"><polygon fill=\"#FFFFFF\" filter=\"url(#f2h02z9m7vvrd)\" points=\"16,6,83,6,90,28.2969,248,28.2969,248,806,16,806,16,6\" style=\"stroke: #000000; stroke-width: 1.5;\"/><line style=\"stroke: #000000; stroke-width: 1.5;\" x1=\"16\" x2=\"90\" y1=\"28.2969\" y2=\"28.2969\"/><text fill=\"#000000\" font-family=\"sans-serif\" font-size=\"14\" font-weight=\"bold\" lengthAdjust=\"spacingAndGlyphs\" textLength=\"61\" x=\"20\" y=\"20.9951\">ItemTest</text></a><!--MD5=[b4997ac47864f28c2f74865a473b2911]\n",
       "class E2--><a href=\"psysml:9b37ce48-aa06-4adb-ba3b-3b1410731947\" target=\"_top\" title=\"psysml:9b37ce48-aa06-4adb-ba3b-3b1410731947\" xlink:actuate=\"onRequest\" xlink:href=\"psysml:9b37ce48-aa06-4adb-ba3b-3b1410731947\" xlink:show=\"new\" xlink:title=\"psysml:9b37ce48-aa06-4adb-ba3b-3b1410731947\" xlink:type=\"simple\"><rect fill=\"#FEFECE\" filter=\"url(#f2h02z9m7vvrd)\" height=\"45.9375\" id=\"E2\" rx=\"10\" ry=\"10\" style=\"stroke: #A80036; stroke-width: 1.5;\" width=\"43\" x=\"188.5\" y=\"148\"/><text fill=\"#000000\" font-family=\"sans-serif\" font-size=\"12\" font-style=\"italic\" lengthAdjust=\"spacingAndGlyphs\" textLength=\"41\" x=\"189.5\" y=\"164.1387\">«item»</text><text fill=\"#000000\" font-family=\"sans-serif\" font-size=\"12\" lengthAdjust=\"spacingAndGlyphs\" textLength=\"20\" x=\"198\" y=\"178.1074\">f: A</text><line style=\"stroke: #A80036; stroke-width: 1.5;\" x1=\"189.5\" x2=\"230.5\" y1=\"185.9375\" y2=\"185.9375\"/></a><!--MD5=[09b614a08d8cba4a07c9adeb5e0fee81]\n",
       "class E3--><a href=\"psysml:373f36dd-9125-4f4d-9beb-8d6cd21e1469\" target=\"_top\" title=\"psysml:373f36dd-9125-4f4d-9beb-8d6cd21e1469\" xlink:actuate=\"onRequest\" xlink:href=\"psysml:373f36dd-9125-4f4d-9beb-8d6cd21e1469\" xlink:show=\"new\" xlink:title=\"psysml:373f36dd-9125-4f4d-9beb-8d6cd21e1469\" xlink:type=\"simple\"><rect fill=\"#FEFECE\" filter=\"url(#f2h02z9m7vvrd)\" height=\"45.9375\" id=\"E3\" style=\"stroke: #A80036; stroke-width: 1.5;\" width=\"71\" x=\"96.5\" y=\"255\"/><text fill=\"#000000\" font-family=\"sans-serif\" font-size=\"12\" font-style=\"italic\" lengthAdjust=\"spacingAndGlyphs\" textLength=\"69\" x=\"97.5\" y=\"271.1387\">«item  def»</text><text fill=\"#000000\" font-family=\"sans-serif\" font-size=\"12\" lengthAdjust=\"spacingAndGlyphs\" textLength=\"8\" x=\"128\" y=\"285.1074\">A</text><line style=\"stroke: #A80036; stroke-width: 1.5;\" x1=\"97.5\" x2=\"166.5\" y1=\"292.9375\" y2=\"292.9375\"/></a><!--MD5=[ebbe1d658d1005bcc118a6aa81145e00]\n",
       "class E4--><a href=\"psysml:130e11a2-3d5f-4cd9-b0cd-9225a7528360\" target=\"_top\" title=\"psysml:130e11a2-3d5f-4cd9-b0cd-9225a7528360\" xlink:actuate=\"onRequest\" xlink:href=\"psysml:130e11a2-3d5f-4cd9-b0cd-9225a7528360\" xlink:show=\"new\" xlink:title=\"psysml:130e11a2-3d5f-4cd9-b0cd-9225a7528360\" xlink:type=\"simple\"><rect fill=\"#FEFECE\" filter=\"url(#f2h02z9m7vvrd)\" height=\"45.9375\" id=\"E4\" rx=\"10\" ry=\"10\" style=\"stroke: #A80036; stroke-width: 1.5;\" width=\"43\" x=\"45.5\" y=\"438\"/><text fill=\"#000000\" font-family=\"sans-serif\" font-size=\"12\" font-style=\"italic\" lengthAdjust=\"spacingAndGlyphs\" textLength=\"41\" x=\"46.5\" y=\"454.1387\">«item»</text><text fill=\"#000000\" font-family=\"sans-serif\" font-size=\"12\" lengthAdjust=\"spacingAndGlyphs\" textLength=\"24\" x=\"53\" y=\"468.1074\">b: B</text><line style=\"stroke: #A80036; stroke-width: 1.5;\" x1=\"46.5\" x2=\"87.5\" y1=\"475.9375\" y2=\"475.9375\"/></a><!--MD5=[270fce915f116d4de14055a7c1d9a0f3]\n",
       "class E5--><a href=\"psysml:80ae9a50-ac1f-4423-b935-68d8f5716f01\" target=\"_top\" title=\"psysml:80ae9a50-ac1f-4423-b935-68d8f5716f01\" xlink:actuate=\"onRequest\" xlink:href=\"psysml:80ae9a50-ac1f-4423-b935-68d8f5716f01\" xlink:show=\"new\" xlink:title=\"psysml:80ae9a50-ac1f-4423-b935-68d8f5716f01\" xlink:type=\"simple\"><rect fill=\"#FEFECE\" filter=\"url(#f2h02z9m7vvrd)\" height=\"45.9375\" id=\"E5\" rx=\"10\" ry=\"10\" style=\"stroke: #A80036; stroke-width: 1.5;\" width=\"42\" x=\"151\" y=\"362\"/><text fill=\"#000000\" font-family=\"sans-serif\" font-size=\"12\" font-style=\"italic\" lengthAdjust=\"spacingAndGlyphs\" textLength=\"40\" x=\"152\" y=\"378.1387\">«part»</text><text fill=\"#000000\" font-family=\"sans-serif\" font-size=\"12\" lengthAdjust=\"spacingAndGlyphs\" textLength=\"23\" x=\"158.5\" y=\"392.1074\">c: C</text><line style=\"stroke: #A80036; stroke-width: 1.5;\" x1=\"152\" x2=\"192\" y1=\"399.9375\" y2=\"399.9375\"/></a><!--MD5=[60a26617385b1d2d0262a64233df1f8d]\n",
       "class E6--><a href=\"psysml:7d838d86-0408-4401-9cbf-32b733f3993a\" target=\"_top\" title=\"psysml:7d838d86-0408-4401-9cbf-32b733f3993a\" xlink:actuate=\"onRequest\" xlink:href=\"psysml:7d838d86-0408-4401-9cbf-32b733f3993a\" xlink:show=\"new\" xlink:title=\"psysml:7d838d86-0408-4401-9cbf-32b733f3993a\" xlink:type=\"simple\"><rect fill=\"#FEFECE\" filter=\"url(#f2h02z9m7vvrd)\" height=\"45.9375\" id=\"E6\" style=\"stroke: #A80036; stroke-width: 1.5;\" width=\"71\" x=\"112.5\" y=\"637\"/><text fill=\"#000000\" font-family=\"sans-serif\" font-size=\"12\" font-style=\"italic\" lengthAdjust=\"spacingAndGlyphs\" textLength=\"69\" x=\"113.5\" y=\"653.1387\">«item  def»</text><text fill=\"#000000\" font-family=\"sans-serif\" font-size=\"12\" font-style=\"italic\" lengthAdjust=\"spacingAndGlyphs\" textLength=\"8\" x=\"144\" y=\"667.1074\">B</text><line style=\"stroke: #A80036; stroke-width: 1.5;\" x1=\"113.5\" x2=\"182.5\" y1=\"674.9375\" y2=\"674.9375\"/></a><!--MD5=[2156ba9850f5573cc1fc38a6a4b2f02b]\n",
       "class E7--><a href=\"psysml:d06b8fcb-8cda-493c-875d-bdf01ed715df\" target=\"_top\" title=\"psysml:d06b8fcb-8cda-493c-875d-bdf01ed715df\" xlink:actuate=\"onRequest\" xlink:href=\"psysml:d06b8fcb-8cda-493c-875d-bdf01ed715df\" xlink:show=\"new\" xlink:title=\"psysml:d06b8fcb-8cda-493c-875d-bdf01ed715df\" xlink:type=\"simple\"><rect fill=\"#FEFECE\" filter=\"url(#f2h02z9m7vvrd)\" height=\"45.9375\" id=\"E7\" rx=\"10\" ry=\"10\" style=\"stroke: #A80036; stroke-width: 1.5;\" width=\"42\" x=\"159\" y=\"744\"/><text fill=\"#000000\" font-family=\"sans-serif\" font-size=\"12\" font-style=\"italic\" lengthAdjust=\"spacingAndGlyphs\" textLength=\"40\" x=\"160\" y=\"760.1387\">«part»</text><text fill=\"#000000\" font-family=\"sans-serif\" font-size=\"12\" font-style=\"italic\" lengthAdjust=\"spacingAndGlyphs\" textLength=\"8\" x=\"166\" y=\"774.1074\">a</text><text fill=\"#000000\" font-family=\"sans-serif\" font-size=\"12\" lengthAdjust=\"spacingAndGlyphs\" textLength=\"16\" x=\"174\" y=\"774.1074\">: A</text><line style=\"stroke: #A80036; stroke-width: 1.5;\" x1=\"160\" x2=\"200\" y1=\"781.9375\" y2=\"781.9375\"/></a><!--MD5=[b9389687b975829384b498ac4b7476b2]\n",
       "class E8--><a href=\"psysml:a2efb8df-7581-49ed-b24f-8030c12b0405\" target=\"_top\" title=\"psysml:a2efb8df-7581-49ed-b24f-8030c12b0405\" xlink:actuate=\"onRequest\" xlink:href=\"psysml:a2efb8df-7581-49ed-b24f-8030c12b0405\" xlink:show=\"new\" xlink:title=\"psysml:a2efb8df-7581-49ed-b24f-8030c12b0405\" xlink:type=\"simple\"><rect fill=\"#FEFECE\" filter=\"url(#f2h02z9m7vvrd)\" height=\"45.9375\" id=\"E8\" style=\"stroke: #A80036; stroke-width: 1.5;\" width=\"70\" x=\"113\" y=\"514\"/><text fill=\"#000000\" font-family=\"sans-serif\" font-size=\"12\" font-style=\"italic\" lengthAdjust=\"spacingAndGlyphs\" textLength=\"68\" x=\"114\" y=\"530.1387\">«part  def»</text><text fill=\"#000000\" font-family=\"sans-serif\" font-size=\"12\" lengthAdjust=\"spacingAndGlyphs\" textLength=\"8\" x=\"144\" y=\"544.1074\">C</text><line style=\"stroke: #A80036; stroke-width: 1.5;\" x1=\"114\" x2=\"182\" y1=\"551.9375\" y2=\"551.9375\"/></a><!--MD5=[fd4143e9d270a159db93a4ea2a975926]\n",
       "class E9--><a href=\"psysml:91f3ce36-c57b-44eb-a625-32b1f3011842\" target=\"_top\" title=\"psysml:91f3ce36-c57b-44eb-a625-32b1f3011842\" xlink:actuate=\"onRequest\" xlink:href=\"psysml:91f3ce36-c57b-44eb-a625-32b1f3011842\" xlink:show=\"new\" xlink:title=\"psysml:91f3ce36-c57b-44eb-a625-32b1f3011842\" xlink:type=\"simple\"><rect fill=\"#FEFECE\" filter=\"url(#f2h02z9m7vvrd)\" height=\"45.9375\" id=\"E9\" style=\"stroke: #A80036; stroke-width: 1.5;\" width=\"70\" x=\"64\" y=\"41\"/><text fill=\"#000000\" font-family=\"sans-serif\" font-size=\"12\" font-style=\"italic\" lengthAdjust=\"spacingAndGlyphs\" textLength=\"68\" x=\"65\" y=\"57.1387\">«port  def»</text><text fill=\"#000000\" font-family=\"sans-serif\" font-size=\"12\" lengthAdjust=\"spacingAndGlyphs\" textLength=\"8\" x=\"95\" y=\"71.1074\">P</text><line style=\"stroke: #A80036; stroke-width: 1.5;\" x1=\"65\" x2=\"133\" y1=\"78.9375\" y2=\"78.9375\"/></a><!--MD5=[96f4274e9e20536e775497830990834d]\n",
       "class E10--><a href=\"psysml:5a8db81a-c733-4c6f-be90-4f9ffe214caa\" target=\"_top\" title=\"psysml:5a8db81a-c733-4c6f-be90-4f9ffe214caa\" xlink:actuate=\"onRequest\" xlink:href=\"psysml:5a8db81a-c733-4c6f-be90-4f9ffe214caa\" xlink:show=\"new\" xlink:title=\"psysml:5a8db81a-c733-4c6f-be90-4f9ffe214caa\" xlink:type=\"simple\"><rect fill=\"#FEFECE\" filter=\"url(#f2h02z9m7vvrd)\" height=\"45.9375\" id=\"E10\" rx=\"10\" ry=\"10\" style=\"stroke: #A80036; stroke-width: 1.5;\" width=\"43\" x=\"32.5\" y=\"148\"/><text fill=\"#000000\" font-family=\"sans-serif\" font-size=\"12\" font-style=\"italic\" lengthAdjust=\"spacingAndGlyphs\" textLength=\"41\" x=\"33.5\" y=\"164.1387\">«item»</text><text fill=\"#000000\" font-family=\"sans-serif\" font-size=\"12\" lengthAdjust=\"spacingAndGlyphs\" textLength=\"32\" x=\"36\" y=\"178.1074\">a1: A</text><line style=\"stroke: #A80036; stroke-width: 1.5;\" x1=\"33.5\" x2=\"74.5\" y1=\"185.9375\" y2=\"185.9375\"/></a><!--MD5=[1dd1bfd58a279cf63c5f349dbc8fc6a1]\n",
       "class E11--><a href=\"psysml:50797105-d3dc-4af6-be0e-986a23cb6cc7\" target=\"_top\" title=\"psysml:50797105-d3dc-4af6-be0e-986a23cb6cc7\" xlink:actuate=\"onRequest\" xlink:href=\"psysml:50797105-d3dc-4af6-be0e-986a23cb6cc7\" xlink:show=\"new\" xlink:title=\"psysml:50797105-d3dc-4af6-be0e-986a23cb6cc7\" xlink:type=\"simple\"><rect fill=\"#FEFECE\" filter=\"url(#f2h02z9m7vvrd)\" height=\"45.9375\" id=\"E11\" rx=\"10\" ry=\"10\" style=\"stroke: #A80036; stroke-width: 1.5;\" width=\"43\" x=\"110.5\" y=\"148\"/><text fill=\"#000000\" font-family=\"sans-serif\" font-size=\"12\" font-style=\"italic\" lengthAdjust=\"spacingAndGlyphs\" textLength=\"41\" x=\"111.5\" y=\"164.1387\">«item»</text><text fill=\"#000000\" font-family=\"sans-serif\" font-size=\"12\" lengthAdjust=\"spacingAndGlyphs\" textLength=\"32\" x=\"114\" y=\"178.1074\">a2: A</text><line style=\"stroke: #A80036; stroke-width: 1.5;\" x1=\"111.5\" x2=\"152.5\" y1=\"185.9375\" y2=\"185.9375\"/></a><!--MD5=[2720a5a1f2c3fca2055b230370638851]\n",
       "link E2 to E3--><a href=\"psysml:2d349f36-3ef3-481f-a80c-9f5be02d82e3\" target=\"_top\" title=\"psysml:2d349f36-3ef3-481f-a80c-9f5be02d82e3\" xlink:actuate=\"onRequest\" xlink:href=\"psysml:2d349f36-3ef3-481f-a80c-9f5be02d82e3\" xlink:show=\"new\" xlink:title=\"psysml:2d349f36-3ef3-481f-a80c-9f5be02d82e3\" xlink:type=\"simple\"><path d=\"M193.65,194.01 C184.14,206.81 171.89,223.3 160.82,238.2 \" fill=\"none\" id=\"E2-&gt;E3\" style=\"stroke: #A80036; stroke-width: 1.0;\"/><polygon fill=\"#FFFFFF\" points=\"148.6,254.66,154.3195,235.2361,165.5543,243.5896,148.6,254.66\" style=\"stroke: #A80036; stroke-width: 1.0;\"/><ellipse cx=\"159.3256\" cy=\"231.8554\" fill=\"#A80036\" rx=\"2\" ry=\"2\" style=\"stroke: #A80036; stroke-width: 1.0;\"/><ellipse cx=\"167.3504\" cy=\"237.8221\" fill=\"#A80036\" rx=\"2\" ry=\"2\" style=\"stroke: #A80036; stroke-width: 1.0;\"/></a><!--MD5=[4672eba38e49728da53d11aeb285b987]\n",
       "reverse link E3 to E4--><a href=\"psysml:1fc0b9c6-f917-494b-8539-e8a30a151a21\" target=\"_top\" title=\"psysml:1fc0b9c6-f917-494b-8539-e8a30a151a21\" xlink:actuate=\"onRequest\" xlink:href=\"psysml:1fc0b9c6-f917-494b-8539-e8a30a151a21\" xlink:show=\"new\" xlink:title=\"psysml:1fc0b9c6-f917-494b-8539-e8a30a151a21\" xlink:type=\"simple\"><path d=\"M97.11,310.9 C84.08,325.11 70.81,342.94 64,362 C55.12,386.85 58.09,417.53 61.82,437.88 \" fill=\"none\" id=\"E3&lt;-E4\" style=\"stroke: #A80036; stroke-width: 1.0;\"/><polygon fill=\"#A80036\" points=\"106.46,301.23,99.4153,302.7703,98.1277,309.8655,105.1724,308.3252,106.46,301.23\" style=\"stroke: #A80036; stroke-width: 1.0;\"/><text fill=\"#000000\" font-family=\"sans-serif\" font-size=\"13\" lengthAdjust=\"spacingAndGlyphs\" textLength=\"8\" x=\"51.3529\" y=\"426.744\">1</text></a><!--MD5=[191cde3d490a3f6d7bb551fe3ddca469]\n",
       "reverse link E3 to E5--><a href=\"psysml:1188b8bd-fcbe-4041-bfa3-3c6757b772de\" target=\"_top\" title=\"psysml:1188b8bd-fcbe-4041-bfa3-3c6757b772de\" xlink:actuate=\"onRequest\" xlink:href=\"psysml:1188b8bd-fcbe-4041-bfa3-3c6757b772de\" xlink:show=\"new\" xlink:title=\"psysml:1188b8bd-fcbe-4041-bfa3-3c6757b772de\" xlink:type=\"simple\"><path d=\"M145.17,313.57 C151.2,329.39 158.16,347.68 163.49,361.66 \" fill=\"none\" id=\"E3&lt;-E5\" style=\"stroke: #A80036; stroke-width: 1.0;\"/><polygon fill=\"#FFFFFF\" points=\"140.39,301.01,138.7866,308.0406,144.6598,312.2247,146.2631,305.1941,140.39,301.01\" style=\"stroke: #A80036; stroke-width: 1.0;\"/><text fill=\"#000000\" font-family=\"sans-serif\" font-size=\"13\" lengthAdjust=\"spacingAndGlyphs\" textLength=\"8\" x=\"152.2843\" y=\"350.8492\">1</text></a><!--MD5=[79568f1e445c3877b6a54524624ccc7d]\n",
       "link E4 to E6--><a href=\"psysml:b444802f-fd06-4322-964d-2bd41504258e\" target=\"_top\" title=\"psysml:b444802f-fd06-4322-964d-2bd41504258e\" xlink:actuate=\"onRequest\" xlink:href=\"psysml:b444802f-fd06-4322-964d-2bd41504258e\" xlink:show=\"new\" xlink:title=\"psysml:b444802f-fd06-4322-964d-2bd41504258e\" xlink:type=\"simple\"><path d=\"M72.25,484.22 C77.31,504.36 85.72,534.68 96,560 C104.15,580.08 115.08,601.47 124.82,619.21 \" fill=\"none\" id=\"E4-&gt;E6\" style=\"stroke: #A80036; stroke-width: 1.0;\"/><polygon fill=\"#FFFFFF\" points=\"134.72,636.8,119.2979,623.6791,131.4967,616.8097,134.72,636.8\" style=\"stroke: #A80036; stroke-width: 1.0;\"/><ellipse cx=\"118.2438\" cy=\"617.7311\" fill=\"#A80036\" rx=\"2\" ry=\"2\" style=\"stroke: #A80036; stroke-width: 1.0;\"/><ellipse cx=\"126.9572\" cy=\"612.8244\" fill=\"#A80036\" rx=\"2\" ry=\"2\" style=\"stroke: #A80036; stroke-width: 1.0;\"/></a><!--MD5=[3f50a3473f1dfb74d3f76443e03635af]\n",
       "reverse link E6 to E7--><a href=\"psysml:fe8fc95e-22bb-46d1-b0fd-61d73c45474f\" target=\"_top\" title=\"psysml:fe8fc95e-22bb-46d1-b0fd-61d73c45474f\" xlink:actuate=\"onRequest\" xlink:href=\"psysml:fe8fc95e-22bb-46d1-b0fd-61d73c45474f\" xlink:show=\"new\" xlink:title=\"psysml:fe8fc95e-22bb-46d1-b0fd-61d73c45474f\" xlink:type=\"simple\"><path d=\"M158.54,695.57 C163.36,711.39 168.93,729.68 173.19,743.66 \" fill=\"none\" id=\"E6&lt;-E7\" style=\"stroke: #A80036; stroke-width: 1.0;\"/><polygon fill=\"#A80036\" points=\"154.71,683.01,152.6319,689.9152,158.2066,694.4893,160.2847,687.5841,154.71,683.01\" style=\"stroke: #A80036; stroke-width: 1.0;\"/><text fill=\"#000000\" font-family=\"sans-serif\" font-size=\"13\" lengthAdjust=\"spacingAndGlyphs\" textLength=\"8\" x=\"162.4199\" y=\"732.8492\">1</text></a><!--MD5=[14ccda38c055a5c0da953d572bc50960]\n",
       "link E7 to E3--><a href=\"psysml:599ea15b-bb0f-4f03-a502-f2e1a3a71e91\" target=\"_top\" title=\"psysml:599ea15b-bb0f-4f03-a502-f2e1a3a71e91\" xlink:actuate=\"onRequest\" xlink:href=\"psysml:599ea15b-bb0f-4f03-a502-f2e1a3a71e91\" xlink:show=\"new\" xlink:title=\"psysml:599ea15b-bb0f-4f03-a502-f2e1a3a71e91\" xlink:type=\"simple\"><path d=\"M197.41,743.63 C211.5,723.27 229,691.78 229,661 C229,384 229,384 229,384 C229,353.7 206.93,328.42 183.85,310.26 \" fill=\"none\" id=\"E7-&gt;E3\" style=\"stroke: #A80036; stroke-width: 1.0;\"/><polygon fill=\"#FFFFFF\" points=\"167.57,298.59,187.0929,303.9617,178.9414,315.3438,167.57,298.59\" style=\"stroke: #A80036; stroke-width: 1.0;\"/><ellipse cx=\"190.5626\" cy=\"308.9066\" fill=\"#A80036\" rx=\"2\" ry=\"2\" style=\"stroke: #A80036; stroke-width: 1.0;\"/><ellipse cx=\"184.7401\" cy=\"317.0367\" fill=\"#A80036\" rx=\"2\" ry=\"2\" style=\"stroke: #A80036; stroke-width: 1.0;\"/></a><!--MD5=[dfaffb906826c3e5aca635516100ff21]\n",
       "link E5 to E8--><a href=\"psysml:ebb03462-10dd-4a39-86ac-c1648f226bb6\" target=\"_top\" title=\"psysml:ebb03462-10dd-4a39-86ac-c1648f226bb6\" xlink:actuate=\"onRequest\" xlink:href=\"psysml:ebb03462-10dd-4a39-86ac-c1648f226bb6\" xlink:show=\"new\" xlink:title=\"psysml:ebb03462-10dd-4a39-86ac-c1648f226bb6\" xlink:type=\"simple\"><path d=\"M168.46,408.13 C164.86,430.62 159.2,466.01 154.74,493.87 \" fill=\"none\" id=\"E5-&gt;E8\" style=\"stroke: #A80036; stroke-width: 1.0;\"/><polygon fill=\"#FFFFFF\" points=\"151.56,513.78,147.6458,493.9135,161.4704,496.1226,151.56,513.78\" style=\"stroke: #A80036; stroke-width: 1.0;\"/><ellipse cx=\"150.5202\" cy=\"488.6005\" fill=\"#A80036\" rx=\"2\" ry=\"2\" style=\"stroke: #A80036; stroke-width: 1.0;\"/><ellipse cx=\"160.3949\" cy=\"490.1784\" fill=\"#A80036\" rx=\"2\" ry=\"2\" style=\"stroke: #A80036; stroke-width: 1.0;\"/></a><!--MD5=[03c8294790d3c57651a1993cecff665f]\n",
       "reverse link E8 to E3--><a href=\"psysml:4ca20137-091c-4af4-8b05-aa2379f8c92e\" target=\"_top\" title=\"psysml:4ca20137-091c-4af4-8b05-aa2379f8c92e\" xlink:actuate=\"onRequest\" xlink:href=\"psysml:4ca20137-091c-4af4-8b05-aa2379f8c92e\" xlink:show=\"new\" xlink:title=\"psysml:4ca20137-091c-4af4-8b05-aa2379f8c92e\" xlink:type=\"simple\"><path d=\"M140.02,501.22 C134.57,475.6 127.84,439.84 125,408 C123.18,387.64 124.14,382.43 125,362 C125.87,341.34 127.95,317.86 129.62,301.16 \" fill=\"none\" id=\"E8&lt;-E3\" style=\"stroke: #A80036; stroke-width: 1.0;\"/><polygon fill=\"#FFFFFF\" points=\"142.81,513.96,145.4388,507.2451,140.2515,502.2359,137.6227,508.9508,142.81,513.96\" style=\"stroke: #A80036; stroke-width: 1.0;\"/><text fill=\"#000000\" font-family=\"sans-serif\" font-size=\"13\" lengthAdjust=\"spacingAndGlyphs\" textLength=\"7\" x=\"126\" y=\"389.5669\">y</text></a><!--MD5=[0d75d2178373a6a4568e5dc728f58aef]\n",
       "reverse link E8 to E6--><a href=\"psysml:4ca20137-091c-4af4-8b05-aa2379f8c92e\" target=\"_top\" title=\"psysml:4ca20137-091c-4af4-8b05-aa2379f8c92e\" xlink:actuate=\"onRequest\" xlink:href=\"psysml:4ca20137-091c-4af4-8b05-aa2379f8c92e\" xlink:show=\"new\" xlink:title=\"psysml:4ca20137-091c-4af4-8b05-aa2379f8c92e\" xlink:type=\"simple\"><path d=\"M148,573.22 C148,593.81 148,619.16 148,636.95 \" fill=\"none\" id=\"E8&lt;-E6\" style=\"stroke: #A80036; stroke-width: 1.0;\"/><polygon fill=\"#FFFFFF\" points=\"148,560.19,144,566.19,148,572.19,152,566.19,148,560.19\" style=\"stroke: #A80036; stroke-width: 1.0;\"/><text fill=\"#000000\" font-family=\"sans-serif\" font-size=\"13\" lengthAdjust=\"spacingAndGlyphs\" textLength=\"7\" x=\"149\" y=\"603.0669\">y</text></a><!--MD5=[23ac544a70576c3e717098101004234c]\n",
       "reverse link E9 to E10--><a href=\"psysml:bbec5841-3ffd-488b-b643-01adfe752a25\" target=\"_top\" title=\"psysml:bbec5841-3ffd-488b-b643-01adfe752a25\" xlink:actuate=\"onRequest\" xlink:href=\"psysml:bbec5841-3ffd-488b-b643-01adfe752a25\" xlink:show=\"new\" xlink:title=\"psysml:bbec5841-3ffd-488b-b643-01adfe752a25\" xlink:type=\"simple\"><path d=\"M84.39,99.1 C77.56,115.03 69.63,133.54 63.58,147.66 \" fill=\"none\" id=\"E9&lt;-E10\" style=\"stroke: #A80036; stroke-width: 1.0;\"/><polygon fill=\"#FFFFFF\" points=\"89.57,87.01,83.5327,90.9535,84.8509,98.0431,90.8882,94.0996,89.57,87.01\" style=\"stroke: #A80036; stroke-width: 1.0;\"/><text fill=\"#000000\" font-family=\"sans-serif\" font-size=\"13\" lengthAdjust=\"spacingAndGlyphs\" textLength=\"8\" x=\"57.0099\" y=\"136.8492\">1</text></a><!--MD5=[feeac5eb423634930294aa81f2d25a4c]\n",
       "link E10 to E3--><a href=\"psysml:fb12afbf-9138-40ff-bf3b-75b81b096774\" target=\"_top\" title=\"psysml:fb12afbf-9138-40ff-bf3b-75b81b096774\" xlink:actuate=\"onRequest\" xlink:href=\"psysml:fb12afbf-9138-40ff-bf3b-75b81b096774\" xlink:show=\"new\" xlink:title=\"psysml:fb12afbf-9138-40ff-bf3b-75b81b096774\" xlink:type=\"simple\"><path d=\"M70.35,194.01 C79.86,206.81 92.11,223.3 103.18,238.2 \" fill=\"none\" id=\"E10-&gt;E3\" style=\"stroke: #A80036; stroke-width: 1.0;\"/><polygon fill=\"#FFFFFF\" points=\"115.4,254.66,98.4457,243.5896,109.6805,235.2361,115.4,254.66\" style=\"stroke: #A80036; stroke-width: 1.0;\"/><ellipse cx=\"96.6496\" cy=\"237.8221\" fill=\"#A80036\" rx=\"2\" ry=\"2\" style=\"stroke: #A80036; stroke-width: 1.0;\"/><ellipse cx=\"104.6744\" cy=\"231.8554\" fill=\"#A80036\" rx=\"2\" ry=\"2\" style=\"stroke: #A80036; stroke-width: 1.0;\"/></a><!--MD5=[1fc04a95fd77ad5ce46c1a3027516051]\n",
       "reverse link E9 to E11--><a href=\"psysml:20edee2c-da5c-4ff9-9cec-febcc5f58071\" target=\"_top\" title=\"psysml:20edee2c-da5c-4ff9-9cec-febcc5f58071\" xlink:actuate=\"onRequest\" xlink:href=\"psysml:20edee2c-da5c-4ff9-9cec-febcc5f58071\" xlink:show=\"new\" xlink:title=\"psysml:20edee2c-da5c-4ff9-9cec-febcc5f58071\" xlink:type=\"simple\"><path d=\"M109.87,99.57 C114.84,115.39 120.59,133.68 124.98,147.66 \" fill=\"none\" id=\"E9&lt;-E11\" style=\"stroke: #A80036; stroke-width: 1.0;\"/><polygon fill=\"#FFFFFF\" points=\"105.92,87.01,103.9044,93.9337,109.5203,98.4572,111.5359,91.5335,105.92,87.01\" style=\"stroke: #A80036; stroke-width: 1.0;\"/><text fill=\"#000000\" font-family=\"sans-serif\" font-size=\"13\" lengthAdjust=\"spacingAndGlyphs\" textLength=\"8\" x=\"114.1561\" y=\"136.8492\">1</text></a><!--MD5=[0517f1ce58c4d5483948f93845c45e26]\n",
       "link E11 to E3--><a href=\"psysml:6098403c-f8e4-4c64-8bc6-7f6e4aceb826\" target=\"_top\" title=\"psysml:6098403c-f8e4-4c64-8bc6-7f6e4aceb826\" xlink:actuate=\"onRequest\" xlink:href=\"psysml:6098403c-f8e4-4c64-8bc6-7f6e4aceb826\" xlink:show=\"new\" xlink:title=\"psysml:6098403c-f8e4-4c64-8bc6-7f6e4aceb826\" xlink:type=\"simple\"><path d=\"M132,194.01 C132,205.69 132,220.46 132,234.28 \" fill=\"none\" id=\"E11-&gt;E3\" style=\"stroke: #A80036; stroke-width: 1.0;\"/><polygon fill=\"#FFFFFF\" points=\"132,254.66,125,235.66,139,235.66,132,254.66\" style=\"stroke: #A80036; stroke-width: 1.0;\"/><ellipse cx=\"127\" cy=\"229.96\" fill=\"#A80036\" rx=\"2\" ry=\"2\" style=\"stroke: #A80036; stroke-width: 1.0;\"/><ellipse cx=\"137\" cy=\"229.96\" fill=\"#A80036\" rx=\"2\" ry=\"2\" style=\"stroke: #A80036; stroke-width: 1.0;\"/></a><!--MD5=[af743aa221c57127914618ec843fef83]\n",
       "@startuml\r\n",
       "skinparam wrapWidth 300\r\n",
       "hide circle\r\n",
       "\r\n",
       "package \"ItemTest\" as E1  [[psysml:05177c11-5394-41b2-a0a0-71a4c06ed611 ]]  {\r\n",
       "comp usage \"f: A \" as E2  <<(T,blue) item>> [[psysml:9b37ce48-aa06-4adb-ba3b-3b1410731947 ]] {\r\n",
       "}\r\n",
       "comp def \"A\" as E3  <<(T,blue) item  def>> [[psysml:373f36dd-9125-4f4d-9beb-8d6cd21e1469 ]] {\r\n",
       "}\r\n",
       "comp usage \"b: B \" as E4  <<(T,blue) item>> [[psysml:130e11a2-3d5f-4cd9-b0cd-9225a7528360 ]] {\r\n",
       "}\r\n",
       "comp usage \"c: C \" as E5  <<(T,blue) part>> [[psysml:80ae9a50-ac1f-4423-b935-68d8f5716f01 ]] {\r\n",
       "}\r\n",
       "comp def \"<i>B</i>\" as E6  <<(T,blue) item  def>> [[psysml:7d838d86-0408-4401-9cbf-32b733f3993a ]] {\r\n",
       "}\r\n",
       "comp usage \"<i>a</i>: A \" as E7  <<(T,blue) part>> [[psysml:d06b8fcb-8cda-493c-875d-bdf01ed715df ]] {\r\n",
       "}\r\n",
       "comp def \"C\" as E8  <<(T,blue) part  def>> [[psysml:a2efb8df-7581-49ed-b24f-8030c12b0405 ]] {\r\n",
       "}\r\n",
       "comp def \"P\" as E9  <<(T,blue) port  def>> [[psysml:91f3ce36-c57b-44eb-a625-32b1f3011842 ]] {\r\n",
       "}\r\n",
       "comp usage \"a1: A \" as E10  <<(T,blue) item>> [[psysml:5a8db81a-c733-4c6f-be90-4f9ffe214caa ]] {\r\n",
       "}\r\n",
       "comp usage \"a2: A \" as E11  <<(T,blue) item>> [[psysml:50797105-d3dc-4af6-be0e-986a23cb6cc7 ]] {\r\n",
       "}\r\n",
       "}\r\n",
       "E2 - -:|> E3 [[psysml:2d349f36-3ef3-481f-a80c-9f5be02d82e3 ]] \r\n",
       "E3 *- - \"1\"E4 [[psysml:1fc0b9c6-f917-494b-8539-e8a30a151a21 ]] \r\n",
       "E3 o- - \"1\"E5 [[psysml:1188b8bd-fcbe-4041-bfa3-3c6757b772de ]] \r\n",
       "E4 - -:|> E6 [[psysml:b444802f-fd06-4322-964d-2bd41504258e ]] \r\n",
       "E6 *- - \"1\"E7 [[psysml:fe8fc95e-22bb-46d1-b0fd-61d73c45474f ]] \r\n",
       "E7 - -:|> E3 [[psysml:599ea15b-bb0f-4f03-a502-f2e1a3a71e91 ]] \r\n",
       "E5 - -:|> E8 [[psysml:ebb03462-10dd-4a39-86ac-c1648f226bb6 ]] \r\n",
       "E8 o- - E3 [[psysml:4ca20137-091c-4af4-8b05-aa2379f8c92e ]] : y\r\n",
       "E8 o- - E6 [[psysml:4ca20137-091c-4af4-8b05-aa2379f8c92e ]] : y\r\n",
       "E9 o- - \"1\"E10 [[psysml:bbec5841-3ffd-488b-b643-01adfe752a25 ]] \r\n",
       "E10 - -:|> E3 [[psysml:fb12afbf-9138-40ff-bf3b-75b81b096774 ]] \r\n",
       "E9 o- - \"1\"E11 [[psysml:20edee2c-da5c-4ff9-9cec-febcc5f58071 ]] \r\n",
       "E11 - -:|> E3 [[psysml:6098403c-f8e4-4c64-8bc6-7f6e4aceb826 ]] \r\n",
       "@enduml\r\n",
       "\n",
       "PlantUML version 1.2020.13(Sat Jun 13 12:26:38 UTC 2020)\n",
       "(EPL source distribution)\n",
       "Java Runtime: OpenJDK Runtime Environment\n",
       "JVM: OpenJDK 64-Bit Server VM\n",
       "Default Encoding: UTF-8\n",
       "Language: en\n",
       "Country: null\n",
       "--></g></svg>"
      ]
     },
     "execution_count": 29,
     "metadata": {},
     "output_type": "execute_result"
    }
   ],
   "source": [
    "%viz --style=\"STDCOLOR\" --view=\"MIXED\" \"ItemTest\""
   ]
  },
  {
   "cell_type": "code",
   "execution_count": 30,
   "id": "594a480c",
   "metadata": {
    "execution": {
     "iopub.execute_input": "2022-04-22T09:48:25.163243Z",
     "iopub.status.busy": "2022-04-22T09:48:25.162926Z",
     "iopub.status.idle": "2022-04-22T09:48:25.231532Z",
     "shell.execute_reply": "2022-04-22T09:48:25.231222Z"
    }
   },
   "outputs": [
    {
     "data": {
      "image/svg+xml": [
       "<?xml version=\"1.0\" encoding=\"UTF-8\" standalone=\"no\"?><svg xmlns=\"http://www.w3.org/2000/svg\" xmlns:xlink=\"http://www.w3.org/1999/xlink\" contentScriptType=\"application/ecmascript\" contentStyleType=\"text/css\" height=\"788px\" preserveAspectRatio=\"none\" style=\"width:332px;height:788px;\" version=\"1.1\" viewBox=\"0 0 332 788\" width=\"332px\" zoomAndPan=\"magnify\"><defs><filter height=\"300%\" id=\"flzd1jehyxlk7\" width=\"300%\" x=\"-1\" y=\"-1\"><feGaussianBlur result=\"blurOut\" stdDeviation=\"2.0\"/><feColorMatrix in=\"blurOut\" result=\"blurOut2\" type=\"matrix\" values=\"0 0 0 0 0 0 0 0 0 0 0 0 0 0 0 0 0 0 .4 0\"/><feOffset dx=\"4.0\" dy=\"4.0\" in=\"blurOut2\" result=\"blurOut3\"/><feBlend in=\"SourceGraphic\" in2=\"blurOut3\" mode=\"normal\"/></filter></defs><g><!--MD5=[fbc87193dbaf4d95561dea2c320d4a47]\n",
       "cluster E1--><a href=\"psysml:05177c11-5394-41b2-a0a0-71a4c06ed611\" target=\"_top\" title=\"psysml:05177c11-5394-41b2-a0a0-71a4c06ed611\" xlink:actuate=\"onRequest\" xlink:href=\"psysml:05177c11-5394-41b2-a0a0-71a4c06ed611\" xlink:show=\"new\" xlink:title=\"psysml:05177c11-5394-41b2-a0a0-71a4c06ed611\" xlink:type=\"simple\"><polygon fill=\"#FFFFFF\" filter=\"url(#flzd1jehyxlk7)\" points=\"16,6,83,6,90,28.2969,310,28.2969,310,776,16,776,16,6\" style=\"stroke: #000000; stroke-width: 1.5;\"/><line style=\"stroke: #000000; stroke-width: 1.5;\" x1=\"16\" x2=\"90\" y1=\"28.2969\" y2=\"28.2969\"/><text fill=\"#000000\" font-family=\"sans-serif\" font-size=\"14\" font-weight=\"bold\" lengthAdjust=\"spacingAndGlyphs\" textLength=\"61\" x=\"20\" y=\"20.9951\">ItemTest</text></a><!--MD5=[b4997ac47864f28c2f74865a473b2911]\n",
       "class E2--><a href=\"psysml:9b37ce48-aa06-4adb-ba3b-3b1410731947\" target=\"_top\" title=\"psysml:9b37ce48-aa06-4adb-ba3b-3b1410731947\" xlink:actuate=\"onRequest\" xlink:href=\"psysml:9b37ce48-aa06-4adb-ba3b-3b1410731947\" xlink:show=\"new\" xlink:title=\"psysml:9b37ce48-aa06-4adb-ba3b-3b1410731947\" xlink:type=\"simple\"><rect fill=\"#FEFECE\" filter=\"url(#flzd1jehyxlk7)\" height=\"40\" id=\"E2\" rx=\"10\" ry=\"10\" style=\"stroke: #A80036; stroke-width: 1.5;\" width=\"56\" x=\"238\" y=\"148\"/><ellipse cx=\"253\" cy=\"164\" fill=\"#32CD32\" rx=\"11\" ry=\"11\" style=\"stroke: #A80036; stroke-width: 1.0;\"/><path d=\"M249.8125,169 L249.8125,158.4063 L253.4219,158.4063 Q254.6406,158.4063 255.4375,158.8438 Q256.2344,159.2656 256.6094,159.9688 Q257,160.6719 257,161.5156 Q257,162.3594 256.625,163.0469 Q256.2656,163.7344 255.4688,164.1563 Q254.6875,164.5625 253.5,164.5625 L251.7656,164.5625 L251.7656,169 L249.8125,169 Z M251.7656,162.9688 L253.375,162.9688 Q254.1875,162.9688 254.6094,162.5625 Q255.0313,162.1563 255.0313,161.5156 Q255.0313,160.8906 254.6094,160.4844 Q254.1875,160.0781 253.3906,160.0781 L251.7656,160.0781 L251.7656,162.9688 Z \"/><text fill=\"#000000\" font-family=\"sans-serif\" font-size=\"12\" lengthAdjust=\"spacingAndGlyphs\" textLength=\"20\" x=\"267\" y=\"168.1543\">f: A</text><line style=\"stroke: #A80036; stroke-width: 1.5;\" x1=\"239\" x2=\"293\" y1=\"180\" y2=\"180\"/></a><!--MD5=[09b614a08d8cba4a07c9adeb5e0fee81]\n",
       "class E3--><a href=\"psysml:373f36dd-9125-4f4d-9beb-8d6cd21e1469\" target=\"_top\" title=\"psysml:373f36dd-9125-4f4d-9beb-8d6cd21e1469\" xlink:actuate=\"onRequest\" xlink:href=\"psysml:373f36dd-9125-4f4d-9beb-8d6cd21e1469\" xlink:show=\"new\" xlink:title=\"psysml:373f36dd-9125-4f4d-9beb-8d6cd21e1469\" xlink:type=\"simple\"><rect fill=\"#FEFECE\" filter=\"url(#flzd1jehyxlk7)\" height=\"40\" id=\"E3\" style=\"stroke: #A80036; stroke-width: 1.5;\" width=\"40\" x=\"149\" y=\"249\"/><ellipse cx=\"164\" cy=\"265\" fill=\"#008000\" rx=\"11\" ry=\"11\" style=\"stroke: #A80036; stroke-width: 1.0;\"/><path d=\"M160.875,270 L160.875,259.4063 L164.1094,259.4063 Q166.0156,259.4063 166.9219,260.1563 Q167.8438,260.9063 167.8438,262.0781 Q167.8438,262.7656 167.4531,263.4219 Q167.0781,264.0781 166.3594,264.375 Q167.2188,264.75 167.7344,265.4375 Q168.25,266.125 168.25,266.9375 Q168.25,268.3125 167.2188,269.1563 Q166.2031,270 164.0938,270 L160.875,270 Z M162.7969,263.6406 L163.9531,263.6406 Q165.0781,263.6406 165.4844,263.2656 Q165.9063,262.875 165.9063,262.25 Q165.9063,261.6719 165.4844,261.3125 Q165.0625,260.9531 164.125,260.9531 L162.7969,260.9531 L162.7969,263.6406 Z M162.7969,268.4219 L164.2969,268.4219 Q165.2031,268.4219 165.7344,268.0313 Q166.2656,267.6406 166.2656,266.8906 Q166.2656,266.125 165.7656,265.6563 Q165.2656,265.1719 164,265.1719 L162.7969,265.1719 L162.7969,268.4219 Z \"/><text fill=\"#000000\" font-family=\"sans-serif\" font-size=\"12\" lengthAdjust=\"spacingAndGlyphs\" textLength=\"8\" x=\"178\" y=\"269.1543\">A</text><line style=\"stroke: #A80036; stroke-width: 1.5;\" x1=\"150\" x2=\"188\" y1=\"281\" y2=\"281\"/></a><!--MD5=[ebbe1d658d1005bcc118a6aa81145e00]\n",
       "class E4--><a href=\"psysml:130e11a2-3d5f-4cd9-b0cd-9225a7528360\" target=\"_top\" title=\"psysml:130e11a2-3d5f-4cd9-b0cd-9225a7528360\" xlink:actuate=\"onRequest\" xlink:href=\"psysml:130e11a2-3d5f-4cd9-b0cd-9225a7528360\" xlink:show=\"new\" xlink:title=\"psysml:130e11a2-3d5f-4cd9-b0cd-9225a7528360\" xlink:type=\"simple\"><rect fill=\"#FEFECE\" filter=\"url(#flzd1jehyxlk7)\" height=\"40\" id=\"E4\" rx=\"10\" ry=\"10\" style=\"stroke: #A80036; stroke-width: 1.5;\" width=\"60\" x=\"49\" y=\"426\"/><ellipse cx=\"64\" cy=\"442\" fill=\"#32CD32\" rx=\"11\" ry=\"11\" style=\"stroke: #A80036; stroke-width: 1.0;\"/><path d=\"M60.8125,447 L60.8125,436.4063 L64.4219,436.4063 Q65.6406,436.4063 66.4375,436.8438 Q67.2344,437.2656 67.6094,437.9688 Q68,438.6719 68,439.5156 Q68,440.3594 67.625,441.0469 Q67.2656,441.7344 66.4688,442.1563 Q65.6875,442.5625 64.5,442.5625 L62.7656,442.5625 L62.7656,447 L60.8125,447 Z M62.7656,440.9688 L64.375,440.9688 Q65.1875,440.9688 65.6094,440.5625 Q66.0313,440.1563 66.0313,439.5156 Q66.0313,438.8906 65.6094,438.4844 Q65.1875,438.0781 64.3906,438.0781 L62.7656,438.0781 L62.7656,440.9688 Z \"/><text fill=\"#000000\" font-family=\"sans-serif\" font-size=\"12\" lengthAdjust=\"spacingAndGlyphs\" textLength=\"24\" x=\"78\" y=\"446.1543\">b: B</text><line style=\"stroke: #A80036; stroke-width: 1.5;\" x1=\"50\" x2=\"108\" y1=\"458\" y2=\"458\"/></a><!--MD5=[270fce915f116d4de14055a7c1d9a0f3]\n",
       "class E5--><a href=\"psysml:80ae9a50-ac1f-4423-b935-68d8f5716f01\" target=\"_top\" title=\"psysml:80ae9a50-ac1f-4423-b935-68d8f5716f01\" xlink:actuate=\"onRequest\" xlink:href=\"psysml:80ae9a50-ac1f-4423-b935-68d8f5716f01\" xlink:show=\"new\" xlink:title=\"psysml:80ae9a50-ac1f-4423-b935-68d8f5716f01\" xlink:type=\"simple\"><rect fill=\"#FEFECE\" filter=\"url(#flzd1jehyxlk7)\" height=\"45.9375\" id=\"E5\" rx=\"10\" ry=\"10\" style=\"stroke: #A80036; stroke-width: 1.5;\" width=\"68\" x=\"176\" y=\"350\"/><ellipse cx=\"191\" cy=\"368.9688\" fill=\"#32CD32\" rx=\"11\" ry=\"11\" style=\"stroke: #A80036; stroke-width: 1.0;\"/><path d=\"M187.8125,373.9688 L187.8125,363.375 L191.4219,363.375 Q192.6406,363.375 193.4375,363.8125 Q194.2344,364.2344 194.6094,364.9375 Q195,365.6406 195,366.4844 Q195,367.3281 194.625,368.0156 Q194.2656,368.7031 193.4688,369.125 Q192.6875,369.5313 191.5,369.5313 L189.7656,369.5313 L189.7656,373.9688 L187.8125,373.9688 Z M189.7656,367.9375 L191.375,367.9375 Q192.1875,367.9375 192.6094,367.5313 Q193.0313,367.125 193.0313,366.4844 Q193.0313,365.8594 192.6094,365.4531 Q192.1875,365.0469 191.3906,365.0469 L189.7656,365.0469 L189.7656,367.9375 Z \"/><text fill=\"#000000\" font-family=\"sans-serif\" font-size=\"12\" font-style=\"italic\" lengthAdjust=\"spacingAndGlyphs\" textLength=\"40\" x=\"203\" y=\"366.1387\">«part»</text><text fill=\"#000000\" font-family=\"sans-serif\" font-size=\"12\" lengthAdjust=\"spacingAndGlyphs\" textLength=\"23\" x=\"209.5\" y=\"380.1074\">c: C</text><line style=\"stroke: #A80036; stroke-width: 1.5;\" x1=\"177\" x2=\"243\" y1=\"387.9375\" y2=\"387.9375\"/></a><!--MD5=[60a26617385b1d2d0262a64233df1f8d]\n",
       "class E6--><a href=\"psysml:7d838d86-0408-4401-9cbf-32b733f3993a\" target=\"_top\" title=\"psysml:7d838d86-0408-4401-9cbf-32b733f3993a\" xlink:actuate=\"onRequest\" xlink:href=\"psysml:7d838d86-0408-4401-9cbf-32b733f3993a\" xlink:show=\"new\" xlink:title=\"psysml:7d838d86-0408-4401-9cbf-32b733f3993a\" xlink:type=\"simple\"><rect fill=\"#FEFECE\" filter=\"url(#flzd1jehyxlk7)\" height=\"40\" id=\"E6\" style=\"stroke: #A80036; stroke-width: 1.5;\" width=\"40\" x=\"134\" y=\"613\"/><ellipse cx=\"149\" cy=\"629\" fill=\"#008000\" rx=\"11\" ry=\"11\" style=\"stroke: #A80036; stroke-width: 1.0;\"/><path d=\"M145.875,634 L145.875,623.4063 L149.1094,623.4063 Q151.0156,623.4063 151.9219,624.1563 Q152.8438,624.9063 152.8438,626.0781 Q152.8438,626.7656 152.4531,627.4219 Q152.0781,628.0781 151.3594,628.375 Q152.2188,628.75 152.7344,629.4375 Q153.25,630.125 153.25,630.9375 Q153.25,632.3125 152.2188,633.1563 Q151.2031,634 149.0938,634 L145.875,634 Z M147.7969,627.6406 L148.9531,627.6406 Q150.0781,627.6406 150.4844,627.2656 Q150.9063,626.875 150.9063,626.25 Q150.9063,625.6719 150.4844,625.3125 Q150.0625,624.9531 149.125,624.9531 L147.7969,624.9531 L147.7969,627.6406 Z M147.7969,632.4219 L149.2969,632.4219 Q150.2031,632.4219 150.7344,632.0313 Q151.2656,631.6406 151.2656,630.8906 Q151.2656,630.125 150.7656,629.6563 Q150.2656,629.1719 149,629.1719 L147.7969,629.1719 L147.7969,632.4219 Z \"/><text fill=\"#000000\" font-family=\"sans-serif\" font-size=\"12\" font-style=\"italic\" lengthAdjust=\"spacingAndGlyphs\" textLength=\"8\" x=\"163\" y=\"633.1543\">B</text><line style=\"stroke: #A80036; stroke-width: 1.5;\" x1=\"135\" x2=\"173\" y1=\"645\" y2=\"645\"/></a><!--MD5=[2156ba9850f5573cc1fc38a6a4b2f02b]\n",
       "class E7--><a href=\"psysml:d06b8fcb-8cda-493c-875d-bdf01ed715df\" target=\"_top\" title=\"psysml:d06b8fcb-8cda-493c-875d-bdf01ed715df\" xlink:actuate=\"onRequest\" xlink:href=\"psysml:d06b8fcb-8cda-493c-875d-bdf01ed715df\" xlink:show=\"new\" xlink:title=\"psysml:d06b8fcb-8cda-493c-875d-bdf01ed715df\" xlink:type=\"simple\"><rect fill=\"#FEFECE\" filter=\"url(#flzd1jehyxlk7)\" height=\"45.9375\" id=\"E7\" rx=\"10\" ry=\"10\" style=\"stroke: #A80036; stroke-width: 1.5;\" width=\"68\" x=\"208\" y=\"714\"/><ellipse cx=\"223\" cy=\"732.9688\" fill=\"#32CD32\" rx=\"11\" ry=\"11\" style=\"stroke: #A80036; stroke-width: 1.0;\"/><path d=\"M219.8125,737.9688 L219.8125,727.375 L223.4219,727.375 Q224.6406,727.375 225.4375,727.8125 Q226.2344,728.2344 226.6094,728.9375 Q227,729.6406 227,730.4844 Q227,731.3281 226.625,732.0156 Q226.2656,732.7031 225.4688,733.125 Q224.6875,733.5313 223.5,733.5313 L221.7656,733.5313 L221.7656,737.9688 L219.8125,737.9688 Z M221.7656,731.9375 L223.375,731.9375 Q224.1875,731.9375 224.6094,731.5313 Q225.0313,731.125 225.0313,730.4844 Q225.0313,729.8594 224.6094,729.4531 Q224.1875,729.0469 223.3906,729.0469 L221.7656,729.0469 L221.7656,731.9375 Z \"/><text fill=\"#000000\" font-family=\"sans-serif\" font-size=\"12\" font-style=\"italic\" lengthAdjust=\"spacingAndGlyphs\" textLength=\"40\" x=\"235\" y=\"730.1387\">«part»</text><text fill=\"#000000\" font-family=\"sans-serif\" font-size=\"12\" font-style=\"italic\" lengthAdjust=\"spacingAndGlyphs\" textLength=\"8\" x=\"241\" y=\"744.1074\">a</text><text fill=\"#000000\" font-family=\"sans-serif\" font-size=\"12\" lengthAdjust=\"spacingAndGlyphs\" textLength=\"16\" x=\"249\" y=\"744.1074\">: A</text><line style=\"stroke: #A80036; stroke-width: 1.5;\" x1=\"209\" x2=\"275\" y1=\"751.9375\" y2=\"751.9375\"/></a><!--MD5=[b9389687b975829384b498ac4b7476b2]\n",
       "class E8--><a href=\"psysml:a2efb8df-7581-49ed-b24f-8030c12b0405\" target=\"_top\" title=\"psysml:a2efb8df-7581-49ed-b24f-8030c12b0405\" xlink:actuate=\"onRequest\" xlink:href=\"psysml:a2efb8df-7581-49ed-b24f-8030c12b0405\" xlink:show=\"new\" xlink:title=\"psysml:a2efb8df-7581-49ed-b24f-8030c12b0405\" xlink:type=\"simple\"><rect fill=\"#FEFECE\" filter=\"url(#flzd1jehyxlk7)\" height=\"40\" id=\"E8\" style=\"stroke: #A80036; stroke-width: 1.5;\" width=\"40\" x=\"134\" y=\"496\"/><ellipse cx=\"149\" cy=\"512\" fill=\"#008000\" rx=\"11\" ry=\"11\" style=\"stroke: #A80036; stroke-width: 1.0;\"/><path d=\"M145.875,517 L145.875,506.4063 L149.1094,506.4063 Q151.0156,506.4063 151.9219,507.1563 Q152.8438,507.9063 152.8438,509.0781 Q152.8438,509.7656 152.4531,510.4219 Q152.0781,511.0781 151.3594,511.375 Q152.2188,511.75 152.7344,512.4375 Q153.25,513.125 153.25,513.9375 Q153.25,515.3125 152.2188,516.1563 Q151.2031,517 149.0938,517 L145.875,517 Z M147.7969,510.6406 L148.9531,510.6406 Q150.0781,510.6406 150.4844,510.2656 Q150.9063,509.875 150.9063,509.25 Q150.9063,508.6719 150.4844,508.3125 Q150.0625,507.9531 149.125,507.9531 L147.7969,507.9531 L147.7969,510.6406 Z M147.7969,515.4219 L149.2969,515.4219 Q150.2031,515.4219 150.7344,515.0313 Q151.2656,514.6406 151.2656,513.8906 Q151.2656,513.125 150.7656,512.6563 Q150.2656,512.1719 149,512.1719 L147.7969,512.1719 L147.7969,515.4219 Z \"/><text fill=\"#000000\" font-family=\"sans-serif\" font-size=\"12\" lengthAdjust=\"spacingAndGlyphs\" textLength=\"8\" x=\"163\" y=\"516.1543\">C</text><line style=\"stroke: #A80036; stroke-width: 1.5;\" x1=\"135\" x2=\"173\" y1=\"528\" y2=\"528\"/></a><!--MD5=[fd4143e9d270a159db93a4ea2a975926]\n",
       "class E9--><a href=\"psysml:91f3ce36-c57b-44eb-a625-32b1f3011842\" target=\"_top\" title=\"psysml:91f3ce36-c57b-44eb-a625-32b1f3011842\" xlink:actuate=\"onRequest\" xlink:href=\"psysml:91f3ce36-c57b-44eb-a625-32b1f3011842\" xlink:show=\"new\" xlink:title=\"psysml:91f3ce36-c57b-44eb-a625-32b1f3011842\" xlink:type=\"simple\"><rect fill=\"#FEFECE\" filter=\"url(#flzd1jehyxlk7)\" height=\"45.9375\" id=\"E9\" style=\"stroke: #A80036; stroke-width: 1.5;\" width=\"96\" x=\"76\" y=\"41\"/><ellipse cx=\"91\" cy=\"59.9688\" fill=\"#A52A2A\" rx=\"11\" ry=\"11\" style=\"stroke: #A80036; stroke-width: 1.0;\"/><path d=\"M88.2188,64.9688 L88.2188,54.375 L90.9531,54.375 Q92.3438,54.375 93.1094,54.7656 Q93.8906,55.1406 94.4219,55.8438 Q94.9531,56.5469 95.25,57.5469 Q95.5469,58.5313 95.5469,59.75 Q95.5,61.3438 95,62.5313 Q94.5156,63.7031 93.4688,64.3438 Q92.4375,64.9688 90.75,64.9688 L88.2188,64.9688 Z M90.0781,63.4688 L90.7031,63.4688 Q91.7813,63.4688 92.4375,63.0156 Q93.0938,62.5625 93.375,61.7344 Q93.6719,60.8906 93.6563,59.7656 Q93.6563,58.5938 93.4063,57.7344 Q93.1563,56.8594 92.5469,56.3906 Q91.9375,55.9063 90.8906,55.9063 L90.0781,55.9063 L90.0781,63.4688 Z \"/><text fill=\"#000000\" font-family=\"sans-serif\" font-size=\"12\" font-style=\"italic\" lengthAdjust=\"spacingAndGlyphs\" textLength=\"68\" x=\"103\" y=\"57.1387\">«port  def»</text><text fill=\"#000000\" font-family=\"sans-serif\" font-size=\"12\" lengthAdjust=\"spacingAndGlyphs\" textLength=\"8\" x=\"133\" y=\"71.1074\">P</text><line style=\"stroke: #A80036; stroke-width: 1.5;\" x1=\"77\" x2=\"171\" y1=\"78.9375\" y2=\"78.9375\"/></a><!--MD5=[96f4274e9e20536e775497830990834d]\n",
       "class E10--><a href=\"psysml:5a8db81a-c733-4c6f-be90-4f9ffe214caa\" target=\"_top\" title=\"psysml:5a8db81a-c733-4c6f-be90-4f9ffe214caa\" xlink:actuate=\"onRequest\" xlink:href=\"psysml:5a8db81a-c733-4c6f-be90-4f9ffe214caa\" xlink:show=\"new\" xlink:title=\"psysml:5a8db81a-c733-4c6f-be90-4f9ffe214caa\" xlink:type=\"simple\"><rect fill=\"#FEFECE\" filter=\"url(#flzd1jehyxlk7)\" height=\"40\" id=\"E10\" rx=\"10\" ry=\"10\" style=\"stroke: #A80036; stroke-width: 1.5;\" width=\"68\" x=\"32\" y=\"148\"/><ellipse cx=\"47\" cy=\"164\" fill=\"#32CD32\" rx=\"11\" ry=\"11\" style=\"stroke: #A80036; stroke-width: 1.0;\"/><path d=\"M43.8125,169 L43.8125,158.4063 L47.4219,158.4063 Q48.6406,158.4063 49.4375,158.8438 Q50.2344,159.2656 50.6094,159.9688 Q51,160.6719 51,161.5156 Q51,162.3594 50.625,163.0469 Q50.2656,163.7344 49.4688,164.1563 Q48.6875,164.5625 47.5,164.5625 L45.7656,164.5625 L45.7656,169 L43.8125,169 Z M45.7656,162.9688 L47.375,162.9688 Q48.1875,162.9688 48.6094,162.5625 Q49.0313,162.1563 49.0313,161.5156 Q49.0313,160.8906 48.6094,160.4844 Q48.1875,160.0781 47.3906,160.0781 L45.7656,160.0781 L45.7656,162.9688 Z \"/><text fill=\"#000000\" font-family=\"sans-serif\" font-size=\"12\" lengthAdjust=\"spacingAndGlyphs\" textLength=\"32\" x=\"61\" y=\"168.1543\">a1: A</text><line style=\"stroke: #A80036; stroke-width: 1.5;\" x1=\"33\" x2=\"99\" y1=\"180\" y2=\"180\"/></a><!--MD5=[1dd1bfd58a279cf63c5f349dbc8fc6a1]\n",
       "class E11--><a href=\"psysml:50797105-d3dc-4af6-be0e-986a23cb6cc7\" target=\"_top\" title=\"psysml:50797105-d3dc-4af6-be0e-986a23cb6cc7\" xlink:actuate=\"onRequest\" xlink:href=\"psysml:50797105-d3dc-4af6-be0e-986a23cb6cc7\" xlink:show=\"new\" xlink:title=\"psysml:50797105-d3dc-4af6-be0e-986a23cb6cc7\" xlink:type=\"simple\"><rect fill=\"#FEFECE\" filter=\"url(#flzd1jehyxlk7)\" height=\"40\" id=\"E11\" rx=\"10\" ry=\"10\" style=\"stroke: #A80036; stroke-width: 1.5;\" width=\"68\" x=\"135\" y=\"148\"/><ellipse cx=\"150\" cy=\"164\" fill=\"#32CD32\" rx=\"11\" ry=\"11\" style=\"stroke: #A80036; stroke-width: 1.0;\"/><path d=\"M146.8125,169 L146.8125,158.4063 L150.4219,158.4063 Q151.6406,158.4063 152.4375,158.8438 Q153.2344,159.2656 153.6094,159.9688 Q154,160.6719 154,161.5156 Q154,162.3594 153.625,163.0469 Q153.2656,163.7344 152.4688,164.1563 Q151.6875,164.5625 150.5,164.5625 L148.7656,164.5625 L148.7656,169 L146.8125,169 Z M148.7656,162.9688 L150.375,162.9688 Q151.1875,162.9688 151.6094,162.5625 Q152.0313,162.1563 152.0313,161.5156 Q152.0313,160.8906 151.6094,160.4844 Q151.1875,160.0781 150.3906,160.0781 L148.7656,160.0781 L148.7656,162.9688 Z \"/><text fill=\"#000000\" font-family=\"sans-serif\" font-size=\"12\" lengthAdjust=\"spacingAndGlyphs\" textLength=\"32\" x=\"164\" y=\"168.1543\">a2: A</text><line style=\"stroke: #A80036; stroke-width: 1.5;\" x1=\"136\" x2=\"202\" y1=\"180\" y2=\"180\"/></a><!--MD5=[2720a5a1f2c3fca2055b230370638851]\n",
       "link E2 to E3--><a href=\"psysml:2d349f36-3ef3-481f-a80c-9f5be02d82e3\" target=\"_top\" title=\"psysml:2d349f36-3ef3-481f-a80c-9f5be02d82e3\" xlink:actuate=\"onRequest\" xlink:href=\"psysml:2d349f36-3ef3-481f-a80c-9f5be02d82e3\" xlink:show=\"new\" xlink:title=\"psysml:2d349f36-3ef3-481f-a80c-9f5be02d82e3\" xlink:type=\"simple\"><path d=\"M247.3,188.09 C234.42,201.24 216.95,219.06 201.79,234.53 \" fill=\"none\" id=\"E2-&gt;E3\" style=\"stroke: #A80036; stroke-width: 1.0;\"/><polygon fill=\"#FFFFFF\" points=\"187.65,248.97,195.9397,230.4962,205.9437,240.2901,187.65,248.97\" style=\"stroke: #A80036; stroke-width: 1.0;\"/><ellipse cx=\"201.3564\" cy=\"227.8223\" fill=\"#A80036\" rx=\"2\" ry=\"2\" style=\"stroke: #A80036; stroke-width: 1.0;\"/><ellipse cx=\"208.5021\" cy=\"234.8179\" fill=\"#A80036\" rx=\"2\" ry=\"2\" style=\"stroke: #A80036; stroke-width: 1.0;\"/></a><!--MD5=[4672eba38e49728da53d11aeb285b987]\n",
       "reverse link E3 to E4--><a href=\"psysml:1fc0b9c6-f917-494b-8539-e8a30a151a21\" target=\"_top\" title=\"psysml:1fc0b9c6-f917-494b-8539-e8a30a151a21\" xlink:actuate=\"onRequest\" xlink:href=\"psysml:1fc0b9c6-f917-494b-8539-e8a30a151a21\" xlink:show=\"new\" xlink:title=\"psysml:1fc0b9c6-f917-494b-8539-e8a30a151a21\" xlink:type=\"simple\"><path d=\"M138.27,292.03 C120.72,306.42 100.07,326.8 89,350 C77.43,374.25 76.5,405.85 77.38,425.79 \" fill=\"none\" id=\"E3&lt;-E4\" style=\"stroke: #A80036; stroke-width: 1.0;\"/><polygon fill=\"#A80036\" points=\"148.68,283.88,141.4897,284.427,139.2291,291.2746,146.4194,290.7276,148.68,283.88\" style=\"stroke: #A80036; stroke-width: 1.0;\"/><text fill=\"#000000\" font-family=\"sans-serif\" font-size=\"13\" lengthAdjust=\"spacingAndGlyphs\" textLength=\"8\" x=\"67.7994\" y=\"415.0821\">1</text></a><!--MD5=[191cde3d490a3f6d7bb551fe3ddca469]\n",
       "reverse link E3 to E5--><a href=\"psysml:1188b8bd-fcbe-4041-bfa3-3c6757b772de\" target=\"_top\" title=\"psysml:1188b8bd-fcbe-4041-bfa3-3c6757b772de\" xlink:actuate=\"onRequest\" xlink:href=\"psysml:1188b8bd-fcbe-4041-bfa3-3c6757b772de\" xlink:show=\"new\" xlink:title=\"psysml:1188b8bd-fcbe-4041-bfa3-3c6757b772de\" xlink:type=\"simple\"><path d=\"M181.65,301.47 C187.92,317.08 195.36,335.57 201.04,349.7 \" fill=\"none\" id=\"E3&lt;-E5\" style=\"stroke: #A80036; stroke-width: 1.0;\"/><polygon fill=\"#FFFFFF\" points=\"176.71,289.19,175.2345,296.2485,181.1826,300.3253,182.6581,293.2668,176.71,289.19\" style=\"stroke: #A80036; stroke-width: 1.0;\"/><text fill=\"#000000\" font-family=\"sans-serif\" font-size=\"13\" lengthAdjust=\"spacingAndGlyphs\" textLength=\"8\" x=\"189.719\" y=\"338.8994\">1</text></a><!--MD5=[79568f1e445c3877b6a54524624ccc7d]\n",
       "link E4 to E6--><a href=\"psysml:b444802f-fd06-4322-964d-2bd41504258e\" target=\"_top\" title=\"psysml:b444802f-fd06-4322-964d-2bd41504258e\" xlink:actuate=\"onRequest\" xlink:href=\"psysml:b444802f-fd06-4322-964d-2bd41504258e\" xlink:show=\"new\" xlink:title=\"psysml:b444802f-fd06-4322-964d-2bd41504258e\" xlink:type=\"simple\"><path d=\"M86.74,466.1 C98.93,496.15 122.8,555.04 138.58,593.96 \" fill=\"none\" id=\"E4-&gt;E6\" style=\"stroke: #A80036; stroke-width: 1.0;\"/><polygon fill=\"#FFFFFF\" points=\"146.19,612.73,132.5666,597.7499,145.5417,592.4919,146.19,612.73\" style=\"stroke: #A80036; stroke-width: 1.0;\"/><ellipse cx=\"132.2794\" cy=\"591.7161\" fill=\"#A80036\" rx=\"2\" ry=\"2\" style=\"stroke: #A80036; stroke-width: 1.0;\"/><ellipse cx=\"141.5473\" cy=\"587.9604\" fill=\"#A80036\" rx=\"2\" ry=\"2\" style=\"stroke: #A80036; stroke-width: 1.0;\"/></a><!--MD5=[3f50a3473f1dfb74d3f76443e03635af]\n",
       "reverse link E6 to E7--><a href=\"psysml:fe8fc95e-22bb-46d1-b0fd-61d73c45474f\" target=\"_top\" title=\"psysml:fe8fc95e-22bb-46d1-b0fd-61d73c45474f\" xlink:actuate=\"onRequest\" xlink:href=\"psysml:fe8fc95e-22bb-46d1-b0fd-61d73c45474f\" xlink:show=\"new\" xlink:title=\"psysml:fe8fc95e-22bb-46d1-b0fd-61d73c45474f\" xlink:type=\"simple\"><path d=\"M179.15,663.15 C193.01,679.22 209.96,698.87 222.76,713.7 \" fill=\"none\" id=\"E6&lt;-E7\" style=\"stroke: #A80036; stroke-width: 1.0;\"/><polygon fill=\"#A80036\" points=\"170.55,653.19,171.4382,660.3462,178.3855,662.2787,177.4973,655.1225,170.55,653.19\" style=\"stroke: #A80036; stroke-width: 1.0;\"/><text fill=\"#000000\" font-family=\"sans-serif\" font-size=\"13\" lengthAdjust=\"spacingAndGlyphs\" textLength=\"8\" x=\"208.8047\" y=\"702.8994\">1</text></a><!--MD5=[14ccda38c055a5c0da953d572bc50960]\n",
       "link E7 to E3--><a href=\"psysml:599ea15b-bb0f-4f03-a502-f2e1a3a71e91\" target=\"_top\" title=\"psysml:599ea15b-bb0f-4f03-a502-f2e1a3a71e91\" xlink:actuate=\"onRequest\" xlink:href=\"psysml:599ea15b-bb0f-4f03-a502-f2e1a3a71e91\" xlink:show=\"new\" xlink:title=\"psysml:599ea15b-bb0f-4f03-a502-f2e1a3a71e91\" xlink:type=\"simple\"><path d=\"M255.5,713.79 C266.43,693.7 280,662.91 280,634 C280,372 280,372 280,372 C280,331.58 239.6,302.81 207.54,286.34 \" fill=\"none\" id=\"E7-&gt;E3\" style=\"stroke: #A80036; stroke-width: 1.0;\"/><polygon fill=\"#FFFFFF\" points=\"189.1,277.68,209.2735,279.4203,203.3225,292.0925,189.1,277.68\" style=\"stroke: #A80036; stroke-width: 1.0;\"/><ellipse cx=\"213.5828\" cy=\"283.6535\" fill=\"#A80036\" rx=\"2\" ry=\"2\" style=\"stroke: #A80036; stroke-width: 1.0;\"/><ellipse cx=\"209.332\" cy=\"292.7051\" fill=\"#A80036\" rx=\"2\" ry=\"2\" style=\"stroke: #A80036; stroke-width: 1.0;\"/></a><!--MD5=[dfaffb906826c3e5aca635516100ff21]\n",
       "link E5 to E8--><a href=\"psysml:ebb03462-10dd-4a39-86ac-c1648f226bb6\" target=\"_top\" title=\"psysml:ebb03462-10dd-4a39-86ac-c1648f226bb6\" xlink:actuate=\"onRequest\" xlink:href=\"psysml:ebb03462-10dd-4a39-86ac-c1648f226bb6\" xlink:show=\"new\" xlink:title=\"psysml:ebb03462-10dd-4a39-86ac-c1648f226bb6\" xlink:type=\"simple\"><path d=\"M201.25,396.03 C192.66,417.67 179.38,451.1 169.08,477.03 \" fill=\"none\" id=\"E5-&gt;E8\" style=\"stroke: #A80036; stroke-width: 1.0;\"/><polygon fill=\"#FFFFFF\" points=\"161.61,495.84,162.108,475.5977,175.1218,480.7592,161.61,495.84\" style=\"stroke: #A80036; stroke-width: 1.0;\"/><ellipse cx=\"166.0686\" cy=\"471.0366\" fill=\"#A80036\" rx=\"2\" ry=\"2\" style=\"stroke: #A80036; stroke-width: 1.0;\"/><ellipse cx=\"175.3642\" cy=\"474.7233\" fill=\"#A80036\" rx=\"2\" ry=\"2\" style=\"stroke: #A80036; stroke-width: 1.0;\"/></a><!--MD5=[03c8294790d3c57651a1993cecff665f]\n",
       "reverse link E8 to E3--><a href=\"psysml:4ca20137-091c-4af4-8b05-aa2379f8c92e\" target=\"_top\" title=\"psysml:4ca20137-091c-4af4-8b05-aa2379f8c92e\" xlink:actuate=\"onRequest\" xlink:href=\"psysml:4ca20137-091c-4af4-8b05-aa2379f8c92e\" xlink:show=\"new\" xlink:title=\"psysml:4ca20137-091c-4af4-8b05-aa2379f8c92e\" xlink:type=\"simple\"><path d=\"M150.54,482.63 C147.6,449.27 144.63,395.82 150,350 C152.47,328.87 158.5,305.24 163.11,289.17 \" fill=\"none\" id=\"E8&lt;-E3\" style=\"stroke: #A80036; stroke-width: 1.0;\"/><polygon fill=\"#FFFFFF\" points=\"151.77,495.61,155.1851,489.2589,150.636,483.6637,147.2209,490.0148,151.77,495.61\" style=\"stroke: #A80036; stroke-width: 1.0;\"/><text fill=\"#000000\" font-family=\"sans-serif\" font-size=\"13\" lengthAdjust=\"spacingAndGlyphs\" textLength=\"7\" x=\"151\" y=\"377.5669\">y</text></a><!--MD5=[0d75d2178373a6a4568e5dc728f58aef]\n",
       "reverse link E8 to E6--><a href=\"psysml:4ca20137-091c-4af4-8b05-aa2379f8c92e\" target=\"_top\" title=\"psysml:4ca20137-091c-4af4-8b05-aa2379f8c92e\" xlink:actuate=\"onRequest\" xlink:href=\"psysml:4ca20137-091c-4af4-8b05-aa2379f8c92e\" xlink:show=\"new\" xlink:title=\"psysml:4ca20137-091c-4af4-8b05-aa2379f8c92e\" xlink:type=\"simple\"><path d=\"M154,549.36 C154,569.76 154,595.42 154,612.69 \" fill=\"none\" id=\"E8&lt;-E6\" style=\"stroke: #A80036; stroke-width: 1.0;\"/><polygon fill=\"#FFFFFF\" points=\"154,536.25,150,542.25,154,548.25,158,542.25,154,536.25\" style=\"stroke: #A80036; stroke-width: 1.0;\"/><text fill=\"#000000\" font-family=\"sans-serif\" font-size=\"13\" lengthAdjust=\"spacingAndGlyphs\" textLength=\"7\" x=\"155\" y=\"579.0669\">y</text></a><!--MD5=[23ac544a70576c3e717098101004234c]\n",
       "reverse link E9 to E10--><a href=\"psysml:bbec5841-3ffd-488b-b643-01adfe752a25\" target=\"_top\" title=\"psysml:bbec5841-3ffd-488b-b643-01adfe752a25\" xlink:actuate=\"onRequest\" xlink:href=\"psysml:bbec5841-3ffd-488b-b643-01adfe752a25\" xlink:show=\"new\" xlink:title=\"psysml:bbec5841-3ffd-488b-b643-01adfe752a25\" xlink:type=\"simple\"><path d=\"M104.95,98.49 C95.61,114.92 84.7,134.11 76.81,148 \" fill=\"none\" id=\"E9&lt;-E10\" style=\"stroke: #A80036; stroke-width: 1.0;\"/><polygon fill=\"#FFFFFF\" points=\"111.41,87.13,104.9664,90.3672,105.4762,97.5603,111.9199,94.3231,111.41,87.13\" style=\"stroke: #A80036; stroke-width: 1.0;\"/><text fill=\"#000000\" font-family=\"sans-serif\" font-size=\"13\" lengthAdjust=\"spacingAndGlyphs\" textLength=\"8\" x=\"70.8104\" y=\"137.0083\">1</text></a><!--MD5=[feeac5eb423634930294aa81f2d25a4c]\n",
       "link E10 to E3--><a href=\"psysml:fb12afbf-9138-40ff-bf3b-75b81b096774\" target=\"_top\" title=\"psysml:fb12afbf-9138-40ff-bf3b-75b81b096774\" xlink:actuate=\"onRequest\" xlink:href=\"psysml:fb12afbf-9138-40ff-bf3b-75b81b096774\" xlink:show=\"new\" xlink:title=\"psysml:fb12afbf-9138-40ff-bf3b-75b81b096774\" xlink:type=\"simple\"><path d=\"M85.86,188.09 C99.68,201.37 118.47,219.43 134.69,235.02 \" fill=\"none\" id=\"E10-&gt;E3\" style=\"stroke: #A80036; stroke-width: 1.0;\"/><polygon fill=\"#FFFFFF\" points=\"149.2,248.97,130.6476,240.8578,140.3451,230.7604,149.2,248.97\" style=\"stroke: #A80036; stroke-width: 1.0;\"/><ellipse cx=\"127.9219\" cy=\"235.467\" fill=\"#A80036\" rx=\"2\" ry=\"2\" style=\"stroke: #A80036; stroke-width: 1.0;\"/><ellipse cx=\"134.8487\" cy=\"228.2546\" fill=\"#A80036\" rx=\"2\" ry=\"2\" style=\"stroke: #A80036; stroke-width: 1.0;\"/></a><!--MD5=[1fc04a95fd77ad5ce46c1a3027516051]\n",
       "reverse link E9 to E11--><a href=\"psysml:20edee2c-da5c-4ff9-9cec-febcc5f58071\" target=\"_top\" title=\"psysml:20edee2c-da5c-4ff9-9cec-febcc5f58071\" xlink:actuate=\"onRequest\" xlink:href=\"psysml:20edee2c-da5c-4ff9-9cec-febcc5f58071\" xlink:show=\"new\" xlink:title=\"psysml:20edee2c-da5c-4ff9-9cec-febcc5f58071\" xlink:type=\"simple\"><path d=\"M139.2,99.45 C146.35,115.67 154.61,134.38 160.62,148 \" fill=\"none\" id=\"E9&lt;-E11\" style=\"stroke: #A80036; stroke-width: 1.0;\"/><polygon fill=\"#FFFFFF\" points=\"133.76,87.13,132.5217,94.234,138.603,98.1093,139.8413,91.0053,133.76,87.13\" style=\"stroke: #A80036; stroke-width: 1.0;\"/><text fill=\"#000000\" font-family=\"sans-serif\" font-size=\"13\" lengthAdjust=\"spacingAndGlyphs\" textLength=\"8\" x=\"148.9834\" y=\"137.0083\">1</text></a><!--MD5=[0517f1ce58c4d5483948f93845c45e26]\n",
       "link E11 to E3--><a href=\"psysml:6098403c-f8e4-4c64-8bc6-7f6e4aceb826\" target=\"_top\" title=\"psysml:6098403c-f8e4-4c64-8bc6-7f6e4aceb826\" xlink:actuate=\"onRequest\" xlink:href=\"psysml:6098403c-f8e4-4c64-8bc6-7f6e4aceb826\" xlink:show=\"new\" xlink:title=\"psysml:6098403c-f8e4-4c64-8bc6-7f6e4aceb826\" xlink:type=\"simple\"><path d=\"M169,188.09 C169,199.59 169,214.68 169,228.63 \" fill=\"none\" id=\"E11-&gt;E3\" style=\"stroke: #A80036; stroke-width: 1.0;\"/><polygon fill=\"#FFFFFF\" points=\"169,248.97,162,229.97,176,229.97,169,248.97\" style=\"stroke: #A80036; stroke-width: 1.0;\"/><ellipse cx=\"164\" cy=\"224.27\" fill=\"#A80036\" rx=\"2\" ry=\"2\" style=\"stroke: #A80036; stroke-width: 1.0;\"/><ellipse cx=\"174\" cy=\"224.27\" fill=\"#A80036\" rx=\"2\" ry=\"2\" style=\"stroke: #A80036; stroke-width: 1.0;\"/></a><!--MD5=[328d7411c06237698f5426b5deb8376a]\n",
       "@startuml\r\n",
       " \r\n",
       "package \"ItemTest\" as E1  [[psysml:05177c11-5394-41b2-a0a0-71a4c06ed611 ]]  {\r\n",
       "comp usage \"f: A \" as E2 << << (P,limegreen) >> [[psysml:9b37ce48-aa06-4adb-ba3b-3b1410731947 ]] {\r\n",
       "}\r\n",
       "comp def \"A\" as E3 << << (B,green) >> [[psysml:373f36dd-9125-4f4d-9beb-8d6cd21e1469 ]] {\r\n",
       "}\r\n",
       "comp usage \"b: B \" as E4 << << (P,limegreen) >> [[psysml:130e11a2-3d5f-4cd9-b0cd-9225a7528360 ]] {\r\n",
       "}\r\n",
       "comp usage \"c: C \" as E5 << << (P,limegreen) part>> [[psysml:80ae9a50-ac1f-4423-b935-68d8f5716f01 ]] {\r\n",
       "}\r\n",
       "comp def \"<i>B</i>\" as E6 << << (B,green) >> [[psysml:7d838d86-0408-4401-9cbf-32b733f3993a ]] {\r\n",
       "}\r\n",
       "comp usage \"<i>a</i>: A \" as E7 << << (P,limegreen) part>> [[psysml:d06b8fcb-8cda-493c-875d-bdf01ed715df ]] {\r\n",
       "}\r\n",
       "comp def \"C\" as E8 << << (B,green) >> [[psysml:a2efb8df-7581-49ed-b24f-8030c12b0405 ]] {\r\n",
       "}\r\n",
       "comp def \"P\" as E9 << <<(D,brown) port  def>> [[psysml:91f3ce36-c57b-44eb-a625-32b1f3011842 ]] {\r\n",
       "}\r\n",
       "comp usage \"a1: A \" as E10 << << (P,limegreen) >> [[psysml:5a8db81a-c733-4c6f-be90-4f9ffe214caa ]] {\r\n",
       "}\r\n",
       "comp usage \"a2: A \" as E11 << << (P,limegreen) >> [[psysml:50797105-d3dc-4af6-be0e-986a23cb6cc7 ]] {\r\n",
       "}\r\n",
       "}\r\n",
       "E2 - -:|> E3 [[psysml:2d349f36-3ef3-481f-a80c-9f5be02d82e3 ]] \r\n",
       "E3 *- - \"1\"E4 [[psysml:1fc0b9c6-f917-494b-8539-e8a30a151a21 ]] \r\n",
       "E3 o- - \"1\"E5 [[psysml:1188b8bd-fcbe-4041-bfa3-3c6757b772de ]] \r\n",
       "E4 - -:|> E6 [[psysml:b444802f-fd06-4322-964d-2bd41504258e ]] \r\n",
       "E6 *- - \"1\"E7 [[psysml:fe8fc95e-22bb-46d1-b0fd-61d73c45474f ]] \r\n",
       "E7 - -:|> E3 [[psysml:599ea15b-bb0f-4f03-a502-f2e1a3a71e91 ]] \r\n",
       "E5 - -:|> E8 [[psysml:ebb03462-10dd-4a39-86ac-c1648f226bb6 ]] \r\n",
       "E8 o- - E3 [[psysml:4ca20137-091c-4af4-8b05-aa2379f8c92e ]] : y\r\n",
       "E8 o- - E6 [[psysml:4ca20137-091c-4af4-8b05-aa2379f8c92e ]] : y\r\n",
       "E9 o- - \"1\"E10 [[psysml:bbec5841-3ffd-488b-b643-01adfe752a25 ]] \r\n",
       "E10 - -:|> E3 [[psysml:fb12afbf-9138-40ff-bf3b-75b81b096774 ]] \r\n",
       "E9 o- - \"1\"E11 [[psysml:20edee2c-da5c-4ff9-9cec-febcc5f58071 ]] \r\n",
       "E11 - -:|> E3 [[psysml:6098403c-f8e4-4c64-8bc6-7f6e4aceb826 ]] \r\n",
       "@enduml\r\n",
       "\n",
       "PlantUML version 1.2020.13(Sat Jun 13 12:26:38 UTC 2020)\n",
       "(EPL source distribution)\n",
       "Java Runtime: OpenJDK Runtime Environment\n",
       "JVM: OpenJDK 64-Bit Server VM\n",
       "Default Encoding: UTF-8\n",
       "Language: en\n",
       "Country: null\n",
       "--></g></svg>"
      ]
     },
     "execution_count": 30,
     "metadata": {},
     "output_type": "execute_result"
    }
   ],
   "source": [
    "%viz --style=\"PLANTUML\" --view=\"Default\" \"ItemTest\""
   ]
  },
  {
   "cell_type": "code",
   "execution_count": 31,
   "id": "25140edc",
   "metadata": {
    "execution": {
     "iopub.execute_input": "2022-04-22T09:48:25.280742Z",
     "iopub.status.busy": "2022-04-22T09:48:25.280503Z",
     "iopub.status.idle": "2022-04-22T09:48:25.324452Z",
     "shell.execute_reply": "2022-04-22T09:48:25.324257Z"
    }
   },
   "outputs": [
    {
     "data": {
      "image/svg+xml": [
       "<?xml version=\"1.0\" encoding=\"UTF-8\" standalone=\"no\"?><svg xmlns=\"http://www.w3.org/2000/svg\" xmlns:xlink=\"http://www.w3.org/1999/xlink\" contentScriptType=\"application/ecmascript\" contentStyleType=\"text/css\" height=\"788px\" preserveAspectRatio=\"none\" style=\"width:332px;height:788px;\" version=\"1.1\" viewBox=\"0 0 332 788\" width=\"332px\" zoomAndPan=\"magnify\"><defs><filter height=\"300%\" id=\"flzd1jehyxlk7\" width=\"300%\" x=\"-1\" y=\"-1\"><feGaussianBlur result=\"blurOut\" stdDeviation=\"2.0\"/><feColorMatrix in=\"blurOut\" result=\"blurOut2\" type=\"matrix\" values=\"0 0 0 0 0 0 0 0 0 0 0 0 0 0 0 0 0 0 .4 0\"/><feOffset dx=\"4.0\" dy=\"4.0\" in=\"blurOut2\" result=\"blurOut3\"/><feBlend in=\"SourceGraphic\" in2=\"blurOut3\" mode=\"normal\"/></filter></defs><g><!--MD5=[fbc87193dbaf4d95561dea2c320d4a47]\n",
       "cluster E1--><a href=\"psysml:05177c11-5394-41b2-a0a0-71a4c06ed611\" target=\"_top\" title=\"psysml:05177c11-5394-41b2-a0a0-71a4c06ed611\" xlink:actuate=\"onRequest\" xlink:href=\"psysml:05177c11-5394-41b2-a0a0-71a4c06ed611\" xlink:show=\"new\" xlink:title=\"psysml:05177c11-5394-41b2-a0a0-71a4c06ed611\" xlink:type=\"simple\"><polygon fill=\"#FFFFFF\" filter=\"url(#flzd1jehyxlk7)\" points=\"16,6,83,6,90,28.2969,310,28.2969,310,776,16,776,16,6\" style=\"stroke: #000000; stroke-width: 1.5;\"/><line style=\"stroke: #000000; stroke-width: 1.5;\" x1=\"16\" x2=\"90\" y1=\"28.2969\" y2=\"28.2969\"/><text fill=\"#000000\" font-family=\"sans-serif\" font-size=\"14\" font-weight=\"bold\" lengthAdjust=\"spacingAndGlyphs\" textLength=\"61\" x=\"20\" y=\"20.9951\">ItemTest</text></a><!--MD5=[b4997ac47864f28c2f74865a473b2911]\n",
       "class E2--><a href=\"psysml:9b37ce48-aa06-4adb-ba3b-3b1410731947\" target=\"_top\" title=\"psysml:9b37ce48-aa06-4adb-ba3b-3b1410731947\" xlink:actuate=\"onRequest\" xlink:href=\"psysml:9b37ce48-aa06-4adb-ba3b-3b1410731947\" xlink:show=\"new\" xlink:title=\"psysml:9b37ce48-aa06-4adb-ba3b-3b1410731947\" xlink:type=\"simple\"><rect fill=\"#FEFECE\" filter=\"url(#flzd1jehyxlk7)\" height=\"40\" id=\"E2\" rx=\"10\" ry=\"10\" style=\"stroke: #A80036; stroke-width: 1.5;\" width=\"56\" x=\"238\" y=\"148\"/><ellipse cx=\"253\" cy=\"164\" fill=\"#32CD32\" rx=\"11\" ry=\"11\" style=\"stroke: #A80036; stroke-width: 1.0;\"/><path d=\"M249.8125,169 L249.8125,158.4063 L253.4219,158.4063 Q254.6406,158.4063 255.4375,158.8438 Q256.2344,159.2656 256.6094,159.9688 Q257,160.6719 257,161.5156 Q257,162.3594 256.625,163.0469 Q256.2656,163.7344 255.4688,164.1563 Q254.6875,164.5625 253.5,164.5625 L251.7656,164.5625 L251.7656,169 L249.8125,169 Z M251.7656,162.9688 L253.375,162.9688 Q254.1875,162.9688 254.6094,162.5625 Q255.0313,162.1563 255.0313,161.5156 Q255.0313,160.8906 254.6094,160.4844 Q254.1875,160.0781 253.3906,160.0781 L251.7656,160.0781 L251.7656,162.9688 Z \"/><text fill=\"#000000\" font-family=\"sans-serif\" font-size=\"12\" lengthAdjust=\"spacingAndGlyphs\" textLength=\"20\" x=\"267\" y=\"168.1543\">f: A</text><line style=\"stroke: #A80036; stroke-width: 1.5;\" x1=\"239\" x2=\"293\" y1=\"180\" y2=\"180\"/></a><!--MD5=[09b614a08d8cba4a07c9adeb5e0fee81]\n",
       "class E3--><a href=\"psysml:373f36dd-9125-4f4d-9beb-8d6cd21e1469\" target=\"_top\" title=\"psysml:373f36dd-9125-4f4d-9beb-8d6cd21e1469\" xlink:actuate=\"onRequest\" xlink:href=\"psysml:373f36dd-9125-4f4d-9beb-8d6cd21e1469\" xlink:show=\"new\" xlink:title=\"psysml:373f36dd-9125-4f4d-9beb-8d6cd21e1469\" xlink:type=\"simple\"><rect fill=\"#FEFECE\" filter=\"url(#flzd1jehyxlk7)\" height=\"40\" id=\"E3\" style=\"stroke: #A80036; stroke-width: 1.5;\" width=\"40\" x=\"149\" y=\"249\"/><ellipse cx=\"164\" cy=\"265\" fill=\"#008000\" rx=\"11\" ry=\"11\" style=\"stroke: #A80036; stroke-width: 1.0;\"/><path d=\"M160.875,270 L160.875,259.4063 L164.1094,259.4063 Q166.0156,259.4063 166.9219,260.1563 Q167.8438,260.9063 167.8438,262.0781 Q167.8438,262.7656 167.4531,263.4219 Q167.0781,264.0781 166.3594,264.375 Q167.2188,264.75 167.7344,265.4375 Q168.25,266.125 168.25,266.9375 Q168.25,268.3125 167.2188,269.1563 Q166.2031,270 164.0938,270 L160.875,270 Z M162.7969,263.6406 L163.9531,263.6406 Q165.0781,263.6406 165.4844,263.2656 Q165.9063,262.875 165.9063,262.25 Q165.9063,261.6719 165.4844,261.3125 Q165.0625,260.9531 164.125,260.9531 L162.7969,260.9531 L162.7969,263.6406 Z M162.7969,268.4219 L164.2969,268.4219 Q165.2031,268.4219 165.7344,268.0313 Q166.2656,267.6406 166.2656,266.8906 Q166.2656,266.125 165.7656,265.6563 Q165.2656,265.1719 164,265.1719 L162.7969,265.1719 L162.7969,268.4219 Z \"/><text fill=\"#000000\" font-family=\"sans-serif\" font-size=\"12\" lengthAdjust=\"spacingAndGlyphs\" textLength=\"8\" x=\"178\" y=\"269.1543\">A</text><line style=\"stroke: #A80036; stroke-width: 1.5;\" x1=\"150\" x2=\"188\" y1=\"281\" y2=\"281\"/></a><!--MD5=[ebbe1d658d1005bcc118a6aa81145e00]\n",
       "class E4--><a href=\"psysml:130e11a2-3d5f-4cd9-b0cd-9225a7528360\" target=\"_top\" title=\"psysml:130e11a2-3d5f-4cd9-b0cd-9225a7528360\" xlink:actuate=\"onRequest\" xlink:href=\"psysml:130e11a2-3d5f-4cd9-b0cd-9225a7528360\" xlink:show=\"new\" xlink:title=\"psysml:130e11a2-3d5f-4cd9-b0cd-9225a7528360\" xlink:type=\"simple\"><rect fill=\"#FEFECE\" filter=\"url(#flzd1jehyxlk7)\" height=\"40\" id=\"E4\" rx=\"10\" ry=\"10\" style=\"stroke: #A80036; stroke-width: 1.5;\" width=\"60\" x=\"49\" y=\"426\"/><ellipse cx=\"64\" cy=\"442\" fill=\"#32CD32\" rx=\"11\" ry=\"11\" style=\"stroke: #A80036; stroke-width: 1.0;\"/><path d=\"M60.8125,447 L60.8125,436.4063 L64.4219,436.4063 Q65.6406,436.4063 66.4375,436.8438 Q67.2344,437.2656 67.6094,437.9688 Q68,438.6719 68,439.5156 Q68,440.3594 67.625,441.0469 Q67.2656,441.7344 66.4688,442.1563 Q65.6875,442.5625 64.5,442.5625 L62.7656,442.5625 L62.7656,447 L60.8125,447 Z M62.7656,440.9688 L64.375,440.9688 Q65.1875,440.9688 65.6094,440.5625 Q66.0313,440.1563 66.0313,439.5156 Q66.0313,438.8906 65.6094,438.4844 Q65.1875,438.0781 64.3906,438.0781 L62.7656,438.0781 L62.7656,440.9688 Z \"/><text fill=\"#000000\" font-family=\"sans-serif\" font-size=\"12\" lengthAdjust=\"spacingAndGlyphs\" textLength=\"24\" x=\"78\" y=\"446.1543\">b: B</text><line style=\"stroke: #A80036; stroke-width: 1.5;\" x1=\"50\" x2=\"108\" y1=\"458\" y2=\"458\"/></a><!--MD5=[270fce915f116d4de14055a7c1d9a0f3]\n",
       "class E5--><a href=\"psysml:80ae9a50-ac1f-4423-b935-68d8f5716f01\" target=\"_top\" title=\"psysml:80ae9a50-ac1f-4423-b935-68d8f5716f01\" xlink:actuate=\"onRequest\" xlink:href=\"psysml:80ae9a50-ac1f-4423-b935-68d8f5716f01\" xlink:show=\"new\" xlink:title=\"psysml:80ae9a50-ac1f-4423-b935-68d8f5716f01\" xlink:type=\"simple\"><rect fill=\"#FEFECE\" filter=\"url(#flzd1jehyxlk7)\" height=\"45.9375\" id=\"E5\" rx=\"10\" ry=\"10\" style=\"stroke: #A80036; stroke-width: 1.5;\" width=\"68\" x=\"176\" y=\"350\"/><ellipse cx=\"191\" cy=\"368.9688\" fill=\"#32CD32\" rx=\"11\" ry=\"11\" style=\"stroke: #A80036; stroke-width: 1.0;\"/><path d=\"M187.8125,373.9688 L187.8125,363.375 L191.4219,363.375 Q192.6406,363.375 193.4375,363.8125 Q194.2344,364.2344 194.6094,364.9375 Q195,365.6406 195,366.4844 Q195,367.3281 194.625,368.0156 Q194.2656,368.7031 193.4688,369.125 Q192.6875,369.5313 191.5,369.5313 L189.7656,369.5313 L189.7656,373.9688 L187.8125,373.9688 Z M189.7656,367.9375 L191.375,367.9375 Q192.1875,367.9375 192.6094,367.5313 Q193.0313,367.125 193.0313,366.4844 Q193.0313,365.8594 192.6094,365.4531 Q192.1875,365.0469 191.3906,365.0469 L189.7656,365.0469 L189.7656,367.9375 Z \"/><text fill=\"#000000\" font-family=\"sans-serif\" font-size=\"12\" font-style=\"italic\" lengthAdjust=\"spacingAndGlyphs\" textLength=\"40\" x=\"203\" y=\"366.1387\">«part»</text><text fill=\"#000000\" font-family=\"sans-serif\" font-size=\"12\" lengthAdjust=\"spacingAndGlyphs\" textLength=\"23\" x=\"209.5\" y=\"380.1074\">c: C</text><line style=\"stroke: #A80036; stroke-width: 1.5;\" x1=\"177\" x2=\"243\" y1=\"387.9375\" y2=\"387.9375\"/></a><!--MD5=[60a26617385b1d2d0262a64233df1f8d]\n",
       "class E6--><a href=\"psysml:7d838d86-0408-4401-9cbf-32b733f3993a\" target=\"_top\" title=\"psysml:7d838d86-0408-4401-9cbf-32b733f3993a\" xlink:actuate=\"onRequest\" xlink:href=\"psysml:7d838d86-0408-4401-9cbf-32b733f3993a\" xlink:show=\"new\" xlink:title=\"psysml:7d838d86-0408-4401-9cbf-32b733f3993a\" xlink:type=\"simple\"><rect fill=\"#FEFECE\" filter=\"url(#flzd1jehyxlk7)\" height=\"40\" id=\"E6\" style=\"stroke: #A80036; stroke-width: 1.5;\" width=\"40\" x=\"134\" y=\"613\"/><ellipse cx=\"149\" cy=\"629\" fill=\"#008000\" rx=\"11\" ry=\"11\" style=\"stroke: #A80036; stroke-width: 1.0;\"/><path d=\"M145.875,634 L145.875,623.4063 L149.1094,623.4063 Q151.0156,623.4063 151.9219,624.1563 Q152.8438,624.9063 152.8438,626.0781 Q152.8438,626.7656 152.4531,627.4219 Q152.0781,628.0781 151.3594,628.375 Q152.2188,628.75 152.7344,629.4375 Q153.25,630.125 153.25,630.9375 Q153.25,632.3125 152.2188,633.1563 Q151.2031,634 149.0938,634 L145.875,634 Z M147.7969,627.6406 L148.9531,627.6406 Q150.0781,627.6406 150.4844,627.2656 Q150.9063,626.875 150.9063,626.25 Q150.9063,625.6719 150.4844,625.3125 Q150.0625,624.9531 149.125,624.9531 L147.7969,624.9531 L147.7969,627.6406 Z M147.7969,632.4219 L149.2969,632.4219 Q150.2031,632.4219 150.7344,632.0313 Q151.2656,631.6406 151.2656,630.8906 Q151.2656,630.125 150.7656,629.6563 Q150.2656,629.1719 149,629.1719 L147.7969,629.1719 L147.7969,632.4219 Z \"/><text fill=\"#000000\" font-family=\"sans-serif\" font-size=\"12\" font-style=\"italic\" lengthAdjust=\"spacingAndGlyphs\" textLength=\"8\" x=\"163\" y=\"633.1543\">B</text><line style=\"stroke: #A80036; stroke-width: 1.5;\" x1=\"135\" x2=\"173\" y1=\"645\" y2=\"645\"/></a><!--MD5=[2156ba9850f5573cc1fc38a6a4b2f02b]\n",
       "class E7--><a href=\"psysml:d06b8fcb-8cda-493c-875d-bdf01ed715df\" target=\"_top\" title=\"psysml:d06b8fcb-8cda-493c-875d-bdf01ed715df\" xlink:actuate=\"onRequest\" xlink:href=\"psysml:d06b8fcb-8cda-493c-875d-bdf01ed715df\" xlink:show=\"new\" xlink:title=\"psysml:d06b8fcb-8cda-493c-875d-bdf01ed715df\" xlink:type=\"simple\"><rect fill=\"#FEFECE\" filter=\"url(#flzd1jehyxlk7)\" height=\"45.9375\" id=\"E7\" rx=\"10\" ry=\"10\" style=\"stroke: #A80036; stroke-width: 1.5;\" width=\"68\" x=\"208\" y=\"714\"/><ellipse cx=\"223\" cy=\"732.9688\" fill=\"#32CD32\" rx=\"11\" ry=\"11\" style=\"stroke: #A80036; stroke-width: 1.0;\"/><path d=\"M219.8125,737.9688 L219.8125,727.375 L223.4219,727.375 Q224.6406,727.375 225.4375,727.8125 Q226.2344,728.2344 226.6094,728.9375 Q227,729.6406 227,730.4844 Q227,731.3281 226.625,732.0156 Q226.2656,732.7031 225.4688,733.125 Q224.6875,733.5313 223.5,733.5313 L221.7656,733.5313 L221.7656,737.9688 L219.8125,737.9688 Z M221.7656,731.9375 L223.375,731.9375 Q224.1875,731.9375 224.6094,731.5313 Q225.0313,731.125 225.0313,730.4844 Q225.0313,729.8594 224.6094,729.4531 Q224.1875,729.0469 223.3906,729.0469 L221.7656,729.0469 L221.7656,731.9375 Z \"/><text fill=\"#000000\" font-family=\"sans-serif\" font-size=\"12\" font-style=\"italic\" lengthAdjust=\"spacingAndGlyphs\" textLength=\"40\" x=\"235\" y=\"730.1387\">«part»</text><text fill=\"#000000\" font-family=\"sans-serif\" font-size=\"12\" font-style=\"italic\" lengthAdjust=\"spacingAndGlyphs\" textLength=\"8\" x=\"241\" y=\"744.1074\">a</text><text fill=\"#000000\" font-family=\"sans-serif\" font-size=\"12\" lengthAdjust=\"spacingAndGlyphs\" textLength=\"16\" x=\"249\" y=\"744.1074\">: A</text><line style=\"stroke: #A80036; stroke-width: 1.5;\" x1=\"209\" x2=\"275\" y1=\"751.9375\" y2=\"751.9375\"/></a><!--MD5=[b9389687b975829384b498ac4b7476b2]\n",
       "class E8--><a href=\"psysml:a2efb8df-7581-49ed-b24f-8030c12b0405\" target=\"_top\" title=\"psysml:a2efb8df-7581-49ed-b24f-8030c12b0405\" xlink:actuate=\"onRequest\" xlink:href=\"psysml:a2efb8df-7581-49ed-b24f-8030c12b0405\" xlink:show=\"new\" xlink:title=\"psysml:a2efb8df-7581-49ed-b24f-8030c12b0405\" xlink:type=\"simple\"><rect fill=\"#FEFECE\" filter=\"url(#flzd1jehyxlk7)\" height=\"40\" id=\"E8\" style=\"stroke: #A80036; stroke-width: 1.5;\" width=\"40\" x=\"134\" y=\"496\"/><ellipse cx=\"149\" cy=\"512\" fill=\"#008000\" rx=\"11\" ry=\"11\" style=\"stroke: #A80036; stroke-width: 1.0;\"/><path d=\"M145.875,517 L145.875,506.4063 L149.1094,506.4063 Q151.0156,506.4063 151.9219,507.1563 Q152.8438,507.9063 152.8438,509.0781 Q152.8438,509.7656 152.4531,510.4219 Q152.0781,511.0781 151.3594,511.375 Q152.2188,511.75 152.7344,512.4375 Q153.25,513.125 153.25,513.9375 Q153.25,515.3125 152.2188,516.1563 Q151.2031,517 149.0938,517 L145.875,517 Z M147.7969,510.6406 L148.9531,510.6406 Q150.0781,510.6406 150.4844,510.2656 Q150.9063,509.875 150.9063,509.25 Q150.9063,508.6719 150.4844,508.3125 Q150.0625,507.9531 149.125,507.9531 L147.7969,507.9531 L147.7969,510.6406 Z M147.7969,515.4219 L149.2969,515.4219 Q150.2031,515.4219 150.7344,515.0313 Q151.2656,514.6406 151.2656,513.8906 Q151.2656,513.125 150.7656,512.6563 Q150.2656,512.1719 149,512.1719 L147.7969,512.1719 L147.7969,515.4219 Z \"/><text fill=\"#000000\" font-family=\"sans-serif\" font-size=\"12\" lengthAdjust=\"spacingAndGlyphs\" textLength=\"8\" x=\"163\" y=\"516.1543\">C</text><line style=\"stroke: #A80036; stroke-width: 1.5;\" x1=\"135\" x2=\"173\" y1=\"528\" y2=\"528\"/></a><!--MD5=[fd4143e9d270a159db93a4ea2a975926]\n",
       "class E9--><a href=\"psysml:91f3ce36-c57b-44eb-a625-32b1f3011842\" target=\"_top\" title=\"psysml:91f3ce36-c57b-44eb-a625-32b1f3011842\" xlink:actuate=\"onRequest\" xlink:href=\"psysml:91f3ce36-c57b-44eb-a625-32b1f3011842\" xlink:show=\"new\" xlink:title=\"psysml:91f3ce36-c57b-44eb-a625-32b1f3011842\" xlink:type=\"simple\"><rect fill=\"#FEFECE\" filter=\"url(#flzd1jehyxlk7)\" height=\"45.9375\" id=\"E9\" style=\"stroke: #A80036; stroke-width: 1.5;\" width=\"96\" x=\"76\" y=\"41\"/><ellipse cx=\"91\" cy=\"59.9688\" fill=\"#A52A2A\" rx=\"11\" ry=\"11\" style=\"stroke: #A80036; stroke-width: 1.0;\"/><path d=\"M88.2188,64.9688 L88.2188,54.375 L90.9531,54.375 Q92.3438,54.375 93.1094,54.7656 Q93.8906,55.1406 94.4219,55.8438 Q94.9531,56.5469 95.25,57.5469 Q95.5469,58.5313 95.5469,59.75 Q95.5,61.3438 95,62.5313 Q94.5156,63.7031 93.4688,64.3438 Q92.4375,64.9688 90.75,64.9688 L88.2188,64.9688 Z M90.0781,63.4688 L90.7031,63.4688 Q91.7813,63.4688 92.4375,63.0156 Q93.0938,62.5625 93.375,61.7344 Q93.6719,60.8906 93.6563,59.7656 Q93.6563,58.5938 93.4063,57.7344 Q93.1563,56.8594 92.5469,56.3906 Q91.9375,55.9063 90.8906,55.9063 L90.0781,55.9063 L90.0781,63.4688 Z \"/><text fill=\"#000000\" font-family=\"sans-serif\" font-size=\"12\" font-style=\"italic\" lengthAdjust=\"spacingAndGlyphs\" textLength=\"68\" x=\"103\" y=\"57.1387\">«port  def»</text><text fill=\"#000000\" font-family=\"sans-serif\" font-size=\"12\" lengthAdjust=\"spacingAndGlyphs\" textLength=\"8\" x=\"133\" y=\"71.1074\">P</text><line style=\"stroke: #A80036; stroke-width: 1.5;\" x1=\"77\" x2=\"171\" y1=\"78.9375\" y2=\"78.9375\"/></a><!--MD5=[96f4274e9e20536e775497830990834d]\n",
       "class E10--><a href=\"psysml:5a8db81a-c733-4c6f-be90-4f9ffe214caa\" target=\"_top\" title=\"psysml:5a8db81a-c733-4c6f-be90-4f9ffe214caa\" xlink:actuate=\"onRequest\" xlink:href=\"psysml:5a8db81a-c733-4c6f-be90-4f9ffe214caa\" xlink:show=\"new\" xlink:title=\"psysml:5a8db81a-c733-4c6f-be90-4f9ffe214caa\" xlink:type=\"simple\"><rect fill=\"#FEFECE\" filter=\"url(#flzd1jehyxlk7)\" height=\"40\" id=\"E10\" rx=\"10\" ry=\"10\" style=\"stroke: #A80036; stroke-width: 1.5;\" width=\"68\" x=\"32\" y=\"148\"/><ellipse cx=\"47\" cy=\"164\" fill=\"#32CD32\" rx=\"11\" ry=\"11\" style=\"stroke: #A80036; stroke-width: 1.0;\"/><path d=\"M43.8125,169 L43.8125,158.4063 L47.4219,158.4063 Q48.6406,158.4063 49.4375,158.8438 Q50.2344,159.2656 50.6094,159.9688 Q51,160.6719 51,161.5156 Q51,162.3594 50.625,163.0469 Q50.2656,163.7344 49.4688,164.1563 Q48.6875,164.5625 47.5,164.5625 L45.7656,164.5625 L45.7656,169 L43.8125,169 Z M45.7656,162.9688 L47.375,162.9688 Q48.1875,162.9688 48.6094,162.5625 Q49.0313,162.1563 49.0313,161.5156 Q49.0313,160.8906 48.6094,160.4844 Q48.1875,160.0781 47.3906,160.0781 L45.7656,160.0781 L45.7656,162.9688 Z \"/><text fill=\"#000000\" font-family=\"sans-serif\" font-size=\"12\" lengthAdjust=\"spacingAndGlyphs\" textLength=\"32\" x=\"61\" y=\"168.1543\">a1: A</text><line style=\"stroke: #A80036; stroke-width: 1.5;\" x1=\"33\" x2=\"99\" y1=\"180\" y2=\"180\"/></a><!--MD5=[1dd1bfd58a279cf63c5f349dbc8fc6a1]\n",
       "class E11--><a href=\"psysml:50797105-d3dc-4af6-be0e-986a23cb6cc7\" target=\"_top\" title=\"psysml:50797105-d3dc-4af6-be0e-986a23cb6cc7\" xlink:actuate=\"onRequest\" xlink:href=\"psysml:50797105-d3dc-4af6-be0e-986a23cb6cc7\" xlink:show=\"new\" xlink:title=\"psysml:50797105-d3dc-4af6-be0e-986a23cb6cc7\" xlink:type=\"simple\"><rect fill=\"#FEFECE\" filter=\"url(#flzd1jehyxlk7)\" height=\"40\" id=\"E11\" rx=\"10\" ry=\"10\" style=\"stroke: #A80036; stroke-width: 1.5;\" width=\"68\" x=\"135\" y=\"148\"/><ellipse cx=\"150\" cy=\"164\" fill=\"#32CD32\" rx=\"11\" ry=\"11\" style=\"stroke: #A80036; stroke-width: 1.0;\"/><path d=\"M146.8125,169 L146.8125,158.4063 L150.4219,158.4063 Q151.6406,158.4063 152.4375,158.8438 Q153.2344,159.2656 153.6094,159.9688 Q154,160.6719 154,161.5156 Q154,162.3594 153.625,163.0469 Q153.2656,163.7344 152.4688,164.1563 Q151.6875,164.5625 150.5,164.5625 L148.7656,164.5625 L148.7656,169 L146.8125,169 Z M148.7656,162.9688 L150.375,162.9688 Q151.1875,162.9688 151.6094,162.5625 Q152.0313,162.1563 152.0313,161.5156 Q152.0313,160.8906 151.6094,160.4844 Q151.1875,160.0781 150.3906,160.0781 L148.7656,160.0781 L148.7656,162.9688 Z \"/><text fill=\"#000000\" font-family=\"sans-serif\" font-size=\"12\" lengthAdjust=\"spacingAndGlyphs\" textLength=\"32\" x=\"164\" y=\"168.1543\">a2: A</text><line style=\"stroke: #A80036; stroke-width: 1.5;\" x1=\"136\" x2=\"202\" y1=\"180\" y2=\"180\"/></a><!--MD5=[2720a5a1f2c3fca2055b230370638851]\n",
       "link E2 to E3--><a href=\"psysml:2d349f36-3ef3-481f-a80c-9f5be02d82e3\" target=\"_top\" title=\"psysml:2d349f36-3ef3-481f-a80c-9f5be02d82e3\" xlink:actuate=\"onRequest\" xlink:href=\"psysml:2d349f36-3ef3-481f-a80c-9f5be02d82e3\" xlink:show=\"new\" xlink:title=\"psysml:2d349f36-3ef3-481f-a80c-9f5be02d82e3\" xlink:type=\"simple\"><path d=\"M247.3,188.09 C234.42,201.24 216.95,219.06 201.79,234.53 \" fill=\"none\" id=\"E2-&gt;E3\" style=\"stroke: #A80036; stroke-width: 1.0;\"/><polygon fill=\"#FFFFFF\" points=\"187.65,248.97,195.9397,230.4962,205.9437,240.2901,187.65,248.97\" style=\"stroke: #A80036; stroke-width: 1.0;\"/><ellipse cx=\"201.3564\" cy=\"227.8223\" fill=\"#A80036\" rx=\"2\" ry=\"2\" style=\"stroke: #A80036; stroke-width: 1.0;\"/><ellipse cx=\"208.5021\" cy=\"234.8179\" fill=\"#A80036\" rx=\"2\" ry=\"2\" style=\"stroke: #A80036; stroke-width: 1.0;\"/></a><!--MD5=[4672eba38e49728da53d11aeb285b987]\n",
       "reverse link E3 to E4--><a href=\"psysml:1fc0b9c6-f917-494b-8539-e8a30a151a21\" target=\"_top\" title=\"psysml:1fc0b9c6-f917-494b-8539-e8a30a151a21\" xlink:actuate=\"onRequest\" xlink:href=\"psysml:1fc0b9c6-f917-494b-8539-e8a30a151a21\" xlink:show=\"new\" xlink:title=\"psysml:1fc0b9c6-f917-494b-8539-e8a30a151a21\" xlink:type=\"simple\"><path d=\"M138.27,292.03 C120.72,306.42 100.07,326.8 89,350 C77.43,374.25 76.5,405.85 77.38,425.79 \" fill=\"none\" id=\"E3&lt;-E4\" style=\"stroke: #A80036; stroke-width: 1.0;\"/><polygon fill=\"#A80036\" points=\"148.68,283.88,141.4897,284.427,139.2291,291.2746,146.4194,290.7276,148.68,283.88\" style=\"stroke: #A80036; stroke-width: 1.0;\"/><text fill=\"#000000\" font-family=\"sans-serif\" font-size=\"13\" lengthAdjust=\"spacingAndGlyphs\" textLength=\"8\" x=\"67.7994\" y=\"415.0821\">1</text></a><!--MD5=[191cde3d490a3f6d7bb551fe3ddca469]\n",
       "reverse link E3 to E5--><a href=\"psysml:1188b8bd-fcbe-4041-bfa3-3c6757b772de\" target=\"_top\" title=\"psysml:1188b8bd-fcbe-4041-bfa3-3c6757b772de\" xlink:actuate=\"onRequest\" xlink:href=\"psysml:1188b8bd-fcbe-4041-bfa3-3c6757b772de\" xlink:show=\"new\" xlink:title=\"psysml:1188b8bd-fcbe-4041-bfa3-3c6757b772de\" xlink:type=\"simple\"><path d=\"M181.65,301.47 C187.92,317.08 195.36,335.57 201.04,349.7 \" fill=\"none\" id=\"E3&lt;-E5\" style=\"stroke: #A80036; stroke-width: 1.0;\"/><polygon fill=\"#FFFFFF\" points=\"176.71,289.19,175.2345,296.2485,181.1826,300.3253,182.6581,293.2668,176.71,289.19\" style=\"stroke: #A80036; stroke-width: 1.0;\"/><text fill=\"#000000\" font-family=\"sans-serif\" font-size=\"13\" lengthAdjust=\"spacingAndGlyphs\" textLength=\"8\" x=\"189.719\" y=\"338.8994\">1</text></a><!--MD5=[79568f1e445c3877b6a54524624ccc7d]\n",
       "link E4 to E6--><a href=\"psysml:b444802f-fd06-4322-964d-2bd41504258e\" target=\"_top\" title=\"psysml:b444802f-fd06-4322-964d-2bd41504258e\" xlink:actuate=\"onRequest\" xlink:href=\"psysml:b444802f-fd06-4322-964d-2bd41504258e\" xlink:show=\"new\" xlink:title=\"psysml:b444802f-fd06-4322-964d-2bd41504258e\" xlink:type=\"simple\"><path d=\"M86.74,466.1 C98.93,496.15 122.8,555.04 138.58,593.96 \" fill=\"none\" id=\"E4-&gt;E6\" style=\"stroke: #A80036; stroke-width: 1.0;\"/><polygon fill=\"#FFFFFF\" points=\"146.19,612.73,132.5666,597.7499,145.5417,592.4919,146.19,612.73\" style=\"stroke: #A80036; stroke-width: 1.0;\"/><ellipse cx=\"132.2794\" cy=\"591.7161\" fill=\"#A80036\" rx=\"2\" ry=\"2\" style=\"stroke: #A80036; stroke-width: 1.0;\"/><ellipse cx=\"141.5473\" cy=\"587.9604\" fill=\"#A80036\" rx=\"2\" ry=\"2\" style=\"stroke: #A80036; stroke-width: 1.0;\"/></a><!--MD5=[3f50a3473f1dfb74d3f76443e03635af]\n",
       "reverse link E6 to E7--><a href=\"psysml:fe8fc95e-22bb-46d1-b0fd-61d73c45474f\" target=\"_top\" title=\"psysml:fe8fc95e-22bb-46d1-b0fd-61d73c45474f\" xlink:actuate=\"onRequest\" xlink:href=\"psysml:fe8fc95e-22bb-46d1-b0fd-61d73c45474f\" xlink:show=\"new\" xlink:title=\"psysml:fe8fc95e-22bb-46d1-b0fd-61d73c45474f\" xlink:type=\"simple\"><path d=\"M179.15,663.15 C193.01,679.22 209.96,698.87 222.76,713.7 \" fill=\"none\" id=\"E6&lt;-E7\" style=\"stroke: #A80036; stroke-width: 1.0;\"/><polygon fill=\"#A80036\" points=\"170.55,653.19,171.4382,660.3462,178.3855,662.2787,177.4973,655.1225,170.55,653.19\" style=\"stroke: #A80036; stroke-width: 1.0;\"/><text fill=\"#000000\" font-family=\"sans-serif\" font-size=\"13\" lengthAdjust=\"spacingAndGlyphs\" textLength=\"8\" x=\"208.8047\" y=\"702.8994\">1</text></a><!--MD5=[14ccda38c055a5c0da953d572bc50960]\n",
       "link E7 to E3--><a href=\"psysml:599ea15b-bb0f-4f03-a502-f2e1a3a71e91\" target=\"_top\" title=\"psysml:599ea15b-bb0f-4f03-a502-f2e1a3a71e91\" xlink:actuate=\"onRequest\" xlink:href=\"psysml:599ea15b-bb0f-4f03-a502-f2e1a3a71e91\" xlink:show=\"new\" xlink:title=\"psysml:599ea15b-bb0f-4f03-a502-f2e1a3a71e91\" xlink:type=\"simple\"><path d=\"M255.5,713.79 C266.43,693.7 280,662.91 280,634 C280,372 280,372 280,372 C280,331.58 239.6,302.81 207.54,286.34 \" fill=\"none\" id=\"E7-&gt;E3\" style=\"stroke: #A80036; stroke-width: 1.0;\"/><polygon fill=\"#FFFFFF\" points=\"189.1,277.68,209.2735,279.4203,203.3225,292.0925,189.1,277.68\" style=\"stroke: #A80036; stroke-width: 1.0;\"/><ellipse cx=\"213.5828\" cy=\"283.6535\" fill=\"#A80036\" rx=\"2\" ry=\"2\" style=\"stroke: #A80036; stroke-width: 1.0;\"/><ellipse cx=\"209.332\" cy=\"292.7051\" fill=\"#A80036\" rx=\"2\" ry=\"2\" style=\"stroke: #A80036; stroke-width: 1.0;\"/></a><!--MD5=[dfaffb906826c3e5aca635516100ff21]\n",
       "link E5 to E8--><a href=\"psysml:ebb03462-10dd-4a39-86ac-c1648f226bb6\" target=\"_top\" title=\"psysml:ebb03462-10dd-4a39-86ac-c1648f226bb6\" xlink:actuate=\"onRequest\" xlink:href=\"psysml:ebb03462-10dd-4a39-86ac-c1648f226bb6\" xlink:show=\"new\" xlink:title=\"psysml:ebb03462-10dd-4a39-86ac-c1648f226bb6\" xlink:type=\"simple\"><path d=\"M201.25,396.03 C192.66,417.67 179.38,451.1 169.08,477.03 \" fill=\"none\" id=\"E5-&gt;E8\" style=\"stroke: #A80036; stroke-width: 1.0;\"/><polygon fill=\"#FFFFFF\" points=\"161.61,495.84,162.108,475.5977,175.1218,480.7592,161.61,495.84\" style=\"stroke: #A80036; stroke-width: 1.0;\"/><ellipse cx=\"166.0686\" cy=\"471.0366\" fill=\"#A80036\" rx=\"2\" ry=\"2\" style=\"stroke: #A80036; stroke-width: 1.0;\"/><ellipse cx=\"175.3642\" cy=\"474.7233\" fill=\"#A80036\" rx=\"2\" ry=\"2\" style=\"stroke: #A80036; stroke-width: 1.0;\"/></a><!--MD5=[03c8294790d3c57651a1993cecff665f]\n",
       "reverse link E8 to E3--><a href=\"psysml:4ca20137-091c-4af4-8b05-aa2379f8c92e\" target=\"_top\" title=\"psysml:4ca20137-091c-4af4-8b05-aa2379f8c92e\" xlink:actuate=\"onRequest\" xlink:href=\"psysml:4ca20137-091c-4af4-8b05-aa2379f8c92e\" xlink:show=\"new\" xlink:title=\"psysml:4ca20137-091c-4af4-8b05-aa2379f8c92e\" xlink:type=\"simple\"><path d=\"M150.54,482.63 C147.6,449.27 144.63,395.82 150,350 C152.47,328.87 158.5,305.24 163.11,289.17 \" fill=\"none\" id=\"E8&lt;-E3\" style=\"stroke: #A80036; stroke-width: 1.0;\"/><polygon fill=\"#FFFFFF\" points=\"151.77,495.61,155.1851,489.2589,150.636,483.6637,147.2209,490.0148,151.77,495.61\" style=\"stroke: #A80036; stroke-width: 1.0;\"/><text fill=\"#000000\" font-family=\"sans-serif\" font-size=\"13\" lengthAdjust=\"spacingAndGlyphs\" textLength=\"7\" x=\"151\" y=\"377.5669\">y</text></a><!--MD5=[0d75d2178373a6a4568e5dc728f58aef]\n",
       "reverse link E8 to E6--><a href=\"psysml:4ca20137-091c-4af4-8b05-aa2379f8c92e\" target=\"_top\" title=\"psysml:4ca20137-091c-4af4-8b05-aa2379f8c92e\" xlink:actuate=\"onRequest\" xlink:href=\"psysml:4ca20137-091c-4af4-8b05-aa2379f8c92e\" xlink:show=\"new\" xlink:title=\"psysml:4ca20137-091c-4af4-8b05-aa2379f8c92e\" xlink:type=\"simple\"><path d=\"M154,549.36 C154,569.76 154,595.42 154,612.69 \" fill=\"none\" id=\"E8&lt;-E6\" style=\"stroke: #A80036; stroke-width: 1.0;\"/><polygon fill=\"#FFFFFF\" points=\"154,536.25,150,542.25,154,548.25,158,542.25,154,536.25\" style=\"stroke: #A80036; stroke-width: 1.0;\"/><text fill=\"#000000\" font-family=\"sans-serif\" font-size=\"13\" lengthAdjust=\"spacingAndGlyphs\" textLength=\"7\" x=\"155\" y=\"579.0669\">y</text></a><!--MD5=[23ac544a70576c3e717098101004234c]\n",
       "reverse link E9 to E10--><a href=\"psysml:bbec5841-3ffd-488b-b643-01adfe752a25\" target=\"_top\" title=\"psysml:bbec5841-3ffd-488b-b643-01adfe752a25\" xlink:actuate=\"onRequest\" xlink:href=\"psysml:bbec5841-3ffd-488b-b643-01adfe752a25\" xlink:show=\"new\" xlink:title=\"psysml:bbec5841-3ffd-488b-b643-01adfe752a25\" xlink:type=\"simple\"><path d=\"M104.95,98.49 C95.61,114.92 84.7,134.11 76.81,148 \" fill=\"none\" id=\"E9&lt;-E10\" style=\"stroke: #A80036; stroke-width: 1.0;\"/><polygon fill=\"#FFFFFF\" points=\"111.41,87.13,104.9664,90.3672,105.4762,97.5603,111.9199,94.3231,111.41,87.13\" style=\"stroke: #A80036; stroke-width: 1.0;\"/><text fill=\"#000000\" font-family=\"sans-serif\" font-size=\"13\" lengthAdjust=\"spacingAndGlyphs\" textLength=\"8\" x=\"70.8104\" y=\"137.0083\">1</text></a><!--MD5=[feeac5eb423634930294aa81f2d25a4c]\n",
       "link E10 to E3--><a href=\"psysml:fb12afbf-9138-40ff-bf3b-75b81b096774\" target=\"_top\" title=\"psysml:fb12afbf-9138-40ff-bf3b-75b81b096774\" xlink:actuate=\"onRequest\" xlink:href=\"psysml:fb12afbf-9138-40ff-bf3b-75b81b096774\" xlink:show=\"new\" xlink:title=\"psysml:fb12afbf-9138-40ff-bf3b-75b81b096774\" xlink:type=\"simple\"><path d=\"M85.86,188.09 C99.68,201.37 118.47,219.43 134.69,235.02 \" fill=\"none\" id=\"E10-&gt;E3\" style=\"stroke: #A80036; stroke-width: 1.0;\"/><polygon fill=\"#FFFFFF\" points=\"149.2,248.97,130.6476,240.8578,140.3451,230.7604,149.2,248.97\" style=\"stroke: #A80036; stroke-width: 1.0;\"/><ellipse cx=\"127.9219\" cy=\"235.467\" fill=\"#A80036\" rx=\"2\" ry=\"2\" style=\"stroke: #A80036; stroke-width: 1.0;\"/><ellipse cx=\"134.8487\" cy=\"228.2546\" fill=\"#A80036\" rx=\"2\" ry=\"2\" style=\"stroke: #A80036; stroke-width: 1.0;\"/></a><!--MD5=[1fc04a95fd77ad5ce46c1a3027516051]\n",
       "reverse link E9 to E11--><a href=\"psysml:20edee2c-da5c-4ff9-9cec-febcc5f58071\" target=\"_top\" title=\"psysml:20edee2c-da5c-4ff9-9cec-febcc5f58071\" xlink:actuate=\"onRequest\" xlink:href=\"psysml:20edee2c-da5c-4ff9-9cec-febcc5f58071\" xlink:show=\"new\" xlink:title=\"psysml:20edee2c-da5c-4ff9-9cec-febcc5f58071\" xlink:type=\"simple\"><path d=\"M139.2,99.45 C146.35,115.67 154.61,134.38 160.62,148 \" fill=\"none\" id=\"E9&lt;-E11\" style=\"stroke: #A80036; stroke-width: 1.0;\"/><polygon fill=\"#FFFFFF\" points=\"133.76,87.13,132.5217,94.234,138.603,98.1093,139.8413,91.0053,133.76,87.13\" style=\"stroke: #A80036; stroke-width: 1.0;\"/><text fill=\"#000000\" font-family=\"sans-serif\" font-size=\"13\" lengthAdjust=\"spacingAndGlyphs\" textLength=\"8\" x=\"148.9834\" y=\"137.0083\">1</text></a><!--MD5=[0517f1ce58c4d5483948f93845c45e26]\n",
       "link E11 to E3--><a href=\"psysml:6098403c-f8e4-4c64-8bc6-7f6e4aceb826\" target=\"_top\" title=\"psysml:6098403c-f8e4-4c64-8bc6-7f6e4aceb826\" xlink:actuate=\"onRequest\" xlink:href=\"psysml:6098403c-f8e4-4c64-8bc6-7f6e4aceb826\" xlink:show=\"new\" xlink:title=\"psysml:6098403c-f8e4-4c64-8bc6-7f6e4aceb826\" xlink:type=\"simple\"><path d=\"M169,188.09 C169,199.59 169,214.68 169,228.63 \" fill=\"none\" id=\"E11-&gt;E3\" style=\"stroke: #A80036; stroke-width: 1.0;\"/><polygon fill=\"#FFFFFF\" points=\"169,248.97,162,229.97,176,229.97,169,248.97\" style=\"stroke: #A80036; stroke-width: 1.0;\"/><ellipse cx=\"164\" cy=\"224.27\" fill=\"#A80036\" rx=\"2\" ry=\"2\" style=\"stroke: #A80036; stroke-width: 1.0;\"/><ellipse cx=\"174\" cy=\"224.27\" fill=\"#A80036\" rx=\"2\" ry=\"2\" style=\"stroke: #A80036; stroke-width: 1.0;\"/></a><!--MD5=[328d7411c06237698f5426b5deb8376a]\n",
       "@startuml\r\n",
       " \r\n",
       "package \"ItemTest\" as E1  [[psysml:05177c11-5394-41b2-a0a0-71a4c06ed611 ]]  {\r\n",
       "comp usage \"f: A \" as E2 << << (P,limegreen) >> [[psysml:9b37ce48-aa06-4adb-ba3b-3b1410731947 ]] {\r\n",
       "}\r\n",
       "comp def \"A\" as E3 << << (B,green) >> [[psysml:373f36dd-9125-4f4d-9beb-8d6cd21e1469 ]] {\r\n",
       "}\r\n",
       "comp usage \"b: B \" as E4 << << (P,limegreen) >> [[psysml:130e11a2-3d5f-4cd9-b0cd-9225a7528360 ]] {\r\n",
       "}\r\n",
       "comp usage \"c: C \" as E5 << << (P,limegreen) part>> [[psysml:80ae9a50-ac1f-4423-b935-68d8f5716f01 ]] {\r\n",
       "}\r\n",
       "comp def \"<i>B</i>\" as E6 << << (B,green) >> [[psysml:7d838d86-0408-4401-9cbf-32b733f3993a ]] {\r\n",
       "}\r\n",
       "comp usage \"<i>a</i>: A \" as E7 << << (P,limegreen) part>> [[psysml:d06b8fcb-8cda-493c-875d-bdf01ed715df ]] {\r\n",
       "}\r\n",
       "comp def \"C\" as E8 << << (B,green) >> [[psysml:a2efb8df-7581-49ed-b24f-8030c12b0405 ]] {\r\n",
       "}\r\n",
       "comp def \"P\" as E9 << <<(D,brown) port  def>> [[psysml:91f3ce36-c57b-44eb-a625-32b1f3011842 ]] {\r\n",
       "}\r\n",
       "comp usage \"a1: A \" as E10 << << (P,limegreen) >> [[psysml:5a8db81a-c733-4c6f-be90-4f9ffe214caa ]] {\r\n",
       "}\r\n",
       "comp usage \"a2: A \" as E11 << << (P,limegreen) >> [[psysml:50797105-d3dc-4af6-be0e-986a23cb6cc7 ]] {\r\n",
       "}\r\n",
       "}\r\n",
       "E2 - -:|> E3 [[psysml:2d349f36-3ef3-481f-a80c-9f5be02d82e3 ]] \r\n",
       "E3 *- - \"1\"E4 [[psysml:1fc0b9c6-f917-494b-8539-e8a30a151a21 ]] \r\n",
       "E3 o- - \"1\"E5 [[psysml:1188b8bd-fcbe-4041-bfa3-3c6757b772de ]] \r\n",
       "E4 - -:|> E6 [[psysml:b444802f-fd06-4322-964d-2bd41504258e ]] \r\n",
       "E6 *- - \"1\"E7 [[psysml:fe8fc95e-22bb-46d1-b0fd-61d73c45474f ]] \r\n",
       "E7 - -:|> E3 [[psysml:599ea15b-bb0f-4f03-a502-f2e1a3a71e91 ]] \r\n",
       "E5 - -:|> E8 [[psysml:ebb03462-10dd-4a39-86ac-c1648f226bb6 ]] \r\n",
       "E8 o- - E3 [[psysml:4ca20137-091c-4af4-8b05-aa2379f8c92e ]] : y\r\n",
       "E8 o- - E6 [[psysml:4ca20137-091c-4af4-8b05-aa2379f8c92e ]] : y\r\n",
       "E9 o- - \"1\"E10 [[psysml:bbec5841-3ffd-488b-b643-01adfe752a25 ]] \r\n",
       "E10 - -:|> E3 [[psysml:fb12afbf-9138-40ff-bf3b-75b81b096774 ]] \r\n",
       "E9 o- - \"1\"E11 [[psysml:20edee2c-da5c-4ff9-9cec-febcc5f58071 ]] \r\n",
       "E11 - -:|> E3 [[psysml:6098403c-f8e4-4c64-8bc6-7f6e4aceb826 ]] \r\n",
       "@enduml\r\n",
       "\n",
       "PlantUML version 1.2020.13(Sat Jun 13 12:26:38 UTC 2020)\n",
       "(EPL source distribution)\n",
       "Java Runtime: OpenJDK Runtime Environment\n",
       "JVM: OpenJDK 64-Bit Server VM\n",
       "Default Encoding: UTF-8\n",
       "Language: en\n",
       "Country: null\n",
       "--></g></svg>"
      ]
     },
     "execution_count": 31,
     "metadata": {},
     "output_type": "execute_result"
    }
   ],
   "source": [
    "%viz --style=\"PLANTUML\" --view=\"Tree\" \"ItemTest\""
   ]
  },
  {
   "cell_type": "code",
   "execution_count": 32,
   "id": "c0a57ca9",
   "metadata": {
    "execution": {
     "iopub.execute_input": "2022-04-22T09:48:25.374491Z",
     "iopub.status.busy": "2022-04-22T09:48:25.374176Z",
     "iopub.status.idle": "2022-04-22T09:48:25.502384Z",
     "shell.execute_reply": "2022-04-22T09:48:25.500884Z"
    }
   },
   "outputs": [
    {
     "data": {
      "image/svg+xml": [
       "<?xml version=\"1.0\" encoding=\"UTF-8\" standalone=\"no\"?><svg xmlns=\"http://www.w3.org/2000/svg\" xmlns:xlink=\"http://www.w3.org/1999/xlink\" contentScriptType=\"application/ecmascript\" contentStyleType=\"text/css\" height=\"365px\" preserveAspectRatio=\"none\" style=\"width:603px;height:365px;background:#000000;\" version=\"1.1\" viewBox=\"0 0 603 365\" width=\"603px\" zoomAndPan=\"magnify\"><defs/><g><rect fill=\"#150E14\" height=\"1\" style=\"stroke: #150E14; stroke-width: 1.0;\" width=\"1\" x=\"0\" y=\"0\"/><rect fill=\"#EAE2C9\" height=\"65.1875\" style=\"stroke: #EAE2C9; stroke-width: 1.0;\" width=\"602\" x=\"0\" y=\"0\"/><text fill=\"#000000\" font-family=\"sans-serif\" font-size=\"14\" font-weight=\"bold\" lengthAdjust=\"spacingAndGlyphs\" textLength=\"267\" x=\"10\" y=\"12.9951\">Add your own dedication into PlantUML</text><text fill=\"#000000\" font-family=\"sans-serif\" font-size=\"14\" lengthAdjust=\"spacingAndGlyphs\" textLength=\"0\" x=\"14\" y=\"29.292\"/><text fill=\"#000000\" font-family=\"sans-serif\" font-size=\"14\" lengthAdjust=\"spacingAndGlyphs\" textLength=\"154\" x=\"10\" y=\"45.5889\">For just $5 per month!</text><text fill=\"#000000\" font-family=\"sans-serif\" font-size=\"14\" lengthAdjust=\"spacingAndGlyphs\" textLength=\"69\" x=\"10\" y=\"61.8857\">Details on</text><a href=\"http://plantuml.com/dedication\" target=\"_top\" title=\"http://plantuml.com/dedication\" xlink:actuate=\"onRequest\" xlink:href=\"http://plantuml.com/dedication\" xlink:show=\"new\" xlink:title=\"http://plantuml.com/dedication\" xlink:type=\"simple\"><text fill=\"#000000\" font-family=\"sans-serif\" font-size=\"14\" font-style=\"italic\" lengthAdjust=\"spacingAndGlyphs\" textLength=\"213\" x=\"83\" y=\"61.8857\">http://plantuml.com/dedication</text></a><rect fill=\"#FFFFFF\" height=\"202.8012\" style=\"stroke: #FFFFFF; stroke-width: 1.0;\" width=\"602\" x=\"0\" y=\"65.1875\"/><text fill=\"#000000\" font-family=\"sans-serif\" font-size=\"12\" font-weight=\"bold\" lengthAdjust=\"spacingAndGlyphs\" textLength=\"139\" x=\"5\" y=\"81.3262\">Welcome to PlantUML!</text><text fill=\"#000000\" font-family=\"sans-serif\" font-size=\"12\" lengthAdjust=\"spacingAndGlyphs\" textLength=\"0\" x=\"9\" y=\"95.2949\"/><text fill=\"#000000\" font-family=\"sans-serif\" font-size=\"12\" lengthAdjust=\"spacingAndGlyphs\" textLength=\"293\" x=\"5\" y=\"109.2637\">If you use this software, you accept its license.</text><text fill=\"#000000\" font-family=\"sans-serif\" font-size=\"12\" lengthAdjust=\"spacingAndGlyphs\" textLength=\"107\" x=\"5\" y=\"123.2324\">(details by typing</text><text fill=\"#000000\" font-family=\"monospace\" font-size=\"12\" lengthAdjust=\"spacingAndGlyphs\" textLength=\"42\" x=\"116\" y=\"123.7825\">license</text><text fill=\"#000000\" font-family=\"sans-serif\" font-size=\"12\" lengthAdjust=\"spacingAndGlyphs\" textLength=\"56\" x=\"162\" y=\"123.2324\">keyword)</text><text fill=\"#000000\" font-family=\"sans-serif\" font-size=\"12\" lengthAdjust=\"spacingAndGlyphs\" textLength=\"0\" x=\"9\" y=\"137.2012\"/><text fill=\"#000000\" font-family=\"sans-serif\" font-size=\"12\" lengthAdjust=\"spacingAndGlyphs\" textLength=\"283\" x=\"5\" y=\"151.1699\">You can start with a simple UML Diagram like:</text><text fill=\"#000000\" font-family=\"sans-serif\" font-size=\"12\" lengthAdjust=\"spacingAndGlyphs\" textLength=\"0\" x=\"9\" y=\"165.1387\"/><text fill=\"#000000\" font-family=\"monospace\" font-size=\"12\" lengthAdjust=\"spacingAndGlyphs\" textLength=\"102\" x=\"5\" y=\"178.2768\">Bob-&gt;Alice: Hello</text><text fill=\"#000000\" font-family=\"sans-serif\" font-size=\"12\" lengthAdjust=\"spacingAndGlyphs\" textLength=\"0\" x=\"9\" y=\"191.6955\"/><text fill=\"#000000\" font-family=\"sans-serif\" font-size=\"12\" lengthAdjust=\"spacingAndGlyphs\" textLength=\"14\" x=\"5\" y=\"205.6643\">Or</text><text fill=\"#000000\" font-family=\"sans-serif\" font-size=\"12\" lengthAdjust=\"spacingAndGlyphs\" textLength=\"0\" x=\"9\" y=\"219.633\"/><text fill=\"#000000\" font-family=\"monospace\" font-size=\"12\" lengthAdjust=\"spacingAndGlyphs\" textLength=\"78\" x=\"5\" y=\"232.7712\">class Example</text><text fill=\"#000000\" font-family=\"sans-serif\" font-size=\"12\" lengthAdjust=\"spacingAndGlyphs\" textLength=\"0\" x=\"9\" y=\"246.1898\"/><text fill=\"#000000\" font-family=\"sans-serif\" font-size=\"12\" lengthAdjust=\"spacingAndGlyphs\" textLength=\"349\" x=\"5\" y=\"260.1586\">You will find more information about PlantUML syntax on</text><text fill=\"#000000\" font-family=\"sans-serif\" font-size=\"12\" lengthAdjust=\"spacingAndGlyphs\" text-decoration=\"underline\" textLength=\"129\" x=\"358\" y=\"260.1586\">https://plantuml.com</text><image height=\"71\" width=\"80\" x=\"516\" xlink:href=\"data:image/png;base64,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\" y=\"71.1875\"/><rect fill=\"#000000\" height=\"96.4844\" style=\"stroke: #000000; stroke-width: 1.0;\" width=\"602\" x=\"0\" y=\"267.9887\"/><rect fill=\"#33FF02\" height=\"21.2969\" style=\"stroke: #33FF02; stroke-width: 1.0;\" width=\"145\" x=\"5\" y=\"272.9887\"/><text fill=\"#000000\" font-family=\"sans-serif\" font-size=\"14\" font-weight=\"bold\" lengthAdjust=\"spacingAndGlyphs\" textLength=\"143\" x=\"6\" y=\"287.9887\">[From string (line 2) ]</text><text fill=\"#33FF02\" font-family=\"sans-serif\" font-size=\"14\" font-weight=\"bold\" lengthAdjust=\"spacingAndGlyphs\" textLength=\"0\" x=\"9\" y=\"308.2856\"/><text fill=\"#33FF02\" font-family=\"sans-serif\" font-size=\"14\" font-weight=\"bold\" lengthAdjust=\"spacingAndGlyphs\" textLength=\"70\" x=\"5\" y=\"324.5824\">@startuml</text><text fill=\"#33FF02\" font-family=\"sans-serif\" font-size=\"14\" font-weight=\"bold\" lengthAdjust=\"spacingAndGlyphs\" textLength=\"0\" x=\"9\" y=\"340.8793\"/><text fill=\"#FF0000\" font-family=\"sans-serif\" font-size=\"14\" font-weight=\"bold\" lengthAdjust=\"spacingAndGlyphs\" textLength=\"124\" x=\"9\" y=\"357.1762\">Empty description</text><!--MD5=[f59edd8218d337f74d0c332fc6737304]\n",
       "@startuml\r\n",
       " \r\n",
       "@enduml\r\n",
       "\n",
       "PlantUML version 1.2020.13(Sat Jun 13 12:26:38 UTC 2020)\n",
       "(EPL source distribution)\n",
       "Java Runtime: OpenJDK Runtime Environment\n",
       "JVM: OpenJDK 64-Bit Server VM\n",
       "Default Encoding: UTF-8\n",
       "Language: en\n",
       "Country: null\n",
       "--></g></svg>"
      ]
     },
     "execution_count": 32,
     "metadata": {},
     "output_type": "execute_result"
    }
   ],
   "source": [
    "%viz --style=\"PLANTUML\" --view=\"State\" \"ItemTest\""
   ]
  },
  {
   "cell_type": "code",
   "execution_count": 33,
   "id": "95ee1ecf",
   "metadata": {
    "execution": {
     "iopub.execute_input": "2022-04-22T09:48:25.551213Z",
     "iopub.status.busy": "2022-04-22T09:48:25.550855Z",
     "iopub.status.idle": "2022-04-22T09:48:25.579379Z",
     "shell.execute_reply": "2022-04-22T09:48:25.579106Z"
    }
   },
   "outputs": [
    {
     "data": {
      "image/svg+xml": [
       "<?xml version=\"1.0\" encoding=\"UTF-8\" standalone=\"no\"?><svg xmlns=\"http://www.w3.org/2000/svg\" xmlns:xlink=\"http://www.w3.org/1999/xlink\" contentScriptType=\"application/ecmascript\" contentStyleType=\"text/css\" height=\"167px\" preserveAspectRatio=\"none\" style=\"width:415px;height:167px;\" version=\"1.1\" viewBox=\"0 0 415 167\" width=\"415px\" zoomAndPan=\"magnify\"><defs><filter height=\"300%\" id=\"fceb3zf1en4y0\" width=\"300%\" x=\"-1\" y=\"-1\"><feGaussianBlur result=\"blurOut\" stdDeviation=\"2.0\"/><feColorMatrix in=\"blurOut\" result=\"blurOut2\" type=\"matrix\" values=\"0 0 0 0 0 0 0 0 0 0 0 0 0 0 0 0 0 0 .4 0\"/><feOffset dx=\"4.0\" dy=\"4.0\" in=\"blurOut2\" result=\"blurOut3\"/><feBlend in=\"SourceGraphic\" in2=\"blurOut3\" mode=\"normal\"/></filter></defs><g><!--MD5=[fbc87193dbaf4d95561dea2c320d4a47]\n",
       "cluster E1--><a href=\"psysml:05177c11-5394-41b2-a0a0-71a4c06ed611\" target=\"_top\" title=\"psysml:05177c11-5394-41b2-a0a0-71a4c06ed611\" xlink:actuate=\"onRequest\" xlink:href=\"psysml:05177c11-5394-41b2-a0a0-71a4c06ed611\" xlink:show=\"new\" xlink:title=\"psysml:05177c11-5394-41b2-a0a0-71a4c06ed611\" xlink:type=\"simple\"><polygon fill=\"#FFFFFF\" filter=\"url(#fceb3zf1en4y0)\" points=\"16,6,83,6,90,28.2969,393,28.2969,393,155.5,16,155.5,16,6\" style=\"stroke: #000000; stroke-width: 1.5;\"/><line style=\"stroke: #000000; stroke-width: 1.5;\" x1=\"16\" x2=\"90\" y1=\"28.2969\" y2=\"28.2969\"/><text fill=\"#000000\" font-family=\"sans-serif\" font-size=\"14\" font-weight=\"bold\" lengthAdjust=\"spacingAndGlyphs\" textLength=\"61\" x=\"20\" y=\"20.9951\">ItemTest</text></a><!--MD5=[de5ec2e2e8f62f467e546659f5068c88]\n",
       "cluster E5--><a href=\"psysml:a2efb8df-7581-49ed-b24f-8030c12b0405\" target=\"_top\" title=\"psysml:a2efb8df-7581-49ed-b24f-8030c12b0405\" xlink:actuate=\"onRequest\" xlink:href=\"psysml:a2efb8df-7581-49ed-b24f-8030c12b0405\" xlink:show=\"new\" xlink:title=\"psysml:a2efb8df-7581-49ed-b24f-8030c12b0405\" xlink:type=\"simple\"><rect fill=\"#FFFFFF\" filter=\"url(#fceb3zf1en4y0)\" height=\"77\" id=\"E5\" style=\"stroke: #A80036; stroke-width: 1.5;\" width=\"51\" x=\"319\" y=\"62.5\"/><rect fill=\"#FEFECE\" height=\"23.9688\" style=\"stroke: #A80036; stroke-width: 1.5;\" width=\"51\" x=\"319\" y=\"62.5\"/><text fill=\"#000000\" font-family=\"sans-serif\" font-size=\"12\" lengthAdjust=\"spacingAndGlyphs\" textLength=\"8\" x=\"340.5\" y=\"78.6387\">C</text></a><g id=\"E1.E3\"><a href=\"psysml:373f36dd-9125-4f4d-9beb-8d6cd21e1469\" target=\"_top\" title=\"psysml:373f36dd-9125-4f4d-9beb-8d6cd21e1469\" xlink:actuate=\"onRequest\" xlink:href=\"psysml:373f36dd-9125-4f4d-9beb-8d6cd21e1469\" xlink:show=\"new\" xlink:title=\"psysml:373f36dd-9125-4f4d-9beb-8d6cd21e1469\" xlink:type=\"simple\"><rect fill=\"#FEFECE\" filter=\"url(#fceb3zf1en4y0)\" height=\"40\" id=\"E3\" style=\"stroke: #A80036; stroke-width: 1.5;\" width=\"50\" x=\"36\" y=\"94\"/><ellipse cx=\"55.5\" cy=\"110\" fill=\"#008000\" rx=\"11\" ry=\"11\" style=\"stroke: #A80036; stroke-width: 1.0;\"/><path d=\"M52.375,115 L52.375,104.4063 L55.6094,104.4063 Q57.5156,104.4063 58.4219,105.1563 Q59.3438,105.9063 59.3438,107.0781 Q59.3438,107.7656 58.9531,108.4219 Q58.5781,109.0781 57.8594,109.375 Q58.7188,109.75 59.2344,110.4375 Q59.75,111.125 59.75,111.9375 Q59.75,113.3125 58.7188,114.1563 Q57.7031,115 55.5938,115 L52.375,115 Z M54.2969,108.6406 L55.4531,108.6406 Q56.5781,108.6406 56.9844,108.2656 Q57.4063,107.875 57.4063,107.25 Q57.4063,106.6719 56.9844,106.3125 Q56.5625,105.9531 55.625,105.9531 L54.2969,105.9531 L54.2969,108.6406 Z M54.2969,113.4219 L55.7969,113.4219 Q56.7031,113.4219 57.2344,113.0313 Q57.7656,112.6406 57.7656,111.8906 Q57.7656,111.125 57.2656,110.6563 Q56.7656,110.1719 55.5,110.1719 L54.2969,110.1719 L54.2969,113.4219 Z \"/><text fill=\"#000000\" font-family=\"sans-serif\" font-size=\"12\" lengthAdjust=\"spacingAndGlyphs\" textLength=\"8\" x=\"70.5\" y=\"114.1543\">A</text></a></g><g id=\"E1.E4\"><a href=\"psysml:7d838d86-0408-4401-9cbf-32b733f3993a\" target=\"_top\" title=\"psysml:7d838d86-0408-4401-9cbf-32b733f3993a\" xlink:actuate=\"onRequest\" xlink:href=\"psysml:7d838d86-0408-4401-9cbf-32b733f3993a\" xlink:show=\"new\" xlink:title=\"psysml:7d838d86-0408-4401-9cbf-32b733f3993a\" xlink:type=\"simple\"><rect fill=\"#FEFECE\" filter=\"url(#fceb3zf1en4y0)\" height=\"40\" id=\"E4\" style=\"stroke: #A80036; stroke-width: 1.5;\" width=\"50\" x=\"261\" y=\"42.5\"/><ellipse cx=\"280.5\" cy=\"58.5\" fill=\"#008000\" rx=\"11\" ry=\"11\" style=\"stroke: #A80036; stroke-width: 1.0;\"/><path d=\"M277.375,63.5 L277.375,52.9063 L280.6094,52.9063 Q282.5156,52.9063 283.4219,53.6563 Q284.3438,54.4063 284.3438,55.5781 Q284.3438,56.2656 283.9531,56.9219 Q283.5781,57.5781 282.8594,57.875 Q283.7188,58.25 284.2344,58.9375 Q284.75,59.625 284.75,60.4375 Q284.75,61.8125 283.7188,62.6563 Q282.7031,63.5 280.5938,63.5 L277.375,63.5 Z M279.2969,57.1406 L280.4531,57.1406 Q281.5781,57.1406 281.9844,56.7656 Q282.4063,56.375 282.4063,55.75 Q282.4063,55.1719 281.9844,54.8125 Q281.5625,54.4531 280.625,54.4531 L279.2969,54.4531 L279.2969,57.1406 Z M279.2969,61.9219 L280.7969,61.9219 Q281.7031,61.9219 282.2344,61.5313 Q282.7656,61.1406 282.7656,60.3906 Q282.7656,59.625 282.2656,59.1563 Q281.7656,58.6719 280.5,58.6719 L279.2969,58.6719 L279.2969,61.9219 Z \"/><text fill=\"#000000\" font-family=\"sans-serif\" font-size=\"12\" font-style=\"italic\" lengthAdjust=\"spacingAndGlyphs\" textLength=\"8\" x=\"295.5\" y=\"62.6543\">B</text></a></g><g id=\"E1.E7\"><a href=\"psysml:91f3ce36-c57b-44eb-a625-32b1f3011842\" target=\"_top\" title=\"psysml:91f3ce36-c57b-44eb-a625-32b1f3011842\" xlink:actuate=\"onRequest\" xlink:href=\"psysml:91f3ce36-c57b-44eb-a625-32b1f3011842\" xlink:show=\"new\" xlink:title=\"psysml:91f3ce36-c57b-44eb-a625-32b1f3011842\" xlink:type=\"simple\"><rect fill=\"#FEFECE\" filter=\"url(#fceb3zf1en4y0)\" height=\"42.9375\" id=\"E7\" style=\"stroke: #A80036; stroke-width: 1.5;\" width=\"101\" x=\"124.5\" y=\"41\"/><ellipse cx=\"141.75\" cy=\"59.9688\" fill=\"#A52A2A\" rx=\"11\" ry=\"11\" style=\"stroke: #A80036; stroke-width: 1.0;\"/><path d=\"M138.9688,64.9688 L138.9688,54.375 L141.7031,54.375 Q143.0938,54.375 143.8594,54.7656 Q144.6406,55.1406 145.1719,55.8438 Q145.7031,56.5469 146,57.5469 Q146.2969,58.5313 146.2969,59.75 Q146.25,61.3438 145.75,62.5313 Q145.2656,63.7031 144.2188,64.3438 Q143.1875,64.9688 141.5,64.9688 L138.9688,64.9688 Z M140.8281,63.4688 L141.4531,63.4688 Q142.5313,63.4688 143.1875,63.0156 Q143.8438,62.5625 144.125,61.7344 Q144.4219,60.8906 144.4063,59.7656 Q144.4063,58.5938 144.1563,57.7344 Q143.9063,56.8594 143.2969,56.3906 Q142.6875,55.9063 141.6406,55.9063 L140.8281,55.9063 L140.8281,63.4688 Z \"/><text fill=\"#000000\" font-family=\"sans-serif\" font-size=\"12\" font-style=\"italic\" lengthAdjust=\"spacingAndGlyphs\" textLength=\"68\" x=\"154.25\" y=\"57.1387\">«port  def»</text><text fill=\"#000000\" font-family=\"sans-serif\" font-size=\"12\" lengthAdjust=\"spacingAndGlyphs\" textLength=\"8\" x=\"184.25\" y=\"71.1074\">P</text></a></g><g id=\"E1.E2\"><a href=\"psysml:9b37ce48-aa06-4adb-ba3b-3b1410731947\" target=\"_top\" title=\"psysml:9b37ce48-aa06-4adb-ba3b-3b1410731947\" xlink:actuate=\"onRequest\" xlink:href=\"psysml:9b37ce48-aa06-4adb-ba3b-3b1410731947\" xlink:show=\"new\" xlink:title=\"psysml:9b37ce48-aa06-4adb-ba3b-3b1410731947\" xlink:type=\"simple\"><rect fill=\"#FEFECE\" filter=\"url(#fceb3zf1en4y0)\" height=\"40\" id=\"E2\" rx=\"10\" ry=\"10\" style=\"stroke: #A80036; stroke-width: 1.5;\" width=\"57\" x=\"32.5\" y=\"42.5\"/><ellipse cx=\"49.75\" cy=\"58.5\" fill=\"#32CD32\" rx=\"11\" ry=\"11\" style=\"stroke: #A80036; stroke-width: 1.0;\"/><path d=\"M46.5625,63.5 L46.5625,52.9063 L50.1719,52.9063 Q51.3906,52.9063 52.1875,53.3438 Q52.9844,53.7656 53.3594,54.4688 Q53.75,55.1719 53.75,56.0156 Q53.75,56.8594 53.375,57.5469 Q53.0156,58.2344 52.2188,58.6563 Q51.4375,59.0625 50.25,59.0625 L48.5156,59.0625 L48.5156,63.5 L46.5625,63.5 Z M48.5156,57.4688 L50.125,57.4688 Q50.9375,57.4688 51.3594,57.0625 Q51.7813,56.6563 51.7813,56.0156 Q51.7813,55.3906 51.3594,54.9844 Q50.9375,54.5781 50.1406,54.5781 L48.5156,54.5781 L48.5156,57.4688 Z \"/><text fill=\"#000000\" font-family=\"sans-serif\" font-size=\"12\" lengthAdjust=\"spacingAndGlyphs\" textLength=\"20\" x=\"64.25\" y=\"62.6543\">f: A</text></a></g><text fill=\"#000000\" font-family=\"sans-serif\" font-size=\"14\" lengthAdjust=\"spacingAndGlyphs\" textLength=\"43\" x=\"328.5\" y=\"41.1982\">y: A, B</text><rect fill=\"#A80036\" height=\"12\" style=\"stroke: #FEFECE; stroke-width: 1.5;\" width=\"12\" x=\"346\" y=\"56.5\"/><!--MD5=[2720a5a1f2c3fca2055b230370638851]\n",
       "link E2 to E3--><a href=\"psysml:2d349f36-3ef3-481f-a80c-9f5be02d82e3\" target=\"_top\" title=\"psysml:2d349f36-3ef3-481f-a80c-9f5be02d82e3\" xlink:actuate=\"onRequest\" xlink:href=\"psysml:2d349f36-3ef3-481f-a80c-9f5be02d82e3\" xlink:show=\"new\" xlink:title=\"psysml:2d349f36-3ef3-481f-a80c-9f5be02d82e3\" xlink:type=\"simple\"><path d=\"M61,82.78 C61,82.89 61,83 61,83.12 \" fill=\"none\" id=\"E2-&gt;E3\" style=\"stroke: #A80036; stroke-width: 1.0;\"/><polygon fill=\"#FFFFFF\" points=\"61,93.69,54,74.69,68,74.69,61,93.69\" style=\"stroke: #A80036; stroke-width: 1.0;\"/><ellipse cx=\"56\" cy=\"68.99\" fill=\"#A80036\" rx=\"2\" ry=\"2\" style=\"stroke: #A80036; stroke-width: 1.0;\"/><ellipse cx=\"66\" cy=\"68.99\" fill=\"#A80036\" rx=\"2\" ry=\"2\" style=\"stroke: #A80036; stroke-width: 1.0;\"/></a><!--MD5=[74ac17894d88ada745d52ebb877d5597]\n",
       "@startuml\r\n",
       "skinparam ranksep 10\r\n",
       "skinparam rectangle {\r\n",
       " backgroundColor<<block>> LightGreen\r\n",
       "}\r\n",
       " \r\n",
       "package \"ItemTest\" as E1  [[psysml:05177c11-5394-41b2-a0a0-71a4c06ed611 ]]  {\r\n",
       "rec usage \"f: A\" as E2 << << (P,limegreen) >> [[psysml:9b37ce48-aa06-4adb-ba3b-3b1410731947 ]] {\r\n",
       "}\r\n",
       "def \"A\" as E3 << << (B,green) >> [[psysml:373f36dd-9125-4f4d-9beb-8d6cd21e1469 ]] \r\n",
       "def \"<i>B</i>\" as E4 << << (B,green) >> [[psysml:7d838d86-0408-4401-9cbf-32b733f3993a ]] \r\n",
       "rec def \"C\" as E5 << << (B,green) >> [[psysml:a2efb8df-7581-49ed-b24f-8030c12b0405 ]] {\r\n",
       "portin \"y: A, B \" as E6 << <<(U,orange) reference>> [[psysml:4ca20137-091c-4af4-8b05-aa2379f8c92e ]] \r\n",
       "}\r\n",
       "def \"P\" as E7 << <<(D,brown) port  def>> [[psysml:91f3ce36-c57b-44eb-a625-32b1f3011842 ]] \r\n",
       "}\r\n",
       "E2 - -:|> E3 [[psysml:2d349f36-3ef3-481f-a80c-9f5be02d82e3 ]] \r\n",
       "@enduml\r\n",
       "\n",
       "PlantUML version 1.2020.13(Sat Jun 13 12:26:38 UTC 2020)\n",
       "(EPL source distribution)\n",
       "Java Runtime: OpenJDK Runtime Environment\n",
       "JVM: OpenJDK 64-Bit Server VM\n",
       "Default Encoding: UTF-8\n",
       "Language: en\n",
       "Country: null\n",
       "--></g></svg>"
      ]
     },
     "execution_count": 33,
     "metadata": {},
     "output_type": "execute_result"
    }
   ],
   "source": [
    "%viz --style=\"PLANTUML\" --view=\"Interconnection\" \"ItemTest\""
   ]
  },
  {
   "cell_type": "code",
   "execution_count": 34,
   "id": "1cdad0f3",
   "metadata": {
    "execution": {
     "iopub.execute_input": "2022-04-22T09:48:25.629161Z",
     "iopub.status.busy": "2022-04-22T09:48:25.628847Z",
     "iopub.status.idle": "2022-04-22T09:48:25.632986Z",
     "shell.execute_reply": "2022-04-22T09:48:25.633213Z"
    }
   },
   "outputs": [
    {
     "data": {
      "image/svg+xml": [
       "<?xml version=\"1.0\" encoding=\"UTF-8\" standalone=\"no\"?><svg xmlns=\"http://www.w3.org/2000/svg\" xmlns:xlink=\"http://www.w3.org/1999/xlink\" contentScriptType=\"application/ecmascript\" contentStyleType=\"text/css\" height=\"12px\" preserveAspectRatio=\"none\" style=\"width:12px;height:12px;\" version=\"1.1\" viewBox=\"0 0 12 12\" width=\"12px\" zoomAndPan=\"magnify\"><defs/><g><!--MD5=[6a4cb978cab31700e1ce5529f947a75d]\n",
       "@startuml\r\n",
       "skinparam ranksep 8\r\n",
       " \r\n",
       "@enduml\r\n",
       "\n",
       "PlantUML version 1.2020.13(Sat Jun 13 12:26:38 UTC 2020)\n",
       "(EPL source distribution)\n",
       "Java Runtime: OpenJDK Runtime Environment\n",
       "JVM: OpenJDK 64-Bit Server VM\n",
       "Default Encoding: UTF-8\n",
       "Language: en\n",
       "Country: null\n",
       "--></g></svg>"
      ]
     },
     "execution_count": 34,
     "metadata": {},
     "output_type": "execute_result"
    }
   ],
   "source": [
    "%viz --style=\"PLANTUML\" --view=\"Action\" \"ItemTest\""
   ]
  },
  {
   "cell_type": "code",
   "execution_count": 35,
   "id": "d7c9480a",
   "metadata": {
    "execution": {
     "iopub.execute_input": "2022-04-22T09:48:25.683223Z",
     "iopub.status.busy": "2022-04-22T09:48:25.683021Z",
     "iopub.status.idle": "2022-04-22T09:48:25.687838Z",
     "shell.execute_reply": "2022-04-22T09:48:25.688148Z"
    }
   },
   "outputs": [
    {
     "data": {
      "image/svg+xml": [
       "<?xml version=\"1.0\" encoding=\"UTF-8\" standalone=\"no\"?><svg xmlns=\"http://www.w3.org/2000/svg\" xmlns:xlink=\"http://www.w3.org/1999/xlink\" contentScriptType=\"application/ecmascript\" contentStyleType=\"text/css\" height=\"12px\" preserveAspectRatio=\"none\" style=\"width:12px;height:12px;\" version=\"1.1\" viewBox=\"0 0 12 12\" width=\"12px\" zoomAndPan=\"magnify\"><defs/><g><!--MD5=[ca4faa0b02def275ea33c14ea7a1a98d]\n",
       "@startuml\r\n",
       "skinparam roundcorner 20\r\n",
       "skinparam BoxPadding 20\r\n",
       "skinparam SequenceBoxBackgroundColor #white\r\n",
       "skinparam style strictuml\r\n",
       "skinparam maxMessageSize 100\r\n",
       " \r\n",
       "@enduml\r\n",
       "\n",
       "PlantUML version 1.2020.13(Sat Jun 13 12:26:38 UTC 2020)\n",
       "(EPL source distribution)\n",
       "Java Runtime: OpenJDK Runtime Environment\n",
       "JVM: OpenJDK 64-Bit Server VM\n",
       "Default Encoding: UTF-8\n",
       "Language: en\n",
       "Country: null\n",
       "--></g></svg>"
      ]
     },
     "execution_count": 35,
     "metadata": {},
     "output_type": "execute_result"
    }
   ],
   "source": [
    "%viz --style=\"PLANTUML\" --view=\"Sequence\" \"ItemTest\""
   ]
  },
  {
   "cell_type": "code",
   "execution_count": 36,
   "id": "aec34d9d",
   "metadata": {
    "execution": {
     "iopub.execute_input": "2022-04-22T09:48:25.738246Z",
     "iopub.status.busy": "2022-04-22T09:48:25.737851Z",
     "iopub.status.idle": "2022-04-22T09:48:25.782204Z",
     "shell.execute_reply": "2022-04-22T09:48:25.780933Z"
    }
   },
   "outputs": [
    {
     "data": {
      "image/svg+xml": [
       "<?xml version=\"1.0\" encoding=\"UTF-8\" standalone=\"no\"?><svg xmlns=\"http://www.w3.org/2000/svg\" xmlns:xlink=\"http://www.w3.org/1999/xlink\" contentScriptType=\"application/ecmascript\" contentStyleType=\"text/css\" height=\"788px\" preserveAspectRatio=\"none\" style=\"width:332px;height:788px;\" version=\"1.1\" viewBox=\"0 0 332 788\" width=\"332px\" zoomAndPan=\"magnify\"><defs><filter height=\"300%\" id=\"flzd1jehyxlk7\" width=\"300%\" x=\"-1\" y=\"-1\"><feGaussianBlur result=\"blurOut\" stdDeviation=\"2.0\"/><feColorMatrix in=\"blurOut\" result=\"blurOut2\" type=\"matrix\" values=\"0 0 0 0 0 0 0 0 0 0 0 0 0 0 0 0 0 0 .4 0\"/><feOffset dx=\"4.0\" dy=\"4.0\" in=\"blurOut2\" result=\"blurOut3\"/><feBlend in=\"SourceGraphic\" in2=\"blurOut3\" mode=\"normal\"/></filter></defs><g><!--MD5=[fbc87193dbaf4d95561dea2c320d4a47]\n",
       "cluster E1--><a href=\"psysml:05177c11-5394-41b2-a0a0-71a4c06ed611\" target=\"_top\" title=\"psysml:05177c11-5394-41b2-a0a0-71a4c06ed611\" xlink:actuate=\"onRequest\" xlink:href=\"psysml:05177c11-5394-41b2-a0a0-71a4c06ed611\" xlink:show=\"new\" xlink:title=\"psysml:05177c11-5394-41b2-a0a0-71a4c06ed611\" xlink:type=\"simple\"><polygon fill=\"#FFFFFF\" filter=\"url(#flzd1jehyxlk7)\" points=\"16,6,83,6,90,28.2969,310,28.2969,310,776,16,776,16,6\" style=\"stroke: #000000; stroke-width: 1.5;\"/><line style=\"stroke: #000000; stroke-width: 1.5;\" x1=\"16\" x2=\"90\" y1=\"28.2969\" y2=\"28.2969\"/><text fill=\"#000000\" font-family=\"sans-serif\" font-size=\"14\" font-weight=\"bold\" lengthAdjust=\"spacingAndGlyphs\" textLength=\"61\" x=\"20\" y=\"20.9951\">ItemTest</text></a><!--MD5=[b4997ac47864f28c2f74865a473b2911]\n",
       "class E2--><a href=\"psysml:9b37ce48-aa06-4adb-ba3b-3b1410731947\" target=\"_top\" title=\"psysml:9b37ce48-aa06-4adb-ba3b-3b1410731947\" xlink:actuate=\"onRequest\" xlink:href=\"psysml:9b37ce48-aa06-4adb-ba3b-3b1410731947\" xlink:show=\"new\" xlink:title=\"psysml:9b37ce48-aa06-4adb-ba3b-3b1410731947\" xlink:type=\"simple\"><rect fill=\"#FEFECE\" filter=\"url(#flzd1jehyxlk7)\" height=\"40\" id=\"E2\" rx=\"10\" ry=\"10\" style=\"stroke: #A80036; stroke-width: 1.5;\" width=\"56\" x=\"238\" y=\"148\"/><ellipse cx=\"253\" cy=\"164\" fill=\"#32CD32\" rx=\"11\" ry=\"11\" style=\"stroke: #A80036; stroke-width: 1.0;\"/><path d=\"M249.8125,169 L249.8125,158.4063 L253.4219,158.4063 Q254.6406,158.4063 255.4375,158.8438 Q256.2344,159.2656 256.6094,159.9688 Q257,160.6719 257,161.5156 Q257,162.3594 256.625,163.0469 Q256.2656,163.7344 255.4688,164.1563 Q254.6875,164.5625 253.5,164.5625 L251.7656,164.5625 L251.7656,169 L249.8125,169 Z M251.7656,162.9688 L253.375,162.9688 Q254.1875,162.9688 254.6094,162.5625 Q255.0313,162.1563 255.0313,161.5156 Q255.0313,160.8906 254.6094,160.4844 Q254.1875,160.0781 253.3906,160.0781 L251.7656,160.0781 L251.7656,162.9688 Z \"/><text fill=\"#000000\" font-family=\"sans-serif\" font-size=\"12\" lengthAdjust=\"spacingAndGlyphs\" textLength=\"20\" x=\"267\" y=\"168.1543\">f: A</text><line style=\"stroke: #A80036; stroke-width: 1.5;\" x1=\"239\" x2=\"293\" y1=\"180\" y2=\"180\"/></a><!--MD5=[09b614a08d8cba4a07c9adeb5e0fee81]\n",
       "class E3--><a href=\"psysml:373f36dd-9125-4f4d-9beb-8d6cd21e1469\" target=\"_top\" title=\"psysml:373f36dd-9125-4f4d-9beb-8d6cd21e1469\" xlink:actuate=\"onRequest\" xlink:href=\"psysml:373f36dd-9125-4f4d-9beb-8d6cd21e1469\" xlink:show=\"new\" xlink:title=\"psysml:373f36dd-9125-4f4d-9beb-8d6cd21e1469\" xlink:type=\"simple\"><rect fill=\"#FEFECE\" filter=\"url(#flzd1jehyxlk7)\" height=\"40\" id=\"E3\" style=\"stroke: #A80036; stroke-width: 1.5;\" width=\"40\" x=\"149\" y=\"249\"/><ellipse cx=\"164\" cy=\"265\" fill=\"#008000\" rx=\"11\" ry=\"11\" style=\"stroke: #A80036; stroke-width: 1.0;\"/><path d=\"M160.875,270 L160.875,259.4063 L164.1094,259.4063 Q166.0156,259.4063 166.9219,260.1563 Q167.8438,260.9063 167.8438,262.0781 Q167.8438,262.7656 167.4531,263.4219 Q167.0781,264.0781 166.3594,264.375 Q167.2188,264.75 167.7344,265.4375 Q168.25,266.125 168.25,266.9375 Q168.25,268.3125 167.2188,269.1563 Q166.2031,270 164.0938,270 L160.875,270 Z M162.7969,263.6406 L163.9531,263.6406 Q165.0781,263.6406 165.4844,263.2656 Q165.9063,262.875 165.9063,262.25 Q165.9063,261.6719 165.4844,261.3125 Q165.0625,260.9531 164.125,260.9531 L162.7969,260.9531 L162.7969,263.6406 Z M162.7969,268.4219 L164.2969,268.4219 Q165.2031,268.4219 165.7344,268.0313 Q166.2656,267.6406 166.2656,266.8906 Q166.2656,266.125 165.7656,265.6563 Q165.2656,265.1719 164,265.1719 L162.7969,265.1719 L162.7969,268.4219 Z \"/><text fill=\"#000000\" font-family=\"sans-serif\" font-size=\"12\" lengthAdjust=\"spacingAndGlyphs\" textLength=\"8\" x=\"178\" y=\"269.1543\">A</text><line style=\"stroke: #A80036; stroke-width: 1.5;\" x1=\"150\" x2=\"188\" y1=\"281\" y2=\"281\"/></a><!--MD5=[ebbe1d658d1005bcc118a6aa81145e00]\n",
       "class E4--><a href=\"psysml:130e11a2-3d5f-4cd9-b0cd-9225a7528360\" target=\"_top\" title=\"psysml:130e11a2-3d5f-4cd9-b0cd-9225a7528360\" xlink:actuate=\"onRequest\" xlink:href=\"psysml:130e11a2-3d5f-4cd9-b0cd-9225a7528360\" xlink:show=\"new\" xlink:title=\"psysml:130e11a2-3d5f-4cd9-b0cd-9225a7528360\" xlink:type=\"simple\"><rect fill=\"#FEFECE\" filter=\"url(#flzd1jehyxlk7)\" height=\"40\" id=\"E4\" rx=\"10\" ry=\"10\" style=\"stroke: #A80036; stroke-width: 1.5;\" width=\"60\" x=\"49\" y=\"426\"/><ellipse cx=\"64\" cy=\"442\" fill=\"#32CD32\" rx=\"11\" ry=\"11\" style=\"stroke: #A80036; stroke-width: 1.0;\"/><path d=\"M60.8125,447 L60.8125,436.4063 L64.4219,436.4063 Q65.6406,436.4063 66.4375,436.8438 Q67.2344,437.2656 67.6094,437.9688 Q68,438.6719 68,439.5156 Q68,440.3594 67.625,441.0469 Q67.2656,441.7344 66.4688,442.1563 Q65.6875,442.5625 64.5,442.5625 L62.7656,442.5625 L62.7656,447 L60.8125,447 Z M62.7656,440.9688 L64.375,440.9688 Q65.1875,440.9688 65.6094,440.5625 Q66.0313,440.1563 66.0313,439.5156 Q66.0313,438.8906 65.6094,438.4844 Q65.1875,438.0781 64.3906,438.0781 L62.7656,438.0781 L62.7656,440.9688 Z \"/><text fill=\"#000000\" font-family=\"sans-serif\" font-size=\"12\" lengthAdjust=\"spacingAndGlyphs\" textLength=\"24\" x=\"78\" y=\"446.1543\">b: B</text><line style=\"stroke: #A80036; stroke-width: 1.5;\" x1=\"50\" x2=\"108\" y1=\"458\" y2=\"458\"/></a><!--MD5=[270fce915f116d4de14055a7c1d9a0f3]\n",
       "class E5--><a href=\"psysml:80ae9a50-ac1f-4423-b935-68d8f5716f01\" target=\"_top\" title=\"psysml:80ae9a50-ac1f-4423-b935-68d8f5716f01\" xlink:actuate=\"onRequest\" xlink:href=\"psysml:80ae9a50-ac1f-4423-b935-68d8f5716f01\" xlink:show=\"new\" xlink:title=\"psysml:80ae9a50-ac1f-4423-b935-68d8f5716f01\" xlink:type=\"simple\"><rect fill=\"#FEFECE\" filter=\"url(#flzd1jehyxlk7)\" height=\"45.9375\" id=\"E5\" rx=\"10\" ry=\"10\" style=\"stroke: #A80036; stroke-width: 1.5;\" width=\"68\" x=\"176\" y=\"350\"/><ellipse cx=\"191\" cy=\"368.9688\" fill=\"#32CD32\" rx=\"11\" ry=\"11\" style=\"stroke: #A80036; stroke-width: 1.0;\"/><path d=\"M187.8125,373.9688 L187.8125,363.375 L191.4219,363.375 Q192.6406,363.375 193.4375,363.8125 Q194.2344,364.2344 194.6094,364.9375 Q195,365.6406 195,366.4844 Q195,367.3281 194.625,368.0156 Q194.2656,368.7031 193.4688,369.125 Q192.6875,369.5313 191.5,369.5313 L189.7656,369.5313 L189.7656,373.9688 L187.8125,373.9688 Z M189.7656,367.9375 L191.375,367.9375 Q192.1875,367.9375 192.6094,367.5313 Q193.0313,367.125 193.0313,366.4844 Q193.0313,365.8594 192.6094,365.4531 Q192.1875,365.0469 191.3906,365.0469 L189.7656,365.0469 L189.7656,367.9375 Z \"/><text fill=\"#000000\" font-family=\"sans-serif\" font-size=\"12\" font-style=\"italic\" lengthAdjust=\"spacingAndGlyphs\" textLength=\"40\" x=\"203\" y=\"366.1387\">«part»</text><text fill=\"#000000\" font-family=\"sans-serif\" font-size=\"12\" lengthAdjust=\"spacingAndGlyphs\" textLength=\"23\" x=\"209.5\" y=\"380.1074\">c: C</text><line style=\"stroke: #A80036; stroke-width: 1.5;\" x1=\"177\" x2=\"243\" y1=\"387.9375\" y2=\"387.9375\"/></a><!--MD5=[60a26617385b1d2d0262a64233df1f8d]\n",
       "class E6--><a href=\"psysml:7d838d86-0408-4401-9cbf-32b733f3993a\" target=\"_top\" title=\"psysml:7d838d86-0408-4401-9cbf-32b733f3993a\" xlink:actuate=\"onRequest\" xlink:href=\"psysml:7d838d86-0408-4401-9cbf-32b733f3993a\" xlink:show=\"new\" xlink:title=\"psysml:7d838d86-0408-4401-9cbf-32b733f3993a\" xlink:type=\"simple\"><rect fill=\"#FEFECE\" filter=\"url(#flzd1jehyxlk7)\" height=\"40\" id=\"E6\" style=\"stroke: #A80036; stroke-width: 1.5;\" width=\"40\" x=\"134\" y=\"613\"/><ellipse cx=\"149\" cy=\"629\" fill=\"#008000\" rx=\"11\" ry=\"11\" style=\"stroke: #A80036; stroke-width: 1.0;\"/><path d=\"M145.875,634 L145.875,623.4063 L149.1094,623.4063 Q151.0156,623.4063 151.9219,624.1563 Q152.8438,624.9063 152.8438,626.0781 Q152.8438,626.7656 152.4531,627.4219 Q152.0781,628.0781 151.3594,628.375 Q152.2188,628.75 152.7344,629.4375 Q153.25,630.125 153.25,630.9375 Q153.25,632.3125 152.2188,633.1563 Q151.2031,634 149.0938,634 L145.875,634 Z M147.7969,627.6406 L148.9531,627.6406 Q150.0781,627.6406 150.4844,627.2656 Q150.9063,626.875 150.9063,626.25 Q150.9063,625.6719 150.4844,625.3125 Q150.0625,624.9531 149.125,624.9531 L147.7969,624.9531 L147.7969,627.6406 Z M147.7969,632.4219 L149.2969,632.4219 Q150.2031,632.4219 150.7344,632.0313 Q151.2656,631.6406 151.2656,630.8906 Q151.2656,630.125 150.7656,629.6563 Q150.2656,629.1719 149,629.1719 L147.7969,629.1719 L147.7969,632.4219 Z \"/><text fill=\"#000000\" font-family=\"sans-serif\" font-size=\"12\" font-style=\"italic\" lengthAdjust=\"spacingAndGlyphs\" textLength=\"8\" x=\"163\" y=\"633.1543\">B</text><line style=\"stroke: #A80036; stroke-width: 1.5;\" x1=\"135\" x2=\"173\" y1=\"645\" y2=\"645\"/></a><!--MD5=[2156ba9850f5573cc1fc38a6a4b2f02b]\n",
       "class E7--><a href=\"psysml:d06b8fcb-8cda-493c-875d-bdf01ed715df\" target=\"_top\" title=\"psysml:d06b8fcb-8cda-493c-875d-bdf01ed715df\" xlink:actuate=\"onRequest\" xlink:href=\"psysml:d06b8fcb-8cda-493c-875d-bdf01ed715df\" xlink:show=\"new\" xlink:title=\"psysml:d06b8fcb-8cda-493c-875d-bdf01ed715df\" xlink:type=\"simple\"><rect fill=\"#FEFECE\" filter=\"url(#flzd1jehyxlk7)\" height=\"45.9375\" id=\"E7\" rx=\"10\" ry=\"10\" style=\"stroke: #A80036; stroke-width: 1.5;\" width=\"68\" x=\"208\" y=\"714\"/><ellipse cx=\"223\" cy=\"732.9688\" fill=\"#32CD32\" rx=\"11\" ry=\"11\" style=\"stroke: #A80036; stroke-width: 1.0;\"/><path d=\"M219.8125,737.9688 L219.8125,727.375 L223.4219,727.375 Q224.6406,727.375 225.4375,727.8125 Q226.2344,728.2344 226.6094,728.9375 Q227,729.6406 227,730.4844 Q227,731.3281 226.625,732.0156 Q226.2656,732.7031 225.4688,733.125 Q224.6875,733.5313 223.5,733.5313 L221.7656,733.5313 L221.7656,737.9688 L219.8125,737.9688 Z M221.7656,731.9375 L223.375,731.9375 Q224.1875,731.9375 224.6094,731.5313 Q225.0313,731.125 225.0313,730.4844 Q225.0313,729.8594 224.6094,729.4531 Q224.1875,729.0469 223.3906,729.0469 L221.7656,729.0469 L221.7656,731.9375 Z \"/><text fill=\"#000000\" font-family=\"sans-serif\" font-size=\"12\" font-style=\"italic\" lengthAdjust=\"spacingAndGlyphs\" textLength=\"40\" x=\"235\" y=\"730.1387\">«part»</text><text fill=\"#000000\" font-family=\"sans-serif\" font-size=\"12\" font-style=\"italic\" lengthAdjust=\"spacingAndGlyphs\" textLength=\"8\" x=\"241\" y=\"744.1074\">a</text><text fill=\"#000000\" font-family=\"sans-serif\" font-size=\"12\" lengthAdjust=\"spacingAndGlyphs\" textLength=\"16\" x=\"249\" y=\"744.1074\">: A</text><line style=\"stroke: #A80036; stroke-width: 1.5;\" x1=\"209\" x2=\"275\" y1=\"751.9375\" y2=\"751.9375\"/></a><!--MD5=[b9389687b975829384b498ac4b7476b2]\n",
       "class E8--><a href=\"psysml:a2efb8df-7581-49ed-b24f-8030c12b0405\" target=\"_top\" title=\"psysml:a2efb8df-7581-49ed-b24f-8030c12b0405\" xlink:actuate=\"onRequest\" xlink:href=\"psysml:a2efb8df-7581-49ed-b24f-8030c12b0405\" xlink:show=\"new\" xlink:title=\"psysml:a2efb8df-7581-49ed-b24f-8030c12b0405\" xlink:type=\"simple\"><rect fill=\"#FEFECE\" filter=\"url(#flzd1jehyxlk7)\" height=\"40\" id=\"E8\" style=\"stroke: #A80036; stroke-width: 1.5;\" width=\"40\" x=\"134\" y=\"496\"/><ellipse cx=\"149\" cy=\"512\" fill=\"#008000\" rx=\"11\" ry=\"11\" style=\"stroke: #A80036; stroke-width: 1.0;\"/><path d=\"M145.875,517 L145.875,506.4063 L149.1094,506.4063 Q151.0156,506.4063 151.9219,507.1563 Q152.8438,507.9063 152.8438,509.0781 Q152.8438,509.7656 152.4531,510.4219 Q152.0781,511.0781 151.3594,511.375 Q152.2188,511.75 152.7344,512.4375 Q153.25,513.125 153.25,513.9375 Q153.25,515.3125 152.2188,516.1563 Q151.2031,517 149.0938,517 L145.875,517 Z M147.7969,510.6406 L148.9531,510.6406 Q150.0781,510.6406 150.4844,510.2656 Q150.9063,509.875 150.9063,509.25 Q150.9063,508.6719 150.4844,508.3125 Q150.0625,507.9531 149.125,507.9531 L147.7969,507.9531 L147.7969,510.6406 Z M147.7969,515.4219 L149.2969,515.4219 Q150.2031,515.4219 150.7344,515.0313 Q151.2656,514.6406 151.2656,513.8906 Q151.2656,513.125 150.7656,512.6563 Q150.2656,512.1719 149,512.1719 L147.7969,512.1719 L147.7969,515.4219 Z \"/><text fill=\"#000000\" font-family=\"sans-serif\" font-size=\"12\" lengthAdjust=\"spacingAndGlyphs\" textLength=\"8\" x=\"163\" y=\"516.1543\">C</text><line style=\"stroke: #A80036; stroke-width: 1.5;\" x1=\"135\" x2=\"173\" y1=\"528\" y2=\"528\"/></a><!--MD5=[fd4143e9d270a159db93a4ea2a975926]\n",
       "class E9--><a href=\"psysml:91f3ce36-c57b-44eb-a625-32b1f3011842\" target=\"_top\" title=\"psysml:91f3ce36-c57b-44eb-a625-32b1f3011842\" xlink:actuate=\"onRequest\" xlink:href=\"psysml:91f3ce36-c57b-44eb-a625-32b1f3011842\" xlink:show=\"new\" xlink:title=\"psysml:91f3ce36-c57b-44eb-a625-32b1f3011842\" xlink:type=\"simple\"><rect fill=\"#FEFECE\" filter=\"url(#flzd1jehyxlk7)\" height=\"45.9375\" id=\"E9\" style=\"stroke: #A80036; stroke-width: 1.5;\" width=\"96\" x=\"76\" y=\"41\"/><ellipse cx=\"91\" cy=\"59.9688\" fill=\"#A52A2A\" rx=\"11\" ry=\"11\" style=\"stroke: #A80036; stroke-width: 1.0;\"/><path d=\"M88.2188,64.9688 L88.2188,54.375 L90.9531,54.375 Q92.3438,54.375 93.1094,54.7656 Q93.8906,55.1406 94.4219,55.8438 Q94.9531,56.5469 95.25,57.5469 Q95.5469,58.5313 95.5469,59.75 Q95.5,61.3438 95,62.5313 Q94.5156,63.7031 93.4688,64.3438 Q92.4375,64.9688 90.75,64.9688 L88.2188,64.9688 Z M90.0781,63.4688 L90.7031,63.4688 Q91.7813,63.4688 92.4375,63.0156 Q93.0938,62.5625 93.375,61.7344 Q93.6719,60.8906 93.6563,59.7656 Q93.6563,58.5938 93.4063,57.7344 Q93.1563,56.8594 92.5469,56.3906 Q91.9375,55.9063 90.8906,55.9063 L90.0781,55.9063 L90.0781,63.4688 Z \"/><text fill=\"#000000\" font-family=\"sans-serif\" font-size=\"12\" font-style=\"italic\" lengthAdjust=\"spacingAndGlyphs\" textLength=\"68\" x=\"103\" y=\"57.1387\">«port  def»</text><text fill=\"#000000\" font-family=\"sans-serif\" font-size=\"12\" lengthAdjust=\"spacingAndGlyphs\" textLength=\"8\" x=\"133\" y=\"71.1074\">P</text><line style=\"stroke: #A80036; stroke-width: 1.5;\" x1=\"77\" x2=\"171\" y1=\"78.9375\" y2=\"78.9375\"/></a><!--MD5=[96f4274e9e20536e775497830990834d]\n",
       "class E10--><a href=\"psysml:5a8db81a-c733-4c6f-be90-4f9ffe214caa\" target=\"_top\" title=\"psysml:5a8db81a-c733-4c6f-be90-4f9ffe214caa\" xlink:actuate=\"onRequest\" xlink:href=\"psysml:5a8db81a-c733-4c6f-be90-4f9ffe214caa\" xlink:show=\"new\" xlink:title=\"psysml:5a8db81a-c733-4c6f-be90-4f9ffe214caa\" xlink:type=\"simple\"><rect fill=\"#FEFECE\" filter=\"url(#flzd1jehyxlk7)\" height=\"40\" id=\"E10\" rx=\"10\" ry=\"10\" style=\"stroke: #A80036; stroke-width: 1.5;\" width=\"68\" x=\"32\" y=\"148\"/><ellipse cx=\"47\" cy=\"164\" fill=\"#32CD32\" rx=\"11\" ry=\"11\" style=\"stroke: #A80036; stroke-width: 1.0;\"/><path d=\"M43.8125,169 L43.8125,158.4063 L47.4219,158.4063 Q48.6406,158.4063 49.4375,158.8438 Q50.2344,159.2656 50.6094,159.9688 Q51,160.6719 51,161.5156 Q51,162.3594 50.625,163.0469 Q50.2656,163.7344 49.4688,164.1563 Q48.6875,164.5625 47.5,164.5625 L45.7656,164.5625 L45.7656,169 L43.8125,169 Z M45.7656,162.9688 L47.375,162.9688 Q48.1875,162.9688 48.6094,162.5625 Q49.0313,162.1563 49.0313,161.5156 Q49.0313,160.8906 48.6094,160.4844 Q48.1875,160.0781 47.3906,160.0781 L45.7656,160.0781 L45.7656,162.9688 Z \"/><text fill=\"#000000\" font-family=\"sans-serif\" font-size=\"12\" lengthAdjust=\"spacingAndGlyphs\" textLength=\"32\" x=\"61\" y=\"168.1543\">a1: A</text><line style=\"stroke: #A80036; stroke-width: 1.5;\" x1=\"33\" x2=\"99\" y1=\"180\" y2=\"180\"/></a><!--MD5=[1dd1bfd58a279cf63c5f349dbc8fc6a1]\n",
       "class E11--><a href=\"psysml:50797105-d3dc-4af6-be0e-986a23cb6cc7\" target=\"_top\" title=\"psysml:50797105-d3dc-4af6-be0e-986a23cb6cc7\" xlink:actuate=\"onRequest\" xlink:href=\"psysml:50797105-d3dc-4af6-be0e-986a23cb6cc7\" xlink:show=\"new\" xlink:title=\"psysml:50797105-d3dc-4af6-be0e-986a23cb6cc7\" xlink:type=\"simple\"><rect fill=\"#FEFECE\" filter=\"url(#flzd1jehyxlk7)\" height=\"40\" id=\"E11\" rx=\"10\" ry=\"10\" style=\"stroke: #A80036; stroke-width: 1.5;\" width=\"68\" x=\"135\" y=\"148\"/><ellipse cx=\"150\" cy=\"164\" fill=\"#32CD32\" rx=\"11\" ry=\"11\" style=\"stroke: #A80036; stroke-width: 1.0;\"/><path d=\"M146.8125,169 L146.8125,158.4063 L150.4219,158.4063 Q151.6406,158.4063 152.4375,158.8438 Q153.2344,159.2656 153.6094,159.9688 Q154,160.6719 154,161.5156 Q154,162.3594 153.625,163.0469 Q153.2656,163.7344 152.4688,164.1563 Q151.6875,164.5625 150.5,164.5625 L148.7656,164.5625 L148.7656,169 L146.8125,169 Z M148.7656,162.9688 L150.375,162.9688 Q151.1875,162.9688 151.6094,162.5625 Q152.0313,162.1563 152.0313,161.5156 Q152.0313,160.8906 151.6094,160.4844 Q151.1875,160.0781 150.3906,160.0781 L148.7656,160.0781 L148.7656,162.9688 Z \"/><text fill=\"#000000\" font-family=\"sans-serif\" font-size=\"12\" lengthAdjust=\"spacingAndGlyphs\" textLength=\"32\" x=\"164\" y=\"168.1543\">a2: A</text><line style=\"stroke: #A80036; stroke-width: 1.5;\" x1=\"136\" x2=\"202\" y1=\"180\" y2=\"180\"/></a><!--MD5=[2720a5a1f2c3fca2055b230370638851]\n",
       "link E2 to E3--><a href=\"psysml:2d349f36-3ef3-481f-a80c-9f5be02d82e3\" target=\"_top\" title=\"psysml:2d349f36-3ef3-481f-a80c-9f5be02d82e3\" xlink:actuate=\"onRequest\" xlink:href=\"psysml:2d349f36-3ef3-481f-a80c-9f5be02d82e3\" xlink:show=\"new\" xlink:title=\"psysml:2d349f36-3ef3-481f-a80c-9f5be02d82e3\" xlink:type=\"simple\"><path d=\"M247.3,188.09 C234.42,201.24 216.95,219.06 201.79,234.53 \" fill=\"none\" id=\"E2-&gt;E3\" style=\"stroke: #A80036; stroke-width: 1.0;\"/><polygon fill=\"#FFFFFF\" points=\"187.65,248.97,195.9397,230.4962,205.9437,240.2901,187.65,248.97\" style=\"stroke: #A80036; stroke-width: 1.0;\"/><ellipse cx=\"201.3564\" cy=\"227.8223\" fill=\"#A80036\" rx=\"2\" ry=\"2\" style=\"stroke: #A80036; stroke-width: 1.0;\"/><ellipse cx=\"208.5021\" cy=\"234.8179\" fill=\"#A80036\" rx=\"2\" ry=\"2\" style=\"stroke: #A80036; stroke-width: 1.0;\"/></a><!--MD5=[4672eba38e49728da53d11aeb285b987]\n",
       "reverse link E3 to E4--><a href=\"psysml:1fc0b9c6-f917-494b-8539-e8a30a151a21\" target=\"_top\" title=\"psysml:1fc0b9c6-f917-494b-8539-e8a30a151a21\" xlink:actuate=\"onRequest\" xlink:href=\"psysml:1fc0b9c6-f917-494b-8539-e8a30a151a21\" xlink:show=\"new\" xlink:title=\"psysml:1fc0b9c6-f917-494b-8539-e8a30a151a21\" xlink:type=\"simple\"><path d=\"M138.27,292.03 C120.72,306.42 100.07,326.8 89,350 C77.43,374.25 76.5,405.85 77.38,425.79 \" fill=\"none\" id=\"E3&lt;-E4\" style=\"stroke: #A80036; stroke-width: 1.0;\"/><polygon fill=\"#A80036\" points=\"148.68,283.88,141.4897,284.427,139.2291,291.2746,146.4194,290.7276,148.68,283.88\" style=\"stroke: #A80036; stroke-width: 1.0;\"/><text fill=\"#000000\" font-family=\"sans-serif\" font-size=\"13\" lengthAdjust=\"spacingAndGlyphs\" textLength=\"8\" x=\"67.7994\" y=\"415.0821\">1</text></a><!--MD5=[191cde3d490a3f6d7bb551fe3ddca469]\n",
       "reverse link E3 to E5--><a href=\"psysml:1188b8bd-fcbe-4041-bfa3-3c6757b772de\" target=\"_top\" title=\"psysml:1188b8bd-fcbe-4041-bfa3-3c6757b772de\" xlink:actuate=\"onRequest\" xlink:href=\"psysml:1188b8bd-fcbe-4041-bfa3-3c6757b772de\" xlink:show=\"new\" xlink:title=\"psysml:1188b8bd-fcbe-4041-bfa3-3c6757b772de\" xlink:type=\"simple\"><path d=\"M181.65,301.47 C187.92,317.08 195.36,335.57 201.04,349.7 \" fill=\"none\" id=\"E3&lt;-E5\" style=\"stroke: #A80036; stroke-width: 1.0;\"/><polygon fill=\"#FFFFFF\" points=\"176.71,289.19,175.2345,296.2485,181.1826,300.3253,182.6581,293.2668,176.71,289.19\" style=\"stroke: #A80036; stroke-width: 1.0;\"/><text fill=\"#000000\" font-family=\"sans-serif\" font-size=\"13\" lengthAdjust=\"spacingAndGlyphs\" textLength=\"8\" x=\"189.719\" y=\"338.8994\">1</text></a><!--MD5=[79568f1e445c3877b6a54524624ccc7d]\n",
       "link E4 to E6--><a href=\"psysml:b444802f-fd06-4322-964d-2bd41504258e\" target=\"_top\" title=\"psysml:b444802f-fd06-4322-964d-2bd41504258e\" xlink:actuate=\"onRequest\" xlink:href=\"psysml:b444802f-fd06-4322-964d-2bd41504258e\" xlink:show=\"new\" xlink:title=\"psysml:b444802f-fd06-4322-964d-2bd41504258e\" xlink:type=\"simple\"><path d=\"M86.74,466.1 C98.93,496.15 122.8,555.04 138.58,593.96 \" fill=\"none\" id=\"E4-&gt;E6\" style=\"stroke: #A80036; stroke-width: 1.0;\"/><polygon fill=\"#FFFFFF\" points=\"146.19,612.73,132.5666,597.7499,145.5417,592.4919,146.19,612.73\" style=\"stroke: #A80036; stroke-width: 1.0;\"/><ellipse cx=\"132.2794\" cy=\"591.7161\" fill=\"#A80036\" rx=\"2\" ry=\"2\" style=\"stroke: #A80036; stroke-width: 1.0;\"/><ellipse cx=\"141.5473\" cy=\"587.9604\" fill=\"#A80036\" rx=\"2\" ry=\"2\" style=\"stroke: #A80036; stroke-width: 1.0;\"/></a><!--MD5=[3f50a3473f1dfb74d3f76443e03635af]\n",
       "reverse link E6 to E7--><a href=\"psysml:fe8fc95e-22bb-46d1-b0fd-61d73c45474f\" target=\"_top\" title=\"psysml:fe8fc95e-22bb-46d1-b0fd-61d73c45474f\" xlink:actuate=\"onRequest\" xlink:href=\"psysml:fe8fc95e-22bb-46d1-b0fd-61d73c45474f\" xlink:show=\"new\" xlink:title=\"psysml:fe8fc95e-22bb-46d1-b0fd-61d73c45474f\" xlink:type=\"simple\"><path d=\"M179.15,663.15 C193.01,679.22 209.96,698.87 222.76,713.7 \" fill=\"none\" id=\"E6&lt;-E7\" style=\"stroke: #A80036; stroke-width: 1.0;\"/><polygon fill=\"#A80036\" points=\"170.55,653.19,171.4382,660.3462,178.3855,662.2787,177.4973,655.1225,170.55,653.19\" style=\"stroke: #A80036; stroke-width: 1.0;\"/><text fill=\"#000000\" font-family=\"sans-serif\" font-size=\"13\" lengthAdjust=\"spacingAndGlyphs\" textLength=\"8\" x=\"208.8047\" y=\"702.8994\">1</text></a><!--MD5=[14ccda38c055a5c0da953d572bc50960]\n",
       "link E7 to E3--><a href=\"psysml:599ea15b-bb0f-4f03-a502-f2e1a3a71e91\" target=\"_top\" title=\"psysml:599ea15b-bb0f-4f03-a502-f2e1a3a71e91\" xlink:actuate=\"onRequest\" xlink:href=\"psysml:599ea15b-bb0f-4f03-a502-f2e1a3a71e91\" xlink:show=\"new\" xlink:title=\"psysml:599ea15b-bb0f-4f03-a502-f2e1a3a71e91\" xlink:type=\"simple\"><path d=\"M255.5,713.79 C266.43,693.7 280,662.91 280,634 C280,372 280,372 280,372 C280,331.58 239.6,302.81 207.54,286.34 \" fill=\"none\" id=\"E7-&gt;E3\" style=\"stroke: #A80036; stroke-width: 1.0;\"/><polygon fill=\"#FFFFFF\" points=\"189.1,277.68,209.2735,279.4203,203.3225,292.0925,189.1,277.68\" style=\"stroke: #A80036; stroke-width: 1.0;\"/><ellipse cx=\"213.5828\" cy=\"283.6535\" fill=\"#A80036\" rx=\"2\" ry=\"2\" style=\"stroke: #A80036; stroke-width: 1.0;\"/><ellipse cx=\"209.332\" cy=\"292.7051\" fill=\"#A80036\" rx=\"2\" ry=\"2\" style=\"stroke: #A80036; stroke-width: 1.0;\"/></a><!--MD5=[dfaffb906826c3e5aca635516100ff21]\n",
       "link E5 to E8--><a href=\"psysml:ebb03462-10dd-4a39-86ac-c1648f226bb6\" target=\"_top\" title=\"psysml:ebb03462-10dd-4a39-86ac-c1648f226bb6\" xlink:actuate=\"onRequest\" xlink:href=\"psysml:ebb03462-10dd-4a39-86ac-c1648f226bb6\" xlink:show=\"new\" xlink:title=\"psysml:ebb03462-10dd-4a39-86ac-c1648f226bb6\" xlink:type=\"simple\"><path d=\"M201.25,396.03 C192.66,417.67 179.38,451.1 169.08,477.03 \" fill=\"none\" id=\"E5-&gt;E8\" style=\"stroke: #A80036; stroke-width: 1.0;\"/><polygon fill=\"#FFFFFF\" points=\"161.61,495.84,162.108,475.5977,175.1218,480.7592,161.61,495.84\" style=\"stroke: #A80036; stroke-width: 1.0;\"/><ellipse cx=\"166.0686\" cy=\"471.0366\" fill=\"#A80036\" rx=\"2\" ry=\"2\" style=\"stroke: #A80036; stroke-width: 1.0;\"/><ellipse cx=\"175.3642\" cy=\"474.7233\" fill=\"#A80036\" rx=\"2\" ry=\"2\" style=\"stroke: #A80036; stroke-width: 1.0;\"/></a><!--MD5=[03c8294790d3c57651a1993cecff665f]\n",
       "reverse link E8 to E3--><a href=\"psysml:4ca20137-091c-4af4-8b05-aa2379f8c92e\" target=\"_top\" title=\"psysml:4ca20137-091c-4af4-8b05-aa2379f8c92e\" xlink:actuate=\"onRequest\" xlink:href=\"psysml:4ca20137-091c-4af4-8b05-aa2379f8c92e\" xlink:show=\"new\" xlink:title=\"psysml:4ca20137-091c-4af4-8b05-aa2379f8c92e\" xlink:type=\"simple\"><path d=\"M150.54,482.63 C147.6,449.27 144.63,395.82 150,350 C152.47,328.87 158.5,305.24 163.11,289.17 \" fill=\"none\" id=\"E8&lt;-E3\" style=\"stroke: #A80036; stroke-width: 1.0;\"/><polygon fill=\"#FFFFFF\" points=\"151.77,495.61,155.1851,489.2589,150.636,483.6637,147.2209,490.0148,151.77,495.61\" style=\"stroke: #A80036; stroke-width: 1.0;\"/><text fill=\"#000000\" font-family=\"sans-serif\" font-size=\"13\" lengthAdjust=\"spacingAndGlyphs\" textLength=\"7\" x=\"151\" y=\"377.5669\">y</text></a><!--MD5=[0d75d2178373a6a4568e5dc728f58aef]\n",
       "reverse link E8 to E6--><a href=\"psysml:4ca20137-091c-4af4-8b05-aa2379f8c92e\" target=\"_top\" title=\"psysml:4ca20137-091c-4af4-8b05-aa2379f8c92e\" xlink:actuate=\"onRequest\" xlink:href=\"psysml:4ca20137-091c-4af4-8b05-aa2379f8c92e\" xlink:show=\"new\" xlink:title=\"psysml:4ca20137-091c-4af4-8b05-aa2379f8c92e\" xlink:type=\"simple\"><path d=\"M154,549.36 C154,569.76 154,595.42 154,612.69 \" fill=\"none\" id=\"E8&lt;-E6\" style=\"stroke: #A80036; stroke-width: 1.0;\"/><polygon fill=\"#FFFFFF\" points=\"154,536.25,150,542.25,154,548.25,158,542.25,154,536.25\" style=\"stroke: #A80036; stroke-width: 1.0;\"/><text fill=\"#000000\" font-family=\"sans-serif\" font-size=\"13\" lengthAdjust=\"spacingAndGlyphs\" textLength=\"7\" x=\"155\" y=\"579.0669\">y</text></a><!--MD5=[23ac544a70576c3e717098101004234c]\n",
       "reverse link E9 to E10--><a href=\"psysml:bbec5841-3ffd-488b-b643-01adfe752a25\" target=\"_top\" title=\"psysml:bbec5841-3ffd-488b-b643-01adfe752a25\" xlink:actuate=\"onRequest\" xlink:href=\"psysml:bbec5841-3ffd-488b-b643-01adfe752a25\" xlink:show=\"new\" xlink:title=\"psysml:bbec5841-3ffd-488b-b643-01adfe752a25\" xlink:type=\"simple\"><path d=\"M104.95,98.49 C95.61,114.92 84.7,134.11 76.81,148 \" fill=\"none\" id=\"E9&lt;-E10\" style=\"stroke: #A80036; stroke-width: 1.0;\"/><polygon fill=\"#FFFFFF\" points=\"111.41,87.13,104.9664,90.3672,105.4762,97.5603,111.9199,94.3231,111.41,87.13\" style=\"stroke: #A80036; stroke-width: 1.0;\"/><text fill=\"#000000\" font-family=\"sans-serif\" font-size=\"13\" lengthAdjust=\"spacingAndGlyphs\" textLength=\"8\" x=\"70.8104\" y=\"137.0083\">1</text></a><!--MD5=[feeac5eb423634930294aa81f2d25a4c]\n",
       "link E10 to E3--><a href=\"psysml:fb12afbf-9138-40ff-bf3b-75b81b096774\" target=\"_top\" title=\"psysml:fb12afbf-9138-40ff-bf3b-75b81b096774\" xlink:actuate=\"onRequest\" xlink:href=\"psysml:fb12afbf-9138-40ff-bf3b-75b81b096774\" xlink:show=\"new\" xlink:title=\"psysml:fb12afbf-9138-40ff-bf3b-75b81b096774\" xlink:type=\"simple\"><path d=\"M85.86,188.09 C99.68,201.37 118.47,219.43 134.69,235.02 \" fill=\"none\" id=\"E10-&gt;E3\" style=\"stroke: #A80036; stroke-width: 1.0;\"/><polygon fill=\"#FFFFFF\" points=\"149.2,248.97,130.6476,240.8578,140.3451,230.7604,149.2,248.97\" style=\"stroke: #A80036; stroke-width: 1.0;\"/><ellipse cx=\"127.9219\" cy=\"235.467\" fill=\"#A80036\" rx=\"2\" ry=\"2\" style=\"stroke: #A80036; stroke-width: 1.0;\"/><ellipse cx=\"134.8487\" cy=\"228.2546\" fill=\"#A80036\" rx=\"2\" ry=\"2\" style=\"stroke: #A80036; stroke-width: 1.0;\"/></a><!--MD5=[1fc04a95fd77ad5ce46c1a3027516051]\n",
       "reverse link E9 to E11--><a href=\"psysml:20edee2c-da5c-4ff9-9cec-febcc5f58071\" target=\"_top\" title=\"psysml:20edee2c-da5c-4ff9-9cec-febcc5f58071\" xlink:actuate=\"onRequest\" xlink:href=\"psysml:20edee2c-da5c-4ff9-9cec-febcc5f58071\" xlink:show=\"new\" xlink:title=\"psysml:20edee2c-da5c-4ff9-9cec-febcc5f58071\" xlink:type=\"simple\"><path d=\"M139.2,99.45 C146.35,115.67 154.61,134.38 160.62,148 \" fill=\"none\" id=\"E9&lt;-E11\" style=\"stroke: #A80036; stroke-width: 1.0;\"/><polygon fill=\"#FFFFFF\" points=\"133.76,87.13,132.5217,94.234,138.603,98.1093,139.8413,91.0053,133.76,87.13\" style=\"stroke: #A80036; stroke-width: 1.0;\"/><text fill=\"#000000\" font-family=\"sans-serif\" font-size=\"13\" lengthAdjust=\"spacingAndGlyphs\" textLength=\"8\" x=\"148.9834\" y=\"137.0083\">1</text></a><!--MD5=[0517f1ce58c4d5483948f93845c45e26]\n",
       "link E11 to E3--><a href=\"psysml:6098403c-f8e4-4c64-8bc6-7f6e4aceb826\" target=\"_top\" title=\"psysml:6098403c-f8e4-4c64-8bc6-7f6e4aceb826\" xlink:actuate=\"onRequest\" xlink:href=\"psysml:6098403c-f8e4-4c64-8bc6-7f6e4aceb826\" xlink:show=\"new\" xlink:title=\"psysml:6098403c-f8e4-4c64-8bc6-7f6e4aceb826\" xlink:type=\"simple\"><path d=\"M169,188.09 C169,199.59 169,214.68 169,228.63 \" fill=\"none\" id=\"E11-&gt;E3\" style=\"stroke: #A80036; stroke-width: 1.0;\"/><polygon fill=\"#FFFFFF\" points=\"169,248.97,162,229.97,176,229.97,169,248.97\" style=\"stroke: #A80036; stroke-width: 1.0;\"/><ellipse cx=\"164\" cy=\"224.27\" fill=\"#A80036\" rx=\"2\" ry=\"2\" style=\"stroke: #A80036; stroke-width: 1.0;\"/><ellipse cx=\"174\" cy=\"224.27\" fill=\"#A80036\" rx=\"2\" ry=\"2\" style=\"stroke: #A80036; stroke-width: 1.0;\"/></a><!--MD5=[328d7411c06237698f5426b5deb8376a]\n",
       "@startuml\r\n",
       " \r\n",
       "package \"ItemTest\" as E1  [[psysml:05177c11-5394-41b2-a0a0-71a4c06ed611 ]]  {\r\n",
       "comp usage \"f: A \" as E2 << << (P,limegreen) >> [[psysml:9b37ce48-aa06-4adb-ba3b-3b1410731947 ]] {\r\n",
       "}\r\n",
       "comp def \"A\" as E3 << << (B,green) >> [[psysml:373f36dd-9125-4f4d-9beb-8d6cd21e1469 ]] {\r\n",
       "}\r\n",
       "comp usage \"b: B \" as E4 << << (P,limegreen) >> [[psysml:130e11a2-3d5f-4cd9-b0cd-9225a7528360 ]] {\r\n",
       "}\r\n",
       "comp usage \"c: C \" as E5 << << (P,limegreen) part>> [[psysml:80ae9a50-ac1f-4423-b935-68d8f5716f01 ]] {\r\n",
       "}\r\n",
       "comp def \"<i>B</i>\" as E6 << << (B,green) >> [[psysml:7d838d86-0408-4401-9cbf-32b733f3993a ]] {\r\n",
       "}\r\n",
       "comp usage \"<i>a</i>: A \" as E7 << << (P,limegreen) part>> [[psysml:d06b8fcb-8cda-493c-875d-bdf01ed715df ]] {\r\n",
       "}\r\n",
       "comp def \"C\" as E8 << << (B,green) >> [[psysml:a2efb8df-7581-49ed-b24f-8030c12b0405 ]] {\r\n",
       "}\r\n",
       "comp def \"P\" as E9 << <<(D,brown) port  def>> [[psysml:91f3ce36-c57b-44eb-a625-32b1f3011842 ]] {\r\n",
       "}\r\n",
       "comp usage \"a1: A \" as E10 << << (P,limegreen) >> [[psysml:5a8db81a-c733-4c6f-be90-4f9ffe214caa ]] {\r\n",
       "}\r\n",
       "comp usage \"a2: A \" as E11 << << (P,limegreen) >> [[psysml:50797105-d3dc-4af6-be0e-986a23cb6cc7 ]] {\r\n",
       "}\r\n",
       "}\r\n",
       "E2 - -:|> E3 [[psysml:2d349f36-3ef3-481f-a80c-9f5be02d82e3 ]] \r\n",
       "E3 *- - \"1\"E4 [[psysml:1fc0b9c6-f917-494b-8539-e8a30a151a21 ]] \r\n",
       "E3 o- - \"1\"E5 [[psysml:1188b8bd-fcbe-4041-bfa3-3c6757b772de ]] \r\n",
       "E4 - -:|> E6 [[psysml:b444802f-fd06-4322-964d-2bd41504258e ]] \r\n",
       "E6 *- - \"1\"E7 [[psysml:fe8fc95e-22bb-46d1-b0fd-61d73c45474f ]] \r\n",
       "E7 - -:|> E3 [[psysml:599ea15b-bb0f-4f03-a502-f2e1a3a71e91 ]] \r\n",
       "E5 - -:|> E8 [[psysml:ebb03462-10dd-4a39-86ac-c1648f226bb6 ]] \r\n",
       "E8 o- - E3 [[psysml:4ca20137-091c-4af4-8b05-aa2379f8c92e ]] : y\r\n",
       "E8 o- - E6 [[psysml:4ca20137-091c-4af4-8b05-aa2379f8c92e ]] : y\r\n",
       "E9 o- - \"1\"E10 [[psysml:bbec5841-3ffd-488b-b643-01adfe752a25 ]] \r\n",
       "E10 - -:|> E3 [[psysml:fb12afbf-9138-40ff-bf3b-75b81b096774 ]] \r\n",
       "E9 o- - \"1\"E11 [[psysml:20edee2c-da5c-4ff9-9cec-febcc5f58071 ]] \r\n",
       "E11 - -:|> E3 [[psysml:6098403c-f8e4-4c64-8bc6-7f6e4aceb826 ]] \r\n",
       "@enduml\r\n",
       "\n",
       "PlantUML version 1.2020.13(Sat Jun 13 12:26:38 UTC 2020)\n",
       "(EPL source distribution)\n",
       "Java Runtime: OpenJDK Runtime Environment\n",
       "JVM: OpenJDK 64-Bit Server VM\n",
       "Default Encoding: UTF-8\n",
       "Language: en\n",
       "Country: null\n",
       "--></g></svg>"
      ]
     },
     "execution_count": 36,
     "metadata": {},
     "output_type": "execute_result"
    }
   ],
   "source": [
    "%viz --style=\"PLANTUML\" --view=\"MIXED\" \"ItemTest\""
   ]
  },
  {
   "cell_type": "code",
   "execution_count": 37,
   "id": "38385f41",
   "metadata": {
    "execution": {
     "iopub.execute_input": "2022-04-22T09:48:25.831600Z",
     "iopub.status.busy": "2022-04-22T09:48:25.831355Z",
     "iopub.status.idle": "2022-04-22T09:48:25.875061Z",
     "shell.execute_reply": "2022-04-22T09:48:25.874698Z"
    }
   },
   "outputs": [
    {
     "data": {
      "image/svg+xml": [
       "<?xml version=\"1.0\" encoding=\"UTF-8\" standalone=\"no\"?><svg xmlns=\"http://www.w3.org/2000/svg\" xmlns:xlink=\"http://www.w3.org/1999/xlink\" contentScriptType=\"application/ecmascript\" contentStyleType=\"text/css\" height=\"818px\" preserveAspectRatio=\"none\" style=\"width:270px;height:818px;\" version=\"1.1\" viewBox=\"0 0 270 818\" width=\"270px\" zoomAndPan=\"magnify\"><defs/><g><!--MD5=[fbc87193dbaf4d95561dea2c320d4a47]\n",
       "cluster E1--><a href=\"psysml:05177c11-5394-41b2-a0a0-71a4c06ed611\" target=\"_top\" title=\"psysml:05177c11-5394-41b2-a0a0-71a4c06ed611\" xlink:actuate=\"onRequest\" xlink:href=\"psysml:05177c11-5394-41b2-a0a0-71a4c06ed611\" xlink:show=\"new\" xlink:title=\"psysml:05177c11-5394-41b2-a0a0-71a4c06ed611\" xlink:type=\"simple\"><polygon fill=\"#FFFFFF\" points=\"16,6,83,6,90,28.2969,248,28.2969,248,806,16,806,16,6\" style=\"stroke: #000000; stroke-width: 1.5;\"/><line style=\"stroke: #000000; stroke-width: 1.5;\" x1=\"16\" x2=\"90\" y1=\"28.2969\" y2=\"28.2969\"/><text fill=\"#000000\" font-family=\"sans-serif\" font-size=\"14\" font-weight=\"bold\" lengthAdjust=\"spacingAndGlyphs\" textLength=\"61\" x=\"20\" y=\"20.9951\">ItemTest</text></a><!--MD5=[b4997ac47864f28c2f74865a473b2911]\n",
       "class E2--><a href=\"psysml:9b37ce48-aa06-4adb-ba3b-3b1410731947\" target=\"_top\" title=\"psysml:9b37ce48-aa06-4adb-ba3b-3b1410731947\" xlink:actuate=\"onRequest\" xlink:href=\"psysml:9b37ce48-aa06-4adb-ba3b-3b1410731947\" xlink:show=\"new\" xlink:title=\"psysml:9b37ce48-aa06-4adb-ba3b-3b1410731947\" xlink:type=\"simple\"><rect fill=\"#FFFFFF\" height=\"45.9375\" id=\"E2\" rx=\"10\" ry=\"10\" style=\"stroke: #383838; stroke-width: 1.5;\" width=\"43\" x=\"188.5\" y=\"148\"/><text fill=\"#000000\" font-family=\"sans-serif\" font-size=\"12\" font-style=\"italic\" lengthAdjust=\"spacingAndGlyphs\" textLength=\"41\" x=\"189.5\" y=\"164.1387\">«item»</text><text fill=\"#000000\" font-family=\"sans-serif\" font-size=\"12\" lengthAdjust=\"spacingAndGlyphs\" textLength=\"20\" x=\"198\" y=\"178.1074\">f: A</text><line style=\"stroke: #383838; stroke-width: 1.5;\" x1=\"189.5\" x2=\"230.5\" y1=\"185.9375\" y2=\"185.9375\"/></a><!--MD5=[09b614a08d8cba4a07c9adeb5e0fee81]\n",
       "class E3--><a href=\"psysml:373f36dd-9125-4f4d-9beb-8d6cd21e1469\" target=\"_top\" title=\"psysml:373f36dd-9125-4f4d-9beb-8d6cd21e1469\" xlink:actuate=\"onRequest\" xlink:href=\"psysml:373f36dd-9125-4f4d-9beb-8d6cd21e1469\" xlink:show=\"new\" xlink:title=\"psysml:373f36dd-9125-4f4d-9beb-8d6cd21e1469\" xlink:type=\"simple\"><rect fill=\"#FFFFFF\" height=\"45.9375\" id=\"E3\" style=\"stroke: #383838; stroke-width: 1.5;\" width=\"71\" x=\"96.5\" y=\"255\"/><text fill=\"#000000\" font-family=\"sans-serif\" font-size=\"12\" font-style=\"italic\" lengthAdjust=\"spacingAndGlyphs\" textLength=\"69\" x=\"97.5\" y=\"271.1387\">«item  def»</text><text fill=\"#000000\" font-family=\"sans-serif\" font-size=\"12\" lengthAdjust=\"spacingAndGlyphs\" textLength=\"8\" x=\"128\" y=\"285.1074\">A</text><line style=\"stroke: #383838; stroke-width: 1.5;\" x1=\"97.5\" x2=\"166.5\" y1=\"292.9375\" y2=\"292.9375\"/></a><!--MD5=[ebbe1d658d1005bcc118a6aa81145e00]\n",
       "class E4--><a href=\"psysml:130e11a2-3d5f-4cd9-b0cd-9225a7528360\" target=\"_top\" title=\"psysml:130e11a2-3d5f-4cd9-b0cd-9225a7528360\" xlink:actuate=\"onRequest\" xlink:href=\"psysml:130e11a2-3d5f-4cd9-b0cd-9225a7528360\" xlink:show=\"new\" xlink:title=\"psysml:130e11a2-3d5f-4cd9-b0cd-9225a7528360\" xlink:type=\"simple\"><rect fill=\"#FFFFFF\" height=\"45.9375\" id=\"E4\" rx=\"10\" ry=\"10\" style=\"stroke: #383838; stroke-width: 1.5;\" width=\"43\" x=\"45.5\" y=\"438\"/><text fill=\"#000000\" font-family=\"sans-serif\" font-size=\"12\" font-style=\"italic\" lengthAdjust=\"spacingAndGlyphs\" textLength=\"41\" x=\"46.5\" y=\"454.1387\">«item»</text><text fill=\"#000000\" font-family=\"sans-serif\" font-size=\"12\" lengthAdjust=\"spacingAndGlyphs\" textLength=\"24\" x=\"53\" y=\"468.1074\">b: B</text><line style=\"stroke: #383838; stroke-width: 1.5;\" x1=\"46.5\" x2=\"87.5\" y1=\"475.9375\" y2=\"475.9375\"/></a><!--MD5=[270fce915f116d4de14055a7c1d9a0f3]\n",
       "class E5--><a href=\"psysml:80ae9a50-ac1f-4423-b935-68d8f5716f01\" target=\"_top\" title=\"psysml:80ae9a50-ac1f-4423-b935-68d8f5716f01\" xlink:actuate=\"onRequest\" xlink:href=\"psysml:80ae9a50-ac1f-4423-b935-68d8f5716f01\" xlink:show=\"new\" xlink:title=\"psysml:80ae9a50-ac1f-4423-b935-68d8f5716f01\" xlink:type=\"simple\"><rect fill=\"#FFFFFF\" height=\"45.9375\" id=\"E5\" rx=\"10\" ry=\"10\" style=\"stroke: #383838; stroke-width: 1.5;\" width=\"42\" x=\"151\" y=\"362\"/><text fill=\"#000000\" font-family=\"sans-serif\" font-size=\"12\" font-style=\"italic\" lengthAdjust=\"spacingAndGlyphs\" textLength=\"40\" x=\"152\" y=\"378.1387\">«part»</text><text fill=\"#000000\" font-family=\"sans-serif\" font-size=\"12\" lengthAdjust=\"spacingAndGlyphs\" textLength=\"23\" x=\"158.5\" y=\"392.1074\">c: C</text><line style=\"stroke: #383838; stroke-width: 1.5;\" x1=\"152\" x2=\"192\" y1=\"399.9375\" y2=\"399.9375\"/></a><!--MD5=[60a26617385b1d2d0262a64233df1f8d]\n",
       "class E6--><a href=\"psysml:7d838d86-0408-4401-9cbf-32b733f3993a\" target=\"_top\" title=\"psysml:7d838d86-0408-4401-9cbf-32b733f3993a\" xlink:actuate=\"onRequest\" xlink:href=\"psysml:7d838d86-0408-4401-9cbf-32b733f3993a\" xlink:show=\"new\" xlink:title=\"psysml:7d838d86-0408-4401-9cbf-32b733f3993a\" xlink:type=\"simple\"><rect fill=\"#FFFFFF\" height=\"45.9375\" id=\"E6\" style=\"stroke: #383838; stroke-width: 1.5;\" width=\"71\" x=\"112.5\" y=\"637\"/><text fill=\"#000000\" font-family=\"sans-serif\" font-size=\"12\" font-style=\"italic\" lengthAdjust=\"spacingAndGlyphs\" textLength=\"69\" x=\"113.5\" y=\"653.1387\">«item  def»</text><text fill=\"#000000\" font-family=\"sans-serif\" font-size=\"12\" font-style=\"italic\" lengthAdjust=\"spacingAndGlyphs\" textLength=\"8\" x=\"144\" y=\"667.1074\">B</text><line style=\"stroke: #383838; stroke-width: 1.5;\" x1=\"113.5\" x2=\"182.5\" y1=\"674.9375\" y2=\"674.9375\"/></a><!--MD5=[2156ba9850f5573cc1fc38a6a4b2f02b]\n",
       "class E7--><a href=\"psysml:d06b8fcb-8cda-493c-875d-bdf01ed715df\" target=\"_top\" title=\"psysml:d06b8fcb-8cda-493c-875d-bdf01ed715df\" xlink:actuate=\"onRequest\" xlink:href=\"psysml:d06b8fcb-8cda-493c-875d-bdf01ed715df\" xlink:show=\"new\" xlink:title=\"psysml:d06b8fcb-8cda-493c-875d-bdf01ed715df\" xlink:type=\"simple\"><rect fill=\"#FFFFFF\" height=\"45.9375\" id=\"E7\" rx=\"10\" ry=\"10\" style=\"stroke: #383838; stroke-width: 1.5;\" width=\"42\" x=\"159\" y=\"744\"/><text fill=\"#000000\" font-family=\"sans-serif\" font-size=\"12\" font-style=\"italic\" lengthAdjust=\"spacingAndGlyphs\" textLength=\"40\" x=\"160\" y=\"760.1387\">«part»</text><text fill=\"#000000\" font-family=\"sans-serif\" font-size=\"12\" font-style=\"italic\" lengthAdjust=\"spacingAndGlyphs\" textLength=\"8\" x=\"166\" y=\"774.1074\">a</text><text fill=\"#000000\" font-family=\"sans-serif\" font-size=\"12\" lengthAdjust=\"spacingAndGlyphs\" textLength=\"16\" x=\"174\" y=\"774.1074\">: A</text><line style=\"stroke: #383838; stroke-width: 1.5;\" x1=\"160\" x2=\"200\" y1=\"781.9375\" y2=\"781.9375\"/></a><!--MD5=[b9389687b975829384b498ac4b7476b2]\n",
       "class E8--><a href=\"psysml:a2efb8df-7581-49ed-b24f-8030c12b0405\" target=\"_top\" title=\"psysml:a2efb8df-7581-49ed-b24f-8030c12b0405\" xlink:actuate=\"onRequest\" xlink:href=\"psysml:a2efb8df-7581-49ed-b24f-8030c12b0405\" xlink:show=\"new\" xlink:title=\"psysml:a2efb8df-7581-49ed-b24f-8030c12b0405\" xlink:type=\"simple\"><rect fill=\"#FFFFFF\" height=\"45.9375\" id=\"E8\" style=\"stroke: #383838; stroke-width: 1.5;\" width=\"70\" x=\"113\" y=\"514\"/><text fill=\"#000000\" font-family=\"sans-serif\" font-size=\"12\" font-style=\"italic\" lengthAdjust=\"spacingAndGlyphs\" textLength=\"68\" x=\"114\" y=\"530.1387\">«part  def»</text><text fill=\"#000000\" font-family=\"sans-serif\" font-size=\"12\" lengthAdjust=\"spacingAndGlyphs\" textLength=\"8\" x=\"144\" y=\"544.1074\">C</text><line style=\"stroke: #383838; stroke-width: 1.5;\" x1=\"114\" x2=\"182\" y1=\"551.9375\" y2=\"551.9375\"/></a><!--MD5=[fd4143e9d270a159db93a4ea2a975926]\n",
       "class E9--><a href=\"psysml:91f3ce36-c57b-44eb-a625-32b1f3011842\" target=\"_top\" title=\"psysml:91f3ce36-c57b-44eb-a625-32b1f3011842\" xlink:actuate=\"onRequest\" xlink:href=\"psysml:91f3ce36-c57b-44eb-a625-32b1f3011842\" xlink:show=\"new\" xlink:title=\"psysml:91f3ce36-c57b-44eb-a625-32b1f3011842\" xlink:type=\"simple\"><rect fill=\"#FFFFFF\" height=\"45.9375\" id=\"E9\" style=\"stroke: #383838; stroke-width: 1.5;\" width=\"70\" x=\"64\" y=\"41\"/><text fill=\"#000000\" font-family=\"sans-serif\" font-size=\"12\" font-style=\"italic\" lengthAdjust=\"spacingAndGlyphs\" textLength=\"68\" x=\"65\" y=\"57.1387\">«port  def»</text><text fill=\"#000000\" font-family=\"sans-serif\" font-size=\"12\" lengthAdjust=\"spacingAndGlyphs\" textLength=\"8\" x=\"95\" y=\"71.1074\">P</text><line style=\"stroke: #383838; stroke-width: 1.5;\" x1=\"65\" x2=\"133\" y1=\"78.9375\" y2=\"78.9375\"/></a><!--MD5=[96f4274e9e20536e775497830990834d]\n",
       "class E10--><a href=\"psysml:5a8db81a-c733-4c6f-be90-4f9ffe214caa\" target=\"_top\" title=\"psysml:5a8db81a-c733-4c6f-be90-4f9ffe214caa\" xlink:actuate=\"onRequest\" xlink:href=\"psysml:5a8db81a-c733-4c6f-be90-4f9ffe214caa\" xlink:show=\"new\" xlink:title=\"psysml:5a8db81a-c733-4c6f-be90-4f9ffe214caa\" xlink:type=\"simple\"><rect fill=\"#FFFFFF\" height=\"45.9375\" id=\"E10\" rx=\"10\" ry=\"10\" style=\"stroke: #383838; stroke-width: 1.5;\" width=\"43\" x=\"32.5\" y=\"148\"/><text fill=\"#000000\" font-family=\"sans-serif\" font-size=\"12\" font-style=\"italic\" lengthAdjust=\"spacingAndGlyphs\" textLength=\"41\" x=\"33.5\" y=\"164.1387\">«item»</text><text fill=\"#000000\" font-family=\"sans-serif\" font-size=\"12\" lengthAdjust=\"spacingAndGlyphs\" textLength=\"32\" x=\"36\" y=\"178.1074\">a1: A</text><line style=\"stroke: #383838; stroke-width: 1.5;\" x1=\"33.5\" x2=\"74.5\" y1=\"185.9375\" y2=\"185.9375\"/></a><!--MD5=[1dd1bfd58a279cf63c5f349dbc8fc6a1]\n",
       "class E11--><a href=\"psysml:50797105-d3dc-4af6-be0e-986a23cb6cc7\" target=\"_top\" title=\"psysml:50797105-d3dc-4af6-be0e-986a23cb6cc7\" xlink:actuate=\"onRequest\" xlink:href=\"psysml:50797105-d3dc-4af6-be0e-986a23cb6cc7\" xlink:show=\"new\" xlink:title=\"psysml:50797105-d3dc-4af6-be0e-986a23cb6cc7\" xlink:type=\"simple\"><rect fill=\"#FFFFFF\" height=\"45.9375\" id=\"E11\" rx=\"10\" ry=\"10\" style=\"stroke: #383838; stroke-width: 1.5;\" width=\"43\" x=\"110.5\" y=\"148\"/><text fill=\"#000000\" font-family=\"sans-serif\" font-size=\"12\" font-style=\"italic\" lengthAdjust=\"spacingAndGlyphs\" textLength=\"41\" x=\"111.5\" y=\"164.1387\">«item»</text><text fill=\"#000000\" font-family=\"sans-serif\" font-size=\"12\" lengthAdjust=\"spacingAndGlyphs\" textLength=\"32\" x=\"114\" y=\"178.1074\">a2: A</text><line style=\"stroke: #383838; stroke-width: 1.5;\" x1=\"111.5\" x2=\"152.5\" y1=\"185.9375\" y2=\"185.9375\"/></a><!--MD5=[2720a5a1f2c3fca2055b230370638851]\n",
       "link E2 to E3--><a href=\"psysml:2d349f36-3ef3-481f-a80c-9f5be02d82e3\" target=\"_top\" title=\"psysml:2d349f36-3ef3-481f-a80c-9f5be02d82e3\" xlink:actuate=\"onRequest\" xlink:href=\"psysml:2d349f36-3ef3-481f-a80c-9f5be02d82e3\" xlink:show=\"new\" xlink:title=\"psysml:2d349f36-3ef3-481f-a80c-9f5be02d82e3\" xlink:type=\"simple\"><path d=\"M193.65,194.01 C184.14,206.81 171.89,223.3 160.82,238.2 \" fill=\"none\" id=\"E2-&gt;E3\" style=\"stroke: #383838; stroke-width: 1.0;\"/><polygon fill=\"#FFFFFF\" points=\"148.6,254.66,154.3195,235.2361,165.5543,243.5896,148.6,254.66\" style=\"stroke: #383838; stroke-width: 1.0;\"/><ellipse cx=\"159.3256\" cy=\"231.8554\" fill=\"#383838\" rx=\"2\" ry=\"2\" style=\"stroke: #383838; stroke-width: 1.0;\"/><ellipse cx=\"167.3504\" cy=\"237.8221\" fill=\"#383838\" rx=\"2\" ry=\"2\" style=\"stroke: #383838; stroke-width: 1.0;\"/></a><!--MD5=[4672eba38e49728da53d11aeb285b987]\n",
       "reverse link E3 to E4--><a href=\"psysml:1fc0b9c6-f917-494b-8539-e8a30a151a21\" target=\"_top\" title=\"psysml:1fc0b9c6-f917-494b-8539-e8a30a151a21\" xlink:actuate=\"onRequest\" xlink:href=\"psysml:1fc0b9c6-f917-494b-8539-e8a30a151a21\" xlink:show=\"new\" xlink:title=\"psysml:1fc0b9c6-f917-494b-8539-e8a30a151a21\" xlink:type=\"simple\"><path d=\"M97.11,310.9 C84.08,325.11 70.81,342.94 64,362 C55.12,386.85 58.09,417.53 61.82,437.88 \" fill=\"none\" id=\"E3&lt;-E4\" style=\"stroke: #383838; stroke-width: 1.0;\"/><polygon fill=\"#383838\" points=\"106.46,301.23,99.4153,302.7703,98.1277,309.8655,105.1724,308.3252,106.46,301.23\" style=\"stroke: #383838; stroke-width: 1.0;\"/><text fill=\"#000000\" font-family=\"sans-serif\" font-size=\"13\" lengthAdjust=\"spacingAndGlyphs\" textLength=\"8\" x=\"51.3529\" y=\"426.744\">1</text></a><!--MD5=[191cde3d490a3f6d7bb551fe3ddca469]\n",
       "reverse link E3 to E5--><a href=\"psysml:1188b8bd-fcbe-4041-bfa3-3c6757b772de\" target=\"_top\" title=\"psysml:1188b8bd-fcbe-4041-bfa3-3c6757b772de\" xlink:actuate=\"onRequest\" xlink:href=\"psysml:1188b8bd-fcbe-4041-bfa3-3c6757b772de\" xlink:show=\"new\" xlink:title=\"psysml:1188b8bd-fcbe-4041-bfa3-3c6757b772de\" xlink:type=\"simple\"><path d=\"M145.17,313.57 C151.2,329.39 158.16,347.68 163.49,361.66 \" fill=\"none\" id=\"E3&lt;-E5\" style=\"stroke: #383838; stroke-width: 1.0;\"/><polygon fill=\"#FFFFFF\" points=\"140.39,301.01,138.7866,308.0406,144.6598,312.2247,146.2631,305.1941,140.39,301.01\" style=\"stroke: #383838; stroke-width: 1.0;\"/><text fill=\"#000000\" font-family=\"sans-serif\" font-size=\"13\" lengthAdjust=\"spacingAndGlyphs\" textLength=\"8\" x=\"152.2843\" y=\"350.8492\">1</text></a><!--MD5=[79568f1e445c3877b6a54524624ccc7d]\n",
       "link E4 to E6--><a href=\"psysml:b444802f-fd06-4322-964d-2bd41504258e\" target=\"_top\" title=\"psysml:b444802f-fd06-4322-964d-2bd41504258e\" xlink:actuate=\"onRequest\" xlink:href=\"psysml:b444802f-fd06-4322-964d-2bd41504258e\" xlink:show=\"new\" xlink:title=\"psysml:b444802f-fd06-4322-964d-2bd41504258e\" xlink:type=\"simple\"><path d=\"M72.25,484.22 C77.31,504.36 85.72,534.68 96,560 C104.15,580.08 115.08,601.47 124.82,619.21 \" fill=\"none\" id=\"E4-&gt;E6\" style=\"stroke: #383838; stroke-width: 1.0;\"/><polygon fill=\"#FFFFFF\" points=\"134.72,636.8,119.2979,623.6791,131.4967,616.8097,134.72,636.8\" style=\"stroke: #383838; stroke-width: 1.0;\"/><ellipse cx=\"118.2438\" cy=\"617.7311\" fill=\"#383838\" rx=\"2\" ry=\"2\" style=\"stroke: #383838; stroke-width: 1.0;\"/><ellipse cx=\"126.9572\" cy=\"612.8244\" fill=\"#383838\" rx=\"2\" ry=\"2\" style=\"stroke: #383838; stroke-width: 1.0;\"/></a><!--MD5=[3f50a3473f1dfb74d3f76443e03635af]\n",
       "reverse link E6 to E7--><a href=\"psysml:fe8fc95e-22bb-46d1-b0fd-61d73c45474f\" target=\"_top\" title=\"psysml:fe8fc95e-22bb-46d1-b0fd-61d73c45474f\" xlink:actuate=\"onRequest\" xlink:href=\"psysml:fe8fc95e-22bb-46d1-b0fd-61d73c45474f\" xlink:show=\"new\" xlink:title=\"psysml:fe8fc95e-22bb-46d1-b0fd-61d73c45474f\" xlink:type=\"simple\"><path d=\"M158.54,695.57 C163.36,711.39 168.93,729.68 173.19,743.66 \" fill=\"none\" id=\"E6&lt;-E7\" style=\"stroke: #383838; stroke-width: 1.0;\"/><polygon fill=\"#383838\" points=\"154.71,683.01,152.6319,689.9152,158.2066,694.4893,160.2847,687.5841,154.71,683.01\" style=\"stroke: #383838; stroke-width: 1.0;\"/><text fill=\"#000000\" font-family=\"sans-serif\" font-size=\"13\" lengthAdjust=\"spacingAndGlyphs\" textLength=\"8\" x=\"162.4199\" y=\"732.8492\">1</text></a><!--MD5=[14ccda38c055a5c0da953d572bc50960]\n",
       "link E7 to E3--><a href=\"psysml:599ea15b-bb0f-4f03-a502-f2e1a3a71e91\" target=\"_top\" title=\"psysml:599ea15b-bb0f-4f03-a502-f2e1a3a71e91\" xlink:actuate=\"onRequest\" xlink:href=\"psysml:599ea15b-bb0f-4f03-a502-f2e1a3a71e91\" xlink:show=\"new\" xlink:title=\"psysml:599ea15b-bb0f-4f03-a502-f2e1a3a71e91\" xlink:type=\"simple\"><path d=\"M197.41,743.63 C211.5,723.27 229,691.78 229,661 C229,384 229,384 229,384 C229,353.7 206.93,328.42 183.85,310.26 \" fill=\"none\" id=\"E7-&gt;E3\" style=\"stroke: #383838; stroke-width: 1.0;\"/><polygon fill=\"#FFFFFF\" points=\"167.57,298.59,187.0929,303.9617,178.9414,315.3438,167.57,298.59\" style=\"stroke: #383838; stroke-width: 1.0;\"/><ellipse cx=\"190.5626\" cy=\"308.9066\" fill=\"#383838\" rx=\"2\" ry=\"2\" style=\"stroke: #383838; stroke-width: 1.0;\"/><ellipse cx=\"184.7401\" cy=\"317.0367\" fill=\"#383838\" rx=\"2\" ry=\"2\" style=\"stroke: #383838; stroke-width: 1.0;\"/></a><!--MD5=[dfaffb906826c3e5aca635516100ff21]\n",
       "link E5 to E8--><a href=\"psysml:ebb03462-10dd-4a39-86ac-c1648f226bb6\" target=\"_top\" title=\"psysml:ebb03462-10dd-4a39-86ac-c1648f226bb6\" xlink:actuate=\"onRequest\" xlink:href=\"psysml:ebb03462-10dd-4a39-86ac-c1648f226bb6\" xlink:show=\"new\" xlink:title=\"psysml:ebb03462-10dd-4a39-86ac-c1648f226bb6\" xlink:type=\"simple\"><path d=\"M168.46,408.13 C164.86,430.62 159.2,466.01 154.74,493.87 \" fill=\"none\" id=\"E5-&gt;E8\" style=\"stroke: #383838; stroke-width: 1.0;\"/><polygon fill=\"#FFFFFF\" points=\"151.56,513.78,147.6458,493.9135,161.4704,496.1226,151.56,513.78\" style=\"stroke: #383838; stroke-width: 1.0;\"/><ellipse cx=\"150.5202\" cy=\"488.6005\" fill=\"#383838\" rx=\"2\" ry=\"2\" style=\"stroke: #383838; stroke-width: 1.0;\"/><ellipse cx=\"160.3949\" cy=\"490.1784\" fill=\"#383838\" rx=\"2\" ry=\"2\" style=\"stroke: #383838; stroke-width: 1.0;\"/></a><!--MD5=[03c8294790d3c57651a1993cecff665f]\n",
       "reverse link E8 to E3--><a href=\"psysml:4ca20137-091c-4af4-8b05-aa2379f8c92e\" target=\"_top\" title=\"psysml:4ca20137-091c-4af4-8b05-aa2379f8c92e\" xlink:actuate=\"onRequest\" xlink:href=\"psysml:4ca20137-091c-4af4-8b05-aa2379f8c92e\" xlink:show=\"new\" xlink:title=\"psysml:4ca20137-091c-4af4-8b05-aa2379f8c92e\" xlink:type=\"simple\"><path d=\"M140.02,501.22 C134.57,475.6 127.84,439.84 125,408 C123.18,387.64 124.14,382.43 125,362 C125.87,341.34 127.95,317.86 129.62,301.16 \" fill=\"none\" id=\"E8&lt;-E3\" style=\"stroke: #383838; stroke-width: 1.0;\"/><polygon fill=\"#FFFFFF\" points=\"142.81,513.96,145.4388,507.2451,140.2515,502.2359,137.6227,508.9508,142.81,513.96\" style=\"stroke: #383838; stroke-width: 1.0;\"/><text fill=\"#000000\" font-family=\"sans-serif\" font-size=\"13\" lengthAdjust=\"spacingAndGlyphs\" textLength=\"7\" x=\"126\" y=\"389.5669\">y</text></a><!--MD5=[0d75d2178373a6a4568e5dc728f58aef]\n",
       "reverse link E8 to E6--><a href=\"psysml:4ca20137-091c-4af4-8b05-aa2379f8c92e\" target=\"_top\" title=\"psysml:4ca20137-091c-4af4-8b05-aa2379f8c92e\" xlink:actuate=\"onRequest\" xlink:href=\"psysml:4ca20137-091c-4af4-8b05-aa2379f8c92e\" xlink:show=\"new\" xlink:title=\"psysml:4ca20137-091c-4af4-8b05-aa2379f8c92e\" xlink:type=\"simple\"><path d=\"M148,573.22 C148,593.81 148,619.16 148,636.95 \" fill=\"none\" id=\"E8&lt;-E6\" style=\"stroke: #383838; stroke-width: 1.0;\"/><polygon fill=\"#FFFFFF\" points=\"148,560.19,144,566.19,148,572.19,152,566.19,148,560.19\" style=\"stroke: #383838; stroke-width: 1.0;\"/><text fill=\"#000000\" font-family=\"sans-serif\" font-size=\"13\" lengthAdjust=\"spacingAndGlyphs\" textLength=\"7\" x=\"149\" y=\"603.0669\">y</text></a><!--MD5=[23ac544a70576c3e717098101004234c]\n",
       "reverse link E9 to E10--><a href=\"psysml:bbec5841-3ffd-488b-b643-01adfe752a25\" target=\"_top\" title=\"psysml:bbec5841-3ffd-488b-b643-01adfe752a25\" xlink:actuate=\"onRequest\" xlink:href=\"psysml:bbec5841-3ffd-488b-b643-01adfe752a25\" xlink:show=\"new\" xlink:title=\"psysml:bbec5841-3ffd-488b-b643-01adfe752a25\" xlink:type=\"simple\"><path d=\"M84.39,99.1 C77.56,115.03 69.63,133.54 63.58,147.66 \" fill=\"none\" id=\"E9&lt;-E10\" style=\"stroke: #383838; stroke-width: 1.0;\"/><polygon fill=\"#FFFFFF\" points=\"89.57,87.01,83.5327,90.9535,84.8509,98.0431,90.8882,94.0996,89.57,87.01\" style=\"stroke: #383838; stroke-width: 1.0;\"/><text fill=\"#000000\" font-family=\"sans-serif\" font-size=\"13\" lengthAdjust=\"spacingAndGlyphs\" textLength=\"8\" x=\"57.0099\" y=\"136.8492\">1</text></a><!--MD5=[feeac5eb423634930294aa81f2d25a4c]\n",
       "link E10 to E3--><a href=\"psysml:fb12afbf-9138-40ff-bf3b-75b81b096774\" target=\"_top\" title=\"psysml:fb12afbf-9138-40ff-bf3b-75b81b096774\" xlink:actuate=\"onRequest\" xlink:href=\"psysml:fb12afbf-9138-40ff-bf3b-75b81b096774\" xlink:show=\"new\" xlink:title=\"psysml:fb12afbf-9138-40ff-bf3b-75b81b096774\" xlink:type=\"simple\"><path d=\"M70.35,194.01 C79.86,206.81 92.11,223.3 103.18,238.2 \" fill=\"none\" id=\"E10-&gt;E3\" style=\"stroke: #383838; stroke-width: 1.0;\"/><polygon fill=\"#FFFFFF\" points=\"115.4,254.66,98.4457,243.5896,109.6805,235.2361,115.4,254.66\" style=\"stroke: #383838; stroke-width: 1.0;\"/><ellipse cx=\"96.6496\" cy=\"237.8221\" fill=\"#383838\" rx=\"2\" ry=\"2\" style=\"stroke: #383838; stroke-width: 1.0;\"/><ellipse cx=\"104.6744\" cy=\"231.8554\" fill=\"#383838\" rx=\"2\" ry=\"2\" style=\"stroke: #383838; stroke-width: 1.0;\"/></a><!--MD5=[1fc04a95fd77ad5ce46c1a3027516051]\n",
       "reverse link E9 to E11--><a href=\"psysml:20edee2c-da5c-4ff9-9cec-febcc5f58071\" target=\"_top\" title=\"psysml:20edee2c-da5c-4ff9-9cec-febcc5f58071\" xlink:actuate=\"onRequest\" xlink:href=\"psysml:20edee2c-da5c-4ff9-9cec-febcc5f58071\" xlink:show=\"new\" xlink:title=\"psysml:20edee2c-da5c-4ff9-9cec-febcc5f58071\" xlink:type=\"simple\"><path d=\"M109.87,99.57 C114.84,115.39 120.59,133.68 124.98,147.66 \" fill=\"none\" id=\"E9&lt;-E11\" style=\"stroke: #383838; stroke-width: 1.0;\"/><polygon fill=\"#FFFFFF\" points=\"105.92,87.01,103.9044,93.9337,109.5203,98.4572,111.5359,91.5335,105.92,87.01\" style=\"stroke: #383838; stroke-width: 1.0;\"/><text fill=\"#000000\" font-family=\"sans-serif\" font-size=\"13\" lengthAdjust=\"spacingAndGlyphs\" textLength=\"8\" x=\"114.1561\" y=\"136.8492\">1</text></a><!--MD5=[0517f1ce58c4d5483948f93845c45e26]\n",
       "link E11 to E3--><a href=\"psysml:6098403c-f8e4-4c64-8bc6-7f6e4aceb826\" target=\"_top\" title=\"psysml:6098403c-f8e4-4c64-8bc6-7f6e4aceb826\" xlink:actuate=\"onRequest\" xlink:href=\"psysml:6098403c-f8e4-4c64-8bc6-7f6e4aceb826\" xlink:show=\"new\" xlink:title=\"psysml:6098403c-f8e4-4c64-8bc6-7f6e4aceb826\" xlink:type=\"simple\"><path d=\"M132,194.01 C132,205.69 132,220.46 132,234.28 \" fill=\"none\" id=\"E11-&gt;E3\" style=\"stroke: #383838; stroke-width: 1.0;\"/><polygon fill=\"#FFFFFF\" points=\"132,254.66,125,235.66,139,235.66,132,254.66\" style=\"stroke: #383838; stroke-width: 1.0;\"/><ellipse cx=\"127\" cy=\"229.96\" fill=\"#383838\" rx=\"2\" ry=\"2\" style=\"stroke: #383838; stroke-width: 1.0;\"/><ellipse cx=\"137\" cy=\"229.96\" fill=\"#383838\" rx=\"2\" ry=\"2\" style=\"stroke: #383838; stroke-width: 1.0;\"/></a><!--MD5=[eb81481829f36f073cec8cfb2914d9e8]\n",
       "@startuml\r\n",
       "skinparam monochrome true\r\n",
       "skinparam classbackgroundcolor white\r\n",
       "skinparam shadowing false\r\n",
       "skinparam wrapWidth 300\r\n",
       "hide circle\r\n",
       "\r\n",
       "package \"ItemTest\" as E1  [[psysml:05177c11-5394-41b2-a0a0-71a4c06ed611 ]]  {\r\n",
       "comp usage \"f: A \" as E2  <<(T,blue) item>> [[psysml:9b37ce48-aa06-4adb-ba3b-3b1410731947 ]] {\r\n",
       "}\r\n",
       "comp def \"A\" as E3  <<(T,blue) item  def>> [[psysml:373f36dd-9125-4f4d-9beb-8d6cd21e1469 ]] {\r\n",
       "}\r\n",
       "comp usage \"b: B \" as E4  <<(T,blue) item>> [[psysml:130e11a2-3d5f-4cd9-b0cd-9225a7528360 ]] {\r\n",
       "}\r\n",
       "comp usage \"c: C \" as E5  <<(T,blue) part>> [[psysml:80ae9a50-ac1f-4423-b935-68d8f5716f01 ]] {\r\n",
       "}\r\n",
       "comp def \"<i>B</i>\" as E6  <<(T,blue) item  def>> [[psysml:7d838d86-0408-4401-9cbf-32b733f3993a ]] {\r\n",
       "}\r\n",
       "comp usage \"<i>a</i>: A \" as E7  <<(T,blue) part>> [[psysml:d06b8fcb-8cda-493c-875d-bdf01ed715df ]] {\r\n",
       "}\r\n",
       "comp def \"C\" as E8  <<(T,blue) part  def>> [[psysml:a2efb8df-7581-49ed-b24f-8030c12b0405 ]] {\r\n",
       "}\r\n",
       "comp def \"P\" as E9  <<(T,blue) port  def>> [[psysml:91f3ce36-c57b-44eb-a625-32b1f3011842 ]] {\r\n",
       "}\r\n",
       "comp usage \"a1: A \" as E10  <<(T,blue) item>> [[psysml:5a8db81a-c733-4c6f-be90-4f9ffe214caa ]] {\r\n",
       "}\r\n",
       "comp usage \"a2: A \" as E11  <<(T,blue) item>> [[psysml:50797105-d3dc-4af6-be0e-986a23cb6cc7 ]] {\r\n",
       "}\r\n",
       "}\r\n",
       "E2 - -:|> E3 [[psysml:2d349f36-3ef3-481f-a80c-9f5be02d82e3 ]] \r\n",
       "E3 *- - \"1\"E4 [[psysml:1fc0b9c6-f917-494b-8539-e8a30a151a21 ]] \r\n",
       "E3 o- - \"1\"E5 [[psysml:1188b8bd-fcbe-4041-bfa3-3c6757b772de ]] \r\n",
       "E4 - -:|> E6 [[psysml:b444802f-fd06-4322-964d-2bd41504258e ]] \r\n",
       "E6 *- - \"1\"E7 [[psysml:fe8fc95e-22bb-46d1-b0fd-61d73c45474f ]] \r\n",
       "E7 - -:|> E3 [[psysml:599ea15b-bb0f-4f03-a502-f2e1a3a71e91 ]] \r\n",
       "E5 - -:|> E8 [[psysml:ebb03462-10dd-4a39-86ac-c1648f226bb6 ]] \r\n",
       "E8 o- - E3 [[psysml:4ca20137-091c-4af4-8b05-aa2379f8c92e ]] : y\r\n",
       "E8 o- - E6 [[psysml:4ca20137-091c-4af4-8b05-aa2379f8c92e ]] : y\r\n",
       "E9 o- - \"1\"E10 [[psysml:bbec5841-3ffd-488b-b643-01adfe752a25 ]] \r\n",
       "E10 - -:|> E3 [[psysml:fb12afbf-9138-40ff-bf3b-75b81b096774 ]] \r\n",
       "E9 o- - \"1\"E11 [[psysml:20edee2c-da5c-4ff9-9cec-febcc5f58071 ]] \r\n",
       "E11 - -:|> E3 [[psysml:6098403c-f8e4-4c64-8bc6-7f6e4aceb826 ]] \r\n",
       "@enduml\r\n",
       "\n",
       "PlantUML version 1.2020.13(Sat Jun 13 12:26:38 UTC 2020)\n",
       "(EPL source distribution)\n",
       "Java Runtime: OpenJDK Runtime Environment\n",
       "JVM: OpenJDK 64-Bit Server VM\n",
       "Default Encoding: UTF-8\n",
       "Language: en\n",
       "Country: null\n",
       "--></g></svg>"
      ]
     },
     "execution_count": 37,
     "metadata": {},
     "output_type": "execute_result"
    }
   ],
   "source": [
    "%viz --style=\"DEFAULT\" --view=\"Default\" \"ItemTest\""
   ]
  },
  {
   "cell_type": "code",
   "execution_count": 38,
   "id": "c7b6fd92",
   "metadata": {
    "execution": {
     "iopub.execute_input": "2022-04-22T09:48:25.924177Z",
     "iopub.status.busy": "2022-04-22T09:48:25.923767Z",
     "iopub.status.idle": "2022-04-22T09:48:25.966355Z",
     "shell.execute_reply": "2022-04-22T09:48:25.966071Z"
    }
   },
   "outputs": [
    {
     "data": {
      "image/svg+xml": [
       "<?xml version=\"1.0\" encoding=\"UTF-8\" standalone=\"no\"?><svg xmlns=\"http://www.w3.org/2000/svg\" xmlns:xlink=\"http://www.w3.org/1999/xlink\" contentScriptType=\"application/ecmascript\" contentStyleType=\"text/css\" height=\"818px\" preserveAspectRatio=\"none\" style=\"width:270px;height:818px;\" version=\"1.1\" viewBox=\"0 0 270 818\" width=\"270px\" zoomAndPan=\"magnify\"><defs/><g><!--MD5=[fbc87193dbaf4d95561dea2c320d4a47]\n",
       "cluster E1--><a href=\"psysml:05177c11-5394-41b2-a0a0-71a4c06ed611\" target=\"_top\" title=\"psysml:05177c11-5394-41b2-a0a0-71a4c06ed611\" xlink:actuate=\"onRequest\" xlink:href=\"psysml:05177c11-5394-41b2-a0a0-71a4c06ed611\" xlink:show=\"new\" xlink:title=\"psysml:05177c11-5394-41b2-a0a0-71a4c06ed611\" xlink:type=\"simple\"><polygon fill=\"#FFFFFF\" points=\"16,6,83,6,90,28.2969,248,28.2969,248,806,16,806,16,6\" style=\"stroke: #000000; stroke-width: 1.5;\"/><line style=\"stroke: #000000; stroke-width: 1.5;\" x1=\"16\" x2=\"90\" y1=\"28.2969\" y2=\"28.2969\"/><text fill=\"#000000\" font-family=\"sans-serif\" font-size=\"14\" font-weight=\"bold\" lengthAdjust=\"spacingAndGlyphs\" textLength=\"61\" x=\"20\" y=\"20.9951\">ItemTest</text></a><!--MD5=[b4997ac47864f28c2f74865a473b2911]\n",
       "class E2--><a href=\"psysml:9b37ce48-aa06-4adb-ba3b-3b1410731947\" target=\"_top\" title=\"psysml:9b37ce48-aa06-4adb-ba3b-3b1410731947\" xlink:actuate=\"onRequest\" xlink:href=\"psysml:9b37ce48-aa06-4adb-ba3b-3b1410731947\" xlink:show=\"new\" xlink:title=\"psysml:9b37ce48-aa06-4adb-ba3b-3b1410731947\" xlink:type=\"simple\"><rect fill=\"#FFFFFF\" height=\"45.9375\" id=\"E2\" rx=\"10\" ry=\"10\" style=\"stroke: #383838; stroke-width: 1.5;\" width=\"43\" x=\"188.5\" y=\"148\"/><text fill=\"#000000\" font-family=\"sans-serif\" font-size=\"12\" font-style=\"italic\" lengthAdjust=\"spacingAndGlyphs\" textLength=\"41\" x=\"189.5\" y=\"164.1387\">«item»</text><text fill=\"#000000\" font-family=\"sans-serif\" font-size=\"12\" lengthAdjust=\"spacingAndGlyphs\" textLength=\"20\" x=\"198\" y=\"178.1074\">f: A</text><line style=\"stroke: #383838; stroke-width: 1.5;\" x1=\"189.5\" x2=\"230.5\" y1=\"185.9375\" y2=\"185.9375\"/></a><!--MD5=[09b614a08d8cba4a07c9adeb5e0fee81]\n",
       "class E3--><a href=\"psysml:373f36dd-9125-4f4d-9beb-8d6cd21e1469\" target=\"_top\" title=\"psysml:373f36dd-9125-4f4d-9beb-8d6cd21e1469\" xlink:actuate=\"onRequest\" xlink:href=\"psysml:373f36dd-9125-4f4d-9beb-8d6cd21e1469\" xlink:show=\"new\" xlink:title=\"psysml:373f36dd-9125-4f4d-9beb-8d6cd21e1469\" xlink:type=\"simple\"><rect fill=\"#FFFFFF\" height=\"45.9375\" id=\"E3\" style=\"stroke: #383838; stroke-width: 1.5;\" width=\"71\" x=\"96.5\" y=\"255\"/><text fill=\"#000000\" font-family=\"sans-serif\" font-size=\"12\" font-style=\"italic\" lengthAdjust=\"spacingAndGlyphs\" textLength=\"69\" x=\"97.5\" y=\"271.1387\">«item  def»</text><text fill=\"#000000\" font-family=\"sans-serif\" font-size=\"12\" lengthAdjust=\"spacingAndGlyphs\" textLength=\"8\" x=\"128\" y=\"285.1074\">A</text><line style=\"stroke: #383838; stroke-width: 1.5;\" x1=\"97.5\" x2=\"166.5\" y1=\"292.9375\" y2=\"292.9375\"/></a><!--MD5=[ebbe1d658d1005bcc118a6aa81145e00]\n",
       "class E4--><a href=\"psysml:130e11a2-3d5f-4cd9-b0cd-9225a7528360\" target=\"_top\" title=\"psysml:130e11a2-3d5f-4cd9-b0cd-9225a7528360\" xlink:actuate=\"onRequest\" xlink:href=\"psysml:130e11a2-3d5f-4cd9-b0cd-9225a7528360\" xlink:show=\"new\" xlink:title=\"psysml:130e11a2-3d5f-4cd9-b0cd-9225a7528360\" xlink:type=\"simple\"><rect fill=\"#FFFFFF\" height=\"45.9375\" id=\"E4\" rx=\"10\" ry=\"10\" style=\"stroke: #383838; stroke-width: 1.5;\" width=\"43\" x=\"45.5\" y=\"438\"/><text fill=\"#000000\" font-family=\"sans-serif\" font-size=\"12\" font-style=\"italic\" lengthAdjust=\"spacingAndGlyphs\" textLength=\"41\" x=\"46.5\" y=\"454.1387\">«item»</text><text fill=\"#000000\" font-family=\"sans-serif\" font-size=\"12\" lengthAdjust=\"spacingAndGlyphs\" textLength=\"24\" x=\"53\" y=\"468.1074\">b: B</text><line style=\"stroke: #383838; stroke-width: 1.5;\" x1=\"46.5\" x2=\"87.5\" y1=\"475.9375\" y2=\"475.9375\"/></a><!--MD5=[270fce915f116d4de14055a7c1d9a0f3]\n",
       "class E5--><a href=\"psysml:80ae9a50-ac1f-4423-b935-68d8f5716f01\" target=\"_top\" title=\"psysml:80ae9a50-ac1f-4423-b935-68d8f5716f01\" xlink:actuate=\"onRequest\" xlink:href=\"psysml:80ae9a50-ac1f-4423-b935-68d8f5716f01\" xlink:show=\"new\" xlink:title=\"psysml:80ae9a50-ac1f-4423-b935-68d8f5716f01\" xlink:type=\"simple\"><rect fill=\"#FFFFFF\" height=\"45.9375\" id=\"E5\" rx=\"10\" ry=\"10\" style=\"stroke: #383838; stroke-width: 1.5;\" width=\"42\" x=\"151\" y=\"362\"/><text fill=\"#000000\" font-family=\"sans-serif\" font-size=\"12\" font-style=\"italic\" lengthAdjust=\"spacingAndGlyphs\" textLength=\"40\" x=\"152\" y=\"378.1387\">«part»</text><text fill=\"#000000\" font-family=\"sans-serif\" font-size=\"12\" lengthAdjust=\"spacingAndGlyphs\" textLength=\"23\" x=\"158.5\" y=\"392.1074\">c: C</text><line style=\"stroke: #383838; stroke-width: 1.5;\" x1=\"152\" x2=\"192\" y1=\"399.9375\" y2=\"399.9375\"/></a><!--MD5=[60a26617385b1d2d0262a64233df1f8d]\n",
       "class E6--><a href=\"psysml:7d838d86-0408-4401-9cbf-32b733f3993a\" target=\"_top\" title=\"psysml:7d838d86-0408-4401-9cbf-32b733f3993a\" xlink:actuate=\"onRequest\" xlink:href=\"psysml:7d838d86-0408-4401-9cbf-32b733f3993a\" xlink:show=\"new\" xlink:title=\"psysml:7d838d86-0408-4401-9cbf-32b733f3993a\" xlink:type=\"simple\"><rect fill=\"#FFFFFF\" height=\"45.9375\" id=\"E6\" style=\"stroke: #383838; stroke-width: 1.5;\" width=\"71\" x=\"112.5\" y=\"637\"/><text fill=\"#000000\" font-family=\"sans-serif\" font-size=\"12\" font-style=\"italic\" lengthAdjust=\"spacingAndGlyphs\" textLength=\"69\" x=\"113.5\" y=\"653.1387\">«item  def»</text><text fill=\"#000000\" font-family=\"sans-serif\" font-size=\"12\" font-style=\"italic\" lengthAdjust=\"spacingAndGlyphs\" textLength=\"8\" x=\"144\" y=\"667.1074\">B</text><line style=\"stroke: #383838; stroke-width: 1.5;\" x1=\"113.5\" x2=\"182.5\" y1=\"674.9375\" y2=\"674.9375\"/></a><!--MD5=[2156ba9850f5573cc1fc38a6a4b2f02b]\n",
       "class E7--><a href=\"psysml:d06b8fcb-8cda-493c-875d-bdf01ed715df\" target=\"_top\" title=\"psysml:d06b8fcb-8cda-493c-875d-bdf01ed715df\" xlink:actuate=\"onRequest\" xlink:href=\"psysml:d06b8fcb-8cda-493c-875d-bdf01ed715df\" xlink:show=\"new\" xlink:title=\"psysml:d06b8fcb-8cda-493c-875d-bdf01ed715df\" xlink:type=\"simple\"><rect fill=\"#FFFFFF\" height=\"45.9375\" id=\"E7\" rx=\"10\" ry=\"10\" style=\"stroke: #383838; stroke-width: 1.5;\" width=\"42\" x=\"159\" y=\"744\"/><text fill=\"#000000\" font-family=\"sans-serif\" font-size=\"12\" font-style=\"italic\" lengthAdjust=\"spacingAndGlyphs\" textLength=\"40\" x=\"160\" y=\"760.1387\">«part»</text><text fill=\"#000000\" font-family=\"sans-serif\" font-size=\"12\" font-style=\"italic\" lengthAdjust=\"spacingAndGlyphs\" textLength=\"8\" x=\"166\" y=\"774.1074\">a</text><text fill=\"#000000\" font-family=\"sans-serif\" font-size=\"12\" lengthAdjust=\"spacingAndGlyphs\" textLength=\"16\" x=\"174\" y=\"774.1074\">: A</text><line style=\"stroke: #383838; stroke-width: 1.5;\" x1=\"160\" x2=\"200\" y1=\"781.9375\" y2=\"781.9375\"/></a><!--MD5=[b9389687b975829384b498ac4b7476b2]\n",
       "class E8--><a href=\"psysml:a2efb8df-7581-49ed-b24f-8030c12b0405\" target=\"_top\" title=\"psysml:a2efb8df-7581-49ed-b24f-8030c12b0405\" xlink:actuate=\"onRequest\" xlink:href=\"psysml:a2efb8df-7581-49ed-b24f-8030c12b0405\" xlink:show=\"new\" xlink:title=\"psysml:a2efb8df-7581-49ed-b24f-8030c12b0405\" xlink:type=\"simple\"><rect fill=\"#FFFFFF\" height=\"45.9375\" id=\"E8\" style=\"stroke: #383838; stroke-width: 1.5;\" width=\"70\" x=\"113\" y=\"514\"/><text fill=\"#000000\" font-family=\"sans-serif\" font-size=\"12\" font-style=\"italic\" lengthAdjust=\"spacingAndGlyphs\" textLength=\"68\" x=\"114\" y=\"530.1387\">«part  def»</text><text fill=\"#000000\" font-family=\"sans-serif\" font-size=\"12\" lengthAdjust=\"spacingAndGlyphs\" textLength=\"8\" x=\"144\" y=\"544.1074\">C</text><line style=\"stroke: #383838; stroke-width: 1.5;\" x1=\"114\" x2=\"182\" y1=\"551.9375\" y2=\"551.9375\"/></a><!--MD5=[fd4143e9d270a159db93a4ea2a975926]\n",
       "class E9--><a href=\"psysml:91f3ce36-c57b-44eb-a625-32b1f3011842\" target=\"_top\" title=\"psysml:91f3ce36-c57b-44eb-a625-32b1f3011842\" xlink:actuate=\"onRequest\" xlink:href=\"psysml:91f3ce36-c57b-44eb-a625-32b1f3011842\" xlink:show=\"new\" xlink:title=\"psysml:91f3ce36-c57b-44eb-a625-32b1f3011842\" xlink:type=\"simple\"><rect fill=\"#FFFFFF\" height=\"45.9375\" id=\"E9\" style=\"stroke: #383838; stroke-width: 1.5;\" width=\"70\" x=\"64\" y=\"41\"/><text fill=\"#000000\" font-family=\"sans-serif\" font-size=\"12\" font-style=\"italic\" lengthAdjust=\"spacingAndGlyphs\" textLength=\"68\" x=\"65\" y=\"57.1387\">«port  def»</text><text fill=\"#000000\" font-family=\"sans-serif\" font-size=\"12\" lengthAdjust=\"spacingAndGlyphs\" textLength=\"8\" x=\"95\" y=\"71.1074\">P</text><line style=\"stroke: #383838; stroke-width: 1.5;\" x1=\"65\" x2=\"133\" y1=\"78.9375\" y2=\"78.9375\"/></a><!--MD5=[96f4274e9e20536e775497830990834d]\n",
       "class E10--><a href=\"psysml:5a8db81a-c733-4c6f-be90-4f9ffe214caa\" target=\"_top\" title=\"psysml:5a8db81a-c733-4c6f-be90-4f9ffe214caa\" xlink:actuate=\"onRequest\" xlink:href=\"psysml:5a8db81a-c733-4c6f-be90-4f9ffe214caa\" xlink:show=\"new\" xlink:title=\"psysml:5a8db81a-c733-4c6f-be90-4f9ffe214caa\" xlink:type=\"simple\"><rect fill=\"#FFFFFF\" height=\"45.9375\" id=\"E10\" rx=\"10\" ry=\"10\" style=\"stroke: #383838; stroke-width: 1.5;\" width=\"43\" x=\"32.5\" y=\"148\"/><text fill=\"#000000\" font-family=\"sans-serif\" font-size=\"12\" font-style=\"italic\" lengthAdjust=\"spacingAndGlyphs\" textLength=\"41\" x=\"33.5\" y=\"164.1387\">«item»</text><text fill=\"#000000\" font-family=\"sans-serif\" font-size=\"12\" lengthAdjust=\"spacingAndGlyphs\" textLength=\"32\" x=\"36\" y=\"178.1074\">a1: A</text><line style=\"stroke: #383838; stroke-width: 1.5;\" x1=\"33.5\" x2=\"74.5\" y1=\"185.9375\" y2=\"185.9375\"/></a><!--MD5=[1dd1bfd58a279cf63c5f349dbc8fc6a1]\n",
       "class E11--><a href=\"psysml:50797105-d3dc-4af6-be0e-986a23cb6cc7\" target=\"_top\" title=\"psysml:50797105-d3dc-4af6-be0e-986a23cb6cc7\" xlink:actuate=\"onRequest\" xlink:href=\"psysml:50797105-d3dc-4af6-be0e-986a23cb6cc7\" xlink:show=\"new\" xlink:title=\"psysml:50797105-d3dc-4af6-be0e-986a23cb6cc7\" xlink:type=\"simple\"><rect fill=\"#FFFFFF\" height=\"45.9375\" id=\"E11\" rx=\"10\" ry=\"10\" style=\"stroke: #383838; stroke-width: 1.5;\" width=\"43\" x=\"110.5\" y=\"148\"/><text fill=\"#000000\" font-family=\"sans-serif\" font-size=\"12\" font-style=\"italic\" lengthAdjust=\"spacingAndGlyphs\" textLength=\"41\" x=\"111.5\" y=\"164.1387\">«item»</text><text fill=\"#000000\" font-family=\"sans-serif\" font-size=\"12\" lengthAdjust=\"spacingAndGlyphs\" textLength=\"32\" x=\"114\" y=\"178.1074\">a2: A</text><line style=\"stroke: #383838; stroke-width: 1.5;\" x1=\"111.5\" x2=\"152.5\" y1=\"185.9375\" y2=\"185.9375\"/></a><!--MD5=[2720a5a1f2c3fca2055b230370638851]\n",
       "link E2 to E3--><a href=\"psysml:2d349f36-3ef3-481f-a80c-9f5be02d82e3\" target=\"_top\" title=\"psysml:2d349f36-3ef3-481f-a80c-9f5be02d82e3\" xlink:actuate=\"onRequest\" xlink:href=\"psysml:2d349f36-3ef3-481f-a80c-9f5be02d82e3\" xlink:show=\"new\" xlink:title=\"psysml:2d349f36-3ef3-481f-a80c-9f5be02d82e3\" xlink:type=\"simple\"><path d=\"M193.65,194.01 C184.14,206.81 171.89,223.3 160.82,238.2 \" fill=\"none\" id=\"E2-&gt;E3\" style=\"stroke: #383838; stroke-width: 1.0;\"/><polygon fill=\"#FFFFFF\" points=\"148.6,254.66,154.3195,235.2361,165.5543,243.5896,148.6,254.66\" style=\"stroke: #383838; stroke-width: 1.0;\"/><ellipse cx=\"159.3256\" cy=\"231.8554\" fill=\"#383838\" rx=\"2\" ry=\"2\" style=\"stroke: #383838; stroke-width: 1.0;\"/><ellipse cx=\"167.3504\" cy=\"237.8221\" fill=\"#383838\" rx=\"2\" ry=\"2\" style=\"stroke: #383838; stroke-width: 1.0;\"/></a><!--MD5=[4672eba38e49728da53d11aeb285b987]\n",
       "reverse link E3 to E4--><a href=\"psysml:1fc0b9c6-f917-494b-8539-e8a30a151a21\" target=\"_top\" title=\"psysml:1fc0b9c6-f917-494b-8539-e8a30a151a21\" xlink:actuate=\"onRequest\" xlink:href=\"psysml:1fc0b9c6-f917-494b-8539-e8a30a151a21\" xlink:show=\"new\" xlink:title=\"psysml:1fc0b9c6-f917-494b-8539-e8a30a151a21\" xlink:type=\"simple\"><path d=\"M97.11,310.9 C84.08,325.11 70.81,342.94 64,362 C55.12,386.85 58.09,417.53 61.82,437.88 \" fill=\"none\" id=\"E3&lt;-E4\" style=\"stroke: #383838; stroke-width: 1.0;\"/><polygon fill=\"#383838\" points=\"106.46,301.23,99.4153,302.7703,98.1277,309.8655,105.1724,308.3252,106.46,301.23\" style=\"stroke: #383838; stroke-width: 1.0;\"/><text fill=\"#000000\" font-family=\"sans-serif\" font-size=\"13\" lengthAdjust=\"spacingAndGlyphs\" textLength=\"8\" x=\"51.3529\" y=\"426.744\">1</text></a><!--MD5=[191cde3d490a3f6d7bb551fe3ddca469]\n",
       "reverse link E3 to E5--><a href=\"psysml:1188b8bd-fcbe-4041-bfa3-3c6757b772de\" target=\"_top\" title=\"psysml:1188b8bd-fcbe-4041-bfa3-3c6757b772de\" xlink:actuate=\"onRequest\" xlink:href=\"psysml:1188b8bd-fcbe-4041-bfa3-3c6757b772de\" xlink:show=\"new\" xlink:title=\"psysml:1188b8bd-fcbe-4041-bfa3-3c6757b772de\" xlink:type=\"simple\"><path d=\"M145.17,313.57 C151.2,329.39 158.16,347.68 163.49,361.66 \" fill=\"none\" id=\"E3&lt;-E5\" style=\"stroke: #383838; stroke-width: 1.0;\"/><polygon fill=\"#FFFFFF\" points=\"140.39,301.01,138.7866,308.0406,144.6598,312.2247,146.2631,305.1941,140.39,301.01\" style=\"stroke: #383838; stroke-width: 1.0;\"/><text fill=\"#000000\" font-family=\"sans-serif\" font-size=\"13\" lengthAdjust=\"spacingAndGlyphs\" textLength=\"8\" x=\"152.2843\" y=\"350.8492\">1</text></a><!--MD5=[79568f1e445c3877b6a54524624ccc7d]\n",
       "link E4 to E6--><a href=\"psysml:b444802f-fd06-4322-964d-2bd41504258e\" target=\"_top\" title=\"psysml:b444802f-fd06-4322-964d-2bd41504258e\" xlink:actuate=\"onRequest\" xlink:href=\"psysml:b444802f-fd06-4322-964d-2bd41504258e\" xlink:show=\"new\" xlink:title=\"psysml:b444802f-fd06-4322-964d-2bd41504258e\" xlink:type=\"simple\"><path d=\"M72.25,484.22 C77.31,504.36 85.72,534.68 96,560 C104.15,580.08 115.08,601.47 124.82,619.21 \" fill=\"none\" id=\"E4-&gt;E6\" style=\"stroke: #383838; stroke-width: 1.0;\"/><polygon fill=\"#FFFFFF\" points=\"134.72,636.8,119.2979,623.6791,131.4967,616.8097,134.72,636.8\" style=\"stroke: #383838; stroke-width: 1.0;\"/><ellipse cx=\"118.2438\" cy=\"617.7311\" fill=\"#383838\" rx=\"2\" ry=\"2\" style=\"stroke: #383838; stroke-width: 1.0;\"/><ellipse cx=\"126.9572\" cy=\"612.8244\" fill=\"#383838\" rx=\"2\" ry=\"2\" style=\"stroke: #383838; stroke-width: 1.0;\"/></a><!--MD5=[3f50a3473f1dfb74d3f76443e03635af]\n",
       "reverse link E6 to E7--><a href=\"psysml:fe8fc95e-22bb-46d1-b0fd-61d73c45474f\" target=\"_top\" title=\"psysml:fe8fc95e-22bb-46d1-b0fd-61d73c45474f\" xlink:actuate=\"onRequest\" xlink:href=\"psysml:fe8fc95e-22bb-46d1-b0fd-61d73c45474f\" xlink:show=\"new\" xlink:title=\"psysml:fe8fc95e-22bb-46d1-b0fd-61d73c45474f\" xlink:type=\"simple\"><path d=\"M158.54,695.57 C163.36,711.39 168.93,729.68 173.19,743.66 \" fill=\"none\" id=\"E6&lt;-E7\" style=\"stroke: #383838; stroke-width: 1.0;\"/><polygon fill=\"#383838\" points=\"154.71,683.01,152.6319,689.9152,158.2066,694.4893,160.2847,687.5841,154.71,683.01\" style=\"stroke: #383838; stroke-width: 1.0;\"/><text fill=\"#000000\" font-family=\"sans-serif\" font-size=\"13\" lengthAdjust=\"spacingAndGlyphs\" textLength=\"8\" x=\"162.4199\" y=\"732.8492\">1</text></a><!--MD5=[14ccda38c055a5c0da953d572bc50960]\n",
       "link E7 to E3--><a href=\"psysml:599ea15b-bb0f-4f03-a502-f2e1a3a71e91\" target=\"_top\" title=\"psysml:599ea15b-bb0f-4f03-a502-f2e1a3a71e91\" xlink:actuate=\"onRequest\" xlink:href=\"psysml:599ea15b-bb0f-4f03-a502-f2e1a3a71e91\" xlink:show=\"new\" xlink:title=\"psysml:599ea15b-bb0f-4f03-a502-f2e1a3a71e91\" xlink:type=\"simple\"><path d=\"M197.41,743.63 C211.5,723.27 229,691.78 229,661 C229,384 229,384 229,384 C229,353.7 206.93,328.42 183.85,310.26 \" fill=\"none\" id=\"E7-&gt;E3\" style=\"stroke: #383838; stroke-width: 1.0;\"/><polygon fill=\"#FFFFFF\" points=\"167.57,298.59,187.0929,303.9617,178.9414,315.3438,167.57,298.59\" style=\"stroke: #383838; stroke-width: 1.0;\"/><ellipse cx=\"190.5626\" cy=\"308.9066\" fill=\"#383838\" rx=\"2\" ry=\"2\" style=\"stroke: #383838; stroke-width: 1.0;\"/><ellipse cx=\"184.7401\" cy=\"317.0367\" fill=\"#383838\" rx=\"2\" ry=\"2\" style=\"stroke: #383838; stroke-width: 1.0;\"/></a><!--MD5=[dfaffb906826c3e5aca635516100ff21]\n",
       "link E5 to E8--><a href=\"psysml:ebb03462-10dd-4a39-86ac-c1648f226bb6\" target=\"_top\" title=\"psysml:ebb03462-10dd-4a39-86ac-c1648f226bb6\" xlink:actuate=\"onRequest\" xlink:href=\"psysml:ebb03462-10dd-4a39-86ac-c1648f226bb6\" xlink:show=\"new\" xlink:title=\"psysml:ebb03462-10dd-4a39-86ac-c1648f226bb6\" xlink:type=\"simple\"><path d=\"M168.46,408.13 C164.86,430.62 159.2,466.01 154.74,493.87 \" fill=\"none\" id=\"E5-&gt;E8\" style=\"stroke: #383838; stroke-width: 1.0;\"/><polygon fill=\"#FFFFFF\" points=\"151.56,513.78,147.6458,493.9135,161.4704,496.1226,151.56,513.78\" style=\"stroke: #383838; stroke-width: 1.0;\"/><ellipse cx=\"150.5202\" cy=\"488.6005\" fill=\"#383838\" rx=\"2\" ry=\"2\" style=\"stroke: #383838; stroke-width: 1.0;\"/><ellipse cx=\"160.3949\" cy=\"490.1784\" fill=\"#383838\" rx=\"2\" ry=\"2\" style=\"stroke: #383838; stroke-width: 1.0;\"/></a><!--MD5=[03c8294790d3c57651a1993cecff665f]\n",
       "reverse link E8 to E3--><a href=\"psysml:4ca20137-091c-4af4-8b05-aa2379f8c92e\" target=\"_top\" title=\"psysml:4ca20137-091c-4af4-8b05-aa2379f8c92e\" xlink:actuate=\"onRequest\" xlink:href=\"psysml:4ca20137-091c-4af4-8b05-aa2379f8c92e\" xlink:show=\"new\" xlink:title=\"psysml:4ca20137-091c-4af4-8b05-aa2379f8c92e\" xlink:type=\"simple\"><path d=\"M140.02,501.22 C134.57,475.6 127.84,439.84 125,408 C123.18,387.64 124.14,382.43 125,362 C125.87,341.34 127.95,317.86 129.62,301.16 \" fill=\"none\" id=\"E8&lt;-E3\" style=\"stroke: #383838; stroke-width: 1.0;\"/><polygon fill=\"#FFFFFF\" points=\"142.81,513.96,145.4388,507.2451,140.2515,502.2359,137.6227,508.9508,142.81,513.96\" style=\"stroke: #383838; stroke-width: 1.0;\"/><text fill=\"#000000\" font-family=\"sans-serif\" font-size=\"13\" lengthAdjust=\"spacingAndGlyphs\" textLength=\"7\" x=\"126\" y=\"389.5669\">y</text></a><!--MD5=[0d75d2178373a6a4568e5dc728f58aef]\n",
       "reverse link E8 to E6--><a href=\"psysml:4ca20137-091c-4af4-8b05-aa2379f8c92e\" target=\"_top\" title=\"psysml:4ca20137-091c-4af4-8b05-aa2379f8c92e\" xlink:actuate=\"onRequest\" xlink:href=\"psysml:4ca20137-091c-4af4-8b05-aa2379f8c92e\" xlink:show=\"new\" xlink:title=\"psysml:4ca20137-091c-4af4-8b05-aa2379f8c92e\" xlink:type=\"simple\"><path d=\"M148,573.22 C148,593.81 148,619.16 148,636.95 \" fill=\"none\" id=\"E8&lt;-E6\" style=\"stroke: #383838; stroke-width: 1.0;\"/><polygon fill=\"#FFFFFF\" points=\"148,560.19,144,566.19,148,572.19,152,566.19,148,560.19\" style=\"stroke: #383838; stroke-width: 1.0;\"/><text fill=\"#000000\" font-family=\"sans-serif\" font-size=\"13\" lengthAdjust=\"spacingAndGlyphs\" textLength=\"7\" x=\"149\" y=\"603.0669\">y</text></a><!--MD5=[23ac544a70576c3e717098101004234c]\n",
       "reverse link E9 to E10--><a href=\"psysml:bbec5841-3ffd-488b-b643-01adfe752a25\" target=\"_top\" title=\"psysml:bbec5841-3ffd-488b-b643-01adfe752a25\" xlink:actuate=\"onRequest\" xlink:href=\"psysml:bbec5841-3ffd-488b-b643-01adfe752a25\" xlink:show=\"new\" xlink:title=\"psysml:bbec5841-3ffd-488b-b643-01adfe752a25\" xlink:type=\"simple\"><path d=\"M84.39,99.1 C77.56,115.03 69.63,133.54 63.58,147.66 \" fill=\"none\" id=\"E9&lt;-E10\" style=\"stroke: #383838; stroke-width: 1.0;\"/><polygon fill=\"#FFFFFF\" points=\"89.57,87.01,83.5327,90.9535,84.8509,98.0431,90.8882,94.0996,89.57,87.01\" style=\"stroke: #383838; stroke-width: 1.0;\"/><text fill=\"#000000\" font-family=\"sans-serif\" font-size=\"13\" lengthAdjust=\"spacingAndGlyphs\" textLength=\"8\" x=\"57.0099\" y=\"136.8492\">1</text></a><!--MD5=[feeac5eb423634930294aa81f2d25a4c]\n",
       "link E10 to E3--><a href=\"psysml:fb12afbf-9138-40ff-bf3b-75b81b096774\" target=\"_top\" title=\"psysml:fb12afbf-9138-40ff-bf3b-75b81b096774\" xlink:actuate=\"onRequest\" xlink:href=\"psysml:fb12afbf-9138-40ff-bf3b-75b81b096774\" xlink:show=\"new\" xlink:title=\"psysml:fb12afbf-9138-40ff-bf3b-75b81b096774\" xlink:type=\"simple\"><path d=\"M70.35,194.01 C79.86,206.81 92.11,223.3 103.18,238.2 \" fill=\"none\" id=\"E10-&gt;E3\" style=\"stroke: #383838; stroke-width: 1.0;\"/><polygon fill=\"#FFFFFF\" points=\"115.4,254.66,98.4457,243.5896,109.6805,235.2361,115.4,254.66\" style=\"stroke: #383838; stroke-width: 1.0;\"/><ellipse cx=\"96.6496\" cy=\"237.8221\" fill=\"#383838\" rx=\"2\" ry=\"2\" style=\"stroke: #383838; stroke-width: 1.0;\"/><ellipse cx=\"104.6744\" cy=\"231.8554\" fill=\"#383838\" rx=\"2\" ry=\"2\" style=\"stroke: #383838; stroke-width: 1.0;\"/></a><!--MD5=[1fc04a95fd77ad5ce46c1a3027516051]\n",
       "reverse link E9 to E11--><a href=\"psysml:20edee2c-da5c-4ff9-9cec-febcc5f58071\" target=\"_top\" title=\"psysml:20edee2c-da5c-4ff9-9cec-febcc5f58071\" xlink:actuate=\"onRequest\" xlink:href=\"psysml:20edee2c-da5c-4ff9-9cec-febcc5f58071\" xlink:show=\"new\" xlink:title=\"psysml:20edee2c-da5c-4ff9-9cec-febcc5f58071\" xlink:type=\"simple\"><path d=\"M109.87,99.57 C114.84,115.39 120.59,133.68 124.98,147.66 \" fill=\"none\" id=\"E9&lt;-E11\" style=\"stroke: #383838; stroke-width: 1.0;\"/><polygon fill=\"#FFFFFF\" points=\"105.92,87.01,103.9044,93.9337,109.5203,98.4572,111.5359,91.5335,105.92,87.01\" style=\"stroke: #383838; stroke-width: 1.0;\"/><text fill=\"#000000\" font-family=\"sans-serif\" font-size=\"13\" lengthAdjust=\"spacingAndGlyphs\" textLength=\"8\" x=\"114.1561\" y=\"136.8492\">1</text></a><!--MD5=[0517f1ce58c4d5483948f93845c45e26]\n",
       "link E11 to E3--><a href=\"psysml:6098403c-f8e4-4c64-8bc6-7f6e4aceb826\" target=\"_top\" title=\"psysml:6098403c-f8e4-4c64-8bc6-7f6e4aceb826\" xlink:actuate=\"onRequest\" xlink:href=\"psysml:6098403c-f8e4-4c64-8bc6-7f6e4aceb826\" xlink:show=\"new\" xlink:title=\"psysml:6098403c-f8e4-4c64-8bc6-7f6e4aceb826\" xlink:type=\"simple\"><path d=\"M132,194.01 C132,205.69 132,220.46 132,234.28 \" fill=\"none\" id=\"E11-&gt;E3\" style=\"stroke: #383838; stroke-width: 1.0;\"/><polygon fill=\"#FFFFFF\" points=\"132,254.66,125,235.66,139,235.66,132,254.66\" style=\"stroke: #383838; stroke-width: 1.0;\"/><ellipse cx=\"127\" cy=\"229.96\" fill=\"#383838\" rx=\"2\" ry=\"2\" style=\"stroke: #383838; stroke-width: 1.0;\"/><ellipse cx=\"137\" cy=\"229.96\" fill=\"#383838\" rx=\"2\" ry=\"2\" style=\"stroke: #383838; stroke-width: 1.0;\"/></a><!--MD5=[eb81481829f36f073cec8cfb2914d9e8]\n",
       "@startuml\r\n",
       "skinparam monochrome true\r\n",
       "skinparam classbackgroundcolor white\r\n",
       "skinparam shadowing false\r\n",
       "skinparam wrapWidth 300\r\n",
       "hide circle\r\n",
       "\r\n",
       "package \"ItemTest\" as E1  [[psysml:05177c11-5394-41b2-a0a0-71a4c06ed611 ]]  {\r\n",
       "comp usage \"f: A \" as E2  <<(T,blue) item>> [[psysml:9b37ce48-aa06-4adb-ba3b-3b1410731947 ]] {\r\n",
       "}\r\n",
       "comp def \"A\" as E3  <<(T,blue) item  def>> [[psysml:373f36dd-9125-4f4d-9beb-8d6cd21e1469 ]] {\r\n",
       "}\r\n",
       "comp usage \"b: B \" as E4  <<(T,blue) item>> [[psysml:130e11a2-3d5f-4cd9-b0cd-9225a7528360 ]] {\r\n",
       "}\r\n",
       "comp usage \"c: C \" as E5  <<(T,blue) part>> [[psysml:80ae9a50-ac1f-4423-b935-68d8f5716f01 ]] {\r\n",
       "}\r\n",
       "comp def \"<i>B</i>\" as E6  <<(T,blue) item  def>> [[psysml:7d838d86-0408-4401-9cbf-32b733f3993a ]] {\r\n",
       "}\r\n",
       "comp usage \"<i>a</i>: A \" as E7  <<(T,blue) part>> [[psysml:d06b8fcb-8cda-493c-875d-bdf01ed715df ]] {\r\n",
       "}\r\n",
       "comp def \"C\" as E8  <<(T,blue) part  def>> [[psysml:a2efb8df-7581-49ed-b24f-8030c12b0405 ]] {\r\n",
       "}\r\n",
       "comp def \"P\" as E9  <<(T,blue) port  def>> [[psysml:91f3ce36-c57b-44eb-a625-32b1f3011842 ]] {\r\n",
       "}\r\n",
       "comp usage \"a1: A \" as E10  <<(T,blue) item>> [[psysml:5a8db81a-c733-4c6f-be90-4f9ffe214caa ]] {\r\n",
       "}\r\n",
       "comp usage \"a2: A \" as E11  <<(T,blue) item>> [[psysml:50797105-d3dc-4af6-be0e-986a23cb6cc7 ]] {\r\n",
       "}\r\n",
       "}\r\n",
       "E2 - -:|> E3 [[psysml:2d349f36-3ef3-481f-a80c-9f5be02d82e3 ]] \r\n",
       "E3 *- - \"1\"E4 [[psysml:1fc0b9c6-f917-494b-8539-e8a30a151a21 ]] \r\n",
       "E3 o- - \"1\"E5 [[psysml:1188b8bd-fcbe-4041-bfa3-3c6757b772de ]] \r\n",
       "E4 - -:|> E6 [[psysml:b444802f-fd06-4322-964d-2bd41504258e ]] \r\n",
       "E6 *- - \"1\"E7 [[psysml:fe8fc95e-22bb-46d1-b0fd-61d73c45474f ]] \r\n",
       "E7 - -:|> E3 [[psysml:599ea15b-bb0f-4f03-a502-f2e1a3a71e91 ]] \r\n",
       "E5 - -:|> E8 [[psysml:ebb03462-10dd-4a39-86ac-c1648f226bb6 ]] \r\n",
       "E8 o- - E3 [[psysml:4ca20137-091c-4af4-8b05-aa2379f8c92e ]] : y\r\n",
       "E8 o- - E6 [[psysml:4ca20137-091c-4af4-8b05-aa2379f8c92e ]] : y\r\n",
       "E9 o- - \"1\"E10 [[psysml:bbec5841-3ffd-488b-b643-01adfe752a25 ]] \r\n",
       "E10 - -:|> E3 [[psysml:fb12afbf-9138-40ff-bf3b-75b81b096774 ]] \r\n",
       "E9 o- - \"1\"E11 [[psysml:20edee2c-da5c-4ff9-9cec-febcc5f58071 ]] \r\n",
       "E11 - -:|> E3 [[psysml:6098403c-f8e4-4c64-8bc6-7f6e4aceb826 ]] \r\n",
       "@enduml\r\n",
       "\n",
       "PlantUML version 1.2020.13(Sat Jun 13 12:26:38 UTC 2020)\n",
       "(EPL source distribution)\n",
       "Java Runtime: OpenJDK Runtime Environment\n",
       "JVM: OpenJDK 64-Bit Server VM\n",
       "Default Encoding: UTF-8\n",
       "Language: en\n",
       "Country: null\n",
       "--></g></svg>"
      ]
     },
     "execution_count": 38,
     "metadata": {},
     "output_type": "execute_result"
    }
   ],
   "source": [
    "%viz --style=\"DEFAULT\" --view=\"Tree\" \"ItemTest\""
   ]
  },
  {
   "cell_type": "code",
   "execution_count": 39,
   "id": "f92bc58c",
   "metadata": {
    "execution": {
     "iopub.execute_input": "2022-04-22T09:48:26.016161Z",
     "iopub.status.busy": "2022-04-22T09:48:26.015844Z",
     "iopub.status.idle": "2022-04-22T09:48:26.020382Z",
     "shell.execute_reply": "2022-04-22T09:48:26.020694Z"
    }
   },
   "outputs": [
    {
     "data": {
      "image/svg+xml": [
       "<?xml version=\"1.0\" encoding=\"UTF-8\" standalone=\"no\"?><svg xmlns=\"http://www.w3.org/2000/svg\" xmlns:xlink=\"http://www.w3.org/1999/xlink\" contentScriptType=\"application/ecmascript\" contentStyleType=\"text/css\" height=\"12px\" preserveAspectRatio=\"none\" style=\"width:12px;height:12px;\" version=\"1.1\" viewBox=\"0 0 12 12\" width=\"12px\" zoomAndPan=\"magnify\"><defs/><g><!--MD5=[c5f280e076d0d61ccf4b0f27871bda1d]\n",
       "@startuml\r\n",
       "skinparam monochrome true\r\n",
       "skinparam classbackgroundcolor white\r\n",
       "skinparam shadowing false\r\n",
       "skinparam wrapWidth 300\r\n",
       "hide circle\r\n",
       "\r\n",
       "@enduml\r\n",
       "\n",
       "PlantUML version 1.2020.13(Sat Jun 13 12:26:38 UTC 2020)\n",
       "(EPL source distribution)\n",
       "Java Runtime: OpenJDK Runtime Environment\n",
       "JVM: OpenJDK 64-Bit Server VM\n",
       "Default Encoding: UTF-8\n",
       "Language: en\n",
       "Country: null\n",
       "--></g></svg>"
      ]
     },
     "execution_count": 39,
     "metadata": {},
     "output_type": "execute_result"
    }
   ],
   "source": [
    "%viz --style=\"DEFAULT\" --view=\"State\" \"ItemTest\""
   ]
  },
  {
   "cell_type": "code",
   "execution_count": 40,
   "id": "826658ae",
   "metadata": {
    "execution": {
     "iopub.execute_input": "2022-04-22T09:48:26.070792Z",
     "iopub.status.busy": "2022-04-22T09:48:26.070334Z",
     "iopub.status.idle": "2022-04-22T09:48:26.099477Z",
     "shell.execute_reply": "2022-04-22T09:48:26.098493Z"
    }
   },
   "outputs": [
    {
     "data": {
      "image/svg+xml": [
       "<?xml version=\"1.0\" encoding=\"UTF-8\" standalone=\"no\"?><svg xmlns=\"http://www.w3.org/2000/svg\" xmlns:xlink=\"http://www.w3.org/1999/xlink\" contentScriptType=\"application/ecmascript\" contentStyleType=\"text/css\" height=\"179px\" preserveAspectRatio=\"none\" style=\"width:474px;height:179px;\" version=\"1.1\" viewBox=\"0 0 474 179\" width=\"474px\" zoomAndPan=\"magnify\"><defs/><g><!--MD5=[fbc87193dbaf4d95561dea2c320d4a47]\n",
       "cluster E1--><a href=\"psysml:05177c11-5394-41b2-a0a0-71a4c06ed611\" target=\"_top\" title=\"psysml:05177c11-5394-41b2-a0a0-71a4c06ed611\" xlink:actuate=\"onRequest\" xlink:href=\"psysml:05177c11-5394-41b2-a0a0-71a4c06ed611\" xlink:show=\"new\" xlink:title=\"psysml:05177c11-5394-41b2-a0a0-71a4c06ed611\" xlink:type=\"simple\"><polygon fill=\"#FFFFFF\" points=\"16,6,83,6,90,28.2969,452,28.2969,452,167,16,167,16,6\" style=\"stroke: #000000; stroke-width: 1.5;\"/><line style=\"stroke: #000000; stroke-width: 1.5;\" x1=\"16\" x2=\"90\" y1=\"28.2969\" y2=\"28.2969\"/><text fill=\"#000000\" font-family=\"sans-serif\" font-size=\"14\" font-weight=\"bold\" lengthAdjust=\"spacingAndGlyphs\" textLength=\"61\" x=\"20\" y=\"20.9951\">ItemTest</text></a><!--MD5=[de5ec2e2e8f62f467e546659f5068c88]\n",
       "cluster E5--><a href=\"psysml:a2efb8df-7581-49ed-b24f-8030c12b0405\" target=\"_top\" title=\"psysml:a2efb8df-7581-49ed-b24f-8030c12b0405\" xlink:actuate=\"onRequest\" xlink:href=\"psysml:a2efb8df-7581-49ed-b24f-8030c12b0405\" xlink:show=\"new\" xlink:title=\"psysml:a2efb8df-7581-49ed-b24f-8030c12b0405\" xlink:type=\"simple\"><rect fill=\"#FFFFFF\" height=\"88.5\" id=\"E5\" style=\"stroke: #383838; stroke-width: 1.5;\" width=\"124\" x=\"312\" y=\"62.5\"/><rect fill=\"#F8F8F8\" height=\"37.9375\" style=\"stroke: #383838; stroke-width: 1.5;\" width=\"124\" x=\"312\" y=\"62.5\"/><text fill=\"#000000\" font-family=\"sans-serif\" font-size=\"12\" font-style=\"italic\" lengthAdjust=\"spacingAndGlyphs\" textLength=\"68\" x=\"340\" y=\"78.6387\">«part  def»</text><text fill=\"#000000\" font-family=\"sans-serif\" font-size=\"12\" lengthAdjust=\"spacingAndGlyphs\" textLength=\"8\" x=\"370\" y=\"92.6074\">C</text></a><g id=\"E1.E3\"><a href=\"psysml:373f36dd-9125-4f4d-9beb-8d6cd21e1469\" target=\"_top\" title=\"psysml:373f36dd-9125-4f4d-9beb-8d6cd21e1469\" xlink:actuate=\"onRequest\" xlink:href=\"psysml:373f36dd-9125-4f4d-9beb-8d6cd21e1469\" xlink:show=\"new\" xlink:title=\"psysml:373f36dd-9125-4f4d-9beb-8d6cd21e1469\" xlink:type=\"simple\"><rect fill=\"#FFFFFF\" height=\"42.9375\" id=\"E3\" style=\"stroke: #383838; stroke-width: 1.5;\" width=\"76\" x=\"32\" y=\"96\"/><rect fill=\"#F8F8F8\" height=\"37.9375\" style=\"stroke: #383838; stroke-width: 1.5;\" width=\"76\" x=\"32\" y=\"96\"/><text fill=\"#000000\" font-family=\"sans-serif\" font-size=\"12\" font-style=\"italic\" lengthAdjust=\"spacingAndGlyphs\" textLength=\"69\" x=\"35.5\" y=\"112.1387\">«item  def»</text><text fill=\"#000000\" font-family=\"sans-serif\" font-size=\"12\" lengthAdjust=\"spacingAndGlyphs\" textLength=\"8\" x=\"66\" y=\"126.1074\">A</text></a></g><g id=\"E1.E4\"><a href=\"psysml:7d838d86-0408-4401-9cbf-32b733f3993a\" target=\"_top\" title=\"psysml:7d838d86-0408-4401-9cbf-32b733f3993a\" xlink:actuate=\"onRequest\" xlink:href=\"psysml:7d838d86-0408-4401-9cbf-32b733f3993a\" xlink:show=\"new\" xlink:title=\"psysml:7d838d86-0408-4401-9cbf-32b733f3993a\" xlink:type=\"simple\"><rect fill=\"#FFFFFF\" height=\"42.9375\" id=\"E4\" style=\"stroke: #383838; stroke-width: 1.5;\" width=\"76\" x=\"228\" y=\"41\"/><rect fill=\"#F8F8F8\" height=\"37.9375\" style=\"stroke: #383838; stroke-width: 1.5;\" width=\"76\" x=\"228\" y=\"41\"/><text fill=\"#000000\" font-family=\"sans-serif\" font-size=\"12\" font-style=\"italic\" lengthAdjust=\"spacingAndGlyphs\" textLength=\"69\" x=\"231.5\" y=\"57.1387\">«item  def»</text><text fill=\"#000000\" font-family=\"sans-serif\" font-size=\"12\" font-style=\"italic\" lengthAdjust=\"spacingAndGlyphs\" textLength=\"8\" x=\"262\" y=\"71.1074\">B</text></a></g><g id=\"E1.E7\"><a href=\"psysml:91f3ce36-c57b-44eb-a625-32b1f3011842\" target=\"_top\" title=\"psysml:91f3ce36-c57b-44eb-a625-32b1f3011842\" xlink:actuate=\"onRequest\" xlink:href=\"psysml:91f3ce36-c57b-44eb-a625-32b1f3011842\" xlink:show=\"new\" xlink:title=\"psysml:91f3ce36-c57b-44eb-a625-32b1f3011842\" xlink:type=\"simple\"><rect fill=\"#FFFFFF\" height=\"42.9375\" id=\"E7\" style=\"stroke: #383838; stroke-width: 1.5;\" width=\"75\" x=\"117.5\" y=\"41\"/><rect fill=\"#F8F8F8\" height=\"37.9375\" style=\"stroke: #383838; stroke-width: 1.5;\" width=\"75\" x=\"117.5\" y=\"41\"/><text fill=\"#000000\" font-family=\"sans-serif\" font-size=\"12\" font-style=\"italic\" lengthAdjust=\"spacingAndGlyphs\" textLength=\"68\" x=\"121\" y=\"57.1387\">«port  def»</text><text fill=\"#000000\" font-family=\"sans-serif\" font-size=\"12\" lengthAdjust=\"spacingAndGlyphs\" textLength=\"8\" x=\"151\" y=\"71.1074\">P</text></a></g><g id=\"E1.E2\"><a href=\"psysml:9b37ce48-aa06-4adb-ba3b-3b1410731947\" target=\"_top\" title=\"psysml:9b37ce48-aa06-4adb-ba3b-3b1410731947\" xlink:actuate=\"onRequest\" xlink:href=\"psysml:9b37ce48-aa06-4adb-ba3b-3b1410731947\" xlink:show=\"new\" xlink:title=\"psysml:9b37ce48-aa06-4adb-ba3b-3b1410731947\" xlink:type=\"simple\"><rect fill=\"#FFFFFF\" height=\"42.9375\" id=\"E2\" rx=\"10\" ry=\"10\" style=\"stroke: #383838; stroke-width: 1.5;\" width=\"50\" x=\"32\" y=\"41\"/><rect fill=\"#F8F8F8\" height=\"37.9375\" rx=\"10\" ry=\"10\" style=\"stroke: #F8F8F8; stroke-width: 1.5;\" width=\"50\" x=\"32\" y=\"41\"/><rect fill=\"#F8F8F8\" height=\"10\" style=\"stroke: #F8F8F8; stroke-width: 1.5;\" width=\"50\" x=\"32\" y=\"68.9375\"/><rect fill=\"none\" height=\"42.9375\" id=\"E2\" rx=\"10\" ry=\"10\" style=\"stroke: #383838; stroke-width: 1.5;\" width=\"50\" x=\"32\" y=\"41\"/><text fill=\"#000000\" font-family=\"sans-serif\" font-size=\"12\" font-style=\"italic\" lengthAdjust=\"spacingAndGlyphs\" textLength=\"41\" x=\"36.5\" y=\"57.1387\">«item»</text><text fill=\"#000000\" font-family=\"sans-serif\" font-size=\"12\" lengthAdjust=\"spacingAndGlyphs\" textLength=\"20\" x=\"47\" y=\"71.1074\">f: A</text></a></g><text fill=\"#000000\" font-family=\"sans-serif\" font-size=\"14\" lengthAdjust=\"spacingAndGlyphs\" textLength=\"43\" x=\"350.5\" y=\"41.1982\">y: A, B</text><rect fill=\"#383838\" height=\"12\" style=\"stroke: #F8F8F8; stroke-width: 1.5;\" width=\"12\" x=\"368\" y=\"56.5\"/><!--MD5=[2720a5a1f2c3fca2055b230370638851]\n",
       "link E2 to E3--><a href=\"psysml:2d349f36-3ef3-481f-a80c-9f5be02d82e3\" target=\"_top\" title=\"psysml:2d349f36-3ef3-481f-a80c-9f5be02d82e3\" xlink:actuate=\"onRequest\" xlink:href=\"psysml:2d349f36-3ef3-481f-a80c-9f5be02d82e3\" xlink:show=\"new\" xlink:title=\"psysml:2d349f36-3ef3-481f-a80c-9f5be02d82e3\" xlink:type=\"simple\"><path d=\"M62.06,84.14 C62.09,84.26 62.12,84.38 62.15,84.5 \" fill=\"none\" id=\"E2-&gt;E3\" style=\"stroke: #383838; stroke-width: 1.0;\"/><polygon fill=\"#FFFFFF\" points=\"64.93,95.83,53.5976,79.0497,67.193,75.7084,64.93,95.83\" style=\"stroke: #383838; stroke-width: 1.0;\"/><ellipse cx=\"54.1794\" cy=\"73.0371\" fill=\"#383838\" rx=\"2\" ry=\"2\" style=\"stroke: #383838; stroke-width: 1.0;\"/><ellipse cx=\"63.8904\" cy=\"70.6505\" fill=\"#383838\" rx=\"2\" ry=\"2\" style=\"stroke: #383838; stroke-width: 1.0;\"/></a><!--MD5=[0113d933e11a689fba455846d18d08f7]\n",
       "@startuml\r\n",
       "skinparam ranksep 10\r\n",
       "skinparam rectangle {\r\n",
       " backgroundColor<<block>> LightGreen\r\n",
       "}\r\n",
       "skinparam monochrome true\r\n",
       "skinparam classbackgroundcolor white\r\n",
       "skinparam shadowing false\r\n",
       "skinparam wrapWidth 300\r\n",
       "hide circle\r\n",
       "\r\n",
       "package \"ItemTest\" as E1  [[psysml:05177c11-5394-41b2-a0a0-71a4c06ed611 ]]  {\r\n",
       "rec usage \"f: A\" as E2  <<(T,blue) item>> [[psysml:9b37ce48-aa06-4adb-ba3b-3b1410731947 ]] {\r\n",
       "}\r\n",
       "def \"A\" as E3  <<(T,blue) item  def>> [[psysml:373f36dd-9125-4f4d-9beb-8d6cd21e1469 ]] \r\n",
       "def \"<i>B</i>\" as E4  <<(T,blue) item  def>> [[psysml:7d838d86-0408-4401-9cbf-32b733f3993a ]] \r\n",
       "rec def \"C\" as E5  <<(T,blue) part  def>> [[psysml:a2efb8df-7581-49ed-b24f-8030c12b0405 ]] {\r\n",
       "portin \"y: A, B \" as E6  <<(T,blue) reference>> [[psysml:4ca20137-091c-4af4-8b05-aa2379f8c92e ]] \r\n",
       "}\r\n",
       "def \"P\" as E7  <<(T,blue) port  def>> [[psysml:91f3ce36-c57b-44eb-a625-32b1f3011842 ]] \r\n",
       "}\r\n",
       "E2 - -:|> E3 [[psysml:2d349f36-3ef3-481f-a80c-9f5be02d82e3 ]] \r\n",
       "@enduml\r\n",
       "\n",
       "PlantUML version 1.2020.13(Sat Jun 13 12:26:38 UTC 2020)\n",
       "(EPL source distribution)\n",
       "Java Runtime: OpenJDK Runtime Environment\n",
       "JVM: OpenJDK 64-Bit Server VM\n",
       "Default Encoding: UTF-8\n",
       "Language: en\n",
       "Country: null\n",
       "--></g></svg>"
      ]
     },
     "execution_count": 40,
     "metadata": {},
     "output_type": "execute_result"
    }
   ],
   "source": [
    "%viz --style=\"DEFAULT\" --view=\"Interconnection\" \"ItemTest\""
   ]
  },
  {
   "cell_type": "code",
   "execution_count": 41,
   "id": "2886e901",
   "metadata": {
    "execution": {
     "iopub.execute_input": "2022-04-22T09:48:26.149477Z",
     "iopub.status.busy": "2022-04-22T09:48:26.149123Z",
     "iopub.status.idle": "2022-04-22T09:48:26.153522Z",
     "shell.execute_reply": "2022-04-22T09:48:26.153776Z"
    }
   },
   "outputs": [
    {
     "data": {
      "image/svg+xml": [
       "<?xml version=\"1.0\" encoding=\"UTF-8\" standalone=\"no\"?><svg xmlns=\"http://www.w3.org/2000/svg\" xmlns:xlink=\"http://www.w3.org/1999/xlink\" contentScriptType=\"application/ecmascript\" contentStyleType=\"text/css\" height=\"12px\" preserveAspectRatio=\"none\" style=\"width:12px;height:12px;\" version=\"1.1\" viewBox=\"0 0 12 12\" width=\"12px\" zoomAndPan=\"magnify\"><defs/><g><!--MD5=[388f21188e31bfdd97050473b19af356]\n",
       "@startuml\r\n",
       "skinparam ranksep 8\r\n",
       "skinparam monochrome true\r\n",
       "skinparam classbackgroundcolor white\r\n",
       "skinparam shadowing false\r\n",
       "skinparam wrapWidth 300\r\n",
       "hide circle\r\n",
       "\r\n",
       "@enduml\r\n",
       "\n",
       "PlantUML version 1.2020.13(Sat Jun 13 12:26:38 UTC 2020)\n",
       "(EPL source distribution)\n",
       "Java Runtime: OpenJDK Runtime Environment\n",
       "JVM: OpenJDK 64-Bit Server VM\n",
       "Default Encoding: UTF-8\n",
       "Language: en\n",
       "Country: null\n",
       "--></g></svg>"
      ]
     },
     "execution_count": 41,
     "metadata": {},
     "output_type": "execute_result"
    }
   ],
   "source": [
    "%viz --style=\"DEFAULT\" --view=\"Action\" \"ItemTest\""
   ]
  },
  {
   "cell_type": "code",
   "execution_count": 42,
   "id": "f49ed6e4",
   "metadata": {
    "execution": {
     "iopub.execute_input": "2022-04-22T09:48:26.203809Z",
     "iopub.status.busy": "2022-04-22T09:48:26.203493Z",
     "iopub.status.idle": "2022-04-22T09:48:26.208311Z",
     "shell.execute_reply": "2022-04-22T09:48:26.208148Z"
    }
   },
   "outputs": [
    {
     "data": {
      "image/svg+xml": [
       "<?xml version=\"1.0\" encoding=\"UTF-8\" standalone=\"no\"?><svg xmlns=\"http://www.w3.org/2000/svg\" xmlns:xlink=\"http://www.w3.org/1999/xlink\" contentScriptType=\"application/ecmascript\" contentStyleType=\"text/css\" height=\"12px\" preserveAspectRatio=\"none\" style=\"width:12px;height:12px;\" version=\"1.1\" viewBox=\"0 0 12 12\" width=\"12px\" zoomAndPan=\"magnify\"><defs/><g><!--MD5=[0b72472770326784bf6c2b53246e1e64]\n",
       "@startuml\r\n",
       "skinparam roundcorner 20\r\n",
       "skinparam BoxPadding 20\r\n",
       "skinparam SequenceBoxBackgroundColor #white\r\n",
       "skinparam style strictuml\r\n",
       "skinparam maxMessageSize 100\r\n",
       "skinparam monochrome true\r\n",
       "skinparam classbackgroundcolor white\r\n",
       "skinparam shadowing false\r\n",
       "skinparam wrapWidth 300\r\n",
       "hide circle\r\n",
       "\r\n",
       "@enduml\r\n",
       "\n",
       "PlantUML version 1.2020.13(Sat Jun 13 12:26:38 UTC 2020)\n",
       "(EPL source distribution)\n",
       "Java Runtime: OpenJDK Runtime Environment\n",
       "JVM: OpenJDK 64-Bit Server VM\n",
       "Default Encoding: UTF-8\n",
       "Language: en\n",
       "Country: null\n",
       "--></g></svg>"
      ]
     },
     "execution_count": 42,
     "metadata": {},
     "output_type": "execute_result"
    }
   ],
   "source": [
    "%viz --style=\"DEFAULT\" --view=\"Sequence\" \"ItemTest\""
   ]
  },
  {
   "cell_type": "code",
   "execution_count": 43,
   "id": "7fc8d2fc",
   "metadata": {
    "execution": {
     "iopub.execute_input": "2022-04-22T09:48:26.258800Z",
     "iopub.status.busy": "2022-04-22T09:48:26.258486Z",
     "iopub.status.idle": "2022-04-22T09:48:26.301785Z",
     "shell.execute_reply": "2022-04-22T09:48:26.299726Z"
    }
   },
   "outputs": [
    {
     "data": {
      "image/svg+xml": [
       "<?xml version=\"1.0\" encoding=\"UTF-8\" standalone=\"no\"?><svg xmlns=\"http://www.w3.org/2000/svg\" xmlns:xlink=\"http://www.w3.org/1999/xlink\" contentScriptType=\"application/ecmascript\" contentStyleType=\"text/css\" height=\"818px\" preserveAspectRatio=\"none\" style=\"width:270px;height:818px;\" version=\"1.1\" viewBox=\"0 0 270 818\" width=\"270px\" zoomAndPan=\"magnify\"><defs/><g><!--MD5=[fbc87193dbaf4d95561dea2c320d4a47]\n",
       "cluster E1--><a href=\"psysml:05177c11-5394-41b2-a0a0-71a4c06ed611\" target=\"_top\" title=\"psysml:05177c11-5394-41b2-a0a0-71a4c06ed611\" xlink:actuate=\"onRequest\" xlink:href=\"psysml:05177c11-5394-41b2-a0a0-71a4c06ed611\" xlink:show=\"new\" xlink:title=\"psysml:05177c11-5394-41b2-a0a0-71a4c06ed611\" xlink:type=\"simple\"><polygon fill=\"#FFFFFF\" points=\"16,6,83,6,90,28.2969,248,28.2969,248,806,16,806,16,6\" style=\"stroke: #000000; stroke-width: 1.5;\"/><line style=\"stroke: #000000; stroke-width: 1.5;\" x1=\"16\" x2=\"90\" y1=\"28.2969\" y2=\"28.2969\"/><text fill=\"#000000\" font-family=\"sans-serif\" font-size=\"14\" font-weight=\"bold\" lengthAdjust=\"spacingAndGlyphs\" textLength=\"61\" x=\"20\" y=\"20.9951\">ItemTest</text></a><!--MD5=[b4997ac47864f28c2f74865a473b2911]\n",
       "class E2--><a href=\"psysml:9b37ce48-aa06-4adb-ba3b-3b1410731947\" target=\"_top\" title=\"psysml:9b37ce48-aa06-4adb-ba3b-3b1410731947\" xlink:actuate=\"onRequest\" xlink:href=\"psysml:9b37ce48-aa06-4adb-ba3b-3b1410731947\" xlink:show=\"new\" xlink:title=\"psysml:9b37ce48-aa06-4adb-ba3b-3b1410731947\" xlink:type=\"simple\"><rect fill=\"#FFFFFF\" height=\"45.9375\" id=\"E2\" rx=\"10\" ry=\"10\" style=\"stroke: #383838; stroke-width: 1.5;\" width=\"43\" x=\"188.5\" y=\"148\"/><text fill=\"#000000\" font-family=\"sans-serif\" font-size=\"12\" font-style=\"italic\" lengthAdjust=\"spacingAndGlyphs\" textLength=\"41\" x=\"189.5\" y=\"164.1387\">«item»</text><text fill=\"#000000\" font-family=\"sans-serif\" font-size=\"12\" lengthAdjust=\"spacingAndGlyphs\" textLength=\"20\" x=\"198\" y=\"178.1074\">f: A</text><line style=\"stroke: #383838; stroke-width: 1.5;\" x1=\"189.5\" x2=\"230.5\" y1=\"185.9375\" y2=\"185.9375\"/></a><!--MD5=[09b614a08d8cba4a07c9adeb5e0fee81]\n",
       "class E3--><a href=\"psysml:373f36dd-9125-4f4d-9beb-8d6cd21e1469\" target=\"_top\" title=\"psysml:373f36dd-9125-4f4d-9beb-8d6cd21e1469\" xlink:actuate=\"onRequest\" xlink:href=\"psysml:373f36dd-9125-4f4d-9beb-8d6cd21e1469\" xlink:show=\"new\" xlink:title=\"psysml:373f36dd-9125-4f4d-9beb-8d6cd21e1469\" xlink:type=\"simple\"><rect fill=\"#FFFFFF\" height=\"45.9375\" id=\"E3\" style=\"stroke: #383838; stroke-width: 1.5;\" width=\"71\" x=\"96.5\" y=\"255\"/><text fill=\"#000000\" font-family=\"sans-serif\" font-size=\"12\" font-style=\"italic\" lengthAdjust=\"spacingAndGlyphs\" textLength=\"69\" x=\"97.5\" y=\"271.1387\">«item  def»</text><text fill=\"#000000\" font-family=\"sans-serif\" font-size=\"12\" lengthAdjust=\"spacingAndGlyphs\" textLength=\"8\" x=\"128\" y=\"285.1074\">A</text><line style=\"stroke: #383838; stroke-width: 1.5;\" x1=\"97.5\" x2=\"166.5\" y1=\"292.9375\" y2=\"292.9375\"/></a><!--MD5=[ebbe1d658d1005bcc118a6aa81145e00]\n",
       "class E4--><a href=\"psysml:130e11a2-3d5f-4cd9-b0cd-9225a7528360\" target=\"_top\" title=\"psysml:130e11a2-3d5f-4cd9-b0cd-9225a7528360\" xlink:actuate=\"onRequest\" xlink:href=\"psysml:130e11a2-3d5f-4cd9-b0cd-9225a7528360\" xlink:show=\"new\" xlink:title=\"psysml:130e11a2-3d5f-4cd9-b0cd-9225a7528360\" xlink:type=\"simple\"><rect fill=\"#FFFFFF\" height=\"45.9375\" id=\"E4\" rx=\"10\" ry=\"10\" style=\"stroke: #383838; stroke-width: 1.5;\" width=\"43\" x=\"45.5\" y=\"438\"/><text fill=\"#000000\" font-family=\"sans-serif\" font-size=\"12\" font-style=\"italic\" lengthAdjust=\"spacingAndGlyphs\" textLength=\"41\" x=\"46.5\" y=\"454.1387\">«item»</text><text fill=\"#000000\" font-family=\"sans-serif\" font-size=\"12\" lengthAdjust=\"spacingAndGlyphs\" textLength=\"24\" x=\"53\" y=\"468.1074\">b: B</text><line style=\"stroke: #383838; stroke-width: 1.5;\" x1=\"46.5\" x2=\"87.5\" y1=\"475.9375\" y2=\"475.9375\"/></a><!--MD5=[270fce915f116d4de14055a7c1d9a0f3]\n",
       "class E5--><a href=\"psysml:80ae9a50-ac1f-4423-b935-68d8f5716f01\" target=\"_top\" title=\"psysml:80ae9a50-ac1f-4423-b935-68d8f5716f01\" xlink:actuate=\"onRequest\" xlink:href=\"psysml:80ae9a50-ac1f-4423-b935-68d8f5716f01\" xlink:show=\"new\" xlink:title=\"psysml:80ae9a50-ac1f-4423-b935-68d8f5716f01\" xlink:type=\"simple\"><rect fill=\"#FFFFFF\" height=\"45.9375\" id=\"E5\" rx=\"10\" ry=\"10\" style=\"stroke: #383838; stroke-width: 1.5;\" width=\"42\" x=\"151\" y=\"362\"/><text fill=\"#000000\" font-family=\"sans-serif\" font-size=\"12\" font-style=\"italic\" lengthAdjust=\"spacingAndGlyphs\" textLength=\"40\" x=\"152\" y=\"378.1387\">«part»</text><text fill=\"#000000\" font-family=\"sans-serif\" font-size=\"12\" lengthAdjust=\"spacingAndGlyphs\" textLength=\"23\" x=\"158.5\" y=\"392.1074\">c: C</text><line style=\"stroke: #383838; stroke-width: 1.5;\" x1=\"152\" x2=\"192\" y1=\"399.9375\" y2=\"399.9375\"/></a><!--MD5=[60a26617385b1d2d0262a64233df1f8d]\n",
       "class E6--><a href=\"psysml:7d838d86-0408-4401-9cbf-32b733f3993a\" target=\"_top\" title=\"psysml:7d838d86-0408-4401-9cbf-32b733f3993a\" xlink:actuate=\"onRequest\" xlink:href=\"psysml:7d838d86-0408-4401-9cbf-32b733f3993a\" xlink:show=\"new\" xlink:title=\"psysml:7d838d86-0408-4401-9cbf-32b733f3993a\" xlink:type=\"simple\"><rect fill=\"#FFFFFF\" height=\"45.9375\" id=\"E6\" style=\"stroke: #383838; stroke-width: 1.5;\" width=\"71\" x=\"112.5\" y=\"637\"/><text fill=\"#000000\" font-family=\"sans-serif\" font-size=\"12\" font-style=\"italic\" lengthAdjust=\"spacingAndGlyphs\" textLength=\"69\" x=\"113.5\" y=\"653.1387\">«item  def»</text><text fill=\"#000000\" font-family=\"sans-serif\" font-size=\"12\" font-style=\"italic\" lengthAdjust=\"spacingAndGlyphs\" textLength=\"8\" x=\"144\" y=\"667.1074\">B</text><line style=\"stroke: #383838; stroke-width: 1.5;\" x1=\"113.5\" x2=\"182.5\" y1=\"674.9375\" y2=\"674.9375\"/></a><!--MD5=[2156ba9850f5573cc1fc38a6a4b2f02b]\n",
       "class E7--><a href=\"psysml:d06b8fcb-8cda-493c-875d-bdf01ed715df\" target=\"_top\" title=\"psysml:d06b8fcb-8cda-493c-875d-bdf01ed715df\" xlink:actuate=\"onRequest\" xlink:href=\"psysml:d06b8fcb-8cda-493c-875d-bdf01ed715df\" xlink:show=\"new\" xlink:title=\"psysml:d06b8fcb-8cda-493c-875d-bdf01ed715df\" xlink:type=\"simple\"><rect fill=\"#FFFFFF\" height=\"45.9375\" id=\"E7\" rx=\"10\" ry=\"10\" style=\"stroke: #383838; stroke-width: 1.5;\" width=\"42\" x=\"159\" y=\"744\"/><text fill=\"#000000\" font-family=\"sans-serif\" font-size=\"12\" font-style=\"italic\" lengthAdjust=\"spacingAndGlyphs\" textLength=\"40\" x=\"160\" y=\"760.1387\">«part»</text><text fill=\"#000000\" font-family=\"sans-serif\" font-size=\"12\" font-style=\"italic\" lengthAdjust=\"spacingAndGlyphs\" textLength=\"8\" x=\"166\" y=\"774.1074\">a</text><text fill=\"#000000\" font-family=\"sans-serif\" font-size=\"12\" lengthAdjust=\"spacingAndGlyphs\" textLength=\"16\" x=\"174\" y=\"774.1074\">: A</text><line style=\"stroke: #383838; stroke-width: 1.5;\" x1=\"160\" x2=\"200\" y1=\"781.9375\" y2=\"781.9375\"/></a><!--MD5=[b9389687b975829384b498ac4b7476b2]\n",
       "class E8--><a href=\"psysml:a2efb8df-7581-49ed-b24f-8030c12b0405\" target=\"_top\" title=\"psysml:a2efb8df-7581-49ed-b24f-8030c12b0405\" xlink:actuate=\"onRequest\" xlink:href=\"psysml:a2efb8df-7581-49ed-b24f-8030c12b0405\" xlink:show=\"new\" xlink:title=\"psysml:a2efb8df-7581-49ed-b24f-8030c12b0405\" xlink:type=\"simple\"><rect fill=\"#FFFFFF\" height=\"45.9375\" id=\"E8\" style=\"stroke: #383838; stroke-width: 1.5;\" width=\"70\" x=\"113\" y=\"514\"/><text fill=\"#000000\" font-family=\"sans-serif\" font-size=\"12\" font-style=\"italic\" lengthAdjust=\"spacingAndGlyphs\" textLength=\"68\" x=\"114\" y=\"530.1387\">«part  def»</text><text fill=\"#000000\" font-family=\"sans-serif\" font-size=\"12\" lengthAdjust=\"spacingAndGlyphs\" textLength=\"8\" x=\"144\" y=\"544.1074\">C</text><line style=\"stroke: #383838; stroke-width: 1.5;\" x1=\"114\" x2=\"182\" y1=\"551.9375\" y2=\"551.9375\"/></a><!--MD5=[fd4143e9d270a159db93a4ea2a975926]\n",
       "class E9--><a href=\"psysml:91f3ce36-c57b-44eb-a625-32b1f3011842\" target=\"_top\" title=\"psysml:91f3ce36-c57b-44eb-a625-32b1f3011842\" xlink:actuate=\"onRequest\" xlink:href=\"psysml:91f3ce36-c57b-44eb-a625-32b1f3011842\" xlink:show=\"new\" xlink:title=\"psysml:91f3ce36-c57b-44eb-a625-32b1f3011842\" xlink:type=\"simple\"><rect fill=\"#FFFFFF\" height=\"45.9375\" id=\"E9\" style=\"stroke: #383838; stroke-width: 1.5;\" width=\"70\" x=\"64\" y=\"41\"/><text fill=\"#000000\" font-family=\"sans-serif\" font-size=\"12\" font-style=\"italic\" lengthAdjust=\"spacingAndGlyphs\" textLength=\"68\" x=\"65\" y=\"57.1387\">«port  def»</text><text fill=\"#000000\" font-family=\"sans-serif\" font-size=\"12\" lengthAdjust=\"spacingAndGlyphs\" textLength=\"8\" x=\"95\" y=\"71.1074\">P</text><line style=\"stroke: #383838; stroke-width: 1.5;\" x1=\"65\" x2=\"133\" y1=\"78.9375\" y2=\"78.9375\"/></a><!--MD5=[96f4274e9e20536e775497830990834d]\n",
       "class E10--><a href=\"psysml:5a8db81a-c733-4c6f-be90-4f9ffe214caa\" target=\"_top\" title=\"psysml:5a8db81a-c733-4c6f-be90-4f9ffe214caa\" xlink:actuate=\"onRequest\" xlink:href=\"psysml:5a8db81a-c733-4c6f-be90-4f9ffe214caa\" xlink:show=\"new\" xlink:title=\"psysml:5a8db81a-c733-4c6f-be90-4f9ffe214caa\" xlink:type=\"simple\"><rect fill=\"#FFFFFF\" height=\"45.9375\" id=\"E10\" rx=\"10\" ry=\"10\" style=\"stroke: #383838; stroke-width: 1.5;\" width=\"43\" x=\"32.5\" y=\"148\"/><text fill=\"#000000\" font-family=\"sans-serif\" font-size=\"12\" font-style=\"italic\" lengthAdjust=\"spacingAndGlyphs\" textLength=\"41\" x=\"33.5\" y=\"164.1387\">«item»</text><text fill=\"#000000\" font-family=\"sans-serif\" font-size=\"12\" lengthAdjust=\"spacingAndGlyphs\" textLength=\"32\" x=\"36\" y=\"178.1074\">a1: A</text><line style=\"stroke: #383838; stroke-width: 1.5;\" x1=\"33.5\" x2=\"74.5\" y1=\"185.9375\" y2=\"185.9375\"/></a><!--MD5=[1dd1bfd58a279cf63c5f349dbc8fc6a1]\n",
       "class E11--><a href=\"psysml:50797105-d3dc-4af6-be0e-986a23cb6cc7\" target=\"_top\" title=\"psysml:50797105-d3dc-4af6-be0e-986a23cb6cc7\" xlink:actuate=\"onRequest\" xlink:href=\"psysml:50797105-d3dc-4af6-be0e-986a23cb6cc7\" xlink:show=\"new\" xlink:title=\"psysml:50797105-d3dc-4af6-be0e-986a23cb6cc7\" xlink:type=\"simple\"><rect fill=\"#FFFFFF\" height=\"45.9375\" id=\"E11\" rx=\"10\" ry=\"10\" style=\"stroke: #383838; stroke-width: 1.5;\" width=\"43\" x=\"110.5\" y=\"148\"/><text fill=\"#000000\" font-family=\"sans-serif\" font-size=\"12\" font-style=\"italic\" lengthAdjust=\"spacingAndGlyphs\" textLength=\"41\" x=\"111.5\" y=\"164.1387\">«item»</text><text fill=\"#000000\" font-family=\"sans-serif\" font-size=\"12\" lengthAdjust=\"spacingAndGlyphs\" textLength=\"32\" x=\"114\" y=\"178.1074\">a2: A</text><line style=\"stroke: #383838; stroke-width: 1.5;\" x1=\"111.5\" x2=\"152.5\" y1=\"185.9375\" y2=\"185.9375\"/></a><!--MD5=[2720a5a1f2c3fca2055b230370638851]\n",
       "link E2 to E3--><a href=\"psysml:2d349f36-3ef3-481f-a80c-9f5be02d82e3\" target=\"_top\" title=\"psysml:2d349f36-3ef3-481f-a80c-9f5be02d82e3\" xlink:actuate=\"onRequest\" xlink:href=\"psysml:2d349f36-3ef3-481f-a80c-9f5be02d82e3\" xlink:show=\"new\" xlink:title=\"psysml:2d349f36-3ef3-481f-a80c-9f5be02d82e3\" xlink:type=\"simple\"><path d=\"M193.65,194.01 C184.14,206.81 171.89,223.3 160.82,238.2 \" fill=\"none\" id=\"E2-&gt;E3\" style=\"stroke: #383838; stroke-width: 1.0;\"/><polygon fill=\"#FFFFFF\" points=\"148.6,254.66,154.3195,235.2361,165.5543,243.5896,148.6,254.66\" style=\"stroke: #383838; stroke-width: 1.0;\"/><ellipse cx=\"159.3256\" cy=\"231.8554\" fill=\"#383838\" rx=\"2\" ry=\"2\" style=\"stroke: #383838; stroke-width: 1.0;\"/><ellipse cx=\"167.3504\" cy=\"237.8221\" fill=\"#383838\" rx=\"2\" ry=\"2\" style=\"stroke: #383838; stroke-width: 1.0;\"/></a><!--MD5=[4672eba38e49728da53d11aeb285b987]\n",
       "reverse link E3 to E4--><a href=\"psysml:1fc0b9c6-f917-494b-8539-e8a30a151a21\" target=\"_top\" title=\"psysml:1fc0b9c6-f917-494b-8539-e8a30a151a21\" xlink:actuate=\"onRequest\" xlink:href=\"psysml:1fc0b9c6-f917-494b-8539-e8a30a151a21\" xlink:show=\"new\" xlink:title=\"psysml:1fc0b9c6-f917-494b-8539-e8a30a151a21\" xlink:type=\"simple\"><path d=\"M97.11,310.9 C84.08,325.11 70.81,342.94 64,362 C55.12,386.85 58.09,417.53 61.82,437.88 \" fill=\"none\" id=\"E3&lt;-E4\" style=\"stroke: #383838; stroke-width: 1.0;\"/><polygon fill=\"#383838\" points=\"106.46,301.23,99.4153,302.7703,98.1277,309.8655,105.1724,308.3252,106.46,301.23\" style=\"stroke: #383838; stroke-width: 1.0;\"/><text fill=\"#000000\" font-family=\"sans-serif\" font-size=\"13\" lengthAdjust=\"spacingAndGlyphs\" textLength=\"8\" x=\"51.3529\" y=\"426.744\">1</text></a><!--MD5=[191cde3d490a3f6d7bb551fe3ddca469]\n",
       "reverse link E3 to E5--><a href=\"psysml:1188b8bd-fcbe-4041-bfa3-3c6757b772de\" target=\"_top\" title=\"psysml:1188b8bd-fcbe-4041-bfa3-3c6757b772de\" xlink:actuate=\"onRequest\" xlink:href=\"psysml:1188b8bd-fcbe-4041-bfa3-3c6757b772de\" xlink:show=\"new\" xlink:title=\"psysml:1188b8bd-fcbe-4041-bfa3-3c6757b772de\" xlink:type=\"simple\"><path d=\"M145.17,313.57 C151.2,329.39 158.16,347.68 163.49,361.66 \" fill=\"none\" id=\"E3&lt;-E5\" style=\"stroke: #383838; stroke-width: 1.0;\"/><polygon fill=\"#FFFFFF\" points=\"140.39,301.01,138.7866,308.0406,144.6598,312.2247,146.2631,305.1941,140.39,301.01\" style=\"stroke: #383838; stroke-width: 1.0;\"/><text fill=\"#000000\" font-family=\"sans-serif\" font-size=\"13\" lengthAdjust=\"spacingAndGlyphs\" textLength=\"8\" x=\"152.2843\" y=\"350.8492\">1</text></a><!--MD5=[79568f1e445c3877b6a54524624ccc7d]\n",
       "link E4 to E6--><a href=\"psysml:b444802f-fd06-4322-964d-2bd41504258e\" target=\"_top\" title=\"psysml:b444802f-fd06-4322-964d-2bd41504258e\" xlink:actuate=\"onRequest\" xlink:href=\"psysml:b444802f-fd06-4322-964d-2bd41504258e\" xlink:show=\"new\" xlink:title=\"psysml:b444802f-fd06-4322-964d-2bd41504258e\" xlink:type=\"simple\"><path d=\"M72.25,484.22 C77.31,504.36 85.72,534.68 96,560 C104.15,580.08 115.08,601.47 124.82,619.21 \" fill=\"none\" id=\"E4-&gt;E6\" style=\"stroke: #383838; stroke-width: 1.0;\"/><polygon fill=\"#FFFFFF\" points=\"134.72,636.8,119.2979,623.6791,131.4967,616.8097,134.72,636.8\" style=\"stroke: #383838; stroke-width: 1.0;\"/><ellipse cx=\"118.2438\" cy=\"617.7311\" fill=\"#383838\" rx=\"2\" ry=\"2\" style=\"stroke: #383838; stroke-width: 1.0;\"/><ellipse cx=\"126.9572\" cy=\"612.8244\" fill=\"#383838\" rx=\"2\" ry=\"2\" style=\"stroke: #383838; stroke-width: 1.0;\"/></a><!--MD5=[3f50a3473f1dfb74d3f76443e03635af]\n",
       "reverse link E6 to E7--><a href=\"psysml:fe8fc95e-22bb-46d1-b0fd-61d73c45474f\" target=\"_top\" title=\"psysml:fe8fc95e-22bb-46d1-b0fd-61d73c45474f\" xlink:actuate=\"onRequest\" xlink:href=\"psysml:fe8fc95e-22bb-46d1-b0fd-61d73c45474f\" xlink:show=\"new\" xlink:title=\"psysml:fe8fc95e-22bb-46d1-b0fd-61d73c45474f\" xlink:type=\"simple\"><path d=\"M158.54,695.57 C163.36,711.39 168.93,729.68 173.19,743.66 \" fill=\"none\" id=\"E6&lt;-E7\" style=\"stroke: #383838; stroke-width: 1.0;\"/><polygon fill=\"#383838\" points=\"154.71,683.01,152.6319,689.9152,158.2066,694.4893,160.2847,687.5841,154.71,683.01\" style=\"stroke: #383838; stroke-width: 1.0;\"/><text fill=\"#000000\" font-family=\"sans-serif\" font-size=\"13\" lengthAdjust=\"spacingAndGlyphs\" textLength=\"8\" x=\"162.4199\" y=\"732.8492\">1</text></a><!--MD5=[14ccda38c055a5c0da953d572bc50960]\n",
       "link E7 to E3--><a href=\"psysml:599ea15b-bb0f-4f03-a502-f2e1a3a71e91\" target=\"_top\" title=\"psysml:599ea15b-bb0f-4f03-a502-f2e1a3a71e91\" xlink:actuate=\"onRequest\" xlink:href=\"psysml:599ea15b-bb0f-4f03-a502-f2e1a3a71e91\" xlink:show=\"new\" xlink:title=\"psysml:599ea15b-bb0f-4f03-a502-f2e1a3a71e91\" xlink:type=\"simple\"><path d=\"M197.41,743.63 C211.5,723.27 229,691.78 229,661 C229,384 229,384 229,384 C229,353.7 206.93,328.42 183.85,310.26 \" fill=\"none\" id=\"E7-&gt;E3\" style=\"stroke: #383838; stroke-width: 1.0;\"/><polygon fill=\"#FFFFFF\" points=\"167.57,298.59,187.0929,303.9617,178.9414,315.3438,167.57,298.59\" style=\"stroke: #383838; stroke-width: 1.0;\"/><ellipse cx=\"190.5626\" cy=\"308.9066\" fill=\"#383838\" rx=\"2\" ry=\"2\" style=\"stroke: #383838; stroke-width: 1.0;\"/><ellipse cx=\"184.7401\" cy=\"317.0367\" fill=\"#383838\" rx=\"2\" ry=\"2\" style=\"stroke: #383838; stroke-width: 1.0;\"/></a><!--MD5=[dfaffb906826c3e5aca635516100ff21]\n",
       "link E5 to E8--><a href=\"psysml:ebb03462-10dd-4a39-86ac-c1648f226bb6\" target=\"_top\" title=\"psysml:ebb03462-10dd-4a39-86ac-c1648f226bb6\" xlink:actuate=\"onRequest\" xlink:href=\"psysml:ebb03462-10dd-4a39-86ac-c1648f226bb6\" xlink:show=\"new\" xlink:title=\"psysml:ebb03462-10dd-4a39-86ac-c1648f226bb6\" xlink:type=\"simple\"><path d=\"M168.46,408.13 C164.86,430.62 159.2,466.01 154.74,493.87 \" fill=\"none\" id=\"E5-&gt;E8\" style=\"stroke: #383838; stroke-width: 1.0;\"/><polygon fill=\"#FFFFFF\" points=\"151.56,513.78,147.6458,493.9135,161.4704,496.1226,151.56,513.78\" style=\"stroke: #383838; stroke-width: 1.0;\"/><ellipse cx=\"150.5202\" cy=\"488.6005\" fill=\"#383838\" rx=\"2\" ry=\"2\" style=\"stroke: #383838; stroke-width: 1.0;\"/><ellipse cx=\"160.3949\" cy=\"490.1784\" fill=\"#383838\" rx=\"2\" ry=\"2\" style=\"stroke: #383838; stroke-width: 1.0;\"/></a><!--MD5=[03c8294790d3c57651a1993cecff665f]\n",
       "reverse link E8 to E3--><a href=\"psysml:4ca20137-091c-4af4-8b05-aa2379f8c92e\" target=\"_top\" title=\"psysml:4ca20137-091c-4af4-8b05-aa2379f8c92e\" xlink:actuate=\"onRequest\" xlink:href=\"psysml:4ca20137-091c-4af4-8b05-aa2379f8c92e\" xlink:show=\"new\" xlink:title=\"psysml:4ca20137-091c-4af4-8b05-aa2379f8c92e\" xlink:type=\"simple\"><path d=\"M140.02,501.22 C134.57,475.6 127.84,439.84 125,408 C123.18,387.64 124.14,382.43 125,362 C125.87,341.34 127.95,317.86 129.62,301.16 \" fill=\"none\" id=\"E8&lt;-E3\" style=\"stroke: #383838; stroke-width: 1.0;\"/><polygon fill=\"#FFFFFF\" points=\"142.81,513.96,145.4388,507.2451,140.2515,502.2359,137.6227,508.9508,142.81,513.96\" style=\"stroke: #383838; stroke-width: 1.0;\"/><text fill=\"#000000\" font-family=\"sans-serif\" font-size=\"13\" lengthAdjust=\"spacingAndGlyphs\" textLength=\"7\" x=\"126\" y=\"389.5669\">y</text></a><!--MD5=[0d75d2178373a6a4568e5dc728f58aef]\n",
       "reverse link E8 to E6--><a href=\"psysml:4ca20137-091c-4af4-8b05-aa2379f8c92e\" target=\"_top\" title=\"psysml:4ca20137-091c-4af4-8b05-aa2379f8c92e\" xlink:actuate=\"onRequest\" xlink:href=\"psysml:4ca20137-091c-4af4-8b05-aa2379f8c92e\" xlink:show=\"new\" xlink:title=\"psysml:4ca20137-091c-4af4-8b05-aa2379f8c92e\" xlink:type=\"simple\"><path d=\"M148,573.22 C148,593.81 148,619.16 148,636.95 \" fill=\"none\" id=\"E8&lt;-E6\" style=\"stroke: #383838; stroke-width: 1.0;\"/><polygon fill=\"#FFFFFF\" points=\"148,560.19,144,566.19,148,572.19,152,566.19,148,560.19\" style=\"stroke: #383838; stroke-width: 1.0;\"/><text fill=\"#000000\" font-family=\"sans-serif\" font-size=\"13\" lengthAdjust=\"spacingAndGlyphs\" textLength=\"7\" x=\"149\" y=\"603.0669\">y</text></a><!--MD5=[23ac544a70576c3e717098101004234c]\n",
       "reverse link E9 to E10--><a href=\"psysml:bbec5841-3ffd-488b-b643-01adfe752a25\" target=\"_top\" title=\"psysml:bbec5841-3ffd-488b-b643-01adfe752a25\" xlink:actuate=\"onRequest\" xlink:href=\"psysml:bbec5841-3ffd-488b-b643-01adfe752a25\" xlink:show=\"new\" xlink:title=\"psysml:bbec5841-3ffd-488b-b643-01adfe752a25\" xlink:type=\"simple\"><path d=\"M84.39,99.1 C77.56,115.03 69.63,133.54 63.58,147.66 \" fill=\"none\" id=\"E9&lt;-E10\" style=\"stroke: #383838; stroke-width: 1.0;\"/><polygon fill=\"#FFFFFF\" points=\"89.57,87.01,83.5327,90.9535,84.8509,98.0431,90.8882,94.0996,89.57,87.01\" style=\"stroke: #383838; stroke-width: 1.0;\"/><text fill=\"#000000\" font-family=\"sans-serif\" font-size=\"13\" lengthAdjust=\"spacingAndGlyphs\" textLength=\"8\" x=\"57.0099\" y=\"136.8492\">1</text></a><!--MD5=[feeac5eb423634930294aa81f2d25a4c]\n",
       "link E10 to E3--><a href=\"psysml:fb12afbf-9138-40ff-bf3b-75b81b096774\" target=\"_top\" title=\"psysml:fb12afbf-9138-40ff-bf3b-75b81b096774\" xlink:actuate=\"onRequest\" xlink:href=\"psysml:fb12afbf-9138-40ff-bf3b-75b81b096774\" xlink:show=\"new\" xlink:title=\"psysml:fb12afbf-9138-40ff-bf3b-75b81b096774\" xlink:type=\"simple\"><path d=\"M70.35,194.01 C79.86,206.81 92.11,223.3 103.18,238.2 \" fill=\"none\" id=\"E10-&gt;E3\" style=\"stroke: #383838; stroke-width: 1.0;\"/><polygon fill=\"#FFFFFF\" points=\"115.4,254.66,98.4457,243.5896,109.6805,235.2361,115.4,254.66\" style=\"stroke: #383838; stroke-width: 1.0;\"/><ellipse cx=\"96.6496\" cy=\"237.8221\" fill=\"#383838\" rx=\"2\" ry=\"2\" style=\"stroke: #383838; stroke-width: 1.0;\"/><ellipse cx=\"104.6744\" cy=\"231.8554\" fill=\"#383838\" rx=\"2\" ry=\"2\" style=\"stroke: #383838; stroke-width: 1.0;\"/></a><!--MD5=[1fc04a95fd77ad5ce46c1a3027516051]\n",
       "reverse link E9 to E11--><a href=\"psysml:20edee2c-da5c-4ff9-9cec-febcc5f58071\" target=\"_top\" title=\"psysml:20edee2c-da5c-4ff9-9cec-febcc5f58071\" xlink:actuate=\"onRequest\" xlink:href=\"psysml:20edee2c-da5c-4ff9-9cec-febcc5f58071\" xlink:show=\"new\" xlink:title=\"psysml:20edee2c-da5c-4ff9-9cec-febcc5f58071\" xlink:type=\"simple\"><path d=\"M109.87,99.57 C114.84,115.39 120.59,133.68 124.98,147.66 \" fill=\"none\" id=\"E9&lt;-E11\" style=\"stroke: #383838; stroke-width: 1.0;\"/><polygon fill=\"#FFFFFF\" points=\"105.92,87.01,103.9044,93.9337,109.5203,98.4572,111.5359,91.5335,105.92,87.01\" style=\"stroke: #383838; stroke-width: 1.0;\"/><text fill=\"#000000\" font-family=\"sans-serif\" font-size=\"13\" lengthAdjust=\"spacingAndGlyphs\" textLength=\"8\" x=\"114.1561\" y=\"136.8492\">1</text></a><!--MD5=[0517f1ce58c4d5483948f93845c45e26]\n",
       "link E11 to E3--><a href=\"psysml:6098403c-f8e4-4c64-8bc6-7f6e4aceb826\" target=\"_top\" title=\"psysml:6098403c-f8e4-4c64-8bc6-7f6e4aceb826\" xlink:actuate=\"onRequest\" xlink:href=\"psysml:6098403c-f8e4-4c64-8bc6-7f6e4aceb826\" xlink:show=\"new\" xlink:title=\"psysml:6098403c-f8e4-4c64-8bc6-7f6e4aceb826\" xlink:type=\"simple\"><path d=\"M132,194.01 C132,205.69 132,220.46 132,234.28 \" fill=\"none\" id=\"E11-&gt;E3\" style=\"stroke: #383838; stroke-width: 1.0;\"/><polygon fill=\"#FFFFFF\" points=\"132,254.66,125,235.66,139,235.66,132,254.66\" style=\"stroke: #383838; stroke-width: 1.0;\"/><ellipse cx=\"127\" cy=\"229.96\" fill=\"#383838\" rx=\"2\" ry=\"2\" style=\"stroke: #383838; stroke-width: 1.0;\"/><ellipse cx=\"137\" cy=\"229.96\" fill=\"#383838\" rx=\"2\" ry=\"2\" style=\"stroke: #383838; stroke-width: 1.0;\"/></a><!--MD5=[eb81481829f36f073cec8cfb2914d9e8]\n",
       "@startuml\r\n",
       "skinparam monochrome true\r\n",
       "skinparam classbackgroundcolor white\r\n",
       "skinparam shadowing false\r\n",
       "skinparam wrapWidth 300\r\n",
       "hide circle\r\n",
       "\r\n",
       "package \"ItemTest\" as E1  [[psysml:05177c11-5394-41b2-a0a0-71a4c06ed611 ]]  {\r\n",
       "comp usage \"f: A \" as E2  <<(T,blue) item>> [[psysml:9b37ce48-aa06-4adb-ba3b-3b1410731947 ]] {\r\n",
       "}\r\n",
       "comp def \"A\" as E3  <<(T,blue) item  def>> [[psysml:373f36dd-9125-4f4d-9beb-8d6cd21e1469 ]] {\r\n",
       "}\r\n",
       "comp usage \"b: B \" as E4  <<(T,blue) item>> [[psysml:130e11a2-3d5f-4cd9-b0cd-9225a7528360 ]] {\r\n",
       "}\r\n",
       "comp usage \"c: C \" as E5  <<(T,blue) part>> [[psysml:80ae9a50-ac1f-4423-b935-68d8f5716f01 ]] {\r\n",
       "}\r\n",
       "comp def \"<i>B</i>\" as E6  <<(T,blue) item  def>> [[psysml:7d838d86-0408-4401-9cbf-32b733f3993a ]] {\r\n",
       "}\r\n",
       "comp usage \"<i>a</i>: A \" as E7  <<(T,blue) part>> [[psysml:d06b8fcb-8cda-493c-875d-bdf01ed715df ]] {\r\n",
       "}\r\n",
       "comp def \"C\" as E8  <<(T,blue) part  def>> [[psysml:a2efb8df-7581-49ed-b24f-8030c12b0405 ]] {\r\n",
       "}\r\n",
       "comp def \"P\" as E9  <<(T,blue) port  def>> [[psysml:91f3ce36-c57b-44eb-a625-32b1f3011842 ]] {\r\n",
       "}\r\n",
       "comp usage \"a1: A \" as E10  <<(T,blue) item>> [[psysml:5a8db81a-c733-4c6f-be90-4f9ffe214caa ]] {\r\n",
       "}\r\n",
       "comp usage \"a2: A \" as E11  <<(T,blue) item>> [[psysml:50797105-d3dc-4af6-be0e-986a23cb6cc7 ]] {\r\n",
       "}\r\n",
       "}\r\n",
       "E2 - -:|> E3 [[psysml:2d349f36-3ef3-481f-a80c-9f5be02d82e3 ]] \r\n",
       "E3 *- - \"1\"E4 [[psysml:1fc0b9c6-f917-494b-8539-e8a30a151a21 ]] \r\n",
       "E3 o- - \"1\"E5 [[psysml:1188b8bd-fcbe-4041-bfa3-3c6757b772de ]] \r\n",
       "E4 - -:|> E6 [[psysml:b444802f-fd06-4322-964d-2bd41504258e ]] \r\n",
       "E6 *- - \"1\"E7 [[psysml:fe8fc95e-22bb-46d1-b0fd-61d73c45474f ]] \r\n",
       "E7 - -:|> E3 [[psysml:599ea15b-bb0f-4f03-a502-f2e1a3a71e91 ]] \r\n",
       "E5 - -:|> E8 [[psysml:ebb03462-10dd-4a39-86ac-c1648f226bb6 ]] \r\n",
       "E8 o- - E3 [[psysml:4ca20137-091c-4af4-8b05-aa2379f8c92e ]] : y\r\n",
       "E8 o- - E6 [[psysml:4ca20137-091c-4af4-8b05-aa2379f8c92e ]] : y\r\n",
       "E9 o- - \"1\"E10 [[psysml:bbec5841-3ffd-488b-b643-01adfe752a25 ]] \r\n",
       "E10 - -:|> E3 [[psysml:fb12afbf-9138-40ff-bf3b-75b81b096774 ]] \r\n",
       "E9 o- - \"1\"E11 [[psysml:20edee2c-da5c-4ff9-9cec-febcc5f58071 ]] \r\n",
       "E11 - -:|> E3 [[psysml:6098403c-f8e4-4c64-8bc6-7f6e4aceb826 ]] \r\n",
       "@enduml\r\n",
       "\n",
       "PlantUML version 1.2020.13(Sat Jun 13 12:26:38 UTC 2020)\n",
       "(EPL source distribution)\n",
       "Java Runtime: OpenJDK Runtime Environment\n",
       "JVM: OpenJDK 64-Bit Server VM\n",
       "Default Encoding: UTF-8\n",
       "Language: en\n",
       "Country: null\n",
       "--></g></svg>"
      ]
     },
     "execution_count": 43,
     "metadata": {},
     "output_type": "execute_result"
    }
   ],
   "source": [
    "%viz --style=\"DEFAULT\" --view=\"MIXED\" \"ItemTest\""
   ]
  },
  {
   "cell_type": "code",
   "execution_count": 44,
   "id": "01c2dae9",
   "metadata": {
    "execution": {
     "iopub.execute_input": "2022-04-22T09:48:26.350399Z",
     "iopub.status.busy": "2022-04-22T09:48:26.349901Z",
     "iopub.status.idle": "2022-04-22T09:48:26.386737Z",
     "shell.execute_reply": "2022-04-22T09:48:26.386360Z"
    }
   },
   "outputs": [
    {
     "data": {
      "image/svg+xml": [
       "<?xml version=\"1.0\" encoding=\"UTF-8\" standalone=\"no\"?><svg xmlns=\"http://www.w3.org/2000/svg\" xmlns:xlink=\"http://www.w3.org/1999/xlink\" contentScriptType=\"application/ecmascript\" contentStyleType=\"text/css\" height=\"818px\" preserveAspectRatio=\"none\" style=\"width:270px;height:818px;\" version=\"1.1\" viewBox=\"0 0 270 818\" width=\"270px\" zoomAndPan=\"magnify\"><defs/><g><!--MD5=[fbc87193dbaf4d95561dea2c320d4a47]\n",
       "cluster E1--><a href=\"psysml:05177c11-5394-41b2-a0a0-71a4c06ed611\" target=\"_top\" title=\"psysml:05177c11-5394-41b2-a0a0-71a4c06ed611\" xlink:actuate=\"onRequest\" xlink:href=\"psysml:05177c11-5394-41b2-a0a0-71a4c06ed611\" xlink:show=\"new\" xlink:title=\"psysml:05177c11-5394-41b2-a0a0-71a4c06ed611\" xlink:type=\"simple\"><polygon fill=\"#FFFFFF\" points=\"16,6,83,6,90,28.2969,248,28.2969,248,806,16,806,16,6\" style=\"stroke: #000000; stroke-width: 1.5;\"/><line style=\"stroke: #000000; stroke-width: 1.5;\" x1=\"16\" x2=\"90\" y1=\"28.2969\" y2=\"28.2969\"/><text fill=\"#000000\" font-family=\"sans-serif\" font-size=\"14\" font-weight=\"bold\" lengthAdjust=\"spacingAndGlyphs\" textLength=\"61\" x=\"20\" y=\"20.9951\">ItemTest</text></a><!--MD5=[b4997ac47864f28c2f74865a473b2911]\n",
       "class E2--><a href=\"psysml:9b37ce48-aa06-4adb-ba3b-3b1410731947\" target=\"_top\" title=\"psysml:9b37ce48-aa06-4adb-ba3b-3b1410731947\" xlink:actuate=\"onRequest\" xlink:href=\"psysml:9b37ce48-aa06-4adb-ba3b-3b1410731947\" xlink:show=\"new\" xlink:title=\"psysml:9b37ce48-aa06-4adb-ba3b-3b1410731947\" xlink:type=\"simple\"><rect fill=\"#FFFFFF\" height=\"45.9375\" id=\"E2\" rx=\"10\" ry=\"10\" style=\"stroke: #383838; stroke-width: 1.5;\" width=\"43\" x=\"188.5\" y=\"148\"/><text fill=\"#000000\" font-family=\"sans-serif\" font-size=\"12\" font-style=\"italic\" lengthAdjust=\"spacingAndGlyphs\" textLength=\"41\" x=\"189.5\" y=\"164.1387\">«item»</text><text fill=\"#000000\" font-family=\"sans-serif\" font-size=\"12\" lengthAdjust=\"spacingAndGlyphs\" textLength=\"20\" x=\"198\" y=\"178.1074\">f: A</text><line style=\"stroke: #383838; stroke-width: 1.5;\" x1=\"189.5\" x2=\"230.5\" y1=\"185.9375\" y2=\"185.9375\"/></a><!--MD5=[09b614a08d8cba4a07c9adeb5e0fee81]\n",
       "class E3--><a href=\"psysml:373f36dd-9125-4f4d-9beb-8d6cd21e1469\" target=\"_top\" title=\"psysml:373f36dd-9125-4f4d-9beb-8d6cd21e1469\" xlink:actuate=\"onRequest\" xlink:href=\"psysml:373f36dd-9125-4f4d-9beb-8d6cd21e1469\" xlink:show=\"new\" xlink:title=\"psysml:373f36dd-9125-4f4d-9beb-8d6cd21e1469\" xlink:type=\"simple\"><rect fill=\"#FFFFFF\" height=\"45.9375\" id=\"E3\" style=\"stroke: #383838; stroke-width: 1.5;\" width=\"71\" x=\"96.5\" y=\"255\"/><text fill=\"#000000\" font-family=\"sans-serif\" font-size=\"12\" font-style=\"italic\" lengthAdjust=\"spacingAndGlyphs\" textLength=\"69\" x=\"97.5\" y=\"271.1387\">«item  def»</text><text fill=\"#000000\" font-family=\"sans-serif\" font-size=\"12\" lengthAdjust=\"spacingAndGlyphs\" textLength=\"8\" x=\"128\" y=\"285.1074\">A</text><line style=\"stroke: #383838; stroke-width: 1.5;\" x1=\"97.5\" x2=\"166.5\" y1=\"292.9375\" y2=\"292.9375\"/></a><!--MD5=[ebbe1d658d1005bcc118a6aa81145e00]\n",
       "class E4--><a href=\"psysml:130e11a2-3d5f-4cd9-b0cd-9225a7528360\" target=\"_top\" title=\"psysml:130e11a2-3d5f-4cd9-b0cd-9225a7528360\" xlink:actuate=\"onRequest\" xlink:href=\"psysml:130e11a2-3d5f-4cd9-b0cd-9225a7528360\" xlink:show=\"new\" xlink:title=\"psysml:130e11a2-3d5f-4cd9-b0cd-9225a7528360\" xlink:type=\"simple\"><rect fill=\"#FFFFFF\" height=\"45.9375\" id=\"E4\" rx=\"10\" ry=\"10\" style=\"stroke: #383838; stroke-width: 1.5;\" width=\"43\" x=\"45.5\" y=\"438\"/><text fill=\"#000000\" font-family=\"sans-serif\" font-size=\"12\" font-style=\"italic\" lengthAdjust=\"spacingAndGlyphs\" textLength=\"41\" x=\"46.5\" y=\"454.1387\">«item»</text><text fill=\"#000000\" font-family=\"sans-serif\" font-size=\"12\" lengthAdjust=\"spacingAndGlyphs\" textLength=\"24\" x=\"53\" y=\"468.1074\">b: B</text><line style=\"stroke: #383838; stroke-width: 1.5;\" x1=\"46.5\" x2=\"87.5\" y1=\"475.9375\" y2=\"475.9375\"/></a><!--MD5=[270fce915f116d4de14055a7c1d9a0f3]\n",
       "class E5--><a href=\"psysml:80ae9a50-ac1f-4423-b935-68d8f5716f01\" target=\"_top\" title=\"psysml:80ae9a50-ac1f-4423-b935-68d8f5716f01\" xlink:actuate=\"onRequest\" xlink:href=\"psysml:80ae9a50-ac1f-4423-b935-68d8f5716f01\" xlink:show=\"new\" xlink:title=\"psysml:80ae9a50-ac1f-4423-b935-68d8f5716f01\" xlink:type=\"simple\"><rect fill=\"#FFFFFF\" height=\"45.9375\" id=\"E5\" rx=\"10\" ry=\"10\" style=\"stroke: #383838; stroke-width: 1.5;\" width=\"42\" x=\"151\" y=\"362\"/><text fill=\"#000000\" font-family=\"sans-serif\" font-size=\"12\" font-style=\"italic\" lengthAdjust=\"spacingAndGlyphs\" textLength=\"40\" x=\"152\" y=\"378.1387\">«part»</text><text fill=\"#000000\" font-family=\"sans-serif\" font-size=\"12\" lengthAdjust=\"spacingAndGlyphs\" textLength=\"23\" x=\"158.5\" y=\"392.1074\">c: C</text><line style=\"stroke: #383838; stroke-width: 1.5;\" x1=\"152\" x2=\"192\" y1=\"399.9375\" y2=\"399.9375\"/></a><!--MD5=[60a26617385b1d2d0262a64233df1f8d]\n",
       "class E6--><a href=\"psysml:7d838d86-0408-4401-9cbf-32b733f3993a\" target=\"_top\" title=\"psysml:7d838d86-0408-4401-9cbf-32b733f3993a\" xlink:actuate=\"onRequest\" xlink:href=\"psysml:7d838d86-0408-4401-9cbf-32b733f3993a\" xlink:show=\"new\" xlink:title=\"psysml:7d838d86-0408-4401-9cbf-32b733f3993a\" xlink:type=\"simple\"><rect fill=\"#FFFFFF\" height=\"45.9375\" id=\"E6\" style=\"stroke: #383838; stroke-width: 1.5;\" width=\"71\" x=\"112.5\" y=\"637\"/><text fill=\"#000000\" font-family=\"sans-serif\" font-size=\"12\" font-style=\"italic\" lengthAdjust=\"spacingAndGlyphs\" textLength=\"69\" x=\"113.5\" y=\"653.1387\">«item  def»</text><text fill=\"#000000\" font-family=\"sans-serif\" font-size=\"12\" font-style=\"italic\" lengthAdjust=\"spacingAndGlyphs\" textLength=\"8\" x=\"144\" y=\"667.1074\">B</text><line style=\"stroke: #383838; stroke-width: 1.5;\" x1=\"113.5\" x2=\"182.5\" y1=\"674.9375\" y2=\"674.9375\"/></a><!--MD5=[2156ba9850f5573cc1fc38a6a4b2f02b]\n",
       "class E7--><a href=\"psysml:d06b8fcb-8cda-493c-875d-bdf01ed715df\" target=\"_top\" title=\"psysml:d06b8fcb-8cda-493c-875d-bdf01ed715df\" xlink:actuate=\"onRequest\" xlink:href=\"psysml:d06b8fcb-8cda-493c-875d-bdf01ed715df\" xlink:show=\"new\" xlink:title=\"psysml:d06b8fcb-8cda-493c-875d-bdf01ed715df\" xlink:type=\"simple\"><rect fill=\"#FFFFFF\" height=\"45.9375\" id=\"E7\" rx=\"10\" ry=\"10\" style=\"stroke: #383838; stroke-width: 1.5;\" width=\"42\" x=\"159\" y=\"744\"/><text fill=\"#000000\" font-family=\"sans-serif\" font-size=\"12\" font-style=\"italic\" lengthAdjust=\"spacingAndGlyphs\" textLength=\"40\" x=\"160\" y=\"760.1387\">«part»</text><text fill=\"#000000\" font-family=\"sans-serif\" font-size=\"12\" font-style=\"italic\" lengthAdjust=\"spacingAndGlyphs\" textLength=\"8\" x=\"166\" y=\"774.1074\">a</text><text fill=\"#000000\" font-family=\"sans-serif\" font-size=\"12\" lengthAdjust=\"spacingAndGlyphs\" textLength=\"16\" x=\"174\" y=\"774.1074\">: A</text><line style=\"stroke: #383838; stroke-width: 1.5;\" x1=\"160\" x2=\"200\" y1=\"781.9375\" y2=\"781.9375\"/></a><!--MD5=[b9389687b975829384b498ac4b7476b2]\n",
       "class E8--><a href=\"psysml:a2efb8df-7581-49ed-b24f-8030c12b0405\" target=\"_top\" title=\"psysml:a2efb8df-7581-49ed-b24f-8030c12b0405\" xlink:actuate=\"onRequest\" xlink:href=\"psysml:a2efb8df-7581-49ed-b24f-8030c12b0405\" xlink:show=\"new\" xlink:title=\"psysml:a2efb8df-7581-49ed-b24f-8030c12b0405\" xlink:type=\"simple\"><rect fill=\"#FFFFFF\" height=\"45.9375\" id=\"E8\" style=\"stroke: #383838; stroke-width: 1.5;\" width=\"70\" x=\"113\" y=\"514\"/><text fill=\"#000000\" font-family=\"sans-serif\" font-size=\"12\" font-style=\"italic\" lengthAdjust=\"spacingAndGlyphs\" textLength=\"68\" x=\"114\" y=\"530.1387\">«part  def»</text><text fill=\"#000000\" font-family=\"sans-serif\" font-size=\"12\" lengthAdjust=\"spacingAndGlyphs\" textLength=\"8\" x=\"144\" y=\"544.1074\">C</text><line style=\"stroke: #383838; stroke-width: 1.5;\" x1=\"114\" x2=\"182\" y1=\"551.9375\" y2=\"551.9375\"/></a><!--MD5=[fd4143e9d270a159db93a4ea2a975926]\n",
       "class E9--><a href=\"psysml:91f3ce36-c57b-44eb-a625-32b1f3011842\" target=\"_top\" title=\"psysml:91f3ce36-c57b-44eb-a625-32b1f3011842\" xlink:actuate=\"onRequest\" xlink:href=\"psysml:91f3ce36-c57b-44eb-a625-32b1f3011842\" xlink:show=\"new\" xlink:title=\"psysml:91f3ce36-c57b-44eb-a625-32b1f3011842\" xlink:type=\"simple\"><rect fill=\"#FFFFFF\" height=\"45.9375\" id=\"E9\" style=\"stroke: #383838; stroke-width: 1.5;\" width=\"70\" x=\"64\" y=\"41\"/><text fill=\"#000000\" font-family=\"sans-serif\" font-size=\"12\" font-style=\"italic\" lengthAdjust=\"spacingAndGlyphs\" textLength=\"68\" x=\"65\" y=\"57.1387\">«port  def»</text><text fill=\"#000000\" font-family=\"sans-serif\" font-size=\"12\" lengthAdjust=\"spacingAndGlyphs\" textLength=\"8\" x=\"95\" y=\"71.1074\">P</text><line style=\"stroke: #383838; stroke-width: 1.5;\" x1=\"65\" x2=\"133\" y1=\"78.9375\" y2=\"78.9375\"/></a><!--MD5=[96f4274e9e20536e775497830990834d]\n",
       "class E10--><a href=\"psysml:5a8db81a-c733-4c6f-be90-4f9ffe214caa\" target=\"_top\" title=\"psysml:5a8db81a-c733-4c6f-be90-4f9ffe214caa\" xlink:actuate=\"onRequest\" xlink:href=\"psysml:5a8db81a-c733-4c6f-be90-4f9ffe214caa\" xlink:show=\"new\" xlink:title=\"psysml:5a8db81a-c733-4c6f-be90-4f9ffe214caa\" xlink:type=\"simple\"><rect fill=\"#FFFFFF\" height=\"45.9375\" id=\"E10\" rx=\"10\" ry=\"10\" style=\"stroke: #383838; stroke-width: 1.5;\" width=\"43\" x=\"32.5\" y=\"148\"/><text fill=\"#000000\" font-family=\"sans-serif\" font-size=\"12\" font-style=\"italic\" lengthAdjust=\"spacingAndGlyphs\" textLength=\"41\" x=\"33.5\" y=\"164.1387\">«item»</text><text fill=\"#000000\" font-family=\"sans-serif\" font-size=\"12\" lengthAdjust=\"spacingAndGlyphs\" textLength=\"32\" x=\"36\" y=\"178.1074\">a1: A</text><line style=\"stroke: #383838; stroke-width: 1.5;\" x1=\"33.5\" x2=\"74.5\" y1=\"185.9375\" y2=\"185.9375\"/></a><!--MD5=[1dd1bfd58a279cf63c5f349dbc8fc6a1]\n",
       "class E11--><a href=\"psysml:50797105-d3dc-4af6-be0e-986a23cb6cc7\" target=\"_top\" title=\"psysml:50797105-d3dc-4af6-be0e-986a23cb6cc7\" xlink:actuate=\"onRequest\" xlink:href=\"psysml:50797105-d3dc-4af6-be0e-986a23cb6cc7\" xlink:show=\"new\" xlink:title=\"psysml:50797105-d3dc-4af6-be0e-986a23cb6cc7\" xlink:type=\"simple\"><rect fill=\"#FFFFFF\" height=\"45.9375\" id=\"E11\" rx=\"10\" ry=\"10\" style=\"stroke: #383838; stroke-width: 1.5;\" width=\"43\" x=\"110.5\" y=\"148\"/><text fill=\"#000000\" font-family=\"sans-serif\" font-size=\"12\" font-style=\"italic\" lengthAdjust=\"spacingAndGlyphs\" textLength=\"41\" x=\"111.5\" y=\"164.1387\">«item»</text><text fill=\"#000000\" font-family=\"sans-serif\" font-size=\"12\" lengthAdjust=\"spacingAndGlyphs\" textLength=\"32\" x=\"114\" y=\"178.1074\">a2: A</text><line style=\"stroke: #383838; stroke-width: 1.5;\" x1=\"111.5\" x2=\"152.5\" y1=\"185.9375\" y2=\"185.9375\"/></a><!--MD5=[2720a5a1f2c3fca2055b230370638851]\n",
       "link E2 to E3--><a href=\"psysml:2d349f36-3ef3-481f-a80c-9f5be02d82e3\" target=\"_top\" title=\"psysml:2d349f36-3ef3-481f-a80c-9f5be02d82e3\" xlink:actuate=\"onRequest\" xlink:href=\"psysml:2d349f36-3ef3-481f-a80c-9f5be02d82e3\" xlink:show=\"new\" xlink:title=\"psysml:2d349f36-3ef3-481f-a80c-9f5be02d82e3\" xlink:type=\"simple\"><path d=\"M193.65,194.01 C184.14,206.81 171.89,223.3 160.82,238.2 \" fill=\"none\" id=\"E2-&gt;E3\" style=\"stroke: #383838; stroke-width: 1.0;\"/><polygon fill=\"#FFFFFF\" points=\"148.6,254.66,154.3195,235.2361,165.5543,243.5896,148.6,254.66\" style=\"stroke: #383838; stroke-width: 1.0;\"/><ellipse cx=\"159.3256\" cy=\"231.8554\" fill=\"#383838\" rx=\"2\" ry=\"2\" style=\"stroke: #383838; stroke-width: 1.0;\"/><ellipse cx=\"167.3504\" cy=\"237.8221\" fill=\"#383838\" rx=\"2\" ry=\"2\" style=\"stroke: #383838; stroke-width: 1.0;\"/></a><!--MD5=[4672eba38e49728da53d11aeb285b987]\n",
       "reverse link E3 to E4--><a href=\"psysml:1fc0b9c6-f917-494b-8539-e8a30a151a21\" target=\"_top\" title=\"psysml:1fc0b9c6-f917-494b-8539-e8a30a151a21\" xlink:actuate=\"onRequest\" xlink:href=\"psysml:1fc0b9c6-f917-494b-8539-e8a30a151a21\" xlink:show=\"new\" xlink:title=\"psysml:1fc0b9c6-f917-494b-8539-e8a30a151a21\" xlink:type=\"simple\"><path d=\"M97.11,310.9 C84.08,325.11 70.81,342.94 64,362 C55.12,386.85 58.09,417.53 61.82,437.88 \" fill=\"none\" id=\"E3&lt;-E4\" style=\"stroke: #383838; stroke-width: 1.0;\"/><polygon fill=\"#383838\" points=\"106.46,301.23,99.4153,302.7703,98.1277,309.8655,105.1724,308.3252,106.46,301.23\" style=\"stroke: #383838; stroke-width: 1.0;\"/><text fill=\"#000000\" font-family=\"sans-serif\" font-size=\"13\" lengthAdjust=\"spacingAndGlyphs\" textLength=\"8\" x=\"51.3529\" y=\"426.744\">1</text></a><!--MD5=[191cde3d490a3f6d7bb551fe3ddca469]\n",
       "reverse link E3 to E5--><a href=\"psysml:1188b8bd-fcbe-4041-bfa3-3c6757b772de\" target=\"_top\" title=\"psysml:1188b8bd-fcbe-4041-bfa3-3c6757b772de\" xlink:actuate=\"onRequest\" xlink:href=\"psysml:1188b8bd-fcbe-4041-bfa3-3c6757b772de\" xlink:show=\"new\" xlink:title=\"psysml:1188b8bd-fcbe-4041-bfa3-3c6757b772de\" xlink:type=\"simple\"><path d=\"M145.17,313.57 C151.2,329.39 158.16,347.68 163.49,361.66 \" fill=\"none\" id=\"E3&lt;-E5\" style=\"stroke: #383838; stroke-width: 1.0;\"/><polygon fill=\"#FFFFFF\" points=\"140.39,301.01,138.7866,308.0406,144.6598,312.2247,146.2631,305.1941,140.39,301.01\" style=\"stroke: #383838; stroke-width: 1.0;\"/><text fill=\"#000000\" font-family=\"sans-serif\" font-size=\"13\" lengthAdjust=\"spacingAndGlyphs\" textLength=\"8\" x=\"152.2843\" y=\"350.8492\">1</text></a><!--MD5=[79568f1e445c3877b6a54524624ccc7d]\n",
       "link E4 to E6--><a href=\"psysml:b444802f-fd06-4322-964d-2bd41504258e\" target=\"_top\" title=\"psysml:b444802f-fd06-4322-964d-2bd41504258e\" xlink:actuate=\"onRequest\" xlink:href=\"psysml:b444802f-fd06-4322-964d-2bd41504258e\" xlink:show=\"new\" xlink:title=\"psysml:b444802f-fd06-4322-964d-2bd41504258e\" xlink:type=\"simple\"><path d=\"M72.25,484.22 C77.31,504.36 85.72,534.68 96,560 C104.15,580.08 115.08,601.47 124.82,619.21 \" fill=\"none\" id=\"E4-&gt;E6\" style=\"stroke: #383838; stroke-width: 1.0;\"/><polygon fill=\"#FFFFFF\" points=\"134.72,636.8,119.2979,623.6791,131.4967,616.8097,134.72,636.8\" style=\"stroke: #383838; stroke-width: 1.0;\"/><ellipse cx=\"118.2438\" cy=\"617.7311\" fill=\"#383838\" rx=\"2\" ry=\"2\" style=\"stroke: #383838; stroke-width: 1.0;\"/><ellipse cx=\"126.9572\" cy=\"612.8244\" fill=\"#383838\" rx=\"2\" ry=\"2\" style=\"stroke: #383838; stroke-width: 1.0;\"/></a><!--MD5=[3f50a3473f1dfb74d3f76443e03635af]\n",
       "reverse link E6 to E7--><a href=\"psysml:fe8fc95e-22bb-46d1-b0fd-61d73c45474f\" target=\"_top\" title=\"psysml:fe8fc95e-22bb-46d1-b0fd-61d73c45474f\" xlink:actuate=\"onRequest\" xlink:href=\"psysml:fe8fc95e-22bb-46d1-b0fd-61d73c45474f\" xlink:show=\"new\" xlink:title=\"psysml:fe8fc95e-22bb-46d1-b0fd-61d73c45474f\" xlink:type=\"simple\"><path d=\"M158.54,695.57 C163.36,711.39 168.93,729.68 173.19,743.66 \" fill=\"none\" id=\"E6&lt;-E7\" style=\"stroke: #383838; stroke-width: 1.0;\"/><polygon fill=\"#383838\" points=\"154.71,683.01,152.6319,689.9152,158.2066,694.4893,160.2847,687.5841,154.71,683.01\" style=\"stroke: #383838; stroke-width: 1.0;\"/><text fill=\"#000000\" font-family=\"sans-serif\" font-size=\"13\" lengthAdjust=\"spacingAndGlyphs\" textLength=\"8\" x=\"162.4199\" y=\"732.8492\">1</text></a><!--MD5=[14ccda38c055a5c0da953d572bc50960]\n",
       "link E7 to E3--><a href=\"psysml:599ea15b-bb0f-4f03-a502-f2e1a3a71e91\" target=\"_top\" title=\"psysml:599ea15b-bb0f-4f03-a502-f2e1a3a71e91\" xlink:actuate=\"onRequest\" xlink:href=\"psysml:599ea15b-bb0f-4f03-a502-f2e1a3a71e91\" xlink:show=\"new\" xlink:title=\"psysml:599ea15b-bb0f-4f03-a502-f2e1a3a71e91\" xlink:type=\"simple\"><path d=\"M197.41,743.63 C211.5,723.27 229,691.78 229,661 C229,384 229,384 229,384 C229,353.7 206.93,328.42 183.85,310.26 \" fill=\"none\" id=\"E7-&gt;E3\" style=\"stroke: #383838; stroke-width: 1.0;\"/><polygon fill=\"#FFFFFF\" points=\"167.57,298.59,187.0929,303.9617,178.9414,315.3438,167.57,298.59\" style=\"stroke: #383838; stroke-width: 1.0;\"/><ellipse cx=\"190.5626\" cy=\"308.9066\" fill=\"#383838\" rx=\"2\" ry=\"2\" style=\"stroke: #383838; stroke-width: 1.0;\"/><ellipse cx=\"184.7401\" cy=\"317.0367\" fill=\"#383838\" rx=\"2\" ry=\"2\" style=\"stroke: #383838; stroke-width: 1.0;\"/></a><!--MD5=[dfaffb906826c3e5aca635516100ff21]\n",
       "link E5 to E8--><a href=\"psysml:ebb03462-10dd-4a39-86ac-c1648f226bb6\" target=\"_top\" title=\"psysml:ebb03462-10dd-4a39-86ac-c1648f226bb6\" xlink:actuate=\"onRequest\" xlink:href=\"psysml:ebb03462-10dd-4a39-86ac-c1648f226bb6\" xlink:show=\"new\" xlink:title=\"psysml:ebb03462-10dd-4a39-86ac-c1648f226bb6\" xlink:type=\"simple\"><path d=\"M168.46,408.13 C164.86,430.62 159.2,466.01 154.74,493.87 \" fill=\"none\" id=\"E5-&gt;E8\" style=\"stroke: #383838; stroke-width: 1.0;\"/><polygon fill=\"#FFFFFF\" points=\"151.56,513.78,147.6458,493.9135,161.4704,496.1226,151.56,513.78\" style=\"stroke: #383838; stroke-width: 1.0;\"/><ellipse cx=\"150.5202\" cy=\"488.6005\" fill=\"#383838\" rx=\"2\" ry=\"2\" style=\"stroke: #383838; stroke-width: 1.0;\"/><ellipse cx=\"160.3949\" cy=\"490.1784\" fill=\"#383838\" rx=\"2\" ry=\"2\" style=\"stroke: #383838; stroke-width: 1.0;\"/></a><!--MD5=[03c8294790d3c57651a1993cecff665f]\n",
       "reverse link E8 to E3--><a href=\"psysml:4ca20137-091c-4af4-8b05-aa2379f8c92e\" target=\"_top\" title=\"psysml:4ca20137-091c-4af4-8b05-aa2379f8c92e\" xlink:actuate=\"onRequest\" xlink:href=\"psysml:4ca20137-091c-4af4-8b05-aa2379f8c92e\" xlink:show=\"new\" xlink:title=\"psysml:4ca20137-091c-4af4-8b05-aa2379f8c92e\" xlink:type=\"simple\"><path d=\"M140.02,501.22 C134.57,475.6 127.84,439.84 125,408 C123.18,387.64 124.14,382.43 125,362 C125.87,341.34 127.95,317.86 129.62,301.16 \" fill=\"none\" id=\"E8&lt;-E3\" style=\"stroke: #383838; stroke-width: 1.0;\"/><polygon fill=\"#FFFFFF\" points=\"142.81,513.96,145.4388,507.2451,140.2515,502.2359,137.6227,508.9508,142.81,513.96\" style=\"stroke: #383838; stroke-width: 1.0;\"/><text fill=\"#000000\" font-family=\"sans-serif\" font-size=\"13\" lengthAdjust=\"spacingAndGlyphs\" textLength=\"7\" x=\"126\" y=\"389.5669\">y</text></a><!--MD5=[0d75d2178373a6a4568e5dc728f58aef]\n",
       "reverse link E8 to E6--><a href=\"psysml:4ca20137-091c-4af4-8b05-aa2379f8c92e\" target=\"_top\" title=\"psysml:4ca20137-091c-4af4-8b05-aa2379f8c92e\" xlink:actuate=\"onRequest\" xlink:href=\"psysml:4ca20137-091c-4af4-8b05-aa2379f8c92e\" xlink:show=\"new\" xlink:title=\"psysml:4ca20137-091c-4af4-8b05-aa2379f8c92e\" xlink:type=\"simple\"><path d=\"M148,573.22 C148,593.81 148,619.16 148,636.95 \" fill=\"none\" id=\"E8&lt;-E6\" style=\"stroke: #383838; stroke-width: 1.0;\"/><polygon fill=\"#FFFFFF\" points=\"148,560.19,144,566.19,148,572.19,152,566.19,148,560.19\" style=\"stroke: #383838; stroke-width: 1.0;\"/><text fill=\"#000000\" font-family=\"sans-serif\" font-size=\"13\" lengthAdjust=\"spacingAndGlyphs\" textLength=\"7\" x=\"149\" y=\"603.0669\">y</text></a><!--MD5=[23ac544a70576c3e717098101004234c]\n",
       "reverse link E9 to E10--><a href=\"psysml:bbec5841-3ffd-488b-b643-01adfe752a25\" target=\"_top\" title=\"psysml:bbec5841-3ffd-488b-b643-01adfe752a25\" xlink:actuate=\"onRequest\" xlink:href=\"psysml:bbec5841-3ffd-488b-b643-01adfe752a25\" xlink:show=\"new\" xlink:title=\"psysml:bbec5841-3ffd-488b-b643-01adfe752a25\" xlink:type=\"simple\"><path d=\"M84.39,99.1 C77.56,115.03 69.63,133.54 63.58,147.66 \" fill=\"none\" id=\"E9&lt;-E10\" style=\"stroke: #383838; stroke-width: 1.0;\"/><polygon fill=\"#FFFFFF\" points=\"89.57,87.01,83.5327,90.9535,84.8509,98.0431,90.8882,94.0996,89.57,87.01\" style=\"stroke: #383838; stroke-width: 1.0;\"/><text fill=\"#000000\" font-family=\"sans-serif\" font-size=\"13\" lengthAdjust=\"spacingAndGlyphs\" textLength=\"8\" x=\"57.0099\" y=\"136.8492\">1</text></a><!--MD5=[feeac5eb423634930294aa81f2d25a4c]\n",
       "link E10 to E3--><a href=\"psysml:fb12afbf-9138-40ff-bf3b-75b81b096774\" target=\"_top\" title=\"psysml:fb12afbf-9138-40ff-bf3b-75b81b096774\" xlink:actuate=\"onRequest\" xlink:href=\"psysml:fb12afbf-9138-40ff-bf3b-75b81b096774\" xlink:show=\"new\" xlink:title=\"psysml:fb12afbf-9138-40ff-bf3b-75b81b096774\" xlink:type=\"simple\"><path d=\"M70.35,194.01 C79.86,206.81 92.11,223.3 103.18,238.2 \" fill=\"none\" id=\"E10-&gt;E3\" style=\"stroke: #383838; stroke-width: 1.0;\"/><polygon fill=\"#FFFFFF\" points=\"115.4,254.66,98.4457,243.5896,109.6805,235.2361,115.4,254.66\" style=\"stroke: #383838; stroke-width: 1.0;\"/><ellipse cx=\"96.6496\" cy=\"237.8221\" fill=\"#383838\" rx=\"2\" ry=\"2\" style=\"stroke: #383838; stroke-width: 1.0;\"/><ellipse cx=\"104.6744\" cy=\"231.8554\" fill=\"#383838\" rx=\"2\" ry=\"2\" style=\"stroke: #383838; stroke-width: 1.0;\"/></a><!--MD5=[1fc04a95fd77ad5ce46c1a3027516051]\n",
       "reverse link E9 to E11--><a href=\"psysml:20edee2c-da5c-4ff9-9cec-febcc5f58071\" target=\"_top\" title=\"psysml:20edee2c-da5c-4ff9-9cec-febcc5f58071\" xlink:actuate=\"onRequest\" xlink:href=\"psysml:20edee2c-da5c-4ff9-9cec-febcc5f58071\" xlink:show=\"new\" xlink:title=\"psysml:20edee2c-da5c-4ff9-9cec-febcc5f58071\" xlink:type=\"simple\"><path d=\"M109.87,99.57 C114.84,115.39 120.59,133.68 124.98,147.66 \" fill=\"none\" id=\"E9&lt;-E11\" style=\"stroke: #383838; stroke-width: 1.0;\"/><polygon fill=\"#FFFFFF\" points=\"105.92,87.01,103.9044,93.9337,109.5203,98.4572,111.5359,91.5335,105.92,87.01\" style=\"stroke: #383838; stroke-width: 1.0;\"/><text fill=\"#000000\" font-family=\"sans-serif\" font-size=\"13\" lengthAdjust=\"spacingAndGlyphs\" textLength=\"8\" x=\"114.1561\" y=\"136.8492\">1</text></a><!--MD5=[0517f1ce58c4d5483948f93845c45e26]\n",
       "link E11 to E3--><a href=\"psysml:6098403c-f8e4-4c64-8bc6-7f6e4aceb826\" target=\"_top\" title=\"psysml:6098403c-f8e4-4c64-8bc6-7f6e4aceb826\" xlink:actuate=\"onRequest\" xlink:href=\"psysml:6098403c-f8e4-4c64-8bc6-7f6e4aceb826\" xlink:show=\"new\" xlink:title=\"psysml:6098403c-f8e4-4c64-8bc6-7f6e4aceb826\" xlink:type=\"simple\"><path d=\"M132,194.01 C132,205.69 132,220.46 132,234.28 \" fill=\"none\" id=\"E11-&gt;E3\" style=\"stroke: #383838; stroke-width: 1.0;\"/><polygon fill=\"#FFFFFF\" points=\"132,254.66,125,235.66,139,235.66,132,254.66\" style=\"stroke: #383838; stroke-width: 1.0;\"/><ellipse cx=\"127\" cy=\"229.96\" fill=\"#383838\" rx=\"2\" ry=\"2\" style=\"stroke: #383838; stroke-width: 1.0;\"/><ellipse cx=\"137\" cy=\"229.96\" fill=\"#383838\" rx=\"2\" ry=\"2\" style=\"stroke: #383838; stroke-width: 1.0;\"/></a><!--MD5=[628f7ac7d8573ca6b7689e4103d2aa11]\n",
       "@startuml\r\n",
       "top to bottom direction\r\n",
       "skinparam monochrome true\r\n",
       "skinparam classbackgroundcolor white\r\n",
       "skinparam shadowing false\r\n",
       "skinparam wrapWidth 300\r\n",
       "hide circle\r\n",
       "\r\n",
       "package \"ItemTest\" as E1  [[psysml:05177c11-5394-41b2-a0a0-71a4c06ed611 ]]  {\r\n",
       "comp usage \"f: A \" as E2  <<(T,blue) item>> [[psysml:9b37ce48-aa06-4adb-ba3b-3b1410731947 ]] {\r\n",
       "}\r\n",
       "comp def \"A\" as E3  <<(T,blue) item  def>> [[psysml:373f36dd-9125-4f4d-9beb-8d6cd21e1469 ]] {\r\n",
       "}\r\n",
       "comp usage \"b: B \" as E4  <<(T,blue) item>> [[psysml:130e11a2-3d5f-4cd9-b0cd-9225a7528360 ]] {\r\n",
       "}\r\n",
       "comp usage \"c: C \" as E5  <<(T,blue) part>> [[psysml:80ae9a50-ac1f-4423-b935-68d8f5716f01 ]] {\r\n",
       "}\r\n",
       "comp def \"<i>B</i>\" as E6  <<(T,blue) item  def>> [[psysml:7d838d86-0408-4401-9cbf-32b733f3993a ]] {\r\n",
       "}\r\n",
       "comp usage \"<i>a</i>: A \" as E7  <<(T,blue) part>> [[psysml:d06b8fcb-8cda-493c-875d-bdf01ed715df ]] {\r\n",
       "}\r\n",
       "comp def \"C\" as E8  <<(T,blue) part  def>> [[psysml:a2efb8df-7581-49ed-b24f-8030c12b0405 ]] {\r\n",
       "}\r\n",
       "comp def \"P\" as E9  <<(T,blue) port  def>> [[psysml:91f3ce36-c57b-44eb-a625-32b1f3011842 ]] {\r\n",
       "}\r\n",
       "comp usage \"a1: A \" as E10  <<(T,blue) item>> [[psysml:5a8db81a-c733-4c6f-be90-4f9ffe214caa ]] {\r\n",
       "}\r\n",
       "comp usage \"a2: A \" as E11  <<(T,blue) item>> [[psysml:50797105-d3dc-4af6-be0e-986a23cb6cc7 ]] {\r\n",
       "}\r\n",
       "}\r\n",
       "E2 - -:|> E3 [[psysml:2d349f36-3ef3-481f-a80c-9f5be02d82e3 ]] \r\n",
       "E3 *- - \"1\"E4 [[psysml:1fc0b9c6-f917-494b-8539-e8a30a151a21 ]] \r\n",
       "E3 o- - \"1\"E5 [[psysml:1188b8bd-fcbe-4041-bfa3-3c6757b772de ]] \r\n",
       "E4 - -:|> E6 [[psysml:b444802f-fd06-4322-964d-2bd41504258e ]] \r\n",
       "E6 *- - \"1\"E7 [[psysml:fe8fc95e-22bb-46d1-b0fd-61d73c45474f ]] \r\n",
       "E7 - -:|> E3 [[psysml:599ea15b-bb0f-4f03-a502-f2e1a3a71e91 ]] \r\n",
       "E5 - -:|> E8 [[psysml:ebb03462-10dd-4a39-86ac-c1648f226bb6 ]] \r\n",
       "E8 o- - E3 [[psysml:4ca20137-091c-4af4-8b05-aa2379f8c92e ]] : y\r\n",
       "E8 o- - E6 [[psysml:4ca20137-091c-4af4-8b05-aa2379f8c92e ]] : y\r\n",
       "E9 o- - \"1\"E10 [[psysml:bbec5841-3ffd-488b-b643-01adfe752a25 ]] \r\n",
       "E10 - -:|> E3 [[psysml:fb12afbf-9138-40ff-bf3b-75b81b096774 ]] \r\n",
       "E9 o- - \"1\"E11 [[psysml:20edee2c-da5c-4ff9-9cec-febcc5f58071 ]] \r\n",
       "E11 - -:|> E3 [[psysml:6098403c-f8e4-4c64-8bc6-7f6e4aceb826 ]] \r\n",
       "@enduml\r\n",
       "\n",
       "PlantUML version 1.2020.13(Sat Jun 13 12:26:38 UTC 2020)\n",
       "(EPL source distribution)\n",
       "Java Runtime: OpenJDK Runtime Environment\n",
       "JVM: OpenJDK 64-Bit Server VM\n",
       "Default Encoding: UTF-8\n",
       "Language: en\n",
       "Country: null\n",
       "--></g></svg>"
      ]
     },
     "execution_count": 44,
     "metadata": {},
     "output_type": "execute_result"
    }
   ],
   "source": [
    "%viz --style=\"TB\" --view=\"Default\" \"ItemTest\""
   ]
  },
  {
   "cell_type": "code",
   "execution_count": 45,
   "id": "fdb98da4",
   "metadata": {
    "execution": {
     "iopub.execute_input": "2022-04-22T09:48:26.435931Z",
     "iopub.status.busy": "2022-04-22T09:48:26.435500Z",
     "iopub.status.idle": "2022-04-22T09:48:26.476904Z",
     "shell.execute_reply": "2022-04-22T09:48:26.475352Z"
    }
   },
   "outputs": [
    {
     "data": {
      "image/svg+xml": [
       "<?xml version=\"1.0\" encoding=\"UTF-8\" standalone=\"no\"?><svg xmlns=\"http://www.w3.org/2000/svg\" xmlns:xlink=\"http://www.w3.org/1999/xlink\" contentScriptType=\"application/ecmascript\" contentStyleType=\"text/css\" height=\"818px\" preserveAspectRatio=\"none\" style=\"width:270px;height:818px;\" version=\"1.1\" viewBox=\"0 0 270 818\" width=\"270px\" zoomAndPan=\"magnify\"><defs/><g><!--MD5=[fbc87193dbaf4d95561dea2c320d4a47]\n",
       "cluster E1--><a href=\"psysml:05177c11-5394-41b2-a0a0-71a4c06ed611\" target=\"_top\" title=\"psysml:05177c11-5394-41b2-a0a0-71a4c06ed611\" xlink:actuate=\"onRequest\" xlink:href=\"psysml:05177c11-5394-41b2-a0a0-71a4c06ed611\" xlink:show=\"new\" xlink:title=\"psysml:05177c11-5394-41b2-a0a0-71a4c06ed611\" xlink:type=\"simple\"><polygon fill=\"#FFFFFF\" points=\"16,6,83,6,90,28.2969,248,28.2969,248,806,16,806,16,6\" style=\"stroke: #000000; stroke-width: 1.5;\"/><line style=\"stroke: #000000; stroke-width: 1.5;\" x1=\"16\" x2=\"90\" y1=\"28.2969\" y2=\"28.2969\"/><text fill=\"#000000\" font-family=\"sans-serif\" font-size=\"14\" font-weight=\"bold\" lengthAdjust=\"spacingAndGlyphs\" textLength=\"61\" x=\"20\" y=\"20.9951\">ItemTest</text></a><!--MD5=[b4997ac47864f28c2f74865a473b2911]\n",
       "class E2--><a href=\"psysml:9b37ce48-aa06-4adb-ba3b-3b1410731947\" target=\"_top\" title=\"psysml:9b37ce48-aa06-4adb-ba3b-3b1410731947\" xlink:actuate=\"onRequest\" xlink:href=\"psysml:9b37ce48-aa06-4adb-ba3b-3b1410731947\" xlink:show=\"new\" xlink:title=\"psysml:9b37ce48-aa06-4adb-ba3b-3b1410731947\" xlink:type=\"simple\"><rect fill=\"#FFFFFF\" height=\"45.9375\" id=\"E2\" rx=\"10\" ry=\"10\" style=\"stroke: #383838; stroke-width: 1.5;\" width=\"43\" x=\"188.5\" y=\"148\"/><text fill=\"#000000\" font-family=\"sans-serif\" font-size=\"12\" font-style=\"italic\" lengthAdjust=\"spacingAndGlyphs\" textLength=\"41\" x=\"189.5\" y=\"164.1387\">«item»</text><text fill=\"#000000\" font-family=\"sans-serif\" font-size=\"12\" lengthAdjust=\"spacingAndGlyphs\" textLength=\"20\" x=\"198\" y=\"178.1074\">f: A</text><line style=\"stroke: #383838; stroke-width: 1.5;\" x1=\"189.5\" x2=\"230.5\" y1=\"185.9375\" y2=\"185.9375\"/></a><!--MD5=[09b614a08d8cba4a07c9adeb5e0fee81]\n",
       "class E3--><a href=\"psysml:373f36dd-9125-4f4d-9beb-8d6cd21e1469\" target=\"_top\" title=\"psysml:373f36dd-9125-4f4d-9beb-8d6cd21e1469\" xlink:actuate=\"onRequest\" xlink:href=\"psysml:373f36dd-9125-4f4d-9beb-8d6cd21e1469\" xlink:show=\"new\" xlink:title=\"psysml:373f36dd-9125-4f4d-9beb-8d6cd21e1469\" xlink:type=\"simple\"><rect fill=\"#FFFFFF\" height=\"45.9375\" id=\"E3\" style=\"stroke: #383838; stroke-width: 1.5;\" width=\"71\" x=\"96.5\" y=\"255\"/><text fill=\"#000000\" font-family=\"sans-serif\" font-size=\"12\" font-style=\"italic\" lengthAdjust=\"spacingAndGlyphs\" textLength=\"69\" x=\"97.5\" y=\"271.1387\">«item  def»</text><text fill=\"#000000\" font-family=\"sans-serif\" font-size=\"12\" lengthAdjust=\"spacingAndGlyphs\" textLength=\"8\" x=\"128\" y=\"285.1074\">A</text><line style=\"stroke: #383838; stroke-width: 1.5;\" x1=\"97.5\" x2=\"166.5\" y1=\"292.9375\" y2=\"292.9375\"/></a><!--MD5=[ebbe1d658d1005bcc118a6aa81145e00]\n",
       "class E4--><a href=\"psysml:130e11a2-3d5f-4cd9-b0cd-9225a7528360\" target=\"_top\" title=\"psysml:130e11a2-3d5f-4cd9-b0cd-9225a7528360\" xlink:actuate=\"onRequest\" xlink:href=\"psysml:130e11a2-3d5f-4cd9-b0cd-9225a7528360\" xlink:show=\"new\" xlink:title=\"psysml:130e11a2-3d5f-4cd9-b0cd-9225a7528360\" xlink:type=\"simple\"><rect fill=\"#FFFFFF\" height=\"45.9375\" id=\"E4\" rx=\"10\" ry=\"10\" style=\"stroke: #383838; stroke-width: 1.5;\" width=\"43\" x=\"45.5\" y=\"438\"/><text fill=\"#000000\" font-family=\"sans-serif\" font-size=\"12\" font-style=\"italic\" lengthAdjust=\"spacingAndGlyphs\" textLength=\"41\" x=\"46.5\" y=\"454.1387\">«item»</text><text fill=\"#000000\" font-family=\"sans-serif\" font-size=\"12\" lengthAdjust=\"spacingAndGlyphs\" textLength=\"24\" x=\"53\" y=\"468.1074\">b: B</text><line style=\"stroke: #383838; stroke-width: 1.5;\" x1=\"46.5\" x2=\"87.5\" y1=\"475.9375\" y2=\"475.9375\"/></a><!--MD5=[270fce915f116d4de14055a7c1d9a0f3]\n",
       "class E5--><a href=\"psysml:80ae9a50-ac1f-4423-b935-68d8f5716f01\" target=\"_top\" title=\"psysml:80ae9a50-ac1f-4423-b935-68d8f5716f01\" xlink:actuate=\"onRequest\" xlink:href=\"psysml:80ae9a50-ac1f-4423-b935-68d8f5716f01\" xlink:show=\"new\" xlink:title=\"psysml:80ae9a50-ac1f-4423-b935-68d8f5716f01\" xlink:type=\"simple\"><rect fill=\"#FFFFFF\" height=\"45.9375\" id=\"E5\" rx=\"10\" ry=\"10\" style=\"stroke: #383838; stroke-width: 1.5;\" width=\"42\" x=\"151\" y=\"362\"/><text fill=\"#000000\" font-family=\"sans-serif\" font-size=\"12\" font-style=\"italic\" lengthAdjust=\"spacingAndGlyphs\" textLength=\"40\" x=\"152\" y=\"378.1387\">«part»</text><text fill=\"#000000\" font-family=\"sans-serif\" font-size=\"12\" lengthAdjust=\"spacingAndGlyphs\" textLength=\"23\" x=\"158.5\" y=\"392.1074\">c: C</text><line style=\"stroke: #383838; stroke-width: 1.5;\" x1=\"152\" x2=\"192\" y1=\"399.9375\" y2=\"399.9375\"/></a><!--MD5=[60a26617385b1d2d0262a64233df1f8d]\n",
       "class E6--><a href=\"psysml:7d838d86-0408-4401-9cbf-32b733f3993a\" target=\"_top\" title=\"psysml:7d838d86-0408-4401-9cbf-32b733f3993a\" xlink:actuate=\"onRequest\" xlink:href=\"psysml:7d838d86-0408-4401-9cbf-32b733f3993a\" xlink:show=\"new\" xlink:title=\"psysml:7d838d86-0408-4401-9cbf-32b733f3993a\" xlink:type=\"simple\"><rect fill=\"#FFFFFF\" height=\"45.9375\" id=\"E6\" style=\"stroke: #383838; stroke-width: 1.5;\" width=\"71\" x=\"112.5\" y=\"637\"/><text fill=\"#000000\" font-family=\"sans-serif\" font-size=\"12\" font-style=\"italic\" lengthAdjust=\"spacingAndGlyphs\" textLength=\"69\" x=\"113.5\" y=\"653.1387\">«item  def»</text><text fill=\"#000000\" font-family=\"sans-serif\" font-size=\"12\" font-style=\"italic\" lengthAdjust=\"spacingAndGlyphs\" textLength=\"8\" x=\"144\" y=\"667.1074\">B</text><line style=\"stroke: #383838; stroke-width: 1.5;\" x1=\"113.5\" x2=\"182.5\" y1=\"674.9375\" y2=\"674.9375\"/></a><!--MD5=[2156ba9850f5573cc1fc38a6a4b2f02b]\n",
       "class E7--><a href=\"psysml:d06b8fcb-8cda-493c-875d-bdf01ed715df\" target=\"_top\" title=\"psysml:d06b8fcb-8cda-493c-875d-bdf01ed715df\" xlink:actuate=\"onRequest\" xlink:href=\"psysml:d06b8fcb-8cda-493c-875d-bdf01ed715df\" xlink:show=\"new\" xlink:title=\"psysml:d06b8fcb-8cda-493c-875d-bdf01ed715df\" xlink:type=\"simple\"><rect fill=\"#FFFFFF\" height=\"45.9375\" id=\"E7\" rx=\"10\" ry=\"10\" style=\"stroke: #383838; stroke-width: 1.5;\" width=\"42\" x=\"159\" y=\"744\"/><text fill=\"#000000\" font-family=\"sans-serif\" font-size=\"12\" font-style=\"italic\" lengthAdjust=\"spacingAndGlyphs\" textLength=\"40\" x=\"160\" y=\"760.1387\">«part»</text><text fill=\"#000000\" font-family=\"sans-serif\" font-size=\"12\" font-style=\"italic\" lengthAdjust=\"spacingAndGlyphs\" textLength=\"8\" x=\"166\" y=\"774.1074\">a</text><text fill=\"#000000\" font-family=\"sans-serif\" font-size=\"12\" lengthAdjust=\"spacingAndGlyphs\" textLength=\"16\" x=\"174\" y=\"774.1074\">: A</text><line style=\"stroke: #383838; stroke-width: 1.5;\" x1=\"160\" x2=\"200\" y1=\"781.9375\" y2=\"781.9375\"/></a><!--MD5=[b9389687b975829384b498ac4b7476b2]\n",
       "class E8--><a href=\"psysml:a2efb8df-7581-49ed-b24f-8030c12b0405\" target=\"_top\" title=\"psysml:a2efb8df-7581-49ed-b24f-8030c12b0405\" xlink:actuate=\"onRequest\" xlink:href=\"psysml:a2efb8df-7581-49ed-b24f-8030c12b0405\" xlink:show=\"new\" xlink:title=\"psysml:a2efb8df-7581-49ed-b24f-8030c12b0405\" xlink:type=\"simple\"><rect fill=\"#FFFFFF\" height=\"45.9375\" id=\"E8\" style=\"stroke: #383838; stroke-width: 1.5;\" width=\"70\" x=\"113\" y=\"514\"/><text fill=\"#000000\" font-family=\"sans-serif\" font-size=\"12\" font-style=\"italic\" lengthAdjust=\"spacingAndGlyphs\" textLength=\"68\" x=\"114\" y=\"530.1387\">«part  def»</text><text fill=\"#000000\" font-family=\"sans-serif\" font-size=\"12\" lengthAdjust=\"spacingAndGlyphs\" textLength=\"8\" x=\"144\" y=\"544.1074\">C</text><line style=\"stroke: #383838; stroke-width: 1.5;\" x1=\"114\" x2=\"182\" y1=\"551.9375\" y2=\"551.9375\"/></a><!--MD5=[fd4143e9d270a159db93a4ea2a975926]\n",
       "class E9--><a href=\"psysml:91f3ce36-c57b-44eb-a625-32b1f3011842\" target=\"_top\" title=\"psysml:91f3ce36-c57b-44eb-a625-32b1f3011842\" xlink:actuate=\"onRequest\" xlink:href=\"psysml:91f3ce36-c57b-44eb-a625-32b1f3011842\" xlink:show=\"new\" xlink:title=\"psysml:91f3ce36-c57b-44eb-a625-32b1f3011842\" xlink:type=\"simple\"><rect fill=\"#FFFFFF\" height=\"45.9375\" id=\"E9\" style=\"stroke: #383838; stroke-width: 1.5;\" width=\"70\" x=\"64\" y=\"41\"/><text fill=\"#000000\" font-family=\"sans-serif\" font-size=\"12\" font-style=\"italic\" lengthAdjust=\"spacingAndGlyphs\" textLength=\"68\" x=\"65\" y=\"57.1387\">«port  def»</text><text fill=\"#000000\" font-family=\"sans-serif\" font-size=\"12\" lengthAdjust=\"spacingAndGlyphs\" textLength=\"8\" x=\"95\" y=\"71.1074\">P</text><line style=\"stroke: #383838; stroke-width: 1.5;\" x1=\"65\" x2=\"133\" y1=\"78.9375\" y2=\"78.9375\"/></a><!--MD5=[96f4274e9e20536e775497830990834d]\n",
       "class E10--><a href=\"psysml:5a8db81a-c733-4c6f-be90-4f9ffe214caa\" target=\"_top\" title=\"psysml:5a8db81a-c733-4c6f-be90-4f9ffe214caa\" xlink:actuate=\"onRequest\" xlink:href=\"psysml:5a8db81a-c733-4c6f-be90-4f9ffe214caa\" xlink:show=\"new\" xlink:title=\"psysml:5a8db81a-c733-4c6f-be90-4f9ffe214caa\" xlink:type=\"simple\"><rect fill=\"#FFFFFF\" height=\"45.9375\" id=\"E10\" rx=\"10\" ry=\"10\" style=\"stroke: #383838; stroke-width: 1.5;\" width=\"43\" x=\"32.5\" y=\"148\"/><text fill=\"#000000\" font-family=\"sans-serif\" font-size=\"12\" font-style=\"italic\" lengthAdjust=\"spacingAndGlyphs\" textLength=\"41\" x=\"33.5\" y=\"164.1387\">«item»</text><text fill=\"#000000\" font-family=\"sans-serif\" font-size=\"12\" lengthAdjust=\"spacingAndGlyphs\" textLength=\"32\" x=\"36\" y=\"178.1074\">a1: A</text><line style=\"stroke: #383838; stroke-width: 1.5;\" x1=\"33.5\" x2=\"74.5\" y1=\"185.9375\" y2=\"185.9375\"/></a><!--MD5=[1dd1bfd58a279cf63c5f349dbc8fc6a1]\n",
       "class E11--><a href=\"psysml:50797105-d3dc-4af6-be0e-986a23cb6cc7\" target=\"_top\" title=\"psysml:50797105-d3dc-4af6-be0e-986a23cb6cc7\" xlink:actuate=\"onRequest\" xlink:href=\"psysml:50797105-d3dc-4af6-be0e-986a23cb6cc7\" xlink:show=\"new\" xlink:title=\"psysml:50797105-d3dc-4af6-be0e-986a23cb6cc7\" xlink:type=\"simple\"><rect fill=\"#FFFFFF\" height=\"45.9375\" id=\"E11\" rx=\"10\" ry=\"10\" style=\"stroke: #383838; stroke-width: 1.5;\" width=\"43\" x=\"110.5\" y=\"148\"/><text fill=\"#000000\" font-family=\"sans-serif\" font-size=\"12\" font-style=\"italic\" lengthAdjust=\"spacingAndGlyphs\" textLength=\"41\" x=\"111.5\" y=\"164.1387\">«item»</text><text fill=\"#000000\" font-family=\"sans-serif\" font-size=\"12\" lengthAdjust=\"spacingAndGlyphs\" textLength=\"32\" x=\"114\" y=\"178.1074\">a2: A</text><line style=\"stroke: #383838; stroke-width: 1.5;\" x1=\"111.5\" x2=\"152.5\" y1=\"185.9375\" y2=\"185.9375\"/></a><!--MD5=[2720a5a1f2c3fca2055b230370638851]\n",
       "link E2 to E3--><a href=\"psysml:2d349f36-3ef3-481f-a80c-9f5be02d82e3\" target=\"_top\" title=\"psysml:2d349f36-3ef3-481f-a80c-9f5be02d82e3\" xlink:actuate=\"onRequest\" xlink:href=\"psysml:2d349f36-3ef3-481f-a80c-9f5be02d82e3\" xlink:show=\"new\" xlink:title=\"psysml:2d349f36-3ef3-481f-a80c-9f5be02d82e3\" xlink:type=\"simple\"><path d=\"M193.65,194.01 C184.14,206.81 171.89,223.3 160.82,238.2 \" fill=\"none\" id=\"E2-&gt;E3\" style=\"stroke: #383838; stroke-width: 1.0;\"/><polygon fill=\"#FFFFFF\" points=\"148.6,254.66,154.3195,235.2361,165.5543,243.5896,148.6,254.66\" style=\"stroke: #383838; stroke-width: 1.0;\"/><ellipse cx=\"159.3256\" cy=\"231.8554\" fill=\"#383838\" rx=\"2\" ry=\"2\" style=\"stroke: #383838; stroke-width: 1.0;\"/><ellipse cx=\"167.3504\" cy=\"237.8221\" fill=\"#383838\" rx=\"2\" ry=\"2\" style=\"stroke: #383838; stroke-width: 1.0;\"/></a><!--MD5=[4672eba38e49728da53d11aeb285b987]\n",
       "reverse link E3 to E4--><a href=\"psysml:1fc0b9c6-f917-494b-8539-e8a30a151a21\" target=\"_top\" title=\"psysml:1fc0b9c6-f917-494b-8539-e8a30a151a21\" xlink:actuate=\"onRequest\" xlink:href=\"psysml:1fc0b9c6-f917-494b-8539-e8a30a151a21\" xlink:show=\"new\" xlink:title=\"psysml:1fc0b9c6-f917-494b-8539-e8a30a151a21\" xlink:type=\"simple\"><path d=\"M97.11,310.9 C84.08,325.11 70.81,342.94 64,362 C55.12,386.85 58.09,417.53 61.82,437.88 \" fill=\"none\" id=\"E3&lt;-E4\" style=\"stroke: #383838; stroke-width: 1.0;\"/><polygon fill=\"#383838\" points=\"106.46,301.23,99.4153,302.7703,98.1277,309.8655,105.1724,308.3252,106.46,301.23\" style=\"stroke: #383838; stroke-width: 1.0;\"/><text fill=\"#000000\" font-family=\"sans-serif\" font-size=\"13\" lengthAdjust=\"spacingAndGlyphs\" textLength=\"8\" x=\"51.3529\" y=\"426.744\">1</text></a><!--MD5=[191cde3d490a3f6d7bb551fe3ddca469]\n",
       "reverse link E3 to E5--><a href=\"psysml:1188b8bd-fcbe-4041-bfa3-3c6757b772de\" target=\"_top\" title=\"psysml:1188b8bd-fcbe-4041-bfa3-3c6757b772de\" xlink:actuate=\"onRequest\" xlink:href=\"psysml:1188b8bd-fcbe-4041-bfa3-3c6757b772de\" xlink:show=\"new\" xlink:title=\"psysml:1188b8bd-fcbe-4041-bfa3-3c6757b772de\" xlink:type=\"simple\"><path d=\"M145.17,313.57 C151.2,329.39 158.16,347.68 163.49,361.66 \" fill=\"none\" id=\"E3&lt;-E5\" style=\"stroke: #383838; stroke-width: 1.0;\"/><polygon fill=\"#FFFFFF\" points=\"140.39,301.01,138.7866,308.0406,144.6598,312.2247,146.2631,305.1941,140.39,301.01\" style=\"stroke: #383838; stroke-width: 1.0;\"/><text fill=\"#000000\" font-family=\"sans-serif\" font-size=\"13\" lengthAdjust=\"spacingAndGlyphs\" textLength=\"8\" x=\"152.2843\" y=\"350.8492\">1</text></a><!--MD5=[79568f1e445c3877b6a54524624ccc7d]\n",
       "link E4 to E6--><a href=\"psysml:b444802f-fd06-4322-964d-2bd41504258e\" target=\"_top\" title=\"psysml:b444802f-fd06-4322-964d-2bd41504258e\" xlink:actuate=\"onRequest\" xlink:href=\"psysml:b444802f-fd06-4322-964d-2bd41504258e\" xlink:show=\"new\" xlink:title=\"psysml:b444802f-fd06-4322-964d-2bd41504258e\" xlink:type=\"simple\"><path d=\"M72.25,484.22 C77.31,504.36 85.72,534.68 96,560 C104.15,580.08 115.08,601.47 124.82,619.21 \" fill=\"none\" id=\"E4-&gt;E6\" style=\"stroke: #383838; stroke-width: 1.0;\"/><polygon fill=\"#FFFFFF\" points=\"134.72,636.8,119.2979,623.6791,131.4967,616.8097,134.72,636.8\" style=\"stroke: #383838; stroke-width: 1.0;\"/><ellipse cx=\"118.2438\" cy=\"617.7311\" fill=\"#383838\" rx=\"2\" ry=\"2\" style=\"stroke: #383838; stroke-width: 1.0;\"/><ellipse cx=\"126.9572\" cy=\"612.8244\" fill=\"#383838\" rx=\"2\" ry=\"2\" style=\"stroke: #383838; stroke-width: 1.0;\"/></a><!--MD5=[3f50a3473f1dfb74d3f76443e03635af]\n",
       "reverse link E6 to E7--><a href=\"psysml:fe8fc95e-22bb-46d1-b0fd-61d73c45474f\" target=\"_top\" title=\"psysml:fe8fc95e-22bb-46d1-b0fd-61d73c45474f\" xlink:actuate=\"onRequest\" xlink:href=\"psysml:fe8fc95e-22bb-46d1-b0fd-61d73c45474f\" xlink:show=\"new\" xlink:title=\"psysml:fe8fc95e-22bb-46d1-b0fd-61d73c45474f\" xlink:type=\"simple\"><path d=\"M158.54,695.57 C163.36,711.39 168.93,729.68 173.19,743.66 \" fill=\"none\" id=\"E6&lt;-E7\" style=\"stroke: #383838; stroke-width: 1.0;\"/><polygon fill=\"#383838\" points=\"154.71,683.01,152.6319,689.9152,158.2066,694.4893,160.2847,687.5841,154.71,683.01\" style=\"stroke: #383838; stroke-width: 1.0;\"/><text fill=\"#000000\" font-family=\"sans-serif\" font-size=\"13\" lengthAdjust=\"spacingAndGlyphs\" textLength=\"8\" x=\"162.4199\" y=\"732.8492\">1</text></a><!--MD5=[14ccda38c055a5c0da953d572bc50960]\n",
       "link E7 to E3--><a href=\"psysml:599ea15b-bb0f-4f03-a502-f2e1a3a71e91\" target=\"_top\" title=\"psysml:599ea15b-bb0f-4f03-a502-f2e1a3a71e91\" xlink:actuate=\"onRequest\" xlink:href=\"psysml:599ea15b-bb0f-4f03-a502-f2e1a3a71e91\" xlink:show=\"new\" xlink:title=\"psysml:599ea15b-bb0f-4f03-a502-f2e1a3a71e91\" xlink:type=\"simple\"><path d=\"M197.41,743.63 C211.5,723.27 229,691.78 229,661 C229,384 229,384 229,384 C229,353.7 206.93,328.42 183.85,310.26 \" fill=\"none\" id=\"E7-&gt;E3\" style=\"stroke: #383838; stroke-width: 1.0;\"/><polygon fill=\"#FFFFFF\" points=\"167.57,298.59,187.0929,303.9617,178.9414,315.3438,167.57,298.59\" style=\"stroke: #383838; stroke-width: 1.0;\"/><ellipse cx=\"190.5626\" cy=\"308.9066\" fill=\"#383838\" rx=\"2\" ry=\"2\" style=\"stroke: #383838; stroke-width: 1.0;\"/><ellipse cx=\"184.7401\" cy=\"317.0367\" fill=\"#383838\" rx=\"2\" ry=\"2\" style=\"stroke: #383838; stroke-width: 1.0;\"/></a><!--MD5=[dfaffb906826c3e5aca635516100ff21]\n",
       "link E5 to E8--><a href=\"psysml:ebb03462-10dd-4a39-86ac-c1648f226bb6\" target=\"_top\" title=\"psysml:ebb03462-10dd-4a39-86ac-c1648f226bb6\" xlink:actuate=\"onRequest\" xlink:href=\"psysml:ebb03462-10dd-4a39-86ac-c1648f226bb6\" xlink:show=\"new\" xlink:title=\"psysml:ebb03462-10dd-4a39-86ac-c1648f226bb6\" xlink:type=\"simple\"><path d=\"M168.46,408.13 C164.86,430.62 159.2,466.01 154.74,493.87 \" fill=\"none\" id=\"E5-&gt;E8\" style=\"stroke: #383838; stroke-width: 1.0;\"/><polygon fill=\"#FFFFFF\" points=\"151.56,513.78,147.6458,493.9135,161.4704,496.1226,151.56,513.78\" style=\"stroke: #383838; stroke-width: 1.0;\"/><ellipse cx=\"150.5202\" cy=\"488.6005\" fill=\"#383838\" rx=\"2\" ry=\"2\" style=\"stroke: #383838; stroke-width: 1.0;\"/><ellipse cx=\"160.3949\" cy=\"490.1784\" fill=\"#383838\" rx=\"2\" ry=\"2\" style=\"stroke: #383838; stroke-width: 1.0;\"/></a><!--MD5=[03c8294790d3c57651a1993cecff665f]\n",
       "reverse link E8 to E3--><a href=\"psysml:4ca20137-091c-4af4-8b05-aa2379f8c92e\" target=\"_top\" title=\"psysml:4ca20137-091c-4af4-8b05-aa2379f8c92e\" xlink:actuate=\"onRequest\" xlink:href=\"psysml:4ca20137-091c-4af4-8b05-aa2379f8c92e\" xlink:show=\"new\" xlink:title=\"psysml:4ca20137-091c-4af4-8b05-aa2379f8c92e\" xlink:type=\"simple\"><path d=\"M140.02,501.22 C134.57,475.6 127.84,439.84 125,408 C123.18,387.64 124.14,382.43 125,362 C125.87,341.34 127.95,317.86 129.62,301.16 \" fill=\"none\" id=\"E8&lt;-E3\" style=\"stroke: #383838; stroke-width: 1.0;\"/><polygon fill=\"#FFFFFF\" points=\"142.81,513.96,145.4388,507.2451,140.2515,502.2359,137.6227,508.9508,142.81,513.96\" style=\"stroke: #383838; stroke-width: 1.0;\"/><text fill=\"#000000\" font-family=\"sans-serif\" font-size=\"13\" lengthAdjust=\"spacingAndGlyphs\" textLength=\"7\" x=\"126\" y=\"389.5669\">y</text></a><!--MD5=[0d75d2178373a6a4568e5dc728f58aef]\n",
       "reverse link E8 to E6--><a href=\"psysml:4ca20137-091c-4af4-8b05-aa2379f8c92e\" target=\"_top\" title=\"psysml:4ca20137-091c-4af4-8b05-aa2379f8c92e\" xlink:actuate=\"onRequest\" xlink:href=\"psysml:4ca20137-091c-4af4-8b05-aa2379f8c92e\" xlink:show=\"new\" xlink:title=\"psysml:4ca20137-091c-4af4-8b05-aa2379f8c92e\" xlink:type=\"simple\"><path d=\"M148,573.22 C148,593.81 148,619.16 148,636.95 \" fill=\"none\" id=\"E8&lt;-E6\" style=\"stroke: #383838; stroke-width: 1.0;\"/><polygon fill=\"#FFFFFF\" points=\"148,560.19,144,566.19,148,572.19,152,566.19,148,560.19\" style=\"stroke: #383838; stroke-width: 1.0;\"/><text fill=\"#000000\" font-family=\"sans-serif\" font-size=\"13\" lengthAdjust=\"spacingAndGlyphs\" textLength=\"7\" x=\"149\" y=\"603.0669\">y</text></a><!--MD5=[23ac544a70576c3e717098101004234c]\n",
       "reverse link E9 to E10--><a href=\"psysml:bbec5841-3ffd-488b-b643-01adfe752a25\" target=\"_top\" title=\"psysml:bbec5841-3ffd-488b-b643-01adfe752a25\" xlink:actuate=\"onRequest\" xlink:href=\"psysml:bbec5841-3ffd-488b-b643-01adfe752a25\" xlink:show=\"new\" xlink:title=\"psysml:bbec5841-3ffd-488b-b643-01adfe752a25\" xlink:type=\"simple\"><path d=\"M84.39,99.1 C77.56,115.03 69.63,133.54 63.58,147.66 \" fill=\"none\" id=\"E9&lt;-E10\" style=\"stroke: #383838; stroke-width: 1.0;\"/><polygon fill=\"#FFFFFF\" points=\"89.57,87.01,83.5327,90.9535,84.8509,98.0431,90.8882,94.0996,89.57,87.01\" style=\"stroke: #383838; stroke-width: 1.0;\"/><text fill=\"#000000\" font-family=\"sans-serif\" font-size=\"13\" lengthAdjust=\"spacingAndGlyphs\" textLength=\"8\" x=\"57.0099\" y=\"136.8492\">1</text></a><!--MD5=[feeac5eb423634930294aa81f2d25a4c]\n",
       "link E10 to E3--><a href=\"psysml:fb12afbf-9138-40ff-bf3b-75b81b096774\" target=\"_top\" title=\"psysml:fb12afbf-9138-40ff-bf3b-75b81b096774\" xlink:actuate=\"onRequest\" xlink:href=\"psysml:fb12afbf-9138-40ff-bf3b-75b81b096774\" xlink:show=\"new\" xlink:title=\"psysml:fb12afbf-9138-40ff-bf3b-75b81b096774\" xlink:type=\"simple\"><path d=\"M70.35,194.01 C79.86,206.81 92.11,223.3 103.18,238.2 \" fill=\"none\" id=\"E10-&gt;E3\" style=\"stroke: #383838; stroke-width: 1.0;\"/><polygon fill=\"#FFFFFF\" points=\"115.4,254.66,98.4457,243.5896,109.6805,235.2361,115.4,254.66\" style=\"stroke: #383838; stroke-width: 1.0;\"/><ellipse cx=\"96.6496\" cy=\"237.8221\" fill=\"#383838\" rx=\"2\" ry=\"2\" style=\"stroke: #383838; stroke-width: 1.0;\"/><ellipse cx=\"104.6744\" cy=\"231.8554\" fill=\"#383838\" rx=\"2\" ry=\"2\" style=\"stroke: #383838; stroke-width: 1.0;\"/></a><!--MD5=[1fc04a95fd77ad5ce46c1a3027516051]\n",
       "reverse link E9 to E11--><a href=\"psysml:20edee2c-da5c-4ff9-9cec-febcc5f58071\" target=\"_top\" title=\"psysml:20edee2c-da5c-4ff9-9cec-febcc5f58071\" xlink:actuate=\"onRequest\" xlink:href=\"psysml:20edee2c-da5c-4ff9-9cec-febcc5f58071\" xlink:show=\"new\" xlink:title=\"psysml:20edee2c-da5c-4ff9-9cec-febcc5f58071\" xlink:type=\"simple\"><path d=\"M109.87,99.57 C114.84,115.39 120.59,133.68 124.98,147.66 \" fill=\"none\" id=\"E9&lt;-E11\" style=\"stroke: #383838; stroke-width: 1.0;\"/><polygon fill=\"#FFFFFF\" points=\"105.92,87.01,103.9044,93.9337,109.5203,98.4572,111.5359,91.5335,105.92,87.01\" style=\"stroke: #383838; stroke-width: 1.0;\"/><text fill=\"#000000\" font-family=\"sans-serif\" font-size=\"13\" lengthAdjust=\"spacingAndGlyphs\" textLength=\"8\" x=\"114.1561\" y=\"136.8492\">1</text></a><!--MD5=[0517f1ce58c4d5483948f93845c45e26]\n",
       "link E11 to E3--><a href=\"psysml:6098403c-f8e4-4c64-8bc6-7f6e4aceb826\" target=\"_top\" title=\"psysml:6098403c-f8e4-4c64-8bc6-7f6e4aceb826\" xlink:actuate=\"onRequest\" xlink:href=\"psysml:6098403c-f8e4-4c64-8bc6-7f6e4aceb826\" xlink:show=\"new\" xlink:title=\"psysml:6098403c-f8e4-4c64-8bc6-7f6e4aceb826\" xlink:type=\"simple\"><path d=\"M132,194.01 C132,205.69 132,220.46 132,234.28 \" fill=\"none\" id=\"E11-&gt;E3\" style=\"stroke: #383838; stroke-width: 1.0;\"/><polygon fill=\"#FFFFFF\" points=\"132,254.66,125,235.66,139,235.66,132,254.66\" style=\"stroke: #383838; stroke-width: 1.0;\"/><ellipse cx=\"127\" cy=\"229.96\" fill=\"#383838\" rx=\"2\" ry=\"2\" style=\"stroke: #383838; stroke-width: 1.0;\"/><ellipse cx=\"137\" cy=\"229.96\" fill=\"#383838\" rx=\"2\" ry=\"2\" style=\"stroke: #383838; stroke-width: 1.0;\"/></a><!--MD5=[628f7ac7d8573ca6b7689e4103d2aa11]\n",
       "@startuml\r\n",
       "top to bottom direction\r\n",
       "skinparam monochrome true\r\n",
       "skinparam classbackgroundcolor white\r\n",
       "skinparam shadowing false\r\n",
       "skinparam wrapWidth 300\r\n",
       "hide circle\r\n",
       "\r\n",
       "package \"ItemTest\" as E1  [[psysml:05177c11-5394-41b2-a0a0-71a4c06ed611 ]]  {\r\n",
       "comp usage \"f: A \" as E2  <<(T,blue) item>> [[psysml:9b37ce48-aa06-4adb-ba3b-3b1410731947 ]] {\r\n",
       "}\r\n",
       "comp def \"A\" as E3  <<(T,blue) item  def>> [[psysml:373f36dd-9125-4f4d-9beb-8d6cd21e1469 ]] {\r\n",
       "}\r\n",
       "comp usage \"b: B \" as E4  <<(T,blue) item>> [[psysml:130e11a2-3d5f-4cd9-b0cd-9225a7528360 ]] {\r\n",
       "}\r\n",
       "comp usage \"c: C \" as E5  <<(T,blue) part>> [[psysml:80ae9a50-ac1f-4423-b935-68d8f5716f01 ]] {\r\n",
       "}\r\n",
       "comp def \"<i>B</i>\" as E6  <<(T,blue) item  def>> [[psysml:7d838d86-0408-4401-9cbf-32b733f3993a ]] {\r\n",
       "}\r\n",
       "comp usage \"<i>a</i>: A \" as E7  <<(T,blue) part>> [[psysml:d06b8fcb-8cda-493c-875d-bdf01ed715df ]] {\r\n",
       "}\r\n",
       "comp def \"C\" as E8  <<(T,blue) part  def>> [[psysml:a2efb8df-7581-49ed-b24f-8030c12b0405 ]] {\r\n",
       "}\r\n",
       "comp def \"P\" as E9  <<(T,blue) port  def>> [[psysml:91f3ce36-c57b-44eb-a625-32b1f3011842 ]] {\r\n",
       "}\r\n",
       "comp usage \"a1: A \" as E10  <<(T,blue) item>> [[psysml:5a8db81a-c733-4c6f-be90-4f9ffe214caa ]] {\r\n",
       "}\r\n",
       "comp usage \"a2: A \" as E11  <<(T,blue) item>> [[psysml:50797105-d3dc-4af6-be0e-986a23cb6cc7 ]] {\r\n",
       "}\r\n",
       "}\r\n",
       "E2 - -:|> E3 [[psysml:2d349f36-3ef3-481f-a80c-9f5be02d82e3 ]] \r\n",
       "E3 *- - \"1\"E4 [[psysml:1fc0b9c6-f917-494b-8539-e8a30a151a21 ]] \r\n",
       "E3 o- - \"1\"E5 [[psysml:1188b8bd-fcbe-4041-bfa3-3c6757b772de ]] \r\n",
       "E4 - -:|> E6 [[psysml:b444802f-fd06-4322-964d-2bd41504258e ]] \r\n",
       "E6 *- - \"1\"E7 [[psysml:fe8fc95e-22bb-46d1-b0fd-61d73c45474f ]] \r\n",
       "E7 - -:|> E3 [[psysml:599ea15b-bb0f-4f03-a502-f2e1a3a71e91 ]] \r\n",
       "E5 - -:|> E8 [[psysml:ebb03462-10dd-4a39-86ac-c1648f226bb6 ]] \r\n",
       "E8 o- - E3 [[psysml:4ca20137-091c-4af4-8b05-aa2379f8c92e ]] : y\r\n",
       "E8 o- - E6 [[psysml:4ca20137-091c-4af4-8b05-aa2379f8c92e ]] : y\r\n",
       "E9 o- - \"1\"E10 [[psysml:bbec5841-3ffd-488b-b643-01adfe752a25 ]] \r\n",
       "E10 - -:|> E3 [[psysml:fb12afbf-9138-40ff-bf3b-75b81b096774 ]] \r\n",
       "E9 o- - \"1\"E11 [[psysml:20edee2c-da5c-4ff9-9cec-febcc5f58071 ]] \r\n",
       "E11 - -:|> E3 [[psysml:6098403c-f8e4-4c64-8bc6-7f6e4aceb826 ]] \r\n",
       "@enduml\r\n",
       "\n",
       "PlantUML version 1.2020.13(Sat Jun 13 12:26:38 UTC 2020)\n",
       "(EPL source distribution)\n",
       "Java Runtime: OpenJDK Runtime Environment\n",
       "JVM: OpenJDK 64-Bit Server VM\n",
       "Default Encoding: UTF-8\n",
       "Language: en\n",
       "Country: null\n",
       "--></g></svg>"
      ]
     },
     "execution_count": 45,
     "metadata": {},
     "output_type": "execute_result"
    }
   ],
   "source": [
    "%viz --style=\"TB\" --view=\"Tree\" \"ItemTest\""
   ]
  },
  {
   "cell_type": "code",
   "execution_count": 46,
   "id": "5f7bcc96",
   "metadata": {
    "execution": {
     "iopub.execute_input": "2022-04-22T09:48:26.526119Z",
     "iopub.status.busy": "2022-04-22T09:48:26.525647Z",
     "iopub.status.idle": "2022-04-22T09:48:26.530412Z",
     "shell.execute_reply": "2022-04-22T09:48:26.530024Z"
    }
   },
   "outputs": [
    {
     "data": {
      "image/svg+xml": [
       "<?xml version=\"1.0\" encoding=\"UTF-8\" standalone=\"no\"?><svg xmlns=\"http://www.w3.org/2000/svg\" xmlns:xlink=\"http://www.w3.org/1999/xlink\" contentScriptType=\"application/ecmascript\" contentStyleType=\"text/css\" height=\"12px\" preserveAspectRatio=\"none\" style=\"width:12px;height:12px;\" version=\"1.1\" viewBox=\"0 0 12 12\" width=\"12px\" zoomAndPan=\"magnify\"><defs/><g><!--MD5=[f4ee21bc66e489b5061b7c3e9601fdef]\n",
       "@startuml\r\n",
       "top to bottom direction\r\n",
       "skinparam monochrome true\r\n",
       "skinparam classbackgroundcolor white\r\n",
       "skinparam shadowing false\r\n",
       "skinparam wrapWidth 300\r\n",
       "hide circle\r\n",
       "\r\n",
       "@enduml\r\n",
       "\n",
       "PlantUML version 1.2020.13(Sat Jun 13 12:26:38 UTC 2020)\n",
       "(EPL source distribution)\n",
       "Java Runtime: OpenJDK Runtime Environment\n",
       "JVM: OpenJDK 64-Bit Server VM\n",
       "Default Encoding: UTF-8\n",
       "Language: en\n",
       "Country: null\n",
       "--></g></svg>"
      ]
     },
     "execution_count": 46,
     "metadata": {},
     "output_type": "execute_result"
    }
   ],
   "source": [
    "%viz --style=\"TB\" --view=\"State\" \"ItemTest\""
   ]
  },
  {
   "cell_type": "code",
   "execution_count": 47,
   "id": "3e3722c6",
   "metadata": {
    "execution": {
     "iopub.execute_input": "2022-04-22T09:48:26.580168Z",
     "iopub.status.busy": "2022-04-22T09:48:26.579702Z",
     "iopub.status.idle": "2022-04-22T09:48:26.609915Z",
     "shell.execute_reply": "2022-04-22T09:48:26.609538Z"
    }
   },
   "outputs": [
    {
     "data": {
      "image/svg+xml": [
       "<?xml version=\"1.0\" encoding=\"UTF-8\" standalone=\"no\"?><svg xmlns=\"http://www.w3.org/2000/svg\" xmlns:xlink=\"http://www.w3.org/1999/xlink\" contentScriptType=\"application/ecmascript\" contentStyleType=\"text/css\" height=\"179px\" preserveAspectRatio=\"none\" style=\"width:474px;height:179px;\" version=\"1.1\" viewBox=\"0 0 474 179\" width=\"474px\" zoomAndPan=\"magnify\"><defs/><g><!--MD5=[fbc87193dbaf4d95561dea2c320d4a47]\n",
       "cluster E1--><a href=\"psysml:05177c11-5394-41b2-a0a0-71a4c06ed611\" target=\"_top\" title=\"psysml:05177c11-5394-41b2-a0a0-71a4c06ed611\" xlink:actuate=\"onRequest\" xlink:href=\"psysml:05177c11-5394-41b2-a0a0-71a4c06ed611\" xlink:show=\"new\" xlink:title=\"psysml:05177c11-5394-41b2-a0a0-71a4c06ed611\" xlink:type=\"simple\"><polygon fill=\"#FFFFFF\" points=\"16,6,83,6,90,28.2969,452,28.2969,452,167,16,167,16,6\" style=\"stroke: #000000; stroke-width: 1.5;\"/><line style=\"stroke: #000000; stroke-width: 1.5;\" x1=\"16\" x2=\"90\" y1=\"28.2969\" y2=\"28.2969\"/><text fill=\"#000000\" font-family=\"sans-serif\" font-size=\"14\" font-weight=\"bold\" lengthAdjust=\"spacingAndGlyphs\" textLength=\"61\" x=\"20\" y=\"20.9951\">ItemTest</text></a><!--MD5=[de5ec2e2e8f62f467e546659f5068c88]\n",
       "cluster E5--><a href=\"psysml:a2efb8df-7581-49ed-b24f-8030c12b0405\" target=\"_top\" title=\"psysml:a2efb8df-7581-49ed-b24f-8030c12b0405\" xlink:actuate=\"onRequest\" xlink:href=\"psysml:a2efb8df-7581-49ed-b24f-8030c12b0405\" xlink:show=\"new\" xlink:title=\"psysml:a2efb8df-7581-49ed-b24f-8030c12b0405\" xlink:type=\"simple\"><rect fill=\"#FFFFFF\" height=\"88.5\" id=\"E5\" style=\"stroke: #383838; stroke-width: 1.5;\" width=\"124\" x=\"312\" y=\"62.5\"/><rect fill=\"#F8F8F8\" height=\"37.9375\" style=\"stroke: #383838; stroke-width: 1.5;\" width=\"124\" x=\"312\" y=\"62.5\"/><text fill=\"#000000\" font-family=\"sans-serif\" font-size=\"12\" font-style=\"italic\" lengthAdjust=\"spacingAndGlyphs\" textLength=\"68\" x=\"340\" y=\"78.6387\">«part  def»</text><text fill=\"#000000\" font-family=\"sans-serif\" font-size=\"12\" lengthAdjust=\"spacingAndGlyphs\" textLength=\"8\" x=\"370\" y=\"92.6074\">C</text></a><g id=\"E1.E3\"><a href=\"psysml:373f36dd-9125-4f4d-9beb-8d6cd21e1469\" target=\"_top\" title=\"psysml:373f36dd-9125-4f4d-9beb-8d6cd21e1469\" xlink:actuate=\"onRequest\" xlink:href=\"psysml:373f36dd-9125-4f4d-9beb-8d6cd21e1469\" xlink:show=\"new\" xlink:title=\"psysml:373f36dd-9125-4f4d-9beb-8d6cd21e1469\" xlink:type=\"simple\"><rect fill=\"#FFFFFF\" height=\"42.9375\" id=\"E3\" style=\"stroke: #383838; stroke-width: 1.5;\" width=\"76\" x=\"32\" y=\"96\"/><rect fill=\"#F8F8F8\" height=\"37.9375\" style=\"stroke: #383838; stroke-width: 1.5;\" width=\"76\" x=\"32\" y=\"96\"/><text fill=\"#000000\" font-family=\"sans-serif\" font-size=\"12\" font-style=\"italic\" lengthAdjust=\"spacingAndGlyphs\" textLength=\"69\" x=\"35.5\" y=\"112.1387\">«item  def»</text><text fill=\"#000000\" font-family=\"sans-serif\" font-size=\"12\" lengthAdjust=\"spacingAndGlyphs\" textLength=\"8\" x=\"66\" y=\"126.1074\">A</text></a></g><g id=\"E1.E4\"><a href=\"psysml:7d838d86-0408-4401-9cbf-32b733f3993a\" target=\"_top\" title=\"psysml:7d838d86-0408-4401-9cbf-32b733f3993a\" xlink:actuate=\"onRequest\" xlink:href=\"psysml:7d838d86-0408-4401-9cbf-32b733f3993a\" xlink:show=\"new\" xlink:title=\"psysml:7d838d86-0408-4401-9cbf-32b733f3993a\" xlink:type=\"simple\"><rect fill=\"#FFFFFF\" height=\"42.9375\" id=\"E4\" style=\"stroke: #383838; stroke-width: 1.5;\" width=\"76\" x=\"228\" y=\"41\"/><rect fill=\"#F8F8F8\" height=\"37.9375\" style=\"stroke: #383838; stroke-width: 1.5;\" width=\"76\" x=\"228\" y=\"41\"/><text fill=\"#000000\" font-family=\"sans-serif\" font-size=\"12\" font-style=\"italic\" lengthAdjust=\"spacingAndGlyphs\" textLength=\"69\" x=\"231.5\" y=\"57.1387\">«item  def»</text><text fill=\"#000000\" font-family=\"sans-serif\" font-size=\"12\" font-style=\"italic\" lengthAdjust=\"spacingAndGlyphs\" textLength=\"8\" x=\"262\" y=\"71.1074\">B</text></a></g><g id=\"E1.E7\"><a href=\"psysml:91f3ce36-c57b-44eb-a625-32b1f3011842\" target=\"_top\" title=\"psysml:91f3ce36-c57b-44eb-a625-32b1f3011842\" xlink:actuate=\"onRequest\" xlink:href=\"psysml:91f3ce36-c57b-44eb-a625-32b1f3011842\" xlink:show=\"new\" xlink:title=\"psysml:91f3ce36-c57b-44eb-a625-32b1f3011842\" xlink:type=\"simple\"><rect fill=\"#FFFFFF\" height=\"42.9375\" id=\"E7\" style=\"stroke: #383838; stroke-width: 1.5;\" width=\"75\" x=\"117.5\" y=\"41\"/><rect fill=\"#F8F8F8\" height=\"37.9375\" style=\"stroke: #383838; stroke-width: 1.5;\" width=\"75\" x=\"117.5\" y=\"41\"/><text fill=\"#000000\" font-family=\"sans-serif\" font-size=\"12\" font-style=\"italic\" lengthAdjust=\"spacingAndGlyphs\" textLength=\"68\" x=\"121\" y=\"57.1387\">«port  def»</text><text fill=\"#000000\" font-family=\"sans-serif\" font-size=\"12\" lengthAdjust=\"spacingAndGlyphs\" textLength=\"8\" x=\"151\" y=\"71.1074\">P</text></a></g><g id=\"E1.E2\"><a href=\"psysml:9b37ce48-aa06-4adb-ba3b-3b1410731947\" target=\"_top\" title=\"psysml:9b37ce48-aa06-4adb-ba3b-3b1410731947\" xlink:actuate=\"onRequest\" xlink:href=\"psysml:9b37ce48-aa06-4adb-ba3b-3b1410731947\" xlink:show=\"new\" xlink:title=\"psysml:9b37ce48-aa06-4adb-ba3b-3b1410731947\" xlink:type=\"simple\"><rect fill=\"#FFFFFF\" height=\"42.9375\" id=\"E2\" rx=\"10\" ry=\"10\" style=\"stroke: #383838; stroke-width: 1.5;\" width=\"50\" x=\"32\" y=\"41\"/><rect fill=\"#F8F8F8\" height=\"37.9375\" rx=\"10\" ry=\"10\" style=\"stroke: #F8F8F8; stroke-width: 1.5;\" width=\"50\" x=\"32\" y=\"41\"/><rect fill=\"#F8F8F8\" height=\"10\" style=\"stroke: #F8F8F8; stroke-width: 1.5;\" width=\"50\" x=\"32\" y=\"68.9375\"/><rect fill=\"none\" height=\"42.9375\" id=\"E2\" rx=\"10\" ry=\"10\" style=\"stroke: #383838; stroke-width: 1.5;\" width=\"50\" x=\"32\" y=\"41\"/><text fill=\"#000000\" font-family=\"sans-serif\" font-size=\"12\" font-style=\"italic\" lengthAdjust=\"spacingAndGlyphs\" textLength=\"41\" x=\"36.5\" y=\"57.1387\">«item»</text><text fill=\"#000000\" font-family=\"sans-serif\" font-size=\"12\" lengthAdjust=\"spacingAndGlyphs\" textLength=\"20\" x=\"47\" y=\"71.1074\">f: A</text></a></g><text fill=\"#000000\" font-family=\"sans-serif\" font-size=\"14\" lengthAdjust=\"spacingAndGlyphs\" textLength=\"43\" x=\"350.5\" y=\"41.1982\">y: A, B</text><rect fill=\"#383838\" height=\"12\" style=\"stroke: #F8F8F8; stroke-width: 1.5;\" width=\"12\" x=\"368\" y=\"56.5\"/><!--MD5=[2720a5a1f2c3fca2055b230370638851]\n",
       "link E2 to E3--><a href=\"psysml:2d349f36-3ef3-481f-a80c-9f5be02d82e3\" target=\"_top\" title=\"psysml:2d349f36-3ef3-481f-a80c-9f5be02d82e3\" xlink:actuate=\"onRequest\" xlink:href=\"psysml:2d349f36-3ef3-481f-a80c-9f5be02d82e3\" xlink:show=\"new\" xlink:title=\"psysml:2d349f36-3ef3-481f-a80c-9f5be02d82e3\" xlink:type=\"simple\"><path d=\"M62.06,84.14 C62.09,84.26 62.12,84.38 62.15,84.5 \" fill=\"none\" id=\"E2-&gt;E3\" style=\"stroke: #383838; stroke-width: 1.0;\"/><polygon fill=\"#FFFFFF\" points=\"64.93,95.83,53.5976,79.0497,67.193,75.7084,64.93,95.83\" style=\"stroke: #383838; stroke-width: 1.0;\"/><ellipse cx=\"54.1794\" cy=\"73.0371\" fill=\"#383838\" rx=\"2\" ry=\"2\" style=\"stroke: #383838; stroke-width: 1.0;\"/><ellipse cx=\"63.8904\" cy=\"70.6505\" fill=\"#383838\" rx=\"2\" ry=\"2\" style=\"stroke: #383838; stroke-width: 1.0;\"/></a><!--MD5=[60234c08565414b66f936412d81dc5a5]\n",
       "@startuml\r\n",
       "skinparam ranksep 10\r\n",
       "skinparam rectangle {\r\n",
       " backgroundColor<<block>> LightGreen\r\n",
       "}\r\n",
       "top to bottom direction\r\n",
       "skinparam monochrome true\r\n",
       "skinparam classbackgroundcolor white\r\n",
       "skinparam shadowing false\r\n",
       "skinparam wrapWidth 300\r\n",
       "hide circle\r\n",
       "\r\n",
       "package \"ItemTest\" as E1  [[psysml:05177c11-5394-41b2-a0a0-71a4c06ed611 ]]  {\r\n",
       "rec usage \"f: A\" as E2  <<(T,blue) item>> [[psysml:9b37ce48-aa06-4adb-ba3b-3b1410731947 ]] {\r\n",
       "}\r\n",
       "def \"A\" as E3  <<(T,blue) item  def>> [[psysml:373f36dd-9125-4f4d-9beb-8d6cd21e1469 ]] \r\n",
       "def \"<i>B</i>\" as E4  <<(T,blue) item  def>> [[psysml:7d838d86-0408-4401-9cbf-32b733f3993a ]] \r\n",
       "rec def \"C\" as E5  <<(T,blue) part  def>> [[psysml:a2efb8df-7581-49ed-b24f-8030c12b0405 ]] {\r\n",
       "portin \"y: A, B \" as E6  <<(T,blue) reference>> [[psysml:4ca20137-091c-4af4-8b05-aa2379f8c92e ]] \r\n",
       "}\r\n",
       "def \"P\" as E7  <<(T,blue) port  def>> [[psysml:91f3ce36-c57b-44eb-a625-32b1f3011842 ]] \r\n",
       "}\r\n",
       "E2 - -:|> E3 [[psysml:2d349f36-3ef3-481f-a80c-9f5be02d82e3 ]] \r\n",
       "@enduml\r\n",
       "\n",
       "PlantUML version 1.2020.13(Sat Jun 13 12:26:38 UTC 2020)\n",
       "(EPL source distribution)\n",
       "Java Runtime: OpenJDK Runtime Environment\n",
       "JVM: OpenJDK 64-Bit Server VM\n",
       "Default Encoding: UTF-8\n",
       "Language: en\n",
       "Country: null\n",
       "--></g></svg>"
      ]
     },
     "execution_count": 47,
     "metadata": {},
     "output_type": "execute_result"
    }
   ],
   "source": [
    "%viz --style=\"TB\" --view=\"Interconnection\" \"ItemTest\""
   ]
  },
  {
   "cell_type": "code",
   "execution_count": 48,
   "id": "64157ac6",
   "metadata": {
    "execution": {
     "iopub.execute_input": "2022-04-22T09:48:26.659524Z",
     "iopub.status.busy": "2022-04-22T09:48:26.659062Z",
     "iopub.status.idle": "2022-04-22T09:48:26.663171Z",
     "shell.execute_reply": "2022-04-22T09:48:26.662820Z"
    }
   },
   "outputs": [
    {
     "data": {
      "image/svg+xml": [
       "<?xml version=\"1.0\" encoding=\"UTF-8\" standalone=\"no\"?><svg xmlns=\"http://www.w3.org/2000/svg\" xmlns:xlink=\"http://www.w3.org/1999/xlink\" contentScriptType=\"application/ecmascript\" contentStyleType=\"text/css\" height=\"12px\" preserveAspectRatio=\"none\" style=\"width:12px;height:12px;\" version=\"1.1\" viewBox=\"0 0 12 12\" width=\"12px\" zoomAndPan=\"magnify\"><defs/><g><!--MD5=[06afc254b03ac5e9d9fb7773b07d0800]\n",
       "@startuml\r\n",
       "skinparam ranksep 8\r\n",
       "top to bottom direction\r\n",
       "skinparam monochrome true\r\n",
       "skinparam classbackgroundcolor white\r\n",
       "skinparam shadowing false\r\n",
       "skinparam wrapWidth 300\r\n",
       "hide circle\r\n",
       "\r\n",
       "@enduml\r\n",
       "\n",
       "PlantUML version 1.2020.13(Sat Jun 13 12:26:38 UTC 2020)\n",
       "(EPL source distribution)\n",
       "Java Runtime: OpenJDK Runtime Environment\n",
       "JVM: OpenJDK 64-Bit Server VM\n",
       "Default Encoding: UTF-8\n",
       "Language: en\n",
       "Country: null\n",
       "--></g></svg>"
      ]
     },
     "execution_count": 48,
     "metadata": {},
     "output_type": "execute_result"
    }
   ],
   "source": [
    "%viz --style=\"TB\" --view=\"Action\" \"ItemTest\""
   ]
  },
  {
   "cell_type": "code",
   "execution_count": 49,
   "id": "9498859f",
   "metadata": {
    "execution": {
     "iopub.execute_input": "2022-04-22T09:48:26.713208Z",
     "iopub.status.busy": "2022-04-22T09:48:26.712739Z",
     "iopub.status.idle": "2022-04-22T09:48:26.717213Z",
     "shell.execute_reply": "2022-04-22T09:48:26.716809Z"
    }
   },
   "outputs": [
    {
     "data": {
      "image/svg+xml": [
       "<?xml version=\"1.0\" encoding=\"UTF-8\" standalone=\"no\"?><svg xmlns=\"http://www.w3.org/2000/svg\" xmlns:xlink=\"http://www.w3.org/1999/xlink\" contentScriptType=\"application/ecmascript\" contentStyleType=\"text/css\" height=\"12px\" preserveAspectRatio=\"none\" style=\"width:12px;height:12px;\" version=\"1.1\" viewBox=\"0 0 12 12\" width=\"12px\" zoomAndPan=\"magnify\"><defs/><g><!--MD5=[e1ab0c84c44d2fef8bf5f140f2689906]\n",
       "@startuml\r\n",
       "skinparam roundcorner 20\r\n",
       "skinparam BoxPadding 20\r\n",
       "skinparam SequenceBoxBackgroundColor #white\r\n",
       "skinparam style strictuml\r\n",
       "skinparam maxMessageSize 100\r\n",
       "top to bottom direction\r\n",
       "skinparam monochrome true\r\n",
       "skinparam classbackgroundcolor white\r\n",
       "skinparam shadowing false\r\n",
       "skinparam wrapWidth 300\r\n",
       "hide circle\r\n",
       "\r\n",
       "@enduml\r\n",
       "\n",
       "PlantUML version 1.2020.13(Sat Jun 13 12:26:38 UTC 2020)\n",
       "(EPL source distribution)\n",
       "Java Runtime: OpenJDK Runtime Environment\n",
       "JVM: OpenJDK 64-Bit Server VM\n",
       "Default Encoding: UTF-8\n",
       "Language: en\n",
       "Country: null\n",
       "--></g></svg>"
      ]
     },
     "execution_count": 49,
     "metadata": {},
     "output_type": "execute_result"
    }
   ],
   "source": [
    "%viz --style=\"TB\" --view=\"Sequence\" \"ItemTest\""
   ]
  },
  {
   "cell_type": "code",
   "execution_count": 50,
   "id": "677ae6fe",
   "metadata": {
    "execution": {
     "iopub.execute_input": "2022-04-22T09:48:26.767031Z",
     "iopub.status.busy": "2022-04-22T09:48:26.766561Z",
     "iopub.status.idle": "2022-04-22T09:48:26.806623Z",
     "shell.execute_reply": "2022-04-22T09:48:26.804858Z"
    }
   },
   "outputs": [
    {
     "data": {
      "image/svg+xml": [
       "<?xml version=\"1.0\" encoding=\"UTF-8\" standalone=\"no\"?><svg xmlns=\"http://www.w3.org/2000/svg\" xmlns:xlink=\"http://www.w3.org/1999/xlink\" contentScriptType=\"application/ecmascript\" contentStyleType=\"text/css\" height=\"818px\" preserveAspectRatio=\"none\" style=\"width:270px;height:818px;\" version=\"1.1\" viewBox=\"0 0 270 818\" width=\"270px\" zoomAndPan=\"magnify\"><defs/><g><!--MD5=[fbc87193dbaf4d95561dea2c320d4a47]\n",
       "cluster E1--><a href=\"psysml:05177c11-5394-41b2-a0a0-71a4c06ed611\" target=\"_top\" title=\"psysml:05177c11-5394-41b2-a0a0-71a4c06ed611\" xlink:actuate=\"onRequest\" xlink:href=\"psysml:05177c11-5394-41b2-a0a0-71a4c06ed611\" xlink:show=\"new\" xlink:title=\"psysml:05177c11-5394-41b2-a0a0-71a4c06ed611\" xlink:type=\"simple\"><polygon fill=\"#FFFFFF\" points=\"16,6,83,6,90,28.2969,248,28.2969,248,806,16,806,16,6\" style=\"stroke: #000000; stroke-width: 1.5;\"/><line style=\"stroke: #000000; stroke-width: 1.5;\" x1=\"16\" x2=\"90\" y1=\"28.2969\" y2=\"28.2969\"/><text fill=\"#000000\" font-family=\"sans-serif\" font-size=\"14\" font-weight=\"bold\" lengthAdjust=\"spacingAndGlyphs\" textLength=\"61\" x=\"20\" y=\"20.9951\">ItemTest</text></a><!--MD5=[b4997ac47864f28c2f74865a473b2911]\n",
       "class E2--><a href=\"psysml:9b37ce48-aa06-4adb-ba3b-3b1410731947\" target=\"_top\" title=\"psysml:9b37ce48-aa06-4adb-ba3b-3b1410731947\" xlink:actuate=\"onRequest\" xlink:href=\"psysml:9b37ce48-aa06-4adb-ba3b-3b1410731947\" xlink:show=\"new\" xlink:title=\"psysml:9b37ce48-aa06-4adb-ba3b-3b1410731947\" xlink:type=\"simple\"><rect fill=\"#FFFFFF\" height=\"45.9375\" id=\"E2\" rx=\"10\" ry=\"10\" style=\"stroke: #383838; stroke-width: 1.5;\" width=\"43\" x=\"188.5\" y=\"148\"/><text fill=\"#000000\" font-family=\"sans-serif\" font-size=\"12\" font-style=\"italic\" lengthAdjust=\"spacingAndGlyphs\" textLength=\"41\" x=\"189.5\" y=\"164.1387\">«item»</text><text fill=\"#000000\" font-family=\"sans-serif\" font-size=\"12\" lengthAdjust=\"spacingAndGlyphs\" textLength=\"20\" x=\"198\" y=\"178.1074\">f: A</text><line style=\"stroke: #383838; stroke-width: 1.5;\" x1=\"189.5\" x2=\"230.5\" y1=\"185.9375\" y2=\"185.9375\"/></a><!--MD5=[09b614a08d8cba4a07c9adeb5e0fee81]\n",
       "class E3--><a href=\"psysml:373f36dd-9125-4f4d-9beb-8d6cd21e1469\" target=\"_top\" title=\"psysml:373f36dd-9125-4f4d-9beb-8d6cd21e1469\" xlink:actuate=\"onRequest\" xlink:href=\"psysml:373f36dd-9125-4f4d-9beb-8d6cd21e1469\" xlink:show=\"new\" xlink:title=\"psysml:373f36dd-9125-4f4d-9beb-8d6cd21e1469\" xlink:type=\"simple\"><rect fill=\"#FFFFFF\" height=\"45.9375\" id=\"E3\" style=\"stroke: #383838; stroke-width: 1.5;\" width=\"71\" x=\"96.5\" y=\"255\"/><text fill=\"#000000\" font-family=\"sans-serif\" font-size=\"12\" font-style=\"italic\" lengthAdjust=\"spacingAndGlyphs\" textLength=\"69\" x=\"97.5\" y=\"271.1387\">«item  def»</text><text fill=\"#000000\" font-family=\"sans-serif\" font-size=\"12\" lengthAdjust=\"spacingAndGlyphs\" textLength=\"8\" x=\"128\" y=\"285.1074\">A</text><line style=\"stroke: #383838; stroke-width: 1.5;\" x1=\"97.5\" x2=\"166.5\" y1=\"292.9375\" y2=\"292.9375\"/></a><!--MD5=[ebbe1d658d1005bcc118a6aa81145e00]\n",
       "class E4--><a href=\"psysml:130e11a2-3d5f-4cd9-b0cd-9225a7528360\" target=\"_top\" title=\"psysml:130e11a2-3d5f-4cd9-b0cd-9225a7528360\" xlink:actuate=\"onRequest\" xlink:href=\"psysml:130e11a2-3d5f-4cd9-b0cd-9225a7528360\" xlink:show=\"new\" xlink:title=\"psysml:130e11a2-3d5f-4cd9-b0cd-9225a7528360\" xlink:type=\"simple\"><rect fill=\"#FFFFFF\" height=\"45.9375\" id=\"E4\" rx=\"10\" ry=\"10\" style=\"stroke: #383838; stroke-width: 1.5;\" width=\"43\" x=\"45.5\" y=\"438\"/><text fill=\"#000000\" font-family=\"sans-serif\" font-size=\"12\" font-style=\"italic\" lengthAdjust=\"spacingAndGlyphs\" textLength=\"41\" x=\"46.5\" y=\"454.1387\">«item»</text><text fill=\"#000000\" font-family=\"sans-serif\" font-size=\"12\" lengthAdjust=\"spacingAndGlyphs\" textLength=\"24\" x=\"53\" y=\"468.1074\">b: B</text><line style=\"stroke: #383838; stroke-width: 1.5;\" x1=\"46.5\" x2=\"87.5\" y1=\"475.9375\" y2=\"475.9375\"/></a><!--MD5=[270fce915f116d4de14055a7c1d9a0f3]\n",
       "class E5--><a href=\"psysml:80ae9a50-ac1f-4423-b935-68d8f5716f01\" target=\"_top\" title=\"psysml:80ae9a50-ac1f-4423-b935-68d8f5716f01\" xlink:actuate=\"onRequest\" xlink:href=\"psysml:80ae9a50-ac1f-4423-b935-68d8f5716f01\" xlink:show=\"new\" xlink:title=\"psysml:80ae9a50-ac1f-4423-b935-68d8f5716f01\" xlink:type=\"simple\"><rect fill=\"#FFFFFF\" height=\"45.9375\" id=\"E5\" rx=\"10\" ry=\"10\" style=\"stroke: #383838; stroke-width: 1.5;\" width=\"42\" x=\"151\" y=\"362\"/><text fill=\"#000000\" font-family=\"sans-serif\" font-size=\"12\" font-style=\"italic\" lengthAdjust=\"spacingAndGlyphs\" textLength=\"40\" x=\"152\" y=\"378.1387\">«part»</text><text fill=\"#000000\" font-family=\"sans-serif\" font-size=\"12\" lengthAdjust=\"spacingAndGlyphs\" textLength=\"23\" x=\"158.5\" y=\"392.1074\">c: C</text><line style=\"stroke: #383838; stroke-width: 1.5;\" x1=\"152\" x2=\"192\" y1=\"399.9375\" y2=\"399.9375\"/></a><!--MD5=[60a26617385b1d2d0262a64233df1f8d]\n",
       "class E6--><a href=\"psysml:7d838d86-0408-4401-9cbf-32b733f3993a\" target=\"_top\" title=\"psysml:7d838d86-0408-4401-9cbf-32b733f3993a\" xlink:actuate=\"onRequest\" xlink:href=\"psysml:7d838d86-0408-4401-9cbf-32b733f3993a\" xlink:show=\"new\" xlink:title=\"psysml:7d838d86-0408-4401-9cbf-32b733f3993a\" xlink:type=\"simple\"><rect fill=\"#FFFFFF\" height=\"45.9375\" id=\"E6\" style=\"stroke: #383838; stroke-width: 1.5;\" width=\"71\" x=\"112.5\" y=\"637\"/><text fill=\"#000000\" font-family=\"sans-serif\" font-size=\"12\" font-style=\"italic\" lengthAdjust=\"spacingAndGlyphs\" textLength=\"69\" x=\"113.5\" y=\"653.1387\">«item  def»</text><text fill=\"#000000\" font-family=\"sans-serif\" font-size=\"12\" font-style=\"italic\" lengthAdjust=\"spacingAndGlyphs\" textLength=\"8\" x=\"144\" y=\"667.1074\">B</text><line style=\"stroke: #383838; stroke-width: 1.5;\" x1=\"113.5\" x2=\"182.5\" y1=\"674.9375\" y2=\"674.9375\"/></a><!--MD5=[2156ba9850f5573cc1fc38a6a4b2f02b]\n",
       "class E7--><a href=\"psysml:d06b8fcb-8cda-493c-875d-bdf01ed715df\" target=\"_top\" title=\"psysml:d06b8fcb-8cda-493c-875d-bdf01ed715df\" xlink:actuate=\"onRequest\" xlink:href=\"psysml:d06b8fcb-8cda-493c-875d-bdf01ed715df\" xlink:show=\"new\" xlink:title=\"psysml:d06b8fcb-8cda-493c-875d-bdf01ed715df\" xlink:type=\"simple\"><rect fill=\"#FFFFFF\" height=\"45.9375\" id=\"E7\" rx=\"10\" ry=\"10\" style=\"stroke: #383838; stroke-width: 1.5;\" width=\"42\" x=\"159\" y=\"744\"/><text fill=\"#000000\" font-family=\"sans-serif\" font-size=\"12\" font-style=\"italic\" lengthAdjust=\"spacingAndGlyphs\" textLength=\"40\" x=\"160\" y=\"760.1387\">«part»</text><text fill=\"#000000\" font-family=\"sans-serif\" font-size=\"12\" font-style=\"italic\" lengthAdjust=\"spacingAndGlyphs\" textLength=\"8\" x=\"166\" y=\"774.1074\">a</text><text fill=\"#000000\" font-family=\"sans-serif\" font-size=\"12\" lengthAdjust=\"spacingAndGlyphs\" textLength=\"16\" x=\"174\" y=\"774.1074\">: A</text><line style=\"stroke: #383838; stroke-width: 1.5;\" x1=\"160\" x2=\"200\" y1=\"781.9375\" y2=\"781.9375\"/></a><!--MD5=[b9389687b975829384b498ac4b7476b2]\n",
       "class E8--><a href=\"psysml:a2efb8df-7581-49ed-b24f-8030c12b0405\" target=\"_top\" title=\"psysml:a2efb8df-7581-49ed-b24f-8030c12b0405\" xlink:actuate=\"onRequest\" xlink:href=\"psysml:a2efb8df-7581-49ed-b24f-8030c12b0405\" xlink:show=\"new\" xlink:title=\"psysml:a2efb8df-7581-49ed-b24f-8030c12b0405\" xlink:type=\"simple\"><rect fill=\"#FFFFFF\" height=\"45.9375\" id=\"E8\" style=\"stroke: #383838; stroke-width: 1.5;\" width=\"70\" x=\"113\" y=\"514\"/><text fill=\"#000000\" font-family=\"sans-serif\" font-size=\"12\" font-style=\"italic\" lengthAdjust=\"spacingAndGlyphs\" textLength=\"68\" x=\"114\" y=\"530.1387\">«part  def»</text><text fill=\"#000000\" font-family=\"sans-serif\" font-size=\"12\" lengthAdjust=\"spacingAndGlyphs\" textLength=\"8\" x=\"144\" y=\"544.1074\">C</text><line style=\"stroke: #383838; stroke-width: 1.5;\" x1=\"114\" x2=\"182\" y1=\"551.9375\" y2=\"551.9375\"/></a><!--MD5=[fd4143e9d270a159db93a4ea2a975926]\n",
       "class E9--><a href=\"psysml:91f3ce36-c57b-44eb-a625-32b1f3011842\" target=\"_top\" title=\"psysml:91f3ce36-c57b-44eb-a625-32b1f3011842\" xlink:actuate=\"onRequest\" xlink:href=\"psysml:91f3ce36-c57b-44eb-a625-32b1f3011842\" xlink:show=\"new\" xlink:title=\"psysml:91f3ce36-c57b-44eb-a625-32b1f3011842\" xlink:type=\"simple\"><rect fill=\"#FFFFFF\" height=\"45.9375\" id=\"E9\" style=\"stroke: #383838; stroke-width: 1.5;\" width=\"70\" x=\"64\" y=\"41\"/><text fill=\"#000000\" font-family=\"sans-serif\" font-size=\"12\" font-style=\"italic\" lengthAdjust=\"spacingAndGlyphs\" textLength=\"68\" x=\"65\" y=\"57.1387\">«port  def»</text><text fill=\"#000000\" font-family=\"sans-serif\" font-size=\"12\" lengthAdjust=\"spacingAndGlyphs\" textLength=\"8\" x=\"95\" y=\"71.1074\">P</text><line style=\"stroke: #383838; stroke-width: 1.5;\" x1=\"65\" x2=\"133\" y1=\"78.9375\" y2=\"78.9375\"/></a><!--MD5=[96f4274e9e20536e775497830990834d]\n",
       "class E10--><a href=\"psysml:5a8db81a-c733-4c6f-be90-4f9ffe214caa\" target=\"_top\" title=\"psysml:5a8db81a-c733-4c6f-be90-4f9ffe214caa\" xlink:actuate=\"onRequest\" xlink:href=\"psysml:5a8db81a-c733-4c6f-be90-4f9ffe214caa\" xlink:show=\"new\" xlink:title=\"psysml:5a8db81a-c733-4c6f-be90-4f9ffe214caa\" xlink:type=\"simple\"><rect fill=\"#FFFFFF\" height=\"45.9375\" id=\"E10\" rx=\"10\" ry=\"10\" style=\"stroke: #383838; stroke-width: 1.5;\" width=\"43\" x=\"32.5\" y=\"148\"/><text fill=\"#000000\" font-family=\"sans-serif\" font-size=\"12\" font-style=\"italic\" lengthAdjust=\"spacingAndGlyphs\" textLength=\"41\" x=\"33.5\" y=\"164.1387\">«item»</text><text fill=\"#000000\" font-family=\"sans-serif\" font-size=\"12\" lengthAdjust=\"spacingAndGlyphs\" textLength=\"32\" x=\"36\" y=\"178.1074\">a1: A</text><line style=\"stroke: #383838; stroke-width: 1.5;\" x1=\"33.5\" x2=\"74.5\" y1=\"185.9375\" y2=\"185.9375\"/></a><!--MD5=[1dd1bfd58a279cf63c5f349dbc8fc6a1]\n",
       "class E11--><a href=\"psysml:50797105-d3dc-4af6-be0e-986a23cb6cc7\" target=\"_top\" title=\"psysml:50797105-d3dc-4af6-be0e-986a23cb6cc7\" xlink:actuate=\"onRequest\" xlink:href=\"psysml:50797105-d3dc-4af6-be0e-986a23cb6cc7\" xlink:show=\"new\" xlink:title=\"psysml:50797105-d3dc-4af6-be0e-986a23cb6cc7\" xlink:type=\"simple\"><rect fill=\"#FFFFFF\" height=\"45.9375\" id=\"E11\" rx=\"10\" ry=\"10\" style=\"stroke: #383838; stroke-width: 1.5;\" width=\"43\" x=\"110.5\" y=\"148\"/><text fill=\"#000000\" font-family=\"sans-serif\" font-size=\"12\" font-style=\"italic\" lengthAdjust=\"spacingAndGlyphs\" textLength=\"41\" x=\"111.5\" y=\"164.1387\">«item»</text><text fill=\"#000000\" font-family=\"sans-serif\" font-size=\"12\" lengthAdjust=\"spacingAndGlyphs\" textLength=\"32\" x=\"114\" y=\"178.1074\">a2: A</text><line style=\"stroke: #383838; stroke-width: 1.5;\" x1=\"111.5\" x2=\"152.5\" y1=\"185.9375\" y2=\"185.9375\"/></a><!--MD5=[2720a5a1f2c3fca2055b230370638851]\n",
       "link E2 to E3--><a href=\"psysml:2d349f36-3ef3-481f-a80c-9f5be02d82e3\" target=\"_top\" title=\"psysml:2d349f36-3ef3-481f-a80c-9f5be02d82e3\" xlink:actuate=\"onRequest\" xlink:href=\"psysml:2d349f36-3ef3-481f-a80c-9f5be02d82e3\" xlink:show=\"new\" xlink:title=\"psysml:2d349f36-3ef3-481f-a80c-9f5be02d82e3\" xlink:type=\"simple\"><path d=\"M193.65,194.01 C184.14,206.81 171.89,223.3 160.82,238.2 \" fill=\"none\" id=\"E2-&gt;E3\" style=\"stroke: #383838; stroke-width: 1.0;\"/><polygon fill=\"#FFFFFF\" points=\"148.6,254.66,154.3195,235.2361,165.5543,243.5896,148.6,254.66\" style=\"stroke: #383838; stroke-width: 1.0;\"/><ellipse cx=\"159.3256\" cy=\"231.8554\" fill=\"#383838\" rx=\"2\" ry=\"2\" style=\"stroke: #383838; stroke-width: 1.0;\"/><ellipse cx=\"167.3504\" cy=\"237.8221\" fill=\"#383838\" rx=\"2\" ry=\"2\" style=\"stroke: #383838; stroke-width: 1.0;\"/></a><!--MD5=[4672eba38e49728da53d11aeb285b987]\n",
       "reverse link E3 to E4--><a href=\"psysml:1fc0b9c6-f917-494b-8539-e8a30a151a21\" target=\"_top\" title=\"psysml:1fc0b9c6-f917-494b-8539-e8a30a151a21\" xlink:actuate=\"onRequest\" xlink:href=\"psysml:1fc0b9c6-f917-494b-8539-e8a30a151a21\" xlink:show=\"new\" xlink:title=\"psysml:1fc0b9c6-f917-494b-8539-e8a30a151a21\" xlink:type=\"simple\"><path d=\"M97.11,310.9 C84.08,325.11 70.81,342.94 64,362 C55.12,386.85 58.09,417.53 61.82,437.88 \" fill=\"none\" id=\"E3&lt;-E4\" style=\"stroke: #383838; stroke-width: 1.0;\"/><polygon fill=\"#383838\" points=\"106.46,301.23,99.4153,302.7703,98.1277,309.8655,105.1724,308.3252,106.46,301.23\" style=\"stroke: #383838; stroke-width: 1.0;\"/><text fill=\"#000000\" font-family=\"sans-serif\" font-size=\"13\" lengthAdjust=\"spacingAndGlyphs\" textLength=\"8\" x=\"51.3529\" y=\"426.744\">1</text></a><!--MD5=[191cde3d490a3f6d7bb551fe3ddca469]\n",
       "reverse link E3 to E5--><a href=\"psysml:1188b8bd-fcbe-4041-bfa3-3c6757b772de\" target=\"_top\" title=\"psysml:1188b8bd-fcbe-4041-bfa3-3c6757b772de\" xlink:actuate=\"onRequest\" xlink:href=\"psysml:1188b8bd-fcbe-4041-bfa3-3c6757b772de\" xlink:show=\"new\" xlink:title=\"psysml:1188b8bd-fcbe-4041-bfa3-3c6757b772de\" xlink:type=\"simple\"><path d=\"M145.17,313.57 C151.2,329.39 158.16,347.68 163.49,361.66 \" fill=\"none\" id=\"E3&lt;-E5\" style=\"stroke: #383838; stroke-width: 1.0;\"/><polygon fill=\"#FFFFFF\" points=\"140.39,301.01,138.7866,308.0406,144.6598,312.2247,146.2631,305.1941,140.39,301.01\" style=\"stroke: #383838; stroke-width: 1.0;\"/><text fill=\"#000000\" font-family=\"sans-serif\" font-size=\"13\" lengthAdjust=\"spacingAndGlyphs\" textLength=\"8\" x=\"152.2843\" y=\"350.8492\">1</text></a><!--MD5=[79568f1e445c3877b6a54524624ccc7d]\n",
       "link E4 to E6--><a href=\"psysml:b444802f-fd06-4322-964d-2bd41504258e\" target=\"_top\" title=\"psysml:b444802f-fd06-4322-964d-2bd41504258e\" xlink:actuate=\"onRequest\" xlink:href=\"psysml:b444802f-fd06-4322-964d-2bd41504258e\" xlink:show=\"new\" xlink:title=\"psysml:b444802f-fd06-4322-964d-2bd41504258e\" xlink:type=\"simple\"><path d=\"M72.25,484.22 C77.31,504.36 85.72,534.68 96,560 C104.15,580.08 115.08,601.47 124.82,619.21 \" fill=\"none\" id=\"E4-&gt;E6\" style=\"stroke: #383838; stroke-width: 1.0;\"/><polygon fill=\"#FFFFFF\" points=\"134.72,636.8,119.2979,623.6791,131.4967,616.8097,134.72,636.8\" style=\"stroke: #383838; stroke-width: 1.0;\"/><ellipse cx=\"118.2438\" cy=\"617.7311\" fill=\"#383838\" rx=\"2\" ry=\"2\" style=\"stroke: #383838; stroke-width: 1.0;\"/><ellipse cx=\"126.9572\" cy=\"612.8244\" fill=\"#383838\" rx=\"2\" ry=\"2\" style=\"stroke: #383838; stroke-width: 1.0;\"/></a><!--MD5=[3f50a3473f1dfb74d3f76443e03635af]\n",
       "reverse link E6 to E7--><a href=\"psysml:fe8fc95e-22bb-46d1-b0fd-61d73c45474f\" target=\"_top\" title=\"psysml:fe8fc95e-22bb-46d1-b0fd-61d73c45474f\" xlink:actuate=\"onRequest\" xlink:href=\"psysml:fe8fc95e-22bb-46d1-b0fd-61d73c45474f\" xlink:show=\"new\" xlink:title=\"psysml:fe8fc95e-22bb-46d1-b0fd-61d73c45474f\" xlink:type=\"simple\"><path d=\"M158.54,695.57 C163.36,711.39 168.93,729.68 173.19,743.66 \" fill=\"none\" id=\"E6&lt;-E7\" style=\"stroke: #383838; stroke-width: 1.0;\"/><polygon fill=\"#383838\" points=\"154.71,683.01,152.6319,689.9152,158.2066,694.4893,160.2847,687.5841,154.71,683.01\" style=\"stroke: #383838; stroke-width: 1.0;\"/><text fill=\"#000000\" font-family=\"sans-serif\" font-size=\"13\" lengthAdjust=\"spacingAndGlyphs\" textLength=\"8\" x=\"162.4199\" y=\"732.8492\">1</text></a><!--MD5=[14ccda38c055a5c0da953d572bc50960]\n",
       "link E7 to E3--><a href=\"psysml:599ea15b-bb0f-4f03-a502-f2e1a3a71e91\" target=\"_top\" title=\"psysml:599ea15b-bb0f-4f03-a502-f2e1a3a71e91\" xlink:actuate=\"onRequest\" xlink:href=\"psysml:599ea15b-bb0f-4f03-a502-f2e1a3a71e91\" xlink:show=\"new\" xlink:title=\"psysml:599ea15b-bb0f-4f03-a502-f2e1a3a71e91\" xlink:type=\"simple\"><path d=\"M197.41,743.63 C211.5,723.27 229,691.78 229,661 C229,384 229,384 229,384 C229,353.7 206.93,328.42 183.85,310.26 \" fill=\"none\" id=\"E7-&gt;E3\" style=\"stroke: #383838; stroke-width: 1.0;\"/><polygon fill=\"#FFFFFF\" points=\"167.57,298.59,187.0929,303.9617,178.9414,315.3438,167.57,298.59\" style=\"stroke: #383838; stroke-width: 1.0;\"/><ellipse cx=\"190.5626\" cy=\"308.9066\" fill=\"#383838\" rx=\"2\" ry=\"2\" style=\"stroke: #383838; stroke-width: 1.0;\"/><ellipse cx=\"184.7401\" cy=\"317.0367\" fill=\"#383838\" rx=\"2\" ry=\"2\" style=\"stroke: #383838; stroke-width: 1.0;\"/></a><!--MD5=[dfaffb906826c3e5aca635516100ff21]\n",
       "link E5 to E8--><a href=\"psysml:ebb03462-10dd-4a39-86ac-c1648f226bb6\" target=\"_top\" title=\"psysml:ebb03462-10dd-4a39-86ac-c1648f226bb6\" xlink:actuate=\"onRequest\" xlink:href=\"psysml:ebb03462-10dd-4a39-86ac-c1648f226bb6\" xlink:show=\"new\" xlink:title=\"psysml:ebb03462-10dd-4a39-86ac-c1648f226bb6\" xlink:type=\"simple\"><path d=\"M168.46,408.13 C164.86,430.62 159.2,466.01 154.74,493.87 \" fill=\"none\" id=\"E5-&gt;E8\" style=\"stroke: #383838; stroke-width: 1.0;\"/><polygon fill=\"#FFFFFF\" points=\"151.56,513.78,147.6458,493.9135,161.4704,496.1226,151.56,513.78\" style=\"stroke: #383838; stroke-width: 1.0;\"/><ellipse cx=\"150.5202\" cy=\"488.6005\" fill=\"#383838\" rx=\"2\" ry=\"2\" style=\"stroke: #383838; stroke-width: 1.0;\"/><ellipse cx=\"160.3949\" cy=\"490.1784\" fill=\"#383838\" rx=\"2\" ry=\"2\" style=\"stroke: #383838; stroke-width: 1.0;\"/></a><!--MD5=[03c8294790d3c57651a1993cecff665f]\n",
       "reverse link E8 to E3--><a href=\"psysml:4ca20137-091c-4af4-8b05-aa2379f8c92e\" target=\"_top\" title=\"psysml:4ca20137-091c-4af4-8b05-aa2379f8c92e\" xlink:actuate=\"onRequest\" xlink:href=\"psysml:4ca20137-091c-4af4-8b05-aa2379f8c92e\" xlink:show=\"new\" xlink:title=\"psysml:4ca20137-091c-4af4-8b05-aa2379f8c92e\" xlink:type=\"simple\"><path d=\"M140.02,501.22 C134.57,475.6 127.84,439.84 125,408 C123.18,387.64 124.14,382.43 125,362 C125.87,341.34 127.95,317.86 129.62,301.16 \" fill=\"none\" id=\"E8&lt;-E3\" style=\"stroke: #383838; stroke-width: 1.0;\"/><polygon fill=\"#FFFFFF\" points=\"142.81,513.96,145.4388,507.2451,140.2515,502.2359,137.6227,508.9508,142.81,513.96\" style=\"stroke: #383838; stroke-width: 1.0;\"/><text fill=\"#000000\" font-family=\"sans-serif\" font-size=\"13\" lengthAdjust=\"spacingAndGlyphs\" textLength=\"7\" x=\"126\" y=\"389.5669\">y</text></a><!--MD5=[0d75d2178373a6a4568e5dc728f58aef]\n",
       "reverse link E8 to E6--><a href=\"psysml:4ca20137-091c-4af4-8b05-aa2379f8c92e\" target=\"_top\" title=\"psysml:4ca20137-091c-4af4-8b05-aa2379f8c92e\" xlink:actuate=\"onRequest\" xlink:href=\"psysml:4ca20137-091c-4af4-8b05-aa2379f8c92e\" xlink:show=\"new\" xlink:title=\"psysml:4ca20137-091c-4af4-8b05-aa2379f8c92e\" xlink:type=\"simple\"><path d=\"M148,573.22 C148,593.81 148,619.16 148,636.95 \" fill=\"none\" id=\"E8&lt;-E6\" style=\"stroke: #383838; stroke-width: 1.0;\"/><polygon fill=\"#FFFFFF\" points=\"148,560.19,144,566.19,148,572.19,152,566.19,148,560.19\" style=\"stroke: #383838; stroke-width: 1.0;\"/><text fill=\"#000000\" font-family=\"sans-serif\" font-size=\"13\" lengthAdjust=\"spacingAndGlyphs\" textLength=\"7\" x=\"149\" y=\"603.0669\">y</text></a><!--MD5=[23ac544a70576c3e717098101004234c]\n",
       "reverse link E9 to E10--><a href=\"psysml:bbec5841-3ffd-488b-b643-01adfe752a25\" target=\"_top\" title=\"psysml:bbec5841-3ffd-488b-b643-01adfe752a25\" xlink:actuate=\"onRequest\" xlink:href=\"psysml:bbec5841-3ffd-488b-b643-01adfe752a25\" xlink:show=\"new\" xlink:title=\"psysml:bbec5841-3ffd-488b-b643-01adfe752a25\" xlink:type=\"simple\"><path d=\"M84.39,99.1 C77.56,115.03 69.63,133.54 63.58,147.66 \" fill=\"none\" id=\"E9&lt;-E10\" style=\"stroke: #383838; stroke-width: 1.0;\"/><polygon fill=\"#FFFFFF\" points=\"89.57,87.01,83.5327,90.9535,84.8509,98.0431,90.8882,94.0996,89.57,87.01\" style=\"stroke: #383838; stroke-width: 1.0;\"/><text fill=\"#000000\" font-family=\"sans-serif\" font-size=\"13\" lengthAdjust=\"spacingAndGlyphs\" textLength=\"8\" x=\"57.0099\" y=\"136.8492\">1</text></a><!--MD5=[feeac5eb423634930294aa81f2d25a4c]\n",
       "link E10 to E3--><a href=\"psysml:fb12afbf-9138-40ff-bf3b-75b81b096774\" target=\"_top\" title=\"psysml:fb12afbf-9138-40ff-bf3b-75b81b096774\" xlink:actuate=\"onRequest\" xlink:href=\"psysml:fb12afbf-9138-40ff-bf3b-75b81b096774\" xlink:show=\"new\" xlink:title=\"psysml:fb12afbf-9138-40ff-bf3b-75b81b096774\" xlink:type=\"simple\"><path d=\"M70.35,194.01 C79.86,206.81 92.11,223.3 103.18,238.2 \" fill=\"none\" id=\"E10-&gt;E3\" style=\"stroke: #383838; stroke-width: 1.0;\"/><polygon fill=\"#FFFFFF\" points=\"115.4,254.66,98.4457,243.5896,109.6805,235.2361,115.4,254.66\" style=\"stroke: #383838; stroke-width: 1.0;\"/><ellipse cx=\"96.6496\" cy=\"237.8221\" fill=\"#383838\" rx=\"2\" ry=\"2\" style=\"stroke: #383838; stroke-width: 1.0;\"/><ellipse cx=\"104.6744\" cy=\"231.8554\" fill=\"#383838\" rx=\"2\" ry=\"2\" style=\"stroke: #383838; stroke-width: 1.0;\"/></a><!--MD5=[1fc04a95fd77ad5ce46c1a3027516051]\n",
       "reverse link E9 to E11--><a href=\"psysml:20edee2c-da5c-4ff9-9cec-febcc5f58071\" target=\"_top\" title=\"psysml:20edee2c-da5c-4ff9-9cec-febcc5f58071\" xlink:actuate=\"onRequest\" xlink:href=\"psysml:20edee2c-da5c-4ff9-9cec-febcc5f58071\" xlink:show=\"new\" xlink:title=\"psysml:20edee2c-da5c-4ff9-9cec-febcc5f58071\" xlink:type=\"simple\"><path d=\"M109.87,99.57 C114.84,115.39 120.59,133.68 124.98,147.66 \" fill=\"none\" id=\"E9&lt;-E11\" style=\"stroke: #383838; stroke-width: 1.0;\"/><polygon fill=\"#FFFFFF\" points=\"105.92,87.01,103.9044,93.9337,109.5203,98.4572,111.5359,91.5335,105.92,87.01\" style=\"stroke: #383838; stroke-width: 1.0;\"/><text fill=\"#000000\" font-family=\"sans-serif\" font-size=\"13\" lengthAdjust=\"spacingAndGlyphs\" textLength=\"8\" x=\"114.1561\" y=\"136.8492\">1</text></a><!--MD5=[0517f1ce58c4d5483948f93845c45e26]\n",
       "link E11 to E3--><a href=\"psysml:6098403c-f8e4-4c64-8bc6-7f6e4aceb826\" target=\"_top\" title=\"psysml:6098403c-f8e4-4c64-8bc6-7f6e4aceb826\" xlink:actuate=\"onRequest\" xlink:href=\"psysml:6098403c-f8e4-4c64-8bc6-7f6e4aceb826\" xlink:show=\"new\" xlink:title=\"psysml:6098403c-f8e4-4c64-8bc6-7f6e4aceb826\" xlink:type=\"simple\"><path d=\"M132,194.01 C132,205.69 132,220.46 132,234.28 \" fill=\"none\" id=\"E11-&gt;E3\" style=\"stroke: #383838; stroke-width: 1.0;\"/><polygon fill=\"#FFFFFF\" points=\"132,254.66,125,235.66,139,235.66,132,254.66\" style=\"stroke: #383838; stroke-width: 1.0;\"/><ellipse cx=\"127\" cy=\"229.96\" fill=\"#383838\" rx=\"2\" ry=\"2\" style=\"stroke: #383838; stroke-width: 1.0;\"/><ellipse cx=\"137\" cy=\"229.96\" fill=\"#383838\" rx=\"2\" ry=\"2\" style=\"stroke: #383838; stroke-width: 1.0;\"/></a><!--MD5=[628f7ac7d8573ca6b7689e4103d2aa11]\n",
       "@startuml\r\n",
       "top to bottom direction\r\n",
       "skinparam monochrome true\r\n",
       "skinparam classbackgroundcolor white\r\n",
       "skinparam shadowing false\r\n",
       "skinparam wrapWidth 300\r\n",
       "hide circle\r\n",
       "\r\n",
       "package \"ItemTest\" as E1  [[psysml:05177c11-5394-41b2-a0a0-71a4c06ed611 ]]  {\r\n",
       "comp usage \"f: A \" as E2  <<(T,blue) item>> [[psysml:9b37ce48-aa06-4adb-ba3b-3b1410731947 ]] {\r\n",
       "}\r\n",
       "comp def \"A\" as E3  <<(T,blue) item  def>> [[psysml:373f36dd-9125-4f4d-9beb-8d6cd21e1469 ]] {\r\n",
       "}\r\n",
       "comp usage \"b: B \" as E4  <<(T,blue) item>> [[psysml:130e11a2-3d5f-4cd9-b0cd-9225a7528360 ]] {\r\n",
       "}\r\n",
       "comp usage \"c: C \" as E5  <<(T,blue) part>> [[psysml:80ae9a50-ac1f-4423-b935-68d8f5716f01 ]] {\r\n",
       "}\r\n",
       "comp def \"<i>B</i>\" as E6  <<(T,blue) item  def>> [[psysml:7d838d86-0408-4401-9cbf-32b733f3993a ]] {\r\n",
       "}\r\n",
       "comp usage \"<i>a</i>: A \" as E7  <<(T,blue) part>> [[psysml:d06b8fcb-8cda-493c-875d-bdf01ed715df ]] {\r\n",
       "}\r\n",
       "comp def \"C\" as E8  <<(T,blue) part  def>> [[psysml:a2efb8df-7581-49ed-b24f-8030c12b0405 ]] {\r\n",
       "}\r\n",
       "comp def \"P\" as E9  <<(T,blue) port  def>> [[psysml:91f3ce36-c57b-44eb-a625-32b1f3011842 ]] {\r\n",
       "}\r\n",
       "comp usage \"a1: A \" as E10  <<(T,blue) item>> [[psysml:5a8db81a-c733-4c6f-be90-4f9ffe214caa ]] {\r\n",
       "}\r\n",
       "comp usage \"a2: A \" as E11  <<(T,blue) item>> [[psysml:50797105-d3dc-4af6-be0e-986a23cb6cc7 ]] {\r\n",
       "}\r\n",
       "}\r\n",
       "E2 - -:|> E3 [[psysml:2d349f36-3ef3-481f-a80c-9f5be02d82e3 ]] \r\n",
       "E3 *- - \"1\"E4 [[psysml:1fc0b9c6-f917-494b-8539-e8a30a151a21 ]] \r\n",
       "E3 o- - \"1\"E5 [[psysml:1188b8bd-fcbe-4041-bfa3-3c6757b772de ]] \r\n",
       "E4 - -:|> E6 [[psysml:b444802f-fd06-4322-964d-2bd41504258e ]] \r\n",
       "E6 *- - \"1\"E7 [[psysml:fe8fc95e-22bb-46d1-b0fd-61d73c45474f ]] \r\n",
       "E7 - -:|> E3 [[psysml:599ea15b-bb0f-4f03-a502-f2e1a3a71e91 ]] \r\n",
       "E5 - -:|> E8 [[psysml:ebb03462-10dd-4a39-86ac-c1648f226bb6 ]] \r\n",
       "E8 o- - E3 [[psysml:4ca20137-091c-4af4-8b05-aa2379f8c92e ]] : y\r\n",
       "E8 o- - E6 [[psysml:4ca20137-091c-4af4-8b05-aa2379f8c92e ]] : y\r\n",
       "E9 o- - \"1\"E10 [[psysml:bbec5841-3ffd-488b-b643-01adfe752a25 ]] \r\n",
       "E10 - -:|> E3 [[psysml:fb12afbf-9138-40ff-bf3b-75b81b096774 ]] \r\n",
       "E9 o- - \"1\"E11 [[psysml:20edee2c-da5c-4ff9-9cec-febcc5f58071 ]] \r\n",
       "E11 - -:|> E3 [[psysml:6098403c-f8e4-4c64-8bc6-7f6e4aceb826 ]] \r\n",
       "@enduml\r\n",
       "\n",
       "PlantUML version 1.2020.13(Sat Jun 13 12:26:38 UTC 2020)\n",
       "(EPL source distribution)\n",
       "Java Runtime: OpenJDK Runtime Environment\n",
       "JVM: OpenJDK 64-Bit Server VM\n",
       "Default Encoding: UTF-8\n",
       "Language: en\n",
       "Country: null\n",
       "--></g></svg>"
      ]
     },
     "execution_count": 50,
     "metadata": {},
     "output_type": "execute_result"
    }
   ],
   "source": [
    "%viz --style=\"TB\" --view=\"MIXED\" \"ItemTest\""
   ]
  },
  {
   "cell_type": "code",
   "execution_count": 51,
   "id": "e0c718dc",
   "metadata": {
    "execution": {
     "iopub.execute_input": "2022-04-22T09:48:26.856012Z",
     "iopub.status.busy": "2022-04-22T09:48:26.855293Z",
     "iopub.status.idle": "2022-04-22T09:48:26.899163Z",
     "shell.execute_reply": "2022-04-22T09:48:26.897526Z"
    }
   },
   "outputs": [
    {
     "data": {
      "image/svg+xml": [
       "<?xml version=\"1.0\" encoding=\"UTF-8\" standalone=\"no\"?><svg xmlns=\"http://www.w3.org/2000/svg\" xmlns:xlink=\"http://www.w3.org/1999/xlink\" contentScriptType=\"application/ecmascript\" contentStyleType=\"text/css\" height=\"818px\" preserveAspectRatio=\"none\" style=\"width:270px;height:818px;\" version=\"1.1\" viewBox=\"0 0 270 818\" width=\"270px\" zoomAndPan=\"magnify\"><defs/><g><!--MD5=[fbc87193dbaf4d95561dea2c320d4a47]\n",
       "cluster E1--><a href=\"psysml:05177c11-5394-41b2-a0a0-71a4c06ed611\" target=\"_top\" title=\"psysml:05177c11-5394-41b2-a0a0-71a4c06ed611\" xlink:actuate=\"onRequest\" xlink:href=\"psysml:05177c11-5394-41b2-a0a0-71a4c06ed611\" xlink:show=\"new\" xlink:title=\"psysml:05177c11-5394-41b2-a0a0-71a4c06ed611\" xlink:type=\"simple\"><polygon fill=\"#FFFFFF\" points=\"16,6,83,6,90,28.2969,248,28.2969,248,806,16,806,16,6\" style=\"stroke: #000000; stroke-width: 1.5;\"/><line style=\"stroke: #000000; stroke-width: 1.5;\" x1=\"16\" x2=\"90\" y1=\"28.2969\" y2=\"28.2969\"/><text fill=\"#000000\" font-family=\"sans-serif\" font-size=\"14\" font-weight=\"bold\" lengthAdjust=\"spacingAndGlyphs\" textLength=\"61\" x=\"20\" y=\"20.9951\">ItemTest</text></a><!--MD5=[b4997ac47864f28c2f74865a473b2911]\n",
       "class E2--><a href=\"psysml:9b37ce48-aa06-4adb-ba3b-3b1410731947\" target=\"_top\" title=\"psysml:9b37ce48-aa06-4adb-ba3b-3b1410731947\" xlink:actuate=\"onRequest\" xlink:href=\"psysml:9b37ce48-aa06-4adb-ba3b-3b1410731947\" xlink:show=\"new\" xlink:title=\"psysml:9b37ce48-aa06-4adb-ba3b-3b1410731947\" xlink:type=\"simple\"><rect fill=\"#FFFFFF\" height=\"45.9375\" id=\"E2\" rx=\"10\" ry=\"10\" style=\"stroke: #383838; stroke-width: 1.5;\" width=\"43\" x=\"188.5\" y=\"148\"/><text fill=\"#000000\" font-family=\"sans-serif\" font-size=\"12\" font-style=\"italic\" lengthAdjust=\"spacingAndGlyphs\" textLength=\"41\" x=\"189.5\" y=\"164.1387\">«item»</text><text fill=\"#000000\" font-family=\"sans-serif\" font-size=\"12\" lengthAdjust=\"spacingAndGlyphs\" textLength=\"20\" x=\"198\" y=\"178.1074\">f: A</text><line style=\"stroke: #383838; stroke-width: 1.5;\" x1=\"189.5\" x2=\"230.5\" y1=\"185.9375\" y2=\"185.9375\"/></a><!--MD5=[09b614a08d8cba4a07c9adeb5e0fee81]\n",
       "class E3--><a href=\"psysml:373f36dd-9125-4f4d-9beb-8d6cd21e1469\" target=\"_top\" title=\"psysml:373f36dd-9125-4f4d-9beb-8d6cd21e1469\" xlink:actuate=\"onRequest\" xlink:href=\"psysml:373f36dd-9125-4f4d-9beb-8d6cd21e1469\" xlink:show=\"new\" xlink:title=\"psysml:373f36dd-9125-4f4d-9beb-8d6cd21e1469\" xlink:type=\"simple\"><rect fill=\"#FFFFFF\" height=\"45.9375\" id=\"E3\" style=\"stroke: #383838; stroke-width: 1.5;\" width=\"71\" x=\"96.5\" y=\"255\"/><text fill=\"#000000\" font-family=\"sans-serif\" font-size=\"12\" font-style=\"italic\" lengthAdjust=\"spacingAndGlyphs\" textLength=\"69\" x=\"97.5\" y=\"271.1387\">«item  def»</text><text fill=\"#000000\" font-family=\"sans-serif\" font-size=\"12\" lengthAdjust=\"spacingAndGlyphs\" textLength=\"8\" x=\"128\" y=\"285.1074\">A</text><line style=\"stroke: #383838; stroke-width: 1.5;\" x1=\"97.5\" x2=\"166.5\" y1=\"292.9375\" y2=\"292.9375\"/></a><!--MD5=[ebbe1d658d1005bcc118a6aa81145e00]\n",
       "class E4--><a href=\"psysml:130e11a2-3d5f-4cd9-b0cd-9225a7528360\" target=\"_top\" title=\"psysml:130e11a2-3d5f-4cd9-b0cd-9225a7528360\" xlink:actuate=\"onRequest\" xlink:href=\"psysml:130e11a2-3d5f-4cd9-b0cd-9225a7528360\" xlink:show=\"new\" xlink:title=\"psysml:130e11a2-3d5f-4cd9-b0cd-9225a7528360\" xlink:type=\"simple\"><rect fill=\"#FFFFFF\" height=\"45.9375\" id=\"E4\" rx=\"10\" ry=\"10\" style=\"stroke: #383838; stroke-width: 1.5;\" width=\"43\" x=\"45.5\" y=\"438\"/><text fill=\"#000000\" font-family=\"sans-serif\" font-size=\"12\" font-style=\"italic\" lengthAdjust=\"spacingAndGlyphs\" textLength=\"41\" x=\"46.5\" y=\"454.1387\">«item»</text><text fill=\"#000000\" font-family=\"sans-serif\" font-size=\"12\" lengthAdjust=\"spacingAndGlyphs\" textLength=\"24\" x=\"53\" y=\"468.1074\">b: B</text><line style=\"stroke: #383838; stroke-width: 1.5;\" x1=\"46.5\" x2=\"87.5\" y1=\"475.9375\" y2=\"475.9375\"/></a><!--MD5=[270fce915f116d4de14055a7c1d9a0f3]\n",
       "class E5--><a href=\"psysml:80ae9a50-ac1f-4423-b935-68d8f5716f01\" target=\"_top\" title=\"psysml:80ae9a50-ac1f-4423-b935-68d8f5716f01\" xlink:actuate=\"onRequest\" xlink:href=\"psysml:80ae9a50-ac1f-4423-b935-68d8f5716f01\" xlink:show=\"new\" xlink:title=\"psysml:80ae9a50-ac1f-4423-b935-68d8f5716f01\" xlink:type=\"simple\"><rect fill=\"#FFFFFF\" height=\"45.9375\" id=\"E5\" rx=\"10\" ry=\"10\" style=\"stroke: #383838; stroke-width: 1.5;\" width=\"42\" x=\"151\" y=\"362\"/><text fill=\"#000000\" font-family=\"sans-serif\" font-size=\"12\" font-style=\"italic\" lengthAdjust=\"spacingAndGlyphs\" textLength=\"40\" x=\"152\" y=\"378.1387\">«part»</text><text fill=\"#000000\" font-family=\"sans-serif\" font-size=\"12\" lengthAdjust=\"spacingAndGlyphs\" textLength=\"23\" x=\"158.5\" y=\"392.1074\">c: C</text><line style=\"stroke: #383838; stroke-width: 1.5;\" x1=\"152\" x2=\"192\" y1=\"399.9375\" y2=\"399.9375\"/></a><!--MD5=[60a26617385b1d2d0262a64233df1f8d]\n",
       "class E6--><a href=\"psysml:7d838d86-0408-4401-9cbf-32b733f3993a\" target=\"_top\" title=\"psysml:7d838d86-0408-4401-9cbf-32b733f3993a\" xlink:actuate=\"onRequest\" xlink:href=\"psysml:7d838d86-0408-4401-9cbf-32b733f3993a\" xlink:show=\"new\" xlink:title=\"psysml:7d838d86-0408-4401-9cbf-32b733f3993a\" xlink:type=\"simple\"><rect fill=\"#FFFFFF\" height=\"45.9375\" id=\"E6\" style=\"stroke: #383838; stroke-width: 1.5;\" width=\"71\" x=\"112.5\" y=\"637\"/><text fill=\"#000000\" font-family=\"sans-serif\" font-size=\"12\" font-style=\"italic\" lengthAdjust=\"spacingAndGlyphs\" textLength=\"69\" x=\"113.5\" y=\"653.1387\">«item  def»</text><text fill=\"#000000\" font-family=\"sans-serif\" font-size=\"12\" font-style=\"italic\" lengthAdjust=\"spacingAndGlyphs\" textLength=\"8\" x=\"144\" y=\"667.1074\">B</text><line style=\"stroke: #383838; stroke-width: 1.5;\" x1=\"113.5\" x2=\"182.5\" y1=\"674.9375\" y2=\"674.9375\"/></a><!--MD5=[2156ba9850f5573cc1fc38a6a4b2f02b]\n",
       "class E7--><a href=\"psysml:d06b8fcb-8cda-493c-875d-bdf01ed715df\" target=\"_top\" title=\"psysml:d06b8fcb-8cda-493c-875d-bdf01ed715df\" xlink:actuate=\"onRequest\" xlink:href=\"psysml:d06b8fcb-8cda-493c-875d-bdf01ed715df\" xlink:show=\"new\" xlink:title=\"psysml:d06b8fcb-8cda-493c-875d-bdf01ed715df\" xlink:type=\"simple\"><rect fill=\"#FFFFFF\" height=\"45.9375\" id=\"E7\" rx=\"10\" ry=\"10\" style=\"stroke: #383838; stroke-width: 1.5;\" width=\"42\" x=\"159\" y=\"744\"/><text fill=\"#000000\" font-family=\"sans-serif\" font-size=\"12\" font-style=\"italic\" lengthAdjust=\"spacingAndGlyphs\" textLength=\"40\" x=\"160\" y=\"760.1387\">«part»</text><text fill=\"#000000\" font-family=\"sans-serif\" font-size=\"12\" font-style=\"italic\" lengthAdjust=\"spacingAndGlyphs\" textLength=\"8\" x=\"166\" y=\"774.1074\">a</text><text fill=\"#000000\" font-family=\"sans-serif\" font-size=\"12\" lengthAdjust=\"spacingAndGlyphs\" textLength=\"16\" x=\"174\" y=\"774.1074\">: A</text><line style=\"stroke: #383838; stroke-width: 1.5;\" x1=\"160\" x2=\"200\" y1=\"781.9375\" y2=\"781.9375\"/></a><!--MD5=[b9389687b975829384b498ac4b7476b2]\n",
       "class E8--><a href=\"psysml:a2efb8df-7581-49ed-b24f-8030c12b0405\" target=\"_top\" title=\"psysml:a2efb8df-7581-49ed-b24f-8030c12b0405\" xlink:actuate=\"onRequest\" xlink:href=\"psysml:a2efb8df-7581-49ed-b24f-8030c12b0405\" xlink:show=\"new\" xlink:title=\"psysml:a2efb8df-7581-49ed-b24f-8030c12b0405\" xlink:type=\"simple\"><rect fill=\"#FFFFFF\" height=\"45.9375\" id=\"E8\" style=\"stroke: #383838; stroke-width: 1.5;\" width=\"70\" x=\"113\" y=\"514\"/><text fill=\"#000000\" font-family=\"sans-serif\" font-size=\"12\" font-style=\"italic\" lengthAdjust=\"spacingAndGlyphs\" textLength=\"68\" x=\"114\" y=\"530.1387\">«part  def»</text><text fill=\"#000000\" font-family=\"sans-serif\" font-size=\"12\" lengthAdjust=\"spacingAndGlyphs\" textLength=\"8\" x=\"144\" y=\"544.1074\">C</text><line style=\"stroke: #383838; stroke-width: 1.5;\" x1=\"114\" x2=\"182\" y1=\"551.9375\" y2=\"551.9375\"/></a><!--MD5=[fd4143e9d270a159db93a4ea2a975926]\n",
       "class E9--><a href=\"psysml:91f3ce36-c57b-44eb-a625-32b1f3011842\" target=\"_top\" title=\"psysml:91f3ce36-c57b-44eb-a625-32b1f3011842\" xlink:actuate=\"onRequest\" xlink:href=\"psysml:91f3ce36-c57b-44eb-a625-32b1f3011842\" xlink:show=\"new\" xlink:title=\"psysml:91f3ce36-c57b-44eb-a625-32b1f3011842\" xlink:type=\"simple\"><rect fill=\"#FFFFFF\" height=\"45.9375\" id=\"E9\" style=\"stroke: #383838; stroke-width: 1.5;\" width=\"70\" x=\"64\" y=\"41\"/><text fill=\"#000000\" font-family=\"sans-serif\" font-size=\"12\" font-style=\"italic\" lengthAdjust=\"spacingAndGlyphs\" textLength=\"68\" x=\"65\" y=\"57.1387\">«port  def»</text><text fill=\"#000000\" font-family=\"sans-serif\" font-size=\"12\" lengthAdjust=\"spacingAndGlyphs\" textLength=\"8\" x=\"95\" y=\"71.1074\">P</text><line style=\"stroke: #383838; stroke-width: 1.5;\" x1=\"65\" x2=\"133\" y1=\"78.9375\" y2=\"78.9375\"/></a><!--MD5=[96f4274e9e20536e775497830990834d]\n",
       "class E10--><a href=\"psysml:5a8db81a-c733-4c6f-be90-4f9ffe214caa\" target=\"_top\" title=\"psysml:5a8db81a-c733-4c6f-be90-4f9ffe214caa\" xlink:actuate=\"onRequest\" xlink:href=\"psysml:5a8db81a-c733-4c6f-be90-4f9ffe214caa\" xlink:show=\"new\" xlink:title=\"psysml:5a8db81a-c733-4c6f-be90-4f9ffe214caa\" xlink:type=\"simple\"><rect fill=\"#FFFFFF\" height=\"45.9375\" id=\"E10\" rx=\"10\" ry=\"10\" style=\"stroke: #383838; stroke-width: 1.5;\" width=\"43\" x=\"32.5\" y=\"148\"/><text fill=\"#000000\" font-family=\"sans-serif\" font-size=\"12\" font-style=\"italic\" lengthAdjust=\"spacingAndGlyphs\" textLength=\"41\" x=\"33.5\" y=\"164.1387\">«item»</text><text fill=\"#000000\" font-family=\"sans-serif\" font-size=\"12\" lengthAdjust=\"spacingAndGlyphs\" textLength=\"32\" x=\"36\" y=\"178.1074\">a1: A</text><line style=\"stroke: #383838; stroke-width: 1.5;\" x1=\"33.5\" x2=\"74.5\" y1=\"185.9375\" y2=\"185.9375\"/></a><!--MD5=[1dd1bfd58a279cf63c5f349dbc8fc6a1]\n",
       "class E11--><a href=\"psysml:50797105-d3dc-4af6-be0e-986a23cb6cc7\" target=\"_top\" title=\"psysml:50797105-d3dc-4af6-be0e-986a23cb6cc7\" xlink:actuate=\"onRequest\" xlink:href=\"psysml:50797105-d3dc-4af6-be0e-986a23cb6cc7\" xlink:show=\"new\" xlink:title=\"psysml:50797105-d3dc-4af6-be0e-986a23cb6cc7\" xlink:type=\"simple\"><rect fill=\"#FFFFFF\" height=\"45.9375\" id=\"E11\" rx=\"10\" ry=\"10\" style=\"stroke: #383838; stroke-width: 1.5;\" width=\"43\" x=\"110.5\" y=\"148\"/><text fill=\"#000000\" font-family=\"sans-serif\" font-size=\"12\" font-style=\"italic\" lengthAdjust=\"spacingAndGlyphs\" textLength=\"41\" x=\"111.5\" y=\"164.1387\">«item»</text><text fill=\"#000000\" font-family=\"sans-serif\" font-size=\"12\" lengthAdjust=\"spacingAndGlyphs\" textLength=\"32\" x=\"114\" y=\"178.1074\">a2: A</text><line style=\"stroke: #383838; stroke-width: 1.5;\" x1=\"111.5\" x2=\"152.5\" y1=\"185.9375\" y2=\"185.9375\"/></a><!--MD5=[2720a5a1f2c3fca2055b230370638851]\n",
       "link E2 to E3--><a href=\"psysml:2d349f36-3ef3-481f-a80c-9f5be02d82e3\" target=\"_top\" title=\"psysml:2d349f36-3ef3-481f-a80c-9f5be02d82e3\" xlink:actuate=\"onRequest\" xlink:href=\"psysml:2d349f36-3ef3-481f-a80c-9f5be02d82e3\" xlink:show=\"new\" xlink:title=\"psysml:2d349f36-3ef3-481f-a80c-9f5be02d82e3\" xlink:type=\"simple\"><path d=\"M188.43,171 C175.09,171 160.5,171 160.5,171 C160.5,171 160.5,234.78 160.5,234.78 \" fill=\"none\" id=\"E2-&gt;E3\" style=\"stroke: #383838; stroke-width: 1.0;\"/><polygon fill=\"#FFFFFF\" points=\"160.5,254.78,153.5,235.78,167.5,235.78,160.5,254.78\" style=\"stroke: #383838; stroke-width: 1.0;\"/><ellipse cx=\"155.5\" cy=\"230.08\" fill=\"#383838\" rx=\"2\" ry=\"2\" style=\"stroke: #383838; stroke-width: 1.0;\"/><ellipse cx=\"165.5\" cy=\"230.08\" fill=\"#383838\" rx=\"2\" ry=\"2\" style=\"stroke: #383838; stroke-width: 1.0;\"/></a><!--MD5=[4672eba38e49728da53d11aeb285b987]\n",
       "reverse link E3 to E4--><a href=\"psysml:1fc0b9c6-f917-494b-8539-e8a30a151a21\" target=\"_top\" title=\"psysml:1fc0b9c6-f917-494b-8539-e8a30a151a21\" xlink:actuate=\"onRequest\" xlink:href=\"psysml:1fc0b9c6-f917-494b-8539-e8a30a151a21\" xlink:show=\"new\" xlink:title=\"psysml:1fc0b9c6-f917-494b-8539-e8a30a151a21\" xlink:type=\"simple\"><path d=\"M83.46,278 C83.46,278 82,278 82,278 C82,278 82,388.58 82,437.82 \" fill=\"none\" id=\"E3&lt;-E4\" style=\"stroke: #383838; stroke-width: 1.0;\"/><polygon fill=\"#383838\" points=\"96.46,278,90.46,274,84.46,278,90.46,282,96.46,278\" style=\"stroke: #383838; stroke-width: 1.0;\"/><text fill=\"#000000\" font-family=\"sans-serif\" font-size=\"13\" lengthAdjust=\"spacingAndGlyphs\" textLength=\"8\" x=\"76.8188\" y=\"427.0502\">1</text></a><!--MD5=[191cde3d490a3f6d7bb551fe3ddca469]\n",
       "reverse link E3 to E5--><a href=\"psysml:1188b8bd-fcbe-4041-bfa3-3c6757b772de\" target=\"_top\" title=\"psysml:1188b8bd-fcbe-4041-bfa3-3c6757b772de\" xlink:actuate=\"onRequest\" xlink:href=\"psysml:1188b8bd-fcbe-4041-bfa3-3c6757b772de\" xlink:show=\"new\" xlink:title=\"psysml:1188b8bd-fcbe-4041-bfa3-3c6757b772de\" xlink:type=\"simple\"><path d=\"M159.25,314.22 C159.25,314.22 159.25,361.83 159.25,361.83 \" fill=\"none\" id=\"E3&lt;-E5\" style=\"stroke: #383838; stroke-width: 1.0;\"/><polygon fill=\"#FFFFFF\" points=\"159.25,301.22,155.25,307.22,159.25,313.22,163.25,307.22,159.25,301.22\" style=\"stroke: #383838; stroke-width: 1.0;\"/><text fill=\"#000000\" font-family=\"sans-serif\" font-size=\"13\" lengthAdjust=\"spacingAndGlyphs\" textLength=\"8\" x=\"146.9578\" y=\"351.0627\">1</text></a><!--MD5=[79568f1e445c3877b6a54524624ccc7d]\n",
       "link E4 to E6--><a href=\"psysml:b444802f-fd06-4322-964d-2bd41504258e\" target=\"_top\" title=\"psysml:b444802f-fd06-4322-964d-2bd41504258e\" xlink:actuate=\"onRequest\" xlink:href=\"psysml:b444802f-fd06-4322-964d-2bd41504258e\" xlink:show=\"new\" xlink:title=\"psysml:b444802f-fd06-4322-964d-2bd41504258e\" xlink:type=\"simple\"><path d=\"M67,484.22 C67,536.71 67,660 67,660 C67,660 92.24,660 92.24,660 \" fill=\"none\" id=\"E4-&gt;E6\" style=\"stroke: #383838; stroke-width: 1.0;\"/><polygon fill=\"#FFFFFF\" points=\"112.24,660,93.24,667,93.24,653,112.24,660\" style=\"stroke: #383838; stroke-width: 1.0;\"/><ellipse cx=\"87.54\" cy=\"665\" fill=\"#383838\" rx=\"2\" ry=\"2\" style=\"stroke: #383838; stroke-width: 1.0;\"/><ellipse cx=\"87.54\" cy=\"655\" fill=\"#383838\" rx=\"2\" ry=\"2\" style=\"stroke: #383838; stroke-width: 1.0;\"/></a><!--MD5=[3f50a3473f1dfb74d3f76443e03635af]\n",
       "reverse link E6 to E7--><a href=\"psysml:fe8fc95e-22bb-46d1-b0fd-61d73c45474f\" target=\"_top\" title=\"psysml:fe8fc95e-22bb-46d1-b0fd-61d73c45474f\" xlink:actuate=\"onRequest\" xlink:href=\"psysml:fe8fc95e-22bb-46d1-b0fd-61d73c45474f\" xlink:show=\"new\" xlink:title=\"psysml:fe8fc95e-22bb-46d1-b0fd-61d73c45474f\" xlink:type=\"simple\"><path d=\"M171.25,696.22 C171.25,696.22 171.25,743.83 171.25,743.83 \" fill=\"none\" id=\"E6&lt;-E7\" style=\"stroke: #383838; stroke-width: 1.0;\"/><polygon fill=\"#383838\" points=\"171.25,683.22,167.25,689.22,171.25,695.22,175.25,689.22,171.25,683.22\" style=\"stroke: #383838; stroke-width: 1.0;\"/><text fill=\"#000000\" font-family=\"sans-serif\" font-size=\"13\" lengthAdjust=\"spacingAndGlyphs\" textLength=\"8\" x=\"159.9828\" y=\"733.0627\">1</text></a><!--MD5=[14ccda38c055a5c0da953d572bc50960]\n",
       "link E7 to E3--><a href=\"psysml:599ea15b-bb0f-4f03-a502-f2e1a3a71e91\" target=\"_top\" title=\"psysml:599ea15b-bb0f-4f03-a502-f2e1a3a71e91\" xlink:actuate=\"onRequest\" xlink:href=\"psysml:599ea15b-bb0f-4f03-a502-f2e1a3a71e91\" xlink:show=\"new\" xlink:title=\"psysml:599ea15b-bb0f-4f03-a502-f2e1a3a71e91\" xlink:type=\"simple\"><path d=\"M197,743.74 C197,646.56 197,278 197,278 C197,278 187.54,278 187.54,278 \" fill=\"none\" id=\"E7-&gt;E3\" style=\"stroke: #383838; stroke-width: 1.0;\"/><polygon fill=\"#FFFFFF\" points=\"167.54,278,186.54,271,186.54,285,167.54,278\" style=\"stroke: #383838; stroke-width: 1.0;\"/><ellipse cx=\"192.24\" cy=\"273\" fill=\"#383838\" rx=\"2\" ry=\"2\" style=\"stroke: #383838; stroke-width: 1.0;\"/><ellipse cx=\"192.24\" cy=\"283\" fill=\"#383838\" rx=\"2\" ry=\"2\" style=\"stroke: #383838; stroke-width: 1.0;\"/></a><!--MD5=[dfaffb906826c3e5aca635516100ff21]\n",
       "link E5 to E8--><a href=\"psysml:ebb03462-10dd-4a39-86ac-c1648f226bb6\" target=\"_top\" title=\"psysml:ebb03462-10dd-4a39-86ac-c1648f226bb6\" xlink:actuate=\"onRequest\" xlink:href=\"psysml:ebb03462-10dd-4a39-86ac-c1648f226bb6\" xlink:show=\"new\" xlink:title=\"psysml:ebb03462-10dd-4a39-86ac-c1648f226bb6\" xlink:type=\"simple\"><path d=\"M167,408.09 C167,408.09 167,493.7 167,493.7 \" fill=\"none\" id=\"E5-&gt;E8\" style=\"stroke: #383838; stroke-width: 1.0;\"/><polygon fill=\"#FFFFFF\" points=\"167,513.7,160,494.7,174,494.7,167,513.7\" style=\"stroke: #383838; stroke-width: 1.0;\"/><ellipse cx=\"162\" cy=\"489\" fill=\"#383838\" rx=\"2\" ry=\"2\" style=\"stroke: #383838; stroke-width: 1.0;\"/><ellipse cx=\"172\" cy=\"489\" fill=\"#383838\" rx=\"2\" ry=\"2\" style=\"stroke: #383838; stroke-width: 1.0;\"/></a><!--MD5=[03c8294790d3c57651a1993cecff665f]\n",
       "reverse link E8 to E3--><a href=\"psysml:4ca20137-091c-4af4-8b05-aa2379f8c92e\" target=\"_top\" title=\"psysml:4ca20137-091c-4af4-8b05-aa2379f8c92e\" xlink:actuate=\"onRequest\" xlink:href=\"psysml:4ca20137-091c-4af4-8b05-aa2379f8c92e\" xlink:show=\"new\" xlink:title=\"psysml:4ca20137-091c-4af4-8b05-aa2379f8c92e\" xlink:type=\"simple\"><path d=\"M132,500.56 C132,500.56 132,301.2 132,301.2 \" fill=\"none\" id=\"E8&lt;-E3\" style=\"stroke: #383838; stroke-width: 1.0;\"/><polygon fill=\"#FFFFFF\" points=\"132,513.56,136,507.56,132,501.56,128,507.56,132,513.56\" style=\"stroke: #383838; stroke-width: 1.0;\"/><text fill=\"#000000\" font-family=\"sans-serif\" font-size=\"13\" lengthAdjust=\"spacingAndGlyphs\" textLength=\"7\" x=\"108\" y=\"389.5669\">y</text></a><!--MD5=[0d75d2178373a6a4568e5dc728f58aef]\n",
       "reverse link E8 to E6--><a href=\"psysml:4ca20137-091c-4af4-8b05-aa2379f8c92e\" target=\"_top\" title=\"psysml:4ca20137-091c-4af4-8b05-aa2379f8c92e\" xlink:actuate=\"onRequest\" xlink:href=\"psysml:4ca20137-091c-4af4-8b05-aa2379f8c92e\" xlink:show=\"new\" xlink:title=\"psysml:4ca20137-091c-4af4-8b05-aa2379f8c92e\" xlink:type=\"simple\"><path d=\"M148,573.14 C148,573.14 148,636.97 148,636.97 \" fill=\"none\" id=\"E8&lt;-E6\" style=\"stroke: #383838; stroke-width: 1.0;\"/><polygon fill=\"#FFFFFF\" points=\"148,560.14,144,566.14,148,572.14,152,566.14,148,560.14\" style=\"stroke: #383838; stroke-width: 1.0;\"/><text fill=\"#000000\" font-family=\"sans-serif\" font-size=\"13\" lengthAdjust=\"spacingAndGlyphs\" textLength=\"7\" x=\"149\" y=\"603.0669\">y</text></a><!--MD5=[23ac544a70576c3e717098101004234c]\n",
       "reverse link E9 to E10--><a href=\"psysml:bbec5841-3ffd-488b-b643-01adfe752a25\" target=\"_top\" title=\"psysml:bbec5841-3ffd-488b-b643-01adfe752a25\" xlink:actuate=\"onRequest\" xlink:href=\"psysml:bbec5841-3ffd-488b-b643-01adfe752a25\" xlink:show=\"new\" xlink:title=\"psysml:bbec5841-3ffd-488b-b643-01adfe752a25\" xlink:type=\"simple\"><path d=\"M69.75,100.22 C69.75,100.22 69.75,147.83 69.75,147.83 \" fill=\"none\" id=\"E9&lt;-E10\" style=\"stroke: #383838; stroke-width: 1.0;\"/><polygon fill=\"#FFFFFF\" points=\"69.75,87.22,65.75,93.22,69.75,99.22,73.75,93.22,69.75,87.22\" style=\"stroke: #383838; stroke-width: 1.0;\"/><text fill=\"#000000\" font-family=\"sans-serif\" font-size=\"13\" lengthAdjust=\"spacingAndGlyphs\" textLength=\"8\" x=\"64.7609\" y=\"137.0627\">1</text></a><!--MD5=[feeac5eb423634930294aa81f2d25a4c]\n",
       "link E10 to E3--><a href=\"psysml:fb12afbf-9138-40ff-bf3b-75b81b096774\" target=\"_top\" title=\"psysml:fb12afbf-9138-40ff-bf3b-75b81b096774\" xlink:actuate=\"onRequest\" xlink:href=\"psysml:fb12afbf-9138-40ff-bf3b-75b81b096774\" xlink:show=\"new\" xlink:title=\"psysml:fb12afbf-9138-40ff-bf3b-75b81b096774\" xlink:type=\"simple\"><path d=\"M75.57,171 C88.91,171 103.5,171 103.5,171 C103.5,171 103.5,234.78 103.5,234.78 \" fill=\"none\" id=\"E10-&gt;E3\" style=\"stroke: #383838; stroke-width: 1.0;\"/><polygon fill=\"#FFFFFF\" points=\"103.5,254.78,96.5,235.78,110.5,235.78,103.5,254.78\" style=\"stroke: #383838; stroke-width: 1.0;\"/><ellipse cx=\"98.5\" cy=\"230.08\" fill=\"#383838\" rx=\"2\" ry=\"2\" style=\"stroke: #383838; stroke-width: 1.0;\"/><ellipse cx=\"108.5\" cy=\"230.08\" fill=\"#383838\" rx=\"2\" ry=\"2\" style=\"stroke: #383838; stroke-width: 1.0;\"/></a><!--MD5=[1fc04a95fd77ad5ce46c1a3027516051]\n",
       "reverse link E9 to E11--><a href=\"psysml:20edee2c-da5c-4ff9-9cec-febcc5f58071\" target=\"_top\" title=\"psysml:20edee2c-da5c-4ff9-9cec-febcc5f58071\" xlink:actuate=\"onRequest\" xlink:href=\"psysml:20edee2c-da5c-4ff9-9cec-febcc5f58071\" xlink:show=\"new\" xlink:title=\"psysml:20edee2c-da5c-4ff9-9cec-febcc5f58071\" xlink:type=\"simple\"><path d=\"M122.25,100.22 C122.25,100.22 122.25,147.83 122.25,147.83 \" fill=\"none\" id=\"E9&lt;-E11\" style=\"stroke: #383838; stroke-width: 1.0;\"/><polygon fill=\"#FFFFFF\" points=\"122.25,87.22,118.25,93.22,122.25,99.22,126.25,93.22,122.25,87.22\" style=\"stroke: #383838; stroke-width: 1.0;\"/><text fill=\"#000000\" font-family=\"sans-serif\" font-size=\"13\" lengthAdjust=\"spacingAndGlyphs\" textLength=\"8\" x=\"110.7266\" y=\"137.0627\">1</text></a><!--MD5=[0517f1ce58c4d5483948f93845c45e26]\n",
       "link E11 to E3--><a href=\"psysml:6098403c-f8e4-4c64-8bc6-7f6e4aceb826\" target=\"_top\" title=\"psysml:6098403c-f8e4-4c64-8bc6-7f6e4aceb826\" xlink:actuate=\"onRequest\" xlink:href=\"psysml:6098403c-f8e4-4c64-8bc6-7f6e4aceb826\" xlink:show=\"new\" xlink:title=\"psysml:6098403c-f8e4-4c64-8bc6-7f6e4aceb826\" xlink:type=\"simple\"><path d=\"M132,194.22 C132,194.22 132,234.83 132,234.83 \" fill=\"none\" id=\"E11-&gt;E3\" style=\"stroke: #383838; stroke-width: 1.0;\"/><polygon fill=\"#FFFFFF\" points=\"132,254.83,125,235.83,139,235.83,132,254.83\" style=\"stroke: #383838; stroke-width: 1.0;\"/><ellipse cx=\"127\" cy=\"230.13\" fill=\"#383838\" rx=\"2\" ry=\"2\" style=\"stroke: #383838; stroke-width: 1.0;\"/><ellipse cx=\"137\" cy=\"230.13\" fill=\"#383838\" rx=\"2\" ry=\"2\" style=\"stroke: #383838; stroke-width: 1.0;\"/></a><!--MD5=[aadfbd2a7dcc788247c8207eae707a84]\n",
       "@startuml\r\n",
       "skinparam linetype ortho\r\n",
       "skinparam monochrome true\r\n",
       "skinparam classbackgroundcolor white\r\n",
       "skinparam shadowing false\r\n",
       "skinparam wrapWidth 300\r\n",
       "hide circle\r\n",
       "\r\n",
       "package \"ItemTest\" as E1  [[psysml:05177c11-5394-41b2-a0a0-71a4c06ed611 ]]  {\r\n",
       "comp usage \"f: A \" as E2  <<(T,blue) item>> [[psysml:9b37ce48-aa06-4adb-ba3b-3b1410731947 ]] {\r\n",
       "}\r\n",
       "comp def \"A\" as E3  <<(T,blue) item  def>> [[psysml:373f36dd-9125-4f4d-9beb-8d6cd21e1469 ]] {\r\n",
       "}\r\n",
       "comp usage \"b: B \" as E4  <<(T,blue) item>> [[psysml:130e11a2-3d5f-4cd9-b0cd-9225a7528360 ]] {\r\n",
       "}\r\n",
       "comp usage \"c: C \" as E5  <<(T,blue) part>> [[psysml:80ae9a50-ac1f-4423-b935-68d8f5716f01 ]] {\r\n",
       "}\r\n",
       "comp def \"<i>B</i>\" as E6  <<(T,blue) item  def>> [[psysml:7d838d86-0408-4401-9cbf-32b733f3993a ]] {\r\n",
       "}\r\n",
       "comp usage \"<i>a</i>: A \" as E7  <<(T,blue) part>> [[psysml:d06b8fcb-8cda-493c-875d-bdf01ed715df ]] {\r\n",
       "}\r\n",
       "comp def \"C\" as E8  <<(T,blue) part  def>> [[psysml:a2efb8df-7581-49ed-b24f-8030c12b0405 ]] {\r\n",
       "}\r\n",
       "comp def \"P\" as E9  <<(T,blue) port  def>> [[psysml:91f3ce36-c57b-44eb-a625-32b1f3011842 ]] {\r\n",
       "}\r\n",
       "comp usage \"a1: A \" as E10  <<(T,blue) item>> [[psysml:5a8db81a-c733-4c6f-be90-4f9ffe214caa ]] {\r\n",
       "}\r\n",
       "comp usage \"a2: A \" as E11  <<(T,blue) item>> [[psysml:50797105-d3dc-4af6-be0e-986a23cb6cc7 ]] {\r\n",
       "}\r\n",
       "}\r\n",
       "E2 - -:|> E3 [[psysml:2d349f36-3ef3-481f-a80c-9f5be02d82e3 ]] \r\n",
       "E3 *- - \"1\"E4 [[psysml:1fc0b9c6-f917-494b-8539-e8a30a151a21 ]] \r\n",
       "E3 o- - \"1\"E5 [[psysml:1188b8bd-fcbe-4041-bfa3-3c6757b772de ]] \r\n",
       "E4 - -:|> E6 [[psysml:b444802f-fd06-4322-964d-2bd41504258e ]] \r\n",
       "E6 *- - \"1\"E7 [[psysml:fe8fc95e-22bb-46d1-b0fd-61d73c45474f ]] \r\n",
       "E7 - -:|> E3 [[psysml:599ea15b-bb0f-4f03-a502-f2e1a3a71e91 ]] \r\n",
       "E5 - -:|> E8 [[psysml:ebb03462-10dd-4a39-86ac-c1648f226bb6 ]] \r\n",
       "E8 o- - E3 [[psysml:4ca20137-091c-4af4-8b05-aa2379f8c92e ]] : y\r\n",
       "E8 o- - E6 [[psysml:4ca20137-091c-4af4-8b05-aa2379f8c92e ]] : y\r\n",
       "E9 o- - \"1\"E10 [[psysml:bbec5841-3ffd-488b-b643-01adfe752a25 ]] \r\n",
       "E10 - -:|> E3 [[psysml:fb12afbf-9138-40ff-bf3b-75b81b096774 ]] \r\n",
       "E9 o- - \"1\"E11 [[psysml:20edee2c-da5c-4ff9-9cec-febcc5f58071 ]] \r\n",
       "E11 - -:|> E3 [[psysml:6098403c-f8e4-4c64-8bc6-7f6e4aceb826 ]] \r\n",
       "@enduml\r\n",
       "\n",
       "PlantUML version 1.2020.13(Sat Jun 13 12:26:38 UTC 2020)\n",
       "(EPL source distribution)\n",
       "Java Runtime: OpenJDK Runtime Environment\n",
       "JVM: OpenJDK 64-Bit Server VM\n",
       "Default Encoding: UTF-8\n",
       "Language: en\n",
       "Country: null\n",
       "--></g></svg>"
      ]
     },
     "execution_count": 51,
     "metadata": {},
     "output_type": "execute_result"
    }
   ],
   "source": [
    "%viz --style=\"ORTHOLINE\" --view=\"Default\" \"ItemTest\""
   ]
  },
  {
   "cell_type": "code",
   "execution_count": 52,
   "id": "00c1edb0",
   "metadata": {
    "execution": {
     "iopub.execute_input": "2022-04-22T09:48:26.948643Z",
     "iopub.status.busy": "2022-04-22T09:48:26.947953Z",
     "iopub.status.idle": "2022-04-22T09:48:26.988425Z",
     "shell.execute_reply": "2022-04-22T09:48:26.986910Z"
    }
   },
   "outputs": [
    {
     "data": {
      "image/svg+xml": [
       "<?xml version=\"1.0\" encoding=\"UTF-8\" standalone=\"no\"?><svg xmlns=\"http://www.w3.org/2000/svg\" xmlns:xlink=\"http://www.w3.org/1999/xlink\" contentScriptType=\"application/ecmascript\" contentStyleType=\"text/css\" height=\"818px\" preserveAspectRatio=\"none\" style=\"width:270px;height:818px;\" version=\"1.1\" viewBox=\"0 0 270 818\" width=\"270px\" zoomAndPan=\"magnify\"><defs/><g><!--MD5=[fbc87193dbaf4d95561dea2c320d4a47]\n",
       "cluster E1--><a href=\"psysml:05177c11-5394-41b2-a0a0-71a4c06ed611\" target=\"_top\" title=\"psysml:05177c11-5394-41b2-a0a0-71a4c06ed611\" xlink:actuate=\"onRequest\" xlink:href=\"psysml:05177c11-5394-41b2-a0a0-71a4c06ed611\" xlink:show=\"new\" xlink:title=\"psysml:05177c11-5394-41b2-a0a0-71a4c06ed611\" xlink:type=\"simple\"><polygon fill=\"#FFFFFF\" points=\"16,6,83,6,90,28.2969,248,28.2969,248,806,16,806,16,6\" style=\"stroke: #000000; stroke-width: 1.5;\"/><line style=\"stroke: #000000; stroke-width: 1.5;\" x1=\"16\" x2=\"90\" y1=\"28.2969\" y2=\"28.2969\"/><text fill=\"#000000\" font-family=\"sans-serif\" font-size=\"14\" font-weight=\"bold\" lengthAdjust=\"spacingAndGlyphs\" textLength=\"61\" x=\"20\" y=\"20.9951\">ItemTest</text></a><!--MD5=[b4997ac47864f28c2f74865a473b2911]\n",
       "class E2--><a href=\"psysml:9b37ce48-aa06-4adb-ba3b-3b1410731947\" target=\"_top\" title=\"psysml:9b37ce48-aa06-4adb-ba3b-3b1410731947\" xlink:actuate=\"onRequest\" xlink:href=\"psysml:9b37ce48-aa06-4adb-ba3b-3b1410731947\" xlink:show=\"new\" xlink:title=\"psysml:9b37ce48-aa06-4adb-ba3b-3b1410731947\" xlink:type=\"simple\"><rect fill=\"#FFFFFF\" height=\"45.9375\" id=\"E2\" rx=\"10\" ry=\"10\" style=\"stroke: #383838; stroke-width: 1.5;\" width=\"43\" x=\"188.5\" y=\"148\"/><text fill=\"#000000\" font-family=\"sans-serif\" font-size=\"12\" font-style=\"italic\" lengthAdjust=\"spacingAndGlyphs\" textLength=\"41\" x=\"189.5\" y=\"164.1387\">«item»</text><text fill=\"#000000\" font-family=\"sans-serif\" font-size=\"12\" lengthAdjust=\"spacingAndGlyphs\" textLength=\"20\" x=\"198\" y=\"178.1074\">f: A</text><line style=\"stroke: #383838; stroke-width: 1.5;\" x1=\"189.5\" x2=\"230.5\" y1=\"185.9375\" y2=\"185.9375\"/></a><!--MD5=[09b614a08d8cba4a07c9adeb5e0fee81]\n",
       "class E3--><a href=\"psysml:373f36dd-9125-4f4d-9beb-8d6cd21e1469\" target=\"_top\" title=\"psysml:373f36dd-9125-4f4d-9beb-8d6cd21e1469\" xlink:actuate=\"onRequest\" xlink:href=\"psysml:373f36dd-9125-4f4d-9beb-8d6cd21e1469\" xlink:show=\"new\" xlink:title=\"psysml:373f36dd-9125-4f4d-9beb-8d6cd21e1469\" xlink:type=\"simple\"><rect fill=\"#FFFFFF\" height=\"45.9375\" id=\"E3\" style=\"stroke: #383838; stroke-width: 1.5;\" width=\"71\" x=\"96.5\" y=\"255\"/><text fill=\"#000000\" font-family=\"sans-serif\" font-size=\"12\" font-style=\"italic\" lengthAdjust=\"spacingAndGlyphs\" textLength=\"69\" x=\"97.5\" y=\"271.1387\">«item  def»</text><text fill=\"#000000\" font-family=\"sans-serif\" font-size=\"12\" lengthAdjust=\"spacingAndGlyphs\" textLength=\"8\" x=\"128\" y=\"285.1074\">A</text><line style=\"stroke: #383838; stroke-width: 1.5;\" x1=\"97.5\" x2=\"166.5\" y1=\"292.9375\" y2=\"292.9375\"/></a><!--MD5=[ebbe1d658d1005bcc118a6aa81145e00]\n",
       "class E4--><a href=\"psysml:130e11a2-3d5f-4cd9-b0cd-9225a7528360\" target=\"_top\" title=\"psysml:130e11a2-3d5f-4cd9-b0cd-9225a7528360\" xlink:actuate=\"onRequest\" xlink:href=\"psysml:130e11a2-3d5f-4cd9-b0cd-9225a7528360\" xlink:show=\"new\" xlink:title=\"psysml:130e11a2-3d5f-4cd9-b0cd-9225a7528360\" xlink:type=\"simple\"><rect fill=\"#FFFFFF\" height=\"45.9375\" id=\"E4\" rx=\"10\" ry=\"10\" style=\"stroke: #383838; stroke-width: 1.5;\" width=\"43\" x=\"45.5\" y=\"438\"/><text fill=\"#000000\" font-family=\"sans-serif\" font-size=\"12\" font-style=\"italic\" lengthAdjust=\"spacingAndGlyphs\" textLength=\"41\" x=\"46.5\" y=\"454.1387\">«item»</text><text fill=\"#000000\" font-family=\"sans-serif\" font-size=\"12\" lengthAdjust=\"spacingAndGlyphs\" textLength=\"24\" x=\"53\" y=\"468.1074\">b: B</text><line style=\"stroke: #383838; stroke-width: 1.5;\" x1=\"46.5\" x2=\"87.5\" y1=\"475.9375\" y2=\"475.9375\"/></a><!--MD5=[270fce915f116d4de14055a7c1d9a0f3]\n",
       "class E5--><a href=\"psysml:80ae9a50-ac1f-4423-b935-68d8f5716f01\" target=\"_top\" title=\"psysml:80ae9a50-ac1f-4423-b935-68d8f5716f01\" xlink:actuate=\"onRequest\" xlink:href=\"psysml:80ae9a50-ac1f-4423-b935-68d8f5716f01\" xlink:show=\"new\" xlink:title=\"psysml:80ae9a50-ac1f-4423-b935-68d8f5716f01\" xlink:type=\"simple\"><rect fill=\"#FFFFFF\" height=\"45.9375\" id=\"E5\" rx=\"10\" ry=\"10\" style=\"stroke: #383838; stroke-width: 1.5;\" width=\"42\" x=\"151\" y=\"362\"/><text fill=\"#000000\" font-family=\"sans-serif\" font-size=\"12\" font-style=\"italic\" lengthAdjust=\"spacingAndGlyphs\" textLength=\"40\" x=\"152\" y=\"378.1387\">«part»</text><text fill=\"#000000\" font-family=\"sans-serif\" font-size=\"12\" lengthAdjust=\"spacingAndGlyphs\" textLength=\"23\" x=\"158.5\" y=\"392.1074\">c: C</text><line style=\"stroke: #383838; stroke-width: 1.5;\" x1=\"152\" x2=\"192\" y1=\"399.9375\" y2=\"399.9375\"/></a><!--MD5=[60a26617385b1d2d0262a64233df1f8d]\n",
       "class E6--><a href=\"psysml:7d838d86-0408-4401-9cbf-32b733f3993a\" target=\"_top\" title=\"psysml:7d838d86-0408-4401-9cbf-32b733f3993a\" xlink:actuate=\"onRequest\" xlink:href=\"psysml:7d838d86-0408-4401-9cbf-32b733f3993a\" xlink:show=\"new\" xlink:title=\"psysml:7d838d86-0408-4401-9cbf-32b733f3993a\" xlink:type=\"simple\"><rect fill=\"#FFFFFF\" height=\"45.9375\" id=\"E6\" style=\"stroke: #383838; stroke-width: 1.5;\" width=\"71\" x=\"112.5\" y=\"637\"/><text fill=\"#000000\" font-family=\"sans-serif\" font-size=\"12\" font-style=\"italic\" lengthAdjust=\"spacingAndGlyphs\" textLength=\"69\" x=\"113.5\" y=\"653.1387\">«item  def»</text><text fill=\"#000000\" font-family=\"sans-serif\" font-size=\"12\" font-style=\"italic\" lengthAdjust=\"spacingAndGlyphs\" textLength=\"8\" x=\"144\" y=\"667.1074\">B</text><line style=\"stroke: #383838; stroke-width: 1.5;\" x1=\"113.5\" x2=\"182.5\" y1=\"674.9375\" y2=\"674.9375\"/></a><!--MD5=[2156ba9850f5573cc1fc38a6a4b2f02b]\n",
       "class E7--><a href=\"psysml:d06b8fcb-8cda-493c-875d-bdf01ed715df\" target=\"_top\" title=\"psysml:d06b8fcb-8cda-493c-875d-bdf01ed715df\" xlink:actuate=\"onRequest\" xlink:href=\"psysml:d06b8fcb-8cda-493c-875d-bdf01ed715df\" xlink:show=\"new\" xlink:title=\"psysml:d06b8fcb-8cda-493c-875d-bdf01ed715df\" xlink:type=\"simple\"><rect fill=\"#FFFFFF\" height=\"45.9375\" id=\"E7\" rx=\"10\" ry=\"10\" style=\"stroke: #383838; stroke-width: 1.5;\" width=\"42\" x=\"159\" y=\"744\"/><text fill=\"#000000\" font-family=\"sans-serif\" font-size=\"12\" font-style=\"italic\" lengthAdjust=\"spacingAndGlyphs\" textLength=\"40\" x=\"160\" y=\"760.1387\">«part»</text><text fill=\"#000000\" font-family=\"sans-serif\" font-size=\"12\" font-style=\"italic\" lengthAdjust=\"spacingAndGlyphs\" textLength=\"8\" x=\"166\" y=\"774.1074\">a</text><text fill=\"#000000\" font-family=\"sans-serif\" font-size=\"12\" lengthAdjust=\"spacingAndGlyphs\" textLength=\"16\" x=\"174\" y=\"774.1074\">: A</text><line style=\"stroke: #383838; stroke-width: 1.5;\" x1=\"160\" x2=\"200\" y1=\"781.9375\" y2=\"781.9375\"/></a><!--MD5=[b9389687b975829384b498ac4b7476b2]\n",
       "class E8--><a href=\"psysml:a2efb8df-7581-49ed-b24f-8030c12b0405\" target=\"_top\" title=\"psysml:a2efb8df-7581-49ed-b24f-8030c12b0405\" xlink:actuate=\"onRequest\" xlink:href=\"psysml:a2efb8df-7581-49ed-b24f-8030c12b0405\" xlink:show=\"new\" xlink:title=\"psysml:a2efb8df-7581-49ed-b24f-8030c12b0405\" xlink:type=\"simple\"><rect fill=\"#FFFFFF\" height=\"45.9375\" id=\"E8\" style=\"stroke: #383838; stroke-width: 1.5;\" width=\"70\" x=\"113\" y=\"514\"/><text fill=\"#000000\" font-family=\"sans-serif\" font-size=\"12\" font-style=\"italic\" lengthAdjust=\"spacingAndGlyphs\" textLength=\"68\" x=\"114\" y=\"530.1387\">«part  def»</text><text fill=\"#000000\" font-family=\"sans-serif\" font-size=\"12\" lengthAdjust=\"spacingAndGlyphs\" textLength=\"8\" x=\"144\" y=\"544.1074\">C</text><line style=\"stroke: #383838; stroke-width: 1.5;\" x1=\"114\" x2=\"182\" y1=\"551.9375\" y2=\"551.9375\"/></a><!--MD5=[fd4143e9d270a159db93a4ea2a975926]\n",
       "class E9--><a href=\"psysml:91f3ce36-c57b-44eb-a625-32b1f3011842\" target=\"_top\" title=\"psysml:91f3ce36-c57b-44eb-a625-32b1f3011842\" xlink:actuate=\"onRequest\" xlink:href=\"psysml:91f3ce36-c57b-44eb-a625-32b1f3011842\" xlink:show=\"new\" xlink:title=\"psysml:91f3ce36-c57b-44eb-a625-32b1f3011842\" xlink:type=\"simple\"><rect fill=\"#FFFFFF\" height=\"45.9375\" id=\"E9\" style=\"stroke: #383838; stroke-width: 1.5;\" width=\"70\" x=\"64\" y=\"41\"/><text fill=\"#000000\" font-family=\"sans-serif\" font-size=\"12\" font-style=\"italic\" lengthAdjust=\"spacingAndGlyphs\" textLength=\"68\" x=\"65\" y=\"57.1387\">«port  def»</text><text fill=\"#000000\" font-family=\"sans-serif\" font-size=\"12\" lengthAdjust=\"spacingAndGlyphs\" textLength=\"8\" x=\"95\" y=\"71.1074\">P</text><line style=\"stroke: #383838; stroke-width: 1.5;\" x1=\"65\" x2=\"133\" y1=\"78.9375\" y2=\"78.9375\"/></a><!--MD5=[96f4274e9e20536e775497830990834d]\n",
       "class E10--><a href=\"psysml:5a8db81a-c733-4c6f-be90-4f9ffe214caa\" target=\"_top\" title=\"psysml:5a8db81a-c733-4c6f-be90-4f9ffe214caa\" xlink:actuate=\"onRequest\" xlink:href=\"psysml:5a8db81a-c733-4c6f-be90-4f9ffe214caa\" xlink:show=\"new\" xlink:title=\"psysml:5a8db81a-c733-4c6f-be90-4f9ffe214caa\" xlink:type=\"simple\"><rect fill=\"#FFFFFF\" height=\"45.9375\" id=\"E10\" rx=\"10\" ry=\"10\" style=\"stroke: #383838; stroke-width: 1.5;\" width=\"43\" x=\"32.5\" y=\"148\"/><text fill=\"#000000\" font-family=\"sans-serif\" font-size=\"12\" font-style=\"italic\" lengthAdjust=\"spacingAndGlyphs\" textLength=\"41\" x=\"33.5\" y=\"164.1387\">«item»</text><text fill=\"#000000\" font-family=\"sans-serif\" font-size=\"12\" lengthAdjust=\"spacingAndGlyphs\" textLength=\"32\" x=\"36\" y=\"178.1074\">a1: A</text><line style=\"stroke: #383838; stroke-width: 1.5;\" x1=\"33.5\" x2=\"74.5\" y1=\"185.9375\" y2=\"185.9375\"/></a><!--MD5=[1dd1bfd58a279cf63c5f349dbc8fc6a1]\n",
       "class E11--><a href=\"psysml:50797105-d3dc-4af6-be0e-986a23cb6cc7\" target=\"_top\" title=\"psysml:50797105-d3dc-4af6-be0e-986a23cb6cc7\" xlink:actuate=\"onRequest\" xlink:href=\"psysml:50797105-d3dc-4af6-be0e-986a23cb6cc7\" xlink:show=\"new\" xlink:title=\"psysml:50797105-d3dc-4af6-be0e-986a23cb6cc7\" xlink:type=\"simple\"><rect fill=\"#FFFFFF\" height=\"45.9375\" id=\"E11\" rx=\"10\" ry=\"10\" style=\"stroke: #383838; stroke-width: 1.5;\" width=\"43\" x=\"110.5\" y=\"148\"/><text fill=\"#000000\" font-family=\"sans-serif\" font-size=\"12\" font-style=\"italic\" lengthAdjust=\"spacingAndGlyphs\" textLength=\"41\" x=\"111.5\" y=\"164.1387\">«item»</text><text fill=\"#000000\" font-family=\"sans-serif\" font-size=\"12\" lengthAdjust=\"spacingAndGlyphs\" textLength=\"32\" x=\"114\" y=\"178.1074\">a2: A</text><line style=\"stroke: #383838; stroke-width: 1.5;\" x1=\"111.5\" x2=\"152.5\" y1=\"185.9375\" y2=\"185.9375\"/></a><!--MD5=[2720a5a1f2c3fca2055b230370638851]\n",
       "link E2 to E3--><a href=\"psysml:2d349f36-3ef3-481f-a80c-9f5be02d82e3\" target=\"_top\" title=\"psysml:2d349f36-3ef3-481f-a80c-9f5be02d82e3\" xlink:actuate=\"onRequest\" xlink:href=\"psysml:2d349f36-3ef3-481f-a80c-9f5be02d82e3\" xlink:show=\"new\" xlink:title=\"psysml:2d349f36-3ef3-481f-a80c-9f5be02d82e3\" xlink:type=\"simple\"><path d=\"M188.43,171 C175.09,171 160.5,171 160.5,171 C160.5,171 160.5,234.78 160.5,234.78 \" fill=\"none\" id=\"E2-&gt;E3\" style=\"stroke: #383838; stroke-width: 1.0;\"/><polygon fill=\"#FFFFFF\" points=\"160.5,254.78,153.5,235.78,167.5,235.78,160.5,254.78\" style=\"stroke: #383838; stroke-width: 1.0;\"/><ellipse cx=\"155.5\" cy=\"230.08\" fill=\"#383838\" rx=\"2\" ry=\"2\" style=\"stroke: #383838; stroke-width: 1.0;\"/><ellipse cx=\"165.5\" cy=\"230.08\" fill=\"#383838\" rx=\"2\" ry=\"2\" style=\"stroke: #383838; stroke-width: 1.0;\"/></a><!--MD5=[4672eba38e49728da53d11aeb285b987]\n",
       "reverse link E3 to E4--><a href=\"psysml:1fc0b9c6-f917-494b-8539-e8a30a151a21\" target=\"_top\" title=\"psysml:1fc0b9c6-f917-494b-8539-e8a30a151a21\" xlink:actuate=\"onRequest\" xlink:href=\"psysml:1fc0b9c6-f917-494b-8539-e8a30a151a21\" xlink:show=\"new\" xlink:title=\"psysml:1fc0b9c6-f917-494b-8539-e8a30a151a21\" xlink:type=\"simple\"><path d=\"M83.46,278 C83.46,278 82,278 82,278 C82,278 82,388.58 82,437.82 \" fill=\"none\" id=\"E3&lt;-E4\" style=\"stroke: #383838; stroke-width: 1.0;\"/><polygon fill=\"#383838\" points=\"96.46,278,90.46,274,84.46,278,90.46,282,96.46,278\" style=\"stroke: #383838; stroke-width: 1.0;\"/><text fill=\"#000000\" font-family=\"sans-serif\" font-size=\"13\" lengthAdjust=\"spacingAndGlyphs\" textLength=\"8\" x=\"76.8188\" y=\"427.0502\">1</text></a><!--MD5=[191cde3d490a3f6d7bb551fe3ddca469]\n",
       "reverse link E3 to E5--><a href=\"psysml:1188b8bd-fcbe-4041-bfa3-3c6757b772de\" target=\"_top\" title=\"psysml:1188b8bd-fcbe-4041-bfa3-3c6757b772de\" xlink:actuate=\"onRequest\" xlink:href=\"psysml:1188b8bd-fcbe-4041-bfa3-3c6757b772de\" xlink:show=\"new\" xlink:title=\"psysml:1188b8bd-fcbe-4041-bfa3-3c6757b772de\" xlink:type=\"simple\"><path d=\"M159.25,314.22 C159.25,314.22 159.25,361.83 159.25,361.83 \" fill=\"none\" id=\"E3&lt;-E5\" style=\"stroke: #383838; stroke-width: 1.0;\"/><polygon fill=\"#FFFFFF\" points=\"159.25,301.22,155.25,307.22,159.25,313.22,163.25,307.22,159.25,301.22\" style=\"stroke: #383838; stroke-width: 1.0;\"/><text fill=\"#000000\" font-family=\"sans-serif\" font-size=\"13\" lengthAdjust=\"spacingAndGlyphs\" textLength=\"8\" x=\"146.9578\" y=\"351.0627\">1</text></a><!--MD5=[79568f1e445c3877b6a54524624ccc7d]\n",
       "link E4 to E6--><a href=\"psysml:b444802f-fd06-4322-964d-2bd41504258e\" target=\"_top\" title=\"psysml:b444802f-fd06-4322-964d-2bd41504258e\" xlink:actuate=\"onRequest\" xlink:href=\"psysml:b444802f-fd06-4322-964d-2bd41504258e\" xlink:show=\"new\" xlink:title=\"psysml:b444802f-fd06-4322-964d-2bd41504258e\" xlink:type=\"simple\"><path d=\"M67,484.22 C67,536.71 67,660 67,660 C67,660 92.24,660 92.24,660 \" fill=\"none\" id=\"E4-&gt;E6\" style=\"stroke: #383838; stroke-width: 1.0;\"/><polygon fill=\"#FFFFFF\" points=\"112.24,660,93.24,667,93.24,653,112.24,660\" style=\"stroke: #383838; stroke-width: 1.0;\"/><ellipse cx=\"87.54\" cy=\"665\" fill=\"#383838\" rx=\"2\" ry=\"2\" style=\"stroke: #383838; stroke-width: 1.0;\"/><ellipse cx=\"87.54\" cy=\"655\" fill=\"#383838\" rx=\"2\" ry=\"2\" style=\"stroke: #383838; stroke-width: 1.0;\"/></a><!--MD5=[3f50a3473f1dfb74d3f76443e03635af]\n",
       "reverse link E6 to E7--><a href=\"psysml:fe8fc95e-22bb-46d1-b0fd-61d73c45474f\" target=\"_top\" title=\"psysml:fe8fc95e-22bb-46d1-b0fd-61d73c45474f\" xlink:actuate=\"onRequest\" xlink:href=\"psysml:fe8fc95e-22bb-46d1-b0fd-61d73c45474f\" xlink:show=\"new\" xlink:title=\"psysml:fe8fc95e-22bb-46d1-b0fd-61d73c45474f\" xlink:type=\"simple\"><path d=\"M171.25,696.22 C171.25,696.22 171.25,743.83 171.25,743.83 \" fill=\"none\" id=\"E6&lt;-E7\" style=\"stroke: #383838; stroke-width: 1.0;\"/><polygon fill=\"#383838\" points=\"171.25,683.22,167.25,689.22,171.25,695.22,175.25,689.22,171.25,683.22\" style=\"stroke: #383838; stroke-width: 1.0;\"/><text fill=\"#000000\" font-family=\"sans-serif\" font-size=\"13\" lengthAdjust=\"spacingAndGlyphs\" textLength=\"8\" x=\"159.9828\" y=\"733.0627\">1</text></a><!--MD5=[14ccda38c055a5c0da953d572bc50960]\n",
       "link E7 to E3--><a href=\"psysml:599ea15b-bb0f-4f03-a502-f2e1a3a71e91\" target=\"_top\" title=\"psysml:599ea15b-bb0f-4f03-a502-f2e1a3a71e91\" xlink:actuate=\"onRequest\" xlink:href=\"psysml:599ea15b-bb0f-4f03-a502-f2e1a3a71e91\" xlink:show=\"new\" xlink:title=\"psysml:599ea15b-bb0f-4f03-a502-f2e1a3a71e91\" xlink:type=\"simple\"><path d=\"M197,743.74 C197,646.56 197,278 197,278 C197,278 187.54,278 187.54,278 \" fill=\"none\" id=\"E7-&gt;E3\" style=\"stroke: #383838; stroke-width: 1.0;\"/><polygon fill=\"#FFFFFF\" points=\"167.54,278,186.54,271,186.54,285,167.54,278\" style=\"stroke: #383838; stroke-width: 1.0;\"/><ellipse cx=\"192.24\" cy=\"273\" fill=\"#383838\" rx=\"2\" ry=\"2\" style=\"stroke: #383838; stroke-width: 1.0;\"/><ellipse cx=\"192.24\" cy=\"283\" fill=\"#383838\" rx=\"2\" ry=\"2\" style=\"stroke: #383838; stroke-width: 1.0;\"/></a><!--MD5=[dfaffb906826c3e5aca635516100ff21]\n",
       "link E5 to E8--><a href=\"psysml:ebb03462-10dd-4a39-86ac-c1648f226bb6\" target=\"_top\" title=\"psysml:ebb03462-10dd-4a39-86ac-c1648f226bb6\" xlink:actuate=\"onRequest\" xlink:href=\"psysml:ebb03462-10dd-4a39-86ac-c1648f226bb6\" xlink:show=\"new\" xlink:title=\"psysml:ebb03462-10dd-4a39-86ac-c1648f226bb6\" xlink:type=\"simple\"><path d=\"M167,408.09 C167,408.09 167,493.7 167,493.7 \" fill=\"none\" id=\"E5-&gt;E8\" style=\"stroke: #383838; stroke-width: 1.0;\"/><polygon fill=\"#FFFFFF\" points=\"167,513.7,160,494.7,174,494.7,167,513.7\" style=\"stroke: #383838; stroke-width: 1.0;\"/><ellipse cx=\"162\" cy=\"489\" fill=\"#383838\" rx=\"2\" ry=\"2\" style=\"stroke: #383838; stroke-width: 1.0;\"/><ellipse cx=\"172\" cy=\"489\" fill=\"#383838\" rx=\"2\" ry=\"2\" style=\"stroke: #383838; stroke-width: 1.0;\"/></a><!--MD5=[03c8294790d3c57651a1993cecff665f]\n",
       "reverse link E8 to E3--><a href=\"psysml:4ca20137-091c-4af4-8b05-aa2379f8c92e\" target=\"_top\" title=\"psysml:4ca20137-091c-4af4-8b05-aa2379f8c92e\" xlink:actuate=\"onRequest\" xlink:href=\"psysml:4ca20137-091c-4af4-8b05-aa2379f8c92e\" xlink:show=\"new\" xlink:title=\"psysml:4ca20137-091c-4af4-8b05-aa2379f8c92e\" xlink:type=\"simple\"><path d=\"M132,500.56 C132,500.56 132,301.2 132,301.2 \" fill=\"none\" id=\"E8&lt;-E3\" style=\"stroke: #383838; stroke-width: 1.0;\"/><polygon fill=\"#FFFFFF\" points=\"132,513.56,136,507.56,132,501.56,128,507.56,132,513.56\" style=\"stroke: #383838; stroke-width: 1.0;\"/><text fill=\"#000000\" font-family=\"sans-serif\" font-size=\"13\" lengthAdjust=\"spacingAndGlyphs\" textLength=\"7\" x=\"108\" y=\"389.5669\">y</text></a><!--MD5=[0d75d2178373a6a4568e5dc728f58aef]\n",
       "reverse link E8 to E6--><a href=\"psysml:4ca20137-091c-4af4-8b05-aa2379f8c92e\" target=\"_top\" title=\"psysml:4ca20137-091c-4af4-8b05-aa2379f8c92e\" xlink:actuate=\"onRequest\" xlink:href=\"psysml:4ca20137-091c-4af4-8b05-aa2379f8c92e\" xlink:show=\"new\" xlink:title=\"psysml:4ca20137-091c-4af4-8b05-aa2379f8c92e\" xlink:type=\"simple\"><path d=\"M148,573.14 C148,573.14 148,636.97 148,636.97 \" fill=\"none\" id=\"E8&lt;-E6\" style=\"stroke: #383838; stroke-width: 1.0;\"/><polygon fill=\"#FFFFFF\" points=\"148,560.14,144,566.14,148,572.14,152,566.14,148,560.14\" style=\"stroke: #383838; stroke-width: 1.0;\"/><text fill=\"#000000\" font-family=\"sans-serif\" font-size=\"13\" lengthAdjust=\"spacingAndGlyphs\" textLength=\"7\" x=\"149\" y=\"603.0669\">y</text></a><!--MD5=[23ac544a70576c3e717098101004234c]\n",
       "reverse link E9 to E10--><a href=\"psysml:bbec5841-3ffd-488b-b643-01adfe752a25\" target=\"_top\" title=\"psysml:bbec5841-3ffd-488b-b643-01adfe752a25\" xlink:actuate=\"onRequest\" xlink:href=\"psysml:bbec5841-3ffd-488b-b643-01adfe752a25\" xlink:show=\"new\" xlink:title=\"psysml:bbec5841-3ffd-488b-b643-01adfe752a25\" xlink:type=\"simple\"><path d=\"M69.75,100.22 C69.75,100.22 69.75,147.83 69.75,147.83 \" fill=\"none\" id=\"E9&lt;-E10\" style=\"stroke: #383838; stroke-width: 1.0;\"/><polygon fill=\"#FFFFFF\" points=\"69.75,87.22,65.75,93.22,69.75,99.22,73.75,93.22,69.75,87.22\" style=\"stroke: #383838; stroke-width: 1.0;\"/><text fill=\"#000000\" font-family=\"sans-serif\" font-size=\"13\" lengthAdjust=\"spacingAndGlyphs\" textLength=\"8\" x=\"64.7609\" y=\"137.0627\">1</text></a><!--MD5=[feeac5eb423634930294aa81f2d25a4c]\n",
       "link E10 to E3--><a href=\"psysml:fb12afbf-9138-40ff-bf3b-75b81b096774\" target=\"_top\" title=\"psysml:fb12afbf-9138-40ff-bf3b-75b81b096774\" xlink:actuate=\"onRequest\" xlink:href=\"psysml:fb12afbf-9138-40ff-bf3b-75b81b096774\" xlink:show=\"new\" xlink:title=\"psysml:fb12afbf-9138-40ff-bf3b-75b81b096774\" xlink:type=\"simple\"><path d=\"M75.57,171 C88.91,171 103.5,171 103.5,171 C103.5,171 103.5,234.78 103.5,234.78 \" fill=\"none\" id=\"E10-&gt;E3\" style=\"stroke: #383838; stroke-width: 1.0;\"/><polygon fill=\"#FFFFFF\" points=\"103.5,254.78,96.5,235.78,110.5,235.78,103.5,254.78\" style=\"stroke: #383838; stroke-width: 1.0;\"/><ellipse cx=\"98.5\" cy=\"230.08\" fill=\"#383838\" rx=\"2\" ry=\"2\" style=\"stroke: #383838; stroke-width: 1.0;\"/><ellipse cx=\"108.5\" cy=\"230.08\" fill=\"#383838\" rx=\"2\" ry=\"2\" style=\"stroke: #383838; stroke-width: 1.0;\"/></a><!--MD5=[1fc04a95fd77ad5ce46c1a3027516051]\n",
       "reverse link E9 to E11--><a href=\"psysml:20edee2c-da5c-4ff9-9cec-febcc5f58071\" target=\"_top\" title=\"psysml:20edee2c-da5c-4ff9-9cec-febcc5f58071\" xlink:actuate=\"onRequest\" xlink:href=\"psysml:20edee2c-da5c-4ff9-9cec-febcc5f58071\" xlink:show=\"new\" xlink:title=\"psysml:20edee2c-da5c-4ff9-9cec-febcc5f58071\" xlink:type=\"simple\"><path d=\"M122.25,100.22 C122.25,100.22 122.25,147.83 122.25,147.83 \" fill=\"none\" id=\"E9&lt;-E11\" style=\"stroke: #383838; stroke-width: 1.0;\"/><polygon fill=\"#FFFFFF\" points=\"122.25,87.22,118.25,93.22,122.25,99.22,126.25,93.22,122.25,87.22\" style=\"stroke: #383838; stroke-width: 1.0;\"/><text fill=\"#000000\" font-family=\"sans-serif\" font-size=\"13\" lengthAdjust=\"spacingAndGlyphs\" textLength=\"8\" x=\"110.7266\" y=\"137.0627\">1</text></a><!--MD5=[0517f1ce58c4d5483948f93845c45e26]\n",
       "link E11 to E3--><a href=\"psysml:6098403c-f8e4-4c64-8bc6-7f6e4aceb826\" target=\"_top\" title=\"psysml:6098403c-f8e4-4c64-8bc6-7f6e4aceb826\" xlink:actuate=\"onRequest\" xlink:href=\"psysml:6098403c-f8e4-4c64-8bc6-7f6e4aceb826\" xlink:show=\"new\" xlink:title=\"psysml:6098403c-f8e4-4c64-8bc6-7f6e4aceb826\" xlink:type=\"simple\"><path d=\"M132,194.22 C132,194.22 132,234.83 132,234.83 \" fill=\"none\" id=\"E11-&gt;E3\" style=\"stroke: #383838; stroke-width: 1.0;\"/><polygon fill=\"#FFFFFF\" points=\"132,254.83,125,235.83,139,235.83,132,254.83\" style=\"stroke: #383838; stroke-width: 1.0;\"/><ellipse cx=\"127\" cy=\"230.13\" fill=\"#383838\" rx=\"2\" ry=\"2\" style=\"stroke: #383838; stroke-width: 1.0;\"/><ellipse cx=\"137\" cy=\"230.13\" fill=\"#383838\" rx=\"2\" ry=\"2\" style=\"stroke: #383838; stroke-width: 1.0;\"/></a><!--MD5=[aadfbd2a7dcc788247c8207eae707a84]\n",
       "@startuml\r\n",
       "skinparam linetype ortho\r\n",
       "skinparam monochrome true\r\n",
       "skinparam classbackgroundcolor white\r\n",
       "skinparam shadowing false\r\n",
       "skinparam wrapWidth 300\r\n",
       "hide circle\r\n",
       "\r\n",
       "package \"ItemTest\" as E1  [[psysml:05177c11-5394-41b2-a0a0-71a4c06ed611 ]]  {\r\n",
       "comp usage \"f: A \" as E2  <<(T,blue) item>> [[psysml:9b37ce48-aa06-4adb-ba3b-3b1410731947 ]] {\r\n",
       "}\r\n",
       "comp def \"A\" as E3  <<(T,blue) item  def>> [[psysml:373f36dd-9125-4f4d-9beb-8d6cd21e1469 ]] {\r\n",
       "}\r\n",
       "comp usage \"b: B \" as E4  <<(T,blue) item>> [[psysml:130e11a2-3d5f-4cd9-b0cd-9225a7528360 ]] {\r\n",
       "}\r\n",
       "comp usage \"c: C \" as E5  <<(T,blue) part>> [[psysml:80ae9a50-ac1f-4423-b935-68d8f5716f01 ]] {\r\n",
       "}\r\n",
       "comp def \"<i>B</i>\" as E6  <<(T,blue) item  def>> [[psysml:7d838d86-0408-4401-9cbf-32b733f3993a ]] {\r\n",
       "}\r\n",
       "comp usage \"<i>a</i>: A \" as E7  <<(T,blue) part>> [[psysml:d06b8fcb-8cda-493c-875d-bdf01ed715df ]] {\r\n",
       "}\r\n",
       "comp def \"C\" as E8  <<(T,blue) part  def>> [[psysml:a2efb8df-7581-49ed-b24f-8030c12b0405 ]] {\r\n",
       "}\r\n",
       "comp def \"P\" as E9  <<(T,blue) port  def>> [[psysml:91f3ce36-c57b-44eb-a625-32b1f3011842 ]] {\r\n",
       "}\r\n",
       "comp usage \"a1: A \" as E10  <<(T,blue) item>> [[psysml:5a8db81a-c733-4c6f-be90-4f9ffe214caa ]] {\r\n",
       "}\r\n",
       "comp usage \"a2: A \" as E11  <<(T,blue) item>> [[psysml:50797105-d3dc-4af6-be0e-986a23cb6cc7 ]] {\r\n",
       "}\r\n",
       "}\r\n",
       "E2 - -:|> E3 [[psysml:2d349f36-3ef3-481f-a80c-9f5be02d82e3 ]] \r\n",
       "E3 *- - \"1\"E4 [[psysml:1fc0b9c6-f917-494b-8539-e8a30a151a21 ]] \r\n",
       "E3 o- - \"1\"E5 [[psysml:1188b8bd-fcbe-4041-bfa3-3c6757b772de ]] \r\n",
       "E4 - -:|> E6 [[psysml:b444802f-fd06-4322-964d-2bd41504258e ]] \r\n",
       "E6 *- - \"1\"E7 [[psysml:fe8fc95e-22bb-46d1-b0fd-61d73c45474f ]] \r\n",
       "E7 - -:|> E3 [[psysml:599ea15b-bb0f-4f03-a502-f2e1a3a71e91 ]] \r\n",
       "E5 - -:|> E8 [[psysml:ebb03462-10dd-4a39-86ac-c1648f226bb6 ]] \r\n",
       "E8 o- - E3 [[psysml:4ca20137-091c-4af4-8b05-aa2379f8c92e ]] : y\r\n",
       "E8 o- - E6 [[psysml:4ca20137-091c-4af4-8b05-aa2379f8c92e ]] : y\r\n",
       "E9 o- - \"1\"E10 [[psysml:bbec5841-3ffd-488b-b643-01adfe752a25 ]] \r\n",
       "E10 - -:|> E3 [[psysml:fb12afbf-9138-40ff-bf3b-75b81b096774 ]] \r\n",
       "E9 o- - \"1\"E11 [[psysml:20edee2c-da5c-4ff9-9cec-febcc5f58071 ]] \r\n",
       "E11 - -:|> E3 [[psysml:6098403c-f8e4-4c64-8bc6-7f6e4aceb826 ]] \r\n",
       "@enduml\r\n",
       "\n",
       "PlantUML version 1.2020.13(Sat Jun 13 12:26:38 UTC 2020)\n",
       "(EPL source distribution)\n",
       "Java Runtime: OpenJDK Runtime Environment\n",
       "JVM: OpenJDK 64-Bit Server VM\n",
       "Default Encoding: UTF-8\n",
       "Language: en\n",
       "Country: null\n",
       "--></g></svg>"
      ]
     },
     "execution_count": 52,
     "metadata": {},
     "output_type": "execute_result"
    }
   ],
   "source": [
    "%viz --style=\"ORTHOLINE\" --view=\"Tree\" \"ItemTest\""
   ]
  },
  {
   "cell_type": "code",
   "execution_count": 53,
   "id": "dc78f2d7",
   "metadata": {
    "execution": {
     "iopub.execute_input": "2022-04-22T09:48:27.037958Z",
     "iopub.status.busy": "2022-04-22T09:48:27.037337Z",
     "iopub.status.idle": "2022-04-22T09:48:27.042310Z",
     "shell.execute_reply": "2022-04-22T09:48:27.041960Z"
    }
   },
   "outputs": [
    {
     "data": {
      "image/svg+xml": [
       "<?xml version=\"1.0\" encoding=\"UTF-8\" standalone=\"no\"?><svg xmlns=\"http://www.w3.org/2000/svg\" xmlns:xlink=\"http://www.w3.org/1999/xlink\" contentScriptType=\"application/ecmascript\" contentStyleType=\"text/css\" height=\"12px\" preserveAspectRatio=\"none\" style=\"width:12px;height:12px;\" version=\"1.1\" viewBox=\"0 0 12 12\" width=\"12px\" zoomAndPan=\"magnify\"><defs/><g><!--MD5=[97d6f38768b311333d388e66b2b27985]\n",
       "@startuml\r\n",
       "skinparam linetype ortho\r\n",
       "skinparam monochrome true\r\n",
       "skinparam classbackgroundcolor white\r\n",
       "skinparam shadowing false\r\n",
       "skinparam wrapWidth 300\r\n",
       "hide circle\r\n",
       "\r\n",
       "@enduml\r\n",
       "\n",
       "PlantUML version 1.2020.13(Sat Jun 13 12:26:38 UTC 2020)\n",
       "(EPL source distribution)\n",
       "Java Runtime: OpenJDK Runtime Environment\n",
       "JVM: OpenJDK 64-Bit Server VM\n",
       "Default Encoding: UTF-8\n",
       "Language: en\n",
       "Country: null\n",
       "--></g></svg>"
      ]
     },
     "execution_count": 53,
     "metadata": {},
     "output_type": "execute_result"
    }
   ],
   "source": [
    "%viz --style=\"ORTHOLINE\" --view=\"State\" \"ItemTest\""
   ]
  },
  {
   "cell_type": "code",
   "execution_count": 54,
   "id": "d391dbe6",
   "metadata": {
    "execution": {
     "iopub.execute_input": "2022-04-22T09:48:27.092411Z",
     "iopub.status.busy": "2022-04-22T09:48:27.091811Z",
     "iopub.status.idle": "2022-04-22T09:48:27.119937Z",
     "shell.execute_reply": "2022-04-22T09:48:27.118510Z"
    }
   },
   "outputs": [
    {
     "data": {
      "image/svg+xml": [
       "<?xml version=\"1.0\" encoding=\"UTF-8\" standalone=\"no\"?><svg xmlns=\"http://www.w3.org/2000/svg\" xmlns:xlink=\"http://www.w3.org/1999/xlink\" contentScriptType=\"application/ecmascript\" contentStyleType=\"text/css\" height=\"179px\" preserveAspectRatio=\"none\" style=\"width:474px;height:179px;\" version=\"1.1\" viewBox=\"0 0 474 179\" width=\"474px\" zoomAndPan=\"magnify\"><defs/><g><!--MD5=[fbc87193dbaf4d95561dea2c320d4a47]\n",
       "cluster E1--><a href=\"psysml:05177c11-5394-41b2-a0a0-71a4c06ed611\" target=\"_top\" title=\"psysml:05177c11-5394-41b2-a0a0-71a4c06ed611\" xlink:actuate=\"onRequest\" xlink:href=\"psysml:05177c11-5394-41b2-a0a0-71a4c06ed611\" xlink:show=\"new\" xlink:title=\"psysml:05177c11-5394-41b2-a0a0-71a4c06ed611\" xlink:type=\"simple\"><polygon fill=\"#FFFFFF\" points=\"16,6,83,6,90,28.2969,452,28.2969,452,167,16,167,16,6\" style=\"stroke: #000000; stroke-width: 1.5;\"/><line style=\"stroke: #000000; stroke-width: 1.5;\" x1=\"16\" x2=\"90\" y1=\"28.2969\" y2=\"28.2969\"/><text fill=\"#000000\" font-family=\"sans-serif\" font-size=\"14\" font-weight=\"bold\" lengthAdjust=\"spacingAndGlyphs\" textLength=\"61\" x=\"20\" y=\"20.9951\">ItemTest</text></a><!--MD5=[de5ec2e2e8f62f467e546659f5068c88]\n",
       "cluster E5--><a href=\"psysml:a2efb8df-7581-49ed-b24f-8030c12b0405\" target=\"_top\" title=\"psysml:a2efb8df-7581-49ed-b24f-8030c12b0405\" xlink:actuate=\"onRequest\" xlink:href=\"psysml:a2efb8df-7581-49ed-b24f-8030c12b0405\" xlink:show=\"new\" xlink:title=\"psysml:a2efb8df-7581-49ed-b24f-8030c12b0405\" xlink:type=\"simple\"><rect fill=\"#FFFFFF\" height=\"88.5\" id=\"E5\" style=\"stroke: #383838; stroke-width: 1.5;\" width=\"124\" x=\"312\" y=\"62.5\"/><rect fill=\"#F8F8F8\" height=\"37.9375\" style=\"stroke: #383838; stroke-width: 1.5;\" width=\"124\" x=\"312\" y=\"62.5\"/><text fill=\"#000000\" font-family=\"sans-serif\" font-size=\"12\" font-style=\"italic\" lengthAdjust=\"spacingAndGlyphs\" textLength=\"68\" x=\"340\" y=\"78.6387\">«part  def»</text><text fill=\"#000000\" font-family=\"sans-serif\" font-size=\"12\" lengthAdjust=\"spacingAndGlyphs\" textLength=\"8\" x=\"370\" y=\"92.6074\">C</text></a><g id=\"E1.E3\"><a href=\"psysml:373f36dd-9125-4f4d-9beb-8d6cd21e1469\" target=\"_top\" title=\"psysml:373f36dd-9125-4f4d-9beb-8d6cd21e1469\" xlink:actuate=\"onRequest\" xlink:href=\"psysml:373f36dd-9125-4f4d-9beb-8d6cd21e1469\" xlink:show=\"new\" xlink:title=\"psysml:373f36dd-9125-4f4d-9beb-8d6cd21e1469\" xlink:type=\"simple\"><rect fill=\"#FFFFFF\" height=\"42.9375\" id=\"E3\" style=\"stroke: #383838; stroke-width: 1.5;\" width=\"76\" x=\"32\" y=\"96\"/><rect fill=\"#F8F8F8\" height=\"37.9375\" style=\"stroke: #383838; stroke-width: 1.5;\" width=\"76\" x=\"32\" y=\"96\"/><text fill=\"#000000\" font-family=\"sans-serif\" font-size=\"12\" font-style=\"italic\" lengthAdjust=\"spacingAndGlyphs\" textLength=\"69\" x=\"35.5\" y=\"112.1387\">«item  def»</text><text fill=\"#000000\" font-family=\"sans-serif\" font-size=\"12\" lengthAdjust=\"spacingAndGlyphs\" textLength=\"8\" x=\"66\" y=\"126.1074\">A</text></a></g><g id=\"E1.E4\"><a href=\"psysml:7d838d86-0408-4401-9cbf-32b733f3993a\" target=\"_top\" title=\"psysml:7d838d86-0408-4401-9cbf-32b733f3993a\" xlink:actuate=\"onRequest\" xlink:href=\"psysml:7d838d86-0408-4401-9cbf-32b733f3993a\" xlink:show=\"new\" xlink:title=\"psysml:7d838d86-0408-4401-9cbf-32b733f3993a\" xlink:type=\"simple\"><rect fill=\"#FFFFFF\" height=\"42.9375\" id=\"E4\" style=\"stroke: #383838; stroke-width: 1.5;\" width=\"76\" x=\"228\" y=\"41\"/><rect fill=\"#F8F8F8\" height=\"37.9375\" style=\"stroke: #383838; stroke-width: 1.5;\" width=\"76\" x=\"228\" y=\"41\"/><text fill=\"#000000\" font-family=\"sans-serif\" font-size=\"12\" font-style=\"italic\" lengthAdjust=\"spacingAndGlyphs\" textLength=\"69\" x=\"231.5\" y=\"57.1387\">«item  def»</text><text fill=\"#000000\" font-family=\"sans-serif\" font-size=\"12\" font-style=\"italic\" lengthAdjust=\"spacingAndGlyphs\" textLength=\"8\" x=\"262\" y=\"71.1074\">B</text></a></g><g id=\"E1.E7\"><a href=\"psysml:91f3ce36-c57b-44eb-a625-32b1f3011842\" target=\"_top\" title=\"psysml:91f3ce36-c57b-44eb-a625-32b1f3011842\" xlink:actuate=\"onRequest\" xlink:href=\"psysml:91f3ce36-c57b-44eb-a625-32b1f3011842\" xlink:show=\"new\" xlink:title=\"psysml:91f3ce36-c57b-44eb-a625-32b1f3011842\" xlink:type=\"simple\"><rect fill=\"#FFFFFF\" height=\"42.9375\" id=\"E7\" style=\"stroke: #383838; stroke-width: 1.5;\" width=\"75\" x=\"117.5\" y=\"41\"/><rect fill=\"#F8F8F8\" height=\"37.9375\" style=\"stroke: #383838; stroke-width: 1.5;\" width=\"75\" x=\"117.5\" y=\"41\"/><text fill=\"#000000\" font-family=\"sans-serif\" font-size=\"12\" font-style=\"italic\" lengthAdjust=\"spacingAndGlyphs\" textLength=\"68\" x=\"121\" y=\"57.1387\">«port  def»</text><text fill=\"#000000\" font-family=\"sans-serif\" font-size=\"12\" lengthAdjust=\"spacingAndGlyphs\" textLength=\"8\" x=\"151\" y=\"71.1074\">P</text></a></g><g id=\"E1.E2\"><a href=\"psysml:9b37ce48-aa06-4adb-ba3b-3b1410731947\" target=\"_top\" title=\"psysml:9b37ce48-aa06-4adb-ba3b-3b1410731947\" xlink:actuate=\"onRequest\" xlink:href=\"psysml:9b37ce48-aa06-4adb-ba3b-3b1410731947\" xlink:show=\"new\" xlink:title=\"psysml:9b37ce48-aa06-4adb-ba3b-3b1410731947\" xlink:type=\"simple\"><rect fill=\"#FFFFFF\" height=\"42.9375\" id=\"E2\" rx=\"10\" ry=\"10\" style=\"stroke: #383838; stroke-width: 1.5;\" width=\"50\" x=\"32\" y=\"41\"/><rect fill=\"#F8F8F8\" height=\"37.9375\" rx=\"10\" ry=\"10\" style=\"stroke: #F8F8F8; stroke-width: 1.5;\" width=\"50\" x=\"32\" y=\"41\"/><rect fill=\"#F8F8F8\" height=\"10\" style=\"stroke: #F8F8F8; stroke-width: 1.5;\" width=\"50\" x=\"32\" y=\"68.9375\"/><rect fill=\"none\" height=\"42.9375\" id=\"E2\" rx=\"10\" ry=\"10\" style=\"stroke: #383838; stroke-width: 1.5;\" width=\"50\" x=\"32\" y=\"41\"/><text fill=\"#000000\" font-family=\"sans-serif\" font-size=\"12\" font-style=\"italic\" lengthAdjust=\"spacingAndGlyphs\" textLength=\"41\" x=\"36.5\" y=\"57.1387\">«item»</text><text fill=\"#000000\" font-family=\"sans-serif\" font-size=\"12\" lengthAdjust=\"spacingAndGlyphs\" textLength=\"20\" x=\"47\" y=\"71.1074\">f: A</text></a></g><text fill=\"#000000\" font-family=\"sans-serif\" font-size=\"14\" lengthAdjust=\"spacingAndGlyphs\" textLength=\"43\" x=\"350.5\" y=\"41.1982\">y: A, B</text><rect fill=\"#383838\" height=\"12\" style=\"stroke: #F8F8F8; stroke-width: 1.5;\" width=\"12\" x=\"368\" y=\"56.5\"/><!--MD5=[2720a5a1f2c3fca2055b230370638851]\n",
       "link E2 to E3--><a href=\"psysml:2d349f36-3ef3-481f-a80c-9f5be02d82e3\" target=\"_top\" title=\"psysml:2d349f36-3ef3-481f-a80c-9f5be02d82e3\" xlink:actuate=\"onRequest\" xlink:href=\"psysml:2d349f36-3ef3-481f-a80c-9f5be02d82e3\" xlink:show=\"new\" xlink:title=\"psysml:2d349f36-3ef3-481f-a80c-9f5be02d82e3\" xlink:type=\"simple\"><path d=\"M57,84.24 C57,84.24 57,85.41 57,85.41 \" fill=\"none\" id=\"E2-&gt;E3\" style=\"stroke: #383838; stroke-width: 1.0;\"/><polygon fill=\"#FFFFFF\" points=\"57,95.92,50,76.92,64,76.92,57,95.92\" style=\"stroke: #383838; stroke-width: 1.0;\"/><ellipse cx=\"52\" cy=\"71.22\" fill=\"#383838\" rx=\"2\" ry=\"2\" style=\"stroke: #383838; stroke-width: 1.0;\"/><ellipse cx=\"62\" cy=\"71.22\" fill=\"#383838\" rx=\"2\" ry=\"2\" style=\"stroke: #383838; stroke-width: 1.0;\"/></a><!--MD5=[87e4059b6ea5480b46f02b1126a88bda]\n",
       "@startuml\r\n",
       "skinparam ranksep 10\r\n",
       "skinparam rectangle {\r\n",
       " backgroundColor<<block>> LightGreen\r\n",
       "}\r\n",
       "skinparam linetype ortho\r\n",
       "skinparam monochrome true\r\n",
       "skinparam classbackgroundcolor white\r\n",
       "skinparam shadowing false\r\n",
       "skinparam wrapWidth 300\r\n",
       "hide circle\r\n",
       "\r\n",
       "package \"ItemTest\" as E1  [[psysml:05177c11-5394-41b2-a0a0-71a4c06ed611 ]]  {\r\n",
       "rec usage \"f: A\" as E2  <<(T,blue) item>> [[psysml:9b37ce48-aa06-4adb-ba3b-3b1410731947 ]] {\r\n",
       "}\r\n",
       "def \"A\" as E3  <<(T,blue) item  def>> [[psysml:373f36dd-9125-4f4d-9beb-8d6cd21e1469 ]] \r\n",
       "def \"<i>B</i>\" as E4  <<(T,blue) item  def>> [[psysml:7d838d86-0408-4401-9cbf-32b733f3993a ]] \r\n",
       "rec def \"C\" as E5  <<(T,blue) part  def>> [[psysml:a2efb8df-7581-49ed-b24f-8030c12b0405 ]] {\r\n",
       "portin \"y: A, B \" as E6  <<(T,blue) reference>> [[psysml:4ca20137-091c-4af4-8b05-aa2379f8c92e ]] \r\n",
       "}\r\n",
       "def \"P\" as E7  <<(T,blue) port  def>> [[psysml:91f3ce36-c57b-44eb-a625-32b1f3011842 ]] \r\n",
       "}\r\n",
       "E2 - -:|> E3 [[psysml:2d349f36-3ef3-481f-a80c-9f5be02d82e3 ]] \r\n",
       "@enduml\r\n",
       "\n",
       "PlantUML version 1.2020.13(Sat Jun 13 12:26:38 UTC 2020)\n",
       "(EPL source distribution)\n",
       "Java Runtime: OpenJDK Runtime Environment\n",
       "JVM: OpenJDK 64-Bit Server VM\n",
       "Default Encoding: UTF-8\n",
       "Language: en\n",
       "Country: null\n",
       "--></g></svg>"
      ]
     },
     "execution_count": 54,
     "metadata": {},
     "output_type": "execute_result"
    }
   ],
   "source": [
    "%viz --style=\"ORTHOLINE\" --view=\"Interconnection\" \"ItemTest\""
   ]
  },
  {
   "cell_type": "code",
   "execution_count": 55,
   "id": "7b3f9710",
   "metadata": {
    "execution": {
     "iopub.execute_input": "2022-04-22T09:48:27.169228Z",
     "iopub.status.busy": "2022-04-22T09:48:27.168774Z",
     "iopub.status.idle": "2022-04-22T09:48:27.173426Z",
     "shell.execute_reply": "2022-04-22T09:48:27.173728Z"
    }
   },
   "outputs": [
    {
     "data": {
      "image/svg+xml": [
       "<?xml version=\"1.0\" encoding=\"UTF-8\" standalone=\"no\"?><svg xmlns=\"http://www.w3.org/2000/svg\" xmlns:xlink=\"http://www.w3.org/1999/xlink\" contentScriptType=\"application/ecmascript\" contentStyleType=\"text/css\" height=\"12px\" preserveAspectRatio=\"none\" style=\"width:12px;height:12px;\" version=\"1.1\" viewBox=\"0 0 12 12\" width=\"12px\" zoomAndPan=\"magnify\"><defs/><g><!--MD5=[72934c63077099a26744516a776b4749]\n",
       "@startuml\r\n",
       "skinparam ranksep 8\r\n",
       "skinparam linetype ortho\r\n",
       "skinparam monochrome true\r\n",
       "skinparam classbackgroundcolor white\r\n",
       "skinparam shadowing false\r\n",
       "skinparam wrapWidth 300\r\n",
       "hide circle\r\n",
       "\r\n",
       "@enduml\r\n",
       "\n",
       "PlantUML version 1.2020.13(Sat Jun 13 12:26:38 UTC 2020)\n",
       "(EPL source distribution)\n",
       "Java Runtime: OpenJDK Runtime Environment\n",
       "JVM: OpenJDK 64-Bit Server VM\n",
       "Default Encoding: UTF-8\n",
       "Language: en\n",
       "Country: null\n",
       "--></g></svg>"
      ]
     },
     "execution_count": 55,
     "metadata": {},
     "output_type": "execute_result"
    }
   ],
   "source": [
    "%viz --style=\"ORTHOLINE\" --view=\"Action\" \"ItemTest\""
   ]
  },
  {
   "cell_type": "code",
   "execution_count": 56,
   "id": "185eda5d",
   "metadata": {
    "execution": {
     "iopub.execute_input": "2022-04-22T09:48:27.223337Z",
     "iopub.status.busy": "2022-04-22T09:48:27.222942Z",
     "iopub.status.idle": "2022-04-22T09:48:27.227625Z",
     "shell.execute_reply": "2022-04-22T09:48:27.227933Z"
    }
   },
   "outputs": [
    {
     "data": {
      "image/svg+xml": [
       "<?xml version=\"1.0\" encoding=\"UTF-8\" standalone=\"no\"?><svg xmlns=\"http://www.w3.org/2000/svg\" xmlns:xlink=\"http://www.w3.org/1999/xlink\" contentScriptType=\"application/ecmascript\" contentStyleType=\"text/css\" height=\"12px\" preserveAspectRatio=\"none\" style=\"width:12px;height:12px;\" version=\"1.1\" viewBox=\"0 0 12 12\" width=\"12px\" zoomAndPan=\"magnify\"><defs/><g><!--MD5=[30fc1de5121c5abddedd55b44417fde8]\n",
       "@startuml\r\n",
       "skinparam roundcorner 20\r\n",
       "skinparam BoxPadding 20\r\n",
       "skinparam SequenceBoxBackgroundColor #white\r\n",
       "skinparam style strictuml\r\n",
       "skinparam maxMessageSize 100\r\n",
       "skinparam linetype ortho\r\n",
       "skinparam monochrome true\r\n",
       "skinparam classbackgroundcolor white\r\n",
       "skinparam shadowing false\r\n",
       "skinparam wrapWidth 300\r\n",
       "hide circle\r\n",
       "\r\n",
       "@enduml\r\n",
       "\n",
       "PlantUML version 1.2020.13(Sat Jun 13 12:26:38 UTC 2020)\n",
       "(EPL source distribution)\n",
       "Java Runtime: OpenJDK Runtime Environment\n",
       "JVM: OpenJDK 64-Bit Server VM\n",
       "Default Encoding: UTF-8\n",
       "Language: en\n",
       "Country: null\n",
       "--></g></svg>"
      ]
     },
     "execution_count": 56,
     "metadata": {},
     "output_type": "execute_result"
    }
   ],
   "source": [
    "%viz --style=\"ORTHOLINE\" --view=\"Sequence\" \"ItemTest\""
   ]
  },
  {
   "cell_type": "code",
   "execution_count": 57,
   "id": "4061ff52",
   "metadata": {
    "execution": {
     "iopub.execute_input": "2022-04-22T09:48:27.277962Z",
     "iopub.status.busy": "2022-04-22T09:48:27.277571Z",
     "iopub.status.idle": "2022-04-22T09:48:27.320258Z",
     "shell.execute_reply": "2022-04-22T09:48:27.318599Z"
    }
   },
   "outputs": [
    {
     "data": {
      "image/svg+xml": [
       "<?xml version=\"1.0\" encoding=\"UTF-8\" standalone=\"no\"?><svg xmlns=\"http://www.w3.org/2000/svg\" xmlns:xlink=\"http://www.w3.org/1999/xlink\" contentScriptType=\"application/ecmascript\" contentStyleType=\"text/css\" height=\"818px\" preserveAspectRatio=\"none\" style=\"width:270px;height:818px;\" version=\"1.1\" viewBox=\"0 0 270 818\" width=\"270px\" zoomAndPan=\"magnify\"><defs/><g><!--MD5=[fbc87193dbaf4d95561dea2c320d4a47]\n",
       "cluster E1--><a href=\"psysml:05177c11-5394-41b2-a0a0-71a4c06ed611\" target=\"_top\" title=\"psysml:05177c11-5394-41b2-a0a0-71a4c06ed611\" xlink:actuate=\"onRequest\" xlink:href=\"psysml:05177c11-5394-41b2-a0a0-71a4c06ed611\" xlink:show=\"new\" xlink:title=\"psysml:05177c11-5394-41b2-a0a0-71a4c06ed611\" xlink:type=\"simple\"><polygon fill=\"#FFFFFF\" points=\"16,6,83,6,90,28.2969,248,28.2969,248,806,16,806,16,6\" style=\"stroke: #000000; stroke-width: 1.5;\"/><line style=\"stroke: #000000; stroke-width: 1.5;\" x1=\"16\" x2=\"90\" y1=\"28.2969\" y2=\"28.2969\"/><text fill=\"#000000\" font-family=\"sans-serif\" font-size=\"14\" font-weight=\"bold\" lengthAdjust=\"spacingAndGlyphs\" textLength=\"61\" x=\"20\" y=\"20.9951\">ItemTest</text></a><!--MD5=[b4997ac47864f28c2f74865a473b2911]\n",
       "class E2--><a href=\"psysml:9b37ce48-aa06-4adb-ba3b-3b1410731947\" target=\"_top\" title=\"psysml:9b37ce48-aa06-4adb-ba3b-3b1410731947\" xlink:actuate=\"onRequest\" xlink:href=\"psysml:9b37ce48-aa06-4adb-ba3b-3b1410731947\" xlink:show=\"new\" xlink:title=\"psysml:9b37ce48-aa06-4adb-ba3b-3b1410731947\" xlink:type=\"simple\"><rect fill=\"#FFFFFF\" height=\"45.9375\" id=\"E2\" rx=\"10\" ry=\"10\" style=\"stroke: #383838; stroke-width: 1.5;\" width=\"43\" x=\"188.5\" y=\"148\"/><text fill=\"#000000\" font-family=\"sans-serif\" font-size=\"12\" font-style=\"italic\" lengthAdjust=\"spacingAndGlyphs\" textLength=\"41\" x=\"189.5\" y=\"164.1387\">«item»</text><text fill=\"#000000\" font-family=\"sans-serif\" font-size=\"12\" lengthAdjust=\"spacingAndGlyphs\" textLength=\"20\" x=\"198\" y=\"178.1074\">f: A</text><line style=\"stroke: #383838; stroke-width: 1.5;\" x1=\"189.5\" x2=\"230.5\" y1=\"185.9375\" y2=\"185.9375\"/></a><!--MD5=[09b614a08d8cba4a07c9adeb5e0fee81]\n",
       "class E3--><a href=\"psysml:373f36dd-9125-4f4d-9beb-8d6cd21e1469\" target=\"_top\" title=\"psysml:373f36dd-9125-4f4d-9beb-8d6cd21e1469\" xlink:actuate=\"onRequest\" xlink:href=\"psysml:373f36dd-9125-4f4d-9beb-8d6cd21e1469\" xlink:show=\"new\" xlink:title=\"psysml:373f36dd-9125-4f4d-9beb-8d6cd21e1469\" xlink:type=\"simple\"><rect fill=\"#FFFFFF\" height=\"45.9375\" id=\"E3\" style=\"stroke: #383838; stroke-width: 1.5;\" width=\"71\" x=\"96.5\" y=\"255\"/><text fill=\"#000000\" font-family=\"sans-serif\" font-size=\"12\" font-style=\"italic\" lengthAdjust=\"spacingAndGlyphs\" textLength=\"69\" x=\"97.5\" y=\"271.1387\">«item  def»</text><text fill=\"#000000\" font-family=\"sans-serif\" font-size=\"12\" lengthAdjust=\"spacingAndGlyphs\" textLength=\"8\" x=\"128\" y=\"285.1074\">A</text><line style=\"stroke: #383838; stroke-width: 1.5;\" x1=\"97.5\" x2=\"166.5\" y1=\"292.9375\" y2=\"292.9375\"/></a><!--MD5=[ebbe1d658d1005bcc118a6aa81145e00]\n",
       "class E4--><a href=\"psysml:130e11a2-3d5f-4cd9-b0cd-9225a7528360\" target=\"_top\" title=\"psysml:130e11a2-3d5f-4cd9-b0cd-9225a7528360\" xlink:actuate=\"onRequest\" xlink:href=\"psysml:130e11a2-3d5f-4cd9-b0cd-9225a7528360\" xlink:show=\"new\" xlink:title=\"psysml:130e11a2-3d5f-4cd9-b0cd-9225a7528360\" xlink:type=\"simple\"><rect fill=\"#FFFFFF\" height=\"45.9375\" id=\"E4\" rx=\"10\" ry=\"10\" style=\"stroke: #383838; stroke-width: 1.5;\" width=\"43\" x=\"45.5\" y=\"438\"/><text fill=\"#000000\" font-family=\"sans-serif\" font-size=\"12\" font-style=\"italic\" lengthAdjust=\"spacingAndGlyphs\" textLength=\"41\" x=\"46.5\" y=\"454.1387\">«item»</text><text fill=\"#000000\" font-family=\"sans-serif\" font-size=\"12\" lengthAdjust=\"spacingAndGlyphs\" textLength=\"24\" x=\"53\" y=\"468.1074\">b: B</text><line style=\"stroke: #383838; stroke-width: 1.5;\" x1=\"46.5\" x2=\"87.5\" y1=\"475.9375\" y2=\"475.9375\"/></a><!--MD5=[270fce915f116d4de14055a7c1d9a0f3]\n",
       "class E5--><a href=\"psysml:80ae9a50-ac1f-4423-b935-68d8f5716f01\" target=\"_top\" title=\"psysml:80ae9a50-ac1f-4423-b935-68d8f5716f01\" xlink:actuate=\"onRequest\" xlink:href=\"psysml:80ae9a50-ac1f-4423-b935-68d8f5716f01\" xlink:show=\"new\" xlink:title=\"psysml:80ae9a50-ac1f-4423-b935-68d8f5716f01\" xlink:type=\"simple\"><rect fill=\"#FFFFFF\" height=\"45.9375\" id=\"E5\" rx=\"10\" ry=\"10\" style=\"stroke: #383838; stroke-width: 1.5;\" width=\"42\" x=\"151\" y=\"362\"/><text fill=\"#000000\" font-family=\"sans-serif\" font-size=\"12\" font-style=\"italic\" lengthAdjust=\"spacingAndGlyphs\" textLength=\"40\" x=\"152\" y=\"378.1387\">«part»</text><text fill=\"#000000\" font-family=\"sans-serif\" font-size=\"12\" lengthAdjust=\"spacingAndGlyphs\" textLength=\"23\" x=\"158.5\" y=\"392.1074\">c: C</text><line style=\"stroke: #383838; stroke-width: 1.5;\" x1=\"152\" x2=\"192\" y1=\"399.9375\" y2=\"399.9375\"/></a><!--MD5=[60a26617385b1d2d0262a64233df1f8d]\n",
       "class E6--><a href=\"psysml:7d838d86-0408-4401-9cbf-32b733f3993a\" target=\"_top\" title=\"psysml:7d838d86-0408-4401-9cbf-32b733f3993a\" xlink:actuate=\"onRequest\" xlink:href=\"psysml:7d838d86-0408-4401-9cbf-32b733f3993a\" xlink:show=\"new\" xlink:title=\"psysml:7d838d86-0408-4401-9cbf-32b733f3993a\" xlink:type=\"simple\"><rect fill=\"#FFFFFF\" height=\"45.9375\" id=\"E6\" style=\"stroke: #383838; stroke-width: 1.5;\" width=\"71\" x=\"112.5\" y=\"637\"/><text fill=\"#000000\" font-family=\"sans-serif\" font-size=\"12\" font-style=\"italic\" lengthAdjust=\"spacingAndGlyphs\" textLength=\"69\" x=\"113.5\" y=\"653.1387\">«item  def»</text><text fill=\"#000000\" font-family=\"sans-serif\" font-size=\"12\" font-style=\"italic\" lengthAdjust=\"spacingAndGlyphs\" textLength=\"8\" x=\"144\" y=\"667.1074\">B</text><line style=\"stroke: #383838; stroke-width: 1.5;\" x1=\"113.5\" x2=\"182.5\" y1=\"674.9375\" y2=\"674.9375\"/></a><!--MD5=[2156ba9850f5573cc1fc38a6a4b2f02b]\n",
       "class E7--><a href=\"psysml:d06b8fcb-8cda-493c-875d-bdf01ed715df\" target=\"_top\" title=\"psysml:d06b8fcb-8cda-493c-875d-bdf01ed715df\" xlink:actuate=\"onRequest\" xlink:href=\"psysml:d06b8fcb-8cda-493c-875d-bdf01ed715df\" xlink:show=\"new\" xlink:title=\"psysml:d06b8fcb-8cda-493c-875d-bdf01ed715df\" xlink:type=\"simple\"><rect fill=\"#FFFFFF\" height=\"45.9375\" id=\"E7\" rx=\"10\" ry=\"10\" style=\"stroke: #383838; stroke-width: 1.5;\" width=\"42\" x=\"159\" y=\"744\"/><text fill=\"#000000\" font-family=\"sans-serif\" font-size=\"12\" font-style=\"italic\" lengthAdjust=\"spacingAndGlyphs\" textLength=\"40\" x=\"160\" y=\"760.1387\">«part»</text><text fill=\"#000000\" font-family=\"sans-serif\" font-size=\"12\" font-style=\"italic\" lengthAdjust=\"spacingAndGlyphs\" textLength=\"8\" x=\"166\" y=\"774.1074\">a</text><text fill=\"#000000\" font-family=\"sans-serif\" font-size=\"12\" lengthAdjust=\"spacingAndGlyphs\" textLength=\"16\" x=\"174\" y=\"774.1074\">: A</text><line style=\"stroke: #383838; stroke-width: 1.5;\" x1=\"160\" x2=\"200\" y1=\"781.9375\" y2=\"781.9375\"/></a><!--MD5=[b9389687b975829384b498ac4b7476b2]\n",
       "class E8--><a href=\"psysml:a2efb8df-7581-49ed-b24f-8030c12b0405\" target=\"_top\" title=\"psysml:a2efb8df-7581-49ed-b24f-8030c12b0405\" xlink:actuate=\"onRequest\" xlink:href=\"psysml:a2efb8df-7581-49ed-b24f-8030c12b0405\" xlink:show=\"new\" xlink:title=\"psysml:a2efb8df-7581-49ed-b24f-8030c12b0405\" xlink:type=\"simple\"><rect fill=\"#FFFFFF\" height=\"45.9375\" id=\"E8\" style=\"stroke: #383838; stroke-width: 1.5;\" width=\"70\" x=\"113\" y=\"514\"/><text fill=\"#000000\" font-family=\"sans-serif\" font-size=\"12\" font-style=\"italic\" lengthAdjust=\"spacingAndGlyphs\" textLength=\"68\" x=\"114\" y=\"530.1387\">«part  def»</text><text fill=\"#000000\" font-family=\"sans-serif\" font-size=\"12\" lengthAdjust=\"spacingAndGlyphs\" textLength=\"8\" x=\"144\" y=\"544.1074\">C</text><line style=\"stroke: #383838; stroke-width: 1.5;\" x1=\"114\" x2=\"182\" y1=\"551.9375\" y2=\"551.9375\"/></a><!--MD5=[fd4143e9d270a159db93a4ea2a975926]\n",
       "class E9--><a href=\"psysml:91f3ce36-c57b-44eb-a625-32b1f3011842\" target=\"_top\" title=\"psysml:91f3ce36-c57b-44eb-a625-32b1f3011842\" xlink:actuate=\"onRequest\" xlink:href=\"psysml:91f3ce36-c57b-44eb-a625-32b1f3011842\" xlink:show=\"new\" xlink:title=\"psysml:91f3ce36-c57b-44eb-a625-32b1f3011842\" xlink:type=\"simple\"><rect fill=\"#FFFFFF\" height=\"45.9375\" id=\"E9\" style=\"stroke: #383838; stroke-width: 1.5;\" width=\"70\" x=\"64\" y=\"41\"/><text fill=\"#000000\" font-family=\"sans-serif\" font-size=\"12\" font-style=\"italic\" lengthAdjust=\"spacingAndGlyphs\" textLength=\"68\" x=\"65\" y=\"57.1387\">«port  def»</text><text fill=\"#000000\" font-family=\"sans-serif\" font-size=\"12\" lengthAdjust=\"spacingAndGlyphs\" textLength=\"8\" x=\"95\" y=\"71.1074\">P</text><line style=\"stroke: #383838; stroke-width: 1.5;\" x1=\"65\" x2=\"133\" y1=\"78.9375\" y2=\"78.9375\"/></a><!--MD5=[96f4274e9e20536e775497830990834d]\n",
       "class E10--><a href=\"psysml:5a8db81a-c733-4c6f-be90-4f9ffe214caa\" target=\"_top\" title=\"psysml:5a8db81a-c733-4c6f-be90-4f9ffe214caa\" xlink:actuate=\"onRequest\" xlink:href=\"psysml:5a8db81a-c733-4c6f-be90-4f9ffe214caa\" xlink:show=\"new\" xlink:title=\"psysml:5a8db81a-c733-4c6f-be90-4f9ffe214caa\" xlink:type=\"simple\"><rect fill=\"#FFFFFF\" height=\"45.9375\" id=\"E10\" rx=\"10\" ry=\"10\" style=\"stroke: #383838; stroke-width: 1.5;\" width=\"43\" x=\"32.5\" y=\"148\"/><text fill=\"#000000\" font-family=\"sans-serif\" font-size=\"12\" font-style=\"italic\" lengthAdjust=\"spacingAndGlyphs\" textLength=\"41\" x=\"33.5\" y=\"164.1387\">«item»</text><text fill=\"#000000\" font-family=\"sans-serif\" font-size=\"12\" lengthAdjust=\"spacingAndGlyphs\" textLength=\"32\" x=\"36\" y=\"178.1074\">a1: A</text><line style=\"stroke: #383838; stroke-width: 1.5;\" x1=\"33.5\" x2=\"74.5\" y1=\"185.9375\" y2=\"185.9375\"/></a><!--MD5=[1dd1bfd58a279cf63c5f349dbc8fc6a1]\n",
       "class E11--><a href=\"psysml:50797105-d3dc-4af6-be0e-986a23cb6cc7\" target=\"_top\" title=\"psysml:50797105-d3dc-4af6-be0e-986a23cb6cc7\" xlink:actuate=\"onRequest\" xlink:href=\"psysml:50797105-d3dc-4af6-be0e-986a23cb6cc7\" xlink:show=\"new\" xlink:title=\"psysml:50797105-d3dc-4af6-be0e-986a23cb6cc7\" xlink:type=\"simple\"><rect fill=\"#FFFFFF\" height=\"45.9375\" id=\"E11\" rx=\"10\" ry=\"10\" style=\"stroke: #383838; stroke-width: 1.5;\" width=\"43\" x=\"110.5\" y=\"148\"/><text fill=\"#000000\" font-family=\"sans-serif\" font-size=\"12\" font-style=\"italic\" lengthAdjust=\"spacingAndGlyphs\" textLength=\"41\" x=\"111.5\" y=\"164.1387\">«item»</text><text fill=\"#000000\" font-family=\"sans-serif\" font-size=\"12\" lengthAdjust=\"spacingAndGlyphs\" textLength=\"32\" x=\"114\" y=\"178.1074\">a2: A</text><line style=\"stroke: #383838; stroke-width: 1.5;\" x1=\"111.5\" x2=\"152.5\" y1=\"185.9375\" y2=\"185.9375\"/></a><!--MD5=[2720a5a1f2c3fca2055b230370638851]\n",
       "link E2 to E3--><a href=\"psysml:2d349f36-3ef3-481f-a80c-9f5be02d82e3\" target=\"_top\" title=\"psysml:2d349f36-3ef3-481f-a80c-9f5be02d82e3\" xlink:actuate=\"onRequest\" xlink:href=\"psysml:2d349f36-3ef3-481f-a80c-9f5be02d82e3\" xlink:show=\"new\" xlink:title=\"psysml:2d349f36-3ef3-481f-a80c-9f5be02d82e3\" xlink:type=\"simple\"><path d=\"M188.43,171 C175.09,171 160.5,171 160.5,171 C160.5,171 160.5,234.78 160.5,234.78 \" fill=\"none\" id=\"E2-&gt;E3\" style=\"stroke: #383838; stroke-width: 1.0;\"/><polygon fill=\"#FFFFFF\" points=\"160.5,254.78,153.5,235.78,167.5,235.78,160.5,254.78\" style=\"stroke: #383838; stroke-width: 1.0;\"/><ellipse cx=\"155.5\" cy=\"230.08\" fill=\"#383838\" rx=\"2\" ry=\"2\" style=\"stroke: #383838; stroke-width: 1.0;\"/><ellipse cx=\"165.5\" cy=\"230.08\" fill=\"#383838\" rx=\"2\" ry=\"2\" style=\"stroke: #383838; stroke-width: 1.0;\"/></a><!--MD5=[4672eba38e49728da53d11aeb285b987]\n",
       "reverse link E3 to E4--><a href=\"psysml:1fc0b9c6-f917-494b-8539-e8a30a151a21\" target=\"_top\" title=\"psysml:1fc0b9c6-f917-494b-8539-e8a30a151a21\" xlink:actuate=\"onRequest\" xlink:href=\"psysml:1fc0b9c6-f917-494b-8539-e8a30a151a21\" xlink:show=\"new\" xlink:title=\"psysml:1fc0b9c6-f917-494b-8539-e8a30a151a21\" xlink:type=\"simple\"><path d=\"M83.46,278 C83.46,278 82,278 82,278 C82,278 82,388.58 82,437.82 \" fill=\"none\" id=\"E3&lt;-E4\" style=\"stroke: #383838; stroke-width: 1.0;\"/><polygon fill=\"#383838\" points=\"96.46,278,90.46,274,84.46,278,90.46,282,96.46,278\" style=\"stroke: #383838; stroke-width: 1.0;\"/><text fill=\"#000000\" font-family=\"sans-serif\" font-size=\"13\" lengthAdjust=\"spacingAndGlyphs\" textLength=\"8\" x=\"76.8188\" y=\"427.0502\">1</text></a><!--MD5=[191cde3d490a3f6d7bb551fe3ddca469]\n",
       "reverse link E3 to E5--><a href=\"psysml:1188b8bd-fcbe-4041-bfa3-3c6757b772de\" target=\"_top\" title=\"psysml:1188b8bd-fcbe-4041-bfa3-3c6757b772de\" xlink:actuate=\"onRequest\" xlink:href=\"psysml:1188b8bd-fcbe-4041-bfa3-3c6757b772de\" xlink:show=\"new\" xlink:title=\"psysml:1188b8bd-fcbe-4041-bfa3-3c6757b772de\" xlink:type=\"simple\"><path d=\"M159.25,314.22 C159.25,314.22 159.25,361.83 159.25,361.83 \" fill=\"none\" id=\"E3&lt;-E5\" style=\"stroke: #383838; stroke-width: 1.0;\"/><polygon fill=\"#FFFFFF\" points=\"159.25,301.22,155.25,307.22,159.25,313.22,163.25,307.22,159.25,301.22\" style=\"stroke: #383838; stroke-width: 1.0;\"/><text fill=\"#000000\" font-family=\"sans-serif\" font-size=\"13\" lengthAdjust=\"spacingAndGlyphs\" textLength=\"8\" x=\"146.9578\" y=\"351.0627\">1</text></a><!--MD5=[79568f1e445c3877b6a54524624ccc7d]\n",
       "link E4 to E6--><a href=\"psysml:b444802f-fd06-4322-964d-2bd41504258e\" target=\"_top\" title=\"psysml:b444802f-fd06-4322-964d-2bd41504258e\" xlink:actuate=\"onRequest\" xlink:href=\"psysml:b444802f-fd06-4322-964d-2bd41504258e\" xlink:show=\"new\" xlink:title=\"psysml:b444802f-fd06-4322-964d-2bd41504258e\" xlink:type=\"simple\"><path d=\"M67,484.22 C67,536.71 67,660 67,660 C67,660 92.24,660 92.24,660 \" fill=\"none\" id=\"E4-&gt;E6\" style=\"stroke: #383838; stroke-width: 1.0;\"/><polygon fill=\"#FFFFFF\" points=\"112.24,660,93.24,667,93.24,653,112.24,660\" style=\"stroke: #383838; stroke-width: 1.0;\"/><ellipse cx=\"87.54\" cy=\"665\" fill=\"#383838\" rx=\"2\" ry=\"2\" style=\"stroke: #383838; stroke-width: 1.0;\"/><ellipse cx=\"87.54\" cy=\"655\" fill=\"#383838\" rx=\"2\" ry=\"2\" style=\"stroke: #383838; stroke-width: 1.0;\"/></a><!--MD5=[3f50a3473f1dfb74d3f76443e03635af]\n",
       "reverse link E6 to E7--><a href=\"psysml:fe8fc95e-22bb-46d1-b0fd-61d73c45474f\" target=\"_top\" title=\"psysml:fe8fc95e-22bb-46d1-b0fd-61d73c45474f\" xlink:actuate=\"onRequest\" xlink:href=\"psysml:fe8fc95e-22bb-46d1-b0fd-61d73c45474f\" xlink:show=\"new\" xlink:title=\"psysml:fe8fc95e-22bb-46d1-b0fd-61d73c45474f\" xlink:type=\"simple\"><path d=\"M171.25,696.22 C171.25,696.22 171.25,743.83 171.25,743.83 \" fill=\"none\" id=\"E6&lt;-E7\" style=\"stroke: #383838; stroke-width: 1.0;\"/><polygon fill=\"#383838\" points=\"171.25,683.22,167.25,689.22,171.25,695.22,175.25,689.22,171.25,683.22\" style=\"stroke: #383838; stroke-width: 1.0;\"/><text fill=\"#000000\" font-family=\"sans-serif\" font-size=\"13\" lengthAdjust=\"spacingAndGlyphs\" textLength=\"8\" x=\"159.9828\" y=\"733.0627\">1</text></a><!--MD5=[14ccda38c055a5c0da953d572bc50960]\n",
       "link E7 to E3--><a href=\"psysml:599ea15b-bb0f-4f03-a502-f2e1a3a71e91\" target=\"_top\" title=\"psysml:599ea15b-bb0f-4f03-a502-f2e1a3a71e91\" xlink:actuate=\"onRequest\" xlink:href=\"psysml:599ea15b-bb0f-4f03-a502-f2e1a3a71e91\" xlink:show=\"new\" xlink:title=\"psysml:599ea15b-bb0f-4f03-a502-f2e1a3a71e91\" xlink:type=\"simple\"><path d=\"M197,743.74 C197,646.56 197,278 197,278 C197,278 187.54,278 187.54,278 \" fill=\"none\" id=\"E7-&gt;E3\" style=\"stroke: #383838; stroke-width: 1.0;\"/><polygon fill=\"#FFFFFF\" points=\"167.54,278,186.54,271,186.54,285,167.54,278\" style=\"stroke: #383838; stroke-width: 1.0;\"/><ellipse cx=\"192.24\" cy=\"273\" fill=\"#383838\" rx=\"2\" ry=\"2\" style=\"stroke: #383838; stroke-width: 1.0;\"/><ellipse cx=\"192.24\" cy=\"283\" fill=\"#383838\" rx=\"2\" ry=\"2\" style=\"stroke: #383838; stroke-width: 1.0;\"/></a><!--MD5=[dfaffb906826c3e5aca635516100ff21]\n",
       "link E5 to E8--><a href=\"psysml:ebb03462-10dd-4a39-86ac-c1648f226bb6\" target=\"_top\" title=\"psysml:ebb03462-10dd-4a39-86ac-c1648f226bb6\" xlink:actuate=\"onRequest\" xlink:href=\"psysml:ebb03462-10dd-4a39-86ac-c1648f226bb6\" xlink:show=\"new\" xlink:title=\"psysml:ebb03462-10dd-4a39-86ac-c1648f226bb6\" xlink:type=\"simple\"><path d=\"M167,408.09 C167,408.09 167,493.7 167,493.7 \" fill=\"none\" id=\"E5-&gt;E8\" style=\"stroke: #383838; stroke-width: 1.0;\"/><polygon fill=\"#FFFFFF\" points=\"167,513.7,160,494.7,174,494.7,167,513.7\" style=\"stroke: #383838; stroke-width: 1.0;\"/><ellipse cx=\"162\" cy=\"489\" fill=\"#383838\" rx=\"2\" ry=\"2\" style=\"stroke: #383838; stroke-width: 1.0;\"/><ellipse cx=\"172\" cy=\"489\" fill=\"#383838\" rx=\"2\" ry=\"2\" style=\"stroke: #383838; stroke-width: 1.0;\"/></a><!--MD5=[03c8294790d3c57651a1993cecff665f]\n",
       "reverse link E8 to E3--><a href=\"psysml:4ca20137-091c-4af4-8b05-aa2379f8c92e\" target=\"_top\" title=\"psysml:4ca20137-091c-4af4-8b05-aa2379f8c92e\" xlink:actuate=\"onRequest\" xlink:href=\"psysml:4ca20137-091c-4af4-8b05-aa2379f8c92e\" xlink:show=\"new\" xlink:title=\"psysml:4ca20137-091c-4af4-8b05-aa2379f8c92e\" xlink:type=\"simple\"><path d=\"M132,500.56 C132,500.56 132,301.2 132,301.2 \" fill=\"none\" id=\"E8&lt;-E3\" style=\"stroke: #383838; stroke-width: 1.0;\"/><polygon fill=\"#FFFFFF\" points=\"132,513.56,136,507.56,132,501.56,128,507.56,132,513.56\" style=\"stroke: #383838; stroke-width: 1.0;\"/><text fill=\"#000000\" font-family=\"sans-serif\" font-size=\"13\" lengthAdjust=\"spacingAndGlyphs\" textLength=\"7\" x=\"108\" y=\"389.5669\">y</text></a><!--MD5=[0d75d2178373a6a4568e5dc728f58aef]\n",
       "reverse link E8 to E6--><a href=\"psysml:4ca20137-091c-4af4-8b05-aa2379f8c92e\" target=\"_top\" title=\"psysml:4ca20137-091c-4af4-8b05-aa2379f8c92e\" xlink:actuate=\"onRequest\" xlink:href=\"psysml:4ca20137-091c-4af4-8b05-aa2379f8c92e\" xlink:show=\"new\" xlink:title=\"psysml:4ca20137-091c-4af4-8b05-aa2379f8c92e\" xlink:type=\"simple\"><path d=\"M148,573.14 C148,573.14 148,636.97 148,636.97 \" fill=\"none\" id=\"E8&lt;-E6\" style=\"stroke: #383838; stroke-width: 1.0;\"/><polygon fill=\"#FFFFFF\" points=\"148,560.14,144,566.14,148,572.14,152,566.14,148,560.14\" style=\"stroke: #383838; stroke-width: 1.0;\"/><text fill=\"#000000\" font-family=\"sans-serif\" font-size=\"13\" lengthAdjust=\"spacingAndGlyphs\" textLength=\"7\" x=\"149\" y=\"603.0669\">y</text></a><!--MD5=[23ac544a70576c3e717098101004234c]\n",
       "reverse link E9 to E10--><a href=\"psysml:bbec5841-3ffd-488b-b643-01adfe752a25\" target=\"_top\" title=\"psysml:bbec5841-3ffd-488b-b643-01adfe752a25\" xlink:actuate=\"onRequest\" xlink:href=\"psysml:bbec5841-3ffd-488b-b643-01adfe752a25\" xlink:show=\"new\" xlink:title=\"psysml:bbec5841-3ffd-488b-b643-01adfe752a25\" xlink:type=\"simple\"><path d=\"M69.75,100.22 C69.75,100.22 69.75,147.83 69.75,147.83 \" fill=\"none\" id=\"E9&lt;-E10\" style=\"stroke: #383838; stroke-width: 1.0;\"/><polygon fill=\"#FFFFFF\" points=\"69.75,87.22,65.75,93.22,69.75,99.22,73.75,93.22,69.75,87.22\" style=\"stroke: #383838; stroke-width: 1.0;\"/><text fill=\"#000000\" font-family=\"sans-serif\" font-size=\"13\" lengthAdjust=\"spacingAndGlyphs\" textLength=\"8\" x=\"64.7609\" y=\"137.0627\">1</text></a><!--MD5=[feeac5eb423634930294aa81f2d25a4c]\n",
       "link E10 to E3--><a href=\"psysml:fb12afbf-9138-40ff-bf3b-75b81b096774\" target=\"_top\" title=\"psysml:fb12afbf-9138-40ff-bf3b-75b81b096774\" xlink:actuate=\"onRequest\" xlink:href=\"psysml:fb12afbf-9138-40ff-bf3b-75b81b096774\" xlink:show=\"new\" xlink:title=\"psysml:fb12afbf-9138-40ff-bf3b-75b81b096774\" xlink:type=\"simple\"><path d=\"M75.57,171 C88.91,171 103.5,171 103.5,171 C103.5,171 103.5,234.78 103.5,234.78 \" fill=\"none\" id=\"E10-&gt;E3\" style=\"stroke: #383838; stroke-width: 1.0;\"/><polygon fill=\"#FFFFFF\" points=\"103.5,254.78,96.5,235.78,110.5,235.78,103.5,254.78\" style=\"stroke: #383838; stroke-width: 1.0;\"/><ellipse cx=\"98.5\" cy=\"230.08\" fill=\"#383838\" rx=\"2\" ry=\"2\" style=\"stroke: #383838; stroke-width: 1.0;\"/><ellipse cx=\"108.5\" cy=\"230.08\" fill=\"#383838\" rx=\"2\" ry=\"2\" style=\"stroke: #383838; stroke-width: 1.0;\"/></a><!--MD5=[1fc04a95fd77ad5ce46c1a3027516051]\n",
       "reverse link E9 to E11--><a href=\"psysml:20edee2c-da5c-4ff9-9cec-febcc5f58071\" target=\"_top\" title=\"psysml:20edee2c-da5c-4ff9-9cec-febcc5f58071\" xlink:actuate=\"onRequest\" xlink:href=\"psysml:20edee2c-da5c-4ff9-9cec-febcc5f58071\" xlink:show=\"new\" xlink:title=\"psysml:20edee2c-da5c-4ff9-9cec-febcc5f58071\" xlink:type=\"simple\"><path d=\"M122.25,100.22 C122.25,100.22 122.25,147.83 122.25,147.83 \" fill=\"none\" id=\"E9&lt;-E11\" style=\"stroke: #383838; stroke-width: 1.0;\"/><polygon fill=\"#FFFFFF\" points=\"122.25,87.22,118.25,93.22,122.25,99.22,126.25,93.22,122.25,87.22\" style=\"stroke: #383838; stroke-width: 1.0;\"/><text fill=\"#000000\" font-family=\"sans-serif\" font-size=\"13\" lengthAdjust=\"spacingAndGlyphs\" textLength=\"8\" x=\"110.7266\" y=\"137.0627\">1</text></a><!--MD5=[0517f1ce58c4d5483948f93845c45e26]\n",
       "link E11 to E3--><a href=\"psysml:6098403c-f8e4-4c64-8bc6-7f6e4aceb826\" target=\"_top\" title=\"psysml:6098403c-f8e4-4c64-8bc6-7f6e4aceb826\" xlink:actuate=\"onRequest\" xlink:href=\"psysml:6098403c-f8e4-4c64-8bc6-7f6e4aceb826\" xlink:show=\"new\" xlink:title=\"psysml:6098403c-f8e4-4c64-8bc6-7f6e4aceb826\" xlink:type=\"simple\"><path d=\"M132,194.22 C132,194.22 132,234.83 132,234.83 \" fill=\"none\" id=\"E11-&gt;E3\" style=\"stroke: #383838; stroke-width: 1.0;\"/><polygon fill=\"#FFFFFF\" points=\"132,254.83,125,235.83,139,235.83,132,254.83\" style=\"stroke: #383838; stroke-width: 1.0;\"/><ellipse cx=\"127\" cy=\"230.13\" fill=\"#383838\" rx=\"2\" ry=\"2\" style=\"stroke: #383838; stroke-width: 1.0;\"/><ellipse cx=\"137\" cy=\"230.13\" fill=\"#383838\" rx=\"2\" ry=\"2\" style=\"stroke: #383838; stroke-width: 1.0;\"/></a><!--MD5=[aadfbd2a7dcc788247c8207eae707a84]\n",
       "@startuml\r\n",
       "skinparam linetype ortho\r\n",
       "skinparam monochrome true\r\n",
       "skinparam classbackgroundcolor white\r\n",
       "skinparam shadowing false\r\n",
       "skinparam wrapWidth 300\r\n",
       "hide circle\r\n",
       "\r\n",
       "package \"ItemTest\" as E1  [[psysml:05177c11-5394-41b2-a0a0-71a4c06ed611 ]]  {\r\n",
       "comp usage \"f: A \" as E2  <<(T,blue) item>> [[psysml:9b37ce48-aa06-4adb-ba3b-3b1410731947 ]] {\r\n",
       "}\r\n",
       "comp def \"A\" as E3  <<(T,blue) item  def>> [[psysml:373f36dd-9125-4f4d-9beb-8d6cd21e1469 ]] {\r\n",
       "}\r\n",
       "comp usage \"b: B \" as E4  <<(T,blue) item>> [[psysml:130e11a2-3d5f-4cd9-b0cd-9225a7528360 ]] {\r\n",
       "}\r\n",
       "comp usage \"c: C \" as E5  <<(T,blue) part>> [[psysml:80ae9a50-ac1f-4423-b935-68d8f5716f01 ]] {\r\n",
       "}\r\n",
       "comp def \"<i>B</i>\" as E6  <<(T,blue) item  def>> [[psysml:7d838d86-0408-4401-9cbf-32b733f3993a ]] {\r\n",
       "}\r\n",
       "comp usage \"<i>a</i>: A \" as E7  <<(T,blue) part>> [[psysml:d06b8fcb-8cda-493c-875d-bdf01ed715df ]] {\r\n",
       "}\r\n",
       "comp def \"C\" as E8  <<(T,blue) part  def>> [[psysml:a2efb8df-7581-49ed-b24f-8030c12b0405 ]] {\r\n",
       "}\r\n",
       "comp def \"P\" as E9  <<(T,blue) port  def>> [[psysml:91f3ce36-c57b-44eb-a625-32b1f3011842 ]] {\r\n",
       "}\r\n",
       "comp usage \"a1: A \" as E10  <<(T,blue) item>> [[psysml:5a8db81a-c733-4c6f-be90-4f9ffe214caa ]] {\r\n",
       "}\r\n",
       "comp usage \"a2: A \" as E11  <<(T,blue) item>> [[psysml:50797105-d3dc-4af6-be0e-986a23cb6cc7 ]] {\r\n",
       "}\r\n",
       "}\r\n",
       "E2 - -:|> E3 [[psysml:2d349f36-3ef3-481f-a80c-9f5be02d82e3 ]] \r\n",
       "E3 *- - \"1\"E4 [[psysml:1fc0b9c6-f917-494b-8539-e8a30a151a21 ]] \r\n",
       "E3 o- - \"1\"E5 [[psysml:1188b8bd-fcbe-4041-bfa3-3c6757b772de ]] \r\n",
       "E4 - -:|> E6 [[psysml:b444802f-fd06-4322-964d-2bd41504258e ]] \r\n",
       "E6 *- - \"1\"E7 [[psysml:fe8fc95e-22bb-46d1-b0fd-61d73c45474f ]] \r\n",
       "E7 - -:|> E3 [[psysml:599ea15b-bb0f-4f03-a502-f2e1a3a71e91 ]] \r\n",
       "E5 - -:|> E8 [[psysml:ebb03462-10dd-4a39-86ac-c1648f226bb6 ]] \r\n",
       "E8 o- - E3 [[psysml:4ca20137-091c-4af4-8b05-aa2379f8c92e ]] : y\r\n",
       "E8 o- - E6 [[psysml:4ca20137-091c-4af4-8b05-aa2379f8c92e ]] : y\r\n",
       "E9 o- - \"1\"E10 [[psysml:bbec5841-3ffd-488b-b643-01adfe752a25 ]] \r\n",
       "E10 - -:|> E3 [[psysml:fb12afbf-9138-40ff-bf3b-75b81b096774 ]] \r\n",
       "E9 o- - \"1\"E11 [[psysml:20edee2c-da5c-4ff9-9cec-febcc5f58071 ]] \r\n",
       "E11 - -:|> E3 [[psysml:6098403c-f8e4-4c64-8bc6-7f6e4aceb826 ]] \r\n",
       "@enduml\r\n",
       "\n",
       "PlantUML version 1.2020.13(Sat Jun 13 12:26:38 UTC 2020)\n",
       "(EPL source distribution)\n",
       "Java Runtime: OpenJDK Runtime Environment\n",
       "JVM: OpenJDK 64-Bit Server VM\n",
       "Default Encoding: UTF-8\n",
       "Language: en\n",
       "Country: null\n",
       "--></g></svg>"
      ]
     },
     "execution_count": 57,
     "metadata": {},
     "output_type": "execute_result"
    }
   ],
   "source": [
    "%viz --style=\"ORTHOLINE\" --view=\"MIXED\" \"ItemTest\""
   ]
  }
 ],
 "metadata": {
  "kernelspec": {
   "display_name": "SysML",
   "language": "sysml",
   "name": "sysml"
  },
  "language_info": {
   "codemirror_mode": "sysml",
   "file_extension": ".sysml",
   "mimetype": "text/x-sysml",
   "name": "SysML",
   "pygments_lexer": "java",
   "version": "1.0.0"
  }
 },
 "nbformat": 4,
 "nbformat_minor": 5
}
