{
 "cells": [
  {
   "cell_type": "markdown",
   "id": "ed4ccad5",
   "metadata": {},
   "source": [
    "# SysML v2 Test Suite\n",
    "\n",
    "This can notebook can be cleared using menu `Edit --> Clear All Outputs` and then all cells can be\n",
    "run using menu `Run --> Run All Cells`.\n",
    "\n",
    "**WARNING**: This file is generated, all modifications here will be ignored.\n"
   ]
  },
  {
   "cell_type": "markdown",
   "id": "91b81129",
   "metadata": {},
   "source": [
    "## File: ../../sysml/src/examples/Simple Tests/ItemTest.sysml"
   ]
  },
  {
   "cell_type": "code",
   "execution_count": 1,
   "id": "bf6c88fe",
   "metadata": {
    "execution": {
     "iopub.execute_input": "2021-10-25T08:20:51.689707Z",
     "iopub.status.busy": "2021-10-25T08:20:51.688373Z",
     "iopub.status.idle": "2021-10-25T08:20:51.890667Z",
     "shell.execute_reply": "2021-10-25T08:20:51.890378Z"
    }
   },
   "outputs": [
    {
     "data": {
      "text/plain": [
       "Package ItemTest (d76bbc70-3704-4d9a-8000-917a0559df4a)\n"
      ]
     },
     "execution_count": 1,
     "metadata": {},
     "output_type": "execute_result"
    }
   ],
   "source": [
    "package ItemTest {\n",
    "\t\n",
    "\titem f: A;\n",
    "\n",
    "\tpublic item def A {\n",
    "\t\titem b: B;\n",
    "\t\tprotected ref part c: C;\n",
    "\t}\n",
    "\t\n",
    "\tabstract item def B {\n",
    "\t\tpublic abstract part a: A;\n",
    "\t}\n",
    "\t\n",
    "\tprivate part def C {\n",
    "\t\tprivate in ref y: A, B;\n",
    "\t}\n",
    "\t\n",
    "\tport def P {\n",
    "\t\tin item a1: A;\n",
    "\t\tout item a2: A;\n",
    "\t}\n",
    "\t\n",
    "}"
   ]
  },
  {
   "cell_type": "code",
   "execution_count": 2,
   "id": "25dbdd8c",
   "metadata": {
    "execution": {
     "iopub.execute_input": "2021-10-25T08:20:51.941787Z",
     "iopub.status.busy": "2021-10-25T08:20:51.941397Z",
     "iopub.status.idle": "2021-10-25T08:20:52.448104Z",
     "shell.execute_reply": "2021-10-25T08:20:52.446863Z"
    }
   },
   "outputs": [
    {
     "data": {
      "image/svg+xml": [
       "<?xml version=\"1.0\" encoding=\"UTF-8\" standalone=\"no\"?><svg xmlns=\"http://www.w3.org/2000/svg\" xmlns:xlink=\"http://www.w3.org/1999/xlink\" contentScriptType=\"application/ecmascript\" contentStyleType=\"text/css\" height=\"848px\" preserveAspectRatio=\"none\" style=\"width:344px;height:848px;\" version=\"1.1\" viewBox=\"0 0 344 848\" width=\"344px\" zoomAndPan=\"magnify\"><defs/><g><!--MD5=[fbc87193dbaf4d95561dea2c320d4a47]\n",
       "cluster E1--><a href=\"psysml:9c84b130-4496-45dd-acf0-f614adf4451b\" target=\"_top\" title=\"psysml:9c84b130-4496-45dd-acf0-f614adf4451b\" xlink:actuate=\"onRequest\" xlink:href=\"psysml:9c84b130-4496-45dd-acf0-f614adf4451b\" xlink:show=\"new\" xlink:title=\"psysml:9c84b130-4496-45dd-acf0-f614adf4451b\" xlink:type=\"simple\"><polygon fill=\"#FFFFFF\" points=\"16,6,83,6,90,28.2969,322,28.2969,322,836,16,836,16,6\" style=\"stroke: #000000; stroke-width: 1.5;\"/><line style=\"stroke: #000000; stroke-width: 1.5;\" x1=\"16\" x2=\"90\" y1=\"28.2969\" y2=\"28.2969\"/><text fill=\"#000000\" font-family=\"sans-serif\" font-size=\"14\" font-weight=\"bold\" lengthAdjust=\"spacingAndGlyphs\" textLength=\"61\" x=\"20\" y=\"20.9951\">ItemTest</text></a><!--MD5=[b4997ac47864f28c2f74865a473b2911]\n",
       "class E2--><a href=\"psysml:046ce2e8-70d6-418b-9e34-4058f6a1e698\" target=\"_top\" title=\"psysml:046ce2e8-70d6-418b-9e34-4058f6a1e698\" xlink:actuate=\"onRequest\" xlink:href=\"psysml:046ce2e8-70d6-418b-9e34-4058f6a1e698\" xlink:show=\"new\" xlink:title=\"psysml:046ce2e8-70d6-418b-9e34-4058f6a1e698\" xlink:type=\"simple\"><rect fill=\"#FFFFFF\" height=\"45.9375\" id=\"E2\" rx=\"10\" ry=\"10\" style=\"stroke: #383838; stroke-width: 1.5;\" width=\"43\" x=\"239.5\" y=\"148\"/><text fill=\"#000000\" font-family=\"sans-serif\" font-size=\"12\" font-style=\"italic\" lengthAdjust=\"spacingAndGlyphs\" textLength=\"41\" x=\"240.5\" y=\"164.1387\">«item»</text><text fill=\"#000000\" font-family=\"sans-serif\" font-size=\"12\" lengthAdjust=\"spacingAndGlyphs\" textLength=\"20\" x=\"249\" y=\"178.1074\">f: A</text><line style=\"stroke: #383838; stroke-width: 1.5;\" x1=\"240.5\" x2=\"281.5\" y1=\"185.9375\" y2=\"185.9375\"/></a><!--MD5=[09b614a08d8cba4a07c9adeb5e0fee81]\n",
       "class E3--><a href=\"psysml:b761bda6-ef45-4173-adbe-8f17f5dd59b9\" target=\"_top\" title=\"psysml:b761bda6-ef45-4173-adbe-8f17f5dd59b9\" xlink:actuate=\"onRequest\" xlink:href=\"psysml:b761bda6-ef45-4173-adbe-8f17f5dd59b9\" xlink:show=\"new\" xlink:title=\"psysml:b761bda6-ef45-4173-adbe-8f17f5dd59b9\" xlink:type=\"simple\"><rect fill=\"#FFFFFF\" height=\"45.9375\" id=\"E3\" style=\"stroke: #383838; stroke-width: 1.5;\" width=\"71\" x=\"147.5\" y=\"255\"/><text fill=\"#000000\" font-family=\"sans-serif\" font-size=\"12\" font-style=\"italic\" lengthAdjust=\"spacingAndGlyphs\" textLength=\"69\" x=\"148.5\" y=\"271.1387\">«item  def»</text><text fill=\"#000000\" font-family=\"sans-serif\" font-size=\"12\" lengthAdjust=\"spacingAndGlyphs\" textLength=\"8\" x=\"179\" y=\"285.1074\">A</text><line style=\"stroke: #383838; stroke-width: 1.5;\" x1=\"148.5\" x2=\"217.5\" y1=\"292.9375\" y2=\"292.9375\"/></a><!--MD5=[ebbe1d658d1005bcc118a6aa81145e00]\n",
       "class E4--><a href=\"psysml:5a9b7c1e-d921-40a5-84d4-dcafad1b8599\" target=\"_top\" title=\"psysml:5a9b7c1e-d921-40a5-84d4-dcafad1b8599\" xlink:actuate=\"onRequest\" xlink:href=\"psysml:5a9b7c1e-d921-40a5-84d4-dcafad1b8599\" xlink:show=\"new\" xlink:title=\"psysml:5a9b7c1e-d921-40a5-84d4-dcafad1b8599\" xlink:type=\"simple\"><rect fill=\"#FFFFFF\" height=\"45.9375\" id=\"E4\" rx=\"10\" ry=\"10\" style=\"stroke: #383838; stroke-width: 1.5;\" width=\"43\" x=\"255.5\" y=\"438\"/><text fill=\"#000000\" font-family=\"sans-serif\" font-size=\"12\" font-style=\"italic\" lengthAdjust=\"spacingAndGlyphs\" textLength=\"41\" x=\"256.5\" y=\"454.1387\">«item»</text><text fill=\"#000000\" font-family=\"sans-serif\" font-size=\"12\" lengthAdjust=\"spacingAndGlyphs\" textLength=\"24\" x=\"263\" y=\"468.1074\">b: B</text><line style=\"stroke: #383838; stroke-width: 1.5;\" x1=\"256.5\" x2=\"297.5\" y1=\"475.9375\" y2=\"475.9375\"/></a><!--MD5=[270fce915f116d4de14055a7c1d9a0f3]\n",
       "class E5--><a href=\"psysml:c52e7c62-32ae-43e1-a51e-2d7f86512260\" target=\"_top\" title=\"psysml:c52e7c62-32ae-43e1-a51e-2d7f86512260\" xlink:actuate=\"onRequest\" xlink:href=\"psysml:c52e7c62-32ae-43e1-a51e-2d7f86512260\" xlink:show=\"new\" xlink:title=\"psysml:c52e7c62-32ae-43e1-a51e-2d7f86512260\" xlink:type=\"simple\"><rect fill=\"#FFFFFF\" height=\"45.9375\" id=\"E5\" rx=\"10\" ry=\"10\" style=\"stroke: #383838; stroke-width: 1.5;\" width=\"42\" x=\"227\" y=\"362\"/><text fill=\"#000000\" font-family=\"sans-serif\" font-size=\"12\" font-style=\"italic\" lengthAdjust=\"spacingAndGlyphs\" textLength=\"40\" x=\"228\" y=\"378.1387\">«part»</text><text fill=\"#000000\" font-family=\"sans-serif\" font-size=\"12\" lengthAdjust=\"spacingAndGlyphs\" textLength=\"23\" x=\"234.5\" y=\"392.1074\">c: C</text><line style=\"stroke: #383838; stroke-width: 1.5;\" x1=\"228\" x2=\"268\" y1=\"399.9375\" y2=\"399.9375\"/></a><!--MD5=[60a26617385b1d2d0262a64233df1f8d]\n",
       "class E6--><a href=\"psysml:154f7142-f3c2-4f8f-a55c-1d31f59952e7\" target=\"_top\" title=\"psysml:154f7142-f3c2-4f8f-a55c-1d31f59952e7\" xlink:actuate=\"onRequest\" xlink:href=\"psysml:154f7142-f3c2-4f8f-a55c-1d31f59952e7\" xlink:show=\"new\" xlink:title=\"psysml:154f7142-f3c2-4f8f-a55c-1d31f59952e7\" xlink:type=\"simple\"><rect fill=\"#FFFFFF\" height=\"45.9375\" id=\"E6\" style=\"stroke: #383838; stroke-width: 1.5;\" width=\"71\" x=\"146.5\" y=\"667\"/><text fill=\"#000000\" font-family=\"sans-serif\" font-size=\"12\" font-style=\"italic\" lengthAdjust=\"spacingAndGlyphs\" textLength=\"69\" x=\"147.5\" y=\"683.1387\">«item  def»</text><text fill=\"#000000\" font-family=\"sans-serif\" font-size=\"12\" font-style=\"italic\" lengthAdjust=\"spacingAndGlyphs\" textLength=\"8\" x=\"178\" y=\"697.1074\">B</text><line style=\"stroke: #383838; stroke-width: 1.5;\" x1=\"147.5\" x2=\"216.5\" y1=\"704.9375\" y2=\"704.9375\"/></a><!--MD5=[2156ba9850f5573cc1fc38a6a4b2f02b]\n",
       "class E7--><a href=\"psysml:3092a58e-bc17-492e-b3ac-d9b0c5d27ee1\" target=\"_top\" title=\"psysml:3092a58e-bc17-492e-b3ac-d9b0c5d27ee1\" xlink:actuate=\"onRequest\" xlink:href=\"psysml:3092a58e-bc17-492e-b3ac-d9b0c5d27ee1\" xlink:show=\"new\" xlink:title=\"psysml:3092a58e-bc17-492e-b3ac-d9b0c5d27ee1\" xlink:type=\"simple\"><rect fill=\"#FFFFFF\" height=\"45.9375\" id=\"E7\" rx=\"10\" ry=\"10\" style=\"stroke: #383838; stroke-width: 1.5;\" width=\"42\" x=\"96\" y=\"774\"/><text fill=\"#000000\" font-family=\"sans-serif\" font-size=\"12\" font-style=\"italic\" lengthAdjust=\"spacingAndGlyphs\" textLength=\"40\" x=\"97\" y=\"790.1387\">«part»</text><text fill=\"#000000\" font-family=\"sans-serif\" font-size=\"12\" font-style=\"italic\" lengthAdjust=\"spacingAndGlyphs\" textLength=\"8\" x=\"103\" y=\"804.1074\">a</text><text fill=\"#000000\" font-family=\"sans-serif\" font-size=\"12\" lengthAdjust=\"spacingAndGlyphs\" textLength=\"16\" x=\"111\" y=\"804.1074\">: A</text><line style=\"stroke: #383838; stroke-width: 1.5;\" x1=\"97\" x2=\"137\" y1=\"811.9375\" y2=\"811.9375\"/></a><!--MD5=[b9389687b975829384b498ac4b7476b2]\n",
       "class E8--><a href=\"psysml:a977dc12-1522-4e17-86ea-88834b4a9262\" target=\"_top\" title=\"psysml:a977dc12-1522-4e17-86ea-88834b4a9262\" xlink:actuate=\"onRequest\" xlink:href=\"psysml:a977dc12-1522-4e17-86ea-88834b4a9262\" xlink:show=\"new\" xlink:title=\"psysml:a977dc12-1522-4e17-86ea-88834b4a9262\" xlink:type=\"simple\"><rect fill=\"#FFFFFF\" height=\"75.5469\" id=\"E8\" style=\"stroke: #383838; stroke-width: 1.5;\" width=\"75\" x=\"145.5\" y=\"514\"/><text fill=\"#000000\" font-family=\"sans-serif\" font-size=\"12\" font-style=\"italic\" lengthAdjust=\"spacingAndGlyphs\" textLength=\"68\" x=\"149\" y=\"530.1387\">«part  def»</text><text fill=\"#000000\" font-family=\"sans-serif\" font-size=\"12\" lengthAdjust=\"spacingAndGlyphs\" textLength=\"8\" x=\"179\" y=\"544.1074\">C</text><line style=\"stroke: #383838; stroke-width: 1.5;\" x1=\"146.5\" x2=\"219.5\" y1=\"551.9375\" y2=\"551.9375\"/><text fill=\"#000000\" font-family=\"sans-serif\" font-size=\"11\" font-weight=\"bold\" lengthAdjust=\"spacingAndGlyphs\" textLength=\"10\" x=\"151.5\" y=\"582.9526\">in</text><text fill=\"#000000\" font-family=\"sans-serif\" font-size=\"11\" lengthAdjust=\"spacingAndGlyphs\" textLength=\"37\" x=\"165.5\" y=\"582.9526\">y: A, B</text><line style=\"stroke: #383838; stroke-width: 1.0;\" x1=\"146.5\" x2=\"149.5\" y1=\"566.3398\" y2=\"566.3398\"/><text fill=\"#000000\" font-family=\"sans-serif\" font-size=\"11\" lengthAdjust=\"spacingAndGlyphs\" textLength=\"67\" x=\"149.5\" y=\"569.6479\">parameters</text><line style=\"stroke: #383838; stroke-width: 1.0;\" x1=\"216.5\" x2=\"219.5\" y1=\"566.3398\" y2=\"566.3398\"/></a><!--MD5=[fd4143e9d270a159db93a4ea2a975926]\n",
       "class E9--><a href=\"psysml:505a0904-767f-4431-bdaf-f395e9a256c5\" target=\"_top\" title=\"psysml:505a0904-767f-4431-bdaf-f395e9a256c5\" xlink:actuate=\"onRequest\" xlink:href=\"psysml:505a0904-767f-4431-bdaf-f395e9a256c5\" xlink:show=\"new\" xlink:title=\"psysml:505a0904-767f-4431-bdaf-f395e9a256c5\" xlink:type=\"simple\"><rect fill=\"#FFFFFF\" height=\"45.9375\" id=\"E9\" style=\"stroke: #383838; stroke-width: 1.5;\" width=\"70\" x=\"109\" y=\"41\"/><text fill=\"#000000\" font-family=\"sans-serif\" font-size=\"12\" font-style=\"italic\" lengthAdjust=\"spacingAndGlyphs\" textLength=\"68\" x=\"110\" y=\"57.1387\">«port  def»</text><text fill=\"#000000\" font-family=\"sans-serif\" font-size=\"12\" lengthAdjust=\"spacingAndGlyphs\" textLength=\"8\" x=\"140\" y=\"71.1074\">P</text><line style=\"stroke: #383838; stroke-width: 1.5;\" x1=\"110\" x2=\"178\" y1=\"78.9375\" y2=\"78.9375\"/></a><!--MD5=[96f4274e9e20536e775497830990834d]\n",
       "class E10--><a href=\"psysml:b48ee9ab-0a15-45ce-8465-86ae83c4be7f\" target=\"_top\" title=\"psysml:b48ee9ab-0a15-45ce-8465-86ae83c4be7f\" xlink:actuate=\"onRequest\" xlink:href=\"psysml:b48ee9ab-0a15-45ce-8465-86ae83c4be7f\" xlink:show=\"new\" xlink:title=\"psysml:b48ee9ab-0a15-45ce-8465-86ae83c4be7f\" xlink:type=\"simple\"><rect fill=\"#FFFFFF\" height=\"45.9375\" id=\"E10\" rx=\"10\" ry=\"10\" style=\"stroke: #383838; stroke-width: 1.5;\" width=\"43\" x=\"83.5\" y=\"148\"/><text fill=\"#000000\" font-family=\"sans-serif\" font-size=\"12\" font-style=\"italic\" lengthAdjust=\"spacingAndGlyphs\" textLength=\"41\" x=\"84.5\" y=\"164.1387\">«item»</text><text fill=\"#000000\" font-family=\"sans-serif\" font-size=\"12\" lengthAdjust=\"spacingAndGlyphs\" textLength=\"32\" x=\"87\" y=\"178.1074\">a1: A</text><line style=\"stroke: #383838; stroke-width: 1.5;\" x1=\"84.5\" x2=\"125.5\" y1=\"185.9375\" y2=\"185.9375\"/></a><!--MD5=[1dd1bfd58a279cf63c5f349dbc8fc6a1]\n",
       "class E11--><a href=\"psysml:7b14a527-4e8d-41df-a91b-3ca9db44b1d9\" target=\"_top\" title=\"psysml:7b14a527-4e8d-41df-a91b-3ca9db44b1d9\" xlink:actuate=\"onRequest\" xlink:href=\"psysml:7b14a527-4e8d-41df-a91b-3ca9db44b1d9\" xlink:show=\"new\" xlink:title=\"psysml:7b14a527-4e8d-41df-a91b-3ca9db44b1d9\" xlink:type=\"simple\"><rect fill=\"#FFFFFF\" height=\"45.9375\" id=\"E11\" rx=\"10\" ry=\"10\" style=\"stroke: #383838; stroke-width: 1.5;\" width=\"43\" x=\"161.5\" y=\"148\"/><text fill=\"#000000\" font-family=\"sans-serif\" font-size=\"12\" font-style=\"italic\" lengthAdjust=\"spacingAndGlyphs\" textLength=\"41\" x=\"162.5\" y=\"164.1387\">«item»</text><text fill=\"#000000\" font-family=\"sans-serif\" font-size=\"12\" lengthAdjust=\"spacingAndGlyphs\" textLength=\"32\" x=\"165\" y=\"178.1074\">a2: A</text><line style=\"stroke: #383838; stroke-width: 1.5;\" x1=\"162.5\" x2=\"203.5\" y1=\"185.9375\" y2=\"185.9375\"/></a><!--MD5=[2720a5a1f2c3fca2055b230370638851]\n",
       "link E2 to E3--><a href=\"psysml:2913aa14-34e4-4ebc-b3c0-73cbbe37a712\" target=\"_top\" title=\"psysml:2913aa14-34e4-4ebc-b3c0-73cbbe37a712\" xlink:actuate=\"onRequest\" xlink:href=\"psysml:2913aa14-34e4-4ebc-b3c0-73cbbe37a712\" xlink:show=\"new\" xlink:title=\"psysml:2913aa14-34e4-4ebc-b3c0-73cbbe37a712\" xlink:type=\"simple\"><path d=\"M244.65,194.01 C235.14,206.81 222.89,223.3 211.82,238.2 \" fill=\"none\" id=\"E2-&gt;E3\" style=\"stroke: #383838; stroke-width: 1.0;\"/><polygon fill=\"#FFFFFF\" points=\"199.6,254.66,205.3195,235.2361,216.5543,243.5896,199.6,254.66\" style=\"stroke: #383838; stroke-width: 1.0;\"/><ellipse cx=\"210.3256\" cy=\"231.8554\" fill=\"#383838\" rx=\"2\" ry=\"2\" style=\"stroke: #383838; stroke-width: 1.0;\"/><ellipse cx=\"218.3504\" cy=\"237.8221\" fill=\"#383838\" rx=\"2\" ry=\"2\" style=\"stroke: #383838; stroke-width: 1.0;\"/></a><!--MD5=[4672eba38e49728da53d11aeb285b987]\n",
       "reverse link E3 to E4--><a href=\"psysml:5a70b25d-3e65-48fe-9200-ece04e9de0ee\" target=\"_top\" title=\"psysml:5a70b25d-3e65-48fe-9200-ece04e9de0ee\" xlink:actuate=\"onRequest\" xlink:href=\"psysml:5a70b25d-3e65-48fe-9200-ece04e9de0ee\" xlink:show=\"new\" xlink:title=\"psysml:5a70b25d-3e65-48fe-9200-ece04e9de0ee\" xlink:type=\"simple\"><path d=\"M229.65,303.21 C251.35,317.2 274.97,337.01 287,362 C298.57,386.04 292.33,417.17 285.68,437.83 \" fill=\"none\" id=\"E3&lt;-E4\" style=\"stroke: #383838; stroke-width: 1.0;\"/><polygon fill=\"#383838\" points=\"218.55,296.43,221.5791,302.974,228.7848,302.6949,225.7557,296.1508,218.55,296.43\" style=\"stroke: #383838; stroke-width: 1.0;\"/><text fill=\"#000000\" font-family=\"sans-serif\" font-size=\"13\" lengthAdjust=\"spacingAndGlyphs\" textLength=\"8\" x=\"278.8793\" y=\"427.0627\">1</text></a><!--MD5=[191cde3d490a3f6d7bb551fe3ddca469]\n",
       "reverse link E3 to E5--><a href=\"psysml:98aba136-2768-4c7e-bc34-95a5a6a911cd\" target=\"_top\" title=\"psysml:98aba136-2768-4c7e-bc34-95a5a6a911cd\" xlink:actuate=\"onRequest\" xlink:href=\"psysml:98aba136-2768-4c7e-bc34-95a5a6a911cd\" xlink:show=\"new\" xlink:title=\"psysml:98aba136-2768-4c7e-bc34-95a5a6a911cd\" xlink:type=\"simple\"><path d=\"M203.52,312.15 C213.51,328.29 225.26,347.26 234.17,361.66 \" fill=\"none\" id=\"E3&lt;-E5\" style=\"stroke: #383838; stroke-width: 1.0;\"/><polygon fill=\"#FFFFFF\" points=\"196.63,301.01,196.3861,308.217,202.9449,311.214,203.1888,304.007,196.63,301.01\" style=\"stroke: #383838; stroke-width: 1.0;\"/><text fill=\"#000000\" font-family=\"sans-serif\" font-size=\"13\" lengthAdjust=\"spacingAndGlyphs\" textLength=\"8\" x=\"221.6011\" y=\"350.8492\">1</text></a><!--MD5=[79568f1e445c3877b6a54524624ccc7d]\n",
       "link E4 to E6--><a href=\"psysml:04be4dec-9fb2-423c-a400-1c82afc162c3\" target=\"_top\" title=\"psysml:04be4dec-9fb2-423c-a400-1c82afc162c3\" xlink:actuate=\"onRequest\" xlink:href=\"psysml:04be4dec-9fb2-423c-a400-1c82afc162c3\" xlink:show=\"new\" xlink:title=\"psysml:04be4dec-9fb2-423c-a400-1c82afc162c3\" xlink:type=\"simple\"><path d=\"M271.8,484.26 C265.37,510.22 253.39,554.13 238,590 C229.26,610.36 217.43,631.9 206.88,649.66 \" fill=\"none\" id=\"E4-&gt;E6\" style=\"stroke: #383838; stroke-width: 1.0;\"/><polygon fill=\"#FFFFFF\" points=\"196.36,666.92,200.2791,647.0544,212.2307,654.3454,196.36,666.92\" style=\"stroke: #383838; stroke-width: 1.0;\"/><ellipse cx=\"204.955\" cy=\"643.23\" fill=\"#383838\" rx=\"2\" ry=\"2\" style=\"stroke: #383838; stroke-width: 1.0;\"/><ellipse cx=\"213.4918\" cy=\"648.4378\" fill=\"#383838\" rx=\"2\" ry=\"2\" style=\"stroke: #383838; stroke-width: 1.0;\"/></a><!--MD5=[3f50a3473f1dfb74d3f76443e03635af]\n",
       "reverse link E6 to E7--><a href=\"psysml:88a05b08-39fe-46e7-8c9b-5df9e56fb426\" target=\"_top\" title=\"psysml:88a05b08-39fe-46e7-8c9b-5df9e56fb426\" xlink:actuate=\"onRequest\" xlink:href=\"psysml:88a05b08-39fe-46e7-8c9b-5df9e56fb426\" xlink:show=\"new\" xlink:title=\"psysml:88a05b08-39fe-46e7-8c9b-5df9e56fb426\" xlink:type=\"simple\"><path d=\"M161.48,724.15 C151.49,740.29 139.74,759.26 130.83,773.66 \" fill=\"none\" id=\"E6&lt;-E7\" style=\"stroke: #383838; stroke-width: 1.0;\"/><polygon fill=\"#383838\" points=\"168.37,713.01,161.8112,716.007,162.0551,723.214,168.6139,720.217,168.37,713.01\" style=\"stroke: #383838; stroke-width: 1.0;\"/><text fill=\"#000000\" font-family=\"sans-serif\" font-size=\"13\" lengthAdjust=\"spacingAndGlyphs\" textLength=\"8\" x=\"125.3489\" y=\"762.8492\">1</text></a><!--MD5=[14ccda38c055a5c0da953d572bc50960]\n",
       "link E7 to E3--><a href=\"psysml:de23f89f-df32-45d9-b344-47d8d19c4edc\" target=\"_top\" title=\"psysml:de23f89f-df32-45d9-b344-47d8d19c4edc\" xlink:actuate=\"onRequest\" xlink:href=\"psysml:de23f89f-df32-45d9-b344-47d8d19c4edc\" xlink:show=\"new\" xlink:title=\"psysml:de23f89f-df32-45d9-b344-47d8d19c4edc\" xlink:type=\"simple\"><path d=\"M95.8,782.47 C70.92,764.75 33,731.15 33,691 C33,384 33,384 33,384 C33,335.87 85.48,307.94 128.35,293.16 \" fill=\"none\" id=\"E7-&gt;E3\" style=\"stroke: #383838; stroke-width: 1.0;\"/><polygon fill=\"#FFFFFF\" points=\"147.45,287.18,131.4154,299.545,127.2259,286.1865,147.45,287.18\" style=\"stroke: #383838; stroke-width: 1.0;\"/><ellipse cx=\"125.3781\" cy=\"299.3424\" fill=\"#383838\" rx=\"2\" ry=\"2\" style=\"stroke: #383838; stroke-width: 1.0;\"/><ellipse cx=\"122.3856\" cy=\"289.8006\" fill=\"#383838\" rx=\"2\" ry=\"2\" style=\"stroke: #383838; stroke-width: 1.0;\"/></a><!--MD5=[dfaffb906826c3e5aca635516100ff21]\n",
       "link E5 to E8--><a href=\"psysml:feaf6c57-7b20-4701-8323-0c325a1238bf\" target=\"_top\" title=\"psysml:feaf6c57-7b20-4701-8323-0c325a1238bf\" xlink:actuate=\"onRequest\" xlink:href=\"psysml:feaf6c57-7b20-4701-8323-0c325a1238bf\" xlink:show=\"new\" xlink:title=\"psysml:feaf6c57-7b20-4701-8323-0c325a1238bf\" xlink:type=\"simple\"><path d=\"M239.23,408.25 C230.48,430.48 216.67,465.53 204.93,495.33 \" fill=\"none\" id=\"E5-&gt;E8\" style=\"stroke: #383838; stroke-width: 1.0;\"/><polygon fill=\"#FFFFFF\" points=\"197.58,513.98,198.027,493.7365,211.0538,498.8652,197.58,513.98\" style=\"stroke: #383838; stroke-width: 1.0;\"/><ellipse cx=\"201.9761\" cy=\"489.1654\" fill=\"#383838\" rx=\"2\" ry=\"2\" style=\"stroke: #383838; stroke-width: 1.0;\"/><ellipse cx=\"211.2809\" cy=\"492.8288\" fill=\"#383838\" rx=\"2\" ry=\"2\" style=\"stroke: #383838; stroke-width: 1.0;\"/></a><!--MD5=[03c8294790d3c57651a1993cecff665f]\n",
       "reverse link E8 to E3--><a href=\"psysml:f63e9e98-9395-484c-b7ba-710e403c3592\" target=\"_top\" title=\"psysml:f63e9e98-9395-484c-b7ba-710e403c3592\" xlink:actuate=\"onRequest\" xlink:href=\"psysml:f63e9e98-9395-484c-b7ba-710e403c3592\" xlink:show=\"new\" xlink:title=\"psysml:f63e9e98-9395-484c-b7ba-710e403c3592\" xlink:type=\"simple\"><path d=\"M154.57,502.18 C135.93,463.97 117.34,409.52 131,362 C137.48,339.45 152.09,317.09 164.17,301.27 \" fill=\"none\" id=\"E8&lt;-E3\" style=\"stroke: #383838; stroke-width: 1.0;\"/><polygon fill=\"#FFFFFF\" points=\"160.58,513.99,161.4217,506.8282,155.1345,503.2967,154.2928,510.4585,160.58,513.99\" style=\"stroke: #383838; stroke-width: 1.0;\"/><text fill=\"#000000\" font-family=\"sans-serif\" font-size=\"13\" lengthAdjust=\"spacingAndGlyphs\" textLength=\"7\" x=\"132\" y=\"389.5669\">y</text></a><!--MD5=[03c8294790d3c57651a1993cecff665f]\n",
       "reverse link E8 to E3--><a href=\"psysml:f63e9e98-9395-484c-b7ba-710e403c3592\" target=\"_top\" title=\"psysml:f63e9e98-9395-484c-b7ba-710e403c3592\" xlink:actuate=\"onRequest\" xlink:href=\"psysml:f63e9e98-9395-484c-b7ba-710e403c3592\" xlink:show=\"new\" xlink:title=\"psysml:f63e9e98-9395-484c-b7ba-710e403c3592\" xlink:type=\"simple\"><path d=\"M183,500.73 C183,441.17 183,344.58 183,301.26 \" fill=\"none\" id=\"E8&lt;-E3-1\" style=\"stroke: #383838; stroke-width: 1.0;\"/><polygon fill=\"#FFFFFF\" points=\"183,513.93,187,507.93,183,501.93,179,507.93,183,513.93\" style=\"stroke: #383838; stroke-width: 1.0;\"/><text fill=\"#000000\" font-family=\"sans-serif\" font-size=\"13\" lengthAdjust=\"spacingAndGlyphs\" textLength=\"7\" x=\"184\" y=\"389.5669\">y</text></a><!--MD5=[0d75d2178373a6a4568e5dc728f58aef]\n",
       "reverse link E8 to E6--><a href=\"psysml:f63e9e98-9395-484c-b7ba-710e403c3592\" target=\"_top\" title=\"psysml:f63e9e98-9395-484c-b7ba-710e403c3592\" xlink:actuate=\"onRequest\" xlink:href=\"psysml:f63e9e98-9395-484c-b7ba-710e403c3592\" xlink:show=\"new\" xlink:title=\"psysml:f63e9e98-9395-484c-b7ba-710e403c3592\" xlink:type=\"simple\"><path d=\"M160.42,603.02 C157.73,614.13 156.66,625.91 159,637 C161.16,647.24 165.48,657.91 169.79,666.91 \" fill=\"none\" id=\"E8&lt;-E6\" style=\"stroke: #383838; stroke-width: 1.0;\"/><polygon fill=\"#FFFFFF\" points=\"164.22,590.35,158.6675,594.9511,160.7791,601.8461,166.3316,597.245,164.22,590.35\" style=\"stroke: #383838; stroke-width: 1.0;\"/><text fill=\"#000000\" font-family=\"sans-serif\" font-size=\"13\" lengthAdjust=\"spacingAndGlyphs\" textLength=\"7\" x=\"160\" y=\"633.0669\">y</text></a><!--MD5=[0d75d2178373a6a4568e5dc728f58aef]\n",
       "reverse link E8 to E6--><a href=\"psysml:f63e9e98-9395-484c-b7ba-710e403c3592\" target=\"_top\" title=\"psysml:f63e9e98-9395-484c-b7ba-710e403c3592\" xlink:actuate=\"onRequest\" xlink:href=\"psysml:f63e9e98-9395-484c-b7ba-710e403c3592\" xlink:show=\"new\" xlink:title=\"psysml:f63e9e98-9395-484c-b7ba-710e403c3592\" xlink:type=\"simple\"><path d=\"M182.63,603.33 C182.47,625.16 182.29,649.6 182.16,666.77 \" fill=\"none\" id=\"E8&lt;-E6-1\" style=\"stroke: #383838; stroke-width: 1.0;\"/><polygon fill=\"#FFFFFF\" points=\"182.73,590.16,178.684,596.1291,182.6377,602.1596,186.6837,596.1906,182.73,590.16\" style=\"stroke: #383838; stroke-width: 1.0;\"/><text fill=\"#000000\" font-family=\"sans-serif\" font-size=\"13\" lengthAdjust=\"spacingAndGlyphs\" textLength=\"7\" x=\"183\" y=\"633.0669\">y</text></a><!--MD5=[23ac544a70576c3e717098101004234c]\n",
       "reverse link E9 to E10--><a href=\"psysml:f7fd9ae3-3fa5-48e2-b146-bf2078e3bf75\" target=\"_top\" title=\"psysml:f7fd9ae3-3fa5-48e2-b146-bf2078e3bf75\" xlink:actuate=\"onRequest\" xlink:href=\"psysml:f7fd9ae3-3fa5-48e2-b146-bf2078e3bf75\" xlink:show=\"new\" xlink:title=\"psysml:f7fd9ae3-3fa5-48e2-b146-bf2078e3bf75\" xlink:type=\"simple\"><path d=\"M131.16,99.57 C125.28,115.39 118.49,133.68 113.3,147.66 \" fill=\"none\" id=\"E9&lt;-E10\" style=\"stroke: #383838; stroke-width: 1.0;\"/><polygon fill=\"#FFFFFF\" points=\"135.82,87.01,129.9804,91.2408,131.6398,98.2584,137.4793,94.0276,135.82,87.01\" style=\"stroke: #383838; stroke-width: 1.0;\"/><text fill=\"#000000\" font-family=\"sans-serif\" font-size=\"13\" lengthAdjust=\"spacingAndGlyphs\" textLength=\"8\" x=\"106.4019\" y=\"136.8492\">1</text></a><!--MD5=[feeac5eb423634930294aa81f2d25a4c]\n",
       "link E10 to E3--><a href=\"psysml:09a722a7-3c7d-4d30-9bcf-d6d93c165304\" target=\"_top\" title=\"psysml:09a722a7-3c7d-4d30-9bcf-d6d93c165304\" xlink:actuate=\"onRequest\" xlink:href=\"psysml:09a722a7-3c7d-4d30-9bcf-d6d93c165304\" xlink:show=\"new\" xlink:title=\"psysml:09a722a7-3c7d-4d30-9bcf-d6d93c165304\" xlink:type=\"simple\"><path d=\"M121.35,194.01 C130.86,206.81 143.11,223.3 154.18,238.2 \" fill=\"none\" id=\"E10-&gt;E3\" style=\"stroke: #383838; stroke-width: 1.0;\"/><polygon fill=\"#FFFFFF\" points=\"166.4,254.66,149.4457,243.5896,160.6805,235.2361,166.4,254.66\" style=\"stroke: #383838; stroke-width: 1.0;\"/><ellipse cx=\"147.6496\" cy=\"237.8221\" fill=\"#383838\" rx=\"2\" ry=\"2\" style=\"stroke: #383838; stroke-width: 1.0;\"/><ellipse cx=\"155.6744\" cy=\"231.8554\" fill=\"#383838\" rx=\"2\" ry=\"2\" style=\"stroke: #383838; stroke-width: 1.0;\"/></a><!--MD5=[1fc04a95fd77ad5ce46c1a3027516051]\n",
       "reverse link E9 to E11--><a href=\"psysml:2308c13a-9c40-4baf-abe1-b4752fcfac30\" target=\"_top\" title=\"psysml:2308c13a-9c40-4baf-abe1-b4752fcfac30\" xlink:actuate=\"onRequest\" xlink:href=\"psysml:2308c13a-9c40-4baf-abe1-b4752fcfac30\" xlink:show=\"new\" xlink:title=\"psysml:2308c13a-9c40-4baf-abe1-b4752fcfac30\" xlink:type=\"simple\"><path d=\"M156.84,99.57 C162.72,115.39 169.51,133.68 174.7,147.66 \" fill=\"none\" id=\"E9&lt;-E11\" style=\"stroke: #383838; stroke-width: 1.0;\"/><polygon fill=\"#FFFFFF\" points=\"152.18,87.01,150.5207,94.0276,156.3602,98.2584,158.0196,91.2408,152.18,87.01\" style=\"stroke: #383838; stroke-width: 1.0;\"/><text fill=\"#000000\" font-family=\"sans-serif\" font-size=\"13\" lengthAdjust=\"spacingAndGlyphs\" textLength=\"8\" x=\"163.5481\" y=\"136.8492\">1</text></a><!--MD5=[0517f1ce58c4d5483948f93845c45e26]\n",
       "link E11 to E3--><a href=\"psysml:713baad2-05ac-404b-8904-f9720a0da3f6\" target=\"_top\" title=\"psysml:713baad2-05ac-404b-8904-f9720a0da3f6\" xlink:actuate=\"onRequest\" xlink:href=\"psysml:713baad2-05ac-404b-8904-f9720a0da3f6\" xlink:show=\"new\" xlink:title=\"psysml:713baad2-05ac-404b-8904-f9720a0da3f6\" xlink:type=\"simple\"><path d=\"M183,194.01 C183,205.69 183,220.46 183,234.28 \" fill=\"none\" id=\"E11-&gt;E3\" style=\"stroke: #383838; stroke-width: 1.0;\"/><polygon fill=\"#FFFFFF\" points=\"183,254.66,176,235.66,190,235.66,183,254.66\" style=\"stroke: #383838; stroke-width: 1.0;\"/><ellipse cx=\"178\" cy=\"229.96\" fill=\"#383838\" rx=\"2\" ry=\"2\" style=\"stroke: #383838; stroke-width: 1.0;\"/><ellipse cx=\"188\" cy=\"229.96\" fill=\"#383838\" rx=\"2\" ry=\"2\" style=\"stroke: #383838; stroke-width: 1.0;\"/></a><!--MD5=[3e0dac03f3a96f8549e9c7dea4606967]\n",
       "@startuml\r\n",
       " skinparam monochrome true\r\n",
       "skinparam classbackgroundcolor white\r\n",
       "skinparam shadowing false\r\n",
       "skinparam wrapWidth 300\r\n",
       "hide circle\r\n",
       "\r\n",
       "package \"ItemTest\" as E1  [[psysml:9c84b130-4496-45dd-acf0-f614adf4451b ]]  {\r\n",
       "comp usage \"f: A \" as E2  <<(T,blue) item>> [[psysml:046ce2e8-70d6-418b-9e34-4058f6a1e698 ]] {\r\n",
       "}\r\n",
       "comp def \"A\" as E3  <<(T,blue) item  def>> [[psysml:b761bda6-ef45-4173-adbe-8f17f5dd59b9 ]] {\r\n",
       "}\r\n",
       "comp usage \"b: B \" as E4  <<(T,blue) item>> [[psysml:5a9b7c1e-d921-40a5-84d4-dcafad1b8599 ]] {\r\n",
       "}\r\n",
       "comp usage \"c: C \" as E5  <<(T,blue) part>> [[psysml:c52e7c62-32ae-43e1-a51e-2d7f86512260 ]] {\r\n",
       "}\r\n",
       "comp def \"<i>B</i>\" as E6  <<(T,blue) item  def>> [[psysml:154f7142-f3c2-4f8f-a55c-1d31f59952e7 ]] {\r\n",
       "}\r\n",
       "comp usage \"<i>a</i>: A \" as E7  <<(T,blue) part>> [[psysml:3092a58e-bc17-492e-b3ac-d9b0c5d27ee1 ]] {\r\n",
       "}\r\n",
       "comp def \"C\" as E8  <<(T,blue) part  def>> [[psysml:a977dc12-1522-4e17-86ea-88834b4a9262 ]] {\r\n",
       "- - parameters - -\r\n",
       "<b>in</b> y: A, B\r\n",
       "}\r\n",
       "comp def \"P\" as E9  <<(T,blue) port  def>> [[psysml:505a0904-767f-4431-bdaf-f395e9a256c5 ]] {\r\n",
       "}\r\n",
       "comp usage \"a1: A \" as E10  <<(T,blue) item>> [[psysml:b48ee9ab-0a15-45ce-8465-86ae83c4be7f ]] {\r\n",
       "}\r\n",
       "comp usage \"a2: A \" as E11  <<(T,blue) item>> [[psysml:7b14a527-4e8d-41df-a91b-3ca9db44b1d9 ]] {\r\n",
       "}\r\n",
       "}\r\n",
       "E2 - -:|> E3 [[psysml:2913aa14-34e4-4ebc-b3c0-73cbbe37a712 ]] \r\n",
       "E3 *- - \"1\"E4 [[psysml:5a70b25d-3e65-48fe-9200-ece04e9de0ee ]] \r\n",
       "E3 o- - \"1\"E5 [[psysml:98aba136-2768-4c7e-bc34-95a5a6a911cd ]] \r\n",
       "E4 - -:|> E6 [[psysml:04be4dec-9fb2-423c-a400-1c82afc162c3 ]] \r\n",
       "E6 *- - \"1\"E7 [[psysml:88a05b08-39fe-46e7-8c9b-5df9e56fb426 ]] \r\n",
       "E7 - -:|> E3 [[psysml:de23f89f-df32-45d9-b344-47d8d19c4edc ]] \r\n",
       "E5 - -:|> E8 [[psysml:feaf6c57-7b20-4701-8323-0c325a1238bf ]] \r\n",
       "E8 o- - E3 [[psysml:f63e9e98-9395-484c-b7ba-710e403c3592 ]] : y\r\n",
       "E8 o- - E6 [[psysml:f63e9e98-9395-484c-b7ba-710e403c3592 ]] : y\r\n",
       "E8 o- - E3 [[psysml:f63e9e98-9395-484c-b7ba-710e403c3592 ]] : y\r\n",
       "E8 o- - E6 [[psysml:f63e9e98-9395-484c-b7ba-710e403c3592 ]] : y\r\n",
       "E9 o- - \"1\"E10 [[psysml:f7fd9ae3-3fa5-48e2-b146-bf2078e3bf75 ]] \r\n",
       "E10 - -:|> E3 [[psysml:09a722a7-3c7d-4d30-9bcf-d6d93c165304 ]] \r\n",
       "E9 o- - \"1\"E11 [[psysml:2308c13a-9c40-4baf-abe1-b4752fcfac30 ]] \r\n",
       "E11 - -:|> E3 [[psysml:713baad2-05ac-404b-8904-f9720a0da3f6 ]] \r\n",
       "@enduml\r\n",
       "\n",
       "PlantUML version 1.2020.13(Sat Jun 13 12:26:38 UTC 2020)\n",
       "(EPL source distribution)\n",
       "Java Runtime: OpenJDK Runtime Environment\n",
       "JVM: OpenJDK 64-Bit Server VM\n",
       "Default Encoding: UTF-8\n",
       "Language: en\n",
       "Country: null\n",
       "--></g></svg>"
      ]
     },
     "execution_count": 2,
     "metadata": {},
     "output_type": "execute_result"
    }
   ],
   "source": [
    "%viz --style=\"COMPTREE\" --view=\"Default\" \"ItemTest\""
   ]
  },
  {
   "cell_type": "code",
   "execution_count": 3,
   "id": "154b32b9",
   "metadata": {
    "execution": {
     "iopub.execute_input": "2021-10-25T08:20:52.498747Z",
     "iopub.status.busy": "2021-10-25T08:20:52.498272Z",
     "iopub.status.idle": "2021-10-25T08:20:52.584533Z",
     "shell.execute_reply": "2021-10-25T08:20:52.582246Z"
    }
   },
   "outputs": [
    {
     "data": {
      "image/svg+xml": [
       "<?xml version=\"1.0\" encoding=\"UTF-8\" standalone=\"no\"?><svg xmlns=\"http://www.w3.org/2000/svg\" xmlns:xlink=\"http://www.w3.org/1999/xlink\" contentScriptType=\"application/ecmascript\" contentStyleType=\"text/css\" height=\"848px\" preserveAspectRatio=\"none\" style=\"width:344px;height:848px;\" version=\"1.1\" viewBox=\"0 0 344 848\" width=\"344px\" zoomAndPan=\"magnify\"><defs/><g><!--MD5=[fbc87193dbaf4d95561dea2c320d4a47]\n",
       "cluster E1--><a href=\"psysml:9c84b130-4496-45dd-acf0-f614adf4451b\" target=\"_top\" title=\"psysml:9c84b130-4496-45dd-acf0-f614adf4451b\" xlink:actuate=\"onRequest\" xlink:href=\"psysml:9c84b130-4496-45dd-acf0-f614adf4451b\" xlink:show=\"new\" xlink:title=\"psysml:9c84b130-4496-45dd-acf0-f614adf4451b\" xlink:type=\"simple\"><polygon fill=\"#FFFFFF\" points=\"16,6,83,6,90,28.2969,322,28.2969,322,836,16,836,16,6\" style=\"stroke: #000000; stroke-width: 1.5;\"/><line style=\"stroke: #000000; stroke-width: 1.5;\" x1=\"16\" x2=\"90\" y1=\"28.2969\" y2=\"28.2969\"/><text fill=\"#000000\" font-family=\"sans-serif\" font-size=\"14\" font-weight=\"bold\" lengthAdjust=\"spacingAndGlyphs\" textLength=\"61\" x=\"20\" y=\"20.9951\">ItemTest</text></a><!--MD5=[b4997ac47864f28c2f74865a473b2911]\n",
       "class E2--><a href=\"psysml:046ce2e8-70d6-418b-9e34-4058f6a1e698\" target=\"_top\" title=\"psysml:046ce2e8-70d6-418b-9e34-4058f6a1e698\" xlink:actuate=\"onRequest\" xlink:href=\"psysml:046ce2e8-70d6-418b-9e34-4058f6a1e698\" xlink:show=\"new\" xlink:title=\"psysml:046ce2e8-70d6-418b-9e34-4058f6a1e698\" xlink:type=\"simple\"><rect fill=\"#FFFFFF\" height=\"45.9375\" id=\"E2\" rx=\"10\" ry=\"10\" style=\"stroke: #383838; stroke-width: 1.5;\" width=\"43\" x=\"239.5\" y=\"148\"/><text fill=\"#000000\" font-family=\"sans-serif\" font-size=\"12\" font-style=\"italic\" lengthAdjust=\"spacingAndGlyphs\" textLength=\"41\" x=\"240.5\" y=\"164.1387\">«item»</text><text fill=\"#000000\" font-family=\"sans-serif\" font-size=\"12\" lengthAdjust=\"spacingAndGlyphs\" textLength=\"20\" x=\"249\" y=\"178.1074\">f: A</text><line style=\"stroke: #383838; stroke-width: 1.5;\" x1=\"240.5\" x2=\"281.5\" y1=\"185.9375\" y2=\"185.9375\"/></a><!--MD5=[09b614a08d8cba4a07c9adeb5e0fee81]\n",
       "class E3--><a href=\"psysml:b761bda6-ef45-4173-adbe-8f17f5dd59b9\" target=\"_top\" title=\"psysml:b761bda6-ef45-4173-adbe-8f17f5dd59b9\" xlink:actuate=\"onRequest\" xlink:href=\"psysml:b761bda6-ef45-4173-adbe-8f17f5dd59b9\" xlink:show=\"new\" xlink:title=\"psysml:b761bda6-ef45-4173-adbe-8f17f5dd59b9\" xlink:type=\"simple\"><rect fill=\"#FFFFFF\" height=\"45.9375\" id=\"E3\" style=\"stroke: #383838; stroke-width: 1.5;\" width=\"71\" x=\"147.5\" y=\"255\"/><text fill=\"#000000\" font-family=\"sans-serif\" font-size=\"12\" font-style=\"italic\" lengthAdjust=\"spacingAndGlyphs\" textLength=\"69\" x=\"148.5\" y=\"271.1387\">«item  def»</text><text fill=\"#000000\" font-family=\"sans-serif\" font-size=\"12\" lengthAdjust=\"spacingAndGlyphs\" textLength=\"8\" x=\"179\" y=\"285.1074\">A</text><line style=\"stroke: #383838; stroke-width: 1.5;\" x1=\"148.5\" x2=\"217.5\" y1=\"292.9375\" y2=\"292.9375\"/></a><!--MD5=[ebbe1d658d1005bcc118a6aa81145e00]\n",
       "class E4--><a href=\"psysml:5a9b7c1e-d921-40a5-84d4-dcafad1b8599\" target=\"_top\" title=\"psysml:5a9b7c1e-d921-40a5-84d4-dcafad1b8599\" xlink:actuate=\"onRequest\" xlink:href=\"psysml:5a9b7c1e-d921-40a5-84d4-dcafad1b8599\" xlink:show=\"new\" xlink:title=\"psysml:5a9b7c1e-d921-40a5-84d4-dcafad1b8599\" xlink:type=\"simple\"><rect fill=\"#FFFFFF\" height=\"45.9375\" id=\"E4\" rx=\"10\" ry=\"10\" style=\"stroke: #383838; stroke-width: 1.5;\" width=\"43\" x=\"255.5\" y=\"438\"/><text fill=\"#000000\" font-family=\"sans-serif\" font-size=\"12\" font-style=\"italic\" lengthAdjust=\"spacingAndGlyphs\" textLength=\"41\" x=\"256.5\" y=\"454.1387\">«item»</text><text fill=\"#000000\" font-family=\"sans-serif\" font-size=\"12\" lengthAdjust=\"spacingAndGlyphs\" textLength=\"24\" x=\"263\" y=\"468.1074\">b: B</text><line style=\"stroke: #383838; stroke-width: 1.5;\" x1=\"256.5\" x2=\"297.5\" y1=\"475.9375\" y2=\"475.9375\"/></a><!--MD5=[270fce915f116d4de14055a7c1d9a0f3]\n",
       "class E5--><a href=\"psysml:c52e7c62-32ae-43e1-a51e-2d7f86512260\" target=\"_top\" title=\"psysml:c52e7c62-32ae-43e1-a51e-2d7f86512260\" xlink:actuate=\"onRequest\" xlink:href=\"psysml:c52e7c62-32ae-43e1-a51e-2d7f86512260\" xlink:show=\"new\" xlink:title=\"psysml:c52e7c62-32ae-43e1-a51e-2d7f86512260\" xlink:type=\"simple\"><rect fill=\"#FFFFFF\" height=\"45.9375\" id=\"E5\" rx=\"10\" ry=\"10\" style=\"stroke: #383838; stroke-width: 1.5;\" width=\"42\" x=\"227\" y=\"362\"/><text fill=\"#000000\" font-family=\"sans-serif\" font-size=\"12\" font-style=\"italic\" lengthAdjust=\"spacingAndGlyphs\" textLength=\"40\" x=\"228\" y=\"378.1387\">«part»</text><text fill=\"#000000\" font-family=\"sans-serif\" font-size=\"12\" lengthAdjust=\"spacingAndGlyphs\" textLength=\"23\" x=\"234.5\" y=\"392.1074\">c: C</text><line style=\"stroke: #383838; stroke-width: 1.5;\" x1=\"228\" x2=\"268\" y1=\"399.9375\" y2=\"399.9375\"/></a><!--MD5=[60a26617385b1d2d0262a64233df1f8d]\n",
       "class E6--><a href=\"psysml:154f7142-f3c2-4f8f-a55c-1d31f59952e7\" target=\"_top\" title=\"psysml:154f7142-f3c2-4f8f-a55c-1d31f59952e7\" xlink:actuate=\"onRequest\" xlink:href=\"psysml:154f7142-f3c2-4f8f-a55c-1d31f59952e7\" xlink:show=\"new\" xlink:title=\"psysml:154f7142-f3c2-4f8f-a55c-1d31f59952e7\" xlink:type=\"simple\"><rect fill=\"#FFFFFF\" height=\"45.9375\" id=\"E6\" style=\"stroke: #383838; stroke-width: 1.5;\" width=\"71\" x=\"146.5\" y=\"667\"/><text fill=\"#000000\" font-family=\"sans-serif\" font-size=\"12\" font-style=\"italic\" lengthAdjust=\"spacingAndGlyphs\" textLength=\"69\" x=\"147.5\" y=\"683.1387\">«item  def»</text><text fill=\"#000000\" font-family=\"sans-serif\" font-size=\"12\" font-style=\"italic\" lengthAdjust=\"spacingAndGlyphs\" textLength=\"8\" x=\"178\" y=\"697.1074\">B</text><line style=\"stroke: #383838; stroke-width: 1.5;\" x1=\"147.5\" x2=\"216.5\" y1=\"704.9375\" y2=\"704.9375\"/></a><!--MD5=[2156ba9850f5573cc1fc38a6a4b2f02b]\n",
       "class E7--><a href=\"psysml:3092a58e-bc17-492e-b3ac-d9b0c5d27ee1\" target=\"_top\" title=\"psysml:3092a58e-bc17-492e-b3ac-d9b0c5d27ee1\" xlink:actuate=\"onRequest\" xlink:href=\"psysml:3092a58e-bc17-492e-b3ac-d9b0c5d27ee1\" xlink:show=\"new\" xlink:title=\"psysml:3092a58e-bc17-492e-b3ac-d9b0c5d27ee1\" xlink:type=\"simple\"><rect fill=\"#FFFFFF\" height=\"45.9375\" id=\"E7\" rx=\"10\" ry=\"10\" style=\"stroke: #383838; stroke-width: 1.5;\" width=\"42\" x=\"96\" y=\"774\"/><text fill=\"#000000\" font-family=\"sans-serif\" font-size=\"12\" font-style=\"italic\" lengthAdjust=\"spacingAndGlyphs\" textLength=\"40\" x=\"97\" y=\"790.1387\">«part»</text><text fill=\"#000000\" font-family=\"sans-serif\" font-size=\"12\" font-style=\"italic\" lengthAdjust=\"spacingAndGlyphs\" textLength=\"8\" x=\"103\" y=\"804.1074\">a</text><text fill=\"#000000\" font-family=\"sans-serif\" font-size=\"12\" lengthAdjust=\"spacingAndGlyphs\" textLength=\"16\" x=\"111\" y=\"804.1074\">: A</text><line style=\"stroke: #383838; stroke-width: 1.5;\" x1=\"97\" x2=\"137\" y1=\"811.9375\" y2=\"811.9375\"/></a><!--MD5=[b9389687b975829384b498ac4b7476b2]\n",
       "class E8--><a href=\"psysml:a977dc12-1522-4e17-86ea-88834b4a9262\" target=\"_top\" title=\"psysml:a977dc12-1522-4e17-86ea-88834b4a9262\" xlink:actuate=\"onRequest\" xlink:href=\"psysml:a977dc12-1522-4e17-86ea-88834b4a9262\" xlink:show=\"new\" xlink:title=\"psysml:a977dc12-1522-4e17-86ea-88834b4a9262\" xlink:type=\"simple\"><rect fill=\"#FFFFFF\" height=\"75.5469\" id=\"E8\" style=\"stroke: #383838; stroke-width: 1.5;\" width=\"75\" x=\"145.5\" y=\"514\"/><text fill=\"#000000\" font-family=\"sans-serif\" font-size=\"12\" font-style=\"italic\" lengthAdjust=\"spacingAndGlyphs\" textLength=\"68\" x=\"149\" y=\"530.1387\">«part  def»</text><text fill=\"#000000\" font-family=\"sans-serif\" font-size=\"12\" lengthAdjust=\"spacingAndGlyphs\" textLength=\"8\" x=\"179\" y=\"544.1074\">C</text><line style=\"stroke: #383838; stroke-width: 1.5;\" x1=\"146.5\" x2=\"219.5\" y1=\"551.9375\" y2=\"551.9375\"/><text fill=\"#000000\" font-family=\"sans-serif\" font-size=\"11\" font-weight=\"bold\" lengthAdjust=\"spacingAndGlyphs\" textLength=\"10\" x=\"151.5\" y=\"582.9526\">in</text><text fill=\"#000000\" font-family=\"sans-serif\" font-size=\"11\" lengthAdjust=\"spacingAndGlyphs\" textLength=\"37\" x=\"165.5\" y=\"582.9526\">y: A, B</text><line style=\"stroke: #383838; stroke-width: 1.0;\" x1=\"146.5\" x2=\"149.5\" y1=\"566.3398\" y2=\"566.3398\"/><text fill=\"#000000\" font-family=\"sans-serif\" font-size=\"11\" lengthAdjust=\"spacingAndGlyphs\" textLength=\"67\" x=\"149.5\" y=\"569.6479\">parameters</text><line style=\"stroke: #383838; stroke-width: 1.0;\" x1=\"216.5\" x2=\"219.5\" y1=\"566.3398\" y2=\"566.3398\"/></a><!--MD5=[fd4143e9d270a159db93a4ea2a975926]\n",
       "class E9--><a href=\"psysml:505a0904-767f-4431-bdaf-f395e9a256c5\" target=\"_top\" title=\"psysml:505a0904-767f-4431-bdaf-f395e9a256c5\" xlink:actuate=\"onRequest\" xlink:href=\"psysml:505a0904-767f-4431-bdaf-f395e9a256c5\" xlink:show=\"new\" xlink:title=\"psysml:505a0904-767f-4431-bdaf-f395e9a256c5\" xlink:type=\"simple\"><rect fill=\"#FFFFFF\" height=\"45.9375\" id=\"E9\" style=\"stroke: #383838; stroke-width: 1.5;\" width=\"70\" x=\"109\" y=\"41\"/><text fill=\"#000000\" font-family=\"sans-serif\" font-size=\"12\" font-style=\"italic\" lengthAdjust=\"spacingAndGlyphs\" textLength=\"68\" x=\"110\" y=\"57.1387\">«port  def»</text><text fill=\"#000000\" font-family=\"sans-serif\" font-size=\"12\" lengthAdjust=\"spacingAndGlyphs\" textLength=\"8\" x=\"140\" y=\"71.1074\">P</text><line style=\"stroke: #383838; stroke-width: 1.5;\" x1=\"110\" x2=\"178\" y1=\"78.9375\" y2=\"78.9375\"/></a><!--MD5=[96f4274e9e20536e775497830990834d]\n",
       "class E10--><a href=\"psysml:b48ee9ab-0a15-45ce-8465-86ae83c4be7f\" target=\"_top\" title=\"psysml:b48ee9ab-0a15-45ce-8465-86ae83c4be7f\" xlink:actuate=\"onRequest\" xlink:href=\"psysml:b48ee9ab-0a15-45ce-8465-86ae83c4be7f\" xlink:show=\"new\" xlink:title=\"psysml:b48ee9ab-0a15-45ce-8465-86ae83c4be7f\" xlink:type=\"simple\"><rect fill=\"#FFFFFF\" height=\"45.9375\" id=\"E10\" rx=\"10\" ry=\"10\" style=\"stroke: #383838; stroke-width: 1.5;\" width=\"43\" x=\"83.5\" y=\"148\"/><text fill=\"#000000\" font-family=\"sans-serif\" font-size=\"12\" font-style=\"italic\" lengthAdjust=\"spacingAndGlyphs\" textLength=\"41\" x=\"84.5\" y=\"164.1387\">«item»</text><text fill=\"#000000\" font-family=\"sans-serif\" font-size=\"12\" lengthAdjust=\"spacingAndGlyphs\" textLength=\"32\" x=\"87\" y=\"178.1074\">a1: A</text><line style=\"stroke: #383838; stroke-width: 1.5;\" x1=\"84.5\" x2=\"125.5\" y1=\"185.9375\" y2=\"185.9375\"/></a><!--MD5=[1dd1bfd58a279cf63c5f349dbc8fc6a1]\n",
       "class E11--><a href=\"psysml:7b14a527-4e8d-41df-a91b-3ca9db44b1d9\" target=\"_top\" title=\"psysml:7b14a527-4e8d-41df-a91b-3ca9db44b1d9\" xlink:actuate=\"onRequest\" xlink:href=\"psysml:7b14a527-4e8d-41df-a91b-3ca9db44b1d9\" xlink:show=\"new\" xlink:title=\"psysml:7b14a527-4e8d-41df-a91b-3ca9db44b1d9\" xlink:type=\"simple\"><rect fill=\"#FFFFFF\" height=\"45.9375\" id=\"E11\" rx=\"10\" ry=\"10\" style=\"stroke: #383838; stroke-width: 1.5;\" width=\"43\" x=\"161.5\" y=\"148\"/><text fill=\"#000000\" font-family=\"sans-serif\" font-size=\"12\" font-style=\"italic\" lengthAdjust=\"spacingAndGlyphs\" textLength=\"41\" x=\"162.5\" y=\"164.1387\">«item»</text><text fill=\"#000000\" font-family=\"sans-serif\" font-size=\"12\" lengthAdjust=\"spacingAndGlyphs\" textLength=\"32\" x=\"165\" y=\"178.1074\">a2: A</text><line style=\"stroke: #383838; stroke-width: 1.5;\" x1=\"162.5\" x2=\"203.5\" y1=\"185.9375\" y2=\"185.9375\"/></a><!--MD5=[2720a5a1f2c3fca2055b230370638851]\n",
       "link E2 to E3--><a href=\"psysml:2913aa14-34e4-4ebc-b3c0-73cbbe37a712\" target=\"_top\" title=\"psysml:2913aa14-34e4-4ebc-b3c0-73cbbe37a712\" xlink:actuate=\"onRequest\" xlink:href=\"psysml:2913aa14-34e4-4ebc-b3c0-73cbbe37a712\" xlink:show=\"new\" xlink:title=\"psysml:2913aa14-34e4-4ebc-b3c0-73cbbe37a712\" xlink:type=\"simple\"><path d=\"M244.65,194.01 C235.14,206.81 222.89,223.3 211.82,238.2 \" fill=\"none\" id=\"E2-&gt;E3\" style=\"stroke: #383838; stroke-width: 1.0;\"/><polygon fill=\"#FFFFFF\" points=\"199.6,254.66,205.3195,235.2361,216.5543,243.5896,199.6,254.66\" style=\"stroke: #383838; stroke-width: 1.0;\"/><ellipse cx=\"210.3256\" cy=\"231.8554\" fill=\"#383838\" rx=\"2\" ry=\"2\" style=\"stroke: #383838; stroke-width: 1.0;\"/><ellipse cx=\"218.3504\" cy=\"237.8221\" fill=\"#383838\" rx=\"2\" ry=\"2\" style=\"stroke: #383838; stroke-width: 1.0;\"/></a><!--MD5=[4672eba38e49728da53d11aeb285b987]\n",
       "reverse link E3 to E4--><a href=\"psysml:5a70b25d-3e65-48fe-9200-ece04e9de0ee\" target=\"_top\" title=\"psysml:5a70b25d-3e65-48fe-9200-ece04e9de0ee\" xlink:actuate=\"onRequest\" xlink:href=\"psysml:5a70b25d-3e65-48fe-9200-ece04e9de0ee\" xlink:show=\"new\" xlink:title=\"psysml:5a70b25d-3e65-48fe-9200-ece04e9de0ee\" xlink:type=\"simple\"><path d=\"M229.65,303.21 C251.35,317.2 274.97,337.01 287,362 C298.57,386.04 292.33,417.17 285.68,437.83 \" fill=\"none\" id=\"E3&lt;-E4\" style=\"stroke: #383838; stroke-width: 1.0;\"/><polygon fill=\"#383838\" points=\"218.55,296.43,221.5791,302.974,228.7848,302.6949,225.7557,296.1508,218.55,296.43\" style=\"stroke: #383838; stroke-width: 1.0;\"/><text fill=\"#000000\" font-family=\"sans-serif\" font-size=\"13\" lengthAdjust=\"spacingAndGlyphs\" textLength=\"8\" x=\"278.8793\" y=\"427.0627\">1</text></a><!--MD5=[191cde3d490a3f6d7bb551fe3ddca469]\n",
       "reverse link E3 to E5--><a href=\"psysml:98aba136-2768-4c7e-bc34-95a5a6a911cd\" target=\"_top\" title=\"psysml:98aba136-2768-4c7e-bc34-95a5a6a911cd\" xlink:actuate=\"onRequest\" xlink:href=\"psysml:98aba136-2768-4c7e-bc34-95a5a6a911cd\" xlink:show=\"new\" xlink:title=\"psysml:98aba136-2768-4c7e-bc34-95a5a6a911cd\" xlink:type=\"simple\"><path d=\"M203.52,312.15 C213.51,328.29 225.26,347.26 234.17,361.66 \" fill=\"none\" id=\"E3&lt;-E5\" style=\"stroke: #383838; stroke-width: 1.0;\"/><polygon fill=\"#FFFFFF\" points=\"196.63,301.01,196.3861,308.217,202.9449,311.214,203.1888,304.007,196.63,301.01\" style=\"stroke: #383838; stroke-width: 1.0;\"/><text fill=\"#000000\" font-family=\"sans-serif\" font-size=\"13\" lengthAdjust=\"spacingAndGlyphs\" textLength=\"8\" x=\"221.6011\" y=\"350.8492\">1</text></a><!--MD5=[79568f1e445c3877b6a54524624ccc7d]\n",
       "link E4 to E6--><a href=\"psysml:04be4dec-9fb2-423c-a400-1c82afc162c3\" target=\"_top\" title=\"psysml:04be4dec-9fb2-423c-a400-1c82afc162c3\" xlink:actuate=\"onRequest\" xlink:href=\"psysml:04be4dec-9fb2-423c-a400-1c82afc162c3\" xlink:show=\"new\" xlink:title=\"psysml:04be4dec-9fb2-423c-a400-1c82afc162c3\" xlink:type=\"simple\"><path d=\"M271.8,484.26 C265.37,510.22 253.39,554.13 238,590 C229.26,610.36 217.43,631.9 206.88,649.66 \" fill=\"none\" id=\"E4-&gt;E6\" style=\"stroke: #383838; stroke-width: 1.0;\"/><polygon fill=\"#FFFFFF\" points=\"196.36,666.92,200.2791,647.0544,212.2307,654.3454,196.36,666.92\" style=\"stroke: #383838; stroke-width: 1.0;\"/><ellipse cx=\"204.955\" cy=\"643.23\" fill=\"#383838\" rx=\"2\" ry=\"2\" style=\"stroke: #383838; stroke-width: 1.0;\"/><ellipse cx=\"213.4918\" cy=\"648.4378\" fill=\"#383838\" rx=\"2\" ry=\"2\" style=\"stroke: #383838; stroke-width: 1.0;\"/></a><!--MD5=[3f50a3473f1dfb74d3f76443e03635af]\n",
       "reverse link E6 to E7--><a href=\"psysml:88a05b08-39fe-46e7-8c9b-5df9e56fb426\" target=\"_top\" title=\"psysml:88a05b08-39fe-46e7-8c9b-5df9e56fb426\" xlink:actuate=\"onRequest\" xlink:href=\"psysml:88a05b08-39fe-46e7-8c9b-5df9e56fb426\" xlink:show=\"new\" xlink:title=\"psysml:88a05b08-39fe-46e7-8c9b-5df9e56fb426\" xlink:type=\"simple\"><path d=\"M161.48,724.15 C151.49,740.29 139.74,759.26 130.83,773.66 \" fill=\"none\" id=\"E6&lt;-E7\" style=\"stroke: #383838; stroke-width: 1.0;\"/><polygon fill=\"#383838\" points=\"168.37,713.01,161.8112,716.007,162.0551,723.214,168.6139,720.217,168.37,713.01\" style=\"stroke: #383838; stroke-width: 1.0;\"/><text fill=\"#000000\" font-family=\"sans-serif\" font-size=\"13\" lengthAdjust=\"spacingAndGlyphs\" textLength=\"8\" x=\"125.3489\" y=\"762.8492\">1</text></a><!--MD5=[14ccda38c055a5c0da953d572bc50960]\n",
       "link E7 to E3--><a href=\"psysml:de23f89f-df32-45d9-b344-47d8d19c4edc\" target=\"_top\" title=\"psysml:de23f89f-df32-45d9-b344-47d8d19c4edc\" xlink:actuate=\"onRequest\" xlink:href=\"psysml:de23f89f-df32-45d9-b344-47d8d19c4edc\" xlink:show=\"new\" xlink:title=\"psysml:de23f89f-df32-45d9-b344-47d8d19c4edc\" xlink:type=\"simple\"><path d=\"M95.8,782.47 C70.92,764.75 33,731.15 33,691 C33,384 33,384 33,384 C33,335.87 85.48,307.94 128.35,293.16 \" fill=\"none\" id=\"E7-&gt;E3\" style=\"stroke: #383838; stroke-width: 1.0;\"/><polygon fill=\"#FFFFFF\" points=\"147.45,287.18,131.4154,299.545,127.2259,286.1865,147.45,287.18\" style=\"stroke: #383838; stroke-width: 1.0;\"/><ellipse cx=\"125.3781\" cy=\"299.3424\" fill=\"#383838\" rx=\"2\" ry=\"2\" style=\"stroke: #383838; stroke-width: 1.0;\"/><ellipse cx=\"122.3856\" cy=\"289.8006\" fill=\"#383838\" rx=\"2\" ry=\"2\" style=\"stroke: #383838; stroke-width: 1.0;\"/></a><!--MD5=[dfaffb906826c3e5aca635516100ff21]\n",
       "link E5 to E8--><a href=\"psysml:feaf6c57-7b20-4701-8323-0c325a1238bf\" target=\"_top\" title=\"psysml:feaf6c57-7b20-4701-8323-0c325a1238bf\" xlink:actuate=\"onRequest\" xlink:href=\"psysml:feaf6c57-7b20-4701-8323-0c325a1238bf\" xlink:show=\"new\" xlink:title=\"psysml:feaf6c57-7b20-4701-8323-0c325a1238bf\" xlink:type=\"simple\"><path d=\"M239.23,408.25 C230.48,430.48 216.67,465.53 204.93,495.33 \" fill=\"none\" id=\"E5-&gt;E8\" style=\"stroke: #383838; stroke-width: 1.0;\"/><polygon fill=\"#FFFFFF\" points=\"197.58,513.98,198.027,493.7365,211.0538,498.8652,197.58,513.98\" style=\"stroke: #383838; stroke-width: 1.0;\"/><ellipse cx=\"201.9761\" cy=\"489.1654\" fill=\"#383838\" rx=\"2\" ry=\"2\" style=\"stroke: #383838; stroke-width: 1.0;\"/><ellipse cx=\"211.2809\" cy=\"492.8288\" fill=\"#383838\" rx=\"2\" ry=\"2\" style=\"stroke: #383838; stroke-width: 1.0;\"/></a><!--MD5=[03c8294790d3c57651a1993cecff665f]\n",
       "reverse link E8 to E3--><a href=\"psysml:f63e9e98-9395-484c-b7ba-710e403c3592\" target=\"_top\" title=\"psysml:f63e9e98-9395-484c-b7ba-710e403c3592\" xlink:actuate=\"onRequest\" xlink:href=\"psysml:f63e9e98-9395-484c-b7ba-710e403c3592\" xlink:show=\"new\" xlink:title=\"psysml:f63e9e98-9395-484c-b7ba-710e403c3592\" xlink:type=\"simple\"><path d=\"M154.57,502.18 C135.93,463.97 117.34,409.52 131,362 C137.48,339.45 152.09,317.09 164.17,301.27 \" fill=\"none\" id=\"E8&lt;-E3\" style=\"stroke: #383838; stroke-width: 1.0;\"/><polygon fill=\"#FFFFFF\" points=\"160.58,513.99,161.4217,506.8282,155.1345,503.2967,154.2928,510.4585,160.58,513.99\" style=\"stroke: #383838; stroke-width: 1.0;\"/><text fill=\"#000000\" font-family=\"sans-serif\" font-size=\"13\" lengthAdjust=\"spacingAndGlyphs\" textLength=\"7\" x=\"132\" y=\"389.5669\">y</text></a><!--MD5=[03c8294790d3c57651a1993cecff665f]\n",
       "reverse link E8 to E3--><a href=\"psysml:f63e9e98-9395-484c-b7ba-710e403c3592\" target=\"_top\" title=\"psysml:f63e9e98-9395-484c-b7ba-710e403c3592\" xlink:actuate=\"onRequest\" xlink:href=\"psysml:f63e9e98-9395-484c-b7ba-710e403c3592\" xlink:show=\"new\" xlink:title=\"psysml:f63e9e98-9395-484c-b7ba-710e403c3592\" xlink:type=\"simple\"><path d=\"M183,500.73 C183,441.17 183,344.58 183,301.26 \" fill=\"none\" id=\"E8&lt;-E3-1\" style=\"stroke: #383838; stroke-width: 1.0;\"/><polygon fill=\"#FFFFFF\" points=\"183,513.93,187,507.93,183,501.93,179,507.93,183,513.93\" style=\"stroke: #383838; stroke-width: 1.0;\"/><text fill=\"#000000\" font-family=\"sans-serif\" font-size=\"13\" lengthAdjust=\"spacingAndGlyphs\" textLength=\"7\" x=\"184\" y=\"389.5669\">y</text></a><!--MD5=[0d75d2178373a6a4568e5dc728f58aef]\n",
       "reverse link E8 to E6--><a href=\"psysml:f63e9e98-9395-484c-b7ba-710e403c3592\" target=\"_top\" title=\"psysml:f63e9e98-9395-484c-b7ba-710e403c3592\" xlink:actuate=\"onRequest\" xlink:href=\"psysml:f63e9e98-9395-484c-b7ba-710e403c3592\" xlink:show=\"new\" xlink:title=\"psysml:f63e9e98-9395-484c-b7ba-710e403c3592\" xlink:type=\"simple\"><path d=\"M160.42,603.02 C157.73,614.13 156.66,625.91 159,637 C161.16,647.24 165.48,657.91 169.79,666.91 \" fill=\"none\" id=\"E8&lt;-E6\" style=\"stroke: #383838; stroke-width: 1.0;\"/><polygon fill=\"#FFFFFF\" points=\"164.22,590.35,158.6675,594.9511,160.7791,601.8461,166.3316,597.245,164.22,590.35\" style=\"stroke: #383838; stroke-width: 1.0;\"/><text fill=\"#000000\" font-family=\"sans-serif\" font-size=\"13\" lengthAdjust=\"spacingAndGlyphs\" textLength=\"7\" x=\"160\" y=\"633.0669\">y</text></a><!--MD5=[0d75d2178373a6a4568e5dc728f58aef]\n",
       "reverse link E8 to E6--><a href=\"psysml:f63e9e98-9395-484c-b7ba-710e403c3592\" target=\"_top\" title=\"psysml:f63e9e98-9395-484c-b7ba-710e403c3592\" xlink:actuate=\"onRequest\" xlink:href=\"psysml:f63e9e98-9395-484c-b7ba-710e403c3592\" xlink:show=\"new\" xlink:title=\"psysml:f63e9e98-9395-484c-b7ba-710e403c3592\" xlink:type=\"simple\"><path d=\"M182.63,603.33 C182.47,625.16 182.29,649.6 182.16,666.77 \" fill=\"none\" id=\"E8&lt;-E6-1\" style=\"stroke: #383838; stroke-width: 1.0;\"/><polygon fill=\"#FFFFFF\" points=\"182.73,590.16,178.684,596.1291,182.6377,602.1596,186.6837,596.1906,182.73,590.16\" style=\"stroke: #383838; stroke-width: 1.0;\"/><text fill=\"#000000\" font-family=\"sans-serif\" font-size=\"13\" lengthAdjust=\"spacingAndGlyphs\" textLength=\"7\" x=\"183\" y=\"633.0669\">y</text></a><!--MD5=[23ac544a70576c3e717098101004234c]\n",
       "reverse link E9 to E10--><a href=\"psysml:f7fd9ae3-3fa5-48e2-b146-bf2078e3bf75\" target=\"_top\" title=\"psysml:f7fd9ae3-3fa5-48e2-b146-bf2078e3bf75\" xlink:actuate=\"onRequest\" xlink:href=\"psysml:f7fd9ae3-3fa5-48e2-b146-bf2078e3bf75\" xlink:show=\"new\" xlink:title=\"psysml:f7fd9ae3-3fa5-48e2-b146-bf2078e3bf75\" xlink:type=\"simple\"><path d=\"M131.16,99.57 C125.28,115.39 118.49,133.68 113.3,147.66 \" fill=\"none\" id=\"E9&lt;-E10\" style=\"stroke: #383838; stroke-width: 1.0;\"/><polygon fill=\"#FFFFFF\" points=\"135.82,87.01,129.9804,91.2408,131.6398,98.2584,137.4793,94.0276,135.82,87.01\" style=\"stroke: #383838; stroke-width: 1.0;\"/><text fill=\"#000000\" font-family=\"sans-serif\" font-size=\"13\" lengthAdjust=\"spacingAndGlyphs\" textLength=\"8\" x=\"106.4019\" y=\"136.8492\">1</text></a><!--MD5=[feeac5eb423634930294aa81f2d25a4c]\n",
       "link E10 to E3--><a href=\"psysml:09a722a7-3c7d-4d30-9bcf-d6d93c165304\" target=\"_top\" title=\"psysml:09a722a7-3c7d-4d30-9bcf-d6d93c165304\" xlink:actuate=\"onRequest\" xlink:href=\"psysml:09a722a7-3c7d-4d30-9bcf-d6d93c165304\" xlink:show=\"new\" xlink:title=\"psysml:09a722a7-3c7d-4d30-9bcf-d6d93c165304\" xlink:type=\"simple\"><path d=\"M121.35,194.01 C130.86,206.81 143.11,223.3 154.18,238.2 \" fill=\"none\" id=\"E10-&gt;E3\" style=\"stroke: #383838; stroke-width: 1.0;\"/><polygon fill=\"#FFFFFF\" points=\"166.4,254.66,149.4457,243.5896,160.6805,235.2361,166.4,254.66\" style=\"stroke: #383838; stroke-width: 1.0;\"/><ellipse cx=\"147.6496\" cy=\"237.8221\" fill=\"#383838\" rx=\"2\" ry=\"2\" style=\"stroke: #383838; stroke-width: 1.0;\"/><ellipse cx=\"155.6744\" cy=\"231.8554\" fill=\"#383838\" rx=\"2\" ry=\"2\" style=\"stroke: #383838; stroke-width: 1.0;\"/></a><!--MD5=[1fc04a95fd77ad5ce46c1a3027516051]\n",
       "reverse link E9 to E11--><a href=\"psysml:2308c13a-9c40-4baf-abe1-b4752fcfac30\" target=\"_top\" title=\"psysml:2308c13a-9c40-4baf-abe1-b4752fcfac30\" xlink:actuate=\"onRequest\" xlink:href=\"psysml:2308c13a-9c40-4baf-abe1-b4752fcfac30\" xlink:show=\"new\" xlink:title=\"psysml:2308c13a-9c40-4baf-abe1-b4752fcfac30\" xlink:type=\"simple\"><path d=\"M156.84,99.57 C162.72,115.39 169.51,133.68 174.7,147.66 \" fill=\"none\" id=\"E9&lt;-E11\" style=\"stroke: #383838; stroke-width: 1.0;\"/><polygon fill=\"#FFFFFF\" points=\"152.18,87.01,150.5207,94.0276,156.3602,98.2584,158.0196,91.2408,152.18,87.01\" style=\"stroke: #383838; stroke-width: 1.0;\"/><text fill=\"#000000\" font-family=\"sans-serif\" font-size=\"13\" lengthAdjust=\"spacingAndGlyphs\" textLength=\"8\" x=\"163.5481\" y=\"136.8492\">1</text></a><!--MD5=[0517f1ce58c4d5483948f93845c45e26]\n",
       "link E11 to E3--><a href=\"psysml:713baad2-05ac-404b-8904-f9720a0da3f6\" target=\"_top\" title=\"psysml:713baad2-05ac-404b-8904-f9720a0da3f6\" xlink:actuate=\"onRequest\" xlink:href=\"psysml:713baad2-05ac-404b-8904-f9720a0da3f6\" xlink:show=\"new\" xlink:title=\"psysml:713baad2-05ac-404b-8904-f9720a0da3f6\" xlink:type=\"simple\"><path d=\"M183,194.01 C183,205.69 183,220.46 183,234.28 \" fill=\"none\" id=\"E11-&gt;E3\" style=\"stroke: #383838; stroke-width: 1.0;\"/><polygon fill=\"#FFFFFF\" points=\"183,254.66,176,235.66,190,235.66,183,254.66\" style=\"stroke: #383838; stroke-width: 1.0;\"/><ellipse cx=\"178\" cy=\"229.96\" fill=\"#383838\" rx=\"2\" ry=\"2\" style=\"stroke: #383838; stroke-width: 1.0;\"/><ellipse cx=\"188\" cy=\"229.96\" fill=\"#383838\" rx=\"2\" ry=\"2\" style=\"stroke: #383838; stroke-width: 1.0;\"/></a><!--MD5=[3e0dac03f3a96f8549e9c7dea4606967]\n",
       "@startuml\r\n",
       " skinparam monochrome true\r\n",
       "skinparam classbackgroundcolor white\r\n",
       "skinparam shadowing false\r\n",
       "skinparam wrapWidth 300\r\n",
       "hide circle\r\n",
       "\r\n",
       "package \"ItemTest\" as E1  [[psysml:9c84b130-4496-45dd-acf0-f614adf4451b ]]  {\r\n",
       "comp usage \"f: A \" as E2  <<(T,blue) item>> [[psysml:046ce2e8-70d6-418b-9e34-4058f6a1e698 ]] {\r\n",
       "}\r\n",
       "comp def \"A\" as E3  <<(T,blue) item  def>> [[psysml:b761bda6-ef45-4173-adbe-8f17f5dd59b9 ]] {\r\n",
       "}\r\n",
       "comp usage \"b: B \" as E4  <<(T,blue) item>> [[psysml:5a9b7c1e-d921-40a5-84d4-dcafad1b8599 ]] {\r\n",
       "}\r\n",
       "comp usage \"c: C \" as E5  <<(T,blue) part>> [[psysml:c52e7c62-32ae-43e1-a51e-2d7f86512260 ]] {\r\n",
       "}\r\n",
       "comp def \"<i>B</i>\" as E6  <<(T,blue) item  def>> [[psysml:154f7142-f3c2-4f8f-a55c-1d31f59952e7 ]] {\r\n",
       "}\r\n",
       "comp usage \"<i>a</i>: A \" as E7  <<(T,blue) part>> [[psysml:3092a58e-bc17-492e-b3ac-d9b0c5d27ee1 ]] {\r\n",
       "}\r\n",
       "comp def \"C\" as E8  <<(T,blue) part  def>> [[psysml:a977dc12-1522-4e17-86ea-88834b4a9262 ]] {\r\n",
       "- - parameters - -\r\n",
       "<b>in</b> y: A, B\r\n",
       "}\r\n",
       "comp def \"P\" as E9  <<(T,blue) port  def>> [[psysml:505a0904-767f-4431-bdaf-f395e9a256c5 ]] {\r\n",
       "}\r\n",
       "comp usage \"a1: A \" as E10  <<(T,blue) item>> [[psysml:b48ee9ab-0a15-45ce-8465-86ae83c4be7f ]] {\r\n",
       "}\r\n",
       "comp usage \"a2: A \" as E11  <<(T,blue) item>> [[psysml:7b14a527-4e8d-41df-a91b-3ca9db44b1d9 ]] {\r\n",
       "}\r\n",
       "}\r\n",
       "E2 - -:|> E3 [[psysml:2913aa14-34e4-4ebc-b3c0-73cbbe37a712 ]] \r\n",
       "E3 *- - \"1\"E4 [[psysml:5a70b25d-3e65-48fe-9200-ece04e9de0ee ]] \r\n",
       "E3 o- - \"1\"E5 [[psysml:98aba136-2768-4c7e-bc34-95a5a6a911cd ]] \r\n",
       "E4 - -:|> E6 [[psysml:04be4dec-9fb2-423c-a400-1c82afc162c3 ]] \r\n",
       "E6 *- - \"1\"E7 [[psysml:88a05b08-39fe-46e7-8c9b-5df9e56fb426 ]] \r\n",
       "E7 - -:|> E3 [[psysml:de23f89f-df32-45d9-b344-47d8d19c4edc ]] \r\n",
       "E5 - -:|> E8 [[psysml:feaf6c57-7b20-4701-8323-0c325a1238bf ]] \r\n",
       "E8 o- - E3 [[psysml:f63e9e98-9395-484c-b7ba-710e403c3592 ]] : y\r\n",
       "E8 o- - E6 [[psysml:f63e9e98-9395-484c-b7ba-710e403c3592 ]] : y\r\n",
       "E8 o- - E3 [[psysml:f63e9e98-9395-484c-b7ba-710e403c3592 ]] : y\r\n",
       "E8 o- - E6 [[psysml:f63e9e98-9395-484c-b7ba-710e403c3592 ]] : y\r\n",
       "E9 o- - \"1\"E10 [[psysml:f7fd9ae3-3fa5-48e2-b146-bf2078e3bf75 ]] \r\n",
       "E10 - -:|> E3 [[psysml:09a722a7-3c7d-4d30-9bcf-d6d93c165304 ]] \r\n",
       "E9 o- - \"1\"E11 [[psysml:2308c13a-9c40-4baf-abe1-b4752fcfac30 ]] \r\n",
       "E11 - -:|> E3 [[psysml:713baad2-05ac-404b-8904-f9720a0da3f6 ]] \r\n",
       "@enduml\r\n",
       "\n",
       "PlantUML version 1.2020.13(Sat Jun 13 12:26:38 UTC 2020)\n",
       "(EPL source distribution)\n",
       "Java Runtime: OpenJDK Runtime Environment\n",
       "JVM: OpenJDK 64-Bit Server VM\n",
       "Default Encoding: UTF-8\n",
       "Language: en\n",
       "Country: null\n",
       "--></g></svg>"
      ]
     },
     "execution_count": 3,
     "metadata": {},
     "output_type": "execute_result"
    }
   ],
   "source": [
    "%viz --style=\"COMPTREE\" --view=\"Tree\" \"ItemTest\""
   ]
  },
  {
   "cell_type": "code",
   "execution_count": 4,
   "id": "673321ae",
   "metadata": {
    "execution": {
     "iopub.execute_input": "2021-10-25T08:20:52.633062Z",
     "iopub.status.busy": "2021-10-25T08:20:52.632515Z",
     "iopub.status.idle": "2021-10-25T08:20:52.641583Z",
     "shell.execute_reply": "2021-10-25T08:20:52.641910Z"
    }
   },
   "outputs": [
    {
     "data": {
      "image/svg+xml": [
       "<?xml version=\"1.0\" encoding=\"UTF-8\" standalone=\"no\"?><svg xmlns=\"http://www.w3.org/2000/svg\" xmlns:xlink=\"http://www.w3.org/1999/xlink\" contentScriptType=\"application/ecmascript\" contentStyleType=\"text/css\" height=\"12px\" preserveAspectRatio=\"none\" style=\"width:12px;height:12px;\" version=\"1.1\" viewBox=\"0 0 12 12\" width=\"12px\" zoomAndPan=\"magnify\"><defs/><g><!--MD5=[f19188ef49e11757b5c46753f95d9edc]\n",
       "@startuml\r\n",
       " skinparam monochrome true\r\n",
       "skinparam classbackgroundcolor white\r\n",
       "skinparam shadowing false\r\n",
       "skinparam wrapWidth 300\r\n",
       "hide circle\r\n",
       "\r\n",
       "@enduml\r\n",
       "\n",
       "PlantUML version 1.2020.13(Sat Jun 13 12:26:38 UTC 2020)\n",
       "(EPL source distribution)\n",
       "Java Runtime: OpenJDK Runtime Environment\n",
       "JVM: OpenJDK 64-Bit Server VM\n",
       "Default Encoding: UTF-8\n",
       "Language: en\n",
       "Country: null\n",
       "--></g></svg>"
      ]
     },
     "execution_count": 4,
     "metadata": {},
     "output_type": "execute_result"
    }
   ],
   "source": [
    "%viz --style=\"COMPTREE\" --view=\"State\" \"ItemTest\""
   ]
  },
  {
   "cell_type": "code",
   "execution_count": 5,
   "id": "1091238c",
   "metadata": {
    "execution": {
     "iopub.execute_input": "2021-10-25T08:20:52.691794Z",
     "iopub.status.busy": "2021-10-25T08:20:52.691380Z",
     "iopub.status.idle": "2021-10-25T08:20:52.732289Z",
     "shell.execute_reply": "2021-10-25T08:20:52.731802Z"
    }
   },
   "outputs": [
    {
     "data": {
      "image/svg+xml": [
       "<?xml version=\"1.0\" encoding=\"UTF-8\" standalone=\"no\"?><svg xmlns=\"http://www.w3.org/2000/svg\" xmlns:xlink=\"http://www.w3.org/1999/xlink\" contentScriptType=\"application/ecmascript\" contentStyleType=\"text/css\" height=\"112px\" preserveAspectRatio=\"none\" style=\"width:563px;height:112px;\" version=\"1.1\" viewBox=\"0 0 563 112\" width=\"563px\" zoomAndPan=\"magnify\"><defs/><g><!--MD5=[fbc87193dbaf4d95561dea2c320d4a47]\n",
       "cluster E1--><a href=\"psysml:9c84b130-4496-45dd-acf0-f614adf4451b\" target=\"_top\" title=\"psysml:9c84b130-4496-45dd-acf0-f614adf4451b\" xlink:actuate=\"onRequest\" xlink:href=\"psysml:9c84b130-4496-45dd-acf0-f614adf4451b\" xlink:show=\"new\" xlink:title=\"psysml:9c84b130-4496-45dd-acf0-f614adf4451b\" xlink:type=\"simple\"><polygon fill=\"#FFFFFF\" points=\"16,6,83,6,90,28.2969,541,28.2969,541,100,16,100,16,6\" style=\"stroke: #000000; stroke-width: 1.5;\"/><line style=\"stroke: #000000; stroke-width: 1.5;\" x1=\"16\" x2=\"90\" y1=\"28.2969\" y2=\"28.2969\"/><text fill=\"#000000\" font-family=\"sans-serif\" font-size=\"14\" font-weight=\"bold\" lengthAdjust=\"spacingAndGlyphs\" textLength=\"61\" x=\"20\" y=\"20.9951\">ItemTest</text></a><g id=\"E1.E3\"><a href=\"psysml:b761bda6-ef45-4173-adbe-8f17f5dd59b9\" target=\"_top\" title=\"psysml:b761bda6-ef45-4173-adbe-8f17f5dd59b9\" xlink:actuate=\"onRequest\" xlink:href=\"psysml:b761bda6-ef45-4173-adbe-8f17f5dd59b9\" xlink:show=\"new\" xlink:title=\"psysml:b761bda6-ef45-4173-adbe-8f17f5dd59b9\" xlink:type=\"simple\"><rect fill=\"#FFFFFF\" height=\"42.9375\" id=\"E3\" style=\"stroke: #383838; stroke-width: 1.5;\" width=\"76\" x=\"449\" y=\"41\"/><rect fill=\"#F8F8F8\" height=\"37.9375\" style=\"stroke: #383838; stroke-width: 1.5;\" width=\"76\" x=\"449\" y=\"41\"/><text fill=\"#000000\" font-family=\"sans-serif\" font-size=\"12\" font-style=\"italic\" lengthAdjust=\"spacingAndGlyphs\" textLength=\"69\" x=\"452.5\" y=\"57.1387\">«item  def»</text><text fill=\"#000000\" font-family=\"sans-serif\" font-size=\"12\" lengthAdjust=\"spacingAndGlyphs\" textLength=\"8\" x=\"483\" y=\"71.1074\">A</text></a></g><g id=\"E1.E4\"><a href=\"psysml:154f7142-f3c2-4f8f-a55c-1d31f59952e7\" target=\"_top\" title=\"psysml:154f7142-f3c2-4f8f-a55c-1d31f59952e7\" xlink:actuate=\"onRequest\" xlink:href=\"psysml:154f7142-f3c2-4f8f-a55c-1d31f59952e7\" xlink:show=\"new\" xlink:title=\"psysml:154f7142-f3c2-4f8f-a55c-1d31f59952e7\" xlink:type=\"simple\"><rect fill=\"#FFFFFF\" height=\"42.9375\" id=\"E4\" style=\"stroke: #383838; stroke-width: 1.5;\" width=\"76\" x=\"338\" y=\"41\"/><rect fill=\"#F8F8F8\" height=\"37.9375\" style=\"stroke: #383838; stroke-width: 1.5;\" width=\"76\" x=\"338\" y=\"41\"/><text fill=\"#000000\" font-family=\"sans-serif\" font-size=\"12\" font-style=\"italic\" lengthAdjust=\"spacingAndGlyphs\" textLength=\"69\" x=\"341.5\" y=\"57.1387\">«item  def»</text><text fill=\"#000000\" font-family=\"sans-serif\" font-size=\"12\" font-style=\"italic\" lengthAdjust=\"spacingAndGlyphs\" textLength=\"8\" x=\"372\" y=\"71.1074\">B</text></a></g><g id=\"E1.E6\"><a href=\"psysml:505a0904-767f-4431-bdaf-f395e9a256c5\" target=\"_top\" title=\"psysml:505a0904-767f-4431-bdaf-f395e9a256c5\" xlink:actuate=\"onRequest\" xlink:href=\"psysml:505a0904-767f-4431-bdaf-f395e9a256c5\" xlink:show=\"new\" xlink:title=\"psysml:505a0904-767f-4431-bdaf-f395e9a256c5\" xlink:type=\"simple\"><rect fill=\"#FFFFFF\" height=\"42.9375\" id=\"E6\" style=\"stroke: #383838; stroke-width: 1.5;\" width=\"75\" x=\"227.5\" y=\"41\"/><rect fill=\"#F8F8F8\" height=\"37.9375\" style=\"stroke: #383838; stroke-width: 1.5;\" width=\"75\" x=\"227.5\" y=\"41\"/><text fill=\"#000000\" font-family=\"sans-serif\" font-size=\"12\" font-style=\"italic\" lengthAdjust=\"spacingAndGlyphs\" textLength=\"68\" x=\"231\" y=\"57.1387\">«port  def»</text><text fill=\"#000000\" font-family=\"sans-serif\" font-size=\"12\" lengthAdjust=\"spacingAndGlyphs\" textLength=\"8\" x=\"261\" y=\"71.1074\">P</text></a></g><g id=\"E1.E2\"><a href=\"psysml:046ce2e8-70d6-418b-9e34-4058f6a1e698\" target=\"_top\" title=\"psysml:046ce2e8-70d6-418b-9e34-4058f6a1e698\" xlink:actuate=\"onRequest\" xlink:href=\"psysml:046ce2e8-70d6-418b-9e34-4058f6a1e698\" xlink:show=\"new\" xlink:title=\"psysml:046ce2e8-70d6-418b-9e34-4058f6a1e698\" xlink:type=\"simple\"><rect fill=\"#FFFFFF\" height=\"42.9375\" id=\"E2\" rx=\"10\" ry=\"10\" style=\"stroke: #383838; stroke-width: 1.5;\" width=\"50\" x=\"142\" y=\"41\"/><rect fill=\"#F8F8F8\" height=\"37.9375\" rx=\"10\" ry=\"10\" style=\"stroke: #F8F8F8; stroke-width: 1.5;\" width=\"50\" x=\"142\" y=\"41\"/><rect fill=\"#F8F8F8\" height=\"10\" style=\"stroke: #F8F8F8; stroke-width: 1.5;\" width=\"50\" x=\"142\" y=\"68.9375\"/><rect fill=\"none\" height=\"42.9375\" id=\"E2\" rx=\"10\" ry=\"10\" style=\"stroke: #383838; stroke-width: 1.5;\" width=\"50\" x=\"142\" y=\"41\"/><text fill=\"#000000\" font-family=\"sans-serif\" font-size=\"12\" font-style=\"italic\" lengthAdjust=\"spacingAndGlyphs\" textLength=\"41\" x=\"146.5\" y=\"57.1387\">«item»</text><text fill=\"#000000\" font-family=\"sans-serif\" font-size=\"12\" lengthAdjust=\"spacingAndGlyphs\" textLength=\"20\" x=\"157\" y=\"71.1074\">f: A</text></a></g><g id=\"E1.E5\"><a href=\"psysml:a977dc12-1522-4e17-86ea-88834b4a9262\" target=\"_top\" title=\"psysml:a977dc12-1522-4e17-86ea-88834b4a9262\" xlink:actuate=\"onRequest\" xlink:href=\"psysml:a977dc12-1522-4e17-86ea-88834b4a9262\" xlink:show=\"new\" xlink:title=\"psysml:a977dc12-1522-4e17-86ea-88834b4a9262\" xlink:type=\"simple\"><rect fill=\"#FFFFFF\" height=\"42.9375\" id=\"E5\" style=\"stroke: #383838; stroke-width: 1.5;\" width=\"75\" x=\"31.5\" y=\"41\"/><rect fill=\"#F8F8F8\" height=\"37.9375\" style=\"stroke: #383838; stroke-width: 1.5;\" width=\"75\" x=\"31.5\" y=\"41\"/><text fill=\"#000000\" font-family=\"sans-serif\" font-size=\"12\" font-style=\"italic\" lengthAdjust=\"spacingAndGlyphs\" textLength=\"68\" x=\"35\" y=\"57.1387\">«part  def»</text><text fill=\"#000000\" font-family=\"sans-serif\" font-size=\"12\" lengthAdjust=\"spacingAndGlyphs\" textLength=\"8\" x=\"65\" y=\"71.1074\">C</text></a></g><!--MD5=[32333a70d5e863b2542d254596dc75ce]\n",
       "@startuml\r\n",
       "skinparam ranksep 10\r\n",
       "skinparam rectangle {\r\n",
       " backgroundColor<<block>> LightGreen\r\n",
       "}\r\n",
       " skinparam monochrome true\r\n",
       "skinparam classbackgroundcolor white\r\n",
       "skinparam shadowing false\r\n",
       "skinparam wrapWidth 300\r\n",
       "hide circle\r\n",
       "\r\n",
       "package \"ItemTest\" as E1  [[psysml:9c84b130-4496-45dd-acf0-f614adf4451b ]]  {\r\n",
       "rec usage \"f: A\" as E2  <<(T,blue) item>> [[psysml:046ce2e8-70d6-418b-9e34-4058f6a1e698 ]] {\r\n",
       "}\r\n",
       "def \"A\" as E3  <<(T,blue) item  def>> [[psysml:b761bda6-ef45-4173-adbe-8f17f5dd59b9 ]] \r\n",
       "def \"<i>B</i>\" as E4  <<(T,blue) item  def>> [[psysml:154f7142-f3c2-4f8f-a55c-1d31f59952e7 ]] \r\n",
       "rec def \"C\" as E5  <<(T,blue) part  def>> [[psysml:a977dc12-1522-4e17-86ea-88834b4a9262 ]] {\r\n",
       "}\r\n",
       "def \"P\" as E6  <<(T,blue) port  def>> [[psysml:505a0904-767f-4431-bdaf-f395e9a256c5 ]] \r\n",
       "}\r\n",
       "@enduml\r\n",
       "\n",
       "PlantUML version 1.2020.13(Sat Jun 13 12:26:38 UTC 2020)\n",
       "(EPL source distribution)\n",
       "Java Runtime: OpenJDK Runtime Environment\n",
       "JVM: OpenJDK 64-Bit Server VM\n",
       "Default Encoding: UTF-8\n",
       "Language: en\n",
       "Country: null\n",
       "--></g></svg>"
      ]
     },
     "execution_count": 5,
     "metadata": {},
     "output_type": "execute_result"
    }
   ],
   "source": [
    "%viz --style=\"COMPTREE\" --view=\"Interconnection\" \"ItemTest\""
   ]
  },
  {
   "cell_type": "code",
   "execution_count": 6,
   "id": "b353db73",
   "metadata": {
    "execution": {
     "iopub.execute_input": "2021-10-25T08:20:52.781798Z",
     "iopub.status.busy": "2021-10-25T08:20:52.781359Z",
     "iopub.status.idle": "2021-10-25T08:20:52.790360Z",
     "shell.execute_reply": "2021-10-25T08:20:52.790685Z"
    }
   },
   "outputs": [
    {
     "data": {
      "image/svg+xml": [
       "<?xml version=\"1.0\" encoding=\"UTF-8\" standalone=\"no\"?><svg xmlns=\"http://www.w3.org/2000/svg\" xmlns:xlink=\"http://www.w3.org/1999/xlink\" contentScriptType=\"application/ecmascript\" contentStyleType=\"text/css\" height=\"12px\" preserveAspectRatio=\"none\" style=\"width:12px;height:12px;\" version=\"1.1\" viewBox=\"0 0 12 12\" width=\"12px\" zoomAndPan=\"magnify\"><defs/><g><!--MD5=[655b888544ca4751ea36af1068543f84]\n",
       "@startuml\r\n",
       "skinparam ranksep 8\r\n",
       " skinparam monochrome true\r\n",
       "skinparam classbackgroundcolor white\r\n",
       "skinparam shadowing false\r\n",
       "skinparam wrapWidth 300\r\n",
       "hide circle\r\n",
       "\r\n",
       "@enduml\r\n",
       "\n",
       "PlantUML version 1.2020.13(Sat Jun 13 12:26:38 UTC 2020)\n",
       "(EPL source distribution)\n",
       "Java Runtime: OpenJDK Runtime Environment\n",
       "JVM: OpenJDK 64-Bit Server VM\n",
       "Default Encoding: UTF-8\n",
       "Language: en\n",
       "Country: null\n",
       "--></g></svg>"
      ]
     },
     "execution_count": 6,
     "metadata": {},
     "output_type": "execute_result"
    }
   ],
   "source": [
    "%viz --style=\"COMPTREE\" --view=\"Action\" \"ItemTest\""
   ]
  },
  {
   "cell_type": "code",
   "execution_count": 7,
   "id": "2b00801a",
   "metadata": {
    "execution": {
     "iopub.execute_input": "2021-10-25T08:20:52.840412Z",
     "iopub.status.busy": "2021-10-25T08:20:52.839964Z",
     "iopub.status.idle": "2021-10-25T08:20:52.853467Z",
     "shell.execute_reply": "2021-10-25T08:20:52.853791Z"
    }
   },
   "outputs": [
    {
     "data": {
      "image/svg+xml": [
       "<?xml version=\"1.0\" encoding=\"UTF-8\" standalone=\"no\"?><svg xmlns=\"http://www.w3.org/2000/svg\" xmlns:xlink=\"http://www.w3.org/1999/xlink\" contentScriptType=\"application/ecmascript\" contentStyleType=\"text/css\" height=\"12px\" preserveAspectRatio=\"none\" style=\"width:12px;height:12px;\" version=\"1.1\" viewBox=\"0 0 12 12\" width=\"12px\" zoomAndPan=\"magnify\"><defs/><g><!--MD5=[803fc46c337be7a5c8a9831e35356779]\n",
       "@startuml\r\n",
       "skinparam roundcorner 20\r\n",
       "skinparam BoxPadding 20\r\n",
       "skinparam SequenceBoxBackgroundColor #white\r\n",
       "skinparam style strictuml\r\n",
       "skinparam maxMessageSize 100\r\n",
       " skinparam monochrome true\r\n",
       "skinparam classbackgroundcolor white\r\n",
       "skinparam shadowing false\r\n",
       "skinparam wrapWidth 300\r\n",
       "hide circle\r\n",
       "\r\n",
       "@enduml\r\n",
       "\n",
       "PlantUML version 1.2020.13(Sat Jun 13 12:26:38 UTC 2020)\n",
       "(EPL source distribution)\n",
       "Java Runtime: OpenJDK Runtime Environment\n",
       "JVM: OpenJDK 64-Bit Server VM\n",
       "Default Encoding: UTF-8\n",
       "Language: en\n",
       "Country: null\n",
       "--></g></svg>"
      ]
     },
     "execution_count": 7,
     "metadata": {},
     "output_type": "execute_result"
    }
   ],
   "source": [
    "%viz --style=\"COMPTREE\" --view=\"Sequence\" \"ItemTest\""
   ]
  },
  {
   "cell_type": "code",
   "execution_count": 8,
   "id": "9feafef5",
   "metadata": {
    "execution": {
     "iopub.execute_input": "2021-10-25T08:20:52.903508Z",
     "iopub.status.busy": "2021-10-25T08:20:52.903075Z",
     "iopub.status.idle": "2021-10-25T08:20:52.977438Z",
     "shell.execute_reply": "2021-10-25T08:20:52.974575Z"
    }
   },
   "outputs": [
    {
     "data": {
      "image/svg+xml": [
       "<?xml version=\"1.0\" encoding=\"UTF-8\" standalone=\"no\"?><svg xmlns=\"http://www.w3.org/2000/svg\" xmlns:xlink=\"http://www.w3.org/1999/xlink\" contentScriptType=\"application/ecmascript\" contentStyleType=\"text/css\" height=\"848px\" preserveAspectRatio=\"none\" style=\"width:344px;height:848px;\" version=\"1.1\" viewBox=\"0 0 344 848\" width=\"344px\" zoomAndPan=\"magnify\"><defs/><g><!--MD5=[fbc87193dbaf4d95561dea2c320d4a47]\n",
       "cluster E1--><a href=\"psysml:9c84b130-4496-45dd-acf0-f614adf4451b\" target=\"_top\" title=\"psysml:9c84b130-4496-45dd-acf0-f614adf4451b\" xlink:actuate=\"onRequest\" xlink:href=\"psysml:9c84b130-4496-45dd-acf0-f614adf4451b\" xlink:show=\"new\" xlink:title=\"psysml:9c84b130-4496-45dd-acf0-f614adf4451b\" xlink:type=\"simple\"><polygon fill=\"#FFFFFF\" points=\"16,6,83,6,90,28.2969,322,28.2969,322,836,16,836,16,6\" style=\"stroke: #000000; stroke-width: 1.5;\"/><line style=\"stroke: #000000; stroke-width: 1.5;\" x1=\"16\" x2=\"90\" y1=\"28.2969\" y2=\"28.2969\"/><text fill=\"#000000\" font-family=\"sans-serif\" font-size=\"14\" font-weight=\"bold\" lengthAdjust=\"spacingAndGlyphs\" textLength=\"61\" x=\"20\" y=\"20.9951\">ItemTest</text></a><!--MD5=[b4997ac47864f28c2f74865a473b2911]\n",
       "class E2--><a href=\"psysml:046ce2e8-70d6-418b-9e34-4058f6a1e698\" target=\"_top\" title=\"psysml:046ce2e8-70d6-418b-9e34-4058f6a1e698\" xlink:actuate=\"onRequest\" xlink:href=\"psysml:046ce2e8-70d6-418b-9e34-4058f6a1e698\" xlink:show=\"new\" xlink:title=\"psysml:046ce2e8-70d6-418b-9e34-4058f6a1e698\" xlink:type=\"simple\"><rect fill=\"#FFFFFF\" height=\"45.9375\" id=\"E2\" rx=\"10\" ry=\"10\" style=\"stroke: #383838; stroke-width: 1.5;\" width=\"43\" x=\"239.5\" y=\"148\"/><text fill=\"#000000\" font-family=\"sans-serif\" font-size=\"12\" font-style=\"italic\" lengthAdjust=\"spacingAndGlyphs\" textLength=\"41\" x=\"240.5\" y=\"164.1387\">«item»</text><text fill=\"#000000\" font-family=\"sans-serif\" font-size=\"12\" lengthAdjust=\"spacingAndGlyphs\" textLength=\"20\" x=\"249\" y=\"178.1074\">f: A</text><line style=\"stroke: #383838; stroke-width: 1.5;\" x1=\"240.5\" x2=\"281.5\" y1=\"185.9375\" y2=\"185.9375\"/></a><!--MD5=[09b614a08d8cba4a07c9adeb5e0fee81]\n",
       "class E3--><a href=\"psysml:b761bda6-ef45-4173-adbe-8f17f5dd59b9\" target=\"_top\" title=\"psysml:b761bda6-ef45-4173-adbe-8f17f5dd59b9\" xlink:actuate=\"onRequest\" xlink:href=\"psysml:b761bda6-ef45-4173-adbe-8f17f5dd59b9\" xlink:show=\"new\" xlink:title=\"psysml:b761bda6-ef45-4173-adbe-8f17f5dd59b9\" xlink:type=\"simple\"><rect fill=\"#FFFFFF\" height=\"45.9375\" id=\"E3\" style=\"stroke: #383838; stroke-width: 1.5;\" width=\"71\" x=\"147.5\" y=\"255\"/><text fill=\"#000000\" font-family=\"sans-serif\" font-size=\"12\" font-style=\"italic\" lengthAdjust=\"spacingAndGlyphs\" textLength=\"69\" x=\"148.5\" y=\"271.1387\">«item  def»</text><text fill=\"#000000\" font-family=\"sans-serif\" font-size=\"12\" lengthAdjust=\"spacingAndGlyphs\" textLength=\"8\" x=\"179\" y=\"285.1074\">A</text><line style=\"stroke: #383838; stroke-width: 1.5;\" x1=\"148.5\" x2=\"217.5\" y1=\"292.9375\" y2=\"292.9375\"/></a><!--MD5=[ebbe1d658d1005bcc118a6aa81145e00]\n",
       "class E4--><a href=\"psysml:5a9b7c1e-d921-40a5-84d4-dcafad1b8599\" target=\"_top\" title=\"psysml:5a9b7c1e-d921-40a5-84d4-dcafad1b8599\" xlink:actuate=\"onRequest\" xlink:href=\"psysml:5a9b7c1e-d921-40a5-84d4-dcafad1b8599\" xlink:show=\"new\" xlink:title=\"psysml:5a9b7c1e-d921-40a5-84d4-dcafad1b8599\" xlink:type=\"simple\"><rect fill=\"#FFFFFF\" height=\"45.9375\" id=\"E4\" rx=\"10\" ry=\"10\" style=\"stroke: #383838; stroke-width: 1.5;\" width=\"43\" x=\"255.5\" y=\"438\"/><text fill=\"#000000\" font-family=\"sans-serif\" font-size=\"12\" font-style=\"italic\" lengthAdjust=\"spacingAndGlyphs\" textLength=\"41\" x=\"256.5\" y=\"454.1387\">«item»</text><text fill=\"#000000\" font-family=\"sans-serif\" font-size=\"12\" lengthAdjust=\"spacingAndGlyphs\" textLength=\"24\" x=\"263\" y=\"468.1074\">b: B</text><line style=\"stroke: #383838; stroke-width: 1.5;\" x1=\"256.5\" x2=\"297.5\" y1=\"475.9375\" y2=\"475.9375\"/></a><!--MD5=[270fce915f116d4de14055a7c1d9a0f3]\n",
       "class E5--><a href=\"psysml:c52e7c62-32ae-43e1-a51e-2d7f86512260\" target=\"_top\" title=\"psysml:c52e7c62-32ae-43e1-a51e-2d7f86512260\" xlink:actuate=\"onRequest\" xlink:href=\"psysml:c52e7c62-32ae-43e1-a51e-2d7f86512260\" xlink:show=\"new\" xlink:title=\"psysml:c52e7c62-32ae-43e1-a51e-2d7f86512260\" xlink:type=\"simple\"><rect fill=\"#FFFFFF\" height=\"45.9375\" id=\"E5\" rx=\"10\" ry=\"10\" style=\"stroke: #383838; stroke-width: 1.5;\" width=\"42\" x=\"227\" y=\"362\"/><text fill=\"#000000\" font-family=\"sans-serif\" font-size=\"12\" font-style=\"italic\" lengthAdjust=\"spacingAndGlyphs\" textLength=\"40\" x=\"228\" y=\"378.1387\">«part»</text><text fill=\"#000000\" font-family=\"sans-serif\" font-size=\"12\" lengthAdjust=\"spacingAndGlyphs\" textLength=\"23\" x=\"234.5\" y=\"392.1074\">c: C</text><line style=\"stroke: #383838; stroke-width: 1.5;\" x1=\"228\" x2=\"268\" y1=\"399.9375\" y2=\"399.9375\"/></a><!--MD5=[60a26617385b1d2d0262a64233df1f8d]\n",
       "class E6--><a href=\"psysml:154f7142-f3c2-4f8f-a55c-1d31f59952e7\" target=\"_top\" title=\"psysml:154f7142-f3c2-4f8f-a55c-1d31f59952e7\" xlink:actuate=\"onRequest\" xlink:href=\"psysml:154f7142-f3c2-4f8f-a55c-1d31f59952e7\" xlink:show=\"new\" xlink:title=\"psysml:154f7142-f3c2-4f8f-a55c-1d31f59952e7\" xlink:type=\"simple\"><rect fill=\"#FFFFFF\" height=\"45.9375\" id=\"E6\" style=\"stroke: #383838; stroke-width: 1.5;\" width=\"71\" x=\"146.5\" y=\"667\"/><text fill=\"#000000\" font-family=\"sans-serif\" font-size=\"12\" font-style=\"italic\" lengthAdjust=\"spacingAndGlyphs\" textLength=\"69\" x=\"147.5\" y=\"683.1387\">«item  def»</text><text fill=\"#000000\" font-family=\"sans-serif\" font-size=\"12\" font-style=\"italic\" lengthAdjust=\"spacingAndGlyphs\" textLength=\"8\" x=\"178\" y=\"697.1074\">B</text><line style=\"stroke: #383838; stroke-width: 1.5;\" x1=\"147.5\" x2=\"216.5\" y1=\"704.9375\" y2=\"704.9375\"/></a><!--MD5=[2156ba9850f5573cc1fc38a6a4b2f02b]\n",
       "class E7--><a href=\"psysml:3092a58e-bc17-492e-b3ac-d9b0c5d27ee1\" target=\"_top\" title=\"psysml:3092a58e-bc17-492e-b3ac-d9b0c5d27ee1\" xlink:actuate=\"onRequest\" xlink:href=\"psysml:3092a58e-bc17-492e-b3ac-d9b0c5d27ee1\" xlink:show=\"new\" xlink:title=\"psysml:3092a58e-bc17-492e-b3ac-d9b0c5d27ee1\" xlink:type=\"simple\"><rect fill=\"#FFFFFF\" height=\"45.9375\" id=\"E7\" rx=\"10\" ry=\"10\" style=\"stroke: #383838; stroke-width: 1.5;\" width=\"42\" x=\"96\" y=\"774\"/><text fill=\"#000000\" font-family=\"sans-serif\" font-size=\"12\" font-style=\"italic\" lengthAdjust=\"spacingAndGlyphs\" textLength=\"40\" x=\"97\" y=\"790.1387\">«part»</text><text fill=\"#000000\" font-family=\"sans-serif\" font-size=\"12\" font-style=\"italic\" lengthAdjust=\"spacingAndGlyphs\" textLength=\"8\" x=\"103\" y=\"804.1074\">a</text><text fill=\"#000000\" font-family=\"sans-serif\" font-size=\"12\" lengthAdjust=\"spacingAndGlyphs\" textLength=\"16\" x=\"111\" y=\"804.1074\">: A</text><line style=\"stroke: #383838; stroke-width: 1.5;\" x1=\"97\" x2=\"137\" y1=\"811.9375\" y2=\"811.9375\"/></a><!--MD5=[b9389687b975829384b498ac4b7476b2]\n",
       "class E8--><a href=\"psysml:a977dc12-1522-4e17-86ea-88834b4a9262\" target=\"_top\" title=\"psysml:a977dc12-1522-4e17-86ea-88834b4a9262\" xlink:actuate=\"onRequest\" xlink:href=\"psysml:a977dc12-1522-4e17-86ea-88834b4a9262\" xlink:show=\"new\" xlink:title=\"psysml:a977dc12-1522-4e17-86ea-88834b4a9262\" xlink:type=\"simple\"><rect fill=\"#FFFFFF\" height=\"75.5469\" id=\"E8\" style=\"stroke: #383838; stroke-width: 1.5;\" width=\"75\" x=\"145.5\" y=\"514\"/><text fill=\"#000000\" font-family=\"sans-serif\" font-size=\"12\" font-style=\"italic\" lengthAdjust=\"spacingAndGlyphs\" textLength=\"68\" x=\"149\" y=\"530.1387\">«part  def»</text><text fill=\"#000000\" font-family=\"sans-serif\" font-size=\"12\" lengthAdjust=\"spacingAndGlyphs\" textLength=\"8\" x=\"179\" y=\"544.1074\">C</text><line style=\"stroke: #383838; stroke-width: 1.5;\" x1=\"146.5\" x2=\"219.5\" y1=\"551.9375\" y2=\"551.9375\"/><text fill=\"#000000\" font-family=\"sans-serif\" font-size=\"11\" font-weight=\"bold\" lengthAdjust=\"spacingAndGlyphs\" textLength=\"10\" x=\"151.5\" y=\"582.9526\">in</text><text fill=\"#000000\" font-family=\"sans-serif\" font-size=\"11\" lengthAdjust=\"spacingAndGlyphs\" textLength=\"37\" x=\"165.5\" y=\"582.9526\">y: A, B</text><line style=\"stroke: #383838; stroke-width: 1.0;\" x1=\"146.5\" x2=\"149.5\" y1=\"566.3398\" y2=\"566.3398\"/><text fill=\"#000000\" font-family=\"sans-serif\" font-size=\"11\" lengthAdjust=\"spacingAndGlyphs\" textLength=\"67\" x=\"149.5\" y=\"569.6479\">parameters</text><line style=\"stroke: #383838; stroke-width: 1.0;\" x1=\"216.5\" x2=\"219.5\" y1=\"566.3398\" y2=\"566.3398\"/></a><!--MD5=[fd4143e9d270a159db93a4ea2a975926]\n",
       "class E9--><a href=\"psysml:505a0904-767f-4431-bdaf-f395e9a256c5\" target=\"_top\" title=\"psysml:505a0904-767f-4431-bdaf-f395e9a256c5\" xlink:actuate=\"onRequest\" xlink:href=\"psysml:505a0904-767f-4431-bdaf-f395e9a256c5\" xlink:show=\"new\" xlink:title=\"psysml:505a0904-767f-4431-bdaf-f395e9a256c5\" xlink:type=\"simple\"><rect fill=\"#FFFFFF\" height=\"45.9375\" id=\"E9\" style=\"stroke: #383838; stroke-width: 1.5;\" width=\"70\" x=\"109\" y=\"41\"/><text fill=\"#000000\" font-family=\"sans-serif\" font-size=\"12\" font-style=\"italic\" lengthAdjust=\"spacingAndGlyphs\" textLength=\"68\" x=\"110\" y=\"57.1387\">«port  def»</text><text fill=\"#000000\" font-family=\"sans-serif\" font-size=\"12\" lengthAdjust=\"spacingAndGlyphs\" textLength=\"8\" x=\"140\" y=\"71.1074\">P</text><line style=\"stroke: #383838; stroke-width: 1.5;\" x1=\"110\" x2=\"178\" y1=\"78.9375\" y2=\"78.9375\"/></a><!--MD5=[96f4274e9e20536e775497830990834d]\n",
       "class E10--><a href=\"psysml:b48ee9ab-0a15-45ce-8465-86ae83c4be7f\" target=\"_top\" title=\"psysml:b48ee9ab-0a15-45ce-8465-86ae83c4be7f\" xlink:actuate=\"onRequest\" xlink:href=\"psysml:b48ee9ab-0a15-45ce-8465-86ae83c4be7f\" xlink:show=\"new\" xlink:title=\"psysml:b48ee9ab-0a15-45ce-8465-86ae83c4be7f\" xlink:type=\"simple\"><rect fill=\"#FFFFFF\" height=\"45.9375\" id=\"E10\" rx=\"10\" ry=\"10\" style=\"stroke: #383838; stroke-width: 1.5;\" width=\"43\" x=\"83.5\" y=\"148\"/><text fill=\"#000000\" font-family=\"sans-serif\" font-size=\"12\" font-style=\"italic\" lengthAdjust=\"spacingAndGlyphs\" textLength=\"41\" x=\"84.5\" y=\"164.1387\">«item»</text><text fill=\"#000000\" font-family=\"sans-serif\" font-size=\"12\" lengthAdjust=\"spacingAndGlyphs\" textLength=\"32\" x=\"87\" y=\"178.1074\">a1: A</text><line style=\"stroke: #383838; stroke-width: 1.5;\" x1=\"84.5\" x2=\"125.5\" y1=\"185.9375\" y2=\"185.9375\"/></a><!--MD5=[1dd1bfd58a279cf63c5f349dbc8fc6a1]\n",
       "class E11--><a href=\"psysml:7b14a527-4e8d-41df-a91b-3ca9db44b1d9\" target=\"_top\" title=\"psysml:7b14a527-4e8d-41df-a91b-3ca9db44b1d9\" xlink:actuate=\"onRequest\" xlink:href=\"psysml:7b14a527-4e8d-41df-a91b-3ca9db44b1d9\" xlink:show=\"new\" xlink:title=\"psysml:7b14a527-4e8d-41df-a91b-3ca9db44b1d9\" xlink:type=\"simple\"><rect fill=\"#FFFFFF\" height=\"45.9375\" id=\"E11\" rx=\"10\" ry=\"10\" style=\"stroke: #383838; stroke-width: 1.5;\" width=\"43\" x=\"161.5\" y=\"148\"/><text fill=\"#000000\" font-family=\"sans-serif\" font-size=\"12\" font-style=\"italic\" lengthAdjust=\"spacingAndGlyphs\" textLength=\"41\" x=\"162.5\" y=\"164.1387\">«item»</text><text fill=\"#000000\" font-family=\"sans-serif\" font-size=\"12\" lengthAdjust=\"spacingAndGlyphs\" textLength=\"32\" x=\"165\" y=\"178.1074\">a2: A</text><line style=\"stroke: #383838; stroke-width: 1.5;\" x1=\"162.5\" x2=\"203.5\" y1=\"185.9375\" y2=\"185.9375\"/></a><!--MD5=[2720a5a1f2c3fca2055b230370638851]\n",
       "link E2 to E3--><a href=\"psysml:2913aa14-34e4-4ebc-b3c0-73cbbe37a712\" target=\"_top\" title=\"psysml:2913aa14-34e4-4ebc-b3c0-73cbbe37a712\" xlink:actuate=\"onRequest\" xlink:href=\"psysml:2913aa14-34e4-4ebc-b3c0-73cbbe37a712\" xlink:show=\"new\" xlink:title=\"psysml:2913aa14-34e4-4ebc-b3c0-73cbbe37a712\" xlink:type=\"simple\"><path d=\"M244.65,194.01 C235.14,206.81 222.89,223.3 211.82,238.2 \" fill=\"none\" id=\"E2-&gt;E3\" style=\"stroke: #383838; stroke-width: 1.0;\"/><polygon fill=\"#FFFFFF\" points=\"199.6,254.66,205.3195,235.2361,216.5543,243.5896,199.6,254.66\" style=\"stroke: #383838; stroke-width: 1.0;\"/><ellipse cx=\"210.3256\" cy=\"231.8554\" fill=\"#383838\" rx=\"2\" ry=\"2\" style=\"stroke: #383838; stroke-width: 1.0;\"/><ellipse cx=\"218.3504\" cy=\"237.8221\" fill=\"#383838\" rx=\"2\" ry=\"2\" style=\"stroke: #383838; stroke-width: 1.0;\"/></a><!--MD5=[4672eba38e49728da53d11aeb285b987]\n",
       "reverse link E3 to E4--><a href=\"psysml:5a70b25d-3e65-48fe-9200-ece04e9de0ee\" target=\"_top\" title=\"psysml:5a70b25d-3e65-48fe-9200-ece04e9de0ee\" xlink:actuate=\"onRequest\" xlink:href=\"psysml:5a70b25d-3e65-48fe-9200-ece04e9de0ee\" xlink:show=\"new\" xlink:title=\"psysml:5a70b25d-3e65-48fe-9200-ece04e9de0ee\" xlink:type=\"simple\"><path d=\"M229.65,303.21 C251.35,317.2 274.97,337.01 287,362 C298.57,386.04 292.33,417.17 285.68,437.83 \" fill=\"none\" id=\"E3&lt;-E4\" style=\"stroke: #383838; stroke-width: 1.0;\"/><polygon fill=\"#383838\" points=\"218.55,296.43,221.5791,302.974,228.7848,302.6949,225.7557,296.1508,218.55,296.43\" style=\"stroke: #383838; stroke-width: 1.0;\"/><text fill=\"#000000\" font-family=\"sans-serif\" font-size=\"13\" lengthAdjust=\"spacingAndGlyphs\" textLength=\"8\" x=\"278.8793\" y=\"427.0627\">1</text></a><!--MD5=[191cde3d490a3f6d7bb551fe3ddca469]\n",
       "reverse link E3 to E5--><a href=\"psysml:98aba136-2768-4c7e-bc34-95a5a6a911cd\" target=\"_top\" title=\"psysml:98aba136-2768-4c7e-bc34-95a5a6a911cd\" xlink:actuate=\"onRequest\" xlink:href=\"psysml:98aba136-2768-4c7e-bc34-95a5a6a911cd\" xlink:show=\"new\" xlink:title=\"psysml:98aba136-2768-4c7e-bc34-95a5a6a911cd\" xlink:type=\"simple\"><path d=\"M203.52,312.15 C213.51,328.29 225.26,347.26 234.17,361.66 \" fill=\"none\" id=\"E3&lt;-E5\" style=\"stroke: #383838; stroke-width: 1.0;\"/><polygon fill=\"#FFFFFF\" points=\"196.63,301.01,196.3861,308.217,202.9449,311.214,203.1888,304.007,196.63,301.01\" style=\"stroke: #383838; stroke-width: 1.0;\"/><text fill=\"#000000\" font-family=\"sans-serif\" font-size=\"13\" lengthAdjust=\"spacingAndGlyphs\" textLength=\"8\" x=\"221.6011\" y=\"350.8492\">1</text></a><!--MD5=[79568f1e445c3877b6a54524624ccc7d]\n",
       "link E4 to E6--><a href=\"psysml:04be4dec-9fb2-423c-a400-1c82afc162c3\" target=\"_top\" title=\"psysml:04be4dec-9fb2-423c-a400-1c82afc162c3\" xlink:actuate=\"onRequest\" xlink:href=\"psysml:04be4dec-9fb2-423c-a400-1c82afc162c3\" xlink:show=\"new\" xlink:title=\"psysml:04be4dec-9fb2-423c-a400-1c82afc162c3\" xlink:type=\"simple\"><path d=\"M271.8,484.26 C265.37,510.22 253.39,554.13 238,590 C229.26,610.36 217.43,631.9 206.88,649.66 \" fill=\"none\" id=\"E4-&gt;E6\" style=\"stroke: #383838; stroke-width: 1.0;\"/><polygon fill=\"#FFFFFF\" points=\"196.36,666.92,200.2791,647.0544,212.2307,654.3454,196.36,666.92\" style=\"stroke: #383838; stroke-width: 1.0;\"/><ellipse cx=\"204.955\" cy=\"643.23\" fill=\"#383838\" rx=\"2\" ry=\"2\" style=\"stroke: #383838; stroke-width: 1.0;\"/><ellipse cx=\"213.4918\" cy=\"648.4378\" fill=\"#383838\" rx=\"2\" ry=\"2\" style=\"stroke: #383838; stroke-width: 1.0;\"/></a><!--MD5=[3f50a3473f1dfb74d3f76443e03635af]\n",
       "reverse link E6 to E7--><a href=\"psysml:88a05b08-39fe-46e7-8c9b-5df9e56fb426\" target=\"_top\" title=\"psysml:88a05b08-39fe-46e7-8c9b-5df9e56fb426\" xlink:actuate=\"onRequest\" xlink:href=\"psysml:88a05b08-39fe-46e7-8c9b-5df9e56fb426\" xlink:show=\"new\" xlink:title=\"psysml:88a05b08-39fe-46e7-8c9b-5df9e56fb426\" xlink:type=\"simple\"><path d=\"M161.48,724.15 C151.49,740.29 139.74,759.26 130.83,773.66 \" fill=\"none\" id=\"E6&lt;-E7\" style=\"stroke: #383838; stroke-width: 1.0;\"/><polygon fill=\"#383838\" points=\"168.37,713.01,161.8112,716.007,162.0551,723.214,168.6139,720.217,168.37,713.01\" style=\"stroke: #383838; stroke-width: 1.0;\"/><text fill=\"#000000\" font-family=\"sans-serif\" font-size=\"13\" lengthAdjust=\"spacingAndGlyphs\" textLength=\"8\" x=\"125.3489\" y=\"762.8492\">1</text></a><!--MD5=[14ccda38c055a5c0da953d572bc50960]\n",
       "link E7 to E3--><a href=\"psysml:de23f89f-df32-45d9-b344-47d8d19c4edc\" target=\"_top\" title=\"psysml:de23f89f-df32-45d9-b344-47d8d19c4edc\" xlink:actuate=\"onRequest\" xlink:href=\"psysml:de23f89f-df32-45d9-b344-47d8d19c4edc\" xlink:show=\"new\" xlink:title=\"psysml:de23f89f-df32-45d9-b344-47d8d19c4edc\" xlink:type=\"simple\"><path d=\"M95.8,782.47 C70.92,764.75 33,731.15 33,691 C33,384 33,384 33,384 C33,335.87 85.48,307.94 128.35,293.16 \" fill=\"none\" id=\"E7-&gt;E3\" style=\"stroke: #383838; stroke-width: 1.0;\"/><polygon fill=\"#FFFFFF\" points=\"147.45,287.18,131.4154,299.545,127.2259,286.1865,147.45,287.18\" style=\"stroke: #383838; stroke-width: 1.0;\"/><ellipse cx=\"125.3781\" cy=\"299.3424\" fill=\"#383838\" rx=\"2\" ry=\"2\" style=\"stroke: #383838; stroke-width: 1.0;\"/><ellipse cx=\"122.3856\" cy=\"289.8006\" fill=\"#383838\" rx=\"2\" ry=\"2\" style=\"stroke: #383838; stroke-width: 1.0;\"/></a><!--MD5=[dfaffb906826c3e5aca635516100ff21]\n",
       "link E5 to E8--><a href=\"psysml:feaf6c57-7b20-4701-8323-0c325a1238bf\" target=\"_top\" title=\"psysml:feaf6c57-7b20-4701-8323-0c325a1238bf\" xlink:actuate=\"onRequest\" xlink:href=\"psysml:feaf6c57-7b20-4701-8323-0c325a1238bf\" xlink:show=\"new\" xlink:title=\"psysml:feaf6c57-7b20-4701-8323-0c325a1238bf\" xlink:type=\"simple\"><path d=\"M239.23,408.25 C230.48,430.48 216.67,465.53 204.93,495.33 \" fill=\"none\" id=\"E5-&gt;E8\" style=\"stroke: #383838; stroke-width: 1.0;\"/><polygon fill=\"#FFFFFF\" points=\"197.58,513.98,198.027,493.7365,211.0538,498.8652,197.58,513.98\" style=\"stroke: #383838; stroke-width: 1.0;\"/><ellipse cx=\"201.9761\" cy=\"489.1654\" fill=\"#383838\" rx=\"2\" ry=\"2\" style=\"stroke: #383838; stroke-width: 1.0;\"/><ellipse cx=\"211.2809\" cy=\"492.8288\" fill=\"#383838\" rx=\"2\" ry=\"2\" style=\"stroke: #383838; stroke-width: 1.0;\"/></a><!--MD5=[03c8294790d3c57651a1993cecff665f]\n",
       "reverse link E8 to E3--><a href=\"psysml:f63e9e98-9395-484c-b7ba-710e403c3592\" target=\"_top\" title=\"psysml:f63e9e98-9395-484c-b7ba-710e403c3592\" xlink:actuate=\"onRequest\" xlink:href=\"psysml:f63e9e98-9395-484c-b7ba-710e403c3592\" xlink:show=\"new\" xlink:title=\"psysml:f63e9e98-9395-484c-b7ba-710e403c3592\" xlink:type=\"simple\"><path d=\"M154.57,502.18 C135.93,463.97 117.34,409.52 131,362 C137.48,339.45 152.09,317.09 164.17,301.27 \" fill=\"none\" id=\"E8&lt;-E3\" style=\"stroke: #383838; stroke-width: 1.0;\"/><polygon fill=\"#FFFFFF\" points=\"160.58,513.99,161.4217,506.8282,155.1345,503.2967,154.2928,510.4585,160.58,513.99\" style=\"stroke: #383838; stroke-width: 1.0;\"/><text fill=\"#000000\" font-family=\"sans-serif\" font-size=\"13\" lengthAdjust=\"spacingAndGlyphs\" textLength=\"7\" x=\"132\" y=\"389.5669\">y</text></a><!--MD5=[03c8294790d3c57651a1993cecff665f]\n",
       "reverse link E8 to E3--><a href=\"psysml:f63e9e98-9395-484c-b7ba-710e403c3592\" target=\"_top\" title=\"psysml:f63e9e98-9395-484c-b7ba-710e403c3592\" xlink:actuate=\"onRequest\" xlink:href=\"psysml:f63e9e98-9395-484c-b7ba-710e403c3592\" xlink:show=\"new\" xlink:title=\"psysml:f63e9e98-9395-484c-b7ba-710e403c3592\" xlink:type=\"simple\"><path d=\"M183,500.73 C183,441.17 183,344.58 183,301.26 \" fill=\"none\" id=\"E8&lt;-E3-1\" style=\"stroke: #383838; stroke-width: 1.0;\"/><polygon fill=\"#FFFFFF\" points=\"183,513.93,187,507.93,183,501.93,179,507.93,183,513.93\" style=\"stroke: #383838; stroke-width: 1.0;\"/><text fill=\"#000000\" font-family=\"sans-serif\" font-size=\"13\" lengthAdjust=\"spacingAndGlyphs\" textLength=\"7\" x=\"184\" y=\"389.5669\">y</text></a><!--MD5=[0d75d2178373a6a4568e5dc728f58aef]\n",
       "reverse link E8 to E6--><a href=\"psysml:f63e9e98-9395-484c-b7ba-710e403c3592\" target=\"_top\" title=\"psysml:f63e9e98-9395-484c-b7ba-710e403c3592\" xlink:actuate=\"onRequest\" xlink:href=\"psysml:f63e9e98-9395-484c-b7ba-710e403c3592\" xlink:show=\"new\" xlink:title=\"psysml:f63e9e98-9395-484c-b7ba-710e403c3592\" xlink:type=\"simple\"><path d=\"M160.42,603.02 C157.73,614.13 156.66,625.91 159,637 C161.16,647.24 165.48,657.91 169.79,666.91 \" fill=\"none\" id=\"E8&lt;-E6\" style=\"stroke: #383838; stroke-width: 1.0;\"/><polygon fill=\"#FFFFFF\" points=\"164.22,590.35,158.6675,594.9511,160.7791,601.8461,166.3316,597.245,164.22,590.35\" style=\"stroke: #383838; stroke-width: 1.0;\"/><text fill=\"#000000\" font-family=\"sans-serif\" font-size=\"13\" lengthAdjust=\"spacingAndGlyphs\" textLength=\"7\" x=\"160\" y=\"633.0669\">y</text></a><!--MD5=[0d75d2178373a6a4568e5dc728f58aef]\n",
       "reverse link E8 to E6--><a href=\"psysml:f63e9e98-9395-484c-b7ba-710e403c3592\" target=\"_top\" title=\"psysml:f63e9e98-9395-484c-b7ba-710e403c3592\" xlink:actuate=\"onRequest\" xlink:href=\"psysml:f63e9e98-9395-484c-b7ba-710e403c3592\" xlink:show=\"new\" xlink:title=\"psysml:f63e9e98-9395-484c-b7ba-710e403c3592\" xlink:type=\"simple\"><path d=\"M182.63,603.33 C182.47,625.16 182.29,649.6 182.16,666.77 \" fill=\"none\" id=\"E8&lt;-E6-1\" style=\"stroke: #383838; stroke-width: 1.0;\"/><polygon fill=\"#FFFFFF\" points=\"182.73,590.16,178.684,596.1291,182.6377,602.1596,186.6837,596.1906,182.73,590.16\" style=\"stroke: #383838; stroke-width: 1.0;\"/><text fill=\"#000000\" font-family=\"sans-serif\" font-size=\"13\" lengthAdjust=\"spacingAndGlyphs\" textLength=\"7\" x=\"183\" y=\"633.0669\">y</text></a><!--MD5=[23ac544a70576c3e717098101004234c]\n",
       "reverse link E9 to E10--><a href=\"psysml:f7fd9ae3-3fa5-48e2-b146-bf2078e3bf75\" target=\"_top\" title=\"psysml:f7fd9ae3-3fa5-48e2-b146-bf2078e3bf75\" xlink:actuate=\"onRequest\" xlink:href=\"psysml:f7fd9ae3-3fa5-48e2-b146-bf2078e3bf75\" xlink:show=\"new\" xlink:title=\"psysml:f7fd9ae3-3fa5-48e2-b146-bf2078e3bf75\" xlink:type=\"simple\"><path d=\"M131.16,99.57 C125.28,115.39 118.49,133.68 113.3,147.66 \" fill=\"none\" id=\"E9&lt;-E10\" style=\"stroke: #383838; stroke-width: 1.0;\"/><polygon fill=\"#FFFFFF\" points=\"135.82,87.01,129.9804,91.2408,131.6398,98.2584,137.4793,94.0276,135.82,87.01\" style=\"stroke: #383838; stroke-width: 1.0;\"/><text fill=\"#000000\" font-family=\"sans-serif\" font-size=\"13\" lengthAdjust=\"spacingAndGlyphs\" textLength=\"8\" x=\"106.4019\" y=\"136.8492\">1</text></a><!--MD5=[feeac5eb423634930294aa81f2d25a4c]\n",
       "link E10 to E3--><a href=\"psysml:09a722a7-3c7d-4d30-9bcf-d6d93c165304\" target=\"_top\" title=\"psysml:09a722a7-3c7d-4d30-9bcf-d6d93c165304\" xlink:actuate=\"onRequest\" xlink:href=\"psysml:09a722a7-3c7d-4d30-9bcf-d6d93c165304\" xlink:show=\"new\" xlink:title=\"psysml:09a722a7-3c7d-4d30-9bcf-d6d93c165304\" xlink:type=\"simple\"><path d=\"M121.35,194.01 C130.86,206.81 143.11,223.3 154.18,238.2 \" fill=\"none\" id=\"E10-&gt;E3\" style=\"stroke: #383838; stroke-width: 1.0;\"/><polygon fill=\"#FFFFFF\" points=\"166.4,254.66,149.4457,243.5896,160.6805,235.2361,166.4,254.66\" style=\"stroke: #383838; stroke-width: 1.0;\"/><ellipse cx=\"147.6496\" cy=\"237.8221\" fill=\"#383838\" rx=\"2\" ry=\"2\" style=\"stroke: #383838; stroke-width: 1.0;\"/><ellipse cx=\"155.6744\" cy=\"231.8554\" fill=\"#383838\" rx=\"2\" ry=\"2\" style=\"stroke: #383838; stroke-width: 1.0;\"/></a><!--MD5=[1fc04a95fd77ad5ce46c1a3027516051]\n",
       "reverse link E9 to E11--><a href=\"psysml:2308c13a-9c40-4baf-abe1-b4752fcfac30\" target=\"_top\" title=\"psysml:2308c13a-9c40-4baf-abe1-b4752fcfac30\" xlink:actuate=\"onRequest\" xlink:href=\"psysml:2308c13a-9c40-4baf-abe1-b4752fcfac30\" xlink:show=\"new\" xlink:title=\"psysml:2308c13a-9c40-4baf-abe1-b4752fcfac30\" xlink:type=\"simple\"><path d=\"M156.84,99.57 C162.72,115.39 169.51,133.68 174.7,147.66 \" fill=\"none\" id=\"E9&lt;-E11\" style=\"stroke: #383838; stroke-width: 1.0;\"/><polygon fill=\"#FFFFFF\" points=\"152.18,87.01,150.5207,94.0276,156.3602,98.2584,158.0196,91.2408,152.18,87.01\" style=\"stroke: #383838; stroke-width: 1.0;\"/><text fill=\"#000000\" font-family=\"sans-serif\" font-size=\"13\" lengthAdjust=\"spacingAndGlyphs\" textLength=\"8\" x=\"163.5481\" y=\"136.8492\">1</text></a><!--MD5=[0517f1ce58c4d5483948f93845c45e26]\n",
       "link E11 to E3--><a href=\"psysml:713baad2-05ac-404b-8904-f9720a0da3f6\" target=\"_top\" title=\"psysml:713baad2-05ac-404b-8904-f9720a0da3f6\" xlink:actuate=\"onRequest\" xlink:href=\"psysml:713baad2-05ac-404b-8904-f9720a0da3f6\" xlink:show=\"new\" xlink:title=\"psysml:713baad2-05ac-404b-8904-f9720a0da3f6\" xlink:type=\"simple\"><path d=\"M183,194.01 C183,205.69 183,220.46 183,234.28 \" fill=\"none\" id=\"E11-&gt;E3\" style=\"stroke: #383838; stroke-width: 1.0;\"/><polygon fill=\"#FFFFFF\" points=\"183,254.66,176,235.66,190,235.66,183,254.66\" style=\"stroke: #383838; stroke-width: 1.0;\"/><ellipse cx=\"178\" cy=\"229.96\" fill=\"#383838\" rx=\"2\" ry=\"2\" style=\"stroke: #383838; stroke-width: 1.0;\"/><ellipse cx=\"188\" cy=\"229.96\" fill=\"#383838\" rx=\"2\" ry=\"2\" style=\"stroke: #383838; stroke-width: 1.0;\"/></a><!--MD5=[3e0dac03f3a96f8549e9c7dea4606967]\n",
       "@startuml\r\n",
       " skinparam monochrome true\r\n",
       "skinparam classbackgroundcolor white\r\n",
       "skinparam shadowing false\r\n",
       "skinparam wrapWidth 300\r\n",
       "hide circle\r\n",
       "\r\n",
       "package \"ItemTest\" as E1  [[psysml:9c84b130-4496-45dd-acf0-f614adf4451b ]]  {\r\n",
       "comp usage \"f: A \" as E2  <<(T,blue) item>> [[psysml:046ce2e8-70d6-418b-9e34-4058f6a1e698 ]] {\r\n",
       "}\r\n",
       "comp def \"A\" as E3  <<(T,blue) item  def>> [[psysml:b761bda6-ef45-4173-adbe-8f17f5dd59b9 ]] {\r\n",
       "}\r\n",
       "comp usage \"b: B \" as E4  <<(T,blue) item>> [[psysml:5a9b7c1e-d921-40a5-84d4-dcafad1b8599 ]] {\r\n",
       "}\r\n",
       "comp usage \"c: C \" as E5  <<(T,blue) part>> [[psysml:c52e7c62-32ae-43e1-a51e-2d7f86512260 ]] {\r\n",
       "}\r\n",
       "comp def \"<i>B</i>\" as E6  <<(T,blue) item  def>> [[psysml:154f7142-f3c2-4f8f-a55c-1d31f59952e7 ]] {\r\n",
       "}\r\n",
       "comp usage \"<i>a</i>: A \" as E7  <<(T,blue) part>> [[psysml:3092a58e-bc17-492e-b3ac-d9b0c5d27ee1 ]] {\r\n",
       "}\r\n",
       "comp def \"C\" as E8  <<(T,blue) part  def>> [[psysml:a977dc12-1522-4e17-86ea-88834b4a9262 ]] {\r\n",
       "- - parameters - -\r\n",
       "<b>in</b> y: A, B\r\n",
       "}\r\n",
       "comp def \"P\" as E9  <<(T,blue) port  def>> [[psysml:505a0904-767f-4431-bdaf-f395e9a256c5 ]] {\r\n",
       "}\r\n",
       "comp usage \"a1: A \" as E10  <<(T,blue) item>> [[psysml:b48ee9ab-0a15-45ce-8465-86ae83c4be7f ]] {\r\n",
       "}\r\n",
       "comp usage \"a2: A \" as E11  <<(T,blue) item>> [[psysml:7b14a527-4e8d-41df-a91b-3ca9db44b1d9 ]] {\r\n",
       "}\r\n",
       "}\r\n",
       "E2 - -:|> E3 [[psysml:2913aa14-34e4-4ebc-b3c0-73cbbe37a712 ]] \r\n",
       "E3 *- - \"1\"E4 [[psysml:5a70b25d-3e65-48fe-9200-ece04e9de0ee ]] \r\n",
       "E3 o- - \"1\"E5 [[psysml:98aba136-2768-4c7e-bc34-95a5a6a911cd ]] \r\n",
       "E4 - -:|> E6 [[psysml:04be4dec-9fb2-423c-a400-1c82afc162c3 ]] \r\n",
       "E6 *- - \"1\"E7 [[psysml:88a05b08-39fe-46e7-8c9b-5df9e56fb426 ]] \r\n",
       "E7 - -:|> E3 [[psysml:de23f89f-df32-45d9-b344-47d8d19c4edc ]] \r\n",
       "E5 - -:|> E8 [[psysml:feaf6c57-7b20-4701-8323-0c325a1238bf ]] \r\n",
       "E8 o- - E3 [[psysml:f63e9e98-9395-484c-b7ba-710e403c3592 ]] : y\r\n",
       "E8 o- - E6 [[psysml:f63e9e98-9395-484c-b7ba-710e403c3592 ]] : y\r\n",
       "E8 o- - E3 [[psysml:f63e9e98-9395-484c-b7ba-710e403c3592 ]] : y\r\n",
       "E8 o- - E6 [[psysml:f63e9e98-9395-484c-b7ba-710e403c3592 ]] : y\r\n",
       "E9 o- - \"1\"E10 [[psysml:f7fd9ae3-3fa5-48e2-b146-bf2078e3bf75 ]] \r\n",
       "E10 - -:|> E3 [[psysml:09a722a7-3c7d-4d30-9bcf-d6d93c165304 ]] \r\n",
       "E9 o- - \"1\"E11 [[psysml:2308c13a-9c40-4baf-abe1-b4752fcfac30 ]] \r\n",
       "E11 - -:|> E3 [[psysml:713baad2-05ac-404b-8904-f9720a0da3f6 ]] \r\n",
       "@enduml\r\n",
       "\n",
       "PlantUML version 1.2020.13(Sat Jun 13 12:26:38 UTC 2020)\n",
       "(EPL source distribution)\n",
       "Java Runtime: OpenJDK Runtime Environment\n",
       "JVM: OpenJDK 64-Bit Server VM\n",
       "Default Encoding: UTF-8\n",
       "Language: en\n",
       "Country: null\n",
       "--></g></svg>"
      ]
     },
     "execution_count": 8,
     "metadata": {},
     "output_type": "execute_result"
    }
   ],
   "source": [
    "%viz --style=\"COMPTREE\" --view=\"MIXED\" \"ItemTest\""
   ]
  },
  {
   "cell_type": "code",
   "execution_count": 9,
   "id": "d9c833bf",
   "metadata": {
    "execution": {
     "iopub.execute_input": "2021-10-25T08:20:53.025488Z",
     "iopub.status.busy": "2021-10-25T08:20:53.025066Z",
     "iopub.status.idle": "2021-10-25T08:20:53.100396Z",
     "shell.execute_reply": "2021-10-25T08:20:53.097508Z"
    }
   },
   "outputs": [
    {
     "data": {
      "image/svg+xml": [
       "<?xml version=\"1.0\" encoding=\"UTF-8\" standalone=\"no\"?><svg xmlns=\"http://www.w3.org/2000/svg\" xmlns:xlink=\"http://www.w3.org/1999/xlink\" contentScriptType=\"application/ecmascript\" contentStyleType=\"text/css\" height=\"848px\" preserveAspectRatio=\"none\" style=\"width:344px;height:848px;\" version=\"1.1\" viewBox=\"0 0 344 848\" width=\"344px\" zoomAndPan=\"magnify\"><defs/><g><!--MD5=[fbc87193dbaf4d95561dea2c320d4a47]\n",
       "cluster E1--><a href=\"psysml:9c84b130-4496-45dd-acf0-f614adf4451b\" target=\"_top\" title=\"psysml:9c84b130-4496-45dd-acf0-f614adf4451b\" xlink:actuate=\"onRequest\" xlink:href=\"psysml:9c84b130-4496-45dd-acf0-f614adf4451b\" xlink:show=\"new\" xlink:title=\"psysml:9c84b130-4496-45dd-acf0-f614adf4451b\" xlink:type=\"simple\"><polygon fill=\"#FFFFFF\" points=\"16,6,83,6,90,28.2969,322,28.2969,322,836,16,836,16,6\" style=\"stroke: #000000; stroke-width: 1.5;\"/><line style=\"stroke: #000000; stroke-width: 1.5;\" x1=\"16\" x2=\"90\" y1=\"28.2969\" y2=\"28.2969\"/><text fill=\"#000000\" font-family=\"sans-serif\" font-size=\"14\" font-weight=\"bold\" lengthAdjust=\"spacingAndGlyphs\" textLength=\"61\" x=\"20\" y=\"20.9951\">ItemTest</text></a><!--MD5=[b4997ac47864f28c2f74865a473b2911]\n",
       "class E2--><a href=\"psysml:046ce2e8-70d6-418b-9e34-4058f6a1e698\" target=\"_top\" title=\"psysml:046ce2e8-70d6-418b-9e34-4058f6a1e698\" xlink:actuate=\"onRequest\" xlink:href=\"psysml:046ce2e8-70d6-418b-9e34-4058f6a1e698\" xlink:show=\"new\" xlink:title=\"psysml:046ce2e8-70d6-418b-9e34-4058f6a1e698\" xlink:type=\"simple\"><rect fill=\"#FFFFFF\" height=\"45.9375\" id=\"E2\" rx=\"10\" ry=\"10\" style=\"stroke: #383838; stroke-width: 1.5;\" width=\"43\" x=\"239.5\" y=\"148\"/><text fill=\"#000000\" font-family=\"sans-serif\" font-size=\"12\" font-style=\"italic\" lengthAdjust=\"spacingAndGlyphs\" textLength=\"41\" x=\"240.5\" y=\"164.1387\">«item»</text><text fill=\"#000000\" font-family=\"sans-serif\" font-size=\"12\" lengthAdjust=\"spacingAndGlyphs\" textLength=\"20\" x=\"249\" y=\"178.1074\">f: A</text><line style=\"stroke: #383838; stroke-width: 1.5;\" x1=\"240.5\" x2=\"281.5\" y1=\"185.9375\" y2=\"185.9375\"/></a><!--MD5=[09b614a08d8cba4a07c9adeb5e0fee81]\n",
       "class E3--><a href=\"psysml:b761bda6-ef45-4173-adbe-8f17f5dd59b9\" target=\"_top\" title=\"psysml:b761bda6-ef45-4173-adbe-8f17f5dd59b9\" xlink:actuate=\"onRequest\" xlink:href=\"psysml:b761bda6-ef45-4173-adbe-8f17f5dd59b9\" xlink:show=\"new\" xlink:title=\"psysml:b761bda6-ef45-4173-adbe-8f17f5dd59b9\" xlink:type=\"simple\"><rect fill=\"#FFFFFF\" height=\"45.9375\" id=\"E3\" style=\"stroke: #383838; stroke-width: 1.5;\" width=\"71\" x=\"147.5\" y=\"255\"/><text fill=\"#000000\" font-family=\"sans-serif\" font-size=\"12\" font-style=\"italic\" lengthAdjust=\"spacingAndGlyphs\" textLength=\"69\" x=\"148.5\" y=\"271.1387\">«item  def»</text><text fill=\"#000000\" font-family=\"sans-serif\" font-size=\"12\" lengthAdjust=\"spacingAndGlyphs\" textLength=\"8\" x=\"179\" y=\"285.1074\">A</text><line style=\"stroke: #383838; stroke-width: 1.5;\" x1=\"148.5\" x2=\"217.5\" y1=\"292.9375\" y2=\"292.9375\"/></a><!--MD5=[ebbe1d658d1005bcc118a6aa81145e00]\n",
       "class E4--><a href=\"psysml:5a9b7c1e-d921-40a5-84d4-dcafad1b8599\" target=\"_top\" title=\"psysml:5a9b7c1e-d921-40a5-84d4-dcafad1b8599\" xlink:actuate=\"onRequest\" xlink:href=\"psysml:5a9b7c1e-d921-40a5-84d4-dcafad1b8599\" xlink:show=\"new\" xlink:title=\"psysml:5a9b7c1e-d921-40a5-84d4-dcafad1b8599\" xlink:type=\"simple\"><rect fill=\"#FFFFFF\" height=\"45.9375\" id=\"E4\" rx=\"10\" ry=\"10\" style=\"stroke: #383838; stroke-width: 1.5;\" width=\"43\" x=\"255.5\" y=\"438\"/><text fill=\"#000000\" font-family=\"sans-serif\" font-size=\"12\" font-style=\"italic\" lengthAdjust=\"spacingAndGlyphs\" textLength=\"41\" x=\"256.5\" y=\"454.1387\">«item»</text><text fill=\"#000000\" font-family=\"sans-serif\" font-size=\"12\" lengthAdjust=\"spacingAndGlyphs\" textLength=\"24\" x=\"263\" y=\"468.1074\">b: B</text><line style=\"stroke: #383838; stroke-width: 1.5;\" x1=\"256.5\" x2=\"297.5\" y1=\"475.9375\" y2=\"475.9375\"/></a><!--MD5=[270fce915f116d4de14055a7c1d9a0f3]\n",
       "class E5--><a href=\"psysml:c52e7c62-32ae-43e1-a51e-2d7f86512260\" target=\"_top\" title=\"psysml:c52e7c62-32ae-43e1-a51e-2d7f86512260\" xlink:actuate=\"onRequest\" xlink:href=\"psysml:c52e7c62-32ae-43e1-a51e-2d7f86512260\" xlink:show=\"new\" xlink:title=\"psysml:c52e7c62-32ae-43e1-a51e-2d7f86512260\" xlink:type=\"simple\"><rect fill=\"#FFFFFF\" height=\"45.9375\" id=\"E5\" rx=\"10\" ry=\"10\" style=\"stroke: #383838; stroke-width: 1.5;\" width=\"42\" x=\"227\" y=\"362\"/><text fill=\"#000000\" font-family=\"sans-serif\" font-size=\"12\" font-style=\"italic\" lengthAdjust=\"spacingAndGlyphs\" textLength=\"40\" x=\"228\" y=\"378.1387\">«part»</text><text fill=\"#000000\" font-family=\"sans-serif\" font-size=\"12\" lengthAdjust=\"spacingAndGlyphs\" textLength=\"23\" x=\"234.5\" y=\"392.1074\">c: C</text><line style=\"stroke: #383838; stroke-width: 1.5;\" x1=\"228\" x2=\"268\" y1=\"399.9375\" y2=\"399.9375\"/></a><!--MD5=[60a26617385b1d2d0262a64233df1f8d]\n",
       "class E6--><a href=\"psysml:154f7142-f3c2-4f8f-a55c-1d31f59952e7\" target=\"_top\" title=\"psysml:154f7142-f3c2-4f8f-a55c-1d31f59952e7\" xlink:actuate=\"onRequest\" xlink:href=\"psysml:154f7142-f3c2-4f8f-a55c-1d31f59952e7\" xlink:show=\"new\" xlink:title=\"psysml:154f7142-f3c2-4f8f-a55c-1d31f59952e7\" xlink:type=\"simple\"><rect fill=\"#FFFFFF\" height=\"45.9375\" id=\"E6\" style=\"stroke: #383838; stroke-width: 1.5;\" width=\"71\" x=\"146.5\" y=\"667\"/><text fill=\"#000000\" font-family=\"sans-serif\" font-size=\"12\" font-style=\"italic\" lengthAdjust=\"spacingAndGlyphs\" textLength=\"69\" x=\"147.5\" y=\"683.1387\">«item  def»</text><text fill=\"#000000\" font-family=\"sans-serif\" font-size=\"12\" font-style=\"italic\" lengthAdjust=\"spacingAndGlyphs\" textLength=\"8\" x=\"178\" y=\"697.1074\">B</text><line style=\"stroke: #383838; stroke-width: 1.5;\" x1=\"147.5\" x2=\"216.5\" y1=\"704.9375\" y2=\"704.9375\"/></a><!--MD5=[2156ba9850f5573cc1fc38a6a4b2f02b]\n",
       "class E7--><a href=\"psysml:3092a58e-bc17-492e-b3ac-d9b0c5d27ee1\" target=\"_top\" title=\"psysml:3092a58e-bc17-492e-b3ac-d9b0c5d27ee1\" xlink:actuate=\"onRequest\" xlink:href=\"psysml:3092a58e-bc17-492e-b3ac-d9b0c5d27ee1\" xlink:show=\"new\" xlink:title=\"psysml:3092a58e-bc17-492e-b3ac-d9b0c5d27ee1\" xlink:type=\"simple\"><rect fill=\"#FFFFFF\" height=\"45.9375\" id=\"E7\" rx=\"10\" ry=\"10\" style=\"stroke: #383838; stroke-width: 1.5;\" width=\"42\" x=\"96\" y=\"774\"/><text fill=\"#000000\" font-family=\"sans-serif\" font-size=\"12\" font-style=\"italic\" lengthAdjust=\"spacingAndGlyphs\" textLength=\"40\" x=\"97\" y=\"790.1387\">«part»</text><text fill=\"#000000\" font-family=\"sans-serif\" font-size=\"12\" font-style=\"italic\" lengthAdjust=\"spacingAndGlyphs\" textLength=\"8\" x=\"103\" y=\"804.1074\">a</text><text fill=\"#000000\" font-family=\"sans-serif\" font-size=\"12\" lengthAdjust=\"spacingAndGlyphs\" textLength=\"16\" x=\"111\" y=\"804.1074\">: A</text><line style=\"stroke: #383838; stroke-width: 1.5;\" x1=\"97\" x2=\"137\" y1=\"811.9375\" y2=\"811.9375\"/></a><!--MD5=[b9389687b975829384b498ac4b7476b2]\n",
       "class E8--><a href=\"psysml:a977dc12-1522-4e17-86ea-88834b4a9262\" target=\"_top\" title=\"psysml:a977dc12-1522-4e17-86ea-88834b4a9262\" xlink:actuate=\"onRequest\" xlink:href=\"psysml:a977dc12-1522-4e17-86ea-88834b4a9262\" xlink:show=\"new\" xlink:title=\"psysml:a977dc12-1522-4e17-86ea-88834b4a9262\" xlink:type=\"simple\"><rect fill=\"#FFFFFF\" height=\"75.5469\" id=\"E8\" style=\"stroke: #383838; stroke-width: 1.5;\" width=\"75\" x=\"145.5\" y=\"514\"/><text fill=\"#000000\" font-family=\"sans-serif\" font-size=\"12\" font-style=\"italic\" lengthAdjust=\"spacingAndGlyphs\" textLength=\"68\" x=\"149\" y=\"530.1387\">«part  def»</text><text fill=\"#000000\" font-family=\"sans-serif\" font-size=\"12\" lengthAdjust=\"spacingAndGlyphs\" textLength=\"8\" x=\"179\" y=\"544.1074\">C</text><line style=\"stroke: #383838; stroke-width: 1.5;\" x1=\"146.5\" x2=\"219.5\" y1=\"551.9375\" y2=\"551.9375\"/><text fill=\"#000000\" font-family=\"sans-serif\" font-size=\"11\" font-weight=\"bold\" lengthAdjust=\"spacingAndGlyphs\" textLength=\"10\" x=\"151.5\" y=\"582.9526\">in</text><text fill=\"#000000\" font-family=\"sans-serif\" font-size=\"11\" lengthAdjust=\"spacingAndGlyphs\" textLength=\"37\" x=\"165.5\" y=\"582.9526\">y: A, B</text><line style=\"stroke: #383838; stroke-width: 1.0;\" x1=\"146.5\" x2=\"149.5\" y1=\"566.3398\" y2=\"566.3398\"/><text fill=\"#000000\" font-family=\"sans-serif\" font-size=\"11\" lengthAdjust=\"spacingAndGlyphs\" textLength=\"67\" x=\"149.5\" y=\"569.6479\">parameters</text><line style=\"stroke: #383838; stroke-width: 1.0;\" x1=\"216.5\" x2=\"219.5\" y1=\"566.3398\" y2=\"566.3398\"/></a><!--MD5=[fd4143e9d270a159db93a4ea2a975926]\n",
       "class E9--><a href=\"psysml:505a0904-767f-4431-bdaf-f395e9a256c5\" target=\"_top\" title=\"psysml:505a0904-767f-4431-bdaf-f395e9a256c5\" xlink:actuate=\"onRequest\" xlink:href=\"psysml:505a0904-767f-4431-bdaf-f395e9a256c5\" xlink:show=\"new\" xlink:title=\"psysml:505a0904-767f-4431-bdaf-f395e9a256c5\" xlink:type=\"simple\"><rect fill=\"#FFFFFF\" height=\"45.9375\" id=\"E9\" style=\"stroke: #383838; stroke-width: 1.5;\" width=\"70\" x=\"109\" y=\"41\"/><text fill=\"#000000\" font-family=\"sans-serif\" font-size=\"12\" font-style=\"italic\" lengthAdjust=\"spacingAndGlyphs\" textLength=\"68\" x=\"110\" y=\"57.1387\">«port  def»</text><text fill=\"#000000\" font-family=\"sans-serif\" font-size=\"12\" lengthAdjust=\"spacingAndGlyphs\" textLength=\"8\" x=\"140\" y=\"71.1074\">P</text><line style=\"stroke: #383838; stroke-width: 1.5;\" x1=\"110\" x2=\"178\" y1=\"78.9375\" y2=\"78.9375\"/></a><!--MD5=[96f4274e9e20536e775497830990834d]\n",
       "class E10--><a href=\"psysml:b48ee9ab-0a15-45ce-8465-86ae83c4be7f\" target=\"_top\" title=\"psysml:b48ee9ab-0a15-45ce-8465-86ae83c4be7f\" xlink:actuate=\"onRequest\" xlink:href=\"psysml:b48ee9ab-0a15-45ce-8465-86ae83c4be7f\" xlink:show=\"new\" xlink:title=\"psysml:b48ee9ab-0a15-45ce-8465-86ae83c4be7f\" xlink:type=\"simple\"><rect fill=\"#FFFFFF\" height=\"45.9375\" id=\"E10\" rx=\"10\" ry=\"10\" style=\"stroke: #383838; stroke-width: 1.5;\" width=\"43\" x=\"83.5\" y=\"148\"/><text fill=\"#000000\" font-family=\"sans-serif\" font-size=\"12\" font-style=\"italic\" lengthAdjust=\"spacingAndGlyphs\" textLength=\"41\" x=\"84.5\" y=\"164.1387\">«item»</text><text fill=\"#000000\" font-family=\"sans-serif\" font-size=\"12\" lengthAdjust=\"spacingAndGlyphs\" textLength=\"32\" x=\"87\" y=\"178.1074\">a1: A</text><line style=\"stroke: #383838; stroke-width: 1.5;\" x1=\"84.5\" x2=\"125.5\" y1=\"185.9375\" y2=\"185.9375\"/></a><!--MD5=[1dd1bfd58a279cf63c5f349dbc8fc6a1]\n",
       "class E11--><a href=\"psysml:7b14a527-4e8d-41df-a91b-3ca9db44b1d9\" target=\"_top\" title=\"psysml:7b14a527-4e8d-41df-a91b-3ca9db44b1d9\" xlink:actuate=\"onRequest\" xlink:href=\"psysml:7b14a527-4e8d-41df-a91b-3ca9db44b1d9\" xlink:show=\"new\" xlink:title=\"psysml:7b14a527-4e8d-41df-a91b-3ca9db44b1d9\" xlink:type=\"simple\"><rect fill=\"#FFFFFF\" height=\"45.9375\" id=\"E11\" rx=\"10\" ry=\"10\" style=\"stroke: #383838; stroke-width: 1.5;\" width=\"43\" x=\"161.5\" y=\"148\"/><text fill=\"#000000\" font-family=\"sans-serif\" font-size=\"12\" font-style=\"italic\" lengthAdjust=\"spacingAndGlyphs\" textLength=\"41\" x=\"162.5\" y=\"164.1387\">«item»</text><text fill=\"#000000\" font-family=\"sans-serif\" font-size=\"12\" lengthAdjust=\"spacingAndGlyphs\" textLength=\"32\" x=\"165\" y=\"178.1074\">a2: A</text><line style=\"stroke: #383838; stroke-width: 1.5;\" x1=\"162.5\" x2=\"203.5\" y1=\"185.9375\" y2=\"185.9375\"/></a><!--MD5=[2720a5a1f2c3fca2055b230370638851]\n",
       "link E2 to E3--><a href=\"psysml:2913aa14-34e4-4ebc-b3c0-73cbbe37a712\" target=\"_top\" title=\"psysml:2913aa14-34e4-4ebc-b3c0-73cbbe37a712\" xlink:actuate=\"onRequest\" xlink:href=\"psysml:2913aa14-34e4-4ebc-b3c0-73cbbe37a712\" xlink:show=\"new\" xlink:title=\"psysml:2913aa14-34e4-4ebc-b3c0-73cbbe37a712\" xlink:type=\"simple\"><path d=\"M244.65,194.01 C235.14,206.81 222.89,223.3 211.82,238.2 \" fill=\"none\" id=\"E2-&gt;E3\" style=\"stroke: #383838; stroke-width: 1.0;\"/><polygon fill=\"#FFFFFF\" points=\"199.6,254.66,205.3195,235.2361,216.5543,243.5896,199.6,254.66\" style=\"stroke: #383838; stroke-width: 1.0;\"/><ellipse cx=\"210.3256\" cy=\"231.8554\" fill=\"#383838\" rx=\"2\" ry=\"2\" style=\"stroke: #383838; stroke-width: 1.0;\"/><ellipse cx=\"218.3504\" cy=\"237.8221\" fill=\"#383838\" rx=\"2\" ry=\"2\" style=\"stroke: #383838; stroke-width: 1.0;\"/></a><!--MD5=[4672eba38e49728da53d11aeb285b987]\n",
       "reverse link E3 to E4--><a href=\"psysml:5a70b25d-3e65-48fe-9200-ece04e9de0ee\" target=\"_top\" title=\"psysml:5a70b25d-3e65-48fe-9200-ece04e9de0ee\" xlink:actuate=\"onRequest\" xlink:href=\"psysml:5a70b25d-3e65-48fe-9200-ece04e9de0ee\" xlink:show=\"new\" xlink:title=\"psysml:5a70b25d-3e65-48fe-9200-ece04e9de0ee\" xlink:type=\"simple\"><path d=\"M220.77,309.14 C250.52,332.88 287,362 287,362 C287,362 287,408 287,408 C287,408 283.97,423.77 281.24,437.95 \" fill=\"none\" id=\"E3&lt;-E4\" style=\"stroke: #383838; stroke-width: 1.0;\"/><polygon fill=\"#383838\" points=\"210.6,301.02,212.7911,307.8901,219.9756,308.5099,217.7844,301.6398,210.6,301.02\" style=\"stroke: #383838; stroke-width: 1.0;\"/><text fill=\"#000000\" font-family=\"sans-serif\" font-size=\"13\" lengthAdjust=\"spacingAndGlyphs\" textLength=\"8\" x=\"274.2661\" y=\"428.0588\">1</text></a><!--MD5=[191cde3d490a3f6d7bb551fe3ddca469]\n",
       "reverse link E3 to E5--><a href=\"psysml:98aba136-2768-4c7e-bc34-95a5a6a911cd\" target=\"_top\" title=\"psysml:98aba136-2768-4c7e-bc34-95a5a6a911cd\" xlink:actuate=\"onRequest\" xlink:href=\"psysml:98aba136-2768-4c7e-bc34-95a5a6a911cd\" xlink:show=\"new\" xlink:title=\"psysml:98aba136-2768-4c7e-bc34-95a5a6a911cd\" xlink:type=\"simple\"><path d=\"M203.52,312.15 C213.51,328.29 225.26,347.26 234.17,361.66 \" fill=\"none\" id=\"E3&lt;-E5\" style=\"stroke: #383838; stroke-width: 1.0;\"/><polygon fill=\"#FFFFFF\" points=\"196.63,301.01,196.3861,308.217,202.9449,311.214,203.1888,304.007,196.63,301.01\" style=\"stroke: #383838; stroke-width: 1.0;\"/><text fill=\"#000000\" font-family=\"sans-serif\" font-size=\"13\" lengthAdjust=\"spacingAndGlyphs\" textLength=\"8\" x=\"221.6011\" y=\"350.8492\">1</text></a><!--MD5=[79568f1e445c3877b6a54524624ccc7d]\n",
       "link E4 to E6--><a href=\"psysml:04be4dec-9fb2-423c-a400-1c82afc162c3\" target=\"_top\" title=\"psysml:04be4dec-9fb2-423c-a400-1c82afc162c3\" xlink:actuate=\"onRequest\" xlink:href=\"psysml:04be4dec-9fb2-423c-a400-1c82afc162c3\" xlink:show=\"new\" xlink:title=\"psysml:04be4dec-9fb2-423c-a400-1c82afc162c3\" xlink:type=\"simple\"><path d=\"M270.3,484 C259.14,520.6 238,590 238,590 C238,590 220.16,621.54 204.61,649.02 \" fill=\"none\" id=\"E4-&gt;E6\" style=\"stroke: #383838; stroke-width: 1.0;\"/><polygon fill=\"#FFFFFF\" points=\"194.71,666.54,197.9651,646.5549,210.153,653.4437,194.71,666.54\" style=\"stroke: #383838; stroke-width: 1.0;\"/><ellipse cx=\"202.511\" cy=\"642.5768\" fill=\"#383838\" rx=\"2\" ry=\"2\" style=\"stroke: #383838; stroke-width: 1.0;\"/><ellipse cx=\"211.2166\" cy=\"647.4974\" fill=\"#383838\" rx=\"2\" ry=\"2\" style=\"stroke: #383838; stroke-width: 1.0;\"/></a><!--MD5=[3f50a3473f1dfb74d3f76443e03635af]\n",
       "reverse link E6 to E7--><a href=\"psysml:88a05b08-39fe-46e7-8c9b-5df9e56fb426\" target=\"_top\" title=\"psysml:88a05b08-39fe-46e7-8c9b-5df9e56fb426\" xlink:actuate=\"onRequest\" xlink:href=\"psysml:88a05b08-39fe-46e7-8c9b-5df9e56fb426\" xlink:show=\"new\" xlink:title=\"psysml:88a05b08-39fe-46e7-8c9b-5df9e56fb426\" xlink:type=\"simple\"><path d=\"M161.48,724.15 C151.49,740.29 139.74,759.26 130.83,773.66 \" fill=\"none\" id=\"E6&lt;-E7\" style=\"stroke: #383838; stroke-width: 1.0;\"/><polygon fill=\"#383838\" points=\"168.37,713.01,161.8112,716.007,162.0551,723.214,168.6139,720.217,168.37,713.01\" style=\"stroke: #383838; stroke-width: 1.0;\"/><text fill=\"#000000\" font-family=\"sans-serif\" font-size=\"13\" lengthAdjust=\"spacingAndGlyphs\" textLength=\"8\" x=\"125.3489\" y=\"762.8492\">1</text></a><!--MD5=[14ccda38c055a5c0da953d572bc50960]\n",
       "link E7 to E3--><a href=\"psysml:de23f89f-df32-45d9-b344-47d8d19c4edc\" target=\"_top\" title=\"psysml:de23f89f-df32-45d9-b344-47d8d19c4edc\" xlink:actuate=\"onRequest\" xlink:href=\"psysml:de23f89f-df32-45d9-b344-47d8d19c4edc\" xlink:show=\"new\" xlink:title=\"psysml:de23f89f-df32-45d9-b344-47d8d19c4edc\" xlink:type=\"simple\"><path d=\"M99.39,773.99 C74.76,743.2 33,691 33,691 C33,384 33,384 33,384 C33,384 91.12,343.32 135,312.6 \" fill=\"none\" id=\"E7-&gt;E3\" style=\"stroke: #383838; stroke-width: 1.0;\"/><polygon fill=\"#FFFFFF\" points=\"151.56,301.01,140.0001,317.6343,131.9776,306.1608,151.56,301.01\" style=\"stroke: #383838; stroke-width: 1.0;\"/><ellipse cx=\"134.1827\" cy=\"319.2615\" fill=\"#383838\" rx=\"2\" ry=\"2\" style=\"stroke: #383838; stroke-width: 1.0;\"/><ellipse cx=\"128.4524\" cy=\"311.0662\" fill=\"#383838\" rx=\"2\" ry=\"2\" style=\"stroke: #383838; stroke-width: 1.0;\"/></a><!--MD5=[dfaffb906826c3e5aca635516100ff21]\n",
       "link E5 to E8--><a href=\"psysml:feaf6c57-7b20-4701-8323-0c325a1238bf\" target=\"_top\" title=\"psysml:feaf6c57-7b20-4701-8323-0c325a1238bf\" xlink:actuate=\"onRequest\" xlink:href=\"psysml:feaf6c57-7b20-4701-8323-0c325a1238bf\" xlink:show=\"new\" xlink:title=\"psysml:feaf6c57-7b20-4701-8323-0c325a1238bf\" xlink:type=\"simple\"><path d=\"M239.23,408.25 C230.48,430.48 216.67,465.53 204.93,495.33 \" fill=\"none\" id=\"E5-&gt;E8\" style=\"stroke: #383838; stroke-width: 1.0;\"/><polygon fill=\"#FFFFFF\" points=\"197.58,513.98,198.027,493.7365,211.0538,498.8652,197.58,513.98\" style=\"stroke: #383838; stroke-width: 1.0;\"/><ellipse cx=\"201.9761\" cy=\"489.1654\" fill=\"#383838\" rx=\"2\" ry=\"2\" style=\"stroke: #383838; stroke-width: 1.0;\"/><ellipse cx=\"211.2809\" cy=\"492.8288\" fill=\"#383838\" rx=\"2\" ry=\"2\" style=\"stroke: #383838; stroke-width: 1.0;\"/></a><!--MD5=[03c8294790d3c57651a1993cecff665f]\n",
       "reverse link E8 to E3--><a href=\"psysml:f63e9e98-9395-484c-b7ba-710e403c3592\" target=\"_top\" title=\"psysml:f63e9e98-9395-484c-b7ba-710e403c3592\" xlink:actuate=\"onRequest\" xlink:href=\"psysml:f63e9e98-9395-484c-b7ba-710e403c3592\" xlink:show=\"new\" xlink:title=\"psysml:f63e9e98-9395-484c-b7ba-710e403c3592\" xlink:type=\"simple\"><path d=\"M164.96,501.4 C149.94,460.1 131,408 131,408 C131,408 131,362 131,362 C131,362 153.66,325.83 169.06,301.24 \" fill=\"none\" id=\"E8&lt;-E3\" style=\"stroke: #383838; stroke-width: 1.0;\"/><polygon fill=\"#FFFFFF\" points=\"169.47,513.8,171.1807,506.7947,165.3723,502.5213,163.6616,509.5266,169.47,513.8\" style=\"stroke: #383838; stroke-width: 1.0;\"/><text fill=\"#000000\" font-family=\"sans-serif\" font-size=\"13\" lengthAdjust=\"spacingAndGlyphs\" textLength=\"7\" x=\"132\" y=\"389.5669\">y</text></a><!--MD5=[03c8294790d3c57651a1993cecff665f]\n",
       "reverse link E8 to E3--><a href=\"psysml:f63e9e98-9395-484c-b7ba-710e403c3592\" target=\"_top\" title=\"psysml:f63e9e98-9395-484c-b7ba-710e403c3592\" xlink:actuate=\"onRequest\" xlink:href=\"psysml:f63e9e98-9395-484c-b7ba-710e403c3592\" xlink:show=\"new\" xlink:title=\"psysml:f63e9e98-9395-484c-b7ba-710e403c3592\" xlink:type=\"simple\"><path d=\"M183,500.73 C183,441.17 183,344.58 183,301.26 \" fill=\"none\" id=\"E8&lt;-E3-1\" style=\"stroke: #383838; stroke-width: 1.0;\"/><polygon fill=\"#FFFFFF\" points=\"183,513.93,187,507.93,183,501.93,179,507.93,183,513.93\" style=\"stroke: #383838; stroke-width: 1.0;\"/><text fill=\"#000000\" font-family=\"sans-serif\" font-size=\"13\" lengthAdjust=\"spacingAndGlyphs\" textLength=\"7\" x=\"184\" y=\"389.5669\">y</text></a><!--MD5=[0d75d2178373a6a4568e5dc728f58aef]\n",
       "reverse link E8 to E6--><a href=\"psysml:f63e9e98-9395-484c-b7ba-710e403c3592\" target=\"_top\" title=\"psysml:f63e9e98-9395-484c-b7ba-710e403c3592\" xlink:actuate=\"onRequest\" xlink:href=\"psysml:f63e9e98-9395-484c-b7ba-710e403c3592\" xlink:show=\"new\" xlink:title=\"psysml:f63e9e98-9395-484c-b7ba-710e403c3592\" xlink:type=\"simple\"><path d=\"M165.25,602.56 C161.68,612.52 159,620 159,620 C159,620 159,637 159,637 C159,637 165.98,652.77 172.25,666.95 \" fill=\"none\" id=\"E8&lt;-E6\" style=\"stroke: #383838; stroke-width: 1.0;\"/><polygon fill=\"#FFFFFF\" points=\"169.74,590.03,163.9509,594.3295,165.6931,601.327,171.4822,597.0275,169.74,590.03\" style=\"stroke: #383838; stroke-width: 1.0;\"/><text fill=\"#000000\" font-family=\"sans-serif\" font-size=\"13\" lengthAdjust=\"spacingAndGlyphs\" textLength=\"7\" x=\"160\" y=\"633.0669\">y</text></a><!--MD5=[0d75d2178373a6a4568e5dc728f58aef]\n",
       "reverse link E8 to E6--><a href=\"psysml:f63e9e98-9395-484c-b7ba-710e403c3592\" target=\"_top\" title=\"psysml:f63e9e98-9395-484c-b7ba-710e403c3592\" xlink:actuate=\"onRequest\" xlink:href=\"psysml:f63e9e98-9395-484c-b7ba-710e403c3592\" xlink:show=\"new\" xlink:title=\"psysml:f63e9e98-9395-484c-b7ba-710e403c3592\" xlink:type=\"simple\"><path d=\"M182.63,603.33 C182.47,625.16 182.29,649.6 182.16,666.77 \" fill=\"none\" id=\"E8&lt;-E6-1\" style=\"stroke: #383838; stroke-width: 1.0;\"/><polygon fill=\"#FFFFFF\" points=\"182.73,590.16,178.684,596.1291,182.6377,602.1596,186.6837,596.1906,182.73,590.16\" style=\"stroke: #383838; stroke-width: 1.0;\"/><text fill=\"#000000\" font-family=\"sans-serif\" font-size=\"13\" lengthAdjust=\"spacingAndGlyphs\" textLength=\"7\" x=\"183\" y=\"633.0669\">y</text></a><!--MD5=[23ac544a70576c3e717098101004234c]\n",
       "reverse link E9 to E10--><a href=\"psysml:f7fd9ae3-3fa5-48e2-b146-bf2078e3bf75\" target=\"_top\" title=\"psysml:f7fd9ae3-3fa5-48e2-b146-bf2078e3bf75\" xlink:actuate=\"onRequest\" xlink:href=\"psysml:f7fd9ae3-3fa5-48e2-b146-bf2078e3bf75\" xlink:show=\"new\" xlink:title=\"psysml:f7fd9ae3-3fa5-48e2-b146-bf2078e3bf75\" xlink:type=\"simple\"><path d=\"M131.16,99.57 C125.28,115.39 118.49,133.68 113.3,147.66 \" fill=\"none\" id=\"E9&lt;-E10\" style=\"stroke: #383838; stroke-width: 1.0;\"/><polygon fill=\"#FFFFFF\" points=\"135.82,87.01,129.9804,91.2408,131.6398,98.2584,137.4793,94.0276,135.82,87.01\" style=\"stroke: #383838; stroke-width: 1.0;\"/><text fill=\"#000000\" font-family=\"sans-serif\" font-size=\"13\" lengthAdjust=\"spacingAndGlyphs\" textLength=\"8\" x=\"106.4019\" y=\"136.8492\">1</text></a><!--MD5=[feeac5eb423634930294aa81f2d25a4c]\n",
       "link E10 to E3--><a href=\"psysml:09a722a7-3c7d-4d30-9bcf-d6d93c165304\" target=\"_top\" title=\"psysml:09a722a7-3c7d-4d30-9bcf-d6d93c165304\" xlink:actuate=\"onRequest\" xlink:href=\"psysml:09a722a7-3c7d-4d30-9bcf-d6d93c165304\" xlink:show=\"new\" xlink:title=\"psysml:09a722a7-3c7d-4d30-9bcf-d6d93c165304\" xlink:type=\"simple\"><path d=\"M121.35,194.01 C130.86,206.81 143.11,223.3 154.18,238.2 \" fill=\"none\" id=\"E10-&gt;E3\" style=\"stroke: #383838; stroke-width: 1.0;\"/><polygon fill=\"#FFFFFF\" points=\"166.4,254.66,149.4457,243.5896,160.6805,235.2361,166.4,254.66\" style=\"stroke: #383838; stroke-width: 1.0;\"/><ellipse cx=\"147.6496\" cy=\"237.8221\" fill=\"#383838\" rx=\"2\" ry=\"2\" style=\"stroke: #383838; stroke-width: 1.0;\"/><ellipse cx=\"155.6744\" cy=\"231.8554\" fill=\"#383838\" rx=\"2\" ry=\"2\" style=\"stroke: #383838; stroke-width: 1.0;\"/></a><!--MD5=[1fc04a95fd77ad5ce46c1a3027516051]\n",
       "reverse link E9 to E11--><a href=\"psysml:2308c13a-9c40-4baf-abe1-b4752fcfac30\" target=\"_top\" title=\"psysml:2308c13a-9c40-4baf-abe1-b4752fcfac30\" xlink:actuate=\"onRequest\" xlink:href=\"psysml:2308c13a-9c40-4baf-abe1-b4752fcfac30\" xlink:show=\"new\" xlink:title=\"psysml:2308c13a-9c40-4baf-abe1-b4752fcfac30\" xlink:type=\"simple\"><path d=\"M156.84,99.57 C162.72,115.39 169.51,133.68 174.7,147.66 \" fill=\"none\" id=\"E9&lt;-E11\" style=\"stroke: #383838; stroke-width: 1.0;\"/><polygon fill=\"#FFFFFF\" points=\"152.18,87.01,150.5207,94.0276,156.3602,98.2584,158.0196,91.2408,152.18,87.01\" style=\"stroke: #383838; stroke-width: 1.0;\"/><text fill=\"#000000\" font-family=\"sans-serif\" font-size=\"13\" lengthAdjust=\"spacingAndGlyphs\" textLength=\"8\" x=\"163.5481\" y=\"136.8492\">1</text></a><!--MD5=[0517f1ce58c4d5483948f93845c45e26]\n",
       "link E11 to E3--><a href=\"psysml:713baad2-05ac-404b-8904-f9720a0da3f6\" target=\"_top\" title=\"psysml:713baad2-05ac-404b-8904-f9720a0da3f6\" xlink:actuate=\"onRequest\" xlink:href=\"psysml:713baad2-05ac-404b-8904-f9720a0da3f6\" xlink:show=\"new\" xlink:title=\"psysml:713baad2-05ac-404b-8904-f9720a0da3f6\" xlink:type=\"simple\"><path d=\"M183,194.01 C183,205.69 183,220.46 183,234.28 \" fill=\"none\" id=\"E11-&gt;E3\" style=\"stroke: #383838; stroke-width: 1.0;\"/><polygon fill=\"#FFFFFF\" points=\"183,254.66,176,235.66,190,235.66,183,254.66\" style=\"stroke: #383838; stroke-width: 1.0;\"/><ellipse cx=\"178\" cy=\"229.96\" fill=\"#383838\" rx=\"2\" ry=\"2\" style=\"stroke: #383838; stroke-width: 1.0;\"/><ellipse cx=\"188\" cy=\"229.96\" fill=\"#383838\" rx=\"2\" ry=\"2\" style=\"stroke: #383838; stroke-width: 1.0;\"/></a><!--MD5=[120a376a211038d1f0cd662ba1c1aea3]\n",
       "@startuml\r\n",
       "skinparam linetype polyline\r\n",
       "skinparam monochrome true\r\n",
       "skinparam classbackgroundcolor white\r\n",
       "skinparam shadowing false\r\n",
       "skinparam wrapWidth 300\r\n",
       "hide circle\r\n",
       "\r\n",
       "package \"ItemTest\" as E1  [[psysml:9c84b130-4496-45dd-acf0-f614adf4451b ]]  {\r\n",
       "comp usage \"f: A \" as E2  <<(T,blue) item>> [[psysml:046ce2e8-70d6-418b-9e34-4058f6a1e698 ]] {\r\n",
       "}\r\n",
       "comp def \"A\" as E3  <<(T,blue) item  def>> [[psysml:b761bda6-ef45-4173-adbe-8f17f5dd59b9 ]] {\r\n",
       "}\r\n",
       "comp usage \"b: B \" as E4  <<(T,blue) item>> [[psysml:5a9b7c1e-d921-40a5-84d4-dcafad1b8599 ]] {\r\n",
       "}\r\n",
       "comp usage \"c: C \" as E5  <<(T,blue) part>> [[psysml:c52e7c62-32ae-43e1-a51e-2d7f86512260 ]] {\r\n",
       "}\r\n",
       "comp def \"<i>B</i>\" as E6  <<(T,blue) item  def>> [[psysml:154f7142-f3c2-4f8f-a55c-1d31f59952e7 ]] {\r\n",
       "}\r\n",
       "comp usage \"<i>a</i>: A \" as E7  <<(T,blue) part>> [[psysml:3092a58e-bc17-492e-b3ac-d9b0c5d27ee1 ]] {\r\n",
       "}\r\n",
       "comp def \"C\" as E8  <<(T,blue) part  def>> [[psysml:a977dc12-1522-4e17-86ea-88834b4a9262 ]] {\r\n",
       "- - parameters - -\r\n",
       "<b>in</b> y: A, B\r\n",
       "}\r\n",
       "comp def \"P\" as E9  <<(T,blue) port  def>> [[psysml:505a0904-767f-4431-bdaf-f395e9a256c5 ]] {\r\n",
       "}\r\n",
       "comp usage \"a1: A \" as E10  <<(T,blue) item>> [[psysml:b48ee9ab-0a15-45ce-8465-86ae83c4be7f ]] {\r\n",
       "}\r\n",
       "comp usage \"a2: A \" as E11  <<(T,blue) item>> [[psysml:7b14a527-4e8d-41df-a91b-3ca9db44b1d9 ]] {\r\n",
       "}\r\n",
       "}\r\n",
       "E2 - -:|> E3 [[psysml:2913aa14-34e4-4ebc-b3c0-73cbbe37a712 ]] \r\n",
       "E3 *- - \"1\"E4 [[psysml:5a70b25d-3e65-48fe-9200-ece04e9de0ee ]] \r\n",
       "E3 o- - \"1\"E5 [[psysml:98aba136-2768-4c7e-bc34-95a5a6a911cd ]] \r\n",
       "E4 - -:|> E6 [[psysml:04be4dec-9fb2-423c-a400-1c82afc162c3 ]] \r\n",
       "E6 *- - \"1\"E7 [[psysml:88a05b08-39fe-46e7-8c9b-5df9e56fb426 ]] \r\n",
       "E7 - -:|> E3 [[psysml:de23f89f-df32-45d9-b344-47d8d19c4edc ]] \r\n",
       "E5 - -:|> E8 [[psysml:feaf6c57-7b20-4701-8323-0c325a1238bf ]] \r\n",
       "E8 o- - E3 [[psysml:f63e9e98-9395-484c-b7ba-710e403c3592 ]] : y\r\n",
       "E8 o- - E6 [[psysml:f63e9e98-9395-484c-b7ba-710e403c3592 ]] : y\r\n",
       "E8 o- - E3 [[psysml:f63e9e98-9395-484c-b7ba-710e403c3592 ]] : y\r\n",
       "E8 o- - E6 [[psysml:f63e9e98-9395-484c-b7ba-710e403c3592 ]] : y\r\n",
       "E9 o- - \"1\"E10 [[psysml:f7fd9ae3-3fa5-48e2-b146-bf2078e3bf75 ]] \r\n",
       "E10 - -:|> E3 [[psysml:09a722a7-3c7d-4d30-9bcf-d6d93c165304 ]] \r\n",
       "E9 o- - \"1\"E11 [[psysml:2308c13a-9c40-4baf-abe1-b4752fcfac30 ]] \r\n",
       "E11 - -:|> E3 [[psysml:713baad2-05ac-404b-8904-f9720a0da3f6 ]] \r\n",
       "@enduml\r\n",
       "\n",
       "PlantUML version 1.2020.13(Sat Jun 13 12:26:38 UTC 2020)\n",
       "(EPL source distribution)\n",
       "Java Runtime: OpenJDK Runtime Environment\n",
       "JVM: OpenJDK 64-Bit Server VM\n",
       "Default Encoding: UTF-8\n",
       "Language: en\n",
       "Country: null\n",
       "--></g></svg>"
      ]
     },
     "execution_count": 9,
     "metadata": {},
     "output_type": "execute_result"
    }
   ],
   "source": [
    "%viz --style=\"POLYLINE\" --view=\"Default\" \"ItemTest\""
   ]
  },
  {
   "cell_type": "code",
   "execution_count": 10,
   "id": "463a041d",
   "metadata": {
    "execution": {
     "iopub.execute_input": "2021-10-25T08:20:53.148201Z",
     "iopub.status.busy": "2021-10-25T08:20:53.147582Z",
     "iopub.status.idle": "2021-10-25T08:20:53.219686Z",
     "shell.execute_reply": "2021-10-25T08:20:53.219313Z"
    }
   },
   "outputs": [
    {
     "data": {
      "image/svg+xml": [
       "<?xml version=\"1.0\" encoding=\"UTF-8\" standalone=\"no\"?><svg xmlns=\"http://www.w3.org/2000/svg\" xmlns:xlink=\"http://www.w3.org/1999/xlink\" contentScriptType=\"application/ecmascript\" contentStyleType=\"text/css\" height=\"848px\" preserveAspectRatio=\"none\" style=\"width:344px;height:848px;\" version=\"1.1\" viewBox=\"0 0 344 848\" width=\"344px\" zoomAndPan=\"magnify\"><defs/><g><!--MD5=[fbc87193dbaf4d95561dea2c320d4a47]\n",
       "cluster E1--><a href=\"psysml:9c84b130-4496-45dd-acf0-f614adf4451b\" target=\"_top\" title=\"psysml:9c84b130-4496-45dd-acf0-f614adf4451b\" xlink:actuate=\"onRequest\" xlink:href=\"psysml:9c84b130-4496-45dd-acf0-f614adf4451b\" xlink:show=\"new\" xlink:title=\"psysml:9c84b130-4496-45dd-acf0-f614adf4451b\" xlink:type=\"simple\"><polygon fill=\"#FFFFFF\" points=\"16,6,83,6,90,28.2969,322,28.2969,322,836,16,836,16,6\" style=\"stroke: #000000; stroke-width: 1.5;\"/><line style=\"stroke: #000000; stroke-width: 1.5;\" x1=\"16\" x2=\"90\" y1=\"28.2969\" y2=\"28.2969\"/><text fill=\"#000000\" font-family=\"sans-serif\" font-size=\"14\" font-weight=\"bold\" lengthAdjust=\"spacingAndGlyphs\" textLength=\"61\" x=\"20\" y=\"20.9951\">ItemTest</text></a><!--MD5=[b4997ac47864f28c2f74865a473b2911]\n",
       "class E2--><a href=\"psysml:046ce2e8-70d6-418b-9e34-4058f6a1e698\" target=\"_top\" title=\"psysml:046ce2e8-70d6-418b-9e34-4058f6a1e698\" xlink:actuate=\"onRequest\" xlink:href=\"psysml:046ce2e8-70d6-418b-9e34-4058f6a1e698\" xlink:show=\"new\" xlink:title=\"psysml:046ce2e8-70d6-418b-9e34-4058f6a1e698\" xlink:type=\"simple\"><rect fill=\"#FFFFFF\" height=\"45.9375\" id=\"E2\" rx=\"10\" ry=\"10\" style=\"stroke: #383838; stroke-width: 1.5;\" width=\"43\" x=\"239.5\" y=\"148\"/><text fill=\"#000000\" font-family=\"sans-serif\" font-size=\"12\" font-style=\"italic\" lengthAdjust=\"spacingAndGlyphs\" textLength=\"41\" x=\"240.5\" y=\"164.1387\">«item»</text><text fill=\"#000000\" font-family=\"sans-serif\" font-size=\"12\" lengthAdjust=\"spacingAndGlyphs\" textLength=\"20\" x=\"249\" y=\"178.1074\">f: A</text><line style=\"stroke: #383838; stroke-width: 1.5;\" x1=\"240.5\" x2=\"281.5\" y1=\"185.9375\" y2=\"185.9375\"/></a><!--MD5=[09b614a08d8cba4a07c9adeb5e0fee81]\n",
       "class E3--><a href=\"psysml:b761bda6-ef45-4173-adbe-8f17f5dd59b9\" target=\"_top\" title=\"psysml:b761bda6-ef45-4173-adbe-8f17f5dd59b9\" xlink:actuate=\"onRequest\" xlink:href=\"psysml:b761bda6-ef45-4173-adbe-8f17f5dd59b9\" xlink:show=\"new\" xlink:title=\"psysml:b761bda6-ef45-4173-adbe-8f17f5dd59b9\" xlink:type=\"simple\"><rect fill=\"#FFFFFF\" height=\"45.9375\" id=\"E3\" style=\"stroke: #383838; stroke-width: 1.5;\" width=\"71\" x=\"147.5\" y=\"255\"/><text fill=\"#000000\" font-family=\"sans-serif\" font-size=\"12\" font-style=\"italic\" lengthAdjust=\"spacingAndGlyphs\" textLength=\"69\" x=\"148.5\" y=\"271.1387\">«item  def»</text><text fill=\"#000000\" font-family=\"sans-serif\" font-size=\"12\" lengthAdjust=\"spacingAndGlyphs\" textLength=\"8\" x=\"179\" y=\"285.1074\">A</text><line style=\"stroke: #383838; stroke-width: 1.5;\" x1=\"148.5\" x2=\"217.5\" y1=\"292.9375\" y2=\"292.9375\"/></a><!--MD5=[ebbe1d658d1005bcc118a6aa81145e00]\n",
       "class E4--><a href=\"psysml:5a9b7c1e-d921-40a5-84d4-dcafad1b8599\" target=\"_top\" title=\"psysml:5a9b7c1e-d921-40a5-84d4-dcafad1b8599\" xlink:actuate=\"onRequest\" xlink:href=\"psysml:5a9b7c1e-d921-40a5-84d4-dcafad1b8599\" xlink:show=\"new\" xlink:title=\"psysml:5a9b7c1e-d921-40a5-84d4-dcafad1b8599\" xlink:type=\"simple\"><rect fill=\"#FFFFFF\" height=\"45.9375\" id=\"E4\" rx=\"10\" ry=\"10\" style=\"stroke: #383838; stroke-width: 1.5;\" width=\"43\" x=\"255.5\" y=\"438\"/><text fill=\"#000000\" font-family=\"sans-serif\" font-size=\"12\" font-style=\"italic\" lengthAdjust=\"spacingAndGlyphs\" textLength=\"41\" x=\"256.5\" y=\"454.1387\">«item»</text><text fill=\"#000000\" font-family=\"sans-serif\" font-size=\"12\" lengthAdjust=\"spacingAndGlyphs\" textLength=\"24\" x=\"263\" y=\"468.1074\">b: B</text><line style=\"stroke: #383838; stroke-width: 1.5;\" x1=\"256.5\" x2=\"297.5\" y1=\"475.9375\" y2=\"475.9375\"/></a><!--MD5=[270fce915f116d4de14055a7c1d9a0f3]\n",
       "class E5--><a href=\"psysml:c52e7c62-32ae-43e1-a51e-2d7f86512260\" target=\"_top\" title=\"psysml:c52e7c62-32ae-43e1-a51e-2d7f86512260\" xlink:actuate=\"onRequest\" xlink:href=\"psysml:c52e7c62-32ae-43e1-a51e-2d7f86512260\" xlink:show=\"new\" xlink:title=\"psysml:c52e7c62-32ae-43e1-a51e-2d7f86512260\" xlink:type=\"simple\"><rect fill=\"#FFFFFF\" height=\"45.9375\" id=\"E5\" rx=\"10\" ry=\"10\" style=\"stroke: #383838; stroke-width: 1.5;\" width=\"42\" x=\"227\" y=\"362\"/><text fill=\"#000000\" font-family=\"sans-serif\" font-size=\"12\" font-style=\"italic\" lengthAdjust=\"spacingAndGlyphs\" textLength=\"40\" x=\"228\" y=\"378.1387\">«part»</text><text fill=\"#000000\" font-family=\"sans-serif\" font-size=\"12\" lengthAdjust=\"spacingAndGlyphs\" textLength=\"23\" x=\"234.5\" y=\"392.1074\">c: C</text><line style=\"stroke: #383838; stroke-width: 1.5;\" x1=\"228\" x2=\"268\" y1=\"399.9375\" y2=\"399.9375\"/></a><!--MD5=[60a26617385b1d2d0262a64233df1f8d]\n",
       "class E6--><a href=\"psysml:154f7142-f3c2-4f8f-a55c-1d31f59952e7\" target=\"_top\" title=\"psysml:154f7142-f3c2-4f8f-a55c-1d31f59952e7\" xlink:actuate=\"onRequest\" xlink:href=\"psysml:154f7142-f3c2-4f8f-a55c-1d31f59952e7\" xlink:show=\"new\" xlink:title=\"psysml:154f7142-f3c2-4f8f-a55c-1d31f59952e7\" xlink:type=\"simple\"><rect fill=\"#FFFFFF\" height=\"45.9375\" id=\"E6\" style=\"stroke: #383838; stroke-width: 1.5;\" width=\"71\" x=\"146.5\" y=\"667\"/><text fill=\"#000000\" font-family=\"sans-serif\" font-size=\"12\" font-style=\"italic\" lengthAdjust=\"spacingAndGlyphs\" textLength=\"69\" x=\"147.5\" y=\"683.1387\">«item  def»</text><text fill=\"#000000\" font-family=\"sans-serif\" font-size=\"12\" font-style=\"italic\" lengthAdjust=\"spacingAndGlyphs\" textLength=\"8\" x=\"178\" y=\"697.1074\">B</text><line style=\"stroke: #383838; stroke-width: 1.5;\" x1=\"147.5\" x2=\"216.5\" y1=\"704.9375\" y2=\"704.9375\"/></a><!--MD5=[2156ba9850f5573cc1fc38a6a4b2f02b]\n",
       "class E7--><a href=\"psysml:3092a58e-bc17-492e-b3ac-d9b0c5d27ee1\" target=\"_top\" title=\"psysml:3092a58e-bc17-492e-b3ac-d9b0c5d27ee1\" xlink:actuate=\"onRequest\" xlink:href=\"psysml:3092a58e-bc17-492e-b3ac-d9b0c5d27ee1\" xlink:show=\"new\" xlink:title=\"psysml:3092a58e-bc17-492e-b3ac-d9b0c5d27ee1\" xlink:type=\"simple\"><rect fill=\"#FFFFFF\" height=\"45.9375\" id=\"E7\" rx=\"10\" ry=\"10\" style=\"stroke: #383838; stroke-width: 1.5;\" width=\"42\" x=\"96\" y=\"774\"/><text fill=\"#000000\" font-family=\"sans-serif\" font-size=\"12\" font-style=\"italic\" lengthAdjust=\"spacingAndGlyphs\" textLength=\"40\" x=\"97\" y=\"790.1387\">«part»</text><text fill=\"#000000\" font-family=\"sans-serif\" font-size=\"12\" font-style=\"italic\" lengthAdjust=\"spacingAndGlyphs\" textLength=\"8\" x=\"103\" y=\"804.1074\">a</text><text fill=\"#000000\" font-family=\"sans-serif\" font-size=\"12\" lengthAdjust=\"spacingAndGlyphs\" textLength=\"16\" x=\"111\" y=\"804.1074\">: A</text><line style=\"stroke: #383838; stroke-width: 1.5;\" x1=\"97\" x2=\"137\" y1=\"811.9375\" y2=\"811.9375\"/></a><!--MD5=[b9389687b975829384b498ac4b7476b2]\n",
       "class E8--><a href=\"psysml:a977dc12-1522-4e17-86ea-88834b4a9262\" target=\"_top\" title=\"psysml:a977dc12-1522-4e17-86ea-88834b4a9262\" xlink:actuate=\"onRequest\" xlink:href=\"psysml:a977dc12-1522-4e17-86ea-88834b4a9262\" xlink:show=\"new\" xlink:title=\"psysml:a977dc12-1522-4e17-86ea-88834b4a9262\" xlink:type=\"simple\"><rect fill=\"#FFFFFF\" height=\"75.5469\" id=\"E8\" style=\"stroke: #383838; stroke-width: 1.5;\" width=\"75\" x=\"145.5\" y=\"514\"/><text fill=\"#000000\" font-family=\"sans-serif\" font-size=\"12\" font-style=\"italic\" lengthAdjust=\"spacingAndGlyphs\" textLength=\"68\" x=\"149\" y=\"530.1387\">«part  def»</text><text fill=\"#000000\" font-family=\"sans-serif\" font-size=\"12\" lengthAdjust=\"spacingAndGlyphs\" textLength=\"8\" x=\"179\" y=\"544.1074\">C</text><line style=\"stroke: #383838; stroke-width: 1.5;\" x1=\"146.5\" x2=\"219.5\" y1=\"551.9375\" y2=\"551.9375\"/><text fill=\"#000000\" font-family=\"sans-serif\" font-size=\"11\" font-weight=\"bold\" lengthAdjust=\"spacingAndGlyphs\" textLength=\"10\" x=\"151.5\" y=\"582.9526\">in</text><text fill=\"#000000\" font-family=\"sans-serif\" font-size=\"11\" lengthAdjust=\"spacingAndGlyphs\" textLength=\"37\" x=\"165.5\" y=\"582.9526\">y: A, B</text><line style=\"stroke: #383838; stroke-width: 1.0;\" x1=\"146.5\" x2=\"149.5\" y1=\"566.3398\" y2=\"566.3398\"/><text fill=\"#000000\" font-family=\"sans-serif\" font-size=\"11\" lengthAdjust=\"spacingAndGlyphs\" textLength=\"67\" x=\"149.5\" y=\"569.6479\">parameters</text><line style=\"stroke: #383838; stroke-width: 1.0;\" x1=\"216.5\" x2=\"219.5\" y1=\"566.3398\" y2=\"566.3398\"/></a><!--MD5=[fd4143e9d270a159db93a4ea2a975926]\n",
       "class E9--><a href=\"psysml:505a0904-767f-4431-bdaf-f395e9a256c5\" target=\"_top\" title=\"psysml:505a0904-767f-4431-bdaf-f395e9a256c5\" xlink:actuate=\"onRequest\" xlink:href=\"psysml:505a0904-767f-4431-bdaf-f395e9a256c5\" xlink:show=\"new\" xlink:title=\"psysml:505a0904-767f-4431-bdaf-f395e9a256c5\" xlink:type=\"simple\"><rect fill=\"#FFFFFF\" height=\"45.9375\" id=\"E9\" style=\"stroke: #383838; stroke-width: 1.5;\" width=\"70\" x=\"109\" y=\"41\"/><text fill=\"#000000\" font-family=\"sans-serif\" font-size=\"12\" font-style=\"italic\" lengthAdjust=\"spacingAndGlyphs\" textLength=\"68\" x=\"110\" y=\"57.1387\">«port  def»</text><text fill=\"#000000\" font-family=\"sans-serif\" font-size=\"12\" lengthAdjust=\"spacingAndGlyphs\" textLength=\"8\" x=\"140\" y=\"71.1074\">P</text><line style=\"stroke: #383838; stroke-width: 1.5;\" x1=\"110\" x2=\"178\" y1=\"78.9375\" y2=\"78.9375\"/></a><!--MD5=[96f4274e9e20536e775497830990834d]\n",
       "class E10--><a href=\"psysml:b48ee9ab-0a15-45ce-8465-86ae83c4be7f\" target=\"_top\" title=\"psysml:b48ee9ab-0a15-45ce-8465-86ae83c4be7f\" xlink:actuate=\"onRequest\" xlink:href=\"psysml:b48ee9ab-0a15-45ce-8465-86ae83c4be7f\" xlink:show=\"new\" xlink:title=\"psysml:b48ee9ab-0a15-45ce-8465-86ae83c4be7f\" xlink:type=\"simple\"><rect fill=\"#FFFFFF\" height=\"45.9375\" id=\"E10\" rx=\"10\" ry=\"10\" style=\"stroke: #383838; stroke-width: 1.5;\" width=\"43\" x=\"83.5\" y=\"148\"/><text fill=\"#000000\" font-family=\"sans-serif\" font-size=\"12\" font-style=\"italic\" lengthAdjust=\"spacingAndGlyphs\" textLength=\"41\" x=\"84.5\" y=\"164.1387\">«item»</text><text fill=\"#000000\" font-family=\"sans-serif\" font-size=\"12\" lengthAdjust=\"spacingAndGlyphs\" textLength=\"32\" x=\"87\" y=\"178.1074\">a1: A</text><line style=\"stroke: #383838; stroke-width: 1.5;\" x1=\"84.5\" x2=\"125.5\" y1=\"185.9375\" y2=\"185.9375\"/></a><!--MD5=[1dd1bfd58a279cf63c5f349dbc8fc6a1]\n",
       "class E11--><a href=\"psysml:7b14a527-4e8d-41df-a91b-3ca9db44b1d9\" target=\"_top\" title=\"psysml:7b14a527-4e8d-41df-a91b-3ca9db44b1d9\" xlink:actuate=\"onRequest\" xlink:href=\"psysml:7b14a527-4e8d-41df-a91b-3ca9db44b1d9\" xlink:show=\"new\" xlink:title=\"psysml:7b14a527-4e8d-41df-a91b-3ca9db44b1d9\" xlink:type=\"simple\"><rect fill=\"#FFFFFF\" height=\"45.9375\" id=\"E11\" rx=\"10\" ry=\"10\" style=\"stroke: #383838; stroke-width: 1.5;\" width=\"43\" x=\"161.5\" y=\"148\"/><text fill=\"#000000\" font-family=\"sans-serif\" font-size=\"12\" font-style=\"italic\" lengthAdjust=\"spacingAndGlyphs\" textLength=\"41\" x=\"162.5\" y=\"164.1387\">«item»</text><text fill=\"#000000\" font-family=\"sans-serif\" font-size=\"12\" lengthAdjust=\"spacingAndGlyphs\" textLength=\"32\" x=\"165\" y=\"178.1074\">a2: A</text><line style=\"stroke: #383838; stroke-width: 1.5;\" x1=\"162.5\" x2=\"203.5\" y1=\"185.9375\" y2=\"185.9375\"/></a><!--MD5=[2720a5a1f2c3fca2055b230370638851]\n",
       "link E2 to E3--><a href=\"psysml:2913aa14-34e4-4ebc-b3c0-73cbbe37a712\" target=\"_top\" title=\"psysml:2913aa14-34e4-4ebc-b3c0-73cbbe37a712\" xlink:actuate=\"onRequest\" xlink:href=\"psysml:2913aa14-34e4-4ebc-b3c0-73cbbe37a712\" xlink:show=\"new\" xlink:title=\"psysml:2913aa14-34e4-4ebc-b3c0-73cbbe37a712\" xlink:type=\"simple\"><path d=\"M244.65,194.01 C235.14,206.81 222.89,223.3 211.82,238.2 \" fill=\"none\" id=\"E2-&gt;E3\" style=\"stroke: #383838; stroke-width: 1.0;\"/><polygon fill=\"#FFFFFF\" points=\"199.6,254.66,205.3195,235.2361,216.5543,243.5896,199.6,254.66\" style=\"stroke: #383838; stroke-width: 1.0;\"/><ellipse cx=\"210.3256\" cy=\"231.8554\" fill=\"#383838\" rx=\"2\" ry=\"2\" style=\"stroke: #383838; stroke-width: 1.0;\"/><ellipse cx=\"218.3504\" cy=\"237.8221\" fill=\"#383838\" rx=\"2\" ry=\"2\" style=\"stroke: #383838; stroke-width: 1.0;\"/></a><!--MD5=[4672eba38e49728da53d11aeb285b987]\n",
       "reverse link E3 to E4--><a href=\"psysml:5a70b25d-3e65-48fe-9200-ece04e9de0ee\" target=\"_top\" title=\"psysml:5a70b25d-3e65-48fe-9200-ece04e9de0ee\" xlink:actuate=\"onRequest\" xlink:href=\"psysml:5a70b25d-3e65-48fe-9200-ece04e9de0ee\" xlink:show=\"new\" xlink:title=\"psysml:5a70b25d-3e65-48fe-9200-ece04e9de0ee\" xlink:type=\"simple\"><path d=\"M220.77,309.14 C250.52,332.88 287,362 287,362 C287,362 287,408 287,408 C287,408 283.97,423.77 281.24,437.95 \" fill=\"none\" id=\"E3&lt;-E4\" style=\"stroke: #383838; stroke-width: 1.0;\"/><polygon fill=\"#383838\" points=\"210.6,301.02,212.7911,307.8901,219.9756,308.5099,217.7844,301.6398,210.6,301.02\" style=\"stroke: #383838; stroke-width: 1.0;\"/><text fill=\"#000000\" font-family=\"sans-serif\" font-size=\"13\" lengthAdjust=\"spacingAndGlyphs\" textLength=\"8\" x=\"274.2661\" y=\"428.0588\">1</text></a><!--MD5=[191cde3d490a3f6d7bb551fe3ddca469]\n",
       "reverse link E3 to E5--><a href=\"psysml:98aba136-2768-4c7e-bc34-95a5a6a911cd\" target=\"_top\" title=\"psysml:98aba136-2768-4c7e-bc34-95a5a6a911cd\" xlink:actuate=\"onRequest\" xlink:href=\"psysml:98aba136-2768-4c7e-bc34-95a5a6a911cd\" xlink:show=\"new\" xlink:title=\"psysml:98aba136-2768-4c7e-bc34-95a5a6a911cd\" xlink:type=\"simple\"><path d=\"M203.52,312.15 C213.51,328.29 225.26,347.26 234.17,361.66 \" fill=\"none\" id=\"E3&lt;-E5\" style=\"stroke: #383838; stroke-width: 1.0;\"/><polygon fill=\"#FFFFFF\" points=\"196.63,301.01,196.3861,308.217,202.9449,311.214,203.1888,304.007,196.63,301.01\" style=\"stroke: #383838; stroke-width: 1.0;\"/><text fill=\"#000000\" font-family=\"sans-serif\" font-size=\"13\" lengthAdjust=\"spacingAndGlyphs\" textLength=\"8\" x=\"221.6011\" y=\"350.8492\">1</text></a><!--MD5=[79568f1e445c3877b6a54524624ccc7d]\n",
       "link E4 to E6--><a href=\"psysml:04be4dec-9fb2-423c-a400-1c82afc162c3\" target=\"_top\" title=\"psysml:04be4dec-9fb2-423c-a400-1c82afc162c3\" xlink:actuate=\"onRequest\" xlink:href=\"psysml:04be4dec-9fb2-423c-a400-1c82afc162c3\" xlink:show=\"new\" xlink:title=\"psysml:04be4dec-9fb2-423c-a400-1c82afc162c3\" xlink:type=\"simple\"><path d=\"M270.3,484 C259.14,520.6 238,590 238,590 C238,590 220.16,621.54 204.61,649.02 \" fill=\"none\" id=\"E4-&gt;E6\" style=\"stroke: #383838; stroke-width: 1.0;\"/><polygon fill=\"#FFFFFF\" points=\"194.71,666.54,197.9651,646.5549,210.153,653.4437,194.71,666.54\" style=\"stroke: #383838; stroke-width: 1.0;\"/><ellipse cx=\"202.511\" cy=\"642.5768\" fill=\"#383838\" rx=\"2\" ry=\"2\" style=\"stroke: #383838; stroke-width: 1.0;\"/><ellipse cx=\"211.2166\" cy=\"647.4974\" fill=\"#383838\" rx=\"2\" ry=\"2\" style=\"stroke: #383838; stroke-width: 1.0;\"/></a><!--MD5=[3f50a3473f1dfb74d3f76443e03635af]\n",
       "reverse link E6 to E7--><a href=\"psysml:88a05b08-39fe-46e7-8c9b-5df9e56fb426\" target=\"_top\" title=\"psysml:88a05b08-39fe-46e7-8c9b-5df9e56fb426\" xlink:actuate=\"onRequest\" xlink:href=\"psysml:88a05b08-39fe-46e7-8c9b-5df9e56fb426\" xlink:show=\"new\" xlink:title=\"psysml:88a05b08-39fe-46e7-8c9b-5df9e56fb426\" xlink:type=\"simple\"><path d=\"M161.48,724.15 C151.49,740.29 139.74,759.26 130.83,773.66 \" fill=\"none\" id=\"E6&lt;-E7\" style=\"stroke: #383838; stroke-width: 1.0;\"/><polygon fill=\"#383838\" points=\"168.37,713.01,161.8112,716.007,162.0551,723.214,168.6139,720.217,168.37,713.01\" style=\"stroke: #383838; stroke-width: 1.0;\"/><text fill=\"#000000\" font-family=\"sans-serif\" font-size=\"13\" lengthAdjust=\"spacingAndGlyphs\" textLength=\"8\" x=\"125.3489\" y=\"762.8492\">1</text></a><!--MD5=[14ccda38c055a5c0da953d572bc50960]\n",
       "link E7 to E3--><a href=\"psysml:de23f89f-df32-45d9-b344-47d8d19c4edc\" target=\"_top\" title=\"psysml:de23f89f-df32-45d9-b344-47d8d19c4edc\" xlink:actuate=\"onRequest\" xlink:href=\"psysml:de23f89f-df32-45d9-b344-47d8d19c4edc\" xlink:show=\"new\" xlink:title=\"psysml:de23f89f-df32-45d9-b344-47d8d19c4edc\" xlink:type=\"simple\"><path d=\"M99.39,773.99 C74.76,743.2 33,691 33,691 C33,384 33,384 33,384 C33,384 91.12,343.32 135,312.6 \" fill=\"none\" id=\"E7-&gt;E3\" style=\"stroke: #383838; stroke-width: 1.0;\"/><polygon fill=\"#FFFFFF\" points=\"151.56,301.01,140.0001,317.6343,131.9776,306.1608,151.56,301.01\" style=\"stroke: #383838; stroke-width: 1.0;\"/><ellipse cx=\"134.1827\" cy=\"319.2615\" fill=\"#383838\" rx=\"2\" ry=\"2\" style=\"stroke: #383838; stroke-width: 1.0;\"/><ellipse cx=\"128.4524\" cy=\"311.0662\" fill=\"#383838\" rx=\"2\" ry=\"2\" style=\"stroke: #383838; stroke-width: 1.0;\"/></a><!--MD5=[dfaffb906826c3e5aca635516100ff21]\n",
       "link E5 to E8--><a href=\"psysml:feaf6c57-7b20-4701-8323-0c325a1238bf\" target=\"_top\" title=\"psysml:feaf6c57-7b20-4701-8323-0c325a1238bf\" xlink:actuate=\"onRequest\" xlink:href=\"psysml:feaf6c57-7b20-4701-8323-0c325a1238bf\" xlink:show=\"new\" xlink:title=\"psysml:feaf6c57-7b20-4701-8323-0c325a1238bf\" xlink:type=\"simple\"><path d=\"M239.23,408.25 C230.48,430.48 216.67,465.53 204.93,495.33 \" fill=\"none\" id=\"E5-&gt;E8\" style=\"stroke: #383838; stroke-width: 1.0;\"/><polygon fill=\"#FFFFFF\" points=\"197.58,513.98,198.027,493.7365,211.0538,498.8652,197.58,513.98\" style=\"stroke: #383838; stroke-width: 1.0;\"/><ellipse cx=\"201.9761\" cy=\"489.1654\" fill=\"#383838\" rx=\"2\" ry=\"2\" style=\"stroke: #383838; stroke-width: 1.0;\"/><ellipse cx=\"211.2809\" cy=\"492.8288\" fill=\"#383838\" rx=\"2\" ry=\"2\" style=\"stroke: #383838; stroke-width: 1.0;\"/></a><!--MD5=[03c8294790d3c57651a1993cecff665f]\n",
       "reverse link E8 to E3--><a href=\"psysml:f63e9e98-9395-484c-b7ba-710e403c3592\" target=\"_top\" title=\"psysml:f63e9e98-9395-484c-b7ba-710e403c3592\" xlink:actuate=\"onRequest\" xlink:href=\"psysml:f63e9e98-9395-484c-b7ba-710e403c3592\" xlink:show=\"new\" xlink:title=\"psysml:f63e9e98-9395-484c-b7ba-710e403c3592\" xlink:type=\"simple\"><path d=\"M164.96,501.4 C149.94,460.1 131,408 131,408 C131,408 131,362 131,362 C131,362 153.66,325.83 169.06,301.24 \" fill=\"none\" id=\"E8&lt;-E3\" style=\"stroke: #383838; stroke-width: 1.0;\"/><polygon fill=\"#FFFFFF\" points=\"169.47,513.8,171.1807,506.7947,165.3723,502.5213,163.6616,509.5266,169.47,513.8\" style=\"stroke: #383838; stroke-width: 1.0;\"/><text fill=\"#000000\" font-family=\"sans-serif\" font-size=\"13\" lengthAdjust=\"spacingAndGlyphs\" textLength=\"7\" x=\"132\" y=\"389.5669\">y</text></a><!--MD5=[03c8294790d3c57651a1993cecff665f]\n",
       "reverse link E8 to E3--><a href=\"psysml:f63e9e98-9395-484c-b7ba-710e403c3592\" target=\"_top\" title=\"psysml:f63e9e98-9395-484c-b7ba-710e403c3592\" xlink:actuate=\"onRequest\" xlink:href=\"psysml:f63e9e98-9395-484c-b7ba-710e403c3592\" xlink:show=\"new\" xlink:title=\"psysml:f63e9e98-9395-484c-b7ba-710e403c3592\" xlink:type=\"simple\"><path d=\"M183,500.73 C183,441.17 183,344.58 183,301.26 \" fill=\"none\" id=\"E8&lt;-E3-1\" style=\"stroke: #383838; stroke-width: 1.0;\"/><polygon fill=\"#FFFFFF\" points=\"183,513.93,187,507.93,183,501.93,179,507.93,183,513.93\" style=\"stroke: #383838; stroke-width: 1.0;\"/><text fill=\"#000000\" font-family=\"sans-serif\" font-size=\"13\" lengthAdjust=\"spacingAndGlyphs\" textLength=\"7\" x=\"184\" y=\"389.5669\">y</text></a><!--MD5=[0d75d2178373a6a4568e5dc728f58aef]\n",
       "reverse link E8 to E6--><a href=\"psysml:f63e9e98-9395-484c-b7ba-710e403c3592\" target=\"_top\" title=\"psysml:f63e9e98-9395-484c-b7ba-710e403c3592\" xlink:actuate=\"onRequest\" xlink:href=\"psysml:f63e9e98-9395-484c-b7ba-710e403c3592\" xlink:show=\"new\" xlink:title=\"psysml:f63e9e98-9395-484c-b7ba-710e403c3592\" xlink:type=\"simple\"><path d=\"M165.25,602.56 C161.68,612.52 159,620 159,620 C159,620 159,637 159,637 C159,637 165.98,652.77 172.25,666.95 \" fill=\"none\" id=\"E8&lt;-E6\" style=\"stroke: #383838; stroke-width: 1.0;\"/><polygon fill=\"#FFFFFF\" points=\"169.74,590.03,163.9509,594.3295,165.6931,601.327,171.4822,597.0275,169.74,590.03\" style=\"stroke: #383838; stroke-width: 1.0;\"/><text fill=\"#000000\" font-family=\"sans-serif\" font-size=\"13\" lengthAdjust=\"spacingAndGlyphs\" textLength=\"7\" x=\"160\" y=\"633.0669\">y</text></a><!--MD5=[0d75d2178373a6a4568e5dc728f58aef]\n",
       "reverse link E8 to E6--><a href=\"psysml:f63e9e98-9395-484c-b7ba-710e403c3592\" target=\"_top\" title=\"psysml:f63e9e98-9395-484c-b7ba-710e403c3592\" xlink:actuate=\"onRequest\" xlink:href=\"psysml:f63e9e98-9395-484c-b7ba-710e403c3592\" xlink:show=\"new\" xlink:title=\"psysml:f63e9e98-9395-484c-b7ba-710e403c3592\" xlink:type=\"simple\"><path d=\"M182.63,603.33 C182.47,625.16 182.29,649.6 182.16,666.77 \" fill=\"none\" id=\"E8&lt;-E6-1\" style=\"stroke: #383838; stroke-width: 1.0;\"/><polygon fill=\"#FFFFFF\" points=\"182.73,590.16,178.684,596.1291,182.6377,602.1596,186.6837,596.1906,182.73,590.16\" style=\"stroke: #383838; stroke-width: 1.0;\"/><text fill=\"#000000\" font-family=\"sans-serif\" font-size=\"13\" lengthAdjust=\"spacingAndGlyphs\" textLength=\"7\" x=\"183\" y=\"633.0669\">y</text></a><!--MD5=[23ac544a70576c3e717098101004234c]\n",
       "reverse link E9 to E10--><a href=\"psysml:f7fd9ae3-3fa5-48e2-b146-bf2078e3bf75\" target=\"_top\" title=\"psysml:f7fd9ae3-3fa5-48e2-b146-bf2078e3bf75\" xlink:actuate=\"onRequest\" xlink:href=\"psysml:f7fd9ae3-3fa5-48e2-b146-bf2078e3bf75\" xlink:show=\"new\" xlink:title=\"psysml:f7fd9ae3-3fa5-48e2-b146-bf2078e3bf75\" xlink:type=\"simple\"><path d=\"M131.16,99.57 C125.28,115.39 118.49,133.68 113.3,147.66 \" fill=\"none\" id=\"E9&lt;-E10\" style=\"stroke: #383838; stroke-width: 1.0;\"/><polygon fill=\"#FFFFFF\" points=\"135.82,87.01,129.9804,91.2408,131.6398,98.2584,137.4793,94.0276,135.82,87.01\" style=\"stroke: #383838; stroke-width: 1.0;\"/><text fill=\"#000000\" font-family=\"sans-serif\" font-size=\"13\" lengthAdjust=\"spacingAndGlyphs\" textLength=\"8\" x=\"106.4019\" y=\"136.8492\">1</text></a><!--MD5=[feeac5eb423634930294aa81f2d25a4c]\n",
       "link E10 to E3--><a href=\"psysml:09a722a7-3c7d-4d30-9bcf-d6d93c165304\" target=\"_top\" title=\"psysml:09a722a7-3c7d-4d30-9bcf-d6d93c165304\" xlink:actuate=\"onRequest\" xlink:href=\"psysml:09a722a7-3c7d-4d30-9bcf-d6d93c165304\" xlink:show=\"new\" xlink:title=\"psysml:09a722a7-3c7d-4d30-9bcf-d6d93c165304\" xlink:type=\"simple\"><path d=\"M121.35,194.01 C130.86,206.81 143.11,223.3 154.18,238.2 \" fill=\"none\" id=\"E10-&gt;E3\" style=\"stroke: #383838; stroke-width: 1.0;\"/><polygon fill=\"#FFFFFF\" points=\"166.4,254.66,149.4457,243.5896,160.6805,235.2361,166.4,254.66\" style=\"stroke: #383838; stroke-width: 1.0;\"/><ellipse cx=\"147.6496\" cy=\"237.8221\" fill=\"#383838\" rx=\"2\" ry=\"2\" style=\"stroke: #383838; stroke-width: 1.0;\"/><ellipse cx=\"155.6744\" cy=\"231.8554\" fill=\"#383838\" rx=\"2\" ry=\"2\" style=\"stroke: #383838; stroke-width: 1.0;\"/></a><!--MD5=[1fc04a95fd77ad5ce46c1a3027516051]\n",
       "reverse link E9 to E11--><a href=\"psysml:2308c13a-9c40-4baf-abe1-b4752fcfac30\" target=\"_top\" title=\"psysml:2308c13a-9c40-4baf-abe1-b4752fcfac30\" xlink:actuate=\"onRequest\" xlink:href=\"psysml:2308c13a-9c40-4baf-abe1-b4752fcfac30\" xlink:show=\"new\" xlink:title=\"psysml:2308c13a-9c40-4baf-abe1-b4752fcfac30\" xlink:type=\"simple\"><path d=\"M156.84,99.57 C162.72,115.39 169.51,133.68 174.7,147.66 \" fill=\"none\" id=\"E9&lt;-E11\" style=\"stroke: #383838; stroke-width: 1.0;\"/><polygon fill=\"#FFFFFF\" points=\"152.18,87.01,150.5207,94.0276,156.3602,98.2584,158.0196,91.2408,152.18,87.01\" style=\"stroke: #383838; stroke-width: 1.0;\"/><text fill=\"#000000\" font-family=\"sans-serif\" font-size=\"13\" lengthAdjust=\"spacingAndGlyphs\" textLength=\"8\" x=\"163.5481\" y=\"136.8492\">1</text></a><!--MD5=[0517f1ce58c4d5483948f93845c45e26]\n",
       "link E11 to E3--><a href=\"psysml:713baad2-05ac-404b-8904-f9720a0da3f6\" target=\"_top\" title=\"psysml:713baad2-05ac-404b-8904-f9720a0da3f6\" xlink:actuate=\"onRequest\" xlink:href=\"psysml:713baad2-05ac-404b-8904-f9720a0da3f6\" xlink:show=\"new\" xlink:title=\"psysml:713baad2-05ac-404b-8904-f9720a0da3f6\" xlink:type=\"simple\"><path d=\"M183,194.01 C183,205.69 183,220.46 183,234.28 \" fill=\"none\" id=\"E11-&gt;E3\" style=\"stroke: #383838; stroke-width: 1.0;\"/><polygon fill=\"#FFFFFF\" points=\"183,254.66,176,235.66,190,235.66,183,254.66\" style=\"stroke: #383838; stroke-width: 1.0;\"/><ellipse cx=\"178\" cy=\"229.96\" fill=\"#383838\" rx=\"2\" ry=\"2\" style=\"stroke: #383838; stroke-width: 1.0;\"/><ellipse cx=\"188\" cy=\"229.96\" fill=\"#383838\" rx=\"2\" ry=\"2\" style=\"stroke: #383838; stroke-width: 1.0;\"/></a><!--MD5=[120a376a211038d1f0cd662ba1c1aea3]\n",
       "@startuml\r\n",
       "skinparam linetype polyline\r\n",
       "skinparam monochrome true\r\n",
       "skinparam classbackgroundcolor white\r\n",
       "skinparam shadowing false\r\n",
       "skinparam wrapWidth 300\r\n",
       "hide circle\r\n",
       "\r\n",
       "package \"ItemTest\" as E1  [[psysml:9c84b130-4496-45dd-acf0-f614adf4451b ]]  {\r\n",
       "comp usage \"f: A \" as E2  <<(T,blue) item>> [[psysml:046ce2e8-70d6-418b-9e34-4058f6a1e698 ]] {\r\n",
       "}\r\n",
       "comp def \"A\" as E3  <<(T,blue) item  def>> [[psysml:b761bda6-ef45-4173-adbe-8f17f5dd59b9 ]] {\r\n",
       "}\r\n",
       "comp usage \"b: B \" as E4  <<(T,blue) item>> [[psysml:5a9b7c1e-d921-40a5-84d4-dcafad1b8599 ]] {\r\n",
       "}\r\n",
       "comp usage \"c: C \" as E5  <<(T,blue) part>> [[psysml:c52e7c62-32ae-43e1-a51e-2d7f86512260 ]] {\r\n",
       "}\r\n",
       "comp def \"<i>B</i>\" as E6  <<(T,blue) item  def>> [[psysml:154f7142-f3c2-4f8f-a55c-1d31f59952e7 ]] {\r\n",
       "}\r\n",
       "comp usage \"<i>a</i>: A \" as E7  <<(T,blue) part>> [[psysml:3092a58e-bc17-492e-b3ac-d9b0c5d27ee1 ]] {\r\n",
       "}\r\n",
       "comp def \"C\" as E8  <<(T,blue) part  def>> [[psysml:a977dc12-1522-4e17-86ea-88834b4a9262 ]] {\r\n",
       "- - parameters - -\r\n",
       "<b>in</b> y: A, B\r\n",
       "}\r\n",
       "comp def \"P\" as E9  <<(T,blue) port  def>> [[psysml:505a0904-767f-4431-bdaf-f395e9a256c5 ]] {\r\n",
       "}\r\n",
       "comp usage \"a1: A \" as E10  <<(T,blue) item>> [[psysml:b48ee9ab-0a15-45ce-8465-86ae83c4be7f ]] {\r\n",
       "}\r\n",
       "comp usage \"a2: A \" as E11  <<(T,blue) item>> [[psysml:7b14a527-4e8d-41df-a91b-3ca9db44b1d9 ]] {\r\n",
       "}\r\n",
       "}\r\n",
       "E2 - -:|> E3 [[psysml:2913aa14-34e4-4ebc-b3c0-73cbbe37a712 ]] \r\n",
       "E3 *- - \"1\"E4 [[psysml:5a70b25d-3e65-48fe-9200-ece04e9de0ee ]] \r\n",
       "E3 o- - \"1\"E5 [[psysml:98aba136-2768-4c7e-bc34-95a5a6a911cd ]] \r\n",
       "E4 - -:|> E6 [[psysml:04be4dec-9fb2-423c-a400-1c82afc162c3 ]] \r\n",
       "E6 *- - \"1\"E7 [[psysml:88a05b08-39fe-46e7-8c9b-5df9e56fb426 ]] \r\n",
       "E7 - -:|> E3 [[psysml:de23f89f-df32-45d9-b344-47d8d19c4edc ]] \r\n",
       "E5 - -:|> E8 [[psysml:feaf6c57-7b20-4701-8323-0c325a1238bf ]] \r\n",
       "E8 o- - E3 [[psysml:f63e9e98-9395-484c-b7ba-710e403c3592 ]] : y\r\n",
       "E8 o- - E6 [[psysml:f63e9e98-9395-484c-b7ba-710e403c3592 ]] : y\r\n",
       "E8 o- - E3 [[psysml:f63e9e98-9395-484c-b7ba-710e403c3592 ]] : y\r\n",
       "E8 o- - E6 [[psysml:f63e9e98-9395-484c-b7ba-710e403c3592 ]] : y\r\n",
       "E9 o- - \"1\"E10 [[psysml:f7fd9ae3-3fa5-48e2-b146-bf2078e3bf75 ]] \r\n",
       "E10 - -:|> E3 [[psysml:09a722a7-3c7d-4d30-9bcf-d6d93c165304 ]] \r\n",
       "E9 o- - \"1\"E11 [[psysml:2308c13a-9c40-4baf-abe1-b4752fcfac30 ]] \r\n",
       "E11 - -:|> E3 [[psysml:713baad2-05ac-404b-8904-f9720a0da3f6 ]] \r\n",
       "@enduml\r\n",
       "\n",
       "PlantUML version 1.2020.13(Sat Jun 13 12:26:38 UTC 2020)\n",
       "(EPL source distribution)\n",
       "Java Runtime: OpenJDK Runtime Environment\n",
       "JVM: OpenJDK 64-Bit Server VM\n",
       "Default Encoding: UTF-8\n",
       "Language: en\n",
       "Country: null\n",
       "--></g></svg>"
      ]
     },
     "execution_count": 10,
     "metadata": {},
     "output_type": "execute_result"
    }
   ],
   "source": [
    "%viz --style=\"POLYLINE\" --view=\"Tree\" \"ItemTest\""
   ]
  },
  {
   "cell_type": "code",
   "execution_count": 11,
   "id": "2fc16d58",
   "metadata": {
    "execution": {
     "iopub.execute_input": "2021-10-25T08:20:53.268876Z",
     "iopub.status.busy": "2021-10-25T08:20:53.268299Z",
     "iopub.status.idle": "2021-10-25T08:20:53.275286Z",
     "shell.execute_reply": "2021-10-25T08:20:53.275605Z"
    }
   },
   "outputs": [
    {
     "data": {
      "image/svg+xml": [
       "<?xml version=\"1.0\" encoding=\"UTF-8\" standalone=\"no\"?><svg xmlns=\"http://www.w3.org/2000/svg\" xmlns:xlink=\"http://www.w3.org/1999/xlink\" contentScriptType=\"application/ecmascript\" contentStyleType=\"text/css\" height=\"12px\" preserveAspectRatio=\"none\" style=\"width:12px;height:12px;\" version=\"1.1\" viewBox=\"0 0 12 12\" width=\"12px\" zoomAndPan=\"magnify\"><defs/><g><!--MD5=[896ac0e7a515d8dd7765a661cb4ee08b]\n",
       "@startuml\r\n",
       "skinparam linetype polyline\r\n",
       "skinparam monochrome true\r\n",
       "skinparam classbackgroundcolor white\r\n",
       "skinparam shadowing false\r\n",
       "skinparam wrapWidth 300\r\n",
       "hide circle\r\n",
       "\r\n",
       "@enduml\r\n",
       "\n",
       "PlantUML version 1.2020.13(Sat Jun 13 12:26:38 UTC 2020)\n",
       "(EPL source distribution)\n",
       "Java Runtime: OpenJDK Runtime Environment\n",
       "JVM: OpenJDK 64-Bit Server VM\n",
       "Default Encoding: UTF-8\n",
       "Language: en\n",
       "Country: null\n",
       "--></g></svg>"
      ]
     },
     "execution_count": 11,
     "metadata": {},
     "output_type": "execute_result"
    }
   ],
   "source": [
    "%viz --style=\"POLYLINE\" --view=\"State\" \"ItemTest\""
   ]
  },
  {
   "cell_type": "code",
   "execution_count": 12,
   "id": "69e6a2a7",
   "metadata": {
    "execution": {
     "iopub.execute_input": "2021-10-25T08:20:53.325702Z",
     "iopub.status.busy": "2021-10-25T08:20:53.325141Z",
     "iopub.status.idle": "2021-10-25T08:20:53.355644Z",
     "shell.execute_reply": "2021-10-25T08:20:53.355272Z"
    }
   },
   "outputs": [
    {
     "data": {
      "image/svg+xml": [
       "<?xml version=\"1.0\" encoding=\"UTF-8\" standalone=\"no\"?><svg xmlns=\"http://www.w3.org/2000/svg\" xmlns:xlink=\"http://www.w3.org/1999/xlink\" contentScriptType=\"application/ecmascript\" contentStyleType=\"text/css\" height=\"112px\" preserveAspectRatio=\"none\" style=\"width:563px;height:112px;\" version=\"1.1\" viewBox=\"0 0 563 112\" width=\"563px\" zoomAndPan=\"magnify\"><defs/><g><!--MD5=[fbc87193dbaf4d95561dea2c320d4a47]\n",
       "cluster E1--><a href=\"psysml:9c84b130-4496-45dd-acf0-f614adf4451b\" target=\"_top\" title=\"psysml:9c84b130-4496-45dd-acf0-f614adf4451b\" xlink:actuate=\"onRequest\" xlink:href=\"psysml:9c84b130-4496-45dd-acf0-f614adf4451b\" xlink:show=\"new\" xlink:title=\"psysml:9c84b130-4496-45dd-acf0-f614adf4451b\" xlink:type=\"simple\"><polygon fill=\"#FFFFFF\" points=\"16,6,83,6,90,28.2969,541,28.2969,541,100,16,100,16,6\" style=\"stroke: #000000; stroke-width: 1.5;\"/><line style=\"stroke: #000000; stroke-width: 1.5;\" x1=\"16\" x2=\"90\" y1=\"28.2969\" y2=\"28.2969\"/><text fill=\"#000000\" font-family=\"sans-serif\" font-size=\"14\" font-weight=\"bold\" lengthAdjust=\"spacingAndGlyphs\" textLength=\"61\" x=\"20\" y=\"20.9951\">ItemTest</text></a><g id=\"E1.E3\"><a href=\"psysml:b761bda6-ef45-4173-adbe-8f17f5dd59b9\" target=\"_top\" title=\"psysml:b761bda6-ef45-4173-adbe-8f17f5dd59b9\" xlink:actuate=\"onRequest\" xlink:href=\"psysml:b761bda6-ef45-4173-adbe-8f17f5dd59b9\" xlink:show=\"new\" xlink:title=\"psysml:b761bda6-ef45-4173-adbe-8f17f5dd59b9\" xlink:type=\"simple\"><rect fill=\"#FFFFFF\" height=\"42.9375\" id=\"E3\" style=\"stroke: #383838; stroke-width: 1.5;\" width=\"76\" x=\"449\" y=\"41\"/><rect fill=\"#F8F8F8\" height=\"37.9375\" style=\"stroke: #383838; stroke-width: 1.5;\" width=\"76\" x=\"449\" y=\"41\"/><text fill=\"#000000\" font-family=\"sans-serif\" font-size=\"12\" font-style=\"italic\" lengthAdjust=\"spacingAndGlyphs\" textLength=\"69\" x=\"452.5\" y=\"57.1387\">«item  def»</text><text fill=\"#000000\" font-family=\"sans-serif\" font-size=\"12\" lengthAdjust=\"spacingAndGlyphs\" textLength=\"8\" x=\"483\" y=\"71.1074\">A</text></a></g><g id=\"E1.E4\"><a href=\"psysml:154f7142-f3c2-4f8f-a55c-1d31f59952e7\" target=\"_top\" title=\"psysml:154f7142-f3c2-4f8f-a55c-1d31f59952e7\" xlink:actuate=\"onRequest\" xlink:href=\"psysml:154f7142-f3c2-4f8f-a55c-1d31f59952e7\" xlink:show=\"new\" xlink:title=\"psysml:154f7142-f3c2-4f8f-a55c-1d31f59952e7\" xlink:type=\"simple\"><rect fill=\"#FFFFFF\" height=\"42.9375\" id=\"E4\" style=\"stroke: #383838; stroke-width: 1.5;\" width=\"76\" x=\"338\" y=\"41\"/><rect fill=\"#F8F8F8\" height=\"37.9375\" style=\"stroke: #383838; stroke-width: 1.5;\" width=\"76\" x=\"338\" y=\"41\"/><text fill=\"#000000\" font-family=\"sans-serif\" font-size=\"12\" font-style=\"italic\" lengthAdjust=\"spacingAndGlyphs\" textLength=\"69\" x=\"341.5\" y=\"57.1387\">«item  def»</text><text fill=\"#000000\" font-family=\"sans-serif\" font-size=\"12\" font-style=\"italic\" lengthAdjust=\"spacingAndGlyphs\" textLength=\"8\" x=\"372\" y=\"71.1074\">B</text></a></g><g id=\"E1.E6\"><a href=\"psysml:505a0904-767f-4431-bdaf-f395e9a256c5\" target=\"_top\" title=\"psysml:505a0904-767f-4431-bdaf-f395e9a256c5\" xlink:actuate=\"onRequest\" xlink:href=\"psysml:505a0904-767f-4431-bdaf-f395e9a256c5\" xlink:show=\"new\" xlink:title=\"psysml:505a0904-767f-4431-bdaf-f395e9a256c5\" xlink:type=\"simple\"><rect fill=\"#FFFFFF\" height=\"42.9375\" id=\"E6\" style=\"stroke: #383838; stroke-width: 1.5;\" width=\"75\" x=\"227.5\" y=\"41\"/><rect fill=\"#F8F8F8\" height=\"37.9375\" style=\"stroke: #383838; stroke-width: 1.5;\" width=\"75\" x=\"227.5\" y=\"41\"/><text fill=\"#000000\" font-family=\"sans-serif\" font-size=\"12\" font-style=\"italic\" lengthAdjust=\"spacingAndGlyphs\" textLength=\"68\" x=\"231\" y=\"57.1387\">«port  def»</text><text fill=\"#000000\" font-family=\"sans-serif\" font-size=\"12\" lengthAdjust=\"spacingAndGlyphs\" textLength=\"8\" x=\"261\" y=\"71.1074\">P</text></a></g><g id=\"E1.E2\"><a href=\"psysml:046ce2e8-70d6-418b-9e34-4058f6a1e698\" target=\"_top\" title=\"psysml:046ce2e8-70d6-418b-9e34-4058f6a1e698\" xlink:actuate=\"onRequest\" xlink:href=\"psysml:046ce2e8-70d6-418b-9e34-4058f6a1e698\" xlink:show=\"new\" xlink:title=\"psysml:046ce2e8-70d6-418b-9e34-4058f6a1e698\" xlink:type=\"simple\"><rect fill=\"#FFFFFF\" height=\"42.9375\" id=\"E2\" rx=\"10\" ry=\"10\" style=\"stroke: #383838; stroke-width: 1.5;\" width=\"50\" x=\"142\" y=\"41\"/><rect fill=\"#F8F8F8\" height=\"37.9375\" rx=\"10\" ry=\"10\" style=\"stroke: #F8F8F8; stroke-width: 1.5;\" width=\"50\" x=\"142\" y=\"41\"/><rect fill=\"#F8F8F8\" height=\"10\" style=\"stroke: #F8F8F8; stroke-width: 1.5;\" width=\"50\" x=\"142\" y=\"68.9375\"/><rect fill=\"none\" height=\"42.9375\" id=\"E2\" rx=\"10\" ry=\"10\" style=\"stroke: #383838; stroke-width: 1.5;\" width=\"50\" x=\"142\" y=\"41\"/><text fill=\"#000000\" font-family=\"sans-serif\" font-size=\"12\" font-style=\"italic\" lengthAdjust=\"spacingAndGlyphs\" textLength=\"41\" x=\"146.5\" y=\"57.1387\">«item»</text><text fill=\"#000000\" font-family=\"sans-serif\" font-size=\"12\" lengthAdjust=\"spacingAndGlyphs\" textLength=\"20\" x=\"157\" y=\"71.1074\">f: A</text></a></g><g id=\"E1.E5\"><a href=\"psysml:a977dc12-1522-4e17-86ea-88834b4a9262\" target=\"_top\" title=\"psysml:a977dc12-1522-4e17-86ea-88834b4a9262\" xlink:actuate=\"onRequest\" xlink:href=\"psysml:a977dc12-1522-4e17-86ea-88834b4a9262\" xlink:show=\"new\" xlink:title=\"psysml:a977dc12-1522-4e17-86ea-88834b4a9262\" xlink:type=\"simple\"><rect fill=\"#FFFFFF\" height=\"42.9375\" id=\"E5\" style=\"stroke: #383838; stroke-width: 1.5;\" width=\"75\" x=\"31.5\" y=\"41\"/><rect fill=\"#F8F8F8\" height=\"37.9375\" style=\"stroke: #383838; stroke-width: 1.5;\" width=\"75\" x=\"31.5\" y=\"41\"/><text fill=\"#000000\" font-family=\"sans-serif\" font-size=\"12\" font-style=\"italic\" lengthAdjust=\"spacingAndGlyphs\" textLength=\"68\" x=\"35\" y=\"57.1387\">«part  def»</text><text fill=\"#000000\" font-family=\"sans-serif\" font-size=\"12\" lengthAdjust=\"spacingAndGlyphs\" textLength=\"8\" x=\"65\" y=\"71.1074\">C</text></a></g><!--MD5=[bfb73e4d8b7c0594dc99fadd392116f3]\n",
       "@startuml\r\n",
       "skinparam ranksep 10\r\n",
       "skinparam rectangle {\r\n",
       " backgroundColor<<block>> LightGreen\r\n",
       "}\r\n",
       "skinparam linetype polyline\r\n",
       "skinparam monochrome true\r\n",
       "skinparam classbackgroundcolor white\r\n",
       "skinparam shadowing false\r\n",
       "skinparam wrapWidth 300\r\n",
       "hide circle\r\n",
       "\r\n",
       "package \"ItemTest\" as E1  [[psysml:9c84b130-4496-45dd-acf0-f614adf4451b ]]  {\r\n",
       "rec usage \"f: A\" as E2  <<(T,blue) item>> [[psysml:046ce2e8-70d6-418b-9e34-4058f6a1e698 ]] {\r\n",
       "}\r\n",
       "def \"A\" as E3  <<(T,blue) item  def>> [[psysml:b761bda6-ef45-4173-adbe-8f17f5dd59b9 ]] \r\n",
       "def \"<i>B</i>\" as E4  <<(T,blue) item  def>> [[psysml:154f7142-f3c2-4f8f-a55c-1d31f59952e7 ]] \r\n",
       "rec def \"C\" as E5  <<(T,blue) part  def>> [[psysml:a977dc12-1522-4e17-86ea-88834b4a9262 ]] {\r\n",
       "}\r\n",
       "def \"P\" as E6  <<(T,blue) port  def>> [[psysml:505a0904-767f-4431-bdaf-f395e9a256c5 ]] \r\n",
       "}\r\n",
       "@enduml\r\n",
       "\n",
       "PlantUML version 1.2020.13(Sat Jun 13 12:26:38 UTC 2020)\n",
       "(EPL source distribution)\n",
       "Java Runtime: OpenJDK Runtime Environment\n",
       "JVM: OpenJDK 64-Bit Server VM\n",
       "Default Encoding: UTF-8\n",
       "Language: en\n",
       "Country: null\n",
       "--></g></svg>"
      ]
     },
     "execution_count": 12,
     "metadata": {},
     "output_type": "execute_result"
    }
   ],
   "source": [
    "%viz --style=\"POLYLINE\" --view=\"Interconnection\" \"ItemTest\""
   ]
  },
  {
   "cell_type": "code",
   "execution_count": 13,
   "id": "fe746926",
   "metadata": {
    "execution": {
     "iopub.execute_input": "2021-10-25T08:20:53.404932Z",
     "iopub.status.busy": "2021-10-25T08:20:53.404496Z",
     "iopub.status.idle": "2021-10-25T08:20:53.410952Z",
     "shell.execute_reply": "2021-10-25T08:20:53.411275Z"
    }
   },
   "outputs": [
    {
     "data": {
      "image/svg+xml": [
       "<?xml version=\"1.0\" encoding=\"UTF-8\" standalone=\"no\"?><svg xmlns=\"http://www.w3.org/2000/svg\" xmlns:xlink=\"http://www.w3.org/1999/xlink\" contentScriptType=\"application/ecmascript\" contentStyleType=\"text/css\" height=\"12px\" preserveAspectRatio=\"none\" style=\"width:12px;height:12px;\" version=\"1.1\" viewBox=\"0 0 12 12\" width=\"12px\" zoomAndPan=\"magnify\"><defs/><g><!--MD5=[97bbf32f66ccd50cbc40d92ea8f5a65e]\n",
       "@startuml\r\n",
       "skinparam ranksep 8\r\n",
       "skinparam linetype polyline\r\n",
       "skinparam monochrome true\r\n",
       "skinparam classbackgroundcolor white\r\n",
       "skinparam shadowing false\r\n",
       "skinparam wrapWidth 300\r\n",
       "hide circle\r\n",
       "\r\n",
       "@enduml\r\n",
       "\n",
       "PlantUML version 1.2020.13(Sat Jun 13 12:26:38 UTC 2020)\n",
       "(EPL source distribution)\n",
       "Java Runtime: OpenJDK Runtime Environment\n",
       "JVM: OpenJDK 64-Bit Server VM\n",
       "Default Encoding: UTF-8\n",
       "Language: en\n",
       "Country: null\n",
       "--></g></svg>"
      ]
     },
     "execution_count": 13,
     "metadata": {},
     "output_type": "execute_result"
    }
   ],
   "source": [
    "%viz --style=\"POLYLINE\" --view=\"Action\" \"ItemTest\""
   ]
  },
  {
   "cell_type": "code",
   "execution_count": 14,
   "id": "30123754",
   "metadata": {
    "execution": {
     "iopub.execute_input": "2021-10-25T08:20:53.460923Z",
     "iopub.status.busy": "2021-10-25T08:20:53.460509Z",
     "iopub.status.idle": "2021-10-25T08:20:53.466912Z",
     "shell.execute_reply": "2021-10-25T08:20:53.467230Z"
    }
   },
   "outputs": [
    {
     "data": {
      "image/svg+xml": [
       "<?xml version=\"1.0\" encoding=\"UTF-8\" standalone=\"no\"?><svg xmlns=\"http://www.w3.org/2000/svg\" xmlns:xlink=\"http://www.w3.org/1999/xlink\" contentScriptType=\"application/ecmascript\" contentStyleType=\"text/css\" height=\"12px\" preserveAspectRatio=\"none\" style=\"width:12px;height:12px;\" version=\"1.1\" viewBox=\"0 0 12 12\" width=\"12px\" zoomAndPan=\"magnify\"><defs/><g><!--MD5=[dc938048236c351797870c36b62f92ad]\n",
       "@startuml\r\n",
       "skinparam roundcorner 20\r\n",
       "skinparam BoxPadding 20\r\n",
       "skinparam SequenceBoxBackgroundColor #white\r\n",
       "skinparam style strictuml\r\n",
       "skinparam maxMessageSize 100\r\n",
       "skinparam linetype polyline\r\n",
       "skinparam monochrome true\r\n",
       "skinparam classbackgroundcolor white\r\n",
       "skinparam shadowing false\r\n",
       "skinparam wrapWidth 300\r\n",
       "hide circle\r\n",
       "\r\n",
       "@enduml\r\n",
       "\n",
       "PlantUML version 1.2020.13(Sat Jun 13 12:26:38 UTC 2020)\n",
       "(EPL source distribution)\n",
       "Java Runtime: OpenJDK Runtime Environment\n",
       "JVM: OpenJDK 64-Bit Server VM\n",
       "Default Encoding: UTF-8\n",
       "Language: en\n",
       "Country: null\n",
       "--></g></svg>"
      ]
     },
     "execution_count": 14,
     "metadata": {},
     "output_type": "execute_result"
    }
   ],
   "source": [
    "%viz --style=\"POLYLINE\" --view=\"Sequence\" \"ItemTest\""
   ]
  },
  {
   "cell_type": "code",
   "execution_count": 15,
   "id": "e0452345",
   "metadata": {
    "execution": {
     "iopub.execute_input": "2021-10-25T08:20:53.517067Z",
     "iopub.status.busy": "2021-10-25T08:20:53.516649Z",
     "iopub.status.idle": "2021-10-25T08:20:53.584315Z",
     "shell.execute_reply": "2021-10-25T08:20:53.582273Z"
    }
   },
   "outputs": [
    {
     "data": {
      "image/svg+xml": [
       "<?xml version=\"1.0\" encoding=\"UTF-8\" standalone=\"no\"?><svg xmlns=\"http://www.w3.org/2000/svg\" xmlns:xlink=\"http://www.w3.org/1999/xlink\" contentScriptType=\"application/ecmascript\" contentStyleType=\"text/css\" height=\"848px\" preserveAspectRatio=\"none\" style=\"width:344px;height:848px;\" version=\"1.1\" viewBox=\"0 0 344 848\" width=\"344px\" zoomAndPan=\"magnify\"><defs/><g><!--MD5=[fbc87193dbaf4d95561dea2c320d4a47]\n",
       "cluster E1--><a href=\"psysml:9c84b130-4496-45dd-acf0-f614adf4451b\" target=\"_top\" title=\"psysml:9c84b130-4496-45dd-acf0-f614adf4451b\" xlink:actuate=\"onRequest\" xlink:href=\"psysml:9c84b130-4496-45dd-acf0-f614adf4451b\" xlink:show=\"new\" xlink:title=\"psysml:9c84b130-4496-45dd-acf0-f614adf4451b\" xlink:type=\"simple\"><polygon fill=\"#FFFFFF\" points=\"16,6,83,6,90,28.2969,322,28.2969,322,836,16,836,16,6\" style=\"stroke: #000000; stroke-width: 1.5;\"/><line style=\"stroke: #000000; stroke-width: 1.5;\" x1=\"16\" x2=\"90\" y1=\"28.2969\" y2=\"28.2969\"/><text fill=\"#000000\" font-family=\"sans-serif\" font-size=\"14\" font-weight=\"bold\" lengthAdjust=\"spacingAndGlyphs\" textLength=\"61\" x=\"20\" y=\"20.9951\">ItemTest</text></a><!--MD5=[b4997ac47864f28c2f74865a473b2911]\n",
       "class E2--><a href=\"psysml:046ce2e8-70d6-418b-9e34-4058f6a1e698\" target=\"_top\" title=\"psysml:046ce2e8-70d6-418b-9e34-4058f6a1e698\" xlink:actuate=\"onRequest\" xlink:href=\"psysml:046ce2e8-70d6-418b-9e34-4058f6a1e698\" xlink:show=\"new\" xlink:title=\"psysml:046ce2e8-70d6-418b-9e34-4058f6a1e698\" xlink:type=\"simple\"><rect fill=\"#FFFFFF\" height=\"45.9375\" id=\"E2\" rx=\"10\" ry=\"10\" style=\"stroke: #383838; stroke-width: 1.5;\" width=\"43\" x=\"239.5\" y=\"148\"/><text fill=\"#000000\" font-family=\"sans-serif\" font-size=\"12\" font-style=\"italic\" lengthAdjust=\"spacingAndGlyphs\" textLength=\"41\" x=\"240.5\" y=\"164.1387\">«item»</text><text fill=\"#000000\" font-family=\"sans-serif\" font-size=\"12\" lengthAdjust=\"spacingAndGlyphs\" textLength=\"20\" x=\"249\" y=\"178.1074\">f: A</text><line style=\"stroke: #383838; stroke-width: 1.5;\" x1=\"240.5\" x2=\"281.5\" y1=\"185.9375\" y2=\"185.9375\"/></a><!--MD5=[09b614a08d8cba4a07c9adeb5e0fee81]\n",
       "class E3--><a href=\"psysml:b761bda6-ef45-4173-adbe-8f17f5dd59b9\" target=\"_top\" title=\"psysml:b761bda6-ef45-4173-adbe-8f17f5dd59b9\" xlink:actuate=\"onRequest\" xlink:href=\"psysml:b761bda6-ef45-4173-adbe-8f17f5dd59b9\" xlink:show=\"new\" xlink:title=\"psysml:b761bda6-ef45-4173-adbe-8f17f5dd59b9\" xlink:type=\"simple\"><rect fill=\"#FFFFFF\" height=\"45.9375\" id=\"E3\" style=\"stroke: #383838; stroke-width: 1.5;\" width=\"71\" x=\"147.5\" y=\"255\"/><text fill=\"#000000\" font-family=\"sans-serif\" font-size=\"12\" font-style=\"italic\" lengthAdjust=\"spacingAndGlyphs\" textLength=\"69\" x=\"148.5\" y=\"271.1387\">«item  def»</text><text fill=\"#000000\" font-family=\"sans-serif\" font-size=\"12\" lengthAdjust=\"spacingAndGlyphs\" textLength=\"8\" x=\"179\" y=\"285.1074\">A</text><line style=\"stroke: #383838; stroke-width: 1.5;\" x1=\"148.5\" x2=\"217.5\" y1=\"292.9375\" y2=\"292.9375\"/></a><!--MD5=[ebbe1d658d1005bcc118a6aa81145e00]\n",
       "class E4--><a href=\"psysml:5a9b7c1e-d921-40a5-84d4-dcafad1b8599\" target=\"_top\" title=\"psysml:5a9b7c1e-d921-40a5-84d4-dcafad1b8599\" xlink:actuate=\"onRequest\" xlink:href=\"psysml:5a9b7c1e-d921-40a5-84d4-dcafad1b8599\" xlink:show=\"new\" xlink:title=\"psysml:5a9b7c1e-d921-40a5-84d4-dcafad1b8599\" xlink:type=\"simple\"><rect fill=\"#FFFFFF\" height=\"45.9375\" id=\"E4\" rx=\"10\" ry=\"10\" style=\"stroke: #383838; stroke-width: 1.5;\" width=\"43\" x=\"255.5\" y=\"438\"/><text fill=\"#000000\" font-family=\"sans-serif\" font-size=\"12\" font-style=\"italic\" lengthAdjust=\"spacingAndGlyphs\" textLength=\"41\" x=\"256.5\" y=\"454.1387\">«item»</text><text fill=\"#000000\" font-family=\"sans-serif\" font-size=\"12\" lengthAdjust=\"spacingAndGlyphs\" textLength=\"24\" x=\"263\" y=\"468.1074\">b: B</text><line style=\"stroke: #383838; stroke-width: 1.5;\" x1=\"256.5\" x2=\"297.5\" y1=\"475.9375\" y2=\"475.9375\"/></a><!--MD5=[270fce915f116d4de14055a7c1d9a0f3]\n",
       "class E5--><a href=\"psysml:c52e7c62-32ae-43e1-a51e-2d7f86512260\" target=\"_top\" title=\"psysml:c52e7c62-32ae-43e1-a51e-2d7f86512260\" xlink:actuate=\"onRequest\" xlink:href=\"psysml:c52e7c62-32ae-43e1-a51e-2d7f86512260\" xlink:show=\"new\" xlink:title=\"psysml:c52e7c62-32ae-43e1-a51e-2d7f86512260\" xlink:type=\"simple\"><rect fill=\"#FFFFFF\" height=\"45.9375\" id=\"E5\" rx=\"10\" ry=\"10\" style=\"stroke: #383838; stroke-width: 1.5;\" width=\"42\" x=\"227\" y=\"362\"/><text fill=\"#000000\" font-family=\"sans-serif\" font-size=\"12\" font-style=\"italic\" lengthAdjust=\"spacingAndGlyphs\" textLength=\"40\" x=\"228\" y=\"378.1387\">«part»</text><text fill=\"#000000\" font-family=\"sans-serif\" font-size=\"12\" lengthAdjust=\"spacingAndGlyphs\" textLength=\"23\" x=\"234.5\" y=\"392.1074\">c: C</text><line style=\"stroke: #383838; stroke-width: 1.5;\" x1=\"228\" x2=\"268\" y1=\"399.9375\" y2=\"399.9375\"/></a><!--MD5=[60a26617385b1d2d0262a64233df1f8d]\n",
       "class E6--><a href=\"psysml:154f7142-f3c2-4f8f-a55c-1d31f59952e7\" target=\"_top\" title=\"psysml:154f7142-f3c2-4f8f-a55c-1d31f59952e7\" xlink:actuate=\"onRequest\" xlink:href=\"psysml:154f7142-f3c2-4f8f-a55c-1d31f59952e7\" xlink:show=\"new\" xlink:title=\"psysml:154f7142-f3c2-4f8f-a55c-1d31f59952e7\" xlink:type=\"simple\"><rect fill=\"#FFFFFF\" height=\"45.9375\" id=\"E6\" style=\"stroke: #383838; stroke-width: 1.5;\" width=\"71\" x=\"146.5\" y=\"667\"/><text fill=\"#000000\" font-family=\"sans-serif\" font-size=\"12\" font-style=\"italic\" lengthAdjust=\"spacingAndGlyphs\" textLength=\"69\" x=\"147.5\" y=\"683.1387\">«item  def»</text><text fill=\"#000000\" font-family=\"sans-serif\" font-size=\"12\" font-style=\"italic\" lengthAdjust=\"spacingAndGlyphs\" textLength=\"8\" x=\"178\" y=\"697.1074\">B</text><line style=\"stroke: #383838; stroke-width: 1.5;\" x1=\"147.5\" x2=\"216.5\" y1=\"704.9375\" y2=\"704.9375\"/></a><!--MD5=[2156ba9850f5573cc1fc38a6a4b2f02b]\n",
       "class E7--><a href=\"psysml:3092a58e-bc17-492e-b3ac-d9b0c5d27ee1\" target=\"_top\" title=\"psysml:3092a58e-bc17-492e-b3ac-d9b0c5d27ee1\" xlink:actuate=\"onRequest\" xlink:href=\"psysml:3092a58e-bc17-492e-b3ac-d9b0c5d27ee1\" xlink:show=\"new\" xlink:title=\"psysml:3092a58e-bc17-492e-b3ac-d9b0c5d27ee1\" xlink:type=\"simple\"><rect fill=\"#FFFFFF\" height=\"45.9375\" id=\"E7\" rx=\"10\" ry=\"10\" style=\"stroke: #383838; stroke-width: 1.5;\" width=\"42\" x=\"96\" y=\"774\"/><text fill=\"#000000\" font-family=\"sans-serif\" font-size=\"12\" font-style=\"italic\" lengthAdjust=\"spacingAndGlyphs\" textLength=\"40\" x=\"97\" y=\"790.1387\">«part»</text><text fill=\"#000000\" font-family=\"sans-serif\" font-size=\"12\" font-style=\"italic\" lengthAdjust=\"spacingAndGlyphs\" textLength=\"8\" x=\"103\" y=\"804.1074\">a</text><text fill=\"#000000\" font-family=\"sans-serif\" font-size=\"12\" lengthAdjust=\"spacingAndGlyphs\" textLength=\"16\" x=\"111\" y=\"804.1074\">: A</text><line style=\"stroke: #383838; stroke-width: 1.5;\" x1=\"97\" x2=\"137\" y1=\"811.9375\" y2=\"811.9375\"/></a><!--MD5=[b9389687b975829384b498ac4b7476b2]\n",
       "class E8--><a href=\"psysml:a977dc12-1522-4e17-86ea-88834b4a9262\" target=\"_top\" title=\"psysml:a977dc12-1522-4e17-86ea-88834b4a9262\" xlink:actuate=\"onRequest\" xlink:href=\"psysml:a977dc12-1522-4e17-86ea-88834b4a9262\" xlink:show=\"new\" xlink:title=\"psysml:a977dc12-1522-4e17-86ea-88834b4a9262\" xlink:type=\"simple\"><rect fill=\"#FFFFFF\" height=\"75.5469\" id=\"E8\" style=\"stroke: #383838; stroke-width: 1.5;\" width=\"75\" x=\"145.5\" y=\"514\"/><text fill=\"#000000\" font-family=\"sans-serif\" font-size=\"12\" font-style=\"italic\" lengthAdjust=\"spacingAndGlyphs\" textLength=\"68\" x=\"149\" y=\"530.1387\">«part  def»</text><text fill=\"#000000\" font-family=\"sans-serif\" font-size=\"12\" lengthAdjust=\"spacingAndGlyphs\" textLength=\"8\" x=\"179\" y=\"544.1074\">C</text><line style=\"stroke: #383838; stroke-width: 1.5;\" x1=\"146.5\" x2=\"219.5\" y1=\"551.9375\" y2=\"551.9375\"/><text fill=\"#000000\" font-family=\"sans-serif\" font-size=\"11\" font-weight=\"bold\" lengthAdjust=\"spacingAndGlyphs\" textLength=\"10\" x=\"151.5\" y=\"582.9526\">in</text><text fill=\"#000000\" font-family=\"sans-serif\" font-size=\"11\" lengthAdjust=\"spacingAndGlyphs\" textLength=\"37\" x=\"165.5\" y=\"582.9526\">y: A, B</text><line style=\"stroke: #383838; stroke-width: 1.0;\" x1=\"146.5\" x2=\"149.5\" y1=\"566.3398\" y2=\"566.3398\"/><text fill=\"#000000\" font-family=\"sans-serif\" font-size=\"11\" lengthAdjust=\"spacingAndGlyphs\" textLength=\"67\" x=\"149.5\" y=\"569.6479\">parameters</text><line style=\"stroke: #383838; stroke-width: 1.0;\" x1=\"216.5\" x2=\"219.5\" y1=\"566.3398\" y2=\"566.3398\"/></a><!--MD5=[fd4143e9d270a159db93a4ea2a975926]\n",
       "class E9--><a href=\"psysml:505a0904-767f-4431-bdaf-f395e9a256c5\" target=\"_top\" title=\"psysml:505a0904-767f-4431-bdaf-f395e9a256c5\" xlink:actuate=\"onRequest\" xlink:href=\"psysml:505a0904-767f-4431-bdaf-f395e9a256c5\" xlink:show=\"new\" xlink:title=\"psysml:505a0904-767f-4431-bdaf-f395e9a256c5\" xlink:type=\"simple\"><rect fill=\"#FFFFFF\" height=\"45.9375\" id=\"E9\" style=\"stroke: #383838; stroke-width: 1.5;\" width=\"70\" x=\"109\" y=\"41\"/><text fill=\"#000000\" font-family=\"sans-serif\" font-size=\"12\" font-style=\"italic\" lengthAdjust=\"spacingAndGlyphs\" textLength=\"68\" x=\"110\" y=\"57.1387\">«port  def»</text><text fill=\"#000000\" font-family=\"sans-serif\" font-size=\"12\" lengthAdjust=\"spacingAndGlyphs\" textLength=\"8\" x=\"140\" y=\"71.1074\">P</text><line style=\"stroke: #383838; stroke-width: 1.5;\" x1=\"110\" x2=\"178\" y1=\"78.9375\" y2=\"78.9375\"/></a><!--MD5=[96f4274e9e20536e775497830990834d]\n",
       "class E10--><a href=\"psysml:b48ee9ab-0a15-45ce-8465-86ae83c4be7f\" target=\"_top\" title=\"psysml:b48ee9ab-0a15-45ce-8465-86ae83c4be7f\" xlink:actuate=\"onRequest\" xlink:href=\"psysml:b48ee9ab-0a15-45ce-8465-86ae83c4be7f\" xlink:show=\"new\" xlink:title=\"psysml:b48ee9ab-0a15-45ce-8465-86ae83c4be7f\" xlink:type=\"simple\"><rect fill=\"#FFFFFF\" height=\"45.9375\" id=\"E10\" rx=\"10\" ry=\"10\" style=\"stroke: #383838; stroke-width: 1.5;\" width=\"43\" x=\"83.5\" y=\"148\"/><text fill=\"#000000\" font-family=\"sans-serif\" font-size=\"12\" font-style=\"italic\" lengthAdjust=\"spacingAndGlyphs\" textLength=\"41\" x=\"84.5\" y=\"164.1387\">«item»</text><text fill=\"#000000\" font-family=\"sans-serif\" font-size=\"12\" lengthAdjust=\"spacingAndGlyphs\" textLength=\"32\" x=\"87\" y=\"178.1074\">a1: A</text><line style=\"stroke: #383838; stroke-width: 1.5;\" x1=\"84.5\" x2=\"125.5\" y1=\"185.9375\" y2=\"185.9375\"/></a><!--MD5=[1dd1bfd58a279cf63c5f349dbc8fc6a1]\n",
       "class E11--><a href=\"psysml:7b14a527-4e8d-41df-a91b-3ca9db44b1d9\" target=\"_top\" title=\"psysml:7b14a527-4e8d-41df-a91b-3ca9db44b1d9\" xlink:actuate=\"onRequest\" xlink:href=\"psysml:7b14a527-4e8d-41df-a91b-3ca9db44b1d9\" xlink:show=\"new\" xlink:title=\"psysml:7b14a527-4e8d-41df-a91b-3ca9db44b1d9\" xlink:type=\"simple\"><rect fill=\"#FFFFFF\" height=\"45.9375\" id=\"E11\" rx=\"10\" ry=\"10\" style=\"stroke: #383838; stroke-width: 1.5;\" width=\"43\" x=\"161.5\" y=\"148\"/><text fill=\"#000000\" font-family=\"sans-serif\" font-size=\"12\" font-style=\"italic\" lengthAdjust=\"spacingAndGlyphs\" textLength=\"41\" x=\"162.5\" y=\"164.1387\">«item»</text><text fill=\"#000000\" font-family=\"sans-serif\" font-size=\"12\" lengthAdjust=\"spacingAndGlyphs\" textLength=\"32\" x=\"165\" y=\"178.1074\">a2: A</text><line style=\"stroke: #383838; stroke-width: 1.5;\" x1=\"162.5\" x2=\"203.5\" y1=\"185.9375\" y2=\"185.9375\"/></a><!--MD5=[2720a5a1f2c3fca2055b230370638851]\n",
       "link E2 to E3--><a href=\"psysml:2913aa14-34e4-4ebc-b3c0-73cbbe37a712\" target=\"_top\" title=\"psysml:2913aa14-34e4-4ebc-b3c0-73cbbe37a712\" xlink:actuate=\"onRequest\" xlink:href=\"psysml:2913aa14-34e4-4ebc-b3c0-73cbbe37a712\" xlink:show=\"new\" xlink:title=\"psysml:2913aa14-34e4-4ebc-b3c0-73cbbe37a712\" xlink:type=\"simple\"><path d=\"M244.65,194.01 C235.14,206.81 222.89,223.3 211.82,238.2 \" fill=\"none\" id=\"E2-&gt;E3\" style=\"stroke: #383838; stroke-width: 1.0;\"/><polygon fill=\"#FFFFFF\" points=\"199.6,254.66,205.3195,235.2361,216.5543,243.5896,199.6,254.66\" style=\"stroke: #383838; stroke-width: 1.0;\"/><ellipse cx=\"210.3256\" cy=\"231.8554\" fill=\"#383838\" rx=\"2\" ry=\"2\" style=\"stroke: #383838; stroke-width: 1.0;\"/><ellipse cx=\"218.3504\" cy=\"237.8221\" fill=\"#383838\" rx=\"2\" ry=\"2\" style=\"stroke: #383838; stroke-width: 1.0;\"/></a><!--MD5=[4672eba38e49728da53d11aeb285b987]\n",
       "reverse link E3 to E4--><a href=\"psysml:5a70b25d-3e65-48fe-9200-ece04e9de0ee\" target=\"_top\" title=\"psysml:5a70b25d-3e65-48fe-9200-ece04e9de0ee\" xlink:actuate=\"onRequest\" xlink:href=\"psysml:5a70b25d-3e65-48fe-9200-ece04e9de0ee\" xlink:show=\"new\" xlink:title=\"psysml:5a70b25d-3e65-48fe-9200-ece04e9de0ee\" xlink:type=\"simple\"><path d=\"M220.77,309.14 C250.52,332.88 287,362 287,362 C287,362 287,408 287,408 C287,408 283.97,423.77 281.24,437.95 \" fill=\"none\" id=\"E3&lt;-E4\" style=\"stroke: #383838; stroke-width: 1.0;\"/><polygon fill=\"#383838\" points=\"210.6,301.02,212.7911,307.8901,219.9756,308.5099,217.7844,301.6398,210.6,301.02\" style=\"stroke: #383838; stroke-width: 1.0;\"/><text fill=\"#000000\" font-family=\"sans-serif\" font-size=\"13\" lengthAdjust=\"spacingAndGlyphs\" textLength=\"8\" x=\"274.2661\" y=\"428.0588\">1</text></a><!--MD5=[191cde3d490a3f6d7bb551fe3ddca469]\n",
       "reverse link E3 to E5--><a href=\"psysml:98aba136-2768-4c7e-bc34-95a5a6a911cd\" target=\"_top\" title=\"psysml:98aba136-2768-4c7e-bc34-95a5a6a911cd\" xlink:actuate=\"onRequest\" xlink:href=\"psysml:98aba136-2768-4c7e-bc34-95a5a6a911cd\" xlink:show=\"new\" xlink:title=\"psysml:98aba136-2768-4c7e-bc34-95a5a6a911cd\" xlink:type=\"simple\"><path d=\"M203.52,312.15 C213.51,328.29 225.26,347.26 234.17,361.66 \" fill=\"none\" id=\"E3&lt;-E5\" style=\"stroke: #383838; stroke-width: 1.0;\"/><polygon fill=\"#FFFFFF\" points=\"196.63,301.01,196.3861,308.217,202.9449,311.214,203.1888,304.007,196.63,301.01\" style=\"stroke: #383838; stroke-width: 1.0;\"/><text fill=\"#000000\" font-family=\"sans-serif\" font-size=\"13\" lengthAdjust=\"spacingAndGlyphs\" textLength=\"8\" x=\"221.6011\" y=\"350.8492\">1</text></a><!--MD5=[79568f1e445c3877b6a54524624ccc7d]\n",
       "link E4 to E6--><a href=\"psysml:04be4dec-9fb2-423c-a400-1c82afc162c3\" target=\"_top\" title=\"psysml:04be4dec-9fb2-423c-a400-1c82afc162c3\" xlink:actuate=\"onRequest\" xlink:href=\"psysml:04be4dec-9fb2-423c-a400-1c82afc162c3\" xlink:show=\"new\" xlink:title=\"psysml:04be4dec-9fb2-423c-a400-1c82afc162c3\" xlink:type=\"simple\"><path d=\"M270.3,484 C259.14,520.6 238,590 238,590 C238,590 220.16,621.54 204.61,649.02 \" fill=\"none\" id=\"E4-&gt;E6\" style=\"stroke: #383838; stroke-width: 1.0;\"/><polygon fill=\"#FFFFFF\" points=\"194.71,666.54,197.9651,646.5549,210.153,653.4437,194.71,666.54\" style=\"stroke: #383838; stroke-width: 1.0;\"/><ellipse cx=\"202.511\" cy=\"642.5768\" fill=\"#383838\" rx=\"2\" ry=\"2\" style=\"stroke: #383838; stroke-width: 1.0;\"/><ellipse cx=\"211.2166\" cy=\"647.4974\" fill=\"#383838\" rx=\"2\" ry=\"2\" style=\"stroke: #383838; stroke-width: 1.0;\"/></a><!--MD5=[3f50a3473f1dfb74d3f76443e03635af]\n",
       "reverse link E6 to E7--><a href=\"psysml:88a05b08-39fe-46e7-8c9b-5df9e56fb426\" target=\"_top\" title=\"psysml:88a05b08-39fe-46e7-8c9b-5df9e56fb426\" xlink:actuate=\"onRequest\" xlink:href=\"psysml:88a05b08-39fe-46e7-8c9b-5df9e56fb426\" xlink:show=\"new\" xlink:title=\"psysml:88a05b08-39fe-46e7-8c9b-5df9e56fb426\" xlink:type=\"simple\"><path d=\"M161.48,724.15 C151.49,740.29 139.74,759.26 130.83,773.66 \" fill=\"none\" id=\"E6&lt;-E7\" style=\"stroke: #383838; stroke-width: 1.0;\"/><polygon fill=\"#383838\" points=\"168.37,713.01,161.8112,716.007,162.0551,723.214,168.6139,720.217,168.37,713.01\" style=\"stroke: #383838; stroke-width: 1.0;\"/><text fill=\"#000000\" font-family=\"sans-serif\" font-size=\"13\" lengthAdjust=\"spacingAndGlyphs\" textLength=\"8\" x=\"125.3489\" y=\"762.8492\">1</text></a><!--MD5=[14ccda38c055a5c0da953d572bc50960]\n",
       "link E7 to E3--><a href=\"psysml:de23f89f-df32-45d9-b344-47d8d19c4edc\" target=\"_top\" title=\"psysml:de23f89f-df32-45d9-b344-47d8d19c4edc\" xlink:actuate=\"onRequest\" xlink:href=\"psysml:de23f89f-df32-45d9-b344-47d8d19c4edc\" xlink:show=\"new\" xlink:title=\"psysml:de23f89f-df32-45d9-b344-47d8d19c4edc\" xlink:type=\"simple\"><path d=\"M99.39,773.99 C74.76,743.2 33,691 33,691 C33,384 33,384 33,384 C33,384 91.12,343.32 135,312.6 \" fill=\"none\" id=\"E7-&gt;E3\" style=\"stroke: #383838; stroke-width: 1.0;\"/><polygon fill=\"#FFFFFF\" points=\"151.56,301.01,140.0001,317.6343,131.9776,306.1608,151.56,301.01\" style=\"stroke: #383838; stroke-width: 1.0;\"/><ellipse cx=\"134.1827\" cy=\"319.2615\" fill=\"#383838\" rx=\"2\" ry=\"2\" style=\"stroke: #383838; stroke-width: 1.0;\"/><ellipse cx=\"128.4524\" cy=\"311.0662\" fill=\"#383838\" rx=\"2\" ry=\"2\" style=\"stroke: #383838; stroke-width: 1.0;\"/></a><!--MD5=[dfaffb906826c3e5aca635516100ff21]\n",
       "link E5 to E8--><a href=\"psysml:feaf6c57-7b20-4701-8323-0c325a1238bf\" target=\"_top\" title=\"psysml:feaf6c57-7b20-4701-8323-0c325a1238bf\" xlink:actuate=\"onRequest\" xlink:href=\"psysml:feaf6c57-7b20-4701-8323-0c325a1238bf\" xlink:show=\"new\" xlink:title=\"psysml:feaf6c57-7b20-4701-8323-0c325a1238bf\" xlink:type=\"simple\"><path d=\"M239.23,408.25 C230.48,430.48 216.67,465.53 204.93,495.33 \" fill=\"none\" id=\"E5-&gt;E8\" style=\"stroke: #383838; stroke-width: 1.0;\"/><polygon fill=\"#FFFFFF\" points=\"197.58,513.98,198.027,493.7365,211.0538,498.8652,197.58,513.98\" style=\"stroke: #383838; stroke-width: 1.0;\"/><ellipse cx=\"201.9761\" cy=\"489.1654\" fill=\"#383838\" rx=\"2\" ry=\"2\" style=\"stroke: #383838; stroke-width: 1.0;\"/><ellipse cx=\"211.2809\" cy=\"492.8288\" fill=\"#383838\" rx=\"2\" ry=\"2\" style=\"stroke: #383838; stroke-width: 1.0;\"/></a><!--MD5=[03c8294790d3c57651a1993cecff665f]\n",
       "reverse link E8 to E3--><a href=\"psysml:f63e9e98-9395-484c-b7ba-710e403c3592\" target=\"_top\" title=\"psysml:f63e9e98-9395-484c-b7ba-710e403c3592\" xlink:actuate=\"onRequest\" xlink:href=\"psysml:f63e9e98-9395-484c-b7ba-710e403c3592\" xlink:show=\"new\" xlink:title=\"psysml:f63e9e98-9395-484c-b7ba-710e403c3592\" xlink:type=\"simple\"><path d=\"M164.96,501.4 C149.94,460.1 131,408 131,408 C131,408 131,362 131,362 C131,362 153.66,325.83 169.06,301.24 \" fill=\"none\" id=\"E8&lt;-E3\" style=\"stroke: #383838; stroke-width: 1.0;\"/><polygon fill=\"#FFFFFF\" points=\"169.47,513.8,171.1807,506.7947,165.3723,502.5213,163.6616,509.5266,169.47,513.8\" style=\"stroke: #383838; stroke-width: 1.0;\"/><text fill=\"#000000\" font-family=\"sans-serif\" font-size=\"13\" lengthAdjust=\"spacingAndGlyphs\" textLength=\"7\" x=\"132\" y=\"389.5669\">y</text></a><!--MD5=[03c8294790d3c57651a1993cecff665f]\n",
       "reverse link E8 to E3--><a href=\"psysml:f63e9e98-9395-484c-b7ba-710e403c3592\" target=\"_top\" title=\"psysml:f63e9e98-9395-484c-b7ba-710e403c3592\" xlink:actuate=\"onRequest\" xlink:href=\"psysml:f63e9e98-9395-484c-b7ba-710e403c3592\" xlink:show=\"new\" xlink:title=\"psysml:f63e9e98-9395-484c-b7ba-710e403c3592\" xlink:type=\"simple\"><path d=\"M183,500.73 C183,441.17 183,344.58 183,301.26 \" fill=\"none\" id=\"E8&lt;-E3-1\" style=\"stroke: #383838; stroke-width: 1.0;\"/><polygon fill=\"#FFFFFF\" points=\"183,513.93,187,507.93,183,501.93,179,507.93,183,513.93\" style=\"stroke: #383838; stroke-width: 1.0;\"/><text fill=\"#000000\" font-family=\"sans-serif\" font-size=\"13\" lengthAdjust=\"spacingAndGlyphs\" textLength=\"7\" x=\"184\" y=\"389.5669\">y</text></a><!--MD5=[0d75d2178373a6a4568e5dc728f58aef]\n",
       "reverse link E8 to E6--><a href=\"psysml:f63e9e98-9395-484c-b7ba-710e403c3592\" target=\"_top\" title=\"psysml:f63e9e98-9395-484c-b7ba-710e403c3592\" xlink:actuate=\"onRequest\" xlink:href=\"psysml:f63e9e98-9395-484c-b7ba-710e403c3592\" xlink:show=\"new\" xlink:title=\"psysml:f63e9e98-9395-484c-b7ba-710e403c3592\" xlink:type=\"simple\"><path d=\"M165.25,602.56 C161.68,612.52 159,620 159,620 C159,620 159,637 159,637 C159,637 165.98,652.77 172.25,666.95 \" fill=\"none\" id=\"E8&lt;-E6\" style=\"stroke: #383838; stroke-width: 1.0;\"/><polygon fill=\"#FFFFFF\" points=\"169.74,590.03,163.9509,594.3295,165.6931,601.327,171.4822,597.0275,169.74,590.03\" style=\"stroke: #383838; stroke-width: 1.0;\"/><text fill=\"#000000\" font-family=\"sans-serif\" font-size=\"13\" lengthAdjust=\"spacingAndGlyphs\" textLength=\"7\" x=\"160\" y=\"633.0669\">y</text></a><!--MD5=[0d75d2178373a6a4568e5dc728f58aef]\n",
       "reverse link E8 to E6--><a href=\"psysml:f63e9e98-9395-484c-b7ba-710e403c3592\" target=\"_top\" title=\"psysml:f63e9e98-9395-484c-b7ba-710e403c3592\" xlink:actuate=\"onRequest\" xlink:href=\"psysml:f63e9e98-9395-484c-b7ba-710e403c3592\" xlink:show=\"new\" xlink:title=\"psysml:f63e9e98-9395-484c-b7ba-710e403c3592\" xlink:type=\"simple\"><path d=\"M182.63,603.33 C182.47,625.16 182.29,649.6 182.16,666.77 \" fill=\"none\" id=\"E8&lt;-E6-1\" style=\"stroke: #383838; stroke-width: 1.0;\"/><polygon fill=\"#FFFFFF\" points=\"182.73,590.16,178.684,596.1291,182.6377,602.1596,186.6837,596.1906,182.73,590.16\" style=\"stroke: #383838; stroke-width: 1.0;\"/><text fill=\"#000000\" font-family=\"sans-serif\" font-size=\"13\" lengthAdjust=\"spacingAndGlyphs\" textLength=\"7\" x=\"183\" y=\"633.0669\">y</text></a><!--MD5=[23ac544a70576c3e717098101004234c]\n",
       "reverse link E9 to E10--><a href=\"psysml:f7fd9ae3-3fa5-48e2-b146-bf2078e3bf75\" target=\"_top\" title=\"psysml:f7fd9ae3-3fa5-48e2-b146-bf2078e3bf75\" xlink:actuate=\"onRequest\" xlink:href=\"psysml:f7fd9ae3-3fa5-48e2-b146-bf2078e3bf75\" xlink:show=\"new\" xlink:title=\"psysml:f7fd9ae3-3fa5-48e2-b146-bf2078e3bf75\" xlink:type=\"simple\"><path d=\"M131.16,99.57 C125.28,115.39 118.49,133.68 113.3,147.66 \" fill=\"none\" id=\"E9&lt;-E10\" style=\"stroke: #383838; stroke-width: 1.0;\"/><polygon fill=\"#FFFFFF\" points=\"135.82,87.01,129.9804,91.2408,131.6398,98.2584,137.4793,94.0276,135.82,87.01\" style=\"stroke: #383838; stroke-width: 1.0;\"/><text fill=\"#000000\" font-family=\"sans-serif\" font-size=\"13\" lengthAdjust=\"spacingAndGlyphs\" textLength=\"8\" x=\"106.4019\" y=\"136.8492\">1</text></a><!--MD5=[feeac5eb423634930294aa81f2d25a4c]\n",
       "link E10 to E3--><a href=\"psysml:09a722a7-3c7d-4d30-9bcf-d6d93c165304\" target=\"_top\" title=\"psysml:09a722a7-3c7d-4d30-9bcf-d6d93c165304\" xlink:actuate=\"onRequest\" xlink:href=\"psysml:09a722a7-3c7d-4d30-9bcf-d6d93c165304\" xlink:show=\"new\" xlink:title=\"psysml:09a722a7-3c7d-4d30-9bcf-d6d93c165304\" xlink:type=\"simple\"><path d=\"M121.35,194.01 C130.86,206.81 143.11,223.3 154.18,238.2 \" fill=\"none\" id=\"E10-&gt;E3\" style=\"stroke: #383838; stroke-width: 1.0;\"/><polygon fill=\"#FFFFFF\" points=\"166.4,254.66,149.4457,243.5896,160.6805,235.2361,166.4,254.66\" style=\"stroke: #383838; stroke-width: 1.0;\"/><ellipse cx=\"147.6496\" cy=\"237.8221\" fill=\"#383838\" rx=\"2\" ry=\"2\" style=\"stroke: #383838; stroke-width: 1.0;\"/><ellipse cx=\"155.6744\" cy=\"231.8554\" fill=\"#383838\" rx=\"2\" ry=\"2\" style=\"stroke: #383838; stroke-width: 1.0;\"/></a><!--MD5=[1fc04a95fd77ad5ce46c1a3027516051]\n",
       "reverse link E9 to E11--><a href=\"psysml:2308c13a-9c40-4baf-abe1-b4752fcfac30\" target=\"_top\" title=\"psysml:2308c13a-9c40-4baf-abe1-b4752fcfac30\" xlink:actuate=\"onRequest\" xlink:href=\"psysml:2308c13a-9c40-4baf-abe1-b4752fcfac30\" xlink:show=\"new\" xlink:title=\"psysml:2308c13a-9c40-4baf-abe1-b4752fcfac30\" xlink:type=\"simple\"><path d=\"M156.84,99.57 C162.72,115.39 169.51,133.68 174.7,147.66 \" fill=\"none\" id=\"E9&lt;-E11\" style=\"stroke: #383838; stroke-width: 1.0;\"/><polygon fill=\"#FFFFFF\" points=\"152.18,87.01,150.5207,94.0276,156.3602,98.2584,158.0196,91.2408,152.18,87.01\" style=\"stroke: #383838; stroke-width: 1.0;\"/><text fill=\"#000000\" font-family=\"sans-serif\" font-size=\"13\" lengthAdjust=\"spacingAndGlyphs\" textLength=\"8\" x=\"163.5481\" y=\"136.8492\">1</text></a><!--MD5=[0517f1ce58c4d5483948f93845c45e26]\n",
       "link E11 to E3--><a href=\"psysml:713baad2-05ac-404b-8904-f9720a0da3f6\" target=\"_top\" title=\"psysml:713baad2-05ac-404b-8904-f9720a0da3f6\" xlink:actuate=\"onRequest\" xlink:href=\"psysml:713baad2-05ac-404b-8904-f9720a0da3f6\" xlink:show=\"new\" xlink:title=\"psysml:713baad2-05ac-404b-8904-f9720a0da3f6\" xlink:type=\"simple\"><path d=\"M183,194.01 C183,205.69 183,220.46 183,234.28 \" fill=\"none\" id=\"E11-&gt;E3\" style=\"stroke: #383838; stroke-width: 1.0;\"/><polygon fill=\"#FFFFFF\" points=\"183,254.66,176,235.66,190,235.66,183,254.66\" style=\"stroke: #383838; stroke-width: 1.0;\"/><ellipse cx=\"178\" cy=\"229.96\" fill=\"#383838\" rx=\"2\" ry=\"2\" style=\"stroke: #383838; stroke-width: 1.0;\"/><ellipse cx=\"188\" cy=\"229.96\" fill=\"#383838\" rx=\"2\" ry=\"2\" style=\"stroke: #383838; stroke-width: 1.0;\"/></a><!--MD5=[120a376a211038d1f0cd662ba1c1aea3]\n",
       "@startuml\r\n",
       "skinparam linetype polyline\r\n",
       "skinparam monochrome true\r\n",
       "skinparam classbackgroundcolor white\r\n",
       "skinparam shadowing false\r\n",
       "skinparam wrapWidth 300\r\n",
       "hide circle\r\n",
       "\r\n",
       "package \"ItemTest\" as E1  [[psysml:9c84b130-4496-45dd-acf0-f614adf4451b ]]  {\r\n",
       "comp usage \"f: A \" as E2  <<(T,blue) item>> [[psysml:046ce2e8-70d6-418b-9e34-4058f6a1e698 ]] {\r\n",
       "}\r\n",
       "comp def \"A\" as E3  <<(T,blue) item  def>> [[psysml:b761bda6-ef45-4173-adbe-8f17f5dd59b9 ]] {\r\n",
       "}\r\n",
       "comp usage \"b: B \" as E4  <<(T,blue) item>> [[psysml:5a9b7c1e-d921-40a5-84d4-dcafad1b8599 ]] {\r\n",
       "}\r\n",
       "comp usage \"c: C \" as E5  <<(T,blue) part>> [[psysml:c52e7c62-32ae-43e1-a51e-2d7f86512260 ]] {\r\n",
       "}\r\n",
       "comp def \"<i>B</i>\" as E6  <<(T,blue) item  def>> [[psysml:154f7142-f3c2-4f8f-a55c-1d31f59952e7 ]] {\r\n",
       "}\r\n",
       "comp usage \"<i>a</i>: A \" as E7  <<(T,blue) part>> [[psysml:3092a58e-bc17-492e-b3ac-d9b0c5d27ee1 ]] {\r\n",
       "}\r\n",
       "comp def \"C\" as E8  <<(T,blue) part  def>> [[psysml:a977dc12-1522-4e17-86ea-88834b4a9262 ]] {\r\n",
       "- - parameters - -\r\n",
       "<b>in</b> y: A, B\r\n",
       "}\r\n",
       "comp def \"P\" as E9  <<(T,blue) port  def>> [[psysml:505a0904-767f-4431-bdaf-f395e9a256c5 ]] {\r\n",
       "}\r\n",
       "comp usage \"a1: A \" as E10  <<(T,blue) item>> [[psysml:b48ee9ab-0a15-45ce-8465-86ae83c4be7f ]] {\r\n",
       "}\r\n",
       "comp usage \"a2: A \" as E11  <<(T,blue) item>> [[psysml:7b14a527-4e8d-41df-a91b-3ca9db44b1d9 ]] {\r\n",
       "}\r\n",
       "}\r\n",
       "E2 - -:|> E3 [[psysml:2913aa14-34e4-4ebc-b3c0-73cbbe37a712 ]] \r\n",
       "E3 *- - \"1\"E4 [[psysml:5a70b25d-3e65-48fe-9200-ece04e9de0ee ]] \r\n",
       "E3 o- - \"1\"E5 [[psysml:98aba136-2768-4c7e-bc34-95a5a6a911cd ]] \r\n",
       "E4 - -:|> E6 [[psysml:04be4dec-9fb2-423c-a400-1c82afc162c3 ]] \r\n",
       "E6 *- - \"1\"E7 [[psysml:88a05b08-39fe-46e7-8c9b-5df9e56fb426 ]] \r\n",
       "E7 - -:|> E3 [[psysml:de23f89f-df32-45d9-b344-47d8d19c4edc ]] \r\n",
       "E5 - -:|> E8 [[psysml:feaf6c57-7b20-4701-8323-0c325a1238bf ]] \r\n",
       "E8 o- - E3 [[psysml:f63e9e98-9395-484c-b7ba-710e403c3592 ]] : y\r\n",
       "E8 o- - E6 [[psysml:f63e9e98-9395-484c-b7ba-710e403c3592 ]] : y\r\n",
       "E8 o- - E3 [[psysml:f63e9e98-9395-484c-b7ba-710e403c3592 ]] : y\r\n",
       "E8 o- - E6 [[psysml:f63e9e98-9395-484c-b7ba-710e403c3592 ]] : y\r\n",
       "E9 o- - \"1\"E10 [[psysml:f7fd9ae3-3fa5-48e2-b146-bf2078e3bf75 ]] \r\n",
       "E10 - -:|> E3 [[psysml:09a722a7-3c7d-4d30-9bcf-d6d93c165304 ]] \r\n",
       "E9 o- - \"1\"E11 [[psysml:2308c13a-9c40-4baf-abe1-b4752fcfac30 ]] \r\n",
       "E11 - -:|> E3 [[psysml:713baad2-05ac-404b-8904-f9720a0da3f6 ]] \r\n",
       "@enduml\r\n",
       "\n",
       "PlantUML version 1.2020.13(Sat Jun 13 12:26:38 UTC 2020)\n",
       "(EPL source distribution)\n",
       "Java Runtime: OpenJDK Runtime Environment\n",
       "JVM: OpenJDK 64-Bit Server VM\n",
       "Default Encoding: UTF-8\n",
       "Language: en\n",
       "Country: null\n",
       "--></g></svg>"
      ]
     },
     "execution_count": 15,
     "metadata": {},
     "output_type": "execute_result"
    }
   ],
   "source": [
    "%viz --style=\"POLYLINE\" --view=\"MIXED\" \"ItemTest\""
   ]
  },
  {
   "cell_type": "code",
   "execution_count": 16,
   "id": "c0bc17a9",
   "metadata": {
    "execution": {
     "iopub.execute_input": "2021-10-25T08:20:53.633288Z",
     "iopub.status.busy": "2021-10-25T08:20:53.632817Z",
     "iopub.status.idle": "2021-10-25T08:20:53.696687Z",
     "shell.execute_reply": "2021-10-25T08:20:53.696287Z"
    }
   },
   "outputs": [
    {
     "data": {
      "image/svg+xml": [
       "<?xml version=\"1.0\" encoding=\"UTF-8\" standalone=\"no\"?><svg xmlns=\"http://www.w3.org/2000/svg\" xmlns:xlink=\"http://www.w3.org/1999/xlink\" contentScriptType=\"application/ecmascript\" contentStyleType=\"text/css\" height=\"363px\" preserveAspectRatio=\"none\" style=\"width:900px;height:363px;\" version=\"1.1\" viewBox=\"0 0 900 363\" width=\"900px\" zoomAndPan=\"magnify\"><defs/><g><!--MD5=[fbc87193dbaf4d95561dea2c320d4a47]\n",
       "cluster E1--><a href=\"psysml:9c84b130-4496-45dd-acf0-f614adf4451b\" target=\"_top\" title=\"psysml:9c84b130-4496-45dd-acf0-f614adf4451b\" xlink:actuate=\"onRequest\" xlink:href=\"psysml:9c84b130-4496-45dd-acf0-f614adf4451b\" xlink:show=\"new\" xlink:title=\"psysml:9c84b130-4496-45dd-acf0-f614adf4451b\" xlink:type=\"simple\"><polygon fill=\"#FFFFFF\" points=\"16,6,83,6,90,28.2969,878,28.2969,878,351,16,351,16,6\" style=\"stroke: #000000; stroke-width: 1.5;\"/><line style=\"stroke: #000000; stroke-width: 1.5;\" x1=\"16\" x2=\"90\" y1=\"28.2969\" y2=\"28.2969\"/><text fill=\"#000000\" font-family=\"sans-serif\" font-size=\"14\" font-weight=\"bold\" lengthAdjust=\"spacingAndGlyphs\" textLength=\"61\" x=\"20\" y=\"20.9951\">ItemTest</text></a><!--MD5=[b4997ac47864f28c2f74865a473b2911]\n",
       "class E2--><a href=\"psysml:046ce2e8-70d6-418b-9e34-4058f6a1e698\" target=\"_top\" title=\"psysml:046ce2e8-70d6-418b-9e34-4058f6a1e698\" xlink:actuate=\"onRequest\" xlink:href=\"psysml:046ce2e8-70d6-418b-9e34-4058f6a1e698\" xlink:show=\"new\" xlink:title=\"psysml:046ce2e8-70d6-418b-9e34-4058f6a1e698\" xlink:type=\"simple\"><rect fill=\"#FFFFFF\" height=\"45.9375\" id=\"E2\" rx=\"10\" ry=\"10\" style=\"stroke: #383838; stroke-width: 1.5;\" width=\"43\" x=\"163\" y=\"72\"/><text fill=\"#000000\" font-family=\"sans-serif\" font-size=\"12\" font-style=\"italic\" lengthAdjust=\"spacingAndGlyphs\" textLength=\"41\" x=\"164\" y=\"88.1387\">«item»</text><text fill=\"#000000\" font-family=\"sans-serif\" font-size=\"12\" lengthAdjust=\"spacingAndGlyphs\" textLength=\"20\" x=\"172.5\" y=\"102.1074\">f: A</text><line style=\"stroke: #383838; stroke-width: 1.5;\" x1=\"164\" x2=\"205\" y1=\"109.9375\" y2=\"109.9375\"/></a><!--MD5=[09b614a08d8cba4a07c9adeb5e0fee81]\n",
       "class E3--><a href=\"psysml:b761bda6-ef45-4173-adbe-8f17f5dd59b9\" target=\"_top\" title=\"psysml:b761bda6-ef45-4173-adbe-8f17f5dd59b9\" xlink:actuate=\"onRequest\" xlink:href=\"psysml:b761bda6-ef45-4173-adbe-8f17f5dd59b9\" xlink:show=\"new\" xlink:title=\"psysml:b761bda6-ef45-4173-adbe-8f17f5dd59b9\" xlink:type=\"simple\"><rect fill=\"#FFFFFF\" height=\"45.9375\" id=\"E3\" style=\"stroke: #383838; stroke-width: 1.5;\" width=\"71\" x=\"267\" y=\"153\"/><text fill=\"#000000\" font-family=\"sans-serif\" font-size=\"12\" font-style=\"italic\" lengthAdjust=\"spacingAndGlyphs\" textLength=\"69\" x=\"268\" y=\"169.1387\">«item  def»</text><text fill=\"#000000\" font-family=\"sans-serif\" font-size=\"12\" lengthAdjust=\"spacingAndGlyphs\" textLength=\"8\" x=\"298.5\" y=\"183.1074\">A</text><line style=\"stroke: #383838; stroke-width: 1.5;\" x1=\"268\" x2=\"337\" y1=\"190.9375\" y2=\"190.9375\"/></a><!--MD5=[ebbe1d658d1005bcc118a6aa81145e00]\n",
       "class E4--><a href=\"psysml:5a9b7c1e-d921-40a5-84d4-dcafad1b8599\" target=\"_top\" title=\"psysml:5a9b7c1e-d921-40a5-84d4-dcafad1b8599\" xlink:actuate=\"onRequest\" xlink:href=\"psysml:5a9b7c1e-d921-40a5-84d4-dcafad1b8599\" xlink:show=\"new\" xlink:title=\"psysml:5a9b7c1e-d921-40a5-84d4-dcafad1b8599\" xlink:type=\"simple\"><rect fill=\"#FFFFFF\" height=\"45.9375\" id=\"E4\" rx=\"10\" ry=\"10\" style=\"stroke: #383838; stroke-width: 1.5;\" width=\"43\" x=\"471\" y=\"51\"/><text fill=\"#000000\" font-family=\"sans-serif\" font-size=\"12\" font-style=\"italic\" lengthAdjust=\"spacingAndGlyphs\" textLength=\"41\" x=\"472\" y=\"67.1387\">«item»</text><text fill=\"#000000\" font-family=\"sans-serif\" font-size=\"12\" lengthAdjust=\"spacingAndGlyphs\" textLength=\"24\" x=\"478.5\" y=\"81.1074\">b: B</text><line style=\"stroke: #383838; stroke-width: 1.5;\" x1=\"472\" x2=\"513\" y1=\"88.9375\" y2=\"88.9375\"/></a><!--MD5=[270fce915f116d4de14055a7c1d9a0f3]\n",
       "class E5--><a href=\"psysml:c52e7c62-32ae-43e1-a51e-2d7f86512260\" target=\"_top\" title=\"psysml:c52e7c62-32ae-43e1-a51e-2d7f86512260\" xlink:actuate=\"onRequest\" xlink:href=\"psysml:c52e7c62-32ae-43e1-a51e-2d7f86512260\" xlink:show=\"new\" xlink:title=\"psysml:c52e7c62-32ae-43e1-a51e-2d7f86512260\" xlink:type=\"simple\"><rect fill=\"#FFFFFF\" height=\"45.9375\" id=\"E5\" rx=\"10\" ry=\"10\" style=\"stroke: #383838; stroke-width: 1.5;\" width=\"42\" x=\"399\" y=\"78\"/><text fill=\"#000000\" font-family=\"sans-serif\" font-size=\"12\" font-style=\"italic\" lengthAdjust=\"spacingAndGlyphs\" textLength=\"40\" x=\"400\" y=\"94.1387\">«part»</text><text fill=\"#000000\" font-family=\"sans-serif\" font-size=\"12\" lengthAdjust=\"spacingAndGlyphs\" textLength=\"23\" x=\"406.5\" y=\"108.1074\">c: C</text><line style=\"stroke: #383838; stroke-width: 1.5;\" x1=\"400\" x2=\"440\" y1=\"115.9375\" y2=\"115.9375\"/></a><!--MD5=[60a26617385b1d2d0262a64233df1f8d]\n",
       "class E6--><a href=\"psysml:154f7142-f3c2-4f8f-a55c-1d31f59952e7\" target=\"_top\" title=\"psysml:154f7142-f3c2-4f8f-a55c-1d31f59952e7\" xlink:actuate=\"onRequest\" xlink:href=\"psysml:154f7142-f3c2-4f8f-a55c-1d31f59952e7\" xlink:show=\"new\" xlink:title=\"psysml:154f7142-f3c2-4f8f-a55c-1d31f59952e7\" xlink:type=\"simple\"><rect fill=\"#FFFFFF\" height=\"45.9375\" id=\"E6\" style=\"stroke: #383838; stroke-width: 1.5;\" width=\"71\" x=\"688\" y=\"157\"/><text fill=\"#000000\" font-family=\"sans-serif\" font-size=\"12\" font-style=\"italic\" lengthAdjust=\"spacingAndGlyphs\" textLength=\"69\" x=\"689\" y=\"173.1387\">«item  def»</text><text fill=\"#000000\" font-family=\"sans-serif\" font-size=\"12\" font-style=\"italic\" lengthAdjust=\"spacingAndGlyphs\" textLength=\"8\" x=\"719.5\" y=\"187.1074\">B</text><line style=\"stroke: #383838; stroke-width: 1.5;\" x1=\"689\" x2=\"758\" y1=\"194.9375\" y2=\"194.9375\"/></a><!--MD5=[2156ba9850f5573cc1fc38a6a4b2f02b]\n",
       "class E7--><a href=\"psysml:3092a58e-bc17-492e-b3ac-d9b0c5d27ee1\" target=\"_top\" title=\"psysml:3092a58e-bc17-492e-b3ac-d9b0c5d27ee1\" xlink:actuate=\"onRequest\" xlink:href=\"psysml:3092a58e-bc17-492e-b3ac-d9b0c5d27ee1\" xlink:show=\"new\" xlink:title=\"psysml:3092a58e-bc17-492e-b3ac-d9b0c5d27ee1\" xlink:type=\"simple\"><rect fill=\"#FFFFFF\" height=\"45.9375\" id=\"E7\" rx=\"10\" ry=\"10\" style=\"stroke: #383838; stroke-width: 1.5;\" width=\"42\" x=\"820\" y=\"223\"/><text fill=\"#000000\" font-family=\"sans-serif\" font-size=\"12\" font-style=\"italic\" lengthAdjust=\"spacingAndGlyphs\" textLength=\"40\" x=\"821\" y=\"239.1387\">«part»</text><text fill=\"#000000\" font-family=\"sans-serif\" font-size=\"12\" font-style=\"italic\" lengthAdjust=\"spacingAndGlyphs\" textLength=\"8\" x=\"827\" y=\"253.1074\">a</text><text fill=\"#000000\" font-family=\"sans-serif\" font-size=\"12\" lengthAdjust=\"spacingAndGlyphs\" textLength=\"16\" x=\"835\" y=\"253.1074\">: A</text><line style=\"stroke: #383838; stroke-width: 1.5;\" x1=\"821\" x2=\"861\" y1=\"260.9375\" y2=\"260.9375\"/></a><!--MD5=[b9389687b975829384b498ac4b7476b2]\n",
       "class E8--><a href=\"psysml:a977dc12-1522-4e17-86ea-88834b4a9262\" target=\"_top\" title=\"psysml:a977dc12-1522-4e17-86ea-88834b4a9262\" xlink:actuate=\"onRequest\" xlink:href=\"psysml:a977dc12-1522-4e17-86ea-88834b4a9262\" xlink:show=\"new\" xlink:title=\"psysml:a977dc12-1522-4e17-86ea-88834b4a9262\" xlink:type=\"simple\"><rect fill=\"#FFFFFF\" height=\"75.5469\" id=\"E8\" style=\"stroke: #383838; stroke-width: 1.5;\" width=\"75\" x=\"544\" y=\"138\"/><text fill=\"#000000\" font-family=\"sans-serif\" font-size=\"12\" font-style=\"italic\" lengthAdjust=\"spacingAndGlyphs\" textLength=\"68\" x=\"547.5\" y=\"154.1387\">«part  def»</text><text fill=\"#000000\" font-family=\"sans-serif\" font-size=\"12\" lengthAdjust=\"spacingAndGlyphs\" textLength=\"8\" x=\"577.5\" y=\"168.1074\">C</text><line style=\"stroke: #383838; stroke-width: 1.5;\" x1=\"545\" x2=\"618\" y1=\"175.9375\" y2=\"175.9375\"/><text fill=\"#000000\" font-family=\"sans-serif\" font-size=\"11\" font-weight=\"bold\" lengthAdjust=\"spacingAndGlyphs\" textLength=\"10\" x=\"550\" y=\"206.9526\">in</text><text fill=\"#000000\" font-family=\"sans-serif\" font-size=\"11\" lengthAdjust=\"spacingAndGlyphs\" textLength=\"37\" x=\"564\" y=\"206.9526\">y: A, B</text><line style=\"stroke: #383838; stroke-width: 1.0;\" x1=\"545\" x2=\"548\" y1=\"190.3398\" y2=\"190.3398\"/><text fill=\"#000000\" font-family=\"sans-serif\" font-size=\"11\" lengthAdjust=\"spacingAndGlyphs\" textLength=\"67\" x=\"548\" y=\"193.6479\">parameters</text><line style=\"stroke: #383838; stroke-width: 1.0;\" x1=\"615\" x2=\"618\" y1=\"190.3398\" y2=\"190.3398\"/></a><!--MD5=[fd4143e9d270a159db93a4ea2a975926]\n",
       "class E9--><a href=\"psysml:505a0904-767f-4431-bdaf-f395e9a256c5\" target=\"_top\" title=\"psysml:505a0904-767f-4431-bdaf-f395e9a256c5\" xlink:actuate=\"onRequest\" xlink:href=\"psysml:505a0904-767f-4431-bdaf-f395e9a256c5\" xlink:show=\"new\" xlink:title=\"psysml:505a0904-767f-4431-bdaf-f395e9a256c5\" xlink:type=\"simple\"><rect fill=\"#FFFFFF\" height=\"45.9375\" id=\"E9\" style=\"stroke: #383838; stroke-width: 1.5;\" width=\"70\" x=\"32\" y=\"194\"/><text fill=\"#000000\" font-family=\"sans-serif\" font-size=\"12\" font-style=\"italic\" lengthAdjust=\"spacingAndGlyphs\" textLength=\"68\" x=\"33\" y=\"210.1387\">«port  def»</text><text fill=\"#000000\" font-family=\"sans-serif\" font-size=\"12\" lengthAdjust=\"spacingAndGlyphs\" textLength=\"8\" x=\"63\" y=\"224.1074\">P</text><line style=\"stroke: #383838; stroke-width: 1.5;\" x1=\"33\" x2=\"101\" y1=\"231.9375\" y2=\"231.9375\"/></a><!--MD5=[96f4274e9e20536e775497830990834d]\n",
       "class E10--><a href=\"psysml:b48ee9ab-0a15-45ce-8465-86ae83c4be7f\" target=\"_top\" title=\"psysml:b48ee9ab-0a15-45ce-8465-86ae83c4be7f\" xlink:actuate=\"onRequest\" xlink:href=\"psysml:b48ee9ab-0a15-45ce-8465-86ae83c4be7f\" xlink:show=\"new\" xlink:title=\"psysml:b48ee9ab-0a15-45ce-8465-86ae83c4be7f\" xlink:type=\"simple\"><rect fill=\"#FFFFFF\" height=\"45.9375\" id=\"E10\" rx=\"10\" ry=\"10\" style=\"stroke: #383838; stroke-width: 1.5;\" width=\"43\" x=\"163\" y=\"234\"/><text fill=\"#000000\" font-family=\"sans-serif\" font-size=\"12\" font-style=\"italic\" lengthAdjust=\"spacingAndGlyphs\" textLength=\"41\" x=\"164\" y=\"250.1387\">«item»</text><text fill=\"#000000\" font-family=\"sans-serif\" font-size=\"12\" lengthAdjust=\"spacingAndGlyphs\" textLength=\"32\" x=\"166.5\" y=\"264.1074\">a1: A</text><line style=\"stroke: #383838; stroke-width: 1.5;\" x1=\"164\" x2=\"205\" y1=\"271.9375\" y2=\"271.9375\"/></a><!--MD5=[1dd1bfd58a279cf63c5f349dbc8fc6a1]\n",
       "class E11--><a href=\"psysml:7b14a527-4e8d-41df-a91b-3ca9db44b1d9\" target=\"_top\" title=\"psysml:7b14a527-4e8d-41df-a91b-3ca9db44b1d9\" xlink:actuate=\"onRequest\" xlink:href=\"psysml:7b14a527-4e8d-41df-a91b-3ca9db44b1d9\" xlink:show=\"new\" xlink:title=\"psysml:7b14a527-4e8d-41df-a91b-3ca9db44b1d9\" xlink:type=\"simple\"><rect fill=\"#FFFFFF\" height=\"45.9375\" id=\"E11\" rx=\"10\" ry=\"10\" style=\"stroke: #383838; stroke-width: 1.5;\" width=\"43\" x=\"163\" y=\"153\"/><text fill=\"#000000\" font-family=\"sans-serif\" font-size=\"12\" font-style=\"italic\" lengthAdjust=\"spacingAndGlyphs\" textLength=\"41\" x=\"164\" y=\"169.1387\">«item»</text><text fill=\"#000000\" font-family=\"sans-serif\" font-size=\"12\" lengthAdjust=\"spacingAndGlyphs\" textLength=\"32\" x=\"166.5\" y=\"183.1074\">a2: A</text><line style=\"stroke: #383838; stroke-width: 1.5;\" x1=\"164\" x2=\"205\" y1=\"190.9375\" y2=\"190.9375\"/></a><!--MD5=[2720a5a1f2c3fca2055b230370638851]\n",
       "link E2 to E3--><a href=\"psysml:2913aa14-34e4-4ebc-b3c0-73cbbe37a712\" target=\"_top\" title=\"psysml:2913aa14-34e4-4ebc-b3c0-73cbbe37a712\" xlink:actuate=\"onRequest\" xlink:href=\"psysml:2913aa14-34e4-4ebc-b3c0-73cbbe37a712\" xlink:show=\"new\" xlink:title=\"psysml:2913aa14-34e4-4ebc-b3c0-73cbbe37a712\" xlink:type=\"simple\"><path d=\"M206.24,109.48 C218.94,118.35 235.78,130.11 251.76,141.27 \" fill=\"none\" id=\"E2-&gt;E3\" style=\"stroke: #383838; stroke-width: 1.0;\"/><polygon fill=\"#FFFFFF\" points=\"268.21,152.75,248.6276,147.5992,256.6501,136.1257,268.21,152.75\" style=\"stroke: #383838; stroke-width: 1.0;\"/><ellipse cx=\"245.1024\" cy=\"142.6938\" fill=\"#383838\" rx=\"2\" ry=\"2\" style=\"stroke: #383838; stroke-width: 1.0;\"/><ellipse cx=\"250.8327\" cy=\"134.4985\" fill=\"#383838\" rx=\"2\" ry=\"2\" style=\"stroke: #383838; stroke-width: 1.0;\"/></a><!--MD5=[4672eba38e49728da53d11aeb285b987]\n",
       "reverse link E3 to E4--><a href=\"psysml:5a70b25d-3e65-48fe-9200-ece04e9de0ee\" target=\"_top\" title=\"psysml:5a70b25d-3e65-48fe-9200-ece04e9de0ee\" xlink:actuate=\"onRequest\" xlink:href=\"psysml:5a70b25d-3e65-48fe-9200-ece04e9de0ee\" xlink:show=\"new\" xlink:title=\"psysml:5a70b25d-3e65-48fe-9200-ece04e9de0ee\" xlink:type=\"simple\"><path d=\"M320.92,141.3 C336.97,113.57 363.66,76.68 399,60 C421.91,49.18 451.25,56.75 470.67,64.31 \" fill=\"none\" id=\"E3&lt;-E4\" style=\"stroke: #383838; stroke-width: 1.0;\"/><polygon fill=\"#383838\" points=\"314.49,152.91,320.8917,149.5905,320.2897,142.4046,313.8881,145.7241,314.49,152.91\" style=\"stroke: #383838; stroke-width: 1.0;\"/><text fill=\"#000000\" font-family=\"sans-serif\" font-size=\"13\" lengthAdjust=\"spacingAndGlyphs\" textLength=\"8\" x=\"455.0824\" y=\"75.7623\">1</text></a><!--MD5=[191cde3d490a3f6d7bb551fe3ddca469]\n",
       "reverse link E3 to E5--><a href=\"psysml:98aba136-2768-4c7e-bc34-95a5a6a911cd\" target=\"_top\" title=\"psysml:98aba136-2768-4c7e-bc34-95a5a6a911cd\" xlink:actuate=\"onRequest\" xlink:href=\"psysml:98aba136-2768-4c7e-bc34-95a5a6a911cd\" xlink:show=\"new\" xlink:title=\"psysml:98aba136-2768-4c7e-bc34-95a5a6a911cd\" xlink:type=\"simple\"><path d=\"M349.18,146.34 C366.39,135.16 385.1,123.01 398.81,114.11 \" fill=\"none\" id=\"E3&lt;-E5\" style=\"stroke: #383838; stroke-width: 1.0;\"/><polygon fill=\"#FFFFFF\" points=\"338.15,153.5,345.3605,153.5902,348.217,146.969,341.0065,146.8788,338.15,153.5\" style=\"stroke: #383838; stroke-width: 1.0;\"/><text fill=\"#000000\" font-family=\"sans-serif\" font-size=\"13\" lengthAdjust=\"spacingAndGlyphs\" textLength=\"8\" x=\"383.0956\" y=\"132.5186\">1</text></a><!--MD5=[79568f1e445c3877b6a54524624ccc7d]\n",
       "link E4 to E6--><a href=\"psysml:04be4dec-9fb2-423c-a400-1c82afc162c3\" target=\"_top\" title=\"psysml:04be4dec-9fb2-423c-a400-1c82afc162c3\" xlink:actuate=\"onRequest\" xlink:href=\"psysml:04be4dec-9fb2-423c-a400-1c82afc162c3\" xlink:show=\"new\" xlink:title=\"psysml:04be4dec-9fb2-423c-a400-1c82afc162c3\" xlink:type=\"simple\"><path d=\"M514.38,80.42 C539.66,88.46 583.28,103.26 619,120 C636.22,128.07 654.36,138.04 670.55,147.52 \" fill=\"none\" id=\"E4-&gt;E6\" style=\"stroke: #383838; stroke-width: 1.0;\"/><polygon fill=\"#FFFFFF\" points=\"687.87,157.89,667.9748,154.1243,675.1733,142.1168,687.87,157.89\" style=\"stroke: #383838; stroke-width: 1.0;\"/><ellipse cx=\"664.1144\" cy=\"149.4781\" fill=\"#383838\" rx=\"2\" ry=\"2\" style=\"stroke: #383838; stroke-width: 1.0;\"/><ellipse cx=\"669.2562\" cy=\"140.9013\" fill=\"#383838\" rx=\"2\" ry=\"2\" style=\"stroke: #383838; stroke-width: 1.0;\"/></a><!--MD5=[3f50a3473f1dfb74d3f76443e03635af]\n",
       "reverse link E6 to E7--><a href=\"psysml:88a05b08-39fe-46e7-8c9b-5df9e56fb426\" target=\"_top\" title=\"psysml:88a05b08-39fe-46e7-8c9b-5df9e56fb426\" xlink:actuate=\"onRequest\" xlink:href=\"psysml:88a05b08-39fe-46e7-8c9b-5df9e56fb426\" xlink:show=\"new\" xlink:title=\"psysml:88a05b08-39fe-46e7-8c9b-5df9e56fb426\" xlink:type=\"simple\"><path d=\"M770.67,206.38 C787.75,216.14 806.23,226.7 819.81,234.46 \" fill=\"none\" id=\"E6&lt;-E7\" style=\"stroke: #383838; stroke-width: 1.0;\"/><polygon fill=\"#383838\" points=\"759.15,199.8,762.3714,206.2516,769.5657,205.7593,766.3443,199.3078,759.15,199.8\" style=\"stroke: #383838; stroke-width: 1.0;\"/><text fill=\"#000000\" font-family=\"sans-serif\" font-size=\"13\" lengthAdjust=\"spacingAndGlyphs\" textLength=\"8\" x=\"804.0956\" y=\"245.3196\">1</text></a><!--MD5=[14ccda38c055a5c0da953d572bc50960]\n",
       "link E7 to E3--><a href=\"psysml:de23f89f-df32-45d9-b344-47d8d19c4edc\" target=\"_top\" title=\"psysml:de23f89f-df32-45d9-b344-47d8d19c4edc\" xlink:actuate=\"onRequest\" xlink:href=\"psysml:de23f89f-df32-45d9-b344-47d8d19c4edc\" xlink:show=\"new\" xlink:title=\"psysml:de23f89f-df32-45d9-b344-47d8d19c4edc\" xlink:type=\"simple\"><path d=\"M824.16,269.12 C804.23,295.19 767.36,334 724.5,334 C419,334 419,334 419,334 C361.71,334 329.78,265.46 314.66,218.66 \" fill=\"none\" id=\"E7-&gt;E3\" style=\"stroke: #383838; stroke-width: 1.0;\"/><polygon fill=\"#FFFFFF\" points=\"308.94,199.31,321.0423,215.5438,307.6174,219.5152,308.94,199.31\" style=\"stroke: #383838; stroke-width: 1.0;\"/><ellipse cx=\"320.7414\" cy=\"221.577\" fill=\"#383838\" rx=\"2\" ry=\"2\" style=\"stroke: #383838; stroke-width: 1.0;\"/><ellipse cx=\"311.1522\" cy=\"224.4137\" fill=\"#383838\" rx=\"2\" ry=\"2\" style=\"stroke: #383838; stroke-width: 1.0;\"/></a><!--MD5=[dfaffb906826c3e5aca635516100ff21]\n",
       "link E5 to E8--><a href=\"psysml:feaf6c57-7b20-4701-8323-0c325a1238bf\" target=\"_top\" title=\"psysml:feaf6c57-7b20-4701-8323-0c325a1238bf\" xlink:actuate=\"onRequest\" xlink:href=\"psysml:feaf6c57-7b20-4701-8323-0c325a1238bf\" xlink:show=\"new\" xlink:title=\"psysml:feaf6c57-7b20-4701-8323-0c325a1238bf\" xlink:type=\"simple\"><path d=\"M441.2,110.5 C462.31,120.43 496.36,136.43 525.5,150.14 \" fill=\"none\" id=\"E5-&gt;E8\" style=\"stroke: #383838; stroke-width: 1.0;\"/><polygon fill=\"#FFFFFF\" points=\"543.77,158.73,523.5965,156.9897,529.5475,144.3175,543.77,158.73\" style=\"stroke: #383838; stroke-width: 1.0;\"/><ellipse cx=\"519.2872\" cy=\"152.7565\" fill=\"#383838\" rx=\"2\" ry=\"2\" style=\"stroke: #383838; stroke-width: 1.0;\"/><ellipse cx=\"523.538\" cy=\"143.7049\" fill=\"#383838\" rx=\"2\" ry=\"2\" style=\"stroke: #383838; stroke-width: 1.0;\"/></a><!--MD5=[03c8294790d3c57651a1993cecff665f]\n",
       "reverse link E8 to E3--><a href=\"psysml:f63e9e98-9395-484c-b7ba-710e403c3592\" target=\"_top\" title=\"psysml:f63e9e98-9395-484c-b7ba-710e403c3592\" xlink:actuate=\"onRequest\" xlink:href=\"psysml:f63e9e98-9395-484c-b7ba-710e403c3592\" xlink:show=\"new\" xlink:title=\"psysml:f63e9e98-9395-484c-b7ba-710e403c3592\" xlink:type=\"simple\"><path d=\"M532.65,208.23 C496.23,228.74 444.75,249.18 399,236 C373.98,228.79 349.18,212.88 331.12,199.25 \" fill=\"none\" id=\"E8&lt;-E3\" style=\"stroke: #383838; stroke-width: 1.0;\"/><polygon fill=\"#FFFFFF\" points=\"543.91,201.61,536.7106,201.1992,533.5624,207.6868,540.7618,208.0976,543.91,201.61\" style=\"stroke: #383838; stroke-width: 1.0;\"/><text fill=\"#000000\" font-family=\"sans-serif\" font-size=\"13\" lengthAdjust=\"spacingAndGlyphs\" textLength=\"7\" x=\"416.5\" y=\"232.0669\">y</text></a><!--MD5=[03c8294790d3c57651a1993cecff665f]\n",
       "reverse link E8 to E3--><a href=\"psysml:f63e9e98-9395-484c-b7ba-710e403c3592\" target=\"_top\" title=\"psysml:f63e9e98-9395-484c-b7ba-710e403c3592\" xlink:actuate=\"onRequest\" xlink:href=\"psysml:f63e9e98-9395-484c-b7ba-710e403c3592\" xlink:show=\"new\" xlink:title=\"psysml:f63e9e98-9395-484c-b7ba-710e403c3592\" xlink:type=\"simple\"><path d=\"M530.73,176 C475.12,176 386.52,176 338.02,176 \" fill=\"none\" id=\"E8&lt;-E3-1\" style=\"stroke: #383838; stroke-width: 1.0;\"/><polygon fill=\"#FFFFFF\" points=\"543.78,176,537.78,172,531.78,176,537.78,180,543.78,176\" style=\"stroke: #383838; stroke-width: 1.0;\"/><text fill=\"#000000\" font-family=\"sans-serif\" font-size=\"13\" lengthAdjust=\"spacingAndGlyphs\" textLength=\"7\" x=\"416.5\" y=\"172.0669\">y</text></a><!--MD5=[0d75d2178373a6a4568e5dc728f58aef]\n",
       "reverse link E8 to E6--><a href=\"psysml:f63e9e98-9395-484c-b7ba-710e403c3592\" target=\"_top\" title=\"psysml:f63e9e98-9395-484c-b7ba-710e403c3592\" xlink:actuate=\"onRequest\" xlink:href=\"psysml:f63e9e98-9395-484c-b7ba-710e403c3592\" xlink:show=\"new\" xlink:title=\"psysml:f63e9e98-9395-484c-b7ba-710e403c3592\" xlink:type=\"simple\"><path d=\"M631.01,204.87 C636.91,207.37 642.98,209.51 649,211 C663.25,214.52 678.3,209.81 691.05,203.08 \" fill=\"none\" id=\"E8&lt;-E6\" style=\"stroke: #383838; stroke-width: 1.0;\"/><polygon fill=\"#FFFFFF\" points=\"619.21,199.33,622.9404,205.5012,630.0717,204.4313,626.3413,198.2601,619.21,199.33\" style=\"stroke: #383838; stroke-width: 1.0;\"/><text fill=\"#000000\" font-family=\"sans-serif\" font-size=\"13\" lengthAdjust=\"spacingAndGlyphs\" textLength=\"7\" x=\"650\" y=\"207.0669\">y</text></a><!--MD5=[0d75d2178373a6a4568e5dc728f58aef]\n",
       "reverse link E8 to E6--><a href=\"psysml:f63e9e98-9395-484c-b7ba-710e403c3592\" target=\"_top\" title=\"psysml:f63e9e98-9395-484c-b7ba-710e403c3592\" xlink:actuate=\"onRequest\" xlink:href=\"psysml:f63e9e98-9395-484c-b7ba-710e403c3592\" xlink:show=\"new\" xlink:title=\"psysml:f63e9e98-9395-484c-b7ba-710e403c3592\" xlink:type=\"simple\"><path d=\"M632.51,177.43 C650.85,177.95 671.19,178.53 687.89,179.01 \" fill=\"none\" id=\"E8&lt;-E6-1\" style=\"stroke: #383838; stroke-width: 1.0;\"/><polygon fill=\"#FFFFFF\" points=\"619.28,177.05,625.1633,181.2197,631.2751,177.3927,625.3918,173.223,619.28,177.05\" style=\"stroke: #383838; stroke-width: 1.0;\"/><text fill=\"#000000\" font-family=\"sans-serif\" font-size=\"13\" lengthAdjust=\"spacingAndGlyphs\" textLength=\"7\" x=\"650\" y=\"174.0669\">y</text></a><!--MD5=[23ac544a70576c3e717098101004234c]\n",
       "reverse link E9 to E10--><a href=\"psysml:f7fd9ae3-3fa5-48e2-b146-bf2078e3bf75\" target=\"_top\" title=\"psysml:f7fd9ae3-3fa5-48e2-b146-bf2078e3bf75\" xlink:actuate=\"onRequest\" xlink:href=\"psysml:f7fd9ae3-3fa5-48e2-b146-bf2078e3bf75\" xlink:show=\"new\" xlink:title=\"psysml:f7fd9ae3-3fa5-48e2-b146-bf2078e3bf75\" xlink:type=\"simple\"><path d=\"M114.48,233.1 C131.24,238.9 149.31,245.16 162.75,249.81 \" fill=\"none\" id=\"E9&lt;-E10\" style=\"stroke: #383838; stroke-width: 1.0;\"/><polygon fill=\"#FFFFFF\" points=\"102.03,228.78,106.3896,234.524,113.3686,232.7089,109.0089,226.9649,102.03,228.78\" style=\"stroke: #383838; stroke-width: 1.0;\"/><text fill=\"#000000\" font-family=\"sans-serif\" font-size=\"13\" lengthAdjust=\"spacingAndGlyphs\" textLength=\"8\" x=\"146.8641\" y=\"262.0017\">1</text></a><!--MD5=[feeac5eb423634930294aa81f2d25a4c]\n",
       "link E10 to E3--><a href=\"psysml:09a722a7-3c7d-4d30-9bcf-d6d93c165304\" target=\"_top\" title=\"psysml:09a722a7-3c7d-4d30-9bcf-d6d93c165304\" xlink:actuate=\"onRequest\" xlink:href=\"psysml:09a722a7-3c7d-4d30-9bcf-d6d93c165304\" xlink:show=\"new\" xlink:title=\"psysml:09a722a7-3c7d-4d30-9bcf-d6d93c165304\" xlink:type=\"simple\"><path d=\"M206.24,242.52 C218.94,233.65 235.78,221.89 251.76,210.73 \" fill=\"none\" id=\"E10-&gt;E3\" style=\"stroke: #383838; stroke-width: 1.0;\"/><polygon fill=\"#FFFFFF\" points=\"268.21,199.25,256.6501,215.8743,248.6276,204.4008,268.21,199.25\" style=\"stroke: #383838; stroke-width: 1.0;\"/><ellipse cx=\"250.8327\" cy=\"217.5015\" fill=\"#383838\" rx=\"2\" ry=\"2\" style=\"stroke: #383838; stroke-width: 1.0;\"/><ellipse cx=\"245.1024\" cy=\"209.3062\" fill=\"#383838\" rx=\"2\" ry=\"2\" style=\"stroke: #383838; stroke-width: 1.0;\"/></a><!--MD5=[1fc04a95fd77ad5ce46c1a3027516051]\n",
       "reverse link E9 to E11--><a href=\"psysml:2308c13a-9c40-4baf-abe1-b4752fcfac30\" target=\"_top\" title=\"psysml:2308c13a-9c40-4baf-abe1-b4752fcfac30\" xlink:actuate=\"onRequest\" xlink:href=\"psysml:2308c13a-9c40-4baf-abe1-b4752fcfac30\" xlink:show=\"new\" xlink:title=\"psysml:2308c13a-9c40-4baf-abe1-b4752fcfac30\" xlink:type=\"simple\"><path d=\"M114.48,200.5 C131.24,194.55 149.31,188.14 162.75,183.37 \" fill=\"none\" id=\"E9&lt;-E11\" style=\"stroke: #383838; stroke-width: 1.0;\"/><polygon fill=\"#FFFFFF\" points=\"102.03,204.92,109.0214,206.6865,113.341,200.9124,106.3496,199.1458,102.03,204.92\" style=\"stroke: #383838; stroke-width: 1.0;\"/><text fill=\"#000000\" font-family=\"sans-serif\" font-size=\"13\" lengthAdjust=\"spacingAndGlyphs\" textLength=\"8\" x=\"146.8641\" y=\"200.0207\">1</text></a><!--MD5=[0517f1ce58c4d5483948f93845c45e26]\n",
       "link E11 to E3--><a href=\"psysml:713baad2-05ac-404b-8904-f9720a0da3f6\" target=\"_top\" title=\"psysml:713baad2-05ac-404b-8904-f9720a0da3f6\" xlink:actuate=\"onRequest\" xlink:href=\"psysml:713baad2-05ac-404b-8904-f9720a0da3f6\" xlink:show=\"new\" xlink:title=\"psysml:713baad2-05ac-404b-8904-f9720a0da3f6\" xlink:type=\"simple\"><path d=\"M206.24,176 C217.53,176 232.1,176 246.43,176 \" fill=\"none\" id=\"E11-&gt;E3\" style=\"stroke: #383838; stroke-width: 1.0;\"/><polygon fill=\"#FFFFFF\" points=\"266.84,176,247.84,183,247.84,169,266.84,176\" style=\"stroke: #383838; stroke-width: 1.0;\"/><ellipse cx=\"242.14\" cy=\"181\" fill=\"#383838\" rx=\"2\" ry=\"2\" style=\"stroke: #383838; stroke-width: 1.0;\"/><ellipse cx=\"242.14\" cy=\"171\" fill=\"#383838\" rx=\"2\" ry=\"2\" style=\"stroke: #383838; stroke-width: 1.0;\"/></a><!--MD5=[783eef371893caa5230416b5f6511491]\n",
       "@startuml\r\n",
       "left to right direction\r\n",
       "skinparam monochrome true\r\n",
       "skinparam classbackgroundcolor white\r\n",
       "skinparam shadowing false\r\n",
       "skinparam wrapWidth 300\r\n",
       "hide circle\r\n",
       "\r\n",
       "package \"ItemTest\" as E1  [[psysml:9c84b130-4496-45dd-acf0-f614adf4451b ]]  {\r\n",
       "comp usage \"f: A \" as E2  <<(T,blue) item>> [[psysml:046ce2e8-70d6-418b-9e34-4058f6a1e698 ]] {\r\n",
       "}\r\n",
       "comp def \"A\" as E3  <<(T,blue) item  def>> [[psysml:b761bda6-ef45-4173-adbe-8f17f5dd59b9 ]] {\r\n",
       "}\r\n",
       "comp usage \"b: B \" as E4  <<(T,blue) item>> [[psysml:5a9b7c1e-d921-40a5-84d4-dcafad1b8599 ]] {\r\n",
       "}\r\n",
       "comp usage \"c: C \" as E5  <<(T,blue) part>> [[psysml:c52e7c62-32ae-43e1-a51e-2d7f86512260 ]] {\r\n",
       "}\r\n",
       "comp def \"<i>B</i>\" as E6  <<(T,blue) item  def>> [[psysml:154f7142-f3c2-4f8f-a55c-1d31f59952e7 ]] {\r\n",
       "}\r\n",
       "comp usage \"<i>a</i>: A \" as E7  <<(T,blue) part>> [[psysml:3092a58e-bc17-492e-b3ac-d9b0c5d27ee1 ]] {\r\n",
       "}\r\n",
       "comp def \"C\" as E8  <<(T,blue) part  def>> [[psysml:a977dc12-1522-4e17-86ea-88834b4a9262 ]] {\r\n",
       "- - parameters - -\r\n",
       "<b>in</b> y: A, B\r\n",
       "}\r\n",
       "comp def \"P\" as E9  <<(T,blue) port  def>> [[psysml:505a0904-767f-4431-bdaf-f395e9a256c5 ]] {\r\n",
       "}\r\n",
       "comp usage \"a1: A \" as E10  <<(T,blue) item>> [[psysml:b48ee9ab-0a15-45ce-8465-86ae83c4be7f ]] {\r\n",
       "}\r\n",
       "comp usage \"a2: A \" as E11  <<(T,blue) item>> [[psysml:7b14a527-4e8d-41df-a91b-3ca9db44b1d9 ]] {\r\n",
       "}\r\n",
       "}\r\n",
       "E2 - -:|> E3 [[psysml:2913aa14-34e4-4ebc-b3c0-73cbbe37a712 ]] \r\n",
       "E3 *- - \"1\"E4 [[psysml:5a70b25d-3e65-48fe-9200-ece04e9de0ee ]] \r\n",
       "E3 o- - \"1\"E5 [[psysml:98aba136-2768-4c7e-bc34-95a5a6a911cd ]] \r\n",
       "E4 - -:|> E6 [[psysml:04be4dec-9fb2-423c-a400-1c82afc162c3 ]] \r\n",
       "E6 *- - \"1\"E7 [[psysml:88a05b08-39fe-46e7-8c9b-5df9e56fb426 ]] \r\n",
       "E7 - -:|> E3 [[psysml:de23f89f-df32-45d9-b344-47d8d19c4edc ]] \r\n",
       "E5 - -:|> E8 [[psysml:feaf6c57-7b20-4701-8323-0c325a1238bf ]] \r\n",
       "E8 o- - E3 [[psysml:f63e9e98-9395-484c-b7ba-710e403c3592 ]] : y\r\n",
       "E8 o- - E6 [[psysml:f63e9e98-9395-484c-b7ba-710e403c3592 ]] : y\r\n",
       "E8 o- - E3 [[psysml:f63e9e98-9395-484c-b7ba-710e403c3592 ]] : y\r\n",
       "E8 o- - E6 [[psysml:f63e9e98-9395-484c-b7ba-710e403c3592 ]] : y\r\n",
       "E9 o- - \"1\"E10 [[psysml:f7fd9ae3-3fa5-48e2-b146-bf2078e3bf75 ]] \r\n",
       "E10 - -:|> E3 [[psysml:09a722a7-3c7d-4d30-9bcf-d6d93c165304 ]] \r\n",
       "E9 o- - \"1\"E11 [[psysml:2308c13a-9c40-4baf-abe1-b4752fcfac30 ]] \r\n",
       "E11 - -:|> E3 [[psysml:713baad2-05ac-404b-8904-f9720a0da3f6 ]] \r\n",
       "@enduml\r\n",
       "\n",
       "PlantUML version 1.2020.13(Sat Jun 13 12:26:38 UTC 2020)\n",
       "(EPL source distribution)\n",
       "Java Runtime: OpenJDK Runtime Environment\n",
       "JVM: OpenJDK 64-Bit Server VM\n",
       "Default Encoding: UTF-8\n",
       "Language: en\n",
       "Country: null\n",
       "--></g></svg>"
      ]
     },
     "execution_count": 16,
     "metadata": {},
     "output_type": "execute_result"
    }
   ],
   "source": [
    "%viz --style=\"LR\" --view=\"Default\" \"ItemTest\""
   ]
  },
  {
   "cell_type": "code",
   "execution_count": 17,
   "id": "45d1d75a",
   "metadata": {
    "execution": {
     "iopub.execute_input": "2021-10-25T08:20:53.745481Z",
     "iopub.status.busy": "2021-10-25T08:20:53.744916Z",
     "iopub.status.idle": "2021-10-25T08:20:53.813305Z",
     "shell.execute_reply": "2021-10-25T08:20:53.812896Z"
    }
   },
   "outputs": [
    {
     "data": {
      "image/svg+xml": [
       "<?xml version=\"1.0\" encoding=\"UTF-8\" standalone=\"no\"?><svg xmlns=\"http://www.w3.org/2000/svg\" xmlns:xlink=\"http://www.w3.org/1999/xlink\" contentScriptType=\"application/ecmascript\" contentStyleType=\"text/css\" height=\"363px\" preserveAspectRatio=\"none\" style=\"width:900px;height:363px;\" version=\"1.1\" viewBox=\"0 0 900 363\" width=\"900px\" zoomAndPan=\"magnify\"><defs/><g><!--MD5=[fbc87193dbaf4d95561dea2c320d4a47]\n",
       "cluster E1--><a href=\"psysml:9c84b130-4496-45dd-acf0-f614adf4451b\" target=\"_top\" title=\"psysml:9c84b130-4496-45dd-acf0-f614adf4451b\" xlink:actuate=\"onRequest\" xlink:href=\"psysml:9c84b130-4496-45dd-acf0-f614adf4451b\" xlink:show=\"new\" xlink:title=\"psysml:9c84b130-4496-45dd-acf0-f614adf4451b\" xlink:type=\"simple\"><polygon fill=\"#FFFFFF\" points=\"16,6,83,6,90,28.2969,878,28.2969,878,351,16,351,16,6\" style=\"stroke: #000000; stroke-width: 1.5;\"/><line style=\"stroke: #000000; stroke-width: 1.5;\" x1=\"16\" x2=\"90\" y1=\"28.2969\" y2=\"28.2969\"/><text fill=\"#000000\" font-family=\"sans-serif\" font-size=\"14\" font-weight=\"bold\" lengthAdjust=\"spacingAndGlyphs\" textLength=\"61\" x=\"20\" y=\"20.9951\">ItemTest</text></a><!--MD5=[b4997ac47864f28c2f74865a473b2911]\n",
       "class E2--><a href=\"psysml:046ce2e8-70d6-418b-9e34-4058f6a1e698\" target=\"_top\" title=\"psysml:046ce2e8-70d6-418b-9e34-4058f6a1e698\" xlink:actuate=\"onRequest\" xlink:href=\"psysml:046ce2e8-70d6-418b-9e34-4058f6a1e698\" xlink:show=\"new\" xlink:title=\"psysml:046ce2e8-70d6-418b-9e34-4058f6a1e698\" xlink:type=\"simple\"><rect fill=\"#FFFFFF\" height=\"45.9375\" id=\"E2\" rx=\"10\" ry=\"10\" style=\"stroke: #383838; stroke-width: 1.5;\" width=\"43\" x=\"163\" y=\"72\"/><text fill=\"#000000\" font-family=\"sans-serif\" font-size=\"12\" font-style=\"italic\" lengthAdjust=\"spacingAndGlyphs\" textLength=\"41\" x=\"164\" y=\"88.1387\">«item»</text><text fill=\"#000000\" font-family=\"sans-serif\" font-size=\"12\" lengthAdjust=\"spacingAndGlyphs\" textLength=\"20\" x=\"172.5\" y=\"102.1074\">f: A</text><line style=\"stroke: #383838; stroke-width: 1.5;\" x1=\"164\" x2=\"205\" y1=\"109.9375\" y2=\"109.9375\"/></a><!--MD5=[09b614a08d8cba4a07c9adeb5e0fee81]\n",
       "class E3--><a href=\"psysml:b761bda6-ef45-4173-adbe-8f17f5dd59b9\" target=\"_top\" title=\"psysml:b761bda6-ef45-4173-adbe-8f17f5dd59b9\" xlink:actuate=\"onRequest\" xlink:href=\"psysml:b761bda6-ef45-4173-adbe-8f17f5dd59b9\" xlink:show=\"new\" xlink:title=\"psysml:b761bda6-ef45-4173-adbe-8f17f5dd59b9\" xlink:type=\"simple\"><rect fill=\"#FFFFFF\" height=\"45.9375\" id=\"E3\" style=\"stroke: #383838; stroke-width: 1.5;\" width=\"71\" x=\"267\" y=\"153\"/><text fill=\"#000000\" font-family=\"sans-serif\" font-size=\"12\" font-style=\"italic\" lengthAdjust=\"spacingAndGlyphs\" textLength=\"69\" x=\"268\" y=\"169.1387\">«item  def»</text><text fill=\"#000000\" font-family=\"sans-serif\" font-size=\"12\" lengthAdjust=\"spacingAndGlyphs\" textLength=\"8\" x=\"298.5\" y=\"183.1074\">A</text><line style=\"stroke: #383838; stroke-width: 1.5;\" x1=\"268\" x2=\"337\" y1=\"190.9375\" y2=\"190.9375\"/></a><!--MD5=[ebbe1d658d1005bcc118a6aa81145e00]\n",
       "class E4--><a href=\"psysml:5a9b7c1e-d921-40a5-84d4-dcafad1b8599\" target=\"_top\" title=\"psysml:5a9b7c1e-d921-40a5-84d4-dcafad1b8599\" xlink:actuate=\"onRequest\" xlink:href=\"psysml:5a9b7c1e-d921-40a5-84d4-dcafad1b8599\" xlink:show=\"new\" xlink:title=\"psysml:5a9b7c1e-d921-40a5-84d4-dcafad1b8599\" xlink:type=\"simple\"><rect fill=\"#FFFFFF\" height=\"45.9375\" id=\"E4\" rx=\"10\" ry=\"10\" style=\"stroke: #383838; stroke-width: 1.5;\" width=\"43\" x=\"471\" y=\"51\"/><text fill=\"#000000\" font-family=\"sans-serif\" font-size=\"12\" font-style=\"italic\" lengthAdjust=\"spacingAndGlyphs\" textLength=\"41\" x=\"472\" y=\"67.1387\">«item»</text><text fill=\"#000000\" font-family=\"sans-serif\" font-size=\"12\" lengthAdjust=\"spacingAndGlyphs\" textLength=\"24\" x=\"478.5\" y=\"81.1074\">b: B</text><line style=\"stroke: #383838; stroke-width: 1.5;\" x1=\"472\" x2=\"513\" y1=\"88.9375\" y2=\"88.9375\"/></a><!--MD5=[270fce915f116d4de14055a7c1d9a0f3]\n",
       "class E5--><a href=\"psysml:c52e7c62-32ae-43e1-a51e-2d7f86512260\" target=\"_top\" title=\"psysml:c52e7c62-32ae-43e1-a51e-2d7f86512260\" xlink:actuate=\"onRequest\" xlink:href=\"psysml:c52e7c62-32ae-43e1-a51e-2d7f86512260\" xlink:show=\"new\" xlink:title=\"psysml:c52e7c62-32ae-43e1-a51e-2d7f86512260\" xlink:type=\"simple\"><rect fill=\"#FFFFFF\" height=\"45.9375\" id=\"E5\" rx=\"10\" ry=\"10\" style=\"stroke: #383838; stroke-width: 1.5;\" width=\"42\" x=\"399\" y=\"78\"/><text fill=\"#000000\" font-family=\"sans-serif\" font-size=\"12\" font-style=\"italic\" lengthAdjust=\"spacingAndGlyphs\" textLength=\"40\" x=\"400\" y=\"94.1387\">«part»</text><text fill=\"#000000\" font-family=\"sans-serif\" font-size=\"12\" lengthAdjust=\"spacingAndGlyphs\" textLength=\"23\" x=\"406.5\" y=\"108.1074\">c: C</text><line style=\"stroke: #383838; stroke-width: 1.5;\" x1=\"400\" x2=\"440\" y1=\"115.9375\" y2=\"115.9375\"/></a><!--MD5=[60a26617385b1d2d0262a64233df1f8d]\n",
       "class E6--><a href=\"psysml:154f7142-f3c2-4f8f-a55c-1d31f59952e7\" target=\"_top\" title=\"psysml:154f7142-f3c2-4f8f-a55c-1d31f59952e7\" xlink:actuate=\"onRequest\" xlink:href=\"psysml:154f7142-f3c2-4f8f-a55c-1d31f59952e7\" xlink:show=\"new\" xlink:title=\"psysml:154f7142-f3c2-4f8f-a55c-1d31f59952e7\" xlink:type=\"simple\"><rect fill=\"#FFFFFF\" height=\"45.9375\" id=\"E6\" style=\"stroke: #383838; stroke-width: 1.5;\" width=\"71\" x=\"688\" y=\"157\"/><text fill=\"#000000\" font-family=\"sans-serif\" font-size=\"12\" font-style=\"italic\" lengthAdjust=\"spacingAndGlyphs\" textLength=\"69\" x=\"689\" y=\"173.1387\">«item  def»</text><text fill=\"#000000\" font-family=\"sans-serif\" font-size=\"12\" font-style=\"italic\" lengthAdjust=\"spacingAndGlyphs\" textLength=\"8\" x=\"719.5\" y=\"187.1074\">B</text><line style=\"stroke: #383838; stroke-width: 1.5;\" x1=\"689\" x2=\"758\" y1=\"194.9375\" y2=\"194.9375\"/></a><!--MD5=[2156ba9850f5573cc1fc38a6a4b2f02b]\n",
       "class E7--><a href=\"psysml:3092a58e-bc17-492e-b3ac-d9b0c5d27ee1\" target=\"_top\" title=\"psysml:3092a58e-bc17-492e-b3ac-d9b0c5d27ee1\" xlink:actuate=\"onRequest\" xlink:href=\"psysml:3092a58e-bc17-492e-b3ac-d9b0c5d27ee1\" xlink:show=\"new\" xlink:title=\"psysml:3092a58e-bc17-492e-b3ac-d9b0c5d27ee1\" xlink:type=\"simple\"><rect fill=\"#FFFFFF\" height=\"45.9375\" id=\"E7\" rx=\"10\" ry=\"10\" style=\"stroke: #383838; stroke-width: 1.5;\" width=\"42\" x=\"820\" y=\"223\"/><text fill=\"#000000\" font-family=\"sans-serif\" font-size=\"12\" font-style=\"italic\" lengthAdjust=\"spacingAndGlyphs\" textLength=\"40\" x=\"821\" y=\"239.1387\">«part»</text><text fill=\"#000000\" font-family=\"sans-serif\" font-size=\"12\" font-style=\"italic\" lengthAdjust=\"spacingAndGlyphs\" textLength=\"8\" x=\"827\" y=\"253.1074\">a</text><text fill=\"#000000\" font-family=\"sans-serif\" font-size=\"12\" lengthAdjust=\"spacingAndGlyphs\" textLength=\"16\" x=\"835\" y=\"253.1074\">: A</text><line style=\"stroke: #383838; stroke-width: 1.5;\" x1=\"821\" x2=\"861\" y1=\"260.9375\" y2=\"260.9375\"/></a><!--MD5=[b9389687b975829384b498ac4b7476b2]\n",
       "class E8--><a href=\"psysml:a977dc12-1522-4e17-86ea-88834b4a9262\" target=\"_top\" title=\"psysml:a977dc12-1522-4e17-86ea-88834b4a9262\" xlink:actuate=\"onRequest\" xlink:href=\"psysml:a977dc12-1522-4e17-86ea-88834b4a9262\" xlink:show=\"new\" xlink:title=\"psysml:a977dc12-1522-4e17-86ea-88834b4a9262\" xlink:type=\"simple\"><rect fill=\"#FFFFFF\" height=\"75.5469\" id=\"E8\" style=\"stroke: #383838; stroke-width: 1.5;\" width=\"75\" x=\"544\" y=\"138\"/><text fill=\"#000000\" font-family=\"sans-serif\" font-size=\"12\" font-style=\"italic\" lengthAdjust=\"spacingAndGlyphs\" textLength=\"68\" x=\"547.5\" y=\"154.1387\">«part  def»</text><text fill=\"#000000\" font-family=\"sans-serif\" font-size=\"12\" lengthAdjust=\"spacingAndGlyphs\" textLength=\"8\" x=\"577.5\" y=\"168.1074\">C</text><line style=\"stroke: #383838; stroke-width: 1.5;\" x1=\"545\" x2=\"618\" y1=\"175.9375\" y2=\"175.9375\"/><text fill=\"#000000\" font-family=\"sans-serif\" font-size=\"11\" font-weight=\"bold\" lengthAdjust=\"spacingAndGlyphs\" textLength=\"10\" x=\"550\" y=\"206.9526\">in</text><text fill=\"#000000\" font-family=\"sans-serif\" font-size=\"11\" lengthAdjust=\"spacingAndGlyphs\" textLength=\"37\" x=\"564\" y=\"206.9526\">y: A, B</text><line style=\"stroke: #383838; stroke-width: 1.0;\" x1=\"545\" x2=\"548\" y1=\"190.3398\" y2=\"190.3398\"/><text fill=\"#000000\" font-family=\"sans-serif\" font-size=\"11\" lengthAdjust=\"spacingAndGlyphs\" textLength=\"67\" x=\"548\" y=\"193.6479\">parameters</text><line style=\"stroke: #383838; stroke-width: 1.0;\" x1=\"615\" x2=\"618\" y1=\"190.3398\" y2=\"190.3398\"/></a><!--MD5=[fd4143e9d270a159db93a4ea2a975926]\n",
       "class E9--><a href=\"psysml:505a0904-767f-4431-bdaf-f395e9a256c5\" target=\"_top\" title=\"psysml:505a0904-767f-4431-bdaf-f395e9a256c5\" xlink:actuate=\"onRequest\" xlink:href=\"psysml:505a0904-767f-4431-bdaf-f395e9a256c5\" xlink:show=\"new\" xlink:title=\"psysml:505a0904-767f-4431-bdaf-f395e9a256c5\" xlink:type=\"simple\"><rect fill=\"#FFFFFF\" height=\"45.9375\" id=\"E9\" style=\"stroke: #383838; stroke-width: 1.5;\" width=\"70\" x=\"32\" y=\"194\"/><text fill=\"#000000\" font-family=\"sans-serif\" font-size=\"12\" font-style=\"italic\" lengthAdjust=\"spacingAndGlyphs\" textLength=\"68\" x=\"33\" y=\"210.1387\">«port  def»</text><text fill=\"#000000\" font-family=\"sans-serif\" font-size=\"12\" lengthAdjust=\"spacingAndGlyphs\" textLength=\"8\" x=\"63\" y=\"224.1074\">P</text><line style=\"stroke: #383838; stroke-width: 1.5;\" x1=\"33\" x2=\"101\" y1=\"231.9375\" y2=\"231.9375\"/></a><!--MD5=[96f4274e9e20536e775497830990834d]\n",
       "class E10--><a href=\"psysml:b48ee9ab-0a15-45ce-8465-86ae83c4be7f\" target=\"_top\" title=\"psysml:b48ee9ab-0a15-45ce-8465-86ae83c4be7f\" xlink:actuate=\"onRequest\" xlink:href=\"psysml:b48ee9ab-0a15-45ce-8465-86ae83c4be7f\" xlink:show=\"new\" xlink:title=\"psysml:b48ee9ab-0a15-45ce-8465-86ae83c4be7f\" xlink:type=\"simple\"><rect fill=\"#FFFFFF\" height=\"45.9375\" id=\"E10\" rx=\"10\" ry=\"10\" style=\"stroke: #383838; stroke-width: 1.5;\" width=\"43\" x=\"163\" y=\"234\"/><text fill=\"#000000\" font-family=\"sans-serif\" font-size=\"12\" font-style=\"italic\" lengthAdjust=\"spacingAndGlyphs\" textLength=\"41\" x=\"164\" y=\"250.1387\">«item»</text><text fill=\"#000000\" font-family=\"sans-serif\" font-size=\"12\" lengthAdjust=\"spacingAndGlyphs\" textLength=\"32\" x=\"166.5\" y=\"264.1074\">a1: A</text><line style=\"stroke: #383838; stroke-width: 1.5;\" x1=\"164\" x2=\"205\" y1=\"271.9375\" y2=\"271.9375\"/></a><!--MD5=[1dd1bfd58a279cf63c5f349dbc8fc6a1]\n",
       "class E11--><a href=\"psysml:7b14a527-4e8d-41df-a91b-3ca9db44b1d9\" target=\"_top\" title=\"psysml:7b14a527-4e8d-41df-a91b-3ca9db44b1d9\" xlink:actuate=\"onRequest\" xlink:href=\"psysml:7b14a527-4e8d-41df-a91b-3ca9db44b1d9\" xlink:show=\"new\" xlink:title=\"psysml:7b14a527-4e8d-41df-a91b-3ca9db44b1d9\" xlink:type=\"simple\"><rect fill=\"#FFFFFF\" height=\"45.9375\" id=\"E11\" rx=\"10\" ry=\"10\" style=\"stroke: #383838; stroke-width: 1.5;\" width=\"43\" x=\"163\" y=\"153\"/><text fill=\"#000000\" font-family=\"sans-serif\" font-size=\"12\" font-style=\"italic\" lengthAdjust=\"spacingAndGlyphs\" textLength=\"41\" x=\"164\" y=\"169.1387\">«item»</text><text fill=\"#000000\" font-family=\"sans-serif\" font-size=\"12\" lengthAdjust=\"spacingAndGlyphs\" textLength=\"32\" x=\"166.5\" y=\"183.1074\">a2: A</text><line style=\"stroke: #383838; stroke-width: 1.5;\" x1=\"164\" x2=\"205\" y1=\"190.9375\" y2=\"190.9375\"/></a><!--MD5=[2720a5a1f2c3fca2055b230370638851]\n",
       "link E2 to E3--><a href=\"psysml:2913aa14-34e4-4ebc-b3c0-73cbbe37a712\" target=\"_top\" title=\"psysml:2913aa14-34e4-4ebc-b3c0-73cbbe37a712\" xlink:actuate=\"onRequest\" xlink:href=\"psysml:2913aa14-34e4-4ebc-b3c0-73cbbe37a712\" xlink:show=\"new\" xlink:title=\"psysml:2913aa14-34e4-4ebc-b3c0-73cbbe37a712\" xlink:type=\"simple\"><path d=\"M206.24,109.48 C218.94,118.35 235.78,130.11 251.76,141.27 \" fill=\"none\" id=\"E2-&gt;E3\" style=\"stroke: #383838; stroke-width: 1.0;\"/><polygon fill=\"#FFFFFF\" points=\"268.21,152.75,248.6276,147.5992,256.6501,136.1257,268.21,152.75\" style=\"stroke: #383838; stroke-width: 1.0;\"/><ellipse cx=\"245.1024\" cy=\"142.6938\" fill=\"#383838\" rx=\"2\" ry=\"2\" style=\"stroke: #383838; stroke-width: 1.0;\"/><ellipse cx=\"250.8327\" cy=\"134.4985\" fill=\"#383838\" rx=\"2\" ry=\"2\" style=\"stroke: #383838; stroke-width: 1.0;\"/></a><!--MD5=[4672eba38e49728da53d11aeb285b987]\n",
       "reverse link E3 to E4--><a href=\"psysml:5a70b25d-3e65-48fe-9200-ece04e9de0ee\" target=\"_top\" title=\"psysml:5a70b25d-3e65-48fe-9200-ece04e9de0ee\" xlink:actuate=\"onRequest\" xlink:href=\"psysml:5a70b25d-3e65-48fe-9200-ece04e9de0ee\" xlink:show=\"new\" xlink:title=\"psysml:5a70b25d-3e65-48fe-9200-ece04e9de0ee\" xlink:type=\"simple\"><path d=\"M320.92,141.3 C336.97,113.57 363.66,76.68 399,60 C421.91,49.18 451.25,56.75 470.67,64.31 \" fill=\"none\" id=\"E3&lt;-E4\" style=\"stroke: #383838; stroke-width: 1.0;\"/><polygon fill=\"#383838\" points=\"314.49,152.91,320.8917,149.5905,320.2897,142.4046,313.8881,145.7241,314.49,152.91\" style=\"stroke: #383838; stroke-width: 1.0;\"/><text fill=\"#000000\" font-family=\"sans-serif\" font-size=\"13\" lengthAdjust=\"spacingAndGlyphs\" textLength=\"8\" x=\"455.0824\" y=\"75.7623\">1</text></a><!--MD5=[191cde3d490a3f6d7bb551fe3ddca469]\n",
       "reverse link E3 to E5--><a href=\"psysml:98aba136-2768-4c7e-bc34-95a5a6a911cd\" target=\"_top\" title=\"psysml:98aba136-2768-4c7e-bc34-95a5a6a911cd\" xlink:actuate=\"onRequest\" xlink:href=\"psysml:98aba136-2768-4c7e-bc34-95a5a6a911cd\" xlink:show=\"new\" xlink:title=\"psysml:98aba136-2768-4c7e-bc34-95a5a6a911cd\" xlink:type=\"simple\"><path d=\"M349.18,146.34 C366.39,135.16 385.1,123.01 398.81,114.11 \" fill=\"none\" id=\"E3&lt;-E5\" style=\"stroke: #383838; stroke-width: 1.0;\"/><polygon fill=\"#FFFFFF\" points=\"338.15,153.5,345.3605,153.5902,348.217,146.969,341.0065,146.8788,338.15,153.5\" style=\"stroke: #383838; stroke-width: 1.0;\"/><text fill=\"#000000\" font-family=\"sans-serif\" font-size=\"13\" lengthAdjust=\"spacingAndGlyphs\" textLength=\"8\" x=\"383.0956\" y=\"132.5186\">1</text></a><!--MD5=[79568f1e445c3877b6a54524624ccc7d]\n",
       "link E4 to E6--><a href=\"psysml:04be4dec-9fb2-423c-a400-1c82afc162c3\" target=\"_top\" title=\"psysml:04be4dec-9fb2-423c-a400-1c82afc162c3\" xlink:actuate=\"onRequest\" xlink:href=\"psysml:04be4dec-9fb2-423c-a400-1c82afc162c3\" xlink:show=\"new\" xlink:title=\"psysml:04be4dec-9fb2-423c-a400-1c82afc162c3\" xlink:type=\"simple\"><path d=\"M514.38,80.42 C539.66,88.46 583.28,103.26 619,120 C636.22,128.07 654.36,138.04 670.55,147.52 \" fill=\"none\" id=\"E4-&gt;E6\" style=\"stroke: #383838; stroke-width: 1.0;\"/><polygon fill=\"#FFFFFF\" points=\"687.87,157.89,667.9748,154.1243,675.1733,142.1168,687.87,157.89\" style=\"stroke: #383838; stroke-width: 1.0;\"/><ellipse cx=\"664.1144\" cy=\"149.4781\" fill=\"#383838\" rx=\"2\" ry=\"2\" style=\"stroke: #383838; stroke-width: 1.0;\"/><ellipse cx=\"669.2562\" cy=\"140.9013\" fill=\"#383838\" rx=\"2\" ry=\"2\" style=\"stroke: #383838; stroke-width: 1.0;\"/></a><!--MD5=[3f50a3473f1dfb74d3f76443e03635af]\n",
       "reverse link E6 to E7--><a href=\"psysml:88a05b08-39fe-46e7-8c9b-5df9e56fb426\" target=\"_top\" title=\"psysml:88a05b08-39fe-46e7-8c9b-5df9e56fb426\" xlink:actuate=\"onRequest\" xlink:href=\"psysml:88a05b08-39fe-46e7-8c9b-5df9e56fb426\" xlink:show=\"new\" xlink:title=\"psysml:88a05b08-39fe-46e7-8c9b-5df9e56fb426\" xlink:type=\"simple\"><path d=\"M770.67,206.38 C787.75,216.14 806.23,226.7 819.81,234.46 \" fill=\"none\" id=\"E6&lt;-E7\" style=\"stroke: #383838; stroke-width: 1.0;\"/><polygon fill=\"#383838\" points=\"759.15,199.8,762.3714,206.2516,769.5657,205.7593,766.3443,199.3078,759.15,199.8\" style=\"stroke: #383838; stroke-width: 1.0;\"/><text fill=\"#000000\" font-family=\"sans-serif\" font-size=\"13\" lengthAdjust=\"spacingAndGlyphs\" textLength=\"8\" x=\"804.0956\" y=\"245.3196\">1</text></a><!--MD5=[14ccda38c055a5c0da953d572bc50960]\n",
       "link E7 to E3--><a href=\"psysml:de23f89f-df32-45d9-b344-47d8d19c4edc\" target=\"_top\" title=\"psysml:de23f89f-df32-45d9-b344-47d8d19c4edc\" xlink:actuate=\"onRequest\" xlink:href=\"psysml:de23f89f-df32-45d9-b344-47d8d19c4edc\" xlink:show=\"new\" xlink:title=\"psysml:de23f89f-df32-45d9-b344-47d8d19c4edc\" xlink:type=\"simple\"><path d=\"M824.16,269.12 C804.23,295.19 767.36,334 724.5,334 C419,334 419,334 419,334 C361.71,334 329.78,265.46 314.66,218.66 \" fill=\"none\" id=\"E7-&gt;E3\" style=\"stroke: #383838; stroke-width: 1.0;\"/><polygon fill=\"#FFFFFF\" points=\"308.94,199.31,321.0423,215.5438,307.6174,219.5152,308.94,199.31\" style=\"stroke: #383838; stroke-width: 1.0;\"/><ellipse cx=\"320.7414\" cy=\"221.577\" fill=\"#383838\" rx=\"2\" ry=\"2\" style=\"stroke: #383838; stroke-width: 1.0;\"/><ellipse cx=\"311.1522\" cy=\"224.4137\" fill=\"#383838\" rx=\"2\" ry=\"2\" style=\"stroke: #383838; stroke-width: 1.0;\"/></a><!--MD5=[dfaffb906826c3e5aca635516100ff21]\n",
       "link E5 to E8--><a href=\"psysml:feaf6c57-7b20-4701-8323-0c325a1238bf\" target=\"_top\" title=\"psysml:feaf6c57-7b20-4701-8323-0c325a1238bf\" xlink:actuate=\"onRequest\" xlink:href=\"psysml:feaf6c57-7b20-4701-8323-0c325a1238bf\" xlink:show=\"new\" xlink:title=\"psysml:feaf6c57-7b20-4701-8323-0c325a1238bf\" xlink:type=\"simple\"><path d=\"M441.2,110.5 C462.31,120.43 496.36,136.43 525.5,150.14 \" fill=\"none\" id=\"E5-&gt;E8\" style=\"stroke: #383838; stroke-width: 1.0;\"/><polygon fill=\"#FFFFFF\" points=\"543.77,158.73,523.5965,156.9897,529.5475,144.3175,543.77,158.73\" style=\"stroke: #383838; stroke-width: 1.0;\"/><ellipse cx=\"519.2872\" cy=\"152.7565\" fill=\"#383838\" rx=\"2\" ry=\"2\" style=\"stroke: #383838; stroke-width: 1.0;\"/><ellipse cx=\"523.538\" cy=\"143.7049\" fill=\"#383838\" rx=\"2\" ry=\"2\" style=\"stroke: #383838; stroke-width: 1.0;\"/></a><!--MD5=[03c8294790d3c57651a1993cecff665f]\n",
       "reverse link E8 to E3--><a href=\"psysml:f63e9e98-9395-484c-b7ba-710e403c3592\" target=\"_top\" title=\"psysml:f63e9e98-9395-484c-b7ba-710e403c3592\" xlink:actuate=\"onRequest\" xlink:href=\"psysml:f63e9e98-9395-484c-b7ba-710e403c3592\" xlink:show=\"new\" xlink:title=\"psysml:f63e9e98-9395-484c-b7ba-710e403c3592\" xlink:type=\"simple\"><path d=\"M532.65,208.23 C496.23,228.74 444.75,249.18 399,236 C373.98,228.79 349.18,212.88 331.12,199.25 \" fill=\"none\" id=\"E8&lt;-E3\" style=\"stroke: #383838; stroke-width: 1.0;\"/><polygon fill=\"#FFFFFF\" points=\"543.91,201.61,536.7106,201.1992,533.5624,207.6868,540.7618,208.0976,543.91,201.61\" style=\"stroke: #383838; stroke-width: 1.0;\"/><text fill=\"#000000\" font-family=\"sans-serif\" font-size=\"13\" lengthAdjust=\"spacingAndGlyphs\" textLength=\"7\" x=\"416.5\" y=\"232.0669\">y</text></a><!--MD5=[03c8294790d3c57651a1993cecff665f]\n",
       "reverse link E8 to E3--><a href=\"psysml:f63e9e98-9395-484c-b7ba-710e403c3592\" target=\"_top\" title=\"psysml:f63e9e98-9395-484c-b7ba-710e403c3592\" xlink:actuate=\"onRequest\" xlink:href=\"psysml:f63e9e98-9395-484c-b7ba-710e403c3592\" xlink:show=\"new\" xlink:title=\"psysml:f63e9e98-9395-484c-b7ba-710e403c3592\" xlink:type=\"simple\"><path d=\"M530.73,176 C475.12,176 386.52,176 338.02,176 \" fill=\"none\" id=\"E8&lt;-E3-1\" style=\"stroke: #383838; stroke-width: 1.0;\"/><polygon fill=\"#FFFFFF\" points=\"543.78,176,537.78,172,531.78,176,537.78,180,543.78,176\" style=\"stroke: #383838; stroke-width: 1.0;\"/><text fill=\"#000000\" font-family=\"sans-serif\" font-size=\"13\" lengthAdjust=\"spacingAndGlyphs\" textLength=\"7\" x=\"416.5\" y=\"172.0669\">y</text></a><!--MD5=[0d75d2178373a6a4568e5dc728f58aef]\n",
       "reverse link E8 to E6--><a href=\"psysml:f63e9e98-9395-484c-b7ba-710e403c3592\" target=\"_top\" title=\"psysml:f63e9e98-9395-484c-b7ba-710e403c3592\" xlink:actuate=\"onRequest\" xlink:href=\"psysml:f63e9e98-9395-484c-b7ba-710e403c3592\" xlink:show=\"new\" xlink:title=\"psysml:f63e9e98-9395-484c-b7ba-710e403c3592\" xlink:type=\"simple\"><path d=\"M631.01,204.87 C636.91,207.37 642.98,209.51 649,211 C663.25,214.52 678.3,209.81 691.05,203.08 \" fill=\"none\" id=\"E8&lt;-E6\" style=\"stroke: #383838; stroke-width: 1.0;\"/><polygon fill=\"#FFFFFF\" points=\"619.21,199.33,622.9404,205.5012,630.0717,204.4313,626.3413,198.2601,619.21,199.33\" style=\"stroke: #383838; stroke-width: 1.0;\"/><text fill=\"#000000\" font-family=\"sans-serif\" font-size=\"13\" lengthAdjust=\"spacingAndGlyphs\" textLength=\"7\" x=\"650\" y=\"207.0669\">y</text></a><!--MD5=[0d75d2178373a6a4568e5dc728f58aef]\n",
       "reverse link E8 to E6--><a href=\"psysml:f63e9e98-9395-484c-b7ba-710e403c3592\" target=\"_top\" title=\"psysml:f63e9e98-9395-484c-b7ba-710e403c3592\" xlink:actuate=\"onRequest\" xlink:href=\"psysml:f63e9e98-9395-484c-b7ba-710e403c3592\" xlink:show=\"new\" xlink:title=\"psysml:f63e9e98-9395-484c-b7ba-710e403c3592\" xlink:type=\"simple\"><path d=\"M632.51,177.43 C650.85,177.95 671.19,178.53 687.89,179.01 \" fill=\"none\" id=\"E8&lt;-E6-1\" style=\"stroke: #383838; stroke-width: 1.0;\"/><polygon fill=\"#FFFFFF\" points=\"619.28,177.05,625.1633,181.2197,631.2751,177.3927,625.3918,173.223,619.28,177.05\" style=\"stroke: #383838; stroke-width: 1.0;\"/><text fill=\"#000000\" font-family=\"sans-serif\" font-size=\"13\" lengthAdjust=\"spacingAndGlyphs\" textLength=\"7\" x=\"650\" y=\"174.0669\">y</text></a><!--MD5=[23ac544a70576c3e717098101004234c]\n",
       "reverse link E9 to E10--><a href=\"psysml:f7fd9ae3-3fa5-48e2-b146-bf2078e3bf75\" target=\"_top\" title=\"psysml:f7fd9ae3-3fa5-48e2-b146-bf2078e3bf75\" xlink:actuate=\"onRequest\" xlink:href=\"psysml:f7fd9ae3-3fa5-48e2-b146-bf2078e3bf75\" xlink:show=\"new\" xlink:title=\"psysml:f7fd9ae3-3fa5-48e2-b146-bf2078e3bf75\" xlink:type=\"simple\"><path d=\"M114.48,233.1 C131.24,238.9 149.31,245.16 162.75,249.81 \" fill=\"none\" id=\"E9&lt;-E10\" style=\"stroke: #383838; stroke-width: 1.0;\"/><polygon fill=\"#FFFFFF\" points=\"102.03,228.78,106.3896,234.524,113.3686,232.7089,109.0089,226.9649,102.03,228.78\" style=\"stroke: #383838; stroke-width: 1.0;\"/><text fill=\"#000000\" font-family=\"sans-serif\" font-size=\"13\" lengthAdjust=\"spacingAndGlyphs\" textLength=\"8\" x=\"146.8641\" y=\"262.0017\">1</text></a><!--MD5=[feeac5eb423634930294aa81f2d25a4c]\n",
       "link E10 to E3--><a href=\"psysml:09a722a7-3c7d-4d30-9bcf-d6d93c165304\" target=\"_top\" title=\"psysml:09a722a7-3c7d-4d30-9bcf-d6d93c165304\" xlink:actuate=\"onRequest\" xlink:href=\"psysml:09a722a7-3c7d-4d30-9bcf-d6d93c165304\" xlink:show=\"new\" xlink:title=\"psysml:09a722a7-3c7d-4d30-9bcf-d6d93c165304\" xlink:type=\"simple\"><path d=\"M206.24,242.52 C218.94,233.65 235.78,221.89 251.76,210.73 \" fill=\"none\" id=\"E10-&gt;E3\" style=\"stroke: #383838; stroke-width: 1.0;\"/><polygon fill=\"#FFFFFF\" points=\"268.21,199.25,256.6501,215.8743,248.6276,204.4008,268.21,199.25\" style=\"stroke: #383838; stroke-width: 1.0;\"/><ellipse cx=\"250.8327\" cy=\"217.5015\" fill=\"#383838\" rx=\"2\" ry=\"2\" style=\"stroke: #383838; stroke-width: 1.0;\"/><ellipse cx=\"245.1024\" cy=\"209.3062\" fill=\"#383838\" rx=\"2\" ry=\"2\" style=\"stroke: #383838; stroke-width: 1.0;\"/></a><!--MD5=[1fc04a95fd77ad5ce46c1a3027516051]\n",
       "reverse link E9 to E11--><a href=\"psysml:2308c13a-9c40-4baf-abe1-b4752fcfac30\" target=\"_top\" title=\"psysml:2308c13a-9c40-4baf-abe1-b4752fcfac30\" xlink:actuate=\"onRequest\" xlink:href=\"psysml:2308c13a-9c40-4baf-abe1-b4752fcfac30\" xlink:show=\"new\" xlink:title=\"psysml:2308c13a-9c40-4baf-abe1-b4752fcfac30\" xlink:type=\"simple\"><path d=\"M114.48,200.5 C131.24,194.55 149.31,188.14 162.75,183.37 \" fill=\"none\" id=\"E9&lt;-E11\" style=\"stroke: #383838; stroke-width: 1.0;\"/><polygon fill=\"#FFFFFF\" points=\"102.03,204.92,109.0214,206.6865,113.341,200.9124,106.3496,199.1458,102.03,204.92\" style=\"stroke: #383838; stroke-width: 1.0;\"/><text fill=\"#000000\" font-family=\"sans-serif\" font-size=\"13\" lengthAdjust=\"spacingAndGlyphs\" textLength=\"8\" x=\"146.8641\" y=\"200.0207\">1</text></a><!--MD5=[0517f1ce58c4d5483948f93845c45e26]\n",
       "link E11 to E3--><a href=\"psysml:713baad2-05ac-404b-8904-f9720a0da3f6\" target=\"_top\" title=\"psysml:713baad2-05ac-404b-8904-f9720a0da3f6\" xlink:actuate=\"onRequest\" xlink:href=\"psysml:713baad2-05ac-404b-8904-f9720a0da3f6\" xlink:show=\"new\" xlink:title=\"psysml:713baad2-05ac-404b-8904-f9720a0da3f6\" xlink:type=\"simple\"><path d=\"M206.24,176 C217.53,176 232.1,176 246.43,176 \" fill=\"none\" id=\"E11-&gt;E3\" style=\"stroke: #383838; stroke-width: 1.0;\"/><polygon fill=\"#FFFFFF\" points=\"266.84,176,247.84,183,247.84,169,266.84,176\" style=\"stroke: #383838; stroke-width: 1.0;\"/><ellipse cx=\"242.14\" cy=\"181\" fill=\"#383838\" rx=\"2\" ry=\"2\" style=\"stroke: #383838; stroke-width: 1.0;\"/><ellipse cx=\"242.14\" cy=\"171\" fill=\"#383838\" rx=\"2\" ry=\"2\" style=\"stroke: #383838; stroke-width: 1.0;\"/></a><!--MD5=[783eef371893caa5230416b5f6511491]\n",
       "@startuml\r\n",
       "left to right direction\r\n",
       "skinparam monochrome true\r\n",
       "skinparam classbackgroundcolor white\r\n",
       "skinparam shadowing false\r\n",
       "skinparam wrapWidth 300\r\n",
       "hide circle\r\n",
       "\r\n",
       "package \"ItemTest\" as E1  [[psysml:9c84b130-4496-45dd-acf0-f614adf4451b ]]  {\r\n",
       "comp usage \"f: A \" as E2  <<(T,blue) item>> [[psysml:046ce2e8-70d6-418b-9e34-4058f6a1e698 ]] {\r\n",
       "}\r\n",
       "comp def \"A\" as E3  <<(T,blue) item  def>> [[psysml:b761bda6-ef45-4173-adbe-8f17f5dd59b9 ]] {\r\n",
       "}\r\n",
       "comp usage \"b: B \" as E4  <<(T,blue) item>> [[psysml:5a9b7c1e-d921-40a5-84d4-dcafad1b8599 ]] {\r\n",
       "}\r\n",
       "comp usage \"c: C \" as E5  <<(T,blue) part>> [[psysml:c52e7c62-32ae-43e1-a51e-2d7f86512260 ]] {\r\n",
       "}\r\n",
       "comp def \"<i>B</i>\" as E6  <<(T,blue) item  def>> [[psysml:154f7142-f3c2-4f8f-a55c-1d31f59952e7 ]] {\r\n",
       "}\r\n",
       "comp usage \"<i>a</i>: A \" as E7  <<(T,blue) part>> [[psysml:3092a58e-bc17-492e-b3ac-d9b0c5d27ee1 ]] {\r\n",
       "}\r\n",
       "comp def \"C\" as E8  <<(T,blue) part  def>> [[psysml:a977dc12-1522-4e17-86ea-88834b4a9262 ]] {\r\n",
       "- - parameters - -\r\n",
       "<b>in</b> y: A, B\r\n",
       "}\r\n",
       "comp def \"P\" as E9  <<(T,blue) port  def>> [[psysml:505a0904-767f-4431-bdaf-f395e9a256c5 ]] {\r\n",
       "}\r\n",
       "comp usage \"a1: A \" as E10  <<(T,blue) item>> [[psysml:b48ee9ab-0a15-45ce-8465-86ae83c4be7f ]] {\r\n",
       "}\r\n",
       "comp usage \"a2: A \" as E11  <<(T,blue) item>> [[psysml:7b14a527-4e8d-41df-a91b-3ca9db44b1d9 ]] {\r\n",
       "}\r\n",
       "}\r\n",
       "E2 - -:|> E3 [[psysml:2913aa14-34e4-4ebc-b3c0-73cbbe37a712 ]] \r\n",
       "E3 *- - \"1\"E4 [[psysml:5a70b25d-3e65-48fe-9200-ece04e9de0ee ]] \r\n",
       "E3 o- - \"1\"E5 [[psysml:98aba136-2768-4c7e-bc34-95a5a6a911cd ]] \r\n",
       "E4 - -:|> E6 [[psysml:04be4dec-9fb2-423c-a400-1c82afc162c3 ]] \r\n",
       "E6 *- - \"1\"E7 [[psysml:88a05b08-39fe-46e7-8c9b-5df9e56fb426 ]] \r\n",
       "E7 - -:|> E3 [[psysml:de23f89f-df32-45d9-b344-47d8d19c4edc ]] \r\n",
       "E5 - -:|> E8 [[psysml:feaf6c57-7b20-4701-8323-0c325a1238bf ]] \r\n",
       "E8 o- - E3 [[psysml:f63e9e98-9395-484c-b7ba-710e403c3592 ]] : y\r\n",
       "E8 o- - E6 [[psysml:f63e9e98-9395-484c-b7ba-710e403c3592 ]] : y\r\n",
       "E8 o- - E3 [[psysml:f63e9e98-9395-484c-b7ba-710e403c3592 ]] : y\r\n",
       "E8 o- - E6 [[psysml:f63e9e98-9395-484c-b7ba-710e403c3592 ]] : y\r\n",
       "E9 o- - \"1\"E10 [[psysml:f7fd9ae3-3fa5-48e2-b146-bf2078e3bf75 ]] \r\n",
       "E10 - -:|> E3 [[psysml:09a722a7-3c7d-4d30-9bcf-d6d93c165304 ]] \r\n",
       "E9 o- - \"1\"E11 [[psysml:2308c13a-9c40-4baf-abe1-b4752fcfac30 ]] \r\n",
       "E11 - -:|> E3 [[psysml:713baad2-05ac-404b-8904-f9720a0da3f6 ]] \r\n",
       "@enduml\r\n",
       "\n",
       "PlantUML version 1.2020.13(Sat Jun 13 12:26:38 UTC 2020)\n",
       "(EPL source distribution)\n",
       "Java Runtime: OpenJDK Runtime Environment\n",
       "JVM: OpenJDK 64-Bit Server VM\n",
       "Default Encoding: UTF-8\n",
       "Language: en\n",
       "Country: null\n",
       "--></g></svg>"
      ]
     },
     "execution_count": 17,
     "metadata": {},
     "output_type": "execute_result"
    }
   ],
   "source": [
    "%viz --style=\"LR\" --view=\"Tree\" \"ItemTest\""
   ]
  },
  {
   "cell_type": "code",
   "execution_count": 18,
   "id": "42e97efa",
   "metadata": {
    "execution": {
     "iopub.execute_input": "2021-10-25T08:20:53.862413Z",
     "iopub.status.busy": "2021-10-25T08:20:53.861808Z",
     "iopub.status.idle": "2021-10-25T08:20:53.868086Z",
     "shell.execute_reply": "2021-10-25T08:20:53.868428Z"
    }
   },
   "outputs": [
    {
     "data": {
      "image/svg+xml": [
       "<?xml version=\"1.0\" encoding=\"UTF-8\" standalone=\"no\"?><svg xmlns=\"http://www.w3.org/2000/svg\" xmlns:xlink=\"http://www.w3.org/1999/xlink\" contentScriptType=\"application/ecmascript\" contentStyleType=\"text/css\" height=\"12px\" preserveAspectRatio=\"none\" style=\"width:12px;height:12px;\" version=\"1.1\" viewBox=\"0 0 12 12\" width=\"12px\" zoomAndPan=\"magnify\"><defs/><g><!--MD5=[19d285c9d72a204eba4e2cd117d745e8]\n",
       "@startuml\r\n",
       "left to right direction\r\n",
       "skinparam monochrome true\r\n",
       "skinparam classbackgroundcolor white\r\n",
       "skinparam shadowing false\r\n",
       "skinparam wrapWidth 300\r\n",
       "hide circle\r\n",
       "\r\n",
       "@enduml\r\n",
       "\n",
       "PlantUML version 1.2020.13(Sat Jun 13 12:26:38 UTC 2020)\n",
       "(EPL source distribution)\n",
       "Java Runtime: OpenJDK Runtime Environment\n",
       "JVM: OpenJDK 64-Bit Server VM\n",
       "Default Encoding: UTF-8\n",
       "Language: en\n",
       "Country: null\n",
       "--></g></svg>"
      ]
     },
     "execution_count": 18,
     "metadata": {},
     "output_type": "execute_result"
    }
   ],
   "source": [
    "%viz --style=\"LR\" --view=\"State\" \"ItemTest\""
   ]
  },
  {
   "cell_type": "code",
   "execution_count": 19,
   "id": "11730d8d",
   "metadata": {
    "execution": {
     "iopub.execute_input": "2021-10-25T08:20:53.917792Z",
     "iopub.status.busy": "2021-10-25T08:20:53.917363Z",
     "iopub.status.idle": "2021-10-25T08:20:53.947799Z",
     "shell.execute_reply": "2021-10-25T08:20:53.947250Z"
    }
   },
   "outputs": [
    {
     "data": {
      "image/svg+xml": [
       "<?xml version=\"1.0\" encoding=\"UTF-8\" standalone=\"no\"?><svg xmlns=\"http://www.w3.org/2000/svg\" xmlns:xlink=\"http://www.w3.org/1999/xlink\" contentScriptType=\"application/ecmascript\" contentStyleType=\"text/css\" height=\"425px\" preserveAspectRatio=\"none\" style=\"width:146px;height:425px;\" version=\"1.1\" viewBox=\"0 0 146 425\" width=\"146px\" zoomAndPan=\"magnify\"><defs/><g><!--MD5=[fbc87193dbaf4d95561dea2c320d4a47]\n",
       "cluster E1--><a href=\"psysml:9c84b130-4496-45dd-acf0-f614adf4451b\" target=\"_top\" title=\"psysml:9c84b130-4496-45dd-acf0-f614adf4451b\" xlink:actuate=\"onRequest\" xlink:href=\"psysml:9c84b130-4496-45dd-acf0-f614adf4451b\" xlink:show=\"new\" xlink:title=\"psysml:9c84b130-4496-45dd-acf0-f614adf4451b\" xlink:type=\"simple\"><polygon fill=\"#FFFFFF\" points=\"16,6,83,6,90,28.2969,124,28.2969,124,413,16,413,16,6\" style=\"stroke: #000000; stroke-width: 1.5;\"/><line style=\"stroke: #000000; stroke-width: 1.5;\" x1=\"16\" x2=\"90\" y1=\"28.2969\" y2=\"28.2969\"/><text fill=\"#000000\" font-family=\"sans-serif\" font-size=\"14\" font-weight=\"bold\" lengthAdjust=\"spacingAndGlyphs\" textLength=\"61\" x=\"20\" y=\"20.9951\">ItemTest</text></a><g id=\"E1.E3\"><a href=\"psysml:b761bda6-ef45-4173-adbe-8f17f5dd59b9\" target=\"_top\" title=\"psysml:b761bda6-ef45-4173-adbe-8f17f5dd59b9\" xlink:actuate=\"onRequest\" xlink:href=\"psysml:b761bda6-ef45-4173-adbe-8f17f5dd59b9\" xlink:show=\"new\" xlink:title=\"psysml:b761bda6-ef45-4173-adbe-8f17f5dd59b9\" xlink:type=\"simple\"><rect fill=\"#FFFFFF\" height=\"42.9375\" id=\"E3\" style=\"stroke: #383838; stroke-width: 1.5;\" width=\"76\" x=\"32\" y=\"41.5\"/><rect fill=\"#F8F8F8\" height=\"37.9375\" style=\"stroke: #383838; stroke-width: 1.5;\" width=\"76\" x=\"32\" y=\"41.5\"/><text fill=\"#000000\" font-family=\"sans-serif\" font-size=\"12\" font-style=\"italic\" lengthAdjust=\"spacingAndGlyphs\" textLength=\"69\" x=\"35.5\" y=\"57.6387\">«item  def»</text><text fill=\"#000000\" font-family=\"sans-serif\" font-size=\"12\" lengthAdjust=\"spacingAndGlyphs\" textLength=\"8\" x=\"66\" y=\"71.6074\">A</text></a></g><g id=\"E1.E4\"><a href=\"psysml:154f7142-f3c2-4f8f-a55c-1d31f59952e7\" target=\"_top\" title=\"psysml:154f7142-f3c2-4f8f-a55c-1d31f59952e7\" xlink:actuate=\"onRequest\" xlink:href=\"psysml:154f7142-f3c2-4f8f-a55c-1d31f59952e7\" xlink:show=\"new\" xlink:title=\"psysml:154f7142-f3c2-4f8f-a55c-1d31f59952e7\" xlink:type=\"simple\"><rect fill=\"#FFFFFF\" height=\"42.9375\" id=\"E4\" style=\"stroke: #383838; stroke-width: 1.5;\" width=\"76\" x=\"32\" y=\"119.5\"/><rect fill=\"#F8F8F8\" height=\"37.9375\" style=\"stroke: #383838; stroke-width: 1.5;\" width=\"76\" x=\"32\" y=\"119.5\"/><text fill=\"#000000\" font-family=\"sans-serif\" font-size=\"12\" font-style=\"italic\" lengthAdjust=\"spacingAndGlyphs\" textLength=\"69\" x=\"35.5\" y=\"135.6387\">«item  def»</text><text fill=\"#000000\" font-family=\"sans-serif\" font-size=\"12\" font-style=\"italic\" lengthAdjust=\"spacingAndGlyphs\" textLength=\"8\" x=\"66\" y=\"149.6074\">B</text></a></g><g id=\"E1.E6\"><a href=\"psysml:505a0904-767f-4431-bdaf-f395e9a256c5\" target=\"_top\" title=\"psysml:505a0904-767f-4431-bdaf-f395e9a256c5\" xlink:actuate=\"onRequest\" xlink:href=\"psysml:505a0904-767f-4431-bdaf-f395e9a256c5\" xlink:show=\"new\" xlink:title=\"psysml:505a0904-767f-4431-bdaf-f395e9a256c5\" xlink:type=\"simple\"><rect fill=\"#FFFFFF\" height=\"42.9375\" id=\"E6\" style=\"stroke: #383838; stroke-width: 1.5;\" width=\"75\" x=\"32.5\" y=\"197.5\"/><rect fill=\"#F8F8F8\" height=\"37.9375\" style=\"stroke: #383838; stroke-width: 1.5;\" width=\"75\" x=\"32.5\" y=\"197.5\"/><text fill=\"#000000\" font-family=\"sans-serif\" font-size=\"12\" font-style=\"italic\" lengthAdjust=\"spacingAndGlyphs\" textLength=\"68\" x=\"36\" y=\"213.6387\">«port  def»</text><text fill=\"#000000\" font-family=\"sans-serif\" font-size=\"12\" lengthAdjust=\"spacingAndGlyphs\" textLength=\"8\" x=\"66\" y=\"227.6074\">P</text></a></g><g id=\"E1.E2\"><a href=\"psysml:046ce2e8-70d6-418b-9e34-4058f6a1e698\" target=\"_top\" title=\"psysml:046ce2e8-70d6-418b-9e34-4058f6a1e698\" xlink:actuate=\"onRequest\" xlink:href=\"psysml:046ce2e8-70d6-418b-9e34-4058f6a1e698\" xlink:show=\"new\" xlink:title=\"psysml:046ce2e8-70d6-418b-9e34-4058f6a1e698\" xlink:type=\"simple\"><rect fill=\"#FFFFFF\" height=\"42.9375\" id=\"E2\" rx=\"10\" ry=\"10\" style=\"stroke: #383838; stroke-width: 1.5;\" width=\"50\" x=\"45\" y=\"275.5\"/><rect fill=\"#F8F8F8\" height=\"37.9375\" rx=\"10\" ry=\"10\" style=\"stroke: #F8F8F8; stroke-width: 1.5;\" width=\"50\" x=\"45\" y=\"275.5\"/><rect fill=\"#F8F8F8\" height=\"10\" style=\"stroke: #F8F8F8; stroke-width: 1.5;\" width=\"50\" x=\"45\" y=\"303.4375\"/><rect fill=\"none\" height=\"42.9375\" id=\"E2\" rx=\"10\" ry=\"10\" style=\"stroke: #383838; stroke-width: 1.5;\" width=\"50\" x=\"45\" y=\"275.5\"/><text fill=\"#000000\" font-family=\"sans-serif\" font-size=\"12\" font-style=\"italic\" lengthAdjust=\"spacingAndGlyphs\" textLength=\"41\" x=\"49.5\" y=\"291.6387\">«item»</text><text fill=\"#000000\" font-family=\"sans-serif\" font-size=\"12\" lengthAdjust=\"spacingAndGlyphs\" textLength=\"20\" x=\"60\" y=\"305.6074\">f: A</text></a></g><g id=\"E1.E5\"><a href=\"psysml:a977dc12-1522-4e17-86ea-88834b4a9262\" target=\"_top\" title=\"psysml:a977dc12-1522-4e17-86ea-88834b4a9262\" xlink:actuate=\"onRequest\" xlink:href=\"psysml:a977dc12-1522-4e17-86ea-88834b4a9262\" xlink:show=\"new\" xlink:title=\"psysml:a977dc12-1522-4e17-86ea-88834b4a9262\" xlink:type=\"simple\"><rect fill=\"#FFFFFF\" height=\"42.9375\" id=\"E5\" style=\"stroke: #383838; stroke-width: 1.5;\" width=\"75\" x=\"32.5\" y=\"353.5\"/><rect fill=\"#F8F8F8\" height=\"37.9375\" style=\"stroke: #383838; stroke-width: 1.5;\" width=\"75\" x=\"32.5\" y=\"353.5\"/><text fill=\"#000000\" font-family=\"sans-serif\" font-size=\"12\" font-style=\"italic\" lengthAdjust=\"spacingAndGlyphs\" textLength=\"68\" x=\"36\" y=\"369.6387\">«part  def»</text><text fill=\"#000000\" font-family=\"sans-serif\" font-size=\"12\" lengthAdjust=\"spacingAndGlyphs\" textLength=\"8\" x=\"66\" y=\"383.6074\">C</text></a></g><!--MD5=[1089f5eb35e5086a2ae696f2d0febc9d]\n",
       "@startuml\r\n",
       "skinparam ranksep 10\r\n",
       "skinparam rectangle {\r\n",
       " backgroundColor<<block>> LightGreen\r\n",
       "}\r\n",
       "left to right direction\r\n",
       "skinparam monochrome true\r\n",
       "skinparam classbackgroundcolor white\r\n",
       "skinparam shadowing false\r\n",
       "skinparam wrapWidth 300\r\n",
       "hide circle\r\n",
       "\r\n",
       "package \"ItemTest\" as E1  [[psysml:9c84b130-4496-45dd-acf0-f614adf4451b ]]  {\r\n",
       "rec usage \"f: A\" as E2  <<(T,blue) item>> [[psysml:046ce2e8-70d6-418b-9e34-4058f6a1e698 ]] {\r\n",
       "}\r\n",
       "def \"A\" as E3  <<(T,blue) item  def>> [[psysml:b761bda6-ef45-4173-adbe-8f17f5dd59b9 ]] \r\n",
       "def \"<i>B</i>\" as E4  <<(T,blue) item  def>> [[psysml:154f7142-f3c2-4f8f-a55c-1d31f59952e7 ]] \r\n",
       "rec def \"C\" as E5  <<(T,blue) part  def>> [[psysml:a977dc12-1522-4e17-86ea-88834b4a9262 ]] {\r\n",
       "}\r\n",
       "def \"P\" as E6  <<(T,blue) port  def>> [[psysml:505a0904-767f-4431-bdaf-f395e9a256c5 ]] \r\n",
       "}\r\n",
       "@enduml\r\n",
       "\n",
       "PlantUML version 1.2020.13(Sat Jun 13 12:26:38 UTC 2020)\n",
       "(EPL source distribution)\n",
       "Java Runtime: OpenJDK Runtime Environment\n",
       "JVM: OpenJDK 64-Bit Server VM\n",
       "Default Encoding: UTF-8\n",
       "Language: en\n",
       "Country: null\n",
       "--></g></svg>"
      ]
     },
     "execution_count": 19,
     "metadata": {},
     "output_type": "execute_result"
    }
   ],
   "source": [
    "%viz --style=\"LR\" --view=\"Interconnection\" \"ItemTest\""
   ]
  },
  {
   "cell_type": "code",
   "execution_count": 20,
   "id": "e662a98b",
   "metadata": {
    "execution": {
     "iopub.execute_input": "2021-10-25T08:20:53.996309Z",
     "iopub.status.busy": "2021-10-25T08:20:53.995761Z",
     "iopub.status.idle": "2021-10-25T08:20:54.001708Z",
     "shell.execute_reply": "2021-10-25T08:20:54.002059Z"
    }
   },
   "outputs": [
    {
     "data": {
      "image/svg+xml": [
       "<?xml version=\"1.0\" encoding=\"UTF-8\" standalone=\"no\"?><svg xmlns=\"http://www.w3.org/2000/svg\" xmlns:xlink=\"http://www.w3.org/1999/xlink\" contentScriptType=\"application/ecmascript\" contentStyleType=\"text/css\" height=\"12px\" preserveAspectRatio=\"none\" style=\"width:12px;height:12px;\" version=\"1.1\" viewBox=\"0 0 12 12\" width=\"12px\" zoomAndPan=\"magnify\"><defs/><g><!--MD5=[7aeb398939421629f6affaa4a1a7b125]\n",
       "@startuml\r\n",
       "skinparam ranksep 8\r\n",
       "left to right direction\r\n",
       "skinparam monochrome true\r\n",
       "skinparam classbackgroundcolor white\r\n",
       "skinparam shadowing false\r\n",
       "skinparam wrapWidth 300\r\n",
       "hide circle\r\n",
       "\r\n",
       "@enduml\r\n",
       "\n",
       "PlantUML version 1.2020.13(Sat Jun 13 12:26:38 UTC 2020)\n",
       "(EPL source distribution)\n",
       "Java Runtime: OpenJDK Runtime Environment\n",
       "JVM: OpenJDK 64-Bit Server VM\n",
       "Default Encoding: UTF-8\n",
       "Language: en\n",
       "Country: null\n",
       "--></g></svg>"
      ]
     },
     "execution_count": 20,
     "metadata": {},
     "output_type": "execute_result"
    }
   ],
   "source": [
    "%viz --style=\"LR\" --view=\"Action\" \"ItemTest\""
   ]
  },
  {
   "cell_type": "code",
   "execution_count": 21,
   "id": "8216ea56",
   "metadata": {
    "execution": {
     "iopub.execute_input": "2021-10-25T08:20:54.051674Z",
     "iopub.status.busy": "2021-10-25T08:20:54.051208Z",
     "iopub.status.idle": "2021-10-25T08:20:54.057830Z",
     "shell.execute_reply": "2021-10-25T08:20:54.058180Z"
    }
   },
   "outputs": [
    {
     "data": {
      "image/svg+xml": [
       "<?xml version=\"1.0\" encoding=\"UTF-8\" standalone=\"no\"?><svg xmlns=\"http://www.w3.org/2000/svg\" xmlns:xlink=\"http://www.w3.org/1999/xlink\" contentScriptType=\"application/ecmascript\" contentStyleType=\"text/css\" height=\"12px\" preserveAspectRatio=\"none\" style=\"width:12px;height:12px;\" version=\"1.1\" viewBox=\"0 0 12 12\" width=\"12px\" zoomAndPan=\"magnify\"><defs/><g><!--MD5=[238c11ea2002f03115ad6b49a457d50e]\n",
       "@startuml\r\n",
       "skinparam roundcorner 20\r\n",
       "skinparam BoxPadding 20\r\n",
       "skinparam SequenceBoxBackgroundColor #white\r\n",
       "skinparam style strictuml\r\n",
       "skinparam maxMessageSize 100\r\n",
       "left to right direction\r\n",
       "skinparam monochrome true\r\n",
       "skinparam classbackgroundcolor white\r\n",
       "skinparam shadowing false\r\n",
       "skinparam wrapWidth 300\r\n",
       "hide circle\r\n",
       "\r\n",
       "@enduml\r\n",
       "\n",
       "PlantUML version 1.2020.13(Sat Jun 13 12:26:38 UTC 2020)\n",
       "(EPL source distribution)\n",
       "Java Runtime: OpenJDK Runtime Environment\n",
       "JVM: OpenJDK 64-Bit Server VM\n",
       "Default Encoding: UTF-8\n",
       "Language: en\n",
       "Country: null\n",
       "--></g></svg>"
      ]
     },
     "execution_count": 21,
     "metadata": {},
     "output_type": "execute_result"
    }
   ],
   "source": [
    "%viz --style=\"LR\" --view=\"Sequence\" \"ItemTest\""
   ]
  },
  {
   "cell_type": "code",
   "execution_count": 22,
   "id": "b146c92c",
   "metadata": {
    "execution": {
     "iopub.execute_input": "2021-10-25T08:20:54.107764Z",
     "iopub.status.busy": "2021-10-25T08:20:54.107290Z",
     "iopub.status.idle": "2021-10-25T08:20:54.175845Z",
     "shell.execute_reply": "2021-10-25T08:20:54.174738Z"
    }
   },
   "outputs": [
    {
     "data": {
      "image/svg+xml": [
       "<?xml version=\"1.0\" encoding=\"UTF-8\" standalone=\"no\"?><svg xmlns=\"http://www.w3.org/2000/svg\" xmlns:xlink=\"http://www.w3.org/1999/xlink\" contentScriptType=\"application/ecmascript\" contentStyleType=\"text/css\" height=\"363px\" preserveAspectRatio=\"none\" style=\"width:900px;height:363px;\" version=\"1.1\" viewBox=\"0 0 900 363\" width=\"900px\" zoomAndPan=\"magnify\"><defs/><g><!--MD5=[fbc87193dbaf4d95561dea2c320d4a47]\n",
       "cluster E1--><a href=\"psysml:9c84b130-4496-45dd-acf0-f614adf4451b\" target=\"_top\" title=\"psysml:9c84b130-4496-45dd-acf0-f614adf4451b\" xlink:actuate=\"onRequest\" xlink:href=\"psysml:9c84b130-4496-45dd-acf0-f614adf4451b\" xlink:show=\"new\" xlink:title=\"psysml:9c84b130-4496-45dd-acf0-f614adf4451b\" xlink:type=\"simple\"><polygon fill=\"#FFFFFF\" points=\"16,6,83,6,90,28.2969,878,28.2969,878,351,16,351,16,6\" style=\"stroke: #000000; stroke-width: 1.5;\"/><line style=\"stroke: #000000; stroke-width: 1.5;\" x1=\"16\" x2=\"90\" y1=\"28.2969\" y2=\"28.2969\"/><text fill=\"#000000\" font-family=\"sans-serif\" font-size=\"14\" font-weight=\"bold\" lengthAdjust=\"spacingAndGlyphs\" textLength=\"61\" x=\"20\" y=\"20.9951\">ItemTest</text></a><!--MD5=[b4997ac47864f28c2f74865a473b2911]\n",
       "class E2--><a href=\"psysml:046ce2e8-70d6-418b-9e34-4058f6a1e698\" target=\"_top\" title=\"psysml:046ce2e8-70d6-418b-9e34-4058f6a1e698\" xlink:actuate=\"onRequest\" xlink:href=\"psysml:046ce2e8-70d6-418b-9e34-4058f6a1e698\" xlink:show=\"new\" xlink:title=\"psysml:046ce2e8-70d6-418b-9e34-4058f6a1e698\" xlink:type=\"simple\"><rect fill=\"#FFFFFF\" height=\"45.9375\" id=\"E2\" rx=\"10\" ry=\"10\" style=\"stroke: #383838; stroke-width: 1.5;\" width=\"43\" x=\"163\" y=\"72\"/><text fill=\"#000000\" font-family=\"sans-serif\" font-size=\"12\" font-style=\"italic\" lengthAdjust=\"spacingAndGlyphs\" textLength=\"41\" x=\"164\" y=\"88.1387\">«item»</text><text fill=\"#000000\" font-family=\"sans-serif\" font-size=\"12\" lengthAdjust=\"spacingAndGlyphs\" textLength=\"20\" x=\"172.5\" y=\"102.1074\">f: A</text><line style=\"stroke: #383838; stroke-width: 1.5;\" x1=\"164\" x2=\"205\" y1=\"109.9375\" y2=\"109.9375\"/></a><!--MD5=[09b614a08d8cba4a07c9adeb5e0fee81]\n",
       "class E3--><a href=\"psysml:b761bda6-ef45-4173-adbe-8f17f5dd59b9\" target=\"_top\" title=\"psysml:b761bda6-ef45-4173-adbe-8f17f5dd59b9\" xlink:actuate=\"onRequest\" xlink:href=\"psysml:b761bda6-ef45-4173-adbe-8f17f5dd59b9\" xlink:show=\"new\" xlink:title=\"psysml:b761bda6-ef45-4173-adbe-8f17f5dd59b9\" xlink:type=\"simple\"><rect fill=\"#FFFFFF\" height=\"45.9375\" id=\"E3\" style=\"stroke: #383838; stroke-width: 1.5;\" width=\"71\" x=\"267\" y=\"153\"/><text fill=\"#000000\" font-family=\"sans-serif\" font-size=\"12\" font-style=\"italic\" lengthAdjust=\"spacingAndGlyphs\" textLength=\"69\" x=\"268\" y=\"169.1387\">«item  def»</text><text fill=\"#000000\" font-family=\"sans-serif\" font-size=\"12\" lengthAdjust=\"spacingAndGlyphs\" textLength=\"8\" x=\"298.5\" y=\"183.1074\">A</text><line style=\"stroke: #383838; stroke-width: 1.5;\" x1=\"268\" x2=\"337\" y1=\"190.9375\" y2=\"190.9375\"/></a><!--MD5=[ebbe1d658d1005bcc118a6aa81145e00]\n",
       "class E4--><a href=\"psysml:5a9b7c1e-d921-40a5-84d4-dcafad1b8599\" target=\"_top\" title=\"psysml:5a9b7c1e-d921-40a5-84d4-dcafad1b8599\" xlink:actuate=\"onRequest\" xlink:href=\"psysml:5a9b7c1e-d921-40a5-84d4-dcafad1b8599\" xlink:show=\"new\" xlink:title=\"psysml:5a9b7c1e-d921-40a5-84d4-dcafad1b8599\" xlink:type=\"simple\"><rect fill=\"#FFFFFF\" height=\"45.9375\" id=\"E4\" rx=\"10\" ry=\"10\" style=\"stroke: #383838; stroke-width: 1.5;\" width=\"43\" x=\"471\" y=\"51\"/><text fill=\"#000000\" font-family=\"sans-serif\" font-size=\"12\" font-style=\"italic\" lengthAdjust=\"spacingAndGlyphs\" textLength=\"41\" x=\"472\" y=\"67.1387\">«item»</text><text fill=\"#000000\" font-family=\"sans-serif\" font-size=\"12\" lengthAdjust=\"spacingAndGlyphs\" textLength=\"24\" x=\"478.5\" y=\"81.1074\">b: B</text><line style=\"stroke: #383838; stroke-width: 1.5;\" x1=\"472\" x2=\"513\" y1=\"88.9375\" y2=\"88.9375\"/></a><!--MD5=[270fce915f116d4de14055a7c1d9a0f3]\n",
       "class E5--><a href=\"psysml:c52e7c62-32ae-43e1-a51e-2d7f86512260\" target=\"_top\" title=\"psysml:c52e7c62-32ae-43e1-a51e-2d7f86512260\" xlink:actuate=\"onRequest\" xlink:href=\"psysml:c52e7c62-32ae-43e1-a51e-2d7f86512260\" xlink:show=\"new\" xlink:title=\"psysml:c52e7c62-32ae-43e1-a51e-2d7f86512260\" xlink:type=\"simple\"><rect fill=\"#FFFFFF\" height=\"45.9375\" id=\"E5\" rx=\"10\" ry=\"10\" style=\"stroke: #383838; stroke-width: 1.5;\" width=\"42\" x=\"399\" y=\"78\"/><text fill=\"#000000\" font-family=\"sans-serif\" font-size=\"12\" font-style=\"italic\" lengthAdjust=\"spacingAndGlyphs\" textLength=\"40\" x=\"400\" y=\"94.1387\">«part»</text><text fill=\"#000000\" font-family=\"sans-serif\" font-size=\"12\" lengthAdjust=\"spacingAndGlyphs\" textLength=\"23\" x=\"406.5\" y=\"108.1074\">c: C</text><line style=\"stroke: #383838; stroke-width: 1.5;\" x1=\"400\" x2=\"440\" y1=\"115.9375\" y2=\"115.9375\"/></a><!--MD5=[60a26617385b1d2d0262a64233df1f8d]\n",
       "class E6--><a href=\"psysml:154f7142-f3c2-4f8f-a55c-1d31f59952e7\" target=\"_top\" title=\"psysml:154f7142-f3c2-4f8f-a55c-1d31f59952e7\" xlink:actuate=\"onRequest\" xlink:href=\"psysml:154f7142-f3c2-4f8f-a55c-1d31f59952e7\" xlink:show=\"new\" xlink:title=\"psysml:154f7142-f3c2-4f8f-a55c-1d31f59952e7\" xlink:type=\"simple\"><rect fill=\"#FFFFFF\" height=\"45.9375\" id=\"E6\" style=\"stroke: #383838; stroke-width: 1.5;\" width=\"71\" x=\"688\" y=\"157\"/><text fill=\"#000000\" font-family=\"sans-serif\" font-size=\"12\" font-style=\"italic\" lengthAdjust=\"spacingAndGlyphs\" textLength=\"69\" x=\"689\" y=\"173.1387\">«item  def»</text><text fill=\"#000000\" font-family=\"sans-serif\" font-size=\"12\" font-style=\"italic\" lengthAdjust=\"spacingAndGlyphs\" textLength=\"8\" x=\"719.5\" y=\"187.1074\">B</text><line style=\"stroke: #383838; stroke-width: 1.5;\" x1=\"689\" x2=\"758\" y1=\"194.9375\" y2=\"194.9375\"/></a><!--MD5=[2156ba9850f5573cc1fc38a6a4b2f02b]\n",
       "class E7--><a href=\"psysml:3092a58e-bc17-492e-b3ac-d9b0c5d27ee1\" target=\"_top\" title=\"psysml:3092a58e-bc17-492e-b3ac-d9b0c5d27ee1\" xlink:actuate=\"onRequest\" xlink:href=\"psysml:3092a58e-bc17-492e-b3ac-d9b0c5d27ee1\" xlink:show=\"new\" xlink:title=\"psysml:3092a58e-bc17-492e-b3ac-d9b0c5d27ee1\" xlink:type=\"simple\"><rect fill=\"#FFFFFF\" height=\"45.9375\" id=\"E7\" rx=\"10\" ry=\"10\" style=\"stroke: #383838; stroke-width: 1.5;\" width=\"42\" x=\"820\" y=\"223\"/><text fill=\"#000000\" font-family=\"sans-serif\" font-size=\"12\" font-style=\"italic\" lengthAdjust=\"spacingAndGlyphs\" textLength=\"40\" x=\"821\" y=\"239.1387\">«part»</text><text fill=\"#000000\" font-family=\"sans-serif\" font-size=\"12\" font-style=\"italic\" lengthAdjust=\"spacingAndGlyphs\" textLength=\"8\" x=\"827\" y=\"253.1074\">a</text><text fill=\"#000000\" font-family=\"sans-serif\" font-size=\"12\" lengthAdjust=\"spacingAndGlyphs\" textLength=\"16\" x=\"835\" y=\"253.1074\">: A</text><line style=\"stroke: #383838; stroke-width: 1.5;\" x1=\"821\" x2=\"861\" y1=\"260.9375\" y2=\"260.9375\"/></a><!--MD5=[b9389687b975829384b498ac4b7476b2]\n",
       "class E8--><a href=\"psysml:a977dc12-1522-4e17-86ea-88834b4a9262\" target=\"_top\" title=\"psysml:a977dc12-1522-4e17-86ea-88834b4a9262\" xlink:actuate=\"onRequest\" xlink:href=\"psysml:a977dc12-1522-4e17-86ea-88834b4a9262\" xlink:show=\"new\" xlink:title=\"psysml:a977dc12-1522-4e17-86ea-88834b4a9262\" xlink:type=\"simple\"><rect fill=\"#FFFFFF\" height=\"75.5469\" id=\"E8\" style=\"stroke: #383838; stroke-width: 1.5;\" width=\"75\" x=\"544\" y=\"138\"/><text fill=\"#000000\" font-family=\"sans-serif\" font-size=\"12\" font-style=\"italic\" lengthAdjust=\"spacingAndGlyphs\" textLength=\"68\" x=\"547.5\" y=\"154.1387\">«part  def»</text><text fill=\"#000000\" font-family=\"sans-serif\" font-size=\"12\" lengthAdjust=\"spacingAndGlyphs\" textLength=\"8\" x=\"577.5\" y=\"168.1074\">C</text><line style=\"stroke: #383838; stroke-width: 1.5;\" x1=\"545\" x2=\"618\" y1=\"175.9375\" y2=\"175.9375\"/><text fill=\"#000000\" font-family=\"sans-serif\" font-size=\"11\" font-weight=\"bold\" lengthAdjust=\"spacingAndGlyphs\" textLength=\"10\" x=\"550\" y=\"206.9526\">in</text><text fill=\"#000000\" font-family=\"sans-serif\" font-size=\"11\" lengthAdjust=\"spacingAndGlyphs\" textLength=\"37\" x=\"564\" y=\"206.9526\">y: A, B</text><line style=\"stroke: #383838; stroke-width: 1.0;\" x1=\"545\" x2=\"548\" y1=\"190.3398\" y2=\"190.3398\"/><text fill=\"#000000\" font-family=\"sans-serif\" font-size=\"11\" lengthAdjust=\"spacingAndGlyphs\" textLength=\"67\" x=\"548\" y=\"193.6479\">parameters</text><line style=\"stroke: #383838; stroke-width: 1.0;\" x1=\"615\" x2=\"618\" y1=\"190.3398\" y2=\"190.3398\"/></a><!--MD5=[fd4143e9d270a159db93a4ea2a975926]\n",
       "class E9--><a href=\"psysml:505a0904-767f-4431-bdaf-f395e9a256c5\" target=\"_top\" title=\"psysml:505a0904-767f-4431-bdaf-f395e9a256c5\" xlink:actuate=\"onRequest\" xlink:href=\"psysml:505a0904-767f-4431-bdaf-f395e9a256c5\" xlink:show=\"new\" xlink:title=\"psysml:505a0904-767f-4431-bdaf-f395e9a256c5\" xlink:type=\"simple\"><rect fill=\"#FFFFFF\" height=\"45.9375\" id=\"E9\" style=\"stroke: #383838; stroke-width: 1.5;\" width=\"70\" x=\"32\" y=\"194\"/><text fill=\"#000000\" font-family=\"sans-serif\" font-size=\"12\" font-style=\"italic\" lengthAdjust=\"spacingAndGlyphs\" textLength=\"68\" x=\"33\" y=\"210.1387\">«port  def»</text><text fill=\"#000000\" font-family=\"sans-serif\" font-size=\"12\" lengthAdjust=\"spacingAndGlyphs\" textLength=\"8\" x=\"63\" y=\"224.1074\">P</text><line style=\"stroke: #383838; stroke-width: 1.5;\" x1=\"33\" x2=\"101\" y1=\"231.9375\" y2=\"231.9375\"/></a><!--MD5=[96f4274e9e20536e775497830990834d]\n",
       "class E10--><a href=\"psysml:b48ee9ab-0a15-45ce-8465-86ae83c4be7f\" target=\"_top\" title=\"psysml:b48ee9ab-0a15-45ce-8465-86ae83c4be7f\" xlink:actuate=\"onRequest\" xlink:href=\"psysml:b48ee9ab-0a15-45ce-8465-86ae83c4be7f\" xlink:show=\"new\" xlink:title=\"psysml:b48ee9ab-0a15-45ce-8465-86ae83c4be7f\" xlink:type=\"simple\"><rect fill=\"#FFFFFF\" height=\"45.9375\" id=\"E10\" rx=\"10\" ry=\"10\" style=\"stroke: #383838; stroke-width: 1.5;\" width=\"43\" x=\"163\" y=\"234\"/><text fill=\"#000000\" font-family=\"sans-serif\" font-size=\"12\" font-style=\"italic\" lengthAdjust=\"spacingAndGlyphs\" textLength=\"41\" x=\"164\" y=\"250.1387\">«item»</text><text fill=\"#000000\" font-family=\"sans-serif\" font-size=\"12\" lengthAdjust=\"spacingAndGlyphs\" textLength=\"32\" x=\"166.5\" y=\"264.1074\">a1: A</text><line style=\"stroke: #383838; stroke-width: 1.5;\" x1=\"164\" x2=\"205\" y1=\"271.9375\" y2=\"271.9375\"/></a><!--MD5=[1dd1bfd58a279cf63c5f349dbc8fc6a1]\n",
       "class E11--><a href=\"psysml:7b14a527-4e8d-41df-a91b-3ca9db44b1d9\" target=\"_top\" title=\"psysml:7b14a527-4e8d-41df-a91b-3ca9db44b1d9\" xlink:actuate=\"onRequest\" xlink:href=\"psysml:7b14a527-4e8d-41df-a91b-3ca9db44b1d9\" xlink:show=\"new\" xlink:title=\"psysml:7b14a527-4e8d-41df-a91b-3ca9db44b1d9\" xlink:type=\"simple\"><rect fill=\"#FFFFFF\" height=\"45.9375\" id=\"E11\" rx=\"10\" ry=\"10\" style=\"stroke: #383838; stroke-width: 1.5;\" width=\"43\" x=\"163\" y=\"153\"/><text fill=\"#000000\" font-family=\"sans-serif\" font-size=\"12\" font-style=\"italic\" lengthAdjust=\"spacingAndGlyphs\" textLength=\"41\" x=\"164\" y=\"169.1387\">«item»</text><text fill=\"#000000\" font-family=\"sans-serif\" font-size=\"12\" lengthAdjust=\"spacingAndGlyphs\" textLength=\"32\" x=\"166.5\" y=\"183.1074\">a2: A</text><line style=\"stroke: #383838; stroke-width: 1.5;\" x1=\"164\" x2=\"205\" y1=\"190.9375\" y2=\"190.9375\"/></a><!--MD5=[2720a5a1f2c3fca2055b230370638851]\n",
       "link E2 to E3--><a href=\"psysml:2913aa14-34e4-4ebc-b3c0-73cbbe37a712\" target=\"_top\" title=\"psysml:2913aa14-34e4-4ebc-b3c0-73cbbe37a712\" xlink:actuate=\"onRequest\" xlink:href=\"psysml:2913aa14-34e4-4ebc-b3c0-73cbbe37a712\" xlink:show=\"new\" xlink:title=\"psysml:2913aa14-34e4-4ebc-b3c0-73cbbe37a712\" xlink:type=\"simple\"><path d=\"M206.24,109.48 C218.94,118.35 235.78,130.11 251.76,141.27 \" fill=\"none\" id=\"E2-&gt;E3\" style=\"stroke: #383838; stroke-width: 1.0;\"/><polygon fill=\"#FFFFFF\" points=\"268.21,152.75,248.6276,147.5992,256.6501,136.1257,268.21,152.75\" style=\"stroke: #383838; stroke-width: 1.0;\"/><ellipse cx=\"245.1024\" cy=\"142.6938\" fill=\"#383838\" rx=\"2\" ry=\"2\" style=\"stroke: #383838; stroke-width: 1.0;\"/><ellipse cx=\"250.8327\" cy=\"134.4985\" fill=\"#383838\" rx=\"2\" ry=\"2\" style=\"stroke: #383838; stroke-width: 1.0;\"/></a><!--MD5=[4672eba38e49728da53d11aeb285b987]\n",
       "reverse link E3 to E4--><a href=\"psysml:5a70b25d-3e65-48fe-9200-ece04e9de0ee\" target=\"_top\" title=\"psysml:5a70b25d-3e65-48fe-9200-ece04e9de0ee\" xlink:actuate=\"onRequest\" xlink:href=\"psysml:5a70b25d-3e65-48fe-9200-ece04e9de0ee\" xlink:show=\"new\" xlink:title=\"psysml:5a70b25d-3e65-48fe-9200-ece04e9de0ee\" xlink:type=\"simple\"><path d=\"M320.92,141.3 C336.97,113.57 363.66,76.68 399,60 C421.91,49.18 451.25,56.75 470.67,64.31 \" fill=\"none\" id=\"E3&lt;-E4\" style=\"stroke: #383838; stroke-width: 1.0;\"/><polygon fill=\"#383838\" points=\"314.49,152.91,320.8917,149.5905,320.2897,142.4046,313.8881,145.7241,314.49,152.91\" style=\"stroke: #383838; stroke-width: 1.0;\"/><text fill=\"#000000\" font-family=\"sans-serif\" font-size=\"13\" lengthAdjust=\"spacingAndGlyphs\" textLength=\"8\" x=\"455.0824\" y=\"75.7623\">1</text></a><!--MD5=[191cde3d490a3f6d7bb551fe3ddca469]\n",
       "reverse link E3 to E5--><a href=\"psysml:98aba136-2768-4c7e-bc34-95a5a6a911cd\" target=\"_top\" title=\"psysml:98aba136-2768-4c7e-bc34-95a5a6a911cd\" xlink:actuate=\"onRequest\" xlink:href=\"psysml:98aba136-2768-4c7e-bc34-95a5a6a911cd\" xlink:show=\"new\" xlink:title=\"psysml:98aba136-2768-4c7e-bc34-95a5a6a911cd\" xlink:type=\"simple\"><path d=\"M349.18,146.34 C366.39,135.16 385.1,123.01 398.81,114.11 \" fill=\"none\" id=\"E3&lt;-E5\" style=\"stroke: #383838; stroke-width: 1.0;\"/><polygon fill=\"#FFFFFF\" points=\"338.15,153.5,345.3605,153.5902,348.217,146.969,341.0065,146.8788,338.15,153.5\" style=\"stroke: #383838; stroke-width: 1.0;\"/><text fill=\"#000000\" font-family=\"sans-serif\" font-size=\"13\" lengthAdjust=\"spacingAndGlyphs\" textLength=\"8\" x=\"383.0956\" y=\"132.5186\">1</text></a><!--MD5=[79568f1e445c3877b6a54524624ccc7d]\n",
       "link E4 to E6--><a href=\"psysml:04be4dec-9fb2-423c-a400-1c82afc162c3\" target=\"_top\" title=\"psysml:04be4dec-9fb2-423c-a400-1c82afc162c3\" xlink:actuate=\"onRequest\" xlink:href=\"psysml:04be4dec-9fb2-423c-a400-1c82afc162c3\" xlink:show=\"new\" xlink:title=\"psysml:04be4dec-9fb2-423c-a400-1c82afc162c3\" xlink:type=\"simple\"><path d=\"M514.38,80.42 C539.66,88.46 583.28,103.26 619,120 C636.22,128.07 654.36,138.04 670.55,147.52 \" fill=\"none\" id=\"E4-&gt;E6\" style=\"stroke: #383838; stroke-width: 1.0;\"/><polygon fill=\"#FFFFFF\" points=\"687.87,157.89,667.9748,154.1243,675.1733,142.1168,687.87,157.89\" style=\"stroke: #383838; stroke-width: 1.0;\"/><ellipse cx=\"664.1144\" cy=\"149.4781\" fill=\"#383838\" rx=\"2\" ry=\"2\" style=\"stroke: #383838; stroke-width: 1.0;\"/><ellipse cx=\"669.2562\" cy=\"140.9013\" fill=\"#383838\" rx=\"2\" ry=\"2\" style=\"stroke: #383838; stroke-width: 1.0;\"/></a><!--MD5=[3f50a3473f1dfb74d3f76443e03635af]\n",
       "reverse link E6 to E7--><a href=\"psysml:88a05b08-39fe-46e7-8c9b-5df9e56fb426\" target=\"_top\" title=\"psysml:88a05b08-39fe-46e7-8c9b-5df9e56fb426\" xlink:actuate=\"onRequest\" xlink:href=\"psysml:88a05b08-39fe-46e7-8c9b-5df9e56fb426\" xlink:show=\"new\" xlink:title=\"psysml:88a05b08-39fe-46e7-8c9b-5df9e56fb426\" xlink:type=\"simple\"><path d=\"M770.67,206.38 C787.75,216.14 806.23,226.7 819.81,234.46 \" fill=\"none\" id=\"E6&lt;-E7\" style=\"stroke: #383838; stroke-width: 1.0;\"/><polygon fill=\"#383838\" points=\"759.15,199.8,762.3714,206.2516,769.5657,205.7593,766.3443,199.3078,759.15,199.8\" style=\"stroke: #383838; stroke-width: 1.0;\"/><text fill=\"#000000\" font-family=\"sans-serif\" font-size=\"13\" lengthAdjust=\"spacingAndGlyphs\" textLength=\"8\" x=\"804.0956\" y=\"245.3196\">1</text></a><!--MD5=[14ccda38c055a5c0da953d572bc50960]\n",
       "link E7 to E3--><a href=\"psysml:de23f89f-df32-45d9-b344-47d8d19c4edc\" target=\"_top\" title=\"psysml:de23f89f-df32-45d9-b344-47d8d19c4edc\" xlink:actuate=\"onRequest\" xlink:href=\"psysml:de23f89f-df32-45d9-b344-47d8d19c4edc\" xlink:show=\"new\" xlink:title=\"psysml:de23f89f-df32-45d9-b344-47d8d19c4edc\" xlink:type=\"simple\"><path d=\"M824.16,269.12 C804.23,295.19 767.36,334 724.5,334 C419,334 419,334 419,334 C361.71,334 329.78,265.46 314.66,218.66 \" fill=\"none\" id=\"E7-&gt;E3\" style=\"stroke: #383838; stroke-width: 1.0;\"/><polygon fill=\"#FFFFFF\" points=\"308.94,199.31,321.0423,215.5438,307.6174,219.5152,308.94,199.31\" style=\"stroke: #383838; stroke-width: 1.0;\"/><ellipse cx=\"320.7414\" cy=\"221.577\" fill=\"#383838\" rx=\"2\" ry=\"2\" style=\"stroke: #383838; stroke-width: 1.0;\"/><ellipse cx=\"311.1522\" cy=\"224.4137\" fill=\"#383838\" rx=\"2\" ry=\"2\" style=\"stroke: #383838; stroke-width: 1.0;\"/></a><!--MD5=[dfaffb906826c3e5aca635516100ff21]\n",
       "link E5 to E8--><a href=\"psysml:feaf6c57-7b20-4701-8323-0c325a1238bf\" target=\"_top\" title=\"psysml:feaf6c57-7b20-4701-8323-0c325a1238bf\" xlink:actuate=\"onRequest\" xlink:href=\"psysml:feaf6c57-7b20-4701-8323-0c325a1238bf\" xlink:show=\"new\" xlink:title=\"psysml:feaf6c57-7b20-4701-8323-0c325a1238bf\" xlink:type=\"simple\"><path d=\"M441.2,110.5 C462.31,120.43 496.36,136.43 525.5,150.14 \" fill=\"none\" id=\"E5-&gt;E8\" style=\"stroke: #383838; stroke-width: 1.0;\"/><polygon fill=\"#FFFFFF\" points=\"543.77,158.73,523.5965,156.9897,529.5475,144.3175,543.77,158.73\" style=\"stroke: #383838; stroke-width: 1.0;\"/><ellipse cx=\"519.2872\" cy=\"152.7565\" fill=\"#383838\" rx=\"2\" ry=\"2\" style=\"stroke: #383838; stroke-width: 1.0;\"/><ellipse cx=\"523.538\" cy=\"143.7049\" fill=\"#383838\" rx=\"2\" ry=\"2\" style=\"stroke: #383838; stroke-width: 1.0;\"/></a><!--MD5=[03c8294790d3c57651a1993cecff665f]\n",
       "reverse link E8 to E3--><a href=\"psysml:f63e9e98-9395-484c-b7ba-710e403c3592\" target=\"_top\" title=\"psysml:f63e9e98-9395-484c-b7ba-710e403c3592\" xlink:actuate=\"onRequest\" xlink:href=\"psysml:f63e9e98-9395-484c-b7ba-710e403c3592\" xlink:show=\"new\" xlink:title=\"psysml:f63e9e98-9395-484c-b7ba-710e403c3592\" xlink:type=\"simple\"><path d=\"M532.65,208.23 C496.23,228.74 444.75,249.18 399,236 C373.98,228.79 349.18,212.88 331.12,199.25 \" fill=\"none\" id=\"E8&lt;-E3\" style=\"stroke: #383838; stroke-width: 1.0;\"/><polygon fill=\"#FFFFFF\" points=\"543.91,201.61,536.7106,201.1992,533.5624,207.6868,540.7618,208.0976,543.91,201.61\" style=\"stroke: #383838; stroke-width: 1.0;\"/><text fill=\"#000000\" font-family=\"sans-serif\" font-size=\"13\" lengthAdjust=\"spacingAndGlyphs\" textLength=\"7\" x=\"416.5\" y=\"232.0669\">y</text></a><!--MD5=[03c8294790d3c57651a1993cecff665f]\n",
       "reverse link E8 to E3--><a href=\"psysml:f63e9e98-9395-484c-b7ba-710e403c3592\" target=\"_top\" title=\"psysml:f63e9e98-9395-484c-b7ba-710e403c3592\" xlink:actuate=\"onRequest\" xlink:href=\"psysml:f63e9e98-9395-484c-b7ba-710e403c3592\" xlink:show=\"new\" xlink:title=\"psysml:f63e9e98-9395-484c-b7ba-710e403c3592\" xlink:type=\"simple\"><path d=\"M530.73,176 C475.12,176 386.52,176 338.02,176 \" fill=\"none\" id=\"E8&lt;-E3-1\" style=\"stroke: #383838; stroke-width: 1.0;\"/><polygon fill=\"#FFFFFF\" points=\"543.78,176,537.78,172,531.78,176,537.78,180,543.78,176\" style=\"stroke: #383838; stroke-width: 1.0;\"/><text fill=\"#000000\" font-family=\"sans-serif\" font-size=\"13\" lengthAdjust=\"spacingAndGlyphs\" textLength=\"7\" x=\"416.5\" y=\"172.0669\">y</text></a><!--MD5=[0d75d2178373a6a4568e5dc728f58aef]\n",
       "reverse link E8 to E6--><a href=\"psysml:f63e9e98-9395-484c-b7ba-710e403c3592\" target=\"_top\" title=\"psysml:f63e9e98-9395-484c-b7ba-710e403c3592\" xlink:actuate=\"onRequest\" xlink:href=\"psysml:f63e9e98-9395-484c-b7ba-710e403c3592\" xlink:show=\"new\" xlink:title=\"psysml:f63e9e98-9395-484c-b7ba-710e403c3592\" xlink:type=\"simple\"><path d=\"M631.01,204.87 C636.91,207.37 642.98,209.51 649,211 C663.25,214.52 678.3,209.81 691.05,203.08 \" fill=\"none\" id=\"E8&lt;-E6\" style=\"stroke: #383838; stroke-width: 1.0;\"/><polygon fill=\"#FFFFFF\" points=\"619.21,199.33,622.9404,205.5012,630.0717,204.4313,626.3413,198.2601,619.21,199.33\" style=\"stroke: #383838; stroke-width: 1.0;\"/><text fill=\"#000000\" font-family=\"sans-serif\" font-size=\"13\" lengthAdjust=\"spacingAndGlyphs\" textLength=\"7\" x=\"650\" y=\"207.0669\">y</text></a><!--MD5=[0d75d2178373a6a4568e5dc728f58aef]\n",
       "reverse link E8 to E6--><a href=\"psysml:f63e9e98-9395-484c-b7ba-710e403c3592\" target=\"_top\" title=\"psysml:f63e9e98-9395-484c-b7ba-710e403c3592\" xlink:actuate=\"onRequest\" xlink:href=\"psysml:f63e9e98-9395-484c-b7ba-710e403c3592\" xlink:show=\"new\" xlink:title=\"psysml:f63e9e98-9395-484c-b7ba-710e403c3592\" xlink:type=\"simple\"><path d=\"M632.51,177.43 C650.85,177.95 671.19,178.53 687.89,179.01 \" fill=\"none\" id=\"E8&lt;-E6-1\" style=\"stroke: #383838; stroke-width: 1.0;\"/><polygon fill=\"#FFFFFF\" points=\"619.28,177.05,625.1633,181.2197,631.2751,177.3927,625.3918,173.223,619.28,177.05\" style=\"stroke: #383838; stroke-width: 1.0;\"/><text fill=\"#000000\" font-family=\"sans-serif\" font-size=\"13\" lengthAdjust=\"spacingAndGlyphs\" textLength=\"7\" x=\"650\" y=\"174.0669\">y</text></a><!--MD5=[23ac544a70576c3e717098101004234c]\n",
       "reverse link E9 to E10--><a href=\"psysml:f7fd9ae3-3fa5-48e2-b146-bf2078e3bf75\" target=\"_top\" title=\"psysml:f7fd9ae3-3fa5-48e2-b146-bf2078e3bf75\" xlink:actuate=\"onRequest\" xlink:href=\"psysml:f7fd9ae3-3fa5-48e2-b146-bf2078e3bf75\" xlink:show=\"new\" xlink:title=\"psysml:f7fd9ae3-3fa5-48e2-b146-bf2078e3bf75\" xlink:type=\"simple\"><path d=\"M114.48,233.1 C131.24,238.9 149.31,245.16 162.75,249.81 \" fill=\"none\" id=\"E9&lt;-E10\" style=\"stroke: #383838; stroke-width: 1.0;\"/><polygon fill=\"#FFFFFF\" points=\"102.03,228.78,106.3896,234.524,113.3686,232.7089,109.0089,226.9649,102.03,228.78\" style=\"stroke: #383838; stroke-width: 1.0;\"/><text fill=\"#000000\" font-family=\"sans-serif\" font-size=\"13\" lengthAdjust=\"spacingAndGlyphs\" textLength=\"8\" x=\"146.8641\" y=\"262.0017\">1</text></a><!--MD5=[feeac5eb423634930294aa81f2d25a4c]\n",
       "link E10 to E3--><a href=\"psysml:09a722a7-3c7d-4d30-9bcf-d6d93c165304\" target=\"_top\" title=\"psysml:09a722a7-3c7d-4d30-9bcf-d6d93c165304\" xlink:actuate=\"onRequest\" xlink:href=\"psysml:09a722a7-3c7d-4d30-9bcf-d6d93c165304\" xlink:show=\"new\" xlink:title=\"psysml:09a722a7-3c7d-4d30-9bcf-d6d93c165304\" xlink:type=\"simple\"><path d=\"M206.24,242.52 C218.94,233.65 235.78,221.89 251.76,210.73 \" fill=\"none\" id=\"E10-&gt;E3\" style=\"stroke: #383838; stroke-width: 1.0;\"/><polygon fill=\"#FFFFFF\" points=\"268.21,199.25,256.6501,215.8743,248.6276,204.4008,268.21,199.25\" style=\"stroke: #383838; stroke-width: 1.0;\"/><ellipse cx=\"250.8327\" cy=\"217.5015\" fill=\"#383838\" rx=\"2\" ry=\"2\" style=\"stroke: #383838; stroke-width: 1.0;\"/><ellipse cx=\"245.1024\" cy=\"209.3062\" fill=\"#383838\" rx=\"2\" ry=\"2\" style=\"stroke: #383838; stroke-width: 1.0;\"/></a><!--MD5=[1fc04a95fd77ad5ce46c1a3027516051]\n",
       "reverse link E9 to E11--><a href=\"psysml:2308c13a-9c40-4baf-abe1-b4752fcfac30\" target=\"_top\" title=\"psysml:2308c13a-9c40-4baf-abe1-b4752fcfac30\" xlink:actuate=\"onRequest\" xlink:href=\"psysml:2308c13a-9c40-4baf-abe1-b4752fcfac30\" xlink:show=\"new\" xlink:title=\"psysml:2308c13a-9c40-4baf-abe1-b4752fcfac30\" xlink:type=\"simple\"><path d=\"M114.48,200.5 C131.24,194.55 149.31,188.14 162.75,183.37 \" fill=\"none\" id=\"E9&lt;-E11\" style=\"stroke: #383838; stroke-width: 1.0;\"/><polygon fill=\"#FFFFFF\" points=\"102.03,204.92,109.0214,206.6865,113.341,200.9124,106.3496,199.1458,102.03,204.92\" style=\"stroke: #383838; stroke-width: 1.0;\"/><text fill=\"#000000\" font-family=\"sans-serif\" font-size=\"13\" lengthAdjust=\"spacingAndGlyphs\" textLength=\"8\" x=\"146.8641\" y=\"200.0207\">1</text></a><!--MD5=[0517f1ce58c4d5483948f93845c45e26]\n",
       "link E11 to E3--><a href=\"psysml:713baad2-05ac-404b-8904-f9720a0da3f6\" target=\"_top\" title=\"psysml:713baad2-05ac-404b-8904-f9720a0da3f6\" xlink:actuate=\"onRequest\" xlink:href=\"psysml:713baad2-05ac-404b-8904-f9720a0da3f6\" xlink:show=\"new\" xlink:title=\"psysml:713baad2-05ac-404b-8904-f9720a0da3f6\" xlink:type=\"simple\"><path d=\"M206.24,176 C217.53,176 232.1,176 246.43,176 \" fill=\"none\" id=\"E11-&gt;E3\" style=\"stroke: #383838; stroke-width: 1.0;\"/><polygon fill=\"#FFFFFF\" points=\"266.84,176,247.84,183,247.84,169,266.84,176\" style=\"stroke: #383838; stroke-width: 1.0;\"/><ellipse cx=\"242.14\" cy=\"181\" fill=\"#383838\" rx=\"2\" ry=\"2\" style=\"stroke: #383838; stroke-width: 1.0;\"/><ellipse cx=\"242.14\" cy=\"171\" fill=\"#383838\" rx=\"2\" ry=\"2\" style=\"stroke: #383838; stroke-width: 1.0;\"/></a><!--MD5=[783eef371893caa5230416b5f6511491]\n",
       "@startuml\r\n",
       "left to right direction\r\n",
       "skinparam monochrome true\r\n",
       "skinparam classbackgroundcolor white\r\n",
       "skinparam shadowing false\r\n",
       "skinparam wrapWidth 300\r\n",
       "hide circle\r\n",
       "\r\n",
       "package \"ItemTest\" as E1  [[psysml:9c84b130-4496-45dd-acf0-f614adf4451b ]]  {\r\n",
       "comp usage \"f: A \" as E2  <<(T,blue) item>> [[psysml:046ce2e8-70d6-418b-9e34-4058f6a1e698 ]] {\r\n",
       "}\r\n",
       "comp def \"A\" as E3  <<(T,blue) item  def>> [[psysml:b761bda6-ef45-4173-adbe-8f17f5dd59b9 ]] {\r\n",
       "}\r\n",
       "comp usage \"b: B \" as E4  <<(T,blue) item>> [[psysml:5a9b7c1e-d921-40a5-84d4-dcafad1b8599 ]] {\r\n",
       "}\r\n",
       "comp usage \"c: C \" as E5  <<(T,blue) part>> [[psysml:c52e7c62-32ae-43e1-a51e-2d7f86512260 ]] {\r\n",
       "}\r\n",
       "comp def \"<i>B</i>\" as E6  <<(T,blue) item  def>> [[psysml:154f7142-f3c2-4f8f-a55c-1d31f59952e7 ]] {\r\n",
       "}\r\n",
       "comp usage \"<i>a</i>: A \" as E7  <<(T,blue) part>> [[psysml:3092a58e-bc17-492e-b3ac-d9b0c5d27ee1 ]] {\r\n",
       "}\r\n",
       "comp def \"C\" as E8  <<(T,blue) part  def>> [[psysml:a977dc12-1522-4e17-86ea-88834b4a9262 ]] {\r\n",
       "- - parameters - -\r\n",
       "<b>in</b> y: A, B\r\n",
       "}\r\n",
       "comp def \"P\" as E9  <<(T,blue) port  def>> [[psysml:505a0904-767f-4431-bdaf-f395e9a256c5 ]] {\r\n",
       "}\r\n",
       "comp usage \"a1: A \" as E10  <<(T,blue) item>> [[psysml:b48ee9ab-0a15-45ce-8465-86ae83c4be7f ]] {\r\n",
       "}\r\n",
       "comp usage \"a2: A \" as E11  <<(T,blue) item>> [[psysml:7b14a527-4e8d-41df-a91b-3ca9db44b1d9 ]] {\r\n",
       "}\r\n",
       "}\r\n",
       "E2 - -:|> E3 [[psysml:2913aa14-34e4-4ebc-b3c0-73cbbe37a712 ]] \r\n",
       "E3 *- - \"1\"E4 [[psysml:5a70b25d-3e65-48fe-9200-ece04e9de0ee ]] \r\n",
       "E3 o- - \"1\"E5 [[psysml:98aba136-2768-4c7e-bc34-95a5a6a911cd ]] \r\n",
       "E4 - -:|> E6 [[psysml:04be4dec-9fb2-423c-a400-1c82afc162c3 ]] \r\n",
       "E6 *- - \"1\"E7 [[psysml:88a05b08-39fe-46e7-8c9b-5df9e56fb426 ]] \r\n",
       "E7 - -:|> E3 [[psysml:de23f89f-df32-45d9-b344-47d8d19c4edc ]] \r\n",
       "E5 - -:|> E8 [[psysml:feaf6c57-7b20-4701-8323-0c325a1238bf ]] \r\n",
       "E8 o- - E3 [[psysml:f63e9e98-9395-484c-b7ba-710e403c3592 ]] : y\r\n",
       "E8 o- - E6 [[psysml:f63e9e98-9395-484c-b7ba-710e403c3592 ]] : y\r\n",
       "E8 o- - E3 [[psysml:f63e9e98-9395-484c-b7ba-710e403c3592 ]] : y\r\n",
       "E8 o- - E6 [[psysml:f63e9e98-9395-484c-b7ba-710e403c3592 ]] : y\r\n",
       "E9 o- - \"1\"E10 [[psysml:f7fd9ae3-3fa5-48e2-b146-bf2078e3bf75 ]] \r\n",
       "E10 - -:|> E3 [[psysml:09a722a7-3c7d-4d30-9bcf-d6d93c165304 ]] \r\n",
       "E9 o- - \"1\"E11 [[psysml:2308c13a-9c40-4baf-abe1-b4752fcfac30 ]] \r\n",
       "E11 - -:|> E3 [[psysml:713baad2-05ac-404b-8904-f9720a0da3f6 ]] \r\n",
       "@enduml\r\n",
       "\n",
       "PlantUML version 1.2020.13(Sat Jun 13 12:26:38 UTC 2020)\n",
       "(EPL source distribution)\n",
       "Java Runtime: OpenJDK Runtime Environment\n",
       "JVM: OpenJDK 64-Bit Server VM\n",
       "Default Encoding: UTF-8\n",
       "Language: en\n",
       "Country: null\n",
       "--></g></svg>"
      ]
     },
     "execution_count": 22,
     "metadata": {},
     "output_type": "execute_result"
    }
   ],
   "source": [
    "%viz --style=\"LR\" --view=\"MIXED\" \"ItemTest\""
   ]
  },
  {
   "cell_type": "code",
   "execution_count": 23,
   "id": "5a300d2f",
   "metadata": {
    "execution": {
     "iopub.execute_input": "2021-10-25T08:20:54.225704Z",
     "iopub.status.busy": "2021-10-25T08:20:54.225475Z",
     "iopub.status.idle": "2021-10-25T08:20:54.289811Z",
     "shell.execute_reply": "2021-10-25T08:20:54.287410Z"
    }
   },
   "outputs": [
    {
     "data": {
      "image/svg+xml": [
       "<?xml version=\"1.0\" encoding=\"UTF-8\" standalone=\"no\"?><svg xmlns=\"http://www.w3.org/2000/svg\" xmlns:xlink=\"http://www.w3.org/1999/xlink\" contentScriptType=\"application/ecmascript\" contentStyleType=\"text/css\" height=\"848px\" preserveAspectRatio=\"none\" style=\"width:344px;height:848px;\" version=\"1.1\" viewBox=\"0 0 344 848\" width=\"344px\" zoomAndPan=\"magnify\"><defs><filter height=\"300%\" id=\"f1p5otz1h1tvku\" width=\"300%\" x=\"-1\" y=\"-1\"><feGaussianBlur result=\"blurOut\" stdDeviation=\"2.0\"/><feColorMatrix in=\"blurOut\" result=\"blurOut2\" type=\"matrix\" values=\"0 0 0 0 0 0 0 0 0 0 0 0 0 0 0 0 0 0 .4 0\"/><feOffset dx=\"4.0\" dy=\"4.0\" in=\"blurOut2\" result=\"blurOut3\"/><feBlend in=\"SourceGraphic\" in2=\"blurOut3\" mode=\"normal\"/></filter></defs><g><!--MD5=[fbc87193dbaf4d95561dea2c320d4a47]\n",
       "cluster E1--><a href=\"psysml:9c84b130-4496-45dd-acf0-f614adf4451b\" target=\"_top\" title=\"psysml:9c84b130-4496-45dd-acf0-f614adf4451b\" xlink:actuate=\"onRequest\" xlink:href=\"psysml:9c84b130-4496-45dd-acf0-f614adf4451b\" xlink:show=\"new\" xlink:title=\"psysml:9c84b130-4496-45dd-acf0-f614adf4451b\" xlink:type=\"simple\"><polygon fill=\"#FFFFFF\" filter=\"url(#f1p5otz1h1tvku)\" points=\"16,6,83,6,90,28.2969,322,28.2969,322,836,16,836,16,6\" style=\"stroke: #000000; stroke-width: 1.5;\"/><line style=\"stroke: #000000; stroke-width: 1.5;\" x1=\"16\" x2=\"90\" y1=\"28.2969\" y2=\"28.2969\"/><text fill=\"#000000\" font-family=\"sans-serif\" font-size=\"14\" font-weight=\"bold\" lengthAdjust=\"spacingAndGlyphs\" textLength=\"61\" x=\"20\" y=\"20.9951\">ItemTest</text></a><!--MD5=[b4997ac47864f28c2f74865a473b2911]\n",
       "class E2--><a href=\"psysml:046ce2e8-70d6-418b-9e34-4058f6a1e698\" target=\"_top\" title=\"psysml:046ce2e8-70d6-418b-9e34-4058f6a1e698\" xlink:actuate=\"onRequest\" xlink:href=\"psysml:046ce2e8-70d6-418b-9e34-4058f6a1e698\" xlink:show=\"new\" xlink:title=\"psysml:046ce2e8-70d6-418b-9e34-4058f6a1e698\" xlink:type=\"simple\"><rect fill=\"#FEFECE\" filter=\"url(#f1p5otz1h1tvku)\" height=\"45.9375\" id=\"E2\" rx=\"10\" ry=\"10\" style=\"stroke: #A80036; stroke-width: 1.5;\" width=\"43\" x=\"239.5\" y=\"148\"/><text fill=\"#000000\" font-family=\"sans-serif\" font-size=\"12\" font-style=\"italic\" lengthAdjust=\"spacingAndGlyphs\" textLength=\"41\" x=\"240.5\" y=\"164.1387\">«item»</text><text fill=\"#000000\" font-family=\"sans-serif\" font-size=\"12\" lengthAdjust=\"spacingAndGlyphs\" textLength=\"20\" x=\"249\" y=\"178.1074\">f: A</text><line style=\"stroke: #A80036; stroke-width: 1.5;\" x1=\"240.5\" x2=\"281.5\" y1=\"185.9375\" y2=\"185.9375\"/></a><!--MD5=[09b614a08d8cba4a07c9adeb5e0fee81]\n",
       "class E3--><a href=\"psysml:b761bda6-ef45-4173-adbe-8f17f5dd59b9\" target=\"_top\" title=\"psysml:b761bda6-ef45-4173-adbe-8f17f5dd59b9\" xlink:actuate=\"onRequest\" xlink:href=\"psysml:b761bda6-ef45-4173-adbe-8f17f5dd59b9\" xlink:show=\"new\" xlink:title=\"psysml:b761bda6-ef45-4173-adbe-8f17f5dd59b9\" xlink:type=\"simple\"><rect fill=\"#FEFECE\" filter=\"url(#f1p5otz1h1tvku)\" height=\"45.9375\" id=\"E3\" style=\"stroke: #A80036; stroke-width: 1.5;\" width=\"71\" x=\"147.5\" y=\"255\"/><text fill=\"#000000\" font-family=\"sans-serif\" font-size=\"12\" font-style=\"italic\" lengthAdjust=\"spacingAndGlyphs\" textLength=\"69\" x=\"148.5\" y=\"271.1387\">«item  def»</text><text fill=\"#000000\" font-family=\"sans-serif\" font-size=\"12\" lengthAdjust=\"spacingAndGlyphs\" textLength=\"8\" x=\"179\" y=\"285.1074\">A</text><line style=\"stroke: #A80036; stroke-width: 1.5;\" x1=\"148.5\" x2=\"217.5\" y1=\"292.9375\" y2=\"292.9375\"/></a><!--MD5=[ebbe1d658d1005bcc118a6aa81145e00]\n",
       "class E4--><a href=\"psysml:5a9b7c1e-d921-40a5-84d4-dcafad1b8599\" target=\"_top\" title=\"psysml:5a9b7c1e-d921-40a5-84d4-dcafad1b8599\" xlink:actuate=\"onRequest\" xlink:href=\"psysml:5a9b7c1e-d921-40a5-84d4-dcafad1b8599\" xlink:show=\"new\" xlink:title=\"psysml:5a9b7c1e-d921-40a5-84d4-dcafad1b8599\" xlink:type=\"simple\"><rect fill=\"#FEFECE\" filter=\"url(#f1p5otz1h1tvku)\" height=\"45.9375\" id=\"E4\" rx=\"10\" ry=\"10\" style=\"stroke: #A80036; stroke-width: 1.5;\" width=\"43\" x=\"255.5\" y=\"438\"/><text fill=\"#000000\" font-family=\"sans-serif\" font-size=\"12\" font-style=\"italic\" lengthAdjust=\"spacingAndGlyphs\" textLength=\"41\" x=\"256.5\" y=\"454.1387\">«item»</text><text fill=\"#000000\" font-family=\"sans-serif\" font-size=\"12\" lengthAdjust=\"spacingAndGlyphs\" textLength=\"24\" x=\"263\" y=\"468.1074\">b: B</text><line style=\"stroke: #A80036; stroke-width: 1.5;\" x1=\"256.5\" x2=\"297.5\" y1=\"475.9375\" y2=\"475.9375\"/></a><!--MD5=[270fce915f116d4de14055a7c1d9a0f3]\n",
       "class E5--><a href=\"psysml:c52e7c62-32ae-43e1-a51e-2d7f86512260\" target=\"_top\" title=\"psysml:c52e7c62-32ae-43e1-a51e-2d7f86512260\" xlink:actuate=\"onRequest\" xlink:href=\"psysml:c52e7c62-32ae-43e1-a51e-2d7f86512260\" xlink:show=\"new\" xlink:title=\"psysml:c52e7c62-32ae-43e1-a51e-2d7f86512260\" xlink:type=\"simple\"><rect fill=\"#FEFECE\" filter=\"url(#f1p5otz1h1tvku)\" height=\"45.9375\" id=\"E5\" rx=\"10\" ry=\"10\" style=\"stroke: #A80036; stroke-width: 1.5;\" width=\"42\" x=\"227\" y=\"362\"/><text fill=\"#000000\" font-family=\"sans-serif\" font-size=\"12\" font-style=\"italic\" lengthAdjust=\"spacingAndGlyphs\" textLength=\"40\" x=\"228\" y=\"378.1387\">«part»</text><text fill=\"#000000\" font-family=\"sans-serif\" font-size=\"12\" lengthAdjust=\"spacingAndGlyphs\" textLength=\"23\" x=\"234.5\" y=\"392.1074\">c: C</text><line style=\"stroke: #A80036; stroke-width: 1.5;\" x1=\"228\" x2=\"268\" y1=\"399.9375\" y2=\"399.9375\"/></a><!--MD5=[60a26617385b1d2d0262a64233df1f8d]\n",
       "class E6--><a href=\"psysml:154f7142-f3c2-4f8f-a55c-1d31f59952e7\" target=\"_top\" title=\"psysml:154f7142-f3c2-4f8f-a55c-1d31f59952e7\" xlink:actuate=\"onRequest\" xlink:href=\"psysml:154f7142-f3c2-4f8f-a55c-1d31f59952e7\" xlink:show=\"new\" xlink:title=\"psysml:154f7142-f3c2-4f8f-a55c-1d31f59952e7\" xlink:type=\"simple\"><rect fill=\"#FEFECE\" filter=\"url(#f1p5otz1h1tvku)\" height=\"45.9375\" id=\"E6\" style=\"stroke: #A80036; stroke-width: 1.5;\" width=\"71\" x=\"146.5\" y=\"667\"/><text fill=\"#000000\" font-family=\"sans-serif\" font-size=\"12\" font-style=\"italic\" lengthAdjust=\"spacingAndGlyphs\" textLength=\"69\" x=\"147.5\" y=\"683.1387\">«item  def»</text><text fill=\"#000000\" font-family=\"sans-serif\" font-size=\"12\" font-style=\"italic\" lengthAdjust=\"spacingAndGlyphs\" textLength=\"8\" x=\"178\" y=\"697.1074\">B</text><line style=\"stroke: #A80036; stroke-width: 1.5;\" x1=\"147.5\" x2=\"216.5\" y1=\"704.9375\" y2=\"704.9375\"/></a><!--MD5=[2156ba9850f5573cc1fc38a6a4b2f02b]\n",
       "class E7--><a href=\"psysml:3092a58e-bc17-492e-b3ac-d9b0c5d27ee1\" target=\"_top\" title=\"psysml:3092a58e-bc17-492e-b3ac-d9b0c5d27ee1\" xlink:actuate=\"onRequest\" xlink:href=\"psysml:3092a58e-bc17-492e-b3ac-d9b0c5d27ee1\" xlink:show=\"new\" xlink:title=\"psysml:3092a58e-bc17-492e-b3ac-d9b0c5d27ee1\" xlink:type=\"simple\"><rect fill=\"#FEFECE\" filter=\"url(#f1p5otz1h1tvku)\" height=\"45.9375\" id=\"E7\" rx=\"10\" ry=\"10\" style=\"stroke: #A80036; stroke-width: 1.5;\" width=\"42\" x=\"96\" y=\"774\"/><text fill=\"#000000\" font-family=\"sans-serif\" font-size=\"12\" font-style=\"italic\" lengthAdjust=\"spacingAndGlyphs\" textLength=\"40\" x=\"97\" y=\"790.1387\">«part»</text><text fill=\"#000000\" font-family=\"sans-serif\" font-size=\"12\" font-style=\"italic\" lengthAdjust=\"spacingAndGlyphs\" textLength=\"8\" x=\"103\" y=\"804.1074\">a</text><text fill=\"#000000\" font-family=\"sans-serif\" font-size=\"12\" lengthAdjust=\"spacingAndGlyphs\" textLength=\"16\" x=\"111\" y=\"804.1074\">: A</text><line style=\"stroke: #A80036; stroke-width: 1.5;\" x1=\"97\" x2=\"137\" y1=\"811.9375\" y2=\"811.9375\"/></a><!--MD5=[b9389687b975829384b498ac4b7476b2]\n",
       "class E8--><a href=\"psysml:a977dc12-1522-4e17-86ea-88834b4a9262\" target=\"_top\" title=\"psysml:a977dc12-1522-4e17-86ea-88834b4a9262\" xlink:actuate=\"onRequest\" xlink:href=\"psysml:a977dc12-1522-4e17-86ea-88834b4a9262\" xlink:show=\"new\" xlink:title=\"psysml:a977dc12-1522-4e17-86ea-88834b4a9262\" xlink:type=\"simple\"><rect fill=\"#FEFECE\" filter=\"url(#f1p5otz1h1tvku)\" height=\"75.5469\" id=\"E8\" style=\"stroke: #A80036; stroke-width: 1.5;\" width=\"75\" x=\"145.5\" y=\"514\"/><text fill=\"#000000\" font-family=\"sans-serif\" font-size=\"12\" font-style=\"italic\" lengthAdjust=\"spacingAndGlyphs\" textLength=\"68\" x=\"149\" y=\"530.1387\">«part  def»</text><text fill=\"#000000\" font-family=\"sans-serif\" font-size=\"12\" lengthAdjust=\"spacingAndGlyphs\" textLength=\"8\" x=\"179\" y=\"544.1074\">C</text><line style=\"stroke: #A80036; stroke-width: 1.5;\" x1=\"146.5\" x2=\"219.5\" y1=\"551.9375\" y2=\"551.9375\"/><text fill=\"#000000\" font-family=\"sans-serif\" font-size=\"11\" font-weight=\"bold\" lengthAdjust=\"spacingAndGlyphs\" textLength=\"10\" x=\"151.5\" y=\"582.9526\">in</text><text fill=\"#000000\" font-family=\"sans-serif\" font-size=\"11\" lengthAdjust=\"spacingAndGlyphs\" textLength=\"37\" x=\"165.5\" y=\"582.9526\">y: A, B</text><line style=\"stroke: #A80036; stroke-width: 1.0;\" x1=\"146.5\" x2=\"149.5\" y1=\"566.3398\" y2=\"566.3398\"/><text fill=\"#000000\" font-family=\"sans-serif\" font-size=\"11\" lengthAdjust=\"spacingAndGlyphs\" textLength=\"67\" x=\"149.5\" y=\"569.6479\">parameters</text><line style=\"stroke: #A80036; stroke-width: 1.0;\" x1=\"216.5\" x2=\"219.5\" y1=\"566.3398\" y2=\"566.3398\"/></a><!--MD5=[fd4143e9d270a159db93a4ea2a975926]\n",
       "class E9--><a href=\"psysml:505a0904-767f-4431-bdaf-f395e9a256c5\" target=\"_top\" title=\"psysml:505a0904-767f-4431-bdaf-f395e9a256c5\" xlink:actuate=\"onRequest\" xlink:href=\"psysml:505a0904-767f-4431-bdaf-f395e9a256c5\" xlink:show=\"new\" xlink:title=\"psysml:505a0904-767f-4431-bdaf-f395e9a256c5\" xlink:type=\"simple\"><rect fill=\"#FEFECE\" filter=\"url(#f1p5otz1h1tvku)\" height=\"45.9375\" id=\"E9\" style=\"stroke: #A80036; stroke-width: 1.5;\" width=\"70\" x=\"109\" y=\"41\"/><text fill=\"#000000\" font-family=\"sans-serif\" font-size=\"12\" font-style=\"italic\" lengthAdjust=\"spacingAndGlyphs\" textLength=\"68\" x=\"110\" y=\"57.1387\">«port  def»</text><text fill=\"#000000\" font-family=\"sans-serif\" font-size=\"12\" lengthAdjust=\"spacingAndGlyphs\" textLength=\"8\" x=\"140\" y=\"71.1074\">P</text><line style=\"stroke: #A80036; stroke-width: 1.5;\" x1=\"110\" x2=\"178\" y1=\"78.9375\" y2=\"78.9375\"/></a><!--MD5=[96f4274e9e20536e775497830990834d]\n",
       "class E10--><a href=\"psysml:b48ee9ab-0a15-45ce-8465-86ae83c4be7f\" target=\"_top\" title=\"psysml:b48ee9ab-0a15-45ce-8465-86ae83c4be7f\" xlink:actuate=\"onRequest\" xlink:href=\"psysml:b48ee9ab-0a15-45ce-8465-86ae83c4be7f\" xlink:show=\"new\" xlink:title=\"psysml:b48ee9ab-0a15-45ce-8465-86ae83c4be7f\" xlink:type=\"simple\"><rect fill=\"#FEFECE\" filter=\"url(#f1p5otz1h1tvku)\" height=\"45.9375\" id=\"E10\" rx=\"10\" ry=\"10\" style=\"stroke: #A80036; stroke-width: 1.5;\" width=\"43\" x=\"83.5\" y=\"148\"/><text fill=\"#000000\" font-family=\"sans-serif\" font-size=\"12\" font-style=\"italic\" lengthAdjust=\"spacingAndGlyphs\" textLength=\"41\" x=\"84.5\" y=\"164.1387\">«item»</text><text fill=\"#000000\" font-family=\"sans-serif\" font-size=\"12\" lengthAdjust=\"spacingAndGlyphs\" textLength=\"32\" x=\"87\" y=\"178.1074\">a1: A</text><line style=\"stroke: #A80036; stroke-width: 1.5;\" x1=\"84.5\" x2=\"125.5\" y1=\"185.9375\" y2=\"185.9375\"/></a><!--MD5=[1dd1bfd58a279cf63c5f349dbc8fc6a1]\n",
       "class E11--><a href=\"psysml:7b14a527-4e8d-41df-a91b-3ca9db44b1d9\" target=\"_top\" title=\"psysml:7b14a527-4e8d-41df-a91b-3ca9db44b1d9\" xlink:actuate=\"onRequest\" xlink:href=\"psysml:7b14a527-4e8d-41df-a91b-3ca9db44b1d9\" xlink:show=\"new\" xlink:title=\"psysml:7b14a527-4e8d-41df-a91b-3ca9db44b1d9\" xlink:type=\"simple\"><rect fill=\"#FEFECE\" filter=\"url(#f1p5otz1h1tvku)\" height=\"45.9375\" id=\"E11\" rx=\"10\" ry=\"10\" style=\"stroke: #A80036; stroke-width: 1.5;\" width=\"43\" x=\"161.5\" y=\"148\"/><text fill=\"#000000\" font-family=\"sans-serif\" font-size=\"12\" font-style=\"italic\" lengthAdjust=\"spacingAndGlyphs\" textLength=\"41\" x=\"162.5\" y=\"164.1387\">«item»</text><text fill=\"#000000\" font-family=\"sans-serif\" font-size=\"12\" lengthAdjust=\"spacingAndGlyphs\" textLength=\"32\" x=\"165\" y=\"178.1074\">a2: A</text><line style=\"stroke: #A80036; stroke-width: 1.5;\" x1=\"162.5\" x2=\"203.5\" y1=\"185.9375\" y2=\"185.9375\"/></a><!--MD5=[2720a5a1f2c3fca2055b230370638851]\n",
       "link E2 to E3--><a href=\"psysml:2913aa14-34e4-4ebc-b3c0-73cbbe37a712\" target=\"_top\" title=\"psysml:2913aa14-34e4-4ebc-b3c0-73cbbe37a712\" xlink:actuate=\"onRequest\" xlink:href=\"psysml:2913aa14-34e4-4ebc-b3c0-73cbbe37a712\" xlink:show=\"new\" xlink:title=\"psysml:2913aa14-34e4-4ebc-b3c0-73cbbe37a712\" xlink:type=\"simple\"><path d=\"M244.65,194.01 C235.14,206.81 222.89,223.3 211.82,238.2 \" fill=\"none\" id=\"E2-&gt;E3\" style=\"stroke: #A80036; stroke-width: 1.0;\"/><polygon fill=\"#FFFFFF\" points=\"199.6,254.66,205.3195,235.2361,216.5543,243.5896,199.6,254.66\" style=\"stroke: #A80036; stroke-width: 1.0;\"/><ellipse cx=\"210.3256\" cy=\"231.8554\" fill=\"#A80036\" rx=\"2\" ry=\"2\" style=\"stroke: #A80036; stroke-width: 1.0;\"/><ellipse cx=\"218.3504\" cy=\"237.8221\" fill=\"#A80036\" rx=\"2\" ry=\"2\" style=\"stroke: #A80036; stroke-width: 1.0;\"/></a><!--MD5=[4672eba38e49728da53d11aeb285b987]\n",
       "reverse link E3 to E4--><a href=\"psysml:5a70b25d-3e65-48fe-9200-ece04e9de0ee\" target=\"_top\" title=\"psysml:5a70b25d-3e65-48fe-9200-ece04e9de0ee\" xlink:actuate=\"onRequest\" xlink:href=\"psysml:5a70b25d-3e65-48fe-9200-ece04e9de0ee\" xlink:show=\"new\" xlink:title=\"psysml:5a70b25d-3e65-48fe-9200-ece04e9de0ee\" xlink:type=\"simple\"><path d=\"M229.65,303.21 C251.35,317.2 274.97,337.01 287,362 C298.57,386.04 292.33,417.17 285.68,437.83 \" fill=\"none\" id=\"E3&lt;-E4\" style=\"stroke: #A80036; stroke-width: 1.0;\"/><polygon fill=\"#A80036\" points=\"218.55,296.43,221.5791,302.974,228.7848,302.6949,225.7557,296.1508,218.55,296.43\" style=\"stroke: #A80036; stroke-width: 1.0;\"/><text fill=\"#000000\" font-family=\"sans-serif\" font-size=\"13\" lengthAdjust=\"spacingAndGlyphs\" textLength=\"8\" x=\"278.8793\" y=\"427.0627\">1</text></a><!--MD5=[191cde3d490a3f6d7bb551fe3ddca469]\n",
       "reverse link E3 to E5--><a href=\"psysml:98aba136-2768-4c7e-bc34-95a5a6a911cd\" target=\"_top\" title=\"psysml:98aba136-2768-4c7e-bc34-95a5a6a911cd\" xlink:actuate=\"onRequest\" xlink:href=\"psysml:98aba136-2768-4c7e-bc34-95a5a6a911cd\" xlink:show=\"new\" xlink:title=\"psysml:98aba136-2768-4c7e-bc34-95a5a6a911cd\" xlink:type=\"simple\"><path d=\"M203.52,312.15 C213.51,328.29 225.26,347.26 234.17,361.66 \" fill=\"none\" id=\"E3&lt;-E5\" style=\"stroke: #A80036; stroke-width: 1.0;\"/><polygon fill=\"#FFFFFF\" points=\"196.63,301.01,196.3861,308.217,202.9449,311.214,203.1888,304.007,196.63,301.01\" style=\"stroke: #A80036; stroke-width: 1.0;\"/><text fill=\"#000000\" font-family=\"sans-serif\" font-size=\"13\" lengthAdjust=\"spacingAndGlyphs\" textLength=\"8\" x=\"221.6011\" y=\"350.8492\">1</text></a><!--MD5=[79568f1e445c3877b6a54524624ccc7d]\n",
       "link E4 to E6--><a href=\"psysml:04be4dec-9fb2-423c-a400-1c82afc162c3\" target=\"_top\" title=\"psysml:04be4dec-9fb2-423c-a400-1c82afc162c3\" xlink:actuate=\"onRequest\" xlink:href=\"psysml:04be4dec-9fb2-423c-a400-1c82afc162c3\" xlink:show=\"new\" xlink:title=\"psysml:04be4dec-9fb2-423c-a400-1c82afc162c3\" xlink:type=\"simple\"><path d=\"M271.8,484.26 C265.37,510.22 253.39,554.13 238,590 C229.26,610.36 217.43,631.9 206.88,649.66 \" fill=\"none\" id=\"E4-&gt;E6\" style=\"stroke: #A80036; stroke-width: 1.0;\"/><polygon fill=\"#FFFFFF\" points=\"196.36,666.92,200.2791,647.0544,212.2307,654.3454,196.36,666.92\" style=\"stroke: #A80036; stroke-width: 1.0;\"/><ellipse cx=\"204.955\" cy=\"643.23\" fill=\"#A80036\" rx=\"2\" ry=\"2\" style=\"stroke: #A80036; stroke-width: 1.0;\"/><ellipse cx=\"213.4918\" cy=\"648.4378\" fill=\"#A80036\" rx=\"2\" ry=\"2\" style=\"stroke: #A80036; stroke-width: 1.0;\"/></a><!--MD5=[3f50a3473f1dfb74d3f76443e03635af]\n",
       "reverse link E6 to E7--><a href=\"psysml:88a05b08-39fe-46e7-8c9b-5df9e56fb426\" target=\"_top\" title=\"psysml:88a05b08-39fe-46e7-8c9b-5df9e56fb426\" xlink:actuate=\"onRequest\" xlink:href=\"psysml:88a05b08-39fe-46e7-8c9b-5df9e56fb426\" xlink:show=\"new\" xlink:title=\"psysml:88a05b08-39fe-46e7-8c9b-5df9e56fb426\" xlink:type=\"simple\"><path d=\"M161.48,724.15 C151.49,740.29 139.74,759.26 130.83,773.66 \" fill=\"none\" id=\"E6&lt;-E7\" style=\"stroke: #A80036; stroke-width: 1.0;\"/><polygon fill=\"#A80036\" points=\"168.37,713.01,161.8112,716.007,162.0551,723.214,168.6139,720.217,168.37,713.01\" style=\"stroke: #A80036; stroke-width: 1.0;\"/><text fill=\"#000000\" font-family=\"sans-serif\" font-size=\"13\" lengthAdjust=\"spacingAndGlyphs\" textLength=\"8\" x=\"125.3489\" y=\"762.8492\">1</text></a><!--MD5=[14ccda38c055a5c0da953d572bc50960]\n",
       "link E7 to E3--><a href=\"psysml:de23f89f-df32-45d9-b344-47d8d19c4edc\" target=\"_top\" title=\"psysml:de23f89f-df32-45d9-b344-47d8d19c4edc\" xlink:actuate=\"onRequest\" xlink:href=\"psysml:de23f89f-df32-45d9-b344-47d8d19c4edc\" xlink:show=\"new\" xlink:title=\"psysml:de23f89f-df32-45d9-b344-47d8d19c4edc\" xlink:type=\"simple\"><path d=\"M95.8,782.47 C70.92,764.75 33,731.15 33,691 C33,384 33,384 33,384 C33,335.87 85.48,307.94 128.35,293.16 \" fill=\"none\" id=\"E7-&gt;E3\" style=\"stroke: #A80036; stroke-width: 1.0;\"/><polygon fill=\"#FFFFFF\" points=\"147.45,287.18,131.4154,299.545,127.2259,286.1865,147.45,287.18\" style=\"stroke: #A80036; stroke-width: 1.0;\"/><ellipse cx=\"125.3781\" cy=\"299.3424\" fill=\"#A80036\" rx=\"2\" ry=\"2\" style=\"stroke: #A80036; stroke-width: 1.0;\"/><ellipse cx=\"122.3856\" cy=\"289.8006\" fill=\"#A80036\" rx=\"2\" ry=\"2\" style=\"stroke: #A80036; stroke-width: 1.0;\"/></a><!--MD5=[dfaffb906826c3e5aca635516100ff21]\n",
       "link E5 to E8--><a href=\"psysml:feaf6c57-7b20-4701-8323-0c325a1238bf\" target=\"_top\" title=\"psysml:feaf6c57-7b20-4701-8323-0c325a1238bf\" xlink:actuate=\"onRequest\" xlink:href=\"psysml:feaf6c57-7b20-4701-8323-0c325a1238bf\" xlink:show=\"new\" xlink:title=\"psysml:feaf6c57-7b20-4701-8323-0c325a1238bf\" xlink:type=\"simple\"><path d=\"M239.23,408.25 C230.48,430.48 216.67,465.53 204.93,495.33 \" fill=\"none\" id=\"E5-&gt;E8\" style=\"stroke: #A80036; stroke-width: 1.0;\"/><polygon fill=\"#FFFFFF\" points=\"197.58,513.98,198.027,493.7365,211.0538,498.8652,197.58,513.98\" style=\"stroke: #A80036; stroke-width: 1.0;\"/><ellipse cx=\"201.9761\" cy=\"489.1654\" fill=\"#A80036\" rx=\"2\" ry=\"2\" style=\"stroke: #A80036; stroke-width: 1.0;\"/><ellipse cx=\"211.2809\" cy=\"492.8288\" fill=\"#A80036\" rx=\"2\" ry=\"2\" style=\"stroke: #A80036; stroke-width: 1.0;\"/></a><!--MD5=[03c8294790d3c57651a1993cecff665f]\n",
       "reverse link E8 to E3--><a href=\"psysml:f63e9e98-9395-484c-b7ba-710e403c3592\" target=\"_top\" title=\"psysml:f63e9e98-9395-484c-b7ba-710e403c3592\" xlink:actuate=\"onRequest\" xlink:href=\"psysml:f63e9e98-9395-484c-b7ba-710e403c3592\" xlink:show=\"new\" xlink:title=\"psysml:f63e9e98-9395-484c-b7ba-710e403c3592\" xlink:type=\"simple\"><path d=\"M154.57,502.18 C135.93,463.97 117.34,409.52 131,362 C137.48,339.45 152.09,317.09 164.17,301.27 \" fill=\"none\" id=\"E8&lt;-E3\" style=\"stroke: #A80036; stroke-width: 1.0;\"/><polygon fill=\"#FFFFFF\" points=\"160.58,513.99,161.4217,506.8282,155.1345,503.2967,154.2928,510.4585,160.58,513.99\" style=\"stroke: #A80036; stroke-width: 1.0;\"/><text fill=\"#000000\" font-family=\"sans-serif\" font-size=\"13\" lengthAdjust=\"spacingAndGlyphs\" textLength=\"7\" x=\"132\" y=\"389.5669\">y</text></a><!--MD5=[03c8294790d3c57651a1993cecff665f]\n",
       "reverse link E8 to E3--><a href=\"psysml:f63e9e98-9395-484c-b7ba-710e403c3592\" target=\"_top\" title=\"psysml:f63e9e98-9395-484c-b7ba-710e403c3592\" xlink:actuate=\"onRequest\" xlink:href=\"psysml:f63e9e98-9395-484c-b7ba-710e403c3592\" xlink:show=\"new\" xlink:title=\"psysml:f63e9e98-9395-484c-b7ba-710e403c3592\" xlink:type=\"simple\"><path d=\"M183,500.73 C183,441.17 183,344.58 183,301.26 \" fill=\"none\" id=\"E8&lt;-E3-1\" style=\"stroke: #A80036; stroke-width: 1.0;\"/><polygon fill=\"#FFFFFF\" points=\"183,513.93,187,507.93,183,501.93,179,507.93,183,513.93\" style=\"stroke: #A80036; stroke-width: 1.0;\"/><text fill=\"#000000\" font-family=\"sans-serif\" font-size=\"13\" lengthAdjust=\"spacingAndGlyphs\" textLength=\"7\" x=\"184\" y=\"389.5669\">y</text></a><!--MD5=[0d75d2178373a6a4568e5dc728f58aef]\n",
       "reverse link E8 to E6--><a href=\"psysml:f63e9e98-9395-484c-b7ba-710e403c3592\" target=\"_top\" title=\"psysml:f63e9e98-9395-484c-b7ba-710e403c3592\" xlink:actuate=\"onRequest\" xlink:href=\"psysml:f63e9e98-9395-484c-b7ba-710e403c3592\" xlink:show=\"new\" xlink:title=\"psysml:f63e9e98-9395-484c-b7ba-710e403c3592\" xlink:type=\"simple\"><path d=\"M160.42,603.02 C157.73,614.13 156.66,625.91 159,637 C161.16,647.24 165.48,657.91 169.79,666.91 \" fill=\"none\" id=\"E8&lt;-E6\" style=\"stroke: #A80036; stroke-width: 1.0;\"/><polygon fill=\"#FFFFFF\" points=\"164.22,590.35,158.6675,594.9511,160.7791,601.8461,166.3316,597.245,164.22,590.35\" style=\"stroke: #A80036; stroke-width: 1.0;\"/><text fill=\"#000000\" font-family=\"sans-serif\" font-size=\"13\" lengthAdjust=\"spacingAndGlyphs\" textLength=\"7\" x=\"160\" y=\"633.0669\">y</text></a><!--MD5=[0d75d2178373a6a4568e5dc728f58aef]\n",
       "reverse link E8 to E6--><a href=\"psysml:f63e9e98-9395-484c-b7ba-710e403c3592\" target=\"_top\" title=\"psysml:f63e9e98-9395-484c-b7ba-710e403c3592\" xlink:actuate=\"onRequest\" xlink:href=\"psysml:f63e9e98-9395-484c-b7ba-710e403c3592\" xlink:show=\"new\" xlink:title=\"psysml:f63e9e98-9395-484c-b7ba-710e403c3592\" xlink:type=\"simple\"><path d=\"M182.63,603.33 C182.47,625.16 182.29,649.6 182.16,666.77 \" fill=\"none\" id=\"E8&lt;-E6-1\" style=\"stroke: #A80036; stroke-width: 1.0;\"/><polygon fill=\"#FFFFFF\" points=\"182.73,590.16,178.684,596.1291,182.6377,602.1596,186.6837,596.1906,182.73,590.16\" style=\"stroke: #A80036; stroke-width: 1.0;\"/><text fill=\"#000000\" font-family=\"sans-serif\" font-size=\"13\" lengthAdjust=\"spacingAndGlyphs\" textLength=\"7\" x=\"183\" y=\"633.0669\">y</text></a><!--MD5=[23ac544a70576c3e717098101004234c]\n",
       "reverse link E9 to E10--><a href=\"psysml:f7fd9ae3-3fa5-48e2-b146-bf2078e3bf75\" target=\"_top\" title=\"psysml:f7fd9ae3-3fa5-48e2-b146-bf2078e3bf75\" xlink:actuate=\"onRequest\" xlink:href=\"psysml:f7fd9ae3-3fa5-48e2-b146-bf2078e3bf75\" xlink:show=\"new\" xlink:title=\"psysml:f7fd9ae3-3fa5-48e2-b146-bf2078e3bf75\" xlink:type=\"simple\"><path d=\"M131.16,99.57 C125.28,115.39 118.49,133.68 113.3,147.66 \" fill=\"none\" id=\"E9&lt;-E10\" style=\"stroke: #A80036; stroke-width: 1.0;\"/><polygon fill=\"#FFFFFF\" points=\"135.82,87.01,129.9804,91.2408,131.6398,98.2584,137.4793,94.0276,135.82,87.01\" style=\"stroke: #A80036; stroke-width: 1.0;\"/><text fill=\"#000000\" font-family=\"sans-serif\" font-size=\"13\" lengthAdjust=\"spacingAndGlyphs\" textLength=\"8\" x=\"106.4019\" y=\"136.8492\">1</text></a><!--MD5=[feeac5eb423634930294aa81f2d25a4c]\n",
       "link E10 to E3--><a href=\"psysml:09a722a7-3c7d-4d30-9bcf-d6d93c165304\" target=\"_top\" title=\"psysml:09a722a7-3c7d-4d30-9bcf-d6d93c165304\" xlink:actuate=\"onRequest\" xlink:href=\"psysml:09a722a7-3c7d-4d30-9bcf-d6d93c165304\" xlink:show=\"new\" xlink:title=\"psysml:09a722a7-3c7d-4d30-9bcf-d6d93c165304\" xlink:type=\"simple\"><path d=\"M121.35,194.01 C130.86,206.81 143.11,223.3 154.18,238.2 \" fill=\"none\" id=\"E10-&gt;E3\" style=\"stroke: #A80036; stroke-width: 1.0;\"/><polygon fill=\"#FFFFFF\" points=\"166.4,254.66,149.4457,243.5896,160.6805,235.2361,166.4,254.66\" style=\"stroke: #A80036; stroke-width: 1.0;\"/><ellipse cx=\"147.6496\" cy=\"237.8221\" fill=\"#A80036\" rx=\"2\" ry=\"2\" style=\"stroke: #A80036; stroke-width: 1.0;\"/><ellipse cx=\"155.6744\" cy=\"231.8554\" fill=\"#A80036\" rx=\"2\" ry=\"2\" style=\"stroke: #A80036; stroke-width: 1.0;\"/></a><!--MD5=[1fc04a95fd77ad5ce46c1a3027516051]\n",
       "reverse link E9 to E11--><a href=\"psysml:2308c13a-9c40-4baf-abe1-b4752fcfac30\" target=\"_top\" title=\"psysml:2308c13a-9c40-4baf-abe1-b4752fcfac30\" xlink:actuate=\"onRequest\" xlink:href=\"psysml:2308c13a-9c40-4baf-abe1-b4752fcfac30\" xlink:show=\"new\" xlink:title=\"psysml:2308c13a-9c40-4baf-abe1-b4752fcfac30\" xlink:type=\"simple\"><path d=\"M156.84,99.57 C162.72,115.39 169.51,133.68 174.7,147.66 \" fill=\"none\" id=\"E9&lt;-E11\" style=\"stroke: #A80036; stroke-width: 1.0;\"/><polygon fill=\"#FFFFFF\" points=\"152.18,87.01,150.5207,94.0276,156.3602,98.2584,158.0196,91.2408,152.18,87.01\" style=\"stroke: #A80036; stroke-width: 1.0;\"/><text fill=\"#000000\" font-family=\"sans-serif\" font-size=\"13\" lengthAdjust=\"spacingAndGlyphs\" textLength=\"8\" x=\"163.5481\" y=\"136.8492\">1</text></a><!--MD5=[0517f1ce58c4d5483948f93845c45e26]\n",
       "link E11 to E3--><a href=\"psysml:713baad2-05ac-404b-8904-f9720a0da3f6\" target=\"_top\" title=\"psysml:713baad2-05ac-404b-8904-f9720a0da3f6\" xlink:actuate=\"onRequest\" xlink:href=\"psysml:713baad2-05ac-404b-8904-f9720a0da3f6\" xlink:show=\"new\" xlink:title=\"psysml:713baad2-05ac-404b-8904-f9720a0da3f6\" xlink:type=\"simple\"><path d=\"M183,194.01 C183,205.69 183,220.46 183,234.28 \" fill=\"none\" id=\"E11-&gt;E3\" style=\"stroke: #A80036; stroke-width: 1.0;\"/><polygon fill=\"#FFFFFF\" points=\"183,254.66,176,235.66,190,235.66,183,254.66\" style=\"stroke: #A80036; stroke-width: 1.0;\"/><ellipse cx=\"178\" cy=\"229.96\" fill=\"#A80036\" rx=\"2\" ry=\"2\" style=\"stroke: #A80036; stroke-width: 1.0;\"/><ellipse cx=\"188\" cy=\"229.96\" fill=\"#A80036\" rx=\"2\" ry=\"2\" style=\"stroke: #A80036; stroke-width: 1.0;\"/></a><!--MD5=[2577b28ab90e99e0e3d19c52263f2eea]\n",
       "@startuml\r\n",
       "skinparam wrapWidth 300\r\n",
       "hide circle\r\n",
       "\r\n",
       "package \"ItemTest\" as E1  [[psysml:9c84b130-4496-45dd-acf0-f614adf4451b ]]  {\r\n",
       "comp usage \"f: A \" as E2  <<(T,blue) item>> [[psysml:046ce2e8-70d6-418b-9e34-4058f6a1e698 ]] {\r\n",
       "}\r\n",
       "comp def \"A\" as E3  <<(T,blue) item  def>> [[psysml:b761bda6-ef45-4173-adbe-8f17f5dd59b9 ]] {\r\n",
       "}\r\n",
       "comp usage \"b: B \" as E4  <<(T,blue) item>> [[psysml:5a9b7c1e-d921-40a5-84d4-dcafad1b8599 ]] {\r\n",
       "}\r\n",
       "comp usage \"c: C \" as E5  <<(T,blue) part>> [[psysml:c52e7c62-32ae-43e1-a51e-2d7f86512260 ]] {\r\n",
       "}\r\n",
       "comp def \"<i>B</i>\" as E6  <<(T,blue) item  def>> [[psysml:154f7142-f3c2-4f8f-a55c-1d31f59952e7 ]] {\r\n",
       "}\r\n",
       "comp usage \"<i>a</i>: A \" as E7  <<(T,blue) part>> [[psysml:3092a58e-bc17-492e-b3ac-d9b0c5d27ee1 ]] {\r\n",
       "}\r\n",
       "comp def \"C\" as E8  <<(T,blue) part  def>> [[psysml:a977dc12-1522-4e17-86ea-88834b4a9262 ]] {\r\n",
       "- - parameters - -\r\n",
       "<b>in</b> y: A, B\r\n",
       "}\r\n",
       "comp def \"P\" as E9  <<(T,blue) port  def>> [[psysml:505a0904-767f-4431-bdaf-f395e9a256c5 ]] {\r\n",
       "}\r\n",
       "comp usage \"a1: A \" as E10  <<(T,blue) item>> [[psysml:b48ee9ab-0a15-45ce-8465-86ae83c4be7f ]] {\r\n",
       "}\r\n",
       "comp usage \"a2: A \" as E11  <<(T,blue) item>> [[psysml:7b14a527-4e8d-41df-a91b-3ca9db44b1d9 ]] {\r\n",
       "}\r\n",
       "}\r\n",
       "E2 - -:|> E3 [[psysml:2913aa14-34e4-4ebc-b3c0-73cbbe37a712 ]] \r\n",
       "E3 *- - \"1\"E4 [[psysml:5a70b25d-3e65-48fe-9200-ece04e9de0ee ]] \r\n",
       "E3 o- - \"1\"E5 [[psysml:98aba136-2768-4c7e-bc34-95a5a6a911cd ]] \r\n",
       "E4 - -:|> E6 [[psysml:04be4dec-9fb2-423c-a400-1c82afc162c3 ]] \r\n",
       "E6 *- - \"1\"E7 [[psysml:88a05b08-39fe-46e7-8c9b-5df9e56fb426 ]] \r\n",
       "E7 - -:|> E3 [[psysml:de23f89f-df32-45d9-b344-47d8d19c4edc ]] \r\n",
       "E5 - -:|> E8 [[psysml:feaf6c57-7b20-4701-8323-0c325a1238bf ]] \r\n",
       "E8 o- - E3 [[psysml:f63e9e98-9395-484c-b7ba-710e403c3592 ]] : y\r\n",
       "E8 o- - E6 [[psysml:f63e9e98-9395-484c-b7ba-710e403c3592 ]] : y\r\n",
       "E8 o- - E3 [[psysml:f63e9e98-9395-484c-b7ba-710e403c3592 ]] : y\r\n",
       "E8 o- - E6 [[psysml:f63e9e98-9395-484c-b7ba-710e403c3592 ]] : y\r\n",
       "E9 o- - \"1\"E10 [[psysml:f7fd9ae3-3fa5-48e2-b146-bf2078e3bf75 ]] \r\n",
       "E10 - -:|> E3 [[psysml:09a722a7-3c7d-4d30-9bcf-d6d93c165304 ]] \r\n",
       "E9 o- - \"1\"E11 [[psysml:2308c13a-9c40-4baf-abe1-b4752fcfac30 ]] \r\n",
       "E11 - -:|> E3 [[psysml:713baad2-05ac-404b-8904-f9720a0da3f6 ]] \r\n",
       "@enduml\r\n",
       "\n",
       "PlantUML version 1.2020.13(Sat Jun 13 12:26:38 UTC 2020)\n",
       "(EPL source distribution)\n",
       "Java Runtime: OpenJDK Runtime Environment\n",
       "JVM: OpenJDK 64-Bit Server VM\n",
       "Default Encoding: UTF-8\n",
       "Language: en\n",
       "Country: null\n",
       "--></g></svg>"
      ]
     },
     "execution_count": 23,
     "metadata": {},
     "output_type": "execute_result"
    }
   ],
   "source": [
    "%viz --style=\"STDCOLOR\" --view=\"Default\" \"ItemTest\""
   ]
  },
  {
   "cell_type": "code",
   "execution_count": 24,
   "id": "f163bf76",
   "metadata": {
    "execution": {
     "iopub.execute_input": "2021-10-25T08:20:54.338820Z",
     "iopub.status.busy": "2021-10-25T08:20:54.338337Z",
     "iopub.status.idle": "2021-10-25T08:20:54.399727Z",
     "shell.execute_reply": "2021-10-25T08:20:54.397627Z"
    }
   },
   "outputs": [
    {
     "data": {
      "image/svg+xml": [
       "<?xml version=\"1.0\" encoding=\"UTF-8\" standalone=\"no\"?><svg xmlns=\"http://www.w3.org/2000/svg\" xmlns:xlink=\"http://www.w3.org/1999/xlink\" contentScriptType=\"application/ecmascript\" contentStyleType=\"text/css\" height=\"848px\" preserveAspectRatio=\"none\" style=\"width:344px;height:848px;\" version=\"1.1\" viewBox=\"0 0 344 848\" width=\"344px\" zoomAndPan=\"magnify\"><defs><filter height=\"300%\" id=\"f1p5otz1h1tvku\" width=\"300%\" x=\"-1\" y=\"-1\"><feGaussianBlur result=\"blurOut\" stdDeviation=\"2.0\"/><feColorMatrix in=\"blurOut\" result=\"blurOut2\" type=\"matrix\" values=\"0 0 0 0 0 0 0 0 0 0 0 0 0 0 0 0 0 0 .4 0\"/><feOffset dx=\"4.0\" dy=\"4.0\" in=\"blurOut2\" result=\"blurOut3\"/><feBlend in=\"SourceGraphic\" in2=\"blurOut3\" mode=\"normal\"/></filter></defs><g><!--MD5=[fbc87193dbaf4d95561dea2c320d4a47]\n",
       "cluster E1--><a href=\"psysml:9c84b130-4496-45dd-acf0-f614adf4451b\" target=\"_top\" title=\"psysml:9c84b130-4496-45dd-acf0-f614adf4451b\" xlink:actuate=\"onRequest\" xlink:href=\"psysml:9c84b130-4496-45dd-acf0-f614adf4451b\" xlink:show=\"new\" xlink:title=\"psysml:9c84b130-4496-45dd-acf0-f614adf4451b\" xlink:type=\"simple\"><polygon fill=\"#FFFFFF\" filter=\"url(#f1p5otz1h1tvku)\" points=\"16,6,83,6,90,28.2969,322,28.2969,322,836,16,836,16,6\" style=\"stroke: #000000; stroke-width: 1.5;\"/><line style=\"stroke: #000000; stroke-width: 1.5;\" x1=\"16\" x2=\"90\" y1=\"28.2969\" y2=\"28.2969\"/><text fill=\"#000000\" font-family=\"sans-serif\" font-size=\"14\" font-weight=\"bold\" lengthAdjust=\"spacingAndGlyphs\" textLength=\"61\" x=\"20\" y=\"20.9951\">ItemTest</text></a><!--MD5=[b4997ac47864f28c2f74865a473b2911]\n",
       "class E2--><a href=\"psysml:046ce2e8-70d6-418b-9e34-4058f6a1e698\" target=\"_top\" title=\"psysml:046ce2e8-70d6-418b-9e34-4058f6a1e698\" xlink:actuate=\"onRequest\" xlink:href=\"psysml:046ce2e8-70d6-418b-9e34-4058f6a1e698\" xlink:show=\"new\" xlink:title=\"psysml:046ce2e8-70d6-418b-9e34-4058f6a1e698\" xlink:type=\"simple\"><rect fill=\"#FEFECE\" filter=\"url(#f1p5otz1h1tvku)\" height=\"45.9375\" id=\"E2\" rx=\"10\" ry=\"10\" style=\"stroke: #A80036; stroke-width: 1.5;\" width=\"43\" x=\"239.5\" y=\"148\"/><text fill=\"#000000\" font-family=\"sans-serif\" font-size=\"12\" font-style=\"italic\" lengthAdjust=\"spacingAndGlyphs\" textLength=\"41\" x=\"240.5\" y=\"164.1387\">«item»</text><text fill=\"#000000\" font-family=\"sans-serif\" font-size=\"12\" lengthAdjust=\"spacingAndGlyphs\" textLength=\"20\" x=\"249\" y=\"178.1074\">f: A</text><line style=\"stroke: #A80036; stroke-width: 1.5;\" x1=\"240.5\" x2=\"281.5\" y1=\"185.9375\" y2=\"185.9375\"/></a><!--MD5=[09b614a08d8cba4a07c9adeb5e0fee81]\n",
       "class E3--><a href=\"psysml:b761bda6-ef45-4173-adbe-8f17f5dd59b9\" target=\"_top\" title=\"psysml:b761bda6-ef45-4173-adbe-8f17f5dd59b9\" xlink:actuate=\"onRequest\" xlink:href=\"psysml:b761bda6-ef45-4173-adbe-8f17f5dd59b9\" xlink:show=\"new\" xlink:title=\"psysml:b761bda6-ef45-4173-adbe-8f17f5dd59b9\" xlink:type=\"simple\"><rect fill=\"#FEFECE\" filter=\"url(#f1p5otz1h1tvku)\" height=\"45.9375\" id=\"E3\" style=\"stroke: #A80036; stroke-width: 1.5;\" width=\"71\" x=\"147.5\" y=\"255\"/><text fill=\"#000000\" font-family=\"sans-serif\" font-size=\"12\" font-style=\"italic\" lengthAdjust=\"spacingAndGlyphs\" textLength=\"69\" x=\"148.5\" y=\"271.1387\">«item  def»</text><text fill=\"#000000\" font-family=\"sans-serif\" font-size=\"12\" lengthAdjust=\"spacingAndGlyphs\" textLength=\"8\" x=\"179\" y=\"285.1074\">A</text><line style=\"stroke: #A80036; stroke-width: 1.5;\" x1=\"148.5\" x2=\"217.5\" y1=\"292.9375\" y2=\"292.9375\"/></a><!--MD5=[ebbe1d658d1005bcc118a6aa81145e00]\n",
       "class E4--><a href=\"psysml:5a9b7c1e-d921-40a5-84d4-dcafad1b8599\" target=\"_top\" title=\"psysml:5a9b7c1e-d921-40a5-84d4-dcafad1b8599\" xlink:actuate=\"onRequest\" xlink:href=\"psysml:5a9b7c1e-d921-40a5-84d4-dcafad1b8599\" xlink:show=\"new\" xlink:title=\"psysml:5a9b7c1e-d921-40a5-84d4-dcafad1b8599\" xlink:type=\"simple\"><rect fill=\"#FEFECE\" filter=\"url(#f1p5otz1h1tvku)\" height=\"45.9375\" id=\"E4\" rx=\"10\" ry=\"10\" style=\"stroke: #A80036; stroke-width: 1.5;\" width=\"43\" x=\"255.5\" y=\"438\"/><text fill=\"#000000\" font-family=\"sans-serif\" font-size=\"12\" font-style=\"italic\" lengthAdjust=\"spacingAndGlyphs\" textLength=\"41\" x=\"256.5\" y=\"454.1387\">«item»</text><text fill=\"#000000\" font-family=\"sans-serif\" font-size=\"12\" lengthAdjust=\"spacingAndGlyphs\" textLength=\"24\" x=\"263\" y=\"468.1074\">b: B</text><line style=\"stroke: #A80036; stroke-width: 1.5;\" x1=\"256.5\" x2=\"297.5\" y1=\"475.9375\" y2=\"475.9375\"/></a><!--MD5=[270fce915f116d4de14055a7c1d9a0f3]\n",
       "class E5--><a href=\"psysml:c52e7c62-32ae-43e1-a51e-2d7f86512260\" target=\"_top\" title=\"psysml:c52e7c62-32ae-43e1-a51e-2d7f86512260\" xlink:actuate=\"onRequest\" xlink:href=\"psysml:c52e7c62-32ae-43e1-a51e-2d7f86512260\" xlink:show=\"new\" xlink:title=\"psysml:c52e7c62-32ae-43e1-a51e-2d7f86512260\" xlink:type=\"simple\"><rect fill=\"#FEFECE\" filter=\"url(#f1p5otz1h1tvku)\" height=\"45.9375\" id=\"E5\" rx=\"10\" ry=\"10\" style=\"stroke: #A80036; stroke-width: 1.5;\" width=\"42\" x=\"227\" y=\"362\"/><text fill=\"#000000\" font-family=\"sans-serif\" font-size=\"12\" font-style=\"italic\" lengthAdjust=\"spacingAndGlyphs\" textLength=\"40\" x=\"228\" y=\"378.1387\">«part»</text><text fill=\"#000000\" font-family=\"sans-serif\" font-size=\"12\" lengthAdjust=\"spacingAndGlyphs\" textLength=\"23\" x=\"234.5\" y=\"392.1074\">c: C</text><line style=\"stroke: #A80036; stroke-width: 1.5;\" x1=\"228\" x2=\"268\" y1=\"399.9375\" y2=\"399.9375\"/></a><!--MD5=[60a26617385b1d2d0262a64233df1f8d]\n",
       "class E6--><a href=\"psysml:154f7142-f3c2-4f8f-a55c-1d31f59952e7\" target=\"_top\" title=\"psysml:154f7142-f3c2-4f8f-a55c-1d31f59952e7\" xlink:actuate=\"onRequest\" xlink:href=\"psysml:154f7142-f3c2-4f8f-a55c-1d31f59952e7\" xlink:show=\"new\" xlink:title=\"psysml:154f7142-f3c2-4f8f-a55c-1d31f59952e7\" xlink:type=\"simple\"><rect fill=\"#FEFECE\" filter=\"url(#f1p5otz1h1tvku)\" height=\"45.9375\" id=\"E6\" style=\"stroke: #A80036; stroke-width: 1.5;\" width=\"71\" x=\"146.5\" y=\"667\"/><text fill=\"#000000\" font-family=\"sans-serif\" font-size=\"12\" font-style=\"italic\" lengthAdjust=\"spacingAndGlyphs\" textLength=\"69\" x=\"147.5\" y=\"683.1387\">«item  def»</text><text fill=\"#000000\" font-family=\"sans-serif\" font-size=\"12\" font-style=\"italic\" lengthAdjust=\"spacingAndGlyphs\" textLength=\"8\" x=\"178\" y=\"697.1074\">B</text><line style=\"stroke: #A80036; stroke-width: 1.5;\" x1=\"147.5\" x2=\"216.5\" y1=\"704.9375\" y2=\"704.9375\"/></a><!--MD5=[2156ba9850f5573cc1fc38a6a4b2f02b]\n",
       "class E7--><a href=\"psysml:3092a58e-bc17-492e-b3ac-d9b0c5d27ee1\" target=\"_top\" title=\"psysml:3092a58e-bc17-492e-b3ac-d9b0c5d27ee1\" xlink:actuate=\"onRequest\" xlink:href=\"psysml:3092a58e-bc17-492e-b3ac-d9b0c5d27ee1\" xlink:show=\"new\" xlink:title=\"psysml:3092a58e-bc17-492e-b3ac-d9b0c5d27ee1\" xlink:type=\"simple\"><rect fill=\"#FEFECE\" filter=\"url(#f1p5otz1h1tvku)\" height=\"45.9375\" id=\"E7\" rx=\"10\" ry=\"10\" style=\"stroke: #A80036; stroke-width: 1.5;\" width=\"42\" x=\"96\" y=\"774\"/><text fill=\"#000000\" font-family=\"sans-serif\" font-size=\"12\" font-style=\"italic\" lengthAdjust=\"spacingAndGlyphs\" textLength=\"40\" x=\"97\" y=\"790.1387\">«part»</text><text fill=\"#000000\" font-family=\"sans-serif\" font-size=\"12\" font-style=\"italic\" lengthAdjust=\"spacingAndGlyphs\" textLength=\"8\" x=\"103\" y=\"804.1074\">a</text><text fill=\"#000000\" font-family=\"sans-serif\" font-size=\"12\" lengthAdjust=\"spacingAndGlyphs\" textLength=\"16\" x=\"111\" y=\"804.1074\">: A</text><line style=\"stroke: #A80036; stroke-width: 1.5;\" x1=\"97\" x2=\"137\" y1=\"811.9375\" y2=\"811.9375\"/></a><!--MD5=[b9389687b975829384b498ac4b7476b2]\n",
       "class E8--><a href=\"psysml:a977dc12-1522-4e17-86ea-88834b4a9262\" target=\"_top\" title=\"psysml:a977dc12-1522-4e17-86ea-88834b4a9262\" xlink:actuate=\"onRequest\" xlink:href=\"psysml:a977dc12-1522-4e17-86ea-88834b4a9262\" xlink:show=\"new\" xlink:title=\"psysml:a977dc12-1522-4e17-86ea-88834b4a9262\" xlink:type=\"simple\"><rect fill=\"#FEFECE\" filter=\"url(#f1p5otz1h1tvku)\" height=\"75.5469\" id=\"E8\" style=\"stroke: #A80036; stroke-width: 1.5;\" width=\"75\" x=\"145.5\" y=\"514\"/><text fill=\"#000000\" font-family=\"sans-serif\" font-size=\"12\" font-style=\"italic\" lengthAdjust=\"spacingAndGlyphs\" textLength=\"68\" x=\"149\" y=\"530.1387\">«part  def»</text><text fill=\"#000000\" font-family=\"sans-serif\" font-size=\"12\" lengthAdjust=\"spacingAndGlyphs\" textLength=\"8\" x=\"179\" y=\"544.1074\">C</text><line style=\"stroke: #A80036; stroke-width: 1.5;\" x1=\"146.5\" x2=\"219.5\" y1=\"551.9375\" y2=\"551.9375\"/><text fill=\"#000000\" font-family=\"sans-serif\" font-size=\"11\" font-weight=\"bold\" lengthAdjust=\"spacingAndGlyphs\" textLength=\"10\" x=\"151.5\" y=\"582.9526\">in</text><text fill=\"#000000\" font-family=\"sans-serif\" font-size=\"11\" lengthAdjust=\"spacingAndGlyphs\" textLength=\"37\" x=\"165.5\" y=\"582.9526\">y: A, B</text><line style=\"stroke: #A80036; stroke-width: 1.0;\" x1=\"146.5\" x2=\"149.5\" y1=\"566.3398\" y2=\"566.3398\"/><text fill=\"#000000\" font-family=\"sans-serif\" font-size=\"11\" lengthAdjust=\"spacingAndGlyphs\" textLength=\"67\" x=\"149.5\" y=\"569.6479\">parameters</text><line style=\"stroke: #A80036; stroke-width: 1.0;\" x1=\"216.5\" x2=\"219.5\" y1=\"566.3398\" y2=\"566.3398\"/></a><!--MD5=[fd4143e9d270a159db93a4ea2a975926]\n",
       "class E9--><a href=\"psysml:505a0904-767f-4431-bdaf-f395e9a256c5\" target=\"_top\" title=\"psysml:505a0904-767f-4431-bdaf-f395e9a256c5\" xlink:actuate=\"onRequest\" xlink:href=\"psysml:505a0904-767f-4431-bdaf-f395e9a256c5\" xlink:show=\"new\" xlink:title=\"psysml:505a0904-767f-4431-bdaf-f395e9a256c5\" xlink:type=\"simple\"><rect fill=\"#FEFECE\" filter=\"url(#f1p5otz1h1tvku)\" height=\"45.9375\" id=\"E9\" style=\"stroke: #A80036; stroke-width: 1.5;\" width=\"70\" x=\"109\" y=\"41\"/><text fill=\"#000000\" font-family=\"sans-serif\" font-size=\"12\" font-style=\"italic\" lengthAdjust=\"spacingAndGlyphs\" textLength=\"68\" x=\"110\" y=\"57.1387\">«port  def»</text><text fill=\"#000000\" font-family=\"sans-serif\" font-size=\"12\" lengthAdjust=\"spacingAndGlyphs\" textLength=\"8\" x=\"140\" y=\"71.1074\">P</text><line style=\"stroke: #A80036; stroke-width: 1.5;\" x1=\"110\" x2=\"178\" y1=\"78.9375\" y2=\"78.9375\"/></a><!--MD5=[96f4274e9e20536e775497830990834d]\n",
       "class E10--><a href=\"psysml:b48ee9ab-0a15-45ce-8465-86ae83c4be7f\" target=\"_top\" title=\"psysml:b48ee9ab-0a15-45ce-8465-86ae83c4be7f\" xlink:actuate=\"onRequest\" xlink:href=\"psysml:b48ee9ab-0a15-45ce-8465-86ae83c4be7f\" xlink:show=\"new\" xlink:title=\"psysml:b48ee9ab-0a15-45ce-8465-86ae83c4be7f\" xlink:type=\"simple\"><rect fill=\"#FEFECE\" filter=\"url(#f1p5otz1h1tvku)\" height=\"45.9375\" id=\"E10\" rx=\"10\" ry=\"10\" style=\"stroke: #A80036; stroke-width: 1.5;\" width=\"43\" x=\"83.5\" y=\"148\"/><text fill=\"#000000\" font-family=\"sans-serif\" font-size=\"12\" font-style=\"italic\" lengthAdjust=\"spacingAndGlyphs\" textLength=\"41\" x=\"84.5\" y=\"164.1387\">«item»</text><text fill=\"#000000\" font-family=\"sans-serif\" font-size=\"12\" lengthAdjust=\"spacingAndGlyphs\" textLength=\"32\" x=\"87\" y=\"178.1074\">a1: A</text><line style=\"stroke: #A80036; stroke-width: 1.5;\" x1=\"84.5\" x2=\"125.5\" y1=\"185.9375\" y2=\"185.9375\"/></a><!--MD5=[1dd1bfd58a279cf63c5f349dbc8fc6a1]\n",
       "class E11--><a href=\"psysml:7b14a527-4e8d-41df-a91b-3ca9db44b1d9\" target=\"_top\" title=\"psysml:7b14a527-4e8d-41df-a91b-3ca9db44b1d9\" xlink:actuate=\"onRequest\" xlink:href=\"psysml:7b14a527-4e8d-41df-a91b-3ca9db44b1d9\" xlink:show=\"new\" xlink:title=\"psysml:7b14a527-4e8d-41df-a91b-3ca9db44b1d9\" xlink:type=\"simple\"><rect fill=\"#FEFECE\" filter=\"url(#f1p5otz1h1tvku)\" height=\"45.9375\" id=\"E11\" rx=\"10\" ry=\"10\" style=\"stroke: #A80036; stroke-width: 1.5;\" width=\"43\" x=\"161.5\" y=\"148\"/><text fill=\"#000000\" font-family=\"sans-serif\" font-size=\"12\" font-style=\"italic\" lengthAdjust=\"spacingAndGlyphs\" textLength=\"41\" x=\"162.5\" y=\"164.1387\">«item»</text><text fill=\"#000000\" font-family=\"sans-serif\" font-size=\"12\" lengthAdjust=\"spacingAndGlyphs\" textLength=\"32\" x=\"165\" y=\"178.1074\">a2: A</text><line style=\"stroke: #A80036; stroke-width: 1.5;\" x1=\"162.5\" x2=\"203.5\" y1=\"185.9375\" y2=\"185.9375\"/></a><!--MD5=[2720a5a1f2c3fca2055b230370638851]\n",
       "link E2 to E3--><a href=\"psysml:2913aa14-34e4-4ebc-b3c0-73cbbe37a712\" target=\"_top\" title=\"psysml:2913aa14-34e4-4ebc-b3c0-73cbbe37a712\" xlink:actuate=\"onRequest\" xlink:href=\"psysml:2913aa14-34e4-4ebc-b3c0-73cbbe37a712\" xlink:show=\"new\" xlink:title=\"psysml:2913aa14-34e4-4ebc-b3c0-73cbbe37a712\" xlink:type=\"simple\"><path d=\"M244.65,194.01 C235.14,206.81 222.89,223.3 211.82,238.2 \" fill=\"none\" id=\"E2-&gt;E3\" style=\"stroke: #A80036; stroke-width: 1.0;\"/><polygon fill=\"#FFFFFF\" points=\"199.6,254.66,205.3195,235.2361,216.5543,243.5896,199.6,254.66\" style=\"stroke: #A80036; stroke-width: 1.0;\"/><ellipse cx=\"210.3256\" cy=\"231.8554\" fill=\"#A80036\" rx=\"2\" ry=\"2\" style=\"stroke: #A80036; stroke-width: 1.0;\"/><ellipse cx=\"218.3504\" cy=\"237.8221\" fill=\"#A80036\" rx=\"2\" ry=\"2\" style=\"stroke: #A80036; stroke-width: 1.0;\"/></a><!--MD5=[4672eba38e49728da53d11aeb285b987]\n",
       "reverse link E3 to E4--><a href=\"psysml:5a70b25d-3e65-48fe-9200-ece04e9de0ee\" target=\"_top\" title=\"psysml:5a70b25d-3e65-48fe-9200-ece04e9de0ee\" xlink:actuate=\"onRequest\" xlink:href=\"psysml:5a70b25d-3e65-48fe-9200-ece04e9de0ee\" xlink:show=\"new\" xlink:title=\"psysml:5a70b25d-3e65-48fe-9200-ece04e9de0ee\" xlink:type=\"simple\"><path d=\"M229.65,303.21 C251.35,317.2 274.97,337.01 287,362 C298.57,386.04 292.33,417.17 285.68,437.83 \" fill=\"none\" id=\"E3&lt;-E4\" style=\"stroke: #A80036; stroke-width: 1.0;\"/><polygon fill=\"#A80036\" points=\"218.55,296.43,221.5791,302.974,228.7848,302.6949,225.7557,296.1508,218.55,296.43\" style=\"stroke: #A80036; stroke-width: 1.0;\"/><text fill=\"#000000\" font-family=\"sans-serif\" font-size=\"13\" lengthAdjust=\"spacingAndGlyphs\" textLength=\"8\" x=\"278.8793\" y=\"427.0627\">1</text></a><!--MD5=[191cde3d490a3f6d7bb551fe3ddca469]\n",
       "reverse link E3 to E5--><a href=\"psysml:98aba136-2768-4c7e-bc34-95a5a6a911cd\" target=\"_top\" title=\"psysml:98aba136-2768-4c7e-bc34-95a5a6a911cd\" xlink:actuate=\"onRequest\" xlink:href=\"psysml:98aba136-2768-4c7e-bc34-95a5a6a911cd\" xlink:show=\"new\" xlink:title=\"psysml:98aba136-2768-4c7e-bc34-95a5a6a911cd\" xlink:type=\"simple\"><path d=\"M203.52,312.15 C213.51,328.29 225.26,347.26 234.17,361.66 \" fill=\"none\" id=\"E3&lt;-E5\" style=\"stroke: #A80036; stroke-width: 1.0;\"/><polygon fill=\"#FFFFFF\" points=\"196.63,301.01,196.3861,308.217,202.9449,311.214,203.1888,304.007,196.63,301.01\" style=\"stroke: #A80036; stroke-width: 1.0;\"/><text fill=\"#000000\" font-family=\"sans-serif\" font-size=\"13\" lengthAdjust=\"spacingAndGlyphs\" textLength=\"8\" x=\"221.6011\" y=\"350.8492\">1</text></a><!--MD5=[79568f1e445c3877b6a54524624ccc7d]\n",
       "link E4 to E6--><a href=\"psysml:04be4dec-9fb2-423c-a400-1c82afc162c3\" target=\"_top\" title=\"psysml:04be4dec-9fb2-423c-a400-1c82afc162c3\" xlink:actuate=\"onRequest\" xlink:href=\"psysml:04be4dec-9fb2-423c-a400-1c82afc162c3\" xlink:show=\"new\" xlink:title=\"psysml:04be4dec-9fb2-423c-a400-1c82afc162c3\" xlink:type=\"simple\"><path d=\"M271.8,484.26 C265.37,510.22 253.39,554.13 238,590 C229.26,610.36 217.43,631.9 206.88,649.66 \" fill=\"none\" id=\"E4-&gt;E6\" style=\"stroke: #A80036; stroke-width: 1.0;\"/><polygon fill=\"#FFFFFF\" points=\"196.36,666.92,200.2791,647.0544,212.2307,654.3454,196.36,666.92\" style=\"stroke: #A80036; stroke-width: 1.0;\"/><ellipse cx=\"204.955\" cy=\"643.23\" fill=\"#A80036\" rx=\"2\" ry=\"2\" style=\"stroke: #A80036; stroke-width: 1.0;\"/><ellipse cx=\"213.4918\" cy=\"648.4378\" fill=\"#A80036\" rx=\"2\" ry=\"2\" style=\"stroke: #A80036; stroke-width: 1.0;\"/></a><!--MD5=[3f50a3473f1dfb74d3f76443e03635af]\n",
       "reverse link E6 to E7--><a href=\"psysml:88a05b08-39fe-46e7-8c9b-5df9e56fb426\" target=\"_top\" title=\"psysml:88a05b08-39fe-46e7-8c9b-5df9e56fb426\" xlink:actuate=\"onRequest\" xlink:href=\"psysml:88a05b08-39fe-46e7-8c9b-5df9e56fb426\" xlink:show=\"new\" xlink:title=\"psysml:88a05b08-39fe-46e7-8c9b-5df9e56fb426\" xlink:type=\"simple\"><path d=\"M161.48,724.15 C151.49,740.29 139.74,759.26 130.83,773.66 \" fill=\"none\" id=\"E6&lt;-E7\" style=\"stroke: #A80036; stroke-width: 1.0;\"/><polygon fill=\"#A80036\" points=\"168.37,713.01,161.8112,716.007,162.0551,723.214,168.6139,720.217,168.37,713.01\" style=\"stroke: #A80036; stroke-width: 1.0;\"/><text fill=\"#000000\" font-family=\"sans-serif\" font-size=\"13\" lengthAdjust=\"spacingAndGlyphs\" textLength=\"8\" x=\"125.3489\" y=\"762.8492\">1</text></a><!--MD5=[14ccda38c055a5c0da953d572bc50960]\n",
       "link E7 to E3--><a href=\"psysml:de23f89f-df32-45d9-b344-47d8d19c4edc\" target=\"_top\" title=\"psysml:de23f89f-df32-45d9-b344-47d8d19c4edc\" xlink:actuate=\"onRequest\" xlink:href=\"psysml:de23f89f-df32-45d9-b344-47d8d19c4edc\" xlink:show=\"new\" xlink:title=\"psysml:de23f89f-df32-45d9-b344-47d8d19c4edc\" xlink:type=\"simple\"><path d=\"M95.8,782.47 C70.92,764.75 33,731.15 33,691 C33,384 33,384 33,384 C33,335.87 85.48,307.94 128.35,293.16 \" fill=\"none\" id=\"E7-&gt;E3\" style=\"stroke: #A80036; stroke-width: 1.0;\"/><polygon fill=\"#FFFFFF\" points=\"147.45,287.18,131.4154,299.545,127.2259,286.1865,147.45,287.18\" style=\"stroke: #A80036; stroke-width: 1.0;\"/><ellipse cx=\"125.3781\" cy=\"299.3424\" fill=\"#A80036\" rx=\"2\" ry=\"2\" style=\"stroke: #A80036; stroke-width: 1.0;\"/><ellipse cx=\"122.3856\" cy=\"289.8006\" fill=\"#A80036\" rx=\"2\" ry=\"2\" style=\"stroke: #A80036; stroke-width: 1.0;\"/></a><!--MD5=[dfaffb906826c3e5aca635516100ff21]\n",
       "link E5 to E8--><a href=\"psysml:feaf6c57-7b20-4701-8323-0c325a1238bf\" target=\"_top\" title=\"psysml:feaf6c57-7b20-4701-8323-0c325a1238bf\" xlink:actuate=\"onRequest\" xlink:href=\"psysml:feaf6c57-7b20-4701-8323-0c325a1238bf\" xlink:show=\"new\" xlink:title=\"psysml:feaf6c57-7b20-4701-8323-0c325a1238bf\" xlink:type=\"simple\"><path d=\"M239.23,408.25 C230.48,430.48 216.67,465.53 204.93,495.33 \" fill=\"none\" id=\"E5-&gt;E8\" style=\"stroke: #A80036; stroke-width: 1.0;\"/><polygon fill=\"#FFFFFF\" points=\"197.58,513.98,198.027,493.7365,211.0538,498.8652,197.58,513.98\" style=\"stroke: #A80036; stroke-width: 1.0;\"/><ellipse cx=\"201.9761\" cy=\"489.1654\" fill=\"#A80036\" rx=\"2\" ry=\"2\" style=\"stroke: #A80036; stroke-width: 1.0;\"/><ellipse cx=\"211.2809\" cy=\"492.8288\" fill=\"#A80036\" rx=\"2\" ry=\"2\" style=\"stroke: #A80036; stroke-width: 1.0;\"/></a><!--MD5=[03c8294790d3c57651a1993cecff665f]\n",
       "reverse link E8 to E3--><a href=\"psysml:f63e9e98-9395-484c-b7ba-710e403c3592\" target=\"_top\" title=\"psysml:f63e9e98-9395-484c-b7ba-710e403c3592\" xlink:actuate=\"onRequest\" xlink:href=\"psysml:f63e9e98-9395-484c-b7ba-710e403c3592\" xlink:show=\"new\" xlink:title=\"psysml:f63e9e98-9395-484c-b7ba-710e403c3592\" xlink:type=\"simple\"><path d=\"M154.57,502.18 C135.93,463.97 117.34,409.52 131,362 C137.48,339.45 152.09,317.09 164.17,301.27 \" fill=\"none\" id=\"E8&lt;-E3\" style=\"stroke: #A80036; stroke-width: 1.0;\"/><polygon fill=\"#FFFFFF\" points=\"160.58,513.99,161.4217,506.8282,155.1345,503.2967,154.2928,510.4585,160.58,513.99\" style=\"stroke: #A80036; stroke-width: 1.0;\"/><text fill=\"#000000\" font-family=\"sans-serif\" font-size=\"13\" lengthAdjust=\"spacingAndGlyphs\" textLength=\"7\" x=\"132\" y=\"389.5669\">y</text></a><!--MD5=[03c8294790d3c57651a1993cecff665f]\n",
       "reverse link E8 to E3--><a href=\"psysml:f63e9e98-9395-484c-b7ba-710e403c3592\" target=\"_top\" title=\"psysml:f63e9e98-9395-484c-b7ba-710e403c3592\" xlink:actuate=\"onRequest\" xlink:href=\"psysml:f63e9e98-9395-484c-b7ba-710e403c3592\" xlink:show=\"new\" xlink:title=\"psysml:f63e9e98-9395-484c-b7ba-710e403c3592\" xlink:type=\"simple\"><path d=\"M183,500.73 C183,441.17 183,344.58 183,301.26 \" fill=\"none\" id=\"E8&lt;-E3-1\" style=\"stroke: #A80036; stroke-width: 1.0;\"/><polygon fill=\"#FFFFFF\" points=\"183,513.93,187,507.93,183,501.93,179,507.93,183,513.93\" style=\"stroke: #A80036; stroke-width: 1.0;\"/><text fill=\"#000000\" font-family=\"sans-serif\" font-size=\"13\" lengthAdjust=\"spacingAndGlyphs\" textLength=\"7\" x=\"184\" y=\"389.5669\">y</text></a><!--MD5=[0d75d2178373a6a4568e5dc728f58aef]\n",
       "reverse link E8 to E6--><a href=\"psysml:f63e9e98-9395-484c-b7ba-710e403c3592\" target=\"_top\" title=\"psysml:f63e9e98-9395-484c-b7ba-710e403c3592\" xlink:actuate=\"onRequest\" xlink:href=\"psysml:f63e9e98-9395-484c-b7ba-710e403c3592\" xlink:show=\"new\" xlink:title=\"psysml:f63e9e98-9395-484c-b7ba-710e403c3592\" xlink:type=\"simple\"><path d=\"M160.42,603.02 C157.73,614.13 156.66,625.91 159,637 C161.16,647.24 165.48,657.91 169.79,666.91 \" fill=\"none\" id=\"E8&lt;-E6\" style=\"stroke: #A80036; stroke-width: 1.0;\"/><polygon fill=\"#FFFFFF\" points=\"164.22,590.35,158.6675,594.9511,160.7791,601.8461,166.3316,597.245,164.22,590.35\" style=\"stroke: #A80036; stroke-width: 1.0;\"/><text fill=\"#000000\" font-family=\"sans-serif\" font-size=\"13\" lengthAdjust=\"spacingAndGlyphs\" textLength=\"7\" x=\"160\" y=\"633.0669\">y</text></a><!--MD5=[0d75d2178373a6a4568e5dc728f58aef]\n",
       "reverse link E8 to E6--><a href=\"psysml:f63e9e98-9395-484c-b7ba-710e403c3592\" target=\"_top\" title=\"psysml:f63e9e98-9395-484c-b7ba-710e403c3592\" xlink:actuate=\"onRequest\" xlink:href=\"psysml:f63e9e98-9395-484c-b7ba-710e403c3592\" xlink:show=\"new\" xlink:title=\"psysml:f63e9e98-9395-484c-b7ba-710e403c3592\" xlink:type=\"simple\"><path d=\"M182.63,603.33 C182.47,625.16 182.29,649.6 182.16,666.77 \" fill=\"none\" id=\"E8&lt;-E6-1\" style=\"stroke: #A80036; stroke-width: 1.0;\"/><polygon fill=\"#FFFFFF\" points=\"182.73,590.16,178.684,596.1291,182.6377,602.1596,186.6837,596.1906,182.73,590.16\" style=\"stroke: #A80036; stroke-width: 1.0;\"/><text fill=\"#000000\" font-family=\"sans-serif\" font-size=\"13\" lengthAdjust=\"spacingAndGlyphs\" textLength=\"7\" x=\"183\" y=\"633.0669\">y</text></a><!--MD5=[23ac544a70576c3e717098101004234c]\n",
       "reverse link E9 to E10--><a href=\"psysml:f7fd9ae3-3fa5-48e2-b146-bf2078e3bf75\" target=\"_top\" title=\"psysml:f7fd9ae3-3fa5-48e2-b146-bf2078e3bf75\" xlink:actuate=\"onRequest\" xlink:href=\"psysml:f7fd9ae3-3fa5-48e2-b146-bf2078e3bf75\" xlink:show=\"new\" xlink:title=\"psysml:f7fd9ae3-3fa5-48e2-b146-bf2078e3bf75\" xlink:type=\"simple\"><path d=\"M131.16,99.57 C125.28,115.39 118.49,133.68 113.3,147.66 \" fill=\"none\" id=\"E9&lt;-E10\" style=\"stroke: #A80036; stroke-width: 1.0;\"/><polygon fill=\"#FFFFFF\" points=\"135.82,87.01,129.9804,91.2408,131.6398,98.2584,137.4793,94.0276,135.82,87.01\" style=\"stroke: #A80036; stroke-width: 1.0;\"/><text fill=\"#000000\" font-family=\"sans-serif\" font-size=\"13\" lengthAdjust=\"spacingAndGlyphs\" textLength=\"8\" x=\"106.4019\" y=\"136.8492\">1</text></a><!--MD5=[feeac5eb423634930294aa81f2d25a4c]\n",
       "link E10 to E3--><a href=\"psysml:09a722a7-3c7d-4d30-9bcf-d6d93c165304\" target=\"_top\" title=\"psysml:09a722a7-3c7d-4d30-9bcf-d6d93c165304\" xlink:actuate=\"onRequest\" xlink:href=\"psysml:09a722a7-3c7d-4d30-9bcf-d6d93c165304\" xlink:show=\"new\" xlink:title=\"psysml:09a722a7-3c7d-4d30-9bcf-d6d93c165304\" xlink:type=\"simple\"><path d=\"M121.35,194.01 C130.86,206.81 143.11,223.3 154.18,238.2 \" fill=\"none\" id=\"E10-&gt;E3\" style=\"stroke: #A80036; stroke-width: 1.0;\"/><polygon fill=\"#FFFFFF\" points=\"166.4,254.66,149.4457,243.5896,160.6805,235.2361,166.4,254.66\" style=\"stroke: #A80036; stroke-width: 1.0;\"/><ellipse cx=\"147.6496\" cy=\"237.8221\" fill=\"#A80036\" rx=\"2\" ry=\"2\" style=\"stroke: #A80036; stroke-width: 1.0;\"/><ellipse cx=\"155.6744\" cy=\"231.8554\" fill=\"#A80036\" rx=\"2\" ry=\"2\" style=\"stroke: #A80036; stroke-width: 1.0;\"/></a><!--MD5=[1fc04a95fd77ad5ce46c1a3027516051]\n",
       "reverse link E9 to E11--><a href=\"psysml:2308c13a-9c40-4baf-abe1-b4752fcfac30\" target=\"_top\" title=\"psysml:2308c13a-9c40-4baf-abe1-b4752fcfac30\" xlink:actuate=\"onRequest\" xlink:href=\"psysml:2308c13a-9c40-4baf-abe1-b4752fcfac30\" xlink:show=\"new\" xlink:title=\"psysml:2308c13a-9c40-4baf-abe1-b4752fcfac30\" xlink:type=\"simple\"><path d=\"M156.84,99.57 C162.72,115.39 169.51,133.68 174.7,147.66 \" fill=\"none\" id=\"E9&lt;-E11\" style=\"stroke: #A80036; stroke-width: 1.0;\"/><polygon fill=\"#FFFFFF\" points=\"152.18,87.01,150.5207,94.0276,156.3602,98.2584,158.0196,91.2408,152.18,87.01\" style=\"stroke: #A80036; stroke-width: 1.0;\"/><text fill=\"#000000\" font-family=\"sans-serif\" font-size=\"13\" lengthAdjust=\"spacingAndGlyphs\" textLength=\"8\" x=\"163.5481\" y=\"136.8492\">1</text></a><!--MD5=[0517f1ce58c4d5483948f93845c45e26]\n",
       "link E11 to E3--><a href=\"psysml:713baad2-05ac-404b-8904-f9720a0da3f6\" target=\"_top\" title=\"psysml:713baad2-05ac-404b-8904-f9720a0da3f6\" xlink:actuate=\"onRequest\" xlink:href=\"psysml:713baad2-05ac-404b-8904-f9720a0da3f6\" xlink:show=\"new\" xlink:title=\"psysml:713baad2-05ac-404b-8904-f9720a0da3f6\" xlink:type=\"simple\"><path d=\"M183,194.01 C183,205.69 183,220.46 183,234.28 \" fill=\"none\" id=\"E11-&gt;E3\" style=\"stroke: #A80036; stroke-width: 1.0;\"/><polygon fill=\"#FFFFFF\" points=\"183,254.66,176,235.66,190,235.66,183,254.66\" style=\"stroke: #A80036; stroke-width: 1.0;\"/><ellipse cx=\"178\" cy=\"229.96\" fill=\"#A80036\" rx=\"2\" ry=\"2\" style=\"stroke: #A80036; stroke-width: 1.0;\"/><ellipse cx=\"188\" cy=\"229.96\" fill=\"#A80036\" rx=\"2\" ry=\"2\" style=\"stroke: #A80036; stroke-width: 1.0;\"/></a><!--MD5=[2577b28ab90e99e0e3d19c52263f2eea]\n",
       "@startuml\r\n",
       "skinparam wrapWidth 300\r\n",
       "hide circle\r\n",
       "\r\n",
       "package \"ItemTest\" as E1  [[psysml:9c84b130-4496-45dd-acf0-f614adf4451b ]]  {\r\n",
       "comp usage \"f: A \" as E2  <<(T,blue) item>> [[psysml:046ce2e8-70d6-418b-9e34-4058f6a1e698 ]] {\r\n",
       "}\r\n",
       "comp def \"A\" as E3  <<(T,blue) item  def>> [[psysml:b761bda6-ef45-4173-adbe-8f17f5dd59b9 ]] {\r\n",
       "}\r\n",
       "comp usage \"b: B \" as E4  <<(T,blue) item>> [[psysml:5a9b7c1e-d921-40a5-84d4-dcafad1b8599 ]] {\r\n",
       "}\r\n",
       "comp usage \"c: C \" as E5  <<(T,blue) part>> [[psysml:c52e7c62-32ae-43e1-a51e-2d7f86512260 ]] {\r\n",
       "}\r\n",
       "comp def \"<i>B</i>\" as E6  <<(T,blue) item  def>> [[psysml:154f7142-f3c2-4f8f-a55c-1d31f59952e7 ]] {\r\n",
       "}\r\n",
       "comp usage \"<i>a</i>: A \" as E7  <<(T,blue) part>> [[psysml:3092a58e-bc17-492e-b3ac-d9b0c5d27ee1 ]] {\r\n",
       "}\r\n",
       "comp def \"C\" as E8  <<(T,blue) part  def>> [[psysml:a977dc12-1522-4e17-86ea-88834b4a9262 ]] {\r\n",
       "- - parameters - -\r\n",
       "<b>in</b> y: A, B\r\n",
       "}\r\n",
       "comp def \"P\" as E9  <<(T,blue) port  def>> [[psysml:505a0904-767f-4431-bdaf-f395e9a256c5 ]] {\r\n",
       "}\r\n",
       "comp usage \"a1: A \" as E10  <<(T,blue) item>> [[psysml:b48ee9ab-0a15-45ce-8465-86ae83c4be7f ]] {\r\n",
       "}\r\n",
       "comp usage \"a2: A \" as E11  <<(T,blue) item>> [[psysml:7b14a527-4e8d-41df-a91b-3ca9db44b1d9 ]] {\r\n",
       "}\r\n",
       "}\r\n",
       "E2 - -:|> E3 [[psysml:2913aa14-34e4-4ebc-b3c0-73cbbe37a712 ]] \r\n",
       "E3 *- - \"1\"E4 [[psysml:5a70b25d-3e65-48fe-9200-ece04e9de0ee ]] \r\n",
       "E3 o- - \"1\"E5 [[psysml:98aba136-2768-4c7e-bc34-95a5a6a911cd ]] \r\n",
       "E4 - -:|> E6 [[psysml:04be4dec-9fb2-423c-a400-1c82afc162c3 ]] \r\n",
       "E6 *- - \"1\"E7 [[psysml:88a05b08-39fe-46e7-8c9b-5df9e56fb426 ]] \r\n",
       "E7 - -:|> E3 [[psysml:de23f89f-df32-45d9-b344-47d8d19c4edc ]] \r\n",
       "E5 - -:|> E8 [[psysml:feaf6c57-7b20-4701-8323-0c325a1238bf ]] \r\n",
       "E8 o- - E3 [[psysml:f63e9e98-9395-484c-b7ba-710e403c3592 ]] : y\r\n",
       "E8 o- - E6 [[psysml:f63e9e98-9395-484c-b7ba-710e403c3592 ]] : y\r\n",
       "E8 o- - E3 [[psysml:f63e9e98-9395-484c-b7ba-710e403c3592 ]] : y\r\n",
       "E8 o- - E6 [[psysml:f63e9e98-9395-484c-b7ba-710e403c3592 ]] : y\r\n",
       "E9 o- - \"1\"E10 [[psysml:f7fd9ae3-3fa5-48e2-b146-bf2078e3bf75 ]] \r\n",
       "E10 - -:|> E3 [[psysml:09a722a7-3c7d-4d30-9bcf-d6d93c165304 ]] \r\n",
       "E9 o- - \"1\"E11 [[psysml:2308c13a-9c40-4baf-abe1-b4752fcfac30 ]] \r\n",
       "E11 - -:|> E3 [[psysml:713baad2-05ac-404b-8904-f9720a0da3f6 ]] \r\n",
       "@enduml\r\n",
       "\n",
       "PlantUML version 1.2020.13(Sat Jun 13 12:26:38 UTC 2020)\n",
       "(EPL source distribution)\n",
       "Java Runtime: OpenJDK Runtime Environment\n",
       "JVM: OpenJDK 64-Bit Server VM\n",
       "Default Encoding: UTF-8\n",
       "Language: en\n",
       "Country: null\n",
       "--></g></svg>"
      ]
     },
     "execution_count": 24,
     "metadata": {},
     "output_type": "execute_result"
    }
   ],
   "source": [
    "%viz --style=\"STDCOLOR\" --view=\"Tree\" \"ItemTest\""
   ]
  },
  {
   "cell_type": "code",
   "execution_count": 25,
   "id": "467eaa79",
   "metadata": {
    "execution": {
     "iopub.execute_input": "2021-10-25T08:20:54.448843Z",
     "iopub.status.busy": "2021-10-25T08:20:54.448401Z",
     "iopub.status.idle": "2021-10-25T08:20:54.453619Z",
     "shell.execute_reply": "2021-10-25T08:20:54.453944Z"
    }
   },
   "outputs": [
    {
     "data": {
      "image/svg+xml": [
       "<?xml version=\"1.0\" encoding=\"UTF-8\" standalone=\"no\"?><svg xmlns=\"http://www.w3.org/2000/svg\" xmlns:xlink=\"http://www.w3.org/1999/xlink\" contentScriptType=\"application/ecmascript\" contentStyleType=\"text/css\" height=\"12px\" preserveAspectRatio=\"none\" style=\"width:12px;height:12px;\" version=\"1.1\" viewBox=\"0 0 12 12\" width=\"12px\" zoomAndPan=\"magnify\"><defs/><g><!--MD5=[aeeef50f102b80d730deb6443d14f702]\n",
       "@startuml\r\n",
       "skinparam wrapWidth 300\r\n",
       "hide circle\r\n",
       "\r\n",
       "@enduml\r\n",
       "\n",
       "PlantUML version 1.2020.13(Sat Jun 13 12:26:38 UTC 2020)\n",
       "(EPL source distribution)\n",
       "Java Runtime: OpenJDK Runtime Environment\n",
       "JVM: OpenJDK 64-Bit Server VM\n",
       "Default Encoding: UTF-8\n",
       "Language: en\n",
       "Country: null\n",
       "--></g></svg>"
      ]
     },
     "execution_count": 25,
     "metadata": {},
     "output_type": "execute_result"
    }
   ],
   "source": [
    "%viz --style=\"STDCOLOR\" --view=\"State\" \"ItemTest\""
   ]
  },
  {
   "cell_type": "code",
   "execution_count": 26,
   "id": "2410a933",
   "metadata": {
    "execution": {
     "iopub.execute_input": "2021-10-25T08:20:54.503877Z",
     "iopub.status.busy": "2021-10-25T08:20:54.503442Z",
     "iopub.status.idle": "2021-10-25T08:20:54.541695Z",
     "shell.execute_reply": "2021-10-25T08:20:54.539878Z"
    }
   },
   "outputs": [
    {
     "data": {
      "image/svg+xml": [
       "<?xml version=\"1.0\" encoding=\"UTF-8\" standalone=\"no\"?><svg xmlns=\"http://www.w3.org/2000/svg\" xmlns:xlink=\"http://www.w3.org/1999/xlink\" contentScriptType=\"application/ecmascript\" contentStyleType=\"text/css\" height=\"112px\" preserveAspectRatio=\"none\" style=\"width:563px;height:112px;\" version=\"1.1\" viewBox=\"0 0 563 112\" width=\"563px\" zoomAndPan=\"magnify\"><defs><filter height=\"300%\" id=\"f6i9jqx25k18n\" width=\"300%\" x=\"-1\" y=\"-1\"><feGaussianBlur result=\"blurOut\" stdDeviation=\"2.0\"/><feColorMatrix in=\"blurOut\" result=\"blurOut2\" type=\"matrix\" values=\"0 0 0 0 0 0 0 0 0 0 0 0 0 0 0 0 0 0 .4 0\"/><feOffset dx=\"4.0\" dy=\"4.0\" in=\"blurOut2\" result=\"blurOut3\"/><feBlend in=\"SourceGraphic\" in2=\"blurOut3\" mode=\"normal\"/></filter></defs><g><!--MD5=[fbc87193dbaf4d95561dea2c320d4a47]\n",
       "cluster E1--><a href=\"psysml:9c84b130-4496-45dd-acf0-f614adf4451b\" target=\"_top\" title=\"psysml:9c84b130-4496-45dd-acf0-f614adf4451b\" xlink:actuate=\"onRequest\" xlink:href=\"psysml:9c84b130-4496-45dd-acf0-f614adf4451b\" xlink:show=\"new\" xlink:title=\"psysml:9c84b130-4496-45dd-acf0-f614adf4451b\" xlink:type=\"simple\"><polygon fill=\"#FFFFFF\" filter=\"url(#f6i9jqx25k18n)\" points=\"16,6,83,6,90,28.2969,541,28.2969,541,100,16,100,16,6\" style=\"stroke: #000000; stroke-width: 1.5;\"/><line style=\"stroke: #000000; stroke-width: 1.5;\" x1=\"16\" x2=\"90\" y1=\"28.2969\" y2=\"28.2969\"/><text fill=\"#000000\" font-family=\"sans-serif\" font-size=\"14\" font-weight=\"bold\" lengthAdjust=\"spacingAndGlyphs\" textLength=\"61\" x=\"20\" y=\"20.9951\">ItemTest</text></a><g id=\"E1.E3\"><a href=\"psysml:b761bda6-ef45-4173-adbe-8f17f5dd59b9\" target=\"_top\" title=\"psysml:b761bda6-ef45-4173-adbe-8f17f5dd59b9\" xlink:actuate=\"onRequest\" xlink:href=\"psysml:b761bda6-ef45-4173-adbe-8f17f5dd59b9\" xlink:show=\"new\" xlink:title=\"psysml:b761bda6-ef45-4173-adbe-8f17f5dd59b9\" xlink:type=\"simple\"><rect fill=\"#FEFECE\" filter=\"url(#f6i9jqx25k18n)\" height=\"42.9375\" id=\"E3\" style=\"stroke: #A80036; stroke-width: 1.5;\" width=\"76\" x=\"449\" y=\"41\"/><text fill=\"#000000\" font-family=\"sans-serif\" font-size=\"12\" font-style=\"italic\" lengthAdjust=\"spacingAndGlyphs\" textLength=\"69\" x=\"452.5\" y=\"57.1387\">«item  def»</text><text fill=\"#000000\" font-family=\"sans-serif\" font-size=\"12\" lengthAdjust=\"spacingAndGlyphs\" textLength=\"8\" x=\"483\" y=\"71.1074\">A</text></a></g><g id=\"E1.E4\"><a href=\"psysml:154f7142-f3c2-4f8f-a55c-1d31f59952e7\" target=\"_top\" title=\"psysml:154f7142-f3c2-4f8f-a55c-1d31f59952e7\" xlink:actuate=\"onRequest\" xlink:href=\"psysml:154f7142-f3c2-4f8f-a55c-1d31f59952e7\" xlink:show=\"new\" xlink:title=\"psysml:154f7142-f3c2-4f8f-a55c-1d31f59952e7\" xlink:type=\"simple\"><rect fill=\"#FEFECE\" filter=\"url(#f6i9jqx25k18n)\" height=\"42.9375\" id=\"E4\" style=\"stroke: #A80036; stroke-width: 1.5;\" width=\"76\" x=\"338\" y=\"41\"/><text fill=\"#000000\" font-family=\"sans-serif\" font-size=\"12\" font-style=\"italic\" lengthAdjust=\"spacingAndGlyphs\" textLength=\"69\" x=\"341.5\" y=\"57.1387\">«item  def»</text><text fill=\"#000000\" font-family=\"sans-serif\" font-size=\"12\" font-style=\"italic\" lengthAdjust=\"spacingAndGlyphs\" textLength=\"8\" x=\"372\" y=\"71.1074\">B</text></a></g><g id=\"E1.E6\"><a href=\"psysml:505a0904-767f-4431-bdaf-f395e9a256c5\" target=\"_top\" title=\"psysml:505a0904-767f-4431-bdaf-f395e9a256c5\" xlink:actuate=\"onRequest\" xlink:href=\"psysml:505a0904-767f-4431-bdaf-f395e9a256c5\" xlink:show=\"new\" xlink:title=\"psysml:505a0904-767f-4431-bdaf-f395e9a256c5\" xlink:type=\"simple\"><rect fill=\"#FEFECE\" filter=\"url(#f6i9jqx25k18n)\" height=\"42.9375\" id=\"E6\" style=\"stroke: #A80036; stroke-width: 1.5;\" width=\"75\" x=\"227.5\" y=\"41\"/><text fill=\"#000000\" font-family=\"sans-serif\" font-size=\"12\" font-style=\"italic\" lengthAdjust=\"spacingAndGlyphs\" textLength=\"68\" x=\"231\" y=\"57.1387\">«port  def»</text><text fill=\"#000000\" font-family=\"sans-serif\" font-size=\"12\" lengthAdjust=\"spacingAndGlyphs\" textLength=\"8\" x=\"261\" y=\"71.1074\">P</text></a></g><g id=\"E1.E2\"><a href=\"psysml:046ce2e8-70d6-418b-9e34-4058f6a1e698\" target=\"_top\" title=\"psysml:046ce2e8-70d6-418b-9e34-4058f6a1e698\" xlink:actuate=\"onRequest\" xlink:href=\"psysml:046ce2e8-70d6-418b-9e34-4058f6a1e698\" xlink:show=\"new\" xlink:title=\"psysml:046ce2e8-70d6-418b-9e34-4058f6a1e698\" xlink:type=\"simple\"><rect fill=\"#FEFECE\" filter=\"url(#f6i9jqx25k18n)\" height=\"42.9375\" id=\"E2\" rx=\"10\" ry=\"10\" style=\"stroke: #A80036; stroke-width: 1.5;\" width=\"50\" x=\"142\" y=\"41\"/><text fill=\"#000000\" font-family=\"sans-serif\" font-size=\"12\" font-style=\"italic\" lengthAdjust=\"spacingAndGlyphs\" textLength=\"41\" x=\"146.5\" y=\"57.1387\">«item»</text><text fill=\"#000000\" font-family=\"sans-serif\" font-size=\"12\" lengthAdjust=\"spacingAndGlyphs\" textLength=\"20\" x=\"157\" y=\"71.1074\">f: A</text></a></g><g id=\"E1.E5\"><a href=\"psysml:a977dc12-1522-4e17-86ea-88834b4a9262\" target=\"_top\" title=\"psysml:a977dc12-1522-4e17-86ea-88834b4a9262\" xlink:actuate=\"onRequest\" xlink:href=\"psysml:a977dc12-1522-4e17-86ea-88834b4a9262\" xlink:show=\"new\" xlink:title=\"psysml:a977dc12-1522-4e17-86ea-88834b4a9262\" xlink:type=\"simple\"><rect fill=\"#FEFECE\" filter=\"url(#f6i9jqx25k18n)\" height=\"42.9375\" id=\"E5\" style=\"stroke: #A80036; stroke-width: 1.5;\" width=\"75\" x=\"31.5\" y=\"41\"/><text fill=\"#000000\" font-family=\"sans-serif\" font-size=\"12\" font-style=\"italic\" lengthAdjust=\"spacingAndGlyphs\" textLength=\"68\" x=\"35\" y=\"57.1387\">«part  def»</text><text fill=\"#000000\" font-family=\"sans-serif\" font-size=\"12\" lengthAdjust=\"spacingAndGlyphs\" textLength=\"8\" x=\"65\" y=\"71.1074\">C</text></a></g><!--MD5=[6e60463b374db16114de3a4203e85994]\n",
       "@startuml\r\n",
       "skinparam ranksep 10\r\n",
       "skinparam rectangle {\r\n",
       " backgroundColor<<block>> LightGreen\r\n",
       "}\r\n",
       "skinparam wrapWidth 300\r\n",
       "hide circle\r\n",
       "\r\n",
       "package \"ItemTest\" as E1  [[psysml:9c84b130-4496-45dd-acf0-f614adf4451b ]]  {\r\n",
       "rec usage \"f: A\" as E2  <<(T,blue) item>> [[psysml:046ce2e8-70d6-418b-9e34-4058f6a1e698 ]] {\r\n",
       "}\r\n",
       "def \"A\" as E3  <<(T,blue) item  def>> [[psysml:b761bda6-ef45-4173-adbe-8f17f5dd59b9 ]] \r\n",
       "def \"<i>B</i>\" as E4  <<(T,blue) item  def>> [[psysml:154f7142-f3c2-4f8f-a55c-1d31f59952e7 ]] \r\n",
       "rec def \"C\" as E5  <<(T,blue) part  def>> [[psysml:a977dc12-1522-4e17-86ea-88834b4a9262 ]] {\r\n",
       "}\r\n",
       "def \"P\" as E6  <<(T,blue) port  def>> [[psysml:505a0904-767f-4431-bdaf-f395e9a256c5 ]] \r\n",
       "}\r\n",
       "@enduml\r\n",
       "\n",
       "PlantUML version 1.2020.13(Sat Jun 13 12:26:38 UTC 2020)\n",
       "(EPL source distribution)\n",
       "Java Runtime: OpenJDK Runtime Environment\n",
       "JVM: OpenJDK 64-Bit Server VM\n",
       "Default Encoding: UTF-8\n",
       "Language: en\n",
       "Country: null\n",
       "--></g></svg>"
      ]
     },
     "execution_count": 26,
     "metadata": {},
     "output_type": "execute_result"
    }
   ],
   "source": [
    "%viz --style=\"STDCOLOR\" --view=\"Interconnection\" \"ItemTest\""
   ]
  },
  {
   "cell_type": "code",
   "execution_count": 27,
   "id": "0c0e897d",
   "metadata": {
    "execution": {
     "iopub.execute_input": "2021-10-25T08:20:54.590697Z",
     "iopub.status.busy": "2021-10-25T08:20:54.590282Z",
     "iopub.status.idle": "2021-10-25T08:20:54.594603Z",
     "shell.execute_reply": "2021-10-25T08:20:54.594972Z"
    }
   },
   "outputs": [
    {
     "data": {
      "image/svg+xml": [
       "<?xml version=\"1.0\" encoding=\"UTF-8\" standalone=\"no\"?><svg xmlns=\"http://www.w3.org/2000/svg\" xmlns:xlink=\"http://www.w3.org/1999/xlink\" contentScriptType=\"application/ecmascript\" contentStyleType=\"text/css\" height=\"12px\" preserveAspectRatio=\"none\" style=\"width:12px;height:12px;\" version=\"1.1\" viewBox=\"0 0 12 12\" width=\"12px\" zoomAndPan=\"magnify\"><defs/><g><!--MD5=[9863325348a96a77dacc89509d8ee65e]\n",
       "@startuml\r\n",
       "skinparam ranksep 8\r\n",
       "skinparam wrapWidth 300\r\n",
       "hide circle\r\n",
       "\r\n",
       "@enduml\r\n",
       "\n",
       "PlantUML version 1.2020.13(Sat Jun 13 12:26:38 UTC 2020)\n",
       "(EPL source distribution)\n",
       "Java Runtime: OpenJDK Runtime Environment\n",
       "JVM: OpenJDK 64-Bit Server VM\n",
       "Default Encoding: UTF-8\n",
       "Language: en\n",
       "Country: null\n",
       "--></g></svg>"
      ]
     },
     "execution_count": 27,
     "metadata": {},
     "output_type": "execute_result"
    }
   ],
   "source": [
    "%viz --style=\"STDCOLOR\" --view=\"Action\" \"ItemTest\""
   ]
  },
  {
   "cell_type": "code",
   "execution_count": 28,
   "id": "646c509c",
   "metadata": {
    "execution": {
     "iopub.execute_input": "2021-10-25T08:20:54.644617Z",
     "iopub.status.busy": "2021-10-25T08:20:54.644172Z",
     "iopub.status.idle": "2021-10-25T08:20:54.649611Z",
     "shell.execute_reply": "2021-10-25T08:20:54.649226Z"
    }
   },
   "outputs": [
    {
     "data": {
      "image/svg+xml": [
       "<?xml version=\"1.0\" encoding=\"UTF-8\" standalone=\"no\"?><svg xmlns=\"http://www.w3.org/2000/svg\" xmlns:xlink=\"http://www.w3.org/1999/xlink\" contentScriptType=\"application/ecmascript\" contentStyleType=\"text/css\" height=\"12px\" preserveAspectRatio=\"none\" style=\"width:12px;height:12px;\" version=\"1.1\" viewBox=\"0 0 12 12\" width=\"12px\" zoomAndPan=\"magnify\"><defs/><g><!--MD5=[6c4bca67b4d71758159a5a7f1f1e1fc2]\n",
       "@startuml\r\n",
       "skinparam roundcorner 20\r\n",
       "skinparam BoxPadding 20\r\n",
       "skinparam SequenceBoxBackgroundColor #white\r\n",
       "skinparam style strictuml\r\n",
       "skinparam maxMessageSize 100\r\n",
       "skinparam wrapWidth 300\r\n",
       "hide circle\r\n",
       "\r\n",
       "@enduml\r\n",
       "\n",
       "PlantUML version 1.2020.13(Sat Jun 13 12:26:38 UTC 2020)\n",
       "(EPL source distribution)\n",
       "Java Runtime: OpenJDK Runtime Environment\n",
       "JVM: OpenJDK 64-Bit Server VM\n",
       "Default Encoding: UTF-8\n",
       "Language: en\n",
       "Country: null\n",
       "--></g></svg>"
      ]
     },
     "execution_count": 28,
     "metadata": {},
     "output_type": "execute_result"
    }
   ],
   "source": [
    "%viz --style=\"STDCOLOR\" --view=\"Sequence\" \"ItemTest\""
   ]
  },
  {
   "cell_type": "code",
   "execution_count": 29,
   "id": "33c995f5",
   "metadata": {
    "execution": {
     "iopub.execute_input": "2021-10-25T08:20:54.699212Z",
     "iopub.status.busy": "2021-10-25T08:20:54.698753Z",
     "iopub.status.idle": "2021-10-25T08:20:54.755635Z",
     "shell.execute_reply": "2021-10-25T08:20:54.753482Z"
    }
   },
   "outputs": [
    {
     "data": {
      "image/svg+xml": [
       "<?xml version=\"1.0\" encoding=\"UTF-8\" standalone=\"no\"?><svg xmlns=\"http://www.w3.org/2000/svg\" xmlns:xlink=\"http://www.w3.org/1999/xlink\" contentScriptType=\"application/ecmascript\" contentStyleType=\"text/css\" height=\"848px\" preserveAspectRatio=\"none\" style=\"width:344px;height:848px;\" version=\"1.1\" viewBox=\"0 0 344 848\" width=\"344px\" zoomAndPan=\"magnify\"><defs><filter height=\"300%\" id=\"f1p5otz1h1tvku\" width=\"300%\" x=\"-1\" y=\"-1\"><feGaussianBlur result=\"blurOut\" stdDeviation=\"2.0\"/><feColorMatrix in=\"blurOut\" result=\"blurOut2\" type=\"matrix\" values=\"0 0 0 0 0 0 0 0 0 0 0 0 0 0 0 0 0 0 .4 0\"/><feOffset dx=\"4.0\" dy=\"4.0\" in=\"blurOut2\" result=\"blurOut3\"/><feBlend in=\"SourceGraphic\" in2=\"blurOut3\" mode=\"normal\"/></filter></defs><g><!--MD5=[fbc87193dbaf4d95561dea2c320d4a47]\n",
       "cluster E1--><a href=\"psysml:9c84b130-4496-45dd-acf0-f614adf4451b\" target=\"_top\" title=\"psysml:9c84b130-4496-45dd-acf0-f614adf4451b\" xlink:actuate=\"onRequest\" xlink:href=\"psysml:9c84b130-4496-45dd-acf0-f614adf4451b\" xlink:show=\"new\" xlink:title=\"psysml:9c84b130-4496-45dd-acf0-f614adf4451b\" xlink:type=\"simple\"><polygon fill=\"#FFFFFF\" filter=\"url(#f1p5otz1h1tvku)\" points=\"16,6,83,6,90,28.2969,322,28.2969,322,836,16,836,16,6\" style=\"stroke: #000000; stroke-width: 1.5;\"/><line style=\"stroke: #000000; stroke-width: 1.5;\" x1=\"16\" x2=\"90\" y1=\"28.2969\" y2=\"28.2969\"/><text fill=\"#000000\" font-family=\"sans-serif\" font-size=\"14\" font-weight=\"bold\" lengthAdjust=\"spacingAndGlyphs\" textLength=\"61\" x=\"20\" y=\"20.9951\">ItemTest</text></a><!--MD5=[b4997ac47864f28c2f74865a473b2911]\n",
       "class E2--><a href=\"psysml:046ce2e8-70d6-418b-9e34-4058f6a1e698\" target=\"_top\" title=\"psysml:046ce2e8-70d6-418b-9e34-4058f6a1e698\" xlink:actuate=\"onRequest\" xlink:href=\"psysml:046ce2e8-70d6-418b-9e34-4058f6a1e698\" xlink:show=\"new\" xlink:title=\"psysml:046ce2e8-70d6-418b-9e34-4058f6a1e698\" xlink:type=\"simple\"><rect fill=\"#FEFECE\" filter=\"url(#f1p5otz1h1tvku)\" height=\"45.9375\" id=\"E2\" rx=\"10\" ry=\"10\" style=\"stroke: #A80036; stroke-width: 1.5;\" width=\"43\" x=\"239.5\" y=\"148\"/><text fill=\"#000000\" font-family=\"sans-serif\" font-size=\"12\" font-style=\"italic\" lengthAdjust=\"spacingAndGlyphs\" textLength=\"41\" x=\"240.5\" y=\"164.1387\">«item»</text><text fill=\"#000000\" font-family=\"sans-serif\" font-size=\"12\" lengthAdjust=\"spacingAndGlyphs\" textLength=\"20\" x=\"249\" y=\"178.1074\">f: A</text><line style=\"stroke: #A80036; stroke-width: 1.5;\" x1=\"240.5\" x2=\"281.5\" y1=\"185.9375\" y2=\"185.9375\"/></a><!--MD5=[09b614a08d8cba4a07c9adeb5e0fee81]\n",
       "class E3--><a href=\"psysml:b761bda6-ef45-4173-adbe-8f17f5dd59b9\" target=\"_top\" title=\"psysml:b761bda6-ef45-4173-adbe-8f17f5dd59b9\" xlink:actuate=\"onRequest\" xlink:href=\"psysml:b761bda6-ef45-4173-adbe-8f17f5dd59b9\" xlink:show=\"new\" xlink:title=\"psysml:b761bda6-ef45-4173-adbe-8f17f5dd59b9\" xlink:type=\"simple\"><rect fill=\"#FEFECE\" filter=\"url(#f1p5otz1h1tvku)\" height=\"45.9375\" id=\"E3\" style=\"stroke: #A80036; stroke-width: 1.5;\" width=\"71\" x=\"147.5\" y=\"255\"/><text fill=\"#000000\" font-family=\"sans-serif\" font-size=\"12\" font-style=\"italic\" lengthAdjust=\"spacingAndGlyphs\" textLength=\"69\" x=\"148.5\" y=\"271.1387\">«item  def»</text><text fill=\"#000000\" font-family=\"sans-serif\" font-size=\"12\" lengthAdjust=\"spacingAndGlyphs\" textLength=\"8\" x=\"179\" y=\"285.1074\">A</text><line style=\"stroke: #A80036; stroke-width: 1.5;\" x1=\"148.5\" x2=\"217.5\" y1=\"292.9375\" y2=\"292.9375\"/></a><!--MD5=[ebbe1d658d1005bcc118a6aa81145e00]\n",
       "class E4--><a href=\"psysml:5a9b7c1e-d921-40a5-84d4-dcafad1b8599\" target=\"_top\" title=\"psysml:5a9b7c1e-d921-40a5-84d4-dcafad1b8599\" xlink:actuate=\"onRequest\" xlink:href=\"psysml:5a9b7c1e-d921-40a5-84d4-dcafad1b8599\" xlink:show=\"new\" xlink:title=\"psysml:5a9b7c1e-d921-40a5-84d4-dcafad1b8599\" xlink:type=\"simple\"><rect fill=\"#FEFECE\" filter=\"url(#f1p5otz1h1tvku)\" height=\"45.9375\" id=\"E4\" rx=\"10\" ry=\"10\" style=\"stroke: #A80036; stroke-width: 1.5;\" width=\"43\" x=\"255.5\" y=\"438\"/><text fill=\"#000000\" font-family=\"sans-serif\" font-size=\"12\" font-style=\"italic\" lengthAdjust=\"spacingAndGlyphs\" textLength=\"41\" x=\"256.5\" y=\"454.1387\">«item»</text><text fill=\"#000000\" font-family=\"sans-serif\" font-size=\"12\" lengthAdjust=\"spacingAndGlyphs\" textLength=\"24\" x=\"263\" y=\"468.1074\">b: B</text><line style=\"stroke: #A80036; stroke-width: 1.5;\" x1=\"256.5\" x2=\"297.5\" y1=\"475.9375\" y2=\"475.9375\"/></a><!--MD5=[270fce915f116d4de14055a7c1d9a0f3]\n",
       "class E5--><a href=\"psysml:c52e7c62-32ae-43e1-a51e-2d7f86512260\" target=\"_top\" title=\"psysml:c52e7c62-32ae-43e1-a51e-2d7f86512260\" xlink:actuate=\"onRequest\" xlink:href=\"psysml:c52e7c62-32ae-43e1-a51e-2d7f86512260\" xlink:show=\"new\" xlink:title=\"psysml:c52e7c62-32ae-43e1-a51e-2d7f86512260\" xlink:type=\"simple\"><rect fill=\"#FEFECE\" filter=\"url(#f1p5otz1h1tvku)\" height=\"45.9375\" id=\"E5\" rx=\"10\" ry=\"10\" style=\"stroke: #A80036; stroke-width: 1.5;\" width=\"42\" x=\"227\" y=\"362\"/><text fill=\"#000000\" font-family=\"sans-serif\" font-size=\"12\" font-style=\"italic\" lengthAdjust=\"spacingAndGlyphs\" textLength=\"40\" x=\"228\" y=\"378.1387\">«part»</text><text fill=\"#000000\" font-family=\"sans-serif\" font-size=\"12\" lengthAdjust=\"spacingAndGlyphs\" textLength=\"23\" x=\"234.5\" y=\"392.1074\">c: C</text><line style=\"stroke: #A80036; stroke-width: 1.5;\" x1=\"228\" x2=\"268\" y1=\"399.9375\" y2=\"399.9375\"/></a><!--MD5=[60a26617385b1d2d0262a64233df1f8d]\n",
       "class E6--><a href=\"psysml:154f7142-f3c2-4f8f-a55c-1d31f59952e7\" target=\"_top\" title=\"psysml:154f7142-f3c2-4f8f-a55c-1d31f59952e7\" xlink:actuate=\"onRequest\" xlink:href=\"psysml:154f7142-f3c2-4f8f-a55c-1d31f59952e7\" xlink:show=\"new\" xlink:title=\"psysml:154f7142-f3c2-4f8f-a55c-1d31f59952e7\" xlink:type=\"simple\"><rect fill=\"#FEFECE\" filter=\"url(#f1p5otz1h1tvku)\" height=\"45.9375\" id=\"E6\" style=\"stroke: #A80036; stroke-width: 1.5;\" width=\"71\" x=\"146.5\" y=\"667\"/><text fill=\"#000000\" font-family=\"sans-serif\" font-size=\"12\" font-style=\"italic\" lengthAdjust=\"spacingAndGlyphs\" textLength=\"69\" x=\"147.5\" y=\"683.1387\">«item  def»</text><text fill=\"#000000\" font-family=\"sans-serif\" font-size=\"12\" font-style=\"italic\" lengthAdjust=\"spacingAndGlyphs\" textLength=\"8\" x=\"178\" y=\"697.1074\">B</text><line style=\"stroke: #A80036; stroke-width: 1.5;\" x1=\"147.5\" x2=\"216.5\" y1=\"704.9375\" y2=\"704.9375\"/></a><!--MD5=[2156ba9850f5573cc1fc38a6a4b2f02b]\n",
       "class E7--><a href=\"psysml:3092a58e-bc17-492e-b3ac-d9b0c5d27ee1\" target=\"_top\" title=\"psysml:3092a58e-bc17-492e-b3ac-d9b0c5d27ee1\" xlink:actuate=\"onRequest\" xlink:href=\"psysml:3092a58e-bc17-492e-b3ac-d9b0c5d27ee1\" xlink:show=\"new\" xlink:title=\"psysml:3092a58e-bc17-492e-b3ac-d9b0c5d27ee1\" xlink:type=\"simple\"><rect fill=\"#FEFECE\" filter=\"url(#f1p5otz1h1tvku)\" height=\"45.9375\" id=\"E7\" rx=\"10\" ry=\"10\" style=\"stroke: #A80036; stroke-width: 1.5;\" width=\"42\" x=\"96\" y=\"774\"/><text fill=\"#000000\" font-family=\"sans-serif\" font-size=\"12\" font-style=\"italic\" lengthAdjust=\"spacingAndGlyphs\" textLength=\"40\" x=\"97\" y=\"790.1387\">«part»</text><text fill=\"#000000\" font-family=\"sans-serif\" font-size=\"12\" font-style=\"italic\" lengthAdjust=\"spacingAndGlyphs\" textLength=\"8\" x=\"103\" y=\"804.1074\">a</text><text fill=\"#000000\" font-family=\"sans-serif\" font-size=\"12\" lengthAdjust=\"spacingAndGlyphs\" textLength=\"16\" x=\"111\" y=\"804.1074\">: A</text><line style=\"stroke: #A80036; stroke-width: 1.5;\" x1=\"97\" x2=\"137\" y1=\"811.9375\" y2=\"811.9375\"/></a><!--MD5=[b9389687b975829384b498ac4b7476b2]\n",
       "class E8--><a href=\"psysml:a977dc12-1522-4e17-86ea-88834b4a9262\" target=\"_top\" title=\"psysml:a977dc12-1522-4e17-86ea-88834b4a9262\" xlink:actuate=\"onRequest\" xlink:href=\"psysml:a977dc12-1522-4e17-86ea-88834b4a9262\" xlink:show=\"new\" xlink:title=\"psysml:a977dc12-1522-4e17-86ea-88834b4a9262\" xlink:type=\"simple\"><rect fill=\"#FEFECE\" filter=\"url(#f1p5otz1h1tvku)\" height=\"75.5469\" id=\"E8\" style=\"stroke: #A80036; stroke-width: 1.5;\" width=\"75\" x=\"145.5\" y=\"514\"/><text fill=\"#000000\" font-family=\"sans-serif\" font-size=\"12\" font-style=\"italic\" lengthAdjust=\"spacingAndGlyphs\" textLength=\"68\" x=\"149\" y=\"530.1387\">«part  def»</text><text fill=\"#000000\" font-family=\"sans-serif\" font-size=\"12\" lengthAdjust=\"spacingAndGlyphs\" textLength=\"8\" x=\"179\" y=\"544.1074\">C</text><line style=\"stroke: #A80036; stroke-width: 1.5;\" x1=\"146.5\" x2=\"219.5\" y1=\"551.9375\" y2=\"551.9375\"/><text fill=\"#000000\" font-family=\"sans-serif\" font-size=\"11\" font-weight=\"bold\" lengthAdjust=\"spacingAndGlyphs\" textLength=\"10\" x=\"151.5\" y=\"582.9526\">in</text><text fill=\"#000000\" font-family=\"sans-serif\" font-size=\"11\" lengthAdjust=\"spacingAndGlyphs\" textLength=\"37\" x=\"165.5\" y=\"582.9526\">y: A, B</text><line style=\"stroke: #A80036; stroke-width: 1.0;\" x1=\"146.5\" x2=\"149.5\" y1=\"566.3398\" y2=\"566.3398\"/><text fill=\"#000000\" font-family=\"sans-serif\" font-size=\"11\" lengthAdjust=\"spacingAndGlyphs\" textLength=\"67\" x=\"149.5\" y=\"569.6479\">parameters</text><line style=\"stroke: #A80036; stroke-width: 1.0;\" x1=\"216.5\" x2=\"219.5\" y1=\"566.3398\" y2=\"566.3398\"/></a><!--MD5=[fd4143e9d270a159db93a4ea2a975926]\n",
       "class E9--><a href=\"psysml:505a0904-767f-4431-bdaf-f395e9a256c5\" target=\"_top\" title=\"psysml:505a0904-767f-4431-bdaf-f395e9a256c5\" xlink:actuate=\"onRequest\" xlink:href=\"psysml:505a0904-767f-4431-bdaf-f395e9a256c5\" xlink:show=\"new\" xlink:title=\"psysml:505a0904-767f-4431-bdaf-f395e9a256c5\" xlink:type=\"simple\"><rect fill=\"#FEFECE\" filter=\"url(#f1p5otz1h1tvku)\" height=\"45.9375\" id=\"E9\" style=\"stroke: #A80036; stroke-width: 1.5;\" width=\"70\" x=\"109\" y=\"41\"/><text fill=\"#000000\" font-family=\"sans-serif\" font-size=\"12\" font-style=\"italic\" lengthAdjust=\"spacingAndGlyphs\" textLength=\"68\" x=\"110\" y=\"57.1387\">«port  def»</text><text fill=\"#000000\" font-family=\"sans-serif\" font-size=\"12\" lengthAdjust=\"spacingAndGlyphs\" textLength=\"8\" x=\"140\" y=\"71.1074\">P</text><line style=\"stroke: #A80036; stroke-width: 1.5;\" x1=\"110\" x2=\"178\" y1=\"78.9375\" y2=\"78.9375\"/></a><!--MD5=[96f4274e9e20536e775497830990834d]\n",
       "class E10--><a href=\"psysml:b48ee9ab-0a15-45ce-8465-86ae83c4be7f\" target=\"_top\" title=\"psysml:b48ee9ab-0a15-45ce-8465-86ae83c4be7f\" xlink:actuate=\"onRequest\" xlink:href=\"psysml:b48ee9ab-0a15-45ce-8465-86ae83c4be7f\" xlink:show=\"new\" xlink:title=\"psysml:b48ee9ab-0a15-45ce-8465-86ae83c4be7f\" xlink:type=\"simple\"><rect fill=\"#FEFECE\" filter=\"url(#f1p5otz1h1tvku)\" height=\"45.9375\" id=\"E10\" rx=\"10\" ry=\"10\" style=\"stroke: #A80036; stroke-width: 1.5;\" width=\"43\" x=\"83.5\" y=\"148\"/><text fill=\"#000000\" font-family=\"sans-serif\" font-size=\"12\" font-style=\"italic\" lengthAdjust=\"spacingAndGlyphs\" textLength=\"41\" x=\"84.5\" y=\"164.1387\">«item»</text><text fill=\"#000000\" font-family=\"sans-serif\" font-size=\"12\" lengthAdjust=\"spacingAndGlyphs\" textLength=\"32\" x=\"87\" y=\"178.1074\">a1: A</text><line style=\"stroke: #A80036; stroke-width: 1.5;\" x1=\"84.5\" x2=\"125.5\" y1=\"185.9375\" y2=\"185.9375\"/></a><!--MD5=[1dd1bfd58a279cf63c5f349dbc8fc6a1]\n",
       "class E11--><a href=\"psysml:7b14a527-4e8d-41df-a91b-3ca9db44b1d9\" target=\"_top\" title=\"psysml:7b14a527-4e8d-41df-a91b-3ca9db44b1d9\" xlink:actuate=\"onRequest\" xlink:href=\"psysml:7b14a527-4e8d-41df-a91b-3ca9db44b1d9\" xlink:show=\"new\" xlink:title=\"psysml:7b14a527-4e8d-41df-a91b-3ca9db44b1d9\" xlink:type=\"simple\"><rect fill=\"#FEFECE\" filter=\"url(#f1p5otz1h1tvku)\" height=\"45.9375\" id=\"E11\" rx=\"10\" ry=\"10\" style=\"stroke: #A80036; stroke-width: 1.5;\" width=\"43\" x=\"161.5\" y=\"148\"/><text fill=\"#000000\" font-family=\"sans-serif\" font-size=\"12\" font-style=\"italic\" lengthAdjust=\"spacingAndGlyphs\" textLength=\"41\" x=\"162.5\" y=\"164.1387\">«item»</text><text fill=\"#000000\" font-family=\"sans-serif\" font-size=\"12\" lengthAdjust=\"spacingAndGlyphs\" textLength=\"32\" x=\"165\" y=\"178.1074\">a2: A</text><line style=\"stroke: #A80036; stroke-width: 1.5;\" x1=\"162.5\" x2=\"203.5\" y1=\"185.9375\" y2=\"185.9375\"/></a><!--MD5=[2720a5a1f2c3fca2055b230370638851]\n",
       "link E2 to E3--><a href=\"psysml:2913aa14-34e4-4ebc-b3c0-73cbbe37a712\" target=\"_top\" title=\"psysml:2913aa14-34e4-4ebc-b3c0-73cbbe37a712\" xlink:actuate=\"onRequest\" xlink:href=\"psysml:2913aa14-34e4-4ebc-b3c0-73cbbe37a712\" xlink:show=\"new\" xlink:title=\"psysml:2913aa14-34e4-4ebc-b3c0-73cbbe37a712\" xlink:type=\"simple\"><path d=\"M244.65,194.01 C235.14,206.81 222.89,223.3 211.82,238.2 \" fill=\"none\" id=\"E2-&gt;E3\" style=\"stroke: #A80036; stroke-width: 1.0;\"/><polygon fill=\"#FFFFFF\" points=\"199.6,254.66,205.3195,235.2361,216.5543,243.5896,199.6,254.66\" style=\"stroke: #A80036; stroke-width: 1.0;\"/><ellipse cx=\"210.3256\" cy=\"231.8554\" fill=\"#A80036\" rx=\"2\" ry=\"2\" style=\"stroke: #A80036; stroke-width: 1.0;\"/><ellipse cx=\"218.3504\" cy=\"237.8221\" fill=\"#A80036\" rx=\"2\" ry=\"2\" style=\"stroke: #A80036; stroke-width: 1.0;\"/></a><!--MD5=[4672eba38e49728da53d11aeb285b987]\n",
       "reverse link E3 to E4--><a href=\"psysml:5a70b25d-3e65-48fe-9200-ece04e9de0ee\" target=\"_top\" title=\"psysml:5a70b25d-3e65-48fe-9200-ece04e9de0ee\" xlink:actuate=\"onRequest\" xlink:href=\"psysml:5a70b25d-3e65-48fe-9200-ece04e9de0ee\" xlink:show=\"new\" xlink:title=\"psysml:5a70b25d-3e65-48fe-9200-ece04e9de0ee\" xlink:type=\"simple\"><path d=\"M229.65,303.21 C251.35,317.2 274.97,337.01 287,362 C298.57,386.04 292.33,417.17 285.68,437.83 \" fill=\"none\" id=\"E3&lt;-E4\" style=\"stroke: #A80036; stroke-width: 1.0;\"/><polygon fill=\"#A80036\" points=\"218.55,296.43,221.5791,302.974,228.7848,302.6949,225.7557,296.1508,218.55,296.43\" style=\"stroke: #A80036; stroke-width: 1.0;\"/><text fill=\"#000000\" font-family=\"sans-serif\" font-size=\"13\" lengthAdjust=\"spacingAndGlyphs\" textLength=\"8\" x=\"278.8793\" y=\"427.0627\">1</text></a><!--MD5=[191cde3d490a3f6d7bb551fe3ddca469]\n",
       "reverse link E3 to E5--><a href=\"psysml:98aba136-2768-4c7e-bc34-95a5a6a911cd\" target=\"_top\" title=\"psysml:98aba136-2768-4c7e-bc34-95a5a6a911cd\" xlink:actuate=\"onRequest\" xlink:href=\"psysml:98aba136-2768-4c7e-bc34-95a5a6a911cd\" xlink:show=\"new\" xlink:title=\"psysml:98aba136-2768-4c7e-bc34-95a5a6a911cd\" xlink:type=\"simple\"><path d=\"M203.52,312.15 C213.51,328.29 225.26,347.26 234.17,361.66 \" fill=\"none\" id=\"E3&lt;-E5\" style=\"stroke: #A80036; stroke-width: 1.0;\"/><polygon fill=\"#FFFFFF\" points=\"196.63,301.01,196.3861,308.217,202.9449,311.214,203.1888,304.007,196.63,301.01\" style=\"stroke: #A80036; stroke-width: 1.0;\"/><text fill=\"#000000\" font-family=\"sans-serif\" font-size=\"13\" lengthAdjust=\"spacingAndGlyphs\" textLength=\"8\" x=\"221.6011\" y=\"350.8492\">1</text></a><!--MD5=[79568f1e445c3877b6a54524624ccc7d]\n",
       "link E4 to E6--><a href=\"psysml:04be4dec-9fb2-423c-a400-1c82afc162c3\" target=\"_top\" title=\"psysml:04be4dec-9fb2-423c-a400-1c82afc162c3\" xlink:actuate=\"onRequest\" xlink:href=\"psysml:04be4dec-9fb2-423c-a400-1c82afc162c3\" xlink:show=\"new\" xlink:title=\"psysml:04be4dec-9fb2-423c-a400-1c82afc162c3\" xlink:type=\"simple\"><path d=\"M271.8,484.26 C265.37,510.22 253.39,554.13 238,590 C229.26,610.36 217.43,631.9 206.88,649.66 \" fill=\"none\" id=\"E4-&gt;E6\" style=\"stroke: #A80036; stroke-width: 1.0;\"/><polygon fill=\"#FFFFFF\" points=\"196.36,666.92,200.2791,647.0544,212.2307,654.3454,196.36,666.92\" style=\"stroke: #A80036; stroke-width: 1.0;\"/><ellipse cx=\"204.955\" cy=\"643.23\" fill=\"#A80036\" rx=\"2\" ry=\"2\" style=\"stroke: #A80036; stroke-width: 1.0;\"/><ellipse cx=\"213.4918\" cy=\"648.4378\" fill=\"#A80036\" rx=\"2\" ry=\"2\" style=\"stroke: #A80036; stroke-width: 1.0;\"/></a><!--MD5=[3f50a3473f1dfb74d3f76443e03635af]\n",
       "reverse link E6 to E7--><a href=\"psysml:88a05b08-39fe-46e7-8c9b-5df9e56fb426\" target=\"_top\" title=\"psysml:88a05b08-39fe-46e7-8c9b-5df9e56fb426\" xlink:actuate=\"onRequest\" xlink:href=\"psysml:88a05b08-39fe-46e7-8c9b-5df9e56fb426\" xlink:show=\"new\" xlink:title=\"psysml:88a05b08-39fe-46e7-8c9b-5df9e56fb426\" xlink:type=\"simple\"><path d=\"M161.48,724.15 C151.49,740.29 139.74,759.26 130.83,773.66 \" fill=\"none\" id=\"E6&lt;-E7\" style=\"stroke: #A80036; stroke-width: 1.0;\"/><polygon fill=\"#A80036\" points=\"168.37,713.01,161.8112,716.007,162.0551,723.214,168.6139,720.217,168.37,713.01\" style=\"stroke: #A80036; stroke-width: 1.0;\"/><text fill=\"#000000\" font-family=\"sans-serif\" font-size=\"13\" lengthAdjust=\"spacingAndGlyphs\" textLength=\"8\" x=\"125.3489\" y=\"762.8492\">1</text></a><!--MD5=[14ccda38c055a5c0da953d572bc50960]\n",
       "link E7 to E3--><a href=\"psysml:de23f89f-df32-45d9-b344-47d8d19c4edc\" target=\"_top\" title=\"psysml:de23f89f-df32-45d9-b344-47d8d19c4edc\" xlink:actuate=\"onRequest\" xlink:href=\"psysml:de23f89f-df32-45d9-b344-47d8d19c4edc\" xlink:show=\"new\" xlink:title=\"psysml:de23f89f-df32-45d9-b344-47d8d19c4edc\" xlink:type=\"simple\"><path d=\"M95.8,782.47 C70.92,764.75 33,731.15 33,691 C33,384 33,384 33,384 C33,335.87 85.48,307.94 128.35,293.16 \" fill=\"none\" id=\"E7-&gt;E3\" style=\"stroke: #A80036; stroke-width: 1.0;\"/><polygon fill=\"#FFFFFF\" points=\"147.45,287.18,131.4154,299.545,127.2259,286.1865,147.45,287.18\" style=\"stroke: #A80036; stroke-width: 1.0;\"/><ellipse cx=\"125.3781\" cy=\"299.3424\" fill=\"#A80036\" rx=\"2\" ry=\"2\" style=\"stroke: #A80036; stroke-width: 1.0;\"/><ellipse cx=\"122.3856\" cy=\"289.8006\" fill=\"#A80036\" rx=\"2\" ry=\"2\" style=\"stroke: #A80036; stroke-width: 1.0;\"/></a><!--MD5=[dfaffb906826c3e5aca635516100ff21]\n",
       "link E5 to E8--><a href=\"psysml:feaf6c57-7b20-4701-8323-0c325a1238bf\" target=\"_top\" title=\"psysml:feaf6c57-7b20-4701-8323-0c325a1238bf\" xlink:actuate=\"onRequest\" xlink:href=\"psysml:feaf6c57-7b20-4701-8323-0c325a1238bf\" xlink:show=\"new\" xlink:title=\"psysml:feaf6c57-7b20-4701-8323-0c325a1238bf\" xlink:type=\"simple\"><path d=\"M239.23,408.25 C230.48,430.48 216.67,465.53 204.93,495.33 \" fill=\"none\" id=\"E5-&gt;E8\" style=\"stroke: #A80036; stroke-width: 1.0;\"/><polygon fill=\"#FFFFFF\" points=\"197.58,513.98,198.027,493.7365,211.0538,498.8652,197.58,513.98\" style=\"stroke: #A80036; stroke-width: 1.0;\"/><ellipse cx=\"201.9761\" cy=\"489.1654\" fill=\"#A80036\" rx=\"2\" ry=\"2\" style=\"stroke: #A80036; stroke-width: 1.0;\"/><ellipse cx=\"211.2809\" cy=\"492.8288\" fill=\"#A80036\" rx=\"2\" ry=\"2\" style=\"stroke: #A80036; stroke-width: 1.0;\"/></a><!--MD5=[03c8294790d3c57651a1993cecff665f]\n",
       "reverse link E8 to E3--><a href=\"psysml:f63e9e98-9395-484c-b7ba-710e403c3592\" target=\"_top\" title=\"psysml:f63e9e98-9395-484c-b7ba-710e403c3592\" xlink:actuate=\"onRequest\" xlink:href=\"psysml:f63e9e98-9395-484c-b7ba-710e403c3592\" xlink:show=\"new\" xlink:title=\"psysml:f63e9e98-9395-484c-b7ba-710e403c3592\" xlink:type=\"simple\"><path d=\"M154.57,502.18 C135.93,463.97 117.34,409.52 131,362 C137.48,339.45 152.09,317.09 164.17,301.27 \" fill=\"none\" id=\"E8&lt;-E3\" style=\"stroke: #A80036; stroke-width: 1.0;\"/><polygon fill=\"#FFFFFF\" points=\"160.58,513.99,161.4217,506.8282,155.1345,503.2967,154.2928,510.4585,160.58,513.99\" style=\"stroke: #A80036; stroke-width: 1.0;\"/><text fill=\"#000000\" font-family=\"sans-serif\" font-size=\"13\" lengthAdjust=\"spacingAndGlyphs\" textLength=\"7\" x=\"132\" y=\"389.5669\">y</text></a><!--MD5=[03c8294790d3c57651a1993cecff665f]\n",
       "reverse link E8 to E3--><a href=\"psysml:f63e9e98-9395-484c-b7ba-710e403c3592\" target=\"_top\" title=\"psysml:f63e9e98-9395-484c-b7ba-710e403c3592\" xlink:actuate=\"onRequest\" xlink:href=\"psysml:f63e9e98-9395-484c-b7ba-710e403c3592\" xlink:show=\"new\" xlink:title=\"psysml:f63e9e98-9395-484c-b7ba-710e403c3592\" xlink:type=\"simple\"><path d=\"M183,500.73 C183,441.17 183,344.58 183,301.26 \" fill=\"none\" id=\"E8&lt;-E3-1\" style=\"stroke: #A80036; stroke-width: 1.0;\"/><polygon fill=\"#FFFFFF\" points=\"183,513.93,187,507.93,183,501.93,179,507.93,183,513.93\" style=\"stroke: #A80036; stroke-width: 1.0;\"/><text fill=\"#000000\" font-family=\"sans-serif\" font-size=\"13\" lengthAdjust=\"spacingAndGlyphs\" textLength=\"7\" x=\"184\" y=\"389.5669\">y</text></a><!--MD5=[0d75d2178373a6a4568e5dc728f58aef]\n",
       "reverse link E8 to E6--><a href=\"psysml:f63e9e98-9395-484c-b7ba-710e403c3592\" target=\"_top\" title=\"psysml:f63e9e98-9395-484c-b7ba-710e403c3592\" xlink:actuate=\"onRequest\" xlink:href=\"psysml:f63e9e98-9395-484c-b7ba-710e403c3592\" xlink:show=\"new\" xlink:title=\"psysml:f63e9e98-9395-484c-b7ba-710e403c3592\" xlink:type=\"simple\"><path d=\"M160.42,603.02 C157.73,614.13 156.66,625.91 159,637 C161.16,647.24 165.48,657.91 169.79,666.91 \" fill=\"none\" id=\"E8&lt;-E6\" style=\"stroke: #A80036; stroke-width: 1.0;\"/><polygon fill=\"#FFFFFF\" points=\"164.22,590.35,158.6675,594.9511,160.7791,601.8461,166.3316,597.245,164.22,590.35\" style=\"stroke: #A80036; stroke-width: 1.0;\"/><text fill=\"#000000\" font-family=\"sans-serif\" font-size=\"13\" lengthAdjust=\"spacingAndGlyphs\" textLength=\"7\" x=\"160\" y=\"633.0669\">y</text></a><!--MD5=[0d75d2178373a6a4568e5dc728f58aef]\n",
       "reverse link E8 to E6--><a href=\"psysml:f63e9e98-9395-484c-b7ba-710e403c3592\" target=\"_top\" title=\"psysml:f63e9e98-9395-484c-b7ba-710e403c3592\" xlink:actuate=\"onRequest\" xlink:href=\"psysml:f63e9e98-9395-484c-b7ba-710e403c3592\" xlink:show=\"new\" xlink:title=\"psysml:f63e9e98-9395-484c-b7ba-710e403c3592\" xlink:type=\"simple\"><path d=\"M182.63,603.33 C182.47,625.16 182.29,649.6 182.16,666.77 \" fill=\"none\" id=\"E8&lt;-E6-1\" style=\"stroke: #A80036; stroke-width: 1.0;\"/><polygon fill=\"#FFFFFF\" points=\"182.73,590.16,178.684,596.1291,182.6377,602.1596,186.6837,596.1906,182.73,590.16\" style=\"stroke: #A80036; stroke-width: 1.0;\"/><text fill=\"#000000\" font-family=\"sans-serif\" font-size=\"13\" lengthAdjust=\"spacingAndGlyphs\" textLength=\"7\" x=\"183\" y=\"633.0669\">y</text></a><!--MD5=[23ac544a70576c3e717098101004234c]\n",
       "reverse link E9 to E10--><a href=\"psysml:f7fd9ae3-3fa5-48e2-b146-bf2078e3bf75\" target=\"_top\" title=\"psysml:f7fd9ae3-3fa5-48e2-b146-bf2078e3bf75\" xlink:actuate=\"onRequest\" xlink:href=\"psysml:f7fd9ae3-3fa5-48e2-b146-bf2078e3bf75\" xlink:show=\"new\" xlink:title=\"psysml:f7fd9ae3-3fa5-48e2-b146-bf2078e3bf75\" xlink:type=\"simple\"><path d=\"M131.16,99.57 C125.28,115.39 118.49,133.68 113.3,147.66 \" fill=\"none\" id=\"E9&lt;-E10\" style=\"stroke: #A80036; stroke-width: 1.0;\"/><polygon fill=\"#FFFFFF\" points=\"135.82,87.01,129.9804,91.2408,131.6398,98.2584,137.4793,94.0276,135.82,87.01\" style=\"stroke: #A80036; stroke-width: 1.0;\"/><text fill=\"#000000\" font-family=\"sans-serif\" font-size=\"13\" lengthAdjust=\"spacingAndGlyphs\" textLength=\"8\" x=\"106.4019\" y=\"136.8492\">1</text></a><!--MD5=[feeac5eb423634930294aa81f2d25a4c]\n",
       "link E10 to E3--><a href=\"psysml:09a722a7-3c7d-4d30-9bcf-d6d93c165304\" target=\"_top\" title=\"psysml:09a722a7-3c7d-4d30-9bcf-d6d93c165304\" xlink:actuate=\"onRequest\" xlink:href=\"psysml:09a722a7-3c7d-4d30-9bcf-d6d93c165304\" xlink:show=\"new\" xlink:title=\"psysml:09a722a7-3c7d-4d30-9bcf-d6d93c165304\" xlink:type=\"simple\"><path d=\"M121.35,194.01 C130.86,206.81 143.11,223.3 154.18,238.2 \" fill=\"none\" id=\"E10-&gt;E3\" style=\"stroke: #A80036; stroke-width: 1.0;\"/><polygon fill=\"#FFFFFF\" points=\"166.4,254.66,149.4457,243.5896,160.6805,235.2361,166.4,254.66\" style=\"stroke: #A80036; stroke-width: 1.0;\"/><ellipse cx=\"147.6496\" cy=\"237.8221\" fill=\"#A80036\" rx=\"2\" ry=\"2\" style=\"stroke: #A80036; stroke-width: 1.0;\"/><ellipse cx=\"155.6744\" cy=\"231.8554\" fill=\"#A80036\" rx=\"2\" ry=\"2\" style=\"stroke: #A80036; stroke-width: 1.0;\"/></a><!--MD5=[1fc04a95fd77ad5ce46c1a3027516051]\n",
       "reverse link E9 to E11--><a href=\"psysml:2308c13a-9c40-4baf-abe1-b4752fcfac30\" target=\"_top\" title=\"psysml:2308c13a-9c40-4baf-abe1-b4752fcfac30\" xlink:actuate=\"onRequest\" xlink:href=\"psysml:2308c13a-9c40-4baf-abe1-b4752fcfac30\" xlink:show=\"new\" xlink:title=\"psysml:2308c13a-9c40-4baf-abe1-b4752fcfac30\" xlink:type=\"simple\"><path d=\"M156.84,99.57 C162.72,115.39 169.51,133.68 174.7,147.66 \" fill=\"none\" id=\"E9&lt;-E11\" style=\"stroke: #A80036; stroke-width: 1.0;\"/><polygon fill=\"#FFFFFF\" points=\"152.18,87.01,150.5207,94.0276,156.3602,98.2584,158.0196,91.2408,152.18,87.01\" style=\"stroke: #A80036; stroke-width: 1.0;\"/><text fill=\"#000000\" font-family=\"sans-serif\" font-size=\"13\" lengthAdjust=\"spacingAndGlyphs\" textLength=\"8\" x=\"163.5481\" y=\"136.8492\">1</text></a><!--MD5=[0517f1ce58c4d5483948f93845c45e26]\n",
       "link E11 to E3--><a href=\"psysml:713baad2-05ac-404b-8904-f9720a0da3f6\" target=\"_top\" title=\"psysml:713baad2-05ac-404b-8904-f9720a0da3f6\" xlink:actuate=\"onRequest\" xlink:href=\"psysml:713baad2-05ac-404b-8904-f9720a0da3f6\" xlink:show=\"new\" xlink:title=\"psysml:713baad2-05ac-404b-8904-f9720a0da3f6\" xlink:type=\"simple\"><path d=\"M183,194.01 C183,205.69 183,220.46 183,234.28 \" fill=\"none\" id=\"E11-&gt;E3\" style=\"stroke: #A80036; stroke-width: 1.0;\"/><polygon fill=\"#FFFFFF\" points=\"183,254.66,176,235.66,190,235.66,183,254.66\" style=\"stroke: #A80036; stroke-width: 1.0;\"/><ellipse cx=\"178\" cy=\"229.96\" fill=\"#A80036\" rx=\"2\" ry=\"2\" style=\"stroke: #A80036; stroke-width: 1.0;\"/><ellipse cx=\"188\" cy=\"229.96\" fill=\"#A80036\" rx=\"2\" ry=\"2\" style=\"stroke: #A80036; stroke-width: 1.0;\"/></a><!--MD5=[2577b28ab90e99e0e3d19c52263f2eea]\n",
       "@startuml\r\n",
       "skinparam wrapWidth 300\r\n",
       "hide circle\r\n",
       "\r\n",
       "package \"ItemTest\" as E1  [[psysml:9c84b130-4496-45dd-acf0-f614adf4451b ]]  {\r\n",
       "comp usage \"f: A \" as E2  <<(T,blue) item>> [[psysml:046ce2e8-70d6-418b-9e34-4058f6a1e698 ]] {\r\n",
       "}\r\n",
       "comp def \"A\" as E3  <<(T,blue) item  def>> [[psysml:b761bda6-ef45-4173-adbe-8f17f5dd59b9 ]] {\r\n",
       "}\r\n",
       "comp usage \"b: B \" as E4  <<(T,blue) item>> [[psysml:5a9b7c1e-d921-40a5-84d4-dcafad1b8599 ]] {\r\n",
       "}\r\n",
       "comp usage \"c: C \" as E5  <<(T,blue) part>> [[psysml:c52e7c62-32ae-43e1-a51e-2d7f86512260 ]] {\r\n",
       "}\r\n",
       "comp def \"<i>B</i>\" as E6  <<(T,blue) item  def>> [[psysml:154f7142-f3c2-4f8f-a55c-1d31f59952e7 ]] {\r\n",
       "}\r\n",
       "comp usage \"<i>a</i>: A \" as E7  <<(T,blue) part>> [[psysml:3092a58e-bc17-492e-b3ac-d9b0c5d27ee1 ]] {\r\n",
       "}\r\n",
       "comp def \"C\" as E8  <<(T,blue) part  def>> [[psysml:a977dc12-1522-4e17-86ea-88834b4a9262 ]] {\r\n",
       "- - parameters - -\r\n",
       "<b>in</b> y: A, B\r\n",
       "}\r\n",
       "comp def \"P\" as E9  <<(T,blue) port  def>> [[psysml:505a0904-767f-4431-bdaf-f395e9a256c5 ]] {\r\n",
       "}\r\n",
       "comp usage \"a1: A \" as E10  <<(T,blue) item>> [[psysml:b48ee9ab-0a15-45ce-8465-86ae83c4be7f ]] {\r\n",
       "}\r\n",
       "comp usage \"a2: A \" as E11  <<(T,blue) item>> [[psysml:7b14a527-4e8d-41df-a91b-3ca9db44b1d9 ]] {\r\n",
       "}\r\n",
       "}\r\n",
       "E2 - -:|> E3 [[psysml:2913aa14-34e4-4ebc-b3c0-73cbbe37a712 ]] \r\n",
       "E3 *- - \"1\"E4 [[psysml:5a70b25d-3e65-48fe-9200-ece04e9de0ee ]] \r\n",
       "E3 o- - \"1\"E5 [[psysml:98aba136-2768-4c7e-bc34-95a5a6a911cd ]] \r\n",
       "E4 - -:|> E6 [[psysml:04be4dec-9fb2-423c-a400-1c82afc162c3 ]] \r\n",
       "E6 *- - \"1\"E7 [[psysml:88a05b08-39fe-46e7-8c9b-5df9e56fb426 ]] \r\n",
       "E7 - -:|> E3 [[psysml:de23f89f-df32-45d9-b344-47d8d19c4edc ]] \r\n",
       "E5 - -:|> E8 [[psysml:feaf6c57-7b20-4701-8323-0c325a1238bf ]] \r\n",
       "E8 o- - E3 [[psysml:f63e9e98-9395-484c-b7ba-710e403c3592 ]] : y\r\n",
       "E8 o- - E6 [[psysml:f63e9e98-9395-484c-b7ba-710e403c3592 ]] : y\r\n",
       "E8 o- - E3 [[psysml:f63e9e98-9395-484c-b7ba-710e403c3592 ]] : y\r\n",
       "E8 o- - E6 [[psysml:f63e9e98-9395-484c-b7ba-710e403c3592 ]] : y\r\n",
       "E9 o- - \"1\"E10 [[psysml:f7fd9ae3-3fa5-48e2-b146-bf2078e3bf75 ]] \r\n",
       "E10 - -:|> E3 [[psysml:09a722a7-3c7d-4d30-9bcf-d6d93c165304 ]] \r\n",
       "E9 o- - \"1\"E11 [[psysml:2308c13a-9c40-4baf-abe1-b4752fcfac30 ]] \r\n",
       "E11 - -:|> E3 [[psysml:713baad2-05ac-404b-8904-f9720a0da3f6 ]] \r\n",
       "@enduml\r\n",
       "\n",
       "PlantUML version 1.2020.13(Sat Jun 13 12:26:38 UTC 2020)\n",
       "(EPL source distribution)\n",
       "Java Runtime: OpenJDK Runtime Environment\n",
       "JVM: OpenJDK 64-Bit Server VM\n",
       "Default Encoding: UTF-8\n",
       "Language: en\n",
       "Country: null\n",
       "--></g></svg>"
      ]
     },
     "execution_count": 29,
     "metadata": {},
     "output_type": "execute_result"
    }
   ],
   "source": [
    "%viz --style=\"STDCOLOR\" --view=\"MIXED\" \"ItemTest\""
   ]
  },
  {
   "cell_type": "code",
   "execution_count": 30,
   "id": "17daaaac",
   "metadata": {
    "execution": {
     "iopub.execute_input": "2021-10-25T08:20:54.804408Z",
     "iopub.status.busy": "2021-10-25T08:20:54.803974Z",
     "iopub.status.idle": "2021-10-25T08:20:54.881741Z",
     "shell.execute_reply": "2021-10-25T08:20:54.881372Z"
    }
   },
   "outputs": [
    {
     "data": {
      "image/svg+xml": [
       "<?xml version=\"1.0\" encoding=\"UTF-8\" standalone=\"no\"?><svg xmlns=\"http://www.w3.org/2000/svg\" xmlns:xlink=\"http://www.w3.org/1999/xlink\" contentScriptType=\"application/ecmascript\" contentStyleType=\"text/css\" height=\"818px\" preserveAspectRatio=\"none\" style=\"width:370px;height:818px;\" version=\"1.1\" viewBox=\"0 0 370 818\" width=\"370px\" zoomAndPan=\"magnify\"><defs><filter height=\"300%\" id=\"f7iw561nf9odo\" width=\"300%\" x=\"-1\" y=\"-1\"><feGaussianBlur result=\"blurOut\" stdDeviation=\"2.0\"/><feColorMatrix in=\"blurOut\" result=\"blurOut2\" type=\"matrix\" values=\"0 0 0 0 0 0 0 0 0 0 0 0 0 0 0 0 0 0 .4 0\"/><feOffset dx=\"4.0\" dy=\"4.0\" in=\"blurOut2\" result=\"blurOut3\"/><feBlend in=\"SourceGraphic\" in2=\"blurOut3\" mode=\"normal\"/></filter></defs><g><!--MD5=[fbc87193dbaf4d95561dea2c320d4a47]\n",
       "cluster E1--><a href=\"psysml:9c84b130-4496-45dd-acf0-f614adf4451b\" target=\"_top\" title=\"psysml:9c84b130-4496-45dd-acf0-f614adf4451b\" xlink:actuate=\"onRequest\" xlink:href=\"psysml:9c84b130-4496-45dd-acf0-f614adf4451b\" xlink:show=\"new\" xlink:title=\"psysml:9c84b130-4496-45dd-acf0-f614adf4451b\" xlink:type=\"simple\"><polygon fill=\"#FFFFFF\" filter=\"url(#f7iw561nf9odo)\" points=\"16,6,83,6,90,28.2969,348,28.2969,348,806,16,806,16,6\" style=\"stroke: #000000; stroke-width: 1.5;\"/><line style=\"stroke: #000000; stroke-width: 1.5;\" x1=\"16\" x2=\"90\" y1=\"28.2969\" y2=\"28.2969\"/><text fill=\"#000000\" font-family=\"sans-serif\" font-size=\"14\" font-weight=\"bold\" lengthAdjust=\"spacingAndGlyphs\" textLength=\"61\" x=\"20\" y=\"20.9951\">ItemTest</text></a><!--MD5=[b4997ac47864f28c2f74865a473b2911]\n",
       "class E2--><a href=\"psysml:046ce2e8-70d6-418b-9e34-4058f6a1e698\" target=\"_top\" title=\"psysml:046ce2e8-70d6-418b-9e34-4058f6a1e698\" xlink:actuate=\"onRequest\" xlink:href=\"psysml:046ce2e8-70d6-418b-9e34-4058f6a1e698\" xlink:show=\"new\" xlink:title=\"psysml:046ce2e8-70d6-418b-9e34-4058f6a1e698\" xlink:type=\"simple\"><rect fill=\"#FEFECE\" filter=\"url(#f7iw561nf9odo)\" height=\"40\" id=\"E2\" rx=\"10\" ry=\"10\" style=\"stroke: #A80036; stroke-width: 1.5;\" width=\"56\" x=\"252\" y=\"148\"/><ellipse cx=\"267\" cy=\"164\" fill=\"#32CD32\" rx=\"11\" ry=\"11\" style=\"stroke: #A80036; stroke-width: 1.0;\"/><path d=\"M263.8125,169 L263.8125,158.4063 L267.4219,158.4063 Q268.6406,158.4063 269.4375,158.8438 Q270.2344,159.2656 270.6094,159.9688 Q271,160.6719 271,161.5156 Q271,162.3594 270.625,163.0469 Q270.2656,163.7344 269.4688,164.1563 Q268.6875,164.5625 267.5,164.5625 L265.7656,164.5625 L265.7656,169 L263.8125,169 Z M265.7656,162.9688 L267.375,162.9688 Q268.1875,162.9688 268.6094,162.5625 Q269.0313,162.1563 269.0313,161.5156 Q269.0313,160.8906 268.6094,160.4844 Q268.1875,160.0781 267.3906,160.0781 L265.7656,160.0781 L265.7656,162.9688 Z \"/><text fill=\"#000000\" font-family=\"sans-serif\" font-size=\"12\" lengthAdjust=\"spacingAndGlyphs\" textLength=\"20\" x=\"281\" y=\"168.1543\">f: A</text><line style=\"stroke: #A80036; stroke-width: 1.5;\" x1=\"253\" x2=\"307\" y1=\"180\" y2=\"180\"/></a><!--MD5=[09b614a08d8cba4a07c9adeb5e0fee81]\n",
       "class E3--><a href=\"psysml:b761bda6-ef45-4173-adbe-8f17f5dd59b9\" target=\"_top\" title=\"psysml:b761bda6-ef45-4173-adbe-8f17f5dd59b9\" xlink:actuate=\"onRequest\" xlink:href=\"psysml:b761bda6-ef45-4173-adbe-8f17f5dd59b9\" xlink:show=\"new\" xlink:title=\"psysml:b761bda6-ef45-4173-adbe-8f17f5dd59b9\" xlink:type=\"simple\"><rect fill=\"#FEFECE\" filter=\"url(#f7iw561nf9odo)\" height=\"40\" id=\"E3\" style=\"stroke: #A80036; stroke-width: 1.5;\" width=\"40\" x=\"163\" y=\"249\"/><ellipse cx=\"178\" cy=\"265\" fill=\"#008000\" rx=\"11\" ry=\"11\" style=\"stroke: #A80036; stroke-width: 1.0;\"/><path d=\"M174.875,270 L174.875,259.4063 L178.1094,259.4063 Q180.0156,259.4063 180.9219,260.1563 Q181.8438,260.9063 181.8438,262.0781 Q181.8438,262.7656 181.4531,263.4219 Q181.0781,264.0781 180.3594,264.375 Q181.2188,264.75 181.7344,265.4375 Q182.25,266.125 182.25,266.9375 Q182.25,268.3125 181.2188,269.1563 Q180.2031,270 178.0938,270 L174.875,270 Z M176.7969,263.6406 L177.9531,263.6406 Q179.0781,263.6406 179.4844,263.2656 Q179.9063,262.875 179.9063,262.25 Q179.9063,261.6719 179.4844,261.3125 Q179.0625,260.9531 178.125,260.9531 L176.7969,260.9531 L176.7969,263.6406 Z M176.7969,268.4219 L178.2969,268.4219 Q179.2031,268.4219 179.7344,268.0313 Q180.2656,267.6406 180.2656,266.8906 Q180.2656,266.125 179.7656,265.6563 Q179.2656,265.1719 178,265.1719 L176.7969,265.1719 L176.7969,268.4219 Z \"/><text fill=\"#000000\" font-family=\"sans-serif\" font-size=\"12\" lengthAdjust=\"spacingAndGlyphs\" textLength=\"8\" x=\"192\" y=\"269.1543\">A</text><line style=\"stroke: #A80036; stroke-width: 1.5;\" x1=\"164\" x2=\"202\" y1=\"281\" y2=\"281\"/></a><!--MD5=[ebbe1d658d1005bcc118a6aa81145e00]\n",
       "class E4--><a href=\"psysml:5a9b7c1e-d921-40a5-84d4-dcafad1b8599\" target=\"_top\" title=\"psysml:5a9b7c1e-d921-40a5-84d4-dcafad1b8599\" xlink:actuate=\"onRequest\" xlink:href=\"psysml:5a9b7c1e-d921-40a5-84d4-dcafad1b8599\" xlink:show=\"new\" xlink:title=\"psysml:5a9b7c1e-d921-40a5-84d4-dcafad1b8599\" xlink:type=\"simple\"><rect fill=\"#FEFECE\" filter=\"url(#f7iw561nf9odo)\" height=\"40\" id=\"E4\" rx=\"10\" ry=\"10\" style=\"stroke: #A80036; stroke-width: 1.5;\" width=\"60\" x=\"260\" y=\"426\"/><ellipse cx=\"275\" cy=\"442\" fill=\"#32CD32\" rx=\"11\" ry=\"11\" style=\"stroke: #A80036; stroke-width: 1.0;\"/><path d=\"M271.8125,447 L271.8125,436.4063 L275.4219,436.4063 Q276.6406,436.4063 277.4375,436.8438 Q278.2344,437.2656 278.6094,437.9688 Q279,438.6719 279,439.5156 Q279,440.3594 278.625,441.0469 Q278.2656,441.7344 277.4688,442.1563 Q276.6875,442.5625 275.5,442.5625 L273.7656,442.5625 L273.7656,447 L271.8125,447 Z M273.7656,440.9688 L275.375,440.9688 Q276.1875,440.9688 276.6094,440.5625 Q277.0313,440.1563 277.0313,439.5156 Q277.0313,438.8906 276.6094,438.4844 Q276.1875,438.0781 275.3906,438.0781 L273.7656,438.0781 L273.7656,440.9688 Z \"/><text fill=\"#000000\" font-family=\"sans-serif\" font-size=\"12\" lengthAdjust=\"spacingAndGlyphs\" textLength=\"24\" x=\"289\" y=\"446.1543\">b: B</text><line style=\"stroke: #A80036; stroke-width: 1.5;\" x1=\"261\" x2=\"319\" y1=\"458\" y2=\"458\"/></a><!--MD5=[270fce915f116d4de14055a7c1d9a0f3]\n",
       "class E5--><a href=\"psysml:c52e7c62-32ae-43e1-a51e-2d7f86512260\" target=\"_top\" title=\"psysml:c52e7c62-32ae-43e1-a51e-2d7f86512260\" xlink:actuate=\"onRequest\" xlink:href=\"psysml:c52e7c62-32ae-43e1-a51e-2d7f86512260\" xlink:show=\"new\" xlink:title=\"psysml:c52e7c62-32ae-43e1-a51e-2d7f86512260\" xlink:type=\"simple\"><rect fill=\"#FEFECE\" filter=\"url(#f7iw561nf9odo)\" height=\"45.9375\" id=\"E5\" rx=\"10\" ry=\"10\" style=\"stroke: #A80036; stroke-width: 1.5;\" width=\"68\" x=\"227\" y=\"350\"/><ellipse cx=\"242\" cy=\"368.9688\" fill=\"#32CD32\" rx=\"11\" ry=\"11\" style=\"stroke: #A80036; stroke-width: 1.0;\"/><path d=\"M238.8125,373.9688 L238.8125,363.375 L242.4219,363.375 Q243.6406,363.375 244.4375,363.8125 Q245.2344,364.2344 245.6094,364.9375 Q246,365.6406 246,366.4844 Q246,367.3281 245.625,368.0156 Q245.2656,368.7031 244.4688,369.125 Q243.6875,369.5313 242.5,369.5313 L240.7656,369.5313 L240.7656,373.9688 L238.8125,373.9688 Z M240.7656,367.9375 L242.375,367.9375 Q243.1875,367.9375 243.6094,367.5313 Q244.0313,367.125 244.0313,366.4844 Q244.0313,365.8594 243.6094,365.4531 Q243.1875,365.0469 242.3906,365.0469 L240.7656,365.0469 L240.7656,367.9375 Z \"/><text fill=\"#000000\" font-family=\"sans-serif\" font-size=\"12\" font-style=\"italic\" lengthAdjust=\"spacingAndGlyphs\" textLength=\"40\" x=\"254\" y=\"366.1387\">«part»</text><text fill=\"#000000\" font-family=\"sans-serif\" font-size=\"12\" lengthAdjust=\"spacingAndGlyphs\" textLength=\"23\" x=\"260.5\" y=\"380.1074\">c: C</text><line style=\"stroke: #A80036; stroke-width: 1.5;\" x1=\"228\" x2=\"294\" y1=\"387.9375\" y2=\"387.9375\"/></a><!--MD5=[60a26617385b1d2d0262a64233df1f8d]\n",
       "class E6--><a href=\"psysml:154f7142-f3c2-4f8f-a55c-1d31f59952e7\" target=\"_top\" title=\"psysml:154f7142-f3c2-4f8f-a55c-1d31f59952e7\" xlink:actuate=\"onRequest\" xlink:href=\"psysml:154f7142-f3c2-4f8f-a55c-1d31f59952e7\" xlink:show=\"new\" xlink:title=\"psysml:154f7142-f3c2-4f8f-a55c-1d31f59952e7\" xlink:type=\"simple\"><rect fill=\"#FEFECE\" filter=\"url(#f7iw561nf9odo)\" height=\"40\" id=\"E6\" style=\"stroke: #A80036; stroke-width: 1.5;\" width=\"40\" x=\"162\" y=\"643\"/><ellipse cx=\"177\" cy=\"659\" fill=\"#008000\" rx=\"11\" ry=\"11\" style=\"stroke: #A80036; stroke-width: 1.0;\"/><path d=\"M173.875,664 L173.875,653.4063 L177.1094,653.4063 Q179.0156,653.4063 179.9219,654.1563 Q180.8438,654.9063 180.8438,656.0781 Q180.8438,656.7656 180.4531,657.4219 Q180.0781,658.0781 179.3594,658.375 Q180.2188,658.75 180.7344,659.4375 Q181.25,660.125 181.25,660.9375 Q181.25,662.3125 180.2188,663.1563 Q179.2031,664 177.0938,664 L173.875,664 Z M175.7969,657.6406 L176.9531,657.6406 Q178.0781,657.6406 178.4844,657.2656 Q178.9063,656.875 178.9063,656.25 Q178.9063,655.6719 178.4844,655.3125 Q178.0625,654.9531 177.125,654.9531 L175.7969,654.9531 L175.7969,657.6406 Z M175.7969,662.4219 L177.2969,662.4219 Q178.2031,662.4219 178.7344,662.0313 Q179.2656,661.6406 179.2656,660.8906 Q179.2656,660.125 178.7656,659.6563 Q178.2656,659.1719 177,659.1719 L175.7969,659.1719 L175.7969,662.4219 Z \"/><text fill=\"#000000\" font-family=\"sans-serif\" font-size=\"12\" font-style=\"italic\" lengthAdjust=\"spacingAndGlyphs\" textLength=\"8\" x=\"191\" y=\"663.1543\">B</text><line style=\"stroke: #A80036; stroke-width: 1.5;\" x1=\"163\" x2=\"201\" y1=\"675\" y2=\"675\"/></a><!--MD5=[2156ba9850f5573cc1fc38a6a4b2f02b]\n",
       "class E7--><a href=\"psysml:3092a58e-bc17-492e-b3ac-d9b0c5d27ee1\" target=\"_top\" title=\"psysml:3092a58e-bc17-492e-b3ac-d9b0c5d27ee1\" xlink:actuate=\"onRequest\" xlink:href=\"psysml:3092a58e-bc17-492e-b3ac-d9b0c5d27ee1\" xlink:show=\"new\" xlink:title=\"psysml:3092a58e-bc17-492e-b3ac-d9b0c5d27ee1\" xlink:type=\"simple\"><rect fill=\"#FEFECE\" filter=\"url(#f7iw561nf9odo)\" height=\"45.9375\" id=\"E7\" rx=\"10\" ry=\"10\" style=\"stroke: #A80036; stroke-width: 1.5;\" width=\"68\" x=\"90\" y=\"744\"/><ellipse cx=\"105\" cy=\"762.9688\" fill=\"#32CD32\" rx=\"11\" ry=\"11\" style=\"stroke: #A80036; stroke-width: 1.0;\"/><path d=\"M101.8125,767.9688 L101.8125,757.375 L105.4219,757.375 Q106.6406,757.375 107.4375,757.8125 Q108.2344,758.2344 108.6094,758.9375 Q109,759.6406 109,760.4844 Q109,761.3281 108.625,762.0156 Q108.2656,762.7031 107.4688,763.125 Q106.6875,763.5313 105.5,763.5313 L103.7656,763.5313 L103.7656,767.9688 L101.8125,767.9688 Z M103.7656,761.9375 L105.375,761.9375 Q106.1875,761.9375 106.6094,761.5313 Q107.0313,761.125 107.0313,760.4844 Q107.0313,759.8594 106.6094,759.4531 Q106.1875,759.0469 105.3906,759.0469 L103.7656,759.0469 L103.7656,761.9375 Z \"/><text fill=\"#000000\" font-family=\"sans-serif\" font-size=\"12\" font-style=\"italic\" lengthAdjust=\"spacingAndGlyphs\" textLength=\"40\" x=\"117\" y=\"760.1387\">«part»</text><text fill=\"#000000\" font-family=\"sans-serif\" font-size=\"12\" font-style=\"italic\" lengthAdjust=\"spacingAndGlyphs\" textLength=\"8\" x=\"123\" y=\"774.1074\">a</text><text fill=\"#000000\" font-family=\"sans-serif\" font-size=\"12\" lengthAdjust=\"spacingAndGlyphs\" textLength=\"16\" x=\"131\" y=\"774.1074\">: A</text><line style=\"stroke: #A80036; stroke-width: 1.5;\" x1=\"91\" x2=\"157\" y1=\"781.9375\" y2=\"781.9375\"/></a><!--MD5=[b9389687b975829384b498ac4b7476b2]\n",
       "class E8--><a href=\"psysml:a977dc12-1522-4e17-86ea-88834b4a9262\" target=\"_top\" title=\"psysml:a977dc12-1522-4e17-86ea-88834b4a9262\" xlink:actuate=\"onRequest\" xlink:href=\"psysml:a977dc12-1522-4e17-86ea-88834b4a9262\" xlink:show=\"new\" xlink:title=\"psysml:a977dc12-1522-4e17-86ea-88834b4a9262\" xlink:type=\"simple\"><rect fill=\"#FEFECE\" filter=\"url(#f7iw561nf9odo)\" height=\"69.6094\" id=\"E8\" style=\"stroke: #A80036; stroke-width: 1.5;\" width=\"75\" x=\"145.5\" y=\"496\"/><ellipse cx=\"176.25\" cy=\"512\" fill=\"#008000\" rx=\"11\" ry=\"11\" style=\"stroke: #A80036; stroke-width: 1.0;\"/><path d=\"M173.125,517 L173.125,506.4063 L176.3594,506.4063 Q178.2656,506.4063 179.1719,507.1563 Q180.0938,507.9063 180.0938,509.0781 Q180.0938,509.7656 179.7031,510.4219 Q179.3281,511.0781 178.6094,511.375 Q179.4688,511.75 179.9844,512.4375 Q180.5,513.125 180.5,513.9375 Q180.5,515.3125 179.4688,516.1563 Q178.4531,517 176.3438,517 L173.125,517 Z M175.0469,510.6406 L176.2031,510.6406 Q177.3281,510.6406 177.7344,510.2656 Q178.1563,509.875 178.1563,509.25 Q178.1563,508.6719 177.7344,508.3125 Q177.3125,507.9531 176.375,507.9531 L175.0469,507.9531 L175.0469,510.6406 Z M175.0469,515.4219 L176.5469,515.4219 Q177.4531,515.4219 177.9844,515.0313 Q178.5156,514.6406 178.5156,513.8906 Q178.5156,513.125 178.0156,512.6563 Q177.5156,512.1719 176.25,512.1719 L175.0469,512.1719 L175.0469,515.4219 Z \"/><text fill=\"#000000\" font-family=\"sans-serif\" font-size=\"12\" lengthAdjust=\"spacingAndGlyphs\" textLength=\"8\" x=\"193.75\" y=\"516.1543\">C</text><line style=\"stroke: #A80036; stroke-width: 1.5;\" x1=\"146.5\" x2=\"219.5\" y1=\"528\" y2=\"528\"/><text fill=\"#000000\" font-family=\"sans-serif\" font-size=\"11\" font-weight=\"bold\" lengthAdjust=\"spacingAndGlyphs\" textLength=\"10\" x=\"151.5\" y=\"559.0151\">in</text><text fill=\"#000000\" font-family=\"sans-serif\" font-size=\"11\" lengthAdjust=\"spacingAndGlyphs\" textLength=\"37\" x=\"165.5\" y=\"559.0151\">y: A, B</text><line style=\"stroke: #A80036; stroke-width: 1.0;\" x1=\"146.5\" x2=\"149.5\" y1=\"542.4023\" y2=\"542.4023\"/><text fill=\"#000000\" font-family=\"sans-serif\" font-size=\"11\" lengthAdjust=\"spacingAndGlyphs\" textLength=\"67\" x=\"149.5\" y=\"545.7104\">parameters</text><line style=\"stroke: #A80036; stroke-width: 1.0;\" x1=\"216.5\" x2=\"219.5\" y1=\"542.4023\" y2=\"542.4023\"/></a><!--MD5=[fd4143e9d270a159db93a4ea2a975926]\n",
       "class E9--><a href=\"psysml:505a0904-767f-4431-bdaf-f395e9a256c5\" target=\"_top\" title=\"psysml:505a0904-767f-4431-bdaf-f395e9a256c5\" xlink:actuate=\"onRequest\" xlink:href=\"psysml:505a0904-767f-4431-bdaf-f395e9a256c5\" xlink:show=\"new\" xlink:title=\"psysml:505a0904-767f-4431-bdaf-f395e9a256c5\" xlink:type=\"simple\"><rect fill=\"#FEFECE\" filter=\"url(#f7iw561nf9odo)\" height=\"45.9375\" id=\"E9\" style=\"stroke: #A80036; stroke-width: 1.5;\" width=\"96\" x=\"84\" y=\"41\"/><ellipse cx=\"99\" cy=\"59.9688\" fill=\"#A52A2A\" rx=\"11\" ry=\"11\" style=\"stroke: #A80036; stroke-width: 1.0;\"/><path d=\"M96.2188,64.9688 L96.2188,54.375 L98.9531,54.375 Q100.3438,54.375 101.1094,54.7656 Q101.8906,55.1406 102.4219,55.8438 Q102.9531,56.5469 103.25,57.5469 Q103.5469,58.5313 103.5469,59.75 Q103.5,61.3438 103,62.5313 Q102.5156,63.7031 101.4688,64.3438 Q100.4375,64.9688 98.75,64.9688 L96.2188,64.9688 Z M98.0781,63.4688 L98.7031,63.4688 Q99.7813,63.4688 100.4375,63.0156 Q101.0938,62.5625 101.375,61.7344 Q101.6719,60.8906 101.6563,59.7656 Q101.6563,58.5938 101.4063,57.7344 Q101.1563,56.8594 100.5469,56.3906 Q99.9375,55.9063 98.8906,55.9063 L98.0781,55.9063 L98.0781,63.4688 Z \"/><text fill=\"#000000\" font-family=\"sans-serif\" font-size=\"12\" font-style=\"italic\" lengthAdjust=\"spacingAndGlyphs\" textLength=\"68\" x=\"111\" y=\"57.1387\">«port  def»</text><text fill=\"#000000\" font-family=\"sans-serif\" font-size=\"12\" lengthAdjust=\"spacingAndGlyphs\" textLength=\"8\" x=\"141\" y=\"71.1074\">P</text><line style=\"stroke: #A80036; stroke-width: 1.5;\" x1=\"85\" x2=\"179\" y1=\"78.9375\" y2=\"78.9375\"/></a><!--MD5=[96f4274e9e20536e775497830990834d]\n",
       "class E10--><a href=\"psysml:b48ee9ab-0a15-45ce-8465-86ae83c4be7f\" target=\"_top\" title=\"psysml:b48ee9ab-0a15-45ce-8465-86ae83c4be7f\" xlink:actuate=\"onRequest\" xlink:href=\"psysml:b48ee9ab-0a15-45ce-8465-86ae83c4be7f\" xlink:show=\"new\" xlink:title=\"psysml:b48ee9ab-0a15-45ce-8465-86ae83c4be7f\" xlink:type=\"simple\"><rect fill=\"#FEFECE\" filter=\"url(#f7iw561nf9odo)\" height=\"40\" id=\"E10\" rx=\"10\" ry=\"10\" style=\"stroke: #A80036; stroke-width: 1.5;\" width=\"68\" x=\"46\" y=\"148\"/><ellipse cx=\"61\" cy=\"164\" fill=\"#32CD32\" rx=\"11\" ry=\"11\" style=\"stroke: #A80036; stroke-width: 1.0;\"/><path d=\"M57.8125,169 L57.8125,158.4063 L61.4219,158.4063 Q62.6406,158.4063 63.4375,158.8438 Q64.2344,159.2656 64.6094,159.9688 Q65,160.6719 65,161.5156 Q65,162.3594 64.625,163.0469 Q64.2656,163.7344 63.4688,164.1563 Q62.6875,164.5625 61.5,164.5625 L59.7656,164.5625 L59.7656,169 L57.8125,169 Z M59.7656,162.9688 L61.375,162.9688 Q62.1875,162.9688 62.6094,162.5625 Q63.0313,162.1563 63.0313,161.5156 Q63.0313,160.8906 62.6094,160.4844 Q62.1875,160.0781 61.3906,160.0781 L59.7656,160.0781 L59.7656,162.9688 Z \"/><text fill=\"#000000\" font-family=\"sans-serif\" font-size=\"12\" lengthAdjust=\"spacingAndGlyphs\" textLength=\"32\" x=\"75\" y=\"168.1543\">a1: A</text><line style=\"stroke: #A80036; stroke-width: 1.5;\" x1=\"47\" x2=\"113\" y1=\"180\" y2=\"180\"/></a><!--MD5=[1dd1bfd58a279cf63c5f349dbc8fc6a1]\n",
       "class E11--><a href=\"psysml:7b14a527-4e8d-41df-a91b-3ca9db44b1d9\" target=\"_top\" title=\"psysml:7b14a527-4e8d-41df-a91b-3ca9db44b1d9\" xlink:actuate=\"onRequest\" xlink:href=\"psysml:7b14a527-4e8d-41df-a91b-3ca9db44b1d9\" xlink:show=\"new\" xlink:title=\"psysml:7b14a527-4e8d-41df-a91b-3ca9db44b1d9\" xlink:type=\"simple\"><rect fill=\"#FEFECE\" filter=\"url(#f7iw561nf9odo)\" height=\"40\" id=\"E11\" rx=\"10\" ry=\"10\" style=\"stroke: #A80036; stroke-width: 1.5;\" width=\"68\" x=\"149\" y=\"148\"/><ellipse cx=\"164\" cy=\"164\" fill=\"#32CD32\" rx=\"11\" ry=\"11\" style=\"stroke: #A80036; stroke-width: 1.0;\"/><path d=\"M160.8125,169 L160.8125,158.4063 L164.4219,158.4063 Q165.6406,158.4063 166.4375,158.8438 Q167.2344,159.2656 167.6094,159.9688 Q168,160.6719 168,161.5156 Q168,162.3594 167.625,163.0469 Q167.2656,163.7344 166.4688,164.1563 Q165.6875,164.5625 164.5,164.5625 L162.7656,164.5625 L162.7656,169 L160.8125,169 Z M162.7656,162.9688 L164.375,162.9688 Q165.1875,162.9688 165.6094,162.5625 Q166.0313,162.1563 166.0313,161.5156 Q166.0313,160.8906 165.6094,160.4844 Q165.1875,160.0781 164.3906,160.0781 L162.7656,160.0781 L162.7656,162.9688 Z \"/><text fill=\"#000000\" font-family=\"sans-serif\" font-size=\"12\" lengthAdjust=\"spacingAndGlyphs\" textLength=\"32\" x=\"178\" y=\"168.1543\">a2: A</text><line style=\"stroke: #A80036; stroke-width: 1.5;\" x1=\"150\" x2=\"216\" y1=\"180\" y2=\"180\"/></a><!--MD5=[2720a5a1f2c3fca2055b230370638851]\n",
       "link E2 to E3--><a href=\"psysml:2913aa14-34e4-4ebc-b3c0-73cbbe37a712\" target=\"_top\" title=\"psysml:2913aa14-34e4-4ebc-b3c0-73cbbe37a712\" xlink:actuate=\"onRequest\" xlink:href=\"psysml:2913aa14-34e4-4ebc-b3c0-73cbbe37a712\" xlink:show=\"new\" xlink:title=\"psysml:2913aa14-34e4-4ebc-b3c0-73cbbe37a712\" xlink:type=\"simple\"><path d=\"M261.3,188.09 C248.42,201.24 230.95,219.06 215.79,234.53 \" fill=\"none\" id=\"E2-&gt;E3\" style=\"stroke: #A80036; stroke-width: 1.0;\"/><polygon fill=\"#FFFFFF\" points=\"201.65,248.97,209.9397,230.4962,219.9437,240.2901,201.65,248.97\" style=\"stroke: #A80036; stroke-width: 1.0;\"/><ellipse cx=\"215.3564\" cy=\"227.8223\" fill=\"#A80036\" rx=\"2\" ry=\"2\" style=\"stroke: #A80036; stroke-width: 1.0;\"/><ellipse cx=\"222.5021\" cy=\"234.8179\" fill=\"#A80036\" rx=\"2\" ry=\"2\" style=\"stroke: #A80036; stroke-width: 1.0;\"/></a><!--MD5=[4672eba38e49728da53d11aeb285b987]\n",
       "reverse link E3 to E4--><a href=\"psysml:5a70b25d-3e65-48fe-9200-ece04e9de0ee\" target=\"_top\" title=\"psysml:5a70b25d-3e65-48fe-9200-ece04e9de0ee\" xlink:actuate=\"onRequest\" xlink:href=\"psysml:5a70b25d-3e65-48fe-9200-ece04e9de0ee\" xlink:show=\"new\" xlink:title=\"psysml:5a70b25d-3e65-48fe-9200-ece04e9de0ee\" xlink:type=\"simple\"><path d=\"M215.85,279.86 C247.13,291.2 292.41,313.16 313,350 C326.41,374 313.64,405.67 302.45,425.69 \" fill=\"none\" id=\"E3&lt;-E4\" style=\"stroke: #A80036; stroke-width: 1.0;\"/><polygon fill=\"#A80036\" points=\"203.41,275.64,207.8094,281.3536,214.7756,279.4901,210.3762,273.7765,203.41,275.64\" style=\"stroke: #A80036; stroke-width: 1.0;\"/><text fill=\"#000000\" font-family=\"sans-serif\" font-size=\"13\" lengthAdjust=\"spacingAndGlyphs\" textLength=\"8\" x=\"297.8845\" y=\"415.9497\">1</text></a><!--MD5=[191cde3d490a3f6d7bb551fe3ddca469]\n",
       "reverse link E3 to E5--><a href=\"psysml:98aba136-2768-4c7e-bc34-95a5a6a911cd\" target=\"_top\" title=\"psysml:98aba136-2768-4c7e-bc34-95a5a6a911cd\" xlink:actuate=\"onRequest\" xlink:href=\"psysml:98aba136-2768-4c7e-bc34-95a5a6a911cd\" xlink:show=\"new\" xlink:title=\"psysml:98aba136-2768-4c7e-bc34-95a5a6a911cd\" xlink:type=\"simple\"><path d=\"M205.64,299.61 C217.87,315.59 232.71,335.01 243.95,349.7 \" fill=\"none\" id=\"E3&lt;-E5\" style=\"stroke: #A80036; stroke-width: 1.0;\"/><polygon fill=\"#FFFFFF\" points=\"197.67,289.19,198.138,296.3859,204.9604,298.7215,204.4924,291.5256,197.67,289.19\" style=\"stroke: #A80036; stroke-width: 1.0;\"/><text fill=\"#000000\" font-family=\"sans-serif\" font-size=\"13\" lengthAdjust=\"spacingAndGlyphs\" textLength=\"8\" x=\"230.5559\" y=\"338.8994\">1</text></a><!--MD5=[79568f1e445c3877b6a54524624ccc7d]\n",
       "link E4 to E6--><a href=\"psysml:04be4dec-9fb2-423c-a400-1c82afc162c3\" target=\"_top\" title=\"psysml:04be4dec-9fb2-423c-a400-1c82afc162c3\" xlink:actuate=\"onRequest\" xlink:href=\"psysml:04be4dec-9fb2-423c-a400-1c82afc162c3\" xlink:show=\"new\" xlink:title=\"psysml:04be4dec-9fb2-423c-a400-1c82afc162c3\" xlink:type=\"simple\"><path d=\"M282.38,466.28 C272.8,490.08 255.46,531.63 238,566 C227.8,586.09 215.25,607.82 204.62,625.52 \" fill=\"none\" id=\"E4-&gt;E6\" style=\"stroke: #A80036; stroke-width: 1.0;\"/><polygon fill=\"#FFFFFF\" points=\"194.04,642.88,197.947,623.012,209.9031,630.2957,194.04,642.88\" style=\"stroke: #A80036; stroke-width: 1.0;\"/><ellipse cx=\"202.6205\" cy=\"619.1847\" fill=\"#A80036\" rx=\"2\" ry=\"2\" style=\"stroke: #A80036; stroke-width: 1.0;\"/><ellipse cx=\"211.1606\" cy=\"624.3874\" fill=\"#A80036\" rx=\"2\" ry=\"2\" style=\"stroke: #A80036; stroke-width: 1.0;\"/></a><!--MD5=[3f50a3473f1dfb74d3f76443e03635af]\n",
       "reverse link E6 to E7--><a href=\"psysml:88a05b08-39fe-46e7-8c9b-5df9e56fb426\" target=\"_top\" title=\"psysml:88a05b08-39fe-46e7-8c9b-5df9e56fb426\" xlink:actuate=\"onRequest\" xlink:href=\"psysml:88a05b08-39fe-46e7-8c9b-5df9e56fb426\" xlink:show=\"new\" xlink:title=\"psysml:88a05b08-39fe-46e7-8c9b-5df9e56fb426\" xlink:type=\"simple\"><path d=\"M164.64,694.53 C155.65,710.34 144.87,729.29 136.68,743.7 \" fill=\"none\" id=\"E6&lt;-E7\" style=\"stroke: #A80036; stroke-width: 1.0;\"/><polygon fill=\"#A80036\" points=\"171.09,683.19,164.6464,686.4272,165.1562,693.6203,171.5999,690.3831,171.09,683.19\" style=\"stroke: #A80036; stroke-width: 1.0;\"/><text fill=\"#000000\" font-family=\"sans-serif\" font-size=\"13\" lengthAdjust=\"spacingAndGlyphs\" textLength=\"8\" x=\"130.9043\" y=\"732.8994\">1</text></a><!--MD5=[14ccda38c055a5c0da953d572bc50960]\n",
       "link E7 to E3--><a href=\"psysml:de23f89f-df32-45d9-b344-47d8d19c4edc\" target=\"_top\" title=\"psysml:de23f89f-df32-45d9-b344-47d8d19c4edc\" xlink:actuate=\"onRequest\" xlink:href=\"psysml:de23f89f-df32-45d9-b344-47d8d19c4edc\" xlink:show=\"new\" xlink:title=\"psysml:de23f89f-df32-45d9-b344-47d8d19c4edc\" xlink:type=\"simple\"><path d=\"M89.86,746.15 C64.03,728.31 33,699.48 33,664 C33,372 33,372 33,372 C33,318.56 98.9,291.15 143.34,278.74 \" fill=\"none\" id=\"E7-&gt;E3\" style=\"stroke: #A80036; stroke-width: 1.0;\"/><polygon fill=\"#FFFFFF\" points=\"162.77,273.87,146.039,285.275,142.6388,271.6942,162.77,273.87\" style=\"stroke: #A80036; stroke-width: 1.0;\"/><ellipse cx=\"140.0239\" cy=\"284.7192\" fill=\"#A80036\" rx=\"2\" ry=\"2\" style=\"stroke: #A80036; stroke-width: 1.0;\"/><ellipse cx=\"137.5952\" cy=\"275.0186\" fill=\"#A80036\" rx=\"2\" ry=\"2\" style=\"stroke: #A80036; stroke-width: 1.0;\"/></a><!--MD5=[dfaffb906826c3e5aca635516100ff21]\n",
       "link E5 to E8--><a href=\"psysml:feaf6c57-7b20-4701-8323-0c325a1238bf\" target=\"_top\" title=\"psysml:feaf6c57-7b20-4701-8323-0c325a1238bf\" xlink:actuate=\"onRequest\" xlink:href=\"psysml:feaf6c57-7b20-4701-8323-0c325a1238bf\" xlink:show=\"new\" xlink:title=\"psysml:feaf6c57-7b20-4701-8323-0c325a1238bf\" xlink:type=\"simple\"><path d=\"M249.99,396.02 C239.45,417.11 223.14,449.73 209.25,477.5 \" fill=\"none\" id=\"E5-&gt;E8\" style=\"stroke: #A80036; stroke-width: 1.0;\"/><polygon fill=\"#FFFFFF\" points=\"200.12,495.76,202.3561,475.6354,214.878,481.8964,200.12,495.76\" style=\"stroke: #A80036; stroke-width: 1.0;\"/><ellipse cx=\"206.694\" cy=\"471.4316\" fill=\"#A80036\" rx=\"2\" ry=\"2\" style=\"stroke: #A80036; stroke-width: 1.0;\"/><ellipse cx=\"215.6383\" cy=\"475.9037\" fill=\"#A80036\" rx=\"2\" ry=\"2\" style=\"stroke: #A80036; stroke-width: 1.0;\"/></a><!--MD5=[03c8294790d3c57651a1993cecff665f]\n",
       "reverse link E8 to E3--><a href=\"psysml:f63e9e98-9395-484c-b7ba-710e403c3592\" target=\"_top\" title=\"psysml:f63e9e98-9395-484c-b7ba-710e403c3592\" xlink:actuate=\"onRequest\" xlink:href=\"psysml:f63e9e98-9395-484c-b7ba-710e403c3592\" xlink:show=\"new\" xlink:title=\"psysml:f63e9e98-9395-484c-b7ba-710e403c3592\" xlink:type=\"simple\"><path d=\"M154.97,484.08 C136.31,447.67 117.5,395.53 131,350 C137.83,326.97 153.6,304.36 166,289.09 \" fill=\"none\" id=\"E8&lt;-E3\" style=\"stroke: #A80036; stroke-width: 1.0;\"/><polygon fill=\"#FFFFFF\" points=\"161.25,495.79,161.9438,488.6124,155.5852,485.2113,154.8913,492.3889,161.25,495.79\" style=\"stroke: #A80036; stroke-width: 1.0;\"/><text fill=\"#000000\" font-family=\"sans-serif\" font-size=\"13\" lengthAdjust=\"spacingAndGlyphs\" textLength=\"7\" x=\"132\" y=\"377.5669\">y</text></a><!--MD5=[03c8294790d3c57651a1993cecff665f]\n",
       "reverse link E8 to E3--><a href=\"psysml:f63e9e98-9395-484c-b7ba-710e403c3592\" target=\"_top\" title=\"psysml:f63e9e98-9395-484c-b7ba-710e403c3592\" xlink:actuate=\"onRequest\" xlink:href=\"psysml:f63e9e98-9395-484c-b7ba-710e403c3592\" xlink:show=\"new\" xlink:title=\"psysml:f63e9e98-9395-484c-b7ba-710e403c3592\" xlink:type=\"simple\"><path d=\"M183,482.44 C183,424.55 183,329.51 183,289.12 \" fill=\"none\" id=\"E8&lt;-E3-1\" style=\"stroke: #A80036; stroke-width: 1.0;\"/><polygon fill=\"#FFFFFF\" points=\"183,495.6,187,489.6,183,483.6,179,489.6,183,495.6\" style=\"stroke: #A80036; stroke-width: 1.0;\"/><text fill=\"#000000\" font-family=\"sans-serif\" font-size=\"13\" lengthAdjust=\"spacingAndGlyphs\" textLength=\"7\" x=\"184\" y=\"377.5669\">y</text></a><!--MD5=[0d75d2178373a6a4568e5dc728f58aef]\n",
       "reverse link E8 to E6--><a href=\"psysml:f63e9e98-9395-484c-b7ba-710e403c3592\" target=\"_top\" title=\"psysml:f63e9e98-9395-484c-b7ba-710e403c3592\" xlink:actuate=\"onRequest\" xlink:href=\"psysml:f63e9e98-9395-484c-b7ba-710e403c3592\" xlink:show=\"new\" xlink:title=\"psysml:f63e9e98-9395-484c-b7ba-710e403c3592\" xlink:type=\"simple\"><path d=\"M160.75,578.68 C157.78,589.85 156.5,601.79 159,613 C161.29,623.27 165.98,633.94 170.53,642.68 \" fill=\"none\" id=\"E8&lt;-E6\" style=\"stroke: #A80036; stroke-width: 1.0;\"/><polygon fill=\"#FFFFFF\" points=\"164.91,566.02,159.2379,570.4728,161.1667,577.4212,166.8388,572.9684,164.91,566.02\" style=\"stroke: #A80036; stroke-width: 1.0;\"/><text fill=\"#000000\" font-family=\"sans-serif\" font-size=\"13\" lengthAdjust=\"spacingAndGlyphs\" textLength=\"7\" x=\"160\" y=\"609.0669\">y</text></a><!--MD5=[0d75d2178373a6a4568e5dc728f58aef]\n",
       "reverse link E8 to E6--><a href=\"psysml:f63e9e98-9395-484c-b7ba-710e403c3592\" target=\"_top\" title=\"psysml:f63e9e98-9395-484c-b7ba-710e403c3592\" xlink:actuate=\"onRequest\" xlink:href=\"psysml:f63e9e98-9395-484c-b7ba-710e403c3592\" xlink:show=\"new\" xlink:title=\"psysml:f63e9e98-9395-484c-b7ba-710e403c3592\" xlink:type=\"simple\"><path d=\"M182.64,579.38 C182.47,601.38 182.27,626.29 182.15,642.95 \" fill=\"none\" id=\"E8&lt;-E6-1\" style=\"stroke: #A80036; stroke-width: 1.0;\"/><polygon fill=\"#FFFFFF\" points=\"182.74,566.16,178.694,572.1291,182.6477,578.1596,186.6937,572.1906,182.74,566.16\" style=\"stroke: #A80036; stroke-width: 1.0;\"/><text fill=\"#000000\" font-family=\"sans-serif\" font-size=\"13\" lengthAdjust=\"spacingAndGlyphs\" textLength=\"7\" x=\"183\" y=\"609.0669\">y</text></a><!--MD5=[23ac544a70576c3e717098101004234c]\n",
       "reverse link E9 to E10--><a href=\"psysml:f7fd9ae3-3fa5-48e2-b146-bf2078e3bf75\" target=\"_top\" title=\"psysml:f7fd9ae3-3fa5-48e2-b146-bf2078e3bf75\" xlink:actuate=\"onRequest\" xlink:href=\"psysml:f7fd9ae3-3fa5-48e2-b146-bf2078e3bf75\" xlink:show=\"new\" xlink:title=\"psysml:f7fd9ae3-3fa5-48e2-b146-bf2078e3bf75\" xlink:type=\"simple\"><path d=\"M114.68,98.97 C106.36,115.3 96.7,134.25 89.69,148 \" fill=\"none\" id=\"E9&lt;-E10\" style=\"stroke: #A80036; stroke-width: 1.0;\"/><polygon fill=\"#FFFFFF\" points=\"120.72,87.13,114.4328,90.6615,115.2745,97.8233,121.5617,94.2918,120.72,87.13\" style=\"stroke: #A80036; stroke-width: 1.0;\"/><text fill=\"#000000\" font-family=\"sans-serif\" font-size=\"13\" lengthAdjust=\"spacingAndGlyphs\" textLength=\"8\" x=\"83.3614\" y=\"137.0083\">1</text></a><!--MD5=[feeac5eb423634930294aa81f2d25a4c]\n",
       "link E10 to E3--><a href=\"psysml:09a722a7-3c7d-4d30-9bcf-d6d93c165304\" target=\"_top\" title=\"psysml:09a722a7-3c7d-4d30-9bcf-d6d93c165304\" xlink:actuate=\"onRequest\" xlink:href=\"psysml:09a722a7-3c7d-4d30-9bcf-d6d93c165304\" xlink:show=\"new\" xlink:title=\"psysml:09a722a7-3c7d-4d30-9bcf-d6d93c165304\" xlink:type=\"simple\"><path d=\"M99.86,188.09 C113.68,201.37 132.47,219.43 148.69,235.02 \" fill=\"none\" id=\"E10-&gt;E3\" style=\"stroke: #A80036; stroke-width: 1.0;\"/><polygon fill=\"#FFFFFF\" points=\"163.2,248.97,144.6476,240.8578,154.3451,230.7604,163.2,248.97\" style=\"stroke: #A80036; stroke-width: 1.0;\"/><ellipse cx=\"141.9219\" cy=\"235.467\" fill=\"#A80036\" rx=\"2\" ry=\"2\" style=\"stroke: #A80036; stroke-width: 1.0;\"/><ellipse cx=\"148.8487\" cy=\"228.2546\" fill=\"#A80036\" rx=\"2\" ry=\"2\" style=\"stroke: #A80036; stroke-width: 1.0;\"/></a><!--MD5=[1fc04a95fd77ad5ce46c1a3027516051]\n",
       "reverse link E9 to E11--><a href=\"psysml:2308c13a-9c40-4baf-abe1-b4752fcfac30\" target=\"_top\" title=\"psysml:2308c13a-9c40-4baf-abe1-b4752fcfac30\" xlink:actuate=\"onRequest\" xlink:href=\"psysml:2308c13a-9c40-4baf-abe1-b4752fcfac30\" xlink:show=\"new\" xlink:title=\"psysml:2308c13a-9c40-4baf-abe1-b4752fcfac30\" xlink:type=\"simple\"><path d=\"M148.99,98.97 C157.15,115.3 166.62,134.25 173.5,148 \" fill=\"none\" id=\"E9&lt;-E11\" style=\"stroke: #A80036; stroke-width: 1.0;\"/><polygon fill=\"#FFFFFF\" points=\"143.07,87.13,142.1685,94.2845,148.426,97.8684,149.3275,90.7139,143.07,87.13\" style=\"stroke: #A80036; stroke-width: 1.0;\"/><text fill=\"#000000\" font-family=\"sans-serif\" font-size=\"13\" lengthAdjust=\"spacingAndGlyphs\" textLength=\"8\" x=\"161.5344\" y=\"137.0083\">1</text></a><!--MD5=[0517f1ce58c4d5483948f93845c45e26]\n",
       "link E11 to E3--><a href=\"psysml:713baad2-05ac-404b-8904-f9720a0da3f6\" target=\"_top\" title=\"psysml:713baad2-05ac-404b-8904-f9720a0da3f6\" xlink:actuate=\"onRequest\" xlink:href=\"psysml:713baad2-05ac-404b-8904-f9720a0da3f6\" xlink:show=\"new\" xlink:title=\"psysml:713baad2-05ac-404b-8904-f9720a0da3f6\" xlink:type=\"simple\"><path d=\"M183,188.09 C183,199.59 183,214.68 183,228.63 \" fill=\"none\" id=\"E11-&gt;E3\" style=\"stroke: #A80036; stroke-width: 1.0;\"/><polygon fill=\"#FFFFFF\" points=\"183,248.97,176,229.97,190,229.97,183,248.97\" style=\"stroke: #A80036; stroke-width: 1.0;\"/><ellipse cx=\"178\" cy=\"224.27\" fill=\"#A80036\" rx=\"2\" ry=\"2\" style=\"stroke: #A80036; stroke-width: 1.0;\"/><ellipse cx=\"188\" cy=\"224.27\" fill=\"#A80036\" rx=\"2\" ry=\"2\" style=\"stroke: #A80036; stroke-width: 1.0;\"/></a><!--MD5=[594939d362dec8411b3ac393a5ff50a0]\n",
       "@startuml\r\n",
       " \r\n",
       "package \"ItemTest\" as E1  [[psysml:9c84b130-4496-45dd-acf0-f614adf4451b ]]  {\r\n",
       "comp usage \"f: A \" as E2 << << (P,limegreen) >> [[psysml:046ce2e8-70d6-418b-9e34-4058f6a1e698 ]] {\r\n",
       "}\r\n",
       "comp def \"A\" as E3 << << (B,green) >> [[psysml:b761bda6-ef45-4173-adbe-8f17f5dd59b9 ]] {\r\n",
       "}\r\n",
       "comp usage \"b: B \" as E4 << << (P,limegreen) >> [[psysml:5a9b7c1e-d921-40a5-84d4-dcafad1b8599 ]] {\r\n",
       "}\r\n",
       "comp usage \"c: C \" as E5 << << (P,limegreen) part>> [[psysml:c52e7c62-32ae-43e1-a51e-2d7f86512260 ]] {\r\n",
       "}\r\n",
       "comp def \"<i>B</i>\" as E6 << << (B,green) >> [[psysml:154f7142-f3c2-4f8f-a55c-1d31f59952e7 ]] {\r\n",
       "}\r\n",
       "comp usage \"<i>a</i>: A \" as E7 << << (P,limegreen) part>> [[psysml:3092a58e-bc17-492e-b3ac-d9b0c5d27ee1 ]] {\r\n",
       "}\r\n",
       "comp def \"C\" as E8 << << (B,green) >> [[psysml:a977dc12-1522-4e17-86ea-88834b4a9262 ]] {\r\n",
       "- - parameters - -\r\n",
       "<b>in</b> y: A, B\r\n",
       "}\r\n",
       "comp def \"P\" as E9 << <<(D,brown) port  def>> [[psysml:505a0904-767f-4431-bdaf-f395e9a256c5 ]] {\r\n",
       "}\r\n",
       "comp usage \"a1: A \" as E10 << << (P,limegreen) >> [[psysml:b48ee9ab-0a15-45ce-8465-86ae83c4be7f ]] {\r\n",
       "}\r\n",
       "comp usage \"a2: A \" as E11 << << (P,limegreen) >> [[psysml:7b14a527-4e8d-41df-a91b-3ca9db44b1d9 ]] {\r\n",
       "}\r\n",
       "}\r\n",
       "E2 - -:|> E3 [[psysml:2913aa14-34e4-4ebc-b3c0-73cbbe37a712 ]] \r\n",
       "E3 *- - \"1\"E4 [[psysml:5a70b25d-3e65-48fe-9200-ece04e9de0ee ]] \r\n",
       "E3 o- - \"1\"E5 [[psysml:98aba136-2768-4c7e-bc34-95a5a6a911cd ]] \r\n",
       "E4 - -:|> E6 [[psysml:04be4dec-9fb2-423c-a400-1c82afc162c3 ]] \r\n",
       "E6 *- - \"1\"E7 [[psysml:88a05b08-39fe-46e7-8c9b-5df9e56fb426 ]] \r\n",
       "E7 - -:|> E3 [[psysml:de23f89f-df32-45d9-b344-47d8d19c4edc ]] \r\n",
       "E5 - -:|> E8 [[psysml:feaf6c57-7b20-4701-8323-0c325a1238bf ]] \r\n",
       "E8 o- - E3 [[psysml:f63e9e98-9395-484c-b7ba-710e403c3592 ]] : y\r\n",
       "E8 o- - E6 [[psysml:f63e9e98-9395-484c-b7ba-710e403c3592 ]] : y\r\n",
       "E8 o- - E3 [[psysml:f63e9e98-9395-484c-b7ba-710e403c3592 ]] : y\r\n",
       "E8 o- - E6 [[psysml:f63e9e98-9395-484c-b7ba-710e403c3592 ]] : y\r\n",
       "E9 o- - \"1\"E10 [[psysml:f7fd9ae3-3fa5-48e2-b146-bf2078e3bf75 ]] \r\n",
       "E10 - -:|> E3 [[psysml:09a722a7-3c7d-4d30-9bcf-d6d93c165304 ]] \r\n",
       "E9 o- - \"1\"E11 [[psysml:2308c13a-9c40-4baf-abe1-b4752fcfac30 ]] \r\n",
       "E11 - -:|> E3 [[psysml:713baad2-05ac-404b-8904-f9720a0da3f6 ]] \r\n",
       "@enduml\r\n",
       "\n",
       "PlantUML version 1.2020.13(Sat Jun 13 12:26:38 UTC 2020)\n",
       "(EPL source distribution)\n",
       "Java Runtime: OpenJDK Runtime Environment\n",
       "JVM: OpenJDK 64-Bit Server VM\n",
       "Default Encoding: UTF-8\n",
       "Language: en\n",
       "Country: null\n",
       "--></g></svg>"
      ]
     },
     "execution_count": 30,
     "metadata": {},
     "output_type": "execute_result"
    }
   ],
   "source": [
    "%viz --style=\"PLANTUML\" --view=\"Default\" \"ItemTest\""
   ]
  },
  {
   "cell_type": "code",
   "execution_count": 31,
   "id": "008058fa",
   "metadata": {
    "execution": {
     "iopub.execute_input": "2021-10-25T08:20:54.930502Z",
     "iopub.status.busy": "2021-10-25T08:20:54.930073Z",
     "iopub.status.idle": "2021-10-25T08:20:54.986898Z",
     "shell.execute_reply": "2021-10-25T08:20:54.984840Z"
    }
   },
   "outputs": [
    {
     "data": {
      "image/svg+xml": [
       "<?xml version=\"1.0\" encoding=\"UTF-8\" standalone=\"no\"?><svg xmlns=\"http://www.w3.org/2000/svg\" xmlns:xlink=\"http://www.w3.org/1999/xlink\" contentScriptType=\"application/ecmascript\" contentStyleType=\"text/css\" height=\"818px\" preserveAspectRatio=\"none\" style=\"width:370px;height:818px;\" version=\"1.1\" viewBox=\"0 0 370 818\" width=\"370px\" zoomAndPan=\"magnify\"><defs><filter height=\"300%\" id=\"f7iw561nf9odo\" width=\"300%\" x=\"-1\" y=\"-1\"><feGaussianBlur result=\"blurOut\" stdDeviation=\"2.0\"/><feColorMatrix in=\"blurOut\" result=\"blurOut2\" type=\"matrix\" values=\"0 0 0 0 0 0 0 0 0 0 0 0 0 0 0 0 0 0 .4 0\"/><feOffset dx=\"4.0\" dy=\"4.0\" in=\"blurOut2\" result=\"blurOut3\"/><feBlend in=\"SourceGraphic\" in2=\"blurOut3\" mode=\"normal\"/></filter></defs><g><!--MD5=[fbc87193dbaf4d95561dea2c320d4a47]\n",
       "cluster E1--><a href=\"psysml:9c84b130-4496-45dd-acf0-f614adf4451b\" target=\"_top\" title=\"psysml:9c84b130-4496-45dd-acf0-f614adf4451b\" xlink:actuate=\"onRequest\" xlink:href=\"psysml:9c84b130-4496-45dd-acf0-f614adf4451b\" xlink:show=\"new\" xlink:title=\"psysml:9c84b130-4496-45dd-acf0-f614adf4451b\" xlink:type=\"simple\"><polygon fill=\"#FFFFFF\" filter=\"url(#f7iw561nf9odo)\" points=\"16,6,83,6,90,28.2969,348,28.2969,348,806,16,806,16,6\" style=\"stroke: #000000; stroke-width: 1.5;\"/><line style=\"stroke: #000000; stroke-width: 1.5;\" x1=\"16\" x2=\"90\" y1=\"28.2969\" y2=\"28.2969\"/><text fill=\"#000000\" font-family=\"sans-serif\" font-size=\"14\" font-weight=\"bold\" lengthAdjust=\"spacingAndGlyphs\" textLength=\"61\" x=\"20\" y=\"20.9951\">ItemTest</text></a><!--MD5=[b4997ac47864f28c2f74865a473b2911]\n",
       "class E2--><a href=\"psysml:046ce2e8-70d6-418b-9e34-4058f6a1e698\" target=\"_top\" title=\"psysml:046ce2e8-70d6-418b-9e34-4058f6a1e698\" xlink:actuate=\"onRequest\" xlink:href=\"psysml:046ce2e8-70d6-418b-9e34-4058f6a1e698\" xlink:show=\"new\" xlink:title=\"psysml:046ce2e8-70d6-418b-9e34-4058f6a1e698\" xlink:type=\"simple\"><rect fill=\"#FEFECE\" filter=\"url(#f7iw561nf9odo)\" height=\"40\" id=\"E2\" rx=\"10\" ry=\"10\" style=\"stroke: #A80036; stroke-width: 1.5;\" width=\"56\" x=\"252\" y=\"148\"/><ellipse cx=\"267\" cy=\"164\" fill=\"#32CD32\" rx=\"11\" ry=\"11\" style=\"stroke: #A80036; stroke-width: 1.0;\"/><path d=\"M263.8125,169 L263.8125,158.4063 L267.4219,158.4063 Q268.6406,158.4063 269.4375,158.8438 Q270.2344,159.2656 270.6094,159.9688 Q271,160.6719 271,161.5156 Q271,162.3594 270.625,163.0469 Q270.2656,163.7344 269.4688,164.1563 Q268.6875,164.5625 267.5,164.5625 L265.7656,164.5625 L265.7656,169 L263.8125,169 Z M265.7656,162.9688 L267.375,162.9688 Q268.1875,162.9688 268.6094,162.5625 Q269.0313,162.1563 269.0313,161.5156 Q269.0313,160.8906 268.6094,160.4844 Q268.1875,160.0781 267.3906,160.0781 L265.7656,160.0781 L265.7656,162.9688 Z \"/><text fill=\"#000000\" font-family=\"sans-serif\" font-size=\"12\" lengthAdjust=\"spacingAndGlyphs\" textLength=\"20\" x=\"281\" y=\"168.1543\">f: A</text><line style=\"stroke: #A80036; stroke-width: 1.5;\" x1=\"253\" x2=\"307\" y1=\"180\" y2=\"180\"/></a><!--MD5=[09b614a08d8cba4a07c9adeb5e0fee81]\n",
       "class E3--><a href=\"psysml:b761bda6-ef45-4173-adbe-8f17f5dd59b9\" target=\"_top\" title=\"psysml:b761bda6-ef45-4173-adbe-8f17f5dd59b9\" xlink:actuate=\"onRequest\" xlink:href=\"psysml:b761bda6-ef45-4173-adbe-8f17f5dd59b9\" xlink:show=\"new\" xlink:title=\"psysml:b761bda6-ef45-4173-adbe-8f17f5dd59b9\" xlink:type=\"simple\"><rect fill=\"#FEFECE\" filter=\"url(#f7iw561nf9odo)\" height=\"40\" id=\"E3\" style=\"stroke: #A80036; stroke-width: 1.5;\" width=\"40\" x=\"163\" y=\"249\"/><ellipse cx=\"178\" cy=\"265\" fill=\"#008000\" rx=\"11\" ry=\"11\" style=\"stroke: #A80036; stroke-width: 1.0;\"/><path d=\"M174.875,270 L174.875,259.4063 L178.1094,259.4063 Q180.0156,259.4063 180.9219,260.1563 Q181.8438,260.9063 181.8438,262.0781 Q181.8438,262.7656 181.4531,263.4219 Q181.0781,264.0781 180.3594,264.375 Q181.2188,264.75 181.7344,265.4375 Q182.25,266.125 182.25,266.9375 Q182.25,268.3125 181.2188,269.1563 Q180.2031,270 178.0938,270 L174.875,270 Z M176.7969,263.6406 L177.9531,263.6406 Q179.0781,263.6406 179.4844,263.2656 Q179.9063,262.875 179.9063,262.25 Q179.9063,261.6719 179.4844,261.3125 Q179.0625,260.9531 178.125,260.9531 L176.7969,260.9531 L176.7969,263.6406 Z M176.7969,268.4219 L178.2969,268.4219 Q179.2031,268.4219 179.7344,268.0313 Q180.2656,267.6406 180.2656,266.8906 Q180.2656,266.125 179.7656,265.6563 Q179.2656,265.1719 178,265.1719 L176.7969,265.1719 L176.7969,268.4219 Z \"/><text fill=\"#000000\" font-family=\"sans-serif\" font-size=\"12\" lengthAdjust=\"spacingAndGlyphs\" textLength=\"8\" x=\"192\" y=\"269.1543\">A</text><line style=\"stroke: #A80036; stroke-width: 1.5;\" x1=\"164\" x2=\"202\" y1=\"281\" y2=\"281\"/></a><!--MD5=[ebbe1d658d1005bcc118a6aa81145e00]\n",
       "class E4--><a href=\"psysml:5a9b7c1e-d921-40a5-84d4-dcafad1b8599\" target=\"_top\" title=\"psysml:5a9b7c1e-d921-40a5-84d4-dcafad1b8599\" xlink:actuate=\"onRequest\" xlink:href=\"psysml:5a9b7c1e-d921-40a5-84d4-dcafad1b8599\" xlink:show=\"new\" xlink:title=\"psysml:5a9b7c1e-d921-40a5-84d4-dcafad1b8599\" xlink:type=\"simple\"><rect fill=\"#FEFECE\" filter=\"url(#f7iw561nf9odo)\" height=\"40\" id=\"E4\" rx=\"10\" ry=\"10\" style=\"stroke: #A80036; stroke-width: 1.5;\" width=\"60\" x=\"260\" y=\"426\"/><ellipse cx=\"275\" cy=\"442\" fill=\"#32CD32\" rx=\"11\" ry=\"11\" style=\"stroke: #A80036; stroke-width: 1.0;\"/><path d=\"M271.8125,447 L271.8125,436.4063 L275.4219,436.4063 Q276.6406,436.4063 277.4375,436.8438 Q278.2344,437.2656 278.6094,437.9688 Q279,438.6719 279,439.5156 Q279,440.3594 278.625,441.0469 Q278.2656,441.7344 277.4688,442.1563 Q276.6875,442.5625 275.5,442.5625 L273.7656,442.5625 L273.7656,447 L271.8125,447 Z M273.7656,440.9688 L275.375,440.9688 Q276.1875,440.9688 276.6094,440.5625 Q277.0313,440.1563 277.0313,439.5156 Q277.0313,438.8906 276.6094,438.4844 Q276.1875,438.0781 275.3906,438.0781 L273.7656,438.0781 L273.7656,440.9688 Z \"/><text fill=\"#000000\" font-family=\"sans-serif\" font-size=\"12\" lengthAdjust=\"spacingAndGlyphs\" textLength=\"24\" x=\"289\" y=\"446.1543\">b: B</text><line style=\"stroke: #A80036; stroke-width: 1.5;\" x1=\"261\" x2=\"319\" y1=\"458\" y2=\"458\"/></a><!--MD5=[270fce915f116d4de14055a7c1d9a0f3]\n",
       "class E5--><a href=\"psysml:c52e7c62-32ae-43e1-a51e-2d7f86512260\" target=\"_top\" title=\"psysml:c52e7c62-32ae-43e1-a51e-2d7f86512260\" xlink:actuate=\"onRequest\" xlink:href=\"psysml:c52e7c62-32ae-43e1-a51e-2d7f86512260\" xlink:show=\"new\" xlink:title=\"psysml:c52e7c62-32ae-43e1-a51e-2d7f86512260\" xlink:type=\"simple\"><rect fill=\"#FEFECE\" filter=\"url(#f7iw561nf9odo)\" height=\"45.9375\" id=\"E5\" rx=\"10\" ry=\"10\" style=\"stroke: #A80036; stroke-width: 1.5;\" width=\"68\" x=\"227\" y=\"350\"/><ellipse cx=\"242\" cy=\"368.9688\" fill=\"#32CD32\" rx=\"11\" ry=\"11\" style=\"stroke: #A80036; stroke-width: 1.0;\"/><path d=\"M238.8125,373.9688 L238.8125,363.375 L242.4219,363.375 Q243.6406,363.375 244.4375,363.8125 Q245.2344,364.2344 245.6094,364.9375 Q246,365.6406 246,366.4844 Q246,367.3281 245.625,368.0156 Q245.2656,368.7031 244.4688,369.125 Q243.6875,369.5313 242.5,369.5313 L240.7656,369.5313 L240.7656,373.9688 L238.8125,373.9688 Z M240.7656,367.9375 L242.375,367.9375 Q243.1875,367.9375 243.6094,367.5313 Q244.0313,367.125 244.0313,366.4844 Q244.0313,365.8594 243.6094,365.4531 Q243.1875,365.0469 242.3906,365.0469 L240.7656,365.0469 L240.7656,367.9375 Z \"/><text fill=\"#000000\" font-family=\"sans-serif\" font-size=\"12\" font-style=\"italic\" lengthAdjust=\"spacingAndGlyphs\" textLength=\"40\" x=\"254\" y=\"366.1387\">«part»</text><text fill=\"#000000\" font-family=\"sans-serif\" font-size=\"12\" lengthAdjust=\"spacingAndGlyphs\" textLength=\"23\" x=\"260.5\" y=\"380.1074\">c: C</text><line style=\"stroke: #A80036; stroke-width: 1.5;\" x1=\"228\" x2=\"294\" y1=\"387.9375\" y2=\"387.9375\"/></a><!--MD5=[60a26617385b1d2d0262a64233df1f8d]\n",
       "class E6--><a href=\"psysml:154f7142-f3c2-4f8f-a55c-1d31f59952e7\" target=\"_top\" title=\"psysml:154f7142-f3c2-4f8f-a55c-1d31f59952e7\" xlink:actuate=\"onRequest\" xlink:href=\"psysml:154f7142-f3c2-4f8f-a55c-1d31f59952e7\" xlink:show=\"new\" xlink:title=\"psysml:154f7142-f3c2-4f8f-a55c-1d31f59952e7\" xlink:type=\"simple\"><rect fill=\"#FEFECE\" filter=\"url(#f7iw561nf9odo)\" height=\"40\" id=\"E6\" style=\"stroke: #A80036; stroke-width: 1.5;\" width=\"40\" x=\"162\" y=\"643\"/><ellipse cx=\"177\" cy=\"659\" fill=\"#008000\" rx=\"11\" ry=\"11\" style=\"stroke: #A80036; stroke-width: 1.0;\"/><path d=\"M173.875,664 L173.875,653.4063 L177.1094,653.4063 Q179.0156,653.4063 179.9219,654.1563 Q180.8438,654.9063 180.8438,656.0781 Q180.8438,656.7656 180.4531,657.4219 Q180.0781,658.0781 179.3594,658.375 Q180.2188,658.75 180.7344,659.4375 Q181.25,660.125 181.25,660.9375 Q181.25,662.3125 180.2188,663.1563 Q179.2031,664 177.0938,664 L173.875,664 Z M175.7969,657.6406 L176.9531,657.6406 Q178.0781,657.6406 178.4844,657.2656 Q178.9063,656.875 178.9063,656.25 Q178.9063,655.6719 178.4844,655.3125 Q178.0625,654.9531 177.125,654.9531 L175.7969,654.9531 L175.7969,657.6406 Z M175.7969,662.4219 L177.2969,662.4219 Q178.2031,662.4219 178.7344,662.0313 Q179.2656,661.6406 179.2656,660.8906 Q179.2656,660.125 178.7656,659.6563 Q178.2656,659.1719 177,659.1719 L175.7969,659.1719 L175.7969,662.4219 Z \"/><text fill=\"#000000\" font-family=\"sans-serif\" font-size=\"12\" font-style=\"italic\" lengthAdjust=\"spacingAndGlyphs\" textLength=\"8\" x=\"191\" y=\"663.1543\">B</text><line style=\"stroke: #A80036; stroke-width: 1.5;\" x1=\"163\" x2=\"201\" y1=\"675\" y2=\"675\"/></a><!--MD5=[2156ba9850f5573cc1fc38a6a4b2f02b]\n",
       "class E7--><a href=\"psysml:3092a58e-bc17-492e-b3ac-d9b0c5d27ee1\" target=\"_top\" title=\"psysml:3092a58e-bc17-492e-b3ac-d9b0c5d27ee1\" xlink:actuate=\"onRequest\" xlink:href=\"psysml:3092a58e-bc17-492e-b3ac-d9b0c5d27ee1\" xlink:show=\"new\" xlink:title=\"psysml:3092a58e-bc17-492e-b3ac-d9b0c5d27ee1\" xlink:type=\"simple\"><rect fill=\"#FEFECE\" filter=\"url(#f7iw561nf9odo)\" height=\"45.9375\" id=\"E7\" rx=\"10\" ry=\"10\" style=\"stroke: #A80036; stroke-width: 1.5;\" width=\"68\" x=\"90\" y=\"744\"/><ellipse cx=\"105\" cy=\"762.9688\" fill=\"#32CD32\" rx=\"11\" ry=\"11\" style=\"stroke: #A80036; stroke-width: 1.0;\"/><path d=\"M101.8125,767.9688 L101.8125,757.375 L105.4219,757.375 Q106.6406,757.375 107.4375,757.8125 Q108.2344,758.2344 108.6094,758.9375 Q109,759.6406 109,760.4844 Q109,761.3281 108.625,762.0156 Q108.2656,762.7031 107.4688,763.125 Q106.6875,763.5313 105.5,763.5313 L103.7656,763.5313 L103.7656,767.9688 L101.8125,767.9688 Z M103.7656,761.9375 L105.375,761.9375 Q106.1875,761.9375 106.6094,761.5313 Q107.0313,761.125 107.0313,760.4844 Q107.0313,759.8594 106.6094,759.4531 Q106.1875,759.0469 105.3906,759.0469 L103.7656,759.0469 L103.7656,761.9375 Z \"/><text fill=\"#000000\" font-family=\"sans-serif\" font-size=\"12\" font-style=\"italic\" lengthAdjust=\"spacingAndGlyphs\" textLength=\"40\" x=\"117\" y=\"760.1387\">«part»</text><text fill=\"#000000\" font-family=\"sans-serif\" font-size=\"12\" font-style=\"italic\" lengthAdjust=\"spacingAndGlyphs\" textLength=\"8\" x=\"123\" y=\"774.1074\">a</text><text fill=\"#000000\" font-family=\"sans-serif\" font-size=\"12\" lengthAdjust=\"spacingAndGlyphs\" textLength=\"16\" x=\"131\" y=\"774.1074\">: A</text><line style=\"stroke: #A80036; stroke-width: 1.5;\" x1=\"91\" x2=\"157\" y1=\"781.9375\" y2=\"781.9375\"/></a><!--MD5=[b9389687b975829384b498ac4b7476b2]\n",
       "class E8--><a href=\"psysml:a977dc12-1522-4e17-86ea-88834b4a9262\" target=\"_top\" title=\"psysml:a977dc12-1522-4e17-86ea-88834b4a9262\" xlink:actuate=\"onRequest\" xlink:href=\"psysml:a977dc12-1522-4e17-86ea-88834b4a9262\" xlink:show=\"new\" xlink:title=\"psysml:a977dc12-1522-4e17-86ea-88834b4a9262\" xlink:type=\"simple\"><rect fill=\"#FEFECE\" filter=\"url(#f7iw561nf9odo)\" height=\"69.6094\" id=\"E8\" style=\"stroke: #A80036; stroke-width: 1.5;\" width=\"75\" x=\"145.5\" y=\"496\"/><ellipse cx=\"176.25\" cy=\"512\" fill=\"#008000\" rx=\"11\" ry=\"11\" style=\"stroke: #A80036; stroke-width: 1.0;\"/><path d=\"M173.125,517 L173.125,506.4063 L176.3594,506.4063 Q178.2656,506.4063 179.1719,507.1563 Q180.0938,507.9063 180.0938,509.0781 Q180.0938,509.7656 179.7031,510.4219 Q179.3281,511.0781 178.6094,511.375 Q179.4688,511.75 179.9844,512.4375 Q180.5,513.125 180.5,513.9375 Q180.5,515.3125 179.4688,516.1563 Q178.4531,517 176.3438,517 L173.125,517 Z M175.0469,510.6406 L176.2031,510.6406 Q177.3281,510.6406 177.7344,510.2656 Q178.1563,509.875 178.1563,509.25 Q178.1563,508.6719 177.7344,508.3125 Q177.3125,507.9531 176.375,507.9531 L175.0469,507.9531 L175.0469,510.6406 Z M175.0469,515.4219 L176.5469,515.4219 Q177.4531,515.4219 177.9844,515.0313 Q178.5156,514.6406 178.5156,513.8906 Q178.5156,513.125 178.0156,512.6563 Q177.5156,512.1719 176.25,512.1719 L175.0469,512.1719 L175.0469,515.4219 Z \"/><text fill=\"#000000\" font-family=\"sans-serif\" font-size=\"12\" lengthAdjust=\"spacingAndGlyphs\" textLength=\"8\" x=\"193.75\" y=\"516.1543\">C</text><line style=\"stroke: #A80036; stroke-width: 1.5;\" x1=\"146.5\" x2=\"219.5\" y1=\"528\" y2=\"528\"/><text fill=\"#000000\" font-family=\"sans-serif\" font-size=\"11\" font-weight=\"bold\" lengthAdjust=\"spacingAndGlyphs\" textLength=\"10\" x=\"151.5\" y=\"559.0151\">in</text><text fill=\"#000000\" font-family=\"sans-serif\" font-size=\"11\" lengthAdjust=\"spacingAndGlyphs\" textLength=\"37\" x=\"165.5\" y=\"559.0151\">y: A, B</text><line style=\"stroke: #A80036; stroke-width: 1.0;\" x1=\"146.5\" x2=\"149.5\" y1=\"542.4023\" y2=\"542.4023\"/><text fill=\"#000000\" font-family=\"sans-serif\" font-size=\"11\" lengthAdjust=\"spacingAndGlyphs\" textLength=\"67\" x=\"149.5\" y=\"545.7104\">parameters</text><line style=\"stroke: #A80036; stroke-width: 1.0;\" x1=\"216.5\" x2=\"219.5\" y1=\"542.4023\" y2=\"542.4023\"/></a><!--MD5=[fd4143e9d270a159db93a4ea2a975926]\n",
       "class E9--><a href=\"psysml:505a0904-767f-4431-bdaf-f395e9a256c5\" target=\"_top\" title=\"psysml:505a0904-767f-4431-bdaf-f395e9a256c5\" xlink:actuate=\"onRequest\" xlink:href=\"psysml:505a0904-767f-4431-bdaf-f395e9a256c5\" xlink:show=\"new\" xlink:title=\"psysml:505a0904-767f-4431-bdaf-f395e9a256c5\" xlink:type=\"simple\"><rect fill=\"#FEFECE\" filter=\"url(#f7iw561nf9odo)\" height=\"45.9375\" id=\"E9\" style=\"stroke: #A80036; stroke-width: 1.5;\" width=\"96\" x=\"84\" y=\"41\"/><ellipse cx=\"99\" cy=\"59.9688\" fill=\"#A52A2A\" rx=\"11\" ry=\"11\" style=\"stroke: #A80036; stroke-width: 1.0;\"/><path d=\"M96.2188,64.9688 L96.2188,54.375 L98.9531,54.375 Q100.3438,54.375 101.1094,54.7656 Q101.8906,55.1406 102.4219,55.8438 Q102.9531,56.5469 103.25,57.5469 Q103.5469,58.5313 103.5469,59.75 Q103.5,61.3438 103,62.5313 Q102.5156,63.7031 101.4688,64.3438 Q100.4375,64.9688 98.75,64.9688 L96.2188,64.9688 Z M98.0781,63.4688 L98.7031,63.4688 Q99.7813,63.4688 100.4375,63.0156 Q101.0938,62.5625 101.375,61.7344 Q101.6719,60.8906 101.6563,59.7656 Q101.6563,58.5938 101.4063,57.7344 Q101.1563,56.8594 100.5469,56.3906 Q99.9375,55.9063 98.8906,55.9063 L98.0781,55.9063 L98.0781,63.4688 Z \"/><text fill=\"#000000\" font-family=\"sans-serif\" font-size=\"12\" font-style=\"italic\" lengthAdjust=\"spacingAndGlyphs\" textLength=\"68\" x=\"111\" y=\"57.1387\">«port  def»</text><text fill=\"#000000\" font-family=\"sans-serif\" font-size=\"12\" lengthAdjust=\"spacingAndGlyphs\" textLength=\"8\" x=\"141\" y=\"71.1074\">P</text><line style=\"stroke: #A80036; stroke-width: 1.5;\" x1=\"85\" x2=\"179\" y1=\"78.9375\" y2=\"78.9375\"/></a><!--MD5=[96f4274e9e20536e775497830990834d]\n",
       "class E10--><a href=\"psysml:b48ee9ab-0a15-45ce-8465-86ae83c4be7f\" target=\"_top\" title=\"psysml:b48ee9ab-0a15-45ce-8465-86ae83c4be7f\" xlink:actuate=\"onRequest\" xlink:href=\"psysml:b48ee9ab-0a15-45ce-8465-86ae83c4be7f\" xlink:show=\"new\" xlink:title=\"psysml:b48ee9ab-0a15-45ce-8465-86ae83c4be7f\" xlink:type=\"simple\"><rect fill=\"#FEFECE\" filter=\"url(#f7iw561nf9odo)\" height=\"40\" id=\"E10\" rx=\"10\" ry=\"10\" style=\"stroke: #A80036; stroke-width: 1.5;\" width=\"68\" x=\"46\" y=\"148\"/><ellipse cx=\"61\" cy=\"164\" fill=\"#32CD32\" rx=\"11\" ry=\"11\" style=\"stroke: #A80036; stroke-width: 1.0;\"/><path d=\"M57.8125,169 L57.8125,158.4063 L61.4219,158.4063 Q62.6406,158.4063 63.4375,158.8438 Q64.2344,159.2656 64.6094,159.9688 Q65,160.6719 65,161.5156 Q65,162.3594 64.625,163.0469 Q64.2656,163.7344 63.4688,164.1563 Q62.6875,164.5625 61.5,164.5625 L59.7656,164.5625 L59.7656,169 L57.8125,169 Z M59.7656,162.9688 L61.375,162.9688 Q62.1875,162.9688 62.6094,162.5625 Q63.0313,162.1563 63.0313,161.5156 Q63.0313,160.8906 62.6094,160.4844 Q62.1875,160.0781 61.3906,160.0781 L59.7656,160.0781 L59.7656,162.9688 Z \"/><text fill=\"#000000\" font-family=\"sans-serif\" font-size=\"12\" lengthAdjust=\"spacingAndGlyphs\" textLength=\"32\" x=\"75\" y=\"168.1543\">a1: A</text><line style=\"stroke: #A80036; stroke-width: 1.5;\" x1=\"47\" x2=\"113\" y1=\"180\" y2=\"180\"/></a><!--MD5=[1dd1bfd58a279cf63c5f349dbc8fc6a1]\n",
       "class E11--><a href=\"psysml:7b14a527-4e8d-41df-a91b-3ca9db44b1d9\" target=\"_top\" title=\"psysml:7b14a527-4e8d-41df-a91b-3ca9db44b1d9\" xlink:actuate=\"onRequest\" xlink:href=\"psysml:7b14a527-4e8d-41df-a91b-3ca9db44b1d9\" xlink:show=\"new\" xlink:title=\"psysml:7b14a527-4e8d-41df-a91b-3ca9db44b1d9\" xlink:type=\"simple\"><rect fill=\"#FEFECE\" filter=\"url(#f7iw561nf9odo)\" height=\"40\" id=\"E11\" rx=\"10\" ry=\"10\" style=\"stroke: #A80036; stroke-width: 1.5;\" width=\"68\" x=\"149\" y=\"148\"/><ellipse cx=\"164\" cy=\"164\" fill=\"#32CD32\" rx=\"11\" ry=\"11\" style=\"stroke: #A80036; stroke-width: 1.0;\"/><path d=\"M160.8125,169 L160.8125,158.4063 L164.4219,158.4063 Q165.6406,158.4063 166.4375,158.8438 Q167.2344,159.2656 167.6094,159.9688 Q168,160.6719 168,161.5156 Q168,162.3594 167.625,163.0469 Q167.2656,163.7344 166.4688,164.1563 Q165.6875,164.5625 164.5,164.5625 L162.7656,164.5625 L162.7656,169 L160.8125,169 Z M162.7656,162.9688 L164.375,162.9688 Q165.1875,162.9688 165.6094,162.5625 Q166.0313,162.1563 166.0313,161.5156 Q166.0313,160.8906 165.6094,160.4844 Q165.1875,160.0781 164.3906,160.0781 L162.7656,160.0781 L162.7656,162.9688 Z \"/><text fill=\"#000000\" font-family=\"sans-serif\" font-size=\"12\" lengthAdjust=\"spacingAndGlyphs\" textLength=\"32\" x=\"178\" y=\"168.1543\">a2: A</text><line style=\"stroke: #A80036; stroke-width: 1.5;\" x1=\"150\" x2=\"216\" y1=\"180\" y2=\"180\"/></a><!--MD5=[2720a5a1f2c3fca2055b230370638851]\n",
       "link E2 to E3--><a href=\"psysml:2913aa14-34e4-4ebc-b3c0-73cbbe37a712\" target=\"_top\" title=\"psysml:2913aa14-34e4-4ebc-b3c0-73cbbe37a712\" xlink:actuate=\"onRequest\" xlink:href=\"psysml:2913aa14-34e4-4ebc-b3c0-73cbbe37a712\" xlink:show=\"new\" xlink:title=\"psysml:2913aa14-34e4-4ebc-b3c0-73cbbe37a712\" xlink:type=\"simple\"><path d=\"M261.3,188.09 C248.42,201.24 230.95,219.06 215.79,234.53 \" fill=\"none\" id=\"E2-&gt;E3\" style=\"stroke: #A80036; stroke-width: 1.0;\"/><polygon fill=\"#FFFFFF\" points=\"201.65,248.97,209.9397,230.4962,219.9437,240.2901,201.65,248.97\" style=\"stroke: #A80036; stroke-width: 1.0;\"/><ellipse cx=\"215.3564\" cy=\"227.8223\" fill=\"#A80036\" rx=\"2\" ry=\"2\" style=\"stroke: #A80036; stroke-width: 1.0;\"/><ellipse cx=\"222.5021\" cy=\"234.8179\" fill=\"#A80036\" rx=\"2\" ry=\"2\" style=\"stroke: #A80036; stroke-width: 1.0;\"/></a><!--MD5=[4672eba38e49728da53d11aeb285b987]\n",
       "reverse link E3 to E4--><a href=\"psysml:5a70b25d-3e65-48fe-9200-ece04e9de0ee\" target=\"_top\" title=\"psysml:5a70b25d-3e65-48fe-9200-ece04e9de0ee\" xlink:actuate=\"onRequest\" xlink:href=\"psysml:5a70b25d-3e65-48fe-9200-ece04e9de0ee\" xlink:show=\"new\" xlink:title=\"psysml:5a70b25d-3e65-48fe-9200-ece04e9de0ee\" xlink:type=\"simple\"><path d=\"M215.85,279.86 C247.13,291.2 292.41,313.16 313,350 C326.41,374 313.64,405.67 302.45,425.69 \" fill=\"none\" id=\"E3&lt;-E4\" style=\"stroke: #A80036; stroke-width: 1.0;\"/><polygon fill=\"#A80036\" points=\"203.41,275.64,207.8094,281.3536,214.7756,279.4901,210.3762,273.7765,203.41,275.64\" style=\"stroke: #A80036; stroke-width: 1.0;\"/><text fill=\"#000000\" font-family=\"sans-serif\" font-size=\"13\" lengthAdjust=\"spacingAndGlyphs\" textLength=\"8\" x=\"297.8845\" y=\"415.9497\">1</text></a><!--MD5=[191cde3d490a3f6d7bb551fe3ddca469]\n",
       "reverse link E3 to E5--><a href=\"psysml:98aba136-2768-4c7e-bc34-95a5a6a911cd\" target=\"_top\" title=\"psysml:98aba136-2768-4c7e-bc34-95a5a6a911cd\" xlink:actuate=\"onRequest\" xlink:href=\"psysml:98aba136-2768-4c7e-bc34-95a5a6a911cd\" xlink:show=\"new\" xlink:title=\"psysml:98aba136-2768-4c7e-bc34-95a5a6a911cd\" xlink:type=\"simple\"><path d=\"M205.64,299.61 C217.87,315.59 232.71,335.01 243.95,349.7 \" fill=\"none\" id=\"E3&lt;-E5\" style=\"stroke: #A80036; stroke-width: 1.0;\"/><polygon fill=\"#FFFFFF\" points=\"197.67,289.19,198.138,296.3859,204.9604,298.7215,204.4924,291.5256,197.67,289.19\" style=\"stroke: #A80036; stroke-width: 1.0;\"/><text fill=\"#000000\" font-family=\"sans-serif\" font-size=\"13\" lengthAdjust=\"spacingAndGlyphs\" textLength=\"8\" x=\"230.5559\" y=\"338.8994\">1</text></a><!--MD5=[79568f1e445c3877b6a54524624ccc7d]\n",
       "link E4 to E6--><a href=\"psysml:04be4dec-9fb2-423c-a400-1c82afc162c3\" target=\"_top\" title=\"psysml:04be4dec-9fb2-423c-a400-1c82afc162c3\" xlink:actuate=\"onRequest\" xlink:href=\"psysml:04be4dec-9fb2-423c-a400-1c82afc162c3\" xlink:show=\"new\" xlink:title=\"psysml:04be4dec-9fb2-423c-a400-1c82afc162c3\" xlink:type=\"simple\"><path d=\"M282.38,466.28 C272.8,490.08 255.46,531.63 238,566 C227.8,586.09 215.25,607.82 204.62,625.52 \" fill=\"none\" id=\"E4-&gt;E6\" style=\"stroke: #A80036; stroke-width: 1.0;\"/><polygon fill=\"#FFFFFF\" points=\"194.04,642.88,197.947,623.012,209.9031,630.2957,194.04,642.88\" style=\"stroke: #A80036; stroke-width: 1.0;\"/><ellipse cx=\"202.6205\" cy=\"619.1847\" fill=\"#A80036\" rx=\"2\" ry=\"2\" style=\"stroke: #A80036; stroke-width: 1.0;\"/><ellipse cx=\"211.1606\" cy=\"624.3874\" fill=\"#A80036\" rx=\"2\" ry=\"2\" style=\"stroke: #A80036; stroke-width: 1.0;\"/></a><!--MD5=[3f50a3473f1dfb74d3f76443e03635af]\n",
       "reverse link E6 to E7--><a href=\"psysml:88a05b08-39fe-46e7-8c9b-5df9e56fb426\" target=\"_top\" title=\"psysml:88a05b08-39fe-46e7-8c9b-5df9e56fb426\" xlink:actuate=\"onRequest\" xlink:href=\"psysml:88a05b08-39fe-46e7-8c9b-5df9e56fb426\" xlink:show=\"new\" xlink:title=\"psysml:88a05b08-39fe-46e7-8c9b-5df9e56fb426\" xlink:type=\"simple\"><path d=\"M164.64,694.53 C155.65,710.34 144.87,729.29 136.68,743.7 \" fill=\"none\" id=\"E6&lt;-E7\" style=\"stroke: #A80036; stroke-width: 1.0;\"/><polygon fill=\"#A80036\" points=\"171.09,683.19,164.6464,686.4272,165.1562,693.6203,171.5999,690.3831,171.09,683.19\" style=\"stroke: #A80036; stroke-width: 1.0;\"/><text fill=\"#000000\" font-family=\"sans-serif\" font-size=\"13\" lengthAdjust=\"spacingAndGlyphs\" textLength=\"8\" x=\"130.9043\" y=\"732.8994\">1</text></a><!--MD5=[14ccda38c055a5c0da953d572bc50960]\n",
       "link E7 to E3--><a href=\"psysml:de23f89f-df32-45d9-b344-47d8d19c4edc\" target=\"_top\" title=\"psysml:de23f89f-df32-45d9-b344-47d8d19c4edc\" xlink:actuate=\"onRequest\" xlink:href=\"psysml:de23f89f-df32-45d9-b344-47d8d19c4edc\" xlink:show=\"new\" xlink:title=\"psysml:de23f89f-df32-45d9-b344-47d8d19c4edc\" xlink:type=\"simple\"><path d=\"M89.86,746.15 C64.03,728.31 33,699.48 33,664 C33,372 33,372 33,372 C33,318.56 98.9,291.15 143.34,278.74 \" fill=\"none\" id=\"E7-&gt;E3\" style=\"stroke: #A80036; stroke-width: 1.0;\"/><polygon fill=\"#FFFFFF\" points=\"162.77,273.87,146.039,285.275,142.6388,271.6942,162.77,273.87\" style=\"stroke: #A80036; stroke-width: 1.0;\"/><ellipse cx=\"140.0239\" cy=\"284.7192\" fill=\"#A80036\" rx=\"2\" ry=\"2\" style=\"stroke: #A80036; stroke-width: 1.0;\"/><ellipse cx=\"137.5952\" cy=\"275.0186\" fill=\"#A80036\" rx=\"2\" ry=\"2\" style=\"stroke: #A80036; stroke-width: 1.0;\"/></a><!--MD5=[dfaffb906826c3e5aca635516100ff21]\n",
       "link E5 to E8--><a href=\"psysml:feaf6c57-7b20-4701-8323-0c325a1238bf\" target=\"_top\" title=\"psysml:feaf6c57-7b20-4701-8323-0c325a1238bf\" xlink:actuate=\"onRequest\" xlink:href=\"psysml:feaf6c57-7b20-4701-8323-0c325a1238bf\" xlink:show=\"new\" xlink:title=\"psysml:feaf6c57-7b20-4701-8323-0c325a1238bf\" xlink:type=\"simple\"><path d=\"M249.99,396.02 C239.45,417.11 223.14,449.73 209.25,477.5 \" fill=\"none\" id=\"E5-&gt;E8\" style=\"stroke: #A80036; stroke-width: 1.0;\"/><polygon fill=\"#FFFFFF\" points=\"200.12,495.76,202.3561,475.6354,214.878,481.8964,200.12,495.76\" style=\"stroke: #A80036; stroke-width: 1.0;\"/><ellipse cx=\"206.694\" cy=\"471.4316\" fill=\"#A80036\" rx=\"2\" ry=\"2\" style=\"stroke: #A80036; stroke-width: 1.0;\"/><ellipse cx=\"215.6383\" cy=\"475.9037\" fill=\"#A80036\" rx=\"2\" ry=\"2\" style=\"stroke: #A80036; stroke-width: 1.0;\"/></a><!--MD5=[03c8294790d3c57651a1993cecff665f]\n",
       "reverse link E8 to E3--><a href=\"psysml:f63e9e98-9395-484c-b7ba-710e403c3592\" target=\"_top\" title=\"psysml:f63e9e98-9395-484c-b7ba-710e403c3592\" xlink:actuate=\"onRequest\" xlink:href=\"psysml:f63e9e98-9395-484c-b7ba-710e403c3592\" xlink:show=\"new\" xlink:title=\"psysml:f63e9e98-9395-484c-b7ba-710e403c3592\" xlink:type=\"simple\"><path d=\"M154.97,484.08 C136.31,447.67 117.5,395.53 131,350 C137.83,326.97 153.6,304.36 166,289.09 \" fill=\"none\" id=\"E8&lt;-E3\" style=\"stroke: #A80036; stroke-width: 1.0;\"/><polygon fill=\"#FFFFFF\" points=\"161.25,495.79,161.9438,488.6124,155.5852,485.2113,154.8913,492.3889,161.25,495.79\" style=\"stroke: #A80036; stroke-width: 1.0;\"/><text fill=\"#000000\" font-family=\"sans-serif\" font-size=\"13\" lengthAdjust=\"spacingAndGlyphs\" textLength=\"7\" x=\"132\" y=\"377.5669\">y</text></a><!--MD5=[03c8294790d3c57651a1993cecff665f]\n",
       "reverse link E8 to E3--><a href=\"psysml:f63e9e98-9395-484c-b7ba-710e403c3592\" target=\"_top\" title=\"psysml:f63e9e98-9395-484c-b7ba-710e403c3592\" xlink:actuate=\"onRequest\" xlink:href=\"psysml:f63e9e98-9395-484c-b7ba-710e403c3592\" xlink:show=\"new\" xlink:title=\"psysml:f63e9e98-9395-484c-b7ba-710e403c3592\" xlink:type=\"simple\"><path d=\"M183,482.44 C183,424.55 183,329.51 183,289.12 \" fill=\"none\" id=\"E8&lt;-E3-1\" style=\"stroke: #A80036; stroke-width: 1.0;\"/><polygon fill=\"#FFFFFF\" points=\"183,495.6,187,489.6,183,483.6,179,489.6,183,495.6\" style=\"stroke: #A80036; stroke-width: 1.0;\"/><text fill=\"#000000\" font-family=\"sans-serif\" font-size=\"13\" lengthAdjust=\"spacingAndGlyphs\" textLength=\"7\" x=\"184\" y=\"377.5669\">y</text></a><!--MD5=[0d75d2178373a6a4568e5dc728f58aef]\n",
       "reverse link E8 to E6--><a href=\"psysml:f63e9e98-9395-484c-b7ba-710e403c3592\" target=\"_top\" title=\"psysml:f63e9e98-9395-484c-b7ba-710e403c3592\" xlink:actuate=\"onRequest\" xlink:href=\"psysml:f63e9e98-9395-484c-b7ba-710e403c3592\" xlink:show=\"new\" xlink:title=\"psysml:f63e9e98-9395-484c-b7ba-710e403c3592\" xlink:type=\"simple\"><path d=\"M160.75,578.68 C157.78,589.85 156.5,601.79 159,613 C161.29,623.27 165.98,633.94 170.53,642.68 \" fill=\"none\" id=\"E8&lt;-E6\" style=\"stroke: #A80036; stroke-width: 1.0;\"/><polygon fill=\"#FFFFFF\" points=\"164.91,566.02,159.2379,570.4728,161.1667,577.4212,166.8388,572.9684,164.91,566.02\" style=\"stroke: #A80036; stroke-width: 1.0;\"/><text fill=\"#000000\" font-family=\"sans-serif\" font-size=\"13\" lengthAdjust=\"spacingAndGlyphs\" textLength=\"7\" x=\"160\" y=\"609.0669\">y</text></a><!--MD5=[0d75d2178373a6a4568e5dc728f58aef]\n",
       "reverse link E8 to E6--><a href=\"psysml:f63e9e98-9395-484c-b7ba-710e403c3592\" target=\"_top\" title=\"psysml:f63e9e98-9395-484c-b7ba-710e403c3592\" xlink:actuate=\"onRequest\" xlink:href=\"psysml:f63e9e98-9395-484c-b7ba-710e403c3592\" xlink:show=\"new\" xlink:title=\"psysml:f63e9e98-9395-484c-b7ba-710e403c3592\" xlink:type=\"simple\"><path d=\"M182.64,579.38 C182.47,601.38 182.27,626.29 182.15,642.95 \" fill=\"none\" id=\"E8&lt;-E6-1\" style=\"stroke: #A80036; stroke-width: 1.0;\"/><polygon fill=\"#FFFFFF\" points=\"182.74,566.16,178.694,572.1291,182.6477,578.1596,186.6937,572.1906,182.74,566.16\" style=\"stroke: #A80036; stroke-width: 1.0;\"/><text fill=\"#000000\" font-family=\"sans-serif\" font-size=\"13\" lengthAdjust=\"spacingAndGlyphs\" textLength=\"7\" x=\"183\" y=\"609.0669\">y</text></a><!--MD5=[23ac544a70576c3e717098101004234c]\n",
       "reverse link E9 to E10--><a href=\"psysml:f7fd9ae3-3fa5-48e2-b146-bf2078e3bf75\" target=\"_top\" title=\"psysml:f7fd9ae3-3fa5-48e2-b146-bf2078e3bf75\" xlink:actuate=\"onRequest\" xlink:href=\"psysml:f7fd9ae3-3fa5-48e2-b146-bf2078e3bf75\" xlink:show=\"new\" xlink:title=\"psysml:f7fd9ae3-3fa5-48e2-b146-bf2078e3bf75\" xlink:type=\"simple\"><path d=\"M114.68,98.97 C106.36,115.3 96.7,134.25 89.69,148 \" fill=\"none\" id=\"E9&lt;-E10\" style=\"stroke: #A80036; stroke-width: 1.0;\"/><polygon fill=\"#FFFFFF\" points=\"120.72,87.13,114.4328,90.6615,115.2745,97.8233,121.5617,94.2918,120.72,87.13\" style=\"stroke: #A80036; stroke-width: 1.0;\"/><text fill=\"#000000\" font-family=\"sans-serif\" font-size=\"13\" lengthAdjust=\"spacingAndGlyphs\" textLength=\"8\" x=\"83.3614\" y=\"137.0083\">1</text></a><!--MD5=[feeac5eb423634930294aa81f2d25a4c]\n",
       "link E10 to E3--><a href=\"psysml:09a722a7-3c7d-4d30-9bcf-d6d93c165304\" target=\"_top\" title=\"psysml:09a722a7-3c7d-4d30-9bcf-d6d93c165304\" xlink:actuate=\"onRequest\" xlink:href=\"psysml:09a722a7-3c7d-4d30-9bcf-d6d93c165304\" xlink:show=\"new\" xlink:title=\"psysml:09a722a7-3c7d-4d30-9bcf-d6d93c165304\" xlink:type=\"simple\"><path d=\"M99.86,188.09 C113.68,201.37 132.47,219.43 148.69,235.02 \" fill=\"none\" id=\"E10-&gt;E3\" style=\"stroke: #A80036; stroke-width: 1.0;\"/><polygon fill=\"#FFFFFF\" points=\"163.2,248.97,144.6476,240.8578,154.3451,230.7604,163.2,248.97\" style=\"stroke: #A80036; stroke-width: 1.0;\"/><ellipse cx=\"141.9219\" cy=\"235.467\" fill=\"#A80036\" rx=\"2\" ry=\"2\" style=\"stroke: #A80036; stroke-width: 1.0;\"/><ellipse cx=\"148.8487\" cy=\"228.2546\" fill=\"#A80036\" rx=\"2\" ry=\"2\" style=\"stroke: #A80036; stroke-width: 1.0;\"/></a><!--MD5=[1fc04a95fd77ad5ce46c1a3027516051]\n",
       "reverse link E9 to E11--><a href=\"psysml:2308c13a-9c40-4baf-abe1-b4752fcfac30\" target=\"_top\" title=\"psysml:2308c13a-9c40-4baf-abe1-b4752fcfac30\" xlink:actuate=\"onRequest\" xlink:href=\"psysml:2308c13a-9c40-4baf-abe1-b4752fcfac30\" xlink:show=\"new\" xlink:title=\"psysml:2308c13a-9c40-4baf-abe1-b4752fcfac30\" xlink:type=\"simple\"><path d=\"M148.99,98.97 C157.15,115.3 166.62,134.25 173.5,148 \" fill=\"none\" id=\"E9&lt;-E11\" style=\"stroke: #A80036; stroke-width: 1.0;\"/><polygon fill=\"#FFFFFF\" points=\"143.07,87.13,142.1685,94.2845,148.426,97.8684,149.3275,90.7139,143.07,87.13\" style=\"stroke: #A80036; stroke-width: 1.0;\"/><text fill=\"#000000\" font-family=\"sans-serif\" font-size=\"13\" lengthAdjust=\"spacingAndGlyphs\" textLength=\"8\" x=\"161.5344\" y=\"137.0083\">1</text></a><!--MD5=[0517f1ce58c4d5483948f93845c45e26]\n",
       "link E11 to E3--><a href=\"psysml:713baad2-05ac-404b-8904-f9720a0da3f6\" target=\"_top\" title=\"psysml:713baad2-05ac-404b-8904-f9720a0da3f6\" xlink:actuate=\"onRequest\" xlink:href=\"psysml:713baad2-05ac-404b-8904-f9720a0da3f6\" xlink:show=\"new\" xlink:title=\"psysml:713baad2-05ac-404b-8904-f9720a0da3f6\" xlink:type=\"simple\"><path d=\"M183,188.09 C183,199.59 183,214.68 183,228.63 \" fill=\"none\" id=\"E11-&gt;E3\" style=\"stroke: #A80036; stroke-width: 1.0;\"/><polygon fill=\"#FFFFFF\" points=\"183,248.97,176,229.97,190,229.97,183,248.97\" style=\"stroke: #A80036; stroke-width: 1.0;\"/><ellipse cx=\"178\" cy=\"224.27\" fill=\"#A80036\" rx=\"2\" ry=\"2\" style=\"stroke: #A80036; stroke-width: 1.0;\"/><ellipse cx=\"188\" cy=\"224.27\" fill=\"#A80036\" rx=\"2\" ry=\"2\" style=\"stroke: #A80036; stroke-width: 1.0;\"/></a><!--MD5=[594939d362dec8411b3ac393a5ff50a0]\n",
       "@startuml\r\n",
       " \r\n",
       "package \"ItemTest\" as E1  [[psysml:9c84b130-4496-45dd-acf0-f614adf4451b ]]  {\r\n",
       "comp usage \"f: A \" as E2 << << (P,limegreen) >> [[psysml:046ce2e8-70d6-418b-9e34-4058f6a1e698 ]] {\r\n",
       "}\r\n",
       "comp def \"A\" as E3 << << (B,green) >> [[psysml:b761bda6-ef45-4173-adbe-8f17f5dd59b9 ]] {\r\n",
       "}\r\n",
       "comp usage \"b: B \" as E4 << << (P,limegreen) >> [[psysml:5a9b7c1e-d921-40a5-84d4-dcafad1b8599 ]] {\r\n",
       "}\r\n",
       "comp usage \"c: C \" as E5 << << (P,limegreen) part>> [[psysml:c52e7c62-32ae-43e1-a51e-2d7f86512260 ]] {\r\n",
       "}\r\n",
       "comp def \"<i>B</i>\" as E6 << << (B,green) >> [[psysml:154f7142-f3c2-4f8f-a55c-1d31f59952e7 ]] {\r\n",
       "}\r\n",
       "comp usage \"<i>a</i>: A \" as E7 << << (P,limegreen) part>> [[psysml:3092a58e-bc17-492e-b3ac-d9b0c5d27ee1 ]] {\r\n",
       "}\r\n",
       "comp def \"C\" as E8 << << (B,green) >> [[psysml:a977dc12-1522-4e17-86ea-88834b4a9262 ]] {\r\n",
       "- - parameters - -\r\n",
       "<b>in</b> y: A, B\r\n",
       "}\r\n",
       "comp def \"P\" as E9 << <<(D,brown) port  def>> [[psysml:505a0904-767f-4431-bdaf-f395e9a256c5 ]] {\r\n",
       "}\r\n",
       "comp usage \"a1: A \" as E10 << << (P,limegreen) >> [[psysml:b48ee9ab-0a15-45ce-8465-86ae83c4be7f ]] {\r\n",
       "}\r\n",
       "comp usage \"a2: A \" as E11 << << (P,limegreen) >> [[psysml:7b14a527-4e8d-41df-a91b-3ca9db44b1d9 ]] {\r\n",
       "}\r\n",
       "}\r\n",
       "E2 - -:|> E3 [[psysml:2913aa14-34e4-4ebc-b3c0-73cbbe37a712 ]] \r\n",
       "E3 *- - \"1\"E4 [[psysml:5a70b25d-3e65-48fe-9200-ece04e9de0ee ]] \r\n",
       "E3 o- - \"1\"E5 [[psysml:98aba136-2768-4c7e-bc34-95a5a6a911cd ]] \r\n",
       "E4 - -:|> E6 [[psysml:04be4dec-9fb2-423c-a400-1c82afc162c3 ]] \r\n",
       "E6 *- - \"1\"E7 [[psysml:88a05b08-39fe-46e7-8c9b-5df9e56fb426 ]] \r\n",
       "E7 - -:|> E3 [[psysml:de23f89f-df32-45d9-b344-47d8d19c4edc ]] \r\n",
       "E5 - -:|> E8 [[psysml:feaf6c57-7b20-4701-8323-0c325a1238bf ]] \r\n",
       "E8 o- - E3 [[psysml:f63e9e98-9395-484c-b7ba-710e403c3592 ]] : y\r\n",
       "E8 o- - E6 [[psysml:f63e9e98-9395-484c-b7ba-710e403c3592 ]] : y\r\n",
       "E8 o- - E3 [[psysml:f63e9e98-9395-484c-b7ba-710e403c3592 ]] : y\r\n",
       "E8 o- - E6 [[psysml:f63e9e98-9395-484c-b7ba-710e403c3592 ]] : y\r\n",
       "E9 o- - \"1\"E10 [[psysml:f7fd9ae3-3fa5-48e2-b146-bf2078e3bf75 ]] \r\n",
       "E10 - -:|> E3 [[psysml:09a722a7-3c7d-4d30-9bcf-d6d93c165304 ]] \r\n",
       "E9 o- - \"1\"E11 [[psysml:2308c13a-9c40-4baf-abe1-b4752fcfac30 ]] \r\n",
       "E11 - -:|> E3 [[psysml:713baad2-05ac-404b-8904-f9720a0da3f6 ]] \r\n",
       "@enduml\r\n",
       "\n",
       "PlantUML version 1.2020.13(Sat Jun 13 12:26:38 UTC 2020)\n",
       "(EPL source distribution)\n",
       "Java Runtime: OpenJDK Runtime Environment\n",
       "JVM: OpenJDK 64-Bit Server VM\n",
       "Default Encoding: UTF-8\n",
       "Language: en\n",
       "Country: null\n",
       "--></g></svg>"
      ]
     },
     "execution_count": 31,
     "metadata": {},
     "output_type": "execute_result"
    }
   ],
   "source": [
    "%viz --style=\"PLANTUML\" --view=\"Tree\" \"ItemTest\""
   ]
  },
  {
   "cell_type": "code",
   "execution_count": 32,
   "id": "0c6e1928",
   "metadata": {
    "execution": {
     "iopub.execute_input": "2021-10-25T08:20:55.035887Z",
     "iopub.status.busy": "2021-10-25T08:20:55.035467Z",
     "iopub.status.idle": "2021-10-25T08:20:55.119081Z",
     "shell.execute_reply": "2021-10-25T08:20:55.118712Z"
    }
   },
   "outputs": [
    {
     "data": {
      "image/svg+xml": [
       "<?xml version=\"1.0\" encoding=\"UTF-8\" standalone=\"no\"?><svg xmlns=\"http://www.w3.org/2000/svg\" xmlns:xlink=\"http://www.w3.org/1999/xlink\" contentScriptType=\"application/ecmascript\" contentStyleType=\"text/css\" height=\"300px\" preserveAspectRatio=\"none\" style=\"width:603px;height:300px;background:#000000;\" version=\"1.1\" viewBox=\"0 0 603 300\" width=\"603px\" zoomAndPan=\"magnify\"><defs/><g><rect fill=\"#141C0F\" height=\"1\" style=\"stroke: #141C0F; stroke-width: 1.0;\" width=\"1\" x=\"0\" y=\"0\"/><rect fill=\"#FFFFFF\" height=\"202.8012\" style=\"stroke: #FFFFFF; stroke-width: 1.0;\" width=\"602\" x=\"0\" y=\"0\"/><text fill=\"#000000\" font-family=\"sans-serif\" font-size=\"12\" font-weight=\"bold\" lengthAdjust=\"spacingAndGlyphs\" textLength=\"139\" x=\"5\" y=\"16.1387\">Welcome to PlantUML!</text><text fill=\"#000000\" font-family=\"sans-serif\" font-size=\"12\" lengthAdjust=\"spacingAndGlyphs\" textLength=\"0\" x=\"9\" y=\"30.1074\"/><text fill=\"#000000\" font-family=\"sans-serif\" font-size=\"12\" lengthAdjust=\"spacingAndGlyphs\" textLength=\"293\" x=\"5\" y=\"44.0762\">If you use this software, you accept its license.</text><text fill=\"#000000\" font-family=\"sans-serif\" font-size=\"12\" lengthAdjust=\"spacingAndGlyphs\" textLength=\"107\" x=\"5\" y=\"58.0449\">(details by typing</text><text fill=\"#000000\" font-family=\"monospace\" font-size=\"12\" lengthAdjust=\"spacingAndGlyphs\" textLength=\"42\" x=\"116\" y=\"58.595\">license</text><text fill=\"#000000\" font-family=\"sans-serif\" font-size=\"12\" lengthAdjust=\"spacingAndGlyphs\" textLength=\"56\" x=\"162\" y=\"58.0449\">keyword)</text><text fill=\"#000000\" font-family=\"sans-serif\" font-size=\"12\" lengthAdjust=\"spacingAndGlyphs\" textLength=\"0\" x=\"9\" y=\"72.0137\"/><text fill=\"#000000\" font-family=\"sans-serif\" font-size=\"12\" lengthAdjust=\"spacingAndGlyphs\" textLength=\"283\" x=\"5\" y=\"85.9824\">You can start with a simple UML Diagram like:</text><text fill=\"#000000\" font-family=\"sans-serif\" font-size=\"12\" lengthAdjust=\"spacingAndGlyphs\" textLength=\"0\" x=\"9\" y=\"99.9512\"/><text fill=\"#000000\" font-family=\"monospace\" font-size=\"12\" lengthAdjust=\"spacingAndGlyphs\" textLength=\"102\" x=\"5\" y=\"113.0893\">Bob-&gt;Alice: Hello</text><text fill=\"#000000\" font-family=\"sans-serif\" font-size=\"12\" lengthAdjust=\"spacingAndGlyphs\" textLength=\"0\" x=\"9\" y=\"126.508\"/><text fill=\"#000000\" font-family=\"sans-serif\" font-size=\"12\" lengthAdjust=\"spacingAndGlyphs\" textLength=\"14\" x=\"5\" y=\"140.4768\">Or</text><text fill=\"#000000\" font-family=\"sans-serif\" font-size=\"12\" lengthAdjust=\"spacingAndGlyphs\" textLength=\"0\" x=\"9\" y=\"154.4455\"/><text fill=\"#000000\" font-family=\"monospace\" font-size=\"12\" lengthAdjust=\"spacingAndGlyphs\" textLength=\"78\" x=\"5\" y=\"167.5837\">class Example</text><text fill=\"#000000\" font-family=\"sans-serif\" font-size=\"12\" lengthAdjust=\"spacingAndGlyphs\" textLength=\"0\" x=\"9\" y=\"181.0023\"/><text fill=\"#000000\" font-family=\"sans-serif\" font-size=\"12\" lengthAdjust=\"spacingAndGlyphs\" textLength=\"349\" x=\"5\" y=\"194.9711\">You will find more information about PlantUML syntax on</text><text fill=\"#000000\" font-family=\"sans-serif\" font-size=\"12\" lengthAdjust=\"spacingAndGlyphs\" text-decoration=\"underline\" textLength=\"129\" x=\"358\" y=\"194.9711\">https://plantuml.com</text><image height=\"71\" width=\"80\" x=\"516\" xlink:href=\"data:image/png;base64,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\" y=\"6\"/><rect fill=\"#000000\" height=\"96.4844\" style=\"stroke: #000000; stroke-width: 1.0;\" width=\"602\" x=\"0\" y=\"202.8012\"/><rect fill=\"#33FF02\" height=\"21.2969\" style=\"stroke: #33FF02; stroke-width: 1.0;\" width=\"145\" x=\"5\" y=\"207.8012\"/><text fill=\"#000000\" font-family=\"sans-serif\" font-size=\"14\" font-weight=\"bold\" lengthAdjust=\"spacingAndGlyphs\" textLength=\"143\" x=\"6\" y=\"222.8012\">[From string (line 2) ]</text><text fill=\"#33FF02\" font-family=\"sans-serif\" font-size=\"14\" font-weight=\"bold\" lengthAdjust=\"spacingAndGlyphs\" textLength=\"0\" x=\"9\" y=\"243.0981\"/><text fill=\"#33FF02\" font-family=\"sans-serif\" font-size=\"14\" font-weight=\"bold\" lengthAdjust=\"spacingAndGlyphs\" textLength=\"70\" x=\"5\" y=\"259.3949\">@startuml</text><text fill=\"#33FF02\" font-family=\"sans-serif\" font-size=\"14\" font-weight=\"bold\" lengthAdjust=\"spacingAndGlyphs\" textLength=\"0\" x=\"9\" y=\"275.6918\"/><text fill=\"#FF0000\" font-family=\"sans-serif\" font-size=\"14\" font-weight=\"bold\" lengthAdjust=\"spacingAndGlyphs\" textLength=\"124\" x=\"9\" y=\"291.9887\">Empty description</text><!--MD5=[f59edd8218d337f74d0c332fc6737304]\n",
       "@startuml\r\n",
       " \r\n",
       "@enduml\r\n",
       "\n",
       "PlantUML version 1.2020.13(Sat Jun 13 12:26:38 UTC 2020)\n",
       "(EPL source distribution)\n",
       "Java Runtime: OpenJDK Runtime Environment\n",
       "JVM: OpenJDK 64-Bit Server VM\n",
       "Default Encoding: UTF-8\n",
       "Language: en\n",
       "Country: null\n",
       "--></g></svg>"
      ]
     },
     "execution_count": 32,
     "metadata": {},
     "output_type": "execute_result"
    }
   ],
   "source": [
    "%viz --style=\"PLANTUML\" --view=\"State\" \"ItemTest\""
   ]
  },
  {
   "cell_type": "code",
   "execution_count": 33,
   "id": "9cff0841",
   "metadata": {
    "execution": {
     "iopub.execute_input": "2021-10-25T08:20:55.168212Z",
     "iopub.status.busy": "2021-10-25T08:20:55.167804Z",
     "iopub.status.idle": "2021-10-25T08:20:55.190316Z",
     "shell.execute_reply": "2021-10-25T08:20:55.188346Z"
    }
   },
   "outputs": [
    {
     "data": {
      "image/svg+xml": [
       "<?xml version=\"1.0\" encoding=\"UTF-8\" standalone=\"no\"?><svg xmlns=\"http://www.w3.org/2000/svg\" xmlns:xlink=\"http://www.w3.org/1999/xlink\" contentScriptType=\"application/ecmascript\" contentStyleType=\"text/css\" height=\"112px\" preserveAspectRatio=\"none\" style=\"width:519px;height:112px;\" version=\"1.1\" viewBox=\"0 0 519 112\" width=\"519px\" zoomAndPan=\"magnify\"><defs><filter height=\"300%\" id=\"f198c4so9r9k2u\" width=\"300%\" x=\"-1\" y=\"-1\"><feGaussianBlur result=\"blurOut\" stdDeviation=\"2.0\"/><feColorMatrix in=\"blurOut\" result=\"blurOut2\" type=\"matrix\" values=\"0 0 0 0 0 0 0 0 0 0 0 0 0 0 0 0 0 0 .4 0\"/><feOffset dx=\"4.0\" dy=\"4.0\" in=\"blurOut2\" result=\"blurOut3\"/><feBlend in=\"SourceGraphic\" in2=\"blurOut3\" mode=\"normal\"/></filter></defs><g><!--MD5=[fbc87193dbaf4d95561dea2c320d4a47]\n",
       "cluster E1--><a href=\"psysml:9c84b130-4496-45dd-acf0-f614adf4451b\" target=\"_top\" title=\"psysml:9c84b130-4496-45dd-acf0-f614adf4451b\" xlink:actuate=\"onRequest\" xlink:href=\"psysml:9c84b130-4496-45dd-acf0-f614adf4451b\" xlink:show=\"new\" xlink:title=\"psysml:9c84b130-4496-45dd-acf0-f614adf4451b\" xlink:type=\"simple\"><polygon fill=\"#FFFFFF\" filter=\"url(#f198c4so9r9k2u)\" points=\"16,6,83,6,90,28.2969,497,28.2969,497,100,16,100,16,6\" style=\"stroke: #000000; stroke-width: 1.5;\"/><line style=\"stroke: #000000; stroke-width: 1.5;\" x1=\"16\" x2=\"90\" y1=\"28.2969\" y2=\"28.2969\"/><text fill=\"#000000\" font-family=\"sans-serif\" font-size=\"14\" font-weight=\"bold\" lengthAdjust=\"spacingAndGlyphs\" textLength=\"61\" x=\"20\" y=\"20.9951\">ItemTest</text></a><g id=\"E1.E3\"><a href=\"psysml:b761bda6-ef45-4173-adbe-8f17f5dd59b9\" target=\"_top\" title=\"psysml:b761bda6-ef45-4173-adbe-8f17f5dd59b9\" xlink:actuate=\"onRequest\" xlink:href=\"psysml:b761bda6-ef45-4173-adbe-8f17f5dd59b9\" xlink:show=\"new\" xlink:title=\"psysml:b761bda6-ef45-4173-adbe-8f17f5dd59b9\" xlink:type=\"simple\"><rect fill=\"#FEFECE\" filter=\"url(#f198c4so9r9k2u)\" height=\"40\" id=\"E3\" style=\"stroke: #A80036; stroke-width: 1.5;\" width=\"50\" x=\"431\" y=\"42.5\"/><ellipse cx=\"450.5\" cy=\"58.5\" fill=\"#008000\" rx=\"11\" ry=\"11\" style=\"stroke: #A80036; stroke-width: 1.0;\"/><path d=\"M447.375,63.5 L447.375,52.9063 L450.6094,52.9063 Q452.5156,52.9063 453.4219,53.6563 Q454.3438,54.4063 454.3438,55.5781 Q454.3438,56.2656 453.9531,56.9219 Q453.5781,57.5781 452.8594,57.875 Q453.7188,58.25 454.2344,58.9375 Q454.75,59.625 454.75,60.4375 Q454.75,61.8125 453.7188,62.6563 Q452.7031,63.5 450.5938,63.5 L447.375,63.5 Z M449.2969,57.1406 L450.4531,57.1406 Q451.5781,57.1406 451.9844,56.7656 Q452.4063,56.375 452.4063,55.75 Q452.4063,55.1719 451.9844,54.8125 Q451.5625,54.4531 450.625,54.4531 L449.2969,54.4531 L449.2969,57.1406 Z M449.2969,61.9219 L450.7969,61.9219 Q451.7031,61.9219 452.2344,61.5313 Q452.7656,61.1406 452.7656,60.3906 Q452.7656,59.625 452.2656,59.1563 Q451.7656,58.6719 450.5,58.6719 L449.2969,58.6719 L449.2969,61.9219 Z \"/><text fill=\"#000000\" font-family=\"sans-serif\" font-size=\"12\" lengthAdjust=\"spacingAndGlyphs\" textLength=\"8\" x=\"465.5\" y=\"62.6543\">A</text></a></g><g id=\"E1.E4\"><a href=\"psysml:154f7142-f3c2-4f8f-a55c-1d31f59952e7\" target=\"_top\" title=\"psysml:154f7142-f3c2-4f8f-a55c-1d31f59952e7\" xlink:actuate=\"onRequest\" xlink:href=\"psysml:154f7142-f3c2-4f8f-a55c-1d31f59952e7\" xlink:show=\"new\" xlink:title=\"psysml:154f7142-f3c2-4f8f-a55c-1d31f59952e7\" xlink:type=\"simple\"><rect fill=\"#FEFECE\" filter=\"url(#f198c4so9r9k2u)\" height=\"40\" id=\"E4\" style=\"stroke: #A80036; stroke-width: 1.5;\" width=\"50\" x=\"346\" y=\"42.5\"/><ellipse cx=\"365.5\" cy=\"58.5\" fill=\"#008000\" rx=\"11\" ry=\"11\" style=\"stroke: #A80036; stroke-width: 1.0;\"/><path d=\"M362.375,63.5 L362.375,52.9063 L365.6094,52.9063 Q367.5156,52.9063 368.4219,53.6563 Q369.3438,54.4063 369.3438,55.5781 Q369.3438,56.2656 368.9531,56.9219 Q368.5781,57.5781 367.8594,57.875 Q368.7188,58.25 369.2344,58.9375 Q369.75,59.625 369.75,60.4375 Q369.75,61.8125 368.7188,62.6563 Q367.7031,63.5 365.5938,63.5 L362.375,63.5 Z M364.2969,57.1406 L365.4531,57.1406 Q366.5781,57.1406 366.9844,56.7656 Q367.4063,56.375 367.4063,55.75 Q367.4063,55.1719 366.9844,54.8125 Q366.5625,54.4531 365.625,54.4531 L364.2969,54.4531 L364.2969,57.1406 Z M364.2969,61.9219 L365.7969,61.9219 Q366.7031,61.9219 367.2344,61.5313 Q367.7656,61.1406 367.7656,60.3906 Q367.7656,59.625 367.2656,59.1563 Q366.7656,58.6719 365.5,58.6719 L364.2969,58.6719 L364.2969,61.9219 Z \"/><text fill=\"#000000\" font-family=\"sans-serif\" font-size=\"12\" font-style=\"italic\" lengthAdjust=\"spacingAndGlyphs\" textLength=\"8\" x=\"380.5\" y=\"62.6543\">B</text></a></g><g id=\"E1.E6\"><a href=\"psysml:505a0904-767f-4431-bdaf-f395e9a256c5\" target=\"_top\" title=\"psysml:505a0904-767f-4431-bdaf-f395e9a256c5\" xlink:actuate=\"onRequest\" xlink:href=\"psysml:505a0904-767f-4431-bdaf-f395e9a256c5\" xlink:show=\"new\" xlink:title=\"psysml:505a0904-767f-4431-bdaf-f395e9a256c5\" xlink:type=\"simple\"><rect fill=\"#FEFECE\" filter=\"url(#f198c4so9r9k2u)\" height=\"42.9375\" id=\"E6\" style=\"stroke: #A80036; stroke-width: 1.5;\" width=\"101\" x=\"209.5\" y=\"41\"/><ellipse cx=\"226.75\" cy=\"59.9688\" fill=\"#A52A2A\" rx=\"11\" ry=\"11\" style=\"stroke: #A80036; stroke-width: 1.0;\"/><path d=\"M223.9688,64.9688 L223.9688,54.375 L226.7031,54.375 Q228.0938,54.375 228.8594,54.7656 Q229.6406,55.1406 230.1719,55.8438 Q230.7031,56.5469 231,57.5469 Q231.2969,58.5313 231.2969,59.75 Q231.25,61.3438 230.75,62.5313 Q230.2656,63.7031 229.2188,64.3438 Q228.1875,64.9688 226.5,64.9688 L223.9688,64.9688 Z M225.8281,63.4688 L226.4531,63.4688 Q227.5313,63.4688 228.1875,63.0156 Q228.8438,62.5625 229.125,61.7344 Q229.4219,60.8906 229.4063,59.7656 Q229.4063,58.5938 229.1563,57.7344 Q228.9063,56.8594 228.2969,56.3906 Q227.6875,55.9063 226.6406,55.9063 L225.8281,55.9063 L225.8281,63.4688 Z \"/><text fill=\"#000000\" font-family=\"sans-serif\" font-size=\"12\" font-style=\"italic\" lengthAdjust=\"spacingAndGlyphs\" textLength=\"68\" x=\"239.25\" y=\"57.1387\">«port  def»</text><text fill=\"#000000\" font-family=\"sans-serif\" font-size=\"12\" lengthAdjust=\"spacingAndGlyphs\" textLength=\"8\" x=\"269.25\" y=\"71.1074\">P</text></a></g><g id=\"E1.E2\"><a href=\"psysml:046ce2e8-70d6-418b-9e34-4058f6a1e698\" target=\"_top\" title=\"psysml:046ce2e8-70d6-418b-9e34-4058f6a1e698\" xlink:actuate=\"onRequest\" xlink:href=\"psysml:046ce2e8-70d6-418b-9e34-4058f6a1e698\" xlink:show=\"new\" xlink:title=\"psysml:046ce2e8-70d6-418b-9e34-4058f6a1e698\" xlink:type=\"simple\"><rect fill=\"#FEFECE\" filter=\"url(#f198c4so9r9k2u)\" height=\"40\" id=\"E2\" rx=\"10\" ry=\"10\" style=\"stroke: #A80036; stroke-width: 1.5;\" width=\"57\" x=\"117.5\" y=\"42.5\"/><ellipse cx=\"134.75\" cy=\"58.5\" fill=\"#32CD32\" rx=\"11\" ry=\"11\" style=\"stroke: #A80036; stroke-width: 1.0;\"/><path d=\"M131.5625,63.5 L131.5625,52.9063 L135.1719,52.9063 Q136.3906,52.9063 137.1875,53.3438 Q137.9844,53.7656 138.3594,54.4688 Q138.75,55.1719 138.75,56.0156 Q138.75,56.8594 138.375,57.5469 Q138.0156,58.2344 137.2188,58.6563 Q136.4375,59.0625 135.25,59.0625 L133.5156,59.0625 L133.5156,63.5 L131.5625,63.5 Z M133.5156,57.4688 L135.125,57.4688 Q135.9375,57.4688 136.3594,57.0625 Q136.7813,56.6563 136.7813,56.0156 Q136.7813,55.3906 136.3594,54.9844 Q135.9375,54.5781 135.1406,54.5781 L133.5156,54.5781 L133.5156,57.4688 Z \"/><text fill=\"#000000\" font-family=\"sans-serif\" font-size=\"12\" lengthAdjust=\"spacingAndGlyphs\" textLength=\"20\" x=\"149.25\" y=\"62.6543\">f: A</text></a></g><g id=\"E1.E5\"><a href=\"psysml:a977dc12-1522-4e17-86ea-88834b4a9262\" target=\"_top\" title=\"psysml:a977dc12-1522-4e17-86ea-88834b4a9262\" xlink:actuate=\"onRequest\" xlink:href=\"psysml:a977dc12-1522-4e17-86ea-88834b4a9262\" xlink:show=\"new\" xlink:title=\"psysml:a977dc12-1522-4e17-86ea-88834b4a9262\" xlink:type=\"simple\"><rect fill=\"#FEFECE\" filter=\"url(#f198c4so9r9k2u)\" height=\"40\" id=\"E5\" style=\"stroke: #A80036; stroke-width: 1.5;\" width=\"50\" x=\"32\" y=\"42.5\"/><ellipse cx=\"51.5\" cy=\"58.5\" fill=\"#008000\" rx=\"11\" ry=\"11\" style=\"stroke: #A80036; stroke-width: 1.0;\"/><path d=\"M48.375,63.5 L48.375,52.9063 L51.6094,52.9063 Q53.5156,52.9063 54.4219,53.6563 Q55.3438,54.4063 55.3438,55.5781 Q55.3438,56.2656 54.9531,56.9219 Q54.5781,57.5781 53.8594,57.875 Q54.7188,58.25 55.2344,58.9375 Q55.75,59.625 55.75,60.4375 Q55.75,61.8125 54.7188,62.6563 Q53.7031,63.5 51.5938,63.5 L48.375,63.5 Z M50.2969,57.1406 L51.4531,57.1406 Q52.5781,57.1406 52.9844,56.7656 Q53.4063,56.375 53.4063,55.75 Q53.4063,55.1719 52.9844,54.8125 Q52.5625,54.4531 51.625,54.4531 L50.2969,54.4531 L50.2969,57.1406 Z M50.2969,61.9219 L51.7969,61.9219 Q52.7031,61.9219 53.2344,61.5313 Q53.7656,61.1406 53.7656,60.3906 Q53.7656,59.625 53.2656,59.1563 Q52.7656,58.6719 51.5,58.6719 L50.2969,58.6719 L50.2969,61.9219 Z \"/><text fill=\"#000000\" font-family=\"sans-serif\" font-size=\"12\" lengthAdjust=\"spacingAndGlyphs\" textLength=\"8\" x=\"66.5\" y=\"62.6543\">C</text></a></g><!--MD5=[a818f135f4eac5ad9ac9d3f8a0666d09]\n",
       "@startuml\r\n",
       "skinparam ranksep 10\r\n",
       "skinparam rectangle {\r\n",
       " backgroundColor<<block>> LightGreen\r\n",
       "}\r\n",
       " \r\n",
       "package \"ItemTest\" as E1  [[psysml:9c84b130-4496-45dd-acf0-f614adf4451b ]]  {\r\n",
       "rec usage \"f: A\" as E2 << << (P,limegreen) >> [[psysml:046ce2e8-70d6-418b-9e34-4058f6a1e698 ]] {\r\n",
       "}\r\n",
       "def \"A\" as E3 << << (B,green) >> [[psysml:b761bda6-ef45-4173-adbe-8f17f5dd59b9 ]] \r\n",
       "def \"<i>B</i>\" as E4 << << (B,green) >> [[psysml:154f7142-f3c2-4f8f-a55c-1d31f59952e7 ]] \r\n",
       "rec def \"C\" as E5 << << (B,green) >> [[psysml:a977dc12-1522-4e17-86ea-88834b4a9262 ]] {\r\n",
       "}\r\n",
       "def \"P\" as E6 << <<(D,brown) port  def>> [[psysml:505a0904-767f-4431-bdaf-f395e9a256c5 ]] \r\n",
       "}\r\n",
       "@enduml\r\n",
       "\n",
       "PlantUML version 1.2020.13(Sat Jun 13 12:26:38 UTC 2020)\n",
       "(EPL source distribution)\n",
       "Java Runtime: OpenJDK Runtime Environment\n",
       "JVM: OpenJDK 64-Bit Server VM\n",
       "Default Encoding: UTF-8\n",
       "Language: en\n",
       "Country: null\n",
       "--></g></svg>"
      ]
     },
     "execution_count": 33,
     "metadata": {},
     "output_type": "execute_result"
    }
   ],
   "source": [
    "%viz --style=\"PLANTUML\" --view=\"Interconnection\" \"ItemTest\""
   ]
  },
  {
   "cell_type": "code",
   "execution_count": 34,
   "id": "c914d8f1",
   "metadata": {
    "execution": {
     "iopub.execute_input": "2021-10-25T08:20:55.239349Z",
     "iopub.status.busy": "2021-10-25T08:20:55.238903Z",
     "iopub.status.idle": "2021-10-25T08:20:55.242833Z",
     "shell.execute_reply": "2021-10-25T08:20:55.242470Z"
    }
   },
   "outputs": [
    {
     "data": {
      "image/svg+xml": [
       "<?xml version=\"1.0\" encoding=\"UTF-8\" standalone=\"no\"?><svg xmlns=\"http://www.w3.org/2000/svg\" xmlns:xlink=\"http://www.w3.org/1999/xlink\" contentScriptType=\"application/ecmascript\" contentStyleType=\"text/css\" height=\"12px\" preserveAspectRatio=\"none\" style=\"width:12px;height:12px;\" version=\"1.1\" viewBox=\"0 0 12 12\" width=\"12px\" zoomAndPan=\"magnify\"><defs/><g><!--MD5=[6a4cb978cab31700e1ce5529f947a75d]\n",
       "@startuml\r\n",
       "skinparam ranksep 8\r\n",
       " \r\n",
       "@enduml\r\n",
       "\n",
       "PlantUML version 1.2020.13(Sat Jun 13 12:26:38 UTC 2020)\n",
       "(EPL source distribution)\n",
       "Java Runtime: OpenJDK Runtime Environment\n",
       "JVM: OpenJDK 64-Bit Server VM\n",
       "Default Encoding: UTF-8\n",
       "Language: en\n",
       "Country: null\n",
       "--></g></svg>"
      ]
     },
     "execution_count": 34,
     "metadata": {},
     "output_type": "execute_result"
    }
   ],
   "source": [
    "%viz --style=\"PLANTUML\" --view=\"Action\" \"ItemTest\""
   ]
  },
  {
   "cell_type": "code",
   "execution_count": 35,
   "id": "c41fb2ec",
   "metadata": {
    "execution": {
     "iopub.execute_input": "2021-10-25T08:20:55.292125Z",
     "iopub.status.busy": "2021-10-25T08:20:55.291700Z",
     "iopub.status.idle": "2021-10-25T08:20:55.295926Z",
     "shell.execute_reply": "2021-10-25T08:20:55.296285Z"
    }
   },
   "outputs": [
    {
     "data": {
      "image/svg+xml": [
       "<?xml version=\"1.0\" encoding=\"UTF-8\" standalone=\"no\"?><svg xmlns=\"http://www.w3.org/2000/svg\" xmlns:xlink=\"http://www.w3.org/1999/xlink\" contentScriptType=\"application/ecmascript\" contentStyleType=\"text/css\" height=\"12px\" preserveAspectRatio=\"none\" style=\"width:12px;height:12px;\" version=\"1.1\" viewBox=\"0 0 12 12\" width=\"12px\" zoomAndPan=\"magnify\"><defs/><g><!--MD5=[ca4faa0b02def275ea33c14ea7a1a98d]\n",
       "@startuml\r\n",
       "skinparam roundcorner 20\r\n",
       "skinparam BoxPadding 20\r\n",
       "skinparam SequenceBoxBackgroundColor #white\r\n",
       "skinparam style strictuml\r\n",
       "skinparam maxMessageSize 100\r\n",
       " \r\n",
       "@enduml\r\n",
       "\n",
       "PlantUML version 1.2020.13(Sat Jun 13 12:26:38 UTC 2020)\n",
       "(EPL source distribution)\n",
       "Java Runtime: OpenJDK Runtime Environment\n",
       "JVM: OpenJDK 64-Bit Server VM\n",
       "Default Encoding: UTF-8\n",
       "Language: en\n",
       "Country: null\n",
       "--></g></svg>"
      ]
     },
     "execution_count": 35,
     "metadata": {},
     "output_type": "execute_result"
    }
   ],
   "source": [
    "%viz --style=\"PLANTUML\" --view=\"Sequence\" \"ItemTest\""
   ]
  },
  {
   "cell_type": "code",
   "execution_count": 36,
   "id": "fe088f0f",
   "metadata": {
    "execution": {
     "iopub.execute_input": "2021-10-25T08:20:55.345628Z",
     "iopub.status.busy": "2021-10-25T08:20:55.345198Z",
     "iopub.status.idle": "2021-10-25T08:20:55.403814Z",
     "shell.execute_reply": "2021-10-25T08:20:55.401158Z"
    }
   },
   "outputs": [
    {
     "data": {
      "image/svg+xml": [
       "<?xml version=\"1.0\" encoding=\"UTF-8\" standalone=\"no\"?><svg xmlns=\"http://www.w3.org/2000/svg\" xmlns:xlink=\"http://www.w3.org/1999/xlink\" contentScriptType=\"application/ecmascript\" contentStyleType=\"text/css\" height=\"818px\" preserveAspectRatio=\"none\" style=\"width:370px;height:818px;\" version=\"1.1\" viewBox=\"0 0 370 818\" width=\"370px\" zoomAndPan=\"magnify\"><defs><filter height=\"300%\" id=\"f7iw561nf9odo\" width=\"300%\" x=\"-1\" y=\"-1\"><feGaussianBlur result=\"blurOut\" stdDeviation=\"2.0\"/><feColorMatrix in=\"blurOut\" result=\"blurOut2\" type=\"matrix\" values=\"0 0 0 0 0 0 0 0 0 0 0 0 0 0 0 0 0 0 .4 0\"/><feOffset dx=\"4.0\" dy=\"4.0\" in=\"blurOut2\" result=\"blurOut3\"/><feBlend in=\"SourceGraphic\" in2=\"blurOut3\" mode=\"normal\"/></filter></defs><g><!--MD5=[fbc87193dbaf4d95561dea2c320d4a47]\n",
       "cluster E1--><a href=\"psysml:9c84b130-4496-45dd-acf0-f614adf4451b\" target=\"_top\" title=\"psysml:9c84b130-4496-45dd-acf0-f614adf4451b\" xlink:actuate=\"onRequest\" xlink:href=\"psysml:9c84b130-4496-45dd-acf0-f614adf4451b\" xlink:show=\"new\" xlink:title=\"psysml:9c84b130-4496-45dd-acf0-f614adf4451b\" xlink:type=\"simple\"><polygon fill=\"#FFFFFF\" filter=\"url(#f7iw561nf9odo)\" points=\"16,6,83,6,90,28.2969,348,28.2969,348,806,16,806,16,6\" style=\"stroke: #000000; stroke-width: 1.5;\"/><line style=\"stroke: #000000; stroke-width: 1.5;\" x1=\"16\" x2=\"90\" y1=\"28.2969\" y2=\"28.2969\"/><text fill=\"#000000\" font-family=\"sans-serif\" font-size=\"14\" font-weight=\"bold\" lengthAdjust=\"spacingAndGlyphs\" textLength=\"61\" x=\"20\" y=\"20.9951\">ItemTest</text></a><!--MD5=[b4997ac47864f28c2f74865a473b2911]\n",
       "class E2--><a href=\"psysml:046ce2e8-70d6-418b-9e34-4058f6a1e698\" target=\"_top\" title=\"psysml:046ce2e8-70d6-418b-9e34-4058f6a1e698\" xlink:actuate=\"onRequest\" xlink:href=\"psysml:046ce2e8-70d6-418b-9e34-4058f6a1e698\" xlink:show=\"new\" xlink:title=\"psysml:046ce2e8-70d6-418b-9e34-4058f6a1e698\" xlink:type=\"simple\"><rect fill=\"#FEFECE\" filter=\"url(#f7iw561nf9odo)\" height=\"40\" id=\"E2\" rx=\"10\" ry=\"10\" style=\"stroke: #A80036; stroke-width: 1.5;\" width=\"56\" x=\"252\" y=\"148\"/><ellipse cx=\"267\" cy=\"164\" fill=\"#32CD32\" rx=\"11\" ry=\"11\" style=\"stroke: #A80036; stroke-width: 1.0;\"/><path d=\"M263.8125,169 L263.8125,158.4063 L267.4219,158.4063 Q268.6406,158.4063 269.4375,158.8438 Q270.2344,159.2656 270.6094,159.9688 Q271,160.6719 271,161.5156 Q271,162.3594 270.625,163.0469 Q270.2656,163.7344 269.4688,164.1563 Q268.6875,164.5625 267.5,164.5625 L265.7656,164.5625 L265.7656,169 L263.8125,169 Z M265.7656,162.9688 L267.375,162.9688 Q268.1875,162.9688 268.6094,162.5625 Q269.0313,162.1563 269.0313,161.5156 Q269.0313,160.8906 268.6094,160.4844 Q268.1875,160.0781 267.3906,160.0781 L265.7656,160.0781 L265.7656,162.9688 Z \"/><text fill=\"#000000\" font-family=\"sans-serif\" font-size=\"12\" lengthAdjust=\"spacingAndGlyphs\" textLength=\"20\" x=\"281\" y=\"168.1543\">f: A</text><line style=\"stroke: #A80036; stroke-width: 1.5;\" x1=\"253\" x2=\"307\" y1=\"180\" y2=\"180\"/></a><!--MD5=[09b614a08d8cba4a07c9adeb5e0fee81]\n",
       "class E3--><a href=\"psysml:b761bda6-ef45-4173-adbe-8f17f5dd59b9\" target=\"_top\" title=\"psysml:b761bda6-ef45-4173-adbe-8f17f5dd59b9\" xlink:actuate=\"onRequest\" xlink:href=\"psysml:b761bda6-ef45-4173-adbe-8f17f5dd59b9\" xlink:show=\"new\" xlink:title=\"psysml:b761bda6-ef45-4173-adbe-8f17f5dd59b9\" xlink:type=\"simple\"><rect fill=\"#FEFECE\" filter=\"url(#f7iw561nf9odo)\" height=\"40\" id=\"E3\" style=\"stroke: #A80036; stroke-width: 1.5;\" width=\"40\" x=\"163\" y=\"249\"/><ellipse cx=\"178\" cy=\"265\" fill=\"#008000\" rx=\"11\" ry=\"11\" style=\"stroke: #A80036; stroke-width: 1.0;\"/><path d=\"M174.875,270 L174.875,259.4063 L178.1094,259.4063 Q180.0156,259.4063 180.9219,260.1563 Q181.8438,260.9063 181.8438,262.0781 Q181.8438,262.7656 181.4531,263.4219 Q181.0781,264.0781 180.3594,264.375 Q181.2188,264.75 181.7344,265.4375 Q182.25,266.125 182.25,266.9375 Q182.25,268.3125 181.2188,269.1563 Q180.2031,270 178.0938,270 L174.875,270 Z M176.7969,263.6406 L177.9531,263.6406 Q179.0781,263.6406 179.4844,263.2656 Q179.9063,262.875 179.9063,262.25 Q179.9063,261.6719 179.4844,261.3125 Q179.0625,260.9531 178.125,260.9531 L176.7969,260.9531 L176.7969,263.6406 Z M176.7969,268.4219 L178.2969,268.4219 Q179.2031,268.4219 179.7344,268.0313 Q180.2656,267.6406 180.2656,266.8906 Q180.2656,266.125 179.7656,265.6563 Q179.2656,265.1719 178,265.1719 L176.7969,265.1719 L176.7969,268.4219 Z \"/><text fill=\"#000000\" font-family=\"sans-serif\" font-size=\"12\" lengthAdjust=\"spacingAndGlyphs\" textLength=\"8\" x=\"192\" y=\"269.1543\">A</text><line style=\"stroke: #A80036; stroke-width: 1.5;\" x1=\"164\" x2=\"202\" y1=\"281\" y2=\"281\"/></a><!--MD5=[ebbe1d658d1005bcc118a6aa81145e00]\n",
       "class E4--><a href=\"psysml:5a9b7c1e-d921-40a5-84d4-dcafad1b8599\" target=\"_top\" title=\"psysml:5a9b7c1e-d921-40a5-84d4-dcafad1b8599\" xlink:actuate=\"onRequest\" xlink:href=\"psysml:5a9b7c1e-d921-40a5-84d4-dcafad1b8599\" xlink:show=\"new\" xlink:title=\"psysml:5a9b7c1e-d921-40a5-84d4-dcafad1b8599\" xlink:type=\"simple\"><rect fill=\"#FEFECE\" filter=\"url(#f7iw561nf9odo)\" height=\"40\" id=\"E4\" rx=\"10\" ry=\"10\" style=\"stroke: #A80036; stroke-width: 1.5;\" width=\"60\" x=\"260\" y=\"426\"/><ellipse cx=\"275\" cy=\"442\" fill=\"#32CD32\" rx=\"11\" ry=\"11\" style=\"stroke: #A80036; stroke-width: 1.0;\"/><path d=\"M271.8125,447 L271.8125,436.4063 L275.4219,436.4063 Q276.6406,436.4063 277.4375,436.8438 Q278.2344,437.2656 278.6094,437.9688 Q279,438.6719 279,439.5156 Q279,440.3594 278.625,441.0469 Q278.2656,441.7344 277.4688,442.1563 Q276.6875,442.5625 275.5,442.5625 L273.7656,442.5625 L273.7656,447 L271.8125,447 Z M273.7656,440.9688 L275.375,440.9688 Q276.1875,440.9688 276.6094,440.5625 Q277.0313,440.1563 277.0313,439.5156 Q277.0313,438.8906 276.6094,438.4844 Q276.1875,438.0781 275.3906,438.0781 L273.7656,438.0781 L273.7656,440.9688 Z \"/><text fill=\"#000000\" font-family=\"sans-serif\" font-size=\"12\" lengthAdjust=\"spacingAndGlyphs\" textLength=\"24\" x=\"289\" y=\"446.1543\">b: B</text><line style=\"stroke: #A80036; stroke-width: 1.5;\" x1=\"261\" x2=\"319\" y1=\"458\" y2=\"458\"/></a><!--MD5=[270fce915f116d4de14055a7c1d9a0f3]\n",
       "class E5--><a href=\"psysml:c52e7c62-32ae-43e1-a51e-2d7f86512260\" target=\"_top\" title=\"psysml:c52e7c62-32ae-43e1-a51e-2d7f86512260\" xlink:actuate=\"onRequest\" xlink:href=\"psysml:c52e7c62-32ae-43e1-a51e-2d7f86512260\" xlink:show=\"new\" xlink:title=\"psysml:c52e7c62-32ae-43e1-a51e-2d7f86512260\" xlink:type=\"simple\"><rect fill=\"#FEFECE\" filter=\"url(#f7iw561nf9odo)\" height=\"45.9375\" id=\"E5\" rx=\"10\" ry=\"10\" style=\"stroke: #A80036; stroke-width: 1.5;\" width=\"68\" x=\"227\" y=\"350\"/><ellipse cx=\"242\" cy=\"368.9688\" fill=\"#32CD32\" rx=\"11\" ry=\"11\" style=\"stroke: #A80036; stroke-width: 1.0;\"/><path d=\"M238.8125,373.9688 L238.8125,363.375 L242.4219,363.375 Q243.6406,363.375 244.4375,363.8125 Q245.2344,364.2344 245.6094,364.9375 Q246,365.6406 246,366.4844 Q246,367.3281 245.625,368.0156 Q245.2656,368.7031 244.4688,369.125 Q243.6875,369.5313 242.5,369.5313 L240.7656,369.5313 L240.7656,373.9688 L238.8125,373.9688 Z M240.7656,367.9375 L242.375,367.9375 Q243.1875,367.9375 243.6094,367.5313 Q244.0313,367.125 244.0313,366.4844 Q244.0313,365.8594 243.6094,365.4531 Q243.1875,365.0469 242.3906,365.0469 L240.7656,365.0469 L240.7656,367.9375 Z \"/><text fill=\"#000000\" font-family=\"sans-serif\" font-size=\"12\" font-style=\"italic\" lengthAdjust=\"spacingAndGlyphs\" textLength=\"40\" x=\"254\" y=\"366.1387\">«part»</text><text fill=\"#000000\" font-family=\"sans-serif\" font-size=\"12\" lengthAdjust=\"spacingAndGlyphs\" textLength=\"23\" x=\"260.5\" y=\"380.1074\">c: C</text><line style=\"stroke: #A80036; stroke-width: 1.5;\" x1=\"228\" x2=\"294\" y1=\"387.9375\" y2=\"387.9375\"/></a><!--MD5=[60a26617385b1d2d0262a64233df1f8d]\n",
       "class E6--><a href=\"psysml:154f7142-f3c2-4f8f-a55c-1d31f59952e7\" target=\"_top\" title=\"psysml:154f7142-f3c2-4f8f-a55c-1d31f59952e7\" xlink:actuate=\"onRequest\" xlink:href=\"psysml:154f7142-f3c2-4f8f-a55c-1d31f59952e7\" xlink:show=\"new\" xlink:title=\"psysml:154f7142-f3c2-4f8f-a55c-1d31f59952e7\" xlink:type=\"simple\"><rect fill=\"#FEFECE\" filter=\"url(#f7iw561nf9odo)\" height=\"40\" id=\"E6\" style=\"stroke: #A80036; stroke-width: 1.5;\" width=\"40\" x=\"162\" y=\"643\"/><ellipse cx=\"177\" cy=\"659\" fill=\"#008000\" rx=\"11\" ry=\"11\" style=\"stroke: #A80036; stroke-width: 1.0;\"/><path d=\"M173.875,664 L173.875,653.4063 L177.1094,653.4063 Q179.0156,653.4063 179.9219,654.1563 Q180.8438,654.9063 180.8438,656.0781 Q180.8438,656.7656 180.4531,657.4219 Q180.0781,658.0781 179.3594,658.375 Q180.2188,658.75 180.7344,659.4375 Q181.25,660.125 181.25,660.9375 Q181.25,662.3125 180.2188,663.1563 Q179.2031,664 177.0938,664 L173.875,664 Z M175.7969,657.6406 L176.9531,657.6406 Q178.0781,657.6406 178.4844,657.2656 Q178.9063,656.875 178.9063,656.25 Q178.9063,655.6719 178.4844,655.3125 Q178.0625,654.9531 177.125,654.9531 L175.7969,654.9531 L175.7969,657.6406 Z M175.7969,662.4219 L177.2969,662.4219 Q178.2031,662.4219 178.7344,662.0313 Q179.2656,661.6406 179.2656,660.8906 Q179.2656,660.125 178.7656,659.6563 Q178.2656,659.1719 177,659.1719 L175.7969,659.1719 L175.7969,662.4219 Z \"/><text fill=\"#000000\" font-family=\"sans-serif\" font-size=\"12\" font-style=\"italic\" lengthAdjust=\"spacingAndGlyphs\" textLength=\"8\" x=\"191\" y=\"663.1543\">B</text><line style=\"stroke: #A80036; stroke-width: 1.5;\" x1=\"163\" x2=\"201\" y1=\"675\" y2=\"675\"/></a><!--MD5=[2156ba9850f5573cc1fc38a6a4b2f02b]\n",
       "class E7--><a href=\"psysml:3092a58e-bc17-492e-b3ac-d9b0c5d27ee1\" target=\"_top\" title=\"psysml:3092a58e-bc17-492e-b3ac-d9b0c5d27ee1\" xlink:actuate=\"onRequest\" xlink:href=\"psysml:3092a58e-bc17-492e-b3ac-d9b0c5d27ee1\" xlink:show=\"new\" xlink:title=\"psysml:3092a58e-bc17-492e-b3ac-d9b0c5d27ee1\" xlink:type=\"simple\"><rect fill=\"#FEFECE\" filter=\"url(#f7iw561nf9odo)\" height=\"45.9375\" id=\"E7\" rx=\"10\" ry=\"10\" style=\"stroke: #A80036; stroke-width: 1.5;\" width=\"68\" x=\"90\" y=\"744\"/><ellipse cx=\"105\" cy=\"762.9688\" fill=\"#32CD32\" rx=\"11\" ry=\"11\" style=\"stroke: #A80036; stroke-width: 1.0;\"/><path d=\"M101.8125,767.9688 L101.8125,757.375 L105.4219,757.375 Q106.6406,757.375 107.4375,757.8125 Q108.2344,758.2344 108.6094,758.9375 Q109,759.6406 109,760.4844 Q109,761.3281 108.625,762.0156 Q108.2656,762.7031 107.4688,763.125 Q106.6875,763.5313 105.5,763.5313 L103.7656,763.5313 L103.7656,767.9688 L101.8125,767.9688 Z M103.7656,761.9375 L105.375,761.9375 Q106.1875,761.9375 106.6094,761.5313 Q107.0313,761.125 107.0313,760.4844 Q107.0313,759.8594 106.6094,759.4531 Q106.1875,759.0469 105.3906,759.0469 L103.7656,759.0469 L103.7656,761.9375 Z \"/><text fill=\"#000000\" font-family=\"sans-serif\" font-size=\"12\" font-style=\"italic\" lengthAdjust=\"spacingAndGlyphs\" textLength=\"40\" x=\"117\" y=\"760.1387\">«part»</text><text fill=\"#000000\" font-family=\"sans-serif\" font-size=\"12\" font-style=\"italic\" lengthAdjust=\"spacingAndGlyphs\" textLength=\"8\" x=\"123\" y=\"774.1074\">a</text><text fill=\"#000000\" font-family=\"sans-serif\" font-size=\"12\" lengthAdjust=\"spacingAndGlyphs\" textLength=\"16\" x=\"131\" y=\"774.1074\">: A</text><line style=\"stroke: #A80036; stroke-width: 1.5;\" x1=\"91\" x2=\"157\" y1=\"781.9375\" y2=\"781.9375\"/></a><!--MD5=[b9389687b975829384b498ac4b7476b2]\n",
       "class E8--><a href=\"psysml:a977dc12-1522-4e17-86ea-88834b4a9262\" target=\"_top\" title=\"psysml:a977dc12-1522-4e17-86ea-88834b4a9262\" xlink:actuate=\"onRequest\" xlink:href=\"psysml:a977dc12-1522-4e17-86ea-88834b4a9262\" xlink:show=\"new\" xlink:title=\"psysml:a977dc12-1522-4e17-86ea-88834b4a9262\" xlink:type=\"simple\"><rect fill=\"#FEFECE\" filter=\"url(#f7iw561nf9odo)\" height=\"69.6094\" id=\"E8\" style=\"stroke: #A80036; stroke-width: 1.5;\" width=\"75\" x=\"145.5\" y=\"496\"/><ellipse cx=\"176.25\" cy=\"512\" fill=\"#008000\" rx=\"11\" ry=\"11\" style=\"stroke: #A80036; stroke-width: 1.0;\"/><path d=\"M173.125,517 L173.125,506.4063 L176.3594,506.4063 Q178.2656,506.4063 179.1719,507.1563 Q180.0938,507.9063 180.0938,509.0781 Q180.0938,509.7656 179.7031,510.4219 Q179.3281,511.0781 178.6094,511.375 Q179.4688,511.75 179.9844,512.4375 Q180.5,513.125 180.5,513.9375 Q180.5,515.3125 179.4688,516.1563 Q178.4531,517 176.3438,517 L173.125,517 Z M175.0469,510.6406 L176.2031,510.6406 Q177.3281,510.6406 177.7344,510.2656 Q178.1563,509.875 178.1563,509.25 Q178.1563,508.6719 177.7344,508.3125 Q177.3125,507.9531 176.375,507.9531 L175.0469,507.9531 L175.0469,510.6406 Z M175.0469,515.4219 L176.5469,515.4219 Q177.4531,515.4219 177.9844,515.0313 Q178.5156,514.6406 178.5156,513.8906 Q178.5156,513.125 178.0156,512.6563 Q177.5156,512.1719 176.25,512.1719 L175.0469,512.1719 L175.0469,515.4219 Z \"/><text fill=\"#000000\" font-family=\"sans-serif\" font-size=\"12\" lengthAdjust=\"spacingAndGlyphs\" textLength=\"8\" x=\"193.75\" y=\"516.1543\">C</text><line style=\"stroke: #A80036; stroke-width: 1.5;\" x1=\"146.5\" x2=\"219.5\" y1=\"528\" y2=\"528\"/><text fill=\"#000000\" font-family=\"sans-serif\" font-size=\"11\" font-weight=\"bold\" lengthAdjust=\"spacingAndGlyphs\" textLength=\"10\" x=\"151.5\" y=\"559.0151\">in</text><text fill=\"#000000\" font-family=\"sans-serif\" font-size=\"11\" lengthAdjust=\"spacingAndGlyphs\" textLength=\"37\" x=\"165.5\" y=\"559.0151\">y: A, B</text><line style=\"stroke: #A80036; stroke-width: 1.0;\" x1=\"146.5\" x2=\"149.5\" y1=\"542.4023\" y2=\"542.4023\"/><text fill=\"#000000\" font-family=\"sans-serif\" font-size=\"11\" lengthAdjust=\"spacingAndGlyphs\" textLength=\"67\" x=\"149.5\" y=\"545.7104\">parameters</text><line style=\"stroke: #A80036; stroke-width: 1.0;\" x1=\"216.5\" x2=\"219.5\" y1=\"542.4023\" y2=\"542.4023\"/></a><!--MD5=[fd4143e9d270a159db93a4ea2a975926]\n",
       "class E9--><a href=\"psysml:505a0904-767f-4431-bdaf-f395e9a256c5\" target=\"_top\" title=\"psysml:505a0904-767f-4431-bdaf-f395e9a256c5\" xlink:actuate=\"onRequest\" xlink:href=\"psysml:505a0904-767f-4431-bdaf-f395e9a256c5\" xlink:show=\"new\" xlink:title=\"psysml:505a0904-767f-4431-bdaf-f395e9a256c5\" xlink:type=\"simple\"><rect fill=\"#FEFECE\" filter=\"url(#f7iw561nf9odo)\" height=\"45.9375\" id=\"E9\" style=\"stroke: #A80036; stroke-width: 1.5;\" width=\"96\" x=\"84\" y=\"41\"/><ellipse cx=\"99\" cy=\"59.9688\" fill=\"#A52A2A\" rx=\"11\" ry=\"11\" style=\"stroke: #A80036; stroke-width: 1.0;\"/><path d=\"M96.2188,64.9688 L96.2188,54.375 L98.9531,54.375 Q100.3438,54.375 101.1094,54.7656 Q101.8906,55.1406 102.4219,55.8438 Q102.9531,56.5469 103.25,57.5469 Q103.5469,58.5313 103.5469,59.75 Q103.5,61.3438 103,62.5313 Q102.5156,63.7031 101.4688,64.3438 Q100.4375,64.9688 98.75,64.9688 L96.2188,64.9688 Z M98.0781,63.4688 L98.7031,63.4688 Q99.7813,63.4688 100.4375,63.0156 Q101.0938,62.5625 101.375,61.7344 Q101.6719,60.8906 101.6563,59.7656 Q101.6563,58.5938 101.4063,57.7344 Q101.1563,56.8594 100.5469,56.3906 Q99.9375,55.9063 98.8906,55.9063 L98.0781,55.9063 L98.0781,63.4688 Z \"/><text fill=\"#000000\" font-family=\"sans-serif\" font-size=\"12\" font-style=\"italic\" lengthAdjust=\"spacingAndGlyphs\" textLength=\"68\" x=\"111\" y=\"57.1387\">«port  def»</text><text fill=\"#000000\" font-family=\"sans-serif\" font-size=\"12\" lengthAdjust=\"spacingAndGlyphs\" textLength=\"8\" x=\"141\" y=\"71.1074\">P</text><line style=\"stroke: #A80036; stroke-width: 1.5;\" x1=\"85\" x2=\"179\" y1=\"78.9375\" y2=\"78.9375\"/></a><!--MD5=[96f4274e9e20536e775497830990834d]\n",
       "class E10--><a href=\"psysml:b48ee9ab-0a15-45ce-8465-86ae83c4be7f\" target=\"_top\" title=\"psysml:b48ee9ab-0a15-45ce-8465-86ae83c4be7f\" xlink:actuate=\"onRequest\" xlink:href=\"psysml:b48ee9ab-0a15-45ce-8465-86ae83c4be7f\" xlink:show=\"new\" xlink:title=\"psysml:b48ee9ab-0a15-45ce-8465-86ae83c4be7f\" xlink:type=\"simple\"><rect fill=\"#FEFECE\" filter=\"url(#f7iw561nf9odo)\" height=\"40\" id=\"E10\" rx=\"10\" ry=\"10\" style=\"stroke: #A80036; stroke-width: 1.5;\" width=\"68\" x=\"46\" y=\"148\"/><ellipse cx=\"61\" cy=\"164\" fill=\"#32CD32\" rx=\"11\" ry=\"11\" style=\"stroke: #A80036; stroke-width: 1.0;\"/><path d=\"M57.8125,169 L57.8125,158.4063 L61.4219,158.4063 Q62.6406,158.4063 63.4375,158.8438 Q64.2344,159.2656 64.6094,159.9688 Q65,160.6719 65,161.5156 Q65,162.3594 64.625,163.0469 Q64.2656,163.7344 63.4688,164.1563 Q62.6875,164.5625 61.5,164.5625 L59.7656,164.5625 L59.7656,169 L57.8125,169 Z M59.7656,162.9688 L61.375,162.9688 Q62.1875,162.9688 62.6094,162.5625 Q63.0313,162.1563 63.0313,161.5156 Q63.0313,160.8906 62.6094,160.4844 Q62.1875,160.0781 61.3906,160.0781 L59.7656,160.0781 L59.7656,162.9688 Z \"/><text fill=\"#000000\" font-family=\"sans-serif\" font-size=\"12\" lengthAdjust=\"spacingAndGlyphs\" textLength=\"32\" x=\"75\" y=\"168.1543\">a1: A</text><line style=\"stroke: #A80036; stroke-width: 1.5;\" x1=\"47\" x2=\"113\" y1=\"180\" y2=\"180\"/></a><!--MD5=[1dd1bfd58a279cf63c5f349dbc8fc6a1]\n",
       "class E11--><a href=\"psysml:7b14a527-4e8d-41df-a91b-3ca9db44b1d9\" target=\"_top\" title=\"psysml:7b14a527-4e8d-41df-a91b-3ca9db44b1d9\" xlink:actuate=\"onRequest\" xlink:href=\"psysml:7b14a527-4e8d-41df-a91b-3ca9db44b1d9\" xlink:show=\"new\" xlink:title=\"psysml:7b14a527-4e8d-41df-a91b-3ca9db44b1d9\" xlink:type=\"simple\"><rect fill=\"#FEFECE\" filter=\"url(#f7iw561nf9odo)\" height=\"40\" id=\"E11\" rx=\"10\" ry=\"10\" style=\"stroke: #A80036; stroke-width: 1.5;\" width=\"68\" x=\"149\" y=\"148\"/><ellipse cx=\"164\" cy=\"164\" fill=\"#32CD32\" rx=\"11\" ry=\"11\" style=\"stroke: #A80036; stroke-width: 1.0;\"/><path d=\"M160.8125,169 L160.8125,158.4063 L164.4219,158.4063 Q165.6406,158.4063 166.4375,158.8438 Q167.2344,159.2656 167.6094,159.9688 Q168,160.6719 168,161.5156 Q168,162.3594 167.625,163.0469 Q167.2656,163.7344 166.4688,164.1563 Q165.6875,164.5625 164.5,164.5625 L162.7656,164.5625 L162.7656,169 L160.8125,169 Z M162.7656,162.9688 L164.375,162.9688 Q165.1875,162.9688 165.6094,162.5625 Q166.0313,162.1563 166.0313,161.5156 Q166.0313,160.8906 165.6094,160.4844 Q165.1875,160.0781 164.3906,160.0781 L162.7656,160.0781 L162.7656,162.9688 Z \"/><text fill=\"#000000\" font-family=\"sans-serif\" font-size=\"12\" lengthAdjust=\"spacingAndGlyphs\" textLength=\"32\" x=\"178\" y=\"168.1543\">a2: A</text><line style=\"stroke: #A80036; stroke-width: 1.5;\" x1=\"150\" x2=\"216\" y1=\"180\" y2=\"180\"/></a><!--MD5=[2720a5a1f2c3fca2055b230370638851]\n",
       "link E2 to E3--><a href=\"psysml:2913aa14-34e4-4ebc-b3c0-73cbbe37a712\" target=\"_top\" title=\"psysml:2913aa14-34e4-4ebc-b3c0-73cbbe37a712\" xlink:actuate=\"onRequest\" xlink:href=\"psysml:2913aa14-34e4-4ebc-b3c0-73cbbe37a712\" xlink:show=\"new\" xlink:title=\"psysml:2913aa14-34e4-4ebc-b3c0-73cbbe37a712\" xlink:type=\"simple\"><path d=\"M261.3,188.09 C248.42,201.24 230.95,219.06 215.79,234.53 \" fill=\"none\" id=\"E2-&gt;E3\" style=\"stroke: #A80036; stroke-width: 1.0;\"/><polygon fill=\"#FFFFFF\" points=\"201.65,248.97,209.9397,230.4962,219.9437,240.2901,201.65,248.97\" style=\"stroke: #A80036; stroke-width: 1.0;\"/><ellipse cx=\"215.3564\" cy=\"227.8223\" fill=\"#A80036\" rx=\"2\" ry=\"2\" style=\"stroke: #A80036; stroke-width: 1.0;\"/><ellipse cx=\"222.5021\" cy=\"234.8179\" fill=\"#A80036\" rx=\"2\" ry=\"2\" style=\"stroke: #A80036; stroke-width: 1.0;\"/></a><!--MD5=[4672eba38e49728da53d11aeb285b987]\n",
       "reverse link E3 to E4--><a href=\"psysml:5a70b25d-3e65-48fe-9200-ece04e9de0ee\" target=\"_top\" title=\"psysml:5a70b25d-3e65-48fe-9200-ece04e9de0ee\" xlink:actuate=\"onRequest\" xlink:href=\"psysml:5a70b25d-3e65-48fe-9200-ece04e9de0ee\" xlink:show=\"new\" xlink:title=\"psysml:5a70b25d-3e65-48fe-9200-ece04e9de0ee\" xlink:type=\"simple\"><path d=\"M215.85,279.86 C247.13,291.2 292.41,313.16 313,350 C326.41,374 313.64,405.67 302.45,425.69 \" fill=\"none\" id=\"E3&lt;-E4\" style=\"stroke: #A80036; stroke-width: 1.0;\"/><polygon fill=\"#A80036\" points=\"203.41,275.64,207.8094,281.3536,214.7756,279.4901,210.3762,273.7765,203.41,275.64\" style=\"stroke: #A80036; stroke-width: 1.0;\"/><text fill=\"#000000\" font-family=\"sans-serif\" font-size=\"13\" lengthAdjust=\"spacingAndGlyphs\" textLength=\"8\" x=\"297.8845\" y=\"415.9497\">1</text></a><!--MD5=[191cde3d490a3f6d7bb551fe3ddca469]\n",
       "reverse link E3 to E5--><a href=\"psysml:98aba136-2768-4c7e-bc34-95a5a6a911cd\" target=\"_top\" title=\"psysml:98aba136-2768-4c7e-bc34-95a5a6a911cd\" xlink:actuate=\"onRequest\" xlink:href=\"psysml:98aba136-2768-4c7e-bc34-95a5a6a911cd\" xlink:show=\"new\" xlink:title=\"psysml:98aba136-2768-4c7e-bc34-95a5a6a911cd\" xlink:type=\"simple\"><path d=\"M205.64,299.61 C217.87,315.59 232.71,335.01 243.95,349.7 \" fill=\"none\" id=\"E3&lt;-E5\" style=\"stroke: #A80036; stroke-width: 1.0;\"/><polygon fill=\"#FFFFFF\" points=\"197.67,289.19,198.138,296.3859,204.9604,298.7215,204.4924,291.5256,197.67,289.19\" style=\"stroke: #A80036; stroke-width: 1.0;\"/><text fill=\"#000000\" font-family=\"sans-serif\" font-size=\"13\" lengthAdjust=\"spacingAndGlyphs\" textLength=\"8\" x=\"230.5559\" y=\"338.8994\">1</text></a><!--MD5=[79568f1e445c3877b6a54524624ccc7d]\n",
       "link E4 to E6--><a href=\"psysml:04be4dec-9fb2-423c-a400-1c82afc162c3\" target=\"_top\" title=\"psysml:04be4dec-9fb2-423c-a400-1c82afc162c3\" xlink:actuate=\"onRequest\" xlink:href=\"psysml:04be4dec-9fb2-423c-a400-1c82afc162c3\" xlink:show=\"new\" xlink:title=\"psysml:04be4dec-9fb2-423c-a400-1c82afc162c3\" xlink:type=\"simple\"><path d=\"M282.38,466.28 C272.8,490.08 255.46,531.63 238,566 C227.8,586.09 215.25,607.82 204.62,625.52 \" fill=\"none\" id=\"E4-&gt;E6\" style=\"stroke: #A80036; stroke-width: 1.0;\"/><polygon fill=\"#FFFFFF\" points=\"194.04,642.88,197.947,623.012,209.9031,630.2957,194.04,642.88\" style=\"stroke: #A80036; stroke-width: 1.0;\"/><ellipse cx=\"202.6205\" cy=\"619.1847\" fill=\"#A80036\" rx=\"2\" ry=\"2\" style=\"stroke: #A80036; stroke-width: 1.0;\"/><ellipse cx=\"211.1606\" cy=\"624.3874\" fill=\"#A80036\" rx=\"2\" ry=\"2\" style=\"stroke: #A80036; stroke-width: 1.0;\"/></a><!--MD5=[3f50a3473f1dfb74d3f76443e03635af]\n",
       "reverse link E6 to E7--><a href=\"psysml:88a05b08-39fe-46e7-8c9b-5df9e56fb426\" target=\"_top\" title=\"psysml:88a05b08-39fe-46e7-8c9b-5df9e56fb426\" xlink:actuate=\"onRequest\" xlink:href=\"psysml:88a05b08-39fe-46e7-8c9b-5df9e56fb426\" xlink:show=\"new\" xlink:title=\"psysml:88a05b08-39fe-46e7-8c9b-5df9e56fb426\" xlink:type=\"simple\"><path d=\"M164.64,694.53 C155.65,710.34 144.87,729.29 136.68,743.7 \" fill=\"none\" id=\"E6&lt;-E7\" style=\"stroke: #A80036; stroke-width: 1.0;\"/><polygon fill=\"#A80036\" points=\"171.09,683.19,164.6464,686.4272,165.1562,693.6203,171.5999,690.3831,171.09,683.19\" style=\"stroke: #A80036; stroke-width: 1.0;\"/><text fill=\"#000000\" font-family=\"sans-serif\" font-size=\"13\" lengthAdjust=\"spacingAndGlyphs\" textLength=\"8\" x=\"130.9043\" y=\"732.8994\">1</text></a><!--MD5=[14ccda38c055a5c0da953d572bc50960]\n",
       "link E7 to E3--><a href=\"psysml:de23f89f-df32-45d9-b344-47d8d19c4edc\" target=\"_top\" title=\"psysml:de23f89f-df32-45d9-b344-47d8d19c4edc\" xlink:actuate=\"onRequest\" xlink:href=\"psysml:de23f89f-df32-45d9-b344-47d8d19c4edc\" xlink:show=\"new\" xlink:title=\"psysml:de23f89f-df32-45d9-b344-47d8d19c4edc\" xlink:type=\"simple\"><path d=\"M89.86,746.15 C64.03,728.31 33,699.48 33,664 C33,372 33,372 33,372 C33,318.56 98.9,291.15 143.34,278.74 \" fill=\"none\" id=\"E7-&gt;E3\" style=\"stroke: #A80036; stroke-width: 1.0;\"/><polygon fill=\"#FFFFFF\" points=\"162.77,273.87,146.039,285.275,142.6388,271.6942,162.77,273.87\" style=\"stroke: #A80036; stroke-width: 1.0;\"/><ellipse cx=\"140.0239\" cy=\"284.7192\" fill=\"#A80036\" rx=\"2\" ry=\"2\" style=\"stroke: #A80036; stroke-width: 1.0;\"/><ellipse cx=\"137.5952\" cy=\"275.0186\" fill=\"#A80036\" rx=\"2\" ry=\"2\" style=\"stroke: #A80036; stroke-width: 1.0;\"/></a><!--MD5=[dfaffb906826c3e5aca635516100ff21]\n",
       "link E5 to E8--><a href=\"psysml:feaf6c57-7b20-4701-8323-0c325a1238bf\" target=\"_top\" title=\"psysml:feaf6c57-7b20-4701-8323-0c325a1238bf\" xlink:actuate=\"onRequest\" xlink:href=\"psysml:feaf6c57-7b20-4701-8323-0c325a1238bf\" xlink:show=\"new\" xlink:title=\"psysml:feaf6c57-7b20-4701-8323-0c325a1238bf\" xlink:type=\"simple\"><path d=\"M249.99,396.02 C239.45,417.11 223.14,449.73 209.25,477.5 \" fill=\"none\" id=\"E5-&gt;E8\" style=\"stroke: #A80036; stroke-width: 1.0;\"/><polygon fill=\"#FFFFFF\" points=\"200.12,495.76,202.3561,475.6354,214.878,481.8964,200.12,495.76\" style=\"stroke: #A80036; stroke-width: 1.0;\"/><ellipse cx=\"206.694\" cy=\"471.4316\" fill=\"#A80036\" rx=\"2\" ry=\"2\" style=\"stroke: #A80036; stroke-width: 1.0;\"/><ellipse cx=\"215.6383\" cy=\"475.9037\" fill=\"#A80036\" rx=\"2\" ry=\"2\" style=\"stroke: #A80036; stroke-width: 1.0;\"/></a><!--MD5=[03c8294790d3c57651a1993cecff665f]\n",
       "reverse link E8 to E3--><a href=\"psysml:f63e9e98-9395-484c-b7ba-710e403c3592\" target=\"_top\" title=\"psysml:f63e9e98-9395-484c-b7ba-710e403c3592\" xlink:actuate=\"onRequest\" xlink:href=\"psysml:f63e9e98-9395-484c-b7ba-710e403c3592\" xlink:show=\"new\" xlink:title=\"psysml:f63e9e98-9395-484c-b7ba-710e403c3592\" xlink:type=\"simple\"><path d=\"M154.97,484.08 C136.31,447.67 117.5,395.53 131,350 C137.83,326.97 153.6,304.36 166,289.09 \" fill=\"none\" id=\"E8&lt;-E3\" style=\"stroke: #A80036; stroke-width: 1.0;\"/><polygon fill=\"#FFFFFF\" points=\"161.25,495.79,161.9438,488.6124,155.5852,485.2113,154.8913,492.3889,161.25,495.79\" style=\"stroke: #A80036; stroke-width: 1.0;\"/><text fill=\"#000000\" font-family=\"sans-serif\" font-size=\"13\" lengthAdjust=\"spacingAndGlyphs\" textLength=\"7\" x=\"132\" y=\"377.5669\">y</text></a><!--MD5=[03c8294790d3c57651a1993cecff665f]\n",
       "reverse link E8 to E3--><a href=\"psysml:f63e9e98-9395-484c-b7ba-710e403c3592\" target=\"_top\" title=\"psysml:f63e9e98-9395-484c-b7ba-710e403c3592\" xlink:actuate=\"onRequest\" xlink:href=\"psysml:f63e9e98-9395-484c-b7ba-710e403c3592\" xlink:show=\"new\" xlink:title=\"psysml:f63e9e98-9395-484c-b7ba-710e403c3592\" xlink:type=\"simple\"><path d=\"M183,482.44 C183,424.55 183,329.51 183,289.12 \" fill=\"none\" id=\"E8&lt;-E3-1\" style=\"stroke: #A80036; stroke-width: 1.0;\"/><polygon fill=\"#FFFFFF\" points=\"183,495.6,187,489.6,183,483.6,179,489.6,183,495.6\" style=\"stroke: #A80036; stroke-width: 1.0;\"/><text fill=\"#000000\" font-family=\"sans-serif\" font-size=\"13\" lengthAdjust=\"spacingAndGlyphs\" textLength=\"7\" x=\"184\" y=\"377.5669\">y</text></a><!--MD5=[0d75d2178373a6a4568e5dc728f58aef]\n",
       "reverse link E8 to E6--><a href=\"psysml:f63e9e98-9395-484c-b7ba-710e403c3592\" target=\"_top\" title=\"psysml:f63e9e98-9395-484c-b7ba-710e403c3592\" xlink:actuate=\"onRequest\" xlink:href=\"psysml:f63e9e98-9395-484c-b7ba-710e403c3592\" xlink:show=\"new\" xlink:title=\"psysml:f63e9e98-9395-484c-b7ba-710e403c3592\" xlink:type=\"simple\"><path d=\"M160.75,578.68 C157.78,589.85 156.5,601.79 159,613 C161.29,623.27 165.98,633.94 170.53,642.68 \" fill=\"none\" id=\"E8&lt;-E6\" style=\"stroke: #A80036; stroke-width: 1.0;\"/><polygon fill=\"#FFFFFF\" points=\"164.91,566.02,159.2379,570.4728,161.1667,577.4212,166.8388,572.9684,164.91,566.02\" style=\"stroke: #A80036; stroke-width: 1.0;\"/><text fill=\"#000000\" font-family=\"sans-serif\" font-size=\"13\" lengthAdjust=\"spacingAndGlyphs\" textLength=\"7\" x=\"160\" y=\"609.0669\">y</text></a><!--MD5=[0d75d2178373a6a4568e5dc728f58aef]\n",
       "reverse link E8 to E6--><a href=\"psysml:f63e9e98-9395-484c-b7ba-710e403c3592\" target=\"_top\" title=\"psysml:f63e9e98-9395-484c-b7ba-710e403c3592\" xlink:actuate=\"onRequest\" xlink:href=\"psysml:f63e9e98-9395-484c-b7ba-710e403c3592\" xlink:show=\"new\" xlink:title=\"psysml:f63e9e98-9395-484c-b7ba-710e403c3592\" xlink:type=\"simple\"><path d=\"M182.64,579.38 C182.47,601.38 182.27,626.29 182.15,642.95 \" fill=\"none\" id=\"E8&lt;-E6-1\" style=\"stroke: #A80036; stroke-width: 1.0;\"/><polygon fill=\"#FFFFFF\" points=\"182.74,566.16,178.694,572.1291,182.6477,578.1596,186.6937,572.1906,182.74,566.16\" style=\"stroke: #A80036; stroke-width: 1.0;\"/><text fill=\"#000000\" font-family=\"sans-serif\" font-size=\"13\" lengthAdjust=\"spacingAndGlyphs\" textLength=\"7\" x=\"183\" y=\"609.0669\">y</text></a><!--MD5=[23ac544a70576c3e717098101004234c]\n",
       "reverse link E9 to E10--><a href=\"psysml:f7fd9ae3-3fa5-48e2-b146-bf2078e3bf75\" target=\"_top\" title=\"psysml:f7fd9ae3-3fa5-48e2-b146-bf2078e3bf75\" xlink:actuate=\"onRequest\" xlink:href=\"psysml:f7fd9ae3-3fa5-48e2-b146-bf2078e3bf75\" xlink:show=\"new\" xlink:title=\"psysml:f7fd9ae3-3fa5-48e2-b146-bf2078e3bf75\" xlink:type=\"simple\"><path d=\"M114.68,98.97 C106.36,115.3 96.7,134.25 89.69,148 \" fill=\"none\" id=\"E9&lt;-E10\" style=\"stroke: #A80036; stroke-width: 1.0;\"/><polygon fill=\"#FFFFFF\" points=\"120.72,87.13,114.4328,90.6615,115.2745,97.8233,121.5617,94.2918,120.72,87.13\" style=\"stroke: #A80036; stroke-width: 1.0;\"/><text fill=\"#000000\" font-family=\"sans-serif\" font-size=\"13\" lengthAdjust=\"spacingAndGlyphs\" textLength=\"8\" x=\"83.3614\" y=\"137.0083\">1</text></a><!--MD5=[feeac5eb423634930294aa81f2d25a4c]\n",
       "link E10 to E3--><a href=\"psysml:09a722a7-3c7d-4d30-9bcf-d6d93c165304\" target=\"_top\" title=\"psysml:09a722a7-3c7d-4d30-9bcf-d6d93c165304\" xlink:actuate=\"onRequest\" xlink:href=\"psysml:09a722a7-3c7d-4d30-9bcf-d6d93c165304\" xlink:show=\"new\" xlink:title=\"psysml:09a722a7-3c7d-4d30-9bcf-d6d93c165304\" xlink:type=\"simple\"><path d=\"M99.86,188.09 C113.68,201.37 132.47,219.43 148.69,235.02 \" fill=\"none\" id=\"E10-&gt;E3\" style=\"stroke: #A80036; stroke-width: 1.0;\"/><polygon fill=\"#FFFFFF\" points=\"163.2,248.97,144.6476,240.8578,154.3451,230.7604,163.2,248.97\" style=\"stroke: #A80036; stroke-width: 1.0;\"/><ellipse cx=\"141.9219\" cy=\"235.467\" fill=\"#A80036\" rx=\"2\" ry=\"2\" style=\"stroke: #A80036; stroke-width: 1.0;\"/><ellipse cx=\"148.8487\" cy=\"228.2546\" fill=\"#A80036\" rx=\"2\" ry=\"2\" style=\"stroke: #A80036; stroke-width: 1.0;\"/></a><!--MD5=[1fc04a95fd77ad5ce46c1a3027516051]\n",
       "reverse link E9 to E11--><a href=\"psysml:2308c13a-9c40-4baf-abe1-b4752fcfac30\" target=\"_top\" title=\"psysml:2308c13a-9c40-4baf-abe1-b4752fcfac30\" xlink:actuate=\"onRequest\" xlink:href=\"psysml:2308c13a-9c40-4baf-abe1-b4752fcfac30\" xlink:show=\"new\" xlink:title=\"psysml:2308c13a-9c40-4baf-abe1-b4752fcfac30\" xlink:type=\"simple\"><path d=\"M148.99,98.97 C157.15,115.3 166.62,134.25 173.5,148 \" fill=\"none\" id=\"E9&lt;-E11\" style=\"stroke: #A80036; stroke-width: 1.0;\"/><polygon fill=\"#FFFFFF\" points=\"143.07,87.13,142.1685,94.2845,148.426,97.8684,149.3275,90.7139,143.07,87.13\" style=\"stroke: #A80036; stroke-width: 1.0;\"/><text fill=\"#000000\" font-family=\"sans-serif\" font-size=\"13\" lengthAdjust=\"spacingAndGlyphs\" textLength=\"8\" x=\"161.5344\" y=\"137.0083\">1</text></a><!--MD5=[0517f1ce58c4d5483948f93845c45e26]\n",
       "link E11 to E3--><a href=\"psysml:713baad2-05ac-404b-8904-f9720a0da3f6\" target=\"_top\" title=\"psysml:713baad2-05ac-404b-8904-f9720a0da3f6\" xlink:actuate=\"onRequest\" xlink:href=\"psysml:713baad2-05ac-404b-8904-f9720a0da3f6\" xlink:show=\"new\" xlink:title=\"psysml:713baad2-05ac-404b-8904-f9720a0da3f6\" xlink:type=\"simple\"><path d=\"M183,188.09 C183,199.59 183,214.68 183,228.63 \" fill=\"none\" id=\"E11-&gt;E3\" style=\"stroke: #A80036; stroke-width: 1.0;\"/><polygon fill=\"#FFFFFF\" points=\"183,248.97,176,229.97,190,229.97,183,248.97\" style=\"stroke: #A80036; stroke-width: 1.0;\"/><ellipse cx=\"178\" cy=\"224.27\" fill=\"#A80036\" rx=\"2\" ry=\"2\" style=\"stroke: #A80036; stroke-width: 1.0;\"/><ellipse cx=\"188\" cy=\"224.27\" fill=\"#A80036\" rx=\"2\" ry=\"2\" style=\"stroke: #A80036; stroke-width: 1.0;\"/></a><!--MD5=[594939d362dec8411b3ac393a5ff50a0]\n",
       "@startuml\r\n",
       " \r\n",
       "package \"ItemTest\" as E1  [[psysml:9c84b130-4496-45dd-acf0-f614adf4451b ]]  {\r\n",
       "comp usage \"f: A \" as E2 << << (P,limegreen) >> [[psysml:046ce2e8-70d6-418b-9e34-4058f6a1e698 ]] {\r\n",
       "}\r\n",
       "comp def \"A\" as E3 << << (B,green) >> [[psysml:b761bda6-ef45-4173-adbe-8f17f5dd59b9 ]] {\r\n",
       "}\r\n",
       "comp usage \"b: B \" as E4 << << (P,limegreen) >> [[psysml:5a9b7c1e-d921-40a5-84d4-dcafad1b8599 ]] {\r\n",
       "}\r\n",
       "comp usage \"c: C \" as E5 << << (P,limegreen) part>> [[psysml:c52e7c62-32ae-43e1-a51e-2d7f86512260 ]] {\r\n",
       "}\r\n",
       "comp def \"<i>B</i>\" as E6 << << (B,green) >> [[psysml:154f7142-f3c2-4f8f-a55c-1d31f59952e7 ]] {\r\n",
       "}\r\n",
       "comp usage \"<i>a</i>: A \" as E7 << << (P,limegreen) part>> [[psysml:3092a58e-bc17-492e-b3ac-d9b0c5d27ee1 ]] {\r\n",
       "}\r\n",
       "comp def \"C\" as E8 << << (B,green) >> [[psysml:a977dc12-1522-4e17-86ea-88834b4a9262 ]] {\r\n",
       "- - parameters - -\r\n",
       "<b>in</b> y: A, B\r\n",
       "}\r\n",
       "comp def \"P\" as E9 << <<(D,brown) port  def>> [[psysml:505a0904-767f-4431-bdaf-f395e9a256c5 ]] {\r\n",
       "}\r\n",
       "comp usage \"a1: A \" as E10 << << (P,limegreen) >> [[psysml:b48ee9ab-0a15-45ce-8465-86ae83c4be7f ]] {\r\n",
       "}\r\n",
       "comp usage \"a2: A \" as E11 << << (P,limegreen) >> [[psysml:7b14a527-4e8d-41df-a91b-3ca9db44b1d9 ]] {\r\n",
       "}\r\n",
       "}\r\n",
       "E2 - -:|> E3 [[psysml:2913aa14-34e4-4ebc-b3c0-73cbbe37a712 ]] \r\n",
       "E3 *- - \"1\"E4 [[psysml:5a70b25d-3e65-48fe-9200-ece04e9de0ee ]] \r\n",
       "E3 o- - \"1\"E5 [[psysml:98aba136-2768-4c7e-bc34-95a5a6a911cd ]] \r\n",
       "E4 - -:|> E6 [[psysml:04be4dec-9fb2-423c-a400-1c82afc162c3 ]] \r\n",
       "E6 *- - \"1\"E7 [[psysml:88a05b08-39fe-46e7-8c9b-5df9e56fb426 ]] \r\n",
       "E7 - -:|> E3 [[psysml:de23f89f-df32-45d9-b344-47d8d19c4edc ]] \r\n",
       "E5 - -:|> E8 [[psysml:feaf6c57-7b20-4701-8323-0c325a1238bf ]] \r\n",
       "E8 o- - E3 [[psysml:f63e9e98-9395-484c-b7ba-710e403c3592 ]] : y\r\n",
       "E8 o- - E6 [[psysml:f63e9e98-9395-484c-b7ba-710e403c3592 ]] : y\r\n",
       "E8 o- - E3 [[psysml:f63e9e98-9395-484c-b7ba-710e403c3592 ]] : y\r\n",
       "E8 o- - E6 [[psysml:f63e9e98-9395-484c-b7ba-710e403c3592 ]] : y\r\n",
       "E9 o- - \"1\"E10 [[psysml:f7fd9ae3-3fa5-48e2-b146-bf2078e3bf75 ]] \r\n",
       "E10 - -:|> E3 [[psysml:09a722a7-3c7d-4d30-9bcf-d6d93c165304 ]] \r\n",
       "E9 o- - \"1\"E11 [[psysml:2308c13a-9c40-4baf-abe1-b4752fcfac30 ]] \r\n",
       "E11 - -:|> E3 [[psysml:713baad2-05ac-404b-8904-f9720a0da3f6 ]] \r\n",
       "@enduml\r\n",
       "\n",
       "PlantUML version 1.2020.13(Sat Jun 13 12:26:38 UTC 2020)\n",
       "(EPL source distribution)\n",
       "Java Runtime: OpenJDK Runtime Environment\n",
       "JVM: OpenJDK 64-Bit Server VM\n",
       "Default Encoding: UTF-8\n",
       "Language: en\n",
       "Country: null\n",
       "--></g></svg>"
      ]
     },
     "execution_count": 36,
     "metadata": {},
     "output_type": "execute_result"
    }
   ],
   "source": [
    "%viz --style=\"PLANTUML\" --view=\"MIXED\" \"ItemTest\""
   ]
  },
  {
   "cell_type": "code",
   "execution_count": 37,
   "id": "7892e4bb",
   "metadata": {
    "execution": {
     "iopub.execute_input": "2021-10-25T08:20:55.451851Z",
     "iopub.status.busy": "2021-10-25T08:20:55.451444Z",
     "iopub.status.idle": "2021-10-25T08:20:55.503262Z",
     "shell.execute_reply": "2021-10-25T08:20:55.501079Z"
    }
   },
   "outputs": [
    {
     "data": {
      "image/svg+xml": [
       "<?xml version=\"1.0\" encoding=\"UTF-8\" standalone=\"no\"?><svg xmlns=\"http://www.w3.org/2000/svg\" xmlns:xlink=\"http://www.w3.org/1999/xlink\" contentScriptType=\"application/ecmascript\" contentStyleType=\"text/css\" height=\"848px\" preserveAspectRatio=\"none\" style=\"width:344px;height:848px;\" version=\"1.1\" viewBox=\"0 0 344 848\" width=\"344px\" zoomAndPan=\"magnify\"><defs/><g><!--MD5=[fbc87193dbaf4d95561dea2c320d4a47]\n",
       "cluster E1--><a href=\"psysml:9c84b130-4496-45dd-acf0-f614adf4451b\" target=\"_top\" title=\"psysml:9c84b130-4496-45dd-acf0-f614adf4451b\" xlink:actuate=\"onRequest\" xlink:href=\"psysml:9c84b130-4496-45dd-acf0-f614adf4451b\" xlink:show=\"new\" xlink:title=\"psysml:9c84b130-4496-45dd-acf0-f614adf4451b\" xlink:type=\"simple\"><polygon fill=\"#FFFFFF\" points=\"16,6,83,6,90,28.2969,322,28.2969,322,836,16,836,16,6\" style=\"stroke: #000000; stroke-width: 1.5;\"/><line style=\"stroke: #000000; stroke-width: 1.5;\" x1=\"16\" x2=\"90\" y1=\"28.2969\" y2=\"28.2969\"/><text fill=\"#000000\" font-family=\"sans-serif\" font-size=\"14\" font-weight=\"bold\" lengthAdjust=\"spacingAndGlyphs\" textLength=\"61\" x=\"20\" y=\"20.9951\">ItemTest</text></a><!--MD5=[b4997ac47864f28c2f74865a473b2911]\n",
       "class E2--><a href=\"psysml:046ce2e8-70d6-418b-9e34-4058f6a1e698\" target=\"_top\" title=\"psysml:046ce2e8-70d6-418b-9e34-4058f6a1e698\" xlink:actuate=\"onRequest\" xlink:href=\"psysml:046ce2e8-70d6-418b-9e34-4058f6a1e698\" xlink:show=\"new\" xlink:title=\"psysml:046ce2e8-70d6-418b-9e34-4058f6a1e698\" xlink:type=\"simple\"><rect fill=\"#FFFFFF\" height=\"45.9375\" id=\"E2\" rx=\"10\" ry=\"10\" style=\"stroke: #383838; stroke-width: 1.5;\" width=\"43\" x=\"239.5\" y=\"148\"/><text fill=\"#000000\" font-family=\"sans-serif\" font-size=\"12\" font-style=\"italic\" lengthAdjust=\"spacingAndGlyphs\" textLength=\"41\" x=\"240.5\" y=\"164.1387\">«item»</text><text fill=\"#000000\" font-family=\"sans-serif\" font-size=\"12\" lengthAdjust=\"spacingAndGlyphs\" textLength=\"20\" x=\"249\" y=\"178.1074\">f: A</text><line style=\"stroke: #383838; stroke-width: 1.5;\" x1=\"240.5\" x2=\"281.5\" y1=\"185.9375\" y2=\"185.9375\"/></a><!--MD5=[09b614a08d8cba4a07c9adeb5e0fee81]\n",
       "class E3--><a href=\"psysml:b761bda6-ef45-4173-adbe-8f17f5dd59b9\" target=\"_top\" title=\"psysml:b761bda6-ef45-4173-adbe-8f17f5dd59b9\" xlink:actuate=\"onRequest\" xlink:href=\"psysml:b761bda6-ef45-4173-adbe-8f17f5dd59b9\" xlink:show=\"new\" xlink:title=\"psysml:b761bda6-ef45-4173-adbe-8f17f5dd59b9\" xlink:type=\"simple\"><rect fill=\"#FFFFFF\" height=\"45.9375\" id=\"E3\" style=\"stroke: #383838; stroke-width: 1.5;\" width=\"71\" x=\"147.5\" y=\"255\"/><text fill=\"#000000\" font-family=\"sans-serif\" font-size=\"12\" font-style=\"italic\" lengthAdjust=\"spacingAndGlyphs\" textLength=\"69\" x=\"148.5\" y=\"271.1387\">«item  def»</text><text fill=\"#000000\" font-family=\"sans-serif\" font-size=\"12\" lengthAdjust=\"spacingAndGlyphs\" textLength=\"8\" x=\"179\" y=\"285.1074\">A</text><line style=\"stroke: #383838; stroke-width: 1.5;\" x1=\"148.5\" x2=\"217.5\" y1=\"292.9375\" y2=\"292.9375\"/></a><!--MD5=[ebbe1d658d1005bcc118a6aa81145e00]\n",
       "class E4--><a href=\"psysml:5a9b7c1e-d921-40a5-84d4-dcafad1b8599\" target=\"_top\" title=\"psysml:5a9b7c1e-d921-40a5-84d4-dcafad1b8599\" xlink:actuate=\"onRequest\" xlink:href=\"psysml:5a9b7c1e-d921-40a5-84d4-dcafad1b8599\" xlink:show=\"new\" xlink:title=\"psysml:5a9b7c1e-d921-40a5-84d4-dcafad1b8599\" xlink:type=\"simple\"><rect fill=\"#FFFFFF\" height=\"45.9375\" id=\"E4\" rx=\"10\" ry=\"10\" style=\"stroke: #383838; stroke-width: 1.5;\" width=\"43\" x=\"255.5\" y=\"438\"/><text fill=\"#000000\" font-family=\"sans-serif\" font-size=\"12\" font-style=\"italic\" lengthAdjust=\"spacingAndGlyphs\" textLength=\"41\" x=\"256.5\" y=\"454.1387\">«item»</text><text fill=\"#000000\" font-family=\"sans-serif\" font-size=\"12\" lengthAdjust=\"spacingAndGlyphs\" textLength=\"24\" x=\"263\" y=\"468.1074\">b: B</text><line style=\"stroke: #383838; stroke-width: 1.5;\" x1=\"256.5\" x2=\"297.5\" y1=\"475.9375\" y2=\"475.9375\"/></a><!--MD5=[270fce915f116d4de14055a7c1d9a0f3]\n",
       "class E5--><a href=\"psysml:c52e7c62-32ae-43e1-a51e-2d7f86512260\" target=\"_top\" title=\"psysml:c52e7c62-32ae-43e1-a51e-2d7f86512260\" xlink:actuate=\"onRequest\" xlink:href=\"psysml:c52e7c62-32ae-43e1-a51e-2d7f86512260\" xlink:show=\"new\" xlink:title=\"psysml:c52e7c62-32ae-43e1-a51e-2d7f86512260\" xlink:type=\"simple\"><rect fill=\"#FFFFFF\" height=\"45.9375\" id=\"E5\" rx=\"10\" ry=\"10\" style=\"stroke: #383838; stroke-width: 1.5;\" width=\"42\" x=\"227\" y=\"362\"/><text fill=\"#000000\" font-family=\"sans-serif\" font-size=\"12\" font-style=\"italic\" lengthAdjust=\"spacingAndGlyphs\" textLength=\"40\" x=\"228\" y=\"378.1387\">«part»</text><text fill=\"#000000\" font-family=\"sans-serif\" font-size=\"12\" lengthAdjust=\"spacingAndGlyphs\" textLength=\"23\" x=\"234.5\" y=\"392.1074\">c: C</text><line style=\"stroke: #383838; stroke-width: 1.5;\" x1=\"228\" x2=\"268\" y1=\"399.9375\" y2=\"399.9375\"/></a><!--MD5=[60a26617385b1d2d0262a64233df1f8d]\n",
       "class E6--><a href=\"psysml:154f7142-f3c2-4f8f-a55c-1d31f59952e7\" target=\"_top\" title=\"psysml:154f7142-f3c2-4f8f-a55c-1d31f59952e7\" xlink:actuate=\"onRequest\" xlink:href=\"psysml:154f7142-f3c2-4f8f-a55c-1d31f59952e7\" xlink:show=\"new\" xlink:title=\"psysml:154f7142-f3c2-4f8f-a55c-1d31f59952e7\" xlink:type=\"simple\"><rect fill=\"#FFFFFF\" height=\"45.9375\" id=\"E6\" style=\"stroke: #383838; stroke-width: 1.5;\" width=\"71\" x=\"146.5\" y=\"667\"/><text fill=\"#000000\" font-family=\"sans-serif\" font-size=\"12\" font-style=\"italic\" lengthAdjust=\"spacingAndGlyphs\" textLength=\"69\" x=\"147.5\" y=\"683.1387\">«item  def»</text><text fill=\"#000000\" font-family=\"sans-serif\" font-size=\"12\" font-style=\"italic\" lengthAdjust=\"spacingAndGlyphs\" textLength=\"8\" x=\"178\" y=\"697.1074\">B</text><line style=\"stroke: #383838; stroke-width: 1.5;\" x1=\"147.5\" x2=\"216.5\" y1=\"704.9375\" y2=\"704.9375\"/></a><!--MD5=[2156ba9850f5573cc1fc38a6a4b2f02b]\n",
       "class E7--><a href=\"psysml:3092a58e-bc17-492e-b3ac-d9b0c5d27ee1\" target=\"_top\" title=\"psysml:3092a58e-bc17-492e-b3ac-d9b0c5d27ee1\" xlink:actuate=\"onRequest\" xlink:href=\"psysml:3092a58e-bc17-492e-b3ac-d9b0c5d27ee1\" xlink:show=\"new\" xlink:title=\"psysml:3092a58e-bc17-492e-b3ac-d9b0c5d27ee1\" xlink:type=\"simple\"><rect fill=\"#FFFFFF\" height=\"45.9375\" id=\"E7\" rx=\"10\" ry=\"10\" style=\"stroke: #383838; stroke-width: 1.5;\" width=\"42\" x=\"96\" y=\"774\"/><text fill=\"#000000\" font-family=\"sans-serif\" font-size=\"12\" font-style=\"italic\" lengthAdjust=\"spacingAndGlyphs\" textLength=\"40\" x=\"97\" y=\"790.1387\">«part»</text><text fill=\"#000000\" font-family=\"sans-serif\" font-size=\"12\" font-style=\"italic\" lengthAdjust=\"spacingAndGlyphs\" textLength=\"8\" x=\"103\" y=\"804.1074\">a</text><text fill=\"#000000\" font-family=\"sans-serif\" font-size=\"12\" lengthAdjust=\"spacingAndGlyphs\" textLength=\"16\" x=\"111\" y=\"804.1074\">: A</text><line style=\"stroke: #383838; stroke-width: 1.5;\" x1=\"97\" x2=\"137\" y1=\"811.9375\" y2=\"811.9375\"/></a><!--MD5=[b9389687b975829384b498ac4b7476b2]\n",
       "class E8--><a href=\"psysml:a977dc12-1522-4e17-86ea-88834b4a9262\" target=\"_top\" title=\"psysml:a977dc12-1522-4e17-86ea-88834b4a9262\" xlink:actuate=\"onRequest\" xlink:href=\"psysml:a977dc12-1522-4e17-86ea-88834b4a9262\" xlink:show=\"new\" xlink:title=\"psysml:a977dc12-1522-4e17-86ea-88834b4a9262\" xlink:type=\"simple\"><rect fill=\"#FFFFFF\" height=\"75.5469\" id=\"E8\" style=\"stroke: #383838; stroke-width: 1.5;\" width=\"75\" x=\"145.5\" y=\"514\"/><text fill=\"#000000\" font-family=\"sans-serif\" font-size=\"12\" font-style=\"italic\" lengthAdjust=\"spacingAndGlyphs\" textLength=\"68\" x=\"149\" y=\"530.1387\">«part  def»</text><text fill=\"#000000\" font-family=\"sans-serif\" font-size=\"12\" lengthAdjust=\"spacingAndGlyphs\" textLength=\"8\" x=\"179\" y=\"544.1074\">C</text><line style=\"stroke: #383838; stroke-width: 1.5;\" x1=\"146.5\" x2=\"219.5\" y1=\"551.9375\" y2=\"551.9375\"/><text fill=\"#000000\" font-family=\"sans-serif\" font-size=\"11\" font-weight=\"bold\" lengthAdjust=\"spacingAndGlyphs\" textLength=\"10\" x=\"151.5\" y=\"582.9526\">in</text><text fill=\"#000000\" font-family=\"sans-serif\" font-size=\"11\" lengthAdjust=\"spacingAndGlyphs\" textLength=\"37\" x=\"165.5\" y=\"582.9526\">y: A, B</text><line style=\"stroke: #383838; stroke-width: 1.0;\" x1=\"146.5\" x2=\"149.5\" y1=\"566.3398\" y2=\"566.3398\"/><text fill=\"#000000\" font-family=\"sans-serif\" font-size=\"11\" lengthAdjust=\"spacingAndGlyphs\" textLength=\"67\" x=\"149.5\" y=\"569.6479\">parameters</text><line style=\"stroke: #383838; stroke-width: 1.0;\" x1=\"216.5\" x2=\"219.5\" y1=\"566.3398\" y2=\"566.3398\"/></a><!--MD5=[fd4143e9d270a159db93a4ea2a975926]\n",
       "class E9--><a href=\"psysml:505a0904-767f-4431-bdaf-f395e9a256c5\" target=\"_top\" title=\"psysml:505a0904-767f-4431-bdaf-f395e9a256c5\" xlink:actuate=\"onRequest\" xlink:href=\"psysml:505a0904-767f-4431-bdaf-f395e9a256c5\" xlink:show=\"new\" xlink:title=\"psysml:505a0904-767f-4431-bdaf-f395e9a256c5\" xlink:type=\"simple\"><rect fill=\"#FFFFFF\" height=\"45.9375\" id=\"E9\" style=\"stroke: #383838; stroke-width: 1.5;\" width=\"70\" x=\"109\" y=\"41\"/><text fill=\"#000000\" font-family=\"sans-serif\" font-size=\"12\" font-style=\"italic\" lengthAdjust=\"spacingAndGlyphs\" textLength=\"68\" x=\"110\" y=\"57.1387\">«port  def»</text><text fill=\"#000000\" font-family=\"sans-serif\" font-size=\"12\" lengthAdjust=\"spacingAndGlyphs\" textLength=\"8\" x=\"140\" y=\"71.1074\">P</text><line style=\"stroke: #383838; stroke-width: 1.5;\" x1=\"110\" x2=\"178\" y1=\"78.9375\" y2=\"78.9375\"/></a><!--MD5=[96f4274e9e20536e775497830990834d]\n",
       "class E10--><a href=\"psysml:b48ee9ab-0a15-45ce-8465-86ae83c4be7f\" target=\"_top\" title=\"psysml:b48ee9ab-0a15-45ce-8465-86ae83c4be7f\" xlink:actuate=\"onRequest\" xlink:href=\"psysml:b48ee9ab-0a15-45ce-8465-86ae83c4be7f\" xlink:show=\"new\" xlink:title=\"psysml:b48ee9ab-0a15-45ce-8465-86ae83c4be7f\" xlink:type=\"simple\"><rect fill=\"#FFFFFF\" height=\"45.9375\" id=\"E10\" rx=\"10\" ry=\"10\" style=\"stroke: #383838; stroke-width: 1.5;\" width=\"43\" x=\"83.5\" y=\"148\"/><text fill=\"#000000\" font-family=\"sans-serif\" font-size=\"12\" font-style=\"italic\" lengthAdjust=\"spacingAndGlyphs\" textLength=\"41\" x=\"84.5\" y=\"164.1387\">«item»</text><text fill=\"#000000\" font-family=\"sans-serif\" font-size=\"12\" lengthAdjust=\"spacingAndGlyphs\" textLength=\"32\" x=\"87\" y=\"178.1074\">a1: A</text><line style=\"stroke: #383838; stroke-width: 1.5;\" x1=\"84.5\" x2=\"125.5\" y1=\"185.9375\" y2=\"185.9375\"/></a><!--MD5=[1dd1bfd58a279cf63c5f349dbc8fc6a1]\n",
       "class E11--><a href=\"psysml:7b14a527-4e8d-41df-a91b-3ca9db44b1d9\" target=\"_top\" title=\"psysml:7b14a527-4e8d-41df-a91b-3ca9db44b1d9\" xlink:actuate=\"onRequest\" xlink:href=\"psysml:7b14a527-4e8d-41df-a91b-3ca9db44b1d9\" xlink:show=\"new\" xlink:title=\"psysml:7b14a527-4e8d-41df-a91b-3ca9db44b1d9\" xlink:type=\"simple\"><rect fill=\"#FFFFFF\" height=\"45.9375\" id=\"E11\" rx=\"10\" ry=\"10\" style=\"stroke: #383838; stroke-width: 1.5;\" width=\"43\" x=\"161.5\" y=\"148\"/><text fill=\"#000000\" font-family=\"sans-serif\" font-size=\"12\" font-style=\"italic\" lengthAdjust=\"spacingAndGlyphs\" textLength=\"41\" x=\"162.5\" y=\"164.1387\">«item»</text><text fill=\"#000000\" font-family=\"sans-serif\" font-size=\"12\" lengthAdjust=\"spacingAndGlyphs\" textLength=\"32\" x=\"165\" y=\"178.1074\">a2: A</text><line style=\"stroke: #383838; stroke-width: 1.5;\" x1=\"162.5\" x2=\"203.5\" y1=\"185.9375\" y2=\"185.9375\"/></a><!--MD5=[2720a5a1f2c3fca2055b230370638851]\n",
       "link E2 to E3--><a href=\"psysml:2913aa14-34e4-4ebc-b3c0-73cbbe37a712\" target=\"_top\" title=\"psysml:2913aa14-34e4-4ebc-b3c0-73cbbe37a712\" xlink:actuate=\"onRequest\" xlink:href=\"psysml:2913aa14-34e4-4ebc-b3c0-73cbbe37a712\" xlink:show=\"new\" xlink:title=\"psysml:2913aa14-34e4-4ebc-b3c0-73cbbe37a712\" xlink:type=\"simple\"><path d=\"M244.65,194.01 C235.14,206.81 222.89,223.3 211.82,238.2 \" fill=\"none\" id=\"E2-&gt;E3\" style=\"stroke: #383838; stroke-width: 1.0;\"/><polygon fill=\"#FFFFFF\" points=\"199.6,254.66,205.3195,235.2361,216.5543,243.5896,199.6,254.66\" style=\"stroke: #383838; stroke-width: 1.0;\"/><ellipse cx=\"210.3256\" cy=\"231.8554\" fill=\"#383838\" rx=\"2\" ry=\"2\" style=\"stroke: #383838; stroke-width: 1.0;\"/><ellipse cx=\"218.3504\" cy=\"237.8221\" fill=\"#383838\" rx=\"2\" ry=\"2\" style=\"stroke: #383838; stroke-width: 1.0;\"/></a><!--MD5=[4672eba38e49728da53d11aeb285b987]\n",
       "reverse link E3 to E4--><a href=\"psysml:5a70b25d-3e65-48fe-9200-ece04e9de0ee\" target=\"_top\" title=\"psysml:5a70b25d-3e65-48fe-9200-ece04e9de0ee\" xlink:actuate=\"onRequest\" xlink:href=\"psysml:5a70b25d-3e65-48fe-9200-ece04e9de0ee\" xlink:show=\"new\" xlink:title=\"psysml:5a70b25d-3e65-48fe-9200-ece04e9de0ee\" xlink:type=\"simple\"><path d=\"M229.65,303.21 C251.35,317.2 274.97,337.01 287,362 C298.57,386.04 292.33,417.17 285.68,437.83 \" fill=\"none\" id=\"E3&lt;-E4\" style=\"stroke: #383838; stroke-width: 1.0;\"/><polygon fill=\"#383838\" points=\"218.55,296.43,221.5791,302.974,228.7848,302.6949,225.7557,296.1508,218.55,296.43\" style=\"stroke: #383838; stroke-width: 1.0;\"/><text fill=\"#000000\" font-family=\"sans-serif\" font-size=\"13\" lengthAdjust=\"spacingAndGlyphs\" textLength=\"8\" x=\"278.8793\" y=\"427.0627\">1</text></a><!--MD5=[191cde3d490a3f6d7bb551fe3ddca469]\n",
       "reverse link E3 to E5--><a href=\"psysml:98aba136-2768-4c7e-bc34-95a5a6a911cd\" target=\"_top\" title=\"psysml:98aba136-2768-4c7e-bc34-95a5a6a911cd\" xlink:actuate=\"onRequest\" xlink:href=\"psysml:98aba136-2768-4c7e-bc34-95a5a6a911cd\" xlink:show=\"new\" xlink:title=\"psysml:98aba136-2768-4c7e-bc34-95a5a6a911cd\" xlink:type=\"simple\"><path d=\"M203.52,312.15 C213.51,328.29 225.26,347.26 234.17,361.66 \" fill=\"none\" id=\"E3&lt;-E5\" style=\"stroke: #383838; stroke-width: 1.0;\"/><polygon fill=\"#FFFFFF\" points=\"196.63,301.01,196.3861,308.217,202.9449,311.214,203.1888,304.007,196.63,301.01\" style=\"stroke: #383838; stroke-width: 1.0;\"/><text fill=\"#000000\" font-family=\"sans-serif\" font-size=\"13\" lengthAdjust=\"spacingAndGlyphs\" textLength=\"8\" x=\"221.6011\" y=\"350.8492\">1</text></a><!--MD5=[79568f1e445c3877b6a54524624ccc7d]\n",
       "link E4 to E6--><a href=\"psysml:04be4dec-9fb2-423c-a400-1c82afc162c3\" target=\"_top\" title=\"psysml:04be4dec-9fb2-423c-a400-1c82afc162c3\" xlink:actuate=\"onRequest\" xlink:href=\"psysml:04be4dec-9fb2-423c-a400-1c82afc162c3\" xlink:show=\"new\" xlink:title=\"psysml:04be4dec-9fb2-423c-a400-1c82afc162c3\" xlink:type=\"simple\"><path d=\"M271.8,484.26 C265.37,510.22 253.39,554.13 238,590 C229.26,610.36 217.43,631.9 206.88,649.66 \" fill=\"none\" id=\"E4-&gt;E6\" style=\"stroke: #383838; stroke-width: 1.0;\"/><polygon fill=\"#FFFFFF\" points=\"196.36,666.92,200.2791,647.0544,212.2307,654.3454,196.36,666.92\" style=\"stroke: #383838; stroke-width: 1.0;\"/><ellipse cx=\"204.955\" cy=\"643.23\" fill=\"#383838\" rx=\"2\" ry=\"2\" style=\"stroke: #383838; stroke-width: 1.0;\"/><ellipse cx=\"213.4918\" cy=\"648.4378\" fill=\"#383838\" rx=\"2\" ry=\"2\" style=\"stroke: #383838; stroke-width: 1.0;\"/></a><!--MD5=[3f50a3473f1dfb74d3f76443e03635af]\n",
       "reverse link E6 to E7--><a href=\"psysml:88a05b08-39fe-46e7-8c9b-5df9e56fb426\" target=\"_top\" title=\"psysml:88a05b08-39fe-46e7-8c9b-5df9e56fb426\" xlink:actuate=\"onRequest\" xlink:href=\"psysml:88a05b08-39fe-46e7-8c9b-5df9e56fb426\" xlink:show=\"new\" xlink:title=\"psysml:88a05b08-39fe-46e7-8c9b-5df9e56fb426\" xlink:type=\"simple\"><path d=\"M161.48,724.15 C151.49,740.29 139.74,759.26 130.83,773.66 \" fill=\"none\" id=\"E6&lt;-E7\" style=\"stroke: #383838; stroke-width: 1.0;\"/><polygon fill=\"#383838\" points=\"168.37,713.01,161.8112,716.007,162.0551,723.214,168.6139,720.217,168.37,713.01\" style=\"stroke: #383838; stroke-width: 1.0;\"/><text fill=\"#000000\" font-family=\"sans-serif\" font-size=\"13\" lengthAdjust=\"spacingAndGlyphs\" textLength=\"8\" x=\"125.3489\" y=\"762.8492\">1</text></a><!--MD5=[14ccda38c055a5c0da953d572bc50960]\n",
       "link E7 to E3--><a href=\"psysml:de23f89f-df32-45d9-b344-47d8d19c4edc\" target=\"_top\" title=\"psysml:de23f89f-df32-45d9-b344-47d8d19c4edc\" xlink:actuate=\"onRequest\" xlink:href=\"psysml:de23f89f-df32-45d9-b344-47d8d19c4edc\" xlink:show=\"new\" xlink:title=\"psysml:de23f89f-df32-45d9-b344-47d8d19c4edc\" xlink:type=\"simple\"><path d=\"M95.8,782.47 C70.92,764.75 33,731.15 33,691 C33,384 33,384 33,384 C33,335.87 85.48,307.94 128.35,293.16 \" fill=\"none\" id=\"E7-&gt;E3\" style=\"stroke: #383838; stroke-width: 1.0;\"/><polygon fill=\"#FFFFFF\" points=\"147.45,287.18,131.4154,299.545,127.2259,286.1865,147.45,287.18\" style=\"stroke: #383838; stroke-width: 1.0;\"/><ellipse cx=\"125.3781\" cy=\"299.3424\" fill=\"#383838\" rx=\"2\" ry=\"2\" style=\"stroke: #383838; stroke-width: 1.0;\"/><ellipse cx=\"122.3856\" cy=\"289.8006\" fill=\"#383838\" rx=\"2\" ry=\"2\" style=\"stroke: #383838; stroke-width: 1.0;\"/></a><!--MD5=[dfaffb906826c3e5aca635516100ff21]\n",
       "link E5 to E8--><a href=\"psysml:feaf6c57-7b20-4701-8323-0c325a1238bf\" target=\"_top\" title=\"psysml:feaf6c57-7b20-4701-8323-0c325a1238bf\" xlink:actuate=\"onRequest\" xlink:href=\"psysml:feaf6c57-7b20-4701-8323-0c325a1238bf\" xlink:show=\"new\" xlink:title=\"psysml:feaf6c57-7b20-4701-8323-0c325a1238bf\" xlink:type=\"simple\"><path d=\"M239.23,408.25 C230.48,430.48 216.67,465.53 204.93,495.33 \" fill=\"none\" id=\"E5-&gt;E8\" style=\"stroke: #383838; stroke-width: 1.0;\"/><polygon fill=\"#FFFFFF\" points=\"197.58,513.98,198.027,493.7365,211.0538,498.8652,197.58,513.98\" style=\"stroke: #383838; stroke-width: 1.0;\"/><ellipse cx=\"201.9761\" cy=\"489.1654\" fill=\"#383838\" rx=\"2\" ry=\"2\" style=\"stroke: #383838; stroke-width: 1.0;\"/><ellipse cx=\"211.2809\" cy=\"492.8288\" fill=\"#383838\" rx=\"2\" ry=\"2\" style=\"stroke: #383838; stroke-width: 1.0;\"/></a><!--MD5=[03c8294790d3c57651a1993cecff665f]\n",
       "reverse link E8 to E3--><a href=\"psysml:f63e9e98-9395-484c-b7ba-710e403c3592\" target=\"_top\" title=\"psysml:f63e9e98-9395-484c-b7ba-710e403c3592\" xlink:actuate=\"onRequest\" xlink:href=\"psysml:f63e9e98-9395-484c-b7ba-710e403c3592\" xlink:show=\"new\" xlink:title=\"psysml:f63e9e98-9395-484c-b7ba-710e403c3592\" xlink:type=\"simple\"><path d=\"M154.57,502.18 C135.93,463.97 117.34,409.52 131,362 C137.48,339.45 152.09,317.09 164.17,301.27 \" fill=\"none\" id=\"E8&lt;-E3\" style=\"stroke: #383838; stroke-width: 1.0;\"/><polygon fill=\"#FFFFFF\" points=\"160.58,513.99,161.4217,506.8282,155.1345,503.2967,154.2928,510.4585,160.58,513.99\" style=\"stroke: #383838; stroke-width: 1.0;\"/><text fill=\"#000000\" font-family=\"sans-serif\" font-size=\"13\" lengthAdjust=\"spacingAndGlyphs\" textLength=\"7\" x=\"132\" y=\"389.5669\">y</text></a><!--MD5=[03c8294790d3c57651a1993cecff665f]\n",
       "reverse link E8 to E3--><a href=\"psysml:f63e9e98-9395-484c-b7ba-710e403c3592\" target=\"_top\" title=\"psysml:f63e9e98-9395-484c-b7ba-710e403c3592\" xlink:actuate=\"onRequest\" xlink:href=\"psysml:f63e9e98-9395-484c-b7ba-710e403c3592\" xlink:show=\"new\" xlink:title=\"psysml:f63e9e98-9395-484c-b7ba-710e403c3592\" xlink:type=\"simple\"><path d=\"M183,500.73 C183,441.17 183,344.58 183,301.26 \" fill=\"none\" id=\"E8&lt;-E3-1\" style=\"stroke: #383838; stroke-width: 1.0;\"/><polygon fill=\"#FFFFFF\" points=\"183,513.93,187,507.93,183,501.93,179,507.93,183,513.93\" style=\"stroke: #383838; stroke-width: 1.0;\"/><text fill=\"#000000\" font-family=\"sans-serif\" font-size=\"13\" lengthAdjust=\"spacingAndGlyphs\" textLength=\"7\" x=\"184\" y=\"389.5669\">y</text></a><!--MD5=[0d75d2178373a6a4568e5dc728f58aef]\n",
       "reverse link E8 to E6--><a href=\"psysml:f63e9e98-9395-484c-b7ba-710e403c3592\" target=\"_top\" title=\"psysml:f63e9e98-9395-484c-b7ba-710e403c3592\" xlink:actuate=\"onRequest\" xlink:href=\"psysml:f63e9e98-9395-484c-b7ba-710e403c3592\" xlink:show=\"new\" xlink:title=\"psysml:f63e9e98-9395-484c-b7ba-710e403c3592\" xlink:type=\"simple\"><path d=\"M160.42,603.02 C157.73,614.13 156.66,625.91 159,637 C161.16,647.24 165.48,657.91 169.79,666.91 \" fill=\"none\" id=\"E8&lt;-E6\" style=\"stroke: #383838; stroke-width: 1.0;\"/><polygon fill=\"#FFFFFF\" points=\"164.22,590.35,158.6675,594.9511,160.7791,601.8461,166.3316,597.245,164.22,590.35\" style=\"stroke: #383838; stroke-width: 1.0;\"/><text fill=\"#000000\" font-family=\"sans-serif\" font-size=\"13\" lengthAdjust=\"spacingAndGlyphs\" textLength=\"7\" x=\"160\" y=\"633.0669\">y</text></a><!--MD5=[0d75d2178373a6a4568e5dc728f58aef]\n",
       "reverse link E8 to E6--><a href=\"psysml:f63e9e98-9395-484c-b7ba-710e403c3592\" target=\"_top\" title=\"psysml:f63e9e98-9395-484c-b7ba-710e403c3592\" xlink:actuate=\"onRequest\" xlink:href=\"psysml:f63e9e98-9395-484c-b7ba-710e403c3592\" xlink:show=\"new\" xlink:title=\"psysml:f63e9e98-9395-484c-b7ba-710e403c3592\" xlink:type=\"simple\"><path d=\"M182.63,603.33 C182.47,625.16 182.29,649.6 182.16,666.77 \" fill=\"none\" id=\"E8&lt;-E6-1\" style=\"stroke: #383838; stroke-width: 1.0;\"/><polygon fill=\"#FFFFFF\" points=\"182.73,590.16,178.684,596.1291,182.6377,602.1596,186.6837,596.1906,182.73,590.16\" style=\"stroke: #383838; stroke-width: 1.0;\"/><text fill=\"#000000\" font-family=\"sans-serif\" font-size=\"13\" lengthAdjust=\"spacingAndGlyphs\" textLength=\"7\" x=\"183\" y=\"633.0669\">y</text></a><!--MD5=[23ac544a70576c3e717098101004234c]\n",
       "reverse link E9 to E10--><a href=\"psysml:f7fd9ae3-3fa5-48e2-b146-bf2078e3bf75\" target=\"_top\" title=\"psysml:f7fd9ae3-3fa5-48e2-b146-bf2078e3bf75\" xlink:actuate=\"onRequest\" xlink:href=\"psysml:f7fd9ae3-3fa5-48e2-b146-bf2078e3bf75\" xlink:show=\"new\" xlink:title=\"psysml:f7fd9ae3-3fa5-48e2-b146-bf2078e3bf75\" xlink:type=\"simple\"><path d=\"M131.16,99.57 C125.28,115.39 118.49,133.68 113.3,147.66 \" fill=\"none\" id=\"E9&lt;-E10\" style=\"stroke: #383838; stroke-width: 1.0;\"/><polygon fill=\"#FFFFFF\" points=\"135.82,87.01,129.9804,91.2408,131.6398,98.2584,137.4793,94.0276,135.82,87.01\" style=\"stroke: #383838; stroke-width: 1.0;\"/><text fill=\"#000000\" font-family=\"sans-serif\" font-size=\"13\" lengthAdjust=\"spacingAndGlyphs\" textLength=\"8\" x=\"106.4019\" y=\"136.8492\">1</text></a><!--MD5=[feeac5eb423634930294aa81f2d25a4c]\n",
       "link E10 to E3--><a href=\"psysml:09a722a7-3c7d-4d30-9bcf-d6d93c165304\" target=\"_top\" title=\"psysml:09a722a7-3c7d-4d30-9bcf-d6d93c165304\" xlink:actuate=\"onRequest\" xlink:href=\"psysml:09a722a7-3c7d-4d30-9bcf-d6d93c165304\" xlink:show=\"new\" xlink:title=\"psysml:09a722a7-3c7d-4d30-9bcf-d6d93c165304\" xlink:type=\"simple\"><path d=\"M121.35,194.01 C130.86,206.81 143.11,223.3 154.18,238.2 \" fill=\"none\" id=\"E10-&gt;E3\" style=\"stroke: #383838; stroke-width: 1.0;\"/><polygon fill=\"#FFFFFF\" points=\"166.4,254.66,149.4457,243.5896,160.6805,235.2361,166.4,254.66\" style=\"stroke: #383838; stroke-width: 1.0;\"/><ellipse cx=\"147.6496\" cy=\"237.8221\" fill=\"#383838\" rx=\"2\" ry=\"2\" style=\"stroke: #383838; stroke-width: 1.0;\"/><ellipse cx=\"155.6744\" cy=\"231.8554\" fill=\"#383838\" rx=\"2\" ry=\"2\" style=\"stroke: #383838; stroke-width: 1.0;\"/></a><!--MD5=[1fc04a95fd77ad5ce46c1a3027516051]\n",
       "reverse link E9 to E11--><a href=\"psysml:2308c13a-9c40-4baf-abe1-b4752fcfac30\" target=\"_top\" title=\"psysml:2308c13a-9c40-4baf-abe1-b4752fcfac30\" xlink:actuate=\"onRequest\" xlink:href=\"psysml:2308c13a-9c40-4baf-abe1-b4752fcfac30\" xlink:show=\"new\" xlink:title=\"psysml:2308c13a-9c40-4baf-abe1-b4752fcfac30\" xlink:type=\"simple\"><path d=\"M156.84,99.57 C162.72,115.39 169.51,133.68 174.7,147.66 \" fill=\"none\" id=\"E9&lt;-E11\" style=\"stroke: #383838; stroke-width: 1.0;\"/><polygon fill=\"#FFFFFF\" points=\"152.18,87.01,150.5207,94.0276,156.3602,98.2584,158.0196,91.2408,152.18,87.01\" style=\"stroke: #383838; stroke-width: 1.0;\"/><text fill=\"#000000\" font-family=\"sans-serif\" font-size=\"13\" lengthAdjust=\"spacingAndGlyphs\" textLength=\"8\" x=\"163.5481\" y=\"136.8492\">1</text></a><!--MD5=[0517f1ce58c4d5483948f93845c45e26]\n",
       "link E11 to E3--><a href=\"psysml:713baad2-05ac-404b-8904-f9720a0da3f6\" target=\"_top\" title=\"psysml:713baad2-05ac-404b-8904-f9720a0da3f6\" xlink:actuate=\"onRequest\" xlink:href=\"psysml:713baad2-05ac-404b-8904-f9720a0da3f6\" xlink:show=\"new\" xlink:title=\"psysml:713baad2-05ac-404b-8904-f9720a0da3f6\" xlink:type=\"simple\"><path d=\"M183,194.01 C183,205.69 183,220.46 183,234.28 \" fill=\"none\" id=\"E11-&gt;E3\" style=\"stroke: #383838; stroke-width: 1.0;\"/><polygon fill=\"#FFFFFF\" points=\"183,254.66,176,235.66,190,235.66,183,254.66\" style=\"stroke: #383838; stroke-width: 1.0;\"/><ellipse cx=\"178\" cy=\"229.96\" fill=\"#383838\" rx=\"2\" ry=\"2\" style=\"stroke: #383838; stroke-width: 1.0;\"/><ellipse cx=\"188\" cy=\"229.96\" fill=\"#383838\" rx=\"2\" ry=\"2\" style=\"stroke: #383838; stroke-width: 1.0;\"/></a><!--MD5=[48c8bf279200a6aadb67c2f9660bcaad]\n",
       "@startuml\r\n",
       "skinparam monochrome true\r\n",
       "skinparam classbackgroundcolor white\r\n",
       "skinparam shadowing false\r\n",
       "skinparam wrapWidth 300\r\n",
       "hide circle\r\n",
       "\r\n",
       "package \"ItemTest\" as E1  [[psysml:9c84b130-4496-45dd-acf0-f614adf4451b ]]  {\r\n",
       "comp usage \"f: A \" as E2  <<(T,blue) item>> [[psysml:046ce2e8-70d6-418b-9e34-4058f6a1e698 ]] {\r\n",
       "}\r\n",
       "comp def \"A\" as E3  <<(T,blue) item  def>> [[psysml:b761bda6-ef45-4173-adbe-8f17f5dd59b9 ]] {\r\n",
       "}\r\n",
       "comp usage \"b: B \" as E4  <<(T,blue) item>> [[psysml:5a9b7c1e-d921-40a5-84d4-dcafad1b8599 ]] {\r\n",
       "}\r\n",
       "comp usage \"c: C \" as E5  <<(T,blue) part>> [[psysml:c52e7c62-32ae-43e1-a51e-2d7f86512260 ]] {\r\n",
       "}\r\n",
       "comp def \"<i>B</i>\" as E6  <<(T,blue) item  def>> [[psysml:154f7142-f3c2-4f8f-a55c-1d31f59952e7 ]] {\r\n",
       "}\r\n",
       "comp usage \"<i>a</i>: A \" as E7  <<(T,blue) part>> [[psysml:3092a58e-bc17-492e-b3ac-d9b0c5d27ee1 ]] {\r\n",
       "}\r\n",
       "comp def \"C\" as E8  <<(T,blue) part  def>> [[psysml:a977dc12-1522-4e17-86ea-88834b4a9262 ]] {\r\n",
       "- - parameters - -\r\n",
       "<b>in</b> y: A, B\r\n",
       "}\r\n",
       "comp def \"P\" as E9  <<(T,blue) port  def>> [[psysml:505a0904-767f-4431-bdaf-f395e9a256c5 ]] {\r\n",
       "}\r\n",
       "comp usage \"a1: A \" as E10  <<(T,blue) item>> [[psysml:b48ee9ab-0a15-45ce-8465-86ae83c4be7f ]] {\r\n",
       "}\r\n",
       "comp usage \"a2: A \" as E11  <<(T,blue) item>> [[psysml:7b14a527-4e8d-41df-a91b-3ca9db44b1d9 ]] {\r\n",
       "}\r\n",
       "}\r\n",
       "E2 - -:|> E3 [[psysml:2913aa14-34e4-4ebc-b3c0-73cbbe37a712 ]] \r\n",
       "E3 *- - \"1\"E4 [[psysml:5a70b25d-3e65-48fe-9200-ece04e9de0ee ]] \r\n",
       "E3 o- - \"1\"E5 [[psysml:98aba136-2768-4c7e-bc34-95a5a6a911cd ]] \r\n",
       "E4 - -:|> E6 [[psysml:04be4dec-9fb2-423c-a400-1c82afc162c3 ]] \r\n",
       "E6 *- - \"1\"E7 [[psysml:88a05b08-39fe-46e7-8c9b-5df9e56fb426 ]] \r\n",
       "E7 - -:|> E3 [[psysml:de23f89f-df32-45d9-b344-47d8d19c4edc ]] \r\n",
       "E5 - -:|> E8 [[psysml:feaf6c57-7b20-4701-8323-0c325a1238bf ]] \r\n",
       "E8 o- - E3 [[psysml:f63e9e98-9395-484c-b7ba-710e403c3592 ]] : y\r\n",
       "E8 o- - E6 [[psysml:f63e9e98-9395-484c-b7ba-710e403c3592 ]] : y\r\n",
       "E8 o- - E3 [[psysml:f63e9e98-9395-484c-b7ba-710e403c3592 ]] : y\r\n",
       "E8 o- - E6 [[psysml:f63e9e98-9395-484c-b7ba-710e403c3592 ]] : y\r\n",
       "E9 o- - \"1\"E10 [[psysml:f7fd9ae3-3fa5-48e2-b146-bf2078e3bf75 ]] \r\n",
       "E10 - -:|> E3 [[psysml:09a722a7-3c7d-4d30-9bcf-d6d93c165304 ]] \r\n",
       "E9 o- - \"1\"E11 [[psysml:2308c13a-9c40-4baf-abe1-b4752fcfac30 ]] \r\n",
       "E11 - -:|> E3 [[psysml:713baad2-05ac-404b-8904-f9720a0da3f6 ]] \r\n",
       "@enduml\r\n",
       "\n",
       "PlantUML version 1.2020.13(Sat Jun 13 12:26:38 UTC 2020)\n",
       "(EPL source distribution)\n",
       "Java Runtime: OpenJDK Runtime Environment\n",
       "JVM: OpenJDK 64-Bit Server VM\n",
       "Default Encoding: UTF-8\n",
       "Language: en\n",
       "Country: null\n",
       "--></g></svg>"
      ]
     },
     "execution_count": 37,
     "metadata": {},
     "output_type": "execute_result"
    }
   ],
   "source": [
    "%viz --style=\"DEFAULT\" --view=\"Default\" \"ItemTest\""
   ]
  },
  {
   "cell_type": "code",
   "execution_count": 38,
   "id": "467e1cf8",
   "metadata": {
    "execution": {
     "iopub.execute_input": "2021-10-25T08:20:55.552001Z",
     "iopub.status.busy": "2021-10-25T08:20:55.551682Z",
     "iopub.status.idle": "2021-10-25T08:20:55.609044Z",
     "shell.execute_reply": "2021-10-25T08:20:55.608844Z"
    }
   },
   "outputs": [
    {
     "data": {
      "image/svg+xml": [
       "<?xml version=\"1.0\" encoding=\"UTF-8\" standalone=\"no\"?><svg xmlns=\"http://www.w3.org/2000/svg\" xmlns:xlink=\"http://www.w3.org/1999/xlink\" contentScriptType=\"application/ecmascript\" contentStyleType=\"text/css\" height=\"848px\" preserveAspectRatio=\"none\" style=\"width:344px;height:848px;\" version=\"1.1\" viewBox=\"0 0 344 848\" width=\"344px\" zoomAndPan=\"magnify\"><defs/><g><!--MD5=[fbc87193dbaf4d95561dea2c320d4a47]\n",
       "cluster E1--><a href=\"psysml:9c84b130-4496-45dd-acf0-f614adf4451b\" target=\"_top\" title=\"psysml:9c84b130-4496-45dd-acf0-f614adf4451b\" xlink:actuate=\"onRequest\" xlink:href=\"psysml:9c84b130-4496-45dd-acf0-f614adf4451b\" xlink:show=\"new\" xlink:title=\"psysml:9c84b130-4496-45dd-acf0-f614adf4451b\" xlink:type=\"simple\"><polygon fill=\"#FFFFFF\" points=\"16,6,83,6,90,28.2969,322,28.2969,322,836,16,836,16,6\" style=\"stroke: #000000; stroke-width: 1.5;\"/><line style=\"stroke: #000000; stroke-width: 1.5;\" x1=\"16\" x2=\"90\" y1=\"28.2969\" y2=\"28.2969\"/><text fill=\"#000000\" font-family=\"sans-serif\" font-size=\"14\" font-weight=\"bold\" lengthAdjust=\"spacingAndGlyphs\" textLength=\"61\" x=\"20\" y=\"20.9951\">ItemTest</text></a><!--MD5=[b4997ac47864f28c2f74865a473b2911]\n",
       "class E2--><a href=\"psysml:046ce2e8-70d6-418b-9e34-4058f6a1e698\" target=\"_top\" title=\"psysml:046ce2e8-70d6-418b-9e34-4058f6a1e698\" xlink:actuate=\"onRequest\" xlink:href=\"psysml:046ce2e8-70d6-418b-9e34-4058f6a1e698\" xlink:show=\"new\" xlink:title=\"psysml:046ce2e8-70d6-418b-9e34-4058f6a1e698\" xlink:type=\"simple\"><rect fill=\"#FFFFFF\" height=\"45.9375\" id=\"E2\" rx=\"10\" ry=\"10\" style=\"stroke: #383838; stroke-width: 1.5;\" width=\"43\" x=\"239.5\" y=\"148\"/><text fill=\"#000000\" font-family=\"sans-serif\" font-size=\"12\" font-style=\"italic\" lengthAdjust=\"spacingAndGlyphs\" textLength=\"41\" x=\"240.5\" y=\"164.1387\">«item»</text><text fill=\"#000000\" font-family=\"sans-serif\" font-size=\"12\" lengthAdjust=\"spacingAndGlyphs\" textLength=\"20\" x=\"249\" y=\"178.1074\">f: A</text><line style=\"stroke: #383838; stroke-width: 1.5;\" x1=\"240.5\" x2=\"281.5\" y1=\"185.9375\" y2=\"185.9375\"/></a><!--MD5=[09b614a08d8cba4a07c9adeb5e0fee81]\n",
       "class E3--><a href=\"psysml:b761bda6-ef45-4173-adbe-8f17f5dd59b9\" target=\"_top\" title=\"psysml:b761bda6-ef45-4173-adbe-8f17f5dd59b9\" xlink:actuate=\"onRequest\" xlink:href=\"psysml:b761bda6-ef45-4173-adbe-8f17f5dd59b9\" xlink:show=\"new\" xlink:title=\"psysml:b761bda6-ef45-4173-adbe-8f17f5dd59b9\" xlink:type=\"simple\"><rect fill=\"#FFFFFF\" height=\"45.9375\" id=\"E3\" style=\"stroke: #383838; stroke-width: 1.5;\" width=\"71\" x=\"147.5\" y=\"255\"/><text fill=\"#000000\" font-family=\"sans-serif\" font-size=\"12\" font-style=\"italic\" lengthAdjust=\"spacingAndGlyphs\" textLength=\"69\" x=\"148.5\" y=\"271.1387\">«item  def»</text><text fill=\"#000000\" font-family=\"sans-serif\" font-size=\"12\" lengthAdjust=\"spacingAndGlyphs\" textLength=\"8\" x=\"179\" y=\"285.1074\">A</text><line style=\"stroke: #383838; stroke-width: 1.5;\" x1=\"148.5\" x2=\"217.5\" y1=\"292.9375\" y2=\"292.9375\"/></a><!--MD5=[ebbe1d658d1005bcc118a6aa81145e00]\n",
       "class E4--><a href=\"psysml:5a9b7c1e-d921-40a5-84d4-dcafad1b8599\" target=\"_top\" title=\"psysml:5a9b7c1e-d921-40a5-84d4-dcafad1b8599\" xlink:actuate=\"onRequest\" xlink:href=\"psysml:5a9b7c1e-d921-40a5-84d4-dcafad1b8599\" xlink:show=\"new\" xlink:title=\"psysml:5a9b7c1e-d921-40a5-84d4-dcafad1b8599\" xlink:type=\"simple\"><rect fill=\"#FFFFFF\" height=\"45.9375\" id=\"E4\" rx=\"10\" ry=\"10\" style=\"stroke: #383838; stroke-width: 1.5;\" width=\"43\" x=\"255.5\" y=\"438\"/><text fill=\"#000000\" font-family=\"sans-serif\" font-size=\"12\" font-style=\"italic\" lengthAdjust=\"spacingAndGlyphs\" textLength=\"41\" x=\"256.5\" y=\"454.1387\">«item»</text><text fill=\"#000000\" font-family=\"sans-serif\" font-size=\"12\" lengthAdjust=\"spacingAndGlyphs\" textLength=\"24\" x=\"263\" y=\"468.1074\">b: B</text><line style=\"stroke: #383838; stroke-width: 1.5;\" x1=\"256.5\" x2=\"297.5\" y1=\"475.9375\" y2=\"475.9375\"/></a><!--MD5=[270fce915f116d4de14055a7c1d9a0f3]\n",
       "class E5--><a href=\"psysml:c52e7c62-32ae-43e1-a51e-2d7f86512260\" target=\"_top\" title=\"psysml:c52e7c62-32ae-43e1-a51e-2d7f86512260\" xlink:actuate=\"onRequest\" xlink:href=\"psysml:c52e7c62-32ae-43e1-a51e-2d7f86512260\" xlink:show=\"new\" xlink:title=\"psysml:c52e7c62-32ae-43e1-a51e-2d7f86512260\" xlink:type=\"simple\"><rect fill=\"#FFFFFF\" height=\"45.9375\" id=\"E5\" rx=\"10\" ry=\"10\" style=\"stroke: #383838; stroke-width: 1.5;\" width=\"42\" x=\"227\" y=\"362\"/><text fill=\"#000000\" font-family=\"sans-serif\" font-size=\"12\" font-style=\"italic\" lengthAdjust=\"spacingAndGlyphs\" textLength=\"40\" x=\"228\" y=\"378.1387\">«part»</text><text fill=\"#000000\" font-family=\"sans-serif\" font-size=\"12\" lengthAdjust=\"spacingAndGlyphs\" textLength=\"23\" x=\"234.5\" y=\"392.1074\">c: C</text><line style=\"stroke: #383838; stroke-width: 1.5;\" x1=\"228\" x2=\"268\" y1=\"399.9375\" y2=\"399.9375\"/></a><!--MD5=[60a26617385b1d2d0262a64233df1f8d]\n",
       "class E6--><a href=\"psysml:154f7142-f3c2-4f8f-a55c-1d31f59952e7\" target=\"_top\" title=\"psysml:154f7142-f3c2-4f8f-a55c-1d31f59952e7\" xlink:actuate=\"onRequest\" xlink:href=\"psysml:154f7142-f3c2-4f8f-a55c-1d31f59952e7\" xlink:show=\"new\" xlink:title=\"psysml:154f7142-f3c2-4f8f-a55c-1d31f59952e7\" xlink:type=\"simple\"><rect fill=\"#FFFFFF\" height=\"45.9375\" id=\"E6\" style=\"stroke: #383838; stroke-width: 1.5;\" width=\"71\" x=\"146.5\" y=\"667\"/><text fill=\"#000000\" font-family=\"sans-serif\" font-size=\"12\" font-style=\"italic\" lengthAdjust=\"spacingAndGlyphs\" textLength=\"69\" x=\"147.5\" y=\"683.1387\">«item  def»</text><text fill=\"#000000\" font-family=\"sans-serif\" font-size=\"12\" font-style=\"italic\" lengthAdjust=\"spacingAndGlyphs\" textLength=\"8\" x=\"178\" y=\"697.1074\">B</text><line style=\"stroke: #383838; stroke-width: 1.5;\" x1=\"147.5\" x2=\"216.5\" y1=\"704.9375\" y2=\"704.9375\"/></a><!--MD5=[2156ba9850f5573cc1fc38a6a4b2f02b]\n",
       "class E7--><a href=\"psysml:3092a58e-bc17-492e-b3ac-d9b0c5d27ee1\" target=\"_top\" title=\"psysml:3092a58e-bc17-492e-b3ac-d9b0c5d27ee1\" xlink:actuate=\"onRequest\" xlink:href=\"psysml:3092a58e-bc17-492e-b3ac-d9b0c5d27ee1\" xlink:show=\"new\" xlink:title=\"psysml:3092a58e-bc17-492e-b3ac-d9b0c5d27ee1\" xlink:type=\"simple\"><rect fill=\"#FFFFFF\" height=\"45.9375\" id=\"E7\" rx=\"10\" ry=\"10\" style=\"stroke: #383838; stroke-width: 1.5;\" width=\"42\" x=\"96\" y=\"774\"/><text fill=\"#000000\" font-family=\"sans-serif\" font-size=\"12\" font-style=\"italic\" lengthAdjust=\"spacingAndGlyphs\" textLength=\"40\" x=\"97\" y=\"790.1387\">«part»</text><text fill=\"#000000\" font-family=\"sans-serif\" font-size=\"12\" font-style=\"italic\" lengthAdjust=\"spacingAndGlyphs\" textLength=\"8\" x=\"103\" y=\"804.1074\">a</text><text fill=\"#000000\" font-family=\"sans-serif\" font-size=\"12\" lengthAdjust=\"spacingAndGlyphs\" textLength=\"16\" x=\"111\" y=\"804.1074\">: A</text><line style=\"stroke: #383838; stroke-width: 1.5;\" x1=\"97\" x2=\"137\" y1=\"811.9375\" y2=\"811.9375\"/></a><!--MD5=[b9389687b975829384b498ac4b7476b2]\n",
       "class E8--><a href=\"psysml:a977dc12-1522-4e17-86ea-88834b4a9262\" target=\"_top\" title=\"psysml:a977dc12-1522-4e17-86ea-88834b4a9262\" xlink:actuate=\"onRequest\" xlink:href=\"psysml:a977dc12-1522-4e17-86ea-88834b4a9262\" xlink:show=\"new\" xlink:title=\"psysml:a977dc12-1522-4e17-86ea-88834b4a9262\" xlink:type=\"simple\"><rect fill=\"#FFFFFF\" height=\"75.5469\" id=\"E8\" style=\"stroke: #383838; stroke-width: 1.5;\" width=\"75\" x=\"145.5\" y=\"514\"/><text fill=\"#000000\" font-family=\"sans-serif\" font-size=\"12\" font-style=\"italic\" lengthAdjust=\"spacingAndGlyphs\" textLength=\"68\" x=\"149\" y=\"530.1387\">«part  def»</text><text fill=\"#000000\" font-family=\"sans-serif\" font-size=\"12\" lengthAdjust=\"spacingAndGlyphs\" textLength=\"8\" x=\"179\" y=\"544.1074\">C</text><line style=\"stroke: #383838; stroke-width: 1.5;\" x1=\"146.5\" x2=\"219.5\" y1=\"551.9375\" y2=\"551.9375\"/><text fill=\"#000000\" font-family=\"sans-serif\" font-size=\"11\" font-weight=\"bold\" lengthAdjust=\"spacingAndGlyphs\" textLength=\"10\" x=\"151.5\" y=\"582.9526\">in</text><text fill=\"#000000\" font-family=\"sans-serif\" font-size=\"11\" lengthAdjust=\"spacingAndGlyphs\" textLength=\"37\" x=\"165.5\" y=\"582.9526\">y: A, B</text><line style=\"stroke: #383838; stroke-width: 1.0;\" x1=\"146.5\" x2=\"149.5\" y1=\"566.3398\" y2=\"566.3398\"/><text fill=\"#000000\" font-family=\"sans-serif\" font-size=\"11\" lengthAdjust=\"spacingAndGlyphs\" textLength=\"67\" x=\"149.5\" y=\"569.6479\">parameters</text><line style=\"stroke: #383838; stroke-width: 1.0;\" x1=\"216.5\" x2=\"219.5\" y1=\"566.3398\" y2=\"566.3398\"/></a><!--MD5=[fd4143e9d270a159db93a4ea2a975926]\n",
       "class E9--><a href=\"psysml:505a0904-767f-4431-bdaf-f395e9a256c5\" target=\"_top\" title=\"psysml:505a0904-767f-4431-bdaf-f395e9a256c5\" xlink:actuate=\"onRequest\" xlink:href=\"psysml:505a0904-767f-4431-bdaf-f395e9a256c5\" xlink:show=\"new\" xlink:title=\"psysml:505a0904-767f-4431-bdaf-f395e9a256c5\" xlink:type=\"simple\"><rect fill=\"#FFFFFF\" height=\"45.9375\" id=\"E9\" style=\"stroke: #383838; stroke-width: 1.5;\" width=\"70\" x=\"109\" y=\"41\"/><text fill=\"#000000\" font-family=\"sans-serif\" font-size=\"12\" font-style=\"italic\" lengthAdjust=\"spacingAndGlyphs\" textLength=\"68\" x=\"110\" y=\"57.1387\">«port  def»</text><text fill=\"#000000\" font-family=\"sans-serif\" font-size=\"12\" lengthAdjust=\"spacingAndGlyphs\" textLength=\"8\" x=\"140\" y=\"71.1074\">P</text><line style=\"stroke: #383838; stroke-width: 1.5;\" x1=\"110\" x2=\"178\" y1=\"78.9375\" y2=\"78.9375\"/></a><!--MD5=[96f4274e9e20536e775497830990834d]\n",
       "class E10--><a href=\"psysml:b48ee9ab-0a15-45ce-8465-86ae83c4be7f\" target=\"_top\" title=\"psysml:b48ee9ab-0a15-45ce-8465-86ae83c4be7f\" xlink:actuate=\"onRequest\" xlink:href=\"psysml:b48ee9ab-0a15-45ce-8465-86ae83c4be7f\" xlink:show=\"new\" xlink:title=\"psysml:b48ee9ab-0a15-45ce-8465-86ae83c4be7f\" xlink:type=\"simple\"><rect fill=\"#FFFFFF\" height=\"45.9375\" id=\"E10\" rx=\"10\" ry=\"10\" style=\"stroke: #383838; stroke-width: 1.5;\" width=\"43\" x=\"83.5\" y=\"148\"/><text fill=\"#000000\" font-family=\"sans-serif\" font-size=\"12\" font-style=\"italic\" lengthAdjust=\"spacingAndGlyphs\" textLength=\"41\" x=\"84.5\" y=\"164.1387\">«item»</text><text fill=\"#000000\" font-family=\"sans-serif\" font-size=\"12\" lengthAdjust=\"spacingAndGlyphs\" textLength=\"32\" x=\"87\" y=\"178.1074\">a1: A</text><line style=\"stroke: #383838; stroke-width: 1.5;\" x1=\"84.5\" x2=\"125.5\" y1=\"185.9375\" y2=\"185.9375\"/></a><!--MD5=[1dd1bfd58a279cf63c5f349dbc8fc6a1]\n",
       "class E11--><a href=\"psysml:7b14a527-4e8d-41df-a91b-3ca9db44b1d9\" target=\"_top\" title=\"psysml:7b14a527-4e8d-41df-a91b-3ca9db44b1d9\" xlink:actuate=\"onRequest\" xlink:href=\"psysml:7b14a527-4e8d-41df-a91b-3ca9db44b1d9\" xlink:show=\"new\" xlink:title=\"psysml:7b14a527-4e8d-41df-a91b-3ca9db44b1d9\" xlink:type=\"simple\"><rect fill=\"#FFFFFF\" height=\"45.9375\" id=\"E11\" rx=\"10\" ry=\"10\" style=\"stroke: #383838; stroke-width: 1.5;\" width=\"43\" x=\"161.5\" y=\"148\"/><text fill=\"#000000\" font-family=\"sans-serif\" font-size=\"12\" font-style=\"italic\" lengthAdjust=\"spacingAndGlyphs\" textLength=\"41\" x=\"162.5\" y=\"164.1387\">«item»</text><text fill=\"#000000\" font-family=\"sans-serif\" font-size=\"12\" lengthAdjust=\"spacingAndGlyphs\" textLength=\"32\" x=\"165\" y=\"178.1074\">a2: A</text><line style=\"stroke: #383838; stroke-width: 1.5;\" x1=\"162.5\" x2=\"203.5\" y1=\"185.9375\" y2=\"185.9375\"/></a><!--MD5=[2720a5a1f2c3fca2055b230370638851]\n",
       "link E2 to E3--><a href=\"psysml:2913aa14-34e4-4ebc-b3c0-73cbbe37a712\" target=\"_top\" title=\"psysml:2913aa14-34e4-4ebc-b3c0-73cbbe37a712\" xlink:actuate=\"onRequest\" xlink:href=\"psysml:2913aa14-34e4-4ebc-b3c0-73cbbe37a712\" xlink:show=\"new\" xlink:title=\"psysml:2913aa14-34e4-4ebc-b3c0-73cbbe37a712\" xlink:type=\"simple\"><path d=\"M244.65,194.01 C235.14,206.81 222.89,223.3 211.82,238.2 \" fill=\"none\" id=\"E2-&gt;E3\" style=\"stroke: #383838; stroke-width: 1.0;\"/><polygon fill=\"#FFFFFF\" points=\"199.6,254.66,205.3195,235.2361,216.5543,243.5896,199.6,254.66\" style=\"stroke: #383838; stroke-width: 1.0;\"/><ellipse cx=\"210.3256\" cy=\"231.8554\" fill=\"#383838\" rx=\"2\" ry=\"2\" style=\"stroke: #383838; stroke-width: 1.0;\"/><ellipse cx=\"218.3504\" cy=\"237.8221\" fill=\"#383838\" rx=\"2\" ry=\"2\" style=\"stroke: #383838; stroke-width: 1.0;\"/></a><!--MD5=[4672eba38e49728da53d11aeb285b987]\n",
       "reverse link E3 to E4--><a href=\"psysml:5a70b25d-3e65-48fe-9200-ece04e9de0ee\" target=\"_top\" title=\"psysml:5a70b25d-3e65-48fe-9200-ece04e9de0ee\" xlink:actuate=\"onRequest\" xlink:href=\"psysml:5a70b25d-3e65-48fe-9200-ece04e9de0ee\" xlink:show=\"new\" xlink:title=\"psysml:5a70b25d-3e65-48fe-9200-ece04e9de0ee\" xlink:type=\"simple\"><path d=\"M229.65,303.21 C251.35,317.2 274.97,337.01 287,362 C298.57,386.04 292.33,417.17 285.68,437.83 \" fill=\"none\" id=\"E3&lt;-E4\" style=\"stroke: #383838; stroke-width: 1.0;\"/><polygon fill=\"#383838\" points=\"218.55,296.43,221.5791,302.974,228.7848,302.6949,225.7557,296.1508,218.55,296.43\" style=\"stroke: #383838; stroke-width: 1.0;\"/><text fill=\"#000000\" font-family=\"sans-serif\" font-size=\"13\" lengthAdjust=\"spacingAndGlyphs\" textLength=\"8\" x=\"278.8793\" y=\"427.0627\">1</text></a><!--MD5=[191cde3d490a3f6d7bb551fe3ddca469]\n",
       "reverse link E3 to E5--><a href=\"psysml:98aba136-2768-4c7e-bc34-95a5a6a911cd\" target=\"_top\" title=\"psysml:98aba136-2768-4c7e-bc34-95a5a6a911cd\" xlink:actuate=\"onRequest\" xlink:href=\"psysml:98aba136-2768-4c7e-bc34-95a5a6a911cd\" xlink:show=\"new\" xlink:title=\"psysml:98aba136-2768-4c7e-bc34-95a5a6a911cd\" xlink:type=\"simple\"><path d=\"M203.52,312.15 C213.51,328.29 225.26,347.26 234.17,361.66 \" fill=\"none\" id=\"E3&lt;-E5\" style=\"stroke: #383838; stroke-width: 1.0;\"/><polygon fill=\"#FFFFFF\" points=\"196.63,301.01,196.3861,308.217,202.9449,311.214,203.1888,304.007,196.63,301.01\" style=\"stroke: #383838; stroke-width: 1.0;\"/><text fill=\"#000000\" font-family=\"sans-serif\" font-size=\"13\" lengthAdjust=\"spacingAndGlyphs\" textLength=\"8\" x=\"221.6011\" y=\"350.8492\">1</text></a><!--MD5=[79568f1e445c3877b6a54524624ccc7d]\n",
       "link E4 to E6--><a href=\"psysml:04be4dec-9fb2-423c-a400-1c82afc162c3\" target=\"_top\" title=\"psysml:04be4dec-9fb2-423c-a400-1c82afc162c3\" xlink:actuate=\"onRequest\" xlink:href=\"psysml:04be4dec-9fb2-423c-a400-1c82afc162c3\" xlink:show=\"new\" xlink:title=\"psysml:04be4dec-9fb2-423c-a400-1c82afc162c3\" xlink:type=\"simple\"><path d=\"M271.8,484.26 C265.37,510.22 253.39,554.13 238,590 C229.26,610.36 217.43,631.9 206.88,649.66 \" fill=\"none\" id=\"E4-&gt;E6\" style=\"stroke: #383838; stroke-width: 1.0;\"/><polygon fill=\"#FFFFFF\" points=\"196.36,666.92,200.2791,647.0544,212.2307,654.3454,196.36,666.92\" style=\"stroke: #383838; stroke-width: 1.0;\"/><ellipse cx=\"204.955\" cy=\"643.23\" fill=\"#383838\" rx=\"2\" ry=\"2\" style=\"stroke: #383838; stroke-width: 1.0;\"/><ellipse cx=\"213.4918\" cy=\"648.4378\" fill=\"#383838\" rx=\"2\" ry=\"2\" style=\"stroke: #383838; stroke-width: 1.0;\"/></a><!--MD5=[3f50a3473f1dfb74d3f76443e03635af]\n",
       "reverse link E6 to E7--><a href=\"psysml:88a05b08-39fe-46e7-8c9b-5df9e56fb426\" target=\"_top\" title=\"psysml:88a05b08-39fe-46e7-8c9b-5df9e56fb426\" xlink:actuate=\"onRequest\" xlink:href=\"psysml:88a05b08-39fe-46e7-8c9b-5df9e56fb426\" xlink:show=\"new\" xlink:title=\"psysml:88a05b08-39fe-46e7-8c9b-5df9e56fb426\" xlink:type=\"simple\"><path d=\"M161.48,724.15 C151.49,740.29 139.74,759.26 130.83,773.66 \" fill=\"none\" id=\"E6&lt;-E7\" style=\"stroke: #383838; stroke-width: 1.0;\"/><polygon fill=\"#383838\" points=\"168.37,713.01,161.8112,716.007,162.0551,723.214,168.6139,720.217,168.37,713.01\" style=\"stroke: #383838; stroke-width: 1.0;\"/><text fill=\"#000000\" font-family=\"sans-serif\" font-size=\"13\" lengthAdjust=\"spacingAndGlyphs\" textLength=\"8\" x=\"125.3489\" y=\"762.8492\">1</text></a><!--MD5=[14ccda38c055a5c0da953d572bc50960]\n",
       "link E7 to E3--><a href=\"psysml:de23f89f-df32-45d9-b344-47d8d19c4edc\" target=\"_top\" title=\"psysml:de23f89f-df32-45d9-b344-47d8d19c4edc\" xlink:actuate=\"onRequest\" xlink:href=\"psysml:de23f89f-df32-45d9-b344-47d8d19c4edc\" xlink:show=\"new\" xlink:title=\"psysml:de23f89f-df32-45d9-b344-47d8d19c4edc\" xlink:type=\"simple\"><path d=\"M95.8,782.47 C70.92,764.75 33,731.15 33,691 C33,384 33,384 33,384 C33,335.87 85.48,307.94 128.35,293.16 \" fill=\"none\" id=\"E7-&gt;E3\" style=\"stroke: #383838; stroke-width: 1.0;\"/><polygon fill=\"#FFFFFF\" points=\"147.45,287.18,131.4154,299.545,127.2259,286.1865,147.45,287.18\" style=\"stroke: #383838; stroke-width: 1.0;\"/><ellipse cx=\"125.3781\" cy=\"299.3424\" fill=\"#383838\" rx=\"2\" ry=\"2\" style=\"stroke: #383838; stroke-width: 1.0;\"/><ellipse cx=\"122.3856\" cy=\"289.8006\" fill=\"#383838\" rx=\"2\" ry=\"2\" style=\"stroke: #383838; stroke-width: 1.0;\"/></a><!--MD5=[dfaffb906826c3e5aca635516100ff21]\n",
       "link E5 to E8--><a href=\"psysml:feaf6c57-7b20-4701-8323-0c325a1238bf\" target=\"_top\" title=\"psysml:feaf6c57-7b20-4701-8323-0c325a1238bf\" xlink:actuate=\"onRequest\" xlink:href=\"psysml:feaf6c57-7b20-4701-8323-0c325a1238bf\" xlink:show=\"new\" xlink:title=\"psysml:feaf6c57-7b20-4701-8323-0c325a1238bf\" xlink:type=\"simple\"><path d=\"M239.23,408.25 C230.48,430.48 216.67,465.53 204.93,495.33 \" fill=\"none\" id=\"E5-&gt;E8\" style=\"stroke: #383838; stroke-width: 1.0;\"/><polygon fill=\"#FFFFFF\" points=\"197.58,513.98,198.027,493.7365,211.0538,498.8652,197.58,513.98\" style=\"stroke: #383838; stroke-width: 1.0;\"/><ellipse cx=\"201.9761\" cy=\"489.1654\" fill=\"#383838\" rx=\"2\" ry=\"2\" style=\"stroke: #383838; stroke-width: 1.0;\"/><ellipse cx=\"211.2809\" cy=\"492.8288\" fill=\"#383838\" rx=\"2\" ry=\"2\" style=\"stroke: #383838; stroke-width: 1.0;\"/></a><!--MD5=[03c8294790d3c57651a1993cecff665f]\n",
       "reverse link E8 to E3--><a href=\"psysml:f63e9e98-9395-484c-b7ba-710e403c3592\" target=\"_top\" title=\"psysml:f63e9e98-9395-484c-b7ba-710e403c3592\" xlink:actuate=\"onRequest\" xlink:href=\"psysml:f63e9e98-9395-484c-b7ba-710e403c3592\" xlink:show=\"new\" xlink:title=\"psysml:f63e9e98-9395-484c-b7ba-710e403c3592\" xlink:type=\"simple\"><path d=\"M154.57,502.18 C135.93,463.97 117.34,409.52 131,362 C137.48,339.45 152.09,317.09 164.17,301.27 \" fill=\"none\" id=\"E8&lt;-E3\" style=\"stroke: #383838; stroke-width: 1.0;\"/><polygon fill=\"#FFFFFF\" points=\"160.58,513.99,161.4217,506.8282,155.1345,503.2967,154.2928,510.4585,160.58,513.99\" style=\"stroke: #383838; stroke-width: 1.0;\"/><text fill=\"#000000\" font-family=\"sans-serif\" font-size=\"13\" lengthAdjust=\"spacingAndGlyphs\" textLength=\"7\" x=\"132\" y=\"389.5669\">y</text></a><!--MD5=[03c8294790d3c57651a1993cecff665f]\n",
       "reverse link E8 to E3--><a href=\"psysml:f63e9e98-9395-484c-b7ba-710e403c3592\" target=\"_top\" title=\"psysml:f63e9e98-9395-484c-b7ba-710e403c3592\" xlink:actuate=\"onRequest\" xlink:href=\"psysml:f63e9e98-9395-484c-b7ba-710e403c3592\" xlink:show=\"new\" xlink:title=\"psysml:f63e9e98-9395-484c-b7ba-710e403c3592\" xlink:type=\"simple\"><path d=\"M183,500.73 C183,441.17 183,344.58 183,301.26 \" fill=\"none\" id=\"E8&lt;-E3-1\" style=\"stroke: #383838; stroke-width: 1.0;\"/><polygon fill=\"#FFFFFF\" points=\"183,513.93,187,507.93,183,501.93,179,507.93,183,513.93\" style=\"stroke: #383838; stroke-width: 1.0;\"/><text fill=\"#000000\" font-family=\"sans-serif\" font-size=\"13\" lengthAdjust=\"spacingAndGlyphs\" textLength=\"7\" x=\"184\" y=\"389.5669\">y</text></a><!--MD5=[0d75d2178373a6a4568e5dc728f58aef]\n",
       "reverse link E8 to E6--><a href=\"psysml:f63e9e98-9395-484c-b7ba-710e403c3592\" target=\"_top\" title=\"psysml:f63e9e98-9395-484c-b7ba-710e403c3592\" xlink:actuate=\"onRequest\" xlink:href=\"psysml:f63e9e98-9395-484c-b7ba-710e403c3592\" xlink:show=\"new\" xlink:title=\"psysml:f63e9e98-9395-484c-b7ba-710e403c3592\" xlink:type=\"simple\"><path d=\"M160.42,603.02 C157.73,614.13 156.66,625.91 159,637 C161.16,647.24 165.48,657.91 169.79,666.91 \" fill=\"none\" id=\"E8&lt;-E6\" style=\"stroke: #383838; stroke-width: 1.0;\"/><polygon fill=\"#FFFFFF\" points=\"164.22,590.35,158.6675,594.9511,160.7791,601.8461,166.3316,597.245,164.22,590.35\" style=\"stroke: #383838; stroke-width: 1.0;\"/><text fill=\"#000000\" font-family=\"sans-serif\" font-size=\"13\" lengthAdjust=\"spacingAndGlyphs\" textLength=\"7\" x=\"160\" y=\"633.0669\">y</text></a><!--MD5=[0d75d2178373a6a4568e5dc728f58aef]\n",
       "reverse link E8 to E6--><a href=\"psysml:f63e9e98-9395-484c-b7ba-710e403c3592\" target=\"_top\" title=\"psysml:f63e9e98-9395-484c-b7ba-710e403c3592\" xlink:actuate=\"onRequest\" xlink:href=\"psysml:f63e9e98-9395-484c-b7ba-710e403c3592\" xlink:show=\"new\" xlink:title=\"psysml:f63e9e98-9395-484c-b7ba-710e403c3592\" xlink:type=\"simple\"><path d=\"M182.63,603.33 C182.47,625.16 182.29,649.6 182.16,666.77 \" fill=\"none\" id=\"E8&lt;-E6-1\" style=\"stroke: #383838; stroke-width: 1.0;\"/><polygon fill=\"#FFFFFF\" points=\"182.73,590.16,178.684,596.1291,182.6377,602.1596,186.6837,596.1906,182.73,590.16\" style=\"stroke: #383838; stroke-width: 1.0;\"/><text fill=\"#000000\" font-family=\"sans-serif\" font-size=\"13\" lengthAdjust=\"spacingAndGlyphs\" textLength=\"7\" x=\"183\" y=\"633.0669\">y</text></a><!--MD5=[23ac544a70576c3e717098101004234c]\n",
       "reverse link E9 to E10--><a href=\"psysml:f7fd9ae3-3fa5-48e2-b146-bf2078e3bf75\" target=\"_top\" title=\"psysml:f7fd9ae3-3fa5-48e2-b146-bf2078e3bf75\" xlink:actuate=\"onRequest\" xlink:href=\"psysml:f7fd9ae3-3fa5-48e2-b146-bf2078e3bf75\" xlink:show=\"new\" xlink:title=\"psysml:f7fd9ae3-3fa5-48e2-b146-bf2078e3bf75\" xlink:type=\"simple\"><path d=\"M131.16,99.57 C125.28,115.39 118.49,133.68 113.3,147.66 \" fill=\"none\" id=\"E9&lt;-E10\" style=\"stroke: #383838; stroke-width: 1.0;\"/><polygon fill=\"#FFFFFF\" points=\"135.82,87.01,129.9804,91.2408,131.6398,98.2584,137.4793,94.0276,135.82,87.01\" style=\"stroke: #383838; stroke-width: 1.0;\"/><text fill=\"#000000\" font-family=\"sans-serif\" font-size=\"13\" lengthAdjust=\"spacingAndGlyphs\" textLength=\"8\" x=\"106.4019\" y=\"136.8492\">1</text></a><!--MD5=[feeac5eb423634930294aa81f2d25a4c]\n",
       "link E10 to E3--><a href=\"psysml:09a722a7-3c7d-4d30-9bcf-d6d93c165304\" target=\"_top\" title=\"psysml:09a722a7-3c7d-4d30-9bcf-d6d93c165304\" xlink:actuate=\"onRequest\" xlink:href=\"psysml:09a722a7-3c7d-4d30-9bcf-d6d93c165304\" xlink:show=\"new\" xlink:title=\"psysml:09a722a7-3c7d-4d30-9bcf-d6d93c165304\" xlink:type=\"simple\"><path d=\"M121.35,194.01 C130.86,206.81 143.11,223.3 154.18,238.2 \" fill=\"none\" id=\"E10-&gt;E3\" style=\"stroke: #383838; stroke-width: 1.0;\"/><polygon fill=\"#FFFFFF\" points=\"166.4,254.66,149.4457,243.5896,160.6805,235.2361,166.4,254.66\" style=\"stroke: #383838; stroke-width: 1.0;\"/><ellipse cx=\"147.6496\" cy=\"237.8221\" fill=\"#383838\" rx=\"2\" ry=\"2\" style=\"stroke: #383838; stroke-width: 1.0;\"/><ellipse cx=\"155.6744\" cy=\"231.8554\" fill=\"#383838\" rx=\"2\" ry=\"2\" style=\"stroke: #383838; stroke-width: 1.0;\"/></a><!--MD5=[1fc04a95fd77ad5ce46c1a3027516051]\n",
       "reverse link E9 to E11--><a href=\"psysml:2308c13a-9c40-4baf-abe1-b4752fcfac30\" target=\"_top\" title=\"psysml:2308c13a-9c40-4baf-abe1-b4752fcfac30\" xlink:actuate=\"onRequest\" xlink:href=\"psysml:2308c13a-9c40-4baf-abe1-b4752fcfac30\" xlink:show=\"new\" xlink:title=\"psysml:2308c13a-9c40-4baf-abe1-b4752fcfac30\" xlink:type=\"simple\"><path d=\"M156.84,99.57 C162.72,115.39 169.51,133.68 174.7,147.66 \" fill=\"none\" id=\"E9&lt;-E11\" style=\"stroke: #383838; stroke-width: 1.0;\"/><polygon fill=\"#FFFFFF\" points=\"152.18,87.01,150.5207,94.0276,156.3602,98.2584,158.0196,91.2408,152.18,87.01\" style=\"stroke: #383838; stroke-width: 1.0;\"/><text fill=\"#000000\" font-family=\"sans-serif\" font-size=\"13\" lengthAdjust=\"spacingAndGlyphs\" textLength=\"8\" x=\"163.5481\" y=\"136.8492\">1</text></a><!--MD5=[0517f1ce58c4d5483948f93845c45e26]\n",
       "link E11 to E3--><a href=\"psysml:713baad2-05ac-404b-8904-f9720a0da3f6\" target=\"_top\" title=\"psysml:713baad2-05ac-404b-8904-f9720a0da3f6\" xlink:actuate=\"onRequest\" xlink:href=\"psysml:713baad2-05ac-404b-8904-f9720a0da3f6\" xlink:show=\"new\" xlink:title=\"psysml:713baad2-05ac-404b-8904-f9720a0da3f6\" xlink:type=\"simple\"><path d=\"M183,194.01 C183,205.69 183,220.46 183,234.28 \" fill=\"none\" id=\"E11-&gt;E3\" style=\"stroke: #383838; stroke-width: 1.0;\"/><polygon fill=\"#FFFFFF\" points=\"183,254.66,176,235.66,190,235.66,183,254.66\" style=\"stroke: #383838; stroke-width: 1.0;\"/><ellipse cx=\"178\" cy=\"229.96\" fill=\"#383838\" rx=\"2\" ry=\"2\" style=\"stroke: #383838; stroke-width: 1.0;\"/><ellipse cx=\"188\" cy=\"229.96\" fill=\"#383838\" rx=\"2\" ry=\"2\" style=\"stroke: #383838; stroke-width: 1.0;\"/></a><!--MD5=[48c8bf279200a6aadb67c2f9660bcaad]\n",
       "@startuml\r\n",
       "skinparam monochrome true\r\n",
       "skinparam classbackgroundcolor white\r\n",
       "skinparam shadowing false\r\n",
       "skinparam wrapWidth 300\r\n",
       "hide circle\r\n",
       "\r\n",
       "package \"ItemTest\" as E1  [[psysml:9c84b130-4496-45dd-acf0-f614adf4451b ]]  {\r\n",
       "comp usage \"f: A \" as E2  <<(T,blue) item>> [[psysml:046ce2e8-70d6-418b-9e34-4058f6a1e698 ]] {\r\n",
       "}\r\n",
       "comp def \"A\" as E3  <<(T,blue) item  def>> [[psysml:b761bda6-ef45-4173-adbe-8f17f5dd59b9 ]] {\r\n",
       "}\r\n",
       "comp usage \"b: B \" as E4  <<(T,blue) item>> [[psysml:5a9b7c1e-d921-40a5-84d4-dcafad1b8599 ]] {\r\n",
       "}\r\n",
       "comp usage \"c: C \" as E5  <<(T,blue) part>> [[psysml:c52e7c62-32ae-43e1-a51e-2d7f86512260 ]] {\r\n",
       "}\r\n",
       "comp def \"<i>B</i>\" as E6  <<(T,blue) item  def>> [[psysml:154f7142-f3c2-4f8f-a55c-1d31f59952e7 ]] {\r\n",
       "}\r\n",
       "comp usage \"<i>a</i>: A \" as E7  <<(T,blue) part>> [[psysml:3092a58e-bc17-492e-b3ac-d9b0c5d27ee1 ]] {\r\n",
       "}\r\n",
       "comp def \"C\" as E8  <<(T,blue) part  def>> [[psysml:a977dc12-1522-4e17-86ea-88834b4a9262 ]] {\r\n",
       "- - parameters - -\r\n",
       "<b>in</b> y: A, B\r\n",
       "}\r\n",
       "comp def \"P\" as E9  <<(T,blue) port  def>> [[psysml:505a0904-767f-4431-bdaf-f395e9a256c5 ]] {\r\n",
       "}\r\n",
       "comp usage \"a1: A \" as E10  <<(T,blue) item>> [[psysml:b48ee9ab-0a15-45ce-8465-86ae83c4be7f ]] {\r\n",
       "}\r\n",
       "comp usage \"a2: A \" as E11  <<(T,blue) item>> [[psysml:7b14a527-4e8d-41df-a91b-3ca9db44b1d9 ]] {\r\n",
       "}\r\n",
       "}\r\n",
       "E2 - -:|> E3 [[psysml:2913aa14-34e4-4ebc-b3c0-73cbbe37a712 ]] \r\n",
       "E3 *- - \"1\"E4 [[psysml:5a70b25d-3e65-48fe-9200-ece04e9de0ee ]] \r\n",
       "E3 o- - \"1\"E5 [[psysml:98aba136-2768-4c7e-bc34-95a5a6a911cd ]] \r\n",
       "E4 - -:|> E6 [[psysml:04be4dec-9fb2-423c-a400-1c82afc162c3 ]] \r\n",
       "E6 *- - \"1\"E7 [[psysml:88a05b08-39fe-46e7-8c9b-5df9e56fb426 ]] \r\n",
       "E7 - -:|> E3 [[psysml:de23f89f-df32-45d9-b344-47d8d19c4edc ]] \r\n",
       "E5 - -:|> E8 [[psysml:feaf6c57-7b20-4701-8323-0c325a1238bf ]] \r\n",
       "E8 o- - E3 [[psysml:f63e9e98-9395-484c-b7ba-710e403c3592 ]] : y\r\n",
       "E8 o- - E6 [[psysml:f63e9e98-9395-484c-b7ba-710e403c3592 ]] : y\r\n",
       "E8 o- - E3 [[psysml:f63e9e98-9395-484c-b7ba-710e403c3592 ]] : y\r\n",
       "E8 o- - E6 [[psysml:f63e9e98-9395-484c-b7ba-710e403c3592 ]] : y\r\n",
       "E9 o- - \"1\"E10 [[psysml:f7fd9ae3-3fa5-48e2-b146-bf2078e3bf75 ]] \r\n",
       "E10 - -:|> E3 [[psysml:09a722a7-3c7d-4d30-9bcf-d6d93c165304 ]] \r\n",
       "E9 o- - \"1\"E11 [[psysml:2308c13a-9c40-4baf-abe1-b4752fcfac30 ]] \r\n",
       "E11 - -:|> E3 [[psysml:713baad2-05ac-404b-8904-f9720a0da3f6 ]] \r\n",
       "@enduml\r\n",
       "\n",
       "PlantUML version 1.2020.13(Sat Jun 13 12:26:38 UTC 2020)\n",
       "(EPL source distribution)\n",
       "Java Runtime: OpenJDK Runtime Environment\n",
       "JVM: OpenJDK 64-Bit Server VM\n",
       "Default Encoding: UTF-8\n",
       "Language: en\n",
       "Country: null\n",
       "--></g></svg>"
      ]
     },
     "execution_count": 38,
     "metadata": {},
     "output_type": "execute_result"
    }
   ],
   "source": [
    "%viz --style=\"DEFAULT\" --view=\"Tree\" \"ItemTest\""
   ]
  },
  {
   "cell_type": "code",
   "execution_count": 39,
   "id": "0e08c4b4",
   "metadata": {
    "execution": {
     "iopub.execute_input": "2021-10-25T08:20:55.658670Z",
     "iopub.status.busy": "2021-10-25T08:20:55.658288Z",
     "iopub.status.idle": "2021-10-25T08:20:55.662389Z",
     "shell.execute_reply": "2021-10-25T08:20:55.662557Z"
    }
   },
   "outputs": [
    {
     "data": {
      "image/svg+xml": [
       "<?xml version=\"1.0\" encoding=\"UTF-8\" standalone=\"no\"?><svg xmlns=\"http://www.w3.org/2000/svg\" xmlns:xlink=\"http://www.w3.org/1999/xlink\" contentScriptType=\"application/ecmascript\" contentStyleType=\"text/css\" height=\"12px\" preserveAspectRatio=\"none\" style=\"width:12px;height:12px;\" version=\"1.1\" viewBox=\"0 0 12 12\" width=\"12px\" zoomAndPan=\"magnify\"><defs/><g><!--MD5=[c5f280e076d0d61ccf4b0f27871bda1d]\n",
       "@startuml\r\n",
       "skinparam monochrome true\r\n",
       "skinparam classbackgroundcolor white\r\n",
       "skinparam shadowing false\r\n",
       "skinparam wrapWidth 300\r\n",
       "hide circle\r\n",
       "\r\n",
       "@enduml\r\n",
       "\n",
       "PlantUML version 1.2020.13(Sat Jun 13 12:26:38 UTC 2020)\n",
       "(EPL source distribution)\n",
       "Java Runtime: OpenJDK Runtime Environment\n",
       "JVM: OpenJDK 64-Bit Server VM\n",
       "Default Encoding: UTF-8\n",
       "Language: en\n",
       "Country: null\n",
       "--></g></svg>"
      ]
     },
     "execution_count": 39,
     "metadata": {},
     "output_type": "execute_result"
    }
   ],
   "source": [
    "%viz --style=\"DEFAULT\" --view=\"State\" \"ItemTest\""
   ]
  },
  {
   "cell_type": "code",
   "execution_count": 40,
   "id": "645f95c8",
   "metadata": {
    "execution": {
     "iopub.execute_input": "2021-10-25T08:20:55.712764Z",
     "iopub.status.busy": "2021-10-25T08:20:55.712505Z",
     "iopub.status.idle": "2021-10-25T08:20:55.737932Z",
     "shell.execute_reply": "2021-10-25T08:20:55.738084Z"
    }
   },
   "outputs": [
    {
     "data": {
      "image/svg+xml": [
       "<?xml version=\"1.0\" encoding=\"UTF-8\" standalone=\"no\"?><svg xmlns=\"http://www.w3.org/2000/svg\" xmlns:xlink=\"http://www.w3.org/1999/xlink\" contentScriptType=\"application/ecmascript\" contentStyleType=\"text/css\" height=\"112px\" preserveAspectRatio=\"none\" style=\"width:563px;height:112px;\" version=\"1.1\" viewBox=\"0 0 563 112\" width=\"563px\" zoomAndPan=\"magnify\"><defs/><g><!--MD5=[fbc87193dbaf4d95561dea2c320d4a47]\n",
       "cluster E1--><a href=\"psysml:9c84b130-4496-45dd-acf0-f614adf4451b\" target=\"_top\" title=\"psysml:9c84b130-4496-45dd-acf0-f614adf4451b\" xlink:actuate=\"onRequest\" xlink:href=\"psysml:9c84b130-4496-45dd-acf0-f614adf4451b\" xlink:show=\"new\" xlink:title=\"psysml:9c84b130-4496-45dd-acf0-f614adf4451b\" xlink:type=\"simple\"><polygon fill=\"#FFFFFF\" points=\"16,6,83,6,90,28.2969,541,28.2969,541,100,16,100,16,6\" style=\"stroke: #000000; stroke-width: 1.5;\"/><line style=\"stroke: #000000; stroke-width: 1.5;\" x1=\"16\" x2=\"90\" y1=\"28.2969\" y2=\"28.2969\"/><text fill=\"#000000\" font-family=\"sans-serif\" font-size=\"14\" font-weight=\"bold\" lengthAdjust=\"spacingAndGlyphs\" textLength=\"61\" x=\"20\" y=\"20.9951\">ItemTest</text></a><g id=\"E1.E3\"><a href=\"psysml:b761bda6-ef45-4173-adbe-8f17f5dd59b9\" target=\"_top\" title=\"psysml:b761bda6-ef45-4173-adbe-8f17f5dd59b9\" xlink:actuate=\"onRequest\" xlink:href=\"psysml:b761bda6-ef45-4173-adbe-8f17f5dd59b9\" xlink:show=\"new\" xlink:title=\"psysml:b761bda6-ef45-4173-adbe-8f17f5dd59b9\" xlink:type=\"simple\"><rect fill=\"#FFFFFF\" height=\"42.9375\" id=\"E3\" style=\"stroke: #383838; stroke-width: 1.5;\" width=\"76\" x=\"449\" y=\"41\"/><rect fill=\"#F8F8F8\" height=\"37.9375\" style=\"stroke: #383838; stroke-width: 1.5;\" width=\"76\" x=\"449\" y=\"41\"/><text fill=\"#000000\" font-family=\"sans-serif\" font-size=\"12\" font-style=\"italic\" lengthAdjust=\"spacingAndGlyphs\" textLength=\"69\" x=\"452.5\" y=\"57.1387\">«item  def»</text><text fill=\"#000000\" font-family=\"sans-serif\" font-size=\"12\" lengthAdjust=\"spacingAndGlyphs\" textLength=\"8\" x=\"483\" y=\"71.1074\">A</text></a></g><g id=\"E1.E4\"><a href=\"psysml:154f7142-f3c2-4f8f-a55c-1d31f59952e7\" target=\"_top\" title=\"psysml:154f7142-f3c2-4f8f-a55c-1d31f59952e7\" xlink:actuate=\"onRequest\" xlink:href=\"psysml:154f7142-f3c2-4f8f-a55c-1d31f59952e7\" xlink:show=\"new\" xlink:title=\"psysml:154f7142-f3c2-4f8f-a55c-1d31f59952e7\" xlink:type=\"simple\"><rect fill=\"#FFFFFF\" height=\"42.9375\" id=\"E4\" style=\"stroke: #383838; stroke-width: 1.5;\" width=\"76\" x=\"338\" y=\"41\"/><rect fill=\"#F8F8F8\" height=\"37.9375\" style=\"stroke: #383838; stroke-width: 1.5;\" width=\"76\" x=\"338\" y=\"41\"/><text fill=\"#000000\" font-family=\"sans-serif\" font-size=\"12\" font-style=\"italic\" lengthAdjust=\"spacingAndGlyphs\" textLength=\"69\" x=\"341.5\" y=\"57.1387\">«item  def»</text><text fill=\"#000000\" font-family=\"sans-serif\" font-size=\"12\" font-style=\"italic\" lengthAdjust=\"spacingAndGlyphs\" textLength=\"8\" x=\"372\" y=\"71.1074\">B</text></a></g><g id=\"E1.E6\"><a href=\"psysml:505a0904-767f-4431-bdaf-f395e9a256c5\" target=\"_top\" title=\"psysml:505a0904-767f-4431-bdaf-f395e9a256c5\" xlink:actuate=\"onRequest\" xlink:href=\"psysml:505a0904-767f-4431-bdaf-f395e9a256c5\" xlink:show=\"new\" xlink:title=\"psysml:505a0904-767f-4431-bdaf-f395e9a256c5\" xlink:type=\"simple\"><rect fill=\"#FFFFFF\" height=\"42.9375\" id=\"E6\" style=\"stroke: #383838; stroke-width: 1.5;\" width=\"75\" x=\"227.5\" y=\"41\"/><rect fill=\"#F8F8F8\" height=\"37.9375\" style=\"stroke: #383838; stroke-width: 1.5;\" width=\"75\" x=\"227.5\" y=\"41\"/><text fill=\"#000000\" font-family=\"sans-serif\" font-size=\"12\" font-style=\"italic\" lengthAdjust=\"spacingAndGlyphs\" textLength=\"68\" x=\"231\" y=\"57.1387\">«port  def»</text><text fill=\"#000000\" font-family=\"sans-serif\" font-size=\"12\" lengthAdjust=\"spacingAndGlyphs\" textLength=\"8\" x=\"261\" y=\"71.1074\">P</text></a></g><g id=\"E1.E2\"><a href=\"psysml:046ce2e8-70d6-418b-9e34-4058f6a1e698\" target=\"_top\" title=\"psysml:046ce2e8-70d6-418b-9e34-4058f6a1e698\" xlink:actuate=\"onRequest\" xlink:href=\"psysml:046ce2e8-70d6-418b-9e34-4058f6a1e698\" xlink:show=\"new\" xlink:title=\"psysml:046ce2e8-70d6-418b-9e34-4058f6a1e698\" xlink:type=\"simple\"><rect fill=\"#FFFFFF\" height=\"42.9375\" id=\"E2\" rx=\"10\" ry=\"10\" style=\"stroke: #383838; stroke-width: 1.5;\" width=\"50\" x=\"142\" y=\"41\"/><rect fill=\"#F8F8F8\" height=\"37.9375\" rx=\"10\" ry=\"10\" style=\"stroke: #F8F8F8; stroke-width: 1.5;\" width=\"50\" x=\"142\" y=\"41\"/><rect fill=\"#F8F8F8\" height=\"10\" style=\"stroke: #F8F8F8; stroke-width: 1.5;\" width=\"50\" x=\"142\" y=\"68.9375\"/><rect fill=\"none\" height=\"42.9375\" id=\"E2\" rx=\"10\" ry=\"10\" style=\"stroke: #383838; stroke-width: 1.5;\" width=\"50\" x=\"142\" y=\"41\"/><text fill=\"#000000\" font-family=\"sans-serif\" font-size=\"12\" font-style=\"italic\" lengthAdjust=\"spacingAndGlyphs\" textLength=\"41\" x=\"146.5\" y=\"57.1387\">«item»</text><text fill=\"#000000\" font-family=\"sans-serif\" font-size=\"12\" lengthAdjust=\"spacingAndGlyphs\" textLength=\"20\" x=\"157\" y=\"71.1074\">f: A</text></a></g><g id=\"E1.E5\"><a href=\"psysml:a977dc12-1522-4e17-86ea-88834b4a9262\" target=\"_top\" title=\"psysml:a977dc12-1522-4e17-86ea-88834b4a9262\" xlink:actuate=\"onRequest\" xlink:href=\"psysml:a977dc12-1522-4e17-86ea-88834b4a9262\" xlink:show=\"new\" xlink:title=\"psysml:a977dc12-1522-4e17-86ea-88834b4a9262\" xlink:type=\"simple\"><rect fill=\"#FFFFFF\" height=\"42.9375\" id=\"E5\" style=\"stroke: #383838; stroke-width: 1.5;\" width=\"75\" x=\"31.5\" y=\"41\"/><rect fill=\"#F8F8F8\" height=\"37.9375\" style=\"stroke: #383838; stroke-width: 1.5;\" width=\"75\" x=\"31.5\" y=\"41\"/><text fill=\"#000000\" font-family=\"sans-serif\" font-size=\"12\" font-style=\"italic\" lengthAdjust=\"spacingAndGlyphs\" textLength=\"68\" x=\"35\" y=\"57.1387\">«part  def»</text><text fill=\"#000000\" font-family=\"sans-serif\" font-size=\"12\" lengthAdjust=\"spacingAndGlyphs\" textLength=\"8\" x=\"65\" y=\"71.1074\">C</text></a></g><!--MD5=[b3feeceb84cb60ee574041917756aaac]\n",
       "@startuml\r\n",
       "skinparam ranksep 10\r\n",
       "skinparam rectangle {\r\n",
       " backgroundColor<<block>> LightGreen\r\n",
       "}\r\n",
       "skinparam monochrome true\r\n",
       "skinparam classbackgroundcolor white\r\n",
       "skinparam shadowing false\r\n",
       "skinparam wrapWidth 300\r\n",
       "hide circle\r\n",
       "\r\n",
       "package \"ItemTest\" as E1  [[psysml:9c84b130-4496-45dd-acf0-f614adf4451b ]]  {\r\n",
       "rec usage \"f: A\" as E2  <<(T,blue) item>> [[psysml:046ce2e8-70d6-418b-9e34-4058f6a1e698 ]] {\r\n",
       "}\r\n",
       "def \"A\" as E3  <<(T,blue) item  def>> [[psysml:b761bda6-ef45-4173-adbe-8f17f5dd59b9 ]] \r\n",
       "def \"<i>B</i>\" as E4  <<(T,blue) item  def>> [[psysml:154f7142-f3c2-4f8f-a55c-1d31f59952e7 ]] \r\n",
       "rec def \"C\" as E5  <<(T,blue) part  def>> [[psysml:a977dc12-1522-4e17-86ea-88834b4a9262 ]] {\r\n",
       "}\r\n",
       "def \"P\" as E6  <<(T,blue) port  def>> [[psysml:505a0904-767f-4431-bdaf-f395e9a256c5 ]] \r\n",
       "}\r\n",
       "@enduml\r\n",
       "\n",
       "PlantUML version 1.2020.13(Sat Jun 13 12:26:38 UTC 2020)\n",
       "(EPL source distribution)\n",
       "Java Runtime: OpenJDK Runtime Environment\n",
       "JVM: OpenJDK 64-Bit Server VM\n",
       "Default Encoding: UTF-8\n",
       "Language: en\n",
       "Country: null\n",
       "--></g></svg>"
      ]
     },
     "execution_count": 40,
     "metadata": {},
     "output_type": "execute_result"
    }
   ],
   "source": [
    "%viz --style=\"DEFAULT\" --view=\"Interconnection\" \"ItemTest\""
   ]
  },
  {
   "cell_type": "code",
   "execution_count": 41,
   "id": "3d4fa395",
   "metadata": {
    "execution": {
     "iopub.execute_input": "2021-10-25T08:20:55.788570Z",
     "iopub.status.busy": "2021-10-25T08:20:55.788043Z",
     "iopub.status.idle": "2021-10-25T08:20:55.792615Z",
     "shell.execute_reply": "2021-10-25T08:20:55.792777Z"
    }
   },
   "outputs": [
    {
     "data": {
      "image/svg+xml": [
       "<?xml version=\"1.0\" encoding=\"UTF-8\" standalone=\"no\"?><svg xmlns=\"http://www.w3.org/2000/svg\" xmlns:xlink=\"http://www.w3.org/1999/xlink\" contentScriptType=\"application/ecmascript\" contentStyleType=\"text/css\" height=\"12px\" preserveAspectRatio=\"none\" style=\"width:12px;height:12px;\" version=\"1.1\" viewBox=\"0 0 12 12\" width=\"12px\" zoomAndPan=\"magnify\"><defs/><g><!--MD5=[388f21188e31bfdd97050473b19af356]\n",
       "@startuml\r\n",
       "skinparam ranksep 8\r\n",
       "skinparam monochrome true\r\n",
       "skinparam classbackgroundcolor white\r\n",
       "skinparam shadowing false\r\n",
       "skinparam wrapWidth 300\r\n",
       "hide circle\r\n",
       "\r\n",
       "@enduml\r\n",
       "\n",
       "PlantUML version 1.2020.13(Sat Jun 13 12:26:38 UTC 2020)\n",
       "(EPL source distribution)\n",
       "Java Runtime: OpenJDK Runtime Environment\n",
       "JVM: OpenJDK 64-Bit Server VM\n",
       "Default Encoding: UTF-8\n",
       "Language: en\n",
       "Country: null\n",
       "--></g></svg>"
      ]
     },
     "execution_count": 41,
     "metadata": {},
     "output_type": "execute_result"
    }
   ],
   "source": [
    "%viz --style=\"DEFAULT\" --view=\"Action\" \"ItemTest\""
   ]
  },
  {
   "cell_type": "code",
   "execution_count": 42,
   "id": "2855ce58",
   "metadata": {
    "execution": {
     "iopub.execute_input": "2021-10-25T08:20:55.842726Z",
     "iopub.status.busy": "2021-10-25T08:20:55.842499Z",
     "iopub.status.idle": "2021-10-25T08:20:55.847264Z",
     "shell.execute_reply": "2021-10-25T08:20:55.847529Z"
    }
   },
   "outputs": [
    {
     "data": {
      "image/svg+xml": [
       "<?xml version=\"1.0\" encoding=\"UTF-8\" standalone=\"no\"?><svg xmlns=\"http://www.w3.org/2000/svg\" xmlns:xlink=\"http://www.w3.org/1999/xlink\" contentScriptType=\"application/ecmascript\" contentStyleType=\"text/css\" height=\"12px\" preserveAspectRatio=\"none\" style=\"width:12px;height:12px;\" version=\"1.1\" viewBox=\"0 0 12 12\" width=\"12px\" zoomAndPan=\"magnify\"><defs/><g><!--MD5=[0b72472770326784bf6c2b53246e1e64]\n",
       "@startuml\r\n",
       "skinparam roundcorner 20\r\n",
       "skinparam BoxPadding 20\r\n",
       "skinparam SequenceBoxBackgroundColor #white\r\n",
       "skinparam style strictuml\r\n",
       "skinparam maxMessageSize 100\r\n",
       "skinparam monochrome true\r\n",
       "skinparam classbackgroundcolor white\r\n",
       "skinparam shadowing false\r\n",
       "skinparam wrapWidth 300\r\n",
       "hide circle\r\n",
       "\r\n",
       "@enduml\r\n",
       "\n",
       "PlantUML version 1.2020.13(Sat Jun 13 12:26:38 UTC 2020)\n",
       "(EPL source distribution)\n",
       "Java Runtime: OpenJDK Runtime Environment\n",
       "JVM: OpenJDK 64-Bit Server VM\n",
       "Default Encoding: UTF-8\n",
       "Language: en\n",
       "Country: null\n",
       "--></g></svg>"
      ]
     },
     "execution_count": 42,
     "metadata": {},
     "output_type": "execute_result"
    }
   ],
   "source": [
    "%viz --style=\"DEFAULT\" --view=\"Sequence\" \"ItemTest\""
   ]
  },
  {
   "cell_type": "code",
   "execution_count": 43,
   "id": "d63c4bc9",
   "metadata": {
    "execution": {
     "iopub.execute_input": "2021-10-25T08:20:55.896860Z",
     "iopub.status.busy": "2021-10-25T08:20:55.896659Z",
     "iopub.status.idle": "2021-10-25T08:20:55.953353Z",
     "shell.execute_reply": "2021-10-25T08:20:55.953183Z"
    }
   },
   "outputs": [
    {
     "data": {
      "image/svg+xml": [
       "<?xml version=\"1.0\" encoding=\"UTF-8\" standalone=\"no\"?><svg xmlns=\"http://www.w3.org/2000/svg\" xmlns:xlink=\"http://www.w3.org/1999/xlink\" contentScriptType=\"application/ecmascript\" contentStyleType=\"text/css\" height=\"848px\" preserveAspectRatio=\"none\" style=\"width:344px;height:848px;\" version=\"1.1\" viewBox=\"0 0 344 848\" width=\"344px\" zoomAndPan=\"magnify\"><defs/><g><!--MD5=[fbc87193dbaf4d95561dea2c320d4a47]\n",
       "cluster E1--><a href=\"psysml:9c84b130-4496-45dd-acf0-f614adf4451b\" target=\"_top\" title=\"psysml:9c84b130-4496-45dd-acf0-f614adf4451b\" xlink:actuate=\"onRequest\" xlink:href=\"psysml:9c84b130-4496-45dd-acf0-f614adf4451b\" xlink:show=\"new\" xlink:title=\"psysml:9c84b130-4496-45dd-acf0-f614adf4451b\" xlink:type=\"simple\"><polygon fill=\"#FFFFFF\" points=\"16,6,83,6,90,28.2969,322,28.2969,322,836,16,836,16,6\" style=\"stroke: #000000; stroke-width: 1.5;\"/><line style=\"stroke: #000000; stroke-width: 1.5;\" x1=\"16\" x2=\"90\" y1=\"28.2969\" y2=\"28.2969\"/><text fill=\"#000000\" font-family=\"sans-serif\" font-size=\"14\" font-weight=\"bold\" lengthAdjust=\"spacingAndGlyphs\" textLength=\"61\" x=\"20\" y=\"20.9951\">ItemTest</text></a><!--MD5=[b4997ac47864f28c2f74865a473b2911]\n",
       "class E2--><a href=\"psysml:046ce2e8-70d6-418b-9e34-4058f6a1e698\" target=\"_top\" title=\"psysml:046ce2e8-70d6-418b-9e34-4058f6a1e698\" xlink:actuate=\"onRequest\" xlink:href=\"psysml:046ce2e8-70d6-418b-9e34-4058f6a1e698\" xlink:show=\"new\" xlink:title=\"psysml:046ce2e8-70d6-418b-9e34-4058f6a1e698\" xlink:type=\"simple\"><rect fill=\"#FFFFFF\" height=\"45.9375\" id=\"E2\" rx=\"10\" ry=\"10\" style=\"stroke: #383838; stroke-width: 1.5;\" width=\"43\" x=\"239.5\" y=\"148\"/><text fill=\"#000000\" font-family=\"sans-serif\" font-size=\"12\" font-style=\"italic\" lengthAdjust=\"spacingAndGlyphs\" textLength=\"41\" x=\"240.5\" y=\"164.1387\">«item»</text><text fill=\"#000000\" font-family=\"sans-serif\" font-size=\"12\" lengthAdjust=\"spacingAndGlyphs\" textLength=\"20\" x=\"249\" y=\"178.1074\">f: A</text><line style=\"stroke: #383838; stroke-width: 1.5;\" x1=\"240.5\" x2=\"281.5\" y1=\"185.9375\" y2=\"185.9375\"/></a><!--MD5=[09b614a08d8cba4a07c9adeb5e0fee81]\n",
       "class E3--><a href=\"psysml:b761bda6-ef45-4173-adbe-8f17f5dd59b9\" target=\"_top\" title=\"psysml:b761bda6-ef45-4173-adbe-8f17f5dd59b9\" xlink:actuate=\"onRequest\" xlink:href=\"psysml:b761bda6-ef45-4173-adbe-8f17f5dd59b9\" xlink:show=\"new\" xlink:title=\"psysml:b761bda6-ef45-4173-adbe-8f17f5dd59b9\" xlink:type=\"simple\"><rect fill=\"#FFFFFF\" height=\"45.9375\" id=\"E3\" style=\"stroke: #383838; stroke-width: 1.5;\" width=\"71\" x=\"147.5\" y=\"255\"/><text fill=\"#000000\" font-family=\"sans-serif\" font-size=\"12\" font-style=\"italic\" lengthAdjust=\"spacingAndGlyphs\" textLength=\"69\" x=\"148.5\" y=\"271.1387\">«item  def»</text><text fill=\"#000000\" font-family=\"sans-serif\" font-size=\"12\" lengthAdjust=\"spacingAndGlyphs\" textLength=\"8\" x=\"179\" y=\"285.1074\">A</text><line style=\"stroke: #383838; stroke-width: 1.5;\" x1=\"148.5\" x2=\"217.5\" y1=\"292.9375\" y2=\"292.9375\"/></a><!--MD5=[ebbe1d658d1005bcc118a6aa81145e00]\n",
       "class E4--><a href=\"psysml:5a9b7c1e-d921-40a5-84d4-dcafad1b8599\" target=\"_top\" title=\"psysml:5a9b7c1e-d921-40a5-84d4-dcafad1b8599\" xlink:actuate=\"onRequest\" xlink:href=\"psysml:5a9b7c1e-d921-40a5-84d4-dcafad1b8599\" xlink:show=\"new\" xlink:title=\"psysml:5a9b7c1e-d921-40a5-84d4-dcafad1b8599\" xlink:type=\"simple\"><rect fill=\"#FFFFFF\" height=\"45.9375\" id=\"E4\" rx=\"10\" ry=\"10\" style=\"stroke: #383838; stroke-width: 1.5;\" width=\"43\" x=\"255.5\" y=\"438\"/><text fill=\"#000000\" font-family=\"sans-serif\" font-size=\"12\" font-style=\"italic\" lengthAdjust=\"spacingAndGlyphs\" textLength=\"41\" x=\"256.5\" y=\"454.1387\">«item»</text><text fill=\"#000000\" font-family=\"sans-serif\" font-size=\"12\" lengthAdjust=\"spacingAndGlyphs\" textLength=\"24\" x=\"263\" y=\"468.1074\">b: B</text><line style=\"stroke: #383838; stroke-width: 1.5;\" x1=\"256.5\" x2=\"297.5\" y1=\"475.9375\" y2=\"475.9375\"/></a><!--MD5=[270fce915f116d4de14055a7c1d9a0f3]\n",
       "class E5--><a href=\"psysml:c52e7c62-32ae-43e1-a51e-2d7f86512260\" target=\"_top\" title=\"psysml:c52e7c62-32ae-43e1-a51e-2d7f86512260\" xlink:actuate=\"onRequest\" xlink:href=\"psysml:c52e7c62-32ae-43e1-a51e-2d7f86512260\" xlink:show=\"new\" xlink:title=\"psysml:c52e7c62-32ae-43e1-a51e-2d7f86512260\" xlink:type=\"simple\"><rect fill=\"#FFFFFF\" height=\"45.9375\" id=\"E5\" rx=\"10\" ry=\"10\" style=\"stroke: #383838; stroke-width: 1.5;\" width=\"42\" x=\"227\" y=\"362\"/><text fill=\"#000000\" font-family=\"sans-serif\" font-size=\"12\" font-style=\"italic\" lengthAdjust=\"spacingAndGlyphs\" textLength=\"40\" x=\"228\" y=\"378.1387\">«part»</text><text fill=\"#000000\" font-family=\"sans-serif\" font-size=\"12\" lengthAdjust=\"spacingAndGlyphs\" textLength=\"23\" x=\"234.5\" y=\"392.1074\">c: C</text><line style=\"stroke: #383838; stroke-width: 1.5;\" x1=\"228\" x2=\"268\" y1=\"399.9375\" y2=\"399.9375\"/></a><!--MD5=[60a26617385b1d2d0262a64233df1f8d]\n",
       "class E6--><a href=\"psysml:154f7142-f3c2-4f8f-a55c-1d31f59952e7\" target=\"_top\" title=\"psysml:154f7142-f3c2-4f8f-a55c-1d31f59952e7\" xlink:actuate=\"onRequest\" xlink:href=\"psysml:154f7142-f3c2-4f8f-a55c-1d31f59952e7\" xlink:show=\"new\" xlink:title=\"psysml:154f7142-f3c2-4f8f-a55c-1d31f59952e7\" xlink:type=\"simple\"><rect fill=\"#FFFFFF\" height=\"45.9375\" id=\"E6\" style=\"stroke: #383838; stroke-width: 1.5;\" width=\"71\" x=\"146.5\" y=\"667\"/><text fill=\"#000000\" font-family=\"sans-serif\" font-size=\"12\" font-style=\"italic\" lengthAdjust=\"spacingAndGlyphs\" textLength=\"69\" x=\"147.5\" y=\"683.1387\">«item  def»</text><text fill=\"#000000\" font-family=\"sans-serif\" font-size=\"12\" font-style=\"italic\" lengthAdjust=\"spacingAndGlyphs\" textLength=\"8\" x=\"178\" y=\"697.1074\">B</text><line style=\"stroke: #383838; stroke-width: 1.5;\" x1=\"147.5\" x2=\"216.5\" y1=\"704.9375\" y2=\"704.9375\"/></a><!--MD5=[2156ba9850f5573cc1fc38a6a4b2f02b]\n",
       "class E7--><a href=\"psysml:3092a58e-bc17-492e-b3ac-d9b0c5d27ee1\" target=\"_top\" title=\"psysml:3092a58e-bc17-492e-b3ac-d9b0c5d27ee1\" xlink:actuate=\"onRequest\" xlink:href=\"psysml:3092a58e-bc17-492e-b3ac-d9b0c5d27ee1\" xlink:show=\"new\" xlink:title=\"psysml:3092a58e-bc17-492e-b3ac-d9b0c5d27ee1\" xlink:type=\"simple\"><rect fill=\"#FFFFFF\" height=\"45.9375\" id=\"E7\" rx=\"10\" ry=\"10\" style=\"stroke: #383838; stroke-width: 1.5;\" width=\"42\" x=\"96\" y=\"774\"/><text fill=\"#000000\" font-family=\"sans-serif\" font-size=\"12\" font-style=\"italic\" lengthAdjust=\"spacingAndGlyphs\" textLength=\"40\" x=\"97\" y=\"790.1387\">«part»</text><text fill=\"#000000\" font-family=\"sans-serif\" font-size=\"12\" font-style=\"italic\" lengthAdjust=\"spacingAndGlyphs\" textLength=\"8\" x=\"103\" y=\"804.1074\">a</text><text fill=\"#000000\" font-family=\"sans-serif\" font-size=\"12\" lengthAdjust=\"spacingAndGlyphs\" textLength=\"16\" x=\"111\" y=\"804.1074\">: A</text><line style=\"stroke: #383838; stroke-width: 1.5;\" x1=\"97\" x2=\"137\" y1=\"811.9375\" y2=\"811.9375\"/></a><!--MD5=[b9389687b975829384b498ac4b7476b2]\n",
       "class E8--><a href=\"psysml:a977dc12-1522-4e17-86ea-88834b4a9262\" target=\"_top\" title=\"psysml:a977dc12-1522-4e17-86ea-88834b4a9262\" xlink:actuate=\"onRequest\" xlink:href=\"psysml:a977dc12-1522-4e17-86ea-88834b4a9262\" xlink:show=\"new\" xlink:title=\"psysml:a977dc12-1522-4e17-86ea-88834b4a9262\" xlink:type=\"simple\"><rect fill=\"#FFFFFF\" height=\"75.5469\" id=\"E8\" style=\"stroke: #383838; stroke-width: 1.5;\" width=\"75\" x=\"145.5\" y=\"514\"/><text fill=\"#000000\" font-family=\"sans-serif\" font-size=\"12\" font-style=\"italic\" lengthAdjust=\"spacingAndGlyphs\" textLength=\"68\" x=\"149\" y=\"530.1387\">«part  def»</text><text fill=\"#000000\" font-family=\"sans-serif\" font-size=\"12\" lengthAdjust=\"spacingAndGlyphs\" textLength=\"8\" x=\"179\" y=\"544.1074\">C</text><line style=\"stroke: #383838; stroke-width: 1.5;\" x1=\"146.5\" x2=\"219.5\" y1=\"551.9375\" y2=\"551.9375\"/><text fill=\"#000000\" font-family=\"sans-serif\" font-size=\"11\" font-weight=\"bold\" lengthAdjust=\"spacingAndGlyphs\" textLength=\"10\" x=\"151.5\" y=\"582.9526\">in</text><text fill=\"#000000\" font-family=\"sans-serif\" font-size=\"11\" lengthAdjust=\"spacingAndGlyphs\" textLength=\"37\" x=\"165.5\" y=\"582.9526\">y: A, B</text><line style=\"stroke: #383838; stroke-width: 1.0;\" x1=\"146.5\" x2=\"149.5\" y1=\"566.3398\" y2=\"566.3398\"/><text fill=\"#000000\" font-family=\"sans-serif\" font-size=\"11\" lengthAdjust=\"spacingAndGlyphs\" textLength=\"67\" x=\"149.5\" y=\"569.6479\">parameters</text><line style=\"stroke: #383838; stroke-width: 1.0;\" x1=\"216.5\" x2=\"219.5\" y1=\"566.3398\" y2=\"566.3398\"/></a><!--MD5=[fd4143e9d270a159db93a4ea2a975926]\n",
       "class E9--><a href=\"psysml:505a0904-767f-4431-bdaf-f395e9a256c5\" target=\"_top\" title=\"psysml:505a0904-767f-4431-bdaf-f395e9a256c5\" xlink:actuate=\"onRequest\" xlink:href=\"psysml:505a0904-767f-4431-bdaf-f395e9a256c5\" xlink:show=\"new\" xlink:title=\"psysml:505a0904-767f-4431-bdaf-f395e9a256c5\" xlink:type=\"simple\"><rect fill=\"#FFFFFF\" height=\"45.9375\" id=\"E9\" style=\"stroke: #383838; stroke-width: 1.5;\" width=\"70\" x=\"109\" y=\"41\"/><text fill=\"#000000\" font-family=\"sans-serif\" font-size=\"12\" font-style=\"italic\" lengthAdjust=\"spacingAndGlyphs\" textLength=\"68\" x=\"110\" y=\"57.1387\">«port  def»</text><text fill=\"#000000\" font-family=\"sans-serif\" font-size=\"12\" lengthAdjust=\"spacingAndGlyphs\" textLength=\"8\" x=\"140\" y=\"71.1074\">P</text><line style=\"stroke: #383838; stroke-width: 1.5;\" x1=\"110\" x2=\"178\" y1=\"78.9375\" y2=\"78.9375\"/></a><!--MD5=[96f4274e9e20536e775497830990834d]\n",
       "class E10--><a href=\"psysml:b48ee9ab-0a15-45ce-8465-86ae83c4be7f\" target=\"_top\" title=\"psysml:b48ee9ab-0a15-45ce-8465-86ae83c4be7f\" xlink:actuate=\"onRequest\" xlink:href=\"psysml:b48ee9ab-0a15-45ce-8465-86ae83c4be7f\" xlink:show=\"new\" xlink:title=\"psysml:b48ee9ab-0a15-45ce-8465-86ae83c4be7f\" xlink:type=\"simple\"><rect fill=\"#FFFFFF\" height=\"45.9375\" id=\"E10\" rx=\"10\" ry=\"10\" style=\"stroke: #383838; stroke-width: 1.5;\" width=\"43\" x=\"83.5\" y=\"148\"/><text fill=\"#000000\" font-family=\"sans-serif\" font-size=\"12\" font-style=\"italic\" lengthAdjust=\"spacingAndGlyphs\" textLength=\"41\" x=\"84.5\" y=\"164.1387\">«item»</text><text fill=\"#000000\" font-family=\"sans-serif\" font-size=\"12\" lengthAdjust=\"spacingAndGlyphs\" textLength=\"32\" x=\"87\" y=\"178.1074\">a1: A</text><line style=\"stroke: #383838; stroke-width: 1.5;\" x1=\"84.5\" x2=\"125.5\" y1=\"185.9375\" y2=\"185.9375\"/></a><!--MD5=[1dd1bfd58a279cf63c5f349dbc8fc6a1]\n",
       "class E11--><a href=\"psysml:7b14a527-4e8d-41df-a91b-3ca9db44b1d9\" target=\"_top\" title=\"psysml:7b14a527-4e8d-41df-a91b-3ca9db44b1d9\" xlink:actuate=\"onRequest\" xlink:href=\"psysml:7b14a527-4e8d-41df-a91b-3ca9db44b1d9\" xlink:show=\"new\" xlink:title=\"psysml:7b14a527-4e8d-41df-a91b-3ca9db44b1d9\" xlink:type=\"simple\"><rect fill=\"#FFFFFF\" height=\"45.9375\" id=\"E11\" rx=\"10\" ry=\"10\" style=\"stroke: #383838; stroke-width: 1.5;\" width=\"43\" x=\"161.5\" y=\"148\"/><text fill=\"#000000\" font-family=\"sans-serif\" font-size=\"12\" font-style=\"italic\" lengthAdjust=\"spacingAndGlyphs\" textLength=\"41\" x=\"162.5\" y=\"164.1387\">«item»</text><text fill=\"#000000\" font-family=\"sans-serif\" font-size=\"12\" lengthAdjust=\"spacingAndGlyphs\" textLength=\"32\" x=\"165\" y=\"178.1074\">a2: A</text><line style=\"stroke: #383838; stroke-width: 1.5;\" x1=\"162.5\" x2=\"203.5\" y1=\"185.9375\" y2=\"185.9375\"/></a><!--MD5=[2720a5a1f2c3fca2055b230370638851]\n",
       "link E2 to E3--><a href=\"psysml:2913aa14-34e4-4ebc-b3c0-73cbbe37a712\" target=\"_top\" title=\"psysml:2913aa14-34e4-4ebc-b3c0-73cbbe37a712\" xlink:actuate=\"onRequest\" xlink:href=\"psysml:2913aa14-34e4-4ebc-b3c0-73cbbe37a712\" xlink:show=\"new\" xlink:title=\"psysml:2913aa14-34e4-4ebc-b3c0-73cbbe37a712\" xlink:type=\"simple\"><path d=\"M244.65,194.01 C235.14,206.81 222.89,223.3 211.82,238.2 \" fill=\"none\" id=\"E2-&gt;E3\" style=\"stroke: #383838; stroke-width: 1.0;\"/><polygon fill=\"#FFFFFF\" points=\"199.6,254.66,205.3195,235.2361,216.5543,243.5896,199.6,254.66\" style=\"stroke: #383838; stroke-width: 1.0;\"/><ellipse cx=\"210.3256\" cy=\"231.8554\" fill=\"#383838\" rx=\"2\" ry=\"2\" style=\"stroke: #383838; stroke-width: 1.0;\"/><ellipse cx=\"218.3504\" cy=\"237.8221\" fill=\"#383838\" rx=\"2\" ry=\"2\" style=\"stroke: #383838; stroke-width: 1.0;\"/></a><!--MD5=[4672eba38e49728da53d11aeb285b987]\n",
       "reverse link E3 to E4--><a href=\"psysml:5a70b25d-3e65-48fe-9200-ece04e9de0ee\" target=\"_top\" title=\"psysml:5a70b25d-3e65-48fe-9200-ece04e9de0ee\" xlink:actuate=\"onRequest\" xlink:href=\"psysml:5a70b25d-3e65-48fe-9200-ece04e9de0ee\" xlink:show=\"new\" xlink:title=\"psysml:5a70b25d-3e65-48fe-9200-ece04e9de0ee\" xlink:type=\"simple\"><path d=\"M229.65,303.21 C251.35,317.2 274.97,337.01 287,362 C298.57,386.04 292.33,417.17 285.68,437.83 \" fill=\"none\" id=\"E3&lt;-E4\" style=\"stroke: #383838; stroke-width: 1.0;\"/><polygon fill=\"#383838\" points=\"218.55,296.43,221.5791,302.974,228.7848,302.6949,225.7557,296.1508,218.55,296.43\" style=\"stroke: #383838; stroke-width: 1.0;\"/><text fill=\"#000000\" font-family=\"sans-serif\" font-size=\"13\" lengthAdjust=\"spacingAndGlyphs\" textLength=\"8\" x=\"278.8793\" y=\"427.0627\">1</text></a><!--MD5=[191cde3d490a3f6d7bb551fe3ddca469]\n",
       "reverse link E3 to E5--><a href=\"psysml:98aba136-2768-4c7e-bc34-95a5a6a911cd\" target=\"_top\" title=\"psysml:98aba136-2768-4c7e-bc34-95a5a6a911cd\" xlink:actuate=\"onRequest\" xlink:href=\"psysml:98aba136-2768-4c7e-bc34-95a5a6a911cd\" xlink:show=\"new\" xlink:title=\"psysml:98aba136-2768-4c7e-bc34-95a5a6a911cd\" xlink:type=\"simple\"><path d=\"M203.52,312.15 C213.51,328.29 225.26,347.26 234.17,361.66 \" fill=\"none\" id=\"E3&lt;-E5\" style=\"stroke: #383838; stroke-width: 1.0;\"/><polygon fill=\"#FFFFFF\" points=\"196.63,301.01,196.3861,308.217,202.9449,311.214,203.1888,304.007,196.63,301.01\" style=\"stroke: #383838; stroke-width: 1.0;\"/><text fill=\"#000000\" font-family=\"sans-serif\" font-size=\"13\" lengthAdjust=\"spacingAndGlyphs\" textLength=\"8\" x=\"221.6011\" y=\"350.8492\">1</text></a><!--MD5=[79568f1e445c3877b6a54524624ccc7d]\n",
       "link E4 to E6--><a href=\"psysml:04be4dec-9fb2-423c-a400-1c82afc162c3\" target=\"_top\" title=\"psysml:04be4dec-9fb2-423c-a400-1c82afc162c3\" xlink:actuate=\"onRequest\" xlink:href=\"psysml:04be4dec-9fb2-423c-a400-1c82afc162c3\" xlink:show=\"new\" xlink:title=\"psysml:04be4dec-9fb2-423c-a400-1c82afc162c3\" xlink:type=\"simple\"><path d=\"M271.8,484.26 C265.37,510.22 253.39,554.13 238,590 C229.26,610.36 217.43,631.9 206.88,649.66 \" fill=\"none\" id=\"E4-&gt;E6\" style=\"stroke: #383838; stroke-width: 1.0;\"/><polygon fill=\"#FFFFFF\" points=\"196.36,666.92,200.2791,647.0544,212.2307,654.3454,196.36,666.92\" style=\"stroke: #383838; stroke-width: 1.0;\"/><ellipse cx=\"204.955\" cy=\"643.23\" fill=\"#383838\" rx=\"2\" ry=\"2\" style=\"stroke: #383838; stroke-width: 1.0;\"/><ellipse cx=\"213.4918\" cy=\"648.4378\" fill=\"#383838\" rx=\"2\" ry=\"2\" style=\"stroke: #383838; stroke-width: 1.0;\"/></a><!--MD5=[3f50a3473f1dfb74d3f76443e03635af]\n",
       "reverse link E6 to E7--><a href=\"psysml:88a05b08-39fe-46e7-8c9b-5df9e56fb426\" target=\"_top\" title=\"psysml:88a05b08-39fe-46e7-8c9b-5df9e56fb426\" xlink:actuate=\"onRequest\" xlink:href=\"psysml:88a05b08-39fe-46e7-8c9b-5df9e56fb426\" xlink:show=\"new\" xlink:title=\"psysml:88a05b08-39fe-46e7-8c9b-5df9e56fb426\" xlink:type=\"simple\"><path d=\"M161.48,724.15 C151.49,740.29 139.74,759.26 130.83,773.66 \" fill=\"none\" id=\"E6&lt;-E7\" style=\"stroke: #383838; stroke-width: 1.0;\"/><polygon fill=\"#383838\" points=\"168.37,713.01,161.8112,716.007,162.0551,723.214,168.6139,720.217,168.37,713.01\" style=\"stroke: #383838; stroke-width: 1.0;\"/><text fill=\"#000000\" font-family=\"sans-serif\" font-size=\"13\" lengthAdjust=\"spacingAndGlyphs\" textLength=\"8\" x=\"125.3489\" y=\"762.8492\">1</text></a><!--MD5=[14ccda38c055a5c0da953d572bc50960]\n",
       "link E7 to E3--><a href=\"psysml:de23f89f-df32-45d9-b344-47d8d19c4edc\" target=\"_top\" title=\"psysml:de23f89f-df32-45d9-b344-47d8d19c4edc\" xlink:actuate=\"onRequest\" xlink:href=\"psysml:de23f89f-df32-45d9-b344-47d8d19c4edc\" xlink:show=\"new\" xlink:title=\"psysml:de23f89f-df32-45d9-b344-47d8d19c4edc\" xlink:type=\"simple\"><path d=\"M95.8,782.47 C70.92,764.75 33,731.15 33,691 C33,384 33,384 33,384 C33,335.87 85.48,307.94 128.35,293.16 \" fill=\"none\" id=\"E7-&gt;E3\" style=\"stroke: #383838; stroke-width: 1.0;\"/><polygon fill=\"#FFFFFF\" points=\"147.45,287.18,131.4154,299.545,127.2259,286.1865,147.45,287.18\" style=\"stroke: #383838; stroke-width: 1.0;\"/><ellipse cx=\"125.3781\" cy=\"299.3424\" fill=\"#383838\" rx=\"2\" ry=\"2\" style=\"stroke: #383838; stroke-width: 1.0;\"/><ellipse cx=\"122.3856\" cy=\"289.8006\" fill=\"#383838\" rx=\"2\" ry=\"2\" style=\"stroke: #383838; stroke-width: 1.0;\"/></a><!--MD5=[dfaffb906826c3e5aca635516100ff21]\n",
       "link E5 to E8--><a href=\"psysml:feaf6c57-7b20-4701-8323-0c325a1238bf\" target=\"_top\" title=\"psysml:feaf6c57-7b20-4701-8323-0c325a1238bf\" xlink:actuate=\"onRequest\" xlink:href=\"psysml:feaf6c57-7b20-4701-8323-0c325a1238bf\" xlink:show=\"new\" xlink:title=\"psysml:feaf6c57-7b20-4701-8323-0c325a1238bf\" xlink:type=\"simple\"><path d=\"M239.23,408.25 C230.48,430.48 216.67,465.53 204.93,495.33 \" fill=\"none\" id=\"E5-&gt;E8\" style=\"stroke: #383838; stroke-width: 1.0;\"/><polygon fill=\"#FFFFFF\" points=\"197.58,513.98,198.027,493.7365,211.0538,498.8652,197.58,513.98\" style=\"stroke: #383838; stroke-width: 1.0;\"/><ellipse cx=\"201.9761\" cy=\"489.1654\" fill=\"#383838\" rx=\"2\" ry=\"2\" style=\"stroke: #383838; stroke-width: 1.0;\"/><ellipse cx=\"211.2809\" cy=\"492.8288\" fill=\"#383838\" rx=\"2\" ry=\"2\" style=\"stroke: #383838; stroke-width: 1.0;\"/></a><!--MD5=[03c8294790d3c57651a1993cecff665f]\n",
       "reverse link E8 to E3--><a href=\"psysml:f63e9e98-9395-484c-b7ba-710e403c3592\" target=\"_top\" title=\"psysml:f63e9e98-9395-484c-b7ba-710e403c3592\" xlink:actuate=\"onRequest\" xlink:href=\"psysml:f63e9e98-9395-484c-b7ba-710e403c3592\" xlink:show=\"new\" xlink:title=\"psysml:f63e9e98-9395-484c-b7ba-710e403c3592\" xlink:type=\"simple\"><path d=\"M154.57,502.18 C135.93,463.97 117.34,409.52 131,362 C137.48,339.45 152.09,317.09 164.17,301.27 \" fill=\"none\" id=\"E8&lt;-E3\" style=\"stroke: #383838; stroke-width: 1.0;\"/><polygon fill=\"#FFFFFF\" points=\"160.58,513.99,161.4217,506.8282,155.1345,503.2967,154.2928,510.4585,160.58,513.99\" style=\"stroke: #383838; stroke-width: 1.0;\"/><text fill=\"#000000\" font-family=\"sans-serif\" font-size=\"13\" lengthAdjust=\"spacingAndGlyphs\" textLength=\"7\" x=\"132\" y=\"389.5669\">y</text></a><!--MD5=[03c8294790d3c57651a1993cecff665f]\n",
       "reverse link E8 to E3--><a href=\"psysml:f63e9e98-9395-484c-b7ba-710e403c3592\" target=\"_top\" title=\"psysml:f63e9e98-9395-484c-b7ba-710e403c3592\" xlink:actuate=\"onRequest\" xlink:href=\"psysml:f63e9e98-9395-484c-b7ba-710e403c3592\" xlink:show=\"new\" xlink:title=\"psysml:f63e9e98-9395-484c-b7ba-710e403c3592\" xlink:type=\"simple\"><path d=\"M183,500.73 C183,441.17 183,344.58 183,301.26 \" fill=\"none\" id=\"E8&lt;-E3-1\" style=\"stroke: #383838; stroke-width: 1.0;\"/><polygon fill=\"#FFFFFF\" points=\"183,513.93,187,507.93,183,501.93,179,507.93,183,513.93\" style=\"stroke: #383838; stroke-width: 1.0;\"/><text fill=\"#000000\" font-family=\"sans-serif\" font-size=\"13\" lengthAdjust=\"spacingAndGlyphs\" textLength=\"7\" x=\"184\" y=\"389.5669\">y</text></a><!--MD5=[0d75d2178373a6a4568e5dc728f58aef]\n",
       "reverse link E8 to E6--><a href=\"psysml:f63e9e98-9395-484c-b7ba-710e403c3592\" target=\"_top\" title=\"psysml:f63e9e98-9395-484c-b7ba-710e403c3592\" xlink:actuate=\"onRequest\" xlink:href=\"psysml:f63e9e98-9395-484c-b7ba-710e403c3592\" xlink:show=\"new\" xlink:title=\"psysml:f63e9e98-9395-484c-b7ba-710e403c3592\" xlink:type=\"simple\"><path d=\"M160.42,603.02 C157.73,614.13 156.66,625.91 159,637 C161.16,647.24 165.48,657.91 169.79,666.91 \" fill=\"none\" id=\"E8&lt;-E6\" style=\"stroke: #383838; stroke-width: 1.0;\"/><polygon fill=\"#FFFFFF\" points=\"164.22,590.35,158.6675,594.9511,160.7791,601.8461,166.3316,597.245,164.22,590.35\" style=\"stroke: #383838; stroke-width: 1.0;\"/><text fill=\"#000000\" font-family=\"sans-serif\" font-size=\"13\" lengthAdjust=\"spacingAndGlyphs\" textLength=\"7\" x=\"160\" y=\"633.0669\">y</text></a><!--MD5=[0d75d2178373a6a4568e5dc728f58aef]\n",
       "reverse link E8 to E6--><a href=\"psysml:f63e9e98-9395-484c-b7ba-710e403c3592\" target=\"_top\" title=\"psysml:f63e9e98-9395-484c-b7ba-710e403c3592\" xlink:actuate=\"onRequest\" xlink:href=\"psysml:f63e9e98-9395-484c-b7ba-710e403c3592\" xlink:show=\"new\" xlink:title=\"psysml:f63e9e98-9395-484c-b7ba-710e403c3592\" xlink:type=\"simple\"><path d=\"M182.63,603.33 C182.47,625.16 182.29,649.6 182.16,666.77 \" fill=\"none\" id=\"E8&lt;-E6-1\" style=\"stroke: #383838; stroke-width: 1.0;\"/><polygon fill=\"#FFFFFF\" points=\"182.73,590.16,178.684,596.1291,182.6377,602.1596,186.6837,596.1906,182.73,590.16\" style=\"stroke: #383838; stroke-width: 1.0;\"/><text fill=\"#000000\" font-family=\"sans-serif\" font-size=\"13\" lengthAdjust=\"spacingAndGlyphs\" textLength=\"7\" x=\"183\" y=\"633.0669\">y</text></a><!--MD5=[23ac544a70576c3e717098101004234c]\n",
       "reverse link E9 to E10--><a href=\"psysml:f7fd9ae3-3fa5-48e2-b146-bf2078e3bf75\" target=\"_top\" title=\"psysml:f7fd9ae3-3fa5-48e2-b146-bf2078e3bf75\" xlink:actuate=\"onRequest\" xlink:href=\"psysml:f7fd9ae3-3fa5-48e2-b146-bf2078e3bf75\" xlink:show=\"new\" xlink:title=\"psysml:f7fd9ae3-3fa5-48e2-b146-bf2078e3bf75\" xlink:type=\"simple\"><path d=\"M131.16,99.57 C125.28,115.39 118.49,133.68 113.3,147.66 \" fill=\"none\" id=\"E9&lt;-E10\" style=\"stroke: #383838; stroke-width: 1.0;\"/><polygon fill=\"#FFFFFF\" points=\"135.82,87.01,129.9804,91.2408,131.6398,98.2584,137.4793,94.0276,135.82,87.01\" style=\"stroke: #383838; stroke-width: 1.0;\"/><text fill=\"#000000\" font-family=\"sans-serif\" font-size=\"13\" lengthAdjust=\"spacingAndGlyphs\" textLength=\"8\" x=\"106.4019\" y=\"136.8492\">1</text></a><!--MD5=[feeac5eb423634930294aa81f2d25a4c]\n",
       "link E10 to E3--><a href=\"psysml:09a722a7-3c7d-4d30-9bcf-d6d93c165304\" target=\"_top\" title=\"psysml:09a722a7-3c7d-4d30-9bcf-d6d93c165304\" xlink:actuate=\"onRequest\" xlink:href=\"psysml:09a722a7-3c7d-4d30-9bcf-d6d93c165304\" xlink:show=\"new\" xlink:title=\"psysml:09a722a7-3c7d-4d30-9bcf-d6d93c165304\" xlink:type=\"simple\"><path d=\"M121.35,194.01 C130.86,206.81 143.11,223.3 154.18,238.2 \" fill=\"none\" id=\"E10-&gt;E3\" style=\"stroke: #383838; stroke-width: 1.0;\"/><polygon fill=\"#FFFFFF\" points=\"166.4,254.66,149.4457,243.5896,160.6805,235.2361,166.4,254.66\" style=\"stroke: #383838; stroke-width: 1.0;\"/><ellipse cx=\"147.6496\" cy=\"237.8221\" fill=\"#383838\" rx=\"2\" ry=\"2\" style=\"stroke: #383838; stroke-width: 1.0;\"/><ellipse cx=\"155.6744\" cy=\"231.8554\" fill=\"#383838\" rx=\"2\" ry=\"2\" style=\"stroke: #383838; stroke-width: 1.0;\"/></a><!--MD5=[1fc04a95fd77ad5ce46c1a3027516051]\n",
       "reverse link E9 to E11--><a href=\"psysml:2308c13a-9c40-4baf-abe1-b4752fcfac30\" target=\"_top\" title=\"psysml:2308c13a-9c40-4baf-abe1-b4752fcfac30\" xlink:actuate=\"onRequest\" xlink:href=\"psysml:2308c13a-9c40-4baf-abe1-b4752fcfac30\" xlink:show=\"new\" xlink:title=\"psysml:2308c13a-9c40-4baf-abe1-b4752fcfac30\" xlink:type=\"simple\"><path d=\"M156.84,99.57 C162.72,115.39 169.51,133.68 174.7,147.66 \" fill=\"none\" id=\"E9&lt;-E11\" style=\"stroke: #383838; stroke-width: 1.0;\"/><polygon fill=\"#FFFFFF\" points=\"152.18,87.01,150.5207,94.0276,156.3602,98.2584,158.0196,91.2408,152.18,87.01\" style=\"stroke: #383838; stroke-width: 1.0;\"/><text fill=\"#000000\" font-family=\"sans-serif\" font-size=\"13\" lengthAdjust=\"spacingAndGlyphs\" textLength=\"8\" x=\"163.5481\" y=\"136.8492\">1</text></a><!--MD5=[0517f1ce58c4d5483948f93845c45e26]\n",
       "link E11 to E3--><a href=\"psysml:713baad2-05ac-404b-8904-f9720a0da3f6\" target=\"_top\" title=\"psysml:713baad2-05ac-404b-8904-f9720a0da3f6\" xlink:actuate=\"onRequest\" xlink:href=\"psysml:713baad2-05ac-404b-8904-f9720a0da3f6\" xlink:show=\"new\" xlink:title=\"psysml:713baad2-05ac-404b-8904-f9720a0da3f6\" xlink:type=\"simple\"><path d=\"M183,194.01 C183,205.69 183,220.46 183,234.28 \" fill=\"none\" id=\"E11-&gt;E3\" style=\"stroke: #383838; stroke-width: 1.0;\"/><polygon fill=\"#FFFFFF\" points=\"183,254.66,176,235.66,190,235.66,183,254.66\" style=\"stroke: #383838; stroke-width: 1.0;\"/><ellipse cx=\"178\" cy=\"229.96\" fill=\"#383838\" rx=\"2\" ry=\"2\" style=\"stroke: #383838; stroke-width: 1.0;\"/><ellipse cx=\"188\" cy=\"229.96\" fill=\"#383838\" rx=\"2\" ry=\"2\" style=\"stroke: #383838; stroke-width: 1.0;\"/></a><!--MD5=[48c8bf279200a6aadb67c2f9660bcaad]\n",
       "@startuml\r\n",
       "skinparam monochrome true\r\n",
       "skinparam classbackgroundcolor white\r\n",
       "skinparam shadowing false\r\n",
       "skinparam wrapWidth 300\r\n",
       "hide circle\r\n",
       "\r\n",
       "package \"ItemTest\" as E1  [[psysml:9c84b130-4496-45dd-acf0-f614adf4451b ]]  {\r\n",
       "comp usage \"f: A \" as E2  <<(T,blue) item>> [[psysml:046ce2e8-70d6-418b-9e34-4058f6a1e698 ]] {\r\n",
       "}\r\n",
       "comp def \"A\" as E3  <<(T,blue) item  def>> [[psysml:b761bda6-ef45-4173-adbe-8f17f5dd59b9 ]] {\r\n",
       "}\r\n",
       "comp usage \"b: B \" as E4  <<(T,blue) item>> [[psysml:5a9b7c1e-d921-40a5-84d4-dcafad1b8599 ]] {\r\n",
       "}\r\n",
       "comp usage \"c: C \" as E5  <<(T,blue) part>> [[psysml:c52e7c62-32ae-43e1-a51e-2d7f86512260 ]] {\r\n",
       "}\r\n",
       "comp def \"<i>B</i>\" as E6  <<(T,blue) item  def>> [[psysml:154f7142-f3c2-4f8f-a55c-1d31f59952e7 ]] {\r\n",
       "}\r\n",
       "comp usage \"<i>a</i>: A \" as E7  <<(T,blue) part>> [[psysml:3092a58e-bc17-492e-b3ac-d9b0c5d27ee1 ]] {\r\n",
       "}\r\n",
       "comp def \"C\" as E8  <<(T,blue) part  def>> [[psysml:a977dc12-1522-4e17-86ea-88834b4a9262 ]] {\r\n",
       "- - parameters - -\r\n",
       "<b>in</b> y: A, B\r\n",
       "}\r\n",
       "comp def \"P\" as E9  <<(T,blue) port  def>> [[psysml:505a0904-767f-4431-bdaf-f395e9a256c5 ]] {\r\n",
       "}\r\n",
       "comp usage \"a1: A \" as E10  <<(T,blue) item>> [[psysml:b48ee9ab-0a15-45ce-8465-86ae83c4be7f ]] {\r\n",
       "}\r\n",
       "comp usage \"a2: A \" as E11  <<(T,blue) item>> [[psysml:7b14a527-4e8d-41df-a91b-3ca9db44b1d9 ]] {\r\n",
       "}\r\n",
       "}\r\n",
       "E2 - -:|> E3 [[psysml:2913aa14-34e4-4ebc-b3c0-73cbbe37a712 ]] \r\n",
       "E3 *- - \"1\"E4 [[psysml:5a70b25d-3e65-48fe-9200-ece04e9de0ee ]] \r\n",
       "E3 o- - \"1\"E5 [[psysml:98aba136-2768-4c7e-bc34-95a5a6a911cd ]] \r\n",
       "E4 - -:|> E6 [[psysml:04be4dec-9fb2-423c-a400-1c82afc162c3 ]] \r\n",
       "E6 *- - \"1\"E7 [[psysml:88a05b08-39fe-46e7-8c9b-5df9e56fb426 ]] \r\n",
       "E7 - -:|> E3 [[psysml:de23f89f-df32-45d9-b344-47d8d19c4edc ]] \r\n",
       "E5 - -:|> E8 [[psysml:feaf6c57-7b20-4701-8323-0c325a1238bf ]] \r\n",
       "E8 o- - E3 [[psysml:f63e9e98-9395-484c-b7ba-710e403c3592 ]] : y\r\n",
       "E8 o- - E6 [[psysml:f63e9e98-9395-484c-b7ba-710e403c3592 ]] : y\r\n",
       "E8 o- - E3 [[psysml:f63e9e98-9395-484c-b7ba-710e403c3592 ]] : y\r\n",
       "E8 o- - E6 [[psysml:f63e9e98-9395-484c-b7ba-710e403c3592 ]] : y\r\n",
       "E9 o- - \"1\"E10 [[psysml:f7fd9ae3-3fa5-48e2-b146-bf2078e3bf75 ]] \r\n",
       "E10 - -:|> E3 [[psysml:09a722a7-3c7d-4d30-9bcf-d6d93c165304 ]] \r\n",
       "E9 o- - \"1\"E11 [[psysml:2308c13a-9c40-4baf-abe1-b4752fcfac30 ]] \r\n",
       "E11 - -:|> E3 [[psysml:713baad2-05ac-404b-8904-f9720a0da3f6 ]] \r\n",
       "@enduml\r\n",
       "\n",
       "PlantUML version 1.2020.13(Sat Jun 13 12:26:38 UTC 2020)\n",
       "(EPL source distribution)\n",
       "Java Runtime: OpenJDK Runtime Environment\n",
       "JVM: OpenJDK 64-Bit Server VM\n",
       "Default Encoding: UTF-8\n",
       "Language: en\n",
       "Country: null\n",
       "--></g></svg>"
      ]
     },
     "execution_count": 43,
     "metadata": {},
     "output_type": "execute_result"
    }
   ],
   "source": [
    "%viz --style=\"DEFAULT\" --view=\"MIXED\" \"ItemTest\""
   ]
  },
  {
   "cell_type": "code",
   "execution_count": 44,
   "id": "a921612f",
   "metadata": {
    "execution": {
     "iopub.execute_input": "2021-10-25T08:20:56.003696Z",
     "iopub.status.busy": "2021-10-25T08:20:56.003290Z",
     "iopub.status.idle": "2021-10-25T08:20:56.061670Z",
     "shell.execute_reply": "2021-10-25T08:20:56.061831Z"
    }
   },
   "outputs": [
    {
     "data": {
      "image/svg+xml": [
       "<?xml version=\"1.0\" encoding=\"UTF-8\" standalone=\"no\"?><svg xmlns=\"http://www.w3.org/2000/svg\" xmlns:xlink=\"http://www.w3.org/1999/xlink\" contentScriptType=\"application/ecmascript\" contentStyleType=\"text/css\" height=\"848px\" preserveAspectRatio=\"none\" style=\"width:344px;height:848px;\" version=\"1.1\" viewBox=\"0 0 344 848\" width=\"344px\" zoomAndPan=\"magnify\"><defs/><g><!--MD5=[fbc87193dbaf4d95561dea2c320d4a47]\n",
       "cluster E1--><a href=\"psysml:9c84b130-4496-45dd-acf0-f614adf4451b\" target=\"_top\" title=\"psysml:9c84b130-4496-45dd-acf0-f614adf4451b\" xlink:actuate=\"onRequest\" xlink:href=\"psysml:9c84b130-4496-45dd-acf0-f614adf4451b\" xlink:show=\"new\" xlink:title=\"psysml:9c84b130-4496-45dd-acf0-f614adf4451b\" xlink:type=\"simple\"><polygon fill=\"#FFFFFF\" points=\"16,6,83,6,90,28.2969,322,28.2969,322,836,16,836,16,6\" style=\"stroke: #000000; stroke-width: 1.5;\"/><line style=\"stroke: #000000; stroke-width: 1.5;\" x1=\"16\" x2=\"90\" y1=\"28.2969\" y2=\"28.2969\"/><text fill=\"#000000\" font-family=\"sans-serif\" font-size=\"14\" font-weight=\"bold\" lengthAdjust=\"spacingAndGlyphs\" textLength=\"61\" x=\"20\" y=\"20.9951\">ItemTest</text></a><!--MD5=[b4997ac47864f28c2f74865a473b2911]\n",
       "class E2--><a href=\"psysml:046ce2e8-70d6-418b-9e34-4058f6a1e698\" target=\"_top\" title=\"psysml:046ce2e8-70d6-418b-9e34-4058f6a1e698\" xlink:actuate=\"onRequest\" xlink:href=\"psysml:046ce2e8-70d6-418b-9e34-4058f6a1e698\" xlink:show=\"new\" xlink:title=\"psysml:046ce2e8-70d6-418b-9e34-4058f6a1e698\" xlink:type=\"simple\"><rect fill=\"#FFFFFF\" height=\"45.9375\" id=\"E2\" rx=\"10\" ry=\"10\" style=\"stroke: #383838; stroke-width: 1.5;\" width=\"43\" x=\"239.5\" y=\"148\"/><text fill=\"#000000\" font-family=\"sans-serif\" font-size=\"12\" font-style=\"italic\" lengthAdjust=\"spacingAndGlyphs\" textLength=\"41\" x=\"240.5\" y=\"164.1387\">«item»</text><text fill=\"#000000\" font-family=\"sans-serif\" font-size=\"12\" lengthAdjust=\"spacingAndGlyphs\" textLength=\"20\" x=\"249\" y=\"178.1074\">f: A</text><line style=\"stroke: #383838; stroke-width: 1.5;\" x1=\"240.5\" x2=\"281.5\" y1=\"185.9375\" y2=\"185.9375\"/></a><!--MD5=[09b614a08d8cba4a07c9adeb5e0fee81]\n",
       "class E3--><a href=\"psysml:b761bda6-ef45-4173-adbe-8f17f5dd59b9\" target=\"_top\" title=\"psysml:b761bda6-ef45-4173-adbe-8f17f5dd59b9\" xlink:actuate=\"onRequest\" xlink:href=\"psysml:b761bda6-ef45-4173-adbe-8f17f5dd59b9\" xlink:show=\"new\" xlink:title=\"psysml:b761bda6-ef45-4173-adbe-8f17f5dd59b9\" xlink:type=\"simple\"><rect fill=\"#FFFFFF\" height=\"45.9375\" id=\"E3\" style=\"stroke: #383838; stroke-width: 1.5;\" width=\"71\" x=\"147.5\" y=\"255\"/><text fill=\"#000000\" font-family=\"sans-serif\" font-size=\"12\" font-style=\"italic\" lengthAdjust=\"spacingAndGlyphs\" textLength=\"69\" x=\"148.5\" y=\"271.1387\">«item  def»</text><text fill=\"#000000\" font-family=\"sans-serif\" font-size=\"12\" lengthAdjust=\"spacingAndGlyphs\" textLength=\"8\" x=\"179\" y=\"285.1074\">A</text><line style=\"stroke: #383838; stroke-width: 1.5;\" x1=\"148.5\" x2=\"217.5\" y1=\"292.9375\" y2=\"292.9375\"/></a><!--MD5=[ebbe1d658d1005bcc118a6aa81145e00]\n",
       "class E4--><a href=\"psysml:5a9b7c1e-d921-40a5-84d4-dcafad1b8599\" target=\"_top\" title=\"psysml:5a9b7c1e-d921-40a5-84d4-dcafad1b8599\" xlink:actuate=\"onRequest\" xlink:href=\"psysml:5a9b7c1e-d921-40a5-84d4-dcafad1b8599\" xlink:show=\"new\" xlink:title=\"psysml:5a9b7c1e-d921-40a5-84d4-dcafad1b8599\" xlink:type=\"simple\"><rect fill=\"#FFFFFF\" height=\"45.9375\" id=\"E4\" rx=\"10\" ry=\"10\" style=\"stroke: #383838; stroke-width: 1.5;\" width=\"43\" x=\"255.5\" y=\"438\"/><text fill=\"#000000\" font-family=\"sans-serif\" font-size=\"12\" font-style=\"italic\" lengthAdjust=\"spacingAndGlyphs\" textLength=\"41\" x=\"256.5\" y=\"454.1387\">«item»</text><text fill=\"#000000\" font-family=\"sans-serif\" font-size=\"12\" lengthAdjust=\"spacingAndGlyphs\" textLength=\"24\" x=\"263\" y=\"468.1074\">b: B</text><line style=\"stroke: #383838; stroke-width: 1.5;\" x1=\"256.5\" x2=\"297.5\" y1=\"475.9375\" y2=\"475.9375\"/></a><!--MD5=[270fce915f116d4de14055a7c1d9a0f3]\n",
       "class E5--><a href=\"psysml:c52e7c62-32ae-43e1-a51e-2d7f86512260\" target=\"_top\" title=\"psysml:c52e7c62-32ae-43e1-a51e-2d7f86512260\" xlink:actuate=\"onRequest\" xlink:href=\"psysml:c52e7c62-32ae-43e1-a51e-2d7f86512260\" xlink:show=\"new\" xlink:title=\"psysml:c52e7c62-32ae-43e1-a51e-2d7f86512260\" xlink:type=\"simple\"><rect fill=\"#FFFFFF\" height=\"45.9375\" id=\"E5\" rx=\"10\" ry=\"10\" style=\"stroke: #383838; stroke-width: 1.5;\" width=\"42\" x=\"227\" y=\"362\"/><text fill=\"#000000\" font-family=\"sans-serif\" font-size=\"12\" font-style=\"italic\" lengthAdjust=\"spacingAndGlyphs\" textLength=\"40\" x=\"228\" y=\"378.1387\">«part»</text><text fill=\"#000000\" font-family=\"sans-serif\" font-size=\"12\" lengthAdjust=\"spacingAndGlyphs\" textLength=\"23\" x=\"234.5\" y=\"392.1074\">c: C</text><line style=\"stroke: #383838; stroke-width: 1.5;\" x1=\"228\" x2=\"268\" y1=\"399.9375\" y2=\"399.9375\"/></a><!--MD5=[60a26617385b1d2d0262a64233df1f8d]\n",
       "class E6--><a href=\"psysml:154f7142-f3c2-4f8f-a55c-1d31f59952e7\" target=\"_top\" title=\"psysml:154f7142-f3c2-4f8f-a55c-1d31f59952e7\" xlink:actuate=\"onRequest\" xlink:href=\"psysml:154f7142-f3c2-4f8f-a55c-1d31f59952e7\" xlink:show=\"new\" xlink:title=\"psysml:154f7142-f3c2-4f8f-a55c-1d31f59952e7\" xlink:type=\"simple\"><rect fill=\"#FFFFFF\" height=\"45.9375\" id=\"E6\" style=\"stroke: #383838; stroke-width: 1.5;\" width=\"71\" x=\"146.5\" y=\"667\"/><text fill=\"#000000\" font-family=\"sans-serif\" font-size=\"12\" font-style=\"italic\" lengthAdjust=\"spacingAndGlyphs\" textLength=\"69\" x=\"147.5\" y=\"683.1387\">«item  def»</text><text fill=\"#000000\" font-family=\"sans-serif\" font-size=\"12\" font-style=\"italic\" lengthAdjust=\"spacingAndGlyphs\" textLength=\"8\" x=\"178\" y=\"697.1074\">B</text><line style=\"stroke: #383838; stroke-width: 1.5;\" x1=\"147.5\" x2=\"216.5\" y1=\"704.9375\" y2=\"704.9375\"/></a><!--MD5=[2156ba9850f5573cc1fc38a6a4b2f02b]\n",
       "class E7--><a href=\"psysml:3092a58e-bc17-492e-b3ac-d9b0c5d27ee1\" target=\"_top\" title=\"psysml:3092a58e-bc17-492e-b3ac-d9b0c5d27ee1\" xlink:actuate=\"onRequest\" xlink:href=\"psysml:3092a58e-bc17-492e-b3ac-d9b0c5d27ee1\" xlink:show=\"new\" xlink:title=\"psysml:3092a58e-bc17-492e-b3ac-d9b0c5d27ee1\" xlink:type=\"simple\"><rect fill=\"#FFFFFF\" height=\"45.9375\" id=\"E7\" rx=\"10\" ry=\"10\" style=\"stroke: #383838; stroke-width: 1.5;\" width=\"42\" x=\"96\" y=\"774\"/><text fill=\"#000000\" font-family=\"sans-serif\" font-size=\"12\" font-style=\"italic\" lengthAdjust=\"spacingAndGlyphs\" textLength=\"40\" x=\"97\" y=\"790.1387\">«part»</text><text fill=\"#000000\" font-family=\"sans-serif\" font-size=\"12\" font-style=\"italic\" lengthAdjust=\"spacingAndGlyphs\" textLength=\"8\" x=\"103\" y=\"804.1074\">a</text><text fill=\"#000000\" font-family=\"sans-serif\" font-size=\"12\" lengthAdjust=\"spacingAndGlyphs\" textLength=\"16\" x=\"111\" y=\"804.1074\">: A</text><line style=\"stroke: #383838; stroke-width: 1.5;\" x1=\"97\" x2=\"137\" y1=\"811.9375\" y2=\"811.9375\"/></a><!--MD5=[b9389687b975829384b498ac4b7476b2]\n",
       "class E8--><a href=\"psysml:a977dc12-1522-4e17-86ea-88834b4a9262\" target=\"_top\" title=\"psysml:a977dc12-1522-4e17-86ea-88834b4a9262\" xlink:actuate=\"onRequest\" xlink:href=\"psysml:a977dc12-1522-4e17-86ea-88834b4a9262\" xlink:show=\"new\" xlink:title=\"psysml:a977dc12-1522-4e17-86ea-88834b4a9262\" xlink:type=\"simple\"><rect fill=\"#FFFFFF\" height=\"75.5469\" id=\"E8\" style=\"stroke: #383838; stroke-width: 1.5;\" width=\"75\" x=\"145.5\" y=\"514\"/><text fill=\"#000000\" font-family=\"sans-serif\" font-size=\"12\" font-style=\"italic\" lengthAdjust=\"spacingAndGlyphs\" textLength=\"68\" x=\"149\" y=\"530.1387\">«part  def»</text><text fill=\"#000000\" font-family=\"sans-serif\" font-size=\"12\" lengthAdjust=\"spacingAndGlyphs\" textLength=\"8\" x=\"179\" y=\"544.1074\">C</text><line style=\"stroke: #383838; stroke-width: 1.5;\" x1=\"146.5\" x2=\"219.5\" y1=\"551.9375\" y2=\"551.9375\"/><text fill=\"#000000\" font-family=\"sans-serif\" font-size=\"11\" font-weight=\"bold\" lengthAdjust=\"spacingAndGlyphs\" textLength=\"10\" x=\"151.5\" y=\"582.9526\">in</text><text fill=\"#000000\" font-family=\"sans-serif\" font-size=\"11\" lengthAdjust=\"spacingAndGlyphs\" textLength=\"37\" x=\"165.5\" y=\"582.9526\">y: A, B</text><line style=\"stroke: #383838; stroke-width: 1.0;\" x1=\"146.5\" x2=\"149.5\" y1=\"566.3398\" y2=\"566.3398\"/><text fill=\"#000000\" font-family=\"sans-serif\" font-size=\"11\" lengthAdjust=\"spacingAndGlyphs\" textLength=\"67\" x=\"149.5\" y=\"569.6479\">parameters</text><line style=\"stroke: #383838; stroke-width: 1.0;\" x1=\"216.5\" x2=\"219.5\" y1=\"566.3398\" y2=\"566.3398\"/></a><!--MD5=[fd4143e9d270a159db93a4ea2a975926]\n",
       "class E9--><a href=\"psysml:505a0904-767f-4431-bdaf-f395e9a256c5\" target=\"_top\" title=\"psysml:505a0904-767f-4431-bdaf-f395e9a256c5\" xlink:actuate=\"onRequest\" xlink:href=\"psysml:505a0904-767f-4431-bdaf-f395e9a256c5\" xlink:show=\"new\" xlink:title=\"psysml:505a0904-767f-4431-bdaf-f395e9a256c5\" xlink:type=\"simple\"><rect fill=\"#FFFFFF\" height=\"45.9375\" id=\"E9\" style=\"stroke: #383838; stroke-width: 1.5;\" width=\"70\" x=\"109\" y=\"41\"/><text fill=\"#000000\" font-family=\"sans-serif\" font-size=\"12\" font-style=\"italic\" lengthAdjust=\"spacingAndGlyphs\" textLength=\"68\" x=\"110\" y=\"57.1387\">«port  def»</text><text fill=\"#000000\" font-family=\"sans-serif\" font-size=\"12\" lengthAdjust=\"spacingAndGlyphs\" textLength=\"8\" x=\"140\" y=\"71.1074\">P</text><line style=\"stroke: #383838; stroke-width: 1.5;\" x1=\"110\" x2=\"178\" y1=\"78.9375\" y2=\"78.9375\"/></a><!--MD5=[96f4274e9e20536e775497830990834d]\n",
       "class E10--><a href=\"psysml:b48ee9ab-0a15-45ce-8465-86ae83c4be7f\" target=\"_top\" title=\"psysml:b48ee9ab-0a15-45ce-8465-86ae83c4be7f\" xlink:actuate=\"onRequest\" xlink:href=\"psysml:b48ee9ab-0a15-45ce-8465-86ae83c4be7f\" xlink:show=\"new\" xlink:title=\"psysml:b48ee9ab-0a15-45ce-8465-86ae83c4be7f\" xlink:type=\"simple\"><rect fill=\"#FFFFFF\" height=\"45.9375\" id=\"E10\" rx=\"10\" ry=\"10\" style=\"stroke: #383838; stroke-width: 1.5;\" width=\"43\" x=\"83.5\" y=\"148\"/><text fill=\"#000000\" font-family=\"sans-serif\" font-size=\"12\" font-style=\"italic\" lengthAdjust=\"spacingAndGlyphs\" textLength=\"41\" x=\"84.5\" y=\"164.1387\">«item»</text><text fill=\"#000000\" font-family=\"sans-serif\" font-size=\"12\" lengthAdjust=\"spacingAndGlyphs\" textLength=\"32\" x=\"87\" y=\"178.1074\">a1: A</text><line style=\"stroke: #383838; stroke-width: 1.5;\" x1=\"84.5\" x2=\"125.5\" y1=\"185.9375\" y2=\"185.9375\"/></a><!--MD5=[1dd1bfd58a279cf63c5f349dbc8fc6a1]\n",
       "class E11--><a href=\"psysml:7b14a527-4e8d-41df-a91b-3ca9db44b1d9\" target=\"_top\" title=\"psysml:7b14a527-4e8d-41df-a91b-3ca9db44b1d9\" xlink:actuate=\"onRequest\" xlink:href=\"psysml:7b14a527-4e8d-41df-a91b-3ca9db44b1d9\" xlink:show=\"new\" xlink:title=\"psysml:7b14a527-4e8d-41df-a91b-3ca9db44b1d9\" xlink:type=\"simple\"><rect fill=\"#FFFFFF\" height=\"45.9375\" id=\"E11\" rx=\"10\" ry=\"10\" style=\"stroke: #383838; stroke-width: 1.5;\" width=\"43\" x=\"161.5\" y=\"148\"/><text fill=\"#000000\" font-family=\"sans-serif\" font-size=\"12\" font-style=\"italic\" lengthAdjust=\"spacingAndGlyphs\" textLength=\"41\" x=\"162.5\" y=\"164.1387\">«item»</text><text fill=\"#000000\" font-family=\"sans-serif\" font-size=\"12\" lengthAdjust=\"spacingAndGlyphs\" textLength=\"32\" x=\"165\" y=\"178.1074\">a2: A</text><line style=\"stroke: #383838; stroke-width: 1.5;\" x1=\"162.5\" x2=\"203.5\" y1=\"185.9375\" y2=\"185.9375\"/></a><!--MD5=[2720a5a1f2c3fca2055b230370638851]\n",
       "link E2 to E3--><a href=\"psysml:2913aa14-34e4-4ebc-b3c0-73cbbe37a712\" target=\"_top\" title=\"psysml:2913aa14-34e4-4ebc-b3c0-73cbbe37a712\" xlink:actuate=\"onRequest\" xlink:href=\"psysml:2913aa14-34e4-4ebc-b3c0-73cbbe37a712\" xlink:show=\"new\" xlink:title=\"psysml:2913aa14-34e4-4ebc-b3c0-73cbbe37a712\" xlink:type=\"simple\"><path d=\"M244.65,194.01 C235.14,206.81 222.89,223.3 211.82,238.2 \" fill=\"none\" id=\"E2-&gt;E3\" style=\"stroke: #383838; stroke-width: 1.0;\"/><polygon fill=\"#FFFFFF\" points=\"199.6,254.66,205.3195,235.2361,216.5543,243.5896,199.6,254.66\" style=\"stroke: #383838; stroke-width: 1.0;\"/><ellipse cx=\"210.3256\" cy=\"231.8554\" fill=\"#383838\" rx=\"2\" ry=\"2\" style=\"stroke: #383838; stroke-width: 1.0;\"/><ellipse cx=\"218.3504\" cy=\"237.8221\" fill=\"#383838\" rx=\"2\" ry=\"2\" style=\"stroke: #383838; stroke-width: 1.0;\"/></a><!--MD5=[4672eba38e49728da53d11aeb285b987]\n",
       "reverse link E3 to E4--><a href=\"psysml:5a70b25d-3e65-48fe-9200-ece04e9de0ee\" target=\"_top\" title=\"psysml:5a70b25d-3e65-48fe-9200-ece04e9de0ee\" xlink:actuate=\"onRequest\" xlink:href=\"psysml:5a70b25d-3e65-48fe-9200-ece04e9de0ee\" xlink:show=\"new\" xlink:title=\"psysml:5a70b25d-3e65-48fe-9200-ece04e9de0ee\" xlink:type=\"simple\"><path d=\"M229.65,303.21 C251.35,317.2 274.97,337.01 287,362 C298.57,386.04 292.33,417.17 285.68,437.83 \" fill=\"none\" id=\"E3&lt;-E4\" style=\"stroke: #383838; stroke-width: 1.0;\"/><polygon fill=\"#383838\" points=\"218.55,296.43,221.5791,302.974,228.7848,302.6949,225.7557,296.1508,218.55,296.43\" style=\"stroke: #383838; stroke-width: 1.0;\"/><text fill=\"#000000\" font-family=\"sans-serif\" font-size=\"13\" lengthAdjust=\"spacingAndGlyphs\" textLength=\"8\" x=\"278.8793\" y=\"427.0627\">1</text></a><!--MD5=[191cde3d490a3f6d7bb551fe3ddca469]\n",
       "reverse link E3 to E5--><a href=\"psysml:98aba136-2768-4c7e-bc34-95a5a6a911cd\" target=\"_top\" title=\"psysml:98aba136-2768-4c7e-bc34-95a5a6a911cd\" xlink:actuate=\"onRequest\" xlink:href=\"psysml:98aba136-2768-4c7e-bc34-95a5a6a911cd\" xlink:show=\"new\" xlink:title=\"psysml:98aba136-2768-4c7e-bc34-95a5a6a911cd\" xlink:type=\"simple\"><path d=\"M203.52,312.15 C213.51,328.29 225.26,347.26 234.17,361.66 \" fill=\"none\" id=\"E3&lt;-E5\" style=\"stroke: #383838; stroke-width: 1.0;\"/><polygon fill=\"#FFFFFF\" points=\"196.63,301.01,196.3861,308.217,202.9449,311.214,203.1888,304.007,196.63,301.01\" style=\"stroke: #383838; stroke-width: 1.0;\"/><text fill=\"#000000\" font-family=\"sans-serif\" font-size=\"13\" lengthAdjust=\"spacingAndGlyphs\" textLength=\"8\" x=\"221.6011\" y=\"350.8492\">1</text></a><!--MD5=[79568f1e445c3877b6a54524624ccc7d]\n",
       "link E4 to E6--><a href=\"psysml:04be4dec-9fb2-423c-a400-1c82afc162c3\" target=\"_top\" title=\"psysml:04be4dec-9fb2-423c-a400-1c82afc162c3\" xlink:actuate=\"onRequest\" xlink:href=\"psysml:04be4dec-9fb2-423c-a400-1c82afc162c3\" xlink:show=\"new\" xlink:title=\"psysml:04be4dec-9fb2-423c-a400-1c82afc162c3\" xlink:type=\"simple\"><path d=\"M271.8,484.26 C265.37,510.22 253.39,554.13 238,590 C229.26,610.36 217.43,631.9 206.88,649.66 \" fill=\"none\" id=\"E4-&gt;E6\" style=\"stroke: #383838; stroke-width: 1.0;\"/><polygon fill=\"#FFFFFF\" points=\"196.36,666.92,200.2791,647.0544,212.2307,654.3454,196.36,666.92\" style=\"stroke: #383838; stroke-width: 1.0;\"/><ellipse cx=\"204.955\" cy=\"643.23\" fill=\"#383838\" rx=\"2\" ry=\"2\" style=\"stroke: #383838; stroke-width: 1.0;\"/><ellipse cx=\"213.4918\" cy=\"648.4378\" fill=\"#383838\" rx=\"2\" ry=\"2\" style=\"stroke: #383838; stroke-width: 1.0;\"/></a><!--MD5=[3f50a3473f1dfb74d3f76443e03635af]\n",
       "reverse link E6 to E7--><a href=\"psysml:88a05b08-39fe-46e7-8c9b-5df9e56fb426\" target=\"_top\" title=\"psysml:88a05b08-39fe-46e7-8c9b-5df9e56fb426\" xlink:actuate=\"onRequest\" xlink:href=\"psysml:88a05b08-39fe-46e7-8c9b-5df9e56fb426\" xlink:show=\"new\" xlink:title=\"psysml:88a05b08-39fe-46e7-8c9b-5df9e56fb426\" xlink:type=\"simple\"><path d=\"M161.48,724.15 C151.49,740.29 139.74,759.26 130.83,773.66 \" fill=\"none\" id=\"E6&lt;-E7\" style=\"stroke: #383838; stroke-width: 1.0;\"/><polygon fill=\"#383838\" points=\"168.37,713.01,161.8112,716.007,162.0551,723.214,168.6139,720.217,168.37,713.01\" style=\"stroke: #383838; stroke-width: 1.0;\"/><text fill=\"#000000\" font-family=\"sans-serif\" font-size=\"13\" lengthAdjust=\"spacingAndGlyphs\" textLength=\"8\" x=\"125.3489\" y=\"762.8492\">1</text></a><!--MD5=[14ccda38c055a5c0da953d572bc50960]\n",
       "link E7 to E3--><a href=\"psysml:de23f89f-df32-45d9-b344-47d8d19c4edc\" target=\"_top\" title=\"psysml:de23f89f-df32-45d9-b344-47d8d19c4edc\" xlink:actuate=\"onRequest\" xlink:href=\"psysml:de23f89f-df32-45d9-b344-47d8d19c4edc\" xlink:show=\"new\" xlink:title=\"psysml:de23f89f-df32-45d9-b344-47d8d19c4edc\" xlink:type=\"simple\"><path d=\"M95.8,782.47 C70.92,764.75 33,731.15 33,691 C33,384 33,384 33,384 C33,335.87 85.48,307.94 128.35,293.16 \" fill=\"none\" id=\"E7-&gt;E3\" style=\"stroke: #383838; stroke-width: 1.0;\"/><polygon fill=\"#FFFFFF\" points=\"147.45,287.18,131.4154,299.545,127.2259,286.1865,147.45,287.18\" style=\"stroke: #383838; stroke-width: 1.0;\"/><ellipse cx=\"125.3781\" cy=\"299.3424\" fill=\"#383838\" rx=\"2\" ry=\"2\" style=\"stroke: #383838; stroke-width: 1.0;\"/><ellipse cx=\"122.3856\" cy=\"289.8006\" fill=\"#383838\" rx=\"2\" ry=\"2\" style=\"stroke: #383838; stroke-width: 1.0;\"/></a><!--MD5=[dfaffb906826c3e5aca635516100ff21]\n",
       "link E5 to E8--><a href=\"psysml:feaf6c57-7b20-4701-8323-0c325a1238bf\" target=\"_top\" title=\"psysml:feaf6c57-7b20-4701-8323-0c325a1238bf\" xlink:actuate=\"onRequest\" xlink:href=\"psysml:feaf6c57-7b20-4701-8323-0c325a1238bf\" xlink:show=\"new\" xlink:title=\"psysml:feaf6c57-7b20-4701-8323-0c325a1238bf\" xlink:type=\"simple\"><path d=\"M239.23,408.25 C230.48,430.48 216.67,465.53 204.93,495.33 \" fill=\"none\" id=\"E5-&gt;E8\" style=\"stroke: #383838; stroke-width: 1.0;\"/><polygon fill=\"#FFFFFF\" points=\"197.58,513.98,198.027,493.7365,211.0538,498.8652,197.58,513.98\" style=\"stroke: #383838; stroke-width: 1.0;\"/><ellipse cx=\"201.9761\" cy=\"489.1654\" fill=\"#383838\" rx=\"2\" ry=\"2\" style=\"stroke: #383838; stroke-width: 1.0;\"/><ellipse cx=\"211.2809\" cy=\"492.8288\" fill=\"#383838\" rx=\"2\" ry=\"2\" style=\"stroke: #383838; stroke-width: 1.0;\"/></a><!--MD5=[03c8294790d3c57651a1993cecff665f]\n",
       "reverse link E8 to E3--><a href=\"psysml:f63e9e98-9395-484c-b7ba-710e403c3592\" target=\"_top\" title=\"psysml:f63e9e98-9395-484c-b7ba-710e403c3592\" xlink:actuate=\"onRequest\" xlink:href=\"psysml:f63e9e98-9395-484c-b7ba-710e403c3592\" xlink:show=\"new\" xlink:title=\"psysml:f63e9e98-9395-484c-b7ba-710e403c3592\" xlink:type=\"simple\"><path d=\"M154.57,502.18 C135.93,463.97 117.34,409.52 131,362 C137.48,339.45 152.09,317.09 164.17,301.27 \" fill=\"none\" id=\"E8&lt;-E3\" style=\"stroke: #383838; stroke-width: 1.0;\"/><polygon fill=\"#FFFFFF\" points=\"160.58,513.99,161.4217,506.8282,155.1345,503.2967,154.2928,510.4585,160.58,513.99\" style=\"stroke: #383838; stroke-width: 1.0;\"/><text fill=\"#000000\" font-family=\"sans-serif\" font-size=\"13\" lengthAdjust=\"spacingAndGlyphs\" textLength=\"7\" x=\"132\" y=\"389.5669\">y</text></a><!--MD5=[03c8294790d3c57651a1993cecff665f]\n",
       "reverse link E8 to E3--><a href=\"psysml:f63e9e98-9395-484c-b7ba-710e403c3592\" target=\"_top\" title=\"psysml:f63e9e98-9395-484c-b7ba-710e403c3592\" xlink:actuate=\"onRequest\" xlink:href=\"psysml:f63e9e98-9395-484c-b7ba-710e403c3592\" xlink:show=\"new\" xlink:title=\"psysml:f63e9e98-9395-484c-b7ba-710e403c3592\" xlink:type=\"simple\"><path d=\"M183,500.73 C183,441.17 183,344.58 183,301.26 \" fill=\"none\" id=\"E8&lt;-E3-1\" style=\"stroke: #383838; stroke-width: 1.0;\"/><polygon fill=\"#FFFFFF\" points=\"183,513.93,187,507.93,183,501.93,179,507.93,183,513.93\" style=\"stroke: #383838; stroke-width: 1.0;\"/><text fill=\"#000000\" font-family=\"sans-serif\" font-size=\"13\" lengthAdjust=\"spacingAndGlyphs\" textLength=\"7\" x=\"184\" y=\"389.5669\">y</text></a><!--MD5=[0d75d2178373a6a4568e5dc728f58aef]\n",
       "reverse link E8 to E6--><a href=\"psysml:f63e9e98-9395-484c-b7ba-710e403c3592\" target=\"_top\" title=\"psysml:f63e9e98-9395-484c-b7ba-710e403c3592\" xlink:actuate=\"onRequest\" xlink:href=\"psysml:f63e9e98-9395-484c-b7ba-710e403c3592\" xlink:show=\"new\" xlink:title=\"psysml:f63e9e98-9395-484c-b7ba-710e403c3592\" xlink:type=\"simple\"><path d=\"M160.42,603.02 C157.73,614.13 156.66,625.91 159,637 C161.16,647.24 165.48,657.91 169.79,666.91 \" fill=\"none\" id=\"E8&lt;-E6\" style=\"stroke: #383838; stroke-width: 1.0;\"/><polygon fill=\"#FFFFFF\" points=\"164.22,590.35,158.6675,594.9511,160.7791,601.8461,166.3316,597.245,164.22,590.35\" style=\"stroke: #383838; stroke-width: 1.0;\"/><text fill=\"#000000\" font-family=\"sans-serif\" font-size=\"13\" lengthAdjust=\"spacingAndGlyphs\" textLength=\"7\" x=\"160\" y=\"633.0669\">y</text></a><!--MD5=[0d75d2178373a6a4568e5dc728f58aef]\n",
       "reverse link E8 to E6--><a href=\"psysml:f63e9e98-9395-484c-b7ba-710e403c3592\" target=\"_top\" title=\"psysml:f63e9e98-9395-484c-b7ba-710e403c3592\" xlink:actuate=\"onRequest\" xlink:href=\"psysml:f63e9e98-9395-484c-b7ba-710e403c3592\" xlink:show=\"new\" xlink:title=\"psysml:f63e9e98-9395-484c-b7ba-710e403c3592\" xlink:type=\"simple\"><path d=\"M182.63,603.33 C182.47,625.16 182.29,649.6 182.16,666.77 \" fill=\"none\" id=\"E8&lt;-E6-1\" style=\"stroke: #383838; stroke-width: 1.0;\"/><polygon fill=\"#FFFFFF\" points=\"182.73,590.16,178.684,596.1291,182.6377,602.1596,186.6837,596.1906,182.73,590.16\" style=\"stroke: #383838; stroke-width: 1.0;\"/><text fill=\"#000000\" font-family=\"sans-serif\" font-size=\"13\" lengthAdjust=\"spacingAndGlyphs\" textLength=\"7\" x=\"183\" y=\"633.0669\">y</text></a><!--MD5=[23ac544a70576c3e717098101004234c]\n",
       "reverse link E9 to E10--><a href=\"psysml:f7fd9ae3-3fa5-48e2-b146-bf2078e3bf75\" target=\"_top\" title=\"psysml:f7fd9ae3-3fa5-48e2-b146-bf2078e3bf75\" xlink:actuate=\"onRequest\" xlink:href=\"psysml:f7fd9ae3-3fa5-48e2-b146-bf2078e3bf75\" xlink:show=\"new\" xlink:title=\"psysml:f7fd9ae3-3fa5-48e2-b146-bf2078e3bf75\" xlink:type=\"simple\"><path d=\"M131.16,99.57 C125.28,115.39 118.49,133.68 113.3,147.66 \" fill=\"none\" id=\"E9&lt;-E10\" style=\"stroke: #383838; stroke-width: 1.0;\"/><polygon fill=\"#FFFFFF\" points=\"135.82,87.01,129.9804,91.2408,131.6398,98.2584,137.4793,94.0276,135.82,87.01\" style=\"stroke: #383838; stroke-width: 1.0;\"/><text fill=\"#000000\" font-family=\"sans-serif\" font-size=\"13\" lengthAdjust=\"spacingAndGlyphs\" textLength=\"8\" x=\"106.4019\" y=\"136.8492\">1</text></a><!--MD5=[feeac5eb423634930294aa81f2d25a4c]\n",
       "link E10 to E3--><a href=\"psysml:09a722a7-3c7d-4d30-9bcf-d6d93c165304\" target=\"_top\" title=\"psysml:09a722a7-3c7d-4d30-9bcf-d6d93c165304\" xlink:actuate=\"onRequest\" xlink:href=\"psysml:09a722a7-3c7d-4d30-9bcf-d6d93c165304\" xlink:show=\"new\" xlink:title=\"psysml:09a722a7-3c7d-4d30-9bcf-d6d93c165304\" xlink:type=\"simple\"><path d=\"M121.35,194.01 C130.86,206.81 143.11,223.3 154.18,238.2 \" fill=\"none\" id=\"E10-&gt;E3\" style=\"stroke: #383838; stroke-width: 1.0;\"/><polygon fill=\"#FFFFFF\" points=\"166.4,254.66,149.4457,243.5896,160.6805,235.2361,166.4,254.66\" style=\"stroke: #383838; stroke-width: 1.0;\"/><ellipse cx=\"147.6496\" cy=\"237.8221\" fill=\"#383838\" rx=\"2\" ry=\"2\" style=\"stroke: #383838; stroke-width: 1.0;\"/><ellipse cx=\"155.6744\" cy=\"231.8554\" fill=\"#383838\" rx=\"2\" ry=\"2\" style=\"stroke: #383838; stroke-width: 1.0;\"/></a><!--MD5=[1fc04a95fd77ad5ce46c1a3027516051]\n",
       "reverse link E9 to E11--><a href=\"psysml:2308c13a-9c40-4baf-abe1-b4752fcfac30\" target=\"_top\" title=\"psysml:2308c13a-9c40-4baf-abe1-b4752fcfac30\" xlink:actuate=\"onRequest\" xlink:href=\"psysml:2308c13a-9c40-4baf-abe1-b4752fcfac30\" xlink:show=\"new\" xlink:title=\"psysml:2308c13a-9c40-4baf-abe1-b4752fcfac30\" xlink:type=\"simple\"><path d=\"M156.84,99.57 C162.72,115.39 169.51,133.68 174.7,147.66 \" fill=\"none\" id=\"E9&lt;-E11\" style=\"stroke: #383838; stroke-width: 1.0;\"/><polygon fill=\"#FFFFFF\" points=\"152.18,87.01,150.5207,94.0276,156.3602,98.2584,158.0196,91.2408,152.18,87.01\" style=\"stroke: #383838; stroke-width: 1.0;\"/><text fill=\"#000000\" font-family=\"sans-serif\" font-size=\"13\" lengthAdjust=\"spacingAndGlyphs\" textLength=\"8\" x=\"163.5481\" y=\"136.8492\">1</text></a><!--MD5=[0517f1ce58c4d5483948f93845c45e26]\n",
       "link E11 to E3--><a href=\"psysml:713baad2-05ac-404b-8904-f9720a0da3f6\" target=\"_top\" title=\"psysml:713baad2-05ac-404b-8904-f9720a0da3f6\" xlink:actuate=\"onRequest\" xlink:href=\"psysml:713baad2-05ac-404b-8904-f9720a0da3f6\" xlink:show=\"new\" xlink:title=\"psysml:713baad2-05ac-404b-8904-f9720a0da3f6\" xlink:type=\"simple\"><path d=\"M183,194.01 C183,205.69 183,220.46 183,234.28 \" fill=\"none\" id=\"E11-&gt;E3\" style=\"stroke: #383838; stroke-width: 1.0;\"/><polygon fill=\"#FFFFFF\" points=\"183,254.66,176,235.66,190,235.66,183,254.66\" style=\"stroke: #383838; stroke-width: 1.0;\"/><ellipse cx=\"178\" cy=\"229.96\" fill=\"#383838\" rx=\"2\" ry=\"2\" style=\"stroke: #383838; stroke-width: 1.0;\"/><ellipse cx=\"188\" cy=\"229.96\" fill=\"#383838\" rx=\"2\" ry=\"2\" style=\"stroke: #383838; stroke-width: 1.0;\"/></a><!--MD5=[cb739462e2f728e57a923d70d33a8297]\n",
       "@startuml\r\n",
       "top to bottom direction\r\n",
       "skinparam monochrome true\r\n",
       "skinparam classbackgroundcolor white\r\n",
       "skinparam shadowing false\r\n",
       "skinparam wrapWidth 300\r\n",
       "hide circle\r\n",
       "\r\n",
       "package \"ItemTest\" as E1  [[psysml:9c84b130-4496-45dd-acf0-f614adf4451b ]]  {\r\n",
       "comp usage \"f: A \" as E2  <<(T,blue) item>> [[psysml:046ce2e8-70d6-418b-9e34-4058f6a1e698 ]] {\r\n",
       "}\r\n",
       "comp def \"A\" as E3  <<(T,blue) item  def>> [[psysml:b761bda6-ef45-4173-adbe-8f17f5dd59b9 ]] {\r\n",
       "}\r\n",
       "comp usage \"b: B \" as E4  <<(T,blue) item>> [[psysml:5a9b7c1e-d921-40a5-84d4-dcafad1b8599 ]] {\r\n",
       "}\r\n",
       "comp usage \"c: C \" as E5  <<(T,blue) part>> [[psysml:c52e7c62-32ae-43e1-a51e-2d7f86512260 ]] {\r\n",
       "}\r\n",
       "comp def \"<i>B</i>\" as E6  <<(T,blue) item  def>> [[psysml:154f7142-f3c2-4f8f-a55c-1d31f59952e7 ]] {\r\n",
       "}\r\n",
       "comp usage \"<i>a</i>: A \" as E7  <<(T,blue) part>> [[psysml:3092a58e-bc17-492e-b3ac-d9b0c5d27ee1 ]] {\r\n",
       "}\r\n",
       "comp def \"C\" as E8  <<(T,blue) part  def>> [[psysml:a977dc12-1522-4e17-86ea-88834b4a9262 ]] {\r\n",
       "- - parameters - -\r\n",
       "<b>in</b> y: A, B\r\n",
       "}\r\n",
       "comp def \"P\" as E9  <<(T,blue) port  def>> [[psysml:505a0904-767f-4431-bdaf-f395e9a256c5 ]] {\r\n",
       "}\r\n",
       "comp usage \"a1: A \" as E10  <<(T,blue) item>> [[psysml:b48ee9ab-0a15-45ce-8465-86ae83c4be7f ]] {\r\n",
       "}\r\n",
       "comp usage \"a2: A \" as E11  <<(T,blue) item>> [[psysml:7b14a527-4e8d-41df-a91b-3ca9db44b1d9 ]] {\r\n",
       "}\r\n",
       "}\r\n",
       "E2 - -:|> E3 [[psysml:2913aa14-34e4-4ebc-b3c0-73cbbe37a712 ]] \r\n",
       "E3 *- - \"1\"E4 [[psysml:5a70b25d-3e65-48fe-9200-ece04e9de0ee ]] \r\n",
       "E3 o- - \"1\"E5 [[psysml:98aba136-2768-4c7e-bc34-95a5a6a911cd ]] \r\n",
       "E4 - -:|> E6 [[psysml:04be4dec-9fb2-423c-a400-1c82afc162c3 ]] \r\n",
       "E6 *- - \"1\"E7 [[psysml:88a05b08-39fe-46e7-8c9b-5df9e56fb426 ]] \r\n",
       "E7 - -:|> E3 [[psysml:de23f89f-df32-45d9-b344-47d8d19c4edc ]] \r\n",
       "E5 - -:|> E8 [[psysml:feaf6c57-7b20-4701-8323-0c325a1238bf ]] \r\n",
       "E8 o- - E3 [[psysml:f63e9e98-9395-484c-b7ba-710e403c3592 ]] : y\r\n",
       "E8 o- - E6 [[psysml:f63e9e98-9395-484c-b7ba-710e403c3592 ]] : y\r\n",
       "E8 o- - E3 [[psysml:f63e9e98-9395-484c-b7ba-710e403c3592 ]] : y\r\n",
       "E8 o- - E6 [[psysml:f63e9e98-9395-484c-b7ba-710e403c3592 ]] : y\r\n",
       "E9 o- - \"1\"E10 [[psysml:f7fd9ae3-3fa5-48e2-b146-bf2078e3bf75 ]] \r\n",
       "E10 - -:|> E3 [[psysml:09a722a7-3c7d-4d30-9bcf-d6d93c165304 ]] \r\n",
       "E9 o- - \"1\"E11 [[psysml:2308c13a-9c40-4baf-abe1-b4752fcfac30 ]] \r\n",
       "E11 - -:|> E3 [[psysml:713baad2-05ac-404b-8904-f9720a0da3f6 ]] \r\n",
       "@enduml\r\n",
       "\n",
       "PlantUML version 1.2020.13(Sat Jun 13 12:26:38 UTC 2020)\n",
       "(EPL source distribution)\n",
       "Java Runtime: OpenJDK Runtime Environment\n",
       "JVM: OpenJDK 64-Bit Server VM\n",
       "Default Encoding: UTF-8\n",
       "Language: en\n",
       "Country: null\n",
       "--></g></svg>"
      ]
     },
     "execution_count": 44,
     "metadata": {},
     "output_type": "execute_result"
    }
   ],
   "source": [
    "%viz --style=\"TB\" --view=\"Default\" \"ItemTest\""
   ]
  },
  {
   "cell_type": "code",
   "execution_count": 45,
   "id": "43f493b5",
   "metadata": {
    "execution": {
     "iopub.execute_input": "2021-10-25T08:20:56.111186Z",
     "iopub.status.busy": "2021-10-25T08:20:56.110932Z",
     "iopub.status.idle": "2021-10-25T08:20:56.174480Z",
     "shell.execute_reply": "2021-10-25T08:20:56.172145Z"
    }
   },
   "outputs": [
    {
     "data": {
      "image/svg+xml": [
       "<?xml version=\"1.0\" encoding=\"UTF-8\" standalone=\"no\"?><svg xmlns=\"http://www.w3.org/2000/svg\" xmlns:xlink=\"http://www.w3.org/1999/xlink\" contentScriptType=\"application/ecmascript\" contentStyleType=\"text/css\" height=\"848px\" preserveAspectRatio=\"none\" style=\"width:344px;height:848px;\" version=\"1.1\" viewBox=\"0 0 344 848\" width=\"344px\" zoomAndPan=\"magnify\"><defs/><g><!--MD5=[fbc87193dbaf4d95561dea2c320d4a47]\n",
       "cluster E1--><a href=\"psysml:9c84b130-4496-45dd-acf0-f614adf4451b\" target=\"_top\" title=\"psysml:9c84b130-4496-45dd-acf0-f614adf4451b\" xlink:actuate=\"onRequest\" xlink:href=\"psysml:9c84b130-4496-45dd-acf0-f614adf4451b\" xlink:show=\"new\" xlink:title=\"psysml:9c84b130-4496-45dd-acf0-f614adf4451b\" xlink:type=\"simple\"><polygon fill=\"#FFFFFF\" points=\"16,6,83,6,90,28.2969,322,28.2969,322,836,16,836,16,6\" style=\"stroke: #000000; stroke-width: 1.5;\"/><line style=\"stroke: #000000; stroke-width: 1.5;\" x1=\"16\" x2=\"90\" y1=\"28.2969\" y2=\"28.2969\"/><text fill=\"#000000\" font-family=\"sans-serif\" font-size=\"14\" font-weight=\"bold\" lengthAdjust=\"spacingAndGlyphs\" textLength=\"61\" x=\"20\" y=\"20.9951\">ItemTest</text></a><!--MD5=[b4997ac47864f28c2f74865a473b2911]\n",
       "class E2--><a href=\"psysml:046ce2e8-70d6-418b-9e34-4058f6a1e698\" target=\"_top\" title=\"psysml:046ce2e8-70d6-418b-9e34-4058f6a1e698\" xlink:actuate=\"onRequest\" xlink:href=\"psysml:046ce2e8-70d6-418b-9e34-4058f6a1e698\" xlink:show=\"new\" xlink:title=\"psysml:046ce2e8-70d6-418b-9e34-4058f6a1e698\" xlink:type=\"simple\"><rect fill=\"#FFFFFF\" height=\"45.9375\" id=\"E2\" rx=\"10\" ry=\"10\" style=\"stroke: #383838; stroke-width: 1.5;\" width=\"43\" x=\"239.5\" y=\"148\"/><text fill=\"#000000\" font-family=\"sans-serif\" font-size=\"12\" font-style=\"italic\" lengthAdjust=\"spacingAndGlyphs\" textLength=\"41\" x=\"240.5\" y=\"164.1387\">«item»</text><text fill=\"#000000\" font-family=\"sans-serif\" font-size=\"12\" lengthAdjust=\"spacingAndGlyphs\" textLength=\"20\" x=\"249\" y=\"178.1074\">f: A</text><line style=\"stroke: #383838; stroke-width: 1.5;\" x1=\"240.5\" x2=\"281.5\" y1=\"185.9375\" y2=\"185.9375\"/></a><!--MD5=[09b614a08d8cba4a07c9adeb5e0fee81]\n",
       "class E3--><a href=\"psysml:b761bda6-ef45-4173-adbe-8f17f5dd59b9\" target=\"_top\" title=\"psysml:b761bda6-ef45-4173-adbe-8f17f5dd59b9\" xlink:actuate=\"onRequest\" xlink:href=\"psysml:b761bda6-ef45-4173-adbe-8f17f5dd59b9\" xlink:show=\"new\" xlink:title=\"psysml:b761bda6-ef45-4173-adbe-8f17f5dd59b9\" xlink:type=\"simple\"><rect fill=\"#FFFFFF\" height=\"45.9375\" id=\"E3\" style=\"stroke: #383838; stroke-width: 1.5;\" width=\"71\" x=\"147.5\" y=\"255\"/><text fill=\"#000000\" font-family=\"sans-serif\" font-size=\"12\" font-style=\"italic\" lengthAdjust=\"spacingAndGlyphs\" textLength=\"69\" x=\"148.5\" y=\"271.1387\">«item  def»</text><text fill=\"#000000\" font-family=\"sans-serif\" font-size=\"12\" lengthAdjust=\"spacingAndGlyphs\" textLength=\"8\" x=\"179\" y=\"285.1074\">A</text><line style=\"stroke: #383838; stroke-width: 1.5;\" x1=\"148.5\" x2=\"217.5\" y1=\"292.9375\" y2=\"292.9375\"/></a><!--MD5=[ebbe1d658d1005bcc118a6aa81145e00]\n",
       "class E4--><a href=\"psysml:5a9b7c1e-d921-40a5-84d4-dcafad1b8599\" target=\"_top\" title=\"psysml:5a9b7c1e-d921-40a5-84d4-dcafad1b8599\" xlink:actuate=\"onRequest\" xlink:href=\"psysml:5a9b7c1e-d921-40a5-84d4-dcafad1b8599\" xlink:show=\"new\" xlink:title=\"psysml:5a9b7c1e-d921-40a5-84d4-dcafad1b8599\" xlink:type=\"simple\"><rect fill=\"#FFFFFF\" height=\"45.9375\" id=\"E4\" rx=\"10\" ry=\"10\" style=\"stroke: #383838; stroke-width: 1.5;\" width=\"43\" x=\"255.5\" y=\"438\"/><text fill=\"#000000\" font-family=\"sans-serif\" font-size=\"12\" font-style=\"italic\" lengthAdjust=\"spacingAndGlyphs\" textLength=\"41\" x=\"256.5\" y=\"454.1387\">«item»</text><text fill=\"#000000\" font-family=\"sans-serif\" font-size=\"12\" lengthAdjust=\"spacingAndGlyphs\" textLength=\"24\" x=\"263\" y=\"468.1074\">b: B</text><line style=\"stroke: #383838; stroke-width: 1.5;\" x1=\"256.5\" x2=\"297.5\" y1=\"475.9375\" y2=\"475.9375\"/></a><!--MD5=[270fce915f116d4de14055a7c1d9a0f3]\n",
       "class E5--><a href=\"psysml:c52e7c62-32ae-43e1-a51e-2d7f86512260\" target=\"_top\" title=\"psysml:c52e7c62-32ae-43e1-a51e-2d7f86512260\" xlink:actuate=\"onRequest\" xlink:href=\"psysml:c52e7c62-32ae-43e1-a51e-2d7f86512260\" xlink:show=\"new\" xlink:title=\"psysml:c52e7c62-32ae-43e1-a51e-2d7f86512260\" xlink:type=\"simple\"><rect fill=\"#FFFFFF\" height=\"45.9375\" id=\"E5\" rx=\"10\" ry=\"10\" style=\"stroke: #383838; stroke-width: 1.5;\" width=\"42\" x=\"227\" y=\"362\"/><text fill=\"#000000\" font-family=\"sans-serif\" font-size=\"12\" font-style=\"italic\" lengthAdjust=\"spacingAndGlyphs\" textLength=\"40\" x=\"228\" y=\"378.1387\">«part»</text><text fill=\"#000000\" font-family=\"sans-serif\" font-size=\"12\" lengthAdjust=\"spacingAndGlyphs\" textLength=\"23\" x=\"234.5\" y=\"392.1074\">c: C</text><line style=\"stroke: #383838; stroke-width: 1.5;\" x1=\"228\" x2=\"268\" y1=\"399.9375\" y2=\"399.9375\"/></a><!--MD5=[60a26617385b1d2d0262a64233df1f8d]\n",
       "class E6--><a href=\"psysml:154f7142-f3c2-4f8f-a55c-1d31f59952e7\" target=\"_top\" title=\"psysml:154f7142-f3c2-4f8f-a55c-1d31f59952e7\" xlink:actuate=\"onRequest\" xlink:href=\"psysml:154f7142-f3c2-4f8f-a55c-1d31f59952e7\" xlink:show=\"new\" xlink:title=\"psysml:154f7142-f3c2-4f8f-a55c-1d31f59952e7\" xlink:type=\"simple\"><rect fill=\"#FFFFFF\" height=\"45.9375\" id=\"E6\" style=\"stroke: #383838; stroke-width: 1.5;\" width=\"71\" x=\"146.5\" y=\"667\"/><text fill=\"#000000\" font-family=\"sans-serif\" font-size=\"12\" font-style=\"italic\" lengthAdjust=\"spacingAndGlyphs\" textLength=\"69\" x=\"147.5\" y=\"683.1387\">«item  def»</text><text fill=\"#000000\" font-family=\"sans-serif\" font-size=\"12\" font-style=\"italic\" lengthAdjust=\"spacingAndGlyphs\" textLength=\"8\" x=\"178\" y=\"697.1074\">B</text><line style=\"stroke: #383838; stroke-width: 1.5;\" x1=\"147.5\" x2=\"216.5\" y1=\"704.9375\" y2=\"704.9375\"/></a><!--MD5=[2156ba9850f5573cc1fc38a6a4b2f02b]\n",
       "class E7--><a href=\"psysml:3092a58e-bc17-492e-b3ac-d9b0c5d27ee1\" target=\"_top\" title=\"psysml:3092a58e-bc17-492e-b3ac-d9b0c5d27ee1\" xlink:actuate=\"onRequest\" xlink:href=\"psysml:3092a58e-bc17-492e-b3ac-d9b0c5d27ee1\" xlink:show=\"new\" xlink:title=\"psysml:3092a58e-bc17-492e-b3ac-d9b0c5d27ee1\" xlink:type=\"simple\"><rect fill=\"#FFFFFF\" height=\"45.9375\" id=\"E7\" rx=\"10\" ry=\"10\" style=\"stroke: #383838; stroke-width: 1.5;\" width=\"42\" x=\"96\" y=\"774\"/><text fill=\"#000000\" font-family=\"sans-serif\" font-size=\"12\" font-style=\"italic\" lengthAdjust=\"spacingAndGlyphs\" textLength=\"40\" x=\"97\" y=\"790.1387\">«part»</text><text fill=\"#000000\" font-family=\"sans-serif\" font-size=\"12\" font-style=\"italic\" lengthAdjust=\"spacingAndGlyphs\" textLength=\"8\" x=\"103\" y=\"804.1074\">a</text><text fill=\"#000000\" font-family=\"sans-serif\" font-size=\"12\" lengthAdjust=\"spacingAndGlyphs\" textLength=\"16\" x=\"111\" y=\"804.1074\">: A</text><line style=\"stroke: #383838; stroke-width: 1.5;\" x1=\"97\" x2=\"137\" y1=\"811.9375\" y2=\"811.9375\"/></a><!--MD5=[b9389687b975829384b498ac4b7476b2]\n",
       "class E8--><a href=\"psysml:a977dc12-1522-4e17-86ea-88834b4a9262\" target=\"_top\" title=\"psysml:a977dc12-1522-4e17-86ea-88834b4a9262\" xlink:actuate=\"onRequest\" xlink:href=\"psysml:a977dc12-1522-4e17-86ea-88834b4a9262\" xlink:show=\"new\" xlink:title=\"psysml:a977dc12-1522-4e17-86ea-88834b4a9262\" xlink:type=\"simple\"><rect fill=\"#FFFFFF\" height=\"75.5469\" id=\"E8\" style=\"stroke: #383838; stroke-width: 1.5;\" width=\"75\" x=\"145.5\" y=\"514\"/><text fill=\"#000000\" font-family=\"sans-serif\" font-size=\"12\" font-style=\"italic\" lengthAdjust=\"spacingAndGlyphs\" textLength=\"68\" x=\"149\" y=\"530.1387\">«part  def»</text><text fill=\"#000000\" font-family=\"sans-serif\" font-size=\"12\" lengthAdjust=\"spacingAndGlyphs\" textLength=\"8\" x=\"179\" y=\"544.1074\">C</text><line style=\"stroke: #383838; stroke-width: 1.5;\" x1=\"146.5\" x2=\"219.5\" y1=\"551.9375\" y2=\"551.9375\"/><text fill=\"#000000\" font-family=\"sans-serif\" font-size=\"11\" font-weight=\"bold\" lengthAdjust=\"spacingAndGlyphs\" textLength=\"10\" x=\"151.5\" y=\"582.9526\">in</text><text fill=\"#000000\" font-family=\"sans-serif\" font-size=\"11\" lengthAdjust=\"spacingAndGlyphs\" textLength=\"37\" x=\"165.5\" y=\"582.9526\">y: A, B</text><line style=\"stroke: #383838; stroke-width: 1.0;\" x1=\"146.5\" x2=\"149.5\" y1=\"566.3398\" y2=\"566.3398\"/><text fill=\"#000000\" font-family=\"sans-serif\" font-size=\"11\" lengthAdjust=\"spacingAndGlyphs\" textLength=\"67\" x=\"149.5\" y=\"569.6479\">parameters</text><line style=\"stroke: #383838; stroke-width: 1.0;\" x1=\"216.5\" x2=\"219.5\" y1=\"566.3398\" y2=\"566.3398\"/></a><!--MD5=[fd4143e9d270a159db93a4ea2a975926]\n",
       "class E9--><a href=\"psysml:505a0904-767f-4431-bdaf-f395e9a256c5\" target=\"_top\" title=\"psysml:505a0904-767f-4431-bdaf-f395e9a256c5\" xlink:actuate=\"onRequest\" xlink:href=\"psysml:505a0904-767f-4431-bdaf-f395e9a256c5\" xlink:show=\"new\" xlink:title=\"psysml:505a0904-767f-4431-bdaf-f395e9a256c5\" xlink:type=\"simple\"><rect fill=\"#FFFFFF\" height=\"45.9375\" id=\"E9\" style=\"stroke: #383838; stroke-width: 1.5;\" width=\"70\" x=\"109\" y=\"41\"/><text fill=\"#000000\" font-family=\"sans-serif\" font-size=\"12\" font-style=\"italic\" lengthAdjust=\"spacingAndGlyphs\" textLength=\"68\" x=\"110\" y=\"57.1387\">«port  def»</text><text fill=\"#000000\" font-family=\"sans-serif\" font-size=\"12\" lengthAdjust=\"spacingAndGlyphs\" textLength=\"8\" x=\"140\" y=\"71.1074\">P</text><line style=\"stroke: #383838; stroke-width: 1.5;\" x1=\"110\" x2=\"178\" y1=\"78.9375\" y2=\"78.9375\"/></a><!--MD5=[96f4274e9e20536e775497830990834d]\n",
       "class E10--><a href=\"psysml:b48ee9ab-0a15-45ce-8465-86ae83c4be7f\" target=\"_top\" title=\"psysml:b48ee9ab-0a15-45ce-8465-86ae83c4be7f\" xlink:actuate=\"onRequest\" xlink:href=\"psysml:b48ee9ab-0a15-45ce-8465-86ae83c4be7f\" xlink:show=\"new\" xlink:title=\"psysml:b48ee9ab-0a15-45ce-8465-86ae83c4be7f\" xlink:type=\"simple\"><rect fill=\"#FFFFFF\" height=\"45.9375\" id=\"E10\" rx=\"10\" ry=\"10\" style=\"stroke: #383838; stroke-width: 1.5;\" width=\"43\" x=\"83.5\" y=\"148\"/><text fill=\"#000000\" font-family=\"sans-serif\" font-size=\"12\" font-style=\"italic\" lengthAdjust=\"spacingAndGlyphs\" textLength=\"41\" x=\"84.5\" y=\"164.1387\">«item»</text><text fill=\"#000000\" font-family=\"sans-serif\" font-size=\"12\" lengthAdjust=\"spacingAndGlyphs\" textLength=\"32\" x=\"87\" y=\"178.1074\">a1: A</text><line style=\"stroke: #383838; stroke-width: 1.5;\" x1=\"84.5\" x2=\"125.5\" y1=\"185.9375\" y2=\"185.9375\"/></a><!--MD5=[1dd1bfd58a279cf63c5f349dbc8fc6a1]\n",
       "class E11--><a href=\"psysml:7b14a527-4e8d-41df-a91b-3ca9db44b1d9\" target=\"_top\" title=\"psysml:7b14a527-4e8d-41df-a91b-3ca9db44b1d9\" xlink:actuate=\"onRequest\" xlink:href=\"psysml:7b14a527-4e8d-41df-a91b-3ca9db44b1d9\" xlink:show=\"new\" xlink:title=\"psysml:7b14a527-4e8d-41df-a91b-3ca9db44b1d9\" xlink:type=\"simple\"><rect fill=\"#FFFFFF\" height=\"45.9375\" id=\"E11\" rx=\"10\" ry=\"10\" style=\"stroke: #383838; stroke-width: 1.5;\" width=\"43\" x=\"161.5\" y=\"148\"/><text fill=\"#000000\" font-family=\"sans-serif\" font-size=\"12\" font-style=\"italic\" lengthAdjust=\"spacingAndGlyphs\" textLength=\"41\" x=\"162.5\" y=\"164.1387\">«item»</text><text fill=\"#000000\" font-family=\"sans-serif\" font-size=\"12\" lengthAdjust=\"spacingAndGlyphs\" textLength=\"32\" x=\"165\" y=\"178.1074\">a2: A</text><line style=\"stroke: #383838; stroke-width: 1.5;\" x1=\"162.5\" x2=\"203.5\" y1=\"185.9375\" y2=\"185.9375\"/></a><!--MD5=[2720a5a1f2c3fca2055b230370638851]\n",
       "link E2 to E3--><a href=\"psysml:2913aa14-34e4-4ebc-b3c0-73cbbe37a712\" target=\"_top\" title=\"psysml:2913aa14-34e4-4ebc-b3c0-73cbbe37a712\" xlink:actuate=\"onRequest\" xlink:href=\"psysml:2913aa14-34e4-4ebc-b3c0-73cbbe37a712\" xlink:show=\"new\" xlink:title=\"psysml:2913aa14-34e4-4ebc-b3c0-73cbbe37a712\" xlink:type=\"simple\"><path d=\"M244.65,194.01 C235.14,206.81 222.89,223.3 211.82,238.2 \" fill=\"none\" id=\"E2-&gt;E3\" style=\"stroke: #383838; stroke-width: 1.0;\"/><polygon fill=\"#FFFFFF\" points=\"199.6,254.66,205.3195,235.2361,216.5543,243.5896,199.6,254.66\" style=\"stroke: #383838; stroke-width: 1.0;\"/><ellipse cx=\"210.3256\" cy=\"231.8554\" fill=\"#383838\" rx=\"2\" ry=\"2\" style=\"stroke: #383838; stroke-width: 1.0;\"/><ellipse cx=\"218.3504\" cy=\"237.8221\" fill=\"#383838\" rx=\"2\" ry=\"2\" style=\"stroke: #383838; stroke-width: 1.0;\"/></a><!--MD5=[4672eba38e49728da53d11aeb285b987]\n",
       "reverse link E3 to E4--><a href=\"psysml:5a70b25d-3e65-48fe-9200-ece04e9de0ee\" target=\"_top\" title=\"psysml:5a70b25d-3e65-48fe-9200-ece04e9de0ee\" xlink:actuate=\"onRequest\" xlink:href=\"psysml:5a70b25d-3e65-48fe-9200-ece04e9de0ee\" xlink:show=\"new\" xlink:title=\"psysml:5a70b25d-3e65-48fe-9200-ece04e9de0ee\" xlink:type=\"simple\"><path d=\"M229.65,303.21 C251.35,317.2 274.97,337.01 287,362 C298.57,386.04 292.33,417.17 285.68,437.83 \" fill=\"none\" id=\"E3&lt;-E4\" style=\"stroke: #383838; stroke-width: 1.0;\"/><polygon fill=\"#383838\" points=\"218.55,296.43,221.5791,302.974,228.7848,302.6949,225.7557,296.1508,218.55,296.43\" style=\"stroke: #383838; stroke-width: 1.0;\"/><text fill=\"#000000\" font-family=\"sans-serif\" font-size=\"13\" lengthAdjust=\"spacingAndGlyphs\" textLength=\"8\" x=\"278.8793\" y=\"427.0627\">1</text></a><!--MD5=[191cde3d490a3f6d7bb551fe3ddca469]\n",
       "reverse link E3 to E5--><a href=\"psysml:98aba136-2768-4c7e-bc34-95a5a6a911cd\" target=\"_top\" title=\"psysml:98aba136-2768-4c7e-bc34-95a5a6a911cd\" xlink:actuate=\"onRequest\" xlink:href=\"psysml:98aba136-2768-4c7e-bc34-95a5a6a911cd\" xlink:show=\"new\" xlink:title=\"psysml:98aba136-2768-4c7e-bc34-95a5a6a911cd\" xlink:type=\"simple\"><path d=\"M203.52,312.15 C213.51,328.29 225.26,347.26 234.17,361.66 \" fill=\"none\" id=\"E3&lt;-E5\" style=\"stroke: #383838; stroke-width: 1.0;\"/><polygon fill=\"#FFFFFF\" points=\"196.63,301.01,196.3861,308.217,202.9449,311.214,203.1888,304.007,196.63,301.01\" style=\"stroke: #383838; stroke-width: 1.0;\"/><text fill=\"#000000\" font-family=\"sans-serif\" font-size=\"13\" lengthAdjust=\"spacingAndGlyphs\" textLength=\"8\" x=\"221.6011\" y=\"350.8492\">1</text></a><!--MD5=[79568f1e445c3877b6a54524624ccc7d]\n",
       "link E4 to E6--><a href=\"psysml:04be4dec-9fb2-423c-a400-1c82afc162c3\" target=\"_top\" title=\"psysml:04be4dec-9fb2-423c-a400-1c82afc162c3\" xlink:actuate=\"onRequest\" xlink:href=\"psysml:04be4dec-9fb2-423c-a400-1c82afc162c3\" xlink:show=\"new\" xlink:title=\"psysml:04be4dec-9fb2-423c-a400-1c82afc162c3\" xlink:type=\"simple\"><path d=\"M271.8,484.26 C265.37,510.22 253.39,554.13 238,590 C229.26,610.36 217.43,631.9 206.88,649.66 \" fill=\"none\" id=\"E4-&gt;E6\" style=\"stroke: #383838; stroke-width: 1.0;\"/><polygon fill=\"#FFFFFF\" points=\"196.36,666.92,200.2791,647.0544,212.2307,654.3454,196.36,666.92\" style=\"stroke: #383838; stroke-width: 1.0;\"/><ellipse cx=\"204.955\" cy=\"643.23\" fill=\"#383838\" rx=\"2\" ry=\"2\" style=\"stroke: #383838; stroke-width: 1.0;\"/><ellipse cx=\"213.4918\" cy=\"648.4378\" fill=\"#383838\" rx=\"2\" ry=\"2\" style=\"stroke: #383838; stroke-width: 1.0;\"/></a><!--MD5=[3f50a3473f1dfb74d3f76443e03635af]\n",
       "reverse link E6 to E7--><a href=\"psysml:88a05b08-39fe-46e7-8c9b-5df9e56fb426\" target=\"_top\" title=\"psysml:88a05b08-39fe-46e7-8c9b-5df9e56fb426\" xlink:actuate=\"onRequest\" xlink:href=\"psysml:88a05b08-39fe-46e7-8c9b-5df9e56fb426\" xlink:show=\"new\" xlink:title=\"psysml:88a05b08-39fe-46e7-8c9b-5df9e56fb426\" xlink:type=\"simple\"><path d=\"M161.48,724.15 C151.49,740.29 139.74,759.26 130.83,773.66 \" fill=\"none\" id=\"E6&lt;-E7\" style=\"stroke: #383838; stroke-width: 1.0;\"/><polygon fill=\"#383838\" points=\"168.37,713.01,161.8112,716.007,162.0551,723.214,168.6139,720.217,168.37,713.01\" style=\"stroke: #383838; stroke-width: 1.0;\"/><text fill=\"#000000\" font-family=\"sans-serif\" font-size=\"13\" lengthAdjust=\"spacingAndGlyphs\" textLength=\"8\" x=\"125.3489\" y=\"762.8492\">1</text></a><!--MD5=[14ccda38c055a5c0da953d572bc50960]\n",
       "link E7 to E3--><a href=\"psysml:de23f89f-df32-45d9-b344-47d8d19c4edc\" target=\"_top\" title=\"psysml:de23f89f-df32-45d9-b344-47d8d19c4edc\" xlink:actuate=\"onRequest\" xlink:href=\"psysml:de23f89f-df32-45d9-b344-47d8d19c4edc\" xlink:show=\"new\" xlink:title=\"psysml:de23f89f-df32-45d9-b344-47d8d19c4edc\" xlink:type=\"simple\"><path d=\"M95.8,782.47 C70.92,764.75 33,731.15 33,691 C33,384 33,384 33,384 C33,335.87 85.48,307.94 128.35,293.16 \" fill=\"none\" id=\"E7-&gt;E3\" style=\"stroke: #383838; stroke-width: 1.0;\"/><polygon fill=\"#FFFFFF\" points=\"147.45,287.18,131.4154,299.545,127.2259,286.1865,147.45,287.18\" style=\"stroke: #383838; stroke-width: 1.0;\"/><ellipse cx=\"125.3781\" cy=\"299.3424\" fill=\"#383838\" rx=\"2\" ry=\"2\" style=\"stroke: #383838; stroke-width: 1.0;\"/><ellipse cx=\"122.3856\" cy=\"289.8006\" fill=\"#383838\" rx=\"2\" ry=\"2\" style=\"stroke: #383838; stroke-width: 1.0;\"/></a><!--MD5=[dfaffb906826c3e5aca635516100ff21]\n",
       "link E5 to E8--><a href=\"psysml:feaf6c57-7b20-4701-8323-0c325a1238bf\" target=\"_top\" title=\"psysml:feaf6c57-7b20-4701-8323-0c325a1238bf\" xlink:actuate=\"onRequest\" xlink:href=\"psysml:feaf6c57-7b20-4701-8323-0c325a1238bf\" xlink:show=\"new\" xlink:title=\"psysml:feaf6c57-7b20-4701-8323-0c325a1238bf\" xlink:type=\"simple\"><path d=\"M239.23,408.25 C230.48,430.48 216.67,465.53 204.93,495.33 \" fill=\"none\" id=\"E5-&gt;E8\" style=\"stroke: #383838; stroke-width: 1.0;\"/><polygon fill=\"#FFFFFF\" points=\"197.58,513.98,198.027,493.7365,211.0538,498.8652,197.58,513.98\" style=\"stroke: #383838; stroke-width: 1.0;\"/><ellipse cx=\"201.9761\" cy=\"489.1654\" fill=\"#383838\" rx=\"2\" ry=\"2\" style=\"stroke: #383838; stroke-width: 1.0;\"/><ellipse cx=\"211.2809\" cy=\"492.8288\" fill=\"#383838\" rx=\"2\" ry=\"2\" style=\"stroke: #383838; stroke-width: 1.0;\"/></a><!--MD5=[03c8294790d3c57651a1993cecff665f]\n",
       "reverse link E8 to E3--><a href=\"psysml:f63e9e98-9395-484c-b7ba-710e403c3592\" target=\"_top\" title=\"psysml:f63e9e98-9395-484c-b7ba-710e403c3592\" xlink:actuate=\"onRequest\" xlink:href=\"psysml:f63e9e98-9395-484c-b7ba-710e403c3592\" xlink:show=\"new\" xlink:title=\"psysml:f63e9e98-9395-484c-b7ba-710e403c3592\" xlink:type=\"simple\"><path d=\"M154.57,502.18 C135.93,463.97 117.34,409.52 131,362 C137.48,339.45 152.09,317.09 164.17,301.27 \" fill=\"none\" id=\"E8&lt;-E3\" style=\"stroke: #383838; stroke-width: 1.0;\"/><polygon fill=\"#FFFFFF\" points=\"160.58,513.99,161.4217,506.8282,155.1345,503.2967,154.2928,510.4585,160.58,513.99\" style=\"stroke: #383838; stroke-width: 1.0;\"/><text fill=\"#000000\" font-family=\"sans-serif\" font-size=\"13\" lengthAdjust=\"spacingAndGlyphs\" textLength=\"7\" x=\"132\" y=\"389.5669\">y</text></a><!--MD5=[03c8294790d3c57651a1993cecff665f]\n",
       "reverse link E8 to E3--><a href=\"psysml:f63e9e98-9395-484c-b7ba-710e403c3592\" target=\"_top\" title=\"psysml:f63e9e98-9395-484c-b7ba-710e403c3592\" xlink:actuate=\"onRequest\" xlink:href=\"psysml:f63e9e98-9395-484c-b7ba-710e403c3592\" xlink:show=\"new\" xlink:title=\"psysml:f63e9e98-9395-484c-b7ba-710e403c3592\" xlink:type=\"simple\"><path d=\"M183,500.73 C183,441.17 183,344.58 183,301.26 \" fill=\"none\" id=\"E8&lt;-E3-1\" style=\"stroke: #383838; stroke-width: 1.0;\"/><polygon fill=\"#FFFFFF\" points=\"183,513.93,187,507.93,183,501.93,179,507.93,183,513.93\" style=\"stroke: #383838; stroke-width: 1.0;\"/><text fill=\"#000000\" font-family=\"sans-serif\" font-size=\"13\" lengthAdjust=\"spacingAndGlyphs\" textLength=\"7\" x=\"184\" y=\"389.5669\">y</text></a><!--MD5=[0d75d2178373a6a4568e5dc728f58aef]\n",
       "reverse link E8 to E6--><a href=\"psysml:f63e9e98-9395-484c-b7ba-710e403c3592\" target=\"_top\" title=\"psysml:f63e9e98-9395-484c-b7ba-710e403c3592\" xlink:actuate=\"onRequest\" xlink:href=\"psysml:f63e9e98-9395-484c-b7ba-710e403c3592\" xlink:show=\"new\" xlink:title=\"psysml:f63e9e98-9395-484c-b7ba-710e403c3592\" xlink:type=\"simple\"><path d=\"M160.42,603.02 C157.73,614.13 156.66,625.91 159,637 C161.16,647.24 165.48,657.91 169.79,666.91 \" fill=\"none\" id=\"E8&lt;-E6\" style=\"stroke: #383838; stroke-width: 1.0;\"/><polygon fill=\"#FFFFFF\" points=\"164.22,590.35,158.6675,594.9511,160.7791,601.8461,166.3316,597.245,164.22,590.35\" style=\"stroke: #383838; stroke-width: 1.0;\"/><text fill=\"#000000\" font-family=\"sans-serif\" font-size=\"13\" lengthAdjust=\"spacingAndGlyphs\" textLength=\"7\" x=\"160\" y=\"633.0669\">y</text></a><!--MD5=[0d75d2178373a6a4568e5dc728f58aef]\n",
       "reverse link E8 to E6--><a href=\"psysml:f63e9e98-9395-484c-b7ba-710e403c3592\" target=\"_top\" title=\"psysml:f63e9e98-9395-484c-b7ba-710e403c3592\" xlink:actuate=\"onRequest\" xlink:href=\"psysml:f63e9e98-9395-484c-b7ba-710e403c3592\" xlink:show=\"new\" xlink:title=\"psysml:f63e9e98-9395-484c-b7ba-710e403c3592\" xlink:type=\"simple\"><path d=\"M182.63,603.33 C182.47,625.16 182.29,649.6 182.16,666.77 \" fill=\"none\" id=\"E8&lt;-E6-1\" style=\"stroke: #383838; stroke-width: 1.0;\"/><polygon fill=\"#FFFFFF\" points=\"182.73,590.16,178.684,596.1291,182.6377,602.1596,186.6837,596.1906,182.73,590.16\" style=\"stroke: #383838; stroke-width: 1.0;\"/><text fill=\"#000000\" font-family=\"sans-serif\" font-size=\"13\" lengthAdjust=\"spacingAndGlyphs\" textLength=\"7\" x=\"183\" y=\"633.0669\">y</text></a><!--MD5=[23ac544a70576c3e717098101004234c]\n",
       "reverse link E9 to E10--><a href=\"psysml:f7fd9ae3-3fa5-48e2-b146-bf2078e3bf75\" target=\"_top\" title=\"psysml:f7fd9ae3-3fa5-48e2-b146-bf2078e3bf75\" xlink:actuate=\"onRequest\" xlink:href=\"psysml:f7fd9ae3-3fa5-48e2-b146-bf2078e3bf75\" xlink:show=\"new\" xlink:title=\"psysml:f7fd9ae3-3fa5-48e2-b146-bf2078e3bf75\" xlink:type=\"simple\"><path d=\"M131.16,99.57 C125.28,115.39 118.49,133.68 113.3,147.66 \" fill=\"none\" id=\"E9&lt;-E10\" style=\"stroke: #383838; stroke-width: 1.0;\"/><polygon fill=\"#FFFFFF\" points=\"135.82,87.01,129.9804,91.2408,131.6398,98.2584,137.4793,94.0276,135.82,87.01\" style=\"stroke: #383838; stroke-width: 1.0;\"/><text fill=\"#000000\" font-family=\"sans-serif\" font-size=\"13\" lengthAdjust=\"spacingAndGlyphs\" textLength=\"8\" x=\"106.4019\" y=\"136.8492\">1</text></a><!--MD5=[feeac5eb423634930294aa81f2d25a4c]\n",
       "link E10 to E3--><a href=\"psysml:09a722a7-3c7d-4d30-9bcf-d6d93c165304\" target=\"_top\" title=\"psysml:09a722a7-3c7d-4d30-9bcf-d6d93c165304\" xlink:actuate=\"onRequest\" xlink:href=\"psysml:09a722a7-3c7d-4d30-9bcf-d6d93c165304\" xlink:show=\"new\" xlink:title=\"psysml:09a722a7-3c7d-4d30-9bcf-d6d93c165304\" xlink:type=\"simple\"><path d=\"M121.35,194.01 C130.86,206.81 143.11,223.3 154.18,238.2 \" fill=\"none\" id=\"E10-&gt;E3\" style=\"stroke: #383838; stroke-width: 1.0;\"/><polygon fill=\"#FFFFFF\" points=\"166.4,254.66,149.4457,243.5896,160.6805,235.2361,166.4,254.66\" style=\"stroke: #383838; stroke-width: 1.0;\"/><ellipse cx=\"147.6496\" cy=\"237.8221\" fill=\"#383838\" rx=\"2\" ry=\"2\" style=\"stroke: #383838; stroke-width: 1.0;\"/><ellipse cx=\"155.6744\" cy=\"231.8554\" fill=\"#383838\" rx=\"2\" ry=\"2\" style=\"stroke: #383838; stroke-width: 1.0;\"/></a><!--MD5=[1fc04a95fd77ad5ce46c1a3027516051]\n",
       "reverse link E9 to E11--><a href=\"psysml:2308c13a-9c40-4baf-abe1-b4752fcfac30\" target=\"_top\" title=\"psysml:2308c13a-9c40-4baf-abe1-b4752fcfac30\" xlink:actuate=\"onRequest\" xlink:href=\"psysml:2308c13a-9c40-4baf-abe1-b4752fcfac30\" xlink:show=\"new\" xlink:title=\"psysml:2308c13a-9c40-4baf-abe1-b4752fcfac30\" xlink:type=\"simple\"><path d=\"M156.84,99.57 C162.72,115.39 169.51,133.68 174.7,147.66 \" fill=\"none\" id=\"E9&lt;-E11\" style=\"stroke: #383838; stroke-width: 1.0;\"/><polygon fill=\"#FFFFFF\" points=\"152.18,87.01,150.5207,94.0276,156.3602,98.2584,158.0196,91.2408,152.18,87.01\" style=\"stroke: #383838; stroke-width: 1.0;\"/><text fill=\"#000000\" font-family=\"sans-serif\" font-size=\"13\" lengthAdjust=\"spacingAndGlyphs\" textLength=\"8\" x=\"163.5481\" y=\"136.8492\">1</text></a><!--MD5=[0517f1ce58c4d5483948f93845c45e26]\n",
       "link E11 to E3--><a href=\"psysml:713baad2-05ac-404b-8904-f9720a0da3f6\" target=\"_top\" title=\"psysml:713baad2-05ac-404b-8904-f9720a0da3f6\" xlink:actuate=\"onRequest\" xlink:href=\"psysml:713baad2-05ac-404b-8904-f9720a0da3f6\" xlink:show=\"new\" xlink:title=\"psysml:713baad2-05ac-404b-8904-f9720a0da3f6\" xlink:type=\"simple\"><path d=\"M183,194.01 C183,205.69 183,220.46 183,234.28 \" fill=\"none\" id=\"E11-&gt;E3\" style=\"stroke: #383838; stroke-width: 1.0;\"/><polygon fill=\"#FFFFFF\" points=\"183,254.66,176,235.66,190,235.66,183,254.66\" style=\"stroke: #383838; stroke-width: 1.0;\"/><ellipse cx=\"178\" cy=\"229.96\" fill=\"#383838\" rx=\"2\" ry=\"2\" style=\"stroke: #383838; stroke-width: 1.0;\"/><ellipse cx=\"188\" cy=\"229.96\" fill=\"#383838\" rx=\"2\" ry=\"2\" style=\"stroke: #383838; stroke-width: 1.0;\"/></a><!--MD5=[cb739462e2f728e57a923d70d33a8297]\n",
       "@startuml\r\n",
       "top to bottom direction\r\n",
       "skinparam monochrome true\r\n",
       "skinparam classbackgroundcolor white\r\n",
       "skinparam shadowing false\r\n",
       "skinparam wrapWidth 300\r\n",
       "hide circle\r\n",
       "\r\n",
       "package \"ItemTest\" as E1  [[psysml:9c84b130-4496-45dd-acf0-f614adf4451b ]]  {\r\n",
       "comp usage \"f: A \" as E2  <<(T,blue) item>> [[psysml:046ce2e8-70d6-418b-9e34-4058f6a1e698 ]] {\r\n",
       "}\r\n",
       "comp def \"A\" as E3  <<(T,blue) item  def>> [[psysml:b761bda6-ef45-4173-adbe-8f17f5dd59b9 ]] {\r\n",
       "}\r\n",
       "comp usage \"b: B \" as E4  <<(T,blue) item>> [[psysml:5a9b7c1e-d921-40a5-84d4-dcafad1b8599 ]] {\r\n",
       "}\r\n",
       "comp usage \"c: C \" as E5  <<(T,blue) part>> [[psysml:c52e7c62-32ae-43e1-a51e-2d7f86512260 ]] {\r\n",
       "}\r\n",
       "comp def \"<i>B</i>\" as E6  <<(T,blue) item  def>> [[psysml:154f7142-f3c2-4f8f-a55c-1d31f59952e7 ]] {\r\n",
       "}\r\n",
       "comp usage \"<i>a</i>: A \" as E7  <<(T,blue) part>> [[psysml:3092a58e-bc17-492e-b3ac-d9b0c5d27ee1 ]] {\r\n",
       "}\r\n",
       "comp def \"C\" as E8  <<(T,blue) part  def>> [[psysml:a977dc12-1522-4e17-86ea-88834b4a9262 ]] {\r\n",
       "- - parameters - -\r\n",
       "<b>in</b> y: A, B\r\n",
       "}\r\n",
       "comp def \"P\" as E9  <<(T,blue) port  def>> [[psysml:505a0904-767f-4431-bdaf-f395e9a256c5 ]] {\r\n",
       "}\r\n",
       "comp usage \"a1: A \" as E10  <<(T,blue) item>> [[psysml:b48ee9ab-0a15-45ce-8465-86ae83c4be7f ]] {\r\n",
       "}\r\n",
       "comp usage \"a2: A \" as E11  <<(T,blue) item>> [[psysml:7b14a527-4e8d-41df-a91b-3ca9db44b1d9 ]] {\r\n",
       "}\r\n",
       "}\r\n",
       "E2 - -:|> E3 [[psysml:2913aa14-34e4-4ebc-b3c0-73cbbe37a712 ]] \r\n",
       "E3 *- - \"1\"E4 [[psysml:5a70b25d-3e65-48fe-9200-ece04e9de0ee ]] \r\n",
       "E3 o- - \"1\"E5 [[psysml:98aba136-2768-4c7e-bc34-95a5a6a911cd ]] \r\n",
       "E4 - -:|> E6 [[psysml:04be4dec-9fb2-423c-a400-1c82afc162c3 ]] \r\n",
       "E6 *- - \"1\"E7 [[psysml:88a05b08-39fe-46e7-8c9b-5df9e56fb426 ]] \r\n",
       "E7 - -:|> E3 [[psysml:de23f89f-df32-45d9-b344-47d8d19c4edc ]] \r\n",
       "E5 - -:|> E8 [[psysml:feaf6c57-7b20-4701-8323-0c325a1238bf ]] \r\n",
       "E8 o- - E3 [[psysml:f63e9e98-9395-484c-b7ba-710e403c3592 ]] : y\r\n",
       "E8 o- - E6 [[psysml:f63e9e98-9395-484c-b7ba-710e403c3592 ]] : y\r\n",
       "E8 o- - E3 [[psysml:f63e9e98-9395-484c-b7ba-710e403c3592 ]] : y\r\n",
       "E8 o- - E6 [[psysml:f63e9e98-9395-484c-b7ba-710e403c3592 ]] : y\r\n",
       "E9 o- - \"1\"E10 [[psysml:f7fd9ae3-3fa5-48e2-b146-bf2078e3bf75 ]] \r\n",
       "E10 - -:|> E3 [[psysml:09a722a7-3c7d-4d30-9bcf-d6d93c165304 ]] \r\n",
       "E9 o- - \"1\"E11 [[psysml:2308c13a-9c40-4baf-abe1-b4752fcfac30 ]] \r\n",
       "E11 - -:|> E3 [[psysml:713baad2-05ac-404b-8904-f9720a0da3f6 ]] \r\n",
       "@enduml\r\n",
       "\n",
       "PlantUML version 1.2020.13(Sat Jun 13 12:26:38 UTC 2020)\n",
       "(EPL source distribution)\n",
       "Java Runtime: OpenJDK Runtime Environment\n",
       "JVM: OpenJDK 64-Bit Server VM\n",
       "Default Encoding: UTF-8\n",
       "Language: en\n",
       "Country: null\n",
       "--></g></svg>"
      ]
     },
     "execution_count": 45,
     "metadata": {},
     "output_type": "execute_result"
    }
   ],
   "source": [
    "%viz --style=\"TB\" --view=\"Tree\" \"ItemTest\""
   ]
  },
  {
   "cell_type": "code",
   "execution_count": 46,
   "id": "6f08dfed",
   "metadata": {
    "execution": {
     "iopub.execute_input": "2021-10-25T08:20:56.222885Z",
     "iopub.status.busy": "2021-10-25T08:20:56.222445Z",
     "iopub.status.idle": "2021-10-25T08:20:56.227400Z",
     "shell.execute_reply": "2021-10-25T08:20:56.227714Z"
    }
   },
   "outputs": [
    {
     "data": {
      "image/svg+xml": [
       "<?xml version=\"1.0\" encoding=\"UTF-8\" standalone=\"no\"?><svg xmlns=\"http://www.w3.org/2000/svg\" xmlns:xlink=\"http://www.w3.org/1999/xlink\" contentScriptType=\"application/ecmascript\" contentStyleType=\"text/css\" height=\"12px\" preserveAspectRatio=\"none\" style=\"width:12px;height:12px;\" version=\"1.1\" viewBox=\"0 0 12 12\" width=\"12px\" zoomAndPan=\"magnify\"><defs/><g><!--MD5=[f4ee21bc66e489b5061b7c3e9601fdef]\n",
       "@startuml\r\n",
       "top to bottom direction\r\n",
       "skinparam monochrome true\r\n",
       "skinparam classbackgroundcolor white\r\n",
       "skinparam shadowing false\r\n",
       "skinparam wrapWidth 300\r\n",
       "hide circle\r\n",
       "\r\n",
       "@enduml\r\n",
       "\n",
       "PlantUML version 1.2020.13(Sat Jun 13 12:26:38 UTC 2020)\n",
       "(EPL source distribution)\n",
       "Java Runtime: OpenJDK Runtime Environment\n",
       "JVM: OpenJDK 64-Bit Server VM\n",
       "Default Encoding: UTF-8\n",
       "Language: en\n",
       "Country: null\n",
       "--></g></svg>"
      ]
     },
     "execution_count": 46,
     "metadata": {},
     "output_type": "execute_result"
    }
   ],
   "source": [
    "%viz --style=\"TB\" --view=\"State\" \"ItemTest\""
   ]
  },
  {
   "cell_type": "code",
   "execution_count": 47,
   "id": "57238adf",
   "metadata": {
    "execution": {
     "iopub.execute_input": "2021-10-25T08:20:56.277333Z",
     "iopub.status.busy": "2021-10-25T08:20:56.276901Z",
     "iopub.status.idle": "2021-10-25T08:20:56.302759Z",
     "shell.execute_reply": "2021-10-25T08:20:56.302380Z"
    }
   },
   "outputs": [
    {
     "data": {
      "image/svg+xml": [
       "<?xml version=\"1.0\" encoding=\"UTF-8\" standalone=\"no\"?><svg xmlns=\"http://www.w3.org/2000/svg\" xmlns:xlink=\"http://www.w3.org/1999/xlink\" contentScriptType=\"application/ecmascript\" contentStyleType=\"text/css\" height=\"112px\" preserveAspectRatio=\"none\" style=\"width:563px;height:112px;\" version=\"1.1\" viewBox=\"0 0 563 112\" width=\"563px\" zoomAndPan=\"magnify\"><defs/><g><!--MD5=[fbc87193dbaf4d95561dea2c320d4a47]\n",
       "cluster E1--><a href=\"psysml:9c84b130-4496-45dd-acf0-f614adf4451b\" target=\"_top\" title=\"psysml:9c84b130-4496-45dd-acf0-f614adf4451b\" xlink:actuate=\"onRequest\" xlink:href=\"psysml:9c84b130-4496-45dd-acf0-f614adf4451b\" xlink:show=\"new\" xlink:title=\"psysml:9c84b130-4496-45dd-acf0-f614adf4451b\" xlink:type=\"simple\"><polygon fill=\"#FFFFFF\" points=\"16,6,83,6,90,28.2969,541,28.2969,541,100,16,100,16,6\" style=\"stroke: #000000; stroke-width: 1.5;\"/><line style=\"stroke: #000000; stroke-width: 1.5;\" x1=\"16\" x2=\"90\" y1=\"28.2969\" y2=\"28.2969\"/><text fill=\"#000000\" font-family=\"sans-serif\" font-size=\"14\" font-weight=\"bold\" lengthAdjust=\"spacingAndGlyphs\" textLength=\"61\" x=\"20\" y=\"20.9951\">ItemTest</text></a><g id=\"E1.E3\"><a href=\"psysml:b761bda6-ef45-4173-adbe-8f17f5dd59b9\" target=\"_top\" title=\"psysml:b761bda6-ef45-4173-adbe-8f17f5dd59b9\" xlink:actuate=\"onRequest\" xlink:href=\"psysml:b761bda6-ef45-4173-adbe-8f17f5dd59b9\" xlink:show=\"new\" xlink:title=\"psysml:b761bda6-ef45-4173-adbe-8f17f5dd59b9\" xlink:type=\"simple\"><rect fill=\"#FFFFFF\" height=\"42.9375\" id=\"E3\" style=\"stroke: #383838; stroke-width: 1.5;\" width=\"76\" x=\"449\" y=\"41\"/><rect fill=\"#F8F8F8\" height=\"37.9375\" style=\"stroke: #383838; stroke-width: 1.5;\" width=\"76\" x=\"449\" y=\"41\"/><text fill=\"#000000\" font-family=\"sans-serif\" font-size=\"12\" font-style=\"italic\" lengthAdjust=\"spacingAndGlyphs\" textLength=\"69\" x=\"452.5\" y=\"57.1387\">«item  def»</text><text fill=\"#000000\" font-family=\"sans-serif\" font-size=\"12\" lengthAdjust=\"spacingAndGlyphs\" textLength=\"8\" x=\"483\" y=\"71.1074\">A</text></a></g><g id=\"E1.E4\"><a href=\"psysml:154f7142-f3c2-4f8f-a55c-1d31f59952e7\" target=\"_top\" title=\"psysml:154f7142-f3c2-4f8f-a55c-1d31f59952e7\" xlink:actuate=\"onRequest\" xlink:href=\"psysml:154f7142-f3c2-4f8f-a55c-1d31f59952e7\" xlink:show=\"new\" xlink:title=\"psysml:154f7142-f3c2-4f8f-a55c-1d31f59952e7\" xlink:type=\"simple\"><rect fill=\"#FFFFFF\" height=\"42.9375\" id=\"E4\" style=\"stroke: #383838; stroke-width: 1.5;\" width=\"76\" x=\"338\" y=\"41\"/><rect fill=\"#F8F8F8\" height=\"37.9375\" style=\"stroke: #383838; stroke-width: 1.5;\" width=\"76\" x=\"338\" y=\"41\"/><text fill=\"#000000\" font-family=\"sans-serif\" font-size=\"12\" font-style=\"italic\" lengthAdjust=\"spacingAndGlyphs\" textLength=\"69\" x=\"341.5\" y=\"57.1387\">«item  def»</text><text fill=\"#000000\" font-family=\"sans-serif\" font-size=\"12\" font-style=\"italic\" lengthAdjust=\"spacingAndGlyphs\" textLength=\"8\" x=\"372\" y=\"71.1074\">B</text></a></g><g id=\"E1.E6\"><a href=\"psysml:505a0904-767f-4431-bdaf-f395e9a256c5\" target=\"_top\" title=\"psysml:505a0904-767f-4431-bdaf-f395e9a256c5\" xlink:actuate=\"onRequest\" xlink:href=\"psysml:505a0904-767f-4431-bdaf-f395e9a256c5\" xlink:show=\"new\" xlink:title=\"psysml:505a0904-767f-4431-bdaf-f395e9a256c5\" xlink:type=\"simple\"><rect fill=\"#FFFFFF\" height=\"42.9375\" id=\"E6\" style=\"stroke: #383838; stroke-width: 1.5;\" width=\"75\" x=\"227.5\" y=\"41\"/><rect fill=\"#F8F8F8\" height=\"37.9375\" style=\"stroke: #383838; stroke-width: 1.5;\" width=\"75\" x=\"227.5\" y=\"41\"/><text fill=\"#000000\" font-family=\"sans-serif\" font-size=\"12\" font-style=\"italic\" lengthAdjust=\"spacingAndGlyphs\" textLength=\"68\" x=\"231\" y=\"57.1387\">«port  def»</text><text fill=\"#000000\" font-family=\"sans-serif\" font-size=\"12\" lengthAdjust=\"spacingAndGlyphs\" textLength=\"8\" x=\"261\" y=\"71.1074\">P</text></a></g><g id=\"E1.E2\"><a href=\"psysml:046ce2e8-70d6-418b-9e34-4058f6a1e698\" target=\"_top\" title=\"psysml:046ce2e8-70d6-418b-9e34-4058f6a1e698\" xlink:actuate=\"onRequest\" xlink:href=\"psysml:046ce2e8-70d6-418b-9e34-4058f6a1e698\" xlink:show=\"new\" xlink:title=\"psysml:046ce2e8-70d6-418b-9e34-4058f6a1e698\" xlink:type=\"simple\"><rect fill=\"#FFFFFF\" height=\"42.9375\" id=\"E2\" rx=\"10\" ry=\"10\" style=\"stroke: #383838; stroke-width: 1.5;\" width=\"50\" x=\"142\" y=\"41\"/><rect fill=\"#F8F8F8\" height=\"37.9375\" rx=\"10\" ry=\"10\" style=\"stroke: #F8F8F8; stroke-width: 1.5;\" width=\"50\" x=\"142\" y=\"41\"/><rect fill=\"#F8F8F8\" height=\"10\" style=\"stroke: #F8F8F8; stroke-width: 1.5;\" width=\"50\" x=\"142\" y=\"68.9375\"/><rect fill=\"none\" height=\"42.9375\" id=\"E2\" rx=\"10\" ry=\"10\" style=\"stroke: #383838; stroke-width: 1.5;\" width=\"50\" x=\"142\" y=\"41\"/><text fill=\"#000000\" font-family=\"sans-serif\" font-size=\"12\" font-style=\"italic\" lengthAdjust=\"spacingAndGlyphs\" textLength=\"41\" x=\"146.5\" y=\"57.1387\">«item»</text><text fill=\"#000000\" font-family=\"sans-serif\" font-size=\"12\" lengthAdjust=\"spacingAndGlyphs\" textLength=\"20\" x=\"157\" y=\"71.1074\">f: A</text></a></g><g id=\"E1.E5\"><a href=\"psysml:a977dc12-1522-4e17-86ea-88834b4a9262\" target=\"_top\" title=\"psysml:a977dc12-1522-4e17-86ea-88834b4a9262\" xlink:actuate=\"onRequest\" xlink:href=\"psysml:a977dc12-1522-4e17-86ea-88834b4a9262\" xlink:show=\"new\" xlink:title=\"psysml:a977dc12-1522-4e17-86ea-88834b4a9262\" xlink:type=\"simple\"><rect fill=\"#FFFFFF\" height=\"42.9375\" id=\"E5\" style=\"stroke: #383838; stroke-width: 1.5;\" width=\"75\" x=\"31.5\" y=\"41\"/><rect fill=\"#F8F8F8\" height=\"37.9375\" style=\"stroke: #383838; stroke-width: 1.5;\" width=\"75\" x=\"31.5\" y=\"41\"/><text fill=\"#000000\" font-family=\"sans-serif\" font-size=\"12\" font-style=\"italic\" lengthAdjust=\"spacingAndGlyphs\" textLength=\"68\" x=\"35\" y=\"57.1387\">«part  def»</text><text fill=\"#000000\" font-family=\"sans-serif\" font-size=\"12\" lengthAdjust=\"spacingAndGlyphs\" textLength=\"8\" x=\"65\" y=\"71.1074\">C</text></a></g><!--MD5=[848dabe261bde0d58ede7ad4285f732a]\n",
       "@startuml\r\n",
       "skinparam ranksep 10\r\n",
       "skinparam rectangle {\r\n",
       " backgroundColor<<block>> LightGreen\r\n",
       "}\r\n",
       "top to bottom direction\r\n",
       "skinparam monochrome true\r\n",
       "skinparam classbackgroundcolor white\r\n",
       "skinparam shadowing false\r\n",
       "skinparam wrapWidth 300\r\n",
       "hide circle\r\n",
       "\r\n",
       "package \"ItemTest\" as E1  [[psysml:9c84b130-4496-45dd-acf0-f614adf4451b ]]  {\r\n",
       "rec usage \"f: A\" as E2  <<(T,blue) item>> [[psysml:046ce2e8-70d6-418b-9e34-4058f6a1e698 ]] {\r\n",
       "}\r\n",
       "def \"A\" as E3  <<(T,blue) item  def>> [[psysml:b761bda6-ef45-4173-adbe-8f17f5dd59b9 ]] \r\n",
       "def \"<i>B</i>\" as E4  <<(T,blue) item  def>> [[psysml:154f7142-f3c2-4f8f-a55c-1d31f59952e7 ]] \r\n",
       "rec def \"C\" as E5  <<(T,blue) part  def>> [[psysml:a977dc12-1522-4e17-86ea-88834b4a9262 ]] {\r\n",
       "}\r\n",
       "def \"P\" as E6  <<(T,blue) port  def>> [[psysml:505a0904-767f-4431-bdaf-f395e9a256c5 ]] \r\n",
       "}\r\n",
       "@enduml\r\n",
       "\n",
       "PlantUML version 1.2020.13(Sat Jun 13 12:26:38 UTC 2020)\n",
       "(EPL source distribution)\n",
       "Java Runtime: OpenJDK Runtime Environment\n",
       "JVM: OpenJDK 64-Bit Server VM\n",
       "Default Encoding: UTF-8\n",
       "Language: en\n",
       "Country: null\n",
       "--></g></svg>"
      ]
     },
     "execution_count": 47,
     "metadata": {},
     "output_type": "execute_result"
    }
   ],
   "source": [
    "%viz --style=\"TB\" --view=\"Interconnection\" \"ItemTest\""
   ]
  },
  {
   "cell_type": "code",
   "execution_count": 48,
   "id": "9cae55e4",
   "metadata": {
    "execution": {
     "iopub.execute_input": "2021-10-25T08:20:56.352064Z",
     "iopub.status.busy": "2021-10-25T08:20:56.351635Z",
     "iopub.status.idle": "2021-10-25T08:20:56.356594Z",
     "shell.execute_reply": "2021-10-25T08:20:56.356934Z"
    }
   },
   "outputs": [
    {
     "data": {
      "image/svg+xml": [
       "<?xml version=\"1.0\" encoding=\"UTF-8\" standalone=\"no\"?><svg xmlns=\"http://www.w3.org/2000/svg\" xmlns:xlink=\"http://www.w3.org/1999/xlink\" contentScriptType=\"application/ecmascript\" contentStyleType=\"text/css\" height=\"12px\" preserveAspectRatio=\"none\" style=\"width:12px;height:12px;\" version=\"1.1\" viewBox=\"0 0 12 12\" width=\"12px\" zoomAndPan=\"magnify\"><defs/><g><!--MD5=[06afc254b03ac5e9d9fb7773b07d0800]\n",
       "@startuml\r\n",
       "skinparam ranksep 8\r\n",
       "top to bottom direction\r\n",
       "skinparam monochrome true\r\n",
       "skinparam classbackgroundcolor white\r\n",
       "skinparam shadowing false\r\n",
       "skinparam wrapWidth 300\r\n",
       "hide circle\r\n",
       "\r\n",
       "@enduml\r\n",
       "\n",
       "PlantUML version 1.2020.13(Sat Jun 13 12:26:38 UTC 2020)\n",
       "(EPL source distribution)\n",
       "Java Runtime: OpenJDK Runtime Environment\n",
       "JVM: OpenJDK 64-Bit Server VM\n",
       "Default Encoding: UTF-8\n",
       "Language: en\n",
       "Country: null\n",
       "--></g></svg>"
      ]
     },
     "execution_count": 48,
     "metadata": {},
     "output_type": "execute_result"
    }
   ],
   "source": [
    "%viz --style=\"TB\" --view=\"Action\" \"ItemTest\""
   ]
  },
  {
   "cell_type": "code",
   "execution_count": 49,
   "id": "b1df924d",
   "metadata": {
    "execution": {
     "iopub.execute_input": "2021-10-25T08:20:56.406408Z",
     "iopub.status.busy": "2021-10-25T08:20:56.405989Z",
     "iopub.status.idle": "2021-10-25T08:20:56.411584Z",
     "shell.execute_reply": "2021-10-25T08:20:56.411236Z"
    }
   },
   "outputs": [
    {
     "data": {
      "image/svg+xml": [
       "<?xml version=\"1.0\" encoding=\"UTF-8\" standalone=\"no\"?><svg xmlns=\"http://www.w3.org/2000/svg\" xmlns:xlink=\"http://www.w3.org/1999/xlink\" contentScriptType=\"application/ecmascript\" contentStyleType=\"text/css\" height=\"12px\" preserveAspectRatio=\"none\" style=\"width:12px;height:12px;\" version=\"1.1\" viewBox=\"0 0 12 12\" width=\"12px\" zoomAndPan=\"magnify\"><defs/><g><!--MD5=[e1ab0c84c44d2fef8bf5f140f2689906]\n",
       "@startuml\r\n",
       "skinparam roundcorner 20\r\n",
       "skinparam BoxPadding 20\r\n",
       "skinparam SequenceBoxBackgroundColor #white\r\n",
       "skinparam style strictuml\r\n",
       "skinparam maxMessageSize 100\r\n",
       "top to bottom direction\r\n",
       "skinparam monochrome true\r\n",
       "skinparam classbackgroundcolor white\r\n",
       "skinparam shadowing false\r\n",
       "skinparam wrapWidth 300\r\n",
       "hide circle\r\n",
       "\r\n",
       "@enduml\r\n",
       "\n",
       "PlantUML version 1.2020.13(Sat Jun 13 12:26:38 UTC 2020)\n",
       "(EPL source distribution)\n",
       "Java Runtime: OpenJDK Runtime Environment\n",
       "JVM: OpenJDK 64-Bit Server VM\n",
       "Default Encoding: UTF-8\n",
       "Language: en\n",
       "Country: null\n",
       "--></g></svg>"
      ]
     },
     "execution_count": 49,
     "metadata": {},
     "output_type": "execute_result"
    }
   ],
   "source": [
    "%viz --style=\"TB\" --view=\"Sequence\" \"ItemTest\""
   ]
  },
  {
   "cell_type": "code",
   "execution_count": 50,
   "id": "74e50db9",
   "metadata": {
    "execution": {
     "iopub.execute_input": "2021-10-25T08:20:56.461136Z",
     "iopub.status.busy": "2021-10-25T08:20:56.460718Z",
     "iopub.status.idle": "2021-10-25T08:20:56.514643Z",
     "shell.execute_reply": "2021-10-25T08:20:56.512615Z"
    }
   },
   "outputs": [
    {
     "data": {
      "image/svg+xml": [
       "<?xml version=\"1.0\" encoding=\"UTF-8\" standalone=\"no\"?><svg xmlns=\"http://www.w3.org/2000/svg\" xmlns:xlink=\"http://www.w3.org/1999/xlink\" contentScriptType=\"application/ecmascript\" contentStyleType=\"text/css\" height=\"848px\" preserveAspectRatio=\"none\" style=\"width:344px;height:848px;\" version=\"1.1\" viewBox=\"0 0 344 848\" width=\"344px\" zoomAndPan=\"magnify\"><defs/><g><!--MD5=[fbc87193dbaf4d95561dea2c320d4a47]\n",
       "cluster E1--><a href=\"psysml:9c84b130-4496-45dd-acf0-f614adf4451b\" target=\"_top\" title=\"psysml:9c84b130-4496-45dd-acf0-f614adf4451b\" xlink:actuate=\"onRequest\" xlink:href=\"psysml:9c84b130-4496-45dd-acf0-f614adf4451b\" xlink:show=\"new\" xlink:title=\"psysml:9c84b130-4496-45dd-acf0-f614adf4451b\" xlink:type=\"simple\"><polygon fill=\"#FFFFFF\" points=\"16,6,83,6,90,28.2969,322,28.2969,322,836,16,836,16,6\" style=\"stroke: #000000; stroke-width: 1.5;\"/><line style=\"stroke: #000000; stroke-width: 1.5;\" x1=\"16\" x2=\"90\" y1=\"28.2969\" y2=\"28.2969\"/><text fill=\"#000000\" font-family=\"sans-serif\" font-size=\"14\" font-weight=\"bold\" lengthAdjust=\"spacingAndGlyphs\" textLength=\"61\" x=\"20\" y=\"20.9951\">ItemTest</text></a><!--MD5=[b4997ac47864f28c2f74865a473b2911]\n",
       "class E2--><a href=\"psysml:046ce2e8-70d6-418b-9e34-4058f6a1e698\" target=\"_top\" title=\"psysml:046ce2e8-70d6-418b-9e34-4058f6a1e698\" xlink:actuate=\"onRequest\" xlink:href=\"psysml:046ce2e8-70d6-418b-9e34-4058f6a1e698\" xlink:show=\"new\" xlink:title=\"psysml:046ce2e8-70d6-418b-9e34-4058f6a1e698\" xlink:type=\"simple\"><rect fill=\"#FFFFFF\" height=\"45.9375\" id=\"E2\" rx=\"10\" ry=\"10\" style=\"stroke: #383838; stroke-width: 1.5;\" width=\"43\" x=\"239.5\" y=\"148\"/><text fill=\"#000000\" font-family=\"sans-serif\" font-size=\"12\" font-style=\"italic\" lengthAdjust=\"spacingAndGlyphs\" textLength=\"41\" x=\"240.5\" y=\"164.1387\">«item»</text><text fill=\"#000000\" font-family=\"sans-serif\" font-size=\"12\" lengthAdjust=\"spacingAndGlyphs\" textLength=\"20\" x=\"249\" y=\"178.1074\">f: A</text><line style=\"stroke: #383838; stroke-width: 1.5;\" x1=\"240.5\" x2=\"281.5\" y1=\"185.9375\" y2=\"185.9375\"/></a><!--MD5=[09b614a08d8cba4a07c9adeb5e0fee81]\n",
       "class E3--><a href=\"psysml:b761bda6-ef45-4173-adbe-8f17f5dd59b9\" target=\"_top\" title=\"psysml:b761bda6-ef45-4173-adbe-8f17f5dd59b9\" xlink:actuate=\"onRequest\" xlink:href=\"psysml:b761bda6-ef45-4173-adbe-8f17f5dd59b9\" xlink:show=\"new\" xlink:title=\"psysml:b761bda6-ef45-4173-adbe-8f17f5dd59b9\" xlink:type=\"simple\"><rect fill=\"#FFFFFF\" height=\"45.9375\" id=\"E3\" style=\"stroke: #383838; stroke-width: 1.5;\" width=\"71\" x=\"147.5\" y=\"255\"/><text fill=\"#000000\" font-family=\"sans-serif\" font-size=\"12\" font-style=\"italic\" lengthAdjust=\"spacingAndGlyphs\" textLength=\"69\" x=\"148.5\" y=\"271.1387\">«item  def»</text><text fill=\"#000000\" font-family=\"sans-serif\" font-size=\"12\" lengthAdjust=\"spacingAndGlyphs\" textLength=\"8\" x=\"179\" y=\"285.1074\">A</text><line style=\"stroke: #383838; stroke-width: 1.5;\" x1=\"148.5\" x2=\"217.5\" y1=\"292.9375\" y2=\"292.9375\"/></a><!--MD5=[ebbe1d658d1005bcc118a6aa81145e00]\n",
       "class E4--><a href=\"psysml:5a9b7c1e-d921-40a5-84d4-dcafad1b8599\" target=\"_top\" title=\"psysml:5a9b7c1e-d921-40a5-84d4-dcafad1b8599\" xlink:actuate=\"onRequest\" xlink:href=\"psysml:5a9b7c1e-d921-40a5-84d4-dcafad1b8599\" xlink:show=\"new\" xlink:title=\"psysml:5a9b7c1e-d921-40a5-84d4-dcafad1b8599\" xlink:type=\"simple\"><rect fill=\"#FFFFFF\" height=\"45.9375\" id=\"E4\" rx=\"10\" ry=\"10\" style=\"stroke: #383838; stroke-width: 1.5;\" width=\"43\" x=\"255.5\" y=\"438\"/><text fill=\"#000000\" font-family=\"sans-serif\" font-size=\"12\" font-style=\"italic\" lengthAdjust=\"spacingAndGlyphs\" textLength=\"41\" x=\"256.5\" y=\"454.1387\">«item»</text><text fill=\"#000000\" font-family=\"sans-serif\" font-size=\"12\" lengthAdjust=\"spacingAndGlyphs\" textLength=\"24\" x=\"263\" y=\"468.1074\">b: B</text><line style=\"stroke: #383838; stroke-width: 1.5;\" x1=\"256.5\" x2=\"297.5\" y1=\"475.9375\" y2=\"475.9375\"/></a><!--MD5=[270fce915f116d4de14055a7c1d9a0f3]\n",
       "class E5--><a href=\"psysml:c52e7c62-32ae-43e1-a51e-2d7f86512260\" target=\"_top\" title=\"psysml:c52e7c62-32ae-43e1-a51e-2d7f86512260\" xlink:actuate=\"onRequest\" xlink:href=\"psysml:c52e7c62-32ae-43e1-a51e-2d7f86512260\" xlink:show=\"new\" xlink:title=\"psysml:c52e7c62-32ae-43e1-a51e-2d7f86512260\" xlink:type=\"simple\"><rect fill=\"#FFFFFF\" height=\"45.9375\" id=\"E5\" rx=\"10\" ry=\"10\" style=\"stroke: #383838; stroke-width: 1.5;\" width=\"42\" x=\"227\" y=\"362\"/><text fill=\"#000000\" font-family=\"sans-serif\" font-size=\"12\" font-style=\"italic\" lengthAdjust=\"spacingAndGlyphs\" textLength=\"40\" x=\"228\" y=\"378.1387\">«part»</text><text fill=\"#000000\" font-family=\"sans-serif\" font-size=\"12\" lengthAdjust=\"spacingAndGlyphs\" textLength=\"23\" x=\"234.5\" y=\"392.1074\">c: C</text><line style=\"stroke: #383838; stroke-width: 1.5;\" x1=\"228\" x2=\"268\" y1=\"399.9375\" y2=\"399.9375\"/></a><!--MD5=[60a26617385b1d2d0262a64233df1f8d]\n",
       "class E6--><a href=\"psysml:154f7142-f3c2-4f8f-a55c-1d31f59952e7\" target=\"_top\" title=\"psysml:154f7142-f3c2-4f8f-a55c-1d31f59952e7\" xlink:actuate=\"onRequest\" xlink:href=\"psysml:154f7142-f3c2-4f8f-a55c-1d31f59952e7\" xlink:show=\"new\" xlink:title=\"psysml:154f7142-f3c2-4f8f-a55c-1d31f59952e7\" xlink:type=\"simple\"><rect fill=\"#FFFFFF\" height=\"45.9375\" id=\"E6\" style=\"stroke: #383838; stroke-width: 1.5;\" width=\"71\" x=\"146.5\" y=\"667\"/><text fill=\"#000000\" font-family=\"sans-serif\" font-size=\"12\" font-style=\"italic\" lengthAdjust=\"spacingAndGlyphs\" textLength=\"69\" x=\"147.5\" y=\"683.1387\">«item  def»</text><text fill=\"#000000\" font-family=\"sans-serif\" font-size=\"12\" font-style=\"italic\" lengthAdjust=\"spacingAndGlyphs\" textLength=\"8\" x=\"178\" y=\"697.1074\">B</text><line style=\"stroke: #383838; stroke-width: 1.5;\" x1=\"147.5\" x2=\"216.5\" y1=\"704.9375\" y2=\"704.9375\"/></a><!--MD5=[2156ba9850f5573cc1fc38a6a4b2f02b]\n",
       "class E7--><a href=\"psysml:3092a58e-bc17-492e-b3ac-d9b0c5d27ee1\" target=\"_top\" title=\"psysml:3092a58e-bc17-492e-b3ac-d9b0c5d27ee1\" xlink:actuate=\"onRequest\" xlink:href=\"psysml:3092a58e-bc17-492e-b3ac-d9b0c5d27ee1\" xlink:show=\"new\" xlink:title=\"psysml:3092a58e-bc17-492e-b3ac-d9b0c5d27ee1\" xlink:type=\"simple\"><rect fill=\"#FFFFFF\" height=\"45.9375\" id=\"E7\" rx=\"10\" ry=\"10\" style=\"stroke: #383838; stroke-width: 1.5;\" width=\"42\" x=\"96\" y=\"774\"/><text fill=\"#000000\" font-family=\"sans-serif\" font-size=\"12\" font-style=\"italic\" lengthAdjust=\"spacingAndGlyphs\" textLength=\"40\" x=\"97\" y=\"790.1387\">«part»</text><text fill=\"#000000\" font-family=\"sans-serif\" font-size=\"12\" font-style=\"italic\" lengthAdjust=\"spacingAndGlyphs\" textLength=\"8\" x=\"103\" y=\"804.1074\">a</text><text fill=\"#000000\" font-family=\"sans-serif\" font-size=\"12\" lengthAdjust=\"spacingAndGlyphs\" textLength=\"16\" x=\"111\" y=\"804.1074\">: A</text><line style=\"stroke: #383838; stroke-width: 1.5;\" x1=\"97\" x2=\"137\" y1=\"811.9375\" y2=\"811.9375\"/></a><!--MD5=[b9389687b975829384b498ac4b7476b2]\n",
       "class E8--><a href=\"psysml:a977dc12-1522-4e17-86ea-88834b4a9262\" target=\"_top\" title=\"psysml:a977dc12-1522-4e17-86ea-88834b4a9262\" xlink:actuate=\"onRequest\" xlink:href=\"psysml:a977dc12-1522-4e17-86ea-88834b4a9262\" xlink:show=\"new\" xlink:title=\"psysml:a977dc12-1522-4e17-86ea-88834b4a9262\" xlink:type=\"simple\"><rect fill=\"#FFFFFF\" height=\"75.5469\" id=\"E8\" style=\"stroke: #383838; stroke-width: 1.5;\" width=\"75\" x=\"145.5\" y=\"514\"/><text fill=\"#000000\" font-family=\"sans-serif\" font-size=\"12\" font-style=\"italic\" lengthAdjust=\"spacingAndGlyphs\" textLength=\"68\" x=\"149\" y=\"530.1387\">«part  def»</text><text fill=\"#000000\" font-family=\"sans-serif\" font-size=\"12\" lengthAdjust=\"spacingAndGlyphs\" textLength=\"8\" x=\"179\" y=\"544.1074\">C</text><line style=\"stroke: #383838; stroke-width: 1.5;\" x1=\"146.5\" x2=\"219.5\" y1=\"551.9375\" y2=\"551.9375\"/><text fill=\"#000000\" font-family=\"sans-serif\" font-size=\"11\" font-weight=\"bold\" lengthAdjust=\"spacingAndGlyphs\" textLength=\"10\" x=\"151.5\" y=\"582.9526\">in</text><text fill=\"#000000\" font-family=\"sans-serif\" font-size=\"11\" lengthAdjust=\"spacingAndGlyphs\" textLength=\"37\" x=\"165.5\" y=\"582.9526\">y: A, B</text><line style=\"stroke: #383838; stroke-width: 1.0;\" x1=\"146.5\" x2=\"149.5\" y1=\"566.3398\" y2=\"566.3398\"/><text fill=\"#000000\" font-family=\"sans-serif\" font-size=\"11\" lengthAdjust=\"spacingAndGlyphs\" textLength=\"67\" x=\"149.5\" y=\"569.6479\">parameters</text><line style=\"stroke: #383838; stroke-width: 1.0;\" x1=\"216.5\" x2=\"219.5\" y1=\"566.3398\" y2=\"566.3398\"/></a><!--MD5=[fd4143e9d270a159db93a4ea2a975926]\n",
       "class E9--><a href=\"psysml:505a0904-767f-4431-bdaf-f395e9a256c5\" target=\"_top\" title=\"psysml:505a0904-767f-4431-bdaf-f395e9a256c5\" xlink:actuate=\"onRequest\" xlink:href=\"psysml:505a0904-767f-4431-bdaf-f395e9a256c5\" xlink:show=\"new\" xlink:title=\"psysml:505a0904-767f-4431-bdaf-f395e9a256c5\" xlink:type=\"simple\"><rect fill=\"#FFFFFF\" height=\"45.9375\" id=\"E9\" style=\"stroke: #383838; stroke-width: 1.5;\" width=\"70\" x=\"109\" y=\"41\"/><text fill=\"#000000\" font-family=\"sans-serif\" font-size=\"12\" font-style=\"italic\" lengthAdjust=\"spacingAndGlyphs\" textLength=\"68\" x=\"110\" y=\"57.1387\">«port  def»</text><text fill=\"#000000\" font-family=\"sans-serif\" font-size=\"12\" lengthAdjust=\"spacingAndGlyphs\" textLength=\"8\" x=\"140\" y=\"71.1074\">P</text><line style=\"stroke: #383838; stroke-width: 1.5;\" x1=\"110\" x2=\"178\" y1=\"78.9375\" y2=\"78.9375\"/></a><!--MD5=[96f4274e9e20536e775497830990834d]\n",
       "class E10--><a href=\"psysml:b48ee9ab-0a15-45ce-8465-86ae83c4be7f\" target=\"_top\" title=\"psysml:b48ee9ab-0a15-45ce-8465-86ae83c4be7f\" xlink:actuate=\"onRequest\" xlink:href=\"psysml:b48ee9ab-0a15-45ce-8465-86ae83c4be7f\" xlink:show=\"new\" xlink:title=\"psysml:b48ee9ab-0a15-45ce-8465-86ae83c4be7f\" xlink:type=\"simple\"><rect fill=\"#FFFFFF\" height=\"45.9375\" id=\"E10\" rx=\"10\" ry=\"10\" style=\"stroke: #383838; stroke-width: 1.5;\" width=\"43\" x=\"83.5\" y=\"148\"/><text fill=\"#000000\" font-family=\"sans-serif\" font-size=\"12\" font-style=\"italic\" lengthAdjust=\"spacingAndGlyphs\" textLength=\"41\" x=\"84.5\" y=\"164.1387\">«item»</text><text fill=\"#000000\" font-family=\"sans-serif\" font-size=\"12\" lengthAdjust=\"spacingAndGlyphs\" textLength=\"32\" x=\"87\" y=\"178.1074\">a1: A</text><line style=\"stroke: #383838; stroke-width: 1.5;\" x1=\"84.5\" x2=\"125.5\" y1=\"185.9375\" y2=\"185.9375\"/></a><!--MD5=[1dd1bfd58a279cf63c5f349dbc8fc6a1]\n",
       "class E11--><a href=\"psysml:7b14a527-4e8d-41df-a91b-3ca9db44b1d9\" target=\"_top\" title=\"psysml:7b14a527-4e8d-41df-a91b-3ca9db44b1d9\" xlink:actuate=\"onRequest\" xlink:href=\"psysml:7b14a527-4e8d-41df-a91b-3ca9db44b1d9\" xlink:show=\"new\" xlink:title=\"psysml:7b14a527-4e8d-41df-a91b-3ca9db44b1d9\" xlink:type=\"simple\"><rect fill=\"#FFFFFF\" height=\"45.9375\" id=\"E11\" rx=\"10\" ry=\"10\" style=\"stroke: #383838; stroke-width: 1.5;\" width=\"43\" x=\"161.5\" y=\"148\"/><text fill=\"#000000\" font-family=\"sans-serif\" font-size=\"12\" font-style=\"italic\" lengthAdjust=\"spacingAndGlyphs\" textLength=\"41\" x=\"162.5\" y=\"164.1387\">«item»</text><text fill=\"#000000\" font-family=\"sans-serif\" font-size=\"12\" lengthAdjust=\"spacingAndGlyphs\" textLength=\"32\" x=\"165\" y=\"178.1074\">a2: A</text><line style=\"stroke: #383838; stroke-width: 1.5;\" x1=\"162.5\" x2=\"203.5\" y1=\"185.9375\" y2=\"185.9375\"/></a><!--MD5=[2720a5a1f2c3fca2055b230370638851]\n",
       "link E2 to E3--><a href=\"psysml:2913aa14-34e4-4ebc-b3c0-73cbbe37a712\" target=\"_top\" title=\"psysml:2913aa14-34e4-4ebc-b3c0-73cbbe37a712\" xlink:actuate=\"onRequest\" xlink:href=\"psysml:2913aa14-34e4-4ebc-b3c0-73cbbe37a712\" xlink:show=\"new\" xlink:title=\"psysml:2913aa14-34e4-4ebc-b3c0-73cbbe37a712\" xlink:type=\"simple\"><path d=\"M244.65,194.01 C235.14,206.81 222.89,223.3 211.82,238.2 \" fill=\"none\" id=\"E2-&gt;E3\" style=\"stroke: #383838; stroke-width: 1.0;\"/><polygon fill=\"#FFFFFF\" points=\"199.6,254.66,205.3195,235.2361,216.5543,243.5896,199.6,254.66\" style=\"stroke: #383838; stroke-width: 1.0;\"/><ellipse cx=\"210.3256\" cy=\"231.8554\" fill=\"#383838\" rx=\"2\" ry=\"2\" style=\"stroke: #383838; stroke-width: 1.0;\"/><ellipse cx=\"218.3504\" cy=\"237.8221\" fill=\"#383838\" rx=\"2\" ry=\"2\" style=\"stroke: #383838; stroke-width: 1.0;\"/></a><!--MD5=[4672eba38e49728da53d11aeb285b987]\n",
       "reverse link E3 to E4--><a href=\"psysml:5a70b25d-3e65-48fe-9200-ece04e9de0ee\" target=\"_top\" title=\"psysml:5a70b25d-3e65-48fe-9200-ece04e9de0ee\" xlink:actuate=\"onRequest\" xlink:href=\"psysml:5a70b25d-3e65-48fe-9200-ece04e9de0ee\" xlink:show=\"new\" xlink:title=\"psysml:5a70b25d-3e65-48fe-9200-ece04e9de0ee\" xlink:type=\"simple\"><path d=\"M229.65,303.21 C251.35,317.2 274.97,337.01 287,362 C298.57,386.04 292.33,417.17 285.68,437.83 \" fill=\"none\" id=\"E3&lt;-E4\" style=\"stroke: #383838; stroke-width: 1.0;\"/><polygon fill=\"#383838\" points=\"218.55,296.43,221.5791,302.974,228.7848,302.6949,225.7557,296.1508,218.55,296.43\" style=\"stroke: #383838; stroke-width: 1.0;\"/><text fill=\"#000000\" font-family=\"sans-serif\" font-size=\"13\" lengthAdjust=\"spacingAndGlyphs\" textLength=\"8\" x=\"278.8793\" y=\"427.0627\">1</text></a><!--MD5=[191cde3d490a3f6d7bb551fe3ddca469]\n",
       "reverse link E3 to E5--><a href=\"psysml:98aba136-2768-4c7e-bc34-95a5a6a911cd\" target=\"_top\" title=\"psysml:98aba136-2768-4c7e-bc34-95a5a6a911cd\" xlink:actuate=\"onRequest\" xlink:href=\"psysml:98aba136-2768-4c7e-bc34-95a5a6a911cd\" xlink:show=\"new\" xlink:title=\"psysml:98aba136-2768-4c7e-bc34-95a5a6a911cd\" xlink:type=\"simple\"><path d=\"M203.52,312.15 C213.51,328.29 225.26,347.26 234.17,361.66 \" fill=\"none\" id=\"E3&lt;-E5\" style=\"stroke: #383838; stroke-width: 1.0;\"/><polygon fill=\"#FFFFFF\" points=\"196.63,301.01,196.3861,308.217,202.9449,311.214,203.1888,304.007,196.63,301.01\" style=\"stroke: #383838; stroke-width: 1.0;\"/><text fill=\"#000000\" font-family=\"sans-serif\" font-size=\"13\" lengthAdjust=\"spacingAndGlyphs\" textLength=\"8\" x=\"221.6011\" y=\"350.8492\">1</text></a><!--MD5=[79568f1e445c3877b6a54524624ccc7d]\n",
       "link E4 to E6--><a href=\"psysml:04be4dec-9fb2-423c-a400-1c82afc162c3\" target=\"_top\" title=\"psysml:04be4dec-9fb2-423c-a400-1c82afc162c3\" xlink:actuate=\"onRequest\" xlink:href=\"psysml:04be4dec-9fb2-423c-a400-1c82afc162c3\" xlink:show=\"new\" xlink:title=\"psysml:04be4dec-9fb2-423c-a400-1c82afc162c3\" xlink:type=\"simple\"><path d=\"M271.8,484.26 C265.37,510.22 253.39,554.13 238,590 C229.26,610.36 217.43,631.9 206.88,649.66 \" fill=\"none\" id=\"E4-&gt;E6\" style=\"stroke: #383838; stroke-width: 1.0;\"/><polygon fill=\"#FFFFFF\" points=\"196.36,666.92,200.2791,647.0544,212.2307,654.3454,196.36,666.92\" style=\"stroke: #383838; stroke-width: 1.0;\"/><ellipse cx=\"204.955\" cy=\"643.23\" fill=\"#383838\" rx=\"2\" ry=\"2\" style=\"stroke: #383838; stroke-width: 1.0;\"/><ellipse cx=\"213.4918\" cy=\"648.4378\" fill=\"#383838\" rx=\"2\" ry=\"2\" style=\"stroke: #383838; stroke-width: 1.0;\"/></a><!--MD5=[3f50a3473f1dfb74d3f76443e03635af]\n",
       "reverse link E6 to E7--><a href=\"psysml:88a05b08-39fe-46e7-8c9b-5df9e56fb426\" target=\"_top\" title=\"psysml:88a05b08-39fe-46e7-8c9b-5df9e56fb426\" xlink:actuate=\"onRequest\" xlink:href=\"psysml:88a05b08-39fe-46e7-8c9b-5df9e56fb426\" xlink:show=\"new\" xlink:title=\"psysml:88a05b08-39fe-46e7-8c9b-5df9e56fb426\" xlink:type=\"simple\"><path d=\"M161.48,724.15 C151.49,740.29 139.74,759.26 130.83,773.66 \" fill=\"none\" id=\"E6&lt;-E7\" style=\"stroke: #383838; stroke-width: 1.0;\"/><polygon fill=\"#383838\" points=\"168.37,713.01,161.8112,716.007,162.0551,723.214,168.6139,720.217,168.37,713.01\" style=\"stroke: #383838; stroke-width: 1.0;\"/><text fill=\"#000000\" font-family=\"sans-serif\" font-size=\"13\" lengthAdjust=\"spacingAndGlyphs\" textLength=\"8\" x=\"125.3489\" y=\"762.8492\">1</text></a><!--MD5=[14ccda38c055a5c0da953d572bc50960]\n",
       "link E7 to E3--><a href=\"psysml:de23f89f-df32-45d9-b344-47d8d19c4edc\" target=\"_top\" title=\"psysml:de23f89f-df32-45d9-b344-47d8d19c4edc\" xlink:actuate=\"onRequest\" xlink:href=\"psysml:de23f89f-df32-45d9-b344-47d8d19c4edc\" xlink:show=\"new\" xlink:title=\"psysml:de23f89f-df32-45d9-b344-47d8d19c4edc\" xlink:type=\"simple\"><path d=\"M95.8,782.47 C70.92,764.75 33,731.15 33,691 C33,384 33,384 33,384 C33,335.87 85.48,307.94 128.35,293.16 \" fill=\"none\" id=\"E7-&gt;E3\" style=\"stroke: #383838; stroke-width: 1.0;\"/><polygon fill=\"#FFFFFF\" points=\"147.45,287.18,131.4154,299.545,127.2259,286.1865,147.45,287.18\" style=\"stroke: #383838; stroke-width: 1.0;\"/><ellipse cx=\"125.3781\" cy=\"299.3424\" fill=\"#383838\" rx=\"2\" ry=\"2\" style=\"stroke: #383838; stroke-width: 1.0;\"/><ellipse cx=\"122.3856\" cy=\"289.8006\" fill=\"#383838\" rx=\"2\" ry=\"2\" style=\"stroke: #383838; stroke-width: 1.0;\"/></a><!--MD5=[dfaffb906826c3e5aca635516100ff21]\n",
       "link E5 to E8--><a href=\"psysml:feaf6c57-7b20-4701-8323-0c325a1238bf\" target=\"_top\" title=\"psysml:feaf6c57-7b20-4701-8323-0c325a1238bf\" xlink:actuate=\"onRequest\" xlink:href=\"psysml:feaf6c57-7b20-4701-8323-0c325a1238bf\" xlink:show=\"new\" xlink:title=\"psysml:feaf6c57-7b20-4701-8323-0c325a1238bf\" xlink:type=\"simple\"><path d=\"M239.23,408.25 C230.48,430.48 216.67,465.53 204.93,495.33 \" fill=\"none\" id=\"E5-&gt;E8\" style=\"stroke: #383838; stroke-width: 1.0;\"/><polygon fill=\"#FFFFFF\" points=\"197.58,513.98,198.027,493.7365,211.0538,498.8652,197.58,513.98\" style=\"stroke: #383838; stroke-width: 1.0;\"/><ellipse cx=\"201.9761\" cy=\"489.1654\" fill=\"#383838\" rx=\"2\" ry=\"2\" style=\"stroke: #383838; stroke-width: 1.0;\"/><ellipse cx=\"211.2809\" cy=\"492.8288\" fill=\"#383838\" rx=\"2\" ry=\"2\" style=\"stroke: #383838; stroke-width: 1.0;\"/></a><!--MD5=[03c8294790d3c57651a1993cecff665f]\n",
       "reverse link E8 to E3--><a href=\"psysml:f63e9e98-9395-484c-b7ba-710e403c3592\" target=\"_top\" title=\"psysml:f63e9e98-9395-484c-b7ba-710e403c3592\" xlink:actuate=\"onRequest\" xlink:href=\"psysml:f63e9e98-9395-484c-b7ba-710e403c3592\" xlink:show=\"new\" xlink:title=\"psysml:f63e9e98-9395-484c-b7ba-710e403c3592\" xlink:type=\"simple\"><path d=\"M154.57,502.18 C135.93,463.97 117.34,409.52 131,362 C137.48,339.45 152.09,317.09 164.17,301.27 \" fill=\"none\" id=\"E8&lt;-E3\" style=\"stroke: #383838; stroke-width: 1.0;\"/><polygon fill=\"#FFFFFF\" points=\"160.58,513.99,161.4217,506.8282,155.1345,503.2967,154.2928,510.4585,160.58,513.99\" style=\"stroke: #383838; stroke-width: 1.0;\"/><text fill=\"#000000\" font-family=\"sans-serif\" font-size=\"13\" lengthAdjust=\"spacingAndGlyphs\" textLength=\"7\" x=\"132\" y=\"389.5669\">y</text></a><!--MD5=[03c8294790d3c57651a1993cecff665f]\n",
       "reverse link E8 to E3--><a href=\"psysml:f63e9e98-9395-484c-b7ba-710e403c3592\" target=\"_top\" title=\"psysml:f63e9e98-9395-484c-b7ba-710e403c3592\" xlink:actuate=\"onRequest\" xlink:href=\"psysml:f63e9e98-9395-484c-b7ba-710e403c3592\" xlink:show=\"new\" xlink:title=\"psysml:f63e9e98-9395-484c-b7ba-710e403c3592\" xlink:type=\"simple\"><path d=\"M183,500.73 C183,441.17 183,344.58 183,301.26 \" fill=\"none\" id=\"E8&lt;-E3-1\" style=\"stroke: #383838; stroke-width: 1.0;\"/><polygon fill=\"#FFFFFF\" points=\"183,513.93,187,507.93,183,501.93,179,507.93,183,513.93\" style=\"stroke: #383838; stroke-width: 1.0;\"/><text fill=\"#000000\" font-family=\"sans-serif\" font-size=\"13\" lengthAdjust=\"spacingAndGlyphs\" textLength=\"7\" x=\"184\" y=\"389.5669\">y</text></a><!--MD5=[0d75d2178373a6a4568e5dc728f58aef]\n",
       "reverse link E8 to E6--><a href=\"psysml:f63e9e98-9395-484c-b7ba-710e403c3592\" target=\"_top\" title=\"psysml:f63e9e98-9395-484c-b7ba-710e403c3592\" xlink:actuate=\"onRequest\" xlink:href=\"psysml:f63e9e98-9395-484c-b7ba-710e403c3592\" xlink:show=\"new\" xlink:title=\"psysml:f63e9e98-9395-484c-b7ba-710e403c3592\" xlink:type=\"simple\"><path d=\"M160.42,603.02 C157.73,614.13 156.66,625.91 159,637 C161.16,647.24 165.48,657.91 169.79,666.91 \" fill=\"none\" id=\"E8&lt;-E6\" style=\"stroke: #383838; stroke-width: 1.0;\"/><polygon fill=\"#FFFFFF\" points=\"164.22,590.35,158.6675,594.9511,160.7791,601.8461,166.3316,597.245,164.22,590.35\" style=\"stroke: #383838; stroke-width: 1.0;\"/><text fill=\"#000000\" font-family=\"sans-serif\" font-size=\"13\" lengthAdjust=\"spacingAndGlyphs\" textLength=\"7\" x=\"160\" y=\"633.0669\">y</text></a><!--MD5=[0d75d2178373a6a4568e5dc728f58aef]\n",
       "reverse link E8 to E6--><a href=\"psysml:f63e9e98-9395-484c-b7ba-710e403c3592\" target=\"_top\" title=\"psysml:f63e9e98-9395-484c-b7ba-710e403c3592\" xlink:actuate=\"onRequest\" xlink:href=\"psysml:f63e9e98-9395-484c-b7ba-710e403c3592\" xlink:show=\"new\" xlink:title=\"psysml:f63e9e98-9395-484c-b7ba-710e403c3592\" xlink:type=\"simple\"><path d=\"M182.63,603.33 C182.47,625.16 182.29,649.6 182.16,666.77 \" fill=\"none\" id=\"E8&lt;-E6-1\" style=\"stroke: #383838; stroke-width: 1.0;\"/><polygon fill=\"#FFFFFF\" points=\"182.73,590.16,178.684,596.1291,182.6377,602.1596,186.6837,596.1906,182.73,590.16\" style=\"stroke: #383838; stroke-width: 1.0;\"/><text fill=\"#000000\" font-family=\"sans-serif\" font-size=\"13\" lengthAdjust=\"spacingAndGlyphs\" textLength=\"7\" x=\"183\" y=\"633.0669\">y</text></a><!--MD5=[23ac544a70576c3e717098101004234c]\n",
       "reverse link E9 to E10--><a href=\"psysml:f7fd9ae3-3fa5-48e2-b146-bf2078e3bf75\" target=\"_top\" title=\"psysml:f7fd9ae3-3fa5-48e2-b146-bf2078e3bf75\" xlink:actuate=\"onRequest\" xlink:href=\"psysml:f7fd9ae3-3fa5-48e2-b146-bf2078e3bf75\" xlink:show=\"new\" xlink:title=\"psysml:f7fd9ae3-3fa5-48e2-b146-bf2078e3bf75\" xlink:type=\"simple\"><path d=\"M131.16,99.57 C125.28,115.39 118.49,133.68 113.3,147.66 \" fill=\"none\" id=\"E9&lt;-E10\" style=\"stroke: #383838; stroke-width: 1.0;\"/><polygon fill=\"#FFFFFF\" points=\"135.82,87.01,129.9804,91.2408,131.6398,98.2584,137.4793,94.0276,135.82,87.01\" style=\"stroke: #383838; stroke-width: 1.0;\"/><text fill=\"#000000\" font-family=\"sans-serif\" font-size=\"13\" lengthAdjust=\"spacingAndGlyphs\" textLength=\"8\" x=\"106.4019\" y=\"136.8492\">1</text></a><!--MD5=[feeac5eb423634930294aa81f2d25a4c]\n",
       "link E10 to E3--><a href=\"psysml:09a722a7-3c7d-4d30-9bcf-d6d93c165304\" target=\"_top\" title=\"psysml:09a722a7-3c7d-4d30-9bcf-d6d93c165304\" xlink:actuate=\"onRequest\" xlink:href=\"psysml:09a722a7-3c7d-4d30-9bcf-d6d93c165304\" xlink:show=\"new\" xlink:title=\"psysml:09a722a7-3c7d-4d30-9bcf-d6d93c165304\" xlink:type=\"simple\"><path d=\"M121.35,194.01 C130.86,206.81 143.11,223.3 154.18,238.2 \" fill=\"none\" id=\"E10-&gt;E3\" style=\"stroke: #383838; stroke-width: 1.0;\"/><polygon fill=\"#FFFFFF\" points=\"166.4,254.66,149.4457,243.5896,160.6805,235.2361,166.4,254.66\" style=\"stroke: #383838; stroke-width: 1.0;\"/><ellipse cx=\"147.6496\" cy=\"237.8221\" fill=\"#383838\" rx=\"2\" ry=\"2\" style=\"stroke: #383838; stroke-width: 1.0;\"/><ellipse cx=\"155.6744\" cy=\"231.8554\" fill=\"#383838\" rx=\"2\" ry=\"2\" style=\"stroke: #383838; stroke-width: 1.0;\"/></a><!--MD5=[1fc04a95fd77ad5ce46c1a3027516051]\n",
       "reverse link E9 to E11--><a href=\"psysml:2308c13a-9c40-4baf-abe1-b4752fcfac30\" target=\"_top\" title=\"psysml:2308c13a-9c40-4baf-abe1-b4752fcfac30\" xlink:actuate=\"onRequest\" xlink:href=\"psysml:2308c13a-9c40-4baf-abe1-b4752fcfac30\" xlink:show=\"new\" xlink:title=\"psysml:2308c13a-9c40-4baf-abe1-b4752fcfac30\" xlink:type=\"simple\"><path d=\"M156.84,99.57 C162.72,115.39 169.51,133.68 174.7,147.66 \" fill=\"none\" id=\"E9&lt;-E11\" style=\"stroke: #383838; stroke-width: 1.0;\"/><polygon fill=\"#FFFFFF\" points=\"152.18,87.01,150.5207,94.0276,156.3602,98.2584,158.0196,91.2408,152.18,87.01\" style=\"stroke: #383838; stroke-width: 1.0;\"/><text fill=\"#000000\" font-family=\"sans-serif\" font-size=\"13\" lengthAdjust=\"spacingAndGlyphs\" textLength=\"8\" x=\"163.5481\" y=\"136.8492\">1</text></a><!--MD5=[0517f1ce58c4d5483948f93845c45e26]\n",
       "link E11 to E3--><a href=\"psysml:713baad2-05ac-404b-8904-f9720a0da3f6\" target=\"_top\" title=\"psysml:713baad2-05ac-404b-8904-f9720a0da3f6\" xlink:actuate=\"onRequest\" xlink:href=\"psysml:713baad2-05ac-404b-8904-f9720a0da3f6\" xlink:show=\"new\" xlink:title=\"psysml:713baad2-05ac-404b-8904-f9720a0da3f6\" xlink:type=\"simple\"><path d=\"M183,194.01 C183,205.69 183,220.46 183,234.28 \" fill=\"none\" id=\"E11-&gt;E3\" style=\"stroke: #383838; stroke-width: 1.0;\"/><polygon fill=\"#FFFFFF\" points=\"183,254.66,176,235.66,190,235.66,183,254.66\" style=\"stroke: #383838; stroke-width: 1.0;\"/><ellipse cx=\"178\" cy=\"229.96\" fill=\"#383838\" rx=\"2\" ry=\"2\" style=\"stroke: #383838; stroke-width: 1.0;\"/><ellipse cx=\"188\" cy=\"229.96\" fill=\"#383838\" rx=\"2\" ry=\"2\" style=\"stroke: #383838; stroke-width: 1.0;\"/></a><!--MD5=[cb739462e2f728e57a923d70d33a8297]\n",
       "@startuml\r\n",
       "top to bottom direction\r\n",
       "skinparam monochrome true\r\n",
       "skinparam classbackgroundcolor white\r\n",
       "skinparam shadowing false\r\n",
       "skinparam wrapWidth 300\r\n",
       "hide circle\r\n",
       "\r\n",
       "package \"ItemTest\" as E1  [[psysml:9c84b130-4496-45dd-acf0-f614adf4451b ]]  {\r\n",
       "comp usage \"f: A \" as E2  <<(T,blue) item>> [[psysml:046ce2e8-70d6-418b-9e34-4058f6a1e698 ]] {\r\n",
       "}\r\n",
       "comp def \"A\" as E3  <<(T,blue) item  def>> [[psysml:b761bda6-ef45-4173-adbe-8f17f5dd59b9 ]] {\r\n",
       "}\r\n",
       "comp usage \"b: B \" as E4  <<(T,blue) item>> [[psysml:5a9b7c1e-d921-40a5-84d4-dcafad1b8599 ]] {\r\n",
       "}\r\n",
       "comp usage \"c: C \" as E5  <<(T,blue) part>> [[psysml:c52e7c62-32ae-43e1-a51e-2d7f86512260 ]] {\r\n",
       "}\r\n",
       "comp def \"<i>B</i>\" as E6  <<(T,blue) item  def>> [[psysml:154f7142-f3c2-4f8f-a55c-1d31f59952e7 ]] {\r\n",
       "}\r\n",
       "comp usage \"<i>a</i>: A \" as E7  <<(T,blue) part>> [[psysml:3092a58e-bc17-492e-b3ac-d9b0c5d27ee1 ]] {\r\n",
       "}\r\n",
       "comp def \"C\" as E8  <<(T,blue) part  def>> [[psysml:a977dc12-1522-4e17-86ea-88834b4a9262 ]] {\r\n",
       "- - parameters - -\r\n",
       "<b>in</b> y: A, B\r\n",
       "}\r\n",
       "comp def \"P\" as E9  <<(T,blue) port  def>> [[psysml:505a0904-767f-4431-bdaf-f395e9a256c5 ]] {\r\n",
       "}\r\n",
       "comp usage \"a1: A \" as E10  <<(T,blue) item>> [[psysml:b48ee9ab-0a15-45ce-8465-86ae83c4be7f ]] {\r\n",
       "}\r\n",
       "comp usage \"a2: A \" as E11  <<(T,blue) item>> [[psysml:7b14a527-4e8d-41df-a91b-3ca9db44b1d9 ]] {\r\n",
       "}\r\n",
       "}\r\n",
       "E2 - -:|> E3 [[psysml:2913aa14-34e4-4ebc-b3c0-73cbbe37a712 ]] \r\n",
       "E3 *- - \"1\"E4 [[psysml:5a70b25d-3e65-48fe-9200-ece04e9de0ee ]] \r\n",
       "E3 o- - \"1\"E5 [[psysml:98aba136-2768-4c7e-bc34-95a5a6a911cd ]] \r\n",
       "E4 - -:|> E6 [[psysml:04be4dec-9fb2-423c-a400-1c82afc162c3 ]] \r\n",
       "E6 *- - \"1\"E7 [[psysml:88a05b08-39fe-46e7-8c9b-5df9e56fb426 ]] \r\n",
       "E7 - -:|> E3 [[psysml:de23f89f-df32-45d9-b344-47d8d19c4edc ]] \r\n",
       "E5 - -:|> E8 [[psysml:feaf6c57-7b20-4701-8323-0c325a1238bf ]] \r\n",
       "E8 o- - E3 [[psysml:f63e9e98-9395-484c-b7ba-710e403c3592 ]] : y\r\n",
       "E8 o- - E6 [[psysml:f63e9e98-9395-484c-b7ba-710e403c3592 ]] : y\r\n",
       "E8 o- - E3 [[psysml:f63e9e98-9395-484c-b7ba-710e403c3592 ]] : y\r\n",
       "E8 o- - E6 [[psysml:f63e9e98-9395-484c-b7ba-710e403c3592 ]] : y\r\n",
       "E9 o- - \"1\"E10 [[psysml:f7fd9ae3-3fa5-48e2-b146-bf2078e3bf75 ]] \r\n",
       "E10 - -:|> E3 [[psysml:09a722a7-3c7d-4d30-9bcf-d6d93c165304 ]] \r\n",
       "E9 o- - \"1\"E11 [[psysml:2308c13a-9c40-4baf-abe1-b4752fcfac30 ]] \r\n",
       "E11 - -:|> E3 [[psysml:713baad2-05ac-404b-8904-f9720a0da3f6 ]] \r\n",
       "@enduml\r\n",
       "\n",
       "PlantUML version 1.2020.13(Sat Jun 13 12:26:38 UTC 2020)\n",
       "(EPL source distribution)\n",
       "Java Runtime: OpenJDK Runtime Environment\n",
       "JVM: OpenJDK 64-Bit Server VM\n",
       "Default Encoding: UTF-8\n",
       "Language: en\n",
       "Country: null\n",
       "--></g></svg>"
      ]
     },
     "execution_count": 50,
     "metadata": {},
     "output_type": "execute_result"
    }
   ],
   "source": [
    "%viz --style=\"TB\" --view=\"MIXED\" \"ItemTest\""
   ]
  },
  {
   "cell_type": "code",
   "execution_count": 51,
   "id": "d0ff7edf",
   "metadata": {
    "execution": {
     "iopub.execute_input": "2021-10-25T08:20:56.563595Z",
     "iopub.status.busy": "2021-10-25T08:20:56.563174Z",
     "iopub.status.idle": "2021-10-25T08:20:56.617791Z",
     "shell.execute_reply": "2021-10-25T08:20:56.615678Z"
    }
   },
   "outputs": [
    {
     "data": {
      "image/svg+xml": [
       "<?xml version=\"1.0\" encoding=\"UTF-8\" standalone=\"no\"?><svg xmlns=\"http://www.w3.org/2000/svg\" xmlns:xlink=\"http://www.w3.org/1999/xlink\" contentScriptType=\"application/ecmascript\" contentStyleType=\"text/css\" height=\"848px\" preserveAspectRatio=\"none\" style=\"width:344px;height:848px;\" version=\"1.1\" viewBox=\"0 0 344 848\" width=\"344px\" zoomAndPan=\"magnify\"><defs/><g><!--MD5=[fbc87193dbaf4d95561dea2c320d4a47]\n",
       "cluster E1--><a href=\"psysml:9c84b130-4496-45dd-acf0-f614adf4451b\" target=\"_top\" title=\"psysml:9c84b130-4496-45dd-acf0-f614adf4451b\" xlink:actuate=\"onRequest\" xlink:href=\"psysml:9c84b130-4496-45dd-acf0-f614adf4451b\" xlink:show=\"new\" xlink:title=\"psysml:9c84b130-4496-45dd-acf0-f614adf4451b\" xlink:type=\"simple\"><polygon fill=\"#FFFFFF\" points=\"16,6,83,6,90,28.2969,322,28.2969,322,836,16,836,16,6\" style=\"stroke: #000000; stroke-width: 1.5;\"/><line style=\"stroke: #000000; stroke-width: 1.5;\" x1=\"16\" x2=\"90\" y1=\"28.2969\" y2=\"28.2969\"/><text fill=\"#000000\" font-family=\"sans-serif\" font-size=\"14\" font-weight=\"bold\" lengthAdjust=\"spacingAndGlyphs\" textLength=\"61\" x=\"20\" y=\"20.9951\">ItemTest</text></a><!--MD5=[b4997ac47864f28c2f74865a473b2911]\n",
       "class E2--><a href=\"psysml:046ce2e8-70d6-418b-9e34-4058f6a1e698\" target=\"_top\" title=\"psysml:046ce2e8-70d6-418b-9e34-4058f6a1e698\" xlink:actuate=\"onRequest\" xlink:href=\"psysml:046ce2e8-70d6-418b-9e34-4058f6a1e698\" xlink:show=\"new\" xlink:title=\"psysml:046ce2e8-70d6-418b-9e34-4058f6a1e698\" xlink:type=\"simple\"><rect fill=\"#FFFFFF\" height=\"45.9375\" id=\"E2\" rx=\"10\" ry=\"10\" style=\"stroke: #383838; stroke-width: 1.5;\" width=\"43\" x=\"239.5\" y=\"148\"/><text fill=\"#000000\" font-family=\"sans-serif\" font-size=\"12\" font-style=\"italic\" lengthAdjust=\"spacingAndGlyphs\" textLength=\"41\" x=\"240.5\" y=\"164.1387\">«item»</text><text fill=\"#000000\" font-family=\"sans-serif\" font-size=\"12\" lengthAdjust=\"spacingAndGlyphs\" textLength=\"20\" x=\"249\" y=\"178.1074\">f: A</text><line style=\"stroke: #383838; stroke-width: 1.5;\" x1=\"240.5\" x2=\"281.5\" y1=\"185.9375\" y2=\"185.9375\"/></a><!--MD5=[09b614a08d8cba4a07c9adeb5e0fee81]\n",
       "class E3--><a href=\"psysml:b761bda6-ef45-4173-adbe-8f17f5dd59b9\" target=\"_top\" title=\"psysml:b761bda6-ef45-4173-adbe-8f17f5dd59b9\" xlink:actuate=\"onRequest\" xlink:href=\"psysml:b761bda6-ef45-4173-adbe-8f17f5dd59b9\" xlink:show=\"new\" xlink:title=\"psysml:b761bda6-ef45-4173-adbe-8f17f5dd59b9\" xlink:type=\"simple\"><rect fill=\"#FFFFFF\" height=\"45.9375\" id=\"E3\" style=\"stroke: #383838; stroke-width: 1.5;\" width=\"71\" x=\"147.5\" y=\"255\"/><text fill=\"#000000\" font-family=\"sans-serif\" font-size=\"12\" font-style=\"italic\" lengthAdjust=\"spacingAndGlyphs\" textLength=\"69\" x=\"148.5\" y=\"271.1387\">«item  def»</text><text fill=\"#000000\" font-family=\"sans-serif\" font-size=\"12\" lengthAdjust=\"spacingAndGlyphs\" textLength=\"8\" x=\"179\" y=\"285.1074\">A</text><line style=\"stroke: #383838; stroke-width: 1.5;\" x1=\"148.5\" x2=\"217.5\" y1=\"292.9375\" y2=\"292.9375\"/></a><!--MD5=[ebbe1d658d1005bcc118a6aa81145e00]\n",
       "class E4--><a href=\"psysml:5a9b7c1e-d921-40a5-84d4-dcafad1b8599\" target=\"_top\" title=\"psysml:5a9b7c1e-d921-40a5-84d4-dcafad1b8599\" xlink:actuate=\"onRequest\" xlink:href=\"psysml:5a9b7c1e-d921-40a5-84d4-dcafad1b8599\" xlink:show=\"new\" xlink:title=\"psysml:5a9b7c1e-d921-40a5-84d4-dcafad1b8599\" xlink:type=\"simple\"><rect fill=\"#FFFFFF\" height=\"45.9375\" id=\"E4\" rx=\"10\" ry=\"10\" style=\"stroke: #383838; stroke-width: 1.5;\" width=\"43\" x=\"255.5\" y=\"438\"/><text fill=\"#000000\" font-family=\"sans-serif\" font-size=\"12\" font-style=\"italic\" lengthAdjust=\"spacingAndGlyphs\" textLength=\"41\" x=\"256.5\" y=\"454.1387\">«item»</text><text fill=\"#000000\" font-family=\"sans-serif\" font-size=\"12\" lengthAdjust=\"spacingAndGlyphs\" textLength=\"24\" x=\"263\" y=\"468.1074\">b: B</text><line style=\"stroke: #383838; stroke-width: 1.5;\" x1=\"256.5\" x2=\"297.5\" y1=\"475.9375\" y2=\"475.9375\"/></a><!--MD5=[270fce915f116d4de14055a7c1d9a0f3]\n",
       "class E5--><a href=\"psysml:c52e7c62-32ae-43e1-a51e-2d7f86512260\" target=\"_top\" title=\"psysml:c52e7c62-32ae-43e1-a51e-2d7f86512260\" xlink:actuate=\"onRequest\" xlink:href=\"psysml:c52e7c62-32ae-43e1-a51e-2d7f86512260\" xlink:show=\"new\" xlink:title=\"psysml:c52e7c62-32ae-43e1-a51e-2d7f86512260\" xlink:type=\"simple\"><rect fill=\"#FFFFFF\" height=\"45.9375\" id=\"E5\" rx=\"10\" ry=\"10\" style=\"stroke: #383838; stroke-width: 1.5;\" width=\"42\" x=\"227\" y=\"362\"/><text fill=\"#000000\" font-family=\"sans-serif\" font-size=\"12\" font-style=\"italic\" lengthAdjust=\"spacingAndGlyphs\" textLength=\"40\" x=\"228\" y=\"378.1387\">«part»</text><text fill=\"#000000\" font-family=\"sans-serif\" font-size=\"12\" lengthAdjust=\"spacingAndGlyphs\" textLength=\"23\" x=\"234.5\" y=\"392.1074\">c: C</text><line style=\"stroke: #383838; stroke-width: 1.5;\" x1=\"228\" x2=\"268\" y1=\"399.9375\" y2=\"399.9375\"/></a><!--MD5=[60a26617385b1d2d0262a64233df1f8d]\n",
       "class E6--><a href=\"psysml:154f7142-f3c2-4f8f-a55c-1d31f59952e7\" target=\"_top\" title=\"psysml:154f7142-f3c2-4f8f-a55c-1d31f59952e7\" xlink:actuate=\"onRequest\" xlink:href=\"psysml:154f7142-f3c2-4f8f-a55c-1d31f59952e7\" xlink:show=\"new\" xlink:title=\"psysml:154f7142-f3c2-4f8f-a55c-1d31f59952e7\" xlink:type=\"simple\"><rect fill=\"#FFFFFF\" height=\"45.9375\" id=\"E6\" style=\"stroke: #383838; stroke-width: 1.5;\" width=\"71\" x=\"146.5\" y=\"667\"/><text fill=\"#000000\" font-family=\"sans-serif\" font-size=\"12\" font-style=\"italic\" lengthAdjust=\"spacingAndGlyphs\" textLength=\"69\" x=\"147.5\" y=\"683.1387\">«item  def»</text><text fill=\"#000000\" font-family=\"sans-serif\" font-size=\"12\" font-style=\"italic\" lengthAdjust=\"spacingAndGlyphs\" textLength=\"8\" x=\"178\" y=\"697.1074\">B</text><line style=\"stroke: #383838; stroke-width: 1.5;\" x1=\"147.5\" x2=\"216.5\" y1=\"704.9375\" y2=\"704.9375\"/></a><!--MD5=[2156ba9850f5573cc1fc38a6a4b2f02b]\n",
       "class E7--><a href=\"psysml:3092a58e-bc17-492e-b3ac-d9b0c5d27ee1\" target=\"_top\" title=\"psysml:3092a58e-bc17-492e-b3ac-d9b0c5d27ee1\" xlink:actuate=\"onRequest\" xlink:href=\"psysml:3092a58e-bc17-492e-b3ac-d9b0c5d27ee1\" xlink:show=\"new\" xlink:title=\"psysml:3092a58e-bc17-492e-b3ac-d9b0c5d27ee1\" xlink:type=\"simple\"><rect fill=\"#FFFFFF\" height=\"45.9375\" id=\"E7\" rx=\"10\" ry=\"10\" style=\"stroke: #383838; stroke-width: 1.5;\" width=\"42\" x=\"96\" y=\"774\"/><text fill=\"#000000\" font-family=\"sans-serif\" font-size=\"12\" font-style=\"italic\" lengthAdjust=\"spacingAndGlyphs\" textLength=\"40\" x=\"97\" y=\"790.1387\">«part»</text><text fill=\"#000000\" font-family=\"sans-serif\" font-size=\"12\" font-style=\"italic\" lengthAdjust=\"spacingAndGlyphs\" textLength=\"8\" x=\"103\" y=\"804.1074\">a</text><text fill=\"#000000\" font-family=\"sans-serif\" font-size=\"12\" lengthAdjust=\"spacingAndGlyphs\" textLength=\"16\" x=\"111\" y=\"804.1074\">: A</text><line style=\"stroke: #383838; stroke-width: 1.5;\" x1=\"97\" x2=\"137\" y1=\"811.9375\" y2=\"811.9375\"/></a><!--MD5=[b9389687b975829384b498ac4b7476b2]\n",
       "class E8--><a href=\"psysml:a977dc12-1522-4e17-86ea-88834b4a9262\" target=\"_top\" title=\"psysml:a977dc12-1522-4e17-86ea-88834b4a9262\" xlink:actuate=\"onRequest\" xlink:href=\"psysml:a977dc12-1522-4e17-86ea-88834b4a9262\" xlink:show=\"new\" xlink:title=\"psysml:a977dc12-1522-4e17-86ea-88834b4a9262\" xlink:type=\"simple\"><rect fill=\"#FFFFFF\" height=\"75.5469\" id=\"E8\" style=\"stroke: #383838; stroke-width: 1.5;\" width=\"75\" x=\"145.5\" y=\"514\"/><text fill=\"#000000\" font-family=\"sans-serif\" font-size=\"12\" font-style=\"italic\" lengthAdjust=\"spacingAndGlyphs\" textLength=\"68\" x=\"149\" y=\"530.1387\">«part  def»</text><text fill=\"#000000\" font-family=\"sans-serif\" font-size=\"12\" lengthAdjust=\"spacingAndGlyphs\" textLength=\"8\" x=\"179\" y=\"544.1074\">C</text><line style=\"stroke: #383838; stroke-width: 1.5;\" x1=\"146.5\" x2=\"219.5\" y1=\"551.9375\" y2=\"551.9375\"/><text fill=\"#000000\" font-family=\"sans-serif\" font-size=\"11\" font-weight=\"bold\" lengthAdjust=\"spacingAndGlyphs\" textLength=\"10\" x=\"151.5\" y=\"582.9526\">in</text><text fill=\"#000000\" font-family=\"sans-serif\" font-size=\"11\" lengthAdjust=\"spacingAndGlyphs\" textLength=\"37\" x=\"165.5\" y=\"582.9526\">y: A, B</text><line style=\"stroke: #383838; stroke-width: 1.0;\" x1=\"146.5\" x2=\"149.5\" y1=\"566.3398\" y2=\"566.3398\"/><text fill=\"#000000\" font-family=\"sans-serif\" font-size=\"11\" lengthAdjust=\"spacingAndGlyphs\" textLength=\"67\" x=\"149.5\" y=\"569.6479\">parameters</text><line style=\"stroke: #383838; stroke-width: 1.0;\" x1=\"216.5\" x2=\"219.5\" y1=\"566.3398\" y2=\"566.3398\"/></a><!--MD5=[fd4143e9d270a159db93a4ea2a975926]\n",
       "class E9--><a href=\"psysml:505a0904-767f-4431-bdaf-f395e9a256c5\" target=\"_top\" title=\"psysml:505a0904-767f-4431-bdaf-f395e9a256c5\" xlink:actuate=\"onRequest\" xlink:href=\"psysml:505a0904-767f-4431-bdaf-f395e9a256c5\" xlink:show=\"new\" xlink:title=\"psysml:505a0904-767f-4431-bdaf-f395e9a256c5\" xlink:type=\"simple\"><rect fill=\"#FFFFFF\" height=\"45.9375\" id=\"E9\" style=\"stroke: #383838; stroke-width: 1.5;\" width=\"70\" x=\"109\" y=\"41\"/><text fill=\"#000000\" font-family=\"sans-serif\" font-size=\"12\" font-style=\"italic\" lengthAdjust=\"spacingAndGlyphs\" textLength=\"68\" x=\"110\" y=\"57.1387\">«port  def»</text><text fill=\"#000000\" font-family=\"sans-serif\" font-size=\"12\" lengthAdjust=\"spacingAndGlyphs\" textLength=\"8\" x=\"140\" y=\"71.1074\">P</text><line style=\"stroke: #383838; stroke-width: 1.5;\" x1=\"110\" x2=\"178\" y1=\"78.9375\" y2=\"78.9375\"/></a><!--MD5=[96f4274e9e20536e775497830990834d]\n",
       "class E10--><a href=\"psysml:b48ee9ab-0a15-45ce-8465-86ae83c4be7f\" target=\"_top\" title=\"psysml:b48ee9ab-0a15-45ce-8465-86ae83c4be7f\" xlink:actuate=\"onRequest\" xlink:href=\"psysml:b48ee9ab-0a15-45ce-8465-86ae83c4be7f\" xlink:show=\"new\" xlink:title=\"psysml:b48ee9ab-0a15-45ce-8465-86ae83c4be7f\" xlink:type=\"simple\"><rect fill=\"#FFFFFF\" height=\"45.9375\" id=\"E10\" rx=\"10\" ry=\"10\" style=\"stroke: #383838; stroke-width: 1.5;\" width=\"43\" x=\"83.5\" y=\"148\"/><text fill=\"#000000\" font-family=\"sans-serif\" font-size=\"12\" font-style=\"italic\" lengthAdjust=\"spacingAndGlyphs\" textLength=\"41\" x=\"84.5\" y=\"164.1387\">«item»</text><text fill=\"#000000\" font-family=\"sans-serif\" font-size=\"12\" lengthAdjust=\"spacingAndGlyphs\" textLength=\"32\" x=\"87\" y=\"178.1074\">a1: A</text><line style=\"stroke: #383838; stroke-width: 1.5;\" x1=\"84.5\" x2=\"125.5\" y1=\"185.9375\" y2=\"185.9375\"/></a><!--MD5=[1dd1bfd58a279cf63c5f349dbc8fc6a1]\n",
       "class E11--><a href=\"psysml:7b14a527-4e8d-41df-a91b-3ca9db44b1d9\" target=\"_top\" title=\"psysml:7b14a527-4e8d-41df-a91b-3ca9db44b1d9\" xlink:actuate=\"onRequest\" xlink:href=\"psysml:7b14a527-4e8d-41df-a91b-3ca9db44b1d9\" xlink:show=\"new\" xlink:title=\"psysml:7b14a527-4e8d-41df-a91b-3ca9db44b1d9\" xlink:type=\"simple\"><rect fill=\"#FFFFFF\" height=\"45.9375\" id=\"E11\" rx=\"10\" ry=\"10\" style=\"stroke: #383838; stroke-width: 1.5;\" width=\"43\" x=\"161.5\" y=\"148\"/><text fill=\"#000000\" font-family=\"sans-serif\" font-size=\"12\" font-style=\"italic\" lengthAdjust=\"spacingAndGlyphs\" textLength=\"41\" x=\"162.5\" y=\"164.1387\">«item»</text><text fill=\"#000000\" font-family=\"sans-serif\" font-size=\"12\" lengthAdjust=\"spacingAndGlyphs\" textLength=\"32\" x=\"165\" y=\"178.1074\">a2: A</text><line style=\"stroke: #383838; stroke-width: 1.5;\" x1=\"162.5\" x2=\"203.5\" y1=\"185.9375\" y2=\"185.9375\"/></a><!--MD5=[2720a5a1f2c3fca2055b230370638851]\n",
       "link E2 to E3--><a href=\"psysml:2913aa14-34e4-4ebc-b3c0-73cbbe37a712\" target=\"_top\" title=\"psysml:2913aa14-34e4-4ebc-b3c0-73cbbe37a712\" xlink:actuate=\"onRequest\" xlink:href=\"psysml:2913aa14-34e4-4ebc-b3c0-73cbbe37a712\" xlink:show=\"new\" xlink:title=\"psysml:2913aa14-34e4-4ebc-b3c0-73cbbe37a712\" xlink:type=\"simple\"><path d=\"M239.43,171 C226.09,171 211.5,171 211.5,171 C211.5,171 211.5,234.78 211.5,234.78 \" fill=\"none\" id=\"E2-&gt;E3\" style=\"stroke: #383838; stroke-width: 1.0;\"/><polygon fill=\"#FFFFFF\" points=\"211.5,254.78,204.5,235.78,218.5,235.78,211.5,254.78\" style=\"stroke: #383838; stroke-width: 1.0;\"/><ellipse cx=\"206.5\" cy=\"230.08\" fill=\"#383838\" rx=\"2\" ry=\"2\" style=\"stroke: #383838; stroke-width: 1.0;\"/><ellipse cx=\"216.5\" cy=\"230.08\" fill=\"#383838\" rx=\"2\" ry=\"2\" style=\"stroke: #383838; stroke-width: 1.0;\"/></a><!--MD5=[4672eba38e49728da53d11aeb285b987]\n",
       "reverse link E3 to E4--><a href=\"psysml:5a70b25d-3e65-48fe-9200-ece04e9de0ee\" target=\"_top\" title=\"psysml:5a70b25d-3e65-48fe-9200-ece04e9de0ee\" xlink:actuate=\"onRequest\" xlink:href=\"psysml:5a70b25d-3e65-48fe-9200-ece04e9de0ee\" xlink:show=\"new\" xlink:title=\"psysml:5a70b25d-3e65-48fe-9200-ece04e9de0ee\" xlink:type=\"simple\"><path d=\"M231.59,271 C231.59,271 275.75,271 275.75,271 C275.75,271 275.75,386.97 275.75,437.7 \" fill=\"none\" id=\"E3&lt;-E4\" style=\"stroke: #383838; stroke-width: 1.0;\"/><polygon fill=\"#383838\" points=\"218.59,271,224.59,275,230.59,271,224.59,267,218.59,271\" style=\"stroke: #383838; stroke-width: 1.0;\"/><text fill=\"#000000\" font-family=\"sans-serif\" font-size=\"13\" lengthAdjust=\"spacingAndGlyphs\" textLength=\"8\" x=\"267.0698\" y=\"428.0106\">1</text></a><!--MD5=[191cde3d490a3f6d7bb551fe3ddca469]\n",
       "reverse link E3 to E5--><a href=\"psysml:98aba136-2768-4c7e-bc34-95a5a6a911cd\" target=\"_top\" title=\"psysml:98aba136-2768-4c7e-bc34-95a5a6a911cd\" xlink:actuate=\"onRequest\" xlink:href=\"psysml:98aba136-2768-4c7e-bc34-95a5a6a911cd\" xlink:show=\"new\" xlink:title=\"psysml:98aba136-2768-4c7e-bc34-95a5a6a911cd\" xlink:type=\"simple\"><path d=\"M231.72,286 C231.72,286 233.25,286 233.25,286 C233.25,286 233.25,332.53 233.25,361.79 \" fill=\"none\" id=\"E3&lt;-E5\" style=\"stroke: #383838; stroke-width: 1.0;\"/><polygon fill=\"#FFFFFF\" points=\"218.72,286,224.72,290,230.72,286,224.72,282,218.72,286\" style=\"stroke: #383838; stroke-width: 1.0;\"/><text fill=\"#000000\" font-family=\"sans-serif\" font-size=\"13\" lengthAdjust=\"spacingAndGlyphs\" textLength=\"8\" x=\"220.4453\" y=\"351.0125\">1</text></a><!--MD5=[79568f1e445c3877b6a54524624ccc7d]\n",
       "link E4 to E6--><a href=\"psysml:04be4dec-9fb2-423c-a400-1c82afc162c3\" target=\"_top\" title=\"psysml:04be4dec-9fb2-423c-a400-1c82afc162c3\" xlink:actuate=\"onRequest\" xlink:href=\"psysml:04be4dec-9fb2-423c-a400-1c82afc162c3\" xlink:show=\"new\" xlink:title=\"psysml:04be4dec-9fb2-423c-a400-1c82afc162c3\" xlink:type=\"simple\"><path d=\"M277,484.22 C277,542.44 277,690 277,690 C277,690 237.64,690 237.64,690 \" fill=\"none\" id=\"E4-&gt;E6\" style=\"stroke: #383838; stroke-width: 1.0;\"/><polygon fill=\"#FFFFFF\" points=\"217.64,690,236.64,683,236.64,697,217.64,690\" style=\"stroke: #383838; stroke-width: 1.0;\"/><ellipse cx=\"242.34\" cy=\"685\" fill=\"#383838\" rx=\"2\" ry=\"2\" style=\"stroke: #383838; stroke-width: 1.0;\"/><ellipse cx=\"242.34\" cy=\"695\" fill=\"#383838\" rx=\"2\" ry=\"2\" style=\"stroke: #383838; stroke-width: 1.0;\"/></a><!--MD5=[3f50a3473f1dfb74d3f76443e03635af]\n",
       "reverse link E6 to E7--><a href=\"psysml:88a05b08-39fe-46e7-8c9b-5df9e56fb426\" target=\"_top\" title=\"psysml:88a05b08-39fe-46e7-8c9b-5df9e56fb426\" xlink:actuate=\"onRequest\" xlink:href=\"psysml:88a05b08-39fe-46e7-8c9b-5df9e56fb426\" xlink:show=\"new\" xlink:title=\"psysml:88a05b08-39fe-46e7-8c9b-5df9e56fb426\" xlink:type=\"simple\"><path d=\"M135.37,690 C135.37,690 134.17,690 134.17,690 C134.17,690 134.17,742.31 134.17,773.78 \" fill=\"none\" id=\"E6&lt;-E7\" style=\"stroke: #383838; stroke-width: 1.0;\"/><polygon fill=\"#383838\" points=\"146.24,690,140.24,686,134.24,690,140.24,694,146.24,690\" style=\"stroke: #383838; stroke-width: 1.0;\"/><text fill=\"#000000\" font-family=\"sans-serif\" font-size=\"13\" lengthAdjust=\"spacingAndGlyphs\" textLength=\"8\" x=\"129.5448\" y=\"762.9999\">1</text></a><!--MD5=[14ccda38c055a5c0da953d572bc50960]\n",
       "link E7 to E3--><a href=\"psysml:de23f89f-df32-45d9-b344-47d8d19c4edc\" target=\"_top\" title=\"psysml:de23f89f-df32-45d9-b344-47d8d19c4edc\" xlink:actuate=\"onRequest\" xlink:href=\"psysml:de23f89f-df32-45d9-b344-47d8d19c4edc\" xlink:show=\"new\" xlink:title=\"psysml:de23f89f-df32-45d9-b344-47d8d19c4edc\" xlink:type=\"simple\"><path d=\"M130.33,773.69 C130.33,672.7 130.33,278 130.33,278 C130.33,278 132.03,278 132.03,278 \" fill=\"none\" id=\"E7-&gt;E3\" style=\"stroke: #383838; stroke-width: 1.0;\"/><polygon fill=\"#FFFFFF\" points=\"147.29,278,128.29,285,128.29,271,147.29,278\" style=\"stroke: #383838; stroke-width: 1.0;\"/><ellipse cx=\"122.59\" cy=\"283\" fill=\"#383838\" rx=\"2\" ry=\"2\" style=\"stroke: #383838; stroke-width: 1.0;\"/><ellipse cx=\"122.59\" cy=\"273\" fill=\"#383838\" rx=\"2\" ry=\"2\" style=\"stroke: #383838; stroke-width: 1.0;\"/></a><!--MD5=[dfaffb906826c3e5aca635516100ff21]\n",
       "link E5 to E8--><a href=\"psysml:feaf6c57-7b20-4701-8323-0c325a1238bf\" target=\"_top\" title=\"psysml:feaf6c57-7b20-4701-8323-0c325a1238bf\" xlink:actuate=\"onRequest\" xlink:href=\"psysml:feaf6c57-7b20-4701-8323-0c325a1238bf\" xlink:show=\"new\" xlink:title=\"psysml:feaf6c57-7b20-4701-8323-0c325a1238bf\" xlink:type=\"simple\"><path d=\"M241.25,408.22 C241.25,454.11 241.25,552 241.25,552 C241.25,552 239.18,552 239.18,552 \" fill=\"none\" id=\"E5-&gt;E8\" style=\"stroke: #383838; stroke-width: 1.0;\"/><polygon fill=\"#FFFFFF\" points=\"220.55,552,239.55,545,239.55,559,220.55,552\" style=\"stroke: #383838; stroke-width: 1.0;\"/><ellipse cx=\"245.25\" cy=\"547\" fill=\"#383838\" rx=\"2\" ry=\"2\" style=\"stroke: #383838; stroke-width: 1.0;\"/><ellipse cx=\"245.25\" cy=\"557\" fill=\"#383838\" rx=\"2\" ry=\"2\" style=\"stroke: #383838; stroke-width: 1.0;\"/></a><!--MD5=[03c8294790d3c57651a1993cecff665f]\n",
       "reverse link E8 to E3--><a href=\"psysml:f63e9e98-9395-484c-b7ba-710e403c3592\" target=\"_top\" title=\"psysml:f63e9e98-9395-484c-b7ba-710e403c3592\" xlink:actuate=\"onRequest\" xlink:href=\"psysml:f63e9e98-9395-484c-b7ba-710e403c3592\" xlink:show=\"new\" xlink:title=\"psysml:f63e9e98-9395-484c-b7ba-710e403c3592\" xlink:type=\"simple\"><path d=\"M171.17,500.9 C171.17,500.9 171.17,301.3 171.17,301.3 \" fill=\"none\" id=\"E8&lt;-E3\" style=\"stroke: #383838; stroke-width: 1.0;\"/><polygon fill=\"#FFFFFF\" points=\"171.17,513.9,175.17,507.9,171.17,501.9,167.17,507.9,171.17,513.9\" style=\"stroke: #383838; stroke-width: 1.0;\"/><text fill=\"#000000\" font-family=\"sans-serif\" font-size=\"13\" lengthAdjust=\"spacingAndGlyphs\" textLength=\"7\" x=\"105\" y=\"389.5669\">y</text></a><!--MD5=[03c8294790d3c57651a1993cecff665f]\n",
       "reverse link E8 to E3--><a href=\"psysml:f63e9e98-9395-484c-b7ba-710e403c3592\" target=\"_top\" title=\"psysml:f63e9e98-9395-484c-b7ba-710e403c3592\" xlink:actuate=\"onRequest\" xlink:href=\"psysml:f63e9e98-9395-484c-b7ba-710e403c3592\" xlink:show=\"new\" xlink:title=\"psysml:f63e9e98-9395-484c-b7ba-710e403c3592\" xlink:type=\"simple\"><path d=\"M194.83,500.9 C194.83,500.9 194.83,301.3 194.83,301.3 \" fill=\"none\" id=\"E8&lt;-E3-1\" style=\"stroke: #383838; stroke-width: 1.0;\"/><polygon fill=\"#FFFFFF\" points=\"194.83,513.9,198.83,507.9,194.83,501.9,190.83,507.9,194.83,513.9\" style=\"stroke: #383838; stroke-width: 1.0;\"/><text fill=\"#000000\" font-family=\"sans-serif\" font-size=\"13\" lengthAdjust=\"spacingAndGlyphs\" textLength=\"7\" x=\"184\" y=\"389.5669\">y</text></a><!--MD5=[0d75d2178373a6a4568e5dc728f58aef]\n",
       "reverse link E8 to E6--><a href=\"psysml:f63e9e98-9395-484c-b7ba-710e403c3592\" target=\"_top\" title=\"psysml:f63e9e98-9395-484c-b7ba-710e403c3592\" xlink:actuate=\"onRequest\" xlink:href=\"psysml:f63e9e98-9395-484c-b7ba-710e403c3592\" xlink:show=\"new\" xlink:title=\"psysml:f63e9e98-9395-484c-b7ba-710e403c3592\" xlink:type=\"simple\"><path d=\"M170.17,603.07 C170.17,603.07 170.17,666.75 170.17,666.75 \" fill=\"none\" id=\"E8&lt;-E6\" style=\"stroke: #383838; stroke-width: 1.0;\"/><polygon fill=\"#FFFFFF\" points=\"170.17,590.07,166.17,596.07,170.17,602.07,174.17,596.07,170.17,590.07\" style=\"stroke: #383838; stroke-width: 1.0;\"/><text fill=\"#000000\" font-family=\"sans-serif\" font-size=\"13\" lengthAdjust=\"spacingAndGlyphs\" textLength=\"7\" x=\"159\" y=\"633.0669\">y</text></a><!--MD5=[0d75d2178373a6a4568e5dc728f58aef]\n",
       "reverse link E8 to E6--><a href=\"psysml:f63e9e98-9395-484c-b7ba-710e403c3592\" target=\"_top\" title=\"psysml:f63e9e98-9395-484c-b7ba-710e403c3592\" xlink:actuate=\"onRequest\" xlink:href=\"psysml:f63e9e98-9395-484c-b7ba-710e403c3592\" xlink:show=\"new\" xlink:title=\"psysml:f63e9e98-9395-484c-b7ba-710e403c3592\" xlink:type=\"simple\"><path d=\"M193.83,603.07 C193.83,603.07 193.83,666.75 193.83,666.75 \" fill=\"none\" id=\"E8&lt;-E6-1\" style=\"stroke: #383838; stroke-width: 1.0;\"/><polygon fill=\"#FFFFFF\" points=\"193.83,590.07,189.83,596.07,193.83,602.07,197.83,596.07,193.83,590.07\" style=\"stroke: #383838; stroke-width: 1.0;\"/><text fill=\"#000000\" font-family=\"sans-serif\" font-size=\"13\" lengthAdjust=\"spacingAndGlyphs\" textLength=\"7\" x=\"208\" y=\"633.0669\">y</text></a><!--MD5=[23ac544a70576c3e717098101004234c]\n",
       "reverse link E9 to E10--><a href=\"psysml:f7fd9ae3-3fa5-48e2-b146-bf2078e3bf75\" target=\"_top\" title=\"psysml:f7fd9ae3-3fa5-48e2-b146-bf2078e3bf75\" xlink:actuate=\"onRequest\" xlink:href=\"psysml:f7fd9ae3-3fa5-48e2-b146-bf2078e3bf75\" xlink:show=\"new\" xlink:title=\"psysml:f7fd9ae3-3fa5-48e2-b146-bf2078e3bf75\" xlink:type=\"simple\"><path d=\"M117.75,100.22 C117.75,100.22 117.75,147.83 117.75,147.83 \" fill=\"none\" id=\"E9&lt;-E10\" style=\"stroke: #383838; stroke-width: 1.0;\"/><polygon fill=\"#FFFFFF\" points=\"117.75,87.22,113.75,93.22,117.75,99.22,121.75,93.22,117.75,87.22\" style=\"stroke: #383838; stroke-width: 1.0;\"/><text fill=\"#000000\" font-family=\"sans-serif\" font-size=\"13\" lengthAdjust=\"spacingAndGlyphs\" textLength=\"8\" x=\"111.9922\" y=\"137.0627\">1</text></a><!--MD5=[feeac5eb423634930294aa81f2d25a4c]\n",
       "link E10 to E3--><a href=\"psysml:09a722a7-3c7d-4d30-9bcf-d6d93c165304\" target=\"_top\" title=\"psysml:09a722a7-3c7d-4d30-9bcf-d6d93c165304\" xlink:actuate=\"onRequest\" xlink:href=\"psysml:09a722a7-3c7d-4d30-9bcf-d6d93c165304\" xlink:show=\"new\" xlink:title=\"psysml:09a722a7-3c7d-4d30-9bcf-d6d93c165304\" xlink:type=\"simple\"><path d=\"M126.57,171 C139.91,171 154.5,171 154.5,171 C154.5,171 154.5,234.78 154.5,234.78 \" fill=\"none\" id=\"E10-&gt;E3\" style=\"stroke: #383838; stroke-width: 1.0;\"/><polygon fill=\"#FFFFFF\" points=\"154.5,254.78,147.5,235.78,161.5,235.78,154.5,254.78\" style=\"stroke: #383838; stroke-width: 1.0;\"/><ellipse cx=\"149.5\" cy=\"230.08\" fill=\"#383838\" rx=\"2\" ry=\"2\" style=\"stroke: #383838; stroke-width: 1.0;\"/><ellipse cx=\"159.5\" cy=\"230.08\" fill=\"#383838\" rx=\"2\" ry=\"2\" style=\"stroke: #383838; stroke-width: 1.0;\"/></a><!--MD5=[1fc04a95fd77ad5ce46c1a3027516051]\n",
       "reverse link E9 to E11--><a href=\"psysml:2308c13a-9c40-4baf-abe1-b4752fcfac30\" target=\"_top\" title=\"psysml:2308c13a-9c40-4baf-abe1-b4752fcfac30\" xlink:actuate=\"onRequest\" xlink:href=\"psysml:2308c13a-9c40-4baf-abe1-b4752fcfac30\" xlink:show=\"new\" xlink:title=\"psysml:2308c13a-9c40-4baf-abe1-b4752fcfac30\" xlink:type=\"simple\"><path d=\"M170.25,100.22 C170.25,100.22 170.25,147.83 170.25,147.83 \" fill=\"none\" id=\"E9&lt;-E11\" style=\"stroke: #383838; stroke-width: 1.0;\"/><polygon fill=\"#FFFFFF\" points=\"170.25,87.22,166.25,93.22,170.25,99.22,174.25,93.22,170.25,87.22\" style=\"stroke: #383838; stroke-width: 1.0;\"/><text fill=\"#000000\" font-family=\"sans-serif\" font-size=\"13\" lengthAdjust=\"spacingAndGlyphs\" textLength=\"8\" x=\"157.9578\" y=\"137.0627\">1</text></a><!--MD5=[0517f1ce58c4d5483948f93845c45e26]\n",
       "link E11 to E3--><a href=\"psysml:713baad2-05ac-404b-8904-f9720a0da3f6\" target=\"_top\" title=\"psysml:713baad2-05ac-404b-8904-f9720a0da3f6\" xlink:actuate=\"onRequest\" xlink:href=\"psysml:713baad2-05ac-404b-8904-f9720a0da3f6\" xlink:show=\"new\" xlink:title=\"psysml:713baad2-05ac-404b-8904-f9720a0da3f6\" xlink:type=\"simple\"><path d=\"M183,194.22 C183,194.22 183,234.83 183,234.83 \" fill=\"none\" id=\"E11-&gt;E3\" style=\"stroke: #383838; stroke-width: 1.0;\"/><polygon fill=\"#FFFFFF\" points=\"183,254.83,176,235.83,190,235.83,183,254.83\" style=\"stroke: #383838; stroke-width: 1.0;\"/><ellipse cx=\"178\" cy=\"230.13\" fill=\"#383838\" rx=\"2\" ry=\"2\" style=\"stroke: #383838; stroke-width: 1.0;\"/><ellipse cx=\"188\" cy=\"230.13\" fill=\"#383838\" rx=\"2\" ry=\"2\" style=\"stroke: #383838; stroke-width: 1.0;\"/></a><!--MD5=[9d67427b7e4dc6f4d64a07d2516a8354]\n",
       "@startuml\r\n",
       "skinparam linetype ortho\r\n",
       "skinparam monochrome true\r\n",
       "skinparam classbackgroundcolor white\r\n",
       "skinparam shadowing false\r\n",
       "skinparam wrapWidth 300\r\n",
       "hide circle\r\n",
       "\r\n",
       "package \"ItemTest\" as E1  [[psysml:9c84b130-4496-45dd-acf0-f614adf4451b ]]  {\r\n",
       "comp usage \"f: A \" as E2  <<(T,blue) item>> [[psysml:046ce2e8-70d6-418b-9e34-4058f6a1e698 ]] {\r\n",
       "}\r\n",
       "comp def \"A\" as E3  <<(T,blue) item  def>> [[psysml:b761bda6-ef45-4173-adbe-8f17f5dd59b9 ]] {\r\n",
       "}\r\n",
       "comp usage \"b: B \" as E4  <<(T,blue) item>> [[psysml:5a9b7c1e-d921-40a5-84d4-dcafad1b8599 ]] {\r\n",
       "}\r\n",
       "comp usage \"c: C \" as E5  <<(T,blue) part>> [[psysml:c52e7c62-32ae-43e1-a51e-2d7f86512260 ]] {\r\n",
       "}\r\n",
       "comp def \"<i>B</i>\" as E6  <<(T,blue) item  def>> [[psysml:154f7142-f3c2-4f8f-a55c-1d31f59952e7 ]] {\r\n",
       "}\r\n",
       "comp usage \"<i>a</i>: A \" as E7  <<(T,blue) part>> [[psysml:3092a58e-bc17-492e-b3ac-d9b0c5d27ee1 ]] {\r\n",
       "}\r\n",
       "comp def \"C\" as E8  <<(T,blue) part  def>> [[psysml:a977dc12-1522-4e17-86ea-88834b4a9262 ]] {\r\n",
       "- - parameters - -\r\n",
       "<b>in</b> y: A, B\r\n",
       "}\r\n",
       "comp def \"P\" as E9  <<(T,blue) port  def>> [[psysml:505a0904-767f-4431-bdaf-f395e9a256c5 ]] {\r\n",
       "}\r\n",
       "comp usage \"a1: A \" as E10  <<(T,blue) item>> [[psysml:b48ee9ab-0a15-45ce-8465-86ae83c4be7f ]] {\r\n",
       "}\r\n",
       "comp usage \"a2: A \" as E11  <<(T,blue) item>> [[psysml:7b14a527-4e8d-41df-a91b-3ca9db44b1d9 ]] {\r\n",
       "}\r\n",
       "}\r\n",
       "E2 - -:|> E3 [[psysml:2913aa14-34e4-4ebc-b3c0-73cbbe37a712 ]] \r\n",
       "E3 *- - \"1\"E4 [[psysml:5a70b25d-3e65-48fe-9200-ece04e9de0ee ]] \r\n",
       "E3 o- - \"1\"E5 [[psysml:98aba136-2768-4c7e-bc34-95a5a6a911cd ]] \r\n",
       "E4 - -:|> E6 [[psysml:04be4dec-9fb2-423c-a400-1c82afc162c3 ]] \r\n",
       "E6 *- - \"1\"E7 [[psysml:88a05b08-39fe-46e7-8c9b-5df9e56fb426 ]] \r\n",
       "E7 - -:|> E3 [[psysml:de23f89f-df32-45d9-b344-47d8d19c4edc ]] \r\n",
       "E5 - -:|> E8 [[psysml:feaf6c57-7b20-4701-8323-0c325a1238bf ]] \r\n",
       "E8 o- - E3 [[psysml:f63e9e98-9395-484c-b7ba-710e403c3592 ]] : y\r\n",
       "E8 o- - E6 [[psysml:f63e9e98-9395-484c-b7ba-710e403c3592 ]] : y\r\n",
       "E8 o- - E3 [[psysml:f63e9e98-9395-484c-b7ba-710e403c3592 ]] : y\r\n",
       "E8 o- - E6 [[psysml:f63e9e98-9395-484c-b7ba-710e403c3592 ]] : y\r\n",
       "E9 o- - \"1\"E10 [[psysml:f7fd9ae3-3fa5-48e2-b146-bf2078e3bf75 ]] \r\n",
       "E10 - -:|> E3 [[psysml:09a722a7-3c7d-4d30-9bcf-d6d93c165304 ]] \r\n",
       "E9 o- - \"1\"E11 [[psysml:2308c13a-9c40-4baf-abe1-b4752fcfac30 ]] \r\n",
       "E11 - -:|> E3 [[psysml:713baad2-05ac-404b-8904-f9720a0da3f6 ]] \r\n",
       "@enduml\r\n",
       "\n",
       "PlantUML version 1.2020.13(Sat Jun 13 12:26:38 UTC 2020)\n",
       "(EPL source distribution)\n",
       "Java Runtime: OpenJDK Runtime Environment\n",
       "JVM: OpenJDK 64-Bit Server VM\n",
       "Default Encoding: UTF-8\n",
       "Language: en\n",
       "Country: null\n",
       "--></g></svg>"
      ]
     },
     "execution_count": 51,
     "metadata": {},
     "output_type": "execute_result"
    }
   ],
   "source": [
    "%viz --style=\"ORTHOLINE\" --view=\"Default\" \"ItemTest\""
   ]
  },
  {
   "cell_type": "code",
   "execution_count": 52,
   "id": "b3b9f3e9",
   "metadata": {
    "execution": {
     "iopub.execute_input": "2021-10-25T08:20:56.666877Z",
     "iopub.status.busy": "2021-10-25T08:20:56.666229Z",
     "iopub.status.idle": "2021-10-25T08:20:56.718722Z",
     "shell.execute_reply": "2021-10-25T08:20:56.716648Z"
    }
   },
   "outputs": [
    {
     "data": {
      "image/svg+xml": [
       "<?xml version=\"1.0\" encoding=\"UTF-8\" standalone=\"no\"?><svg xmlns=\"http://www.w3.org/2000/svg\" xmlns:xlink=\"http://www.w3.org/1999/xlink\" contentScriptType=\"application/ecmascript\" contentStyleType=\"text/css\" height=\"848px\" preserveAspectRatio=\"none\" style=\"width:344px;height:848px;\" version=\"1.1\" viewBox=\"0 0 344 848\" width=\"344px\" zoomAndPan=\"magnify\"><defs/><g><!--MD5=[fbc87193dbaf4d95561dea2c320d4a47]\n",
       "cluster E1--><a href=\"psysml:9c84b130-4496-45dd-acf0-f614adf4451b\" target=\"_top\" title=\"psysml:9c84b130-4496-45dd-acf0-f614adf4451b\" xlink:actuate=\"onRequest\" xlink:href=\"psysml:9c84b130-4496-45dd-acf0-f614adf4451b\" xlink:show=\"new\" xlink:title=\"psysml:9c84b130-4496-45dd-acf0-f614adf4451b\" xlink:type=\"simple\"><polygon fill=\"#FFFFFF\" points=\"16,6,83,6,90,28.2969,322,28.2969,322,836,16,836,16,6\" style=\"stroke: #000000; stroke-width: 1.5;\"/><line style=\"stroke: #000000; stroke-width: 1.5;\" x1=\"16\" x2=\"90\" y1=\"28.2969\" y2=\"28.2969\"/><text fill=\"#000000\" font-family=\"sans-serif\" font-size=\"14\" font-weight=\"bold\" lengthAdjust=\"spacingAndGlyphs\" textLength=\"61\" x=\"20\" y=\"20.9951\">ItemTest</text></a><!--MD5=[b4997ac47864f28c2f74865a473b2911]\n",
       "class E2--><a href=\"psysml:046ce2e8-70d6-418b-9e34-4058f6a1e698\" target=\"_top\" title=\"psysml:046ce2e8-70d6-418b-9e34-4058f6a1e698\" xlink:actuate=\"onRequest\" xlink:href=\"psysml:046ce2e8-70d6-418b-9e34-4058f6a1e698\" xlink:show=\"new\" xlink:title=\"psysml:046ce2e8-70d6-418b-9e34-4058f6a1e698\" xlink:type=\"simple\"><rect fill=\"#FFFFFF\" height=\"45.9375\" id=\"E2\" rx=\"10\" ry=\"10\" style=\"stroke: #383838; stroke-width: 1.5;\" width=\"43\" x=\"239.5\" y=\"148\"/><text fill=\"#000000\" font-family=\"sans-serif\" font-size=\"12\" font-style=\"italic\" lengthAdjust=\"spacingAndGlyphs\" textLength=\"41\" x=\"240.5\" y=\"164.1387\">«item»</text><text fill=\"#000000\" font-family=\"sans-serif\" font-size=\"12\" lengthAdjust=\"spacingAndGlyphs\" textLength=\"20\" x=\"249\" y=\"178.1074\">f: A</text><line style=\"stroke: #383838; stroke-width: 1.5;\" x1=\"240.5\" x2=\"281.5\" y1=\"185.9375\" y2=\"185.9375\"/></a><!--MD5=[09b614a08d8cba4a07c9adeb5e0fee81]\n",
       "class E3--><a href=\"psysml:b761bda6-ef45-4173-adbe-8f17f5dd59b9\" target=\"_top\" title=\"psysml:b761bda6-ef45-4173-adbe-8f17f5dd59b9\" xlink:actuate=\"onRequest\" xlink:href=\"psysml:b761bda6-ef45-4173-adbe-8f17f5dd59b9\" xlink:show=\"new\" xlink:title=\"psysml:b761bda6-ef45-4173-adbe-8f17f5dd59b9\" xlink:type=\"simple\"><rect fill=\"#FFFFFF\" height=\"45.9375\" id=\"E3\" style=\"stroke: #383838; stroke-width: 1.5;\" width=\"71\" x=\"147.5\" y=\"255\"/><text fill=\"#000000\" font-family=\"sans-serif\" font-size=\"12\" font-style=\"italic\" lengthAdjust=\"spacingAndGlyphs\" textLength=\"69\" x=\"148.5\" y=\"271.1387\">«item  def»</text><text fill=\"#000000\" font-family=\"sans-serif\" font-size=\"12\" lengthAdjust=\"spacingAndGlyphs\" textLength=\"8\" x=\"179\" y=\"285.1074\">A</text><line style=\"stroke: #383838; stroke-width: 1.5;\" x1=\"148.5\" x2=\"217.5\" y1=\"292.9375\" y2=\"292.9375\"/></a><!--MD5=[ebbe1d658d1005bcc118a6aa81145e00]\n",
       "class E4--><a href=\"psysml:5a9b7c1e-d921-40a5-84d4-dcafad1b8599\" target=\"_top\" title=\"psysml:5a9b7c1e-d921-40a5-84d4-dcafad1b8599\" xlink:actuate=\"onRequest\" xlink:href=\"psysml:5a9b7c1e-d921-40a5-84d4-dcafad1b8599\" xlink:show=\"new\" xlink:title=\"psysml:5a9b7c1e-d921-40a5-84d4-dcafad1b8599\" xlink:type=\"simple\"><rect fill=\"#FFFFFF\" height=\"45.9375\" id=\"E4\" rx=\"10\" ry=\"10\" style=\"stroke: #383838; stroke-width: 1.5;\" width=\"43\" x=\"255.5\" y=\"438\"/><text fill=\"#000000\" font-family=\"sans-serif\" font-size=\"12\" font-style=\"italic\" lengthAdjust=\"spacingAndGlyphs\" textLength=\"41\" x=\"256.5\" y=\"454.1387\">«item»</text><text fill=\"#000000\" font-family=\"sans-serif\" font-size=\"12\" lengthAdjust=\"spacingAndGlyphs\" textLength=\"24\" x=\"263\" y=\"468.1074\">b: B</text><line style=\"stroke: #383838; stroke-width: 1.5;\" x1=\"256.5\" x2=\"297.5\" y1=\"475.9375\" y2=\"475.9375\"/></a><!--MD5=[270fce915f116d4de14055a7c1d9a0f3]\n",
       "class E5--><a href=\"psysml:c52e7c62-32ae-43e1-a51e-2d7f86512260\" target=\"_top\" title=\"psysml:c52e7c62-32ae-43e1-a51e-2d7f86512260\" xlink:actuate=\"onRequest\" xlink:href=\"psysml:c52e7c62-32ae-43e1-a51e-2d7f86512260\" xlink:show=\"new\" xlink:title=\"psysml:c52e7c62-32ae-43e1-a51e-2d7f86512260\" xlink:type=\"simple\"><rect fill=\"#FFFFFF\" height=\"45.9375\" id=\"E5\" rx=\"10\" ry=\"10\" style=\"stroke: #383838; stroke-width: 1.5;\" width=\"42\" x=\"227\" y=\"362\"/><text fill=\"#000000\" font-family=\"sans-serif\" font-size=\"12\" font-style=\"italic\" lengthAdjust=\"spacingAndGlyphs\" textLength=\"40\" x=\"228\" y=\"378.1387\">«part»</text><text fill=\"#000000\" font-family=\"sans-serif\" font-size=\"12\" lengthAdjust=\"spacingAndGlyphs\" textLength=\"23\" x=\"234.5\" y=\"392.1074\">c: C</text><line style=\"stroke: #383838; stroke-width: 1.5;\" x1=\"228\" x2=\"268\" y1=\"399.9375\" y2=\"399.9375\"/></a><!--MD5=[60a26617385b1d2d0262a64233df1f8d]\n",
       "class E6--><a href=\"psysml:154f7142-f3c2-4f8f-a55c-1d31f59952e7\" target=\"_top\" title=\"psysml:154f7142-f3c2-4f8f-a55c-1d31f59952e7\" xlink:actuate=\"onRequest\" xlink:href=\"psysml:154f7142-f3c2-4f8f-a55c-1d31f59952e7\" xlink:show=\"new\" xlink:title=\"psysml:154f7142-f3c2-4f8f-a55c-1d31f59952e7\" xlink:type=\"simple\"><rect fill=\"#FFFFFF\" height=\"45.9375\" id=\"E6\" style=\"stroke: #383838; stroke-width: 1.5;\" width=\"71\" x=\"146.5\" y=\"667\"/><text fill=\"#000000\" font-family=\"sans-serif\" font-size=\"12\" font-style=\"italic\" lengthAdjust=\"spacingAndGlyphs\" textLength=\"69\" x=\"147.5\" y=\"683.1387\">«item  def»</text><text fill=\"#000000\" font-family=\"sans-serif\" font-size=\"12\" font-style=\"italic\" lengthAdjust=\"spacingAndGlyphs\" textLength=\"8\" x=\"178\" y=\"697.1074\">B</text><line style=\"stroke: #383838; stroke-width: 1.5;\" x1=\"147.5\" x2=\"216.5\" y1=\"704.9375\" y2=\"704.9375\"/></a><!--MD5=[2156ba9850f5573cc1fc38a6a4b2f02b]\n",
       "class E7--><a href=\"psysml:3092a58e-bc17-492e-b3ac-d9b0c5d27ee1\" target=\"_top\" title=\"psysml:3092a58e-bc17-492e-b3ac-d9b0c5d27ee1\" xlink:actuate=\"onRequest\" xlink:href=\"psysml:3092a58e-bc17-492e-b3ac-d9b0c5d27ee1\" xlink:show=\"new\" xlink:title=\"psysml:3092a58e-bc17-492e-b3ac-d9b0c5d27ee1\" xlink:type=\"simple\"><rect fill=\"#FFFFFF\" height=\"45.9375\" id=\"E7\" rx=\"10\" ry=\"10\" style=\"stroke: #383838; stroke-width: 1.5;\" width=\"42\" x=\"96\" y=\"774\"/><text fill=\"#000000\" font-family=\"sans-serif\" font-size=\"12\" font-style=\"italic\" lengthAdjust=\"spacingAndGlyphs\" textLength=\"40\" x=\"97\" y=\"790.1387\">«part»</text><text fill=\"#000000\" font-family=\"sans-serif\" font-size=\"12\" font-style=\"italic\" lengthAdjust=\"spacingAndGlyphs\" textLength=\"8\" x=\"103\" y=\"804.1074\">a</text><text fill=\"#000000\" font-family=\"sans-serif\" font-size=\"12\" lengthAdjust=\"spacingAndGlyphs\" textLength=\"16\" x=\"111\" y=\"804.1074\">: A</text><line style=\"stroke: #383838; stroke-width: 1.5;\" x1=\"97\" x2=\"137\" y1=\"811.9375\" y2=\"811.9375\"/></a><!--MD5=[b9389687b975829384b498ac4b7476b2]\n",
       "class E8--><a href=\"psysml:a977dc12-1522-4e17-86ea-88834b4a9262\" target=\"_top\" title=\"psysml:a977dc12-1522-4e17-86ea-88834b4a9262\" xlink:actuate=\"onRequest\" xlink:href=\"psysml:a977dc12-1522-4e17-86ea-88834b4a9262\" xlink:show=\"new\" xlink:title=\"psysml:a977dc12-1522-4e17-86ea-88834b4a9262\" xlink:type=\"simple\"><rect fill=\"#FFFFFF\" height=\"75.5469\" id=\"E8\" style=\"stroke: #383838; stroke-width: 1.5;\" width=\"75\" x=\"145.5\" y=\"514\"/><text fill=\"#000000\" font-family=\"sans-serif\" font-size=\"12\" font-style=\"italic\" lengthAdjust=\"spacingAndGlyphs\" textLength=\"68\" x=\"149\" y=\"530.1387\">«part  def»</text><text fill=\"#000000\" font-family=\"sans-serif\" font-size=\"12\" lengthAdjust=\"spacingAndGlyphs\" textLength=\"8\" x=\"179\" y=\"544.1074\">C</text><line style=\"stroke: #383838; stroke-width: 1.5;\" x1=\"146.5\" x2=\"219.5\" y1=\"551.9375\" y2=\"551.9375\"/><text fill=\"#000000\" font-family=\"sans-serif\" font-size=\"11\" font-weight=\"bold\" lengthAdjust=\"spacingAndGlyphs\" textLength=\"10\" x=\"151.5\" y=\"582.9526\">in</text><text fill=\"#000000\" font-family=\"sans-serif\" font-size=\"11\" lengthAdjust=\"spacingAndGlyphs\" textLength=\"37\" x=\"165.5\" y=\"582.9526\">y: A, B</text><line style=\"stroke: #383838; stroke-width: 1.0;\" x1=\"146.5\" x2=\"149.5\" y1=\"566.3398\" y2=\"566.3398\"/><text fill=\"#000000\" font-family=\"sans-serif\" font-size=\"11\" lengthAdjust=\"spacingAndGlyphs\" textLength=\"67\" x=\"149.5\" y=\"569.6479\">parameters</text><line style=\"stroke: #383838; stroke-width: 1.0;\" x1=\"216.5\" x2=\"219.5\" y1=\"566.3398\" y2=\"566.3398\"/></a><!--MD5=[fd4143e9d270a159db93a4ea2a975926]\n",
       "class E9--><a href=\"psysml:505a0904-767f-4431-bdaf-f395e9a256c5\" target=\"_top\" title=\"psysml:505a0904-767f-4431-bdaf-f395e9a256c5\" xlink:actuate=\"onRequest\" xlink:href=\"psysml:505a0904-767f-4431-bdaf-f395e9a256c5\" xlink:show=\"new\" xlink:title=\"psysml:505a0904-767f-4431-bdaf-f395e9a256c5\" xlink:type=\"simple\"><rect fill=\"#FFFFFF\" height=\"45.9375\" id=\"E9\" style=\"stroke: #383838; stroke-width: 1.5;\" width=\"70\" x=\"109\" y=\"41\"/><text fill=\"#000000\" font-family=\"sans-serif\" font-size=\"12\" font-style=\"italic\" lengthAdjust=\"spacingAndGlyphs\" textLength=\"68\" x=\"110\" y=\"57.1387\">«port  def»</text><text fill=\"#000000\" font-family=\"sans-serif\" font-size=\"12\" lengthAdjust=\"spacingAndGlyphs\" textLength=\"8\" x=\"140\" y=\"71.1074\">P</text><line style=\"stroke: #383838; stroke-width: 1.5;\" x1=\"110\" x2=\"178\" y1=\"78.9375\" y2=\"78.9375\"/></a><!--MD5=[96f4274e9e20536e775497830990834d]\n",
       "class E10--><a href=\"psysml:b48ee9ab-0a15-45ce-8465-86ae83c4be7f\" target=\"_top\" title=\"psysml:b48ee9ab-0a15-45ce-8465-86ae83c4be7f\" xlink:actuate=\"onRequest\" xlink:href=\"psysml:b48ee9ab-0a15-45ce-8465-86ae83c4be7f\" xlink:show=\"new\" xlink:title=\"psysml:b48ee9ab-0a15-45ce-8465-86ae83c4be7f\" xlink:type=\"simple\"><rect fill=\"#FFFFFF\" height=\"45.9375\" id=\"E10\" rx=\"10\" ry=\"10\" style=\"stroke: #383838; stroke-width: 1.5;\" width=\"43\" x=\"83.5\" y=\"148\"/><text fill=\"#000000\" font-family=\"sans-serif\" font-size=\"12\" font-style=\"italic\" lengthAdjust=\"spacingAndGlyphs\" textLength=\"41\" x=\"84.5\" y=\"164.1387\">«item»</text><text fill=\"#000000\" font-family=\"sans-serif\" font-size=\"12\" lengthAdjust=\"spacingAndGlyphs\" textLength=\"32\" x=\"87\" y=\"178.1074\">a1: A</text><line style=\"stroke: #383838; stroke-width: 1.5;\" x1=\"84.5\" x2=\"125.5\" y1=\"185.9375\" y2=\"185.9375\"/></a><!--MD5=[1dd1bfd58a279cf63c5f349dbc8fc6a1]\n",
       "class E11--><a href=\"psysml:7b14a527-4e8d-41df-a91b-3ca9db44b1d9\" target=\"_top\" title=\"psysml:7b14a527-4e8d-41df-a91b-3ca9db44b1d9\" xlink:actuate=\"onRequest\" xlink:href=\"psysml:7b14a527-4e8d-41df-a91b-3ca9db44b1d9\" xlink:show=\"new\" xlink:title=\"psysml:7b14a527-4e8d-41df-a91b-3ca9db44b1d9\" xlink:type=\"simple\"><rect fill=\"#FFFFFF\" height=\"45.9375\" id=\"E11\" rx=\"10\" ry=\"10\" style=\"stroke: #383838; stroke-width: 1.5;\" width=\"43\" x=\"161.5\" y=\"148\"/><text fill=\"#000000\" font-family=\"sans-serif\" font-size=\"12\" font-style=\"italic\" lengthAdjust=\"spacingAndGlyphs\" textLength=\"41\" x=\"162.5\" y=\"164.1387\">«item»</text><text fill=\"#000000\" font-family=\"sans-serif\" font-size=\"12\" lengthAdjust=\"spacingAndGlyphs\" textLength=\"32\" x=\"165\" y=\"178.1074\">a2: A</text><line style=\"stroke: #383838; stroke-width: 1.5;\" x1=\"162.5\" x2=\"203.5\" y1=\"185.9375\" y2=\"185.9375\"/></a><!--MD5=[2720a5a1f2c3fca2055b230370638851]\n",
       "link E2 to E3--><a href=\"psysml:2913aa14-34e4-4ebc-b3c0-73cbbe37a712\" target=\"_top\" title=\"psysml:2913aa14-34e4-4ebc-b3c0-73cbbe37a712\" xlink:actuate=\"onRequest\" xlink:href=\"psysml:2913aa14-34e4-4ebc-b3c0-73cbbe37a712\" xlink:show=\"new\" xlink:title=\"psysml:2913aa14-34e4-4ebc-b3c0-73cbbe37a712\" xlink:type=\"simple\"><path d=\"M239.43,171 C226.09,171 211.5,171 211.5,171 C211.5,171 211.5,234.78 211.5,234.78 \" fill=\"none\" id=\"E2-&gt;E3\" style=\"stroke: #383838; stroke-width: 1.0;\"/><polygon fill=\"#FFFFFF\" points=\"211.5,254.78,204.5,235.78,218.5,235.78,211.5,254.78\" style=\"stroke: #383838; stroke-width: 1.0;\"/><ellipse cx=\"206.5\" cy=\"230.08\" fill=\"#383838\" rx=\"2\" ry=\"2\" style=\"stroke: #383838; stroke-width: 1.0;\"/><ellipse cx=\"216.5\" cy=\"230.08\" fill=\"#383838\" rx=\"2\" ry=\"2\" style=\"stroke: #383838; stroke-width: 1.0;\"/></a><!--MD5=[4672eba38e49728da53d11aeb285b987]\n",
       "reverse link E3 to E4--><a href=\"psysml:5a70b25d-3e65-48fe-9200-ece04e9de0ee\" target=\"_top\" title=\"psysml:5a70b25d-3e65-48fe-9200-ece04e9de0ee\" xlink:actuate=\"onRequest\" xlink:href=\"psysml:5a70b25d-3e65-48fe-9200-ece04e9de0ee\" xlink:show=\"new\" xlink:title=\"psysml:5a70b25d-3e65-48fe-9200-ece04e9de0ee\" xlink:type=\"simple\"><path d=\"M231.59,271 C231.59,271 275.75,271 275.75,271 C275.75,271 275.75,386.97 275.75,437.7 \" fill=\"none\" id=\"E3&lt;-E4\" style=\"stroke: #383838; stroke-width: 1.0;\"/><polygon fill=\"#383838\" points=\"218.59,271,224.59,275,230.59,271,224.59,267,218.59,271\" style=\"stroke: #383838; stroke-width: 1.0;\"/><text fill=\"#000000\" font-family=\"sans-serif\" font-size=\"13\" lengthAdjust=\"spacingAndGlyphs\" textLength=\"8\" x=\"267.0698\" y=\"428.0106\">1</text></a><!--MD5=[191cde3d490a3f6d7bb551fe3ddca469]\n",
       "reverse link E3 to E5--><a href=\"psysml:98aba136-2768-4c7e-bc34-95a5a6a911cd\" target=\"_top\" title=\"psysml:98aba136-2768-4c7e-bc34-95a5a6a911cd\" xlink:actuate=\"onRequest\" xlink:href=\"psysml:98aba136-2768-4c7e-bc34-95a5a6a911cd\" xlink:show=\"new\" xlink:title=\"psysml:98aba136-2768-4c7e-bc34-95a5a6a911cd\" xlink:type=\"simple\"><path d=\"M231.72,286 C231.72,286 233.25,286 233.25,286 C233.25,286 233.25,332.53 233.25,361.79 \" fill=\"none\" id=\"E3&lt;-E5\" style=\"stroke: #383838; stroke-width: 1.0;\"/><polygon fill=\"#FFFFFF\" points=\"218.72,286,224.72,290,230.72,286,224.72,282,218.72,286\" style=\"stroke: #383838; stroke-width: 1.0;\"/><text fill=\"#000000\" font-family=\"sans-serif\" font-size=\"13\" lengthAdjust=\"spacingAndGlyphs\" textLength=\"8\" x=\"220.4453\" y=\"351.0125\">1</text></a><!--MD5=[79568f1e445c3877b6a54524624ccc7d]\n",
       "link E4 to E6--><a href=\"psysml:04be4dec-9fb2-423c-a400-1c82afc162c3\" target=\"_top\" title=\"psysml:04be4dec-9fb2-423c-a400-1c82afc162c3\" xlink:actuate=\"onRequest\" xlink:href=\"psysml:04be4dec-9fb2-423c-a400-1c82afc162c3\" xlink:show=\"new\" xlink:title=\"psysml:04be4dec-9fb2-423c-a400-1c82afc162c3\" xlink:type=\"simple\"><path d=\"M277,484.22 C277,542.44 277,690 277,690 C277,690 237.64,690 237.64,690 \" fill=\"none\" id=\"E4-&gt;E6\" style=\"stroke: #383838; stroke-width: 1.0;\"/><polygon fill=\"#FFFFFF\" points=\"217.64,690,236.64,683,236.64,697,217.64,690\" style=\"stroke: #383838; stroke-width: 1.0;\"/><ellipse cx=\"242.34\" cy=\"685\" fill=\"#383838\" rx=\"2\" ry=\"2\" style=\"stroke: #383838; stroke-width: 1.0;\"/><ellipse cx=\"242.34\" cy=\"695\" fill=\"#383838\" rx=\"2\" ry=\"2\" style=\"stroke: #383838; stroke-width: 1.0;\"/></a><!--MD5=[3f50a3473f1dfb74d3f76443e03635af]\n",
       "reverse link E6 to E7--><a href=\"psysml:88a05b08-39fe-46e7-8c9b-5df9e56fb426\" target=\"_top\" title=\"psysml:88a05b08-39fe-46e7-8c9b-5df9e56fb426\" xlink:actuate=\"onRequest\" xlink:href=\"psysml:88a05b08-39fe-46e7-8c9b-5df9e56fb426\" xlink:show=\"new\" xlink:title=\"psysml:88a05b08-39fe-46e7-8c9b-5df9e56fb426\" xlink:type=\"simple\"><path d=\"M135.37,690 C135.37,690 134.17,690 134.17,690 C134.17,690 134.17,742.31 134.17,773.78 \" fill=\"none\" id=\"E6&lt;-E7\" style=\"stroke: #383838; stroke-width: 1.0;\"/><polygon fill=\"#383838\" points=\"146.24,690,140.24,686,134.24,690,140.24,694,146.24,690\" style=\"stroke: #383838; stroke-width: 1.0;\"/><text fill=\"#000000\" font-family=\"sans-serif\" font-size=\"13\" lengthAdjust=\"spacingAndGlyphs\" textLength=\"8\" x=\"129.5448\" y=\"762.9999\">1</text></a><!--MD5=[14ccda38c055a5c0da953d572bc50960]\n",
       "link E7 to E3--><a href=\"psysml:de23f89f-df32-45d9-b344-47d8d19c4edc\" target=\"_top\" title=\"psysml:de23f89f-df32-45d9-b344-47d8d19c4edc\" xlink:actuate=\"onRequest\" xlink:href=\"psysml:de23f89f-df32-45d9-b344-47d8d19c4edc\" xlink:show=\"new\" xlink:title=\"psysml:de23f89f-df32-45d9-b344-47d8d19c4edc\" xlink:type=\"simple\"><path d=\"M130.33,773.69 C130.33,672.7 130.33,278 130.33,278 C130.33,278 132.03,278 132.03,278 \" fill=\"none\" id=\"E7-&gt;E3\" style=\"stroke: #383838; stroke-width: 1.0;\"/><polygon fill=\"#FFFFFF\" points=\"147.29,278,128.29,285,128.29,271,147.29,278\" style=\"stroke: #383838; stroke-width: 1.0;\"/><ellipse cx=\"122.59\" cy=\"283\" fill=\"#383838\" rx=\"2\" ry=\"2\" style=\"stroke: #383838; stroke-width: 1.0;\"/><ellipse cx=\"122.59\" cy=\"273\" fill=\"#383838\" rx=\"2\" ry=\"2\" style=\"stroke: #383838; stroke-width: 1.0;\"/></a><!--MD5=[dfaffb906826c3e5aca635516100ff21]\n",
       "link E5 to E8--><a href=\"psysml:feaf6c57-7b20-4701-8323-0c325a1238bf\" target=\"_top\" title=\"psysml:feaf6c57-7b20-4701-8323-0c325a1238bf\" xlink:actuate=\"onRequest\" xlink:href=\"psysml:feaf6c57-7b20-4701-8323-0c325a1238bf\" xlink:show=\"new\" xlink:title=\"psysml:feaf6c57-7b20-4701-8323-0c325a1238bf\" xlink:type=\"simple\"><path d=\"M241.25,408.22 C241.25,454.11 241.25,552 241.25,552 C241.25,552 239.18,552 239.18,552 \" fill=\"none\" id=\"E5-&gt;E8\" style=\"stroke: #383838; stroke-width: 1.0;\"/><polygon fill=\"#FFFFFF\" points=\"220.55,552,239.55,545,239.55,559,220.55,552\" style=\"stroke: #383838; stroke-width: 1.0;\"/><ellipse cx=\"245.25\" cy=\"547\" fill=\"#383838\" rx=\"2\" ry=\"2\" style=\"stroke: #383838; stroke-width: 1.0;\"/><ellipse cx=\"245.25\" cy=\"557\" fill=\"#383838\" rx=\"2\" ry=\"2\" style=\"stroke: #383838; stroke-width: 1.0;\"/></a><!--MD5=[03c8294790d3c57651a1993cecff665f]\n",
       "reverse link E8 to E3--><a href=\"psysml:f63e9e98-9395-484c-b7ba-710e403c3592\" target=\"_top\" title=\"psysml:f63e9e98-9395-484c-b7ba-710e403c3592\" xlink:actuate=\"onRequest\" xlink:href=\"psysml:f63e9e98-9395-484c-b7ba-710e403c3592\" xlink:show=\"new\" xlink:title=\"psysml:f63e9e98-9395-484c-b7ba-710e403c3592\" xlink:type=\"simple\"><path d=\"M171.17,500.9 C171.17,500.9 171.17,301.3 171.17,301.3 \" fill=\"none\" id=\"E8&lt;-E3\" style=\"stroke: #383838; stroke-width: 1.0;\"/><polygon fill=\"#FFFFFF\" points=\"171.17,513.9,175.17,507.9,171.17,501.9,167.17,507.9,171.17,513.9\" style=\"stroke: #383838; stroke-width: 1.0;\"/><text fill=\"#000000\" font-family=\"sans-serif\" font-size=\"13\" lengthAdjust=\"spacingAndGlyphs\" textLength=\"7\" x=\"105\" y=\"389.5669\">y</text></a><!--MD5=[03c8294790d3c57651a1993cecff665f]\n",
       "reverse link E8 to E3--><a href=\"psysml:f63e9e98-9395-484c-b7ba-710e403c3592\" target=\"_top\" title=\"psysml:f63e9e98-9395-484c-b7ba-710e403c3592\" xlink:actuate=\"onRequest\" xlink:href=\"psysml:f63e9e98-9395-484c-b7ba-710e403c3592\" xlink:show=\"new\" xlink:title=\"psysml:f63e9e98-9395-484c-b7ba-710e403c3592\" xlink:type=\"simple\"><path d=\"M194.83,500.9 C194.83,500.9 194.83,301.3 194.83,301.3 \" fill=\"none\" id=\"E8&lt;-E3-1\" style=\"stroke: #383838; stroke-width: 1.0;\"/><polygon fill=\"#FFFFFF\" points=\"194.83,513.9,198.83,507.9,194.83,501.9,190.83,507.9,194.83,513.9\" style=\"stroke: #383838; stroke-width: 1.0;\"/><text fill=\"#000000\" font-family=\"sans-serif\" font-size=\"13\" lengthAdjust=\"spacingAndGlyphs\" textLength=\"7\" x=\"184\" y=\"389.5669\">y</text></a><!--MD5=[0d75d2178373a6a4568e5dc728f58aef]\n",
       "reverse link E8 to E6--><a href=\"psysml:f63e9e98-9395-484c-b7ba-710e403c3592\" target=\"_top\" title=\"psysml:f63e9e98-9395-484c-b7ba-710e403c3592\" xlink:actuate=\"onRequest\" xlink:href=\"psysml:f63e9e98-9395-484c-b7ba-710e403c3592\" xlink:show=\"new\" xlink:title=\"psysml:f63e9e98-9395-484c-b7ba-710e403c3592\" xlink:type=\"simple\"><path d=\"M170.17,603.07 C170.17,603.07 170.17,666.75 170.17,666.75 \" fill=\"none\" id=\"E8&lt;-E6\" style=\"stroke: #383838; stroke-width: 1.0;\"/><polygon fill=\"#FFFFFF\" points=\"170.17,590.07,166.17,596.07,170.17,602.07,174.17,596.07,170.17,590.07\" style=\"stroke: #383838; stroke-width: 1.0;\"/><text fill=\"#000000\" font-family=\"sans-serif\" font-size=\"13\" lengthAdjust=\"spacingAndGlyphs\" textLength=\"7\" x=\"159\" y=\"633.0669\">y</text></a><!--MD5=[0d75d2178373a6a4568e5dc728f58aef]\n",
       "reverse link E8 to E6--><a href=\"psysml:f63e9e98-9395-484c-b7ba-710e403c3592\" target=\"_top\" title=\"psysml:f63e9e98-9395-484c-b7ba-710e403c3592\" xlink:actuate=\"onRequest\" xlink:href=\"psysml:f63e9e98-9395-484c-b7ba-710e403c3592\" xlink:show=\"new\" xlink:title=\"psysml:f63e9e98-9395-484c-b7ba-710e403c3592\" xlink:type=\"simple\"><path d=\"M193.83,603.07 C193.83,603.07 193.83,666.75 193.83,666.75 \" fill=\"none\" id=\"E8&lt;-E6-1\" style=\"stroke: #383838; stroke-width: 1.0;\"/><polygon fill=\"#FFFFFF\" points=\"193.83,590.07,189.83,596.07,193.83,602.07,197.83,596.07,193.83,590.07\" style=\"stroke: #383838; stroke-width: 1.0;\"/><text fill=\"#000000\" font-family=\"sans-serif\" font-size=\"13\" lengthAdjust=\"spacingAndGlyphs\" textLength=\"7\" x=\"208\" y=\"633.0669\">y</text></a><!--MD5=[23ac544a70576c3e717098101004234c]\n",
       "reverse link E9 to E10--><a href=\"psysml:f7fd9ae3-3fa5-48e2-b146-bf2078e3bf75\" target=\"_top\" title=\"psysml:f7fd9ae3-3fa5-48e2-b146-bf2078e3bf75\" xlink:actuate=\"onRequest\" xlink:href=\"psysml:f7fd9ae3-3fa5-48e2-b146-bf2078e3bf75\" xlink:show=\"new\" xlink:title=\"psysml:f7fd9ae3-3fa5-48e2-b146-bf2078e3bf75\" xlink:type=\"simple\"><path d=\"M117.75,100.22 C117.75,100.22 117.75,147.83 117.75,147.83 \" fill=\"none\" id=\"E9&lt;-E10\" style=\"stroke: #383838; stroke-width: 1.0;\"/><polygon fill=\"#FFFFFF\" points=\"117.75,87.22,113.75,93.22,117.75,99.22,121.75,93.22,117.75,87.22\" style=\"stroke: #383838; stroke-width: 1.0;\"/><text fill=\"#000000\" font-family=\"sans-serif\" font-size=\"13\" lengthAdjust=\"spacingAndGlyphs\" textLength=\"8\" x=\"111.9922\" y=\"137.0627\">1</text></a><!--MD5=[feeac5eb423634930294aa81f2d25a4c]\n",
       "link E10 to E3--><a href=\"psysml:09a722a7-3c7d-4d30-9bcf-d6d93c165304\" target=\"_top\" title=\"psysml:09a722a7-3c7d-4d30-9bcf-d6d93c165304\" xlink:actuate=\"onRequest\" xlink:href=\"psysml:09a722a7-3c7d-4d30-9bcf-d6d93c165304\" xlink:show=\"new\" xlink:title=\"psysml:09a722a7-3c7d-4d30-9bcf-d6d93c165304\" xlink:type=\"simple\"><path d=\"M126.57,171 C139.91,171 154.5,171 154.5,171 C154.5,171 154.5,234.78 154.5,234.78 \" fill=\"none\" id=\"E10-&gt;E3\" style=\"stroke: #383838; stroke-width: 1.0;\"/><polygon fill=\"#FFFFFF\" points=\"154.5,254.78,147.5,235.78,161.5,235.78,154.5,254.78\" style=\"stroke: #383838; stroke-width: 1.0;\"/><ellipse cx=\"149.5\" cy=\"230.08\" fill=\"#383838\" rx=\"2\" ry=\"2\" style=\"stroke: #383838; stroke-width: 1.0;\"/><ellipse cx=\"159.5\" cy=\"230.08\" fill=\"#383838\" rx=\"2\" ry=\"2\" style=\"stroke: #383838; stroke-width: 1.0;\"/></a><!--MD5=[1fc04a95fd77ad5ce46c1a3027516051]\n",
       "reverse link E9 to E11--><a href=\"psysml:2308c13a-9c40-4baf-abe1-b4752fcfac30\" target=\"_top\" title=\"psysml:2308c13a-9c40-4baf-abe1-b4752fcfac30\" xlink:actuate=\"onRequest\" xlink:href=\"psysml:2308c13a-9c40-4baf-abe1-b4752fcfac30\" xlink:show=\"new\" xlink:title=\"psysml:2308c13a-9c40-4baf-abe1-b4752fcfac30\" xlink:type=\"simple\"><path d=\"M170.25,100.22 C170.25,100.22 170.25,147.83 170.25,147.83 \" fill=\"none\" id=\"E9&lt;-E11\" style=\"stroke: #383838; stroke-width: 1.0;\"/><polygon fill=\"#FFFFFF\" points=\"170.25,87.22,166.25,93.22,170.25,99.22,174.25,93.22,170.25,87.22\" style=\"stroke: #383838; stroke-width: 1.0;\"/><text fill=\"#000000\" font-family=\"sans-serif\" font-size=\"13\" lengthAdjust=\"spacingAndGlyphs\" textLength=\"8\" x=\"157.9578\" y=\"137.0627\">1</text></a><!--MD5=[0517f1ce58c4d5483948f93845c45e26]\n",
       "link E11 to E3--><a href=\"psysml:713baad2-05ac-404b-8904-f9720a0da3f6\" target=\"_top\" title=\"psysml:713baad2-05ac-404b-8904-f9720a0da3f6\" xlink:actuate=\"onRequest\" xlink:href=\"psysml:713baad2-05ac-404b-8904-f9720a0da3f6\" xlink:show=\"new\" xlink:title=\"psysml:713baad2-05ac-404b-8904-f9720a0da3f6\" xlink:type=\"simple\"><path d=\"M183,194.22 C183,194.22 183,234.83 183,234.83 \" fill=\"none\" id=\"E11-&gt;E3\" style=\"stroke: #383838; stroke-width: 1.0;\"/><polygon fill=\"#FFFFFF\" points=\"183,254.83,176,235.83,190,235.83,183,254.83\" style=\"stroke: #383838; stroke-width: 1.0;\"/><ellipse cx=\"178\" cy=\"230.13\" fill=\"#383838\" rx=\"2\" ry=\"2\" style=\"stroke: #383838; stroke-width: 1.0;\"/><ellipse cx=\"188\" cy=\"230.13\" fill=\"#383838\" rx=\"2\" ry=\"2\" style=\"stroke: #383838; stroke-width: 1.0;\"/></a><!--MD5=[9d67427b7e4dc6f4d64a07d2516a8354]\n",
       "@startuml\r\n",
       "skinparam linetype ortho\r\n",
       "skinparam monochrome true\r\n",
       "skinparam classbackgroundcolor white\r\n",
       "skinparam shadowing false\r\n",
       "skinparam wrapWidth 300\r\n",
       "hide circle\r\n",
       "\r\n",
       "package \"ItemTest\" as E1  [[psysml:9c84b130-4496-45dd-acf0-f614adf4451b ]]  {\r\n",
       "comp usage \"f: A \" as E2  <<(T,blue) item>> [[psysml:046ce2e8-70d6-418b-9e34-4058f6a1e698 ]] {\r\n",
       "}\r\n",
       "comp def \"A\" as E3  <<(T,blue) item  def>> [[psysml:b761bda6-ef45-4173-adbe-8f17f5dd59b9 ]] {\r\n",
       "}\r\n",
       "comp usage \"b: B \" as E4  <<(T,blue) item>> [[psysml:5a9b7c1e-d921-40a5-84d4-dcafad1b8599 ]] {\r\n",
       "}\r\n",
       "comp usage \"c: C \" as E5  <<(T,blue) part>> [[psysml:c52e7c62-32ae-43e1-a51e-2d7f86512260 ]] {\r\n",
       "}\r\n",
       "comp def \"<i>B</i>\" as E6  <<(T,blue) item  def>> [[psysml:154f7142-f3c2-4f8f-a55c-1d31f59952e7 ]] {\r\n",
       "}\r\n",
       "comp usage \"<i>a</i>: A \" as E7  <<(T,blue) part>> [[psysml:3092a58e-bc17-492e-b3ac-d9b0c5d27ee1 ]] {\r\n",
       "}\r\n",
       "comp def \"C\" as E8  <<(T,blue) part  def>> [[psysml:a977dc12-1522-4e17-86ea-88834b4a9262 ]] {\r\n",
       "- - parameters - -\r\n",
       "<b>in</b> y: A, B\r\n",
       "}\r\n",
       "comp def \"P\" as E9  <<(T,blue) port  def>> [[psysml:505a0904-767f-4431-bdaf-f395e9a256c5 ]] {\r\n",
       "}\r\n",
       "comp usage \"a1: A \" as E10  <<(T,blue) item>> [[psysml:b48ee9ab-0a15-45ce-8465-86ae83c4be7f ]] {\r\n",
       "}\r\n",
       "comp usage \"a2: A \" as E11  <<(T,blue) item>> [[psysml:7b14a527-4e8d-41df-a91b-3ca9db44b1d9 ]] {\r\n",
       "}\r\n",
       "}\r\n",
       "E2 - -:|> E3 [[psysml:2913aa14-34e4-4ebc-b3c0-73cbbe37a712 ]] \r\n",
       "E3 *- - \"1\"E4 [[psysml:5a70b25d-3e65-48fe-9200-ece04e9de0ee ]] \r\n",
       "E3 o- - \"1\"E5 [[psysml:98aba136-2768-4c7e-bc34-95a5a6a911cd ]] \r\n",
       "E4 - -:|> E6 [[psysml:04be4dec-9fb2-423c-a400-1c82afc162c3 ]] \r\n",
       "E6 *- - \"1\"E7 [[psysml:88a05b08-39fe-46e7-8c9b-5df9e56fb426 ]] \r\n",
       "E7 - -:|> E3 [[psysml:de23f89f-df32-45d9-b344-47d8d19c4edc ]] \r\n",
       "E5 - -:|> E8 [[psysml:feaf6c57-7b20-4701-8323-0c325a1238bf ]] \r\n",
       "E8 o- - E3 [[psysml:f63e9e98-9395-484c-b7ba-710e403c3592 ]] : y\r\n",
       "E8 o- - E6 [[psysml:f63e9e98-9395-484c-b7ba-710e403c3592 ]] : y\r\n",
       "E8 o- - E3 [[psysml:f63e9e98-9395-484c-b7ba-710e403c3592 ]] : y\r\n",
       "E8 o- - E6 [[psysml:f63e9e98-9395-484c-b7ba-710e403c3592 ]] : y\r\n",
       "E9 o- - \"1\"E10 [[psysml:f7fd9ae3-3fa5-48e2-b146-bf2078e3bf75 ]] \r\n",
       "E10 - -:|> E3 [[psysml:09a722a7-3c7d-4d30-9bcf-d6d93c165304 ]] \r\n",
       "E9 o- - \"1\"E11 [[psysml:2308c13a-9c40-4baf-abe1-b4752fcfac30 ]] \r\n",
       "E11 - -:|> E3 [[psysml:713baad2-05ac-404b-8904-f9720a0da3f6 ]] \r\n",
       "@enduml\r\n",
       "\n",
       "PlantUML version 1.2020.13(Sat Jun 13 12:26:38 UTC 2020)\n",
       "(EPL source distribution)\n",
       "Java Runtime: OpenJDK Runtime Environment\n",
       "JVM: OpenJDK 64-Bit Server VM\n",
       "Default Encoding: UTF-8\n",
       "Language: en\n",
       "Country: null\n",
       "--></g></svg>"
      ]
     },
     "execution_count": 52,
     "metadata": {},
     "output_type": "execute_result"
    }
   ],
   "source": [
    "%viz --style=\"ORTHOLINE\" --view=\"Tree\" \"ItemTest\""
   ]
  },
  {
   "cell_type": "code",
   "execution_count": 53,
   "id": "24c169a6",
   "metadata": {
    "execution": {
     "iopub.execute_input": "2021-10-25T08:20:56.767446Z",
     "iopub.status.busy": "2021-10-25T08:20:56.766994Z",
     "iopub.status.idle": "2021-10-25T08:20:56.772017Z",
     "shell.execute_reply": "2021-10-25T08:20:56.771753Z"
    }
   },
   "outputs": [
    {
     "data": {
      "image/svg+xml": [
       "<?xml version=\"1.0\" encoding=\"UTF-8\" standalone=\"no\"?><svg xmlns=\"http://www.w3.org/2000/svg\" xmlns:xlink=\"http://www.w3.org/1999/xlink\" contentScriptType=\"application/ecmascript\" contentStyleType=\"text/css\" height=\"12px\" preserveAspectRatio=\"none\" style=\"width:12px;height:12px;\" version=\"1.1\" viewBox=\"0 0 12 12\" width=\"12px\" zoomAndPan=\"magnify\"><defs/><g><!--MD5=[97d6f38768b311333d388e66b2b27985]\n",
       "@startuml\r\n",
       "skinparam linetype ortho\r\n",
       "skinparam monochrome true\r\n",
       "skinparam classbackgroundcolor white\r\n",
       "skinparam shadowing false\r\n",
       "skinparam wrapWidth 300\r\n",
       "hide circle\r\n",
       "\r\n",
       "@enduml\r\n",
       "\n",
       "PlantUML version 1.2020.13(Sat Jun 13 12:26:38 UTC 2020)\n",
       "(EPL source distribution)\n",
       "Java Runtime: OpenJDK Runtime Environment\n",
       "JVM: OpenJDK 64-Bit Server VM\n",
       "Default Encoding: UTF-8\n",
       "Language: en\n",
       "Country: null\n",
       "--></g></svg>"
      ]
     },
     "execution_count": 53,
     "metadata": {},
     "output_type": "execute_result"
    }
   ],
   "source": [
    "%viz --style=\"ORTHOLINE\" --view=\"State\" \"ItemTest\""
   ]
  },
  {
   "cell_type": "code",
   "execution_count": 54,
   "id": "8a756dd6",
   "metadata": {
    "execution": {
     "iopub.execute_input": "2021-10-25T08:20:56.821977Z",
     "iopub.status.busy": "2021-10-25T08:20:56.821543Z",
     "iopub.status.idle": "2021-10-25T08:20:56.848070Z",
     "shell.execute_reply": "2021-10-25T08:20:56.845863Z"
    }
   },
   "outputs": [
    {
     "data": {
      "image/svg+xml": [
       "<?xml version=\"1.0\" encoding=\"UTF-8\" standalone=\"no\"?><svg xmlns=\"http://www.w3.org/2000/svg\" xmlns:xlink=\"http://www.w3.org/1999/xlink\" contentScriptType=\"application/ecmascript\" contentStyleType=\"text/css\" height=\"112px\" preserveAspectRatio=\"none\" style=\"width:563px;height:112px;\" version=\"1.1\" viewBox=\"0 0 563 112\" width=\"563px\" zoomAndPan=\"magnify\"><defs/><g><!--MD5=[fbc87193dbaf4d95561dea2c320d4a47]\n",
       "cluster E1--><a href=\"psysml:9c84b130-4496-45dd-acf0-f614adf4451b\" target=\"_top\" title=\"psysml:9c84b130-4496-45dd-acf0-f614adf4451b\" xlink:actuate=\"onRequest\" xlink:href=\"psysml:9c84b130-4496-45dd-acf0-f614adf4451b\" xlink:show=\"new\" xlink:title=\"psysml:9c84b130-4496-45dd-acf0-f614adf4451b\" xlink:type=\"simple\"><polygon fill=\"#FFFFFF\" points=\"16,6,83,6,90,28.2969,541,28.2969,541,100,16,100,16,6\" style=\"stroke: #000000; stroke-width: 1.5;\"/><line style=\"stroke: #000000; stroke-width: 1.5;\" x1=\"16\" x2=\"90\" y1=\"28.2969\" y2=\"28.2969\"/><text fill=\"#000000\" font-family=\"sans-serif\" font-size=\"14\" font-weight=\"bold\" lengthAdjust=\"spacingAndGlyphs\" textLength=\"61\" x=\"20\" y=\"20.9951\">ItemTest</text></a><g id=\"E1.E3\"><a href=\"psysml:b761bda6-ef45-4173-adbe-8f17f5dd59b9\" target=\"_top\" title=\"psysml:b761bda6-ef45-4173-adbe-8f17f5dd59b9\" xlink:actuate=\"onRequest\" xlink:href=\"psysml:b761bda6-ef45-4173-adbe-8f17f5dd59b9\" xlink:show=\"new\" xlink:title=\"psysml:b761bda6-ef45-4173-adbe-8f17f5dd59b9\" xlink:type=\"simple\"><rect fill=\"#FFFFFF\" height=\"42.9375\" id=\"E3\" style=\"stroke: #383838; stroke-width: 1.5;\" width=\"76\" x=\"449\" y=\"41\"/><rect fill=\"#F8F8F8\" height=\"37.9375\" style=\"stroke: #383838; stroke-width: 1.5;\" width=\"76\" x=\"449\" y=\"41\"/><text fill=\"#000000\" font-family=\"sans-serif\" font-size=\"12\" font-style=\"italic\" lengthAdjust=\"spacingAndGlyphs\" textLength=\"69\" x=\"452.5\" y=\"57.1387\">«item  def»</text><text fill=\"#000000\" font-family=\"sans-serif\" font-size=\"12\" lengthAdjust=\"spacingAndGlyphs\" textLength=\"8\" x=\"483\" y=\"71.1074\">A</text></a></g><g id=\"E1.E4\"><a href=\"psysml:154f7142-f3c2-4f8f-a55c-1d31f59952e7\" target=\"_top\" title=\"psysml:154f7142-f3c2-4f8f-a55c-1d31f59952e7\" xlink:actuate=\"onRequest\" xlink:href=\"psysml:154f7142-f3c2-4f8f-a55c-1d31f59952e7\" xlink:show=\"new\" xlink:title=\"psysml:154f7142-f3c2-4f8f-a55c-1d31f59952e7\" xlink:type=\"simple\"><rect fill=\"#FFFFFF\" height=\"42.9375\" id=\"E4\" style=\"stroke: #383838; stroke-width: 1.5;\" width=\"76\" x=\"338\" y=\"41\"/><rect fill=\"#F8F8F8\" height=\"37.9375\" style=\"stroke: #383838; stroke-width: 1.5;\" width=\"76\" x=\"338\" y=\"41\"/><text fill=\"#000000\" font-family=\"sans-serif\" font-size=\"12\" font-style=\"italic\" lengthAdjust=\"spacingAndGlyphs\" textLength=\"69\" x=\"341.5\" y=\"57.1387\">«item  def»</text><text fill=\"#000000\" font-family=\"sans-serif\" font-size=\"12\" font-style=\"italic\" lengthAdjust=\"spacingAndGlyphs\" textLength=\"8\" x=\"372\" y=\"71.1074\">B</text></a></g><g id=\"E1.E6\"><a href=\"psysml:505a0904-767f-4431-bdaf-f395e9a256c5\" target=\"_top\" title=\"psysml:505a0904-767f-4431-bdaf-f395e9a256c5\" xlink:actuate=\"onRequest\" xlink:href=\"psysml:505a0904-767f-4431-bdaf-f395e9a256c5\" xlink:show=\"new\" xlink:title=\"psysml:505a0904-767f-4431-bdaf-f395e9a256c5\" xlink:type=\"simple\"><rect fill=\"#FFFFFF\" height=\"42.9375\" id=\"E6\" style=\"stroke: #383838; stroke-width: 1.5;\" width=\"75\" x=\"227.5\" y=\"41\"/><rect fill=\"#F8F8F8\" height=\"37.9375\" style=\"stroke: #383838; stroke-width: 1.5;\" width=\"75\" x=\"227.5\" y=\"41\"/><text fill=\"#000000\" font-family=\"sans-serif\" font-size=\"12\" font-style=\"italic\" lengthAdjust=\"spacingAndGlyphs\" textLength=\"68\" x=\"231\" y=\"57.1387\">«port  def»</text><text fill=\"#000000\" font-family=\"sans-serif\" font-size=\"12\" lengthAdjust=\"spacingAndGlyphs\" textLength=\"8\" x=\"261\" y=\"71.1074\">P</text></a></g><g id=\"E1.E2\"><a href=\"psysml:046ce2e8-70d6-418b-9e34-4058f6a1e698\" target=\"_top\" title=\"psysml:046ce2e8-70d6-418b-9e34-4058f6a1e698\" xlink:actuate=\"onRequest\" xlink:href=\"psysml:046ce2e8-70d6-418b-9e34-4058f6a1e698\" xlink:show=\"new\" xlink:title=\"psysml:046ce2e8-70d6-418b-9e34-4058f6a1e698\" xlink:type=\"simple\"><rect fill=\"#FFFFFF\" height=\"42.9375\" id=\"E2\" rx=\"10\" ry=\"10\" style=\"stroke: #383838; stroke-width: 1.5;\" width=\"50\" x=\"142\" y=\"41\"/><rect fill=\"#F8F8F8\" height=\"37.9375\" rx=\"10\" ry=\"10\" style=\"stroke: #F8F8F8; stroke-width: 1.5;\" width=\"50\" x=\"142\" y=\"41\"/><rect fill=\"#F8F8F8\" height=\"10\" style=\"stroke: #F8F8F8; stroke-width: 1.5;\" width=\"50\" x=\"142\" y=\"68.9375\"/><rect fill=\"none\" height=\"42.9375\" id=\"E2\" rx=\"10\" ry=\"10\" style=\"stroke: #383838; stroke-width: 1.5;\" width=\"50\" x=\"142\" y=\"41\"/><text fill=\"#000000\" font-family=\"sans-serif\" font-size=\"12\" font-style=\"italic\" lengthAdjust=\"spacingAndGlyphs\" textLength=\"41\" x=\"146.5\" y=\"57.1387\">«item»</text><text fill=\"#000000\" font-family=\"sans-serif\" font-size=\"12\" lengthAdjust=\"spacingAndGlyphs\" textLength=\"20\" x=\"157\" y=\"71.1074\">f: A</text></a></g><g id=\"E1.E5\"><a href=\"psysml:a977dc12-1522-4e17-86ea-88834b4a9262\" target=\"_top\" title=\"psysml:a977dc12-1522-4e17-86ea-88834b4a9262\" xlink:actuate=\"onRequest\" xlink:href=\"psysml:a977dc12-1522-4e17-86ea-88834b4a9262\" xlink:show=\"new\" xlink:title=\"psysml:a977dc12-1522-4e17-86ea-88834b4a9262\" xlink:type=\"simple\"><rect fill=\"#FFFFFF\" height=\"42.9375\" id=\"E5\" style=\"stroke: #383838; stroke-width: 1.5;\" width=\"75\" x=\"31.5\" y=\"41\"/><rect fill=\"#F8F8F8\" height=\"37.9375\" style=\"stroke: #383838; stroke-width: 1.5;\" width=\"75\" x=\"31.5\" y=\"41\"/><text fill=\"#000000\" font-family=\"sans-serif\" font-size=\"12\" font-style=\"italic\" lengthAdjust=\"spacingAndGlyphs\" textLength=\"68\" x=\"35\" y=\"57.1387\">«part  def»</text><text fill=\"#000000\" font-family=\"sans-serif\" font-size=\"12\" lengthAdjust=\"spacingAndGlyphs\" textLength=\"8\" x=\"65\" y=\"71.1074\">C</text></a></g><!--MD5=[397c95b363e4d8636784e539c6f3e884]\n",
       "@startuml\r\n",
       "skinparam ranksep 10\r\n",
       "skinparam rectangle {\r\n",
       " backgroundColor<<block>> LightGreen\r\n",
       "}\r\n",
       "skinparam linetype ortho\r\n",
       "skinparam monochrome true\r\n",
       "skinparam classbackgroundcolor white\r\n",
       "skinparam shadowing false\r\n",
       "skinparam wrapWidth 300\r\n",
       "hide circle\r\n",
       "\r\n",
       "package \"ItemTest\" as E1  [[psysml:9c84b130-4496-45dd-acf0-f614adf4451b ]]  {\r\n",
       "rec usage \"f: A\" as E2  <<(T,blue) item>> [[psysml:046ce2e8-70d6-418b-9e34-4058f6a1e698 ]] {\r\n",
       "}\r\n",
       "def \"A\" as E3  <<(T,blue) item  def>> [[psysml:b761bda6-ef45-4173-adbe-8f17f5dd59b9 ]] \r\n",
       "def \"<i>B</i>\" as E4  <<(T,blue) item  def>> [[psysml:154f7142-f3c2-4f8f-a55c-1d31f59952e7 ]] \r\n",
       "rec def \"C\" as E5  <<(T,blue) part  def>> [[psysml:a977dc12-1522-4e17-86ea-88834b4a9262 ]] {\r\n",
       "}\r\n",
       "def \"P\" as E6  <<(T,blue) port  def>> [[psysml:505a0904-767f-4431-bdaf-f395e9a256c5 ]] \r\n",
       "}\r\n",
       "@enduml\r\n",
       "\n",
       "PlantUML version 1.2020.13(Sat Jun 13 12:26:38 UTC 2020)\n",
       "(EPL source distribution)\n",
       "Java Runtime: OpenJDK Runtime Environment\n",
       "JVM: OpenJDK 64-Bit Server VM\n",
       "Default Encoding: UTF-8\n",
       "Language: en\n",
       "Country: null\n",
       "--></g></svg>"
      ]
     },
     "execution_count": 54,
     "metadata": {},
     "output_type": "execute_result"
    }
   ],
   "source": [
    "%viz --style=\"ORTHOLINE\" --view=\"Interconnection\" \"ItemTest\""
   ]
  },
  {
   "cell_type": "code",
   "execution_count": 55,
   "id": "d9e8e108",
   "metadata": {
    "execution": {
     "iopub.execute_input": "2021-10-25T08:20:56.896753Z",
     "iopub.status.busy": "2021-10-25T08:20:56.896312Z",
     "iopub.status.idle": "2021-10-25T08:20:56.901490Z",
     "shell.execute_reply": "2021-10-25T08:20:56.901131Z"
    }
   },
   "outputs": [
    {
     "data": {
      "image/svg+xml": [
       "<?xml version=\"1.0\" encoding=\"UTF-8\" standalone=\"no\"?><svg xmlns=\"http://www.w3.org/2000/svg\" xmlns:xlink=\"http://www.w3.org/1999/xlink\" contentScriptType=\"application/ecmascript\" contentStyleType=\"text/css\" height=\"12px\" preserveAspectRatio=\"none\" style=\"width:12px;height:12px;\" version=\"1.1\" viewBox=\"0 0 12 12\" width=\"12px\" zoomAndPan=\"magnify\"><defs/><g><!--MD5=[72934c63077099a26744516a776b4749]\n",
       "@startuml\r\n",
       "skinparam ranksep 8\r\n",
       "skinparam linetype ortho\r\n",
       "skinparam monochrome true\r\n",
       "skinparam classbackgroundcolor white\r\n",
       "skinparam shadowing false\r\n",
       "skinparam wrapWidth 300\r\n",
       "hide circle\r\n",
       "\r\n",
       "@enduml\r\n",
       "\n",
       "PlantUML version 1.2020.13(Sat Jun 13 12:26:38 UTC 2020)\n",
       "(EPL source distribution)\n",
       "Java Runtime: OpenJDK Runtime Environment\n",
       "JVM: OpenJDK 64-Bit Server VM\n",
       "Default Encoding: UTF-8\n",
       "Language: en\n",
       "Country: null\n",
       "--></g></svg>"
      ]
     },
     "execution_count": 55,
     "metadata": {},
     "output_type": "execute_result"
    }
   ],
   "source": [
    "%viz --style=\"ORTHOLINE\" --view=\"Action\" \"ItemTest\""
   ]
  },
  {
   "cell_type": "code",
   "execution_count": 56,
   "id": "96ef2f2e",
   "metadata": {
    "execution": {
     "iopub.execute_input": "2021-10-25T08:20:56.950875Z",
     "iopub.status.busy": "2021-10-25T08:20:56.950462Z",
     "iopub.status.idle": "2021-10-25T08:20:56.955916Z",
     "shell.execute_reply": "2021-10-25T08:20:56.955517Z"
    }
   },
   "outputs": [
    {
     "data": {
      "image/svg+xml": [
       "<?xml version=\"1.0\" encoding=\"UTF-8\" standalone=\"no\"?><svg xmlns=\"http://www.w3.org/2000/svg\" xmlns:xlink=\"http://www.w3.org/1999/xlink\" contentScriptType=\"application/ecmascript\" contentStyleType=\"text/css\" height=\"12px\" preserveAspectRatio=\"none\" style=\"width:12px;height:12px;\" version=\"1.1\" viewBox=\"0 0 12 12\" width=\"12px\" zoomAndPan=\"magnify\"><defs/><g><!--MD5=[30fc1de5121c5abddedd55b44417fde8]\n",
       "@startuml\r\n",
       "skinparam roundcorner 20\r\n",
       "skinparam BoxPadding 20\r\n",
       "skinparam SequenceBoxBackgroundColor #white\r\n",
       "skinparam style strictuml\r\n",
       "skinparam maxMessageSize 100\r\n",
       "skinparam linetype ortho\r\n",
       "skinparam monochrome true\r\n",
       "skinparam classbackgroundcolor white\r\n",
       "skinparam shadowing false\r\n",
       "skinparam wrapWidth 300\r\n",
       "hide circle\r\n",
       "\r\n",
       "@enduml\r\n",
       "\n",
       "PlantUML version 1.2020.13(Sat Jun 13 12:26:38 UTC 2020)\n",
       "(EPL source distribution)\n",
       "Java Runtime: OpenJDK Runtime Environment\n",
       "JVM: OpenJDK 64-Bit Server VM\n",
       "Default Encoding: UTF-8\n",
       "Language: en\n",
       "Country: null\n",
       "--></g></svg>"
      ]
     },
     "execution_count": 56,
     "metadata": {},
     "output_type": "execute_result"
    }
   ],
   "source": [
    "%viz --style=\"ORTHOLINE\" --view=\"Sequence\" \"ItemTest\""
   ]
  },
  {
   "cell_type": "code",
   "execution_count": 57,
   "id": "3bbc121c",
   "metadata": {
    "execution": {
     "iopub.execute_input": "2021-10-25T08:20:57.005337Z",
     "iopub.status.busy": "2021-10-25T08:20:57.004907Z",
     "iopub.status.idle": "2021-10-25T08:20:57.053573Z",
     "shell.execute_reply": "2021-10-25T08:20:57.051581Z"
    }
   },
   "outputs": [
    {
     "data": {
      "image/svg+xml": [
       "<?xml version=\"1.0\" encoding=\"UTF-8\" standalone=\"no\"?><svg xmlns=\"http://www.w3.org/2000/svg\" xmlns:xlink=\"http://www.w3.org/1999/xlink\" contentScriptType=\"application/ecmascript\" contentStyleType=\"text/css\" height=\"848px\" preserveAspectRatio=\"none\" style=\"width:344px;height:848px;\" version=\"1.1\" viewBox=\"0 0 344 848\" width=\"344px\" zoomAndPan=\"magnify\"><defs/><g><!--MD5=[fbc87193dbaf4d95561dea2c320d4a47]\n",
       "cluster E1--><a href=\"psysml:9c84b130-4496-45dd-acf0-f614adf4451b\" target=\"_top\" title=\"psysml:9c84b130-4496-45dd-acf0-f614adf4451b\" xlink:actuate=\"onRequest\" xlink:href=\"psysml:9c84b130-4496-45dd-acf0-f614adf4451b\" xlink:show=\"new\" xlink:title=\"psysml:9c84b130-4496-45dd-acf0-f614adf4451b\" xlink:type=\"simple\"><polygon fill=\"#FFFFFF\" points=\"16,6,83,6,90,28.2969,322,28.2969,322,836,16,836,16,6\" style=\"stroke: #000000; stroke-width: 1.5;\"/><line style=\"stroke: #000000; stroke-width: 1.5;\" x1=\"16\" x2=\"90\" y1=\"28.2969\" y2=\"28.2969\"/><text fill=\"#000000\" font-family=\"sans-serif\" font-size=\"14\" font-weight=\"bold\" lengthAdjust=\"spacingAndGlyphs\" textLength=\"61\" x=\"20\" y=\"20.9951\">ItemTest</text></a><!--MD5=[b4997ac47864f28c2f74865a473b2911]\n",
       "class E2--><a href=\"psysml:046ce2e8-70d6-418b-9e34-4058f6a1e698\" target=\"_top\" title=\"psysml:046ce2e8-70d6-418b-9e34-4058f6a1e698\" xlink:actuate=\"onRequest\" xlink:href=\"psysml:046ce2e8-70d6-418b-9e34-4058f6a1e698\" xlink:show=\"new\" xlink:title=\"psysml:046ce2e8-70d6-418b-9e34-4058f6a1e698\" xlink:type=\"simple\"><rect fill=\"#FFFFFF\" height=\"45.9375\" id=\"E2\" rx=\"10\" ry=\"10\" style=\"stroke: #383838; stroke-width: 1.5;\" width=\"43\" x=\"239.5\" y=\"148\"/><text fill=\"#000000\" font-family=\"sans-serif\" font-size=\"12\" font-style=\"italic\" lengthAdjust=\"spacingAndGlyphs\" textLength=\"41\" x=\"240.5\" y=\"164.1387\">«item»</text><text fill=\"#000000\" font-family=\"sans-serif\" font-size=\"12\" lengthAdjust=\"spacingAndGlyphs\" textLength=\"20\" x=\"249\" y=\"178.1074\">f: A</text><line style=\"stroke: #383838; stroke-width: 1.5;\" x1=\"240.5\" x2=\"281.5\" y1=\"185.9375\" y2=\"185.9375\"/></a><!--MD5=[09b614a08d8cba4a07c9adeb5e0fee81]\n",
       "class E3--><a href=\"psysml:b761bda6-ef45-4173-adbe-8f17f5dd59b9\" target=\"_top\" title=\"psysml:b761bda6-ef45-4173-adbe-8f17f5dd59b9\" xlink:actuate=\"onRequest\" xlink:href=\"psysml:b761bda6-ef45-4173-adbe-8f17f5dd59b9\" xlink:show=\"new\" xlink:title=\"psysml:b761bda6-ef45-4173-adbe-8f17f5dd59b9\" xlink:type=\"simple\"><rect fill=\"#FFFFFF\" height=\"45.9375\" id=\"E3\" style=\"stroke: #383838; stroke-width: 1.5;\" width=\"71\" x=\"147.5\" y=\"255\"/><text fill=\"#000000\" font-family=\"sans-serif\" font-size=\"12\" font-style=\"italic\" lengthAdjust=\"spacingAndGlyphs\" textLength=\"69\" x=\"148.5\" y=\"271.1387\">«item  def»</text><text fill=\"#000000\" font-family=\"sans-serif\" font-size=\"12\" lengthAdjust=\"spacingAndGlyphs\" textLength=\"8\" x=\"179\" y=\"285.1074\">A</text><line style=\"stroke: #383838; stroke-width: 1.5;\" x1=\"148.5\" x2=\"217.5\" y1=\"292.9375\" y2=\"292.9375\"/></a><!--MD5=[ebbe1d658d1005bcc118a6aa81145e00]\n",
       "class E4--><a href=\"psysml:5a9b7c1e-d921-40a5-84d4-dcafad1b8599\" target=\"_top\" title=\"psysml:5a9b7c1e-d921-40a5-84d4-dcafad1b8599\" xlink:actuate=\"onRequest\" xlink:href=\"psysml:5a9b7c1e-d921-40a5-84d4-dcafad1b8599\" xlink:show=\"new\" xlink:title=\"psysml:5a9b7c1e-d921-40a5-84d4-dcafad1b8599\" xlink:type=\"simple\"><rect fill=\"#FFFFFF\" height=\"45.9375\" id=\"E4\" rx=\"10\" ry=\"10\" style=\"stroke: #383838; stroke-width: 1.5;\" width=\"43\" x=\"255.5\" y=\"438\"/><text fill=\"#000000\" font-family=\"sans-serif\" font-size=\"12\" font-style=\"italic\" lengthAdjust=\"spacingAndGlyphs\" textLength=\"41\" x=\"256.5\" y=\"454.1387\">«item»</text><text fill=\"#000000\" font-family=\"sans-serif\" font-size=\"12\" lengthAdjust=\"spacingAndGlyphs\" textLength=\"24\" x=\"263\" y=\"468.1074\">b: B</text><line style=\"stroke: #383838; stroke-width: 1.5;\" x1=\"256.5\" x2=\"297.5\" y1=\"475.9375\" y2=\"475.9375\"/></a><!--MD5=[270fce915f116d4de14055a7c1d9a0f3]\n",
       "class E5--><a href=\"psysml:c52e7c62-32ae-43e1-a51e-2d7f86512260\" target=\"_top\" title=\"psysml:c52e7c62-32ae-43e1-a51e-2d7f86512260\" xlink:actuate=\"onRequest\" xlink:href=\"psysml:c52e7c62-32ae-43e1-a51e-2d7f86512260\" xlink:show=\"new\" xlink:title=\"psysml:c52e7c62-32ae-43e1-a51e-2d7f86512260\" xlink:type=\"simple\"><rect fill=\"#FFFFFF\" height=\"45.9375\" id=\"E5\" rx=\"10\" ry=\"10\" style=\"stroke: #383838; stroke-width: 1.5;\" width=\"42\" x=\"227\" y=\"362\"/><text fill=\"#000000\" font-family=\"sans-serif\" font-size=\"12\" font-style=\"italic\" lengthAdjust=\"spacingAndGlyphs\" textLength=\"40\" x=\"228\" y=\"378.1387\">«part»</text><text fill=\"#000000\" font-family=\"sans-serif\" font-size=\"12\" lengthAdjust=\"spacingAndGlyphs\" textLength=\"23\" x=\"234.5\" y=\"392.1074\">c: C</text><line style=\"stroke: #383838; stroke-width: 1.5;\" x1=\"228\" x2=\"268\" y1=\"399.9375\" y2=\"399.9375\"/></a><!--MD5=[60a26617385b1d2d0262a64233df1f8d]\n",
       "class E6--><a href=\"psysml:154f7142-f3c2-4f8f-a55c-1d31f59952e7\" target=\"_top\" title=\"psysml:154f7142-f3c2-4f8f-a55c-1d31f59952e7\" xlink:actuate=\"onRequest\" xlink:href=\"psysml:154f7142-f3c2-4f8f-a55c-1d31f59952e7\" xlink:show=\"new\" xlink:title=\"psysml:154f7142-f3c2-4f8f-a55c-1d31f59952e7\" xlink:type=\"simple\"><rect fill=\"#FFFFFF\" height=\"45.9375\" id=\"E6\" style=\"stroke: #383838; stroke-width: 1.5;\" width=\"71\" x=\"146.5\" y=\"667\"/><text fill=\"#000000\" font-family=\"sans-serif\" font-size=\"12\" font-style=\"italic\" lengthAdjust=\"spacingAndGlyphs\" textLength=\"69\" x=\"147.5\" y=\"683.1387\">«item  def»</text><text fill=\"#000000\" font-family=\"sans-serif\" font-size=\"12\" font-style=\"italic\" lengthAdjust=\"spacingAndGlyphs\" textLength=\"8\" x=\"178\" y=\"697.1074\">B</text><line style=\"stroke: #383838; stroke-width: 1.5;\" x1=\"147.5\" x2=\"216.5\" y1=\"704.9375\" y2=\"704.9375\"/></a><!--MD5=[2156ba9850f5573cc1fc38a6a4b2f02b]\n",
       "class E7--><a href=\"psysml:3092a58e-bc17-492e-b3ac-d9b0c5d27ee1\" target=\"_top\" title=\"psysml:3092a58e-bc17-492e-b3ac-d9b0c5d27ee1\" xlink:actuate=\"onRequest\" xlink:href=\"psysml:3092a58e-bc17-492e-b3ac-d9b0c5d27ee1\" xlink:show=\"new\" xlink:title=\"psysml:3092a58e-bc17-492e-b3ac-d9b0c5d27ee1\" xlink:type=\"simple\"><rect fill=\"#FFFFFF\" height=\"45.9375\" id=\"E7\" rx=\"10\" ry=\"10\" style=\"stroke: #383838; stroke-width: 1.5;\" width=\"42\" x=\"96\" y=\"774\"/><text fill=\"#000000\" font-family=\"sans-serif\" font-size=\"12\" font-style=\"italic\" lengthAdjust=\"spacingAndGlyphs\" textLength=\"40\" x=\"97\" y=\"790.1387\">«part»</text><text fill=\"#000000\" font-family=\"sans-serif\" font-size=\"12\" font-style=\"italic\" lengthAdjust=\"spacingAndGlyphs\" textLength=\"8\" x=\"103\" y=\"804.1074\">a</text><text fill=\"#000000\" font-family=\"sans-serif\" font-size=\"12\" lengthAdjust=\"spacingAndGlyphs\" textLength=\"16\" x=\"111\" y=\"804.1074\">: A</text><line style=\"stroke: #383838; stroke-width: 1.5;\" x1=\"97\" x2=\"137\" y1=\"811.9375\" y2=\"811.9375\"/></a><!--MD5=[b9389687b975829384b498ac4b7476b2]\n",
       "class E8--><a href=\"psysml:a977dc12-1522-4e17-86ea-88834b4a9262\" target=\"_top\" title=\"psysml:a977dc12-1522-4e17-86ea-88834b4a9262\" xlink:actuate=\"onRequest\" xlink:href=\"psysml:a977dc12-1522-4e17-86ea-88834b4a9262\" xlink:show=\"new\" xlink:title=\"psysml:a977dc12-1522-4e17-86ea-88834b4a9262\" xlink:type=\"simple\"><rect fill=\"#FFFFFF\" height=\"75.5469\" id=\"E8\" style=\"stroke: #383838; stroke-width: 1.5;\" width=\"75\" x=\"145.5\" y=\"514\"/><text fill=\"#000000\" font-family=\"sans-serif\" font-size=\"12\" font-style=\"italic\" lengthAdjust=\"spacingAndGlyphs\" textLength=\"68\" x=\"149\" y=\"530.1387\">«part  def»</text><text fill=\"#000000\" font-family=\"sans-serif\" font-size=\"12\" lengthAdjust=\"spacingAndGlyphs\" textLength=\"8\" x=\"179\" y=\"544.1074\">C</text><line style=\"stroke: #383838; stroke-width: 1.5;\" x1=\"146.5\" x2=\"219.5\" y1=\"551.9375\" y2=\"551.9375\"/><text fill=\"#000000\" font-family=\"sans-serif\" font-size=\"11\" font-weight=\"bold\" lengthAdjust=\"spacingAndGlyphs\" textLength=\"10\" x=\"151.5\" y=\"582.9526\">in</text><text fill=\"#000000\" font-family=\"sans-serif\" font-size=\"11\" lengthAdjust=\"spacingAndGlyphs\" textLength=\"37\" x=\"165.5\" y=\"582.9526\">y: A, B</text><line style=\"stroke: #383838; stroke-width: 1.0;\" x1=\"146.5\" x2=\"149.5\" y1=\"566.3398\" y2=\"566.3398\"/><text fill=\"#000000\" font-family=\"sans-serif\" font-size=\"11\" lengthAdjust=\"spacingAndGlyphs\" textLength=\"67\" x=\"149.5\" y=\"569.6479\">parameters</text><line style=\"stroke: #383838; stroke-width: 1.0;\" x1=\"216.5\" x2=\"219.5\" y1=\"566.3398\" y2=\"566.3398\"/></a><!--MD5=[fd4143e9d270a159db93a4ea2a975926]\n",
       "class E9--><a href=\"psysml:505a0904-767f-4431-bdaf-f395e9a256c5\" target=\"_top\" title=\"psysml:505a0904-767f-4431-bdaf-f395e9a256c5\" xlink:actuate=\"onRequest\" xlink:href=\"psysml:505a0904-767f-4431-bdaf-f395e9a256c5\" xlink:show=\"new\" xlink:title=\"psysml:505a0904-767f-4431-bdaf-f395e9a256c5\" xlink:type=\"simple\"><rect fill=\"#FFFFFF\" height=\"45.9375\" id=\"E9\" style=\"stroke: #383838; stroke-width: 1.5;\" width=\"70\" x=\"109\" y=\"41\"/><text fill=\"#000000\" font-family=\"sans-serif\" font-size=\"12\" font-style=\"italic\" lengthAdjust=\"spacingAndGlyphs\" textLength=\"68\" x=\"110\" y=\"57.1387\">«port  def»</text><text fill=\"#000000\" font-family=\"sans-serif\" font-size=\"12\" lengthAdjust=\"spacingAndGlyphs\" textLength=\"8\" x=\"140\" y=\"71.1074\">P</text><line style=\"stroke: #383838; stroke-width: 1.5;\" x1=\"110\" x2=\"178\" y1=\"78.9375\" y2=\"78.9375\"/></a><!--MD5=[96f4274e9e20536e775497830990834d]\n",
       "class E10--><a href=\"psysml:b48ee9ab-0a15-45ce-8465-86ae83c4be7f\" target=\"_top\" title=\"psysml:b48ee9ab-0a15-45ce-8465-86ae83c4be7f\" xlink:actuate=\"onRequest\" xlink:href=\"psysml:b48ee9ab-0a15-45ce-8465-86ae83c4be7f\" xlink:show=\"new\" xlink:title=\"psysml:b48ee9ab-0a15-45ce-8465-86ae83c4be7f\" xlink:type=\"simple\"><rect fill=\"#FFFFFF\" height=\"45.9375\" id=\"E10\" rx=\"10\" ry=\"10\" style=\"stroke: #383838; stroke-width: 1.5;\" width=\"43\" x=\"83.5\" y=\"148\"/><text fill=\"#000000\" font-family=\"sans-serif\" font-size=\"12\" font-style=\"italic\" lengthAdjust=\"spacingAndGlyphs\" textLength=\"41\" x=\"84.5\" y=\"164.1387\">«item»</text><text fill=\"#000000\" font-family=\"sans-serif\" font-size=\"12\" lengthAdjust=\"spacingAndGlyphs\" textLength=\"32\" x=\"87\" y=\"178.1074\">a1: A</text><line style=\"stroke: #383838; stroke-width: 1.5;\" x1=\"84.5\" x2=\"125.5\" y1=\"185.9375\" y2=\"185.9375\"/></a><!--MD5=[1dd1bfd58a279cf63c5f349dbc8fc6a1]\n",
       "class E11--><a href=\"psysml:7b14a527-4e8d-41df-a91b-3ca9db44b1d9\" target=\"_top\" title=\"psysml:7b14a527-4e8d-41df-a91b-3ca9db44b1d9\" xlink:actuate=\"onRequest\" xlink:href=\"psysml:7b14a527-4e8d-41df-a91b-3ca9db44b1d9\" xlink:show=\"new\" xlink:title=\"psysml:7b14a527-4e8d-41df-a91b-3ca9db44b1d9\" xlink:type=\"simple\"><rect fill=\"#FFFFFF\" height=\"45.9375\" id=\"E11\" rx=\"10\" ry=\"10\" style=\"stroke: #383838; stroke-width: 1.5;\" width=\"43\" x=\"161.5\" y=\"148\"/><text fill=\"#000000\" font-family=\"sans-serif\" font-size=\"12\" font-style=\"italic\" lengthAdjust=\"spacingAndGlyphs\" textLength=\"41\" x=\"162.5\" y=\"164.1387\">«item»</text><text fill=\"#000000\" font-family=\"sans-serif\" font-size=\"12\" lengthAdjust=\"spacingAndGlyphs\" textLength=\"32\" x=\"165\" y=\"178.1074\">a2: A</text><line style=\"stroke: #383838; stroke-width: 1.5;\" x1=\"162.5\" x2=\"203.5\" y1=\"185.9375\" y2=\"185.9375\"/></a><!--MD5=[2720a5a1f2c3fca2055b230370638851]\n",
       "link E2 to E3--><a href=\"psysml:2913aa14-34e4-4ebc-b3c0-73cbbe37a712\" target=\"_top\" title=\"psysml:2913aa14-34e4-4ebc-b3c0-73cbbe37a712\" xlink:actuate=\"onRequest\" xlink:href=\"psysml:2913aa14-34e4-4ebc-b3c0-73cbbe37a712\" xlink:show=\"new\" xlink:title=\"psysml:2913aa14-34e4-4ebc-b3c0-73cbbe37a712\" xlink:type=\"simple\"><path d=\"M239.43,171 C226.09,171 211.5,171 211.5,171 C211.5,171 211.5,234.78 211.5,234.78 \" fill=\"none\" id=\"E2-&gt;E3\" style=\"stroke: #383838; stroke-width: 1.0;\"/><polygon fill=\"#FFFFFF\" points=\"211.5,254.78,204.5,235.78,218.5,235.78,211.5,254.78\" style=\"stroke: #383838; stroke-width: 1.0;\"/><ellipse cx=\"206.5\" cy=\"230.08\" fill=\"#383838\" rx=\"2\" ry=\"2\" style=\"stroke: #383838; stroke-width: 1.0;\"/><ellipse cx=\"216.5\" cy=\"230.08\" fill=\"#383838\" rx=\"2\" ry=\"2\" style=\"stroke: #383838; stroke-width: 1.0;\"/></a><!--MD5=[4672eba38e49728da53d11aeb285b987]\n",
       "reverse link E3 to E4--><a href=\"psysml:5a70b25d-3e65-48fe-9200-ece04e9de0ee\" target=\"_top\" title=\"psysml:5a70b25d-3e65-48fe-9200-ece04e9de0ee\" xlink:actuate=\"onRequest\" xlink:href=\"psysml:5a70b25d-3e65-48fe-9200-ece04e9de0ee\" xlink:show=\"new\" xlink:title=\"psysml:5a70b25d-3e65-48fe-9200-ece04e9de0ee\" xlink:type=\"simple\"><path d=\"M231.59,271 C231.59,271 275.75,271 275.75,271 C275.75,271 275.75,386.97 275.75,437.7 \" fill=\"none\" id=\"E3&lt;-E4\" style=\"stroke: #383838; stroke-width: 1.0;\"/><polygon fill=\"#383838\" points=\"218.59,271,224.59,275,230.59,271,224.59,267,218.59,271\" style=\"stroke: #383838; stroke-width: 1.0;\"/><text fill=\"#000000\" font-family=\"sans-serif\" font-size=\"13\" lengthAdjust=\"spacingAndGlyphs\" textLength=\"8\" x=\"267.0698\" y=\"428.0106\">1</text></a><!--MD5=[191cde3d490a3f6d7bb551fe3ddca469]\n",
       "reverse link E3 to E5--><a href=\"psysml:98aba136-2768-4c7e-bc34-95a5a6a911cd\" target=\"_top\" title=\"psysml:98aba136-2768-4c7e-bc34-95a5a6a911cd\" xlink:actuate=\"onRequest\" xlink:href=\"psysml:98aba136-2768-4c7e-bc34-95a5a6a911cd\" xlink:show=\"new\" xlink:title=\"psysml:98aba136-2768-4c7e-bc34-95a5a6a911cd\" xlink:type=\"simple\"><path d=\"M231.72,286 C231.72,286 233.25,286 233.25,286 C233.25,286 233.25,332.53 233.25,361.79 \" fill=\"none\" id=\"E3&lt;-E5\" style=\"stroke: #383838; stroke-width: 1.0;\"/><polygon fill=\"#FFFFFF\" points=\"218.72,286,224.72,290,230.72,286,224.72,282,218.72,286\" style=\"stroke: #383838; stroke-width: 1.0;\"/><text fill=\"#000000\" font-family=\"sans-serif\" font-size=\"13\" lengthAdjust=\"spacingAndGlyphs\" textLength=\"8\" x=\"220.4453\" y=\"351.0125\">1</text></a><!--MD5=[79568f1e445c3877b6a54524624ccc7d]\n",
       "link E4 to E6--><a href=\"psysml:04be4dec-9fb2-423c-a400-1c82afc162c3\" target=\"_top\" title=\"psysml:04be4dec-9fb2-423c-a400-1c82afc162c3\" xlink:actuate=\"onRequest\" xlink:href=\"psysml:04be4dec-9fb2-423c-a400-1c82afc162c3\" xlink:show=\"new\" xlink:title=\"psysml:04be4dec-9fb2-423c-a400-1c82afc162c3\" xlink:type=\"simple\"><path d=\"M277,484.22 C277,542.44 277,690 277,690 C277,690 237.64,690 237.64,690 \" fill=\"none\" id=\"E4-&gt;E6\" style=\"stroke: #383838; stroke-width: 1.0;\"/><polygon fill=\"#FFFFFF\" points=\"217.64,690,236.64,683,236.64,697,217.64,690\" style=\"stroke: #383838; stroke-width: 1.0;\"/><ellipse cx=\"242.34\" cy=\"685\" fill=\"#383838\" rx=\"2\" ry=\"2\" style=\"stroke: #383838; stroke-width: 1.0;\"/><ellipse cx=\"242.34\" cy=\"695\" fill=\"#383838\" rx=\"2\" ry=\"2\" style=\"stroke: #383838; stroke-width: 1.0;\"/></a><!--MD5=[3f50a3473f1dfb74d3f76443e03635af]\n",
       "reverse link E6 to E7--><a href=\"psysml:88a05b08-39fe-46e7-8c9b-5df9e56fb426\" target=\"_top\" title=\"psysml:88a05b08-39fe-46e7-8c9b-5df9e56fb426\" xlink:actuate=\"onRequest\" xlink:href=\"psysml:88a05b08-39fe-46e7-8c9b-5df9e56fb426\" xlink:show=\"new\" xlink:title=\"psysml:88a05b08-39fe-46e7-8c9b-5df9e56fb426\" xlink:type=\"simple\"><path d=\"M135.37,690 C135.37,690 134.17,690 134.17,690 C134.17,690 134.17,742.31 134.17,773.78 \" fill=\"none\" id=\"E6&lt;-E7\" style=\"stroke: #383838; stroke-width: 1.0;\"/><polygon fill=\"#383838\" points=\"146.24,690,140.24,686,134.24,690,140.24,694,146.24,690\" style=\"stroke: #383838; stroke-width: 1.0;\"/><text fill=\"#000000\" font-family=\"sans-serif\" font-size=\"13\" lengthAdjust=\"spacingAndGlyphs\" textLength=\"8\" x=\"129.5448\" y=\"762.9999\">1</text></a><!--MD5=[14ccda38c055a5c0da953d572bc50960]\n",
       "link E7 to E3--><a href=\"psysml:de23f89f-df32-45d9-b344-47d8d19c4edc\" target=\"_top\" title=\"psysml:de23f89f-df32-45d9-b344-47d8d19c4edc\" xlink:actuate=\"onRequest\" xlink:href=\"psysml:de23f89f-df32-45d9-b344-47d8d19c4edc\" xlink:show=\"new\" xlink:title=\"psysml:de23f89f-df32-45d9-b344-47d8d19c4edc\" xlink:type=\"simple\"><path d=\"M130.33,773.69 C130.33,672.7 130.33,278 130.33,278 C130.33,278 132.03,278 132.03,278 \" fill=\"none\" id=\"E7-&gt;E3\" style=\"stroke: #383838; stroke-width: 1.0;\"/><polygon fill=\"#FFFFFF\" points=\"147.29,278,128.29,285,128.29,271,147.29,278\" style=\"stroke: #383838; stroke-width: 1.0;\"/><ellipse cx=\"122.59\" cy=\"283\" fill=\"#383838\" rx=\"2\" ry=\"2\" style=\"stroke: #383838; stroke-width: 1.0;\"/><ellipse cx=\"122.59\" cy=\"273\" fill=\"#383838\" rx=\"2\" ry=\"2\" style=\"stroke: #383838; stroke-width: 1.0;\"/></a><!--MD5=[dfaffb906826c3e5aca635516100ff21]\n",
       "link E5 to E8--><a href=\"psysml:feaf6c57-7b20-4701-8323-0c325a1238bf\" target=\"_top\" title=\"psysml:feaf6c57-7b20-4701-8323-0c325a1238bf\" xlink:actuate=\"onRequest\" xlink:href=\"psysml:feaf6c57-7b20-4701-8323-0c325a1238bf\" xlink:show=\"new\" xlink:title=\"psysml:feaf6c57-7b20-4701-8323-0c325a1238bf\" xlink:type=\"simple\"><path d=\"M241.25,408.22 C241.25,454.11 241.25,552 241.25,552 C241.25,552 239.18,552 239.18,552 \" fill=\"none\" id=\"E5-&gt;E8\" style=\"stroke: #383838; stroke-width: 1.0;\"/><polygon fill=\"#FFFFFF\" points=\"220.55,552,239.55,545,239.55,559,220.55,552\" style=\"stroke: #383838; stroke-width: 1.0;\"/><ellipse cx=\"245.25\" cy=\"547\" fill=\"#383838\" rx=\"2\" ry=\"2\" style=\"stroke: #383838; stroke-width: 1.0;\"/><ellipse cx=\"245.25\" cy=\"557\" fill=\"#383838\" rx=\"2\" ry=\"2\" style=\"stroke: #383838; stroke-width: 1.0;\"/></a><!--MD5=[03c8294790d3c57651a1993cecff665f]\n",
       "reverse link E8 to E3--><a href=\"psysml:f63e9e98-9395-484c-b7ba-710e403c3592\" target=\"_top\" title=\"psysml:f63e9e98-9395-484c-b7ba-710e403c3592\" xlink:actuate=\"onRequest\" xlink:href=\"psysml:f63e9e98-9395-484c-b7ba-710e403c3592\" xlink:show=\"new\" xlink:title=\"psysml:f63e9e98-9395-484c-b7ba-710e403c3592\" xlink:type=\"simple\"><path d=\"M171.17,500.9 C171.17,500.9 171.17,301.3 171.17,301.3 \" fill=\"none\" id=\"E8&lt;-E3\" style=\"stroke: #383838; stroke-width: 1.0;\"/><polygon fill=\"#FFFFFF\" points=\"171.17,513.9,175.17,507.9,171.17,501.9,167.17,507.9,171.17,513.9\" style=\"stroke: #383838; stroke-width: 1.0;\"/><text fill=\"#000000\" font-family=\"sans-serif\" font-size=\"13\" lengthAdjust=\"spacingAndGlyphs\" textLength=\"7\" x=\"105\" y=\"389.5669\">y</text></a><!--MD5=[03c8294790d3c57651a1993cecff665f]\n",
       "reverse link E8 to E3--><a href=\"psysml:f63e9e98-9395-484c-b7ba-710e403c3592\" target=\"_top\" title=\"psysml:f63e9e98-9395-484c-b7ba-710e403c3592\" xlink:actuate=\"onRequest\" xlink:href=\"psysml:f63e9e98-9395-484c-b7ba-710e403c3592\" xlink:show=\"new\" xlink:title=\"psysml:f63e9e98-9395-484c-b7ba-710e403c3592\" xlink:type=\"simple\"><path d=\"M194.83,500.9 C194.83,500.9 194.83,301.3 194.83,301.3 \" fill=\"none\" id=\"E8&lt;-E3-1\" style=\"stroke: #383838; stroke-width: 1.0;\"/><polygon fill=\"#FFFFFF\" points=\"194.83,513.9,198.83,507.9,194.83,501.9,190.83,507.9,194.83,513.9\" style=\"stroke: #383838; stroke-width: 1.0;\"/><text fill=\"#000000\" font-family=\"sans-serif\" font-size=\"13\" lengthAdjust=\"spacingAndGlyphs\" textLength=\"7\" x=\"184\" y=\"389.5669\">y</text></a><!--MD5=[0d75d2178373a6a4568e5dc728f58aef]\n",
       "reverse link E8 to E6--><a href=\"psysml:f63e9e98-9395-484c-b7ba-710e403c3592\" target=\"_top\" title=\"psysml:f63e9e98-9395-484c-b7ba-710e403c3592\" xlink:actuate=\"onRequest\" xlink:href=\"psysml:f63e9e98-9395-484c-b7ba-710e403c3592\" xlink:show=\"new\" xlink:title=\"psysml:f63e9e98-9395-484c-b7ba-710e403c3592\" xlink:type=\"simple\"><path d=\"M170.17,603.07 C170.17,603.07 170.17,666.75 170.17,666.75 \" fill=\"none\" id=\"E8&lt;-E6\" style=\"stroke: #383838; stroke-width: 1.0;\"/><polygon fill=\"#FFFFFF\" points=\"170.17,590.07,166.17,596.07,170.17,602.07,174.17,596.07,170.17,590.07\" style=\"stroke: #383838; stroke-width: 1.0;\"/><text fill=\"#000000\" font-family=\"sans-serif\" font-size=\"13\" lengthAdjust=\"spacingAndGlyphs\" textLength=\"7\" x=\"159\" y=\"633.0669\">y</text></a><!--MD5=[0d75d2178373a6a4568e5dc728f58aef]\n",
       "reverse link E8 to E6--><a href=\"psysml:f63e9e98-9395-484c-b7ba-710e403c3592\" target=\"_top\" title=\"psysml:f63e9e98-9395-484c-b7ba-710e403c3592\" xlink:actuate=\"onRequest\" xlink:href=\"psysml:f63e9e98-9395-484c-b7ba-710e403c3592\" xlink:show=\"new\" xlink:title=\"psysml:f63e9e98-9395-484c-b7ba-710e403c3592\" xlink:type=\"simple\"><path d=\"M193.83,603.07 C193.83,603.07 193.83,666.75 193.83,666.75 \" fill=\"none\" id=\"E8&lt;-E6-1\" style=\"stroke: #383838; stroke-width: 1.0;\"/><polygon fill=\"#FFFFFF\" points=\"193.83,590.07,189.83,596.07,193.83,602.07,197.83,596.07,193.83,590.07\" style=\"stroke: #383838; stroke-width: 1.0;\"/><text fill=\"#000000\" font-family=\"sans-serif\" font-size=\"13\" lengthAdjust=\"spacingAndGlyphs\" textLength=\"7\" x=\"208\" y=\"633.0669\">y</text></a><!--MD5=[23ac544a70576c3e717098101004234c]\n",
       "reverse link E9 to E10--><a href=\"psysml:f7fd9ae3-3fa5-48e2-b146-bf2078e3bf75\" target=\"_top\" title=\"psysml:f7fd9ae3-3fa5-48e2-b146-bf2078e3bf75\" xlink:actuate=\"onRequest\" xlink:href=\"psysml:f7fd9ae3-3fa5-48e2-b146-bf2078e3bf75\" xlink:show=\"new\" xlink:title=\"psysml:f7fd9ae3-3fa5-48e2-b146-bf2078e3bf75\" xlink:type=\"simple\"><path d=\"M117.75,100.22 C117.75,100.22 117.75,147.83 117.75,147.83 \" fill=\"none\" id=\"E9&lt;-E10\" style=\"stroke: #383838; stroke-width: 1.0;\"/><polygon fill=\"#FFFFFF\" points=\"117.75,87.22,113.75,93.22,117.75,99.22,121.75,93.22,117.75,87.22\" style=\"stroke: #383838; stroke-width: 1.0;\"/><text fill=\"#000000\" font-family=\"sans-serif\" font-size=\"13\" lengthAdjust=\"spacingAndGlyphs\" textLength=\"8\" x=\"111.9922\" y=\"137.0627\">1</text></a><!--MD5=[feeac5eb423634930294aa81f2d25a4c]\n",
       "link E10 to E3--><a href=\"psysml:09a722a7-3c7d-4d30-9bcf-d6d93c165304\" target=\"_top\" title=\"psysml:09a722a7-3c7d-4d30-9bcf-d6d93c165304\" xlink:actuate=\"onRequest\" xlink:href=\"psysml:09a722a7-3c7d-4d30-9bcf-d6d93c165304\" xlink:show=\"new\" xlink:title=\"psysml:09a722a7-3c7d-4d30-9bcf-d6d93c165304\" xlink:type=\"simple\"><path d=\"M126.57,171 C139.91,171 154.5,171 154.5,171 C154.5,171 154.5,234.78 154.5,234.78 \" fill=\"none\" id=\"E10-&gt;E3\" style=\"stroke: #383838; stroke-width: 1.0;\"/><polygon fill=\"#FFFFFF\" points=\"154.5,254.78,147.5,235.78,161.5,235.78,154.5,254.78\" style=\"stroke: #383838; stroke-width: 1.0;\"/><ellipse cx=\"149.5\" cy=\"230.08\" fill=\"#383838\" rx=\"2\" ry=\"2\" style=\"stroke: #383838; stroke-width: 1.0;\"/><ellipse cx=\"159.5\" cy=\"230.08\" fill=\"#383838\" rx=\"2\" ry=\"2\" style=\"stroke: #383838; stroke-width: 1.0;\"/></a><!--MD5=[1fc04a95fd77ad5ce46c1a3027516051]\n",
       "reverse link E9 to E11--><a href=\"psysml:2308c13a-9c40-4baf-abe1-b4752fcfac30\" target=\"_top\" title=\"psysml:2308c13a-9c40-4baf-abe1-b4752fcfac30\" xlink:actuate=\"onRequest\" xlink:href=\"psysml:2308c13a-9c40-4baf-abe1-b4752fcfac30\" xlink:show=\"new\" xlink:title=\"psysml:2308c13a-9c40-4baf-abe1-b4752fcfac30\" xlink:type=\"simple\"><path d=\"M170.25,100.22 C170.25,100.22 170.25,147.83 170.25,147.83 \" fill=\"none\" id=\"E9&lt;-E11\" style=\"stroke: #383838; stroke-width: 1.0;\"/><polygon fill=\"#FFFFFF\" points=\"170.25,87.22,166.25,93.22,170.25,99.22,174.25,93.22,170.25,87.22\" style=\"stroke: #383838; stroke-width: 1.0;\"/><text fill=\"#000000\" font-family=\"sans-serif\" font-size=\"13\" lengthAdjust=\"spacingAndGlyphs\" textLength=\"8\" x=\"157.9578\" y=\"137.0627\">1</text></a><!--MD5=[0517f1ce58c4d5483948f93845c45e26]\n",
       "link E11 to E3--><a href=\"psysml:713baad2-05ac-404b-8904-f9720a0da3f6\" target=\"_top\" title=\"psysml:713baad2-05ac-404b-8904-f9720a0da3f6\" xlink:actuate=\"onRequest\" xlink:href=\"psysml:713baad2-05ac-404b-8904-f9720a0da3f6\" xlink:show=\"new\" xlink:title=\"psysml:713baad2-05ac-404b-8904-f9720a0da3f6\" xlink:type=\"simple\"><path d=\"M183,194.22 C183,194.22 183,234.83 183,234.83 \" fill=\"none\" id=\"E11-&gt;E3\" style=\"stroke: #383838; stroke-width: 1.0;\"/><polygon fill=\"#FFFFFF\" points=\"183,254.83,176,235.83,190,235.83,183,254.83\" style=\"stroke: #383838; stroke-width: 1.0;\"/><ellipse cx=\"178\" cy=\"230.13\" fill=\"#383838\" rx=\"2\" ry=\"2\" style=\"stroke: #383838; stroke-width: 1.0;\"/><ellipse cx=\"188\" cy=\"230.13\" fill=\"#383838\" rx=\"2\" ry=\"2\" style=\"stroke: #383838; stroke-width: 1.0;\"/></a><!--MD5=[9d67427b7e4dc6f4d64a07d2516a8354]\n",
       "@startuml\r\n",
       "skinparam linetype ortho\r\n",
       "skinparam monochrome true\r\n",
       "skinparam classbackgroundcolor white\r\n",
       "skinparam shadowing false\r\n",
       "skinparam wrapWidth 300\r\n",
       "hide circle\r\n",
       "\r\n",
       "package \"ItemTest\" as E1  [[psysml:9c84b130-4496-45dd-acf0-f614adf4451b ]]  {\r\n",
       "comp usage \"f: A \" as E2  <<(T,blue) item>> [[psysml:046ce2e8-70d6-418b-9e34-4058f6a1e698 ]] {\r\n",
       "}\r\n",
       "comp def \"A\" as E3  <<(T,blue) item  def>> [[psysml:b761bda6-ef45-4173-adbe-8f17f5dd59b9 ]] {\r\n",
       "}\r\n",
       "comp usage \"b: B \" as E4  <<(T,blue) item>> [[psysml:5a9b7c1e-d921-40a5-84d4-dcafad1b8599 ]] {\r\n",
       "}\r\n",
       "comp usage \"c: C \" as E5  <<(T,blue) part>> [[psysml:c52e7c62-32ae-43e1-a51e-2d7f86512260 ]] {\r\n",
       "}\r\n",
       "comp def \"<i>B</i>\" as E6  <<(T,blue) item  def>> [[psysml:154f7142-f3c2-4f8f-a55c-1d31f59952e7 ]] {\r\n",
       "}\r\n",
       "comp usage \"<i>a</i>: A \" as E7  <<(T,blue) part>> [[psysml:3092a58e-bc17-492e-b3ac-d9b0c5d27ee1 ]] {\r\n",
       "}\r\n",
       "comp def \"C\" as E8  <<(T,blue) part  def>> [[psysml:a977dc12-1522-4e17-86ea-88834b4a9262 ]] {\r\n",
       "- - parameters - -\r\n",
       "<b>in</b> y: A, B\r\n",
       "}\r\n",
       "comp def \"P\" as E9  <<(T,blue) port  def>> [[psysml:505a0904-767f-4431-bdaf-f395e9a256c5 ]] {\r\n",
       "}\r\n",
       "comp usage \"a1: A \" as E10  <<(T,blue) item>> [[psysml:b48ee9ab-0a15-45ce-8465-86ae83c4be7f ]] {\r\n",
       "}\r\n",
       "comp usage \"a2: A \" as E11  <<(T,blue) item>> [[psysml:7b14a527-4e8d-41df-a91b-3ca9db44b1d9 ]] {\r\n",
       "}\r\n",
       "}\r\n",
       "E2 - -:|> E3 [[psysml:2913aa14-34e4-4ebc-b3c0-73cbbe37a712 ]] \r\n",
       "E3 *- - \"1\"E4 [[psysml:5a70b25d-3e65-48fe-9200-ece04e9de0ee ]] \r\n",
       "E3 o- - \"1\"E5 [[psysml:98aba136-2768-4c7e-bc34-95a5a6a911cd ]] \r\n",
       "E4 - -:|> E6 [[psysml:04be4dec-9fb2-423c-a400-1c82afc162c3 ]] \r\n",
       "E6 *- - \"1\"E7 [[psysml:88a05b08-39fe-46e7-8c9b-5df9e56fb426 ]] \r\n",
       "E7 - -:|> E3 [[psysml:de23f89f-df32-45d9-b344-47d8d19c4edc ]] \r\n",
       "E5 - -:|> E8 [[psysml:feaf6c57-7b20-4701-8323-0c325a1238bf ]] \r\n",
       "E8 o- - E3 [[psysml:f63e9e98-9395-484c-b7ba-710e403c3592 ]] : y\r\n",
       "E8 o- - E6 [[psysml:f63e9e98-9395-484c-b7ba-710e403c3592 ]] : y\r\n",
       "E8 o- - E3 [[psysml:f63e9e98-9395-484c-b7ba-710e403c3592 ]] : y\r\n",
       "E8 o- - E6 [[psysml:f63e9e98-9395-484c-b7ba-710e403c3592 ]] : y\r\n",
       "E9 o- - \"1\"E10 [[psysml:f7fd9ae3-3fa5-48e2-b146-bf2078e3bf75 ]] \r\n",
       "E10 - -:|> E3 [[psysml:09a722a7-3c7d-4d30-9bcf-d6d93c165304 ]] \r\n",
       "E9 o- - \"1\"E11 [[psysml:2308c13a-9c40-4baf-abe1-b4752fcfac30 ]] \r\n",
       "E11 - -:|> E3 [[psysml:713baad2-05ac-404b-8904-f9720a0da3f6 ]] \r\n",
       "@enduml\r\n",
       "\n",
       "PlantUML version 1.2020.13(Sat Jun 13 12:26:38 UTC 2020)\n",
       "(EPL source distribution)\n",
       "Java Runtime: OpenJDK Runtime Environment\n",
       "JVM: OpenJDK 64-Bit Server VM\n",
       "Default Encoding: UTF-8\n",
       "Language: en\n",
       "Country: null\n",
       "--></g></svg>"
      ]
     },
     "execution_count": 57,
     "metadata": {},
     "output_type": "execute_result"
    }
   ],
   "source": [
    "%viz --style=\"ORTHOLINE\" --view=\"MIXED\" \"ItemTest\""
   ]
  }
 ],
 "metadata": {
  "kernelspec": {
   "display_name": "SysML",
   "language": "sysml",
   "name": "sysml"
  },
  "language_info": {
   "codemirror_mode": "sysml",
   "file_extension": ".sysml",
   "mimetype": "text/x-sysml",
   "name": "SysML",
   "pygments_lexer": "java",
   "version": "1.0.0"
  }
 },
 "nbformat": 4,
 "nbformat_minor": 5
}
