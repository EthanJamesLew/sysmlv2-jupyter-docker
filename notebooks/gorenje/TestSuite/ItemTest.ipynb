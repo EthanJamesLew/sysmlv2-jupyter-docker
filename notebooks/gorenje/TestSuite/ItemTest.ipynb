{
 "cells": [
  {
   "cell_type": "markdown",
   "id": "97d350da",
   "metadata": {},
   "source": [
    "# SysML v2 Test Suite\n",
    "\n",
    "This can notebook can be cleared using menu `Edit --> Clear All Outputs` and then all cells can be\n",
    "run using menu `Run --> Run All Cells`.\n",
    "\n",
    "**WARNING**: This file is generated, all modifications here will be ignored.\n"
   ]
  },
  {
   "cell_type": "markdown",
   "id": "6d1ff575",
   "metadata": {},
   "source": [
    "## File: ../../sysml/src/examples/Simple Tests/ItemTest.sysml"
   ]
  },
  {
   "cell_type": "code",
   "execution_count": 1,
   "id": "d3964763",
   "metadata": {
    "execution": {
     "iopub.execute_input": "2021-10-03T08:27:25.477325Z",
     "iopub.status.busy": "2021-10-03T08:27:25.476097Z",
     "iopub.status.idle": "2021-10-03T08:27:25.692330Z",
     "shell.execute_reply": "2021-10-03T08:27:25.692667Z"
    }
   },
   "outputs": [
    {
     "data": {
      "text/plain": [
       "Package ItemTest (55acdc5f-e6f6-4491-b496-9fb470a4261c)\n"
      ]
     },
     "execution_count": 1,
     "metadata": {},
     "output_type": "execute_result"
    }
   ],
   "source": [
    "package ItemTest {\n",
    "\t\n",
    "\titem f: A;\n",
    "\n",
    "\tpublic item def A {\n",
    "\t\titem b: B;\n",
    "\t\tprotected ref part c: C;\n",
    "\t}\n",
    "\t\n",
    "\tabstract item def B {\n",
    "\t\tpublic abstract part a: A;\n",
    "\t}\n",
    "\t\n",
    "\tprivate part def C {\n",
    "\t\tprivate in ref y: A, B;\n",
    "\t}\n",
    "\t\n",
    "\tport def P {\n",
    "\t\tin item a1: A;\n",
    "\t\tout item a2: A;\n",
    "\t}\n",
    "\t\n",
    "}"
   ]
  },
  {
   "cell_type": "code",
   "execution_count": 2,
   "id": "0caaf957",
   "metadata": {
    "execution": {
     "iopub.execute_input": "2021-10-03T08:27:25.743624Z",
     "iopub.status.busy": "2021-10-03T08:27:25.743216Z",
     "iopub.status.idle": "2021-10-03T08:27:26.256758Z",
     "shell.execute_reply": "2021-10-03T08:27:26.254635Z"
    }
   },
   "outputs": [
    {
     "data": {
      "image/svg+xml": [
       "<?xml version=\"1.0\" encoding=\"UTF-8\" standalone=\"no\"?><svg xmlns=\"http://www.w3.org/2000/svg\" xmlns:xlink=\"http://www.w3.org/1999/xlink\" contentScriptType=\"application/ecmascript\" contentStyleType=\"text/css\" height=\"818px\" preserveAspectRatio=\"none\" style=\"width:270px;height:818px;\" version=\"1.1\" viewBox=\"0 0 270 818\" width=\"270px\" zoomAndPan=\"magnify\"><defs/><g><!--MD5=[fbc87193dbaf4d95561dea2c320d4a47]\n",
       "cluster E1--><a href=\"psysml:1bc06463-7392-4b34-87d6-1f1d6784670a\" target=\"_top\" title=\"psysml:1bc06463-7392-4b34-87d6-1f1d6784670a\" xlink:actuate=\"onRequest\" xlink:href=\"psysml:1bc06463-7392-4b34-87d6-1f1d6784670a\" xlink:show=\"new\" xlink:title=\"psysml:1bc06463-7392-4b34-87d6-1f1d6784670a\" xlink:type=\"simple\"><polygon fill=\"#FFFFFF\" points=\"16,6,83,6,90,28.2969,248,28.2969,248,806,16,806,16,6\" style=\"stroke: #000000; stroke-width: 1.5;\"/><line style=\"stroke: #000000; stroke-width: 1.5;\" x1=\"16\" x2=\"90\" y1=\"28.2969\" y2=\"28.2969\"/><text fill=\"#000000\" font-family=\"sans-serif\" font-size=\"14\" font-weight=\"bold\" lengthAdjust=\"spacingAndGlyphs\" textLength=\"61\" x=\"20\" y=\"20.9951\">ItemTest</text></a><!--MD5=[b4997ac47864f28c2f74865a473b2911]\n",
       "class E2--><a href=\"psysml:10e5f196-141c-4ebb-934a-0a8c25223d15\" target=\"_top\" title=\"psysml:10e5f196-141c-4ebb-934a-0a8c25223d15\" xlink:actuate=\"onRequest\" xlink:href=\"psysml:10e5f196-141c-4ebb-934a-0a8c25223d15\" xlink:show=\"new\" xlink:title=\"psysml:10e5f196-141c-4ebb-934a-0a8c25223d15\" xlink:type=\"simple\"><rect fill=\"#FFFFFF\" height=\"45.9375\" id=\"E2\" rx=\"10\" ry=\"10\" style=\"stroke: #383838; stroke-width: 1.5;\" width=\"43\" x=\"188.5\" y=\"148\"/><text fill=\"#000000\" font-family=\"sans-serif\" font-size=\"12\" font-style=\"italic\" lengthAdjust=\"spacingAndGlyphs\" textLength=\"41\" x=\"189.5\" y=\"164.1387\">«item»</text><text fill=\"#000000\" font-family=\"sans-serif\" font-size=\"12\" lengthAdjust=\"spacingAndGlyphs\" textLength=\"20\" x=\"200\" y=\"178.1074\">f: A</text><line style=\"stroke: #383838; stroke-width: 1.5;\" x1=\"189.5\" x2=\"230.5\" y1=\"185.9375\" y2=\"185.9375\"/></a><!--MD5=[09b614a08d8cba4a07c9adeb5e0fee81]\n",
       "class E3--><a href=\"psysml:d8185bfd-cc57-4585-aec6-0a59765b9e32\" target=\"_top\" title=\"psysml:d8185bfd-cc57-4585-aec6-0a59765b9e32\" xlink:actuate=\"onRequest\" xlink:href=\"psysml:d8185bfd-cc57-4585-aec6-0a59765b9e32\" xlink:show=\"new\" xlink:title=\"psysml:d8185bfd-cc57-4585-aec6-0a59765b9e32\" xlink:type=\"simple\"><rect fill=\"#FFFFFF\" height=\"45.9375\" id=\"E3\" style=\"stroke: #383838; stroke-width: 1.5;\" width=\"67\" x=\"98.5\" y=\"255\"/><text fill=\"#000000\" font-family=\"sans-serif\" font-size=\"12\" font-style=\"italic\" lengthAdjust=\"spacingAndGlyphs\" textLength=\"65\" x=\"99.5\" y=\"271.1387\">«item def»</text><text fill=\"#000000\" font-family=\"sans-serif\" font-size=\"12\" lengthAdjust=\"spacingAndGlyphs\" textLength=\"8\" x=\"128\" y=\"285.1074\">A</text><line style=\"stroke: #383838; stroke-width: 1.5;\" x1=\"99.5\" x2=\"164.5\" y1=\"292.9375\" y2=\"292.9375\"/></a><!--MD5=[ebbe1d658d1005bcc118a6aa81145e00]\n",
       "class E4--><a href=\"psysml:867e3ff9-f74d-45bb-974d-3b3d8373197d\" target=\"_top\" title=\"psysml:867e3ff9-f74d-45bb-974d-3b3d8373197d\" xlink:actuate=\"onRequest\" xlink:href=\"psysml:867e3ff9-f74d-45bb-974d-3b3d8373197d\" xlink:show=\"new\" xlink:title=\"psysml:867e3ff9-f74d-45bb-974d-3b3d8373197d\" xlink:type=\"simple\"><rect fill=\"#FFFFFF\" height=\"45.9375\" id=\"E4\" rx=\"10\" ry=\"10\" style=\"stroke: #383838; stroke-width: 1.5;\" width=\"43\" x=\"45.5\" y=\"438\"/><text fill=\"#000000\" font-family=\"sans-serif\" font-size=\"12\" font-style=\"italic\" lengthAdjust=\"spacingAndGlyphs\" textLength=\"41\" x=\"46.5\" y=\"454.1387\">«item»</text><text fill=\"#000000\" font-family=\"sans-serif\" font-size=\"12\" lengthAdjust=\"spacingAndGlyphs\" textLength=\"24\" x=\"55\" y=\"468.1074\">b: B</text><line style=\"stroke: #383838; stroke-width: 1.5;\" x1=\"46.5\" x2=\"87.5\" y1=\"475.9375\" y2=\"475.9375\"/></a><!--MD5=[270fce915f116d4de14055a7c1d9a0f3]\n",
       "class E5--><a href=\"psysml:cb0d56cf-7b64-416e-8353-0e76041e55a4\" target=\"_top\" title=\"psysml:cb0d56cf-7b64-416e-8353-0e76041e55a4\" xlink:actuate=\"onRequest\" xlink:href=\"psysml:cb0d56cf-7b64-416e-8353-0e76041e55a4\" xlink:show=\"new\" xlink:title=\"psysml:cb0d56cf-7b64-416e-8353-0e76041e55a4\" xlink:type=\"simple\"><rect fill=\"#FFFFFF\" height=\"45.9375\" id=\"E5\" rx=\"10\" ry=\"10\" style=\"stroke: #383838; stroke-width: 1.5;\" width=\"42\" x=\"151\" y=\"362\"/><text fill=\"#000000\" font-family=\"sans-serif\" font-size=\"12\" font-style=\"italic\" lengthAdjust=\"spacingAndGlyphs\" textLength=\"40\" x=\"152\" y=\"378.1387\">«part»</text><text fill=\"#000000\" font-family=\"sans-serif\" font-size=\"12\" lengthAdjust=\"spacingAndGlyphs\" textLength=\"23\" x=\"160.5\" y=\"392.1074\">c: C</text><line style=\"stroke: #383838; stroke-width: 1.5;\" x1=\"152\" x2=\"192\" y1=\"399.9375\" y2=\"399.9375\"/></a><!--MD5=[60a26617385b1d2d0262a64233df1f8d]\n",
       "class E6--><a href=\"psysml:cb468909-38eb-4328-9448-1d282e0fd6a5\" target=\"_top\" title=\"psysml:cb468909-38eb-4328-9448-1d282e0fd6a5\" xlink:actuate=\"onRequest\" xlink:href=\"psysml:cb468909-38eb-4328-9448-1d282e0fd6a5\" xlink:show=\"new\" xlink:title=\"psysml:cb468909-38eb-4328-9448-1d282e0fd6a5\" xlink:type=\"simple\"><rect fill=\"#FFFFFF\" height=\"45.9375\" id=\"E6\" style=\"stroke: #383838; stroke-width: 1.5;\" width=\"67\" x=\"114.5\" y=\"637\"/><text fill=\"#000000\" font-family=\"sans-serif\" font-size=\"12\" font-style=\"italic\" lengthAdjust=\"spacingAndGlyphs\" textLength=\"65\" x=\"115.5\" y=\"653.1387\">«item def»</text><text fill=\"#000000\" font-family=\"sans-serif\" font-size=\"12\" lengthAdjust=\"spacingAndGlyphs\" textLength=\"8\" x=\"144\" y=\"667.1074\">B</text><line style=\"stroke: #383838; stroke-width: 1.5;\" x1=\"115.5\" x2=\"180.5\" y1=\"674.9375\" y2=\"674.9375\"/></a><!--MD5=[2156ba9850f5573cc1fc38a6a4b2f02b]\n",
       "class E7--><a href=\"psysml:8d68ea76-8496-4a3a-9bac-3b5e10d4f6d7\" target=\"_top\" title=\"psysml:8d68ea76-8496-4a3a-9bac-3b5e10d4f6d7\" xlink:actuate=\"onRequest\" xlink:href=\"psysml:8d68ea76-8496-4a3a-9bac-3b5e10d4f6d7\" xlink:show=\"new\" xlink:title=\"psysml:8d68ea76-8496-4a3a-9bac-3b5e10d4f6d7\" xlink:type=\"simple\"><rect fill=\"#FFFFFF\" height=\"45.9375\" id=\"E7\" rx=\"10\" ry=\"10\" style=\"stroke: #383838; stroke-width: 1.5;\" width=\"42\" x=\"159\" y=\"744\"/><text fill=\"#000000\" font-family=\"sans-serif\" font-size=\"12\" font-style=\"italic\" lengthAdjust=\"spacingAndGlyphs\" textLength=\"40\" x=\"160\" y=\"760.1387\">«part»</text><text fill=\"#000000\" font-family=\"sans-serif\" font-size=\"12\" lengthAdjust=\"spacingAndGlyphs\" textLength=\"24\" x=\"168\" y=\"774.1074\">a: A</text><line style=\"stroke: #383838; stroke-width: 1.5;\" x1=\"160\" x2=\"200\" y1=\"781.9375\" y2=\"781.9375\"/></a><!--MD5=[b9389687b975829384b498ac4b7476b2]\n",
       "class E8--><a href=\"psysml:3d841289-74ad-422d-b7f3-bdfc719d6361\" target=\"_top\" title=\"psysml:3d841289-74ad-422d-b7f3-bdfc719d6361\" xlink:actuate=\"onRequest\" xlink:href=\"psysml:3d841289-74ad-422d-b7f3-bdfc719d6361\" xlink:show=\"new\" xlink:title=\"psysml:3d841289-74ad-422d-b7f3-bdfc719d6361\" xlink:type=\"simple\"><rect fill=\"#FFFFFF\" height=\"45.9375\" id=\"E8\" style=\"stroke: #383838; stroke-width: 1.5;\" width=\"66\" x=\"115\" y=\"514\"/><text fill=\"#000000\" font-family=\"sans-serif\" font-size=\"12\" font-style=\"italic\" lengthAdjust=\"spacingAndGlyphs\" textLength=\"64\" x=\"116\" y=\"530.1387\">«part def»</text><text fill=\"#000000\" font-family=\"sans-serif\" font-size=\"12\" lengthAdjust=\"spacingAndGlyphs\" textLength=\"8\" x=\"144\" y=\"544.1074\">C</text><line style=\"stroke: #383838; stroke-width: 1.5;\" x1=\"116\" x2=\"180\" y1=\"551.9375\" y2=\"551.9375\"/></a><!--MD5=[fd4143e9d270a159db93a4ea2a975926]\n",
       "class E9--><a href=\"psysml:192666b5-43c5-4ec0-a40a-8ab471017ca3\" target=\"_top\" title=\"psysml:192666b5-43c5-4ec0-a40a-8ab471017ca3\" xlink:actuate=\"onRequest\" xlink:href=\"psysml:192666b5-43c5-4ec0-a40a-8ab471017ca3\" xlink:show=\"new\" xlink:title=\"psysml:192666b5-43c5-4ec0-a40a-8ab471017ca3\" xlink:type=\"simple\"><rect fill=\"#FFFFFF\" height=\"45.9375\" id=\"E9\" style=\"stroke: #383838; stroke-width: 1.5;\" width=\"66\" x=\"65\" y=\"41\"/><text fill=\"#000000\" font-family=\"sans-serif\" font-size=\"12\" font-style=\"italic\" lengthAdjust=\"spacingAndGlyphs\" textLength=\"64\" x=\"66\" y=\"57.1387\">«port def»</text><text fill=\"#000000\" font-family=\"sans-serif\" font-size=\"12\" lengthAdjust=\"spacingAndGlyphs\" textLength=\"8\" x=\"94\" y=\"71.1074\">P</text><line style=\"stroke: #383838; stroke-width: 1.5;\" x1=\"66\" x2=\"130\" y1=\"78.9375\" y2=\"78.9375\"/></a><!--MD5=[96f4274e9e20536e775497830990834d]\n",
       "class E10--><a href=\"psysml:a2436968-c74d-4c9f-bf2a-127bcc502b4e\" target=\"_top\" title=\"psysml:a2436968-c74d-4c9f-bf2a-127bcc502b4e\" xlink:actuate=\"onRequest\" xlink:href=\"psysml:a2436968-c74d-4c9f-bf2a-127bcc502b4e\" xlink:show=\"new\" xlink:title=\"psysml:a2436968-c74d-4c9f-bf2a-127bcc502b4e\" xlink:type=\"simple\"><rect fill=\"#FFFFFF\" height=\"45.9375\" id=\"E10\" rx=\"10\" ry=\"10\" style=\"stroke: #383838; stroke-width: 1.5;\" width=\"43\" x=\"32.5\" y=\"148\"/><text fill=\"#000000\" font-family=\"sans-serif\" font-size=\"12\" font-style=\"italic\" lengthAdjust=\"spacingAndGlyphs\" textLength=\"41\" x=\"33.5\" y=\"164.1387\">«item»</text><text fill=\"#000000\" font-family=\"sans-serif\" font-size=\"12\" lengthAdjust=\"spacingAndGlyphs\" textLength=\"32\" x=\"38\" y=\"178.1074\">a1: A</text><line style=\"stroke: #383838; stroke-width: 1.5;\" x1=\"33.5\" x2=\"74.5\" y1=\"185.9375\" y2=\"185.9375\"/></a><!--MD5=[1dd1bfd58a279cf63c5f349dbc8fc6a1]\n",
       "class E11--><a href=\"psysml:6388cc28-f9be-476c-ad05-d9ff93971fbb\" target=\"_top\" title=\"psysml:6388cc28-f9be-476c-ad05-d9ff93971fbb\" xlink:actuate=\"onRequest\" xlink:href=\"psysml:6388cc28-f9be-476c-ad05-d9ff93971fbb\" xlink:show=\"new\" xlink:title=\"psysml:6388cc28-f9be-476c-ad05-d9ff93971fbb\" xlink:type=\"simple\"><rect fill=\"#FFFFFF\" height=\"45.9375\" id=\"E11\" rx=\"10\" ry=\"10\" style=\"stroke: #383838; stroke-width: 1.5;\" width=\"43\" x=\"110.5\" y=\"148\"/><text fill=\"#000000\" font-family=\"sans-serif\" font-size=\"12\" font-style=\"italic\" lengthAdjust=\"spacingAndGlyphs\" textLength=\"41\" x=\"111.5\" y=\"164.1387\">«item»</text><text fill=\"#000000\" font-family=\"sans-serif\" font-size=\"12\" lengthAdjust=\"spacingAndGlyphs\" textLength=\"32\" x=\"116\" y=\"178.1074\">a2: A</text><line style=\"stroke: #383838; stroke-width: 1.5;\" x1=\"111.5\" x2=\"152.5\" y1=\"185.9375\" y2=\"185.9375\"/></a><!--MD5=[2720a5a1f2c3fca2055b230370638851]\n",
       "link E2 to E3--><a href=\"psysml:24dbd283-1078-40f8-9dda-86d7de7bac74\" target=\"_top\" title=\"psysml:24dbd283-1078-40f8-9dda-86d7de7bac74\" xlink:actuate=\"onRequest\" xlink:href=\"psysml:24dbd283-1078-40f8-9dda-86d7de7bac74\" xlink:show=\"new\" xlink:title=\"psysml:24dbd283-1078-40f8-9dda-86d7de7bac74\" xlink:type=\"simple\"><path d=\"M193.65,194.01 C184.14,206.81 171.89,223.3 160.82,238.2 \" fill=\"none\" id=\"E2-&gt;E3\" style=\"stroke: #383838; stroke-width: 1.0;\"/><polygon fill=\"#FFFFFF\" points=\"148.6,254.66,154.3195,235.2361,165.5543,243.5896,148.6,254.66\" style=\"stroke: #383838; stroke-width: 1.0;\"/><ellipse cx=\"159.3256\" cy=\"231.8554\" fill=\"#383838\" rx=\"2\" ry=\"2\" style=\"stroke: #383838; stroke-width: 1.0;\"/><ellipse cx=\"167.3504\" cy=\"237.8221\" fill=\"#383838\" rx=\"2\" ry=\"2\" style=\"stroke: #383838; stroke-width: 1.0;\"/></a><!--MD5=[4672eba38e49728da53d11aeb285b987]\n",
       "reverse link E3 to E4--><a href=\"psysml:9f51e7d9-1020-406a-8433-de0298038040\" target=\"_top\" title=\"psysml:9f51e7d9-1020-406a-8433-de0298038040\" xlink:actuate=\"onRequest\" xlink:href=\"psysml:9f51e7d9-1020-406a-8433-de0298038040\" xlink:show=\"new\" xlink:title=\"psysml:9f51e7d9-1020-406a-8433-de0298038040\" xlink:type=\"simple\"><path d=\"M97.11,310.9 C84.08,325.11 70.81,342.94 64,362 C55.12,386.85 58.09,417.53 61.82,437.88 \" fill=\"none\" id=\"E3&lt;-E4\" style=\"stroke: #383838; stroke-width: 1.0;\"/><polygon fill=\"#383838\" points=\"106.46,301.23,99.4153,302.7703,98.1277,309.8655,105.1724,308.3252,106.46,301.23\" style=\"stroke: #383838; stroke-width: 1.0;\"/><text fill=\"#000000\" font-family=\"sans-serif\" font-size=\"13\" lengthAdjust=\"spacingAndGlyphs\" textLength=\"8\" x=\"51.3529\" y=\"426.744\">1</text></a><!--MD5=[191cde3d490a3f6d7bb551fe3ddca469]\n",
       "reverse link E3 to E5--><a href=\"psysml:7a936c29-0528-4da5-855d-3be7e5f4e113\" target=\"_top\" title=\"psysml:7a936c29-0528-4da5-855d-3be7e5f4e113\" xlink:actuate=\"onRequest\" xlink:href=\"psysml:7a936c29-0528-4da5-855d-3be7e5f4e113\" xlink:show=\"new\" xlink:title=\"psysml:7a936c29-0528-4da5-855d-3be7e5f4e113\" xlink:type=\"simple\"><path d=\"M145.17,313.57 C151.2,329.39 158.16,347.68 163.49,361.66 \" fill=\"none\" id=\"E3&lt;-E5\" style=\"stroke: #383838; stroke-width: 1.0;\"/><polygon fill=\"#FFFFFF\" points=\"140.39,301.01,138.7866,308.0406,144.6598,312.2247,146.2631,305.1941,140.39,301.01\" style=\"stroke: #383838; stroke-width: 1.0;\"/><text fill=\"#000000\" font-family=\"sans-serif\" font-size=\"13\" lengthAdjust=\"spacingAndGlyphs\" textLength=\"8\" x=\"152.2843\" y=\"350.8492\">1</text></a><!--MD5=[79568f1e445c3877b6a54524624ccc7d]\n",
       "link E4 to E6--><a href=\"psysml:860f4e4a-475c-4d3a-a05e-585111d40739\" target=\"_top\" title=\"psysml:860f4e4a-475c-4d3a-a05e-585111d40739\" xlink:actuate=\"onRequest\" xlink:href=\"psysml:860f4e4a-475c-4d3a-a05e-585111d40739\" xlink:show=\"new\" xlink:title=\"psysml:860f4e4a-475c-4d3a-a05e-585111d40739\" xlink:type=\"simple\"><path d=\"M72.9,484.16 C78.52,504.26 87.63,534.55 98,560 C106.11,579.9 116.66,601.27 125.97,619.04 \" fill=\"none\" id=\"E4-&gt;E6\" style=\"stroke: #383838; stroke-width: 1.0;\"/><polygon fill=\"#FFFFFF\" points=\"135.42,636.68,120.2696,623.2463,132.6064,616.628,135.42,636.68\" style=\"stroke: #383838; stroke-width: 1.0;\"/><ellipse cx=\"119.3374\" cy=\"617.2779\" fill=\"#383838\" rx=\"2\" ry=\"2\" style=\"stroke: #383838; stroke-width: 1.0;\"/><ellipse cx=\"128.1494\" cy=\"612.5506\" fill=\"#383838\" rx=\"2\" ry=\"2\" style=\"stroke: #383838; stroke-width: 1.0;\"/></a><!--MD5=[3f50a3473f1dfb74d3f76443e03635af]\n",
       "reverse link E6 to E7--><a href=\"psysml:01396c82-09da-45aa-ba0c-a7dad5741ff2\" target=\"_top\" title=\"psysml:01396c82-09da-45aa-ba0c-a7dad5741ff2\" xlink:actuate=\"onRequest\" xlink:href=\"psysml:01396c82-09da-45aa-ba0c-a7dad5741ff2\" xlink:show=\"new\" xlink:title=\"psysml:01396c82-09da-45aa-ba0c-a7dad5741ff2\" xlink:type=\"simple\"><path d=\"M158.54,695.57 C163.36,711.39 168.93,729.68 173.19,743.66 \" fill=\"none\" id=\"E6&lt;-E7\" style=\"stroke: #383838; stroke-width: 1.0;\"/><polygon fill=\"#383838\" points=\"154.71,683.01,152.6319,689.9152,158.2066,694.4893,160.2847,687.5841,154.71,683.01\" style=\"stroke: #383838; stroke-width: 1.0;\"/><text fill=\"#000000\" font-family=\"sans-serif\" font-size=\"13\" lengthAdjust=\"spacingAndGlyphs\" textLength=\"8\" x=\"162.4199\" y=\"732.8492\">1</text></a><!--MD5=[14ccda38c055a5c0da953d572bc50960]\n",
       "link E7 to E3--><a href=\"psysml:d97708ca-1830-4e5e-bf07-a2aabe0546e8\" target=\"_top\" title=\"psysml:d97708ca-1830-4e5e-bf07-a2aabe0546e8\" xlink:actuate=\"onRequest\" xlink:href=\"psysml:d97708ca-1830-4e5e-bf07-a2aabe0546e8\" xlink:show=\"new\" xlink:title=\"psysml:d97708ca-1830-4e5e-bf07-a2aabe0546e8\" xlink:type=\"simple\"><path d=\"M197.41,743.63 C211.5,723.27 229,691.78 229,661 C229,384 229,384 229,384 C229,353 205.9,327.25 182.25,309.01 \" fill=\"none\" id=\"E7-&gt;E3\" style=\"stroke: #383838; stroke-width: 1.0;\"/><polygon fill=\"#FFFFFF\" points=\"165.65,297.35,185.219,302.5513,177.1671,314.004,165.65,297.35\" style=\"stroke: #383838; stroke-width: 1.0;\"/><ellipse cx=\"188.7317\" cy=\"307.4657\" fill=\"#383838\" rx=\"2\" ry=\"2\" style=\"stroke: #383838; stroke-width: 1.0;\"/><ellipse cx=\"182.9803\" cy=\"315.6462\" fill=\"#383838\" rx=\"2\" ry=\"2\" style=\"stroke: #383838; stroke-width: 1.0;\"/></a><!--MD5=[dfaffb906826c3e5aca635516100ff21]\n",
       "link E5 to E8--><a href=\"psysml:75f754af-bdfa-473b-8cbb-d11c609ad500\" target=\"_top\" title=\"psysml:75f754af-bdfa-473b-8cbb-d11c609ad500\" xlink:actuate=\"onRequest\" xlink:href=\"psysml:75f754af-bdfa-473b-8cbb-d11c609ad500\" xlink:show=\"new\" xlink:title=\"psysml:75f754af-bdfa-473b-8cbb-d11c609ad500\" xlink:type=\"simple\"><path d=\"M168.46,408.13 C164.86,430.62 159.2,466.01 154.74,493.87 \" fill=\"none\" id=\"E5-&gt;E8\" style=\"stroke: #383838; stroke-width: 1.0;\"/><polygon fill=\"#FFFFFF\" points=\"151.56,513.78,147.6458,493.9135,161.4704,496.1226,151.56,513.78\" style=\"stroke: #383838; stroke-width: 1.0;\"/><ellipse cx=\"150.5202\" cy=\"488.6005\" fill=\"#383838\" rx=\"2\" ry=\"2\" style=\"stroke: #383838; stroke-width: 1.0;\"/><ellipse cx=\"160.3949\" cy=\"490.1784\" fill=\"#383838\" rx=\"2\" ry=\"2\" style=\"stroke: #383838; stroke-width: 1.0;\"/></a><!--MD5=[03c8294790d3c57651a1993cecff665f]\n",
       "reverse link E8 to E3--><a href=\"psysml:aa35edca-3910-4cd9-97ff-300d5c8627fc\" target=\"_top\" title=\"psysml:aa35edca-3910-4cd9-97ff-300d5c8627fc\" xlink:actuate=\"onRequest\" xlink:href=\"psysml:aa35edca-3910-4cd9-97ff-300d5c8627fc\" xlink:show=\"new\" xlink:title=\"psysml:aa35edca-3910-4cd9-97ff-300d5c8627fc\" xlink:type=\"simple\"><path d=\"M140.02,501.22 C134.57,475.6 127.84,439.84 125,408 C123.18,387.64 124.14,382.43 125,362 C125.87,341.34 127.95,317.86 129.62,301.16 \" fill=\"none\" id=\"E8&lt;-E3\" style=\"stroke: #383838; stroke-width: 1.0;\"/><polygon fill=\"#FFFFFF\" points=\"142.81,513.96,145.4388,507.2451,140.2515,502.2359,137.6227,508.9508,142.81,513.96\" style=\"stroke: #383838; stroke-width: 1.0;\"/><text fill=\"#000000\" font-family=\"sans-serif\" font-size=\"13\" lengthAdjust=\"spacingAndGlyphs\" textLength=\"7\" x=\"126\" y=\"389.5669\">y</text></a><!--MD5=[0d75d2178373a6a4568e5dc728f58aef]\n",
       "reverse link E8 to E6--><a href=\"psysml:aa35edca-3910-4cd9-97ff-300d5c8627fc\" target=\"_top\" title=\"psysml:aa35edca-3910-4cd9-97ff-300d5c8627fc\" xlink:actuate=\"onRequest\" xlink:href=\"psysml:aa35edca-3910-4cd9-97ff-300d5c8627fc\" xlink:show=\"new\" xlink:title=\"psysml:aa35edca-3910-4cd9-97ff-300d5c8627fc\" xlink:type=\"simple\"><path d=\"M148,573.22 C148,593.81 148,619.16 148,636.95 \" fill=\"none\" id=\"E8&lt;-E6\" style=\"stroke: #383838; stroke-width: 1.0;\"/><polygon fill=\"#FFFFFF\" points=\"148,560.19,144,566.19,148,572.19,152,566.19,148,560.19\" style=\"stroke: #383838; stroke-width: 1.0;\"/><text fill=\"#000000\" font-family=\"sans-serif\" font-size=\"13\" lengthAdjust=\"spacingAndGlyphs\" textLength=\"7\" x=\"149\" y=\"603.0669\">y</text></a><!--MD5=[23ac544a70576c3e717098101004234c]\n",
       "reverse link E9 to E10--><a href=\"psysml:cf1da376-637e-4400-b815-716d62b1c417\" target=\"_top\" title=\"psysml:cf1da376-637e-4400-b815-716d62b1c417\" xlink:actuate=\"onRequest\" xlink:href=\"psysml:cf1da376-637e-4400-b815-716d62b1c417\" xlink:show=\"new\" xlink:title=\"psysml:cf1da376-637e-4400-b815-716d62b1c417\" xlink:type=\"simple\"><path d=\"M83.71,99.1 C77.04,115.03 69.28,133.54 63.36,147.66 \" fill=\"none\" id=\"E9&lt;-E10\" style=\"stroke: #383838; stroke-width: 1.0;\"/><polygon fill=\"#FFFFFF\" points=\"88.78,87.01,82.7702,90.9953,84.1375,98.0756,90.1473,94.0903,88.78,87.01\" style=\"stroke: #383838; stroke-width: 1.0;\"/><text fill=\"#000000\" font-family=\"sans-serif\" font-size=\"13\" lengthAdjust=\"spacingAndGlyphs\" textLength=\"8\" x=\"56.7335\" y=\"136.8492\">1</text></a><!--MD5=[feeac5eb423634930294aa81f2d25a4c]\n",
       "link E10 to E3--><a href=\"psysml:4cf35cfc-841e-4847-875d-1ebad6bb61b9\" target=\"_top\" title=\"psysml:4cf35cfc-841e-4847-875d-1ebad6bb61b9\" xlink:actuate=\"onRequest\" xlink:href=\"psysml:4cf35cfc-841e-4847-875d-1ebad6bb61b9\" xlink:show=\"new\" xlink:title=\"psysml:4cf35cfc-841e-4847-875d-1ebad6bb61b9\" xlink:type=\"simple\"><path d=\"M70.35,194.01 C79.86,206.81 92.11,223.3 103.18,238.2 \" fill=\"none\" id=\"E10-&gt;E3\" style=\"stroke: #383838; stroke-width: 1.0;\"/><polygon fill=\"#FFFFFF\" points=\"115.4,254.66,98.4457,243.5896,109.6805,235.2361,115.4,254.66\" style=\"stroke: #383838; stroke-width: 1.0;\"/><ellipse cx=\"96.6496\" cy=\"237.8221\" fill=\"#383838\" rx=\"2\" ry=\"2\" style=\"stroke: #383838; stroke-width: 1.0;\"/><ellipse cx=\"104.6744\" cy=\"231.8554\" fill=\"#383838\" rx=\"2\" ry=\"2\" style=\"stroke: #383838; stroke-width: 1.0;\"/></a><!--MD5=[1fc04a95fd77ad5ce46c1a3027516051]\n",
       "reverse link E9 to E11--><a href=\"psysml:bd05daaf-8002-489d-bbfa-6134af678ace\" target=\"_top\" title=\"psysml:bd05daaf-8002-489d-bbfa-6134af678ace\" xlink:actuate=\"onRequest\" xlink:href=\"psysml:bd05daaf-8002-489d-bbfa-6134af678ace\" xlink:show=\"new\" xlink:title=\"psysml:bd05daaf-8002-489d-bbfa-6134af678ace\" xlink:type=\"simple\"><path d=\"M109.19,99.57 C114.32,115.39 120.24,133.68 124.76,147.66 \" fill=\"none\" id=\"E9&lt;-E11\" style=\"stroke: #383838; stroke-width: 1.0;\"/><polygon fill=\"#FFFFFF\" points=\"105.13,87.01,103.1699,93.9496,108.8217,98.428,110.7819,91.4884,105.13,87.01\" style=\"stroke: #383838; stroke-width: 1.0;\"/><text fill=\"#000000\" font-family=\"sans-serif\" font-size=\"13\" lengthAdjust=\"spacingAndGlyphs\" textLength=\"8\" x=\"113.8798\" y=\"136.8492\">1</text></a><!--MD5=[0517f1ce58c4d5483948f93845c45e26]\n",
       "link E11 to E3--><a href=\"psysml:31e39f64-1f8d-4b2c-be98-c1459e5d6e94\" target=\"_top\" title=\"psysml:31e39f64-1f8d-4b2c-be98-c1459e5d6e94\" xlink:actuate=\"onRequest\" xlink:href=\"psysml:31e39f64-1f8d-4b2c-be98-c1459e5d6e94\" xlink:show=\"new\" xlink:title=\"psysml:31e39f64-1f8d-4b2c-be98-c1459e5d6e94\" xlink:type=\"simple\"><path d=\"M132,194.01 C132,205.69 132,220.46 132,234.28 \" fill=\"none\" id=\"E11-&gt;E3\" style=\"stroke: #383838; stroke-width: 1.0;\"/><polygon fill=\"#FFFFFF\" points=\"132,254.66,125,235.66,139,235.66,132,254.66\" style=\"stroke: #383838; stroke-width: 1.0;\"/><ellipse cx=\"127\" cy=\"229.96\" fill=\"#383838\" rx=\"2\" ry=\"2\" style=\"stroke: #383838; stroke-width: 1.0;\"/><ellipse cx=\"137\" cy=\"229.96\" fill=\"#383838\" rx=\"2\" ry=\"2\" style=\"stroke: #383838; stroke-width: 1.0;\"/></a><!--MD5=[d8d80dfacd4f41b9f2b0716070b23ece]\n",
       "@startuml\r\n",
       " skinparam monochrome true\r\n",
       "skinparam classbackgroundcolor white\r\n",
       "skinparam shadowing false\r\n",
       "skinparam wrapWidth 300\r\n",
       "hide circle\r\n",
       "\r\n",
       "package \"ItemTest\" as E1  [[psysml:1bc06463-7392-4b34-87d6-1f1d6784670a ]]  {\r\n",
       "comp usage \"f: A\" as E2  <<(T,blue) item>> [[psysml:10e5f196-141c-4ebb-934a-0a8c25223d15 ]] {\r\n",
       "}\r\n",
       "comp def \"A\" as E3  <<(T,blue) item def>> [[psysml:d8185bfd-cc57-4585-aec6-0a59765b9e32 ]] {\r\n",
       "}\r\n",
       "comp usage \"b: B\" as E4  <<(T,blue) item>> [[psysml:867e3ff9-f74d-45bb-974d-3b3d8373197d ]] {\r\n",
       "}\r\n",
       "comp usage \"c: C\" as E5  <<(T,blue) part>> [[psysml:cb0d56cf-7b64-416e-8353-0e76041e55a4 ]] {\r\n",
       "}\r\n",
       "comp def \"B\" as E6  <<(T,blue) item def>> [[psysml:cb468909-38eb-4328-9448-1d282e0fd6a5 ]] {\r\n",
       "}\r\n",
       "comp usage \"a: A\" as E7  <<(T,blue) part>> [[psysml:8d68ea76-8496-4a3a-9bac-3b5e10d4f6d7 ]] {\r\n",
       "}\r\n",
       "comp def \"C\" as E8  <<(T,blue) part def>> [[psysml:3d841289-74ad-422d-b7f3-bdfc719d6361 ]] {\r\n",
       "}\r\n",
       "comp def \"P\" as E9  <<(T,blue) port def>> [[psysml:192666b5-43c5-4ec0-a40a-8ab471017ca3 ]] {\r\n",
       "}\r\n",
       "comp usage \"a1: A\" as E10  <<(T,blue) item>> [[psysml:a2436968-c74d-4c9f-bf2a-127bcc502b4e ]] {\r\n",
       "}\r\n",
       "comp usage \"a2: A\" as E11  <<(T,blue) item>> [[psysml:6388cc28-f9be-476c-ad05-d9ff93971fbb ]] {\r\n",
       "}\r\n",
       "}\r\n",
       "E2 - -:|> E3 [[psysml:24dbd283-1078-40f8-9dda-86d7de7bac74 ]] \r\n",
       "E3 *- - \"1\"E4 [[psysml:9f51e7d9-1020-406a-8433-de0298038040 ]] \r\n",
       "E3 o- - \"1\"E5 [[psysml:7a936c29-0528-4da5-855d-3be7e5f4e113 ]] \r\n",
       "E4 - -:|> E6 [[psysml:860f4e4a-475c-4d3a-a05e-585111d40739 ]] \r\n",
       "E6 *- - \"1\"E7 [[psysml:01396c82-09da-45aa-ba0c-a7dad5741ff2 ]] \r\n",
       "E7 - -:|> E3 [[psysml:d97708ca-1830-4e5e-bf07-a2aabe0546e8 ]] \r\n",
       "E5 - -:|> E8 [[psysml:75f754af-bdfa-473b-8cbb-d11c609ad500 ]] \r\n",
       "E8 o- - E3 [[psysml:aa35edca-3910-4cd9-97ff-300d5c8627fc ]] : y\r\n",
       "E8 o- - E6 [[psysml:aa35edca-3910-4cd9-97ff-300d5c8627fc ]] : y\r\n",
       "E9 o- - \"1\"E10 [[psysml:cf1da376-637e-4400-b815-716d62b1c417 ]] \r\n",
       "E10 - -:|> E3 [[psysml:4cf35cfc-841e-4847-875d-1ebad6bb61b9 ]] \r\n",
       "E9 o- - \"1\"E11 [[psysml:bd05daaf-8002-489d-bbfa-6134af678ace ]] \r\n",
       "E11 - -:|> E3 [[psysml:31e39f64-1f8d-4b2c-be98-c1459e5d6e94 ]] \r\n",
       "@enduml\r\n",
       "\n",
       "PlantUML version 1.2020.13(Sat Jun 13 12:26:38 UTC 2020)\n",
       "(EPL source distribution)\n",
       "Java Runtime: OpenJDK Runtime Environment\n",
       "JVM: OpenJDK 64-Bit Server VM\n",
       "Default Encoding: UTF-8\n",
       "Language: en\n",
       "Country: null\n",
       "--></g></svg>"
      ]
     },
     "execution_count": 2,
     "metadata": {},
     "output_type": "execute_result"
    }
   ],
   "source": [
    "%viz --style=\"COMPTREE\" --view=\"Default\" \"ItemTest\""
   ]
  },
  {
   "cell_type": "code",
   "execution_count": 3,
   "id": "c278b8e8",
   "metadata": {
    "execution": {
     "iopub.execute_input": "2021-10-03T08:27:26.305583Z",
     "iopub.status.busy": "2021-10-03T08:27:26.305162Z",
     "iopub.status.idle": "2021-10-03T08:27:26.385476Z",
     "shell.execute_reply": "2021-10-03T08:27:26.385807Z"
    }
   },
   "outputs": [
    {
     "data": {
      "image/svg+xml": [
       "<?xml version=\"1.0\" encoding=\"UTF-8\" standalone=\"no\"?><svg xmlns=\"http://www.w3.org/2000/svg\" xmlns:xlink=\"http://www.w3.org/1999/xlink\" contentScriptType=\"application/ecmascript\" contentStyleType=\"text/css\" height=\"818px\" preserveAspectRatio=\"none\" style=\"width:270px;height:818px;\" version=\"1.1\" viewBox=\"0 0 270 818\" width=\"270px\" zoomAndPan=\"magnify\"><defs/><g><!--MD5=[fbc87193dbaf4d95561dea2c320d4a47]\n",
       "cluster E1--><a href=\"psysml:1bc06463-7392-4b34-87d6-1f1d6784670a\" target=\"_top\" title=\"psysml:1bc06463-7392-4b34-87d6-1f1d6784670a\" xlink:actuate=\"onRequest\" xlink:href=\"psysml:1bc06463-7392-4b34-87d6-1f1d6784670a\" xlink:show=\"new\" xlink:title=\"psysml:1bc06463-7392-4b34-87d6-1f1d6784670a\" xlink:type=\"simple\"><polygon fill=\"#FFFFFF\" points=\"16,6,83,6,90,28.2969,248,28.2969,248,806,16,806,16,6\" style=\"stroke: #000000; stroke-width: 1.5;\"/><line style=\"stroke: #000000; stroke-width: 1.5;\" x1=\"16\" x2=\"90\" y1=\"28.2969\" y2=\"28.2969\"/><text fill=\"#000000\" font-family=\"sans-serif\" font-size=\"14\" font-weight=\"bold\" lengthAdjust=\"spacingAndGlyphs\" textLength=\"61\" x=\"20\" y=\"20.9951\">ItemTest</text></a><!--MD5=[b4997ac47864f28c2f74865a473b2911]\n",
       "class E2--><a href=\"psysml:10e5f196-141c-4ebb-934a-0a8c25223d15\" target=\"_top\" title=\"psysml:10e5f196-141c-4ebb-934a-0a8c25223d15\" xlink:actuate=\"onRequest\" xlink:href=\"psysml:10e5f196-141c-4ebb-934a-0a8c25223d15\" xlink:show=\"new\" xlink:title=\"psysml:10e5f196-141c-4ebb-934a-0a8c25223d15\" xlink:type=\"simple\"><rect fill=\"#FFFFFF\" height=\"45.9375\" id=\"E2\" rx=\"10\" ry=\"10\" style=\"stroke: #383838; stroke-width: 1.5;\" width=\"43\" x=\"188.5\" y=\"148\"/><text fill=\"#000000\" font-family=\"sans-serif\" font-size=\"12\" font-style=\"italic\" lengthAdjust=\"spacingAndGlyphs\" textLength=\"41\" x=\"189.5\" y=\"164.1387\">«item»</text><text fill=\"#000000\" font-family=\"sans-serif\" font-size=\"12\" lengthAdjust=\"spacingAndGlyphs\" textLength=\"20\" x=\"200\" y=\"178.1074\">f: A</text><line style=\"stroke: #383838; stroke-width: 1.5;\" x1=\"189.5\" x2=\"230.5\" y1=\"185.9375\" y2=\"185.9375\"/></a><!--MD5=[09b614a08d8cba4a07c9adeb5e0fee81]\n",
       "class E3--><a href=\"psysml:d8185bfd-cc57-4585-aec6-0a59765b9e32\" target=\"_top\" title=\"psysml:d8185bfd-cc57-4585-aec6-0a59765b9e32\" xlink:actuate=\"onRequest\" xlink:href=\"psysml:d8185bfd-cc57-4585-aec6-0a59765b9e32\" xlink:show=\"new\" xlink:title=\"psysml:d8185bfd-cc57-4585-aec6-0a59765b9e32\" xlink:type=\"simple\"><rect fill=\"#FFFFFF\" height=\"45.9375\" id=\"E3\" style=\"stroke: #383838; stroke-width: 1.5;\" width=\"67\" x=\"98.5\" y=\"255\"/><text fill=\"#000000\" font-family=\"sans-serif\" font-size=\"12\" font-style=\"italic\" lengthAdjust=\"spacingAndGlyphs\" textLength=\"65\" x=\"99.5\" y=\"271.1387\">«item def»</text><text fill=\"#000000\" font-family=\"sans-serif\" font-size=\"12\" lengthAdjust=\"spacingAndGlyphs\" textLength=\"8\" x=\"128\" y=\"285.1074\">A</text><line style=\"stroke: #383838; stroke-width: 1.5;\" x1=\"99.5\" x2=\"164.5\" y1=\"292.9375\" y2=\"292.9375\"/></a><!--MD5=[ebbe1d658d1005bcc118a6aa81145e00]\n",
       "class E4--><a href=\"psysml:867e3ff9-f74d-45bb-974d-3b3d8373197d\" target=\"_top\" title=\"psysml:867e3ff9-f74d-45bb-974d-3b3d8373197d\" xlink:actuate=\"onRequest\" xlink:href=\"psysml:867e3ff9-f74d-45bb-974d-3b3d8373197d\" xlink:show=\"new\" xlink:title=\"psysml:867e3ff9-f74d-45bb-974d-3b3d8373197d\" xlink:type=\"simple\"><rect fill=\"#FFFFFF\" height=\"45.9375\" id=\"E4\" rx=\"10\" ry=\"10\" style=\"stroke: #383838; stroke-width: 1.5;\" width=\"43\" x=\"45.5\" y=\"438\"/><text fill=\"#000000\" font-family=\"sans-serif\" font-size=\"12\" font-style=\"italic\" lengthAdjust=\"spacingAndGlyphs\" textLength=\"41\" x=\"46.5\" y=\"454.1387\">«item»</text><text fill=\"#000000\" font-family=\"sans-serif\" font-size=\"12\" lengthAdjust=\"spacingAndGlyphs\" textLength=\"24\" x=\"55\" y=\"468.1074\">b: B</text><line style=\"stroke: #383838; stroke-width: 1.5;\" x1=\"46.5\" x2=\"87.5\" y1=\"475.9375\" y2=\"475.9375\"/></a><!--MD5=[270fce915f116d4de14055a7c1d9a0f3]\n",
       "class E5--><a href=\"psysml:cb0d56cf-7b64-416e-8353-0e76041e55a4\" target=\"_top\" title=\"psysml:cb0d56cf-7b64-416e-8353-0e76041e55a4\" xlink:actuate=\"onRequest\" xlink:href=\"psysml:cb0d56cf-7b64-416e-8353-0e76041e55a4\" xlink:show=\"new\" xlink:title=\"psysml:cb0d56cf-7b64-416e-8353-0e76041e55a4\" xlink:type=\"simple\"><rect fill=\"#FFFFFF\" height=\"45.9375\" id=\"E5\" rx=\"10\" ry=\"10\" style=\"stroke: #383838; stroke-width: 1.5;\" width=\"42\" x=\"151\" y=\"362\"/><text fill=\"#000000\" font-family=\"sans-serif\" font-size=\"12\" font-style=\"italic\" lengthAdjust=\"spacingAndGlyphs\" textLength=\"40\" x=\"152\" y=\"378.1387\">«part»</text><text fill=\"#000000\" font-family=\"sans-serif\" font-size=\"12\" lengthAdjust=\"spacingAndGlyphs\" textLength=\"23\" x=\"160.5\" y=\"392.1074\">c: C</text><line style=\"stroke: #383838; stroke-width: 1.5;\" x1=\"152\" x2=\"192\" y1=\"399.9375\" y2=\"399.9375\"/></a><!--MD5=[60a26617385b1d2d0262a64233df1f8d]\n",
       "class E6--><a href=\"psysml:cb468909-38eb-4328-9448-1d282e0fd6a5\" target=\"_top\" title=\"psysml:cb468909-38eb-4328-9448-1d282e0fd6a5\" xlink:actuate=\"onRequest\" xlink:href=\"psysml:cb468909-38eb-4328-9448-1d282e0fd6a5\" xlink:show=\"new\" xlink:title=\"psysml:cb468909-38eb-4328-9448-1d282e0fd6a5\" xlink:type=\"simple\"><rect fill=\"#FFFFFF\" height=\"45.9375\" id=\"E6\" style=\"stroke: #383838; stroke-width: 1.5;\" width=\"67\" x=\"114.5\" y=\"637\"/><text fill=\"#000000\" font-family=\"sans-serif\" font-size=\"12\" font-style=\"italic\" lengthAdjust=\"spacingAndGlyphs\" textLength=\"65\" x=\"115.5\" y=\"653.1387\">«item def»</text><text fill=\"#000000\" font-family=\"sans-serif\" font-size=\"12\" lengthAdjust=\"spacingAndGlyphs\" textLength=\"8\" x=\"144\" y=\"667.1074\">B</text><line style=\"stroke: #383838; stroke-width: 1.5;\" x1=\"115.5\" x2=\"180.5\" y1=\"674.9375\" y2=\"674.9375\"/></a><!--MD5=[2156ba9850f5573cc1fc38a6a4b2f02b]\n",
       "class E7--><a href=\"psysml:8d68ea76-8496-4a3a-9bac-3b5e10d4f6d7\" target=\"_top\" title=\"psysml:8d68ea76-8496-4a3a-9bac-3b5e10d4f6d7\" xlink:actuate=\"onRequest\" xlink:href=\"psysml:8d68ea76-8496-4a3a-9bac-3b5e10d4f6d7\" xlink:show=\"new\" xlink:title=\"psysml:8d68ea76-8496-4a3a-9bac-3b5e10d4f6d7\" xlink:type=\"simple\"><rect fill=\"#FFFFFF\" height=\"45.9375\" id=\"E7\" rx=\"10\" ry=\"10\" style=\"stroke: #383838; stroke-width: 1.5;\" width=\"42\" x=\"159\" y=\"744\"/><text fill=\"#000000\" font-family=\"sans-serif\" font-size=\"12\" font-style=\"italic\" lengthAdjust=\"spacingAndGlyphs\" textLength=\"40\" x=\"160\" y=\"760.1387\">«part»</text><text fill=\"#000000\" font-family=\"sans-serif\" font-size=\"12\" lengthAdjust=\"spacingAndGlyphs\" textLength=\"24\" x=\"168\" y=\"774.1074\">a: A</text><line style=\"stroke: #383838; stroke-width: 1.5;\" x1=\"160\" x2=\"200\" y1=\"781.9375\" y2=\"781.9375\"/></a><!--MD5=[b9389687b975829384b498ac4b7476b2]\n",
       "class E8--><a href=\"psysml:3d841289-74ad-422d-b7f3-bdfc719d6361\" target=\"_top\" title=\"psysml:3d841289-74ad-422d-b7f3-bdfc719d6361\" xlink:actuate=\"onRequest\" xlink:href=\"psysml:3d841289-74ad-422d-b7f3-bdfc719d6361\" xlink:show=\"new\" xlink:title=\"psysml:3d841289-74ad-422d-b7f3-bdfc719d6361\" xlink:type=\"simple\"><rect fill=\"#FFFFFF\" height=\"45.9375\" id=\"E8\" style=\"stroke: #383838; stroke-width: 1.5;\" width=\"66\" x=\"115\" y=\"514\"/><text fill=\"#000000\" font-family=\"sans-serif\" font-size=\"12\" font-style=\"italic\" lengthAdjust=\"spacingAndGlyphs\" textLength=\"64\" x=\"116\" y=\"530.1387\">«part def»</text><text fill=\"#000000\" font-family=\"sans-serif\" font-size=\"12\" lengthAdjust=\"spacingAndGlyphs\" textLength=\"8\" x=\"144\" y=\"544.1074\">C</text><line style=\"stroke: #383838; stroke-width: 1.5;\" x1=\"116\" x2=\"180\" y1=\"551.9375\" y2=\"551.9375\"/></a><!--MD5=[fd4143e9d270a159db93a4ea2a975926]\n",
       "class E9--><a href=\"psysml:192666b5-43c5-4ec0-a40a-8ab471017ca3\" target=\"_top\" title=\"psysml:192666b5-43c5-4ec0-a40a-8ab471017ca3\" xlink:actuate=\"onRequest\" xlink:href=\"psysml:192666b5-43c5-4ec0-a40a-8ab471017ca3\" xlink:show=\"new\" xlink:title=\"psysml:192666b5-43c5-4ec0-a40a-8ab471017ca3\" xlink:type=\"simple\"><rect fill=\"#FFFFFF\" height=\"45.9375\" id=\"E9\" style=\"stroke: #383838; stroke-width: 1.5;\" width=\"66\" x=\"65\" y=\"41\"/><text fill=\"#000000\" font-family=\"sans-serif\" font-size=\"12\" font-style=\"italic\" lengthAdjust=\"spacingAndGlyphs\" textLength=\"64\" x=\"66\" y=\"57.1387\">«port def»</text><text fill=\"#000000\" font-family=\"sans-serif\" font-size=\"12\" lengthAdjust=\"spacingAndGlyphs\" textLength=\"8\" x=\"94\" y=\"71.1074\">P</text><line style=\"stroke: #383838; stroke-width: 1.5;\" x1=\"66\" x2=\"130\" y1=\"78.9375\" y2=\"78.9375\"/></a><!--MD5=[96f4274e9e20536e775497830990834d]\n",
       "class E10--><a href=\"psysml:a2436968-c74d-4c9f-bf2a-127bcc502b4e\" target=\"_top\" title=\"psysml:a2436968-c74d-4c9f-bf2a-127bcc502b4e\" xlink:actuate=\"onRequest\" xlink:href=\"psysml:a2436968-c74d-4c9f-bf2a-127bcc502b4e\" xlink:show=\"new\" xlink:title=\"psysml:a2436968-c74d-4c9f-bf2a-127bcc502b4e\" xlink:type=\"simple\"><rect fill=\"#FFFFFF\" height=\"45.9375\" id=\"E10\" rx=\"10\" ry=\"10\" style=\"stroke: #383838; stroke-width: 1.5;\" width=\"43\" x=\"32.5\" y=\"148\"/><text fill=\"#000000\" font-family=\"sans-serif\" font-size=\"12\" font-style=\"italic\" lengthAdjust=\"spacingAndGlyphs\" textLength=\"41\" x=\"33.5\" y=\"164.1387\">«item»</text><text fill=\"#000000\" font-family=\"sans-serif\" font-size=\"12\" lengthAdjust=\"spacingAndGlyphs\" textLength=\"32\" x=\"38\" y=\"178.1074\">a1: A</text><line style=\"stroke: #383838; stroke-width: 1.5;\" x1=\"33.5\" x2=\"74.5\" y1=\"185.9375\" y2=\"185.9375\"/></a><!--MD5=[1dd1bfd58a279cf63c5f349dbc8fc6a1]\n",
       "class E11--><a href=\"psysml:6388cc28-f9be-476c-ad05-d9ff93971fbb\" target=\"_top\" title=\"psysml:6388cc28-f9be-476c-ad05-d9ff93971fbb\" xlink:actuate=\"onRequest\" xlink:href=\"psysml:6388cc28-f9be-476c-ad05-d9ff93971fbb\" xlink:show=\"new\" xlink:title=\"psysml:6388cc28-f9be-476c-ad05-d9ff93971fbb\" xlink:type=\"simple\"><rect fill=\"#FFFFFF\" height=\"45.9375\" id=\"E11\" rx=\"10\" ry=\"10\" style=\"stroke: #383838; stroke-width: 1.5;\" width=\"43\" x=\"110.5\" y=\"148\"/><text fill=\"#000000\" font-family=\"sans-serif\" font-size=\"12\" font-style=\"italic\" lengthAdjust=\"spacingAndGlyphs\" textLength=\"41\" x=\"111.5\" y=\"164.1387\">«item»</text><text fill=\"#000000\" font-family=\"sans-serif\" font-size=\"12\" lengthAdjust=\"spacingAndGlyphs\" textLength=\"32\" x=\"116\" y=\"178.1074\">a2: A</text><line style=\"stroke: #383838; stroke-width: 1.5;\" x1=\"111.5\" x2=\"152.5\" y1=\"185.9375\" y2=\"185.9375\"/></a><!--MD5=[2720a5a1f2c3fca2055b230370638851]\n",
       "link E2 to E3--><a href=\"psysml:24dbd283-1078-40f8-9dda-86d7de7bac74\" target=\"_top\" title=\"psysml:24dbd283-1078-40f8-9dda-86d7de7bac74\" xlink:actuate=\"onRequest\" xlink:href=\"psysml:24dbd283-1078-40f8-9dda-86d7de7bac74\" xlink:show=\"new\" xlink:title=\"psysml:24dbd283-1078-40f8-9dda-86d7de7bac74\" xlink:type=\"simple\"><path d=\"M193.65,194.01 C184.14,206.81 171.89,223.3 160.82,238.2 \" fill=\"none\" id=\"E2-&gt;E3\" style=\"stroke: #383838; stroke-width: 1.0;\"/><polygon fill=\"#FFFFFF\" points=\"148.6,254.66,154.3195,235.2361,165.5543,243.5896,148.6,254.66\" style=\"stroke: #383838; stroke-width: 1.0;\"/><ellipse cx=\"159.3256\" cy=\"231.8554\" fill=\"#383838\" rx=\"2\" ry=\"2\" style=\"stroke: #383838; stroke-width: 1.0;\"/><ellipse cx=\"167.3504\" cy=\"237.8221\" fill=\"#383838\" rx=\"2\" ry=\"2\" style=\"stroke: #383838; stroke-width: 1.0;\"/></a><!--MD5=[4672eba38e49728da53d11aeb285b987]\n",
       "reverse link E3 to E4--><a href=\"psysml:9f51e7d9-1020-406a-8433-de0298038040\" target=\"_top\" title=\"psysml:9f51e7d9-1020-406a-8433-de0298038040\" xlink:actuate=\"onRequest\" xlink:href=\"psysml:9f51e7d9-1020-406a-8433-de0298038040\" xlink:show=\"new\" xlink:title=\"psysml:9f51e7d9-1020-406a-8433-de0298038040\" xlink:type=\"simple\"><path d=\"M97.11,310.9 C84.08,325.11 70.81,342.94 64,362 C55.12,386.85 58.09,417.53 61.82,437.88 \" fill=\"none\" id=\"E3&lt;-E4\" style=\"stroke: #383838; stroke-width: 1.0;\"/><polygon fill=\"#383838\" points=\"106.46,301.23,99.4153,302.7703,98.1277,309.8655,105.1724,308.3252,106.46,301.23\" style=\"stroke: #383838; stroke-width: 1.0;\"/><text fill=\"#000000\" font-family=\"sans-serif\" font-size=\"13\" lengthAdjust=\"spacingAndGlyphs\" textLength=\"8\" x=\"51.3529\" y=\"426.744\">1</text></a><!--MD5=[191cde3d490a3f6d7bb551fe3ddca469]\n",
       "reverse link E3 to E5--><a href=\"psysml:7a936c29-0528-4da5-855d-3be7e5f4e113\" target=\"_top\" title=\"psysml:7a936c29-0528-4da5-855d-3be7e5f4e113\" xlink:actuate=\"onRequest\" xlink:href=\"psysml:7a936c29-0528-4da5-855d-3be7e5f4e113\" xlink:show=\"new\" xlink:title=\"psysml:7a936c29-0528-4da5-855d-3be7e5f4e113\" xlink:type=\"simple\"><path d=\"M145.17,313.57 C151.2,329.39 158.16,347.68 163.49,361.66 \" fill=\"none\" id=\"E3&lt;-E5\" style=\"stroke: #383838; stroke-width: 1.0;\"/><polygon fill=\"#FFFFFF\" points=\"140.39,301.01,138.7866,308.0406,144.6598,312.2247,146.2631,305.1941,140.39,301.01\" style=\"stroke: #383838; stroke-width: 1.0;\"/><text fill=\"#000000\" font-family=\"sans-serif\" font-size=\"13\" lengthAdjust=\"spacingAndGlyphs\" textLength=\"8\" x=\"152.2843\" y=\"350.8492\">1</text></a><!--MD5=[79568f1e445c3877b6a54524624ccc7d]\n",
       "link E4 to E6--><a href=\"psysml:860f4e4a-475c-4d3a-a05e-585111d40739\" target=\"_top\" title=\"psysml:860f4e4a-475c-4d3a-a05e-585111d40739\" xlink:actuate=\"onRequest\" xlink:href=\"psysml:860f4e4a-475c-4d3a-a05e-585111d40739\" xlink:show=\"new\" xlink:title=\"psysml:860f4e4a-475c-4d3a-a05e-585111d40739\" xlink:type=\"simple\"><path d=\"M72.9,484.16 C78.52,504.26 87.63,534.55 98,560 C106.11,579.9 116.66,601.27 125.97,619.04 \" fill=\"none\" id=\"E4-&gt;E6\" style=\"stroke: #383838; stroke-width: 1.0;\"/><polygon fill=\"#FFFFFF\" points=\"135.42,636.68,120.2696,623.2463,132.6064,616.628,135.42,636.68\" style=\"stroke: #383838; stroke-width: 1.0;\"/><ellipse cx=\"119.3374\" cy=\"617.2779\" fill=\"#383838\" rx=\"2\" ry=\"2\" style=\"stroke: #383838; stroke-width: 1.0;\"/><ellipse cx=\"128.1494\" cy=\"612.5506\" fill=\"#383838\" rx=\"2\" ry=\"2\" style=\"stroke: #383838; stroke-width: 1.0;\"/></a><!--MD5=[3f50a3473f1dfb74d3f76443e03635af]\n",
       "reverse link E6 to E7--><a href=\"psysml:01396c82-09da-45aa-ba0c-a7dad5741ff2\" target=\"_top\" title=\"psysml:01396c82-09da-45aa-ba0c-a7dad5741ff2\" xlink:actuate=\"onRequest\" xlink:href=\"psysml:01396c82-09da-45aa-ba0c-a7dad5741ff2\" xlink:show=\"new\" xlink:title=\"psysml:01396c82-09da-45aa-ba0c-a7dad5741ff2\" xlink:type=\"simple\"><path d=\"M158.54,695.57 C163.36,711.39 168.93,729.68 173.19,743.66 \" fill=\"none\" id=\"E6&lt;-E7\" style=\"stroke: #383838; stroke-width: 1.0;\"/><polygon fill=\"#383838\" points=\"154.71,683.01,152.6319,689.9152,158.2066,694.4893,160.2847,687.5841,154.71,683.01\" style=\"stroke: #383838; stroke-width: 1.0;\"/><text fill=\"#000000\" font-family=\"sans-serif\" font-size=\"13\" lengthAdjust=\"spacingAndGlyphs\" textLength=\"8\" x=\"162.4199\" y=\"732.8492\">1</text></a><!--MD5=[14ccda38c055a5c0da953d572bc50960]\n",
       "link E7 to E3--><a href=\"psysml:d97708ca-1830-4e5e-bf07-a2aabe0546e8\" target=\"_top\" title=\"psysml:d97708ca-1830-4e5e-bf07-a2aabe0546e8\" xlink:actuate=\"onRequest\" xlink:href=\"psysml:d97708ca-1830-4e5e-bf07-a2aabe0546e8\" xlink:show=\"new\" xlink:title=\"psysml:d97708ca-1830-4e5e-bf07-a2aabe0546e8\" xlink:type=\"simple\"><path d=\"M197.41,743.63 C211.5,723.27 229,691.78 229,661 C229,384 229,384 229,384 C229,353 205.9,327.25 182.25,309.01 \" fill=\"none\" id=\"E7-&gt;E3\" style=\"stroke: #383838; stroke-width: 1.0;\"/><polygon fill=\"#FFFFFF\" points=\"165.65,297.35,185.219,302.5513,177.1671,314.004,165.65,297.35\" style=\"stroke: #383838; stroke-width: 1.0;\"/><ellipse cx=\"188.7317\" cy=\"307.4657\" fill=\"#383838\" rx=\"2\" ry=\"2\" style=\"stroke: #383838; stroke-width: 1.0;\"/><ellipse cx=\"182.9803\" cy=\"315.6462\" fill=\"#383838\" rx=\"2\" ry=\"2\" style=\"stroke: #383838; stroke-width: 1.0;\"/></a><!--MD5=[dfaffb906826c3e5aca635516100ff21]\n",
       "link E5 to E8--><a href=\"psysml:75f754af-bdfa-473b-8cbb-d11c609ad500\" target=\"_top\" title=\"psysml:75f754af-bdfa-473b-8cbb-d11c609ad500\" xlink:actuate=\"onRequest\" xlink:href=\"psysml:75f754af-bdfa-473b-8cbb-d11c609ad500\" xlink:show=\"new\" xlink:title=\"psysml:75f754af-bdfa-473b-8cbb-d11c609ad500\" xlink:type=\"simple\"><path d=\"M168.46,408.13 C164.86,430.62 159.2,466.01 154.74,493.87 \" fill=\"none\" id=\"E5-&gt;E8\" style=\"stroke: #383838; stroke-width: 1.0;\"/><polygon fill=\"#FFFFFF\" points=\"151.56,513.78,147.6458,493.9135,161.4704,496.1226,151.56,513.78\" style=\"stroke: #383838; stroke-width: 1.0;\"/><ellipse cx=\"150.5202\" cy=\"488.6005\" fill=\"#383838\" rx=\"2\" ry=\"2\" style=\"stroke: #383838; stroke-width: 1.0;\"/><ellipse cx=\"160.3949\" cy=\"490.1784\" fill=\"#383838\" rx=\"2\" ry=\"2\" style=\"stroke: #383838; stroke-width: 1.0;\"/></a><!--MD5=[03c8294790d3c57651a1993cecff665f]\n",
       "reverse link E8 to E3--><a href=\"psysml:aa35edca-3910-4cd9-97ff-300d5c8627fc\" target=\"_top\" title=\"psysml:aa35edca-3910-4cd9-97ff-300d5c8627fc\" xlink:actuate=\"onRequest\" xlink:href=\"psysml:aa35edca-3910-4cd9-97ff-300d5c8627fc\" xlink:show=\"new\" xlink:title=\"psysml:aa35edca-3910-4cd9-97ff-300d5c8627fc\" xlink:type=\"simple\"><path d=\"M140.02,501.22 C134.57,475.6 127.84,439.84 125,408 C123.18,387.64 124.14,382.43 125,362 C125.87,341.34 127.95,317.86 129.62,301.16 \" fill=\"none\" id=\"E8&lt;-E3\" style=\"stroke: #383838; stroke-width: 1.0;\"/><polygon fill=\"#FFFFFF\" points=\"142.81,513.96,145.4388,507.2451,140.2515,502.2359,137.6227,508.9508,142.81,513.96\" style=\"stroke: #383838; stroke-width: 1.0;\"/><text fill=\"#000000\" font-family=\"sans-serif\" font-size=\"13\" lengthAdjust=\"spacingAndGlyphs\" textLength=\"7\" x=\"126\" y=\"389.5669\">y</text></a><!--MD5=[0d75d2178373a6a4568e5dc728f58aef]\n",
       "reverse link E8 to E6--><a href=\"psysml:aa35edca-3910-4cd9-97ff-300d5c8627fc\" target=\"_top\" title=\"psysml:aa35edca-3910-4cd9-97ff-300d5c8627fc\" xlink:actuate=\"onRequest\" xlink:href=\"psysml:aa35edca-3910-4cd9-97ff-300d5c8627fc\" xlink:show=\"new\" xlink:title=\"psysml:aa35edca-3910-4cd9-97ff-300d5c8627fc\" xlink:type=\"simple\"><path d=\"M148,573.22 C148,593.81 148,619.16 148,636.95 \" fill=\"none\" id=\"E8&lt;-E6\" style=\"stroke: #383838; stroke-width: 1.0;\"/><polygon fill=\"#FFFFFF\" points=\"148,560.19,144,566.19,148,572.19,152,566.19,148,560.19\" style=\"stroke: #383838; stroke-width: 1.0;\"/><text fill=\"#000000\" font-family=\"sans-serif\" font-size=\"13\" lengthAdjust=\"spacingAndGlyphs\" textLength=\"7\" x=\"149\" y=\"603.0669\">y</text></a><!--MD5=[23ac544a70576c3e717098101004234c]\n",
       "reverse link E9 to E10--><a href=\"psysml:cf1da376-637e-4400-b815-716d62b1c417\" target=\"_top\" title=\"psysml:cf1da376-637e-4400-b815-716d62b1c417\" xlink:actuate=\"onRequest\" xlink:href=\"psysml:cf1da376-637e-4400-b815-716d62b1c417\" xlink:show=\"new\" xlink:title=\"psysml:cf1da376-637e-4400-b815-716d62b1c417\" xlink:type=\"simple\"><path d=\"M83.71,99.1 C77.04,115.03 69.28,133.54 63.36,147.66 \" fill=\"none\" id=\"E9&lt;-E10\" style=\"stroke: #383838; stroke-width: 1.0;\"/><polygon fill=\"#FFFFFF\" points=\"88.78,87.01,82.7702,90.9953,84.1375,98.0756,90.1473,94.0903,88.78,87.01\" style=\"stroke: #383838; stroke-width: 1.0;\"/><text fill=\"#000000\" font-family=\"sans-serif\" font-size=\"13\" lengthAdjust=\"spacingAndGlyphs\" textLength=\"8\" x=\"56.7335\" y=\"136.8492\">1</text></a><!--MD5=[feeac5eb423634930294aa81f2d25a4c]\n",
       "link E10 to E3--><a href=\"psysml:4cf35cfc-841e-4847-875d-1ebad6bb61b9\" target=\"_top\" title=\"psysml:4cf35cfc-841e-4847-875d-1ebad6bb61b9\" xlink:actuate=\"onRequest\" xlink:href=\"psysml:4cf35cfc-841e-4847-875d-1ebad6bb61b9\" xlink:show=\"new\" xlink:title=\"psysml:4cf35cfc-841e-4847-875d-1ebad6bb61b9\" xlink:type=\"simple\"><path d=\"M70.35,194.01 C79.86,206.81 92.11,223.3 103.18,238.2 \" fill=\"none\" id=\"E10-&gt;E3\" style=\"stroke: #383838; stroke-width: 1.0;\"/><polygon fill=\"#FFFFFF\" points=\"115.4,254.66,98.4457,243.5896,109.6805,235.2361,115.4,254.66\" style=\"stroke: #383838; stroke-width: 1.0;\"/><ellipse cx=\"96.6496\" cy=\"237.8221\" fill=\"#383838\" rx=\"2\" ry=\"2\" style=\"stroke: #383838; stroke-width: 1.0;\"/><ellipse cx=\"104.6744\" cy=\"231.8554\" fill=\"#383838\" rx=\"2\" ry=\"2\" style=\"stroke: #383838; stroke-width: 1.0;\"/></a><!--MD5=[1fc04a95fd77ad5ce46c1a3027516051]\n",
       "reverse link E9 to E11--><a href=\"psysml:bd05daaf-8002-489d-bbfa-6134af678ace\" target=\"_top\" title=\"psysml:bd05daaf-8002-489d-bbfa-6134af678ace\" xlink:actuate=\"onRequest\" xlink:href=\"psysml:bd05daaf-8002-489d-bbfa-6134af678ace\" xlink:show=\"new\" xlink:title=\"psysml:bd05daaf-8002-489d-bbfa-6134af678ace\" xlink:type=\"simple\"><path d=\"M109.19,99.57 C114.32,115.39 120.24,133.68 124.76,147.66 \" fill=\"none\" id=\"E9&lt;-E11\" style=\"stroke: #383838; stroke-width: 1.0;\"/><polygon fill=\"#FFFFFF\" points=\"105.13,87.01,103.1699,93.9496,108.8217,98.428,110.7819,91.4884,105.13,87.01\" style=\"stroke: #383838; stroke-width: 1.0;\"/><text fill=\"#000000\" font-family=\"sans-serif\" font-size=\"13\" lengthAdjust=\"spacingAndGlyphs\" textLength=\"8\" x=\"113.8798\" y=\"136.8492\">1</text></a><!--MD5=[0517f1ce58c4d5483948f93845c45e26]\n",
       "link E11 to E3--><a href=\"psysml:31e39f64-1f8d-4b2c-be98-c1459e5d6e94\" target=\"_top\" title=\"psysml:31e39f64-1f8d-4b2c-be98-c1459e5d6e94\" xlink:actuate=\"onRequest\" xlink:href=\"psysml:31e39f64-1f8d-4b2c-be98-c1459e5d6e94\" xlink:show=\"new\" xlink:title=\"psysml:31e39f64-1f8d-4b2c-be98-c1459e5d6e94\" xlink:type=\"simple\"><path d=\"M132,194.01 C132,205.69 132,220.46 132,234.28 \" fill=\"none\" id=\"E11-&gt;E3\" style=\"stroke: #383838; stroke-width: 1.0;\"/><polygon fill=\"#FFFFFF\" points=\"132,254.66,125,235.66,139,235.66,132,254.66\" style=\"stroke: #383838; stroke-width: 1.0;\"/><ellipse cx=\"127\" cy=\"229.96\" fill=\"#383838\" rx=\"2\" ry=\"2\" style=\"stroke: #383838; stroke-width: 1.0;\"/><ellipse cx=\"137\" cy=\"229.96\" fill=\"#383838\" rx=\"2\" ry=\"2\" style=\"stroke: #383838; stroke-width: 1.0;\"/></a><!--MD5=[d8d80dfacd4f41b9f2b0716070b23ece]\n",
       "@startuml\r\n",
       " skinparam monochrome true\r\n",
       "skinparam classbackgroundcolor white\r\n",
       "skinparam shadowing false\r\n",
       "skinparam wrapWidth 300\r\n",
       "hide circle\r\n",
       "\r\n",
       "package \"ItemTest\" as E1  [[psysml:1bc06463-7392-4b34-87d6-1f1d6784670a ]]  {\r\n",
       "comp usage \"f: A\" as E2  <<(T,blue) item>> [[psysml:10e5f196-141c-4ebb-934a-0a8c25223d15 ]] {\r\n",
       "}\r\n",
       "comp def \"A\" as E3  <<(T,blue) item def>> [[psysml:d8185bfd-cc57-4585-aec6-0a59765b9e32 ]] {\r\n",
       "}\r\n",
       "comp usage \"b: B\" as E4  <<(T,blue) item>> [[psysml:867e3ff9-f74d-45bb-974d-3b3d8373197d ]] {\r\n",
       "}\r\n",
       "comp usage \"c: C\" as E5  <<(T,blue) part>> [[psysml:cb0d56cf-7b64-416e-8353-0e76041e55a4 ]] {\r\n",
       "}\r\n",
       "comp def \"B\" as E6  <<(T,blue) item def>> [[psysml:cb468909-38eb-4328-9448-1d282e0fd6a5 ]] {\r\n",
       "}\r\n",
       "comp usage \"a: A\" as E7  <<(T,blue) part>> [[psysml:8d68ea76-8496-4a3a-9bac-3b5e10d4f6d7 ]] {\r\n",
       "}\r\n",
       "comp def \"C\" as E8  <<(T,blue) part def>> [[psysml:3d841289-74ad-422d-b7f3-bdfc719d6361 ]] {\r\n",
       "}\r\n",
       "comp def \"P\" as E9  <<(T,blue) port def>> [[psysml:192666b5-43c5-4ec0-a40a-8ab471017ca3 ]] {\r\n",
       "}\r\n",
       "comp usage \"a1: A\" as E10  <<(T,blue) item>> [[psysml:a2436968-c74d-4c9f-bf2a-127bcc502b4e ]] {\r\n",
       "}\r\n",
       "comp usage \"a2: A\" as E11  <<(T,blue) item>> [[psysml:6388cc28-f9be-476c-ad05-d9ff93971fbb ]] {\r\n",
       "}\r\n",
       "}\r\n",
       "E2 - -:|> E3 [[psysml:24dbd283-1078-40f8-9dda-86d7de7bac74 ]] \r\n",
       "E3 *- - \"1\"E4 [[psysml:9f51e7d9-1020-406a-8433-de0298038040 ]] \r\n",
       "E3 o- - \"1\"E5 [[psysml:7a936c29-0528-4da5-855d-3be7e5f4e113 ]] \r\n",
       "E4 - -:|> E6 [[psysml:860f4e4a-475c-4d3a-a05e-585111d40739 ]] \r\n",
       "E6 *- - \"1\"E7 [[psysml:01396c82-09da-45aa-ba0c-a7dad5741ff2 ]] \r\n",
       "E7 - -:|> E3 [[psysml:d97708ca-1830-4e5e-bf07-a2aabe0546e8 ]] \r\n",
       "E5 - -:|> E8 [[psysml:75f754af-bdfa-473b-8cbb-d11c609ad500 ]] \r\n",
       "E8 o- - E3 [[psysml:aa35edca-3910-4cd9-97ff-300d5c8627fc ]] : y\r\n",
       "E8 o- - E6 [[psysml:aa35edca-3910-4cd9-97ff-300d5c8627fc ]] : y\r\n",
       "E9 o- - \"1\"E10 [[psysml:cf1da376-637e-4400-b815-716d62b1c417 ]] \r\n",
       "E10 - -:|> E3 [[psysml:4cf35cfc-841e-4847-875d-1ebad6bb61b9 ]] \r\n",
       "E9 o- - \"1\"E11 [[psysml:bd05daaf-8002-489d-bbfa-6134af678ace ]] \r\n",
       "E11 - -:|> E3 [[psysml:31e39f64-1f8d-4b2c-be98-c1459e5d6e94 ]] \r\n",
       "@enduml\r\n",
       "\n",
       "PlantUML version 1.2020.13(Sat Jun 13 12:26:38 UTC 2020)\n",
       "(EPL source distribution)\n",
       "Java Runtime: OpenJDK Runtime Environment\n",
       "JVM: OpenJDK 64-Bit Server VM\n",
       "Default Encoding: UTF-8\n",
       "Language: en\n",
       "Country: null\n",
       "--></g></svg>"
      ]
     },
     "execution_count": 3,
     "metadata": {},
     "output_type": "execute_result"
    }
   ],
   "source": [
    "%viz --style=\"COMPTREE\" --view=\"Tree\" \"ItemTest\""
   ]
  },
  {
   "cell_type": "code",
   "execution_count": 4,
   "id": "e78f556e",
   "metadata": {
    "execution": {
     "iopub.execute_input": "2021-10-03T08:27:26.435635Z",
     "iopub.status.busy": "2021-10-03T08:27:26.435222Z",
     "iopub.status.idle": "2021-10-03T08:27:26.444162Z",
     "shell.execute_reply": "2021-10-03T08:27:26.444481Z"
    }
   },
   "outputs": [
    {
     "data": {
      "image/svg+xml": [
       "<?xml version=\"1.0\" encoding=\"UTF-8\" standalone=\"no\"?><svg xmlns=\"http://www.w3.org/2000/svg\" xmlns:xlink=\"http://www.w3.org/1999/xlink\" contentScriptType=\"application/ecmascript\" contentStyleType=\"text/css\" height=\"12px\" preserveAspectRatio=\"none\" style=\"width:12px;height:12px;\" version=\"1.1\" viewBox=\"0 0 12 12\" width=\"12px\" zoomAndPan=\"magnify\"><defs/><g><!--MD5=[f19188ef49e11757b5c46753f95d9edc]\n",
       "@startuml\r\n",
       " skinparam monochrome true\r\n",
       "skinparam classbackgroundcolor white\r\n",
       "skinparam shadowing false\r\n",
       "skinparam wrapWidth 300\r\n",
       "hide circle\r\n",
       "\r\n",
       "@enduml\r\n",
       "\n",
       "PlantUML version 1.2020.13(Sat Jun 13 12:26:38 UTC 2020)\n",
       "(EPL source distribution)\n",
       "Java Runtime: OpenJDK Runtime Environment\n",
       "JVM: OpenJDK 64-Bit Server VM\n",
       "Default Encoding: UTF-8\n",
       "Language: en\n",
       "Country: null\n",
       "--></g></svg>"
      ]
     },
     "execution_count": 4,
     "metadata": {},
     "output_type": "execute_result"
    }
   ],
   "source": [
    "%viz --style=\"COMPTREE\" --view=\"State\" \"ItemTest\""
   ]
  },
  {
   "cell_type": "code",
   "execution_count": 5,
   "id": "c4dfe540",
   "metadata": {
    "execution": {
     "iopub.execute_input": "2021-10-03T08:27:26.494824Z",
     "iopub.status.busy": "2021-10-03T08:27:26.494417Z",
     "iopub.status.idle": "2021-10-03T08:27:26.536269Z",
     "shell.execute_reply": "2021-10-03T08:27:26.536586Z"
    }
   },
   "outputs": [
    {
     "data": {
      "image/svg+xml": [
       "<?xml version=\"1.0\" encoding=\"UTF-8\" standalone=\"no\"?><svg xmlns=\"http://www.w3.org/2000/svg\" xmlns:xlink=\"http://www.w3.org/1999/xlink\" contentScriptType=\"application/ecmascript\" contentStyleType=\"text/css\" height=\"112px\" preserveAspectRatio=\"none\" style=\"width:548px;height:112px;\" version=\"1.1\" viewBox=\"0 0 548 112\" width=\"548px\" zoomAndPan=\"magnify\"><defs/><g><!--MD5=[fbc87193dbaf4d95561dea2c320d4a47]\n",
       "cluster E1--><a href=\"psysml:1bc06463-7392-4b34-87d6-1f1d6784670a\" target=\"_top\" title=\"psysml:1bc06463-7392-4b34-87d6-1f1d6784670a\" xlink:actuate=\"onRequest\" xlink:href=\"psysml:1bc06463-7392-4b34-87d6-1f1d6784670a\" xlink:show=\"new\" xlink:title=\"psysml:1bc06463-7392-4b34-87d6-1f1d6784670a\" xlink:type=\"simple\"><polygon fill=\"#FFFFFF\" points=\"16,6,83,6,90,28.2969,526,28.2969,526,100,16,100,16,6\" style=\"stroke: #000000; stroke-width: 1.5;\"/><line style=\"stroke: #000000; stroke-width: 1.5;\" x1=\"16\" x2=\"90\" y1=\"28.2969\" y2=\"28.2969\"/><text fill=\"#000000\" font-family=\"sans-serif\" font-size=\"14\" font-weight=\"bold\" lengthAdjust=\"spacingAndGlyphs\" textLength=\"61\" x=\"20\" y=\"20.9951\">ItemTest</text></a><g id=\"E1.E3\"><a href=\"psysml:d8185bfd-cc57-4585-aec6-0a59765b9e32\" target=\"_top\" title=\"psysml:d8185bfd-cc57-4585-aec6-0a59765b9e32\" xlink:actuate=\"onRequest\" xlink:href=\"psysml:d8185bfd-cc57-4585-aec6-0a59765b9e32\" xlink:show=\"new\" xlink:title=\"psysml:d8185bfd-cc57-4585-aec6-0a59765b9e32\" xlink:type=\"simple\"><rect fill=\"#FFFFFF\" height=\"42.9375\" id=\"E3\" style=\"stroke: #383838; stroke-width: 1.5;\" width=\"72\" x=\"438\" y=\"41\"/><rect fill=\"#F8F8F8\" height=\"37.9375\" style=\"stroke: #383838; stroke-width: 1.5;\" width=\"72\" x=\"438\" y=\"41\"/><text fill=\"#000000\" font-family=\"sans-serif\" font-size=\"12\" font-style=\"italic\" lengthAdjust=\"spacingAndGlyphs\" textLength=\"65\" x=\"441.5\" y=\"57.1387\">«item def»</text><text fill=\"#000000\" font-family=\"sans-serif\" font-size=\"12\" lengthAdjust=\"spacingAndGlyphs\" textLength=\"8\" x=\"470\" y=\"71.1074\">A</text></a></g><g id=\"E1.E4\"><a href=\"psysml:cb468909-38eb-4328-9448-1d282e0fd6a5\" target=\"_top\" title=\"psysml:cb468909-38eb-4328-9448-1d282e0fd6a5\" xlink:actuate=\"onRequest\" xlink:href=\"psysml:cb468909-38eb-4328-9448-1d282e0fd6a5\" xlink:show=\"new\" xlink:title=\"psysml:cb468909-38eb-4328-9448-1d282e0fd6a5\" xlink:type=\"simple\"><rect fill=\"#FFFFFF\" height=\"42.9375\" id=\"E4\" style=\"stroke: #383838; stroke-width: 1.5;\" width=\"72\" x=\"331\" y=\"41\"/><rect fill=\"#F8F8F8\" height=\"37.9375\" style=\"stroke: #383838; stroke-width: 1.5;\" width=\"72\" x=\"331\" y=\"41\"/><text fill=\"#000000\" font-family=\"sans-serif\" font-size=\"12\" font-style=\"italic\" lengthAdjust=\"spacingAndGlyphs\" textLength=\"65\" x=\"334.5\" y=\"57.1387\">«item def»</text><text fill=\"#000000\" font-family=\"sans-serif\" font-size=\"12\" lengthAdjust=\"spacingAndGlyphs\" textLength=\"8\" x=\"363\" y=\"71.1074\">B</text></a></g><g id=\"E1.E6\"><a href=\"psysml:192666b5-43c5-4ec0-a40a-8ab471017ca3\" target=\"_top\" title=\"psysml:192666b5-43c5-4ec0-a40a-8ab471017ca3\" xlink:actuate=\"onRequest\" xlink:href=\"psysml:192666b5-43c5-4ec0-a40a-8ab471017ca3\" xlink:show=\"new\" xlink:title=\"psysml:192666b5-43c5-4ec0-a40a-8ab471017ca3\" xlink:type=\"simple\"><rect fill=\"#FFFFFF\" height=\"42.9375\" id=\"E6\" style=\"stroke: #383838; stroke-width: 1.5;\" width=\"71\" x=\"224.5\" y=\"41\"/><rect fill=\"#F8F8F8\" height=\"37.9375\" style=\"stroke: #383838; stroke-width: 1.5;\" width=\"71\" x=\"224.5\" y=\"41\"/><text fill=\"#000000\" font-family=\"sans-serif\" font-size=\"12\" font-style=\"italic\" lengthAdjust=\"spacingAndGlyphs\" textLength=\"64\" x=\"228\" y=\"57.1387\">«port def»</text><text fill=\"#000000\" font-family=\"sans-serif\" font-size=\"12\" lengthAdjust=\"spacingAndGlyphs\" textLength=\"8\" x=\"256\" y=\"71.1074\">P</text></a></g><g id=\"E1.E2\"><a href=\"psysml:10e5f196-141c-4ebb-934a-0a8c25223d15\" target=\"_top\" title=\"psysml:10e5f196-141c-4ebb-934a-0a8c25223d15\" xlink:actuate=\"onRequest\" xlink:href=\"psysml:10e5f196-141c-4ebb-934a-0a8c25223d15\" xlink:show=\"new\" xlink:title=\"psysml:10e5f196-141c-4ebb-934a-0a8c25223d15\" xlink:type=\"simple\"><rect fill=\"#FFFFFF\" height=\"42.9375\" id=\"E2\" rx=\"10\" ry=\"10\" style=\"stroke: #383838; stroke-width: 1.5;\" width=\"50\" x=\"139\" y=\"41\"/><rect fill=\"#F8F8F8\" height=\"37.9375\" rx=\"10\" ry=\"10\" style=\"stroke: #F8F8F8; stroke-width: 1.5;\" width=\"50\" x=\"139\" y=\"41\"/><rect fill=\"#F8F8F8\" height=\"10\" style=\"stroke: #F8F8F8; stroke-width: 1.5;\" width=\"50\" x=\"139\" y=\"68.9375\"/><rect fill=\"none\" height=\"42.9375\" id=\"E2\" rx=\"10\" ry=\"10\" style=\"stroke: #383838; stroke-width: 1.5;\" width=\"50\" x=\"139\" y=\"41\"/><text fill=\"#000000\" font-family=\"sans-serif\" font-size=\"12\" font-style=\"italic\" lengthAdjust=\"spacingAndGlyphs\" textLength=\"41\" x=\"143.5\" y=\"57.1387\">«item»</text><text fill=\"#000000\" font-family=\"sans-serif\" font-size=\"12\" lengthAdjust=\"spacingAndGlyphs\" textLength=\"20\" x=\"154\" y=\"71.1074\">f: A</text></a></g><g id=\"E1.E5\"><a href=\"psysml:3d841289-74ad-422d-b7f3-bdfc719d6361\" target=\"_top\" title=\"psysml:3d841289-74ad-422d-b7f3-bdfc719d6361\" xlink:actuate=\"onRequest\" xlink:href=\"psysml:3d841289-74ad-422d-b7f3-bdfc719d6361\" xlink:show=\"new\" xlink:title=\"psysml:3d841289-74ad-422d-b7f3-bdfc719d6361\" xlink:type=\"simple\"><rect fill=\"#FFFFFF\" height=\"42.9375\" id=\"E5\" style=\"stroke: #383838; stroke-width: 1.5;\" width=\"71\" x=\"32.5\" y=\"41\"/><rect fill=\"#F8F8F8\" height=\"37.9375\" style=\"stroke: #383838; stroke-width: 1.5;\" width=\"71\" x=\"32.5\" y=\"41\"/><text fill=\"#000000\" font-family=\"sans-serif\" font-size=\"12\" font-style=\"italic\" lengthAdjust=\"spacingAndGlyphs\" textLength=\"64\" x=\"36\" y=\"57.1387\">«part def»</text><text fill=\"#000000\" font-family=\"sans-serif\" font-size=\"12\" lengthAdjust=\"spacingAndGlyphs\" textLength=\"8\" x=\"64\" y=\"71.1074\">C</text></a></g><!--MD5=[68fbe446160c820155f4911445e372b7]\n",
       "@startuml\r\n",
       "skinparam ranksep 10\r\n",
       "skinparam rectangle {\r\n",
       " backgroundColor<<block>> LightGreen\r\n",
       "}\r\n",
       " skinparam monochrome true\r\n",
       "skinparam classbackgroundcolor white\r\n",
       "skinparam shadowing false\r\n",
       "skinparam wrapWidth 300\r\n",
       "hide circle\r\n",
       "\r\n",
       "package \"ItemTest\" as E1  [[psysml:1bc06463-7392-4b34-87d6-1f1d6784670a ]]  {\r\n",
       "rec usage \"f: A\" as E2  <<(T,blue) item>> [[psysml:10e5f196-141c-4ebb-934a-0a8c25223d15 ]] {\r\n",
       "}\r\n",
       "def \"A\" as E3  <<(T,blue) item def>> [[psysml:d8185bfd-cc57-4585-aec6-0a59765b9e32 ]] \r\n",
       "def \"B\" as E4  <<(T,blue) item def>> [[psysml:cb468909-38eb-4328-9448-1d282e0fd6a5 ]] \r\n",
       "rec def \"C\" as E5  <<(T,blue) part def>> [[psysml:3d841289-74ad-422d-b7f3-bdfc719d6361 ]] {\r\n",
       "}\r\n",
       "def \"P\" as E6  <<(T,blue) port def>> [[psysml:192666b5-43c5-4ec0-a40a-8ab471017ca3 ]] \r\n",
       "}\r\n",
       "@enduml\r\n",
       "\n",
       "PlantUML version 1.2020.13(Sat Jun 13 12:26:38 UTC 2020)\n",
       "(EPL source distribution)\n",
       "Java Runtime: OpenJDK Runtime Environment\n",
       "JVM: OpenJDK 64-Bit Server VM\n",
       "Default Encoding: UTF-8\n",
       "Language: en\n",
       "Country: null\n",
       "--></g></svg>"
      ]
     },
     "execution_count": 5,
     "metadata": {},
     "output_type": "execute_result"
    }
   ],
   "source": [
    "%viz --style=\"COMPTREE\" --view=\"Interconnection\" \"ItemTest\""
   ]
  },
  {
   "cell_type": "code",
   "execution_count": 6,
   "id": "3863659c",
   "metadata": {
    "execution": {
     "iopub.execute_input": "2021-10-03T08:27:26.586744Z",
     "iopub.status.busy": "2021-10-03T08:27:26.586333Z",
     "iopub.status.idle": "2021-10-03T08:27:26.594833Z",
     "shell.execute_reply": "2021-10-03T08:27:26.595148Z"
    }
   },
   "outputs": [
    {
     "data": {
      "image/svg+xml": [
       "<?xml version=\"1.0\" encoding=\"UTF-8\" standalone=\"no\"?><svg xmlns=\"http://www.w3.org/2000/svg\" xmlns:xlink=\"http://www.w3.org/1999/xlink\" contentScriptType=\"application/ecmascript\" contentStyleType=\"text/css\" height=\"12px\" preserveAspectRatio=\"none\" style=\"width:12px;height:12px;\" version=\"1.1\" viewBox=\"0 0 12 12\" width=\"12px\" zoomAndPan=\"magnify\"><defs/><g><!--MD5=[655b888544ca4751ea36af1068543f84]\n",
       "@startuml\r\n",
       "skinparam ranksep 8\r\n",
       " skinparam monochrome true\r\n",
       "skinparam classbackgroundcolor white\r\n",
       "skinparam shadowing false\r\n",
       "skinparam wrapWidth 300\r\n",
       "hide circle\r\n",
       "\r\n",
       "@enduml\r\n",
       "\n",
       "PlantUML version 1.2020.13(Sat Jun 13 12:26:38 UTC 2020)\n",
       "(EPL source distribution)\n",
       "Java Runtime: OpenJDK Runtime Environment\n",
       "JVM: OpenJDK 64-Bit Server VM\n",
       "Default Encoding: UTF-8\n",
       "Language: en\n",
       "Country: null\n",
       "--></g></svg>"
      ]
     },
     "execution_count": 6,
     "metadata": {},
     "output_type": "execute_result"
    }
   ],
   "source": [
    "%viz --style=\"COMPTREE\" --view=\"Action\" \"ItemTest\""
   ]
  },
  {
   "cell_type": "code",
   "execution_count": 7,
   "id": "887ac779",
   "metadata": {
    "execution": {
     "iopub.execute_input": "2021-10-03T08:27:26.645537Z",
     "iopub.status.busy": "2021-10-03T08:27:26.645132Z",
     "iopub.status.idle": "2021-10-03T08:27:26.658081Z",
     "shell.execute_reply": "2021-10-03T08:27:26.658394Z"
    }
   },
   "outputs": [
    {
     "data": {
      "image/svg+xml": [
       "<?xml version=\"1.0\" encoding=\"UTF-8\" standalone=\"no\"?><svg xmlns=\"http://www.w3.org/2000/svg\" xmlns:xlink=\"http://www.w3.org/1999/xlink\" contentScriptType=\"application/ecmascript\" contentStyleType=\"text/css\" height=\"12px\" preserveAspectRatio=\"none\" style=\"width:12px;height:12px;\" version=\"1.1\" viewBox=\"0 0 12 12\" width=\"12px\" zoomAndPan=\"magnify\"><defs/><g><!--MD5=[803fc46c337be7a5c8a9831e35356779]\n",
       "@startuml\r\n",
       "skinparam roundcorner 20\r\n",
       "skinparam BoxPadding 20\r\n",
       "skinparam SequenceBoxBackgroundColor #white\r\n",
       "skinparam style strictuml\r\n",
       "skinparam maxMessageSize 100\r\n",
       " skinparam monochrome true\r\n",
       "skinparam classbackgroundcolor white\r\n",
       "skinparam shadowing false\r\n",
       "skinparam wrapWidth 300\r\n",
       "hide circle\r\n",
       "\r\n",
       "@enduml\r\n",
       "\n",
       "PlantUML version 1.2020.13(Sat Jun 13 12:26:38 UTC 2020)\n",
       "(EPL source distribution)\n",
       "Java Runtime: OpenJDK Runtime Environment\n",
       "JVM: OpenJDK 64-Bit Server VM\n",
       "Default Encoding: UTF-8\n",
       "Language: en\n",
       "Country: null\n",
       "--></g></svg>"
      ]
     },
     "execution_count": 7,
     "metadata": {},
     "output_type": "execute_result"
    }
   ],
   "source": [
    "%viz --style=\"COMPTREE\" --view=\"Sequence\" \"ItemTest\""
   ]
  },
  {
   "cell_type": "code",
   "execution_count": 8,
   "id": "9b6e92f9",
   "metadata": {
    "execution": {
     "iopub.execute_input": "2021-10-03T08:27:26.708634Z",
     "iopub.status.busy": "2021-10-03T08:27:26.708230Z",
     "iopub.status.idle": "2021-10-03T08:27:26.789051Z",
     "shell.execute_reply": "2021-10-03T08:27:26.788681Z"
    }
   },
   "outputs": [
    {
     "data": {
      "image/svg+xml": [
       "<?xml version=\"1.0\" encoding=\"UTF-8\" standalone=\"no\"?><svg xmlns=\"http://www.w3.org/2000/svg\" xmlns:xlink=\"http://www.w3.org/1999/xlink\" contentScriptType=\"application/ecmascript\" contentStyleType=\"text/css\" height=\"818px\" preserveAspectRatio=\"none\" style=\"width:270px;height:818px;\" version=\"1.1\" viewBox=\"0 0 270 818\" width=\"270px\" zoomAndPan=\"magnify\"><defs/><g><!--MD5=[fbc87193dbaf4d95561dea2c320d4a47]\n",
       "cluster E1--><a href=\"psysml:1bc06463-7392-4b34-87d6-1f1d6784670a\" target=\"_top\" title=\"psysml:1bc06463-7392-4b34-87d6-1f1d6784670a\" xlink:actuate=\"onRequest\" xlink:href=\"psysml:1bc06463-7392-4b34-87d6-1f1d6784670a\" xlink:show=\"new\" xlink:title=\"psysml:1bc06463-7392-4b34-87d6-1f1d6784670a\" xlink:type=\"simple\"><polygon fill=\"#FFFFFF\" points=\"16,6,83,6,90,28.2969,248,28.2969,248,806,16,806,16,6\" style=\"stroke: #000000; stroke-width: 1.5;\"/><line style=\"stroke: #000000; stroke-width: 1.5;\" x1=\"16\" x2=\"90\" y1=\"28.2969\" y2=\"28.2969\"/><text fill=\"#000000\" font-family=\"sans-serif\" font-size=\"14\" font-weight=\"bold\" lengthAdjust=\"spacingAndGlyphs\" textLength=\"61\" x=\"20\" y=\"20.9951\">ItemTest</text></a><!--MD5=[b4997ac47864f28c2f74865a473b2911]\n",
       "class E2--><a href=\"psysml:10e5f196-141c-4ebb-934a-0a8c25223d15\" target=\"_top\" title=\"psysml:10e5f196-141c-4ebb-934a-0a8c25223d15\" xlink:actuate=\"onRequest\" xlink:href=\"psysml:10e5f196-141c-4ebb-934a-0a8c25223d15\" xlink:show=\"new\" xlink:title=\"psysml:10e5f196-141c-4ebb-934a-0a8c25223d15\" xlink:type=\"simple\"><rect fill=\"#FFFFFF\" height=\"45.9375\" id=\"E2\" rx=\"10\" ry=\"10\" style=\"stroke: #383838; stroke-width: 1.5;\" width=\"43\" x=\"188.5\" y=\"148\"/><text fill=\"#000000\" font-family=\"sans-serif\" font-size=\"12\" font-style=\"italic\" lengthAdjust=\"spacingAndGlyphs\" textLength=\"41\" x=\"189.5\" y=\"164.1387\">«item»</text><text fill=\"#000000\" font-family=\"sans-serif\" font-size=\"12\" lengthAdjust=\"spacingAndGlyphs\" textLength=\"20\" x=\"200\" y=\"178.1074\">f: A</text><line style=\"stroke: #383838; stroke-width: 1.5;\" x1=\"189.5\" x2=\"230.5\" y1=\"185.9375\" y2=\"185.9375\"/></a><!--MD5=[09b614a08d8cba4a07c9adeb5e0fee81]\n",
       "class E3--><a href=\"psysml:d8185bfd-cc57-4585-aec6-0a59765b9e32\" target=\"_top\" title=\"psysml:d8185bfd-cc57-4585-aec6-0a59765b9e32\" xlink:actuate=\"onRequest\" xlink:href=\"psysml:d8185bfd-cc57-4585-aec6-0a59765b9e32\" xlink:show=\"new\" xlink:title=\"psysml:d8185bfd-cc57-4585-aec6-0a59765b9e32\" xlink:type=\"simple\"><rect fill=\"#FFFFFF\" height=\"45.9375\" id=\"E3\" style=\"stroke: #383838; stroke-width: 1.5;\" width=\"67\" x=\"98.5\" y=\"255\"/><text fill=\"#000000\" font-family=\"sans-serif\" font-size=\"12\" font-style=\"italic\" lengthAdjust=\"spacingAndGlyphs\" textLength=\"65\" x=\"99.5\" y=\"271.1387\">«item def»</text><text fill=\"#000000\" font-family=\"sans-serif\" font-size=\"12\" lengthAdjust=\"spacingAndGlyphs\" textLength=\"8\" x=\"128\" y=\"285.1074\">A</text><line style=\"stroke: #383838; stroke-width: 1.5;\" x1=\"99.5\" x2=\"164.5\" y1=\"292.9375\" y2=\"292.9375\"/></a><!--MD5=[ebbe1d658d1005bcc118a6aa81145e00]\n",
       "class E4--><a href=\"psysml:867e3ff9-f74d-45bb-974d-3b3d8373197d\" target=\"_top\" title=\"psysml:867e3ff9-f74d-45bb-974d-3b3d8373197d\" xlink:actuate=\"onRequest\" xlink:href=\"psysml:867e3ff9-f74d-45bb-974d-3b3d8373197d\" xlink:show=\"new\" xlink:title=\"psysml:867e3ff9-f74d-45bb-974d-3b3d8373197d\" xlink:type=\"simple\"><rect fill=\"#FFFFFF\" height=\"45.9375\" id=\"E4\" rx=\"10\" ry=\"10\" style=\"stroke: #383838; stroke-width: 1.5;\" width=\"43\" x=\"45.5\" y=\"438\"/><text fill=\"#000000\" font-family=\"sans-serif\" font-size=\"12\" font-style=\"italic\" lengthAdjust=\"spacingAndGlyphs\" textLength=\"41\" x=\"46.5\" y=\"454.1387\">«item»</text><text fill=\"#000000\" font-family=\"sans-serif\" font-size=\"12\" lengthAdjust=\"spacingAndGlyphs\" textLength=\"24\" x=\"55\" y=\"468.1074\">b: B</text><line style=\"stroke: #383838; stroke-width: 1.5;\" x1=\"46.5\" x2=\"87.5\" y1=\"475.9375\" y2=\"475.9375\"/></a><!--MD5=[270fce915f116d4de14055a7c1d9a0f3]\n",
       "class E5--><a href=\"psysml:cb0d56cf-7b64-416e-8353-0e76041e55a4\" target=\"_top\" title=\"psysml:cb0d56cf-7b64-416e-8353-0e76041e55a4\" xlink:actuate=\"onRequest\" xlink:href=\"psysml:cb0d56cf-7b64-416e-8353-0e76041e55a4\" xlink:show=\"new\" xlink:title=\"psysml:cb0d56cf-7b64-416e-8353-0e76041e55a4\" xlink:type=\"simple\"><rect fill=\"#FFFFFF\" height=\"45.9375\" id=\"E5\" rx=\"10\" ry=\"10\" style=\"stroke: #383838; stroke-width: 1.5;\" width=\"42\" x=\"151\" y=\"362\"/><text fill=\"#000000\" font-family=\"sans-serif\" font-size=\"12\" font-style=\"italic\" lengthAdjust=\"spacingAndGlyphs\" textLength=\"40\" x=\"152\" y=\"378.1387\">«part»</text><text fill=\"#000000\" font-family=\"sans-serif\" font-size=\"12\" lengthAdjust=\"spacingAndGlyphs\" textLength=\"23\" x=\"160.5\" y=\"392.1074\">c: C</text><line style=\"stroke: #383838; stroke-width: 1.5;\" x1=\"152\" x2=\"192\" y1=\"399.9375\" y2=\"399.9375\"/></a><!--MD5=[60a26617385b1d2d0262a64233df1f8d]\n",
       "class E6--><a href=\"psysml:cb468909-38eb-4328-9448-1d282e0fd6a5\" target=\"_top\" title=\"psysml:cb468909-38eb-4328-9448-1d282e0fd6a5\" xlink:actuate=\"onRequest\" xlink:href=\"psysml:cb468909-38eb-4328-9448-1d282e0fd6a5\" xlink:show=\"new\" xlink:title=\"psysml:cb468909-38eb-4328-9448-1d282e0fd6a5\" xlink:type=\"simple\"><rect fill=\"#FFFFFF\" height=\"45.9375\" id=\"E6\" style=\"stroke: #383838; stroke-width: 1.5;\" width=\"67\" x=\"114.5\" y=\"637\"/><text fill=\"#000000\" font-family=\"sans-serif\" font-size=\"12\" font-style=\"italic\" lengthAdjust=\"spacingAndGlyphs\" textLength=\"65\" x=\"115.5\" y=\"653.1387\">«item def»</text><text fill=\"#000000\" font-family=\"sans-serif\" font-size=\"12\" lengthAdjust=\"spacingAndGlyphs\" textLength=\"8\" x=\"144\" y=\"667.1074\">B</text><line style=\"stroke: #383838; stroke-width: 1.5;\" x1=\"115.5\" x2=\"180.5\" y1=\"674.9375\" y2=\"674.9375\"/></a><!--MD5=[2156ba9850f5573cc1fc38a6a4b2f02b]\n",
       "class E7--><a href=\"psysml:8d68ea76-8496-4a3a-9bac-3b5e10d4f6d7\" target=\"_top\" title=\"psysml:8d68ea76-8496-4a3a-9bac-3b5e10d4f6d7\" xlink:actuate=\"onRequest\" xlink:href=\"psysml:8d68ea76-8496-4a3a-9bac-3b5e10d4f6d7\" xlink:show=\"new\" xlink:title=\"psysml:8d68ea76-8496-4a3a-9bac-3b5e10d4f6d7\" xlink:type=\"simple\"><rect fill=\"#FFFFFF\" height=\"45.9375\" id=\"E7\" rx=\"10\" ry=\"10\" style=\"stroke: #383838; stroke-width: 1.5;\" width=\"42\" x=\"159\" y=\"744\"/><text fill=\"#000000\" font-family=\"sans-serif\" font-size=\"12\" font-style=\"italic\" lengthAdjust=\"spacingAndGlyphs\" textLength=\"40\" x=\"160\" y=\"760.1387\">«part»</text><text fill=\"#000000\" font-family=\"sans-serif\" font-size=\"12\" lengthAdjust=\"spacingAndGlyphs\" textLength=\"24\" x=\"168\" y=\"774.1074\">a: A</text><line style=\"stroke: #383838; stroke-width: 1.5;\" x1=\"160\" x2=\"200\" y1=\"781.9375\" y2=\"781.9375\"/></a><!--MD5=[b9389687b975829384b498ac4b7476b2]\n",
       "class E8--><a href=\"psysml:3d841289-74ad-422d-b7f3-bdfc719d6361\" target=\"_top\" title=\"psysml:3d841289-74ad-422d-b7f3-bdfc719d6361\" xlink:actuate=\"onRequest\" xlink:href=\"psysml:3d841289-74ad-422d-b7f3-bdfc719d6361\" xlink:show=\"new\" xlink:title=\"psysml:3d841289-74ad-422d-b7f3-bdfc719d6361\" xlink:type=\"simple\"><rect fill=\"#FFFFFF\" height=\"45.9375\" id=\"E8\" style=\"stroke: #383838; stroke-width: 1.5;\" width=\"66\" x=\"115\" y=\"514\"/><text fill=\"#000000\" font-family=\"sans-serif\" font-size=\"12\" font-style=\"italic\" lengthAdjust=\"spacingAndGlyphs\" textLength=\"64\" x=\"116\" y=\"530.1387\">«part def»</text><text fill=\"#000000\" font-family=\"sans-serif\" font-size=\"12\" lengthAdjust=\"spacingAndGlyphs\" textLength=\"8\" x=\"144\" y=\"544.1074\">C</text><line style=\"stroke: #383838; stroke-width: 1.5;\" x1=\"116\" x2=\"180\" y1=\"551.9375\" y2=\"551.9375\"/></a><!--MD5=[fd4143e9d270a159db93a4ea2a975926]\n",
       "class E9--><a href=\"psysml:192666b5-43c5-4ec0-a40a-8ab471017ca3\" target=\"_top\" title=\"psysml:192666b5-43c5-4ec0-a40a-8ab471017ca3\" xlink:actuate=\"onRequest\" xlink:href=\"psysml:192666b5-43c5-4ec0-a40a-8ab471017ca3\" xlink:show=\"new\" xlink:title=\"psysml:192666b5-43c5-4ec0-a40a-8ab471017ca3\" xlink:type=\"simple\"><rect fill=\"#FFFFFF\" height=\"45.9375\" id=\"E9\" style=\"stroke: #383838; stroke-width: 1.5;\" width=\"66\" x=\"65\" y=\"41\"/><text fill=\"#000000\" font-family=\"sans-serif\" font-size=\"12\" font-style=\"italic\" lengthAdjust=\"spacingAndGlyphs\" textLength=\"64\" x=\"66\" y=\"57.1387\">«port def»</text><text fill=\"#000000\" font-family=\"sans-serif\" font-size=\"12\" lengthAdjust=\"spacingAndGlyphs\" textLength=\"8\" x=\"94\" y=\"71.1074\">P</text><line style=\"stroke: #383838; stroke-width: 1.5;\" x1=\"66\" x2=\"130\" y1=\"78.9375\" y2=\"78.9375\"/></a><!--MD5=[96f4274e9e20536e775497830990834d]\n",
       "class E10--><a href=\"psysml:a2436968-c74d-4c9f-bf2a-127bcc502b4e\" target=\"_top\" title=\"psysml:a2436968-c74d-4c9f-bf2a-127bcc502b4e\" xlink:actuate=\"onRequest\" xlink:href=\"psysml:a2436968-c74d-4c9f-bf2a-127bcc502b4e\" xlink:show=\"new\" xlink:title=\"psysml:a2436968-c74d-4c9f-bf2a-127bcc502b4e\" xlink:type=\"simple\"><rect fill=\"#FFFFFF\" height=\"45.9375\" id=\"E10\" rx=\"10\" ry=\"10\" style=\"stroke: #383838; stroke-width: 1.5;\" width=\"43\" x=\"32.5\" y=\"148\"/><text fill=\"#000000\" font-family=\"sans-serif\" font-size=\"12\" font-style=\"italic\" lengthAdjust=\"spacingAndGlyphs\" textLength=\"41\" x=\"33.5\" y=\"164.1387\">«item»</text><text fill=\"#000000\" font-family=\"sans-serif\" font-size=\"12\" lengthAdjust=\"spacingAndGlyphs\" textLength=\"32\" x=\"38\" y=\"178.1074\">a1: A</text><line style=\"stroke: #383838; stroke-width: 1.5;\" x1=\"33.5\" x2=\"74.5\" y1=\"185.9375\" y2=\"185.9375\"/></a><!--MD5=[1dd1bfd58a279cf63c5f349dbc8fc6a1]\n",
       "class E11--><a href=\"psysml:6388cc28-f9be-476c-ad05-d9ff93971fbb\" target=\"_top\" title=\"psysml:6388cc28-f9be-476c-ad05-d9ff93971fbb\" xlink:actuate=\"onRequest\" xlink:href=\"psysml:6388cc28-f9be-476c-ad05-d9ff93971fbb\" xlink:show=\"new\" xlink:title=\"psysml:6388cc28-f9be-476c-ad05-d9ff93971fbb\" xlink:type=\"simple\"><rect fill=\"#FFFFFF\" height=\"45.9375\" id=\"E11\" rx=\"10\" ry=\"10\" style=\"stroke: #383838; stroke-width: 1.5;\" width=\"43\" x=\"110.5\" y=\"148\"/><text fill=\"#000000\" font-family=\"sans-serif\" font-size=\"12\" font-style=\"italic\" lengthAdjust=\"spacingAndGlyphs\" textLength=\"41\" x=\"111.5\" y=\"164.1387\">«item»</text><text fill=\"#000000\" font-family=\"sans-serif\" font-size=\"12\" lengthAdjust=\"spacingAndGlyphs\" textLength=\"32\" x=\"116\" y=\"178.1074\">a2: A</text><line style=\"stroke: #383838; stroke-width: 1.5;\" x1=\"111.5\" x2=\"152.5\" y1=\"185.9375\" y2=\"185.9375\"/></a><!--MD5=[2720a5a1f2c3fca2055b230370638851]\n",
       "link E2 to E3--><a href=\"psysml:24dbd283-1078-40f8-9dda-86d7de7bac74\" target=\"_top\" title=\"psysml:24dbd283-1078-40f8-9dda-86d7de7bac74\" xlink:actuate=\"onRequest\" xlink:href=\"psysml:24dbd283-1078-40f8-9dda-86d7de7bac74\" xlink:show=\"new\" xlink:title=\"psysml:24dbd283-1078-40f8-9dda-86d7de7bac74\" xlink:type=\"simple\"><path d=\"M193.65,194.01 C184.14,206.81 171.89,223.3 160.82,238.2 \" fill=\"none\" id=\"E2-&gt;E3\" style=\"stroke: #383838; stroke-width: 1.0;\"/><polygon fill=\"#FFFFFF\" points=\"148.6,254.66,154.3195,235.2361,165.5543,243.5896,148.6,254.66\" style=\"stroke: #383838; stroke-width: 1.0;\"/><ellipse cx=\"159.3256\" cy=\"231.8554\" fill=\"#383838\" rx=\"2\" ry=\"2\" style=\"stroke: #383838; stroke-width: 1.0;\"/><ellipse cx=\"167.3504\" cy=\"237.8221\" fill=\"#383838\" rx=\"2\" ry=\"2\" style=\"stroke: #383838; stroke-width: 1.0;\"/></a><!--MD5=[4672eba38e49728da53d11aeb285b987]\n",
       "reverse link E3 to E4--><a href=\"psysml:9f51e7d9-1020-406a-8433-de0298038040\" target=\"_top\" title=\"psysml:9f51e7d9-1020-406a-8433-de0298038040\" xlink:actuate=\"onRequest\" xlink:href=\"psysml:9f51e7d9-1020-406a-8433-de0298038040\" xlink:show=\"new\" xlink:title=\"psysml:9f51e7d9-1020-406a-8433-de0298038040\" xlink:type=\"simple\"><path d=\"M97.11,310.9 C84.08,325.11 70.81,342.94 64,362 C55.12,386.85 58.09,417.53 61.82,437.88 \" fill=\"none\" id=\"E3&lt;-E4\" style=\"stroke: #383838; stroke-width: 1.0;\"/><polygon fill=\"#383838\" points=\"106.46,301.23,99.4153,302.7703,98.1277,309.8655,105.1724,308.3252,106.46,301.23\" style=\"stroke: #383838; stroke-width: 1.0;\"/><text fill=\"#000000\" font-family=\"sans-serif\" font-size=\"13\" lengthAdjust=\"spacingAndGlyphs\" textLength=\"8\" x=\"51.3529\" y=\"426.744\">1</text></a><!--MD5=[191cde3d490a3f6d7bb551fe3ddca469]\n",
       "reverse link E3 to E5--><a href=\"psysml:7a936c29-0528-4da5-855d-3be7e5f4e113\" target=\"_top\" title=\"psysml:7a936c29-0528-4da5-855d-3be7e5f4e113\" xlink:actuate=\"onRequest\" xlink:href=\"psysml:7a936c29-0528-4da5-855d-3be7e5f4e113\" xlink:show=\"new\" xlink:title=\"psysml:7a936c29-0528-4da5-855d-3be7e5f4e113\" xlink:type=\"simple\"><path d=\"M145.17,313.57 C151.2,329.39 158.16,347.68 163.49,361.66 \" fill=\"none\" id=\"E3&lt;-E5\" style=\"stroke: #383838; stroke-width: 1.0;\"/><polygon fill=\"#FFFFFF\" points=\"140.39,301.01,138.7866,308.0406,144.6598,312.2247,146.2631,305.1941,140.39,301.01\" style=\"stroke: #383838; stroke-width: 1.0;\"/><text fill=\"#000000\" font-family=\"sans-serif\" font-size=\"13\" lengthAdjust=\"spacingAndGlyphs\" textLength=\"8\" x=\"152.2843\" y=\"350.8492\">1</text></a><!--MD5=[79568f1e445c3877b6a54524624ccc7d]\n",
       "link E4 to E6--><a href=\"psysml:860f4e4a-475c-4d3a-a05e-585111d40739\" target=\"_top\" title=\"psysml:860f4e4a-475c-4d3a-a05e-585111d40739\" xlink:actuate=\"onRequest\" xlink:href=\"psysml:860f4e4a-475c-4d3a-a05e-585111d40739\" xlink:show=\"new\" xlink:title=\"psysml:860f4e4a-475c-4d3a-a05e-585111d40739\" xlink:type=\"simple\"><path d=\"M72.9,484.16 C78.52,504.26 87.63,534.55 98,560 C106.11,579.9 116.66,601.27 125.97,619.04 \" fill=\"none\" id=\"E4-&gt;E6\" style=\"stroke: #383838; stroke-width: 1.0;\"/><polygon fill=\"#FFFFFF\" points=\"135.42,636.68,120.2696,623.2463,132.6064,616.628,135.42,636.68\" style=\"stroke: #383838; stroke-width: 1.0;\"/><ellipse cx=\"119.3374\" cy=\"617.2779\" fill=\"#383838\" rx=\"2\" ry=\"2\" style=\"stroke: #383838; stroke-width: 1.0;\"/><ellipse cx=\"128.1494\" cy=\"612.5506\" fill=\"#383838\" rx=\"2\" ry=\"2\" style=\"stroke: #383838; stroke-width: 1.0;\"/></a><!--MD5=[3f50a3473f1dfb74d3f76443e03635af]\n",
       "reverse link E6 to E7--><a href=\"psysml:01396c82-09da-45aa-ba0c-a7dad5741ff2\" target=\"_top\" title=\"psysml:01396c82-09da-45aa-ba0c-a7dad5741ff2\" xlink:actuate=\"onRequest\" xlink:href=\"psysml:01396c82-09da-45aa-ba0c-a7dad5741ff2\" xlink:show=\"new\" xlink:title=\"psysml:01396c82-09da-45aa-ba0c-a7dad5741ff2\" xlink:type=\"simple\"><path d=\"M158.54,695.57 C163.36,711.39 168.93,729.68 173.19,743.66 \" fill=\"none\" id=\"E6&lt;-E7\" style=\"stroke: #383838; stroke-width: 1.0;\"/><polygon fill=\"#383838\" points=\"154.71,683.01,152.6319,689.9152,158.2066,694.4893,160.2847,687.5841,154.71,683.01\" style=\"stroke: #383838; stroke-width: 1.0;\"/><text fill=\"#000000\" font-family=\"sans-serif\" font-size=\"13\" lengthAdjust=\"spacingAndGlyphs\" textLength=\"8\" x=\"162.4199\" y=\"732.8492\">1</text></a><!--MD5=[14ccda38c055a5c0da953d572bc50960]\n",
       "link E7 to E3--><a href=\"psysml:d97708ca-1830-4e5e-bf07-a2aabe0546e8\" target=\"_top\" title=\"psysml:d97708ca-1830-4e5e-bf07-a2aabe0546e8\" xlink:actuate=\"onRequest\" xlink:href=\"psysml:d97708ca-1830-4e5e-bf07-a2aabe0546e8\" xlink:show=\"new\" xlink:title=\"psysml:d97708ca-1830-4e5e-bf07-a2aabe0546e8\" xlink:type=\"simple\"><path d=\"M197.41,743.63 C211.5,723.27 229,691.78 229,661 C229,384 229,384 229,384 C229,353 205.9,327.25 182.25,309.01 \" fill=\"none\" id=\"E7-&gt;E3\" style=\"stroke: #383838; stroke-width: 1.0;\"/><polygon fill=\"#FFFFFF\" points=\"165.65,297.35,185.219,302.5513,177.1671,314.004,165.65,297.35\" style=\"stroke: #383838; stroke-width: 1.0;\"/><ellipse cx=\"188.7317\" cy=\"307.4657\" fill=\"#383838\" rx=\"2\" ry=\"2\" style=\"stroke: #383838; stroke-width: 1.0;\"/><ellipse cx=\"182.9803\" cy=\"315.6462\" fill=\"#383838\" rx=\"2\" ry=\"2\" style=\"stroke: #383838; stroke-width: 1.0;\"/></a><!--MD5=[dfaffb906826c3e5aca635516100ff21]\n",
       "link E5 to E8--><a href=\"psysml:75f754af-bdfa-473b-8cbb-d11c609ad500\" target=\"_top\" title=\"psysml:75f754af-bdfa-473b-8cbb-d11c609ad500\" xlink:actuate=\"onRequest\" xlink:href=\"psysml:75f754af-bdfa-473b-8cbb-d11c609ad500\" xlink:show=\"new\" xlink:title=\"psysml:75f754af-bdfa-473b-8cbb-d11c609ad500\" xlink:type=\"simple\"><path d=\"M168.46,408.13 C164.86,430.62 159.2,466.01 154.74,493.87 \" fill=\"none\" id=\"E5-&gt;E8\" style=\"stroke: #383838; stroke-width: 1.0;\"/><polygon fill=\"#FFFFFF\" points=\"151.56,513.78,147.6458,493.9135,161.4704,496.1226,151.56,513.78\" style=\"stroke: #383838; stroke-width: 1.0;\"/><ellipse cx=\"150.5202\" cy=\"488.6005\" fill=\"#383838\" rx=\"2\" ry=\"2\" style=\"stroke: #383838; stroke-width: 1.0;\"/><ellipse cx=\"160.3949\" cy=\"490.1784\" fill=\"#383838\" rx=\"2\" ry=\"2\" style=\"stroke: #383838; stroke-width: 1.0;\"/></a><!--MD5=[03c8294790d3c57651a1993cecff665f]\n",
       "reverse link E8 to E3--><a href=\"psysml:aa35edca-3910-4cd9-97ff-300d5c8627fc\" target=\"_top\" title=\"psysml:aa35edca-3910-4cd9-97ff-300d5c8627fc\" xlink:actuate=\"onRequest\" xlink:href=\"psysml:aa35edca-3910-4cd9-97ff-300d5c8627fc\" xlink:show=\"new\" xlink:title=\"psysml:aa35edca-3910-4cd9-97ff-300d5c8627fc\" xlink:type=\"simple\"><path d=\"M140.02,501.22 C134.57,475.6 127.84,439.84 125,408 C123.18,387.64 124.14,382.43 125,362 C125.87,341.34 127.95,317.86 129.62,301.16 \" fill=\"none\" id=\"E8&lt;-E3\" style=\"stroke: #383838; stroke-width: 1.0;\"/><polygon fill=\"#FFFFFF\" points=\"142.81,513.96,145.4388,507.2451,140.2515,502.2359,137.6227,508.9508,142.81,513.96\" style=\"stroke: #383838; stroke-width: 1.0;\"/><text fill=\"#000000\" font-family=\"sans-serif\" font-size=\"13\" lengthAdjust=\"spacingAndGlyphs\" textLength=\"7\" x=\"126\" y=\"389.5669\">y</text></a><!--MD5=[0d75d2178373a6a4568e5dc728f58aef]\n",
       "reverse link E8 to E6--><a href=\"psysml:aa35edca-3910-4cd9-97ff-300d5c8627fc\" target=\"_top\" title=\"psysml:aa35edca-3910-4cd9-97ff-300d5c8627fc\" xlink:actuate=\"onRequest\" xlink:href=\"psysml:aa35edca-3910-4cd9-97ff-300d5c8627fc\" xlink:show=\"new\" xlink:title=\"psysml:aa35edca-3910-4cd9-97ff-300d5c8627fc\" xlink:type=\"simple\"><path d=\"M148,573.22 C148,593.81 148,619.16 148,636.95 \" fill=\"none\" id=\"E8&lt;-E6\" style=\"stroke: #383838; stroke-width: 1.0;\"/><polygon fill=\"#FFFFFF\" points=\"148,560.19,144,566.19,148,572.19,152,566.19,148,560.19\" style=\"stroke: #383838; stroke-width: 1.0;\"/><text fill=\"#000000\" font-family=\"sans-serif\" font-size=\"13\" lengthAdjust=\"spacingAndGlyphs\" textLength=\"7\" x=\"149\" y=\"603.0669\">y</text></a><!--MD5=[23ac544a70576c3e717098101004234c]\n",
       "reverse link E9 to E10--><a href=\"psysml:cf1da376-637e-4400-b815-716d62b1c417\" target=\"_top\" title=\"psysml:cf1da376-637e-4400-b815-716d62b1c417\" xlink:actuate=\"onRequest\" xlink:href=\"psysml:cf1da376-637e-4400-b815-716d62b1c417\" xlink:show=\"new\" xlink:title=\"psysml:cf1da376-637e-4400-b815-716d62b1c417\" xlink:type=\"simple\"><path d=\"M83.71,99.1 C77.04,115.03 69.28,133.54 63.36,147.66 \" fill=\"none\" id=\"E9&lt;-E10\" style=\"stroke: #383838; stroke-width: 1.0;\"/><polygon fill=\"#FFFFFF\" points=\"88.78,87.01,82.7702,90.9953,84.1375,98.0756,90.1473,94.0903,88.78,87.01\" style=\"stroke: #383838; stroke-width: 1.0;\"/><text fill=\"#000000\" font-family=\"sans-serif\" font-size=\"13\" lengthAdjust=\"spacingAndGlyphs\" textLength=\"8\" x=\"56.7335\" y=\"136.8492\">1</text></a><!--MD5=[feeac5eb423634930294aa81f2d25a4c]\n",
       "link E10 to E3--><a href=\"psysml:4cf35cfc-841e-4847-875d-1ebad6bb61b9\" target=\"_top\" title=\"psysml:4cf35cfc-841e-4847-875d-1ebad6bb61b9\" xlink:actuate=\"onRequest\" xlink:href=\"psysml:4cf35cfc-841e-4847-875d-1ebad6bb61b9\" xlink:show=\"new\" xlink:title=\"psysml:4cf35cfc-841e-4847-875d-1ebad6bb61b9\" xlink:type=\"simple\"><path d=\"M70.35,194.01 C79.86,206.81 92.11,223.3 103.18,238.2 \" fill=\"none\" id=\"E10-&gt;E3\" style=\"stroke: #383838; stroke-width: 1.0;\"/><polygon fill=\"#FFFFFF\" points=\"115.4,254.66,98.4457,243.5896,109.6805,235.2361,115.4,254.66\" style=\"stroke: #383838; stroke-width: 1.0;\"/><ellipse cx=\"96.6496\" cy=\"237.8221\" fill=\"#383838\" rx=\"2\" ry=\"2\" style=\"stroke: #383838; stroke-width: 1.0;\"/><ellipse cx=\"104.6744\" cy=\"231.8554\" fill=\"#383838\" rx=\"2\" ry=\"2\" style=\"stroke: #383838; stroke-width: 1.0;\"/></a><!--MD5=[1fc04a95fd77ad5ce46c1a3027516051]\n",
       "reverse link E9 to E11--><a href=\"psysml:bd05daaf-8002-489d-bbfa-6134af678ace\" target=\"_top\" title=\"psysml:bd05daaf-8002-489d-bbfa-6134af678ace\" xlink:actuate=\"onRequest\" xlink:href=\"psysml:bd05daaf-8002-489d-bbfa-6134af678ace\" xlink:show=\"new\" xlink:title=\"psysml:bd05daaf-8002-489d-bbfa-6134af678ace\" xlink:type=\"simple\"><path d=\"M109.19,99.57 C114.32,115.39 120.24,133.68 124.76,147.66 \" fill=\"none\" id=\"E9&lt;-E11\" style=\"stroke: #383838; stroke-width: 1.0;\"/><polygon fill=\"#FFFFFF\" points=\"105.13,87.01,103.1699,93.9496,108.8217,98.428,110.7819,91.4884,105.13,87.01\" style=\"stroke: #383838; stroke-width: 1.0;\"/><text fill=\"#000000\" font-family=\"sans-serif\" font-size=\"13\" lengthAdjust=\"spacingAndGlyphs\" textLength=\"8\" x=\"113.8798\" y=\"136.8492\">1</text></a><!--MD5=[0517f1ce58c4d5483948f93845c45e26]\n",
       "link E11 to E3--><a href=\"psysml:31e39f64-1f8d-4b2c-be98-c1459e5d6e94\" target=\"_top\" title=\"psysml:31e39f64-1f8d-4b2c-be98-c1459e5d6e94\" xlink:actuate=\"onRequest\" xlink:href=\"psysml:31e39f64-1f8d-4b2c-be98-c1459e5d6e94\" xlink:show=\"new\" xlink:title=\"psysml:31e39f64-1f8d-4b2c-be98-c1459e5d6e94\" xlink:type=\"simple\"><path d=\"M132,194.01 C132,205.69 132,220.46 132,234.28 \" fill=\"none\" id=\"E11-&gt;E3\" style=\"stroke: #383838; stroke-width: 1.0;\"/><polygon fill=\"#FFFFFF\" points=\"132,254.66,125,235.66,139,235.66,132,254.66\" style=\"stroke: #383838; stroke-width: 1.0;\"/><ellipse cx=\"127\" cy=\"229.96\" fill=\"#383838\" rx=\"2\" ry=\"2\" style=\"stroke: #383838; stroke-width: 1.0;\"/><ellipse cx=\"137\" cy=\"229.96\" fill=\"#383838\" rx=\"2\" ry=\"2\" style=\"stroke: #383838; stroke-width: 1.0;\"/></a><!--MD5=[d8d80dfacd4f41b9f2b0716070b23ece]\n",
       "@startuml\r\n",
       " skinparam monochrome true\r\n",
       "skinparam classbackgroundcolor white\r\n",
       "skinparam shadowing false\r\n",
       "skinparam wrapWidth 300\r\n",
       "hide circle\r\n",
       "\r\n",
       "package \"ItemTest\" as E1  [[psysml:1bc06463-7392-4b34-87d6-1f1d6784670a ]]  {\r\n",
       "comp usage \"f: A\" as E2  <<(T,blue) item>> [[psysml:10e5f196-141c-4ebb-934a-0a8c25223d15 ]] {\r\n",
       "}\r\n",
       "comp def \"A\" as E3  <<(T,blue) item def>> [[psysml:d8185bfd-cc57-4585-aec6-0a59765b9e32 ]] {\r\n",
       "}\r\n",
       "comp usage \"b: B\" as E4  <<(T,blue) item>> [[psysml:867e3ff9-f74d-45bb-974d-3b3d8373197d ]] {\r\n",
       "}\r\n",
       "comp usage \"c: C\" as E5  <<(T,blue) part>> [[psysml:cb0d56cf-7b64-416e-8353-0e76041e55a4 ]] {\r\n",
       "}\r\n",
       "comp def \"B\" as E6  <<(T,blue) item def>> [[psysml:cb468909-38eb-4328-9448-1d282e0fd6a5 ]] {\r\n",
       "}\r\n",
       "comp usage \"a: A\" as E7  <<(T,blue) part>> [[psysml:8d68ea76-8496-4a3a-9bac-3b5e10d4f6d7 ]] {\r\n",
       "}\r\n",
       "comp def \"C\" as E8  <<(T,blue) part def>> [[psysml:3d841289-74ad-422d-b7f3-bdfc719d6361 ]] {\r\n",
       "}\r\n",
       "comp def \"P\" as E9  <<(T,blue) port def>> [[psysml:192666b5-43c5-4ec0-a40a-8ab471017ca3 ]] {\r\n",
       "}\r\n",
       "comp usage \"a1: A\" as E10  <<(T,blue) item>> [[psysml:a2436968-c74d-4c9f-bf2a-127bcc502b4e ]] {\r\n",
       "}\r\n",
       "comp usage \"a2: A\" as E11  <<(T,blue) item>> [[psysml:6388cc28-f9be-476c-ad05-d9ff93971fbb ]] {\r\n",
       "}\r\n",
       "}\r\n",
       "E2 - -:|> E3 [[psysml:24dbd283-1078-40f8-9dda-86d7de7bac74 ]] \r\n",
       "E3 *- - \"1\"E4 [[psysml:9f51e7d9-1020-406a-8433-de0298038040 ]] \r\n",
       "E3 o- - \"1\"E5 [[psysml:7a936c29-0528-4da5-855d-3be7e5f4e113 ]] \r\n",
       "E4 - -:|> E6 [[psysml:860f4e4a-475c-4d3a-a05e-585111d40739 ]] \r\n",
       "E6 *- - \"1\"E7 [[psysml:01396c82-09da-45aa-ba0c-a7dad5741ff2 ]] \r\n",
       "E7 - -:|> E3 [[psysml:d97708ca-1830-4e5e-bf07-a2aabe0546e8 ]] \r\n",
       "E5 - -:|> E8 [[psysml:75f754af-bdfa-473b-8cbb-d11c609ad500 ]] \r\n",
       "E8 o- - E3 [[psysml:aa35edca-3910-4cd9-97ff-300d5c8627fc ]] : y\r\n",
       "E8 o- - E6 [[psysml:aa35edca-3910-4cd9-97ff-300d5c8627fc ]] : y\r\n",
       "E9 o- - \"1\"E10 [[psysml:cf1da376-637e-4400-b815-716d62b1c417 ]] \r\n",
       "E10 - -:|> E3 [[psysml:4cf35cfc-841e-4847-875d-1ebad6bb61b9 ]] \r\n",
       "E9 o- - \"1\"E11 [[psysml:bd05daaf-8002-489d-bbfa-6134af678ace ]] \r\n",
       "E11 - -:|> E3 [[psysml:31e39f64-1f8d-4b2c-be98-c1459e5d6e94 ]] \r\n",
       "@enduml\r\n",
       "\n",
       "PlantUML version 1.2020.13(Sat Jun 13 12:26:38 UTC 2020)\n",
       "(EPL source distribution)\n",
       "Java Runtime: OpenJDK Runtime Environment\n",
       "JVM: OpenJDK 64-Bit Server VM\n",
       "Default Encoding: UTF-8\n",
       "Language: en\n",
       "Country: null\n",
       "--></g></svg>"
      ]
     },
     "execution_count": 8,
     "metadata": {},
     "output_type": "execute_result"
    }
   ],
   "source": [
    "%viz --style=\"COMPTREE\" --view=\"MIXED\" \"ItemTest\""
   ]
  },
  {
   "cell_type": "code",
   "execution_count": 9,
   "id": "13c4e04e",
   "metadata": {
    "execution": {
     "iopub.execute_input": "2021-10-03T08:27:26.838424Z",
     "iopub.status.busy": "2021-10-03T08:27:26.837996Z",
     "iopub.status.idle": "2021-10-03T08:27:26.900883Z",
     "shell.execute_reply": "2021-10-03T08:27:26.898707Z"
    }
   },
   "outputs": [
    {
     "data": {
      "image/svg+xml": [
       "<?xml version=\"1.0\" encoding=\"UTF-8\" standalone=\"no\"?><svg xmlns=\"http://www.w3.org/2000/svg\" xmlns:xlink=\"http://www.w3.org/1999/xlink\" contentScriptType=\"application/ecmascript\" contentStyleType=\"text/css\" height=\"818px\" preserveAspectRatio=\"none\" style=\"width:270px;height:818px;\" version=\"1.1\" viewBox=\"0 0 270 818\" width=\"270px\" zoomAndPan=\"magnify\"><defs/><g><!--MD5=[fbc87193dbaf4d95561dea2c320d4a47]\n",
       "cluster E1--><a href=\"psysml:1bc06463-7392-4b34-87d6-1f1d6784670a\" target=\"_top\" title=\"psysml:1bc06463-7392-4b34-87d6-1f1d6784670a\" xlink:actuate=\"onRequest\" xlink:href=\"psysml:1bc06463-7392-4b34-87d6-1f1d6784670a\" xlink:show=\"new\" xlink:title=\"psysml:1bc06463-7392-4b34-87d6-1f1d6784670a\" xlink:type=\"simple\"><polygon fill=\"#FFFFFF\" points=\"16,6,83,6,90,28.2969,248,28.2969,248,806,16,806,16,6\" style=\"stroke: #000000; stroke-width: 1.5;\"/><line style=\"stroke: #000000; stroke-width: 1.5;\" x1=\"16\" x2=\"90\" y1=\"28.2969\" y2=\"28.2969\"/><text fill=\"#000000\" font-family=\"sans-serif\" font-size=\"14\" font-weight=\"bold\" lengthAdjust=\"spacingAndGlyphs\" textLength=\"61\" x=\"20\" y=\"20.9951\">ItemTest</text></a><!--MD5=[b4997ac47864f28c2f74865a473b2911]\n",
       "class E2--><a href=\"psysml:10e5f196-141c-4ebb-934a-0a8c25223d15\" target=\"_top\" title=\"psysml:10e5f196-141c-4ebb-934a-0a8c25223d15\" xlink:actuate=\"onRequest\" xlink:href=\"psysml:10e5f196-141c-4ebb-934a-0a8c25223d15\" xlink:show=\"new\" xlink:title=\"psysml:10e5f196-141c-4ebb-934a-0a8c25223d15\" xlink:type=\"simple\"><rect fill=\"#FFFFFF\" height=\"45.9375\" id=\"E2\" rx=\"10\" ry=\"10\" style=\"stroke: #383838; stroke-width: 1.5;\" width=\"43\" x=\"188.5\" y=\"148\"/><text fill=\"#000000\" font-family=\"sans-serif\" font-size=\"12\" font-style=\"italic\" lengthAdjust=\"spacingAndGlyphs\" textLength=\"41\" x=\"189.5\" y=\"164.1387\">«item»</text><text fill=\"#000000\" font-family=\"sans-serif\" font-size=\"12\" lengthAdjust=\"spacingAndGlyphs\" textLength=\"20\" x=\"200\" y=\"178.1074\">f: A</text><line style=\"stroke: #383838; stroke-width: 1.5;\" x1=\"189.5\" x2=\"230.5\" y1=\"185.9375\" y2=\"185.9375\"/></a><!--MD5=[09b614a08d8cba4a07c9adeb5e0fee81]\n",
       "class E3--><a href=\"psysml:d8185bfd-cc57-4585-aec6-0a59765b9e32\" target=\"_top\" title=\"psysml:d8185bfd-cc57-4585-aec6-0a59765b9e32\" xlink:actuate=\"onRequest\" xlink:href=\"psysml:d8185bfd-cc57-4585-aec6-0a59765b9e32\" xlink:show=\"new\" xlink:title=\"psysml:d8185bfd-cc57-4585-aec6-0a59765b9e32\" xlink:type=\"simple\"><rect fill=\"#FFFFFF\" height=\"45.9375\" id=\"E3\" style=\"stroke: #383838; stroke-width: 1.5;\" width=\"67\" x=\"98.5\" y=\"255\"/><text fill=\"#000000\" font-family=\"sans-serif\" font-size=\"12\" font-style=\"italic\" lengthAdjust=\"spacingAndGlyphs\" textLength=\"65\" x=\"99.5\" y=\"271.1387\">«item def»</text><text fill=\"#000000\" font-family=\"sans-serif\" font-size=\"12\" lengthAdjust=\"spacingAndGlyphs\" textLength=\"8\" x=\"128\" y=\"285.1074\">A</text><line style=\"stroke: #383838; stroke-width: 1.5;\" x1=\"99.5\" x2=\"164.5\" y1=\"292.9375\" y2=\"292.9375\"/></a><!--MD5=[ebbe1d658d1005bcc118a6aa81145e00]\n",
       "class E4--><a href=\"psysml:867e3ff9-f74d-45bb-974d-3b3d8373197d\" target=\"_top\" title=\"psysml:867e3ff9-f74d-45bb-974d-3b3d8373197d\" xlink:actuate=\"onRequest\" xlink:href=\"psysml:867e3ff9-f74d-45bb-974d-3b3d8373197d\" xlink:show=\"new\" xlink:title=\"psysml:867e3ff9-f74d-45bb-974d-3b3d8373197d\" xlink:type=\"simple\"><rect fill=\"#FFFFFF\" height=\"45.9375\" id=\"E4\" rx=\"10\" ry=\"10\" style=\"stroke: #383838; stroke-width: 1.5;\" width=\"43\" x=\"45.5\" y=\"438\"/><text fill=\"#000000\" font-family=\"sans-serif\" font-size=\"12\" font-style=\"italic\" lengthAdjust=\"spacingAndGlyphs\" textLength=\"41\" x=\"46.5\" y=\"454.1387\">«item»</text><text fill=\"#000000\" font-family=\"sans-serif\" font-size=\"12\" lengthAdjust=\"spacingAndGlyphs\" textLength=\"24\" x=\"55\" y=\"468.1074\">b: B</text><line style=\"stroke: #383838; stroke-width: 1.5;\" x1=\"46.5\" x2=\"87.5\" y1=\"475.9375\" y2=\"475.9375\"/></a><!--MD5=[270fce915f116d4de14055a7c1d9a0f3]\n",
       "class E5--><a href=\"psysml:cb0d56cf-7b64-416e-8353-0e76041e55a4\" target=\"_top\" title=\"psysml:cb0d56cf-7b64-416e-8353-0e76041e55a4\" xlink:actuate=\"onRequest\" xlink:href=\"psysml:cb0d56cf-7b64-416e-8353-0e76041e55a4\" xlink:show=\"new\" xlink:title=\"psysml:cb0d56cf-7b64-416e-8353-0e76041e55a4\" xlink:type=\"simple\"><rect fill=\"#FFFFFF\" height=\"45.9375\" id=\"E5\" rx=\"10\" ry=\"10\" style=\"stroke: #383838; stroke-width: 1.5;\" width=\"42\" x=\"151\" y=\"362\"/><text fill=\"#000000\" font-family=\"sans-serif\" font-size=\"12\" font-style=\"italic\" lengthAdjust=\"spacingAndGlyphs\" textLength=\"40\" x=\"152\" y=\"378.1387\">«part»</text><text fill=\"#000000\" font-family=\"sans-serif\" font-size=\"12\" lengthAdjust=\"spacingAndGlyphs\" textLength=\"23\" x=\"160.5\" y=\"392.1074\">c: C</text><line style=\"stroke: #383838; stroke-width: 1.5;\" x1=\"152\" x2=\"192\" y1=\"399.9375\" y2=\"399.9375\"/></a><!--MD5=[60a26617385b1d2d0262a64233df1f8d]\n",
       "class E6--><a href=\"psysml:cb468909-38eb-4328-9448-1d282e0fd6a5\" target=\"_top\" title=\"psysml:cb468909-38eb-4328-9448-1d282e0fd6a5\" xlink:actuate=\"onRequest\" xlink:href=\"psysml:cb468909-38eb-4328-9448-1d282e0fd6a5\" xlink:show=\"new\" xlink:title=\"psysml:cb468909-38eb-4328-9448-1d282e0fd6a5\" xlink:type=\"simple\"><rect fill=\"#FFFFFF\" height=\"45.9375\" id=\"E6\" style=\"stroke: #383838; stroke-width: 1.5;\" width=\"67\" x=\"114.5\" y=\"637\"/><text fill=\"#000000\" font-family=\"sans-serif\" font-size=\"12\" font-style=\"italic\" lengthAdjust=\"spacingAndGlyphs\" textLength=\"65\" x=\"115.5\" y=\"653.1387\">«item def»</text><text fill=\"#000000\" font-family=\"sans-serif\" font-size=\"12\" lengthAdjust=\"spacingAndGlyphs\" textLength=\"8\" x=\"144\" y=\"667.1074\">B</text><line style=\"stroke: #383838; stroke-width: 1.5;\" x1=\"115.5\" x2=\"180.5\" y1=\"674.9375\" y2=\"674.9375\"/></a><!--MD5=[2156ba9850f5573cc1fc38a6a4b2f02b]\n",
       "class E7--><a href=\"psysml:8d68ea76-8496-4a3a-9bac-3b5e10d4f6d7\" target=\"_top\" title=\"psysml:8d68ea76-8496-4a3a-9bac-3b5e10d4f6d7\" xlink:actuate=\"onRequest\" xlink:href=\"psysml:8d68ea76-8496-4a3a-9bac-3b5e10d4f6d7\" xlink:show=\"new\" xlink:title=\"psysml:8d68ea76-8496-4a3a-9bac-3b5e10d4f6d7\" xlink:type=\"simple\"><rect fill=\"#FFFFFF\" height=\"45.9375\" id=\"E7\" rx=\"10\" ry=\"10\" style=\"stroke: #383838; stroke-width: 1.5;\" width=\"42\" x=\"159\" y=\"744\"/><text fill=\"#000000\" font-family=\"sans-serif\" font-size=\"12\" font-style=\"italic\" lengthAdjust=\"spacingAndGlyphs\" textLength=\"40\" x=\"160\" y=\"760.1387\">«part»</text><text fill=\"#000000\" font-family=\"sans-serif\" font-size=\"12\" lengthAdjust=\"spacingAndGlyphs\" textLength=\"24\" x=\"168\" y=\"774.1074\">a: A</text><line style=\"stroke: #383838; stroke-width: 1.5;\" x1=\"160\" x2=\"200\" y1=\"781.9375\" y2=\"781.9375\"/></a><!--MD5=[b9389687b975829384b498ac4b7476b2]\n",
       "class E8--><a href=\"psysml:3d841289-74ad-422d-b7f3-bdfc719d6361\" target=\"_top\" title=\"psysml:3d841289-74ad-422d-b7f3-bdfc719d6361\" xlink:actuate=\"onRequest\" xlink:href=\"psysml:3d841289-74ad-422d-b7f3-bdfc719d6361\" xlink:show=\"new\" xlink:title=\"psysml:3d841289-74ad-422d-b7f3-bdfc719d6361\" xlink:type=\"simple\"><rect fill=\"#FFFFFF\" height=\"45.9375\" id=\"E8\" style=\"stroke: #383838; stroke-width: 1.5;\" width=\"66\" x=\"115\" y=\"514\"/><text fill=\"#000000\" font-family=\"sans-serif\" font-size=\"12\" font-style=\"italic\" lengthAdjust=\"spacingAndGlyphs\" textLength=\"64\" x=\"116\" y=\"530.1387\">«part def»</text><text fill=\"#000000\" font-family=\"sans-serif\" font-size=\"12\" lengthAdjust=\"spacingAndGlyphs\" textLength=\"8\" x=\"144\" y=\"544.1074\">C</text><line style=\"stroke: #383838; stroke-width: 1.5;\" x1=\"116\" x2=\"180\" y1=\"551.9375\" y2=\"551.9375\"/></a><!--MD5=[fd4143e9d270a159db93a4ea2a975926]\n",
       "class E9--><a href=\"psysml:192666b5-43c5-4ec0-a40a-8ab471017ca3\" target=\"_top\" title=\"psysml:192666b5-43c5-4ec0-a40a-8ab471017ca3\" xlink:actuate=\"onRequest\" xlink:href=\"psysml:192666b5-43c5-4ec0-a40a-8ab471017ca3\" xlink:show=\"new\" xlink:title=\"psysml:192666b5-43c5-4ec0-a40a-8ab471017ca3\" xlink:type=\"simple\"><rect fill=\"#FFFFFF\" height=\"45.9375\" id=\"E9\" style=\"stroke: #383838; stroke-width: 1.5;\" width=\"66\" x=\"65\" y=\"41\"/><text fill=\"#000000\" font-family=\"sans-serif\" font-size=\"12\" font-style=\"italic\" lengthAdjust=\"spacingAndGlyphs\" textLength=\"64\" x=\"66\" y=\"57.1387\">«port def»</text><text fill=\"#000000\" font-family=\"sans-serif\" font-size=\"12\" lengthAdjust=\"spacingAndGlyphs\" textLength=\"8\" x=\"94\" y=\"71.1074\">P</text><line style=\"stroke: #383838; stroke-width: 1.5;\" x1=\"66\" x2=\"130\" y1=\"78.9375\" y2=\"78.9375\"/></a><!--MD5=[96f4274e9e20536e775497830990834d]\n",
       "class E10--><a href=\"psysml:a2436968-c74d-4c9f-bf2a-127bcc502b4e\" target=\"_top\" title=\"psysml:a2436968-c74d-4c9f-bf2a-127bcc502b4e\" xlink:actuate=\"onRequest\" xlink:href=\"psysml:a2436968-c74d-4c9f-bf2a-127bcc502b4e\" xlink:show=\"new\" xlink:title=\"psysml:a2436968-c74d-4c9f-bf2a-127bcc502b4e\" xlink:type=\"simple\"><rect fill=\"#FFFFFF\" height=\"45.9375\" id=\"E10\" rx=\"10\" ry=\"10\" style=\"stroke: #383838; stroke-width: 1.5;\" width=\"43\" x=\"32.5\" y=\"148\"/><text fill=\"#000000\" font-family=\"sans-serif\" font-size=\"12\" font-style=\"italic\" lengthAdjust=\"spacingAndGlyphs\" textLength=\"41\" x=\"33.5\" y=\"164.1387\">«item»</text><text fill=\"#000000\" font-family=\"sans-serif\" font-size=\"12\" lengthAdjust=\"spacingAndGlyphs\" textLength=\"32\" x=\"38\" y=\"178.1074\">a1: A</text><line style=\"stroke: #383838; stroke-width: 1.5;\" x1=\"33.5\" x2=\"74.5\" y1=\"185.9375\" y2=\"185.9375\"/></a><!--MD5=[1dd1bfd58a279cf63c5f349dbc8fc6a1]\n",
       "class E11--><a href=\"psysml:6388cc28-f9be-476c-ad05-d9ff93971fbb\" target=\"_top\" title=\"psysml:6388cc28-f9be-476c-ad05-d9ff93971fbb\" xlink:actuate=\"onRequest\" xlink:href=\"psysml:6388cc28-f9be-476c-ad05-d9ff93971fbb\" xlink:show=\"new\" xlink:title=\"psysml:6388cc28-f9be-476c-ad05-d9ff93971fbb\" xlink:type=\"simple\"><rect fill=\"#FFFFFF\" height=\"45.9375\" id=\"E11\" rx=\"10\" ry=\"10\" style=\"stroke: #383838; stroke-width: 1.5;\" width=\"43\" x=\"110.5\" y=\"148\"/><text fill=\"#000000\" font-family=\"sans-serif\" font-size=\"12\" font-style=\"italic\" lengthAdjust=\"spacingAndGlyphs\" textLength=\"41\" x=\"111.5\" y=\"164.1387\">«item»</text><text fill=\"#000000\" font-family=\"sans-serif\" font-size=\"12\" lengthAdjust=\"spacingAndGlyphs\" textLength=\"32\" x=\"116\" y=\"178.1074\">a2: A</text><line style=\"stroke: #383838; stroke-width: 1.5;\" x1=\"111.5\" x2=\"152.5\" y1=\"185.9375\" y2=\"185.9375\"/></a><!--MD5=[2720a5a1f2c3fca2055b230370638851]\n",
       "link E2 to E3--><a href=\"psysml:24dbd283-1078-40f8-9dda-86d7de7bac74\" target=\"_top\" title=\"psysml:24dbd283-1078-40f8-9dda-86d7de7bac74\" xlink:actuate=\"onRequest\" xlink:href=\"psysml:24dbd283-1078-40f8-9dda-86d7de7bac74\" xlink:show=\"new\" xlink:title=\"psysml:24dbd283-1078-40f8-9dda-86d7de7bac74\" xlink:type=\"simple\"><path d=\"M193.65,194.01 C184.14,206.81 171.89,223.3 160.82,238.2 \" fill=\"none\" id=\"E2-&gt;E3\" style=\"stroke: #383838; stroke-width: 1.0;\"/><polygon fill=\"#FFFFFF\" points=\"148.6,254.66,154.3195,235.2361,165.5543,243.5896,148.6,254.66\" style=\"stroke: #383838; stroke-width: 1.0;\"/><ellipse cx=\"159.3256\" cy=\"231.8554\" fill=\"#383838\" rx=\"2\" ry=\"2\" style=\"stroke: #383838; stroke-width: 1.0;\"/><ellipse cx=\"167.3504\" cy=\"237.8221\" fill=\"#383838\" rx=\"2\" ry=\"2\" style=\"stroke: #383838; stroke-width: 1.0;\"/></a><!--MD5=[4672eba38e49728da53d11aeb285b987]\n",
       "reverse link E3 to E4--><a href=\"psysml:9f51e7d9-1020-406a-8433-de0298038040\" target=\"_top\" title=\"psysml:9f51e7d9-1020-406a-8433-de0298038040\" xlink:actuate=\"onRequest\" xlink:href=\"psysml:9f51e7d9-1020-406a-8433-de0298038040\" xlink:show=\"new\" xlink:title=\"psysml:9f51e7d9-1020-406a-8433-de0298038040\" xlink:type=\"simple\"><path d=\"M105.34,311.54 C86.29,334.8 64,362 64,362 C64,362 64,408 64,408 C64,408 64.91,423.77 65.73,437.95 \" fill=\"none\" id=\"E3&lt;-E4\" style=\"stroke: #383838; stroke-width: 1.0;\"/><polygon fill=\"#383838\" points=\"113.78,301.24,106.883,303.3449,106.1733,310.521,113.0703,308.4161,113.78,301.24\" style=\"stroke: #383838; stroke-width: 1.0;\"/><text fill=\"#000000\" font-family=\"sans-serif\" font-size=\"13\" lengthAdjust=\"spacingAndGlyphs\" textLength=\"8\" x=\"56.3137\" y=\"426.8328\">1</text></a><!--MD5=[191cde3d490a3f6d7bb551fe3ddca469]\n",
       "reverse link E3 to E5--><a href=\"psysml:7a936c29-0528-4da5-855d-3be7e5f4e113\" target=\"_top\" title=\"psysml:7a936c29-0528-4da5-855d-3be7e5f4e113\" xlink:actuate=\"onRequest\" xlink:href=\"psysml:7a936c29-0528-4da5-855d-3be7e5f4e113\" xlink:show=\"new\" xlink:title=\"psysml:7a936c29-0528-4da5-855d-3be7e5f4e113\" xlink:type=\"simple\"><path d=\"M145.17,313.57 C151.2,329.39 158.16,347.68 163.49,361.66 \" fill=\"none\" id=\"E3&lt;-E5\" style=\"stroke: #383838; stroke-width: 1.0;\"/><polygon fill=\"#FFFFFF\" points=\"140.39,301.01,138.7866,308.0406,144.6598,312.2247,146.2631,305.1941,140.39,301.01\" style=\"stroke: #383838; stroke-width: 1.0;\"/><text fill=\"#000000\" font-family=\"sans-serif\" font-size=\"13\" lengthAdjust=\"spacingAndGlyphs\" textLength=\"8\" x=\"152.2843\" y=\"350.8492\">1</text></a><!--MD5=[79568f1e445c3877b6a54524624ccc7d]\n",
       "link E4 to E6--><a href=\"psysml:860f4e4a-475c-4d3a-a05e-585111d40739\" target=\"_top\" title=\"psysml:860f4e4a-475c-4d3a-a05e-585111d40739\" xlink:actuate=\"onRequest\" xlink:href=\"psysml:860f4e4a-475c-4d3a-a05e-585111d40739\" xlink:show=\"new\" xlink:title=\"psysml:860f4e4a-475c-4d3a-a05e-585111d40739\" xlink:type=\"simple\"><path d=\"M74.03,484.24 C83.18,513.15 98,560 98,560 C98,560 113.78,591.24 127.61,618.63 \" fill=\"none\" id=\"E4-&gt;E6\" style=\"stroke: #383838; stroke-width: 1.0;\"/><polygon fill=\"#FFFFFF\" points=\"136.65,636.54,121.8389,622.733,134.3368,616.4241,136.65,636.54\" style=\"stroke: #383838; stroke-width: 1.0;\"/><ellipse cx=\"121.0557\" cy=\"616.7433\" fill=\"#383838\" rx=\"2\" ry=\"2\" style=\"stroke: #383838; stroke-width: 1.0;\"/><ellipse cx=\"129.9828\" cy=\"612.237\" fill=\"#383838\" rx=\"2\" ry=\"2\" style=\"stroke: #383838; stroke-width: 1.0;\"/></a><!--MD5=[3f50a3473f1dfb74d3f76443e03635af]\n",
       "reverse link E6 to E7--><a href=\"psysml:01396c82-09da-45aa-ba0c-a7dad5741ff2\" target=\"_top\" title=\"psysml:01396c82-09da-45aa-ba0c-a7dad5741ff2\" xlink:actuate=\"onRequest\" xlink:href=\"psysml:01396c82-09da-45aa-ba0c-a7dad5741ff2\" xlink:show=\"new\" xlink:title=\"psysml:01396c82-09da-45aa-ba0c-a7dad5741ff2\" xlink:type=\"simple\"><path d=\"M158.54,695.57 C163.36,711.39 168.93,729.68 173.19,743.66 \" fill=\"none\" id=\"E6&lt;-E7\" style=\"stroke: #383838; stroke-width: 1.0;\"/><polygon fill=\"#383838\" points=\"154.71,683.01,152.6319,689.9152,158.2066,694.4893,160.2847,687.5841,154.71,683.01\" style=\"stroke: #383838; stroke-width: 1.0;\"/><text fill=\"#000000\" font-family=\"sans-serif\" font-size=\"13\" lengthAdjust=\"spacingAndGlyphs\" textLength=\"8\" x=\"162.4199\" y=\"732.8492\">1</text></a><!--MD5=[14ccda38c055a5c0da953d572bc50960]\n",
       "link E7 to E3--><a href=\"psysml:d97708ca-1830-4e5e-bf07-a2aabe0546e8\" target=\"_top\" title=\"psysml:d97708ca-1830-4e5e-bf07-a2aabe0546e8\" xlink:actuate=\"onRequest\" xlink:href=\"psysml:d97708ca-1830-4e5e-bf07-a2aabe0546e8\" xlink:show=\"new\" xlink:title=\"psysml:d97708ca-1830-4e5e-bf07-a2aabe0546e8\" xlink:type=\"simple\"><path d=\"M190.27,743.99 C204.64,713.2 229,661 229,661 C229,384 229,384 229,384 C229,384 211,362 211,362 C211,362 188.27,338.12 167.2,315.98 \" fill=\"none\" id=\"E7-&gt;E3\" style=\"stroke: #383838; stroke-width: 1.0;\"/><polygon fill=\"#FFFFFF\" points=\"153.17,301.24,171.3437,310.1683,161.2072,319.825,153.17,301.24\" style=\"stroke: #383838; stroke-width: 1.0;\"/><ellipse cx=\"173.8273\" cy=\"315.6749\" fill=\"#383838\" rx=\"2\" ry=\"2\" style=\"stroke: #383838; stroke-width: 1.0;\"/><ellipse cx=\"166.5869\" cy=\"322.5725\" fill=\"#383838\" rx=\"2\" ry=\"2\" style=\"stroke: #383838; stroke-width: 1.0;\"/></a><!--MD5=[dfaffb906826c3e5aca635516100ff21]\n",
       "link E5 to E8--><a href=\"psysml:75f754af-bdfa-473b-8cbb-d11c609ad500\" target=\"_top\" title=\"psysml:75f754af-bdfa-473b-8cbb-d11c609ad500\" xlink:actuate=\"onRequest\" xlink:href=\"psysml:75f754af-bdfa-473b-8cbb-d11c609ad500\" xlink:show=\"new\" xlink:title=\"psysml:75f754af-bdfa-473b-8cbb-d11c609ad500\" xlink:type=\"simple\"><path d=\"M168.46,408.13 C164.86,430.62 159.2,466.01 154.74,493.87 \" fill=\"none\" id=\"E5-&gt;E8\" style=\"stroke: #383838; stroke-width: 1.0;\"/><polygon fill=\"#FFFFFF\" points=\"151.56,513.78,147.6458,493.9135,161.4704,496.1226,151.56,513.78\" style=\"stroke: #383838; stroke-width: 1.0;\"/><ellipse cx=\"150.5202\" cy=\"488.6005\" fill=\"#383838\" rx=\"2\" ry=\"2\" style=\"stroke: #383838; stroke-width: 1.0;\"/><ellipse cx=\"160.3949\" cy=\"490.1784\" fill=\"#383838\" rx=\"2\" ry=\"2\" style=\"stroke: #383838; stroke-width: 1.0;\"/></a><!--MD5=[03c8294790d3c57651a1993cecff665f]\n",
       "reverse link E8 to E3--><a href=\"psysml:aa35edca-3910-4cd9-97ff-300d5c8627fc\" target=\"_top\" title=\"psysml:aa35edca-3910-4cd9-97ff-300d5c8627fc\" xlink:actuate=\"onRequest\" xlink:href=\"psysml:aa35edca-3910-4cd9-97ff-300d5c8627fc\" xlink:show=\"new\" xlink:title=\"psysml:aa35edca-3910-4cd9-97ff-300d5c8627fc\" xlink:type=\"simple\"><path d=\"M141.7,500.94 C134.89,463.05 125,408 125,408 C125,408 125,362 125,362 C125,362 128.05,325.83 130.12,301.24 \" fill=\"none\" id=\"E8&lt;-E3\" style=\"stroke: #383838; stroke-width: 1.0;\"/><polygon fill=\"#FFFFFF\" points=\"144.05,514,146.9258,507.3872,141.9277,502.1892,139.0519,508.802,144.05,514\" style=\"stroke: #383838; stroke-width: 1.0;\"/><text fill=\"#000000\" font-family=\"sans-serif\" font-size=\"13\" lengthAdjust=\"spacingAndGlyphs\" textLength=\"7\" x=\"126\" y=\"389.5669\">y</text></a><!--MD5=[0d75d2178373a6a4568e5dc728f58aef]\n",
       "reverse link E8 to E6--><a href=\"psysml:aa35edca-3910-4cd9-97ff-300d5c8627fc\" target=\"_top\" title=\"psysml:aa35edca-3910-4cd9-97ff-300d5c8627fc\" xlink:actuate=\"onRequest\" xlink:href=\"psysml:aa35edca-3910-4cd9-97ff-300d5c8627fc\" xlink:show=\"new\" xlink:title=\"psysml:aa35edca-3910-4cd9-97ff-300d5c8627fc\" xlink:type=\"simple\"><path d=\"M148,573.22 C148,593.81 148,619.16 148,636.95 \" fill=\"none\" id=\"E8&lt;-E6\" style=\"stroke: #383838; stroke-width: 1.0;\"/><polygon fill=\"#FFFFFF\" points=\"148,560.19,144,566.19,148,572.19,152,566.19,148,560.19\" style=\"stroke: #383838; stroke-width: 1.0;\"/><text fill=\"#000000\" font-family=\"sans-serif\" font-size=\"13\" lengthAdjust=\"spacingAndGlyphs\" textLength=\"7\" x=\"149\" y=\"603.0669\">y</text></a><!--MD5=[23ac544a70576c3e717098101004234c]\n",
       "reverse link E9 to E10--><a href=\"psysml:cf1da376-637e-4400-b815-716d62b1c417\" target=\"_top\" title=\"psysml:cf1da376-637e-4400-b815-716d62b1c417\" xlink:actuate=\"onRequest\" xlink:href=\"psysml:cf1da376-637e-4400-b815-716d62b1c417\" xlink:show=\"new\" xlink:title=\"psysml:cf1da376-637e-4400-b815-716d62b1c417\" xlink:type=\"simple\"><path d=\"M83.71,99.1 C77.04,115.03 69.28,133.54 63.36,147.66 \" fill=\"none\" id=\"E9&lt;-E10\" style=\"stroke: #383838; stroke-width: 1.0;\"/><polygon fill=\"#FFFFFF\" points=\"88.78,87.01,82.7702,90.9953,84.1375,98.0756,90.1473,94.0903,88.78,87.01\" style=\"stroke: #383838; stroke-width: 1.0;\"/><text fill=\"#000000\" font-family=\"sans-serif\" font-size=\"13\" lengthAdjust=\"spacingAndGlyphs\" textLength=\"8\" x=\"56.7335\" y=\"136.8492\">1</text></a><!--MD5=[feeac5eb423634930294aa81f2d25a4c]\n",
       "link E10 to E3--><a href=\"psysml:4cf35cfc-841e-4847-875d-1ebad6bb61b9\" target=\"_top\" title=\"psysml:4cf35cfc-841e-4847-875d-1ebad6bb61b9\" xlink:actuate=\"onRequest\" xlink:href=\"psysml:4cf35cfc-841e-4847-875d-1ebad6bb61b9\" xlink:show=\"new\" xlink:title=\"psysml:4cf35cfc-841e-4847-875d-1ebad6bb61b9\" xlink:type=\"simple\"><path d=\"M70.35,194.01 C79.86,206.81 92.11,223.3 103.18,238.2 \" fill=\"none\" id=\"E10-&gt;E3\" style=\"stroke: #383838; stroke-width: 1.0;\"/><polygon fill=\"#FFFFFF\" points=\"115.4,254.66,98.4457,243.5896,109.6805,235.2361,115.4,254.66\" style=\"stroke: #383838; stroke-width: 1.0;\"/><ellipse cx=\"96.6496\" cy=\"237.8221\" fill=\"#383838\" rx=\"2\" ry=\"2\" style=\"stroke: #383838; stroke-width: 1.0;\"/><ellipse cx=\"104.6744\" cy=\"231.8554\" fill=\"#383838\" rx=\"2\" ry=\"2\" style=\"stroke: #383838; stroke-width: 1.0;\"/></a><!--MD5=[1fc04a95fd77ad5ce46c1a3027516051]\n",
       "reverse link E9 to E11--><a href=\"psysml:bd05daaf-8002-489d-bbfa-6134af678ace\" target=\"_top\" title=\"psysml:bd05daaf-8002-489d-bbfa-6134af678ace\" xlink:actuate=\"onRequest\" xlink:href=\"psysml:bd05daaf-8002-489d-bbfa-6134af678ace\" xlink:show=\"new\" xlink:title=\"psysml:bd05daaf-8002-489d-bbfa-6134af678ace\" xlink:type=\"simple\"><path d=\"M109.19,99.57 C114.32,115.39 120.24,133.68 124.76,147.66 \" fill=\"none\" id=\"E9&lt;-E11\" style=\"stroke: #383838; stroke-width: 1.0;\"/><polygon fill=\"#FFFFFF\" points=\"105.13,87.01,103.1699,93.9496,108.8217,98.428,110.7819,91.4884,105.13,87.01\" style=\"stroke: #383838; stroke-width: 1.0;\"/><text fill=\"#000000\" font-family=\"sans-serif\" font-size=\"13\" lengthAdjust=\"spacingAndGlyphs\" textLength=\"8\" x=\"113.8798\" y=\"136.8492\">1</text></a><!--MD5=[0517f1ce58c4d5483948f93845c45e26]\n",
       "link E11 to E3--><a href=\"psysml:31e39f64-1f8d-4b2c-be98-c1459e5d6e94\" target=\"_top\" title=\"psysml:31e39f64-1f8d-4b2c-be98-c1459e5d6e94\" xlink:actuate=\"onRequest\" xlink:href=\"psysml:31e39f64-1f8d-4b2c-be98-c1459e5d6e94\" xlink:show=\"new\" xlink:title=\"psysml:31e39f64-1f8d-4b2c-be98-c1459e5d6e94\" xlink:type=\"simple\"><path d=\"M132,194.01 C132,205.69 132,220.46 132,234.28 \" fill=\"none\" id=\"E11-&gt;E3\" style=\"stroke: #383838; stroke-width: 1.0;\"/><polygon fill=\"#FFFFFF\" points=\"132,254.66,125,235.66,139,235.66,132,254.66\" style=\"stroke: #383838; stroke-width: 1.0;\"/><ellipse cx=\"127\" cy=\"229.96\" fill=\"#383838\" rx=\"2\" ry=\"2\" style=\"stroke: #383838; stroke-width: 1.0;\"/><ellipse cx=\"137\" cy=\"229.96\" fill=\"#383838\" rx=\"2\" ry=\"2\" style=\"stroke: #383838; stroke-width: 1.0;\"/></a><!--MD5=[993a776c3b3ef1ce25d576b7f30c91d3]\n",
       "@startuml\r\n",
       "skinparam linetype polyline\r\n",
       "skinparam monochrome true\r\n",
       "skinparam classbackgroundcolor white\r\n",
       "skinparam shadowing false\r\n",
       "skinparam wrapWidth 300\r\n",
       "hide circle\r\n",
       "\r\n",
       "package \"ItemTest\" as E1  [[psysml:1bc06463-7392-4b34-87d6-1f1d6784670a ]]  {\r\n",
       "comp usage \"f: A\" as E2  <<(T,blue) item>> [[psysml:10e5f196-141c-4ebb-934a-0a8c25223d15 ]] {\r\n",
       "}\r\n",
       "comp def \"A\" as E3  <<(T,blue) item def>> [[psysml:d8185bfd-cc57-4585-aec6-0a59765b9e32 ]] {\r\n",
       "}\r\n",
       "comp usage \"b: B\" as E4  <<(T,blue) item>> [[psysml:867e3ff9-f74d-45bb-974d-3b3d8373197d ]] {\r\n",
       "}\r\n",
       "comp usage \"c: C\" as E5  <<(T,blue) part>> [[psysml:cb0d56cf-7b64-416e-8353-0e76041e55a4 ]] {\r\n",
       "}\r\n",
       "comp def \"B\" as E6  <<(T,blue) item def>> [[psysml:cb468909-38eb-4328-9448-1d282e0fd6a5 ]] {\r\n",
       "}\r\n",
       "comp usage \"a: A\" as E7  <<(T,blue) part>> [[psysml:8d68ea76-8496-4a3a-9bac-3b5e10d4f6d7 ]] {\r\n",
       "}\r\n",
       "comp def \"C\" as E8  <<(T,blue) part def>> [[psysml:3d841289-74ad-422d-b7f3-bdfc719d6361 ]] {\r\n",
       "}\r\n",
       "comp def \"P\" as E9  <<(T,blue) port def>> [[psysml:192666b5-43c5-4ec0-a40a-8ab471017ca3 ]] {\r\n",
       "}\r\n",
       "comp usage \"a1: A\" as E10  <<(T,blue) item>> [[psysml:a2436968-c74d-4c9f-bf2a-127bcc502b4e ]] {\r\n",
       "}\r\n",
       "comp usage \"a2: A\" as E11  <<(T,blue) item>> [[psysml:6388cc28-f9be-476c-ad05-d9ff93971fbb ]] {\r\n",
       "}\r\n",
       "}\r\n",
       "E2 - -:|> E3 [[psysml:24dbd283-1078-40f8-9dda-86d7de7bac74 ]] \r\n",
       "E3 *- - \"1\"E4 [[psysml:9f51e7d9-1020-406a-8433-de0298038040 ]] \r\n",
       "E3 o- - \"1\"E5 [[psysml:7a936c29-0528-4da5-855d-3be7e5f4e113 ]] \r\n",
       "E4 - -:|> E6 [[psysml:860f4e4a-475c-4d3a-a05e-585111d40739 ]] \r\n",
       "E6 *- - \"1\"E7 [[psysml:01396c82-09da-45aa-ba0c-a7dad5741ff2 ]] \r\n",
       "E7 - -:|> E3 [[psysml:d97708ca-1830-4e5e-bf07-a2aabe0546e8 ]] \r\n",
       "E5 - -:|> E8 [[psysml:75f754af-bdfa-473b-8cbb-d11c609ad500 ]] \r\n",
       "E8 o- - E3 [[psysml:aa35edca-3910-4cd9-97ff-300d5c8627fc ]] : y\r\n",
       "E8 o- - E6 [[psysml:aa35edca-3910-4cd9-97ff-300d5c8627fc ]] : y\r\n",
       "E9 o- - \"1\"E10 [[psysml:cf1da376-637e-4400-b815-716d62b1c417 ]] \r\n",
       "E10 - -:|> E3 [[psysml:4cf35cfc-841e-4847-875d-1ebad6bb61b9 ]] \r\n",
       "E9 o- - \"1\"E11 [[psysml:bd05daaf-8002-489d-bbfa-6134af678ace ]] \r\n",
       "E11 - -:|> E3 [[psysml:31e39f64-1f8d-4b2c-be98-c1459e5d6e94 ]] \r\n",
       "@enduml\r\n",
       "\n",
       "PlantUML version 1.2020.13(Sat Jun 13 12:26:38 UTC 2020)\n",
       "(EPL source distribution)\n",
       "Java Runtime: OpenJDK Runtime Environment\n",
       "JVM: OpenJDK 64-Bit Server VM\n",
       "Default Encoding: UTF-8\n",
       "Language: en\n",
       "Country: null\n",
       "--></g></svg>"
      ]
     },
     "execution_count": 9,
     "metadata": {},
     "output_type": "execute_result"
    }
   ],
   "source": [
    "%viz --style=\"POLYLINE\" --view=\"Default\" \"ItemTest\""
   ]
  },
  {
   "cell_type": "code",
   "execution_count": 10,
   "id": "98a50326",
   "metadata": {
    "execution": {
     "iopub.execute_input": "2021-10-03T08:27:26.949456Z",
     "iopub.status.busy": "2021-10-03T08:27:26.948946Z",
     "iopub.status.idle": "2021-10-03T08:27:27.009146Z",
     "shell.execute_reply": "2021-10-03T08:27:27.008765Z"
    }
   },
   "outputs": [
    {
     "data": {
      "image/svg+xml": [
       "<?xml version=\"1.0\" encoding=\"UTF-8\" standalone=\"no\"?><svg xmlns=\"http://www.w3.org/2000/svg\" xmlns:xlink=\"http://www.w3.org/1999/xlink\" contentScriptType=\"application/ecmascript\" contentStyleType=\"text/css\" height=\"818px\" preserveAspectRatio=\"none\" style=\"width:270px;height:818px;\" version=\"1.1\" viewBox=\"0 0 270 818\" width=\"270px\" zoomAndPan=\"magnify\"><defs/><g><!--MD5=[fbc87193dbaf4d95561dea2c320d4a47]\n",
       "cluster E1--><a href=\"psysml:1bc06463-7392-4b34-87d6-1f1d6784670a\" target=\"_top\" title=\"psysml:1bc06463-7392-4b34-87d6-1f1d6784670a\" xlink:actuate=\"onRequest\" xlink:href=\"psysml:1bc06463-7392-4b34-87d6-1f1d6784670a\" xlink:show=\"new\" xlink:title=\"psysml:1bc06463-7392-4b34-87d6-1f1d6784670a\" xlink:type=\"simple\"><polygon fill=\"#FFFFFF\" points=\"16,6,83,6,90,28.2969,248,28.2969,248,806,16,806,16,6\" style=\"stroke: #000000; stroke-width: 1.5;\"/><line style=\"stroke: #000000; stroke-width: 1.5;\" x1=\"16\" x2=\"90\" y1=\"28.2969\" y2=\"28.2969\"/><text fill=\"#000000\" font-family=\"sans-serif\" font-size=\"14\" font-weight=\"bold\" lengthAdjust=\"spacingAndGlyphs\" textLength=\"61\" x=\"20\" y=\"20.9951\">ItemTest</text></a><!--MD5=[b4997ac47864f28c2f74865a473b2911]\n",
       "class E2--><a href=\"psysml:10e5f196-141c-4ebb-934a-0a8c25223d15\" target=\"_top\" title=\"psysml:10e5f196-141c-4ebb-934a-0a8c25223d15\" xlink:actuate=\"onRequest\" xlink:href=\"psysml:10e5f196-141c-4ebb-934a-0a8c25223d15\" xlink:show=\"new\" xlink:title=\"psysml:10e5f196-141c-4ebb-934a-0a8c25223d15\" xlink:type=\"simple\"><rect fill=\"#FFFFFF\" height=\"45.9375\" id=\"E2\" rx=\"10\" ry=\"10\" style=\"stroke: #383838; stroke-width: 1.5;\" width=\"43\" x=\"188.5\" y=\"148\"/><text fill=\"#000000\" font-family=\"sans-serif\" font-size=\"12\" font-style=\"italic\" lengthAdjust=\"spacingAndGlyphs\" textLength=\"41\" x=\"189.5\" y=\"164.1387\">«item»</text><text fill=\"#000000\" font-family=\"sans-serif\" font-size=\"12\" lengthAdjust=\"spacingAndGlyphs\" textLength=\"20\" x=\"200\" y=\"178.1074\">f: A</text><line style=\"stroke: #383838; stroke-width: 1.5;\" x1=\"189.5\" x2=\"230.5\" y1=\"185.9375\" y2=\"185.9375\"/></a><!--MD5=[09b614a08d8cba4a07c9adeb5e0fee81]\n",
       "class E3--><a href=\"psysml:d8185bfd-cc57-4585-aec6-0a59765b9e32\" target=\"_top\" title=\"psysml:d8185bfd-cc57-4585-aec6-0a59765b9e32\" xlink:actuate=\"onRequest\" xlink:href=\"psysml:d8185bfd-cc57-4585-aec6-0a59765b9e32\" xlink:show=\"new\" xlink:title=\"psysml:d8185bfd-cc57-4585-aec6-0a59765b9e32\" xlink:type=\"simple\"><rect fill=\"#FFFFFF\" height=\"45.9375\" id=\"E3\" style=\"stroke: #383838; stroke-width: 1.5;\" width=\"67\" x=\"98.5\" y=\"255\"/><text fill=\"#000000\" font-family=\"sans-serif\" font-size=\"12\" font-style=\"italic\" lengthAdjust=\"spacingAndGlyphs\" textLength=\"65\" x=\"99.5\" y=\"271.1387\">«item def»</text><text fill=\"#000000\" font-family=\"sans-serif\" font-size=\"12\" lengthAdjust=\"spacingAndGlyphs\" textLength=\"8\" x=\"128\" y=\"285.1074\">A</text><line style=\"stroke: #383838; stroke-width: 1.5;\" x1=\"99.5\" x2=\"164.5\" y1=\"292.9375\" y2=\"292.9375\"/></a><!--MD5=[ebbe1d658d1005bcc118a6aa81145e00]\n",
       "class E4--><a href=\"psysml:867e3ff9-f74d-45bb-974d-3b3d8373197d\" target=\"_top\" title=\"psysml:867e3ff9-f74d-45bb-974d-3b3d8373197d\" xlink:actuate=\"onRequest\" xlink:href=\"psysml:867e3ff9-f74d-45bb-974d-3b3d8373197d\" xlink:show=\"new\" xlink:title=\"psysml:867e3ff9-f74d-45bb-974d-3b3d8373197d\" xlink:type=\"simple\"><rect fill=\"#FFFFFF\" height=\"45.9375\" id=\"E4\" rx=\"10\" ry=\"10\" style=\"stroke: #383838; stroke-width: 1.5;\" width=\"43\" x=\"45.5\" y=\"438\"/><text fill=\"#000000\" font-family=\"sans-serif\" font-size=\"12\" font-style=\"italic\" lengthAdjust=\"spacingAndGlyphs\" textLength=\"41\" x=\"46.5\" y=\"454.1387\">«item»</text><text fill=\"#000000\" font-family=\"sans-serif\" font-size=\"12\" lengthAdjust=\"spacingAndGlyphs\" textLength=\"24\" x=\"55\" y=\"468.1074\">b: B</text><line style=\"stroke: #383838; stroke-width: 1.5;\" x1=\"46.5\" x2=\"87.5\" y1=\"475.9375\" y2=\"475.9375\"/></a><!--MD5=[270fce915f116d4de14055a7c1d9a0f3]\n",
       "class E5--><a href=\"psysml:cb0d56cf-7b64-416e-8353-0e76041e55a4\" target=\"_top\" title=\"psysml:cb0d56cf-7b64-416e-8353-0e76041e55a4\" xlink:actuate=\"onRequest\" xlink:href=\"psysml:cb0d56cf-7b64-416e-8353-0e76041e55a4\" xlink:show=\"new\" xlink:title=\"psysml:cb0d56cf-7b64-416e-8353-0e76041e55a4\" xlink:type=\"simple\"><rect fill=\"#FFFFFF\" height=\"45.9375\" id=\"E5\" rx=\"10\" ry=\"10\" style=\"stroke: #383838; stroke-width: 1.5;\" width=\"42\" x=\"151\" y=\"362\"/><text fill=\"#000000\" font-family=\"sans-serif\" font-size=\"12\" font-style=\"italic\" lengthAdjust=\"spacingAndGlyphs\" textLength=\"40\" x=\"152\" y=\"378.1387\">«part»</text><text fill=\"#000000\" font-family=\"sans-serif\" font-size=\"12\" lengthAdjust=\"spacingAndGlyphs\" textLength=\"23\" x=\"160.5\" y=\"392.1074\">c: C</text><line style=\"stroke: #383838; stroke-width: 1.5;\" x1=\"152\" x2=\"192\" y1=\"399.9375\" y2=\"399.9375\"/></a><!--MD5=[60a26617385b1d2d0262a64233df1f8d]\n",
       "class E6--><a href=\"psysml:cb468909-38eb-4328-9448-1d282e0fd6a5\" target=\"_top\" title=\"psysml:cb468909-38eb-4328-9448-1d282e0fd6a5\" xlink:actuate=\"onRequest\" xlink:href=\"psysml:cb468909-38eb-4328-9448-1d282e0fd6a5\" xlink:show=\"new\" xlink:title=\"psysml:cb468909-38eb-4328-9448-1d282e0fd6a5\" xlink:type=\"simple\"><rect fill=\"#FFFFFF\" height=\"45.9375\" id=\"E6\" style=\"stroke: #383838; stroke-width: 1.5;\" width=\"67\" x=\"114.5\" y=\"637\"/><text fill=\"#000000\" font-family=\"sans-serif\" font-size=\"12\" font-style=\"italic\" lengthAdjust=\"spacingAndGlyphs\" textLength=\"65\" x=\"115.5\" y=\"653.1387\">«item def»</text><text fill=\"#000000\" font-family=\"sans-serif\" font-size=\"12\" lengthAdjust=\"spacingAndGlyphs\" textLength=\"8\" x=\"144\" y=\"667.1074\">B</text><line style=\"stroke: #383838; stroke-width: 1.5;\" x1=\"115.5\" x2=\"180.5\" y1=\"674.9375\" y2=\"674.9375\"/></a><!--MD5=[2156ba9850f5573cc1fc38a6a4b2f02b]\n",
       "class E7--><a href=\"psysml:8d68ea76-8496-4a3a-9bac-3b5e10d4f6d7\" target=\"_top\" title=\"psysml:8d68ea76-8496-4a3a-9bac-3b5e10d4f6d7\" xlink:actuate=\"onRequest\" xlink:href=\"psysml:8d68ea76-8496-4a3a-9bac-3b5e10d4f6d7\" xlink:show=\"new\" xlink:title=\"psysml:8d68ea76-8496-4a3a-9bac-3b5e10d4f6d7\" xlink:type=\"simple\"><rect fill=\"#FFFFFF\" height=\"45.9375\" id=\"E7\" rx=\"10\" ry=\"10\" style=\"stroke: #383838; stroke-width: 1.5;\" width=\"42\" x=\"159\" y=\"744\"/><text fill=\"#000000\" font-family=\"sans-serif\" font-size=\"12\" font-style=\"italic\" lengthAdjust=\"spacingAndGlyphs\" textLength=\"40\" x=\"160\" y=\"760.1387\">«part»</text><text fill=\"#000000\" font-family=\"sans-serif\" font-size=\"12\" lengthAdjust=\"spacingAndGlyphs\" textLength=\"24\" x=\"168\" y=\"774.1074\">a: A</text><line style=\"stroke: #383838; stroke-width: 1.5;\" x1=\"160\" x2=\"200\" y1=\"781.9375\" y2=\"781.9375\"/></a><!--MD5=[b9389687b975829384b498ac4b7476b2]\n",
       "class E8--><a href=\"psysml:3d841289-74ad-422d-b7f3-bdfc719d6361\" target=\"_top\" title=\"psysml:3d841289-74ad-422d-b7f3-bdfc719d6361\" xlink:actuate=\"onRequest\" xlink:href=\"psysml:3d841289-74ad-422d-b7f3-bdfc719d6361\" xlink:show=\"new\" xlink:title=\"psysml:3d841289-74ad-422d-b7f3-bdfc719d6361\" xlink:type=\"simple\"><rect fill=\"#FFFFFF\" height=\"45.9375\" id=\"E8\" style=\"stroke: #383838; stroke-width: 1.5;\" width=\"66\" x=\"115\" y=\"514\"/><text fill=\"#000000\" font-family=\"sans-serif\" font-size=\"12\" font-style=\"italic\" lengthAdjust=\"spacingAndGlyphs\" textLength=\"64\" x=\"116\" y=\"530.1387\">«part def»</text><text fill=\"#000000\" font-family=\"sans-serif\" font-size=\"12\" lengthAdjust=\"spacingAndGlyphs\" textLength=\"8\" x=\"144\" y=\"544.1074\">C</text><line style=\"stroke: #383838; stroke-width: 1.5;\" x1=\"116\" x2=\"180\" y1=\"551.9375\" y2=\"551.9375\"/></a><!--MD5=[fd4143e9d270a159db93a4ea2a975926]\n",
       "class E9--><a href=\"psysml:192666b5-43c5-4ec0-a40a-8ab471017ca3\" target=\"_top\" title=\"psysml:192666b5-43c5-4ec0-a40a-8ab471017ca3\" xlink:actuate=\"onRequest\" xlink:href=\"psysml:192666b5-43c5-4ec0-a40a-8ab471017ca3\" xlink:show=\"new\" xlink:title=\"psysml:192666b5-43c5-4ec0-a40a-8ab471017ca3\" xlink:type=\"simple\"><rect fill=\"#FFFFFF\" height=\"45.9375\" id=\"E9\" style=\"stroke: #383838; stroke-width: 1.5;\" width=\"66\" x=\"65\" y=\"41\"/><text fill=\"#000000\" font-family=\"sans-serif\" font-size=\"12\" font-style=\"italic\" lengthAdjust=\"spacingAndGlyphs\" textLength=\"64\" x=\"66\" y=\"57.1387\">«port def»</text><text fill=\"#000000\" font-family=\"sans-serif\" font-size=\"12\" lengthAdjust=\"spacingAndGlyphs\" textLength=\"8\" x=\"94\" y=\"71.1074\">P</text><line style=\"stroke: #383838; stroke-width: 1.5;\" x1=\"66\" x2=\"130\" y1=\"78.9375\" y2=\"78.9375\"/></a><!--MD5=[96f4274e9e20536e775497830990834d]\n",
       "class E10--><a href=\"psysml:a2436968-c74d-4c9f-bf2a-127bcc502b4e\" target=\"_top\" title=\"psysml:a2436968-c74d-4c9f-bf2a-127bcc502b4e\" xlink:actuate=\"onRequest\" xlink:href=\"psysml:a2436968-c74d-4c9f-bf2a-127bcc502b4e\" xlink:show=\"new\" xlink:title=\"psysml:a2436968-c74d-4c9f-bf2a-127bcc502b4e\" xlink:type=\"simple\"><rect fill=\"#FFFFFF\" height=\"45.9375\" id=\"E10\" rx=\"10\" ry=\"10\" style=\"stroke: #383838; stroke-width: 1.5;\" width=\"43\" x=\"32.5\" y=\"148\"/><text fill=\"#000000\" font-family=\"sans-serif\" font-size=\"12\" font-style=\"italic\" lengthAdjust=\"spacingAndGlyphs\" textLength=\"41\" x=\"33.5\" y=\"164.1387\">«item»</text><text fill=\"#000000\" font-family=\"sans-serif\" font-size=\"12\" lengthAdjust=\"spacingAndGlyphs\" textLength=\"32\" x=\"38\" y=\"178.1074\">a1: A</text><line style=\"stroke: #383838; stroke-width: 1.5;\" x1=\"33.5\" x2=\"74.5\" y1=\"185.9375\" y2=\"185.9375\"/></a><!--MD5=[1dd1bfd58a279cf63c5f349dbc8fc6a1]\n",
       "class E11--><a href=\"psysml:6388cc28-f9be-476c-ad05-d9ff93971fbb\" target=\"_top\" title=\"psysml:6388cc28-f9be-476c-ad05-d9ff93971fbb\" xlink:actuate=\"onRequest\" xlink:href=\"psysml:6388cc28-f9be-476c-ad05-d9ff93971fbb\" xlink:show=\"new\" xlink:title=\"psysml:6388cc28-f9be-476c-ad05-d9ff93971fbb\" xlink:type=\"simple\"><rect fill=\"#FFFFFF\" height=\"45.9375\" id=\"E11\" rx=\"10\" ry=\"10\" style=\"stroke: #383838; stroke-width: 1.5;\" width=\"43\" x=\"110.5\" y=\"148\"/><text fill=\"#000000\" font-family=\"sans-serif\" font-size=\"12\" font-style=\"italic\" lengthAdjust=\"spacingAndGlyphs\" textLength=\"41\" x=\"111.5\" y=\"164.1387\">«item»</text><text fill=\"#000000\" font-family=\"sans-serif\" font-size=\"12\" lengthAdjust=\"spacingAndGlyphs\" textLength=\"32\" x=\"116\" y=\"178.1074\">a2: A</text><line style=\"stroke: #383838; stroke-width: 1.5;\" x1=\"111.5\" x2=\"152.5\" y1=\"185.9375\" y2=\"185.9375\"/></a><!--MD5=[2720a5a1f2c3fca2055b230370638851]\n",
       "link E2 to E3--><a href=\"psysml:24dbd283-1078-40f8-9dda-86d7de7bac74\" target=\"_top\" title=\"psysml:24dbd283-1078-40f8-9dda-86d7de7bac74\" xlink:actuate=\"onRequest\" xlink:href=\"psysml:24dbd283-1078-40f8-9dda-86d7de7bac74\" xlink:show=\"new\" xlink:title=\"psysml:24dbd283-1078-40f8-9dda-86d7de7bac74\" xlink:type=\"simple\"><path d=\"M193.65,194.01 C184.14,206.81 171.89,223.3 160.82,238.2 \" fill=\"none\" id=\"E2-&gt;E3\" style=\"stroke: #383838; stroke-width: 1.0;\"/><polygon fill=\"#FFFFFF\" points=\"148.6,254.66,154.3195,235.2361,165.5543,243.5896,148.6,254.66\" style=\"stroke: #383838; stroke-width: 1.0;\"/><ellipse cx=\"159.3256\" cy=\"231.8554\" fill=\"#383838\" rx=\"2\" ry=\"2\" style=\"stroke: #383838; stroke-width: 1.0;\"/><ellipse cx=\"167.3504\" cy=\"237.8221\" fill=\"#383838\" rx=\"2\" ry=\"2\" style=\"stroke: #383838; stroke-width: 1.0;\"/></a><!--MD5=[4672eba38e49728da53d11aeb285b987]\n",
       "reverse link E3 to E4--><a href=\"psysml:9f51e7d9-1020-406a-8433-de0298038040\" target=\"_top\" title=\"psysml:9f51e7d9-1020-406a-8433-de0298038040\" xlink:actuate=\"onRequest\" xlink:href=\"psysml:9f51e7d9-1020-406a-8433-de0298038040\" xlink:show=\"new\" xlink:title=\"psysml:9f51e7d9-1020-406a-8433-de0298038040\" xlink:type=\"simple\"><path d=\"M105.34,311.54 C86.29,334.8 64,362 64,362 C64,362 64,408 64,408 C64,408 64.91,423.77 65.73,437.95 \" fill=\"none\" id=\"E3&lt;-E4\" style=\"stroke: #383838; stroke-width: 1.0;\"/><polygon fill=\"#383838\" points=\"113.78,301.24,106.883,303.3449,106.1733,310.521,113.0703,308.4161,113.78,301.24\" style=\"stroke: #383838; stroke-width: 1.0;\"/><text fill=\"#000000\" font-family=\"sans-serif\" font-size=\"13\" lengthAdjust=\"spacingAndGlyphs\" textLength=\"8\" x=\"56.3137\" y=\"426.8328\">1</text></a><!--MD5=[191cde3d490a3f6d7bb551fe3ddca469]\n",
       "reverse link E3 to E5--><a href=\"psysml:7a936c29-0528-4da5-855d-3be7e5f4e113\" target=\"_top\" title=\"psysml:7a936c29-0528-4da5-855d-3be7e5f4e113\" xlink:actuate=\"onRequest\" xlink:href=\"psysml:7a936c29-0528-4da5-855d-3be7e5f4e113\" xlink:show=\"new\" xlink:title=\"psysml:7a936c29-0528-4da5-855d-3be7e5f4e113\" xlink:type=\"simple\"><path d=\"M145.17,313.57 C151.2,329.39 158.16,347.68 163.49,361.66 \" fill=\"none\" id=\"E3&lt;-E5\" style=\"stroke: #383838; stroke-width: 1.0;\"/><polygon fill=\"#FFFFFF\" points=\"140.39,301.01,138.7866,308.0406,144.6598,312.2247,146.2631,305.1941,140.39,301.01\" style=\"stroke: #383838; stroke-width: 1.0;\"/><text fill=\"#000000\" font-family=\"sans-serif\" font-size=\"13\" lengthAdjust=\"spacingAndGlyphs\" textLength=\"8\" x=\"152.2843\" y=\"350.8492\">1</text></a><!--MD5=[79568f1e445c3877b6a54524624ccc7d]\n",
       "link E4 to E6--><a href=\"psysml:860f4e4a-475c-4d3a-a05e-585111d40739\" target=\"_top\" title=\"psysml:860f4e4a-475c-4d3a-a05e-585111d40739\" xlink:actuate=\"onRequest\" xlink:href=\"psysml:860f4e4a-475c-4d3a-a05e-585111d40739\" xlink:show=\"new\" xlink:title=\"psysml:860f4e4a-475c-4d3a-a05e-585111d40739\" xlink:type=\"simple\"><path d=\"M74.03,484.24 C83.18,513.15 98,560 98,560 C98,560 113.78,591.24 127.61,618.63 \" fill=\"none\" id=\"E4-&gt;E6\" style=\"stroke: #383838; stroke-width: 1.0;\"/><polygon fill=\"#FFFFFF\" points=\"136.65,636.54,121.8389,622.733,134.3368,616.4241,136.65,636.54\" style=\"stroke: #383838; stroke-width: 1.0;\"/><ellipse cx=\"121.0557\" cy=\"616.7433\" fill=\"#383838\" rx=\"2\" ry=\"2\" style=\"stroke: #383838; stroke-width: 1.0;\"/><ellipse cx=\"129.9828\" cy=\"612.237\" fill=\"#383838\" rx=\"2\" ry=\"2\" style=\"stroke: #383838; stroke-width: 1.0;\"/></a><!--MD5=[3f50a3473f1dfb74d3f76443e03635af]\n",
       "reverse link E6 to E7--><a href=\"psysml:01396c82-09da-45aa-ba0c-a7dad5741ff2\" target=\"_top\" title=\"psysml:01396c82-09da-45aa-ba0c-a7dad5741ff2\" xlink:actuate=\"onRequest\" xlink:href=\"psysml:01396c82-09da-45aa-ba0c-a7dad5741ff2\" xlink:show=\"new\" xlink:title=\"psysml:01396c82-09da-45aa-ba0c-a7dad5741ff2\" xlink:type=\"simple\"><path d=\"M158.54,695.57 C163.36,711.39 168.93,729.68 173.19,743.66 \" fill=\"none\" id=\"E6&lt;-E7\" style=\"stroke: #383838; stroke-width: 1.0;\"/><polygon fill=\"#383838\" points=\"154.71,683.01,152.6319,689.9152,158.2066,694.4893,160.2847,687.5841,154.71,683.01\" style=\"stroke: #383838; stroke-width: 1.0;\"/><text fill=\"#000000\" font-family=\"sans-serif\" font-size=\"13\" lengthAdjust=\"spacingAndGlyphs\" textLength=\"8\" x=\"162.4199\" y=\"732.8492\">1</text></a><!--MD5=[14ccda38c055a5c0da953d572bc50960]\n",
       "link E7 to E3--><a href=\"psysml:d97708ca-1830-4e5e-bf07-a2aabe0546e8\" target=\"_top\" title=\"psysml:d97708ca-1830-4e5e-bf07-a2aabe0546e8\" xlink:actuate=\"onRequest\" xlink:href=\"psysml:d97708ca-1830-4e5e-bf07-a2aabe0546e8\" xlink:show=\"new\" xlink:title=\"psysml:d97708ca-1830-4e5e-bf07-a2aabe0546e8\" xlink:type=\"simple\"><path d=\"M190.27,743.99 C204.64,713.2 229,661 229,661 C229,384 229,384 229,384 C229,384 211,362 211,362 C211,362 188.27,338.12 167.2,315.98 \" fill=\"none\" id=\"E7-&gt;E3\" style=\"stroke: #383838; stroke-width: 1.0;\"/><polygon fill=\"#FFFFFF\" points=\"153.17,301.24,171.3437,310.1683,161.2072,319.825,153.17,301.24\" style=\"stroke: #383838; stroke-width: 1.0;\"/><ellipse cx=\"173.8273\" cy=\"315.6749\" fill=\"#383838\" rx=\"2\" ry=\"2\" style=\"stroke: #383838; stroke-width: 1.0;\"/><ellipse cx=\"166.5869\" cy=\"322.5725\" fill=\"#383838\" rx=\"2\" ry=\"2\" style=\"stroke: #383838; stroke-width: 1.0;\"/></a><!--MD5=[dfaffb906826c3e5aca635516100ff21]\n",
       "link E5 to E8--><a href=\"psysml:75f754af-bdfa-473b-8cbb-d11c609ad500\" target=\"_top\" title=\"psysml:75f754af-bdfa-473b-8cbb-d11c609ad500\" xlink:actuate=\"onRequest\" xlink:href=\"psysml:75f754af-bdfa-473b-8cbb-d11c609ad500\" xlink:show=\"new\" xlink:title=\"psysml:75f754af-bdfa-473b-8cbb-d11c609ad500\" xlink:type=\"simple\"><path d=\"M168.46,408.13 C164.86,430.62 159.2,466.01 154.74,493.87 \" fill=\"none\" id=\"E5-&gt;E8\" style=\"stroke: #383838; stroke-width: 1.0;\"/><polygon fill=\"#FFFFFF\" points=\"151.56,513.78,147.6458,493.9135,161.4704,496.1226,151.56,513.78\" style=\"stroke: #383838; stroke-width: 1.0;\"/><ellipse cx=\"150.5202\" cy=\"488.6005\" fill=\"#383838\" rx=\"2\" ry=\"2\" style=\"stroke: #383838; stroke-width: 1.0;\"/><ellipse cx=\"160.3949\" cy=\"490.1784\" fill=\"#383838\" rx=\"2\" ry=\"2\" style=\"stroke: #383838; stroke-width: 1.0;\"/></a><!--MD5=[03c8294790d3c57651a1993cecff665f]\n",
       "reverse link E8 to E3--><a href=\"psysml:aa35edca-3910-4cd9-97ff-300d5c8627fc\" target=\"_top\" title=\"psysml:aa35edca-3910-4cd9-97ff-300d5c8627fc\" xlink:actuate=\"onRequest\" xlink:href=\"psysml:aa35edca-3910-4cd9-97ff-300d5c8627fc\" xlink:show=\"new\" xlink:title=\"psysml:aa35edca-3910-4cd9-97ff-300d5c8627fc\" xlink:type=\"simple\"><path d=\"M141.7,500.94 C134.89,463.05 125,408 125,408 C125,408 125,362 125,362 C125,362 128.05,325.83 130.12,301.24 \" fill=\"none\" id=\"E8&lt;-E3\" style=\"stroke: #383838; stroke-width: 1.0;\"/><polygon fill=\"#FFFFFF\" points=\"144.05,514,146.9258,507.3872,141.9277,502.1892,139.0519,508.802,144.05,514\" style=\"stroke: #383838; stroke-width: 1.0;\"/><text fill=\"#000000\" font-family=\"sans-serif\" font-size=\"13\" lengthAdjust=\"spacingAndGlyphs\" textLength=\"7\" x=\"126\" y=\"389.5669\">y</text></a><!--MD5=[0d75d2178373a6a4568e5dc728f58aef]\n",
       "reverse link E8 to E6--><a href=\"psysml:aa35edca-3910-4cd9-97ff-300d5c8627fc\" target=\"_top\" title=\"psysml:aa35edca-3910-4cd9-97ff-300d5c8627fc\" xlink:actuate=\"onRequest\" xlink:href=\"psysml:aa35edca-3910-4cd9-97ff-300d5c8627fc\" xlink:show=\"new\" xlink:title=\"psysml:aa35edca-3910-4cd9-97ff-300d5c8627fc\" xlink:type=\"simple\"><path d=\"M148,573.22 C148,593.81 148,619.16 148,636.95 \" fill=\"none\" id=\"E8&lt;-E6\" style=\"stroke: #383838; stroke-width: 1.0;\"/><polygon fill=\"#FFFFFF\" points=\"148,560.19,144,566.19,148,572.19,152,566.19,148,560.19\" style=\"stroke: #383838; stroke-width: 1.0;\"/><text fill=\"#000000\" font-family=\"sans-serif\" font-size=\"13\" lengthAdjust=\"spacingAndGlyphs\" textLength=\"7\" x=\"149\" y=\"603.0669\">y</text></a><!--MD5=[23ac544a70576c3e717098101004234c]\n",
       "reverse link E9 to E10--><a href=\"psysml:cf1da376-637e-4400-b815-716d62b1c417\" target=\"_top\" title=\"psysml:cf1da376-637e-4400-b815-716d62b1c417\" xlink:actuate=\"onRequest\" xlink:href=\"psysml:cf1da376-637e-4400-b815-716d62b1c417\" xlink:show=\"new\" xlink:title=\"psysml:cf1da376-637e-4400-b815-716d62b1c417\" xlink:type=\"simple\"><path d=\"M83.71,99.1 C77.04,115.03 69.28,133.54 63.36,147.66 \" fill=\"none\" id=\"E9&lt;-E10\" style=\"stroke: #383838; stroke-width: 1.0;\"/><polygon fill=\"#FFFFFF\" points=\"88.78,87.01,82.7702,90.9953,84.1375,98.0756,90.1473,94.0903,88.78,87.01\" style=\"stroke: #383838; stroke-width: 1.0;\"/><text fill=\"#000000\" font-family=\"sans-serif\" font-size=\"13\" lengthAdjust=\"spacingAndGlyphs\" textLength=\"8\" x=\"56.7335\" y=\"136.8492\">1</text></a><!--MD5=[feeac5eb423634930294aa81f2d25a4c]\n",
       "link E10 to E3--><a href=\"psysml:4cf35cfc-841e-4847-875d-1ebad6bb61b9\" target=\"_top\" title=\"psysml:4cf35cfc-841e-4847-875d-1ebad6bb61b9\" xlink:actuate=\"onRequest\" xlink:href=\"psysml:4cf35cfc-841e-4847-875d-1ebad6bb61b9\" xlink:show=\"new\" xlink:title=\"psysml:4cf35cfc-841e-4847-875d-1ebad6bb61b9\" xlink:type=\"simple\"><path d=\"M70.35,194.01 C79.86,206.81 92.11,223.3 103.18,238.2 \" fill=\"none\" id=\"E10-&gt;E3\" style=\"stroke: #383838; stroke-width: 1.0;\"/><polygon fill=\"#FFFFFF\" points=\"115.4,254.66,98.4457,243.5896,109.6805,235.2361,115.4,254.66\" style=\"stroke: #383838; stroke-width: 1.0;\"/><ellipse cx=\"96.6496\" cy=\"237.8221\" fill=\"#383838\" rx=\"2\" ry=\"2\" style=\"stroke: #383838; stroke-width: 1.0;\"/><ellipse cx=\"104.6744\" cy=\"231.8554\" fill=\"#383838\" rx=\"2\" ry=\"2\" style=\"stroke: #383838; stroke-width: 1.0;\"/></a><!--MD5=[1fc04a95fd77ad5ce46c1a3027516051]\n",
       "reverse link E9 to E11--><a href=\"psysml:bd05daaf-8002-489d-bbfa-6134af678ace\" target=\"_top\" title=\"psysml:bd05daaf-8002-489d-bbfa-6134af678ace\" xlink:actuate=\"onRequest\" xlink:href=\"psysml:bd05daaf-8002-489d-bbfa-6134af678ace\" xlink:show=\"new\" xlink:title=\"psysml:bd05daaf-8002-489d-bbfa-6134af678ace\" xlink:type=\"simple\"><path d=\"M109.19,99.57 C114.32,115.39 120.24,133.68 124.76,147.66 \" fill=\"none\" id=\"E9&lt;-E11\" style=\"stroke: #383838; stroke-width: 1.0;\"/><polygon fill=\"#FFFFFF\" points=\"105.13,87.01,103.1699,93.9496,108.8217,98.428,110.7819,91.4884,105.13,87.01\" style=\"stroke: #383838; stroke-width: 1.0;\"/><text fill=\"#000000\" font-family=\"sans-serif\" font-size=\"13\" lengthAdjust=\"spacingAndGlyphs\" textLength=\"8\" x=\"113.8798\" y=\"136.8492\">1</text></a><!--MD5=[0517f1ce58c4d5483948f93845c45e26]\n",
       "link E11 to E3--><a href=\"psysml:31e39f64-1f8d-4b2c-be98-c1459e5d6e94\" target=\"_top\" title=\"psysml:31e39f64-1f8d-4b2c-be98-c1459e5d6e94\" xlink:actuate=\"onRequest\" xlink:href=\"psysml:31e39f64-1f8d-4b2c-be98-c1459e5d6e94\" xlink:show=\"new\" xlink:title=\"psysml:31e39f64-1f8d-4b2c-be98-c1459e5d6e94\" xlink:type=\"simple\"><path d=\"M132,194.01 C132,205.69 132,220.46 132,234.28 \" fill=\"none\" id=\"E11-&gt;E3\" style=\"stroke: #383838; stroke-width: 1.0;\"/><polygon fill=\"#FFFFFF\" points=\"132,254.66,125,235.66,139,235.66,132,254.66\" style=\"stroke: #383838; stroke-width: 1.0;\"/><ellipse cx=\"127\" cy=\"229.96\" fill=\"#383838\" rx=\"2\" ry=\"2\" style=\"stroke: #383838; stroke-width: 1.0;\"/><ellipse cx=\"137\" cy=\"229.96\" fill=\"#383838\" rx=\"2\" ry=\"2\" style=\"stroke: #383838; stroke-width: 1.0;\"/></a><!--MD5=[993a776c3b3ef1ce25d576b7f30c91d3]\n",
       "@startuml\r\n",
       "skinparam linetype polyline\r\n",
       "skinparam monochrome true\r\n",
       "skinparam classbackgroundcolor white\r\n",
       "skinparam shadowing false\r\n",
       "skinparam wrapWidth 300\r\n",
       "hide circle\r\n",
       "\r\n",
       "package \"ItemTest\" as E1  [[psysml:1bc06463-7392-4b34-87d6-1f1d6784670a ]]  {\r\n",
       "comp usage \"f: A\" as E2  <<(T,blue) item>> [[psysml:10e5f196-141c-4ebb-934a-0a8c25223d15 ]] {\r\n",
       "}\r\n",
       "comp def \"A\" as E3  <<(T,blue) item def>> [[psysml:d8185bfd-cc57-4585-aec6-0a59765b9e32 ]] {\r\n",
       "}\r\n",
       "comp usage \"b: B\" as E4  <<(T,blue) item>> [[psysml:867e3ff9-f74d-45bb-974d-3b3d8373197d ]] {\r\n",
       "}\r\n",
       "comp usage \"c: C\" as E5  <<(T,blue) part>> [[psysml:cb0d56cf-7b64-416e-8353-0e76041e55a4 ]] {\r\n",
       "}\r\n",
       "comp def \"B\" as E6  <<(T,blue) item def>> [[psysml:cb468909-38eb-4328-9448-1d282e0fd6a5 ]] {\r\n",
       "}\r\n",
       "comp usage \"a: A\" as E7  <<(T,blue) part>> [[psysml:8d68ea76-8496-4a3a-9bac-3b5e10d4f6d7 ]] {\r\n",
       "}\r\n",
       "comp def \"C\" as E8  <<(T,blue) part def>> [[psysml:3d841289-74ad-422d-b7f3-bdfc719d6361 ]] {\r\n",
       "}\r\n",
       "comp def \"P\" as E9  <<(T,blue) port def>> [[psysml:192666b5-43c5-4ec0-a40a-8ab471017ca3 ]] {\r\n",
       "}\r\n",
       "comp usage \"a1: A\" as E10  <<(T,blue) item>> [[psysml:a2436968-c74d-4c9f-bf2a-127bcc502b4e ]] {\r\n",
       "}\r\n",
       "comp usage \"a2: A\" as E11  <<(T,blue) item>> [[psysml:6388cc28-f9be-476c-ad05-d9ff93971fbb ]] {\r\n",
       "}\r\n",
       "}\r\n",
       "E2 - -:|> E3 [[psysml:24dbd283-1078-40f8-9dda-86d7de7bac74 ]] \r\n",
       "E3 *- - \"1\"E4 [[psysml:9f51e7d9-1020-406a-8433-de0298038040 ]] \r\n",
       "E3 o- - \"1\"E5 [[psysml:7a936c29-0528-4da5-855d-3be7e5f4e113 ]] \r\n",
       "E4 - -:|> E6 [[psysml:860f4e4a-475c-4d3a-a05e-585111d40739 ]] \r\n",
       "E6 *- - \"1\"E7 [[psysml:01396c82-09da-45aa-ba0c-a7dad5741ff2 ]] \r\n",
       "E7 - -:|> E3 [[psysml:d97708ca-1830-4e5e-bf07-a2aabe0546e8 ]] \r\n",
       "E5 - -:|> E8 [[psysml:75f754af-bdfa-473b-8cbb-d11c609ad500 ]] \r\n",
       "E8 o- - E3 [[psysml:aa35edca-3910-4cd9-97ff-300d5c8627fc ]] : y\r\n",
       "E8 o- - E6 [[psysml:aa35edca-3910-4cd9-97ff-300d5c8627fc ]] : y\r\n",
       "E9 o- - \"1\"E10 [[psysml:cf1da376-637e-4400-b815-716d62b1c417 ]] \r\n",
       "E10 - -:|> E3 [[psysml:4cf35cfc-841e-4847-875d-1ebad6bb61b9 ]] \r\n",
       "E9 o- - \"1\"E11 [[psysml:bd05daaf-8002-489d-bbfa-6134af678ace ]] \r\n",
       "E11 - -:|> E3 [[psysml:31e39f64-1f8d-4b2c-be98-c1459e5d6e94 ]] \r\n",
       "@enduml\r\n",
       "\n",
       "PlantUML version 1.2020.13(Sat Jun 13 12:26:38 UTC 2020)\n",
       "(EPL source distribution)\n",
       "Java Runtime: OpenJDK Runtime Environment\n",
       "JVM: OpenJDK 64-Bit Server VM\n",
       "Default Encoding: UTF-8\n",
       "Language: en\n",
       "Country: null\n",
       "--></g></svg>"
      ]
     },
     "execution_count": 10,
     "metadata": {},
     "output_type": "execute_result"
    }
   ],
   "source": [
    "%viz --style=\"POLYLINE\" --view=\"Tree\" \"ItemTest\""
   ]
  },
  {
   "cell_type": "code",
   "execution_count": 11,
   "id": "05e2b168",
   "metadata": {
    "execution": {
     "iopub.execute_input": "2021-10-03T08:27:27.058274Z",
     "iopub.status.busy": "2021-10-03T08:27:27.057854Z",
     "iopub.status.idle": "2021-10-03T08:27:27.065189Z",
     "shell.execute_reply": "2021-10-03T08:27:27.065511Z"
    }
   },
   "outputs": [
    {
     "data": {
      "image/svg+xml": [
       "<?xml version=\"1.0\" encoding=\"UTF-8\" standalone=\"no\"?><svg xmlns=\"http://www.w3.org/2000/svg\" xmlns:xlink=\"http://www.w3.org/1999/xlink\" contentScriptType=\"application/ecmascript\" contentStyleType=\"text/css\" height=\"12px\" preserveAspectRatio=\"none\" style=\"width:12px;height:12px;\" version=\"1.1\" viewBox=\"0 0 12 12\" width=\"12px\" zoomAndPan=\"magnify\"><defs/><g><!--MD5=[896ac0e7a515d8dd7765a661cb4ee08b]\n",
       "@startuml\r\n",
       "skinparam linetype polyline\r\n",
       "skinparam monochrome true\r\n",
       "skinparam classbackgroundcolor white\r\n",
       "skinparam shadowing false\r\n",
       "skinparam wrapWidth 300\r\n",
       "hide circle\r\n",
       "\r\n",
       "@enduml\r\n",
       "\n",
       "PlantUML version 1.2020.13(Sat Jun 13 12:26:38 UTC 2020)\n",
       "(EPL source distribution)\n",
       "Java Runtime: OpenJDK Runtime Environment\n",
       "JVM: OpenJDK 64-Bit Server VM\n",
       "Default Encoding: UTF-8\n",
       "Language: en\n",
       "Country: null\n",
       "--></g></svg>"
      ]
     },
     "execution_count": 11,
     "metadata": {},
     "output_type": "execute_result"
    }
   ],
   "source": [
    "%viz --style=\"POLYLINE\" --view=\"State\" \"ItemTest\""
   ]
  },
  {
   "cell_type": "code",
   "execution_count": 12,
   "id": "ffbd19b0",
   "metadata": {
    "execution": {
     "iopub.execute_input": "2021-10-03T08:27:27.115529Z",
     "iopub.status.busy": "2021-10-03T08:27:27.115117Z",
     "iopub.status.idle": "2021-10-03T08:27:27.147549Z",
     "shell.execute_reply": "2021-10-03T08:27:27.147883Z"
    }
   },
   "outputs": [
    {
     "data": {
      "image/svg+xml": [
       "<?xml version=\"1.0\" encoding=\"UTF-8\" standalone=\"no\"?><svg xmlns=\"http://www.w3.org/2000/svg\" xmlns:xlink=\"http://www.w3.org/1999/xlink\" contentScriptType=\"application/ecmascript\" contentStyleType=\"text/css\" height=\"112px\" preserveAspectRatio=\"none\" style=\"width:548px;height:112px;\" version=\"1.1\" viewBox=\"0 0 548 112\" width=\"548px\" zoomAndPan=\"magnify\"><defs/><g><!--MD5=[fbc87193dbaf4d95561dea2c320d4a47]\n",
       "cluster E1--><a href=\"psysml:1bc06463-7392-4b34-87d6-1f1d6784670a\" target=\"_top\" title=\"psysml:1bc06463-7392-4b34-87d6-1f1d6784670a\" xlink:actuate=\"onRequest\" xlink:href=\"psysml:1bc06463-7392-4b34-87d6-1f1d6784670a\" xlink:show=\"new\" xlink:title=\"psysml:1bc06463-7392-4b34-87d6-1f1d6784670a\" xlink:type=\"simple\"><polygon fill=\"#FFFFFF\" points=\"16,6,83,6,90,28.2969,526,28.2969,526,100,16,100,16,6\" style=\"stroke: #000000; stroke-width: 1.5;\"/><line style=\"stroke: #000000; stroke-width: 1.5;\" x1=\"16\" x2=\"90\" y1=\"28.2969\" y2=\"28.2969\"/><text fill=\"#000000\" font-family=\"sans-serif\" font-size=\"14\" font-weight=\"bold\" lengthAdjust=\"spacingAndGlyphs\" textLength=\"61\" x=\"20\" y=\"20.9951\">ItemTest</text></a><g id=\"E1.E3\"><a href=\"psysml:d8185bfd-cc57-4585-aec6-0a59765b9e32\" target=\"_top\" title=\"psysml:d8185bfd-cc57-4585-aec6-0a59765b9e32\" xlink:actuate=\"onRequest\" xlink:href=\"psysml:d8185bfd-cc57-4585-aec6-0a59765b9e32\" xlink:show=\"new\" xlink:title=\"psysml:d8185bfd-cc57-4585-aec6-0a59765b9e32\" xlink:type=\"simple\"><rect fill=\"#FFFFFF\" height=\"42.9375\" id=\"E3\" style=\"stroke: #383838; stroke-width: 1.5;\" width=\"72\" x=\"438\" y=\"41\"/><rect fill=\"#F8F8F8\" height=\"37.9375\" style=\"stroke: #383838; stroke-width: 1.5;\" width=\"72\" x=\"438\" y=\"41\"/><text fill=\"#000000\" font-family=\"sans-serif\" font-size=\"12\" font-style=\"italic\" lengthAdjust=\"spacingAndGlyphs\" textLength=\"65\" x=\"441.5\" y=\"57.1387\">«item def»</text><text fill=\"#000000\" font-family=\"sans-serif\" font-size=\"12\" lengthAdjust=\"spacingAndGlyphs\" textLength=\"8\" x=\"470\" y=\"71.1074\">A</text></a></g><g id=\"E1.E4\"><a href=\"psysml:cb468909-38eb-4328-9448-1d282e0fd6a5\" target=\"_top\" title=\"psysml:cb468909-38eb-4328-9448-1d282e0fd6a5\" xlink:actuate=\"onRequest\" xlink:href=\"psysml:cb468909-38eb-4328-9448-1d282e0fd6a5\" xlink:show=\"new\" xlink:title=\"psysml:cb468909-38eb-4328-9448-1d282e0fd6a5\" xlink:type=\"simple\"><rect fill=\"#FFFFFF\" height=\"42.9375\" id=\"E4\" style=\"stroke: #383838; stroke-width: 1.5;\" width=\"72\" x=\"331\" y=\"41\"/><rect fill=\"#F8F8F8\" height=\"37.9375\" style=\"stroke: #383838; stroke-width: 1.5;\" width=\"72\" x=\"331\" y=\"41\"/><text fill=\"#000000\" font-family=\"sans-serif\" font-size=\"12\" font-style=\"italic\" lengthAdjust=\"spacingAndGlyphs\" textLength=\"65\" x=\"334.5\" y=\"57.1387\">«item def»</text><text fill=\"#000000\" font-family=\"sans-serif\" font-size=\"12\" lengthAdjust=\"spacingAndGlyphs\" textLength=\"8\" x=\"363\" y=\"71.1074\">B</text></a></g><g id=\"E1.E6\"><a href=\"psysml:192666b5-43c5-4ec0-a40a-8ab471017ca3\" target=\"_top\" title=\"psysml:192666b5-43c5-4ec0-a40a-8ab471017ca3\" xlink:actuate=\"onRequest\" xlink:href=\"psysml:192666b5-43c5-4ec0-a40a-8ab471017ca3\" xlink:show=\"new\" xlink:title=\"psysml:192666b5-43c5-4ec0-a40a-8ab471017ca3\" xlink:type=\"simple\"><rect fill=\"#FFFFFF\" height=\"42.9375\" id=\"E6\" style=\"stroke: #383838; stroke-width: 1.5;\" width=\"71\" x=\"224.5\" y=\"41\"/><rect fill=\"#F8F8F8\" height=\"37.9375\" style=\"stroke: #383838; stroke-width: 1.5;\" width=\"71\" x=\"224.5\" y=\"41\"/><text fill=\"#000000\" font-family=\"sans-serif\" font-size=\"12\" font-style=\"italic\" lengthAdjust=\"spacingAndGlyphs\" textLength=\"64\" x=\"228\" y=\"57.1387\">«port def»</text><text fill=\"#000000\" font-family=\"sans-serif\" font-size=\"12\" lengthAdjust=\"spacingAndGlyphs\" textLength=\"8\" x=\"256\" y=\"71.1074\">P</text></a></g><g id=\"E1.E2\"><a href=\"psysml:10e5f196-141c-4ebb-934a-0a8c25223d15\" target=\"_top\" title=\"psysml:10e5f196-141c-4ebb-934a-0a8c25223d15\" xlink:actuate=\"onRequest\" xlink:href=\"psysml:10e5f196-141c-4ebb-934a-0a8c25223d15\" xlink:show=\"new\" xlink:title=\"psysml:10e5f196-141c-4ebb-934a-0a8c25223d15\" xlink:type=\"simple\"><rect fill=\"#FFFFFF\" height=\"42.9375\" id=\"E2\" rx=\"10\" ry=\"10\" style=\"stroke: #383838; stroke-width: 1.5;\" width=\"50\" x=\"139\" y=\"41\"/><rect fill=\"#F8F8F8\" height=\"37.9375\" rx=\"10\" ry=\"10\" style=\"stroke: #F8F8F8; stroke-width: 1.5;\" width=\"50\" x=\"139\" y=\"41\"/><rect fill=\"#F8F8F8\" height=\"10\" style=\"stroke: #F8F8F8; stroke-width: 1.5;\" width=\"50\" x=\"139\" y=\"68.9375\"/><rect fill=\"none\" height=\"42.9375\" id=\"E2\" rx=\"10\" ry=\"10\" style=\"stroke: #383838; stroke-width: 1.5;\" width=\"50\" x=\"139\" y=\"41\"/><text fill=\"#000000\" font-family=\"sans-serif\" font-size=\"12\" font-style=\"italic\" lengthAdjust=\"spacingAndGlyphs\" textLength=\"41\" x=\"143.5\" y=\"57.1387\">«item»</text><text fill=\"#000000\" font-family=\"sans-serif\" font-size=\"12\" lengthAdjust=\"spacingAndGlyphs\" textLength=\"20\" x=\"154\" y=\"71.1074\">f: A</text></a></g><g id=\"E1.E5\"><a href=\"psysml:3d841289-74ad-422d-b7f3-bdfc719d6361\" target=\"_top\" title=\"psysml:3d841289-74ad-422d-b7f3-bdfc719d6361\" xlink:actuate=\"onRequest\" xlink:href=\"psysml:3d841289-74ad-422d-b7f3-bdfc719d6361\" xlink:show=\"new\" xlink:title=\"psysml:3d841289-74ad-422d-b7f3-bdfc719d6361\" xlink:type=\"simple\"><rect fill=\"#FFFFFF\" height=\"42.9375\" id=\"E5\" style=\"stroke: #383838; stroke-width: 1.5;\" width=\"71\" x=\"32.5\" y=\"41\"/><rect fill=\"#F8F8F8\" height=\"37.9375\" style=\"stroke: #383838; stroke-width: 1.5;\" width=\"71\" x=\"32.5\" y=\"41\"/><text fill=\"#000000\" font-family=\"sans-serif\" font-size=\"12\" font-style=\"italic\" lengthAdjust=\"spacingAndGlyphs\" textLength=\"64\" x=\"36\" y=\"57.1387\">«part def»</text><text fill=\"#000000\" font-family=\"sans-serif\" font-size=\"12\" lengthAdjust=\"spacingAndGlyphs\" textLength=\"8\" x=\"64\" y=\"71.1074\">C</text></a></g><!--MD5=[904aa347984e3e7bc66d5e69295d9d86]\n",
       "@startuml\r\n",
       "skinparam ranksep 10\r\n",
       "skinparam rectangle {\r\n",
       " backgroundColor<<block>> LightGreen\r\n",
       "}\r\n",
       "skinparam linetype polyline\r\n",
       "skinparam monochrome true\r\n",
       "skinparam classbackgroundcolor white\r\n",
       "skinparam shadowing false\r\n",
       "skinparam wrapWidth 300\r\n",
       "hide circle\r\n",
       "\r\n",
       "package \"ItemTest\" as E1  [[psysml:1bc06463-7392-4b34-87d6-1f1d6784670a ]]  {\r\n",
       "rec usage \"f: A\" as E2  <<(T,blue) item>> [[psysml:10e5f196-141c-4ebb-934a-0a8c25223d15 ]] {\r\n",
       "}\r\n",
       "def \"A\" as E3  <<(T,blue) item def>> [[psysml:d8185bfd-cc57-4585-aec6-0a59765b9e32 ]] \r\n",
       "def \"B\" as E4  <<(T,blue) item def>> [[psysml:cb468909-38eb-4328-9448-1d282e0fd6a5 ]] \r\n",
       "rec def \"C\" as E5  <<(T,blue) part def>> [[psysml:3d841289-74ad-422d-b7f3-bdfc719d6361 ]] {\r\n",
       "}\r\n",
       "def \"P\" as E6  <<(T,blue) port def>> [[psysml:192666b5-43c5-4ec0-a40a-8ab471017ca3 ]] \r\n",
       "}\r\n",
       "@enduml\r\n",
       "\n",
       "PlantUML version 1.2020.13(Sat Jun 13 12:26:38 UTC 2020)\n",
       "(EPL source distribution)\n",
       "Java Runtime: OpenJDK Runtime Environment\n",
       "JVM: OpenJDK 64-Bit Server VM\n",
       "Default Encoding: UTF-8\n",
       "Language: en\n",
       "Country: null\n",
       "--></g></svg>"
      ]
     },
     "execution_count": 12,
     "metadata": {},
     "output_type": "execute_result"
    }
   ],
   "source": [
    "%viz --style=\"POLYLINE\" --view=\"Interconnection\" \"ItemTest\""
   ]
  },
  {
   "cell_type": "code",
   "execution_count": 13,
   "id": "eb822244",
   "metadata": {
    "execution": {
     "iopub.execute_input": "2021-10-03T08:27:27.197605Z",
     "iopub.status.busy": "2021-10-03T08:27:27.197201Z",
     "iopub.status.idle": "2021-10-03T08:27:27.203079Z",
     "shell.execute_reply": "2021-10-03T08:27:27.203392Z"
    }
   },
   "outputs": [
    {
     "data": {
      "image/svg+xml": [
       "<?xml version=\"1.0\" encoding=\"UTF-8\" standalone=\"no\"?><svg xmlns=\"http://www.w3.org/2000/svg\" xmlns:xlink=\"http://www.w3.org/1999/xlink\" contentScriptType=\"application/ecmascript\" contentStyleType=\"text/css\" height=\"12px\" preserveAspectRatio=\"none\" style=\"width:12px;height:12px;\" version=\"1.1\" viewBox=\"0 0 12 12\" width=\"12px\" zoomAndPan=\"magnify\"><defs/><g><!--MD5=[97bbf32f66ccd50cbc40d92ea8f5a65e]\n",
       "@startuml\r\n",
       "skinparam ranksep 8\r\n",
       "skinparam linetype polyline\r\n",
       "skinparam monochrome true\r\n",
       "skinparam classbackgroundcolor white\r\n",
       "skinparam shadowing false\r\n",
       "skinparam wrapWidth 300\r\n",
       "hide circle\r\n",
       "\r\n",
       "@enduml\r\n",
       "\n",
       "PlantUML version 1.2020.13(Sat Jun 13 12:26:38 UTC 2020)\n",
       "(EPL source distribution)\n",
       "Java Runtime: OpenJDK Runtime Environment\n",
       "JVM: OpenJDK 64-Bit Server VM\n",
       "Default Encoding: UTF-8\n",
       "Language: en\n",
       "Country: null\n",
       "--></g></svg>"
      ]
     },
     "execution_count": 13,
     "metadata": {},
     "output_type": "execute_result"
    }
   ],
   "source": [
    "%viz --style=\"POLYLINE\" --view=\"Action\" \"ItemTest\""
   ]
  },
  {
   "cell_type": "code",
   "execution_count": 14,
   "id": "1baa8f2b",
   "metadata": {
    "execution": {
     "iopub.execute_input": "2021-10-03T08:27:27.253111Z",
     "iopub.status.busy": "2021-10-03T08:27:27.252706Z",
     "iopub.status.idle": "2021-10-03T08:27:27.258915Z",
     "shell.execute_reply": "2021-10-03T08:27:27.259231Z"
    }
   },
   "outputs": [
    {
     "data": {
      "image/svg+xml": [
       "<?xml version=\"1.0\" encoding=\"UTF-8\" standalone=\"no\"?><svg xmlns=\"http://www.w3.org/2000/svg\" xmlns:xlink=\"http://www.w3.org/1999/xlink\" contentScriptType=\"application/ecmascript\" contentStyleType=\"text/css\" height=\"12px\" preserveAspectRatio=\"none\" style=\"width:12px;height:12px;\" version=\"1.1\" viewBox=\"0 0 12 12\" width=\"12px\" zoomAndPan=\"magnify\"><defs/><g><!--MD5=[dc938048236c351797870c36b62f92ad]\n",
       "@startuml\r\n",
       "skinparam roundcorner 20\r\n",
       "skinparam BoxPadding 20\r\n",
       "skinparam SequenceBoxBackgroundColor #white\r\n",
       "skinparam style strictuml\r\n",
       "skinparam maxMessageSize 100\r\n",
       "skinparam linetype polyline\r\n",
       "skinparam monochrome true\r\n",
       "skinparam classbackgroundcolor white\r\n",
       "skinparam shadowing false\r\n",
       "skinparam wrapWidth 300\r\n",
       "hide circle\r\n",
       "\r\n",
       "@enduml\r\n",
       "\n",
       "PlantUML version 1.2020.13(Sat Jun 13 12:26:38 UTC 2020)\n",
       "(EPL source distribution)\n",
       "Java Runtime: OpenJDK Runtime Environment\n",
       "JVM: OpenJDK 64-Bit Server VM\n",
       "Default Encoding: UTF-8\n",
       "Language: en\n",
       "Country: null\n",
       "--></g></svg>"
      ]
     },
     "execution_count": 14,
     "metadata": {},
     "output_type": "execute_result"
    }
   ],
   "source": [
    "%viz --style=\"POLYLINE\" --view=\"Sequence\" \"ItemTest\""
   ]
  },
  {
   "cell_type": "code",
   "execution_count": 15,
   "id": "d479b441",
   "metadata": {
    "execution": {
     "iopub.execute_input": "2021-10-03T08:27:27.309055Z",
     "iopub.status.busy": "2021-10-03T08:27:27.308641Z",
     "iopub.status.idle": "2021-10-03T08:27:27.366094Z",
     "shell.execute_reply": "2021-10-03T08:27:27.365738Z"
    }
   },
   "outputs": [
    {
     "data": {
      "image/svg+xml": [
       "<?xml version=\"1.0\" encoding=\"UTF-8\" standalone=\"no\"?><svg xmlns=\"http://www.w3.org/2000/svg\" xmlns:xlink=\"http://www.w3.org/1999/xlink\" contentScriptType=\"application/ecmascript\" contentStyleType=\"text/css\" height=\"818px\" preserveAspectRatio=\"none\" style=\"width:270px;height:818px;\" version=\"1.1\" viewBox=\"0 0 270 818\" width=\"270px\" zoomAndPan=\"magnify\"><defs/><g><!--MD5=[fbc87193dbaf4d95561dea2c320d4a47]\n",
       "cluster E1--><a href=\"psysml:1bc06463-7392-4b34-87d6-1f1d6784670a\" target=\"_top\" title=\"psysml:1bc06463-7392-4b34-87d6-1f1d6784670a\" xlink:actuate=\"onRequest\" xlink:href=\"psysml:1bc06463-7392-4b34-87d6-1f1d6784670a\" xlink:show=\"new\" xlink:title=\"psysml:1bc06463-7392-4b34-87d6-1f1d6784670a\" xlink:type=\"simple\"><polygon fill=\"#FFFFFF\" points=\"16,6,83,6,90,28.2969,248,28.2969,248,806,16,806,16,6\" style=\"stroke: #000000; stroke-width: 1.5;\"/><line style=\"stroke: #000000; stroke-width: 1.5;\" x1=\"16\" x2=\"90\" y1=\"28.2969\" y2=\"28.2969\"/><text fill=\"#000000\" font-family=\"sans-serif\" font-size=\"14\" font-weight=\"bold\" lengthAdjust=\"spacingAndGlyphs\" textLength=\"61\" x=\"20\" y=\"20.9951\">ItemTest</text></a><!--MD5=[b4997ac47864f28c2f74865a473b2911]\n",
       "class E2--><a href=\"psysml:10e5f196-141c-4ebb-934a-0a8c25223d15\" target=\"_top\" title=\"psysml:10e5f196-141c-4ebb-934a-0a8c25223d15\" xlink:actuate=\"onRequest\" xlink:href=\"psysml:10e5f196-141c-4ebb-934a-0a8c25223d15\" xlink:show=\"new\" xlink:title=\"psysml:10e5f196-141c-4ebb-934a-0a8c25223d15\" xlink:type=\"simple\"><rect fill=\"#FFFFFF\" height=\"45.9375\" id=\"E2\" rx=\"10\" ry=\"10\" style=\"stroke: #383838; stroke-width: 1.5;\" width=\"43\" x=\"188.5\" y=\"148\"/><text fill=\"#000000\" font-family=\"sans-serif\" font-size=\"12\" font-style=\"italic\" lengthAdjust=\"spacingAndGlyphs\" textLength=\"41\" x=\"189.5\" y=\"164.1387\">«item»</text><text fill=\"#000000\" font-family=\"sans-serif\" font-size=\"12\" lengthAdjust=\"spacingAndGlyphs\" textLength=\"20\" x=\"200\" y=\"178.1074\">f: A</text><line style=\"stroke: #383838; stroke-width: 1.5;\" x1=\"189.5\" x2=\"230.5\" y1=\"185.9375\" y2=\"185.9375\"/></a><!--MD5=[09b614a08d8cba4a07c9adeb5e0fee81]\n",
       "class E3--><a href=\"psysml:d8185bfd-cc57-4585-aec6-0a59765b9e32\" target=\"_top\" title=\"psysml:d8185bfd-cc57-4585-aec6-0a59765b9e32\" xlink:actuate=\"onRequest\" xlink:href=\"psysml:d8185bfd-cc57-4585-aec6-0a59765b9e32\" xlink:show=\"new\" xlink:title=\"psysml:d8185bfd-cc57-4585-aec6-0a59765b9e32\" xlink:type=\"simple\"><rect fill=\"#FFFFFF\" height=\"45.9375\" id=\"E3\" style=\"stroke: #383838; stroke-width: 1.5;\" width=\"67\" x=\"98.5\" y=\"255\"/><text fill=\"#000000\" font-family=\"sans-serif\" font-size=\"12\" font-style=\"italic\" lengthAdjust=\"spacingAndGlyphs\" textLength=\"65\" x=\"99.5\" y=\"271.1387\">«item def»</text><text fill=\"#000000\" font-family=\"sans-serif\" font-size=\"12\" lengthAdjust=\"spacingAndGlyphs\" textLength=\"8\" x=\"128\" y=\"285.1074\">A</text><line style=\"stroke: #383838; stroke-width: 1.5;\" x1=\"99.5\" x2=\"164.5\" y1=\"292.9375\" y2=\"292.9375\"/></a><!--MD5=[ebbe1d658d1005bcc118a6aa81145e00]\n",
       "class E4--><a href=\"psysml:867e3ff9-f74d-45bb-974d-3b3d8373197d\" target=\"_top\" title=\"psysml:867e3ff9-f74d-45bb-974d-3b3d8373197d\" xlink:actuate=\"onRequest\" xlink:href=\"psysml:867e3ff9-f74d-45bb-974d-3b3d8373197d\" xlink:show=\"new\" xlink:title=\"psysml:867e3ff9-f74d-45bb-974d-3b3d8373197d\" xlink:type=\"simple\"><rect fill=\"#FFFFFF\" height=\"45.9375\" id=\"E4\" rx=\"10\" ry=\"10\" style=\"stroke: #383838; stroke-width: 1.5;\" width=\"43\" x=\"45.5\" y=\"438\"/><text fill=\"#000000\" font-family=\"sans-serif\" font-size=\"12\" font-style=\"italic\" lengthAdjust=\"spacingAndGlyphs\" textLength=\"41\" x=\"46.5\" y=\"454.1387\">«item»</text><text fill=\"#000000\" font-family=\"sans-serif\" font-size=\"12\" lengthAdjust=\"spacingAndGlyphs\" textLength=\"24\" x=\"55\" y=\"468.1074\">b: B</text><line style=\"stroke: #383838; stroke-width: 1.5;\" x1=\"46.5\" x2=\"87.5\" y1=\"475.9375\" y2=\"475.9375\"/></a><!--MD5=[270fce915f116d4de14055a7c1d9a0f3]\n",
       "class E5--><a href=\"psysml:cb0d56cf-7b64-416e-8353-0e76041e55a4\" target=\"_top\" title=\"psysml:cb0d56cf-7b64-416e-8353-0e76041e55a4\" xlink:actuate=\"onRequest\" xlink:href=\"psysml:cb0d56cf-7b64-416e-8353-0e76041e55a4\" xlink:show=\"new\" xlink:title=\"psysml:cb0d56cf-7b64-416e-8353-0e76041e55a4\" xlink:type=\"simple\"><rect fill=\"#FFFFFF\" height=\"45.9375\" id=\"E5\" rx=\"10\" ry=\"10\" style=\"stroke: #383838; stroke-width: 1.5;\" width=\"42\" x=\"151\" y=\"362\"/><text fill=\"#000000\" font-family=\"sans-serif\" font-size=\"12\" font-style=\"italic\" lengthAdjust=\"spacingAndGlyphs\" textLength=\"40\" x=\"152\" y=\"378.1387\">«part»</text><text fill=\"#000000\" font-family=\"sans-serif\" font-size=\"12\" lengthAdjust=\"spacingAndGlyphs\" textLength=\"23\" x=\"160.5\" y=\"392.1074\">c: C</text><line style=\"stroke: #383838; stroke-width: 1.5;\" x1=\"152\" x2=\"192\" y1=\"399.9375\" y2=\"399.9375\"/></a><!--MD5=[60a26617385b1d2d0262a64233df1f8d]\n",
       "class E6--><a href=\"psysml:cb468909-38eb-4328-9448-1d282e0fd6a5\" target=\"_top\" title=\"psysml:cb468909-38eb-4328-9448-1d282e0fd6a5\" xlink:actuate=\"onRequest\" xlink:href=\"psysml:cb468909-38eb-4328-9448-1d282e0fd6a5\" xlink:show=\"new\" xlink:title=\"psysml:cb468909-38eb-4328-9448-1d282e0fd6a5\" xlink:type=\"simple\"><rect fill=\"#FFFFFF\" height=\"45.9375\" id=\"E6\" style=\"stroke: #383838; stroke-width: 1.5;\" width=\"67\" x=\"114.5\" y=\"637\"/><text fill=\"#000000\" font-family=\"sans-serif\" font-size=\"12\" font-style=\"italic\" lengthAdjust=\"spacingAndGlyphs\" textLength=\"65\" x=\"115.5\" y=\"653.1387\">«item def»</text><text fill=\"#000000\" font-family=\"sans-serif\" font-size=\"12\" lengthAdjust=\"spacingAndGlyphs\" textLength=\"8\" x=\"144\" y=\"667.1074\">B</text><line style=\"stroke: #383838; stroke-width: 1.5;\" x1=\"115.5\" x2=\"180.5\" y1=\"674.9375\" y2=\"674.9375\"/></a><!--MD5=[2156ba9850f5573cc1fc38a6a4b2f02b]\n",
       "class E7--><a href=\"psysml:8d68ea76-8496-4a3a-9bac-3b5e10d4f6d7\" target=\"_top\" title=\"psysml:8d68ea76-8496-4a3a-9bac-3b5e10d4f6d7\" xlink:actuate=\"onRequest\" xlink:href=\"psysml:8d68ea76-8496-4a3a-9bac-3b5e10d4f6d7\" xlink:show=\"new\" xlink:title=\"psysml:8d68ea76-8496-4a3a-9bac-3b5e10d4f6d7\" xlink:type=\"simple\"><rect fill=\"#FFFFFF\" height=\"45.9375\" id=\"E7\" rx=\"10\" ry=\"10\" style=\"stroke: #383838; stroke-width: 1.5;\" width=\"42\" x=\"159\" y=\"744\"/><text fill=\"#000000\" font-family=\"sans-serif\" font-size=\"12\" font-style=\"italic\" lengthAdjust=\"spacingAndGlyphs\" textLength=\"40\" x=\"160\" y=\"760.1387\">«part»</text><text fill=\"#000000\" font-family=\"sans-serif\" font-size=\"12\" lengthAdjust=\"spacingAndGlyphs\" textLength=\"24\" x=\"168\" y=\"774.1074\">a: A</text><line style=\"stroke: #383838; stroke-width: 1.5;\" x1=\"160\" x2=\"200\" y1=\"781.9375\" y2=\"781.9375\"/></a><!--MD5=[b9389687b975829384b498ac4b7476b2]\n",
       "class E8--><a href=\"psysml:3d841289-74ad-422d-b7f3-bdfc719d6361\" target=\"_top\" title=\"psysml:3d841289-74ad-422d-b7f3-bdfc719d6361\" xlink:actuate=\"onRequest\" xlink:href=\"psysml:3d841289-74ad-422d-b7f3-bdfc719d6361\" xlink:show=\"new\" xlink:title=\"psysml:3d841289-74ad-422d-b7f3-bdfc719d6361\" xlink:type=\"simple\"><rect fill=\"#FFFFFF\" height=\"45.9375\" id=\"E8\" style=\"stroke: #383838; stroke-width: 1.5;\" width=\"66\" x=\"115\" y=\"514\"/><text fill=\"#000000\" font-family=\"sans-serif\" font-size=\"12\" font-style=\"italic\" lengthAdjust=\"spacingAndGlyphs\" textLength=\"64\" x=\"116\" y=\"530.1387\">«part def»</text><text fill=\"#000000\" font-family=\"sans-serif\" font-size=\"12\" lengthAdjust=\"spacingAndGlyphs\" textLength=\"8\" x=\"144\" y=\"544.1074\">C</text><line style=\"stroke: #383838; stroke-width: 1.5;\" x1=\"116\" x2=\"180\" y1=\"551.9375\" y2=\"551.9375\"/></a><!--MD5=[fd4143e9d270a159db93a4ea2a975926]\n",
       "class E9--><a href=\"psysml:192666b5-43c5-4ec0-a40a-8ab471017ca3\" target=\"_top\" title=\"psysml:192666b5-43c5-4ec0-a40a-8ab471017ca3\" xlink:actuate=\"onRequest\" xlink:href=\"psysml:192666b5-43c5-4ec0-a40a-8ab471017ca3\" xlink:show=\"new\" xlink:title=\"psysml:192666b5-43c5-4ec0-a40a-8ab471017ca3\" xlink:type=\"simple\"><rect fill=\"#FFFFFF\" height=\"45.9375\" id=\"E9\" style=\"stroke: #383838; stroke-width: 1.5;\" width=\"66\" x=\"65\" y=\"41\"/><text fill=\"#000000\" font-family=\"sans-serif\" font-size=\"12\" font-style=\"italic\" lengthAdjust=\"spacingAndGlyphs\" textLength=\"64\" x=\"66\" y=\"57.1387\">«port def»</text><text fill=\"#000000\" font-family=\"sans-serif\" font-size=\"12\" lengthAdjust=\"spacingAndGlyphs\" textLength=\"8\" x=\"94\" y=\"71.1074\">P</text><line style=\"stroke: #383838; stroke-width: 1.5;\" x1=\"66\" x2=\"130\" y1=\"78.9375\" y2=\"78.9375\"/></a><!--MD5=[96f4274e9e20536e775497830990834d]\n",
       "class E10--><a href=\"psysml:a2436968-c74d-4c9f-bf2a-127bcc502b4e\" target=\"_top\" title=\"psysml:a2436968-c74d-4c9f-bf2a-127bcc502b4e\" xlink:actuate=\"onRequest\" xlink:href=\"psysml:a2436968-c74d-4c9f-bf2a-127bcc502b4e\" xlink:show=\"new\" xlink:title=\"psysml:a2436968-c74d-4c9f-bf2a-127bcc502b4e\" xlink:type=\"simple\"><rect fill=\"#FFFFFF\" height=\"45.9375\" id=\"E10\" rx=\"10\" ry=\"10\" style=\"stroke: #383838; stroke-width: 1.5;\" width=\"43\" x=\"32.5\" y=\"148\"/><text fill=\"#000000\" font-family=\"sans-serif\" font-size=\"12\" font-style=\"italic\" lengthAdjust=\"spacingAndGlyphs\" textLength=\"41\" x=\"33.5\" y=\"164.1387\">«item»</text><text fill=\"#000000\" font-family=\"sans-serif\" font-size=\"12\" lengthAdjust=\"spacingAndGlyphs\" textLength=\"32\" x=\"38\" y=\"178.1074\">a1: A</text><line style=\"stroke: #383838; stroke-width: 1.5;\" x1=\"33.5\" x2=\"74.5\" y1=\"185.9375\" y2=\"185.9375\"/></a><!--MD5=[1dd1bfd58a279cf63c5f349dbc8fc6a1]\n",
       "class E11--><a href=\"psysml:6388cc28-f9be-476c-ad05-d9ff93971fbb\" target=\"_top\" title=\"psysml:6388cc28-f9be-476c-ad05-d9ff93971fbb\" xlink:actuate=\"onRequest\" xlink:href=\"psysml:6388cc28-f9be-476c-ad05-d9ff93971fbb\" xlink:show=\"new\" xlink:title=\"psysml:6388cc28-f9be-476c-ad05-d9ff93971fbb\" xlink:type=\"simple\"><rect fill=\"#FFFFFF\" height=\"45.9375\" id=\"E11\" rx=\"10\" ry=\"10\" style=\"stroke: #383838; stroke-width: 1.5;\" width=\"43\" x=\"110.5\" y=\"148\"/><text fill=\"#000000\" font-family=\"sans-serif\" font-size=\"12\" font-style=\"italic\" lengthAdjust=\"spacingAndGlyphs\" textLength=\"41\" x=\"111.5\" y=\"164.1387\">«item»</text><text fill=\"#000000\" font-family=\"sans-serif\" font-size=\"12\" lengthAdjust=\"spacingAndGlyphs\" textLength=\"32\" x=\"116\" y=\"178.1074\">a2: A</text><line style=\"stroke: #383838; stroke-width: 1.5;\" x1=\"111.5\" x2=\"152.5\" y1=\"185.9375\" y2=\"185.9375\"/></a><!--MD5=[2720a5a1f2c3fca2055b230370638851]\n",
       "link E2 to E3--><a href=\"psysml:24dbd283-1078-40f8-9dda-86d7de7bac74\" target=\"_top\" title=\"psysml:24dbd283-1078-40f8-9dda-86d7de7bac74\" xlink:actuate=\"onRequest\" xlink:href=\"psysml:24dbd283-1078-40f8-9dda-86d7de7bac74\" xlink:show=\"new\" xlink:title=\"psysml:24dbd283-1078-40f8-9dda-86d7de7bac74\" xlink:type=\"simple\"><path d=\"M193.65,194.01 C184.14,206.81 171.89,223.3 160.82,238.2 \" fill=\"none\" id=\"E2-&gt;E3\" style=\"stroke: #383838; stroke-width: 1.0;\"/><polygon fill=\"#FFFFFF\" points=\"148.6,254.66,154.3195,235.2361,165.5543,243.5896,148.6,254.66\" style=\"stroke: #383838; stroke-width: 1.0;\"/><ellipse cx=\"159.3256\" cy=\"231.8554\" fill=\"#383838\" rx=\"2\" ry=\"2\" style=\"stroke: #383838; stroke-width: 1.0;\"/><ellipse cx=\"167.3504\" cy=\"237.8221\" fill=\"#383838\" rx=\"2\" ry=\"2\" style=\"stroke: #383838; stroke-width: 1.0;\"/></a><!--MD5=[4672eba38e49728da53d11aeb285b987]\n",
       "reverse link E3 to E4--><a href=\"psysml:9f51e7d9-1020-406a-8433-de0298038040\" target=\"_top\" title=\"psysml:9f51e7d9-1020-406a-8433-de0298038040\" xlink:actuate=\"onRequest\" xlink:href=\"psysml:9f51e7d9-1020-406a-8433-de0298038040\" xlink:show=\"new\" xlink:title=\"psysml:9f51e7d9-1020-406a-8433-de0298038040\" xlink:type=\"simple\"><path d=\"M105.34,311.54 C86.29,334.8 64,362 64,362 C64,362 64,408 64,408 C64,408 64.91,423.77 65.73,437.95 \" fill=\"none\" id=\"E3&lt;-E4\" style=\"stroke: #383838; stroke-width: 1.0;\"/><polygon fill=\"#383838\" points=\"113.78,301.24,106.883,303.3449,106.1733,310.521,113.0703,308.4161,113.78,301.24\" style=\"stroke: #383838; stroke-width: 1.0;\"/><text fill=\"#000000\" font-family=\"sans-serif\" font-size=\"13\" lengthAdjust=\"spacingAndGlyphs\" textLength=\"8\" x=\"56.3137\" y=\"426.8328\">1</text></a><!--MD5=[191cde3d490a3f6d7bb551fe3ddca469]\n",
       "reverse link E3 to E5--><a href=\"psysml:7a936c29-0528-4da5-855d-3be7e5f4e113\" target=\"_top\" title=\"psysml:7a936c29-0528-4da5-855d-3be7e5f4e113\" xlink:actuate=\"onRequest\" xlink:href=\"psysml:7a936c29-0528-4da5-855d-3be7e5f4e113\" xlink:show=\"new\" xlink:title=\"psysml:7a936c29-0528-4da5-855d-3be7e5f4e113\" xlink:type=\"simple\"><path d=\"M145.17,313.57 C151.2,329.39 158.16,347.68 163.49,361.66 \" fill=\"none\" id=\"E3&lt;-E5\" style=\"stroke: #383838; stroke-width: 1.0;\"/><polygon fill=\"#FFFFFF\" points=\"140.39,301.01,138.7866,308.0406,144.6598,312.2247,146.2631,305.1941,140.39,301.01\" style=\"stroke: #383838; stroke-width: 1.0;\"/><text fill=\"#000000\" font-family=\"sans-serif\" font-size=\"13\" lengthAdjust=\"spacingAndGlyphs\" textLength=\"8\" x=\"152.2843\" y=\"350.8492\">1</text></a><!--MD5=[79568f1e445c3877b6a54524624ccc7d]\n",
       "link E4 to E6--><a href=\"psysml:860f4e4a-475c-4d3a-a05e-585111d40739\" target=\"_top\" title=\"psysml:860f4e4a-475c-4d3a-a05e-585111d40739\" xlink:actuate=\"onRequest\" xlink:href=\"psysml:860f4e4a-475c-4d3a-a05e-585111d40739\" xlink:show=\"new\" xlink:title=\"psysml:860f4e4a-475c-4d3a-a05e-585111d40739\" xlink:type=\"simple\"><path d=\"M74.03,484.24 C83.18,513.15 98,560 98,560 C98,560 113.78,591.24 127.61,618.63 \" fill=\"none\" id=\"E4-&gt;E6\" style=\"stroke: #383838; stroke-width: 1.0;\"/><polygon fill=\"#FFFFFF\" points=\"136.65,636.54,121.8389,622.733,134.3368,616.4241,136.65,636.54\" style=\"stroke: #383838; stroke-width: 1.0;\"/><ellipse cx=\"121.0557\" cy=\"616.7433\" fill=\"#383838\" rx=\"2\" ry=\"2\" style=\"stroke: #383838; stroke-width: 1.0;\"/><ellipse cx=\"129.9828\" cy=\"612.237\" fill=\"#383838\" rx=\"2\" ry=\"2\" style=\"stroke: #383838; stroke-width: 1.0;\"/></a><!--MD5=[3f50a3473f1dfb74d3f76443e03635af]\n",
       "reverse link E6 to E7--><a href=\"psysml:01396c82-09da-45aa-ba0c-a7dad5741ff2\" target=\"_top\" title=\"psysml:01396c82-09da-45aa-ba0c-a7dad5741ff2\" xlink:actuate=\"onRequest\" xlink:href=\"psysml:01396c82-09da-45aa-ba0c-a7dad5741ff2\" xlink:show=\"new\" xlink:title=\"psysml:01396c82-09da-45aa-ba0c-a7dad5741ff2\" xlink:type=\"simple\"><path d=\"M158.54,695.57 C163.36,711.39 168.93,729.68 173.19,743.66 \" fill=\"none\" id=\"E6&lt;-E7\" style=\"stroke: #383838; stroke-width: 1.0;\"/><polygon fill=\"#383838\" points=\"154.71,683.01,152.6319,689.9152,158.2066,694.4893,160.2847,687.5841,154.71,683.01\" style=\"stroke: #383838; stroke-width: 1.0;\"/><text fill=\"#000000\" font-family=\"sans-serif\" font-size=\"13\" lengthAdjust=\"spacingAndGlyphs\" textLength=\"8\" x=\"162.4199\" y=\"732.8492\">1</text></a><!--MD5=[14ccda38c055a5c0da953d572bc50960]\n",
       "link E7 to E3--><a href=\"psysml:d97708ca-1830-4e5e-bf07-a2aabe0546e8\" target=\"_top\" title=\"psysml:d97708ca-1830-4e5e-bf07-a2aabe0546e8\" xlink:actuate=\"onRequest\" xlink:href=\"psysml:d97708ca-1830-4e5e-bf07-a2aabe0546e8\" xlink:show=\"new\" xlink:title=\"psysml:d97708ca-1830-4e5e-bf07-a2aabe0546e8\" xlink:type=\"simple\"><path d=\"M190.27,743.99 C204.64,713.2 229,661 229,661 C229,384 229,384 229,384 C229,384 211,362 211,362 C211,362 188.27,338.12 167.2,315.98 \" fill=\"none\" id=\"E7-&gt;E3\" style=\"stroke: #383838; stroke-width: 1.0;\"/><polygon fill=\"#FFFFFF\" points=\"153.17,301.24,171.3437,310.1683,161.2072,319.825,153.17,301.24\" style=\"stroke: #383838; stroke-width: 1.0;\"/><ellipse cx=\"173.8273\" cy=\"315.6749\" fill=\"#383838\" rx=\"2\" ry=\"2\" style=\"stroke: #383838; stroke-width: 1.0;\"/><ellipse cx=\"166.5869\" cy=\"322.5725\" fill=\"#383838\" rx=\"2\" ry=\"2\" style=\"stroke: #383838; stroke-width: 1.0;\"/></a><!--MD5=[dfaffb906826c3e5aca635516100ff21]\n",
       "link E5 to E8--><a href=\"psysml:75f754af-bdfa-473b-8cbb-d11c609ad500\" target=\"_top\" title=\"psysml:75f754af-bdfa-473b-8cbb-d11c609ad500\" xlink:actuate=\"onRequest\" xlink:href=\"psysml:75f754af-bdfa-473b-8cbb-d11c609ad500\" xlink:show=\"new\" xlink:title=\"psysml:75f754af-bdfa-473b-8cbb-d11c609ad500\" xlink:type=\"simple\"><path d=\"M168.46,408.13 C164.86,430.62 159.2,466.01 154.74,493.87 \" fill=\"none\" id=\"E5-&gt;E8\" style=\"stroke: #383838; stroke-width: 1.0;\"/><polygon fill=\"#FFFFFF\" points=\"151.56,513.78,147.6458,493.9135,161.4704,496.1226,151.56,513.78\" style=\"stroke: #383838; stroke-width: 1.0;\"/><ellipse cx=\"150.5202\" cy=\"488.6005\" fill=\"#383838\" rx=\"2\" ry=\"2\" style=\"stroke: #383838; stroke-width: 1.0;\"/><ellipse cx=\"160.3949\" cy=\"490.1784\" fill=\"#383838\" rx=\"2\" ry=\"2\" style=\"stroke: #383838; stroke-width: 1.0;\"/></a><!--MD5=[03c8294790d3c57651a1993cecff665f]\n",
       "reverse link E8 to E3--><a href=\"psysml:aa35edca-3910-4cd9-97ff-300d5c8627fc\" target=\"_top\" title=\"psysml:aa35edca-3910-4cd9-97ff-300d5c8627fc\" xlink:actuate=\"onRequest\" xlink:href=\"psysml:aa35edca-3910-4cd9-97ff-300d5c8627fc\" xlink:show=\"new\" xlink:title=\"psysml:aa35edca-3910-4cd9-97ff-300d5c8627fc\" xlink:type=\"simple\"><path d=\"M141.7,500.94 C134.89,463.05 125,408 125,408 C125,408 125,362 125,362 C125,362 128.05,325.83 130.12,301.24 \" fill=\"none\" id=\"E8&lt;-E3\" style=\"stroke: #383838; stroke-width: 1.0;\"/><polygon fill=\"#FFFFFF\" points=\"144.05,514,146.9258,507.3872,141.9277,502.1892,139.0519,508.802,144.05,514\" style=\"stroke: #383838; stroke-width: 1.0;\"/><text fill=\"#000000\" font-family=\"sans-serif\" font-size=\"13\" lengthAdjust=\"spacingAndGlyphs\" textLength=\"7\" x=\"126\" y=\"389.5669\">y</text></a><!--MD5=[0d75d2178373a6a4568e5dc728f58aef]\n",
       "reverse link E8 to E6--><a href=\"psysml:aa35edca-3910-4cd9-97ff-300d5c8627fc\" target=\"_top\" title=\"psysml:aa35edca-3910-4cd9-97ff-300d5c8627fc\" xlink:actuate=\"onRequest\" xlink:href=\"psysml:aa35edca-3910-4cd9-97ff-300d5c8627fc\" xlink:show=\"new\" xlink:title=\"psysml:aa35edca-3910-4cd9-97ff-300d5c8627fc\" xlink:type=\"simple\"><path d=\"M148,573.22 C148,593.81 148,619.16 148,636.95 \" fill=\"none\" id=\"E8&lt;-E6\" style=\"stroke: #383838; stroke-width: 1.0;\"/><polygon fill=\"#FFFFFF\" points=\"148,560.19,144,566.19,148,572.19,152,566.19,148,560.19\" style=\"stroke: #383838; stroke-width: 1.0;\"/><text fill=\"#000000\" font-family=\"sans-serif\" font-size=\"13\" lengthAdjust=\"spacingAndGlyphs\" textLength=\"7\" x=\"149\" y=\"603.0669\">y</text></a><!--MD5=[23ac544a70576c3e717098101004234c]\n",
       "reverse link E9 to E10--><a href=\"psysml:cf1da376-637e-4400-b815-716d62b1c417\" target=\"_top\" title=\"psysml:cf1da376-637e-4400-b815-716d62b1c417\" xlink:actuate=\"onRequest\" xlink:href=\"psysml:cf1da376-637e-4400-b815-716d62b1c417\" xlink:show=\"new\" xlink:title=\"psysml:cf1da376-637e-4400-b815-716d62b1c417\" xlink:type=\"simple\"><path d=\"M83.71,99.1 C77.04,115.03 69.28,133.54 63.36,147.66 \" fill=\"none\" id=\"E9&lt;-E10\" style=\"stroke: #383838; stroke-width: 1.0;\"/><polygon fill=\"#FFFFFF\" points=\"88.78,87.01,82.7702,90.9953,84.1375,98.0756,90.1473,94.0903,88.78,87.01\" style=\"stroke: #383838; stroke-width: 1.0;\"/><text fill=\"#000000\" font-family=\"sans-serif\" font-size=\"13\" lengthAdjust=\"spacingAndGlyphs\" textLength=\"8\" x=\"56.7335\" y=\"136.8492\">1</text></a><!--MD5=[feeac5eb423634930294aa81f2d25a4c]\n",
       "link E10 to E3--><a href=\"psysml:4cf35cfc-841e-4847-875d-1ebad6bb61b9\" target=\"_top\" title=\"psysml:4cf35cfc-841e-4847-875d-1ebad6bb61b9\" xlink:actuate=\"onRequest\" xlink:href=\"psysml:4cf35cfc-841e-4847-875d-1ebad6bb61b9\" xlink:show=\"new\" xlink:title=\"psysml:4cf35cfc-841e-4847-875d-1ebad6bb61b9\" xlink:type=\"simple\"><path d=\"M70.35,194.01 C79.86,206.81 92.11,223.3 103.18,238.2 \" fill=\"none\" id=\"E10-&gt;E3\" style=\"stroke: #383838; stroke-width: 1.0;\"/><polygon fill=\"#FFFFFF\" points=\"115.4,254.66,98.4457,243.5896,109.6805,235.2361,115.4,254.66\" style=\"stroke: #383838; stroke-width: 1.0;\"/><ellipse cx=\"96.6496\" cy=\"237.8221\" fill=\"#383838\" rx=\"2\" ry=\"2\" style=\"stroke: #383838; stroke-width: 1.0;\"/><ellipse cx=\"104.6744\" cy=\"231.8554\" fill=\"#383838\" rx=\"2\" ry=\"2\" style=\"stroke: #383838; stroke-width: 1.0;\"/></a><!--MD5=[1fc04a95fd77ad5ce46c1a3027516051]\n",
       "reverse link E9 to E11--><a href=\"psysml:bd05daaf-8002-489d-bbfa-6134af678ace\" target=\"_top\" title=\"psysml:bd05daaf-8002-489d-bbfa-6134af678ace\" xlink:actuate=\"onRequest\" xlink:href=\"psysml:bd05daaf-8002-489d-bbfa-6134af678ace\" xlink:show=\"new\" xlink:title=\"psysml:bd05daaf-8002-489d-bbfa-6134af678ace\" xlink:type=\"simple\"><path d=\"M109.19,99.57 C114.32,115.39 120.24,133.68 124.76,147.66 \" fill=\"none\" id=\"E9&lt;-E11\" style=\"stroke: #383838; stroke-width: 1.0;\"/><polygon fill=\"#FFFFFF\" points=\"105.13,87.01,103.1699,93.9496,108.8217,98.428,110.7819,91.4884,105.13,87.01\" style=\"stroke: #383838; stroke-width: 1.0;\"/><text fill=\"#000000\" font-family=\"sans-serif\" font-size=\"13\" lengthAdjust=\"spacingAndGlyphs\" textLength=\"8\" x=\"113.8798\" y=\"136.8492\">1</text></a><!--MD5=[0517f1ce58c4d5483948f93845c45e26]\n",
       "link E11 to E3--><a href=\"psysml:31e39f64-1f8d-4b2c-be98-c1459e5d6e94\" target=\"_top\" title=\"psysml:31e39f64-1f8d-4b2c-be98-c1459e5d6e94\" xlink:actuate=\"onRequest\" xlink:href=\"psysml:31e39f64-1f8d-4b2c-be98-c1459e5d6e94\" xlink:show=\"new\" xlink:title=\"psysml:31e39f64-1f8d-4b2c-be98-c1459e5d6e94\" xlink:type=\"simple\"><path d=\"M132,194.01 C132,205.69 132,220.46 132,234.28 \" fill=\"none\" id=\"E11-&gt;E3\" style=\"stroke: #383838; stroke-width: 1.0;\"/><polygon fill=\"#FFFFFF\" points=\"132,254.66,125,235.66,139,235.66,132,254.66\" style=\"stroke: #383838; stroke-width: 1.0;\"/><ellipse cx=\"127\" cy=\"229.96\" fill=\"#383838\" rx=\"2\" ry=\"2\" style=\"stroke: #383838; stroke-width: 1.0;\"/><ellipse cx=\"137\" cy=\"229.96\" fill=\"#383838\" rx=\"2\" ry=\"2\" style=\"stroke: #383838; stroke-width: 1.0;\"/></a><!--MD5=[993a776c3b3ef1ce25d576b7f30c91d3]\n",
       "@startuml\r\n",
       "skinparam linetype polyline\r\n",
       "skinparam monochrome true\r\n",
       "skinparam classbackgroundcolor white\r\n",
       "skinparam shadowing false\r\n",
       "skinparam wrapWidth 300\r\n",
       "hide circle\r\n",
       "\r\n",
       "package \"ItemTest\" as E1  [[psysml:1bc06463-7392-4b34-87d6-1f1d6784670a ]]  {\r\n",
       "comp usage \"f: A\" as E2  <<(T,blue) item>> [[psysml:10e5f196-141c-4ebb-934a-0a8c25223d15 ]] {\r\n",
       "}\r\n",
       "comp def \"A\" as E3  <<(T,blue) item def>> [[psysml:d8185bfd-cc57-4585-aec6-0a59765b9e32 ]] {\r\n",
       "}\r\n",
       "comp usage \"b: B\" as E4  <<(T,blue) item>> [[psysml:867e3ff9-f74d-45bb-974d-3b3d8373197d ]] {\r\n",
       "}\r\n",
       "comp usage \"c: C\" as E5  <<(T,blue) part>> [[psysml:cb0d56cf-7b64-416e-8353-0e76041e55a4 ]] {\r\n",
       "}\r\n",
       "comp def \"B\" as E6  <<(T,blue) item def>> [[psysml:cb468909-38eb-4328-9448-1d282e0fd6a5 ]] {\r\n",
       "}\r\n",
       "comp usage \"a: A\" as E7  <<(T,blue) part>> [[psysml:8d68ea76-8496-4a3a-9bac-3b5e10d4f6d7 ]] {\r\n",
       "}\r\n",
       "comp def \"C\" as E8  <<(T,blue) part def>> [[psysml:3d841289-74ad-422d-b7f3-bdfc719d6361 ]] {\r\n",
       "}\r\n",
       "comp def \"P\" as E9  <<(T,blue) port def>> [[psysml:192666b5-43c5-4ec0-a40a-8ab471017ca3 ]] {\r\n",
       "}\r\n",
       "comp usage \"a1: A\" as E10  <<(T,blue) item>> [[psysml:a2436968-c74d-4c9f-bf2a-127bcc502b4e ]] {\r\n",
       "}\r\n",
       "comp usage \"a2: A\" as E11  <<(T,blue) item>> [[psysml:6388cc28-f9be-476c-ad05-d9ff93971fbb ]] {\r\n",
       "}\r\n",
       "}\r\n",
       "E2 - -:|> E3 [[psysml:24dbd283-1078-40f8-9dda-86d7de7bac74 ]] \r\n",
       "E3 *- - \"1\"E4 [[psysml:9f51e7d9-1020-406a-8433-de0298038040 ]] \r\n",
       "E3 o- - \"1\"E5 [[psysml:7a936c29-0528-4da5-855d-3be7e5f4e113 ]] \r\n",
       "E4 - -:|> E6 [[psysml:860f4e4a-475c-4d3a-a05e-585111d40739 ]] \r\n",
       "E6 *- - \"1\"E7 [[psysml:01396c82-09da-45aa-ba0c-a7dad5741ff2 ]] \r\n",
       "E7 - -:|> E3 [[psysml:d97708ca-1830-4e5e-bf07-a2aabe0546e8 ]] \r\n",
       "E5 - -:|> E8 [[psysml:75f754af-bdfa-473b-8cbb-d11c609ad500 ]] \r\n",
       "E8 o- - E3 [[psysml:aa35edca-3910-4cd9-97ff-300d5c8627fc ]] : y\r\n",
       "E8 o- - E6 [[psysml:aa35edca-3910-4cd9-97ff-300d5c8627fc ]] : y\r\n",
       "E9 o- - \"1\"E10 [[psysml:cf1da376-637e-4400-b815-716d62b1c417 ]] \r\n",
       "E10 - -:|> E3 [[psysml:4cf35cfc-841e-4847-875d-1ebad6bb61b9 ]] \r\n",
       "E9 o- - \"1\"E11 [[psysml:bd05daaf-8002-489d-bbfa-6134af678ace ]] \r\n",
       "E11 - -:|> E3 [[psysml:31e39f64-1f8d-4b2c-be98-c1459e5d6e94 ]] \r\n",
       "@enduml\r\n",
       "\n",
       "PlantUML version 1.2020.13(Sat Jun 13 12:26:38 UTC 2020)\n",
       "(EPL source distribution)\n",
       "Java Runtime: OpenJDK Runtime Environment\n",
       "JVM: OpenJDK 64-Bit Server VM\n",
       "Default Encoding: UTF-8\n",
       "Language: en\n",
       "Country: null\n",
       "--></g></svg>"
      ]
     },
     "execution_count": 15,
     "metadata": {},
     "output_type": "execute_result"
    }
   ],
   "source": [
    "%viz --style=\"POLYLINE\" --view=\"MIXED\" \"ItemTest\""
   ]
  },
  {
   "cell_type": "code",
   "execution_count": 16,
   "id": "e465241c",
   "metadata": {
    "execution": {
     "iopub.execute_input": "2021-10-03T08:27:27.416253Z",
     "iopub.status.busy": "2021-10-03T08:27:27.415741Z",
     "iopub.status.idle": "2021-10-03T08:27:27.472228Z",
     "shell.execute_reply": "2021-10-03T08:27:27.471783Z"
    }
   },
   "outputs": [
    {
     "data": {
      "image/svg+xml": [
       "<?xml version=\"1.0\" encoding=\"UTF-8\" standalone=\"no\"?><svg xmlns=\"http://www.w3.org/2000/svg\" xmlns:xlink=\"http://www.w3.org/1999/xlink\" contentScriptType=\"application/ecmascript\" contentStyleType=\"text/css\" height=\"277px\" preserveAspectRatio=\"none\" style=\"width:879px;height:277px;\" version=\"1.1\" viewBox=\"0 0 879 277\" width=\"879px\" zoomAndPan=\"magnify\"><defs/><g><!--MD5=[fbc87193dbaf4d95561dea2c320d4a47]\n",
       "cluster E1--><a href=\"psysml:1bc06463-7392-4b34-87d6-1f1d6784670a\" target=\"_top\" title=\"psysml:1bc06463-7392-4b34-87d6-1f1d6784670a\" xlink:actuate=\"onRequest\" xlink:href=\"psysml:1bc06463-7392-4b34-87d6-1f1d6784670a\" xlink:show=\"new\" xlink:title=\"psysml:1bc06463-7392-4b34-87d6-1f1d6784670a\" xlink:type=\"simple\"><polygon fill=\"#FFFFFF\" points=\"16,6,83,6,90,28.2969,857,28.2969,857,265,16,265,16,6\" style=\"stroke: #000000; stroke-width: 1.5;\"/><line style=\"stroke: #000000; stroke-width: 1.5;\" x1=\"16\" x2=\"90\" y1=\"28.2969\" y2=\"28.2969\"/><text fill=\"#000000\" font-family=\"sans-serif\" font-size=\"14\" font-weight=\"bold\" lengthAdjust=\"spacingAndGlyphs\" textLength=\"61\" x=\"20\" y=\"20.9951\">ItemTest</text></a><!--MD5=[b4997ac47864f28c2f74865a473b2911]\n",
       "class E2--><a href=\"psysml:10e5f196-141c-4ebb-934a-0a8c25223d15\" target=\"_top\" title=\"psysml:10e5f196-141c-4ebb-934a-0a8c25223d15\" xlink:actuate=\"onRequest\" xlink:href=\"psysml:10e5f196-141c-4ebb-934a-0a8c25223d15\" xlink:show=\"new\" xlink:title=\"psysml:10e5f196-141c-4ebb-934a-0a8c25223d15\" xlink:type=\"simple\"><rect fill=\"#FFFFFF\" height=\"45.9375\" id=\"E2\" rx=\"10\" ry=\"10\" style=\"stroke: #383838; stroke-width: 1.5;\" width=\"43\" x=\"159\" y=\"41\"/><text fill=\"#000000\" font-family=\"sans-serif\" font-size=\"12\" font-style=\"italic\" lengthAdjust=\"spacingAndGlyphs\" textLength=\"41\" x=\"160\" y=\"57.1387\">«item»</text><text fill=\"#000000\" font-family=\"sans-serif\" font-size=\"12\" lengthAdjust=\"spacingAndGlyphs\" textLength=\"20\" x=\"170.5\" y=\"71.1074\">f: A</text><line style=\"stroke: #383838; stroke-width: 1.5;\" x1=\"160\" x2=\"201\" y1=\"78.9375\" y2=\"78.9375\"/></a><!--MD5=[09b614a08d8cba4a07c9adeb5e0fee81]\n",
       "class E3--><a href=\"psysml:d8185bfd-cc57-4585-aec6-0a59765b9e32\" target=\"_top\" title=\"psysml:d8185bfd-cc57-4585-aec6-0a59765b9e32\" xlink:actuate=\"onRequest\" xlink:href=\"psysml:d8185bfd-cc57-4585-aec6-0a59765b9e32\" xlink:show=\"new\" xlink:title=\"psysml:d8185bfd-cc57-4585-aec6-0a59765b9e32\" xlink:type=\"simple\"><rect fill=\"#FFFFFF\" height=\"45.9375\" id=\"E3\" style=\"stroke: #383838; stroke-width: 1.5;\" width=\"67\" x=\"263\" y=\"122\"/><text fill=\"#000000\" font-family=\"sans-serif\" font-size=\"12\" font-style=\"italic\" lengthAdjust=\"spacingAndGlyphs\" textLength=\"65\" x=\"264\" y=\"138.1387\">«item def»</text><text fill=\"#000000\" font-family=\"sans-serif\" font-size=\"12\" lengthAdjust=\"spacingAndGlyphs\" textLength=\"8\" x=\"292.5\" y=\"152.1074\">A</text><line style=\"stroke: #383838; stroke-width: 1.5;\" x1=\"264\" x2=\"329\" y1=\"159.9375\" y2=\"159.9375\"/></a><!--MD5=[ebbe1d658d1005bcc118a6aa81145e00]\n",
       "class E4--><a href=\"psysml:867e3ff9-f74d-45bb-974d-3b3d8373197d\" target=\"_top\" title=\"psysml:867e3ff9-f74d-45bb-974d-3b3d8373197d\" xlink:actuate=\"onRequest\" xlink:href=\"psysml:867e3ff9-f74d-45bb-974d-3b3d8373197d\" xlink:show=\"new\" xlink:title=\"psysml:867e3ff9-f74d-45bb-974d-3b3d8373197d\" xlink:type=\"simple\"><rect fill=\"#FFFFFF\" height=\"45.9375\" id=\"E4\" rx=\"10\" ry=\"10\" style=\"stroke: #383838; stroke-width: 1.5;\" width=\"43\" x=\"463\" y=\"192\"/><text fill=\"#000000\" font-family=\"sans-serif\" font-size=\"12\" font-style=\"italic\" lengthAdjust=\"spacingAndGlyphs\" textLength=\"41\" x=\"464\" y=\"208.1387\">«item»</text><text fill=\"#000000\" font-family=\"sans-serif\" font-size=\"12\" lengthAdjust=\"spacingAndGlyphs\" textLength=\"24\" x=\"472.5\" y=\"222.1074\">b: B</text><line style=\"stroke: #383838; stroke-width: 1.5;\" x1=\"464\" x2=\"505\" y1=\"229.9375\" y2=\"229.9375\"/></a><!--MD5=[270fce915f116d4de14055a7c1d9a0f3]\n",
       "class E5--><a href=\"psysml:cb0d56cf-7b64-416e-8353-0e76041e55a4\" target=\"_top\" title=\"psysml:cb0d56cf-7b64-416e-8353-0e76041e55a4\" xlink:actuate=\"onRequest\" xlink:href=\"psysml:cb0d56cf-7b64-416e-8353-0e76041e55a4\" xlink:show=\"new\" xlink:title=\"psysml:cb0d56cf-7b64-416e-8353-0e76041e55a4\" xlink:type=\"simple\"><rect fill=\"#FFFFFF\" height=\"45.9375\" id=\"E5\" rx=\"10\" ry=\"10\" style=\"stroke: #383838; stroke-width: 1.5;\" width=\"42\" x=\"391\" y=\"78\"/><text fill=\"#000000\" font-family=\"sans-serif\" font-size=\"12\" font-style=\"italic\" lengthAdjust=\"spacingAndGlyphs\" textLength=\"40\" x=\"392\" y=\"94.1387\">«part»</text><text fill=\"#000000\" font-family=\"sans-serif\" font-size=\"12\" lengthAdjust=\"spacingAndGlyphs\" textLength=\"23\" x=\"400.5\" y=\"108.1074\">c: C</text><line style=\"stroke: #383838; stroke-width: 1.5;\" x1=\"392\" x2=\"432\" y1=\"115.9375\" y2=\"115.9375\"/></a><!--MD5=[60a26617385b1d2d0262a64233df1f8d]\n",
       "class E6--><a href=\"psysml:cb468909-38eb-4328-9448-1d282e0fd6a5\" target=\"_top\" title=\"psysml:cb468909-38eb-4328-9448-1d282e0fd6a5\" xlink:actuate=\"onRequest\" xlink:href=\"psysml:cb468909-38eb-4328-9448-1d282e0fd6a5\" xlink:show=\"new\" xlink:title=\"psysml:cb468909-38eb-4328-9448-1d282e0fd6a5\" xlink:type=\"simple\"><rect fill=\"#FFFFFF\" height=\"45.9375\" id=\"E6\" style=\"stroke: #383838; stroke-width: 1.5;\" width=\"67\" x=\"671\" y=\"105\"/><text fill=\"#000000\" font-family=\"sans-serif\" font-size=\"12\" font-style=\"italic\" lengthAdjust=\"spacingAndGlyphs\" textLength=\"65\" x=\"672\" y=\"121.1387\">«item def»</text><text fill=\"#000000\" font-family=\"sans-serif\" font-size=\"12\" lengthAdjust=\"spacingAndGlyphs\" textLength=\"8\" x=\"700.5\" y=\"135.1074\">B</text><line style=\"stroke: #383838; stroke-width: 1.5;\" x1=\"672\" x2=\"737\" y1=\"142.9375\" y2=\"142.9375\"/></a><!--MD5=[2156ba9850f5573cc1fc38a6a4b2f02b]\n",
       "class E7--><a href=\"psysml:8d68ea76-8496-4a3a-9bac-3b5e10d4f6d7\" target=\"_top\" title=\"psysml:8d68ea76-8496-4a3a-9bac-3b5e10d4f6d7\" xlink:actuate=\"onRequest\" xlink:href=\"psysml:8d68ea76-8496-4a3a-9bac-3b5e10d4f6d7\" xlink:show=\"new\" xlink:title=\"psysml:8d68ea76-8496-4a3a-9bac-3b5e10d4f6d7\" xlink:type=\"simple\"><rect fill=\"#FFFFFF\" height=\"45.9375\" id=\"E7\" rx=\"10\" ry=\"10\" style=\"stroke: #383838; stroke-width: 1.5;\" width=\"42\" x=\"799\" y=\"73\"/><text fill=\"#000000\" font-family=\"sans-serif\" font-size=\"12\" font-style=\"italic\" lengthAdjust=\"spacingAndGlyphs\" textLength=\"40\" x=\"800\" y=\"89.1387\">«part»</text><text fill=\"#000000\" font-family=\"sans-serif\" font-size=\"12\" lengthAdjust=\"spacingAndGlyphs\" textLength=\"24\" x=\"808\" y=\"103.1074\">a: A</text><line style=\"stroke: #383838; stroke-width: 1.5;\" x1=\"800\" x2=\"840\" y1=\"110.9375\" y2=\"110.9375\"/></a><!--MD5=[b9389687b975829384b498ac4b7476b2]\n",
       "class E8--><a href=\"psysml:3d841289-74ad-422d-b7f3-bdfc719d6361\" target=\"_top\" title=\"psysml:3d841289-74ad-422d-b7f3-bdfc719d6361\" xlink:actuate=\"onRequest\" xlink:href=\"psysml:3d841289-74ad-422d-b7f3-bdfc719d6361\" xlink:show=\"new\" xlink:title=\"psysml:3d841289-74ad-422d-b7f3-bdfc719d6361\" xlink:type=\"simple\"><rect fill=\"#FFFFFF\" height=\"45.9375\" id=\"E8\" style=\"stroke: #383838; stroke-width: 1.5;\" width=\"66\" x=\"536\" y=\"105\"/><text fill=\"#000000\" font-family=\"sans-serif\" font-size=\"12\" font-style=\"italic\" lengthAdjust=\"spacingAndGlyphs\" textLength=\"64\" x=\"537\" y=\"121.1387\">«part def»</text><text fill=\"#000000\" font-family=\"sans-serif\" font-size=\"12\" lengthAdjust=\"spacingAndGlyphs\" textLength=\"8\" x=\"565\" y=\"135.1074\">C</text><line style=\"stroke: #383838; stroke-width: 1.5;\" x1=\"537\" x2=\"601\" y1=\"142.9375\" y2=\"142.9375\"/></a><!--MD5=[fd4143e9d270a159db93a4ea2a975926]\n",
       "class E9--><a href=\"psysml:192666b5-43c5-4ec0-a40a-8ab471017ca3\" target=\"_top\" title=\"psysml:192666b5-43c5-4ec0-a40a-8ab471017ca3\" xlink:actuate=\"onRequest\" xlink:href=\"psysml:192666b5-43c5-4ec0-a40a-8ab471017ca3\" xlink:show=\"new\" xlink:title=\"psysml:192666b5-43c5-4ec0-a40a-8ab471017ca3\" xlink:type=\"simple\"><rect fill=\"#FFFFFF\" height=\"45.9375\" id=\"E9\" style=\"stroke: #383838; stroke-width: 1.5;\" width=\"66\" x=\"32\" y=\"163\"/><text fill=\"#000000\" font-family=\"sans-serif\" font-size=\"12\" font-style=\"italic\" lengthAdjust=\"spacingAndGlyphs\" textLength=\"64\" x=\"33\" y=\"179.1387\">«port def»</text><text fill=\"#000000\" font-family=\"sans-serif\" font-size=\"12\" lengthAdjust=\"spacingAndGlyphs\" textLength=\"8\" x=\"61\" y=\"193.1074\">P</text><line style=\"stroke: #383838; stroke-width: 1.5;\" x1=\"33\" x2=\"97\" y1=\"200.9375\" y2=\"200.9375\"/></a><!--MD5=[96f4274e9e20536e775497830990834d]\n",
       "class E10--><a href=\"psysml:a2436968-c74d-4c9f-bf2a-127bcc502b4e\" target=\"_top\" title=\"psysml:a2436968-c74d-4c9f-bf2a-127bcc502b4e\" xlink:actuate=\"onRequest\" xlink:href=\"psysml:a2436968-c74d-4c9f-bf2a-127bcc502b4e\" xlink:show=\"new\" xlink:title=\"psysml:a2436968-c74d-4c9f-bf2a-127bcc502b4e\" xlink:type=\"simple\"><rect fill=\"#FFFFFF\" height=\"45.9375\" id=\"E10\" rx=\"10\" ry=\"10\" style=\"stroke: #383838; stroke-width: 1.5;\" width=\"43\" x=\"159\" y=\"203\"/><text fill=\"#000000\" font-family=\"sans-serif\" font-size=\"12\" font-style=\"italic\" lengthAdjust=\"spacingAndGlyphs\" textLength=\"41\" x=\"160\" y=\"219.1387\">«item»</text><text fill=\"#000000\" font-family=\"sans-serif\" font-size=\"12\" lengthAdjust=\"spacingAndGlyphs\" textLength=\"32\" x=\"164.5\" y=\"233.1074\">a1: A</text><line style=\"stroke: #383838; stroke-width: 1.5;\" x1=\"160\" x2=\"201\" y1=\"240.9375\" y2=\"240.9375\"/></a><!--MD5=[1dd1bfd58a279cf63c5f349dbc8fc6a1]\n",
       "class E11--><a href=\"psysml:6388cc28-f9be-476c-ad05-d9ff93971fbb\" target=\"_top\" title=\"psysml:6388cc28-f9be-476c-ad05-d9ff93971fbb\" xlink:actuate=\"onRequest\" xlink:href=\"psysml:6388cc28-f9be-476c-ad05-d9ff93971fbb\" xlink:show=\"new\" xlink:title=\"psysml:6388cc28-f9be-476c-ad05-d9ff93971fbb\" xlink:type=\"simple\"><rect fill=\"#FFFFFF\" height=\"45.9375\" id=\"E11\" rx=\"10\" ry=\"10\" style=\"stroke: #383838; stroke-width: 1.5;\" width=\"43\" x=\"159\" y=\"122\"/><text fill=\"#000000\" font-family=\"sans-serif\" font-size=\"12\" font-style=\"italic\" lengthAdjust=\"spacingAndGlyphs\" textLength=\"41\" x=\"160\" y=\"138.1387\">«item»</text><text fill=\"#000000\" font-family=\"sans-serif\" font-size=\"12\" lengthAdjust=\"spacingAndGlyphs\" textLength=\"32\" x=\"164.5\" y=\"152.1074\">a2: A</text><line style=\"stroke: #383838; stroke-width: 1.5;\" x1=\"160\" x2=\"201\" y1=\"159.9375\" y2=\"159.9375\"/></a><!--MD5=[2720a5a1f2c3fca2055b230370638851]\n",
       "link E2 to E3--><a href=\"psysml:24dbd283-1078-40f8-9dda-86d7de7bac74\" target=\"_top\" title=\"psysml:24dbd283-1078-40f8-9dda-86d7de7bac74\" xlink:actuate=\"onRequest\" xlink:href=\"psysml:24dbd283-1078-40f8-9dda-86d7de7bac74\" xlink:show=\"new\" xlink:title=\"psysml:24dbd283-1078-40f8-9dda-86d7de7bac74\" xlink:type=\"simple\"><path d=\"M202.14,78.67 C214.58,87.51 230.99,99.16 246.57,110.24 \" fill=\"none\" id=\"E2-&gt;E3\" style=\"stroke: #383838; stroke-width: 1.0;\"/><polygon fill=\"#FFFFFF\" points=\"262.93,121.86,243.388,116.558,251.4988,105.1469,262.93,121.86\" style=\"stroke: #383838; stroke-width: 1.0;\"/><ellipse cx=\"239.9007\" cy=\"111.6256\" fill=\"#383838\" rx=\"2\" ry=\"2\" style=\"stroke: #383838; stroke-width: 1.0;\"/><ellipse cx=\"245.6942\" cy=\"103.4748\" fill=\"#383838\" rx=\"2\" ry=\"2\" style=\"stroke: #383838; stroke-width: 1.0;\"/></a><!--MD5=[4672eba38e49728da53d11aeb285b987]\n",
       "reverse link E3 to E4--><a href=\"psysml:9f51e7d9-1020-406a-8433-de0298038040\" target=\"_top\" title=\"psysml:9f51e7d9-1020-406a-8433-de0298038040\" xlink:actuate=\"onRequest\" xlink:href=\"psysml:9f51e7d9-1020-406a-8433-de0298038040\" xlink:show=\"new\" xlink:title=\"psysml:9f51e7d9-1020-406a-8433-de0298038040\" xlink:type=\"simple\"><path d=\"M327.69,177.56 C344.59,193.35 367.04,210.66 391,219 C414.53,227.19 443.48,223.99 462.66,220.2 \" fill=\"none\" id=\"E3&lt;-E4\" style=\"stroke: #383838; stroke-width: 1.0;\"/><polygon fill=\"#383838\" points=\"317.93,168.02,319.4265,175.0741,326.5136,176.4058,325.0171,169.3517,317.93,168.02\" style=\"stroke: #383838; stroke-width: 1.0;\"/><text fill=\"#000000\" font-family=\"sans-serif\" font-size=\"13\" lengthAdjust=\"spacingAndGlyphs\" textLength=\"8\" x=\"447.0695\" y=\"236.0262\">1</text></a><!--MD5=[191cde3d490a3f6d7bb551fe3ddca469]\n",
       "reverse link E3 to E5--><a href=\"psysml:7a936c29-0528-4da5-855d-3be7e5f4e113\" target=\"_top\" title=\"psysml:7a936c29-0528-4da5-855d-3be7e5f4e113\" xlink:actuate=\"onRequest\" xlink:href=\"psysml:7a936c29-0528-4da5-855d-3be7e5f4e113\" xlink:show=\"new\" xlink:title=\"psysml:7a936c29-0528-4da5-855d-3be7e5f4e113\" xlink:type=\"simple\"><path d=\"M342.49,127.56 C359.29,121.05 377.52,113.98 390.96,108.77 \" fill=\"none\" id=\"E3&lt;-E5\" style=\"stroke: #383838; stroke-width: 1.0;\"/><polygon fill=\"#FFFFFF\" points=\"330.02,132.39,337.0606,133.949,341.2075,128.0496,334.1669,126.4906,330.02,132.39\" style=\"stroke: #383838; stroke-width: 1.0;\"/><text fill=\"#000000\" font-family=\"sans-serif\" font-size=\"13\" lengthAdjust=\"spacingAndGlyphs\" textLength=\"8\" x=\"374.9785\" y=\"125.7353\">1</text></a><!--MD5=[79568f1e445c3877b6a54524624ccc7d]\n",
       "link E4 to E6--><a href=\"psysml:860f4e4a-475c-4d3a-a05e-585111d40739\" target=\"_top\" title=\"psysml:860f4e4a-475c-4d3a-a05e-585111d40739\" xlink:actuate=\"onRequest\" xlink:href=\"psysml:860f4e4a-475c-4d3a-a05e-585111d40739\" xlink:show=\"new\" xlink:title=\"psysml:860f4e4a-475c-4d3a-a05e-585111d40739\" xlink:type=\"simple\"><path d=\"M506.01,206.82 C539.21,193.56 605.71,167.03 652.34,148.42 \" fill=\"none\" id=\"E4-&gt;E6\" style=\"stroke: #383838; stroke-width: 1.0;\"/><polygon fill=\"#FFFFFF\" points=\"670.95,140.99,655.8961,154.5318,650.7087,141.5283,670.95,140.99\" style=\"stroke: #383838; stroke-width: 1.0;\"/><ellipse cx=\"649.8608\" cy=\"154.7862\" fill=\"#383838\" rx=\"2\" ry=\"2\" style=\"stroke: #383838; stroke-width: 1.0;\"/><ellipse cx=\"646.1555\" cy=\"145.498\" fill=\"#383838\" rx=\"2\" ry=\"2\" style=\"stroke: #383838; stroke-width: 1.0;\"/></a><!--MD5=[3f50a3473f1dfb74d3f76443e03635af]\n",
       "reverse link E6 to E7--><a href=\"psysml:01396c82-09da-45aa-ba0c-a7dad5741ff2\" target=\"_top\" title=\"psysml:01396c82-09da-45aa-ba0c-a7dad5741ff2\" xlink:actuate=\"onRequest\" xlink:href=\"psysml:01396c82-09da-45aa-ba0c-a7dad5741ff2\" xlink:show=\"new\" xlink:title=\"psysml:01396c82-09da-45aa-ba0c-a7dad5741ff2\" xlink:type=\"simple\"><path d=\"M750.98,115.18 C767.64,110.48 785.65,105.4 798.96,101.65 \" fill=\"none\" id=\"E6&lt;-E7\" style=\"stroke: #383838; stroke-width: 1.0;\"/><polygon fill=\"#383838\" points=\"738.02,118.83,744.8804,121.0516,749.5697,115.5734,742.7093,113.3518,738.02,118.83\" style=\"stroke: #383838; stroke-width: 1.0;\"/><text fill=\"#000000\" font-family=\"sans-serif\" font-size=\"13\" lengthAdjust=\"spacingAndGlyphs\" textLength=\"8\" x=\"782.9785\" y=\"117.9396\">1</text></a><!--MD5=[14ccda38c055a5c0da953d572bc50960]\n",
       "link E7 to E3--><a href=\"psysml:d97708ca-1830-4e5e-bf07-a2aabe0546e8\" target=\"_top\" title=\"psysml:d97708ca-1830-4e5e-bf07-a2aabe0546e8\" xlink:actuate=\"onRequest\" xlink:href=\"psysml:d97708ca-1830-4e5e-bf07-a2aabe0546e8\" xlink:show=\"new\" xlink:title=\"psysml:d97708ca-1830-4e5e-bf07-a2aabe0546e8\" xlink:type=\"simple\"><path d=\"M798.63,79.5 C776.91,63.62 740.85,42 705.5,42 C411,42 411,42 411,42 C371.89,42 340.27,75.96 320.44,104.88 \" fill=\"none\" id=\"E7-&gt;E3\" style=\"stroke: #383838; stroke-width: 1.0;\"/><polygon fill=\"#FFFFFF\" points=\"309.65,121.88,313.919,102.0867,325.7401,109.5874,309.65,121.88\" style=\"stroke: #383838; stroke-width: 1.0;\"/><ellipse cx=\"318.6616\" cy=\"98.3453\" fill=\"#383838\" rx=\"2\" ry=\"2\" style=\"stroke: #383838; stroke-width: 1.0;\"/><ellipse cx=\"327.1052\" cy=\"103.703\" fill=\"#383838\" rx=\"2\" ry=\"2\" style=\"stroke: #383838; stroke-width: 1.0;\"/></a><!--MD5=[dfaffb906826c3e5aca635516100ff21]\n",
       "link E5 to E8--><a href=\"psysml:75f754af-bdfa-473b-8cbb-d11c609ad500\" target=\"_top\" title=\"psysml:75f754af-bdfa-473b-8cbb-d11c609ad500\" xlink:actuate=\"onRequest\" xlink:href=\"psysml:75f754af-bdfa-473b-8cbb-d11c609ad500\" xlink:show=\"new\" xlink:title=\"psysml:75f754af-bdfa-473b-8cbb-d11c609ad500\" xlink:type=\"simple\"><path d=\"M433.26,104.53 C454.16,108.17 487.6,113.99 515.94,118.93 \" fill=\"none\" id=\"E5-&gt;E8\" style=\"stroke: #383838; stroke-width: 1.0;\"/><polygon fill=\"#FFFFFF\" points=\"535.87,122.4,515.9516,126.041,518.3504,112.248,535.87,122.4\" style=\"stroke: #383838; stroke-width: 1.0;\"/><ellipse cx=\"510.6786\" cy=\"123.0939\" fill=\"#383838\" rx=\"2\" ry=\"2\" style=\"stroke: #383838; stroke-width: 1.0;\"/><ellipse cx=\"512.392\" cy=\"113.2418\" fill=\"#383838\" rx=\"2\" ry=\"2\" style=\"stroke: #383838; stroke-width: 1.0;\"/></a><!--MD5=[03c8294790d3c57651a1993cecff665f]\n",
       "reverse link E8 to E3--><a href=\"psysml:aa35edca-3910-4cd9-97ff-300d5c8627fc\" target=\"_top\" title=\"psysml:aa35edca-3910-4cd9-97ff-300d5c8627fc\" xlink:actuate=\"onRequest\" xlink:href=\"psysml:aa35edca-3910-4cd9-97ff-300d5c8627fc\" xlink:show=\"new\" xlink:title=\"psysml:aa35edca-3910-4cd9-97ff-300d5c8627fc\" xlink:type=\"simple\"><path d=\"M522.99,140.59 C496.93,147.23 463.38,154.66 433,158 C414.44,160.04 409.62,159.29 391,158 C370.73,156.6 348.16,153.5 330.27,150.69 \" fill=\"none\" id=\"E8&lt;-E3\" style=\"stroke: #383838; stroke-width: 1.0;\"/><polygon fill=\"#FFFFFF\" points=\"535.87,137.22,529.051,134.8745,524.2632,140.2668,531.0822,142.6123,535.87,137.22\" style=\"stroke: #383838; stroke-width: 1.0;\"/><text fill=\"#000000\" font-family=\"sans-serif\" font-size=\"13\" lengthAdjust=\"spacingAndGlyphs\" textLength=\"7\" x=\"408.5\" y=\"154.0669\">y</text></a><!--MD5=[0d75d2178373a6a4568e5dc728f58aef]\n",
       "reverse link E8 to E6--><a href=\"psysml:aa35edca-3910-4cd9-97ff-300d5c8627fc\" target=\"_top\" title=\"psysml:aa35edca-3910-4cd9-97ff-300d5c8627fc\" xlink:actuate=\"onRequest\" xlink:href=\"psysml:aa35edca-3910-4cd9-97ff-300d5c8627fc\" xlink:show=\"new\" xlink:title=\"psysml:aa35edca-3910-4cd9-97ff-300d5c8627fc\" xlink:type=\"simple\"><path d=\"M615.57,128 C633.62,128 653.98,128 670.55,128 \" fill=\"none\" id=\"E8&lt;-E6\" style=\"stroke: #383838; stroke-width: 1.0;\"/><polygon fill=\"#FFFFFF\" points=\"602.32,128,608.32,132,614.32,128,608.32,124,602.32,128\" style=\"stroke: #383838; stroke-width: 1.0;\"/><text fill=\"#000000\" font-family=\"sans-serif\" font-size=\"13\" lengthAdjust=\"spacingAndGlyphs\" textLength=\"7\" x=\"633\" y=\"124.0669\">y</text></a><!--MD5=[23ac544a70576c3e717098101004234c]\n",
       "reverse link E9 to E10--><a href=\"psysml:cf1da376-637e-4400-b815-716d62b1c417\" target=\"_top\" title=\"psysml:cf1da376-637e-4400-b815-716d62b1c417\" xlink:actuate=\"onRequest\" xlink:href=\"psysml:cf1da376-637e-4400-b815-716d62b1c417\" xlink:show=\"new\" xlink:title=\"psysml:cf1da376-637e-4400-b815-716d62b1c417\" xlink:type=\"simple\"><path d=\"M110.53,201.69 C127.13,207.54 145.19,213.91 158.67,218.66 \" fill=\"none\" id=\"E9&lt;-E10\" style=\"stroke: #383838; stroke-width: 1.0;\"/><polygon fill=\"#FFFFFF\" points=\"98.22,197.36,102.5516,203.1252,109.5393,201.3442,105.2077,195.579,98.22,197.36\" style=\"stroke: #383838; stroke-width: 1.0;\"/><text fill=\"#000000\" font-family=\"sans-serif\" font-size=\"13\" lengthAdjust=\"spacingAndGlyphs\" textLength=\"8\" x=\"143.0824\" y=\"230.8026\">1</text></a><!--MD5=[feeac5eb423634930294aa81f2d25a4c]\n",
       "link E10 to E3--><a href=\"psysml:4cf35cfc-841e-4847-875d-1ebad6bb61b9\" target=\"_top\" title=\"psysml:4cf35cfc-841e-4847-875d-1ebad6bb61b9\" xlink:actuate=\"onRequest\" xlink:href=\"psysml:4cf35cfc-841e-4847-875d-1ebad6bb61b9\" xlink:show=\"new\" xlink:title=\"psysml:4cf35cfc-841e-4847-875d-1ebad6bb61b9\" xlink:type=\"simple\"><path d=\"M202.14,211.33 C214.58,202.49 230.99,190.84 246.57,179.76 \" fill=\"none\" id=\"E10-&gt;E3\" style=\"stroke: #383838; stroke-width: 1.0;\"/><polygon fill=\"#FFFFFF\" points=\"262.93,168.14,251.4988,184.8531,243.388,173.442,262.93,168.14\" style=\"stroke: #383838; stroke-width: 1.0;\"/><ellipse cx=\"245.6942\" cy=\"186.5252\" fill=\"#383838\" rx=\"2\" ry=\"2\" style=\"stroke: #383838; stroke-width: 1.0;\"/><ellipse cx=\"239.9007\" cy=\"178.3744\" fill=\"#383838\" rx=\"2\" ry=\"2\" style=\"stroke: #383838; stroke-width: 1.0;\"/></a><!--MD5=[1fc04a95fd77ad5ce46c1a3027516051]\n",
       "reverse link E9 to E11--><a href=\"psysml:bd05daaf-8002-489d-bbfa-6134af678ace\" target=\"_top\" title=\"psysml:bd05daaf-8002-489d-bbfa-6134af678ace\" xlink:actuate=\"onRequest\" xlink:href=\"psysml:bd05daaf-8002-489d-bbfa-6134af678ace\" xlink:show=\"new\" xlink:title=\"psysml:bd05daaf-8002-489d-bbfa-6134af678ace\" xlink:type=\"simple\"><path d=\"M110.53,169.91 C127.13,163.92 145.19,157.39 158.67,152.53 \" fill=\"none\" id=\"E9&lt;-E11\" style=\"stroke: #383838; stroke-width: 1.0;\"/><polygon fill=\"#FFFFFF\" points=\"98.22,174.36,105.2217,176.0852,109.5071,170.2856,102.5054,168.5604,98.22,174.36\" style=\"stroke: #383838; stroke-width: 1.0;\"/><text fill=\"#000000\" font-family=\"sans-serif\" font-size=\"13\" lengthAdjust=\"spacingAndGlyphs\" textLength=\"8\" x=\"143.0824\" y=\"169.0406\">1</text></a><!--MD5=[0517f1ce58c4d5483948f93845c45e26]\n",
       "link E11 to E3--><a href=\"psysml:31e39f64-1f8d-4b2c-be98-c1459e5d6e94\" target=\"_top\" title=\"psysml:31e39f64-1f8d-4b2c-be98-c1459e5d6e94\" xlink:actuate=\"onRequest\" xlink:href=\"psysml:31e39f64-1f8d-4b2c-be98-c1459e5d6e94\" xlink:show=\"new\" xlink:title=\"psysml:31e39f64-1f8d-4b2c-be98-c1459e5d6e94\" xlink:type=\"simple\"><path d=\"M202.14,145 C213.59,145 228.4,145 242.83,145 \" fill=\"none\" id=\"E11-&gt;E3\" style=\"stroke: #383838; stroke-width: 1.0;\"/><polygon fill=\"#FFFFFF\" points=\"262.93,145,243.93,152,243.93,138,262.93,145\" style=\"stroke: #383838; stroke-width: 1.0;\"/><ellipse cx=\"238.23\" cy=\"150\" fill=\"#383838\" rx=\"2\" ry=\"2\" style=\"stroke: #383838; stroke-width: 1.0;\"/><ellipse cx=\"238.23\" cy=\"140\" fill=\"#383838\" rx=\"2\" ry=\"2\" style=\"stroke: #383838; stroke-width: 1.0;\"/></a><!--MD5=[00cdfd08dfb04c803ac27b25604ef8f0]\n",
       "@startuml\r\n",
       "left to right direction\r\n",
       "skinparam monochrome true\r\n",
       "skinparam classbackgroundcolor white\r\n",
       "skinparam shadowing false\r\n",
       "skinparam wrapWidth 300\r\n",
       "hide circle\r\n",
       "\r\n",
       "package \"ItemTest\" as E1  [[psysml:1bc06463-7392-4b34-87d6-1f1d6784670a ]]  {\r\n",
       "comp usage \"f: A\" as E2  <<(T,blue) item>> [[psysml:10e5f196-141c-4ebb-934a-0a8c25223d15 ]] {\r\n",
       "}\r\n",
       "comp def \"A\" as E3  <<(T,blue) item def>> [[psysml:d8185bfd-cc57-4585-aec6-0a59765b9e32 ]] {\r\n",
       "}\r\n",
       "comp usage \"b: B\" as E4  <<(T,blue) item>> [[psysml:867e3ff9-f74d-45bb-974d-3b3d8373197d ]] {\r\n",
       "}\r\n",
       "comp usage \"c: C\" as E5  <<(T,blue) part>> [[psysml:cb0d56cf-7b64-416e-8353-0e76041e55a4 ]] {\r\n",
       "}\r\n",
       "comp def \"B\" as E6  <<(T,blue) item def>> [[psysml:cb468909-38eb-4328-9448-1d282e0fd6a5 ]] {\r\n",
       "}\r\n",
       "comp usage \"a: A\" as E7  <<(T,blue) part>> [[psysml:8d68ea76-8496-4a3a-9bac-3b5e10d4f6d7 ]] {\r\n",
       "}\r\n",
       "comp def \"C\" as E8  <<(T,blue) part def>> [[psysml:3d841289-74ad-422d-b7f3-bdfc719d6361 ]] {\r\n",
       "}\r\n",
       "comp def \"P\" as E9  <<(T,blue) port def>> [[psysml:192666b5-43c5-4ec0-a40a-8ab471017ca3 ]] {\r\n",
       "}\r\n",
       "comp usage \"a1: A\" as E10  <<(T,blue) item>> [[psysml:a2436968-c74d-4c9f-bf2a-127bcc502b4e ]] {\r\n",
       "}\r\n",
       "comp usage \"a2: A\" as E11  <<(T,blue) item>> [[psysml:6388cc28-f9be-476c-ad05-d9ff93971fbb ]] {\r\n",
       "}\r\n",
       "}\r\n",
       "E2 - -:|> E3 [[psysml:24dbd283-1078-40f8-9dda-86d7de7bac74 ]] \r\n",
       "E3 *- - \"1\"E4 [[psysml:9f51e7d9-1020-406a-8433-de0298038040 ]] \r\n",
       "E3 o- - \"1\"E5 [[psysml:7a936c29-0528-4da5-855d-3be7e5f4e113 ]] \r\n",
       "E4 - -:|> E6 [[psysml:860f4e4a-475c-4d3a-a05e-585111d40739 ]] \r\n",
       "E6 *- - \"1\"E7 [[psysml:01396c82-09da-45aa-ba0c-a7dad5741ff2 ]] \r\n",
       "E7 - -:|> E3 [[psysml:d97708ca-1830-4e5e-bf07-a2aabe0546e8 ]] \r\n",
       "E5 - -:|> E8 [[psysml:75f754af-bdfa-473b-8cbb-d11c609ad500 ]] \r\n",
       "E8 o- - E3 [[psysml:aa35edca-3910-4cd9-97ff-300d5c8627fc ]] : y\r\n",
       "E8 o- - E6 [[psysml:aa35edca-3910-4cd9-97ff-300d5c8627fc ]] : y\r\n",
       "E9 o- - \"1\"E10 [[psysml:cf1da376-637e-4400-b815-716d62b1c417 ]] \r\n",
       "E10 - -:|> E3 [[psysml:4cf35cfc-841e-4847-875d-1ebad6bb61b9 ]] \r\n",
       "E9 o- - \"1\"E11 [[psysml:bd05daaf-8002-489d-bbfa-6134af678ace ]] \r\n",
       "E11 - -:|> E3 [[psysml:31e39f64-1f8d-4b2c-be98-c1459e5d6e94 ]] \r\n",
       "@enduml\r\n",
       "\n",
       "PlantUML version 1.2020.13(Sat Jun 13 12:26:38 UTC 2020)\n",
       "(EPL source distribution)\n",
       "Java Runtime: OpenJDK Runtime Environment\n",
       "JVM: OpenJDK 64-Bit Server VM\n",
       "Default Encoding: UTF-8\n",
       "Language: en\n",
       "Country: null\n",
       "--></g></svg>"
      ]
     },
     "execution_count": 16,
     "metadata": {},
     "output_type": "execute_result"
    }
   ],
   "source": [
    "%viz --style=\"LR\" --view=\"Default\" \"ItemTest\""
   ]
  },
  {
   "cell_type": "code",
   "execution_count": 17,
   "id": "b984e04d",
   "metadata": {
    "execution": {
     "iopub.execute_input": "2021-10-03T08:27:27.520967Z",
     "iopub.status.busy": "2021-10-03T08:27:27.520565Z",
     "iopub.status.idle": "2021-10-03T08:27:27.573678Z",
     "shell.execute_reply": "2021-10-03T08:27:27.573995Z"
    }
   },
   "outputs": [
    {
     "data": {
      "image/svg+xml": [
       "<?xml version=\"1.0\" encoding=\"UTF-8\" standalone=\"no\"?><svg xmlns=\"http://www.w3.org/2000/svg\" xmlns:xlink=\"http://www.w3.org/1999/xlink\" contentScriptType=\"application/ecmascript\" contentStyleType=\"text/css\" height=\"277px\" preserveAspectRatio=\"none\" style=\"width:879px;height:277px;\" version=\"1.1\" viewBox=\"0 0 879 277\" width=\"879px\" zoomAndPan=\"magnify\"><defs/><g><!--MD5=[fbc87193dbaf4d95561dea2c320d4a47]\n",
       "cluster E1--><a href=\"psysml:1bc06463-7392-4b34-87d6-1f1d6784670a\" target=\"_top\" title=\"psysml:1bc06463-7392-4b34-87d6-1f1d6784670a\" xlink:actuate=\"onRequest\" xlink:href=\"psysml:1bc06463-7392-4b34-87d6-1f1d6784670a\" xlink:show=\"new\" xlink:title=\"psysml:1bc06463-7392-4b34-87d6-1f1d6784670a\" xlink:type=\"simple\"><polygon fill=\"#FFFFFF\" points=\"16,6,83,6,90,28.2969,857,28.2969,857,265,16,265,16,6\" style=\"stroke: #000000; stroke-width: 1.5;\"/><line style=\"stroke: #000000; stroke-width: 1.5;\" x1=\"16\" x2=\"90\" y1=\"28.2969\" y2=\"28.2969\"/><text fill=\"#000000\" font-family=\"sans-serif\" font-size=\"14\" font-weight=\"bold\" lengthAdjust=\"spacingAndGlyphs\" textLength=\"61\" x=\"20\" y=\"20.9951\">ItemTest</text></a><!--MD5=[b4997ac47864f28c2f74865a473b2911]\n",
       "class E2--><a href=\"psysml:10e5f196-141c-4ebb-934a-0a8c25223d15\" target=\"_top\" title=\"psysml:10e5f196-141c-4ebb-934a-0a8c25223d15\" xlink:actuate=\"onRequest\" xlink:href=\"psysml:10e5f196-141c-4ebb-934a-0a8c25223d15\" xlink:show=\"new\" xlink:title=\"psysml:10e5f196-141c-4ebb-934a-0a8c25223d15\" xlink:type=\"simple\"><rect fill=\"#FFFFFF\" height=\"45.9375\" id=\"E2\" rx=\"10\" ry=\"10\" style=\"stroke: #383838; stroke-width: 1.5;\" width=\"43\" x=\"159\" y=\"41\"/><text fill=\"#000000\" font-family=\"sans-serif\" font-size=\"12\" font-style=\"italic\" lengthAdjust=\"spacingAndGlyphs\" textLength=\"41\" x=\"160\" y=\"57.1387\">«item»</text><text fill=\"#000000\" font-family=\"sans-serif\" font-size=\"12\" lengthAdjust=\"spacingAndGlyphs\" textLength=\"20\" x=\"170.5\" y=\"71.1074\">f: A</text><line style=\"stroke: #383838; stroke-width: 1.5;\" x1=\"160\" x2=\"201\" y1=\"78.9375\" y2=\"78.9375\"/></a><!--MD5=[09b614a08d8cba4a07c9adeb5e0fee81]\n",
       "class E3--><a href=\"psysml:d8185bfd-cc57-4585-aec6-0a59765b9e32\" target=\"_top\" title=\"psysml:d8185bfd-cc57-4585-aec6-0a59765b9e32\" xlink:actuate=\"onRequest\" xlink:href=\"psysml:d8185bfd-cc57-4585-aec6-0a59765b9e32\" xlink:show=\"new\" xlink:title=\"psysml:d8185bfd-cc57-4585-aec6-0a59765b9e32\" xlink:type=\"simple\"><rect fill=\"#FFFFFF\" height=\"45.9375\" id=\"E3\" style=\"stroke: #383838; stroke-width: 1.5;\" width=\"67\" x=\"263\" y=\"122\"/><text fill=\"#000000\" font-family=\"sans-serif\" font-size=\"12\" font-style=\"italic\" lengthAdjust=\"spacingAndGlyphs\" textLength=\"65\" x=\"264\" y=\"138.1387\">«item def»</text><text fill=\"#000000\" font-family=\"sans-serif\" font-size=\"12\" lengthAdjust=\"spacingAndGlyphs\" textLength=\"8\" x=\"292.5\" y=\"152.1074\">A</text><line style=\"stroke: #383838; stroke-width: 1.5;\" x1=\"264\" x2=\"329\" y1=\"159.9375\" y2=\"159.9375\"/></a><!--MD5=[ebbe1d658d1005bcc118a6aa81145e00]\n",
       "class E4--><a href=\"psysml:867e3ff9-f74d-45bb-974d-3b3d8373197d\" target=\"_top\" title=\"psysml:867e3ff9-f74d-45bb-974d-3b3d8373197d\" xlink:actuate=\"onRequest\" xlink:href=\"psysml:867e3ff9-f74d-45bb-974d-3b3d8373197d\" xlink:show=\"new\" xlink:title=\"psysml:867e3ff9-f74d-45bb-974d-3b3d8373197d\" xlink:type=\"simple\"><rect fill=\"#FFFFFF\" height=\"45.9375\" id=\"E4\" rx=\"10\" ry=\"10\" style=\"stroke: #383838; stroke-width: 1.5;\" width=\"43\" x=\"463\" y=\"192\"/><text fill=\"#000000\" font-family=\"sans-serif\" font-size=\"12\" font-style=\"italic\" lengthAdjust=\"spacingAndGlyphs\" textLength=\"41\" x=\"464\" y=\"208.1387\">«item»</text><text fill=\"#000000\" font-family=\"sans-serif\" font-size=\"12\" lengthAdjust=\"spacingAndGlyphs\" textLength=\"24\" x=\"472.5\" y=\"222.1074\">b: B</text><line style=\"stroke: #383838; stroke-width: 1.5;\" x1=\"464\" x2=\"505\" y1=\"229.9375\" y2=\"229.9375\"/></a><!--MD5=[270fce915f116d4de14055a7c1d9a0f3]\n",
       "class E5--><a href=\"psysml:cb0d56cf-7b64-416e-8353-0e76041e55a4\" target=\"_top\" title=\"psysml:cb0d56cf-7b64-416e-8353-0e76041e55a4\" xlink:actuate=\"onRequest\" xlink:href=\"psysml:cb0d56cf-7b64-416e-8353-0e76041e55a4\" xlink:show=\"new\" xlink:title=\"psysml:cb0d56cf-7b64-416e-8353-0e76041e55a4\" xlink:type=\"simple\"><rect fill=\"#FFFFFF\" height=\"45.9375\" id=\"E5\" rx=\"10\" ry=\"10\" style=\"stroke: #383838; stroke-width: 1.5;\" width=\"42\" x=\"391\" y=\"78\"/><text fill=\"#000000\" font-family=\"sans-serif\" font-size=\"12\" font-style=\"italic\" lengthAdjust=\"spacingAndGlyphs\" textLength=\"40\" x=\"392\" y=\"94.1387\">«part»</text><text fill=\"#000000\" font-family=\"sans-serif\" font-size=\"12\" lengthAdjust=\"spacingAndGlyphs\" textLength=\"23\" x=\"400.5\" y=\"108.1074\">c: C</text><line style=\"stroke: #383838; stroke-width: 1.5;\" x1=\"392\" x2=\"432\" y1=\"115.9375\" y2=\"115.9375\"/></a><!--MD5=[60a26617385b1d2d0262a64233df1f8d]\n",
       "class E6--><a href=\"psysml:cb468909-38eb-4328-9448-1d282e0fd6a5\" target=\"_top\" title=\"psysml:cb468909-38eb-4328-9448-1d282e0fd6a5\" xlink:actuate=\"onRequest\" xlink:href=\"psysml:cb468909-38eb-4328-9448-1d282e0fd6a5\" xlink:show=\"new\" xlink:title=\"psysml:cb468909-38eb-4328-9448-1d282e0fd6a5\" xlink:type=\"simple\"><rect fill=\"#FFFFFF\" height=\"45.9375\" id=\"E6\" style=\"stroke: #383838; stroke-width: 1.5;\" width=\"67\" x=\"671\" y=\"105\"/><text fill=\"#000000\" font-family=\"sans-serif\" font-size=\"12\" font-style=\"italic\" lengthAdjust=\"spacingAndGlyphs\" textLength=\"65\" x=\"672\" y=\"121.1387\">«item def»</text><text fill=\"#000000\" font-family=\"sans-serif\" font-size=\"12\" lengthAdjust=\"spacingAndGlyphs\" textLength=\"8\" x=\"700.5\" y=\"135.1074\">B</text><line style=\"stroke: #383838; stroke-width: 1.5;\" x1=\"672\" x2=\"737\" y1=\"142.9375\" y2=\"142.9375\"/></a><!--MD5=[2156ba9850f5573cc1fc38a6a4b2f02b]\n",
       "class E7--><a href=\"psysml:8d68ea76-8496-4a3a-9bac-3b5e10d4f6d7\" target=\"_top\" title=\"psysml:8d68ea76-8496-4a3a-9bac-3b5e10d4f6d7\" xlink:actuate=\"onRequest\" xlink:href=\"psysml:8d68ea76-8496-4a3a-9bac-3b5e10d4f6d7\" xlink:show=\"new\" xlink:title=\"psysml:8d68ea76-8496-4a3a-9bac-3b5e10d4f6d7\" xlink:type=\"simple\"><rect fill=\"#FFFFFF\" height=\"45.9375\" id=\"E7\" rx=\"10\" ry=\"10\" style=\"stroke: #383838; stroke-width: 1.5;\" width=\"42\" x=\"799\" y=\"73\"/><text fill=\"#000000\" font-family=\"sans-serif\" font-size=\"12\" font-style=\"italic\" lengthAdjust=\"spacingAndGlyphs\" textLength=\"40\" x=\"800\" y=\"89.1387\">«part»</text><text fill=\"#000000\" font-family=\"sans-serif\" font-size=\"12\" lengthAdjust=\"spacingAndGlyphs\" textLength=\"24\" x=\"808\" y=\"103.1074\">a: A</text><line style=\"stroke: #383838; stroke-width: 1.5;\" x1=\"800\" x2=\"840\" y1=\"110.9375\" y2=\"110.9375\"/></a><!--MD5=[b9389687b975829384b498ac4b7476b2]\n",
       "class E8--><a href=\"psysml:3d841289-74ad-422d-b7f3-bdfc719d6361\" target=\"_top\" title=\"psysml:3d841289-74ad-422d-b7f3-bdfc719d6361\" xlink:actuate=\"onRequest\" xlink:href=\"psysml:3d841289-74ad-422d-b7f3-bdfc719d6361\" xlink:show=\"new\" xlink:title=\"psysml:3d841289-74ad-422d-b7f3-bdfc719d6361\" xlink:type=\"simple\"><rect fill=\"#FFFFFF\" height=\"45.9375\" id=\"E8\" style=\"stroke: #383838; stroke-width: 1.5;\" width=\"66\" x=\"536\" y=\"105\"/><text fill=\"#000000\" font-family=\"sans-serif\" font-size=\"12\" font-style=\"italic\" lengthAdjust=\"spacingAndGlyphs\" textLength=\"64\" x=\"537\" y=\"121.1387\">«part def»</text><text fill=\"#000000\" font-family=\"sans-serif\" font-size=\"12\" lengthAdjust=\"spacingAndGlyphs\" textLength=\"8\" x=\"565\" y=\"135.1074\">C</text><line style=\"stroke: #383838; stroke-width: 1.5;\" x1=\"537\" x2=\"601\" y1=\"142.9375\" y2=\"142.9375\"/></a><!--MD5=[fd4143e9d270a159db93a4ea2a975926]\n",
       "class E9--><a href=\"psysml:192666b5-43c5-4ec0-a40a-8ab471017ca3\" target=\"_top\" title=\"psysml:192666b5-43c5-4ec0-a40a-8ab471017ca3\" xlink:actuate=\"onRequest\" xlink:href=\"psysml:192666b5-43c5-4ec0-a40a-8ab471017ca3\" xlink:show=\"new\" xlink:title=\"psysml:192666b5-43c5-4ec0-a40a-8ab471017ca3\" xlink:type=\"simple\"><rect fill=\"#FFFFFF\" height=\"45.9375\" id=\"E9\" style=\"stroke: #383838; stroke-width: 1.5;\" width=\"66\" x=\"32\" y=\"163\"/><text fill=\"#000000\" font-family=\"sans-serif\" font-size=\"12\" font-style=\"italic\" lengthAdjust=\"spacingAndGlyphs\" textLength=\"64\" x=\"33\" y=\"179.1387\">«port def»</text><text fill=\"#000000\" font-family=\"sans-serif\" font-size=\"12\" lengthAdjust=\"spacingAndGlyphs\" textLength=\"8\" x=\"61\" y=\"193.1074\">P</text><line style=\"stroke: #383838; stroke-width: 1.5;\" x1=\"33\" x2=\"97\" y1=\"200.9375\" y2=\"200.9375\"/></a><!--MD5=[96f4274e9e20536e775497830990834d]\n",
       "class E10--><a href=\"psysml:a2436968-c74d-4c9f-bf2a-127bcc502b4e\" target=\"_top\" title=\"psysml:a2436968-c74d-4c9f-bf2a-127bcc502b4e\" xlink:actuate=\"onRequest\" xlink:href=\"psysml:a2436968-c74d-4c9f-bf2a-127bcc502b4e\" xlink:show=\"new\" xlink:title=\"psysml:a2436968-c74d-4c9f-bf2a-127bcc502b4e\" xlink:type=\"simple\"><rect fill=\"#FFFFFF\" height=\"45.9375\" id=\"E10\" rx=\"10\" ry=\"10\" style=\"stroke: #383838; stroke-width: 1.5;\" width=\"43\" x=\"159\" y=\"203\"/><text fill=\"#000000\" font-family=\"sans-serif\" font-size=\"12\" font-style=\"italic\" lengthAdjust=\"spacingAndGlyphs\" textLength=\"41\" x=\"160\" y=\"219.1387\">«item»</text><text fill=\"#000000\" font-family=\"sans-serif\" font-size=\"12\" lengthAdjust=\"spacingAndGlyphs\" textLength=\"32\" x=\"164.5\" y=\"233.1074\">a1: A</text><line style=\"stroke: #383838; stroke-width: 1.5;\" x1=\"160\" x2=\"201\" y1=\"240.9375\" y2=\"240.9375\"/></a><!--MD5=[1dd1bfd58a279cf63c5f349dbc8fc6a1]\n",
       "class E11--><a href=\"psysml:6388cc28-f9be-476c-ad05-d9ff93971fbb\" target=\"_top\" title=\"psysml:6388cc28-f9be-476c-ad05-d9ff93971fbb\" xlink:actuate=\"onRequest\" xlink:href=\"psysml:6388cc28-f9be-476c-ad05-d9ff93971fbb\" xlink:show=\"new\" xlink:title=\"psysml:6388cc28-f9be-476c-ad05-d9ff93971fbb\" xlink:type=\"simple\"><rect fill=\"#FFFFFF\" height=\"45.9375\" id=\"E11\" rx=\"10\" ry=\"10\" style=\"stroke: #383838; stroke-width: 1.5;\" width=\"43\" x=\"159\" y=\"122\"/><text fill=\"#000000\" font-family=\"sans-serif\" font-size=\"12\" font-style=\"italic\" lengthAdjust=\"spacingAndGlyphs\" textLength=\"41\" x=\"160\" y=\"138.1387\">«item»</text><text fill=\"#000000\" font-family=\"sans-serif\" font-size=\"12\" lengthAdjust=\"spacingAndGlyphs\" textLength=\"32\" x=\"164.5\" y=\"152.1074\">a2: A</text><line style=\"stroke: #383838; stroke-width: 1.5;\" x1=\"160\" x2=\"201\" y1=\"159.9375\" y2=\"159.9375\"/></a><!--MD5=[2720a5a1f2c3fca2055b230370638851]\n",
       "link E2 to E3--><a href=\"psysml:24dbd283-1078-40f8-9dda-86d7de7bac74\" target=\"_top\" title=\"psysml:24dbd283-1078-40f8-9dda-86d7de7bac74\" xlink:actuate=\"onRequest\" xlink:href=\"psysml:24dbd283-1078-40f8-9dda-86d7de7bac74\" xlink:show=\"new\" xlink:title=\"psysml:24dbd283-1078-40f8-9dda-86d7de7bac74\" xlink:type=\"simple\"><path d=\"M202.14,78.67 C214.58,87.51 230.99,99.16 246.57,110.24 \" fill=\"none\" id=\"E2-&gt;E3\" style=\"stroke: #383838; stroke-width: 1.0;\"/><polygon fill=\"#FFFFFF\" points=\"262.93,121.86,243.388,116.558,251.4988,105.1469,262.93,121.86\" style=\"stroke: #383838; stroke-width: 1.0;\"/><ellipse cx=\"239.9007\" cy=\"111.6256\" fill=\"#383838\" rx=\"2\" ry=\"2\" style=\"stroke: #383838; stroke-width: 1.0;\"/><ellipse cx=\"245.6942\" cy=\"103.4748\" fill=\"#383838\" rx=\"2\" ry=\"2\" style=\"stroke: #383838; stroke-width: 1.0;\"/></a><!--MD5=[4672eba38e49728da53d11aeb285b987]\n",
       "reverse link E3 to E4--><a href=\"psysml:9f51e7d9-1020-406a-8433-de0298038040\" target=\"_top\" title=\"psysml:9f51e7d9-1020-406a-8433-de0298038040\" xlink:actuate=\"onRequest\" xlink:href=\"psysml:9f51e7d9-1020-406a-8433-de0298038040\" xlink:show=\"new\" xlink:title=\"psysml:9f51e7d9-1020-406a-8433-de0298038040\" xlink:type=\"simple\"><path d=\"M327.69,177.56 C344.59,193.35 367.04,210.66 391,219 C414.53,227.19 443.48,223.99 462.66,220.2 \" fill=\"none\" id=\"E3&lt;-E4\" style=\"stroke: #383838; stroke-width: 1.0;\"/><polygon fill=\"#383838\" points=\"317.93,168.02,319.4265,175.0741,326.5136,176.4058,325.0171,169.3517,317.93,168.02\" style=\"stroke: #383838; stroke-width: 1.0;\"/><text fill=\"#000000\" font-family=\"sans-serif\" font-size=\"13\" lengthAdjust=\"spacingAndGlyphs\" textLength=\"8\" x=\"447.0695\" y=\"236.0262\">1</text></a><!--MD5=[191cde3d490a3f6d7bb551fe3ddca469]\n",
       "reverse link E3 to E5--><a href=\"psysml:7a936c29-0528-4da5-855d-3be7e5f4e113\" target=\"_top\" title=\"psysml:7a936c29-0528-4da5-855d-3be7e5f4e113\" xlink:actuate=\"onRequest\" xlink:href=\"psysml:7a936c29-0528-4da5-855d-3be7e5f4e113\" xlink:show=\"new\" xlink:title=\"psysml:7a936c29-0528-4da5-855d-3be7e5f4e113\" xlink:type=\"simple\"><path d=\"M342.49,127.56 C359.29,121.05 377.52,113.98 390.96,108.77 \" fill=\"none\" id=\"E3&lt;-E5\" style=\"stroke: #383838; stroke-width: 1.0;\"/><polygon fill=\"#FFFFFF\" points=\"330.02,132.39,337.0606,133.949,341.2075,128.0496,334.1669,126.4906,330.02,132.39\" style=\"stroke: #383838; stroke-width: 1.0;\"/><text fill=\"#000000\" font-family=\"sans-serif\" font-size=\"13\" lengthAdjust=\"spacingAndGlyphs\" textLength=\"8\" x=\"374.9785\" y=\"125.7353\">1</text></a><!--MD5=[79568f1e445c3877b6a54524624ccc7d]\n",
       "link E4 to E6--><a href=\"psysml:860f4e4a-475c-4d3a-a05e-585111d40739\" target=\"_top\" title=\"psysml:860f4e4a-475c-4d3a-a05e-585111d40739\" xlink:actuate=\"onRequest\" xlink:href=\"psysml:860f4e4a-475c-4d3a-a05e-585111d40739\" xlink:show=\"new\" xlink:title=\"psysml:860f4e4a-475c-4d3a-a05e-585111d40739\" xlink:type=\"simple\"><path d=\"M506.01,206.82 C539.21,193.56 605.71,167.03 652.34,148.42 \" fill=\"none\" id=\"E4-&gt;E6\" style=\"stroke: #383838; stroke-width: 1.0;\"/><polygon fill=\"#FFFFFF\" points=\"670.95,140.99,655.8961,154.5318,650.7087,141.5283,670.95,140.99\" style=\"stroke: #383838; stroke-width: 1.0;\"/><ellipse cx=\"649.8608\" cy=\"154.7862\" fill=\"#383838\" rx=\"2\" ry=\"2\" style=\"stroke: #383838; stroke-width: 1.0;\"/><ellipse cx=\"646.1555\" cy=\"145.498\" fill=\"#383838\" rx=\"2\" ry=\"2\" style=\"stroke: #383838; stroke-width: 1.0;\"/></a><!--MD5=[3f50a3473f1dfb74d3f76443e03635af]\n",
       "reverse link E6 to E7--><a href=\"psysml:01396c82-09da-45aa-ba0c-a7dad5741ff2\" target=\"_top\" title=\"psysml:01396c82-09da-45aa-ba0c-a7dad5741ff2\" xlink:actuate=\"onRequest\" xlink:href=\"psysml:01396c82-09da-45aa-ba0c-a7dad5741ff2\" xlink:show=\"new\" xlink:title=\"psysml:01396c82-09da-45aa-ba0c-a7dad5741ff2\" xlink:type=\"simple\"><path d=\"M750.98,115.18 C767.64,110.48 785.65,105.4 798.96,101.65 \" fill=\"none\" id=\"E6&lt;-E7\" style=\"stroke: #383838; stroke-width: 1.0;\"/><polygon fill=\"#383838\" points=\"738.02,118.83,744.8804,121.0516,749.5697,115.5734,742.7093,113.3518,738.02,118.83\" style=\"stroke: #383838; stroke-width: 1.0;\"/><text fill=\"#000000\" font-family=\"sans-serif\" font-size=\"13\" lengthAdjust=\"spacingAndGlyphs\" textLength=\"8\" x=\"782.9785\" y=\"117.9396\">1</text></a><!--MD5=[14ccda38c055a5c0da953d572bc50960]\n",
       "link E7 to E3--><a href=\"psysml:d97708ca-1830-4e5e-bf07-a2aabe0546e8\" target=\"_top\" title=\"psysml:d97708ca-1830-4e5e-bf07-a2aabe0546e8\" xlink:actuate=\"onRequest\" xlink:href=\"psysml:d97708ca-1830-4e5e-bf07-a2aabe0546e8\" xlink:show=\"new\" xlink:title=\"psysml:d97708ca-1830-4e5e-bf07-a2aabe0546e8\" xlink:type=\"simple\"><path d=\"M798.63,79.5 C776.91,63.62 740.85,42 705.5,42 C411,42 411,42 411,42 C371.89,42 340.27,75.96 320.44,104.88 \" fill=\"none\" id=\"E7-&gt;E3\" style=\"stroke: #383838; stroke-width: 1.0;\"/><polygon fill=\"#FFFFFF\" points=\"309.65,121.88,313.919,102.0867,325.7401,109.5874,309.65,121.88\" style=\"stroke: #383838; stroke-width: 1.0;\"/><ellipse cx=\"318.6616\" cy=\"98.3453\" fill=\"#383838\" rx=\"2\" ry=\"2\" style=\"stroke: #383838; stroke-width: 1.0;\"/><ellipse cx=\"327.1052\" cy=\"103.703\" fill=\"#383838\" rx=\"2\" ry=\"2\" style=\"stroke: #383838; stroke-width: 1.0;\"/></a><!--MD5=[dfaffb906826c3e5aca635516100ff21]\n",
       "link E5 to E8--><a href=\"psysml:75f754af-bdfa-473b-8cbb-d11c609ad500\" target=\"_top\" title=\"psysml:75f754af-bdfa-473b-8cbb-d11c609ad500\" xlink:actuate=\"onRequest\" xlink:href=\"psysml:75f754af-bdfa-473b-8cbb-d11c609ad500\" xlink:show=\"new\" xlink:title=\"psysml:75f754af-bdfa-473b-8cbb-d11c609ad500\" xlink:type=\"simple\"><path d=\"M433.26,104.53 C454.16,108.17 487.6,113.99 515.94,118.93 \" fill=\"none\" id=\"E5-&gt;E8\" style=\"stroke: #383838; stroke-width: 1.0;\"/><polygon fill=\"#FFFFFF\" points=\"535.87,122.4,515.9516,126.041,518.3504,112.248,535.87,122.4\" style=\"stroke: #383838; stroke-width: 1.0;\"/><ellipse cx=\"510.6786\" cy=\"123.0939\" fill=\"#383838\" rx=\"2\" ry=\"2\" style=\"stroke: #383838; stroke-width: 1.0;\"/><ellipse cx=\"512.392\" cy=\"113.2418\" fill=\"#383838\" rx=\"2\" ry=\"2\" style=\"stroke: #383838; stroke-width: 1.0;\"/></a><!--MD5=[03c8294790d3c57651a1993cecff665f]\n",
       "reverse link E8 to E3--><a href=\"psysml:aa35edca-3910-4cd9-97ff-300d5c8627fc\" target=\"_top\" title=\"psysml:aa35edca-3910-4cd9-97ff-300d5c8627fc\" xlink:actuate=\"onRequest\" xlink:href=\"psysml:aa35edca-3910-4cd9-97ff-300d5c8627fc\" xlink:show=\"new\" xlink:title=\"psysml:aa35edca-3910-4cd9-97ff-300d5c8627fc\" xlink:type=\"simple\"><path d=\"M522.99,140.59 C496.93,147.23 463.38,154.66 433,158 C414.44,160.04 409.62,159.29 391,158 C370.73,156.6 348.16,153.5 330.27,150.69 \" fill=\"none\" id=\"E8&lt;-E3\" style=\"stroke: #383838; stroke-width: 1.0;\"/><polygon fill=\"#FFFFFF\" points=\"535.87,137.22,529.051,134.8745,524.2632,140.2668,531.0822,142.6123,535.87,137.22\" style=\"stroke: #383838; stroke-width: 1.0;\"/><text fill=\"#000000\" font-family=\"sans-serif\" font-size=\"13\" lengthAdjust=\"spacingAndGlyphs\" textLength=\"7\" x=\"408.5\" y=\"154.0669\">y</text></a><!--MD5=[0d75d2178373a6a4568e5dc728f58aef]\n",
       "reverse link E8 to E6--><a href=\"psysml:aa35edca-3910-4cd9-97ff-300d5c8627fc\" target=\"_top\" title=\"psysml:aa35edca-3910-4cd9-97ff-300d5c8627fc\" xlink:actuate=\"onRequest\" xlink:href=\"psysml:aa35edca-3910-4cd9-97ff-300d5c8627fc\" xlink:show=\"new\" xlink:title=\"psysml:aa35edca-3910-4cd9-97ff-300d5c8627fc\" xlink:type=\"simple\"><path d=\"M615.57,128 C633.62,128 653.98,128 670.55,128 \" fill=\"none\" id=\"E8&lt;-E6\" style=\"stroke: #383838; stroke-width: 1.0;\"/><polygon fill=\"#FFFFFF\" points=\"602.32,128,608.32,132,614.32,128,608.32,124,602.32,128\" style=\"stroke: #383838; stroke-width: 1.0;\"/><text fill=\"#000000\" font-family=\"sans-serif\" font-size=\"13\" lengthAdjust=\"spacingAndGlyphs\" textLength=\"7\" x=\"633\" y=\"124.0669\">y</text></a><!--MD5=[23ac544a70576c3e717098101004234c]\n",
       "reverse link E9 to E10--><a href=\"psysml:cf1da376-637e-4400-b815-716d62b1c417\" target=\"_top\" title=\"psysml:cf1da376-637e-4400-b815-716d62b1c417\" xlink:actuate=\"onRequest\" xlink:href=\"psysml:cf1da376-637e-4400-b815-716d62b1c417\" xlink:show=\"new\" xlink:title=\"psysml:cf1da376-637e-4400-b815-716d62b1c417\" xlink:type=\"simple\"><path d=\"M110.53,201.69 C127.13,207.54 145.19,213.91 158.67,218.66 \" fill=\"none\" id=\"E9&lt;-E10\" style=\"stroke: #383838; stroke-width: 1.0;\"/><polygon fill=\"#FFFFFF\" points=\"98.22,197.36,102.5516,203.1252,109.5393,201.3442,105.2077,195.579,98.22,197.36\" style=\"stroke: #383838; stroke-width: 1.0;\"/><text fill=\"#000000\" font-family=\"sans-serif\" font-size=\"13\" lengthAdjust=\"spacingAndGlyphs\" textLength=\"8\" x=\"143.0824\" y=\"230.8026\">1</text></a><!--MD5=[feeac5eb423634930294aa81f2d25a4c]\n",
       "link E10 to E3--><a href=\"psysml:4cf35cfc-841e-4847-875d-1ebad6bb61b9\" target=\"_top\" title=\"psysml:4cf35cfc-841e-4847-875d-1ebad6bb61b9\" xlink:actuate=\"onRequest\" xlink:href=\"psysml:4cf35cfc-841e-4847-875d-1ebad6bb61b9\" xlink:show=\"new\" xlink:title=\"psysml:4cf35cfc-841e-4847-875d-1ebad6bb61b9\" xlink:type=\"simple\"><path d=\"M202.14,211.33 C214.58,202.49 230.99,190.84 246.57,179.76 \" fill=\"none\" id=\"E10-&gt;E3\" style=\"stroke: #383838; stroke-width: 1.0;\"/><polygon fill=\"#FFFFFF\" points=\"262.93,168.14,251.4988,184.8531,243.388,173.442,262.93,168.14\" style=\"stroke: #383838; stroke-width: 1.0;\"/><ellipse cx=\"245.6942\" cy=\"186.5252\" fill=\"#383838\" rx=\"2\" ry=\"2\" style=\"stroke: #383838; stroke-width: 1.0;\"/><ellipse cx=\"239.9007\" cy=\"178.3744\" fill=\"#383838\" rx=\"2\" ry=\"2\" style=\"stroke: #383838; stroke-width: 1.0;\"/></a><!--MD5=[1fc04a95fd77ad5ce46c1a3027516051]\n",
       "reverse link E9 to E11--><a href=\"psysml:bd05daaf-8002-489d-bbfa-6134af678ace\" target=\"_top\" title=\"psysml:bd05daaf-8002-489d-bbfa-6134af678ace\" xlink:actuate=\"onRequest\" xlink:href=\"psysml:bd05daaf-8002-489d-bbfa-6134af678ace\" xlink:show=\"new\" xlink:title=\"psysml:bd05daaf-8002-489d-bbfa-6134af678ace\" xlink:type=\"simple\"><path d=\"M110.53,169.91 C127.13,163.92 145.19,157.39 158.67,152.53 \" fill=\"none\" id=\"E9&lt;-E11\" style=\"stroke: #383838; stroke-width: 1.0;\"/><polygon fill=\"#FFFFFF\" points=\"98.22,174.36,105.2217,176.0852,109.5071,170.2856,102.5054,168.5604,98.22,174.36\" style=\"stroke: #383838; stroke-width: 1.0;\"/><text fill=\"#000000\" font-family=\"sans-serif\" font-size=\"13\" lengthAdjust=\"spacingAndGlyphs\" textLength=\"8\" x=\"143.0824\" y=\"169.0406\">1</text></a><!--MD5=[0517f1ce58c4d5483948f93845c45e26]\n",
       "link E11 to E3--><a href=\"psysml:31e39f64-1f8d-4b2c-be98-c1459e5d6e94\" target=\"_top\" title=\"psysml:31e39f64-1f8d-4b2c-be98-c1459e5d6e94\" xlink:actuate=\"onRequest\" xlink:href=\"psysml:31e39f64-1f8d-4b2c-be98-c1459e5d6e94\" xlink:show=\"new\" xlink:title=\"psysml:31e39f64-1f8d-4b2c-be98-c1459e5d6e94\" xlink:type=\"simple\"><path d=\"M202.14,145 C213.59,145 228.4,145 242.83,145 \" fill=\"none\" id=\"E11-&gt;E3\" style=\"stroke: #383838; stroke-width: 1.0;\"/><polygon fill=\"#FFFFFF\" points=\"262.93,145,243.93,152,243.93,138,262.93,145\" style=\"stroke: #383838; stroke-width: 1.0;\"/><ellipse cx=\"238.23\" cy=\"150\" fill=\"#383838\" rx=\"2\" ry=\"2\" style=\"stroke: #383838; stroke-width: 1.0;\"/><ellipse cx=\"238.23\" cy=\"140\" fill=\"#383838\" rx=\"2\" ry=\"2\" style=\"stroke: #383838; stroke-width: 1.0;\"/></a><!--MD5=[00cdfd08dfb04c803ac27b25604ef8f0]\n",
       "@startuml\r\n",
       "left to right direction\r\n",
       "skinparam monochrome true\r\n",
       "skinparam classbackgroundcolor white\r\n",
       "skinparam shadowing false\r\n",
       "skinparam wrapWidth 300\r\n",
       "hide circle\r\n",
       "\r\n",
       "package \"ItemTest\" as E1  [[psysml:1bc06463-7392-4b34-87d6-1f1d6784670a ]]  {\r\n",
       "comp usage \"f: A\" as E2  <<(T,blue) item>> [[psysml:10e5f196-141c-4ebb-934a-0a8c25223d15 ]] {\r\n",
       "}\r\n",
       "comp def \"A\" as E3  <<(T,blue) item def>> [[psysml:d8185bfd-cc57-4585-aec6-0a59765b9e32 ]] {\r\n",
       "}\r\n",
       "comp usage \"b: B\" as E4  <<(T,blue) item>> [[psysml:867e3ff9-f74d-45bb-974d-3b3d8373197d ]] {\r\n",
       "}\r\n",
       "comp usage \"c: C\" as E5  <<(T,blue) part>> [[psysml:cb0d56cf-7b64-416e-8353-0e76041e55a4 ]] {\r\n",
       "}\r\n",
       "comp def \"B\" as E6  <<(T,blue) item def>> [[psysml:cb468909-38eb-4328-9448-1d282e0fd6a5 ]] {\r\n",
       "}\r\n",
       "comp usage \"a: A\" as E7  <<(T,blue) part>> [[psysml:8d68ea76-8496-4a3a-9bac-3b5e10d4f6d7 ]] {\r\n",
       "}\r\n",
       "comp def \"C\" as E8  <<(T,blue) part def>> [[psysml:3d841289-74ad-422d-b7f3-bdfc719d6361 ]] {\r\n",
       "}\r\n",
       "comp def \"P\" as E9  <<(T,blue) port def>> [[psysml:192666b5-43c5-4ec0-a40a-8ab471017ca3 ]] {\r\n",
       "}\r\n",
       "comp usage \"a1: A\" as E10  <<(T,blue) item>> [[psysml:a2436968-c74d-4c9f-bf2a-127bcc502b4e ]] {\r\n",
       "}\r\n",
       "comp usage \"a2: A\" as E11  <<(T,blue) item>> [[psysml:6388cc28-f9be-476c-ad05-d9ff93971fbb ]] {\r\n",
       "}\r\n",
       "}\r\n",
       "E2 - -:|> E3 [[psysml:24dbd283-1078-40f8-9dda-86d7de7bac74 ]] \r\n",
       "E3 *- - \"1\"E4 [[psysml:9f51e7d9-1020-406a-8433-de0298038040 ]] \r\n",
       "E3 o- - \"1\"E5 [[psysml:7a936c29-0528-4da5-855d-3be7e5f4e113 ]] \r\n",
       "E4 - -:|> E6 [[psysml:860f4e4a-475c-4d3a-a05e-585111d40739 ]] \r\n",
       "E6 *- - \"1\"E7 [[psysml:01396c82-09da-45aa-ba0c-a7dad5741ff2 ]] \r\n",
       "E7 - -:|> E3 [[psysml:d97708ca-1830-4e5e-bf07-a2aabe0546e8 ]] \r\n",
       "E5 - -:|> E8 [[psysml:75f754af-bdfa-473b-8cbb-d11c609ad500 ]] \r\n",
       "E8 o- - E3 [[psysml:aa35edca-3910-4cd9-97ff-300d5c8627fc ]] : y\r\n",
       "E8 o- - E6 [[psysml:aa35edca-3910-4cd9-97ff-300d5c8627fc ]] : y\r\n",
       "E9 o- - \"1\"E10 [[psysml:cf1da376-637e-4400-b815-716d62b1c417 ]] \r\n",
       "E10 - -:|> E3 [[psysml:4cf35cfc-841e-4847-875d-1ebad6bb61b9 ]] \r\n",
       "E9 o- - \"1\"E11 [[psysml:bd05daaf-8002-489d-bbfa-6134af678ace ]] \r\n",
       "E11 - -:|> E3 [[psysml:31e39f64-1f8d-4b2c-be98-c1459e5d6e94 ]] \r\n",
       "@enduml\r\n",
       "\n",
       "PlantUML version 1.2020.13(Sat Jun 13 12:26:38 UTC 2020)\n",
       "(EPL source distribution)\n",
       "Java Runtime: OpenJDK Runtime Environment\n",
       "JVM: OpenJDK 64-Bit Server VM\n",
       "Default Encoding: UTF-8\n",
       "Language: en\n",
       "Country: null\n",
       "--></g></svg>"
      ]
     },
     "execution_count": 17,
     "metadata": {},
     "output_type": "execute_result"
    }
   ],
   "source": [
    "%viz --style=\"LR\" --view=\"Tree\" \"ItemTest\""
   ]
  },
  {
   "cell_type": "code",
   "execution_count": 18,
   "id": "d481b7d5",
   "metadata": {
    "execution": {
     "iopub.execute_input": "2021-10-03T08:27:27.623180Z",
     "iopub.status.busy": "2021-10-03T08:27:27.622749Z",
     "iopub.status.idle": "2021-10-03T08:27:27.627898Z",
     "shell.execute_reply": "2021-10-03T08:27:27.628225Z"
    }
   },
   "outputs": [
    {
     "data": {
      "image/svg+xml": [
       "<?xml version=\"1.0\" encoding=\"UTF-8\" standalone=\"no\"?><svg xmlns=\"http://www.w3.org/2000/svg\" xmlns:xlink=\"http://www.w3.org/1999/xlink\" contentScriptType=\"application/ecmascript\" contentStyleType=\"text/css\" height=\"12px\" preserveAspectRatio=\"none\" style=\"width:12px;height:12px;\" version=\"1.1\" viewBox=\"0 0 12 12\" width=\"12px\" zoomAndPan=\"magnify\"><defs/><g><!--MD5=[19d285c9d72a204eba4e2cd117d745e8]\n",
       "@startuml\r\n",
       "left to right direction\r\n",
       "skinparam monochrome true\r\n",
       "skinparam classbackgroundcolor white\r\n",
       "skinparam shadowing false\r\n",
       "skinparam wrapWidth 300\r\n",
       "hide circle\r\n",
       "\r\n",
       "@enduml\r\n",
       "\n",
       "PlantUML version 1.2020.13(Sat Jun 13 12:26:38 UTC 2020)\n",
       "(EPL source distribution)\n",
       "Java Runtime: OpenJDK Runtime Environment\n",
       "JVM: OpenJDK 64-Bit Server VM\n",
       "Default Encoding: UTF-8\n",
       "Language: en\n",
       "Country: null\n",
       "--></g></svg>"
      ]
     },
     "execution_count": 18,
     "metadata": {},
     "output_type": "execute_result"
    }
   ],
   "source": [
    "%viz --style=\"LR\" --view=\"State\" \"ItemTest\""
   ]
  },
  {
   "cell_type": "code",
   "execution_count": 19,
   "id": "aea5a8d9",
   "metadata": {
    "execution": {
     "iopub.execute_input": "2021-10-03T08:27:27.677913Z",
     "iopub.status.busy": "2021-10-03T08:27:27.677505Z",
     "iopub.status.idle": "2021-10-03T08:27:27.706129Z",
     "shell.execute_reply": "2021-10-03T08:27:27.704503Z"
    }
   },
   "outputs": [
    {
     "data": {
      "image/svg+xml": [
       "<?xml version=\"1.0\" encoding=\"UTF-8\" standalone=\"no\"?><svg xmlns=\"http://www.w3.org/2000/svg\" xmlns:xlink=\"http://www.w3.org/1999/xlink\" contentScriptType=\"application/ecmascript\" contentStyleType=\"text/css\" height=\"425px\" preserveAspectRatio=\"none\" style=\"width:142px;height:425px;\" version=\"1.1\" viewBox=\"0 0 142 425\" width=\"142px\" zoomAndPan=\"magnify\"><defs/><g><!--MD5=[fbc87193dbaf4d95561dea2c320d4a47]\n",
       "cluster E1--><a href=\"psysml:1bc06463-7392-4b34-87d6-1f1d6784670a\" target=\"_top\" title=\"psysml:1bc06463-7392-4b34-87d6-1f1d6784670a\" xlink:actuate=\"onRequest\" xlink:href=\"psysml:1bc06463-7392-4b34-87d6-1f1d6784670a\" xlink:show=\"new\" xlink:title=\"psysml:1bc06463-7392-4b34-87d6-1f1d6784670a\" xlink:type=\"simple\"><polygon fill=\"#FFFFFF\" points=\"16,6,83,6,90,28.2969,120,28.2969,120,413,16,413,16,6\" style=\"stroke: #000000; stroke-width: 1.5;\"/><line style=\"stroke: #000000; stroke-width: 1.5;\" x1=\"16\" x2=\"90\" y1=\"28.2969\" y2=\"28.2969\"/><text fill=\"#000000\" font-family=\"sans-serif\" font-size=\"14\" font-weight=\"bold\" lengthAdjust=\"spacingAndGlyphs\" textLength=\"61\" x=\"20\" y=\"20.9951\">ItemTest</text></a><g id=\"E1.E3\"><a href=\"psysml:d8185bfd-cc57-4585-aec6-0a59765b9e32\" target=\"_top\" title=\"psysml:d8185bfd-cc57-4585-aec6-0a59765b9e32\" xlink:actuate=\"onRequest\" xlink:href=\"psysml:d8185bfd-cc57-4585-aec6-0a59765b9e32\" xlink:show=\"new\" xlink:title=\"psysml:d8185bfd-cc57-4585-aec6-0a59765b9e32\" xlink:type=\"simple\"><rect fill=\"#FFFFFF\" height=\"42.9375\" id=\"E3\" style=\"stroke: #383838; stroke-width: 1.5;\" width=\"72\" x=\"32\" y=\"41.5\"/><rect fill=\"#F8F8F8\" height=\"37.9375\" style=\"stroke: #383838; stroke-width: 1.5;\" width=\"72\" x=\"32\" y=\"41.5\"/><text fill=\"#000000\" font-family=\"sans-serif\" font-size=\"12\" font-style=\"italic\" lengthAdjust=\"spacingAndGlyphs\" textLength=\"65\" x=\"35.5\" y=\"57.6387\">«item def»</text><text fill=\"#000000\" font-family=\"sans-serif\" font-size=\"12\" lengthAdjust=\"spacingAndGlyphs\" textLength=\"8\" x=\"64\" y=\"71.6074\">A</text></a></g><g id=\"E1.E4\"><a href=\"psysml:cb468909-38eb-4328-9448-1d282e0fd6a5\" target=\"_top\" title=\"psysml:cb468909-38eb-4328-9448-1d282e0fd6a5\" xlink:actuate=\"onRequest\" xlink:href=\"psysml:cb468909-38eb-4328-9448-1d282e0fd6a5\" xlink:show=\"new\" xlink:title=\"psysml:cb468909-38eb-4328-9448-1d282e0fd6a5\" xlink:type=\"simple\"><rect fill=\"#FFFFFF\" height=\"42.9375\" id=\"E4\" style=\"stroke: #383838; stroke-width: 1.5;\" width=\"72\" x=\"32\" y=\"119.5\"/><rect fill=\"#F8F8F8\" height=\"37.9375\" style=\"stroke: #383838; stroke-width: 1.5;\" width=\"72\" x=\"32\" y=\"119.5\"/><text fill=\"#000000\" font-family=\"sans-serif\" font-size=\"12\" font-style=\"italic\" lengthAdjust=\"spacingAndGlyphs\" textLength=\"65\" x=\"35.5\" y=\"135.6387\">«item def»</text><text fill=\"#000000\" font-family=\"sans-serif\" font-size=\"12\" lengthAdjust=\"spacingAndGlyphs\" textLength=\"8\" x=\"64\" y=\"149.6074\">B</text></a></g><g id=\"E1.E6\"><a href=\"psysml:192666b5-43c5-4ec0-a40a-8ab471017ca3\" target=\"_top\" title=\"psysml:192666b5-43c5-4ec0-a40a-8ab471017ca3\" xlink:actuate=\"onRequest\" xlink:href=\"psysml:192666b5-43c5-4ec0-a40a-8ab471017ca3\" xlink:show=\"new\" xlink:title=\"psysml:192666b5-43c5-4ec0-a40a-8ab471017ca3\" xlink:type=\"simple\"><rect fill=\"#FFFFFF\" height=\"42.9375\" id=\"E6\" style=\"stroke: #383838; stroke-width: 1.5;\" width=\"71\" x=\"32.5\" y=\"197.5\"/><rect fill=\"#F8F8F8\" height=\"37.9375\" style=\"stroke: #383838; stroke-width: 1.5;\" width=\"71\" x=\"32.5\" y=\"197.5\"/><text fill=\"#000000\" font-family=\"sans-serif\" font-size=\"12\" font-style=\"italic\" lengthAdjust=\"spacingAndGlyphs\" textLength=\"64\" x=\"36\" y=\"213.6387\">«port def»</text><text fill=\"#000000\" font-family=\"sans-serif\" font-size=\"12\" lengthAdjust=\"spacingAndGlyphs\" textLength=\"8\" x=\"64\" y=\"227.6074\">P</text></a></g><g id=\"E1.E2\"><a href=\"psysml:10e5f196-141c-4ebb-934a-0a8c25223d15\" target=\"_top\" title=\"psysml:10e5f196-141c-4ebb-934a-0a8c25223d15\" xlink:actuate=\"onRequest\" xlink:href=\"psysml:10e5f196-141c-4ebb-934a-0a8c25223d15\" xlink:show=\"new\" xlink:title=\"psysml:10e5f196-141c-4ebb-934a-0a8c25223d15\" xlink:type=\"simple\"><rect fill=\"#FFFFFF\" height=\"42.9375\" id=\"E2\" rx=\"10\" ry=\"10\" style=\"stroke: #383838; stroke-width: 1.5;\" width=\"50\" x=\"43\" y=\"275.5\"/><rect fill=\"#F8F8F8\" height=\"37.9375\" rx=\"10\" ry=\"10\" style=\"stroke: #F8F8F8; stroke-width: 1.5;\" width=\"50\" x=\"43\" y=\"275.5\"/><rect fill=\"#F8F8F8\" height=\"10\" style=\"stroke: #F8F8F8; stroke-width: 1.5;\" width=\"50\" x=\"43\" y=\"303.4375\"/><rect fill=\"none\" height=\"42.9375\" id=\"E2\" rx=\"10\" ry=\"10\" style=\"stroke: #383838; stroke-width: 1.5;\" width=\"50\" x=\"43\" y=\"275.5\"/><text fill=\"#000000\" font-family=\"sans-serif\" font-size=\"12\" font-style=\"italic\" lengthAdjust=\"spacingAndGlyphs\" textLength=\"41\" x=\"47.5\" y=\"291.6387\">«item»</text><text fill=\"#000000\" font-family=\"sans-serif\" font-size=\"12\" lengthAdjust=\"spacingAndGlyphs\" textLength=\"20\" x=\"58\" y=\"305.6074\">f: A</text></a></g><g id=\"E1.E5\"><a href=\"psysml:3d841289-74ad-422d-b7f3-bdfc719d6361\" target=\"_top\" title=\"psysml:3d841289-74ad-422d-b7f3-bdfc719d6361\" xlink:actuate=\"onRequest\" xlink:href=\"psysml:3d841289-74ad-422d-b7f3-bdfc719d6361\" xlink:show=\"new\" xlink:title=\"psysml:3d841289-74ad-422d-b7f3-bdfc719d6361\" xlink:type=\"simple\"><rect fill=\"#FFFFFF\" height=\"42.9375\" id=\"E5\" style=\"stroke: #383838; stroke-width: 1.5;\" width=\"71\" x=\"32.5\" y=\"353.5\"/><rect fill=\"#F8F8F8\" height=\"37.9375\" style=\"stroke: #383838; stroke-width: 1.5;\" width=\"71\" x=\"32.5\" y=\"353.5\"/><text fill=\"#000000\" font-family=\"sans-serif\" font-size=\"12\" font-style=\"italic\" lengthAdjust=\"spacingAndGlyphs\" textLength=\"64\" x=\"36\" y=\"369.6387\">«part def»</text><text fill=\"#000000\" font-family=\"sans-serif\" font-size=\"12\" lengthAdjust=\"spacingAndGlyphs\" textLength=\"8\" x=\"64\" y=\"383.6074\">C</text></a></g><!--MD5=[3614a79b21305a6722ad341ceac30f72]\n",
       "@startuml\r\n",
       "skinparam ranksep 10\r\n",
       "skinparam rectangle {\r\n",
       " backgroundColor<<block>> LightGreen\r\n",
       "}\r\n",
       "left to right direction\r\n",
       "skinparam monochrome true\r\n",
       "skinparam classbackgroundcolor white\r\n",
       "skinparam shadowing false\r\n",
       "skinparam wrapWidth 300\r\n",
       "hide circle\r\n",
       "\r\n",
       "package \"ItemTest\" as E1  [[psysml:1bc06463-7392-4b34-87d6-1f1d6784670a ]]  {\r\n",
       "rec usage \"f: A\" as E2  <<(T,blue) item>> [[psysml:10e5f196-141c-4ebb-934a-0a8c25223d15 ]] {\r\n",
       "}\r\n",
       "def \"A\" as E3  <<(T,blue) item def>> [[psysml:d8185bfd-cc57-4585-aec6-0a59765b9e32 ]] \r\n",
       "def \"B\" as E4  <<(T,blue) item def>> [[psysml:cb468909-38eb-4328-9448-1d282e0fd6a5 ]] \r\n",
       "rec def \"C\" as E5  <<(T,blue) part def>> [[psysml:3d841289-74ad-422d-b7f3-bdfc719d6361 ]] {\r\n",
       "}\r\n",
       "def \"P\" as E6  <<(T,blue) port def>> [[psysml:192666b5-43c5-4ec0-a40a-8ab471017ca3 ]] \r\n",
       "}\r\n",
       "@enduml\r\n",
       "\n",
       "PlantUML version 1.2020.13(Sat Jun 13 12:26:38 UTC 2020)\n",
       "(EPL source distribution)\n",
       "Java Runtime: OpenJDK Runtime Environment\n",
       "JVM: OpenJDK 64-Bit Server VM\n",
       "Default Encoding: UTF-8\n",
       "Language: en\n",
       "Country: null\n",
       "--></g></svg>"
      ]
     },
     "execution_count": 19,
     "metadata": {},
     "output_type": "execute_result"
    }
   ],
   "source": [
    "%viz --style=\"LR\" --view=\"Interconnection\" \"ItemTest\""
   ]
  },
  {
   "cell_type": "code",
   "execution_count": 20,
   "id": "1091b765",
   "metadata": {
    "execution": {
     "iopub.execute_input": "2021-10-03T08:27:27.755389Z",
     "iopub.status.busy": "2021-10-03T08:27:27.754990Z",
     "iopub.status.idle": "2021-10-03T08:27:27.760125Z",
     "shell.execute_reply": "2021-10-03T08:27:27.760441Z"
    }
   },
   "outputs": [
    {
     "data": {
      "image/svg+xml": [
       "<?xml version=\"1.0\" encoding=\"UTF-8\" standalone=\"no\"?><svg xmlns=\"http://www.w3.org/2000/svg\" xmlns:xlink=\"http://www.w3.org/1999/xlink\" contentScriptType=\"application/ecmascript\" contentStyleType=\"text/css\" height=\"12px\" preserveAspectRatio=\"none\" style=\"width:12px;height:12px;\" version=\"1.1\" viewBox=\"0 0 12 12\" width=\"12px\" zoomAndPan=\"magnify\"><defs/><g><!--MD5=[7aeb398939421629f6affaa4a1a7b125]\n",
       "@startuml\r\n",
       "skinparam ranksep 8\r\n",
       "left to right direction\r\n",
       "skinparam monochrome true\r\n",
       "skinparam classbackgroundcolor white\r\n",
       "skinparam shadowing false\r\n",
       "skinparam wrapWidth 300\r\n",
       "hide circle\r\n",
       "\r\n",
       "@enduml\r\n",
       "\n",
       "PlantUML version 1.2020.13(Sat Jun 13 12:26:38 UTC 2020)\n",
       "(EPL source distribution)\n",
       "Java Runtime: OpenJDK Runtime Environment\n",
       "JVM: OpenJDK 64-Bit Server VM\n",
       "Default Encoding: UTF-8\n",
       "Language: en\n",
       "Country: null\n",
       "--></g></svg>"
      ]
     },
     "execution_count": 20,
     "metadata": {},
     "output_type": "execute_result"
    }
   ],
   "source": [
    "%viz --style=\"LR\" --view=\"Action\" \"ItemTest\""
   ]
  },
  {
   "cell_type": "code",
   "execution_count": 21,
   "id": "c2cbe9e5",
   "metadata": {
    "execution": {
     "iopub.execute_input": "2021-10-03T08:27:27.810087Z",
     "iopub.status.busy": "2021-10-03T08:27:27.809684Z",
     "iopub.status.idle": "2021-10-03T08:27:27.815045Z",
     "shell.execute_reply": "2021-10-03T08:27:27.815362Z"
    }
   },
   "outputs": [
    {
     "data": {
      "image/svg+xml": [
       "<?xml version=\"1.0\" encoding=\"UTF-8\" standalone=\"no\"?><svg xmlns=\"http://www.w3.org/2000/svg\" xmlns:xlink=\"http://www.w3.org/1999/xlink\" contentScriptType=\"application/ecmascript\" contentStyleType=\"text/css\" height=\"12px\" preserveAspectRatio=\"none\" style=\"width:12px;height:12px;\" version=\"1.1\" viewBox=\"0 0 12 12\" width=\"12px\" zoomAndPan=\"magnify\"><defs/><g><!--MD5=[238c11ea2002f03115ad6b49a457d50e]\n",
       "@startuml\r\n",
       "skinparam roundcorner 20\r\n",
       "skinparam BoxPadding 20\r\n",
       "skinparam SequenceBoxBackgroundColor #white\r\n",
       "skinparam style strictuml\r\n",
       "skinparam maxMessageSize 100\r\n",
       "left to right direction\r\n",
       "skinparam monochrome true\r\n",
       "skinparam classbackgroundcolor white\r\n",
       "skinparam shadowing false\r\n",
       "skinparam wrapWidth 300\r\n",
       "hide circle\r\n",
       "\r\n",
       "@enduml\r\n",
       "\n",
       "PlantUML version 1.2020.13(Sat Jun 13 12:26:38 UTC 2020)\n",
       "(EPL source distribution)\n",
       "Java Runtime: OpenJDK Runtime Environment\n",
       "JVM: OpenJDK 64-Bit Server VM\n",
       "Default Encoding: UTF-8\n",
       "Language: en\n",
       "Country: null\n",
       "--></g></svg>"
      ]
     },
     "execution_count": 21,
     "metadata": {},
     "output_type": "execute_result"
    }
   ],
   "source": [
    "%viz --style=\"LR\" --view=\"Sequence\" \"ItemTest\""
   ]
  },
  {
   "cell_type": "code",
   "execution_count": 22,
   "id": "0e2fbe43",
   "metadata": {
    "execution": {
     "iopub.execute_input": "2021-10-03T08:27:27.865060Z",
     "iopub.status.busy": "2021-10-03T08:27:27.864655Z",
     "iopub.status.idle": "2021-10-03T08:27:27.920574Z",
     "shell.execute_reply": "2021-10-03T08:27:27.920203Z"
    }
   },
   "outputs": [
    {
     "data": {
      "image/svg+xml": [
       "<?xml version=\"1.0\" encoding=\"UTF-8\" standalone=\"no\"?><svg xmlns=\"http://www.w3.org/2000/svg\" xmlns:xlink=\"http://www.w3.org/1999/xlink\" contentScriptType=\"application/ecmascript\" contentStyleType=\"text/css\" height=\"277px\" preserveAspectRatio=\"none\" style=\"width:879px;height:277px;\" version=\"1.1\" viewBox=\"0 0 879 277\" width=\"879px\" zoomAndPan=\"magnify\"><defs/><g><!--MD5=[fbc87193dbaf4d95561dea2c320d4a47]\n",
       "cluster E1--><a href=\"psysml:1bc06463-7392-4b34-87d6-1f1d6784670a\" target=\"_top\" title=\"psysml:1bc06463-7392-4b34-87d6-1f1d6784670a\" xlink:actuate=\"onRequest\" xlink:href=\"psysml:1bc06463-7392-4b34-87d6-1f1d6784670a\" xlink:show=\"new\" xlink:title=\"psysml:1bc06463-7392-4b34-87d6-1f1d6784670a\" xlink:type=\"simple\"><polygon fill=\"#FFFFFF\" points=\"16,6,83,6,90,28.2969,857,28.2969,857,265,16,265,16,6\" style=\"stroke: #000000; stroke-width: 1.5;\"/><line style=\"stroke: #000000; stroke-width: 1.5;\" x1=\"16\" x2=\"90\" y1=\"28.2969\" y2=\"28.2969\"/><text fill=\"#000000\" font-family=\"sans-serif\" font-size=\"14\" font-weight=\"bold\" lengthAdjust=\"spacingAndGlyphs\" textLength=\"61\" x=\"20\" y=\"20.9951\">ItemTest</text></a><!--MD5=[b4997ac47864f28c2f74865a473b2911]\n",
       "class E2--><a href=\"psysml:10e5f196-141c-4ebb-934a-0a8c25223d15\" target=\"_top\" title=\"psysml:10e5f196-141c-4ebb-934a-0a8c25223d15\" xlink:actuate=\"onRequest\" xlink:href=\"psysml:10e5f196-141c-4ebb-934a-0a8c25223d15\" xlink:show=\"new\" xlink:title=\"psysml:10e5f196-141c-4ebb-934a-0a8c25223d15\" xlink:type=\"simple\"><rect fill=\"#FFFFFF\" height=\"45.9375\" id=\"E2\" rx=\"10\" ry=\"10\" style=\"stroke: #383838; stroke-width: 1.5;\" width=\"43\" x=\"159\" y=\"41\"/><text fill=\"#000000\" font-family=\"sans-serif\" font-size=\"12\" font-style=\"italic\" lengthAdjust=\"spacingAndGlyphs\" textLength=\"41\" x=\"160\" y=\"57.1387\">«item»</text><text fill=\"#000000\" font-family=\"sans-serif\" font-size=\"12\" lengthAdjust=\"spacingAndGlyphs\" textLength=\"20\" x=\"170.5\" y=\"71.1074\">f: A</text><line style=\"stroke: #383838; stroke-width: 1.5;\" x1=\"160\" x2=\"201\" y1=\"78.9375\" y2=\"78.9375\"/></a><!--MD5=[09b614a08d8cba4a07c9adeb5e0fee81]\n",
       "class E3--><a href=\"psysml:d8185bfd-cc57-4585-aec6-0a59765b9e32\" target=\"_top\" title=\"psysml:d8185bfd-cc57-4585-aec6-0a59765b9e32\" xlink:actuate=\"onRequest\" xlink:href=\"psysml:d8185bfd-cc57-4585-aec6-0a59765b9e32\" xlink:show=\"new\" xlink:title=\"psysml:d8185bfd-cc57-4585-aec6-0a59765b9e32\" xlink:type=\"simple\"><rect fill=\"#FFFFFF\" height=\"45.9375\" id=\"E3\" style=\"stroke: #383838; stroke-width: 1.5;\" width=\"67\" x=\"263\" y=\"122\"/><text fill=\"#000000\" font-family=\"sans-serif\" font-size=\"12\" font-style=\"italic\" lengthAdjust=\"spacingAndGlyphs\" textLength=\"65\" x=\"264\" y=\"138.1387\">«item def»</text><text fill=\"#000000\" font-family=\"sans-serif\" font-size=\"12\" lengthAdjust=\"spacingAndGlyphs\" textLength=\"8\" x=\"292.5\" y=\"152.1074\">A</text><line style=\"stroke: #383838; stroke-width: 1.5;\" x1=\"264\" x2=\"329\" y1=\"159.9375\" y2=\"159.9375\"/></a><!--MD5=[ebbe1d658d1005bcc118a6aa81145e00]\n",
       "class E4--><a href=\"psysml:867e3ff9-f74d-45bb-974d-3b3d8373197d\" target=\"_top\" title=\"psysml:867e3ff9-f74d-45bb-974d-3b3d8373197d\" xlink:actuate=\"onRequest\" xlink:href=\"psysml:867e3ff9-f74d-45bb-974d-3b3d8373197d\" xlink:show=\"new\" xlink:title=\"psysml:867e3ff9-f74d-45bb-974d-3b3d8373197d\" xlink:type=\"simple\"><rect fill=\"#FFFFFF\" height=\"45.9375\" id=\"E4\" rx=\"10\" ry=\"10\" style=\"stroke: #383838; stroke-width: 1.5;\" width=\"43\" x=\"463\" y=\"192\"/><text fill=\"#000000\" font-family=\"sans-serif\" font-size=\"12\" font-style=\"italic\" lengthAdjust=\"spacingAndGlyphs\" textLength=\"41\" x=\"464\" y=\"208.1387\">«item»</text><text fill=\"#000000\" font-family=\"sans-serif\" font-size=\"12\" lengthAdjust=\"spacingAndGlyphs\" textLength=\"24\" x=\"472.5\" y=\"222.1074\">b: B</text><line style=\"stroke: #383838; stroke-width: 1.5;\" x1=\"464\" x2=\"505\" y1=\"229.9375\" y2=\"229.9375\"/></a><!--MD5=[270fce915f116d4de14055a7c1d9a0f3]\n",
       "class E5--><a href=\"psysml:cb0d56cf-7b64-416e-8353-0e76041e55a4\" target=\"_top\" title=\"psysml:cb0d56cf-7b64-416e-8353-0e76041e55a4\" xlink:actuate=\"onRequest\" xlink:href=\"psysml:cb0d56cf-7b64-416e-8353-0e76041e55a4\" xlink:show=\"new\" xlink:title=\"psysml:cb0d56cf-7b64-416e-8353-0e76041e55a4\" xlink:type=\"simple\"><rect fill=\"#FFFFFF\" height=\"45.9375\" id=\"E5\" rx=\"10\" ry=\"10\" style=\"stroke: #383838; stroke-width: 1.5;\" width=\"42\" x=\"391\" y=\"78\"/><text fill=\"#000000\" font-family=\"sans-serif\" font-size=\"12\" font-style=\"italic\" lengthAdjust=\"spacingAndGlyphs\" textLength=\"40\" x=\"392\" y=\"94.1387\">«part»</text><text fill=\"#000000\" font-family=\"sans-serif\" font-size=\"12\" lengthAdjust=\"spacingAndGlyphs\" textLength=\"23\" x=\"400.5\" y=\"108.1074\">c: C</text><line style=\"stroke: #383838; stroke-width: 1.5;\" x1=\"392\" x2=\"432\" y1=\"115.9375\" y2=\"115.9375\"/></a><!--MD5=[60a26617385b1d2d0262a64233df1f8d]\n",
       "class E6--><a href=\"psysml:cb468909-38eb-4328-9448-1d282e0fd6a5\" target=\"_top\" title=\"psysml:cb468909-38eb-4328-9448-1d282e0fd6a5\" xlink:actuate=\"onRequest\" xlink:href=\"psysml:cb468909-38eb-4328-9448-1d282e0fd6a5\" xlink:show=\"new\" xlink:title=\"psysml:cb468909-38eb-4328-9448-1d282e0fd6a5\" xlink:type=\"simple\"><rect fill=\"#FFFFFF\" height=\"45.9375\" id=\"E6\" style=\"stroke: #383838; stroke-width: 1.5;\" width=\"67\" x=\"671\" y=\"105\"/><text fill=\"#000000\" font-family=\"sans-serif\" font-size=\"12\" font-style=\"italic\" lengthAdjust=\"spacingAndGlyphs\" textLength=\"65\" x=\"672\" y=\"121.1387\">«item def»</text><text fill=\"#000000\" font-family=\"sans-serif\" font-size=\"12\" lengthAdjust=\"spacingAndGlyphs\" textLength=\"8\" x=\"700.5\" y=\"135.1074\">B</text><line style=\"stroke: #383838; stroke-width: 1.5;\" x1=\"672\" x2=\"737\" y1=\"142.9375\" y2=\"142.9375\"/></a><!--MD5=[2156ba9850f5573cc1fc38a6a4b2f02b]\n",
       "class E7--><a href=\"psysml:8d68ea76-8496-4a3a-9bac-3b5e10d4f6d7\" target=\"_top\" title=\"psysml:8d68ea76-8496-4a3a-9bac-3b5e10d4f6d7\" xlink:actuate=\"onRequest\" xlink:href=\"psysml:8d68ea76-8496-4a3a-9bac-3b5e10d4f6d7\" xlink:show=\"new\" xlink:title=\"psysml:8d68ea76-8496-4a3a-9bac-3b5e10d4f6d7\" xlink:type=\"simple\"><rect fill=\"#FFFFFF\" height=\"45.9375\" id=\"E7\" rx=\"10\" ry=\"10\" style=\"stroke: #383838; stroke-width: 1.5;\" width=\"42\" x=\"799\" y=\"73\"/><text fill=\"#000000\" font-family=\"sans-serif\" font-size=\"12\" font-style=\"italic\" lengthAdjust=\"spacingAndGlyphs\" textLength=\"40\" x=\"800\" y=\"89.1387\">«part»</text><text fill=\"#000000\" font-family=\"sans-serif\" font-size=\"12\" lengthAdjust=\"spacingAndGlyphs\" textLength=\"24\" x=\"808\" y=\"103.1074\">a: A</text><line style=\"stroke: #383838; stroke-width: 1.5;\" x1=\"800\" x2=\"840\" y1=\"110.9375\" y2=\"110.9375\"/></a><!--MD5=[b9389687b975829384b498ac4b7476b2]\n",
       "class E8--><a href=\"psysml:3d841289-74ad-422d-b7f3-bdfc719d6361\" target=\"_top\" title=\"psysml:3d841289-74ad-422d-b7f3-bdfc719d6361\" xlink:actuate=\"onRequest\" xlink:href=\"psysml:3d841289-74ad-422d-b7f3-bdfc719d6361\" xlink:show=\"new\" xlink:title=\"psysml:3d841289-74ad-422d-b7f3-bdfc719d6361\" xlink:type=\"simple\"><rect fill=\"#FFFFFF\" height=\"45.9375\" id=\"E8\" style=\"stroke: #383838; stroke-width: 1.5;\" width=\"66\" x=\"536\" y=\"105\"/><text fill=\"#000000\" font-family=\"sans-serif\" font-size=\"12\" font-style=\"italic\" lengthAdjust=\"spacingAndGlyphs\" textLength=\"64\" x=\"537\" y=\"121.1387\">«part def»</text><text fill=\"#000000\" font-family=\"sans-serif\" font-size=\"12\" lengthAdjust=\"spacingAndGlyphs\" textLength=\"8\" x=\"565\" y=\"135.1074\">C</text><line style=\"stroke: #383838; stroke-width: 1.5;\" x1=\"537\" x2=\"601\" y1=\"142.9375\" y2=\"142.9375\"/></a><!--MD5=[fd4143e9d270a159db93a4ea2a975926]\n",
       "class E9--><a href=\"psysml:192666b5-43c5-4ec0-a40a-8ab471017ca3\" target=\"_top\" title=\"psysml:192666b5-43c5-4ec0-a40a-8ab471017ca3\" xlink:actuate=\"onRequest\" xlink:href=\"psysml:192666b5-43c5-4ec0-a40a-8ab471017ca3\" xlink:show=\"new\" xlink:title=\"psysml:192666b5-43c5-4ec0-a40a-8ab471017ca3\" xlink:type=\"simple\"><rect fill=\"#FFFFFF\" height=\"45.9375\" id=\"E9\" style=\"stroke: #383838; stroke-width: 1.5;\" width=\"66\" x=\"32\" y=\"163\"/><text fill=\"#000000\" font-family=\"sans-serif\" font-size=\"12\" font-style=\"italic\" lengthAdjust=\"spacingAndGlyphs\" textLength=\"64\" x=\"33\" y=\"179.1387\">«port def»</text><text fill=\"#000000\" font-family=\"sans-serif\" font-size=\"12\" lengthAdjust=\"spacingAndGlyphs\" textLength=\"8\" x=\"61\" y=\"193.1074\">P</text><line style=\"stroke: #383838; stroke-width: 1.5;\" x1=\"33\" x2=\"97\" y1=\"200.9375\" y2=\"200.9375\"/></a><!--MD5=[96f4274e9e20536e775497830990834d]\n",
       "class E10--><a href=\"psysml:a2436968-c74d-4c9f-bf2a-127bcc502b4e\" target=\"_top\" title=\"psysml:a2436968-c74d-4c9f-bf2a-127bcc502b4e\" xlink:actuate=\"onRequest\" xlink:href=\"psysml:a2436968-c74d-4c9f-bf2a-127bcc502b4e\" xlink:show=\"new\" xlink:title=\"psysml:a2436968-c74d-4c9f-bf2a-127bcc502b4e\" xlink:type=\"simple\"><rect fill=\"#FFFFFF\" height=\"45.9375\" id=\"E10\" rx=\"10\" ry=\"10\" style=\"stroke: #383838; stroke-width: 1.5;\" width=\"43\" x=\"159\" y=\"203\"/><text fill=\"#000000\" font-family=\"sans-serif\" font-size=\"12\" font-style=\"italic\" lengthAdjust=\"spacingAndGlyphs\" textLength=\"41\" x=\"160\" y=\"219.1387\">«item»</text><text fill=\"#000000\" font-family=\"sans-serif\" font-size=\"12\" lengthAdjust=\"spacingAndGlyphs\" textLength=\"32\" x=\"164.5\" y=\"233.1074\">a1: A</text><line style=\"stroke: #383838; stroke-width: 1.5;\" x1=\"160\" x2=\"201\" y1=\"240.9375\" y2=\"240.9375\"/></a><!--MD5=[1dd1bfd58a279cf63c5f349dbc8fc6a1]\n",
       "class E11--><a href=\"psysml:6388cc28-f9be-476c-ad05-d9ff93971fbb\" target=\"_top\" title=\"psysml:6388cc28-f9be-476c-ad05-d9ff93971fbb\" xlink:actuate=\"onRequest\" xlink:href=\"psysml:6388cc28-f9be-476c-ad05-d9ff93971fbb\" xlink:show=\"new\" xlink:title=\"psysml:6388cc28-f9be-476c-ad05-d9ff93971fbb\" xlink:type=\"simple\"><rect fill=\"#FFFFFF\" height=\"45.9375\" id=\"E11\" rx=\"10\" ry=\"10\" style=\"stroke: #383838; stroke-width: 1.5;\" width=\"43\" x=\"159\" y=\"122\"/><text fill=\"#000000\" font-family=\"sans-serif\" font-size=\"12\" font-style=\"italic\" lengthAdjust=\"spacingAndGlyphs\" textLength=\"41\" x=\"160\" y=\"138.1387\">«item»</text><text fill=\"#000000\" font-family=\"sans-serif\" font-size=\"12\" lengthAdjust=\"spacingAndGlyphs\" textLength=\"32\" x=\"164.5\" y=\"152.1074\">a2: A</text><line style=\"stroke: #383838; stroke-width: 1.5;\" x1=\"160\" x2=\"201\" y1=\"159.9375\" y2=\"159.9375\"/></a><!--MD5=[2720a5a1f2c3fca2055b230370638851]\n",
       "link E2 to E3--><a href=\"psysml:24dbd283-1078-40f8-9dda-86d7de7bac74\" target=\"_top\" title=\"psysml:24dbd283-1078-40f8-9dda-86d7de7bac74\" xlink:actuate=\"onRequest\" xlink:href=\"psysml:24dbd283-1078-40f8-9dda-86d7de7bac74\" xlink:show=\"new\" xlink:title=\"psysml:24dbd283-1078-40f8-9dda-86d7de7bac74\" xlink:type=\"simple\"><path d=\"M202.14,78.67 C214.58,87.51 230.99,99.16 246.57,110.24 \" fill=\"none\" id=\"E2-&gt;E3\" style=\"stroke: #383838; stroke-width: 1.0;\"/><polygon fill=\"#FFFFFF\" points=\"262.93,121.86,243.388,116.558,251.4988,105.1469,262.93,121.86\" style=\"stroke: #383838; stroke-width: 1.0;\"/><ellipse cx=\"239.9007\" cy=\"111.6256\" fill=\"#383838\" rx=\"2\" ry=\"2\" style=\"stroke: #383838; stroke-width: 1.0;\"/><ellipse cx=\"245.6942\" cy=\"103.4748\" fill=\"#383838\" rx=\"2\" ry=\"2\" style=\"stroke: #383838; stroke-width: 1.0;\"/></a><!--MD5=[4672eba38e49728da53d11aeb285b987]\n",
       "reverse link E3 to E4--><a href=\"psysml:9f51e7d9-1020-406a-8433-de0298038040\" target=\"_top\" title=\"psysml:9f51e7d9-1020-406a-8433-de0298038040\" xlink:actuate=\"onRequest\" xlink:href=\"psysml:9f51e7d9-1020-406a-8433-de0298038040\" xlink:show=\"new\" xlink:title=\"psysml:9f51e7d9-1020-406a-8433-de0298038040\" xlink:type=\"simple\"><path d=\"M327.69,177.56 C344.59,193.35 367.04,210.66 391,219 C414.53,227.19 443.48,223.99 462.66,220.2 \" fill=\"none\" id=\"E3&lt;-E4\" style=\"stroke: #383838; stroke-width: 1.0;\"/><polygon fill=\"#383838\" points=\"317.93,168.02,319.4265,175.0741,326.5136,176.4058,325.0171,169.3517,317.93,168.02\" style=\"stroke: #383838; stroke-width: 1.0;\"/><text fill=\"#000000\" font-family=\"sans-serif\" font-size=\"13\" lengthAdjust=\"spacingAndGlyphs\" textLength=\"8\" x=\"447.0695\" y=\"236.0262\">1</text></a><!--MD5=[191cde3d490a3f6d7bb551fe3ddca469]\n",
       "reverse link E3 to E5--><a href=\"psysml:7a936c29-0528-4da5-855d-3be7e5f4e113\" target=\"_top\" title=\"psysml:7a936c29-0528-4da5-855d-3be7e5f4e113\" xlink:actuate=\"onRequest\" xlink:href=\"psysml:7a936c29-0528-4da5-855d-3be7e5f4e113\" xlink:show=\"new\" xlink:title=\"psysml:7a936c29-0528-4da5-855d-3be7e5f4e113\" xlink:type=\"simple\"><path d=\"M342.49,127.56 C359.29,121.05 377.52,113.98 390.96,108.77 \" fill=\"none\" id=\"E3&lt;-E5\" style=\"stroke: #383838; stroke-width: 1.0;\"/><polygon fill=\"#FFFFFF\" points=\"330.02,132.39,337.0606,133.949,341.2075,128.0496,334.1669,126.4906,330.02,132.39\" style=\"stroke: #383838; stroke-width: 1.0;\"/><text fill=\"#000000\" font-family=\"sans-serif\" font-size=\"13\" lengthAdjust=\"spacingAndGlyphs\" textLength=\"8\" x=\"374.9785\" y=\"125.7353\">1</text></a><!--MD5=[79568f1e445c3877b6a54524624ccc7d]\n",
       "link E4 to E6--><a href=\"psysml:860f4e4a-475c-4d3a-a05e-585111d40739\" target=\"_top\" title=\"psysml:860f4e4a-475c-4d3a-a05e-585111d40739\" xlink:actuate=\"onRequest\" xlink:href=\"psysml:860f4e4a-475c-4d3a-a05e-585111d40739\" xlink:show=\"new\" xlink:title=\"psysml:860f4e4a-475c-4d3a-a05e-585111d40739\" xlink:type=\"simple\"><path d=\"M506.01,206.82 C539.21,193.56 605.71,167.03 652.34,148.42 \" fill=\"none\" id=\"E4-&gt;E6\" style=\"stroke: #383838; stroke-width: 1.0;\"/><polygon fill=\"#FFFFFF\" points=\"670.95,140.99,655.8961,154.5318,650.7087,141.5283,670.95,140.99\" style=\"stroke: #383838; stroke-width: 1.0;\"/><ellipse cx=\"649.8608\" cy=\"154.7862\" fill=\"#383838\" rx=\"2\" ry=\"2\" style=\"stroke: #383838; stroke-width: 1.0;\"/><ellipse cx=\"646.1555\" cy=\"145.498\" fill=\"#383838\" rx=\"2\" ry=\"2\" style=\"stroke: #383838; stroke-width: 1.0;\"/></a><!--MD5=[3f50a3473f1dfb74d3f76443e03635af]\n",
       "reverse link E6 to E7--><a href=\"psysml:01396c82-09da-45aa-ba0c-a7dad5741ff2\" target=\"_top\" title=\"psysml:01396c82-09da-45aa-ba0c-a7dad5741ff2\" xlink:actuate=\"onRequest\" xlink:href=\"psysml:01396c82-09da-45aa-ba0c-a7dad5741ff2\" xlink:show=\"new\" xlink:title=\"psysml:01396c82-09da-45aa-ba0c-a7dad5741ff2\" xlink:type=\"simple\"><path d=\"M750.98,115.18 C767.64,110.48 785.65,105.4 798.96,101.65 \" fill=\"none\" id=\"E6&lt;-E7\" style=\"stroke: #383838; stroke-width: 1.0;\"/><polygon fill=\"#383838\" points=\"738.02,118.83,744.8804,121.0516,749.5697,115.5734,742.7093,113.3518,738.02,118.83\" style=\"stroke: #383838; stroke-width: 1.0;\"/><text fill=\"#000000\" font-family=\"sans-serif\" font-size=\"13\" lengthAdjust=\"spacingAndGlyphs\" textLength=\"8\" x=\"782.9785\" y=\"117.9396\">1</text></a><!--MD5=[14ccda38c055a5c0da953d572bc50960]\n",
       "link E7 to E3--><a href=\"psysml:d97708ca-1830-4e5e-bf07-a2aabe0546e8\" target=\"_top\" title=\"psysml:d97708ca-1830-4e5e-bf07-a2aabe0546e8\" xlink:actuate=\"onRequest\" xlink:href=\"psysml:d97708ca-1830-4e5e-bf07-a2aabe0546e8\" xlink:show=\"new\" xlink:title=\"psysml:d97708ca-1830-4e5e-bf07-a2aabe0546e8\" xlink:type=\"simple\"><path d=\"M798.63,79.5 C776.91,63.62 740.85,42 705.5,42 C411,42 411,42 411,42 C371.89,42 340.27,75.96 320.44,104.88 \" fill=\"none\" id=\"E7-&gt;E3\" style=\"stroke: #383838; stroke-width: 1.0;\"/><polygon fill=\"#FFFFFF\" points=\"309.65,121.88,313.919,102.0867,325.7401,109.5874,309.65,121.88\" style=\"stroke: #383838; stroke-width: 1.0;\"/><ellipse cx=\"318.6616\" cy=\"98.3453\" fill=\"#383838\" rx=\"2\" ry=\"2\" style=\"stroke: #383838; stroke-width: 1.0;\"/><ellipse cx=\"327.1052\" cy=\"103.703\" fill=\"#383838\" rx=\"2\" ry=\"2\" style=\"stroke: #383838; stroke-width: 1.0;\"/></a><!--MD5=[dfaffb906826c3e5aca635516100ff21]\n",
       "link E5 to E8--><a href=\"psysml:75f754af-bdfa-473b-8cbb-d11c609ad500\" target=\"_top\" title=\"psysml:75f754af-bdfa-473b-8cbb-d11c609ad500\" xlink:actuate=\"onRequest\" xlink:href=\"psysml:75f754af-bdfa-473b-8cbb-d11c609ad500\" xlink:show=\"new\" xlink:title=\"psysml:75f754af-bdfa-473b-8cbb-d11c609ad500\" xlink:type=\"simple\"><path d=\"M433.26,104.53 C454.16,108.17 487.6,113.99 515.94,118.93 \" fill=\"none\" id=\"E5-&gt;E8\" style=\"stroke: #383838; stroke-width: 1.0;\"/><polygon fill=\"#FFFFFF\" points=\"535.87,122.4,515.9516,126.041,518.3504,112.248,535.87,122.4\" style=\"stroke: #383838; stroke-width: 1.0;\"/><ellipse cx=\"510.6786\" cy=\"123.0939\" fill=\"#383838\" rx=\"2\" ry=\"2\" style=\"stroke: #383838; stroke-width: 1.0;\"/><ellipse cx=\"512.392\" cy=\"113.2418\" fill=\"#383838\" rx=\"2\" ry=\"2\" style=\"stroke: #383838; stroke-width: 1.0;\"/></a><!--MD5=[03c8294790d3c57651a1993cecff665f]\n",
       "reverse link E8 to E3--><a href=\"psysml:aa35edca-3910-4cd9-97ff-300d5c8627fc\" target=\"_top\" title=\"psysml:aa35edca-3910-4cd9-97ff-300d5c8627fc\" xlink:actuate=\"onRequest\" xlink:href=\"psysml:aa35edca-3910-4cd9-97ff-300d5c8627fc\" xlink:show=\"new\" xlink:title=\"psysml:aa35edca-3910-4cd9-97ff-300d5c8627fc\" xlink:type=\"simple\"><path d=\"M522.99,140.59 C496.93,147.23 463.38,154.66 433,158 C414.44,160.04 409.62,159.29 391,158 C370.73,156.6 348.16,153.5 330.27,150.69 \" fill=\"none\" id=\"E8&lt;-E3\" style=\"stroke: #383838; stroke-width: 1.0;\"/><polygon fill=\"#FFFFFF\" points=\"535.87,137.22,529.051,134.8745,524.2632,140.2668,531.0822,142.6123,535.87,137.22\" style=\"stroke: #383838; stroke-width: 1.0;\"/><text fill=\"#000000\" font-family=\"sans-serif\" font-size=\"13\" lengthAdjust=\"spacingAndGlyphs\" textLength=\"7\" x=\"408.5\" y=\"154.0669\">y</text></a><!--MD5=[0d75d2178373a6a4568e5dc728f58aef]\n",
       "reverse link E8 to E6--><a href=\"psysml:aa35edca-3910-4cd9-97ff-300d5c8627fc\" target=\"_top\" title=\"psysml:aa35edca-3910-4cd9-97ff-300d5c8627fc\" xlink:actuate=\"onRequest\" xlink:href=\"psysml:aa35edca-3910-4cd9-97ff-300d5c8627fc\" xlink:show=\"new\" xlink:title=\"psysml:aa35edca-3910-4cd9-97ff-300d5c8627fc\" xlink:type=\"simple\"><path d=\"M615.57,128 C633.62,128 653.98,128 670.55,128 \" fill=\"none\" id=\"E8&lt;-E6\" style=\"stroke: #383838; stroke-width: 1.0;\"/><polygon fill=\"#FFFFFF\" points=\"602.32,128,608.32,132,614.32,128,608.32,124,602.32,128\" style=\"stroke: #383838; stroke-width: 1.0;\"/><text fill=\"#000000\" font-family=\"sans-serif\" font-size=\"13\" lengthAdjust=\"spacingAndGlyphs\" textLength=\"7\" x=\"633\" y=\"124.0669\">y</text></a><!--MD5=[23ac544a70576c3e717098101004234c]\n",
       "reverse link E9 to E10--><a href=\"psysml:cf1da376-637e-4400-b815-716d62b1c417\" target=\"_top\" title=\"psysml:cf1da376-637e-4400-b815-716d62b1c417\" xlink:actuate=\"onRequest\" xlink:href=\"psysml:cf1da376-637e-4400-b815-716d62b1c417\" xlink:show=\"new\" xlink:title=\"psysml:cf1da376-637e-4400-b815-716d62b1c417\" xlink:type=\"simple\"><path d=\"M110.53,201.69 C127.13,207.54 145.19,213.91 158.67,218.66 \" fill=\"none\" id=\"E9&lt;-E10\" style=\"stroke: #383838; stroke-width: 1.0;\"/><polygon fill=\"#FFFFFF\" points=\"98.22,197.36,102.5516,203.1252,109.5393,201.3442,105.2077,195.579,98.22,197.36\" style=\"stroke: #383838; stroke-width: 1.0;\"/><text fill=\"#000000\" font-family=\"sans-serif\" font-size=\"13\" lengthAdjust=\"spacingAndGlyphs\" textLength=\"8\" x=\"143.0824\" y=\"230.8026\">1</text></a><!--MD5=[feeac5eb423634930294aa81f2d25a4c]\n",
       "link E10 to E3--><a href=\"psysml:4cf35cfc-841e-4847-875d-1ebad6bb61b9\" target=\"_top\" title=\"psysml:4cf35cfc-841e-4847-875d-1ebad6bb61b9\" xlink:actuate=\"onRequest\" xlink:href=\"psysml:4cf35cfc-841e-4847-875d-1ebad6bb61b9\" xlink:show=\"new\" xlink:title=\"psysml:4cf35cfc-841e-4847-875d-1ebad6bb61b9\" xlink:type=\"simple\"><path d=\"M202.14,211.33 C214.58,202.49 230.99,190.84 246.57,179.76 \" fill=\"none\" id=\"E10-&gt;E3\" style=\"stroke: #383838; stroke-width: 1.0;\"/><polygon fill=\"#FFFFFF\" points=\"262.93,168.14,251.4988,184.8531,243.388,173.442,262.93,168.14\" style=\"stroke: #383838; stroke-width: 1.0;\"/><ellipse cx=\"245.6942\" cy=\"186.5252\" fill=\"#383838\" rx=\"2\" ry=\"2\" style=\"stroke: #383838; stroke-width: 1.0;\"/><ellipse cx=\"239.9007\" cy=\"178.3744\" fill=\"#383838\" rx=\"2\" ry=\"2\" style=\"stroke: #383838; stroke-width: 1.0;\"/></a><!--MD5=[1fc04a95fd77ad5ce46c1a3027516051]\n",
       "reverse link E9 to E11--><a href=\"psysml:bd05daaf-8002-489d-bbfa-6134af678ace\" target=\"_top\" title=\"psysml:bd05daaf-8002-489d-bbfa-6134af678ace\" xlink:actuate=\"onRequest\" xlink:href=\"psysml:bd05daaf-8002-489d-bbfa-6134af678ace\" xlink:show=\"new\" xlink:title=\"psysml:bd05daaf-8002-489d-bbfa-6134af678ace\" xlink:type=\"simple\"><path d=\"M110.53,169.91 C127.13,163.92 145.19,157.39 158.67,152.53 \" fill=\"none\" id=\"E9&lt;-E11\" style=\"stroke: #383838; stroke-width: 1.0;\"/><polygon fill=\"#FFFFFF\" points=\"98.22,174.36,105.2217,176.0852,109.5071,170.2856,102.5054,168.5604,98.22,174.36\" style=\"stroke: #383838; stroke-width: 1.0;\"/><text fill=\"#000000\" font-family=\"sans-serif\" font-size=\"13\" lengthAdjust=\"spacingAndGlyphs\" textLength=\"8\" x=\"143.0824\" y=\"169.0406\">1</text></a><!--MD5=[0517f1ce58c4d5483948f93845c45e26]\n",
       "link E11 to E3--><a href=\"psysml:31e39f64-1f8d-4b2c-be98-c1459e5d6e94\" target=\"_top\" title=\"psysml:31e39f64-1f8d-4b2c-be98-c1459e5d6e94\" xlink:actuate=\"onRequest\" xlink:href=\"psysml:31e39f64-1f8d-4b2c-be98-c1459e5d6e94\" xlink:show=\"new\" xlink:title=\"psysml:31e39f64-1f8d-4b2c-be98-c1459e5d6e94\" xlink:type=\"simple\"><path d=\"M202.14,145 C213.59,145 228.4,145 242.83,145 \" fill=\"none\" id=\"E11-&gt;E3\" style=\"stroke: #383838; stroke-width: 1.0;\"/><polygon fill=\"#FFFFFF\" points=\"262.93,145,243.93,152,243.93,138,262.93,145\" style=\"stroke: #383838; stroke-width: 1.0;\"/><ellipse cx=\"238.23\" cy=\"150\" fill=\"#383838\" rx=\"2\" ry=\"2\" style=\"stroke: #383838; stroke-width: 1.0;\"/><ellipse cx=\"238.23\" cy=\"140\" fill=\"#383838\" rx=\"2\" ry=\"2\" style=\"stroke: #383838; stroke-width: 1.0;\"/></a><!--MD5=[00cdfd08dfb04c803ac27b25604ef8f0]\n",
       "@startuml\r\n",
       "left to right direction\r\n",
       "skinparam monochrome true\r\n",
       "skinparam classbackgroundcolor white\r\n",
       "skinparam shadowing false\r\n",
       "skinparam wrapWidth 300\r\n",
       "hide circle\r\n",
       "\r\n",
       "package \"ItemTest\" as E1  [[psysml:1bc06463-7392-4b34-87d6-1f1d6784670a ]]  {\r\n",
       "comp usage \"f: A\" as E2  <<(T,blue) item>> [[psysml:10e5f196-141c-4ebb-934a-0a8c25223d15 ]] {\r\n",
       "}\r\n",
       "comp def \"A\" as E3  <<(T,blue) item def>> [[psysml:d8185bfd-cc57-4585-aec6-0a59765b9e32 ]] {\r\n",
       "}\r\n",
       "comp usage \"b: B\" as E4  <<(T,blue) item>> [[psysml:867e3ff9-f74d-45bb-974d-3b3d8373197d ]] {\r\n",
       "}\r\n",
       "comp usage \"c: C\" as E5  <<(T,blue) part>> [[psysml:cb0d56cf-7b64-416e-8353-0e76041e55a4 ]] {\r\n",
       "}\r\n",
       "comp def \"B\" as E6  <<(T,blue) item def>> [[psysml:cb468909-38eb-4328-9448-1d282e0fd6a5 ]] {\r\n",
       "}\r\n",
       "comp usage \"a: A\" as E7  <<(T,blue) part>> [[psysml:8d68ea76-8496-4a3a-9bac-3b5e10d4f6d7 ]] {\r\n",
       "}\r\n",
       "comp def \"C\" as E8  <<(T,blue) part def>> [[psysml:3d841289-74ad-422d-b7f3-bdfc719d6361 ]] {\r\n",
       "}\r\n",
       "comp def \"P\" as E9  <<(T,blue) port def>> [[psysml:192666b5-43c5-4ec0-a40a-8ab471017ca3 ]] {\r\n",
       "}\r\n",
       "comp usage \"a1: A\" as E10  <<(T,blue) item>> [[psysml:a2436968-c74d-4c9f-bf2a-127bcc502b4e ]] {\r\n",
       "}\r\n",
       "comp usage \"a2: A\" as E11  <<(T,blue) item>> [[psysml:6388cc28-f9be-476c-ad05-d9ff93971fbb ]] {\r\n",
       "}\r\n",
       "}\r\n",
       "E2 - -:|> E3 [[psysml:24dbd283-1078-40f8-9dda-86d7de7bac74 ]] \r\n",
       "E3 *- - \"1\"E4 [[psysml:9f51e7d9-1020-406a-8433-de0298038040 ]] \r\n",
       "E3 o- - \"1\"E5 [[psysml:7a936c29-0528-4da5-855d-3be7e5f4e113 ]] \r\n",
       "E4 - -:|> E6 [[psysml:860f4e4a-475c-4d3a-a05e-585111d40739 ]] \r\n",
       "E6 *- - \"1\"E7 [[psysml:01396c82-09da-45aa-ba0c-a7dad5741ff2 ]] \r\n",
       "E7 - -:|> E3 [[psysml:d97708ca-1830-4e5e-bf07-a2aabe0546e8 ]] \r\n",
       "E5 - -:|> E8 [[psysml:75f754af-bdfa-473b-8cbb-d11c609ad500 ]] \r\n",
       "E8 o- - E3 [[psysml:aa35edca-3910-4cd9-97ff-300d5c8627fc ]] : y\r\n",
       "E8 o- - E6 [[psysml:aa35edca-3910-4cd9-97ff-300d5c8627fc ]] : y\r\n",
       "E9 o- - \"1\"E10 [[psysml:cf1da376-637e-4400-b815-716d62b1c417 ]] \r\n",
       "E10 - -:|> E3 [[psysml:4cf35cfc-841e-4847-875d-1ebad6bb61b9 ]] \r\n",
       "E9 o- - \"1\"E11 [[psysml:bd05daaf-8002-489d-bbfa-6134af678ace ]] \r\n",
       "E11 - -:|> E3 [[psysml:31e39f64-1f8d-4b2c-be98-c1459e5d6e94 ]] \r\n",
       "@enduml\r\n",
       "\n",
       "PlantUML version 1.2020.13(Sat Jun 13 12:26:38 UTC 2020)\n",
       "(EPL source distribution)\n",
       "Java Runtime: OpenJDK Runtime Environment\n",
       "JVM: OpenJDK 64-Bit Server VM\n",
       "Default Encoding: UTF-8\n",
       "Language: en\n",
       "Country: null\n",
       "--></g></svg>"
      ]
     },
     "execution_count": 22,
     "metadata": {},
     "output_type": "execute_result"
    }
   ],
   "source": [
    "%viz --style=\"LR\" --view=\"MIXED\" \"ItemTest\""
   ]
  },
  {
   "cell_type": "code",
   "execution_count": 23,
   "id": "7c0ae7e5",
   "metadata": {
    "execution": {
     "iopub.execute_input": "2021-10-03T08:27:27.969176Z",
     "iopub.status.busy": "2021-10-03T08:27:27.968771Z",
     "iopub.status.idle": "2021-10-03T08:27:28.000954Z",
     "shell.execute_reply": "2021-10-03T08:27:27.999096Z"
    }
   },
   "outputs": [
    {
     "data": {
      "image/svg+xml": [
       "<?xml version=\"1.0\" encoding=\"UTF-8\" standalone=\"no\"?><svg xmlns=\"http://www.w3.org/2000/svg\" xmlns:xlink=\"http://www.w3.org/1999/xlink\" contentScriptType=\"application/ecmascript\" contentStyleType=\"text/css\" height=\"818px\" preserveAspectRatio=\"none\" style=\"width:270px;height:818px;\" version=\"1.1\" viewBox=\"0 0 270 818\" width=\"270px\" zoomAndPan=\"magnify\"><defs><filter height=\"300%\" id=\"f1s6q7ypvu3uj7\" width=\"300%\" x=\"-1\" y=\"-1\"><feGaussianBlur result=\"blurOut\" stdDeviation=\"2.0\"/><feColorMatrix in=\"blurOut\" result=\"blurOut2\" type=\"matrix\" values=\"0 0 0 0 0 0 0 0 0 0 0 0 0 0 0 0 0 0 .4 0\"/><feOffset dx=\"4.0\" dy=\"4.0\" in=\"blurOut2\" result=\"blurOut3\"/><feBlend in=\"SourceGraphic\" in2=\"blurOut3\" mode=\"normal\"/></filter></defs><g><!--MD5=[fbc87193dbaf4d95561dea2c320d4a47]\n",
       "cluster E1--><a href=\"psysml:1bc06463-7392-4b34-87d6-1f1d6784670a\" target=\"_top\" title=\"psysml:1bc06463-7392-4b34-87d6-1f1d6784670a\" xlink:actuate=\"onRequest\" xlink:href=\"psysml:1bc06463-7392-4b34-87d6-1f1d6784670a\" xlink:show=\"new\" xlink:title=\"psysml:1bc06463-7392-4b34-87d6-1f1d6784670a\" xlink:type=\"simple\"><polygon fill=\"#FFFFFF\" filter=\"url(#f1s6q7ypvu3uj7)\" points=\"16,6,83,6,90,28.2969,248,28.2969,248,806,16,806,16,6\" style=\"stroke: #000000; stroke-width: 1.5;\"/><line style=\"stroke: #000000; stroke-width: 1.5;\" x1=\"16\" x2=\"90\" y1=\"28.2969\" y2=\"28.2969\"/><text fill=\"#000000\" font-family=\"sans-serif\" font-size=\"14\" font-weight=\"bold\" lengthAdjust=\"spacingAndGlyphs\" textLength=\"61\" x=\"20\" y=\"20.9951\">ItemTest</text></a><!--MD5=[b4997ac47864f28c2f74865a473b2911]\n",
       "class E2--><a href=\"psysml:10e5f196-141c-4ebb-934a-0a8c25223d15\" target=\"_top\" title=\"psysml:10e5f196-141c-4ebb-934a-0a8c25223d15\" xlink:actuate=\"onRequest\" xlink:href=\"psysml:10e5f196-141c-4ebb-934a-0a8c25223d15\" xlink:show=\"new\" xlink:title=\"psysml:10e5f196-141c-4ebb-934a-0a8c25223d15\" xlink:type=\"simple\"><rect fill=\"#FEFECE\" filter=\"url(#f1s6q7ypvu3uj7)\" height=\"45.9375\" id=\"E2\" rx=\"10\" ry=\"10\" style=\"stroke: #A80036; stroke-width: 1.5;\" width=\"43\" x=\"188.5\" y=\"148\"/><text fill=\"#000000\" font-family=\"sans-serif\" font-size=\"12\" font-style=\"italic\" lengthAdjust=\"spacingAndGlyphs\" textLength=\"41\" x=\"189.5\" y=\"164.1387\">«item»</text><text fill=\"#000000\" font-family=\"sans-serif\" font-size=\"12\" lengthAdjust=\"spacingAndGlyphs\" textLength=\"20\" x=\"200\" y=\"178.1074\">f: A</text><line style=\"stroke: #A80036; stroke-width: 1.5;\" x1=\"189.5\" x2=\"230.5\" y1=\"185.9375\" y2=\"185.9375\"/></a><!--MD5=[09b614a08d8cba4a07c9adeb5e0fee81]\n",
       "class E3--><a href=\"psysml:d8185bfd-cc57-4585-aec6-0a59765b9e32\" target=\"_top\" title=\"psysml:d8185bfd-cc57-4585-aec6-0a59765b9e32\" xlink:actuate=\"onRequest\" xlink:href=\"psysml:d8185bfd-cc57-4585-aec6-0a59765b9e32\" xlink:show=\"new\" xlink:title=\"psysml:d8185bfd-cc57-4585-aec6-0a59765b9e32\" xlink:type=\"simple\"><rect fill=\"#FEFECE\" filter=\"url(#f1s6q7ypvu3uj7)\" height=\"45.9375\" id=\"E3\" style=\"stroke: #A80036; stroke-width: 1.5;\" width=\"67\" x=\"98.5\" y=\"255\"/><text fill=\"#000000\" font-family=\"sans-serif\" font-size=\"12\" font-style=\"italic\" lengthAdjust=\"spacingAndGlyphs\" textLength=\"65\" x=\"99.5\" y=\"271.1387\">«item def»</text><text fill=\"#000000\" font-family=\"sans-serif\" font-size=\"12\" lengthAdjust=\"spacingAndGlyphs\" textLength=\"8\" x=\"128\" y=\"285.1074\">A</text><line style=\"stroke: #A80036; stroke-width: 1.5;\" x1=\"99.5\" x2=\"164.5\" y1=\"292.9375\" y2=\"292.9375\"/></a><!--MD5=[ebbe1d658d1005bcc118a6aa81145e00]\n",
       "class E4--><a href=\"psysml:867e3ff9-f74d-45bb-974d-3b3d8373197d\" target=\"_top\" title=\"psysml:867e3ff9-f74d-45bb-974d-3b3d8373197d\" xlink:actuate=\"onRequest\" xlink:href=\"psysml:867e3ff9-f74d-45bb-974d-3b3d8373197d\" xlink:show=\"new\" xlink:title=\"psysml:867e3ff9-f74d-45bb-974d-3b3d8373197d\" xlink:type=\"simple\"><rect fill=\"#FEFECE\" filter=\"url(#f1s6q7ypvu3uj7)\" height=\"45.9375\" id=\"E4\" rx=\"10\" ry=\"10\" style=\"stroke: #A80036; stroke-width: 1.5;\" width=\"43\" x=\"45.5\" y=\"438\"/><text fill=\"#000000\" font-family=\"sans-serif\" font-size=\"12\" font-style=\"italic\" lengthAdjust=\"spacingAndGlyphs\" textLength=\"41\" x=\"46.5\" y=\"454.1387\">«item»</text><text fill=\"#000000\" font-family=\"sans-serif\" font-size=\"12\" lengthAdjust=\"spacingAndGlyphs\" textLength=\"24\" x=\"55\" y=\"468.1074\">b: B</text><line style=\"stroke: #A80036; stroke-width: 1.5;\" x1=\"46.5\" x2=\"87.5\" y1=\"475.9375\" y2=\"475.9375\"/></a><!--MD5=[270fce915f116d4de14055a7c1d9a0f3]\n",
       "class E5--><a href=\"psysml:cb0d56cf-7b64-416e-8353-0e76041e55a4\" target=\"_top\" title=\"psysml:cb0d56cf-7b64-416e-8353-0e76041e55a4\" xlink:actuate=\"onRequest\" xlink:href=\"psysml:cb0d56cf-7b64-416e-8353-0e76041e55a4\" xlink:show=\"new\" xlink:title=\"psysml:cb0d56cf-7b64-416e-8353-0e76041e55a4\" xlink:type=\"simple\"><rect fill=\"#FEFECE\" filter=\"url(#f1s6q7ypvu3uj7)\" height=\"45.9375\" id=\"E5\" rx=\"10\" ry=\"10\" style=\"stroke: #A80036; stroke-width: 1.5;\" width=\"42\" x=\"151\" y=\"362\"/><text fill=\"#000000\" font-family=\"sans-serif\" font-size=\"12\" font-style=\"italic\" lengthAdjust=\"spacingAndGlyphs\" textLength=\"40\" x=\"152\" y=\"378.1387\">«part»</text><text fill=\"#000000\" font-family=\"sans-serif\" font-size=\"12\" lengthAdjust=\"spacingAndGlyphs\" textLength=\"23\" x=\"160.5\" y=\"392.1074\">c: C</text><line style=\"stroke: #A80036; stroke-width: 1.5;\" x1=\"152\" x2=\"192\" y1=\"399.9375\" y2=\"399.9375\"/></a><!--MD5=[60a26617385b1d2d0262a64233df1f8d]\n",
       "class E6--><a href=\"psysml:cb468909-38eb-4328-9448-1d282e0fd6a5\" target=\"_top\" title=\"psysml:cb468909-38eb-4328-9448-1d282e0fd6a5\" xlink:actuate=\"onRequest\" xlink:href=\"psysml:cb468909-38eb-4328-9448-1d282e0fd6a5\" xlink:show=\"new\" xlink:title=\"psysml:cb468909-38eb-4328-9448-1d282e0fd6a5\" xlink:type=\"simple\"><rect fill=\"#FEFECE\" filter=\"url(#f1s6q7ypvu3uj7)\" height=\"45.9375\" id=\"E6\" style=\"stroke: #A80036; stroke-width: 1.5;\" width=\"67\" x=\"114.5\" y=\"637\"/><text fill=\"#000000\" font-family=\"sans-serif\" font-size=\"12\" font-style=\"italic\" lengthAdjust=\"spacingAndGlyphs\" textLength=\"65\" x=\"115.5\" y=\"653.1387\">«item def»</text><text fill=\"#000000\" font-family=\"sans-serif\" font-size=\"12\" lengthAdjust=\"spacingAndGlyphs\" textLength=\"8\" x=\"144\" y=\"667.1074\">B</text><line style=\"stroke: #A80036; stroke-width: 1.5;\" x1=\"115.5\" x2=\"180.5\" y1=\"674.9375\" y2=\"674.9375\"/></a><!--MD5=[2156ba9850f5573cc1fc38a6a4b2f02b]\n",
       "class E7--><a href=\"psysml:8d68ea76-8496-4a3a-9bac-3b5e10d4f6d7\" target=\"_top\" title=\"psysml:8d68ea76-8496-4a3a-9bac-3b5e10d4f6d7\" xlink:actuate=\"onRequest\" xlink:href=\"psysml:8d68ea76-8496-4a3a-9bac-3b5e10d4f6d7\" xlink:show=\"new\" xlink:title=\"psysml:8d68ea76-8496-4a3a-9bac-3b5e10d4f6d7\" xlink:type=\"simple\"><rect fill=\"#FEFECE\" filter=\"url(#f1s6q7ypvu3uj7)\" height=\"45.9375\" id=\"E7\" rx=\"10\" ry=\"10\" style=\"stroke: #A80036; stroke-width: 1.5;\" width=\"42\" x=\"159\" y=\"744\"/><text fill=\"#000000\" font-family=\"sans-serif\" font-size=\"12\" font-style=\"italic\" lengthAdjust=\"spacingAndGlyphs\" textLength=\"40\" x=\"160\" y=\"760.1387\">«part»</text><text fill=\"#000000\" font-family=\"sans-serif\" font-size=\"12\" lengthAdjust=\"spacingAndGlyphs\" textLength=\"24\" x=\"168\" y=\"774.1074\">a: A</text><line style=\"stroke: #A80036; stroke-width: 1.5;\" x1=\"160\" x2=\"200\" y1=\"781.9375\" y2=\"781.9375\"/></a><!--MD5=[b9389687b975829384b498ac4b7476b2]\n",
       "class E8--><a href=\"psysml:3d841289-74ad-422d-b7f3-bdfc719d6361\" target=\"_top\" title=\"psysml:3d841289-74ad-422d-b7f3-bdfc719d6361\" xlink:actuate=\"onRequest\" xlink:href=\"psysml:3d841289-74ad-422d-b7f3-bdfc719d6361\" xlink:show=\"new\" xlink:title=\"psysml:3d841289-74ad-422d-b7f3-bdfc719d6361\" xlink:type=\"simple\"><rect fill=\"#FEFECE\" filter=\"url(#f1s6q7ypvu3uj7)\" height=\"45.9375\" id=\"E8\" style=\"stroke: #A80036; stroke-width: 1.5;\" width=\"66\" x=\"115\" y=\"514\"/><text fill=\"#000000\" font-family=\"sans-serif\" font-size=\"12\" font-style=\"italic\" lengthAdjust=\"spacingAndGlyphs\" textLength=\"64\" x=\"116\" y=\"530.1387\">«part def»</text><text fill=\"#000000\" font-family=\"sans-serif\" font-size=\"12\" lengthAdjust=\"spacingAndGlyphs\" textLength=\"8\" x=\"144\" y=\"544.1074\">C</text><line style=\"stroke: #A80036; stroke-width: 1.5;\" x1=\"116\" x2=\"180\" y1=\"551.9375\" y2=\"551.9375\"/></a><!--MD5=[fd4143e9d270a159db93a4ea2a975926]\n",
       "class E9--><a href=\"psysml:192666b5-43c5-4ec0-a40a-8ab471017ca3\" target=\"_top\" title=\"psysml:192666b5-43c5-4ec0-a40a-8ab471017ca3\" xlink:actuate=\"onRequest\" xlink:href=\"psysml:192666b5-43c5-4ec0-a40a-8ab471017ca3\" xlink:show=\"new\" xlink:title=\"psysml:192666b5-43c5-4ec0-a40a-8ab471017ca3\" xlink:type=\"simple\"><rect fill=\"#FEFECE\" filter=\"url(#f1s6q7ypvu3uj7)\" height=\"45.9375\" id=\"E9\" style=\"stroke: #A80036; stroke-width: 1.5;\" width=\"66\" x=\"65\" y=\"41\"/><text fill=\"#000000\" font-family=\"sans-serif\" font-size=\"12\" font-style=\"italic\" lengthAdjust=\"spacingAndGlyphs\" textLength=\"64\" x=\"66\" y=\"57.1387\">«port def»</text><text fill=\"#000000\" font-family=\"sans-serif\" font-size=\"12\" lengthAdjust=\"spacingAndGlyphs\" textLength=\"8\" x=\"94\" y=\"71.1074\">P</text><line style=\"stroke: #A80036; stroke-width: 1.5;\" x1=\"66\" x2=\"130\" y1=\"78.9375\" y2=\"78.9375\"/></a><!--MD5=[96f4274e9e20536e775497830990834d]\n",
       "class E10--><a href=\"psysml:a2436968-c74d-4c9f-bf2a-127bcc502b4e\" target=\"_top\" title=\"psysml:a2436968-c74d-4c9f-bf2a-127bcc502b4e\" xlink:actuate=\"onRequest\" xlink:href=\"psysml:a2436968-c74d-4c9f-bf2a-127bcc502b4e\" xlink:show=\"new\" xlink:title=\"psysml:a2436968-c74d-4c9f-bf2a-127bcc502b4e\" xlink:type=\"simple\"><rect fill=\"#FEFECE\" filter=\"url(#f1s6q7ypvu3uj7)\" height=\"45.9375\" id=\"E10\" rx=\"10\" ry=\"10\" style=\"stroke: #A80036; stroke-width: 1.5;\" width=\"43\" x=\"32.5\" y=\"148\"/><text fill=\"#000000\" font-family=\"sans-serif\" font-size=\"12\" font-style=\"italic\" lengthAdjust=\"spacingAndGlyphs\" textLength=\"41\" x=\"33.5\" y=\"164.1387\">«item»</text><text fill=\"#000000\" font-family=\"sans-serif\" font-size=\"12\" lengthAdjust=\"spacingAndGlyphs\" textLength=\"32\" x=\"38\" y=\"178.1074\">a1: A</text><line style=\"stroke: #A80036; stroke-width: 1.5;\" x1=\"33.5\" x2=\"74.5\" y1=\"185.9375\" y2=\"185.9375\"/></a><!--MD5=[1dd1bfd58a279cf63c5f349dbc8fc6a1]\n",
       "class E11--><a href=\"psysml:6388cc28-f9be-476c-ad05-d9ff93971fbb\" target=\"_top\" title=\"psysml:6388cc28-f9be-476c-ad05-d9ff93971fbb\" xlink:actuate=\"onRequest\" xlink:href=\"psysml:6388cc28-f9be-476c-ad05-d9ff93971fbb\" xlink:show=\"new\" xlink:title=\"psysml:6388cc28-f9be-476c-ad05-d9ff93971fbb\" xlink:type=\"simple\"><rect fill=\"#FEFECE\" filter=\"url(#f1s6q7ypvu3uj7)\" height=\"45.9375\" id=\"E11\" rx=\"10\" ry=\"10\" style=\"stroke: #A80036; stroke-width: 1.5;\" width=\"43\" x=\"110.5\" y=\"148\"/><text fill=\"#000000\" font-family=\"sans-serif\" font-size=\"12\" font-style=\"italic\" lengthAdjust=\"spacingAndGlyphs\" textLength=\"41\" x=\"111.5\" y=\"164.1387\">«item»</text><text fill=\"#000000\" font-family=\"sans-serif\" font-size=\"12\" lengthAdjust=\"spacingAndGlyphs\" textLength=\"32\" x=\"116\" y=\"178.1074\">a2: A</text><line style=\"stroke: #A80036; stroke-width: 1.5;\" x1=\"111.5\" x2=\"152.5\" y1=\"185.9375\" y2=\"185.9375\"/></a><!--MD5=[2720a5a1f2c3fca2055b230370638851]\n",
       "link E2 to E3--><a href=\"psysml:24dbd283-1078-40f8-9dda-86d7de7bac74\" target=\"_top\" title=\"psysml:24dbd283-1078-40f8-9dda-86d7de7bac74\" xlink:actuate=\"onRequest\" xlink:href=\"psysml:24dbd283-1078-40f8-9dda-86d7de7bac74\" xlink:show=\"new\" xlink:title=\"psysml:24dbd283-1078-40f8-9dda-86d7de7bac74\" xlink:type=\"simple\"><path d=\"M193.65,194.01 C184.14,206.81 171.89,223.3 160.82,238.2 \" fill=\"none\" id=\"E2-&gt;E3\" style=\"stroke: #A80036; stroke-width: 1.0;\"/><polygon fill=\"#FFFFFF\" points=\"148.6,254.66,154.3195,235.2361,165.5543,243.5896,148.6,254.66\" style=\"stroke: #A80036; stroke-width: 1.0;\"/><ellipse cx=\"159.3256\" cy=\"231.8554\" fill=\"#A80036\" rx=\"2\" ry=\"2\" style=\"stroke: #A80036; stroke-width: 1.0;\"/><ellipse cx=\"167.3504\" cy=\"237.8221\" fill=\"#A80036\" rx=\"2\" ry=\"2\" style=\"stroke: #A80036; stroke-width: 1.0;\"/></a><!--MD5=[4672eba38e49728da53d11aeb285b987]\n",
       "reverse link E3 to E4--><a href=\"psysml:9f51e7d9-1020-406a-8433-de0298038040\" target=\"_top\" title=\"psysml:9f51e7d9-1020-406a-8433-de0298038040\" xlink:actuate=\"onRequest\" xlink:href=\"psysml:9f51e7d9-1020-406a-8433-de0298038040\" xlink:show=\"new\" xlink:title=\"psysml:9f51e7d9-1020-406a-8433-de0298038040\" xlink:type=\"simple\"><path d=\"M97.11,310.9 C84.08,325.11 70.81,342.94 64,362 C55.12,386.85 58.09,417.53 61.82,437.88 \" fill=\"none\" id=\"E3&lt;-E4\" style=\"stroke: #A80036; stroke-width: 1.0;\"/><polygon fill=\"#A80036\" points=\"106.46,301.23,99.4153,302.7703,98.1277,309.8655,105.1724,308.3252,106.46,301.23\" style=\"stroke: #A80036; stroke-width: 1.0;\"/><text fill=\"#000000\" font-family=\"sans-serif\" font-size=\"13\" lengthAdjust=\"spacingAndGlyphs\" textLength=\"8\" x=\"51.3529\" y=\"426.744\">1</text></a><!--MD5=[191cde3d490a3f6d7bb551fe3ddca469]\n",
       "reverse link E3 to E5--><a href=\"psysml:7a936c29-0528-4da5-855d-3be7e5f4e113\" target=\"_top\" title=\"psysml:7a936c29-0528-4da5-855d-3be7e5f4e113\" xlink:actuate=\"onRequest\" xlink:href=\"psysml:7a936c29-0528-4da5-855d-3be7e5f4e113\" xlink:show=\"new\" xlink:title=\"psysml:7a936c29-0528-4da5-855d-3be7e5f4e113\" xlink:type=\"simple\"><path d=\"M145.17,313.57 C151.2,329.39 158.16,347.68 163.49,361.66 \" fill=\"none\" id=\"E3&lt;-E5\" style=\"stroke: #A80036; stroke-width: 1.0;\"/><polygon fill=\"#FFFFFF\" points=\"140.39,301.01,138.7866,308.0406,144.6598,312.2247,146.2631,305.1941,140.39,301.01\" style=\"stroke: #A80036; stroke-width: 1.0;\"/><text fill=\"#000000\" font-family=\"sans-serif\" font-size=\"13\" lengthAdjust=\"spacingAndGlyphs\" textLength=\"8\" x=\"152.2843\" y=\"350.8492\">1</text></a><!--MD5=[79568f1e445c3877b6a54524624ccc7d]\n",
       "link E4 to E6--><a href=\"psysml:860f4e4a-475c-4d3a-a05e-585111d40739\" target=\"_top\" title=\"psysml:860f4e4a-475c-4d3a-a05e-585111d40739\" xlink:actuate=\"onRequest\" xlink:href=\"psysml:860f4e4a-475c-4d3a-a05e-585111d40739\" xlink:show=\"new\" xlink:title=\"psysml:860f4e4a-475c-4d3a-a05e-585111d40739\" xlink:type=\"simple\"><path d=\"M72.9,484.16 C78.52,504.26 87.63,534.55 98,560 C106.11,579.9 116.66,601.27 125.97,619.04 \" fill=\"none\" id=\"E4-&gt;E6\" style=\"stroke: #A80036; stroke-width: 1.0;\"/><polygon fill=\"#FFFFFF\" points=\"135.42,636.68,120.2696,623.2463,132.6064,616.628,135.42,636.68\" style=\"stroke: #A80036; stroke-width: 1.0;\"/><ellipse cx=\"119.3374\" cy=\"617.2779\" fill=\"#A80036\" rx=\"2\" ry=\"2\" style=\"stroke: #A80036; stroke-width: 1.0;\"/><ellipse cx=\"128.1494\" cy=\"612.5506\" fill=\"#A80036\" rx=\"2\" ry=\"2\" style=\"stroke: #A80036; stroke-width: 1.0;\"/></a><!--MD5=[3f50a3473f1dfb74d3f76443e03635af]\n",
       "reverse link E6 to E7--><a href=\"psysml:01396c82-09da-45aa-ba0c-a7dad5741ff2\" target=\"_top\" title=\"psysml:01396c82-09da-45aa-ba0c-a7dad5741ff2\" xlink:actuate=\"onRequest\" xlink:href=\"psysml:01396c82-09da-45aa-ba0c-a7dad5741ff2\" xlink:show=\"new\" xlink:title=\"psysml:01396c82-09da-45aa-ba0c-a7dad5741ff2\" xlink:type=\"simple\"><path d=\"M158.54,695.57 C163.36,711.39 168.93,729.68 173.19,743.66 \" fill=\"none\" id=\"E6&lt;-E7\" style=\"stroke: #A80036; stroke-width: 1.0;\"/><polygon fill=\"#A80036\" points=\"154.71,683.01,152.6319,689.9152,158.2066,694.4893,160.2847,687.5841,154.71,683.01\" style=\"stroke: #A80036; stroke-width: 1.0;\"/><text fill=\"#000000\" font-family=\"sans-serif\" font-size=\"13\" lengthAdjust=\"spacingAndGlyphs\" textLength=\"8\" x=\"162.4199\" y=\"732.8492\">1</text></a><!--MD5=[14ccda38c055a5c0da953d572bc50960]\n",
       "link E7 to E3--><a href=\"psysml:d97708ca-1830-4e5e-bf07-a2aabe0546e8\" target=\"_top\" title=\"psysml:d97708ca-1830-4e5e-bf07-a2aabe0546e8\" xlink:actuate=\"onRequest\" xlink:href=\"psysml:d97708ca-1830-4e5e-bf07-a2aabe0546e8\" xlink:show=\"new\" xlink:title=\"psysml:d97708ca-1830-4e5e-bf07-a2aabe0546e8\" xlink:type=\"simple\"><path d=\"M197.41,743.63 C211.5,723.27 229,691.78 229,661 C229,384 229,384 229,384 C229,353 205.9,327.25 182.25,309.01 \" fill=\"none\" id=\"E7-&gt;E3\" style=\"stroke: #A80036; stroke-width: 1.0;\"/><polygon fill=\"#FFFFFF\" points=\"165.65,297.35,185.219,302.5513,177.1671,314.004,165.65,297.35\" style=\"stroke: #A80036; stroke-width: 1.0;\"/><ellipse cx=\"188.7317\" cy=\"307.4657\" fill=\"#A80036\" rx=\"2\" ry=\"2\" style=\"stroke: #A80036; stroke-width: 1.0;\"/><ellipse cx=\"182.9803\" cy=\"315.6462\" fill=\"#A80036\" rx=\"2\" ry=\"2\" style=\"stroke: #A80036; stroke-width: 1.0;\"/></a><!--MD5=[dfaffb906826c3e5aca635516100ff21]\n",
       "link E5 to E8--><a href=\"psysml:75f754af-bdfa-473b-8cbb-d11c609ad500\" target=\"_top\" title=\"psysml:75f754af-bdfa-473b-8cbb-d11c609ad500\" xlink:actuate=\"onRequest\" xlink:href=\"psysml:75f754af-bdfa-473b-8cbb-d11c609ad500\" xlink:show=\"new\" xlink:title=\"psysml:75f754af-bdfa-473b-8cbb-d11c609ad500\" xlink:type=\"simple\"><path d=\"M168.46,408.13 C164.86,430.62 159.2,466.01 154.74,493.87 \" fill=\"none\" id=\"E5-&gt;E8\" style=\"stroke: #A80036; stroke-width: 1.0;\"/><polygon fill=\"#FFFFFF\" points=\"151.56,513.78,147.6458,493.9135,161.4704,496.1226,151.56,513.78\" style=\"stroke: #A80036; stroke-width: 1.0;\"/><ellipse cx=\"150.5202\" cy=\"488.6005\" fill=\"#A80036\" rx=\"2\" ry=\"2\" style=\"stroke: #A80036; stroke-width: 1.0;\"/><ellipse cx=\"160.3949\" cy=\"490.1784\" fill=\"#A80036\" rx=\"2\" ry=\"2\" style=\"stroke: #A80036; stroke-width: 1.0;\"/></a><!--MD5=[03c8294790d3c57651a1993cecff665f]\n",
       "reverse link E8 to E3--><a href=\"psysml:aa35edca-3910-4cd9-97ff-300d5c8627fc\" target=\"_top\" title=\"psysml:aa35edca-3910-4cd9-97ff-300d5c8627fc\" xlink:actuate=\"onRequest\" xlink:href=\"psysml:aa35edca-3910-4cd9-97ff-300d5c8627fc\" xlink:show=\"new\" xlink:title=\"psysml:aa35edca-3910-4cd9-97ff-300d5c8627fc\" xlink:type=\"simple\"><path d=\"M140.02,501.22 C134.57,475.6 127.84,439.84 125,408 C123.18,387.64 124.14,382.43 125,362 C125.87,341.34 127.95,317.86 129.62,301.16 \" fill=\"none\" id=\"E8&lt;-E3\" style=\"stroke: #A80036; stroke-width: 1.0;\"/><polygon fill=\"#FFFFFF\" points=\"142.81,513.96,145.4388,507.2451,140.2515,502.2359,137.6227,508.9508,142.81,513.96\" style=\"stroke: #A80036; stroke-width: 1.0;\"/><text fill=\"#000000\" font-family=\"sans-serif\" font-size=\"13\" lengthAdjust=\"spacingAndGlyphs\" textLength=\"7\" x=\"126\" y=\"389.5669\">y</text></a><!--MD5=[0d75d2178373a6a4568e5dc728f58aef]\n",
       "reverse link E8 to E6--><a href=\"psysml:aa35edca-3910-4cd9-97ff-300d5c8627fc\" target=\"_top\" title=\"psysml:aa35edca-3910-4cd9-97ff-300d5c8627fc\" xlink:actuate=\"onRequest\" xlink:href=\"psysml:aa35edca-3910-4cd9-97ff-300d5c8627fc\" xlink:show=\"new\" xlink:title=\"psysml:aa35edca-3910-4cd9-97ff-300d5c8627fc\" xlink:type=\"simple\"><path d=\"M148,573.22 C148,593.81 148,619.16 148,636.95 \" fill=\"none\" id=\"E8&lt;-E6\" style=\"stroke: #A80036; stroke-width: 1.0;\"/><polygon fill=\"#FFFFFF\" points=\"148,560.19,144,566.19,148,572.19,152,566.19,148,560.19\" style=\"stroke: #A80036; stroke-width: 1.0;\"/><text fill=\"#000000\" font-family=\"sans-serif\" font-size=\"13\" lengthAdjust=\"spacingAndGlyphs\" textLength=\"7\" x=\"149\" y=\"603.0669\">y</text></a><!--MD5=[23ac544a70576c3e717098101004234c]\n",
       "reverse link E9 to E10--><a href=\"psysml:cf1da376-637e-4400-b815-716d62b1c417\" target=\"_top\" title=\"psysml:cf1da376-637e-4400-b815-716d62b1c417\" xlink:actuate=\"onRequest\" xlink:href=\"psysml:cf1da376-637e-4400-b815-716d62b1c417\" xlink:show=\"new\" xlink:title=\"psysml:cf1da376-637e-4400-b815-716d62b1c417\" xlink:type=\"simple\"><path d=\"M83.71,99.1 C77.04,115.03 69.28,133.54 63.36,147.66 \" fill=\"none\" id=\"E9&lt;-E10\" style=\"stroke: #A80036; stroke-width: 1.0;\"/><polygon fill=\"#FFFFFF\" points=\"88.78,87.01,82.7702,90.9953,84.1375,98.0756,90.1473,94.0903,88.78,87.01\" style=\"stroke: #A80036; stroke-width: 1.0;\"/><text fill=\"#000000\" font-family=\"sans-serif\" font-size=\"13\" lengthAdjust=\"spacingAndGlyphs\" textLength=\"8\" x=\"56.7335\" y=\"136.8492\">1</text></a><!--MD5=[feeac5eb423634930294aa81f2d25a4c]\n",
       "link E10 to E3--><a href=\"psysml:4cf35cfc-841e-4847-875d-1ebad6bb61b9\" target=\"_top\" title=\"psysml:4cf35cfc-841e-4847-875d-1ebad6bb61b9\" xlink:actuate=\"onRequest\" xlink:href=\"psysml:4cf35cfc-841e-4847-875d-1ebad6bb61b9\" xlink:show=\"new\" xlink:title=\"psysml:4cf35cfc-841e-4847-875d-1ebad6bb61b9\" xlink:type=\"simple\"><path d=\"M70.35,194.01 C79.86,206.81 92.11,223.3 103.18,238.2 \" fill=\"none\" id=\"E10-&gt;E3\" style=\"stroke: #A80036; stroke-width: 1.0;\"/><polygon fill=\"#FFFFFF\" points=\"115.4,254.66,98.4457,243.5896,109.6805,235.2361,115.4,254.66\" style=\"stroke: #A80036; stroke-width: 1.0;\"/><ellipse cx=\"96.6496\" cy=\"237.8221\" fill=\"#A80036\" rx=\"2\" ry=\"2\" style=\"stroke: #A80036; stroke-width: 1.0;\"/><ellipse cx=\"104.6744\" cy=\"231.8554\" fill=\"#A80036\" rx=\"2\" ry=\"2\" style=\"stroke: #A80036; stroke-width: 1.0;\"/></a><!--MD5=[1fc04a95fd77ad5ce46c1a3027516051]\n",
       "reverse link E9 to E11--><a href=\"psysml:bd05daaf-8002-489d-bbfa-6134af678ace\" target=\"_top\" title=\"psysml:bd05daaf-8002-489d-bbfa-6134af678ace\" xlink:actuate=\"onRequest\" xlink:href=\"psysml:bd05daaf-8002-489d-bbfa-6134af678ace\" xlink:show=\"new\" xlink:title=\"psysml:bd05daaf-8002-489d-bbfa-6134af678ace\" xlink:type=\"simple\"><path d=\"M109.19,99.57 C114.32,115.39 120.24,133.68 124.76,147.66 \" fill=\"none\" id=\"E9&lt;-E11\" style=\"stroke: #A80036; stroke-width: 1.0;\"/><polygon fill=\"#FFFFFF\" points=\"105.13,87.01,103.1699,93.9496,108.8217,98.428,110.7819,91.4884,105.13,87.01\" style=\"stroke: #A80036; stroke-width: 1.0;\"/><text fill=\"#000000\" font-family=\"sans-serif\" font-size=\"13\" lengthAdjust=\"spacingAndGlyphs\" textLength=\"8\" x=\"113.8798\" y=\"136.8492\">1</text></a><!--MD5=[0517f1ce58c4d5483948f93845c45e26]\n",
       "link E11 to E3--><a href=\"psysml:31e39f64-1f8d-4b2c-be98-c1459e5d6e94\" target=\"_top\" title=\"psysml:31e39f64-1f8d-4b2c-be98-c1459e5d6e94\" xlink:actuate=\"onRequest\" xlink:href=\"psysml:31e39f64-1f8d-4b2c-be98-c1459e5d6e94\" xlink:show=\"new\" xlink:title=\"psysml:31e39f64-1f8d-4b2c-be98-c1459e5d6e94\" xlink:type=\"simple\"><path d=\"M132,194.01 C132,205.69 132,220.46 132,234.28 \" fill=\"none\" id=\"E11-&gt;E3\" style=\"stroke: #A80036; stroke-width: 1.0;\"/><polygon fill=\"#FFFFFF\" points=\"132,254.66,125,235.66,139,235.66,132,254.66\" style=\"stroke: #A80036; stroke-width: 1.0;\"/><ellipse cx=\"127\" cy=\"229.96\" fill=\"#A80036\" rx=\"2\" ry=\"2\" style=\"stroke: #A80036; stroke-width: 1.0;\"/><ellipse cx=\"137\" cy=\"229.96\" fill=\"#A80036\" rx=\"2\" ry=\"2\" style=\"stroke: #A80036; stroke-width: 1.0;\"/></a><!--MD5=[9b2ca49fc40e4e6ba62169996a0c5125]\n",
       "@startuml\r\n",
       "skinparam wrapWidth 300\r\n",
       "hide circle\r\n",
       "\r\n",
       "package \"ItemTest\" as E1  [[psysml:1bc06463-7392-4b34-87d6-1f1d6784670a ]]  {\r\n",
       "comp usage \"f: A\" as E2  <<(T,blue) item>> [[psysml:10e5f196-141c-4ebb-934a-0a8c25223d15 ]] {\r\n",
       "}\r\n",
       "comp def \"A\" as E3  <<(T,blue) item def>> [[psysml:d8185bfd-cc57-4585-aec6-0a59765b9e32 ]] {\r\n",
       "}\r\n",
       "comp usage \"b: B\" as E4  <<(T,blue) item>> [[psysml:867e3ff9-f74d-45bb-974d-3b3d8373197d ]] {\r\n",
       "}\r\n",
       "comp usage \"c: C\" as E5  <<(T,blue) part>> [[psysml:cb0d56cf-7b64-416e-8353-0e76041e55a4 ]] {\r\n",
       "}\r\n",
       "comp def \"B\" as E6  <<(T,blue) item def>> [[psysml:cb468909-38eb-4328-9448-1d282e0fd6a5 ]] {\r\n",
       "}\r\n",
       "comp usage \"a: A\" as E7  <<(T,blue) part>> [[psysml:8d68ea76-8496-4a3a-9bac-3b5e10d4f6d7 ]] {\r\n",
       "}\r\n",
       "comp def \"C\" as E8  <<(T,blue) part def>> [[psysml:3d841289-74ad-422d-b7f3-bdfc719d6361 ]] {\r\n",
       "}\r\n",
       "comp def \"P\" as E9  <<(T,blue) port def>> [[psysml:192666b5-43c5-4ec0-a40a-8ab471017ca3 ]] {\r\n",
       "}\r\n",
       "comp usage \"a1: A\" as E10  <<(T,blue) item>> [[psysml:a2436968-c74d-4c9f-bf2a-127bcc502b4e ]] {\r\n",
       "}\r\n",
       "comp usage \"a2: A\" as E11  <<(T,blue) item>> [[psysml:6388cc28-f9be-476c-ad05-d9ff93971fbb ]] {\r\n",
       "}\r\n",
       "}\r\n",
       "E2 - -:|> E3 [[psysml:24dbd283-1078-40f8-9dda-86d7de7bac74 ]] \r\n",
       "E3 *- - \"1\"E4 [[psysml:9f51e7d9-1020-406a-8433-de0298038040 ]] \r\n",
       "E3 o- - \"1\"E5 [[psysml:7a936c29-0528-4da5-855d-3be7e5f4e113 ]] \r\n",
       "E4 - -:|> E6 [[psysml:860f4e4a-475c-4d3a-a05e-585111d40739 ]] \r\n",
       "E6 *- - \"1\"E7 [[psysml:01396c82-09da-45aa-ba0c-a7dad5741ff2 ]] \r\n",
       "E7 - -:|> E3 [[psysml:d97708ca-1830-4e5e-bf07-a2aabe0546e8 ]] \r\n",
       "E5 - -:|> E8 [[psysml:75f754af-bdfa-473b-8cbb-d11c609ad500 ]] \r\n",
       "E8 o- - E3 [[psysml:aa35edca-3910-4cd9-97ff-300d5c8627fc ]] : y\r\n",
       "E8 o- - E6 [[psysml:aa35edca-3910-4cd9-97ff-300d5c8627fc ]] : y\r\n",
       "E9 o- - \"1\"E10 [[psysml:cf1da376-637e-4400-b815-716d62b1c417 ]] \r\n",
       "E10 - -:|> E3 [[psysml:4cf35cfc-841e-4847-875d-1ebad6bb61b9 ]] \r\n",
       "E9 o- - \"1\"E11 [[psysml:bd05daaf-8002-489d-bbfa-6134af678ace ]] \r\n",
       "E11 - -:|> E3 [[psysml:31e39f64-1f8d-4b2c-be98-c1459e5d6e94 ]] \r\n",
       "@enduml\r\n",
       "\n",
       "PlantUML version 1.2020.13(Sat Jun 13 12:26:38 UTC 2020)\n",
       "(EPL source distribution)\n",
       "Java Runtime: OpenJDK Runtime Environment\n",
       "JVM: OpenJDK 64-Bit Server VM\n",
       "Default Encoding: UTF-8\n",
       "Language: en\n",
       "Country: null\n",
       "--></g></svg>"
      ]
     },
     "execution_count": 23,
     "metadata": {},
     "output_type": "execute_result"
    }
   ],
   "source": [
    "%viz --style=\"STDCOLOR\" --view=\"Default\" \"ItemTest\""
   ]
  },
  {
   "cell_type": "code",
   "execution_count": 24,
   "id": "7ca670c2",
   "metadata": {
    "execution": {
     "iopub.execute_input": "2021-10-03T08:27:28.050141Z",
     "iopub.status.busy": "2021-10-03T08:27:28.049741Z",
     "iopub.status.idle": "2021-10-03T08:27:28.095569Z",
     "shell.execute_reply": "2021-10-03T08:27:28.095217Z"
    }
   },
   "outputs": [
    {
     "data": {
      "image/svg+xml": [
       "<?xml version=\"1.0\" encoding=\"UTF-8\" standalone=\"no\"?><svg xmlns=\"http://www.w3.org/2000/svg\" xmlns:xlink=\"http://www.w3.org/1999/xlink\" contentScriptType=\"application/ecmascript\" contentStyleType=\"text/css\" height=\"818px\" preserveAspectRatio=\"none\" style=\"width:270px;height:818px;\" version=\"1.1\" viewBox=\"0 0 270 818\" width=\"270px\" zoomAndPan=\"magnify\"><defs><filter height=\"300%\" id=\"f1s6q7ypvu3uj7\" width=\"300%\" x=\"-1\" y=\"-1\"><feGaussianBlur result=\"blurOut\" stdDeviation=\"2.0\"/><feColorMatrix in=\"blurOut\" result=\"blurOut2\" type=\"matrix\" values=\"0 0 0 0 0 0 0 0 0 0 0 0 0 0 0 0 0 0 .4 0\"/><feOffset dx=\"4.0\" dy=\"4.0\" in=\"blurOut2\" result=\"blurOut3\"/><feBlend in=\"SourceGraphic\" in2=\"blurOut3\" mode=\"normal\"/></filter></defs><g><!--MD5=[fbc87193dbaf4d95561dea2c320d4a47]\n",
       "cluster E1--><a href=\"psysml:1bc06463-7392-4b34-87d6-1f1d6784670a\" target=\"_top\" title=\"psysml:1bc06463-7392-4b34-87d6-1f1d6784670a\" xlink:actuate=\"onRequest\" xlink:href=\"psysml:1bc06463-7392-4b34-87d6-1f1d6784670a\" xlink:show=\"new\" xlink:title=\"psysml:1bc06463-7392-4b34-87d6-1f1d6784670a\" xlink:type=\"simple\"><polygon fill=\"#FFFFFF\" filter=\"url(#f1s6q7ypvu3uj7)\" points=\"16,6,83,6,90,28.2969,248,28.2969,248,806,16,806,16,6\" style=\"stroke: #000000; stroke-width: 1.5;\"/><line style=\"stroke: #000000; stroke-width: 1.5;\" x1=\"16\" x2=\"90\" y1=\"28.2969\" y2=\"28.2969\"/><text fill=\"#000000\" font-family=\"sans-serif\" font-size=\"14\" font-weight=\"bold\" lengthAdjust=\"spacingAndGlyphs\" textLength=\"61\" x=\"20\" y=\"20.9951\">ItemTest</text></a><!--MD5=[b4997ac47864f28c2f74865a473b2911]\n",
       "class E2--><a href=\"psysml:10e5f196-141c-4ebb-934a-0a8c25223d15\" target=\"_top\" title=\"psysml:10e5f196-141c-4ebb-934a-0a8c25223d15\" xlink:actuate=\"onRequest\" xlink:href=\"psysml:10e5f196-141c-4ebb-934a-0a8c25223d15\" xlink:show=\"new\" xlink:title=\"psysml:10e5f196-141c-4ebb-934a-0a8c25223d15\" xlink:type=\"simple\"><rect fill=\"#FEFECE\" filter=\"url(#f1s6q7ypvu3uj7)\" height=\"45.9375\" id=\"E2\" rx=\"10\" ry=\"10\" style=\"stroke: #A80036; stroke-width: 1.5;\" width=\"43\" x=\"188.5\" y=\"148\"/><text fill=\"#000000\" font-family=\"sans-serif\" font-size=\"12\" font-style=\"italic\" lengthAdjust=\"spacingAndGlyphs\" textLength=\"41\" x=\"189.5\" y=\"164.1387\">«item»</text><text fill=\"#000000\" font-family=\"sans-serif\" font-size=\"12\" lengthAdjust=\"spacingAndGlyphs\" textLength=\"20\" x=\"200\" y=\"178.1074\">f: A</text><line style=\"stroke: #A80036; stroke-width: 1.5;\" x1=\"189.5\" x2=\"230.5\" y1=\"185.9375\" y2=\"185.9375\"/></a><!--MD5=[09b614a08d8cba4a07c9adeb5e0fee81]\n",
       "class E3--><a href=\"psysml:d8185bfd-cc57-4585-aec6-0a59765b9e32\" target=\"_top\" title=\"psysml:d8185bfd-cc57-4585-aec6-0a59765b9e32\" xlink:actuate=\"onRequest\" xlink:href=\"psysml:d8185bfd-cc57-4585-aec6-0a59765b9e32\" xlink:show=\"new\" xlink:title=\"psysml:d8185bfd-cc57-4585-aec6-0a59765b9e32\" xlink:type=\"simple\"><rect fill=\"#FEFECE\" filter=\"url(#f1s6q7ypvu3uj7)\" height=\"45.9375\" id=\"E3\" style=\"stroke: #A80036; stroke-width: 1.5;\" width=\"67\" x=\"98.5\" y=\"255\"/><text fill=\"#000000\" font-family=\"sans-serif\" font-size=\"12\" font-style=\"italic\" lengthAdjust=\"spacingAndGlyphs\" textLength=\"65\" x=\"99.5\" y=\"271.1387\">«item def»</text><text fill=\"#000000\" font-family=\"sans-serif\" font-size=\"12\" lengthAdjust=\"spacingAndGlyphs\" textLength=\"8\" x=\"128\" y=\"285.1074\">A</text><line style=\"stroke: #A80036; stroke-width: 1.5;\" x1=\"99.5\" x2=\"164.5\" y1=\"292.9375\" y2=\"292.9375\"/></a><!--MD5=[ebbe1d658d1005bcc118a6aa81145e00]\n",
       "class E4--><a href=\"psysml:867e3ff9-f74d-45bb-974d-3b3d8373197d\" target=\"_top\" title=\"psysml:867e3ff9-f74d-45bb-974d-3b3d8373197d\" xlink:actuate=\"onRequest\" xlink:href=\"psysml:867e3ff9-f74d-45bb-974d-3b3d8373197d\" xlink:show=\"new\" xlink:title=\"psysml:867e3ff9-f74d-45bb-974d-3b3d8373197d\" xlink:type=\"simple\"><rect fill=\"#FEFECE\" filter=\"url(#f1s6q7ypvu3uj7)\" height=\"45.9375\" id=\"E4\" rx=\"10\" ry=\"10\" style=\"stroke: #A80036; stroke-width: 1.5;\" width=\"43\" x=\"45.5\" y=\"438\"/><text fill=\"#000000\" font-family=\"sans-serif\" font-size=\"12\" font-style=\"italic\" lengthAdjust=\"spacingAndGlyphs\" textLength=\"41\" x=\"46.5\" y=\"454.1387\">«item»</text><text fill=\"#000000\" font-family=\"sans-serif\" font-size=\"12\" lengthAdjust=\"spacingAndGlyphs\" textLength=\"24\" x=\"55\" y=\"468.1074\">b: B</text><line style=\"stroke: #A80036; stroke-width: 1.5;\" x1=\"46.5\" x2=\"87.5\" y1=\"475.9375\" y2=\"475.9375\"/></a><!--MD5=[270fce915f116d4de14055a7c1d9a0f3]\n",
       "class E5--><a href=\"psysml:cb0d56cf-7b64-416e-8353-0e76041e55a4\" target=\"_top\" title=\"psysml:cb0d56cf-7b64-416e-8353-0e76041e55a4\" xlink:actuate=\"onRequest\" xlink:href=\"psysml:cb0d56cf-7b64-416e-8353-0e76041e55a4\" xlink:show=\"new\" xlink:title=\"psysml:cb0d56cf-7b64-416e-8353-0e76041e55a4\" xlink:type=\"simple\"><rect fill=\"#FEFECE\" filter=\"url(#f1s6q7ypvu3uj7)\" height=\"45.9375\" id=\"E5\" rx=\"10\" ry=\"10\" style=\"stroke: #A80036; stroke-width: 1.5;\" width=\"42\" x=\"151\" y=\"362\"/><text fill=\"#000000\" font-family=\"sans-serif\" font-size=\"12\" font-style=\"italic\" lengthAdjust=\"spacingAndGlyphs\" textLength=\"40\" x=\"152\" y=\"378.1387\">«part»</text><text fill=\"#000000\" font-family=\"sans-serif\" font-size=\"12\" lengthAdjust=\"spacingAndGlyphs\" textLength=\"23\" x=\"160.5\" y=\"392.1074\">c: C</text><line style=\"stroke: #A80036; stroke-width: 1.5;\" x1=\"152\" x2=\"192\" y1=\"399.9375\" y2=\"399.9375\"/></a><!--MD5=[60a26617385b1d2d0262a64233df1f8d]\n",
       "class E6--><a href=\"psysml:cb468909-38eb-4328-9448-1d282e0fd6a5\" target=\"_top\" title=\"psysml:cb468909-38eb-4328-9448-1d282e0fd6a5\" xlink:actuate=\"onRequest\" xlink:href=\"psysml:cb468909-38eb-4328-9448-1d282e0fd6a5\" xlink:show=\"new\" xlink:title=\"psysml:cb468909-38eb-4328-9448-1d282e0fd6a5\" xlink:type=\"simple\"><rect fill=\"#FEFECE\" filter=\"url(#f1s6q7ypvu3uj7)\" height=\"45.9375\" id=\"E6\" style=\"stroke: #A80036; stroke-width: 1.5;\" width=\"67\" x=\"114.5\" y=\"637\"/><text fill=\"#000000\" font-family=\"sans-serif\" font-size=\"12\" font-style=\"italic\" lengthAdjust=\"spacingAndGlyphs\" textLength=\"65\" x=\"115.5\" y=\"653.1387\">«item def»</text><text fill=\"#000000\" font-family=\"sans-serif\" font-size=\"12\" lengthAdjust=\"spacingAndGlyphs\" textLength=\"8\" x=\"144\" y=\"667.1074\">B</text><line style=\"stroke: #A80036; stroke-width: 1.5;\" x1=\"115.5\" x2=\"180.5\" y1=\"674.9375\" y2=\"674.9375\"/></a><!--MD5=[2156ba9850f5573cc1fc38a6a4b2f02b]\n",
       "class E7--><a href=\"psysml:8d68ea76-8496-4a3a-9bac-3b5e10d4f6d7\" target=\"_top\" title=\"psysml:8d68ea76-8496-4a3a-9bac-3b5e10d4f6d7\" xlink:actuate=\"onRequest\" xlink:href=\"psysml:8d68ea76-8496-4a3a-9bac-3b5e10d4f6d7\" xlink:show=\"new\" xlink:title=\"psysml:8d68ea76-8496-4a3a-9bac-3b5e10d4f6d7\" xlink:type=\"simple\"><rect fill=\"#FEFECE\" filter=\"url(#f1s6q7ypvu3uj7)\" height=\"45.9375\" id=\"E7\" rx=\"10\" ry=\"10\" style=\"stroke: #A80036; stroke-width: 1.5;\" width=\"42\" x=\"159\" y=\"744\"/><text fill=\"#000000\" font-family=\"sans-serif\" font-size=\"12\" font-style=\"italic\" lengthAdjust=\"spacingAndGlyphs\" textLength=\"40\" x=\"160\" y=\"760.1387\">«part»</text><text fill=\"#000000\" font-family=\"sans-serif\" font-size=\"12\" lengthAdjust=\"spacingAndGlyphs\" textLength=\"24\" x=\"168\" y=\"774.1074\">a: A</text><line style=\"stroke: #A80036; stroke-width: 1.5;\" x1=\"160\" x2=\"200\" y1=\"781.9375\" y2=\"781.9375\"/></a><!--MD5=[b9389687b975829384b498ac4b7476b2]\n",
       "class E8--><a href=\"psysml:3d841289-74ad-422d-b7f3-bdfc719d6361\" target=\"_top\" title=\"psysml:3d841289-74ad-422d-b7f3-bdfc719d6361\" xlink:actuate=\"onRequest\" xlink:href=\"psysml:3d841289-74ad-422d-b7f3-bdfc719d6361\" xlink:show=\"new\" xlink:title=\"psysml:3d841289-74ad-422d-b7f3-bdfc719d6361\" xlink:type=\"simple\"><rect fill=\"#FEFECE\" filter=\"url(#f1s6q7ypvu3uj7)\" height=\"45.9375\" id=\"E8\" style=\"stroke: #A80036; stroke-width: 1.5;\" width=\"66\" x=\"115\" y=\"514\"/><text fill=\"#000000\" font-family=\"sans-serif\" font-size=\"12\" font-style=\"italic\" lengthAdjust=\"spacingAndGlyphs\" textLength=\"64\" x=\"116\" y=\"530.1387\">«part def»</text><text fill=\"#000000\" font-family=\"sans-serif\" font-size=\"12\" lengthAdjust=\"spacingAndGlyphs\" textLength=\"8\" x=\"144\" y=\"544.1074\">C</text><line style=\"stroke: #A80036; stroke-width: 1.5;\" x1=\"116\" x2=\"180\" y1=\"551.9375\" y2=\"551.9375\"/></a><!--MD5=[fd4143e9d270a159db93a4ea2a975926]\n",
       "class E9--><a href=\"psysml:192666b5-43c5-4ec0-a40a-8ab471017ca3\" target=\"_top\" title=\"psysml:192666b5-43c5-4ec0-a40a-8ab471017ca3\" xlink:actuate=\"onRequest\" xlink:href=\"psysml:192666b5-43c5-4ec0-a40a-8ab471017ca3\" xlink:show=\"new\" xlink:title=\"psysml:192666b5-43c5-4ec0-a40a-8ab471017ca3\" xlink:type=\"simple\"><rect fill=\"#FEFECE\" filter=\"url(#f1s6q7ypvu3uj7)\" height=\"45.9375\" id=\"E9\" style=\"stroke: #A80036; stroke-width: 1.5;\" width=\"66\" x=\"65\" y=\"41\"/><text fill=\"#000000\" font-family=\"sans-serif\" font-size=\"12\" font-style=\"italic\" lengthAdjust=\"spacingAndGlyphs\" textLength=\"64\" x=\"66\" y=\"57.1387\">«port def»</text><text fill=\"#000000\" font-family=\"sans-serif\" font-size=\"12\" lengthAdjust=\"spacingAndGlyphs\" textLength=\"8\" x=\"94\" y=\"71.1074\">P</text><line style=\"stroke: #A80036; stroke-width: 1.5;\" x1=\"66\" x2=\"130\" y1=\"78.9375\" y2=\"78.9375\"/></a><!--MD5=[96f4274e9e20536e775497830990834d]\n",
       "class E10--><a href=\"psysml:a2436968-c74d-4c9f-bf2a-127bcc502b4e\" target=\"_top\" title=\"psysml:a2436968-c74d-4c9f-bf2a-127bcc502b4e\" xlink:actuate=\"onRequest\" xlink:href=\"psysml:a2436968-c74d-4c9f-bf2a-127bcc502b4e\" xlink:show=\"new\" xlink:title=\"psysml:a2436968-c74d-4c9f-bf2a-127bcc502b4e\" xlink:type=\"simple\"><rect fill=\"#FEFECE\" filter=\"url(#f1s6q7ypvu3uj7)\" height=\"45.9375\" id=\"E10\" rx=\"10\" ry=\"10\" style=\"stroke: #A80036; stroke-width: 1.5;\" width=\"43\" x=\"32.5\" y=\"148\"/><text fill=\"#000000\" font-family=\"sans-serif\" font-size=\"12\" font-style=\"italic\" lengthAdjust=\"spacingAndGlyphs\" textLength=\"41\" x=\"33.5\" y=\"164.1387\">«item»</text><text fill=\"#000000\" font-family=\"sans-serif\" font-size=\"12\" lengthAdjust=\"spacingAndGlyphs\" textLength=\"32\" x=\"38\" y=\"178.1074\">a1: A</text><line style=\"stroke: #A80036; stroke-width: 1.5;\" x1=\"33.5\" x2=\"74.5\" y1=\"185.9375\" y2=\"185.9375\"/></a><!--MD5=[1dd1bfd58a279cf63c5f349dbc8fc6a1]\n",
       "class E11--><a href=\"psysml:6388cc28-f9be-476c-ad05-d9ff93971fbb\" target=\"_top\" title=\"psysml:6388cc28-f9be-476c-ad05-d9ff93971fbb\" xlink:actuate=\"onRequest\" xlink:href=\"psysml:6388cc28-f9be-476c-ad05-d9ff93971fbb\" xlink:show=\"new\" xlink:title=\"psysml:6388cc28-f9be-476c-ad05-d9ff93971fbb\" xlink:type=\"simple\"><rect fill=\"#FEFECE\" filter=\"url(#f1s6q7ypvu3uj7)\" height=\"45.9375\" id=\"E11\" rx=\"10\" ry=\"10\" style=\"stroke: #A80036; stroke-width: 1.5;\" width=\"43\" x=\"110.5\" y=\"148\"/><text fill=\"#000000\" font-family=\"sans-serif\" font-size=\"12\" font-style=\"italic\" lengthAdjust=\"spacingAndGlyphs\" textLength=\"41\" x=\"111.5\" y=\"164.1387\">«item»</text><text fill=\"#000000\" font-family=\"sans-serif\" font-size=\"12\" lengthAdjust=\"spacingAndGlyphs\" textLength=\"32\" x=\"116\" y=\"178.1074\">a2: A</text><line style=\"stroke: #A80036; stroke-width: 1.5;\" x1=\"111.5\" x2=\"152.5\" y1=\"185.9375\" y2=\"185.9375\"/></a><!--MD5=[2720a5a1f2c3fca2055b230370638851]\n",
       "link E2 to E3--><a href=\"psysml:24dbd283-1078-40f8-9dda-86d7de7bac74\" target=\"_top\" title=\"psysml:24dbd283-1078-40f8-9dda-86d7de7bac74\" xlink:actuate=\"onRequest\" xlink:href=\"psysml:24dbd283-1078-40f8-9dda-86d7de7bac74\" xlink:show=\"new\" xlink:title=\"psysml:24dbd283-1078-40f8-9dda-86d7de7bac74\" xlink:type=\"simple\"><path d=\"M193.65,194.01 C184.14,206.81 171.89,223.3 160.82,238.2 \" fill=\"none\" id=\"E2-&gt;E3\" style=\"stroke: #A80036; stroke-width: 1.0;\"/><polygon fill=\"#FFFFFF\" points=\"148.6,254.66,154.3195,235.2361,165.5543,243.5896,148.6,254.66\" style=\"stroke: #A80036; stroke-width: 1.0;\"/><ellipse cx=\"159.3256\" cy=\"231.8554\" fill=\"#A80036\" rx=\"2\" ry=\"2\" style=\"stroke: #A80036; stroke-width: 1.0;\"/><ellipse cx=\"167.3504\" cy=\"237.8221\" fill=\"#A80036\" rx=\"2\" ry=\"2\" style=\"stroke: #A80036; stroke-width: 1.0;\"/></a><!--MD5=[4672eba38e49728da53d11aeb285b987]\n",
       "reverse link E3 to E4--><a href=\"psysml:9f51e7d9-1020-406a-8433-de0298038040\" target=\"_top\" title=\"psysml:9f51e7d9-1020-406a-8433-de0298038040\" xlink:actuate=\"onRequest\" xlink:href=\"psysml:9f51e7d9-1020-406a-8433-de0298038040\" xlink:show=\"new\" xlink:title=\"psysml:9f51e7d9-1020-406a-8433-de0298038040\" xlink:type=\"simple\"><path d=\"M97.11,310.9 C84.08,325.11 70.81,342.94 64,362 C55.12,386.85 58.09,417.53 61.82,437.88 \" fill=\"none\" id=\"E3&lt;-E4\" style=\"stroke: #A80036; stroke-width: 1.0;\"/><polygon fill=\"#A80036\" points=\"106.46,301.23,99.4153,302.7703,98.1277,309.8655,105.1724,308.3252,106.46,301.23\" style=\"stroke: #A80036; stroke-width: 1.0;\"/><text fill=\"#000000\" font-family=\"sans-serif\" font-size=\"13\" lengthAdjust=\"spacingAndGlyphs\" textLength=\"8\" x=\"51.3529\" y=\"426.744\">1</text></a><!--MD5=[191cde3d490a3f6d7bb551fe3ddca469]\n",
       "reverse link E3 to E5--><a href=\"psysml:7a936c29-0528-4da5-855d-3be7e5f4e113\" target=\"_top\" title=\"psysml:7a936c29-0528-4da5-855d-3be7e5f4e113\" xlink:actuate=\"onRequest\" xlink:href=\"psysml:7a936c29-0528-4da5-855d-3be7e5f4e113\" xlink:show=\"new\" xlink:title=\"psysml:7a936c29-0528-4da5-855d-3be7e5f4e113\" xlink:type=\"simple\"><path d=\"M145.17,313.57 C151.2,329.39 158.16,347.68 163.49,361.66 \" fill=\"none\" id=\"E3&lt;-E5\" style=\"stroke: #A80036; stroke-width: 1.0;\"/><polygon fill=\"#FFFFFF\" points=\"140.39,301.01,138.7866,308.0406,144.6598,312.2247,146.2631,305.1941,140.39,301.01\" style=\"stroke: #A80036; stroke-width: 1.0;\"/><text fill=\"#000000\" font-family=\"sans-serif\" font-size=\"13\" lengthAdjust=\"spacingAndGlyphs\" textLength=\"8\" x=\"152.2843\" y=\"350.8492\">1</text></a><!--MD5=[79568f1e445c3877b6a54524624ccc7d]\n",
       "link E4 to E6--><a href=\"psysml:860f4e4a-475c-4d3a-a05e-585111d40739\" target=\"_top\" title=\"psysml:860f4e4a-475c-4d3a-a05e-585111d40739\" xlink:actuate=\"onRequest\" xlink:href=\"psysml:860f4e4a-475c-4d3a-a05e-585111d40739\" xlink:show=\"new\" xlink:title=\"psysml:860f4e4a-475c-4d3a-a05e-585111d40739\" xlink:type=\"simple\"><path d=\"M72.9,484.16 C78.52,504.26 87.63,534.55 98,560 C106.11,579.9 116.66,601.27 125.97,619.04 \" fill=\"none\" id=\"E4-&gt;E6\" style=\"stroke: #A80036; stroke-width: 1.0;\"/><polygon fill=\"#FFFFFF\" points=\"135.42,636.68,120.2696,623.2463,132.6064,616.628,135.42,636.68\" style=\"stroke: #A80036; stroke-width: 1.0;\"/><ellipse cx=\"119.3374\" cy=\"617.2779\" fill=\"#A80036\" rx=\"2\" ry=\"2\" style=\"stroke: #A80036; stroke-width: 1.0;\"/><ellipse cx=\"128.1494\" cy=\"612.5506\" fill=\"#A80036\" rx=\"2\" ry=\"2\" style=\"stroke: #A80036; stroke-width: 1.0;\"/></a><!--MD5=[3f50a3473f1dfb74d3f76443e03635af]\n",
       "reverse link E6 to E7--><a href=\"psysml:01396c82-09da-45aa-ba0c-a7dad5741ff2\" target=\"_top\" title=\"psysml:01396c82-09da-45aa-ba0c-a7dad5741ff2\" xlink:actuate=\"onRequest\" xlink:href=\"psysml:01396c82-09da-45aa-ba0c-a7dad5741ff2\" xlink:show=\"new\" xlink:title=\"psysml:01396c82-09da-45aa-ba0c-a7dad5741ff2\" xlink:type=\"simple\"><path d=\"M158.54,695.57 C163.36,711.39 168.93,729.68 173.19,743.66 \" fill=\"none\" id=\"E6&lt;-E7\" style=\"stroke: #A80036; stroke-width: 1.0;\"/><polygon fill=\"#A80036\" points=\"154.71,683.01,152.6319,689.9152,158.2066,694.4893,160.2847,687.5841,154.71,683.01\" style=\"stroke: #A80036; stroke-width: 1.0;\"/><text fill=\"#000000\" font-family=\"sans-serif\" font-size=\"13\" lengthAdjust=\"spacingAndGlyphs\" textLength=\"8\" x=\"162.4199\" y=\"732.8492\">1</text></a><!--MD5=[14ccda38c055a5c0da953d572bc50960]\n",
       "link E7 to E3--><a href=\"psysml:d97708ca-1830-4e5e-bf07-a2aabe0546e8\" target=\"_top\" title=\"psysml:d97708ca-1830-4e5e-bf07-a2aabe0546e8\" xlink:actuate=\"onRequest\" xlink:href=\"psysml:d97708ca-1830-4e5e-bf07-a2aabe0546e8\" xlink:show=\"new\" xlink:title=\"psysml:d97708ca-1830-4e5e-bf07-a2aabe0546e8\" xlink:type=\"simple\"><path d=\"M197.41,743.63 C211.5,723.27 229,691.78 229,661 C229,384 229,384 229,384 C229,353 205.9,327.25 182.25,309.01 \" fill=\"none\" id=\"E7-&gt;E3\" style=\"stroke: #A80036; stroke-width: 1.0;\"/><polygon fill=\"#FFFFFF\" points=\"165.65,297.35,185.219,302.5513,177.1671,314.004,165.65,297.35\" style=\"stroke: #A80036; stroke-width: 1.0;\"/><ellipse cx=\"188.7317\" cy=\"307.4657\" fill=\"#A80036\" rx=\"2\" ry=\"2\" style=\"stroke: #A80036; stroke-width: 1.0;\"/><ellipse cx=\"182.9803\" cy=\"315.6462\" fill=\"#A80036\" rx=\"2\" ry=\"2\" style=\"stroke: #A80036; stroke-width: 1.0;\"/></a><!--MD5=[dfaffb906826c3e5aca635516100ff21]\n",
       "link E5 to E8--><a href=\"psysml:75f754af-bdfa-473b-8cbb-d11c609ad500\" target=\"_top\" title=\"psysml:75f754af-bdfa-473b-8cbb-d11c609ad500\" xlink:actuate=\"onRequest\" xlink:href=\"psysml:75f754af-bdfa-473b-8cbb-d11c609ad500\" xlink:show=\"new\" xlink:title=\"psysml:75f754af-bdfa-473b-8cbb-d11c609ad500\" xlink:type=\"simple\"><path d=\"M168.46,408.13 C164.86,430.62 159.2,466.01 154.74,493.87 \" fill=\"none\" id=\"E5-&gt;E8\" style=\"stroke: #A80036; stroke-width: 1.0;\"/><polygon fill=\"#FFFFFF\" points=\"151.56,513.78,147.6458,493.9135,161.4704,496.1226,151.56,513.78\" style=\"stroke: #A80036; stroke-width: 1.0;\"/><ellipse cx=\"150.5202\" cy=\"488.6005\" fill=\"#A80036\" rx=\"2\" ry=\"2\" style=\"stroke: #A80036; stroke-width: 1.0;\"/><ellipse cx=\"160.3949\" cy=\"490.1784\" fill=\"#A80036\" rx=\"2\" ry=\"2\" style=\"stroke: #A80036; stroke-width: 1.0;\"/></a><!--MD5=[03c8294790d3c57651a1993cecff665f]\n",
       "reverse link E8 to E3--><a href=\"psysml:aa35edca-3910-4cd9-97ff-300d5c8627fc\" target=\"_top\" title=\"psysml:aa35edca-3910-4cd9-97ff-300d5c8627fc\" xlink:actuate=\"onRequest\" xlink:href=\"psysml:aa35edca-3910-4cd9-97ff-300d5c8627fc\" xlink:show=\"new\" xlink:title=\"psysml:aa35edca-3910-4cd9-97ff-300d5c8627fc\" xlink:type=\"simple\"><path d=\"M140.02,501.22 C134.57,475.6 127.84,439.84 125,408 C123.18,387.64 124.14,382.43 125,362 C125.87,341.34 127.95,317.86 129.62,301.16 \" fill=\"none\" id=\"E8&lt;-E3\" style=\"stroke: #A80036; stroke-width: 1.0;\"/><polygon fill=\"#FFFFFF\" points=\"142.81,513.96,145.4388,507.2451,140.2515,502.2359,137.6227,508.9508,142.81,513.96\" style=\"stroke: #A80036; stroke-width: 1.0;\"/><text fill=\"#000000\" font-family=\"sans-serif\" font-size=\"13\" lengthAdjust=\"spacingAndGlyphs\" textLength=\"7\" x=\"126\" y=\"389.5669\">y</text></a><!--MD5=[0d75d2178373a6a4568e5dc728f58aef]\n",
       "reverse link E8 to E6--><a href=\"psysml:aa35edca-3910-4cd9-97ff-300d5c8627fc\" target=\"_top\" title=\"psysml:aa35edca-3910-4cd9-97ff-300d5c8627fc\" xlink:actuate=\"onRequest\" xlink:href=\"psysml:aa35edca-3910-4cd9-97ff-300d5c8627fc\" xlink:show=\"new\" xlink:title=\"psysml:aa35edca-3910-4cd9-97ff-300d5c8627fc\" xlink:type=\"simple\"><path d=\"M148,573.22 C148,593.81 148,619.16 148,636.95 \" fill=\"none\" id=\"E8&lt;-E6\" style=\"stroke: #A80036; stroke-width: 1.0;\"/><polygon fill=\"#FFFFFF\" points=\"148,560.19,144,566.19,148,572.19,152,566.19,148,560.19\" style=\"stroke: #A80036; stroke-width: 1.0;\"/><text fill=\"#000000\" font-family=\"sans-serif\" font-size=\"13\" lengthAdjust=\"spacingAndGlyphs\" textLength=\"7\" x=\"149\" y=\"603.0669\">y</text></a><!--MD5=[23ac544a70576c3e717098101004234c]\n",
       "reverse link E9 to E10--><a href=\"psysml:cf1da376-637e-4400-b815-716d62b1c417\" target=\"_top\" title=\"psysml:cf1da376-637e-4400-b815-716d62b1c417\" xlink:actuate=\"onRequest\" xlink:href=\"psysml:cf1da376-637e-4400-b815-716d62b1c417\" xlink:show=\"new\" xlink:title=\"psysml:cf1da376-637e-4400-b815-716d62b1c417\" xlink:type=\"simple\"><path d=\"M83.71,99.1 C77.04,115.03 69.28,133.54 63.36,147.66 \" fill=\"none\" id=\"E9&lt;-E10\" style=\"stroke: #A80036; stroke-width: 1.0;\"/><polygon fill=\"#FFFFFF\" points=\"88.78,87.01,82.7702,90.9953,84.1375,98.0756,90.1473,94.0903,88.78,87.01\" style=\"stroke: #A80036; stroke-width: 1.0;\"/><text fill=\"#000000\" font-family=\"sans-serif\" font-size=\"13\" lengthAdjust=\"spacingAndGlyphs\" textLength=\"8\" x=\"56.7335\" y=\"136.8492\">1</text></a><!--MD5=[feeac5eb423634930294aa81f2d25a4c]\n",
       "link E10 to E3--><a href=\"psysml:4cf35cfc-841e-4847-875d-1ebad6bb61b9\" target=\"_top\" title=\"psysml:4cf35cfc-841e-4847-875d-1ebad6bb61b9\" xlink:actuate=\"onRequest\" xlink:href=\"psysml:4cf35cfc-841e-4847-875d-1ebad6bb61b9\" xlink:show=\"new\" xlink:title=\"psysml:4cf35cfc-841e-4847-875d-1ebad6bb61b9\" xlink:type=\"simple\"><path d=\"M70.35,194.01 C79.86,206.81 92.11,223.3 103.18,238.2 \" fill=\"none\" id=\"E10-&gt;E3\" style=\"stroke: #A80036; stroke-width: 1.0;\"/><polygon fill=\"#FFFFFF\" points=\"115.4,254.66,98.4457,243.5896,109.6805,235.2361,115.4,254.66\" style=\"stroke: #A80036; stroke-width: 1.0;\"/><ellipse cx=\"96.6496\" cy=\"237.8221\" fill=\"#A80036\" rx=\"2\" ry=\"2\" style=\"stroke: #A80036; stroke-width: 1.0;\"/><ellipse cx=\"104.6744\" cy=\"231.8554\" fill=\"#A80036\" rx=\"2\" ry=\"2\" style=\"stroke: #A80036; stroke-width: 1.0;\"/></a><!--MD5=[1fc04a95fd77ad5ce46c1a3027516051]\n",
       "reverse link E9 to E11--><a href=\"psysml:bd05daaf-8002-489d-bbfa-6134af678ace\" target=\"_top\" title=\"psysml:bd05daaf-8002-489d-bbfa-6134af678ace\" xlink:actuate=\"onRequest\" xlink:href=\"psysml:bd05daaf-8002-489d-bbfa-6134af678ace\" xlink:show=\"new\" xlink:title=\"psysml:bd05daaf-8002-489d-bbfa-6134af678ace\" xlink:type=\"simple\"><path d=\"M109.19,99.57 C114.32,115.39 120.24,133.68 124.76,147.66 \" fill=\"none\" id=\"E9&lt;-E11\" style=\"stroke: #A80036; stroke-width: 1.0;\"/><polygon fill=\"#FFFFFF\" points=\"105.13,87.01,103.1699,93.9496,108.8217,98.428,110.7819,91.4884,105.13,87.01\" style=\"stroke: #A80036; stroke-width: 1.0;\"/><text fill=\"#000000\" font-family=\"sans-serif\" font-size=\"13\" lengthAdjust=\"spacingAndGlyphs\" textLength=\"8\" x=\"113.8798\" y=\"136.8492\">1</text></a><!--MD5=[0517f1ce58c4d5483948f93845c45e26]\n",
       "link E11 to E3--><a href=\"psysml:31e39f64-1f8d-4b2c-be98-c1459e5d6e94\" target=\"_top\" title=\"psysml:31e39f64-1f8d-4b2c-be98-c1459e5d6e94\" xlink:actuate=\"onRequest\" xlink:href=\"psysml:31e39f64-1f8d-4b2c-be98-c1459e5d6e94\" xlink:show=\"new\" xlink:title=\"psysml:31e39f64-1f8d-4b2c-be98-c1459e5d6e94\" xlink:type=\"simple\"><path d=\"M132,194.01 C132,205.69 132,220.46 132,234.28 \" fill=\"none\" id=\"E11-&gt;E3\" style=\"stroke: #A80036; stroke-width: 1.0;\"/><polygon fill=\"#FFFFFF\" points=\"132,254.66,125,235.66,139,235.66,132,254.66\" style=\"stroke: #A80036; stroke-width: 1.0;\"/><ellipse cx=\"127\" cy=\"229.96\" fill=\"#A80036\" rx=\"2\" ry=\"2\" style=\"stroke: #A80036; stroke-width: 1.0;\"/><ellipse cx=\"137\" cy=\"229.96\" fill=\"#A80036\" rx=\"2\" ry=\"2\" style=\"stroke: #A80036; stroke-width: 1.0;\"/></a><!--MD5=[9b2ca49fc40e4e6ba62169996a0c5125]\n",
       "@startuml\r\n",
       "skinparam wrapWidth 300\r\n",
       "hide circle\r\n",
       "\r\n",
       "package \"ItemTest\" as E1  [[psysml:1bc06463-7392-4b34-87d6-1f1d6784670a ]]  {\r\n",
       "comp usage \"f: A\" as E2  <<(T,blue) item>> [[psysml:10e5f196-141c-4ebb-934a-0a8c25223d15 ]] {\r\n",
       "}\r\n",
       "comp def \"A\" as E3  <<(T,blue) item def>> [[psysml:d8185bfd-cc57-4585-aec6-0a59765b9e32 ]] {\r\n",
       "}\r\n",
       "comp usage \"b: B\" as E4  <<(T,blue) item>> [[psysml:867e3ff9-f74d-45bb-974d-3b3d8373197d ]] {\r\n",
       "}\r\n",
       "comp usage \"c: C\" as E5  <<(T,blue) part>> [[psysml:cb0d56cf-7b64-416e-8353-0e76041e55a4 ]] {\r\n",
       "}\r\n",
       "comp def \"B\" as E6  <<(T,blue) item def>> [[psysml:cb468909-38eb-4328-9448-1d282e0fd6a5 ]] {\r\n",
       "}\r\n",
       "comp usage \"a: A\" as E7  <<(T,blue) part>> [[psysml:8d68ea76-8496-4a3a-9bac-3b5e10d4f6d7 ]] {\r\n",
       "}\r\n",
       "comp def \"C\" as E8  <<(T,blue) part def>> [[psysml:3d841289-74ad-422d-b7f3-bdfc719d6361 ]] {\r\n",
       "}\r\n",
       "comp def \"P\" as E9  <<(T,blue) port def>> [[psysml:192666b5-43c5-4ec0-a40a-8ab471017ca3 ]] {\r\n",
       "}\r\n",
       "comp usage \"a1: A\" as E10  <<(T,blue) item>> [[psysml:a2436968-c74d-4c9f-bf2a-127bcc502b4e ]] {\r\n",
       "}\r\n",
       "comp usage \"a2: A\" as E11  <<(T,blue) item>> [[psysml:6388cc28-f9be-476c-ad05-d9ff93971fbb ]] {\r\n",
       "}\r\n",
       "}\r\n",
       "E2 - -:|> E3 [[psysml:24dbd283-1078-40f8-9dda-86d7de7bac74 ]] \r\n",
       "E3 *- - \"1\"E4 [[psysml:9f51e7d9-1020-406a-8433-de0298038040 ]] \r\n",
       "E3 o- - \"1\"E5 [[psysml:7a936c29-0528-4da5-855d-3be7e5f4e113 ]] \r\n",
       "E4 - -:|> E6 [[psysml:860f4e4a-475c-4d3a-a05e-585111d40739 ]] \r\n",
       "E6 *- - \"1\"E7 [[psysml:01396c82-09da-45aa-ba0c-a7dad5741ff2 ]] \r\n",
       "E7 - -:|> E3 [[psysml:d97708ca-1830-4e5e-bf07-a2aabe0546e8 ]] \r\n",
       "E5 - -:|> E8 [[psysml:75f754af-bdfa-473b-8cbb-d11c609ad500 ]] \r\n",
       "E8 o- - E3 [[psysml:aa35edca-3910-4cd9-97ff-300d5c8627fc ]] : y\r\n",
       "E8 o- - E6 [[psysml:aa35edca-3910-4cd9-97ff-300d5c8627fc ]] : y\r\n",
       "E9 o- - \"1\"E10 [[psysml:cf1da376-637e-4400-b815-716d62b1c417 ]] \r\n",
       "E10 - -:|> E3 [[psysml:4cf35cfc-841e-4847-875d-1ebad6bb61b9 ]] \r\n",
       "E9 o- - \"1\"E11 [[psysml:bd05daaf-8002-489d-bbfa-6134af678ace ]] \r\n",
       "E11 - -:|> E3 [[psysml:31e39f64-1f8d-4b2c-be98-c1459e5d6e94 ]] \r\n",
       "@enduml\r\n",
       "\n",
       "PlantUML version 1.2020.13(Sat Jun 13 12:26:38 UTC 2020)\n",
       "(EPL source distribution)\n",
       "Java Runtime: OpenJDK Runtime Environment\n",
       "JVM: OpenJDK 64-Bit Server VM\n",
       "Default Encoding: UTF-8\n",
       "Language: en\n",
       "Country: null\n",
       "--></g></svg>"
      ]
     },
     "execution_count": 24,
     "metadata": {},
     "output_type": "execute_result"
    }
   ],
   "source": [
    "%viz --style=\"STDCOLOR\" --view=\"Tree\" \"ItemTest\""
   ]
  },
  {
   "cell_type": "code",
   "execution_count": 25,
   "id": "932d1835",
   "metadata": {
    "execution": {
     "iopub.execute_input": "2021-10-03T08:27:28.144862Z",
     "iopub.status.busy": "2021-10-03T08:27:28.144461Z",
     "iopub.status.idle": "2021-10-03T08:27:28.148955Z",
     "shell.execute_reply": "2021-10-03T08:27:28.149265Z"
    }
   },
   "outputs": [
    {
     "data": {
      "image/svg+xml": [
       "<?xml version=\"1.0\" encoding=\"UTF-8\" standalone=\"no\"?><svg xmlns=\"http://www.w3.org/2000/svg\" xmlns:xlink=\"http://www.w3.org/1999/xlink\" contentScriptType=\"application/ecmascript\" contentStyleType=\"text/css\" height=\"12px\" preserveAspectRatio=\"none\" style=\"width:12px;height:12px;\" version=\"1.1\" viewBox=\"0 0 12 12\" width=\"12px\" zoomAndPan=\"magnify\"><defs/><g><!--MD5=[aeeef50f102b80d730deb6443d14f702]\n",
       "@startuml\r\n",
       "skinparam wrapWidth 300\r\n",
       "hide circle\r\n",
       "\r\n",
       "@enduml\r\n",
       "\n",
       "PlantUML version 1.2020.13(Sat Jun 13 12:26:38 UTC 2020)\n",
       "(EPL source distribution)\n",
       "Java Runtime: OpenJDK Runtime Environment\n",
       "JVM: OpenJDK 64-Bit Server VM\n",
       "Default Encoding: UTF-8\n",
       "Language: en\n",
       "Country: null\n",
       "--></g></svg>"
      ]
     },
     "execution_count": 25,
     "metadata": {},
     "output_type": "execute_result"
    }
   ],
   "source": [
    "%viz --style=\"STDCOLOR\" --view=\"State\" \"ItemTest\""
   ]
  },
  {
   "cell_type": "code",
   "execution_count": 26,
   "id": "9765804a",
   "metadata": {
    "execution": {
     "iopub.execute_input": "2021-10-03T08:27:28.198812Z",
     "iopub.status.busy": "2021-10-03T08:27:28.198419Z",
     "iopub.status.idle": "2021-10-03T08:27:28.224820Z",
     "shell.execute_reply": "2021-10-03T08:27:28.224467Z"
    }
   },
   "outputs": [
    {
     "data": {
      "image/svg+xml": [
       "<?xml version=\"1.0\" encoding=\"UTF-8\" standalone=\"no\"?><svg xmlns=\"http://www.w3.org/2000/svg\" xmlns:xlink=\"http://www.w3.org/1999/xlink\" contentScriptType=\"application/ecmascript\" contentStyleType=\"text/css\" height=\"112px\" preserveAspectRatio=\"none\" style=\"width:548px;height:112px;\" version=\"1.1\" viewBox=\"0 0 548 112\" width=\"548px\" zoomAndPan=\"magnify\"><defs><filter height=\"300%\" id=\"f18a3n8yuyk08u\" width=\"300%\" x=\"-1\" y=\"-1\"><feGaussianBlur result=\"blurOut\" stdDeviation=\"2.0\"/><feColorMatrix in=\"blurOut\" result=\"blurOut2\" type=\"matrix\" values=\"0 0 0 0 0 0 0 0 0 0 0 0 0 0 0 0 0 0 .4 0\"/><feOffset dx=\"4.0\" dy=\"4.0\" in=\"blurOut2\" result=\"blurOut3\"/><feBlend in=\"SourceGraphic\" in2=\"blurOut3\" mode=\"normal\"/></filter></defs><g><!--MD5=[fbc87193dbaf4d95561dea2c320d4a47]\n",
       "cluster E1--><a href=\"psysml:1bc06463-7392-4b34-87d6-1f1d6784670a\" target=\"_top\" title=\"psysml:1bc06463-7392-4b34-87d6-1f1d6784670a\" xlink:actuate=\"onRequest\" xlink:href=\"psysml:1bc06463-7392-4b34-87d6-1f1d6784670a\" xlink:show=\"new\" xlink:title=\"psysml:1bc06463-7392-4b34-87d6-1f1d6784670a\" xlink:type=\"simple\"><polygon fill=\"#FFFFFF\" filter=\"url(#f18a3n8yuyk08u)\" points=\"16,6,83,6,90,28.2969,526,28.2969,526,100,16,100,16,6\" style=\"stroke: #000000; stroke-width: 1.5;\"/><line style=\"stroke: #000000; stroke-width: 1.5;\" x1=\"16\" x2=\"90\" y1=\"28.2969\" y2=\"28.2969\"/><text fill=\"#000000\" font-family=\"sans-serif\" font-size=\"14\" font-weight=\"bold\" lengthAdjust=\"spacingAndGlyphs\" textLength=\"61\" x=\"20\" y=\"20.9951\">ItemTest</text></a><g id=\"E1.E3\"><a href=\"psysml:d8185bfd-cc57-4585-aec6-0a59765b9e32\" target=\"_top\" title=\"psysml:d8185bfd-cc57-4585-aec6-0a59765b9e32\" xlink:actuate=\"onRequest\" xlink:href=\"psysml:d8185bfd-cc57-4585-aec6-0a59765b9e32\" xlink:show=\"new\" xlink:title=\"psysml:d8185bfd-cc57-4585-aec6-0a59765b9e32\" xlink:type=\"simple\"><rect fill=\"#FEFECE\" filter=\"url(#f18a3n8yuyk08u)\" height=\"42.9375\" id=\"E3\" style=\"stroke: #A80036; stroke-width: 1.5;\" width=\"72\" x=\"438\" y=\"41\"/><text fill=\"#000000\" font-family=\"sans-serif\" font-size=\"12\" font-style=\"italic\" lengthAdjust=\"spacingAndGlyphs\" textLength=\"65\" x=\"441.5\" y=\"57.1387\">«item def»</text><text fill=\"#000000\" font-family=\"sans-serif\" font-size=\"12\" lengthAdjust=\"spacingAndGlyphs\" textLength=\"8\" x=\"470\" y=\"71.1074\">A</text></a></g><g id=\"E1.E4\"><a href=\"psysml:cb468909-38eb-4328-9448-1d282e0fd6a5\" target=\"_top\" title=\"psysml:cb468909-38eb-4328-9448-1d282e0fd6a5\" xlink:actuate=\"onRequest\" xlink:href=\"psysml:cb468909-38eb-4328-9448-1d282e0fd6a5\" xlink:show=\"new\" xlink:title=\"psysml:cb468909-38eb-4328-9448-1d282e0fd6a5\" xlink:type=\"simple\"><rect fill=\"#FEFECE\" filter=\"url(#f18a3n8yuyk08u)\" height=\"42.9375\" id=\"E4\" style=\"stroke: #A80036; stroke-width: 1.5;\" width=\"72\" x=\"331\" y=\"41\"/><text fill=\"#000000\" font-family=\"sans-serif\" font-size=\"12\" font-style=\"italic\" lengthAdjust=\"spacingAndGlyphs\" textLength=\"65\" x=\"334.5\" y=\"57.1387\">«item def»</text><text fill=\"#000000\" font-family=\"sans-serif\" font-size=\"12\" lengthAdjust=\"spacingAndGlyphs\" textLength=\"8\" x=\"363\" y=\"71.1074\">B</text></a></g><g id=\"E1.E6\"><a href=\"psysml:192666b5-43c5-4ec0-a40a-8ab471017ca3\" target=\"_top\" title=\"psysml:192666b5-43c5-4ec0-a40a-8ab471017ca3\" xlink:actuate=\"onRequest\" xlink:href=\"psysml:192666b5-43c5-4ec0-a40a-8ab471017ca3\" xlink:show=\"new\" xlink:title=\"psysml:192666b5-43c5-4ec0-a40a-8ab471017ca3\" xlink:type=\"simple\"><rect fill=\"#FEFECE\" filter=\"url(#f18a3n8yuyk08u)\" height=\"42.9375\" id=\"E6\" style=\"stroke: #A80036; stroke-width: 1.5;\" width=\"71\" x=\"224.5\" y=\"41\"/><text fill=\"#000000\" font-family=\"sans-serif\" font-size=\"12\" font-style=\"italic\" lengthAdjust=\"spacingAndGlyphs\" textLength=\"64\" x=\"228\" y=\"57.1387\">«port def»</text><text fill=\"#000000\" font-family=\"sans-serif\" font-size=\"12\" lengthAdjust=\"spacingAndGlyphs\" textLength=\"8\" x=\"256\" y=\"71.1074\">P</text></a></g><g id=\"E1.E2\"><a href=\"psysml:10e5f196-141c-4ebb-934a-0a8c25223d15\" target=\"_top\" title=\"psysml:10e5f196-141c-4ebb-934a-0a8c25223d15\" xlink:actuate=\"onRequest\" xlink:href=\"psysml:10e5f196-141c-4ebb-934a-0a8c25223d15\" xlink:show=\"new\" xlink:title=\"psysml:10e5f196-141c-4ebb-934a-0a8c25223d15\" xlink:type=\"simple\"><rect fill=\"#FEFECE\" filter=\"url(#f18a3n8yuyk08u)\" height=\"42.9375\" id=\"E2\" rx=\"10\" ry=\"10\" style=\"stroke: #A80036; stroke-width: 1.5;\" width=\"50\" x=\"139\" y=\"41\"/><text fill=\"#000000\" font-family=\"sans-serif\" font-size=\"12\" font-style=\"italic\" lengthAdjust=\"spacingAndGlyphs\" textLength=\"41\" x=\"143.5\" y=\"57.1387\">«item»</text><text fill=\"#000000\" font-family=\"sans-serif\" font-size=\"12\" lengthAdjust=\"spacingAndGlyphs\" textLength=\"20\" x=\"154\" y=\"71.1074\">f: A</text></a></g><g id=\"E1.E5\"><a href=\"psysml:3d841289-74ad-422d-b7f3-bdfc719d6361\" target=\"_top\" title=\"psysml:3d841289-74ad-422d-b7f3-bdfc719d6361\" xlink:actuate=\"onRequest\" xlink:href=\"psysml:3d841289-74ad-422d-b7f3-bdfc719d6361\" xlink:show=\"new\" xlink:title=\"psysml:3d841289-74ad-422d-b7f3-bdfc719d6361\" xlink:type=\"simple\"><rect fill=\"#FEFECE\" filter=\"url(#f18a3n8yuyk08u)\" height=\"42.9375\" id=\"E5\" style=\"stroke: #A80036; stroke-width: 1.5;\" width=\"71\" x=\"32.5\" y=\"41\"/><text fill=\"#000000\" font-family=\"sans-serif\" font-size=\"12\" font-style=\"italic\" lengthAdjust=\"spacingAndGlyphs\" textLength=\"64\" x=\"36\" y=\"57.1387\">«part def»</text><text fill=\"#000000\" font-family=\"sans-serif\" font-size=\"12\" lengthAdjust=\"spacingAndGlyphs\" textLength=\"8\" x=\"64\" y=\"71.1074\">C</text></a></g><!--MD5=[8664aa9ed3724ab9f7baba82110a0cc2]\n",
       "@startuml\r\n",
       "skinparam ranksep 10\r\n",
       "skinparam rectangle {\r\n",
       " backgroundColor<<block>> LightGreen\r\n",
       "}\r\n",
       "skinparam wrapWidth 300\r\n",
       "hide circle\r\n",
       "\r\n",
       "package \"ItemTest\" as E1  [[psysml:1bc06463-7392-4b34-87d6-1f1d6784670a ]]  {\r\n",
       "rec usage \"f: A\" as E2  <<(T,blue) item>> [[psysml:10e5f196-141c-4ebb-934a-0a8c25223d15 ]] {\r\n",
       "}\r\n",
       "def \"A\" as E3  <<(T,blue) item def>> [[psysml:d8185bfd-cc57-4585-aec6-0a59765b9e32 ]] \r\n",
       "def \"B\" as E4  <<(T,blue) item def>> [[psysml:cb468909-38eb-4328-9448-1d282e0fd6a5 ]] \r\n",
       "rec def \"C\" as E5  <<(T,blue) part def>> [[psysml:3d841289-74ad-422d-b7f3-bdfc719d6361 ]] {\r\n",
       "}\r\n",
       "def \"P\" as E6  <<(T,blue) port def>> [[psysml:192666b5-43c5-4ec0-a40a-8ab471017ca3 ]] \r\n",
       "}\r\n",
       "@enduml\r\n",
       "\n",
       "PlantUML version 1.2020.13(Sat Jun 13 12:26:38 UTC 2020)\n",
       "(EPL source distribution)\n",
       "Java Runtime: OpenJDK Runtime Environment\n",
       "JVM: OpenJDK 64-Bit Server VM\n",
       "Default Encoding: UTF-8\n",
       "Language: en\n",
       "Country: null\n",
       "--></g></svg>"
      ]
     },
     "execution_count": 26,
     "metadata": {},
     "output_type": "execute_result"
    }
   ],
   "source": [
    "%viz --style=\"STDCOLOR\" --view=\"Interconnection\" \"ItemTest\""
   ]
  },
  {
   "cell_type": "code",
   "execution_count": 27,
   "id": "44acd3e4",
   "metadata": {
    "execution": {
     "iopub.execute_input": "2021-10-03T08:27:28.274173Z",
     "iopub.status.busy": "2021-10-03T08:27:28.273778Z",
     "iopub.status.idle": "2021-10-03T08:27:28.278265Z",
     "shell.execute_reply": "2021-10-03T08:27:28.278576Z"
    }
   },
   "outputs": [
    {
     "data": {
      "image/svg+xml": [
       "<?xml version=\"1.0\" encoding=\"UTF-8\" standalone=\"no\"?><svg xmlns=\"http://www.w3.org/2000/svg\" xmlns:xlink=\"http://www.w3.org/1999/xlink\" contentScriptType=\"application/ecmascript\" contentStyleType=\"text/css\" height=\"12px\" preserveAspectRatio=\"none\" style=\"width:12px;height:12px;\" version=\"1.1\" viewBox=\"0 0 12 12\" width=\"12px\" zoomAndPan=\"magnify\"><defs/><g><!--MD5=[9863325348a96a77dacc89509d8ee65e]\n",
       "@startuml\r\n",
       "skinparam ranksep 8\r\n",
       "skinparam wrapWidth 300\r\n",
       "hide circle\r\n",
       "\r\n",
       "@enduml\r\n",
       "\n",
       "PlantUML version 1.2020.13(Sat Jun 13 12:26:38 UTC 2020)\n",
       "(EPL source distribution)\n",
       "Java Runtime: OpenJDK Runtime Environment\n",
       "JVM: OpenJDK 64-Bit Server VM\n",
       "Default Encoding: UTF-8\n",
       "Language: en\n",
       "Country: null\n",
       "--></g></svg>"
      ]
     },
     "execution_count": 27,
     "metadata": {},
     "output_type": "execute_result"
    }
   ],
   "source": [
    "%viz --style=\"STDCOLOR\" --view=\"Action\" \"ItemTest\""
   ]
  },
  {
   "cell_type": "code",
   "execution_count": 28,
   "id": "cea8932b",
   "metadata": {
    "execution": {
     "iopub.execute_input": "2021-10-03T08:27:28.328282Z",
     "iopub.status.busy": "2021-10-03T08:27:28.327883Z",
     "iopub.status.idle": "2021-10-03T08:27:28.332576Z",
     "shell.execute_reply": "2021-10-03T08:27:28.332885Z"
    }
   },
   "outputs": [
    {
     "data": {
      "image/svg+xml": [
       "<?xml version=\"1.0\" encoding=\"UTF-8\" standalone=\"no\"?><svg xmlns=\"http://www.w3.org/2000/svg\" xmlns:xlink=\"http://www.w3.org/1999/xlink\" contentScriptType=\"application/ecmascript\" contentStyleType=\"text/css\" height=\"12px\" preserveAspectRatio=\"none\" style=\"width:12px;height:12px;\" version=\"1.1\" viewBox=\"0 0 12 12\" width=\"12px\" zoomAndPan=\"magnify\"><defs/><g><!--MD5=[6c4bca67b4d71758159a5a7f1f1e1fc2]\n",
       "@startuml\r\n",
       "skinparam roundcorner 20\r\n",
       "skinparam BoxPadding 20\r\n",
       "skinparam SequenceBoxBackgroundColor #white\r\n",
       "skinparam style strictuml\r\n",
       "skinparam maxMessageSize 100\r\n",
       "skinparam wrapWidth 300\r\n",
       "hide circle\r\n",
       "\r\n",
       "@enduml\r\n",
       "\n",
       "PlantUML version 1.2020.13(Sat Jun 13 12:26:38 UTC 2020)\n",
       "(EPL source distribution)\n",
       "Java Runtime: OpenJDK Runtime Environment\n",
       "JVM: OpenJDK 64-Bit Server VM\n",
       "Default Encoding: UTF-8\n",
       "Language: en\n",
       "Country: null\n",
       "--></g></svg>"
      ]
     },
     "execution_count": 28,
     "metadata": {},
     "output_type": "execute_result"
    }
   ],
   "source": [
    "%viz --style=\"STDCOLOR\" --view=\"Sequence\" \"ItemTest\""
   ]
  },
  {
   "cell_type": "code",
   "execution_count": 29,
   "id": "393e2f42",
   "metadata": {
    "execution": {
     "iopub.execute_input": "2021-10-03T08:27:28.382581Z",
     "iopub.status.busy": "2021-10-03T08:27:28.382190Z",
     "iopub.status.idle": "2021-10-03T08:27:28.429781Z",
     "shell.execute_reply": "2021-10-03T08:27:28.430093Z"
    }
   },
   "outputs": [
    {
     "data": {
      "image/svg+xml": [
       "<?xml version=\"1.0\" encoding=\"UTF-8\" standalone=\"no\"?><svg xmlns=\"http://www.w3.org/2000/svg\" xmlns:xlink=\"http://www.w3.org/1999/xlink\" contentScriptType=\"application/ecmascript\" contentStyleType=\"text/css\" height=\"818px\" preserveAspectRatio=\"none\" style=\"width:270px;height:818px;\" version=\"1.1\" viewBox=\"0 0 270 818\" width=\"270px\" zoomAndPan=\"magnify\"><defs><filter height=\"300%\" id=\"f1s6q7ypvu3uj7\" width=\"300%\" x=\"-1\" y=\"-1\"><feGaussianBlur result=\"blurOut\" stdDeviation=\"2.0\"/><feColorMatrix in=\"blurOut\" result=\"blurOut2\" type=\"matrix\" values=\"0 0 0 0 0 0 0 0 0 0 0 0 0 0 0 0 0 0 .4 0\"/><feOffset dx=\"4.0\" dy=\"4.0\" in=\"blurOut2\" result=\"blurOut3\"/><feBlend in=\"SourceGraphic\" in2=\"blurOut3\" mode=\"normal\"/></filter></defs><g><!--MD5=[fbc87193dbaf4d95561dea2c320d4a47]\n",
       "cluster E1--><a href=\"psysml:1bc06463-7392-4b34-87d6-1f1d6784670a\" target=\"_top\" title=\"psysml:1bc06463-7392-4b34-87d6-1f1d6784670a\" xlink:actuate=\"onRequest\" xlink:href=\"psysml:1bc06463-7392-4b34-87d6-1f1d6784670a\" xlink:show=\"new\" xlink:title=\"psysml:1bc06463-7392-4b34-87d6-1f1d6784670a\" xlink:type=\"simple\"><polygon fill=\"#FFFFFF\" filter=\"url(#f1s6q7ypvu3uj7)\" points=\"16,6,83,6,90,28.2969,248,28.2969,248,806,16,806,16,6\" style=\"stroke: #000000; stroke-width: 1.5;\"/><line style=\"stroke: #000000; stroke-width: 1.5;\" x1=\"16\" x2=\"90\" y1=\"28.2969\" y2=\"28.2969\"/><text fill=\"#000000\" font-family=\"sans-serif\" font-size=\"14\" font-weight=\"bold\" lengthAdjust=\"spacingAndGlyphs\" textLength=\"61\" x=\"20\" y=\"20.9951\">ItemTest</text></a><!--MD5=[b4997ac47864f28c2f74865a473b2911]\n",
       "class E2--><a href=\"psysml:10e5f196-141c-4ebb-934a-0a8c25223d15\" target=\"_top\" title=\"psysml:10e5f196-141c-4ebb-934a-0a8c25223d15\" xlink:actuate=\"onRequest\" xlink:href=\"psysml:10e5f196-141c-4ebb-934a-0a8c25223d15\" xlink:show=\"new\" xlink:title=\"psysml:10e5f196-141c-4ebb-934a-0a8c25223d15\" xlink:type=\"simple\"><rect fill=\"#FEFECE\" filter=\"url(#f1s6q7ypvu3uj7)\" height=\"45.9375\" id=\"E2\" rx=\"10\" ry=\"10\" style=\"stroke: #A80036; stroke-width: 1.5;\" width=\"43\" x=\"188.5\" y=\"148\"/><text fill=\"#000000\" font-family=\"sans-serif\" font-size=\"12\" font-style=\"italic\" lengthAdjust=\"spacingAndGlyphs\" textLength=\"41\" x=\"189.5\" y=\"164.1387\">«item»</text><text fill=\"#000000\" font-family=\"sans-serif\" font-size=\"12\" lengthAdjust=\"spacingAndGlyphs\" textLength=\"20\" x=\"200\" y=\"178.1074\">f: A</text><line style=\"stroke: #A80036; stroke-width: 1.5;\" x1=\"189.5\" x2=\"230.5\" y1=\"185.9375\" y2=\"185.9375\"/></a><!--MD5=[09b614a08d8cba4a07c9adeb5e0fee81]\n",
       "class E3--><a href=\"psysml:d8185bfd-cc57-4585-aec6-0a59765b9e32\" target=\"_top\" title=\"psysml:d8185bfd-cc57-4585-aec6-0a59765b9e32\" xlink:actuate=\"onRequest\" xlink:href=\"psysml:d8185bfd-cc57-4585-aec6-0a59765b9e32\" xlink:show=\"new\" xlink:title=\"psysml:d8185bfd-cc57-4585-aec6-0a59765b9e32\" xlink:type=\"simple\"><rect fill=\"#FEFECE\" filter=\"url(#f1s6q7ypvu3uj7)\" height=\"45.9375\" id=\"E3\" style=\"stroke: #A80036; stroke-width: 1.5;\" width=\"67\" x=\"98.5\" y=\"255\"/><text fill=\"#000000\" font-family=\"sans-serif\" font-size=\"12\" font-style=\"italic\" lengthAdjust=\"spacingAndGlyphs\" textLength=\"65\" x=\"99.5\" y=\"271.1387\">«item def»</text><text fill=\"#000000\" font-family=\"sans-serif\" font-size=\"12\" lengthAdjust=\"spacingAndGlyphs\" textLength=\"8\" x=\"128\" y=\"285.1074\">A</text><line style=\"stroke: #A80036; stroke-width: 1.5;\" x1=\"99.5\" x2=\"164.5\" y1=\"292.9375\" y2=\"292.9375\"/></a><!--MD5=[ebbe1d658d1005bcc118a6aa81145e00]\n",
       "class E4--><a href=\"psysml:867e3ff9-f74d-45bb-974d-3b3d8373197d\" target=\"_top\" title=\"psysml:867e3ff9-f74d-45bb-974d-3b3d8373197d\" xlink:actuate=\"onRequest\" xlink:href=\"psysml:867e3ff9-f74d-45bb-974d-3b3d8373197d\" xlink:show=\"new\" xlink:title=\"psysml:867e3ff9-f74d-45bb-974d-3b3d8373197d\" xlink:type=\"simple\"><rect fill=\"#FEFECE\" filter=\"url(#f1s6q7ypvu3uj7)\" height=\"45.9375\" id=\"E4\" rx=\"10\" ry=\"10\" style=\"stroke: #A80036; stroke-width: 1.5;\" width=\"43\" x=\"45.5\" y=\"438\"/><text fill=\"#000000\" font-family=\"sans-serif\" font-size=\"12\" font-style=\"italic\" lengthAdjust=\"spacingAndGlyphs\" textLength=\"41\" x=\"46.5\" y=\"454.1387\">«item»</text><text fill=\"#000000\" font-family=\"sans-serif\" font-size=\"12\" lengthAdjust=\"spacingAndGlyphs\" textLength=\"24\" x=\"55\" y=\"468.1074\">b: B</text><line style=\"stroke: #A80036; stroke-width: 1.5;\" x1=\"46.5\" x2=\"87.5\" y1=\"475.9375\" y2=\"475.9375\"/></a><!--MD5=[270fce915f116d4de14055a7c1d9a0f3]\n",
       "class E5--><a href=\"psysml:cb0d56cf-7b64-416e-8353-0e76041e55a4\" target=\"_top\" title=\"psysml:cb0d56cf-7b64-416e-8353-0e76041e55a4\" xlink:actuate=\"onRequest\" xlink:href=\"psysml:cb0d56cf-7b64-416e-8353-0e76041e55a4\" xlink:show=\"new\" xlink:title=\"psysml:cb0d56cf-7b64-416e-8353-0e76041e55a4\" xlink:type=\"simple\"><rect fill=\"#FEFECE\" filter=\"url(#f1s6q7ypvu3uj7)\" height=\"45.9375\" id=\"E5\" rx=\"10\" ry=\"10\" style=\"stroke: #A80036; stroke-width: 1.5;\" width=\"42\" x=\"151\" y=\"362\"/><text fill=\"#000000\" font-family=\"sans-serif\" font-size=\"12\" font-style=\"italic\" lengthAdjust=\"spacingAndGlyphs\" textLength=\"40\" x=\"152\" y=\"378.1387\">«part»</text><text fill=\"#000000\" font-family=\"sans-serif\" font-size=\"12\" lengthAdjust=\"spacingAndGlyphs\" textLength=\"23\" x=\"160.5\" y=\"392.1074\">c: C</text><line style=\"stroke: #A80036; stroke-width: 1.5;\" x1=\"152\" x2=\"192\" y1=\"399.9375\" y2=\"399.9375\"/></a><!--MD5=[60a26617385b1d2d0262a64233df1f8d]\n",
       "class E6--><a href=\"psysml:cb468909-38eb-4328-9448-1d282e0fd6a5\" target=\"_top\" title=\"psysml:cb468909-38eb-4328-9448-1d282e0fd6a5\" xlink:actuate=\"onRequest\" xlink:href=\"psysml:cb468909-38eb-4328-9448-1d282e0fd6a5\" xlink:show=\"new\" xlink:title=\"psysml:cb468909-38eb-4328-9448-1d282e0fd6a5\" xlink:type=\"simple\"><rect fill=\"#FEFECE\" filter=\"url(#f1s6q7ypvu3uj7)\" height=\"45.9375\" id=\"E6\" style=\"stroke: #A80036; stroke-width: 1.5;\" width=\"67\" x=\"114.5\" y=\"637\"/><text fill=\"#000000\" font-family=\"sans-serif\" font-size=\"12\" font-style=\"italic\" lengthAdjust=\"spacingAndGlyphs\" textLength=\"65\" x=\"115.5\" y=\"653.1387\">«item def»</text><text fill=\"#000000\" font-family=\"sans-serif\" font-size=\"12\" lengthAdjust=\"spacingAndGlyphs\" textLength=\"8\" x=\"144\" y=\"667.1074\">B</text><line style=\"stroke: #A80036; stroke-width: 1.5;\" x1=\"115.5\" x2=\"180.5\" y1=\"674.9375\" y2=\"674.9375\"/></a><!--MD5=[2156ba9850f5573cc1fc38a6a4b2f02b]\n",
       "class E7--><a href=\"psysml:8d68ea76-8496-4a3a-9bac-3b5e10d4f6d7\" target=\"_top\" title=\"psysml:8d68ea76-8496-4a3a-9bac-3b5e10d4f6d7\" xlink:actuate=\"onRequest\" xlink:href=\"psysml:8d68ea76-8496-4a3a-9bac-3b5e10d4f6d7\" xlink:show=\"new\" xlink:title=\"psysml:8d68ea76-8496-4a3a-9bac-3b5e10d4f6d7\" xlink:type=\"simple\"><rect fill=\"#FEFECE\" filter=\"url(#f1s6q7ypvu3uj7)\" height=\"45.9375\" id=\"E7\" rx=\"10\" ry=\"10\" style=\"stroke: #A80036; stroke-width: 1.5;\" width=\"42\" x=\"159\" y=\"744\"/><text fill=\"#000000\" font-family=\"sans-serif\" font-size=\"12\" font-style=\"italic\" lengthAdjust=\"spacingAndGlyphs\" textLength=\"40\" x=\"160\" y=\"760.1387\">«part»</text><text fill=\"#000000\" font-family=\"sans-serif\" font-size=\"12\" lengthAdjust=\"spacingAndGlyphs\" textLength=\"24\" x=\"168\" y=\"774.1074\">a: A</text><line style=\"stroke: #A80036; stroke-width: 1.5;\" x1=\"160\" x2=\"200\" y1=\"781.9375\" y2=\"781.9375\"/></a><!--MD5=[b9389687b975829384b498ac4b7476b2]\n",
       "class E8--><a href=\"psysml:3d841289-74ad-422d-b7f3-bdfc719d6361\" target=\"_top\" title=\"psysml:3d841289-74ad-422d-b7f3-bdfc719d6361\" xlink:actuate=\"onRequest\" xlink:href=\"psysml:3d841289-74ad-422d-b7f3-bdfc719d6361\" xlink:show=\"new\" xlink:title=\"psysml:3d841289-74ad-422d-b7f3-bdfc719d6361\" xlink:type=\"simple\"><rect fill=\"#FEFECE\" filter=\"url(#f1s6q7ypvu3uj7)\" height=\"45.9375\" id=\"E8\" style=\"stroke: #A80036; stroke-width: 1.5;\" width=\"66\" x=\"115\" y=\"514\"/><text fill=\"#000000\" font-family=\"sans-serif\" font-size=\"12\" font-style=\"italic\" lengthAdjust=\"spacingAndGlyphs\" textLength=\"64\" x=\"116\" y=\"530.1387\">«part def»</text><text fill=\"#000000\" font-family=\"sans-serif\" font-size=\"12\" lengthAdjust=\"spacingAndGlyphs\" textLength=\"8\" x=\"144\" y=\"544.1074\">C</text><line style=\"stroke: #A80036; stroke-width: 1.5;\" x1=\"116\" x2=\"180\" y1=\"551.9375\" y2=\"551.9375\"/></a><!--MD5=[fd4143e9d270a159db93a4ea2a975926]\n",
       "class E9--><a href=\"psysml:192666b5-43c5-4ec0-a40a-8ab471017ca3\" target=\"_top\" title=\"psysml:192666b5-43c5-4ec0-a40a-8ab471017ca3\" xlink:actuate=\"onRequest\" xlink:href=\"psysml:192666b5-43c5-4ec0-a40a-8ab471017ca3\" xlink:show=\"new\" xlink:title=\"psysml:192666b5-43c5-4ec0-a40a-8ab471017ca3\" xlink:type=\"simple\"><rect fill=\"#FEFECE\" filter=\"url(#f1s6q7ypvu3uj7)\" height=\"45.9375\" id=\"E9\" style=\"stroke: #A80036; stroke-width: 1.5;\" width=\"66\" x=\"65\" y=\"41\"/><text fill=\"#000000\" font-family=\"sans-serif\" font-size=\"12\" font-style=\"italic\" lengthAdjust=\"spacingAndGlyphs\" textLength=\"64\" x=\"66\" y=\"57.1387\">«port def»</text><text fill=\"#000000\" font-family=\"sans-serif\" font-size=\"12\" lengthAdjust=\"spacingAndGlyphs\" textLength=\"8\" x=\"94\" y=\"71.1074\">P</text><line style=\"stroke: #A80036; stroke-width: 1.5;\" x1=\"66\" x2=\"130\" y1=\"78.9375\" y2=\"78.9375\"/></a><!--MD5=[96f4274e9e20536e775497830990834d]\n",
       "class E10--><a href=\"psysml:a2436968-c74d-4c9f-bf2a-127bcc502b4e\" target=\"_top\" title=\"psysml:a2436968-c74d-4c9f-bf2a-127bcc502b4e\" xlink:actuate=\"onRequest\" xlink:href=\"psysml:a2436968-c74d-4c9f-bf2a-127bcc502b4e\" xlink:show=\"new\" xlink:title=\"psysml:a2436968-c74d-4c9f-bf2a-127bcc502b4e\" xlink:type=\"simple\"><rect fill=\"#FEFECE\" filter=\"url(#f1s6q7ypvu3uj7)\" height=\"45.9375\" id=\"E10\" rx=\"10\" ry=\"10\" style=\"stroke: #A80036; stroke-width: 1.5;\" width=\"43\" x=\"32.5\" y=\"148\"/><text fill=\"#000000\" font-family=\"sans-serif\" font-size=\"12\" font-style=\"italic\" lengthAdjust=\"spacingAndGlyphs\" textLength=\"41\" x=\"33.5\" y=\"164.1387\">«item»</text><text fill=\"#000000\" font-family=\"sans-serif\" font-size=\"12\" lengthAdjust=\"spacingAndGlyphs\" textLength=\"32\" x=\"38\" y=\"178.1074\">a1: A</text><line style=\"stroke: #A80036; stroke-width: 1.5;\" x1=\"33.5\" x2=\"74.5\" y1=\"185.9375\" y2=\"185.9375\"/></a><!--MD5=[1dd1bfd58a279cf63c5f349dbc8fc6a1]\n",
       "class E11--><a href=\"psysml:6388cc28-f9be-476c-ad05-d9ff93971fbb\" target=\"_top\" title=\"psysml:6388cc28-f9be-476c-ad05-d9ff93971fbb\" xlink:actuate=\"onRequest\" xlink:href=\"psysml:6388cc28-f9be-476c-ad05-d9ff93971fbb\" xlink:show=\"new\" xlink:title=\"psysml:6388cc28-f9be-476c-ad05-d9ff93971fbb\" xlink:type=\"simple\"><rect fill=\"#FEFECE\" filter=\"url(#f1s6q7ypvu3uj7)\" height=\"45.9375\" id=\"E11\" rx=\"10\" ry=\"10\" style=\"stroke: #A80036; stroke-width: 1.5;\" width=\"43\" x=\"110.5\" y=\"148\"/><text fill=\"#000000\" font-family=\"sans-serif\" font-size=\"12\" font-style=\"italic\" lengthAdjust=\"spacingAndGlyphs\" textLength=\"41\" x=\"111.5\" y=\"164.1387\">«item»</text><text fill=\"#000000\" font-family=\"sans-serif\" font-size=\"12\" lengthAdjust=\"spacingAndGlyphs\" textLength=\"32\" x=\"116\" y=\"178.1074\">a2: A</text><line style=\"stroke: #A80036; stroke-width: 1.5;\" x1=\"111.5\" x2=\"152.5\" y1=\"185.9375\" y2=\"185.9375\"/></a><!--MD5=[2720a5a1f2c3fca2055b230370638851]\n",
       "link E2 to E3--><a href=\"psysml:24dbd283-1078-40f8-9dda-86d7de7bac74\" target=\"_top\" title=\"psysml:24dbd283-1078-40f8-9dda-86d7de7bac74\" xlink:actuate=\"onRequest\" xlink:href=\"psysml:24dbd283-1078-40f8-9dda-86d7de7bac74\" xlink:show=\"new\" xlink:title=\"psysml:24dbd283-1078-40f8-9dda-86d7de7bac74\" xlink:type=\"simple\"><path d=\"M193.65,194.01 C184.14,206.81 171.89,223.3 160.82,238.2 \" fill=\"none\" id=\"E2-&gt;E3\" style=\"stroke: #A80036; stroke-width: 1.0;\"/><polygon fill=\"#FFFFFF\" points=\"148.6,254.66,154.3195,235.2361,165.5543,243.5896,148.6,254.66\" style=\"stroke: #A80036; stroke-width: 1.0;\"/><ellipse cx=\"159.3256\" cy=\"231.8554\" fill=\"#A80036\" rx=\"2\" ry=\"2\" style=\"stroke: #A80036; stroke-width: 1.0;\"/><ellipse cx=\"167.3504\" cy=\"237.8221\" fill=\"#A80036\" rx=\"2\" ry=\"2\" style=\"stroke: #A80036; stroke-width: 1.0;\"/></a><!--MD5=[4672eba38e49728da53d11aeb285b987]\n",
       "reverse link E3 to E4--><a href=\"psysml:9f51e7d9-1020-406a-8433-de0298038040\" target=\"_top\" title=\"psysml:9f51e7d9-1020-406a-8433-de0298038040\" xlink:actuate=\"onRequest\" xlink:href=\"psysml:9f51e7d9-1020-406a-8433-de0298038040\" xlink:show=\"new\" xlink:title=\"psysml:9f51e7d9-1020-406a-8433-de0298038040\" xlink:type=\"simple\"><path d=\"M97.11,310.9 C84.08,325.11 70.81,342.94 64,362 C55.12,386.85 58.09,417.53 61.82,437.88 \" fill=\"none\" id=\"E3&lt;-E4\" style=\"stroke: #A80036; stroke-width: 1.0;\"/><polygon fill=\"#A80036\" points=\"106.46,301.23,99.4153,302.7703,98.1277,309.8655,105.1724,308.3252,106.46,301.23\" style=\"stroke: #A80036; stroke-width: 1.0;\"/><text fill=\"#000000\" font-family=\"sans-serif\" font-size=\"13\" lengthAdjust=\"spacingAndGlyphs\" textLength=\"8\" x=\"51.3529\" y=\"426.744\">1</text></a><!--MD5=[191cde3d490a3f6d7bb551fe3ddca469]\n",
       "reverse link E3 to E5--><a href=\"psysml:7a936c29-0528-4da5-855d-3be7e5f4e113\" target=\"_top\" title=\"psysml:7a936c29-0528-4da5-855d-3be7e5f4e113\" xlink:actuate=\"onRequest\" xlink:href=\"psysml:7a936c29-0528-4da5-855d-3be7e5f4e113\" xlink:show=\"new\" xlink:title=\"psysml:7a936c29-0528-4da5-855d-3be7e5f4e113\" xlink:type=\"simple\"><path d=\"M145.17,313.57 C151.2,329.39 158.16,347.68 163.49,361.66 \" fill=\"none\" id=\"E3&lt;-E5\" style=\"stroke: #A80036; stroke-width: 1.0;\"/><polygon fill=\"#FFFFFF\" points=\"140.39,301.01,138.7866,308.0406,144.6598,312.2247,146.2631,305.1941,140.39,301.01\" style=\"stroke: #A80036; stroke-width: 1.0;\"/><text fill=\"#000000\" font-family=\"sans-serif\" font-size=\"13\" lengthAdjust=\"spacingAndGlyphs\" textLength=\"8\" x=\"152.2843\" y=\"350.8492\">1</text></a><!--MD5=[79568f1e445c3877b6a54524624ccc7d]\n",
       "link E4 to E6--><a href=\"psysml:860f4e4a-475c-4d3a-a05e-585111d40739\" target=\"_top\" title=\"psysml:860f4e4a-475c-4d3a-a05e-585111d40739\" xlink:actuate=\"onRequest\" xlink:href=\"psysml:860f4e4a-475c-4d3a-a05e-585111d40739\" xlink:show=\"new\" xlink:title=\"psysml:860f4e4a-475c-4d3a-a05e-585111d40739\" xlink:type=\"simple\"><path d=\"M72.9,484.16 C78.52,504.26 87.63,534.55 98,560 C106.11,579.9 116.66,601.27 125.97,619.04 \" fill=\"none\" id=\"E4-&gt;E6\" style=\"stroke: #A80036; stroke-width: 1.0;\"/><polygon fill=\"#FFFFFF\" points=\"135.42,636.68,120.2696,623.2463,132.6064,616.628,135.42,636.68\" style=\"stroke: #A80036; stroke-width: 1.0;\"/><ellipse cx=\"119.3374\" cy=\"617.2779\" fill=\"#A80036\" rx=\"2\" ry=\"2\" style=\"stroke: #A80036; stroke-width: 1.0;\"/><ellipse cx=\"128.1494\" cy=\"612.5506\" fill=\"#A80036\" rx=\"2\" ry=\"2\" style=\"stroke: #A80036; stroke-width: 1.0;\"/></a><!--MD5=[3f50a3473f1dfb74d3f76443e03635af]\n",
       "reverse link E6 to E7--><a href=\"psysml:01396c82-09da-45aa-ba0c-a7dad5741ff2\" target=\"_top\" title=\"psysml:01396c82-09da-45aa-ba0c-a7dad5741ff2\" xlink:actuate=\"onRequest\" xlink:href=\"psysml:01396c82-09da-45aa-ba0c-a7dad5741ff2\" xlink:show=\"new\" xlink:title=\"psysml:01396c82-09da-45aa-ba0c-a7dad5741ff2\" xlink:type=\"simple\"><path d=\"M158.54,695.57 C163.36,711.39 168.93,729.68 173.19,743.66 \" fill=\"none\" id=\"E6&lt;-E7\" style=\"stroke: #A80036; stroke-width: 1.0;\"/><polygon fill=\"#A80036\" points=\"154.71,683.01,152.6319,689.9152,158.2066,694.4893,160.2847,687.5841,154.71,683.01\" style=\"stroke: #A80036; stroke-width: 1.0;\"/><text fill=\"#000000\" font-family=\"sans-serif\" font-size=\"13\" lengthAdjust=\"spacingAndGlyphs\" textLength=\"8\" x=\"162.4199\" y=\"732.8492\">1</text></a><!--MD5=[14ccda38c055a5c0da953d572bc50960]\n",
       "link E7 to E3--><a href=\"psysml:d97708ca-1830-4e5e-bf07-a2aabe0546e8\" target=\"_top\" title=\"psysml:d97708ca-1830-4e5e-bf07-a2aabe0546e8\" xlink:actuate=\"onRequest\" xlink:href=\"psysml:d97708ca-1830-4e5e-bf07-a2aabe0546e8\" xlink:show=\"new\" xlink:title=\"psysml:d97708ca-1830-4e5e-bf07-a2aabe0546e8\" xlink:type=\"simple\"><path d=\"M197.41,743.63 C211.5,723.27 229,691.78 229,661 C229,384 229,384 229,384 C229,353 205.9,327.25 182.25,309.01 \" fill=\"none\" id=\"E7-&gt;E3\" style=\"stroke: #A80036; stroke-width: 1.0;\"/><polygon fill=\"#FFFFFF\" points=\"165.65,297.35,185.219,302.5513,177.1671,314.004,165.65,297.35\" style=\"stroke: #A80036; stroke-width: 1.0;\"/><ellipse cx=\"188.7317\" cy=\"307.4657\" fill=\"#A80036\" rx=\"2\" ry=\"2\" style=\"stroke: #A80036; stroke-width: 1.0;\"/><ellipse cx=\"182.9803\" cy=\"315.6462\" fill=\"#A80036\" rx=\"2\" ry=\"2\" style=\"stroke: #A80036; stroke-width: 1.0;\"/></a><!--MD5=[dfaffb906826c3e5aca635516100ff21]\n",
       "link E5 to E8--><a href=\"psysml:75f754af-bdfa-473b-8cbb-d11c609ad500\" target=\"_top\" title=\"psysml:75f754af-bdfa-473b-8cbb-d11c609ad500\" xlink:actuate=\"onRequest\" xlink:href=\"psysml:75f754af-bdfa-473b-8cbb-d11c609ad500\" xlink:show=\"new\" xlink:title=\"psysml:75f754af-bdfa-473b-8cbb-d11c609ad500\" xlink:type=\"simple\"><path d=\"M168.46,408.13 C164.86,430.62 159.2,466.01 154.74,493.87 \" fill=\"none\" id=\"E5-&gt;E8\" style=\"stroke: #A80036; stroke-width: 1.0;\"/><polygon fill=\"#FFFFFF\" points=\"151.56,513.78,147.6458,493.9135,161.4704,496.1226,151.56,513.78\" style=\"stroke: #A80036; stroke-width: 1.0;\"/><ellipse cx=\"150.5202\" cy=\"488.6005\" fill=\"#A80036\" rx=\"2\" ry=\"2\" style=\"stroke: #A80036; stroke-width: 1.0;\"/><ellipse cx=\"160.3949\" cy=\"490.1784\" fill=\"#A80036\" rx=\"2\" ry=\"2\" style=\"stroke: #A80036; stroke-width: 1.0;\"/></a><!--MD5=[03c8294790d3c57651a1993cecff665f]\n",
       "reverse link E8 to E3--><a href=\"psysml:aa35edca-3910-4cd9-97ff-300d5c8627fc\" target=\"_top\" title=\"psysml:aa35edca-3910-4cd9-97ff-300d5c8627fc\" xlink:actuate=\"onRequest\" xlink:href=\"psysml:aa35edca-3910-4cd9-97ff-300d5c8627fc\" xlink:show=\"new\" xlink:title=\"psysml:aa35edca-3910-4cd9-97ff-300d5c8627fc\" xlink:type=\"simple\"><path d=\"M140.02,501.22 C134.57,475.6 127.84,439.84 125,408 C123.18,387.64 124.14,382.43 125,362 C125.87,341.34 127.95,317.86 129.62,301.16 \" fill=\"none\" id=\"E8&lt;-E3\" style=\"stroke: #A80036; stroke-width: 1.0;\"/><polygon fill=\"#FFFFFF\" points=\"142.81,513.96,145.4388,507.2451,140.2515,502.2359,137.6227,508.9508,142.81,513.96\" style=\"stroke: #A80036; stroke-width: 1.0;\"/><text fill=\"#000000\" font-family=\"sans-serif\" font-size=\"13\" lengthAdjust=\"spacingAndGlyphs\" textLength=\"7\" x=\"126\" y=\"389.5669\">y</text></a><!--MD5=[0d75d2178373a6a4568e5dc728f58aef]\n",
       "reverse link E8 to E6--><a href=\"psysml:aa35edca-3910-4cd9-97ff-300d5c8627fc\" target=\"_top\" title=\"psysml:aa35edca-3910-4cd9-97ff-300d5c8627fc\" xlink:actuate=\"onRequest\" xlink:href=\"psysml:aa35edca-3910-4cd9-97ff-300d5c8627fc\" xlink:show=\"new\" xlink:title=\"psysml:aa35edca-3910-4cd9-97ff-300d5c8627fc\" xlink:type=\"simple\"><path d=\"M148,573.22 C148,593.81 148,619.16 148,636.95 \" fill=\"none\" id=\"E8&lt;-E6\" style=\"stroke: #A80036; stroke-width: 1.0;\"/><polygon fill=\"#FFFFFF\" points=\"148,560.19,144,566.19,148,572.19,152,566.19,148,560.19\" style=\"stroke: #A80036; stroke-width: 1.0;\"/><text fill=\"#000000\" font-family=\"sans-serif\" font-size=\"13\" lengthAdjust=\"spacingAndGlyphs\" textLength=\"7\" x=\"149\" y=\"603.0669\">y</text></a><!--MD5=[23ac544a70576c3e717098101004234c]\n",
       "reverse link E9 to E10--><a href=\"psysml:cf1da376-637e-4400-b815-716d62b1c417\" target=\"_top\" title=\"psysml:cf1da376-637e-4400-b815-716d62b1c417\" xlink:actuate=\"onRequest\" xlink:href=\"psysml:cf1da376-637e-4400-b815-716d62b1c417\" xlink:show=\"new\" xlink:title=\"psysml:cf1da376-637e-4400-b815-716d62b1c417\" xlink:type=\"simple\"><path d=\"M83.71,99.1 C77.04,115.03 69.28,133.54 63.36,147.66 \" fill=\"none\" id=\"E9&lt;-E10\" style=\"stroke: #A80036; stroke-width: 1.0;\"/><polygon fill=\"#FFFFFF\" points=\"88.78,87.01,82.7702,90.9953,84.1375,98.0756,90.1473,94.0903,88.78,87.01\" style=\"stroke: #A80036; stroke-width: 1.0;\"/><text fill=\"#000000\" font-family=\"sans-serif\" font-size=\"13\" lengthAdjust=\"spacingAndGlyphs\" textLength=\"8\" x=\"56.7335\" y=\"136.8492\">1</text></a><!--MD5=[feeac5eb423634930294aa81f2d25a4c]\n",
       "link E10 to E3--><a href=\"psysml:4cf35cfc-841e-4847-875d-1ebad6bb61b9\" target=\"_top\" title=\"psysml:4cf35cfc-841e-4847-875d-1ebad6bb61b9\" xlink:actuate=\"onRequest\" xlink:href=\"psysml:4cf35cfc-841e-4847-875d-1ebad6bb61b9\" xlink:show=\"new\" xlink:title=\"psysml:4cf35cfc-841e-4847-875d-1ebad6bb61b9\" xlink:type=\"simple\"><path d=\"M70.35,194.01 C79.86,206.81 92.11,223.3 103.18,238.2 \" fill=\"none\" id=\"E10-&gt;E3\" style=\"stroke: #A80036; stroke-width: 1.0;\"/><polygon fill=\"#FFFFFF\" points=\"115.4,254.66,98.4457,243.5896,109.6805,235.2361,115.4,254.66\" style=\"stroke: #A80036; stroke-width: 1.0;\"/><ellipse cx=\"96.6496\" cy=\"237.8221\" fill=\"#A80036\" rx=\"2\" ry=\"2\" style=\"stroke: #A80036; stroke-width: 1.0;\"/><ellipse cx=\"104.6744\" cy=\"231.8554\" fill=\"#A80036\" rx=\"2\" ry=\"2\" style=\"stroke: #A80036; stroke-width: 1.0;\"/></a><!--MD5=[1fc04a95fd77ad5ce46c1a3027516051]\n",
       "reverse link E9 to E11--><a href=\"psysml:bd05daaf-8002-489d-bbfa-6134af678ace\" target=\"_top\" title=\"psysml:bd05daaf-8002-489d-bbfa-6134af678ace\" xlink:actuate=\"onRequest\" xlink:href=\"psysml:bd05daaf-8002-489d-bbfa-6134af678ace\" xlink:show=\"new\" xlink:title=\"psysml:bd05daaf-8002-489d-bbfa-6134af678ace\" xlink:type=\"simple\"><path d=\"M109.19,99.57 C114.32,115.39 120.24,133.68 124.76,147.66 \" fill=\"none\" id=\"E9&lt;-E11\" style=\"stroke: #A80036; stroke-width: 1.0;\"/><polygon fill=\"#FFFFFF\" points=\"105.13,87.01,103.1699,93.9496,108.8217,98.428,110.7819,91.4884,105.13,87.01\" style=\"stroke: #A80036; stroke-width: 1.0;\"/><text fill=\"#000000\" font-family=\"sans-serif\" font-size=\"13\" lengthAdjust=\"spacingAndGlyphs\" textLength=\"8\" x=\"113.8798\" y=\"136.8492\">1</text></a><!--MD5=[0517f1ce58c4d5483948f93845c45e26]\n",
       "link E11 to E3--><a href=\"psysml:31e39f64-1f8d-4b2c-be98-c1459e5d6e94\" target=\"_top\" title=\"psysml:31e39f64-1f8d-4b2c-be98-c1459e5d6e94\" xlink:actuate=\"onRequest\" xlink:href=\"psysml:31e39f64-1f8d-4b2c-be98-c1459e5d6e94\" xlink:show=\"new\" xlink:title=\"psysml:31e39f64-1f8d-4b2c-be98-c1459e5d6e94\" xlink:type=\"simple\"><path d=\"M132,194.01 C132,205.69 132,220.46 132,234.28 \" fill=\"none\" id=\"E11-&gt;E3\" style=\"stroke: #A80036; stroke-width: 1.0;\"/><polygon fill=\"#FFFFFF\" points=\"132,254.66,125,235.66,139,235.66,132,254.66\" style=\"stroke: #A80036; stroke-width: 1.0;\"/><ellipse cx=\"127\" cy=\"229.96\" fill=\"#A80036\" rx=\"2\" ry=\"2\" style=\"stroke: #A80036; stroke-width: 1.0;\"/><ellipse cx=\"137\" cy=\"229.96\" fill=\"#A80036\" rx=\"2\" ry=\"2\" style=\"stroke: #A80036; stroke-width: 1.0;\"/></a><!--MD5=[9b2ca49fc40e4e6ba62169996a0c5125]\n",
       "@startuml\r\n",
       "skinparam wrapWidth 300\r\n",
       "hide circle\r\n",
       "\r\n",
       "package \"ItemTest\" as E1  [[psysml:1bc06463-7392-4b34-87d6-1f1d6784670a ]]  {\r\n",
       "comp usage \"f: A\" as E2  <<(T,blue) item>> [[psysml:10e5f196-141c-4ebb-934a-0a8c25223d15 ]] {\r\n",
       "}\r\n",
       "comp def \"A\" as E3  <<(T,blue) item def>> [[psysml:d8185bfd-cc57-4585-aec6-0a59765b9e32 ]] {\r\n",
       "}\r\n",
       "comp usage \"b: B\" as E4  <<(T,blue) item>> [[psysml:867e3ff9-f74d-45bb-974d-3b3d8373197d ]] {\r\n",
       "}\r\n",
       "comp usage \"c: C\" as E5  <<(T,blue) part>> [[psysml:cb0d56cf-7b64-416e-8353-0e76041e55a4 ]] {\r\n",
       "}\r\n",
       "comp def \"B\" as E6  <<(T,blue) item def>> [[psysml:cb468909-38eb-4328-9448-1d282e0fd6a5 ]] {\r\n",
       "}\r\n",
       "comp usage \"a: A\" as E7  <<(T,blue) part>> [[psysml:8d68ea76-8496-4a3a-9bac-3b5e10d4f6d7 ]] {\r\n",
       "}\r\n",
       "comp def \"C\" as E8  <<(T,blue) part def>> [[psysml:3d841289-74ad-422d-b7f3-bdfc719d6361 ]] {\r\n",
       "}\r\n",
       "comp def \"P\" as E9  <<(T,blue) port def>> [[psysml:192666b5-43c5-4ec0-a40a-8ab471017ca3 ]] {\r\n",
       "}\r\n",
       "comp usage \"a1: A\" as E10  <<(T,blue) item>> [[psysml:a2436968-c74d-4c9f-bf2a-127bcc502b4e ]] {\r\n",
       "}\r\n",
       "comp usage \"a2: A\" as E11  <<(T,blue) item>> [[psysml:6388cc28-f9be-476c-ad05-d9ff93971fbb ]] {\r\n",
       "}\r\n",
       "}\r\n",
       "E2 - -:|> E3 [[psysml:24dbd283-1078-40f8-9dda-86d7de7bac74 ]] \r\n",
       "E3 *- - \"1\"E4 [[psysml:9f51e7d9-1020-406a-8433-de0298038040 ]] \r\n",
       "E3 o- - \"1\"E5 [[psysml:7a936c29-0528-4da5-855d-3be7e5f4e113 ]] \r\n",
       "E4 - -:|> E6 [[psysml:860f4e4a-475c-4d3a-a05e-585111d40739 ]] \r\n",
       "E6 *- - \"1\"E7 [[psysml:01396c82-09da-45aa-ba0c-a7dad5741ff2 ]] \r\n",
       "E7 - -:|> E3 [[psysml:d97708ca-1830-4e5e-bf07-a2aabe0546e8 ]] \r\n",
       "E5 - -:|> E8 [[psysml:75f754af-bdfa-473b-8cbb-d11c609ad500 ]] \r\n",
       "E8 o- - E3 [[psysml:aa35edca-3910-4cd9-97ff-300d5c8627fc ]] : y\r\n",
       "E8 o- - E6 [[psysml:aa35edca-3910-4cd9-97ff-300d5c8627fc ]] : y\r\n",
       "E9 o- - \"1\"E10 [[psysml:cf1da376-637e-4400-b815-716d62b1c417 ]] \r\n",
       "E10 - -:|> E3 [[psysml:4cf35cfc-841e-4847-875d-1ebad6bb61b9 ]] \r\n",
       "E9 o- - \"1\"E11 [[psysml:bd05daaf-8002-489d-bbfa-6134af678ace ]] \r\n",
       "E11 - -:|> E3 [[psysml:31e39f64-1f8d-4b2c-be98-c1459e5d6e94 ]] \r\n",
       "@enduml\r\n",
       "\n",
       "PlantUML version 1.2020.13(Sat Jun 13 12:26:38 UTC 2020)\n",
       "(EPL source distribution)\n",
       "Java Runtime: OpenJDK Runtime Environment\n",
       "JVM: OpenJDK 64-Bit Server VM\n",
       "Default Encoding: UTF-8\n",
       "Language: en\n",
       "Country: null\n",
       "--></g></svg>"
      ]
     },
     "execution_count": 29,
     "metadata": {},
     "output_type": "execute_result"
    }
   ],
   "source": [
    "%viz --style=\"STDCOLOR\" --view=\"MIXED\" \"ItemTest\""
   ]
  },
  {
   "cell_type": "code",
   "execution_count": 30,
   "id": "fe4691bc",
   "metadata": {
    "execution": {
     "iopub.execute_input": "2021-10-03T08:27:28.479476Z",
     "iopub.status.busy": "2021-10-03T08:27:28.479083Z",
     "iopub.status.idle": "2021-10-03T08:27:28.548802Z",
     "shell.execute_reply": "2021-10-03T08:27:28.546803Z"
    }
   },
   "outputs": [
    {
     "data": {
      "image/svg+xml": [
       "<?xml version=\"1.0\" encoding=\"UTF-8\" standalone=\"no\"?><svg xmlns=\"http://www.w3.org/2000/svg\" xmlns:xlink=\"http://www.w3.org/1999/xlink\" contentScriptType=\"application/ecmascript\" contentStyleType=\"text/css\" height=\"788px\" preserveAspectRatio=\"none\" style=\"width:320px;height:788px;\" version=\"1.1\" viewBox=\"0 0 320 788\" width=\"320px\" zoomAndPan=\"magnify\"><defs><filter height=\"300%\" id=\"flt07tj6nsm25\" width=\"300%\" x=\"-1\" y=\"-1\"><feGaussianBlur result=\"blurOut\" stdDeviation=\"2.0\"/><feColorMatrix in=\"blurOut\" result=\"blurOut2\" type=\"matrix\" values=\"0 0 0 0 0 0 0 0 0 0 0 0 0 0 0 0 0 0 .4 0\"/><feOffset dx=\"4.0\" dy=\"4.0\" in=\"blurOut2\" result=\"blurOut3\"/><feBlend in=\"SourceGraphic\" in2=\"blurOut3\" mode=\"normal\"/></filter></defs><g><!--MD5=[fbc87193dbaf4d95561dea2c320d4a47]\n",
       "cluster E1--><a href=\"psysml:1bc06463-7392-4b34-87d6-1f1d6784670a\" target=\"_top\" title=\"psysml:1bc06463-7392-4b34-87d6-1f1d6784670a\" xlink:actuate=\"onRequest\" xlink:href=\"psysml:1bc06463-7392-4b34-87d6-1f1d6784670a\" xlink:show=\"new\" xlink:title=\"psysml:1bc06463-7392-4b34-87d6-1f1d6784670a\" xlink:type=\"simple\"><polygon fill=\"#FFFFFF\" filter=\"url(#flt07tj6nsm25)\" points=\"16,6,83,6,90,28.2969,298,28.2969,298,776,16,776,16,6\" style=\"stroke: #000000; stroke-width: 1.5;\"/><line style=\"stroke: #000000; stroke-width: 1.5;\" x1=\"16\" x2=\"90\" y1=\"28.2969\" y2=\"28.2969\"/><text fill=\"#000000\" font-family=\"sans-serif\" font-size=\"14\" font-weight=\"bold\" lengthAdjust=\"spacingAndGlyphs\" textLength=\"61\" x=\"20\" y=\"20.9951\">ItemTest</text></a><!--MD5=[b4997ac47864f28c2f74865a473b2911]\n",
       "class E2--><a href=\"psysml:10e5f196-141c-4ebb-934a-0a8c25223d15\" target=\"_top\" title=\"psysml:10e5f196-141c-4ebb-934a-0a8c25223d15\" xlink:actuate=\"onRequest\" xlink:href=\"psysml:10e5f196-141c-4ebb-934a-0a8c25223d15\" xlink:show=\"new\" xlink:title=\"psysml:10e5f196-141c-4ebb-934a-0a8c25223d15\" xlink:type=\"simple\"><rect fill=\"#FEFECE\" filter=\"url(#flt07tj6nsm25)\" height=\"40\" id=\"E2\" rx=\"10\" ry=\"10\" style=\"stroke: #A80036; stroke-width: 1.5;\" width=\"52\" x=\"230\" y=\"148\"/><ellipse cx=\"245\" cy=\"164\" fill=\"#32CD32\" rx=\"11\" ry=\"11\" style=\"stroke: #A80036; stroke-width: 1.0;\"/><path d=\"M241.8125,169 L241.8125,158.4063 L245.4219,158.4063 Q246.6406,158.4063 247.4375,158.8438 Q248.2344,159.2656 248.6094,159.9688 Q249,160.6719 249,161.5156 Q249,162.3594 248.625,163.0469 Q248.2656,163.7344 247.4688,164.1563 Q246.6875,164.5625 245.5,164.5625 L243.7656,164.5625 L243.7656,169 L241.8125,169 Z M243.7656,162.9688 L245.375,162.9688 Q246.1875,162.9688 246.6094,162.5625 Q247.0313,162.1563 247.0313,161.5156 Q247.0313,160.8906 246.6094,160.4844 Q246.1875,160.0781 245.3906,160.0781 L243.7656,160.0781 L243.7656,162.9688 Z \"/><text fill=\"#000000\" font-family=\"sans-serif\" font-size=\"12\" lengthAdjust=\"spacingAndGlyphs\" textLength=\"20\" x=\"259\" y=\"168.1543\">f: A</text><line style=\"stroke: #A80036; stroke-width: 1.5;\" x1=\"231\" x2=\"281\" y1=\"180\" y2=\"180\"/></a><!--MD5=[09b614a08d8cba4a07c9adeb5e0fee81]\n",
       "class E3--><a href=\"psysml:d8185bfd-cc57-4585-aec6-0a59765b9e32\" target=\"_top\" title=\"psysml:d8185bfd-cc57-4585-aec6-0a59765b9e32\" xlink:actuate=\"onRequest\" xlink:href=\"psysml:d8185bfd-cc57-4585-aec6-0a59765b9e32\" xlink:show=\"new\" xlink:title=\"psysml:d8185bfd-cc57-4585-aec6-0a59765b9e32\" xlink:type=\"simple\"><rect fill=\"#FEFECE\" filter=\"url(#flt07tj6nsm25)\" height=\"40\" id=\"E3\" style=\"stroke: #A80036; stroke-width: 1.5;\" width=\"40\" x=\"143\" y=\"249\"/><ellipse cx=\"158\" cy=\"265\" fill=\"#008000\" rx=\"11\" ry=\"11\" style=\"stroke: #A80036; stroke-width: 1.0;\"/><path d=\"M154.875,270 L154.875,259.4063 L158.1094,259.4063 Q160.0156,259.4063 160.9219,260.1563 Q161.8438,260.9063 161.8438,262.0781 Q161.8438,262.7656 161.4531,263.4219 Q161.0781,264.0781 160.3594,264.375 Q161.2188,264.75 161.7344,265.4375 Q162.25,266.125 162.25,266.9375 Q162.25,268.3125 161.2188,269.1563 Q160.2031,270 158.0938,270 L154.875,270 Z M156.7969,263.6406 L157.9531,263.6406 Q159.0781,263.6406 159.4844,263.2656 Q159.9063,262.875 159.9063,262.25 Q159.9063,261.6719 159.4844,261.3125 Q159.0625,260.9531 158.125,260.9531 L156.7969,260.9531 L156.7969,263.6406 Z M156.7969,268.4219 L158.2969,268.4219 Q159.2031,268.4219 159.7344,268.0313 Q160.2656,267.6406 160.2656,266.8906 Q160.2656,266.125 159.7656,265.6563 Q159.2656,265.1719 158,265.1719 L156.7969,265.1719 L156.7969,268.4219 Z \"/><text fill=\"#000000\" font-family=\"sans-serif\" font-size=\"12\" lengthAdjust=\"spacingAndGlyphs\" textLength=\"8\" x=\"172\" y=\"269.1543\">A</text><line style=\"stroke: #A80036; stroke-width: 1.5;\" x1=\"144\" x2=\"182\" y1=\"281\" y2=\"281\"/></a><!--MD5=[ebbe1d658d1005bcc118a6aa81145e00]\n",
       "class E4--><a href=\"psysml:867e3ff9-f74d-45bb-974d-3b3d8373197d\" target=\"_top\" title=\"psysml:867e3ff9-f74d-45bb-974d-3b3d8373197d\" xlink:actuate=\"onRequest\" xlink:href=\"psysml:867e3ff9-f74d-45bb-974d-3b3d8373197d\" xlink:show=\"new\" xlink:title=\"psysml:867e3ff9-f74d-45bb-974d-3b3d8373197d\" xlink:type=\"simple\"><rect fill=\"#FEFECE\" filter=\"url(#flt07tj6nsm25)\" height=\"40\" id=\"E4\" rx=\"10\" ry=\"10\" style=\"stroke: #A80036; stroke-width: 1.5;\" width=\"56\" x=\"46\" y=\"426\"/><ellipse cx=\"61\" cy=\"442\" fill=\"#32CD32\" rx=\"11\" ry=\"11\" style=\"stroke: #A80036; stroke-width: 1.0;\"/><path d=\"M57.8125,447 L57.8125,436.4063 L61.4219,436.4063 Q62.6406,436.4063 63.4375,436.8438 Q64.2344,437.2656 64.6094,437.9688 Q65,438.6719 65,439.5156 Q65,440.3594 64.625,441.0469 Q64.2656,441.7344 63.4688,442.1563 Q62.6875,442.5625 61.5,442.5625 L59.7656,442.5625 L59.7656,447 L57.8125,447 Z M59.7656,440.9688 L61.375,440.9688 Q62.1875,440.9688 62.6094,440.5625 Q63.0313,440.1563 63.0313,439.5156 Q63.0313,438.8906 62.6094,438.4844 Q62.1875,438.0781 61.3906,438.0781 L59.7656,438.0781 L59.7656,440.9688 Z \"/><text fill=\"#000000\" font-family=\"sans-serif\" font-size=\"12\" lengthAdjust=\"spacingAndGlyphs\" textLength=\"24\" x=\"75\" y=\"446.1543\">b: B</text><line style=\"stroke: #A80036; stroke-width: 1.5;\" x1=\"47\" x2=\"101\" y1=\"458\" y2=\"458\"/></a><!--MD5=[270fce915f116d4de14055a7c1d9a0f3]\n",
       "class E5--><a href=\"psysml:cb0d56cf-7b64-416e-8353-0e76041e55a4\" target=\"_top\" title=\"psysml:cb0d56cf-7b64-416e-8353-0e76041e55a4\" xlink:actuate=\"onRequest\" xlink:href=\"psysml:cb0d56cf-7b64-416e-8353-0e76041e55a4\" xlink:show=\"new\" xlink:title=\"psysml:cb0d56cf-7b64-416e-8353-0e76041e55a4\" xlink:type=\"simple\"><rect fill=\"#FEFECE\" filter=\"url(#flt07tj6nsm25)\" height=\"45.9375\" id=\"E5\" rx=\"10\" ry=\"10\" style=\"stroke: #A80036; stroke-width: 1.5;\" width=\"68\" x=\"165\" y=\"350\"/><ellipse cx=\"180\" cy=\"368.9688\" fill=\"#32CD32\" rx=\"11\" ry=\"11\" style=\"stroke: #A80036; stroke-width: 1.0;\"/><path d=\"M176.8125,373.9688 L176.8125,363.375 L180.4219,363.375 Q181.6406,363.375 182.4375,363.8125 Q183.2344,364.2344 183.6094,364.9375 Q184,365.6406 184,366.4844 Q184,367.3281 183.625,368.0156 Q183.2656,368.7031 182.4688,369.125 Q181.6875,369.5313 180.5,369.5313 L178.7656,369.5313 L178.7656,373.9688 L176.8125,373.9688 Z M178.7656,367.9375 L180.375,367.9375 Q181.1875,367.9375 181.6094,367.5313 Q182.0313,367.125 182.0313,366.4844 Q182.0313,365.8594 181.6094,365.4531 Q181.1875,365.0469 180.3906,365.0469 L178.7656,365.0469 L178.7656,367.9375 Z \"/><text fill=\"#000000\" font-family=\"sans-serif\" font-size=\"12\" font-style=\"italic\" lengthAdjust=\"spacingAndGlyphs\" textLength=\"40\" x=\"192\" y=\"366.1387\">«part»</text><text fill=\"#000000\" font-family=\"sans-serif\" font-size=\"12\" lengthAdjust=\"spacingAndGlyphs\" textLength=\"23\" x=\"200.5\" y=\"380.1074\">c: C</text><line style=\"stroke: #A80036; stroke-width: 1.5;\" x1=\"166\" x2=\"232\" y1=\"387.9375\" y2=\"387.9375\"/></a><!--MD5=[60a26617385b1d2d0262a64233df1f8d]\n",
       "class E6--><a href=\"psysml:cb468909-38eb-4328-9448-1d282e0fd6a5\" target=\"_top\" title=\"psysml:cb468909-38eb-4328-9448-1d282e0fd6a5\" xlink:actuate=\"onRequest\" xlink:href=\"psysml:cb468909-38eb-4328-9448-1d282e0fd6a5\" xlink:show=\"new\" xlink:title=\"psysml:cb468909-38eb-4328-9448-1d282e0fd6a5\" xlink:type=\"simple\"><rect fill=\"#FEFECE\" filter=\"url(#flt07tj6nsm25)\" height=\"40\" id=\"E6\" style=\"stroke: #A80036; stroke-width: 1.5;\" width=\"40\" x=\"128\" y=\"613\"/><ellipse cx=\"143\" cy=\"629\" fill=\"#008000\" rx=\"11\" ry=\"11\" style=\"stroke: #A80036; stroke-width: 1.0;\"/><path d=\"M139.875,634 L139.875,623.4063 L143.1094,623.4063 Q145.0156,623.4063 145.9219,624.1563 Q146.8438,624.9063 146.8438,626.0781 Q146.8438,626.7656 146.4531,627.4219 Q146.0781,628.0781 145.3594,628.375 Q146.2188,628.75 146.7344,629.4375 Q147.25,630.125 147.25,630.9375 Q147.25,632.3125 146.2188,633.1563 Q145.2031,634 143.0938,634 L139.875,634 Z M141.7969,627.6406 L142.9531,627.6406 Q144.0781,627.6406 144.4844,627.2656 Q144.9063,626.875 144.9063,626.25 Q144.9063,625.6719 144.4844,625.3125 Q144.0625,624.9531 143.125,624.9531 L141.7969,624.9531 L141.7969,627.6406 Z M141.7969,632.4219 L143.2969,632.4219 Q144.2031,632.4219 144.7344,632.0313 Q145.2656,631.6406 145.2656,630.8906 Q145.2656,630.125 144.7656,629.6563 Q144.2656,629.1719 143,629.1719 L141.7969,629.1719 L141.7969,632.4219 Z \"/><text fill=\"#000000\" font-family=\"sans-serif\" font-size=\"12\" lengthAdjust=\"spacingAndGlyphs\" textLength=\"8\" x=\"157\" y=\"633.1543\">B</text><line style=\"stroke: #A80036; stroke-width: 1.5;\" x1=\"129\" x2=\"167\" y1=\"645\" y2=\"645\"/></a><!--MD5=[2156ba9850f5573cc1fc38a6a4b2f02b]\n",
       "class E7--><a href=\"psysml:8d68ea76-8496-4a3a-9bac-3b5e10d4f6d7\" target=\"_top\" title=\"psysml:8d68ea76-8496-4a3a-9bac-3b5e10d4f6d7\" xlink:actuate=\"onRequest\" xlink:href=\"psysml:8d68ea76-8496-4a3a-9bac-3b5e10d4f6d7\" xlink:show=\"new\" xlink:title=\"psysml:8d68ea76-8496-4a3a-9bac-3b5e10d4f6d7\" xlink:type=\"simple\"><rect fill=\"#FEFECE\" filter=\"url(#flt07tj6nsm25)\" height=\"45.9375\" id=\"E7\" rx=\"10\" ry=\"10\" style=\"stroke: #A80036; stroke-width: 1.5;\" width=\"68\" x=\"164\" y=\"714\"/><ellipse cx=\"179\" cy=\"732.9688\" fill=\"#32CD32\" rx=\"11\" ry=\"11\" style=\"stroke: #A80036; stroke-width: 1.0;\"/><path d=\"M175.8125,737.9688 L175.8125,727.375 L179.4219,727.375 Q180.6406,727.375 181.4375,727.8125 Q182.2344,728.2344 182.6094,728.9375 Q183,729.6406 183,730.4844 Q183,731.3281 182.625,732.0156 Q182.2656,732.7031 181.4688,733.125 Q180.6875,733.5313 179.5,733.5313 L177.7656,733.5313 L177.7656,737.9688 L175.8125,737.9688 Z M177.7656,731.9375 L179.375,731.9375 Q180.1875,731.9375 180.6094,731.5313 Q181.0313,731.125 181.0313,730.4844 Q181.0313,729.8594 180.6094,729.4531 Q180.1875,729.0469 179.3906,729.0469 L177.7656,729.0469 L177.7656,731.9375 Z \"/><text fill=\"#000000\" font-family=\"sans-serif\" font-size=\"12\" font-style=\"italic\" lengthAdjust=\"spacingAndGlyphs\" textLength=\"40\" x=\"191\" y=\"730.1387\">«part»</text><text fill=\"#000000\" font-family=\"sans-serif\" font-size=\"12\" lengthAdjust=\"spacingAndGlyphs\" textLength=\"24\" x=\"199\" y=\"744.1074\">a: A</text><line style=\"stroke: #A80036; stroke-width: 1.5;\" x1=\"165\" x2=\"231\" y1=\"751.9375\" y2=\"751.9375\"/></a><!--MD5=[b9389687b975829384b498ac4b7476b2]\n",
       "class E8--><a href=\"psysml:3d841289-74ad-422d-b7f3-bdfc719d6361\" target=\"_top\" title=\"psysml:3d841289-74ad-422d-b7f3-bdfc719d6361\" xlink:actuate=\"onRequest\" xlink:href=\"psysml:3d841289-74ad-422d-b7f3-bdfc719d6361\" xlink:show=\"new\" xlink:title=\"psysml:3d841289-74ad-422d-b7f3-bdfc719d6361\" xlink:type=\"simple\"><rect fill=\"#FEFECE\" filter=\"url(#flt07tj6nsm25)\" height=\"40\" id=\"E8\" style=\"stroke: #A80036; stroke-width: 1.5;\" width=\"40\" x=\"128\" y=\"496\"/><ellipse cx=\"143\" cy=\"512\" fill=\"#008000\" rx=\"11\" ry=\"11\" style=\"stroke: #A80036; stroke-width: 1.0;\"/><path d=\"M139.875,517 L139.875,506.4063 L143.1094,506.4063 Q145.0156,506.4063 145.9219,507.1563 Q146.8438,507.9063 146.8438,509.0781 Q146.8438,509.7656 146.4531,510.4219 Q146.0781,511.0781 145.3594,511.375 Q146.2188,511.75 146.7344,512.4375 Q147.25,513.125 147.25,513.9375 Q147.25,515.3125 146.2188,516.1563 Q145.2031,517 143.0938,517 L139.875,517 Z M141.7969,510.6406 L142.9531,510.6406 Q144.0781,510.6406 144.4844,510.2656 Q144.9063,509.875 144.9063,509.25 Q144.9063,508.6719 144.4844,508.3125 Q144.0625,507.9531 143.125,507.9531 L141.7969,507.9531 L141.7969,510.6406 Z M141.7969,515.4219 L143.2969,515.4219 Q144.2031,515.4219 144.7344,515.0313 Q145.2656,514.6406 145.2656,513.8906 Q145.2656,513.125 144.7656,512.6563 Q144.2656,512.1719 143,512.1719 L141.7969,512.1719 L141.7969,515.4219 Z \"/><text fill=\"#000000\" font-family=\"sans-serif\" font-size=\"12\" lengthAdjust=\"spacingAndGlyphs\" textLength=\"8\" x=\"157\" y=\"516.1543\">C</text><line style=\"stroke: #A80036; stroke-width: 1.5;\" x1=\"129\" x2=\"167\" y1=\"528\" y2=\"528\"/></a><!--MD5=[fd4143e9d270a159db93a4ea2a975926]\n",
       "class E9--><a href=\"psysml:192666b5-43c5-4ec0-a40a-8ab471017ca3\" target=\"_top\" title=\"psysml:192666b5-43c5-4ec0-a40a-8ab471017ca3\" xlink:actuate=\"onRequest\" xlink:href=\"psysml:192666b5-43c5-4ec0-a40a-8ab471017ca3\" xlink:show=\"new\" xlink:title=\"psysml:192666b5-43c5-4ec0-a40a-8ab471017ca3\" xlink:type=\"simple\"><rect fill=\"#FEFECE\" filter=\"url(#flt07tj6nsm25)\" height=\"45.9375\" id=\"E9\" style=\"stroke: #A80036; stroke-width: 1.5;\" width=\"92\" x=\"74\" y=\"41\"/><ellipse cx=\"89\" cy=\"59.9688\" fill=\"#A52A2A\" rx=\"11\" ry=\"11\" style=\"stroke: #A80036; stroke-width: 1.0;\"/><path d=\"M86.2188,64.9688 L86.2188,54.375 L88.9531,54.375 Q90.3438,54.375 91.1094,54.7656 Q91.8906,55.1406 92.4219,55.8438 Q92.9531,56.5469 93.25,57.5469 Q93.5469,58.5313 93.5469,59.75 Q93.5,61.3438 93,62.5313 Q92.5156,63.7031 91.4688,64.3438 Q90.4375,64.9688 88.75,64.9688 L86.2188,64.9688 Z M88.0781,63.4688 L88.7031,63.4688 Q89.7813,63.4688 90.4375,63.0156 Q91.0938,62.5625 91.375,61.7344 Q91.6719,60.8906 91.6563,59.7656 Q91.6563,58.5938 91.4063,57.7344 Q91.1563,56.8594 90.5469,56.3906 Q89.9375,55.9063 88.8906,55.9063 L88.0781,55.9063 L88.0781,63.4688 Z \"/><text fill=\"#000000\" font-family=\"sans-serif\" font-size=\"12\" font-style=\"italic\" lengthAdjust=\"spacingAndGlyphs\" textLength=\"64\" x=\"101\" y=\"57.1387\">«port def»</text><text fill=\"#000000\" font-family=\"sans-serif\" font-size=\"12\" lengthAdjust=\"spacingAndGlyphs\" textLength=\"8\" x=\"129\" y=\"71.1074\">P</text><line style=\"stroke: #A80036; stroke-width: 1.5;\" x1=\"75\" x2=\"165\" y1=\"78.9375\" y2=\"78.9375\"/></a><!--MD5=[96f4274e9e20536e775497830990834d]\n",
       "class E10--><a href=\"psysml:a2436968-c74d-4c9f-bf2a-127bcc502b4e\" target=\"_top\" title=\"psysml:a2436968-c74d-4c9f-bf2a-127bcc502b4e\" xlink:actuate=\"onRequest\" xlink:href=\"psysml:a2436968-c74d-4c9f-bf2a-127bcc502b4e\" xlink:show=\"new\" xlink:title=\"psysml:a2436968-c74d-4c9f-bf2a-127bcc502b4e\" xlink:type=\"simple\"><rect fill=\"#FEFECE\" filter=\"url(#flt07tj6nsm25)\" height=\"40\" id=\"E10\" rx=\"10\" ry=\"10\" style=\"stroke: #A80036; stroke-width: 1.5;\" width=\"64\" x=\"32\" y=\"148\"/><ellipse cx=\"47\" cy=\"164\" fill=\"#32CD32\" rx=\"11\" ry=\"11\" style=\"stroke: #A80036; stroke-width: 1.0;\"/><path d=\"M43.8125,169 L43.8125,158.4063 L47.4219,158.4063 Q48.6406,158.4063 49.4375,158.8438 Q50.2344,159.2656 50.6094,159.9688 Q51,160.6719 51,161.5156 Q51,162.3594 50.625,163.0469 Q50.2656,163.7344 49.4688,164.1563 Q48.6875,164.5625 47.5,164.5625 L45.7656,164.5625 L45.7656,169 L43.8125,169 Z M45.7656,162.9688 L47.375,162.9688 Q48.1875,162.9688 48.6094,162.5625 Q49.0313,162.1563 49.0313,161.5156 Q49.0313,160.8906 48.6094,160.4844 Q48.1875,160.0781 47.3906,160.0781 L45.7656,160.0781 L45.7656,162.9688 Z \"/><text fill=\"#000000\" font-family=\"sans-serif\" font-size=\"12\" lengthAdjust=\"spacingAndGlyphs\" textLength=\"32\" x=\"61\" y=\"168.1543\">a1: A</text><line style=\"stroke: #A80036; stroke-width: 1.5;\" x1=\"33\" x2=\"95\" y1=\"180\" y2=\"180\"/></a><!--MD5=[1dd1bfd58a279cf63c5f349dbc8fc6a1]\n",
       "class E11--><a href=\"psysml:6388cc28-f9be-476c-ad05-d9ff93971fbb\" target=\"_top\" title=\"psysml:6388cc28-f9be-476c-ad05-d9ff93971fbb\" xlink:actuate=\"onRequest\" xlink:href=\"psysml:6388cc28-f9be-476c-ad05-d9ff93971fbb\" xlink:show=\"new\" xlink:title=\"psysml:6388cc28-f9be-476c-ad05-d9ff93971fbb\" xlink:type=\"simple\"><rect fill=\"#FEFECE\" filter=\"url(#flt07tj6nsm25)\" height=\"40\" id=\"E11\" rx=\"10\" ry=\"10\" style=\"stroke: #A80036; stroke-width: 1.5;\" width=\"64\" x=\"131\" y=\"148\"/><ellipse cx=\"146\" cy=\"164\" fill=\"#32CD32\" rx=\"11\" ry=\"11\" style=\"stroke: #A80036; stroke-width: 1.0;\"/><path d=\"M142.8125,169 L142.8125,158.4063 L146.4219,158.4063 Q147.6406,158.4063 148.4375,158.8438 Q149.2344,159.2656 149.6094,159.9688 Q150,160.6719 150,161.5156 Q150,162.3594 149.625,163.0469 Q149.2656,163.7344 148.4688,164.1563 Q147.6875,164.5625 146.5,164.5625 L144.7656,164.5625 L144.7656,169 L142.8125,169 Z M144.7656,162.9688 L146.375,162.9688 Q147.1875,162.9688 147.6094,162.5625 Q148.0313,162.1563 148.0313,161.5156 Q148.0313,160.8906 147.6094,160.4844 Q147.1875,160.0781 146.3906,160.0781 L144.7656,160.0781 L144.7656,162.9688 Z \"/><text fill=\"#000000\" font-family=\"sans-serif\" font-size=\"12\" lengthAdjust=\"spacingAndGlyphs\" textLength=\"32\" x=\"160\" y=\"168.1543\">a2: A</text><line style=\"stroke: #A80036; stroke-width: 1.5;\" x1=\"132\" x2=\"194\" y1=\"180\" y2=\"180\"/></a><!--MD5=[2720a5a1f2c3fca2055b230370638851]\n",
       "link E2 to E3--><a href=\"psysml:24dbd283-1078-40f8-9dda-86d7de7bac74\" target=\"_top\" title=\"psysml:24dbd283-1078-40f8-9dda-86d7de7bac74\" xlink:actuate=\"onRequest\" xlink:href=\"psysml:24dbd283-1078-40f8-9dda-86d7de7bac74\" xlink:show=\"new\" xlink:title=\"psysml:24dbd283-1078-40f8-9dda-86d7de7bac74\" xlink:type=\"simple\"><path d=\"M238.07,188.09 C225.85,201.1 209.32,218.69 194.89,234.05 \" fill=\"none\" id=\"E2-&gt;E3\" style=\"stroke: #A80036; stroke-width: 1.0;\"/><polygon fill=\"#FFFFFF\" points=\"180.88,248.97,188.7948,230.3325,198.9946,239.9223,180.88,248.97\" style=\"stroke: #A80036; stroke-width: 1.0;\"/><ellipse cx=\"194.1564\" cy=\"227.5497\" fill=\"#A80036\" rx=\"2\" ry=\"2\" style=\"stroke: #A80036; stroke-width: 1.0;\"/><ellipse cx=\"201.4419\" cy=\"234.3996\" fill=\"#A80036\" rx=\"2\" ry=\"2\" style=\"stroke: #A80036; stroke-width: 1.0;\"/></a><!--MD5=[4672eba38e49728da53d11aeb285b987]\n",
       "reverse link E3 to E4--><a href=\"psysml:9f51e7d9-1020-406a-8433-de0298038040\" target=\"_top\" title=\"psysml:9f51e7d9-1020-406a-8433-de0298038040\" xlink:actuate=\"onRequest\" xlink:href=\"psysml:9f51e7d9-1020-406a-8433-de0298038040\" xlink:show=\"new\" xlink:title=\"psysml:9f51e7d9-1020-406a-8433-de0298038040\" xlink:type=\"simple\"><path d=\"M132.14,289.65 C112.82,303.84 89.48,324.89 78,350 C66.88,374.32 68.23,405.9 70.72,425.82 \" fill=\"none\" id=\"E3&lt;-E4\" style=\"stroke: #A80036; stroke-width: 1.0;\"/><polygon fill=\"#A80036\" points=\"142.94,282.11,135.7307,282.2725,133.108,288.9898,140.3172,288.8272,142.94,282.11\" style=\"stroke: #A80036; stroke-width: 1.0;\"/><text fill=\"#000000\" font-family=\"sans-serif\" font-size=\"13\" lengthAdjust=\"spacingAndGlyphs\" textLength=\"8\" x=\"60.5815\" y=\"414.7754\">1</text></a><!--MD5=[191cde3d490a3f6d7bb551fe3ddca469]\n",
       "reverse link E3 to E5--><a href=\"psysml:7a936c29-0528-4da5-855d-3be7e5f4e113\" target=\"_top\" title=\"psysml:7a936c29-0528-4da5-855d-3be7e5f4e113\" xlink:actuate=\"onRequest\" xlink:href=\"psysml:7a936c29-0528-4da5-855d-3be7e5f4e113\" xlink:show=\"new\" xlink:title=\"psysml:7a936c29-0528-4da5-855d-3be7e5f4e113\" xlink:type=\"simple\"><path d=\"M174.11,301.47 C179.62,317.08 186.14,335.57 191.13,349.7 \" fill=\"none\" id=\"E3&lt;-E5\" style=\"stroke: #A80036; stroke-width: 1.0;\"/><polygon fill=\"#FFFFFF\" points=\"169.77,289.19,167.9962,296.1795,173.7659,300.5052,175.5397,293.5156,169.77,289.19\" style=\"stroke: #A80036; stroke-width: 1.0;\"/><text fill=\"#000000\" font-family=\"sans-serif\" font-size=\"13\" lengthAdjust=\"spacingAndGlyphs\" textLength=\"8\" x=\"180.0883\" y=\"338.8994\">1</text></a><!--MD5=[79568f1e445c3877b6a54524624ccc7d]\n",
       "link E4 to E6--><a href=\"psysml:860f4e4a-475c-4d3a-a05e-585111d40739\" target=\"_top\" title=\"psysml:860f4e4a-475c-4d3a-a05e-585111d40739\" xlink:actuate=\"onRequest\" xlink:href=\"psysml:860f4e4a-475c-4d3a-a05e-585111d40739\" xlink:show=\"new\" xlink:title=\"psysml:860f4e4a-475c-4d3a-a05e-585111d40739\" xlink:type=\"simple\"><path d=\"M81.64,466.1 C93.66,496.15 117.22,555.04 132.78,593.96 \" fill=\"none\" id=\"E4-&gt;E6\" style=\"stroke: #A80036; stroke-width: 1.0;\"/><polygon fill=\"#FFFFFF\" points=\"140.29,612.73,126.7342,597.6887,139.7329,592.4892,140.29,612.73\" style=\"stroke: #A80036; stroke-width: 1.0;\"/><ellipse cx=\"126.4743\" cy=\"591.6536\" fill=\"#A80036\" rx=\"2\" ry=\"2\" style=\"stroke: #A80036; stroke-width: 1.0;\"/><ellipse cx=\"135.759\" cy=\"587.9397\" fill=\"#A80036\" rx=\"2\" ry=\"2\" style=\"stroke: #A80036; stroke-width: 1.0;\"/></a><!--MD5=[3f50a3473f1dfb74d3f76443e03635af]\n",
       "reverse link E6 to E7--><a href=\"psysml:01396c82-09da-45aa-ba0c-a7dad5741ff2\" target=\"_top\" title=\"psysml:01396c82-09da-45aa-ba0c-a7dad5741ff2\" xlink:actuate=\"onRequest\" xlink:href=\"psysml:01396c82-09da-45aa-ba0c-a7dad5741ff2\" xlink:show=\"new\" xlink:title=\"psysml:01396c82-09da-45aa-ba0c-a7dad5741ff2\" xlink:type=\"simple\"><path d=\"M163.2,665 C170.9,680.71 180.07,699.43 187.07,713.7 \" fill=\"none\" id=\"E6&lt;-E7\" style=\"stroke: #A80036; stroke-width: 1.0;\"/><polygon fill=\"#A80036\" points=\"157.4,653.19,156.4458,660.3377,162.6767,663.9676,163.6309,656.8199,157.4,653.19\" style=\"stroke: #A80036; stroke-width: 1.0;\"/><text fill=\"#000000\" font-family=\"sans-serif\" font-size=\"13\" lengthAdjust=\"spacingAndGlyphs\" textLength=\"8\" x=\"175.2442\" y=\"702.8994\">1</text></a><!--MD5=[14ccda38c055a5c0da953d572bc50960]\n",
       "link E7 to E3--><a href=\"psysml:d97708ca-1830-4e5e-bf07-a2aabe0546e8\" target=\"_top\" title=\"psysml:d97708ca-1830-4e5e-bf07-a2aabe0546e8\" xlink:actuate=\"onRequest\" xlink:href=\"psysml:d97708ca-1830-4e5e-bf07-a2aabe0546e8\" xlink:show=\"new\" xlink:title=\"psysml:d97708ca-1830-4e5e-bf07-a2aabe0546e8\" xlink:type=\"simple\"><path d=\"M225.25,713.91 C245.27,695.03 269,665.93 269,634 C269,372 269,372 269,372 C269,333.27 231.8,304.63 201.47,287.72 \" fill=\"none\" id=\"E7-&gt;E3\" style=\"stroke: #A80036; stroke-width: 1.0;\"/><polygon fill=\"#FFFFFF\" points=\"183.44,278.52,203.5461,280.9167,197.1853,293.3883,183.44,278.52\" style=\"stroke: #A80036; stroke-width: 1.0;\"/><ellipse cx=\"207.7151\" cy=\"285.2881\" fill=\"#A80036\" rx=\"2\" ry=\"2\" style=\"stroke: #A80036; stroke-width: 1.0;\"/><ellipse cx=\"203.1717\" cy=\"294.1964\" fill=\"#A80036\" rx=\"2\" ry=\"2\" style=\"stroke: #A80036; stroke-width: 1.0;\"/></a><!--MD5=[dfaffb906826c3e5aca635516100ff21]\n",
       "link E5 to E8--><a href=\"psysml:75f754af-bdfa-473b-8cbb-d11c609ad500\" target=\"_top\" title=\"psysml:75f754af-bdfa-473b-8cbb-d11c609ad500\" xlink:actuate=\"onRequest\" xlink:href=\"psysml:75f754af-bdfa-473b-8cbb-d11c609ad500\" xlink:show=\"new\" xlink:title=\"psysml:75f754af-bdfa-473b-8cbb-d11c609ad500\" xlink:type=\"simple\"><path d=\"M191.03,396.03 C183.21,417.67 171.11,451.1 161.73,477.03 \" fill=\"none\" id=\"E5-&gt;E8\" style=\"stroke: #A80036; stroke-width: 1.0;\"/><polygon fill=\"#FFFFFF\" points=\"154.93,495.84,154.805,475.5919,167.9715,480.3506,154.93,495.84\" style=\"stroke: #A80036; stroke-width: 1.0;\"/><ellipse cx=\"158.6234\" cy=\"470.9111\" fill=\"#A80036\" rx=\"2\" ry=\"2\" style=\"stroke: #A80036; stroke-width: 1.0;\"/><ellipse cx=\"168.028\" cy=\"474.3102\" fill=\"#A80036\" rx=\"2\" ry=\"2\" style=\"stroke: #A80036; stroke-width: 1.0;\"/></a><!--MD5=[03c8294790d3c57651a1993cecff665f]\n",
       "reverse link E8 to E3--><a href=\"psysml:aa35edca-3910-4cd9-97ff-300d5c8627fc\" target=\"_top\" title=\"psysml:aa35edca-3910-4cd9-97ff-300d5c8627fc\" xlink:actuate=\"onRequest\" xlink:href=\"psysml:aa35edca-3910-4cd9-97ff-300d5c8627fc\" xlink:show=\"new\" xlink:title=\"psysml:aa35edca-3910-4cd9-97ff-300d5c8627fc\" xlink:type=\"simple\"><path d=\"M142.43,482.58 C137.58,449.18 132.29,395.7 139,350 C142.14,328.62 149.75,305.03 155.57,289.04 \" fill=\"none\" id=\"E8&lt;-E3\" style=\"stroke: #A80036; stroke-width: 1.0;\"/><polygon fill=\"#FFFFFF\" points=\"144.45,495.58,147.4862,489.0393,142.6164,483.7209,139.5802,490.2617,144.45,495.58\" style=\"stroke: #A80036; stroke-width: 1.0;\"/><text fill=\"#000000\" font-family=\"sans-serif\" font-size=\"13\" lengthAdjust=\"spacingAndGlyphs\" textLength=\"7\" x=\"140\" y=\"377.5669\">y</text></a><!--MD5=[0d75d2178373a6a4568e5dc728f58aef]\n",
       "reverse link E8 to E6--><a href=\"psysml:aa35edca-3910-4cd9-97ff-300d5c8627fc\" target=\"_top\" title=\"psysml:aa35edca-3910-4cd9-97ff-300d5c8627fc\" xlink:actuate=\"onRequest\" xlink:href=\"psysml:aa35edca-3910-4cd9-97ff-300d5c8627fc\" xlink:show=\"new\" xlink:title=\"psysml:aa35edca-3910-4cd9-97ff-300d5c8627fc\" xlink:type=\"simple\"><path d=\"M148,549.36 C148,569.76 148,595.42 148,612.69 \" fill=\"none\" id=\"E8&lt;-E6\" style=\"stroke: #A80036; stroke-width: 1.0;\"/><polygon fill=\"#FFFFFF\" points=\"148,536.25,144,542.25,148,548.25,152,542.25,148,536.25\" style=\"stroke: #A80036; stroke-width: 1.0;\"/><text fill=\"#000000\" font-family=\"sans-serif\" font-size=\"13\" lengthAdjust=\"spacingAndGlyphs\" textLength=\"7\" x=\"149\" y=\"579.0669\">y</text></a><!--MD5=[23ac544a70576c3e717098101004234c]\n",
       "reverse link E9 to E10--><a href=\"psysml:cf1da376-637e-4400-b815-716d62b1c417\" target=\"_top\" title=\"psysml:cf1da376-637e-4400-b815-716d62b1c417\" xlink:actuate=\"onRequest\" xlink:href=\"psysml:cf1da376-637e-4400-b815-716d62b1c417\" xlink:show=\"new\" xlink:title=\"psysml:cf1da376-637e-4400-b815-716d62b1c417\" xlink:type=\"simple\"><path d=\"M101.35,98.97 C92.39,115.3 81.98,134.25 74.43,148 \" fill=\"none\" id=\"E9&lt;-E10\" style=\"stroke: #A80036; stroke-width: 1.0;\"/><polygon fill=\"#FFFFFF\" points=\"107.85,87.13,101.4565,90.4652,102.0761,97.6496,108.4696,94.3144,107.85,87.13\" style=\"stroke: #A80036; stroke-width: 1.0;\"/><text fill=\"#000000\" font-family=\"sans-serif\" font-size=\"13\" lengthAdjust=\"spacingAndGlyphs\" textLength=\"8\" x=\"68.3188\" y=\"137.0083\">1</text></a><!--MD5=[feeac5eb423634930294aa81f2d25a4c]\n",
       "link E10 to E3--><a href=\"psysml:4cf35cfc-841e-4847-875d-1ebad6bb61b9\" target=\"_top\" title=\"psysml:4cf35cfc-841e-4847-875d-1ebad6bb61b9\" xlink:actuate=\"onRequest\" xlink:href=\"psysml:4cf35cfc-841e-4847-875d-1ebad6bb61b9\" xlink:show=\"new\" xlink:title=\"psysml:4cf35cfc-841e-4847-875d-1ebad6bb61b9\" xlink:type=\"simple\"><path d=\"M83.09,188.09 C96.24,201.24 114.06,219.06 129.53,234.53 \" fill=\"none\" id=\"E10-&gt;E3\" style=\"stroke: #A80036; stroke-width: 1.0;\"/><polygon fill=\"#FFFFFF\" points=\"143.97,248.97,125.5852,240.4847,135.4847,230.5852,143.97,248.97\" style=\"stroke: #A80036; stroke-width: 1.0;\"/><ellipse cx=\"122.9689\" cy=\"235.04\" fill=\"#A80036\" rx=\"2\" ry=\"2\" style=\"stroke: #A80036; stroke-width: 1.0;\"/><ellipse cx=\"130.04\" cy=\"227.9689\" fill=\"#A80036\" rx=\"2\" ry=\"2\" style=\"stroke: #A80036; stroke-width: 1.0;\"/></a><!--MD5=[1fc04a95fd77ad5ce46c1a3027516051]\n",
       "reverse link E9 to E11--><a href=\"psysml:bd05daaf-8002-489d-bbfa-6134af678ace\" target=\"_top\" title=\"psysml:bd05daaf-8002-489d-bbfa-6134af678ace\" xlink:actuate=\"onRequest\" xlink:href=\"psysml:bd05daaf-8002-489d-bbfa-6134af678ace\" xlink:show=\"new\" xlink:title=\"psysml:bd05daaf-8002-489d-bbfa-6134af678ace\" xlink:type=\"simple\"><path d=\"M134.52,99.45 C141.36,115.67 149.25,134.38 154.99,148 \" fill=\"none\" id=\"E9&lt;-E11\" style=\"stroke: #A80036; stroke-width: 1.0;\"/><polygon fill=\"#FFFFFF\" points=\"129.33,87.13,127.9801,94.2136,133.9997,98.1842,135.3495,91.1005,129.33,87.13\" style=\"stroke: #A80036; stroke-width: 1.0;\"/><text fill=\"#000000\" font-family=\"sans-serif\" font-size=\"13\" lengthAdjust=\"spacingAndGlyphs\" textLength=\"8\" x=\"143.4621\" y=\"137.0083\">1</text></a><!--MD5=[0517f1ce58c4d5483948f93845c45e26]\n",
       "link E11 to E3--><a href=\"psysml:31e39f64-1f8d-4b2c-be98-c1459e5d6e94\" target=\"_top\" title=\"psysml:31e39f64-1f8d-4b2c-be98-c1459e5d6e94\" xlink:actuate=\"onRequest\" xlink:href=\"psysml:31e39f64-1f8d-4b2c-be98-c1459e5d6e94\" xlink:show=\"new\" xlink:title=\"psysml:31e39f64-1f8d-4b2c-be98-c1459e5d6e94\" xlink:type=\"simple\"><path d=\"M163,188.09 C163,199.59 163,214.68 163,228.63 \" fill=\"none\" id=\"E11-&gt;E3\" style=\"stroke: #A80036; stroke-width: 1.0;\"/><polygon fill=\"#FFFFFF\" points=\"163,248.97,156,229.97,170,229.97,163,248.97\" style=\"stroke: #A80036; stroke-width: 1.0;\"/><ellipse cx=\"158\" cy=\"224.27\" fill=\"#A80036\" rx=\"2\" ry=\"2\" style=\"stroke: #A80036; stroke-width: 1.0;\"/><ellipse cx=\"168\" cy=\"224.27\" fill=\"#A80036\" rx=\"2\" ry=\"2\" style=\"stroke: #A80036; stroke-width: 1.0;\"/></a><!--MD5=[55aab5e3aba699d12e057fdef72604bd]\n",
       "@startuml\r\n",
       " \r\n",
       "package \"ItemTest\" as E1  [[psysml:1bc06463-7392-4b34-87d6-1f1d6784670a ]]  {\r\n",
       "comp usage \"f: A\" as E2 << << (P,limegreen) >> [[psysml:10e5f196-141c-4ebb-934a-0a8c25223d15 ]] {\r\n",
       "}\r\n",
       "comp def \"A\" as E3 << << (B,green) >> [[psysml:d8185bfd-cc57-4585-aec6-0a59765b9e32 ]] {\r\n",
       "}\r\n",
       "comp usage \"b: B\" as E4 << << (P,limegreen) >> [[psysml:867e3ff9-f74d-45bb-974d-3b3d8373197d ]] {\r\n",
       "}\r\n",
       "comp usage \"c: C\" as E5 << << (P,limegreen) part>> [[psysml:cb0d56cf-7b64-416e-8353-0e76041e55a4 ]] {\r\n",
       "}\r\n",
       "comp def \"B\" as E6 << << (B,green) >> [[psysml:cb468909-38eb-4328-9448-1d282e0fd6a5 ]] {\r\n",
       "}\r\n",
       "comp usage \"a: A\" as E7 << << (P,limegreen) part>> [[psysml:8d68ea76-8496-4a3a-9bac-3b5e10d4f6d7 ]] {\r\n",
       "}\r\n",
       "comp def \"C\" as E8 << << (B,green) >> [[psysml:3d841289-74ad-422d-b7f3-bdfc719d6361 ]] {\r\n",
       "}\r\n",
       "comp def \"P\" as E9 << <<(D,brown) port def>> [[psysml:192666b5-43c5-4ec0-a40a-8ab471017ca3 ]] {\r\n",
       "}\r\n",
       "comp usage \"a1: A\" as E10 << << (P,limegreen) >> [[psysml:a2436968-c74d-4c9f-bf2a-127bcc502b4e ]] {\r\n",
       "}\r\n",
       "comp usage \"a2: A\" as E11 << << (P,limegreen) >> [[psysml:6388cc28-f9be-476c-ad05-d9ff93971fbb ]] {\r\n",
       "}\r\n",
       "}\r\n",
       "E2 - -:|> E3 [[psysml:24dbd283-1078-40f8-9dda-86d7de7bac74 ]] \r\n",
       "E3 *- - \"1\"E4 [[psysml:9f51e7d9-1020-406a-8433-de0298038040 ]] \r\n",
       "E3 o- - \"1\"E5 [[psysml:7a936c29-0528-4da5-855d-3be7e5f4e113 ]] \r\n",
       "E4 - -:|> E6 [[psysml:860f4e4a-475c-4d3a-a05e-585111d40739 ]] \r\n",
       "E6 *- - \"1\"E7 [[psysml:01396c82-09da-45aa-ba0c-a7dad5741ff2 ]] \r\n",
       "E7 - -:|> E3 [[psysml:d97708ca-1830-4e5e-bf07-a2aabe0546e8 ]] \r\n",
       "E5 - -:|> E8 [[psysml:75f754af-bdfa-473b-8cbb-d11c609ad500 ]] \r\n",
       "E8 o- - E3 [[psysml:aa35edca-3910-4cd9-97ff-300d5c8627fc ]] : y\r\n",
       "E8 o- - E6 [[psysml:aa35edca-3910-4cd9-97ff-300d5c8627fc ]] : y\r\n",
       "E9 o- - \"1\"E10 [[psysml:cf1da376-637e-4400-b815-716d62b1c417 ]] \r\n",
       "E10 - -:|> E3 [[psysml:4cf35cfc-841e-4847-875d-1ebad6bb61b9 ]] \r\n",
       "E9 o- - \"1\"E11 [[psysml:bd05daaf-8002-489d-bbfa-6134af678ace ]] \r\n",
       "E11 - -:|> E3 [[psysml:31e39f64-1f8d-4b2c-be98-c1459e5d6e94 ]] \r\n",
       "@enduml\r\n",
       "\n",
       "PlantUML version 1.2020.13(Sat Jun 13 12:26:38 UTC 2020)\n",
       "(EPL source distribution)\n",
       "Java Runtime: OpenJDK Runtime Environment\n",
       "JVM: OpenJDK 64-Bit Server VM\n",
       "Default Encoding: UTF-8\n",
       "Language: en\n",
       "Country: null\n",
       "--></g></svg>"
      ]
     },
     "execution_count": 30,
     "metadata": {},
     "output_type": "execute_result"
    }
   ],
   "source": [
    "%viz --style=\"PLANTUML\" --view=\"Default\" \"ItemTest\""
   ]
  },
  {
   "cell_type": "code",
   "execution_count": 31,
   "id": "7848e0ff",
   "metadata": {
    "execution": {
     "iopub.execute_input": "2021-10-03T08:27:28.597729Z",
     "iopub.status.busy": "2021-10-03T08:27:28.597333Z",
     "iopub.status.idle": "2021-10-03T08:27:28.640180Z",
     "shell.execute_reply": "2021-10-03T08:27:28.639828Z"
    }
   },
   "outputs": [
    {
     "data": {
      "image/svg+xml": [
       "<?xml version=\"1.0\" encoding=\"UTF-8\" standalone=\"no\"?><svg xmlns=\"http://www.w3.org/2000/svg\" xmlns:xlink=\"http://www.w3.org/1999/xlink\" contentScriptType=\"application/ecmascript\" contentStyleType=\"text/css\" height=\"788px\" preserveAspectRatio=\"none\" style=\"width:320px;height:788px;\" version=\"1.1\" viewBox=\"0 0 320 788\" width=\"320px\" zoomAndPan=\"magnify\"><defs><filter height=\"300%\" id=\"flt07tj6nsm25\" width=\"300%\" x=\"-1\" y=\"-1\"><feGaussianBlur result=\"blurOut\" stdDeviation=\"2.0\"/><feColorMatrix in=\"blurOut\" result=\"blurOut2\" type=\"matrix\" values=\"0 0 0 0 0 0 0 0 0 0 0 0 0 0 0 0 0 0 .4 0\"/><feOffset dx=\"4.0\" dy=\"4.0\" in=\"blurOut2\" result=\"blurOut3\"/><feBlend in=\"SourceGraphic\" in2=\"blurOut3\" mode=\"normal\"/></filter></defs><g><!--MD5=[fbc87193dbaf4d95561dea2c320d4a47]\n",
       "cluster E1--><a href=\"psysml:1bc06463-7392-4b34-87d6-1f1d6784670a\" target=\"_top\" title=\"psysml:1bc06463-7392-4b34-87d6-1f1d6784670a\" xlink:actuate=\"onRequest\" xlink:href=\"psysml:1bc06463-7392-4b34-87d6-1f1d6784670a\" xlink:show=\"new\" xlink:title=\"psysml:1bc06463-7392-4b34-87d6-1f1d6784670a\" xlink:type=\"simple\"><polygon fill=\"#FFFFFF\" filter=\"url(#flt07tj6nsm25)\" points=\"16,6,83,6,90,28.2969,298,28.2969,298,776,16,776,16,6\" style=\"stroke: #000000; stroke-width: 1.5;\"/><line style=\"stroke: #000000; stroke-width: 1.5;\" x1=\"16\" x2=\"90\" y1=\"28.2969\" y2=\"28.2969\"/><text fill=\"#000000\" font-family=\"sans-serif\" font-size=\"14\" font-weight=\"bold\" lengthAdjust=\"spacingAndGlyphs\" textLength=\"61\" x=\"20\" y=\"20.9951\">ItemTest</text></a><!--MD5=[b4997ac47864f28c2f74865a473b2911]\n",
       "class E2--><a href=\"psysml:10e5f196-141c-4ebb-934a-0a8c25223d15\" target=\"_top\" title=\"psysml:10e5f196-141c-4ebb-934a-0a8c25223d15\" xlink:actuate=\"onRequest\" xlink:href=\"psysml:10e5f196-141c-4ebb-934a-0a8c25223d15\" xlink:show=\"new\" xlink:title=\"psysml:10e5f196-141c-4ebb-934a-0a8c25223d15\" xlink:type=\"simple\"><rect fill=\"#FEFECE\" filter=\"url(#flt07tj6nsm25)\" height=\"40\" id=\"E2\" rx=\"10\" ry=\"10\" style=\"stroke: #A80036; stroke-width: 1.5;\" width=\"52\" x=\"230\" y=\"148\"/><ellipse cx=\"245\" cy=\"164\" fill=\"#32CD32\" rx=\"11\" ry=\"11\" style=\"stroke: #A80036; stroke-width: 1.0;\"/><path d=\"M241.8125,169 L241.8125,158.4063 L245.4219,158.4063 Q246.6406,158.4063 247.4375,158.8438 Q248.2344,159.2656 248.6094,159.9688 Q249,160.6719 249,161.5156 Q249,162.3594 248.625,163.0469 Q248.2656,163.7344 247.4688,164.1563 Q246.6875,164.5625 245.5,164.5625 L243.7656,164.5625 L243.7656,169 L241.8125,169 Z M243.7656,162.9688 L245.375,162.9688 Q246.1875,162.9688 246.6094,162.5625 Q247.0313,162.1563 247.0313,161.5156 Q247.0313,160.8906 246.6094,160.4844 Q246.1875,160.0781 245.3906,160.0781 L243.7656,160.0781 L243.7656,162.9688 Z \"/><text fill=\"#000000\" font-family=\"sans-serif\" font-size=\"12\" lengthAdjust=\"spacingAndGlyphs\" textLength=\"20\" x=\"259\" y=\"168.1543\">f: A</text><line style=\"stroke: #A80036; stroke-width: 1.5;\" x1=\"231\" x2=\"281\" y1=\"180\" y2=\"180\"/></a><!--MD5=[09b614a08d8cba4a07c9adeb5e0fee81]\n",
       "class E3--><a href=\"psysml:d8185bfd-cc57-4585-aec6-0a59765b9e32\" target=\"_top\" title=\"psysml:d8185bfd-cc57-4585-aec6-0a59765b9e32\" xlink:actuate=\"onRequest\" xlink:href=\"psysml:d8185bfd-cc57-4585-aec6-0a59765b9e32\" xlink:show=\"new\" xlink:title=\"psysml:d8185bfd-cc57-4585-aec6-0a59765b9e32\" xlink:type=\"simple\"><rect fill=\"#FEFECE\" filter=\"url(#flt07tj6nsm25)\" height=\"40\" id=\"E3\" style=\"stroke: #A80036; stroke-width: 1.5;\" width=\"40\" x=\"143\" y=\"249\"/><ellipse cx=\"158\" cy=\"265\" fill=\"#008000\" rx=\"11\" ry=\"11\" style=\"stroke: #A80036; stroke-width: 1.0;\"/><path d=\"M154.875,270 L154.875,259.4063 L158.1094,259.4063 Q160.0156,259.4063 160.9219,260.1563 Q161.8438,260.9063 161.8438,262.0781 Q161.8438,262.7656 161.4531,263.4219 Q161.0781,264.0781 160.3594,264.375 Q161.2188,264.75 161.7344,265.4375 Q162.25,266.125 162.25,266.9375 Q162.25,268.3125 161.2188,269.1563 Q160.2031,270 158.0938,270 L154.875,270 Z M156.7969,263.6406 L157.9531,263.6406 Q159.0781,263.6406 159.4844,263.2656 Q159.9063,262.875 159.9063,262.25 Q159.9063,261.6719 159.4844,261.3125 Q159.0625,260.9531 158.125,260.9531 L156.7969,260.9531 L156.7969,263.6406 Z M156.7969,268.4219 L158.2969,268.4219 Q159.2031,268.4219 159.7344,268.0313 Q160.2656,267.6406 160.2656,266.8906 Q160.2656,266.125 159.7656,265.6563 Q159.2656,265.1719 158,265.1719 L156.7969,265.1719 L156.7969,268.4219 Z \"/><text fill=\"#000000\" font-family=\"sans-serif\" font-size=\"12\" lengthAdjust=\"spacingAndGlyphs\" textLength=\"8\" x=\"172\" y=\"269.1543\">A</text><line style=\"stroke: #A80036; stroke-width: 1.5;\" x1=\"144\" x2=\"182\" y1=\"281\" y2=\"281\"/></a><!--MD5=[ebbe1d658d1005bcc118a6aa81145e00]\n",
       "class E4--><a href=\"psysml:867e3ff9-f74d-45bb-974d-3b3d8373197d\" target=\"_top\" title=\"psysml:867e3ff9-f74d-45bb-974d-3b3d8373197d\" xlink:actuate=\"onRequest\" xlink:href=\"psysml:867e3ff9-f74d-45bb-974d-3b3d8373197d\" xlink:show=\"new\" xlink:title=\"psysml:867e3ff9-f74d-45bb-974d-3b3d8373197d\" xlink:type=\"simple\"><rect fill=\"#FEFECE\" filter=\"url(#flt07tj6nsm25)\" height=\"40\" id=\"E4\" rx=\"10\" ry=\"10\" style=\"stroke: #A80036; stroke-width: 1.5;\" width=\"56\" x=\"46\" y=\"426\"/><ellipse cx=\"61\" cy=\"442\" fill=\"#32CD32\" rx=\"11\" ry=\"11\" style=\"stroke: #A80036; stroke-width: 1.0;\"/><path d=\"M57.8125,447 L57.8125,436.4063 L61.4219,436.4063 Q62.6406,436.4063 63.4375,436.8438 Q64.2344,437.2656 64.6094,437.9688 Q65,438.6719 65,439.5156 Q65,440.3594 64.625,441.0469 Q64.2656,441.7344 63.4688,442.1563 Q62.6875,442.5625 61.5,442.5625 L59.7656,442.5625 L59.7656,447 L57.8125,447 Z M59.7656,440.9688 L61.375,440.9688 Q62.1875,440.9688 62.6094,440.5625 Q63.0313,440.1563 63.0313,439.5156 Q63.0313,438.8906 62.6094,438.4844 Q62.1875,438.0781 61.3906,438.0781 L59.7656,438.0781 L59.7656,440.9688 Z \"/><text fill=\"#000000\" font-family=\"sans-serif\" font-size=\"12\" lengthAdjust=\"spacingAndGlyphs\" textLength=\"24\" x=\"75\" y=\"446.1543\">b: B</text><line style=\"stroke: #A80036; stroke-width: 1.5;\" x1=\"47\" x2=\"101\" y1=\"458\" y2=\"458\"/></a><!--MD5=[270fce915f116d4de14055a7c1d9a0f3]\n",
       "class E5--><a href=\"psysml:cb0d56cf-7b64-416e-8353-0e76041e55a4\" target=\"_top\" title=\"psysml:cb0d56cf-7b64-416e-8353-0e76041e55a4\" xlink:actuate=\"onRequest\" xlink:href=\"psysml:cb0d56cf-7b64-416e-8353-0e76041e55a4\" xlink:show=\"new\" xlink:title=\"psysml:cb0d56cf-7b64-416e-8353-0e76041e55a4\" xlink:type=\"simple\"><rect fill=\"#FEFECE\" filter=\"url(#flt07tj6nsm25)\" height=\"45.9375\" id=\"E5\" rx=\"10\" ry=\"10\" style=\"stroke: #A80036; stroke-width: 1.5;\" width=\"68\" x=\"165\" y=\"350\"/><ellipse cx=\"180\" cy=\"368.9688\" fill=\"#32CD32\" rx=\"11\" ry=\"11\" style=\"stroke: #A80036; stroke-width: 1.0;\"/><path d=\"M176.8125,373.9688 L176.8125,363.375 L180.4219,363.375 Q181.6406,363.375 182.4375,363.8125 Q183.2344,364.2344 183.6094,364.9375 Q184,365.6406 184,366.4844 Q184,367.3281 183.625,368.0156 Q183.2656,368.7031 182.4688,369.125 Q181.6875,369.5313 180.5,369.5313 L178.7656,369.5313 L178.7656,373.9688 L176.8125,373.9688 Z M178.7656,367.9375 L180.375,367.9375 Q181.1875,367.9375 181.6094,367.5313 Q182.0313,367.125 182.0313,366.4844 Q182.0313,365.8594 181.6094,365.4531 Q181.1875,365.0469 180.3906,365.0469 L178.7656,365.0469 L178.7656,367.9375 Z \"/><text fill=\"#000000\" font-family=\"sans-serif\" font-size=\"12\" font-style=\"italic\" lengthAdjust=\"spacingAndGlyphs\" textLength=\"40\" x=\"192\" y=\"366.1387\">«part»</text><text fill=\"#000000\" font-family=\"sans-serif\" font-size=\"12\" lengthAdjust=\"spacingAndGlyphs\" textLength=\"23\" x=\"200.5\" y=\"380.1074\">c: C</text><line style=\"stroke: #A80036; stroke-width: 1.5;\" x1=\"166\" x2=\"232\" y1=\"387.9375\" y2=\"387.9375\"/></a><!--MD5=[60a26617385b1d2d0262a64233df1f8d]\n",
       "class E6--><a href=\"psysml:cb468909-38eb-4328-9448-1d282e0fd6a5\" target=\"_top\" title=\"psysml:cb468909-38eb-4328-9448-1d282e0fd6a5\" xlink:actuate=\"onRequest\" xlink:href=\"psysml:cb468909-38eb-4328-9448-1d282e0fd6a5\" xlink:show=\"new\" xlink:title=\"psysml:cb468909-38eb-4328-9448-1d282e0fd6a5\" xlink:type=\"simple\"><rect fill=\"#FEFECE\" filter=\"url(#flt07tj6nsm25)\" height=\"40\" id=\"E6\" style=\"stroke: #A80036; stroke-width: 1.5;\" width=\"40\" x=\"128\" y=\"613\"/><ellipse cx=\"143\" cy=\"629\" fill=\"#008000\" rx=\"11\" ry=\"11\" style=\"stroke: #A80036; stroke-width: 1.0;\"/><path d=\"M139.875,634 L139.875,623.4063 L143.1094,623.4063 Q145.0156,623.4063 145.9219,624.1563 Q146.8438,624.9063 146.8438,626.0781 Q146.8438,626.7656 146.4531,627.4219 Q146.0781,628.0781 145.3594,628.375 Q146.2188,628.75 146.7344,629.4375 Q147.25,630.125 147.25,630.9375 Q147.25,632.3125 146.2188,633.1563 Q145.2031,634 143.0938,634 L139.875,634 Z M141.7969,627.6406 L142.9531,627.6406 Q144.0781,627.6406 144.4844,627.2656 Q144.9063,626.875 144.9063,626.25 Q144.9063,625.6719 144.4844,625.3125 Q144.0625,624.9531 143.125,624.9531 L141.7969,624.9531 L141.7969,627.6406 Z M141.7969,632.4219 L143.2969,632.4219 Q144.2031,632.4219 144.7344,632.0313 Q145.2656,631.6406 145.2656,630.8906 Q145.2656,630.125 144.7656,629.6563 Q144.2656,629.1719 143,629.1719 L141.7969,629.1719 L141.7969,632.4219 Z \"/><text fill=\"#000000\" font-family=\"sans-serif\" font-size=\"12\" lengthAdjust=\"spacingAndGlyphs\" textLength=\"8\" x=\"157\" y=\"633.1543\">B</text><line style=\"stroke: #A80036; stroke-width: 1.5;\" x1=\"129\" x2=\"167\" y1=\"645\" y2=\"645\"/></a><!--MD5=[2156ba9850f5573cc1fc38a6a4b2f02b]\n",
       "class E7--><a href=\"psysml:8d68ea76-8496-4a3a-9bac-3b5e10d4f6d7\" target=\"_top\" title=\"psysml:8d68ea76-8496-4a3a-9bac-3b5e10d4f6d7\" xlink:actuate=\"onRequest\" xlink:href=\"psysml:8d68ea76-8496-4a3a-9bac-3b5e10d4f6d7\" xlink:show=\"new\" xlink:title=\"psysml:8d68ea76-8496-4a3a-9bac-3b5e10d4f6d7\" xlink:type=\"simple\"><rect fill=\"#FEFECE\" filter=\"url(#flt07tj6nsm25)\" height=\"45.9375\" id=\"E7\" rx=\"10\" ry=\"10\" style=\"stroke: #A80036; stroke-width: 1.5;\" width=\"68\" x=\"164\" y=\"714\"/><ellipse cx=\"179\" cy=\"732.9688\" fill=\"#32CD32\" rx=\"11\" ry=\"11\" style=\"stroke: #A80036; stroke-width: 1.0;\"/><path d=\"M175.8125,737.9688 L175.8125,727.375 L179.4219,727.375 Q180.6406,727.375 181.4375,727.8125 Q182.2344,728.2344 182.6094,728.9375 Q183,729.6406 183,730.4844 Q183,731.3281 182.625,732.0156 Q182.2656,732.7031 181.4688,733.125 Q180.6875,733.5313 179.5,733.5313 L177.7656,733.5313 L177.7656,737.9688 L175.8125,737.9688 Z M177.7656,731.9375 L179.375,731.9375 Q180.1875,731.9375 180.6094,731.5313 Q181.0313,731.125 181.0313,730.4844 Q181.0313,729.8594 180.6094,729.4531 Q180.1875,729.0469 179.3906,729.0469 L177.7656,729.0469 L177.7656,731.9375 Z \"/><text fill=\"#000000\" font-family=\"sans-serif\" font-size=\"12\" font-style=\"italic\" lengthAdjust=\"spacingAndGlyphs\" textLength=\"40\" x=\"191\" y=\"730.1387\">«part»</text><text fill=\"#000000\" font-family=\"sans-serif\" font-size=\"12\" lengthAdjust=\"spacingAndGlyphs\" textLength=\"24\" x=\"199\" y=\"744.1074\">a: A</text><line style=\"stroke: #A80036; stroke-width: 1.5;\" x1=\"165\" x2=\"231\" y1=\"751.9375\" y2=\"751.9375\"/></a><!--MD5=[b9389687b975829384b498ac4b7476b2]\n",
       "class E8--><a href=\"psysml:3d841289-74ad-422d-b7f3-bdfc719d6361\" target=\"_top\" title=\"psysml:3d841289-74ad-422d-b7f3-bdfc719d6361\" xlink:actuate=\"onRequest\" xlink:href=\"psysml:3d841289-74ad-422d-b7f3-bdfc719d6361\" xlink:show=\"new\" xlink:title=\"psysml:3d841289-74ad-422d-b7f3-bdfc719d6361\" xlink:type=\"simple\"><rect fill=\"#FEFECE\" filter=\"url(#flt07tj6nsm25)\" height=\"40\" id=\"E8\" style=\"stroke: #A80036; stroke-width: 1.5;\" width=\"40\" x=\"128\" y=\"496\"/><ellipse cx=\"143\" cy=\"512\" fill=\"#008000\" rx=\"11\" ry=\"11\" style=\"stroke: #A80036; stroke-width: 1.0;\"/><path d=\"M139.875,517 L139.875,506.4063 L143.1094,506.4063 Q145.0156,506.4063 145.9219,507.1563 Q146.8438,507.9063 146.8438,509.0781 Q146.8438,509.7656 146.4531,510.4219 Q146.0781,511.0781 145.3594,511.375 Q146.2188,511.75 146.7344,512.4375 Q147.25,513.125 147.25,513.9375 Q147.25,515.3125 146.2188,516.1563 Q145.2031,517 143.0938,517 L139.875,517 Z M141.7969,510.6406 L142.9531,510.6406 Q144.0781,510.6406 144.4844,510.2656 Q144.9063,509.875 144.9063,509.25 Q144.9063,508.6719 144.4844,508.3125 Q144.0625,507.9531 143.125,507.9531 L141.7969,507.9531 L141.7969,510.6406 Z M141.7969,515.4219 L143.2969,515.4219 Q144.2031,515.4219 144.7344,515.0313 Q145.2656,514.6406 145.2656,513.8906 Q145.2656,513.125 144.7656,512.6563 Q144.2656,512.1719 143,512.1719 L141.7969,512.1719 L141.7969,515.4219 Z \"/><text fill=\"#000000\" font-family=\"sans-serif\" font-size=\"12\" lengthAdjust=\"spacingAndGlyphs\" textLength=\"8\" x=\"157\" y=\"516.1543\">C</text><line style=\"stroke: #A80036; stroke-width: 1.5;\" x1=\"129\" x2=\"167\" y1=\"528\" y2=\"528\"/></a><!--MD5=[fd4143e9d270a159db93a4ea2a975926]\n",
       "class E9--><a href=\"psysml:192666b5-43c5-4ec0-a40a-8ab471017ca3\" target=\"_top\" title=\"psysml:192666b5-43c5-4ec0-a40a-8ab471017ca3\" xlink:actuate=\"onRequest\" xlink:href=\"psysml:192666b5-43c5-4ec0-a40a-8ab471017ca3\" xlink:show=\"new\" xlink:title=\"psysml:192666b5-43c5-4ec0-a40a-8ab471017ca3\" xlink:type=\"simple\"><rect fill=\"#FEFECE\" filter=\"url(#flt07tj6nsm25)\" height=\"45.9375\" id=\"E9\" style=\"stroke: #A80036; stroke-width: 1.5;\" width=\"92\" x=\"74\" y=\"41\"/><ellipse cx=\"89\" cy=\"59.9688\" fill=\"#A52A2A\" rx=\"11\" ry=\"11\" style=\"stroke: #A80036; stroke-width: 1.0;\"/><path d=\"M86.2188,64.9688 L86.2188,54.375 L88.9531,54.375 Q90.3438,54.375 91.1094,54.7656 Q91.8906,55.1406 92.4219,55.8438 Q92.9531,56.5469 93.25,57.5469 Q93.5469,58.5313 93.5469,59.75 Q93.5,61.3438 93,62.5313 Q92.5156,63.7031 91.4688,64.3438 Q90.4375,64.9688 88.75,64.9688 L86.2188,64.9688 Z M88.0781,63.4688 L88.7031,63.4688 Q89.7813,63.4688 90.4375,63.0156 Q91.0938,62.5625 91.375,61.7344 Q91.6719,60.8906 91.6563,59.7656 Q91.6563,58.5938 91.4063,57.7344 Q91.1563,56.8594 90.5469,56.3906 Q89.9375,55.9063 88.8906,55.9063 L88.0781,55.9063 L88.0781,63.4688 Z \"/><text fill=\"#000000\" font-family=\"sans-serif\" font-size=\"12\" font-style=\"italic\" lengthAdjust=\"spacingAndGlyphs\" textLength=\"64\" x=\"101\" y=\"57.1387\">«port def»</text><text fill=\"#000000\" font-family=\"sans-serif\" font-size=\"12\" lengthAdjust=\"spacingAndGlyphs\" textLength=\"8\" x=\"129\" y=\"71.1074\">P</text><line style=\"stroke: #A80036; stroke-width: 1.5;\" x1=\"75\" x2=\"165\" y1=\"78.9375\" y2=\"78.9375\"/></a><!--MD5=[96f4274e9e20536e775497830990834d]\n",
       "class E10--><a href=\"psysml:a2436968-c74d-4c9f-bf2a-127bcc502b4e\" target=\"_top\" title=\"psysml:a2436968-c74d-4c9f-bf2a-127bcc502b4e\" xlink:actuate=\"onRequest\" xlink:href=\"psysml:a2436968-c74d-4c9f-bf2a-127bcc502b4e\" xlink:show=\"new\" xlink:title=\"psysml:a2436968-c74d-4c9f-bf2a-127bcc502b4e\" xlink:type=\"simple\"><rect fill=\"#FEFECE\" filter=\"url(#flt07tj6nsm25)\" height=\"40\" id=\"E10\" rx=\"10\" ry=\"10\" style=\"stroke: #A80036; stroke-width: 1.5;\" width=\"64\" x=\"32\" y=\"148\"/><ellipse cx=\"47\" cy=\"164\" fill=\"#32CD32\" rx=\"11\" ry=\"11\" style=\"stroke: #A80036; stroke-width: 1.0;\"/><path d=\"M43.8125,169 L43.8125,158.4063 L47.4219,158.4063 Q48.6406,158.4063 49.4375,158.8438 Q50.2344,159.2656 50.6094,159.9688 Q51,160.6719 51,161.5156 Q51,162.3594 50.625,163.0469 Q50.2656,163.7344 49.4688,164.1563 Q48.6875,164.5625 47.5,164.5625 L45.7656,164.5625 L45.7656,169 L43.8125,169 Z M45.7656,162.9688 L47.375,162.9688 Q48.1875,162.9688 48.6094,162.5625 Q49.0313,162.1563 49.0313,161.5156 Q49.0313,160.8906 48.6094,160.4844 Q48.1875,160.0781 47.3906,160.0781 L45.7656,160.0781 L45.7656,162.9688 Z \"/><text fill=\"#000000\" font-family=\"sans-serif\" font-size=\"12\" lengthAdjust=\"spacingAndGlyphs\" textLength=\"32\" x=\"61\" y=\"168.1543\">a1: A</text><line style=\"stroke: #A80036; stroke-width: 1.5;\" x1=\"33\" x2=\"95\" y1=\"180\" y2=\"180\"/></a><!--MD5=[1dd1bfd58a279cf63c5f349dbc8fc6a1]\n",
       "class E11--><a href=\"psysml:6388cc28-f9be-476c-ad05-d9ff93971fbb\" target=\"_top\" title=\"psysml:6388cc28-f9be-476c-ad05-d9ff93971fbb\" xlink:actuate=\"onRequest\" xlink:href=\"psysml:6388cc28-f9be-476c-ad05-d9ff93971fbb\" xlink:show=\"new\" xlink:title=\"psysml:6388cc28-f9be-476c-ad05-d9ff93971fbb\" xlink:type=\"simple\"><rect fill=\"#FEFECE\" filter=\"url(#flt07tj6nsm25)\" height=\"40\" id=\"E11\" rx=\"10\" ry=\"10\" style=\"stroke: #A80036; stroke-width: 1.5;\" width=\"64\" x=\"131\" y=\"148\"/><ellipse cx=\"146\" cy=\"164\" fill=\"#32CD32\" rx=\"11\" ry=\"11\" style=\"stroke: #A80036; stroke-width: 1.0;\"/><path d=\"M142.8125,169 L142.8125,158.4063 L146.4219,158.4063 Q147.6406,158.4063 148.4375,158.8438 Q149.2344,159.2656 149.6094,159.9688 Q150,160.6719 150,161.5156 Q150,162.3594 149.625,163.0469 Q149.2656,163.7344 148.4688,164.1563 Q147.6875,164.5625 146.5,164.5625 L144.7656,164.5625 L144.7656,169 L142.8125,169 Z M144.7656,162.9688 L146.375,162.9688 Q147.1875,162.9688 147.6094,162.5625 Q148.0313,162.1563 148.0313,161.5156 Q148.0313,160.8906 147.6094,160.4844 Q147.1875,160.0781 146.3906,160.0781 L144.7656,160.0781 L144.7656,162.9688 Z \"/><text fill=\"#000000\" font-family=\"sans-serif\" font-size=\"12\" lengthAdjust=\"spacingAndGlyphs\" textLength=\"32\" x=\"160\" y=\"168.1543\">a2: A</text><line style=\"stroke: #A80036; stroke-width: 1.5;\" x1=\"132\" x2=\"194\" y1=\"180\" y2=\"180\"/></a><!--MD5=[2720a5a1f2c3fca2055b230370638851]\n",
       "link E2 to E3--><a href=\"psysml:24dbd283-1078-40f8-9dda-86d7de7bac74\" target=\"_top\" title=\"psysml:24dbd283-1078-40f8-9dda-86d7de7bac74\" xlink:actuate=\"onRequest\" xlink:href=\"psysml:24dbd283-1078-40f8-9dda-86d7de7bac74\" xlink:show=\"new\" xlink:title=\"psysml:24dbd283-1078-40f8-9dda-86d7de7bac74\" xlink:type=\"simple\"><path d=\"M238.07,188.09 C225.85,201.1 209.32,218.69 194.89,234.05 \" fill=\"none\" id=\"E2-&gt;E3\" style=\"stroke: #A80036; stroke-width: 1.0;\"/><polygon fill=\"#FFFFFF\" points=\"180.88,248.97,188.7948,230.3325,198.9946,239.9223,180.88,248.97\" style=\"stroke: #A80036; stroke-width: 1.0;\"/><ellipse cx=\"194.1564\" cy=\"227.5497\" fill=\"#A80036\" rx=\"2\" ry=\"2\" style=\"stroke: #A80036; stroke-width: 1.0;\"/><ellipse cx=\"201.4419\" cy=\"234.3996\" fill=\"#A80036\" rx=\"2\" ry=\"2\" style=\"stroke: #A80036; stroke-width: 1.0;\"/></a><!--MD5=[4672eba38e49728da53d11aeb285b987]\n",
       "reverse link E3 to E4--><a href=\"psysml:9f51e7d9-1020-406a-8433-de0298038040\" target=\"_top\" title=\"psysml:9f51e7d9-1020-406a-8433-de0298038040\" xlink:actuate=\"onRequest\" xlink:href=\"psysml:9f51e7d9-1020-406a-8433-de0298038040\" xlink:show=\"new\" xlink:title=\"psysml:9f51e7d9-1020-406a-8433-de0298038040\" xlink:type=\"simple\"><path d=\"M132.14,289.65 C112.82,303.84 89.48,324.89 78,350 C66.88,374.32 68.23,405.9 70.72,425.82 \" fill=\"none\" id=\"E3&lt;-E4\" style=\"stroke: #A80036; stroke-width: 1.0;\"/><polygon fill=\"#A80036\" points=\"142.94,282.11,135.7307,282.2725,133.108,288.9898,140.3172,288.8272,142.94,282.11\" style=\"stroke: #A80036; stroke-width: 1.0;\"/><text fill=\"#000000\" font-family=\"sans-serif\" font-size=\"13\" lengthAdjust=\"spacingAndGlyphs\" textLength=\"8\" x=\"60.5815\" y=\"414.7754\">1</text></a><!--MD5=[191cde3d490a3f6d7bb551fe3ddca469]\n",
       "reverse link E3 to E5--><a href=\"psysml:7a936c29-0528-4da5-855d-3be7e5f4e113\" target=\"_top\" title=\"psysml:7a936c29-0528-4da5-855d-3be7e5f4e113\" xlink:actuate=\"onRequest\" xlink:href=\"psysml:7a936c29-0528-4da5-855d-3be7e5f4e113\" xlink:show=\"new\" xlink:title=\"psysml:7a936c29-0528-4da5-855d-3be7e5f4e113\" xlink:type=\"simple\"><path d=\"M174.11,301.47 C179.62,317.08 186.14,335.57 191.13,349.7 \" fill=\"none\" id=\"E3&lt;-E5\" style=\"stroke: #A80036; stroke-width: 1.0;\"/><polygon fill=\"#FFFFFF\" points=\"169.77,289.19,167.9962,296.1795,173.7659,300.5052,175.5397,293.5156,169.77,289.19\" style=\"stroke: #A80036; stroke-width: 1.0;\"/><text fill=\"#000000\" font-family=\"sans-serif\" font-size=\"13\" lengthAdjust=\"spacingAndGlyphs\" textLength=\"8\" x=\"180.0883\" y=\"338.8994\">1</text></a><!--MD5=[79568f1e445c3877b6a54524624ccc7d]\n",
       "link E4 to E6--><a href=\"psysml:860f4e4a-475c-4d3a-a05e-585111d40739\" target=\"_top\" title=\"psysml:860f4e4a-475c-4d3a-a05e-585111d40739\" xlink:actuate=\"onRequest\" xlink:href=\"psysml:860f4e4a-475c-4d3a-a05e-585111d40739\" xlink:show=\"new\" xlink:title=\"psysml:860f4e4a-475c-4d3a-a05e-585111d40739\" xlink:type=\"simple\"><path d=\"M81.64,466.1 C93.66,496.15 117.22,555.04 132.78,593.96 \" fill=\"none\" id=\"E4-&gt;E6\" style=\"stroke: #A80036; stroke-width: 1.0;\"/><polygon fill=\"#FFFFFF\" points=\"140.29,612.73,126.7342,597.6887,139.7329,592.4892,140.29,612.73\" style=\"stroke: #A80036; stroke-width: 1.0;\"/><ellipse cx=\"126.4743\" cy=\"591.6536\" fill=\"#A80036\" rx=\"2\" ry=\"2\" style=\"stroke: #A80036; stroke-width: 1.0;\"/><ellipse cx=\"135.759\" cy=\"587.9397\" fill=\"#A80036\" rx=\"2\" ry=\"2\" style=\"stroke: #A80036; stroke-width: 1.0;\"/></a><!--MD5=[3f50a3473f1dfb74d3f76443e03635af]\n",
       "reverse link E6 to E7--><a href=\"psysml:01396c82-09da-45aa-ba0c-a7dad5741ff2\" target=\"_top\" title=\"psysml:01396c82-09da-45aa-ba0c-a7dad5741ff2\" xlink:actuate=\"onRequest\" xlink:href=\"psysml:01396c82-09da-45aa-ba0c-a7dad5741ff2\" xlink:show=\"new\" xlink:title=\"psysml:01396c82-09da-45aa-ba0c-a7dad5741ff2\" xlink:type=\"simple\"><path d=\"M163.2,665 C170.9,680.71 180.07,699.43 187.07,713.7 \" fill=\"none\" id=\"E6&lt;-E7\" style=\"stroke: #A80036; stroke-width: 1.0;\"/><polygon fill=\"#A80036\" points=\"157.4,653.19,156.4458,660.3377,162.6767,663.9676,163.6309,656.8199,157.4,653.19\" style=\"stroke: #A80036; stroke-width: 1.0;\"/><text fill=\"#000000\" font-family=\"sans-serif\" font-size=\"13\" lengthAdjust=\"spacingAndGlyphs\" textLength=\"8\" x=\"175.2442\" y=\"702.8994\">1</text></a><!--MD5=[14ccda38c055a5c0da953d572bc50960]\n",
       "link E7 to E3--><a href=\"psysml:d97708ca-1830-4e5e-bf07-a2aabe0546e8\" target=\"_top\" title=\"psysml:d97708ca-1830-4e5e-bf07-a2aabe0546e8\" xlink:actuate=\"onRequest\" xlink:href=\"psysml:d97708ca-1830-4e5e-bf07-a2aabe0546e8\" xlink:show=\"new\" xlink:title=\"psysml:d97708ca-1830-4e5e-bf07-a2aabe0546e8\" xlink:type=\"simple\"><path d=\"M225.25,713.91 C245.27,695.03 269,665.93 269,634 C269,372 269,372 269,372 C269,333.27 231.8,304.63 201.47,287.72 \" fill=\"none\" id=\"E7-&gt;E3\" style=\"stroke: #A80036; stroke-width: 1.0;\"/><polygon fill=\"#FFFFFF\" points=\"183.44,278.52,203.5461,280.9167,197.1853,293.3883,183.44,278.52\" style=\"stroke: #A80036; stroke-width: 1.0;\"/><ellipse cx=\"207.7151\" cy=\"285.2881\" fill=\"#A80036\" rx=\"2\" ry=\"2\" style=\"stroke: #A80036; stroke-width: 1.0;\"/><ellipse cx=\"203.1717\" cy=\"294.1964\" fill=\"#A80036\" rx=\"2\" ry=\"2\" style=\"stroke: #A80036; stroke-width: 1.0;\"/></a><!--MD5=[dfaffb906826c3e5aca635516100ff21]\n",
       "link E5 to E8--><a href=\"psysml:75f754af-bdfa-473b-8cbb-d11c609ad500\" target=\"_top\" title=\"psysml:75f754af-bdfa-473b-8cbb-d11c609ad500\" xlink:actuate=\"onRequest\" xlink:href=\"psysml:75f754af-bdfa-473b-8cbb-d11c609ad500\" xlink:show=\"new\" xlink:title=\"psysml:75f754af-bdfa-473b-8cbb-d11c609ad500\" xlink:type=\"simple\"><path d=\"M191.03,396.03 C183.21,417.67 171.11,451.1 161.73,477.03 \" fill=\"none\" id=\"E5-&gt;E8\" style=\"stroke: #A80036; stroke-width: 1.0;\"/><polygon fill=\"#FFFFFF\" points=\"154.93,495.84,154.805,475.5919,167.9715,480.3506,154.93,495.84\" style=\"stroke: #A80036; stroke-width: 1.0;\"/><ellipse cx=\"158.6234\" cy=\"470.9111\" fill=\"#A80036\" rx=\"2\" ry=\"2\" style=\"stroke: #A80036; stroke-width: 1.0;\"/><ellipse cx=\"168.028\" cy=\"474.3102\" fill=\"#A80036\" rx=\"2\" ry=\"2\" style=\"stroke: #A80036; stroke-width: 1.0;\"/></a><!--MD5=[03c8294790d3c57651a1993cecff665f]\n",
       "reverse link E8 to E3--><a href=\"psysml:aa35edca-3910-4cd9-97ff-300d5c8627fc\" target=\"_top\" title=\"psysml:aa35edca-3910-4cd9-97ff-300d5c8627fc\" xlink:actuate=\"onRequest\" xlink:href=\"psysml:aa35edca-3910-4cd9-97ff-300d5c8627fc\" xlink:show=\"new\" xlink:title=\"psysml:aa35edca-3910-4cd9-97ff-300d5c8627fc\" xlink:type=\"simple\"><path d=\"M142.43,482.58 C137.58,449.18 132.29,395.7 139,350 C142.14,328.62 149.75,305.03 155.57,289.04 \" fill=\"none\" id=\"E8&lt;-E3\" style=\"stroke: #A80036; stroke-width: 1.0;\"/><polygon fill=\"#FFFFFF\" points=\"144.45,495.58,147.4862,489.0393,142.6164,483.7209,139.5802,490.2617,144.45,495.58\" style=\"stroke: #A80036; stroke-width: 1.0;\"/><text fill=\"#000000\" font-family=\"sans-serif\" font-size=\"13\" lengthAdjust=\"spacingAndGlyphs\" textLength=\"7\" x=\"140\" y=\"377.5669\">y</text></a><!--MD5=[0d75d2178373a6a4568e5dc728f58aef]\n",
       "reverse link E8 to E6--><a href=\"psysml:aa35edca-3910-4cd9-97ff-300d5c8627fc\" target=\"_top\" title=\"psysml:aa35edca-3910-4cd9-97ff-300d5c8627fc\" xlink:actuate=\"onRequest\" xlink:href=\"psysml:aa35edca-3910-4cd9-97ff-300d5c8627fc\" xlink:show=\"new\" xlink:title=\"psysml:aa35edca-3910-4cd9-97ff-300d5c8627fc\" xlink:type=\"simple\"><path d=\"M148,549.36 C148,569.76 148,595.42 148,612.69 \" fill=\"none\" id=\"E8&lt;-E6\" style=\"stroke: #A80036; stroke-width: 1.0;\"/><polygon fill=\"#FFFFFF\" points=\"148,536.25,144,542.25,148,548.25,152,542.25,148,536.25\" style=\"stroke: #A80036; stroke-width: 1.0;\"/><text fill=\"#000000\" font-family=\"sans-serif\" font-size=\"13\" lengthAdjust=\"spacingAndGlyphs\" textLength=\"7\" x=\"149\" y=\"579.0669\">y</text></a><!--MD5=[23ac544a70576c3e717098101004234c]\n",
       "reverse link E9 to E10--><a href=\"psysml:cf1da376-637e-4400-b815-716d62b1c417\" target=\"_top\" title=\"psysml:cf1da376-637e-4400-b815-716d62b1c417\" xlink:actuate=\"onRequest\" xlink:href=\"psysml:cf1da376-637e-4400-b815-716d62b1c417\" xlink:show=\"new\" xlink:title=\"psysml:cf1da376-637e-4400-b815-716d62b1c417\" xlink:type=\"simple\"><path d=\"M101.35,98.97 C92.39,115.3 81.98,134.25 74.43,148 \" fill=\"none\" id=\"E9&lt;-E10\" style=\"stroke: #A80036; stroke-width: 1.0;\"/><polygon fill=\"#FFFFFF\" points=\"107.85,87.13,101.4565,90.4652,102.0761,97.6496,108.4696,94.3144,107.85,87.13\" style=\"stroke: #A80036; stroke-width: 1.0;\"/><text fill=\"#000000\" font-family=\"sans-serif\" font-size=\"13\" lengthAdjust=\"spacingAndGlyphs\" textLength=\"8\" x=\"68.3188\" y=\"137.0083\">1</text></a><!--MD5=[feeac5eb423634930294aa81f2d25a4c]\n",
       "link E10 to E3--><a href=\"psysml:4cf35cfc-841e-4847-875d-1ebad6bb61b9\" target=\"_top\" title=\"psysml:4cf35cfc-841e-4847-875d-1ebad6bb61b9\" xlink:actuate=\"onRequest\" xlink:href=\"psysml:4cf35cfc-841e-4847-875d-1ebad6bb61b9\" xlink:show=\"new\" xlink:title=\"psysml:4cf35cfc-841e-4847-875d-1ebad6bb61b9\" xlink:type=\"simple\"><path d=\"M83.09,188.09 C96.24,201.24 114.06,219.06 129.53,234.53 \" fill=\"none\" id=\"E10-&gt;E3\" style=\"stroke: #A80036; stroke-width: 1.0;\"/><polygon fill=\"#FFFFFF\" points=\"143.97,248.97,125.5852,240.4847,135.4847,230.5852,143.97,248.97\" style=\"stroke: #A80036; stroke-width: 1.0;\"/><ellipse cx=\"122.9689\" cy=\"235.04\" fill=\"#A80036\" rx=\"2\" ry=\"2\" style=\"stroke: #A80036; stroke-width: 1.0;\"/><ellipse cx=\"130.04\" cy=\"227.9689\" fill=\"#A80036\" rx=\"2\" ry=\"2\" style=\"stroke: #A80036; stroke-width: 1.0;\"/></a><!--MD5=[1fc04a95fd77ad5ce46c1a3027516051]\n",
       "reverse link E9 to E11--><a href=\"psysml:bd05daaf-8002-489d-bbfa-6134af678ace\" target=\"_top\" title=\"psysml:bd05daaf-8002-489d-bbfa-6134af678ace\" xlink:actuate=\"onRequest\" xlink:href=\"psysml:bd05daaf-8002-489d-bbfa-6134af678ace\" xlink:show=\"new\" xlink:title=\"psysml:bd05daaf-8002-489d-bbfa-6134af678ace\" xlink:type=\"simple\"><path d=\"M134.52,99.45 C141.36,115.67 149.25,134.38 154.99,148 \" fill=\"none\" id=\"E9&lt;-E11\" style=\"stroke: #A80036; stroke-width: 1.0;\"/><polygon fill=\"#FFFFFF\" points=\"129.33,87.13,127.9801,94.2136,133.9997,98.1842,135.3495,91.1005,129.33,87.13\" style=\"stroke: #A80036; stroke-width: 1.0;\"/><text fill=\"#000000\" font-family=\"sans-serif\" font-size=\"13\" lengthAdjust=\"spacingAndGlyphs\" textLength=\"8\" x=\"143.4621\" y=\"137.0083\">1</text></a><!--MD5=[0517f1ce58c4d5483948f93845c45e26]\n",
       "link E11 to E3--><a href=\"psysml:31e39f64-1f8d-4b2c-be98-c1459e5d6e94\" target=\"_top\" title=\"psysml:31e39f64-1f8d-4b2c-be98-c1459e5d6e94\" xlink:actuate=\"onRequest\" xlink:href=\"psysml:31e39f64-1f8d-4b2c-be98-c1459e5d6e94\" xlink:show=\"new\" xlink:title=\"psysml:31e39f64-1f8d-4b2c-be98-c1459e5d6e94\" xlink:type=\"simple\"><path d=\"M163,188.09 C163,199.59 163,214.68 163,228.63 \" fill=\"none\" id=\"E11-&gt;E3\" style=\"stroke: #A80036; stroke-width: 1.0;\"/><polygon fill=\"#FFFFFF\" points=\"163,248.97,156,229.97,170,229.97,163,248.97\" style=\"stroke: #A80036; stroke-width: 1.0;\"/><ellipse cx=\"158\" cy=\"224.27\" fill=\"#A80036\" rx=\"2\" ry=\"2\" style=\"stroke: #A80036; stroke-width: 1.0;\"/><ellipse cx=\"168\" cy=\"224.27\" fill=\"#A80036\" rx=\"2\" ry=\"2\" style=\"stroke: #A80036; stroke-width: 1.0;\"/></a><!--MD5=[55aab5e3aba699d12e057fdef72604bd]\n",
       "@startuml\r\n",
       " \r\n",
       "package \"ItemTest\" as E1  [[psysml:1bc06463-7392-4b34-87d6-1f1d6784670a ]]  {\r\n",
       "comp usage \"f: A\" as E2 << << (P,limegreen) >> [[psysml:10e5f196-141c-4ebb-934a-0a8c25223d15 ]] {\r\n",
       "}\r\n",
       "comp def \"A\" as E3 << << (B,green) >> [[psysml:d8185bfd-cc57-4585-aec6-0a59765b9e32 ]] {\r\n",
       "}\r\n",
       "comp usage \"b: B\" as E4 << << (P,limegreen) >> [[psysml:867e3ff9-f74d-45bb-974d-3b3d8373197d ]] {\r\n",
       "}\r\n",
       "comp usage \"c: C\" as E5 << << (P,limegreen) part>> [[psysml:cb0d56cf-7b64-416e-8353-0e76041e55a4 ]] {\r\n",
       "}\r\n",
       "comp def \"B\" as E6 << << (B,green) >> [[psysml:cb468909-38eb-4328-9448-1d282e0fd6a5 ]] {\r\n",
       "}\r\n",
       "comp usage \"a: A\" as E7 << << (P,limegreen) part>> [[psysml:8d68ea76-8496-4a3a-9bac-3b5e10d4f6d7 ]] {\r\n",
       "}\r\n",
       "comp def \"C\" as E8 << << (B,green) >> [[psysml:3d841289-74ad-422d-b7f3-bdfc719d6361 ]] {\r\n",
       "}\r\n",
       "comp def \"P\" as E9 << <<(D,brown) port def>> [[psysml:192666b5-43c5-4ec0-a40a-8ab471017ca3 ]] {\r\n",
       "}\r\n",
       "comp usage \"a1: A\" as E10 << << (P,limegreen) >> [[psysml:a2436968-c74d-4c9f-bf2a-127bcc502b4e ]] {\r\n",
       "}\r\n",
       "comp usage \"a2: A\" as E11 << << (P,limegreen) >> [[psysml:6388cc28-f9be-476c-ad05-d9ff93971fbb ]] {\r\n",
       "}\r\n",
       "}\r\n",
       "E2 - -:|> E3 [[psysml:24dbd283-1078-40f8-9dda-86d7de7bac74 ]] \r\n",
       "E3 *- - \"1\"E4 [[psysml:9f51e7d9-1020-406a-8433-de0298038040 ]] \r\n",
       "E3 o- - \"1\"E5 [[psysml:7a936c29-0528-4da5-855d-3be7e5f4e113 ]] \r\n",
       "E4 - -:|> E6 [[psysml:860f4e4a-475c-4d3a-a05e-585111d40739 ]] \r\n",
       "E6 *- - \"1\"E7 [[psysml:01396c82-09da-45aa-ba0c-a7dad5741ff2 ]] \r\n",
       "E7 - -:|> E3 [[psysml:d97708ca-1830-4e5e-bf07-a2aabe0546e8 ]] \r\n",
       "E5 - -:|> E8 [[psysml:75f754af-bdfa-473b-8cbb-d11c609ad500 ]] \r\n",
       "E8 o- - E3 [[psysml:aa35edca-3910-4cd9-97ff-300d5c8627fc ]] : y\r\n",
       "E8 o- - E6 [[psysml:aa35edca-3910-4cd9-97ff-300d5c8627fc ]] : y\r\n",
       "E9 o- - \"1\"E10 [[psysml:cf1da376-637e-4400-b815-716d62b1c417 ]] \r\n",
       "E10 - -:|> E3 [[psysml:4cf35cfc-841e-4847-875d-1ebad6bb61b9 ]] \r\n",
       "E9 o- - \"1\"E11 [[psysml:bd05daaf-8002-489d-bbfa-6134af678ace ]] \r\n",
       "E11 - -:|> E3 [[psysml:31e39f64-1f8d-4b2c-be98-c1459e5d6e94 ]] \r\n",
       "@enduml\r\n",
       "\n",
       "PlantUML version 1.2020.13(Sat Jun 13 12:26:38 UTC 2020)\n",
       "(EPL source distribution)\n",
       "Java Runtime: OpenJDK Runtime Environment\n",
       "JVM: OpenJDK 64-Bit Server VM\n",
       "Default Encoding: UTF-8\n",
       "Language: en\n",
       "Country: null\n",
       "--></g></svg>"
      ]
     },
     "execution_count": 31,
     "metadata": {},
     "output_type": "execute_result"
    }
   ],
   "source": [
    "%viz --style=\"PLANTUML\" --view=\"Tree\" \"ItemTest\""
   ]
  },
  {
   "cell_type": "code",
   "execution_count": 32,
   "id": "4be1300c",
   "metadata": {
    "execution": {
     "iopub.execute_input": "2021-10-03T08:27:28.689370Z",
     "iopub.status.busy": "2021-10-03T08:27:28.688976Z",
     "iopub.status.idle": "2021-10-03T08:27:28.780753Z",
     "shell.execute_reply": "2021-10-03T08:27:28.778439Z"
    }
   },
   "outputs": [
    {
     "data": {
      "image/svg+xml": [
       "<?xml version=\"1.0\" encoding=\"UTF-8\" standalone=\"no\"?><svg xmlns=\"http://www.w3.org/2000/svg\" xmlns:xlink=\"http://www.w3.org/1999/xlink\" contentScriptType=\"application/ecmascript\" contentStyleType=\"text/css\" height=\"300px\" preserveAspectRatio=\"none\" style=\"width:603px;height:300px;background:#000000;\" version=\"1.1\" viewBox=\"0 0 603 300\" width=\"603px\" zoomAndPan=\"magnify\"><defs/><g><rect fill=\"#0A1E20\" height=\"1\" style=\"stroke: #0A1E20; stroke-width: 1.0;\" width=\"1\" x=\"0\" y=\"0\"/><rect fill=\"#FFFFFF\" height=\"202.8012\" style=\"stroke: #FFFFFF; stroke-width: 1.0;\" width=\"602\" x=\"0\" y=\"0\"/><text fill=\"#000000\" font-family=\"sans-serif\" font-size=\"12\" font-weight=\"bold\" lengthAdjust=\"spacingAndGlyphs\" textLength=\"139\" x=\"5\" y=\"16.1387\">Welcome to PlantUML!</text><text fill=\"#000000\" font-family=\"sans-serif\" font-size=\"12\" lengthAdjust=\"spacingAndGlyphs\" textLength=\"0\" x=\"9\" y=\"30.1074\"/><text fill=\"#000000\" font-family=\"sans-serif\" font-size=\"12\" lengthAdjust=\"spacingAndGlyphs\" textLength=\"293\" x=\"5\" y=\"44.0762\">If you use this software, you accept its license.</text><text fill=\"#000000\" font-family=\"sans-serif\" font-size=\"12\" lengthAdjust=\"spacingAndGlyphs\" textLength=\"107\" x=\"5\" y=\"58.0449\">(details by typing</text><text fill=\"#000000\" font-family=\"monospace\" font-size=\"12\" lengthAdjust=\"spacingAndGlyphs\" textLength=\"42\" x=\"116\" y=\"58.595\">license</text><text fill=\"#000000\" font-family=\"sans-serif\" font-size=\"12\" lengthAdjust=\"spacingAndGlyphs\" textLength=\"56\" x=\"162\" y=\"58.0449\">keyword)</text><text fill=\"#000000\" font-family=\"sans-serif\" font-size=\"12\" lengthAdjust=\"spacingAndGlyphs\" textLength=\"0\" x=\"9\" y=\"72.0137\"/><text fill=\"#000000\" font-family=\"sans-serif\" font-size=\"12\" lengthAdjust=\"spacingAndGlyphs\" textLength=\"283\" x=\"5\" y=\"85.9824\">You can start with a simple UML Diagram like:</text><text fill=\"#000000\" font-family=\"sans-serif\" font-size=\"12\" lengthAdjust=\"spacingAndGlyphs\" textLength=\"0\" x=\"9\" y=\"99.9512\"/><text fill=\"#000000\" font-family=\"monospace\" font-size=\"12\" lengthAdjust=\"spacingAndGlyphs\" textLength=\"102\" x=\"5\" y=\"113.0893\">Bob-&gt;Alice: Hello</text><text fill=\"#000000\" font-family=\"sans-serif\" font-size=\"12\" lengthAdjust=\"spacingAndGlyphs\" textLength=\"0\" x=\"9\" y=\"126.508\"/><text fill=\"#000000\" font-family=\"sans-serif\" font-size=\"12\" lengthAdjust=\"spacingAndGlyphs\" textLength=\"14\" x=\"5\" y=\"140.4768\">Or</text><text fill=\"#000000\" font-family=\"sans-serif\" font-size=\"12\" lengthAdjust=\"spacingAndGlyphs\" textLength=\"0\" x=\"9\" y=\"154.4455\"/><text fill=\"#000000\" font-family=\"monospace\" font-size=\"12\" lengthAdjust=\"spacingAndGlyphs\" textLength=\"78\" x=\"5\" y=\"167.5837\">class Example</text><text fill=\"#000000\" font-family=\"sans-serif\" font-size=\"12\" lengthAdjust=\"spacingAndGlyphs\" textLength=\"0\" x=\"9\" y=\"181.0023\"/><text fill=\"#000000\" font-family=\"sans-serif\" font-size=\"12\" lengthAdjust=\"spacingAndGlyphs\" textLength=\"349\" x=\"5\" y=\"194.9711\">You will find more information about PlantUML syntax on</text><text fill=\"#000000\" font-family=\"sans-serif\" font-size=\"12\" lengthAdjust=\"spacingAndGlyphs\" text-decoration=\"underline\" textLength=\"129\" x=\"358\" y=\"194.9711\">https://plantuml.com</text><image height=\"71\" width=\"80\" x=\"516\" xlink:href=\"data:image/png;base64,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\" y=\"6\"/><rect fill=\"#000000\" height=\"96.4844\" style=\"stroke: #000000; stroke-width: 1.0;\" width=\"602\" x=\"0\" y=\"202.8012\"/><rect fill=\"#33FF02\" height=\"21.2969\" style=\"stroke: #33FF02; stroke-width: 1.0;\" width=\"145\" x=\"5\" y=\"207.8012\"/><text fill=\"#000000\" font-family=\"sans-serif\" font-size=\"14\" font-weight=\"bold\" lengthAdjust=\"spacingAndGlyphs\" textLength=\"143\" x=\"6\" y=\"222.8012\">[From string (line 2) ]</text><text fill=\"#33FF02\" font-family=\"sans-serif\" font-size=\"14\" font-weight=\"bold\" lengthAdjust=\"spacingAndGlyphs\" textLength=\"0\" x=\"9\" y=\"243.0981\"/><text fill=\"#33FF02\" font-family=\"sans-serif\" font-size=\"14\" font-weight=\"bold\" lengthAdjust=\"spacingAndGlyphs\" textLength=\"70\" x=\"5\" y=\"259.3949\">@startuml</text><text fill=\"#33FF02\" font-family=\"sans-serif\" font-size=\"14\" font-weight=\"bold\" lengthAdjust=\"spacingAndGlyphs\" textLength=\"0\" x=\"9\" y=\"275.6918\"/><text fill=\"#FF0000\" font-family=\"sans-serif\" font-size=\"14\" font-weight=\"bold\" lengthAdjust=\"spacingAndGlyphs\" textLength=\"124\" x=\"9\" y=\"291.9887\">Empty description</text><!--MD5=[f59edd8218d337f74d0c332fc6737304]\n",
       "@startuml\r\n",
       " \r\n",
       "@enduml\r\n",
       "\n",
       "PlantUML version 1.2020.13(Sat Jun 13 12:26:38 UTC 2020)\n",
       "(EPL source distribution)\n",
       "Java Runtime: OpenJDK Runtime Environment\n",
       "JVM: OpenJDK 64-Bit Server VM\n",
       "Default Encoding: UTF-8\n",
       "Language: en\n",
       "Country: null\n",
       "--></g></svg>"
      ]
     },
     "execution_count": 32,
     "metadata": {},
     "output_type": "execute_result"
    }
   ],
   "source": [
    "%viz --style=\"PLANTUML\" --view=\"State\" \"ItemTest\""
   ]
  },
  {
   "cell_type": "code",
   "execution_count": 33,
   "id": "f2c96870",
   "metadata": {
    "execution": {
     "iopub.execute_input": "2021-10-03T08:27:28.829068Z",
     "iopub.status.busy": "2021-10-03T08:27:28.828655Z",
     "iopub.status.idle": "2021-10-03T08:27:28.849430Z",
     "shell.execute_reply": "2021-10-03T08:27:28.849067Z"
    }
   },
   "outputs": [
    {
     "data": {
      "image/svg+xml": [
       "<?xml version=\"1.0\" encoding=\"UTF-8\" standalone=\"no\"?><svg xmlns=\"http://www.w3.org/2000/svg\" xmlns:xlink=\"http://www.w3.org/1999/xlink\" contentScriptType=\"application/ecmascript\" contentStyleType=\"text/css\" height=\"112px\" preserveAspectRatio=\"none\" style=\"width:515px;height:112px;\" version=\"1.1\" viewBox=\"0 0 515 112\" width=\"515px\" zoomAndPan=\"magnify\"><defs><filter height=\"300%\" id=\"f1q559hgp21r3z\" width=\"300%\" x=\"-1\" y=\"-1\"><feGaussianBlur result=\"blurOut\" stdDeviation=\"2.0\"/><feColorMatrix in=\"blurOut\" result=\"blurOut2\" type=\"matrix\" values=\"0 0 0 0 0 0 0 0 0 0 0 0 0 0 0 0 0 0 .4 0\"/><feOffset dx=\"4.0\" dy=\"4.0\" in=\"blurOut2\" result=\"blurOut3\"/><feBlend in=\"SourceGraphic\" in2=\"blurOut3\" mode=\"normal\"/></filter></defs><g><!--MD5=[fbc87193dbaf4d95561dea2c320d4a47]\n",
       "cluster E1--><a href=\"psysml:1bc06463-7392-4b34-87d6-1f1d6784670a\" target=\"_top\" title=\"psysml:1bc06463-7392-4b34-87d6-1f1d6784670a\" xlink:actuate=\"onRequest\" xlink:href=\"psysml:1bc06463-7392-4b34-87d6-1f1d6784670a\" xlink:show=\"new\" xlink:title=\"psysml:1bc06463-7392-4b34-87d6-1f1d6784670a\" xlink:type=\"simple\"><polygon fill=\"#FFFFFF\" filter=\"url(#f1q559hgp21r3z)\" points=\"16,6,83,6,90,28.2969,493,28.2969,493,100,16,100,16,6\" style=\"stroke: #000000; stroke-width: 1.5;\"/><line style=\"stroke: #000000; stroke-width: 1.5;\" x1=\"16\" x2=\"90\" y1=\"28.2969\" y2=\"28.2969\"/><text fill=\"#000000\" font-family=\"sans-serif\" font-size=\"14\" font-weight=\"bold\" lengthAdjust=\"spacingAndGlyphs\" textLength=\"61\" x=\"20\" y=\"20.9951\">ItemTest</text></a><g id=\"E1.E3\"><a href=\"psysml:d8185bfd-cc57-4585-aec6-0a59765b9e32\" target=\"_top\" title=\"psysml:d8185bfd-cc57-4585-aec6-0a59765b9e32\" xlink:actuate=\"onRequest\" xlink:href=\"psysml:d8185bfd-cc57-4585-aec6-0a59765b9e32\" xlink:show=\"new\" xlink:title=\"psysml:d8185bfd-cc57-4585-aec6-0a59765b9e32\" xlink:type=\"simple\"><rect fill=\"#FEFECE\" filter=\"url(#f1q559hgp21r3z)\" height=\"40\" id=\"E3\" style=\"stroke: #A80036; stroke-width: 1.5;\" width=\"50\" x=\"427\" y=\"42.5\"/><ellipse cx=\"446.5\" cy=\"58.5\" fill=\"#008000\" rx=\"11\" ry=\"11\" style=\"stroke: #A80036; stroke-width: 1.0;\"/><path d=\"M443.375,63.5 L443.375,52.9063 L446.6094,52.9063 Q448.5156,52.9063 449.4219,53.6563 Q450.3438,54.4063 450.3438,55.5781 Q450.3438,56.2656 449.9531,56.9219 Q449.5781,57.5781 448.8594,57.875 Q449.7188,58.25 450.2344,58.9375 Q450.75,59.625 450.75,60.4375 Q450.75,61.8125 449.7188,62.6563 Q448.7031,63.5 446.5938,63.5 L443.375,63.5 Z M445.2969,57.1406 L446.4531,57.1406 Q447.5781,57.1406 447.9844,56.7656 Q448.4063,56.375 448.4063,55.75 Q448.4063,55.1719 447.9844,54.8125 Q447.5625,54.4531 446.625,54.4531 L445.2969,54.4531 L445.2969,57.1406 Z M445.2969,61.9219 L446.7969,61.9219 Q447.7031,61.9219 448.2344,61.5313 Q448.7656,61.1406 448.7656,60.3906 Q448.7656,59.625 448.2656,59.1563 Q447.7656,58.6719 446.5,58.6719 L445.2969,58.6719 L445.2969,61.9219 Z \"/><text fill=\"#000000\" font-family=\"sans-serif\" font-size=\"12\" lengthAdjust=\"spacingAndGlyphs\" textLength=\"8\" x=\"461.5\" y=\"62.6543\">A</text></a></g><g id=\"E1.E4\"><a href=\"psysml:cb468909-38eb-4328-9448-1d282e0fd6a5\" target=\"_top\" title=\"psysml:cb468909-38eb-4328-9448-1d282e0fd6a5\" xlink:actuate=\"onRequest\" xlink:href=\"psysml:cb468909-38eb-4328-9448-1d282e0fd6a5\" xlink:show=\"new\" xlink:title=\"psysml:cb468909-38eb-4328-9448-1d282e0fd6a5\" xlink:type=\"simple\"><rect fill=\"#FEFECE\" filter=\"url(#f1q559hgp21r3z)\" height=\"40\" id=\"E4\" style=\"stroke: #A80036; stroke-width: 1.5;\" width=\"50\" x=\"342\" y=\"42.5\"/><ellipse cx=\"361.5\" cy=\"58.5\" fill=\"#008000\" rx=\"11\" ry=\"11\" style=\"stroke: #A80036; stroke-width: 1.0;\"/><path d=\"M358.375,63.5 L358.375,52.9063 L361.6094,52.9063 Q363.5156,52.9063 364.4219,53.6563 Q365.3438,54.4063 365.3438,55.5781 Q365.3438,56.2656 364.9531,56.9219 Q364.5781,57.5781 363.8594,57.875 Q364.7188,58.25 365.2344,58.9375 Q365.75,59.625 365.75,60.4375 Q365.75,61.8125 364.7188,62.6563 Q363.7031,63.5 361.5938,63.5 L358.375,63.5 Z M360.2969,57.1406 L361.4531,57.1406 Q362.5781,57.1406 362.9844,56.7656 Q363.4063,56.375 363.4063,55.75 Q363.4063,55.1719 362.9844,54.8125 Q362.5625,54.4531 361.625,54.4531 L360.2969,54.4531 L360.2969,57.1406 Z M360.2969,61.9219 L361.7969,61.9219 Q362.7031,61.9219 363.2344,61.5313 Q363.7656,61.1406 363.7656,60.3906 Q363.7656,59.625 363.2656,59.1563 Q362.7656,58.6719 361.5,58.6719 L360.2969,58.6719 L360.2969,61.9219 Z \"/><text fill=\"#000000\" font-family=\"sans-serif\" font-size=\"12\" lengthAdjust=\"spacingAndGlyphs\" textLength=\"8\" x=\"376.5\" y=\"62.6543\">B</text></a></g><g id=\"E1.E6\"><a href=\"psysml:192666b5-43c5-4ec0-a40a-8ab471017ca3\" target=\"_top\" title=\"psysml:192666b5-43c5-4ec0-a40a-8ab471017ca3\" xlink:actuate=\"onRequest\" xlink:href=\"psysml:192666b5-43c5-4ec0-a40a-8ab471017ca3\" xlink:show=\"new\" xlink:title=\"psysml:192666b5-43c5-4ec0-a40a-8ab471017ca3\" xlink:type=\"simple\"><rect fill=\"#FEFECE\" filter=\"url(#f1q559hgp21r3z)\" height=\"42.9375\" id=\"E6\" style=\"stroke: #A80036; stroke-width: 1.5;\" width=\"97\" x=\"209.5\" y=\"41\"/><ellipse cx=\"226.75\" cy=\"59.9688\" fill=\"#A52A2A\" rx=\"11\" ry=\"11\" style=\"stroke: #A80036; stroke-width: 1.0;\"/><path d=\"M223.9688,64.9688 L223.9688,54.375 L226.7031,54.375 Q228.0938,54.375 228.8594,54.7656 Q229.6406,55.1406 230.1719,55.8438 Q230.7031,56.5469 231,57.5469 Q231.2969,58.5313 231.2969,59.75 Q231.25,61.3438 230.75,62.5313 Q230.2656,63.7031 229.2188,64.3438 Q228.1875,64.9688 226.5,64.9688 L223.9688,64.9688 Z M225.8281,63.4688 L226.4531,63.4688 Q227.5313,63.4688 228.1875,63.0156 Q228.8438,62.5625 229.125,61.7344 Q229.4219,60.8906 229.4063,59.7656 Q229.4063,58.5938 229.1563,57.7344 Q228.9063,56.8594 228.2969,56.3906 Q227.6875,55.9063 226.6406,55.9063 L225.8281,55.9063 L225.8281,63.4688 Z \"/><text fill=\"#000000\" font-family=\"sans-serif\" font-size=\"12\" font-style=\"italic\" lengthAdjust=\"spacingAndGlyphs\" textLength=\"64\" x=\"239.25\" y=\"57.1387\">«port def»</text><text fill=\"#000000\" font-family=\"sans-serif\" font-size=\"12\" lengthAdjust=\"spacingAndGlyphs\" textLength=\"8\" x=\"267.25\" y=\"71.1074\">P</text></a></g><g id=\"E1.E2\"><a href=\"psysml:10e5f196-141c-4ebb-934a-0a8c25223d15\" target=\"_top\" title=\"psysml:10e5f196-141c-4ebb-934a-0a8c25223d15\" xlink:actuate=\"onRequest\" xlink:href=\"psysml:10e5f196-141c-4ebb-934a-0a8c25223d15\" xlink:show=\"new\" xlink:title=\"psysml:10e5f196-141c-4ebb-934a-0a8c25223d15\" xlink:type=\"simple\"><rect fill=\"#FEFECE\" filter=\"url(#f1q559hgp21r3z)\" height=\"40\" id=\"E2\" rx=\"10\" ry=\"10\" style=\"stroke: #A80036; stroke-width: 1.5;\" width=\"57\" x=\"117.5\" y=\"42.5\"/><ellipse cx=\"134.75\" cy=\"58.5\" fill=\"#32CD32\" rx=\"11\" ry=\"11\" style=\"stroke: #A80036; stroke-width: 1.0;\"/><path d=\"M131.5625,63.5 L131.5625,52.9063 L135.1719,52.9063 Q136.3906,52.9063 137.1875,53.3438 Q137.9844,53.7656 138.3594,54.4688 Q138.75,55.1719 138.75,56.0156 Q138.75,56.8594 138.375,57.5469 Q138.0156,58.2344 137.2188,58.6563 Q136.4375,59.0625 135.25,59.0625 L133.5156,59.0625 L133.5156,63.5 L131.5625,63.5 Z M133.5156,57.4688 L135.125,57.4688 Q135.9375,57.4688 136.3594,57.0625 Q136.7813,56.6563 136.7813,56.0156 Q136.7813,55.3906 136.3594,54.9844 Q135.9375,54.5781 135.1406,54.5781 L133.5156,54.5781 L133.5156,57.4688 Z \"/><text fill=\"#000000\" font-family=\"sans-serif\" font-size=\"12\" lengthAdjust=\"spacingAndGlyphs\" textLength=\"20\" x=\"149.25\" y=\"62.6543\">f: A</text></a></g><g id=\"E1.E5\"><a href=\"psysml:3d841289-74ad-422d-b7f3-bdfc719d6361\" target=\"_top\" title=\"psysml:3d841289-74ad-422d-b7f3-bdfc719d6361\" xlink:actuate=\"onRequest\" xlink:href=\"psysml:3d841289-74ad-422d-b7f3-bdfc719d6361\" xlink:show=\"new\" xlink:title=\"psysml:3d841289-74ad-422d-b7f3-bdfc719d6361\" xlink:type=\"simple\"><rect fill=\"#FEFECE\" filter=\"url(#f1q559hgp21r3z)\" height=\"40\" id=\"E5\" style=\"stroke: #A80036; stroke-width: 1.5;\" width=\"50\" x=\"32\" y=\"42.5\"/><ellipse cx=\"51.5\" cy=\"58.5\" fill=\"#008000\" rx=\"11\" ry=\"11\" style=\"stroke: #A80036; stroke-width: 1.0;\"/><path d=\"M48.375,63.5 L48.375,52.9063 L51.6094,52.9063 Q53.5156,52.9063 54.4219,53.6563 Q55.3438,54.4063 55.3438,55.5781 Q55.3438,56.2656 54.9531,56.9219 Q54.5781,57.5781 53.8594,57.875 Q54.7188,58.25 55.2344,58.9375 Q55.75,59.625 55.75,60.4375 Q55.75,61.8125 54.7188,62.6563 Q53.7031,63.5 51.5938,63.5 L48.375,63.5 Z M50.2969,57.1406 L51.4531,57.1406 Q52.5781,57.1406 52.9844,56.7656 Q53.4063,56.375 53.4063,55.75 Q53.4063,55.1719 52.9844,54.8125 Q52.5625,54.4531 51.625,54.4531 L50.2969,54.4531 L50.2969,57.1406 Z M50.2969,61.9219 L51.7969,61.9219 Q52.7031,61.9219 53.2344,61.5313 Q53.7656,61.1406 53.7656,60.3906 Q53.7656,59.625 53.2656,59.1563 Q52.7656,58.6719 51.5,58.6719 L50.2969,58.6719 L50.2969,61.9219 Z \"/><text fill=\"#000000\" font-family=\"sans-serif\" font-size=\"12\" lengthAdjust=\"spacingAndGlyphs\" textLength=\"8\" x=\"66.5\" y=\"62.6543\">C</text></a></g><!--MD5=[9ce40209b2495105f7b86da30fc19a0e]\n",
       "@startuml\r\n",
       "skinparam ranksep 10\r\n",
       "skinparam rectangle {\r\n",
       " backgroundColor<<block>> LightGreen\r\n",
       "}\r\n",
       " \r\n",
       "package \"ItemTest\" as E1  [[psysml:1bc06463-7392-4b34-87d6-1f1d6784670a ]]  {\r\n",
       "rec usage \"f: A\" as E2 << << (P,limegreen) >> [[psysml:10e5f196-141c-4ebb-934a-0a8c25223d15 ]] {\r\n",
       "}\r\n",
       "def \"A\" as E3 << << (B,green) >> [[psysml:d8185bfd-cc57-4585-aec6-0a59765b9e32 ]] \r\n",
       "def \"B\" as E4 << << (B,green) >> [[psysml:cb468909-38eb-4328-9448-1d282e0fd6a5 ]] \r\n",
       "rec def \"C\" as E5 << << (B,green) >> [[psysml:3d841289-74ad-422d-b7f3-bdfc719d6361 ]] {\r\n",
       "}\r\n",
       "def \"P\" as E6 << <<(D,brown) port def>> [[psysml:192666b5-43c5-4ec0-a40a-8ab471017ca3 ]] \r\n",
       "}\r\n",
       "@enduml\r\n",
       "\n",
       "PlantUML version 1.2020.13(Sat Jun 13 12:26:38 UTC 2020)\n",
       "(EPL source distribution)\n",
       "Java Runtime: OpenJDK Runtime Environment\n",
       "JVM: OpenJDK 64-Bit Server VM\n",
       "Default Encoding: UTF-8\n",
       "Language: en\n",
       "Country: null\n",
       "--></g></svg>"
      ]
     },
     "execution_count": 33,
     "metadata": {},
     "output_type": "execute_result"
    }
   ],
   "source": [
    "%viz --style=\"PLANTUML\" --view=\"Interconnection\" \"ItemTest\""
   ]
  },
  {
   "cell_type": "code",
   "execution_count": 34,
   "id": "170c793d",
   "metadata": {
    "execution": {
     "iopub.execute_input": "2021-10-03T08:27:28.898641Z",
     "iopub.status.busy": "2021-10-03T08:27:28.898240Z",
     "iopub.status.idle": "2021-10-03T08:27:28.902774Z",
     "shell.execute_reply": "2021-10-03T08:27:28.903094Z"
    }
   },
   "outputs": [
    {
     "data": {
      "image/svg+xml": [
       "<?xml version=\"1.0\" encoding=\"UTF-8\" standalone=\"no\"?><svg xmlns=\"http://www.w3.org/2000/svg\" xmlns:xlink=\"http://www.w3.org/1999/xlink\" contentScriptType=\"application/ecmascript\" contentStyleType=\"text/css\" height=\"12px\" preserveAspectRatio=\"none\" style=\"width:12px;height:12px;\" version=\"1.1\" viewBox=\"0 0 12 12\" width=\"12px\" zoomAndPan=\"magnify\"><defs/><g><!--MD5=[6a4cb978cab31700e1ce5529f947a75d]\n",
       "@startuml\r\n",
       "skinparam ranksep 8\r\n",
       " \r\n",
       "@enduml\r\n",
       "\n",
       "PlantUML version 1.2020.13(Sat Jun 13 12:26:38 UTC 2020)\n",
       "(EPL source distribution)\n",
       "Java Runtime: OpenJDK Runtime Environment\n",
       "JVM: OpenJDK 64-Bit Server VM\n",
       "Default Encoding: UTF-8\n",
       "Language: en\n",
       "Country: null\n",
       "--></g></svg>"
      ]
     },
     "execution_count": 34,
     "metadata": {},
     "output_type": "execute_result"
    }
   ],
   "source": [
    "%viz --style=\"PLANTUML\" --view=\"Action\" \"ItemTest\""
   ]
  },
  {
   "cell_type": "code",
   "execution_count": 35,
   "id": "4562ca3e",
   "metadata": {
    "execution": {
     "iopub.execute_input": "2021-10-03T08:27:28.952660Z",
     "iopub.status.busy": "2021-10-03T08:27:28.952263Z",
     "iopub.status.idle": "2021-10-03T08:27:28.957694Z",
     "shell.execute_reply": "2021-10-03T08:27:28.957360Z"
    }
   },
   "outputs": [
    {
     "data": {
      "image/svg+xml": [
       "<?xml version=\"1.0\" encoding=\"UTF-8\" standalone=\"no\"?><svg xmlns=\"http://www.w3.org/2000/svg\" xmlns:xlink=\"http://www.w3.org/1999/xlink\" contentScriptType=\"application/ecmascript\" contentStyleType=\"text/css\" height=\"12px\" preserveAspectRatio=\"none\" style=\"width:12px;height:12px;\" version=\"1.1\" viewBox=\"0 0 12 12\" width=\"12px\" zoomAndPan=\"magnify\"><defs/><g><!--MD5=[ca4faa0b02def275ea33c14ea7a1a98d]\n",
       "@startuml\r\n",
       "skinparam roundcorner 20\r\n",
       "skinparam BoxPadding 20\r\n",
       "skinparam SequenceBoxBackgroundColor #white\r\n",
       "skinparam style strictuml\r\n",
       "skinparam maxMessageSize 100\r\n",
       " \r\n",
       "@enduml\r\n",
       "\n",
       "PlantUML version 1.2020.13(Sat Jun 13 12:26:38 UTC 2020)\n",
       "(EPL source distribution)\n",
       "Java Runtime: OpenJDK Runtime Environment\n",
       "JVM: OpenJDK 64-Bit Server VM\n",
       "Default Encoding: UTF-8\n",
       "Language: en\n",
       "Country: null\n",
       "--></g></svg>"
      ]
     },
     "execution_count": 35,
     "metadata": {},
     "output_type": "execute_result"
    }
   ],
   "source": [
    "%viz --style=\"PLANTUML\" --view=\"Sequence\" \"ItemTest\""
   ]
  },
  {
   "cell_type": "code",
   "execution_count": 36,
   "id": "f4c4e5fd",
   "metadata": {
    "execution": {
     "iopub.execute_input": "2021-10-03T08:27:29.006901Z",
     "iopub.status.busy": "2021-10-03T08:27:29.006501Z",
     "iopub.status.idle": "2021-10-03T08:27:29.051485Z",
     "shell.execute_reply": "2021-10-03T08:27:29.049464Z"
    }
   },
   "outputs": [
    {
     "data": {
      "image/svg+xml": [
       "<?xml version=\"1.0\" encoding=\"UTF-8\" standalone=\"no\"?><svg xmlns=\"http://www.w3.org/2000/svg\" xmlns:xlink=\"http://www.w3.org/1999/xlink\" contentScriptType=\"application/ecmascript\" contentStyleType=\"text/css\" height=\"788px\" preserveAspectRatio=\"none\" style=\"width:320px;height:788px;\" version=\"1.1\" viewBox=\"0 0 320 788\" width=\"320px\" zoomAndPan=\"magnify\"><defs><filter height=\"300%\" id=\"flt07tj6nsm25\" width=\"300%\" x=\"-1\" y=\"-1\"><feGaussianBlur result=\"blurOut\" stdDeviation=\"2.0\"/><feColorMatrix in=\"blurOut\" result=\"blurOut2\" type=\"matrix\" values=\"0 0 0 0 0 0 0 0 0 0 0 0 0 0 0 0 0 0 .4 0\"/><feOffset dx=\"4.0\" dy=\"4.0\" in=\"blurOut2\" result=\"blurOut3\"/><feBlend in=\"SourceGraphic\" in2=\"blurOut3\" mode=\"normal\"/></filter></defs><g><!--MD5=[fbc87193dbaf4d95561dea2c320d4a47]\n",
       "cluster E1--><a href=\"psysml:1bc06463-7392-4b34-87d6-1f1d6784670a\" target=\"_top\" title=\"psysml:1bc06463-7392-4b34-87d6-1f1d6784670a\" xlink:actuate=\"onRequest\" xlink:href=\"psysml:1bc06463-7392-4b34-87d6-1f1d6784670a\" xlink:show=\"new\" xlink:title=\"psysml:1bc06463-7392-4b34-87d6-1f1d6784670a\" xlink:type=\"simple\"><polygon fill=\"#FFFFFF\" filter=\"url(#flt07tj6nsm25)\" points=\"16,6,83,6,90,28.2969,298,28.2969,298,776,16,776,16,6\" style=\"stroke: #000000; stroke-width: 1.5;\"/><line style=\"stroke: #000000; stroke-width: 1.5;\" x1=\"16\" x2=\"90\" y1=\"28.2969\" y2=\"28.2969\"/><text fill=\"#000000\" font-family=\"sans-serif\" font-size=\"14\" font-weight=\"bold\" lengthAdjust=\"spacingAndGlyphs\" textLength=\"61\" x=\"20\" y=\"20.9951\">ItemTest</text></a><!--MD5=[b4997ac47864f28c2f74865a473b2911]\n",
       "class E2--><a href=\"psysml:10e5f196-141c-4ebb-934a-0a8c25223d15\" target=\"_top\" title=\"psysml:10e5f196-141c-4ebb-934a-0a8c25223d15\" xlink:actuate=\"onRequest\" xlink:href=\"psysml:10e5f196-141c-4ebb-934a-0a8c25223d15\" xlink:show=\"new\" xlink:title=\"psysml:10e5f196-141c-4ebb-934a-0a8c25223d15\" xlink:type=\"simple\"><rect fill=\"#FEFECE\" filter=\"url(#flt07tj6nsm25)\" height=\"40\" id=\"E2\" rx=\"10\" ry=\"10\" style=\"stroke: #A80036; stroke-width: 1.5;\" width=\"52\" x=\"230\" y=\"148\"/><ellipse cx=\"245\" cy=\"164\" fill=\"#32CD32\" rx=\"11\" ry=\"11\" style=\"stroke: #A80036; stroke-width: 1.0;\"/><path d=\"M241.8125,169 L241.8125,158.4063 L245.4219,158.4063 Q246.6406,158.4063 247.4375,158.8438 Q248.2344,159.2656 248.6094,159.9688 Q249,160.6719 249,161.5156 Q249,162.3594 248.625,163.0469 Q248.2656,163.7344 247.4688,164.1563 Q246.6875,164.5625 245.5,164.5625 L243.7656,164.5625 L243.7656,169 L241.8125,169 Z M243.7656,162.9688 L245.375,162.9688 Q246.1875,162.9688 246.6094,162.5625 Q247.0313,162.1563 247.0313,161.5156 Q247.0313,160.8906 246.6094,160.4844 Q246.1875,160.0781 245.3906,160.0781 L243.7656,160.0781 L243.7656,162.9688 Z \"/><text fill=\"#000000\" font-family=\"sans-serif\" font-size=\"12\" lengthAdjust=\"spacingAndGlyphs\" textLength=\"20\" x=\"259\" y=\"168.1543\">f: A</text><line style=\"stroke: #A80036; stroke-width: 1.5;\" x1=\"231\" x2=\"281\" y1=\"180\" y2=\"180\"/></a><!--MD5=[09b614a08d8cba4a07c9adeb5e0fee81]\n",
       "class E3--><a href=\"psysml:d8185bfd-cc57-4585-aec6-0a59765b9e32\" target=\"_top\" title=\"psysml:d8185bfd-cc57-4585-aec6-0a59765b9e32\" xlink:actuate=\"onRequest\" xlink:href=\"psysml:d8185bfd-cc57-4585-aec6-0a59765b9e32\" xlink:show=\"new\" xlink:title=\"psysml:d8185bfd-cc57-4585-aec6-0a59765b9e32\" xlink:type=\"simple\"><rect fill=\"#FEFECE\" filter=\"url(#flt07tj6nsm25)\" height=\"40\" id=\"E3\" style=\"stroke: #A80036; stroke-width: 1.5;\" width=\"40\" x=\"143\" y=\"249\"/><ellipse cx=\"158\" cy=\"265\" fill=\"#008000\" rx=\"11\" ry=\"11\" style=\"stroke: #A80036; stroke-width: 1.0;\"/><path d=\"M154.875,270 L154.875,259.4063 L158.1094,259.4063 Q160.0156,259.4063 160.9219,260.1563 Q161.8438,260.9063 161.8438,262.0781 Q161.8438,262.7656 161.4531,263.4219 Q161.0781,264.0781 160.3594,264.375 Q161.2188,264.75 161.7344,265.4375 Q162.25,266.125 162.25,266.9375 Q162.25,268.3125 161.2188,269.1563 Q160.2031,270 158.0938,270 L154.875,270 Z M156.7969,263.6406 L157.9531,263.6406 Q159.0781,263.6406 159.4844,263.2656 Q159.9063,262.875 159.9063,262.25 Q159.9063,261.6719 159.4844,261.3125 Q159.0625,260.9531 158.125,260.9531 L156.7969,260.9531 L156.7969,263.6406 Z M156.7969,268.4219 L158.2969,268.4219 Q159.2031,268.4219 159.7344,268.0313 Q160.2656,267.6406 160.2656,266.8906 Q160.2656,266.125 159.7656,265.6563 Q159.2656,265.1719 158,265.1719 L156.7969,265.1719 L156.7969,268.4219 Z \"/><text fill=\"#000000\" font-family=\"sans-serif\" font-size=\"12\" lengthAdjust=\"spacingAndGlyphs\" textLength=\"8\" x=\"172\" y=\"269.1543\">A</text><line style=\"stroke: #A80036; stroke-width: 1.5;\" x1=\"144\" x2=\"182\" y1=\"281\" y2=\"281\"/></a><!--MD5=[ebbe1d658d1005bcc118a6aa81145e00]\n",
       "class E4--><a href=\"psysml:867e3ff9-f74d-45bb-974d-3b3d8373197d\" target=\"_top\" title=\"psysml:867e3ff9-f74d-45bb-974d-3b3d8373197d\" xlink:actuate=\"onRequest\" xlink:href=\"psysml:867e3ff9-f74d-45bb-974d-3b3d8373197d\" xlink:show=\"new\" xlink:title=\"psysml:867e3ff9-f74d-45bb-974d-3b3d8373197d\" xlink:type=\"simple\"><rect fill=\"#FEFECE\" filter=\"url(#flt07tj6nsm25)\" height=\"40\" id=\"E4\" rx=\"10\" ry=\"10\" style=\"stroke: #A80036; stroke-width: 1.5;\" width=\"56\" x=\"46\" y=\"426\"/><ellipse cx=\"61\" cy=\"442\" fill=\"#32CD32\" rx=\"11\" ry=\"11\" style=\"stroke: #A80036; stroke-width: 1.0;\"/><path d=\"M57.8125,447 L57.8125,436.4063 L61.4219,436.4063 Q62.6406,436.4063 63.4375,436.8438 Q64.2344,437.2656 64.6094,437.9688 Q65,438.6719 65,439.5156 Q65,440.3594 64.625,441.0469 Q64.2656,441.7344 63.4688,442.1563 Q62.6875,442.5625 61.5,442.5625 L59.7656,442.5625 L59.7656,447 L57.8125,447 Z M59.7656,440.9688 L61.375,440.9688 Q62.1875,440.9688 62.6094,440.5625 Q63.0313,440.1563 63.0313,439.5156 Q63.0313,438.8906 62.6094,438.4844 Q62.1875,438.0781 61.3906,438.0781 L59.7656,438.0781 L59.7656,440.9688 Z \"/><text fill=\"#000000\" font-family=\"sans-serif\" font-size=\"12\" lengthAdjust=\"spacingAndGlyphs\" textLength=\"24\" x=\"75\" y=\"446.1543\">b: B</text><line style=\"stroke: #A80036; stroke-width: 1.5;\" x1=\"47\" x2=\"101\" y1=\"458\" y2=\"458\"/></a><!--MD5=[270fce915f116d4de14055a7c1d9a0f3]\n",
       "class E5--><a href=\"psysml:cb0d56cf-7b64-416e-8353-0e76041e55a4\" target=\"_top\" title=\"psysml:cb0d56cf-7b64-416e-8353-0e76041e55a4\" xlink:actuate=\"onRequest\" xlink:href=\"psysml:cb0d56cf-7b64-416e-8353-0e76041e55a4\" xlink:show=\"new\" xlink:title=\"psysml:cb0d56cf-7b64-416e-8353-0e76041e55a4\" xlink:type=\"simple\"><rect fill=\"#FEFECE\" filter=\"url(#flt07tj6nsm25)\" height=\"45.9375\" id=\"E5\" rx=\"10\" ry=\"10\" style=\"stroke: #A80036; stroke-width: 1.5;\" width=\"68\" x=\"165\" y=\"350\"/><ellipse cx=\"180\" cy=\"368.9688\" fill=\"#32CD32\" rx=\"11\" ry=\"11\" style=\"stroke: #A80036; stroke-width: 1.0;\"/><path d=\"M176.8125,373.9688 L176.8125,363.375 L180.4219,363.375 Q181.6406,363.375 182.4375,363.8125 Q183.2344,364.2344 183.6094,364.9375 Q184,365.6406 184,366.4844 Q184,367.3281 183.625,368.0156 Q183.2656,368.7031 182.4688,369.125 Q181.6875,369.5313 180.5,369.5313 L178.7656,369.5313 L178.7656,373.9688 L176.8125,373.9688 Z M178.7656,367.9375 L180.375,367.9375 Q181.1875,367.9375 181.6094,367.5313 Q182.0313,367.125 182.0313,366.4844 Q182.0313,365.8594 181.6094,365.4531 Q181.1875,365.0469 180.3906,365.0469 L178.7656,365.0469 L178.7656,367.9375 Z \"/><text fill=\"#000000\" font-family=\"sans-serif\" font-size=\"12\" font-style=\"italic\" lengthAdjust=\"spacingAndGlyphs\" textLength=\"40\" x=\"192\" y=\"366.1387\">«part»</text><text fill=\"#000000\" font-family=\"sans-serif\" font-size=\"12\" lengthAdjust=\"spacingAndGlyphs\" textLength=\"23\" x=\"200.5\" y=\"380.1074\">c: C</text><line style=\"stroke: #A80036; stroke-width: 1.5;\" x1=\"166\" x2=\"232\" y1=\"387.9375\" y2=\"387.9375\"/></a><!--MD5=[60a26617385b1d2d0262a64233df1f8d]\n",
       "class E6--><a href=\"psysml:cb468909-38eb-4328-9448-1d282e0fd6a5\" target=\"_top\" title=\"psysml:cb468909-38eb-4328-9448-1d282e0fd6a5\" xlink:actuate=\"onRequest\" xlink:href=\"psysml:cb468909-38eb-4328-9448-1d282e0fd6a5\" xlink:show=\"new\" xlink:title=\"psysml:cb468909-38eb-4328-9448-1d282e0fd6a5\" xlink:type=\"simple\"><rect fill=\"#FEFECE\" filter=\"url(#flt07tj6nsm25)\" height=\"40\" id=\"E6\" style=\"stroke: #A80036; stroke-width: 1.5;\" width=\"40\" x=\"128\" y=\"613\"/><ellipse cx=\"143\" cy=\"629\" fill=\"#008000\" rx=\"11\" ry=\"11\" style=\"stroke: #A80036; stroke-width: 1.0;\"/><path d=\"M139.875,634 L139.875,623.4063 L143.1094,623.4063 Q145.0156,623.4063 145.9219,624.1563 Q146.8438,624.9063 146.8438,626.0781 Q146.8438,626.7656 146.4531,627.4219 Q146.0781,628.0781 145.3594,628.375 Q146.2188,628.75 146.7344,629.4375 Q147.25,630.125 147.25,630.9375 Q147.25,632.3125 146.2188,633.1563 Q145.2031,634 143.0938,634 L139.875,634 Z M141.7969,627.6406 L142.9531,627.6406 Q144.0781,627.6406 144.4844,627.2656 Q144.9063,626.875 144.9063,626.25 Q144.9063,625.6719 144.4844,625.3125 Q144.0625,624.9531 143.125,624.9531 L141.7969,624.9531 L141.7969,627.6406 Z M141.7969,632.4219 L143.2969,632.4219 Q144.2031,632.4219 144.7344,632.0313 Q145.2656,631.6406 145.2656,630.8906 Q145.2656,630.125 144.7656,629.6563 Q144.2656,629.1719 143,629.1719 L141.7969,629.1719 L141.7969,632.4219 Z \"/><text fill=\"#000000\" font-family=\"sans-serif\" font-size=\"12\" lengthAdjust=\"spacingAndGlyphs\" textLength=\"8\" x=\"157\" y=\"633.1543\">B</text><line style=\"stroke: #A80036; stroke-width: 1.5;\" x1=\"129\" x2=\"167\" y1=\"645\" y2=\"645\"/></a><!--MD5=[2156ba9850f5573cc1fc38a6a4b2f02b]\n",
       "class E7--><a href=\"psysml:8d68ea76-8496-4a3a-9bac-3b5e10d4f6d7\" target=\"_top\" title=\"psysml:8d68ea76-8496-4a3a-9bac-3b5e10d4f6d7\" xlink:actuate=\"onRequest\" xlink:href=\"psysml:8d68ea76-8496-4a3a-9bac-3b5e10d4f6d7\" xlink:show=\"new\" xlink:title=\"psysml:8d68ea76-8496-4a3a-9bac-3b5e10d4f6d7\" xlink:type=\"simple\"><rect fill=\"#FEFECE\" filter=\"url(#flt07tj6nsm25)\" height=\"45.9375\" id=\"E7\" rx=\"10\" ry=\"10\" style=\"stroke: #A80036; stroke-width: 1.5;\" width=\"68\" x=\"164\" y=\"714\"/><ellipse cx=\"179\" cy=\"732.9688\" fill=\"#32CD32\" rx=\"11\" ry=\"11\" style=\"stroke: #A80036; stroke-width: 1.0;\"/><path d=\"M175.8125,737.9688 L175.8125,727.375 L179.4219,727.375 Q180.6406,727.375 181.4375,727.8125 Q182.2344,728.2344 182.6094,728.9375 Q183,729.6406 183,730.4844 Q183,731.3281 182.625,732.0156 Q182.2656,732.7031 181.4688,733.125 Q180.6875,733.5313 179.5,733.5313 L177.7656,733.5313 L177.7656,737.9688 L175.8125,737.9688 Z M177.7656,731.9375 L179.375,731.9375 Q180.1875,731.9375 180.6094,731.5313 Q181.0313,731.125 181.0313,730.4844 Q181.0313,729.8594 180.6094,729.4531 Q180.1875,729.0469 179.3906,729.0469 L177.7656,729.0469 L177.7656,731.9375 Z \"/><text fill=\"#000000\" font-family=\"sans-serif\" font-size=\"12\" font-style=\"italic\" lengthAdjust=\"spacingAndGlyphs\" textLength=\"40\" x=\"191\" y=\"730.1387\">«part»</text><text fill=\"#000000\" font-family=\"sans-serif\" font-size=\"12\" lengthAdjust=\"spacingAndGlyphs\" textLength=\"24\" x=\"199\" y=\"744.1074\">a: A</text><line style=\"stroke: #A80036; stroke-width: 1.5;\" x1=\"165\" x2=\"231\" y1=\"751.9375\" y2=\"751.9375\"/></a><!--MD5=[b9389687b975829384b498ac4b7476b2]\n",
       "class E8--><a href=\"psysml:3d841289-74ad-422d-b7f3-bdfc719d6361\" target=\"_top\" title=\"psysml:3d841289-74ad-422d-b7f3-bdfc719d6361\" xlink:actuate=\"onRequest\" xlink:href=\"psysml:3d841289-74ad-422d-b7f3-bdfc719d6361\" xlink:show=\"new\" xlink:title=\"psysml:3d841289-74ad-422d-b7f3-bdfc719d6361\" xlink:type=\"simple\"><rect fill=\"#FEFECE\" filter=\"url(#flt07tj6nsm25)\" height=\"40\" id=\"E8\" style=\"stroke: #A80036; stroke-width: 1.5;\" width=\"40\" x=\"128\" y=\"496\"/><ellipse cx=\"143\" cy=\"512\" fill=\"#008000\" rx=\"11\" ry=\"11\" style=\"stroke: #A80036; stroke-width: 1.0;\"/><path d=\"M139.875,517 L139.875,506.4063 L143.1094,506.4063 Q145.0156,506.4063 145.9219,507.1563 Q146.8438,507.9063 146.8438,509.0781 Q146.8438,509.7656 146.4531,510.4219 Q146.0781,511.0781 145.3594,511.375 Q146.2188,511.75 146.7344,512.4375 Q147.25,513.125 147.25,513.9375 Q147.25,515.3125 146.2188,516.1563 Q145.2031,517 143.0938,517 L139.875,517 Z M141.7969,510.6406 L142.9531,510.6406 Q144.0781,510.6406 144.4844,510.2656 Q144.9063,509.875 144.9063,509.25 Q144.9063,508.6719 144.4844,508.3125 Q144.0625,507.9531 143.125,507.9531 L141.7969,507.9531 L141.7969,510.6406 Z M141.7969,515.4219 L143.2969,515.4219 Q144.2031,515.4219 144.7344,515.0313 Q145.2656,514.6406 145.2656,513.8906 Q145.2656,513.125 144.7656,512.6563 Q144.2656,512.1719 143,512.1719 L141.7969,512.1719 L141.7969,515.4219 Z \"/><text fill=\"#000000\" font-family=\"sans-serif\" font-size=\"12\" lengthAdjust=\"spacingAndGlyphs\" textLength=\"8\" x=\"157\" y=\"516.1543\">C</text><line style=\"stroke: #A80036; stroke-width: 1.5;\" x1=\"129\" x2=\"167\" y1=\"528\" y2=\"528\"/></a><!--MD5=[fd4143e9d270a159db93a4ea2a975926]\n",
       "class E9--><a href=\"psysml:192666b5-43c5-4ec0-a40a-8ab471017ca3\" target=\"_top\" title=\"psysml:192666b5-43c5-4ec0-a40a-8ab471017ca3\" xlink:actuate=\"onRequest\" xlink:href=\"psysml:192666b5-43c5-4ec0-a40a-8ab471017ca3\" xlink:show=\"new\" xlink:title=\"psysml:192666b5-43c5-4ec0-a40a-8ab471017ca3\" xlink:type=\"simple\"><rect fill=\"#FEFECE\" filter=\"url(#flt07tj6nsm25)\" height=\"45.9375\" id=\"E9\" style=\"stroke: #A80036; stroke-width: 1.5;\" width=\"92\" x=\"74\" y=\"41\"/><ellipse cx=\"89\" cy=\"59.9688\" fill=\"#A52A2A\" rx=\"11\" ry=\"11\" style=\"stroke: #A80036; stroke-width: 1.0;\"/><path d=\"M86.2188,64.9688 L86.2188,54.375 L88.9531,54.375 Q90.3438,54.375 91.1094,54.7656 Q91.8906,55.1406 92.4219,55.8438 Q92.9531,56.5469 93.25,57.5469 Q93.5469,58.5313 93.5469,59.75 Q93.5,61.3438 93,62.5313 Q92.5156,63.7031 91.4688,64.3438 Q90.4375,64.9688 88.75,64.9688 L86.2188,64.9688 Z M88.0781,63.4688 L88.7031,63.4688 Q89.7813,63.4688 90.4375,63.0156 Q91.0938,62.5625 91.375,61.7344 Q91.6719,60.8906 91.6563,59.7656 Q91.6563,58.5938 91.4063,57.7344 Q91.1563,56.8594 90.5469,56.3906 Q89.9375,55.9063 88.8906,55.9063 L88.0781,55.9063 L88.0781,63.4688 Z \"/><text fill=\"#000000\" font-family=\"sans-serif\" font-size=\"12\" font-style=\"italic\" lengthAdjust=\"spacingAndGlyphs\" textLength=\"64\" x=\"101\" y=\"57.1387\">«port def»</text><text fill=\"#000000\" font-family=\"sans-serif\" font-size=\"12\" lengthAdjust=\"spacingAndGlyphs\" textLength=\"8\" x=\"129\" y=\"71.1074\">P</text><line style=\"stroke: #A80036; stroke-width: 1.5;\" x1=\"75\" x2=\"165\" y1=\"78.9375\" y2=\"78.9375\"/></a><!--MD5=[96f4274e9e20536e775497830990834d]\n",
       "class E10--><a href=\"psysml:a2436968-c74d-4c9f-bf2a-127bcc502b4e\" target=\"_top\" title=\"psysml:a2436968-c74d-4c9f-bf2a-127bcc502b4e\" xlink:actuate=\"onRequest\" xlink:href=\"psysml:a2436968-c74d-4c9f-bf2a-127bcc502b4e\" xlink:show=\"new\" xlink:title=\"psysml:a2436968-c74d-4c9f-bf2a-127bcc502b4e\" xlink:type=\"simple\"><rect fill=\"#FEFECE\" filter=\"url(#flt07tj6nsm25)\" height=\"40\" id=\"E10\" rx=\"10\" ry=\"10\" style=\"stroke: #A80036; stroke-width: 1.5;\" width=\"64\" x=\"32\" y=\"148\"/><ellipse cx=\"47\" cy=\"164\" fill=\"#32CD32\" rx=\"11\" ry=\"11\" style=\"stroke: #A80036; stroke-width: 1.0;\"/><path d=\"M43.8125,169 L43.8125,158.4063 L47.4219,158.4063 Q48.6406,158.4063 49.4375,158.8438 Q50.2344,159.2656 50.6094,159.9688 Q51,160.6719 51,161.5156 Q51,162.3594 50.625,163.0469 Q50.2656,163.7344 49.4688,164.1563 Q48.6875,164.5625 47.5,164.5625 L45.7656,164.5625 L45.7656,169 L43.8125,169 Z M45.7656,162.9688 L47.375,162.9688 Q48.1875,162.9688 48.6094,162.5625 Q49.0313,162.1563 49.0313,161.5156 Q49.0313,160.8906 48.6094,160.4844 Q48.1875,160.0781 47.3906,160.0781 L45.7656,160.0781 L45.7656,162.9688 Z \"/><text fill=\"#000000\" font-family=\"sans-serif\" font-size=\"12\" lengthAdjust=\"spacingAndGlyphs\" textLength=\"32\" x=\"61\" y=\"168.1543\">a1: A</text><line style=\"stroke: #A80036; stroke-width: 1.5;\" x1=\"33\" x2=\"95\" y1=\"180\" y2=\"180\"/></a><!--MD5=[1dd1bfd58a279cf63c5f349dbc8fc6a1]\n",
       "class E11--><a href=\"psysml:6388cc28-f9be-476c-ad05-d9ff93971fbb\" target=\"_top\" title=\"psysml:6388cc28-f9be-476c-ad05-d9ff93971fbb\" xlink:actuate=\"onRequest\" xlink:href=\"psysml:6388cc28-f9be-476c-ad05-d9ff93971fbb\" xlink:show=\"new\" xlink:title=\"psysml:6388cc28-f9be-476c-ad05-d9ff93971fbb\" xlink:type=\"simple\"><rect fill=\"#FEFECE\" filter=\"url(#flt07tj6nsm25)\" height=\"40\" id=\"E11\" rx=\"10\" ry=\"10\" style=\"stroke: #A80036; stroke-width: 1.5;\" width=\"64\" x=\"131\" y=\"148\"/><ellipse cx=\"146\" cy=\"164\" fill=\"#32CD32\" rx=\"11\" ry=\"11\" style=\"stroke: #A80036; stroke-width: 1.0;\"/><path d=\"M142.8125,169 L142.8125,158.4063 L146.4219,158.4063 Q147.6406,158.4063 148.4375,158.8438 Q149.2344,159.2656 149.6094,159.9688 Q150,160.6719 150,161.5156 Q150,162.3594 149.625,163.0469 Q149.2656,163.7344 148.4688,164.1563 Q147.6875,164.5625 146.5,164.5625 L144.7656,164.5625 L144.7656,169 L142.8125,169 Z M144.7656,162.9688 L146.375,162.9688 Q147.1875,162.9688 147.6094,162.5625 Q148.0313,162.1563 148.0313,161.5156 Q148.0313,160.8906 147.6094,160.4844 Q147.1875,160.0781 146.3906,160.0781 L144.7656,160.0781 L144.7656,162.9688 Z \"/><text fill=\"#000000\" font-family=\"sans-serif\" font-size=\"12\" lengthAdjust=\"spacingAndGlyphs\" textLength=\"32\" x=\"160\" y=\"168.1543\">a2: A</text><line style=\"stroke: #A80036; stroke-width: 1.5;\" x1=\"132\" x2=\"194\" y1=\"180\" y2=\"180\"/></a><!--MD5=[2720a5a1f2c3fca2055b230370638851]\n",
       "link E2 to E3--><a href=\"psysml:24dbd283-1078-40f8-9dda-86d7de7bac74\" target=\"_top\" title=\"psysml:24dbd283-1078-40f8-9dda-86d7de7bac74\" xlink:actuate=\"onRequest\" xlink:href=\"psysml:24dbd283-1078-40f8-9dda-86d7de7bac74\" xlink:show=\"new\" xlink:title=\"psysml:24dbd283-1078-40f8-9dda-86d7de7bac74\" xlink:type=\"simple\"><path d=\"M238.07,188.09 C225.85,201.1 209.32,218.69 194.89,234.05 \" fill=\"none\" id=\"E2-&gt;E3\" style=\"stroke: #A80036; stroke-width: 1.0;\"/><polygon fill=\"#FFFFFF\" points=\"180.88,248.97,188.7948,230.3325,198.9946,239.9223,180.88,248.97\" style=\"stroke: #A80036; stroke-width: 1.0;\"/><ellipse cx=\"194.1564\" cy=\"227.5497\" fill=\"#A80036\" rx=\"2\" ry=\"2\" style=\"stroke: #A80036; stroke-width: 1.0;\"/><ellipse cx=\"201.4419\" cy=\"234.3996\" fill=\"#A80036\" rx=\"2\" ry=\"2\" style=\"stroke: #A80036; stroke-width: 1.0;\"/></a><!--MD5=[4672eba38e49728da53d11aeb285b987]\n",
       "reverse link E3 to E4--><a href=\"psysml:9f51e7d9-1020-406a-8433-de0298038040\" target=\"_top\" title=\"psysml:9f51e7d9-1020-406a-8433-de0298038040\" xlink:actuate=\"onRequest\" xlink:href=\"psysml:9f51e7d9-1020-406a-8433-de0298038040\" xlink:show=\"new\" xlink:title=\"psysml:9f51e7d9-1020-406a-8433-de0298038040\" xlink:type=\"simple\"><path d=\"M132.14,289.65 C112.82,303.84 89.48,324.89 78,350 C66.88,374.32 68.23,405.9 70.72,425.82 \" fill=\"none\" id=\"E3&lt;-E4\" style=\"stroke: #A80036; stroke-width: 1.0;\"/><polygon fill=\"#A80036\" points=\"142.94,282.11,135.7307,282.2725,133.108,288.9898,140.3172,288.8272,142.94,282.11\" style=\"stroke: #A80036; stroke-width: 1.0;\"/><text fill=\"#000000\" font-family=\"sans-serif\" font-size=\"13\" lengthAdjust=\"spacingAndGlyphs\" textLength=\"8\" x=\"60.5815\" y=\"414.7754\">1</text></a><!--MD5=[191cde3d490a3f6d7bb551fe3ddca469]\n",
       "reverse link E3 to E5--><a href=\"psysml:7a936c29-0528-4da5-855d-3be7e5f4e113\" target=\"_top\" title=\"psysml:7a936c29-0528-4da5-855d-3be7e5f4e113\" xlink:actuate=\"onRequest\" xlink:href=\"psysml:7a936c29-0528-4da5-855d-3be7e5f4e113\" xlink:show=\"new\" xlink:title=\"psysml:7a936c29-0528-4da5-855d-3be7e5f4e113\" xlink:type=\"simple\"><path d=\"M174.11,301.47 C179.62,317.08 186.14,335.57 191.13,349.7 \" fill=\"none\" id=\"E3&lt;-E5\" style=\"stroke: #A80036; stroke-width: 1.0;\"/><polygon fill=\"#FFFFFF\" points=\"169.77,289.19,167.9962,296.1795,173.7659,300.5052,175.5397,293.5156,169.77,289.19\" style=\"stroke: #A80036; stroke-width: 1.0;\"/><text fill=\"#000000\" font-family=\"sans-serif\" font-size=\"13\" lengthAdjust=\"spacingAndGlyphs\" textLength=\"8\" x=\"180.0883\" y=\"338.8994\">1</text></a><!--MD5=[79568f1e445c3877b6a54524624ccc7d]\n",
       "link E4 to E6--><a href=\"psysml:860f4e4a-475c-4d3a-a05e-585111d40739\" target=\"_top\" title=\"psysml:860f4e4a-475c-4d3a-a05e-585111d40739\" xlink:actuate=\"onRequest\" xlink:href=\"psysml:860f4e4a-475c-4d3a-a05e-585111d40739\" xlink:show=\"new\" xlink:title=\"psysml:860f4e4a-475c-4d3a-a05e-585111d40739\" xlink:type=\"simple\"><path d=\"M81.64,466.1 C93.66,496.15 117.22,555.04 132.78,593.96 \" fill=\"none\" id=\"E4-&gt;E6\" style=\"stroke: #A80036; stroke-width: 1.0;\"/><polygon fill=\"#FFFFFF\" points=\"140.29,612.73,126.7342,597.6887,139.7329,592.4892,140.29,612.73\" style=\"stroke: #A80036; stroke-width: 1.0;\"/><ellipse cx=\"126.4743\" cy=\"591.6536\" fill=\"#A80036\" rx=\"2\" ry=\"2\" style=\"stroke: #A80036; stroke-width: 1.0;\"/><ellipse cx=\"135.759\" cy=\"587.9397\" fill=\"#A80036\" rx=\"2\" ry=\"2\" style=\"stroke: #A80036; stroke-width: 1.0;\"/></a><!--MD5=[3f50a3473f1dfb74d3f76443e03635af]\n",
       "reverse link E6 to E7--><a href=\"psysml:01396c82-09da-45aa-ba0c-a7dad5741ff2\" target=\"_top\" title=\"psysml:01396c82-09da-45aa-ba0c-a7dad5741ff2\" xlink:actuate=\"onRequest\" xlink:href=\"psysml:01396c82-09da-45aa-ba0c-a7dad5741ff2\" xlink:show=\"new\" xlink:title=\"psysml:01396c82-09da-45aa-ba0c-a7dad5741ff2\" xlink:type=\"simple\"><path d=\"M163.2,665 C170.9,680.71 180.07,699.43 187.07,713.7 \" fill=\"none\" id=\"E6&lt;-E7\" style=\"stroke: #A80036; stroke-width: 1.0;\"/><polygon fill=\"#A80036\" points=\"157.4,653.19,156.4458,660.3377,162.6767,663.9676,163.6309,656.8199,157.4,653.19\" style=\"stroke: #A80036; stroke-width: 1.0;\"/><text fill=\"#000000\" font-family=\"sans-serif\" font-size=\"13\" lengthAdjust=\"spacingAndGlyphs\" textLength=\"8\" x=\"175.2442\" y=\"702.8994\">1</text></a><!--MD5=[14ccda38c055a5c0da953d572bc50960]\n",
       "link E7 to E3--><a href=\"psysml:d97708ca-1830-4e5e-bf07-a2aabe0546e8\" target=\"_top\" title=\"psysml:d97708ca-1830-4e5e-bf07-a2aabe0546e8\" xlink:actuate=\"onRequest\" xlink:href=\"psysml:d97708ca-1830-4e5e-bf07-a2aabe0546e8\" xlink:show=\"new\" xlink:title=\"psysml:d97708ca-1830-4e5e-bf07-a2aabe0546e8\" xlink:type=\"simple\"><path d=\"M225.25,713.91 C245.27,695.03 269,665.93 269,634 C269,372 269,372 269,372 C269,333.27 231.8,304.63 201.47,287.72 \" fill=\"none\" id=\"E7-&gt;E3\" style=\"stroke: #A80036; stroke-width: 1.0;\"/><polygon fill=\"#FFFFFF\" points=\"183.44,278.52,203.5461,280.9167,197.1853,293.3883,183.44,278.52\" style=\"stroke: #A80036; stroke-width: 1.0;\"/><ellipse cx=\"207.7151\" cy=\"285.2881\" fill=\"#A80036\" rx=\"2\" ry=\"2\" style=\"stroke: #A80036; stroke-width: 1.0;\"/><ellipse cx=\"203.1717\" cy=\"294.1964\" fill=\"#A80036\" rx=\"2\" ry=\"2\" style=\"stroke: #A80036; stroke-width: 1.0;\"/></a><!--MD5=[dfaffb906826c3e5aca635516100ff21]\n",
       "link E5 to E8--><a href=\"psysml:75f754af-bdfa-473b-8cbb-d11c609ad500\" target=\"_top\" title=\"psysml:75f754af-bdfa-473b-8cbb-d11c609ad500\" xlink:actuate=\"onRequest\" xlink:href=\"psysml:75f754af-bdfa-473b-8cbb-d11c609ad500\" xlink:show=\"new\" xlink:title=\"psysml:75f754af-bdfa-473b-8cbb-d11c609ad500\" xlink:type=\"simple\"><path d=\"M191.03,396.03 C183.21,417.67 171.11,451.1 161.73,477.03 \" fill=\"none\" id=\"E5-&gt;E8\" style=\"stroke: #A80036; stroke-width: 1.0;\"/><polygon fill=\"#FFFFFF\" points=\"154.93,495.84,154.805,475.5919,167.9715,480.3506,154.93,495.84\" style=\"stroke: #A80036; stroke-width: 1.0;\"/><ellipse cx=\"158.6234\" cy=\"470.9111\" fill=\"#A80036\" rx=\"2\" ry=\"2\" style=\"stroke: #A80036; stroke-width: 1.0;\"/><ellipse cx=\"168.028\" cy=\"474.3102\" fill=\"#A80036\" rx=\"2\" ry=\"2\" style=\"stroke: #A80036; stroke-width: 1.0;\"/></a><!--MD5=[03c8294790d3c57651a1993cecff665f]\n",
       "reverse link E8 to E3--><a href=\"psysml:aa35edca-3910-4cd9-97ff-300d5c8627fc\" target=\"_top\" title=\"psysml:aa35edca-3910-4cd9-97ff-300d5c8627fc\" xlink:actuate=\"onRequest\" xlink:href=\"psysml:aa35edca-3910-4cd9-97ff-300d5c8627fc\" xlink:show=\"new\" xlink:title=\"psysml:aa35edca-3910-4cd9-97ff-300d5c8627fc\" xlink:type=\"simple\"><path d=\"M142.43,482.58 C137.58,449.18 132.29,395.7 139,350 C142.14,328.62 149.75,305.03 155.57,289.04 \" fill=\"none\" id=\"E8&lt;-E3\" style=\"stroke: #A80036; stroke-width: 1.0;\"/><polygon fill=\"#FFFFFF\" points=\"144.45,495.58,147.4862,489.0393,142.6164,483.7209,139.5802,490.2617,144.45,495.58\" style=\"stroke: #A80036; stroke-width: 1.0;\"/><text fill=\"#000000\" font-family=\"sans-serif\" font-size=\"13\" lengthAdjust=\"spacingAndGlyphs\" textLength=\"7\" x=\"140\" y=\"377.5669\">y</text></a><!--MD5=[0d75d2178373a6a4568e5dc728f58aef]\n",
       "reverse link E8 to E6--><a href=\"psysml:aa35edca-3910-4cd9-97ff-300d5c8627fc\" target=\"_top\" title=\"psysml:aa35edca-3910-4cd9-97ff-300d5c8627fc\" xlink:actuate=\"onRequest\" xlink:href=\"psysml:aa35edca-3910-4cd9-97ff-300d5c8627fc\" xlink:show=\"new\" xlink:title=\"psysml:aa35edca-3910-4cd9-97ff-300d5c8627fc\" xlink:type=\"simple\"><path d=\"M148,549.36 C148,569.76 148,595.42 148,612.69 \" fill=\"none\" id=\"E8&lt;-E6\" style=\"stroke: #A80036; stroke-width: 1.0;\"/><polygon fill=\"#FFFFFF\" points=\"148,536.25,144,542.25,148,548.25,152,542.25,148,536.25\" style=\"stroke: #A80036; stroke-width: 1.0;\"/><text fill=\"#000000\" font-family=\"sans-serif\" font-size=\"13\" lengthAdjust=\"spacingAndGlyphs\" textLength=\"7\" x=\"149\" y=\"579.0669\">y</text></a><!--MD5=[23ac544a70576c3e717098101004234c]\n",
       "reverse link E9 to E10--><a href=\"psysml:cf1da376-637e-4400-b815-716d62b1c417\" target=\"_top\" title=\"psysml:cf1da376-637e-4400-b815-716d62b1c417\" xlink:actuate=\"onRequest\" xlink:href=\"psysml:cf1da376-637e-4400-b815-716d62b1c417\" xlink:show=\"new\" xlink:title=\"psysml:cf1da376-637e-4400-b815-716d62b1c417\" xlink:type=\"simple\"><path d=\"M101.35,98.97 C92.39,115.3 81.98,134.25 74.43,148 \" fill=\"none\" id=\"E9&lt;-E10\" style=\"stroke: #A80036; stroke-width: 1.0;\"/><polygon fill=\"#FFFFFF\" points=\"107.85,87.13,101.4565,90.4652,102.0761,97.6496,108.4696,94.3144,107.85,87.13\" style=\"stroke: #A80036; stroke-width: 1.0;\"/><text fill=\"#000000\" font-family=\"sans-serif\" font-size=\"13\" lengthAdjust=\"spacingAndGlyphs\" textLength=\"8\" x=\"68.3188\" y=\"137.0083\">1</text></a><!--MD5=[feeac5eb423634930294aa81f2d25a4c]\n",
       "link E10 to E3--><a href=\"psysml:4cf35cfc-841e-4847-875d-1ebad6bb61b9\" target=\"_top\" title=\"psysml:4cf35cfc-841e-4847-875d-1ebad6bb61b9\" xlink:actuate=\"onRequest\" xlink:href=\"psysml:4cf35cfc-841e-4847-875d-1ebad6bb61b9\" xlink:show=\"new\" xlink:title=\"psysml:4cf35cfc-841e-4847-875d-1ebad6bb61b9\" xlink:type=\"simple\"><path d=\"M83.09,188.09 C96.24,201.24 114.06,219.06 129.53,234.53 \" fill=\"none\" id=\"E10-&gt;E3\" style=\"stroke: #A80036; stroke-width: 1.0;\"/><polygon fill=\"#FFFFFF\" points=\"143.97,248.97,125.5852,240.4847,135.4847,230.5852,143.97,248.97\" style=\"stroke: #A80036; stroke-width: 1.0;\"/><ellipse cx=\"122.9689\" cy=\"235.04\" fill=\"#A80036\" rx=\"2\" ry=\"2\" style=\"stroke: #A80036; stroke-width: 1.0;\"/><ellipse cx=\"130.04\" cy=\"227.9689\" fill=\"#A80036\" rx=\"2\" ry=\"2\" style=\"stroke: #A80036; stroke-width: 1.0;\"/></a><!--MD5=[1fc04a95fd77ad5ce46c1a3027516051]\n",
       "reverse link E9 to E11--><a href=\"psysml:bd05daaf-8002-489d-bbfa-6134af678ace\" target=\"_top\" title=\"psysml:bd05daaf-8002-489d-bbfa-6134af678ace\" xlink:actuate=\"onRequest\" xlink:href=\"psysml:bd05daaf-8002-489d-bbfa-6134af678ace\" xlink:show=\"new\" xlink:title=\"psysml:bd05daaf-8002-489d-bbfa-6134af678ace\" xlink:type=\"simple\"><path d=\"M134.52,99.45 C141.36,115.67 149.25,134.38 154.99,148 \" fill=\"none\" id=\"E9&lt;-E11\" style=\"stroke: #A80036; stroke-width: 1.0;\"/><polygon fill=\"#FFFFFF\" points=\"129.33,87.13,127.9801,94.2136,133.9997,98.1842,135.3495,91.1005,129.33,87.13\" style=\"stroke: #A80036; stroke-width: 1.0;\"/><text fill=\"#000000\" font-family=\"sans-serif\" font-size=\"13\" lengthAdjust=\"spacingAndGlyphs\" textLength=\"8\" x=\"143.4621\" y=\"137.0083\">1</text></a><!--MD5=[0517f1ce58c4d5483948f93845c45e26]\n",
       "link E11 to E3--><a href=\"psysml:31e39f64-1f8d-4b2c-be98-c1459e5d6e94\" target=\"_top\" title=\"psysml:31e39f64-1f8d-4b2c-be98-c1459e5d6e94\" xlink:actuate=\"onRequest\" xlink:href=\"psysml:31e39f64-1f8d-4b2c-be98-c1459e5d6e94\" xlink:show=\"new\" xlink:title=\"psysml:31e39f64-1f8d-4b2c-be98-c1459e5d6e94\" xlink:type=\"simple\"><path d=\"M163,188.09 C163,199.59 163,214.68 163,228.63 \" fill=\"none\" id=\"E11-&gt;E3\" style=\"stroke: #A80036; stroke-width: 1.0;\"/><polygon fill=\"#FFFFFF\" points=\"163,248.97,156,229.97,170,229.97,163,248.97\" style=\"stroke: #A80036; stroke-width: 1.0;\"/><ellipse cx=\"158\" cy=\"224.27\" fill=\"#A80036\" rx=\"2\" ry=\"2\" style=\"stroke: #A80036; stroke-width: 1.0;\"/><ellipse cx=\"168\" cy=\"224.27\" fill=\"#A80036\" rx=\"2\" ry=\"2\" style=\"stroke: #A80036; stroke-width: 1.0;\"/></a><!--MD5=[55aab5e3aba699d12e057fdef72604bd]\n",
       "@startuml\r\n",
       " \r\n",
       "package \"ItemTest\" as E1  [[psysml:1bc06463-7392-4b34-87d6-1f1d6784670a ]]  {\r\n",
       "comp usage \"f: A\" as E2 << << (P,limegreen) >> [[psysml:10e5f196-141c-4ebb-934a-0a8c25223d15 ]] {\r\n",
       "}\r\n",
       "comp def \"A\" as E3 << << (B,green) >> [[psysml:d8185bfd-cc57-4585-aec6-0a59765b9e32 ]] {\r\n",
       "}\r\n",
       "comp usage \"b: B\" as E4 << << (P,limegreen) >> [[psysml:867e3ff9-f74d-45bb-974d-3b3d8373197d ]] {\r\n",
       "}\r\n",
       "comp usage \"c: C\" as E5 << << (P,limegreen) part>> [[psysml:cb0d56cf-7b64-416e-8353-0e76041e55a4 ]] {\r\n",
       "}\r\n",
       "comp def \"B\" as E6 << << (B,green) >> [[psysml:cb468909-38eb-4328-9448-1d282e0fd6a5 ]] {\r\n",
       "}\r\n",
       "comp usage \"a: A\" as E7 << << (P,limegreen) part>> [[psysml:8d68ea76-8496-4a3a-9bac-3b5e10d4f6d7 ]] {\r\n",
       "}\r\n",
       "comp def \"C\" as E8 << << (B,green) >> [[psysml:3d841289-74ad-422d-b7f3-bdfc719d6361 ]] {\r\n",
       "}\r\n",
       "comp def \"P\" as E9 << <<(D,brown) port def>> [[psysml:192666b5-43c5-4ec0-a40a-8ab471017ca3 ]] {\r\n",
       "}\r\n",
       "comp usage \"a1: A\" as E10 << << (P,limegreen) >> [[psysml:a2436968-c74d-4c9f-bf2a-127bcc502b4e ]] {\r\n",
       "}\r\n",
       "comp usage \"a2: A\" as E11 << << (P,limegreen) >> [[psysml:6388cc28-f9be-476c-ad05-d9ff93971fbb ]] {\r\n",
       "}\r\n",
       "}\r\n",
       "E2 - -:|> E3 [[psysml:24dbd283-1078-40f8-9dda-86d7de7bac74 ]] \r\n",
       "E3 *- - \"1\"E4 [[psysml:9f51e7d9-1020-406a-8433-de0298038040 ]] \r\n",
       "E3 o- - \"1\"E5 [[psysml:7a936c29-0528-4da5-855d-3be7e5f4e113 ]] \r\n",
       "E4 - -:|> E6 [[psysml:860f4e4a-475c-4d3a-a05e-585111d40739 ]] \r\n",
       "E6 *- - \"1\"E7 [[psysml:01396c82-09da-45aa-ba0c-a7dad5741ff2 ]] \r\n",
       "E7 - -:|> E3 [[psysml:d97708ca-1830-4e5e-bf07-a2aabe0546e8 ]] \r\n",
       "E5 - -:|> E8 [[psysml:75f754af-bdfa-473b-8cbb-d11c609ad500 ]] \r\n",
       "E8 o- - E3 [[psysml:aa35edca-3910-4cd9-97ff-300d5c8627fc ]] : y\r\n",
       "E8 o- - E6 [[psysml:aa35edca-3910-4cd9-97ff-300d5c8627fc ]] : y\r\n",
       "E9 o- - \"1\"E10 [[psysml:cf1da376-637e-4400-b815-716d62b1c417 ]] \r\n",
       "E10 - -:|> E3 [[psysml:4cf35cfc-841e-4847-875d-1ebad6bb61b9 ]] \r\n",
       "E9 o- - \"1\"E11 [[psysml:bd05daaf-8002-489d-bbfa-6134af678ace ]] \r\n",
       "E11 - -:|> E3 [[psysml:31e39f64-1f8d-4b2c-be98-c1459e5d6e94 ]] \r\n",
       "@enduml\r\n",
       "\n",
       "PlantUML version 1.2020.13(Sat Jun 13 12:26:38 UTC 2020)\n",
       "(EPL source distribution)\n",
       "Java Runtime: OpenJDK Runtime Environment\n",
       "JVM: OpenJDK 64-Bit Server VM\n",
       "Default Encoding: UTF-8\n",
       "Language: en\n",
       "Country: null\n",
       "--></g></svg>"
      ]
     },
     "execution_count": 36,
     "metadata": {},
     "output_type": "execute_result"
    }
   ],
   "source": [
    "%viz --style=\"PLANTUML\" --view=\"MIXED\" \"ItemTest\""
   ]
  },
  {
   "cell_type": "code",
   "execution_count": 37,
   "id": "bdcb7b73",
   "metadata": {
    "execution": {
     "iopub.execute_input": "2021-10-03T08:27:29.100282Z",
     "iopub.status.busy": "2021-10-03T08:27:29.099876Z",
     "iopub.status.idle": "2021-10-03T08:27:29.142625Z",
     "shell.execute_reply": "2021-10-03T08:27:29.140666Z"
    }
   },
   "outputs": [
    {
     "data": {
      "image/svg+xml": [
       "<?xml version=\"1.0\" encoding=\"UTF-8\" standalone=\"no\"?><svg xmlns=\"http://www.w3.org/2000/svg\" xmlns:xlink=\"http://www.w3.org/1999/xlink\" contentScriptType=\"application/ecmascript\" contentStyleType=\"text/css\" height=\"818px\" preserveAspectRatio=\"none\" style=\"width:270px;height:818px;\" version=\"1.1\" viewBox=\"0 0 270 818\" width=\"270px\" zoomAndPan=\"magnify\"><defs/><g><!--MD5=[fbc87193dbaf4d95561dea2c320d4a47]\n",
       "cluster E1--><a href=\"psysml:1bc06463-7392-4b34-87d6-1f1d6784670a\" target=\"_top\" title=\"psysml:1bc06463-7392-4b34-87d6-1f1d6784670a\" xlink:actuate=\"onRequest\" xlink:href=\"psysml:1bc06463-7392-4b34-87d6-1f1d6784670a\" xlink:show=\"new\" xlink:title=\"psysml:1bc06463-7392-4b34-87d6-1f1d6784670a\" xlink:type=\"simple\"><polygon fill=\"#FFFFFF\" points=\"16,6,83,6,90,28.2969,248,28.2969,248,806,16,806,16,6\" style=\"stroke: #000000; stroke-width: 1.5;\"/><line style=\"stroke: #000000; stroke-width: 1.5;\" x1=\"16\" x2=\"90\" y1=\"28.2969\" y2=\"28.2969\"/><text fill=\"#000000\" font-family=\"sans-serif\" font-size=\"14\" font-weight=\"bold\" lengthAdjust=\"spacingAndGlyphs\" textLength=\"61\" x=\"20\" y=\"20.9951\">ItemTest</text></a><!--MD5=[b4997ac47864f28c2f74865a473b2911]\n",
       "class E2--><a href=\"psysml:10e5f196-141c-4ebb-934a-0a8c25223d15\" target=\"_top\" title=\"psysml:10e5f196-141c-4ebb-934a-0a8c25223d15\" xlink:actuate=\"onRequest\" xlink:href=\"psysml:10e5f196-141c-4ebb-934a-0a8c25223d15\" xlink:show=\"new\" xlink:title=\"psysml:10e5f196-141c-4ebb-934a-0a8c25223d15\" xlink:type=\"simple\"><rect fill=\"#FFFFFF\" height=\"45.9375\" id=\"E2\" rx=\"10\" ry=\"10\" style=\"stroke: #383838; stroke-width: 1.5;\" width=\"43\" x=\"188.5\" y=\"148\"/><text fill=\"#000000\" font-family=\"sans-serif\" font-size=\"12\" font-style=\"italic\" lengthAdjust=\"spacingAndGlyphs\" textLength=\"41\" x=\"189.5\" y=\"164.1387\">«item»</text><text fill=\"#000000\" font-family=\"sans-serif\" font-size=\"12\" lengthAdjust=\"spacingAndGlyphs\" textLength=\"20\" x=\"200\" y=\"178.1074\">f: A</text><line style=\"stroke: #383838; stroke-width: 1.5;\" x1=\"189.5\" x2=\"230.5\" y1=\"185.9375\" y2=\"185.9375\"/></a><!--MD5=[09b614a08d8cba4a07c9adeb5e0fee81]\n",
       "class E3--><a href=\"psysml:d8185bfd-cc57-4585-aec6-0a59765b9e32\" target=\"_top\" title=\"psysml:d8185bfd-cc57-4585-aec6-0a59765b9e32\" xlink:actuate=\"onRequest\" xlink:href=\"psysml:d8185bfd-cc57-4585-aec6-0a59765b9e32\" xlink:show=\"new\" xlink:title=\"psysml:d8185bfd-cc57-4585-aec6-0a59765b9e32\" xlink:type=\"simple\"><rect fill=\"#FFFFFF\" height=\"45.9375\" id=\"E3\" style=\"stroke: #383838; stroke-width: 1.5;\" width=\"67\" x=\"98.5\" y=\"255\"/><text fill=\"#000000\" font-family=\"sans-serif\" font-size=\"12\" font-style=\"italic\" lengthAdjust=\"spacingAndGlyphs\" textLength=\"65\" x=\"99.5\" y=\"271.1387\">«item def»</text><text fill=\"#000000\" font-family=\"sans-serif\" font-size=\"12\" lengthAdjust=\"spacingAndGlyphs\" textLength=\"8\" x=\"128\" y=\"285.1074\">A</text><line style=\"stroke: #383838; stroke-width: 1.5;\" x1=\"99.5\" x2=\"164.5\" y1=\"292.9375\" y2=\"292.9375\"/></a><!--MD5=[ebbe1d658d1005bcc118a6aa81145e00]\n",
       "class E4--><a href=\"psysml:867e3ff9-f74d-45bb-974d-3b3d8373197d\" target=\"_top\" title=\"psysml:867e3ff9-f74d-45bb-974d-3b3d8373197d\" xlink:actuate=\"onRequest\" xlink:href=\"psysml:867e3ff9-f74d-45bb-974d-3b3d8373197d\" xlink:show=\"new\" xlink:title=\"psysml:867e3ff9-f74d-45bb-974d-3b3d8373197d\" xlink:type=\"simple\"><rect fill=\"#FFFFFF\" height=\"45.9375\" id=\"E4\" rx=\"10\" ry=\"10\" style=\"stroke: #383838; stroke-width: 1.5;\" width=\"43\" x=\"45.5\" y=\"438\"/><text fill=\"#000000\" font-family=\"sans-serif\" font-size=\"12\" font-style=\"italic\" lengthAdjust=\"spacingAndGlyphs\" textLength=\"41\" x=\"46.5\" y=\"454.1387\">«item»</text><text fill=\"#000000\" font-family=\"sans-serif\" font-size=\"12\" lengthAdjust=\"spacingAndGlyphs\" textLength=\"24\" x=\"55\" y=\"468.1074\">b: B</text><line style=\"stroke: #383838; stroke-width: 1.5;\" x1=\"46.5\" x2=\"87.5\" y1=\"475.9375\" y2=\"475.9375\"/></a><!--MD5=[270fce915f116d4de14055a7c1d9a0f3]\n",
       "class E5--><a href=\"psysml:cb0d56cf-7b64-416e-8353-0e76041e55a4\" target=\"_top\" title=\"psysml:cb0d56cf-7b64-416e-8353-0e76041e55a4\" xlink:actuate=\"onRequest\" xlink:href=\"psysml:cb0d56cf-7b64-416e-8353-0e76041e55a4\" xlink:show=\"new\" xlink:title=\"psysml:cb0d56cf-7b64-416e-8353-0e76041e55a4\" xlink:type=\"simple\"><rect fill=\"#FFFFFF\" height=\"45.9375\" id=\"E5\" rx=\"10\" ry=\"10\" style=\"stroke: #383838; stroke-width: 1.5;\" width=\"42\" x=\"151\" y=\"362\"/><text fill=\"#000000\" font-family=\"sans-serif\" font-size=\"12\" font-style=\"italic\" lengthAdjust=\"spacingAndGlyphs\" textLength=\"40\" x=\"152\" y=\"378.1387\">«part»</text><text fill=\"#000000\" font-family=\"sans-serif\" font-size=\"12\" lengthAdjust=\"spacingAndGlyphs\" textLength=\"23\" x=\"160.5\" y=\"392.1074\">c: C</text><line style=\"stroke: #383838; stroke-width: 1.5;\" x1=\"152\" x2=\"192\" y1=\"399.9375\" y2=\"399.9375\"/></a><!--MD5=[60a26617385b1d2d0262a64233df1f8d]\n",
       "class E6--><a href=\"psysml:cb468909-38eb-4328-9448-1d282e0fd6a5\" target=\"_top\" title=\"psysml:cb468909-38eb-4328-9448-1d282e0fd6a5\" xlink:actuate=\"onRequest\" xlink:href=\"psysml:cb468909-38eb-4328-9448-1d282e0fd6a5\" xlink:show=\"new\" xlink:title=\"psysml:cb468909-38eb-4328-9448-1d282e0fd6a5\" xlink:type=\"simple\"><rect fill=\"#FFFFFF\" height=\"45.9375\" id=\"E6\" style=\"stroke: #383838; stroke-width: 1.5;\" width=\"67\" x=\"114.5\" y=\"637\"/><text fill=\"#000000\" font-family=\"sans-serif\" font-size=\"12\" font-style=\"italic\" lengthAdjust=\"spacingAndGlyphs\" textLength=\"65\" x=\"115.5\" y=\"653.1387\">«item def»</text><text fill=\"#000000\" font-family=\"sans-serif\" font-size=\"12\" lengthAdjust=\"spacingAndGlyphs\" textLength=\"8\" x=\"144\" y=\"667.1074\">B</text><line style=\"stroke: #383838; stroke-width: 1.5;\" x1=\"115.5\" x2=\"180.5\" y1=\"674.9375\" y2=\"674.9375\"/></a><!--MD5=[2156ba9850f5573cc1fc38a6a4b2f02b]\n",
       "class E7--><a href=\"psysml:8d68ea76-8496-4a3a-9bac-3b5e10d4f6d7\" target=\"_top\" title=\"psysml:8d68ea76-8496-4a3a-9bac-3b5e10d4f6d7\" xlink:actuate=\"onRequest\" xlink:href=\"psysml:8d68ea76-8496-4a3a-9bac-3b5e10d4f6d7\" xlink:show=\"new\" xlink:title=\"psysml:8d68ea76-8496-4a3a-9bac-3b5e10d4f6d7\" xlink:type=\"simple\"><rect fill=\"#FFFFFF\" height=\"45.9375\" id=\"E7\" rx=\"10\" ry=\"10\" style=\"stroke: #383838; stroke-width: 1.5;\" width=\"42\" x=\"159\" y=\"744\"/><text fill=\"#000000\" font-family=\"sans-serif\" font-size=\"12\" font-style=\"italic\" lengthAdjust=\"spacingAndGlyphs\" textLength=\"40\" x=\"160\" y=\"760.1387\">«part»</text><text fill=\"#000000\" font-family=\"sans-serif\" font-size=\"12\" lengthAdjust=\"spacingAndGlyphs\" textLength=\"24\" x=\"168\" y=\"774.1074\">a: A</text><line style=\"stroke: #383838; stroke-width: 1.5;\" x1=\"160\" x2=\"200\" y1=\"781.9375\" y2=\"781.9375\"/></a><!--MD5=[b9389687b975829384b498ac4b7476b2]\n",
       "class E8--><a href=\"psysml:3d841289-74ad-422d-b7f3-bdfc719d6361\" target=\"_top\" title=\"psysml:3d841289-74ad-422d-b7f3-bdfc719d6361\" xlink:actuate=\"onRequest\" xlink:href=\"psysml:3d841289-74ad-422d-b7f3-bdfc719d6361\" xlink:show=\"new\" xlink:title=\"psysml:3d841289-74ad-422d-b7f3-bdfc719d6361\" xlink:type=\"simple\"><rect fill=\"#FFFFFF\" height=\"45.9375\" id=\"E8\" style=\"stroke: #383838; stroke-width: 1.5;\" width=\"66\" x=\"115\" y=\"514\"/><text fill=\"#000000\" font-family=\"sans-serif\" font-size=\"12\" font-style=\"italic\" lengthAdjust=\"spacingAndGlyphs\" textLength=\"64\" x=\"116\" y=\"530.1387\">«part def»</text><text fill=\"#000000\" font-family=\"sans-serif\" font-size=\"12\" lengthAdjust=\"spacingAndGlyphs\" textLength=\"8\" x=\"144\" y=\"544.1074\">C</text><line style=\"stroke: #383838; stroke-width: 1.5;\" x1=\"116\" x2=\"180\" y1=\"551.9375\" y2=\"551.9375\"/></a><!--MD5=[fd4143e9d270a159db93a4ea2a975926]\n",
       "class E9--><a href=\"psysml:192666b5-43c5-4ec0-a40a-8ab471017ca3\" target=\"_top\" title=\"psysml:192666b5-43c5-4ec0-a40a-8ab471017ca3\" xlink:actuate=\"onRequest\" xlink:href=\"psysml:192666b5-43c5-4ec0-a40a-8ab471017ca3\" xlink:show=\"new\" xlink:title=\"psysml:192666b5-43c5-4ec0-a40a-8ab471017ca3\" xlink:type=\"simple\"><rect fill=\"#FFFFFF\" height=\"45.9375\" id=\"E9\" style=\"stroke: #383838; stroke-width: 1.5;\" width=\"66\" x=\"65\" y=\"41\"/><text fill=\"#000000\" font-family=\"sans-serif\" font-size=\"12\" font-style=\"italic\" lengthAdjust=\"spacingAndGlyphs\" textLength=\"64\" x=\"66\" y=\"57.1387\">«port def»</text><text fill=\"#000000\" font-family=\"sans-serif\" font-size=\"12\" lengthAdjust=\"spacingAndGlyphs\" textLength=\"8\" x=\"94\" y=\"71.1074\">P</text><line style=\"stroke: #383838; stroke-width: 1.5;\" x1=\"66\" x2=\"130\" y1=\"78.9375\" y2=\"78.9375\"/></a><!--MD5=[96f4274e9e20536e775497830990834d]\n",
       "class E10--><a href=\"psysml:a2436968-c74d-4c9f-bf2a-127bcc502b4e\" target=\"_top\" title=\"psysml:a2436968-c74d-4c9f-bf2a-127bcc502b4e\" xlink:actuate=\"onRequest\" xlink:href=\"psysml:a2436968-c74d-4c9f-bf2a-127bcc502b4e\" xlink:show=\"new\" xlink:title=\"psysml:a2436968-c74d-4c9f-bf2a-127bcc502b4e\" xlink:type=\"simple\"><rect fill=\"#FFFFFF\" height=\"45.9375\" id=\"E10\" rx=\"10\" ry=\"10\" style=\"stroke: #383838; stroke-width: 1.5;\" width=\"43\" x=\"32.5\" y=\"148\"/><text fill=\"#000000\" font-family=\"sans-serif\" font-size=\"12\" font-style=\"italic\" lengthAdjust=\"spacingAndGlyphs\" textLength=\"41\" x=\"33.5\" y=\"164.1387\">«item»</text><text fill=\"#000000\" font-family=\"sans-serif\" font-size=\"12\" lengthAdjust=\"spacingAndGlyphs\" textLength=\"32\" x=\"38\" y=\"178.1074\">a1: A</text><line style=\"stroke: #383838; stroke-width: 1.5;\" x1=\"33.5\" x2=\"74.5\" y1=\"185.9375\" y2=\"185.9375\"/></a><!--MD5=[1dd1bfd58a279cf63c5f349dbc8fc6a1]\n",
       "class E11--><a href=\"psysml:6388cc28-f9be-476c-ad05-d9ff93971fbb\" target=\"_top\" title=\"psysml:6388cc28-f9be-476c-ad05-d9ff93971fbb\" xlink:actuate=\"onRequest\" xlink:href=\"psysml:6388cc28-f9be-476c-ad05-d9ff93971fbb\" xlink:show=\"new\" xlink:title=\"psysml:6388cc28-f9be-476c-ad05-d9ff93971fbb\" xlink:type=\"simple\"><rect fill=\"#FFFFFF\" height=\"45.9375\" id=\"E11\" rx=\"10\" ry=\"10\" style=\"stroke: #383838; stroke-width: 1.5;\" width=\"43\" x=\"110.5\" y=\"148\"/><text fill=\"#000000\" font-family=\"sans-serif\" font-size=\"12\" font-style=\"italic\" lengthAdjust=\"spacingAndGlyphs\" textLength=\"41\" x=\"111.5\" y=\"164.1387\">«item»</text><text fill=\"#000000\" font-family=\"sans-serif\" font-size=\"12\" lengthAdjust=\"spacingAndGlyphs\" textLength=\"32\" x=\"116\" y=\"178.1074\">a2: A</text><line style=\"stroke: #383838; stroke-width: 1.5;\" x1=\"111.5\" x2=\"152.5\" y1=\"185.9375\" y2=\"185.9375\"/></a><!--MD5=[2720a5a1f2c3fca2055b230370638851]\n",
       "link E2 to E3--><a href=\"psysml:24dbd283-1078-40f8-9dda-86d7de7bac74\" target=\"_top\" title=\"psysml:24dbd283-1078-40f8-9dda-86d7de7bac74\" xlink:actuate=\"onRequest\" xlink:href=\"psysml:24dbd283-1078-40f8-9dda-86d7de7bac74\" xlink:show=\"new\" xlink:title=\"psysml:24dbd283-1078-40f8-9dda-86d7de7bac74\" xlink:type=\"simple\"><path d=\"M193.65,194.01 C184.14,206.81 171.89,223.3 160.82,238.2 \" fill=\"none\" id=\"E2-&gt;E3\" style=\"stroke: #383838; stroke-width: 1.0;\"/><polygon fill=\"#FFFFFF\" points=\"148.6,254.66,154.3195,235.2361,165.5543,243.5896,148.6,254.66\" style=\"stroke: #383838; stroke-width: 1.0;\"/><ellipse cx=\"159.3256\" cy=\"231.8554\" fill=\"#383838\" rx=\"2\" ry=\"2\" style=\"stroke: #383838; stroke-width: 1.0;\"/><ellipse cx=\"167.3504\" cy=\"237.8221\" fill=\"#383838\" rx=\"2\" ry=\"2\" style=\"stroke: #383838; stroke-width: 1.0;\"/></a><!--MD5=[4672eba38e49728da53d11aeb285b987]\n",
       "reverse link E3 to E4--><a href=\"psysml:9f51e7d9-1020-406a-8433-de0298038040\" target=\"_top\" title=\"psysml:9f51e7d9-1020-406a-8433-de0298038040\" xlink:actuate=\"onRequest\" xlink:href=\"psysml:9f51e7d9-1020-406a-8433-de0298038040\" xlink:show=\"new\" xlink:title=\"psysml:9f51e7d9-1020-406a-8433-de0298038040\" xlink:type=\"simple\"><path d=\"M97.11,310.9 C84.08,325.11 70.81,342.94 64,362 C55.12,386.85 58.09,417.53 61.82,437.88 \" fill=\"none\" id=\"E3&lt;-E4\" style=\"stroke: #383838; stroke-width: 1.0;\"/><polygon fill=\"#383838\" points=\"106.46,301.23,99.4153,302.7703,98.1277,309.8655,105.1724,308.3252,106.46,301.23\" style=\"stroke: #383838; stroke-width: 1.0;\"/><text fill=\"#000000\" font-family=\"sans-serif\" font-size=\"13\" lengthAdjust=\"spacingAndGlyphs\" textLength=\"8\" x=\"51.3529\" y=\"426.744\">1</text></a><!--MD5=[191cde3d490a3f6d7bb551fe3ddca469]\n",
       "reverse link E3 to E5--><a href=\"psysml:7a936c29-0528-4da5-855d-3be7e5f4e113\" target=\"_top\" title=\"psysml:7a936c29-0528-4da5-855d-3be7e5f4e113\" xlink:actuate=\"onRequest\" xlink:href=\"psysml:7a936c29-0528-4da5-855d-3be7e5f4e113\" xlink:show=\"new\" xlink:title=\"psysml:7a936c29-0528-4da5-855d-3be7e5f4e113\" xlink:type=\"simple\"><path d=\"M145.17,313.57 C151.2,329.39 158.16,347.68 163.49,361.66 \" fill=\"none\" id=\"E3&lt;-E5\" style=\"stroke: #383838; stroke-width: 1.0;\"/><polygon fill=\"#FFFFFF\" points=\"140.39,301.01,138.7866,308.0406,144.6598,312.2247,146.2631,305.1941,140.39,301.01\" style=\"stroke: #383838; stroke-width: 1.0;\"/><text fill=\"#000000\" font-family=\"sans-serif\" font-size=\"13\" lengthAdjust=\"spacingAndGlyphs\" textLength=\"8\" x=\"152.2843\" y=\"350.8492\">1</text></a><!--MD5=[79568f1e445c3877b6a54524624ccc7d]\n",
       "link E4 to E6--><a href=\"psysml:860f4e4a-475c-4d3a-a05e-585111d40739\" target=\"_top\" title=\"psysml:860f4e4a-475c-4d3a-a05e-585111d40739\" xlink:actuate=\"onRequest\" xlink:href=\"psysml:860f4e4a-475c-4d3a-a05e-585111d40739\" xlink:show=\"new\" xlink:title=\"psysml:860f4e4a-475c-4d3a-a05e-585111d40739\" xlink:type=\"simple\"><path d=\"M72.9,484.16 C78.52,504.26 87.63,534.55 98,560 C106.11,579.9 116.66,601.27 125.97,619.04 \" fill=\"none\" id=\"E4-&gt;E6\" style=\"stroke: #383838; stroke-width: 1.0;\"/><polygon fill=\"#FFFFFF\" points=\"135.42,636.68,120.2696,623.2463,132.6064,616.628,135.42,636.68\" style=\"stroke: #383838; stroke-width: 1.0;\"/><ellipse cx=\"119.3374\" cy=\"617.2779\" fill=\"#383838\" rx=\"2\" ry=\"2\" style=\"stroke: #383838; stroke-width: 1.0;\"/><ellipse cx=\"128.1494\" cy=\"612.5506\" fill=\"#383838\" rx=\"2\" ry=\"2\" style=\"stroke: #383838; stroke-width: 1.0;\"/></a><!--MD5=[3f50a3473f1dfb74d3f76443e03635af]\n",
       "reverse link E6 to E7--><a href=\"psysml:01396c82-09da-45aa-ba0c-a7dad5741ff2\" target=\"_top\" title=\"psysml:01396c82-09da-45aa-ba0c-a7dad5741ff2\" xlink:actuate=\"onRequest\" xlink:href=\"psysml:01396c82-09da-45aa-ba0c-a7dad5741ff2\" xlink:show=\"new\" xlink:title=\"psysml:01396c82-09da-45aa-ba0c-a7dad5741ff2\" xlink:type=\"simple\"><path d=\"M158.54,695.57 C163.36,711.39 168.93,729.68 173.19,743.66 \" fill=\"none\" id=\"E6&lt;-E7\" style=\"stroke: #383838; stroke-width: 1.0;\"/><polygon fill=\"#383838\" points=\"154.71,683.01,152.6319,689.9152,158.2066,694.4893,160.2847,687.5841,154.71,683.01\" style=\"stroke: #383838; stroke-width: 1.0;\"/><text fill=\"#000000\" font-family=\"sans-serif\" font-size=\"13\" lengthAdjust=\"spacingAndGlyphs\" textLength=\"8\" x=\"162.4199\" y=\"732.8492\">1</text></a><!--MD5=[14ccda38c055a5c0da953d572bc50960]\n",
       "link E7 to E3--><a href=\"psysml:d97708ca-1830-4e5e-bf07-a2aabe0546e8\" target=\"_top\" title=\"psysml:d97708ca-1830-4e5e-bf07-a2aabe0546e8\" xlink:actuate=\"onRequest\" xlink:href=\"psysml:d97708ca-1830-4e5e-bf07-a2aabe0546e8\" xlink:show=\"new\" xlink:title=\"psysml:d97708ca-1830-4e5e-bf07-a2aabe0546e8\" xlink:type=\"simple\"><path d=\"M197.41,743.63 C211.5,723.27 229,691.78 229,661 C229,384 229,384 229,384 C229,353 205.9,327.25 182.25,309.01 \" fill=\"none\" id=\"E7-&gt;E3\" style=\"stroke: #383838; stroke-width: 1.0;\"/><polygon fill=\"#FFFFFF\" points=\"165.65,297.35,185.219,302.5513,177.1671,314.004,165.65,297.35\" style=\"stroke: #383838; stroke-width: 1.0;\"/><ellipse cx=\"188.7317\" cy=\"307.4657\" fill=\"#383838\" rx=\"2\" ry=\"2\" style=\"stroke: #383838; stroke-width: 1.0;\"/><ellipse cx=\"182.9803\" cy=\"315.6462\" fill=\"#383838\" rx=\"2\" ry=\"2\" style=\"stroke: #383838; stroke-width: 1.0;\"/></a><!--MD5=[dfaffb906826c3e5aca635516100ff21]\n",
       "link E5 to E8--><a href=\"psysml:75f754af-bdfa-473b-8cbb-d11c609ad500\" target=\"_top\" title=\"psysml:75f754af-bdfa-473b-8cbb-d11c609ad500\" xlink:actuate=\"onRequest\" xlink:href=\"psysml:75f754af-bdfa-473b-8cbb-d11c609ad500\" xlink:show=\"new\" xlink:title=\"psysml:75f754af-bdfa-473b-8cbb-d11c609ad500\" xlink:type=\"simple\"><path d=\"M168.46,408.13 C164.86,430.62 159.2,466.01 154.74,493.87 \" fill=\"none\" id=\"E5-&gt;E8\" style=\"stroke: #383838; stroke-width: 1.0;\"/><polygon fill=\"#FFFFFF\" points=\"151.56,513.78,147.6458,493.9135,161.4704,496.1226,151.56,513.78\" style=\"stroke: #383838; stroke-width: 1.0;\"/><ellipse cx=\"150.5202\" cy=\"488.6005\" fill=\"#383838\" rx=\"2\" ry=\"2\" style=\"stroke: #383838; stroke-width: 1.0;\"/><ellipse cx=\"160.3949\" cy=\"490.1784\" fill=\"#383838\" rx=\"2\" ry=\"2\" style=\"stroke: #383838; stroke-width: 1.0;\"/></a><!--MD5=[03c8294790d3c57651a1993cecff665f]\n",
       "reverse link E8 to E3--><a href=\"psysml:aa35edca-3910-4cd9-97ff-300d5c8627fc\" target=\"_top\" title=\"psysml:aa35edca-3910-4cd9-97ff-300d5c8627fc\" xlink:actuate=\"onRequest\" xlink:href=\"psysml:aa35edca-3910-4cd9-97ff-300d5c8627fc\" xlink:show=\"new\" xlink:title=\"psysml:aa35edca-3910-4cd9-97ff-300d5c8627fc\" xlink:type=\"simple\"><path d=\"M140.02,501.22 C134.57,475.6 127.84,439.84 125,408 C123.18,387.64 124.14,382.43 125,362 C125.87,341.34 127.95,317.86 129.62,301.16 \" fill=\"none\" id=\"E8&lt;-E3\" style=\"stroke: #383838; stroke-width: 1.0;\"/><polygon fill=\"#FFFFFF\" points=\"142.81,513.96,145.4388,507.2451,140.2515,502.2359,137.6227,508.9508,142.81,513.96\" style=\"stroke: #383838; stroke-width: 1.0;\"/><text fill=\"#000000\" font-family=\"sans-serif\" font-size=\"13\" lengthAdjust=\"spacingAndGlyphs\" textLength=\"7\" x=\"126\" y=\"389.5669\">y</text></a><!--MD5=[0d75d2178373a6a4568e5dc728f58aef]\n",
       "reverse link E8 to E6--><a href=\"psysml:aa35edca-3910-4cd9-97ff-300d5c8627fc\" target=\"_top\" title=\"psysml:aa35edca-3910-4cd9-97ff-300d5c8627fc\" xlink:actuate=\"onRequest\" xlink:href=\"psysml:aa35edca-3910-4cd9-97ff-300d5c8627fc\" xlink:show=\"new\" xlink:title=\"psysml:aa35edca-3910-4cd9-97ff-300d5c8627fc\" xlink:type=\"simple\"><path d=\"M148,573.22 C148,593.81 148,619.16 148,636.95 \" fill=\"none\" id=\"E8&lt;-E6\" style=\"stroke: #383838; stroke-width: 1.0;\"/><polygon fill=\"#FFFFFF\" points=\"148,560.19,144,566.19,148,572.19,152,566.19,148,560.19\" style=\"stroke: #383838; stroke-width: 1.0;\"/><text fill=\"#000000\" font-family=\"sans-serif\" font-size=\"13\" lengthAdjust=\"spacingAndGlyphs\" textLength=\"7\" x=\"149\" y=\"603.0669\">y</text></a><!--MD5=[23ac544a70576c3e717098101004234c]\n",
       "reverse link E9 to E10--><a href=\"psysml:cf1da376-637e-4400-b815-716d62b1c417\" target=\"_top\" title=\"psysml:cf1da376-637e-4400-b815-716d62b1c417\" xlink:actuate=\"onRequest\" xlink:href=\"psysml:cf1da376-637e-4400-b815-716d62b1c417\" xlink:show=\"new\" xlink:title=\"psysml:cf1da376-637e-4400-b815-716d62b1c417\" xlink:type=\"simple\"><path d=\"M83.71,99.1 C77.04,115.03 69.28,133.54 63.36,147.66 \" fill=\"none\" id=\"E9&lt;-E10\" style=\"stroke: #383838; stroke-width: 1.0;\"/><polygon fill=\"#FFFFFF\" points=\"88.78,87.01,82.7702,90.9953,84.1375,98.0756,90.1473,94.0903,88.78,87.01\" style=\"stroke: #383838; stroke-width: 1.0;\"/><text fill=\"#000000\" font-family=\"sans-serif\" font-size=\"13\" lengthAdjust=\"spacingAndGlyphs\" textLength=\"8\" x=\"56.7335\" y=\"136.8492\">1</text></a><!--MD5=[feeac5eb423634930294aa81f2d25a4c]\n",
       "link E10 to E3--><a href=\"psysml:4cf35cfc-841e-4847-875d-1ebad6bb61b9\" target=\"_top\" title=\"psysml:4cf35cfc-841e-4847-875d-1ebad6bb61b9\" xlink:actuate=\"onRequest\" xlink:href=\"psysml:4cf35cfc-841e-4847-875d-1ebad6bb61b9\" xlink:show=\"new\" xlink:title=\"psysml:4cf35cfc-841e-4847-875d-1ebad6bb61b9\" xlink:type=\"simple\"><path d=\"M70.35,194.01 C79.86,206.81 92.11,223.3 103.18,238.2 \" fill=\"none\" id=\"E10-&gt;E3\" style=\"stroke: #383838; stroke-width: 1.0;\"/><polygon fill=\"#FFFFFF\" points=\"115.4,254.66,98.4457,243.5896,109.6805,235.2361,115.4,254.66\" style=\"stroke: #383838; stroke-width: 1.0;\"/><ellipse cx=\"96.6496\" cy=\"237.8221\" fill=\"#383838\" rx=\"2\" ry=\"2\" style=\"stroke: #383838; stroke-width: 1.0;\"/><ellipse cx=\"104.6744\" cy=\"231.8554\" fill=\"#383838\" rx=\"2\" ry=\"2\" style=\"stroke: #383838; stroke-width: 1.0;\"/></a><!--MD5=[1fc04a95fd77ad5ce46c1a3027516051]\n",
       "reverse link E9 to E11--><a href=\"psysml:bd05daaf-8002-489d-bbfa-6134af678ace\" target=\"_top\" title=\"psysml:bd05daaf-8002-489d-bbfa-6134af678ace\" xlink:actuate=\"onRequest\" xlink:href=\"psysml:bd05daaf-8002-489d-bbfa-6134af678ace\" xlink:show=\"new\" xlink:title=\"psysml:bd05daaf-8002-489d-bbfa-6134af678ace\" xlink:type=\"simple\"><path d=\"M109.19,99.57 C114.32,115.39 120.24,133.68 124.76,147.66 \" fill=\"none\" id=\"E9&lt;-E11\" style=\"stroke: #383838; stroke-width: 1.0;\"/><polygon fill=\"#FFFFFF\" points=\"105.13,87.01,103.1699,93.9496,108.8217,98.428,110.7819,91.4884,105.13,87.01\" style=\"stroke: #383838; stroke-width: 1.0;\"/><text fill=\"#000000\" font-family=\"sans-serif\" font-size=\"13\" lengthAdjust=\"spacingAndGlyphs\" textLength=\"8\" x=\"113.8798\" y=\"136.8492\">1</text></a><!--MD5=[0517f1ce58c4d5483948f93845c45e26]\n",
       "link E11 to E3--><a href=\"psysml:31e39f64-1f8d-4b2c-be98-c1459e5d6e94\" target=\"_top\" title=\"psysml:31e39f64-1f8d-4b2c-be98-c1459e5d6e94\" xlink:actuate=\"onRequest\" xlink:href=\"psysml:31e39f64-1f8d-4b2c-be98-c1459e5d6e94\" xlink:show=\"new\" xlink:title=\"psysml:31e39f64-1f8d-4b2c-be98-c1459e5d6e94\" xlink:type=\"simple\"><path d=\"M132,194.01 C132,205.69 132,220.46 132,234.28 \" fill=\"none\" id=\"E11-&gt;E3\" style=\"stroke: #383838; stroke-width: 1.0;\"/><polygon fill=\"#FFFFFF\" points=\"132,254.66,125,235.66,139,235.66,132,254.66\" style=\"stroke: #383838; stroke-width: 1.0;\"/><ellipse cx=\"127\" cy=\"229.96\" fill=\"#383838\" rx=\"2\" ry=\"2\" style=\"stroke: #383838; stroke-width: 1.0;\"/><ellipse cx=\"137\" cy=\"229.96\" fill=\"#383838\" rx=\"2\" ry=\"2\" style=\"stroke: #383838; stroke-width: 1.0;\"/></a><!--MD5=[883fc6d3a4cb33c2ab10e88b444b0e28]\n",
       "@startuml\r\n",
       "skinparam monochrome true\r\n",
       "skinparam classbackgroundcolor white\r\n",
       "skinparam shadowing false\r\n",
       "skinparam wrapWidth 300\r\n",
       "hide circle\r\n",
       "\r\n",
       "package \"ItemTest\" as E1  [[psysml:1bc06463-7392-4b34-87d6-1f1d6784670a ]]  {\r\n",
       "comp usage \"f: A\" as E2  <<(T,blue) item>> [[psysml:10e5f196-141c-4ebb-934a-0a8c25223d15 ]] {\r\n",
       "}\r\n",
       "comp def \"A\" as E3  <<(T,blue) item def>> [[psysml:d8185bfd-cc57-4585-aec6-0a59765b9e32 ]] {\r\n",
       "}\r\n",
       "comp usage \"b: B\" as E4  <<(T,blue) item>> [[psysml:867e3ff9-f74d-45bb-974d-3b3d8373197d ]] {\r\n",
       "}\r\n",
       "comp usage \"c: C\" as E5  <<(T,blue) part>> [[psysml:cb0d56cf-7b64-416e-8353-0e76041e55a4 ]] {\r\n",
       "}\r\n",
       "comp def \"B\" as E6  <<(T,blue) item def>> [[psysml:cb468909-38eb-4328-9448-1d282e0fd6a5 ]] {\r\n",
       "}\r\n",
       "comp usage \"a: A\" as E7  <<(T,blue) part>> [[psysml:8d68ea76-8496-4a3a-9bac-3b5e10d4f6d7 ]] {\r\n",
       "}\r\n",
       "comp def \"C\" as E8  <<(T,blue) part def>> [[psysml:3d841289-74ad-422d-b7f3-bdfc719d6361 ]] {\r\n",
       "}\r\n",
       "comp def \"P\" as E9  <<(T,blue) port def>> [[psysml:192666b5-43c5-4ec0-a40a-8ab471017ca3 ]] {\r\n",
       "}\r\n",
       "comp usage \"a1: A\" as E10  <<(T,blue) item>> [[psysml:a2436968-c74d-4c9f-bf2a-127bcc502b4e ]] {\r\n",
       "}\r\n",
       "comp usage \"a2: A\" as E11  <<(T,blue) item>> [[psysml:6388cc28-f9be-476c-ad05-d9ff93971fbb ]] {\r\n",
       "}\r\n",
       "}\r\n",
       "E2 - -:|> E3 [[psysml:24dbd283-1078-40f8-9dda-86d7de7bac74 ]] \r\n",
       "E3 *- - \"1\"E4 [[psysml:9f51e7d9-1020-406a-8433-de0298038040 ]] \r\n",
       "E3 o- - \"1\"E5 [[psysml:7a936c29-0528-4da5-855d-3be7e5f4e113 ]] \r\n",
       "E4 - -:|> E6 [[psysml:860f4e4a-475c-4d3a-a05e-585111d40739 ]] \r\n",
       "E6 *- - \"1\"E7 [[psysml:01396c82-09da-45aa-ba0c-a7dad5741ff2 ]] \r\n",
       "E7 - -:|> E3 [[psysml:d97708ca-1830-4e5e-bf07-a2aabe0546e8 ]] \r\n",
       "E5 - -:|> E8 [[psysml:75f754af-bdfa-473b-8cbb-d11c609ad500 ]] \r\n",
       "E8 o- - E3 [[psysml:aa35edca-3910-4cd9-97ff-300d5c8627fc ]] : y\r\n",
       "E8 o- - E6 [[psysml:aa35edca-3910-4cd9-97ff-300d5c8627fc ]] : y\r\n",
       "E9 o- - \"1\"E10 [[psysml:cf1da376-637e-4400-b815-716d62b1c417 ]] \r\n",
       "E10 - -:|> E3 [[psysml:4cf35cfc-841e-4847-875d-1ebad6bb61b9 ]] \r\n",
       "E9 o- - \"1\"E11 [[psysml:bd05daaf-8002-489d-bbfa-6134af678ace ]] \r\n",
       "E11 - -:|> E3 [[psysml:31e39f64-1f8d-4b2c-be98-c1459e5d6e94 ]] \r\n",
       "@enduml\r\n",
       "\n",
       "PlantUML version 1.2020.13(Sat Jun 13 12:26:38 UTC 2020)\n",
       "(EPL source distribution)\n",
       "Java Runtime: OpenJDK Runtime Environment\n",
       "JVM: OpenJDK 64-Bit Server VM\n",
       "Default Encoding: UTF-8\n",
       "Language: en\n",
       "Country: null\n",
       "--></g></svg>"
      ]
     },
     "execution_count": 37,
     "metadata": {},
     "output_type": "execute_result"
    }
   ],
   "source": [
    "%viz --style=\"DEFAULT\" --view=\"Default\" \"ItemTest\""
   ]
  },
  {
   "cell_type": "code",
   "execution_count": 38,
   "id": "d8c2e1e8",
   "metadata": {
    "execution": {
     "iopub.execute_input": "2021-10-03T08:27:29.191626Z",
     "iopub.status.busy": "2021-10-03T08:27:29.191199Z",
     "iopub.status.idle": "2021-10-03T08:27:29.232962Z",
     "shell.execute_reply": "2021-10-03T08:27:29.232600Z"
    }
   },
   "outputs": [
    {
     "data": {
      "image/svg+xml": [
       "<?xml version=\"1.0\" encoding=\"UTF-8\" standalone=\"no\"?><svg xmlns=\"http://www.w3.org/2000/svg\" xmlns:xlink=\"http://www.w3.org/1999/xlink\" contentScriptType=\"application/ecmascript\" contentStyleType=\"text/css\" height=\"818px\" preserveAspectRatio=\"none\" style=\"width:270px;height:818px;\" version=\"1.1\" viewBox=\"0 0 270 818\" width=\"270px\" zoomAndPan=\"magnify\"><defs/><g><!--MD5=[fbc87193dbaf4d95561dea2c320d4a47]\n",
       "cluster E1--><a href=\"psysml:1bc06463-7392-4b34-87d6-1f1d6784670a\" target=\"_top\" title=\"psysml:1bc06463-7392-4b34-87d6-1f1d6784670a\" xlink:actuate=\"onRequest\" xlink:href=\"psysml:1bc06463-7392-4b34-87d6-1f1d6784670a\" xlink:show=\"new\" xlink:title=\"psysml:1bc06463-7392-4b34-87d6-1f1d6784670a\" xlink:type=\"simple\"><polygon fill=\"#FFFFFF\" points=\"16,6,83,6,90,28.2969,248,28.2969,248,806,16,806,16,6\" style=\"stroke: #000000; stroke-width: 1.5;\"/><line style=\"stroke: #000000; stroke-width: 1.5;\" x1=\"16\" x2=\"90\" y1=\"28.2969\" y2=\"28.2969\"/><text fill=\"#000000\" font-family=\"sans-serif\" font-size=\"14\" font-weight=\"bold\" lengthAdjust=\"spacingAndGlyphs\" textLength=\"61\" x=\"20\" y=\"20.9951\">ItemTest</text></a><!--MD5=[b4997ac47864f28c2f74865a473b2911]\n",
       "class E2--><a href=\"psysml:10e5f196-141c-4ebb-934a-0a8c25223d15\" target=\"_top\" title=\"psysml:10e5f196-141c-4ebb-934a-0a8c25223d15\" xlink:actuate=\"onRequest\" xlink:href=\"psysml:10e5f196-141c-4ebb-934a-0a8c25223d15\" xlink:show=\"new\" xlink:title=\"psysml:10e5f196-141c-4ebb-934a-0a8c25223d15\" xlink:type=\"simple\"><rect fill=\"#FFFFFF\" height=\"45.9375\" id=\"E2\" rx=\"10\" ry=\"10\" style=\"stroke: #383838; stroke-width: 1.5;\" width=\"43\" x=\"188.5\" y=\"148\"/><text fill=\"#000000\" font-family=\"sans-serif\" font-size=\"12\" font-style=\"italic\" lengthAdjust=\"spacingAndGlyphs\" textLength=\"41\" x=\"189.5\" y=\"164.1387\">«item»</text><text fill=\"#000000\" font-family=\"sans-serif\" font-size=\"12\" lengthAdjust=\"spacingAndGlyphs\" textLength=\"20\" x=\"200\" y=\"178.1074\">f: A</text><line style=\"stroke: #383838; stroke-width: 1.5;\" x1=\"189.5\" x2=\"230.5\" y1=\"185.9375\" y2=\"185.9375\"/></a><!--MD5=[09b614a08d8cba4a07c9adeb5e0fee81]\n",
       "class E3--><a href=\"psysml:d8185bfd-cc57-4585-aec6-0a59765b9e32\" target=\"_top\" title=\"psysml:d8185bfd-cc57-4585-aec6-0a59765b9e32\" xlink:actuate=\"onRequest\" xlink:href=\"psysml:d8185bfd-cc57-4585-aec6-0a59765b9e32\" xlink:show=\"new\" xlink:title=\"psysml:d8185bfd-cc57-4585-aec6-0a59765b9e32\" xlink:type=\"simple\"><rect fill=\"#FFFFFF\" height=\"45.9375\" id=\"E3\" style=\"stroke: #383838; stroke-width: 1.5;\" width=\"67\" x=\"98.5\" y=\"255\"/><text fill=\"#000000\" font-family=\"sans-serif\" font-size=\"12\" font-style=\"italic\" lengthAdjust=\"spacingAndGlyphs\" textLength=\"65\" x=\"99.5\" y=\"271.1387\">«item def»</text><text fill=\"#000000\" font-family=\"sans-serif\" font-size=\"12\" lengthAdjust=\"spacingAndGlyphs\" textLength=\"8\" x=\"128\" y=\"285.1074\">A</text><line style=\"stroke: #383838; stroke-width: 1.5;\" x1=\"99.5\" x2=\"164.5\" y1=\"292.9375\" y2=\"292.9375\"/></a><!--MD5=[ebbe1d658d1005bcc118a6aa81145e00]\n",
       "class E4--><a href=\"psysml:867e3ff9-f74d-45bb-974d-3b3d8373197d\" target=\"_top\" title=\"psysml:867e3ff9-f74d-45bb-974d-3b3d8373197d\" xlink:actuate=\"onRequest\" xlink:href=\"psysml:867e3ff9-f74d-45bb-974d-3b3d8373197d\" xlink:show=\"new\" xlink:title=\"psysml:867e3ff9-f74d-45bb-974d-3b3d8373197d\" xlink:type=\"simple\"><rect fill=\"#FFFFFF\" height=\"45.9375\" id=\"E4\" rx=\"10\" ry=\"10\" style=\"stroke: #383838; stroke-width: 1.5;\" width=\"43\" x=\"45.5\" y=\"438\"/><text fill=\"#000000\" font-family=\"sans-serif\" font-size=\"12\" font-style=\"italic\" lengthAdjust=\"spacingAndGlyphs\" textLength=\"41\" x=\"46.5\" y=\"454.1387\">«item»</text><text fill=\"#000000\" font-family=\"sans-serif\" font-size=\"12\" lengthAdjust=\"spacingAndGlyphs\" textLength=\"24\" x=\"55\" y=\"468.1074\">b: B</text><line style=\"stroke: #383838; stroke-width: 1.5;\" x1=\"46.5\" x2=\"87.5\" y1=\"475.9375\" y2=\"475.9375\"/></a><!--MD5=[270fce915f116d4de14055a7c1d9a0f3]\n",
       "class E5--><a href=\"psysml:cb0d56cf-7b64-416e-8353-0e76041e55a4\" target=\"_top\" title=\"psysml:cb0d56cf-7b64-416e-8353-0e76041e55a4\" xlink:actuate=\"onRequest\" xlink:href=\"psysml:cb0d56cf-7b64-416e-8353-0e76041e55a4\" xlink:show=\"new\" xlink:title=\"psysml:cb0d56cf-7b64-416e-8353-0e76041e55a4\" xlink:type=\"simple\"><rect fill=\"#FFFFFF\" height=\"45.9375\" id=\"E5\" rx=\"10\" ry=\"10\" style=\"stroke: #383838; stroke-width: 1.5;\" width=\"42\" x=\"151\" y=\"362\"/><text fill=\"#000000\" font-family=\"sans-serif\" font-size=\"12\" font-style=\"italic\" lengthAdjust=\"spacingAndGlyphs\" textLength=\"40\" x=\"152\" y=\"378.1387\">«part»</text><text fill=\"#000000\" font-family=\"sans-serif\" font-size=\"12\" lengthAdjust=\"spacingAndGlyphs\" textLength=\"23\" x=\"160.5\" y=\"392.1074\">c: C</text><line style=\"stroke: #383838; stroke-width: 1.5;\" x1=\"152\" x2=\"192\" y1=\"399.9375\" y2=\"399.9375\"/></a><!--MD5=[60a26617385b1d2d0262a64233df1f8d]\n",
       "class E6--><a href=\"psysml:cb468909-38eb-4328-9448-1d282e0fd6a5\" target=\"_top\" title=\"psysml:cb468909-38eb-4328-9448-1d282e0fd6a5\" xlink:actuate=\"onRequest\" xlink:href=\"psysml:cb468909-38eb-4328-9448-1d282e0fd6a5\" xlink:show=\"new\" xlink:title=\"psysml:cb468909-38eb-4328-9448-1d282e0fd6a5\" xlink:type=\"simple\"><rect fill=\"#FFFFFF\" height=\"45.9375\" id=\"E6\" style=\"stroke: #383838; stroke-width: 1.5;\" width=\"67\" x=\"114.5\" y=\"637\"/><text fill=\"#000000\" font-family=\"sans-serif\" font-size=\"12\" font-style=\"italic\" lengthAdjust=\"spacingAndGlyphs\" textLength=\"65\" x=\"115.5\" y=\"653.1387\">«item def»</text><text fill=\"#000000\" font-family=\"sans-serif\" font-size=\"12\" lengthAdjust=\"spacingAndGlyphs\" textLength=\"8\" x=\"144\" y=\"667.1074\">B</text><line style=\"stroke: #383838; stroke-width: 1.5;\" x1=\"115.5\" x2=\"180.5\" y1=\"674.9375\" y2=\"674.9375\"/></a><!--MD5=[2156ba9850f5573cc1fc38a6a4b2f02b]\n",
       "class E7--><a href=\"psysml:8d68ea76-8496-4a3a-9bac-3b5e10d4f6d7\" target=\"_top\" title=\"psysml:8d68ea76-8496-4a3a-9bac-3b5e10d4f6d7\" xlink:actuate=\"onRequest\" xlink:href=\"psysml:8d68ea76-8496-4a3a-9bac-3b5e10d4f6d7\" xlink:show=\"new\" xlink:title=\"psysml:8d68ea76-8496-4a3a-9bac-3b5e10d4f6d7\" xlink:type=\"simple\"><rect fill=\"#FFFFFF\" height=\"45.9375\" id=\"E7\" rx=\"10\" ry=\"10\" style=\"stroke: #383838; stroke-width: 1.5;\" width=\"42\" x=\"159\" y=\"744\"/><text fill=\"#000000\" font-family=\"sans-serif\" font-size=\"12\" font-style=\"italic\" lengthAdjust=\"spacingAndGlyphs\" textLength=\"40\" x=\"160\" y=\"760.1387\">«part»</text><text fill=\"#000000\" font-family=\"sans-serif\" font-size=\"12\" lengthAdjust=\"spacingAndGlyphs\" textLength=\"24\" x=\"168\" y=\"774.1074\">a: A</text><line style=\"stroke: #383838; stroke-width: 1.5;\" x1=\"160\" x2=\"200\" y1=\"781.9375\" y2=\"781.9375\"/></a><!--MD5=[b9389687b975829384b498ac4b7476b2]\n",
       "class E8--><a href=\"psysml:3d841289-74ad-422d-b7f3-bdfc719d6361\" target=\"_top\" title=\"psysml:3d841289-74ad-422d-b7f3-bdfc719d6361\" xlink:actuate=\"onRequest\" xlink:href=\"psysml:3d841289-74ad-422d-b7f3-bdfc719d6361\" xlink:show=\"new\" xlink:title=\"psysml:3d841289-74ad-422d-b7f3-bdfc719d6361\" xlink:type=\"simple\"><rect fill=\"#FFFFFF\" height=\"45.9375\" id=\"E8\" style=\"stroke: #383838; stroke-width: 1.5;\" width=\"66\" x=\"115\" y=\"514\"/><text fill=\"#000000\" font-family=\"sans-serif\" font-size=\"12\" font-style=\"italic\" lengthAdjust=\"spacingAndGlyphs\" textLength=\"64\" x=\"116\" y=\"530.1387\">«part def»</text><text fill=\"#000000\" font-family=\"sans-serif\" font-size=\"12\" lengthAdjust=\"spacingAndGlyphs\" textLength=\"8\" x=\"144\" y=\"544.1074\">C</text><line style=\"stroke: #383838; stroke-width: 1.5;\" x1=\"116\" x2=\"180\" y1=\"551.9375\" y2=\"551.9375\"/></a><!--MD5=[fd4143e9d270a159db93a4ea2a975926]\n",
       "class E9--><a href=\"psysml:192666b5-43c5-4ec0-a40a-8ab471017ca3\" target=\"_top\" title=\"psysml:192666b5-43c5-4ec0-a40a-8ab471017ca3\" xlink:actuate=\"onRequest\" xlink:href=\"psysml:192666b5-43c5-4ec0-a40a-8ab471017ca3\" xlink:show=\"new\" xlink:title=\"psysml:192666b5-43c5-4ec0-a40a-8ab471017ca3\" xlink:type=\"simple\"><rect fill=\"#FFFFFF\" height=\"45.9375\" id=\"E9\" style=\"stroke: #383838; stroke-width: 1.5;\" width=\"66\" x=\"65\" y=\"41\"/><text fill=\"#000000\" font-family=\"sans-serif\" font-size=\"12\" font-style=\"italic\" lengthAdjust=\"spacingAndGlyphs\" textLength=\"64\" x=\"66\" y=\"57.1387\">«port def»</text><text fill=\"#000000\" font-family=\"sans-serif\" font-size=\"12\" lengthAdjust=\"spacingAndGlyphs\" textLength=\"8\" x=\"94\" y=\"71.1074\">P</text><line style=\"stroke: #383838; stroke-width: 1.5;\" x1=\"66\" x2=\"130\" y1=\"78.9375\" y2=\"78.9375\"/></a><!--MD5=[96f4274e9e20536e775497830990834d]\n",
       "class E10--><a href=\"psysml:a2436968-c74d-4c9f-bf2a-127bcc502b4e\" target=\"_top\" title=\"psysml:a2436968-c74d-4c9f-bf2a-127bcc502b4e\" xlink:actuate=\"onRequest\" xlink:href=\"psysml:a2436968-c74d-4c9f-bf2a-127bcc502b4e\" xlink:show=\"new\" xlink:title=\"psysml:a2436968-c74d-4c9f-bf2a-127bcc502b4e\" xlink:type=\"simple\"><rect fill=\"#FFFFFF\" height=\"45.9375\" id=\"E10\" rx=\"10\" ry=\"10\" style=\"stroke: #383838; stroke-width: 1.5;\" width=\"43\" x=\"32.5\" y=\"148\"/><text fill=\"#000000\" font-family=\"sans-serif\" font-size=\"12\" font-style=\"italic\" lengthAdjust=\"spacingAndGlyphs\" textLength=\"41\" x=\"33.5\" y=\"164.1387\">«item»</text><text fill=\"#000000\" font-family=\"sans-serif\" font-size=\"12\" lengthAdjust=\"spacingAndGlyphs\" textLength=\"32\" x=\"38\" y=\"178.1074\">a1: A</text><line style=\"stroke: #383838; stroke-width: 1.5;\" x1=\"33.5\" x2=\"74.5\" y1=\"185.9375\" y2=\"185.9375\"/></a><!--MD5=[1dd1bfd58a279cf63c5f349dbc8fc6a1]\n",
       "class E11--><a href=\"psysml:6388cc28-f9be-476c-ad05-d9ff93971fbb\" target=\"_top\" title=\"psysml:6388cc28-f9be-476c-ad05-d9ff93971fbb\" xlink:actuate=\"onRequest\" xlink:href=\"psysml:6388cc28-f9be-476c-ad05-d9ff93971fbb\" xlink:show=\"new\" xlink:title=\"psysml:6388cc28-f9be-476c-ad05-d9ff93971fbb\" xlink:type=\"simple\"><rect fill=\"#FFFFFF\" height=\"45.9375\" id=\"E11\" rx=\"10\" ry=\"10\" style=\"stroke: #383838; stroke-width: 1.5;\" width=\"43\" x=\"110.5\" y=\"148\"/><text fill=\"#000000\" font-family=\"sans-serif\" font-size=\"12\" font-style=\"italic\" lengthAdjust=\"spacingAndGlyphs\" textLength=\"41\" x=\"111.5\" y=\"164.1387\">«item»</text><text fill=\"#000000\" font-family=\"sans-serif\" font-size=\"12\" lengthAdjust=\"spacingAndGlyphs\" textLength=\"32\" x=\"116\" y=\"178.1074\">a2: A</text><line style=\"stroke: #383838; stroke-width: 1.5;\" x1=\"111.5\" x2=\"152.5\" y1=\"185.9375\" y2=\"185.9375\"/></a><!--MD5=[2720a5a1f2c3fca2055b230370638851]\n",
       "link E2 to E3--><a href=\"psysml:24dbd283-1078-40f8-9dda-86d7de7bac74\" target=\"_top\" title=\"psysml:24dbd283-1078-40f8-9dda-86d7de7bac74\" xlink:actuate=\"onRequest\" xlink:href=\"psysml:24dbd283-1078-40f8-9dda-86d7de7bac74\" xlink:show=\"new\" xlink:title=\"psysml:24dbd283-1078-40f8-9dda-86d7de7bac74\" xlink:type=\"simple\"><path d=\"M193.65,194.01 C184.14,206.81 171.89,223.3 160.82,238.2 \" fill=\"none\" id=\"E2-&gt;E3\" style=\"stroke: #383838; stroke-width: 1.0;\"/><polygon fill=\"#FFFFFF\" points=\"148.6,254.66,154.3195,235.2361,165.5543,243.5896,148.6,254.66\" style=\"stroke: #383838; stroke-width: 1.0;\"/><ellipse cx=\"159.3256\" cy=\"231.8554\" fill=\"#383838\" rx=\"2\" ry=\"2\" style=\"stroke: #383838; stroke-width: 1.0;\"/><ellipse cx=\"167.3504\" cy=\"237.8221\" fill=\"#383838\" rx=\"2\" ry=\"2\" style=\"stroke: #383838; stroke-width: 1.0;\"/></a><!--MD5=[4672eba38e49728da53d11aeb285b987]\n",
       "reverse link E3 to E4--><a href=\"psysml:9f51e7d9-1020-406a-8433-de0298038040\" target=\"_top\" title=\"psysml:9f51e7d9-1020-406a-8433-de0298038040\" xlink:actuate=\"onRequest\" xlink:href=\"psysml:9f51e7d9-1020-406a-8433-de0298038040\" xlink:show=\"new\" xlink:title=\"psysml:9f51e7d9-1020-406a-8433-de0298038040\" xlink:type=\"simple\"><path d=\"M97.11,310.9 C84.08,325.11 70.81,342.94 64,362 C55.12,386.85 58.09,417.53 61.82,437.88 \" fill=\"none\" id=\"E3&lt;-E4\" style=\"stroke: #383838; stroke-width: 1.0;\"/><polygon fill=\"#383838\" points=\"106.46,301.23,99.4153,302.7703,98.1277,309.8655,105.1724,308.3252,106.46,301.23\" style=\"stroke: #383838; stroke-width: 1.0;\"/><text fill=\"#000000\" font-family=\"sans-serif\" font-size=\"13\" lengthAdjust=\"spacingAndGlyphs\" textLength=\"8\" x=\"51.3529\" y=\"426.744\">1</text></a><!--MD5=[191cde3d490a3f6d7bb551fe3ddca469]\n",
       "reverse link E3 to E5--><a href=\"psysml:7a936c29-0528-4da5-855d-3be7e5f4e113\" target=\"_top\" title=\"psysml:7a936c29-0528-4da5-855d-3be7e5f4e113\" xlink:actuate=\"onRequest\" xlink:href=\"psysml:7a936c29-0528-4da5-855d-3be7e5f4e113\" xlink:show=\"new\" xlink:title=\"psysml:7a936c29-0528-4da5-855d-3be7e5f4e113\" xlink:type=\"simple\"><path d=\"M145.17,313.57 C151.2,329.39 158.16,347.68 163.49,361.66 \" fill=\"none\" id=\"E3&lt;-E5\" style=\"stroke: #383838; stroke-width: 1.0;\"/><polygon fill=\"#FFFFFF\" points=\"140.39,301.01,138.7866,308.0406,144.6598,312.2247,146.2631,305.1941,140.39,301.01\" style=\"stroke: #383838; stroke-width: 1.0;\"/><text fill=\"#000000\" font-family=\"sans-serif\" font-size=\"13\" lengthAdjust=\"spacingAndGlyphs\" textLength=\"8\" x=\"152.2843\" y=\"350.8492\">1</text></a><!--MD5=[79568f1e445c3877b6a54524624ccc7d]\n",
       "link E4 to E6--><a href=\"psysml:860f4e4a-475c-4d3a-a05e-585111d40739\" target=\"_top\" title=\"psysml:860f4e4a-475c-4d3a-a05e-585111d40739\" xlink:actuate=\"onRequest\" xlink:href=\"psysml:860f4e4a-475c-4d3a-a05e-585111d40739\" xlink:show=\"new\" xlink:title=\"psysml:860f4e4a-475c-4d3a-a05e-585111d40739\" xlink:type=\"simple\"><path d=\"M72.9,484.16 C78.52,504.26 87.63,534.55 98,560 C106.11,579.9 116.66,601.27 125.97,619.04 \" fill=\"none\" id=\"E4-&gt;E6\" style=\"stroke: #383838; stroke-width: 1.0;\"/><polygon fill=\"#FFFFFF\" points=\"135.42,636.68,120.2696,623.2463,132.6064,616.628,135.42,636.68\" style=\"stroke: #383838; stroke-width: 1.0;\"/><ellipse cx=\"119.3374\" cy=\"617.2779\" fill=\"#383838\" rx=\"2\" ry=\"2\" style=\"stroke: #383838; stroke-width: 1.0;\"/><ellipse cx=\"128.1494\" cy=\"612.5506\" fill=\"#383838\" rx=\"2\" ry=\"2\" style=\"stroke: #383838; stroke-width: 1.0;\"/></a><!--MD5=[3f50a3473f1dfb74d3f76443e03635af]\n",
       "reverse link E6 to E7--><a href=\"psysml:01396c82-09da-45aa-ba0c-a7dad5741ff2\" target=\"_top\" title=\"psysml:01396c82-09da-45aa-ba0c-a7dad5741ff2\" xlink:actuate=\"onRequest\" xlink:href=\"psysml:01396c82-09da-45aa-ba0c-a7dad5741ff2\" xlink:show=\"new\" xlink:title=\"psysml:01396c82-09da-45aa-ba0c-a7dad5741ff2\" xlink:type=\"simple\"><path d=\"M158.54,695.57 C163.36,711.39 168.93,729.68 173.19,743.66 \" fill=\"none\" id=\"E6&lt;-E7\" style=\"stroke: #383838; stroke-width: 1.0;\"/><polygon fill=\"#383838\" points=\"154.71,683.01,152.6319,689.9152,158.2066,694.4893,160.2847,687.5841,154.71,683.01\" style=\"stroke: #383838; stroke-width: 1.0;\"/><text fill=\"#000000\" font-family=\"sans-serif\" font-size=\"13\" lengthAdjust=\"spacingAndGlyphs\" textLength=\"8\" x=\"162.4199\" y=\"732.8492\">1</text></a><!--MD5=[14ccda38c055a5c0da953d572bc50960]\n",
       "link E7 to E3--><a href=\"psysml:d97708ca-1830-4e5e-bf07-a2aabe0546e8\" target=\"_top\" title=\"psysml:d97708ca-1830-4e5e-bf07-a2aabe0546e8\" xlink:actuate=\"onRequest\" xlink:href=\"psysml:d97708ca-1830-4e5e-bf07-a2aabe0546e8\" xlink:show=\"new\" xlink:title=\"psysml:d97708ca-1830-4e5e-bf07-a2aabe0546e8\" xlink:type=\"simple\"><path d=\"M197.41,743.63 C211.5,723.27 229,691.78 229,661 C229,384 229,384 229,384 C229,353 205.9,327.25 182.25,309.01 \" fill=\"none\" id=\"E7-&gt;E3\" style=\"stroke: #383838; stroke-width: 1.0;\"/><polygon fill=\"#FFFFFF\" points=\"165.65,297.35,185.219,302.5513,177.1671,314.004,165.65,297.35\" style=\"stroke: #383838; stroke-width: 1.0;\"/><ellipse cx=\"188.7317\" cy=\"307.4657\" fill=\"#383838\" rx=\"2\" ry=\"2\" style=\"stroke: #383838; stroke-width: 1.0;\"/><ellipse cx=\"182.9803\" cy=\"315.6462\" fill=\"#383838\" rx=\"2\" ry=\"2\" style=\"stroke: #383838; stroke-width: 1.0;\"/></a><!--MD5=[dfaffb906826c3e5aca635516100ff21]\n",
       "link E5 to E8--><a href=\"psysml:75f754af-bdfa-473b-8cbb-d11c609ad500\" target=\"_top\" title=\"psysml:75f754af-bdfa-473b-8cbb-d11c609ad500\" xlink:actuate=\"onRequest\" xlink:href=\"psysml:75f754af-bdfa-473b-8cbb-d11c609ad500\" xlink:show=\"new\" xlink:title=\"psysml:75f754af-bdfa-473b-8cbb-d11c609ad500\" xlink:type=\"simple\"><path d=\"M168.46,408.13 C164.86,430.62 159.2,466.01 154.74,493.87 \" fill=\"none\" id=\"E5-&gt;E8\" style=\"stroke: #383838; stroke-width: 1.0;\"/><polygon fill=\"#FFFFFF\" points=\"151.56,513.78,147.6458,493.9135,161.4704,496.1226,151.56,513.78\" style=\"stroke: #383838; stroke-width: 1.0;\"/><ellipse cx=\"150.5202\" cy=\"488.6005\" fill=\"#383838\" rx=\"2\" ry=\"2\" style=\"stroke: #383838; stroke-width: 1.0;\"/><ellipse cx=\"160.3949\" cy=\"490.1784\" fill=\"#383838\" rx=\"2\" ry=\"2\" style=\"stroke: #383838; stroke-width: 1.0;\"/></a><!--MD5=[03c8294790d3c57651a1993cecff665f]\n",
       "reverse link E8 to E3--><a href=\"psysml:aa35edca-3910-4cd9-97ff-300d5c8627fc\" target=\"_top\" title=\"psysml:aa35edca-3910-4cd9-97ff-300d5c8627fc\" xlink:actuate=\"onRequest\" xlink:href=\"psysml:aa35edca-3910-4cd9-97ff-300d5c8627fc\" xlink:show=\"new\" xlink:title=\"psysml:aa35edca-3910-4cd9-97ff-300d5c8627fc\" xlink:type=\"simple\"><path d=\"M140.02,501.22 C134.57,475.6 127.84,439.84 125,408 C123.18,387.64 124.14,382.43 125,362 C125.87,341.34 127.95,317.86 129.62,301.16 \" fill=\"none\" id=\"E8&lt;-E3\" style=\"stroke: #383838; stroke-width: 1.0;\"/><polygon fill=\"#FFFFFF\" points=\"142.81,513.96,145.4388,507.2451,140.2515,502.2359,137.6227,508.9508,142.81,513.96\" style=\"stroke: #383838; stroke-width: 1.0;\"/><text fill=\"#000000\" font-family=\"sans-serif\" font-size=\"13\" lengthAdjust=\"spacingAndGlyphs\" textLength=\"7\" x=\"126\" y=\"389.5669\">y</text></a><!--MD5=[0d75d2178373a6a4568e5dc728f58aef]\n",
       "reverse link E8 to E6--><a href=\"psysml:aa35edca-3910-4cd9-97ff-300d5c8627fc\" target=\"_top\" title=\"psysml:aa35edca-3910-4cd9-97ff-300d5c8627fc\" xlink:actuate=\"onRequest\" xlink:href=\"psysml:aa35edca-3910-4cd9-97ff-300d5c8627fc\" xlink:show=\"new\" xlink:title=\"psysml:aa35edca-3910-4cd9-97ff-300d5c8627fc\" xlink:type=\"simple\"><path d=\"M148,573.22 C148,593.81 148,619.16 148,636.95 \" fill=\"none\" id=\"E8&lt;-E6\" style=\"stroke: #383838; stroke-width: 1.0;\"/><polygon fill=\"#FFFFFF\" points=\"148,560.19,144,566.19,148,572.19,152,566.19,148,560.19\" style=\"stroke: #383838; stroke-width: 1.0;\"/><text fill=\"#000000\" font-family=\"sans-serif\" font-size=\"13\" lengthAdjust=\"spacingAndGlyphs\" textLength=\"7\" x=\"149\" y=\"603.0669\">y</text></a><!--MD5=[23ac544a70576c3e717098101004234c]\n",
       "reverse link E9 to E10--><a href=\"psysml:cf1da376-637e-4400-b815-716d62b1c417\" target=\"_top\" title=\"psysml:cf1da376-637e-4400-b815-716d62b1c417\" xlink:actuate=\"onRequest\" xlink:href=\"psysml:cf1da376-637e-4400-b815-716d62b1c417\" xlink:show=\"new\" xlink:title=\"psysml:cf1da376-637e-4400-b815-716d62b1c417\" xlink:type=\"simple\"><path d=\"M83.71,99.1 C77.04,115.03 69.28,133.54 63.36,147.66 \" fill=\"none\" id=\"E9&lt;-E10\" style=\"stroke: #383838; stroke-width: 1.0;\"/><polygon fill=\"#FFFFFF\" points=\"88.78,87.01,82.7702,90.9953,84.1375,98.0756,90.1473,94.0903,88.78,87.01\" style=\"stroke: #383838; stroke-width: 1.0;\"/><text fill=\"#000000\" font-family=\"sans-serif\" font-size=\"13\" lengthAdjust=\"spacingAndGlyphs\" textLength=\"8\" x=\"56.7335\" y=\"136.8492\">1</text></a><!--MD5=[feeac5eb423634930294aa81f2d25a4c]\n",
       "link E10 to E3--><a href=\"psysml:4cf35cfc-841e-4847-875d-1ebad6bb61b9\" target=\"_top\" title=\"psysml:4cf35cfc-841e-4847-875d-1ebad6bb61b9\" xlink:actuate=\"onRequest\" xlink:href=\"psysml:4cf35cfc-841e-4847-875d-1ebad6bb61b9\" xlink:show=\"new\" xlink:title=\"psysml:4cf35cfc-841e-4847-875d-1ebad6bb61b9\" xlink:type=\"simple\"><path d=\"M70.35,194.01 C79.86,206.81 92.11,223.3 103.18,238.2 \" fill=\"none\" id=\"E10-&gt;E3\" style=\"stroke: #383838; stroke-width: 1.0;\"/><polygon fill=\"#FFFFFF\" points=\"115.4,254.66,98.4457,243.5896,109.6805,235.2361,115.4,254.66\" style=\"stroke: #383838; stroke-width: 1.0;\"/><ellipse cx=\"96.6496\" cy=\"237.8221\" fill=\"#383838\" rx=\"2\" ry=\"2\" style=\"stroke: #383838; stroke-width: 1.0;\"/><ellipse cx=\"104.6744\" cy=\"231.8554\" fill=\"#383838\" rx=\"2\" ry=\"2\" style=\"stroke: #383838; stroke-width: 1.0;\"/></a><!--MD5=[1fc04a95fd77ad5ce46c1a3027516051]\n",
       "reverse link E9 to E11--><a href=\"psysml:bd05daaf-8002-489d-bbfa-6134af678ace\" target=\"_top\" title=\"psysml:bd05daaf-8002-489d-bbfa-6134af678ace\" xlink:actuate=\"onRequest\" xlink:href=\"psysml:bd05daaf-8002-489d-bbfa-6134af678ace\" xlink:show=\"new\" xlink:title=\"psysml:bd05daaf-8002-489d-bbfa-6134af678ace\" xlink:type=\"simple\"><path d=\"M109.19,99.57 C114.32,115.39 120.24,133.68 124.76,147.66 \" fill=\"none\" id=\"E9&lt;-E11\" style=\"stroke: #383838; stroke-width: 1.0;\"/><polygon fill=\"#FFFFFF\" points=\"105.13,87.01,103.1699,93.9496,108.8217,98.428,110.7819,91.4884,105.13,87.01\" style=\"stroke: #383838; stroke-width: 1.0;\"/><text fill=\"#000000\" font-family=\"sans-serif\" font-size=\"13\" lengthAdjust=\"spacingAndGlyphs\" textLength=\"8\" x=\"113.8798\" y=\"136.8492\">1</text></a><!--MD5=[0517f1ce58c4d5483948f93845c45e26]\n",
       "link E11 to E3--><a href=\"psysml:31e39f64-1f8d-4b2c-be98-c1459e5d6e94\" target=\"_top\" title=\"psysml:31e39f64-1f8d-4b2c-be98-c1459e5d6e94\" xlink:actuate=\"onRequest\" xlink:href=\"psysml:31e39f64-1f8d-4b2c-be98-c1459e5d6e94\" xlink:show=\"new\" xlink:title=\"psysml:31e39f64-1f8d-4b2c-be98-c1459e5d6e94\" xlink:type=\"simple\"><path d=\"M132,194.01 C132,205.69 132,220.46 132,234.28 \" fill=\"none\" id=\"E11-&gt;E3\" style=\"stroke: #383838; stroke-width: 1.0;\"/><polygon fill=\"#FFFFFF\" points=\"132,254.66,125,235.66,139,235.66,132,254.66\" style=\"stroke: #383838; stroke-width: 1.0;\"/><ellipse cx=\"127\" cy=\"229.96\" fill=\"#383838\" rx=\"2\" ry=\"2\" style=\"stroke: #383838; stroke-width: 1.0;\"/><ellipse cx=\"137\" cy=\"229.96\" fill=\"#383838\" rx=\"2\" ry=\"2\" style=\"stroke: #383838; stroke-width: 1.0;\"/></a><!--MD5=[883fc6d3a4cb33c2ab10e88b444b0e28]\n",
       "@startuml\r\n",
       "skinparam monochrome true\r\n",
       "skinparam classbackgroundcolor white\r\n",
       "skinparam shadowing false\r\n",
       "skinparam wrapWidth 300\r\n",
       "hide circle\r\n",
       "\r\n",
       "package \"ItemTest\" as E1  [[psysml:1bc06463-7392-4b34-87d6-1f1d6784670a ]]  {\r\n",
       "comp usage \"f: A\" as E2  <<(T,blue) item>> [[psysml:10e5f196-141c-4ebb-934a-0a8c25223d15 ]] {\r\n",
       "}\r\n",
       "comp def \"A\" as E3  <<(T,blue) item def>> [[psysml:d8185bfd-cc57-4585-aec6-0a59765b9e32 ]] {\r\n",
       "}\r\n",
       "comp usage \"b: B\" as E4  <<(T,blue) item>> [[psysml:867e3ff9-f74d-45bb-974d-3b3d8373197d ]] {\r\n",
       "}\r\n",
       "comp usage \"c: C\" as E5  <<(T,blue) part>> [[psysml:cb0d56cf-7b64-416e-8353-0e76041e55a4 ]] {\r\n",
       "}\r\n",
       "comp def \"B\" as E6  <<(T,blue) item def>> [[psysml:cb468909-38eb-4328-9448-1d282e0fd6a5 ]] {\r\n",
       "}\r\n",
       "comp usage \"a: A\" as E7  <<(T,blue) part>> [[psysml:8d68ea76-8496-4a3a-9bac-3b5e10d4f6d7 ]] {\r\n",
       "}\r\n",
       "comp def \"C\" as E8  <<(T,blue) part def>> [[psysml:3d841289-74ad-422d-b7f3-bdfc719d6361 ]] {\r\n",
       "}\r\n",
       "comp def \"P\" as E9  <<(T,blue) port def>> [[psysml:192666b5-43c5-4ec0-a40a-8ab471017ca3 ]] {\r\n",
       "}\r\n",
       "comp usage \"a1: A\" as E10  <<(T,blue) item>> [[psysml:a2436968-c74d-4c9f-bf2a-127bcc502b4e ]] {\r\n",
       "}\r\n",
       "comp usage \"a2: A\" as E11  <<(T,blue) item>> [[psysml:6388cc28-f9be-476c-ad05-d9ff93971fbb ]] {\r\n",
       "}\r\n",
       "}\r\n",
       "E2 - -:|> E3 [[psysml:24dbd283-1078-40f8-9dda-86d7de7bac74 ]] \r\n",
       "E3 *- - \"1\"E4 [[psysml:9f51e7d9-1020-406a-8433-de0298038040 ]] \r\n",
       "E3 o- - \"1\"E5 [[psysml:7a936c29-0528-4da5-855d-3be7e5f4e113 ]] \r\n",
       "E4 - -:|> E6 [[psysml:860f4e4a-475c-4d3a-a05e-585111d40739 ]] \r\n",
       "E6 *- - \"1\"E7 [[psysml:01396c82-09da-45aa-ba0c-a7dad5741ff2 ]] \r\n",
       "E7 - -:|> E3 [[psysml:d97708ca-1830-4e5e-bf07-a2aabe0546e8 ]] \r\n",
       "E5 - -:|> E8 [[psysml:75f754af-bdfa-473b-8cbb-d11c609ad500 ]] \r\n",
       "E8 o- - E3 [[psysml:aa35edca-3910-4cd9-97ff-300d5c8627fc ]] : y\r\n",
       "E8 o- - E6 [[psysml:aa35edca-3910-4cd9-97ff-300d5c8627fc ]] : y\r\n",
       "E9 o- - \"1\"E10 [[psysml:cf1da376-637e-4400-b815-716d62b1c417 ]] \r\n",
       "E10 - -:|> E3 [[psysml:4cf35cfc-841e-4847-875d-1ebad6bb61b9 ]] \r\n",
       "E9 o- - \"1\"E11 [[psysml:bd05daaf-8002-489d-bbfa-6134af678ace ]] \r\n",
       "E11 - -:|> E3 [[psysml:31e39f64-1f8d-4b2c-be98-c1459e5d6e94 ]] \r\n",
       "@enduml\r\n",
       "\n",
       "PlantUML version 1.2020.13(Sat Jun 13 12:26:38 UTC 2020)\n",
       "(EPL source distribution)\n",
       "Java Runtime: OpenJDK Runtime Environment\n",
       "JVM: OpenJDK 64-Bit Server VM\n",
       "Default Encoding: UTF-8\n",
       "Language: en\n",
       "Country: null\n",
       "--></g></svg>"
      ]
     },
     "execution_count": 38,
     "metadata": {},
     "output_type": "execute_result"
    }
   ],
   "source": [
    "%viz --style=\"DEFAULT\" --view=\"Tree\" \"ItemTest\""
   ]
  },
  {
   "cell_type": "code",
   "execution_count": 39,
   "id": "8ca2de4a",
   "metadata": {
    "execution": {
     "iopub.execute_input": "2021-10-03T08:27:29.282096Z",
     "iopub.status.busy": "2021-10-03T08:27:29.281691Z",
     "iopub.status.idle": "2021-10-03T08:27:29.286280Z",
     "shell.execute_reply": "2021-10-03T08:27:29.286594Z"
    }
   },
   "outputs": [
    {
     "data": {
      "image/svg+xml": [
       "<?xml version=\"1.0\" encoding=\"UTF-8\" standalone=\"no\"?><svg xmlns=\"http://www.w3.org/2000/svg\" xmlns:xlink=\"http://www.w3.org/1999/xlink\" contentScriptType=\"application/ecmascript\" contentStyleType=\"text/css\" height=\"12px\" preserveAspectRatio=\"none\" style=\"width:12px;height:12px;\" version=\"1.1\" viewBox=\"0 0 12 12\" width=\"12px\" zoomAndPan=\"magnify\"><defs/><g><!--MD5=[c5f280e076d0d61ccf4b0f27871bda1d]\n",
       "@startuml\r\n",
       "skinparam monochrome true\r\n",
       "skinparam classbackgroundcolor white\r\n",
       "skinparam shadowing false\r\n",
       "skinparam wrapWidth 300\r\n",
       "hide circle\r\n",
       "\r\n",
       "@enduml\r\n",
       "\n",
       "PlantUML version 1.2020.13(Sat Jun 13 12:26:38 UTC 2020)\n",
       "(EPL source distribution)\n",
       "Java Runtime: OpenJDK Runtime Environment\n",
       "JVM: OpenJDK 64-Bit Server VM\n",
       "Default Encoding: UTF-8\n",
       "Language: en\n",
       "Country: null\n",
       "--></g></svg>"
      ]
     },
     "execution_count": 39,
     "metadata": {},
     "output_type": "execute_result"
    }
   ],
   "source": [
    "%viz --style=\"DEFAULT\" --view=\"State\" \"ItemTest\""
   ]
  },
  {
   "cell_type": "code",
   "execution_count": 40,
   "id": "b02f7975",
   "metadata": {
    "execution": {
     "iopub.execute_input": "2021-10-03T08:27:29.336225Z",
     "iopub.status.busy": "2021-10-03T08:27:29.335824Z",
     "iopub.status.idle": "2021-10-03T08:27:29.361262Z",
     "shell.execute_reply": "2021-10-03T08:27:29.360922Z"
    }
   },
   "outputs": [
    {
     "data": {
      "image/svg+xml": [
       "<?xml version=\"1.0\" encoding=\"UTF-8\" standalone=\"no\"?><svg xmlns=\"http://www.w3.org/2000/svg\" xmlns:xlink=\"http://www.w3.org/1999/xlink\" contentScriptType=\"application/ecmascript\" contentStyleType=\"text/css\" height=\"112px\" preserveAspectRatio=\"none\" style=\"width:548px;height:112px;\" version=\"1.1\" viewBox=\"0 0 548 112\" width=\"548px\" zoomAndPan=\"magnify\"><defs/><g><!--MD5=[fbc87193dbaf4d95561dea2c320d4a47]\n",
       "cluster E1--><a href=\"psysml:1bc06463-7392-4b34-87d6-1f1d6784670a\" target=\"_top\" title=\"psysml:1bc06463-7392-4b34-87d6-1f1d6784670a\" xlink:actuate=\"onRequest\" xlink:href=\"psysml:1bc06463-7392-4b34-87d6-1f1d6784670a\" xlink:show=\"new\" xlink:title=\"psysml:1bc06463-7392-4b34-87d6-1f1d6784670a\" xlink:type=\"simple\"><polygon fill=\"#FFFFFF\" points=\"16,6,83,6,90,28.2969,526,28.2969,526,100,16,100,16,6\" style=\"stroke: #000000; stroke-width: 1.5;\"/><line style=\"stroke: #000000; stroke-width: 1.5;\" x1=\"16\" x2=\"90\" y1=\"28.2969\" y2=\"28.2969\"/><text fill=\"#000000\" font-family=\"sans-serif\" font-size=\"14\" font-weight=\"bold\" lengthAdjust=\"spacingAndGlyphs\" textLength=\"61\" x=\"20\" y=\"20.9951\">ItemTest</text></a><g id=\"E1.E3\"><a href=\"psysml:d8185bfd-cc57-4585-aec6-0a59765b9e32\" target=\"_top\" title=\"psysml:d8185bfd-cc57-4585-aec6-0a59765b9e32\" xlink:actuate=\"onRequest\" xlink:href=\"psysml:d8185bfd-cc57-4585-aec6-0a59765b9e32\" xlink:show=\"new\" xlink:title=\"psysml:d8185bfd-cc57-4585-aec6-0a59765b9e32\" xlink:type=\"simple\"><rect fill=\"#FFFFFF\" height=\"42.9375\" id=\"E3\" style=\"stroke: #383838; stroke-width: 1.5;\" width=\"72\" x=\"438\" y=\"41\"/><rect fill=\"#F8F8F8\" height=\"37.9375\" style=\"stroke: #383838; stroke-width: 1.5;\" width=\"72\" x=\"438\" y=\"41\"/><text fill=\"#000000\" font-family=\"sans-serif\" font-size=\"12\" font-style=\"italic\" lengthAdjust=\"spacingAndGlyphs\" textLength=\"65\" x=\"441.5\" y=\"57.1387\">«item def»</text><text fill=\"#000000\" font-family=\"sans-serif\" font-size=\"12\" lengthAdjust=\"spacingAndGlyphs\" textLength=\"8\" x=\"470\" y=\"71.1074\">A</text></a></g><g id=\"E1.E4\"><a href=\"psysml:cb468909-38eb-4328-9448-1d282e0fd6a5\" target=\"_top\" title=\"psysml:cb468909-38eb-4328-9448-1d282e0fd6a5\" xlink:actuate=\"onRequest\" xlink:href=\"psysml:cb468909-38eb-4328-9448-1d282e0fd6a5\" xlink:show=\"new\" xlink:title=\"psysml:cb468909-38eb-4328-9448-1d282e0fd6a5\" xlink:type=\"simple\"><rect fill=\"#FFFFFF\" height=\"42.9375\" id=\"E4\" style=\"stroke: #383838; stroke-width: 1.5;\" width=\"72\" x=\"331\" y=\"41\"/><rect fill=\"#F8F8F8\" height=\"37.9375\" style=\"stroke: #383838; stroke-width: 1.5;\" width=\"72\" x=\"331\" y=\"41\"/><text fill=\"#000000\" font-family=\"sans-serif\" font-size=\"12\" font-style=\"italic\" lengthAdjust=\"spacingAndGlyphs\" textLength=\"65\" x=\"334.5\" y=\"57.1387\">«item def»</text><text fill=\"#000000\" font-family=\"sans-serif\" font-size=\"12\" lengthAdjust=\"spacingAndGlyphs\" textLength=\"8\" x=\"363\" y=\"71.1074\">B</text></a></g><g id=\"E1.E6\"><a href=\"psysml:192666b5-43c5-4ec0-a40a-8ab471017ca3\" target=\"_top\" title=\"psysml:192666b5-43c5-4ec0-a40a-8ab471017ca3\" xlink:actuate=\"onRequest\" xlink:href=\"psysml:192666b5-43c5-4ec0-a40a-8ab471017ca3\" xlink:show=\"new\" xlink:title=\"psysml:192666b5-43c5-4ec0-a40a-8ab471017ca3\" xlink:type=\"simple\"><rect fill=\"#FFFFFF\" height=\"42.9375\" id=\"E6\" style=\"stroke: #383838; stroke-width: 1.5;\" width=\"71\" x=\"224.5\" y=\"41\"/><rect fill=\"#F8F8F8\" height=\"37.9375\" style=\"stroke: #383838; stroke-width: 1.5;\" width=\"71\" x=\"224.5\" y=\"41\"/><text fill=\"#000000\" font-family=\"sans-serif\" font-size=\"12\" font-style=\"italic\" lengthAdjust=\"spacingAndGlyphs\" textLength=\"64\" x=\"228\" y=\"57.1387\">«port def»</text><text fill=\"#000000\" font-family=\"sans-serif\" font-size=\"12\" lengthAdjust=\"spacingAndGlyphs\" textLength=\"8\" x=\"256\" y=\"71.1074\">P</text></a></g><g id=\"E1.E2\"><a href=\"psysml:10e5f196-141c-4ebb-934a-0a8c25223d15\" target=\"_top\" title=\"psysml:10e5f196-141c-4ebb-934a-0a8c25223d15\" xlink:actuate=\"onRequest\" xlink:href=\"psysml:10e5f196-141c-4ebb-934a-0a8c25223d15\" xlink:show=\"new\" xlink:title=\"psysml:10e5f196-141c-4ebb-934a-0a8c25223d15\" xlink:type=\"simple\"><rect fill=\"#FFFFFF\" height=\"42.9375\" id=\"E2\" rx=\"10\" ry=\"10\" style=\"stroke: #383838; stroke-width: 1.5;\" width=\"50\" x=\"139\" y=\"41\"/><rect fill=\"#F8F8F8\" height=\"37.9375\" rx=\"10\" ry=\"10\" style=\"stroke: #F8F8F8; stroke-width: 1.5;\" width=\"50\" x=\"139\" y=\"41\"/><rect fill=\"#F8F8F8\" height=\"10\" style=\"stroke: #F8F8F8; stroke-width: 1.5;\" width=\"50\" x=\"139\" y=\"68.9375\"/><rect fill=\"none\" height=\"42.9375\" id=\"E2\" rx=\"10\" ry=\"10\" style=\"stroke: #383838; stroke-width: 1.5;\" width=\"50\" x=\"139\" y=\"41\"/><text fill=\"#000000\" font-family=\"sans-serif\" font-size=\"12\" font-style=\"italic\" lengthAdjust=\"spacingAndGlyphs\" textLength=\"41\" x=\"143.5\" y=\"57.1387\">«item»</text><text fill=\"#000000\" font-family=\"sans-serif\" font-size=\"12\" lengthAdjust=\"spacingAndGlyphs\" textLength=\"20\" x=\"154\" y=\"71.1074\">f: A</text></a></g><g id=\"E1.E5\"><a href=\"psysml:3d841289-74ad-422d-b7f3-bdfc719d6361\" target=\"_top\" title=\"psysml:3d841289-74ad-422d-b7f3-bdfc719d6361\" xlink:actuate=\"onRequest\" xlink:href=\"psysml:3d841289-74ad-422d-b7f3-bdfc719d6361\" xlink:show=\"new\" xlink:title=\"psysml:3d841289-74ad-422d-b7f3-bdfc719d6361\" xlink:type=\"simple\"><rect fill=\"#FFFFFF\" height=\"42.9375\" id=\"E5\" style=\"stroke: #383838; stroke-width: 1.5;\" width=\"71\" x=\"32.5\" y=\"41\"/><rect fill=\"#F8F8F8\" height=\"37.9375\" style=\"stroke: #383838; stroke-width: 1.5;\" width=\"71\" x=\"32.5\" y=\"41\"/><text fill=\"#000000\" font-family=\"sans-serif\" font-size=\"12\" font-style=\"italic\" lengthAdjust=\"spacingAndGlyphs\" textLength=\"64\" x=\"36\" y=\"57.1387\">«part def»</text><text fill=\"#000000\" font-family=\"sans-serif\" font-size=\"12\" lengthAdjust=\"spacingAndGlyphs\" textLength=\"8\" x=\"64\" y=\"71.1074\">C</text></a></g><!--MD5=[861f32b5644449ef750876ebe51829c3]\n",
       "@startuml\r\n",
       "skinparam ranksep 10\r\n",
       "skinparam rectangle {\r\n",
       " backgroundColor<<block>> LightGreen\r\n",
       "}\r\n",
       "skinparam monochrome true\r\n",
       "skinparam classbackgroundcolor white\r\n",
       "skinparam shadowing false\r\n",
       "skinparam wrapWidth 300\r\n",
       "hide circle\r\n",
       "\r\n",
       "package \"ItemTest\" as E1  [[psysml:1bc06463-7392-4b34-87d6-1f1d6784670a ]]  {\r\n",
       "rec usage \"f: A\" as E2  <<(T,blue) item>> [[psysml:10e5f196-141c-4ebb-934a-0a8c25223d15 ]] {\r\n",
       "}\r\n",
       "def \"A\" as E3  <<(T,blue) item def>> [[psysml:d8185bfd-cc57-4585-aec6-0a59765b9e32 ]] \r\n",
       "def \"B\" as E4  <<(T,blue) item def>> [[psysml:cb468909-38eb-4328-9448-1d282e0fd6a5 ]] \r\n",
       "rec def \"C\" as E5  <<(T,blue) part def>> [[psysml:3d841289-74ad-422d-b7f3-bdfc719d6361 ]] {\r\n",
       "}\r\n",
       "def \"P\" as E6  <<(T,blue) port def>> [[psysml:192666b5-43c5-4ec0-a40a-8ab471017ca3 ]] \r\n",
       "}\r\n",
       "@enduml\r\n",
       "\n",
       "PlantUML version 1.2020.13(Sat Jun 13 12:26:38 UTC 2020)\n",
       "(EPL source distribution)\n",
       "Java Runtime: OpenJDK Runtime Environment\n",
       "JVM: OpenJDK 64-Bit Server VM\n",
       "Default Encoding: UTF-8\n",
       "Language: en\n",
       "Country: null\n",
       "--></g></svg>"
      ]
     },
     "execution_count": 40,
     "metadata": {},
     "output_type": "execute_result"
    }
   ],
   "source": [
    "%viz --style=\"DEFAULT\" --view=\"Interconnection\" \"ItemTest\""
   ]
  },
  {
   "cell_type": "code",
   "execution_count": 41,
   "id": "9d8a61ff",
   "metadata": {
    "execution": {
     "iopub.execute_input": "2021-10-03T08:27:29.410609Z",
     "iopub.status.busy": "2021-10-03T08:27:29.410208Z",
     "iopub.status.idle": "2021-10-03T08:27:29.415131Z",
     "shell.execute_reply": "2021-10-03T08:27:29.414800Z"
    }
   },
   "outputs": [
    {
     "data": {
      "image/svg+xml": [
       "<?xml version=\"1.0\" encoding=\"UTF-8\" standalone=\"no\"?><svg xmlns=\"http://www.w3.org/2000/svg\" xmlns:xlink=\"http://www.w3.org/1999/xlink\" contentScriptType=\"application/ecmascript\" contentStyleType=\"text/css\" height=\"12px\" preserveAspectRatio=\"none\" style=\"width:12px;height:12px;\" version=\"1.1\" viewBox=\"0 0 12 12\" width=\"12px\" zoomAndPan=\"magnify\"><defs/><g><!--MD5=[388f21188e31bfdd97050473b19af356]\n",
       "@startuml\r\n",
       "skinparam ranksep 8\r\n",
       "skinparam monochrome true\r\n",
       "skinparam classbackgroundcolor white\r\n",
       "skinparam shadowing false\r\n",
       "skinparam wrapWidth 300\r\n",
       "hide circle\r\n",
       "\r\n",
       "@enduml\r\n",
       "\n",
       "PlantUML version 1.2020.13(Sat Jun 13 12:26:38 UTC 2020)\n",
       "(EPL source distribution)\n",
       "Java Runtime: OpenJDK Runtime Environment\n",
       "JVM: OpenJDK 64-Bit Server VM\n",
       "Default Encoding: UTF-8\n",
       "Language: en\n",
       "Country: null\n",
       "--></g></svg>"
      ]
     },
     "execution_count": 41,
     "metadata": {},
     "output_type": "execute_result"
    }
   ],
   "source": [
    "%viz --style=\"DEFAULT\" --view=\"Action\" \"ItemTest\""
   ]
  },
  {
   "cell_type": "code",
   "execution_count": 42,
   "id": "1d343115",
   "metadata": {
    "execution": {
     "iopub.execute_input": "2021-10-03T08:27:29.464646Z",
     "iopub.status.busy": "2021-10-03T08:27:29.464246Z",
     "iopub.status.idle": "2021-10-03T08:27:29.468845Z",
     "shell.execute_reply": "2021-10-03T08:27:29.469134Z"
    }
   },
   "outputs": [
    {
     "data": {
      "image/svg+xml": [
       "<?xml version=\"1.0\" encoding=\"UTF-8\" standalone=\"no\"?><svg xmlns=\"http://www.w3.org/2000/svg\" xmlns:xlink=\"http://www.w3.org/1999/xlink\" contentScriptType=\"application/ecmascript\" contentStyleType=\"text/css\" height=\"12px\" preserveAspectRatio=\"none\" style=\"width:12px;height:12px;\" version=\"1.1\" viewBox=\"0 0 12 12\" width=\"12px\" zoomAndPan=\"magnify\"><defs/><g><!--MD5=[0b72472770326784bf6c2b53246e1e64]\n",
       "@startuml\r\n",
       "skinparam roundcorner 20\r\n",
       "skinparam BoxPadding 20\r\n",
       "skinparam SequenceBoxBackgroundColor #white\r\n",
       "skinparam style strictuml\r\n",
       "skinparam maxMessageSize 100\r\n",
       "skinparam monochrome true\r\n",
       "skinparam classbackgroundcolor white\r\n",
       "skinparam shadowing false\r\n",
       "skinparam wrapWidth 300\r\n",
       "hide circle\r\n",
       "\r\n",
       "@enduml\r\n",
       "\n",
       "PlantUML version 1.2020.13(Sat Jun 13 12:26:38 UTC 2020)\n",
       "(EPL source distribution)\n",
       "Java Runtime: OpenJDK Runtime Environment\n",
       "JVM: OpenJDK 64-Bit Server VM\n",
       "Default Encoding: UTF-8\n",
       "Language: en\n",
       "Country: null\n",
       "--></g></svg>"
      ]
     },
     "execution_count": 42,
     "metadata": {},
     "output_type": "execute_result"
    }
   ],
   "source": [
    "%viz --style=\"DEFAULT\" --view=\"Sequence\" \"ItemTest\""
   ]
  },
  {
   "cell_type": "code",
   "execution_count": 43,
   "id": "e5d38837",
   "metadata": {
    "execution": {
     "iopub.execute_input": "2021-10-03T08:27:29.518612Z",
     "iopub.status.busy": "2021-10-03T08:27:29.518213Z",
     "iopub.status.idle": "2021-10-03T08:27:29.559390Z",
     "shell.execute_reply": "2021-10-03T08:27:29.557559Z"
    }
   },
   "outputs": [
    {
     "data": {
      "image/svg+xml": [
       "<?xml version=\"1.0\" encoding=\"UTF-8\" standalone=\"no\"?><svg xmlns=\"http://www.w3.org/2000/svg\" xmlns:xlink=\"http://www.w3.org/1999/xlink\" contentScriptType=\"application/ecmascript\" contentStyleType=\"text/css\" height=\"818px\" preserveAspectRatio=\"none\" style=\"width:270px;height:818px;\" version=\"1.1\" viewBox=\"0 0 270 818\" width=\"270px\" zoomAndPan=\"magnify\"><defs/><g><!--MD5=[fbc87193dbaf4d95561dea2c320d4a47]\n",
       "cluster E1--><a href=\"psysml:1bc06463-7392-4b34-87d6-1f1d6784670a\" target=\"_top\" title=\"psysml:1bc06463-7392-4b34-87d6-1f1d6784670a\" xlink:actuate=\"onRequest\" xlink:href=\"psysml:1bc06463-7392-4b34-87d6-1f1d6784670a\" xlink:show=\"new\" xlink:title=\"psysml:1bc06463-7392-4b34-87d6-1f1d6784670a\" xlink:type=\"simple\"><polygon fill=\"#FFFFFF\" points=\"16,6,83,6,90,28.2969,248,28.2969,248,806,16,806,16,6\" style=\"stroke: #000000; stroke-width: 1.5;\"/><line style=\"stroke: #000000; stroke-width: 1.5;\" x1=\"16\" x2=\"90\" y1=\"28.2969\" y2=\"28.2969\"/><text fill=\"#000000\" font-family=\"sans-serif\" font-size=\"14\" font-weight=\"bold\" lengthAdjust=\"spacingAndGlyphs\" textLength=\"61\" x=\"20\" y=\"20.9951\">ItemTest</text></a><!--MD5=[b4997ac47864f28c2f74865a473b2911]\n",
       "class E2--><a href=\"psysml:10e5f196-141c-4ebb-934a-0a8c25223d15\" target=\"_top\" title=\"psysml:10e5f196-141c-4ebb-934a-0a8c25223d15\" xlink:actuate=\"onRequest\" xlink:href=\"psysml:10e5f196-141c-4ebb-934a-0a8c25223d15\" xlink:show=\"new\" xlink:title=\"psysml:10e5f196-141c-4ebb-934a-0a8c25223d15\" xlink:type=\"simple\"><rect fill=\"#FFFFFF\" height=\"45.9375\" id=\"E2\" rx=\"10\" ry=\"10\" style=\"stroke: #383838; stroke-width: 1.5;\" width=\"43\" x=\"188.5\" y=\"148\"/><text fill=\"#000000\" font-family=\"sans-serif\" font-size=\"12\" font-style=\"italic\" lengthAdjust=\"spacingAndGlyphs\" textLength=\"41\" x=\"189.5\" y=\"164.1387\">«item»</text><text fill=\"#000000\" font-family=\"sans-serif\" font-size=\"12\" lengthAdjust=\"spacingAndGlyphs\" textLength=\"20\" x=\"200\" y=\"178.1074\">f: A</text><line style=\"stroke: #383838; stroke-width: 1.5;\" x1=\"189.5\" x2=\"230.5\" y1=\"185.9375\" y2=\"185.9375\"/></a><!--MD5=[09b614a08d8cba4a07c9adeb5e0fee81]\n",
       "class E3--><a href=\"psysml:d8185bfd-cc57-4585-aec6-0a59765b9e32\" target=\"_top\" title=\"psysml:d8185bfd-cc57-4585-aec6-0a59765b9e32\" xlink:actuate=\"onRequest\" xlink:href=\"psysml:d8185bfd-cc57-4585-aec6-0a59765b9e32\" xlink:show=\"new\" xlink:title=\"psysml:d8185bfd-cc57-4585-aec6-0a59765b9e32\" xlink:type=\"simple\"><rect fill=\"#FFFFFF\" height=\"45.9375\" id=\"E3\" style=\"stroke: #383838; stroke-width: 1.5;\" width=\"67\" x=\"98.5\" y=\"255\"/><text fill=\"#000000\" font-family=\"sans-serif\" font-size=\"12\" font-style=\"italic\" lengthAdjust=\"spacingAndGlyphs\" textLength=\"65\" x=\"99.5\" y=\"271.1387\">«item def»</text><text fill=\"#000000\" font-family=\"sans-serif\" font-size=\"12\" lengthAdjust=\"spacingAndGlyphs\" textLength=\"8\" x=\"128\" y=\"285.1074\">A</text><line style=\"stroke: #383838; stroke-width: 1.5;\" x1=\"99.5\" x2=\"164.5\" y1=\"292.9375\" y2=\"292.9375\"/></a><!--MD5=[ebbe1d658d1005bcc118a6aa81145e00]\n",
       "class E4--><a href=\"psysml:867e3ff9-f74d-45bb-974d-3b3d8373197d\" target=\"_top\" title=\"psysml:867e3ff9-f74d-45bb-974d-3b3d8373197d\" xlink:actuate=\"onRequest\" xlink:href=\"psysml:867e3ff9-f74d-45bb-974d-3b3d8373197d\" xlink:show=\"new\" xlink:title=\"psysml:867e3ff9-f74d-45bb-974d-3b3d8373197d\" xlink:type=\"simple\"><rect fill=\"#FFFFFF\" height=\"45.9375\" id=\"E4\" rx=\"10\" ry=\"10\" style=\"stroke: #383838; stroke-width: 1.5;\" width=\"43\" x=\"45.5\" y=\"438\"/><text fill=\"#000000\" font-family=\"sans-serif\" font-size=\"12\" font-style=\"italic\" lengthAdjust=\"spacingAndGlyphs\" textLength=\"41\" x=\"46.5\" y=\"454.1387\">«item»</text><text fill=\"#000000\" font-family=\"sans-serif\" font-size=\"12\" lengthAdjust=\"spacingAndGlyphs\" textLength=\"24\" x=\"55\" y=\"468.1074\">b: B</text><line style=\"stroke: #383838; stroke-width: 1.5;\" x1=\"46.5\" x2=\"87.5\" y1=\"475.9375\" y2=\"475.9375\"/></a><!--MD5=[270fce915f116d4de14055a7c1d9a0f3]\n",
       "class E5--><a href=\"psysml:cb0d56cf-7b64-416e-8353-0e76041e55a4\" target=\"_top\" title=\"psysml:cb0d56cf-7b64-416e-8353-0e76041e55a4\" xlink:actuate=\"onRequest\" xlink:href=\"psysml:cb0d56cf-7b64-416e-8353-0e76041e55a4\" xlink:show=\"new\" xlink:title=\"psysml:cb0d56cf-7b64-416e-8353-0e76041e55a4\" xlink:type=\"simple\"><rect fill=\"#FFFFFF\" height=\"45.9375\" id=\"E5\" rx=\"10\" ry=\"10\" style=\"stroke: #383838; stroke-width: 1.5;\" width=\"42\" x=\"151\" y=\"362\"/><text fill=\"#000000\" font-family=\"sans-serif\" font-size=\"12\" font-style=\"italic\" lengthAdjust=\"spacingAndGlyphs\" textLength=\"40\" x=\"152\" y=\"378.1387\">«part»</text><text fill=\"#000000\" font-family=\"sans-serif\" font-size=\"12\" lengthAdjust=\"spacingAndGlyphs\" textLength=\"23\" x=\"160.5\" y=\"392.1074\">c: C</text><line style=\"stroke: #383838; stroke-width: 1.5;\" x1=\"152\" x2=\"192\" y1=\"399.9375\" y2=\"399.9375\"/></a><!--MD5=[60a26617385b1d2d0262a64233df1f8d]\n",
       "class E6--><a href=\"psysml:cb468909-38eb-4328-9448-1d282e0fd6a5\" target=\"_top\" title=\"psysml:cb468909-38eb-4328-9448-1d282e0fd6a5\" xlink:actuate=\"onRequest\" xlink:href=\"psysml:cb468909-38eb-4328-9448-1d282e0fd6a5\" xlink:show=\"new\" xlink:title=\"psysml:cb468909-38eb-4328-9448-1d282e0fd6a5\" xlink:type=\"simple\"><rect fill=\"#FFFFFF\" height=\"45.9375\" id=\"E6\" style=\"stroke: #383838; stroke-width: 1.5;\" width=\"67\" x=\"114.5\" y=\"637\"/><text fill=\"#000000\" font-family=\"sans-serif\" font-size=\"12\" font-style=\"italic\" lengthAdjust=\"spacingAndGlyphs\" textLength=\"65\" x=\"115.5\" y=\"653.1387\">«item def»</text><text fill=\"#000000\" font-family=\"sans-serif\" font-size=\"12\" lengthAdjust=\"spacingAndGlyphs\" textLength=\"8\" x=\"144\" y=\"667.1074\">B</text><line style=\"stroke: #383838; stroke-width: 1.5;\" x1=\"115.5\" x2=\"180.5\" y1=\"674.9375\" y2=\"674.9375\"/></a><!--MD5=[2156ba9850f5573cc1fc38a6a4b2f02b]\n",
       "class E7--><a href=\"psysml:8d68ea76-8496-4a3a-9bac-3b5e10d4f6d7\" target=\"_top\" title=\"psysml:8d68ea76-8496-4a3a-9bac-3b5e10d4f6d7\" xlink:actuate=\"onRequest\" xlink:href=\"psysml:8d68ea76-8496-4a3a-9bac-3b5e10d4f6d7\" xlink:show=\"new\" xlink:title=\"psysml:8d68ea76-8496-4a3a-9bac-3b5e10d4f6d7\" xlink:type=\"simple\"><rect fill=\"#FFFFFF\" height=\"45.9375\" id=\"E7\" rx=\"10\" ry=\"10\" style=\"stroke: #383838; stroke-width: 1.5;\" width=\"42\" x=\"159\" y=\"744\"/><text fill=\"#000000\" font-family=\"sans-serif\" font-size=\"12\" font-style=\"italic\" lengthAdjust=\"spacingAndGlyphs\" textLength=\"40\" x=\"160\" y=\"760.1387\">«part»</text><text fill=\"#000000\" font-family=\"sans-serif\" font-size=\"12\" lengthAdjust=\"spacingAndGlyphs\" textLength=\"24\" x=\"168\" y=\"774.1074\">a: A</text><line style=\"stroke: #383838; stroke-width: 1.5;\" x1=\"160\" x2=\"200\" y1=\"781.9375\" y2=\"781.9375\"/></a><!--MD5=[b9389687b975829384b498ac4b7476b2]\n",
       "class E8--><a href=\"psysml:3d841289-74ad-422d-b7f3-bdfc719d6361\" target=\"_top\" title=\"psysml:3d841289-74ad-422d-b7f3-bdfc719d6361\" xlink:actuate=\"onRequest\" xlink:href=\"psysml:3d841289-74ad-422d-b7f3-bdfc719d6361\" xlink:show=\"new\" xlink:title=\"psysml:3d841289-74ad-422d-b7f3-bdfc719d6361\" xlink:type=\"simple\"><rect fill=\"#FFFFFF\" height=\"45.9375\" id=\"E8\" style=\"stroke: #383838; stroke-width: 1.5;\" width=\"66\" x=\"115\" y=\"514\"/><text fill=\"#000000\" font-family=\"sans-serif\" font-size=\"12\" font-style=\"italic\" lengthAdjust=\"spacingAndGlyphs\" textLength=\"64\" x=\"116\" y=\"530.1387\">«part def»</text><text fill=\"#000000\" font-family=\"sans-serif\" font-size=\"12\" lengthAdjust=\"spacingAndGlyphs\" textLength=\"8\" x=\"144\" y=\"544.1074\">C</text><line style=\"stroke: #383838; stroke-width: 1.5;\" x1=\"116\" x2=\"180\" y1=\"551.9375\" y2=\"551.9375\"/></a><!--MD5=[fd4143e9d270a159db93a4ea2a975926]\n",
       "class E9--><a href=\"psysml:192666b5-43c5-4ec0-a40a-8ab471017ca3\" target=\"_top\" title=\"psysml:192666b5-43c5-4ec0-a40a-8ab471017ca3\" xlink:actuate=\"onRequest\" xlink:href=\"psysml:192666b5-43c5-4ec0-a40a-8ab471017ca3\" xlink:show=\"new\" xlink:title=\"psysml:192666b5-43c5-4ec0-a40a-8ab471017ca3\" xlink:type=\"simple\"><rect fill=\"#FFFFFF\" height=\"45.9375\" id=\"E9\" style=\"stroke: #383838; stroke-width: 1.5;\" width=\"66\" x=\"65\" y=\"41\"/><text fill=\"#000000\" font-family=\"sans-serif\" font-size=\"12\" font-style=\"italic\" lengthAdjust=\"spacingAndGlyphs\" textLength=\"64\" x=\"66\" y=\"57.1387\">«port def»</text><text fill=\"#000000\" font-family=\"sans-serif\" font-size=\"12\" lengthAdjust=\"spacingAndGlyphs\" textLength=\"8\" x=\"94\" y=\"71.1074\">P</text><line style=\"stroke: #383838; stroke-width: 1.5;\" x1=\"66\" x2=\"130\" y1=\"78.9375\" y2=\"78.9375\"/></a><!--MD5=[96f4274e9e20536e775497830990834d]\n",
       "class E10--><a href=\"psysml:a2436968-c74d-4c9f-bf2a-127bcc502b4e\" target=\"_top\" title=\"psysml:a2436968-c74d-4c9f-bf2a-127bcc502b4e\" xlink:actuate=\"onRequest\" xlink:href=\"psysml:a2436968-c74d-4c9f-bf2a-127bcc502b4e\" xlink:show=\"new\" xlink:title=\"psysml:a2436968-c74d-4c9f-bf2a-127bcc502b4e\" xlink:type=\"simple\"><rect fill=\"#FFFFFF\" height=\"45.9375\" id=\"E10\" rx=\"10\" ry=\"10\" style=\"stroke: #383838; stroke-width: 1.5;\" width=\"43\" x=\"32.5\" y=\"148\"/><text fill=\"#000000\" font-family=\"sans-serif\" font-size=\"12\" font-style=\"italic\" lengthAdjust=\"spacingAndGlyphs\" textLength=\"41\" x=\"33.5\" y=\"164.1387\">«item»</text><text fill=\"#000000\" font-family=\"sans-serif\" font-size=\"12\" lengthAdjust=\"spacingAndGlyphs\" textLength=\"32\" x=\"38\" y=\"178.1074\">a1: A</text><line style=\"stroke: #383838; stroke-width: 1.5;\" x1=\"33.5\" x2=\"74.5\" y1=\"185.9375\" y2=\"185.9375\"/></a><!--MD5=[1dd1bfd58a279cf63c5f349dbc8fc6a1]\n",
       "class E11--><a href=\"psysml:6388cc28-f9be-476c-ad05-d9ff93971fbb\" target=\"_top\" title=\"psysml:6388cc28-f9be-476c-ad05-d9ff93971fbb\" xlink:actuate=\"onRequest\" xlink:href=\"psysml:6388cc28-f9be-476c-ad05-d9ff93971fbb\" xlink:show=\"new\" xlink:title=\"psysml:6388cc28-f9be-476c-ad05-d9ff93971fbb\" xlink:type=\"simple\"><rect fill=\"#FFFFFF\" height=\"45.9375\" id=\"E11\" rx=\"10\" ry=\"10\" style=\"stroke: #383838; stroke-width: 1.5;\" width=\"43\" x=\"110.5\" y=\"148\"/><text fill=\"#000000\" font-family=\"sans-serif\" font-size=\"12\" font-style=\"italic\" lengthAdjust=\"spacingAndGlyphs\" textLength=\"41\" x=\"111.5\" y=\"164.1387\">«item»</text><text fill=\"#000000\" font-family=\"sans-serif\" font-size=\"12\" lengthAdjust=\"spacingAndGlyphs\" textLength=\"32\" x=\"116\" y=\"178.1074\">a2: A</text><line style=\"stroke: #383838; stroke-width: 1.5;\" x1=\"111.5\" x2=\"152.5\" y1=\"185.9375\" y2=\"185.9375\"/></a><!--MD5=[2720a5a1f2c3fca2055b230370638851]\n",
       "link E2 to E3--><a href=\"psysml:24dbd283-1078-40f8-9dda-86d7de7bac74\" target=\"_top\" title=\"psysml:24dbd283-1078-40f8-9dda-86d7de7bac74\" xlink:actuate=\"onRequest\" xlink:href=\"psysml:24dbd283-1078-40f8-9dda-86d7de7bac74\" xlink:show=\"new\" xlink:title=\"psysml:24dbd283-1078-40f8-9dda-86d7de7bac74\" xlink:type=\"simple\"><path d=\"M193.65,194.01 C184.14,206.81 171.89,223.3 160.82,238.2 \" fill=\"none\" id=\"E2-&gt;E3\" style=\"stroke: #383838; stroke-width: 1.0;\"/><polygon fill=\"#FFFFFF\" points=\"148.6,254.66,154.3195,235.2361,165.5543,243.5896,148.6,254.66\" style=\"stroke: #383838; stroke-width: 1.0;\"/><ellipse cx=\"159.3256\" cy=\"231.8554\" fill=\"#383838\" rx=\"2\" ry=\"2\" style=\"stroke: #383838; stroke-width: 1.0;\"/><ellipse cx=\"167.3504\" cy=\"237.8221\" fill=\"#383838\" rx=\"2\" ry=\"2\" style=\"stroke: #383838; stroke-width: 1.0;\"/></a><!--MD5=[4672eba38e49728da53d11aeb285b987]\n",
       "reverse link E3 to E4--><a href=\"psysml:9f51e7d9-1020-406a-8433-de0298038040\" target=\"_top\" title=\"psysml:9f51e7d9-1020-406a-8433-de0298038040\" xlink:actuate=\"onRequest\" xlink:href=\"psysml:9f51e7d9-1020-406a-8433-de0298038040\" xlink:show=\"new\" xlink:title=\"psysml:9f51e7d9-1020-406a-8433-de0298038040\" xlink:type=\"simple\"><path d=\"M97.11,310.9 C84.08,325.11 70.81,342.94 64,362 C55.12,386.85 58.09,417.53 61.82,437.88 \" fill=\"none\" id=\"E3&lt;-E4\" style=\"stroke: #383838; stroke-width: 1.0;\"/><polygon fill=\"#383838\" points=\"106.46,301.23,99.4153,302.7703,98.1277,309.8655,105.1724,308.3252,106.46,301.23\" style=\"stroke: #383838; stroke-width: 1.0;\"/><text fill=\"#000000\" font-family=\"sans-serif\" font-size=\"13\" lengthAdjust=\"spacingAndGlyphs\" textLength=\"8\" x=\"51.3529\" y=\"426.744\">1</text></a><!--MD5=[191cde3d490a3f6d7bb551fe3ddca469]\n",
       "reverse link E3 to E5--><a href=\"psysml:7a936c29-0528-4da5-855d-3be7e5f4e113\" target=\"_top\" title=\"psysml:7a936c29-0528-4da5-855d-3be7e5f4e113\" xlink:actuate=\"onRequest\" xlink:href=\"psysml:7a936c29-0528-4da5-855d-3be7e5f4e113\" xlink:show=\"new\" xlink:title=\"psysml:7a936c29-0528-4da5-855d-3be7e5f4e113\" xlink:type=\"simple\"><path d=\"M145.17,313.57 C151.2,329.39 158.16,347.68 163.49,361.66 \" fill=\"none\" id=\"E3&lt;-E5\" style=\"stroke: #383838; stroke-width: 1.0;\"/><polygon fill=\"#FFFFFF\" points=\"140.39,301.01,138.7866,308.0406,144.6598,312.2247,146.2631,305.1941,140.39,301.01\" style=\"stroke: #383838; stroke-width: 1.0;\"/><text fill=\"#000000\" font-family=\"sans-serif\" font-size=\"13\" lengthAdjust=\"spacingAndGlyphs\" textLength=\"8\" x=\"152.2843\" y=\"350.8492\">1</text></a><!--MD5=[79568f1e445c3877b6a54524624ccc7d]\n",
       "link E4 to E6--><a href=\"psysml:860f4e4a-475c-4d3a-a05e-585111d40739\" target=\"_top\" title=\"psysml:860f4e4a-475c-4d3a-a05e-585111d40739\" xlink:actuate=\"onRequest\" xlink:href=\"psysml:860f4e4a-475c-4d3a-a05e-585111d40739\" xlink:show=\"new\" xlink:title=\"psysml:860f4e4a-475c-4d3a-a05e-585111d40739\" xlink:type=\"simple\"><path d=\"M72.9,484.16 C78.52,504.26 87.63,534.55 98,560 C106.11,579.9 116.66,601.27 125.97,619.04 \" fill=\"none\" id=\"E4-&gt;E6\" style=\"stroke: #383838; stroke-width: 1.0;\"/><polygon fill=\"#FFFFFF\" points=\"135.42,636.68,120.2696,623.2463,132.6064,616.628,135.42,636.68\" style=\"stroke: #383838; stroke-width: 1.0;\"/><ellipse cx=\"119.3374\" cy=\"617.2779\" fill=\"#383838\" rx=\"2\" ry=\"2\" style=\"stroke: #383838; stroke-width: 1.0;\"/><ellipse cx=\"128.1494\" cy=\"612.5506\" fill=\"#383838\" rx=\"2\" ry=\"2\" style=\"stroke: #383838; stroke-width: 1.0;\"/></a><!--MD5=[3f50a3473f1dfb74d3f76443e03635af]\n",
       "reverse link E6 to E7--><a href=\"psysml:01396c82-09da-45aa-ba0c-a7dad5741ff2\" target=\"_top\" title=\"psysml:01396c82-09da-45aa-ba0c-a7dad5741ff2\" xlink:actuate=\"onRequest\" xlink:href=\"psysml:01396c82-09da-45aa-ba0c-a7dad5741ff2\" xlink:show=\"new\" xlink:title=\"psysml:01396c82-09da-45aa-ba0c-a7dad5741ff2\" xlink:type=\"simple\"><path d=\"M158.54,695.57 C163.36,711.39 168.93,729.68 173.19,743.66 \" fill=\"none\" id=\"E6&lt;-E7\" style=\"stroke: #383838; stroke-width: 1.0;\"/><polygon fill=\"#383838\" points=\"154.71,683.01,152.6319,689.9152,158.2066,694.4893,160.2847,687.5841,154.71,683.01\" style=\"stroke: #383838; stroke-width: 1.0;\"/><text fill=\"#000000\" font-family=\"sans-serif\" font-size=\"13\" lengthAdjust=\"spacingAndGlyphs\" textLength=\"8\" x=\"162.4199\" y=\"732.8492\">1</text></a><!--MD5=[14ccda38c055a5c0da953d572bc50960]\n",
       "link E7 to E3--><a href=\"psysml:d97708ca-1830-4e5e-bf07-a2aabe0546e8\" target=\"_top\" title=\"psysml:d97708ca-1830-4e5e-bf07-a2aabe0546e8\" xlink:actuate=\"onRequest\" xlink:href=\"psysml:d97708ca-1830-4e5e-bf07-a2aabe0546e8\" xlink:show=\"new\" xlink:title=\"psysml:d97708ca-1830-4e5e-bf07-a2aabe0546e8\" xlink:type=\"simple\"><path d=\"M197.41,743.63 C211.5,723.27 229,691.78 229,661 C229,384 229,384 229,384 C229,353 205.9,327.25 182.25,309.01 \" fill=\"none\" id=\"E7-&gt;E3\" style=\"stroke: #383838; stroke-width: 1.0;\"/><polygon fill=\"#FFFFFF\" points=\"165.65,297.35,185.219,302.5513,177.1671,314.004,165.65,297.35\" style=\"stroke: #383838; stroke-width: 1.0;\"/><ellipse cx=\"188.7317\" cy=\"307.4657\" fill=\"#383838\" rx=\"2\" ry=\"2\" style=\"stroke: #383838; stroke-width: 1.0;\"/><ellipse cx=\"182.9803\" cy=\"315.6462\" fill=\"#383838\" rx=\"2\" ry=\"2\" style=\"stroke: #383838; stroke-width: 1.0;\"/></a><!--MD5=[dfaffb906826c3e5aca635516100ff21]\n",
       "link E5 to E8--><a href=\"psysml:75f754af-bdfa-473b-8cbb-d11c609ad500\" target=\"_top\" title=\"psysml:75f754af-bdfa-473b-8cbb-d11c609ad500\" xlink:actuate=\"onRequest\" xlink:href=\"psysml:75f754af-bdfa-473b-8cbb-d11c609ad500\" xlink:show=\"new\" xlink:title=\"psysml:75f754af-bdfa-473b-8cbb-d11c609ad500\" xlink:type=\"simple\"><path d=\"M168.46,408.13 C164.86,430.62 159.2,466.01 154.74,493.87 \" fill=\"none\" id=\"E5-&gt;E8\" style=\"stroke: #383838; stroke-width: 1.0;\"/><polygon fill=\"#FFFFFF\" points=\"151.56,513.78,147.6458,493.9135,161.4704,496.1226,151.56,513.78\" style=\"stroke: #383838; stroke-width: 1.0;\"/><ellipse cx=\"150.5202\" cy=\"488.6005\" fill=\"#383838\" rx=\"2\" ry=\"2\" style=\"stroke: #383838; stroke-width: 1.0;\"/><ellipse cx=\"160.3949\" cy=\"490.1784\" fill=\"#383838\" rx=\"2\" ry=\"2\" style=\"stroke: #383838; stroke-width: 1.0;\"/></a><!--MD5=[03c8294790d3c57651a1993cecff665f]\n",
       "reverse link E8 to E3--><a href=\"psysml:aa35edca-3910-4cd9-97ff-300d5c8627fc\" target=\"_top\" title=\"psysml:aa35edca-3910-4cd9-97ff-300d5c8627fc\" xlink:actuate=\"onRequest\" xlink:href=\"psysml:aa35edca-3910-4cd9-97ff-300d5c8627fc\" xlink:show=\"new\" xlink:title=\"psysml:aa35edca-3910-4cd9-97ff-300d5c8627fc\" xlink:type=\"simple\"><path d=\"M140.02,501.22 C134.57,475.6 127.84,439.84 125,408 C123.18,387.64 124.14,382.43 125,362 C125.87,341.34 127.95,317.86 129.62,301.16 \" fill=\"none\" id=\"E8&lt;-E3\" style=\"stroke: #383838; stroke-width: 1.0;\"/><polygon fill=\"#FFFFFF\" points=\"142.81,513.96,145.4388,507.2451,140.2515,502.2359,137.6227,508.9508,142.81,513.96\" style=\"stroke: #383838; stroke-width: 1.0;\"/><text fill=\"#000000\" font-family=\"sans-serif\" font-size=\"13\" lengthAdjust=\"spacingAndGlyphs\" textLength=\"7\" x=\"126\" y=\"389.5669\">y</text></a><!--MD5=[0d75d2178373a6a4568e5dc728f58aef]\n",
       "reverse link E8 to E6--><a href=\"psysml:aa35edca-3910-4cd9-97ff-300d5c8627fc\" target=\"_top\" title=\"psysml:aa35edca-3910-4cd9-97ff-300d5c8627fc\" xlink:actuate=\"onRequest\" xlink:href=\"psysml:aa35edca-3910-4cd9-97ff-300d5c8627fc\" xlink:show=\"new\" xlink:title=\"psysml:aa35edca-3910-4cd9-97ff-300d5c8627fc\" xlink:type=\"simple\"><path d=\"M148,573.22 C148,593.81 148,619.16 148,636.95 \" fill=\"none\" id=\"E8&lt;-E6\" style=\"stroke: #383838; stroke-width: 1.0;\"/><polygon fill=\"#FFFFFF\" points=\"148,560.19,144,566.19,148,572.19,152,566.19,148,560.19\" style=\"stroke: #383838; stroke-width: 1.0;\"/><text fill=\"#000000\" font-family=\"sans-serif\" font-size=\"13\" lengthAdjust=\"spacingAndGlyphs\" textLength=\"7\" x=\"149\" y=\"603.0669\">y</text></a><!--MD5=[23ac544a70576c3e717098101004234c]\n",
       "reverse link E9 to E10--><a href=\"psysml:cf1da376-637e-4400-b815-716d62b1c417\" target=\"_top\" title=\"psysml:cf1da376-637e-4400-b815-716d62b1c417\" xlink:actuate=\"onRequest\" xlink:href=\"psysml:cf1da376-637e-4400-b815-716d62b1c417\" xlink:show=\"new\" xlink:title=\"psysml:cf1da376-637e-4400-b815-716d62b1c417\" xlink:type=\"simple\"><path d=\"M83.71,99.1 C77.04,115.03 69.28,133.54 63.36,147.66 \" fill=\"none\" id=\"E9&lt;-E10\" style=\"stroke: #383838; stroke-width: 1.0;\"/><polygon fill=\"#FFFFFF\" points=\"88.78,87.01,82.7702,90.9953,84.1375,98.0756,90.1473,94.0903,88.78,87.01\" style=\"stroke: #383838; stroke-width: 1.0;\"/><text fill=\"#000000\" font-family=\"sans-serif\" font-size=\"13\" lengthAdjust=\"spacingAndGlyphs\" textLength=\"8\" x=\"56.7335\" y=\"136.8492\">1</text></a><!--MD5=[feeac5eb423634930294aa81f2d25a4c]\n",
       "link E10 to E3--><a href=\"psysml:4cf35cfc-841e-4847-875d-1ebad6bb61b9\" target=\"_top\" title=\"psysml:4cf35cfc-841e-4847-875d-1ebad6bb61b9\" xlink:actuate=\"onRequest\" xlink:href=\"psysml:4cf35cfc-841e-4847-875d-1ebad6bb61b9\" xlink:show=\"new\" xlink:title=\"psysml:4cf35cfc-841e-4847-875d-1ebad6bb61b9\" xlink:type=\"simple\"><path d=\"M70.35,194.01 C79.86,206.81 92.11,223.3 103.18,238.2 \" fill=\"none\" id=\"E10-&gt;E3\" style=\"stroke: #383838; stroke-width: 1.0;\"/><polygon fill=\"#FFFFFF\" points=\"115.4,254.66,98.4457,243.5896,109.6805,235.2361,115.4,254.66\" style=\"stroke: #383838; stroke-width: 1.0;\"/><ellipse cx=\"96.6496\" cy=\"237.8221\" fill=\"#383838\" rx=\"2\" ry=\"2\" style=\"stroke: #383838; stroke-width: 1.0;\"/><ellipse cx=\"104.6744\" cy=\"231.8554\" fill=\"#383838\" rx=\"2\" ry=\"2\" style=\"stroke: #383838; stroke-width: 1.0;\"/></a><!--MD5=[1fc04a95fd77ad5ce46c1a3027516051]\n",
       "reverse link E9 to E11--><a href=\"psysml:bd05daaf-8002-489d-bbfa-6134af678ace\" target=\"_top\" title=\"psysml:bd05daaf-8002-489d-bbfa-6134af678ace\" xlink:actuate=\"onRequest\" xlink:href=\"psysml:bd05daaf-8002-489d-bbfa-6134af678ace\" xlink:show=\"new\" xlink:title=\"psysml:bd05daaf-8002-489d-bbfa-6134af678ace\" xlink:type=\"simple\"><path d=\"M109.19,99.57 C114.32,115.39 120.24,133.68 124.76,147.66 \" fill=\"none\" id=\"E9&lt;-E11\" style=\"stroke: #383838; stroke-width: 1.0;\"/><polygon fill=\"#FFFFFF\" points=\"105.13,87.01,103.1699,93.9496,108.8217,98.428,110.7819,91.4884,105.13,87.01\" style=\"stroke: #383838; stroke-width: 1.0;\"/><text fill=\"#000000\" font-family=\"sans-serif\" font-size=\"13\" lengthAdjust=\"spacingAndGlyphs\" textLength=\"8\" x=\"113.8798\" y=\"136.8492\">1</text></a><!--MD5=[0517f1ce58c4d5483948f93845c45e26]\n",
       "link E11 to E3--><a href=\"psysml:31e39f64-1f8d-4b2c-be98-c1459e5d6e94\" target=\"_top\" title=\"psysml:31e39f64-1f8d-4b2c-be98-c1459e5d6e94\" xlink:actuate=\"onRequest\" xlink:href=\"psysml:31e39f64-1f8d-4b2c-be98-c1459e5d6e94\" xlink:show=\"new\" xlink:title=\"psysml:31e39f64-1f8d-4b2c-be98-c1459e5d6e94\" xlink:type=\"simple\"><path d=\"M132,194.01 C132,205.69 132,220.46 132,234.28 \" fill=\"none\" id=\"E11-&gt;E3\" style=\"stroke: #383838; stroke-width: 1.0;\"/><polygon fill=\"#FFFFFF\" points=\"132,254.66,125,235.66,139,235.66,132,254.66\" style=\"stroke: #383838; stroke-width: 1.0;\"/><ellipse cx=\"127\" cy=\"229.96\" fill=\"#383838\" rx=\"2\" ry=\"2\" style=\"stroke: #383838; stroke-width: 1.0;\"/><ellipse cx=\"137\" cy=\"229.96\" fill=\"#383838\" rx=\"2\" ry=\"2\" style=\"stroke: #383838; stroke-width: 1.0;\"/></a><!--MD5=[883fc6d3a4cb33c2ab10e88b444b0e28]\n",
       "@startuml\r\n",
       "skinparam monochrome true\r\n",
       "skinparam classbackgroundcolor white\r\n",
       "skinparam shadowing false\r\n",
       "skinparam wrapWidth 300\r\n",
       "hide circle\r\n",
       "\r\n",
       "package \"ItemTest\" as E1  [[psysml:1bc06463-7392-4b34-87d6-1f1d6784670a ]]  {\r\n",
       "comp usage \"f: A\" as E2  <<(T,blue) item>> [[psysml:10e5f196-141c-4ebb-934a-0a8c25223d15 ]] {\r\n",
       "}\r\n",
       "comp def \"A\" as E3  <<(T,blue) item def>> [[psysml:d8185bfd-cc57-4585-aec6-0a59765b9e32 ]] {\r\n",
       "}\r\n",
       "comp usage \"b: B\" as E4  <<(T,blue) item>> [[psysml:867e3ff9-f74d-45bb-974d-3b3d8373197d ]] {\r\n",
       "}\r\n",
       "comp usage \"c: C\" as E5  <<(T,blue) part>> [[psysml:cb0d56cf-7b64-416e-8353-0e76041e55a4 ]] {\r\n",
       "}\r\n",
       "comp def \"B\" as E6  <<(T,blue) item def>> [[psysml:cb468909-38eb-4328-9448-1d282e0fd6a5 ]] {\r\n",
       "}\r\n",
       "comp usage \"a: A\" as E7  <<(T,blue) part>> [[psysml:8d68ea76-8496-4a3a-9bac-3b5e10d4f6d7 ]] {\r\n",
       "}\r\n",
       "comp def \"C\" as E8  <<(T,blue) part def>> [[psysml:3d841289-74ad-422d-b7f3-bdfc719d6361 ]] {\r\n",
       "}\r\n",
       "comp def \"P\" as E9  <<(T,blue) port def>> [[psysml:192666b5-43c5-4ec0-a40a-8ab471017ca3 ]] {\r\n",
       "}\r\n",
       "comp usage \"a1: A\" as E10  <<(T,blue) item>> [[psysml:a2436968-c74d-4c9f-bf2a-127bcc502b4e ]] {\r\n",
       "}\r\n",
       "comp usage \"a2: A\" as E11  <<(T,blue) item>> [[psysml:6388cc28-f9be-476c-ad05-d9ff93971fbb ]] {\r\n",
       "}\r\n",
       "}\r\n",
       "E2 - -:|> E3 [[psysml:24dbd283-1078-40f8-9dda-86d7de7bac74 ]] \r\n",
       "E3 *- - \"1\"E4 [[psysml:9f51e7d9-1020-406a-8433-de0298038040 ]] \r\n",
       "E3 o- - \"1\"E5 [[psysml:7a936c29-0528-4da5-855d-3be7e5f4e113 ]] \r\n",
       "E4 - -:|> E6 [[psysml:860f4e4a-475c-4d3a-a05e-585111d40739 ]] \r\n",
       "E6 *- - \"1\"E7 [[psysml:01396c82-09da-45aa-ba0c-a7dad5741ff2 ]] \r\n",
       "E7 - -:|> E3 [[psysml:d97708ca-1830-4e5e-bf07-a2aabe0546e8 ]] \r\n",
       "E5 - -:|> E8 [[psysml:75f754af-bdfa-473b-8cbb-d11c609ad500 ]] \r\n",
       "E8 o- - E3 [[psysml:aa35edca-3910-4cd9-97ff-300d5c8627fc ]] : y\r\n",
       "E8 o- - E6 [[psysml:aa35edca-3910-4cd9-97ff-300d5c8627fc ]] : y\r\n",
       "E9 o- - \"1\"E10 [[psysml:cf1da376-637e-4400-b815-716d62b1c417 ]] \r\n",
       "E10 - -:|> E3 [[psysml:4cf35cfc-841e-4847-875d-1ebad6bb61b9 ]] \r\n",
       "E9 o- - \"1\"E11 [[psysml:bd05daaf-8002-489d-bbfa-6134af678ace ]] \r\n",
       "E11 - -:|> E3 [[psysml:31e39f64-1f8d-4b2c-be98-c1459e5d6e94 ]] \r\n",
       "@enduml\r\n",
       "\n",
       "PlantUML version 1.2020.13(Sat Jun 13 12:26:38 UTC 2020)\n",
       "(EPL source distribution)\n",
       "Java Runtime: OpenJDK Runtime Environment\n",
       "JVM: OpenJDK 64-Bit Server VM\n",
       "Default Encoding: UTF-8\n",
       "Language: en\n",
       "Country: null\n",
       "--></g></svg>"
      ]
     },
     "execution_count": 43,
     "metadata": {},
     "output_type": "execute_result"
    }
   ],
   "source": [
    "%viz --style=\"DEFAULT\" --view=\"MIXED\" \"ItemTest\""
   ]
  },
  {
   "cell_type": "code",
   "execution_count": 44,
   "id": "167bee25",
   "metadata": {
    "execution": {
     "iopub.execute_input": "2021-10-03T08:27:29.608459Z",
     "iopub.status.busy": "2021-10-03T08:27:29.608048Z",
     "iopub.status.idle": "2021-10-03T08:27:29.649802Z",
     "shell.execute_reply": "2021-10-03T08:27:29.649453Z"
    }
   },
   "outputs": [
    {
     "data": {
      "image/svg+xml": [
       "<?xml version=\"1.0\" encoding=\"UTF-8\" standalone=\"no\"?><svg xmlns=\"http://www.w3.org/2000/svg\" xmlns:xlink=\"http://www.w3.org/1999/xlink\" contentScriptType=\"application/ecmascript\" contentStyleType=\"text/css\" height=\"818px\" preserveAspectRatio=\"none\" style=\"width:270px;height:818px;\" version=\"1.1\" viewBox=\"0 0 270 818\" width=\"270px\" zoomAndPan=\"magnify\"><defs/><g><!--MD5=[fbc87193dbaf4d95561dea2c320d4a47]\n",
       "cluster E1--><a href=\"psysml:1bc06463-7392-4b34-87d6-1f1d6784670a\" target=\"_top\" title=\"psysml:1bc06463-7392-4b34-87d6-1f1d6784670a\" xlink:actuate=\"onRequest\" xlink:href=\"psysml:1bc06463-7392-4b34-87d6-1f1d6784670a\" xlink:show=\"new\" xlink:title=\"psysml:1bc06463-7392-4b34-87d6-1f1d6784670a\" xlink:type=\"simple\"><polygon fill=\"#FFFFFF\" points=\"16,6,83,6,90,28.2969,248,28.2969,248,806,16,806,16,6\" style=\"stroke: #000000; stroke-width: 1.5;\"/><line style=\"stroke: #000000; stroke-width: 1.5;\" x1=\"16\" x2=\"90\" y1=\"28.2969\" y2=\"28.2969\"/><text fill=\"#000000\" font-family=\"sans-serif\" font-size=\"14\" font-weight=\"bold\" lengthAdjust=\"spacingAndGlyphs\" textLength=\"61\" x=\"20\" y=\"20.9951\">ItemTest</text></a><!--MD5=[b4997ac47864f28c2f74865a473b2911]\n",
       "class E2--><a href=\"psysml:10e5f196-141c-4ebb-934a-0a8c25223d15\" target=\"_top\" title=\"psysml:10e5f196-141c-4ebb-934a-0a8c25223d15\" xlink:actuate=\"onRequest\" xlink:href=\"psysml:10e5f196-141c-4ebb-934a-0a8c25223d15\" xlink:show=\"new\" xlink:title=\"psysml:10e5f196-141c-4ebb-934a-0a8c25223d15\" xlink:type=\"simple\"><rect fill=\"#FFFFFF\" height=\"45.9375\" id=\"E2\" rx=\"10\" ry=\"10\" style=\"stroke: #383838; stroke-width: 1.5;\" width=\"43\" x=\"188.5\" y=\"148\"/><text fill=\"#000000\" font-family=\"sans-serif\" font-size=\"12\" font-style=\"italic\" lengthAdjust=\"spacingAndGlyphs\" textLength=\"41\" x=\"189.5\" y=\"164.1387\">«item»</text><text fill=\"#000000\" font-family=\"sans-serif\" font-size=\"12\" lengthAdjust=\"spacingAndGlyphs\" textLength=\"20\" x=\"200\" y=\"178.1074\">f: A</text><line style=\"stroke: #383838; stroke-width: 1.5;\" x1=\"189.5\" x2=\"230.5\" y1=\"185.9375\" y2=\"185.9375\"/></a><!--MD5=[09b614a08d8cba4a07c9adeb5e0fee81]\n",
       "class E3--><a href=\"psysml:d8185bfd-cc57-4585-aec6-0a59765b9e32\" target=\"_top\" title=\"psysml:d8185bfd-cc57-4585-aec6-0a59765b9e32\" xlink:actuate=\"onRequest\" xlink:href=\"psysml:d8185bfd-cc57-4585-aec6-0a59765b9e32\" xlink:show=\"new\" xlink:title=\"psysml:d8185bfd-cc57-4585-aec6-0a59765b9e32\" xlink:type=\"simple\"><rect fill=\"#FFFFFF\" height=\"45.9375\" id=\"E3\" style=\"stroke: #383838; stroke-width: 1.5;\" width=\"67\" x=\"98.5\" y=\"255\"/><text fill=\"#000000\" font-family=\"sans-serif\" font-size=\"12\" font-style=\"italic\" lengthAdjust=\"spacingAndGlyphs\" textLength=\"65\" x=\"99.5\" y=\"271.1387\">«item def»</text><text fill=\"#000000\" font-family=\"sans-serif\" font-size=\"12\" lengthAdjust=\"spacingAndGlyphs\" textLength=\"8\" x=\"128\" y=\"285.1074\">A</text><line style=\"stroke: #383838; stroke-width: 1.5;\" x1=\"99.5\" x2=\"164.5\" y1=\"292.9375\" y2=\"292.9375\"/></a><!--MD5=[ebbe1d658d1005bcc118a6aa81145e00]\n",
       "class E4--><a href=\"psysml:867e3ff9-f74d-45bb-974d-3b3d8373197d\" target=\"_top\" title=\"psysml:867e3ff9-f74d-45bb-974d-3b3d8373197d\" xlink:actuate=\"onRequest\" xlink:href=\"psysml:867e3ff9-f74d-45bb-974d-3b3d8373197d\" xlink:show=\"new\" xlink:title=\"psysml:867e3ff9-f74d-45bb-974d-3b3d8373197d\" xlink:type=\"simple\"><rect fill=\"#FFFFFF\" height=\"45.9375\" id=\"E4\" rx=\"10\" ry=\"10\" style=\"stroke: #383838; stroke-width: 1.5;\" width=\"43\" x=\"45.5\" y=\"438\"/><text fill=\"#000000\" font-family=\"sans-serif\" font-size=\"12\" font-style=\"italic\" lengthAdjust=\"spacingAndGlyphs\" textLength=\"41\" x=\"46.5\" y=\"454.1387\">«item»</text><text fill=\"#000000\" font-family=\"sans-serif\" font-size=\"12\" lengthAdjust=\"spacingAndGlyphs\" textLength=\"24\" x=\"55\" y=\"468.1074\">b: B</text><line style=\"stroke: #383838; stroke-width: 1.5;\" x1=\"46.5\" x2=\"87.5\" y1=\"475.9375\" y2=\"475.9375\"/></a><!--MD5=[270fce915f116d4de14055a7c1d9a0f3]\n",
       "class E5--><a href=\"psysml:cb0d56cf-7b64-416e-8353-0e76041e55a4\" target=\"_top\" title=\"psysml:cb0d56cf-7b64-416e-8353-0e76041e55a4\" xlink:actuate=\"onRequest\" xlink:href=\"psysml:cb0d56cf-7b64-416e-8353-0e76041e55a4\" xlink:show=\"new\" xlink:title=\"psysml:cb0d56cf-7b64-416e-8353-0e76041e55a4\" xlink:type=\"simple\"><rect fill=\"#FFFFFF\" height=\"45.9375\" id=\"E5\" rx=\"10\" ry=\"10\" style=\"stroke: #383838; stroke-width: 1.5;\" width=\"42\" x=\"151\" y=\"362\"/><text fill=\"#000000\" font-family=\"sans-serif\" font-size=\"12\" font-style=\"italic\" lengthAdjust=\"spacingAndGlyphs\" textLength=\"40\" x=\"152\" y=\"378.1387\">«part»</text><text fill=\"#000000\" font-family=\"sans-serif\" font-size=\"12\" lengthAdjust=\"spacingAndGlyphs\" textLength=\"23\" x=\"160.5\" y=\"392.1074\">c: C</text><line style=\"stroke: #383838; stroke-width: 1.5;\" x1=\"152\" x2=\"192\" y1=\"399.9375\" y2=\"399.9375\"/></a><!--MD5=[60a26617385b1d2d0262a64233df1f8d]\n",
       "class E6--><a href=\"psysml:cb468909-38eb-4328-9448-1d282e0fd6a5\" target=\"_top\" title=\"psysml:cb468909-38eb-4328-9448-1d282e0fd6a5\" xlink:actuate=\"onRequest\" xlink:href=\"psysml:cb468909-38eb-4328-9448-1d282e0fd6a5\" xlink:show=\"new\" xlink:title=\"psysml:cb468909-38eb-4328-9448-1d282e0fd6a5\" xlink:type=\"simple\"><rect fill=\"#FFFFFF\" height=\"45.9375\" id=\"E6\" style=\"stroke: #383838; stroke-width: 1.5;\" width=\"67\" x=\"114.5\" y=\"637\"/><text fill=\"#000000\" font-family=\"sans-serif\" font-size=\"12\" font-style=\"italic\" lengthAdjust=\"spacingAndGlyphs\" textLength=\"65\" x=\"115.5\" y=\"653.1387\">«item def»</text><text fill=\"#000000\" font-family=\"sans-serif\" font-size=\"12\" lengthAdjust=\"spacingAndGlyphs\" textLength=\"8\" x=\"144\" y=\"667.1074\">B</text><line style=\"stroke: #383838; stroke-width: 1.5;\" x1=\"115.5\" x2=\"180.5\" y1=\"674.9375\" y2=\"674.9375\"/></a><!--MD5=[2156ba9850f5573cc1fc38a6a4b2f02b]\n",
       "class E7--><a href=\"psysml:8d68ea76-8496-4a3a-9bac-3b5e10d4f6d7\" target=\"_top\" title=\"psysml:8d68ea76-8496-4a3a-9bac-3b5e10d4f6d7\" xlink:actuate=\"onRequest\" xlink:href=\"psysml:8d68ea76-8496-4a3a-9bac-3b5e10d4f6d7\" xlink:show=\"new\" xlink:title=\"psysml:8d68ea76-8496-4a3a-9bac-3b5e10d4f6d7\" xlink:type=\"simple\"><rect fill=\"#FFFFFF\" height=\"45.9375\" id=\"E7\" rx=\"10\" ry=\"10\" style=\"stroke: #383838; stroke-width: 1.5;\" width=\"42\" x=\"159\" y=\"744\"/><text fill=\"#000000\" font-family=\"sans-serif\" font-size=\"12\" font-style=\"italic\" lengthAdjust=\"spacingAndGlyphs\" textLength=\"40\" x=\"160\" y=\"760.1387\">«part»</text><text fill=\"#000000\" font-family=\"sans-serif\" font-size=\"12\" lengthAdjust=\"spacingAndGlyphs\" textLength=\"24\" x=\"168\" y=\"774.1074\">a: A</text><line style=\"stroke: #383838; stroke-width: 1.5;\" x1=\"160\" x2=\"200\" y1=\"781.9375\" y2=\"781.9375\"/></a><!--MD5=[b9389687b975829384b498ac4b7476b2]\n",
       "class E8--><a href=\"psysml:3d841289-74ad-422d-b7f3-bdfc719d6361\" target=\"_top\" title=\"psysml:3d841289-74ad-422d-b7f3-bdfc719d6361\" xlink:actuate=\"onRequest\" xlink:href=\"psysml:3d841289-74ad-422d-b7f3-bdfc719d6361\" xlink:show=\"new\" xlink:title=\"psysml:3d841289-74ad-422d-b7f3-bdfc719d6361\" xlink:type=\"simple\"><rect fill=\"#FFFFFF\" height=\"45.9375\" id=\"E8\" style=\"stroke: #383838; stroke-width: 1.5;\" width=\"66\" x=\"115\" y=\"514\"/><text fill=\"#000000\" font-family=\"sans-serif\" font-size=\"12\" font-style=\"italic\" lengthAdjust=\"spacingAndGlyphs\" textLength=\"64\" x=\"116\" y=\"530.1387\">«part def»</text><text fill=\"#000000\" font-family=\"sans-serif\" font-size=\"12\" lengthAdjust=\"spacingAndGlyphs\" textLength=\"8\" x=\"144\" y=\"544.1074\">C</text><line style=\"stroke: #383838; stroke-width: 1.5;\" x1=\"116\" x2=\"180\" y1=\"551.9375\" y2=\"551.9375\"/></a><!--MD5=[fd4143e9d270a159db93a4ea2a975926]\n",
       "class E9--><a href=\"psysml:192666b5-43c5-4ec0-a40a-8ab471017ca3\" target=\"_top\" title=\"psysml:192666b5-43c5-4ec0-a40a-8ab471017ca3\" xlink:actuate=\"onRequest\" xlink:href=\"psysml:192666b5-43c5-4ec0-a40a-8ab471017ca3\" xlink:show=\"new\" xlink:title=\"psysml:192666b5-43c5-4ec0-a40a-8ab471017ca3\" xlink:type=\"simple\"><rect fill=\"#FFFFFF\" height=\"45.9375\" id=\"E9\" style=\"stroke: #383838; stroke-width: 1.5;\" width=\"66\" x=\"65\" y=\"41\"/><text fill=\"#000000\" font-family=\"sans-serif\" font-size=\"12\" font-style=\"italic\" lengthAdjust=\"spacingAndGlyphs\" textLength=\"64\" x=\"66\" y=\"57.1387\">«port def»</text><text fill=\"#000000\" font-family=\"sans-serif\" font-size=\"12\" lengthAdjust=\"spacingAndGlyphs\" textLength=\"8\" x=\"94\" y=\"71.1074\">P</text><line style=\"stroke: #383838; stroke-width: 1.5;\" x1=\"66\" x2=\"130\" y1=\"78.9375\" y2=\"78.9375\"/></a><!--MD5=[96f4274e9e20536e775497830990834d]\n",
       "class E10--><a href=\"psysml:a2436968-c74d-4c9f-bf2a-127bcc502b4e\" target=\"_top\" title=\"psysml:a2436968-c74d-4c9f-bf2a-127bcc502b4e\" xlink:actuate=\"onRequest\" xlink:href=\"psysml:a2436968-c74d-4c9f-bf2a-127bcc502b4e\" xlink:show=\"new\" xlink:title=\"psysml:a2436968-c74d-4c9f-bf2a-127bcc502b4e\" xlink:type=\"simple\"><rect fill=\"#FFFFFF\" height=\"45.9375\" id=\"E10\" rx=\"10\" ry=\"10\" style=\"stroke: #383838; stroke-width: 1.5;\" width=\"43\" x=\"32.5\" y=\"148\"/><text fill=\"#000000\" font-family=\"sans-serif\" font-size=\"12\" font-style=\"italic\" lengthAdjust=\"spacingAndGlyphs\" textLength=\"41\" x=\"33.5\" y=\"164.1387\">«item»</text><text fill=\"#000000\" font-family=\"sans-serif\" font-size=\"12\" lengthAdjust=\"spacingAndGlyphs\" textLength=\"32\" x=\"38\" y=\"178.1074\">a1: A</text><line style=\"stroke: #383838; stroke-width: 1.5;\" x1=\"33.5\" x2=\"74.5\" y1=\"185.9375\" y2=\"185.9375\"/></a><!--MD5=[1dd1bfd58a279cf63c5f349dbc8fc6a1]\n",
       "class E11--><a href=\"psysml:6388cc28-f9be-476c-ad05-d9ff93971fbb\" target=\"_top\" title=\"psysml:6388cc28-f9be-476c-ad05-d9ff93971fbb\" xlink:actuate=\"onRequest\" xlink:href=\"psysml:6388cc28-f9be-476c-ad05-d9ff93971fbb\" xlink:show=\"new\" xlink:title=\"psysml:6388cc28-f9be-476c-ad05-d9ff93971fbb\" xlink:type=\"simple\"><rect fill=\"#FFFFFF\" height=\"45.9375\" id=\"E11\" rx=\"10\" ry=\"10\" style=\"stroke: #383838; stroke-width: 1.5;\" width=\"43\" x=\"110.5\" y=\"148\"/><text fill=\"#000000\" font-family=\"sans-serif\" font-size=\"12\" font-style=\"italic\" lengthAdjust=\"spacingAndGlyphs\" textLength=\"41\" x=\"111.5\" y=\"164.1387\">«item»</text><text fill=\"#000000\" font-family=\"sans-serif\" font-size=\"12\" lengthAdjust=\"spacingAndGlyphs\" textLength=\"32\" x=\"116\" y=\"178.1074\">a2: A</text><line style=\"stroke: #383838; stroke-width: 1.5;\" x1=\"111.5\" x2=\"152.5\" y1=\"185.9375\" y2=\"185.9375\"/></a><!--MD5=[2720a5a1f2c3fca2055b230370638851]\n",
       "link E2 to E3--><a href=\"psysml:24dbd283-1078-40f8-9dda-86d7de7bac74\" target=\"_top\" title=\"psysml:24dbd283-1078-40f8-9dda-86d7de7bac74\" xlink:actuate=\"onRequest\" xlink:href=\"psysml:24dbd283-1078-40f8-9dda-86d7de7bac74\" xlink:show=\"new\" xlink:title=\"psysml:24dbd283-1078-40f8-9dda-86d7de7bac74\" xlink:type=\"simple\"><path d=\"M193.65,194.01 C184.14,206.81 171.89,223.3 160.82,238.2 \" fill=\"none\" id=\"E2-&gt;E3\" style=\"stroke: #383838; stroke-width: 1.0;\"/><polygon fill=\"#FFFFFF\" points=\"148.6,254.66,154.3195,235.2361,165.5543,243.5896,148.6,254.66\" style=\"stroke: #383838; stroke-width: 1.0;\"/><ellipse cx=\"159.3256\" cy=\"231.8554\" fill=\"#383838\" rx=\"2\" ry=\"2\" style=\"stroke: #383838; stroke-width: 1.0;\"/><ellipse cx=\"167.3504\" cy=\"237.8221\" fill=\"#383838\" rx=\"2\" ry=\"2\" style=\"stroke: #383838; stroke-width: 1.0;\"/></a><!--MD5=[4672eba38e49728da53d11aeb285b987]\n",
       "reverse link E3 to E4--><a href=\"psysml:9f51e7d9-1020-406a-8433-de0298038040\" target=\"_top\" title=\"psysml:9f51e7d9-1020-406a-8433-de0298038040\" xlink:actuate=\"onRequest\" xlink:href=\"psysml:9f51e7d9-1020-406a-8433-de0298038040\" xlink:show=\"new\" xlink:title=\"psysml:9f51e7d9-1020-406a-8433-de0298038040\" xlink:type=\"simple\"><path d=\"M97.11,310.9 C84.08,325.11 70.81,342.94 64,362 C55.12,386.85 58.09,417.53 61.82,437.88 \" fill=\"none\" id=\"E3&lt;-E4\" style=\"stroke: #383838; stroke-width: 1.0;\"/><polygon fill=\"#383838\" points=\"106.46,301.23,99.4153,302.7703,98.1277,309.8655,105.1724,308.3252,106.46,301.23\" style=\"stroke: #383838; stroke-width: 1.0;\"/><text fill=\"#000000\" font-family=\"sans-serif\" font-size=\"13\" lengthAdjust=\"spacingAndGlyphs\" textLength=\"8\" x=\"51.3529\" y=\"426.744\">1</text></a><!--MD5=[191cde3d490a3f6d7bb551fe3ddca469]\n",
       "reverse link E3 to E5--><a href=\"psysml:7a936c29-0528-4da5-855d-3be7e5f4e113\" target=\"_top\" title=\"psysml:7a936c29-0528-4da5-855d-3be7e5f4e113\" xlink:actuate=\"onRequest\" xlink:href=\"psysml:7a936c29-0528-4da5-855d-3be7e5f4e113\" xlink:show=\"new\" xlink:title=\"psysml:7a936c29-0528-4da5-855d-3be7e5f4e113\" xlink:type=\"simple\"><path d=\"M145.17,313.57 C151.2,329.39 158.16,347.68 163.49,361.66 \" fill=\"none\" id=\"E3&lt;-E5\" style=\"stroke: #383838; stroke-width: 1.0;\"/><polygon fill=\"#FFFFFF\" points=\"140.39,301.01,138.7866,308.0406,144.6598,312.2247,146.2631,305.1941,140.39,301.01\" style=\"stroke: #383838; stroke-width: 1.0;\"/><text fill=\"#000000\" font-family=\"sans-serif\" font-size=\"13\" lengthAdjust=\"spacingAndGlyphs\" textLength=\"8\" x=\"152.2843\" y=\"350.8492\">1</text></a><!--MD5=[79568f1e445c3877b6a54524624ccc7d]\n",
       "link E4 to E6--><a href=\"psysml:860f4e4a-475c-4d3a-a05e-585111d40739\" target=\"_top\" title=\"psysml:860f4e4a-475c-4d3a-a05e-585111d40739\" xlink:actuate=\"onRequest\" xlink:href=\"psysml:860f4e4a-475c-4d3a-a05e-585111d40739\" xlink:show=\"new\" xlink:title=\"psysml:860f4e4a-475c-4d3a-a05e-585111d40739\" xlink:type=\"simple\"><path d=\"M72.9,484.16 C78.52,504.26 87.63,534.55 98,560 C106.11,579.9 116.66,601.27 125.97,619.04 \" fill=\"none\" id=\"E4-&gt;E6\" style=\"stroke: #383838; stroke-width: 1.0;\"/><polygon fill=\"#FFFFFF\" points=\"135.42,636.68,120.2696,623.2463,132.6064,616.628,135.42,636.68\" style=\"stroke: #383838; stroke-width: 1.0;\"/><ellipse cx=\"119.3374\" cy=\"617.2779\" fill=\"#383838\" rx=\"2\" ry=\"2\" style=\"stroke: #383838; stroke-width: 1.0;\"/><ellipse cx=\"128.1494\" cy=\"612.5506\" fill=\"#383838\" rx=\"2\" ry=\"2\" style=\"stroke: #383838; stroke-width: 1.0;\"/></a><!--MD5=[3f50a3473f1dfb74d3f76443e03635af]\n",
       "reverse link E6 to E7--><a href=\"psysml:01396c82-09da-45aa-ba0c-a7dad5741ff2\" target=\"_top\" title=\"psysml:01396c82-09da-45aa-ba0c-a7dad5741ff2\" xlink:actuate=\"onRequest\" xlink:href=\"psysml:01396c82-09da-45aa-ba0c-a7dad5741ff2\" xlink:show=\"new\" xlink:title=\"psysml:01396c82-09da-45aa-ba0c-a7dad5741ff2\" xlink:type=\"simple\"><path d=\"M158.54,695.57 C163.36,711.39 168.93,729.68 173.19,743.66 \" fill=\"none\" id=\"E6&lt;-E7\" style=\"stroke: #383838; stroke-width: 1.0;\"/><polygon fill=\"#383838\" points=\"154.71,683.01,152.6319,689.9152,158.2066,694.4893,160.2847,687.5841,154.71,683.01\" style=\"stroke: #383838; stroke-width: 1.0;\"/><text fill=\"#000000\" font-family=\"sans-serif\" font-size=\"13\" lengthAdjust=\"spacingAndGlyphs\" textLength=\"8\" x=\"162.4199\" y=\"732.8492\">1</text></a><!--MD5=[14ccda38c055a5c0da953d572bc50960]\n",
       "link E7 to E3--><a href=\"psysml:d97708ca-1830-4e5e-bf07-a2aabe0546e8\" target=\"_top\" title=\"psysml:d97708ca-1830-4e5e-bf07-a2aabe0546e8\" xlink:actuate=\"onRequest\" xlink:href=\"psysml:d97708ca-1830-4e5e-bf07-a2aabe0546e8\" xlink:show=\"new\" xlink:title=\"psysml:d97708ca-1830-4e5e-bf07-a2aabe0546e8\" xlink:type=\"simple\"><path d=\"M197.41,743.63 C211.5,723.27 229,691.78 229,661 C229,384 229,384 229,384 C229,353 205.9,327.25 182.25,309.01 \" fill=\"none\" id=\"E7-&gt;E3\" style=\"stroke: #383838; stroke-width: 1.0;\"/><polygon fill=\"#FFFFFF\" points=\"165.65,297.35,185.219,302.5513,177.1671,314.004,165.65,297.35\" style=\"stroke: #383838; stroke-width: 1.0;\"/><ellipse cx=\"188.7317\" cy=\"307.4657\" fill=\"#383838\" rx=\"2\" ry=\"2\" style=\"stroke: #383838; stroke-width: 1.0;\"/><ellipse cx=\"182.9803\" cy=\"315.6462\" fill=\"#383838\" rx=\"2\" ry=\"2\" style=\"stroke: #383838; stroke-width: 1.0;\"/></a><!--MD5=[dfaffb906826c3e5aca635516100ff21]\n",
       "link E5 to E8--><a href=\"psysml:75f754af-bdfa-473b-8cbb-d11c609ad500\" target=\"_top\" title=\"psysml:75f754af-bdfa-473b-8cbb-d11c609ad500\" xlink:actuate=\"onRequest\" xlink:href=\"psysml:75f754af-bdfa-473b-8cbb-d11c609ad500\" xlink:show=\"new\" xlink:title=\"psysml:75f754af-bdfa-473b-8cbb-d11c609ad500\" xlink:type=\"simple\"><path d=\"M168.46,408.13 C164.86,430.62 159.2,466.01 154.74,493.87 \" fill=\"none\" id=\"E5-&gt;E8\" style=\"stroke: #383838; stroke-width: 1.0;\"/><polygon fill=\"#FFFFFF\" points=\"151.56,513.78,147.6458,493.9135,161.4704,496.1226,151.56,513.78\" style=\"stroke: #383838; stroke-width: 1.0;\"/><ellipse cx=\"150.5202\" cy=\"488.6005\" fill=\"#383838\" rx=\"2\" ry=\"2\" style=\"stroke: #383838; stroke-width: 1.0;\"/><ellipse cx=\"160.3949\" cy=\"490.1784\" fill=\"#383838\" rx=\"2\" ry=\"2\" style=\"stroke: #383838; stroke-width: 1.0;\"/></a><!--MD5=[03c8294790d3c57651a1993cecff665f]\n",
       "reverse link E8 to E3--><a href=\"psysml:aa35edca-3910-4cd9-97ff-300d5c8627fc\" target=\"_top\" title=\"psysml:aa35edca-3910-4cd9-97ff-300d5c8627fc\" xlink:actuate=\"onRequest\" xlink:href=\"psysml:aa35edca-3910-4cd9-97ff-300d5c8627fc\" xlink:show=\"new\" xlink:title=\"psysml:aa35edca-3910-4cd9-97ff-300d5c8627fc\" xlink:type=\"simple\"><path d=\"M140.02,501.22 C134.57,475.6 127.84,439.84 125,408 C123.18,387.64 124.14,382.43 125,362 C125.87,341.34 127.95,317.86 129.62,301.16 \" fill=\"none\" id=\"E8&lt;-E3\" style=\"stroke: #383838; stroke-width: 1.0;\"/><polygon fill=\"#FFFFFF\" points=\"142.81,513.96,145.4388,507.2451,140.2515,502.2359,137.6227,508.9508,142.81,513.96\" style=\"stroke: #383838; stroke-width: 1.0;\"/><text fill=\"#000000\" font-family=\"sans-serif\" font-size=\"13\" lengthAdjust=\"spacingAndGlyphs\" textLength=\"7\" x=\"126\" y=\"389.5669\">y</text></a><!--MD5=[0d75d2178373a6a4568e5dc728f58aef]\n",
       "reverse link E8 to E6--><a href=\"psysml:aa35edca-3910-4cd9-97ff-300d5c8627fc\" target=\"_top\" title=\"psysml:aa35edca-3910-4cd9-97ff-300d5c8627fc\" xlink:actuate=\"onRequest\" xlink:href=\"psysml:aa35edca-3910-4cd9-97ff-300d5c8627fc\" xlink:show=\"new\" xlink:title=\"psysml:aa35edca-3910-4cd9-97ff-300d5c8627fc\" xlink:type=\"simple\"><path d=\"M148,573.22 C148,593.81 148,619.16 148,636.95 \" fill=\"none\" id=\"E8&lt;-E6\" style=\"stroke: #383838; stroke-width: 1.0;\"/><polygon fill=\"#FFFFFF\" points=\"148,560.19,144,566.19,148,572.19,152,566.19,148,560.19\" style=\"stroke: #383838; stroke-width: 1.0;\"/><text fill=\"#000000\" font-family=\"sans-serif\" font-size=\"13\" lengthAdjust=\"spacingAndGlyphs\" textLength=\"7\" x=\"149\" y=\"603.0669\">y</text></a><!--MD5=[23ac544a70576c3e717098101004234c]\n",
       "reverse link E9 to E10--><a href=\"psysml:cf1da376-637e-4400-b815-716d62b1c417\" target=\"_top\" title=\"psysml:cf1da376-637e-4400-b815-716d62b1c417\" xlink:actuate=\"onRequest\" xlink:href=\"psysml:cf1da376-637e-4400-b815-716d62b1c417\" xlink:show=\"new\" xlink:title=\"psysml:cf1da376-637e-4400-b815-716d62b1c417\" xlink:type=\"simple\"><path d=\"M83.71,99.1 C77.04,115.03 69.28,133.54 63.36,147.66 \" fill=\"none\" id=\"E9&lt;-E10\" style=\"stroke: #383838; stroke-width: 1.0;\"/><polygon fill=\"#FFFFFF\" points=\"88.78,87.01,82.7702,90.9953,84.1375,98.0756,90.1473,94.0903,88.78,87.01\" style=\"stroke: #383838; stroke-width: 1.0;\"/><text fill=\"#000000\" font-family=\"sans-serif\" font-size=\"13\" lengthAdjust=\"spacingAndGlyphs\" textLength=\"8\" x=\"56.7335\" y=\"136.8492\">1</text></a><!--MD5=[feeac5eb423634930294aa81f2d25a4c]\n",
       "link E10 to E3--><a href=\"psysml:4cf35cfc-841e-4847-875d-1ebad6bb61b9\" target=\"_top\" title=\"psysml:4cf35cfc-841e-4847-875d-1ebad6bb61b9\" xlink:actuate=\"onRequest\" xlink:href=\"psysml:4cf35cfc-841e-4847-875d-1ebad6bb61b9\" xlink:show=\"new\" xlink:title=\"psysml:4cf35cfc-841e-4847-875d-1ebad6bb61b9\" xlink:type=\"simple\"><path d=\"M70.35,194.01 C79.86,206.81 92.11,223.3 103.18,238.2 \" fill=\"none\" id=\"E10-&gt;E3\" style=\"stroke: #383838; stroke-width: 1.0;\"/><polygon fill=\"#FFFFFF\" points=\"115.4,254.66,98.4457,243.5896,109.6805,235.2361,115.4,254.66\" style=\"stroke: #383838; stroke-width: 1.0;\"/><ellipse cx=\"96.6496\" cy=\"237.8221\" fill=\"#383838\" rx=\"2\" ry=\"2\" style=\"stroke: #383838; stroke-width: 1.0;\"/><ellipse cx=\"104.6744\" cy=\"231.8554\" fill=\"#383838\" rx=\"2\" ry=\"2\" style=\"stroke: #383838; stroke-width: 1.0;\"/></a><!--MD5=[1fc04a95fd77ad5ce46c1a3027516051]\n",
       "reverse link E9 to E11--><a href=\"psysml:bd05daaf-8002-489d-bbfa-6134af678ace\" target=\"_top\" title=\"psysml:bd05daaf-8002-489d-bbfa-6134af678ace\" xlink:actuate=\"onRequest\" xlink:href=\"psysml:bd05daaf-8002-489d-bbfa-6134af678ace\" xlink:show=\"new\" xlink:title=\"psysml:bd05daaf-8002-489d-bbfa-6134af678ace\" xlink:type=\"simple\"><path d=\"M109.19,99.57 C114.32,115.39 120.24,133.68 124.76,147.66 \" fill=\"none\" id=\"E9&lt;-E11\" style=\"stroke: #383838; stroke-width: 1.0;\"/><polygon fill=\"#FFFFFF\" points=\"105.13,87.01,103.1699,93.9496,108.8217,98.428,110.7819,91.4884,105.13,87.01\" style=\"stroke: #383838; stroke-width: 1.0;\"/><text fill=\"#000000\" font-family=\"sans-serif\" font-size=\"13\" lengthAdjust=\"spacingAndGlyphs\" textLength=\"8\" x=\"113.8798\" y=\"136.8492\">1</text></a><!--MD5=[0517f1ce58c4d5483948f93845c45e26]\n",
       "link E11 to E3--><a href=\"psysml:31e39f64-1f8d-4b2c-be98-c1459e5d6e94\" target=\"_top\" title=\"psysml:31e39f64-1f8d-4b2c-be98-c1459e5d6e94\" xlink:actuate=\"onRequest\" xlink:href=\"psysml:31e39f64-1f8d-4b2c-be98-c1459e5d6e94\" xlink:show=\"new\" xlink:title=\"psysml:31e39f64-1f8d-4b2c-be98-c1459e5d6e94\" xlink:type=\"simple\"><path d=\"M132,194.01 C132,205.69 132,220.46 132,234.28 \" fill=\"none\" id=\"E11-&gt;E3\" style=\"stroke: #383838; stroke-width: 1.0;\"/><polygon fill=\"#FFFFFF\" points=\"132,254.66,125,235.66,139,235.66,132,254.66\" style=\"stroke: #383838; stroke-width: 1.0;\"/><ellipse cx=\"127\" cy=\"229.96\" fill=\"#383838\" rx=\"2\" ry=\"2\" style=\"stroke: #383838; stroke-width: 1.0;\"/><ellipse cx=\"137\" cy=\"229.96\" fill=\"#383838\" rx=\"2\" ry=\"2\" style=\"stroke: #383838; stroke-width: 1.0;\"/></a><!--MD5=[f1cf00d3c873d931ca7c2b816cd061f3]\n",
       "@startuml\r\n",
       "top to bottom direction\r\n",
       "skinparam monochrome true\r\n",
       "skinparam classbackgroundcolor white\r\n",
       "skinparam shadowing false\r\n",
       "skinparam wrapWidth 300\r\n",
       "hide circle\r\n",
       "\r\n",
       "package \"ItemTest\" as E1  [[psysml:1bc06463-7392-4b34-87d6-1f1d6784670a ]]  {\r\n",
       "comp usage \"f: A\" as E2  <<(T,blue) item>> [[psysml:10e5f196-141c-4ebb-934a-0a8c25223d15 ]] {\r\n",
       "}\r\n",
       "comp def \"A\" as E3  <<(T,blue) item def>> [[psysml:d8185bfd-cc57-4585-aec6-0a59765b9e32 ]] {\r\n",
       "}\r\n",
       "comp usage \"b: B\" as E4  <<(T,blue) item>> [[psysml:867e3ff9-f74d-45bb-974d-3b3d8373197d ]] {\r\n",
       "}\r\n",
       "comp usage \"c: C\" as E5  <<(T,blue) part>> [[psysml:cb0d56cf-7b64-416e-8353-0e76041e55a4 ]] {\r\n",
       "}\r\n",
       "comp def \"B\" as E6  <<(T,blue) item def>> [[psysml:cb468909-38eb-4328-9448-1d282e0fd6a5 ]] {\r\n",
       "}\r\n",
       "comp usage \"a: A\" as E7  <<(T,blue) part>> [[psysml:8d68ea76-8496-4a3a-9bac-3b5e10d4f6d7 ]] {\r\n",
       "}\r\n",
       "comp def \"C\" as E8  <<(T,blue) part def>> [[psysml:3d841289-74ad-422d-b7f3-bdfc719d6361 ]] {\r\n",
       "}\r\n",
       "comp def \"P\" as E9  <<(T,blue) port def>> [[psysml:192666b5-43c5-4ec0-a40a-8ab471017ca3 ]] {\r\n",
       "}\r\n",
       "comp usage \"a1: A\" as E10  <<(T,blue) item>> [[psysml:a2436968-c74d-4c9f-bf2a-127bcc502b4e ]] {\r\n",
       "}\r\n",
       "comp usage \"a2: A\" as E11  <<(T,blue) item>> [[psysml:6388cc28-f9be-476c-ad05-d9ff93971fbb ]] {\r\n",
       "}\r\n",
       "}\r\n",
       "E2 - -:|> E3 [[psysml:24dbd283-1078-40f8-9dda-86d7de7bac74 ]] \r\n",
       "E3 *- - \"1\"E4 [[psysml:9f51e7d9-1020-406a-8433-de0298038040 ]] \r\n",
       "E3 o- - \"1\"E5 [[psysml:7a936c29-0528-4da5-855d-3be7e5f4e113 ]] \r\n",
       "E4 - -:|> E6 [[psysml:860f4e4a-475c-4d3a-a05e-585111d40739 ]] \r\n",
       "E6 *- - \"1\"E7 [[psysml:01396c82-09da-45aa-ba0c-a7dad5741ff2 ]] \r\n",
       "E7 - -:|> E3 [[psysml:d97708ca-1830-4e5e-bf07-a2aabe0546e8 ]] \r\n",
       "E5 - -:|> E8 [[psysml:75f754af-bdfa-473b-8cbb-d11c609ad500 ]] \r\n",
       "E8 o- - E3 [[psysml:aa35edca-3910-4cd9-97ff-300d5c8627fc ]] : y\r\n",
       "E8 o- - E6 [[psysml:aa35edca-3910-4cd9-97ff-300d5c8627fc ]] : y\r\n",
       "E9 o- - \"1\"E10 [[psysml:cf1da376-637e-4400-b815-716d62b1c417 ]] \r\n",
       "E10 - -:|> E3 [[psysml:4cf35cfc-841e-4847-875d-1ebad6bb61b9 ]] \r\n",
       "E9 o- - \"1\"E11 [[psysml:bd05daaf-8002-489d-bbfa-6134af678ace ]] \r\n",
       "E11 - -:|> E3 [[psysml:31e39f64-1f8d-4b2c-be98-c1459e5d6e94 ]] \r\n",
       "@enduml\r\n",
       "\n",
       "PlantUML version 1.2020.13(Sat Jun 13 12:26:38 UTC 2020)\n",
       "(EPL source distribution)\n",
       "Java Runtime: OpenJDK Runtime Environment\n",
       "JVM: OpenJDK 64-Bit Server VM\n",
       "Default Encoding: UTF-8\n",
       "Language: en\n",
       "Country: null\n",
       "--></g></svg>"
      ]
     },
     "execution_count": 44,
     "metadata": {},
     "output_type": "execute_result"
    }
   ],
   "source": [
    "%viz --style=\"TB\" --view=\"Default\" \"ItemTest\""
   ]
  },
  {
   "cell_type": "code",
   "execution_count": 45,
   "id": "e833167a",
   "metadata": {
    "execution": {
     "iopub.execute_input": "2021-10-03T08:27:29.698866Z",
     "iopub.status.busy": "2021-10-03T08:27:29.698445Z",
     "iopub.status.idle": "2021-10-03T08:27:29.740248Z",
     "shell.execute_reply": "2021-10-03T08:27:29.738361Z"
    }
   },
   "outputs": [
    {
     "data": {
      "image/svg+xml": [
       "<?xml version=\"1.0\" encoding=\"UTF-8\" standalone=\"no\"?><svg xmlns=\"http://www.w3.org/2000/svg\" xmlns:xlink=\"http://www.w3.org/1999/xlink\" contentScriptType=\"application/ecmascript\" contentStyleType=\"text/css\" height=\"818px\" preserveAspectRatio=\"none\" style=\"width:270px;height:818px;\" version=\"1.1\" viewBox=\"0 0 270 818\" width=\"270px\" zoomAndPan=\"magnify\"><defs/><g><!--MD5=[fbc87193dbaf4d95561dea2c320d4a47]\n",
       "cluster E1--><a href=\"psysml:1bc06463-7392-4b34-87d6-1f1d6784670a\" target=\"_top\" title=\"psysml:1bc06463-7392-4b34-87d6-1f1d6784670a\" xlink:actuate=\"onRequest\" xlink:href=\"psysml:1bc06463-7392-4b34-87d6-1f1d6784670a\" xlink:show=\"new\" xlink:title=\"psysml:1bc06463-7392-4b34-87d6-1f1d6784670a\" xlink:type=\"simple\"><polygon fill=\"#FFFFFF\" points=\"16,6,83,6,90,28.2969,248,28.2969,248,806,16,806,16,6\" style=\"stroke: #000000; stroke-width: 1.5;\"/><line style=\"stroke: #000000; stroke-width: 1.5;\" x1=\"16\" x2=\"90\" y1=\"28.2969\" y2=\"28.2969\"/><text fill=\"#000000\" font-family=\"sans-serif\" font-size=\"14\" font-weight=\"bold\" lengthAdjust=\"spacingAndGlyphs\" textLength=\"61\" x=\"20\" y=\"20.9951\">ItemTest</text></a><!--MD5=[b4997ac47864f28c2f74865a473b2911]\n",
       "class E2--><a href=\"psysml:10e5f196-141c-4ebb-934a-0a8c25223d15\" target=\"_top\" title=\"psysml:10e5f196-141c-4ebb-934a-0a8c25223d15\" xlink:actuate=\"onRequest\" xlink:href=\"psysml:10e5f196-141c-4ebb-934a-0a8c25223d15\" xlink:show=\"new\" xlink:title=\"psysml:10e5f196-141c-4ebb-934a-0a8c25223d15\" xlink:type=\"simple\"><rect fill=\"#FFFFFF\" height=\"45.9375\" id=\"E2\" rx=\"10\" ry=\"10\" style=\"stroke: #383838; stroke-width: 1.5;\" width=\"43\" x=\"188.5\" y=\"148\"/><text fill=\"#000000\" font-family=\"sans-serif\" font-size=\"12\" font-style=\"italic\" lengthAdjust=\"spacingAndGlyphs\" textLength=\"41\" x=\"189.5\" y=\"164.1387\">«item»</text><text fill=\"#000000\" font-family=\"sans-serif\" font-size=\"12\" lengthAdjust=\"spacingAndGlyphs\" textLength=\"20\" x=\"200\" y=\"178.1074\">f: A</text><line style=\"stroke: #383838; stroke-width: 1.5;\" x1=\"189.5\" x2=\"230.5\" y1=\"185.9375\" y2=\"185.9375\"/></a><!--MD5=[09b614a08d8cba4a07c9adeb5e0fee81]\n",
       "class E3--><a href=\"psysml:d8185bfd-cc57-4585-aec6-0a59765b9e32\" target=\"_top\" title=\"psysml:d8185bfd-cc57-4585-aec6-0a59765b9e32\" xlink:actuate=\"onRequest\" xlink:href=\"psysml:d8185bfd-cc57-4585-aec6-0a59765b9e32\" xlink:show=\"new\" xlink:title=\"psysml:d8185bfd-cc57-4585-aec6-0a59765b9e32\" xlink:type=\"simple\"><rect fill=\"#FFFFFF\" height=\"45.9375\" id=\"E3\" style=\"stroke: #383838; stroke-width: 1.5;\" width=\"67\" x=\"98.5\" y=\"255\"/><text fill=\"#000000\" font-family=\"sans-serif\" font-size=\"12\" font-style=\"italic\" lengthAdjust=\"spacingAndGlyphs\" textLength=\"65\" x=\"99.5\" y=\"271.1387\">«item def»</text><text fill=\"#000000\" font-family=\"sans-serif\" font-size=\"12\" lengthAdjust=\"spacingAndGlyphs\" textLength=\"8\" x=\"128\" y=\"285.1074\">A</text><line style=\"stroke: #383838; stroke-width: 1.5;\" x1=\"99.5\" x2=\"164.5\" y1=\"292.9375\" y2=\"292.9375\"/></a><!--MD5=[ebbe1d658d1005bcc118a6aa81145e00]\n",
       "class E4--><a href=\"psysml:867e3ff9-f74d-45bb-974d-3b3d8373197d\" target=\"_top\" title=\"psysml:867e3ff9-f74d-45bb-974d-3b3d8373197d\" xlink:actuate=\"onRequest\" xlink:href=\"psysml:867e3ff9-f74d-45bb-974d-3b3d8373197d\" xlink:show=\"new\" xlink:title=\"psysml:867e3ff9-f74d-45bb-974d-3b3d8373197d\" xlink:type=\"simple\"><rect fill=\"#FFFFFF\" height=\"45.9375\" id=\"E4\" rx=\"10\" ry=\"10\" style=\"stroke: #383838; stroke-width: 1.5;\" width=\"43\" x=\"45.5\" y=\"438\"/><text fill=\"#000000\" font-family=\"sans-serif\" font-size=\"12\" font-style=\"italic\" lengthAdjust=\"spacingAndGlyphs\" textLength=\"41\" x=\"46.5\" y=\"454.1387\">«item»</text><text fill=\"#000000\" font-family=\"sans-serif\" font-size=\"12\" lengthAdjust=\"spacingAndGlyphs\" textLength=\"24\" x=\"55\" y=\"468.1074\">b: B</text><line style=\"stroke: #383838; stroke-width: 1.5;\" x1=\"46.5\" x2=\"87.5\" y1=\"475.9375\" y2=\"475.9375\"/></a><!--MD5=[270fce915f116d4de14055a7c1d9a0f3]\n",
       "class E5--><a href=\"psysml:cb0d56cf-7b64-416e-8353-0e76041e55a4\" target=\"_top\" title=\"psysml:cb0d56cf-7b64-416e-8353-0e76041e55a4\" xlink:actuate=\"onRequest\" xlink:href=\"psysml:cb0d56cf-7b64-416e-8353-0e76041e55a4\" xlink:show=\"new\" xlink:title=\"psysml:cb0d56cf-7b64-416e-8353-0e76041e55a4\" xlink:type=\"simple\"><rect fill=\"#FFFFFF\" height=\"45.9375\" id=\"E5\" rx=\"10\" ry=\"10\" style=\"stroke: #383838; stroke-width: 1.5;\" width=\"42\" x=\"151\" y=\"362\"/><text fill=\"#000000\" font-family=\"sans-serif\" font-size=\"12\" font-style=\"italic\" lengthAdjust=\"spacingAndGlyphs\" textLength=\"40\" x=\"152\" y=\"378.1387\">«part»</text><text fill=\"#000000\" font-family=\"sans-serif\" font-size=\"12\" lengthAdjust=\"spacingAndGlyphs\" textLength=\"23\" x=\"160.5\" y=\"392.1074\">c: C</text><line style=\"stroke: #383838; stroke-width: 1.5;\" x1=\"152\" x2=\"192\" y1=\"399.9375\" y2=\"399.9375\"/></a><!--MD5=[60a26617385b1d2d0262a64233df1f8d]\n",
       "class E6--><a href=\"psysml:cb468909-38eb-4328-9448-1d282e0fd6a5\" target=\"_top\" title=\"psysml:cb468909-38eb-4328-9448-1d282e0fd6a5\" xlink:actuate=\"onRequest\" xlink:href=\"psysml:cb468909-38eb-4328-9448-1d282e0fd6a5\" xlink:show=\"new\" xlink:title=\"psysml:cb468909-38eb-4328-9448-1d282e0fd6a5\" xlink:type=\"simple\"><rect fill=\"#FFFFFF\" height=\"45.9375\" id=\"E6\" style=\"stroke: #383838; stroke-width: 1.5;\" width=\"67\" x=\"114.5\" y=\"637\"/><text fill=\"#000000\" font-family=\"sans-serif\" font-size=\"12\" font-style=\"italic\" lengthAdjust=\"spacingAndGlyphs\" textLength=\"65\" x=\"115.5\" y=\"653.1387\">«item def»</text><text fill=\"#000000\" font-family=\"sans-serif\" font-size=\"12\" lengthAdjust=\"spacingAndGlyphs\" textLength=\"8\" x=\"144\" y=\"667.1074\">B</text><line style=\"stroke: #383838; stroke-width: 1.5;\" x1=\"115.5\" x2=\"180.5\" y1=\"674.9375\" y2=\"674.9375\"/></a><!--MD5=[2156ba9850f5573cc1fc38a6a4b2f02b]\n",
       "class E7--><a href=\"psysml:8d68ea76-8496-4a3a-9bac-3b5e10d4f6d7\" target=\"_top\" title=\"psysml:8d68ea76-8496-4a3a-9bac-3b5e10d4f6d7\" xlink:actuate=\"onRequest\" xlink:href=\"psysml:8d68ea76-8496-4a3a-9bac-3b5e10d4f6d7\" xlink:show=\"new\" xlink:title=\"psysml:8d68ea76-8496-4a3a-9bac-3b5e10d4f6d7\" xlink:type=\"simple\"><rect fill=\"#FFFFFF\" height=\"45.9375\" id=\"E7\" rx=\"10\" ry=\"10\" style=\"stroke: #383838; stroke-width: 1.5;\" width=\"42\" x=\"159\" y=\"744\"/><text fill=\"#000000\" font-family=\"sans-serif\" font-size=\"12\" font-style=\"italic\" lengthAdjust=\"spacingAndGlyphs\" textLength=\"40\" x=\"160\" y=\"760.1387\">«part»</text><text fill=\"#000000\" font-family=\"sans-serif\" font-size=\"12\" lengthAdjust=\"spacingAndGlyphs\" textLength=\"24\" x=\"168\" y=\"774.1074\">a: A</text><line style=\"stroke: #383838; stroke-width: 1.5;\" x1=\"160\" x2=\"200\" y1=\"781.9375\" y2=\"781.9375\"/></a><!--MD5=[b9389687b975829384b498ac4b7476b2]\n",
       "class E8--><a href=\"psysml:3d841289-74ad-422d-b7f3-bdfc719d6361\" target=\"_top\" title=\"psysml:3d841289-74ad-422d-b7f3-bdfc719d6361\" xlink:actuate=\"onRequest\" xlink:href=\"psysml:3d841289-74ad-422d-b7f3-bdfc719d6361\" xlink:show=\"new\" xlink:title=\"psysml:3d841289-74ad-422d-b7f3-bdfc719d6361\" xlink:type=\"simple\"><rect fill=\"#FFFFFF\" height=\"45.9375\" id=\"E8\" style=\"stroke: #383838; stroke-width: 1.5;\" width=\"66\" x=\"115\" y=\"514\"/><text fill=\"#000000\" font-family=\"sans-serif\" font-size=\"12\" font-style=\"italic\" lengthAdjust=\"spacingAndGlyphs\" textLength=\"64\" x=\"116\" y=\"530.1387\">«part def»</text><text fill=\"#000000\" font-family=\"sans-serif\" font-size=\"12\" lengthAdjust=\"spacingAndGlyphs\" textLength=\"8\" x=\"144\" y=\"544.1074\">C</text><line style=\"stroke: #383838; stroke-width: 1.5;\" x1=\"116\" x2=\"180\" y1=\"551.9375\" y2=\"551.9375\"/></a><!--MD5=[fd4143e9d270a159db93a4ea2a975926]\n",
       "class E9--><a href=\"psysml:192666b5-43c5-4ec0-a40a-8ab471017ca3\" target=\"_top\" title=\"psysml:192666b5-43c5-4ec0-a40a-8ab471017ca3\" xlink:actuate=\"onRequest\" xlink:href=\"psysml:192666b5-43c5-4ec0-a40a-8ab471017ca3\" xlink:show=\"new\" xlink:title=\"psysml:192666b5-43c5-4ec0-a40a-8ab471017ca3\" xlink:type=\"simple\"><rect fill=\"#FFFFFF\" height=\"45.9375\" id=\"E9\" style=\"stroke: #383838; stroke-width: 1.5;\" width=\"66\" x=\"65\" y=\"41\"/><text fill=\"#000000\" font-family=\"sans-serif\" font-size=\"12\" font-style=\"italic\" lengthAdjust=\"spacingAndGlyphs\" textLength=\"64\" x=\"66\" y=\"57.1387\">«port def»</text><text fill=\"#000000\" font-family=\"sans-serif\" font-size=\"12\" lengthAdjust=\"spacingAndGlyphs\" textLength=\"8\" x=\"94\" y=\"71.1074\">P</text><line style=\"stroke: #383838; stroke-width: 1.5;\" x1=\"66\" x2=\"130\" y1=\"78.9375\" y2=\"78.9375\"/></a><!--MD5=[96f4274e9e20536e775497830990834d]\n",
       "class E10--><a href=\"psysml:a2436968-c74d-4c9f-bf2a-127bcc502b4e\" target=\"_top\" title=\"psysml:a2436968-c74d-4c9f-bf2a-127bcc502b4e\" xlink:actuate=\"onRequest\" xlink:href=\"psysml:a2436968-c74d-4c9f-bf2a-127bcc502b4e\" xlink:show=\"new\" xlink:title=\"psysml:a2436968-c74d-4c9f-bf2a-127bcc502b4e\" xlink:type=\"simple\"><rect fill=\"#FFFFFF\" height=\"45.9375\" id=\"E10\" rx=\"10\" ry=\"10\" style=\"stroke: #383838; stroke-width: 1.5;\" width=\"43\" x=\"32.5\" y=\"148\"/><text fill=\"#000000\" font-family=\"sans-serif\" font-size=\"12\" font-style=\"italic\" lengthAdjust=\"spacingAndGlyphs\" textLength=\"41\" x=\"33.5\" y=\"164.1387\">«item»</text><text fill=\"#000000\" font-family=\"sans-serif\" font-size=\"12\" lengthAdjust=\"spacingAndGlyphs\" textLength=\"32\" x=\"38\" y=\"178.1074\">a1: A</text><line style=\"stroke: #383838; stroke-width: 1.5;\" x1=\"33.5\" x2=\"74.5\" y1=\"185.9375\" y2=\"185.9375\"/></a><!--MD5=[1dd1bfd58a279cf63c5f349dbc8fc6a1]\n",
       "class E11--><a href=\"psysml:6388cc28-f9be-476c-ad05-d9ff93971fbb\" target=\"_top\" title=\"psysml:6388cc28-f9be-476c-ad05-d9ff93971fbb\" xlink:actuate=\"onRequest\" xlink:href=\"psysml:6388cc28-f9be-476c-ad05-d9ff93971fbb\" xlink:show=\"new\" xlink:title=\"psysml:6388cc28-f9be-476c-ad05-d9ff93971fbb\" xlink:type=\"simple\"><rect fill=\"#FFFFFF\" height=\"45.9375\" id=\"E11\" rx=\"10\" ry=\"10\" style=\"stroke: #383838; stroke-width: 1.5;\" width=\"43\" x=\"110.5\" y=\"148\"/><text fill=\"#000000\" font-family=\"sans-serif\" font-size=\"12\" font-style=\"italic\" lengthAdjust=\"spacingAndGlyphs\" textLength=\"41\" x=\"111.5\" y=\"164.1387\">«item»</text><text fill=\"#000000\" font-family=\"sans-serif\" font-size=\"12\" lengthAdjust=\"spacingAndGlyphs\" textLength=\"32\" x=\"116\" y=\"178.1074\">a2: A</text><line style=\"stroke: #383838; stroke-width: 1.5;\" x1=\"111.5\" x2=\"152.5\" y1=\"185.9375\" y2=\"185.9375\"/></a><!--MD5=[2720a5a1f2c3fca2055b230370638851]\n",
       "link E2 to E3--><a href=\"psysml:24dbd283-1078-40f8-9dda-86d7de7bac74\" target=\"_top\" title=\"psysml:24dbd283-1078-40f8-9dda-86d7de7bac74\" xlink:actuate=\"onRequest\" xlink:href=\"psysml:24dbd283-1078-40f8-9dda-86d7de7bac74\" xlink:show=\"new\" xlink:title=\"psysml:24dbd283-1078-40f8-9dda-86d7de7bac74\" xlink:type=\"simple\"><path d=\"M193.65,194.01 C184.14,206.81 171.89,223.3 160.82,238.2 \" fill=\"none\" id=\"E2-&gt;E3\" style=\"stroke: #383838; stroke-width: 1.0;\"/><polygon fill=\"#FFFFFF\" points=\"148.6,254.66,154.3195,235.2361,165.5543,243.5896,148.6,254.66\" style=\"stroke: #383838; stroke-width: 1.0;\"/><ellipse cx=\"159.3256\" cy=\"231.8554\" fill=\"#383838\" rx=\"2\" ry=\"2\" style=\"stroke: #383838; stroke-width: 1.0;\"/><ellipse cx=\"167.3504\" cy=\"237.8221\" fill=\"#383838\" rx=\"2\" ry=\"2\" style=\"stroke: #383838; stroke-width: 1.0;\"/></a><!--MD5=[4672eba38e49728da53d11aeb285b987]\n",
       "reverse link E3 to E4--><a href=\"psysml:9f51e7d9-1020-406a-8433-de0298038040\" target=\"_top\" title=\"psysml:9f51e7d9-1020-406a-8433-de0298038040\" xlink:actuate=\"onRequest\" xlink:href=\"psysml:9f51e7d9-1020-406a-8433-de0298038040\" xlink:show=\"new\" xlink:title=\"psysml:9f51e7d9-1020-406a-8433-de0298038040\" xlink:type=\"simple\"><path d=\"M97.11,310.9 C84.08,325.11 70.81,342.94 64,362 C55.12,386.85 58.09,417.53 61.82,437.88 \" fill=\"none\" id=\"E3&lt;-E4\" style=\"stroke: #383838; stroke-width: 1.0;\"/><polygon fill=\"#383838\" points=\"106.46,301.23,99.4153,302.7703,98.1277,309.8655,105.1724,308.3252,106.46,301.23\" style=\"stroke: #383838; stroke-width: 1.0;\"/><text fill=\"#000000\" font-family=\"sans-serif\" font-size=\"13\" lengthAdjust=\"spacingAndGlyphs\" textLength=\"8\" x=\"51.3529\" y=\"426.744\">1</text></a><!--MD5=[191cde3d490a3f6d7bb551fe3ddca469]\n",
       "reverse link E3 to E5--><a href=\"psysml:7a936c29-0528-4da5-855d-3be7e5f4e113\" target=\"_top\" title=\"psysml:7a936c29-0528-4da5-855d-3be7e5f4e113\" xlink:actuate=\"onRequest\" xlink:href=\"psysml:7a936c29-0528-4da5-855d-3be7e5f4e113\" xlink:show=\"new\" xlink:title=\"psysml:7a936c29-0528-4da5-855d-3be7e5f4e113\" xlink:type=\"simple\"><path d=\"M145.17,313.57 C151.2,329.39 158.16,347.68 163.49,361.66 \" fill=\"none\" id=\"E3&lt;-E5\" style=\"stroke: #383838; stroke-width: 1.0;\"/><polygon fill=\"#FFFFFF\" points=\"140.39,301.01,138.7866,308.0406,144.6598,312.2247,146.2631,305.1941,140.39,301.01\" style=\"stroke: #383838; stroke-width: 1.0;\"/><text fill=\"#000000\" font-family=\"sans-serif\" font-size=\"13\" lengthAdjust=\"spacingAndGlyphs\" textLength=\"8\" x=\"152.2843\" y=\"350.8492\">1</text></a><!--MD5=[79568f1e445c3877b6a54524624ccc7d]\n",
       "link E4 to E6--><a href=\"psysml:860f4e4a-475c-4d3a-a05e-585111d40739\" target=\"_top\" title=\"psysml:860f4e4a-475c-4d3a-a05e-585111d40739\" xlink:actuate=\"onRequest\" xlink:href=\"psysml:860f4e4a-475c-4d3a-a05e-585111d40739\" xlink:show=\"new\" xlink:title=\"psysml:860f4e4a-475c-4d3a-a05e-585111d40739\" xlink:type=\"simple\"><path d=\"M72.9,484.16 C78.52,504.26 87.63,534.55 98,560 C106.11,579.9 116.66,601.27 125.97,619.04 \" fill=\"none\" id=\"E4-&gt;E6\" style=\"stroke: #383838; stroke-width: 1.0;\"/><polygon fill=\"#FFFFFF\" points=\"135.42,636.68,120.2696,623.2463,132.6064,616.628,135.42,636.68\" style=\"stroke: #383838; stroke-width: 1.0;\"/><ellipse cx=\"119.3374\" cy=\"617.2779\" fill=\"#383838\" rx=\"2\" ry=\"2\" style=\"stroke: #383838; stroke-width: 1.0;\"/><ellipse cx=\"128.1494\" cy=\"612.5506\" fill=\"#383838\" rx=\"2\" ry=\"2\" style=\"stroke: #383838; stroke-width: 1.0;\"/></a><!--MD5=[3f50a3473f1dfb74d3f76443e03635af]\n",
       "reverse link E6 to E7--><a href=\"psysml:01396c82-09da-45aa-ba0c-a7dad5741ff2\" target=\"_top\" title=\"psysml:01396c82-09da-45aa-ba0c-a7dad5741ff2\" xlink:actuate=\"onRequest\" xlink:href=\"psysml:01396c82-09da-45aa-ba0c-a7dad5741ff2\" xlink:show=\"new\" xlink:title=\"psysml:01396c82-09da-45aa-ba0c-a7dad5741ff2\" xlink:type=\"simple\"><path d=\"M158.54,695.57 C163.36,711.39 168.93,729.68 173.19,743.66 \" fill=\"none\" id=\"E6&lt;-E7\" style=\"stroke: #383838; stroke-width: 1.0;\"/><polygon fill=\"#383838\" points=\"154.71,683.01,152.6319,689.9152,158.2066,694.4893,160.2847,687.5841,154.71,683.01\" style=\"stroke: #383838; stroke-width: 1.0;\"/><text fill=\"#000000\" font-family=\"sans-serif\" font-size=\"13\" lengthAdjust=\"spacingAndGlyphs\" textLength=\"8\" x=\"162.4199\" y=\"732.8492\">1</text></a><!--MD5=[14ccda38c055a5c0da953d572bc50960]\n",
       "link E7 to E3--><a href=\"psysml:d97708ca-1830-4e5e-bf07-a2aabe0546e8\" target=\"_top\" title=\"psysml:d97708ca-1830-4e5e-bf07-a2aabe0546e8\" xlink:actuate=\"onRequest\" xlink:href=\"psysml:d97708ca-1830-4e5e-bf07-a2aabe0546e8\" xlink:show=\"new\" xlink:title=\"psysml:d97708ca-1830-4e5e-bf07-a2aabe0546e8\" xlink:type=\"simple\"><path d=\"M197.41,743.63 C211.5,723.27 229,691.78 229,661 C229,384 229,384 229,384 C229,353 205.9,327.25 182.25,309.01 \" fill=\"none\" id=\"E7-&gt;E3\" style=\"stroke: #383838; stroke-width: 1.0;\"/><polygon fill=\"#FFFFFF\" points=\"165.65,297.35,185.219,302.5513,177.1671,314.004,165.65,297.35\" style=\"stroke: #383838; stroke-width: 1.0;\"/><ellipse cx=\"188.7317\" cy=\"307.4657\" fill=\"#383838\" rx=\"2\" ry=\"2\" style=\"stroke: #383838; stroke-width: 1.0;\"/><ellipse cx=\"182.9803\" cy=\"315.6462\" fill=\"#383838\" rx=\"2\" ry=\"2\" style=\"stroke: #383838; stroke-width: 1.0;\"/></a><!--MD5=[dfaffb906826c3e5aca635516100ff21]\n",
       "link E5 to E8--><a href=\"psysml:75f754af-bdfa-473b-8cbb-d11c609ad500\" target=\"_top\" title=\"psysml:75f754af-bdfa-473b-8cbb-d11c609ad500\" xlink:actuate=\"onRequest\" xlink:href=\"psysml:75f754af-bdfa-473b-8cbb-d11c609ad500\" xlink:show=\"new\" xlink:title=\"psysml:75f754af-bdfa-473b-8cbb-d11c609ad500\" xlink:type=\"simple\"><path d=\"M168.46,408.13 C164.86,430.62 159.2,466.01 154.74,493.87 \" fill=\"none\" id=\"E5-&gt;E8\" style=\"stroke: #383838; stroke-width: 1.0;\"/><polygon fill=\"#FFFFFF\" points=\"151.56,513.78,147.6458,493.9135,161.4704,496.1226,151.56,513.78\" style=\"stroke: #383838; stroke-width: 1.0;\"/><ellipse cx=\"150.5202\" cy=\"488.6005\" fill=\"#383838\" rx=\"2\" ry=\"2\" style=\"stroke: #383838; stroke-width: 1.0;\"/><ellipse cx=\"160.3949\" cy=\"490.1784\" fill=\"#383838\" rx=\"2\" ry=\"2\" style=\"stroke: #383838; stroke-width: 1.0;\"/></a><!--MD5=[03c8294790d3c57651a1993cecff665f]\n",
       "reverse link E8 to E3--><a href=\"psysml:aa35edca-3910-4cd9-97ff-300d5c8627fc\" target=\"_top\" title=\"psysml:aa35edca-3910-4cd9-97ff-300d5c8627fc\" xlink:actuate=\"onRequest\" xlink:href=\"psysml:aa35edca-3910-4cd9-97ff-300d5c8627fc\" xlink:show=\"new\" xlink:title=\"psysml:aa35edca-3910-4cd9-97ff-300d5c8627fc\" xlink:type=\"simple\"><path d=\"M140.02,501.22 C134.57,475.6 127.84,439.84 125,408 C123.18,387.64 124.14,382.43 125,362 C125.87,341.34 127.95,317.86 129.62,301.16 \" fill=\"none\" id=\"E8&lt;-E3\" style=\"stroke: #383838; stroke-width: 1.0;\"/><polygon fill=\"#FFFFFF\" points=\"142.81,513.96,145.4388,507.2451,140.2515,502.2359,137.6227,508.9508,142.81,513.96\" style=\"stroke: #383838; stroke-width: 1.0;\"/><text fill=\"#000000\" font-family=\"sans-serif\" font-size=\"13\" lengthAdjust=\"spacingAndGlyphs\" textLength=\"7\" x=\"126\" y=\"389.5669\">y</text></a><!--MD5=[0d75d2178373a6a4568e5dc728f58aef]\n",
       "reverse link E8 to E6--><a href=\"psysml:aa35edca-3910-4cd9-97ff-300d5c8627fc\" target=\"_top\" title=\"psysml:aa35edca-3910-4cd9-97ff-300d5c8627fc\" xlink:actuate=\"onRequest\" xlink:href=\"psysml:aa35edca-3910-4cd9-97ff-300d5c8627fc\" xlink:show=\"new\" xlink:title=\"psysml:aa35edca-3910-4cd9-97ff-300d5c8627fc\" xlink:type=\"simple\"><path d=\"M148,573.22 C148,593.81 148,619.16 148,636.95 \" fill=\"none\" id=\"E8&lt;-E6\" style=\"stroke: #383838; stroke-width: 1.0;\"/><polygon fill=\"#FFFFFF\" points=\"148,560.19,144,566.19,148,572.19,152,566.19,148,560.19\" style=\"stroke: #383838; stroke-width: 1.0;\"/><text fill=\"#000000\" font-family=\"sans-serif\" font-size=\"13\" lengthAdjust=\"spacingAndGlyphs\" textLength=\"7\" x=\"149\" y=\"603.0669\">y</text></a><!--MD5=[23ac544a70576c3e717098101004234c]\n",
       "reverse link E9 to E10--><a href=\"psysml:cf1da376-637e-4400-b815-716d62b1c417\" target=\"_top\" title=\"psysml:cf1da376-637e-4400-b815-716d62b1c417\" xlink:actuate=\"onRequest\" xlink:href=\"psysml:cf1da376-637e-4400-b815-716d62b1c417\" xlink:show=\"new\" xlink:title=\"psysml:cf1da376-637e-4400-b815-716d62b1c417\" xlink:type=\"simple\"><path d=\"M83.71,99.1 C77.04,115.03 69.28,133.54 63.36,147.66 \" fill=\"none\" id=\"E9&lt;-E10\" style=\"stroke: #383838; stroke-width: 1.0;\"/><polygon fill=\"#FFFFFF\" points=\"88.78,87.01,82.7702,90.9953,84.1375,98.0756,90.1473,94.0903,88.78,87.01\" style=\"stroke: #383838; stroke-width: 1.0;\"/><text fill=\"#000000\" font-family=\"sans-serif\" font-size=\"13\" lengthAdjust=\"spacingAndGlyphs\" textLength=\"8\" x=\"56.7335\" y=\"136.8492\">1</text></a><!--MD5=[feeac5eb423634930294aa81f2d25a4c]\n",
       "link E10 to E3--><a href=\"psysml:4cf35cfc-841e-4847-875d-1ebad6bb61b9\" target=\"_top\" title=\"psysml:4cf35cfc-841e-4847-875d-1ebad6bb61b9\" xlink:actuate=\"onRequest\" xlink:href=\"psysml:4cf35cfc-841e-4847-875d-1ebad6bb61b9\" xlink:show=\"new\" xlink:title=\"psysml:4cf35cfc-841e-4847-875d-1ebad6bb61b9\" xlink:type=\"simple\"><path d=\"M70.35,194.01 C79.86,206.81 92.11,223.3 103.18,238.2 \" fill=\"none\" id=\"E10-&gt;E3\" style=\"stroke: #383838; stroke-width: 1.0;\"/><polygon fill=\"#FFFFFF\" points=\"115.4,254.66,98.4457,243.5896,109.6805,235.2361,115.4,254.66\" style=\"stroke: #383838; stroke-width: 1.0;\"/><ellipse cx=\"96.6496\" cy=\"237.8221\" fill=\"#383838\" rx=\"2\" ry=\"2\" style=\"stroke: #383838; stroke-width: 1.0;\"/><ellipse cx=\"104.6744\" cy=\"231.8554\" fill=\"#383838\" rx=\"2\" ry=\"2\" style=\"stroke: #383838; stroke-width: 1.0;\"/></a><!--MD5=[1fc04a95fd77ad5ce46c1a3027516051]\n",
       "reverse link E9 to E11--><a href=\"psysml:bd05daaf-8002-489d-bbfa-6134af678ace\" target=\"_top\" title=\"psysml:bd05daaf-8002-489d-bbfa-6134af678ace\" xlink:actuate=\"onRequest\" xlink:href=\"psysml:bd05daaf-8002-489d-bbfa-6134af678ace\" xlink:show=\"new\" xlink:title=\"psysml:bd05daaf-8002-489d-bbfa-6134af678ace\" xlink:type=\"simple\"><path d=\"M109.19,99.57 C114.32,115.39 120.24,133.68 124.76,147.66 \" fill=\"none\" id=\"E9&lt;-E11\" style=\"stroke: #383838; stroke-width: 1.0;\"/><polygon fill=\"#FFFFFF\" points=\"105.13,87.01,103.1699,93.9496,108.8217,98.428,110.7819,91.4884,105.13,87.01\" style=\"stroke: #383838; stroke-width: 1.0;\"/><text fill=\"#000000\" font-family=\"sans-serif\" font-size=\"13\" lengthAdjust=\"spacingAndGlyphs\" textLength=\"8\" x=\"113.8798\" y=\"136.8492\">1</text></a><!--MD5=[0517f1ce58c4d5483948f93845c45e26]\n",
       "link E11 to E3--><a href=\"psysml:31e39f64-1f8d-4b2c-be98-c1459e5d6e94\" target=\"_top\" title=\"psysml:31e39f64-1f8d-4b2c-be98-c1459e5d6e94\" xlink:actuate=\"onRequest\" xlink:href=\"psysml:31e39f64-1f8d-4b2c-be98-c1459e5d6e94\" xlink:show=\"new\" xlink:title=\"psysml:31e39f64-1f8d-4b2c-be98-c1459e5d6e94\" xlink:type=\"simple\"><path d=\"M132,194.01 C132,205.69 132,220.46 132,234.28 \" fill=\"none\" id=\"E11-&gt;E3\" style=\"stroke: #383838; stroke-width: 1.0;\"/><polygon fill=\"#FFFFFF\" points=\"132,254.66,125,235.66,139,235.66,132,254.66\" style=\"stroke: #383838; stroke-width: 1.0;\"/><ellipse cx=\"127\" cy=\"229.96\" fill=\"#383838\" rx=\"2\" ry=\"2\" style=\"stroke: #383838; stroke-width: 1.0;\"/><ellipse cx=\"137\" cy=\"229.96\" fill=\"#383838\" rx=\"2\" ry=\"2\" style=\"stroke: #383838; stroke-width: 1.0;\"/></a><!--MD5=[f1cf00d3c873d931ca7c2b816cd061f3]\n",
       "@startuml\r\n",
       "top to bottom direction\r\n",
       "skinparam monochrome true\r\n",
       "skinparam classbackgroundcolor white\r\n",
       "skinparam shadowing false\r\n",
       "skinparam wrapWidth 300\r\n",
       "hide circle\r\n",
       "\r\n",
       "package \"ItemTest\" as E1  [[psysml:1bc06463-7392-4b34-87d6-1f1d6784670a ]]  {\r\n",
       "comp usage \"f: A\" as E2  <<(T,blue) item>> [[psysml:10e5f196-141c-4ebb-934a-0a8c25223d15 ]] {\r\n",
       "}\r\n",
       "comp def \"A\" as E3  <<(T,blue) item def>> [[psysml:d8185bfd-cc57-4585-aec6-0a59765b9e32 ]] {\r\n",
       "}\r\n",
       "comp usage \"b: B\" as E4  <<(T,blue) item>> [[psysml:867e3ff9-f74d-45bb-974d-3b3d8373197d ]] {\r\n",
       "}\r\n",
       "comp usage \"c: C\" as E5  <<(T,blue) part>> [[psysml:cb0d56cf-7b64-416e-8353-0e76041e55a4 ]] {\r\n",
       "}\r\n",
       "comp def \"B\" as E6  <<(T,blue) item def>> [[psysml:cb468909-38eb-4328-9448-1d282e0fd6a5 ]] {\r\n",
       "}\r\n",
       "comp usage \"a: A\" as E7  <<(T,blue) part>> [[psysml:8d68ea76-8496-4a3a-9bac-3b5e10d4f6d7 ]] {\r\n",
       "}\r\n",
       "comp def \"C\" as E8  <<(T,blue) part def>> [[psysml:3d841289-74ad-422d-b7f3-bdfc719d6361 ]] {\r\n",
       "}\r\n",
       "comp def \"P\" as E9  <<(T,blue) port def>> [[psysml:192666b5-43c5-4ec0-a40a-8ab471017ca3 ]] {\r\n",
       "}\r\n",
       "comp usage \"a1: A\" as E10  <<(T,blue) item>> [[psysml:a2436968-c74d-4c9f-bf2a-127bcc502b4e ]] {\r\n",
       "}\r\n",
       "comp usage \"a2: A\" as E11  <<(T,blue) item>> [[psysml:6388cc28-f9be-476c-ad05-d9ff93971fbb ]] {\r\n",
       "}\r\n",
       "}\r\n",
       "E2 - -:|> E3 [[psysml:24dbd283-1078-40f8-9dda-86d7de7bac74 ]] \r\n",
       "E3 *- - \"1\"E4 [[psysml:9f51e7d9-1020-406a-8433-de0298038040 ]] \r\n",
       "E3 o- - \"1\"E5 [[psysml:7a936c29-0528-4da5-855d-3be7e5f4e113 ]] \r\n",
       "E4 - -:|> E6 [[psysml:860f4e4a-475c-4d3a-a05e-585111d40739 ]] \r\n",
       "E6 *- - \"1\"E7 [[psysml:01396c82-09da-45aa-ba0c-a7dad5741ff2 ]] \r\n",
       "E7 - -:|> E3 [[psysml:d97708ca-1830-4e5e-bf07-a2aabe0546e8 ]] \r\n",
       "E5 - -:|> E8 [[psysml:75f754af-bdfa-473b-8cbb-d11c609ad500 ]] \r\n",
       "E8 o- - E3 [[psysml:aa35edca-3910-4cd9-97ff-300d5c8627fc ]] : y\r\n",
       "E8 o- - E6 [[psysml:aa35edca-3910-4cd9-97ff-300d5c8627fc ]] : y\r\n",
       "E9 o- - \"1\"E10 [[psysml:cf1da376-637e-4400-b815-716d62b1c417 ]] \r\n",
       "E10 - -:|> E3 [[psysml:4cf35cfc-841e-4847-875d-1ebad6bb61b9 ]] \r\n",
       "E9 o- - \"1\"E11 [[psysml:bd05daaf-8002-489d-bbfa-6134af678ace ]] \r\n",
       "E11 - -:|> E3 [[psysml:31e39f64-1f8d-4b2c-be98-c1459e5d6e94 ]] \r\n",
       "@enduml\r\n",
       "\n",
       "PlantUML version 1.2020.13(Sat Jun 13 12:26:38 UTC 2020)\n",
       "(EPL source distribution)\n",
       "Java Runtime: OpenJDK Runtime Environment\n",
       "JVM: OpenJDK 64-Bit Server VM\n",
       "Default Encoding: UTF-8\n",
       "Language: en\n",
       "Country: null\n",
       "--></g></svg>"
      ]
     },
     "execution_count": 45,
     "metadata": {},
     "output_type": "execute_result"
    }
   ],
   "source": [
    "%viz --style=\"TB\" --view=\"Tree\" \"ItemTest\""
   ]
  },
  {
   "cell_type": "code",
   "execution_count": 46,
   "id": "87b0f53b",
   "metadata": {
    "execution": {
     "iopub.execute_input": "2021-10-03T08:27:29.789204Z",
     "iopub.status.busy": "2021-10-03T08:27:29.788808Z",
     "iopub.status.idle": "2021-10-03T08:27:29.793612Z",
     "shell.execute_reply": "2021-10-03T08:27:29.793284Z"
    }
   },
   "outputs": [
    {
     "data": {
      "image/svg+xml": [
       "<?xml version=\"1.0\" encoding=\"UTF-8\" standalone=\"no\"?><svg xmlns=\"http://www.w3.org/2000/svg\" xmlns:xlink=\"http://www.w3.org/1999/xlink\" contentScriptType=\"application/ecmascript\" contentStyleType=\"text/css\" height=\"12px\" preserveAspectRatio=\"none\" style=\"width:12px;height:12px;\" version=\"1.1\" viewBox=\"0 0 12 12\" width=\"12px\" zoomAndPan=\"magnify\"><defs/><g><!--MD5=[f4ee21bc66e489b5061b7c3e9601fdef]\n",
       "@startuml\r\n",
       "top to bottom direction\r\n",
       "skinparam monochrome true\r\n",
       "skinparam classbackgroundcolor white\r\n",
       "skinparam shadowing false\r\n",
       "skinparam wrapWidth 300\r\n",
       "hide circle\r\n",
       "\r\n",
       "@enduml\r\n",
       "\n",
       "PlantUML version 1.2020.13(Sat Jun 13 12:26:38 UTC 2020)\n",
       "(EPL source distribution)\n",
       "Java Runtime: OpenJDK Runtime Environment\n",
       "JVM: OpenJDK 64-Bit Server VM\n",
       "Default Encoding: UTF-8\n",
       "Language: en\n",
       "Country: null\n",
       "--></g></svg>"
      ]
     },
     "execution_count": 46,
     "metadata": {},
     "output_type": "execute_result"
    }
   ],
   "source": [
    "%viz --style=\"TB\" --view=\"State\" \"ItemTest\""
   ]
  },
  {
   "cell_type": "code",
   "execution_count": 47,
   "id": "97244e48",
   "metadata": {
    "execution": {
     "iopub.execute_input": "2021-10-03T08:27:29.843059Z",
     "iopub.status.busy": "2021-10-03T08:27:29.842664Z",
     "iopub.status.idle": "2021-10-03T08:27:29.867710Z",
     "shell.execute_reply": "2021-10-03T08:27:29.867365Z"
    }
   },
   "outputs": [
    {
     "data": {
      "image/svg+xml": [
       "<?xml version=\"1.0\" encoding=\"UTF-8\" standalone=\"no\"?><svg xmlns=\"http://www.w3.org/2000/svg\" xmlns:xlink=\"http://www.w3.org/1999/xlink\" contentScriptType=\"application/ecmascript\" contentStyleType=\"text/css\" height=\"112px\" preserveAspectRatio=\"none\" style=\"width:548px;height:112px;\" version=\"1.1\" viewBox=\"0 0 548 112\" width=\"548px\" zoomAndPan=\"magnify\"><defs/><g><!--MD5=[fbc87193dbaf4d95561dea2c320d4a47]\n",
       "cluster E1--><a href=\"psysml:1bc06463-7392-4b34-87d6-1f1d6784670a\" target=\"_top\" title=\"psysml:1bc06463-7392-4b34-87d6-1f1d6784670a\" xlink:actuate=\"onRequest\" xlink:href=\"psysml:1bc06463-7392-4b34-87d6-1f1d6784670a\" xlink:show=\"new\" xlink:title=\"psysml:1bc06463-7392-4b34-87d6-1f1d6784670a\" xlink:type=\"simple\"><polygon fill=\"#FFFFFF\" points=\"16,6,83,6,90,28.2969,526,28.2969,526,100,16,100,16,6\" style=\"stroke: #000000; stroke-width: 1.5;\"/><line style=\"stroke: #000000; stroke-width: 1.5;\" x1=\"16\" x2=\"90\" y1=\"28.2969\" y2=\"28.2969\"/><text fill=\"#000000\" font-family=\"sans-serif\" font-size=\"14\" font-weight=\"bold\" lengthAdjust=\"spacingAndGlyphs\" textLength=\"61\" x=\"20\" y=\"20.9951\">ItemTest</text></a><g id=\"E1.E3\"><a href=\"psysml:d8185bfd-cc57-4585-aec6-0a59765b9e32\" target=\"_top\" title=\"psysml:d8185bfd-cc57-4585-aec6-0a59765b9e32\" xlink:actuate=\"onRequest\" xlink:href=\"psysml:d8185bfd-cc57-4585-aec6-0a59765b9e32\" xlink:show=\"new\" xlink:title=\"psysml:d8185bfd-cc57-4585-aec6-0a59765b9e32\" xlink:type=\"simple\"><rect fill=\"#FFFFFF\" height=\"42.9375\" id=\"E3\" style=\"stroke: #383838; stroke-width: 1.5;\" width=\"72\" x=\"438\" y=\"41\"/><rect fill=\"#F8F8F8\" height=\"37.9375\" style=\"stroke: #383838; stroke-width: 1.5;\" width=\"72\" x=\"438\" y=\"41\"/><text fill=\"#000000\" font-family=\"sans-serif\" font-size=\"12\" font-style=\"italic\" lengthAdjust=\"spacingAndGlyphs\" textLength=\"65\" x=\"441.5\" y=\"57.1387\">«item def»</text><text fill=\"#000000\" font-family=\"sans-serif\" font-size=\"12\" lengthAdjust=\"spacingAndGlyphs\" textLength=\"8\" x=\"470\" y=\"71.1074\">A</text></a></g><g id=\"E1.E4\"><a href=\"psysml:cb468909-38eb-4328-9448-1d282e0fd6a5\" target=\"_top\" title=\"psysml:cb468909-38eb-4328-9448-1d282e0fd6a5\" xlink:actuate=\"onRequest\" xlink:href=\"psysml:cb468909-38eb-4328-9448-1d282e0fd6a5\" xlink:show=\"new\" xlink:title=\"psysml:cb468909-38eb-4328-9448-1d282e0fd6a5\" xlink:type=\"simple\"><rect fill=\"#FFFFFF\" height=\"42.9375\" id=\"E4\" style=\"stroke: #383838; stroke-width: 1.5;\" width=\"72\" x=\"331\" y=\"41\"/><rect fill=\"#F8F8F8\" height=\"37.9375\" style=\"stroke: #383838; stroke-width: 1.5;\" width=\"72\" x=\"331\" y=\"41\"/><text fill=\"#000000\" font-family=\"sans-serif\" font-size=\"12\" font-style=\"italic\" lengthAdjust=\"spacingAndGlyphs\" textLength=\"65\" x=\"334.5\" y=\"57.1387\">«item def»</text><text fill=\"#000000\" font-family=\"sans-serif\" font-size=\"12\" lengthAdjust=\"spacingAndGlyphs\" textLength=\"8\" x=\"363\" y=\"71.1074\">B</text></a></g><g id=\"E1.E6\"><a href=\"psysml:192666b5-43c5-4ec0-a40a-8ab471017ca3\" target=\"_top\" title=\"psysml:192666b5-43c5-4ec0-a40a-8ab471017ca3\" xlink:actuate=\"onRequest\" xlink:href=\"psysml:192666b5-43c5-4ec0-a40a-8ab471017ca3\" xlink:show=\"new\" xlink:title=\"psysml:192666b5-43c5-4ec0-a40a-8ab471017ca3\" xlink:type=\"simple\"><rect fill=\"#FFFFFF\" height=\"42.9375\" id=\"E6\" style=\"stroke: #383838; stroke-width: 1.5;\" width=\"71\" x=\"224.5\" y=\"41\"/><rect fill=\"#F8F8F8\" height=\"37.9375\" style=\"stroke: #383838; stroke-width: 1.5;\" width=\"71\" x=\"224.5\" y=\"41\"/><text fill=\"#000000\" font-family=\"sans-serif\" font-size=\"12\" font-style=\"italic\" lengthAdjust=\"spacingAndGlyphs\" textLength=\"64\" x=\"228\" y=\"57.1387\">«port def»</text><text fill=\"#000000\" font-family=\"sans-serif\" font-size=\"12\" lengthAdjust=\"spacingAndGlyphs\" textLength=\"8\" x=\"256\" y=\"71.1074\">P</text></a></g><g id=\"E1.E2\"><a href=\"psysml:10e5f196-141c-4ebb-934a-0a8c25223d15\" target=\"_top\" title=\"psysml:10e5f196-141c-4ebb-934a-0a8c25223d15\" xlink:actuate=\"onRequest\" xlink:href=\"psysml:10e5f196-141c-4ebb-934a-0a8c25223d15\" xlink:show=\"new\" xlink:title=\"psysml:10e5f196-141c-4ebb-934a-0a8c25223d15\" xlink:type=\"simple\"><rect fill=\"#FFFFFF\" height=\"42.9375\" id=\"E2\" rx=\"10\" ry=\"10\" style=\"stroke: #383838; stroke-width: 1.5;\" width=\"50\" x=\"139\" y=\"41\"/><rect fill=\"#F8F8F8\" height=\"37.9375\" rx=\"10\" ry=\"10\" style=\"stroke: #F8F8F8; stroke-width: 1.5;\" width=\"50\" x=\"139\" y=\"41\"/><rect fill=\"#F8F8F8\" height=\"10\" style=\"stroke: #F8F8F8; stroke-width: 1.5;\" width=\"50\" x=\"139\" y=\"68.9375\"/><rect fill=\"none\" height=\"42.9375\" id=\"E2\" rx=\"10\" ry=\"10\" style=\"stroke: #383838; stroke-width: 1.5;\" width=\"50\" x=\"139\" y=\"41\"/><text fill=\"#000000\" font-family=\"sans-serif\" font-size=\"12\" font-style=\"italic\" lengthAdjust=\"spacingAndGlyphs\" textLength=\"41\" x=\"143.5\" y=\"57.1387\">«item»</text><text fill=\"#000000\" font-family=\"sans-serif\" font-size=\"12\" lengthAdjust=\"spacingAndGlyphs\" textLength=\"20\" x=\"154\" y=\"71.1074\">f: A</text></a></g><g id=\"E1.E5\"><a href=\"psysml:3d841289-74ad-422d-b7f3-bdfc719d6361\" target=\"_top\" title=\"psysml:3d841289-74ad-422d-b7f3-bdfc719d6361\" xlink:actuate=\"onRequest\" xlink:href=\"psysml:3d841289-74ad-422d-b7f3-bdfc719d6361\" xlink:show=\"new\" xlink:title=\"psysml:3d841289-74ad-422d-b7f3-bdfc719d6361\" xlink:type=\"simple\"><rect fill=\"#FFFFFF\" height=\"42.9375\" id=\"E5\" style=\"stroke: #383838; stroke-width: 1.5;\" width=\"71\" x=\"32.5\" y=\"41\"/><rect fill=\"#F8F8F8\" height=\"37.9375\" style=\"stroke: #383838; stroke-width: 1.5;\" width=\"71\" x=\"32.5\" y=\"41\"/><text fill=\"#000000\" font-family=\"sans-serif\" font-size=\"12\" font-style=\"italic\" lengthAdjust=\"spacingAndGlyphs\" textLength=\"64\" x=\"36\" y=\"57.1387\">«part def»</text><text fill=\"#000000\" font-family=\"sans-serif\" font-size=\"12\" lengthAdjust=\"spacingAndGlyphs\" textLength=\"8\" x=\"64\" y=\"71.1074\">C</text></a></g><!--MD5=[2689e9c465d97b2f134c6dea3463128d]\n",
       "@startuml\r\n",
       "skinparam ranksep 10\r\n",
       "skinparam rectangle {\r\n",
       " backgroundColor<<block>> LightGreen\r\n",
       "}\r\n",
       "top to bottom direction\r\n",
       "skinparam monochrome true\r\n",
       "skinparam classbackgroundcolor white\r\n",
       "skinparam shadowing false\r\n",
       "skinparam wrapWidth 300\r\n",
       "hide circle\r\n",
       "\r\n",
       "package \"ItemTest\" as E1  [[psysml:1bc06463-7392-4b34-87d6-1f1d6784670a ]]  {\r\n",
       "rec usage \"f: A\" as E2  <<(T,blue) item>> [[psysml:10e5f196-141c-4ebb-934a-0a8c25223d15 ]] {\r\n",
       "}\r\n",
       "def \"A\" as E3  <<(T,blue) item def>> [[psysml:d8185bfd-cc57-4585-aec6-0a59765b9e32 ]] \r\n",
       "def \"B\" as E4  <<(T,blue) item def>> [[psysml:cb468909-38eb-4328-9448-1d282e0fd6a5 ]] \r\n",
       "rec def \"C\" as E5  <<(T,blue) part def>> [[psysml:3d841289-74ad-422d-b7f3-bdfc719d6361 ]] {\r\n",
       "}\r\n",
       "def \"P\" as E6  <<(T,blue) port def>> [[psysml:192666b5-43c5-4ec0-a40a-8ab471017ca3 ]] \r\n",
       "}\r\n",
       "@enduml\r\n",
       "\n",
       "PlantUML version 1.2020.13(Sat Jun 13 12:26:38 UTC 2020)\n",
       "(EPL source distribution)\n",
       "Java Runtime: OpenJDK Runtime Environment\n",
       "JVM: OpenJDK 64-Bit Server VM\n",
       "Default Encoding: UTF-8\n",
       "Language: en\n",
       "Country: null\n",
       "--></g></svg>"
      ]
     },
     "execution_count": 47,
     "metadata": {},
     "output_type": "execute_result"
    }
   ],
   "source": [
    "%viz --style=\"TB\" --view=\"Interconnection\" \"ItemTest\""
   ]
  },
  {
   "cell_type": "code",
   "execution_count": 48,
   "id": "abdfb0e9",
   "metadata": {
    "execution": {
     "iopub.execute_input": "2021-10-03T08:27:29.917191Z",
     "iopub.status.busy": "2021-10-03T08:27:29.916779Z",
     "iopub.status.idle": "2021-10-03T08:27:29.921437Z",
     "shell.execute_reply": "2021-10-03T08:27:29.921748Z"
    }
   },
   "outputs": [
    {
     "data": {
      "image/svg+xml": [
       "<?xml version=\"1.0\" encoding=\"UTF-8\" standalone=\"no\"?><svg xmlns=\"http://www.w3.org/2000/svg\" xmlns:xlink=\"http://www.w3.org/1999/xlink\" contentScriptType=\"application/ecmascript\" contentStyleType=\"text/css\" height=\"12px\" preserveAspectRatio=\"none\" style=\"width:12px;height:12px;\" version=\"1.1\" viewBox=\"0 0 12 12\" width=\"12px\" zoomAndPan=\"magnify\"><defs/><g><!--MD5=[06afc254b03ac5e9d9fb7773b07d0800]\n",
       "@startuml\r\n",
       "skinparam ranksep 8\r\n",
       "top to bottom direction\r\n",
       "skinparam monochrome true\r\n",
       "skinparam classbackgroundcolor white\r\n",
       "skinparam shadowing false\r\n",
       "skinparam wrapWidth 300\r\n",
       "hide circle\r\n",
       "\r\n",
       "@enduml\r\n",
       "\n",
       "PlantUML version 1.2020.13(Sat Jun 13 12:26:38 UTC 2020)\n",
       "(EPL source distribution)\n",
       "Java Runtime: OpenJDK Runtime Environment\n",
       "JVM: OpenJDK 64-Bit Server VM\n",
       "Default Encoding: UTF-8\n",
       "Language: en\n",
       "Country: null\n",
       "--></g></svg>"
      ]
     },
     "execution_count": 48,
     "metadata": {},
     "output_type": "execute_result"
    }
   ],
   "source": [
    "%viz --style=\"TB\" --view=\"Action\" \"ItemTest\""
   ]
  },
  {
   "cell_type": "code",
   "execution_count": 49,
   "id": "6436e09b",
   "metadata": {
    "execution": {
     "iopub.execute_input": "2021-10-03T08:27:29.971584Z",
     "iopub.status.busy": "2021-10-03T08:27:29.971191Z",
     "iopub.status.idle": "2021-10-03T08:27:29.976276Z",
     "shell.execute_reply": "2021-10-03T08:27:29.976566Z"
    }
   },
   "outputs": [
    {
     "data": {
      "image/svg+xml": [
       "<?xml version=\"1.0\" encoding=\"UTF-8\" standalone=\"no\"?><svg xmlns=\"http://www.w3.org/2000/svg\" xmlns:xlink=\"http://www.w3.org/1999/xlink\" contentScriptType=\"application/ecmascript\" contentStyleType=\"text/css\" height=\"12px\" preserveAspectRatio=\"none\" style=\"width:12px;height:12px;\" version=\"1.1\" viewBox=\"0 0 12 12\" width=\"12px\" zoomAndPan=\"magnify\"><defs/><g><!--MD5=[e1ab0c84c44d2fef8bf5f140f2689906]\n",
       "@startuml\r\n",
       "skinparam roundcorner 20\r\n",
       "skinparam BoxPadding 20\r\n",
       "skinparam SequenceBoxBackgroundColor #white\r\n",
       "skinparam style strictuml\r\n",
       "skinparam maxMessageSize 100\r\n",
       "top to bottom direction\r\n",
       "skinparam monochrome true\r\n",
       "skinparam classbackgroundcolor white\r\n",
       "skinparam shadowing false\r\n",
       "skinparam wrapWidth 300\r\n",
       "hide circle\r\n",
       "\r\n",
       "@enduml\r\n",
       "\n",
       "PlantUML version 1.2020.13(Sat Jun 13 12:26:38 UTC 2020)\n",
       "(EPL source distribution)\n",
       "Java Runtime: OpenJDK Runtime Environment\n",
       "JVM: OpenJDK 64-Bit Server VM\n",
       "Default Encoding: UTF-8\n",
       "Language: en\n",
       "Country: null\n",
       "--></g></svg>"
      ]
     },
     "execution_count": 49,
     "metadata": {},
     "output_type": "execute_result"
    }
   ],
   "source": [
    "%viz --style=\"TB\" --view=\"Sequence\" \"ItemTest\""
   ]
  },
  {
   "cell_type": "code",
   "execution_count": 50,
   "id": "624f1b7b",
   "metadata": {
    "execution": {
     "iopub.execute_input": "2021-10-03T08:27:30.026288Z",
     "iopub.status.busy": "2021-10-03T08:27:30.025888Z",
     "iopub.status.idle": "2021-10-03T08:27:30.067688Z",
     "shell.execute_reply": "2021-10-03T08:27:30.065781Z"
    }
   },
   "outputs": [
    {
     "data": {
      "image/svg+xml": [
       "<?xml version=\"1.0\" encoding=\"UTF-8\" standalone=\"no\"?><svg xmlns=\"http://www.w3.org/2000/svg\" xmlns:xlink=\"http://www.w3.org/1999/xlink\" contentScriptType=\"application/ecmascript\" contentStyleType=\"text/css\" height=\"818px\" preserveAspectRatio=\"none\" style=\"width:270px;height:818px;\" version=\"1.1\" viewBox=\"0 0 270 818\" width=\"270px\" zoomAndPan=\"magnify\"><defs/><g><!--MD5=[fbc87193dbaf4d95561dea2c320d4a47]\n",
       "cluster E1--><a href=\"psysml:1bc06463-7392-4b34-87d6-1f1d6784670a\" target=\"_top\" title=\"psysml:1bc06463-7392-4b34-87d6-1f1d6784670a\" xlink:actuate=\"onRequest\" xlink:href=\"psysml:1bc06463-7392-4b34-87d6-1f1d6784670a\" xlink:show=\"new\" xlink:title=\"psysml:1bc06463-7392-4b34-87d6-1f1d6784670a\" xlink:type=\"simple\"><polygon fill=\"#FFFFFF\" points=\"16,6,83,6,90,28.2969,248,28.2969,248,806,16,806,16,6\" style=\"stroke: #000000; stroke-width: 1.5;\"/><line style=\"stroke: #000000; stroke-width: 1.5;\" x1=\"16\" x2=\"90\" y1=\"28.2969\" y2=\"28.2969\"/><text fill=\"#000000\" font-family=\"sans-serif\" font-size=\"14\" font-weight=\"bold\" lengthAdjust=\"spacingAndGlyphs\" textLength=\"61\" x=\"20\" y=\"20.9951\">ItemTest</text></a><!--MD5=[b4997ac47864f28c2f74865a473b2911]\n",
       "class E2--><a href=\"psysml:10e5f196-141c-4ebb-934a-0a8c25223d15\" target=\"_top\" title=\"psysml:10e5f196-141c-4ebb-934a-0a8c25223d15\" xlink:actuate=\"onRequest\" xlink:href=\"psysml:10e5f196-141c-4ebb-934a-0a8c25223d15\" xlink:show=\"new\" xlink:title=\"psysml:10e5f196-141c-4ebb-934a-0a8c25223d15\" xlink:type=\"simple\"><rect fill=\"#FFFFFF\" height=\"45.9375\" id=\"E2\" rx=\"10\" ry=\"10\" style=\"stroke: #383838; stroke-width: 1.5;\" width=\"43\" x=\"188.5\" y=\"148\"/><text fill=\"#000000\" font-family=\"sans-serif\" font-size=\"12\" font-style=\"italic\" lengthAdjust=\"spacingAndGlyphs\" textLength=\"41\" x=\"189.5\" y=\"164.1387\">«item»</text><text fill=\"#000000\" font-family=\"sans-serif\" font-size=\"12\" lengthAdjust=\"spacingAndGlyphs\" textLength=\"20\" x=\"200\" y=\"178.1074\">f: A</text><line style=\"stroke: #383838; stroke-width: 1.5;\" x1=\"189.5\" x2=\"230.5\" y1=\"185.9375\" y2=\"185.9375\"/></a><!--MD5=[09b614a08d8cba4a07c9adeb5e0fee81]\n",
       "class E3--><a href=\"psysml:d8185bfd-cc57-4585-aec6-0a59765b9e32\" target=\"_top\" title=\"psysml:d8185bfd-cc57-4585-aec6-0a59765b9e32\" xlink:actuate=\"onRequest\" xlink:href=\"psysml:d8185bfd-cc57-4585-aec6-0a59765b9e32\" xlink:show=\"new\" xlink:title=\"psysml:d8185bfd-cc57-4585-aec6-0a59765b9e32\" xlink:type=\"simple\"><rect fill=\"#FFFFFF\" height=\"45.9375\" id=\"E3\" style=\"stroke: #383838; stroke-width: 1.5;\" width=\"67\" x=\"98.5\" y=\"255\"/><text fill=\"#000000\" font-family=\"sans-serif\" font-size=\"12\" font-style=\"italic\" lengthAdjust=\"spacingAndGlyphs\" textLength=\"65\" x=\"99.5\" y=\"271.1387\">«item def»</text><text fill=\"#000000\" font-family=\"sans-serif\" font-size=\"12\" lengthAdjust=\"spacingAndGlyphs\" textLength=\"8\" x=\"128\" y=\"285.1074\">A</text><line style=\"stroke: #383838; stroke-width: 1.5;\" x1=\"99.5\" x2=\"164.5\" y1=\"292.9375\" y2=\"292.9375\"/></a><!--MD5=[ebbe1d658d1005bcc118a6aa81145e00]\n",
       "class E4--><a href=\"psysml:867e3ff9-f74d-45bb-974d-3b3d8373197d\" target=\"_top\" title=\"psysml:867e3ff9-f74d-45bb-974d-3b3d8373197d\" xlink:actuate=\"onRequest\" xlink:href=\"psysml:867e3ff9-f74d-45bb-974d-3b3d8373197d\" xlink:show=\"new\" xlink:title=\"psysml:867e3ff9-f74d-45bb-974d-3b3d8373197d\" xlink:type=\"simple\"><rect fill=\"#FFFFFF\" height=\"45.9375\" id=\"E4\" rx=\"10\" ry=\"10\" style=\"stroke: #383838; stroke-width: 1.5;\" width=\"43\" x=\"45.5\" y=\"438\"/><text fill=\"#000000\" font-family=\"sans-serif\" font-size=\"12\" font-style=\"italic\" lengthAdjust=\"spacingAndGlyphs\" textLength=\"41\" x=\"46.5\" y=\"454.1387\">«item»</text><text fill=\"#000000\" font-family=\"sans-serif\" font-size=\"12\" lengthAdjust=\"spacingAndGlyphs\" textLength=\"24\" x=\"55\" y=\"468.1074\">b: B</text><line style=\"stroke: #383838; stroke-width: 1.5;\" x1=\"46.5\" x2=\"87.5\" y1=\"475.9375\" y2=\"475.9375\"/></a><!--MD5=[270fce915f116d4de14055a7c1d9a0f3]\n",
       "class E5--><a href=\"psysml:cb0d56cf-7b64-416e-8353-0e76041e55a4\" target=\"_top\" title=\"psysml:cb0d56cf-7b64-416e-8353-0e76041e55a4\" xlink:actuate=\"onRequest\" xlink:href=\"psysml:cb0d56cf-7b64-416e-8353-0e76041e55a4\" xlink:show=\"new\" xlink:title=\"psysml:cb0d56cf-7b64-416e-8353-0e76041e55a4\" xlink:type=\"simple\"><rect fill=\"#FFFFFF\" height=\"45.9375\" id=\"E5\" rx=\"10\" ry=\"10\" style=\"stroke: #383838; stroke-width: 1.5;\" width=\"42\" x=\"151\" y=\"362\"/><text fill=\"#000000\" font-family=\"sans-serif\" font-size=\"12\" font-style=\"italic\" lengthAdjust=\"spacingAndGlyphs\" textLength=\"40\" x=\"152\" y=\"378.1387\">«part»</text><text fill=\"#000000\" font-family=\"sans-serif\" font-size=\"12\" lengthAdjust=\"spacingAndGlyphs\" textLength=\"23\" x=\"160.5\" y=\"392.1074\">c: C</text><line style=\"stroke: #383838; stroke-width: 1.5;\" x1=\"152\" x2=\"192\" y1=\"399.9375\" y2=\"399.9375\"/></a><!--MD5=[60a26617385b1d2d0262a64233df1f8d]\n",
       "class E6--><a href=\"psysml:cb468909-38eb-4328-9448-1d282e0fd6a5\" target=\"_top\" title=\"psysml:cb468909-38eb-4328-9448-1d282e0fd6a5\" xlink:actuate=\"onRequest\" xlink:href=\"psysml:cb468909-38eb-4328-9448-1d282e0fd6a5\" xlink:show=\"new\" xlink:title=\"psysml:cb468909-38eb-4328-9448-1d282e0fd6a5\" xlink:type=\"simple\"><rect fill=\"#FFFFFF\" height=\"45.9375\" id=\"E6\" style=\"stroke: #383838; stroke-width: 1.5;\" width=\"67\" x=\"114.5\" y=\"637\"/><text fill=\"#000000\" font-family=\"sans-serif\" font-size=\"12\" font-style=\"italic\" lengthAdjust=\"spacingAndGlyphs\" textLength=\"65\" x=\"115.5\" y=\"653.1387\">«item def»</text><text fill=\"#000000\" font-family=\"sans-serif\" font-size=\"12\" lengthAdjust=\"spacingAndGlyphs\" textLength=\"8\" x=\"144\" y=\"667.1074\">B</text><line style=\"stroke: #383838; stroke-width: 1.5;\" x1=\"115.5\" x2=\"180.5\" y1=\"674.9375\" y2=\"674.9375\"/></a><!--MD5=[2156ba9850f5573cc1fc38a6a4b2f02b]\n",
       "class E7--><a href=\"psysml:8d68ea76-8496-4a3a-9bac-3b5e10d4f6d7\" target=\"_top\" title=\"psysml:8d68ea76-8496-4a3a-9bac-3b5e10d4f6d7\" xlink:actuate=\"onRequest\" xlink:href=\"psysml:8d68ea76-8496-4a3a-9bac-3b5e10d4f6d7\" xlink:show=\"new\" xlink:title=\"psysml:8d68ea76-8496-4a3a-9bac-3b5e10d4f6d7\" xlink:type=\"simple\"><rect fill=\"#FFFFFF\" height=\"45.9375\" id=\"E7\" rx=\"10\" ry=\"10\" style=\"stroke: #383838; stroke-width: 1.5;\" width=\"42\" x=\"159\" y=\"744\"/><text fill=\"#000000\" font-family=\"sans-serif\" font-size=\"12\" font-style=\"italic\" lengthAdjust=\"spacingAndGlyphs\" textLength=\"40\" x=\"160\" y=\"760.1387\">«part»</text><text fill=\"#000000\" font-family=\"sans-serif\" font-size=\"12\" lengthAdjust=\"spacingAndGlyphs\" textLength=\"24\" x=\"168\" y=\"774.1074\">a: A</text><line style=\"stroke: #383838; stroke-width: 1.5;\" x1=\"160\" x2=\"200\" y1=\"781.9375\" y2=\"781.9375\"/></a><!--MD5=[b9389687b975829384b498ac4b7476b2]\n",
       "class E8--><a href=\"psysml:3d841289-74ad-422d-b7f3-bdfc719d6361\" target=\"_top\" title=\"psysml:3d841289-74ad-422d-b7f3-bdfc719d6361\" xlink:actuate=\"onRequest\" xlink:href=\"psysml:3d841289-74ad-422d-b7f3-bdfc719d6361\" xlink:show=\"new\" xlink:title=\"psysml:3d841289-74ad-422d-b7f3-bdfc719d6361\" xlink:type=\"simple\"><rect fill=\"#FFFFFF\" height=\"45.9375\" id=\"E8\" style=\"stroke: #383838; stroke-width: 1.5;\" width=\"66\" x=\"115\" y=\"514\"/><text fill=\"#000000\" font-family=\"sans-serif\" font-size=\"12\" font-style=\"italic\" lengthAdjust=\"spacingAndGlyphs\" textLength=\"64\" x=\"116\" y=\"530.1387\">«part def»</text><text fill=\"#000000\" font-family=\"sans-serif\" font-size=\"12\" lengthAdjust=\"spacingAndGlyphs\" textLength=\"8\" x=\"144\" y=\"544.1074\">C</text><line style=\"stroke: #383838; stroke-width: 1.5;\" x1=\"116\" x2=\"180\" y1=\"551.9375\" y2=\"551.9375\"/></a><!--MD5=[fd4143e9d270a159db93a4ea2a975926]\n",
       "class E9--><a href=\"psysml:192666b5-43c5-4ec0-a40a-8ab471017ca3\" target=\"_top\" title=\"psysml:192666b5-43c5-4ec0-a40a-8ab471017ca3\" xlink:actuate=\"onRequest\" xlink:href=\"psysml:192666b5-43c5-4ec0-a40a-8ab471017ca3\" xlink:show=\"new\" xlink:title=\"psysml:192666b5-43c5-4ec0-a40a-8ab471017ca3\" xlink:type=\"simple\"><rect fill=\"#FFFFFF\" height=\"45.9375\" id=\"E9\" style=\"stroke: #383838; stroke-width: 1.5;\" width=\"66\" x=\"65\" y=\"41\"/><text fill=\"#000000\" font-family=\"sans-serif\" font-size=\"12\" font-style=\"italic\" lengthAdjust=\"spacingAndGlyphs\" textLength=\"64\" x=\"66\" y=\"57.1387\">«port def»</text><text fill=\"#000000\" font-family=\"sans-serif\" font-size=\"12\" lengthAdjust=\"spacingAndGlyphs\" textLength=\"8\" x=\"94\" y=\"71.1074\">P</text><line style=\"stroke: #383838; stroke-width: 1.5;\" x1=\"66\" x2=\"130\" y1=\"78.9375\" y2=\"78.9375\"/></a><!--MD5=[96f4274e9e20536e775497830990834d]\n",
       "class E10--><a href=\"psysml:a2436968-c74d-4c9f-bf2a-127bcc502b4e\" target=\"_top\" title=\"psysml:a2436968-c74d-4c9f-bf2a-127bcc502b4e\" xlink:actuate=\"onRequest\" xlink:href=\"psysml:a2436968-c74d-4c9f-bf2a-127bcc502b4e\" xlink:show=\"new\" xlink:title=\"psysml:a2436968-c74d-4c9f-bf2a-127bcc502b4e\" xlink:type=\"simple\"><rect fill=\"#FFFFFF\" height=\"45.9375\" id=\"E10\" rx=\"10\" ry=\"10\" style=\"stroke: #383838; stroke-width: 1.5;\" width=\"43\" x=\"32.5\" y=\"148\"/><text fill=\"#000000\" font-family=\"sans-serif\" font-size=\"12\" font-style=\"italic\" lengthAdjust=\"spacingAndGlyphs\" textLength=\"41\" x=\"33.5\" y=\"164.1387\">«item»</text><text fill=\"#000000\" font-family=\"sans-serif\" font-size=\"12\" lengthAdjust=\"spacingAndGlyphs\" textLength=\"32\" x=\"38\" y=\"178.1074\">a1: A</text><line style=\"stroke: #383838; stroke-width: 1.5;\" x1=\"33.5\" x2=\"74.5\" y1=\"185.9375\" y2=\"185.9375\"/></a><!--MD5=[1dd1bfd58a279cf63c5f349dbc8fc6a1]\n",
       "class E11--><a href=\"psysml:6388cc28-f9be-476c-ad05-d9ff93971fbb\" target=\"_top\" title=\"psysml:6388cc28-f9be-476c-ad05-d9ff93971fbb\" xlink:actuate=\"onRequest\" xlink:href=\"psysml:6388cc28-f9be-476c-ad05-d9ff93971fbb\" xlink:show=\"new\" xlink:title=\"psysml:6388cc28-f9be-476c-ad05-d9ff93971fbb\" xlink:type=\"simple\"><rect fill=\"#FFFFFF\" height=\"45.9375\" id=\"E11\" rx=\"10\" ry=\"10\" style=\"stroke: #383838; stroke-width: 1.5;\" width=\"43\" x=\"110.5\" y=\"148\"/><text fill=\"#000000\" font-family=\"sans-serif\" font-size=\"12\" font-style=\"italic\" lengthAdjust=\"spacingAndGlyphs\" textLength=\"41\" x=\"111.5\" y=\"164.1387\">«item»</text><text fill=\"#000000\" font-family=\"sans-serif\" font-size=\"12\" lengthAdjust=\"spacingAndGlyphs\" textLength=\"32\" x=\"116\" y=\"178.1074\">a2: A</text><line style=\"stroke: #383838; stroke-width: 1.5;\" x1=\"111.5\" x2=\"152.5\" y1=\"185.9375\" y2=\"185.9375\"/></a><!--MD5=[2720a5a1f2c3fca2055b230370638851]\n",
       "link E2 to E3--><a href=\"psysml:24dbd283-1078-40f8-9dda-86d7de7bac74\" target=\"_top\" title=\"psysml:24dbd283-1078-40f8-9dda-86d7de7bac74\" xlink:actuate=\"onRequest\" xlink:href=\"psysml:24dbd283-1078-40f8-9dda-86d7de7bac74\" xlink:show=\"new\" xlink:title=\"psysml:24dbd283-1078-40f8-9dda-86d7de7bac74\" xlink:type=\"simple\"><path d=\"M193.65,194.01 C184.14,206.81 171.89,223.3 160.82,238.2 \" fill=\"none\" id=\"E2-&gt;E3\" style=\"stroke: #383838; stroke-width: 1.0;\"/><polygon fill=\"#FFFFFF\" points=\"148.6,254.66,154.3195,235.2361,165.5543,243.5896,148.6,254.66\" style=\"stroke: #383838; stroke-width: 1.0;\"/><ellipse cx=\"159.3256\" cy=\"231.8554\" fill=\"#383838\" rx=\"2\" ry=\"2\" style=\"stroke: #383838; stroke-width: 1.0;\"/><ellipse cx=\"167.3504\" cy=\"237.8221\" fill=\"#383838\" rx=\"2\" ry=\"2\" style=\"stroke: #383838; stroke-width: 1.0;\"/></a><!--MD5=[4672eba38e49728da53d11aeb285b987]\n",
       "reverse link E3 to E4--><a href=\"psysml:9f51e7d9-1020-406a-8433-de0298038040\" target=\"_top\" title=\"psysml:9f51e7d9-1020-406a-8433-de0298038040\" xlink:actuate=\"onRequest\" xlink:href=\"psysml:9f51e7d9-1020-406a-8433-de0298038040\" xlink:show=\"new\" xlink:title=\"psysml:9f51e7d9-1020-406a-8433-de0298038040\" xlink:type=\"simple\"><path d=\"M97.11,310.9 C84.08,325.11 70.81,342.94 64,362 C55.12,386.85 58.09,417.53 61.82,437.88 \" fill=\"none\" id=\"E3&lt;-E4\" style=\"stroke: #383838; stroke-width: 1.0;\"/><polygon fill=\"#383838\" points=\"106.46,301.23,99.4153,302.7703,98.1277,309.8655,105.1724,308.3252,106.46,301.23\" style=\"stroke: #383838; stroke-width: 1.0;\"/><text fill=\"#000000\" font-family=\"sans-serif\" font-size=\"13\" lengthAdjust=\"spacingAndGlyphs\" textLength=\"8\" x=\"51.3529\" y=\"426.744\">1</text></a><!--MD5=[191cde3d490a3f6d7bb551fe3ddca469]\n",
       "reverse link E3 to E5--><a href=\"psysml:7a936c29-0528-4da5-855d-3be7e5f4e113\" target=\"_top\" title=\"psysml:7a936c29-0528-4da5-855d-3be7e5f4e113\" xlink:actuate=\"onRequest\" xlink:href=\"psysml:7a936c29-0528-4da5-855d-3be7e5f4e113\" xlink:show=\"new\" xlink:title=\"psysml:7a936c29-0528-4da5-855d-3be7e5f4e113\" xlink:type=\"simple\"><path d=\"M145.17,313.57 C151.2,329.39 158.16,347.68 163.49,361.66 \" fill=\"none\" id=\"E3&lt;-E5\" style=\"stroke: #383838; stroke-width: 1.0;\"/><polygon fill=\"#FFFFFF\" points=\"140.39,301.01,138.7866,308.0406,144.6598,312.2247,146.2631,305.1941,140.39,301.01\" style=\"stroke: #383838; stroke-width: 1.0;\"/><text fill=\"#000000\" font-family=\"sans-serif\" font-size=\"13\" lengthAdjust=\"spacingAndGlyphs\" textLength=\"8\" x=\"152.2843\" y=\"350.8492\">1</text></a><!--MD5=[79568f1e445c3877b6a54524624ccc7d]\n",
       "link E4 to E6--><a href=\"psysml:860f4e4a-475c-4d3a-a05e-585111d40739\" target=\"_top\" title=\"psysml:860f4e4a-475c-4d3a-a05e-585111d40739\" xlink:actuate=\"onRequest\" xlink:href=\"psysml:860f4e4a-475c-4d3a-a05e-585111d40739\" xlink:show=\"new\" xlink:title=\"psysml:860f4e4a-475c-4d3a-a05e-585111d40739\" xlink:type=\"simple\"><path d=\"M72.9,484.16 C78.52,504.26 87.63,534.55 98,560 C106.11,579.9 116.66,601.27 125.97,619.04 \" fill=\"none\" id=\"E4-&gt;E6\" style=\"stroke: #383838; stroke-width: 1.0;\"/><polygon fill=\"#FFFFFF\" points=\"135.42,636.68,120.2696,623.2463,132.6064,616.628,135.42,636.68\" style=\"stroke: #383838; stroke-width: 1.0;\"/><ellipse cx=\"119.3374\" cy=\"617.2779\" fill=\"#383838\" rx=\"2\" ry=\"2\" style=\"stroke: #383838; stroke-width: 1.0;\"/><ellipse cx=\"128.1494\" cy=\"612.5506\" fill=\"#383838\" rx=\"2\" ry=\"2\" style=\"stroke: #383838; stroke-width: 1.0;\"/></a><!--MD5=[3f50a3473f1dfb74d3f76443e03635af]\n",
       "reverse link E6 to E7--><a href=\"psysml:01396c82-09da-45aa-ba0c-a7dad5741ff2\" target=\"_top\" title=\"psysml:01396c82-09da-45aa-ba0c-a7dad5741ff2\" xlink:actuate=\"onRequest\" xlink:href=\"psysml:01396c82-09da-45aa-ba0c-a7dad5741ff2\" xlink:show=\"new\" xlink:title=\"psysml:01396c82-09da-45aa-ba0c-a7dad5741ff2\" xlink:type=\"simple\"><path d=\"M158.54,695.57 C163.36,711.39 168.93,729.68 173.19,743.66 \" fill=\"none\" id=\"E6&lt;-E7\" style=\"stroke: #383838; stroke-width: 1.0;\"/><polygon fill=\"#383838\" points=\"154.71,683.01,152.6319,689.9152,158.2066,694.4893,160.2847,687.5841,154.71,683.01\" style=\"stroke: #383838; stroke-width: 1.0;\"/><text fill=\"#000000\" font-family=\"sans-serif\" font-size=\"13\" lengthAdjust=\"spacingAndGlyphs\" textLength=\"8\" x=\"162.4199\" y=\"732.8492\">1</text></a><!--MD5=[14ccda38c055a5c0da953d572bc50960]\n",
       "link E7 to E3--><a href=\"psysml:d97708ca-1830-4e5e-bf07-a2aabe0546e8\" target=\"_top\" title=\"psysml:d97708ca-1830-4e5e-bf07-a2aabe0546e8\" xlink:actuate=\"onRequest\" xlink:href=\"psysml:d97708ca-1830-4e5e-bf07-a2aabe0546e8\" xlink:show=\"new\" xlink:title=\"psysml:d97708ca-1830-4e5e-bf07-a2aabe0546e8\" xlink:type=\"simple\"><path d=\"M197.41,743.63 C211.5,723.27 229,691.78 229,661 C229,384 229,384 229,384 C229,353 205.9,327.25 182.25,309.01 \" fill=\"none\" id=\"E7-&gt;E3\" style=\"stroke: #383838; stroke-width: 1.0;\"/><polygon fill=\"#FFFFFF\" points=\"165.65,297.35,185.219,302.5513,177.1671,314.004,165.65,297.35\" style=\"stroke: #383838; stroke-width: 1.0;\"/><ellipse cx=\"188.7317\" cy=\"307.4657\" fill=\"#383838\" rx=\"2\" ry=\"2\" style=\"stroke: #383838; stroke-width: 1.0;\"/><ellipse cx=\"182.9803\" cy=\"315.6462\" fill=\"#383838\" rx=\"2\" ry=\"2\" style=\"stroke: #383838; stroke-width: 1.0;\"/></a><!--MD5=[dfaffb906826c3e5aca635516100ff21]\n",
       "link E5 to E8--><a href=\"psysml:75f754af-bdfa-473b-8cbb-d11c609ad500\" target=\"_top\" title=\"psysml:75f754af-bdfa-473b-8cbb-d11c609ad500\" xlink:actuate=\"onRequest\" xlink:href=\"psysml:75f754af-bdfa-473b-8cbb-d11c609ad500\" xlink:show=\"new\" xlink:title=\"psysml:75f754af-bdfa-473b-8cbb-d11c609ad500\" xlink:type=\"simple\"><path d=\"M168.46,408.13 C164.86,430.62 159.2,466.01 154.74,493.87 \" fill=\"none\" id=\"E5-&gt;E8\" style=\"stroke: #383838; stroke-width: 1.0;\"/><polygon fill=\"#FFFFFF\" points=\"151.56,513.78,147.6458,493.9135,161.4704,496.1226,151.56,513.78\" style=\"stroke: #383838; stroke-width: 1.0;\"/><ellipse cx=\"150.5202\" cy=\"488.6005\" fill=\"#383838\" rx=\"2\" ry=\"2\" style=\"stroke: #383838; stroke-width: 1.0;\"/><ellipse cx=\"160.3949\" cy=\"490.1784\" fill=\"#383838\" rx=\"2\" ry=\"2\" style=\"stroke: #383838; stroke-width: 1.0;\"/></a><!--MD5=[03c8294790d3c57651a1993cecff665f]\n",
       "reverse link E8 to E3--><a href=\"psysml:aa35edca-3910-4cd9-97ff-300d5c8627fc\" target=\"_top\" title=\"psysml:aa35edca-3910-4cd9-97ff-300d5c8627fc\" xlink:actuate=\"onRequest\" xlink:href=\"psysml:aa35edca-3910-4cd9-97ff-300d5c8627fc\" xlink:show=\"new\" xlink:title=\"psysml:aa35edca-3910-4cd9-97ff-300d5c8627fc\" xlink:type=\"simple\"><path d=\"M140.02,501.22 C134.57,475.6 127.84,439.84 125,408 C123.18,387.64 124.14,382.43 125,362 C125.87,341.34 127.95,317.86 129.62,301.16 \" fill=\"none\" id=\"E8&lt;-E3\" style=\"stroke: #383838; stroke-width: 1.0;\"/><polygon fill=\"#FFFFFF\" points=\"142.81,513.96,145.4388,507.2451,140.2515,502.2359,137.6227,508.9508,142.81,513.96\" style=\"stroke: #383838; stroke-width: 1.0;\"/><text fill=\"#000000\" font-family=\"sans-serif\" font-size=\"13\" lengthAdjust=\"spacingAndGlyphs\" textLength=\"7\" x=\"126\" y=\"389.5669\">y</text></a><!--MD5=[0d75d2178373a6a4568e5dc728f58aef]\n",
       "reverse link E8 to E6--><a href=\"psysml:aa35edca-3910-4cd9-97ff-300d5c8627fc\" target=\"_top\" title=\"psysml:aa35edca-3910-4cd9-97ff-300d5c8627fc\" xlink:actuate=\"onRequest\" xlink:href=\"psysml:aa35edca-3910-4cd9-97ff-300d5c8627fc\" xlink:show=\"new\" xlink:title=\"psysml:aa35edca-3910-4cd9-97ff-300d5c8627fc\" xlink:type=\"simple\"><path d=\"M148,573.22 C148,593.81 148,619.16 148,636.95 \" fill=\"none\" id=\"E8&lt;-E6\" style=\"stroke: #383838; stroke-width: 1.0;\"/><polygon fill=\"#FFFFFF\" points=\"148,560.19,144,566.19,148,572.19,152,566.19,148,560.19\" style=\"stroke: #383838; stroke-width: 1.0;\"/><text fill=\"#000000\" font-family=\"sans-serif\" font-size=\"13\" lengthAdjust=\"spacingAndGlyphs\" textLength=\"7\" x=\"149\" y=\"603.0669\">y</text></a><!--MD5=[23ac544a70576c3e717098101004234c]\n",
       "reverse link E9 to E10--><a href=\"psysml:cf1da376-637e-4400-b815-716d62b1c417\" target=\"_top\" title=\"psysml:cf1da376-637e-4400-b815-716d62b1c417\" xlink:actuate=\"onRequest\" xlink:href=\"psysml:cf1da376-637e-4400-b815-716d62b1c417\" xlink:show=\"new\" xlink:title=\"psysml:cf1da376-637e-4400-b815-716d62b1c417\" xlink:type=\"simple\"><path d=\"M83.71,99.1 C77.04,115.03 69.28,133.54 63.36,147.66 \" fill=\"none\" id=\"E9&lt;-E10\" style=\"stroke: #383838; stroke-width: 1.0;\"/><polygon fill=\"#FFFFFF\" points=\"88.78,87.01,82.7702,90.9953,84.1375,98.0756,90.1473,94.0903,88.78,87.01\" style=\"stroke: #383838; stroke-width: 1.0;\"/><text fill=\"#000000\" font-family=\"sans-serif\" font-size=\"13\" lengthAdjust=\"spacingAndGlyphs\" textLength=\"8\" x=\"56.7335\" y=\"136.8492\">1</text></a><!--MD5=[feeac5eb423634930294aa81f2d25a4c]\n",
       "link E10 to E3--><a href=\"psysml:4cf35cfc-841e-4847-875d-1ebad6bb61b9\" target=\"_top\" title=\"psysml:4cf35cfc-841e-4847-875d-1ebad6bb61b9\" xlink:actuate=\"onRequest\" xlink:href=\"psysml:4cf35cfc-841e-4847-875d-1ebad6bb61b9\" xlink:show=\"new\" xlink:title=\"psysml:4cf35cfc-841e-4847-875d-1ebad6bb61b9\" xlink:type=\"simple\"><path d=\"M70.35,194.01 C79.86,206.81 92.11,223.3 103.18,238.2 \" fill=\"none\" id=\"E10-&gt;E3\" style=\"stroke: #383838; stroke-width: 1.0;\"/><polygon fill=\"#FFFFFF\" points=\"115.4,254.66,98.4457,243.5896,109.6805,235.2361,115.4,254.66\" style=\"stroke: #383838; stroke-width: 1.0;\"/><ellipse cx=\"96.6496\" cy=\"237.8221\" fill=\"#383838\" rx=\"2\" ry=\"2\" style=\"stroke: #383838; stroke-width: 1.0;\"/><ellipse cx=\"104.6744\" cy=\"231.8554\" fill=\"#383838\" rx=\"2\" ry=\"2\" style=\"stroke: #383838; stroke-width: 1.0;\"/></a><!--MD5=[1fc04a95fd77ad5ce46c1a3027516051]\n",
       "reverse link E9 to E11--><a href=\"psysml:bd05daaf-8002-489d-bbfa-6134af678ace\" target=\"_top\" title=\"psysml:bd05daaf-8002-489d-bbfa-6134af678ace\" xlink:actuate=\"onRequest\" xlink:href=\"psysml:bd05daaf-8002-489d-bbfa-6134af678ace\" xlink:show=\"new\" xlink:title=\"psysml:bd05daaf-8002-489d-bbfa-6134af678ace\" xlink:type=\"simple\"><path d=\"M109.19,99.57 C114.32,115.39 120.24,133.68 124.76,147.66 \" fill=\"none\" id=\"E9&lt;-E11\" style=\"stroke: #383838; stroke-width: 1.0;\"/><polygon fill=\"#FFFFFF\" points=\"105.13,87.01,103.1699,93.9496,108.8217,98.428,110.7819,91.4884,105.13,87.01\" style=\"stroke: #383838; stroke-width: 1.0;\"/><text fill=\"#000000\" font-family=\"sans-serif\" font-size=\"13\" lengthAdjust=\"spacingAndGlyphs\" textLength=\"8\" x=\"113.8798\" y=\"136.8492\">1</text></a><!--MD5=[0517f1ce58c4d5483948f93845c45e26]\n",
       "link E11 to E3--><a href=\"psysml:31e39f64-1f8d-4b2c-be98-c1459e5d6e94\" target=\"_top\" title=\"psysml:31e39f64-1f8d-4b2c-be98-c1459e5d6e94\" xlink:actuate=\"onRequest\" xlink:href=\"psysml:31e39f64-1f8d-4b2c-be98-c1459e5d6e94\" xlink:show=\"new\" xlink:title=\"psysml:31e39f64-1f8d-4b2c-be98-c1459e5d6e94\" xlink:type=\"simple\"><path d=\"M132,194.01 C132,205.69 132,220.46 132,234.28 \" fill=\"none\" id=\"E11-&gt;E3\" style=\"stroke: #383838; stroke-width: 1.0;\"/><polygon fill=\"#FFFFFF\" points=\"132,254.66,125,235.66,139,235.66,132,254.66\" style=\"stroke: #383838; stroke-width: 1.0;\"/><ellipse cx=\"127\" cy=\"229.96\" fill=\"#383838\" rx=\"2\" ry=\"2\" style=\"stroke: #383838; stroke-width: 1.0;\"/><ellipse cx=\"137\" cy=\"229.96\" fill=\"#383838\" rx=\"2\" ry=\"2\" style=\"stroke: #383838; stroke-width: 1.0;\"/></a><!--MD5=[f1cf00d3c873d931ca7c2b816cd061f3]\n",
       "@startuml\r\n",
       "top to bottom direction\r\n",
       "skinparam monochrome true\r\n",
       "skinparam classbackgroundcolor white\r\n",
       "skinparam shadowing false\r\n",
       "skinparam wrapWidth 300\r\n",
       "hide circle\r\n",
       "\r\n",
       "package \"ItemTest\" as E1  [[psysml:1bc06463-7392-4b34-87d6-1f1d6784670a ]]  {\r\n",
       "comp usage \"f: A\" as E2  <<(T,blue) item>> [[psysml:10e5f196-141c-4ebb-934a-0a8c25223d15 ]] {\r\n",
       "}\r\n",
       "comp def \"A\" as E3  <<(T,blue) item def>> [[psysml:d8185bfd-cc57-4585-aec6-0a59765b9e32 ]] {\r\n",
       "}\r\n",
       "comp usage \"b: B\" as E4  <<(T,blue) item>> [[psysml:867e3ff9-f74d-45bb-974d-3b3d8373197d ]] {\r\n",
       "}\r\n",
       "comp usage \"c: C\" as E5  <<(T,blue) part>> [[psysml:cb0d56cf-7b64-416e-8353-0e76041e55a4 ]] {\r\n",
       "}\r\n",
       "comp def \"B\" as E6  <<(T,blue) item def>> [[psysml:cb468909-38eb-4328-9448-1d282e0fd6a5 ]] {\r\n",
       "}\r\n",
       "comp usage \"a: A\" as E7  <<(T,blue) part>> [[psysml:8d68ea76-8496-4a3a-9bac-3b5e10d4f6d7 ]] {\r\n",
       "}\r\n",
       "comp def \"C\" as E8  <<(T,blue) part def>> [[psysml:3d841289-74ad-422d-b7f3-bdfc719d6361 ]] {\r\n",
       "}\r\n",
       "comp def \"P\" as E9  <<(T,blue) port def>> [[psysml:192666b5-43c5-4ec0-a40a-8ab471017ca3 ]] {\r\n",
       "}\r\n",
       "comp usage \"a1: A\" as E10  <<(T,blue) item>> [[psysml:a2436968-c74d-4c9f-bf2a-127bcc502b4e ]] {\r\n",
       "}\r\n",
       "comp usage \"a2: A\" as E11  <<(T,blue) item>> [[psysml:6388cc28-f9be-476c-ad05-d9ff93971fbb ]] {\r\n",
       "}\r\n",
       "}\r\n",
       "E2 - -:|> E3 [[psysml:24dbd283-1078-40f8-9dda-86d7de7bac74 ]] \r\n",
       "E3 *- - \"1\"E4 [[psysml:9f51e7d9-1020-406a-8433-de0298038040 ]] \r\n",
       "E3 o- - \"1\"E5 [[psysml:7a936c29-0528-4da5-855d-3be7e5f4e113 ]] \r\n",
       "E4 - -:|> E6 [[psysml:860f4e4a-475c-4d3a-a05e-585111d40739 ]] \r\n",
       "E6 *- - \"1\"E7 [[psysml:01396c82-09da-45aa-ba0c-a7dad5741ff2 ]] \r\n",
       "E7 - -:|> E3 [[psysml:d97708ca-1830-4e5e-bf07-a2aabe0546e8 ]] \r\n",
       "E5 - -:|> E8 [[psysml:75f754af-bdfa-473b-8cbb-d11c609ad500 ]] \r\n",
       "E8 o- - E3 [[psysml:aa35edca-3910-4cd9-97ff-300d5c8627fc ]] : y\r\n",
       "E8 o- - E6 [[psysml:aa35edca-3910-4cd9-97ff-300d5c8627fc ]] : y\r\n",
       "E9 o- - \"1\"E10 [[psysml:cf1da376-637e-4400-b815-716d62b1c417 ]] \r\n",
       "E10 - -:|> E3 [[psysml:4cf35cfc-841e-4847-875d-1ebad6bb61b9 ]] \r\n",
       "E9 o- - \"1\"E11 [[psysml:bd05daaf-8002-489d-bbfa-6134af678ace ]] \r\n",
       "E11 - -:|> E3 [[psysml:31e39f64-1f8d-4b2c-be98-c1459e5d6e94 ]] \r\n",
       "@enduml\r\n",
       "\n",
       "PlantUML version 1.2020.13(Sat Jun 13 12:26:38 UTC 2020)\n",
       "(EPL source distribution)\n",
       "Java Runtime: OpenJDK Runtime Environment\n",
       "JVM: OpenJDK 64-Bit Server VM\n",
       "Default Encoding: UTF-8\n",
       "Language: en\n",
       "Country: null\n",
       "--></g></svg>"
      ]
     },
     "execution_count": 50,
     "metadata": {},
     "output_type": "execute_result"
    }
   ],
   "source": [
    "%viz --style=\"TB\" --view=\"MIXED\" \"ItemTest\""
   ]
  },
  {
   "cell_type": "code",
   "execution_count": 51,
   "id": "c3db8943",
   "metadata": {
    "execution": {
     "iopub.execute_input": "2021-10-03T08:27:30.116550Z",
     "iopub.status.busy": "2021-10-03T08:27:30.116151Z",
     "iopub.status.idle": "2021-10-03T08:27:30.155813Z",
     "shell.execute_reply": "2021-10-03T08:27:30.155453Z"
    }
   },
   "outputs": [
    {
     "data": {
      "image/svg+xml": [
       "<?xml version=\"1.0\" encoding=\"UTF-8\" standalone=\"no\"?><svg xmlns=\"http://www.w3.org/2000/svg\" xmlns:xlink=\"http://www.w3.org/1999/xlink\" contentScriptType=\"application/ecmascript\" contentStyleType=\"text/css\" height=\"818px\" preserveAspectRatio=\"none\" style=\"width:270px;height:818px;\" version=\"1.1\" viewBox=\"0 0 270 818\" width=\"270px\" zoomAndPan=\"magnify\"><defs/><g><!--MD5=[fbc87193dbaf4d95561dea2c320d4a47]\n",
       "cluster E1--><a href=\"psysml:1bc06463-7392-4b34-87d6-1f1d6784670a\" target=\"_top\" title=\"psysml:1bc06463-7392-4b34-87d6-1f1d6784670a\" xlink:actuate=\"onRequest\" xlink:href=\"psysml:1bc06463-7392-4b34-87d6-1f1d6784670a\" xlink:show=\"new\" xlink:title=\"psysml:1bc06463-7392-4b34-87d6-1f1d6784670a\" xlink:type=\"simple\"><polygon fill=\"#FFFFFF\" points=\"16,6,83,6,90,28.2969,248,28.2969,248,806,16,806,16,6\" style=\"stroke: #000000; stroke-width: 1.5;\"/><line style=\"stroke: #000000; stroke-width: 1.5;\" x1=\"16\" x2=\"90\" y1=\"28.2969\" y2=\"28.2969\"/><text fill=\"#000000\" font-family=\"sans-serif\" font-size=\"14\" font-weight=\"bold\" lengthAdjust=\"spacingAndGlyphs\" textLength=\"61\" x=\"20\" y=\"20.9951\">ItemTest</text></a><!--MD5=[b4997ac47864f28c2f74865a473b2911]\n",
       "class E2--><a href=\"psysml:10e5f196-141c-4ebb-934a-0a8c25223d15\" target=\"_top\" title=\"psysml:10e5f196-141c-4ebb-934a-0a8c25223d15\" xlink:actuate=\"onRequest\" xlink:href=\"psysml:10e5f196-141c-4ebb-934a-0a8c25223d15\" xlink:show=\"new\" xlink:title=\"psysml:10e5f196-141c-4ebb-934a-0a8c25223d15\" xlink:type=\"simple\"><rect fill=\"#FFFFFF\" height=\"45.9375\" id=\"E2\" rx=\"10\" ry=\"10\" style=\"stroke: #383838; stroke-width: 1.5;\" width=\"43\" x=\"188.5\" y=\"148\"/><text fill=\"#000000\" font-family=\"sans-serif\" font-size=\"12\" font-style=\"italic\" lengthAdjust=\"spacingAndGlyphs\" textLength=\"41\" x=\"189.5\" y=\"164.1387\">«item»</text><text fill=\"#000000\" font-family=\"sans-serif\" font-size=\"12\" lengthAdjust=\"spacingAndGlyphs\" textLength=\"20\" x=\"200\" y=\"178.1074\">f: A</text><line style=\"stroke: #383838; stroke-width: 1.5;\" x1=\"189.5\" x2=\"230.5\" y1=\"185.9375\" y2=\"185.9375\"/></a><!--MD5=[09b614a08d8cba4a07c9adeb5e0fee81]\n",
       "class E3--><a href=\"psysml:d8185bfd-cc57-4585-aec6-0a59765b9e32\" target=\"_top\" title=\"psysml:d8185bfd-cc57-4585-aec6-0a59765b9e32\" xlink:actuate=\"onRequest\" xlink:href=\"psysml:d8185bfd-cc57-4585-aec6-0a59765b9e32\" xlink:show=\"new\" xlink:title=\"psysml:d8185bfd-cc57-4585-aec6-0a59765b9e32\" xlink:type=\"simple\"><rect fill=\"#FFFFFF\" height=\"45.9375\" id=\"E3\" style=\"stroke: #383838; stroke-width: 1.5;\" width=\"67\" x=\"98.5\" y=\"255\"/><text fill=\"#000000\" font-family=\"sans-serif\" font-size=\"12\" font-style=\"italic\" lengthAdjust=\"spacingAndGlyphs\" textLength=\"65\" x=\"99.5\" y=\"271.1387\">«item def»</text><text fill=\"#000000\" font-family=\"sans-serif\" font-size=\"12\" lengthAdjust=\"spacingAndGlyphs\" textLength=\"8\" x=\"128\" y=\"285.1074\">A</text><line style=\"stroke: #383838; stroke-width: 1.5;\" x1=\"99.5\" x2=\"164.5\" y1=\"292.9375\" y2=\"292.9375\"/></a><!--MD5=[ebbe1d658d1005bcc118a6aa81145e00]\n",
       "class E4--><a href=\"psysml:867e3ff9-f74d-45bb-974d-3b3d8373197d\" target=\"_top\" title=\"psysml:867e3ff9-f74d-45bb-974d-3b3d8373197d\" xlink:actuate=\"onRequest\" xlink:href=\"psysml:867e3ff9-f74d-45bb-974d-3b3d8373197d\" xlink:show=\"new\" xlink:title=\"psysml:867e3ff9-f74d-45bb-974d-3b3d8373197d\" xlink:type=\"simple\"><rect fill=\"#FFFFFF\" height=\"45.9375\" id=\"E4\" rx=\"10\" ry=\"10\" style=\"stroke: #383838; stroke-width: 1.5;\" width=\"43\" x=\"45.5\" y=\"438\"/><text fill=\"#000000\" font-family=\"sans-serif\" font-size=\"12\" font-style=\"italic\" lengthAdjust=\"spacingAndGlyphs\" textLength=\"41\" x=\"46.5\" y=\"454.1387\">«item»</text><text fill=\"#000000\" font-family=\"sans-serif\" font-size=\"12\" lengthAdjust=\"spacingAndGlyphs\" textLength=\"24\" x=\"55\" y=\"468.1074\">b: B</text><line style=\"stroke: #383838; stroke-width: 1.5;\" x1=\"46.5\" x2=\"87.5\" y1=\"475.9375\" y2=\"475.9375\"/></a><!--MD5=[270fce915f116d4de14055a7c1d9a0f3]\n",
       "class E5--><a href=\"psysml:cb0d56cf-7b64-416e-8353-0e76041e55a4\" target=\"_top\" title=\"psysml:cb0d56cf-7b64-416e-8353-0e76041e55a4\" xlink:actuate=\"onRequest\" xlink:href=\"psysml:cb0d56cf-7b64-416e-8353-0e76041e55a4\" xlink:show=\"new\" xlink:title=\"psysml:cb0d56cf-7b64-416e-8353-0e76041e55a4\" xlink:type=\"simple\"><rect fill=\"#FFFFFF\" height=\"45.9375\" id=\"E5\" rx=\"10\" ry=\"10\" style=\"stroke: #383838; stroke-width: 1.5;\" width=\"42\" x=\"151\" y=\"362\"/><text fill=\"#000000\" font-family=\"sans-serif\" font-size=\"12\" font-style=\"italic\" lengthAdjust=\"spacingAndGlyphs\" textLength=\"40\" x=\"152\" y=\"378.1387\">«part»</text><text fill=\"#000000\" font-family=\"sans-serif\" font-size=\"12\" lengthAdjust=\"spacingAndGlyphs\" textLength=\"23\" x=\"160.5\" y=\"392.1074\">c: C</text><line style=\"stroke: #383838; stroke-width: 1.5;\" x1=\"152\" x2=\"192\" y1=\"399.9375\" y2=\"399.9375\"/></a><!--MD5=[60a26617385b1d2d0262a64233df1f8d]\n",
       "class E6--><a href=\"psysml:cb468909-38eb-4328-9448-1d282e0fd6a5\" target=\"_top\" title=\"psysml:cb468909-38eb-4328-9448-1d282e0fd6a5\" xlink:actuate=\"onRequest\" xlink:href=\"psysml:cb468909-38eb-4328-9448-1d282e0fd6a5\" xlink:show=\"new\" xlink:title=\"psysml:cb468909-38eb-4328-9448-1d282e0fd6a5\" xlink:type=\"simple\"><rect fill=\"#FFFFFF\" height=\"45.9375\" id=\"E6\" style=\"stroke: #383838; stroke-width: 1.5;\" width=\"67\" x=\"114.5\" y=\"637\"/><text fill=\"#000000\" font-family=\"sans-serif\" font-size=\"12\" font-style=\"italic\" lengthAdjust=\"spacingAndGlyphs\" textLength=\"65\" x=\"115.5\" y=\"653.1387\">«item def»</text><text fill=\"#000000\" font-family=\"sans-serif\" font-size=\"12\" lengthAdjust=\"spacingAndGlyphs\" textLength=\"8\" x=\"144\" y=\"667.1074\">B</text><line style=\"stroke: #383838; stroke-width: 1.5;\" x1=\"115.5\" x2=\"180.5\" y1=\"674.9375\" y2=\"674.9375\"/></a><!--MD5=[2156ba9850f5573cc1fc38a6a4b2f02b]\n",
       "class E7--><a href=\"psysml:8d68ea76-8496-4a3a-9bac-3b5e10d4f6d7\" target=\"_top\" title=\"psysml:8d68ea76-8496-4a3a-9bac-3b5e10d4f6d7\" xlink:actuate=\"onRequest\" xlink:href=\"psysml:8d68ea76-8496-4a3a-9bac-3b5e10d4f6d7\" xlink:show=\"new\" xlink:title=\"psysml:8d68ea76-8496-4a3a-9bac-3b5e10d4f6d7\" xlink:type=\"simple\"><rect fill=\"#FFFFFF\" height=\"45.9375\" id=\"E7\" rx=\"10\" ry=\"10\" style=\"stroke: #383838; stroke-width: 1.5;\" width=\"42\" x=\"159\" y=\"744\"/><text fill=\"#000000\" font-family=\"sans-serif\" font-size=\"12\" font-style=\"italic\" lengthAdjust=\"spacingAndGlyphs\" textLength=\"40\" x=\"160\" y=\"760.1387\">«part»</text><text fill=\"#000000\" font-family=\"sans-serif\" font-size=\"12\" lengthAdjust=\"spacingAndGlyphs\" textLength=\"24\" x=\"168\" y=\"774.1074\">a: A</text><line style=\"stroke: #383838; stroke-width: 1.5;\" x1=\"160\" x2=\"200\" y1=\"781.9375\" y2=\"781.9375\"/></a><!--MD5=[b9389687b975829384b498ac4b7476b2]\n",
       "class E8--><a href=\"psysml:3d841289-74ad-422d-b7f3-bdfc719d6361\" target=\"_top\" title=\"psysml:3d841289-74ad-422d-b7f3-bdfc719d6361\" xlink:actuate=\"onRequest\" xlink:href=\"psysml:3d841289-74ad-422d-b7f3-bdfc719d6361\" xlink:show=\"new\" xlink:title=\"psysml:3d841289-74ad-422d-b7f3-bdfc719d6361\" xlink:type=\"simple\"><rect fill=\"#FFFFFF\" height=\"45.9375\" id=\"E8\" style=\"stroke: #383838; stroke-width: 1.5;\" width=\"66\" x=\"115\" y=\"514\"/><text fill=\"#000000\" font-family=\"sans-serif\" font-size=\"12\" font-style=\"italic\" lengthAdjust=\"spacingAndGlyphs\" textLength=\"64\" x=\"116\" y=\"530.1387\">«part def»</text><text fill=\"#000000\" font-family=\"sans-serif\" font-size=\"12\" lengthAdjust=\"spacingAndGlyphs\" textLength=\"8\" x=\"144\" y=\"544.1074\">C</text><line style=\"stroke: #383838; stroke-width: 1.5;\" x1=\"116\" x2=\"180\" y1=\"551.9375\" y2=\"551.9375\"/></a><!--MD5=[fd4143e9d270a159db93a4ea2a975926]\n",
       "class E9--><a href=\"psysml:192666b5-43c5-4ec0-a40a-8ab471017ca3\" target=\"_top\" title=\"psysml:192666b5-43c5-4ec0-a40a-8ab471017ca3\" xlink:actuate=\"onRequest\" xlink:href=\"psysml:192666b5-43c5-4ec0-a40a-8ab471017ca3\" xlink:show=\"new\" xlink:title=\"psysml:192666b5-43c5-4ec0-a40a-8ab471017ca3\" xlink:type=\"simple\"><rect fill=\"#FFFFFF\" height=\"45.9375\" id=\"E9\" style=\"stroke: #383838; stroke-width: 1.5;\" width=\"66\" x=\"65\" y=\"41\"/><text fill=\"#000000\" font-family=\"sans-serif\" font-size=\"12\" font-style=\"italic\" lengthAdjust=\"spacingAndGlyphs\" textLength=\"64\" x=\"66\" y=\"57.1387\">«port def»</text><text fill=\"#000000\" font-family=\"sans-serif\" font-size=\"12\" lengthAdjust=\"spacingAndGlyphs\" textLength=\"8\" x=\"94\" y=\"71.1074\">P</text><line style=\"stroke: #383838; stroke-width: 1.5;\" x1=\"66\" x2=\"130\" y1=\"78.9375\" y2=\"78.9375\"/></a><!--MD5=[96f4274e9e20536e775497830990834d]\n",
       "class E10--><a href=\"psysml:a2436968-c74d-4c9f-bf2a-127bcc502b4e\" target=\"_top\" title=\"psysml:a2436968-c74d-4c9f-bf2a-127bcc502b4e\" xlink:actuate=\"onRequest\" xlink:href=\"psysml:a2436968-c74d-4c9f-bf2a-127bcc502b4e\" xlink:show=\"new\" xlink:title=\"psysml:a2436968-c74d-4c9f-bf2a-127bcc502b4e\" xlink:type=\"simple\"><rect fill=\"#FFFFFF\" height=\"45.9375\" id=\"E10\" rx=\"10\" ry=\"10\" style=\"stroke: #383838; stroke-width: 1.5;\" width=\"43\" x=\"32.5\" y=\"148\"/><text fill=\"#000000\" font-family=\"sans-serif\" font-size=\"12\" font-style=\"italic\" lengthAdjust=\"spacingAndGlyphs\" textLength=\"41\" x=\"33.5\" y=\"164.1387\">«item»</text><text fill=\"#000000\" font-family=\"sans-serif\" font-size=\"12\" lengthAdjust=\"spacingAndGlyphs\" textLength=\"32\" x=\"38\" y=\"178.1074\">a1: A</text><line style=\"stroke: #383838; stroke-width: 1.5;\" x1=\"33.5\" x2=\"74.5\" y1=\"185.9375\" y2=\"185.9375\"/></a><!--MD5=[1dd1bfd58a279cf63c5f349dbc8fc6a1]\n",
       "class E11--><a href=\"psysml:6388cc28-f9be-476c-ad05-d9ff93971fbb\" target=\"_top\" title=\"psysml:6388cc28-f9be-476c-ad05-d9ff93971fbb\" xlink:actuate=\"onRequest\" xlink:href=\"psysml:6388cc28-f9be-476c-ad05-d9ff93971fbb\" xlink:show=\"new\" xlink:title=\"psysml:6388cc28-f9be-476c-ad05-d9ff93971fbb\" xlink:type=\"simple\"><rect fill=\"#FFFFFF\" height=\"45.9375\" id=\"E11\" rx=\"10\" ry=\"10\" style=\"stroke: #383838; stroke-width: 1.5;\" width=\"43\" x=\"110.5\" y=\"148\"/><text fill=\"#000000\" font-family=\"sans-serif\" font-size=\"12\" font-style=\"italic\" lengthAdjust=\"spacingAndGlyphs\" textLength=\"41\" x=\"111.5\" y=\"164.1387\">«item»</text><text fill=\"#000000\" font-family=\"sans-serif\" font-size=\"12\" lengthAdjust=\"spacingAndGlyphs\" textLength=\"32\" x=\"116\" y=\"178.1074\">a2: A</text><line style=\"stroke: #383838; stroke-width: 1.5;\" x1=\"111.5\" x2=\"152.5\" y1=\"185.9375\" y2=\"185.9375\"/></a><!--MD5=[2720a5a1f2c3fca2055b230370638851]\n",
       "link E2 to E3--><a href=\"psysml:24dbd283-1078-40f8-9dda-86d7de7bac74\" target=\"_top\" title=\"psysml:24dbd283-1078-40f8-9dda-86d7de7bac74\" xlink:actuate=\"onRequest\" xlink:href=\"psysml:24dbd283-1078-40f8-9dda-86d7de7bac74\" xlink:show=\"new\" xlink:title=\"psysml:24dbd283-1078-40f8-9dda-86d7de7bac74\" xlink:type=\"simple\"><path d=\"M188.29,171 C174.6,171 159.5,171 159.5,171 C159.5,171 159.5,234.78 159.5,234.78 \" fill=\"none\" id=\"E2-&gt;E3\" style=\"stroke: #383838; stroke-width: 1.0;\"/><polygon fill=\"#FFFFFF\" points=\"159.5,254.78,152.5,235.78,166.5,235.78,159.5,254.78\" style=\"stroke: #383838; stroke-width: 1.0;\"/><ellipse cx=\"154.5\" cy=\"230.08\" fill=\"#383838\" rx=\"2\" ry=\"2\" style=\"stroke: #383838; stroke-width: 1.0;\"/><ellipse cx=\"164.5\" cy=\"230.08\" fill=\"#383838\" rx=\"2\" ry=\"2\" style=\"stroke: #383838; stroke-width: 1.0;\"/></a><!--MD5=[4672eba38e49728da53d11aeb285b987]\n",
       "reverse link E3 to E4--><a href=\"psysml:9f51e7d9-1020-406a-8433-de0298038040\" target=\"_top\" title=\"psysml:9f51e7d9-1020-406a-8433-de0298038040\" xlink:actuate=\"onRequest\" xlink:href=\"psysml:9f51e7d9-1020-406a-8433-de0298038040\" xlink:show=\"new\" xlink:title=\"psysml:9f51e7d9-1020-406a-8433-de0298038040\" xlink:type=\"simple\"><path d=\"M85.37,278 C85.37,278 82,278 82,278 C82,278 82,388.58 82,437.82 \" fill=\"none\" id=\"E3&lt;-E4\" style=\"stroke: #383838; stroke-width: 1.0;\"/><polygon fill=\"#383838\" points=\"98.37,278,92.37,274,86.37,278,92.37,282,98.37,278\" style=\"stroke: #383838; stroke-width: 1.0;\"/><text fill=\"#000000\" font-family=\"sans-serif\" font-size=\"13\" lengthAdjust=\"spacingAndGlyphs\" textLength=\"8\" x=\"76.8188\" y=\"427.0502\">1</text></a><!--MD5=[191cde3d490a3f6d7bb551fe3ddca469]\n",
       "reverse link E3 to E5--><a href=\"psysml:7a936c29-0528-4da5-855d-3be7e5f4e113\" target=\"_top\" title=\"psysml:7a936c29-0528-4da5-855d-3be7e5f4e113\" xlink:actuate=\"onRequest\" xlink:href=\"psysml:7a936c29-0528-4da5-855d-3be7e5f4e113\" xlink:show=\"new\" xlink:title=\"psysml:7a936c29-0528-4da5-855d-3be7e5f4e113\" xlink:type=\"simple\"><path d=\"M158.25,314.22 C158.25,314.22 158.25,361.83 158.25,361.83 \" fill=\"none\" id=\"E3&lt;-E5\" style=\"stroke: #383838; stroke-width: 1.0;\"/><polygon fill=\"#FFFFFF\" points=\"158.25,301.22,154.25,307.22,158.25,313.22,162.25,307.22,158.25,301.22\" style=\"stroke: #383838; stroke-width: 1.0;\"/><text fill=\"#000000\" font-family=\"sans-serif\" font-size=\"13\" lengthAdjust=\"spacingAndGlyphs\" textLength=\"8\" x=\"145.7016\" y=\"351.0627\">1</text></a><!--MD5=[79568f1e445c3877b6a54524624ccc7d]\n",
       "link E4 to E6--><a href=\"psysml:860f4e4a-475c-4d3a-a05e-585111d40739\" target=\"_top\" title=\"psysml:860f4e4a-475c-4d3a-a05e-585111d40739\" xlink:actuate=\"onRequest\" xlink:href=\"psysml:860f4e4a-475c-4d3a-a05e-585111d40739\" xlink:show=\"new\" xlink:title=\"psysml:860f4e4a-475c-4d3a-a05e-585111d40739\" xlink:type=\"simple\"><path d=\"M67,484.22 C67,536.71 67,660 67,660 C67,660 94.12,660 94.12,660 \" fill=\"none\" id=\"E4-&gt;E6\" style=\"stroke: #383838; stroke-width: 1.0;\"/><polygon fill=\"#FFFFFF\" points=\"114.12,660,95.12,667,95.12,653,114.12,660\" style=\"stroke: #383838; stroke-width: 1.0;\"/><ellipse cx=\"89.42\" cy=\"665\" fill=\"#383838\" rx=\"2\" ry=\"2\" style=\"stroke: #383838; stroke-width: 1.0;\"/><ellipse cx=\"89.42\" cy=\"655\" fill=\"#383838\" rx=\"2\" ry=\"2\" style=\"stroke: #383838; stroke-width: 1.0;\"/></a><!--MD5=[3f50a3473f1dfb74d3f76443e03635af]\n",
       "reverse link E6 to E7--><a href=\"psysml:01396c82-09da-45aa-ba0c-a7dad5741ff2\" target=\"_top\" title=\"psysml:01396c82-09da-45aa-ba0c-a7dad5741ff2\" xlink:actuate=\"onRequest\" xlink:href=\"psysml:01396c82-09da-45aa-ba0c-a7dad5741ff2\" xlink:show=\"new\" xlink:title=\"psysml:01396c82-09da-45aa-ba0c-a7dad5741ff2\" xlink:type=\"simple\"><path d=\"M170.25,696.22 C170.25,696.22 170.25,743.83 170.25,743.83 \" fill=\"none\" id=\"E6&lt;-E7\" style=\"stroke: #383838; stroke-width: 1.0;\"/><polygon fill=\"#383838\" points=\"170.25,683.22,166.25,689.22,170.25,695.22,174.25,689.22,170.25,683.22\" style=\"stroke: #383838; stroke-width: 1.0;\"/><text fill=\"#000000\" font-family=\"sans-serif\" font-size=\"13\" lengthAdjust=\"spacingAndGlyphs\" textLength=\"8\" x=\"158.7266\" y=\"733.0627\">1</text></a><!--MD5=[14ccda38c055a5c0da953d572bc50960]\n",
       "link E7 to E3--><a href=\"psysml:d97708ca-1830-4e5e-bf07-a2aabe0546e8\" target=\"_top\" title=\"psysml:d97708ca-1830-4e5e-bf07-a2aabe0546e8\" xlink:actuate=\"onRequest\" xlink:href=\"psysml:d97708ca-1830-4e5e-bf07-a2aabe0546e8\" xlink:show=\"new\" xlink:title=\"psysml:d97708ca-1830-4e5e-bf07-a2aabe0546e8\" xlink:type=\"simple\"><path d=\"M197,743.74 C197,646.56 197,278 197,278 C197,278 185.64,278 185.64,278 \" fill=\"none\" id=\"E7-&gt;E3\" style=\"stroke: #383838; stroke-width: 1.0;\"/><polygon fill=\"#FFFFFF\" points=\"165.64,278,184.64,271,184.64,285,165.64,278\" style=\"stroke: #383838; stroke-width: 1.0;\"/><ellipse cx=\"190.34\" cy=\"273\" fill=\"#383838\" rx=\"2\" ry=\"2\" style=\"stroke: #383838; stroke-width: 1.0;\"/><ellipse cx=\"190.34\" cy=\"283\" fill=\"#383838\" rx=\"2\" ry=\"2\" style=\"stroke: #383838; stroke-width: 1.0;\"/></a><!--MD5=[dfaffb906826c3e5aca635516100ff21]\n",
       "link E5 to E8--><a href=\"psysml:75f754af-bdfa-473b-8cbb-d11c609ad500\" target=\"_top\" title=\"psysml:75f754af-bdfa-473b-8cbb-d11c609ad500\" xlink:actuate=\"onRequest\" xlink:href=\"psysml:75f754af-bdfa-473b-8cbb-d11c609ad500\" xlink:show=\"new\" xlink:title=\"psysml:75f754af-bdfa-473b-8cbb-d11c609ad500\" xlink:type=\"simple\"><path d=\"M166,408.09 C166,408.09 166,493.7 166,493.7 \" fill=\"none\" id=\"E5-&gt;E8\" style=\"stroke: #383838; stroke-width: 1.0;\"/><polygon fill=\"#FFFFFF\" points=\"166,513.7,159,494.7,173,494.7,166,513.7\" style=\"stroke: #383838; stroke-width: 1.0;\"/><ellipse cx=\"161\" cy=\"489\" fill=\"#383838\" rx=\"2\" ry=\"2\" style=\"stroke: #383838; stroke-width: 1.0;\"/><ellipse cx=\"171\" cy=\"489\" fill=\"#383838\" rx=\"2\" ry=\"2\" style=\"stroke: #383838; stroke-width: 1.0;\"/></a><!--MD5=[03c8294790d3c57651a1993cecff665f]\n",
       "reverse link E8 to E3--><a href=\"psysml:aa35edca-3910-4cd9-97ff-300d5c8627fc\" target=\"_top\" title=\"psysml:aa35edca-3910-4cd9-97ff-300d5c8627fc\" xlink:actuate=\"onRequest\" xlink:href=\"psysml:aa35edca-3910-4cd9-97ff-300d5c8627fc\" xlink:show=\"new\" xlink:title=\"psysml:aa35edca-3910-4cd9-97ff-300d5c8627fc\" xlink:type=\"simple\"><path d=\"M133,500.56 C133,500.56 133,301.2 133,301.2 \" fill=\"none\" id=\"E8&lt;-E3\" style=\"stroke: #383838; stroke-width: 1.0;\"/><polygon fill=\"#FFFFFF\" points=\"133,513.56,137,507.56,133,501.56,129,507.56,133,513.56\" style=\"stroke: #383838; stroke-width: 1.0;\"/><text fill=\"#000000\" font-family=\"sans-serif\" font-size=\"13\" lengthAdjust=\"spacingAndGlyphs\" textLength=\"7\" x=\"108\" y=\"389.5669\">y</text></a><!--MD5=[0d75d2178373a6a4568e5dc728f58aef]\n",
       "reverse link E8 to E6--><a href=\"psysml:aa35edca-3910-4cd9-97ff-300d5c8627fc\" target=\"_top\" title=\"psysml:aa35edca-3910-4cd9-97ff-300d5c8627fc\" xlink:actuate=\"onRequest\" xlink:href=\"psysml:aa35edca-3910-4cd9-97ff-300d5c8627fc\" xlink:show=\"new\" xlink:title=\"psysml:aa35edca-3910-4cd9-97ff-300d5c8627fc\" xlink:type=\"simple\"><path d=\"M148,573.14 C148,573.14 148,636.97 148,636.97 \" fill=\"none\" id=\"E8&lt;-E6\" style=\"stroke: #383838; stroke-width: 1.0;\"/><polygon fill=\"#FFFFFF\" points=\"148,560.14,144,566.14,148,572.14,152,566.14,148,560.14\" style=\"stroke: #383838; stroke-width: 1.0;\"/><text fill=\"#000000\" font-family=\"sans-serif\" font-size=\"13\" lengthAdjust=\"spacingAndGlyphs\" textLength=\"7\" x=\"149\" y=\"603.0669\">y</text></a><!--MD5=[23ac544a70576c3e717098101004234c]\n",
       "reverse link E9 to E10--><a href=\"psysml:cf1da376-637e-4400-b815-716d62b1c417\" target=\"_top\" title=\"psysml:cf1da376-637e-4400-b815-716d62b1c417\" xlink:actuate=\"onRequest\" xlink:href=\"psysml:cf1da376-637e-4400-b815-716d62b1c417\" xlink:show=\"new\" xlink:title=\"psysml:cf1da376-637e-4400-b815-716d62b1c417\" xlink:type=\"simple\"><path d=\"M70.25,100.22 C70.25,100.22 70.25,147.83 70.25,147.83 \" fill=\"none\" id=\"E9&lt;-E10\" style=\"stroke: #383838; stroke-width: 1.0;\"/><polygon fill=\"#FFFFFF\" points=\"70.25,87.22,66.25,93.22,70.25,99.22,74.25,93.22,70.25,87.22\" style=\"stroke: #383838; stroke-width: 1.0;\"/><text fill=\"#000000\" font-family=\"sans-serif\" font-size=\"13\" lengthAdjust=\"spacingAndGlyphs\" textLength=\"8\" x=\"65.3891\" y=\"137.0627\">1</text></a><!--MD5=[feeac5eb423634930294aa81f2d25a4c]\n",
       "link E10 to E3--><a href=\"psysml:4cf35cfc-841e-4847-875d-1ebad6bb61b9\" target=\"_top\" title=\"psysml:4cf35cfc-841e-4847-875d-1ebad6bb61b9\" xlink:actuate=\"onRequest\" xlink:href=\"psysml:4cf35cfc-841e-4847-875d-1ebad6bb61b9\" xlink:show=\"new\" xlink:title=\"psysml:4cf35cfc-841e-4847-875d-1ebad6bb61b9\" xlink:type=\"simple\"><path d=\"M75.71,171 C89.4,171 104.5,171 104.5,171 C104.5,171 104.5,234.78 104.5,234.78 \" fill=\"none\" id=\"E10-&gt;E3\" style=\"stroke: #383838; stroke-width: 1.0;\"/><polygon fill=\"#FFFFFF\" points=\"104.5,254.78,97.5,235.78,111.5,235.78,104.5,254.78\" style=\"stroke: #383838; stroke-width: 1.0;\"/><ellipse cx=\"99.5\" cy=\"230.08\" fill=\"#383838\" rx=\"2\" ry=\"2\" style=\"stroke: #383838; stroke-width: 1.0;\"/><ellipse cx=\"109.5\" cy=\"230.08\" fill=\"#383838\" rx=\"2\" ry=\"2\" style=\"stroke: #383838; stroke-width: 1.0;\"/></a><!--MD5=[1fc04a95fd77ad5ce46c1a3027516051]\n",
       "reverse link E9 to E11--><a href=\"psysml:bd05daaf-8002-489d-bbfa-6134af678ace\" target=\"_top\" title=\"psysml:bd05daaf-8002-489d-bbfa-6134af678ace\" xlink:actuate=\"onRequest\" xlink:href=\"psysml:bd05daaf-8002-489d-bbfa-6134af678ace\" xlink:show=\"new\" xlink:title=\"psysml:bd05daaf-8002-489d-bbfa-6134af678ace\" xlink:type=\"simple\"><path d=\"M120.75,100.22 C120.75,100.22 120.75,147.83 120.75,147.83 \" fill=\"none\" id=\"E9&lt;-E11\" style=\"stroke: #383838; stroke-width: 1.0;\"/><polygon fill=\"#FFFFFF\" points=\"120.75,87.22,116.75,93.22,120.75,99.22,124.75,93.22,120.75,87.22\" style=\"stroke: #383838; stroke-width: 1.0;\"/><text fill=\"#000000\" font-family=\"sans-serif\" font-size=\"13\" lengthAdjust=\"spacingAndGlyphs\" textLength=\"8\" x=\"108.8422\" y=\"137.0627\">1</text></a><!--MD5=[0517f1ce58c4d5483948f93845c45e26]\n",
       "link E11 to E3--><a href=\"psysml:31e39f64-1f8d-4b2c-be98-c1459e5d6e94\" target=\"_top\" title=\"psysml:31e39f64-1f8d-4b2c-be98-c1459e5d6e94\" xlink:actuate=\"onRequest\" xlink:href=\"psysml:31e39f64-1f8d-4b2c-be98-c1459e5d6e94\" xlink:show=\"new\" xlink:title=\"psysml:31e39f64-1f8d-4b2c-be98-c1459e5d6e94\" xlink:type=\"simple\"><path d=\"M132,194.22 C132,194.22 132,234.83 132,234.83 \" fill=\"none\" id=\"E11-&gt;E3\" style=\"stroke: #383838; stroke-width: 1.0;\"/><polygon fill=\"#FFFFFF\" points=\"132,254.83,125,235.83,139,235.83,132,254.83\" style=\"stroke: #383838; stroke-width: 1.0;\"/><ellipse cx=\"127\" cy=\"230.13\" fill=\"#383838\" rx=\"2\" ry=\"2\" style=\"stroke: #383838; stroke-width: 1.0;\"/><ellipse cx=\"137\" cy=\"230.13\" fill=\"#383838\" rx=\"2\" ry=\"2\" style=\"stroke: #383838; stroke-width: 1.0;\"/></a><!--MD5=[e599411589bf8cbeb41227181ed2b2ec]\n",
       "@startuml\r\n",
       "skinparam linetype ortho\r\n",
       "skinparam monochrome true\r\n",
       "skinparam classbackgroundcolor white\r\n",
       "skinparam shadowing false\r\n",
       "skinparam wrapWidth 300\r\n",
       "hide circle\r\n",
       "\r\n",
       "package \"ItemTest\" as E1  [[psysml:1bc06463-7392-4b34-87d6-1f1d6784670a ]]  {\r\n",
       "comp usage \"f: A\" as E2  <<(T,blue) item>> [[psysml:10e5f196-141c-4ebb-934a-0a8c25223d15 ]] {\r\n",
       "}\r\n",
       "comp def \"A\" as E3  <<(T,blue) item def>> [[psysml:d8185bfd-cc57-4585-aec6-0a59765b9e32 ]] {\r\n",
       "}\r\n",
       "comp usage \"b: B\" as E4  <<(T,blue) item>> [[psysml:867e3ff9-f74d-45bb-974d-3b3d8373197d ]] {\r\n",
       "}\r\n",
       "comp usage \"c: C\" as E5  <<(T,blue) part>> [[psysml:cb0d56cf-7b64-416e-8353-0e76041e55a4 ]] {\r\n",
       "}\r\n",
       "comp def \"B\" as E6  <<(T,blue) item def>> [[psysml:cb468909-38eb-4328-9448-1d282e0fd6a5 ]] {\r\n",
       "}\r\n",
       "comp usage \"a: A\" as E7  <<(T,blue) part>> [[psysml:8d68ea76-8496-4a3a-9bac-3b5e10d4f6d7 ]] {\r\n",
       "}\r\n",
       "comp def \"C\" as E8  <<(T,blue) part def>> [[psysml:3d841289-74ad-422d-b7f3-bdfc719d6361 ]] {\r\n",
       "}\r\n",
       "comp def \"P\" as E9  <<(T,blue) port def>> [[psysml:192666b5-43c5-4ec0-a40a-8ab471017ca3 ]] {\r\n",
       "}\r\n",
       "comp usage \"a1: A\" as E10  <<(T,blue) item>> [[psysml:a2436968-c74d-4c9f-bf2a-127bcc502b4e ]] {\r\n",
       "}\r\n",
       "comp usage \"a2: A\" as E11  <<(T,blue) item>> [[psysml:6388cc28-f9be-476c-ad05-d9ff93971fbb ]] {\r\n",
       "}\r\n",
       "}\r\n",
       "E2 - -:|> E3 [[psysml:24dbd283-1078-40f8-9dda-86d7de7bac74 ]] \r\n",
       "E3 *- - \"1\"E4 [[psysml:9f51e7d9-1020-406a-8433-de0298038040 ]] \r\n",
       "E3 o- - \"1\"E5 [[psysml:7a936c29-0528-4da5-855d-3be7e5f4e113 ]] \r\n",
       "E4 - -:|> E6 [[psysml:860f4e4a-475c-4d3a-a05e-585111d40739 ]] \r\n",
       "E6 *- - \"1\"E7 [[psysml:01396c82-09da-45aa-ba0c-a7dad5741ff2 ]] \r\n",
       "E7 - -:|> E3 [[psysml:d97708ca-1830-4e5e-bf07-a2aabe0546e8 ]] \r\n",
       "E5 - -:|> E8 [[psysml:75f754af-bdfa-473b-8cbb-d11c609ad500 ]] \r\n",
       "E8 o- - E3 [[psysml:aa35edca-3910-4cd9-97ff-300d5c8627fc ]] : y\r\n",
       "E8 o- - E6 [[psysml:aa35edca-3910-4cd9-97ff-300d5c8627fc ]] : y\r\n",
       "E9 o- - \"1\"E10 [[psysml:cf1da376-637e-4400-b815-716d62b1c417 ]] \r\n",
       "E10 - -:|> E3 [[psysml:4cf35cfc-841e-4847-875d-1ebad6bb61b9 ]] \r\n",
       "E9 o- - \"1\"E11 [[psysml:bd05daaf-8002-489d-bbfa-6134af678ace ]] \r\n",
       "E11 - -:|> E3 [[psysml:31e39f64-1f8d-4b2c-be98-c1459e5d6e94 ]] \r\n",
       "@enduml\r\n",
       "\n",
       "PlantUML version 1.2020.13(Sat Jun 13 12:26:38 UTC 2020)\n",
       "(EPL source distribution)\n",
       "Java Runtime: OpenJDK Runtime Environment\n",
       "JVM: OpenJDK 64-Bit Server VM\n",
       "Default Encoding: UTF-8\n",
       "Language: en\n",
       "Country: null\n",
       "--></g></svg>"
      ]
     },
     "execution_count": 51,
     "metadata": {},
     "output_type": "execute_result"
    }
   ],
   "source": [
    "%viz --style=\"ORTHOLINE\" --view=\"Default\" \"ItemTest\""
   ]
  },
  {
   "cell_type": "code",
   "execution_count": 52,
   "id": "b66d581b",
   "metadata": {
    "execution": {
     "iopub.execute_input": "2021-10-03T08:27:30.204787Z",
     "iopub.status.busy": "2021-10-03T08:27:30.204389Z",
     "iopub.status.idle": "2021-10-03T08:27:30.246067Z",
     "shell.execute_reply": "2021-10-03T08:27:30.244129Z"
    }
   },
   "outputs": [
    {
     "data": {
      "image/svg+xml": [
       "<?xml version=\"1.0\" encoding=\"UTF-8\" standalone=\"no\"?><svg xmlns=\"http://www.w3.org/2000/svg\" xmlns:xlink=\"http://www.w3.org/1999/xlink\" contentScriptType=\"application/ecmascript\" contentStyleType=\"text/css\" height=\"818px\" preserveAspectRatio=\"none\" style=\"width:270px;height:818px;\" version=\"1.1\" viewBox=\"0 0 270 818\" width=\"270px\" zoomAndPan=\"magnify\"><defs/><g><!--MD5=[fbc87193dbaf4d95561dea2c320d4a47]\n",
       "cluster E1--><a href=\"psysml:1bc06463-7392-4b34-87d6-1f1d6784670a\" target=\"_top\" title=\"psysml:1bc06463-7392-4b34-87d6-1f1d6784670a\" xlink:actuate=\"onRequest\" xlink:href=\"psysml:1bc06463-7392-4b34-87d6-1f1d6784670a\" xlink:show=\"new\" xlink:title=\"psysml:1bc06463-7392-4b34-87d6-1f1d6784670a\" xlink:type=\"simple\"><polygon fill=\"#FFFFFF\" points=\"16,6,83,6,90,28.2969,248,28.2969,248,806,16,806,16,6\" style=\"stroke: #000000; stroke-width: 1.5;\"/><line style=\"stroke: #000000; stroke-width: 1.5;\" x1=\"16\" x2=\"90\" y1=\"28.2969\" y2=\"28.2969\"/><text fill=\"#000000\" font-family=\"sans-serif\" font-size=\"14\" font-weight=\"bold\" lengthAdjust=\"spacingAndGlyphs\" textLength=\"61\" x=\"20\" y=\"20.9951\">ItemTest</text></a><!--MD5=[b4997ac47864f28c2f74865a473b2911]\n",
       "class E2--><a href=\"psysml:10e5f196-141c-4ebb-934a-0a8c25223d15\" target=\"_top\" title=\"psysml:10e5f196-141c-4ebb-934a-0a8c25223d15\" xlink:actuate=\"onRequest\" xlink:href=\"psysml:10e5f196-141c-4ebb-934a-0a8c25223d15\" xlink:show=\"new\" xlink:title=\"psysml:10e5f196-141c-4ebb-934a-0a8c25223d15\" xlink:type=\"simple\"><rect fill=\"#FFFFFF\" height=\"45.9375\" id=\"E2\" rx=\"10\" ry=\"10\" style=\"stroke: #383838; stroke-width: 1.5;\" width=\"43\" x=\"188.5\" y=\"148\"/><text fill=\"#000000\" font-family=\"sans-serif\" font-size=\"12\" font-style=\"italic\" lengthAdjust=\"spacingAndGlyphs\" textLength=\"41\" x=\"189.5\" y=\"164.1387\">«item»</text><text fill=\"#000000\" font-family=\"sans-serif\" font-size=\"12\" lengthAdjust=\"spacingAndGlyphs\" textLength=\"20\" x=\"200\" y=\"178.1074\">f: A</text><line style=\"stroke: #383838; stroke-width: 1.5;\" x1=\"189.5\" x2=\"230.5\" y1=\"185.9375\" y2=\"185.9375\"/></a><!--MD5=[09b614a08d8cba4a07c9adeb5e0fee81]\n",
       "class E3--><a href=\"psysml:d8185bfd-cc57-4585-aec6-0a59765b9e32\" target=\"_top\" title=\"psysml:d8185bfd-cc57-4585-aec6-0a59765b9e32\" xlink:actuate=\"onRequest\" xlink:href=\"psysml:d8185bfd-cc57-4585-aec6-0a59765b9e32\" xlink:show=\"new\" xlink:title=\"psysml:d8185bfd-cc57-4585-aec6-0a59765b9e32\" xlink:type=\"simple\"><rect fill=\"#FFFFFF\" height=\"45.9375\" id=\"E3\" style=\"stroke: #383838; stroke-width: 1.5;\" width=\"67\" x=\"98.5\" y=\"255\"/><text fill=\"#000000\" font-family=\"sans-serif\" font-size=\"12\" font-style=\"italic\" lengthAdjust=\"spacingAndGlyphs\" textLength=\"65\" x=\"99.5\" y=\"271.1387\">«item def»</text><text fill=\"#000000\" font-family=\"sans-serif\" font-size=\"12\" lengthAdjust=\"spacingAndGlyphs\" textLength=\"8\" x=\"128\" y=\"285.1074\">A</text><line style=\"stroke: #383838; stroke-width: 1.5;\" x1=\"99.5\" x2=\"164.5\" y1=\"292.9375\" y2=\"292.9375\"/></a><!--MD5=[ebbe1d658d1005bcc118a6aa81145e00]\n",
       "class E4--><a href=\"psysml:867e3ff9-f74d-45bb-974d-3b3d8373197d\" target=\"_top\" title=\"psysml:867e3ff9-f74d-45bb-974d-3b3d8373197d\" xlink:actuate=\"onRequest\" xlink:href=\"psysml:867e3ff9-f74d-45bb-974d-3b3d8373197d\" xlink:show=\"new\" xlink:title=\"psysml:867e3ff9-f74d-45bb-974d-3b3d8373197d\" xlink:type=\"simple\"><rect fill=\"#FFFFFF\" height=\"45.9375\" id=\"E4\" rx=\"10\" ry=\"10\" style=\"stroke: #383838; stroke-width: 1.5;\" width=\"43\" x=\"45.5\" y=\"438\"/><text fill=\"#000000\" font-family=\"sans-serif\" font-size=\"12\" font-style=\"italic\" lengthAdjust=\"spacingAndGlyphs\" textLength=\"41\" x=\"46.5\" y=\"454.1387\">«item»</text><text fill=\"#000000\" font-family=\"sans-serif\" font-size=\"12\" lengthAdjust=\"spacingAndGlyphs\" textLength=\"24\" x=\"55\" y=\"468.1074\">b: B</text><line style=\"stroke: #383838; stroke-width: 1.5;\" x1=\"46.5\" x2=\"87.5\" y1=\"475.9375\" y2=\"475.9375\"/></a><!--MD5=[270fce915f116d4de14055a7c1d9a0f3]\n",
       "class E5--><a href=\"psysml:cb0d56cf-7b64-416e-8353-0e76041e55a4\" target=\"_top\" title=\"psysml:cb0d56cf-7b64-416e-8353-0e76041e55a4\" xlink:actuate=\"onRequest\" xlink:href=\"psysml:cb0d56cf-7b64-416e-8353-0e76041e55a4\" xlink:show=\"new\" xlink:title=\"psysml:cb0d56cf-7b64-416e-8353-0e76041e55a4\" xlink:type=\"simple\"><rect fill=\"#FFFFFF\" height=\"45.9375\" id=\"E5\" rx=\"10\" ry=\"10\" style=\"stroke: #383838; stroke-width: 1.5;\" width=\"42\" x=\"151\" y=\"362\"/><text fill=\"#000000\" font-family=\"sans-serif\" font-size=\"12\" font-style=\"italic\" lengthAdjust=\"spacingAndGlyphs\" textLength=\"40\" x=\"152\" y=\"378.1387\">«part»</text><text fill=\"#000000\" font-family=\"sans-serif\" font-size=\"12\" lengthAdjust=\"spacingAndGlyphs\" textLength=\"23\" x=\"160.5\" y=\"392.1074\">c: C</text><line style=\"stroke: #383838; stroke-width: 1.5;\" x1=\"152\" x2=\"192\" y1=\"399.9375\" y2=\"399.9375\"/></a><!--MD5=[60a26617385b1d2d0262a64233df1f8d]\n",
       "class E6--><a href=\"psysml:cb468909-38eb-4328-9448-1d282e0fd6a5\" target=\"_top\" title=\"psysml:cb468909-38eb-4328-9448-1d282e0fd6a5\" xlink:actuate=\"onRequest\" xlink:href=\"psysml:cb468909-38eb-4328-9448-1d282e0fd6a5\" xlink:show=\"new\" xlink:title=\"psysml:cb468909-38eb-4328-9448-1d282e0fd6a5\" xlink:type=\"simple\"><rect fill=\"#FFFFFF\" height=\"45.9375\" id=\"E6\" style=\"stroke: #383838; stroke-width: 1.5;\" width=\"67\" x=\"114.5\" y=\"637\"/><text fill=\"#000000\" font-family=\"sans-serif\" font-size=\"12\" font-style=\"italic\" lengthAdjust=\"spacingAndGlyphs\" textLength=\"65\" x=\"115.5\" y=\"653.1387\">«item def»</text><text fill=\"#000000\" font-family=\"sans-serif\" font-size=\"12\" lengthAdjust=\"spacingAndGlyphs\" textLength=\"8\" x=\"144\" y=\"667.1074\">B</text><line style=\"stroke: #383838; stroke-width: 1.5;\" x1=\"115.5\" x2=\"180.5\" y1=\"674.9375\" y2=\"674.9375\"/></a><!--MD5=[2156ba9850f5573cc1fc38a6a4b2f02b]\n",
       "class E7--><a href=\"psysml:8d68ea76-8496-4a3a-9bac-3b5e10d4f6d7\" target=\"_top\" title=\"psysml:8d68ea76-8496-4a3a-9bac-3b5e10d4f6d7\" xlink:actuate=\"onRequest\" xlink:href=\"psysml:8d68ea76-8496-4a3a-9bac-3b5e10d4f6d7\" xlink:show=\"new\" xlink:title=\"psysml:8d68ea76-8496-4a3a-9bac-3b5e10d4f6d7\" xlink:type=\"simple\"><rect fill=\"#FFFFFF\" height=\"45.9375\" id=\"E7\" rx=\"10\" ry=\"10\" style=\"stroke: #383838; stroke-width: 1.5;\" width=\"42\" x=\"159\" y=\"744\"/><text fill=\"#000000\" font-family=\"sans-serif\" font-size=\"12\" font-style=\"italic\" lengthAdjust=\"spacingAndGlyphs\" textLength=\"40\" x=\"160\" y=\"760.1387\">«part»</text><text fill=\"#000000\" font-family=\"sans-serif\" font-size=\"12\" lengthAdjust=\"spacingAndGlyphs\" textLength=\"24\" x=\"168\" y=\"774.1074\">a: A</text><line style=\"stroke: #383838; stroke-width: 1.5;\" x1=\"160\" x2=\"200\" y1=\"781.9375\" y2=\"781.9375\"/></a><!--MD5=[b9389687b975829384b498ac4b7476b2]\n",
       "class E8--><a href=\"psysml:3d841289-74ad-422d-b7f3-bdfc719d6361\" target=\"_top\" title=\"psysml:3d841289-74ad-422d-b7f3-bdfc719d6361\" xlink:actuate=\"onRequest\" xlink:href=\"psysml:3d841289-74ad-422d-b7f3-bdfc719d6361\" xlink:show=\"new\" xlink:title=\"psysml:3d841289-74ad-422d-b7f3-bdfc719d6361\" xlink:type=\"simple\"><rect fill=\"#FFFFFF\" height=\"45.9375\" id=\"E8\" style=\"stroke: #383838; stroke-width: 1.5;\" width=\"66\" x=\"115\" y=\"514\"/><text fill=\"#000000\" font-family=\"sans-serif\" font-size=\"12\" font-style=\"italic\" lengthAdjust=\"spacingAndGlyphs\" textLength=\"64\" x=\"116\" y=\"530.1387\">«part def»</text><text fill=\"#000000\" font-family=\"sans-serif\" font-size=\"12\" lengthAdjust=\"spacingAndGlyphs\" textLength=\"8\" x=\"144\" y=\"544.1074\">C</text><line style=\"stroke: #383838; stroke-width: 1.5;\" x1=\"116\" x2=\"180\" y1=\"551.9375\" y2=\"551.9375\"/></a><!--MD5=[fd4143e9d270a159db93a4ea2a975926]\n",
       "class E9--><a href=\"psysml:192666b5-43c5-4ec0-a40a-8ab471017ca3\" target=\"_top\" title=\"psysml:192666b5-43c5-4ec0-a40a-8ab471017ca3\" xlink:actuate=\"onRequest\" xlink:href=\"psysml:192666b5-43c5-4ec0-a40a-8ab471017ca3\" xlink:show=\"new\" xlink:title=\"psysml:192666b5-43c5-4ec0-a40a-8ab471017ca3\" xlink:type=\"simple\"><rect fill=\"#FFFFFF\" height=\"45.9375\" id=\"E9\" style=\"stroke: #383838; stroke-width: 1.5;\" width=\"66\" x=\"65\" y=\"41\"/><text fill=\"#000000\" font-family=\"sans-serif\" font-size=\"12\" font-style=\"italic\" lengthAdjust=\"spacingAndGlyphs\" textLength=\"64\" x=\"66\" y=\"57.1387\">«port def»</text><text fill=\"#000000\" font-family=\"sans-serif\" font-size=\"12\" lengthAdjust=\"spacingAndGlyphs\" textLength=\"8\" x=\"94\" y=\"71.1074\">P</text><line style=\"stroke: #383838; stroke-width: 1.5;\" x1=\"66\" x2=\"130\" y1=\"78.9375\" y2=\"78.9375\"/></a><!--MD5=[96f4274e9e20536e775497830990834d]\n",
       "class E10--><a href=\"psysml:a2436968-c74d-4c9f-bf2a-127bcc502b4e\" target=\"_top\" title=\"psysml:a2436968-c74d-4c9f-bf2a-127bcc502b4e\" xlink:actuate=\"onRequest\" xlink:href=\"psysml:a2436968-c74d-4c9f-bf2a-127bcc502b4e\" xlink:show=\"new\" xlink:title=\"psysml:a2436968-c74d-4c9f-bf2a-127bcc502b4e\" xlink:type=\"simple\"><rect fill=\"#FFFFFF\" height=\"45.9375\" id=\"E10\" rx=\"10\" ry=\"10\" style=\"stroke: #383838; stroke-width: 1.5;\" width=\"43\" x=\"32.5\" y=\"148\"/><text fill=\"#000000\" font-family=\"sans-serif\" font-size=\"12\" font-style=\"italic\" lengthAdjust=\"spacingAndGlyphs\" textLength=\"41\" x=\"33.5\" y=\"164.1387\">«item»</text><text fill=\"#000000\" font-family=\"sans-serif\" font-size=\"12\" lengthAdjust=\"spacingAndGlyphs\" textLength=\"32\" x=\"38\" y=\"178.1074\">a1: A</text><line style=\"stroke: #383838; stroke-width: 1.5;\" x1=\"33.5\" x2=\"74.5\" y1=\"185.9375\" y2=\"185.9375\"/></a><!--MD5=[1dd1bfd58a279cf63c5f349dbc8fc6a1]\n",
       "class E11--><a href=\"psysml:6388cc28-f9be-476c-ad05-d9ff93971fbb\" target=\"_top\" title=\"psysml:6388cc28-f9be-476c-ad05-d9ff93971fbb\" xlink:actuate=\"onRequest\" xlink:href=\"psysml:6388cc28-f9be-476c-ad05-d9ff93971fbb\" xlink:show=\"new\" xlink:title=\"psysml:6388cc28-f9be-476c-ad05-d9ff93971fbb\" xlink:type=\"simple\"><rect fill=\"#FFFFFF\" height=\"45.9375\" id=\"E11\" rx=\"10\" ry=\"10\" style=\"stroke: #383838; stroke-width: 1.5;\" width=\"43\" x=\"110.5\" y=\"148\"/><text fill=\"#000000\" font-family=\"sans-serif\" font-size=\"12\" font-style=\"italic\" lengthAdjust=\"spacingAndGlyphs\" textLength=\"41\" x=\"111.5\" y=\"164.1387\">«item»</text><text fill=\"#000000\" font-family=\"sans-serif\" font-size=\"12\" lengthAdjust=\"spacingAndGlyphs\" textLength=\"32\" x=\"116\" y=\"178.1074\">a2: A</text><line style=\"stroke: #383838; stroke-width: 1.5;\" x1=\"111.5\" x2=\"152.5\" y1=\"185.9375\" y2=\"185.9375\"/></a><!--MD5=[2720a5a1f2c3fca2055b230370638851]\n",
       "link E2 to E3--><a href=\"psysml:24dbd283-1078-40f8-9dda-86d7de7bac74\" target=\"_top\" title=\"psysml:24dbd283-1078-40f8-9dda-86d7de7bac74\" xlink:actuate=\"onRequest\" xlink:href=\"psysml:24dbd283-1078-40f8-9dda-86d7de7bac74\" xlink:show=\"new\" xlink:title=\"psysml:24dbd283-1078-40f8-9dda-86d7de7bac74\" xlink:type=\"simple\"><path d=\"M188.29,171 C174.6,171 159.5,171 159.5,171 C159.5,171 159.5,234.78 159.5,234.78 \" fill=\"none\" id=\"E2-&gt;E3\" style=\"stroke: #383838; stroke-width: 1.0;\"/><polygon fill=\"#FFFFFF\" points=\"159.5,254.78,152.5,235.78,166.5,235.78,159.5,254.78\" style=\"stroke: #383838; stroke-width: 1.0;\"/><ellipse cx=\"154.5\" cy=\"230.08\" fill=\"#383838\" rx=\"2\" ry=\"2\" style=\"stroke: #383838; stroke-width: 1.0;\"/><ellipse cx=\"164.5\" cy=\"230.08\" fill=\"#383838\" rx=\"2\" ry=\"2\" style=\"stroke: #383838; stroke-width: 1.0;\"/></a><!--MD5=[4672eba38e49728da53d11aeb285b987]\n",
       "reverse link E3 to E4--><a href=\"psysml:9f51e7d9-1020-406a-8433-de0298038040\" target=\"_top\" title=\"psysml:9f51e7d9-1020-406a-8433-de0298038040\" xlink:actuate=\"onRequest\" xlink:href=\"psysml:9f51e7d9-1020-406a-8433-de0298038040\" xlink:show=\"new\" xlink:title=\"psysml:9f51e7d9-1020-406a-8433-de0298038040\" xlink:type=\"simple\"><path d=\"M85.37,278 C85.37,278 82,278 82,278 C82,278 82,388.58 82,437.82 \" fill=\"none\" id=\"E3&lt;-E4\" style=\"stroke: #383838; stroke-width: 1.0;\"/><polygon fill=\"#383838\" points=\"98.37,278,92.37,274,86.37,278,92.37,282,98.37,278\" style=\"stroke: #383838; stroke-width: 1.0;\"/><text fill=\"#000000\" font-family=\"sans-serif\" font-size=\"13\" lengthAdjust=\"spacingAndGlyphs\" textLength=\"8\" x=\"76.8188\" y=\"427.0502\">1</text></a><!--MD5=[191cde3d490a3f6d7bb551fe3ddca469]\n",
       "reverse link E3 to E5--><a href=\"psysml:7a936c29-0528-4da5-855d-3be7e5f4e113\" target=\"_top\" title=\"psysml:7a936c29-0528-4da5-855d-3be7e5f4e113\" xlink:actuate=\"onRequest\" xlink:href=\"psysml:7a936c29-0528-4da5-855d-3be7e5f4e113\" xlink:show=\"new\" xlink:title=\"psysml:7a936c29-0528-4da5-855d-3be7e5f4e113\" xlink:type=\"simple\"><path d=\"M158.25,314.22 C158.25,314.22 158.25,361.83 158.25,361.83 \" fill=\"none\" id=\"E3&lt;-E5\" style=\"stroke: #383838; stroke-width: 1.0;\"/><polygon fill=\"#FFFFFF\" points=\"158.25,301.22,154.25,307.22,158.25,313.22,162.25,307.22,158.25,301.22\" style=\"stroke: #383838; stroke-width: 1.0;\"/><text fill=\"#000000\" font-family=\"sans-serif\" font-size=\"13\" lengthAdjust=\"spacingAndGlyphs\" textLength=\"8\" x=\"145.7016\" y=\"351.0627\">1</text></a><!--MD5=[79568f1e445c3877b6a54524624ccc7d]\n",
       "link E4 to E6--><a href=\"psysml:860f4e4a-475c-4d3a-a05e-585111d40739\" target=\"_top\" title=\"psysml:860f4e4a-475c-4d3a-a05e-585111d40739\" xlink:actuate=\"onRequest\" xlink:href=\"psysml:860f4e4a-475c-4d3a-a05e-585111d40739\" xlink:show=\"new\" xlink:title=\"psysml:860f4e4a-475c-4d3a-a05e-585111d40739\" xlink:type=\"simple\"><path d=\"M67,484.22 C67,536.71 67,660 67,660 C67,660 94.12,660 94.12,660 \" fill=\"none\" id=\"E4-&gt;E6\" style=\"stroke: #383838; stroke-width: 1.0;\"/><polygon fill=\"#FFFFFF\" points=\"114.12,660,95.12,667,95.12,653,114.12,660\" style=\"stroke: #383838; stroke-width: 1.0;\"/><ellipse cx=\"89.42\" cy=\"665\" fill=\"#383838\" rx=\"2\" ry=\"2\" style=\"stroke: #383838; stroke-width: 1.0;\"/><ellipse cx=\"89.42\" cy=\"655\" fill=\"#383838\" rx=\"2\" ry=\"2\" style=\"stroke: #383838; stroke-width: 1.0;\"/></a><!--MD5=[3f50a3473f1dfb74d3f76443e03635af]\n",
       "reverse link E6 to E7--><a href=\"psysml:01396c82-09da-45aa-ba0c-a7dad5741ff2\" target=\"_top\" title=\"psysml:01396c82-09da-45aa-ba0c-a7dad5741ff2\" xlink:actuate=\"onRequest\" xlink:href=\"psysml:01396c82-09da-45aa-ba0c-a7dad5741ff2\" xlink:show=\"new\" xlink:title=\"psysml:01396c82-09da-45aa-ba0c-a7dad5741ff2\" xlink:type=\"simple\"><path d=\"M170.25,696.22 C170.25,696.22 170.25,743.83 170.25,743.83 \" fill=\"none\" id=\"E6&lt;-E7\" style=\"stroke: #383838; stroke-width: 1.0;\"/><polygon fill=\"#383838\" points=\"170.25,683.22,166.25,689.22,170.25,695.22,174.25,689.22,170.25,683.22\" style=\"stroke: #383838; stroke-width: 1.0;\"/><text fill=\"#000000\" font-family=\"sans-serif\" font-size=\"13\" lengthAdjust=\"spacingAndGlyphs\" textLength=\"8\" x=\"158.7266\" y=\"733.0627\">1</text></a><!--MD5=[14ccda38c055a5c0da953d572bc50960]\n",
       "link E7 to E3--><a href=\"psysml:d97708ca-1830-4e5e-bf07-a2aabe0546e8\" target=\"_top\" title=\"psysml:d97708ca-1830-4e5e-bf07-a2aabe0546e8\" xlink:actuate=\"onRequest\" xlink:href=\"psysml:d97708ca-1830-4e5e-bf07-a2aabe0546e8\" xlink:show=\"new\" xlink:title=\"psysml:d97708ca-1830-4e5e-bf07-a2aabe0546e8\" xlink:type=\"simple\"><path d=\"M197,743.74 C197,646.56 197,278 197,278 C197,278 185.64,278 185.64,278 \" fill=\"none\" id=\"E7-&gt;E3\" style=\"stroke: #383838; stroke-width: 1.0;\"/><polygon fill=\"#FFFFFF\" points=\"165.64,278,184.64,271,184.64,285,165.64,278\" style=\"stroke: #383838; stroke-width: 1.0;\"/><ellipse cx=\"190.34\" cy=\"273\" fill=\"#383838\" rx=\"2\" ry=\"2\" style=\"stroke: #383838; stroke-width: 1.0;\"/><ellipse cx=\"190.34\" cy=\"283\" fill=\"#383838\" rx=\"2\" ry=\"2\" style=\"stroke: #383838; stroke-width: 1.0;\"/></a><!--MD5=[dfaffb906826c3e5aca635516100ff21]\n",
       "link E5 to E8--><a href=\"psysml:75f754af-bdfa-473b-8cbb-d11c609ad500\" target=\"_top\" title=\"psysml:75f754af-bdfa-473b-8cbb-d11c609ad500\" xlink:actuate=\"onRequest\" xlink:href=\"psysml:75f754af-bdfa-473b-8cbb-d11c609ad500\" xlink:show=\"new\" xlink:title=\"psysml:75f754af-bdfa-473b-8cbb-d11c609ad500\" xlink:type=\"simple\"><path d=\"M166,408.09 C166,408.09 166,493.7 166,493.7 \" fill=\"none\" id=\"E5-&gt;E8\" style=\"stroke: #383838; stroke-width: 1.0;\"/><polygon fill=\"#FFFFFF\" points=\"166,513.7,159,494.7,173,494.7,166,513.7\" style=\"stroke: #383838; stroke-width: 1.0;\"/><ellipse cx=\"161\" cy=\"489\" fill=\"#383838\" rx=\"2\" ry=\"2\" style=\"stroke: #383838; stroke-width: 1.0;\"/><ellipse cx=\"171\" cy=\"489\" fill=\"#383838\" rx=\"2\" ry=\"2\" style=\"stroke: #383838; stroke-width: 1.0;\"/></a><!--MD5=[03c8294790d3c57651a1993cecff665f]\n",
       "reverse link E8 to E3--><a href=\"psysml:aa35edca-3910-4cd9-97ff-300d5c8627fc\" target=\"_top\" title=\"psysml:aa35edca-3910-4cd9-97ff-300d5c8627fc\" xlink:actuate=\"onRequest\" xlink:href=\"psysml:aa35edca-3910-4cd9-97ff-300d5c8627fc\" xlink:show=\"new\" xlink:title=\"psysml:aa35edca-3910-4cd9-97ff-300d5c8627fc\" xlink:type=\"simple\"><path d=\"M133,500.56 C133,500.56 133,301.2 133,301.2 \" fill=\"none\" id=\"E8&lt;-E3\" style=\"stroke: #383838; stroke-width: 1.0;\"/><polygon fill=\"#FFFFFF\" points=\"133,513.56,137,507.56,133,501.56,129,507.56,133,513.56\" style=\"stroke: #383838; stroke-width: 1.0;\"/><text fill=\"#000000\" font-family=\"sans-serif\" font-size=\"13\" lengthAdjust=\"spacingAndGlyphs\" textLength=\"7\" x=\"108\" y=\"389.5669\">y</text></a><!--MD5=[0d75d2178373a6a4568e5dc728f58aef]\n",
       "reverse link E8 to E6--><a href=\"psysml:aa35edca-3910-4cd9-97ff-300d5c8627fc\" target=\"_top\" title=\"psysml:aa35edca-3910-4cd9-97ff-300d5c8627fc\" xlink:actuate=\"onRequest\" xlink:href=\"psysml:aa35edca-3910-4cd9-97ff-300d5c8627fc\" xlink:show=\"new\" xlink:title=\"psysml:aa35edca-3910-4cd9-97ff-300d5c8627fc\" xlink:type=\"simple\"><path d=\"M148,573.14 C148,573.14 148,636.97 148,636.97 \" fill=\"none\" id=\"E8&lt;-E6\" style=\"stroke: #383838; stroke-width: 1.0;\"/><polygon fill=\"#FFFFFF\" points=\"148,560.14,144,566.14,148,572.14,152,566.14,148,560.14\" style=\"stroke: #383838; stroke-width: 1.0;\"/><text fill=\"#000000\" font-family=\"sans-serif\" font-size=\"13\" lengthAdjust=\"spacingAndGlyphs\" textLength=\"7\" x=\"149\" y=\"603.0669\">y</text></a><!--MD5=[23ac544a70576c3e717098101004234c]\n",
       "reverse link E9 to E10--><a href=\"psysml:cf1da376-637e-4400-b815-716d62b1c417\" target=\"_top\" title=\"psysml:cf1da376-637e-4400-b815-716d62b1c417\" xlink:actuate=\"onRequest\" xlink:href=\"psysml:cf1da376-637e-4400-b815-716d62b1c417\" xlink:show=\"new\" xlink:title=\"psysml:cf1da376-637e-4400-b815-716d62b1c417\" xlink:type=\"simple\"><path d=\"M70.25,100.22 C70.25,100.22 70.25,147.83 70.25,147.83 \" fill=\"none\" id=\"E9&lt;-E10\" style=\"stroke: #383838; stroke-width: 1.0;\"/><polygon fill=\"#FFFFFF\" points=\"70.25,87.22,66.25,93.22,70.25,99.22,74.25,93.22,70.25,87.22\" style=\"stroke: #383838; stroke-width: 1.0;\"/><text fill=\"#000000\" font-family=\"sans-serif\" font-size=\"13\" lengthAdjust=\"spacingAndGlyphs\" textLength=\"8\" x=\"65.3891\" y=\"137.0627\">1</text></a><!--MD5=[feeac5eb423634930294aa81f2d25a4c]\n",
       "link E10 to E3--><a href=\"psysml:4cf35cfc-841e-4847-875d-1ebad6bb61b9\" target=\"_top\" title=\"psysml:4cf35cfc-841e-4847-875d-1ebad6bb61b9\" xlink:actuate=\"onRequest\" xlink:href=\"psysml:4cf35cfc-841e-4847-875d-1ebad6bb61b9\" xlink:show=\"new\" xlink:title=\"psysml:4cf35cfc-841e-4847-875d-1ebad6bb61b9\" xlink:type=\"simple\"><path d=\"M75.71,171 C89.4,171 104.5,171 104.5,171 C104.5,171 104.5,234.78 104.5,234.78 \" fill=\"none\" id=\"E10-&gt;E3\" style=\"stroke: #383838; stroke-width: 1.0;\"/><polygon fill=\"#FFFFFF\" points=\"104.5,254.78,97.5,235.78,111.5,235.78,104.5,254.78\" style=\"stroke: #383838; stroke-width: 1.0;\"/><ellipse cx=\"99.5\" cy=\"230.08\" fill=\"#383838\" rx=\"2\" ry=\"2\" style=\"stroke: #383838; stroke-width: 1.0;\"/><ellipse cx=\"109.5\" cy=\"230.08\" fill=\"#383838\" rx=\"2\" ry=\"2\" style=\"stroke: #383838; stroke-width: 1.0;\"/></a><!--MD5=[1fc04a95fd77ad5ce46c1a3027516051]\n",
       "reverse link E9 to E11--><a href=\"psysml:bd05daaf-8002-489d-bbfa-6134af678ace\" target=\"_top\" title=\"psysml:bd05daaf-8002-489d-bbfa-6134af678ace\" xlink:actuate=\"onRequest\" xlink:href=\"psysml:bd05daaf-8002-489d-bbfa-6134af678ace\" xlink:show=\"new\" xlink:title=\"psysml:bd05daaf-8002-489d-bbfa-6134af678ace\" xlink:type=\"simple\"><path d=\"M120.75,100.22 C120.75,100.22 120.75,147.83 120.75,147.83 \" fill=\"none\" id=\"E9&lt;-E11\" style=\"stroke: #383838; stroke-width: 1.0;\"/><polygon fill=\"#FFFFFF\" points=\"120.75,87.22,116.75,93.22,120.75,99.22,124.75,93.22,120.75,87.22\" style=\"stroke: #383838; stroke-width: 1.0;\"/><text fill=\"#000000\" font-family=\"sans-serif\" font-size=\"13\" lengthAdjust=\"spacingAndGlyphs\" textLength=\"8\" x=\"108.8422\" y=\"137.0627\">1</text></a><!--MD5=[0517f1ce58c4d5483948f93845c45e26]\n",
       "link E11 to E3--><a href=\"psysml:31e39f64-1f8d-4b2c-be98-c1459e5d6e94\" target=\"_top\" title=\"psysml:31e39f64-1f8d-4b2c-be98-c1459e5d6e94\" xlink:actuate=\"onRequest\" xlink:href=\"psysml:31e39f64-1f8d-4b2c-be98-c1459e5d6e94\" xlink:show=\"new\" xlink:title=\"psysml:31e39f64-1f8d-4b2c-be98-c1459e5d6e94\" xlink:type=\"simple\"><path d=\"M132,194.22 C132,194.22 132,234.83 132,234.83 \" fill=\"none\" id=\"E11-&gt;E3\" style=\"stroke: #383838; stroke-width: 1.0;\"/><polygon fill=\"#FFFFFF\" points=\"132,254.83,125,235.83,139,235.83,132,254.83\" style=\"stroke: #383838; stroke-width: 1.0;\"/><ellipse cx=\"127\" cy=\"230.13\" fill=\"#383838\" rx=\"2\" ry=\"2\" style=\"stroke: #383838; stroke-width: 1.0;\"/><ellipse cx=\"137\" cy=\"230.13\" fill=\"#383838\" rx=\"2\" ry=\"2\" style=\"stroke: #383838; stroke-width: 1.0;\"/></a><!--MD5=[e599411589bf8cbeb41227181ed2b2ec]\n",
       "@startuml\r\n",
       "skinparam linetype ortho\r\n",
       "skinparam monochrome true\r\n",
       "skinparam classbackgroundcolor white\r\n",
       "skinparam shadowing false\r\n",
       "skinparam wrapWidth 300\r\n",
       "hide circle\r\n",
       "\r\n",
       "package \"ItemTest\" as E1  [[psysml:1bc06463-7392-4b34-87d6-1f1d6784670a ]]  {\r\n",
       "comp usage \"f: A\" as E2  <<(T,blue) item>> [[psysml:10e5f196-141c-4ebb-934a-0a8c25223d15 ]] {\r\n",
       "}\r\n",
       "comp def \"A\" as E3  <<(T,blue) item def>> [[psysml:d8185bfd-cc57-4585-aec6-0a59765b9e32 ]] {\r\n",
       "}\r\n",
       "comp usage \"b: B\" as E4  <<(T,blue) item>> [[psysml:867e3ff9-f74d-45bb-974d-3b3d8373197d ]] {\r\n",
       "}\r\n",
       "comp usage \"c: C\" as E5  <<(T,blue) part>> [[psysml:cb0d56cf-7b64-416e-8353-0e76041e55a4 ]] {\r\n",
       "}\r\n",
       "comp def \"B\" as E6  <<(T,blue) item def>> [[psysml:cb468909-38eb-4328-9448-1d282e0fd6a5 ]] {\r\n",
       "}\r\n",
       "comp usage \"a: A\" as E7  <<(T,blue) part>> [[psysml:8d68ea76-8496-4a3a-9bac-3b5e10d4f6d7 ]] {\r\n",
       "}\r\n",
       "comp def \"C\" as E8  <<(T,blue) part def>> [[psysml:3d841289-74ad-422d-b7f3-bdfc719d6361 ]] {\r\n",
       "}\r\n",
       "comp def \"P\" as E9  <<(T,blue) port def>> [[psysml:192666b5-43c5-4ec0-a40a-8ab471017ca3 ]] {\r\n",
       "}\r\n",
       "comp usage \"a1: A\" as E10  <<(T,blue) item>> [[psysml:a2436968-c74d-4c9f-bf2a-127bcc502b4e ]] {\r\n",
       "}\r\n",
       "comp usage \"a2: A\" as E11  <<(T,blue) item>> [[psysml:6388cc28-f9be-476c-ad05-d9ff93971fbb ]] {\r\n",
       "}\r\n",
       "}\r\n",
       "E2 - -:|> E3 [[psysml:24dbd283-1078-40f8-9dda-86d7de7bac74 ]] \r\n",
       "E3 *- - \"1\"E4 [[psysml:9f51e7d9-1020-406a-8433-de0298038040 ]] \r\n",
       "E3 o- - \"1\"E5 [[psysml:7a936c29-0528-4da5-855d-3be7e5f4e113 ]] \r\n",
       "E4 - -:|> E6 [[psysml:860f4e4a-475c-4d3a-a05e-585111d40739 ]] \r\n",
       "E6 *- - \"1\"E7 [[psysml:01396c82-09da-45aa-ba0c-a7dad5741ff2 ]] \r\n",
       "E7 - -:|> E3 [[psysml:d97708ca-1830-4e5e-bf07-a2aabe0546e8 ]] \r\n",
       "E5 - -:|> E8 [[psysml:75f754af-bdfa-473b-8cbb-d11c609ad500 ]] \r\n",
       "E8 o- - E3 [[psysml:aa35edca-3910-4cd9-97ff-300d5c8627fc ]] : y\r\n",
       "E8 o- - E6 [[psysml:aa35edca-3910-4cd9-97ff-300d5c8627fc ]] : y\r\n",
       "E9 o- - \"1\"E10 [[psysml:cf1da376-637e-4400-b815-716d62b1c417 ]] \r\n",
       "E10 - -:|> E3 [[psysml:4cf35cfc-841e-4847-875d-1ebad6bb61b9 ]] \r\n",
       "E9 o- - \"1\"E11 [[psysml:bd05daaf-8002-489d-bbfa-6134af678ace ]] \r\n",
       "E11 - -:|> E3 [[psysml:31e39f64-1f8d-4b2c-be98-c1459e5d6e94 ]] \r\n",
       "@enduml\r\n",
       "\n",
       "PlantUML version 1.2020.13(Sat Jun 13 12:26:38 UTC 2020)\n",
       "(EPL source distribution)\n",
       "Java Runtime: OpenJDK Runtime Environment\n",
       "JVM: OpenJDK 64-Bit Server VM\n",
       "Default Encoding: UTF-8\n",
       "Language: en\n",
       "Country: null\n",
       "--></g></svg>"
      ]
     },
     "execution_count": 52,
     "metadata": {},
     "output_type": "execute_result"
    }
   ],
   "source": [
    "%viz --style=\"ORTHOLINE\" --view=\"Tree\" \"ItemTest\""
   ]
  },
  {
   "cell_type": "code",
   "execution_count": 53,
   "id": "530b311c",
   "metadata": {
    "execution": {
     "iopub.execute_input": "2021-10-03T08:27:30.294818Z",
     "iopub.status.busy": "2021-10-03T08:27:30.294403Z",
     "iopub.status.idle": "2021-10-03T08:27:30.299435Z",
     "shell.execute_reply": "2021-10-03T08:27:30.299748Z"
    }
   },
   "outputs": [
    {
     "data": {
      "image/svg+xml": [
       "<?xml version=\"1.0\" encoding=\"UTF-8\" standalone=\"no\"?><svg xmlns=\"http://www.w3.org/2000/svg\" xmlns:xlink=\"http://www.w3.org/1999/xlink\" contentScriptType=\"application/ecmascript\" contentStyleType=\"text/css\" height=\"12px\" preserveAspectRatio=\"none\" style=\"width:12px;height:12px;\" version=\"1.1\" viewBox=\"0 0 12 12\" width=\"12px\" zoomAndPan=\"magnify\"><defs/><g><!--MD5=[97d6f38768b311333d388e66b2b27985]\n",
       "@startuml\r\n",
       "skinparam linetype ortho\r\n",
       "skinparam monochrome true\r\n",
       "skinparam classbackgroundcolor white\r\n",
       "skinparam shadowing false\r\n",
       "skinparam wrapWidth 300\r\n",
       "hide circle\r\n",
       "\r\n",
       "@enduml\r\n",
       "\n",
       "PlantUML version 1.2020.13(Sat Jun 13 12:26:38 UTC 2020)\n",
       "(EPL source distribution)\n",
       "Java Runtime: OpenJDK Runtime Environment\n",
       "JVM: OpenJDK 64-Bit Server VM\n",
       "Default Encoding: UTF-8\n",
       "Language: en\n",
       "Country: null\n",
       "--></g></svg>"
      ]
     },
     "execution_count": 53,
     "metadata": {},
     "output_type": "execute_result"
    }
   ],
   "source": [
    "%viz --style=\"ORTHOLINE\" --view=\"State\" \"ItemTest\""
   ]
  },
  {
   "cell_type": "code",
   "execution_count": 54,
   "id": "4e8cb954",
   "metadata": {
    "execution": {
     "iopub.execute_input": "2021-10-03T08:27:30.349000Z",
     "iopub.status.busy": "2021-10-03T08:27:30.348603Z",
     "iopub.status.idle": "2021-10-03T08:27:30.374219Z",
     "shell.execute_reply": "2021-10-03T08:27:30.372528Z"
    }
   },
   "outputs": [
    {
     "data": {
      "image/svg+xml": [
       "<?xml version=\"1.0\" encoding=\"UTF-8\" standalone=\"no\"?><svg xmlns=\"http://www.w3.org/2000/svg\" xmlns:xlink=\"http://www.w3.org/1999/xlink\" contentScriptType=\"application/ecmascript\" contentStyleType=\"text/css\" height=\"112px\" preserveAspectRatio=\"none\" style=\"width:548px;height:112px;\" version=\"1.1\" viewBox=\"0 0 548 112\" width=\"548px\" zoomAndPan=\"magnify\"><defs/><g><!--MD5=[fbc87193dbaf4d95561dea2c320d4a47]\n",
       "cluster E1--><a href=\"psysml:1bc06463-7392-4b34-87d6-1f1d6784670a\" target=\"_top\" title=\"psysml:1bc06463-7392-4b34-87d6-1f1d6784670a\" xlink:actuate=\"onRequest\" xlink:href=\"psysml:1bc06463-7392-4b34-87d6-1f1d6784670a\" xlink:show=\"new\" xlink:title=\"psysml:1bc06463-7392-4b34-87d6-1f1d6784670a\" xlink:type=\"simple\"><polygon fill=\"#FFFFFF\" points=\"16,6,83,6,90,28.2969,526,28.2969,526,100,16,100,16,6\" style=\"stroke: #000000; stroke-width: 1.5;\"/><line style=\"stroke: #000000; stroke-width: 1.5;\" x1=\"16\" x2=\"90\" y1=\"28.2969\" y2=\"28.2969\"/><text fill=\"#000000\" font-family=\"sans-serif\" font-size=\"14\" font-weight=\"bold\" lengthAdjust=\"spacingAndGlyphs\" textLength=\"61\" x=\"20\" y=\"20.9951\">ItemTest</text></a><g id=\"E1.E3\"><a href=\"psysml:d8185bfd-cc57-4585-aec6-0a59765b9e32\" target=\"_top\" title=\"psysml:d8185bfd-cc57-4585-aec6-0a59765b9e32\" xlink:actuate=\"onRequest\" xlink:href=\"psysml:d8185bfd-cc57-4585-aec6-0a59765b9e32\" xlink:show=\"new\" xlink:title=\"psysml:d8185bfd-cc57-4585-aec6-0a59765b9e32\" xlink:type=\"simple\"><rect fill=\"#FFFFFF\" height=\"42.9375\" id=\"E3\" style=\"stroke: #383838; stroke-width: 1.5;\" width=\"72\" x=\"438\" y=\"41\"/><rect fill=\"#F8F8F8\" height=\"37.9375\" style=\"stroke: #383838; stroke-width: 1.5;\" width=\"72\" x=\"438\" y=\"41\"/><text fill=\"#000000\" font-family=\"sans-serif\" font-size=\"12\" font-style=\"italic\" lengthAdjust=\"spacingAndGlyphs\" textLength=\"65\" x=\"441.5\" y=\"57.1387\">«item def»</text><text fill=\"#000000\" font-family=\"sans-serif\" font-size=\"12\" lengthAdjust=\"spacingAndGlyphs\" textLength=\"8\" x=\"470\" y=\"71.1074\">A</text></a></g><g id=\"E1.E4\"><a href=\"psysml:cb468909-38eb-4328-9448-1d282e0fd6a5\" target=\"_top\" title=\"psysml:cb468909-38eb-4328-9448-1d282e0fd6a5\" xlink:actuate=\"onRequest\" xlink:href=\"psysml:cb468909-38eb-4328-9448-1d282e0fd6a5\" xlink:show=\"new\" xlink:title=\"psysml:cb468909-38eb-4328-9448-1d282e0fd6a5\" xlink:type=\"simple\"><rect fill=\"#FFFFFF\" height=\"42.9375\" id=\"E4\" style=\"stroke: #383838; stroke-width: 1.5;\" width=\"72\" x=\"331\" y=\"41\"/><rect fill=\"#F8F8F8\" height=\"37.9375\" style=\"stroke: #383838; stroke-width: 1.5;\" width=\"72\" x=\"331\" y=\"41\"/><text fill=\"#000000\" font-family=\"sans-serif\" font-size=\"12\" font-style=\"italic\" lengthAdjust=\"spacingAndGlyphs\" textLength=\"65\" x=\"334.5\" y=\"57.1387\">«item def»</text><text fill=\"#000000\" font-family=\"sans-serif\" font-size=\"12\" lengthAdjust=\"spacingAndGlyphs\" textLength=\"8\" x=\"363\" y=\"71.1074\">B</text></a></g><g id=\"E1.E6\"><a href=\"psysml:192666b5-43c5-4ec0-a40a-8ab471017ca3\" target=\"_top\" title=\"psysml:192666b5-43c5-4ec0-a40a-8ab471017ca3\" xlink:actuate=\"onRequest\" xlink:href=\"psysml:192666b5-43c5-4ec0-a40a-8ab471017ca3\" xlink:show=\"new\" xlink:title=\"psysml:192666b5-43c5-4ec0-a40a-8ab471017ca3\" xlink:type=\"simple\"><rect fill=\"#FFFFFF\" height=\"42.9375\" id=\"E6\" style=\"stroke: #383838; stroke-width: 1.5;\" width=\"71\" x=\"224.5\" y=\"41\"/><rect fill=\"#F8F8F8\" height=\"37.9375\" style=\"stroke: #383838; stroke-width: 1.5;\" width=\"71\" x=\"224.5\" y=\"41\"/><text fill=\"#000000\" font-family=\"sans-serif\" font-size=\"12\" font-style=\"italic\" lengthAdjust=\"spacingAndGlyphs\" textLength=\"64\" x=\"228\" y=\"57.1387\">«port def»</text><text fill=\"#000000\" font-family=\"sans-serif\" font-size=\"12\" lengthAdjust=\"spacingAndGlyphs\" textLength=\"8\" x=\"256\" y=\"71.1074\">P</text></a></g><g id=\"E1.E2\"><a href=\"psysml:10e5f196-141c-4ebb-934a-0a8c25223d15\" target=\"_top\" title=\"psysml:10e5f196-141c-4ebb-934a-0a8c25223d15\" xlink:actuate=\"onRequest\" xlink:href=\"psysml:10e5f196-141c-4ebb-934a-0a8c25223d15\" xlink:show=\"new\" xlink:title=\"psysml:10e5f196-141c-4ebb-934a-0a8c25223d15\" xlink:type=\"simple\"><rect fill=\"#FFFFFF\" height=\"42.9375\" id=\"E2\" rx=\"10\" ry=\"10\" style=\"stroke: #383838; stroke-width: 1.5;\" width=\"50\" x=\"139\" y=\"41\"/><rect fill=\"#F8F8F8\" height=\"37.9375\" rx=\"10\" ry=\"10\" style=\"stroke: #F8F8F8; stroke-width: 1.5;\" width=\"50\" x=\"139\" y=\"41\"/><rect fill=\"#F8F8F8\" height=\"10\" style=\"stroke: #F8F8F8; stroke-width: 1.5;\" width=\"50\" x=\"139\" y=\"68.9375\"/><rect fill=\"none\" height=\"42.9375\" id=\"E2\" rx=\"10\" ry=\"10\" style=\"stroke: #383838; stroke-width: 1.5;\" width=\"50\" x=\"139\" y=\"41\"/><text fill=\"#000000\" font-family=\"sans-serif\" font-size=\"12\" font-style=\"italic\" lengthAdjust=\"spacingAndGlyphs\" textLength=\"41\" x=\"143.5\" y=\"57.1387\">«item»</text><text fill=\"#000000\" font-family=\"sans-serif\" font-size=\"12\" lengthAdjust=\"spacingAndGlyphs\" textLength=\"20\" x=\"154\" y=\"71.1074\">f: A</text></a></g><g id=\"E1.E5\"><a href=\"psysml:3d841289-74ad-422d-b7f3-bdfc719d6361\" target=\"_top\" title=\"psysml:3d841289-74ad-422d-b7f3-bdfc719d6361\" xlink:actuate=\"onRequest\" xlink:href=\"psysml:3d841289-74ad-422d-b7f3-bdfc719d6361\" xlink:show=\"new\" xlink:title=\"psysml:3d841289-74ad-422d-b7f3-bdfc719d6361\" xlink:type=\"simple\"><rect fill=\"#FFFFFF\" height=\"42.9375\" id=\"E5\" style=\"stroke: #383838; stroke-width: 1.5;\" width=\"71\" x=\"32.5\" y=\"41\"/><rect fill=\"#F8F8F8\" height=\"37.9375\" style=\"stroke: #383838; stroke-width: 1.5;\" width=\"71\" x=\"32.5\" y=\"41\"/><text fill=\"#000000\" font-family=\"sans-serif\" font-size=\"12\" font-style=\"italic\" lengthAdjust=\"spacingAndGlyphs\" textLength=\"64\" x=\"36\" y=\"57.1387\">«part def»</text><text fill=\"#000000\" font-family=\"sans-serif\" font-size=\"12\" lengthAdjust=\"spacingAndGlyphs\" textLength=\"8\" x=\"64\" y=\"71.1074\">C</text></a></g><!--MD5=[5b26cd811c531e30930cc046d50b0314]\n",
       "@startuml\r\n",
       "skinparam ranksep 10\r\n",
       "skinparam rectangle {\r\n",
       " backgroundColor<<block>> LightGreen\r\n",
       "}\r\n",
       "skinparam linetype ortho\r\n",
       "skinparam monochrome true\r\n",
       "skinparam classbackgroundcolor white\r\n",
       "skinparam shadowing false\r\n",
       "skinparam wrapWidth 300\r\n",
       "hide circle\r\n",
       "\r\n",
       "package \"ItemTest\" as E1  [[psysml:1bc06463-7392-4b34-87d6-1f1d6784670a ]]  {\r\n",
       "rec usage \"f: A\" as E2  <<(T,blue) item>> [[psysml:10e5f196-141c-4ebb-934a-0a8c25223d15 ]] {\r\n",
       "}\r\n",
       "def \"A\" as E3  <<(T,blue) item def>> [[psysml:d8185bfd-cc57-4585-aec6-0a59765b9e32 ]] \r\n",
       "def \"B\" as E4  <<(T,blue) item def>> [[psysml:cb468909-38eb-4328-9448-1d282e0fd6a5 ]] \r\n",
       "rec def \"C\" as E5  <<(T,blue) part def>> [[psysml:3d841289-74ad-422d-b7f3-bdfc719d6361 ]] {\r\n",
       "}\r\n",
       "def \"P\" as E6  <<(T,blue) port def>> [[psysml:192666b5-43c5-4ec0-a40a-8ab471017ca3 ]] \r\n",
       "}\r\n",
       "@enduml\r\n",
       "\n",
       "PlantUML version 1.2020.13(Sat Jun 13 12:26:38 UTC 2020)\n",
       "(EPL source distribution)\n",
       "Java Runtime: OpenJDK Runtime Environment\n",
       "JVM: OpenJDK 64-Bit Server VM\n",
       "Default Encoding: UTF-8\n",
       "Language: en\n",
       "Country: null\n",
       "--></g></svg>"
      ]
     },
     "execution_count": 54,
     "metadata": {},
     "output_type": "execute_result"
    }
   ],
   "source": [
    "%viz --style=\"ORTHOLINE\" --view=\"Interconnection\" \"ItemTest\""
   ]
  },
  {
   "cell_type": "code",
   "execution_count": 55,
   "id": "e79eb569",
   "metadata": {
    "execution": {
     "iopub.execute_input": "2021-10-03T08:27:30.423262Z",
     "iopub.status.busy": "2021-10-03T08:27:30.422863Z",
     "iopub.status.idle": "2021-10-03T08:27:30.427587Z",
     "shell.execute_reply": "2021-10-03T08:27:30.427254Z"
    }
   },
   "outputs": [
    {
     "data": {
      "image/svg+xml": [
       "<?xml version=\"1.0\" encoding=\"UTF-8\" standalone=\"no\"?><svg xmlns=\"http://www.w3.org/2000/svg\" xmlns:xlink=\"http://www.w3.org/1999/xlink\" contentScriptType=\"application/ecmascript\" contentStyleType=\"text/css\" height=\"12px\" preserveAspectRatio=\"none\" style=\"width:12px;height:12px;\" version=\"1.1\" viewBox=\"0 0 12 12\" width=\"12px\" zoomAndPan=\"magnify\"><defs/><g><!--MD5=[72934c63077099a26744516a776b4749]\n",
       "@startuml\r\n",
       "skinparam ranksep 8\r\n",
       "skinparam linetype ortho\r\n",
       "skinparam monochrome true\r\n",
       "skinparam classbackgroundcolor white\r\n",
       "skinparam shadowing false\r\n",
       "skinparam wrapWidth 300\r\n",
       "hide circle\r\n",
       "\r\n",
       "@enduml\r\n",
       "\n",
       "PlantUML version 1.2020.13(Sat Jun 13 12:26:38 UTC 2020)\n",
       "(EPL source distribution)\n",
       "Java Runtime: OpenJDK Runtime Environment\n",
       "JVM: OpenJDK 64-Bit Server VM\n",
       "Default Encoding: UTF-8\n",
       "Language: en\n",
       "Country: null\n",
       "--></g></svg>"
      ]
     },
     "execution_count": 55,
     "metadata": {},
     "output_type": "execute_result"
    }
   ],
   "source": [
    "%viz --style=\"ORTHOLINE\" --view=\"Action\" \"ItemTest\""
   ]
  },
  {
   "cell_type": "code",
   "execution_count": 56,
   "id": "71437b9e",
   "metadata": {
    "execution": {
     "iopub.execute_input": "2021-10-03T08:27:30.477081Z",
     "iopub.status.busy": "2021-10-03T08:27:30.476680Z",
     "iopub.status.idle": "2021-10-03T08:27:30.481180Z",
     "shell.execute_reply": "2021-10-03T08:27:30.481467Z"
    }
   },
   "outputs": [
    {
     "data": {
      "image/svg+xml": [
       "<?xml version=\"1.0\" encoding=\"UTF-8\" standalone=\"no\"?><svg xmlns=\"http://www.w3.org/2000/svg\" xmlns:xlink=\"http://www.w3.org/1999/xlink\" contentScriptType=\"application/ecmascript\" contentStyleType=\"text/css\" height=\"12px\" preserveAspectRatio=\"none\" style=\"width:12px;height:12px;\" version=\"1.1\" viewBox=\"0 0 12 12\" width=\"12px\" zoomAndPan=\"magnify\"><defs/><g><!--MD5=[30fc1de5121c5abddedd55b44417fde8]\n",
       "@startuml\r\n",
       "skinparam roundcorner 20\r\n",
       "skinparam BoxPadding 20\r\n",
       "skinparam SequenceBoxBackgroundColor #white\r\n",
       "skinparam style strictuml\r\n",
       "skinparam maxMessageSize 100\r\n",
       "skinparam linetype ortho\r\n",
       "skinparam monochrome true\r\n",
       "skinparam classbackgroundcolor white\r\n",
       "skinparam shadowing false\r\n",
       "skinparam wrapWidth 300\r\n",
       "hide circle\r\n",
       "\r\n",
       "@enduml\r\n",
       "\n",
       "PlantUML version 1.2020.13(Sat Jun 13 12:26:38 UTC 2020)\n",
       "(EPL source distribution)\n",
       "Java Runtime: OpenJDK Runtime Environment\n",
       "JVM: OpenJDK 64-Bit Server VM\n",
       "Default Encoding: UTF-8\n",
       "Language: en\n",
       "Country: null\n",
       "--></g></svg>"
      ]
     },
     "execution_count": 56,
     "metadata": {},
     "output_type": "execute_result"
    }
   ],
   "source": [
    "%viz --style=\"ORTHOLINE\" --view=\"Sequence\" \"ItemTest\""
   ]
  },
  {
   "cell_type": "code",
   "execution_count": 57,
   "id": "98fc69cd",
   "metadata": {
    "execution": {
     "iopub.execute_input": "2021-10-03T08:27:30.531031Z",
     "iopub.status.busy": "2021-10-03T08:27:30.530633Z",
     "iopub.status.idle": "2021-10-03T08:27:30.573423Z",
     "shell.execute_reply": "2021-10-03T08:27:30.571459Z"
    }
   },
   "outputs": [
    {
     "data": {
      "image/svg+xml": [
       "<?xml version=\"1.0\" encoding=\"UTF-8\" standalone=\"no\"?><svg xmlns=\"http://www.w3.org/2000/svg\" xmlns:xlink=\"http://www.w3.org/1999/xlink\" contentScriptType=\"application/ecmascript\" contentStyleType=\"text/css\" height=\"818px\" preserveAspectRatio=\"none\" style=\"width:270px;height:818px;\" version=\"1.1\" viewBox=\"0 0 270 818\" width=\"270px\" zoomAndPan=\"magnify\"><defs/><g><!--MD5=[fbc87193dbaf4d95561dea2c320d4a47]\n",
       "cluster E1--><a href=\"psysml:1bc06463-7392-4b34-87d6-1f1d6784670a\" target=\"_top\" title=\"psysml:1bc06463-7392-4b34-87d6-1f1d6784670a\" xlink:actuate=\"onRequest\" xlink:href=\"psysml:1bc06463-7392-4b34-87d6-1f1d6784670a\" xlink:show=\"new\" xlink:title=\"psysml:1bc06463-7392-4b34-87d6-1f1d6784670a\" xlink:type=\"simple\"><polygon fill=\"#FFFFFF\" points=\"16,6,83,6,90,28.2969,248,28.2969,248,806,16,806,16,6\" style=\"stroke: #000000; stroke-width: 1.5;\"/><line style=\"stroke: #000000; stroke-width: 1.5;\" x1=\"16\" x2=\"90\" y1=\"28.2969\" y2=\"28.2969\"/><text fill=\"#000000\" font-family=\"sans-serif\" font-size=\"14\" font-weight=\"bold\" lengthAdjust=\"spacingAndGlyphs\" textLength=\"61\" x=\"20\" y=\"20.9951\">ItemTest</text></a><!--MD5=[b4997ac47864f28c2f74865a473b2911]\n",
       "class E2--><a href=\"psysml:10e5f196-141c-4ebb-934a-0a8c25223d15\" target=\"_top\" title=\"psysml:10e5f196-141c-4ebb-934a-0a8c25223d15\" xlink:actuate=\"onRequest\" xlink:href=\"psysml:10e5f196-141c-4ebb-934a-0a8c25223d15\" xlink:show=\"new\" xlink:title=\"psysml:10e5f196-141c-4ebb-934a-0a8c25223d15\" xlink:type=\"simple\"><rect fill=\"#FFFFFF\" height=\"45.9375\" id=\"E2\" rx=\"10\" ry=\"10\" style=\"stroke: #383838; stroke-width: 1.5;\" width=\"43\" x=\"188.5\" y=\"148\"/><text fill=\"#000000\" font-family=\"sans-serif\" font-size=\"12\" font-style=\"italic\" lengthAdjust=\"spacingAndGlyphs\" textLength=\"41\" x=\"189.5\" y=\"164.1387\">«item»</text><text fill=\"#000000\" font-family=\"sans-serif\" font-size=\"12\" lengthAdjust=\"spacingAndGlyphs\" textLength=\"20\" x=\"200\" y=\"178.1074\">f: A</text><line style=\"stroke: #383838; stroke-width: 1.5;\" x1=\"189.5\" x2=\"230.5\" y1=\"185.9375\" y2=\"185.9375\"/></a><!--MD5=[09b614a08d8cba4a07c9adeb5e0fee81]\n",
       "class E3--><a href=\"psysml:d8185bfd-cc57-4585-aec6-0a59765b9e32\" target=\"_top\" title=\"psysml:d8185bfd-cc57-4585-aec6-0a59765b9e32\" xlink:actuate=\"onRequest\" xlink:href=\"psysml:d8185bfd-cc57-4585-aec6-0a59765b9e32\" xlink:show=\"new\" xlink:title=\"psysml:d8185bfd-cc57-4585-aec6-0a59765b9e32\" xlink:type=\"simple\"><rect fill=\"#FFFFFF\" height=\"45.9375\" id=\"E3\" style=\"stroke: #383838; stroke-width: 1.5;\" width=\"67\" x=\"98.5\" y=\"255\"/><text fill=\"#000000\" font-family=\"sans-serif\" font-size=\"12\" font-style=\"italic\" lengthAdjust=\"spacingAndGlyphs\" textLength=\"65\" x=\"99.5\" y=\"271.1387\">«item def»</text><text fill=\"#000000\" font-family=\"sans-serif\" font-size=\"12\" lengthAdjust=\"spacingAndGlyphs\" textLength=\"8\" x=\"128\" y=\"285.1074\">A</text><line style=\"stroke: #383838; stroke-width: 1.5;\" x1=\"99.5\" x2=\"164.5\" y1=\"292.9375\" y2=\"292.9375\"/></a><!--MD5=[ebbe1d658d1005bcc118a6aa81145e00]\n",
       "class E4--><a href=\"psysml:867e3ff9-f74d-45bb-974d-3b3d8373197d\" target=\"_top\" title=\"psysml:867e3ff9-f74d-45bb-974d-3b3d8373197d\" xlink:actuate=\"onRequest\" xlink:href=\"psysml:867e3ff9-f74d-45bb-974d-3b3d8373197d\" xlink:show=\"new\" xlink:title=\"psysml:867e3ff9-f74d-45bb-974d-3b3d8373197d\" xlink:type=\"simple\"><rect fill=\"#FFFFFF\" height=\"45.9375\" id=\"E4\" rx=\"10\" ry=\"10\" style=\"stroke: #383838; stroke-width: 1.5;\" width=\"43\" x=\"45.5\" y=\"438\"/><text fill=\"#000000\" font-family=\"sans-serif\" font-size=\"12\" font-style=\"italic\" lengthAdjust=\"spacingAndGlyphs\" textLength=\"41\" x=\"46.5\" y=\"454.1387\">«item»</text><text fill=\"#000000\" font-family=\"sans-serif\" font-size=\"12\" lengthAdjust=\"spacingAndGlyphs\" textLength=\"24\" x=\"55\" y=\"468.1074\">b: B</text><line style=\"stroke: #383838; stroke-width: 1.5;\" x1=\"46.5\" x2=\"87.5\" y1=\"475.9375\" y2=\"475.9375\"/></a><!--MD5=[270fce915f116d4de14055a7c1d9a0f3]\n",
       "class E5--><a href=\"psysml:cb0d56cf-7b64-416e-8353-0e76041e55a4\" target=\"_top\" title=\"psysml:cb0d56cf-7b64-416e-8353-0e76041e55a4\" xlink:actuate=\"onRequest\" xlink:href=\"psysml:cb0d56cf-7b64-416e-8353-0e76041e55a4\" xlink:show=\"new\" xlink:title=\"psysml:cb0d56cf-7b64-416e-8353-0e76041e55a4\" xlink:type=\"simple\"><rect fill=\"#FFFFFF\" height=\"45.9375\" id=\"E5\" rx=\"10\" ry=\"10\" style=\"stroke: #383838; stroke-width: 1.5;\" width=\"42\" x=\"151\" y=\"362\"/><text fill=\"#000000\" font-family=\"sans-serif\" font-size=\"12\" font-style=\"italic\" lengthAdjust=\"spacingAndGlyphs\" textLength=\"40\" x=\"152\" y=\"378.1387\">«part»</text><text fill=\"#000000\" font-family=\"sans-serif\" font-size=\"12\" lengthAdjust=\"spacingAndGlyphs\" textLength=\"23\" x=\"160.5\" y=\"392.1074\">c: C</text><line style=\"stroke: #383838; stroke-width: 1.5;\" x1=\"152\" x2=\"192\" y1=\"399.9375\" y2=\"399.9375\"/></a><!--MD5=[60a26617385b1d2d0262a64233df1f8d]\n",
       "class E6--><a href=\"psysml:cb468909-38eb-4328-9448-1d282e0fd6a5\" target=\"_top\" title=\"psysml:cb468909-38eb-4328-9448-1d282e0fd6a5\" xlink:actuate=\"onRequest\" xlink:href=\"psysml:cb468909-38eb-4328-9448-1d282e0fd6a5\" xlink:show=\"new\" xlink:title=\"psysml:cb468909-38eb-4328-9448-1d282e0fd6a5\" xlink:type=\"simple\"><rect fill=\"#FFFFFF\" height=\"45.9375\" id=\"E6\" style=\"stroke: #383838; stroke-width: 1.5;\" width=\"67\" x=\"114.5\" y=\"637\"/><text fill=\"#000000\" font-family=\"sans-serif\" font-size=\"12\" font-style=\"italic\" lengthAdjust=\"spacingAndGlyphs\" textLength=\"65\" x=\"115.5\" y=\"653.1387\">«item def»</text><text fill=\"#000000\" font-family=\"sans-serif\" font-size=\"12\" lengthAdjust=\"spacingAndGlyphs\" textLength=\"8\" x=\"144\" y=\"667.1074\">B</text><line style=\"stroke: #383838; stroke-width: 1.5;\" x1=\"115.5\" x2=\"180.5\" y1=\"674.9375\" y2=\"674.9375\"/></a><!--MD5=[2156ba9850f5573cc1fc38a6a4b2f02b]\n",
       "class E7--><a href=\"psysml:8d68ea76-8496-4a3a-9bac-3b5e10d4f6d7\" target=\"_top\" title=\"psysml:8d68ea76-8496-4a3a-9bac-3b5e10d4f6d7\" xlink:actuate=\"onRequest\" xlink:href=\"psysml:8d68ea76-8496-4a3a-9bac-3b5e10d4f6d7\" xlink:show=\"new\" xlink:title=\"psysml:8d68ea76-8496-4a3a-9bac-3b5e10d4f6d7\" xlink:type=\"simple\"><rect fill=\"#FFFFFF\" height=\"45.9375\" id=\"E7\" rx=\"10\" ry=\"10\" style=\"stroke: #383838; stroke-width: 1.5;\" width=\"42\" x=\"159\" y=\"744\"/><text fill=\"#000000\" font-family=\"sans-serif\" font-size=\"12\" font-style=\"italic\" lengthAdjust=\"spacingAndGlyphs\" textLength=\"40\" x=\"160\" y=\"760.1387\">«part»</text><text fill=\"#000000\" font-family=\"sans-serif\" font-size=\"12\" lengthAdjust=\"spacingAndGlyphs\" textLength=\"24\" x=\"168\" y=\"774.1074\">a: A</text><line style=\"stroke: #383838; stroke-width: 1.5;\" x1=\"160\" x2=\"200\" y1=\"781.9375\" y2=\"781.9375\"/></a><!--MD5=[b9389687b975829384b498ac4b7476b2]\n",
       "class E8--><a href=\"psysml:3d841289-74ad-422d-b7f3-bdfc719d6361\" target=\"_top\" title=\"psysml:3d841289-74ad-422d-b7f3-bdfc719d6361\" xlink:actuate=\"onRequest\" xlink:href=\"psysml:3d841289-74ad-422d-b7f3-bdfc719d6361\" xlink:show=\"new\" xlink:title=\"psysml:3d841289-74ad-422d-b7f3-bdfc719d6361\" xlink:type=\"simple\"><rect fill=\"#FFFFFF\" height=\"45.9375\" id=\"E8\" style=\"stroke: #383838; stroke-width: 1.5;\" width=\"66\" x=\"115\" y=\"514\"/><text fill=\"#000000\" font-family=\"sans-serif\" font-size=\"12\" font-style=\"italic\" lengthAdjust=\"spacingAndGlyphs\" textLength=\"64\" x=\"116\" y=\"530.1387\">«part def»</text><text fill=\"#000000\" font-family=\"sans-serif\" font-size=\"12\" lengthAdjust=\"spacingAndGlyphs\" textLength=\"8\" x=\"144\" y=\"544.1074\">C</text><line style=\"stroke: #383838; stroke-width: 1.5;\" x1=\"116\" x2=\"180\" y1=\"551.9375\" y2=\"551.9375\"/></a><!--MD5=[fd4143e9d270a159db93a4ea2a975926]\n",
       "class E9--><a href=\"psysml:192666b5-43c5-4ec0-a40a-8ab471017ca3\" target=\"_top\" title=\"psysml:192666b5-43c5-4ec0-a40a-8ab471017ca3\" xlink:actuate=\"onRequest\" xlink:href=\"psysml:192666b5-43c5-4ec0-a40a-8ab471017ca3\" xlink:show=\"new\" xlink:title=\"psysml:192666b5-43c5-4ec0-a40a-8ab471017ca3\" xlink:type=\"simple\"><rect fill=\"#FFFFFF\" height=\"45.9375\" id=\"E9\" style=\"stroke: #383838; stroke-width: 1.5;\" width=\"66\" x=\"65\" y=\"41\"/><text fill=\"#000000\" font-family=\"sans-serif\" font-size=\"12\" font-style=\"italic\" lengthAdjust=\"spacingAndGlyphs\" textLength=\"64\" x=\"66\" y=\"57.1387\">«port def»</text><text fill=\"#000000\" font-family=\"sans-serif\" font-size=\"12\" lengthAdjust=\"spacingAndGlyphs\" textLength=\"8\" x=\"94\" y=\"71.1074\">P</text><line style=\"stroke: #383838; stroke-width: 1.5;\" x1=\"66\" x2=\"130\" y1=\"78.9375\" y2=\"78.9375\"/></a><!--MD5=[96f4274e9e20536e775497830990834d]\n",
       "class E10--><a href=\"psysml:a2436968-c74d-4c9f-bf2a-127bcc502b4e\" target=\"_top\" title=\"psysml:a2436968-c74d-4c9f-bf2a-127bcc502b4e\" xlink:actuate=\"onRequest\" xlink:href=\"psysml:a2436968-c74d-4c9f-bf2a-127bcc502b4e\" xlink:show=\"new\" xlink:title=\"psysml:a2436968-c74d-4c9f-bf2a-127bcc502b4e\" xlink:type=\"simple\"><rect fill=\"#FFFFFF\" height=\"45.9375\" id=\"E10\" rx=\"10\" ry=\"10\" style=\"stroke: #383838; stroke-width: 1.5;\" width=\"43\" x=\"32.5\" y=\"148\"/><text fill=\"#000000\" font-family=\"sans-serif\" font-size=\"12\" font-style=\"italic\" lengthAdjust=\"spacingAndGlyphs\" textLength=\"41\" x=\"33.5\" y=\"164.1387\">«item»</text><text fill=\"#000000\" font-family=\"sans-serif\" font-size=\"12\" lengthAdjust=\"spacingAndGlyphs\" textLength=\"32\" x=\"38\" y=\"178.1074\">a1: A</text><line style=\"stroke: #383838; stroke-width: 1.5;\" x1=\"33.5\" x2=\"74.5\" y1=\"185.9375\" y2=\"185.9375\"/></a><!--MD5=[1dd1bfd58a279cf63c5f349dbc8fc6a1]\n",
       "class E11--><a href=\"psysml:6388cc28-f9be-476c-ad05-d9ff93971fbb\" target=\"_top\" title=\"psysml:6388cc28-f9be-476c-ad05-d9ff93971fbb\" xlink:actuate=\"onRequest\" xlink:href=\"psysml:6388cc28-f9be-476c-ad05-d9ff93971fbb\" xlink:show=\"new\" xlink:title=\"psysml:6388cc28-f9be-476c-ad05-d9ff93971fbb\" xlink:type=\"simple\"><rect fill=\"#FFFFFF\" height=\"45.9375\" id=\"E11\" rx=\"10\" ry=\"10\" style=\"stroke: #383838; stroke-width: 1.5;\" width=\"43\" x=\"110.5\" y=\"148\"/><text fill=\"#000000\" font-family=\"sans-serif\" font-size=\"12\" font-style=\"italic\" lengthAdjust=\"spacingAndGlyphs\" textLength=\"41\" x=\"111.5\" y=\"164.1387\">«item»</text><text fill=\"#000000\" font-family=\"sans-serif\" font-size=\"12\" lengthAdjust=\"spacingAndGlyphs\" textLength=\"32\" x=\"116\" y=\"178.1074\">a2: A</text><line style=\"stroke: #383838; stroke-width: 1.5;\" x1=\"111.5\" x2=\"152.5\" y1=\"185.9375\" y2=\"185.9375\"/></a><!--MD5=[2720a5a1f2c3fca2055b230370638851]\n",
       "link E2 to E3--><a href=\"psysml:24dbd283-1078-40f8-9dda-86d7de7bac74\" target=\"_top\" title=\"psysml:24dbd283-1078-40f8-9dda-86d7de7bac74\" xlink:actuate=\"onRequest\" xlink:href=\"psysml:24dbd283-1078-40f8-9dda-86d7de7bac74\" xlink:show=\"new\" xlink:title=\"psysml:24dbd283-1078-40f8-9dda-86d7de7bac74\" xlink:type=\"simple\"><path d=\"M188.29,171 C174.6,171 159.5,171 159.5,171 C159.5,171 159.5,234.78 159.5,234.78 \" fill=\"none\" id=\"E2-&gt;E3\" style=\"stroke: #383838; stroke-width: 1.0;\"/><polygon fill=\"#FFFFFF\" points=\"159.5,254.78,152.5,235.78,166.5,235.78,159.5,254.78\" style=\"stroke: #383838; stroke-width: 1.0;\"/><ellipse cx=\"154.5\" cy=\"230.08\" fill=\"#383838\" rx=\"2\" ry=\"2\" style=\"stroke: #383838; stroke-width: 1.0;\"/><ellipse cx=\"164.5\" cy=\"230.08\" fill=\"#383838\" rx=\"2\" ry=\"2\" style=\"stroke: #383838; stroke-width: 1.0;\"/></a><!--MD5=[4672eba38e49728da53d11aeb285b987]\n",
       "reverse link E3 to E4--><a href=\"psysml:9f51e7d9-1020-406a-8433-de0298038040\" target=\"_top\" title=\"psysml:9f51e7d9-1020-406a-8433-de0298038040\" xlink:actuate=\"onRequest\" xlink:href=\"psysml:9f51e7d9-1020-406a-8433-de0298038040\" xlink:show=\"new\" xlink:title=\"psysml:9f51e7d9-1020-406a-8433-de0298038040\" xlink:type=\"simple\"><path d=\"M85.37,278 C85.37,278 82,278 82,278 C82,278 82,388.58 82,437.82 \" fill=\"none\" id=\"E3&lt;-E4\" style=\"stroke: #383838; stroke-width: 1.0;\"/><polygon fill=\"#383838\" points=\"98.37,278,92.37,274,86.37,278,92.37,282,98.37,278\" style=\"stroke: #383838; stroke-width: 1.0;\"/><text fill=\"#000000\" font-family=\"sans-serif\" font-size=\"13\" lengthAdjust=\"spacingAndGlyphs\" textLength=\"8\" x=\"76.8188\" y=\"427.0502\">1</text></a><!--MD5=[191cde3d490a3f6d7bb551fe3ddca469]\n",
       "reverse link E3 to E5--><a href=\"psysml:7a936c29-0528-4da5-855d-3be7e5f4e113\" target=\"_top\" title=\"psysml:7a936c29-0528-4da5-855d-3be7e5f4e113\" xlink:actuate=\"onRequest\" xlink:href=\"psysml:7a936c29-0528-4da5-855d-3be7e5f4e113\" xlink:show=\"new\" xlink:title=\"psysml:7a936c29-0528-4da5-855d-3be7e5f4e113\" xlink:type=\"simple\"><path d=\"M158.25,314.22 C158.25,314.22 158.25,361.83 158.25,361.83 \" fill=\"none\" id=\"E3&lt;-E5\" style=\"stroke: #383838; stroke-width: 1.0;\"/><polygon fill=\"#FFFFFF\" points=\"158.25,301.22,154.25,307.22,158.25,313.22,162.25,307.22,158.25,301.22\" style=\"stroke: #383838; stroke-width: 1.0;\"/><text fill=\"#000000\" font-family=\"sans-serif\" font-size=\"13\" lengthAdjust=\"spacingAndGlyphs\" textLength=\"8\" x=\"145.7016\" y=\"351.0627\">1</text></a><!--MD5=[79568f1e445c3877b6a54524624ccc7d]\n",
       "link E4 to E6--><a href=\"psysml:860f4e4a-475c-4d3a-a05e-585111d40739\" target=\"_top\" title=\"psysml:860f4e4a-475c-4d3a-a05e-585111d40739\" xlink:actuate=\"onRequest\" xlink:href=\"psysml:860f4e4a-475c-4d3a-a05e-585111d40739\" xlink:show=\"new\" xlink:title=\"psysml:860f4e4a-475c-4d3a-a05e-585111d40739\" xlink:type=\"simple\"><path d=\"M67,484.22 C67,536.71 67,660 67,660 C67,660 94.12,660 94.12,660 \" fill=\"none\" id=\"E4-&gt;E6\" style=\"stroke: #383838; stroke-width: 1.0;\"/><polygon fill=\"#FFFFFF\" points=\"114.12,660,95.12,667,95.12,653,114.12,660\" style=\"stroke: #383838; stroke-width: 1.0;\"/><ellipse cx=\"89.42\" cy=\"665\" fill=\"#383838\" rx=\"2\" ry=\"2\" style=\"stroke: #383838; stroke-width: 1.0;\"/><ellipse cx=\"89.42\" cy=\"655\" fill=\"#383838\" rx=\"2\" ry=\"2\" style=\"stroke: #383838; stroke-width: 1.0;\"/></a><!--MD5=[3f50a3473f1dfb74d3f76443e03635af]\n",
       "reverse link E6 to E7--><a href=\"psysml:01396c82-09da-45aa-ba0c-a7dad5741ff2\" target=\"_top\" title=\"psysml:01396c82-09da-45aa-ba0c-a7dad5741ff2\" xlink:actuate=\"onRequest\" xlink:href=\"psysml:01396c82-09da-45aa-ba0c-a7dad5741ff2\" xlink:show=\"new\" xlink:title=\"psysml:01396c82-09da-45aa-ba0c-a7dad5741ff2\" xlink:type=\"simple\"><path d=\"M170.25,696.22 C170.25,696.22 170.25,743.83 170.25,743.83 \" fill=\"none\" id=\"E6&lt;-E7\" style=\"stroke: #383838; stroke-width: 1.0;\"/><polygon fill=\"#383838\" points=\"170.25,683.22,166.25,689.22,170.25,695.22,174.25,689.22,170.25,683.22\" style=\"stroke: #383838; stroke-width: 1.0;\"/><text fill=\"#000000\" font-family=\"sans-serif\" font-size=\"13\" lengthAdjust=\"spacingAndGlyphs\" textLength=\"8\" x=\"158.7266\" y=\"733.0627\">1</text></a><!--MD5=[14ccda38c055a5c0da953d572bc50960]\n",
       "link E7 to E3--><a href=\"psysml:d97708ca-1830-4e5e-bf07-a2aabe0546e8\" target=\"_top\" title=\"psysml:d97708ca-1830-4e5e-bf07-a2aabe0546e8\" xlink:actuate=\"onRequest\" xlink:href=\"psysml:d97708ca-1830-4e5e-bf07-a2aabe0546e8\" xlink:show=\"new\" xlink:title=\"psysml:d97708ca-1830-4e5e-bf07-a2aabe0546e8\" xlink:type=\"simple\"><path d=\"M197,743.74 C197,646.56 197,278 197,278 C197,278 185.64,278 185.64,278 \" fill=\"none\" id=\"E7-&gt;E3\" style=\"stroke: #383838; stroke-width: 1.0;\"/><polygon fill=\"#FFFFFF\" points=\"165.64,278,184.64,271,184.64,285,165.64,278\" style=\"stroke: #383838; stroke-width: 1.0;\"/><ellipse cx=\"190.34\" cy=\"273\" fill=\"#383838\" rx=\"2\" ry=\"2\" style=\"stroke: #383838; stroke-width: 1.0;\"/><ellipse cx=\"190.34\" cy=\"283\" fill=\"#383838\" rx=\"2\" ry=\"2\" style=\"stroke: #383838; stroke-width: 1.0;\"/></a><!--MD5=[dfaffb906826c3e5aca635516100ff21]\n",
       "link E5 to E8--><a href=\"psysml:75f754af-bdfa-473b-8cbb-d11c609ad500\" target=\"_top\" title=\"psysml:75f754af-bdfa-473b-8cbb-d11c609ad500\" xlink:actuate=\"onRequest\" xlink:href=\"psysml:75f754af-bdfa-473b-8cbb-d11c609ad500\" xlink:show=\"new\" xlink:title=\"psysml:75f754af-bdfa-473b-8cbb-d11c609ad500\" xlink:type=\"simple\"><path d=\"M166,408.09 C166,408.09 166,493.7 166,493.7 \" fill=\"none\" id=\"E5-&gt;E8\" style=\"stroke: #383838; stroke-width: 1.0;\"/><polygon fill=\"#FFFFFF\" points=\"166,513.7,159,494.7,173,494.7,166,513.7\" style=\"stroke: #383838; stroke-width: 1.0;\"/><ellipse cx=\"161\" cy=\"489\" fill=\"#383838\" rx=\"2\" ry=\"2\" style=\"stroke: #383838; stroke-width: 1.0;\"/><ellipse cx=\"171\" cy=\"489\" fill=\"#383838\" rx=\"2\" ry=\"2\" style=\"stroke: #383838; stroke-width: 1.0;\"/></a><!--MD5=[03c8294790d3c57651a1993cecff665f]\n",
       "reverse link E8 to E3--><a href=\"psysml:aa35edca-3910-4cd9-97ff-300d5c8627fc\" target=\"_top\" title=\"psysml:aa35edca-3910-4cd9-97ff-300d5c8627fc\" xlink:actuate=\"onRequest\" xlink:href=\"psysml:aa35edca-3910-4cd9-97ff-300d5c8627fc\" xlink:show=\"new\" xlink:title=\"psysml:aa35edca-3910-4cd9-97ff-300d5c8627fc\" xlink:type=\"simple\"><path d=\"M133,500.56 C133,500.56 133,301.2 133,301.2 \" fill=\"none\" id=\"E8&lt;-E3\" style=\"stroke: #383838; stroke-width: 1.0;\"/><polygon fill=\"#FFFFFF\" points=\"133,513.56,137,507.56,133,501.56,129,507.56,133,513.56\" style=\"stroke: #383838; stroke-width: 1.0;\"/><text fill=\"#000000\" font-family=\"sans-serif\" font-size=\"13\" lengthAdjust=\"spacingAndGlyphs\" textLength=\"7\" x=\"108\" y=\"389.5669\">y</text></a><!--MD5=[0d75d2178373a6a4568e5dc728f58aef]\n",
       "reverse link E8 to E6--><a href=\"psysml:aa35edca-3910-4cd9-97ff-300d5c8627fc\" target=\"_top\" title=\"psysml:aa35edca-3910-4cd9-97ff-300d5c8627fc\" xlink:actuate=\"onRequest\" xlink:href=\"psysml:aa35edca-3910-4cd9-97ff-300d5c8627fc\" xlink:show=\"new\" xlink:title=\"psysml:aa35edca-3910-4cd9-97ff-300d5c8627fc\" xlink:type=\"simple\"><path d=\"M148,573.14 C148,573.14 148,636.97 148,636.97 \" fill=\"none\" id=\"E8&lt;-E6\" style=\"stroke: #383838; stroke-width: 1.0;\"/><polygon fill=\"#FFFFFF\" points=\"148,560.14,144,566.14,148,572.14,152,566.14,148,560.14\" style=\"stroke: #383838; stroke-width: 1.0;\"/><text fill=\"#000000\" font-family=\"sans-serif\" font-size=\"13\" lengthAdjust=\"spacingAndGlyphs\" textLength=\"7\" x=\"149\" y=\"603.0669\">y</text></a><!--MD5=[23ac544a70576c3e717098101004234c]\n",
       "reverse link E9 to E10--><a href=\"psysml:cf1da376-637e-4400-b815-716d62b1c417\" target=\"_top\" title=\"psysml:cf1da376-637e-4400-b815-716d62b1c417\" xlink:actuate=\"onRequest\" xlink:href=\"psysml:cf1da376-637e-4400-b815-716d62b1c417\" xlink:show=\"new\" xlink:title=\"psysml:cf1da376-637e-4400-b815-716d62b1c417\" xlink:type=\"simple\"><path d=\"M70.25,100.22 C70.25,100.22 70.25,147.83 70.25,147.83 \" fill=\"none\" id=\"E9&lt;-E10\" style=\"stroke: #383838; stroke-width: 1.0;\"/><polygon fill=\"#FFFFFF\" points=\"70.25,87.22,66.25,93.22,70.25,99.22,74.25,93.22,70.25,87.22\" style=\"stroke: #383838; stroke-width: 1.0;\"/><text fill=\"#000000\" font-family=\"sans-serif\" font-size=\"13\" lengthAdjust=\"spacingAndGlyphs\" textLength=\"8\" x=\"65.3891\" y=\"137.0627\">1</text></a><!--MD5=[feeac5eb423634930294aa81f2d25a4c]\n",
       "link E10 to E3--><a href=\"psysml:4cf35cfc-841e-4847-875d-1ebad6bb61b9\" target=\"_top\" title=\"psysml:4cf35cfc-841e-4847-875d-1ebad6bb61b9\" xlink:actuate=\"onRequest\" xlink:href=\"psysml:4cf35cfc-841e-4847-875d-1ebad6bb61b9\" xlink:show=\"new\" xlink:title=\"psysml:4cf35cfc-841e-4847-875d-1ebad6bb61b9\" xlink:type=\"simple\"><path d=\"M75.71,171 C89.4,171 104.5,171 104.5,171 C104.5,171 104.5,234.78 104.5,234.78 \" fill=\"none\" id=\"E10-&gt;E3\" style=\"stroke: #383838; stroke-width: 1.0;\"/><polygon fill=\"#FFFFFF\" points=\"104.5,254.78,97.5,235.78,111.5,235.78,104.5,254.78\" style=\"stroke: #383838; stroke-width: 1.0;\"/><ellipse cx=\"99.5\" cy=\"230.08\" fill=\"#383838\" rx=\"2\" ry=\"2\" style=\"stroke: #383838; stroke-width: 1.0;\"/><ellipse cx=\"109.5\" cy=\"230.08\" fill=\"#383838\" rx=\"2\" ry=\"2\" style=\"stroke: #383838; stroke-width: 1.0;\"/></a><!--MD5=[1fc04a95fd77ad5ce46c1a3027516051]\n",
       "reverse link E9 to E11--><a href=\"psysml:bd05daaf-8002-489d-bbfa-6134af678ace\" target=\"_top\" title=\"psysml:bd05daaf-8002-489d-bbfa-6134af678ace\" xlink:actuate=\"onRequest\" xlink:href=\"psysml:bd05daaf-8002-489d-bbfa-6134af678ace\" xlink:show=\"new\" xlink:title=\"psysml:bd05daaf-8002-489d-bbfa-6134af678ace\" xlink:type=\"simple\"><path d=\"M120.75,100.22 C120.75,100.22 120.75,147.83 120.75,147.83 \" fill=\"none\" id=\"E9&lt;-E11\" style=\"stroke: #383838; stroke-width: 1.0;\"/><polygon fill=\"#FFFFFF\" points=\"120.75,87.22,116.75,93.22,120.75,99.22,124.75,93.22,120.75,87.22\" style=\"stroke: #383838; stroke-width: 1.0;\"/><text fill=\"#000000\" font-family=\"sans-serif\" font-size=\"13\" lengthAdjust=\"spacingAndGlyphs\" textLength=\"8\" x=\"108.8422\" y=\"137.0627\">1</text></a><!--MD5=[0517f1ce58c4d5483948f93845c45e26]\n",
       "link E11 to E3--><a href=\"psysml:31e39f64-1f8d-4b2c-be98-c1459e5d6e94\" target=\"_top\" title=\"psysml:31e39f64-1f8d-4b2c-be98-c1459e5d6e94\" xlink:actuate=\"onRequest\" xlink:href=\"psysml:31e39f64-1f8d-4b2c-be98-c1459e5d6e94\" xlink:show=\"new\" xlink:title=\"psysml:31e39f64-1f8d-4b2c-be98-c1459e5d6e94\" xlink:type=\"simple\"><path d=\"M132,194.22 C132,194.22 132,234.83 132,234.83 \" fill=\"none\" id=\"E11-&gt;E3\" style=\"stroke: #383838; stroke-width: 1.0;\"/><polygon fill=\"#FFFFFF\" points=\"132,254.83,125,235.83,139,235.83,132,254.83\" style=\"stroke: #383838; stroke-width: 1.0;\"/><ellipse cx=\"127\" cy=\"230.13\" fill=\"#383838\" rx=\"2\" ry=\"2\" style=\"stroke: #383838; stroke-width: 1.0;\"/><ellipse cx=\"137\" cy=\"230.13\" fill=\"#383838\" rx=\"2\" ry=\"2\" style=\"stroke: #383838; stroke-width: 1.0;\"/></a><!--MD5=[e599411589bf8cbeb41227181ed2b2ec]\n",
       "@startuml\r\n",
       "skinparam linetype ortho\r\n",
       "skinparam monochrome true\r\n",
       "skinparam classbackgroundcolor white\r\n",
       "skinparam shadowing false\r\n",
       "skinparam wrapWidth 300\r\n",
       "hide circle\r\n",
       "\r\n",
       "package \"ItemTest\" as E1  [[psysml:1bc06463-7392-4b34-87d6-1f1d6784670a ]]  {\r\n",
       "comp usage \"f: A\" as E2  <<(T,blue) item>> [[psysml:10e5f196-141c-4ebb-934a-0a8c25223d15 ]] {\r\n",
       "}\r\n",
       "comp def \"A\" as E3  <<(T,blue) item def>> [[psysml:d8185bfd-cc57-4585-aec6-0a59765b9e32 ]] {\r\n",
       "}\r\n",
       "comp usage \"b: B\" as E4  <<(T,blue) item>> [[psysml:867e3ff9-f74d-45bb-974d-3b3d8373197d ]] {\r\n",
       "}\r\n",
       "comp usage \"c: C\" as E5  <<(T,blue) part>> [[psysml:cb0d56cf-7b64-416e-8353-0e76041e55a4 ]] {\r\n",
       "}\r\n",
       "comp def \"B\" as E6  <<(T,blue) item def>> [[psysml:cb468909-38eb-4328-9448-1d282e0fd6a5 ]] {\r\n",
       "}\r\n",
       "comp usage \"a: A\" as E7  <<(T,blue) part>> [[psysml:8d68ea76-8496-4a3a-9bac-3b5e10d4f6d7 ]] {\r\n",
       "}\r\n",
       "comp def \"C\" as E8  <<(T,blue) part def>> [[psysml:3d841289-74ad-422d-b7f3-bdfc719d6361 ]] {\r\n",
       "}\r\n",
       "comp def \"P\" as E9  <<(T,blue) port def>> [[psysml:192666b5-43c5-4ec0-a40a-8ab471017ca3 ]] {\r\n",
       "}\r\n",
       "comp usage \"a1: A\" as E10  <<(T,blue) item>> [[psysml:a2436968-c74d-4c9f-bf2a-127bcc502b4e ]] {\r\n",
       "}\r\n",
       "comp usage \"a2: A\" as E11  <<(T,blue) item>> [[psysml:6388cc28-f9be-476c-ad05-d9ff93971fbb ]] {\r\n",
       "}\r\n",
       "}\r\n",
       "E2 - -:|> E3 [[psysml:24dbd283-1078-40f8-9dda-86d7de7bac74 ]] \r\n",
       "E3 *- - \"1\"E4 [[psysml:9f51e7d9-1020-406a-8433-de0298038040 ]] \r\n",
       "E3 o- - \"1\"E5 [[psysml:7a936c29-0528-4da5-855d-3be7e5f4e113 ]] \r\n",
       "E4 - -:|> E6 [[psysml:860f4e4a-475c-4d3a-a05e-585111d40739 ]] \r\n",
       "E6 *- - \"1\"E7 [[psysml:01396c82-09da-45aa-ba0c-a7dad5741ff2 ]] \r\n",
       "E7 - -:|> E3 [[psysml:d97708ca-1830-4e5e-bf07-a2aabe0546e8 ]] \r\n",
       "E5 - -:|> E8 [[psysml:75f754af-bdfa-473b-8cbb-d11c609ad500 ]] \r\n",
       "E8 o- - E3 [[psysml:aa35edca-3910-4cd9-97ff-300d5c8627fc ]] : y\r\n",
       "E8 o- - E6 [[psysml:aa35edca-3910-4cd9-97ff-300d5c8627fc ]] : y\r\n",
       "E9 o- - \"1\"E10 [[psysml:cf1da376-637e-4400-b815-716d62b1c417 ]] \r\n",
       "E10 - -:|> E3 [[psysml:4cf35cfc-841e-4847-875d-1ebad6bb61b9 ]] \r\n",
       "E9 o- - \"1\"E11 [[psysml:bd05daaf-8002-489d-bbfa-6134af678ace ]] \r\n",
       "E11 - -:|> E3 [[psysml:31e39f64-1f8d-4b2c-be98-c1459e5d6e94 ]] \r\n",
       "@enduml\r\n",
       "\n",
       "PlantUML version 1.2020.13(Sat Jun 13 12:26:38 UTC 2020)\n",
       "(EPL source distribution)\n",
       "Java Runtime: OpenJDK Runtime Environment\n",
       "JVM: OpenJDK 64-Bit Server VM\n",
       "Default Encoding: UTF-8\n",
       "Language: en\n",
       "Country: null\n",
       "--></g></svg>"
      ]
     },
     "execution_count": 57,
     "metadata": {},
     "output_type": "execute_result"
    }
   ],
   "source": [
    "%viz --style=\"ORTHOLINE\" --view=\"MIXED\" \"ItemTest\""
   ]
  }
 ],
 "metadata": {
  "kernelspec": {
   "display_name": "SysML",
   "language": "sysml",
   "name": "sysml"
  },
  "language_info": {
   "codemirror_mode": "sysml",
   "file_extension": ".sysml",
   "mimetype": "text/x-sysml",
   "name": "SysML",
   "pygments_lexer": "java",
   "version": "1.0.0"
  }
 },
 "nbformat": 4,
 "nbformat_minor": 5
}
