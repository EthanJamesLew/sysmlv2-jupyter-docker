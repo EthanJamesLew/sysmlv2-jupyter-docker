{
 "cells": [
  {
   "cell_type": "markdown",
   "id": "b4b262b7",
   "metadata": {},
   "source": [
    "# SysML v2 Test Suite\n",
    "\n",
    "This can notebook can be cleared using menu `Edit --> Clear All Outputs` and then all cells can be\n",
    "run using menu `Run --> Run All Cells`.\n",
    "\n",
    "**WARNING**: This file is generated, all modifications here will be ignored.\n"
   ]
  },
  {
   "cell_type": "markdown",
   "id": "6076bc0b",
   "metadata": {},
   "source": [
    "## File: ../../sysml/src/examples/Simple Tests/ItemTest.sysml"
   ]
  },
  {
   "cell_type": "code",
   "execution_count": 1,
   "id": "6e8324b4",
   "metadata": {
    "execution": {
     "iopub.execute_input": "2022-03-21T07:49:07.968660Z",
     "iopub.status.busy": "2022-03-21T07:49:07.967388Z",
     "iopub.status.idle": "2022-03-21T07:49:08.160422Z",
     "shell.execute_reply": "2022-03-21T07:49:08.160097Z"
    }
   },
   "outputs": [
    {
     "data": {
      "text/plain": [
       "Package ItemTest (70623e85-29c4-446a-b9b2-5a0d16b851b6)\n"
      ]
     },
     "execution_count": 1,
     "metadata": {},
     "output_type": "execute_result"
    }
   ],
   "source": [
    "package ItemTest {\n",
    "\t\n",
    "\titem f: A;\n",
    "\n",
    "\tpublic item def A {\n",
    "\t\titem b: B;\n",
    "\t\tprotected ref part c: C;\n",
    "\t}\n",
    "\t\n",
    "\tabstract item def B {\n",
    "\t\tpublic abstract part a: A;\n",
    "\t}\n",
    "\t\n",
    "\tprivate part def C {\n",
    "\t\tprivate in ref y: A, B;\n",
    "\t}\n",
    "\t\n",
    "\tport def P {\n",
    "\t\tin item a1: A;\n",
    "\t\tout item a2: A;\n",
    "\t}\n",
    "\t\n",
    "}"
   ]
  },
  {
   "cell_type": "code",
   "execution_count": 2,
   "id": "3053b1a3",
   "metadata": {
    "execution": {
     "iopub.execute_input": "2022-03-21T07:49:08.211480Z",
     "iopub.status.busy": "2022-03-21T07:49:08.211239Z",
     "iopub.status.idle": "2022-03-21T07:49:08.697967Z",
     "shell.execute_reply": "2022-03-21T07:49:08.696310Z"
    }
   },
   "outputs": [
    {
     "data": {
      "image/svg+xml": [
       "<?xml version=\"1.0\" encoding=\"UTF-8\" standalone=\"no\"?><svg xmlns=\"http://www.w3.org/2000/svg\" xmlns:xlink=\"http://www.w3.org/1999/xlink\" contentScriptType=\"application/ecmascript\" contentStyleType=\"text/css\" height=\"818px\" preserveAspectRatio=\"none\" style=\"width:270px;height:818px;\" version=\"1.1\" viewBox=\"0 0 270 818\" width=\"270px\" zoomAndPan=\"magnify\"><defs/><g><!--MD5=[fbc87193dbaf4d95561dea2c320d4a47]\n",
       "cluster E1--><a href=\"psysml:8469bc55-64be-4e75-90cd-bb271a7bb256\" target=\"_top\" title=\"psysml:8469bc55-64be-4e75-90cd-bb271a7bb256\" xlink:actuate=\"onRequest\" xlink:href=\"psysml:8469bc55-64be-4e75-90cd-bb271a7bb256\" xlink:show=\"new\" xlink:title=\"psysml:8469bc55-64be-4e75-90cd-bb271a7bb256\" xlink:type=\"simple\"><polygon fill=\"#FFFFFF\" points=\"16,6,83,6,90,28.2969,248,28.2969,248,806,16,806,16,6\" style=\"stroke: #000000; stroke-width: 1.5;\"/><line style=\"stroke: #000000; stroke-width: 1.5;\" x1=\"16\" x2=\"90\" y1=\"28.2969\" y2=\"28.2969\"/><text fill=\"#000000\" font-family=\"sans-serif\" font-size=\"14\" font-weight=\"bold\" lengthAdjust=\"spacingAndGlyphs\" textLength=\"61\" x=\"20\" y=\"20.9951\">ItemTest</text></a><!--MD5=[b4997ac47864f28c2f74865a473b2911]\n",
       "class E2--><a href=\"psysml:6cbf61b0-82f0-477a-9e61-503ee7ef8ab3\" target=\"_top\" title=\"psysml:6cbf61b0-82f0-477a-9e61-503ee7ef8ab3\" xlink:actuate=\"onRequest\" xlink:href=\"psysml:6cbf61b0-82f0-477a-9e61-503ee7ef8ab3\" xlink:show=\"new\" xlink:title=\"psysml:6cbf61b0-82f0-477a-9e61-503ee7ef8ab3\" xlink:type=\"simple\"><rect fill=\"#FFFFFF\" height=\"45.9375\" id=\"E2\" rx=\"10\" ry=\"10\" style=\"stroke: #383838; stroke-width: 1.5;\" width=\"43\" x=\"188.5\" y=\"148\"/><text fill=\"#000000\" font-family=\"sans-serif\" font-size=\"12\" font-style=\"italic\" lengthAdjust=\"spacingAndGlyphs\" textLength=\"41\" x=\"189.5\" y=\"164.1387\">«item»</text><text fill=\"#000000\" font-family=\"sans-serif\" font-size=\"12\" lengthAdjust=\"spacingAndGlyphs\" textLength=\"20\" x=\"198\" y=\"178.1074\">f: A</text><line style=\"stroke: #383838; stroke-width: 1.5;\" x1=\"189.5\" x2=\"230.5\" y1=\"185.9375\" y2=\"185.9375\"/></a><!--MD5=[09b614a08d8cba4a07c9adeb5e0fee81]\n",
       "class E3--><a href=\"psysml:73e4759d-5191-4c8c-b634-f2bc1b43e3a3\" target=\"_top\" title=\"psysml:73e4759d-5191-4c8c-b634-f2bc1b43e3a3\" xlink:actuate=\"onRequest\" xlink:href=\"psysml:73e4759d-5191-4c8c-b634-f2bc1b43e3a3\" xlink:show=\"new\" xlink:title=\"psysml:73e4759d-5191-4c8c-b634-f2bc1b43e3a3\" xlink:type=\"simple\"><rect fill=\"#FFFFFF\" height=\"45.9375\" id=\"E3\" style=\"stroke: #383838; stroke-width: 1.5;\" width=\"71\" x=\"96.5\" y=\"255\"/><text fill=\"#000000\" font-family=\"sans-serif\" font-size=\"12\" font-style=\"italic\" lengthAdjust=\"spacingAndGlyphs\" textLength=\"69\" x=\"97.5\" y=\"271.1387\">«item  def»</text><text fill=\"#000000\" font-family=\"sans-serif\" font-size=\"12\" lengthAdjust=\"spacingAndGlyphs\" textLength=\"8\" x=\"128\" y=\"285.1074\">A</text><line style=\"stroke: #383838; stroke-width: 1.5;\" x1=\"97.5\" x2=\"166.5\" y1=\"292.9375\" y2=\"292.9375\"/></a><!--MD5=[ebbe1d658d1005bcc118a6aa81145e00]\n",
       "class E4--><a href=\"psysml:22dedc78-8a6f-47e7-a1b3-f5299f454177\" target=\"_top\" title=\"psysml:22dedc78-8a6f-47e7-a1b3-f5299f454177\" xlink:actuate=\"onRequest\" xlink:href=\"psysml:22dedc78-8a6f-47e7-a1b3-f5299f454177\" xlink:show=\"new\" xlink:title=\"psysml:22dedc78-8a6f-47e7-a1b3-f5299f454177\" xlink:type=\"simple\"><rect fill=\"#FFFFFF\" height=\"45.9375\" id=\"E4\" rx=\"10\" ry=\"10\" style=\"stroke: #383838; stroke-width: 1.5;\" width=\"43\" x=\"45.5\" y=\"438\"/><text fill=\"#000000\" font-family=\"sans-serif\" font-size=\"12\" font-style=\"italic\" lengthAdjust=\"spacingAndGlyphs\" textLength=\"41\" x=\"46.5\" y=\"454.1387\">«item»</text><text fill=\"#000000\" font-family=\"sans-serif\" font-size=\"12\" lengthAdjust=\"spacingAndGlyphs\" textLength=\"24\" x=\"53\" y=\"468.1074\">b: B</text><line style=\"stroke: #383838; stroke-width: 1.5;\" x1=\"46.5\" x2=\"87.5\" y1=\"475.9375\" y2=\"475.9375\"/></a><!--MD5=[270fce915f116d4de14055a7c1d9a0f3]\n",
       "class E5--><a href=\"psysml:d5b518cb-4e9d-48f6-86e4-811292cf7103\" target=\"_top\" title=\"psysml:d5b518cb-4e9d-48f6-86e4-811292cf7103\" xlink:actuate=\"onRequest\" xlink:href=\"psysml:d5b518cb-4e9d-48f6-86e4-811292cf7103\" xlink:show=\"new\" xlink:title=\"psysml:d5b518cb-4e9d-48f6-86e4-811292cf7103\" xlink:type=\"simple\"><rect fill=\"#FFFFFF\" height=\"45.9375\" id=\"E5\" rx=\"10\" ry=\"10\" style=\"stroke: #383838; stroke-width: 1.5;\" width=\"42\" x=\"151\" y=\"362\"/><text fill=\"#000000\" font-family=\"sans-serif\" font-size=\"12\" font-style=\"italic\" lengthAdjust=\"spacingAndGlyphs\" textLength=\"40\" x=\"152\" y=\"378.1387\">«part»</text><text fill=\"#000000\" font-family=\"sans-serif\" font-size=\"12\" lengthAdjust=\"spacingAndGlyphs\" textLength=\"23\" x=\"158.5\" y=\"392.1074\">c: C</text><line style=\"stroke: #383838; stroke-width: 1.5;\" x1=\"152\" x2=\"192\" y1=\"399.9375\" y2=\"399.9375\"/></a><!--MD5=[60a26617385b1d2d0262a64233df1f8d]\n",
       "class E6--><a href=\"psysml:7fb13a86-95b9-42ac-ac4a-d3cbb2045ff7\" target=\"_top\" title=\"psysml:7fb13a86-95b9-42ac-ac4a-d3cbb2045ff7\" xlink:actuate=\"onRequest\" xlink:href=\"psysml:7fb13a86-95b9-42ac-ac4a-d3cbb2045ff7\" xlink:show=\"new\" xlink:title=\"psysml:7fb13a86-95b9-42ac-ac4a-d3cbb2045ff7\" xlink:type=\"simple\"><rect fill=\"#FFFFFF\" height=\"45.9375\" id=\"E6\" style=\"stroke: #383838; stroke-width: 1.5;\" width=\"71\" x=\"112.5\" y=\"637\"/><text fill=\"#000000\" font-family=\"sans-serif\" font-size=\"12\" font-style=\"italic\" lengthAdjust=\"spacingAndGlyphs\" textLength=\"69\" x=\"113.5\" y=\"653.1387\">«item  def»</text><text fill=\"#000000\" font-family=\"sans-serif\" font-size=\"12\" font-style=\"italic\" lengthAdjust=\"spacingAndGlyphs\" textLength=\"8\" x=\"144\" y=\"667.1074\">B</text><line style=\"stroke: #383838; stroke-width: 1.5;\" x1=\"113.5\" x2=\"182.5\" y1=\"674.9375\" y2=\"674.9375\"/></a><!--MD5=[2156ba9850f5573cc1fc38a6a4b2f02b]\n",
       "class E7--><a href=\"psysml:b4d408e4-c35f-4021-90a0-c54c4c634ca8\" target=\"_top\" title=\"psysml:b4d408e4-c35f-4021-90a0-c54c4c634ca8\" xlink:actuate=\"onRequest\" xlink:href=\"psysml:b4d408e4-c35f-4021-90a0-c54c4c634ca8\" xlink:show=\"new\" xlink:title=\"psysml:b4d408e4-c35f-4021-90a0-c54c4c634ca8\" xlink:type=\"simple\"><rect fill=\"#FFFFFF\" height=\"45.9375\" id=\"E7\" rx=\"10\" ry=\"10\" style=\"stroke: #383838; stroke-width: 1.5;\" width=\"42\" x=\"159\" y=\"744\"/><text fill=\"#000000\" font-family=\"sans-serif\" font-size=\"12\" font-style=\"italic\" lengthAdjust=\"spacingAndGlyphs\" textLength=\"40\" x=\"160\" y=\"760.1387\">«part»</text><text fill=\"#000000\" font-family=\"sans-serif\" font-size=\"12\" font-style=\"italic\" lengthAdjust=\"spacingAndGlyphs\" textLength=\"8\" x=\"166\" y=\"774.1074\">a</text><text fill=\"#000000\" font-family=\"sans-serif\" font-size=\"12\" lengthAdjust=\"spacingAndGlyphs\" textLength=\"16\" x=\"174\" y=\"774.1074\">: A</text><line style=\"stroke: #383838; stroke-width: 1.5;\" x1=\"160\" x2=\"200\" y1=\"781.9375\" y2=\"781.9375\"/></a><!--MD5=[b9389687b975829384b498ac4b7476b2]\n",
       "class E8--><a href=\"psysml:53104107-4f2e-4822-81be-c90629c3152e\" target=\"_top\" title=\"psysml:53104107-4f2e-4822-81be-c90629c3152e\" xlink:actuate=\"onRequest\" xlink:href=\"psysml:53104107-4f2e-4822-81be-c90629c3152e\" xlink:show=\"new\" xlink:title=\"psysml:53104107-4f2e-4822-81be-c90629c3152e\" xlink:type=\"simple\"><rect fill=\"#FFFFFF\" height=\"45.9375\" id=\"E8\" style=\"stroke: #383838; stroke-width: 1.5;\" width=\"70\" x=\"113\" y=\"514\"/><text fill=\"#000000\" font-family=\"sans-serif\" font-size=\"12\" font-style=\"italic\" lengthAdjust=\"spacingAndGlyphs\" textLength=\"68\" x=\"114\" y=\"530.1387\">«part  def»</text><text fill=\"#000000\" font-family=\"sans-serif\" font-size=\"12\" lengthAdjust=\"spacingAndGlyphs\" textLength=\"8\" x=\"144\" y=\"544.1074\">C</text><line style=\"stroke: #383838; stroke-width: 1.5;\" x1=\"114\" x2=\"182\" y1=\"551.9375\" y2=\"551.9375\"/></a><!--MD5=[fd4143e9d270a159db93a4ea2a975926]\n",
       "class E9--><a href=\"psysml:96c92d64-4061-42f0-9733-a4ee9bfee5f1\" target=\"_top\" title=\"psysml:96c92d64-4061-42f0-9733-a4ee9bfee5f1\" xlink:actuate=\"onRequest\" xlink:href=\"psysml:96c92d64-4061-42f0-9733-a4ee9bfee5f1\" xlink:show=\"new\" xlink:title=\"psysml:96c92d64-4061-42f0-9733-a4ee9bfee5f1\" xlink:type=\"simple\"><rect fill=\"#FFFFFF\" height=\"45.9375\" id=\"E9\" style=\"stroke: #383838; stroke-width: 1.5;\" width=\"70\" x=\"64\" y=\"41\"/><text fill=\"#000000\" font-family=\"sans-serif\" font-size=\"12\" font-style=\"italic\" lengthAdjust=\"spacingAndGlyphs\" textLength=\"68\" x=\"65\" y=\"57.1387\">«port  def»</text><text fill=\"#000000\" font-family=\"sans-serif\" font-size=\"12\" lengthAdjust=\"spacingAndGlyphs\" textLength=\"8\" x=\"95\" y=\"71.1074\">P</text><line style=\"stroke: #383838; stroke-width: 1.5;\" x1=\"65\" x2=\"133\" y1=\"78.9375\" y2=\"78.9375\"/></a><!--MD5=[96f4274e9e20536e775497830990834d]\n",
       "class E10--><a href=\"psysml:21151bb4-f160-49b9-964a-222b3c2d7b6c\" target=\"_top\" title=\"psysml:21151bb4-f160-49b9-964a-222b3c2d7b6c\" xlink:actuate=\"onRequest\" xlink:href=\"psysml:21151bb4-f160-49b9-964a-222b3c2d7b6c\" xlink:show=\"new\" xlink:title=\"psysml:21151bb4-f160-49b9-964a-222b3c2d7b6c\" xlink:type=\"simple\"><rect fill=\"#FFFFFF\" height=\"45.9375\" id=\"E10\" rx=\"10\" ry=\"10\" style=\"stroke: #383838; stroke-width: 1.5;\" width=\"43\" x=\"32.5\" y=\"148\"/><text fill=\"#000000\" font-family=\"sans-serif\" font-size=\"12\" font-style=\"italic\" lengthAdjust=\"spacingAndGlyphs\" textLength=\"41\" x=\"33.5\" y=\"164.1387\">«item»</text><text fill=\"#000000\" font-family=\"sans-serif\" font-size=\"12\" lengthAdjust=\"spacingAndGlyphs\" textLength=\"32\" x=\"36\" y=\"178.1074\">a1: A</text><line style=\"stroke: #383838; stroke-width: 1.5;\" x1=\"33.5\" x2=\"74.5\" y1=\"185.9375\" y2=\"185.9375\"/></a><!--MD5=[1dd1bfd58a279cf63c5f349dbc8fc6a1]\n",
       "class E11--><a href=\"psysml:048eeab4-ab84-4a9d-8dc8-2b5e8335cff3\" target=\"_top\" title=\"psysml:048eeab4-ab84-4a9d-8dc8-2b5e8335cff3\" xlink:actuate=\"onRequest\" xlink:href=\"psysml:048eeab4-ab84-4a9d-8dc8-2b5e8335cff3\" xlink:show=\"new\" xlink:title=\"psysml:048eeab4-ab84-4a9d-8dc8-2b5e8335cff3\" xlink:type=\"simple\"><rect fill=\"#FFFFFF\" height=\"45.9375\" id=\"E11\" rx=\"10\" ry=\"10\" style=\"stroke: #383838; stroke-width: 1.5;\" width=\"43\" x=\"110.5\" y=\"148\"/><text fill=\"#000000\" font-family=\"sans-serif\" font-size=\"12\" font-style=\"italic\" lengthAdjust=\"spacingAndGlyphs\" textLength=\"41\" x=\"111.5\" y=\"164.1387\">«item»</text><text fill=\"#000000\" font-family=\"sans-serif\" font-size=\"12\" lengthAdjust=\"spacingAndGlyphs\" textLength=\"32\" x=\"114\" y=\"178.1074\">a2: A</text><line style=\"stroke: #383838; stroke-width: 1.5;\" x1=\"111.5\" x2=\"152.5\" y1=\"185.9375\" y2=\"185.9375\"/></a><!--MD5=[2720a5a1f2c3fca2055b230370638851]\n",
       "link E2 to E3--><a href=\"psysml:e70b16f9-62c0-40f3-a087-aa973c352c22\" target=\"_top\" title=\"psysml:e70b16f9-62c0-40f3-a087-aa973c352c22\" xlink:actuate=\"onRequest\" xlink:href=\"psysml:e70b16f9-62c0-40f3-a087-aa973c352c22\" xlink:show=\"new\" xlink:title=\"psysml:e70b16f9-62c0-40f3-a087-aa973c352c22\" xlink:type=\"simple\"><path d=\"M193.65,194.01 C184.14,206.81 171.89,223.3 160.82,238.2 \" fill=\"none\" id=\"E2-&gt;E3\" style=\"stroke: #383838; stroke-width: 1.0;\"/><polygon fill=\"#FFFFFF\" points=\"148.6,254.66,154.3195,235.2361,165.5543,243.5896,148.6,254.66\" style=\"stroke: #383838; stroke-width: 1.0;\"/><ellipse cx=\"159.3256\" cy=\"231.8554\" fill=\"#383838\" rx=\"2\" ry=\"2\" style=\"stroke: #383838; stroke-width: 1.0;\"/><ellipse cx=\"167.3504\" cy=\"237.8221\" fill=\"#383838\" rx=\"2\" ry=\"2\" style=\"stroke: #383838; stroke-width: 1.0;\"/></a><!--MD5=[4672eba38e49728da53d11aeb285b987]\n",
       "reverse link E3 to E4--><a href=\"psysml:f5164247-58fc-45c1-bba3-2edebb195fbd\" target=\"_top\" title=\"psysml:f5164247-58fc-45c1-bba3-2edebb195fbd\" xlink:actuate=\"onRequest\" xlink:href=\"psysml:f5164247-58fc-45c1-bba3-2edebb195fbd\" xlink:show=\"new\" xlink:title=\"psysml:f5164247-58fc-45c1-bba3-2edebb195fbd\" xlink:type=\"simple\"><path d=\"M97.11,310.9 C84.08,325.11 70.81,342.94 64,362 C55.12,386.85 58.09,417.53 61.82,437.88 \" fill=\"none\" id=\"E3&lt;-E4\" style=\"stroke: #383838; stroke-width: 1.0;\"/><polygon fill=\"#383838\" points=\"106.46,301.23,99.4153,302.7703,98.1277,309.8655,105.1724,308.3252,106.46,301.23\" style=\"stroke: #383838; stroke-width: 1.0;\"/><text fill=\"#000000\" font-family=\"sans-serif\" font-size=\"13\" lengthAdjust=\"spacingAndGlyphs\" textLength=\"8\" x=\"51.3529\" y=\"426.744\">1</text></a><!--MD5=[191cde3d490a3f6d7bb551fe3ddca469]\n",
       "reverse link E3 to E5--><a href=\"psysml:0e10322d-8096-4d1c-ad13-bcf359abd35a\" target=\"_top\" title=\"psysml:0e10322d-8096-4d1c-ad13-bcf359abd35a\" xlink:actuate=\"onRequest\" xlink:href=\"psysml:0e10322d-8096-4d1c-ad13-bcf359abd35a\" xlink:show=\"new\" xlink:title=\"psysml:0e10322d-8096-4d1c-ad13-bcf359abd35a\" xlink:type=\"simple\"><path d=\"M145.17,313.57 C151.2,329.39 158.16,347.68 163.49,361.66 \" fill=\"none\" id=\"E3&lt;-E5\" style=\"stroke: #383838; stroke-width: 1.0;\"/><polygon fill=\"#FFFFFF\" points=\"140.39,301.01,138.7866,308.0406,144.6598,312.2247,146.2631,305.1941,140.39,301.01\" style=\"stroke: #383838; stroke-width: 1.0;\"/><text fill=\"#000000\" font-family=\"sans-serif\" font-size=\"13\" lengthAdjust=\"spacingAndGlyphs\" textLength=\"8\" x=\"152.2843\" y=\"350.8492\">1</text></a><!--MD5=[79568f1e445c3877b6a54524624ccc7d]\n",
       "link E4 to E6--><a href=\"psysml:cd799d59-974c-4cd5-b2a4-5d2e853ea550\" target=\"_top\" title=\"psysml:cd799d59-974c-4cd5-b2a4-5d2e853ea550\" xlink:actuate=\"onRequest\" xlink:href=\"psysml:cd799d59-974c-4cd5-b2a4-5d2e853ea550\" xlink:show=\"new\" xlink:title=\"psysml:cd799d59-974c-4cd5-b2a4-5d2e853ea550\" xlink:type=\"simple\"><path d=\"M72.25,484.22 C77.31,504.36 85.72,534.68 96,560 C104.15,580.08 115.08,601.47 124.82,619.21 \" fill=\"none\" id=\"E4-&gt;E6\" style=\"stroke: #383838; stroke-width: 1.0;\"/><polygon fill=\"#FFFFFF\" points=\"134.72,636.8,119.2979,623.6791,131.4967,616.8097,134.72,636.8\" style=\"stroke: #383838; stroke-width: 1.0;\"/><ellipse cx=\"118.2438\" cy=\"617.7311\" fill=\"#383838\" rx=\"2\" ry=\"2\" style=\"stroke: #383838; stroke-width: 1.0;\"/><ellipse cx=\"126.9572\" cy=\"612.8244\" fill=\"#383838\" rx=\"2\" ry=\"2\" style=\"stroke: #383838; stroke-width: 1.0;\"/></a><!--MD5=[3f50a3473f1dfb74d3f76443e03635af]\n",
       "reverse link E6 to E7--><a href=\"psysml:f66c29ee-70ba-402f-a3a4-159df7b46130\" target=\"_top\" title=\"psysml:f66c29ee-70ba-402f-a3a4-159df7b46130\" xlink:actuate=\"onRequest\" xlink:href=\"psysml:f66c29ee-70ba-402f-a3a4-159df7b46130\" xlink:show=\"new\" xlink:title=\"psysml:f66c29ee-70ba-402f-a3a4-159df7b46130\" xlink:type=\"simple\"><path d=\"M158.54,695.57 C163.36,711.39 168.93,729.68 173.19,743.66 \" fill=\"none\" id=\"E6&lt;-E7\" style=\"stroke: #383838; stroke-width: 1.0;\"/><polygon fill=\"#383838\" points=\"154.71,683.01,152.6319,689.9152,158.2066,694.4893,160.2847,687.5841,154.71,683.01\" style=\"stroke: #383838; stroke-width: 1.0;\"/><text fill=\"#000000\" font-family=\"sans-serif\" font-size=\"13\" lengthAdjust=\"spacingAndGlyphs\" textLength=\"8\" x=\"162.4199\" y=\"732.8492\">1</text></a><!--MD5=[14ccda38c055a5c0da953d572bc50960]\n",
       "link E7 to E3--><a href=\"psysml:4b14459c-c0ea-47eb-ae95-5bdd156140b8\" target=\"_top\" title=\"psysml:4b14459c-c0ea-47eb-ae95-5bdd156140b8\" xlink:actuate=\"onRequest\" xlink:href=\"psysml:4b14459c-c0ea-47eb-ae95-5bdd156140b8\" xlink:show=\"new\" xlink:title=\"psysml:4b14459c-c0ea-47eb-ae95-5bdd156140b8\" xlink:type=\"simple\"><path d=\"M197.41,743.63 C211.5,723.27 229,691.78 229,661 C229,384 229,384 229,384 C229,353.7 206.93,328.42 183.85,310.26 \" fill=\"none\" id=\"E7-&gt;E3\" style=\"stroke: #383838; stroke-width: 1.0;\"/><polygon fill=\"#FFFFFF\" points=\"167.57,298.59,187.0929,303.9617,178.9414,315.3438,167.57,298.59\" style=\"stroke: #383838; stroke-width: 1.0;\"/><ellipse cx=\"190.5626\" cy=\"308.9066\" fill=\"#383838\" rx=\"2\" ry=\"2\" style=\"stroke: #383838; stroke-width: 1.0;\"/><ellipse cx=\"184.7401\" cy=\"317.0367\" fill=\"#383838\" rx=\"2\" ry=\"2\" style=\"stroke: #383838; stroke-width: 1.0;\"/></a><!--MD5=[dfaffb906826c3e5aca635516100ff21]\n",
       "link E5 to E8--><a href=\"psysml:7f99918d-ef62-497c-9b9a-668f89d0bef4\" target=\"_top\" title=\"psysml:7f99918d-ef62-497c-9b9a-668f89d0bef4\" xlink:actuate=\"onRequest\" xlink:href=\"psysml:7f99918d-ef62-497c-9b9a-668f89d0bef4\" xlink:show=\"new\" xlink:title=\"psysml:7f99918d-ef62-497c-9b9a-668f89d0bef4\" xlink:type=\"simple\"><path d=\"M168.46,408.13 C164.86,430.62 159.2,466.01 154.74,493.87 \" fill=\"none\" id=\"E5-&gt;E8\" style=\"stroke: #383838; stroke-width: 1.0;\"/><polygon fill=\"#FFFFFF\" points=\"151.56,513.78,147.6458,493.9135,161.4704,496.1226,151.56,513.78\" style=\"stroke: #383838; stroke-width: 1.0;\"/><ellipse cx=\"150.5202\" cy=\"488.6005\" fill=\"#383838\" rx=\"2\" ry=\"2\" style=\"stroke: #383838; stroke-width: 1.0;\"/><ellipse cx=\"160.3949\" cy=\"490.1784\" fill=\"#383838\" rx=\"2\" ry=\"2\" style=\"stroke: #383838; stroke-width: 1.0;\"/></a><!--MD5=[03c8294790d3c57651a1993cecff665f]\n",
       "reverse link E8 to E3--><a href=\"psysml:8abdebaf-64f0-40cf-a780-4a21932975d8\" target=\"_top\" title=\"psysml:8abdebaf-64f0-40cf-a780-4a21932975d8\" xlink:actuate=\"onRequest\" xlink:href=\"psysml:8abdebaf-64f0-40cf-a780-4a21932975d8\" xlink:show=\"new\" xlink:title=\"psysml:8abdebaf-64f0-40cf-a780-4a21932975d8\" xlink:type=\"simple\"><path d=\"M140.02,501.22 C134.57,475.6 127.84,439.84 125,408 C123.18,387.64 124.14,382.43 125,362 C125.87,341.34 127.95,317.86 129.62,301.16 \" fill=\"none\" id=\"E8&lt;-E3\" style=\"stroke: #383838; stroke-width: 1.0;\"/><polygon fill=\"#FFFFFF\" points=\"142.81,513.96,145.4388,507.2451,140.2515,502.2359,137.6227,508.9508,142.81,513.96\" style=\"stroke: #383838; stroke-width: 1.0;\"/><text fill=\"#000000\" font-family=\"sans-serif\" font-size=\"13\" lengthAdjust=\"spacingAndGlyphs\" textLength=\"7\" x=\"126\" y=\"389.5669\">y</text></a><!--MD5=[0d75d2178373a6a4568e5dc728f58aef]\n",
       "reverse link E8 to E6--><a href=\"psysml:8abdebaf-64f0-40cf-a780-4a21932975d8\" target=\"_top\" title=\"psysml:8abdebaf-64f0-40cf-a780-4a21932975d8\" xlink:actuate=\"onRequest\" xlink:href=\"psysml:8abdebaf-64f0-40cf-a780-4a21932975d8\" xlink:show=\"new\" xlink:title=\"psysml:8abdebaf-64f0-40cf-a780-4a21932975d8\" xlink:type=\"simple\"><path d=\"M148,573.22 C148,593.81 148,619.16 148,636.95 \" fill=\"none\" id=\"E8&lt;-E6\" style=\"stroke: #383838; stroke-width: 1.0;\"/><polygon fill=\"#FFFFFF\" points=\"148,560.19,144,566.19,148,572.19,152,566.19,148,560.19\" style=\"stroke: #383838; stroke-width: 1.0;\"/><text fill=\"#000000\" font-family=\"sans-serif\" font-size=\"13\" lengthAdjust=\"spacingAndGlyphs\" textLength=\"7\" x=\"149\" y=\"603.0669\">y</text></a><!--MD5=[23ac544a70576c3e717098101004234c]\n",
       "reverse link E9 to E10--><a href=\"psysml:4b97f70b-21b5-47d0-9b80-bf68f1206e68\" target=\"_top\" title=\"psysml:4b97f70b-21b5-47d0-9b80-bf68f1206e68\" xlink:actuate=\"onRequest\" xlink:href=\"psysml:4b97f70b-21b5-47d0-9b80-bf68f1206e68\" xlink:show=\"new\" xlink:title=\"psysml:4b97f70b-21b5-47d0-9b80-bf68f1206e68\" xlink:type=\"simple\"><path d=\"M84.39,99.1 C77.56,115.03 69.63,133.54 63.58,147.66 \" fill=\"none\" id=\"E9&lt;-E10\" style=\"stroke: #383838; stroke-width: 1.0;\"/><polygon fill=\"#FFFFFF\" points=\"89.57,87.01,83.5327,90.9535,84.8509,98.0431,90.8882,94.0996,89.57,87.01\" style=\"stroke: #383838; stroke-width: 1.0;\"/><text fill=\"#000000\" font-family=\"sans-serif\" font-size=\"13\" lengthAdjust=\"spacingAndGlyphs\" textLength=\"8\" x=\"57.0099\" y=\"136.8492\">1</text></a><!--MD5=[feeac5eb423634930294aa81f2d25a4c]\n",
       "link E10 to E3--><a href=\"psysml:890b43d2-a44a-4df9-b863-0c7f323950a1\" target=\"_top\" title=\"psysml:890b43d2-a44a-4df9-b863-0c7f323950a1\" xlink:actuate=\"onRequest\" xlink:href=\"psysml:890b43d2-a44a-4df9-b863-0c7f323950a1\" xlink:show=\"new\" xlink:title=\"psysml:890b43d2-a44a-4df9-b863-0c7f323950a1\" xlink:type=\"simple\"><path d=\"M70.35,194.01 C79.86,206.81 92.11,223.3 103.18,238.2 \" fill=\"none\" id=\"E10-&gt;E3\" style=\"stroke: #383838; stroke-width: 1.0;\"/><polygon fill=\"#FFFFFF\" points=\"115.4,254.66,98.4457,243.5896,109.6805,235.2361,115.4,254.66\" style=\"stroke: #383838; stroke-width: 1.0;\"/><ellipse cx=\"96.6496\" cy=\"237.8221\" fill=\"#383838\" rx=\"2\" ry=\"2\" style=\"stroke: #383838; stroke-width: 1.0;\"/><ellipse cx=\"104.6744\" cy=\"231.8554\" fill=\"#383838\" rx=\"2\" ry=\"2\" style=\"stroke: #383838; stroke-width: 1.0;\"/></a><!--MD5=[1fc04a95fd77ad5ce46c1a3027516051]\n",
       "reverse link E9 to E11--><a href=\"psysml:75cdd26f-47cf-45db-b14e-ba01ceb3edc6\" target=\"_top\" title=\"psysml:75cdd26f-47cf-45db-b14e-ba01ceb3edc6\" xlink:actuate=\"onRequest\" xlink:href=\"psysml:75cdd26f-47cf-45db-b14e-ba01ceb3edc6\" xlink:show=\"new\" xlink:title=\"psysml:75cdd26f-47cf-45db-b14e-ba01ceb3edc6\" xlink:type=\"simple\"><path d=\"M109.87,99.57 C114.84,115.39 120.59,133.68 124.98,147.66 \" fill=\"none\" id=\"E9&lt;-E11\" style=\"stroke: #383838; stroke-width: 1.0;\"/><polygon fill=\"#FFFFFF\" points=\"105.92,87.01,103.9044,93.9337,109.5203,98.4572,111.5359,91.5335,105.92,87.01\" style=\"stroke: #383838; stroke-width: 1.0;\"/><text fill=\"#000000\" font-family=\"sans-serif\" font-size=\"13\" lengthAdjust=\"spacingAndGlyphs\" textLength=\"8\" x=\"114.1561\" y=\"136.8492\">1</text></a><!--MD5=[0517f1ce58c4d5483948f93845c45e26]\n",
       "link E11 to E3--><a href=\"psysml:92dee77c-180b-445a-a05e-737a71661cde\" target=\"_top\" title=\"psysml:92dee77c-180b-445a-a05e-737a71661cde\" xlink:actuate=\"onRequest\" xlink:href=\"psysml:92dee77c-180b-445a-a05e-737a71661cde\" xlink:show=\"new\" xlink:title=\"psysml:92dee77c-180b-445a-a05e-737a71661cde\" xlink:type=\"simple\"><path d=\"M132,194.01 C132,205.69 132,220.46 132,234.28 \" fill=\"none\" id=\"E11-&gt;E3\" style=\"stroke: #383838; stroke-width: 1.0;\"/><polygon fill=\"#FFFFFF\" points=\"132,254.66,125,235.66,139,235.66,132,254.66\" style=\"stroke: #383838; stroke-width: 1.0;\"/><ellipse cx=\"127\" cy=\"229.96\" fill=\"#383838\" rx=\"2\" ry=\"2\" style=\"stroke: #383838; stroke-width: 1.0;\"/><ellipse cx=\"137\" cy=\"229.96\" fill=\"#383838\" rx=\"2\" ry=\"2\" style=\"stroke: #383838; stroke-width: 1.0;\"/></a><!--MD5=[50e554f60f8d3d8e6dccda5d38cad7d7]\n",
       "@startuml\r\n",
       " skinparam monochrome true\r\n",
       "skinparam classbackgroundcolor white\r\n",
       "skinparam shadowing false\r\n",
       "skinparam wrapWidth 300\r\n",
       "hide circle\r\n",
       "\r\n",
       "package \"ItemTest\" as E1  [[psysml:8469bc55-64be-4e75-90cd-bb271a7bb256 ]]  {\r\n",
       "comp usage \"f: A \" as E2  <<(T,blue) item>> [[psysml:6cbf61b0-82f0-477a-9e61-503ee7ef8ab3 ]] {\r\n",
       "}\r\n",
       "comp def \"A\" as E3  <<(T,blue) item  def>> [[psysml:73e4759d-5191-4c8c-b634-f2bc1b43e3a3 ]] {\r\n",
       "}\r\n",
       "comp usage \"b: B \" as E4  <<(T,blue) item>> [[psysml:22dedc78-8a6f-47e7-a1b3-f5299f454177 ]] {\r\n",
       "}\r\n",
       "comp usage \"c: C \" as E5  <<(T,blue) part>> [[psysml:d5b518cb-4e9d-48f6-86e4-811292cf7103 ]] {\r\n",
       "}\r\n",
       "comp def \"<i>B</i>\" as E6  <<(T,blue) item  def>> [[psysml:7fb13a86-95b9-42ac-ac4a-d3cbb2045ff7 ]] {\r\n",
       "}\r\n",
       "comp usage \"<i>a</i>: A \" as E7  <<(T,blue) part>> [[psysml:b4d408e4-c35f-4021-90a0-c54c4c634ca8 ]] {\r\n",
       "}\r\n",
       "comp def \"C\" as E8  <<(T,blue) part  def>> [[psysml:53104107-4f2e-4822-81be-c90629c3152e ]] {\r\n",
       "}\r\n",
       "comp def \"P\" as E9  <<(T,blue) port  def>> [[psysml:96c92d64-4061-42f0-9733-a4ee9bfee5f1 ]] {\r\n",
       "}\r\n",
       "comp usage \"a1: A \" as E10  <<(T,blue) item>> [[psysml:21151bb4-f160-49b9-964a-222b3c2d7b6c ]] {\r\n",
       "}\r\n",
       "comp usage \"a2: A \" as E11  <<(T,blue) item>> [[psysml:048eeab4-ab84-4a9d-8dc8-2b5e8335cff3 ]] {\r\n",
       "}\r\n",
       "}\r\n",
       "E2 - -:|> E3 [[psysml:e70b16f9-62c0-40f3-a087-aa973c352c22 ]] \r\n",
       "E3 *- - \"1\"E4 [[psysml:f5164247-58fc-45c1-bba3-2edebb195fbd ]] \r\n",
       "E3 o- - \"1\"E5 [[psysml:0e10322d-8096-4d1c-ad13-bcf359abd35a ]] \r\n",
       "E4 - -:|> E6 [[psysml:cd799d59-974c-4cd5-b2a4-5d2e853ea550 ]] \r\n",
       "E6 *- - \"1\"E7 [[psysml:f66c29ee-70ba-402f-a3a4-159df7b46130 ]] \r\n",
       "E7 - -:|> E3 [[psysml:4b14459c-c0ea-47eb-ae95-5bdd156140b8 ]] \r\n",
       "E5 - -:|> E8 [[psysml:7f99918d-ef62-497c-9b9a-668f89d0bef4 ]] \r\n",
       "E8 o- - E3 [[psysml:8abdebaf-64f0-40cf-a780-4a21932975d8 ]] : y\r\n",
       "E8 o- - E6 [[psysml:8abdebaf-64f0-40cf-a780-4a21932975d8 ]] : y\r\n",
       "E9 o- - \"1\"E10 [[psysml:4b97f70b-21b5-47d0-9b80-bf68f1206e68 ]] \r\n",
       "E10 - -:|> E3 [[psysml:890b43d2-a44a-4df9-b863-0c7f323950a1 ]] \r\n",
       "E9 o- - \"1\"E11 [[psysml:75cdd26f-47cf-45db-b14e-ba01ceb3edc6 ]] \r\n",
       "E11 - -:|> E3 [[psysml:92dee77c-180b-445a-a05e-737a71661cde ]] \r\n",
       "@enduml\r\n",
       "\n",
       "PlantUML version 1.2020.13(Sat Jun 13 12:26:38 UTC 2020)\n",
       "(EPL source distribution)\n",
       "Java Runtime: OpenJDK Runtime Environment\n",
       "JVM: OpenJDK 64-Bit Server VM\n",
       "Default Encoding: UTF-8\n",
       "Language: en\n",
       "Country: null\n",
       "--></g></svg>"
      ]
     },
     "execution_count": 2,
     "metadata": {},
     "output_type": "execute_result"
    }
   ],
   "source": [
    "%viz --style=\"COMPTREE\" --view=\"Default\" \"ItemTest\""
   ]
  },
  {
   "cell_type": "code",
   "execution_count": 3,
   "id": "c8a29769",
   "metadata": {
    "execution": {
     "iopub.execute_input": "2022-03-21T07:49:08.747204Z",
     "iopub.status.busy": "2022-03-21T07:49:08.746771Z",
     "iopub.status.idle": "2022-03-21T07:49:08.853186Z",
     "shell.execute_reply": "2022-03-21T07:49:08.852798Z"
    }
   },
   "outputs": [
    {
     "data": {
      "image/svg+xml": [
       "<?xml version=\"1.0\" encoding=\"UTF-8\" standalone=\"no\"?><svg xmlns=\"http://www.w3.org/2000/svg\" xmlns:xlink=\"http://www.w3.org/1999/xlink\" contentScriptType=\"application/ecmascript\" contentStyleType=\"text/css\" height=\"818px\" preserveAspectRatio=\"none\" style=\"width:270px;height:818px;\" version=\"1.1\" viewBox=\"0 0 270 818\" width=\"270px\" zoomAndPan=\"magnify\"><defs/><g><!--MD5=[fbc87193dbaf4d95561dea2c320d4a47]\n",
       "cluster E1--><a href=\"psysml:8469bc55-64be-4e75-90cd-bb271a7bb256\" target=\"_top\" title=\"psysml:8469bc55-64be-4e75-90cd-bb271a7bb256\" xlink:actuate=\"onRequest\" xlink:href=\"psysml:8469bc55-64be-4e75-90cd-bb271a7bb256\" xlink:show=\"new\" xlink:title=\"psysml:8469bc55-64be-4e75-90cd-bb271a7bb256\" xlink:type=\"simple\"><polygon fill=\"#FFFFFF\" points=\"16,6,83,6,90,28.2969,248,28.2969,248,806,16,806,16,6\" style=\"stroke: #000000; stroke-width: 1.5;\"/><line style=\"stroke: #000000; stroke-width: 1.5;\" x1=\"16\" x2=\"90\" y1=\"28.2969\" y2=\"28.2969\"/><text fill=\"#000000\" font-family=\"sans-serif\" font-size=\"14\" font-weight=\"bold\" lengthAdjust=\"spacingAndGlyphs\" textLength=\"61\" x=\"20\" y=\"20.9951\">ItemTest</text></a><!--MD5=[b4997ac47864f28c2f74865a473b2911]\n",
       "class E2--><a href=\"psysml:6cbf61b0-82f0-477a-9e61-503ee7ef8ab3\" target=\"_top\" title=\"psysml:6cbf61b0-82f0-477a-9e61-503ee7ef8ab3\" xlink:actuate=\"onRequest\" xlink:href=\"psysml:6cbf61b0-82f0-477a-9e61-503ee7ef8ab3\" xlink:show=\"new\" xlink:title=\"psysml:6cbf61b0-82f0-477a-9e61-503ee7ef8ab3\" xlink:type=\"simple\"><rect fill=\"#FFFFFF\" height=\"45.9375\" id=\"E2\" rx=\"10\" ry=\"10\" style=\"stroke: #383838; stroke-width: 1.5;\" width=\"43\" x=\"188.5\" y=\"148\"/><text fill=\"#000000\" font-family=\"sans-serif\" font-size=\"12\" font-style=\"italic\" lengthAdjust=\"spacingAndGlyphs\" textLength=\"41\" x=\"189.5\" y=\"164.1387\">«item»</text><text fill=\"#000000\" font-family=\"sans-serif\" font-size=\"12\" lengthAdjust=\"spacingAndGlyphs\" textLength=\"20\" x=\"198\" y=\"178.1074\">f: A</text><line style=\"stroke: #383838; stroke-width: 1.5;\" x1=\"189.5\" x2=\"230.5\" y1=\"185.9375\" y2=\"185.9375\"/></a><!--MD5=[09b614a08d8cba4a07c9adeb5e0fee81]\n",
       "class E3--><a href=\"psysml:73e4759d-5191-4c8c-b634-f2bc1b43e3a3\" target=\"_top\" title=\"psysml:73e4759d-5191-4c8c-b634-f2bc1b43e3a3\" xlink:actuate=\"onRequest\" xlink:href=\"psysml:73e4759d-5191-4c8c-b634-f2bc1b43e3a3\" xlink:show=\"new\" xlink:title=\"psysml:73e4759d-5191-4c8c-b634-f2bc1b43e3a3\" xlink:type=\"simple\"><rect fill=\"#FFFFFF\" height=\"45.9375\" id=\"E3\" style=\"stroke: #383838; stroke-width: 1.5;\" width=\"71\" x=\"96.5\" y=\"255\"/><text fill=\"#000000\" font-family=\"sans-serif\" font-size=\"12\" font-style=\"italic\" lengthAdjust=\"spacingAndGlyphs\" textLength=\"69\" x=\"97.5\" y=\"271.1387\">«item  def»</text><text fill=\"#000000\" font-family=\"sans-serif\" font-size=\"12\" lengthAdjust=\"spacingAndGlyphs\" textLength=\"8\" x=\"128\" y=\"285.1074\">A</text><line style=\"stroke: #383838; stroke-width: 1.5;\" x1=\"97.5\" x2=\"166.5\" y1=\"292.9375\" y2=\"292.9375\"/></a><!--MD5=[ebbe1d658d1005bcc118a6aa81145e00]\n",
       "class E4--><a href=\"psysml:22dedc78-8a6f-47e7-a1b3-f5299f454177\" target=\"_top\" title=\"psysml:22dedc78-8a6f-47e7-a1b3-f5299f454177\" xlink:actuate=\"onRequest\" xlink:href=\"psysml:22dedc78-8a6f-47e7-a1b3-f5299f454177\" xlink:show=\"new\" xlink:title=\"psysml:22dedc78-8a6f-47e7-a1b3-f5299f454177\" xlink:type=\"simple\"><rect fill=\"#FFFFFF\" height=\"45.9375\" id=\"E4\" rx=\"10\" ry=\"10\" style=\"stroke: #383838; stroke-width: 1.5;\" width=\"43\" x=\"45.5\" y=\"438\"/><text fill=\"#000000\" font-family=\"sans-serif\" font-size=\"12\" font-style=\"italic\" lengthAdjust=\"spacingAndGlyphs\" textLength=\"41\" x=\"46.5\" y=\"454.1387\">«item»</text><text fill=\"#000000\" font-family=\"sans-serif\" font-size=\"12\" lengthAdjust=\"spacingAndGlyphs\" textLength=\"24\" x=\"53\" y=\"468.1074\">b: B</text><line style=\"stroke: #383838; stroke-width: 1.5;\" x1=\"46.5\" x2=\"87.5\" y1=\"475.9375\" y2=\"475.9375\"/></a><!--MD5=[270fce915f116d4de14055a7c1d9a0f3]\n",
       "class E5--><a href=\"psysml:d5b518cb-4e9d-48f6-86e4-811292cf7103\" target=\"_top\" title=\"psysml:d5b518cb-4e9d-48f6-86e4-811292cf7103\" xlink:actuate=\"onRequest\" xlink:href=\"psysml:d5b518cb-4e9d-48f6-86e4-811292cf7103\" xlink:show=\"new\" xlink:title=\"psysml:d5b518cb-4e9d-48f6-86e4-811292cf7103\" xlink:type=\"simple\"><rect fill=\"#FFFFFF\" height=\"45.9375\" id=\"E5\" rx=\"10\" ry=\"10\" style=\"stroke: #383838; stroke-width: 1.5;\" width=\"42\" x=\"151\" y=\"362\"/><text fill=\"#000000\" font-family=\"sans-serif\" font-size=\"12\" font-style=\"italic\" lengthAdjust=\"spacingAndGlyphs\" textLength=\"40\" x=\"152\" y=\"378.1387\">«part»</text><text fill=\"#000000\" font-family=\"sans-serif\" font-size=\"12\" lengthAdjust=\"spacingAndGlyphs\" textLength=\"23\" x=\"158.5\" y=\"392.1074\">c: C</text><line style=\"stroke: #383838; stroke-width: 1.5;\" x1=\"152\" x2=\"192\" y1=\"399.9375\" y2=\"399.9375\"/></a><!--MD5=[60a26617385b1d2d0262a64233df1f8d]\n",
       "class E6--><a href=\"psysml:7fb13a86-95b9-42ac-ac4a-d3cbb2045ff7\" target=\"_top\" title=\"psysml:7fb13a86-95b9-42ac-ac4a-d3cbb2045ff7\" xlink:actuate=\"onRequest\" xlink:href=\"psysml:7fb13a86-95b9-42ac-ac4a-d3cbb2045ff7\" xlink:show=\"new\" xlink:title=\"psysml:7fb13a86-95b9-42ac-ac4a-d3cbb2045ff7\" xlink:type=\"simple\"><rect fill=\"#FFFFFF\" height=\"45.9375\" id=\"E6\" style=\"stroke: #383838; stroke-width: 1.5;\" width=\"71\" x=\"112.5\" y=\"637\"/><text fill=\"#000000\" font-family=\"sans-serif\" font-size=\"12\" font-style=\"italic\" lengthAdjust=\"spacingAndGlyphs\" textLength=\"69\" x=\"113.5\" y=\"653.1387\">«item  def»</text><text fill=\"#000000\" font-family=\"sans-serif\" font-size=\"12\" font-style=\"italic\" lengthAdjust=\"spacingAndGlyphs\" textLength=\"8\" x=\"144\" y=\"667.1074\">B</text><line style=\"stroke: #383838; stroke-width: 1.5;\" x1=\"113.5\" x2=\"182.5\" y1=\"674.9375\" y2=\"674.9375\"/></a><!--MD5=[2156ba9850f5573cc1fc38a6a4b2f02b]\n",
       "class E7--><a href=\"psysml:b4d408e4-c35f-4021-90a0-c54c4c634ca8\" target=\"_top\" title=\"psysml:b4d408e4-c35f-4021-90a0-c54c4c634ca8\" xlink:actuate=\"onRequest\" xlink:href=\"psysml:b4d408e4-c35f-4021-90a0-c54c4c634ca8\" xlink:show=\"new\" xlink:title=\"psysml:b4d408e4-c35f-4021-90a0-c54c4c634ca8\" xlink:type=\"simple\"><rect fill=\"#FFFFFF\" height=\"45.9375\" id=\"E7\" rx=\"10\" ry=\"10\" style=\"stroke: #383838; stroke-width: 1.5;\" width=\"42\" x=\"159\" y=\"744\"/><text fill=\"#000000\" font-family=\"sans-serif\" font-size=\"12\" font-style=\"italic\" lengthAdjust=\"spacingAndGlyphs\" textLength=\"40\" x=\"160\" y=\"760.1387\">«part»</text><text fill=\"#000000\" font-family=\"sans-serif\" font-size=\"12\" font-style=\"italic\" lengthAdjust=\"spacingAndGlyphs\" textLength=\"8\" x=\"166\" y=\"774.1074\">a</text><text fill=\"#000000\" font-family=\"sans-serif\" font-size=\"12\" lengthAdjust=\"spacingAndGlyphs\" textLength=\"16\" x=\"174\" y=\"774.1074\">: A</text><line style=\"stroke: #383838; stroke-width: 1.5;\" x1=\"160\" x2=\"200\" y1=\"781.9375\" y2=\"781.9375\"/></a><!--MD5=[b9389687b975829384b498ac4b7476b2]\n",
       "class E8--><a href=\"psysml:53104107-4f2e-4822-81be-c90629c3152e\" target=\"_top\" title=\"psysml:53104107-4f2e-4822-81be-c90629c3152e\" xlink:actuate=\"onRequest\" xlink:href=\"psysml:53104107-4f2e-4822-81be-c90629c3152e\" xlink:show=\"new\" xlink:title=\"psysml:53104107-4f2e-4822-81be-c90629c3152e\" xlink:type=\"simple\"><rect fill=\"#FFFFFF\" height=\"45.9375\" id=\"E8\" style=\"stroke: #383838; stroke-width: 1.5;\" width=\"70\" x=\"113\" y=\"514\"/><text fill=\"#000000\" font-family=\"sans-serif\" font-size=\"12\" font-style=\"italic\" lengthAdjust=\"spacingAndGlyphs\" textLength=\"68\" x=\"114\" y=\"530.1387\">«part  def»</text><text fill=\"#000000\" font-family=\"sans-serif\" font-size=\"12\" lengthAdjust=\"spacingAndGlyphs\" textLength=\"8\" x=\"144\" y=\"544.1074\">C</text><line style=\"stroke: #383838; stroke-width: 1.5;\" x1=\"114\" x2=\"182\" y1=\"551.9375\" y2=\"551.9375\"/></a><!--MD5=[fd4143e9d270a159db93a4ea2a975926]\n",
       "class E9--><a href=\"psysml:96c92d64-4061-42f0-9733-a4ee9bfee5f1\" target=\"_top\" title=\"psysml:96c92d64-4061-42f0-9733-a4ee9bfee5f1\" xlink:actuate=\"onRequest\" xlink:href=\"psysml:96c92d64-4061-42f0-9733-a4ee9bfee5f1\" xlink:show=\"new\" xlink:title=\"psysml:96c92d64-4061-42f0-9733-a4ee9bfee5f1\" xlink:type=\"simple\"><rect fill=\"#FFFFFF\" height=\"45.9375\" id=\"E9\" style=\"stroke: #383838; stroke-width: 1.5;\" width=\"70\" x=\"64\" y=\"41\"/><text fill=\"#000000\" font-family=\"sans-serif\" font-size=\"12\" font-style=\"italic\" lengthAdjust=\"spacingAndGlyphs\" textLength=\"68\" x=\"65\" y=\"57.1387\">«port  def»</text><text fill=\"#000000\" font-family=\"sans-serif\" font-size=\"12\" lengthAdjust=\"spacingAndGlyphs\" textLength=\"8\" x=\"95\" y=\"71.1074\">P</text><line style=\"stroke: #383838; stroke-width: 1.5;\" x1=\"65\" x2=\"133\" y1=\"78.9375\" y2=\"78.9375\"/></a><!--MD5=[96f4274e9e20536e775497830990834d]\n",
       "class E10--><a href=\"psysml:21151bb4-f160-49b9-964a-222b3c2d7b6c\" target=\"_top\" title=\"psysml:21151bb4-f160-49b9-964a-222b3c2d7b6c\" xlink:actuate=\"onRequest\" xlink:href=\"psysml:21151bb4-f160-49b9-964a-222b3c2d7b6c\" xlink:show=\"new\" xlink:title=\"psysml:21151bb4-f160-49b9-964a-222b3c2d7b6c\" xlink:type=\"simple\"><rect fill=\"#FFFFFF\" height=\"45.9375\" id=\"E10\" rx=\"10\" ry=\"10\" style=\"stroke: #383838; stroke-width: 1.5;\" width=\"43\" x=\"32.5\" y=\"148\"/><text fill=\"#000000\" font-family=\"sans-serif\" font-size=\"12\" font-style=\"italic\" lengthAdjust=\"spacingAndGlyphs\" textLength=\"41\" x=\"33.5\" y=\"164.1387\">«item»</text><text fill=\"#000000\" font-family=\"sans-serif\" font-size=\"12\" lengthAdjust=\"spacingAndGlyphs\" textLength=\"32\" x=\"36\" y=\"178.1074\">a1: A</text><line style=\"stroke: #383838; stroke-width: 1.5;\" x1=\"33.5\" x2=\"74.5\" y1=\"185.9375\" y2=\"185.9375\"/></a><!--MD5=[1dd1bfd58a279cf63c5f349dbc8fc6a1]\n",
       "class E11--><a href=\"psysml:048eeab4-ab84-4a9d-8dc8-2b5e8335cff3\" target=\"_top\" title=\"psysml:048eeab4-ab84-4a9d-8dc8-2b5e8335cff3\" xlink:actuate=\"onRequest\" xlink:href=\"psysml:048eeab4-ab84-4a9d-8dc8-2b5e8335cff3\" xlink:show=\"new\" xlink:title=\"psysml:048eeab4-ab84-4a9d-8dc8-2b5e8335cff3\" xlink:type=\"simple\"><rect fill=\"#FFFFFF\" height=\"45.9375\" id=\"E11\" rx=\"10\" ry=\"10\" style=\"stroke: #383838; stroke-width: 1.5;\" width=\"43\" x=\"110.5\" y=\"148\"/><text fill=\"#000000\" font-family=\"sans-serif\" font-size=\"12\" font-style=\"italic\" lengthAdjust=\"spacingAndGlyphs\" textLength=\"41\" x=\"111.5\" y=\"164.1387\">«item»</text><text fill=\"#000000\" font-family=\"sans-serif\" font-size=\"12\" lengthAdjust=\"spacingAndGlyphs\" textLength=\"32\" x=\"114\" y=\"178.1074\">a2: A</text><line style=\"stroke: #383838; stroke-width: 1.5;\" x1=\"111.5\" x2=\"152.5\" y1=\"185.9375\" y2=\"185.9375\"/></a><!--MD5=[2720a5a1f2c3fca2055b230370638851]\n",
       "link E2 to E3--><a href=\"psysml:e70b16f9-62c0-40f3-a087-aa973c352c22\" target=\"_top\" title=\"psysml:e70b16f9-62c0-40f3-a087-aa973c352c22\" xlink:actuate=\"onRequest\" xlink:href=\"psysml:e70b16f9-62c0-40f3-a087-aa973c352c22\" xlink:show=\"new\" xlink:title=\"psysml:e70b16f9-62c0-40f3-a087-aa973c352c22\" xlink:type=\"simple\"><path d=\"M193.65,194.01 C184.14,206.81 171.89,223.3 160.82,238.2 \" fill=\"none\" id=\"E2-&gt;E3\" style=\"stroke: #383838; stroke-width: 1.0;\"/><polygon fill=\"#FFFFFF\" points=\"148.6,254.66,154.3195,235.2361,165.5543,243.5896,148.6,254.66\" style=\"stroke: #383838; stroke-width: 1.0;\"/><ellipse cx=\"159.3256\" cy=\"231.8554\" fill=\"#383838\" rx=\"2\" ry=\"2\" style=\"stroke: #383838; stroke-width: 1.0;\"/><ellipse cx=\"167.3504\" cy=\"237.8221\" fill=\"#383838\" rx=\"2\" ry=\"2\" style=\"stroke: #383838; stroke-width: 1.0;\"/></a><!--MD5=[4672eba38e49728da53d11aeb285b987]\n",
       "reverse link E3 to E4--><a href=\"psysml:f5164247-58fc-45c1-bba3-2edebb195fbd\" target=\"_top\" title=\"psysml:f5164247-58fc-45c1-bba3-2edebb195fbd\" xlink:actuate=\"onRequest\" xlink:href=\"psysml:f5164247-58fc-45c1-bba3-2edebb195fbd\" xlink:show=\"new\" xlink:title=\"psysml:f5164247-58fc-45c1-bba3-2edebb195fbd\" xlink:type=\"simple\"><path d=\"M97.11,310.9 C84.08,325.11 70.81,342.94 64,362 C55.12,386.85 58.09,417.53 61.82,437.88 \" fill=\"none\" id=\"E3&lt;-E4\" style=\"stroke: #383838; stroke-width: 1.0;\"/><polygon fill=\"#383838\" points=\"106.46,301.23,99.4153,302.7703,98.1277,309.8655,105.1724,308.3252,106.46,301.23\" style=\"stroke: #383838; stroke-width: 1.0;\"/><text fill=\"#000000\" font-family=\"sans-serif\" font-size=\"13\" lengthAdjust=\"spacingAndGlyphs\" textLength=\"8\" x=\"51.3529\" y=\"426.744\">1</text></a><!--MD5=[191cde3d490a3f6d7bb551fe3ddca469]\n",
       "reverse link E3 to E5--><a href=\"psysml:0e10322d-8096-4d1c-ad13-bcf359abd35a\" target=\"_top\" title=\"psysml:0e10322d-8096-4d1c-ad13-bcf359abd35a\" xlink:actuate=\"onRequest\" xlink:href=\"psysml:0e10322d-8096-4d1c-ad13-bcf359abd35a\" xlink:show=\"new\" xlink:title=\"psysml:0e10322d-8096-4d1c-ad13-bcf359abd35a\" xlink:type=\"simple\"><path d=\"M145.17,313.57 C151.2,329.39 158.16,347.68 163.49,361.66 \" fill=\"none\" id=\"E3&lt;-E5\" style=\"stroke: #383838; stroke-width: 1.0;\"/><polygon fill=\"#FFFFFF\" points=\"140.39,301.01,138.7866,308.0406,144.6598,312.2247,146.2631,305.1941,140.39,301.01\" style=\"stroke: #383838; stroke-width: 1.0;\"/><text fill=\"#000000\" font-family=\"sans-serif\" font-size=\"13\" lengthAdjust=\"spacingAndGlyphs\" textLength=\"8\" x=\"152.2843\" y=\"350.8492\">1</text></a><!--MD5=[79568f1e445c3877b6a54524624ccc7d]\n",
       "link E4 to E6--><a href=\"psysml:cd799d59-974c-4cd5-b2a4-5d2e853ea550\" target=\"_top\" title=\"psysml:cd799d59-974c-4cd5-b2a4-5d2e853ea550\" xlink:actuate=\"onRequest\" xlink:href=\"psysml:cd799d59-974c-4cd5-b2a4-5d2e853ea550\" xlink:show=\"new\" xlink:title=\"psysml:cd799d59-974c-4cd5-b2a4-5d2e853ea550\" xlink:type=\"simple\"><path d=\"M72.25,484.22 C77.31,504.36 85.72,534.68 96,560 C104.15,580.08 115.08,601.47 124.82,619.21 \" fill=\"none\" id=\"E4-&gt;E6\" style=\"stroke: #383838; stroke-width: 1.0;\"/><polygon fill=\"#FFFFFF\" points=\"134.72,636.8,119.2979,623.6791,131.4967,616.8097,134.72,636.8\" style=\"stroke: #383838; stroke-width: 1.0;\"/><ellipse cx=\"118.2438\" cy=\"617.7311\" fill=\"#383838\" rx=\"2\" ry=\"2\" style=\"stroke: #383838; stroke-width: 1.0;\"/><ellipse cx=\"126.9572\" cy=\"612.8244\" fill=\"#383838\" rx=\"2\" ry=\"2\" style=\"stroke: #383838; stroke-width: 1.0;\"/></a><!--MD5=[3f50a3473f1dfb74d3f76443e03635af]\n",
       "reverse link E6 to E7--><a href=\"psysml:f66c29ee-70ba-402f-a3a4-159df7b46130\" target=\"_top\" title=\"psysml:f66c29ee-70ba-402f-a3a4-159df7b46130\" xlink:actuate=\"onRequest\" xlink:href=\"psysml:f66c29ee-70ba-402f-a3a4-159df7b46130\" xlink:show=\"new\" xlink:title=\"psysml:f66c29ee-70ba-402f-a3a4-159df7b46130\" xlink:type=\"simple\"><path d=\"M158.54,695.57 C163.36,711.39 168.93,729.68 173.19,743.66 \" fill=\"none\" id=\"E6&lt;-E7\" style=\"stroke: #383838; stroke-width: 1.0;\"/><polygon fill=\"#383838\" points=\"154.71,683.01,152.6319,689.9152,158.2066,694.4893,160.2847,687.5841,154.71,683.01\" style=\"stroke: #383838; stroke-width: 1.0;\"/><text fill=\"#000000\" font-family=\"sans-serif\" font-size=\"13\" lengthAdjust=\"spacingAndGlyphs\" textLength=\"8\" x=\"162.4199\" y=\"732.8492\">1</text></a><!--MD5=[14ccda38c055a5c0da953d572bc50960]\n",
       "link E7 to E3--><a href=\"psysml:4b14459c-c0ea-47eb-ae95-5bdd156140b8\" target=\"_top\" title=\"psysml:4b14459c-c0ea-47eb-ae95-5bdd156140b8\" xlink:actuate=\"onRequest\" xlink:href=\"psysml:4b14459c-c0ea-47eb-ae95-5bdd156140b8\" xlink:show=\"new\" xlink:title=\"psysml:4b14459c-c0ea-47eb-ae95-5bdd156140b8\" xlink:type=\"simple\"><path d=\"M197.41,743.63 C211.5,723.27 229,691.78 229,661 C229,384 229,384 229,384 C229,353.7 206.93,328.42 183.85,310.26 \" fill=\"none\" id=\"E7-&gt;E3\" style=\"stroke: #383838; stroke-width: 1.0;\"/><polygon fill=\"#FFFFFF\" points=\"167.57,298.59,187.0929,303.9617,178.9414,315.3438,167.57,298.59\" style=\"stroke: #383838; stroke-width: 1.0;\"/><ellipse cx=\"190.5626\" cy=\"308.9066\" fill=\"#383838\" rx=\"2\" ry=\"2\" style=\"stroke: #383838; stroke-width: 1.0;\"/><ellipse cx=\"184.7401\" cy=\"317.0367\" fill=\"#383838\" rx=\"2\" ry=\"2\" style=\"stroke: #383838; stroke-width: 1.0;\"/></a><!--MD5=[dfaffb906826c3e5aca635516100ff21]\n",
       "link E5 to E8--><a href=\"psysml:7f99918d-ef62-497c-9b9a-668f89d0bef4\" target=\"_top\" title=\"psysml:7f99918d-ef62-497c-9b9a-668f89d0bef4\" xlink:actuate=\"onRequest\" xlink:href=\"psysml:7f99918d-ef62-497c-9b9a-668f89d0bef4\" xlink:show=\"new\" xlink:title=\"psysml:7f99918d-ef62-497c-9b9a-668f89d0bef4\" xlink:type=\"simple\"><path d=\"M168.46,408.13 C164.86,430.62 159.2,466.01 154.74,493.87 \" fill=\"none\" id=\"E5-&gt;E8\" style=\"stroke: #383838; stroke-width: 1.0;\"/><polygon fill=\"#FFFFFF\" points=\"151.56,513.78,147.6458,493.9135,161.4704,496.1226,151.56,513.78\" style=\"stroke: #383838; stroke-width: 1.0;\"/><ellipse cx=\"150.5202\" cy=\"488.6005\" fill=\"#383838\" rx=\"2\" ry=\"2\" style=\"stroke: #383838; stroke-width: 1.0;\"/><ellipse cx=\"160.3949\" cy=\"490.1784\" fill=\"#383838\" rx=\"2\" ry=\"2\" style=\"stroke: #383838; stroke-width: 1.0;\"/></a><!--MD5=[03c8294790d3c57651a1993cecff665f]\n",
       "reverse link E8 to E3--><a href=\"psysml:8abdebaf-64f0-40cf-a780-4a21932975d8\" target=\"_top\" title=\"psysml:8abdebaf-64f0-40cf-a780-4a21932975d8\" xlink:actuate=\"onRequest\" xlink:href=\"psysml:8abdebaf-64f0-40cf-a780-4a21932975d8\" xlink:show=\"new\" xlink:title=\"psysml:8abdebaf-64f0-40cf-a780-4a21932975d8\" xlink:type=\"simple\"><path d=\"M140.02,501.22 C134.57,475.6 127.84,439.84 125,408 C123.18,387.64 124.14,382.43 125,362 C125.87,341.34 127.95,317.86 129.62,301.16 \" fill=\"none\" id=\"E8&lt;-E3\" style=\"stroke: #383838; stroke-width: 1.0;\"/><polygon fill=\"#FFFFFF\" points=\"142.81,513.96,145.4388,507.2451,140.2515,502.2359,137.6227,508.9508,142.81,513.96\" style=\"stroke: #383838; stroke-width: 1.0;\"/><text fill=\"#000000\" font-family=\"sans-serif\" font-size=\"13\" lengthAdjust=\"spacingAndGlyphs\" textLength=\"7\" x=\"126\" y=\"389.5669\">y</text></a><!--MD5=[0d75d2178373a6a4568e5dc728f58aef]\n",
       "reverse link E8 to E6--><a href=\"psysml:8abdebaf-64f0-40cf-a780-4a21932975d8\" target=\"_top\" title=\"psysml:8abdebaf-64f0-40cf-a780-4a21932975d8\" xlink:actuate=\"onRequest\" xlink:href=\"psysml:8abdebaf-64f0-40cf-a780-4a21932975d8\" xlink:show=\"new\" xlink:title=\"psysml:8abdebaf-64f0-40cf-a780-4a21932975d8\" xlink:type=\"simple\"><path d=\"M148,573.22 C148,593.81 148,619.16 148,636.95 \" fill=\"none\" id=\"E8&lt;-E6\" style=\"stroke: #383838; stroke-width: 1.0;\"/><polygon fill=\"#FFFFFF\" points=\"148,560.19,144,566.19,148,572.19,152,566.19,148,560.19\" style=\"stroke: #383838; stroke-width: 1.0;\"/><text fill=\"#000000\" font-family=\"sans-serif\" font-size=\"13\" lengthAdjust=\"spacingAndGlyphs\" textLength=\"7\" x=\"149\" y=\"603.0669\">y</text></a><!--MD5=[23ac544a70576c3e717098101004234c]\n",
       "reverse link E9 to E10--><a href=\"psysml:4b97f70b-21b5-47d0-9b80-bf68f1206e68\" target=\"_top\" title=\"psysml:4b97f70b-21b5-47d0-9b80-bf68f1206e68\" xlink:actuate=\"onRequest\" xlink:href=\"psysml:4b97f70b-21b5-47d0-9b80-bf68f1206e68\" xlink:show=\"new\" xlink:title=\"psysml:4b97f70b-21b5-47d0-9b80-bf68f1206e68\" xlink:type=\"simple\"><path d=\"M84.39,99.1 C77.56,115.03 69.63,133.54 63.58,147.66 \" fill=\"none\" id=\"E9&lt;-E10\" style=\"stroke: #383838; stroke-width: 1.0;\"/><polygon fill=\"#FFFFFF\" points=\"89.57,87.01,83.5327,90.9535,84.8509,98.0431,90.8882,94.0996,89.57,87.01\" style=\"stroke: #383838; stroke-width: 1.0;\"/><text fill=\"#000000\" font-family=\"sans-serif\" font-size=\"13\" lengthAdjust=\"spacingAndGlyphs\" textLength=\"8\" x=\"57.0099\" y=\"136.8492\">1</text></a><!--MD5=[feeac5eb423634930294aa81f2d25a4c]\n",
       "link E10 to E3--><a href=\"psysml:890b43d2-a44a-4df9-b863-0c7f323950a1\" target=\"_top\" title=\"psysml:890b43d2-a44a-4df9-b863-0c7f323950a1\" xlink:actuate=\"onRequest\" xlink:href=\"psysml:890b43d2-a44a-4df9-b863-0c7f323950a1\" xlink:show=\"new\" xlink:title=\"psysml:890b43d2-a44a-4df9-b863-0c7f323950a1\" xlink:type=\"simple\"><path d=\"M70.35,194.01 C79.86,206.81 92.11,223.3 103.18,238.2 \" fill=\"none\" id=\"E10-&gt;E3\" style=\"stroke: #383838; stroke-width: 1.0;\"/><polygon fill=\"#FFFFFF\" points=\"115.4,254.66,98.4457,243.5896,109.6805,235.2361,115.4,254.66\" style=\"stroke: #383838; stroke-width: 1.0;\"/><ellipse cx=\"96.6496\" cy=\"237.8221\" fill=\"#383838\" rx=\"2\" ry=\"2\" style=\"stroke: #383838; stroke-width: 1.0;\"/><ellipse cx=\"104.6744\" cy=\"231.8554\" fill=\"#383838\" rx=\"2\" ry=\"2\" style=\"stroke: #383838; stroke-width: 1.0;\"/></a><!--MD5=[1fc04a95fd77ad5ce46c1a3027516051]\n",
       "reverse link E9 to E11--><a href=\"psysml:75cdd26f-47cf-45db-b14e-ba01ceb3edc6\" target=\"_top\" title=\"psysml:75cdd26f-47cf-45db-b14e-ba01ceb3edc6\" xlink:actuate=\"onRequest\" xlink:href=\"psysml:75cdd26f-47cf-45db-b14e-ba01ceb3edc6\" xlink:show=\"new\" xlink:title=\"psysml:75cdd26f-47cf-45db-b14e-ba01ceb3edc6\" xlink:type=\"simple\"><path d=\"M109.87,99.57 C114.84,115.39 120.59,133.68 124.98,147.66 \" fill=\"none\" id=\"E9&lt;-E11\" style=\"stroke: #383838; stroke-width: 1.0;\"/><polygon fill=\"#FFFFFF\" points=\"105.92,87.01,103.9044,93.9337,109.5203,98.4572,111.5359,91.5335,105.92,87.01\" style=\"stroke: #383838; stroke-width: 1.0;\"/><text fill=\"#000000\" font-family=\"sans-serif\" font-size=\"13\" lengthAdjust=\"spacingAndGlyphs\" textLength=\"8\" x=\"114.1561\" y=\"136.8492\">1</text></a><!--MD5=[0517f1ce58c4d5483948f93845c45e26]\n",
       "link E11 to E3--><a href=\"psysml:92dee77c-180b-445a-a05e-737a71661cde\" target=\"_top\" title=\"psysml:92dee77c-180b-445a-a05e-737a71661cde\" xlink:actuate=\"onRequest\" xlink:href=\"psysml:92dee77c-180b-445a-a05e-737a71661cde\" xlink:show=\"new\" xlink:title=\"psysml:92dee77c-180b-445a-a05e-737a71661cde\" xlink:type=\"simple\"><path d=\"M132,194.01 C132,205.69 132,220.46 132,234.28 \" fill=\"none\" id=\"E11-&gt;E3\" style=\"stroke: #383838; stroke-width: 1.0;\"/><polygon fill=\"#FFFFFF\" points=\"132,254.66,125,235.66,139,235.66,132,254.66\" style=\"stroke: #383838; stroke-width: 1.0;\"/><ellipse cx=\"127\" cy=\"229.96\" fill=\"#383838\" rx=\"2\" ry=\"2\" style=\"stroke: #383838; stroke-width: 1.0;\"/><ellipse cx=\"137\" cy=\"229.96\" fill=\"#383838\" rx=\"2\" ry=\"2\" style=\"stroke: #383838; stroke-width: 1.0;\"/></a><!--MD5=[50e554f60f8d3d8e6dccda5d38cad7d7]\n",
       "@startuml\r\n",
       " skinparam monochrome true\r\n",
       "skinparam classbackgroundcolor white\r\n",
       "skinparam shadowing false\r\n",
       "skinparam wrapWidth 300\r\n",
       "hide circle\r\n",
       "\r\n",
       "package \"ItemTest\" as E1  [[psysml:8469bc55-64be-4e75-90cd-bb271a7bb256 ]]  {\r\n",
       "comp usage \"f: A \" as E2  <<(T,blue) item>> [[psysml:6cbf61b0-82f0-477a-9e61-503ee7ef8ab3 ]] {\r\n",
       "}\r\n",
       "comp def \"A\" as E3  <<(T,blue) item  def>> [[psysml:73e4759d-5191-4c8c-b634-f2bc1b43e3a3 ]] {\r\n",
       "}\r\n",
       "comp usage \"b: B \" as E4  <<(T,blue) item>> [[psysml:22dedc78-8a6f-47e7-a1b3-f5299f454177 ]] {\r\n",
       "}\r\n",
       "comp usage \"c: C \" as E5  <<(T,blue) part>> [[psysml:d5b518cb-4e9d-48f6-86e4-811292cf7103 ]] {\r\n",
       "}\r\n",
       "comp def \"<i>B</i>\" as E6  <<(T,blue) item  def>> [[psysml:7fb13a86-95b9-42ac-ac4a-d3cbb2045ff7 ]] {\r\n",
       "}\r\n",
       "comp usage \"<i>a</i>: A \" as E7  <<(T,blue) part>> [[psysml:b4d408e4-c35f-4021-90a0-c54c4c634ca8 ]] {\r\n",
       "}\r\n",
       "comp def \"C\" as E8  <<(T,blue) part  def>> [[psysml:53104107-4f2e-4822-81be-c90629c3152e ]] {\r\n",
       "}\r\n",
       "comp def \"P\" as E9  <<(T,blue) port  def>> [[psysml:96c92d64-4061-42f0-9733-a4ee9bfee5f1 ]] {\r\n",
       "}\r\n",
       "comp usage \"a1: A \" as E10  <<(T,blue) item>> [[psysml:21151bb4-f160-49b9-964a-222b3c2d7b6c ]] {\r\n",
       "}\r\n",
       "comp usage \"a2: A \" as E11  <<(T,blue) item>> [[psysml:048eeab4-ab84-4a9d-8dc8-2b5e8335cff3 ]] {\r\n",
       "}\r\n",
       "}\r\n",
       "E2 - -:|> E3 [[psysml:e70b16f9-62c0-40f3-a087-aa973c352c22 ]] \r\n",
       "E3 *- - \"1\"E4 [[psysml:f5164247-58fc-45c1-bba3-2edebb195fbd ]] \r\n",
       "E3 o- - \"1\"E5 [[psysml:0e10322d-8096-4d1c-ad13-bcf359abd35a ]] \r\n",
       "E4 - -:|> E6 [[psysml:cd799d59-974c-4cd5-b2a4-5d2e853ea550 ]] \r\n",
       "E6 *- - \"1\"E7 [[psysml:f66c29ee-70ba-402f-a3a4-159df7b46130 ]] \r\n",
       "E7 - -:|> E3 [[psysml:4b14459c-c0ea-47eb-ae95-5bdd156140b8 ]] \r\n",
       "E5 - -:|> E8 [[psysml:7f99918d-ef62-497c-9b9a-668f89d0bef4 ]] \r\n",
       "E8 o- - E3 [[psysml:8abdebaf-64f0-40cf-a780-4a21932975d8 ]] : y\r\n",
       "E8 o- - E6 [[psysml:8abdebaf-64f0-40cf-a780-4a21932975d8 ]] : y\r\n",
       "E9 o- - \"1\"E10 [[psysml:4b97f70b-21b5-47d0-9b80-bf68f1206e68 ]] \r\n",
       "E10 - -:|> E3 [[psysml:890b43d2-a44a-4df9-b863-0c7f323950a1 ]] \r\n",
       "E9 o- - \"1\"E11 [[psysml:75cdd26f-47cf-45db-b14e-ba01ceb3edc6 ]] \r\n",
       "E11 - -:|> E3 [[psysml:92dee77c-180b-445a-a05e-737a71661cde ]] \r\n",
       "@enduml\r\n",
       "\n",
       "PlantUML version 1.2020.13(Sat Jun 13 12:26:38 UTC 2020)\n",
       "(EPL source distribution)\n",
       "Java Runtime: OpenJDK Runtime Environment\n",
       "JVM: OpenJDK 64-Bit Server VM\n",
       "Default Encoding: UTF-8\n",
       "Language: en\n",
       "Country: null\n",
       "--></g></svg>"
      ]
     },
     "execution_count": 3,
     "metadata": {},
     "output_type": "execute_result"
    }
   ],
   "source": [
    "%viz --style=\"COMPTREE\" --view=\"Tree\" \"ItemTest\""
   ]
  },
  {
   "cell_type": "code",
   "execution_count": 4,
   "id": "0c5b7399",
   "metadata": {
    "execution": {
     "iopub.execute_input": "2022-03-21T07:49:08.902926Z",
     "iopub.status.busy": "2022-03-21T07:49:08.902446Z",
     "iopub.status.idle": "2022-03-21T07:49:08.908260Z",
     "shell.execute_reply": "2022-03-21T07:49:08.908590Z"
    }
   },
   "outputs": [
    {
     "data": {
      "image/svg+xml": [
       "<?xml version=\"1.0\" encoding=\"UTF-8\" standalone=\"no\"?><svg xmlns=\"http://www.w3.org/2000/svg\" xmlns:xlink=\"http://www.w3.org/1999/xlink\" contentScriptType=\"application/ecmascript\" contentStyleType=\"text/css\" height=\"12px\" preserveAspectRatio=\"none\" style=\"width:12px;height:12px;\" version=\"1.1\" viewBox=\"0 0 12 12\" width=\"12px\" zoomAndPan=\"magnify\"><defs/><g><!--MD5=[f19188ef49e11757b5c46753f95d9edc]\n",
       "@startuml\r\n",
       " skinparam monochrome true\r\n",
       "skinparam classbackgroundcolor white\r\n",
       "skinparam shadowing false\r\n",
       "skinparam wrapWidth 300\r\n",
       "hide circle\r\n",
       "\r\n",
       "@enduml\r\n",
       "\n",
       "PlantUML version 1.2020.13(Sat Jun 13 12:26:38 UTC 2020)\n",
       "(EPL source distribution)\n",
       "Java Runtime: OpenJDK Runtime Environment\n",
       "JVM: OpenJDK 64-Bit Server VM\n",
       "Default Encoding: UTF-8\n",
       "Language: en\n",
       "Country: null\n",
       "--></g></svg>"
      ]
     },
     "execution_count": 4,
     "metadata": {},
     "output_type": "execute_result"
    }
   ],
   "source": [
    "%viz --style=\"COMPTREE\" --view=\"State\" \"ItemTest\""
   ]
  },
  {
   "cell_type": "code",
   "execution_count": 5,
   "id": "f8bfd512",
   "metadata": {
    "execution": {
     "iopub.execute_input": "2022-03-21T07:49:08.958655Z",
     "iopub.status.busy": "2022-03-21T07:49:08.958228Z",
     "iopub.status.idle": "2022-03-21T07:49:08.995183Z",
     "shell.execute_reply": "2022-03-21T07:49:08.995524Z"
    }
   },
   "outputs": [
    {
     "data": {
      "image/svg+xml": [
       "<?xml version=\"1.0\" encoding=\"UTF-8\" standalone=\"no\"?><svg xmlns=\"http://www.w3.org/2000/svg\" xmlns:xlink=\"http://www.w3.org/1999/xlink\" contentScriptType=\"application/ecmascript\" contentStyleType=\"text/css\" height=\"112px\" preserveAspectRatio=\"none\" style=\"width:563px;height:112px;\" version=\"1.1\" viewBox=\"0 0 563 112\" width=\"563px\" zoomAndPan=\"magnify\"><defs/><g><!--MD5=[fbc87193dbaf4d95561dea2c320d4a47]\n",
       "cluster E1--><a href=\"psysml:8469bc55-64be-4e75-90cd-bb271a7bb256\" target=\"_top\" title=\"psysml:8469bc55-64be-4e75-90cd-bb271a7bb256\" xlink:actuate=\"onRequest\" xlink:href=\"psysml:8469bc55-64be-4e75-90cd-bb271a7bb256\" xlink:show=\"new\" xlink:title=\"psysml:8469bc55-64be-4e75-90cd-bb271a7bb256\" xlink:type=\"simple\"><polygon fill=\"#FFFFFF\" points=\"16,6,83,6,90,28.2969,541,28.2969,541,100,16,100,16,6\" style=\"stroke: #000000; stroke-width: 1.5;\"/><line style=\"stroke: #000000; stroke-width: 1.5;\" x1=\"16\" x2=\"90\" y1=\"28.2969\" y2=\"28.2969\"/><text fill=\"#000000\" font-family=\"sans-serif\" font-size=\"14\" font-weight=\"bold\" lengthAdjust=\"spacingAndGlyphs\" textLength=\"61\" x=\"20\" y=\"20.9951\">ItemTest</text></a><g id=\"E1.E3\"><a href=\"psysml:73e4759d-5191-4c8c-b634-f2bc1b43e3a3\" target=\"_top\" title=\"psysml:73e4759d-5191-4c8c-b634-f2bc1b43e3a3\" xlink:actuate=\"onRequest\" xlink:href=\"psysml:73e4759d-5191-4c8c-b634-f2bc1b43e3a3\" xlink:show=\"new\" xlink:title=\"psysml:73e4759d-5191-4c8c-b634-f2bc1b43e3a3\" xlink:type=\"simple\"><rect fill=\"#FFFFFF\" height=\"42.9375\" id=\"E3\" style=\"stroke: #383838; stroke-width: 1.5;\" width=\"76\" x=\"449\" y=\"41\"/><rect fill=\"#F8F8F8\" height=\"37.9375\" style=\"stroke: #383838; stroke-width: 1.5;\" width=\"76\" x=\"449\" y=\"41\"/><text fill=\"#000000\" font-family=\"sans-serif\" font-size=\"12\" font-style=\"italic\" lengthAdjust=\"spacingAndGlyphs\" textLength=\"69\" x=\"452.5\" y=\"57.1387\">«item  def»</text><text fill=\"#000000\" font-family=\"sans-serif\" font-size=\"12\" lengthAdjust=\"spacingAndGlyphs\" textLength=\"8\" x=\"483\" y=\"71.1074\">A</text></a></g><g id=\"E1.E4\"><a href=\"psysml:7fb13a86-95b9-42ac-ac4a-d3cbb2045ff7\" target=\"_top\" title=\"psysml:7fb13a86-95b9-42ac-ac4a-d3cbb2045ff7\" xlink:actuate=\"onRequest\" xlink:href=\"psysml:7fb13a86-95b9-42ac-ac4a-d3cbb2045ff7\" xlink:show=\"new\" xlink:title=\"psysml:7fb13a86-95b9-42ac-ac4a-d3cbb2045ff7\" xlink:type=\"simple\"><rect fill=\"#FFFFFF\" height=\"42.9375\" id=\"E4\" style=\"stroke: #383838; stroke-width: 1.5;\" width=\"76\" x=\"338\" y=\"41\"/><rect fill=\"#F8F8F8\" height=\"37.9375\" style=\"stroke: #383838; stroke-width: 1.5;\" width=\"76\" x=\"338\" y=\"41\"/><text fill=\"#000000\" font-family=\"sans-serif\" font-size=\"12\" font-style=\"italic\" lengthAdjust=\"spacingAndGlyphs\" textLength=\"69\" x=\"341.5\" y=\"57.1387\">«item  def»</text><text fill=\"#000000\" font-family=\"sans-serif\" font-size=\"12\" font-style=\"italic\" lengthAdjust=\"spacingAndGlyphs\" textLength=\"8\" x=\"372\" y=\"71.1074\">B</text></a></g><g id=\"E1.E6\"><a href=\"psysml:96c92d64-4061-42f0-9733-a4ee9bfee5f1\" target=\"_top\" title=\"psysml:96c92d64-4061-42f0-9733-a4ee9bfee5f1\" xlink:actuate=\"onRequest\" xlink:href=\"psysml:96c92d64-4061-42f0-9733-a4ee9bfee5f1\" xlink:show=\"new\" xlink:title=\"psysml:96c92d64-4061-42f0-9733-a4ee9bfee5f1\" xlink:type=\"simple\"><rect fill=\"#FFFFFF\" height=\"42.9375\" id=\"E6\" style=\"stroke: #383838; stroke-width: 1.5;\" width=\"75\" x=\"227.5\" y=\"41\"/><rect fill=\"#F8F8F8\" height=\"37.9375\" style=\"stroke: #383838; stroke-width: 1.5;\" width=\"75\" x=\"227.5\" y=\"41\"/><text fill=\"#000000\" font-family=\"sans-serif\" font-size=\"12\" font-style=\"italic\" lengthAdjust=\"spacingAndGlyphs\" textLength=\"68\" x=\"231\" y=\"57.1387\">«port  def»</text><text fill=\"#000000\" font-family=\"sans-serif\" font-size=\"12\" lengthAdjust=\"spacingAndGlyphs\" textLength=\"8\" x=\"261\" y=\"71.1074\">P</text></a></g><g id=\"E1.E2\"><a href=\"psysml:6cbf61b0-82f0-477a-9e61-503ee7ef8ab3\" target=\"_top\" title=\"psysml:6cbf61b0-82f0-477a-9e61-503ee7ef8ab3\" xlink:actuate=\"onRequest\" xlink:href=\"psysml:6cbf61b0-82f0-477a-9e61-503ee7ef8ab3\" xlink:show=\"new\" xlink:title=\"psysml:6cbf61b0-82f0-477a-9e61-503ee7ef8ab3\" xlink:type=\"simple\"><rect fill=\"#FFFFFF\" height=\"42.9375\" id=\"E2\" rx=\"10\" ry=\"10\" style=\"stroke: #383838; stroke-width: 1.5;\" width=\"50\" x=\"142\" y=\"41\"/><rect fill=\"#F8F8F8\" height=\"37.9375\" rx=\"10\" ry=\"10\" style=\"stroke: #F8F8F8; stroke-width: 1.5;\" width=\"50\" x=\"142\" y=\"41\"/><rect fill=\"#F8F8F8\" height=\"10\" style=\"stroke: #F8F8F8; stroke-width: 1.5;\" width=\"50\" x=\"142\" y=\"68.9375\"/><rect fill=\"none\" height=\"42.9375\" id=\"E2\" rx=\"10\" ry=\"10\" style=\"stroke: #383838; stroke-width: 1.5;\" width=\"50\" x=\"142\" y=\"41\"/><text fill=\"#000000\" font-family=\"sans-serif\" font-size=\"12\" font-style=\"italic\" lengthAdjust=\"spacingAndGlyphs\" textLength=\"41\" x=\"146.5\" y=\"57.1387\">«item»</text><text fill=\"#000000\" font-family=\"sans-serif\" font-size=\"12\" lengthAdjust=\"spacingAndGlyphs\" textLength=\"20\" x=\"157\" y=\"71.1074\">f: A</text></a></g><g id=\"E1.E5\"><a href=\"psysml:53104107-4f2e-4822-81be-c90629c3152e\" target=\"_top\" title=\"psysml:53104107-4f2e-4822-81be-c90629c3152e\" xlink:actuate=\"onRequest\" xlink:href=\"psysml:53104107-4f2e-4822-81be-c90629c3152e\" xlink:show=\"new\" xlink:title=\"psysml:53104107-4f2e-4822-81be-c90629c3152e\" xlink:type=\"simple\"><rect fill=\"#FFFFFF\" height=\"42.9375\" id=\"E5\" style=\"stroke: #383838; stroke-width: 1.5;\" width=\"75\" x=\"31.5\" y=\"41\"/><rect fill=\"#F8F8F8\" height=\"37.9375\" style=\"stroke: #383838; stroke-width: 1.5;\" width=\"75\" x=\"31.5\" y=\"41\"/><text fill=\"#000000\" font-family=\"sans-serif\" font-size=\"12\" font-style=\"italic\" lengthAdjust=\"spacingAndGlyphs\" textLength=\"68\" x=\"35\" y=\"57.1387\">«part  def»</text><text fill=\"#000000\" font-family=\"sans-serif\" font-size=\"12\" lengthAdjust=\"spacingAndGlyphs\" textLength=\"8\" x=\"65\" y=\"71.1074\">C</text></a></g><!--MD5=[f6b410a31b0ab407158d81cedc17121f]\n",
       "@startuml\r\n",
       "skinparam ranksep 10\r\n",
       "skinparam rectangle {\r\n",
       " backgroundColor<<block>> LightGreen\r\n",
       "}\r\n",
       " skinparam monochrome true\r\n",
       "skinparam classbackgroundcolor white\r\n",
       "skinparam shadowing false\r\n",
       "skinparam wrapWidth 300\r\n",
       "hide circle\r\n",
       "\r\n",
       "package \"ItemTest\" as E1  [[psysml:8469bc55-64be-4e75-90cd-bb271a7bb256 ]]  {\r\n",
       "rec usage \"f: A\" as E2  <<(T,blue) item>> [[psysml:6cbf61b0-82f0-477a-9e61-503ee7ef8ab3 ]] {\r\n",
       "}\r\n",
       "def \"A\" as E3  <<(T,blue) item  def>> [[psysml:73e4759d-5191-4c8c-b634-f2bc1b43e3a3 ]] \r\n",
       "def \"<i>B</i>\" as E4  <<(T,blue) item  def>> [[psysml:7fb13a86-95b9-42ac-ac4a-d3cbb2045ff7 ]] \r\n",
       "rec def \"C\" as E5  <<(T,blue) part  def>> [[psysml:53104107-4f2e-4822-81be-c90629c3152e ]] {\r\n",
       "}\r\n",
       "def \"P\" as E6  <<(T,blue) port  def>> [[psysml:96c92d64-4061-42f0-9733-a4ee9bfee5f1 ]] \r\n",
       "}\r\n",
       "@enduml\r\n",
       "\n",
       "PlantUML version 1.2020.13(Sat Jun 13 12:26:38 UTC 2020)\n",
       "(EPL source distribution)\n",
       "Java Runtime: OpenJDK Runtime Environment\n",
       "JVM: OpenJDK 64-Bit Server VM\n",
       "Default Encoding: UTF-8\n",
       "Language: en\n",
       "Country: null\n",
       "--></g></svg>"
      ]
     },
     "execution_count": 5,
     "metadata": {},
     "output_type": "execute_result"
    }
   ],
   "source": [
    "%viz --style=\"COMPTREE\" --view=\"Interconnection\" \"ItemTest\""
   ]
  },
  {
   "cell_type": "code",
   "execution_count": 6,
   "id": "eb9c9aa4",
   "metadata": {
    "execution": {
     "iopub.execute_input": "2022-03-21T07:49:09.045537Z",
     "iopub.status.busy": "2022-03-21T07:49:09.045091Z",
     "iopub.status.idle": "2022-03-21T07:49:09.052054Z",
     "shell.execute_reply": "2022-03-21T07:49:09.052393Z"
    }
   },
   "outputs": [
    {
     "data": {
      "image/svg+xml": [
       "<?xml version=\"1.0\" encoding=\"UTF-8\" standalone=\"no\"?><svg xmlns=\"http://www.w3.org/2000/svg\" xmlns:xlink=\"http://www.w3.org/1999/xlink\" contentScriptType=\"application/ecmascript\" contentStyleType=\"text/css\" height=\"12px\" preserveAspectRatio=\"none\" style=\"width:12px;height:12px;\" version=\"1.1\" viewBox=\"0 0 12 12\" width=\"12px\" zoomAndPan=\"magnify\"><defs/><g><!--MD5=[655b888544ca4751ea36af1068543f84]\n",
       "@startuml\r\n",
       "skinparam ranksep 8\r\n",
       " skinparam monochrome true\r\n",
       "skinparam classbackgroundcolor white\r\n",
       "skinparam shadowing false\r\n",
       "skinparam wrapWidth 300\r\n",
       "hide circle\r\n",
       "\r\n",
       "@enduml\r\n",
       "\n",
       "PlantUML version 1.2020.13(Sat Jun 13 12:26:38 UTC 2020)\n",
       "(EPL source distribution)\n",
       "Java Runtime: OpenJDK Runtime Environment\n",
       "JVM: OpenJDK 64-Bit Server VM\n",
       "Default Encoding: UTF-8\n",
       "Language: en\n",
       "Country: null\n",
       "--></g></svg>"
      ]
     },
     "execution_count": 6,
     "metadata": {},
     "output_type": "execute_result"
    }
   ],
   "source": [
    "%viz --style=\"COMPTREE\" --view=\"Action\" \"ItemTest\""
   ]
  },
  {
   "cell_type": "code",
   "execution_count": 7,
   "id": "be55a67f",
   "metadata": {
    "execution": {
     "iopub.execute_input": "2022-03-21T07:49:09.102759Z",
     "iopub.status.busy": "2022-03-21T07:49:09.102328Z",
     "iopub.status.idle": "2022-03-21T07:49:09.115204Z",
     "shell.execute_reply": "2022-03-21T07:49:09.115535Z"
    }
   },
   "outputs": [
    {
     "data": {
      "image/svg+xml": [
       "<?xml version=\"1.0\" encoding=\"UTF-8\" standalone=\"no\"?><svg xmlns=\"http://www.w3.org/2000/svg\" xmlns:xlink=\"http://www.w3.org/1999/xlink\" contentScriptType=\"application/ecmascript\" contentStyleType=\"text/css\" height=\"12px\" preserveAspectRatio=\"none\" style=\"width:12px;height:12px;\" version=\"1.1\" viewBox=\"0 0 12 12\" width=\"12px\" zoomAndPan=\"magnify\"><defs/><g><!--MD5=[803fc46c337be7a5c8a9831e35356779]\n",
       "@startuml\r\n",
       "skinparam roundcorner 20\r\n",
       "skinparam BoxPadding 20\r\n",
       "skinparam SequenceBoxBackgroundColor #white\r\n",
       "skinparam style strictuml\r\n",
       "skinparam maxMessageSize 100\r\n",
       " skinparam monochrome true\r\n",
       "skinparam classbackgroundcolor white\r\n",
       "skinparam shadowing false\r\n",
       "skinparam wrapWidth 300\r\n",
       "hide circle\r\n",
       "\r\n",
       "@enduml\r\n",
       "\n",
       "PlantUML version 1.2020.13(Sat Jun 13 12:26:38 UTC 2020)\n",
       "(EPL source distribution)\n",
       "Java Runtime: OpenJDK Runtime Environment\n",
       "JVM: OpenJDK 64-Bit Server VM\n",
       "Default Encoding: UTF-8\n",
       "Language: en\n",
       "Country: null\n",
       "--></g></svg>"
      ]
     },
     "execution_count": 7,
     "metadata": {},
     "output_type": "execute_result"
    }
   ],
   "source": [
    "%viz --style=\"COMPTREE\" --view=\"Sequence\" \"ItemTest\""
   ]
  },
  {
   "cell_type": "code",
   "execution_count": 8,
   "id": "386f6d8d",
   "metadata": {
    "execution": {
     "iopub.execute_input": "2022-03-21T07:49:09.166094Z",
     "iopub.status.busy": "2022-03-21T07:49:09.165674Z",
     "iopub.status.idle": "2022-03-21T07:49:09.226930Z",
     "shell.execute_reply": "2022-03-21T07:49:09.225725Z"
    }
   },
   "outputs": [
    {
     "data": {
      "image/svg+xml": [
       "<?xml version=\"1.0\" encoding=\"UTF-8\" standalone=\"no\"?><svg xmlns=\"http://www.w3.org/2000/svg\" xmlns:xlink=\"http://www.w3.org/1999/xlink\" contentScriptType=\"application/ecmascript\" contentStyleType=\"text/css\" height=\"818px\" preserveAspectRatio=\"none\" style=\"width:270px;height:818px;\" version=\"1.1\" viewBox=\"0 0 270 818\" width=\"270px\" zoomAndPan=\"magnify\"><defs/><g><!--MD5=[fbc87193dbaf4d95561dea2c320d4a47]\n",
       "cluster E1--><a href=\"psysml:8469bc55-64be-4e75-90cd-bb271a7bb256\" target=\"_top\" title=\"psysml:8469bc55-64be-4e75-90cd-bb271a7bb256\" xlink:actuate=\"onRequest\" xlink:href=\"psysml:8469bc55-64be-4e75-90cd-bb271a7bb256\" xlink:show=\"new\" xlink:title=\"psysml:8469bc55-64be-4e75-90cd-bb271a7bb256\" xlink:type=\"simple\"><polygon fill=\"#FFFFFF\" points=\"16,6,83,6,90,28.2969,248,28.2969,248,806,16,806,16,6\" style=\"stroke: #000000; stroke-width: 1.5;\"/><line style=\"stroke: #000000; stroke-width: 1.5;\" x1=\"16\" x2=\"90\" y1=\"28.2969\" y2=\"28.2969\"/><text fill=\"#000000\" font-family=\"sans-serif\" font-size=\"14\" font-weight=\"bold\" lengthAdjust=\"spacingAndGlyphs\" textLength=\"61\" x=\"20\" y=\"20.9951\">ItemTest</text></a><!--MD5=[b4997ac47864f28c2f74865a473b2911]\n",
       "class E2--><a href=\"psysml:6cbf61b0-82f0-477a-9e61-503ee7ef8ab3\" target=\"_top\" title=\"psysml:6cbf61b0-82f0-477a-9e61-503ee7ef8ab3\" xlink:actuate=\"onRequest\" xlink:href=\"psysml:6cbf61b0-82f0-477a-9e61-503ee7ef8ab3\" xlink:show=\"new\" xlink:title=\"psysml:6cbf61b0-82f0-477a-9e61-503ee7ef8ab3\" xlink:type=\"simple\"><rect fill=\"#FFFFFF\" height=\"45.9375\" id=\"E2\" rx=\"10\" ry=\"10\" style=\"stroke: #383838; stroke-width: 1.5;\" width=\"43\" x=\"188.5\" y=\"148\"/><text fill=\"#000000\" font-family=\"sans-serif\" font-size=\"12\" font-style=\"italic\" lengthAdjust=\"spacingAndGlyphs\" textLength=\"41\" x=\"189.5\" y=\"164.1387\">«item»</text><text fill=\"#000000\" font-family=\"sans-serif\" font-size=\"12\" lengthAdjust=\"spacingAndGlyphs\" textLength=\"20\" x=\"198\" y=\"178.1074\">f: A</text><line style=\"stroke: #383838; stroke-width: 1.5;\" x1=\"189.5\" x2=\"230.5\" y1=\"185.9375\" y2=\"185.9375\"/></a><!--MD5=[09b614a08d8cba4a07c9adeb5e0fee81]\n",
       "class E3--><a href=\"psysml:73e4759d-5191-4c8c-b634-f2bc1b43e3a3\" target=\"_top\" title=\"psysml:73e4759d-5191-4c8c-b634-f2bc1b43e3a3\" xlink:actuate=\"onRequest\" xlink:href=\"psysml:73e4759d-5191-4c8c-b634-f2bc1b43e3a3\" xlink:show=\"new\" xlink:title=\"psysml:73e4759d-5191-4c8c-b634-f2bc1b43e3a3\" xlink:type=\"simple\"><rect fill=\"#FFFFFF\" height=\"45.9375\" id=\"E3\" style=\"stroke: #383838; stroke-width: 1.5;\" width=\"71\" x=\"96.5\" y=\"255\"/><text fill=\"#000000\" font-family=\"sans-serif\" font-size=\"12\" font-style=\"italic\" lengthAdjust=\"spacingAndGlyphs\" textLength=\"69\" x=\"97.5\" y=\"271.1387\">«item  def»</text><text fill=\"#000000\" font-family=\"sans-serif\" font-size=\"12\" lengthAdjust=\"spacingAndGlyphs\" textLength=\"8\" x=\"128\" y=\"285.1074\">A</text><line style=\"stroke: #383838; stroke-width: 1.5;\" x1=\"97.5\" x2=\"166.5\" y1=\"292.9375\" y2=\"292.9375\"/></a><!--MD5=[ebbe1d658d1005bcc118a6aa81145e00]\n",
       "class E4--><a href=\"psysml:22dedc78-8a6f-47e7-a1b3-f5299f454177\" target=\"_top\" title=\"psysml:22dedc78-8a6f-47e7-a1b3-f5299f454177\" xlink:actuate=\"onRequest\" xlink:href=\"psysml:22dedc78-8a6f-47e7-a1b3-f5299f454177\" xlink:show=\"new\" xlink:title=\"psysml:22dedc78-8a6f-47e7-a1b3-f5299f454177\" xlink:type=\"simple\"><rect fill=\"#FFFFFF\" height=\"45.9375\" id=\"E4\" rx=\"10\" ry=\"10\" style=\"stroke: #383838; stroke-width: 1.5;\" width=\"43\" x=\"45.5\" y=\"438\"/><text fill=\"#000000\" font-family=\"sans-serif\" font-size=\"12\" font-style=\"italic\" lengthAdjust=\"spacingAndGlyphs\" textLength=\"41\" x=\"46.5\" y=\"454.1387\">«item»</text><text fill=\"#000000\" font-family=\"sans-serif\" font-size=\"12\" lengthAdjust=\"spacingAndGlyphs\" textLength=\"24\" x=\"53\" y=\"468.1074\">b: B</text><line style=\"stroke: #383838; stroke-width: 1.5;\" x1=\"46.5\" x2=\"87.5\" y1=\"475.9375\" y2=\"475.9375\"/></a><!--MD5=[270fce915f116d4de14055a7c1d9a0f3]\n",
       "class E5--><a href=\"psysml:d5b518cb-4e9d-48f6-86e4-811292cf7103\" target=\"_top\" title=\"psysml:d5b518cb-4e9d-48f6-86e4-811292cf7103\" xlink:actuate=\"onRequest\" xlink:href=\"psysml:d5b518cb-4e9d-48f6-86e4-811292cf7103\" xlink:show=\"new\" xlink:title=\"psysml:d5b518cb-4e9d-48f6-86e4-811292cf7103\" xlink:type=\"simple\"><rect fill=\"#FFFFFF\" height=\"45.9375\" id=\"E5\" rx=\"10\" ry=\"10\" style=\"stroke: #383838; stroke-width: 1.5;\" width=\"42\" x=\"151\" y=\"362\"/><text fill=\"#000000\" font-family=\"sans-serif\" font-size=\"12\" font-style=\"italic\" lengthAdjust=\"spacingAndGlyphs\" textLength=\"40\" x=\"152\" y=\"378.1387\">«part»</text><text fill=\"#000000\" font-family=\"sans-serif\" font-size=\"12\" lengthAdjust=\"spacingAndGlyphs\" textLength=\"23\" x=\"158.5\" y=\"392.1074\">c: C</text><line style=\"stroke: #383838; stroke-width: 1.5;\" x1=\"152\" x2=\"192\" y1=\"399.9375\" y2=\"399.9375\"/></a><!--MD5=[60a26617385b1d2d0262a64233df1f8d]\n",
       "class E6--><a href=\"psysml:7fb13a86-95b9-42ac-ac4a-d3cbb2045ff7\" target=\"_top\" title=\"psysml:7fb13a86-95b9-42ac-ac4a-d3cbb2045ff7\" xlink:actuate=\"onRequest\" xlink:href=\"psysml:7fb13a86-95b9-42ac-ac4a-d3cbb2045ff7\" xlink:show=\"new\" xlink:title=\"psysml:7fb13a86-95b9-42ac-ac4a-d3cbb2045ff7\" xlink:type=\"simple\"><rect fill=\"#FFFFFF\" height=\"45.9375\" id=\"E6\" style=\"stroke: #383838; stroke-width: 1.5;\" width=\"71\" x=\"112.5\" y=\"637\"/><text fill=\"#000000\" font-family=\"sans-serif\" font-size=\"12\" font-style=\"italic\" lengthAdjust=\"spacingAndGlyphs\" textLength=\"69\" x=\"113.5\" y=\"653.1387\">«item  def»</text><text fill=\"#000000\" font-family=\"sans-serif\" font-size=\"12\" font-style=\"italic\" lengthAdjust=\"spacingAndGlyphs\" textLength=\"8\" x=\"144\" y=\"667.1074\">B</text><line style=\"stroke: #383838; stroke-width: 1.5;\" x1=\"113.5\" x2=\"182.5\" y1=\"674.9375\" y2=\"674.9375\"/></a><!--MD5=[2156ba9850f5573cc1fc38a6a4b2f02b]\n",
       "class E7--><a href=\"psysml:b4d408e4-c35f-4021-90a0-c54c4c634ca8\" target=\"_top\" title=\"psysml:b4d408e4-c35f-4021-90a0-c54c4c634ca8\" xlink:actuate=\"onRequest\" xlink:href=\"psysml:b4d408e4-c35f-4021-90a0-c54c4c634ca8\" xlink:show=\"new\" xlink:title=\"psysml:b4d408e4-c35f-4021-90a0-c54c4c634ca8\" xlink:type=\"simple\"><rect fill=\"#FFFFFF\" height=\"45.9375\" id=\"E7\" rx=\"10\" ry=\"10\" style=\"stroke: #383838; stroke-width: 1.5;\" width=\"42\" x=\"159\" y=\"744\"/><text fill=\"#000000\" font-family=\"sans-serif\" font-size=\"12\" font-style=\"italic\" lengthAdjust=\"spacingAndGlyphs\" textLength=\"40\" x=\"160\" y=\"760.1387\">«part»</text><text fill=\"#000000\" font-family=\"sans-serif\" font-size=\"12\" font-style=\"italic\" lengthAdjust=\"spacingAndGlyphs\" textLength=\"8\" x=\"166\" y=\"774.1074\">a</text><text fill=\"#000000\" font-family=\"sans-serif\" font-size=\"12\" lengthAdjust=\"spacingAndGlyphs\" textLength=\"16\" x=\"174\" y=\"774.1074\">: A</text><line style=\"stroke: #383838; stroke-width: 1.5;\" x1=\"160\" x2=\"200\" y1=\"781.9375\" y2=\"781.9375\"/></a><!--MD5=[b9389687b975829384b498ac4b7476b2]\n",
       "class E8--><a href=\"psysml:53104107-4f2e-4822-81be-c90629c3152e\" target=\"_top\" title=\"psysml:53104107-4f2e-4822-81be-c90629c3152e\" xlink:actuate=\"onRequest\" xlink:href=\"psysml:53104107-4f2e-4822-81be-c90629c3152e\" xlink:show=\"new\" xlink:title=\"psysml:53104107-4f2e-4822-81be-c90629c3152e\" xlink:type=\"simple\"><rect fill=\"#FFFFFF\" height=\"45.9375\" id=\"E8\" style=\"stroke: #383838; stroke-width: 1.5;\" width=\"70\" x=\"113\" y=\"514\"/><text fill=\"#000000\" font-family=\"sans-serif\" font-size=\"12\" font-style=\"italic\" lengthAdjust=\"spacingAndGlyphs\" textLength=\"68\" x=\"114\" y=\"530.1387\">«part  def»</text><text fill=\"#000000\" font-family=\"sans-serif\" font-size=\"12\" lengthAdjust=\"spacingAndGlyphs\" textLength=\"8\" x=\"144\" y=\"544.1074\">C</text><line style=\"stroke: #383838; stroke-width: 1.5;\" x1=\"114\" x2=\"182\" y1=\"551.9375\" y2=\"551.9375\"/></a><!--MD5=[fd4143e9d270a159db93a4ea2a975926]\n",
       "class E9--><a href=\"psysml:96c92d64-4061-42f0-9733-a4ee9bfee5f1\" target=\"_top\" title=\"psysml:96c92d64-4061-42f0-9733-a4ee9bfee5f1\" xlink:actuate=\"onRequest\" xlink:href=\"psysml:96c92d64-4061-42f0-9733-a4ee9bfee5f1\" xlink:show=\"new\" xlink:title=\"psysml:96c92d64-4061-42f0-9733-a4ee9bfee5f1\" xlink:type=\"simple\"><rect fill=\"#FFFFFF\" height=\"45.9375\" id=\"E9\" style=\"stroke: #383838; stroke-width: 1.5;\" width=\"70\" x=\"64\" y=\"41\"/><text fill=\"#000000\" font-family=\"sans-serif\" font-size=\"12\" font-style=\"italic\" lengthAdjust=\"spacingAndGlyphs\" textLength=\"68\" x=\"65\" y=\"57.1387\">«port  def»</text><text fill=\"#000000\" font-family=\"sans-serif\" font-size=\"12\" lengthAdjust=\"spacingAndGlyphs\" textLength=\"8\" x=\"95\" y=\"71.1074\">P</text><line style=\"stroke: #383838; stroke-width: 1.5;\" x1=\"65\" x2=\"133\" y1=\"78.9375\" y2=\"78.9375\"/></a><!--MD5=[96f4274e9e20536e775497830990834d]\n",
       "class E10--><a href=\"psysml:21151bb4-f160-49b9-964a-222b3c2d7b6c\" target=\"_top\" title=\"psysml:21151bb4-f160-49b9-964a-222b3c2d7b6c\" xlink:actuate=\"onRequest\" xlink:href=\"psysml:21151bb4-f160-49b9-964a-222b3c2d7b6c\" xlink:show=\"new\" xlink:title=\"psysml:21151bb4-f160-49b9-964a-222b3c2d7b6c\" xlink:type=\"simple\"><rect fill=\"#FFFFFF\" height=\"45.9375\" id=\"E10\" rx=\"10\" ry=\"10\" style=\"stroke: #383838; stroke-width: 1.5;\" width=\"43\" x=\"32.5\" y=\"148\"/><text fill=\"#000000\" font-family=\"sans-serif\" font-size=\"12\" font-style=\"italic\" lengthAdjust=\"spacingAndGlyphs\" textLength=\"41\" x=\"33.5\" y=\"164.1387\">«item»</text><text fill=\"#000000\" font-family=\"sans-serif\" font-size=\"12\" lengthAdjust=\"spacingAndGlyphs\" textLength=\"32\" x=\"36\" y=\"178.1074\">a1: A</text><line style=\"stroke: #383838; stroke-width: 1.5;\" x1=\"33.5\" x2=\"74.5\" y1=\"185.9375\" y2=\"185.9375\"/></a><!--MD5=[1dd1bfd58a279cf63c5f349dbc8fc6a1]\n",
       "class E11--><a href=\"psysml:048eeab4-ab84-4a9d-8dc8-2b5e8335cff3\" target=\"_top\" title=\"psysml:048eeab4-ab84-4a9d-8dc8-2b5e8335cff3\" xlink:actuate=\"onRequest\" xlink:href=\"psysml:048eeab4-ab84-4a9d-8dc8-2b5e8335cff3\" xlink:show=\"new\" xlink:title=\"psysml:048eeab4-ab84-4a9d-8dc8-2b5e8335cff3\" xlink:type=\"simple\"><rect fill=\"#FFFFFF\" height=\"45.9375\" id=\"E11\" rx=\"10\" ry=\"10\" style=\"stroke: #383838; stroke-width: 1.5;\" width=\"43\" x=\"110.5\" y=\"148\"/><text fill=\"#000000\" font-family=\"sans-serif\" font-size=\"12\" font-style=\"italic\" lengthAdjust=\"spacingAndGlyphs\" textLength=\"41\" x=\"111.5\" y=\"164.1387\">«item»</text><text fill=\"#000000\" font-family=\"sans-serif\" font-size=\"12\" lengthAdjust=\"spacingAndGlyphs\" textLength=\"32\" x=\"114\" y=\"178.1074\">a2: A</text><line style=\"stroke: #383838; stroke-width: 1.5;\" x1=\"111.5\" x2=\"152.5\" y1=\"185.9375\" y2=\"185.9375\"/></a><!--MD5=[2720a5a1f2c3fca2055b230370638851]\n",
       "link E2 to E3--><a href=\"psysml:e70b16f9-62c0-40f3-a087-aa973c352c22\" target=\"_top\" title=\"psysml:e70b16f9-62c0-40f3-a087-aa973c352c22\" xlink:actuate=\"onRequest\" xlink:href=\"psysml:e70b16f9-62c0-40f3-a087-aa973c352c22\" xlink:show=\"new\" xlink:title=\"psysml:e70b16f9-62c0-40f3-a087-aa973c352c22\" xlink:type=\"simple\"><path d=\"M193.65,194.01 C184.14,206.81 171.89,223.3 160.82,238.2 \" fill=\"none\" id=\"E2-&gt;E3\" style=\"stroke: #383838; stroke-width: 1.0;\"/><polygon fill=\"#FFFFFF\" points=\"148.6,254.66,154.3195,235.2361,165.5543,243.5896,148.6,254.66\" style=\"stroke: #383838; stroke-width: 1.0;\"/><ellipse cx=\"159.3256\" cy=\"231.8554\" fill=\"#383838\" rx=\"2\" ry=\"2\" style=\"stroke: #383838; stroke-width: 1.0;\"/><ellipse cx=\"167.3504\" cy=\"237.8221\" fill=\"#383838\" rx=\"2\" ry=\"2\" style=\"stroke: #383838; stroke-width: 1.0;\"/></a><!--MD5=[4672eba38e49728da53d11aeb285b987]\n",
       "reverse link E3 to E4--><a href=\"psysml:f5164247-58fc-45c1-bba3-2edebb195fbd\" target=\"_top\" title=\"psysml:f5164247-58fc-45c1-bba3-2edebb195fbd\" xlink:actuate=\"onRequest\" xlink:href=\"psysml:f5164247-58fc-45c1-bba3-2edebb195fbd\" xlink:show=\"new\" xlink:title=\"psysml:f5164247-58fc-45c1-bba3-2edebb195fbd\" xlink:type=\"simple\"><path d=\"M97.11,310.9 C84.08,325.11 70.81,342.94 64,362 C55.12,386.85 58.09,417.53 61.82,437.88 \" fill=\"none\" id=\"E3&lt;-E4\" style=\"stroke: #383838; stroke-width: 1.0;\"/><polygon fill=\"#383838\" points=\"106.46,301.23,99.4153,302.7703,98.1277,309.8655,105.1724,308.3252,106.46,301.23\" style=\"stroke: #383838; stroke-width: 1.0;\"/><text fill=\"#000000\" font-family=\"sans-serif\" font-size=\"13\" lengthAdjust=\"spacingAndGlyphs\" textLength=\"8\" x=\"51.3529\" y=\"426.744\">1</text></a><!--MD5=[191cde3d490a3f6d7bb551fe3ddca469]\n",
       "reverse link E3 to E5--><a href=\"psysml:0e10322d-8096-4d1c-ad13-bcf359abd35a\" target=\"_top\" title=\"psysml:0e10322d-8096-4d1c-ad13-bcf359abd35a\" xlink:actuate=\"onRequest\" xlink:href=\"psysml:0e10322d-8096-4d1c-ad13-bcf359abd35a\" xlink:show=\"new\" xlink:title=\"psysml:0e10322d-8096-4d1c-ad13-bcf359abd35a\" xlink:type=\"simple\"><path d=\"M145.17,313.57 C151.2,329.39 158.16,347.68 163.49,361.66 \" fill=\"none\" id=\"E3&lt;-E5\" style=\"stroke: #383838; stroke-width: 1.0;\"/><polygon fill=\"#FFFFFF\" points=\"140.39,301.01,138.7866,308.0406,144.6598,312.2247,146.2631,305.1941,140.39,301.01\" style=\"stroke: #383838; stroke-width: 1.0;\"/><text fill=\"#000000\" font-family=\"sans-serif\" font-size=\"13\" lengthAdjust=\"spacingAndGlyphs\" textLength=\"8\" x=\"152.2843\" y=\"350.8492\">1</text></a><!--MD5=[79568f1e445c3877b6a54524624ccc7d]\n",
       "link E4 to E6--><a href=\"psysml:cd799d59-974c-4cd5-b2a4-5d2e853ea550\" target=\"_top\" title=\"psysml:cd799d59-974c-4cd5-b2a4-5d2e853ea550\" xlink:actuate=\"onRequest\" xlink:href=\"psysml:cd799d59-974c-4cd5-b2a4-5d2e853ea550\" xlink:show=\"new\" xlink:title=\"psysml:cd799d59-974c-4cd5-b2a4-5d2e853ea550\" xlink:type=\"simple\"><path d=\"M72.25,484.22 C77.31,504.36 85.72,534.68 96,560 C104.15,580.08 115.08,601.47 124.82,619.21 \" fill=\"none\" id=\"E4-&gt;E6\" style=\"stroke: #383838; stroke-width: 1.0;\"/><polygon fill=\"#FFFFFF\" points=\"134.72,636.8,119.2979,623.6791,131.4967,616.8097,134.72,636.8\" style=\"stroke: #383838; stroke-width: 1.0;\"/><ellipse cx=\"118.2438\" cy=\"617.7311\" fill=\"#383838\" rx=\"2\" ry=\"2\" style=\"stroke: #383838; stroke-width: 1.0;\"/><ellipse cx=\"126.9572\" cy=\"612.8244\" fill=\"#383838\" rx=\"2\" ry=\"2\" style=\"stroke: #383838; stroke-width: 1.0;\"/></a><!--MD5=[3f50a3473f1dfb74d3f76443e03635af]\n",
       "reverse link E6 to E7--><a href=\"psysml:f66c29ee-70ba-402f-a3a4-159df7b46130\" target=\"_top\" title=\"psysml:f66c29ee-70ba-402f-a3a4-159df7b46130\" xlink:actuate=\"onRequest\" xlink:href=\"psysml:f66c29ee-70ba-402f-a3a4-159df7b46130\" xlink:show=\"new\" xlink:title=\"psysml:f66c29ee-70ba-402f-a3a4-159df7b46130\" xlink:type=\"simple\"><path d=\"M158.54,695.57 C163.36,711.39 168.93,729.68 173.19,743.66 \" fill=\"none\" id=\"E6&lt;-E7\" style=\"stroke: #383838; stroke-width: 1.0;\"/><polygon fill=\"#383838\" points=\"154.71,683.01,152.6319,689.9152,158.2066,694.4893,160.2847,687.5841,154.71,683.01\" style=\"stroke: #383838; stroke-width: 1.0;\"/><text fill=\"#000000\" font-family=\"sans-serif\" font-size=\"13\" lengthAdjust=\"spacingAndGlyphs\" textLength=\"8\" x=\"162.4199\" y=\"732.8492\">1</text></a><!--MD5=[14ccda38c055a5c0da953d572bc50960]\n",
       "link E7 to E3--><a href=\"psysml:4b14459c-c0ea-47eb-ae95-5bdd156140b8\" target=\"_top\" title=\"psysml:4b14459c-c0ea-47eb-ae95-5bdd156140b8\" xlink:actuate=\"onRequest\" xlink:href=\"psysml:4b14459c-c0ea-47eb-ae95-5bdd156140b8\" xlink:show=\"new\" xlink:title=\"psysml:4b14459c-c0ea-47eb-ae95-5bdd156140b8\" xlink:type=\"simple\"><path d=\"M197.41,743.63 C211.5,723.27 229,691.78 229,661 C229,384 229,384 229,384 C229,353.7 206.93,328.42 183.85,310.26 \" fill=\"none\" id=\"E7-&gt;E3\" style=\"stroke: #383838; stroke-width: 1.0;\"/><polygon fill=\"#FFFFFF\" points=\"167.57,298.59,187.0929,303.9617,178.9414,315.3438,167.57,298.59\" style=\"stroke: #383838; stroke-width: 1.0;\"/><ellipse cx=\"190.5626\" cy=\"308.9066\" fill=\"#383838\" rx=\"2\" ry=\"2\" style=\"stroke: #383838; stroke-width: 1.0;\"/><ellipse cx=\"184.7401\" cy=\"317.0367\" fill=\"#383838\" rx=\"2\" ry=\"2\" style=\"stroke: #383838; stroke-width: 1.0;\"/></a><!--MD5=[dfaffb906826c3e5aca635516100ff21]\n",
       "link E5 to E8--><a href=\"psysml:7f99918d-ef62-497c-9b9a-668f89d0bef4\" target=\"_top\" title=\"psysml:7f99918d-ef62-497c-9b9a-668f89d0bef4\" xlink:actuate=\"onRequest\" xlink:href=\"psysml:7f99918d-ef62-497c-9b9a-668f89d0bef4\" xlink:show=\"new\" xlink:title=\"psysml:7f99918d-ef62-497c-9b9a-668f89d0bef4\" xlink:type=\"simple\"><path d=\"M168.46,408.13 C164.86,430.62 159.2,466.01 154.74,493.87 \" fill=\"none\" id=\"E5-&gt;E8\" style=\"stroke: #383838; stroke-width: 1.0;\"/><polygon fill=\"#FFFFFF\" points=\"151.56,513.78,147.6458,493.9135,161.4704,496.1226,151.56,513.78\" style=\"stroke: #383838; stroke-width: 1.0;\"/><ellipse cx=\"150.5202\" cy=\"488.6005\" fill=\"#383838\" rx=\"2\" ry=\"2\" style=\"stroke: #383838; stroke-width: 1.0;\"/><ellipse cx=\"160.3949\" cy=\"490.1784\" fill=\"#383838\" rx=\"2\" ry=\"2\" style=\"stroke: #383838; stroke-width: 1.0;\"/></a><!--MD5=[03c8294790d3c57651a1993cecff665f]\n",
       "reverse link E8 to E3--><a href=\"psysml:8abdebaf-64f0-40cf-a780-4a21932975d8\" target=\"_top\" title=\"psysml:8abdebaf-64f0-40cf-a780-4a21932975d8\" xlink:actuate=\"onRequest\" xlink:href=\"psysml:8abdebaf-64f0-40cf-a780-4a21932975d8\" xlink:show=\"new\" xlink:title=\"psysml:8abdebaf-64f0-40cf-a780-4a21932975d8\" xlink:type=\"simple\"><path d=\"M140.02,501.22 C134.57,475.6 127.84,439.84 125,408 C123.18,387.64 124.14,382.43 125,362 C125.87,341.34 127.95,317.86 129.62,301.16 \" fill=\"none\" id=\"E8&lt;-E3\" style=\"stroke: #383838; stroke-width: 1.0;\"/><polygon fill=\"#FFFFFF\" points=\"142.81,513.96,145.4388,507.2451,140.2515,502.2359,137.6227,508.9508,142.81,513.96\" style=\"stroke: #383838; stroke-width: 1.0;\"/><text fill=\"#000000\" font-family=\"sans-serif\" font-size=\"13\" lengthAdjust=\"spacingAndGlyphs\" textLength=\"7\" x=\"126\" y=\"389.5669\">y</text></a><!--MD5=[0d75d2178373a6a4568e5dc728f58aef]\n",
       "reverse link E8 to E6--><a href=\"psysml:8abdebaf-64f0-40cf-a780-4a21932975d8\" target=\"_top\" title=\"psysml:8abdebaf-64f0-40cf-a780-4a21932975d8\" xlink:actuate=\"onRequest\" xlink:href=\"psysml:8abdebaf-64f0-40cf-a780-4a21932975d8\" xlink:show=\"new\" xlink:title=\"psysml:8abdebaf-64f0-40cf-a780-4a21932975d8\" xlink:type=\"simple\"><path d=\"M148,573.22 C148,593.81 148,619.16 148,636.95 \" fill=\"none\" id=\"E8&lt;-E6\" style=\"stroke: #383838; stroke-width: 1.0;\"/><polygon fill=\"#FFFFFF\" points=\"148,560.19,144,566.19,148,572.19,152,566.19,148,560.19\" style=\"stroke: #383838; stroke-width: 1.0;\"/><text fill=\"#000000\" font-family=\"sans-serif\" font-size=\"13\" lengthAdjust=\"spacingAndGlyphs\" textLength=\"7\" x=\"149\" y=\"603.0669\">y</text></a><!--MD5=[23ac544a70576c3e717098101004234c]\n",
       "reverse link E9 to E10--><a href=\"psysml:4b97f70b-21b5-47d0-9b80-bf68f1206e68\" target=\"_top\" title=\"psysml:4b97f70b-21b5-47d0-9b80-bf68f1206e68\" xlink:actuate=\"onRequest\" xlink:href=\"psysml:4b97f70b-21b5-47d0-9b80-bf68f1206e68\" xlink:show=\"new\" xlink:title=\"psysml:4b97f70b-21b5-47d0-9b80-bf68f1206e68\" xlink:type=\"simple\"><path d=\"M84.39,99.1 C77.56,115.03 69.63,133.54 63.58,147.66 \" fill=\"none\" id=\"E9&lt;-E10\" style=\"stroke: #383838; stroke-width: 1.0;\"/><polygon fill=\"#FFFFFF\" points=\"89.57,87.01,83.5327,90.9535,84.8509,98.0431,90.8882,94.0996,89.57,87.01\" style=\"stroke: #383838; stroke-width: 1.0;\"/><text fill=\"#000000\" font-family=\"sans-serif\" font-size=\"13\" lengthAdjust=\"spacingAndGlyphs\" textLength=\"8\" x=\"57.0099\" y=\"136.8492\">1</text></a><!--MD5=[feeac5eb423634930294aa81f2d25a4c]\n",
       "link E10 to E3--><a href=\"psysml:890b43d2-a44a-4df9-b863-0c7f323950a1\" target=\"_top\" title=\"psysml:890b43d2-a44a-4df9-b863-0c7f323950a1\" xlink:actuate=\"onRequest\" xlink:href=\"psysml:890b43d2-a44a-4df9-b863-0c7f323950a1\" xlink:show=\"new\" xlink:title=\"psysml:890b43d2-a44a-4df9-b863-0c7f323950a1\" xlink:type=\"simple\"><path d=\"M70.35,194.01 C79.86,206.81 92.11,223.3 103.18,238.2 \" fill=\"none\" id=\"E10-&gt;E3\" style=\"stroke: #383838; stroke-width: 1.0;\"/><polygon fill=\"#FFFFFF\" points=\"115.4,254.66,98.4457,243.5896,109.6805,235.2361,115.4,254.66\" style=\"stroke: #383838; stroke-width: 1.0;\"/><ellipse cx=\"96.6496\" cy=\"237.8221\" fill=\"#383838\" rx=\"2\" ry=\"2\" style=\"stroke: #383838; stroke-width: 1.0;\"/><ellipse cx=\"104.6744\" cy=\"231.8554\" fill=\"#383838\" rx=\"2\" ry=\"2\" style=\"stroke: #383838; stroke-width: 1.0;\"/></a><!--MD5=[1fc04a95fd77ad5ce46c1a3027516051]\n",
       "reverse link E9 to E11--><a href=\"psysml:75cdd26f-47cf-45db-b14e-ba01ceb3edc6\" target=\"_top\" title=\"psysml:75cdd26f-47cf-45db-b14e-ba01ceb3edc6\" xlink:actuate=\"onRequest\" xlink:href=\"psysml:75cdd26f-47cf-45db-b14e-ba01ceb3edc6\" xlink:show=\"new\" xlink:title=\"psysml:75cdd26f-47cf-45db-b14e-ba01ceb3edc6\" xlink:type=\"simple\"><path d=\"M109.87,99.57 C114.84,115.39 120.59,133.68 124.98,147.66 \" fill=\"none\" id=\"E9&lt;-E11\" style=\"stroke: #383838; stroke-width: 1.0;\"/><polygon fill=\"#FFFFFF\" points=\"105.92,87.01,103.9044,93.9337,109.5203,98.4572,111.5359,91.5335,105.92,87.01\" style=\"stroke: #383838; stroke-width: 1.0;\"/><text fill=\"#000000\" font-family=\"sans-serif\" font-size=\"13\" lengthAdjust=\"spacingAndGlyphs\" textLength=\"8\" x=\"114.1561\" y=\"136.8492\">1</text></a><!--MD5=[0517f1ce58c4d5483948f93845c45e26]\n",
       "link E11 to E3--><a href=\"psysml:92dee77c-180b-445a-a05e-737a71661cde\" target=\"_top\" title=\"psysml:92dee77c-180b-445a-a05e-737a71661cde\" xlink:actuate=\"onRequest\" xlink:href=\"psysml:92dee77c-180b-445a-a05e-737a71661cde\" xlink:show=\"new\" xlink:title=\"psysml:92dee77c-180b-445a-a05e-737a71661cde\" xlink:type=\"simple\"><path d=\"M132,194.01 C132,205.69 132,220.46 132,234.28 \" fill=\"none\" id=\"E11-&gt;E3\" style=\"stroke: #383838; stroke-width: 1.0;\"/><polygon fill=\"#FFFFFF\" points=\"132,254.66,125,235.66,139,235.66,132,254.66\" style=\"stroke: #383838; stroke-width: 1.0;\"/><ellipse cx=\"127\" cy=\"229.96\" fill=\"#383838\" rx=\"2\" ry=\"2\" style=\"stroke: #383838; stroke-width: 1.0;\"/><ellipse cx=\"137\" cy=\"229.96\" fill=\"#383838\" rx=\"2\" ry=\"2\" style=\"stroke: #383838; stroke-width: 1.0;\"/></a><!--MD5=[50e554f60f8d3d8e6dccda5d38cad7d7]\n",
       "@startuml\r\n",
       " skinparam monochrome true\r\n",
       "skinparam classbackgroundcolor white\r\n",
       "skinparam shadowing false\r\n",
       "skinparam wrapWidth 300\r\n",
       "hide circle\r\n",
       "\r\n",
       "package \"ItemTest\" as E1  [[psysml:8469bc55-64be-4e75-90cd-bb271a7bb256 ]]  {\r\n",
       "comp usage \"f: A \" as E2  <<(T,blue) item>> [[psysml:6cbf61b0-82f0-477a-9e61-503ee7ef8ab3 ]] {\r\n",
       "}\r\n",
       "comp def \"A\" as E3  <<(T,blue) item  def>> [[psysml:73e4759d-5191-4c8c-b634-f2bc1b43e3a3 ]] {\r\n",
       "}\r\n",
       "comp usage \"b: B \" as E4  <<(T,blue) item>> [[psysml:22dedc78-8a6f-47e7-a1b3-f5299f454177 ]] {\r\n",
       "}\r\n",
       "comp usage \"c: C \" as E5  <<(T,blue) part>> [[psysml:d5b518cb-4e9d-48f6-86e4-811292cf7103 ]] {\r\n",
       "}\r\n",
       "comp def \"<i>B</i>\" as E6  <<(T,blue) item  def>> [[psysml:7fb13a86-95b9-42ac-ac4a-d3cbb2045ff7 ]] {\r\n",
       "}\r\n",
       "comp usage \"<i>a</i>: A \" as E7  <<(T,blue) part>> [[psysml:b4d408e4-c35f-4021-90a0-c54c4c634ca8 ]] {\r\n",
       "}\r\n",
       "comp def \"C\" as E8  <<(T,blue) part  def>> [[psysml:53104107-4f2e-4822-81be-c90629c3152e ]] {\r\n",
       "}\r\n",
       "comp def \"P\" as E9  <<(T,blue) port  def>> [[psysml:96c92d64-4061-42f0-9733-a4ee9bfee5f1 ]] {\r\n",
       "}\r\n",
       "comp usage \"a1: A \" as E10  <<(T,blue) item>> [[psysml:21151bb4-f160-49b9-964a-222b3c2d7b6c ]] {\r\n",
       "}\r\n",
       "comp usage \"a2: A \" as E11  <<(T,blue) item>> [[psysml:048eeab4-ab84-4a9d-8dc8-2b5e8335cff3 ]] {\r\n",
       "}\r\n",
       "}\r\n",
       "E2 - -:|> E3 [[psysml:e70b16f9-62c0-40f3-a087-aa973c352c22 ]] \r\n",
       "E3 *- - \"1\"E4 [[psysml:f5164247-58fc-45c1-bba3-2edebb195fbd ]] \r\n",
       "E3 o- - \"1\"E5 [[psysml:0e10322d-8096-4d1c-ad13-bcf359abd35a ]] \r\n",
       "E4 - -:|> E6 [[psysml:cd799d59-974c-4cd5-b2a4-5d2e853ea550 ]] \r\n",
       "E6 *- - \"1\"E7 [[psysml:f66c29ee-70ba-402f-a3a4-159df7b46130 ]] \r\n",
       "E7 - -:|> E3 [[psysml:4b14459c-c0ea-47eb-ae95-5bdd156140b8 ]] \r\n",
       "E5 - -:|> E8 [[psysml:7f99918d-ef62-497c-9b9a-668f89d0bef4 ]] \r\n",
       "E8 o- - E3 [[psysml:8abdebaf-64f0-40cf-a780-4a21932975d8 ]] : y\r\n",
       "E8 o- - E6 [[psysml:8abdebaf-64f0-40cf-a780-4a21932975d8 ]] : y\r\n",
       "E9 o- - \"1\"E10 [[psysml:4b97f70b-21b5-47d0-9b80-bf68f1206e68 ]] \r\n",
       "E10 - -:|> E3 [[psysml:890b43d2-a44a-4df9-b863-0c7f323950a1 ]] \r\n",
       "E9 o- - \"1\"E11 [[psysml:75cdd26f-47cf-45db-b14e-ba01ceb3edc6 ]] \r\n",
       "E11 - -:|> E3 [[psysml:92dee77c-180b-445a-a05e-737a71661cde ]] \r\n",
       "@enduml\r\n",
       "\n",
       "PlantUML version 1.2020.13(Sat Jun 13 12:26:38 UTC 2020)\n",
       "(EPL source distribution)\n",
       "Java Runtime: OpenJDK Runtime Environment\n",
       "JVM: OpenJDK 64-Bit Server VM\n",
       "Default Encoding: UTF-8\n",
       "Language: en\n",
       "Country: null\n",
       "--></g></svg>"
      ]
     },
     "execution_count": 8,
     "metadata": {},
     "output_type": "execute_result"
    }
   ],
   "source": [
    "%viz --style=\"COMPTREE\" --view=\"MIXED\" \"ItemTest\""
   ]
  },
  {
   "cell_type": "code",
   "execution_count": 9,
   "id": "370f589c",
   "metadata": {
    "execution": {
     "iopub.execute_input": "2022-03-21T07:49:09.276783Z",
     "iopub.status.busy": "2022-03-21T07:49:09.276443Z",
     "iopub.status.idle": "2022-03-21T07:49:09.331791Z",
     "shell.execute_reply": "2022-03-21T07:49:09.332109Z"
    }
   },
   "outputs": [
    {
     "data": {
      "image/svg+xml": [
       "<?xml version=\"1.0\" encoding=\"UTF-8\" standalone=\"no\"?><svg xmlns=\"http://www.w3.org/2000/svg\" xmlns:xlink=\"http://www.w3.org/1999/xlink\" contentScriptType=\"application/ecmascript\" contentStyleType=\"text/css\" height=\"818px\" preserveAspectRatio=\"none\" style=\"width:270px;height:818px;\" version=\"1.1\" viewBox=\"0 0 270 818\" width=\"270px\" zoomAndPan=\"magnify\"><defs/><g><!--MD5=[fbc87193dbaf4d95561dea2c320d4a47]\n",
       "cluster E1--><a href=\"psysml:8469bc55-64be-4e75-90cd-bb271a7bb256\" target=\"_top\" title=\"psysml:8469bc55-64be-4e75-90cd-bb271a7bb256\" xlink:actuate=\"onRequest\" xlink:href=\"psysml:8469bc55-64be-4e75-90cd-bb271a7bb256\" xlink:show=\"new\" xlink:title=\"psysml:8469bc55-64be-4e75-90cd-bb271a7bb256\" xlink:type=\"simple\"><polygon fill=\"#FFFFFF\" points=\"16,6,83,6,90,28.2969,248,28.2969,248,806,16,806,16,6\" style=\"stroke: #000000; stroke-width: 1.5;\"/><line style=\"stroke: #000000; stroke-width: 1.5;\" x1=\"16\" x2=\"90\" y1=\"28.2969\" y2=\"28.2969\"/><text fill=\"#000000\" font-family=\"sans-serif\" font-size=\"14\" font-weight=\"bold\" lengthAdjust=\"spacingAndGlyphs\" textLength=\"61\" x=\"20\" y=\"20.9951\">ItemTest</text></a><!--MD5=[b4997ac47864f28c2f74865a473b2911]\n",
       "class E2--><a href=\"psysml:6cbf61b0-82f0-477a-9e61-503ee7ef8ab3\" target=\"_top\" title=\"psysml:6cbf61b0-82f0-477a-9e61-503ee7ef8ab3\" xlink:actuate=\"onRequest\" xlink:href=\"psysml:6cbf61b0-82f0-477a-9e61-503ee7ef8ab3\" xlink:show=\"new\" xlink:title=\"psysml:6cbf61b0-82f0-477a-9e61-503ee7ef8ab3\" xlink:type=\"simple\"><rect fill=\"#FFFFFF\" height=\"45.9375\" id=\"E2\" rx=\"10\" ry=\"10\" style=\"stroke: #383838; stroke-width: 1.5;\" width=\"43\" x=\"188.5\" y=\"148\"/><text fill=\"#000000\" font-family=\"sans-serif\" font-size=\"12\" font-style=\"italic\" lengthAdjust=\"spacingAndGlyphs\" textLength=\"41\" x=\"189.5\" y=\"164.1387\">«item»</text><text fill=\"#000000\" font-family=\"sans-serif\" font-size=\"12\" lengthAdjust=\"spacingAndGlyphs\" textLength=\"20\" x=\"198\" y=\"178.1074\">f: A</text><line style=\"stroke: #383838; stroke-width: 1.5;\" x1=\"189.5\" x2=\"230.5\" y1=\"185.9375\" y2=\"185.9375\"/></a><!--MD5=[09b614a08d8cba4a07c9adeb5e0fee81]\n",
       "class E3--><a href=\"psysml:73e4759d-5191-4c8c-b634-f2bc1b43e3a3\" target=\"_top\" title=\"psysml:73e4759d-5191-4c8c-b634-f2bc1b43e3a3\" xlink:actuate=\"onRequest\" xlink:href=\"psysml:73e4759d-5191-4c8c-b634-f2bc1b43e3a3\" xlink:show=\"new\" xlink:title=\"psysml:73e4759d-5191-4c8c-b634-f2bc1b43e3a3\" xlink:type=\"simple\"><rect fill=\"#FFFFFF\" height=\"45.9375\" id=\"E3\" style=\"stroke: #383838; stroke-width: 1.5;\" width=\"71\" x=\"96.5\" y=\"255\"/><text fill=\"#000000\" font-family=\"sans-serif\" font-size=\"12\" font-style=\"italic\" lengthAdjust=\"spacingAndGlyphs\" textLength=\"69\" x=\"97.5\" y=\"271.1387\">«item  def»</text><text fill=\"#000000\" font-family=\"sans-serif\" font-size=\"12\" lengthAdjust=\"spacingAndGlyphs\" textLength=\"8\" x=\"128\" y=\"285.1074\">A</text><line style=\"stroke: #383838; stroke-width: 1.5;\" x1=\"97.5\" x2=\"166.5\" y1=\"292.9375\" y2=\"292.9375\"/></a><!--MD5=[ebbe1d658d1005bcc118a6aa81145e00]\n",
       "class E4--><a href=\"psysml:22dedc78-8a6f-47e7-a1b3-f5299f454177\" target=\"_top\" title=\"psysml:22dedc78-8a6f-47e7-a1b3-f5299f454177\" xlink:actuate=\"onRequest\" xlink:href=\"psysml:22dedc78-8a6f-47e7-a1b3-f5299f454177\" xlink:show=\"new\" xlink:title=\"psysml:22dedc78-8a6f-47e7-a1b3-f5299f454177\" xlink:type=\"simple\"><rect fill=\"#FFFFFF\" height=\"45.9375\" id=\"E4\" rx=\"10\" ry=\"10\" style=\"stroke: #383838; stroke-width: 1.5;\" width=\"43\" x=\"45.5\" y=\"438\"/><text fill=\"#000000\" font-family=\"sans-serif\" font-size=\"12\" font-style=\"italic\" lengthAdjust=\"spacingAndGlyphs\" textLength=\"41\" x=\"46.5\" y=\"454.1387\">«item»</text><text fill=\"#000000\" font-family=\"sans-serif\" font-size=\"12\" lengthAdjust=\"spacingAndGlyphs\" textLength=\"24\" x=\"53\" y=\"468.1074\">b: B</text><line style=\"stroke: #383838; stroke-width: 1.5;\" x1=\"46.5\" x2=\"87.5\" y1=\"475.9375\" y2=\"475.9375\"/></a><!--MD5=[270fce915f116d4de14055a7c1d9a0f3]\n",
       "class E5--><a href=\"psysml:d5b518cb-4e9d-48f6-86e4-811292cf7103\" target=\"_top\" title=\"psysml:d5b518cb-4e9d-48f6-86e4-811292cf7103\" xlink:actuate=\"onRequest\" xlink:href=\"psysml:d5b518cb-4e9d-48f6-86e4-811292cf7103\" xlink:show=\"new\" xlink:title=\"psysml:d5b518cb-4e9d-48f6-86e4-811292cf7103\" xlink:type=\"simple\"><rect fill=\"#FFFFFF\" height=\"45.9375\" id=\"E5\" rx=\"10\" ry=\"10\" style=\"stroke: #383838; stroke-width: 1.5;\" width=\"42\" x=\"151\" y=\"362\"/><text fill=\"#000000\" font-family=\"sans-serif\" font-size=\"12\" font-style=\"italic\" lengthAdjust=\"spacingAndGlyphs\" textLength=\"40\" x=\"152\" y=\"378.1387\">«part»</text><text fill=\"#000000\" font-family=\"sans-serif\" font-size=\"12\" lengthAdjust=\"spacingAndGlyphs\" textLength=\"23\" x=\"158.5\" y=\"392.1074\">c: C</text><line style=\"stroke: #383838; stroke-width: 1.5;\" x1=\"152\" x2=\"192\" y1=\"399.9375\" y2=\"399.9375\"/></a><!--MD5=[60a26617385b1d2d0262a64233df1f8d]\n",
       "class E6--><a href=\"psysml:7fb13a86-95b9-42ac-ac4a-d3cbb2045ff7\" target=\"_top\" title=\"psysml:7fb13a86-95b9-42ac-ac4a-d3cbb2045ff7\" xlink:actuate=\"onRequest\" xlink:href=\"psysml:7fb13a86-95b9-42ac-ac4a-d3cbb2045ff7\" xlink:show=\"new\" xlink:title=\"psysml:7fb13a86-95b9-42ac-ac4a-d3cbb2045ff7\" xlink:type=\"simple\"><rect fill=\"#FFFFFF\" height=\"45.9375\" id=\"E6\" style=\"stroke: #383838; stroke-width: 1.5;\" width=\"71\" x=\"112.5\" y=\"637\"/><text fill=\"#000000\" font-family=\"sans-serif\" font-size=\"12\" font-style=\"italic\" lengthAdjust=\"spacingAndGlyphs\" textLength=\"69\" x=\"113.5\" y=\"653.1387\">«item  def»</text><text fill=\"#000000\" font-family=\"sans-serif\" font-size=\"12\" font-style=\"italic\" lengthAdjust=\"spacingAndGlyphs\" textLength=\"8\" x=\"144\" y=\"667.1074\">B</text><line style=\"stroke: #383838; stroke-width: 1.5;\" x1=\"113.5\" x2=\"182.5\" y1=\"674.9375\" y2=\"674.9375\"/></a><!--MD5=[2156ba9850f5573cc1fc38a6a4b2f02b]\n",
       "class E7--><a href=\"psysml:b4d408e4-c35f-4021-90a0-c54c4c634ca8\" target=\"_top\" title=\"psysml:b4d408e4-c35f-4021-90a0-c54c4c634ca8\" xlink:actuate=\"onRequest\" xlink:href=\"psysml:b4d408e4-c35f-4021-90a0-c54c4c634ca8\" xlink:show=\"new\" xlink:title=\"psysml:b4d408e4-c35f-4021-90a0-c54c4c634ca8\" xlink:type=\"simple\"><rect fill=\"#FFFFFF\" height=\"45.9375\" id=\"E7\" rx=\"10\" ry=\"10\" style=\"stroke: #383838; stroke-width: 1.5;\" width=\"42\" x=\"159\" y=\"744\"/><text fill=\"#000000\" font-family=\"sans-serif\" font-size=\"12\" font-style=\"italic\" lengthAdjust=\"spacingAndGlyphs\" textLength=\"40\" x=\"160\" y=\"760.1387\">«part»</text><text fill=\"#000000\" font-family=\"sans-serif\" font-size=\"12\" font-style=\"italic\" lengthAdjust=\"spacingAndGlyphs\" textLength=\"8\" x=\"166\" y=\"774.1074\">a</text><text fill=\"#000000\" font-family=\"sans-serif\" font-size=\"12\" lengthAdjust=\"spacingAndGlyphs\" textLength=\"16\" x=\"174\" y=\"774.1074\">: A</text><line style=\"stroke: #383838; stroke-width: 1.5;\" x1=\"160\" x2=\"200\" y1=\"781.9375\" y2=\"781.9375\"/></a><!--MD5=[b9389687b975829384b498ac4b7476b2]\n",
       "class E8--><a href=\"psysml:53104107-4f2e-4822-81be-c90629c3152e\" target=\"_top\" title=\"psysml:53104107-4f2e-4822-81be-c90629c3152e\" xlink:actuate=\"onRequest\" xlink:href=\"psysml:53104107-4f2e-4822-81be-c90629c3152e\" xlink:show=\"new\" xlink:title=\"psysml:53104107-4f2e-4822-81be-c90629c3152e\" xlink:type=\"simple\"><rect fill=\"#FFFFFF\" height=\"45.9375\" id=\"E8\" style=\"stroke: #383838; stroke-width: 1.5;\" width=\"70\" x=\"113\" y=\"514\"/><text fill=\"#000000\" font-family=\"sans-serif\" font-size=\"12\" font-style=\"italic\" lengthAdjust=\"spacingAndGlyphs\" textLength=\"68\" x=\"114\" y=\"530.1387\">«part  def»</text><text fill=\"#000000\" font-family=\"sans-serif\" font-size=\"12\" lengthAdjust=\"spacingAndGlyphs\" textLength=\"8\" x=\"144\" y=\"544.1074\">C</text><line style=\"stroke: #383838; stroke-width: 1.5;\" x1=\"114\" x2=\"182\" y1=\"551.9375\" y2=\"551.9375\"/></a><!--MD5=[fd4143e9d270a159db93a4ea2a975926]\n",
       "class E9--><a href=\"psysml:96c92d64-4061-42f0-9733-a4ee9bfee5f1\" target=\"_top\" title=\"psysml:96c92d64-4061-42f0-9733-a4ee9bfee5f1\" xlink:actuate=\"onRequest\" xlink:href=\"psysml:96c92d64-4061-42f0-9733-a4ee9bfee5f1\" xlink:show=\"new\" xlink:title=\"psysml:96c92d64-4061-42f0-9733-a4ee9bfee5f1\" xlink:type=\"simple\"><rect fill=\"#FFFFFF\" height=\"45.9375\" id=\"E9\" style=\"stroke: #383838; stroke-width: 1.5;\" width=\"70\" x=\"64\" y=\"41\"/><text fill=\"#000000\" font-family=\"sans-serif\" font-size=\"12\" font-style=\"italic\" lengthAdjust=\"spacingAndGlyphs\" textLength=\"68\" x=\"65\" y=\"57.1387\">«port  def»</text><text fill=\"#000000\" font-family=\"sans-serif\" font-size=\"12\" lengthAdjust=\"spacingAndGlyphs\" textLength=\"8\" x=\"95\" y=\"71.1074\">P</text><line style=\"stroke: #383838; stroke-width: 1.5;\" x1=\"65\" x2=\"133\" y1=\"78.9375\" y2=\"78.9375\"/></a><!--MD5=[96f4274e9e20536e775497830990834d]\n",
       "class E10--><a href=\"psysml:21151bb4-f160-49b9-964a-222b3c2d7b6c\" target=\"_top\" title=\"psysml:21151bb4-f160-49b9-964a-222b3c2d7b6c\" xlink:actuate=\"onRequest\" xlink:href=\"psysml:21151bb4-f160-49b9-964a-222b3c2d7b6c\" xlink:show=\"new\" xlink:title=\"psysml:21151bb4-f160-49b9-964a-222b3c2d7b6c\" xlink:type=\"simple\"><rect fill=\"#FFFFFF\" height=\"45.9375\" id=\"E10\" rx=\"10\" ry=\"10\" style=\"stroke: #383838; stroke-width: 1.5;\" width=\"43\" x=\"32.5\" y=\"148\"/><text fill=\"#000000\" font-family=\"sans-serif\" font-size=\"12\" font-style=\"italic\" lengthAdjust=\"spacingAndGlyphs\" textLength=\"41\" x=\"33.5\" y=\"164.1387\">«item»</text><text fill=\"#000000\" font-family=\"sans-serif\" font-size=\"12\" lengthAdjust=\"spacingAndGlyphs\" textLength=\"32\" x=\"36\" y=\"178.1074\">a1: A</text><line style=\"stroke: #383838; stroke-width: 1.5;\" x1=\"33.5\" x2=\"74.5\" y1=\"185.9375\" y2=\"185.9375\"/></a><!--MD5=[1dd1bfd58a279cf63c5f349dbc8fc6a1]\n",
       "class E11--><a href=\"psysml:048eeab4-ab84-4a9d-8dc8-2b5e8335cff3\" target=\"_top\" title=\"psysml:048eeab4-ab84-4a9d-8dc8-2b5e8335cff3\" xlink:actuate=\"onRequest\" xlink:href=\"psysml:048eeab4-ab84-4a9d-8dc8-2b5e8335cff3\" xlink:show=\"new\" xlink:title=\"psysml:048eeab4-ab84-4a9d-8dc8-2b5e8335cff3\" xlink:type=\"simple\"><rect fill=\"#FFFFFF\" height=\"45.9375\" id=\"E11\" rx=\"10\" ry=\"10\" style=\"stroke: #383838; stroke-width: 1.5;\" width=\"43\" x=\"110.5\" y=\"148\"/><text fill=\"#000000\" font-family=\"sans-serif\" font-size=\"12\" font-style=\"italic\" lengthAdjust=\"spacingAndGlyphs\" textLength=\"41\" x=\"111.5\" y=\"164.1387\">«item»</text><text fill=\"#000000\" font-family=\"sans-serif\" font-size=\"12\" lengthAdjust=\"spacingAndGlyphs\" textLength=\"32\" x=\"114\" y=\"178.1074\">a2: A</text><line style=\"stroke: #383838; stroke-width: 1.5;\" x1=\"111.5\" x2=\"152.5\" y1=\"185.9375\" y2=\"185.9375\"/></a><!--MD5=[2720a5a1f2c3fca2055b230370638851]\n",
       "link E2 to E3--><a href=\"psysml:e70b16f9-62c0-40f3-a087-aa973c352c22\" target=\"_top\" title=\"psysml:e70b16f9-62c0-40f3-a087-aa973c352c22\" xlink:actuate=\"onRequest\" xlink:href=\"psysml:e70b16f9-62c0-40f3-a087-aa973c352c22\" xlink:show=\"new\" xlink:title=\"psysml:e70b16f9-62c0-40f3-a087-aa973c352c22\" xlink:type=\"simple\"><path d=\"M193.65,194.01 C184.14,206.81 171.89,223.3 160.82,238.2 \" fill=\"none\" id=\"E2-&gt;E3\" style=\"stroke: #383838; stroke-width: 1.0;\"/><polygon fill=\"#FFFFFF\" points=\"148.6,254.66,154.3195,235.2361,165.5543,243.5896,148.6,254.66\" style=\"stroke: #383838; stroke-width: 1.0;\"/><ellipse cx=\"159.3256\" cy=\"231.8554\" fill=\"#383838\" rx=\"2\" ry=\"2\" style=\"stroke: #383838; stroke-width: 1.0;\"/><ellipse cx=\"167.3504\" cy=\"237.8221\" fill=\"#383838\" rx=\"2\" ry=\"2\" style=\"stroke: #383838; stroke-width: 1.0;\"/></a><!--MD5=[4672eba38e49728da53d11aeb285b987]\n",
       "reverse link E3 to E4--><a href=\"psysml:f5164247-58fc-45c1-bba3-2edebb195fbd\" target=\"_top\" title=\"psysml:f5164247-58fc-45c1-bba3-2edebb195fbd\" xlink:actuate=\"onRequest\" xlink:href=\"psysml:f5164247-58fc-45c1-bba3-2edebb195fbd\" xlink:show=\"new\" xlink:title=\"psysml:f5164247-58fc-45c1-bba3-2edebb195fbd\" xlink:type=\"simple\"><path d=\"M105.34,311.54 C86.29,334.8 64,362 64,362 C64,362 64,408 64,408 C64,408 64.91,423.77 65.73,437.95 \" fill=\"none\" id=\"E3&lt;-E4\" style=\"stroke: #383838; stroke-width: 1.0;\"/><polygon fill=\"#383838\" points=\"113.78,301.24,106.883,303.3449,106.1733,310.521,113.0703,308.4161,113.78,301.24\" style=\"stroke: #383838; stroke-width: 1.0;\"/><text fill=\"#000000\" font-family=\"sans-serif\" font-size=\"13\" lengthAdjust=\"spacingAndGlyphs\" textLength=\"8\" x=\"56.3137\" y=\"426.8328\">1</text></a><!--MD5=[191cde3d490a3f6d7bb551fe3ddca469]\n",
       "reverse link E3 to E5--><a href=\"psysml:0e10322d-8096-4d1c-ad13-bcf359abd35a\" target=\"_top\" title=\"psysml:0e10322d-8096-4d1c-ad13-bcf359abd35a\" xlink:actuate=\"onRequest\" xlink:href=\"psysml:0e10322d-8096-4d1c-ad13-bcf359abd35a\" xlink:show=\"new\" xlink:title=\"psysml:0e10322d-8096-4d1c-ad13-bcf359abd35a\" xlink:type=\"simple\"><path d=\"M145.17,313.57 C151.2,329.39 158.16,347.68 163.49,361.66 \" fill=\"none\" id=\"E3&lt;-E5\" style=\"stroke: #383838; stroke-width: 1.0;\"/><polygon fill=\"#FFFFFF\" points=\"140.39,301.01,138.7866,308.0406,144.6598,312.2247,146.2631,305.1941,140.39,301.01\" style=\"stroke: #383838; stroke-width: 1.0;\"/><text fill=\"#000000\" font-family=\"sans-serif\" font-size=\"13\" lengthAdjust=\"spacingAndGlyphs\" textLength=\"8\" x=\"152.2843\" y=\"350.8492\">1</text></a><!--MD5=[79568f1e445c3877b6a54524624ccc7d]\n",
       "link E4 to E6--><a href=\"psysml:cd799d59-974c-4cd5-b2a4-5d2e853ea550\" target=\"_top\" title=\"psysml:cd799d59-974c-4cd5-b2a4-5d2e853ea550\" xlink:actuate=\"onRequest\" xlink:href=\"psysml:cd799d59-974c-4cd5-b2a4-5d2e853ea550\" xlink:show=\"new\" xlink:title=\"psysml:cd799d59-974c-4cd5-b2a4-5d2e853ea550\" xlink:type=\"simple\"><path d=\"M73.58,484.24 C82.14,513.15 96,560 96,560 C96,560 112.41,591.24 126.79,618.63 \" fill=\"none\" id=\"E4-&gt;E6\" style=\"stroke: #383838; stroke-width: 1.0;\"/><polygon fill=\"#FFFFFF\" points=\"136.2,636.54,121.1704,622.9713,133.5659,616.4636,136.2,636.54\" style=\"stroke: #383838; stroke-width: 1.0;\"/><ellipse cx=\"120.2916\" cy=\"616.9948\" fill=\"#383838\" rx=\"2\" ry=\"2\" style=\"stroke: #383838; stroke-width: 1.0;\"/><ellipse cx=\"129.1456\" cy=\"612.3465\" fill=\"#383838\" rx=\"2\" ry=\"2\" style=\"stroke: #383838; stroke-width: 1.0;\"/></a><!--MD5=[3f50a3473f1dfb74d3f76443e03635af]\n",
       "reverse link E6 to E7--><a href=\"psysml:f66c29ee-70ba-402f-a3a4-159df7b46130\" target=\"_top\" title=\"psysml:f66c29ee-70ba-402f-a3a4-159df7b46130\" xlink:actuate=\"onRequest\" xlink:href=\"psysml:f66c29ee-70ba-402f-a3a4-159df7b46130\" xlink:show=\"new\" xlink:title=\"psysml:f66c29ee-70ba-402f-a3a4-159df7b46130\" xlink:type=\"simple\"><path d=\"M158.54,695.57 C163.36,711.39 168.93,729.68 173.19,743.66 \" fill=\"none\" id=\"E6&lt;-E7\" style=\"stroke: #383838; stroke-width: 1.0;\"/><polygon fill=\"#383838\" points=\"154.71,683.01,152.6319,689.9152,158.2066,694.4893,160.2847,687.5841,154.71,683.01\" style=\"stroke: #383838; stroke-width: 1.0;\"/><text fill=\"#000000\" font-family=\"sans-serif\" font-size=\"13\" lengthAdjust=\"spacingAndGlyphs\" textLength=\"8\" x=\"162.4199\" y=\"732.8492\">1</text></a><!--MD5=[14ccda38c055a5c0da953d572bc50960]\n",
       "link E7 to E3--><a href=\"psysml:4b14459c-c0ea-47eb-ae95-5bdd156140b8\" target=\"_top\" title=\"psysml:4b14459c-c0ea-47eb-ae95-5bdd156140b8\" xlink:actuate=\"onRequest\" xlink:href=\"psysml:4b14459c-c0ea-47eb-ae95-5bdd156140b8\" xlink:show=\"new\" xlink:title=\"psysml:4b14459c-c0ea-47eb-ae95-5bdd156140b8\" xlink:type=\"simple\"><path d=\"M190.27,743.99 C204.64,713.2 229,661 229,661 C229,384 229,384 229,384 C229,384 211,362 211,362 C211,362 188.27,338.12 167.2,315.98 \" fill=\"none\" id=\"E7-&gt;E3\" style=\"stroke: #383838; stroke-width: 1.0;\"/><polygon fill=\"#FFFFFF\" points=\"153.17,301.24,171.3437,310.1683,161.2072,319.825,153.17,301.24\" style=\"stroke: #383838; stroke-width: 1.0;\"/><ellipse cx=\"173.8273\" cy=\"315.6749\" fill=\"#383838\" rx=\"2\" ry=\"2\" style=\"stroke: #383838; stroke-width: 1.0;\"/><ellipse cx=\"166.5869\" cy=\"322.5725\" fill=\"#383838\" rx=\"2\" ry=\"2\" style=\"stroke: #383838; stroke-width: 1.0;\"/></a><!--MD5=[dfaffb906826c3e5aca635516100ff21]\n",
       "link E5 to E8--><a href=\"psysml:7f99918d-ef62-497c-9b9a-668f89d0bef4\" target=\"_top\" title=\"psysml:7f99918d-ef62-497c-9b9a-668f89d0bef4\" xlink:actuate=\"onRequest\" xlink:href=\"psysml:7f99918d-ef62-497c-9b9a-668f89d0bef4\" xlink:show=\"new\" xlink:title=\"psysml:7f99918d-ef62-497c-9b9a-668f89d0bef4\" xlink:type=\"simple\"><path d=\"M168.46,408.13 C164.86,430.62 159.2,466.01 154.74,493.87 \" fill=\"none\" id=\"E5-&gt;E8\" style=\"stroke: #383838; stroke-width: 1.0;\"/><polygon fill=\"#FFFFFF\" points=\"151.56,513.78,147.6458,493.9135,161.4704,496.1226,151.56,513.78\" style=\"stroke: #383838; stroke-width: 1.0;\"/><ellipse cx=\"150.5202\" cy=\"488.6005\" fill=\"#383838\" rx=\"2\" ry=\"2\" style=\"stroke: #383838; stroke-width: 1.0;\"/><ellipse cx=\"160.3949\" cy=\"490.1784\" fill=\"#383838\" rx=\"2\" ry=\"2\" style=\"stroke: #383838; stroke-width: 1.0;\"/></a><!--MD5=[03c8294790d3c57651a1993cecff665f]\n",
       "reverse link E8 to E3--><a href=\"psysml:8abdebaf-64f0-40cf-a780-4a21932975d8\" target=\"_top\" title=\"psysml:8abdebaf-64f0-40cf-a780-4a21932975d8\" xlink:actuate=\"onRequest\" xlink:href=\"psysml:8abdebaf-64f0-40cf-a780-4a21932975d8\" xlink:show=\"new\" xlink:title=\"psysml:8abdebaf-64f0-40cf-a780-4a21932975d8\" xlink:type=\"simple\"><path d=\"M141.7,500.94 C134.89,463.05 125,408 125,408 C125,408 125,362 125,362 C125,362 128.05,325.83 130.12,301.24 \" fill=\"none\" id=\"E8&lt;-E3\" style=\"stroke: #383838; stroke-width: 1.0;\"/><polygon fill=\"#FFFFFF\" points=\"144.05,514,146.9258,507.3872,141.9277,502.1892,139.0519,508.802,144.05,514\" style=\"stroke: #383838; stroke-width: 1.0;\"/><text fill=\"#000000\" font-family=\"sans-serif\" font-size=\"13\" lengthAdjust=\"spacingAndGlyphs\" textLength=\"7\" x=\"126\" y=\"389.5669\">y</text></a><!--MD5=[0d75d2178373a6a4568e5dc728f58aef]\n",
       "reverse link E8 to E6--><a href=\"psysml:8abdebaf-64f0-40cf-a780-4a21932975d8\" target=\"_top\" title=\"psysml:8abdebaf-64f0-40cf-a780-4a21932975d8\" xlink:actuate=\"onRequest\" xlink:href=\"psysml:8abdebaf-64f0-40cf-a780-4a21932975d8\" xlink:show=\"new\" xlink:title=\"psysml:8abdebaf-64f0-40cf-a780-4a21932975d8\" xlink:type=\"simple\"><path d=\"M148,573.22 C148,593.81 148,619.16 148,636.95 \" fill=\"none\" id=\"E8&lt;-E6\" style=\"stroke: #383838; stroke-width: 1.0;\"/><polygon fill=\"#FFFFFF\" points=\"148,560.19,144,566.19,148,572.19,152,566.19,148,560.19\" style=\"stroke: #383838; stroke-width: 1.0;\"/><text fill=\"#000000\" font-family=\"sans-serif\" font-size=\"13\" lengthAdjust=\"spacingAndGlyphs\" textLength=\"7\" x=\"149\" y=\"603.0669\">y</text></a><!--MD5=[23ac544a70576c3e717098101004234c]\n",
       "reverse link E9 to E10--><a href=\"psysml:4b97f70b-21b5-47d0-9b80-bf68f1206e68\" target=\"_top\" title=\"psysml:4b97f70b-21b5-47d0-9b80-bf68f1206e68\" xlink:actuate=\"onRequest\" xlink:href=\"psysml:4b97f70b-21b5-47d0-9b80-bf68f1206e68\" xlink:show=\"new\" xlink:title=\"psysml:4b97f70b-21b5-47d0-9b80-bf68f1206e68\" xlink:type=\"simple\"><path d=\"M84.39,99.1 C77.56,115.03 69.63,133.54 63.58,147.66 \" fill=\"none\" id=\"E9&lt;-E10\" style=\"stroke: #383838; stroke-width: 1.0;\"/><polygon fill=\"#FFFFFF\" points=\"89.57,87.01,83.5327,90.9535,84.8509,98.0431,90.8882,94.0996,89.57,87.01\" style=\"stroke: #383838; stroke-width: 1.0;\"/><text fill=\"#000000\" font-family=\"sans-serif\" font-size=\"13\" lengthAdjust=\"spacingAndGlyphs\" textLength=\"8\" x=\"57.0099\" y=\"136.8492\">1</text></a><!--MD5=[feeac5eb423634930294aa81f2d25a4c]\n",
       "link E10 to E3--><a href=\"psysml:890b43d2-a44a-4df9-b863-0c7f323950a1\" target=\"_top\" title=\"psysml:890b43d2-a44a-4df9-b863-0c7f323950a1\" xlink:actuate=\"onRequest\" xlink:href=\"psysml:890b43d2-a44a-4df9-b863-0c7f323950a1\" xlink:show=\"new\" xlink:title=\"psysml:890b43d2-a44a-4df9-b863-0c7f323950a1\" xlink:type=\"simple\"><path d=\"M70.35,194.01 C79.86,206.81 92.11,223.3 103.18,238.2 \" fill=\"none\" id=\"E10-&gt;E3\" style=\"stroke: #383838; stroke-width: 1.0;\"/><polygon fill=\"#FFFFFF\" points=\"115.4,254.66,98.4457,243.5896,109.6805,235.2361,115.4,254.66\" style=\"stroke: #383838; stroke-width: 1.0;\"/><ellipse cx=\"96.6496\" cy=\"237.8221\" fill=\"#383838\" rx=\"2\" ry=\"2\" style=\"stroke: #383838; stroke-width: 1.0;\"/><ellipse cx=\"104.6744\" cy=\"231.8554\" fill=\"#383838\" rx=\"2\" ry=\"2\" style=\"stroke: #383838; stroke-width: 1.0;\"/></a><!--MD5=[1fc04a95fd77ad5ce46c1a3027516051]\n",
       "reverse link E9 to E11--><a href=\"psysml:75cdd26f-47cf-45db-b14e-ba01ceb3edc6\" target=\"_top\" title=\"psysml:75cdd26f-47cf-45db-b14e-ba01ceb3edc6\" xlink:actuate=\"onRequest\" xlink:href=\"psysml:75cdd26f-47cf-45db-b14e-ba01ceb3edc6\" xlink:show=\"new\" xlink:title=\"psysml:75cdd26f-47cf-45db-b14e-ba01ceb3edc6\" xlink:type=\"simple\"><path d=\"M109.87,99.57 C114.84,115.39 120.59,133.68 124.98,147.66 \" fill=\"none\" id=\"E9&lt;-E11\" style=\"stroke: #383838; stroke-width: 1.0;\"/><polygon fill=\"#FFFFFF\" points=\"105.92,87.01,103.9044,93.9337,109.5203,98.4572,111.5359,91.5335,105.92,87.01\" style=\"stroke: #383838; stroke-width: 1.0;\"/><text fill=\"#000000\" font-family=\"sans-serif\" font-size=\"13\" lengthAdjust=\"spacingAndGlyphs\" textLength=\"8\" x=\"114.1561\" y=\"136.8492\">1</text></a><!--MD5=[0517f1ce58c4d5483948f93845c45e26]\n",
       "link E11 to E3--><a href=\"psysml:92dee77c-180b-445a-a05e-737a71661cde\" target=\"_top\" title=\"psysml:92dee77c-180b-445a-a05e-737a71661cde\" xlink:actuate=\"onRequest\" xlink:href=\"psysml:92dee77c-180b-445a-a05e-737a71661cde\" xlink:show=\"new\" xlink:title=\"psysml:92dee77c-180b-445a-a05e-737a71661cde\" xlink:type=\"simple\"><path d=\"M132,194.01 C132,205.69 132,220.46 132,234.28 \" fill=\"none\" id=\"E11-&gt;E3\" style=\"stroke: #383838; stroke-width: 1.0;\"/><polygon fill=\"#FFFFFF\" points=\"132,254.66,125,235.66,139,235.66,132,254.66\" style=\"stroke: #383838; stroke-width: 1.0;\"/><ellipse cx=\"127\" cy=\"229.96\" fill=\"#383838\" rx=\"2\" ry=\"2\" style=\"stroke: #383838; stroke-width: 1.0;\"/><ellipse cx=\"137\" cy=\"229.96\" fill=\"#383838\" rx=\"2\" ry=\"2\" style=\"stroke: #383838; stroke-width: 1.0;\"/></a><!--MD5=[05ecc0ede795db259891427993392044]\n",
       "@startuml\r\n",
       "skinparam linetype polyline\r\n",
       "skinparam monochrome true\r\n",
       "skinparam classbackgroundcolor white\r\n",
       "skinparam shadowing false\r\n",
       "skinparam wrapWidth 300\r\n",
       "hide circle\r\n",
       "\r\n",
       "package \"ItemTest\" as E1  [[psysml:8469bc55-64be-4e75-90cd-bb271a7bb256 ]]  {\r\n",
       "comp usage \"f: A \" as E2  <<(T,blue) item>> [[psysml:6cbf61b0-82f0-477a-9e61-503ee7ef8ab3 ]] {\r\n",
       "}\r\n",
       "comp def \"A\" as E3  <<(T,blue) item  def>> [[psysml:73e4759d-5191-4c8c-b634-f2bc1b43e3a3 ]] {\r\n",
       "}\r\n",
       "comp usage \"b: B \" as E4  <<(T,blue) item>> [[psysml:22dedc78-8a6f-47e7-a1b3-f5299f454177 ]] {\r\n",
       "}\r\n",
       "comp usage \"c: C \" as E5  <<(T,blue) part>> [[psysml:d5b518cb-4e9d-48f6-86e4-811292cf7103 ]] {\r\n",
       "}\r\n",
       "comp def \"<i>B</i>\" as E6  <<(T,blue) item  def>> [[psysml:7fb13a86-95b9-42ac-ac4a-d3cbb2045ff7 ]] {\r\n",
       "}\r\n",
       "comp usage \"<i>a</i>: A \" as E7  <<(T,blue) part>> [[psysml:b4d408e4-c35f-4021-90a0-c54c4c634ca8 ]] {\r\n",
       "}\r\n",
       "comp def \"C\" as E8  <<(T,blue) part  def>> [[psysml:53104107-4f2e-4822-81be-c90629c3152e ]] {\r\n",
       "}\r\n",
       "comp def \"P\" as E9  <<(T,blue) port  def>> [[psysml:96c92d64-4061-42f0-9733-a4ee9bfee5f1 ]] {\r\n",
       "}\r\n",
       "comp usage \"a1: A \" as E10  <<(T,blue) item>> [[psysml:21151bb4-f160-49b9-964a-222b3c2d7b6c ]] {\r\n",
       "}\r\n",
       "comp usage \"a2: A \" as E11  <<(T,blue) item>> [[psysml:048eeab4-ab84-4a9d-8dc8-2b5e8335cff3 ]] {\r\n",
       "}\r\n",
       "}\r\n",
       "E2 - -:|> E3 [[psysml:e70b16f9-62c0-40f3-a087-aa973c352c22 ]] \r\n",
       "E3 *- - \"1\"E4 [[psysml:f5164247-58fc-45c1-bba3-2edebb195fbd ]] \r\n",
       "E3 o- - \"1\"E5 [[psysml:0e10322d-8096-4d1c-ad13-bcf359abd35a ]] \r\n",
       "E4 - -:|> E6 [[psysml:cd799d59-974c-4cd5-b2a4-5d2e853ea550 ]] \r\n",
       "E6 *- - \"1\"E7 [[psysml:f66c29ee-70ba-402f-a3a4-159df7b46130 ]] \r\n",
       "E7 - -:|> E3 [[psysml:4b14459c-c0ea-47eb-ae95-5bdd156140b8 ]] \r\n",
       "E5 - -:|> E8 [[psysml:7f99918d-ef62-497c-9b9a-668f89d0bef4 ]] \r\n",
       "E8 o- - E3 [[psysml:8abdebaf-64f0-40cf-a780-4a21932975d8 ]] : y\r\n",
       "E8 o- - E6 [[psysml:8abdebaf-64f0-40cf-a780-4a21932975d8 ]] : y\r\n",
       "E9 o- - \"1\"E10 [[psysml:4b97f70b-21b5-47d0-9b80-bf68f1206e68 ]] \r\n",
       "E10 - -:|> E3 [[psysml:890b43d2-a44a-4df9-b863-0c7f323950a1 ]] \r\n",
       "E9 o- - \"1\"E11 [[psysml:75cdd26f-47cf-45db-b14e-ba01ceb3edc6 ]] \r\n",
       "E11 - -:|> E3 [[psysml:92dee77c-180b-445a-a05e-737a71661cde ]] \r\n",
       "@enduml\r\n",
       "\n",
       "PlantUML version 1.2020.13(Sat Jun 13 12:26:38 UTC 2020)\n",
       "(EPL source distribution)\n",
       "Java Runtime: OpenJDK Runtime Environment\n",
       "JVM: OpenJDK 64-Bit Server VM\n",
       "Default Encoding: UTF-8\n",
       "Language: en\n",
       "Country: null\n",
       "--></g></svg>"
      ]
     },
     "execution_count": 9,
     "metadata": {},
     "output_type": "execute_result"
    }
   ],
   "source": [
    "%viz --style=\"POLYLINE\" --view=\"Default\" \"ItemTest\""
   ]
  },
  {
   "cell_type": "code",
   "execution_count": 10,
   "id": "38f2ed95",
   "metadata": {
    "execution": {
     "iopub.execute_input": "2022-03-21T07:49:09.381900Z",
     "iopub.status.busy": "2022-03-21T07:49:09.381498Z",
     "iopub.status.idle": "2022-03-21T07:49:09.456090Z",
     "shell.execute_reply": "2022-03-21T07:49:09.456406Z"
    }
   },
   "outputs": [
    {
     "data": {
      "image/svg+xml": [
       "<?xml version=\"1.0\" encoding=\"UTF-8\" standalone=\"no\"?><svg xmlns=\"http://www.w3.org/2000/svg\" xmlns:xlink=\"http://www.w3.org/1999/xlink\" contentScriptType=\"application/ecmascript\" contentStyleType=\"text/css\" height=\"818px\" preserveAspectRatio=\"none\" style=\"width:270px;height:818px;\" version=\"1.1\" viewBox=\"0 0 270 818\" width=\"270px\" zoomAndPan=\"magnify\"><defs/><g><!--MD5=[fbc87193dbaf4d95561dea2c320d4a47]\n",
       "cluster E1--><a href=\"psysml:8469bc55-64be-4e75-90cd-bb271a7bb256\" target=\"_top\" title=\"psysml:8469bc55-64be-4e75-90cd-bb271a7bb256\" xlink:actuate=\"onRequest\" xlink:href=\"psysml:8469bc55-64be-4e75-90cd-bb271a7bb256\" xlink:show=\"new\" xlink:title=\"psysml:8469bc55-64be-4e75-90cd-bb271a7bb256\" xlink:type=\"simple\"><polygon fill=\"#FFFFFF\" points=\"16,6,83,6,90,28.2969,248,28.2969,248,806,16,806,16,6\" style=\"stroke: #000000; stroke-width: 1.5;\"/><line style=\"stroke: #000000; stroke-width: 1.5;\" x1=\"16\" x2=\"90\" y1=\"28.2969\" y2=\"28.2969\"/><text fill=\"#000000\" font-family=\"sans-serif\" font-size=\"14\" font-weight=\"bold\" lengthAdjust=\"spacingAndGlyphs\" textLength=\"61\" x=\"20\" y=\"20.9951\">ItemTest</text></a><!--MD5=[b4997ac47864f28c2f74865a473b2911]\n",
       "class E2--><a href=\"psysml:6cbf61b0-82f0-477a-9e61-503ee7ef8ab3\" target=\"_top\" title=\"psysml:6cbf61b0-82f0-477a-9e61-503ee7ef8ab3\" xlink:actuate=\"onRequest\" xlink:href=\"psysml:6cbf61b0-82f0-477a-9e61-503ee7ef8ab3\" xlink:show=\"new\" xlink:title=\"psysml:6cbf61b0-82f0-477a-9e61-503ee7ef8ab3\" xlink:type=\"simple\"><rect fill=\"#FFFFFF\" height=\"45.9375\" id=\"E2\" rx=\"10\" ry=\"10\" style=\"stroke: #383838; stroke-width: 1.5;\" width=\"43\" x=\"188.5\" y=\"148\"/><text fill=\"#000000\" font-family=\"sans-serif\" font-size=\"12\" font-style=\"italic\" lengthAdjust=\"spacingAndGlyphs\" textLength=\"41\" x=\"189.5\" y=\"164.1387\">«item»</text><text fill=\"#000000\" font-family=\"sans-serif\" font-size=\"12\" lengthAdjust=\"spacingAndGlyphs\" textLength=\"20\" x=\"198\" y=\"178.1074\">f: A</text><line style=\"stroke: #383838; stroke-width: 1.5;\" x1=\"189.5\" x2=\"230.5\" y1=\"185.9375\" y2=\"185.9375\"/></a><!--MD5=[09b614a08d8cba4a07c9adeb5e0fee81]\n",
       "class E3--><a href=\"psysml:73e4759d-5191-4c8c-b634-f2bc1b43e3a3\" target=\"_top\" title=\"psysml:73e4759d-5191-4c8c-b634-f2bc1b43e3a3\" xlink:actuate=\"onRequest\" xlink:href=\"psysml:73e4759d-5191-4c8c-b634-f2bc1b43e3a3\" xlink:show=\"new\" xlink:title=\"psysml:73e4759d-5191-4c8c-b634-f2bc1b43e3a3\" xlink:type=\"simple\"><rect fill=\"#FFFFFF\" height=\"45.9375\" id=\"E3\" style=\"stroke: #383838; stroke-width: 1.5;\" width=\"71\" x=\"96.5\" y=\"255\"/><text fill=\"#000000\" font-family=\"sans-serif\" font-size=\"12\" font-style=\"italic\" lengthAdjust=\"spacingAndGlyphs\" textLength=\"69\" x=\"97.5\" y=\"271.1387\">«item  def»</text><text fill=\"#000000\" font-family=\"sans-serif\" font-size=\"12\" lengthAdjust=\"spacingAndGlyphs\" textLength=\"8\" x=\"128\" y=\"285.1074\">A</text><line style=\"stroke: #383838; stroke-width: 1.5;\" x1=\"97.5\" x2=\"166.5\" y1=\"292.9375\" y2=\"292.9375\"/></a><!--MD5=[ebbe1d658d1005bcc118a6aa81145e00]\n",
       "class E4--><a href=\"psysml:22dedc78-8a6f-47e7-a1b3-f5299f454177\" target=\"_top\" title=\"psysml:22dedc78-8a6f-47e7-a1b3-f5299f454177\" xlink:actuate=\"onRequest\" xlink:href=\"psysml:22dedc78-8a6f-47e7-a1b3-f5299f454177\" xlink:show=\"new\" xlink:title=\"psysml:22dedc78-8a6f-47e7-a1b3-f5299f454177\" xlink:type=\"simple\"><rect fill=\"#FFFFFF\" height=\"45.9375\" id=\"E4\" rx=\"10\" ry=\"10\" style=\"stroke: #383838; stroke-width: 1.5;\" width=\"43\" x=\"45.5\" y=\"438\"/><text fill=\"#000000\" font-family=\"sans-serif\" font-size=\"12\" font-style=\"italic\" lengthAdjust=\"spacingAndGlyphs\" textLength=\"41\" x=\"46.5\" y=\"454.1387\">«item»</text><text fill=\"#000000\" font-family=\"sans-serif\" font-size=\"12\" lengthAdjust=\"spacingAndGlyphs\" textLength=\"24\" x=\"53\" y=\"468.1074\">b: B</text><line style=\"stroke: #383838; stroke-width: 1.5;\" x1=\"46.5\" x2=\"87.5\" y1=\"475.9375\" y2=\"475.9375\"/></a><!--MD5=[270fce915f116d4de14055a7c1d9a0f3]\n",
       "class E5--><a href=\"psysml:d5b518cb-4e9d-48f6-86e4-811292cf7103\" target=\"_top\" title=\"psysml:d5b518cb-4e9d-48f6-86e4-811292cf7103\" xlink:actuate=\"onRequest\" xlink:href=\"psysml:d5b518cb-4e9d-48f6-86e4-811292cf7103\" xlink:show=\"new\" xlink:title=\"psysml:d5b518cb-4e9d-48f6-86e4-811292cf7103\" xlink:type=\"simple\"><rect fill=\"#FFFFFF\" height=\"45.9375\" id=\"E5\" rx=\"10\" ry=\"10\" style=\"stroke: #383838; stroke-width: 1.5;\" width=\"42\" x=\"151\" y=\"362\"/><text fill=\"#000000\" font-family=\"sans-serif\" font-size=\"12\" font-style=\"italic\" lengthAdjust=\"spacingAndGlyphs\" textLength=\"40\" x=\"152\" y=\"378.1387\">«part»</text><text fill=\"#000000\" font-family=\"sans-serif\" font-size=\"12\" lengthAdjust=\"spacingAndGlyphs\" textLength=\"23\" x=\"158.5\" y=\"392.1074\">c: C</text><line style=\"stroke: #383838; stroke-width: 1.5;\" x1=\"152\" x2=\"192\" y1=\"399.9375\" y2=\"399.9375\"/></a><!--MD5=[60a26617385b1d2d0262a64233df1f8d]\n",
       "class E6--><a href=\"psysml:7fb13a86-95b9-42ac-ac4a-d3cbb2045ff7\" target=\"_top\" title=\"psysml:7fb13a86-95b9-42ac-ac4a-d3cbb2045ff7\" xlink:actuate=\"onRequest\" xlink:href=\"psysml:7fb13a86-95b9-42ac-ac4a-d3cbb2045ff7\" xlink:show=\"new\" xlink:title=\"psysml:7fb13a86-95b9-42ac-ac4a-d3cbb2045ff7\" xlink:type=\"simple\"><rect fill=\"#FFFFFF\" height=\"45.9375\" id=\"E6\" style=\"stroke: #383838; stroke-width: 1.5;\" width=\"71\" x=\"112.5\" y=\"637\"/><text fill=\"#000000\" font-family=\"sans-serif\" font-size=\"12\" font-style=\"italic\" lengthAdjust=\"spacingAndGlyphs\" textLength=\"69\" x=\"113.5\" y=\"653.1387\">«item  def»</text><text fill=\"#000000\" font-family=\"sans-serif\" font-size=\"12\" font-style=\"italic\" lengthAdjust=\"spacingAndGlyphs\" textLength=\"8\" x=\"144\" y=\"667.1074\">B</text><line style=\"stroke: #383838; stroke-width: 1.5;\" x1=\"113.5\" x2=\"182.5\" y1=\"674.9375\" y2=\"674.9375\"/></a><!--MD5=[2156ba9850f5573cc1fc38a6a4b2f02b]\n",
       "class E7--><a href=\"psysml:b4d408e4-c35f-4021-90a0-c54c4c634ca8\" target=\"_top\" title=\"psysml:b4d408e4-c35f-4021-90a0-c54c4c634ca8\" xlink:actuate=\"onRequest\" xlink:href=\"psysml:b4d408e4-c35f-4021-90a0-c54c4c634ca8\" xlink:show=\"new\" xlink:title=\"psysml:b4d408e4-c35f-4021-90a0-c54c4c634ca8\" xlink:type=\"simple\"><rect fill=\"#FFFFFF\" height=\"45.9375\" id=\"E7\" rx=\"10\" ry=\"10\" style=\"stroke: #383838; stroke-width: 1.5;\" width=\"42\" x=\"159\" y=\"744\"/><text fill=\"#000000\" font-family=\"sans-serif\" font-size=\"12\" font-style=\"italic\" lengthAdjust=\"spacingAndGlyphs\" textLength=\"40\" x=\"160\" y=\"760.1387\">«part»</text><text fill=\"#000000\" font-family=\"sans-serif\" font-size=\"12\" font-style=\"italic\" lengthAdjust=\"spacingAndGlyphs\" textLength=\"8\" x=\"166\" y=\"774.1074\">a</text><text fill=\"#000000\" font-family=\"sans-serif\" font-size=\"12\" lengthAdjust=\"spacingAndGlyphs\" textLength=\"16\" x=\"174\" y=\"774.1074\">: A</text><line style=\"stroke: #383838; stroke-width: 1.5;\" x1=\"160\" x2=\"200\" y1=\"781.9375\" y2=\"781.9375\"/></a><!--MD5=[b9389687b975829384b498ac4b7476b2]\n",
       "class E8--><a href=\"psysml:53104107-4f2e-4822-81be-c90629c3152e\" target=\"_top\" title=\"psysml:53104107-4f2e-4822-81be-c90629c3152e\" xlink:actuate=\"onRequest\" xlink:href=\"psysml:53104107-4f2e-4822-81be-c90629c3152e\" xlink:show=\"new\" xlink:title=\"psysml:53104107-4f2e-4822-81be-c90629c3152e\" xlink:type=\"simple\"><rect fill=\"#FFFFFF\" height=\"45.9375\" id=\"E8\" style=\"stroke: #383838; stroke-width: 1.5;\" width=\"70\" x=\"113\" y=\"514\"/><text fill=\"#000000\" font-family=\"sans-serif\" font-size=\"12\" font-style=\"italic\" lengthAdjust=\"spacingAndGlyphs\" textLength=\"68\" x=\"114\" y=\"530.1387\">«part  def»</text><text fill=\"#000000\" font-family=\"sans-serif\" font-size=\"12\" lengthAdjust=\"spacingAndGlyphs\" textLength=\"8\" x=\"144\" y=\"544.1074\">C</text><line style=\"stroke: #383838; stroke-width: 1.5;\" x1=\"114\" x2=\"182\" y1=\"551.9375\" y2=\"551.9375\"/></a><!--MD5=[fd4143e9d270a159db93a4ea2a975926]\n",
       "class E9--><a href=\"psysml:96c92d64-4061-42f0-9733-a4ee9bfee5f1\" target=\"_top\" title=\"psysml:96c92d64-4061-42f0-9733-a4ee9bfee5f1\" xlink:actuate=\"onRequest\" xlink:href=\"psysml:96c92d64-4061-42f0-9733-a4ee9bfee5f1\" xlink:show=\"new\" xlink:title=\"psysml:96c92d64-4061-42f0-9733-a4ee9bfee5f1\" xlink:type=\"simple\"><rect fill=\"#FFFFFF\" height=\"45.9375\" id=\"E9\" style=\"stroke: #383838; stroke-width: 1.5;\" width=\"70\" x=\"64\" y=\"41\"/><text fill=\"#000000\" font-family=\"sans-serif\" font-size=\"12\" font-style=\"italic\" lengthAdjust=\"spacingAndGlyphs\" textLength=\"68\" x=\"65\" y=\"57.1387\">«port  def»</text><text fill=\"#000000\" font-family=\"sans-serif\" font-size=\"12\" lengthAdjust=\"spacingAndGlyphs\" textLength=\"8\" x=\"95\" y=\"71.1074\">P</text><line style=\"stroke: #383838; stroke-width: 1.5;\" x1=\"65\" x2=\"133\" y1=\"78.9375\" y2=\"78.9375\"/></a><!--MD5=[96f4274e9e20536e775497830990834d]\n",
       "class E10--><a href=\"psysml:21151bb4-f160-49b9-964a-222b3c2d7b6c\" target=\"_top\" title=\"psysml:21151bb4-f160-49b9-964a-222b3c2d7b6c\" xlink:actuate=\"onRequest\" xlink:href=\"psysml:21151bb4-f160-49b9-964a-222b3c2d7b6c\" xlink:show=\"new\" xlink:title=\"psysml:21151bb4-f160-49b9-964a-222b3c2d7b6c\" xlink:type=\"simple\"><rect fill=\"#FFFFFF\" height=\"45.9375\" id=\"E10\" rx=\"10\" ry=\"10\" style=\"stroke: #383838; stroke-width: 1.5;\" width=\"43\" x=\"32.5\" y=\"148\"/><text fill=\"#000000\" font-family=\"sans-serif\" font-size=\"12\" font-style=\"italic\" lengthAdjust=\"spacingAndGlyphs\" textLength=\"41\" x=\"33.5\" y=\"164.1387\">«item»</text><text fill=\"#000000\" font-family=\"sans-serif\" font-size=\"12\" lengthAdjust=\"spacingAndGlyphs\" textLength=\"32\" x=\"36\" y=\"178.1074\">a1: A</text><line style=\"stroke: #383838; stroke-width: 1.5;\" x1=\"33.5\" x2=\"74.5\" y1=\"185.9375\" y2=\"185.9375\"/></a><!--MD5=[1dd1bfd58a279cf63c5f349dbc8fc6a1]\n",
       "class E11--><a href=\"psysml:048eeab4-ab84-4a9d-8dc8-2b5e8335cff3\" target=\"_top\" title=\"psysml:048eeab4-ab84-4a9d-8dc8-2b5e8335cff3\" xlink:actuate=\"onRequest\" xlink:href=\"psysml:048eeab4-ab84-4a9d-8dc8-2b5e8335cff3\" xlink:show=\"new\" xlink:title=\"psysml:048eeab4-ab84-4a9d-8dc8-2b5e8335cff3\" xlink:type=\"simple\"><rect fill=\"#FFFFFF\" height=\"45.9375\" id=\"E11\" rx=\"10\" ry=\"10\" style=\"stroke: #383838; stroke-width: 1.5;\" width=\"43\" x=\"110.5\" y=\"148\"/><text fill=\"#000000\" font-family=\"sans-serif\" font-size=\"12\" font-style=\"italic\" lengthAdjust=\"spacingAndGlyphs\" textLength=\"41\" x=\"111.5\" y=\"164.1387\">«item»</text><text fill=\"#000000\" font-family=\"sans-serif\" font-size=\"12\" lengthAdjust=\"spacingAndGlyphs\" textLength=\"32\" x=\"114\" y=\"178.1074\">a2: A</text><line style=\"stroke: #383838; stroke-width: 1.5;\" x1=\"111.5\" x2=\"152.5\" y1=\"185.9375\" y2=\"185.9375\"/></a><!--MD5=[2720a5a1f2c3fca2055b230370638851]\n",
       "link E2 to E3--><a href=\"psysml:e70b16f9-62c0-40f3-a087-aa973c352c22\" target=\"_top\" title=\"psysml:e70b16f9-62c0-40f3-a087-aa973c352c22\" xlink:actuate=\"onRequest\" xlink:href=\"psysml:e70b16f9-62c0-40f3-a087-aa973c352c22\" xlink:show=\"new\" xlink:title=\"psysml:e70b16f9-62c0-40f3-a087-aa973c352c22\" xlink:type=\"simple\"><path d=\"M193.65,194.01 C184.14,206.81 171.89,223.3 160.82,238.2 \" fill=\"none\" id=\"E2-&gt;E3\" style=\"stroke: #383838; stroke-width: 1.0;\"/><polygon fill=\"#FFFFFF\" points=\"148.6,254.66,154.3195,235.2361,165.5543,243.5896,148.6,254.66\" style=\"stroke: #383838; stroke-width: 1.0;\"/><ellipse cx=\"159.3256\" cy=\"231.8554\" fill=\"#383838\" rx=\"2\" ry=\"2\" style=\"stroke: #383838; stroke-width: 1.0;\"/><ellipse cx=\"167.3504\" cy=\"237.8221\" fill=\"#383838\" rx=\"2\" ry=\"2\" style=\"stroke: #383838; stroke-width: 1.0;\"/></a><!--MD5=[4672eba38e49728da53d11aeb285b987]\n",
       "reverse link E3 to E4--><a href=\"psysml:f5164247-58fc-45c1-bba3-2edebb195fbd\" target=\"_top\" title=\"psysml:f5164247-58fc-45c1-bba3-2edebb195fbd\" xlink:actuate=\"onRequest\" xlink:href=\"psysml:f5164247-58fc-45c1-bba3-2edebb195fbd\" xlink:show=\"new\" xlink:title=\"psysml:f5164247-58fc-45c1-bba3-2edebb195fbd\" xlink:type=\"simple\"><path d=\"M105.34,311.54 C86.29,334.8 64,362 64,362 C64,362 64,408 64,408 C64,408 64.91,423.77 65.73,437.95 \" fill=\"none\" id=\"E3&lt;-E4\" style=\"stroke: #383838; stroke-width: 1.0;\"/><polygon fill=\"#383838\" points=\"113.78,301.24,106.883,303.3449,106.1733,310.521,113.0703,308.4161,113.78,301.24\" style=\"stroke: #383838; stroke-width: 1.0;\"/><text fill=\"#000000\" font-family=\"sans-serif\" font-size=\"13\" lengthAdjust=\"spacingAndGlyphs\" textLength=\"8\" x=\"56.3137\" y=\"426.8328\">1</text></a><!--MD5=[191cde3d490a3f6d7bb551fe3ddca469]\n",
       "reverse link E3 to E5--><a href=\"psysml:0e10322d-8096-4d1c-ad13-bcf359abd35a\" target=\"_top\" title=\"psysml:0e10322d-8096-4d1c-ad13-bcf359abd35a\" xlink:actuate=\"onRequest\" xlink:href=\"psysml:0e10322d-8096-4d1c-ad13-bcf359abd35a\" xlink:show=\"new\" xlink:title=\"psysml:0e10322d-8096-4d1c-ad13-bcf359abd35a\" xlink:type=\"simple\"><path d=\"M145.17,313.57 C151.2,329.39 158.16,347.68 163.49,361.66 \" fill=\"none\" id=\"E3&lt;-E5\" style=\"stroke: #383838; stroke-width: 1.0;\"/><polygon fill=\"#FFFFFF\" points=\"140.39,301.01,138.7866,308.0406,144.6598,312.2247,146.2631,305.1941,140.39,301.01\" style=\"stroke: #383838; stroke-width: 1.0;\"/><text fill=\"#000000\" font-family=\"sans-serif\" font-size=\"13\" lengthAdjust=\"spacingAndGlyphs\" textLength=\"8\" x=\"152.2843\" y=\"350.8492\">1</text></a><!--MD5=[79568f1e445c3877b6a54524624ccc7d]\n",
       "link E4 to E6--><a href=\"psysml:cd799d59-974c-4cd5-b2a4-5d2e853ea550\" target=\"_top\" title=\"psysml:cd799d59-974c-4cd5-b2a4-5d2e853ea550\" xlink:actuate=\"onRequest\" xlink:href=\"psysml:cd799d59-974c-4cd5-b2a4-5d2e853ea550\" xlink:show=\"new\" xlink:title=\"psysml:cd799d59-974c-4cd5-b2a4-5d2e853ea550\" xlink:type=\"simple\"><path d=\"M73.58,484.24 C82.14,513.15 96,560 96,560 C96,560 112.41,591.24 126.79,618.63 \" fill=\"none\" id=\"E4-&gt;E6\" style=\"stroke: #383838; stroke-width: 1.0;\"/><polygon fill=\"#FFFFFF\" points=\"136.2,636.54,121.1704,622.9713,133.5659,616.4636,136.2,636.54\" style=\"stroke: #383838; stroke-width: 1.0;\"/><ellipse cx=\"120.2916\" cy=\"616.9948\" fill=\"#383838\" rx=\"2\" ry=\"2\" style=\"stroke: #383838; stroke-width: 1.0;\"/><ellipse cx=\"129.1456\" cy=\"612.3465\" fill=\"#383838\" rx=\"2\" ry=\"2\" style=\"stroke: #383838; stroke-width: 1.0;\"/></a><!--MD5=[3f50a3473f1dfb74d3f76443e03635af]\n",
       "reverse link E6 to E7--><a href=\"psysml:f66c29ee-70ba-402f-a3a4-159df7b46130\" target=\"_top\" title=\"psysml:f66c29ee-70ba-402f-a3a4-159df7b46130\" xlink:actuate=\"onRequest\" xlink:href=\"psysml:f66c29ee-70ba-402f-a3a4-159df7b46130\" xlink:show=\"new\" xlink:title=\"psysml:f66c29ee-70ba-402f-a3a4-159df7b46130\" xlink:type=\"simple\"><path d=\"M158.54,695.57 C163.36,711.39 168.93,729.68 173.19,743.66 \" fill=\"none\" id=\"E6&lt;-E7\" style=\"stroke: #383838; stroke-width: 1.0;\"/><polygon fill=\"#383838\" points=\"154.71,683.01,152.6319,689.9152,158.2066,694.4893,160.2847,687.5841,154.71,683.01\" style=\"stroke: #383838; stroke-width: 1.0;\"/><text fill=\"#000000\" font-family=\"sans-serif\" font-size=\"13\" lengthAdjust=\"spacingAndGlyphs\" textLength=\"8\" x=\"162.4199\" y=\"732.8492\">1</text></a><!--MD5=[14ccda38c055a5c0da953d572bc50960]\n",
       "link E7 to E3--><a href=\"psysml:4b14459c-c0ea-47eb-ae95-5bdd156140b8\" target=\"_top\" title=\"psysml:4b14459c-c0ea-47eb-ae95-5bdd156140b8\" xlink:actuate=\"onRequest\" xlink:href=\"psysml:4b14459c-c0ea-47eb-ae95-5bdd156140b8\" xlink:show=\"new\" xlink:title=\"psysml:4b14459c-c0ea-47eb-ae95-5bdd156140b8\" xlink:type=\"simple\"><path d=\"M190.27,743.99 C204.64,713.2 229,661 229,661 C229,384 229,384 229,384 C229,384 211,362 211,362 C211,362 188.27,338.12 167.2,315.98 \" fill=\"none\" id=\"E7-&gt;E3\" style=\"stroke: #383838; stroke-width: 1.0;\"/><polygon fill=\"#FFFFFF\" points=\"153.17,301.24,171.3437,310.1683,161.2072,319.825,153.17,301.24\" style=\"stroke: #383838; stroke-width: 1.0;\"/><ellipse cx=\"173.8273\" cy=\"315.6749\" fill=\"#383838\" rx=\"2\" ry=\"2\" style=\"stroke: #383838; stroke-width: 1.0;\"/><ellipse cx=\"166.5869\" cy=\"322.5725\" fill=\"#383838\" rx=\"2\" ry=\"2\" style=\"stroke: #383838; stroke-width: 1.0;\"/></a><!--MD5=[dfaffb906826c3e5aca635516100ff21]\n",
       "link E5 to E8--><a href=\"psysml:7f99918d-ef62-497c-9b9a-668f89d0bef4\" target=\"_top\" title=\"psysml:7f99918d-ef62-497c-9b9a-668f89d0bef4\" xlink:actuate=\"onRequest\" xlink:href=\"psysml:7f99918d-ef62-497c-9b9a-668f89d0bef4\" xlink:show=\"new\" xlink:title=\"psysml:7f99918d-ef62-497c-9b9a-668f89d0bef4\" xlink:type=\"simple\"><path d=\"M168.46,408.13 C164.86,430.62 159.2,466.01 154.74,493.87 \" fill=\"none\" id=\"E5-&gt;E8\" style=\"stroke: #383838; stroke-width: 1.0;\"/><polygon fill=\"#FFFFFF\" points=\"151.56,513.78,147.6458,493.9135,161.4704,496.1226,151.56,513.78\" style=\"stroke: #383838; stroke-width: 1.0;\"/><ellipse cx=\"150.5202\" cy=\"488.6005\" fill=\"#383838\" rx=\"2\" ry=\"2\" style=\"stroke: #383838; stroke-width: 1.0;\"/><ellipse cx=\"160.3949\" cy=\"490.1784\" fill=\"#383838\" rx=\"2\" ry=\"2\" style=\"stroke: #383838; stroke-width: 1.0;\"/></a><!--MD5=[03c8294790d3c57651a1993cecff665f]\n",
       "reverse link E8 to E3--><a href=\"psysml:8abdebaf-64f0-40cf-a780-4a21932975d8\" target=\"_top\" title=\"psysml:8abdebaf-64f0-40cf-a780-4a21932975d8\" xlink:actuate=\"onRequest\" xlink:href=\"psysml:8abdebaf-64f0-40cf-a780-4a21932975d8\" xlink:show=\"new\" xlink:title=\"psysml:8abdebaf-64f0-40cf-a780-4a21932975d8\" xlink:type=\"simple\"><path d=\"M141.7,500.94 C134.89,463.05 125,408 125,408 C125,408 125,362 125,362 C125,362 128.05,325.83 130.12,301.24 \" fill=\"none\" id=\"E8&lt;-E3\" style=\"stroke: #383838; stroke-width: 1.0;\"/><polygon fill=\"#FFFFFF\" points=\"144.05,514,146.9258,507.3872,141.9277,502.1892,139.0519,508.802,144.05,514\" style=\"stroke: #383838; stroke-width: 1.0;\"/><text fill=\"#000000\" font-family=\"sans-serif\" font-size=\"13\" lengthAdjust=\"spacingAndGlyphs\" textLength=\"7\" x=\"126\" y=\"389.5669\">y</text></a><!--MD5=[0d75d2178373a6a4568e5dc728f58aef]\n",
       "reverse link E8 to E6--><a href=\"psysml:8abdebaf-64f0-40cf-a780-4a21932975d8\" target=\"_top\" title=\"psysml:8abdebaf-64f0-40cf-a780-4a21932975d8\" xlink:actuate=\"onRequest\" xlink:href=\"psysml:8abdebaf-64f0-40cf-a780-4a21932975d8\" xlink:show=\"new\" xlink:title=\"psysml:8abdebaf-64f0-40cf-a780-4a21932975d8\" xlink:type=\"simple\"><path d=\"M148,573.22 C148,593.81 148,619.16 148,636.95 \" fill=\"none\" id=\"E8&lt;-E6\" style=\"stroke: #383838; stroke-width: 1.0;\"/><polygon fill=\"#FFFFFF\" points=\"148,560.19,144,566.19,148,572.19,152,566.19,148,560.19\" style=\"stroke: #383838; stroke-width: 1.0;\"/><text fill=\"#000000\" font-family=\"sans-serif\" font-size=\"13\" lengthAdjust=\"spacingAndGlyphs\" textLength=\"7\" x=\"149\" y=\"603.0669\">y</text></a><!--MD5=[23ac544a70576c3e717098101004234c]\n",
       "reverse link E9 to E10--><a href=\"psysml:4b97f70b-21b5-47d0-9b80-bf68f1206e68\" target=\"_top\" title=\"psysml:4b97f70b-21b5-47d0-9b80-bf68f1206e68\" xlink:actuate=\"onRequest\" xlink:href=\"psysml:4b97f70b-21b5-47d0-9b80-bf68f1206e68\" xlink:show=\"new\" xlink:title=\"psysml:4b97f70b-21b5-47d0-9b80-bf68f1206e68\" xlink:type=\"simple\"><path d=\"M84.39,99.1 C77.56,115.03 69.63,133.54 63.58,147.66 \" fill=\"none\" id=\"E9&lt;-E10\" style=\"stroke: #383838; stroke-width: 1.0;\"/><polygon fill=\"#FFFFFF\" points=\"89.57,87.01,83.5327,90.9535,84.8509,98.0431,90.8882,94.0996,89.57,87.01\" style=\"stroke: #383838; stroke-width: 1.0;\"/><text fill=\"#000000\" font-family=\"sans-serif\" font-size=\"13\" lengthAdjust=\"spacingAndGlyphs\" textLength=\"8\" x=\"57.0099\" y=\"136.8492\">1</text></a><!--MD5=[feeac5eb423634930294aa81f2d25a4c]\n",
       "link E10 to E3--><a href=\"psysml:890b43d2-a44a-4df9-b863-0c7f323950a1\" target=\"_top\" title=\"psysml:890b43d2-a44a-4df9-b863-0c7f323950a1\" xlink:actuate=\"onRequest\" xlink:href=\"psysml:890b43d2-a44a-4df9-b863-0c7f323950a1\" xlink:show=\"new\" xlink:title=\"psysml:890b43d2-a44a-4df9-b863-0c7f323950a1\" xlink:type=\"simple\"><path d=\"M70.35,194.01 C79.86,206.81 92.11,223.3 103.18,238.2 \" fill=\"none\" id=\"E10-&gt;E3\" style=\"stroke: #383838; stroke-width: 1.0;\"/><polygon fill=\"#FFFFFF\" points=\"115.4,254.66,98.4457,243.5896,109.6805,235.2361,115.4,254.66\" style=\"stroke: #383838; stroke-width: 1.0;\"/><ellipse cx=\"96.6496\" cy=\"237.8221\" fill=\"#383838\" rx=\"2\" ry=\"2\" style=\"stroke: #383838; stroke-width: 1.0;\"/><ellipse cx=\"104.6744\" cy=\"231.8554\" fill=\"#383838\" rx=\"2\" ry=\"2\" style=\"stroke: #383838; stroke-width: 1.0;\"/></a><!--MD5=[1fc04a95fd77ad5ce46c1a3027516051]\n",
       "reverse link E9 to E11--><a href=\"psysml:75cdd26f-47cf-45db-b14e-ba01ceb3edc6\" target=\"_top\" title=\"psysml:75cdd26f-47cf-45db-b14e-ba01ceb3edc6\" xlink:actuate=\"onRequest\" xlink:href=\"psysml:75cdd26f-47cf-45db-b14e-ba01ceb3edc6\" xlink:show=\"new\" xlink:title=\"psysml:75cdd26f-47cf-45db-b14e-ba01ceb3edc6\" xlink:type=\"simple\"><path d=\"M109.87,99.57 C114.84,115.39 120.59,133.68 124.98,147.66 \" fill=\"none\" id=\"E9&lt;-E11\" style=\"stroke: #383838; stroke-width: 1.0;\"/><polygon fill=\"#FFFFFF\" points=\"105.92,87.01,103.9044,93.9337,109.5203,98.4572,111.5359,91.5335,105.92,87.01\" style=\"stroke: #383838; stroke-width: 1.0;\"/><text fill=\"#000000\" font-family=\"sans-serif\" font-size=\"13\" lengthAdjust=\"spacingAndGlyphs\" textLength=\"8\" x=\"114.1561\" y=\"136.8492\">1</text></a><!--MD5=[0517f1ce58c4d5483948f93845c45e26]\n",
       "link E11 to E3--><a href=\"psysml:92dee77c-180b-445a-a05e-737a71661cde\" target=\"_top\" title=\"psysml:92dee77c-180b-445a-a05e-737a71661cde\" xlink:actuate=\"onRequest\" xlink:href=\"psysml:92dee77c-180b-445a-a05e-737a71661cde\" xlink:show=\"new\" xlink:title=\"psysml:92dee77c-180b-445a-a05e-737a71661cde\" xlink:type=\"simple\"><path d=\"M132,194.01 C132,205.69 132,220.46 132,234.28 \" fill=\"none\" id=\"E11-&gt;E3\" style=\"stroke: #383838; stroke-width: 1.0;\"/><polygon fill=\"#FFFFFF\" points=\"132,254.66,125,235.66,139,235.66,132,254.66\" style=\"stroke: #383838; stroke-width: 1.0;\"/><ellipse cx=\"127\" cy=\"229.96\" fill=\"#383838\" rx=\"2\" ry=\"2\" style=\"stroke: #383838; stroke-width: 1.0;\"/><ellipse cx=\"137\" cy=\"229.96\" fill=\"#383838\" rx=\"2\" ry=\"2\" style=\"stroke: #383838; stroke-width: 1.0;\"/></a><!--MD5=[05ecc0ede795db259891427993392044]\n",
       "@startuml\r\n",
       "skinparam linetype polyline\r\n",
       "skinparam monochrome true\r\n",
       "skinparam classbackgroundcolor white\r\n",
       "skinparam shadowing false\r\n",
       "skinparam wrapWidth 300\r\n",
       "hide circle\r\n",
       "\r\n",
       "package \"ItemTest\" as E1  [[psysml:8469bc55-64be-4e75-90cd-bb271a7bb256 ]]  {\r\n",
       "comp usage \"f: A \" as E2  <<(T,blue) item>> [[psysml:6cbf61b0-82f0-477a-9e61-503ee7ef8ab3 ]] {\r\n",
       "}\r\n",
       "comp def \"A\" as E3  <<(T,blue) item  def>> [[psysml:73e4759d-5191-4c8c-b634-f2bc1b43e3a3 ]] {\r\n",
       "}\r\n",
       "comp usage \"b: B \" as E4  <<(T,blue) item>> [[psysml:22dedc78-8a6f-47e7-a1b3-f5299f454177 ]] {\r\n",
       "}\r\n",
       "comp usage \"c: C \" as E5  <<(T,blue) part>> [[psysml:d5b518cb-4e9d-48f6-86e4-811292cf7103 ]] {\r\n",
       "}\r\n",
       "comp def \"<i>B</i>\" as E6  <<(T,blue) item  def>> [[psysml:7fb13a86-95b9-42ac-ac4a-d3cbb2045ff7 ]] {\r\n",
       "}\r\n",
       "comp usage \"<i>a</i>: A \" as E7  <<(T,blue) part>> [[psysml:b4d408e4-c35f-4021-90a0-c54c4c634ca8 ]] {\r\n",
       "}\r\n",
       "comp def \"C\" as E8  <<(T,blue) part  def>> [[psysml:53104107-4f2e-4822-81be-c90629c3152e ]] {\r\n",
       "}\r\n",
       "comp def \"P\" as E9  <<(T,blue) port  def>> [[psysml:96c92d64-4061-42f0-9733-a4ee9bfee5f1 ]] {\r\n",
       "}\r\n",
       "comp usage \"a1: A \" as E10  <<(T,blue) item>> [[psysml:21151bb4-f160-49b9-964a-222b3c2d7b6c ]] {\r\n",
       "}\r\n",
       "comp usage \"a2: A \" as E11  <<(T,blue) item>> [[psysml:048eeab4-ab84-4a9d-8dc8-2b5e8335cff3 ]] {\r\n",
       "}\r\n",
       "}\r\n",
       "E2 - -:|> E3 [[psysml:e70b16f9-62c0-40f3-a087-aa973c352c22 ]] \r\n",
       "E3 *- - \"1\"E4 [[psysml:f5164247-58fc-45c1-bba3-2edebb195fbd ]] \r\n",
       "E3 o- - \"1\"E5 [[psysml:0e10322d-8096-4d1c-ad13-bcf359abd35a ]] \r\n",
       "E4 - -:|> E6 [[psysml:cd799d59-974c-4cd5-b2a4-5d2e853ea550 ]] \r\n",
       "E6 *- - \"1\"E7 [[psysml:f66c29ee-70ba-402f-a3a4-159df7b46130 ]] \r\n",
       "E7 - -:|> E3 [[psysml:4b14459c-c0ea-47eb-ae95-5bdd156140b8 ]] \r\n",
       "E5 - -:|> E8 [[psysml:7f99918d-ef62-497c-9b9a-668f89d0bef4 ]] \r\n",
       "E8 o- - E3 [[psysml:8abdebaf-64f0-40cf-a780-4a21932975d8 ]] : y\r\n",
       "E8 o- - E6 [[psysml:8abdebaf-64f0-40cf-a780-4a21932975d8 ]] : y\r\n",
       "E9 o- - \"1\"E10 [[psysml:4b97f70b-21b5-47d0-9b80-bf68f1206e68 ]] \r\n",
       "E10 - -:|> E3 [[psysml:890b43d2-a44a-4df9-b863-0c7f323950a1 ]] \r\n",
       "E9 o- - \"1\"E11 [[psysml:75cdd26f-47cf-45db-b14e-ba01ceb3edc6 ]] \r\n",
       "E11 - -:|> E3 [[psysml:92dee77c-180b-445a-a05e-737a71661cde ]] \r\n",
       "@enduml\r\n",
       "\n",
       "PlantUML version 1.2020.13(Sat Jun 13 12:26:38 UTC 2020)\n",
       "(EPL source distribution)\n",
       "Java Runtime: OpenJDK Runtime Environment\n",
       "JVM: OpenJDK 64-Bit Server VM\n",
       "Default Encoding: UTF-8\n",
       "Language: en\n",
       "Country: null\n",
       "--></g></svg>"
      ]
     },
     "execution_count": 10,
     "metadata": {},
     "output_type": "execute_result"
    }
   ],
   "source": [
    "%viz --style=\"POLYLINE\" --view=\"Tree\" \"ItemTest\""
   ]
  },
  {
   "cell_type": "code",
   "execution_count": 11,
   "id": "dded65e1",
   "metadata": {
    "execution": {
     "iopub.execute_input": "2022-03-21T07:49:09.506458Z",
     "iopub.status.busy": "2022-03-21T07:49:09.506048Z",
     "iopub.status.idle": "2022-03-21T07:49:09.511613Z",
     "shell.execute_reply": "2022-03-21T07:49:09.511924Z"
    }
   },
   "outputs": [
    {
     "data": {
      "image/svg+xml": [
       "<?xml version=\"1.0\" encoding=\"UTF-8\" standalone=\"no\"?><svg xmlns=\"http://www.w3.org/2000/svg\" xmlns:xlink=\"http://www.w3.org/1999/xlink\" contentScriptType=\"application/ecmascript\" contentStyleType=\"text/css\" height=\"12px\" preserveAspectRatio=\"none\" style=\"width:12px;height:12px;\" version=\"1.1\" viewBox=\"0 0 12 12\" width=\"12px\" zoomAndPan=\"magnify\"><defs/><g><!--MD5=[896ac0e7a515d8dd7765a661cb4ee08b]\n",
       "@startuml\r\n",
       "skinparam linetype polyline\r\n",
       "skinparam monochrome true\r\n",
       "skinparam classbackgroundcolor white\r\n",
       "skinparam shadowing false\r\n",
       "skinparam wrapWidth 300\r\n",
       "hide circle\r\n",
       "\r\n",
       "@enduml\r\n",
       "\n",
       "PlantUML version 1.2020.13(Sat Jun 13 12:26:38 UTC 2020)\n",
       "(EPL source distribution)\n",
       "Java Runtime: OpenJDK Runtime Environment\n",
       "JVM: OpenJDK 64-Bit Server VM\n",
       "Default Encoding: UTF-8\n",
       "Language: en\n",
       "Country: null\n",
       "--></g></svg>"
      ]
     },
     "execution_count": 11,
     "metadata": {},
     "output_type": "execute_result"
    }
   ],
   "source": [
    "%viz --style=\"POLYLINE\" --view=\"State\" \"ItemTest\""
   ]
  },
  {
   "cell_type": "code",
   "execution_count": 12,
   "id": "c2b1a611",
   "metadata": {
    "execution": {
     "iopub.execute_input": "2022-03-21T07:49:09.562101Z",
     "iopub.status.busy": "2022-03-21T07:49:09.561702Z",
     "iopub.status.idle": "2022-03-21T07:49:09.589091Z",
     "shell.execute_reply": "2022-03-21T07:49:09.588734Z"
    }
   },
   "outputs": [
    {
     "data": {
      "image/svg+xml": [
       "<?xml version=\"1.0\" encoding=\"UTF-8\" standalone=\"no\"?><svg xmlns=\"http://www.w3.org/2000/svg\" xmlns:xlink=\"http://www.w3.org/1999/xlink\" contentScriptType=\"application/ecmascript\" contentStyleType=\"text/css\" height=\"112px\" preserveAspectRatio=\"none\" style=\"width:563px;height:112px;\" version=\"1.1\" viewBox=\"0 0 563 112\" width=\"563px\" zoomAndPan=\"magnify\"><defs/><g><!--MD5=[fbc87193dbaf4d95561dea2c320d4a47]\n",
       "cluster E1--><a href=\"psysml:8469bc55-64be-4e75-90cd-bb271a7bb256\" target=\"_top\" title=\"psysml:8469bc55-64be-4e75-90cd-bb271a7bb256\" xlink:actuate=\"onRequest\" xlink:href=\"psysml:8469bc55-64be-4e75-90cd-bb271a7bb256\" xlink:show=\"new\" xlink:title=\"psysml:8469bc55-64be-4e75-90cd-bb271a7bb256\" xlink:type=\"simple\"><polygon fill=\"#FFFFFF\" points=\"16,6,83,6,90,28.2969,541,28.2969,541,100,16,100,16,6\" style=\"stroke: #000000; stroke-width: 1.5;\"/><line style=\"stroke: #000000; stroke-width: 1.5;\" x1=\"16\" x2=\"90\" y1=\"28.2969\" y2=\"28.2969\"/><text fill=\"#000000\" font-family=\"sans-serif\" font-size=\"14\" font-weight=\"bold\" lengthAdjust=\"spacingAndGlyphs\" textLength=\"61\" x=\"20\" y=\"20.9951\">ItemTest</text></a><g id=\"E1.E3\"><a href=\"psysml:73e4759d-5191-4c8c-b634-f2bc1b43e3a3\" target=\"_top\" title=\"psysml:73e4759d-5191-4c8c-b634-f2bc1b43e3a3\" xlink:actuate=\"onRequest\" xlink:href=\"psysml:73e4759d-5191-4c8c-b634-f2bc1b43e3a3\" xlink:show=\"new\" xlink:title=\"psysml:73e4759d-5191-4c8c-b634-f2bc1b43e3a3\" xlink:type=\"simple\"><rect fill=\"#FFFFFF\" height=\"42.9375\" id=\"E3\" style=\"stroke: #383838; stroke-width: 1.5;\" width=\"76\" x=\"449\" y=\"41\"/><rect fill=\"#F8F8F8\" height=\"37.9375\" style=\"stroke: #383838; stroke-width: 1.5;\" width=\"76\" x=\"449\" y=\"41\"/><text fill=\"#000000\" font-family=\"sans-serif\" font-size=\"12\" font-style=\"italic\" lengthAdjust=\"spacingAndGlyphs\" textLength=\"69\" x=\"452.5\" y=\"57.1387\">«item  def»</text><text fill=\"#000000\" font-family=\"sans-serif\" font-size=\"12\" lengthAdjust=\"spacingAndGlyphs\" textLength=\"8\" x=\"483\" y=\"71.1074\">A</text></a></g><g id=\"E1.E4\"><a href=\"psysml:7fb13a86-95b9-42ac-ac4a-d3cbb2045ff7\" target=\"_top\" title=\"psysml:7fb13a86-95b9-42ac-ac4a-d3cbb2045ff7\" xlink:actuate=\"onRequest\" xlink:href=\"psysml:7fb13a86-95b9-42ac-ac4a-d3cbb2045ff7\" xlink:show=\"new\" xlink:title=\"psysml:7fb13a86-95b9-42ac-ac4a-d3cbb2045ff7\" xlink:type=\"simple\"><rect fill=\"#FFFFFF\" height=\"42.9375\" id=\"E4\" style=\"stroke: #383838; stroke-width: 1.5;\" width=\"76\" x=\"338\" y=\"41\"/><rect fill=\"#F8F8F8\" height=\"37.9375\" style=\"stroke: #383838; stroke-width: 1.5;\" width=\"76\" x=\"338\" y=\"41\"/><text fill=\"#000000\" font-family=\"sans-serif\" font-size=\"12\" font-style=\"italic\" lengthAdjust=\"spacingAndGlyphs\" textLength=\"69\" x=\"341.5\" y=\"57.1387\">«item  def»</text><text fill=\"#000000\" font-family=\"sans-serif\" font-size=\"12\" font-style=\"italic\" lengthAdjust=\"spacingAndGlyphs\" textLength=\"8\" x=\"372\" y=\"71.1074\">B</text></a></g><g id=\"E1.E6\"><a href=\"psysml:96c92d64-4061-42f0-9733-a4ee9bfee5f1\" target=\"_top\" title=\"psysml:96c92d64-4061-42f0-9733-a4ee9bfee5f1\" xlink:actuate=\"onRequest\" xlink:href=\"psysml:96c92d64-4061-42f0-9733-a4ee9bfee5f1\" xlink:show=\"new\" xlink:title=\"psysml:96c92d64-4061-42f0-9733-a4ee9bfee5f1\" xlink:type=\"simple\"><rect fill=\"#FFFFFF\" height=\"42.9375\" id=\"E6\" style=\"stroke: #383838; stroke-width: 1.5;\" width=\"75\" x=\"227.5\" y=\"41\"/><rect fill=\"#F8F8F8\" height=\"37.9375\" style=\"stroke: #383838; stroke-width: 1.5;\" width=\"75\" x=\"227.5\" y=\"41\"/><text fill=\"#000000\" font-family=\"sans-serif\" font-size=\"12\" font-style=\"italic\" lengthAdjust=\"spacingAndGlyphs\" textLength=\"68\" x=\"231\" y=\"57.1387\">«port  def»</text><text fill=\"#000000\" font-family=\"sans-serif\" font-size=\"12\" lengthAdjust=\"spacingAndGlyphs\" textLength=\"8\" x=\"261\" y=\"71.1074\">P</text></a></g><g id=\"E1.E2\"><a href=\"psysml:6cbf61b0-82f0-477a-9e61-503ee7ef8ab3\" target=\"_top\" title=\"psysml:6cbf61b0-82f0-477a-9e61-503ee7ef8ab3\" xlink:actuate=\"onRequest\" xlink:href=\"psysml:6cbf61b0-82f0-477a-9e61-503ee7ef8ab3\" xlink:show=\"new\" xlink:title=\"psysml:6cbf61b0-82f0-477a-9e61-503ee7ef8ab3\" xlink:type=\"simple\"><rect fill=\"#FFFFFF\" height=\"42.9375\" id=\"E2\" rx=\"10\" ry=\"10\" style=\"stroke: #383838; stroke-width: 1.5;\" width=\"50\" x=\"142\" y=\"41\"/><rect fill=\"#F8F8F8\" height=\"37.9375\" rx=\"10\" ry=\"10\" style=\"stroke: #F8F8F8; stroke-width: 1.5;\" width=\"50\" x=\"142\" y=\"41\"/><rect fill=\"#F8F8F8\" height=\"10\" style=\"stroke: #F8F8F8; stroke-width: 1.5;\" width=\"50\" x=\"142\" y=\"68.9375\"/><rect fill=\"none\" height=\"42.9375\" id=\"E2\" rx=\"10\" ry=\"10\" style=\"stroke: #383838; stroke-width: 1.5;\" width=\"50\" x=\"142\" y=\"41\"/><text fill=\"#000000\" font-family=\"sans-serif\" font-size=\"12\" font-style=\"italic\" lengthAdjust=\"spacingAndGlyphs\" textLength=\"41\" x=\"146.5\" y=\"57.1387\">«item»</text><text fill=\"#000000\" font-family=\"sans-serif\" font-size=\"12\" lengthAdjust=\"spacingAndGlyphs\" textLength=\"20\" x=\"157\" y=\"71.1074\">f: A</text></a></g><g id=\"E1.E5\"><a href=\"psysml:53104107-4f2e-4822-81be-c90629c3152e\" target=\"_top\" title=\"psysml:53104107-4f2e-4822-81be-c90629c3152e\" xlink:actuate=\"onRequest\" xlink:href=\"psysml:53104107-4f2e-4822-81be-c90629c3152e\" xlink:show=\"new\" xlink:title=\"psysml:53104107-4f2e-4822-81be-c90629c3152e\" xlink:type=\"simple\"><rect fill=\"#FFFFFF\" height=\"42.9375\" id=\"E5\" style=\"stroke: #383838; stroke-width: 1.5;\" width=\"75\" x=\"31.5\" y=\"41\"/><rect fill=\"#F8F8F8\" height=\"37.9375\" style=\"stroke: #383838; stroke-width: 1.5;\" width=\"75\" x=\"31.5\" y=\"41\"/><text fill=\"#000000\" font-family=\"sans-serif\" font-size=\"12\" font-style=\"italic\" lengthAdjust=\"spacingAndGlyphs\" textLength=\"68\" x=\"35\" y=\"57.1387\">«part  def»</text><text fill=\"#000000\" font-family=\"sans-serif\" font-size=\"12\" lengthAdjust=\"spacingAndGlyphs\" textLength=\"8\" x=\"65\" y=\"71.1074\">C</text></a></g><!--MD5=[9efbdf4a0bf14b22ab8356fdf8e7b7ef]\n",
       "@startuml\r\n",
       "skinparam ranksep 10\r\n",
       "skinparam rectangle {\r\n",
       " backgroundColor<<block>> LightGreen\r\n",
       "}\r\n",
       "skinparam linetype polyline\r\n",
       "skinparam monochrome true\r\n",
       "skinparam classbackgroundcolor white\r\n",
       "skinparam shadowing false\r\n",
       "skinparam wrapWidth 300\r\n",
       "hide circle\r\n",
       "\r\n",
       "package \"ItemTest\" as E1  [[psysml:8469bc55-64be-4e75-90cd-bb271a7bb256 ]]  {\r\n",
       "rec usage \"f: A\" as E2  <<(T,blue) item>> [[psysml:6cbf61b0-82f0-477a-9e61-503ee7ef8ab3 ]] {\r\n",
       "}\r\n",
       "def \"A\" as E3  <<(T,blue) item  def>> [[psysml:73e4759d-5191-4c8c-b634-f2bc1b43e3a3 ]] \r\n",
       "def \"<i>B</i>\" as E4  <<(T,blue) item  def>> [[psysml:7fb13a86-95b9-42ac-ac4a-d3cbb2045ff7 ]] \r\n",
       "rec def \"C\" as E5  <<(T,blue) part  def>> [[psysml:53104107-4f2e-4822-81be-c90629c3152e ]] {\r\n",
       "}\r\n",
       "def \"P\" as E6  <<(T,blue) port  def>> [[psysml:96c92d64-4061-42f0-9733-a4ee9bfee5f1 ]] \r\n",
       "}\r\n",
       "@enduml\r\n",
       "\n",
       "PlantUML version 1.2020.13(Sat Jun 13 12:26:38 UTC 2020)\n",
       "(EPL source distribution)\n",
       "Java Runtime: OpenJDK Runtime Environment\n",
       "JVM: OpenJDK 64-Bit Server VM\n",
       "Default Encoding: UTF-8\n",
       "Language: en\n",
       "Country: null\n",
       "--></g></svg>"
      ]
     },
     "execution_count": 12,
     "metadata": {},
     "output_type": "execute_result"
    }
   ],
   "source": [
    "%viz --style=\"POLYLINE\" --view=\"Interconnection\" \"ItemTest\""
   ]
  },
  {
   "cell_type": "code",
   "execution_count": 13,
   "id": "4a1ebce4",
   "metadata": {
    "execution": {
     "iopub.execute_input": "2022-03-21T07:49:09.639006Z",
     "iopub.status.busy": "2022-03-21T07:49:09.638574Z",
     "iopub.status.idle": "2022-03-21T07:49:09.644391Z",
     "shell.execute_reply": "2022-03-21T07:49:09.644724Z"
    }
   },
   "outputs": [
    {
     "data": {
      "image/svg+xml": [
       "<?xml version=\"1.0\" encoding=\"UTF-8\" standalone=\"no\"?><svg xmlns=\"http://www.w3.org/2000/svg\" xmlns:xlink=\"http://www.w3.org/1999/xlink\" contentScriptType=\"application/ecmascript\" contentStyleType=\"text/css\" height=\"12px\" preserveAspectRatio=\"none\" style=\"width:12px;height:12px;\" version=\"1.1\" viewBox=\"0 0 12 12\" width=\"12px\" zoomAndPan=\"magnify\"><defs/><g><!--MD5=[97bbf32f66ccd50cbc40d92ea8f5a65e]\n",
       "@startuml\r\n",
       "skinparam ranksep 8\r\n",
       "skinparam linetype polyline\r\n",
       "skinparam monochrome true\r\n",
       "skinparam classbackgroundcolor white\r\n",
       "skinparam shadowing false\r\n",
       "skinparam wrapWidth 300\r\n",
       "hide circle\r\n",
       "\r\n",
       "@enduml\r\n",
       "\n",
       "PlantUML version 1.2020.13(Sat Jun 13 12:26:38 UTC 2020)\n",
       "(EPL source distribution)\n",
       "Java Runtime: OpenJDK Runtime Environment\n",
       "JVM: OpenJDK 64-Bit Server VM\n",
       "Default Encoding: UTF-8\n",
       "Language: en\n",
       "Country: null\n",
       "--></g></svg>"
      ]
     },
     "execution_count": 13,
     "metadata": {},
     "output_type": "execute_result"
    }
   ],
   "source": [
    "%viz --style=\"POLYLINE\" --view=\"Action\" \"ItemTest\""
   ]
  },
  {
   "cell_type": "code",
   "execution_count": 14,
   "id": "44338173",
   "metadata": {
    "execution": {
     "iopub.execute_input": "2022-03-21T07:49:09.694816Z",
     "iopub.status.busy": "2022-03-21T07:49:09.694394Z",
     "iopub.status.idle": "2022-03-21T07:49:09.700256Z",
     "shell.execute_reply": "2022-03-21T07:49:09.700553Z"
    }
   },
   "outputs": [
    {
     "data": {
      "image/svg+xml": [
       "<?xml version=\"1.0\" encoding=\"UTF-8\" standalone=\"no\"?><svg xmlns=\"http://www.w3.org/2000/svg\" xmlns:xlink=\"http://www.w3.org/1999/xlink\" contentScriptType=\"application/ecmascript\" contentStyleType=\"text/css\" height=\"12px\" preserveAspectRatio=\"none\" style=\"width:12px;height:12px;\" version=\"1.1\" viewBox=\"0 0 12 12\" width=\"12px\" zoomAndPan=\"magnify\"><defs/><g><!--MD5=[dc938048236c351797870c36b62f92ad]\n",
       "@startuml\r\n",
       "skinparam roundcorner 20\r\n",
       "skinparam BoxPadding 20\r\n",
       "skinparam SequenceBoxBackgroundColor #white\r\n",
       "skinparam style strictuml\r\n",
       "skinparam maxMessageSize 100\r\n",
       "skinparam linetype polyline\r\n",
       "skinparam monochrome true\r\n",
       "skinparam classbackgroundcolor white\r\n",
       "skinparam shadowing false\r\n",
       "skinparam wrapWidth 300\r\n",
       "hide circle\r\n",
       "\r\n",
       "@enduml\r\n",
       "\n",
       "PlantUML version 1.2020.13(Sat Jun 13 12:26:38 UTC 2020)\n",
       "(EPL source distribution)\n",
       "Java Runtime: OpenJDK Runtime Environment\n",
       "JVM: OpenJDK 64-Bit Server VM\n",
       "Default Encoding: UTF-8\n",
       "Language: en\n",
       "Country: null\n",
       "--></g></svg>"
      ]
     },
     "execution_count": 14,
     "metadata": {},
     "output_type": "execute_result"
    }
   ],
   "source": [
    "%viz --style=\"POLYLINE\" --view=\"Sequence\" \"ItemTest\""
   ]
  },
  {
   "cell_type": "code",
   "execution_count": 15,
   "id": "0e2a5d81",
   "metadata": {
    "execution": {
     "iopub.execute_input": "2022-03-21T07:49:09.750579Z",
     "iopub.status.busy": "2022-03-21T07:49:09.750168Z",
     "iopub.status.idle": "2022-03-21T07:49:09.808875Z",
     "shell.execute_reply": "2022-03-21T07:49:09.808498Z"
    }
   },
   "outputs": [
    {
     "data": {
      "image/svg+xml": [
       "<?xml version=\"1.0\" encoding=\"UTF-8\" standalone=\"no\"?><svg xmlns=\"http://www.w3.org/2000/svg\" xmlns:xlink=\"http://www.w3.org/1999/xlink\" contentScriptType=\"application/ecmascript\" contentStyleType=\"text/css\" height=\"818px\" preserveAspectRatio=\"none\" style=\"width:270px;height:818px;\" version=\"1.1\" viewBox=\"0 0 270 818\" width=\"270px\" zoomAndPan=\"magnify\"><defs/><g><!--MD5=[fbc87193dbaf4d95561dea2c320d4a47]\n",
       "cluster E1--><a href=\"psysml:8469bc55-64be-4e75-90cd-bb271a7bb256\" target=\"_top\" title=\"psysml:8469bc55-64be-4e75-90cd-bb271a7bb256\" xlink:actuate=\"onRequest\" xlink:href=\"psysml:8469bc55-64be-4e75-90cd-bb271a7bb256\" xlink:show=\"new\" xlink:title=\"psysml:8469bc55-64be-4e75-90cd-bb271a7bb256\" xlink:type=\"simple\"><polygon fill=\"#FFFFFF\" points=\"16,6,83,6,90,28.2969,248,28.2969,248,806,16,806,16,6\" style=\"stroke: #000000; stroke-width: 1.5;\"/><line style=\"stroke: #000000; stroke-width: 1.5;\" x1=\"16\" x2=\"90\" y1=\"28.2969\" y2=\"28.2969\"/><text fill=\"#000000\" font-family=\"sans-serif\" font-size=\"14\" font-weight=\"bold\" lengthAdjust=\"spacingAndGlyphs\" textLength=\"61\" x=\"20\" y=\"20.9951\">ItemTest</text></a><!--MD5=[b4997ac47864f28c2f74865a473b2911]\n",
       "class E2--><a href=\"psysml:6cbf61b0-82f0-477a-9e61-503ee7ef8ab3\" target=\"_top\" title=\"psysml:6cbf61b0-82f0-477a-9e61-503ee7ef8ab3\" xlink:actuate=\"onRequest\" xlink:href=\"psysml:6cbf61b0-82f0-477a-9e61-503ee7ef8ab3\" xlink:show=\"new\" xlink:title=\"psysml:6cbf61b0-82f0-477a-9e61-503ee7ef8ab3\" xlink:type=\"simple\"><rect fill=\"#FFFFFF\" height=\"45.9375\" id=\"E2\" rx=\"10\" ry=\"10\" style=\"stroke: #383838; stroke-width: 1.5;\" width=\"43\" x=\"188.5\" y=\"148\"/><text fill=\"#000000\" font-family=\"sans-serif\" font-size=\"12\" font-style=\"italic\" lengthAdjust=\"spacingAndGlyphs\" textLength=\"41\" x=\"189.5\" y=\"164.1387\">«item»</text><text fill=\"#000000\" font-family=\"sans-serif\" font-size=\"12\" lengthAdjust=\"spacingAndGlyphs\" textLength=\"20\" x=\"198\" y=\"178.1074\">f: A</text><line style=\"stroke: #383838; stroke-width: 1.5;\" x1=\"189.5\" x2=\"230.5\" y1=\"185.9375\" y2=\"185.9375\"/></a><!--MD5=[09b614a08d8cba4a07c9adeb5e0fee81]\n",
       "class E3--><a href=\"psysml:73e4759d-5191-4c8c-b634-f2bc1b43e3a3\" target=\"_top\" title=\"psysml:73e4759d-5191-4c8c-b634-f2bc1b43e3a3\" xlink:actuate=\"onRequest\" xlink:href=\"psysml:73e4759d-5191-4c8c-b634-f2bc1b43e3a3\" xlink:show=\"new\" xlink:title=\"psysml:73e4759d-5191-4c8c-b634-f2bc1b43e3a3\" xlink:type=\"simple\"><rect fill=\"#FFFFFF\" height=\"45.9375\" id=\"E3\" style=\"stroke: #383838; stroke-width: 1.5;\" width=\"71\" x=\"96.5\" y=\"255\"/><text fill=\"#000000\" font-family=\"sans-serif\" font-size=\"12\" font-style=\"italic\" lengthAdjust=\"spacingAndGlyphs\" textLength=\"69\" x=\"97.5\" y=\"271.1387\">«item  def»</text><text fill=\"#000000\" font-family=\"sans-serif\" font-size=\"12\" lengthAdjust=\"spacingAndGlyphs\" textLength=\"8\" x=\"128\" y=\"285.1074\">A</text><line style=\"stroke: #383838; stroke-width: 1.5;\" x1=\"97.5\" x2=\"166.5\" y1=\"292.9375\" y2=\"292.9375\"/></a><!--MD5=[ebbe1d658d1005bcc118a6aa81145e00]\n",
       "class E4--><a href=\"psysml:22dedc78-8a6f-47e7-a1b3-f5299f454177\" target=\"_top\" title=\"psysml:22dedc78-8a6f-47e7-a1b3-f5299f454177\" xlink:actuate=\"onRequest\" xlink:href=\"psysml:22dedc78-8a6f-47e7-a1b3-f5299f454177\" xlink:show=\"new\" xlink:title=\"psysml:22dedc78-8a6f-47e7-a1b3-f5299f454177\" xlink:type=\"simple\"><rect fill=\"#FFFFFF\" height=\"45.9375\" id=\"E4\" rx=\"10\" ry=\"10\" style=\"stroke: #383838; stroke-width: 1.5;\" width=\"43\" x=\"45.5\" y=\"438\"/><text fill=\"#000000\" font-family=\"sans-serif\" font-size=\"12\" font-style=\"italic\" lengthAdjust=\"spacingAndGlyphs\" textLength=\"41\" x=\"46.5\" y=\"454.1387\">«item»</text><text fill=\"#000000\" font-family=\"sans-serif\" font-size=\"12\" lengthAdjust=\"spacingAndGlyphs\" textLength=\"24\" x=\"53\" y=\"468.1074\">b: B</text><line style=\"stroke: #383838; stroke-width: 1.5;\" x1=\"46.5\" x2=\"87.5\" y1=\"475.9375\" y2=\"475.9375\"/></a><!--MD5=[270fce915f116d4de14055a7c1d9a0f3]\n",
       "class E5--><a href=\"psysml:d5b518cb-4e9d-48f6-86e4-811292cf7103\" target=\"_top\" title=\"psysml:d5b518cb-4e9d-48f6-86e4-811292cf7103\" xlink:actuate=\"onRequest\" xlink:href=\"psysml:d5b518cb-4e9d-48f6-86e4-811292cf7103\" xlink:show=\"new\" xlink:title=\"psysml:d5b518cb-4e9d-48f6-86e4-811292cf7103\" xlink:type=\"simple\"><rect fill=\"#FFFFFF\" height=\"45.9375\" id=\"E5\" rx=\"10\" ry=\"10\" style=\"stroke: #383838; stroke-width: 1.5;\" width=\"42\" x=\"151\" y=\"362\"/><text fill=\"#000000\" font-family=\"sans-serif\" font-size=\"12\" font-style=\"italic\" lengthAdjust=\"spacingAndGlyphs\" textLength=\"40\" x=\"152\" y=\"378.1387\">«part»</text><text fill=\"#000000\" font-family=\"sans-serif\" font-size=\"12\" lengthAdjust=\"spacingAndGlyphs\" textLength=\"23\" x=\"158.5\" y=\"392.1074\">c: C</text><line style=\"stroke: #383838; stroke-width: 1.5;\" x1=\"152\" x2=\"192\" y1=\"399.9375\" y2=\"399.9375\"/></a><!--MD5=[60a26617385b1d2d0262a64233df1f8d]\n",
       "class E6--><a href=\"psysml:7fb13a86-95b9-42ac-ac4a-d3cbb2045ff7\" target=\"_top\" title=\"psysml:7fb13a86-95b9-42ac-ac4a-d3cbb2045ff7\" xlink:actuate=\"onRequest\" xlink:href=\"psysml:7fb13a86-95b9-42ac-ac4a-d3cbb2045ff7\" xlink:show=\"new\" xlink:title=\"psysml:7fb13a86-95b9-42ac-ac4a-d3cbb2045ff7\" xlink:type=\"simple\"><rect fill=\"#FFFFFF\" height=\"45.9375\" id=\"E6\" style=\"stroke: #383838; stroke-width: 1.5;\" width=\"71\" x=\"112.5\" y=\"637\"/><text fill=\"#000000\" font-family=\"sans-serif\" font-size=\"12\" font-style=\"italic\" lengthAdjust=\"spacingAndGlyphs\" textLength=\"69\" x=\"113.5\" y=\"653.1387\">«item  def»</text><text fill=\"#000000\" font-family=\"sans-serif\" font-size=\"12\" font-style=\"italic\" lengthAdjust=\"spacingAndGlyphs\" textLength=\"8\" x=\"144\" y=\"667.1074\">B</text><line style=\"stroke: #383838; stroke-width: 1.5;\" x1=\"113.5\" x2=\"182.5\" y1=\"674.9375\" y2=\"674.9375\"/></a><!--MD5=[2156ba9850f5573cc1fc38a6a4b2f02b]\n",
       "class E7--><a href=\"psysml:b4d408e4-c35f-4021-90a0-c54c4c634ca8\" target=\"_top\" title=\"psysml:b4d408e4-c35f-4021-90a0-c54c4c634ca8\" xlink:actuate=\"onRequest\" xlink:href=\"psysml:b4d408e4-c35f-4021-90a0-c54c4c634ca8\" xlink:show=\"new\" xlink:title=\"psysml:b4d408e4-c35f-4021-90a0-c54c4c634ca8\" xlink:type=\"simple\"><rect fill=\"#FFFFFF\" height=\"45.9375\" id=\"E7\" rx=\"10\" ry=\"10\" style=\"stroke: #383838; stroke-width: 1.5;\" width=\"42\" x=\"159\" y=\"744\"/><text fill=\"#000000\" font-family=\"sans-serif\" font-size=\"12\" font-style=\"italic\" lengthAdjust=\"spacingAndGlyphs\" textLength=\"40\" x=\"160\" y=\"760.1387\">«part»</text><text fill=\"#000000\" font-family=\"sans-serif\" font-size=\"12\" font-style=\"italic\" lengthAdjust=\"spacingAndGlyphs\" textLength=\"8\" x=\"166\" y=\"774.1074\">a</text><text fill=\"#000000\" font-family=\"sans-serif\" font-size=\"12\" lengthAdjust=\"spacingAndGlyphs\" textLength=\"16\" x=\"174\" y=\"774.1074\">: A</text><line style=\"stroke: #383838; stroke-width: 1.5;\" x1=\"160\" x2=\"200\" y1=\"781.9375\" y2=\"781.9375\"/></a><!--MD5=[b9389687b975829384b498ac4b7476b2]\n",
       "class E8--><a href=\"psysml:53104107-4f2e-4822-81be-c90629c3152e\" target=\"_top\" title=\"psysml:53104107-4f2e-4822-81be-c90629c3152e\" xlink:actuate=\"onRequest\" xlink:href=\"psysml:53104107-4f2e-4822-81be-c90629c3152e\" xlink:show=\"new\" xlink:title=\"psysml:53104107-4f2e-4822-81be-c90629c3152e\" xlink:type=\"simple\"><rect fill=\"#FFFFFF\" height=\"45.9375\" id=\"E8\" style=\"stroke: #383838; stroke-width: 1.5;\" width=\"70\" x=\"113\" y=\"514\"/><text fill=\"#000000\" font-family=\"sans-serif\" font-size=\"12\" font-style=\"italic\" lengthAdjust=\"spacingAndGlyphs\" textLength=\"68\" x=\"114\" y=\"530.1387\">«part  def»</text><text fill=\"#000000\" font-family=\"sans-serif\" font-size=\"12\" lengthAdjust=\"spacingAndGlyphs\" textLength=\"8\" x=\"144\" y=\"544.1074\">C</text><line style=\"stroke: #383838; stroke-width: 1.5;\" x1=\"114\" x2=\"182\" y1=\"551.9375\" y2=\"551.9375\"/></a><!--MD5=[fd4143e9d270a159db93a4ea2a975926]\n",
       "class E9--><a href=\"psysml:96c92d64-4061-42f0-9733-a4ee9bfee5f1\" target=\"_top\" title=\"psysml:96c92d64-4061-42f0-9733-a4ee9bfee5f1\" xlink:actuate=\"onRequest\" xlink:href=\"psysml:96c92d64-4061-42f0-9733-a4ee9bfee5f1\" xlink:show=\"new\" xlink:title=\"psysml:96c92d64-4061-42f0-9733-a4ee9bfee5f1\" xlink:type=\"simple\"><rect fill=\"#FFFFFF\" height=\"45.9375\" id=\"E9\" style=\"stroke: #383838; stroke-width: 1.5;\" width=\"70\" x=\"64\" y=\"41\"/><text fill=\"#000000\" font-family=\"sans-serif\" font-size=\"12\" font-style=\"italic\" lengthAdjust=\"spacingAndGlyphs\" textLength=\"68\" x=\"65\" y=\"57.1387\">«port  def»</text><text fill=\"#000000\" font-family=\"sans-serif\" font-size=\"12\" lengthAdjust=\"spacingAndGlyphs\" textLength=\"8\" x=\"95\" y=\"71.1074\">P</text><line style=\"stroke: #383838; stroke-width: 1.5;\" x1=\"65\" x2=\"133\" y1=\"78.9375\" y2=\"78.9375\"/></a><!--MD5=[96f4274e9e20536e775497830990834d]\n",
       "class E10--><a href=\"psysml:21151bb4-f160-49b9-964a-222b3c2d7b6c\" target=\"_top\" title=\"psysml:21151bb4-f160-49b9-964a-222b3c2d7b6c\" xlink:actuate=\"onRequest\" xlink:href=\"psysml:21151bb4-f160-49b9-964a-222b3c2d7b6c\" xlink:show=\"new\" xlink:title=\"psysml:21151bb4-f160-49b9-964a-222b3c2d7b6c\" xlink:type=\"simple\"><rect fill=\"#FFFFFF\" height=\"45.9375\" id=\"E10\" rx=\"10\" ry=\"10\" style=\"stroke: #383838; stroke-width: 1.5;\" width=\"43\" x=\"32.5\" y=\"148\"/><text fill=\"#000000\" font-family=\"sans-serif\" font-size=\"12\" font-style=\"italic\" lengthAdjust=\"spacingAndGlyphs\" textLength=\"41\" x=\"33.5\" y=\"164.1387\">«item»</text><text fill=\"#000000\" font-family=\"sans-serif\" font-size=\"12\" lengthAdjust=\"spacingAndGlyphs\" textLength=\"32\" x=\"36\" y=\"178.1074\">a1: A</text><line style=\"stroke: #383838; stroke-width: 1.5;\" x1=\"33.5\" x2=\"74.5\" y1=\"185.9375\" y2=\"185.9375\"/></a><!--MD5=[1dd1bfd58a279cf63c5f349dbc8fc6a1]\n",
       "class E11--><a href=\"psysml:048eeab4-ab84-4a9d-8dc8-2b5e8335cff3\" target=\"_top\" title=\"psysml:048eeab4-ab84-4a9d-8dc8-2b5e8335cff3\" xlink:actuate=\"onRequest\" xlink:href=\"psysml:048eeab4-ab84-4a9d-8dc8-2b5e8335cff3\" xlink:show=\"new\" xlink:title=\"psysml:048eeab4-ab84-4a9d-8dc8-2b5e8335cff3\" xlink:type=\"simple\"><rect fill=\"#FFFFFF\" height=\"45.9375\" id=\"E11\" rx=\"10\" ry=\"10\" style=\"stroke: #383838; stroke-width: 1.5;\" width=\"43\" x=\"110.5\" y=\"148\"/><text fill=\"#000000\" font-family=\"sans-serif\" font-size=\"12\" font-style=\"italic\" lengthAdjust=\"spacingAndGlyphs\" textLength=\"41\" x=\"111.5\" y=\"164.1387\">«item»</text><text fill=\"#000000\" font-family=\"sans-serif\" font-size=\"12\" lengthAdjust=\"spacingAndGlyphs\" textLength=\"32\" x=\"114\" y=\"178.1074\">a2: A</text><line style=\"stroke: #383838; stroke-width: 1.5;\" x1=\"111.5\" x2=\"152.5\" y1=\"185.9375\" y2=\"185.9375\"/></a><!--MD5=[2720a5a1f2c3fca2055b230370638851]\n",
       "link E2 to E3--><a href=\"psysml:e70b16f9-62c0-40f3-a087-aa973c352c22\" target=\"_top\" title=\"psysml:e70b16f9-62c0-40f3-a087-aa973c352c22\" xlink:actuate=\"onRequest\" xlink:href=\"psysml:e70b16f9-62c0-40f3-a087-aa973c352c22\" xlink:show=\"new\" xlink:title=\"psysml:e70b16f9-62c0-40f3-a087-aa973c352c22\" xlink:type=\"simple\"><path d=\"M193.65,194.01 C184.14,206.81 171.89,223.3 160.82,238.2 \" fill=\"none\" id=\"E2-&gt;E3\" style=\"stroke: #383838; stroke-width: 1.0;\"/><polygon fill=\"#FFFFFF\" points=\"148.6,254.66,154.3195,235.2361,165.5543,243.5896,148.6,254.66\" style=\"stroke: #383838; stroke-width: 1.0;\"/><ellipse cx=\"159.3256\" cy=\"231.8554\" fill=\"#383838\" rx=\"2\" ry=\"2\" style=\"stroke: #383838; stroke-width: 1.0;\"/><ellipse cx=\"167.3504\" cy=\"237.8221\" fill=\"#383838\" rx=\"2\" ry=\"2\" style=\"stroke: #383838; stroke-width: 1.0;\"/></a><!--MD5=[4672eba38e49728da53d11aeb285b987]\n",
       "reverse link E3 to E4--><a href=\"psysml:f5164247-58fc-45c1-bba3-2edebb195fbd\" target=\"_top\" title=\"psysml:f5164247-58fc-45c1-bba3-2edebb195fbd\" xlink:actuate=\"onRequest\" xlink:href=\"psysml:f5164247-58fc-45c1-bba3-2edebb195fbd\" xlink:show=\"new\" xlink:title=\"psysml:f5164247-58fc-45c1-bba3-2edebb195fbd\" xlink:type=\"simple\"><path d=\"M105.34,311.54 C86.29,334.8 64,362 64,362 C64,362 64,408 64,408 C64,408 64.91,423.77 65.73,437.95 \" fill=\"none\" id=\"E3&lt;-E4\" style=\"stroke: #383838; stroke-width: 1.0;\"/><polygon fill=\"#383838\" points=\"113.78,301.24,106.883,303.3449,106.1733,310.521,113.0703,308.4161,113.78,301.24\" style=\"stroke: #383838; stroke-width: 1.0;\"/><text fill=\"#000000\" font-family=\"sans-serif\" font-size=\"13\" lengthAdjust=\"spacingAndGlyphs\" textLength=\"8\" x=\"56.3137\" y=\"426.8328\">1</text></a><!--MD5=[191cde3d490a3f6d7bb551fe3ddca469]\n",
       "reverse link E3 to E5--><a href=\"psysml:0e10322d-8096-4d1c-ad13-bcf359abd35a\" target=\"_top\" title=\"psysml:0e10322d-8096-4d1c-ad13-bcf359abd35a\" xlink:actuate=\"onRequest\" xlink:href=\"psysml:0e10322d-8096-4d1c-ad13-bcf359abd35a\" xlink:show=\"new\" xlink:title=\"psysml:0e10322d-8096-4d1c-ad13-bcf359abd35a\" xlink:type=\"simple\"><path d=\"M145.17,313.57 C151.2,329.39 158.16,347.68 163.49,361.66 \" fill=\"none\" id=\"E3&lt;-E5\" style=\"stroke: #383838; stroke-width: 1.0;\"/><polygon fill=\"#FFFFFF\" points=\"140.39,301.01,138.7866,308.0406,144.6598,312.2247,146.2631,305.1941,140.39,301.01\" style=\"stroke: #383838; stroke-width: 1.0;\"/><text fill=\"#000000\" font-family=\"sans-serif\" font-size=\"13\" lengthAdjust=\"spacingAndGlyphs\" textLength=\"8\" x=\"152.2843\" y=\"350.8492\">1</text></a><!--MD5=[79568f1e445c3877b6a54524624ccc7d]\n",
       "link E4 to E6--><a href=\"psysml:cd799d59-974c-4cd5-b2a4-5d2e853ea550\" target=\"_top\" title=\"psysml:cd799d59-974c-4cd5-b2a4-5d2e853ea550\" xlink:actuate=\"onRequest\" xlink:href=\"psysml:cd799d59-974c-4cd5-b2a4-5d2e853ea550\" xlink:show=\"new\" xlink:title=\"psysml:cd799d59-974c-4cd5-b2a4-5d2e853ea550\" xlink:type=\"simple\"><path d=\"M73.58,484.24 C82.14,513.15 96,560 96,560 C96,560 112.41,591.24 126.79,618.63 \" fill=\"none\" id=\"E4-&gt;E6\" style=\"stroke: #383838; stroke-width: 1.0;\"/><polygon fill=\"#FFFFFF\" points=\"136.2,636.54,121.1704,622.9713,133.5659,616.4636,136.2,636.54\" style=\"stroke: #383838; stroke-width: 1.0;\"/><ellipse cx=\"120.2916\" cy=\"616.9948\" fill=\"#383838\" rx=\"2\" ry=\"2\" style=\"stroke: #383838; stroke-width: 1.0;\"/><ellipse cx=\"129.1456\" cy=\"612.3465\" fill=\"#383838\" rx=\"2\" ry=\"2\" style=\"stroke: #383838; stroke-width: 1.0;\"/></a><!--MD5=[3f50a3473f1dfb74d3f76443e03635af]\n",
       "reverse link E6 to E7--><a href=\"psysml:f66c29ee-70ba-402f-a3a4-159df7b46130\" target=\"_top\" title=\"psysml:f66c29ee-70ba-402f-a3a4-159df7b46130\" xlink:actuate=\"onRequest\" xlink:href=\"psysml:f66c29ee-70ba-402f-a3a4-159df7b46130\" xlink:show=\"new\" xlink:title=\"psysml:f66c29ee-70ba-402f-a3a4-159df7b46130\" xlink:type=\"simple\"><path d=\"M158.54,695.57 C163.36,711.39 168.93,729.68 173.19,743.66 \" fill=\"none\" id=\"E6&lt;-E7\" style=\"stroke: #383838; stroke-width: 1.0;\"/><polygon fill=\"#383838\" points=\"154.71,683.01,152.6319,689.9152,158.2066,694.4893,160.2847,687.5841,154.71,683.01\" style=\"stroke: #383838; stroke-width: 1.0;\"/><text fill=\"#000000\" font-family=\"sans-serif\" font-size=\"13\" lengthAdjust=\"spacingAndGlyphs\" textLength=\"8\" x=\"162.4199\" y=\"732.8492\">1</text></a><!--MD5=[14ccda38c055a5c0da953d572bc50960]\n",
       "link E7 to E3--><a href=\"psysml:4b14459c-c0ea-47eb-ae95-5bdd156140b8\" target=\"_top\" title=\"psysml:4b14459c-c0ea-47eb-ae95-5bdd156140b8\" xlink:actuate=\"onRequest\" xlink:href=\"psysml:4b14459c-c0ea-47eb-ae95-5bdd156140b8\" xlink:show=\"new\" xlink:title=\"psysml:4b14459c-c0ea-47eb-ae95-5bdd156140b8\" xlink:type=\"simple\"><path d=\"M190.27,743.99 C204.64,713.2 229,661 229,661 C229,384 229,384 229,384 C229,384 211,362 211,362 C211,362 188.27,338.12 167.2,315.98 \" fill=\"none\" id=\"E7-&gt;E3\" style=\"stroke: #383838; stroke-width: 1.0;\"/><polygon fill=\"#FFFFFF\" points=\"153.17,301.24,171.3437,310.1683,161.2072,319.825,153.17,301.24\" style=\"stroke: #383838; stroke-width: 1.0;\"/><ellipse cx=\"173.8273\" cy=\"315.6749\" fill=\"#383838\" rx=\"2\" ry=\"2\" style=\"stroke: #383838; stroke-width: 1.0;\"/><ellipse cx=\"166.5869\" cy=\"322.5725\" fill=\"#383838\" rx=\"2\" ry=\"2\" style=\"stroke: #383838; stroke-width: 1.0;\"/></a><!--MD5=[dfaffb906826c3e5aca635516100ff21]\n",
       "link E5 to E8--><a href=\"psysml:7f99918d-ef62-497c-9b9a-668f89d0bef4\" target=\"_top\" title=\"psysml:7f99918d-ef62-497c-9b9a-668f89d0bef4\" xlink:actuate=\"onRequest\" xlink:href=\"psysml:7f99918d-ef62-497c-9b9a-668f89d0bef4\" xlink:show=\"new\" xlink:title=\"psysml:7f99918d-ef62-497c-9b9a-668f89d0bef4\" xlink:type=\"simple\"><path d=\"M168.46,408.13 C164.86,430.62 159.2,466.01 154.74,493.87 \" fill=\"none\" id=\"E5-&gt;E8\" style=\"stroke: #383838; stroke-width: 1.0;\"/><polygon fill=\"#FFFFFF\" points=\"151.56,513.78,147.6458,493.9135,161.4704,496.1226,151.56,513.78\" style=\"stroke: #383838; stroke-width: 1.0;\"/><ellipse cx=\"150.5202\" cy=\"488.6005\" fill=\"#383838\" rx=\"2\" ry=\"2\" style=\"stroke: #383838; stroke-width: 1.0;\"/><ellipse cx=\"160.3949\" cy=\"490.1784\" fill=\"#383838\" rx=\"2\" ry=\"2\" style=\"stroke: #383838; stroke-width: 1.0;\"/></a><!--MD5=[03c8294790d3c57651a1993cecff665f]\n",
       "reverse link E8 to E3--><a href=\"psysml:8abdebaf-64f0-40cf-a780-4a21932975d8\" target=\"_top\" title=\"psysml:8abdebaf-64f0-40cf-a780-4a21932975d8\" xlink:actuate=\"onRequest\" xlink:href=\"psysml:8abdebaf-64f0-40cf-a780-4a21932975d8\" xlink:show=\"new\" xlink:title=\"psysml:8abdebaf-64f0-40cf-a780-4a21932975d8\" xlink:type=\"simple\"><path d=\"M141.7,500.94 C134.89,463.05 125,408 125,408 C125,408 125,362 125,362 C125,362 128.05,325.83 130.12,301.24 \" fill=\"none\" id=\"E8&lt;-E3\" style=\"stroke: #383838; stroke-width: 1.0;\"/><polygon fill=\"#FFFFFF\" points=\"144.05,514,146.9258,507.3872,141.9277,502.1892,139.0519,508.802,144.05,514\" style=\"stroke: #383838; stroke-width: 1.0;\"/><text fill=\"#000000\" font-family=\"sans-serif\" font-size=\"13\" lengthAdjust=\"spacingAndGlyphs\" textLength=\"7\" x=\"126\" y=\"389.5669\">y</text></a><!--MD5=[0d75d2178373a6a4568e5dc728f58aef]\n",
       "reverse link E8 to E6--><a href=\"psysml:8abdebaf-64f0-40cf-a780-4a21932975d8\" target=\"_top\" title=\"psysml:8abdebaf-64f0-40cf-a780-4a21932975d8\" xlink:actuate=\"onRequest\" xlink:href=\"psysml:8abdebaf-64f0-40cf-a780-4a21932975d8\" xlink:show=\"new\" xlink:title=\"psysml:8abdebaf-64f0-40cf-a780-4a21932975d8\" xlink:type=\"simple\"><path d=\"M148,573.22 C148,593.81 148,619.16 148,636.95 \" fill=\"none\" id=\"E8&lt;-E6\" style=\"stroke: #383838; stroke-width: 1.0;\"/><polygon fill=\"#FFFFFF\" points=\"148,560.19,144,566.19,148,572.19,152,566.19,148,560.19\" style=\"stroke: #383838; stroke-width: 1.0;\"/><text fill=\"#000000\" font-family=\"sans-serif\" font-size=\"13\" lengthAdjust=\"spacingAndGlyphs\" textLength=\"7\" x=\"149\" y=\"603.0669\">y</text></a><!--MD5=[23ac544a70576c3e717098101004234c]\n",
       "reverse link E9 to E10--><a href=\"psysml:4b97f70b-21b5-47d0-9b80-bf68f1206e68\" target=\"_top\" title=\"psysml:4b97f70b-21b5-47d0-9b80-bf68f1206e68\" xlink:actuate=\"onRequest\" xlink:href=\"psysml:4b97f70b-21b5-47d0-9b80-bf68f1206e68\" xlink:show=\"new\" xlink:title=\"psysml:4b97f70b-21b5-47d0-9b80-bf68f1206e68\" xlink:type=\"simple\"><path d=\"M84.39,99.1 C77.56,115.03 69.63,133.54 63.58,147.66 \" fill=\"none\" id=\"E9&lt;-E10\" style=\"stroke: #383838; stroke-width: 1.0;\"/><polygon fill=\"#FFFFFF\" points=\"89.57,87.01,83.5327,90.9535,84.8509,98.0431,90.8882,94.0996,89.57,87.01\" style=\"stroke: #383838; stroke-width: 1.0;\"/><text fill=\"#000000\" font-family=\"sans-serif\" font-size=\"13\" lengthAdjust=\"spacingAndGlyphs\" textLength=\"8\" x=\"57.0099\" y=\"136.8492\">1</text></a><!--MD5=[feeac5eb423634930294aa81f2d25a4c]\n",
       "link E10 to E3--><a href=\"psysml:890b43d2-a44a-4df9-b863-0c7f323950a1\" target=\"_top\" title=\"psysml:890b43d2-a44a-4df9-b863-0c7f323950a1\" xlink:actuate=\"onRequest\" xlink:href=\"psysml:890b43d2-a44a-4df9-b863-0c7f323950a1\" xlink:show=\"new\" xlink:title=\"psysml:890b43d2-a44a-4df9-b863-0c7f323950a1\" xlink:type=\"simple\"><path d=\"M70.35,194.01 C79.86,206.81 92.11,223.3 103.18,238.2 \" fill=\"none\" id=\"E10-&gt;E3\" style=\"stroke: #383838; stroke-width: 1.0;\"/><polygon fill=\"#FFFFFF\" points=\"115.4,254.66,98.4457,243.5896,109.6805,235.2361,115.4,254.66\" style=\"stroke: #383838; stroke-width: 1.0;\"/><ellipse cx=\"96.6496\" cy=\"237.8221\" fill=\"#383838\" rx=\"2\" ry=\"2\" style=\"stroke: #383838; stroke-width: 1.0;\"/><ellipse cx=\"104.6744\" cy=\"231.8554\" fill=\"#383838\" rx=\"2\" ry=\"2\" style=\"stroke: #383838; stroke-width: 1.0;\"/></a><!--MD5=[1fc04a95fd77ad5ce46c1a3027516051]\n",
       "reverse link E9 to E11--><a href=\"psysml:75cdd26f-47cf-45db-b14e-ba01ceb3edc6\" target=\"_top\" title=\"psysml:75cdd26f-47cf-45db-b14e-ba01ceb3edc6\" xlink:actuate=\"onRequest\" xlink:href=\"psysml:75cdd26f-47cf-45db-b14e-ba01ceb3edc6\" xlink:show=\"new\" xlink:title=\"psysml:75cdd26f-47cf-45db-b14e-ba01ceb3edc6\" xlink:type=\"simple\"><path d=\"M109.87,99.57 C114.84,115.39 120.59,133.68 124.98,147.66 \" fill=\"none\" id=\"E9&lt;-E11\" style=\"stroke: #383838; stroke-width: 1.0;\"/><polygon fill=\"#FFFFFF\" points=\"105.92,87.01,103.9044,93.9337,109.5203,98.4572,111.5359,91.5335,105.92,87.01\" style=\"stroke: #383838; stroke-width: 1.0;\"/><text fill=\"#000000\" font-family=\"sans-serif\" font-size=\"13\" lengthAdjust=\"spacingAndGlyphs\" textLength=\"8\" x=\"114.1561\" y=\"136.8492\">1</text></a><!--MD5=[0517f1ce58c4d5483948f93845c45e26]\n",
       "link E11 to E3--><a href=\"psysml:92dee77c-180b-445a-a05e-737a71661cde\" target=\"_top\" title=\"psysml:92dee77c-180b-445a-a05e-737a71661cde\" xlink:actuate=\"onRequest\" xlink:href=\"psysml:92dee77c-180b-445a-a05e-737a71661cde\" xlink:show=\"new\" xlink:title=\"psysml:92dee77c-180b-445a-a05e-737a71661cde\" xlink:type=\"simple\"><path d=\"M132,194.01 C132,205.69 132,220.46 132,234.28 \" fill=\"none\" id=\"E11-&gt;E3\" style=\"stroke: #383838; stroke-width: 1.0;\"/><polygon fill=\"#FFFFFF\" points=\"132,254.66,125,235.66,139,235.66,132,254.66\" style=\"stroke: #383838; stroke-width: 1.0;\"/><ellipse cx=\"127\" cy=\"229.96\" fill=\"#383838\" rx=\"2\" ry=\"2\" style=\"stroke: #383838; stroke-width: 1.0;\"/><ellipse cx=\"137\" cy=\"229.96\" fill=\"#383838\" rx=\"2\" ry=\"2\" style=\"stroke: #383838; stroke-width: 1.0;\"/></a><!--MD5=[05ecc0ede795db259891427993392044]\n",
       "@startuml\r\n",
       "skinparam linetype polyline\r\n",
       "skinparam monochrome true\r\n",
       "skinparam classbackgroundcolor white\r\n",
       "skinparam shadowing false\r\n",
       "skinparam wrapWidth 300\r\n",
       "hide circle\r\n",
       "\r\n",
       "package \"ItemTest\" as E1  [[psysml:8469bc55-64be-4e75-90cd-bb271a7bb256 ]]  {\r\n",
       "comp usage \"f: A \" as E2  <<(T,blue) item>> [[psysml:6cbf61b0-82f0-477a-9e61-503ee7ef8ab3 ]] {\r\n",
       "}\r\n",
       "comp def \"A\" as E3  <<(T,blue) item  def>> [[psysml:73e4759d-5191-4c8c-b634-f2bc1b43e3a3 ]] {\r\n",
       "}\r\n",
       "comp usage \"b: B \" as E4  <<(T,blue) item>> [[psysml:22dedc78-8a6f-47e7-a1b3-f5299f454177 ]] {\r\n",
       "}\r\n",
       "comp usage \"c: C \" as E5  <<(T,blue) part>> [[psysml:d5b518cb-4e9d-48f6-86e4-811292cf7103 ]] {\r\n",
       "}\r\n",
       "comp def \"<i>B</i>\" as E6  <<(T,blue) item  def>> [[psysml:7fb13a86-95b9-42ac-ac4a-d3cbb2045ff7 ]] {\r\n",
       "}\r\n",
       "comp usage \"<i>a</i>: A \" as E7  <<(T,blue) part>> [[psysml:b4d408e4-c35f-4021-90a0-c54c4c634ca8 ]] {\r\n",
       "}\r\n",
       "comp def \"C\" as E8  <<(T,blue) part  def>> [[psysml:53104107-4f2e-4822-81be-c90629c3152e ]] {\r\n",
       "}\r\n",
       "comp def \"P\" as E9  <<(T,blue) port  def>> [[psysml:96c92d64-4061-42f0-9733-a4ee9bfee5f1 ]] {\r\n",
       "}\r\n",
       "comp usage \"a1: A \" as E10  <<(T,blue) item>> [[psysml:21151bb4-f160-49b9-964a-222b3c2d7b6c ]] {\r\n",
       "}\r\n",
       "comp usage \"a2: A \" as E11  <<(T,blue) item>> [[psysml:048eeab4-ab84-4a9d-8dc8-2b5e8335cff3 ]] {\r\n",
       "}\r\n",
       "}\r\n",
       "E2 - -:|> E3 [[psysml:e70b16f9-62c0-40f3-a087-aa973c352c22 ]] \r\n",
       "E3 *- - \"1\"E4 [[psysml:f5164247-58fc-45c1-bba3-2edebb195fbd ]] \r\n",
       "E3 o- - \"1\"E5 [[psysml:0e10322d-8096-4d1c-ad13-bcf359abd35a ]] \r\n",
       "E4 - -:|> E6 [[psysml:cd799d59-974c-4cd5-b2a4-5d2e853ea550 ]] \r\n",
       "E6 *- - \"1\"E7 [[psysml:f66c29ee-70ba-402f-a3a4-159df7b46130 ]] \r\n",
       "E7 - -:|> E3 [[psysml:4b14459c-c0ea-47eb-ae95-5bdd156140b8 ]] \r\n",
       "E5 - -:|> E8 [[psysml:7f99918d-ef62-497c-9b9a-668f89d0bef4 ]] \r\n",
       "E8 o- - E3 [[psysml:8abdebaf-64f0-40cf-a780-4a21932975d8 ]] : y\r\n",
       "E8 o- - E6 [[psysml:8abdebaf-64f0-40cf-a780-4a21932975d8 ]] : y\r\n",
       "E9 o- - \"1\"E10 [[psysml:4b97f70b-21b5-47d0-9b80-bf68f1206e68 ]] \r\n",
       "E10 - -:|> E3 [[psysml:890b43d2-a44a-4df9-b863-0c7f323950a1 ]] \r\n",
       "E9 o- - \"1\"E11 [[psysml:75cdd26f-47cf-45db-b14e-ba01ceb3edc6 ]] \r\n",
       "E11 - -:|> E3 [[psysml:92dee77c-180b-445a-a05e-737a71661cde ]] \r\n",
       "@enduml\r\n",
       "\n",
       "PlantUML version 1.2020.13(Sat Jun 13 12:26:38 UTC 2020)\n",
       "(EPL source distribution)\n",
       "Java Runtime: OpenJDK Runtime Environment\n",
       "JVM: OpenJDK 64-Bit Server VM\n",
       "Default Encoding: UTF-8\n",
       "Language: en\n",
       "Country: null\n",
       "--></g></svg>"
      ]
     },
     "execution_count": 15,
     "metadata": {},
     "output_type": "execute_result"
    }
   ],
   "source": [
    "%viz --style=\"POLYLINE\" --view=\"MIXED\" \"ItemTest\""
   ]
  },
  {
   "cell_type": "code",
   "execution_count": 16,
   "id": "152cd774",
   "metadata": {
    "execution": {
     "iopub.execute_input": "2022-03-21T07:49:09.858566Z",
     "iopub.status.busy": "2022-03-21T07:49:09.858151Z",
     "iopub.status.idle": "2022-03-21T07:49:09.925342Z",
     "shell.execute_reply": "2022-03-21T07:49:09.924966Z"
    }
   },
   "outputs": [
    {
     "data": {
      "image/svg+xml": [
       "<?xml version=\"1.0\" encoding=\"UTF-8\" standalone=\"no\"?><svg xmlns=\"http://www.w3.org/2000/svg\" xmlns:xlink=\"http://www.w3.org/1999/xlink\" contentScriptType=\"application/ecmascript\" contentStyleType=\"text/css\" height=\"277px\" preserveAspectRatio=\"none\" style=\"width:895px;height:277px;\" version=\"1.1\" viewBox=\"0 0 895 277\" width=\"895px\" zoomAndPan=\"magnify\"><defs/><g><!--MD5=[fbc87193dbaf4d95561dea2c320d4a47]\n",
       "cluster E1--><a href=\"psysml:8469bc55-64be-4e75-90cd-bb271a7bb256\" target=\"_top\" title=\"psysml:8469bc55-64be-4e75-90cd-bb271a7bb256\" xlink:actuate=\"onRequest\" xlink:href=\"psysml:8469bc55-64be-4e75-90cd-bb271a7bb256\" xlink:show=\"new\" xlink:title=\"psysml:8469bc55-64be-4e75-90cd-bb271a7bb256\" xlink:type=\"simple\"><polygon fill=\"#FFFFFF\" points=\"16,6,83,6,90,28.2969,873,28.2969,873,265,16,265,16,6\" style=\"stroke: #000000; stroke-width: 1.5;\"/><line style=\"stroke: #000000; stroke-width: 1.5;\" x1=\"16\" x2=\"90\" y1=\"28.2969\" y2=\"28.2969\"/><text fill=\"#000000\" font-family=\"sans-serif\" font-size=\"14\" font-weight=\"bold\" lengthAdjust=\"spacingAndGlyphs\" textLength=\"61\" x=\"20\" y=\"20.9951\">ItemTest</text></a><!--MD5=[b4997ac47864f28c2f74865a473b2911]\n",
       "class E2--><a href=\"psysml:6cbf61b0-82f0-477a-9e61-503ee7ef8ab3\" target=\"_top\" title=\"psysml:6cbf61b0-82f0-477a-9e61-503ee7ef8ab3\" xlink:actuate=\"onRequest\" xlink:href=\"psysml:6cbf61b0-82f0-477a-9e61-503ee7ef8ab3\" xlink:show=\"new\" xlink:title=\"psysml:6cbf61b0-82f0-477a-9e61-503ee7ef8ab3\" xlink:type=\"simple\"><rect fill=\"#FFFFFF\" height=\"45.9375\" id=\"E2\" rx=\"10\" ry=\"10\" style=\"stroke: #383838; stroke-width: 1.5;\" width=\"43\" x=\"163\" y=\"41\"/><text fill=\"#000000\" font-family=\"sans-serif\" font-size=\"12\" font-style=\"italic\" lengthAdjust=\"spacingAndGlyphs\" textLength=\"41\" x=\"164\" y=\"57.1387\">«item»</text><text fill=\"#000000\" font-family=\"sans-serif\" font-size=\"12\" lengthAdjust=\"spacingAndGlyphs\" textLength=\"20\" x=\"172.5\" y=\"71.1074\">f: A</text><line style=\"stroke: #383838; stroke-width: 1.5;\" x1=\"164\" x2=\"205\" y1=\"78.9375\" y2=\"78.9375\"/></a><!--MD5=[09b614a08d8cba4a07c9adeb5e0fee81]\n",
       "class E3--><a href=\"psysml:73e4759d-5191-4c8c-b634-f2bc1b43e3a3\" target=\"_top\" title=\"psysml:73e4759d-5191-4c8c-b634-f2bc1b43e3a3\" xlink:actuate=\"onRequest\" xlink:href=\"psysml:73e4759d-5191-4c8c-b634-f2bc1b43e3a3\" xlink:show=\"new\" xlink:title=\"psysml:73e4759d-5191-4c8c-b634-f2bc1b43e3a3\" xlink:type=\"simple\"><rect fill=\"#FFFFFF\" height=\"45.9375\" id=\"E3\" style=\"stroke: #383838; stroke-width: 1.5;\" width=\"71\" x=\"267\" y=\"122\"/><text fill=\"#000000\" font-family=\"sans-serif\" font-size=\"12\" font-style=\"italic\" lengthAdjust=\"spacingAndGlyphs\" textLength=\"69\" x=\"268\" y=\"138.1387\">«item  def»</text><text fill=\"#000000\" font-family=\"sans-serif\" font-size=\"12\" lengthAdjust=\"spacingAndGlyphs\" textLength=\"8\" x=\"298.5\" y=\"152.1074\">A</text><line style=\"stroke: #383838; stroke-width: 1.5;\" x1=\"268\" x2=\"337\" y1=\"159.9375\" y2=\"159.9375\"/></a><!--MD5=[ebbe1d658d1005bcc118a6aa81145e00]\n",
       "class E4--><a href=\"psysml:22dedc78-8a6f-47e7-a1b3-f5299f454177\" target=\"_top\" title=\"psysml:22dedc78-8a6f-47e7-a1b3-f5299f454177\" xlink:actuate=\"onRequest\" xlink:href=\"psysml:22dedc78-8a6f-47e7-a1b3-f5299f454177\" xlink:show=\"new\" xlink:title=\"psysml:22dedc78-8a6f-47e7-a1b3-f5299f454177\" xlink:type=\"simple\"><rect fill=\"#FFFFFF\" height=\"45.9375\" id=\"E4\" rx=\"10\" ry=\"10\" style=\"stroke: #383838; stroke-width: 1.5;\" width=\"43\" x=\"471\" y=\"192\"/><text fill=\"#000000\" font-family=\"sans-serif\" font-size=\"12\" font-style=\"italic\" lengthAdjust=\"spacingAndGlyphs\" textLength=\"41\" x=\"472\" y=\"208.1387\">«item»</text><text fill=\"#000000\" font-family=\"sans-serif\" font-size=\"12\" lengthAdjust=\"spacingAndGlyphs\" textLength=\"24\" x=\"478.5\" y=\"222.1074\">b: B</text><line style=\"stroke: #383838; stroke-width: 1.5;\" x1=\"472\" x2=\"513\" y1=\"229.9375\" y2=\"229.9375\"/></a><!--MD5=[270fce915f116d4de14055a7c1d9a0f3]\n",
       "class E5--><a href=\"psysml:d5b518cb-4e9d-48f6-86e4-811292cf7103\" target=\"_top\" title=\"psysml:d5b518cb-4e9d-48f6-86e4-811292cf7103\" xlink:actuate=\"onRequest\" xlink:href=\"psysml:d5b518cb-4e9d-48f6-86e4-811292cf7103\" xlink:show=\"new\" xlink:title=\"psysml:d5b518cb-4e9d-48f6-86e4-811292cf7103\" xlink:type=\"simple\"><rect fill=\"#FFFFFF\" height=\"45.9375\" id=\"E5\" rx=\"10\" ry=\"10\" style=\"stroke: #383838; stroke-width: 1.5;\" width=\"42\" x=\"399\" y=\"78\"/><text fill=\"#000000\" font-family=\"sans-serif\" font-size=\"12\" font-style=\"italic\" lengthAdjust=\"spacingAndGlyphs\" textLength=\"40\" x=\"400\" y=\"94.1387\">«part»</text><text fill=\"#000000\" font-family=\"sans-serif\" font-size=\"12\" lengthAdjust=\"spacingAndGlyphs\" textLength=\"23\" x=\"406.5\" y=\"108.1074\">c: C</text><line style=\"stroke: #383838; stroke-width: 1.5;\" x1=\"400\" x2=\"440\" y1=\"115.9375\" y2=\"115.9375\"/></a><!--MD5=[60a26617385b1d2d0262a64233df1f8d]\n",
       "class E6--><a href=\"psysml:7fb13a86-95b9-42ac-ac4a-d3cbb2045ff7\" target=\"_top\" title=\"psysml:7fb13a86-95b9-42ac-ac4a-d3cbb2045ff7\" xlink:actuate=\"onRequest\" xlink:href=\"psysml:7fb13a86-95b9-42ac-ac4a-d3cbb2045ff7\" xlink:show=\"new\" xlink:title=\"psysml:7fb13a86-95b9-42ac-ac4a-d3cbb2045ff7\" xlink:type=\"simple\"><rect fill=\"#FFFFFF\" height=\"45.9375\" id=\"E6\" style=\"stroke: #383838; stroke-width: 1.5;\" width=\"71\" x=\"683\" y=\"105\"/><text fill=\"#000000\" font-family=\"sans-serif\" font-size=\"12\" font-style=\"italic\" lengthAdjust=\"spacingAndGlyphs\" textLength=\"69\" x=\"684\" y=\"121.1387\">«item  def»</text><text fill=\"#000000\" font-family=\"sans-serif\" font-size=\"12\" font-style=\"italic\" lengthAdjust=\"spacingAndGlyphs\" textLength=\"8\" x=\"714.5\" y=\"135.1074\">B</text><line style=\"stroke: #383838; stroke-width: 1.5;\" x1=\"684\" x2=\"753\" y1=\"142.9375\" y2=\"142.9375\"/></a><!--MD5=[2156ba9850f5573cc1fc38a6a4b2f02b]\n",
       "class E7--><a href=\"psysml:b4d408e4-c35f-4021-90a0-c54c4c634ca8\" target=\"_top\" title=\"psysml:b4d408e4-c35f-4021-90a0-c54c4c634ca8\" xlink:actuate=\"onRequest\" xlink:href=\"psysml:b4d408e4-c35f-4021-90a0-c54c4c634ca8\" xlink:show=\"new\" xlink:title=\"psysml:b4d408e4-c35f-4021-90a0-c54c4c634ca8\" xlink:type=\"simple\"><rect fill=\"#FFFFFF\" height=\"45.9375\" id=\"E7\" rx=\"10\" ry=\"10\" style=\"stroke: #383838; stroke-width: 1.5;\" width=\"42\" x=\"815\" y=\"73\"/><text fill=\"#000000\" font-family=\"sans-serif\" font-size=\"12\" font-style=\"italic\" lengthAdjust=\"spacingAndGlyphs\" textLength=\"40\" x=\"816\" y=\"89.1387\">«part»</text><text fill=\"#000000\" font-family=\"sans-serif\" font-size=\"12\" font-style=\"italic\" lengthAdjust=\"spacingAndGlyphs\" textLength=\"8\" x=\"822\" y=\"103.1074\">a</text><text fill=\"#000000\" font-family=\"sans-serif\" font-size=\"12\" lengthAdjust=\"spacingAndGlyphs\" textLength=\"16\" x=\"830\" y=\"103.1074\">: A</text><line style=\"stroke: #383838; stroke-width: 1.5;\" x1=\"816\" x2=\"856\" y1=\"110.9375\" y2=\"110.9375\"/></a><!--MD5=[b9389687b975829384b498ac4b7476b2]\n",
       "class E8--><a href=\"psysml:53104107-4f2e-4822-81be-c90629c3152e\" target=\"_top\" title=\"psysml:53104107-4f2e-4822-81be-c90629c3152e\" xlink:actuate=\"onRequest\" xlink:href=\"psysml:53104107-4f2e-4822-81be-c90629c3152e\" xlink:show=\"new\" xlink:title=\"psysml:53104107-4f2e-4822-81be-c90629c3152e\" xlink:type=\"simple\"><rect fill=\"#FFFFFF\" height=\"45.9375\" id=\"E8\" style=\"stroke: #383838; stroke-width: 1.5;\" width=\"70\" x=\"544\" y=\"105\"/><text fill=\"#000000\" font-family=\"sans-serif\" font-size=\"12\" font-style=\"italic\" lengthAdjust=\"spacingAndGlyphs\" textLength=\"68\" x=\"545\" y=\"121.1387\">«part  def»</text><text fill=\"#000000\" font-family=\"sans-serif\" font-size=\"12\" lengthAdjust=\"spacingAndGlyphs\" textLength=\"8\" x=\"575\" y=\"135.1074\">C</text><line style=\"stroke: #383838; stroke-width: 1.5;\" x1=\"545\" x2=\"613\" y1=\"142.9375\" y2=\"142.9375\"/></a><!--MD5=[fd4143e9d270a159db93a4ea2a975926]\n",
       "class E9--><a href=\"psysml:96c92d64-4061-42f0-9733-a4ee9bfee5f1\" target=\"_top\" title=\"psysml:96c92d64-4061-42f0-9733-a4ee9bfee5f1\" xlink:actuate=\"onRequest\" xlink:href=\"psysml:96c92d64-4061-42f0-9733-a4ee9bfee5f1\" xlink:show=\"new\" xlink:title=\"psysml:96c92d64-4061-42f0-9733-a4ee9bfee5f1\" xlink:type=\"simple\"><rect fill=\"#FFFFFF\" height=\"45.9375\" id=\"E9\" style=\"stroke: #383838; stroke-width: 1.5;\" width=\"70\" x=\"32\" y=\"163\"/><text fill=\"#000000\" font-family=\"sans-serif\" font-size=\"12\" font-style=\"italic\" lengthAdjust=\"spacingAndGlyphs\" textLength=\"68\" x=\"33\" y=\"179.1387\">«port  def»</text><text fill=\"#000000\" font-family=\"sans-serif\" font-size=\"12\" lengthAdjust=\"spacingAndGlyphs\" textLength=\"8\" x=\"63\" y=\"193.1074\">P</text><line style=\"stroke: #383838; stroke-width: 1.5;\" x1=\"33\" x2=\"101\" y1=\"200.9375\" y2=\"200.9375\"/></a><!--MD5=[96f4274e9e20536e775497830990834d]\n",
       "class E10--><a href=\"psysml:21151bb4-f160-49b9-964a-222b3c2d7b6c\" target=\"_top\" title=\"psysml:21151bb4-f160-49b9-964a-222b3c2d7b6c\" xlink:actuate=\"onRequest\" xlink:href=\"psysml:21151bb4-f160-49b9-964a-222b3c2d7b6c\" xlink:show=\"new\" xlink:title=\"psysml:21151bb4-f160-49b9-964a-222b3c2d7b6c\" xlink:type=\"simple\"><rect fill=\"#FFFFFF\" height=\"45.9375\" id=\"E10\" rx=\"10\" ry=\"10\" style=\"stroke: #383838; stroke-width: 1.5;\" width=\"43\" x=\"163\" y=\"203\"/><text fill=\"#000000\" font-family=\"sans-serif\" font-size=\"12\" font-style=\"italic\" lengthAdjust=\"spacingAndGlyphs\" textLength=\"41\" x=\"164\" y=\"219.1387\">«item»</text><text fill=\"#000000\" font-family=\"sans-serif\" font-size=\"12\" lengthAdjust=\"spacingAndGlyphs\" textLength=\"32\" x=\"166.5\" y=\"233.1074\">a1: A</text><line style=\"stroke: #383838; stroke-width: 1.5;\" x1=\"164\" x2=\"205\" y1=\"240.9375\" y2=\"240.9375\"/></a><!--MD5=[1dd1bfd58a279cf63c5f349dbc8fc6a1]\n",
       "class E11--><a href=\"psysml:048eeab4-ab84-4a9d-8dc8-2b5e8335cff3\" target=\"_top\" title=\"psysml:048eeab4-ab84-4a9d-8dc8-2b5e8335cff3\" xlink:actuate=\"onRequest\" xlink:href=\"psysml:048eeab4-ab84-4a9d-8dc8-2b5e8335cff3\" xlink:show=\"new\" xlink:title=\"psysml:048eeab4-ab84-4a9d-8dc8-2b5e8335cff3\" xlink:type=\"simple\"><rect fill=\"#FFFFFF\" height=\"45.9375\" id=\"E11\" rx=\"10\" ry=\"10\" style=\"stroke: #383838; stroke-width: 1.5;\" width=\"43\" x=\"163\" y=\"122\"/><text fill=\"#000000\" font-family=\"sans-serif\" font-size=\"12\" font-style=\"italic\" lengthAdjust=\"spacingAndGlyphs\" textLength=\"41\" x=\"164\" y=\"138.1387\">«item»</text><text fill=\"#000000\" font-family=\"sans-serif\" font-size=\"12\" lengthAdjust=\"spacingAndGlyphs\" textLength=\"32\" x=\"166.5\" y=\"152.1074\">a2: A</text><line style=\"stroke: #383838; stroke-width: 1.5;\" x1=\"164\" x2=\"205\" y1=\"159.9375\" y2=\"159.9375\"/></a><!--MD5=[2720a5a1f2c3fca2055b230370638851]\n",
       "link E2 to E3--><a href=\"psysml:e70b16f9-62c0-40f3-a087-aa973c352c22\" target=\"_top\" title=\"psysml:e70b16f9-62c0-40f3-a087-aa973c352c22\" xlink:actuate=\"onRequest\" xlink:href=\"psysml:e70b16f9-62c0-40f3-a087-aa973c352c22\" xlink:show=\"new\" xlink:title=\"psysml:e70b16f9-62c0-40f3-a087-aa973c352c22\" xlink:type=\"simple\"><path d=\"M206.24,78.48 C218.94,87.35 235.78,99.11 251.76,110.27 \" fill=\"none\" id=\"E2-&gt;E3\" style=\"stroke: #383838; stroke-width: 1.0;\"/><polygon fill=\"#FFFFFF\" points=\"268.21,121.75,248.6276,116.5992,256.6501,105.1257,268.21,121.75\" style=\"stroke: #383838; stroke-width: 1.0;\"/><ellipse cx=\"245.1024\" cy=\"111.6938\" fill=\"#383838\" rx=\"2\" ry=\"2\" style=\"stroke: #383838; stroke-width: 1.0;\"/><ellipse cx=\"250.8327\" cy=\"103.4985\" fill=\"#383838\" rx=\"2\" ry=\"2\" style=\"stroke: #383838; stroke-width: 1.0;\"/></a><!--MD5=[4672eba38e49728da53d11aeb285b987]\n",
       "reverse link E3 to E4--><a href=\"psysml:f5164247-58fc-45c1-bba3-2edebb195fbd\" target=\"_top\" title=\"psysml:f5164247-58fc-45c1-bba3-2edebb195fbd\" xlink:actuate=\"onRequest\" xlink:href=\"psysml:f5164247-58fc-45c1-bba3-2edebb195fbd\" xlink:show=\"new\" xlink:title=\"psysml:f5164247-58fc-45c1-bba3-2edebb195fbd\" xlink:type=\"simple\"><path d=\"M333.98,177.13 C351.32,193.04 374.45,210.6 399,219 C422.57,227.06 451.51,223.9 470.67,220.14 \" fill=\"none\" id=\"E3&lt;-E4\" style=\"stroke: #383838; stroke-width: 1.0;\"/><polygon fill=\"#383838\" points=\"324.47,168.03,326.0431,175.0674,333.1443,176.322,331.5711,169.2846,324.47,168.03\" style=\"stroke: #383838; stroke-width: 1.0;\"/><text fill=\"#000000\" font-family=\"sans-serif\" font-size=\"13\" lengthAdjust=\"spacingAndGlyphs\" textLength=\"8\" x=\"455.0824\" y=\"235.9486\">1</text></a><!--MD5=[191cde3d490a3f6d7bb551fe3ddca469]\n",
       "reverse link E3 to E5--><a href=\"psysml:0e10322d-8096-4d1c-ad13-bcf359abd35a\" target=\"_top\" title=\"psysml:0e10322d-8096-4d1c-ad13-bcf359abd35a\" xlink:actuate=\"onRequest\" xlink:href=\"psysml:0e10322d-8096-4d1c-ad13-bcf359abd35a\" xlink:show=\"new\" xlink:title=\"psysml:0e10322d-8096-4d1c-ad13-bcf359abd35a\" xlink:type=\"simple\"><path d=\"M350.66,127.03 C367.46,120.64 385.49,113.77 398.81,108.69 \" fill=\"none\" id=\"E3&lt;-E5\" style=\"stroke: #383838; stroke-width: 1.0;\"/><polygon fill=\"#FFFFFF\" points=\"338.15,131.8,345.1812,133.4006,349.363,127.5259,342.3318,125.9253,338.15,131.8\" style=\"stroke: #383838; stroke-width: 1.0;\"/><text fill=\"#000000\" font-family=\"sans-serif\" font-size=\"13\" lengthAdjust=\"spacingAndGlyphs\" textLength=\"8\" x=\"383.0956\" y=\"125.4387\">1</text></a><!--MD5=[79568f1e445c3877b6a54524624ccc7d]\n",
       "link E4 to E6--><a href=\"psysml:cd799d59-974c-4cd5-b2a4-5d2e853ea550\" target=\"_top\" title=\"psysml:cd799d59-974c-4cd5-b2a4-5d2e853ea550\" xlink:actuate=\"onRequest\" xlink:href=\"psysml:cd799d59-974c-4cd5-b2a4-5d2e853ea550\" xlink:show=\"new\" xlink:title=\"psysml:cd799d59-974c-4cd5-b2a4-5d2e853ea550\" xlink:type=\"simple\"><path d=\"M514.17,206.97 C547.89,193.88 615.78,167.51 663.82,148.85 \" fill=\"none\" id=\"E4-&gt;E6\" style=\"stroke: #383838; stroke-width: 1.0;\"/><polygon fill=\"#FFFFFF\" points=\"682.72,141.51,667.5446,154.9155,662.4747,141.8657,682.72,141.51\" style=\"stroke: #383838; stroke-width: 1.0;\"/><ellipse cx=\"661.5072\" cy=\"155.1154\" fill=\"#383838\" rx=\"2\" ry=\"2\" style=\"stroke: #383838; stroke-width: 1.0;\"/><ellipse cx=\"657.8858\" cy=\"145.7941\" fill=\"#383838\" rx=\"2\" ry=\"2\" style=\"stroke: #383838; stroke-width: 1.0;\"/></a><!--MD5=[3f50a3473f1dfb74d3f76443e03635af]\n",
       "reverse link E6 to E7--><a href=\"psysml:f66c29ee-70ba-402f-a3a4-159df7b46130\" target=\"_top\" title=\"psysml:f66c29ee-70ba-402f-a3a4-159df7b46130\" xlink:actuate=\"onRequest\" xlink:href=\"psysml:f66c29ee-70ba-402f-a3a4-159df7b46130\" xlink:show=\"new\" xlink:title=\"psysml:f66c29ee-70ba-402f-a3a4-159df7b46130\" xlink:type=\"simple\"><path d=\"M767.15,114.8 C783.81,110.18 801.62,105.25 814.81,101.59 \" fill=\"none\" id=\"E6&lt;-E7\" style=\"stroke: #383838; stroke-width: 1.0;\"/><polygon fill=\"#383838\" points=\"754.15,118.4,761.0002,120.6526,765.7143,115.1958,758.8641,112.9431,754.15,118.4\" style=\"stroke: #383838; stroke-width: 1.0;\"/><text fill=\"#000000\" font-family=\"sans-serif\" font-size=\"13\" lengthAdjust=\"spacingAndGlyphs\" textLength=\"8\" x=\"799.0956\" y=\"117.6956\">1</text></a><!--MD5=[14ccda38c055a5c0da953d572bc50960]\n",
       "link E7 to E3--><a href=\"psysml:4b14459c-c0ea-47eb-ae95-5bdd156140b8\" target=\"_top\" title=\"psysml:4b14459c-c0ea-47eb-ae95-5bdd156140b8\" xlink:actuate=\"onRequest\" xlink:href=\"psysml:4b14459c-c0ea-47eb-ae95-5bdd156140b8\" xlink:show=\"new\" xlink:title=\"psysml:4b14459c-c0ea-47eb-ae95-5bdd156140b8\" xlink:type=\"simple\"><path d=\"M814.63,79.8 C792.54,63.89 755.58,42 719.5,42 C419,42 419,42 419,42 C379.51,42 347.29,75.96 327.01,104.88 \" fill=\"none\" id=\"E7-&gt;E3\" style=\"stroke: #383838; stroke-width: 1.0;\"/><polygon fill=\"#FFFFFF\" points=\"315.97,121.88,320.4427,102.1317,332.1859,109.7538,315.97,121.88\" style=\"stroke: #383838; stroke-width: 1.0;\"/><ellipse cx=\"325.2235\" cy=\"98.4394\" fill=\"#383838\" rx=\"2\" ry=\"2\" style=\"stroke: #383838; stroke-width: 1.0;\"/><ellipse cx=\"333.6116\" cy=\"103.8838\" fill=\"#383838\" rx=\"2\" ry=\"2\" style=\"stroke: #383838; stroke-width: 1.0;\"/></a><!--MD5=[dfaffb906826c3e5aca635516100ff21]\n",
       "link E5 to E8--><a href=\"psysml:7f99918d-ef62-497c-9b9a-668f89d0bef4\" target=\"_top\" title=\"psysml:7f99918d-ef62-497c-9b9a-668f89d0bef4\" xlink:actuate=\"onRequest\" xlink:href=\"psysml:7f99918d-ef62-497c-9b9a-668f89d0bef4\" xlink:show=\"new\" xlink:title=\"psysml:7f99918d-ef62-497c-9b9a-668f89d0bef4\" xlink:type=\"simple\"><path d=\"M441.2,104.47 C462.06,108.06 495.5,113.81 524.1,118.73 \" fill=\"none\" id=\"E5-&gt;E8\" style=\"stroke: #383838; stroke-width: 1.0;\"/><polygon fill=\"#FFFFFF\" points=\"543.82,122.12,523.9093,125.803,526.279,112.005,543.82,122.12\" style=\"stroke: #383838; stroke-width: 1.0;\"/><ellipse cx=\"518.6301\" cy=\"122.8671\" fill=\"#383838\" rx=\"2\" ry=\"2\" style=\"stroke: #383838; stroke-width: 1.0;\"/><ellipse cx=\"520.3227\" cy=\"113.0114\" fill=\"#383838\" rx=\"2\" ry=\"2\" style=\"stroke: #383838; stroke-width: 1.0;\"/></a><!--MD5=[03c8294790d3c57651a1993cecff665f]\n",
       "reverse link E8 to E3--><a href=\"psysml:8abdebaf-64f0-40cf-a780-4a21932975d8\" target=\"_top\" title=\"psysml:8abdebaf-64f0-40cf-a780-4a21932975d8\" xlink:actuate=\"onRequest\" xlink:href=\"psysml:8abdebaf-64f0-40cf-a780-4a21932975d8\" xlink:show=\"new\" xlink:title=\"psysml:8abdebaf-64f0-40cf-a780-4a21932975d8\" xlink:type=\"simple\"><path d=\"M531.34,140.84 C505.03,147.41 471.44,154.71 441,158 C422.44,160.01 417.62,159.26 399,158 C378.8,156.63 356.36,153.65 338.31,150.89 \" fill=\"none\" id=\"E8&lt;-E3\" style=\"stroke: #383838; stroke-width: 1.0;\"/><polygon fill=\"#FFFFFF\" points=\"543.99,137.59,537.1849,135.2045,532.3655,140.5686,539.1706,142.9541,543.99,137.59\" style=\"stroke: #383838; stroke-width: 1.0;\"/><text fill=\"#000000\" font-family=\"sans-serif\" font-size=\"13\" lengthAdjust=\"spacingAndGlyphs\" textLength=\"7\" x=\"416.5\" y=\"154.0669\">y</text></a><!--MD5=[0d75d2178373a6a4568e5dc728f58aef]\n",
       "reverse link E8 to E6--><a href=\"psysml:8abdebaf-64f0-40cf-a780-4a21932975d8\" target=\"_top\" title=\"psysml:8abdebaf-64f0-40cf-a780-4a21932975d8\" xlink:actuate=\"onRequest\" xlink:href=\"psysml:8abdebaf-64f0-40cf-a780-4a21932975d8\" xlink:show=\"new\" xlink:title=\"psysml:8abdebaf-64f0-40cf-a780-4a21932975d8\" xlink:type=\"simple\"><path d=\"M627.39,128 C645.53,128 665.88,128 682.64,128 \" fill=\"none\" id=\"E8&lt;-E6\" style=\"stroke: #383838; stroke-width: 1.0;\"/><polygon fill=\"#FFFFFF\" points=\"614.34,128,620.34,132,626.34,128,620.34,124,614.34,128\" style=\"stroke: #383838; stroke-width: 1.0;\"/><text fill=\"#000000\" font-family=\"sans-serif\" font-size=\"13\" lengthAdjust=\"spacingAndGlyphs\" textLength=\"7\" x=\"645\" y=\"124.0669\">y</text></a><!--MD5=[23ac544a70576c3e717098101004234c]\n",
       "reverse link E9 to E10--><a href=\"psysml:4b97f70b-21b5-47d0-9b80-bf68f1206e68\" target=\"_top\" title=\"psysml:4b97f70b-21b5-47d0-9b80-bf68f1206e68\" xlink:actuate=\"onRequest\" xlink:href=\"psysml:4b97f70b-21b5-47d0-9b80-bf68f1206e68\" xlink:show=\"new\" xlink:title=\"psysml:4b97f70b-21b5-47d0-9b80-bf68f1206e68\" xlink:type=\"simple\"><path d=\"M114.48,202.1 C131.24,207.9 149.31,214.16 162.75,218.81 \" fill=\"none\" id=\"E9&lt;-E10\" style=\"stroke: #383838; stroke-width: 1.0;\"/><polygon fill=\"#FFFFFF\" points=\"102.03,197.78,106.3896,203.524,113.3686,201.7089,109.0089,195.9649,102.03,197.78\" style=\"stroke: #383838; stroke-width: 1.0;\"/><text fill=\"#000000\" font-family=\"sans-serif\" font-size=\"13\" lengthAdjust=\"spacingAndGlyphs\" textLength=\"8\" x=\"146.8641\" y=\"231.0017\">1</text></a><!--MD5=[feeac5eb423634930294aa81f2d25a4c]\n",
       "link E10 to E3--><a href=\"psysml:890b43d2-a44a-4df9-b863-0c7f323950a1\" target=\"_top\" title=\"psysml:890b43d2-a44a-4df9-b863-0c7f323950a1\" xlink:actuate=\"onRequest\" xlink:href=\"psysml:890b43d2-a44a-4df9-b863-0c7f323950a1\" xlink:show=\"new\" xlink:title=\"psysml:890b43d2-a44a-4df9-b863-0c7f323950a1\" xlink:type=\"simple\"><path d=\"M206.24,211.52 C218.94,202.65 235.78,190.89 251.76,179.73 \" fill=\"none\" id=\"E10-&gt;E3\" style=\"stroke: #383838; stroke-width: 1.0;\"/><polygon fill=\"#FFFFFF\" points=\"268.21,168.25,256.6501,184.8743,248.6276,173.4008,268.21,168.25\" style=\"stroke: #383838; stroke-width: 1.0;\"/><ellipse cx=\"250.8327\" cy=\"186.5015\" fill=\"#383838\" rx=\"2\" ry=\"2\" style=\"stroke: #383838; stroke-width: 1.0;\"/><ellipse cx=\"245.1024\" cy=\"178.3062\" fill=\"#383838\" rx=\"2\" ry=\"2\" style=\"stroke: #383838; stroke-width: 1.0;\"/></a><!--MD5=[1fc04a95fd77ad5ce46c1a3027516051]\n",
       "reverse link E9 to E11--><a href=\"psysml:75cdd26f-47cf-45db-b14e-ba01ceb3edc6\" target=\"_top\" title=\"psysml:75cdd26f-47cf-45db-b14e-ba01ceb3edc6\" xlink:actuate=\"onRequest\" xlink:href=\"psysml:75cdd26f-47cf-45db-b14e-ba01ceb3edc6\" xlink:show=\"new\" xlink:title=\"psysml:75cdd26f-47cf-45db-b14e-ba01ceb3edc6\" xlink:type=\"simple\"><path d=\"M114.48,169.5 C131.24,163.55 149.31,157.14 162.75,152.37 \" fill=\"none\" id=\"E9&lt;-E11\" style=\"stroke: #383838; stroke-width: 1.0;\"/><polygon fill=\"#FFFFFF\" points=\"102.03,173.92,109.0214,175.6865,113.341,169.9124,106.3496,168.1458,102.03,173.92\" style=\"stroke: #383838; stroke-width: 1.0;\"/><text fill=\"#000000\" font-family=\"sans-serif\" font-size=\"13\" lengthAdjust=\"spacingAndGlyphs\" textLength=\"8\" x=\"146.8641\" y=\"169.0207\">1</text></a><!--MD5=[0517f1ce58c4d5483948f93845c45e26]\n",
       "link E11 to E3--><a href=\"psysml:92dee77c-180b-445a-a05e-737a71661cde\" target=\"_top\" title=\"psysml:92dee77c-180b-445a-a05e-737a71661cde\" xlink:actuate=\"onRequest\" xlink:href=\"psysml:92dee77c-180b-445a-a05e-737a71661cde\" xlink:show=\"new\" xlink:title=\"psysml:92dee77c-180b-445a-a05e-737a71661cde\" xlink:type=\"simple\"><path d=\"M206.24,145 C217.53,145 232.1,145 246.43,145 \" fill=\"none\" id=\"E11-&gt;E3\" style=\"stroke: #383838; stroke-width: 1.0;\"/><polygon fill=\"#FFFFFF\" points=\"266.84,145,247.84,152,247.84,138,266.84,145\" style=\"stroke: #383838; stroke-width: 1.0;\"/><ellipse cx=\"242.14\" cy=\"150\" fill=\"#383838\" rx=\"2\" ry=\"2\" style=\"stroke: #383838; stroke-width: 1.0;\"/><ellipse cx=\"242.14\" cy=\"140\" fill=\"#383838\" rx=\"2\" ry=\"2\" style=\"stroke: #383838; stroke-width: 1.0;\"/></a><!--MD5=[87a8c0ffdb8594de701c54aa98bcde45]\n",
       "@startuml\r\n",
       "left to right direction\r\n",
       "skinparam monochrome true\r\n",
       "skinparam classbackgroundcolor white\r\n",
       "skinparam shadowing false\r\n",
       "skinparam wrapWidth 300\r\n",
       "hide circle\r\n",
       "\r\n",
       "package \"ItemTest\" as E1  [[psysml:8469bc55-64be-4e75-90cd-bb271a7bb256 ]]  {\r\n",
       "comp usage \"f: A \" as E2  <<(T,blue) item>> [[psysml:6cbf61b0-82f0-477a-9e61-503ee7ef8ab3 ]] {\r\n",
       "}\r\n",
       "comp def \"A\" as E3  <<(T,blue) item  def>> [[psysml:73e4759d-5191-4c8c-b634-f2bc1b43e3a3 ]] {\r\n",
       "}\r\n",
       "comp usage \"b: B \" as E4  <<(T,blue) item>> [[psysml:22dedc78-8a6f-47e7-a1b3-f5299f454177 ]] {\r\n",
       "}\r\n",
       "comp usage \"c: C \" as E5  <<(T,blue) part>> [[psysml:d5b518cb-4e9d-48f6-86e4-811292cf7103 ]] {\r\n",
       "}\r\n",
       "comp def \"<i>B</i>\" as E6  <<(T,blue) item  def>> [[psysml:7fb13a86-95b9-42ac-ac4a-d3cbb2045ff7 ]] {\r\n",
       "}\r\n",
       "comp usage \"<i>a</i>: A \" as E7  <<(T,blue) part>> [[psysml:b4d408e4-c35f-4021-90a0-c54c4c634ca8 ]] {\r\n",
       "}\r\n",
       "comp def \"C\" as E8  <<(T,blue) part  def>> [[psysml:53104107-4f2e-4822-81be-c90629c3152e ]] {\r\n",
       "}\r\n",
       "comp def \"P\" as E9  <<(T,blue) port  def>> [[psysml:96c92d64-4061-42f0-9733-a4ee9bfee5f1 ]] {\r\n",
       "}\r\n",
       "comp usage \"a1: A \" as E10  <<(T,blue) item>> [[psysml:21151bb4-f160-49b9-964a-222b3c2d7b6c ]] {\r\n",
       "}\r\n",
       "comp usage \"a2: A \" as E11  <<(T,blue) item>> [[psysml:048eeab4-ab84-4a9d-8dc8-2b5e8335cff3 ]] {\r\n",
       "}\r\n",
       "}\r\n",
       "E2 - -:|> E3 [[psysml:e70b16f9-62c0-40f3-a087-aa973c352c22 ]] \r\n",
       "E3 *- - \"1\"E4 [[psysml:f5164247-58fc-45c1-bba3-2edebb195fbd ]] \r\n",
       "E3 o- - \"1\"E5 [[psysml:0e10322d-8096-4d1c-ad13-bcf359abd35a ]] \r\n",
       "E4 - -:|> E6 [[psysml:cd799d59-974c-4cd5-b2a4-5d2e853ea550 ]] \r\n",
       "E6 *- - \"1\"E7 [[psysml:f66c29ee-70ba-402f-a3a4-159df7b46130 ]] \r\n",
       "E7 - -:|> E3 [[psysml:4b14459c-c0ea-47eb-ae95-5bdd156140b8 ]] \r\n",
       "E5 - -:|> E8 [[psysml:7f99918d-ef62-497c-9b9a-668f89d0bef4 ]] \r\n",
       "E8 o- - E3 [[psysml:8abdebaf-64f0-40cf-a780-4a21932975d8 ]] : y\r\n",
       "E8 o- - E6 [[psysml:8abdebaf-64f0-40cf-a780-4a21932975d8 ]] : y\r\n",
       "E9 o- - \"1\"E10 [[psysml:4b97f70b-21b5-47d0-9b80-bf68f1206e68 ]] \r\n",
       "E10 - -:|> E3 [[psysml:890b43d2-a44a-4df9-b863-0c7f323950a1 ]] \r\n",
       "E9 o- - \"1\"E11 [[psysml:75cdd26f-47cf-45db-b14e-ba01ceb3edc6 ]] \r\n",
       "E11 - -:|> E3 [[psysml:92dee77c-180b-445a-a05e-737a71661cde ]] \r\n",
       "@enduml\r\n",
       "\n",
       "PlantUML version 1.2020.13(Sat Jun 13 12:26:38 UTC 2020)\n",
       "(EPL source distribution)\n",
       "Java Runtime: OpenJDK Runtime Environment\n",
       "JVM: OpenJDK 64-Bit Server VM\n",
       "Default Encoding: UTF-8\n",
       "Language: en\n",
       "Country: null\n",
       "--></g></svg>"
      ]
     },
     "execution_count": 16,
     "metadata": {},
     "output_type": "execute_result"
    }
   ],
   "source": [
    "%viz --style=\"LR\" --view=\"Default\" \"ItemTest\""
   ]
  },
  {
   "cell_type": "code",
   "execution_count": 17,
   "id": "13fbb89b",
   "metadata": {
    "execution": {
     "iopub.execute_input": "2022-03-21T07:49:09.974840Z",
     "iopub.status.busy": "2022-03-21T07:49:09.974367Z",
     "iopub.status.idle": "2022-03-21T07:49:10.027914Z",
     "shell.execute_reply": "2022-03-21T07:49:10.027544Z"
    }
   },
   "outputs": [
    {
     "data": {
      "image/svg+xml": [
       "<?xml version=\"1.0\" encoding=\"UTF-8\" standalone=\"no\"?><svg xmlns=\"http://www.w3.org/2000/svg\" xmlns:xlink=\"http://www.w3.org/1999/xlink\" contentScriptType=\"application/ecmascript\" contentStyleType=\"text/css\" height=\"277px\" preserveAspectRatio=\"none\" style=\"width:895px;height:277px;\" version=\"1.1\" viewBox=\"0 0 895 277\" width=\"895px\" zoomAndPan=\"magnify\"><defs/><g><!--MD5=[fbc87193dbaf4d95561dea2c320d4a47]\n",
       "cluster E1--><a href=\"psysml:8469bc55-64be-4e75-90cd-bb271a7bb256\" target=\"_top\" title=\"psysml:8469bc55-64be-4e75-90cd-bb271a7bb256\" xlink:actuate=\"onRequest\" xlink:href=\"psysml:8469bc55-64be-4e75-90cd-bb271a7bb256\" xlink:show=\"new\" xlink:title=\"psysml:8469bc55-64be-4e75-90cd-bb271a7bb256\" xlink:type=\"simple\"><polygon fill=\"#FFFFFF\" points=\"16,6,83,6,90,28.2969,873,28.2969,873,265,16,265,16,6\" style=\"stroke: #000000; stroke-width: 1.5;\"/><line style=\"stroke: #000000; stroke-width: 1.5;\" x1=\"16\" x2=\"90\" y1=\"28.2969\" y2=\"28.2969\"/><text fill=\"#000000\" font-family=\"sans-serif\" font-size=\"14\" font-weight=\"bold\" lengthAdjust=\"spacingAndGlyphs\" textLength=\"61\" x=\"20\" y=\"20.9951\">ItemTest</text></a><!--MD5=[b4997ac47864f28c2f74865a473b2911]\n",
       "class E2--><a href=\"psysml:6cbf61b0-82f0-477a-9e61-503ee7ef8ab3\" target=\"_top\" title=\"psysml:6cbf61b0-82f0-477a-9e61-503ee7ef8ab3\" xlink:actuate=\"onRequest\" xlink:href=\"psysml:6cbf61b0-82f0-477a-9e61-503ee7ef8ab3\" xlink:show=\"new\" xlink:title=\"psysml:6cbf61b0-82f0-477a-9e61-503ee7ef8ab3\" xlink:type=\"simple\"><rect fill=\"#FFFFFF\" height=\"45.9375\" id=\"E2\" rx=\"10\" ry=\"10\" style=\"stroke: #383838; stroke-width: 1.5;\" width=\"43\" x=\"163\" y=\"41\"/><text fill=\"#000000\" font-family=\"sans-serif\" font-size=\"12\" font-style=\"italic\" lengthAdjust=\"spacingAndGlyphs\" textLength=\"41\" x=\"164\" y=\"57.1387\">«item»</text><text fill=\"#000000\" font-family=\"sans-serif\" font-size=\"12\" lengthAdjust=\"spacingAndGlyphs\" textLength=\"20\" x=\"172.5\" y=\"71.1074\">f: A</text><line style=\"stroke: #383838; stroke-width: 1.5;\" x1=\"164\" x2=\"205\" y1=\"78.9375\" y2=\"78.9375\"/></a><!--MD5=[09b614a08d8cba4a07c9adeb5e0fee81]\n",
       "class E3--><a href=\"psysml:73e4759d-5191-4c8c-b634-f2bc1b43e3a3\" target=\"_top\" title=\"psysml:73e4759d-5191-4c8c-b634-f2bc1b43e3a3\" xlink:actuate=\"onRequest\" xlink:href=\"psysml:73e4759d-5191-4c8c-b634-f2bc1b43e3a3\" xlink:show=\"new\" xlink:title=\"psysml:73e4759d-5191-4c8c-b634-f2bc1b43e3a3\" xlink:type=\"simple\"><rect fill=\"#FFFFFF\" height=\"45.9375\" id=\"E3\" style=\"stroke: #383838; stroke-width: 1.5;\" width=\"71\" x=\"267\" y=\"122\"/><text fill=\"#000000\" font-family=\"sans-serif\" font-size=\"12\" font-style=\"italic\" lengthAdjust=\"spacingAndGlyphs\" textLength=\"69\" x=\"268\" y=\"138.1387\">«item  def»</text><text fill=\"#000000\" font-family=\"sans-serif\" font-size=\"12\" lengthAdjust=\"spacingAndGlyphs\" textLength=\"8\" x=\"298.5\" y=\"152.1074\">A</text><line style=\"stroke: #383838; stroke-width: 1.5;\" x1=\"268\" x2=\"337\" y1=\"159.9375\" y2=\"159.9375\"/></a><!--MD5=[ebbe1d658d1005bcc118a6aa81145e00]\n",
       "class E4--><a href=\"psysml:22dedc78-8a6f-47e7-a1b3-f5299f454177\" target=\"_top\" title=\"psysml:22dedc78-8a6f-47e7-a1b3-f5299f454177\" xlink:actuate=\"onRequest\" xlink:href=\"psysml:22dedc78-8a6f-47e7-a1b3-f5299f454177\" xlink:show=\"new\" xlink:title=\"psysml:22dedc78-8a6f-47e7-a1b3-f5299f454177\" xlink:type=\"simple\"><rect fill=\"#FFFFFF\" height=\"45.9375\" id=\"E4\" rx=\"10\" ry=\"10\" style=\"stroke: #383838; stroke-width: 1.5;\" width=\"43\" x=\"471\" y=\"192\"/><text fill=\"#000000\" font-family=\"sans-serif\" font-size=\"12\" font-style=\"italic\" lengthAdjust=\"spacingAndGlyphs\" textLength=\"41\" x=\"472\" y=\"208.1387\">«item»</text><text fill=\"#000000\" font-family=\"sans-serif\" font-size=\"12\" lengthAdjust=\"spacingAndGlyphs\" textLength=\"24\" x=\"478.5\" y=\"222.1074\">b: B</text><line style=\"stroke: #383838; stroke-width: 1.5;\" x1=\"472\" x2=\"513\" y1=\"229.9375\" y2=\"229.9375\"/></a><!--MD5=[270fce915f116d4de14055a7c1d9a0f3]\n",
       "class E5--><a href=\"psysml:d5b518cb-4e9d-48f6-86e4-811292cf7103\" target=\"_top\" title=\"psysml:d5b518cb-4e9d-48f6-86e4-811292cf7103\" xlink:actuate=\"onRequest\" xlink:href=\"psysml:d5b518cb-4e9d-48f6-86e4-811292cf7103\" xlink:show=\"new\" xlink:title=\"psysml:d5b518cb-4e9d-48f6-86e4-811292cf7103\" xlink:type=\"simple\"><rect fill=\"#FFFFFF\" height=\"45.9375\" id=\"E5\" rx=\"10\" ry=\"10\" style=\"stroke: #383838; stroke-width: 1.5;\" width=\"42\" x=\"399\" y=\"78\"/><text fill=\"#000000\" font-family=\"sans-serif\" font-size=\"12\" font-style=\"italic\" lengthAdjust=\"spacingAndGlyphs\" textLength=\"40\" x=\"400\" y=\"94.1387\">«part»</text><text fill=\"#000000\" font-family=\"sans-serif\" font-size=\"12\" lengthAdjust=\"spacingAndGlyphs\" textLength=\"23\" x=\"406.5\" y=\"108.1074\">c: C</text><line style=\"stroke: #383838; stroke-width: 1.5;\" x1=\"400\" x2=\"440\" y1=\"115.9375\" y2=\"115.9375\"/></a><!--MD5=[60a26617385b1d2d0262a64233df1f8d]\n",
       "class E6--><a href=\"psysml:7fb13a86-95b9-42ac-ac4a-d3cbb2045ff7\" target=\"_top\" title=\"psysml:7fb13a86-95b9-42ac-ac4a-d3cbb2045ff7\" xlink:actuate=\"onRequest\" xlink:href=\"psysml:7fb13a86-95b9-42ac-ac4a-d3cbb2045ff7\" xlink:show=\"new\" xlink:title=\"psysml:7fb13a86-95b9-42ac-ac4a-d3cbb2045ff7\" xlink:type=\"simple\"><rect fill=\"#FFFFFF\" height=\"45.9375\" id=\"E6\" style=\"stroke: #383838; stroke-width: 1.5;\" width=\"71\" x=\"683\" y=\"105\"/><text fill=\"#000000\" font-family=\"sans-serif\" font-size=\"12\" font-style=\"italic\" lengthAdjust=\"spacingAndGlyphs\" textLength=\"69\" x=\"684\" y=\"121.1387\">«item  def»</text><text fill=\"#000000\" font-family=\"sans-serif\" font-size=\"12\" font-style=\"italic\" lengthAdjust=\"spacingAndGlyphs\" textLength=\"8\" x=\"714.5\" y=\"135.1074\">B</text><line style=\"stroke: #383838; stroke-width: 1.5;\" x1=\"684\" x2=\"753\" y1=\"142.9375\" y2=\"142.9375\"/></a><!--MD5=[2156ba9850f5573cc1fc38a6a4b2f02b]\n",
       "class E7--><a href=\"psysml:b4d408e4-c35f-4021-90a0-c54c4c634ca8\" target=\"_top\" title=\"psysml:b4d408e4-c35f-4021-90a0-c54c4c634ca8\" xlink:actuate=\"onRequest\" xlink:href=\"psysml:b4d408e4-c35f-4021-90a0-c54c4c634ca8\" xlink:show=\"new\" xlink:title=\"psysml:b4d408e4-c35f-4021-90a0-c54c4c634ca8\" xlink:type=\"simple\"><rect fill=\"#FFFFFF\" height=\"45.9375\" id=\"E7\" rx=\"10\" ry=\"10\" style=\"stroke: #383838; stroke-width: 1.5;\" width=\"42\" x=\"815\" y=\"73\"/><text fill=\"#000000\" font-family=\"sans-serif\" font-size=\"12\" font-style=\"italic\" lengthAdjust=\"spacingAndGlyphs\" textLength=\"40\" x=\"816\" y=\"89.1387\">«part»</text><text fill=\"#000000\" font-family=\"sans-serif\" font-size=\"12\" font-style=\"italic\" lengthAdjust=\"spacingAndGlyphs\" textLength=\"8\" x=\"822\" y=\"103.1074\">a</text><text fill=\"#000000\" font-family=\"sans-serif\" font-size=\"12\" lengthAdjust=\"spacingAndGlyphs\" textLength=\"16\" x=\"830\" y=\"103.1074\">: A</text><line style=\"stroke: #383838; stroke-width: 1.5;\" x1=\"816\" x2=\"856\" y1=\"110.9375\" y2=\"110.9375\"/></a><!--MD5=[b9389687b975829384b498ac4b7476b2]\n",
       "class E8--><a href=\"psysml:53104107-4f2e-4822-81be-c90629c3152e\" target=\"_top\" title=\"psysml:53104107-4f2e-4822-81be-c90629c3152e\" xlink:actuate=\"onRequest\" xlink:href=\"psysml:53104107-4f2e-4822-81be-c90629c3152e\" xlink:show=\"new\" xlink:title=\"psysml:53104107-4f2e-4822-81be-c90629c3152e\" xlink:type=\"simple\"><rect fill=\"#FFFFFF\" height=\"45.9375\" id=\"E8\" style=\"stroke: #383838; stroke-width: 1.5;\" width=\"70\" x=\"544\" y=\"105\"/><text fill=\"#000000\" font-family=\"sans-serif\" font-size=\"12\" font-style=\"italic\" lengthAdjust=\"spacingAndGlyphs\" textLength=\"68\" x=\"545\" y=\"121.1387\">«part  def»</text><text fill=\"#000000\" font-family=\"sans-serif\" font-size=\"12\" lengthAdjust=\"spacingAndGlyphs\" textLength=\"8\" x=\"575\" y=\"135.1074\">C</text><line style=\"stroke: #383838; stroke-width: 1.5;\" x1=\"545\" x2=\"613\" y1=\"142.9375\" y2=\"142.9375\"/></a><!--MD5=[fd4143e9d270a159db93a4ea2a975926]\n",
       "class E9--><a href=\"psysml:96c92d64-4061-42f0-9733-a4ee9bfee5f1\" target=\"_top\" title=\"psysml:96c92d64-4061-42f0-9733-a4ee9bfee5f1\" xlink:actuate=\"onRequest\" xlink:href=\"psysml:96c92d64-4061-42f0-9733-a4ee9bfee5f1\" xlink:show=\"new\" xlink:title=\"psysml:96c92d64-4061-42f0-9733-a4ee9bfee5f1\" xlink:type=\"simple\"><rect fill=\"#FFFFFF\" height=\"45.9375\" id=\"E9\" style=\"stroke: #383838; stroke-width: 1.5;\" width=\"70\" x=\"32\" y=\"163\"/><text fill=\"#000000\" font-family=\"sans-serif\" font-size=\"12\" font-style=\"italic\" lengthAdjust=\"spacingAndGlyphs\" textLength=\"68\" x=\"33\" y=\"179.1387\">«port  def»</text><text fill=\"#000000\" font-family=\"sans-serif\" font-size=\"12\" lengthAdjust=\"spacingAndGlyphs\" textLength=\"8\" x=\"63\" y=\"193.1074\">P</text><line style=\"stroke: #383838; stroke-width: 1.5;\" x1=\"33\" x2=\"101\" y1=\"200.9375\" y2=\"200.9375\"/></a><!--MD5=[96f4274e9e20536e775497830990834d]\n",
       "class E10--><a href=\"psysml:21151bb4-f160-49b9-964a-222b3c2d7b6c\" target=\"_top\" title=\"psysml:21151bb4-f160-49b9-964a-222b3c2d7b6c\" xlink:actuate=\"onRequest\" xlink:href=\"psysml:21151bb4-f160-49b9-964a-222b3c2d7b6c\" xlink:show=\"new\" xlink:title=\"psysml:21151bb4-f160-49b9-964a-222b3c2d7b6c\" xlink:type=\"simple\"><rect fill=\"#FFFFFF\" height=\"45.9375\" id=\"E10\" rx=\"10\" ry=\"10\" style=\"stroke: #383838; stroke-width: 1.5;\" width=\"43\" x=\"163\" y=\"203\"/><text fill=\"#000000\" font-family=\"sans-serif\" font-size=\"12\" font-style=\"italic\" lengthAdjust=\"spacingAndGlyphs\" textLength=\"41\" x=\"164\" y=\"219.1387\">«item»</text><text fill=\"#000000\" font-family=\"sans-serif\" font-size=\"12\" lengthAdjust=\"spacingAndGlyphs\" textLength=\"32\" x=\"166.5\" y=\"233.1074\">a1: A</text><line style=\"stroke: #383838; stroke-width: 1.5;\" x1=\"164\" x2=\"205\" y1=\"240.9375\" y2=\"240.9375\"/></a><!--MD5=[1dd1bfd58a279cf63c5f349dbc8fc6a1]\n",
       "class E11--><a href=\"psysml:048eeab4-ab84-4a9d-8dc8-2b5e8335cff3\" target=\"_top\" title=\"psysml:048eeab4-ab84-4a9d-8dc8-2b5e8335cff3\" xlink:actuate=\"onRequest\" xlink:href=\"psysml:048eeab4-ab84-4a9d-8dc8-2b5e8335cff3\" xlink:show=\"new\" xlink:title=\"psysml:048eeab4-ab84-4a9d-8dc8-2b5e8335cff3\" xlink:type=\"simple\"><rect fill=\"#FFFFFF\" height=\"45.9375\" id=\"E11\" rx=\"10\" ry=\"10\" style=\"stroke: #383838; stroke-width: 1.5;\" width=\"43\" x=\"163\" y=\"122\"/><text fill=\"#000000\" font-family=\"sans-serif\" font-size=\"12\" font-style=\"italic\" lengthAdjust=\"spacingAndGlyphs\" textLength=\"41\" x=\"164\" y=\"138.1387\">«item»</text><text fill=\"#000000\" font-family=\"sans-serif\" font-size=\"12\" lengthAdjust=\"spacingAndGlyphs\" textLength=\"32\" x=\"166.5\" y=\"152.1074\">a2: A</text><line style=\"stroke: #383838; stroke-width: 1.5;\" x1=\"164\" x2=\"205\" y1=\"159.9375\" y2=\"159.9375\"/></a><!--MD5=[2720a5a1f2c3fca2055b230370638851]\n",
       "link E2 to E3--><a href=\"psysml:e70b16f9-62c0-40f3-a087-aa973c352c22\" target=\"_top\" title=\"psysml:e70b16f9-62c0-40f3-a087-aa973c352c22\" xlink:actuate=\"onRequest\" xlink:href=\"psysml:e70b16f9-62c0-40f3-a087-aa973c352c22\" xlink:show=\"new\" xlink:title=\"psysml:e70b16f9-62c0-40f3-a087-aa973c352c22\" xlink:type=\"simple\"><path d=\"M206.24,78.48 C218.94,87.35 235.78,99.11 251.76,110.27 \" fill=\"none\" id=\"E2-&gt;E3\" style=\"stroke: #383838; stroke-width: 1.0;\"/><polygon fill=\"#FFFFFF\" points=\"268.21,121.75,248.6276,116.5992,256.6501,105.1257,268.21,121.75\" style=\"stroke: #383838; stroke-width: 1.0;\"/><ellipse cx=\"245.1024\" cy=\"111.6938\" fill=\"#383838\" rx=\"2\" ry=\"2\" style=\"stroke: #383838; stroke-width: 1.0;\"/><ellipse cx=\"250.8327\" cy=\"103.4985\" fill=\"#383838\" rx=\"2\" ry=\"2\" style=\"stroke: #383838; stroke-width: 1.0;\"/></a><!--MD5=[4672eba38e49728da53d11aeb285b987]\n",
       "reverse link E3 to E4--><a href=\"psysml:f5164247-58fc-45c1-bba3-2edebb195fbd\" target=\"_top\" title=\"psysml:f5164247-58fc-45c1-bba3-2edebb195fbd\" xlink:actuate=\"onRequest\" xlink:href=\"psysml:f5164247-58fc-45c1-bba3-2edebb195fbd\" xlink:show=\"new\" xlink:title=\"psysml:f5164247-58fc-45c1-bba3-2edebb195fbd\" xlink:type=\"simple\"><path d=\"M333.98,177.13 C351.32,193.04 374.45,210.6 399,219 C422.57,227.06 451.51,223.9 470.67,220.14 \" fill=\"none\" id=\"E3&lt;-E4\" style=\"stroke: #383838; stroke-width: 1.0;\"/><polygon fill=\"#383838\" points=\"324.47,168.03,326.0431,175.0674,333.1443,176.322,331.5711,169.2846,324.47,168.03\" style=\"stroke: #383838; stroke-width: 1.0;\"/><text fill=\"#000000\" font-family=\"sans-serif\" font-size=\"13\" lengthAdjust=\"spacingAndGlyphs\" textLength=\"8\" x=\"455.0824\" y=\"235.9486\">1</text></a><!--MD5=[191cde3d490a3f6d7bb551fe3ddca469]\n",
       "reverse link E3 to E5--><a href=\"psysml:0e10322d-8096-4d1c-ad13-bcf359abd35a\" target=\"_top\" title=\"psysml:0e10322d-8096-4d1c-ad13-bcf359abd35a\" xlink:actuate=\"onRequest\" xlink:href=\"psysml:0e10322d-8096-4d1c-ad13-bcf359abd35a\" xlink:show=\"new\" xlink:title=\"psysml:0e10322d-8096-4d1c-ad13-bcf359abd35a\" xlink:type=\"simple\"><path d=\"M350.66,127.03 C367.46,120.64 385.49,113.77 398.81,108.69 \" fill=\"none\" id=\"E3&lt;-E5\" style=\"stroke: #383838; stroke-width: 1.0;\"/><polygon fill=\"#FFFFFF\" points=\"338.15,131.8,345.1812,133.4006,349.363,127.5259,342.3318,125.9253,338.15,131.8\" style=\"stroke: #383838; stroke-width: 1.0;\"/><text fill=\"#000000\" font-family=\"sans-serif\" font-size=\"13\" lengthAdjust=\"spacingAndGlyphs\" textLength=\"8\" x=\"383.0956\" y=\"125.4387\">1</text></a><!--MD5=[79568f1e445c3877b6a54524624ccc7d]\n",
       "link E4 to E6--><a href=\"psysml:cd799d59-974c-4cd5-b2a4-5d2e853ea550\" target=\"_top\" title=\"psysml:cd799d59-974c-4cd5-b2a4-5d2e853ea550\" xlink:actuate=\"onRequest\" xlink:href=\"psysml:cd799d59-974c-4cd5-b2a4-5d2e853ea550\" xlink:show=\"new\" xlink:title=\"psysml:cd799d59-974c-4cd5-b2a4-5d2e853ea550\" xlink:type=\"simple\"><path d=\"M514.17,206.97 C547.89,193.88 615.78,167.51 663.82,148.85 \" fill=\"none\" id=\"E4-&gt;E6\" style=\"stroke: #383838; stroke-width: 1.0;\"/><polygon fill=\"#FFFFFF\" points=\"682.72,141.51,667.5446,154.9155,662.4747,141.8657,682.72,141.51\" style=\"stroke: #383838; stroke-width: 1.0;\"/><ellipse cx=\"661.5072\" cy=\"155.1154\" fill=\"#383838\" rx=\"2\" ry=\"2\" style=\"stroke: #383838; stroke-width: 1.0;\"/><ellipse cx=\"657.8858\" cy=\"145.7941\" fill=\"#383838\" rx=\"2\" ry=\"2\" style=\"stroke: #383838; stroke-width: 1.0;\"/></a><!--MD5=[3f50a3473f1dfb74d3f76443e03635af]\n",
       "reverse link E6 to E7--><a href=\"psysml:f66c29ee-70ba-402f-a3a4-159df7b46130\" target=\"_top\" title=\"psysml:f66c29ee-70ba-402f-a3a4-159df7b46130\" xlink:actuate=\"onRequest\" xlink:href=\"psysml:f66c29ee-70ba-402f-a3a4-159df7b46130\" xlink:show=\"new\" xlink:title=\"psysml:f66c29ee-70ba-402f-a3a4-159df7b46130\" xlink:type=\"simple\"><path d=\"M767.15,114.8 C783.81,110.18 801.62,105.25 814.81,101.59 \" fill=\"none\" id=\"E6&lt;-E7\" style=\"stroke: #383838; stroke-width: 1.0;\"/><polygon fill=\"#383838\" points=\"754.15,118.4,761.0002,120.6526,765.7143,115.1958,758.8641,112.9431,754.15,118.4\" style=\"stroke: #383838; stroke-width: 1.0;\"/><text fill=\"#000000\" font-family=\"sans-serif\" font-size=\"13\" lengthAdjust=\"spacingAndGlyphs\" textLength=\"8\" x=\"799.0956\" y=\"117.6956\">1</text></a><!--MD5=[14ccda38c055a5c0da953d572bc50960]\n",
       "link E7 to E3--><a href=\"psysml:4b14459c-c0ea-47eb-ae95-5bdd156140b8\" target=\"_top\" title=\"psysml:4b14459c-c0ea-47eb-ae95-5bdd156140b8\" xlink:actuate=\"onRequest\" xlink:href=\"psysml:4b14459c-c0ea-47eb-ae95-5bdd156140b8\" xlink:show=\"new\" xlink:title=\"psysml:4b14459c-c0ea-47eb-ae95-5bdd156140b8\" xlink:type=\"simple\"><path d=\"M814.63,79.8 C792.54,63.89 755.58,42 719.5,42 C419,42 419,42 419,42 C379.51,42 347.29,75.96 327.01,104.88 \" fill=\"none\" id=\"E7-&gt;E3\" style=\"stroke: #383838; stroke-width: 1.0;\"/><polygon fill=\"#FFFFFF\" points=\"315.97,121.88,320.4427,102.1317,332.1859,109.7538,315.97,121.88\" style=\"stroke: #383838; stroke-width: 1.0;\"/><ellipse cx=\"325.2235\" cy=\"98.4394\" fill=\"#383838\" rx=\"2\" ry=\"2\" style=\"stroke: #383838; stroke-width: 1.0;\"/><ellipse cx=\"333.6116\" cy=\"103.8838\" fill=\"#383838\" rx=\"2\" ry=\"2\" style=\"stroke: #383838; stroke-width: 1.0;\"/></a><!--MD5=[dfaffb906826c3e5aca635516100ff21]\n",
       "link E5 to E8--><a href=\"psysml:7f99918d-ef62-497c-9b9a-668f89d0bef4\" target=\"_top\" title=\"psysml:7f99918d-ef62-497c-9b9a-668f89d0bef4\" xlink:actuate=\"onRequest\" xlink:href=\"psysml:7f99918d-ef62-497c-9b9a-668f89d0bef4\" xlink:show=\"new\" xlink:title=\"psysml:7f99918d-ef62-497c-9b9a-668f89d0bef4\" xlink:type=\"simple\"><path d=\"M441.2,104.47 C462.06,108.06 495.5,113.81 524.1,118.73 \" fill=\"none\" id=\"E5-&gt;E8\" style=\"stroke: #383838; stroke-width: 1.0;\"/><polygon fill=\"#FFFFFF\" points=\"543.82,122.12,523.9093,125.803,526.279,112.005,543.82,122.12\" style=\"stroke: #383838; stroke-width: 1.0;\"/><ellipse cx=\"518.6301\" cy=\"122.8671\" fill=\"#383838\" rx=\"2\" ry=\"2\" style=\"stroke: #383838; stroke-width: 1.0;\"/><ellipse cx=\"520.3227\" cy=\"113.0114\" fill=\"#383838\" rx=\"2\" ry=\"2\" style=\"stroke: #383838; stroke-width: 1.0;\"/></a><!--MD5=[03c8294790d3c57651a1993cecff665f]\n",
       "reverse link E8 to E3--><a href=\"psysml:8abdebaf-64f0-40cf-a780-4a21932975d8\" target=\"_top\" title=\"psysml:8abdebaf-64f0-40cf-a780-4a21932975d8\" xlink:actuate=\"onRequest\" xlink:href=\"psysml:8abdebaf-64f0-40cf-a780-4a21932975d8\" xlink:show=\"new\" xlink:title=\"psysml:8abdebaf-64f0-40cf-a780-4a21932975d8\" xlink:type=\"simple\"><path d=\"M531.34,140.84 C505.03,147.41 471.44,154.71 441,158 C422.44,160.01 417.62,159.26 399,158 C378.8,156.63 356.36,153.65 338.31,150.89 \" fill=\"none\" id=\"E8&lt;-E3\" style=\"stroke: #383838; stroke-width: 1.0;\"/><polygon fill=\"#FFFFFF\" points=\"543.99,137.59,537.1849,135.2045,532.3655,140.5686,539.1706,142.9541,543.99,137.59\" style=\"stroke: #383838; stroke-width: 1.0;\"/><text fill=\"#000000\" font-family=\"sans-serif\" font-size=\"13\" lengthAdjust=\"spacingAndGlyphs\" textLength=\"7\" x=\"416.5\" y=\"154.0669\">y</text></a><!--MD5=[0d75d2178373a6a4568e5dc728f58aef]\n",
       "reverse link E8 to E6--><a href=\"psysml:8abdebaf-64f0-40cf-a780-4a21932975d8\" target=\"_top\" title=\"psysml:8abdebaf-64f0-40cf-a780-4a21932975d8\" xlink:actuate=\"onRequest\" xlink:href=\"psysml:8abdebaf-64f0-40cf-a780-4a21932975d8\" xlink:show=\"new\" xlink:title=\"psysml:8abdebaf-64f0-40cf-a780-4a21932975d8\" xlink:type=\"simple\"><path d=\"M627.39,128 C645.53,128 665.88,128 682.64,128 \" fill=\"none\" id=\"E8&lt;-E6\" style=\"stroke: #383838; stroke-width: 1.0;\"/><polygon fill=\"#FFFFFF\" points=\"614.34,128,620.34,132,626.34,128,620.34,124,614.34,128\" style=\"stroke: #383838; stroke-width: 1.0;\"/><text fill=\"#000000\" font-family=\"sans-serif\" font-size=\"13\" lengthAdjust=\"spacingAndGlyphs\" textLength=\"7\" x=\"645\" y=\"124.0669\">y</text></a><!--MD5=[23ac544a70576c3e717098101004234c]\n",
       "reverse link E9 to E10--><a href=\"psysml:4b97f70b-21b5-47d0-9b80-bf68f1206e68\" target=\"_top\" title=\"psysml:4b97f70b-21b5-47d0-9b80-bf68f1206e68\" xlink:actuate=\"onRequest\" xlink:href=\"psysml:4b97f70b-21b5-47d0-9b80-bf68f1206e68\" xlink:show=\"new\" xlink:title=\"psysml:4b97f70b-21b5-47d0-9b80-bf68f1206e68\" xlink:type=\"simple\"><path d=\"M114.48,202.1 C131.24,207.9 149.31,214.16 162.75,218.81 \" fill=\"none\" id=\"E9&lt;-E10\" style=\"stroke: #383838; stroke-width: 1.0;\"/><polygon fill=\"#FFFFFF\" points=\"102.03,197.78,106.3896,203.524,113.3686,201.7089,109.0089,195.9649,102.03,197.78\" style=\"stroke: #383838; stroke-width: 1.0;\"/><text fill=\"#000000\" font-family=\"sans-serif\" font-size=\"13\" lengthAdjust=\"spacingAndGlyphs\" textLength=\"8\" x=\"146.8641\" y=\"231.0017\">1</text></a><!--MD5=[feeac5eb423634930294aa81f2d25a4c]\n",
       "link E10 to E3--><a href=\"psysml:890b43d2-a44a-4df9-b863-0c7f323950a1\" target=\"_top\" title=\"psysml:890b43d2-a44a-4df9-b863-0c7f323950a1\" xlink:actuate=\"onRequest\" xlink:href=\"psysml:890b43d2-a44a-4df9-b863-0c7f323950a1\" xlink:show=\"new\" xlink:title=\"psysml:890b43d2-a44a-4df9-b863-0c7f323950a1\" xlink:type=\"simple\"><path d=\"M206.24,211.52 C218.94,202.65 235.78,190.89 251.76,179.73 \" fill=\"none\" id=\"E10-&gt;E3\" style=\"stroke: #383838; stroke-width: 1.0;\"/><polygon fill=\"#FFFFFF\" points=\"268.21,168.25,256.6501,184.8743,248.6276,173.4008,268.21,168.25\" style=\"stroke: #383838; stroke-width: 1.0;\"/><ellipse cx=\"250.8327\" cy=\"186.5015\" fill=\"#383838\" rx=\"2\" ry=\"2\" style=\"stroke: #383838; stroke-width: 1.0;\"/><ellipse cx=\"245.1024\" cy=\"178.3062\" fill=\"#383838\" rx=\"2\" ry=\"2\" style=\"stroke: #383838; stroke-width: 1.0;\"/></a><!--MD5=[1fc04a95fd77ad5ce46c1a3027516051]\n",
       "reverse link E9 to E11--><a href=\"psysml:75cdd26f-47cf-45db-b14e-ba01ceb3edc6\" target=\"_top\" title=\"psysml:75cdd26f-47cf-45db-b14e-ba01ceb3edc6\" xlink:actuate=\"onRequest\" xlink:href=\"psysml:75cdd26f-47cf-45db-b14e-ba01ceb3edc6\" xlink:show=\"new\" xlink:title=\"psysml:75cdd26f-47cf-45db-b14e-ba01ceb3edc6\" xlink:type=\"simple\"><path d=\"M114.48,169.5 C131.24,163.55 149.31,157.14 162.75,152.37 \" fill=\"none\" id=\"E9&lt;-E11\" style=\"stroke: #383838; stroke-width: 1.0;\"/><polygon fill=\"#FFFFFF\" points=\"102.03,173.92,109.0214,175.6865,113.341,169.9124,106.3496,168.1458,102.03,173.92\" style=\"stroke: #383838; stroke-width: 1.0;\"/><text fill=\"#000000\" font-family=\"sans-serif\" font-size=\"13\" lengthAdjust=\"spacingAndGlyphs\" textLength=\"8\" x=\"146.8641\" y=\"169.0207\">1</text></a><!--MD5=[0517f1ce58c4d5483948f93845c45e26]\n",
       "link E11 to E3--><a href=\"psysml:92dee77c-180b-445a-a05e-737a71661cde\" target=\"_top\" title=\"psysml:92dee77c-180b-445a-a05e-737a71661cde\" xlink:actuate=\"onRequest\" xlink:href=\"psysml:92dee77c-180b-445a-a05e-737a71661cde\" xlink:show=\"new\" xlink:title=\"psysml:92dee77c-180b-445a-a05e-737a71661cde\" xlink:type=\"simple\"><path d=\"M206.24,145 C217.53,145 232.1,145 246.43,145 \" fill=\"none\" id=\"E11-&gt;E3\" style=\"stroke: #383838; stroke-width: 1.0;\"/><polygon fill=\"#FFFFFF\" points=\"266.84,145,247.84,152,247.84,138,266.84,145\" style=\"stroke: #383838; stroke-width: 1.0;\"/><ellipse cx=\"242.14\" cy=\"150\" fill=\"#383838\" rx=\"2\" ry=\"2\" style=\"stroke: #383838; stroke-width: 1.0;\"/><ellipse cx=\"242.14\" cy=\"140\" fill=\"#383838\" rx=\"2\" ry=\"2\" style=\"stroke: #383838; stroke-width: 1.0;\"/></a><!--MD5=[87a8c0ffdb8594de701c54aa98bcde45]\n",
       "@startuml\r\n",
       "left to right direction\r\n",
       "skinparam monochrome true\r\n",
       "skinparam classbackgroundcolor white\r\n",
       "skinparam shadowing false\r\n",
       "skinparam wrapWidth 300\r\n",
       "hide circle\r\n",
       "\r\n",
       "package \"ItemTest\" as E1  [[psysml:8469bc55-64be-4e75-90cd-bb271a7bb256 ]]  {\r\n",
       "comp usage \"f: A \" as E2  <<(T,blue) item>> [[psysml:6cbf61b0-82f0-477a-9e61-503ee7ef8ab3 ]] {\r\n",
       "}\r\n",
       "comp def \"A\" as E3  <<(T,blue) item  def>> [[psysml:73e4759d-5191-4c8c-b634-f2bc1b43e3a3 ]] {\r\n",
       "}\r\n",
       "comp usage \"b: B \" as E4  <<(T,blue) item>> [[psysml:22dedc78-8a6f-47e7-a1b3-f5299f454177 ]] {\r\n",
       "}\r\n",
       "comp usage \"c: C \" as E5  <<(T,blue) part>> [[psysml:d5b518cb-4e9d-48f6-86e4-811292cf7103 ]] {\r\n",
       "}\r\n",
       "comp def \"<i>B</i>\" as E6  <<(T,blue) item  def>> [[psysml:7fb13a86-95b9-42ac-ac4a-d3cbb2045ff7 ]] {\r\n",
       "}\r\n",
       "comp usage \"<i>a</i>: A \" as E7  <<(T,blue) part>> [[psysml:b4d408e4-c35f-4021-90a0-c54c4c634ca8 ]] {\r\n",
       "}\r\n",
       "comp def \"C\" as E8  <<(T,blue) part  def>> [[psysml:53104107-4f2e-4822-81be-c90629c3152e ]] {\r\n",
       "}\r\n",
       "comp def \"P\" as E9  <<(T,blue) port  def>> [[psysml:96c92d64-4061-42f0-9733-a4ee9bfee5f1 ]] {\r\n",
       "}\r\n",
       "comp usage \"a1: A \" as E10  <<(T,blue) item>> [[psysml:21151bb4-f160-49b9-964a-222b3c2d7b6c ]] {\r\n",
       "}\r\n",
       "comp usage \"a2: A \" as E11  <<(T,blue) item>> [[psysml:048eeab4-ab84-4a9d-8dc8-2b5e8335cff3 ]] {\r\n",
       "}\r\n",
       "}\r\n",
       "E2 - -:|> E3 [[psysml:e70b16f9-62c0-40f3-a087-aa973c352c22 ]] \r\n",
       "E3 *- - \"1\"E4 [[psysml:f5164247-58fc-45c1-bba3-2edebb195fbd ]] \r\n",
       "E3 o- - \"1\"E5 [[psysml:0e10322d-8096-4d1c-ad13-bcf359abd35a ]] \r\n",
       "E4 - -:|> E6 [[psysml:cd799d59-974c-4cd5-b2a4-5d2e853ea550 ]] \r\n",
       "E6 *- - \"1\"E7 [[psysml:f66c29ee-70ba-402f-a3a4-159df7b46130 ]] \r\n",
       "E7 - -:|> E3 [[psysml:4b14459c-c0ea-47eb-ae95-5bdd156140b8 ]] \r\n",
       "E5 - -:|> E8 [[psysml:7f99918d-ef62-497c-9b9a-668f89d0bef4 ]] \r\n",
       "E8 o- - E3 [[psysml:8abdebaf-64f0-40cf-a780-4a21932975d8 ]] : y\r\n",
       "E8 o- - E6 [[psysml:8abdebaf-64f0-40cf-a780-4a21932975d8 ]] : y\r\n",
       "E9 o- - \"1\"E10 [[psysml:4b97f70b-21b5-47d0-9b80-bf68f1206e68 ]] \r\n",
       "E10 - -:|> E3 [[psysml:890b43d2-a44a-4df9-b863-0c7f323950a1 ]] \r\n",
       "E9 o- - \"1\"E11 [[psysml:75cdd26f-47cf-45db-b14e-ba01ceb3edc6 ]] \r\n",
       "E11 - -:|> E3 [[psysml:92dee77c-180b-445a-a05e-737a71661cde ]] \r\n",
       "@enduml\r\n",
       "\n",
       "PlantUML version 1.2020.13(Sat Jun 13 12:26:38 UTC 2020)\n",
       "(EPL source distribution)\n",
       "Java Runtime: OpenJDK Runtime Environment\n",
       "JVM: OpenJDK 64-Bit Server VM\n",
       "Default Encoding: UTF-8\n",
       "Language: en\n",
       "Country: null\n",
       "--></g></svg>"
      ]
     },
     "execution_count": 17,
     "metadata": {},
     "output_type": "execute_result"
    }
   ],
   "source": [
    "%viz --style=\"LR\" --view=\"Tree\" \"ItemTest\""
   ]
  },
  {
   "cell_type": "code",
   "execution_count": 18,
   "id": "3c91e1d8",
   "metadata": {
    "execution": {
     "iopub.execute_input": "2022-03-21T07:49:10.077521Z",
     "iopub.status.busy": "2022-03-21T07:49:10.076787Z",
     "iopub.status.idle": "2022-03-21T07:49:10.082093Z",
     "shell.execute_reply": "2022-03-21T07:49:10.082416Z"
    }
   },
   "outputs": [
    {
     "data": {
      "image/svg+xml": [
       "<?xml version=\"1.0\" encoding=\"UTF-8\" standalone=\"no\"?><svg xmlns=\"http://www.w3.org/2000/svg\" xmlns:xlink=\"http://www.w3.org/1999/xlink\" contentScriptType=\"application/ecmascript\" contentStyleType=\"text/css\" height=\"12px\" preserveAspectRatio=\"none\" style=\"width:12px;height:12px;\" version=\"1.1\" viewBox=\"0 0 12 12\" width=\"12px\" zoomAndPan=\"magnify\"><defs/><g><!--MD5=[19d285c9d72a204eba4e2cd117d745e8]\n",
       "@startuml\r\n",
       "left to right direction\r\n",
       "skinparam monochrome true\r\n",
       "skinparam classbackgroundcolor white\r\n",
       "skinparam shadowing false\r\n",
       "skinparam wrapWidth 300\r\n",
       "hide circle\r\n",
       "\r\n",
       "@enduml\r\n",
       "\n",
       "PlantUML version 1.2020.13(Sat Jun 13 12:26:38 UTC 2020)\n",
       "(EPL source distribution)\n",
       "Java Runtime: OpenJDK Runtime Environment\n",
       "JVM: OpenJDK 64-Bit Server VM\n",
       "Default Encoding: UTF-8\n",
       "Language: en\n",
       "Country: null\n",
       "--></g></svg>"
      ]
     },
     "execution_count": 18,
     "metadata": {},
     "output_type": "execute_result"
    }
   ],
   "source": [
    "%viz --style=\"LR\" --view=\"State\" \"ItemTest\""
   ]
  },
  {
   "cell_type": "code",
   "execution_count": 19,
   "id": "3154f707",
   "metadata": {
    "execution": {
     "iopub.execute_input": "2022-03-21T07:49:10.132570Z",
     "iopub.status.busy": "2022-03-21T07:49:10.132158Z",
     "iopub.status.idle": "2022-03-21T07:49:10.161116Z",
     "shell.execute_reply": "2022-03-21T07:49:10.159769Z"
    }
   },
   "outputs": [
    {
     "data": {
      "image/svg+xml": [
       "<?xml version=\"1.0\" encoding=\"UTF-8\" standalone=\"no\"?><svg xmlns=\"http://www.w3.org/2000/svg\" xmlns:xlink=\"http://www.w3.org/1999/xlink\" contentScriptType=\"application/ecmascript\" contentStyleType=\"text/css\" height=\"425px\" preserveAspectRatio=\"none\" style=\"width:146px;height:425px;\" version=\"1.1\" viewBox=\"0 0 146 425\" width=\"146px\" zoomAndPan=\"magnify\"><defs/><g><!--MD5=[fbc87193dbaf4d95561dea2c320d4a47]\n",
       "cluster E1--><a href=\"psysml:8469bc55-64be-4e75-90cd-bb271a7bb256\" target=\"_top\" title=\"psysml:8469bc55-64be-4e75-90cd-bb271a7bb256\" xlink:actuate=\"onRequest\" xlink:href=\"psysml:8469bc55-64be-4e75-90cd-bb271a7bb256\" xlink:show=\"new\" xlink:title=\"psysml:8469bc55-64be-4e75-90cd-bb271a7bb256\" xlink:type=\"simple\"><polygon fill=\"#FFFFFF\" points=\"16,6,83,6,90,28.2969,124,28.2969,124,413,16,413,16,6\" style=\"stroke: #000000; stroke-width: 1.5;\"/><line style=\"stroke: #000000; stroke-width: 1.5;\" x1=\"16\" x2=\"90\" y1=\"28.2969\" y2=\"28.2969\"/><text fill=\"#000000\" font-family=\"sans-serif\" font-size=\"14\" font-weight=\"bold\" lengthAdjust=\"spacingAndGlyphs\" textLength=\"61\" x=\"20\" y=\"20.9951\">ItemTest</text></a><g id=\"E1.E3\"><a href=\"psysml:73e4759d-5191-4c8c-b634-f2bc1b43e3a3\" target=\"_top\" title=\"psysml:73e4759d-5191-4c8c-b634-f2bc1b43e3a3\" xlink:actuate=\"onRequest\" xlink:href=\"psysml:73e4759d-5191-4c8c-b634-f2bc1b43e3a3\" xlink:show=\"new\" xlink:title=\"psysml:73e4759d-5191-4c8c-b634-f2bc1b43e3a3\" xlink:type=\"simple\"><rect fill=\"#FFFFFF\" height=\"42.9375\" id=\"E3\" style=\"stroke: #383838; stroke-width: 1.5;\" width=\"76\" x=\"32\" y=\"41.5\"/><rect fill=\"#F8F8F8\" height=\"37.9375\" style=\"stroke: #383838; stroke-width: 1.5;\" width=\"76\" x=\"32\" y=\"41.5\"/><text fill=\"#000000\" font-family=\"sans-serif\" font-size=\"12\" font-style=\"italic\" lengthAdjust=\"spacingAndGlyphs\" textLength=\"69\" x=\"35.5\" y=\"57.6387\">«item  def»</text><text fill=\"#000000\" font-family=\"sans-serif\" font-size=\"12\" lengthAdjust=\"spacingAndGlyphs\" textLength=\"8\" x=\"66\" y=\"71.6074\">A</text></a></g><g id=\"E1.E4\"><a href=\"psysml:7fb13a86-95b9-42ac-ac4a-d3cbb2045ff7\" target=\"_top\" title=\"psysml:7fb13a86-95b9-42ac-ac4a-d3cbb2045ff7\" xlink:actuate=\"onRequest\" xlink:href=\"psysml:7fb13a86-95b9-42ac-ac4a-d3cbb2045ff7\" xlink:show=\"new\" xlink:title=\"psysml:7fb13a86-95b9-42ac-ac4a-d3cbb2045ff7\" xlink:type=\"simple\"><rect fill=\"#FFFFFF\" height=\"42.9375\" id=\"E4\" style=\"stroke: #383838; stroke-width: 1.5;\" width=\"76\" x=\"32\" y=\"119.5\"/><rect fill=\"#F8F8F8\" height=\"37.9375\" style=\"stroke: #383838; stroke-width: 1.5;\" width=\"76\" x=\"32\" y=\"119.5\"/><text fill=\"#000000\" font-family=\"sans-serif\" font-size=\"12\" font-style=\"italic\" lengthAdjust=\"spacingAndGlyphs\" textLength=\"69\" x=\"35.5\" y=\"135.6387\">«item  def»</text><text fill=\"#000000\" font-family=\"sans-serif\" font-size=\"12\" font-style=\"italic\" lengthAdjust=\"spacingAndGlyphs\" textLength=\"8\" x=\"66\" y=\"149.6074\">B</text></a></g><g id=\"E1.E6\"><a href=\"psysml:96c92d64-4061-42f0-9733-a4ee9bfee5f1\" target=\"_top\" title=\"psysml:96c92d64-4061-42f0-9733-a4ee9bfee5f1\" xlink:actuate=\"onRequest\" xlink:href=\"psysml:96c92d64-4061-42f0-9733-a4ee9bfee5f1\" xlink:show=\"new\" xlink:title=\"psysml:96c92d64-4061-42f0-9733-a4ee9bfee5f1\" xlink:type=\"simple\"><rect fill=\"#FFFFFF\" height=\"42.9375\" id=\"E6\" style=\"stroke: #383838; stroke-width: 1.5;\" width=\"75\" x=\"32.5\" y=\"197.5\"/><rect fill=\"#F8F8F8\" height=\"37.9375\" style=\"stroke: #383838; stroke-width: 1.5;\" width=\"75\" x=\"32.5\" y=\"197.5\"/><text fill=\"#000000\" font-family=\"sans-serif\" font-size=\"12\" font-style=\"italic\" lengthAdjust=\"spacingAndGlyphs\" textLength=\"68\" x=\"36\" y=\"213.6387\">«port  def»</text><text fill=\"#000000\" font-family=\"sans-serif\" font-size=\"12\" lengthAdjust=\"spacingAndGlyphs\" textLength=\"8\" x=\"66\" y=\"227.6074\">P</text></a></g><g id=\"E1.E2\"><a href=\"psysml:6cbf61b0-82f0-477a-9e61-503ee7ef8ab3\" target=\"_top\" title=\"psysml:6cbf61b0-82f0-477a-9e61-503ee7ef8ab3\" xlink:actuate=\"onRequest\" xlink:href=\"psysml:6cbf61b0-82f0-477a-9e61-503ee7ef8ab3\" xlink:show=\"new\" xlink:title=\"psysml:6cbf61b0-82f0-477a-9e61-503ee7ef8ab3\" xlink:type=\"simple\"><rect fill=\"#FFFFFF\" height=\"42.9375\" id=\"E2\" rx=\"10\" ry=\"10\" style=\"stroke: #383838; stroke-width: 1.5;\" width=\"50\" x=\"45\" y=\"275.5\"/><rect fill=\"#F8F8F8\" height=\"37.9375\" rx=\"10\" ry=\"10\" style=\"stroke: #F8F8F8; stroke-width: 1.5;\" width=\"50\" x=\"45\" y=\"275.5\"/><rect fill=\"#F8F8F8\" height=\"10\" style=\"stroke: #F8F8F8; stroke-width: 1.5;\" width=\"50\" x=\"45\" y=\"303.4375\"/><rect fill=\"none\" height=\"42.9375\" id=\"E2\" rx=\"10\" ry=\"10\" style=\"stroke: #383838; stroke-width: 1.5;\" width=\"50\" x=\"45\" y=\"275.5\"/><text fill=\"#000000\" font-family=\"sans-serif\" font-size=\"12\" font-style=\"italic\" lengthAdjust=\"spacingAndGlyphs\" textLength=\"41\" x=\"49.5\" y=\"291.6387\">«item»</text><text fill=\"#000000\" font-family=\"sans-serif\" font-size=\"12\" lengthAdjust=\"spacingAndGlyphs\" textLength=\"20\" x=\"60\" y=\"305.6074\">f: A</text></a></g><g id=\"E1.E5\"><a href=\"psysml:53104107-4f2e-4822-81be-c90629c3152e\" target=\"_top\" title=\"psysml:53104107-4f2e-4822-81be-c90629c3152e\" xlink:actuate=\"onRequest\" xlink:href=\"psysml:53104107-4f2e-4822-81be-c90629c3152e\" xlink:show=\"new\" xlink:title=\"psysml:53104107-4f2e-4822-81be-c90629c3152e\" xlink:type=\"simple\"><rect fill=\"#FFFFFF\" height=\"42.9375\" id=\"E5\" style=\"stroke: #383838; stroke-width: 1.5;\" width=\"75\" x=\"32.5\" y=\"353.5\"/><rect fill=\"#F8F8F8\" height=\"37.9375\" style=\"stroke: #383838; stroke-width: 1.5;\" width=\"75\" x=\"32.5\" y=\"353.5\"/><text fill=\"#000000\" font-family=\"sans-serif\" font-size=\"12\" font-style=\"italic\" lengthAdjust=\"spacingAndGlyphs\" textLength=\"68\" x=\"36\" y=\"369.6387\">«part  def»</text><text fill=\"#000000\" font-family=\"sans-serif\" font-size=\"12\" lengthAdjust=\"spacingAndGlyphs\" textLength=\"8\" x=\"66\" y=\"383.6074\">C</text></a></g><!--MD5=[54a0e78eaf1a79d66e5cca4b6f4c12f4]\n",
       "@startuml\r\n",
       "skinparam ranksep 10\r\n",
       "skinparam rectangle {\r\n",
       " backgroundColor<<block>> LightGreen\r\n",
       "}\r\n",
       "left to right direction\r\n",
       "skinparam monochrome true\r\n",
       "skinparam classbackgroundcolor white\r\n",
       "skinparam shadowing false\r\n",
       "skinparam wrapWidth 300\r\n",
       "hide circle\r\n",
       "\r\n",
       "package \"ItemTest\" as E1  [[psysml:8469bc55-64be-4e75-90cd-bb271a7bb256 ]]  {\r\n",
       "rec usage \"f: A\" as E2  <<(T,blue) item>> [[psysml:6cbf61b0-82f0-477a-9e61-503ee7ef8ab3 ]] {\r\n",
       "}\r\n",
       "def \"A\" as E3  <<(T,blue) item  def>> [[psysml:73e4759d-5191-4c8c-b634-f2bc1b43e3a3 ]] \r\n",
       "def \"<i>B</i>\" as E4  <<(T,blue) item  def>> [[psysml:7fb13a86-95b9-42ac-ac4a-d3cbb2045ff7 ]] \r\n",
       "rec def \"C\" as E5  <<(T,blue) part  def>> [[psysml:53104107-4f2e-4822-81be-c90629c3152e ]] {\r\n",
       "}\r\n",
       "def \"P\" as E6  <<(T,blue) port  def>> [[psysml:96c92d64-4061-42f0-9733-a4ee9bfee5f1 ]] \r\n",
       "}\r\n",
       "@enduml\r\n",
       "\n",
       "PlantUML version 1.2020.13(Sat Jun 13 12:26:38 UTC 2020)\n",
       "(EPL source distribution)\n",
       "Java Runtime: OpenJDK Runtime Environment\n",
       "JVM: OpenJDK 64-Bit Server VM\n",
       "Default Encoding: UTF-8\n",
       "Language: en\n",
       "Country: null\n",
       "--></g></svg>"
      ]
     },
     "execution_count": 19,
     "metadata": {},
     "output_type": "execute_result"
    }
   ],
   "source": [
    "%viz --style=\"LR\" --view=\"Interconnection\" \"ItemTest\""
   ]
  },
  {
   "cell_type": "code",
   "execution_count": 20,
   "id": "e19939ae",
   "metadata": {
    "execution": {
     "iopub.execute_input": "2022-03-21T07:49:10.210640Z",
     "iopub.status.busy": "2022-03-21T07:49:10.210225Z",
     "iopub.status.idle": "2022-03-21T07:49:10.214998Z",
     "shell.execute_reply": "2022-03-21T07:49:10.215306Z"
    }
   },
   "outputs": [
    {
     "data": {
      "image/svg+xml": [
       "<?xml version=\"1.0\" encoding=\"UTF-8\" standalone=\"no\"?><svg xmlns=\"http://www.w3.org/2000/svg\" xmlns:xlink=\"http://www.w3.org/1999/xlink\" contentScriptType=\"application/ecmascript\" contentStyleType=\"text/css\" height=\"12px\" preserveAspectRatio=\"none\" style=\"width:12px;height:12px;\" version=\"1.1\" viewBox=\"0 0 12 12\" width=\"12px\" zoomAndPan=\"magnify\"><defs/><g><!--MD5=[7aeb398939421629f6affaa4a1a7b125]\n",
       "@startuml\r\n",
       "skinparam ranksep 8\r\n",
       "left to right direction\r\n",
       "skinparam monochrome true\r\n",
       "skinparam classbackgroundcolor white\r\n",
       "skinparam shadowing false\r\n",
       "skinparam wrapWidth 300\r\n",
       "hide circle\r\n",
       "\r\n",
       "@enduml\r\n",
       "\n",
       "PlantUML version 1.2020.13(Sat Jun 13 12:26:38 UTC 2020)\n",
       "(EPL source distribution)\n",
       "Java Runtime: OpenJDK Runtime Environment\n",
       "JVM: OpenJDK 64-Bit Server VM\n",
       "Default Encoding: UTF-8\n",
       "Language: en\n",
       "Country: null\n",
       "--></g></svg>"
      ]
     },
     "execution_count": 20,
     "metadata": {},
     "output_type": "execute_result"
    }
   ],
   "source": [
    "%viz --style=\"LR\" --view=\"Action\" \"ItemTest\""
   ]
  },
  {
   "cell_type": "code",
   "execution_count": 21,
   "id": "b82806ab",
   "metadata": {
    "execution": {
     "iopub.execute_input": "2022-03-21T07:49:10.265690Z",
     "iopub.status.busy": "2022-03-21T07:49:10.265211Z",
     "iopub.status.idle": "2022-03-21T07:49:10.271196Z",
     "shell.execute_reply": "2022-03-21T07:49:10.270817Z"
    }
   },
   "outputs": [
    {
     "data": {
      "image/svg+xml": [
       "<?xml version=\"1.0\" encoding=\"UTF-8\" standalone=\"no\"?><svg xmlns=\"http://www.w3.org/2000/svg\" xmlns:xlink=\"http://www.w3.org/1999/xlink\" contentScriptType=\"application/ecmascript\" contentStyleType=\"text/css\" height=\"12px\" preserveAspectRatio=\"none\" style=\"width:12px;height:12px;\" version=\"1.1\" viewBox=\"0 0 12 12\" width=\"12px\" zoomAndPan=\"magnify\"><defs/><g><!--MD5=[238c11ea2002f03115ad6b49a457d50e]\n",
       "@startuml\r\n",
       "skinparam roundcorner 20\r\n",
       "skinparam BoxPadding 20\r\n",
       "skinparam SequenceBoxBackgroundColor #white\r\n",
       "skinparam style strictuml\r\n",
       "skinparam maxMessageSize 100\r\n",
       "left to right direction\r\n",
       "skinparam monochrome true\r\n",
       "skinparam classbackgroundcolor white\r\n",
       "skinparam shadowing false\r\n",
       "skinparam wrapWidth 300\r\n",
       "hide circle\r\n",
       "\r\n",
       "@enduml\r\n",
       "\n",
       "PlantUML version 1.2020.13(Sat Jun 13 12:26:38 UTC 2020)\n",
       "(EPL source distribution)\n",
       "Java Runtime: OpenJDK Runtime Environment\n",
       "JVM: OpenJDK 64-Bit Server VM\n",
       "Default Encoding: UTF-8\n",
       "Language: en\n",
       "Country: null\n",
       "--></g></svg>"
      ]
     },
     "execution_count": 21,
     "metadata": {},
     "output_type": "execute_result"
    }
   ],
   "source": [
    "%viz --style=\"LR\" --view=\"Sequence\" \"ItemTest\""
   ]
  },
  {
   "cell_type": "code",
   "execution_count": 22,
   "id": "2a35dd78",
   "metadata": {
    "execution": {
     "iopub.execute_input": "2022-03-21T07:49:10.321471Z",
     "iopub.status.busy": "2022-03-21T07:49:10.321012Z",
     "iopub.status.idle": "2022-03-21T07:49:10.370243Z",
     "shell.execute_reply": "2022-03-21T07:49:10.369877Z"
    }
   },
   "outputs": [
    {
     "data": {
      "image/svg+xml": [
       "<?xml version=\"1.0\" encoding=\"UTF-8\" standalone=\"no\"?><svg xmlns=\"http://www.w3.org/2000/svg\" xmlns:xlink=\"http://www.w3.org/1999/xlink\" contentScriptType=\"application/ecmascript\" contentStyleType=\"text/css\" height=\"277px\" preserveAspectRatio=\"none\" style=\"width:895px;height:277px;\" version=\"1.1\" viewBox=\"0 0 895 277\" width=\"895px\" zoomAndPan=\"magnify\"><defs/><g><!--MD5=[fbc87193dbaf4d95561dea2c320d4a47]\n",
       "cluster E1--><a href=\"psysml:8469bc55-64be-4e75-90cd-bb271a7bb256\" target=\"_top\" title=\"psysml:8469bc55-64be-4e75-90cd-bb271a7bb256\" xlink:actuate=\"onRequest\" xlink:href=\"psysml:8469bc55-64be-4e75-90cd-bb271a7bb256\" xlink:show=\"new\" xlink:title=\"psysml:8469bc55-64be-4e75-90cd-bb271a7bb256\" xlink:type=\"simple\"><polygon fill=\"#FFFFFF\" points=\"16,6,83,6,90,28.2969,873,28.2969,873,265,16,265,16,6\" style=\"stroke: #000000; stroke-width: 1.5;\"/><line style=\"stroke: #000000; stroke-width: 1.5;\" x1=\"16\" x2=\"90\" y1=\"28.2969\" y2=\"28.2969\"/><text fill=\"#000000\" font-family=\"sans-serif\" font-size=\"14\" font-weight=\"bold\" lengthAdjust=\"spacingAndGlyphs\" textLength=\"61\" x=\"20\" y=\"20.9951\">ItemTest</text></a><!--MD5=[b4997ac47864f28c2f74865a473b2911]\n",
       "class E2--><a href=\"psysml:6cbf61b0-82f0-477a-9e61-503ee7ef8ab3\" target=\"_top\" title=\"psysml:6cbf61b0-82f0-477a-9e61-503ee7ef8ab3\" xlink:actuate=\"onRequest\" xlink:href=\"psysml:6cbf61b0-82f0-477a-9e61-503ee7ef8ab3\" xlink:show=\"new\" xlink:title=\"psysml:6cbf61b0-82f0-477a-9e61-503ee7ef8ab3\" xlink:type=\"simple\"><rect fill=\"#FFFFFF\" height=\"45.9375\" id=\"E2\" rx=\"10\" ry=\"10\" style=\"stroke: #383838; stroke-width: 1.5;\" width=\"43\" x=\"163\" y=\"41\"/><text fill=\"#000000\" font-family=\"sans-serif\" font-size=\"12\" font-style=\"italic\" lengthAdjust=\"spacingAndGlyphs\" textLength=\"41\" x=\"164\" y=\"57.1387\">«item»</text><text fill=\"#000000\" font-family=\"sans-serif\" font-size=\"12\" lengthAdjust=\"spacingAndGlyphs\" textLength=\"20\" x=\"172.5\" y=\"71.1074\">f: A</text><line style=\"stroke: #383838; stroke-width: 1.5;\" x1=\"164\" x2=\"205\" y1=\"78.9375\" y2=\"78.9375\"/></a><!--MD5=[09b614a08d8cba4a07c9adeb5e0fee81]\n",
       "class E3--><a href=\"psysml:73e4759d-5191-4c8c-b634-f2bc1b43e3a3\" target=\"_top\" title=\"psysml:73e4759d-5191-4c8c-b634-f2bc1b43e3a3\" xlink:actuate=\"onRequest\" xlink:href=\"psysml:73e4759d-5191-4c8c-b634-f2bc1b43e3a3\" xlink:show=\"new\" xlink:title=\"psysml:73e4759d-5191-4c8c-b634-f2bc1b43e3a3\" xlink:type=\"simple\"><rect fill=\"#FFFFFF\" height=\"45.9375\" id=\"E3\" style=\"stroke: #383838; stroke-width: 1.5;\" width=\"71\" x=\"267\" y=\"122\"/><text fill=\"#000000\" font-family=\"sans-serif\" font-size=\"12\" font-style=\"italic\" lengthAdjust=\"spacingAndGlyphs\" textLength=\"69\" x=\"268\" y=\"138.1387\">«item  def»</text><text fill=\"#000000\" font-family=\"sans-serif\" font-size=\"12\" lengthAdjust=\"spacingAndGlyphs\" textLength=\"8\" x=\"298.5\" y=\"152.1074\">A</text><line style=\"stroke: #383838; stroke-width: 1.5;\" x1=\"268\" x2=\"337\" y1=\"159.9375\" y2=\"159.9375\"/></a><!--MD5=[ebbe1d658d1005bcc118a6aa81145e00]\n",
       "class E4--><a href=\"psysml:22dedc78-8a6f-47e7-a1b3-f5299f454177\" target=\"_top\" title=\"psysml:22dedc78-8a6f-47e7-a1b3-f5299f454177\" xlink:actuate=\"onRequest\" xlink:href=\"psysml:22dedc78-8a6f-47e7-a1b3-f5299f454177\" xlink:show=\"new\" xlink:title=\"psysml:22dedc78-8a6f-47e7-a1b3-f5299f454177\" xlink:type=\"simple\"><rect fill=\"#FFFFFF\" height=\"45.9375\" id=\"E4\" rx=\"10\" ry=\"10\" style=\"stroke: #383838; stroke-width: 1.5;\" width=\"43\" x=\"471\" y=\"192\"/><text fill=\"#000000\" font-family=\"sans-serif\" font-size=\"12\" font-style=\"italic\" lengthAdjust=\"spacingAndGlyphs\" textLength=\"41\" x=\"472\" y=\"208.1387\">«item»</text><text fill=\"#000000\" font-family=\"sans-serif\" font-size=\"12\" lengthAdjust=\"spacingAndGlyphs\" textLength=\"24\" x=\"478.5\" y=\"222.1074\">b: B</text><line style=\"stroke: #383838; stroke-width: 1.5;\" x1=\"472\" x2=\"513\" y1=\"229.9375\" y2=\"229.9375\"/></a><!--MD5=[270fce915f116d4de14055a7c1d9a0f3]\n",
       "class E5--><a href=\"psysml:d5b518cb-4e9d-48f6-86e4-811292cf7103\" target=\"_top\" title=\"psysml:d5b518cb-4e9d-48f6-86e4-811292cf7103\" xlink:actuate=\"onRequest\" xlink:href=\"psysml:d5b518cb-4e9d-48f6-86e4-811292cf7103\" xlink:show=\"new\" xlink:title=\"psysml:d5b518cb-4e9d-48f6-86e4-811292cf7103\" xlink:type=\"simple\"><rect fill=\"#FFFFFF\" height=\"45.9375\" id=\"E5\" rx=\"10\" ry=\"10\" style=\"stroke: #383838; stroke-width: 1.5;\" width=\"42\" x=\"399\" y=\"78\"/><text fill=\"#000000\" font-family=\"sans-serif\" font-size=\"12\" font-style=\"italic\" lengthAdjust=\"spacingAndGlyphs\" textLength=\"40\" x=\"400\" y=\"94.1387\">«part»</text><text fill=\"#000000\" font-family=\"sans-serif\" font-size=\"12\" lengthAdjust=\"spacingAndGlyphs\" textLength=\"23\" x=\"406.5\" y=\"108.1074\">c: C</text><line style=\"stroke: #383838; stroke-width: 1.5;\" x1=\"400\" x2=\"440\" y1=\"115.9375\" y2=\"115.9375\"/></a><!--MD5=[60a26617385b1d2d0262a64233df1f8d]\n",
       "class E6--><a href=\"psysml:7fb13a86-95b9-42ac-ac4a-d3cbb2045ff7\" target=\"_top\" title=\"psysml:7fb13a86-95b9-42ac-ac4a-d3cbb2045ff7\" xlink:actuate=\"onRequest\" xlink:href=\"psysml:7fb13a86-95b9-42ac-ac4a-d3cbb2045ff7\" xlink:show=\"new\" xlink:title=\"psysml:7fb13a86-95b9-42ac-ac4a-d3cbb2045ff7\" xlink:type=\"simple\"><rect fill=\"#FFFFFF\" height=\"45.9375\" id=\"E6\" style=\"stroke: #383838; stroke-width: 1.5;\" width=\"71\" x=\"683\" y=\"105\"/><text fill=\"#000000\" font-family=\"sans-serif\" font-size=\"12\" font-style=\"italic\" lengthAdjust=\"spacingAndGlyphs\" textLength=\"69\" x=\"684\" y=\"121.1387\">«item  def»</text><text fill=\"#000000\" font-family=\"sans-serif\" font-size=\"12\" font-style=\"italic\" lengthAdjust=\"spacingAndGlyphs\" textLength=\"8\" x=\"714.5\" y=\"135.1074\">B</text><line style=\"stroke: #383838; stroke-width: 1.5;\" x1=\"684\" x2=\"753\" y1=\"142.9375\" y2=\"142.9375\"/></a><!--MD5=[2156ba9850f5573cc1fc38a6a4b2f02b]\n",
       "class E7--><a href=\"psysml:b4d408e4-c35f-4021-90a0-c54c4c634ca8\" target=\"_top\" title=\"psysml:b4d408e4-c35f-4021-90a0-c54c4c634ca8\" xlink:actuate=\"onRequest\" xlink:href=\"psysml:b4d408e4-c35f-4021-90a0-c54c4c634ca8\" xlink:show=\"new\" xlink:title=\"psysml:b4d408e4-c35f-4021-90a0-c54c4c634ca8\" xlink:type=\"simple\"><rect fill=\"#FFFFFF\" height=\"45.9375\" id=\"E7\" rx=\"10\" ry=\"10\" style=\"stroke: #383838; stroke-width: 1.5;\" width=\"42\" x=\"815\" y=\"73\"/><text fill=\"#000000\" font-family=\"sans-serif\" font-size=\"12\" font-style=\"italic\" lengthAdjust=\"spacingAndGlyphs\" textLength=\"40\" x=\"816\" y=\"89.1387\">«part»</text><text fill=\"#000000\" font-family=\"sans-serif\" font-size=\"12\" font-style=\"italic\" lengthAdjust=\"spacingAndGlyphs\" textLength=\"8\" x=\"822\" y=\"103.1074\">a</text><text fill=\"#000000\" font-family=\"sans-serif\" font-size=\"12\" lengthAdjust=\"spacingAndGlyphs\" textLength=\"16\" x=\"830\" y=\"103.1074\">: A</text><line style=\"stroke: #383838; stroke-width: 1.5;\" x1=\"816\" x2=\"856\" y1=\"110.9375\" y2=\"110.9375\"/></a><!--MD5=[b9389687b975829384b498ac4b7476b2]\n",
       "class E8--><a href=\"psysml:53104107-4f2e-4822-81be-c90629c3152e\" target=\"_top\" title=\"psysml:53104107-4f2e-4822-81be-c90629c3152e\" xlink:actuate=\"onRequest\" xlink:href=\"psysml:53104107-4f2e-4822-81be-c90629c3152e\" xlink:show=\"new\" xlink:title=\"psysml:53104107-4f2e-4822-81be-c90629c3152e\" xlink:type=\"simple\"><rect fill=\"#FFFFFF\" height=\"45.9375\" id=\"E8\" style=\"stroke: #383838; stroke-width: 1.5;\" width=\"70\" x=\"544\" y=\"105\"/><text fill=\"#000000\" font-family=\"sans-serif\" font-size=\"12\" font-style=\"italic\" lengthAdjust=\"spacingAndGlyphs\" textLength=\"68\" x=\"545\" y=\"121.1387\">«part  def»</text><text fill=\"#000000\" font-family=\"sans-serif\" font-size=\"12\" lengthAdjust=\"spacingAndGlyphs\" textLength=\"8\" x=\"575\" y=\"135.1074\">C</text><line style=\"stroke: #383838; stroke-width: 1.5;\" x1=\"545\" x2=\"613\" y1=\"142.9375\" y2=\"142.9375\"/></a><!--MD5=[fd4143e9d270a159db93a4ea2a975926]\n",
       "class E9--><a href=\"psysml:96c92d64-4061-42f0-9733-a4ee9bfee5f1\" target=\"_top\" title=\"psysml:96c92d64-4061-42f0-9733-a4ee9bfee5f1\" xlink:actuate=\"onRequest\" xlink:href=\"psysml:96c92d64-4061-42f0-9733-a4ee9bfee5f1\" xlink:show=\"new\" xlink:title=\"psysml:96c92d64-4061-42f0-9733-a4ee9bfee5f1\" xlink:type=\"simple\"><rect fill=\"#FFFFFF\" height=\"45.9375\" id=\"E9\" style=\"stroke: #383838; stroke-width: 1.5;\" width=\"70\" x=\"32\" y=\"163\"/><text fill=\"#000000\" font-family=\"sans-serif\" font-size=\"12\" font-style=\"italic\" lengthAdjust=\"spacingAndGlyphs\" textLength=\"68\" x=\"33\" y=\"179.1387\">«port  def»</text><text fill=\"#000000\" font-family=\"sans-serif\" font-size=\"12\" lengthAdjust=\"spacingAndGlyphs\" textLength=\"8\" x=\"63\" y=\"193.1074\">P</text><line style=\"stroke: #383838; stroke-width: 1.5;\" x1=\"33\" x2=\"101\" y1=\"200.9375\" y2=\"200.9375\"/></a><!--MD5=[96f4274e9e20536e775497830990834d]\n",
       "class E10--><a href=\"psysml:21151bb4-f160-49b9-964a-222b3c2d7b6c\" target=\"_top\" title=\"psysml:21151bb4-f160-49b9-964a-222b3c2d7b6c\" xlink:actuate=\"onRequest\" xlink:href=\"psysml:21151bb4-f160-49b9-964a-222b3c2d7b6c\" xlink:show=\"new\" xlink:title=\"psysml:21151bb4-f160-49b9-964a-222b3c2d7b6c\" xlink:type=\"simple\"><rect fill=\"#FFFFFF\" height=\"45.9375\" id=\"E10\" rx=\"10\" ry=\"10\" style=\"stroke: #383838; stroke-width: 1.5;\" width=\"43\" x=\"163\" y=\"203\"/><text fill=\"#000000\" font-family=\"sans-serif\" font-size=\"12\" font-style=\"italic\" lengthAdjust=\"spacingAndGlyphs\" textLength=\"41\" x=\"164\" y=\"219.1387\">«item»</text><text fill=\"#000000\" font-family=\"sans-serif\" font-size=\"12\" lengthAdjust=\"spacingAndGlyphs\" textLength=\"32\" x=\"166.5\" y=\"233.1074\">a1: A</text><line style=\"stroke: #383838; stroke-width: 1.5;\" x1=\"164\" x2=\"205\" y1=\"240.9375\" y2=\"240.9375\"/></a><!--MD5=[1dd1bfd58a279cf63c5f349dbc8fc6a1]\n",
       "class E11--><a href=\"psysml:048eeab4-ab84-4a9d-8dc8-2b5e8335cff3\" target=\"_top\" title=\"psysml:048eeab4-ab84-4a9d-8dc8-2b5e8335cff3\" xlink:actuate=\"onRequest\" xlink:href=\"psysml:048eeab4-ab84-4a9d-8dc8-2b5e8335cff3\" xlink:show=\"new\" xlink:title=\"psysml:048eeab4-ab84-4a9d-8dc8-2b5e8335cff3\" xlink:type=\"simple\"><rect fill=\"#FFFFFF\" height=\"45.9375\" id=\"E11\" rx=\"10\" ry=\"10\" style=\"stroke: #383838; stroke-width: 1.5;\" width=\"43\" x=\"163\" y=\"122\"/><text fill=\"#000000\" font-family=\"sans-serif\" font-size=\"12\" font-style=\"italic\" lengthAdjust=\"spacingAndGlyphs\" textLength=\"41\" x=\"164\" y=\"138.1387\">«item»</text><text fill=\"#000000\" font-family=\"sans-serif\" font-size=\"12\" lengthAdjust=\"spacingAndGlyphs\" textLength=\"32\" x=\"166.5\" y=\"152.1074\">a2: A</text><line style=\"stroke: #383838; stroke-width: 1.5;\" x1=\"164\" x2=\"205\" y1=\"159.9375\" y2=\"159.9375\"/></a><!--MD5=[2720a5a1f2c3fca2055b230370638851]\n",
       "link E2 to E3--><a href=\"psysml:e70b16f9-62c0-40f3-a087-aa973c352c22\" target=\"_top\" title=\"psysml:e70b16f9-62c0-40f3-a087-aa973c352c22\" xlink:actuate=\"onRequest\" xlink:href=\"psysml:e70b16f9-62c0-40f3-a087-aa973c352c22\" xlink:show=\"new\" xlink:title=\"psysml:e70b16f9-62c0-40f3-a087-aa973c352c22\" xlink:type=\"simple\"><path d=\"M206.24,78.48 C218.94,87.35 235.78,99.11 251.76,110.27 \" fill=\"none\" id=\"E2-&gt;E3\" style=\"stroke: #383838; stroke-width: 1.0;\"/><polygon fill=\"#FFFFFF\" points=\"268.21,121.75,248.6276,116.5992,256.6501,105.1257,268.21,121.75\" style=\"stroke: #383838; stroke-width: 1.0;\"/><ellipse cx=\"245.1024\" cy=\"111.6938\" fill=\"#383838\" rx=\"2\" ry=\"2\" style=\"stroke: #383838; stroke-width: 1.0;\"/><ellipse cx=\"250.8327\" cy=\"103.4985\" fill=\"#383838\" rx=\"2\" ry=\"2\" style=\"stroke: #383838; stroke-width: 1.0;\"/></a><!--MD5=[4672eba38e49728da53d11aeb285b987]\n",
       "reverse link E3 to E4--><a href=\"psysml:f5164247-58fc-45c1-bba3-2edebb195fbd\" target=\"_top\" title=\"psysml:f5164247-58fc-45c1-bba3-2edebb195fbd\" xlink:actuate=\"onRequest\" xlink:href=\"psysml:f5164247-58fc-45c1-bba3-2edebb195fbd\" xlink:show=\"new\" xlink:title=\"psysml:f5164247-58fc-45c1-bba3-2edebb195fbd\" xlink:type=\"simple\"><path d=\"M333.98,177.13 C351.32,193.04 374.45,210.6 399,219 C422.57,227.06 451.51,223.9 470.67,220.14 \" fill=\"none\" id=\"E3&lt;-E4\" style=\"stroke: #383838; stroke-width: 1.0;\"/><polygon fill=\"#383838\" points=\"324.47,168.03,326.0431,175.0674,333.1443,176.322,331.5711,169.2846,324.47,168.03\" style=\"stroke: #383838; stroke-width: 1.0;\"/><text fill=\"#000000\" font-family=\"sans-serif\" font-size=\"13\" lengthAdjust=\"spacingAndGlyphs\" textLength=\"8\" x=\"455.0824\" y=\"235.9486\">1</text></a><!--MD5=[191cde3d490a3f6d7bb551fe3ddca469]\n",
       "reverse link E3 to E5--><a href=\"psysml:0e10322d-8096-4d1c-ad13-bcf359abd35a\" target=\"_top\" title=\"psysml:0e10322d-8096-4d1c-ad13-bcf359abd35a\" xlink:actuate=\"onRequest\" xlink:href=\"psysml:0e10322d-8096-4d1c-ad13-bcf359abd35a\" xlink:show=\"new\" xlink:title=\"psysml:0e10322d-8096-4d1c-ad13-bcf359abd35a\" xlink:type=\"simple\"><path d=\"M350.66,127.03 C367.46,120.64 385.49,113.77 398.81,108.69 \" fill=\"none\" id=\"E3&lt;-E5\" style=\"stroke: #383838; stroke-width: 1.0;\"/><polygon fill=\"#FFFFFF\" points=\"338.15,131.8,345.1812,133.4006,349.363,127.5259,342.3318,125.9253,338.15,131.8\" style=\"stroke: #383838; stroke-width: 1.0;\"/><text fill=\"#000000\" font-family=\"sans-serif\" font-size=\"13\" lengthAdjust=\"spacingAndGlyphs\" textLength=\"8\" x=\"383.0956\" y=\"125.4387\">1</text></a><!--MD5=[79568f1e445c3877b6a54524624ccc7d]\n",
       "link E4 to E6--><a href=\"psysml:cd799d59-974c-4cd5-b2a4-5d2e853ea550\" target=\"_top\" title=\"psysml:cd799d59-974c-4cd5-b2a4-5d2e853ea550\" xlink:actuate=\"onRequest\" xlink:href=\"psysml:cd799d59-974c-4cd5-b2a4-5d2e853ea550\" xlink:show=\"new\" xlink:title=\"psysml:cd799d59-974c-4cd5-b2a4-5d2e853ea550\" xlink:type=\"simple\"><path d=\"M514.17,206.97 C547.89,193.88 615.78,167.51 663.82,148.85 \" fill=\"none\" id=\"E4-&gt;E6\" style=\"stroke: #383838; stroke-width: 1.0;\"/><polygon fill=\"#FFFFFF\" points=\"682.72,141.51,667.5446,154.9155,662.4747,141.8657,682.72,141.51\" style=\"stroke: #383838; stroke-width: 1.0;\"/><ellipse cx=\"661.5072\" cy=\"155.1154\" fill=\"#383838\" rx=\"2\" ry=\"2\" style=\"stroke: #383838; stroke-width: 1.0;\"/><ellipse cx=\"657.8858\" cy=\"145.7941\" fill=\"#383838\" rx=\"2\" ry=\"2\" style=\"stroke: #383838; stroke-width: 1.0;\"/></a><!--MD5=[3f50a3473f1dfb74d3f76443e03635af]\n",
       "reverse link E6 to E7--><a href=\"psysml:f66c29ee-70ba-402f-a3a4-159df7b46130\" target=\"_top\" title=\"psysml:f66c29ee-70ba-402f-a3a4-159df7b46130\" xlink:actuate=\"onRequest\" xlink:href=\"psysml:f66c29ee-70ba-402f-a3a4-159df7b46130\" xlink:show=\"new\" xlink:title=\"psysml:f66c29ee-70ba-402f-a3a4-159df7b46130\" xlink:type=\"simple\"><path d=\"M767.15,114.8 C783.81,110.18 801.62,105.25 814.81,101.59 \" fill=\"none\" id=\"E6&lt;-E7\" style=\"stroke: #383838; stroke-width: 1.0;\"/><polygon fill=\"#383838\" points=\"754.15,118.4,761.0002,120.6526,765.7143,115.1958,758.8641,112.9431,754.15,118.4\" style=\"stroke: #383838; stroke-width: 1.0;\"/><text fill=\"#000000\" font-family=\"sans-serif\" font-size=\"13\" lengthAdjust=\"spacingAndGlyphs\" textLength=\"8\" x=\"799.0956\" y=\"117.6956\">1</text></a><!--MD5=[14ccda38c055a5c0da953d572bc50960]\n",
       "link E7 to E3--><a href=\"psysml:4b14459c-c0ea-47eb-ae95-5bdd156140b8\" target=\"_top\" title=\"psysml:4b14459c-c0ea-47eb-ae95-5bdd156140b8\" xlink:actuate=\"onRequest\" xlink:href=\"psysml:4b14459c-c0ea-47eb-ae95-5bdd156140b8\" xlink:show=\"new\" xlink:title=\"psysml:4b14459c-c0ea-47eb-ae95-5bdd156140b8\" xlink:type=\"simple\"><path d=\"M814.63,79.8 C792.54,63.89 755.58,42 719.5,42 C419,42 419,42 419,42 C379.51,42 347.29,75.96 327.01,104.88 \" fill=\"none\" id=\"E7-&gt;E3\" style=\"stroke: #383838; stroke-width: 1.0;\"/><polygon fill=\"#FFFFFF\" points=\"315.97,121.88,320.4427,102.1317,332.1859,109.7538,315.97,121.88\" style=\"stroke: #383838; stroke-width: 1.0;\"/><ellipse cx=\"325.2235\" cy=\"98.4394\" fill=\"#383838\" rx=\"2\" ry=\"2\" style=\"stroke: #383838; stroke-width: 1.0;\"/><ellipse cx=\"333.6116\" cy=\"103.8838\" fill=\"#383838\" rx=\"2\" ry=\"2\" style=\"stroke: #383838; stroke-width: 1.0;\"/></a><!--MD5=[dfaffb906826c3e5aca635516100ff21]\n",
       "link E5 to E8--><a href=\"psysml:7f99918d-ef62-497c-9b9a-668f89d0bef4\" target=\"_top\" title=\"psysml:7f99918d-ef62-497c-9b9a-668f89d0bef4\" xlink:actuate=\"onRequest\" xlink:href=\"psysml:7f99918d-ef62-497c-9b9a-668f89d0bef4\" xlink:show=\"new\" xlink:title=\"psysml:7f99918d-ef62-497c-9b9a-668f89d0bef4\" xlink:type=\"simple\"><path d=\"M441.2,104.47 C462.06,108.06 495.5,113.81 524.1,118.73 \" fill=\"none\" id=\"E5-&gt;E8\" style=\"stroke: #383838; stroke-width: 1.0;\"/><polygon fill=\"#FFFFFF\" points=\"543.82,122.12,523.9093,125.803,526.279,112.005,543.82,122.12\" style=\"stroke: #383838; stroke-width: 1.0;\"/><ellipse cx=\"518.6301\" cy=\"122.8671\" fill=\"#383838\" rx=\"2\" ry=\"2\" style=\"stroke: #383838; stroke-width: 1.0;\"/><ellipse cx=\"520.3227\" cy=\"113.0114\" fill=\"#383838\" rx=\"2\" ry=\"2\" style=\"stroke: #383838; stroke-width: 1.0;\"/></a><!--MD5=[03c8294790d3c57651a1993cecff665f]\n",
       "reverse link E8 to E3--><a href=\"psysml:8abdebaf-64f0-40cf-a780-4a21932975d8\" target=\"_top\" title=\"psysml:8abdebaf-64f0-40cf-a780-4a21932975d8\" xlink:actuate=\"onRequest\" xlink:href=\"psysml:8abdebaf-64f0-40cf-a780-4a21932975d8\" xlink:show=\"new\" xlink:title=\"psysml:8abdebaf-64f0-40cf-a780-4a21932975d8\" xlink:type=\"simple\"><path d=\"M531.34,140.84 C505.03,147.41 471.44,154.71 441,158 C422.44,160.01 417.62,159.26 399,158 C378.8,156.63 356.36,153.65 338.31,150.89 \" fill=\"none\" id=\"E8&lt;-E3\" style=\"stroke: #383838; stroke-width: 1.0;\"/><polygon fill=\"#FFFFFF\" points=\"543.99,137.59,537.1849,135.2045,532.3655,140.5686,539.1706,142.9541,543.99,137.59\" style=\"stroke: #383838; stroke-width: 1.0;\"/><text fill=\"#000000\" font-family=\"sans-serif\" font-size=\"13\" lengthAdjust=\"spacingAndGlyphs\" textLength=\"7\" x=\"416.5\" y=\"154.0669\">y</text></a><!--MD5=[0d75d2178373a6a4568e5dc728f58aef]\n",
       "reverse link E8 to E6--><a href=\"psysml:8abdebaf-64f0-40cf-a780-4a21932975d8\" target=\"_top\" title=\"psysml:8abdebaf-64f0-40cf-a780-4a21932975d8\" xlink:actuate=\"onRequest\" xlink:href=\"psysml:8abdebaf-64f0-40cf-a780-4a21932975d8\" xlink:show=\"new\" xlink:title=\"psysml:8abdebaf-64f0-40cf-a780-4a21932975d8\" xlink:type=\"simple\"><path d=\"M627.39,128 C645.53,128 665.88,128 682.64,128 \" fill=\"none\" id=\"E8&lt;-E6\" style=\"stroke: #383838; stroke-width: 1.0;\"/><polygon fill=\"#FFFFFF\" points=\"614.34,128,620.34,132,626.34,128,620.34,124,614.34,128\" style=\"stroke: #383838; stroke-width: 1.0;\"/><text fill=\"#000000\" font-family=\"sans-serif\" font-size=\"13\" lengthAdjust=\"spacingAndGlyphs\" textLength=\"7\" x=\"645\" y=\"124.0669\">y</text></a><!--MD5=[23ac544a70576c3e717098101004234c]\n",
       "reverse link E9 to E10--><a href=\"psysml:4b97f70b-21b5-47d0-9b80-bf68f1206e68\" target=\"_top\" title=\"psysml:4b97f70b-21b5-47d0-9b80-bf68f1206e68\" xlink:actuate=\"onRequest\" xlink:href=\"psysml:4b97f70b-21b5-47d0-9b80-bf68f1206e68\" xlink:show=\"new\" xlink:title=\"psysml:4b97f70b-21b5-47d0-9b80-bf68f1206e68\" xlink:type=\"simple\"><path d=\"M114.48,202.1 C131.24,207.9 149.31,214.16 162.75,218.81 \" fill=\"none\" id=\"E9&lt;-E10\" style=\"stroke: #383838; stroke-width: 1.0;\"/><polygon fill=\"#FFFFFF\" points=\"102.03,197.78,106.3896,203.524,113.3686,201.7089,109.0089,195.9649,102.03,197.78\" style=\"stroke: #383838; stroke-width: 1.0;\"/><text fill=\"#000000\" font-family=\"sans-serif\" font-size=\"13\" lengthAdjust=\"spacingAndGlyphs\" textLength=\"8\" x=\"146.8641\" y=\"231.0017\">1</text></a><!--MD5=[feeac5eb423634930294aa81f2d25a4c]\n",
       "link E10 to E3--><a href=\"psysml:890b43d2-a44a-4df9-b863-0c7f323950a1\" target=\"_top\" title=\"psysml:890b43d2-a44a-4df9-b863-0c7f323950a1\" xlink:actuate=\"onRequest\" xlink:href=\"psysml:890b43d2-a44a-4df9-b863-0c7f323950a1\" xlink:show=\"new\" xlink:title=\"psysml:890b43d2-a44a-4df9-b863-0c7f323950a1\" xlink:type=\"simple\"><path d=\"M206.24,211.52 C218.94,202.65 235.78,190.89 251.76,179.73 \" fill=\"none\" id=\"E10-&gt;E3\" style=\"stroke: #383838; stroke-width: 1.0;\"/><polygon fill=\"#FFFFFF\" points=\"268.21,168.25,256.6501,184.8743,248.6276,173.4008,268.21,168.25\" style=\"stroke: #383838; stroke-width: 1.0;\"/><ellipse cx=\"250.8327\" cy=\"186.5015\" fill=\"#383838\" rx=\"2\" ry=\"2\" style=\"stroke: #383838; stroke-width: 1.0;\"/><ellipse cx=\"245.1024\" cy=\"178.3062\" fill=\"#383838\" rx=\"2\" ry=\"2\" style=\"stroke: #383838; stroke-width: 1.0;\"/></a><!--MD5=[1fc04a95fd77ad5ce46c1a3027516051]\n",
       "reverse link E9 to E11--><a href=\"psysml:75cdd26f-47cf-45db-b14e-ba01ceb3edc6\" target=\"_top\" title=\"psysml:75cdd26f-47cf-45db-b14e-ba01ceb3edc6\" xlink:actuate=\"onRequest\" xlink:href=\"psysml:75cdd26f-47cf-45db-b14e-ba01ceb3edc6\" xlink:show=\"new\" xlink:title=\"psysml:75cdd26f-47cf-45db-b14e-ba01ceb3edc6\" xlink:type=\"simple\"><path d=\"M114.48,169.5 C131.24,163.55 149.31,157.14 162.75,152.37 \" fill=\"none\" id=\"E9&lt;-E11\" style=\"stroke: #383838; stroke-width: 1.0;\"/><polygon fill=\"#FFFFFF\" points=\"102.03,173.92,109.0214,175.6865,113.341,169.9124,106.3496,168.1458,102.03,173.92\" style=\"stroke: #383838; stroke-width: 1.0;\"/><text fill=\"#000000\" font-family=\"sans-serif\" font-size=\"13\" lengthAdjust=\"spacingAndGlyphs\" textLength=\"8\" x=\"146.8641\" y=\"169.0207\">1</text></a><!--MD5=[0517f1ce58c4d5483948f93845c45e26]\n",
       "link E11 to E3--><a href=\"psysml:92dee77c-180b-445a-a05e-737a71661cde\" target=\"_top\" title=\"psysml:92dee77c-180b-445a-a05e-737a71661cde\" xlink:actuate=\"onRequest\" xlink:href=\"psysml:92dee77c-180b-445a-a05e-737a71661cde\" xlink:show=\"new\" xlink:title=\"psysml:92dee77c-180b-445a-a05e-737a71661cde\" xlink:type=\"simple\"><path d=\"M206.24,145 C217.53,145 232.1,145 246.43,145 \" fill=\"none\" id=\"E11-&gt;E3\" style=\"stroke: #383838; stroke-width: 1.0;\"/><polygon fill=\"#FFFFFF\" points=\"266.84,145,247.84,152,247.84,138,266.84,145\" style=\"stroke: #383838; stroke-width: 1.0;\"/><ellipse cx=\"242.14\" cy=\"150\" fill=\"#383838\" rx=\"2\" ry=\"2\" style=\"stroke: #383838; stroke-width: 1.0;\"/><ellipse cx=\"242.14\" cy=\"140\" fill=\"#383838\" rx=\"2\" ry=\"2\" style=\"stroke: #383838; stroke-width: 1.0;\"/></a><!--MD5=[87a8c0ffdb8594de701c54aa98bcde45]\n",
       "@startuml\r\n",
       "left to right direction\r\n",
       "skinparam monochrome true\r\n",
       "skinparam classbackgroundcolor white\r\n",
       "skinparam shadowing false\r\n",
       "skinparam wrapWidth 300\r\n",
       "hide circle\r\n",
       "\r\n",
       "package \"ItemTest\" as E1  [[psysml:8469bc55-64be-4e75-90cd-bb271a7bb256 ]]  {\r\n",
       "comp usage \"f: A \" as E2  <<(T,blue) item>> [[psysml:6cbf61b0-82f0-477a-9e61-503ee7ef8ab3 ]] {\r\n",
       "}\r\n",
       "comp def \"A\" as E3  <<(T,blue) item  def>> [[psysml:73e4759d-5191-4c8c-b634-f2bc1b43e3a3 ]] {\r\n",
       "}\r\n",
       "comp usage \"b: B \" as E4  <<(T,blue) item>> [[psysml:22dedc78-8a6f-47e7-a1b3-f5299f454177 ]] {\r\n",
       "}\r\n",
       "comp usage \"c: C \" as E5  <<(T,blue) part>> [[psysml:d5b518cb-4e9d-48f6-86e4-811292cf7103 ]] {\r\n",
       "}\r\n",
       "comp def \"<i>B</i>\" as E6  <<(T,blue) item  def>> [[psysml:7fb13a86-95b9-42ac-ac4a-d3cbb2045ff7 ]] {\r\n",
       "}\r\n",
       "comp usage \"<i>a</i>: A \" as E7  <<(T,blue) part>> [[psysml:b4d408e4-c35f-4021-90a0-c54c4c634ca8 ]] {\r\n",
       "}\r\n",
       "comp def \"C\" as E8  <<(T,blue) part  def>> [[psysml:53104107-4f2e-4822-81be-c90629c3152e ]] {\r\n",
       "}\r\n",
       "comp def \"P\" as E9  <<(T,blue) port  def>> [[psysml:96c92d64-4061-42f0-9733-a4ee9bfee5f1 ]] {\r\n",
       "}\r\n",
       "comp usage \"a1: A \" as E10  <<(T,blue) item>> [[psysml:21151bb4-f160-49b9-964a-222b3c2d7b6c ]] {\r\n",
       "}\r\n",
       "comp usage \"a2: A \" as E11  <<(T,blue) item>> [[psysml:048eeab4-ab84-4a9d-8dc8-2b5e8335cff3 ]] {\r\n",
       "}\r\n",
       "}\r\n",
       "E2 - -:|> E3 [[psysml:e70b16f9-62c0-40f3-a087-aa973c352c22 ]] \r\n",
       "E3 *- - \"1\"E4 [[psysml:f5164247-58fc-45c1-bba3-2edebb195fbd ]] \r\n",
       "E3 o- - \"1\"E5 [[psysml:0e10322d-8096-4d1c-ad13-bcf359abd35a ]] \r\n",
       "E4 - -:|> E6 [[psysml:cd799d59-974c-4cd5-b2a4-5d2e853ea550 ]] \r\n",
       "E6 *- - \"1\"E7 [[psysml:f66c29ee-70ba-402f-a3a4-159df7b46130 ]] \r\n",
       "E7 - -:|> E3 [[psysml:4b14459c-c0ea-47eb-ae95-5bdd156140b8 ]] \r\n",
       "E5 - -:|> E8 [[psysml:7f99918d-ef62-497c-9b9a-668f89d0bef4 ]] \r\n",
       "E8 o- - E3 [[psysml:8abdebaf-64f0-40cf-a780-4a21932975d8 ]] : y\r\n",
       "E8 o- - E6 [[psysml:8abdebaf-64f0-40cf-a780-4a21932975d8 ]] : y\r\n",
       "E9 o- - \"1\"E10 [[psysml:4b97f70b-21b5-47d0-9b80-bf68f1206e68 ]] \r\n",
       "E10 - -:|> E3 [[psysml:890b43d2-a44a-4df9-b863-0c7f323950a1 ]] \r\n",
       "E9 o- - \"1\"E11 [[psysml:75cdd26f-47cf-45db-b14e-ba01ceb3edc6 ]] \r\n",
       "E11 - -:|> E3 [[psysml:92dee77c-180b-445a-a05e-737a71661cde ]] \r\n",
       "@enduml\r\n",
       "\n",
       "PlantUML version 1.2020.13(Sat Jun 13 12:26:38 UTC 2020)\n",
       "(EPL source distribution)\n",
       "Java Runtime: OpenJDK Runtime Environment\n",
       "JVM: OpenJDK 64-Bit Server VM\n",
       "Default Encoding: UTF-8\n",
       "Language: en\n",
       "Country: null\n",
       "--></g></svg>"
      ]
     },
     "execution_count": 22,
     "metadata": {},
     "output_type": "execute_result"
    }
   ],
   "source": [
    "%viz --style=\"LR\" --view=\"MIXED\" \"ItemTest\""
   ]
  },
  {
   "cell_type": "code",
   "execution_count": 23,
   "id": "d39a06bd",
   "metadata": {
    "execution": {
     "iopub.execute_input": "2022-03-21T07:49:10.419781Z",
     "iopub.status.busy": "2022-03-21T07:49:10.419374Z",
     "iopub.status.idle": "2022-03-21T07:49:10.467306Z",
     "shell.execute_reply": "2022-03-21T07:49:10.466943Z"
    }
   },
   "outputs": [
    {
     "data": {
      "image/svg+xml": [
       "<?xml version=\"1.0\" encoding=\"UTF-8\" standalone=\"no\"?><svg xmlns=\"http://www.w3.org/2000/svg\" xmlns:xlink=\"http://www.w3.org/1999/xlink\" contentScriptType=\"application/ecmascript\" contentStyleType=\"text/css\" height=\"818px\" preserveAspectRatio=\"none\" style=\"width:270px;height:818px;\" version=\"1.1\" viewBox=\"0 0 270 818\" width=\"270px\" zoomAndPan=\"magnify\"><defs><filter height=\"300%\" id=\"fwg2ts0kvkrgl\" width=\"300%\" x=\"-1\" y=\"-1\"><feGaussianBlur result=\"blurOut\" stdDeviation=\"2.0\"/><feColorMatrix in=\"blurOut\" result=\"blurOut2\" type=\"matrix\" values=\"0 0 0 0 0 0 0 0 0 0 0 0 0 0 0 0 0 0 .4 0\"/><feOffset dx=\"4.0\" dy=\"4.0\" in=\"blurOut2\" result=\"blurOut3\"/><feBlend in=\"SourceGraphic\" in2=\"blurOut3\" mode=\"normal\"/></filter></defs><g><!--MD5=[fbc87193dbaf4d95561dea2c320d4a47]\n",
       "cluster E1--><a href=\"psysml:8469bc55-64be-4e75-90cd-bb271a7bb256\" target=\"_top\" title=\"psysml:8469bc55-64be-4e75-90cd-bb271a7bb256\" xlink:actuate=\"onRequest\" xlink:href=\"psysml:8469bc55-64be-4e75-90cd-bb271a7bb256\" xlink:show=\"new\" xlink:title=\"psysml:8469bc55-64be-4e75-90cd-bb271a7bb256\" xlink:type=\"simple\"><polygon fill=\"#FFFFFF\" filter=\"url(#fwg2ts0kvkrgl)\" points=\"16,6,83,6,90,28.2969,248,28.2969,248,806,16,806,16,6\" style=\"stroke: #000000; stroke-width: 1.5;\"/><line style=\"stroke: #000000; stroke-width: 1.5;\" x1=\"16\" x2=\"90\" y1=\"28.2969\" y2=\"28.2969\"/><text fill=\"#000000\" font-family=\"sans-serif\" font-size=\"14\" font-weight=\"bold\" lengthAdjust=\"spacingAndGlyphs\" textLength=\"61\" x=\"20\" y=\"20.9951\">ItemTest</text></a><!--MD5=[b4997ac47864f28c2f74865a473b2911]\n",
       "class E2--><a href=\"psysml:6cbf61b0-82f0-477a-9e61-503ee7ef8ab3\" target=\"_top\" title=\"psysml:6cbf61b0-82f0-477a-9e61-503ee7ef8ab3\" xlink:actuate=\"onRequest\" xlink:href=\"psysml:6cbf61b0-82f0-477a-9e61-503ee7ef8ab3\" xlink:show=\"new\" xlink:title=\"psysml:6cbf61b0-82f0-477a-9e61-503ee7ef8ab3\" xlink:type=\"simple\"><rect fill=\"#FEFECE\" filter=\"url(#fwg2ts0kvkrgl)\" height=\"45.9375\" id=\"E2\" rx=\"10\" ry=\"10\" style=\"stroke: #A80036; stroke-width: 1.5;\" width=\"43\" x=\"188.5\" y=\"148\"/><text fill=\"#000000\" font-family=\"sans-serif\" font-size=\"12\" font-style=\"italic\" lengthAdjust=\"spacingAndGlyphs\" textLength=\"41\" x=\"189.5\" y=\"164.1387\">«item»</text><text fill=\"#000000\" font-family=\"sans-serif\" font-size=\"12\" lengthAdjust=\"spacingAndGlyphs\" textLength=\"20\" x=\"198\" y=\"178.1074\">f: A</text><line style=\"stroke: #A80036; stroke-width: 1.5;\" x1=\"189.5\" x2=\"230.5\" y1=\"185.9375\" y2=\"185.9375\"/></a><!--MD5=[09b614a08d8cba4a07c9adeb5e0fee81]\n",
       "class E3--><a href=\"psysml:73e4759d-5191-4c8c-b634-f2bc1b43e3a3\" target=\"_top\" title=\"psysml:73e4759d-5191-4c8c-b634-f2bc1b43e3a3\" xlink:actuate=\"onRequest\" xlink:href=\"psysml:73e4759d-5191-4c8c-b634-f2bc1b43e3a3\" xlink:show=\"new\" xlink:title=\"psysml:73e4759d-5191-4c8c-b634-f2bc1b43e3a3\" xlink:type=\"simple\"><rect fill=\"#FEFECE\" filter=\"url(#fwg2ts0kvkrgl)\" height=\"45.9375\" id=\"E3\" style=\"stroke: #A80036; stroke-width: 1.5;\" width=\"71\" x=\"96.5\" y=\"255\"/><text fill=\"#000000\" font-family=\"sans-serif\" font-size=\"12\" font-style=\"italic\" lengthAdjust=\"spacingAndGlyphs\" textLength=\"69\" x=\"97.5\" y=\"271.1387\">«item  def»</text><text fill=\"#000000\" font-family=\"sans-serif\" font-size=\"12\" lengthAdjust=\"spacingAndGlyphs\" textLength=\"8\" x=\"128\" y=\"285.1074\">A</text><line style=\"stroke: #A80036; stroke-width: 1.5;\" x1=\"97.5\" x2=\"166.5\" y1=\"292.9375\" y2=\"292.9375\"/></a><!--MD5=[ebbe1d658d1005bcc118a6aa81145e00]\n",
       "class E4--><a href=\"psysml:22dedc78-8a6f-47e7-a1b3-f5299f454177\" target=\"_top\" title=\"psysml:22dedc78-8a6f-47e7-a1b3-f5299f454177\" xlink:actuate=\"onRequest\" xlink:href=\"psysml:22dedc78-8a6f-47e7-a1b3-f5299f454177\" xlink:show=\"new\" xlink:title=\"psysml:22dedc78-8a6f-47e7-a1b3-f5299f454177\" xlink:type=\"simple\"><rect fill=\"#FEFECE\" filter=\"url(#fwg2ts0kvkrgl)\" height=\"45.9375\" id=\"E4\" rx=\"10\" ry=\"10\" style=\"stroke: #A80036; stroke-width: 1.5;\" width=\"43\" x=\"45.5\" y=\"438\"/><text fill=\"#000000\" font-family=\"sans-serif\" font-size=\"12\" font-style=\"italic\" lengthAdjust=\"spacingAndGlyphs\" textLength=\"41\" x=\"46.5\" y=\"454.1387\">«item»</text><text fill=\"#000000\" font-family=\"sans-serif\" font-size=\"12\" lengthAdjust=\"spacingAndGlyphs\" textLength=\"24\" x=\"53\" y=\"468.1074\">b: B</text><line style=\"stroke: #A80036; stroke-width: 1.5;\" x1=\"46.5\" x2=\"87.5\" y1=\"475.9375\" y2=\"475.9375\"/></a><!--MD5=[270fce915f116d4de14055a7c1d9a0f3]\n",
       "class E5--><a href=\"psysml:d5b518cb-4e9d-48f6-86e4-811292cf7103\" target=\"_top\" title=\"psysml:d5b518cb-4e9d-48f6-86e4-811292cf7103\" xlink:actuate=\"onRequest\" xlink:href=\"psysml:d5b518cb-4e9d-48f6-86e4-811292cf7103\" xlink:show=\"new\" xlink:title=\"psysml:d5b518cb-4e9d-48f6-86e4-811292cf7103\" xlink:type=\"simple\"><rect fill=\"#FEFECE\" filter=\"url(#fwg2ts0kvkrgl)\" height=\"45.9375\" id=\"E5\" rx=\"10\" ry=\"10\" style=\"stroke: #A80036; stroke-width: 1.5;\" width=\"42\" x=\"151\" y=\"362\"/><text fill=\"#000000\" font-family=\"sans-serif\" font-size=\"12\" font-style=\"italic\" lengthAdjust=\"spacingAndGlyphs\" textLength=\"40\" x=\"152\" y=\"378.1387\">«part»</text><text fill=\"#000000\" font-family=\"sans-serif\" font-size=\"12\" lengthAdjust=\"spacingAndGlyphs\" textLength=\"23\" x=\"158.5\" y=\"392.1074\">c: C</text><line style=\"stroke: #A80036; stroke-width: 1.5;\" x1=\"152\" x2=\"192\" y1=\"399.9375\" y2=\"399.9375\"/></a><!--MD5=[60a26617385b1d2d0262a64233df1f8d]\n",
       "class E6--><a href=\"psysml:7fb13a86-95b9-42ac-ac4a-d3cbb2045ff7\" target=\"_top\" title=\"psysml:7fb13a86-95b9-42ac-ac4a-d3cbb2045ff7\" xlink:actuate=\"onRequest\" xlink:href=\"psysml:7fb13a86-95b9-42ac-ac4a-d3cbb2045ff7\" xlink:show=\"new\" xlink:title=\"psysml:7fb13a86-95b9-42ac-ac4a-d3cbb2045ff7\" xlink:type=\"simple\"><rect fill=\"#FEFECE\" filter=\"url(#fwg2ts0kvkrgl)\" height=\"45.9375\" id=\"E6\" style=\"stroke: #A80036; stroke-width: 1.5;\" width=\"71\" x=\"112.5\" y=\"637\"/><text fill=\"#000000\" font-family=\"sans-serif\" font-size=\"12\" font-style=\"italic\" lengthAdjust=\"spacingAndGlyphs\" textLength=\"69\" x=\"113.5\" y=\"653.1387\">«item  def»</text><text fill=\"#000000\" font-family=\"sans-serif\" font-size=\"12\" font-style=\"italic\" lengthAdjust=\"spacingAndGlyphs\" textLength=\"8\" x=\"144\" y=\"667.1074\">B</text><line style=\"stroke: #A80036; stroke-width: 1.5;\" x1=\"113.5\" x2=\"182.5\" y1=\"674.9375\" y2=\"674.9375\"/></a><!--MD5=[2156ba9850f5573cc1fc38a6a4b2f02b]\n",
       "class E7--><a href=\"psysml:b4d408e4-c35f-4021-90a0-c54c4c634ca8\" target=\"_top\" title=\"psysml:b4d408e4-c35f-4021-90a0-c54c4c634ca8\" xlink:actuate=\"onRequest\" xlink:href=\"psysml:b4d408e4-c35f-4021-90a0-c54c4c634ca8\" xlink:show=\"new\" xlink:title=\"psysml:b4d408e4-c35f-4021-90a0-c54c4c634ca8\" xlink:type=\"simple\"><rect fill=\"#FEFECE\" filter=\"url(#fwg2ts0kvkrgl)\" height=\"45.9375\" id=\"E7\" rx=\"10\" ry=\"10\" style=\"stroke: #A80036; stroke-width: 1.5;\" width=\"42\" x=\"159\" y=\"744\"/><text fill=\"#000000\" font-family=\"sans-serif\" font-size=\"12\" font-style=\"italic\" lengthAdjust=\"spacingAndGlyphs\" textLength=\"40\" x=\"160\" y=\"760.1387\">«part»</text><text fill=\"#000000\" font-family=\"sans-serif\" font-size=\"12\" font-style=\"italic\" lengthAdjust=\"spacingAndGlyphs\" textLength=\"8\" x=\"166\" y=\"774.1074\">a</text><text fill=\"#000000\" font-family=\"sans-serif\" font-size=\"12\" lengthAdjust=\"spacingAndGlyphs\" textLength=\"16\" x=\"174\" y=\"774.1074\">: A</text><line style=\"stroke: #A80036; stroke-width: 1.5;\" x1=\"160\" x2=\"200\" y1=\"781.9375\" y2=\"781.9375\"/></a><!--MD5=[b9389687b975829384b498ac4b7476b2]\n",
       "class E8--><a href=\"psysml:53104107-4f2e-4822-81be-c90629c3152e\" target=\"_top\" title=\"psysml:53104107-4f2e-4822-81be-c90629c3152e\" xlink:actuate=\"onRequest\" xlink:href=\"psysml:53104107-4f2e-4822-81be-c90629c3152e\" xlink:show=\"new\" xlink:title=\"psysml:53104107-4f2e-4822-81be-c90629c3152e\" xlink:type=\"simple\"><rect fill=\"#FEFECE\" filter=\"url(#fwg2ts0kvkrgl)\" height=\"45.9375\" id=\"E8\" style=\"stroke: #A80036; stroke-width: 1.5;\" width=\"70\" x=\"113\" y=\"514\"/><text fill=\"#000000\" font-family=\"sans-serif\" font-size=\"12\" font-style=\"italic\" lengthAdjust=\"spacingAndGlyphs\" textLength=\"68\" x=\"114\" y=\"530.1387\">«part  def»</text><text fill=\"#000000\" font-family=\"sans-serif\" font-size=\"12\" lengthAdjust=\"spacingAndGlyphs\" textLength=\"8\" x=\"144\" y=\"544.1074\">C</text><line style=\"stroke: #A80036; stroke-width: 1.5;\" x1=\"114\" x2=\"182\" y1=\"551.9375\" y2=\"551.9375\"/></a><!--MD5=[fd4143e9d270a159db93a4ea2a975926]\n",
       "class E9--><a href=\"psysml:96c92d64-4061-42f0-9733-a4ee9bfee5f1\" target=\"_top\" title=\"psysml:96c92d64-4061-42f0-9733-a4ee9bfee5f1\" xlink:actuate=\"onRequest\" xlink:href=\"psysml:96c92d64-4061-42f0-9733-a4ee9bfee5f1\" xlink:show=\"new\" xlink:title=\"psysml:96c92d64-4061-42f0-9733-a4ee9bfee5f1\" xlink:type=\"simple\"><rect fill=\"#FEFECE\" filter=\"url(#fwg2ts0kvkrgl)\" height=\"45.9375\" id=\"E9\" style=\"stroke: #A80036; stroke-width: 1.5;\" width=\"70\" x=\"64\" y=\"41\"/><text fill=\"#000000\" font-family=\"sans-serif\" font-size=\"12\" font-style=\"italic\" lengthAdjust=\"spacingAndGlyphs\" textLength=\"68\" x=\"65\" y=\"57.1387\">«port  def»</text><text fill=\"#000000\" font-family=\"sans-serif\" font-size=\"12\" lengthAdjust=\"spacingAndGlyphs\" textLength=\"8\" x=\"95\" y=\"71.1074\">P</text><line style=\"stroke: #A80036; stroke-width: 1.5;\" x1=\"65\" x2=\"133\" y1=\"78.9375\" y2=\"78.9375\"/></a><!--MD5=[96f4274e9e20536e775497830990834d]\n",
       "class E10--><a href=\"psysml:21151bb4-f160-49b9-964a-222b3c2d7b6c\" target=\"_top\" title=\"psysml:21151bb4-f160-49b9-964a-222b3c2d7b6c\" xlink:actuate=\"onRequest\" xlink:href=\"psysml:21151bb4-f160-49b9-964a-222b3c2d7b6c\" xlink:show=\"new\" xlink:title=\"psysml:21151bb4-f160-49b9-964a-222b3c2d7b6c\" xlink:type=\"simple\"><rect fill=\"#FEFECE\" filter=\"url(#fwg2ts0kvkrgl)\" height=\"45.9375\" id=\"E10\" rx=\"10\" ry=\"10\" style=\"stroke: #A80036; stroke-width: 1.5;\" width=\"43\" x=\"32.5\" y=\"148\"/><text fill=\"#000000\" font-family=\"sans-serif\" font-size=\"12\" font-style=\"italic\" lengthAdjust=\"spacingAndGlyphs\" textLength=\"41\" x=\"33.5\" y=\"164.1387\">«item»</text><text fill=\"#000000\" font-family=\"sans-serif\" font-size=\"12\" lengthAdjust=\"spacingAndGlyphs\" textLength=\"32\" x=\"36\" y=\"178.1074\">a1: A</text><line style=\"stroke: #A80036; stroke-width: 1.5;\" x1=\"33.5\" x2=\"74.5\" y1=\"185.9375\" y2=\"185.9375\"/></a><!--MD5=[1dd1bfd58a279cf63c5f349dbc8fc6a1]\n",
       "class E11--><a href=\"psysml:048eeab4-ab84-4a9d-8dc8-2b5e8335cff3\" target=\"_top\" title=\"psysml:048eeab4-ab84-4a9d-8dc8-2b5e8335cff3\" xlink:actuate=\"onRequest\" xlink:href=\"psysml:048eeab4-ab84-4a9d-8dc8-2b5e8335cff3\" xlink:show=\"new\" xlink:title=\"psysml:048eeab4-ab84-4a9d-8dc8-2b5e8335cff3\" xlink:type=\"simple\"><rect fill=\"#FEFECE\" filter=\"url(#fwg2ts0kvkrgl)\" height=\"45.9375\" id=\"E11\" rx=\"10\" ry=\"10\" style=\"stroke: #A80036; stroke-width: 1.5;\" width=\"43\" x=\"110.5\" y=\"148\"/><text fill=\"#000000\" font-family=\"sans-serif\" font-size=\"12\" font-style=\"italic\" lengthAdjust=\"spacingAndGlyphs\" textLength=\"41\" x=\"111.5\" y=\"164.1387\">«item»</text><text fill=\"#000000\" font-family=\"sans-serif\" font-size=\"12\" lengthAdjust=\"spacingAndGlyphs\" textLength=\"32\" x=\"114\" y=\"178.1074\">a2: A</text><line style=\"stroke: #A80036; stroke-width: 1.5;\" x1=\"111.5\" x2=\"152.5\" y1=\"185.9375\" y2=\"185.9375\"/></a><!--MD5=[2720a5a1f2c3fca2055b230370638851]\n",
       "link E2 to E3--><a href=\"psysml:e70b16f9-62c0-40f3-a087-aa973c352c22\" target=\"_top\" title=\"psysml:e70b16f9-62c0-40f3-a087-aa973c352c22\" xlink:actuate=\"onRequest\" xlink:href=\"psysml:e70b16f9-62c0-40f3-a087-aa973c352c22\" xlink:show=\"new\" xlink:title=\"psysml:e70b16f9-62c0-40f3-a087-aa973c352c22\" xlink:type=\"simple\"><path d=\"M193.65,194.01 C184.14,206.81 171.89,223.3 160.82,238.2 \" fill=\"none\" id=\"E2-&gt;E3\" style=\"stroke: #A80036; stroke-width: 1.0;\"/><polygon fill=\"#FFFFFF\" points=\"148.6,254.66,154.3195,235.2361,165.5543,243.5896,148.6,254.66\" style=\"stroke: #A80036; stroke-width: 1.0;\"/><ellipse cx=\"159.3256\" cy=\"231.8554\" fill=\"#A80036\" rx=\"2\" ry=\"2\" style=\"stroke: #A80036; stroke-width: 1.0;\"/><ellipse cx=\"167.3504\" cy=\"237.8221\" fill=\"#A80036\" rx=\"2\" ry=\"2\" style=\"stroke: #A80036; stroke-width: 1.0;\"/></a><!--MD5=[4672eba38e49728da53d11aeb285b987]\n",
       "reverse link E3 to E4--><a href=\"psysml:f5164247-58fc-45c1-bba3-2edebb195fbd\" target=\"_top\" title=\"psysml:f5164247-58fc-45c1-bba3-2edebb195fbd\" xlink:actuate=\"onRequest\" xlink:href=\"psysml:f5164247-58fc-45c1-bba3-2edebb195fbd\" xlink:show=\"new\" xlink:title=\"psysml:f5164247-58fc-45c1-bba3-2edebb195fbd\" xlink:type=\"simple\"><path d=\"M97.11,310.9 C84.08,325.11 70.81,342.94 64,362 C55.12,386.85 58.09,417.53 61.82,437.88 \" fill=\"none\" id=\"E3&lt;-E4\" style=\"stroke: #A80036; stroke-width: 1.0;\"/><polygon fill=\"#A80036\" points=\"106.46,301.23,99.4153,302.7703,98.1277,309.8655,105.1724,308.3252,106.46,301.23\" style=\"stroke: #A80036; stroke-width: 1.0;\"/><text fill=\"#000000\" font-family=\"sans-serif\" font-size=\"13\" lengthAdjust=\"spacingAndGlyphs\" textLength=\"8\" x=\"51.3529\" y=\"426.744\">1</text></a><!--MD5=[191cde3d490a3f6d7bb551fe3ddca469]\n",
       "reverse link E3 to E5--><a href=\"psysml:0e10322d-8096-4d1c-ad13-bcf359abd35a\" target=\"_top\" title=\"psysml:0e10322d-8096-4d1c-ad13-bcf359abd35a\" xlink:actuate=\"onRequest\" xlink:href=\"psysml:0e10322d-8096-4d1c-ad13-bcf359abd35a\" xlink:show=\"new\" xlink:title=\"psysml:0e10322d-8096-4d1c-ad13-bcf359abd35a\" xlink:type=\"simple\"><path d=\"M145.17,313.57 C151.2,329.39 158.16,347.68 163.49,361.66 \" fill=\"none\" id=\"E3&lt;-E5\" style=\"stroke: #A80036; stroke-width: 1.0;\"/><polygon fill=\"#FFFFFF\" points=\"140.39,301.01,138.7866,308.0406,144.6598,312.2247,146.2631,305.1941,140.39,301.01\" style=\"stroke: #A80036; stroke-width: 1.0;\"/><text fill=\"#000000\" font-family=\"sans-serif\" font-size=\"13\" lengthAdjust=\"spacingAndGlyphs\" textLength=\"8\" x=\"152.2843\" y=\"350.8492\">1</text></a><!--MD5=[79568f1e445c3877b6a54524624ccc7d]\n",
       "link E4 to E6--><a href=\"psysml:cd799d59-974c-4cd5-b2a4-5d2e853ea550\" target=\"_top\" title=\"psysml:cd799d59-974c-4cd5-b2a4-5d2e853ea550\" xlink:actuate=\"onRequest\" xlink:href=\"psysml:cd799d59-974c-4cd5-b2a4-5d2e853ea550\" xlink:show=\"new\" xlink:title=\"psysml:cd799d59-974c-4cd5-b2a4-5d2e853ea550\" xlink:type=\"simple\"><path d=\"M72.25,484.22 C77.31,504.36 85.72,534.68 96,560 C104.15,580.08 115.08,601.47 124.82,619.21 \" fill=\"none\" id=\"E4-&gt;E6\" style=\"stroke: #A80036; stroke-width: 1.0;\"/><polygon fill=\"#FFFFFF\" points=\"134.72,636.8,119.2979,623.6791,131.4967,616.8097,134.72,636.8\" style=\"stroke: #A80036; stroke-width: 1.0;\"/><ellipse cx=\"118.2438\" cy=\"617.7311\" fill=\"#A80036\" rx=\"2\" ry=\"2\" style=\"stroke: #A80036; stroke-width: 1.0;\"/><ellipse cx=\"126.9572\" cy=\"612.8244\" fill=\"#A80036\" rx=\"2\" ry=\"2\" style=\"stroke: #A80036; stroke-width: 1.0;\"/></a><!--MD5=[3f50a3473f1dfb74d3f76443e03635af]\n",
       "reverse link E6 to E7--><a href=\"psysml:f66c29ee-70ba-402f-a3a4-159df7b46130\" target=\"_top\" title=\"psysml:f66c29ee-70ba-402f-a3a4-159df7b46130\" xlink:actuate=\"onRequest\" xlink:href=\"psysml:f66c29ee-70ba-402f-a3a4-159df7b46130\" xlink:show=\"new\" xlink:title=\"psysml:f66c29ee-70ba-402f-a3a4-159df7b46130\" xlink:type=\"simple\"><path d=\"M158.54,695.57 C163.36,711.39 168.93,729.68 173.19,743.66 \" fill=\"none\" id=\"E6&lt;-E7\" style=\"stroke: #A80036; stroke-width: 1.0;\"/><polygon fill=\"#A80036\" points=\"154.71,683.01,152.6319,689.9152,158.2066,694.4893,160.2847,687.5841,154.71,683.01\" style=\"stroke: #A80036; stroke-width: 1.0;\"/><text fill=\"#000000\" font-family=\"sans-serif\" font-size=\"13\" lengthAdjust=\"spacingAndGlyphs\" textLength=\"8\" x=\"162.4199\" y=\"732.8492\">1</text></a><!--MD5=[14ccda38c055a5c0da953d572bc50960]\n",
       "link E7 to E3--><a href=\"psysml:4b14459c-c0ea-47eb-ae95-5bdd156140b8\" target=\"_top\" title=\"psysml:4b14459c-c0ea-47eb-ae95-5bdd156140b8\" xlink:actuate=\"onRequest\" xlink:href=\"psysml:4b14459c-c0ea-47eb-ae95-5bdd156140b8\" xlink:show=\"new\" xlink:title=\"psysml:4b14459c-c0ea-47eb-ae95-5bdd156140b8\" xlink:type=\"simple\"><path d=\"M197.41,743.63 C211.5,723.27 229,691.78 229,661 C229,384 229,384 229,384 C229,353.7 206.93,328.42 183.85,310.26 \" fill=\"none\" id=\"E7-&gt;E3\" style=\"stroke: #A80036; stroke-width: 1.0;\"/><polygon fill=\"#FFFFFF\" points=\"167.57,298.59,187.0929,303.9617,178.9414,315.3438,167.57,298.59\" style=\"stroke: #A80036; stroke-width: 1.0;\"/><ellipse cx=\"190.5626\" cy=\"308.9066\" fill=\"#A80036\" rx=\"2\" ry=\"2\" style=\"stroke: #A80036; stroke-width: 1.0;\"/><ellipse cx=\"184.7401\" cy=\"317.0367\" fill=\"#A80036\" rx=\"2\" ry=\"2\" style=\"stroke: #A80036; stroke-width: 1.0;\"/></a><!--MD5=[dfaffb906826c3e5aca635516100ff21]\n",
       "link E5 to E8--><a href=\"psysml:7f99918d-ef62-497c-9b9a-668f89d0bef4\" target=\"_top\" title=\"psysml:7f99918d-ef62-497c-9b9a-668f89d0bef4\" xlink:actuate=\"onRequest\" xlink:href=\"psysml:7f99918d-ef62-497c-9b9a-668f89d0bef4\" xlink:show=\"new\" xlink:title=\"psysml:7f99918d-ef62-497c-9b9a-668f89d0bef4\" xlink:type=\"simple\"><path d=\"M168.46,408.13 C164.86,430.62 159.2,466.01 154.74,493.87 \" fill=\"none\" id=\"E5-&gt;E8\" style=\"stroke: #A80036; stroke-width: 1.0;\"/><polygon fill=\"#FFFFFF\" points=\"151.56,513.78,147.6458,493.9135,161.4704,496.1226,151.56,513.78\" style=\"stroke: #A80036; stroke-width: 1.0;\"/><ellipse cx=\"150.5202\" cy=\"488.6005\" fill=\"#A80036\" rx=\"2\" ry=\"2\" style=\"stroke: #A80036; stroke-width: 1.0;\"/><ellipse cx=\"160.3949\" cy=\"490.1784\" fill=\"#A80036\" rx=\"2\" ry=\"2\" style=\"stroke: #A80036; stroke-width: 1.0;\"/></a><!--MD5=[03c8294790d3c57651a1993cecff665f]\n",
       "reverse link E8 to E3--><a href=\"psysml:8abdebaf-64f0-40cf-a780-4a21932975d8\" target=\"_top\" title=\"psysml:8abdebaf-64f0-40cf-a780-4a21932975d8\" xlink:actuate=\"onRequest\" xlink:href=\"psysml:8abdebaf-64f0-40cf-a780-4a21932975d8\" xlink:show=\"new\" xlink:title=\"psysml:8abdebaf-64f0-40cf-a780-4a21932975d8\" xlink:type=\"simple\"><path d=\"M140.02,501.22 C134.57,475.6 127.84,439.84 125,408 C123.18,387.64 124.14,382.43 125,362 C125.87,341.34 127.95,317.86 129.62,301.16 \" fill=\"none\" id=\"E8&lt;-E3\" style=\"stroke: #A80036; stroke-width: 1.0;\"/><polygon fill=\"#FFFFFF\" points=\"142.81,513.96,145.4388,507.2451,140.2515,502.2359,137.6227,508.9508,142.81,513.96\" style=\"stroke: #A80036; stroke-width: 1.0;\"/><text fill=\"#000000\" font-family=\"sans-serif\" font-size=\"13\" lengthAdjust=\"spacingAndGlyphs\" textLength=\"7\" x=\"126\" y=\"389.5669\">y</text></a><!--MD5=[0d75d2178373a6a4568e5dc728f58aef]\n",
       "reverse link E8 to E6--><a href=\"psysml:8abdebaf-64f0-40cf-a780-4a21932975d8\" target=\"_top\" title=\"psysml:8abdebaf-64f0-40cf-a780-4a21932975d8\" xlink:actuate=\"onRequest\" xlink:href=\"psysml:8abdebaf-64f0-40cf-a780-4a21932975d8\" xlink:show=\"new\" xlink:title=\"psysml:8abdebaf-64f0-40cf-a780-4a21932975d8\" xlink:type=\"simple\"><path d=\"M148,573.22 C148,593.81 148,619.16 148,636.95 \" fill=\"none\" id=\"E8&lt;-E6\" style=\"stroke: #A80036; stroke-width: 1.0;\"/><polygon fill=\"#FFFFFF\" points=\"148,560.19,144,566.19,148,572.19,152,566.19,148,560.19\" style=\"stroke: #A80036; stroke-width: 1.0;\"/><text fill=\"#000000\" font-family=\"sans-serif\" font-size=\"13\" lengthAdjust=\"spacingAndGlyphs\" textLength=\"7\" x=\"149\" y=\"603.0669\">y</text></a><!--MD5=[23ac544a70576c3e717098101004234c]\n",
       "reverse link E9 to E10--><a href=\"psysml:4b97f70b-21b5-47d0-9b80-bf68f1206e68\" target=\"_top\" title=\"psysml:4b97f70b-21b5-47d0-9b80-bf68f1206e68\" xlink:actuate=\"onRequest\" xlink:href=\"psysml:4b97f70b-21b5-47d0-9b80-bf68f1206e68\" xlink:show=\"new\" xlink:title=\"psysml:4b97f70b-21b5-47d0-9b80-bf68f1206e68\" xlink:type=\"simple\"><path d=\"M84.39,99.1 C77.56,115.03 69.63,133.54 63.58,147.66 \" fill=\"none\" id=\"E9&lt;-E10\" style=\"stroke: #A80036; stroke-width: 1.0;\"/><polygon fill=\"#FFFFFF\" points=\"89.57,87.01,83.5327,90.9535,84.8509,98.0431,90.8882,94.0996,89.57,87.01\" style=\"stroke: #A80036; stroke-width: 1.0;\"/><text fill=\"#000000\" font-family=\"sans-serif\" font-size=\"13\" lengthAdjust=\"spacingAndGlyphs\" textLength=\"8\" x=\"57.0099\" y=\"136.8492\">1</text></a><!--MD5=[feeac5eb423634930294aa81f2d25a4c]\n",
       "link E10 to E3--><a href=\"psysml:890b43d2-a44a-4df9-b863-0c7f323950a1\" target=\"_top\" title=\"psysml:890b43d2-a44a-4df9-b863-0c7f323950a1\" xlink:actuate=\"onRequest\" xlink:href=\"psysml:890b43d2-a44a-4df9-b863-0c7f323950a1\" xlink:show=\"new\" xlink:title=\"psysml:890b43d2-a44a-4df9-b863-0c7f323950a1\" xlink:type=\"simple\"><path d=\"M70.35,194.01 C79.86,206.81 92.11,223.3 103.18,238.2 \" fill=\"none\" id=\"E10-&gt;E3\" style=\"stroke: #A80036; stroke-width: 1.0;\"/><polygon fill=\"#FFFFFF\" points=\"115.4,254.66,98.4457,243.5896,109.6805,235.2361,115.4,254.66\" style=\"stroke: #A80036; stroke-width: 1.0;\"/><ellipse cx=\"96.6496\" cy=\"237.8221\" fill=\"#A80036\" rx=\"2\" ry=\"2\" style=\"stroke: #A80036; stroke-width: 1.0;\"/><ellipse cx=\"104.6744\" cy=\"231.8554\" fill=\"#A80036\" rx=\"2\" ry=\"2\" style=\"stroke: #A80036; stroke-width: 1.0;\"/></a><!--MD5=[1fc04a95fd77ad5ce46c1a3027516051]\n",
       "reverse link E9 to E11--><a href=\"psysml:75cdd26f-47cf-45db-b14e-ba01ceb3edc6\" target=\"_top\" title=\"psysml:75cdd26f-47cf-45db-b14e-ba01ceb3edc6\" xlink:actuate=\"onRequest\" xlink:href=\"psysml:75cdd26f-47cf-45db-b14e-ba01ceb3edc6\" xlink:show=\"new\" xlink:title=\"psysml:75cdd26f-47cf-45db-b14e-ba01ceb3edc6\" xlink:type=\"simple\"><path d=\"M109.87,99.57 C114.84,115.39 120.59,133.68 124.98,147.66 \" fill=\"none\" id=\"E9&lt;-E11\" style=\"stroke: #A80036; stroke-width: 1.0;\"/><polygon fill=\"#FFFFFF\" points=\"105.92,87.01,103.9044,93.9337,109.5203,98.4572,111.5359,91.5335,105.92,87.01\" style=\"stroke: #A80036; stroke-width: 1.0;\"/><text fill=\"#000000\" font-family=\"sans-serif\" font-size=\"13\" lengthAdjust=\"spacingAndGlyphs\" textLength=\"8\" x=\"114.1561\" y=\"136.8492\">1</text></a><!--MD5=[0517f1ce58c4d5483948f93845c45e26]\n",
       "link E11 to E3--><a href=\"psysml:92dee77c-180b-445a-a05e-737a71661cde\" target=\"_top\" title=\"psysml:92dee77c-180b-445a-a05e-737a71661cde\" xlink:actuate=\"onRequest\" xlink:href=\"psysml:92dee77c-180b-445a-a05e-737a71661cde\" xlink:show=\"new\" xlink:title=\"psysml:92dee77c-180b-445a-a05e-737a71661cde\" xlink:type=\"simple\"><path d=\"M132,194.01 C132,205.69 132,220.46 132,234.28 \" fill=\"none\" id=\"E11-&gt;E3\" style=\"stroke: #A80036; stroke-width: 1.0;\"/><polygon fill=\"#FFFFFF\" points=\"132,254.66,125,235.66,139,235.66,132,254.66\" style=\"stroke: #A80036; stroke-width: 1.0;\"/><ellipse cx=\"127\" cy=\"229.96\" fill=\"#A80036\" rx=\"2\" ry=\"2\" style=\"stroke: #A80036; stroke-width: 1.0;\"/><ellipse cx=\"137\" cy=\"229.96\" fill=\"#A80036\" rx=\"2\" ry=\"2\" style=\"stroke: #A80036; stroke-width: 1.0;\"/></a><!--MD5=[dfb5f60a90dca8321d66f2cd8f1d833c]\n",
       "@startuml\r\n",
       "skinparam wrapWidth 300\r\n",
       "hide circle\r\n",
       "\r\n",
       "package \"ItemTest\" as E1  [[psysml:8469bc55-64be-4e75-90cd-bb271a7bb256 ]]  {\r\n",
       "comp usage \"f: A \" as E2  <<(T,blue) item>> [[psysml:6cbf61b0-82f0-477a-9e61-503ee7ef8ab3 ]] {\r\n",
       "}\r\n",
       "comp def \"A\" as E3  <<(T,blue) item  def>> [[psysml:73e4759d-5191-4c8c-b634-f2bc1b43e3a3 ]] {\r\n",
       "}\r\n",
       "comp usage \"b: B \" as E4  <<(T,blue) item>> [[psysml:22dedc78-8a6f-47e7-a1b3-f5299f454177 ]] {\r\n",
       "}\r\n",
       "comp usage \"c: C \" as E5  <<(T,blue) part>> [[psysml:d5b518cb-4e9d-48f6-86e4-811292cf7103 ]] {\r\n",
       "}\r\n",
       "comp def \"<i>B</i>\" as E6  <<(T,blue) item  def>> [[psysml:7fb13a86-95b9-42ac-ac4a-d3cbb2045ff7 ]] {\r\n",
       "}\r\n",
       "comp usage \"<i>a</i>: A \" as E7  <<(T,blue) part>> [[psysml:b4d408e4-c35f-4021-90a0-c54c4c634ca8 ]] {\r\n",
       "}\r\n",
       "comp def \"C\" as E8  <<(T,blue) part  def>> [[psysml:53104107-4f2e-4822-81be-c90629c3152e ]] {\r\n",
       "}\r\n",
       "comp def \"P\" as E9  <<(T,blue) port  def>> [[psysml:96c92d64-4061-42f0-9733-a4ee9bfee5f1 ]] {\r\n",
       "}\r\n",
       "comp usage \"a1: A \" as E10  <<(T,blue) item>> [[psysml:21151bb4-f160-49b9-964a-222b3c2d7b6c ]] {\r\n",
       "}\r\n",
       "comp usage \"a2: A \" as E11  <<(T,blue) item>> [[psysml:048eeab4-ab84-4a9d-8dc8-2b5e8335cff3 ]] {\r\n",
       "}\r\n",
       "}\r\n",
       "E2 - -:|> E3 [[psysml:e70b16f9-62c0-40f3-a087-aa973c352c22 ]] \r\n",
       "E3 *- - \"1\"E4 [[psysml:f5164247-58fc-45c1-bba3-2edebb195fbd ]] \r\n",
       "E3 o- - \"1\"E5 [[psysml:0e10322d-8096-4d1c-ad13-bcf359abd35a ]] \r\n",
       "E4 - -:|> E6 [[psysml:cd799d59-974c-4cd5-b2a4-5d2e853ea550 ]] \r\n",
       "E6 *- - \"1\"E7 [[psysml:f66c29ee-70ba-402f-a3a4-159df7b46130 ]] \r\n",
       "E7 - -:|> E3 [[psysml:4b14459c-c0ea-47eb-ae95-5bdd156140b8 ]] \r\n",
       "E5 - -:|> E8 [[psysml:7f99918d-ef62-497c-9b9a-668f89d0bef4 ]] \r\n",
       "E8 o- - E3 [[psysml:8abdebaf-64f0-40cf-a780-4a21932975d8 ]] : y\r\n",
       "E8 o- - E6 [[psysml:8abdebaf-64f0-40cf-a780-4a21932975d8 ]] : y\r\n",
       "E9 o- - \"1\"E10 [[psysml:4b97f70b-21b5-47d0-9b80-bf68f1206e68 ]] \r\n",
       "E10 - -:|> E3 [[psysml:890b43d2-a44a-4df9-b863-0c7f323950a1 ]] \r\n",
       "E9 o- - \"1\"E11 [[psysml:75cdd26f-47cf-45db-b14e-ba01ceb3edc6 ]] \r\n",
       "E11 - -:|> E3 [[psysml:92dee77c-180b-445a-a05e-737a71661cde ]] \r\n",
       "@enduml\r\n",
       "\n",
       "PlantUML version 1.2020.13(Sat Jun 13 12:26:38 UTC 2020)\n",
       "(EPL source distribution)\n",
       "Java Runtime: OpenJDK Runtime Environment\n",
       "JVM: OpenJDK 64-Bit Server VM\n",
       "Default Encoding: UTF-8\n",
       "Language: en\n",
       "Country: null\n",
       "--></g></svg>"
      ]
     },
     "execution_count": 23,
     "metadata": {},
     "output_type": "execute_result"
    }
   ],
   "source": [
    "%viz --style=\"STDCOLOR\" --view=\"Default\" \"ItemTest\""
   ]
  },
  {
   "cell_type": "code",
   "execution_count": 24,
   "id": "25e4e8b7",
   "metadata": {
    "execution": {
     "iopub.execute_input": "2022-03-21T07:49:10.517014Z",
     "iopub.status.busy": "2022-03-21T07:49:10.516577Z",
     "iopub.status.idle": "2022-03-21T07:49:10.561359Z",
     "shell.execute_reply": "2022-03-21T07:49:10.561067Z"
    }
   },
   "outputs": [
    {
     "data": {
      "image/svg+xml": [
       "<?xml version=\"1.0\" encoding=\"UTF-8\" standalone=\"no\"?><svg xmlns=\"http://www.w3.org/2000/svg\" xmlns:xlink=\"http://www.w3.org/1999/xlink\" contentScriptType=\"application/ecmascript\" contentStyleType=\"text/css\" height=\"818px\" preserveAspectRatio=\"none\" style=\"width:270px;height:818px;\" version=\"1.1\" viewBox=\"0 0 270 818\" width=\"270px\" zoomAndPan=\"magnify\"><defs><filter height=\"300%\" id=\"fwg2ts0kvkrgl\" width=\"300%\" x=\"-1\" y=\"-1\"><feGaussianBlur result=\"blurOut\" stdDeviation=\"2.0\"/><feColorMatrix in=\"blurOut\" result=\"blurOut2\" type=\"matrix\" values=\"0 0 0 0 0 0 0 0 0 0 0 0 0 0 0 0 0 0 .4 0\"/><feOffset dx=\"4.0\" dy=\"4.0\" in=\"blurOut2\" result=\"blurOut3\"/><feBlend in=\"SourceGraphic\" in2=\"blurOut3\" mode=\"normal\"/></filter></defs><g><!--MD5=[fbc87193dbaf4d95561dea2c320d4a47]\n",
       "cluster E1--><a href=\"psysml:8469bc55-64be-4e75-90cd-bb271a7bb256\" target=\"_top\" title=\"psysml:8469bc55-64be-4e75-90cd-bb271a7bb256\" xlink:actuate=\"onRequest\" xlink:href=\"psysml:8469bc55-64be-4e75-90cd-bb271a7bb256\" xlink:show=\"new\" xlink:title=\"psysml:8469bc55-64be-4e75-90cd-bb271a7bb256\" xlink:type=\"simple\"><polygon fill=\"#FFFFFF\" filter=\"url(#fwg2ts0kvkrgl)\" points=\"16,6,83,6,90,28.2969,248,28.2969,248,806,16,806,16,6\" style=\"stroke: #000000; stroke-width: 1.5;\"/><line style=\"stroke: #000000; stroke-width: 1.5;\" x1=\"16\" x2=\"90\" y1=\"28.2969\" y2=\"28.2969\"/><text fill=\"#000000\" font-family=\"sans-serif\" font-size=\"14\" font-weight=\"bold\" lengthAdjust=\"spacingAndGlyphs\" textLength=\"61\" x=\"20\" y=\"20.9951\">ItemTest</text></a><!--MD5=[b4997ac47864f28c2f74865a473b2911]\n",
       "class E2--><a href=\"psysml:6cbf61b0-82f0-477a-9e61-503ee7ef8ab3\" target=\"_top\" title=\"psysml:6cbf61b0-82f0-477a-9e61-503ee7ef8ab3\" xlink:actuate=\"onRequest\" xlink:href=\"psysml:6cbf61b0-82f0-477a-9e61-503ee7ef8ab3\" xlink:show=\"new\" xlink:title=\"psysml:6cbf61b0-82f0-477a-9e61-503ee7ef8ab3\" xlink:type=\"simple\"><rect fill=\"#FEFECE\" filter=\"url(#fwg2ts0kvkrgl)\" height=\"45.9375\" id=\"E2\" rx=\"10\" ry=\"10\" style=\"stroke: #A80036; stroke-width: 1.5;\" width=\"43\" x=\"188.5\" y=\"148\"/><text fill=\"#000000\" font-family=\"sans-serif\" font-size=\"12\" font-style=\"italic\" lengthAdjust=\"spacingAndGlyphs\" textLength=\"41\" x=\"189.5\" y=\"164.1387\">«item»</text><text fill=\"#000000\" font-family=\"sans-serif\" font-size=\"12\" lengthAdjust=\"spacingAndGlyphs\" textLength=\"20\" x=\"198\" y=\"178.1074\">f: A</text><line style=\"stroke: #A80036; stroke-width: 1.5;\" x1=\"189.5\" x2=\"230.5\" y1=\"185.9375\" y2=\"185.9375\"/></a><!--MD5=[09b614a08d8cba4a07c9adeb5e0fee81]\n",
       "class E3--><a href=\"psysml:73e4759d-5191-4c8c-b634-f2bc1b43e3a3\" target=\"_top\" title=\"psysml:73e4759d-5191-4c8c-b634-f2bc1b43e3a3\" xlink:actuate=\"onRequest\" xlink:href=\"psysml:73e4759d-5191-4c8c-b634-f2bc1b43e3a3\" xlink:show=\"new\" xlink:title=\"psysml:73e4759d-5191-4c8c-b634-f2bc1b43e3a3\" xlink:type=\"simple\"><rect fill=\"#FEFECE\" filter=\"url(#fwg2ts0kvkrgl)\" height=\"45.9375\" id=\"E3\" style=\"stroke: #A80036; stroke-width: 1.5;\" width=\"71\" x=\"96.5\" y=\"255\"/><text fill=\"#000000\" font-family=\"sans-serif\" font-size=\"12\" font-style=\"italic\" lengthAdjust=\"spacingAndGlyphs\" textLength=\"69\" x=\"97.5\" y=\"271.1387\">«item  def»</text><text fill=\"#000000\" font-family=\"sans-serif\" font-size=\"12\" lengthAdjust=\"spacingAndGlyphs\" textLength=\"8\" x=\"128\" y=\"285.1074\">A</text><line style=\"stroke: #A80036; stroke-width: 1.5;\" x1=\"97.5\" x2=\"166.5\" y1=\"292.9375\" y2=\"292.9375\"/></a><!--MD5=[ebbe1d658d1005bcc118a6aa81145e00]\n",
       "class E4--><a href=\"psysml:22dedc78-8a6f-47e7-a1b3-f5299f454177\" target=\"_top\" title=\"psysml:22dedc78-8a6f-47e7-a1b3-f5299f454177\" xlink:actuate=\"onRequest\" xlink:href=\"psysml:22dedc78-8a6f-47e7-a1b3-f5299f454177\" xlink:show=\"new\" xlink:title=\"psysml:22dedc78-8a6f-47e7-a1b3-f5299f454177\" xlink:type=\"simple\"><rect fill=\"#FEFECE\" filter=\"url(#fwg2ts0kvkrgl)\" height=\"45.9375\" id=\"E4\" rx=\"10\" ry=\"10\" style=\"stroke: #A80036; stroke-width: 1.5;\" width=\"43\" x=\"45.5\" y=\"438\"/><text fill=\"#000000\" font-family=\"sans-serif\" font-size=\"12\" font-style=\"italic\" lengthAdjust=\"spacingAndGlyphs\" textLength=\"41\" x=\"46.5\" y=\"454.1387\">«item»</text><text fill=\"#000000\" font-family=\"sans-serif\" font-size=\"12\" lengthAdjust=\"spacingAndGlyphs\" textLength=\"24\" x=\"53\" y=\"468.1074\">b: B</text><line style=\"stroke: #A80036; stroke-width: 1.5;\" x1=\"46.5\" x2=\"87.5\" y1=\"475.9375\" y2=\"475.9375\"/></a><!--MD5=[270fce915f116d4de14055a7c1d9a0f3]\n",
       "class E5--><a href=\"psysml:d5b518cb-4e9d-48f6-86e4-811292cf7103\" target=\"_top\" title=\"psysml:d5b518cb-4e9d-48f6-86e4-811292cf7103\" xlink:actuate=\"onRequest\" xlink:href=\"psysml:d5b518cb-4e9d-48f6-86e4-811292cf7103\" xlink:show=\"new\" xlink:title=\"psysml:d5b518cb-4e9d-48f6-86e4-811292cf7103\" xlink:type=\"simple\"><rect fill=\"#FEFECE\" filter=\"url(#fwg2ts0kvkrgl)\" height=\"45.9375\" id=\"E5\" rx=\"10\" ry=\"10\" style=\"stroke: #A80036; stroke-width: 1.5;\" width=\"42\" x=\"151\" y=\"362\"/><text fill=\"#000000\" font-family=\"sans-serif\" font-size=\"12\" font-style=\"italic\" lengthAdjust=\"spacingAndGlyphs\" textLength=\"40\" x=\"152\" y=\"378.1387\">«part»</text><text fill=\"#000000\" font-family=\"sans-serif\" font-size=\"12\" lengthAdjust=\"spacingAndGlyphs\" textLength=\"23\" x=\"158.5\" y=\"392.1074\">c: C</text><line style=\"stroke: #A80036; stroke-width: 1.5;\" x1=\"152\" x2=\"192\" y1=\"399.9375\" y2=\"399.9375\"/></a><!--MD5=[60a26617385b1d2d0262a64233df1f8d]\n",
       "class E6--><a href=\"psysml:7fb13a86-95b9-42ac-ac4a-d3cbb2045ff7\" target=\"_top\" title=\"psysml:7fb13a86-95b9-42ac-ac4a-d3cbb2045ff7\" xlink:actuate=\"onRequest\" xlink:href=\"psysml:7fb13a86-95b9-42ac-ac4a-d3cbb2045ff7\" xlink:show=\"new\" xlink:title=\"psysml:7fb13a86-95b9-42ac-ac4a-d3cbb2045ff7\" xlink:type=\"simple\"><rect fill=\"#FEFECE\" filter=\"url(#fwg2ts0kvkrgl)\" height=\"45.9375\" id=\"E6\" style=\"stroke: #A80036; stroke-width: 1.5;\" width=\"71\" x=\"112.5\" y=\"637\"/><text fill=\"#000000\" font-family=\"sans-serif\" font-size=\"12\" font-style=\"italic\" lengthAdjust=\"spacingAndGlyphs\" textLength=\"69\" x=\"113.5\" y=\"653.1387\">«item  def»</text><text fill=\"#000000\" font-family=\"sans-serif\" font-size=\"12\" font-style=\"italic\" lengthAdjust=\"spacingAndGlyphs\" textLength=\"8\" x=\"144\" y=\"667.1074\">B</text><line style=\"stroke: #A80036; stroke-width: 1.5;\" x1=\"113.5\" x2=\"182.5\" y1=\"674.9375\" y2=\"674.9375\"/></a><!--MD5=[2156ba9850f5573cc1fc38a6a4b2f02b]\n",
       "class E7--><a href=\"psysml:b4d408e4-c35f-4021-90a0-c54c4c634ca8\" target=\"_top\" title=\"psysml:b4d408e4-c35f-4021-90a0-c54c4c634ca8\" xlink:actuate=\"onRequest\" xlink:href=\"psysml:b4d408e4-c35f-4021-90a0-c54c4c634ca8\" xlink:show=\"new\" xlink:title=\"psysml:b4d408e4-c35f-4021-90a0-c54c4c634ca8\" xlink:type=\"simple\"><rect fill=\"#FEFECE\" filter=\"url(#fwg2ts0kvkrgl)\" height=\"45.9375\" id=\"E7\" rx=\"10\" ry=\"10\" style=\"stroke: #A80036; stroke-width: 1.5;\" width=\"42\" x=\"159\" y=\"744\"/><text fill=\"#000000\" font-family=\"sans-serif\" font-size=\"12\" font-style=\"italic\" lengthAdjust=\"spacingAndGlyphs\" textLength=\"40\" x=\"160\" y=\"760.1387\">«part»</text><text fill=\"#000000\" font-family=\"sans-serif\" font-size=\"12\" font-style=\"italic\" lengthAdjust=\"spacingAndGlyphs\" textLength=\"8\" x=\"166\" y=\"774.1074\">a</text><text fill=\"#000000\" font-family=\"sans-serif\" font-size=\"12\" lengthAdjust=\"spacingAndGlyphs\" textLength=\"16\" x=\"174\" y=\"774.1074\">: A</text><line style=\"stroke: #A80036; stroke-width: 1.5;\" x1=\"160\" x2=\"200\" y1=\"781.9375\" y2=\"781.9375\"/></a><!--MD5=[b9389687b975829384b498ac4b7476b2]\n",
       "class E8--><a href=\"psysml:53104107-4f2e-4822-81be-c90629c3152e\" target=\"_top\" title=\"psysml:53104107-4f2e-4822-81be-c90629c3152e\" xlink:actuate=\"onRequest\" xlink:href=\"psysml:53104107-4f2e-4822-81be-c90629c3152e\" xlink:show=\"new\" xlink:title=\"psysml:53104107-4f2e-4822-81be-c90629c3152e\" xlink:type=\"simple\"><rect fill=\"#FEFECE\" filter=\"url(#fwg2ts0kvkrgl)\" height=\"45.9375\" id=\"E8\" style=\"stroke: #A80036; stroke-width: 1.5;\" width=\"70\" x=\"113\" y=\"514\"/><text fill=\"#000000\" font-family=\"sans-serif\" font-size=\"12\" font-style=\"italic\" lengthAdjust=\"spacingAndGlyphs\" textLength=\"68\" x=\"114\" y=\"530.1387\">«part  def»</text><text fill=\"#000000\" font-family=\"sans-serif\" font-size=\"12\" lengthAdjust=\"spacingAndGlyphs\" textLength=\"8\" x=\"144\" y=\"544.1074\">C</text><line style=\"stroke: #A80036; stroke-width: 1.5;\" x1=\"114\" x2=\"182\" y1=\"551.9375\" y2=\"551.9375\"/></a><!--MD5=[fd4143e9d270a159db93a4ea2a975926]\n",
       "class E9--><a href=\"psysml:96c92d64-4061-42f0-9733-a4ee9bfee5f1\" target=\"_top\" title=\"psysml:96c92d64-4061-42f0-9733-a4ee9bfee5f1\" xlink:actuate=\"onRequest\" xlink:href=\"psysml:96c92d64-4061-42f0-9733-a4ee9bfee5f1\" xlink:show=\"new\" xlink:title=\"psysml:96c92d64-4061-42f0-9733-a4ee9bfee5f1\" xlink:type=\"simple\"><rect fill=\"#FEFECE\" filter=\"url(#fwg2ts0kvkrgl)\" height=\"45.9375\" id=\"E9\" style=\"stroke: #A80036; stroke-width: 1.5;\" width=\"70\" x=\"64\" y=\"41\"/><text fill=\"#000000\" font-family=\"sans-serif\" font-size=\"12\" font-style=\"italic\" lengthAdjust=\"spacingAndGlyphs\" textLength=\"68\" x=\"65\" y=\"57.1387\">«port  def»</text><text fill=\"#000000\" font-family=\"sans-serif\" font-size=\"12\" lengthAdjust=\"spacingAndGlyphs\" textLength=\"8\" x=\"95\" y=\"71.1074\">P</text><line style=\"stroke: #A80036; stroke-width: 1.5;\" x1=\"65\" x2=\"133\" y1=\"78.9375\" y2=\"78.9375\"/></a><!--MD5=[96f4274e9e20536e775497830990834d]\n",
       "class E10--><a href=\"psysml:21151bb4-f160-49b9-964a-222b3c2d7b6c\" target=\"_top\" title=\"psysml:21151bb4-f160-49b9-964a-222b3c2d7b6c\" xlink:actuate=\"onRequest\" xlink:href=\"psysml:21151bb4-f160-49b9-964a-222b3c2d7b6c\" xlink:show=\"new\" xlink:title=\"psysml:21151bb4-f160-49b9-964a-222b3c2d7b6c\" xlink:type=\"simple\"><rect fill=\"#FEFECE\" filter=\"url(#fwg2ts0kvkrgl)\" height=\"45.9375\" id=\"E10\" rx=\"10\" ry=\"10\" style=\"stroke: #A80036; stroke-width: 1.5;\" width=\"43\" x=\"32.5\" y=\"148\"/><text fill=\"#000000\" font-family=\"sans-serif\" font-size=\"12\" font-style=\"italic\" lengthAdjust=\"spacingAndGlyphs\" textLength=\"41\" x=\"33.5\" y=\"164.1387\">«item»</text><text fill=\"#000000\" font-family=\"sans-serif\" font-size=\"12\" lengthAdjust=\"spacingAndGlyphs\" textLength=\"32\" x=\"36\" y=\"178.1074\">a1: A</text><line style=\"stroke: #A80036; stroke-width: 1.5;\" x1=\"33.5\" x2=\"74.5\" y1=\"185.9375\" y2=\"185.9375\"/></a><!--MD5=[1dd1bfd58a279cf63c5f349dbc8fc6a1]\n",
       "class E11--><a href=\"psysml:048eeab4-ab84-4a9d-8dc8-2b5e8335cff3\" target=\"_top\" title=\"psysml:048eeab4-ab84-4a9d-8dc8-2b5e8335cff3\" xlink:actuate=\"onRequest\" xlink:href=\"psysml:048eeab4-ab84-4a9d-8dc8-2b5e8335cff3\" xlink:show=\"new\" xlink:title=\"psysml:048eeab4-ab84-4a9d-8dc8-2b5e8335cff3\" xlink:type=\"simple\"><rect fill=\"#FEFECE\" filter=\"url(#fwg2ts0kvkrgl)\" height=\"45.9375\" id=\"E11\" rx=\"10\" ry=\"10\" style=\"stroke: #A80036; stroke-width: 1.5;\" width=\"43\" x=\"110.5\" y=\"148\"/><text fill=\"#000000\" font-family=\"sans-serif\" font-size=\"12\" font-style=\"italic\" lengthAdjust=\"spacingAndGlyphs\" textLength=\"41\" x=\"111.5\" y=\"164.1387\">«item»</text><text fill=\"#000000\" font-family=\"sans-serif\" font-size=\"12\" lengthAdjust=\"spacingAndGlyphs\" textLength=\"32\" x=\"114\" y=\"178.1074\">a2: A</text><line style=\"stroke: #A80036; stroke-width: 1.5;\" x1=\"111.5\" x2=\"152.5\" y1=\"185.9375\" y2=\"185.9375\"/></a><!--MD5=[2720a5a1f2c3fca2055b230370638851]\n",
       "link E2 to E3--><a href=\"psysml:e70b16f9-62c0-40f3-a087-aa973c352c22\" target=\"_top\" title=\"psysml:e70b16f9-62c0-40f3-a087-aa973c352c22\" xlink:actuate=\"onRequest\" xlink:href=\"psysml:e70b16f9-62c0-40f3-a087-aa973c352c22\" xlink:show=\"new\" xlink:title=\"psysml:e70b16f9-62c0-40f3-a087-aa973c352c22\" xlink:type=\"simple\"><path d=\"M193.65,194.01 C184.14,206.81 171.89,223.3 160.82,238.2 \" fill=\"none\" id=\"E2-&gt;E3\" style=\"stroke: #A80036; stroke-width: 1.0;\"/><polygon fill=\"#FFFFFF\" points=\"148.6,254.66,154.3195,235.2361,165.5543,243.5896,148.6,254.66\" style=\"stroke: #A80036; stroke-width: 1.0;\"/><ellipse cx=\"159.3256\" cy=\"231.8554\" fill=\"#A80036\" rx=\"2\" ry=\"2\" style=\"stroke: #A80036; stroke-width: 1.0;\"/><ellipse cx=\"167.3504\" cy=\"237.8221\" fill=\"#A80036\" rx=\"2\" ry=\"2\" style=\"stroke: #A80036; stroke-width: 1.0;\"/></a><!--MD5=[4672eba38e49728da53d11aeb285b987]\n",
       "reverse link E3 to E4--><a href=\"psysml:f5164247-58fc-45c1-bba3-2edebb195fbd\" target=\"_top\" title=\"psysml:f5164247-58fc-45c1-bba3-2edebb195fbd\" xlink:actuate=\"onRequest\" xlink:href=\"psysml:f5164247-58fc-45c1-bba3-2edebb195fbd\" xlink:show=\"new\" xlink:title=\"psysml:f5164247-58fc-45c1-bba3-2edebb195fbd\" xlink:type=\"simple\"><path d=\"M97.11,310.9 C84.08,325.11 70.81,342.94 64,362 C55.12,386.85 58.09,417.53 61.82,437.88 \" fill=\"none\" id=\"E3&lt;-E4\" style=\"stroke: #A80036; stroke-width: 1.0;\"/><polygon fill=\"#A80036\" points=\"106.46,301.23,99.4153,302.7703,98.1277,309.8655,105.1724,308.3252,106.46,301.23\" style=\"stroke: #A80036; stroke-width: 1.0;\"/><text fill=\"#000000\" font-family=\"sans-serif\" font-size=\"13\" lengthAdjust=\"spacingAndGlyphs\" textLength=\"8\" x=\"51.3529\" y=\"426.744\">1</text></a><!--MD5=[191cde3d490a3f6d7bb551fe3ddca469]\n",
       "reverse link E3 to E5--><a href=\"psysml:0e10322d-8096-4d1c-ad13-bcf359abd35a\" target=\"_top\" title=\"psysml:0e10322d-8096-4d1c-ad13-bcf359abd35a\" xlink:actuate=\"onRequest\" xlink:href=\"psysml:0e10322d-8096-4d1c-ad13-bcf359abd35a\" xlink:show=\"new\" xlink:title=\"psysml:0e10322d-8096-4d1c-ad13-bcf359abd35a\" xlink:type=\"simple\"><path d=\"M145.17,313.57 C151.2,329.39 158.16,347.68 163.49,361.66 \" fill=\"none\" id=\"E3&lt;-E5\" style=\"stroke: #A80036; stroke-width: 1.0;\"/><polygon fill=\"#FFFFFF\" points=\"140.39,301.01,138.7866,308.0406,144.6598,312.2247,146.2631,305.1941,140.39,301.01\" style=\"stroke: #A80036; stroke-width: 1.0;\"/><text fill=\"#000000\" font-family=\"sans-serif\" font-size=\"13\" lengthAdjust=\"spacingAndGlyphs\" textLength=\"8\" x=\"152.2843\" y=\"350.8492\">1</text></a><!--MD5=[79568f1e445c3877b6a54524624ccc7d]\n",
       "link E4 to E6--><a href=\"psysml:cd799d59-974c-4cd5-b2a4-5d2e853ea550\" target=\"_top\" title=\"psysml:cd799d59-974c-4cd5-b2a4-5d2e853ea550\" xlink:actuate=\"onRequest\" xlink:href=\"psysml:cd799d59-974c-4cd5-b2a4-5d2e853ea550\" xlink:show=\"new\" xlink:title=\"psysml:cd799d59-974c-4cd5-b2a4-5d2e853ea550\" xlink:type=\"simple\"><path d=\"M72.25,484.22 C77.31,504.36 85.72,534.68 96,560 C104.15,580.08 115.08,601.47 124.82,619.21 \" fill=\"none\" id=\"E4-&gt;E6\" style=\"stroke: #A80036; stroke-width: 1.0;\"/><polygon fill=\"#FFFFFF\" points=\"134.72,636.8,119.2979,623.6791,131.4967,616.8097,134.72,636.8\" style=\"stroke: #A80036; stroke-width: 1.0;\"/><ellipse cx=\"118.2438\" cy=\"617.7311\" fill=\"#A80036\" rx=\"2\" ry=\"2\" style=\"stroke: #A80036; stroke-width: 1.0;\"/><ellipse cx=\"126.9572\" cy=\"612.8244\" fill=\"#A80036\" rx=\"2\" ry=\"2\" style=\"stroke: #A80036; stroke-width: 1.0;\"/></a><!--MD5=[3f50a3473f1dfb74d3f76443e03635af]\n",
       "reverse link E6 to E7--><a href=\"psysml:f66c29ee-70ba-402f-a3a4-159df7b46130\" target=\"_top\" title=\"psysml:f66c29ee-70ba-402f-a3a4-159df7b46130\" xlink:actuate=\"onRequest\" xlink:href=\"psysml:f66c29ee-70ba-402f-a3a4-159df7b46130\" xlink:show=\"new\" xlink:title=\"psysml:f66c29ee-70ba-402f-a3a4-159df7b46130\" xlink:type=\"simple\"><path d=\"M158.54,695.57 C163.36,711.39 168.93,729.68 173.19,743.66 \" fill=\"none\" id=\"E6&lt;-E7\" style=\"stroke: #A80036; stroke-width: 1.0;\"/><polygon fill=\"#A80036\" points=\"154.71,683.01,152.6319,689.9152,158.2066,694.4893,160.2847,687.5841,154.71,683.01\" style=\"stroke: #A80036; stroke-width: 1.0;\"/><text fill=\"#000000\" font-family=\"sans-serif\" font-size=\"13\" lengthAdjust=\"spacingAndGlyphs\" textLength=\"8\" x=\"162.4199\" y=\"732.8492\">1</text></a><!--MD5=[14ccda38c055a5c0da953d572bc50960]\n",
       "link E7 to E3--><a href=\"psysml:4b14459c-c0ea-47eb-ae95-5bdd156140b8\" target=\"_top\" title=\"psysml:4b14459c-c0ea-47eb-ae95-5bdd156140b8\" xlink:actuate=\"onRequest\" xlink:href=\"psysml:4b14459c-c0ea-47eb-ae95-5bdd156140b8\" xlink:show=\"new\" xlink:title=\"psysml:4b14459c-c0ea-47eb-ae95-5bdd156140b8\" xlink:type=\"simple\"><path d=\"M197.41,743.63 C211.5,723.27 229,691.78 229,661 C229,384 229,384 229,384 C229,353.7 206.93,328.42 183.85,310.26 \" fill=\"none\" id=\"E7-&gt;E3\" style=\"stroke: #A80036; stroke-width: 1.0;\"/><polygon fill=\"#FFFFFF\" points=\"167.57,298.59,187.0929,303.9617,178.9414,315.3438,167.57,298.59\" style=\"stroke: #A80036; stroke-width: 1.0;\"/><ellipse cx=\"190.5626\" cy=\"308.9066\" fill=\"#A80036\" rx=\"2\" ry=\"2\" style=\"stroke: #A80036; stroke-width: 1.0;\"/><ellipse cx=\"184.7401\" cy=\"317.0367\" fill=\"#A80036\" rx=\"2\" ry=\"2\" style=\"stroke: #A80036; stroke-width: 1.0;\"/></a><!--MD5=[dfaffb906826c3e5aca635516100ff21]\n",
       "link E5 to E8--><a href=\"psysml:7f99918d-ef62-497c-9b9a-668f89d0bef4\" target=\"_top\" title=\"psysml:7f99918d-ef62-497c-9b9a-668f89d0bef4\" xlink:actuate=\"onRequest\" xlink:href=\"psysml:7f99918d-ef62-497c-9b9a-668f89d0bef4\" xlink:show=\"new\" xlink:title=\"psysml:7f99918d-ef62-497c-9b9a-668f89d0bef4\" xlink:type=\"simple\"><path d=\"M168.46,408.13 C164.86,430.62 159.2,466.01 154.74,493.87 \" fill=\"none\" id=\"E5-&gt;E8\" style=\"stroke: #A80036; stroke-width: 1.0;\"/><polygon fill=\"#FFFFFF\" points=\"151.56,513.78,147.6458,493.9135,161.4704,496.1226,151.56,513.78\" style=\"stroke: #A80036; stroke-width: 1.0;\"/><ellipse cx=\"150.5202\" cy=\"488.6005\" fill=\"#A80036\" rx=\"2\" ry=\"2\" style=\"stroke: #A80036; stroke-width: 1.0;\"/><ellipse cx=\"160.3949\" cy=\"490.1784\" fill=\"#A80036\" rx=\"2\" ry=\"2\" style=\"stroke: #A80036; stroke-width: 1.0;\"/></a><!--MD5=[03c8294790d3c57651a1993cecff665f]\n",
       "reverse link E8 to E3--><a href=\"psysml:8abdebaf-64f0-40cf-a780-4a21932975d8\" target=\"_top\" title=\"psysml:8abdebaf-64f0-40cf-a780-4a21932975d8\" xlink:actuate=\"onRequest\" xlink:href=\"psysml:8abdebaf-64f0-40cf-a780-4a21932975d8\" xlink:show=\"new\" xlink:title=\"psysml:8abdebaf-64f0-40cf-a780-4a21932975d8\" xlink:type=\"simple\"><path d=\"M140.02,501.22 C134.57,475.6 127.84,439.84 125,408 C123.18,387.64 124.14,382.43 125,362 C125.87,341.34 127.95,317.86 129.62,301.16 \" fill=\"none\" id=\"E8&lt;-E3\" style=\"stroke: #A80036; stroke-width: 1.0;\"/><polygon fill=\"#FFFFFF\" points=\"142.81,513.96,145.4388,507.2451,140.2515,502.2359,137.6227,508.9508,142.81,513.96\" style=\"stroke: #A80036; stroke-width: 1.0;\"/><text fill=\"#000000\" font-family=\"sans-serif\" font-size=\"13\" lengthAdjust=\"spacingAndGlyphs\" textLength=\"7\" x=\"126\" y=\"389.5669\">y</text></a><!--MD5=[0d75d2178373a6a4568e5dc728f58aef]\n",
       "reverse link E8 to E6--><a href=\"psysml:8abdebaf-64f0-40cf-a780-4a21932975d8\" target=\"_top\" title=\"psysml:8abdebaf-64f0-40cf-a780-4a21932975d8\" xlink:actuate=\"onRequest\" xlink:href=\"psysml:8abdebaf-64f0-40cf-a780-4a21932975d8\" xlink:show=\"new\" xlink:title=\"psysml:8abdebaf-64f0-40cf-a780-4a21932975d8\" xlink:type=\"simple\"><path d=\"M148,573.22 C148,593.81 148,619.16 148,636.95 \" fill=\"none\" id=\"E8&lt;-E6\" style=\"stroke: #A80036; stroke-width: 1.0;\"/><polygon fill=\"#FFFFFF\" points=\"148,560.19,144,566.19,148,572.19,152,566.19,148,560.19\" style=\"stroke: #A80036; stroke-width: 1.0;\"/><text fill=\"#000000\" font-family=\"sans-serif\" font-size=\"13\" lengthAdjust=\"spacingAndGlyphs\" textLength=\"7\" x=\"149\" y=\"603.0669\">y</text></a><!--MD5=[23ac544a70576c3e717098101004234c]\n",
       "reverse link E9 to E10--><a href=\"psysml:4b97f70b-21b5-47d0-9b80-bf68f1206e68\" target=\"_top\" title=\"psysml:4b97f70b-21b5-47d0-9b80-bf68f1206e68\" xlink:actuate=\"onRequest\" xlink:href=\"psysml:4b97f70b-21b5-47d0-9b80-bf68f1206e68\" xlink:show=\"new\" xlink:title=\"psysml:4b97f70b-21b5-47d0-9b80-bf68f1206e68\" xlink:type=\"simple\"><path d=\"M84.39,99.1 C77.56,115.03 69.63,133.54 63.58,147.66 \" fill=\"none\" id=\"E9&lt;-E10\" style=\"stroke: #A80036; stroke-width: 1.0;\"/><polygon fill=\"#FFFFFF\" points=\"89.57,87.01,83.5327,90.9535,84.8509,98.0431,90.8882,94.0996,89.57,87.01\" style=\"stroke: #A80036; stroke-width: 1.0;\"/><text fill=\"#000000\" font-family=\"sans-serif\" font-size=\"13\" lengthAdjust=\"spacingAndGlyphs\" textLength=\"8\" x=\"57.0099\" y=\"136.8492\">1</text></a><!--MD5=[feeac5eb423634930294aa81f2d25a4c]\n",
       "link E10 to E3--><a href=\"psysml:890b43d2-a44a-4df9-b863-0c7f323950a1\" target=\"_top\" title=\"psysml:890b43d2-a44a-4df9-b863-0c7f323950a1\" xlink:actuate=\"onRequest\" xlink:href=\"psysml:890b43d2-a44a-4df9-b863-0c7f323950a1\" xlink:show=\"new\" xlink:title=\"psysml:890b43d2-a44a-4df9-b863-0c7f323950a1\" xlink:type=\"simple\"><path d=\"M70.35,194.01 C79.86,206.81 92.11,223.3 103.18,238.2 \" fill=\"none\" id=\"E10-&gt;E3\" style=\"stroke: #A80036; stroke-width: 1.0;\"/><polygon fill=\"#FFFFFF\" points=\"115.4,254.66,98.4457,243.5896,109.6805,235.2361,115.4,254.66\" style=\"stroke: #A80036; stroke-width: 1.0;\"/><ellipse cx=\"96.6496\" cy=\"237.8221\" fill=\"#A80036\" rx=\"2\" ry=\"2\" style=\"stroke: #A80036; stroke-width: 1.0;\"/><ellipse cx=\"104.6744\" cy=\"231.8554\" fill=\"#A80036\" rx=\"2\" ry=\"2\" style=\"stroke: #A80036; stroke-width: 1.0;\"/></a><!--MD5=[1fc04a95fd77ad5ce46c1a3027516051]\n",
       "reverse link E9 to E11--><a href=\"psysml:75cdd26f-47cf-45db-b14e-ba01ceb3edc6\" target=\"_top\" title=\"psysml:75cdd26f-47cf-45db-b14e-ba01ceb3edc6\" xlink:actuate=\"onRequest\" xlink:href=\"psysml:75cdd26f-47cf-45db-b14e-ba01ceb3edc6\" xlink:show=\"new\" xlink:title=\"psysml:75cdd26f-47cf-45db-b14e-ba01ceb3edc6\" xlink:type=\"simple\"><path d=\"M109.87,99.57 C114.84,115.39 120.59,133.68 124.98,147.66 \" fill=\"none\" id=\"E9&lt;-E11\" style=\"stroke: #A80036; stroke-width: 1.0;\"/><polygon fill=\"#FFFFFF\" points=\"105.92,87.01,103.9044,93.9337,109.5203,98.4572,111.5359,91.5335,105.92,87.01\" style=\"stroke: #A80036; stroke-width: 1.0;\"/><text fill=\"#000000\" font-family=\"sans-serif\" font-size=\"13\" lengthAdjust=\"spacingAndGlyphs\" textLength=\"8\" x=\"114.1561\" y=\"136.8492\">1</text></a><!--MD5=[0517f1ce58c4d5483948f93845c45e26]\n",
       "link E11 to E3--><a href=\"psysml:92dee77c-180b-445a-a05e-737a71661cde\" target=\"_top\" title=\"psysml:92dee77c-180b-445a-a05e-737a71661cde\" xlink:actuate=\"onRequest\" xlink:href=\"psysml:92dee77c-180b-445a-a05e-737a71661cde\" xlink:show=\"new\" xlink:title=\"psysml:92dee77c-180b-445a-a05e-737a71661cde\" xlink:type=\"simple\"><path d=\"M132,194.01 C132,205.69 132,220.46 132,234.28 \" fill=\"none\" id=\"E11-&gt;E3\" style=\"stroke: #A80036; stroke-width: 1.0;\"/><polygon fill=\"#FFFFFF\" points=\"132,254.66,125,235.66,139,235.66,132,254.66\" style=\"stroke: #A80036; stroke-width: 1.0;\"/><ellipse cx=\"127\" cy=\"229.96\" fill=\"#A80036\" rx=\"2\" ry=\"2\" style=\"stroke: #A80036; stroke-width: 1.0;\"/><ellipse cx=\"137\" cy=\"229.96\" fill=\"#A80036\" rx=\"2\" ry=\"2\" style=\"stroke: #A80036; stroke-width: 1.0;\"/></a><!--MD5=[dfb5f60a90dca8321d66f2cd8f1d833c]\n",
       "@startuml\r\n",
       "skinparam wrapWidth 300\r\n",
       "hide circle\r\n",
       "\r\n",
       "package \"ItemTest\" as E1  [[psysml:8469bc55-64be-4e75-90cd-bb271a7bb256 ]]  {\r\n",
       "comp usage \"f: A \" as E2  <<(T,blue) item>> [[psysml:6cbf61b0-82f0-477a-9e61-503ee7ef8ab3 ]] {\r\n",
       "}\r\n",
       "comp def \"A\" as E3  <<(T,blue) item  def>> [[psysml:73e4759d-5191-4c8c-b634-f2bc1b43e3a3 ]] {\r\n",
       "}\r\n",
       "comp usage \"b: B \" as E4  <<(T,blue) item>> [[psysml:22dedc78-8a6f-47e7-a1b3-f5299f454177 ]] {\r\n",
       "}\r\n",
       "comp usage \"c: C \" as E5  <<(T,blue) part>> [[psysml:d5b518cb-4e9d-48f6-86e4-811292cf7103 ]] {\r\n",
       "}\r\n",
       "comp def \"<i>B</i>\" as E6  <<(T,blue) item  def>> [[psysml:7fb13a86-95b9-42ac-ac4a-d3cbb2045ff7 ]] {\r\n",
       "}\r\n",
       "comp usage \"<i>a</i>: A \" as E7  <<(T,blue) part>> [[psysml:b4d408e4-c35f-4021-90a0-c54c4c634ca8 ]] {\r\n",
       "}\r\n",
       "comp def \"C\" as E8  <<(T,blue) part  def>> [[psysml:53104107-4f2e-4822-81be-c90629c3152e ]] {\r\n",
       "}\r\n",
       "comp def \"P\" as E9  <<(T,blue) port  def>> [[psysml:96c92d64-4061-42f0-9733-a4ee9bfee5f1 ]] {\r\n",
       "}\r\n",
       "comp usage \"a1: A \" as E10  <<(T,blue) item>> [[psysml:21151bb4-f160-49b9-964a-222b3c2d7b6c ]] {\r\n",
       "}\r\n",
       "comp usage \"a2: A \" as E11  <<(T,blue) item>> [[psysml:048eeab4-ab84-4a9d-8dc8-2b5e8335cff3 ]] {\r\n",
       "}\r\n",
       "}\r\n",
       "E2 - -:|> E3 [[psysml:e70b16f9-62c0-40f3-a087-aa973c352c22 ]] \r\n",
       "E3 *- - \"1\"E4 [[psysml:f5164247-58fc-45c1-bba3-2edebb195fbd ]] \r\n",
       "E3 o- - \"1\"E5 [[psysml:0e10322d-8096-4d1c-ad13-bcf359abd35a ]] \r\n",
       "E4 - -:|> E6 [[psysml:cd799d59-974c-4cd5-b2a4-5d2e853ea550 ]] \r\n",
       "E6 *- - \"1\"E7 [[psysml:f66c29ee-70ba-402f-a3a4-159df7b46130 ]] \r\n",
       "E7 - -:|> E3 [[psysml:4b14459c-c0ea-47eb-ae95-5bdd156140b8 ]] \r\n",
       "E5 - -:|> E8 [[psysml:7f99918d-ef62-497c-9b9a-668f89d0bef4 ]] \r\n",
       "E8 o- - E3 [[psysml:8abdebaf-64f0-40cf-a780-4a21932975d8 ]] : y\r\n",
       "E8 o- - E6 [[psysml:8abdebaf-64f0-40cf-a780-4a21932975d8 ]] : y\r\n",
       "E9 o- - \"1\"E10 [[psysml:4b97f70b-21b5-47d0-9b80-bf68f1206e68 ]] \r\n",
       "E10 - -:|> E3 [[psysml:890b43d2-a44a-4df9-b863-0c7f323950a1 ]] \r\n",
       "E9 o- - \"1\"E11 [[psysml:75cdd26f-47cf-45db-b14e-ba01ceb3edc6 ]] \r\n",
       "E11 - -:|> E3 [[psysml:92dee77c-180b-445a-a05e-737a71661cde ]] \r\n",
       "@enduml\r\n",
       "\n",
       "PlantUML version 1.2020.13(Sat Jun 13 12:26:38 UTC 2020)\n",
       "(EPL source distribution)\n",
       "Java Runtime: OpenJDK Runtime Environment\n",
       "JVM: OpenJDK 64-Bit Server VM\n",
       "Default Encoding: UTF-8\n",
       "Language: en\n",
       "Country: null\n",
       "--></g></svg>"
      ]
     },
     "execution_count": 24,
     "metadata": {},
     "output_type": "execute_result"
    }
   ],
   "source": [
    "%viz --style=\"STDCOLOR\" --view=\"Tree\" \"ItemTest\""
   ]
  },
  {
   "cell_type": "code",
   "execution_count": 25,
   "id": "f5e8cb7b",
   "metadata": {
    "execution": {
     "iopub.execute_input": "2022-03-21T07:49:10.611206Z",
     "iopub.status.busy": "2022-03-21T07:49:10.610778Z",
     "iopub.status.idle": "2022-03-21T07:49:10.615272Z",
     "shell.execute_reply": "2022-03-21T07:49:10.614933Z"
    }
   },
   "outputs": [
    {
     "data": {
      "image/svg+xml": [
       "<?xml version=\"1.0\" encoding=\"UTF-8\" standalone=\"no\"?><svg xmlns=\"http://www.w3.org/2000/svg\" xmlns:xlink=\"http://www.w3.org/1999/xlink\" contentScriptType=\"application/ecmascript\" contentStyleType=\"text/css\" height=\"12px\" preserveAspectRatio=\"none\" style=\"width:12px;height:12px;\" version=\"1.1\" viewBox=\"0 0 12 12\" width=\"12px\" zoomAndPan=\"magnify\"><defs/><g><!--MD5=[aeeef50f102b80d730deb6443d14f702]\n",
       "@startuml\r\n",
       "skinparam wrapWidth 300\r\n",
       "hide circle\r\n",
       "\r\n",
       "@enduml\r\n",
       "\n",
       "PlantUML version 1.2020.13(Sat Jun 13 12:26:38 UTC 2020)\n",
       "(EPL source distribution)\n",
       "Java Runtime: OpenJDK Runtime Environment\n",
       "JVM: OpenJDK 64-Bit Server VM\n",
       "Default Encoding: UTF-8\n",
       "Language: en\n",
       "Country: null\n",
       "--></g></svg>"
      ]
     },
     "execution_count": 25,
     "metadata": {},
     "output_type": "execute_result"
    }
   ],
   "source": [
    "%viz --style=\"STDCOLOR\" --view=\"State\" \"ItemTest\""
   ]
  },
  {
   "cell_type": "code",
   "execution_count": 26,
   "id": "9bcda380",
   "metadata": {
    "execution": {
     "iopub.execute_input": "2022-03-21T07:49:10.665204Z",
     "iopub.status.busy": "2022-03-21T07:49:10.664802Z",
     "iopub.status.idle": "2022-03-21T07:49:10.690733Z",
     "shell.execute_reply": "2022-03-21T07:49:10.690372Z"
    }
   },
   "outputs": [
    {
     "data": {
      "image/svg+xml": [
       "<?xml version=\"1.0\" encoding=\"UTF-8\" standalone=\"no\"?><svg xmlns=\"http://www.w3.org/2000/svg\" xmlns:xlink=\"http://www.w3.org/1999/xlink\" contentScriptType=\"application/ecmascript\" contentStyleType=\"text/css\" height=\"112px\" preserveAspectRatio=\"none\" style=\"width:563px;height:112px;\" version=\"1.1\" viewBox=\"0 0 563 112\" width=\"563px\" zoomAndPan=\"magnify\"><defs><filter height=\"300%\" id=\"fp9xukx5dwgsk\" width=\"300%\" x=\"-1\" y=\"-1\"><feGaussianBlur result=\"blurOut\" stdDeviation=\"2.0\"/><feColorMatrix in=\"blurOut\" result=\"blurOut2\" type=\"matrix\" values=\"0 0 0 0 0 0 0 0 0 0 0 0 0 0 0 0 0 0 .4 0\"/><feOffset dx=\"4.0\" dy=\"4.0\" in=\"blurOut2\" result=\"blurOut3\"/><feBlend in=\"SourceGraphic\" in2=\"blurOut3\" mode=\"normal\"/></filter></defs><g><!--MD5=[fbc87193dbaf4d95561dea2c320d4a47]\n",
       "cluster E1--><a href=\"psysml:8469bc55-64be-4e75-90cd-bb271a7bb256\" target=\"_top\" title=\"psysml:8469bc55-64be-4e75-90cd-bb271a7bb256\" xlink:actuate=\"onRequest\" xlink:href=\"psysml:8469bc55-64be-4e75-90cd-bb271a7bb256\" xlink:show=\"new\" xlink:title=\"psysml:8469bc55-64be-4e75-90cd-bb271a7bb256\" xlink:type=\"simple\"><polygon fill=\"#FFFFFF\" filter=\"url(#fp9xukx5dwgsk)\" points=\"16,6,83,6,90,28.2969,541,28.2969,541,100,16,100,16,6\" style=\"stroke: #000000; stroke-width: 1.5;\"/><line style=\"stroke: #000000; stroke-width: 1.5;\" x1=\"16\" x2=\"90\" y1=\"28.2969\" y2=\"28.2969\"/><text fill=\"#000000\" font-family=\"sans-serif\" font-size=\"14\" font-weight=\"bold\" lengthAdjust=\"spacingAndGlyphs\" textLength=\"61\" x=\"20\" y=\"20.9951\">ItemTest</text></a><g id=\"E1.E3\"><a href=\"psysml:73e4759d-5191-4c8c-b634-f2bc1b43e3a3\" target=\"_top\" title=\"psysml:73e4759d-5191-4c8c-b634-f2bc1b43e3a3\" xlink:actuate=\"onRequest\" xlink:href=\"psysml:73e4759d-5191-4c8c-b634-f2bc1b43e3a3\" xlink:show=\"new\" xlink:title=\"psysml:73e4759d-5191-4c8c-b634-f2bc1b43e3a3\" xlink:type=\"simple\"><rect fill=\"#FEFECE\" filter=\"url(#fp9xukx5dwgsk)\" height=\"42.9375\" id=\"E3\" style=\"stroke: #A80036; stroke-width: 1.5;\" width=\"76\" x=\"449\" y=\"41\"/><text fill=\"#000000\" font-family=\"sans-serif\" font-size=\"12\" font-style=\"italic\" lengthAdjust=\"spacingAndGlyphs\" textLength=\"69\" x=\"452.5\" y=\"57.1387\">«item  def»</text><text fill=\"#000000\" font-family=\"sans-serif\" font-size=\"12\" lengthAdjust=\"spacingAndGlyphs\" textLength=\"8\" x=\"483\" y=\"71.1074\">A</text></a></g><g id=\"E1.E4\"><a href=\"psysml:7fb13a86-95b9-42ac-ac4a-d3cbb2045ff7\" target=\"_top\" title=\"psysml:7fb13a86-95b9-42ac-ac4a-d3cbb2045ff7\" xlink:actuate=\"onRequest\" xlink:href=\"psysml:7fb13a86-95b9-42ac-ac4a-d3cbb2045ff7\" xlink:show=\"new\" xlink:title=\"psysml:7fb13a86-95b9-42ac-ac4a-d3cbb2045ff7\" xlink:type=\"simple\"><rect fill=\"#FEFECE\" filter=\"url(#fp9xukx5dwgsk)\" height=\"42.9375\" id=\"E4\" style=\"stroke: #A80036; stroke-width: 1.5;\" width=\"76\" x=\"338\" y=\"41\"/><text fill=\"#000000\" font-family=\"sans-serif\" font-size=\"12\" font-style=\"italic\" lengthAdjust=\"spacingAndGlyphs\" textLength=\"69\" x=\"341.5\" y=\"57.1387\">«item  def»</text><text fill=\"#000000\" font-family=\"sans-serif\" font-size=\"12\" font-style=\"italic\" lengthAdjust=\"spacingAndGlyphs\" textLength=\"8\" x=\"372\" y=\"71.1074\">B</text></a></g><g id=\"E1.E6\"><a href=\"psysml:96c92d64-4061-42f0-9733-a4ee9bfee5f1\" target=\"_top\" title=\"psysml:96c92d64-4061-42f0-9733-a4ee9bfee5f1\" xlink:actuate=\"onRequest\" xlink:href=\"psysml:96c92d64-4061-42f0-9733-a4ee9bfee5f1\" xlink:show=\"new\" xlink:title=\"psysml:96c92d64-4061-42f0-9733-a4ee9bfee5f1\" xlink:type=\"simple\"><rect fill=\"#FEFECE\" filter=\"url(#fp9xukx5dwgsk)\" height=\"42.9375\" id=\"E6\" style=\"stroke: #A80036; stroke-width: 1.5;\" width=\"75\" x=\"227.5\" y=\"41\"/><text fill=\"#000000\" font-family=\"sans-serif\" font-size=\"12\" font-style=\"italic\" lengthAdjust=\"spacingAndGlyphs\" textLength=\"68\" x=\"231\" y=\"57.1387\">«port  def»</text><text fill=\"#000000\" font-family=\"sans-serif\" font-size=\"12\" lengthAdjust=\"spacingAndGlyphs\" textLength=\"8\" x=\"261\" y=\"71.1074\">P</text></a></g><g id=\"E1.E2\"><a href=\"psysml:6cbf61b0-82f0-477a-9e61-503ee7ef8ab3\" target=\"_top\" title=\"psysml:6cbf61b0-82f0-477a-9e61-503ee7ef8ab3\" xlink:actuate=\"onRequest\" xlink:href=\"psysml:6cbf61b0-82f0-477a-9e61-503ee7ef8ab3\" xlink:show=\"new\" xlink:title=\"psysml:6cbf61b0-82f0-477a-9e61-503ee7ef8ab3\" xlink:type=\"simple\"><rect fill=\"#FEFECE\" filter=\"url(#fp9xukx5dwgsk)\" height=\"42.9375\" id=\"E2\" rx=\"10\" ry=\"10\" style=\"stroke: #A80036; stroke-width: 1.5;\" width=\"50\" x=\"142\" y=\"41\"/><text fill=\"#000000\" font-family=\"sans-serif\" font-size=\"12\" font-style=\"italic\" lengthAdjust=\"spacingAndGlyphs\" textLength=\"41\" x=\"146.5\" y=\"57.1387\">«item»</text><text fill=\"#000000\" font-family=\"sans-serif\" font-size=\"12\" lengthAdjust=\"spacingAndGlyphs\" textLength=\"20\" x=\"157\" y=\"71.1074\">f: A</text></a></g><g id=\"E1.E5\"><a href=\"psysml:53104107-4f2e-4822-81be-c90629c3152e\" target=\"_top\" title=\"psysml:53104107-4f2e-4822-81be-c90629c3152e\" xlink:actuate=\"onRequest\" xlink:href=\"psysml:53104107-4f2e-4822-81be-c90629c3152e\" xlink:show=\"new\" xlink:title=\"psysml:53104107-4f2e-4822-81be-c90629c3152e\" xlink:type=\"simple\"><rect fill=\"#FEFECE\" filter=\"url(#fp9xukx5dwgsk)\" height=\"42.9375\" id=\"E5\" style=\"stroke: #A80036; stroke-width: 1.5;\" width=\"75\" x=\"31.5\" y=\"41\"/><text fill=\"#000000\" font-family=\"sans-serif\" font-size=\"12\" font-style=\"italic\" lengthAdjust=\"spacingAndGlyphs\" textLength=\"68\" x=\"35\" y=\"57.1387\">«part  def»</text><text fill=\"#000000\" font-family=\"sans-serif\" font-size=\"12\" lengthAdjust=\"spacingAndGlyphs\" textLength=\"8\" x=\"65\" y=\"71.1074\">C</text></a></g><!--MD5=[ca9c2a38af0e50142e5ce04ae6d21cd2]\n",
       "@startuml\r\n",
       "skinparam ranksep 10\r\n",
       "skinparam rectangle {\r\n",
       " backgroundColor<<block>> LightGreen\r\n",
       "}\r\n",
       "skinparam wrapWidth 300\r\n",
       "hide circle\r\n",
       "\r\n",
       "package \"ItemTest\" as E1  [[psysml:8469bc55-64be-4e75-90cd-bb271a7bb256 ]]  {\r\n",
       "rec usage \"f: A\" as E2  <<(T,blue) item>> [[psysml:6cbf61b0-82f0-477a-9e61-503ee7ef8ab3 ]] {\r\n",
       "}\r\n",
       "def \"A\" as E3  <<(T,blue) item  def>> [[psysml:73e4759d-5191-4c8c-b634-f2bc1b43e3a3 ]] \r\n",
       "def \"<i>B</i>\" as E4  <<(T,blue) item  def>> [[psysml:7fb13a86-95b9-42ac-ac4a-d3cbb2045ff7 ]] \r\n",
       "rec def \"C\" as E5  <<(T,blue) part  def>> [[psysml:53104107-4f2e-4822-81be-c90629c3152e ]] {\r\n",
       "}\r\n",
       "def \"P\" as E6  <<(T,blue) port  def>> [[psysml:96c92d64-4061-42f0-9733-a4ee9bfee5f1 ]] \r\n",
       "}\r\n",
       "@enduml\r\n",
       "\n",
       "PlantUML version 1.2020.13(Sat Jun 13 12:26:38 UTC 2020)\n",
       "(EPL source distribution)\n",
       "Java Runtime: OpenJDK Runtime Environment\n",
       "JVM: OpenJDK 64-Bit Server VM\n",
       "Default Encoding: UTF-8\n",
       "Language: en\n",
       "Country: null\n",
       "--></g></svg>"
      ]
     },
     "execution_count": 26,
     "metadata": {},
     "output_type": "execute_result"
    }
   ],
   "source": [
    "%viz --style=\"STDCOLOR\" --view=\"Interconnection\" \"ItemTest\""
   ]
  },
  {
   "cell_type": "code",
   "execution_count": 27,
   "id": "0ba46420",
   "metadata": {
    "execution": {
     "iopub.execute_input": "2022-03-21T07:49:10.740424Z",
     "iopub.status.busy": "2022-03-21T07:49:10.740018Z",
     "iopub.status.idle": "2022-03-21T07:49:10.744822Z",
     "shell.execute_reply": "2022-03-21T07:49:10.745136Z"
    }
   },
   "outputs": [
    {
     "data": {
      "image/svg+xml": [
       "<?xml version=\"1.0\" encoding=\"UTF-8\" standalone=\"no\"?><svg xmlns=\"http://www.w3.org/2000/svg\" xmlns:xlink=\"http://www.w3.org/1999/xlink\" contentScriptType=\"application/ecmascript\" contentStyleType=\"text/css\" height=\"12px\" preserveAspectRatio=\"none\" style=\"width:12px;height:12px;\" version=\"1.1\" viewBox=\"0 0 12 12\" width=\"12px\" zoomAndPan=\"magnify\"><defs/><g><!--MD5=[9863325348a96a77dacc89509d8ee65e]\n",
       "@startuml\r\n",
       "skinparam ranksep 8\r\n",
       "skinparam wrapWidth 300\r\n",
       "hide circle\r\n",
       "\r\n",
       "@enduml\r\n",
       "\n",
       "PlantUML version 1.2020.13(Sat Jun 13 12:26:38 UTC 2020)\n",
       "(EPL source distribution)\n",
       "Java Runtime: OpenJDK Runtime Environment\n",
       "JVM: OpenJDK 64-Bit Server VM\n",
       "Default Encoding: UTF-8\n",
       "Language: en\n",
       "Country: null\n",
       "--></g></svg>"
      ]
     },
     "execution_count": 27,
     "metadata": {},
     "output_type": "execute_result"
    }
   ],
   "source": [
    "%viz --style=\"STDCOLOR\" --view=\"Action\" \"ItemTest\""
   ]
  },
  {
   "cell_type": "code",
   "execution_count": 28,
   "id": "651c79d7",
   "metadata": {
    "execution": {
     "iopub.execute_input": "2022-03-21T07:49:10.795277Z",
     "iopub.status.busy": "2022-03-21T07:49:10.794861Z",
     "iopub.status.idle": "2022-03-21T07:49:10.799577Z",
     "shell.execute_reply": "2022-03-21T07:49:10.799245Z"
    }
   },
   "outputs": [
    {
     "data": {
      "image/svg+xml": [
       "<?xml version=\"1.0\" encoding=\"UTF-8\" standalone=\"no\"?><svg xmlns=\"http://www.w3.org/2000/svg\" xmlns:xlink=\"http://www.w3.org/1999/xlink\" contentScriptType=\"application/ecmascript\" contentStyleType=\"text/css\" height=\"12px\" preserveAspectRatio=\"none\" style=\"width:12px;height:12px;\" version=\"1.1\" viewBox=\"0 0 12 12\" width=\"12px\" zoomAndPan=\"magnify\"><defs/><g><!--MD5=[6c4bca67b4d71758159a5a7f1f1e1fc2]\n",
       "@startuml\r\n",
       "skinparam roundcorner 20\r\n",
       "skinparam BoxPadding 20\r\n",
       "skinparam SequenceBoxBackgroundColor #white\r\n",
       "skinparam style strictuml\r\n",
       "skinparam maxMessageSize 100\r\n",
       "skinparam wrapWidth 300\r\n",
       "hide circle\r\n",
       "\r\n",
       "@enduml\r\n",
       "\n",
       "PlantUML version 1.2020.13(Sat Jun 13 12:26:38 UTC 2020)\n",
       "(EPL source distribution)\n",
       "Java Runtime: OpenJDK Runtime Environment\n",
       "JVM: OpenJDK 64-Bit Server VM\n",
       "Default Encoding: UTF-8\n",
       "Language: en\n",
       "Country: null\n",
       "--></g></svg>"
      ]
     },
     "execution_count": 28,
     "metadata": {},
     "output_type": "execute_result"
    }
   ],
   "source": [
    "%viz --style=\"STDCOLOR\" --view=\"Sequence\" \"ItemTest\""
   ]
  },
  {
   "cell_type": "code",
   "execution_count": 29,
   "id": "6e9e1f1e",
   "metadata": {
    "execution": {
     "iopub.execute_input": "2022-03-21T07:49:10.849468Z",
     "iopub.status.busy": "2022-03-21T07:49:10.849069Z",
     "iopub.status.idle": "2022-03-21T07:49:10.901170Z",
     "shell.execute_reply": "2022-03-21T07:49:10.899632Z"
    }
   },
   "outputs": [
    {
     "data": {
      "image/svg+xml": [
       "<?xml version=\"1.0\" encoding=\"UTF-8\" standalone=\"no\"?><svg xmlns=\"http://www.w3.org/2000/svg\" xmlns:xlink=\"http://www.w3.org/1999/xlink\" contentScriptType=\"application/ecmascript\" contentStyleType=\"text/css\" height=\"818px\" preserveAspectRatio=\"none\" style=\"width:270px;height:818px;\" version=\"1.1\" viewBox=\"0 0 270 818\" width=\"270px\" zoomAndPan=\"magnify\"><defs><filter height=\"300%\" id=\"fwg2ts0kvkrgl\" width=\"300%\" x=\"-1\" y=\"-1\"><feGaussianBlur result=\"blurOut\" stdDeviation=\"2.0\"/><feColorMatrix in=\"blurOut\" result=\"blurOut2\" type=\"matrix\" values=\"0 0 0 0 0 0 0 0 0 0 0 0 0 0 0 0 0 0 .4 0\"/><feOffset dx=\"4.0\" dy=\"4.0\" in=\"blurOut2\" result=\"blurOut3\"/><feBlend in=\"SourceGraphic\" in2=\"blurOut3\" mode=\"normal\"/></filter></defs><g><!--MD5=[fbc87193dbaf4d95561dea2c320d4a47]\n",
       "cluster E1--><a href=\"psysml:8469bc55-64be-4e75-90cd-bb271a7bb256\" target=\"_top\" title=\"psysml:8469bc55-64be-4e75-90cd-bb271a7bb256\" xlink:actuate=\"onRequest\" xlink:href=\"psysml:8469bc55-64be-4e75-90cd-bb271a7bb256\" xlink:show=\"new\" xlink:title=\"psysml:8469bc55-64be-4e75-90cd-bb271a7bb256\" xlink:type=\"simple\"><polygon fill=\"#FFFFFF\" filter=\"url(#fwg2ts0kvkrgl)\" points=\"16,6,83,6,90,28.2969,248,28.2969,248,806,16,806,16,6\" style=\"stroke: #000000; stroke-width: 1.5;\"/><line style=\"stroke: #000000; stroke-width: 1.5;\" x1=\"16\" x2=\"90\" y1=\"28.2969\" y2=\"28.2969\"/><text fill=\"#000000\" font-family=\"sans-serif\" font-size=\"14\" font-weight=\"bold\" lengthAdjust=\"spacingAndGlyphs\" textLength=\"61\" x=\"20\" y=\"20.9951\">ItemTest</text></a><!--MD5=[b4997ac47864f28c2f74865a473b2911]\n",
       "class E2--><a href=\"psysml:6cbf61b0-82f0-477a-9e61-503ee7ef8ab3\" target=\"_top\" title=\"psysml:6cbf61b0-82f0-477a-9e61-503ee7ef8ab3\" xlink:actuate=\"onRequest\" xlink:href=\"psysml:6cbf61b0-82f0-477a-9e61-503ee7ef8ab3\" xlink:show=\"new\" xlink:title=\"psysml:6cbf61b0-82f0-477a-9e61-503ee7ef8ab3\" xlink:type=\"simple\"><rect fill=\"#FEFECE\" filter=\"url(#fwg2ts0kvkrgl)\" height=\"45.9375\" id=\"E2\" rx=\"10\" ry=\"10\" style=\"stroke: #A80036; stroke-width: 1.5;\" width=\"43\" x=\"188.5\" y=\"148\"/><text fill=\"#000000\" font-family=\"sans-serif\" font-size=\"12\" font-style=\"italic\" lengthAdjust=\"spacingAndGlyphs\" textLength=\"41\" x=\"189.5\" y=\"164.1387\">«item»</text><text fill=\"#000000\" font-family=\"sans-serif\" font-size=\"12\" lengthAdjust=\"spacingAndGlyphs\" textLength=\"20\" x=\"198\" y=\"178.1074\">f: A</text><line style=\"stroke: #A80036; stroke-width: 1.5;\" x1=\"189.5\" x2=\"230.5\" y1=\"185.9375\" y2=\"185.9375\"/></a><!--MD5=[09b614a08d8cba4a07c9adeb5e0fee81]\n",
       "class E3--><a href=\"psysml:73e4759d-5191-4c8c-b634-f2bc1b43e3a3\" target=\"_top\" title=\"psysml:73e4759d-5191-4c8c-b634-f2bc1b43e3a3\" xlink:actuate=\"onRequest\" xlink:href=\"psysml:73e4759d-5191-4c8c-b634-f2bc1b43e3a3\" xlink:show=\"new\" xlink:title=\"psysml:73e4759d-5191-4c8c-b634-f2bc1b43e3a3\" xlink:type=\"simple\"><rect fill=\"#FEFECE\" filter=\"url(#fwg2ts0kvkrgl)\" height=\"45.9375\" id=\"E3\" style=\"stroke: #A80036; stroke-width: 1.5;\" width=\"71\" x=\"96.5\" y=\"255\"/><text fill=\"#000000\" font-family=\"sans-serif\" font-size=\"12\" font-style=\"italic\" lengthAdjust=\"spacingAndGlyphs\" textLength=\"69\" x=\"97.5\" y=\"271.1387\">«item  def»</text><text fill=\"#000000\" font-family=\"sans-serif\" font-size=\"12\" lengthAdjust=\"spacingAndGlyphs\" textLength=\"8\" x=\"128\" y=\"285.1074\">A</text><line style=\"stroke: #A80036; stroke-width: 1.5;\" x1=\"97.5\" x2=\"166.5\" y1=\"292.9375\" y2=\"292.9375\"/></a><!--MD5=[ebbe1d658d1005bcc118a6aa81145e00]\n",
       "class E4--><a href=\"psysml:22dedc78-8a6f-47e7-a1b3-f5299f454177\" target=\"_top\" title=\"psysml:22dedc78-8a6f-47e7-a1b3-f5299f454177\" xlink:actuate=\"onRequest\" xlink:href=\"psysml:22dedc78-8a6f-47e7-a1b3-f5299f454177\" xlink:show=\"new\" xlink:title=\"psysml:22dedc78-8a6f-47e7-a1b3-f5299f454177\" xlink:type=\"simple\"><rect fill=\"#FEFECE\" filter=\"url(#fwg2ts0kvkrgl)\" height=\"45.9375\" id=\"E4\" rx=\"10\" ry=\"10\" style=\"stroke: #A80036; stroke-width: 1.5;\" width=\"43\" x=\"45.5\" y=\"438\"/><text fill=\"#000000\" font-family=\"sans-serif\" font-size=\"12\" font-style=\"italic\" lengthAdjust=\"spacingAndGlyphs\" textLength=\"41\" x=\"46.5\" y=\"454.1387\">«item»</text><text fill=\"#000000\" font-family=\"sans-serif\" font-size=\"12\" lengthAdjust=\"spacingAndGlyphs\" textLength=\"24\" x=\"53\" y=\"468.1074\">b: B</text><line style=\"stroke: #A80036; stroke-width: 1.5;\" x1=\"46.5\" x2=\"87.5\" y1=\"475.9375\" y2=\"475.9375\"/></a><!--MD5=[270fce915f116d4de14055a7c1d9a0f3]\n",
       "class E5--><a href=\"psysml:d5b518cb-4e9d-48f6-86e4-811292cf7103\" target=\"_top\" title=\"psysml:d5b518cb-4e9d-48f6-86e4-811292cf7103\" xlink:actuate=\"onRequest\" xlink:href=\"psysml:d5b518cb-4e9d-48f6-86e4-811292cf7103\" xlink:show=\"new\" xlink:title=\"psysml:d5b518cb-4e9d-48f6-86e4-811292cf7103\" xlink:type=\"simple\"><rect fill=\"#FEFECE\" filter=\"url(#fwg2ts0kvkrgl)\" height=\"45.9375\" id=\"E5\" rx=\"10\" ry=\"10\" style=\"stroke: #A80036; stroke-width: 1.5;\" width=\"42\" x=\"151\" y=\"362\"/><text fill=\"#000000\" font-family=\"sans-serif\" font-size=\"12\" font-style=\"italic\" lengthAdjust=\"spacingAndGlyphs\" textLength=\"40\" x=\"152\" y=\"378.1387\">«part»</text><text fill=\"#000000\" font-family=\"sans-serif\" font-size=\"12\" lengthAdjust=\"spacingAndGlyphs\" textLength=\"23\" x=\"158.5\" y=\"392.1074\">c: C</text><line style=\"stroke: #A80036; stroke-width: 1.5;\" x1=\"152\" x2=\"192\" y1=\"399.9375\" y2=\"399.9375\"/></a><!--MD5=[60a26617385b1d2d0262a64233df1f8d]\n",
       "class E6--><a href=\"psysml:7fb13a86-95b9-42ac-ac4a-d3cbb2045ff7\" target=\"_top\" title=\"psysml:7fb13a86-95b9-42ac-ac4a-d3cbb2045ff7\" xlink:actuate=\"onRequest\" xlink:href=\"psysml:7fb13a86-95b9-42ac-ac4a-d3cbb2045ff7\" xlink:show=\"new\" xlink:title=\"psysml:7fb13a86-95b9-42ac-ac4a-d3cbb2045ff7\" xlink:type=\"simple\"><rect fill=\"#FEFECE\" filter=\"url(#fwg2ts0kvkrgl)\" height=\"45.9375\" id=\"E6\" style=\"stroke: #A80036; stroke-width: 1.5;\" width=\"71\" x=\"112.5\" y=\"637\"/><text fill=\"#000000\" font-family=\"sans-serif\" font-size=\"12\" font-style=\"italic\" lengthAdjust=\"spacingAndGlyphs\" textLength=\"69\" x=\"113.5\" y=\"653.1387\">«item  def»</text><text fill=\"#000000\" font-family=\"sans-serif\" font-size=\"12\" font-style=\"italic\" lengthAdjust=\"spacingAndGlyphs\" textLength=\"8\" x=\"144\" y=\"667.1074\">B</text><line style=\"stroke: #A80036; stroke-width: 1.5;\" x1=\"113.5\" x2=\"182.5\" y1=\"674.9375\" y2=\"674.9375\"/></a><!--MD5=[2156ba9850f5573cc1fc38a6a4b2f02b]\n",
       "class E7--><a href=\"psysml:b4d408e4-c35f-4021-90a0-c54c4c634ca8\" target=\"_top\" title=\"psysml:b4d408e4-c35f-4021-90a0-c54c4c634ca8\" xlink:actuate=\"onRequest\" xlink:href=\"psysml:b4d408e4-c35f-4021-90a0-c54c4c634ca8\" xlink:show=\"new\" xlink:title=\"psysml:b4d408e4-c35f-4021-90a0-c54c4c634ca8\" xlink:type=\"simple\"><rect fill=\"#FEFECE\" filter=\"url(#fwg2ts0kvkrgl)\" height=\"45.9375\" id=\"E7\" rx=\"10\" ry=\"10\" style=\"stroke: #A80036; stroke-width: 1.5;\" width=\"42\" x=\"159\" y=\"744\"/><text fill=\"#000000\" font-family=\"sans-serif\" font-size=\"12\" font-style=\"italic\" lengthAdjust=\"spacingAndGlyphs\" textLength=\"40\" x=\"160\" y=\"760.1387\">«part»</text><text fill=\"#000000\" font-family=\"sans-serif\" font-size=\"12\" font-style=\"italic\" lengthAdjust=\"spacingAndGlyphs\" textLength=\"8\" x=\"166\" y=\"774.1074\">a</text><text fill=\"#000000\" font-family=\"sans-serif\" font-size=\"12\" lengthAdjust=\"spacingAndGlyphs\" textLength=\"16\" x=\"174\" y=\"774.1074\">: A</text><line style=\"stroke: #A80036; stroke-width: 1.5;\" x1=\"160\" x2=\"200\" y1=\"781.9375\" y2=\"781.9375\"/></a><!--MD5=[b9389687b975829384b498ac4b7476b2]\n",
       "class E8--><a href=\"psysml:53104107-4f2e-4822-81be-c90629c3152e\" target=\"_top\" title=\"psysml:53104107-4f2e-4822-81be-c90629c3152e\" xlink:actuate=\"onRequest\" xlink:href=\"psysml:53104107-4f2e-4822-81be-c90629c3152e\" xlink:show=\"new\" xlink:title=\"psysml:53104107-4f2e-4822-81be-c90629c3152e\" xlink:type=\"simple\"><rect fill=\"#FEFECE\" filter=\"url(#fwg2ts0kvkrgl)\" height=\"45.9375\" id=\"E8\" style=\"stroke: #A80036; stroke-width: 1.5;\" width=\"70\" x=\"113\" y=\"514\"/><text fill=\"#000000\" font-family=\"sans-serif\" font-size=\"12\" font-style=\"italic\" lengthAdjust=\"spacingAndGlyphs\" textLength=\"68\" x=\"114\" y=\"530.1387\">«part  def»</text><text fill=\"#000000\" font-family=\"sans-serif\" font-size=\"12\" lengthAdjust=\"spacingAndGlyphs\" textLength=\"8\" x=\"144\" y=\"544.1074\">C</text><line style=\"stroke: #A80036; stroke-width: 1.5;\" x1=\"114\" x2=\"182\" y1=\"551.9375\" y2=\"551.9375\"/></a><!--MD5=[fd4143e9d270a159db93a4ea2a975926]\n",
       "class E9--><a href=\"psysml:96c92d64-4061-42f0-9733-a4ee9bfee5f1\" target=\"_top\" title=\"psysml:96c92d64-4061-42f0-9733-a4ee9bfee5f1\" xlink:actuate=\"onRequest\" xlink:href=\"psysml:96c92d64-4061-42f0-9733-a4ee9bfee5f1\" xlink:show=\"new\" xlink:title=\"psysml:96c92d64-4061-42f0-9733-a4ee9bfee5f1\" xlink:type=\"simple\"><rect fill=\"#FEFECE\" filter=\"url(#fwg2ts0kvkrgl)\" height=\"45.9375\" id=\"E9\" style=\"stroke: #A80036; stroke-width: 1.5;\" width=\"70\" x=\"64\" y=\"41\"/><text fill=\"#000000\" font-family=\"sans-serif\" font-size=\"12\" font-style=\"italic\" lengthAdjust=\"spacingAndGlyphs\" textLength=\"68\" x=\"65\" y=\"57.1387\">«port  def»</text><text fill=\"#000000\" font-family=\"sans-serif\" font-size=\"12\" lengthAdjust=\"spacingAndGlyphs\" textLength=\"8\" x=\"95\" y=\"71.1074\">P</text><line style=\"stroke: #A80036; stroke-width: 1.5;\" x1=\"65\" x2=\"133\" y1=\"78.9375\" y2=\"78.9375\"/></a><!--MD5=[96f4274e9e20536e775497830990834d]\n",
       "class E10--><a href=\"psysml:21151bb4-f160-49b9-964a-222b3c2d7b6c\" target=\"_top\" title=\"psysml:21151bb4-f160-49b9-964a-222b3c2d7b6c\" xlink:actuate=\"onRequest\" xlink:href=\"psysml:21151bb4-f160-49b9-964a-222b3c2d7b6c\" xlink:show=\"new\" xlink:title=\"psysml:21151bb4-f160-49b9-964a-222b3c2d7b6c\" xlink:type=\"simple\"><rect fill=\"#FEFECE\" filter=\"url(#fwg2ts0kvkrgl)\" height=\"45.9375\" id=\"E10\" rx=\"10\" ry=\"10\" style=\"stroke: #A80036; stroke-width: 1.5;\" width=\"43\" x=\"32.5\" y=\"148\"/><text fill=\"#000000\" font-family=\"sans-serif\" font-size=\"12\" font-style=\"italic\" lengthAdjust=\"spacingAndGlyphs\" textLength=\"41\" x=\"33.5\" y=\"164.1387\">«item»</text><text fill=\"#000000\" font-family=\"sans-serif\" font-size=\"12\" lengthAdjust=\"spacingAndGlyphs\" textLength=\"32\" x=\"36\" y=\"178.1074\">a1: A</text><line style=\"stroke: #A80036; stroke-width: 1.5;\" x1=\"33.5\" x2=\"74.5\" y1=\"185.9375\" y2=\"185.9375\"/></a><!--MD5=[1dd1bfd58a279cf63c5f349dbc8fc6a1]\n",
       "class E11--><a href=\"psysml:048eeab4-ab84-4a9d-8dc8-2b5e8335cff3\" target=\"_top\" title=\"psysml:048eeab4-ab84-4a9d-8dc8-2b5e8335cff3\" xlink:actuate=\"onRequest\" xlink:href=\"psysml:048eeab4-ab84-4a9d-8dc8-2b5e8335cff3\" xlink:show=\"new\" xlink:title=\"psysml:048eeab4-ab84-4a9d-8dc8-2b5e8335cff3\" xlink:type=\"simple\"><rect fill=\"#FEFECE\" filter=\"url(#fwg2ts0kvkrgl)\" height=\"45.9375\" id=\"E11\" rx=\"10\" ry=\"10\" style=\"stroke: #A80036; stroke-width: 1.5;\" width=\"43\" x=\"110.5\" y=\"148\"/><text fill=\"#000000\" font-family=\"sans-serif\" font-size=\"12\" font-style=\"italic\" lengthAdjust=\"spacingAndGlyphs\" textLength=\"41\" x=\"111.5\" y=\"164.1387\">«item»</text><text fill=\"#000000\" font-family=\"sans-serif\" font-size=\"12\" lengthAdjust=\"spacingAndGlyphs\" textLength=\"32\" x=\"114\" y=\"178.1074\">a2: A</text><line style=\"stroke: #A80036; stroke-width: 1.5;\" x1=\"111.5\" x2=\"152.5\" y1=\"185.9375\" y2=\"185.9375\"/></a><!--MD5=[2720a5a1f2c3fca2055b230370638851]\n",
       "link E2 to E3--><a href=\"psysml:e70b16f9-62c0-40f3-a087-aa973c352c22\" target=\"_top\" title=\"psysml:e70b16f9-62c0-40f3-a087-aa973c352c22\" xlink:actuate=\"onRequest\" xlink:href=\"psysml:e70b16f9-62c0-40f3-a087-aa973c352c22\" xlink:show=\"new\" xlink:title=\"psysml:e70b16f9-62c0-40f3-a087-aa973c352c22\" xlink:type=\"simple\"><path d=\"M193.65,194.01 C184.14,206.81 171.89,223.3 160.82,238.2 \" fill=\"none\" id=\"E2-&gt;E3\" style=\"stroke: #A80036; stroke-width: 1.0;\"/><polygon fill=\"#FFFFFF\" points=\"148.6,254.66,154.3195,235.2361,165.5543,243.5896,148.6,254.66\" style=\"stroke: #A80036; stroke-width: 1.0;\"/><ellipse cx=\"159.3256\" cy=\"231.8554\" fill=\"#A80036\" rx=\"2\" ry=\"2\" style=\"stroke: #A80036; stroke-width: 1.0;\"/><ellipse cx=\"167.3504\" cy=\"237.8221\" fill=\"#A80036\" rx=\"2\" ry=\"2\" style=\"stroke: #A80036; stroke-width: 1.0;\"/></a><!--MD5=[4672eba38e49728da53d11aeb285b987]\n",
       "reverse link E3 to E4--><a href=\"psysml:f5164247-58fc-45c1-bba3-2edebb195fbd\" target=\"_top\" title=\"psysml:f5164247-58fc-45c1-bba3-2edebb195fbd\" xlink:actuate=\"onRequest\" xlink:href=\"psysml:f5164247-58fc-45c1-bba3-2edebb195fbd\" xlink:show=\"new\" xlink:title=\"psysml:f5164247-58fc-45c1-bba3-2edebb195fbd\" xlink:type=\"simple\"><path d=\"M97.11,310.9 C84.08,325.11 70.81,342.94 64,362 C55.12,386.85 58.09,417.53 61.82,437.88 \" fill=\"none\" id=\"E3&lt;-E4\" style=\"stroke: #A80036; stroke-width: 1.0;\"/><polygon fill=\"#A80036\" points=\"106.46,301.23,99.4153,302.7703,98.1277,309.8655,105.1724,308.3252,106.46,301.23\" style=\"stroke: #A80036; stroke-width: 1.0;\"/><text fill=\"#000000\" font-family=\"sans-serif\" font-size=\"13\" lengthAdjust=\"spacingAndGlyphs\" textLength=\"8\" x=\"51.3529\" y=\"426.744\">1</text></a><!--MD5=[191cde3d490a3f6d7bb551fe3ddca469]\n",
       "reverse link E3 to E5--><a href=\"psysml:0e10322d-8096-4d1c-ad13-bcf359abd35a\" target=\"_top\" title=\"psysml:0e10322d-8096-4d1c-ad13-bcf359abd35a\" xlink:actuate=\"onRequest\" xlink:href=\"psysml:0e10322d-8096-4d1c-ad13-bcf359abd35a\" xlink:show=\"new\" xlink:title=\"psysml:0e10322d-8096-4d1c-ad13-bcf359abd35a\" xlink:type=\"simple\"><path d=\"M145.17,313.57 C151.2,329.39 158.16,347.68 163.49,361.66 \" fill=\"none\" id=\"E3&lt;-E5\" style=\"stroke: #A80036; stroke-width: 1.0;\"/><polygon fill=\"#FFFFFF\" points=\"140.39,301.01,138.7866,308.0406,144.6598,312.2247,146.2631,305.1941,140.39,301.01\" style=\"stroke: #A80036; stroke-width: 1.0;\"/><text fill=\"#000000\" font-family=\"sans-serif\" font-size=\"13\" lengthAdjust=\"spacingAndGlyphs\" textLength=\"8\" x=\"152.2843\" y=\"350.8492\">1</text></a><!--MD5=[79568f1e445c3877b6a54524624ccc7d]\n",
       "link E4 to E6--><a href=\"psysml:cd799d59-974c-4cd5-b2a4-5d2e853ea550\" target=\"_top\" title=\"psysml:cd799d59-974c-4cd5-b2a4-5d2e853ea550\" xlink:actuate=\"onRequest\" xlink:href=\"psysml:cd799d59-974c-4cd5-b2a4-5d2e853ea550\" xlink:show=\"new\" xlink:title=\"psysml:cd799d59-974c-4cd5-b2a4-5d2e853ea550\" xlink:type=\"simple\"><path d=\"M72.25,484.22 C77.31,504.36 85.72,534.68 96,560 C104.15,580.08 115.08,601.47 124.82,619.21 \" fill=\"none\" id=\"E4-&gt;E6\" style=\"stroke: #A80036; stroke-width: 1.0;\"/><polygon fill=\"#FFFFFF\" points=\"134.72,636.8,119.2979,623.6791,131.4967,616.8097,134.72,636.8\" style=\"stroke: #A80036; stroke-width: 1.0;\"/><ellipse cx=\"118.2438\" cy=\"617.7311\" fill=\"#A80036\" rx=\"2\" ry=\"2\" style=\"stroke: #A80036; stroke-width: 1.0;\"/><ellipse cx=\"126.9572\" cy=\"612.8244\" fill=\"#A80036\" rx=\"2\" ry=\"2\" style=\"stroke: #A80036; stroke-width: 1.0;\"/></a><!--MD5=[3f50a3473f1dfb74d3f76443e03635af]\n",
       "reverse link E6 to E7--><a href=\"psysml:f66c29ee-70ba-402f-a3a4-159df7b46130\" target=\"_top\" title=\"psysml:f66c29ee-70ba-402f-a3a4-159df7b46130\" xlink:actuate=\"onRequest\" xlink:href=\"psysml:f66c29ee-70ba-402f-a3a4-159df7b46130\" xlink:show=\"new\" xlink:title=\"psysml:f66c29ee-70ba-402f-a3a4-159df7b46130\" xlink:type=\"simple\"><path d=\"M158.54,695.57 C163.36,711.39 168.93,729.68 173.19,743.66 \" fill=\"none\" id=\"E6&lt;-E7\" style=\"stroke: #A80036; stroke-width: 1.0;\"/><polygon fill=\"#A80036\" points=\"154.71,683.01,152.6319,689.9152,158.2066,694.4893,160.2847,687.5841,154.71,683.01\" style=\"stroke: #A80036; stroke-width: 1.0;\"/><text fill=\"#000000\" font-family=\"sans-serif\" font-size=\"13\" lengthAdjust=\"spacingAndGlyphs\" textLength=\"8\" x=\"162.4199\" y=\"732.8492\">1</text></a><!--MD5=[14ccda38c055a5c0da953d572bc50960]\n",
       "link E7 to E3--><a href=\"psysml:4b14459c-c0ea-47eb-ae95-5bdd156140b8\" target=\"_top\" title=\"psysml:4b14459c-c0ea-47eb-ae95-5bdd156140b8\" xlink:actuate=\"onRequest\" xlink:href=\"psysml:4b14459c-c0ea-47eb-ae95-5bdd156140b8\" xlink:show=\"new\" xlink:title=\"psysml:4b14459c-c0ea-47eb-ae95-5bdd156140b8\" xlink:type=\"simple\"><path d=\"M197.41,743.63 C211.5,723.27 229,691.78 229,661 C229,384 229,384 229,384 C229,353.7 206.93,328.42 183.85,310.26 \" fill=\"none\" id=\"E7-&gt;E3\" style=\"stroke: #A80036; stroke-width: 1.0;\"/><polygon fill=\"#FFFFFF\" points=\"167.57,298.59,187.0929,303.9617,178.9414,315.3438,167.57,298.59\" style=\"stroke: #A80036; stroke-width: 1.0;\"/><ellipse cx=\"190.5626\" cy=\"308.9066\" fill=\"#A80036\" rx=\"2\" ry=\"2\" style=\"stroke: #A80036; stroke-width: 1.0;\"/><ellipse cx=\"184.7401\" cy=\"317.0367\" fill=\"#A80036\" rx=\"2\" ry=\"2\" style=\"stroke: #A80036; stroke-width: 1.0;\"/></a><!--MD5=[dfaffb906826c3e5aca635516100ff21]\n",
       "link E5 to E8--><a href=\"psysml:7f99918d-ef62-497c-9b9a-668f89d0bef4\" target=\"_top\" title=\"psysml:7f99918d-ef62-497c-9b9a-668f89d0bef4\" xlink:actuate=\"onRequest\" xlink:href=\"psysml:7f99918d-ef62-497c-9b9a-668f89d0bef4\" xlink:show=\"new\" xlink:title=\"psysml:7f99918d-ef62-497c-9b9a-668f89d0bef4\" xlink:type=\"simple\"><path d=\"M168.46,408.13 C164.86,430.62 159.2,466.01 154.74,493.87 \" fill=\"none\" id=\"E5-&gt;E8\" style=\"stroke: #A80036; stroke-width: 1.0;\"/><polygon fill=\"#FFFFFF\" points=\"151.56,513.78,147.6458,493.9135,161.4704,496.1226,151.56,513.78\" style=\"stroke: #A80036; stroke-width: 1.0;\"/><ellipse cx=\"150.5202\" cy=\"488.6005\" fill=\"#A80036\" rx=\"2\" ry=\"2\" style=\"stroke: #A80036; stroke-width: 1.0;\"/><ellipse cx=\"160.3949\" cy=\"490.1784\" fill=\"#A80036\" rx=\"2\" ry=\"2\" style=\"stroke: #A80036; stroke-width: 1.0;\"/></a><!--MD5=[03c8294790d3c57651a1993cecff665f]\n",
       "reverse link E8 to E3--><a href=\"psysml:8abdebaf-64f0-40cf-a780-4a21932975d8\" target=\"_top\" title=\"psysml:8abdebaf-64f0-40cf-a780-4a21932975d8\" xlink:actuate=\"onRequest\" xlink:href=\"psysml:8abdebaf-64f0-40cf-a780-4a21932975d8\" xlink:show=\"new\" xlink:title=\"psysml:8abdebaf-64f0-40cf-a780-4a21932975d8\" xlink:type=\"simple\"><path d=\"M140.02,501.22 C134.57,475.6 127.84,439.84 125,408 C123.18,387.64 124.14,382.43 125,362 C125.87,341.34 127.95,317.86 129.62,301.16 \" fill=\"none\" id=\"E8&lt;-E3\" style=\"stroke: #A80036; stroke-width: 1.0;\"/><polygon fill=\"#FFFFFF\" points=\"142.81,513.96,145.4388,507.2451,140.2515,502.2359,137.6227,508.9508,142.81,513.96\" style=\"stroke: #A80036; stroke-width: 1.0;\"/><text fill=\"#000000\" font-family=\"sans-serif\" font-size=\"13\" lengthAdjust=\"spacingAndGlyphs\" textLength=\"7\" x=\"126\" y=\"389.5669\">y</text></a><!--MD5=[0d75d2178373a6a4568e5dc728f58aef]\n",
       "reverse link E8 to E6--><a href=\"psysml:8abdebaf-64f0-40cf-a780-4a21932975d8\" target=\"_top\" title=\"psysml:8abdebaf-64f0-40cf-a780-4a21932975d8\" xlink:actuate=\"onRequest\" xlink:href=\"psysml:8abdebaf-64f0-40cf-a780-4a21932975d8\" xlink:show=\"new\" xlink:title=\"psysml:8abdebaf-64f0-40cf-a780-4a21932975d8\" xlink:type=\"simple\"><path d=\"M148,573.22 C148,593.81 148,619.16 148,636.95 \" fill=\"none\" id=\"E8&lt;-E6\" style=\"stroke: #A80036; stroke-width: 1.0;\"/><polygon fill=\"#FFFFFF\" points=\"148,560.19,144,566.19,148,572.19,152,566.19,148,560.19\" style=\"stroke: #A80036; stroke-width: 1.0;\"/><text fill=\"#000000\" font-family=\"sans-serif\" font-size=\"13\" lengthAdjust=\"spacingAndGlyphs\" textLength=\"7\" x=\"149\" y=\"603.0669\">y</text></a><!--MD5=[23ac544a70576c3e717098101004234c]\n",
       "reverse link E9 to E10--><a href=\"psysml:4b97f70b-21b5-47d0-9b80-bf68f1206e68\" target=\"_top\" title=\"psysml:4b97f70b-21b5-47d0-9b80-bf68f1206e68\" xlink:actuate=\"onRequest\" xlink:href=\"psysml:4b97f70b-21b5-47d0-9b80-bf68f1206e68\" xlink:show=\"new\" xlink:title=\"psysml:4b97f70b-21b5-47d0-9b80-bf68f1206e68\" xlink:type=\"simple\"><path d=\"M84.39,99.1 C77.56,115.03 69.63,133.54 63.58,147.66 \" fill=\"none\" id=\"E9&lt;-E10\" style=\"stroke: #A80036; stroke-width: 1.0;\"/><polygon fill=\"#FFFFFF\" points=\"89.57,87.01,83.5327,90.9535,84.8509,98.0431,90.8882,94.0996,89.57,87.01\" style=\"stroke: #A80036; stroke-width: 1.0;\"/><text fill=\"#000000\" font-family=\"sans-serif\" font-size=\"13\" lengthAdjust=\"spacingAndGlyphs\" textLength=\"8\" x=\"57.0099\" y=\"136.8492\">1</text></a><!--MD5=[feeac5eb423634930294aa81f2d25a4c]\n",
       "link E10 to E3--><a href=\"psysml:890b43d2-a44a-4df9-b863-0c7f323950a1\" target=\"_top\" title=\"psysml:890b43d2-a44a-4df9-b863-0c7f323950a1\" xlink:actuate=\"onRequest\" xlink:href=\"psysml:890b43d2-a44a-4df9-b863-0c7f323950a1\" xlink:show=\"new\" xlink:title=\"psysml:890b43d2-a44a-4df9-b863-0c7f323950a1\" xlink:type=\"simple\"><path d=\"M70.35,194.01 C79.86,206.81 92.11,223.3 103.18,238.2 \" fill=\"none\" id=\"E10-&gt;E3\" style=\"stroke: #A80036; stroke-width: 1.0;\"/><polygon fill=\"#FFFFFF\" points=\"115.4,254.66,98.4457,243.5896,109.6805,235.2361,115.4,254.66\" style=\"stroke: #A80036; stroke-width: 1.0;\"/><ellipse cx=\"96.6496\" cy=\"237.8221\" fill=\"#A80036\" rx=\"2\" ry=\"2\" style=\"stroke: #A80036; stroke-width: 1.0;\"/><ellipse cx=\"104.6744\" cy=\"231.8554\" fill=\"#A80036\" rx=\"2\" ry=\"2\" style=\"stroke: #A80036; stroke-width: 1.0;\"/></a><!--MD5=[1fc04a95fd77ad5ce46c1a3027516051]\n",
       "reverse link E9 to E11--><a href=\"psysml:75cdd26f-47cf-45db-b14e-ba01ceb3edc6\" target=\"_top\" title=\"psysml:75cdd26f-47cf-45db-b14e-ba01ceb3edc6\" xlink:actuate=\"onRequest\" xlink:href=\"psysml:75cdd26f-47cf-45db-b14e-ba01ceb3edc6\" xlink:show=\"new\" xlink:title=\"psysml:75cdd26f-47cf-45db-b14e-ba01ceb3edc6\" xlink:type=\"simple\"><path d=\"M109.87,99.57 C114.84,115.39 120.59,133.68 124.98,147.66 \" fill=\"none\" id=\"E9&lt;-E11\" style=\"stroke: #A80036; stroke-width: 1.0;\"/><polygon fill=\"#FFFFFF\" points=\"105.92,87.01,103.9044,93.9337,109.5203,98.4572,111.5359,91.5335,105.92,87.01\" style=\"stroke: #A80036; stroke-width: 1.0;\"/><text fill=\"#000000\" font-family=\"sans-serif\" font-size=\"13\" lengthAdjust=\"spacingAndGlyphs\" textLength=\"8\" x=\"114.1561\" y=\"136.8492\">1</text></a><!--MD5=[0517f1ce58c4d5483948f93845c45e26]\n",
       "link E11 to E3--><a href=\"psysml:92dee77c-180b-445a-a05e-737a71661cde\" target=\"_top\" title=\"psysml:92dee77c-180b-445a-a05e-737a71661cde\" xlink:actuate=\"onRequest\" xlink:href=\"psysml:92dee77c-180b-445a-a05e-737a71661cde\" xlink:show=\"new\" xlink:title=\"psysml:92dee77c-180b-445a-a05e-737a71661cde\" xlink:type=\"simple\"><path d=\"M132,194.01 C132,205.69 132,220.46 132,234.28 \" fill=\"none\" id=\"E11-&gt;E3\" style=\"stroke: #A80036; stroke-width: 1.0;\"/><polygon fill=\"#FFFFFF\" points=\"132,254.66,125,235.66,139,235.66,132,254.66\" style=\"stroke: #A80036; stroke-width: 1.0;\"/><ellipse cx=\"127\" cy=\"229.96\" fill=\"#A80036\" rx=\"2\" ry=\"2\" style=\"stroke: #A80036; stroke-width: 1.0;\"/><ellipse cx=\"137\" cy=\"229.96\" fill=\"#A80036\" rx=\"2\" ry=\"2\" style=\"stroke: #A80036; stroke-width: 1.0;\"/></a><!--MD5=[dfb5f60a90dca8321d66f2cd8f1d833c]\n",
       "@startuml\r\n",
       "skinparam wrapWidth 300\r\n",
       "hide circle\r\n",
       "\r\n",
       "package \"ItemTest\" as E1  [[psysml:8469bc55-64be-4e75-90cd-bb271a7bb256 ]]  {\r\n",
       "comp usage \"f: A \" as E2  <<(T,blue) item>> [[psysml:6cbf61b0-82f0-477a-9e61-503ee7ef8ab3 ]] {\r\n",
       "}\r\n",
       "comp def \"A\" as E3  <<(T,blue) item  def>> [[psysml:73e4759d-5191-4c8c-b634-f2bc1b43e3a3 ]] {\r\n",
       "}\r\n",
       "comp usage \"b: B \" as E4  <<(T,blue) item>> [[psysml:22dedc78-8a6f-47e7-a1b3-f5299f454177 ]] {\r\n",
       "}\r\n",
       "comp usage \"c: C \" as E5  <<(T,blue) part>> [[psysml:d5b518cb-4e9d-48f6-86e4-811292cf7103 ]] {\r\n",
       "}\r\n",
       "comp def \"<i>B</i>\" as E6  <<(T,blue) item  def>> [[psysml:7fb13a86-95b9-42ac-ac4a-d3cbb2045ff7 ]] {\r\n",
       "}\r\n",
       "comp usage \"<i>a</i>: A \" as E7  <<(T,blue) part>> [[psysml:b4d408e4-c35f-4021-90a0-c54c4c634ca8 ]] {\r\n",
       "}\r\n",
       "comp def \"C\" as E8  <<(T,blue) part  def>> [[psysml:53104107-4f2e-4822-81be-c90629c3152e ]] {\r\n",
       "}\r\n",
       "comp def \"P\" as E9  <<(T,blue) port  def>> [[psysml:96c92d64-4061-42f0-9733-a4ee9bfee5f1 ]] {\r\n",
       "}\r\n",
       "comp usage \"a1: A \" as E10  <<(T,blue) item>> [[psysml:21151bb4-f160-49b9-964a-222b3c2d7b6c ]] {\r\n",
       "}\r\n",
       "comp usage \"a2: A \" as E11  <<(T,blue) item>> [[psysml:048eeab4-ab84-4a9d-8dc8-2b5e8335cff3 ]] {\r\n",
       "}\r\n",
       "}\r\n",
       "E2 - -:|> E3 [[psysml:e70b16f9-62c0-40f3-a087-aa973c352c22 ]] \r\n",
       "E3 *- - \"1\"E4 [[psysml:f5164247-58fc-45c1-bba3-2edebb195fbd ]] \r\n",
       "E3 o- - \"1\"E5 [[psysml:0e10322d-8096-4d1c-ad13-bcf359abd35a ]] \r\n",
       "E4 - -:|> E6 [[psysml:cd799d59-974c-4cd5-b2a4-5d2e853ea550 ]] \r\n",
       "E6 *- - \"1\"E7 [[psysml:f66c29ee-70ba-402f-a3a4-159df7b46130 ]] \r\n",
       "E7 - -:|> E3 [[psysml:4b14459c-c0ea-47eb-ae95-5bdd156140b8 ]] \r\n",
       "E5 - -:|> E8 [[psysml:7f99918d-ef62-497c-9b9a-668f89d0bef4 ]] \r\n",
       "E8 o- - E3 [[psysml:8abdebaf-64f0-40cf-a780-4a21932975d8 ]] : y\r\n",
       "E8 o- - E6 [[psysml:8abdebaf-64f0-40cf-a780-4a21932975d8 ]] : y\r\n",
       "E9 o- - \"1\"E10 [[psysml:4b97f70b-21b5-47d0-9b80-bf68f1206e68 ]] \r\n",
       "E10 - -:|> E3 [[psysml:890b43d2-a44a-4df9-b863-0c7f323950a1 ]] \r\n",
       "E9 o- - \"1\"E11 [[psysml:75cdd26f-47cf-45db-b14e-ba01ceb3edc6 ]] \r\n",
       "E11 - -:|> E3 [[psysml:92dee77c-180b-445a-a05e-737a71661cde ]] \r\n",
       "@enduml\r\n",
       "\n",
       "PlantUML version 1.2020.13(Sat Jun 13 12:26:38 UTC 2020)\n",
       "(EPL source distribution)\n",
       "Java Runtime: OpenJDK Runtime Environment\n",
       "JVM: OpenJDK 64-Bit Server VM\n",
       "Default Encoding: UTF-8\n",
       "Language: en\n",
       "Country: null\n",
       "--></g></svg>"
      ]
     },
     "execution_count": 29,
     "metadata": {},
     "output_type": "execute_result"
    }
   ],
   "source": [
    "%viz --style=\"STDCOLOR\" --view=\"MIXED\" \"ItemTest\""
   ]
  },
  {
   "cell_type": "code",
   "execution_count": 30,
   "id": "11f62051",
   "metadata": {
    "execution": {
     "iopub.execute_input": "2022-03-21T07:49:10.950961Z",
     "iopub.status.busy": "2022-03-21T07:49:10.950341Z",
     "iopub.status.idle": "2022-03-21T07:49:11.019611Z",
     "shell.execute_reply": "2022-03-21T07:49:11.017047Z"
    }
   },
   "outputs": [
    {
     "data": {
      "image/svg+xml": [
       "<?xml version=\"1.0\" encoding=\"UTF-8\" standalone=\"no\"?><svg xmlns=\"http://www.w3.org/2000/svg\" xmlns:xlink=\"http://www.w3.org/1999/xlink\" contentScriptType=\"application/ecmascript\" contentStyleType=\"text/css\" height=\"788px\" preserveAspectRatio=\"none\" style=\"width:332px;height:788px;\" version=\"1.1\" viewBox=\"0 0 332 788\" width=\"332px\" zoomAndPan=\"magnify\"><defs><filter height=\"300%\" id=\"f1uafgf2r9adsz\" width=\"300%\" x=\"-1\" y=\"-1\"><feGaussianBlur result=\"blurOut\" stdDeviation=\"2.0\"/><feColorMatrix in=\"blurOut\" result=\"blurOut2\" type=\"matrix\" values=\"0 0 0 0 0 0 0 0 0 0 0 0 0 0 0 0 0 0 .4 0\"/><feOffset dx=\"4.0\" dy=\"4.0\" in=\"blurOut2\" result=\"blurOut3\"/><feBlend in=\"SourceGraphic\" in2=\"blurOut3\" mode=\"normal\"/></filter></defs><g><!--MD5=[fbc87193dbaf4d95561dea2c320d4a47]\n",
       "cluster E1--><a href=\"psysml:8469bc55-64be-4e75-90cd-bb271a7bb256\" target=\"_top\" title=\"psysml:8469bc55-64be-4e75-90cd-bb271a7bb256\" xlink:actuate=\"onRequest\" xlink:href=\"psysml:8469bc55-64be-4e75-90cd-bb271a7bb256\" xlink:show=\"new\" xlink:title=\"psysml:8469bc55-64be-4e75-90cd-bb271a7bb256\" xlink:type=\"simple\"><polygon fill=\"#FFFFFF\" filter=\"url(#f1uafgf2r9adsz)\" points=\"16,6,83,6,90,28.2969,310,28.2969,310,776,16,776,16,6\" style=\"stroke: #000000; stroke-width: 1.5;\"/><line style=\"stroke: #000000; stroke-width: 1.5;\" x1=\"16\" x2=\"90\" y1=\"28.2969\" y2=\"28.2969\"/><text fill=\"#000000\" font-family=\"sans-serif\" font-size=\"14\" font-weight=\"bold\" lengthAdjust=\"spacingAndGlyphs\" textLength=\"61\" x=\"20\" y=\"20.9951\">ItemTest</text></a><!--MD5=[b4997ac47864f28c2f74865a473b2911]\n",
       "class E2--><a href=\"psysml:6cbf61b0-82f0-477a-9e61-503ee7ef8ab3\" target=\"_top\" title=\"psysml:6cbf61b0-82f0-477a-9e61-503ee7ef8ab3\" xlink:actuate=\"onRequest\" xlink:href=\"psysml:6cbf61b0-82f0-477a-9e61-503ee7ef8ab3\" xlink:show=\"new\" xlink:title=\"psysml:6cbf61b0-82f0-477a-9e61-503ee7ef8ab3\" xlink:type=\"simple\"><rect fill=\"#FEFECE\" filter=\"url(#f1uafgf2r9adsz)\" height=\"40\" id=\"E2\" rx=\"10\" ry=\"10\" style=\"stroke: #A80036; stroke-width: 1.5;\" width=\"56\" x=\"238\" y=\"148\"/><ellipse cx=\"253\" cy=\"164\" fill=\"#32CD32\" rx=\"11\" ry=\"11\" style=\"stroke: #A80036; stroke-width: 1.0;\"/><path d=\"M249.8125,169 L249.8125,158.4063 L253.4219,158.4063 Q254.6406,158.4063 255.4375,158.8438 Q256.2344,159.2656 256.6094,159.9688 Q257,160.6719 257,161.5156 Q257,162.3594 256.625,163.0469 Q256.2656,163.7344 255.4688,164.1563 Q254.6875,164.5625 253.5,164.5625 L251.7656,164.5625 L251.7656,169 L249.8125,169 Z M251.7656,162.9688 L253.375,162.9688 Q254.1875,162.9688 254.6094,162.5625 Q255.0313,162.1563 255.0313,161.5156 Q255.0313,160.8906 254.6094,160.4844 Q254.1875,160.0781 253.3906,160.0781 L251.7656,160.0781 L251.7656,162.9688 Z \"/><text fill=\"#000000\" font-family=\"sans-serif\" font-size=\"12\" lengthAdjust=\"spacingAndGlyphs\" textLength=\"20\" x=\"267\" y=\"168.1543\">f: A</text><line style=\"stroke: #A80036; stroke-width: 1.5;\" x1=\"239\" x2=\"293\" y1=\"180\" y2=\"180\"/></a><!--MD5=[09b614a08d8cba4a07c9adeb5e0fee81]\n",
       "class E3--><a href=\"psysml:73e4759d-5191-4c8c-b634-f2bc1b43e3a3\" target=\"_top\" title=\"psysml:73e4759d-5191-4c8c-b634-f2bc1b43e3a3\" xlink:actuate=\"onRequest\" xlink:href=\"psysml:73e4759d-5191-4c8c-b634-f2bc1b43e3a3\" xlink:show=\"new\" xlink:title=\"psysml:73e4759d-5191-4c8c-b634-f2bc1b43e3a3\" xlink:type=\"simple\"><rect fill=\"#FEFECE\" filter=\"url(#f1uafgf2r9adsz)\" height=\"40\" id=\"E3\" style=\"stroke: #A80036; stroke-width: 1.5;\" width=\"40\" x=\"149\" y=\"249\"/><ellipse cx=\"164\" cy=\"265\" fill=\"#008000\" rx=\"11\" ry=\"11\" style=\"stroke: #A80036; stroke-width: 1.0;\"/><path d=\"M160.875,270 L160.875,259.4063 L164.1094,259.4063 Q166.0156,259.4063 166.9219,260.1563 Q167.8438,260.9063 167.8438,262.0781 Q167.8438,262.7656 167.4531,263.4219 Q167.0781,264.0781 166.3594,264.375 Q167.2188,264.75 167.7344,265.4375 Q168.25,266.125 168.25,266.9375 Q168.25,268.3125 167.2188,269.1563 Q166.2031,270 164.0938,270 L160.875,270 Z M162.7969,263.6406 L163.9531,263.6406 Q165.0781,263.6406 165.4844,263.2656 Q165.9063,262.875 165.9063,262.25 Q165.9063,261.6719 165.4844,261.3125 Q165.0625,260.9531 164.125,260.9531 L162.7969,260.9531 L162.7969,263.6406 Z M162.7969,268.4219 L164.2969,268.4219 Q165.2031,268.4219 165.7344,268.0313 Q166.2656,267.6406 166.2656,266.8906 Q166.2656,266.125 165.7656,265.6563 Q165.2656,265.1719 164,265.1719 L162.7969,265.1719 L162.7969,268.4219 Z \"/><text fill=\"#000000\" font-family=\"sans-serif\" font-size=\"12\" lengthAdjust=\"spacingAndGlyphs\" textLength=\"8\" x=\"178\" y=\"269.1543\">A</text><line style=\"stroke: #A80036; stroke-width: 1.5;\" x1=\"150\" x2=\"188\" y1=\"281\" y2=\"281\"/></a><!--MD5=[ebbe1d658d1005bcc118a6aa81145e00]\n",
       "class E4--><a href=\"psysml:22dedc78-8a6f-47e7-a1b3-f5299f454177\" target=\"_top\" title=\"psysml:22dedc78-8a6f-47e7-a1b3-f5299f454177\" xlink:actuate=\"onRequest\" xlink:href=\"psysml:22dedc78-8a6f-47e7-a1b3-f5299f454177\" xlink:show=\"new\" xlink:title=\"psysml:22dedc78-8a6f-47e7-a1b3-f5299f454177\" xlink:type=\"simple\"><rect fill=\"#FEFECE\" filter=\"url(#f1uafgf2r9adsz)\" height=\"40\" id=\"E4\" rx=\"10\" ry=\"10\" style=\"stroke: #A80036; stroke-width: 1.5;\" width=\"60\" x=\"49\" y=\"426\"/><ellipse cx=\"64\" cy=\"442\" fill=\"#32CD32\" rx=\"11\" ry=\"11\" style=\"stroke: #A80036; stroke-width: 1.0;\"/><path d=\"M60.8125,447 L60.8125,436.4063 L64.4219,436.4063 Q65.6406,436.4063 66.4375,436.8438 Q67.2344,437.2656 67.6094,437.9688 Q68,438.6719 68,439.5156 Q68,440.3594 67.625,441.0469 Q67.2656,441.7344 66.4688,442.1563 Q65.6875,442.5625 64.5,442.5625 L62.7656,442.5625 L62.7656,447 L60.8125,447 Z M62.7656,440.9688 L64.375,440.9688 Q65.1875,440.9688 65.6094,440.5625 Q66.0313,440.1563 66.0313,439.5156 Q66.0313,438.8906 65.6094,438.4844 Q65.1875,438.0781 64.3906,438.0781 L62.7656,438.0781 L62.7656,440.9688 Z \"/><text fill=\"#000000\" font-family=\"sans-serif\" font-size=\"12\" lengthAdjust=\"spacingAndGlyphs\" textLength=\"24\" x=\"78\" y=\"446.1543\">b: B</text><line style=\"stroke: #A80036; stroke-width: 1.5;\" x1=\"50\" x2=\"108\" y1=\"458\" y2=\"458\"/></a><!--MD5=[270fce915f116d4de14055a7c1d9a0f3]\n",
       "class E5--><a href=\"psysml:d5b518cb-4e9d-48f6-86e4-811292cf7103\" target=\"_top\" title=\"psysml:d5b518cb-4e9d-48f6-86e4-811292cf7103\" xlink:actuate=\"onRequest\" xlink:href=\"psysml:d5b518cb-4e9d-48f6-86e4-811292cf7103\" xlink:show=\"new\" xlink:title=\"psysml:d5b518cb-4e9d-48f6-86e4-811292cf7103\" xlink:type=\"simple\"><rect fill=\"#FEFECE\" filter=\"url(#f1uafgf2r9adsz)\" height=\"45.9375\" id=\"E5\" rx=\"10\" ry=\"10\" style=\"stroke: #A80036; stroke-width: 1.5;\" width=\"68\" x=\"176\" y=\"350\"/><ellipse cx=\"191\" cy=\"368.9688\" fill=\"#32CD32\" rx=\"11\" ry=\"11\" style=\"stroke: #A80036; stroke-width: 1.0;\"/><path d=\"M187.8125,373.9688 L187.8125,363.375 L191.4219,363.375 Q192.6406,363.375 193.4375,363.8125 Q194.2344,364.2344 194.6094,364.9375 Q195,365.6406 195,366.4844 Q195,367.3281 194.625,368.0156 Q194.2656,368.7031 193.4688,369.125 Q192.6875,369.5313 191.5,369.5313 L189.7656,369.5313 L189.7656,373.9688 L187.8125,373.9688 Z M189.7656,367.9375 L191.375,367.9375 Q192.1875,367.9375 192.6094,367.5313 Q193.0313,367.125 193.0313,366.4844 Q193.0313,365.8594 192.6094,365.4531 Q192.1875,365.0469 191.3906,365.0469 L189.7656,365.0469 L189.7656,367.9375 Z \"/><text fill=\"#000000\" font-family=\"sans-serif\" font-size=\"12\" font-style=\"italic\" lengthAdjust=\"spacingAndGlyphs\" textLength=\"40\" x=\"203\" y=\"366.1387\">«part»</text><text fill=\"#000000\" font-family=\"sans-serif\" font-size=\"12\" lengthAdjust=\"spacingAndGlyphs\" textLength=\"23\" x=\"209.5\" y=\"380.1074\">c: C</text><line style=\"stroke: #A80036; stroke-width: 1.5;\" x1=\"177\" x2=\"243\" y1=\"387.9375\" y2=\"387.9375\"/></a><!--MD5=[60a26617385b1d2d0262a64233df1f8d]\n",
       "class E6--><a href=\"psysml:7fb13a86-95b9-42ac-ac4a-d3cbb2045ff7\" target=\"_top\" title=\"psysml:7fb13a86-95b9-42ac-ac4a-d3cbb2045ff7\" xlink:actuate=\"onRequest\" xlink:href=\"psysml:7fb13a86-95b9-42ac-ac4a-d3cbb2045ff7\" xlink:show=\"new\" xlink:title=\"psysml:7fb13a86-95b9-42ac-ac4a-d3cbb2045ff7\" xlink:type=\"simple\"><rect fill=\"#FEFECE\" filter=\"url(#f1uafgf2r9adsz)\" height=\"40\" id=\"E6\" style=\"stroke: #A80036; stroke-width: 1.5;\" width=\"40\" x=\"134\" y=\"613\"/><ellipse cx=\"149\" cy=\"629\" fill=\"#008000\" rx=\"11\" ry=\"11\" style=\"stroke: #A80036; stroke-width: 1.0;\"/><path d=\"M145.875,634 L145.875,623.4063 L149.1094,623.4063 Q151.0156,623.4063 151.9219,624.1563 Q152.8438,624.9063 152.8438,626.0781 Q152.8438,626.7656 152.4531,627.4219 Q152.0781,628.0781 151.3594,628.375 Q152.2188,628.75 152.7344,629.4375 Q153.25,630.125 153.25,630.9375 Q153.25,632.3125 152.2188,633.1563 Q151.2031,634 149.0938,634 L145.875,634 Z M147.7969,627.6406 L148.9531,627.6406 Q150.0781,627.6406 150.4844,627.2656 Q150.9063,626.875 150.9063,626.25 Q150.9063,625.6719 150.4844,625.3125 Q150.0625,624.9531 149.125,624.9531 L147.7969,624.9531 L147.7969,627.6406 Z M147.7969,632.4219 L149.2969,632.4219 Q150.2031,632.4219 150.7344,632.0313 Q151.2656,631.6406 151.2656,630.8906 Q151.2656,630.125 150.7656,629.6563 Q150.2656,629.1719 149,629.1719 L147.7969,629.1719 L147.7969,632.4219 Z \"/><text fill=\"#000000\" font-family=\"sans-serif\" font-size=\"12\" font-style=\"italic\" lengthAdjust=\"spacingAndGlyphs\" textLength=\"8\" x=\"163\" y=\"633.1543\">B</text><line style=\"stroke: #A80036; stroke-width: 1.5;\" x1=\"135\" x2=\"173\" y1=\"645\" y2=\"645\"/></a><!--MD5=[2156ba9850f5573cc1fc38a6a4b2f02b]\n",
       "class E7--><a href=\"psysml:b4d408e4-c35f-4021-90a0-c54c4c634ca8\" target=\"_top\" title=\"psysml:b4d408e4-c35f-4021-90a0-c54c4c634ca8\" xlink:actuate=\"onRequest\" xlink:href=\"psysml:b4d408e4-c35f-4021-90a0-c54c4c634ca8\" xlink:show=\"new\" xlink:title=\"psysml:b4d408e4-c35f-4021-90a0-c54c4c634ca8\" xlink:type=\"simple\"><rect fill=\"#FEFECE\" filter=\"url(#f1uafgf2r9adsz)\" height=\"45.9375\" id=\"E7\" rx=\"10\" ry=\"10\" style=\"stroke: #A80036; stroke-width: 1.5;\" width=\"68\" x=\"208\" y=\"714\"/><ellipse cx=\"223\" cy=\"732.9688\" fill=\"#32CD32\" rx=\"11\" ry=\"11\" style=\"stroke: #A80036; stroke-width: 1.0;\"/><path d=\"M219.8125,737.9688 L219.8125,727.375 L223.4219,727.375 Q224.6406,727.375 225.4375,727.8125 Q226.2344,728.2344 226.6094,728.9375 Q227,729.6406 227,730.4844 Q227,731.3281 226.625,732.0156 Q226.2656,732.7031 225.4688,733.125 Q224.6875,733.5313 223.5,733.5313 L221.7656,733.5313 L221.7656,737.9688 L219.8125,737.9688 Z M221.7656,731.9375 L223.375,731.9375 Q224.1875,731.9375 224.6094,731.5313 Q225.0313,731.125 225.0313,730.4844 Q225.0313,729.8594 224.6094,729.4531 Q224.1875,729.0469 223.3906,729.0469 L221.7656,729.0469 L221.7656,731.9375 Z \"/><text fill=\"#000000\" font-family=\"sans-serif\" font-size=\"12\" font-style=\"italic\" lengthAdjust=\"spacingAndGlyphs\" textLength=\"40\" x=\"235\" y=\"730.1387\">«part»</text><text fill=\"#000000\" font-family=\"sans-serif\" font-size=\"12\" font-style=\"italic\" lengthAdjust=\"spacingAndGlyphs\" textLength=\"8\" x=\"241\" y=\"744.1074\">a</text><text fill=\"#000000\" font-family=\"sans-serif\" font-size=\"12\" lengthAdjust=\"spacingAndGlyphs\" textLength=\"16\" x=\"249\" y=\"744.1074\">: A</text><line style=\"stroke: #A80036; stroke-width: 1.5;\" x1=\"209\" x2=\"275\" y1=\"751.9375\" y2=\"751.9375\"/></a><!--MD5=[b9389687b975829384b498ac4b7476b2]\n",
       "class E8--><a href=\"psysml:53104107-4f2e-4822-81be-c90629c3152e\" target=\"_top\" title=\"psysml:53104107-4f2e-4822-81be-c90629c3152e\" xlink:actuate=\"onRequest\" xlink:href=\"psysml:53104107-4f2e-4822-81be-c90629c3152e\" xlink:show=\"new\" xlink:title=\"psysml:53104107-4f2e-4822-81be-c90629c3152e\" xlink:type=\"simple\"><rect fill=\"#FEFECE\" filter=\"url(#f1uafgf2r9adsz)\" height=\"40\" id=\"E8\" style=\"stroke: #A80036; stroke-width: 1.5;\" width=\"40\" x=\"134\" y=\"496\"/><ellipse cx=\"149\" cy=\"512\" fill=\"#008000\" rx=\"11\" ry=\"11\" style=\"stroke: #A80036; stroke-width: 1.0;\"/><path d=\"M145.875,517 L145.875,506.4063 L149.1094,506.4063 Q151.0156,506.4063 151.9219,507.1563 Q152.8438,507.9063 152.8438,509.0781 Q152.8438,509.7656 152.4531,510.4219 Q152.0781,511.0781 151.3594,511.375 Q152.2188,511.75 152.7344,512.4375 Q153.25,513.125 153.25,513.9375 Q153.25,515.3125 152.2188,516.1563 Q151.2031,517 149.0938,517 L145.875,517 Z M147.7969,510.6406 L148.9531,510.6406 Q150.0781,510.6406 150.4844,510.2656 Q150.9063,509.875 150.9063,509.25 Q150.9063,508.6719 150.4844,508.3125 Q150.0625,507.9531 149.125,507.9531 L147.7969,507.9531 L147.7969,510.6406 Z M147.7969,515.4219 L149.2969,515.4219 Q150.2031,515.4219 150.7344,515.0313 Q151.2656,514.6406 151.2656,513.8906 Q151.2656,513.125 150.7656,512.6563 Q150.2656,512.1719 149,512.1719 L147.7969,512.1719 L147.7969,515.4219 Z \"/><text fill=\"#000000\" font-family=\"sans-serif\" font-size=\"12\" lengthAdjust=\"spacingAndGlyphs\" textLength=\"8\" x=\"163\" y=\"516.1543\">C</text><line style=\"stroke: #A80036; stroke-width: 1.5;\" x1=\"135\" x2=\"173\" y1=\"528\" y2=\"528\"/></a><!--MD5=[fd4143e9d270a159db93a4ea2a975926]\n",
       "class E9--><a href=\"psysml:96c92d64-4061-42f0-9733-a4ee9bfee5f1\" target=\"_top\" title=\"psysml:96c92d64-4061-42f0-9733-a4ee9bfee5f1\" xlink:actuate=\"onRequest\" xlink:href=\"psysml:96c92d64-4061-42f0-9733-a4ee9bfee5f1\" xlink:show=\"new\" xlink:title=\"psysml:96c92d64-4061-42f0-9733-a4ee9bfee5f1\" xlink:type=\"simple\"><rect fill=\"#FEFECE\" filter=\"url(#f1uafgf2r9adsz)\" height=\"45.9375\" id=\"E9\" style=\"stroke: #A80036; stroke-width: 1.5;\" width=\"96\" x=\"76\" y=\"41\"/><ellipse cx=\"91\" cy=\"59.9688\" fill=\"#A52A2A\" rx=\"11\" ry=\"11\" style=\"stroke: #A80036; stroke-width: 1.0;\"/><path d=\"M88.2188,64.9688 L88.2188,54.375 L90.9531,54.375 Q92.3438,54.375 93.1094,54.7656 Q93.8906,55.1406 94.4219,55.8438 Q94.9531,56.5469 95.25,57.5469 Q95.5469,58.5313 95.5469,59.75 Q95.5,61.3438 95,62.5313 Q94.5156,63.7031 93.4688,64.3438 Q92.4375,64.9688 90.75,64.9688 L88.2188,64.9688 Z M90.0781,63.4688 L90.7031,63.4688 Q91.7813,63.4688 92.4375,63.0156 Q93.0938,62.5625 93.375,61.7344 Q93.6719,60.8906 93.6563,59.7656 Q93.6563,58.5938 93.4063,57.7344 Q93.1563,56.8594 92.5469,56.3906 Q91.9375,55.9063 90.8906,55.9063 L90.0781,55.9063 L90.0781,63.4688 Z \"/><text fill=\"#000000\" font-family=\"sans-serif\" font-size=\"12\" font-style=\"italic\" lengthAdjust=\"spacingAndGlyphs\" textLength=\"68\" x=\"103\" y=\"57.1387\">«port  def»</text><text fill=\"#000000\" font-family=\"sans-serif\" font-size=\"12\" lengthAdjust=\"spacingAndGlyphs\" textLength=\"8\" x=\"133\" y=\"71.1074\">P</text><line style=\"stroke: #A80036; stroke-width: 1.5;\" x1=\"77\" x2=\"171\" y1=\"78.9375\" y2=\"78.9375\"/></a><!--MD5=[96f4274e9e20536e775497830990834d]\n",
       "class E10--><a href=\"psysml:21151bb4-f160-49b9-964a-222b3c2d7b6c\" target=\"_top\" title=\"psysml:21151bb4-f160-49b9-964a-222b3c2d7b6c\" xlink:actuate=\"onRequest\" xlink:href=\"psysml:21151bb4-f160-49b9-964a-222b3c2d7b6c\" xlink:show=\"new\" xlink:title=\"psysml:21151bb4-f160-49b9-964a-222b3c2d7b6c\" xlink:type=\"simple\"><rect fill=\"#FEFECE\" filter=\"url(#f1uafgf2r9adsz)\" height=\"40\" id=\"E10\" rx=\"10\" ry=\"10\" style=\"stroke: #A80036; stroke-width: 1.5;\" width=\"68\" x=\"32\" y=\"148\"/><ellipse cx=\"47\" cy=\"164\" fill=\"#32CD32\" rx=\"11\" ry=\"11\" style=\"stroke: #A80036; stroke-width: 1.0;\"/><path d=\"M43.8125,169 L43.8125,158.4063 L47.4219,158.4063 Q48.6406,158.4063 49.4375,158.8438 Q50.2344,159.2656 50.6094,159.9688 Q51,160.6719 51,161.5156 Q51,162.3594 50.625,163.0469 Q50.2656,163.7344 49.4688,164.1563 Q48.6875,164.5625 47.5,164.5625 L45.7656,164.5625 L45.7656,169 L43.8125,169 Z M45.7656,162.9688 L47.375,162.9688 Q48.1875,162.9688 48.6094,162.5625 Q49.0313,162.1563 49.0313,161.5156 Q49.0313,160.8906 48.6094,160.4844 Q48.1875,160.0781 47.3906,160.0781 L45.7656,160.0781 L45.7656,162.9688 Z \"/><text fill=\"#000000\" font-family=\"sans-serif\" font-size=\"12\" lengthAdjust=\"spacingAndGlyphs\" textLength=\"32\" x=\"61\" y=\"168.1543\">a1: A</text><line style=\"stroke: #A80036; stroke-width: 1.5;\" x1=\"33\" x2=\"99\" y1=\"180\" y2=\"180\"/></a><!--MD5=[1dd1bfd58a279cf63c5f349dbc8fc6a1]\n",
       "class E11--><a href=\"psysml:048eeab4-ab84-4a9d-8dc8-2b5e8335cff3\" target=\"_top\" title=\"psysml:048eeab4-ab84-4a9d-8dc8-2b5e8335cff3\" xlink:actuate=\"onRequest\" xlink:href=\"psysml:048eeab4-ab84-4a9d-8dc8-2b5e8335cff3\" xlink:show=\"new\" xlink:title=\"psysml:048eeab4-ab84-4a9d-8dc8-2b5e8335cff3\" xlink:type=\"simple\"><rect fill=\"#FEFECE\" filter=\"url(#f1uafgf2r9adsz)\" height=\"40\" id=\"E11\" rx=\"10\" ry=\"10\" style=\"stroke: #A80036; stroke-width: 1.5;\" width=\"68\" x=\"135\" y=\"148\"/><ellipse cx=\"150\" cy=\"164\" fill=\"#32CD32\" rx=\"11\" ry=\"11\" style=\"stroke: #A80036; stroke-width: 1.0;\"/><path d=\"M146.8125,169 L146.8125,158.4063 L150.4219,158.4063 Q151.6406,158.4063 152.4375,158.8438 Q153.2344,159.2656 153.6094,159.9688 Q154,160.6719 154,161.5156 Q154,162.3594 153.625,163.0469 Q153.2656,163.7344 152.4688,164.1563 Q151.6875,164.5625 150.5,164.5625 L148.7656,164.5625 L148.7656,169 L146.8125,169 Z M148.7656,162.9688 L150.375,162.9688 Q151.1875,162.9688 151.6094,162.5625 Q152.0313,162.1563 152.0313,161.5156 Q152.0313,160.8906 151.6094,160.4844 Q151.1875,160.0781 150.3906,160.0781 L148.7656,160.0781 L148.7656,162.9688 Z \"/><text fill=\"#000000\" font-family=\"sans-serif\" font-size=\"12\" lengthAdjust=\"spacingAndGlyphs\" textLength=\"32\" x=\"164\" y=\"168.1543\">a2: A</text><line style=\"stroke: #A80036; stroke-width: 1.5;\" x1=\"136\" x2=\"202\" y1=\"180\" y2=\"180\"/></a><!--MD5=[2720a5a1f2c3fca2055b230370638851]\n",
       "link E2 to E3--><a href=\"psysml:e70b16f9-62c0-40f3-a087-aa973c352c22\" target=\"_top\" title=\"psysml:e70b16f9-62c0-40f3-a087-aa973c352c22\" xlink:actuate=\"onRequest\" xlink:href=\"psysml:e70b16f9-62c0-40f3-a087-aa973c352c22\" xlink:show=\"new\" xlink:title=\"psysml:e70b16f9-62c0-40f3-a087-aa973c352c22\" xlink:type=\"simple\"><path d=\"M247.3,188.09 C234.42,201.24 216.95,219.06 201.79,234.53 \" fill=\"none\" id=\"E2-&gt;E3\" style=\"stroke: #A80036; stroke-width: 1.0;\"/><polygon fill=\"#FFFFFF\" points=\"187.65,248.97,195.9397,230.4962,205.9437,240.2901,187.65,248.97\" style=\"stroke: #A80036; stroke-width: 1.0;\"/><ellipse cx=\"201.3564\" cy=\"227.8223\" fill=\"#A80036\" rx=\"2\" ry=\"2\" style=\"stroke: #A80036; stroke-width: 1.0;\"/><ellipse cx=\"208.5021\" cy=\"234.8179\" fill=\"#A80036\" rx=\"2\" ry=\"2\" style=\"stroke: #A80036; stroke-width: 1.0;\"/></a><!--MD5=[4672eba38e49728da53d11aeb285b987]\n",
       "reverse link E3 to E4--><a href=\"psysml:f5164247-58fc-45c1-bba3-2edebb195fbd\" target=\"_top\" title=\"psysml:f5164247-58fc-45c1-bba3-2edebb195fbd\" xlink:actuate=\"onRequest\" xlink:href=\"psysml:f5164247-58fc-45c1-bba3-2edebb195fbd\" xlink:show=\"new\" xlink:title=\"psysml:f5164247-58fc-45c1-bba3-2edebb195fbd\" xlink:type=\"simple\"><path d=\"M138.27,292.03 C120.72,306.42 100.07,326.8 89,350 C77.43,374.25 76.5,405.85 77.38,425.79 \" fill=\"none\" id=\"E3&lt;-E4\" style=\"stroke: #A80036; stroke-width: 1.0;\"/><polygon fill=\"#A80036\" points=\"148.68,283.88,141.4897,284.427,139.2291,291.2746,146.4194,290.7276,148.68,283.88\" style=\"stroke: #A80036; stroke-width: 1.0;\"/><text fill=\"#000000\" font-family=\"sans-serif\" font-size=\"13\" lengthAdjust=\"spacingAndGlyphs\" textLength=\"8\" x=\"67.7994\" y=\"415.0821\">1</text></a><!--MD5=[191cde3d490a3f6d7bb551fe3ddca469]\n",
       "reverse link E3 to E5--><a href=\"psysml:0e10322d-8096-4d1c-ad13-bcf359abd35a\" target=\"_top\" title=\"psysml:0e10322d-8096-4d1c-ad13-bcf359abd35a\" xlink:actuate=\"onRequest\" xlink:href=\"psysml:0e10322d-8096-4d1c-ad13-bcf359abd35a\" xlink:show=\"new\" xlink:title=\"psysml:0e10322d-8096-4d1c-ad13-bcf359abd35a\" xlink:type=\"simple\"><path d=\"M181.65,301.47 C187.92,317.08 195.36,335.57 201.04,349.7 \" fill=\"none\" id=\"E3&lt;-E5\" style=\"stroke: #A80036; stroke-width: 1.0;\"/><polygon fill=\"#FFFFFF\" points=\"176.71,289.19,175.2345,296.2485,181.1826,300.3253,182.6581,293.2668,176.71,289.19\" style=\"stroke: #A80036; stroke-width: 1.0;\"/><text fill=\"#000000\" font-family=\"sans-serif\" font-size=\"13\" lengthAdjust=\"spacingAndGlyphs\" textLength=\"8\" x=\"189.719\" y=\"338.8994\">1</text></a><!--MD5=[79568f1e445c3877b6a54524624ccc7d]\n",
       "link E4 to E6--><a href=\"psysml:cd799d59-974c-4cd5-b2a4-5d2e853ea550\" target=\"_top\" title=\"psysml:cd799d59-974c-4cd5-b2a4-5d2e853ea550\" xlink:actuate=\"onRequest\" xlink:href=\"psysml:cd799d59-974c-4cd5-b2a4-5d2e853ea550\" xlink:show=\"new\" xlink:title=\"psysml:cd799d59-974c-4cd5-b2a4-5d2e853ea550\" xlink:type=\"simple\"><path d=\"M86.74,466.1 C98.93,496.15 122.8,555.04 138.58,593.96 \" fill=\"none\" id=\"E4-&gt;E6\" style=\"stroke: #A80036; stroke-width: 1.0;\"/><polygon fill=\"#FFFFFF\" points=\"146.19,612.73,132.5666,597.7499,145.5417,592.4919,146.19,612.73\" style=\"stroke: #A80036; stroke-width: 1.0;\"/><ellipse cx=\"132.2794\" cy=\"591.7161\" fill=\"#A80036\" rx=\"2\" ry=\"2\" style=\"stroke: #A80036; stroke-width: 1.0;\"/><ellipse cx=\"141.5473\" cy=\"587.9604\" fill=\"#A80036\" rx=\"2\" ry=\"2\" style=\"stroke: #A80036; stroke-width: 1.0;\"/></a><!--MD5=[3f50a3473f1dfb74d3f76443e03635af]\n",
       "reverse link E6 to E7--><a href=\"psysml:f66c29ee-70ba-402f-a3a4-159df7b46130\" target=\"_top\" title=\"psysml:f66c29ee-70ba-402f-a3a4-159df7b46130\" xlink:actuate=\"onRequest\" xlink:href=\"psysml:f66c29ee-70ba-402f-a3a4-159df7b46130\" xlink:show=\"new\" xlink:title=\"psysml:f66c29ee-70ba-402f-a3a4-159df7b46130\" xlink:type=\"simple\"><path d=\"M179.15,663.15 C193.01,679.22 209.96,698.87 222.76,713.7 \" fill=\"none\" id=\"E6&lt;-E7\" style=\"stroke: #A80036; stroke-width: 1.0;\"/><polygon fill=\"#A80036\" points=\"170.55,653.19,171.4382,660.3462,178.3855,662.2787,177.4973,655.1225,170.55,653.19\" style=\"stroke: #A80036; stroke-width: 1.0;\"/><text fill=\"#000000\" font-family=\"sans-serif\" font-size=\"13\" lengthAdjust=\"spacingAndGlyphs\" textLength=\"8\" x=\"208.8047\" y=\"702.8994\">1</text></a><!--MD5=[14ccda38c055a5c0da953d572bc50960]\n",
       "link E7 to E3--><a href=\"psysml:4b14459c-c0ea-47eb-ae95-5bdd156140b8\" target=\"_top\" title=\"psysml:4b14459c-c0ea-47eb-ae95-5bdd156140b8\" xlink:actuate=\"onRequest\" xlink:href=\"psysml:4b14459c-c0ea-47eb-ae95-5bdd156140b8\" xlink:show=\"new\" xlink:title=\"psysml:4b14459c-c0ea-47eb-ae95-5bdd156140b8\" xlink:type=\"simple\"><path d=\"M255.5,713.79 C266.43,693.7 280,662.91 280,634 C280,372 280,372 280,372 C280,331.58 239.6,302.81 207.54,286.34 \" fill=\"none\" id=\"E7-&gt;E3\" style=\"stroke: #A80036; stroke-width: 1.0;\"/><polygon fill=\"#FFFFFF\" points=\"189.1,277.68,209.2735,279.4203,203.3225,292.0925,189.1,277.68\" style=\"stroke: #A80036; stroke-width: 1.0;\"/><ellipse cx=\"213.5828\" cy=\"283.6535\" fill=\"#A80036\" rx=\"2\" ry=\"2\" style=\"stroke: #A80036; stroke-width: 1.0;\"/><ellipse cx=\"209.332\" cy=\"292.7051\" fill=\"#A80036\" rx=\"2\" ry=\"2\" style=\"stroke: #A80036; stroke-width: 1.0;\"/></a><!--MD5=[dfaffb906826c3e5aca635516100ff21]\n",
       "link E5 to E8--><a href=\"psysml:7f99918d-ef62-497c-9b9a-668f89d0bef4\" target=\"_top\" title=\"psysml:7f99918d-ef62-497c-9b9a-668f89d0bef4\" xlink:actuate=\"onRequest\" xlink:href=\"psysml:7f99918d-ef62-497c-9b9a-668f89d0bef4\" xlink:show=\"new\" xlink:title=\"psysml:7f99918d-ef62-497c-9b9a-668f89d0bef4\" xlink:type=\"simple\"><path d=\"M201.25,396.03 C192.66,417.67 179.38,451.1 169.08,477.03 \" fill=\"none\" id=\"E5-&gt;E8\" style=\"stroke: #A80036; stroke-width: 1.0;\"/><polygon fill=\"#FFFFFF\" points=\"161.61,495.84,162.108,475.5977,175.1218,480.7592,161.61,495.84\" style=\"stroke: #A80036; stroke-width: 1.0;\"/><ellipse cx=\"166.0686\" cy=\"471.0366\" fill=\"#A80036\" rx=\"2\" ry=\"2\" style=\"stroke: #A80036; stroke-width: 1.0;\"/><ellipse cx=\"175.3642\" cy=\"474.7233\" fill=\"#A80036\" rx=\"2\" ry=\"2\" style=\"stroke: #A80036; stroke-width: 1.0;\"/></a><!--MD5=[03c8294790d3c57651a1993cecff665f]\n",
       "reverse link E8 to E3--><a href=\"psysml:8abdebaf-64f0-40cf-a780-4a21932975d8\" target=\"_top\" title=\"psysml:8abdebaf-64f0-40cf-a780-4a21932975d8\" xlink:actuate=\"onRequest\" xlink:href=\"psysml:8abdebaf-64f0-40cf-a780-4a21932975d8\" xlink:show=\"new\" xlink:title=\"psysml:8abdebaf-64f0-40cf-a780-4a21932975d8\" xlink:type=\"simple\"><path d=\"M150.54,482.63 C147.6,449.27 144.63,395.82 150,350 C152.47,328.87 158.5,305.24 163.11,289.17 \" fill=\"none\" id=\"E8&lt;-E3\" style=\"stroke: #A80036; stroke-width: 1.0;\"/><polygon fill=\"#FFFFFF\" points=\"151.77,495.61,155.1851,489.2589,150.636,483.6637,147.2209,490.0148,151.77,495.61\" style=\"stroke: #A80036; stroke-width: 1.0;\"/><text fill=\"#000000\" font-family=\"sans-serif\" font-size=\"13\" lengthAdjust=\"spacingAndGlyphs\" textLength=\"7\" x=\"151\" y=\"377.5669\">y</text></a><!--MD5=[0d75d2178373a6a4568e5dc728f58aef]\n",
       "reverse link E8 to E6--><a href=\"psysml:8abdebaf-64f0-40cf-a780-4a21932975d8\" target=\"_top\" title=\"psysml:8abdebaf-64f0-40cf-a780-4a21932975d8\" xlink:actuate=\"onRequest\" xlink:href=\"psysml:8abdebaf-64f0-40cf-a780-4a21932975d8\" xlink:show=\"new\" xlink:title=\"psysml:8abdebaf-64f0-40cf-a780-4a21932975d8\" xlink:type=\"simple\"><path d=\"M154,549.36 C154,569.76 154,595.42 154,612.69 \" fill=\"none\" id=\"E8&lt;-E6\" style=\"stroke: #A80036; stroke-width: 1.0;\"/><polygon fill=\"#FFFFFF\" points=\"154,536.25,150,542.25,154,548.25,158,542.25,154,536.25\" style=\"stroke: #A80036; stroke-width: 1.0;\"/><text fill=\"#000000\" font-family=\"sans-serif\" font-size=\"13\" lengthAdjust=\"spacingAndGlyphs\" textLength=\"7\" x=\"155\" y=\"579.0669\">y</text></a><!--MD5=[23ac544a70576c3e717098101004234c]\n",
       "reverse link E9 to E10--><a href=\"psysml:4b97f70b-21b5-47d0-9b80-bf68f1206e68\" target=\"_top\" title=\"psysml:4b97f70b-21b5-47d0-9b80-bf68f1206e68\" xlink:actuate=\"onRequest\" xlink:href=\"psysml:4b97f70b-21b5-47d0-9b80-bf68f1206e68\" xlink:show=\"new\" xlink:title=\"psysml:4b97f70b-21b5-47d0-9b80-bf68f1206e68\" xlink:type=\"simple\"><path d=\"M104.95,98.49 C95.61,114.92 84.7,134.11 76.81,148 \" fill=\"none\" id=\"E9&lt;-E10\" style=\"stroke: #A80036; stroke-width: 1.0;\"/><polygon fill=\"#FFFFFF\" points=\"111.41,87.13,104.9664,90.3672,105.4762,97.5603,111.9199,94.3231,111.41,87.13\" style=\"stroke: #A80036; stroke-width: 1.0;\"/><text fill=\"#000000\" font-family=\"sans-serif\" font-size=\"13\" lengthAdjust=\"spacingAndGlyphs\" textLength=\"8\" x=\"70.8104\" y=\"137.0083\">1</text></a><!--MD5=[feeac5eb423634930294aa81f2d25a4c]\n",
       "link E10 to E3--><a href=\"psysml:890b43d2-a44a-4df9-b863-0c7f323950a1\" target=\"_top\" title=\"psysml:890b43d2-a44a-4df9-b863-0c7f323950a1\" xlink:actuate=\"onRequest\" xlink:href=\"psysml:890b43d2-a44a-4df9-b863-0c7f323950a1\" xlink:show=\"new\" xlink:title=\"psysml:890b43d2-a44a-4df9-b863-0c7f323950a1\" xlink:type=\"simple\"><path d=\"M85.86,188.09 C99.68,201.37 118.47,219.43 134.69,235.02 \" fill=\"none\" id=\"E10-&gt;E3\" style=\"stroke: #A80036; stroke-width: 1.0;\"/><polygon fill=\"#FFFFFF\" points=\"149.2,248.97,130.6476,240.8578,140.3451,230.7604,149.2,248.97\" style=\"stroke: #A80036; stroke-width: 1.0;\"/><ellipse cx=\"127.9219\" cy=\"235.467\" fill=\"#A80036\" rx=\"2\" ry=\"2\" style=\"stroke: #A80036; stroke-width: 1.0;\"/><ellipse cx=\"134.8487\" cy=\"228.2546\" fill=\"#A80036\" rx=\"2\" ry=\"2\" style=\"stroke: #A80036; stroke-width: 1.0;\"/></a><!--MD5=[1fc04a95fd77ad5ce46c1a3027516051]\n",
       "reverse link E9 to E11--><a href=\"psysml:75cdd26f-47cf-45db-b14e-ba01ceb3edc6\" target=\"_top\" title=\"psysml:75cdd26f-47cf-45db-b14e-ba01ceb3edc6\" xlink:actuate=\"onRequest\" xlink:href=\"psysml:75cdd26f-47cf-45db-b14e-ba01ceb3edc6\" xlink:show=\"new\" xlink:title=\"psysml:75cdd26f-47cf-45db-b14e-ba01ceb3edc6\" xlink:type=\"simple\"><path d=\"M139.2,99.45 C146.35,115.67 154.61,134.38 160.62,148 \" fill=\"none\" id=\"E9&lt;-E11\" style=\"stroke: #A80036; stroke-width: 1.0;\"/><polygon fill=\"#FFFFFF\" points=\"133.76,87.13,132.5217,94.234,138.603,98.1093,139.8413,91.0053,133.76,87.13\" style=\"stroke: #A80036; stroke-width: 1.0;\"/><text fill=\"#000000\" font-family=\"sans-serif\" font-size=\"13\" lengthAdjust=\"spacingAndGlyphs\" textLength=\"8\" x=\"148.9834\" y=\"137.0083\">1</text></a><!--MD5=[0517f1ce58c4d5483948f93845c45e26]\n",
       "link E11 to E3--><a href=\"psysml:92dee77c-180b-445a-a05e-737a71661cde\" target=\"_top\" title=\"psysml:92dee77c-180b-445a-a05e-737a71661cde\" xlink:actuate=\"onRequest\" xlink:href=\"psysml:92dee77c-180b-445a-a05e-737a71661cde\" xlink:show=\"new\" xlink:title=\"psysml:92dee77c-180b-445a-a05e-737a71661cde\" xlink:type=\"simple\"><path d=\"M169,188.09 C169,199.59 169,214.68 169,228.63 \" fill=\"none\" id=\"E11-&gt;E3\" style=\"stroke: #A80036; stroke-width: 1.0;\"/><polygon fill=\"#FFFFFF\" points=\"169,248.97,162,229.97,176,229.97,169,248.97\" style=\"stroke: #A80036; stroke-width: 1.0;\"/><ellipse cx=\"164\" cy=\"224.27\" fill=\"#A80036\" rx=\"2\" ry=\"2\" style=\"stroke: #A80036; stroke-width: 1.0;\"/><ellipse cx=\"174\" cy=\"224.27\" fill=\"#A80036\" rx=\"2\" ry=\"2\" style=\"stroke: #A80036; stroke-width: 1.0;\"/></a><!--MD5=[f83ed882691b09b329f4d445cd215be8]\n",
       "@startuml\r\n",
       " \r\n",
       "package \"ItemTest\" as E1  [[psysml:8469bc55-64be-4e75-90cd-bb271a7bb256 ]]  {\r\n",
       "comp usage \"f: A \" as E2 << << (P,limegreen) >> [[psysml:6cbf61b0-82f0-477a-9e61-503ee7ef8ab3 ]] {\r\n",
       "}\r\n",
       "comp def \"A\" as E3 << << (B,green) >> [[psysml:73e4759d-5191-4c8c-b634-f2bc1b43e3a3 ]] {\r\n",
       "}\r\n",
       "comp usage \"b: B \" as E4 << << (P,limegreen) >> [[psysml:22dedc78-8a6f-47e7-a1b3-f5299f454177 ]] {\r\n",
       "}\r\n",
       "comp usage \"c: C \" as E5 << << (P,limegreen) part>> [[psysml:d5b518cb-4e9d-48f6-86e4-811292cf7103 ]] {\r\n",
       "}\r\n",
       "comp def \"<i>B</i>\" as E6 << << (B,green) >> [[psysml:7fb13a86-95b9-42ac-ac4a-d3cbb2045ff7 ]] {\r\n",
       "}\r\n",
       "comp usage \"<i>a</i>: A \" as E7 << << (P,limegreen) part>> [[psysml:b4d408e4-c35f-4021-90a0-c54c4c634ca8 ]] {\r\n",
       "}\r\n",
       "comp def \"C\" as E8 << << (B,green) >> [[psysml:53104107-4f2e-4822-81be-c90629c3152e ]] {\r\n",
       "}\r\n",
       "comp def \"P\" as E9 << <<(D,brown) port  def>> [[psysml:96c92d64-4061-42f0-9733-a4ee9bfee5f1 ]] {\r\n",
       "}\r\n",
       "comp usage \"a1: A \" as E10 << << (P,limegreen) >> [[psysml:21151bb4-f160-49b9-964a-222b3c2d7b6c ]] {\r\n",
       "}\r\n",
       "comp usage \"a2: A \" as E11 << << (P,limegreen) >> [[psysml:048eeab4-ab84-4a9d-8dc8-2b5e8335cff3 ]] {\r\n",
       "}\r\n",
       "}\r\n",
       "E2 - -:|> E3 [[psysml:e70b16f9-62c0-40f3-a087-aa973c352c22 ]] \r\n",
       "E3 *- - \"1\"E4 [[psysml:f5164247-58fc-45c1-bba3-2edebb195fbd ]] \r\n",
       "E3 o- - \"1\"E5 [[psysml:0e10322d-8096-4d1c-ad13-bcf359abd35a ]] \r\n",
       "E4 - -:|> E6 [[psysml:cd799d59-974c-4cd5-b2a4-5d2e853ea550 ]] \r\n",
       "E6 *- - \"1\"E7 [[psysml:f66c29ee-70ba-402f-a3a4-159df7b46130 ]] \r\n",
       "E7 - -:|> E3 [[psysml:4b14459c-c0ea-47eb-ae95-5bdd156140b8 ]] \r\n",
       "E5 - -:|> E8 [[psysml:7f99918d-ef62-497c-9b9a-668f89d0bef4 ]] \r\n",
       "E8 o- - E3 [[psysml:8abdebaf-64f0-40cf-a780-4a21932975d8 ]] : y\r\n",
       "E8 o- - E6 [[psysml:8abdebaf-64f0-40cf-a780-4a21932975d8 ]] : y\r\n",
       "E9 o- - \"1\"E10 [[psysml:4b97f70b-21b5-47d0-9b80-bf68f1206e68 ]] \r\n",
       "E10 - -:|> E3 [[psysml:890b43d2-a44a-4df9-b863-0c7f323950a1 ]] \r\n",
       "E9 o- - \"1\"E11 [[psysml:75cdd26f-47cf-45db-b14e-ba01ceb3edc6 ]] \r\n",
       "E11 - -:|> E3 [[psysml:92dee77c-180b-445a-a05e-737a71661cde ]] \r\n",
       "@enduml\r\n",
       "\n",
       "PlantUML version 1.2020.13(Sat Jun 13 12:26:38 UTC 2020)\n",
       "(EPL source distribution)\n",
       "Java Runtime: OpenJDK Runtime Environment\n",
       "JVM: OpenJDK 64-Bit Server VM\n",
       "Default Encoding: UTF-8\n",
       "Language: en\n",
       "Country: null\n",
       "--></g></svg>"
      ]
     },
     "execution_count": 30,
     "metadata": {},
     "output_type": "execute_result"
    }
   ],
   "source": [
    "%viz --style=\"PLANTUML\" --view=\"Default\" \"ItemTest\""
   ]
  },
  {
   "cell_type": "code",
   "execution_count": 31,
   "id": "14b36ab7",
   "metadata": {
    "execution": {
     "iopub.execute_input": "2022-03-21T07:49:11.068006Z",
     "iopub.status.busy": "2022-03-21T07:49:11.067347Z",
     "iopub.status.idle": "2022-03-21T07:49:11.111261Z",
     "shell.execute_reply": "2022-03-21T07:49:11.110817Z"
    }
   },
   "outputs": [
    {
     "data": {
      "image/svg+xml": [
       "<?xml version=\"1.0\" encoding=\"UTF-8\" standalone=\"no\"?><svg xmlns=\"http://www.w3.org/2000/svg\" xmlns:xlink=\"http://www.w3.org/1999/xlink\" contentScriptType=\"application/ecmascript\" contentStyleType=\"text/css\" height=\"788px\" preserveAspectRatio=\"none\" style=\"width:332px;height:788px;\" version=\"1.1\" viewBox=\"0 0 332 788\" width=\"332px\" zoomAndPan=\"magnify\"><defs><filter height=\"300%\" id=\"f1uafgf2r9adsz\" width=\"300%\" x=\"-1\" y=\"-1\"><feGaussianBlur result=\"blurOut\" stdDeviation=\"2.0\"/><feColorMatrix in=\"blurOut\" result=\"blurOut2\" type=\"matrix\" values=\"0 0 0 0 0 0 0 0 0 0 0 0 0 0 0 0 0 0 .4 0\"/><feOffset dx=\"4.0\" dy=\"4.0\" in=\"blurOut2\" result=\"blurOut3\"/><feBlend in=\"SourceGraphic\" in2=\"blurOut3\" mode=\"normal\"/></filter></defs><g><!--MD5=[fbc87193dbaf4d95561dea2c320d4a47]\n",
       "cluster E1--><a href=\"psysml:8469bc55-64be-4e75-90cd-bb271a7bb256\" target=\"_top\" title=\"psysml:8469bc55-64be-4e75-90cd-bb271a7bb256\" xlink:actuate=\"onRequest\" xlink:href=\"psysml:8469bc55-64be-4e75-90cd-bb271a7bb256\" xlink:show=\"new\" xlink:title=\"psysml:8469bc55-64be-4e75-90cd-bb271a7bb256\" xlink:type=\"simple\"><polygon fill=\"#FFFFFF\" filter=\"url(#f1uafgf2r9adsz)\" points=\"16,6,83,6,90,28.2969,310,28.2969,310,776,16,776,16,6\" style=\"stroke: #000000; stroke-width: 1.5;\"/><line style=\"stroke: #000000; stroke-width: 1.5;\" x1=\"16\" x2=\"90\" y1=\"28.2969\" y2=\"28.2969\"/><text fill=\"#000000\" font-family=\"sans-serif\" font-size=\"14\" font-weight=\"bold\" lengthAdjust=\"spacingAndGlyphs\" textLength=\"61\" x=\"20\" y=\"20.9951\">ItemTest</text></a><!--MD5=[b4997ac47864f28c2f74865a473b2911]\n",
       "class E2--><a href=\"psysml:6cbf61b0-82f0-477a-9e61-503ee7ef8ab3\" target=\"_top\" title=\"psysml:6cbf61b0-82f0-477a-9e61-503ee7ef8ab3\" xlink:actuate=\"onRequest\" xlink:href=\"psysml:6cbf61b0-82f0-477a-9e61-503ee7ef8ab3\" xlink:show=\"new\" xlink:title=\"psysml:6cbf61b0-82f0-477a-9e61-503ee7ef8ab3\" xlink:type=\"simple\"><rect fill=\"#FEFECE\" filter=\"url(#f1uafgf2r9adsz)\" height=\"40\" id=\"E2\" rx=\"10\" ry=\"10\" style=\"stroke: #A80036; stroke-width: 1.5;\" width=\"56\" x=\"238\" y=\"148\"/><ellipse cx=\"253\" cy=\"164\" fill=\"#32CD32\" rx=\"11\" ry=\"11\" style=\"stroke: #A80036; stroke-width: 1.0;\"/><path d=\"M249.8125,169 L249.8125,158.4063 L253.4219,158.4063 Q254.6406,158.4063 255.4375,158.8438 Q256.2344,159.2656 256.6094,159.9688 Q257,160.6719 257,161.5156 Q257,162.3594 256.625,163.0469 Q256.2656,163.7344 255.4688,164.1563 Q254.6875,164.5625 253.5,164.5625 L251.7656,164.5625 L251.7656,169 L249.8125,169 Z M251.7656,162.9688 L253.375,162.9688 Q254.1875,162.9688 254.6094,162.5625 Q255.0313,162.1563 255.0313,161.5156 Q255.0313,160.8906 254.6094,160.4844 Q254.1875,160.0781 253.3906,160.0781 L251.7656,160.0781 L251.7656,162.9688 Z \"/><text fill=\"#000000\" font-family=\"sans-serif\" font-size=\"12\" lengthAdjust=\"spacingAndGlyphs\" textLength=\"20\" x=\"267\" y=\"168.1543\">f: A</text><line style=\"stroke: #A80036; stroke-width: 1.5;\" x1=\"239\" x2=\"293\" y1=\"180\" y2=\"180\"/></a><!--MD5=[09b614a08d8cba4a07c9adeb5e0fee81]\n",
       "class E3--><a href=\"psysml:73e4759d-5191-4c8c-b634-f2bc1b43e3a3\" target=\"_top\" title=\"psysml:73e4759d-5191-4c8c-b634-f2bc1b43e3a3\" xlink:actuate=\"onRequest\" xlink:href=\"psysml:73e4759d-5191-4c8c-b634-f2bc1b43e3a3\" xlink:show=\"new\" xlink:title=\"psysml:73e4759d-5191-4c8c-b634-f2bc1b43e3a3\" xlink:type=\"simple\"><rect fill=\"#FEFECE\" filter=\"url(#f1uafgf2r9adsz)\" height=\"40\" id=\"E3\" style=\"stroke: #A80036; stroke-width: 1.5;\" width=\"40\" x=\"149\" y=\"249\"/><ellipse cx=\"164\" cy=\"265\" fill=\"#008000\" rx=\"11\" ry=\"11\" style=\"stroke: #A80036; stroke-width: 1.0;\"/><path d=\"M160.875,270 L160.875,259.4063 L164.1094,259.4063 Q166.0156,259.4063 166.9219,260.1563 Q167.8438,260.9063 167.8438,262.0781 Q167.8438,262.7656 167.4531,263.4219 Q167.0781,264.0781 166.3594,264.375 Q167.2188,264.75 167.7344,265.4375 Q168.25,266.125 168.25,266.9375 Q168.25,268.3125 167.2188,269.1563 Q166.2031,270 164.0938,270 L160.875,270 Z M162.7969,263.6406 L163.9531,263.6406 Q165.0781,263.6406 165.4844,263.2656 Q165.9063,262.875 165.9063,262.25 Q165.9063,261.6719 165.4844,261.3125 Q165.0625,260.9531 164.125,260.9531 L162.7969,260.9531 L162.7969,263.6406 Z M162.7969,268.4219 L164.2969,268.4219 Q165.2031,268.4219 165.7344,268.0313 Q166.2656,267.6406 166.2656,266.8906 Q166.2656,266.125 165.7656,265.6563 Q165.2656,265.1719 164,265.1719 L162.7969,265.1719 L162.7969,268.4219 Z \"/><text fill=\"#000000\" font-family=\"sans-serif\" font-size=\"12\" lengthAdjust=\"spacingAndGlyphs\" textLength=\"8\" x=\"178\" y=\"269.1543\">A</text><line style=\"stroke: #A80036; stroke-width: 1.5;\" x1=\"150\" x2=\"188\" y1=\"281\" y2=\"281\"/></a><!--MD5=[ebbe1d658d1005bcc118a6aa81145e00]\n",
       "class E4--><a href=\"psysml:22dedc78-8a6f-47e7-a1b3-f5299f454177\" target=\"_top\" title=\"psysml:22dedc78-8a6f-47e7-a1b3-f5299f454177\" xlink:actuate=\"onRequest\" xlink:href=\"psysml:22dedc78-8a6f-47e7-a1b3-f5299f454177\" xlink:show=\"new\" xlink:title=\"psysml:22dedc78-8a6f-47e7-a1b3-f5299f454177\" xlink:type=\"simple\"><rect fill=\"#FEFECE\" filter=\"url(#f1uafgf2r9adsz)\" height=\"40\" id=\"E4\" rx=\"10\" ry=\"10\" style=\"stroke: #A80036; stroke-width: 1.5;\" width=\"60\" x=\"49\" y=\"426\"/><ellipse cx=\"64\" cy=\"442\" fill=\"#32CD32\" rx=\"11\" ry=\"11\" style=\"stroke: #A80036; stroke-width: 1.0;\"/><path d=\"M60.8125,447 L60.8125,436.4063 L64.4219,436.4063 Q65.6406,436.4063 66.4375,436.8438 Q67.2344,437.2656 67.6094,437.9688 Q68,438.6719 68,439.5156 Q68,440.3594 67.625,441.0469 Q67.2656,441.7344 66.4688,442.1563 Q65.6875,442.5625 64.5,442.5625 L62.7656,442.5625 L62.7656,447 L60.8125,447 Z M62.7656,440.9688 L64.375,440.9688 Q65.1875,440.9688 65.6094,440.5625 Q66.0313,440.1563 66.0313,439.5156 Q66.0313,438.8906 65.6094,438.4844 Q65.1875,438.0781 64.3906,438.0781 L62.7656,438.0781 L62.7656,440.9688 Z \"/><text fill=\"#000000\" font-family=\"sans-serif\" font-size=\"12\" lengthAdjust=\"spacingAndGlyphs\" textLength=\"24\" x=\"78\" y=\"446.1543\">b: B</text><line style=\"stroke: #A80036; stroke-width: 1.5;\" x1=\"50\" x2=\"108\" y1=\"458\" y2=\"458\"/></a><!--MD5=[270fce915f116d4de14055a7c1d9a0f3]\n",
       "class E5--><a href=\"psysml:d5b518cb-4e9d-48f6-86e4-811292cf7103\" target=\"_top\" title=\"psysml:d5b518cb-4e9d-48f6-86e4-811292cf7103\" xlink:actuate=\"onRequest\" xlink:href=\"psysml:d5b518cb-4e9d-48f6-86e4-811292cf7103\" xlink:show=\"new\" xlink:title=\"psysml:d5b518cb-4e9d-48f6-86e4-811292cf7103\" xlink:type=\"simple\"><rect fill=\"#FEFECE\" filter=\"url(#f1uafgf2r9adsz)\" height=\"45.9375\" id=\"E5\" rx=\"10\" ry=\"10\" style=\"stroke: #A80036; stroke-width: 1.5;\" width=\"68\" x=\"176\" y=\"350\"/><ellipse cx=\"191\" cy=\"368.9688\" fill=\"#32CD32\" rx=\"11\" ry=\"11\" style=\"stroke: #A80036; stroke-width: 1.0;\"/><path d=\"M187.8125,373.9688 L187.8125,363.375 L191.4219,363.375 Q192.6406,363.375 193.4375,363.8125 Q194.2344,364.2344 194.6094,364.9375 Q195,365.6406 195,366.4844 Q195,367.3281 194.625,368.0156 Q194.2656,368.7031 193.4688,369.125 Q192.6875,369.5313 191.5,369.5313 L189.7656,369.5313 L189.7656,373.9688 L187.8125,373.9688 Z M189.7656,367.9375 L191.375,367.9375 Q192.1875,367.9375 192.6094,367.5313 Q193.0313,367.125 193.0313,366.4844 Q193.0313,365.8594 192.6094,365.4531 Q192.1875,365.0469 191.3906,365.0469 L189.7656,365.0469 L189.7656,367.9375 Z \"/><text fill=\"#000000\" font-family=\"sans-serif\" font-size=\"12\" font-style=\"italic\" lengthAdjust=\"spacingAndGlyphs\" textLength=\"40\" x=\"203\" y=\"366.1387\">«part»</text><text fill=\"#000000\" font-family=\"sans-serif\" font-size=\"12\" lengthAdjust=\"spacingAndGlyphs\" textLength=\"23\" x=\"209.5\" y=\"380.1074\">c: C</text><line style=\"stroke: #A80036; stroke-width: 1.5;\" x1=\"177\" x2=\"243\" y1=\"387.9375\" y2=\"387.9375\"/></a><!--MD5=[60a26617385b1d2d0262a64233df1f8d]\n",
       "class E6--><a href=\"psysml:7fb13a86-95b9-42ac-ac4a-d3cbb2045ff7\" target=\"_top\" title=\"psysml:7fb13a86-95b9-42ac-ac4a-d3cbb2045ff7\" xlink:actuate=\"onRequest\" xlink:href=\"psysml:7fb13a86-95b9-42ac-ac4a-d3cbb2045ff7\" xlink:show=\"new\" xlink:title=\"psysml:7fb13a86-95b9-42ac-ac4a-d3cbb2045ff7\" xlink:type=\"simple\"><rect fill=\"#FEFECE\" filter=\"url(#f1uafgf2r9adsz)\" height=\"40\" id=\"E6\" style=\"stroke: #A80036; stroke-width: 1.5;\" width=\"40\" x=\"134\" y=\"613\"/><ellipse cx=\"149\" cy=\"629\" fill=\"#008000\" rx=\"11\" ry=\"11\" style=\"stroke: #A80036; stroke-width: 1.0;\"/><path d=\"M145.875,634 L145.875,623.4063 L149.1094,623.4063 Q151.0156,623.4063 151.9219,624.1563 Q152.8438,624.9063 152.8438,626.0781 Q152.8438,626.7656 152.4531,627.4219 Q152.0781,628.0781 151.3594,628.375 Q152.2188,628.75 152.7344,629.4375 Q153.25,630.125 153.25,630.9375 Q153.25,632.3125 152.2188,633.1563 Q151.2031,634 149.0938,634 L145.875,634 Z M147.7969,627.6406 L148.9531,627.6406 Q150.0781,627.6406 150.4844,627.2656 Q150.9063,626.875 150.9063,626.25 Q150.9063,625.6719 150.4844,625.3125 Q150.0625,624.9531 149.125,624.9531 L147.7969,624.9531 L147.7969,627.6406 Z M147.7969,632.4219 L149.2969,632.4219 Q150.2031,632.4219 150.7344,632.0313 Q151.2656,631.6406 151.2656,630.8906 Q151.2656,630.125 150.7656,629.6563 Q150.2656,629.1719 149,629.1719 L147.7969,629.1719 L147.7969,632.4219 Z \"/><text fill=\"#000000\" font-family=\"sans-serif\" font-size=\"12\" font-style=\"italic\" lengthAdjust=\"spacingAndGlyphs\" textLength=\"8\" x=\"163\" y=\"633.1543\">B</text><line style=\"stroke: #A80036; stroke-width: 1.5;\" x1=\"135\" x2=\"173\" y1=\"645\" y2=\"645\"/></a><!--MD5=[2156ba9850f5573cc1fc38a6a4b2f02b]\n",
       "class E7--><a href=\"psysml:b4d408e4-c35f-4021-90a0-c54c4c634ca8\" target=\"_top\" title=\"psysml:b4d408e4-c35f-4021-90a0-c54c4c634ca8\" xlink:actuate=\"onRequest\" xlink:href=\"psysml:b4d408e4-c35f-4021-90a0-c54c4c634ca8\" xlink:show=\"new\" xlink:title=\"psysml:b4d408e4-c35f-4021-90a0-c54c4c634ca8\" xlink:type=\"simple\"><rect fill=\"#FEFECE\" filter=\"url(#f1uafgf2r9adsz)\" height=\"45.9375\" id=\"E7\" rx=\"10\" ry=\"10\" style=\"stroke: #A80036; stroke-width: 1.5;\" width=\"68\" x=\"208\" y=\"714\"/><ellipse cx=\"223\" cy=\"732.9688\" fill=\"#32CD32\" rx=\"11\" ry=\"11\" style=\"stroke: #A80036; stroke-width: 1.0;\"/><path d=\"M219.8125,737.9688 L219.8125,727.375 L223.4219,727.375 Q224.6406,727.375 225.4375,727.8125 Q226.2344,728.2344 226.6094,728.9375 Q227,729.6406 227,730.4844 Q227,731.3281 226.625,732.0156 Q226.2656,732.7031 225.4688,733.125 Q224.6875,733.5313 223.5,733.5313 L221.7656,733.5313 L221.7656,737.9688 L219.8125,737.9688 Z M221.7656,731.9375 L223.375,731.9375 Q224.1875,731.9375 224.6094,731.5313 Q225.0313,731.125 225.0313,730.4844 Q225.0313,729.8594 224.6094,729.4531 Q224.1875,729.0469 223.3906,729.0469 L221.7656,729.0469 L221.7656,731.9375 Z \"/><text fill=\"#000000\" font-family=\"sans-serif\" font-size=\"12\" font-style=\"italic\" lengthAdjust=\"spacingAndGlyphs\" textLength=\"40\" x=\"235\" y=\"730.1387\">«part»</text><text fill=\"#000000\" font-family=\"sans-serif\" font-size=\"12\" font-style=\"italic\" lengthAdjust=\"spacingAndGlyphs\" textLength=\"8\" x=\"241\" y=\"744.1074\">a</text><text fill=\"#000000\" font-family=\"sans-serif\" font-size=\"12\" lengthAdjust=\"spacingAndGlyphs\" textLength=\"16\" x=\"249\" y=\"744.1074\">: A</text><line style=\"stroke: #A80036; stroke-width: 1.5;\" x1=\"209\" x2=\"275\" y1=\"751.9375\" y2=\"751.9375\"/></a><!--MD5=[b9389687b975829384b498ac4b7476b2]\n",
       "class E8--><a href=\"psysml:53104107-4f2e-4822-81be-c90629c3152e\" target=\"_top\" title=\"psysml:53104107-4f2e-4822-81be-c90629c3152e\" xlink:actuate=\"onRequest\" xlink:href=\"psysml:53104107-4f2e-4822-81be-c90629c3152e\" xlink:show=\"new\" xlink:title=\"psysml:53104107-4f2e-4822-81be-c90629c3152e\" xlink:type=\"simple\"><rect fill=\"#FEFECE\" filter=\"url(#f1uafgf2r9adsz)\" height=\"40\" id=\"E8\" style=\"stroke: #A80036; stroke-width: 1.5;\" width=\"40\" x=\"134\" y=\"496\"/><ellipse cx=\"149\" cy=\"512\" fill=\"#008000\" rx=\"11\" ry=\"11\" style=\"stroke: #A80036; stroke-width: 1.0;\"/><path d=\"M145.875,517 L145.875,506.4063 L149.1094,506.4063 Q151.0156,506.4063 151.9219,507.1563 Q152.8438,507.9063 152.8438,509.0781 Q152.8438,509.7656 152.4531,510.4219 Q152.0781,511.0781 151.3594,511.375 Q152.2188,511.75 152.7344,512.4375 Q153.25,513.125 153.25,513.9375 Q153.25,515.3125 152.2188,516.1563 Q151.2031,517 149.0938,517 L145.875,517 Z M147.7969,510.6406 L148.9531,510.6406 Q150.0781,510.6406 150.4844,510.2656 Q150.9063,509.875 150.9063,509.25 Q150.9063,508.6719 150.4844,508.3125 Q150.0625,507.9531 149.125,507.9531 L147.7969,507.9531 L147.7969,510.6406 Z M147.7969,515.4219 L149.2969,515.4219 Q150.2031,515.4219 150.7344,515.0313 Q151.2656,514.6406 151.2656,513.8906 Q151.2656,513.125 150.7656,512.6563 Q150.2656,512.1719 149,512.1719 L147.7969,512.1719 L147.7969,515.4219 Z \"/><text fill=\"#000000\" font-family=\"sans-serif\" font-size=\"12\" lengthAdjust=\"spacingAndGlyphs\" textLength=\"8\" x=\"163\" y=\"516.1543\">C</text><line style=\"stroke: #A80036; stroke-width: 1.5;\" x1=\"135\" x2=\"173\" y1=\"528\" y2=\"528\"/></a><!--MD5=[fd4143e9d270a159db93a4ea2a975926]\n",
       "class E9--><a href=\"psysml:96c92d64-4061-42f0-9733-a4ee9bfee5f1\" target=\"_top\" title=\"psysml:96c92d64-4061-42f0-9733-a4ee9bfee5f1\" xlink:actuate=\"onRequest\" xlink:href=\"psysml:96c92d64-4061-42f0-9733-a4ee9bfee5f1\" xlink:show=\"new\" xlink:title=\"psysml:96c92d64-4061-42f0-9733-a4ee9bfee5f1\" xlink:type=\"simple\"><rect fill=\"#FEFECE\" filter=\"url(#f1uafgf2r9adsz)\" height=\"45.9375\" id=\"E9\" style=\"stroke: #A80036; stroke-width: 1.5;\" width=\"96\" x=\"76\" y=\"41\"/><ellipse cx=\"91\" cy=\"59.9688\" fill=\"#A52A2A\" rx=\"11\" ry=\"11\" style=\"stroke: #A80036; stroke-width: 1.0;\"/><path d=\"M88.2188,64.9688 L88.2188,54.375 L90.9531,54.375 Q92.3438,54.375 93.1094,54.7656 Q93.8906,55.1406 94.4219,55.8438 Q94.9531,56.5469 95.25,57.5469 Q95.5469,58.5313 95.5469,59.75 Q95.5,61.3438 95,62.5313 Q94.5156,63.7031 93.4688,64.3438 Q92.4375,64.9688 90.75,64.9688 L88.2188,64.9688 Z M90.0781,63.4688 L90.7031,63.4688 Q91.7813,63.4688 92.4375,63.0156 Q93.0938,62.5625 93.375,61.7344 Q93.6719,60.8906 93.6563,59.7656 Q93.6563,58.5938 93.4063,57.7344 Q93.1563,56.8594 92.5469,56.3906 Q91.9375,55.9063 90.8906,55.9063 L90.0781,55.9063 L90.0781,63.4688 Z \"/><text fill=\"#000000\" font-family=\"sans-serif\" font-size=\"12\" font-style=\"italic\" lengthAdjust=\"spacingAndGlyphs\" textLength=\"68\" x=\"103\" y=\"57.1387\">«port  def»</text><text fill=\"#000000\" font-family=\"sans-serif\" font-size=\"12\" lengthAdjust=\"spacingAndGlyphs\" textLength=\"8\" x=\"133\" y=\"71.1074\">P</text><line style=\"stroke: #A80036; stroke-width: 1.5;\" x1=\"77\" x2=\"171\" y1=\"78.9375\" y2=\"78.9375\"/></a><!--MD5=[96f4274e9e20536e775497830990834d]\n",
       "class E10--><a href=\"psysml:21151bb4-f160-49b9-964a-222b3c2d7b6c\" target=\"_top\" title=\"psysml:21151bb4-f160-49b9-964a-222b3c2d7b6c\" xlink:actuate=\"onRequest\" xlink:href=\"psysml:21151bb4-f160-49b9-964a-222b3c2d7b6c\" xlink:show=\"new\" xlink:title=\"psysml:21151bb4-f160-49b9-964a-222b3c2d7b6c\" xlink:type=\"simple\"><rect fill=\"#FEFECE\" filter=\"url(#f1uafgf2r9adsz)\" height=\"40\" id=\"E10\" rx=\"10\" ry=\"10\" style=\"stroke: #A80036; stroke-width: 1.5;\" width=\"68\" x=\"32\" y=\"148\"/><ellipse cx=\"47\" cy=\"164\" fill=\"#32CD32\" rx=\"11\" ry=\"11\" style=\"stroke: #A80036; stroke-width: 1.0;\"/><path d=\"M43.8125,169 L43.8125,158.4063 L47.4219,158.4063 Q48.6406,158.4063 49.4375,158.8438 Q50.2344,159.2656 50.6094,159.9688 Q51,160.6719 51,161.5156 Q51,162.3594 50.625,163.0469 Q50.2656,163.7344 49.4688,164.1563 Q48.6875,164.5625 47.5,164.5625 L45.7656,164.5625 L45.7656,169 L43.8125,169 Z M45.7656,162.9688 L47.375,162.9688 Q48.1875,162.9688 48.6094,162.5625 Q49.0313,162.1563 49.0313,161.5156 Q49.0313,160.8906 48.6094,160.4844 Q48.1875,160.0781 47.3906,160.0781 L45.7656,160.0781 L45.7656,162.9688 Z \"/><text fill=\"#000000\" font-family=\"sans-serif\" font-size=\"12\" lengthAdjust=\"spacingAndGlyphs\" textLength=\"32\" x=\"61\" y=\"168.1543\">a1: A</text><line style=\"stroke: #A80036; stroke-width: 1.5;\" x1=\"33\" x2=\"99\" y1=\"180\" y2=\"180\"/></a><!--MD5=[1dd1bfd58a279cf63c5f349dbc8fc6a1]\n",
       "class E11--><a href=\"psysml:048eeab4-ab84-4a9d-8dc8-2b5e8335cff3\" target=\"_top\" title=\"psysml:048eeab4-ab84-4a9d-8dc8-2b5e8335cff3\" xlink:actuate=\"onRequest\" xlink:href=\"psysml:048eeab4-ab84-4a9d-8dc8-2b5e8335cff3\" xlink:show=\"new\" xlink:title=\"psysml:048eeab4-ab84-4a9d-8dc8-2b5e8335cff3\" xlink:type=\"simple\"><rect fill=\"#FEFECE\" filter=\"url(#f1uafgf2r9adsz)\" height=\"40\" id=\"E11\" rx=\"10\" ry=\"10\" style=\"stroke: #A80036; stroke-width: 1.5;\" width=\"68\" x=\"135\" y=\"148\"/><ellipse cx=\"150\" cy=\"164\" fill=\"#32CD32\" rx=\"11\" ry=\"11\" style=\"stroke: #A80036; stroke-width: 1.0;\"/><path d=\"M146.8125,169 L146.8125,158.4063 L150.4219,158.4063 Q151.6406,158.4063 152.4375,158.8438 Q153.2344,159.2656 153.6094,159.9688 Q154,160.6719 154,161.5156 Q154,162.3594 153.625,163.0469 Q153.2656,163.7344 152.4688,164.1563 Q151.6875,164.5625 150.5,164.5625 L148.7656,164.5625 L148.7656,169 L146.8125,169 Z M148.7656,162.9688 L150.375,162.9688 Q151.1875,162.9688 151.6094,162.5625 Q152.0313,162.1563 152.0313,161.5156 Q152.0313,160.8906 151.6094,160.4844 Q151.1875,160.0781 150.3906,160.0781 L148.7656,160.0781 L148.7656,162.9688 Z \"/><text fill=\"#000000\" font-family=\"sans-serif\" font-size=\"12\" lengthAdjust=\"spacingAndGlyphs\" textLength=\"32\" x=\"164\" y=\"168.1543\">a2: A</text><line style=\"stroke: #A80036; stroke-width: 1.5;\" x1=\"136\" x2=\"202\" y1=\"180\" y2=\"180\"/></a><!--MD5=[2720a5a1f2c3fca2055b230370638851]\n",
       "link E2 to E3--><a href=\"psysml:e70b16f9-62c0-40f3-a087-aa973c352c22\" target=\"_top\" title=\"psysml:e70b16f9-62c0-40f3-a087-aa973c352c22\" xlink:actuate=\"onRequest\" xlink:href=\"psysml:e70b16f9-62c0-40f3-a087-aa973c352c22\" xlink:show=\"new\" xlink:title=\"psysml:e70b16f9-62c0-40f3-a087-aa973c352c22\" xlink:type=\"simple\"><path d=\"M247.3,188.09 C234.42,201.24 216.95,219.06 201.79,234.53 \" fill=\"none\" id=\"E2-&gt;E3\" style=\"stroke: #A80036; stroke-width: 1.0;\"/><polygon fill=\"#FFFFFF\" points=\"187.65,248.97,195.9397,230.4962,205.9437,240.2901,187.65,248.97\" style=\"stroke: #A80036; stroke-width: 1.0;\"/><ellipse cx=\"201.3564\" cy=\"227.8223\" fill=\"#A80036\" rx=\"2\" ry=\"2\" style=\"stroke: #A80036; stroke-width: 1.0;\"/><ellipse cx=\"208.5021\" cy=\"234.8179\" fill=\"#A80036\" rx=\"2\" ry=\"2\" style=\"stroke: #A80036; stroke-width: 1.0;\"/></a><!--MD5=[4672eba38e49728da53d11aeb285b987]\n",
       "reverse link E3 to E4--><a href=\"psysml:f5164247-58fc-45c1-bba3-2edebb195fbd\" target=\"_top\" title=\"psysml:f5164247-58fc-45c1-bba3-2edebb195fbd\" xlink:actuate=\"onRequest\" xlink:href=\"psysml:f5164247-58fc-45c1-bba3-2edebb195fbd\" xlink:show=\"new\" xlink:title=\"psysml:f5164247-58fc-45c1-bba3-2edebb195fbd\" xlink:type=\"simple\"><path d=\"M138.27,292.03 C120.72,306.42 100.07,326.8 89,350 C77.43,374.25 76.5,405.85 77.38,425.79 \" fill=\"none\" id=\"E3&lt;-E4\" style=\"stroke: #A80036; stroke-width: 1.0;\"/><polygon fill=\"#A80036\" points=\"148.68,283.88,141.4897,284.427,139.2291,291.2746,146.4194,290.7276,148.68,283.88\" style=\"stroke: #A80036; stroke-width: 1.0;\"/><text fill=\"#000000\" font-family=\"sans-serif\" font-size=\"13\" lengthAdjust=\"spacingAndGlyphs\" textLength=\"8\" x=\"67.7994\" y=\"415.0821\">1</text></a><!--MD5=[191cde3d490a3f6d7bb551fe3ddca469]\n",
       "reverse link E3 to E5--><a href=\"psysml:0e10322d-8096-4d1c-ad13-bcf359abd35a\" target=\"_top\" title=\"psysml:0e10322d-8096-4d1c-ad13-bcf359abd35a\" xlink:actuate=\"onRequest\" xlink:href=\"psysml:0e10322d-8096-4d1c-ad13-bcf359abd35a\" xlink:show=\"new\" xlink:title=\"psysml:0e10322d-8096-4d1c-ad13-bcf359abd35a\" xlink:type=\"simple\"><path d=\"M181.65,301.47 C187.92,317.08 195.36,335.57 201.04,349.7 \" fill=\"none\" id=\"E3&lt;-E5\" style=\"stroke: #A80036; stroke-width: 1.0;\"/><polygon fill=\"#FFFFFF\" points=\"176.71,289.19,175.2345,296.2485,181.1826,300.3253,182.6581,293.2668,176.71,289.19\" style=\"stroke: #A80036; stroke-width: 1.0;\"/><text fill=\"#000000\" font-family=\"sans-serif\" font-size=\"13\" lengthAdjust=\"spacingAndGlyphs\" textLength=\"8\" x=\"189.719\" y=\"338.8994\">1</text></a><!--MD5=[79568f1e445c3877b6a54524624ccc7d]\n",
       "link E4 to E6--><a href=\"psysml:cd799d59-974c-4cd5-b2a4-5d2e853ea550\" target=\"_top\" title=\"psysml:cd799d59-974c-4cd5-b2a4-5d2e853ea550\" xlink:actuate=\"onRequest\" xlink:href=\"psysml:cd799d59-974c-4cd5-b2a4-5d2e853ea550\" xlink:show=\"new\" xlink:title=\"psysml:cd799d59-974c-4cd5-b2a4-5d2e853ea550\" xlink:type=\"simple\"><path d=\"M86.74,466.1 C98.93,496.15 122.8,555.04 138.58,593.96 \" fill=\"none\" id=\"E4-&gt;E6\" style=\"stroke: #A80036; stroke-width: 1.0;\"/><polygon fill=\"#FFFFFF\" points=\"146.19,612.73,132.5666,597.7499,145.5417,592.4919,146.19,612.73\" style=\"stroke: #A80036; stroke-width: 1.0;\"/><ellipse cx=\"132.2794\" cy=\"591.7161\" fill=\"#A80036\" rx=\"2\" ry=\"2\" style=\"stroke: #A80036; stroke-width: 1.0;\"/><ellipse cx=\"141.5473\" cy=\"587.9604\" fill=\"#A80036\" rx=\"2\" ry=\"2\" style=\"stroke: #A80036; stroke-width: 1.0;\"/></a><!--MD5=[3f50a3473f1dfb74d3f76443e03635af]\n",
       "reverse link E6 to E7--><a href=\"psysml:f66c29ee-70ba-402f-a3a4-159df7b46130\" target=\"_top\" title=\"psysml:f66c29ee-70ba-402f-a3a4-159df7b46130\" xlink:actuate=\"onRequest\" xlink:href=\"psysml:f66c29ee-70ba-402f-a3a4-159df7b46130\" xlink:show=\"new\" xlink:title=\"psysml:f66c29ee-70ba-402f-a3a4-159df7b46130\" xlink:type=\"simple\"><path d=\"M179.15,663.15 C193.01,679.22 209.96,698.87 222.76,713.7 \" fill=\"none\" id=\"E6&lt;-E7\" style=\"stroke: #A80036; stroke-width: 1.0;\"/><polygon fill=\"#A80036\" points=\"170.55,653.19,171.4382,660.3462,178.3855,662.2787,177.4973,655.1225,170.55,653.19\" style=\"stroke: #A80036; stroke-width: 1.0;\"/><text fill=\"#000000\" font-family=\"sans-serif\" font-size=\"13\" lengthAdjust=\"spacingAndGlyphs\" textLength=\"8\" x=\"208.8047\" y=\"702.8994\">1</text></a><!--MD5=[14ccda38c055a5c0da953d572bc50960]\n",
       "link E7 to E3--><a href=\"psysml:4b14459c-c0ea-47eb-ae95-5bdd156140b8\" target=\"_top\" title=\"psysml:4b14459c-c0ea-47eb-ae95-5bdd156140b8\" xlink:actuate=\"onRequest\" xlink:href=\"psysml:4b14459c-c0ea-47eb-ae95-5bdd156140b8\" xlink:show=\"new\" xlink:title=\"psysml:4b14459c-c0ea-47eb-ae95-5bdd156140b8\" xlink:type=\"simple\"><path d=\"M255.5,713.79 C266.43,693.7 280,662.91 280,634 C280,372 280,372 280,372 C280,331.58 239.6,302.81 207.54,286.34 \" fill=\"none\" id=\"E7-&gt;E3\" style=\"stroke: #A80036; stroke-width: 1.0;\"/><polygon fill=\"#FFFFFF\" points=\"189.1,277.68,209.2735,279.4203,203.3225,292.0925,189.1,277.68\" style=\"stroke: #A80036; stroke-width: 1.0;\"/><ellipse cx=\"213.5828\" cy=\"283.6535\" fill=\"#A80036\" rx=\"2\" ry=\"2\" style=\"stroke: #A80036; stroke-width: 1.0;\"/><ellipse cx=\"209.332\" cy=\"292.7051\" fill=\"#A80036\" rx=\"2\" ry=\"2\" style=\"stroke: #A80036; stroke-width: 1.0;\"/></a><!--MD5=[dfaffb906826c3e5aca635516100ff21]\n",
       "link E5 to E8--><a href=\"psysml:7f99918d-ef62-497c-9b9a-668f89d0bef4\" target=\"_top\" title=\"psysml:7f99918d-ef62-497c-9b9a-668f89d0bef4\" xlink:actuate=\"onRequest\" xlink:href=\"psysml:7f99918d-ef62-497c-9b9a-668f89d0bef4\" xlink:show=\"new\" xlink:title=\"psysml:7f99918d-ef62-497c-9b9a-668f89d0bef4\" xlink:type=\"simple\"><path d=\"M201.25,396.03 C192.66,417.67 179.38,451.1 169.08,477.03 \" fill=\"none\" id=\"E5-&gt;E8\" style=\"stroke: #A80036; stroke-width: 1.0;\"/><polygon fill=\"#FFFFFF\" points=\"161.61,495.84,162.108,475.5977,175.1218,480.7592,161.61,495.84\" style=\"stroke: #A80036; stroke-width: 1.0;\"/><ellipse cx=\"166.0686\" cy=\"471.0366\" fill=\"#A80036\" rx=\"2\" ry=\"2\" style=\"stroke: #A80036; stroke-width: 1.0;\"/><ellipse cx=\"175.3642\" cy=\"474.7233\" fill=\"#A80036\" rx=\"2\" ry=\"2\" style=\"stroke: #A80036; stroke-width: 1.0;\"/></a><!--MD5=[03c8294790d3c57651a1993cecff665f]\n",
       "reverse link E8 to E3--><a href=\"psysml:8abdebaf-64f0-40cf-a780-4a21932975d8\" target=\"_top\" title=\"psysml:8abdebaf-64f0-40cf-a780-4a21932975d8\" xlink:actuate=\"onRequest\" xlink:href=\"psysml:8abdebaf-64f0-40cf-a780-4a21932975d8\" xlink:show=\"new\" xlink:title=\"psysml:8abdebaf-64f0-40cf-a780-4a21932975d8\" xlink:type=\"simple\"><path d=\"M150.54,482.63 C147.6,449.27 144.63,395.82 150,350 C152.47,328.87 158.5,305.24 163.11,289.17 \" fill=\"none\" id=\"E8&lt;-E3\" style=\"stroke: #A80036; stroke-width: 1.0;\"/><polygon fill=\"#FFFFFF\" points=\"151.77,495.61,155.1851,489.2589,150.636,483.6637,147.2209,490.0148,151.77,495.61\" style=\"stroke: #A80036; stroke-width: 1.0;\"/><text fill=\"#000000\" font-family=\"sans-serif\" font-size=\"13\" lengthAdjust=\"spacingAndGlyphs\" textLength=\"7\" x=\"151\" y=\"377.5669\">y</text></a><!--MD5=[0d75d2178373a6a4568e5dc728f58aef]\n",
       "reverse link E8 to E6--><a href=\"psysml:8abdebaf-64f0-40cf-a780-4a21932975d8\" target=\"_top\" title=\"psysml:8abdebaf-64f0-40cf-a780-4a21932975d8\" xlink:actuate=\"onRequest\" xlink:href=\"psysml:8abdebaf-64f0-40cf-a780-4a21932975d8\" xlink:show=\"new\" xlink:title=\"psysml:8abdebaf-64f0-40cf-a780-4a21932975d8\" xlink:type=\"simple\"><path d=\"M154,549.36 C154,569.76 154,595.42 154,612.69 \" fill=\"none\" id=\"E8&lt;-E6\" style=\"stroke: #A80036; stroke-width: 1.0;\"/><polygon fill=\"#FFFFFF\" points=\"154,536.25,150,542.25,154,548.25,158,542.25,154,536.25\" style=\"stroke: #A80036; stroke-width: 1.0;\"/><text fill=\"#000000\" font-family=\"sans-serif\" font-size=\"13\" lengthAdjust=\"spacingAndGlyphs\" textLength=\"7\" x=\"155\" y=\"579.0669\">y</text></a><!--MD5=[23ac544a70576c3e717098101004234c]\n",
       "reverse link E9 to E10--><a href=\"psysml:4b97f70b-21b5-47d0-9b80-bf68f1206e68\" target=\"_top\" title=\"psysml:4b97f70b-21b5-47d0-9b80-bf68f1206e68\" xlink:actuate=\"onRequest\" xlink:href=\"psysml:4b97f70b-21b5-47d0-9b80-bf68f1206e68\" xlink:show=\"new\" xlink:title=\"psysml:4b97f70b-21b5-47d0-9b80-bf68f1206e68\" xlink:type=\"simple\"><path d=\"M104.95,98.49 C95.61,114.92 84.7,134.11 76.81,148 \" fill=\"none\" id=\"E9&lt;-E10\" style=\"stroke: #A80036; stroke-width: 1.0;\"/><polygon fill=\"#FFFFFF\" points=\"111.41,87.13,104.9664,90.3672,105.4762,97.5603,111.9199,94.3231,111.41,87.13\" style=\"stroke: #A80036; stroke-width: 1.0;\"/><text fill=\"#000000\" font-family=\"sans-serif\" font-size=\"13\" lengthAdjust=\"spacingAndGlyphs\" textLength=\"8\" x=\"70.8104\" y=\"137.0083\">1</text></a><!--MD5=[feeac5eb423634930294aa81f2d25a4c]\n",
       "link E10 to E3--><a href=\"psysml:890b43d2-a44a-4df9-b863-0c7f323950a1\" target=\"_top\" title=\"psysml:890b43d2-a44a-4df9-b863-0c7f323950a1\" xlink:actuate=\"onRequest\" xlink:href=\"psysml:890b43d2-a44a-4df9-b863-0c7f323950a1\" xlink:show=\"new\" xlink:title=\"psysml:890b43d2-a44a-4df9-b863-0c7f323950a1\" xlink:type=\"simple\"><path d=\"M85.86,188.09 C99.68,201.37 118.47,219.43 134.69,235.02 \" fill=\"none\" id=\"E10-&gt;E3\" style=\"stroke: #A80036; stroke-width: 1.0;\"/><polygon fill=\"#FFFFFF\" points=\"149.2,248.97,130.6476,240.8578,140.3451,230.7604,149.2,248.97\" style=\"stroke: #A80036; stroke-width: 1.0;\"/><ellipse cx=\"127.9219\" cy=\"235.467\" fill=\"#A80036\" rx=\"2\" ry=\"2\" style=\"stroke: #A80036; stroke-width: 1.0;\"/><ellipse cx=\"134.8487\" cy=\"228.2546\" fill=\"#A80036\" rx=\"2\" ry=\"2\" style=\"stroke: #A80036; stroke-width: 1.0;\"/></a><!--MD5=[1fc04a95fd77ad5ce46c1a3027516051]\n",
       "reverse link E9 to E11--><a href=\"psysml:75cdd26f-47cf-45db-b14e-ba01ceb3edc6\" target=\"_top\" title=\"psysml:75cdd26f-47cf-45db-b14e-ba01ceb3edc6\" xlink:actuate=\"onRequest\" xlink:href=\"psysml:75cdd26f-47cf-45db-b14e-ba01ceb3edc6\" xlink:show=\"new\" xlink:title=\"psysml:75cdd26f-47cf-45db-b14e-ba01ceb3edc6\" xlink:type=\"simple\"><path d=\"M139.2,99.45 C146.35,115.67 154.61,134.38 160.62,148 \" fill=\"none\" id=\"E9&lt;-E11\" style=\"stroke: #A80036; stroke-width: 1.0;\"/><polygon fill=\"#FFFFFF\" points=\"133.76,87.13,132.5217,94.234,138.603,98.1093,139.8413,91.0053,133.76,87.13\" style=\"stroke: #A80036; stroke-width: 1.0;\"/><text fill=\"#000000\" font-family=\"sans-serif\" font-size=\"13\" lengthAdjust=\"spacingAndGlyphs\" textLength=\"8\" x=\"148.9834\" y=\"137.0083\">1</text></a><!--MD5=[0517f1ce58c4d5483948f93845c45e26]\n",
       "link E11 to E3--><a href=\"psysml:92dee77c-180b-445a-a05e-737a71661cde\" target=\"_top\" title=\"psysml:92dee77c-180b-445a-a05e-737a71661cde\" xlink:actuate=\"onRequest\" xlink:href=\"psysml:92dee77c-180b-445a-a05e-737a71661cde\" xlink:show=\"new\" xlink:title=\"psysml:92dee77c-180b-445a-a05e-737a71661cde\" xlink:type=\"simple\"><path d=\"M169,188.09 C169,199.59 169,214.68 169,228.63 \" fill=\"none\" id=\"E11-&gt;E3\" style=\"stroke: #A80036; stroke-width: 1.0;\"/><polygon fill=\"#FFFFFF\" points=\"169,248.97,162,229.97,176,229.97,169,248.97\" style=\"stroke: #A80036; stroke-width: 1.0;\"/><ellipse cx=\"164\" cy=\"224.27\" fill=\"#A80036\" rx=\"2\" ry=\"2\" style=\"stroke: #A80036; stroke-width: 1.0;\"/><ellipse cx=\"174\" cy=\"224.27\" fill=\"#A80036\" rx=\"2\" ry=\"2\" style=\"stroke: #A80036; stroke-width: 1.0;\"/></a><!--MD5=[f83ed882691b09b329f4d445cd215be8]\n",
       "@startuml\r\n",
       " \r\n",
       "package \"ItemTest\" as E1  [[psysml:8469bc55-64be-4e75-90cd-bb271a7bb256 ]]  {\r\n",
       "comp usage \"f: A \" as E2 << << (P,limegreen) >> [[psysml:6cbf61b0-82f0-477a-9e61-503ee7ef8ab3 ]] {\r\n",
       "}\r\n",
       "comp def \"A\" as E3 << << (B,green) >> [[psysml:73e4759d-5191-4c8c-b634-f2bc1b43e3a3 ]] {\r\n",
       "}\r\n",
       "comp usage \"b: B \" as E4 << << (P,limegreen) >> [[psysml:22dedc78-8a6f-47e7-a1b3-f5299f454177 ]] {\r\n",
       "}\r\n",
       "comp usage \"c: C \" as E5 << << (P,limegreen) part>> [[psysml:d5b518cb-4e9d-48f6-86e4-811292cf7103 ]] {\r\n",
       "}\r\n",
       "comp def \"<i>B</i>\" as E6 << << (B,green) >> [[psysml:7fb13a86-95b9-42ac-ac4a-d3cbb2045ff7 ]] {\r\n",
       "}\r\n",
       "comp usage \"<i>a</i>: A \" as E7 << << (P,limegreen) part>> [[psysml:b4d408e4-c35f-4021-90a0-c54c4c634ca8 ]] {\r\n",
       "}\r\n",
       "comp def \"C\" as E8 << << (B,green) >> [[psysml:53104107-4f2e-4822-81be-c90629c3152e ]] {\r\n",
       "}\r\n",
       "comp def \"P\" as E9 << <<(D,brown) port  def>> [[psysml:96c92d64-4061-42f0-9733-a4ee9bfee5f1 ]] {\r\n",
       "}\r\n",
       "comp usage \"a1: A \" as E10 << << (P,limegreen) >> [[psysml:21151bb4-f160-49b9-964a-222b3c2d7b6c ]] {\r\n",
       "}\r\n",
       "comp usage \"a2: A \" as E11 << << (P,limegreen) >> [[psysml:048eeab4-ab84-4a9d-8dc8-2b5e8335cff3 ]] {\r\n",
       "}\r\n",
       "}\r\n",
       "E2 - -:|> E3 [[psysml:e70b16f9-62c0-40f3-a087-aa973c352c22 ]] \r\n",
       "E3 *- - \"1\"E4 [[psysml:f5164247-58fc-45c1-bba3-2edebb195fbd ]] \r\n",
       "E3 o- - \"1\"E5 [[psysml:0e10322d-8096-4d1c-ad13-bcf359abd35a ]] \r\n",
       "E4 - -:|> E6 [[psysml:cd799d59-974c-4cd5-b2a4-5d2e853ea550 ]] \r\n",
       "E6 *- - \"1\"E7 [[psysml:f66c29ee-70ba-402f-a3a4-159df7b46130 ]] \r\n",
       "E7 - -:|> E3 [[psysml:4b14459c-c0ea-47eb-ae95-5bdd156140b8 ]] \r\n",
       "E5 - -:|> E8 [[psysml:7f99918d-ef62-497c-9b9a-668f89d0bef4 ]] \r\n",
       "E8 o- - E3 [[psysml:8abdebaf-64f0-40cf-a780-4a21932975d8 ]] : y\r\n",
       "E8 o- - E6 [[psysml:8abdebaf-64f0-40cf-a780-4a21932975d8 ]] : y\r\n",
       "E9 o- - \"1\"E10 [[psysml:4b97f70b-21b5-47d0-9b80-bf68f1206e68 ]] \r\n",
       "E10 - -:|> E3 [[psysml:890b43d2-a44a-4df9-b863-0c7f323950a1 ]] \r\n",
       "E9 o- - \"1\"E11 [[psysml:75cdd26f-47cf-45db-b14e-ba01ceb3edc6 ]] \r\n",
       "E11 - -:|> E3 [[psysml:92dee77c-180b-445a-a05e-737a71661cde ]] \r\n",
       "@enduml\r\n",
       "\n",
       "PlantUML version 1.2020.13(Sat Jun 13 12:26:38 UTC 2020)\n",
       "(EPL source distribution)\n",
       "Java Runtime: OpenJDK Runtime Environment\n",
       "JVM: OpenJDK 64-Bit Server VM\n",
       "Default Encoding: UTF-8\n",
       "Language: en\n",
       "Country: null\n",
       "--></g></svg>"
      ]
     },
     "execution_count": 31,
     "metadata": {},
     "output_type": "execute_result"
    }
   ],
   "source": [
    "%viz --style=\"PLANTUML\" --view=\"Tree\" \"ItemTest\""
   ]
  },
  {
   "cell_type": "code",
   "execution_count": 32,
   "id": "4a72d191",
   "metadata": {
    "execution": {
     "iopub.execute_input": "2022-03-21T07:49:11.160645Z",
     "iopub.status.busy": "2022-03-21T07:49:11.160166Z",
     "iopub.status.idle": "2022-03-21T07:49:11.265423Z",
     "shell.execute_reply": "2022-03-21T07:49:11.263606Z"
    }
   },
   "outputs": [
    {
     "data": {
      "image/svg+xml": [
       "<?xml version=\"1.0\" encoding=\"UTF-8\" standalone=\"no\"?><svg xmlns=\"http://www.w3.org/2000/svg\" xmlns:xlink=\"http://www.w3.org/1999/xlink\" contentScriptType=\"application/ecmascript\" contentStyleType=\"text/css\" height=\"300px\" preserveAspectRatio=\"none\" style=\"width:603px;height:300px;background:#000000;\" version=\"1.1\" viewBox=\"0 0 603 300\" width=\"603px\" zoomAndPan=\"magnify\"><defs/><g><rect fill=\"#02010E\" height=\"1\" style=\"stroke: #02010E; stroke-width: 1.0;\" width=\"1\" x=\"0\" y=\"0\"/><rect fill=\"#FFFFFF\" height=\"202.8012\" style=\"stroke: #FFFFFF; stroke-width: 1.0;\" width=\"602\" x=\"0\" y=\"0\"/><text fill=\"#000000\" font-family=\"sans-serif\" font-size=\"12\" font-weight=\"bold\" lengthAdjust=\"spacingAndGlyphs\" textLength=\"139\" x=\"5\" y=\"16.1387\">Welcome to PlantUML!</text><text fill=\"#000000\" font-family=\"sans-serif\" font-size=\"12\" lengthAdjust=\"spacingAndGlyphs\" textLength=\"0\" x=\"9\" y=\"30.1074\"/><text fill=\"#000000\" font-family=\"sans-serif\" font-size=\"12\" lengthAdjust=\"spacingAndGlyphs\" textLength=\"293\" x=\"5\" y=\"44.0762\">If you use this software, you accept its license.</text><text fill=\"#000000\" font-family=\"sans-serif\" font-size=\"12\" lengthAdjust=\"spacingAndGlyphs\" textLength=\"107\" x=\"5\" y=\"58.0449\">(details by typing</text><text fill=\"#000000\" font-family=\"monospace\" font-size=\"12\" lengthAdjust=\"spacingAndGlyphs\" textLength=\"42\" x=\"116\" y=\"58.595\">license</text><text fill=\"#000000\" font-family=\"sans-serif\" font-size=\"12\" lengthAdjust=\"spacingAndGlyphs\" textLength=\"56\" x=\"162\" y=\"58.0449\">keyword)</text><text fill=\"#000000\" font-family=\"sans-serif\" font-size=\"12\" lengthAdjust=\"spacingAndGlyphs\" textLength=\"0\" x=\"9\" y=\"72.0137\"/><text fill=\"#000000\" font-family=\"sans-serif\" font-size=\"12\" lengthAdjust=\"spacingAndGlyphs\" textLength=\"283\" x=\"5\" y=\"85.9824\">You can start with a simple UML Diagram like:</text><text fill=\"#000000\" font-family=\"sans-serif\" font-size=\"12\" lengthAdjust=\"spacingAndGlyphs\" textLength=\"0\" x=\"9\" y=\"99.9512\"/><text fill=\"#000000\" font-family=\"monospace\" font-size=\"12\" lengthAdjust=\"spacingAndGlyphs\" textLength=\"102\" x=\"5\" y=\"113.0893\">Bob-&gt;Alice: Hello</text><text fill=\"#000000\" font-family=\"sans-serif\" font-size=\"12\" lengthAdjust=\"spacingAndGlyphs\" textLength=\"0\" x=\"9\" y=\"126.508\"/><text fill=\"#000000\" font-family=\"sans-serif\" font-size=\"12\" lengthAdjust=\"spacingAndGlyphs\" textLength=\"14\" x=\"5\" y=\"140.4768\">Or</text><text fill=\"#000000\" font-family=\"sans-serif\" font-size=\"12\" lengthAdjust=\"spacingAndGlyphs\" textLength=\"0\" x=\"9\" y=\"154.4455\"/><text fill=\"#000000\" font-family=\"monospace\" font-size=\"12\" lengthAdjust=\"spacingAndGlyphs\" textLength=\"78\" x=\"5\" y=\"167.5837\">class Example</text><text fill=\"#000000\" font-family=\"sans-serif\" font-size=\"12\" lengthAdjust=\"spacingAndGlyphs\" textLength=\"0\" x=\"9\" y=\"181.0023\"/><text fill=\"#000000\" font-family=\"sans-serif\" font-size=\"12\" lengthAdjust=\"spacingAndGlyphs\" textLength=\"349\" x=\"5\" y=\"194.9711\">You will find more information about PlantUML syntax on</text><text fill=\"#000000\" font-family=\"sans-serif\" font-size=\"12\" lengthAdjust=\"spacingAndGlyphs\" text-decoration=\"underline\" textLength=\"129\" x=\"358\" y=\"194.9711\">https://plantuml.com</text><image height=\"71\" width=\"80\" x=\"516\" xlink:href=\"data:image/png;base64,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\" y=\"6\"/><rect fill=\"#000000\" height=\"96.4844\" style=\"stroke: #000000; stroke-width: 1.0;\" width=\"602\" x=\"0\" y=\"202.8012\"/><rect fill=\"#33FF02\" height=\"21.2969\" style=\"stroke: #33FF02; stroke-width: 1.0;\" width=\"145\" x=\"5\" y=\"207.8012\"/><text fill=\"#000000\" font-family=\"sans-serif\" font-size=\"14\" font-weight=\"bold\" lengthAdjust=\"spacingAndGlyphs\" textLength=\"143\" x=\"6\" y=\"222.8012\">[From string (line 2) ]</text><text fill=\"#33FF02\" font-family=\"sans-serif\" font-size=\"14\" font-weight=\"bold\" lengthAdjust=\"spacingAndGlyphs\" textLength=\"0\" x=\"9\" y=\"243.0981\"/><text fill=\"#33FF02\" font-family=\"sans-serif\" font-size=\"14\" font-weight=\"bold\" lengthAdjust=\"spacingAndGlyphs\" textLength=\"70\" x=\"5\" y=\"259.3949\">@startuml</text><text fill=\"#33FF02\" font-family=\"sans-serif\" font-size=\"14\" font-weight=\"bold\" lengthAdjust=\"spacingAndGlyphs\" textLength=\"0\" x=\"9\" y=\"275.6918\"/><text fill=\"#FF0000\" font-family=\"sans-serif\" font-size=\"14\" font-weight=\"bold\" lengthAdjust=\"spacingAndGlyphs\" textLength=\"124\" x=\"9\" y=\"291.9887\">Empty description</text><!--MD5=[f59edd8218d337f74d0c332fc6737304]\n",
       "@startuml\r\n",
       " \r\n",
       "@enduml\r\n",
       "\n",
       "PlantUML version 1.2020.13(Sat Jun 13 12:26:38 UTC 2020)\n",
       "(EPL source distribution)\n",
       "Java Runtime: OpenJDK Runtime Environment\n",
       "JVM: OpenJDK 64-Bit Server VM\n",
       "Default Encoding: UTF-8\n",
       "Language: en\n",
       "Country: null\n",
       "--></g></svg>"
      ]
     },
     "execution_count": 32,
     "metadata": {},
     "output_type": "execute_result"
    }
   ],
   "source": [
    "%viz --style=\"PLANTUML\" --view=\"State\" \"ItemTest\""
   ]
  },
  {
   "cell_type": "code",
   "execution_count": 33,
   "id": "58ac73c0",
   "metadata": {
    "execution": {
     "iopub.execute_input": "2022-03-21T07:49:11.314008Z",
     "iopub.status.busy": "2022-03-21T07:49:11.313589Z",
     "iopub.status.idle": "2022-03-21T07:49:11.335531Z",
     "shell.execute_reply": "2022-03-21T07:49:11.333624Z"
    }
   },
   "outputs": [
    {
     "data": {
      "image/svg+xml": [
       "<?xml version=\"1.0\" encoding=\"UTF-8\" standalone=\"no\"?><svg xmlns=\"http://www.w3.org/2000/svg\" xmlns:xlink=\"http://www.w3.org/1999/xlink\" contentScriptType=\"application/ecmascript\" contentStyleType=\"text/css\" height=\"112px\" preserveAspectRatio=\"none\" style=\"width:519px;height:112px;\" version=\"1.1\" viewBox=\"0 0 519 112\" width=\"519px\" zoomAndPan=\"magnify\"><defs><filter height=\"300%\" id=\"ffn97h84q15cp\" width=\"300%\" x=\"-1\" y=\"-1\"><feGaussianBlur result=\"blurOut\" stdDeviation=\"2.0\"/><feColorMatrix in=\"blurOut\" result=\"blurOut2\" type=\"matrix\" values=\"0 0 0 0 0 0 0 0 0 0 0 0 0 0 0 0 0 0 .4 0\"/><feOffset dx=\"4.0\" dy=\"4.0\" in=\"blurOut2\" result=\"blurOut3\"/><feBlend in=\"SourceGraphic\" in2=\"blurOut3\" mode=\"normal\"/></filter></defs><g><!--MD5=[fbc87193dbaf4d95561dea2c320d4a47]\n",
       "cluster E1--><a href=\"psysml:8469bc55-64be-4e75-90cd-bb271a7bb256\" target=\"_top\" title=\"psysml:8469bc55-64be-4e75-90cd-bb271a7bb256\" xlink:actuate=\"onRequest\" xlink:href=\"psysml:8469bc55-64be-4e75-90cd-bb271a7bb256\" xlink:show=\"new\" xlink:title=\"psysml:8469bc55-64be-4e75-90cd-bb271a7bb256\" xlink:type=\"simple\"><polygon fill=\"#FFFFFF\" filter=\"url(#ffn97h84q15cp)\" points=\"16,6,83,6,90,28.2969,497,28.2969,497,100,16,100,16,6\" style=\"stroke: #000000; stroke-width: 1.5;\"/><line style=\"stroke: #000000; stroke-width: 1.5;\" x1=\"16\" x2=\"90\" y1=\"28.2969\" y2=\"28.2969\"/><text fill=\"#000000\" font-family=\"sans-serif\" font-size=\"14\" font-weight=\"bold\" lengthAdjust=\"spacingAndGlyphs\" textLength=\"61\" x=\"20\" y=\"20.9951\">ItemTest</text></a><g id=\"E1.E3\"><a href=\"psysml:73e4759d-5191-4c8c-b634-f2bc1b43e3a3\" target=\"_top\" title=\"psysml:73e4759d-5191-4c8c-b634-f2bc1b43e3a3\" xlink:actuate=\"onRequest\" xlink:href=\"psysml:73e4759d-5191-4c8c-b634-f2bc1b43e3a3\" xlink:show=\"new\" xlink:title=\"psysml:73e4759d-5191-4c8c-b634-f2bc1b43e3a3\" xlink:type=\"simple\"><rect fill=\"#FEFECE\" filter=\"url(#ffn97h84q15cp)\" height=\"40\" id=\"E3\" style=\"stroke: #A80036; stroke-width: 1.5;\" width=\"50\" x=\"431\" y=\"42.5\"/><ellipse cx=\"450.5\" cy=\"58.5\" fill=\"#008000\" rx=\"11\" ry=\"11\" style=\"stroke: #A80036; stroke-width: 1.0;\"/><path d=\"M447.375,63.5 L447.375,52.9063 L450.6094,52.9063 Q452.5156,52.9063 453.4219,53.6563 Q454.3438,54.4063 454.3438,55.5781 Q454.3438,56.2656 453.9531,56.9219 Q453.5781,57.5781 452.8594,57.875 Q453.7188,58.25 454.2344,58.9375 Q454.75,59.625 454.75,60.4375 Q454.75,61.8125 453.7188,62.6563 Q452.7031,63.5 450.5938,63.5 L447.375,63.5 Z M449.2969,57.1406 L450.4531,57.1406 Q451.5781,57.1406 451.9844,56.7656 Q452.4063,56.375 452.4063,55.75 Q452.4063,55.1719 451.9844,54.8125 Q451.5625,54.4531 450.625,54.4531 L449.2969,54.4531 L449.2969,57.1406 Z M449.2969,61.9219 L450.7969,61.9219 Q451.7031,61.9219 452.2344,61.5313 Q452.7656,61.1406 452.7656,60.3906 Q452.7656,59.625 452.2656,59.1563 Q451.7656,58.6719 450.5,58.6719 L449.2969,58.6719 L449.2969,61.9219 Z \"/><text fill=\"#000000\" font-family=\"sans-serif\" font-size=\"12\" lengthAdjust=\"spacingAndGlyphs\" textLength=\"8\" x=\"465.5\" y=\"62.6543\">A</text></a></g><g id=\"E1.E4\"><a href=\"psysml:7fb13a86-95b9-42ac-ac4a-d3cbb2045ff7\" target=\"_top\" title=\"psysml:7fb13a86-95b9-42ac-ac4a-d3cbb2045ff7\" xlink:actuate=\"onRequest\" xlink:href=\"psysml:7fb13a86-95b9-42ac-ac4a-d3cbb2045ff7\" xlink:show=\"new\" xlink:title=\"psysml:7fb13a86-95b9-42ac-ac4a-d3cbb2045ff7\" xlink:type=\"simple\"><rect fill=\"#FEFECE\" filter=\"url(#ffn97h84q15cp)\" height=\"40\" id=\"E4\" style=\"stroke: #A80036; stroke-width: 1.5;\" width=\"50\" x=\"346\" y=\"42.5\"/><ellipse cx=\"365.5\" cy=\"58.5\" fill=\"#008000\" rx=\"11\" ry=\"11\" style=\"stroke: #A80036; stroke-width: 1.0;\"/><path d=\"M362.375,63.5 L362.375,52.9063 L365.6094,52.9063 Q367.5156,52.9063 368.4219,53.6563 Q369.3438,54.4063 369.3438,55.5781 Q369.3438,56.2656 368.9531,56.9219 Q368.5781,57.5781 367.8594,57.875 Q368.7188,58.25 369.2344,58.9375 Q369.75,59.625 369.75,60.4375 Q369.75,61.8125 368.7188,62.6563 Q367.7031,63.5 365.5938,63.5 L362.375,63.5 Z M364.2969,57.1406 L365.4531,57.1406 Q366.5781,57.1406 366.9844,56.7656 Q367.4063,56.375 367.4063,55.75 Q367.4063,55.1719 366.9844,54.8125 Q366.5625,54.4531 365.625,54.4531 L364.2969,54.4531 L364.2969,57.1406 Z M364.2969,61.9219 L365.7969,61.9219 Q366.7031,61.9219 367.2344,61.5313 Q367.7656,61.1406 367.7656,60.3906 Q367.7656,59.625 367.2656,59.1563 Q366.7656,58.6719 365.5,58.6719 L364.2969,58.6719 L364.2969,61.9219 Z \"/><text fill=\"#000000\" font-family=\"sans-serif\" font-size=\"12\" font-style=\"italic\" lengthAdjust=\"spacingAndGlyphs\" textLength=\"8\" x=\"380.5\" y=\"62.6543\">B</text></a></g><g id=\"E1.E6\"><a href=\"psysml:96c92d64-4061-42f0-9733-a4ee9bfee5f1\" target=\"_top\" title=\"psysml:96c92d64-4061-42f0-9733-a4ee9bfee5f1\" xlink:actuate=\"onRequest\" xlink:href=\"psysml:96c92d64-4061-42f0-9733-a4ee9bfee5f1\" xlink:show=\"new\" xlink:title=\"psysml:96c92d64-4061-42f0-9733-a4ee9bfee5f1\" xlink:type=\"simple\"><rect fill=\"#FEFECE\" filter=\"url(#ffn97h84q15cp)\" height=\"42.9375\" id=\"E6\" style=\"stroke: #A80036; stroke-width: 1.5;\" width=\"101\" x=\"209.5\" y=\"41\"/><ellipse cx=\"226.75\" cy=\"59.9688\" fill=\"#A52A2A\" rx=\"11\" ry=\"11\" style=\"stroke: #A80036; stroke-width: 1.0;\"/><path d=\"M223.9688,64.9688 L223.9688,54.375 L226.7031,54.375 Q228.0938,54.375 228.8594,54.7656 Q229.6406,55.1406 230.1719,55.8438 Q230.7031,56.5469 231,57.5469 Q231.2969,58.5313 231.2969,59.75 Q231.25,61.3438 230.75,62.5313 Q230.2656,63.7031 229.2188,64.3438 Q228.1875,64.9688 226.5,64.9688 L223.9688,64.9688 Z M225.8281,63.4688 L226.4531,63.4688 Q227.5313,63.4688 228.1875,63.0156 Q228.8438,62.5625 229.125,61.7344 Q229.4219,60.8906 229.4063,59.7656 Q229.4063,58.5938 229.1563,57.7344 Q228.9063,56.8594 228.2969,56.3906 Q227.6875,55.9063 226.6406,55.9063 L225.8281,55.9063 L225.8281,63.4688 Z \"/><text fill=\"#000000\" font-family=\"sans-serif\" font-size=\"12\" font-style=\"italic\" lengthAdjust=\"spacingAndGlyphs\" textLength=\"68\" x=\"239.25\" y=\"57.1387\">«port  def»</text><text fill=\"#000000\" font-family=\"sans-serif\" font-size=\"12\" lengthAdjust=\"spacingAndGlyphs\" textLength=\"8\" x=\"269.25\" y=\"71.1074\">P</text></a></g><g id=\"E1.E2\"><a href=\"psysml:6cbf61b0-82f0-477a-9e61-503ee7ef8ab3\" target=\"_top\" title=\"psysml:6cbf61b0-82f0-477a-9e61-503ee7ef8ab3\" xlink:actuate=\"onRequest\" xlink:href=\"psysml:6cbf61b0-82f0-477a-9e61-503ee7ef8ab3\" xlink:show=\"new\" xlink:title=\"psysml:6cbf61b0-82f0-477a-9e61-503ee7ef8ab3\" xlink:type=\"simple\"><rect fill=\"#FEFECE\" filter=\"url(#ffn97h84q15cp)\" height=\"40\" id=\"E2\" rx=\"10\" ry=\"10\" style=\"stroke: #A80036; stroke-width: 1.5;\" width=\"57\" x=\"117.5\" y=\"42.5\"/><ellipse cx=\"134.75\" cy=\"58.5\" fill=\"#32CD32\" rx=\"11\" ry=\"11\" style=\"stroke: #A80036; stroke-width: 1.0;\"/><path d=\"M131.5625,63.5 L131.5625,52.9063 L135.1719,52.9063 Q136.3906,52.9063 137.1875,53.3438 Q137.9844,53.7656 138.3594,54.4688 Q138.75,55.1719 138.75,56.0156 Q138.75,56.8594 138.375,57.5469 Q138.0156,58.2344 137.2188,58.6563 Q136.4375,59.0625 135.25,59.0625 L133.5156,59.0625 L133.5156,63.5 L131.5625,63.5 Z M133.5156,57.4688 L135.125,57.4688 Q135.9375,57.4688 136.3594,57.0625 Q136.7813,56.6563 136.7813,56.0156 Q136.7813,55.3906 136.3594,54.9844 Q135.9375,54.5781 135.1406,54.5781 L133.5156,54.5781 L133.5156,57.4688 Z \"/><text fill=\"#000000\" font-family=\"sans-serif\" font-size=\"12\" lengthAdjust=\"spacingAndGlyphs\" textLength=\"20\" x=\"149.25\" y=\"62.6543\">f: A</text></a></g><g id=\"E1.E5\"><a href=\"psysml:53104107-4f2e-4822-81be-c90629c3152e\" target=\"_top\" title=\"psysml:53104107-4f2e-4822-81be-c90629c3152e\" xlink:actuate=\"onRequest\" xlink:href=\"psysml:53104107-4f2e-4822-81be-c90629c3152e\" xlink:show=\"new\" xlink:title=\"psysml:53104107-4f2e-4822-81be-c90629c3152e\" xlink:type=\"simple\"><rect fill=\"#FEFECE\" filter=\"url(#ffn97h84q15cp)\" height=\"40\" id=\"E5\" style=\"stroke: #A80036; stroke-width: 1.5;\" width=\"50\" x=\"32\" y=\"42.5\"/><ellipse cx=\"51.5\" cy=\"58.5\" fill=\"#008000\" rx=\"11\" ry=\"11\" style=\"stroke: #A80036; stroke-width: 1.0;\"/><path d=\"M48.375,63.5 L48.375,52.9063 L51.6094,52.9063 Q53.5156,52.9063 54.4219,53.6563 Q55.3438,54.4063 55.3438,55.5781 Q55.3438,56.2656 54.9531,56.9219 Q54.5781,57.5781 53.8594,57.875 Q54.7188,58.25 55.2344,58.9375 Q55.75,59.625 55.75,60.4375 Q55.75,61.8125 54.7188,62.6563 Q53.7031,63.5 51.5938,63.5 L48.375,63.5 Z M50.2969,57.1406 L51.4531,57.1406 Q52.5781,57.1406 52.9844,56.7656 Q53.4063,56.375 53.4063,55.75 Q53.4063,55.1719 52.9844,54.8125 Q52.5625,54.4531 51.625,54.4531 L50.2969,54.4531 L50.2969,57.1406 Z M50.2969,61.9219 L51.7969,61.9219 Q52.7031,61.9219 53.2344,61.5313 Q53.7656,61.1406 53.7656,60.3906 Q53.7656,59.625 53.2656,59.1563 Q52.7656,58.6719 51.5,58.6719 L50.2969,58.6719 L50.2969,61.9219 Z \"/><text fill=\"#000000\" font-family=\"sans-serif\" font-size=\"12\" lengthAdjust=\"spacingAndGlyphs\" textLength=\"8\" x=\"66.5\" y=\"62.6543\">C</text></a></g><!--MD5=[b149d583a133357015486375b63c51a5]\n",
       "@startuml\r\n",
       "skinparam ranksep 10\r\n",
       "skinparam rectangle {\r\n",
       " backgroundColor<<block>> LightGreen\r\n",
       "}\r\n",
       " \r\n",
       "package \"ItemTest\" as E1  [[psysml:8469bc55-64be-4e75-90cd-bb271a7bb256 ]]  {\r\n",
       "rec usage \"f: A\" as E2 << << (P,limegreen) >> [[psysml:6cbf61b0-82f0-477a-9e61-503ee7ef8ab3 ]] {\r\n",
       "}\r\n",
       "def \"A\" as E3 << << (B,green) >> [[psysml:73e4759d-5191-4c8c-b634-f2bc1b43e3a3 ]] \r\n",
       "def \"<i>B</i>\" as E4 << << (B,green) >> [[psysml:7fb13a86-95b9-42ac-ac4a-d3cbb2045ff7 ]] \r\n",
       "rec def \"C\" as E5 << << (B,green) >> [[psysml:53104107-4f2e-4822-81be-c90629c3152e ]] {\r\n",
       "}\r\n",
       "def \"P\" as E6 << <<(D,brown) port  def>> [[psysml:96c92d64-4061-42f0-9733-a4ee9bfee5f1 ]] \r\n",
       "}\r\n",
       "@enduml\r\n",
       "\n",
       "PlantUML version 1.2020.13(Sat Jun 13 12:26:38 UTC 2020)\n",
       "(EPL source distribution)\n",
       "Java Runtime: OpenJDK Runtime Environment\n",
       "JVM: OpenJDK 64-Bit Server VM\n",
       "Default Encoding: UTF-8\n",
       "Language: en\n",
       "Country: null\n",
       "--></g></svg>"
      ]
     },
     "execution_count": 33,
     "metadata": {},
     "output_type": "execute_result"
    }
   ],
   "source": [
    "%viz --style=\"PLANTUML\" --view=\"Interconnection\" \"ItemTest\""
   ]
  },
  {
   "cell_type": "code",
   "execution_count": 34,
   "id": "bb4f59b5",
   "metadata": {
    "execution": {
     "iopub.execute_input": "2022-03-21T07:49:11.384860Z",
     "iopub.status.busy": "2022-03-21T07:49:11.384208Z",
     "iopub.status.idle": "2022-03-21T07:49:11.387543Z",
     "shell.execute_reply": "2022-03-21T07:49:11.386996Z"
    }
   },
   "outputs": [
    {
     "data": {
      "image/svg+xml": [
       "<?xml version=\"1.0\" encoding=\"UTF-8\" standalone=\"no\"?><svg xmlns=\"http://www.w3.org/2000/svg\" xmlns:xlink=\"http://www.w3.org/1999/xlink\" contentScriptType=\"application/ecmascript\" contentStyleType=\"text/css\" height=\"12px\" preserveAspectRatio=\"none\" style=\"width:12px;height:12px;\" version=\"1.1\" viewBox=\"0 0 12 12\" width=\"12px\" zoomAndPan=\"magnify\"><defs/><g><!--MD5=[6a4cb978cab31700e1ce5529f947a75d]\n",
       "@startuml\r\n",
       "skinparam ranksep 8\r\n",
       " \r\n",
       "@enduml\r\n",
       "\n",
       "PlantUML version 1.2020.13(Sat Jun 13 12:26:38 UTC 2020)\n",
       "(EPL source distribution)\n",
       "Java Runtime: OpenJDK Runtime Environment\n",
       "JVM: OpenJDK 64-Bit Server VM\n",
       "Default Encoding: UTF-8\n",
       "Language: en\n",
       "Country: null\n",
       "--></g></svg>"
      ]
     },
     "execution_count": 34,
     "metadata": {},
     "output_type": "execute_result"
    }
   ],
   "source": [
    "%viz --style=\"PLANTUML\" --view=\"Action\" \"ItemTest\""
   ]
  },
  {
   "cell_type": "code",
   "execution_count": 35,
   "id": "3b7f5062",
   "metadata": {
    "execution": {
     "iopub.execute_input": "2022-03-21T07:49:11.436419Z",
     "iopub.status.busy": "2022-03-21T07:49:11.436195Z",
     "iopub.status.idle": "2022-03-21T07:49:11.439664Z",
     "shell.execute_reply": "2022-03-21T07:49:11.439821Z"
    }
   },
   "outputs": [
    {
     "data": {
      "image/svg+xml": [
       "<?xml version=\"1.0\" encoding=\"UTF-8\" standalone=\"no\"?><svg xmlns=\"http://www.w3.org/2000/svg\" xmlns:xlink=\"http://www.w3.org/1999/xlink\" contentScriptType=\"application/ecmascript\" contentStyleType=\"text/css\" height=\"12px\" preserveAspectRatio=\"none\" style=\"width:12px;height:12px;\" version=\"1.1\" viewBox=\"0 0 12 12\" width=\"12px\" zoomAndPan=\"magnify\"><defs/><g><!--MD5=[ca4faa0b02def275ea33c14ea7a1a98d]\n",
       "@startuml\r\n",
       "skinparam roundcorner 20\r\n",
       "skinparam BoxPadding 20\r\n",
       "skinparam SequenceBoxBackgroundColor #white\r\n",
       "skinparam style strictuml\r\n",
       "skinparam maxMessageSize 100\r\n",
       " \r\n",
       "@enduml\r\n",
       "\n",
       "PlantUML version 1.2020.13(Sat Jun 13 12:26:38 UTC 2020)\n",
       "(EPL source distribution)\n",
       "Java Runtime: OpenJDK Runtime Environment\n",
       "JVM: OpenJDK 64-Bit Server VM\n",
       "Default Encoding: UTF-8\n",
       "Language: en\n",
       "Country: null\n",
       "--></g></svg>"
      ]
     },
     "execution_count": 35,
     "metadata": {},
     "output_type": "execute_result"
    }
   ],
   "source": [
    "%viz --style=\"PLANTUML\" --view=\"Sequence\" \"ItemTest\""
   ]
  },
  {
   "cell_type": "code",
   "execution_count": 36,
   "id": "5feb6ca3",
   "metadata": {
    "execution": {
     "iopub.execute_input": "2022-03-21T07:49:11.490932Z",
     "iopub.status.busy": "2022-03-21T07:49:11.490498Z",
     "iopub.status.idle": "2022-03-21T07:49:11.540247Z",
     "shell.execute_reply": "2022-03-21T07:49:11.538289Z"
    }
   },
   "outputs": [
    {
     "data": {
      "image/svg+xml": [
       "<?xml version=\"1.0\" encoding=\"UTF-8\" standalone=\"no\"?><svg xmlns=\"http://www.w3.org/2000/svg\" xmlns:xlink=\"http://www.w3.org/1999/xlink\" contentScriptType=\"application/ecmascript\" contentStyleType=\"text/css\" height=\"788px\" preserveAspectRatio=\"none\" style=\"width:332px;height:788px;\" version=\"1.1\" viewBox=\"0 0 332 788\" width=\"332px\" zoomAndPan=\"magnify\"><defs><filter height=\"300%\" id=\"f1uafgf2r9adsz\" width=\"300%\" x=\"-1\" y=\"-1\"><feGaussianBlur result=\"blurOut\" stdDeviation=\"2.0\"/><feColorMatrix in=\"blurOut\" result=\"blurOut2\" type=\"matrix\" values=\"0 0 0 0 0 0 0 0 0 0 0 0 0 0 0 0 0 0 .4 0\"/><feOffset dx=\"4.0\" dy=\"4.0\" in=\"blurOut2\" result=\"blurOut3\"/><feBlend in=\"SourceGraphic\" in2=\"blurOut3\" mode=\"normal\"/></filter></defs><g><!--MD5=[fbc87193dbaf4d95561dea2c320d4a47]\n",
       "cluster E1--><a href=\"psysml:8469bc55-64be-4e75-90cd-bb271a7bb256\" target=\"_top\" title=\"psysml:8469bc55-64be-4e75-90cd-bb271a7bb256\" xlink:actuate=\"onRequest\" xlink:href=\"psysml:8469bc55-64be-4e75-90cd-bb271a7bb256\" xlink:show=\"new\" xlink:title=\"psysml:8469bc55-64be-4e75-90cd-bb271a7bb256\" xlink:type=\"simple\"><polygon fill=\"#FFFFFF\" filter=\"url(#f1uafgf2r9adsz)\" points=\"16,6,83,6,90,28.2969,310,28.2969,310,776,16,776,16,6\" style=\"stroke: #000000; stroke-width: 1.5;\"/><line style=\"stroke: #000000; stroke-width: 1.5;\" x1=\"16\" x2=\"90\" y1=\"28.2969\" y2=\"28.2969\"/><text fill=\"#000000\" font-family=\"sans-serif\" font-size=\"14\" font-weight=\"bold\" lengthAdjust=\"spacingAndGlyphs\" textLength=\"61\" x=\"20\" y=\"20.9951\">ItemTest</text></a><!--MD5=[b4997ac47864f28c2f74865a473b2911]\n",
       "class E2--><a href=\"psysml:6cbf61b0-82f0-477a-9e61-503ee7ef8ab3\" target=\"_top\" title=\"psysml:6cbf61b0-82f0-477a-9e61-503ee7ef8ab3\" xlink:actuate=\"onRequest\" xlink:href=\"psysml:6cbf61b0-82f0-477a-9e61-503ee7ef8ab3\" xlink:show=\"new\" xlink:title=\"psysml:6cbf61b0-82f0-477a-9e61-503ee7ef8ab3\" xlink:type=\"simple\"><rect fill=\"#FEFECE\" filter=\"url(#f1uafgf2r9adsz)\" height=\"40\" id=\"E2\" rx=\"10\" ry=\"10\" style=\"stroke: #A80036; stroke-width: 1.5;\" width=\"56\" x=\"238\" y=\"148\"/><ellipse cx=\"253\" cy=\"164\" fill=\"#32CD32\" rx=\"11\" ry=\"11\" style=\"stroke: #A80036; stroke-width: 1.0;\"/><path d=\"M249.8125,169 L249.8125,158.4063 L253.4219,158.4063 Q254.6406,158.4063 255.4375,158.8438 Q256.2344,159.2656 256.6094,159.9688 Q257,160.6719 257,161.5156 Q257,162.3594 256.625,163.0469 Q256.2656,163.7344 255.4688,164.1563 Q254.6875,164.5625 253.5,164.5625 L251.7656,164.5625 L251.7656,169 L249.8125,169 Z M251.7656,162.9688 L253.375,162.9688 Q254.1875,162.9688 254.6094,162.5625 Q255.0313,162.1563 255.0313,161.5156 Q255.0313,160.8906 254.6094,160.4844 Q254.1875,160.0781 253.3906,160.0781 L251.7656,160.0781 L251.7656,162.9688 Z \"/><text fill=\"#000000\" font-family=\"sans-serif\" font-size=\"12\" lengthAdjust=\"spacingAndGlyphs\" textLength=\"20\" x=\"267\" y=\"168.1543\">f: A</text><line style=\"stroke: #A80036; stroke-width: 1.5;\" x1=\"239\" x2=\"293\" y1=\"180\" y2=\"180\"/></a><!--MD5=[09b614a08d8cba4a07c9adeb5e0fee81]\n",
       "class E3--><a href=\"psysml:73e4759d-5191-4c8c-b634-f2bc1b43e3a3\" target=\"_top\" title=\"psysml:73e4759d-5191-4c8c-b634-f2bc1b43e3a3\" xlink:actuate=\"onRequest\" xlink:href=\"psysml:73e4759d-5191-4c8c-b634-f2bc1b43e3a3\" xlink:show=\"new\" xlink:title=\"psysml:73e4759d-5191-4c8c-b634-f2bc1b43e3a3\" xlink:type=\"simple\"><rect fill=\"#FEFECE\" filter=\"url(#f1uafgf2r9adsz)\" height=\"40\" id=\"E3\" style=\"stroke: #A80036; stroke-width: 1.5;\" width=\"40\" x=\"149\" y=\"249\"/><ellipse cx=\"164\" cy=\"265\" fill=\"#008000\" rx=\"11\" ry=\"11\" style=\"stroke: #A80036; stroke-width: 1.0;\"/><path d=\"M160.875,270 L160.875,259.4063 L164.1094,259.4063 Q166.0156,259.4063 166.9219,260.1563 Q167.8438,260.9063 167.8438,262.0781 Q167.8438,262.7656 167.4531,263.4219 Q167.0781,264.0781 166.3594,264.375 Q167.2188,264.75 167.7344,265.4375 Q168.25,266.125 168.25,266.9375 Q168.25,268.3125 167.2188,269.1563 Q166.2031,270 164.0938,270 L160.875,270 Z M162.7969,263.6406 L163.9531,263.6406 Q165.0781,263.6406 165.4844,263.2656 Q165.9063,262.875 165.9063,262.25 Q165.9063,261.6719 165.4844,261.3125 Q165.0625,260.9531 164.125,260.9531 L162.7969,260.9531 L162.7969,263.6406 Z M162.7969,268.4219 L164.2969,268.4219 Q165.2031,268.4219 165.7344,268.0313 Q166.2656,267.6406 166.2656,266.8906 Q166.2656,266.125 165.7656,265.6563 Q165.2656,265.1719 164,265.1719 L162.7969,265.1719 L162.7969,268.4219 Z \"/><text fill=\"#000000\" font-family=\"sans-serif\" font-size=\"12\" lengthAdjust=\"spacingAndGlyphs\" textLength=\"8\" x=\"178\" y=\"269.1543\">A</text><line style=\"stroke: #A80036; stroke-width: 1.5;\" x1=\"150\" x2=\"188\" y1=\"281\" y2=\"281\"/></a><!--MD5=[ebbe1d658d1005bcc118a6aa81145e00]\n",
       "class E4--><a href=\"psysml:22dedc78-8a6f-47e7-a1b3-f5299f454177\" target=\"_top\" title=\"psysml:22dedc78-8a6f-47e7-a1b3-f5299f454177\" xlink:actuate=\"onRequest\" xlink:href=\"psysml:22dedc78-8a6f-47e7-a1b3-f5299f454177\" xlink:show=\"new\" xlink:title=\"psysml:22dedc78-8a6f-47e7-a1b3-f5299f454177\" xlink:type=\"simple\"><rect fill=\"#FEFECE\" filter=\"url(#f1uafgf2r9adsz)\" height=\"40\" id=\"E4\" rx=\"10\" ry=\"10\" style=\"stroke: #A80036; stroke-width: 1.5;\" width=\"60\" x=\"49\" y=\"426\"/><ellipse cx=\"64\" cy=\"442\" fill=\"#32CD32\" rx=\"11\" ry=\"11\" style=\"stroke: #A80036; stroke-width: 1.0;\"/><path d=\"M60.8125,447 L60.8125,436.4063 L64.4219,436.4063 Q65.6406,436.4063 66.4375,436.8438 Q67.2344,437.2656 67.6094,437.9688 Q68,438.6719 68,439.5156 Q68,440.3594 67.625,441.0469 Q67.2656,441.7344 66.4688,442.1563 Q65.6875,442.5625 64.5,442.5625 L62.7656,442.5625 L62.7656,447 L60.8125,447 Z M62.7656,440.9688 L64.375,440.9688 Q65.1875,440.9688 65.6094,440.5625 Q66.0313,440.1563 66.0313,439.5156 Q66.0313,438.8906 65.6094,438.4844 Q65.1875,438.0781 64.3906,438.0781 L62.7656,438.0781 L62.7656,440.9688 Z \"/><text fill=\"#000000\" font-family=\"sans-serif\" font-size=\"12\" lengthAdjust=\"spacingAndGlyphs\" textLength=\"24\" x=\"78\" y=\"446.1543\">b: B</text><line style=\"stroke: #A80036; stroke-width: 1.5;\" x1=\"50\" x2=\"108\" y1=\"458\" y2=\"458\"/></a><!--MD5=[270fce915f116d4de14055a7c1d9a0f3]\n",
       "class E5--><a href=\"psysml:d5b518cb-4e9d-48f6-86e4-811292cf7103\" target=\"_top\" title=\"psysml:d5b518cb-4e9d-48f6-86e4-811292cf7103\" xlink:actuate=\"onRequest\" xlink:href=\"psysml:d5b518cb-4e9d-48f6-86e4-811292cf7103\" xlink:show=\"new\" xlink:title=\"psysml:d5b518cb-4e9d-48f6-86e4-811292cf7103\" xlink:type=\"simple\"><rect fill=\"#FEFECE\" filter=\"url(#f1uafgf2r9adsz)\" height=\"45.9375\" id=\"E5\" rx=\"10\" ry=\"10\" style=\"stroke: #A80036; stroke-width: 1.5;\" width=\"68\" x=\"176\" y=\"350\"/><ellipse cx=\"191\" cy=\"368.9688\" fill=\"#32CD32\" rx=\"11\" ry=\"11\" style=\"stroke: #A80036; stroke-width: 1.0;\"/><path d=\"M187.8125,373.9688 L187.8125,363.375 L191.4219,363.375 Q192.6406,363.375 193.4375,363.8125 Q194.2344,364.2344 194.6094,364.9375 Q195,365.6406 195,366.4844 Q195,367.3281 194.625,368.0156 Q194.2656,368.7031 193.4688,369.125 Q192.6875,369.5313 191.5,369.5313 L189.7656,369.5313 L189.7656,373.9688 L187.8125,373.9688 Z M189.7656,367.9375 L191.375,367.9375 Q192.1875,367.9375 192.6094,367.5313 Q193.0313,367.125 193.0313,366.4844 Q193.0313,365.8594 192.6094,365.4531 Q192.1875,365.0469 191.3906,365.0469 L189.7656,365.0469 L189.7656,367.9375 Z \"/><text fill=\"#000000\" font-family=\"sans-serif\" font-size=\"12\" font-style=\"italic\" lengthAdjust=\"spacingAndGlyphs\" textLength=\"40\" x=\"203\" y=\"366.1387\">«part»</text><text fill=\"#000000\" font-family=\"sans-serif\" font-size=\"12\" lengthAdjust=\"spacingAndGlyphs\" textLength=\"23\" x=\"209.5\" y=\"380.1074\">c: C</text><line style=\"stroke: #A80036; stroke-width: 1.5;\" x1=\"177\" x2=\"243\" y1=\"387.9375\" y2=\"387.9375\"/></a><!--MD5=[60a26617385b1d2d0262a64233df1f8d]\n",
       "class E6--><a href=\"psysml:7fb13a86-95b9-42ac-ac4a-d3cbb2045ff7\" target=\"_top\" title=\"psysml:7fb13a86-95b9-42ac-ac4a-d3cbb2045ff7\" xlink:actuate=\"onRequest\" xlink:href=\"psysml:7fb13a86-95b9-42ac-ac4a-d3cbb2045ff7\" xlink:show=\"new\" xlink:title=\"psysml:7fb13a86-95b9-42ac-ac4a-d3cbb2045ff7\" xlink:type=\"simple\"><rect fill=\"#FEFECE\" filter=\"url(#f1uafgf2r9adsz)\" height=\"40\" id=\"E6\" style=\"stroke: #A80036; stroke-width: 1.5;\" width=\"40\" x=\"134\" y=\"613\"/><ellipse cx=\"149\" cy=\"629\" fill=\"#008000\" rx=\"11\" ry=\"11\" style=\"stroke: #A80036; stroke-width: 1.0;\"/><path d=\"M145.875,634 L145.875,623.4063 L149.1094,623.4063 Q151.0156,623.4063 151.9219,624.1563 Q152.8438,624.9063 152.8438,626.0781 Q152.8438,626.7656 152.4531,627.4219 Q152.0781,628.0781 151.3594,628.375 Q152.2188,628.75 152.7344,629.4375 Q153.25,630.125 153.25,630.9375 Q153.25,632.3125 152.2188,633.1563 Q151.2031,634 149.0938,634 L145.875,634 Z M147.7969,627.6406 L148.9531,627.6406 Q150.0781,627.6406 150.4844,627.2656 Q150.9063,626.875 150.9063,626.25 Q150.9063,625.6719 150.4844,625.3125 Q150.0625,624.9531 149.125,624.9531 L147.7969,624.9531 L147.7969,627.6406 Z M147.7969,632.4219 L149.2969,632.4219 Q150.2031,632.4219 150.7344,632.0313 Q151.2656,631.6406 151.2656,630.8906 Q151.2656,630.125 150.7656,629.6563 Q150.2656,629.1719 149,629.1719 L147.7969,629.1719 L147.7969,632.4219 Z \"/><text fill=\"#000000\" font-family=\"sans-serif\" font-size=\"12\" font-style=\"italic\" lengthAdjust=\"spacingAndGlyphs\" textLength=\"8\" x=\"163\" y=\"633.1543\">B</text><line style=\"stroke: #A80036; stroke-width: 1.5;\" x1=\"135\" x2=\"173\" y1=\"645\" y2=\"645\"/></a><!--MD5=[2156ba9850f5573cc1fc38a6a4b2f02b]\n",
       "class E7--><a href=\"psysml:b4d408e4-c35f-4021-90a0-c54c4c634ca8\" target=\"_top\" title=\"psysml:b4d408e4-c35f-4021-90a0-c54c4c634ca8\" xlink:actuate=\"onRequest\" xlink:href=\"psysml:b4d408e4-c35f-4021-90a0-c54c4c634ca8\" xlink:show=\"new\" xlink:title=\"psysml:b4d408e4-c35f-4021-90a0-c54c4c634ca8\" xlink:type=\"simple\"><rect fill=\"#FEFECE\" filter=\"url(#f1uafgf2r9adsz)\" height=\"45.9375\" id=\"E7\" rx=\"10\" ry=\"10\" style=\"stroke: #A80036; stroke-width: 1.5;\" width=\"68\" x=\"208\" y=\"714\"/><ellipse cx=\"223\" cy=\"732.9688\" fill=\"#32CD32\" rx=\"11\" ry=\"11\" style=\"stroke: #A80036; stroke-width: 1.0;\"/><path d=\"M219.8125,737.9688 L219.8125,727.375 L223.4219,727.375 Q224.6406,727.375 225.4375,727.8125 Q226.2344,728.2344 226.6094,728.9375 Q227,729.6406 227,730.4844 Q227,731.3281 226.625,732.0156 Q226.2656,732.7031 225.4688,733.125 Q224.6875,733.5313 223.5,733.5313 L221.7656,733.5313 L221.7656,737.9688 L219.8125,737.9688 Z M221.7656,731.9375 L223.375,731.9375 Q224.1875,731.9375 224.6094,731.5313 Q225.0313,731.125 225.0313,730.4844 Q225.0313,729.8594 224.6094,729.4531 Q224.1875,729.0469 223.3906,729.0469 L221.7656,729.0469 L221.7656,731.9375 Z \"/><text fill=\"#000000\" font-family=\"sans-serif\" font-size=\"12\" font-style=\"italic\" lengthAdjust=\"spacingAndGlyphs\" textLength=\"40\" x=\"235\" y=\"730.1387\">«part»</text><text fill=\"#000000\" font-family=\"sans-serif\" font-size=\"12\" font-style=\"italic\" lengthAdjust=\"spacingAndGlyphs\" textLength=\"8\" x=\"241\" y=\"744.1074\">a</text><text fill=\"#000000\" font-family=\"sans-serif\" font-size=\"12\" lengthAdjust=\"spacingAndGlyphs\" textLength=\"16\" x=\"249\" y=\"744.1074\">: A</text><line style=\"stroke: #A80036; stroke-width: 1.5;\" x1=\"209\" x2=\"275\" y1=\"751.9375\" y2=\"751.9375\"/></a><!--MD5=[b9389687b975829384b498ac4b7476b2]\n",
       "class E8--><a href=\"psysml:53104107-4f2e-4822-81be-c90629c3152e\" target=\"_top\" title=\"psysml:53104107-4f2e-4822-81be-c90629c3152e\" xlink:actuate=\"onRequest\" xlink:href=\"psysml:53104107-4f2e-4822-81be-c90629c3152e\" xlink:show=\"new\" xlink:title=\"psysml:53104107-4f2e-4822-81be-c90629c3152e\" xlink:type=\"simple\"><rect fill=\"#FEFECE\" filter=\"url(#f1uafgf2r9adsz)\" height=\"40\" id=\"E8\" style=\"stroke: #A80036; stroke-width: 1.5;\" width=\"40\" x=\"134\" y=\"496\"/><ellipse cx=\"149\" cy=\"512\" fill=\"#008000\" rx=\"11\" ry=\"11\" style=\"stroke: #A80036; stroke-width: 1.0;\"/><path d=\"M145.875,517 L145.875,506.4063 L149.1094,506.4063 Q151.0156,506.4063 151.9219,507.1563 Q152.8438,507.9063 152.8438,509.0781 Q152.8438,509.7656 152.4531,510.4219 Q152.0781,511.0781 151.3594,511.375 Q152.2188,511.75 152.7344,512.4375 Q153.25,513.125 153.25,513.9375 Q153.25,515.3125 152.2188,516.1563 Q151.2031,517 149.0938,517 L145.875,517 Z M147.7969,510.6406 L148.9531,510.6406 Q150.0781,510.6406 150.4844,510.2656 Q150.9063,509.875 150.9063,509.25 Q150.9063,508.6719 150.4844,508.3125 Q150.0625,507.9531 149.125,507.9531 L147.7969,507.9531 L147.7969,510.6406 Z M147.7969,515.4219 L149.2969,515.4219 Q150.2031,515.4219 150.7344,515.0313 Q151.2656,514.6406 151.2656,513.8906 Q151.2656,513.125 150.7656,512.6563 Q150.2656,512.1719 149,512.1719 L147.7969,512.1719 L147.7969,515.4219 Z \"/><text fill=\"#000000\" font-family=\"sans-serif\" font-size=\"12\" lengthAdjust=\"spacingAndGlyphs\" textLength=\"8\" x=\"163\" y=\"516.1543\">C</text><line style=\"stroke: #A80036; stroke-width: 1.5;\" x1=\"135\" x2=\"173\" y1=\"528\" y2=\"528\"/></a><!--MD5=[fd4143e9d270a159db93a4ea2a975926]\n",
       "class E9--><a href=\"psysml:96c92d64-4061-42f0-9733-a4ee9bfee5f1\" target=\"_top\" title=\"psysml:96c92d64-4061-42f0-9733-a4ee9bfee5f1\" xlink:actuate=\"onRequest\" xlink:href=\"psysml:96c92d64-4061-42f0-9733-a4ee9bfee5f1\" xlink:show=\"new\" xlink:title=\"psysml:96c92d64-4061-42f0-9733-a4ee9bfee5f1\" xlink:type=\"simple\"><rect fill=\"#FEFECE\" filter=\"url(#f1uafgf2r9adsz)\" height=\"45.9375\" id=\"E9\" style=\"stroke: #A80036; stroke-width: 1.5;\" width=\"96\" x=\"76\" y=\"41\"/><ellipse cx=\"91\" cy=\"59.9688\" fill=\"#A52A2A\" rx=\"11\" ry=\"11\" style=\"stroke: #A80036; stroke-width: 1.0;\"/><path d=\"M88.2188,64.9688 L88.2188,54.375 L90.9531,54.375 Q92.3438,54.375 93.1094,54.7656 Q93.8906,55.1406 94.4219,55.8438 Q94.9531,56.5469 95.25,57.5469 Q95.5469,58.5313 95.5469,59.75 Q95.5,61.3438 95,62.5313 Q94.5156,63.7031 93.4688,64.3438 Q92.4375,64.9688 90.75,64.9688 L88.2188,64.9688 Z M90.0781,63.4688 L90.7031,63.4688 Q91.7813,63.4688 92.4375,63.0156 Q93.0938,62.5625 93.375,61.7344 Q93.6719,60.8906 93.6563,59.7656 Q93.6563,58.5938 93.4063,57.7344 Q93.1563,56.8594 92.5469,56.3906 Q91.9375,55.9063 90.8906,55.9063 L90.0781,55.9063 L90.0781,63.4688 Z \"/><text fill=\"#000000\" font-family=\"sans-serif\" font-size=\"12\" font-style=\"italic\" lengthAdjust=\"spacingAndGlyphs\" textLength=\"68\" x=\"103\" y=\"57.1387\">«port  def»</text><text fill=\"#000000\" font-family=\"sans-serif\" font-size=\"12\" lengthAdjust=\"spacingAndGlyphs\" textLength=\"8\" x=\"133\" y=\"71.1074\">P</text><line style=\"stroke: #A80036; stroke-width: 1.5;\" x1=\"77\" x2=\"171\" y1=\"78.9375\" y2=\"78.9375\"/></a><!--MD5=[96f4274e9e20536e775497830990834d]\n",
       "class E10--><a href=\"psysml:21151bb4-f160-49b9-964a-222b3c2d7b6c\" target=\"_top\" title=\"psysml:21151bb4-f160-49b9-964a-222b3c2d7b6c\" xlink:actuate=\"onRequest\" xlink:href=\"psysml:21151bb4-f160-49b9-964a-222b3c2d7b6c\" xlink:show=\"new\" xlink:title=\"psysml:21151bb4-f160-49b9-964a-222b3c2d7b6c\" xlink:type=\"simple\"><rect fill=\"#FEFECE\" filter=\"url(#f1uafgf2r9adsz)\" height=\"40\" id=\"E10\" rx=\"10\" ry=\"10\" style=\"stroke: #A80036; stroke-width: 1.5;\" width=\"68\" x=\"32\" y=\"148\"/><ellipse cx=\"47\" cy=\"164\" fill=\"#32CD32\" rx=\"11\" ry=\"11\" style=\"stroke: #A80036; stroke-width: 1.0;\"/><path d=\"M43.8125,169 L43.8125,158.4063 L47.4219,158.4063 Q48.6406,158.4063 49.4375,158.8438 Q50.2344,159.2656 50.6094,159.9688 Q51,160.6719 51,161.5156 Q51,162.3594 50.625,163.0469 Q50.2656,163.7344 49.4688,164.1563 Q48.6875,164.5625 47.5,164.5625 L45.7656,164.5625 L45.7656,169 L43.8125,169 Z M45.7656,162.9688 L47.375,162.9688 Q48.1875,162.9688 48.6094,162.5625 Q49.0313,162.1563 49.0313,161.5156 Q49.0313,160.8906 48.6094,160.4844 Q48.1875,160.0781 47.3906,160.0781 L45.7656,160.0781 L45.7656,162.9688 Z \"/><text fill=\"#000000\" font-family=\"sans-serif\" font-size=\"12\" lengthAdjust=\"spacingAndGlyphs\" textLength=\"32\" x=\"61\" y=\"168.1543\">a1: A</text><line style=\"stroke: #A80036; stroke-width: 1.5;\" x1=\"33\" x2=\"99\" y1=\"180\" y2=\"180\"/></a><!--MD5=[1dd1bfd58a279cf63c5f349dbc8fc6a1]\n",
       "class E11--><a href=\"psysml:048eeab4-ab84-4a9d-8dc8-2b5e8335cff3\" target=\"_top\" title=\"psysml:048eeab4-ab84-4a9d-8dc8-2b5e8335cff3\" xlink:actuate=\"onRequest\" xlink:href=\"psysml:048eeab4-ab84-4a9d-8dc8-2b5e8335cff3\" xlink:show=\"new\" xlink:title=\"psysml:048eeab4-ab84-4a9d-8dc8-2b5e8335cff3\" xlink:type=\"simple\"><rect fill=\"#FEFECE\" filter=\"url(#f1uafgf2r9adsz)\" height=\"40\" id=\"E11\" rx=\"10\" ry=\"10\" style=\"stroke: #A80036; stroke-width: 1.5;\" width=\"68\" x=\"135\" y=\"148\"/><ellipse cx=\"150\" cy=\"164\" fill=\"#32CD32\" rx=\"11\" ry=\"11\" style=\"stroke: #A80036; stroke-width: 1.0;\"/><path d=\"M146.8125,169 L146.8125,158.4063 L150.4219,158.4063 Q151.6406,158.4063 152.4375,158.8438 Q153.2344,159.2656 153.6094,159.9688 Q154,160.6719 154,161.5156 Q154,162.3594 153.625,163.0469 Q153.2656,163.7344 152.4688,164.1563 Q151.6875,164.5625 150.5,164.5625 L148.7656,164.5625 L148.7656,169 L146.8125,169 Z M148.7656,162.9688 L150.375,162.9688 Q151.1875,162.9688 151.6094,162.5625 Q152.0313,162.1563 152.0313,161.5156 Q152.0313,160.8906 151.6094,160.4844 Q151.1875,160.0781 150.3906,160.0781 L148.7656,160.0781 L148.7656,162.9688 Z \"/><text fill=\"#000000\" font-family=\"sans-serif\" font-size=\"12\" lengthAdjust=\"spacingAndGlyphs\" textLength=\"32\" x=\"164\" y=\"168.1543\">a2: A</text><line style=\"stroke: #A80036; stroke-width: 1.5;\" x1=\"136\" x2=\"202\" y1=\"180\" y2=\"180\"/></a><!--MD5=[2720a5a1f2c3fca2055b230370638851]\n",
       "link E2 to E3--><a href=\"psysml:e70b16f9-62c0-40f3-a087-aa973c352c22\" target=\"_top\" title=\"psysml:e70b16f9-62c0-40f3-a087-aa973c352c22\" xlink:actuate=\"onRequest\" xlink:href=\"psysml:e70b16f9-62c0-40f3-a087-aa973c352c22\" xlink:show=\"new\" xlink:title=\"psysml:e70b16f9-62c0-40f3-a087-aa973c352c22\" xlink:type=\"simple\"><path d=\"M247.3,188.09 C234.42,201.24 216.95,219.06 201.79,234.53 \" fill=\"none\" id=\"E2-&gt;E3\" style=\"stroke: #A80036; stroke-width: 1.0;\"/><polygon fill=\"#FFFFFF\" points=\"187.65,248.97,195.9397,230.4962,205.9437,240.2901,187.65,248.97\" style=\"stroke: #A80036; stroke-width: 1.0;\"/><ellipse cx=\"201.3564\" cy=\"227.8223\" fill=\"#A80036\" rx=\"2\" ry=\"2\" style=\"stroke: #A80036; stroke-width: 1.0;\"/><ellipse cx=\"208.5021\" cy=\"234.8179\" fill=\"#A80036\" rx=\"2\" ry=\"2\" style=\"stroke: #A80036; stroke-width: 1.0;\"/></a><!--MD5=[4672eba38e49728da53d11aeb285b987]\n",
       "reverse link E3 to E4--><a href=\"psysml:f5164247-58fc-45c1-bba3-2edebb195fbd\" target=\"_top\" title=\"psysml:f5164247-58fc-45c1-bba3-2edebb195fbd\" xlink:actuate=\"onRequest\" xlink:href=\"psysml:f5164247-58fc-45c1-bba3-2edebb195fbd\" xlink:show=\"new\" xlink:title=\"psysml:f5164247-58fc-45c1-bba3-2edebb195fbd\" xlink:type=\"simple\"><path d=\"M138.27,292.03 C120.72,306.42 100.07,326.8 89,350 C77.43,374.25 76.5,405.85 77.38,425.79 \" fill=\"none\" id=\"E3&lt;-E4\" style=\"stroke: #A80036; stroke-width: 1.0;\"/><polygon fill=\"#A80036\" points=\"148.68,283.88,141.4897,284.427,139.2291,291.2746,146.4194,290.7276,148.68,283.88\" style=\"stroke: #A80036; stroke-width: 1.0;\"/><text fill=\"#000000\" font-family=\"sans-serif\" font-size=\"13\" lengthAdjust=\"spacingAndGlyphs\" textLength=\"8\" x=\"67.7994\" y=\"415.0821\">1</text></a><!--MD5=[191cde3d490a3f6d7bb551fe3ddca469]\n",
       "reverse link E3 to E5--><a href=\"psysml:0e10322d-8096-4d1c-ad13-bcf359abd35a\" target=\"_top\" title=\"psysml:0e10322d-8096-4d1c-ad13-bcf359abd35a\" xlink:actuate=\"onRequest\" xlink:href=\"psysml:0e10322d-8096-4d1c-ad13-bcf359abd35a\" xlink:show=\"new\" xlink:title=\"psysml:0e10322d-8096-4d1c-ad13-bcf359abd35a\" xlink:type=\"simple\"><path d=\"M181.65,301.47 C187.92,317.08 195.36,335.57 201.04,349.7 \" fill=\"none\" id=\"E3&lt;-E5\" style=\"stroke: #A80036; stroke-width: 1.0;\"/><polygon fill=\"#FFFFFF\" points=\"176.71,289.19,175.2345,296.2485,181.1826,300.3253,182.6581,293.2668,176.71,289.19\" style=\"stroke: #A80036; stroke-width: 1.0;\"/><text fill=\"#000000\" font-family=\"sans-serif\" font-size=\"13\" lengthAdjust=\"spacingAndGlyphs\" textLength=\"8\" x=\"189.719\" y=\"338.8994\">1</text></a><!--MD5=[79568f1e445c3877b6a54524624ccc7d]\n",
       "link E4 to E6--><a href=\"psysml:cd799d59-974c-4cd5-b2a4-5d2e853ea550\" target=\"_top\" title=\"psysml:cd799d59-974c-4cd5-b2a4-5d2e853ea550\" xlink:actuate=\"onRequest\" xlink:href=\"psysml:cd799d59-974c-4cd5-b2a4-5d2e853ea550\" xlink:show=\"new\" xlink:title=\"psysml:cd799d59-974c-4cd5-b2a4-5d2e853ea550\" xlink:type=\"simple\"><path d=\"M86.74,466.1 C98.93,496.15 122.8,555.04 138.58,593.96 \" fill=\"none\" id=\"E4-&gt;E6\" style=\"stroke: #A80036; stroke-width: 1.0;\"/><polygon fill=\"#FFFFFF\" points=\"146.19,612.73,132.5666,597.7499,145.5417,592.4919,146.19,612.73\" style=\"stroke: #A80036; stroke-width: 1.0;\"/><ellipse cx=\"132.2794\" cy=\"591.7161\" fill=\"#A80036\" rx=\"2\" ry=\"2\" style=\"stroke: #A80036; stroke-width: 1.0;\"/><ellipse cx=\"141.5473\" cy=\"587.9604\" fill=\"#A80036\" rx=\"2\" ry=\"2\" style=\"stroke: #A80036; stroke-width: 1.0;\"/></a><!--MD5=[3f50a3473f1dfb74d3f76443e03635af]\n",
       "reverse link E6 to E7--><a href=\"psysml:f66c29ee-70ba-402f-a3a4-159df7b46130\" target=\"_top\" title=\"psysml:f66c29ee-70ba-402f-a3a4-159df7b46130\" xlink:actuate=\"onRequest\" xlink:href=\"psysml:f66c29ee-70ba-402f-a3a4-159df7b46130\" xlink:show=\"new\" xlink:title=\"psysml:f66c29ee-70ba-402f-a3a4-159df7b46130\" xlink:type=\"simple\"><path d=\"M179.15,663.15 C193.01,679.22 209.96,698.87 222.76,713.7 \" fill=\"none\" id=\"E6&lt;-E7\" style=\"stroke: #A80036; stroke-width: 1.0;\"/><polygon fill=\"#A80036\" points=\"170.55,653.19,171.4382,660.3462,178.3855,662.2787,177.4973,655.1225,170.55,653.19\" style=\"stroke: #A80036; stroke-width: 1.0;\"/><text fill=\"#000000\" font-family=\"sans-serif\" font-size=\"13\" lengthAdjust=\"spacingAndGlyphs\" textLength=\"8\" x=\"208.8047\" y=\"702.8994\">1</text></a><!--MD5=[14ccda38c055a5c0da953d572bc50960]\n",
       "link E7 to E3--><a href=\"psysml:4b14459c-c0ea-47eb-ae95-5bdd156140b8\" target=\"_top\" title=\"psysml:4b14459c-c0ea-47eb-ae95-5bdd156140b8\" xlink:actuate=\"onRequest\" xlink:href=\"psysml:4b14459c-c0ea-47eb-ae95-5bdd156140b8\" xlink:show=\"new\" xlink:title=\"psysml:4b14459c-c0ea-47eb-ae95-5bdd156140b8\" xlink:type=\"simple\"><path d=\"M255.5,713.79 C266.43,693.7 280,662.91 280,634 C280,372 280,372 280,372 C280,331.58 239.6,302.81 207.54,286.34 \" fill=\"none\" id=\"E7-&gt;E3\" style=\"stroke: #A80036; stroke-width: 1.0;\"/><polygon fill=\"#FFFFFF\" points=\"189.1,277.68,209.2735,279.4203,203.3225,292.0925,189.1,277.68\" style=\"stroke: #A80036; stroke-width: 1.0;\"/><ellipse cx=\"213.5828\" cy=\"283.6535\" fill=\"#A80036\" rx=\"2\" ry=\"2\" style=\"stroke: #A80036; stroke-width: 1.0;\"/><ellipse cx=\"209.332\" cy=\"292.7051\" fill=\"#A80036\" rx=\"2\" ry=\"2\" style=\"stroke: #A80036; stroke-width: 1.0;\"/></a><!--MD5=[dfaffb906826c3e5aca635516100ff21]\n",
       "link E5 to E8--><a href=\"psysml:7f99918d-ef62-497c-9b9a-668f89d0bef4\" target=\"_top\" title=\"psysml:7f99918d-ef62-497c-9b9a-668f89d0bef4\" xlink:actuate=\"onRequest\" xlink:href=\"psysml:7f99918d-ef62-497c-9b9a-668f89d0bef4\" xlink:show=\"new\" xlink:title=\"psysml:7f99918d-ef62-497c-9b9a-668f89d0bef4\" xlink:type=\"simple\"><path d=\"M201.25,396.03 C192.66,417.67 179.38,451.1 169.08,477.03 \" fill=\"none\" id=\"E5-&gt;E8\" style=\"stroke: #A80036; stroke-width: 1.0;\"/><polygon fill=\"#FFFFFF\" points=\"161.61,495.84,162.108,475.5977,175.1218,480.7592,161.61,495.84\" style=\"stroke: #A80036; stroke-width: 1.0;\"/><ellipse cx=\"166.0686\" cy=\"471.0366\" fill=\"#A80036\" rx=\"2\" ry=\"2\" style=\"stroke: #A80036; stroke-width: 1.0;\"/><ellipse cx=\"175.3642\" cy=\"474.7233\" fill=\"#A80036\" rx=\"2\" ry=\"2\" style=\"stroke: #A80036; stroke-width: 1.0;\"/></a><!--MD5=[03c8294790d3c57651a1993cecff665f]\n",
       "reverse link E8 to E3--><a href=\"psysml:8abdebaf-64f0-40cf-a780-4a21932975d8\" target=\"_top\" title=\"psysml:8abdebaf-64f0-40cf-a780-4a21932975d8\" xlink:actuate=\"onRequest\" xlink:href=\"psysml:8abdebaf-64f0-40cf-a780-4a21932975d8\" xlink:show=\"new\" xlink:title=\"psysml:8abdebaf-64f0-40cf-a780-4a21932975d8\" xlink:type=\"simple\"><path d=\"M150.54,482.63 C147.6,449.27 144.63,395.82 150,350 C152.47,328.87 158.5,305.24 163.11,289.17 \" fill=\"none\" id=\"E8&lt;-E3\" style=\"stroke: #A80036; stroke-width: 1.0;\"/><polygon fill=\"#FFFFFF\" points=\"151.77,495.61,155.1851,489.2589,150.636,483.6637,147.2209,490.0148,151.77,495.61\" style=\"stroke: #A80036; stroke-width: 1.0;\"/><text fill=\"#000000\" font-family=\"sans-serif\" font-size=\"13\" lengthAdjust=\"spacingAndGlyphs\" textLength=\"7\" x=\"151\" y=\"377.5669\">y</text></a><!--MD5=[0d75d2178373a6a4568e5dc728f58aef]\n",
       "reverse link E8 to E6--><a href=\"psysml:8abdebaf-64f0-40cf-a780-4a21932975d8\" target=\"_top\" title=\"psysml:8abdebaf-64f0-40cf-a780-4a21932975d8\" xlink:actuate=\"onRequest\" xlink:href=\"psysml:8abdebaf-64f0-40cf-a780-4a21932975d8\" xlink:show=\"new\" xlink:title=\"psysml:8abdebaf-64f0-40cf-a780-4a21932975d8\" xlink:type=\"simple\"><path d=\"M154,549.36 C154,569.76 154,595.42 154,612.69 \" fill=\"none\" id=\"E8&lt;-E6\" style=\"stroke: #A80036; stroke-width: 1.0;\"/><polygon fill=\"#FFFFFF\" points=\"154,536.25,150,542.25,154,548.25,158,542.25,154,536.25\" style=\"stroke: #A80036; stroke-width: 1.0;\"/><text fill=\"#000000\" font-family=\"sans-serif\" font-size=\"13\" lengthAdjust=\"spacingAndGlyphs\" textLength=\"7\" x=\"155\" y=\"579.0669\">y</text></a><!--MD5=[23ac544a70576c3e717098101004234c]\n",
       "reverse link E9 to E10--><a href=\"psysml:4b97f70b-21b5-47d0-9b80-bf68f1206e68\" target=\"_top\" title=\"psysml:4b97f70b-21b5-47d0-9b80-bf68f1206e68\" xlink:actuate=\"onRequest\" xlink:href=\"psysml:4b97f70b-21b5-47d0-9b80-bf68f1206e68\" xlink:show=\"new\" xlink:title=\"psysml:4b97f70b-21b5-47d0-9b80-bf68f1206e68\" xlink:type=\"simple\"><path d=\"M104.95,98.49 C95.61,114.92 84.7,134.11 76.81,148 \" fill=\"none\" id=\"E9&lt;-E10\" style=\"stroke: #A80036; stroke-width: 1.0;\"/><polygon fill=\"#FFFFFF\" points=\"111.41,87.13,104.9664,90.3672,105.4762,97.5603,111.9199,94.3231,111.41,87.13\" style=\"stroke: #A80036; stroke-width: 1.0;\"/><text fill=\"#000000\" font-family=\"sans-serif\" font-size=\"13\" lengthAdjust=\"spacingAndGlyphs\" textLength=\"8\" x=\"70.8104\" y=\"137.0083\">1</text></a><!--MD5=[feeac5eb423634930294aa81f2d25a4c]\n",
       "link E10 to E3--><a href=\"psysml:890b43d2-a44a-4df9-b863-0c7f323950a1\" target=\"_top\" title=\"psysml:890b43d2-a44a-4df9-b863-0c7f323950a1\" xlink:actuate=\"onRequest\" xlink:href=\"psysml:890b43d2-a44a-4df9-b863-0c7f323950a1\" xlink:show=\"new\" xlink:title=\"psysml:890b43d2-a44a-4df9-b863-0c7f323950a1\" xlink:type=\"simple\"><path d=\"M85.86,188.09 C99.68,201.37 118.47,219.43 134.69,235.02 \" fill=\"none\" id=\"E10-&gt;E3\" style=\"stroke: #A80036; stroke-width: 1.0;\"/><polygon fill=\"#FFFFFF\" points=\"149.2,248.97,130.6476,240.8578,140.3451,230.7604,149.2,248.97\" style=\"stroke: #A80036; stroke-width: 1.0;\"/><ellipse cx=\"127.9219\" cy=\"235.467\" fill=\"#A80036\" rx=\"2\" ry=\"2\" style=\"stroke: #A80036; stroke-width: 1.0;\"/><ellipse cx=\"134.8487\" cy=\"228.2546\" fill=\"#A80036\" rx=\"2\" ry=\"2\" style=\"stroke: #A80036; stroke-width: 1.0;\"/></a><!--MD5=[1fc04a95fd77ad5ce46c1a3027516051]\n",
       "reverse link E9 to E11--><a href=\"psysml:75cdd26f-47cf-45db-b14e-ba01ceb3edc6\" target=\"_top\" title=\"psysml:75cdd26f-47cf-45db-b14e-ba01ceb3edc6\" xlink:actuate=\"onRequest\" xlink:href=\"psysml:75cdd26f-47cf-45db-b14e-ba01ceb3edc6\" xlink:show=\"new\" xlink:title=\"psysml:75cdd26f-47cf-45db-b14e-ba01ceb3edc6\" xlink:type=\"simple\"><path d=\"M139.2,99.45 C146.35,115.67 154.61,134.38 160.62,148 \" fill=\"none\" id=\"E9&lt;-E11\" style=\"stroke: #A80036; stroke-width: 1.0;\"/><polygon fill=\"#FFFFFF\" points=\"133.76,87.13,132.5217,94.234,138.603,98.1093,139.8413,91.0053,133.76,87.13\" style=\"stroke: #A80036; stroke-width: 1.0;\"/><text fill=\"#000000\" font-family=\"sans-serif\" font-size=\"13\" lengthAdjust=\"spacingAndGlyphs\" textLength=\"8\" x=\"148.9834\" y=\"137.0083\">1</text></a><!--MD5=[0517f1ce58c4d5483948f93845c45e26]\n",
       "link E11 to E3--><a href=\"psysml:92dee77c-180b-445a-a05e-737a71661cde\" target=\"_top\" title=\"psysml:92dee77c-180b-445a-a05e-737a71661cde\" xlink:actuate=\"onRequest\" xlink:href=\"psysml:92dee77c-180b-445a-a05e-737a71661cde\" xlink:show=\"new\" xlink:title=\"psysml:92dee77c-180b-445a-a05e-737a71661cde\" xlink:type=\"simple\"><path d=\"M169,188.09 C169,199.59 169,214.68 169,228.63 \" fill=\"none\" id=\"E11-&gt;E3\" style=\"stroke: #A80036; stroke-width: 1.0;\"/><polygon fill=\"#FFFFFF\" points=\"169,248.97,162,229.97,176,229.97,169,248.97\" style=\"stroke: #A80036; stroke-width: 1.0;\"/><ellipse cx=\"164\" cy=\"224.27\" fill=\"#A80036\" rx=\"2\" ry=\"2\" style=\"stroke: #A80036; stroke-width: 1.0;\"/><ellipse cx=\"174\" cy=\"224.27\" fill=\"#A80036\" rx=\"2\" ry=\"2\" style=\"stroke: #A80036; stroke-width: 1.0;\"/></a><!--MD5=[f83ed882691b09b329f4d445cd215be8]\n",
       "@startuml\r\n",
       " \r\n",
       "package \"ItemTest\" as E1  [[psysml:8469bc55-64be-4e75-90cd-bb271a7bb256 ]]  {\r\n",
       "comp usage \"f: A \" as E2 << << (P,limegreen) >> [[psysml:6cbf61b0-82f0-477a-9e61-503ee7ef8ab3 ]] {\r\n",
       "}\r\n",
       "comp def \"A\" as E3 << << (B,green) >> [[psysml:73e4759d-5191-4c8c-b634-f2bc1b43e3a3 ]] {\r\n",
       "}\r\n",
       "comp usage \"b: B \" as E4 << << (P,limegreen) >> [[psysml:22dedc78-8a6f-47e7-a1b3-f5299f454177 ]] {\r\n",
       "}\r\n",
       "comp usage \"c: C \" as E5 << << (P,limegreen) part>> [[psysml:d5b518cb-4e9d-48f6-86e4-811292cf7103 ]] {\r\n",
       "}\r\n",
       "comp def \"<i>B</i>\" as E6 << << (B,green) >> [[psysml:7fb13a86-95b9-42ac-ac4a-d3cbb2045ff7 ]] {\r\n",
       "}\r\n",
       "comp usage \"<i>a</i>: A \" as E7 << << (P,limegreen) part>> [[psysml:b4d408e4-c35f-4021-90a0-c54c4c634ca8 ]] {\r\n",
       "}\r\n",
       "comp def \"C\" as E8 << << (B,green) >> [[psysml:53104107-4f2e-4822-81be-c90629c3152e ]] {\r\n",
       "}\r\n",
       "comp def \"P\" as E9 << <<(D,brown) port  def>> [[psysml:96c92d64-4061-42f0-9733-a4ee9bfee5f1 ]] {\r\n",
       "}\r\n",
       "comp usage \"a1: A \" as E10 << << (P,limegreen) >> [[psysml:21151bb4-f160-49b9-964a-222b3c2d7b6c ]] {\r\n",
       "}\r\n",
       "comp usage \"a2: A \" as E11 << << (P,limegreen) >> [[psysml:048eeab4-ab84-4a9d-8dc8-2b5e8335cff3 ]] {\r\n",
       "}\r\n",
       "}\r\n",
       "E2 - -:|> E3 [[psysml:e70b16f9-62c0-40f3-a087-aa973c352c22 ]] \r\n",
       "E3 *- - \"1\"E4 [[psysml:f5164247-58fc-45c1-bba3-2edebb195fbd ]] \r\n",
       "E3 o- - \"1\"E5 [[psysml:0e10322d-8096-4d1c-ad13-bcf359abd35a ]] \r\n",
       "E4 - -:|> E6 [[psysml:cd799d59-974c-4cd5-b2a4-5d2e853ea550 ]] \r\n",
       "E6 *- - \"1\"E7 [[psysml:f66c29ee-70ba-402f-a3a4-159df7b46130 ]] \r\n",
       "E7 - -:|> E3 [[psysml:4b14459c-c0ea-47eb-ae95-5bdd156140b8 ]] \r\n",
       "E5 - -:|> E8 [[psysml:7f99918d-ef62-497c-9b9a-668f89d0bef4 ]] \r\n",
       "E8 o- - E3 [[psysml:8abdebaf-64f0-40cf-a780-4a21932975d8 ]] : y\r\n",
       "E8 o- - E6 [[psysml:8abdebaf-64f0-40cf-a780-4a21932975d8 ]] : y\r\n",
       "E9 o- - \"1\"E10 [[psysml:4b97f70b-21b5-47d0-9b80-bf68f1206e68 ]] \r\n",
       "E10 - -:|> E3 [[psysml:890b43d2-a44a-4df9-b863-0c7f323950a1 ]] \r\n",
       "E9 o- - \"1\"E11 [[psysml:75cdd26f-47cf-45db-b14e-ba01ceb3edc6 ]] \r\n",
       "E11 - -:|> E3 [[psysml:92dee77c-180b-445a-a05e-737a71661cde ]] \r\n",
       "@enduml\r\n",
       "\n",
       "PlantUML version 1.2020.13(Sat Jun 13 12:26:38 UTC 2020)\n",
       "(EPL source distribution)\n",
       "Java Runtime: OpenJDK Runtime Environment\n",
       "JVM: OpenJDK 64-Bit Server VM\n",
       "Default Encoding: UTF-8\n",
       "Language: en\n",
       "Country: null\n",
       "--></g></svg>"
      ]
     },
     "execution_count": 36,
     "metadata": {},
     "output_type": "execute_result"
    }
   ],
   "source": [
    "%viz --style=\"PLANTUML\" --view=\"MIXED\" \"ItemTest\""
   ]
  },
  {
   "cell_type": "code",
   "execution_count": 37,
   "id": "5b5cb3f5",
   "metadata": {
    "execution": {
     "iopub.execute_input": "2022-03-21T07:49:11.589411Z",
     "iopub.status.busy": "2022-03-21T07:49:11.588969Z",
     "iopub.status.idle": "2022-03-21T07:49:11.628301Z",
     "shell.execute_reply": "2022-03-21T07:49:11.626656Z"
    }
   },
   "outputs": [
    {
     "data": {
      "image/svg+xml": [
       "<?xml version=\"1.0\" encoding=\"UTF-8\" standalone=\"no\"?><svg xmlns=\"http://www.w3.org/2000/svg\" xmlns:xlink=\"http://www.w3.org/1999/xlink\" contentScriptType=\"application/ecmascript\" contentStyleType=\"text/css\" height=\"818px\" preserveAspectRatio=\"none\" style=\"width:270px;height:818px;\" version=\"1.1\" viewBox=\"0 0 270 818\" width=\"270px\" zoomAndPan=\"magnify\"><defs/><g><!--MD5=[fbc87193dbaf4d95561dea2c320d4a47]\n",
       "cluster E1--><a href=\"psysml:8469bc55-64be-4e75-90cd-bb271a7bb256\" target=\"_top\" title=\"psysml:8469bc55-64be-4e75-90cd-bb271a7bb256\" xlink:actuate=\"onRequest\" xlink:href=\"psysml:8469bc55-64be-4e75-90cd-bb271a7bb256\" xlink:show=\"new\" xlink:title=\"psysml:8469bc55-64be-4e75-90cd-bb271a7bb256\" xlink:type=\"simple\"><polygon fill=\"#FFFFFF\" points=\"16,6,83,6,90,28.2969,248,28.2969,248,806,16,806,16,6\" style=\"stroke: #000000; stroke-width: 1.5;\"/><line style=\"stroke: #000000; stroke-width: 1.5;\" x1=\"16\" x2=\"90\" y1=\"28.2969\" y2=\"28.2969\"/><text fill=\"#000000\" font-family=\"sans-serif\" font-size=\"14\" font-weight=\"bold\" lengthAdjust=\"spacingAndGlyphs\" textLength=\"61\" x=\"20\" y=\"20.9951\">ItemTest</text></a><!--MD5=[b4997ac47864f28c2f74865a473b2911]\n",
       "class E2--><a href=\"psysml:6cbf61b0-82f0-477a-9e61-503ee7ef8ab3\" target=\"_top\" title=\"psysml:6cbf61b0-82f0-477a-9e61-503ee7ef8ab3\" xlink:actuate=\"onRequest\" xlink:href=\"psysml:6cbf61b0-82f0-477a-9e61-503ee7ef8ab3\" xlink:show=\"new\" xlink:title=\"psysml:6cbf61b0-82f0-477a-9e61-503ee7ef8ab3\" xlink:type=\"simple\"><rect fill=\"#FFFFFF\" height=\"45.9375\" id=\"E2\" rx=\"10\" ry=\"10\" style=\"stroke: #383838; stroke-width: 1.5;\" width=\"43\" x=\"188.5\" y=\"148\"/><text fill=\"#000000\" font-family=\"sans-serif\" font-size=\"12\" font-style=\"italic\" lengthAdjust=\"spacingAndGlyphs\" textLength=\"41\" x=\"189.5\" y=\"164.1387\">«item»</text><text fill=\"#000000\" font-family=\"sans-serif\" font-size=\"12\" lengthAdjust=\"spacingAndGlyphs\" textLength=\"20\" x=\"198\" y=\"178.1074\">f: A</text><line style=\"stroke: #383838; stroke-width: 1.5;\" x1=\"189.5\" x2=\"230.5\" y1=\"185.9375\" y2=\"185.9375\"/></a><!--MD5=[09b614a08d8cba4a07c9adeb5e0fee81]\n",
       "class E3--><a href=\"psysml:73e4759d-5191-4c8c-b634-f2bc1b43e3a3\" target=\"_top\" title=\"psysml:73e4759d-5191-4c8c-b634-f2bc1b43e3a3\" xlink:actuate=\"onRequest\" xlink:href=\"psysml:73e4759d-5191-4c8c-b634-f2bc1b43e3a3\" xlink:show=\"new\" xlink:title=\"psysml:73e4759d-5191-4c8c-b634-f2bc1b43e3a3\" xlink:type=\"simple\"><rect fill=\"#FFFFFF\" height=\"45.9375\" id=\"E3\" style=\"stroke: #383838; stroke-width: 1.5;\" width=\"71\" x=\"96.5\" y=\"255\"/><text fill=\"#000000\" font-family=\"sans-serif\" font-size=\"12\" font-style=\"italic\" lengthAdjust=\"spacingAndGlyphs\" textLength=\"69\" x=\"97.5\" y=\"271.1387\">«item  def»</text><text fill=\"#000000\" font-family=\"sans-serif\" font-size=\"12\" lengthAdjust=\"spacingAndGlyphs\" textLength=\"8\" x=\"128\" y=\"285.1074\">A</text><line style=\"stroke: #383838; stroke-width: 1.5;\" x1=\"97.5\" x2=\"166.5\" y1=\"292.9375\" y2=\"292.9375\"/></a><!--MD5=[ebbe1d658d1005bcc118a6aa81145e00]\n",
       "class E4--><a href=\"psysml:22dedc78-8a6f-47e7-a1b3-f5299f454177\" target=\"_top\" title=\"psysml:22dedc78-8a6f-47e7-a1b3-f5299f454177\" xlink:actuate=\"onRequest\" xlink:href=\"psysml:22dedc78-8a6f-47e7-a1b3-f5299f454177\" xlink:show=\"new\" xlink:title=\"psysml:22dedc78-8a6f-47e7-a1b3-f5299f454177\" xlink:type=\"simple\"><rect fill=\"#FFFFFF\" height=\"45.9375\" id=\"E4\" rx=\"10\" ry=\"10\" style=\"stroke: #383838; stroke-width: 1.5;\" width=\"43\" x=\"45.5\" y=\"438\"/><text fill=\"#000000\" font-family=\"sans-serif\" font-size=\"12\" font-style=\"italic\" lengthAdjust=\"spacingAndGlyphs\" textLength=\"41\" x=\"46.5\" y=\"454.1387\">«item»</text><text fill=\"#000000\" font-family=\"sans-serif\" font-size=\"12\" lengthAdjust=\"spacingAndGlyphs\" textLength=\"24\" x=\"53\" y=\"468.1074\">b: B</text><line style=\"stroke: #383838; stroke-width: 1.5;\" x1=\"46.5\" x2=\"87.5\" y1=\"475.9375\" y2=\"475.9375\"/></a><!--MD5=[270fce915f116d4de14055a7c1d9a0f3]\n",
       "class E5--><a href=\"psysml:d5b518cb-4e9d-48f6-86e4-811292cf7103\" target=\"_top\" title=\"psysml:d5b518cb-4e9d-48f6-86e4-811292cf7103\" xlink:actuate=\"onRequest\" xlink:href=\"psysml:d5b518cb-4e9d-48f6-86e4-811292cf7103\" xlink:show=\"new\" xlink:title=\"psysml:d5b518cb-4e9d-48f6-86e4-811292cf7103\" xlink:type=\"simple\"><rect fill=\"#FFFFFF\" height=\"45.9375\" id=\"E5\" rx=\"10\" ry=\"10\" style=\"stroke: #383838; stroke-width: 1.5;\" width=\"42\" x=\"151\" y=\"362\"/><text fill=\"#000000\" font-family=\"sans-serif\" font-size=\"12\" font-style=\"italic\" lengthAdjust=\"spacingAndGlyphs\" textLength=\"40\" x=\"152\" y=\"378.1387\">«part»</text><text fill=\"#000000\" font-family=\"sans-serif\" font-size=\"12\" lengthAdjust=\"spacingAndGlyphs\" textLength=\"23\" x=\"158.5\" y=\"392.1074\">c: C</text><line style=\"stroke: #383838; stroke-width: 1.5;\" x1=\"152\" x2=\"192\" y1=\"399.9375\" y2=\"399.9375\"/></a><!--MD5=[60a26617385b1d2d0262a64233df1f8d]\n",
       "class E6--><a href=\"psysml:7fb13a86-95b9-42ac-ac4a-d3cbb2045ff7\" target=\"_top\" title=\"psysml:7fb13a86-95b9-42ac-ac4a-d3cbb2045ff7\" xlink:actuate=\"onRequest\" xlink:href=\"psysml:7fb13a86-95b9-42ac-ac4a-d3cbb2045ff7\" xlink:show=\"new\" xlink:title=\"psysml:7fb13a86-95b9-42ac-ac4a-d3cbb2045ff7\" xlink:type=\"simple\"><rect fill=\"#FFFFFF\" height=\"45.9375\" id=\"E6\" style=\"stroke: #383838; stroke-width: 1.5;\" width=\"71\" x=\"112.5\" y=\"637\"/><text fill=\"#000000\" font-family=\"sans-serif\" font-size=\"12\" font-style=\"italic\" lengthAdjust=\"spacingAndGlyphs\" textLength=\"69\" x=\"113.5\" y=\"653.1387\">«item  def»</text><text fill=\"#000000\" font-family=\"sans-serif\" font-size=\"12\" font-style=\"italic\" lengthAdjust=\"spacingAndGlyphs\" textLength=\"8\" x=\"144\" y=\"667.1074\">B</text><line style=\"stroke: #383838; stroke-width: 1.5;\" x1=\"113.5\" x2=\"182.5\" y1=\"674.9375\" y2=\"674.9375\"/></a><!--MD5=[2156ba9850f5573cc1fc38a6a4b2f02b]\n",
       "class E7--><a href=\"psysml:b4d408e4-c35f-4021-90a0-c54c4c634ca8\" target=\"_top\" title=\"psysml:b4d408e4-c35f-4021-90a0-c54c4c634ca8\" xlink:actuate=\"onRequest\" xlink:href=\"psysml:b4d408e4-c35f-4021-90a0-c54c4c634ca8\" xlink:show=\"new\" xlink:title=\"psysml:b4d408e4-c35f-4021-90a0-c54c4c634ca8\" xlink:type=\"simple\"><rect fill=\"#FFFFFF\" height=\"45.9375\" id=\"E7\" rx=\"10\" ry=\"10\" style=\"stroke: #383838; stroke-width: 1.5;\" width=\"42\" x=\"159\" y=\"744\"/><text fill=\"#000000\" font-family=\"sans-serif\" font-size=\"12\" font-style=\"italic\" lengthAdjust=\"spacingAndGlyphs\" textLength=\"40\" x=\"160\" y=\"760.1387\">«part»</text><text fill=\"#000000\" font-family=\"sans-serif\" font-size=\"12\" font-style=\"italic\" lengthAdjust=\"spacingAndGlyphs\" textLength=\"8\" x=\"166\" y=\"774.1074\">a</text><text fill=\"#000000\" font-family=\"sans-serif\" font-size=\"12\" lengthAdjust=\"spacingAndGlyphs\" textLength=\"16\" x=\"174\" y=\"774.1074\">: A</text><line style=\"stroke: #383838; stroke-width: 1.5;\" x1=\"160\" x2=\"200\" y1=\"781.9375\" y2=\"781.9375\"/></a><!--MD5=[b9389687b975829384b498ac4b7476b2]\n",
       "class E8--><a href=\"psysml:53104107-4f2e-4822-81be-c90629c3152e\" target=\"_top\" title=\"psysml:53104107-4f2e-4822-81be-c90629c3152e\" xlink:actuate=\"onRequest\" xlink:href=\"psysml:53104107-4f2e-4822-81be-c90629c3152e\" xlink:show=\"new\" xlink:title=\"psysml:53104107-4f2e-4822-81be-c90629c3152e\" xlink:type=\"simple\"><rect fill=\"#FFFFFF\" height=\"45.9375\" id=\"E8\" style=\"stroke: #383838; stroke-width: 1.5;\" width=\"70\" x=\"113\" y=\"514\"/><text fill=\"#000000\" font-family=\"sans-serif\" font-size=\"12\" font-style=\"italic\" lengthAdjust=\"spacingAndGlyphs\" textLength=\"68\" x=\"114\" y=\"530.1387\">«part  def»</text><text fill=\"#000000\" font-family=\"sans-serif\" font-size=\"12\" lengthAdjust=\"spacingAndGlyphs\" textLength=\"8\" x=\"144\" y=\"544.1074\">C</text><line style=\"stroke: #383838; stroke-width: 1.5;\" x1=\"114\" x2=\"182\" y1=\"551.9375\" y2=\"551.9375\"/></a><!--MD5=[fd4143e9d270a159db93a4ea2a975926]\n",
       "class E9--><a href=\"psysml:96c92d64-4061-42f0-9733-a4ee9bfee5f1\" target=\"_top\" title=\"psysml:96c92d64-4061-42f0-9733-a4ee9bfee5f1\" xlink:actuate=\"onRequest\" xlink:href=\"psysml:96c92d64-4061-42f0-9733-a4ee9bfee5f1\" xlink:show=\"new\" xlink:title=\"psysml:96c92d64-4061-42f0-9733-a4ee9bfee5f1\" xlink:type=\"simple\"><rect fill=\"#FFFFFF\" height=\"45.9375\" id=\"E9\" style=\"stroke: #383838; stroke-width: 1.5;\" width=\"70\" x=\"64\" y=\"41\"/><text fill=\"#000000\" font-family=\"sans-serif\" font-size=\"12\" font-style=\"italic\" lengthAdjust=\"spacingAndGlyphs\" textLength=\"68\" x=\"65\" y=\"57.1387\">«port  def»</text><text fill=\"#000000\" font-family=\"sans-serif\" font-size=\"12\" lengthAdjust=\"spacingAndGlyphs\" textLength=\"8\" x=\"95\" y=\"71.1074\">P</text><line style=\"stroke: #383838; stroke-width: 1.5;\" x1=\"65\" x2=\"133\" y1=\"78.9375\" y2=\"78.9375\"/></a><!--MD5=[96f4274e9e20536e775497830990834d]\n",
       "class E10--><a href=\"psysml:21151bb4-f160-49b9-964a-222b3c2d7b6c\" target=\"_top\" title=\"psysml:21151bb4-f160-49b9-964a-222b3c2d7b6c\" xlink:actuate=\"onRequest\" xlink:href=\"psysml:21151bb4-f160-49b9-964a-222b3c2d7b6c\" xlink:show=\"new\" xlink:title=\"psysml:21151bb4-f160-49b9-964a-222b3c2d7b6c\" xlink:type=\"simple\"><rect fill=\"#FFFFFF\" height=\"45.9375\" id=\"E10\" rx=\"10\" ry=\"10\" style=\"stroke: #383838; stroke-width: 1.5;\" width=\"43\" x=\"32.5\" y=\"148\"/><text fill=\"#000000\" font-family=\"sans-serif\" font-size=\"12\" font-style=\"italic\" lengthAdjust=\"spacingAndGlyphs\" textLength=\"41\" x=\"33.5\" y=\"164.1387\">«item»</text><text fill=\"#000000\" font-family=\"sans-serif\" font-size=\"12\" lengthAdjust=\"spacingAndGlyphs\" textLength=\"32\" x=\"36\" y=\"178.1074\">a1: A</text><line style=\"stroke: #383838; stroke-width: 1.5;\" x1=\"33.5\" x2=\"74.5\" y1=\"185.9375\" y2=\"185.9375\"/></a><!--MD5=[1dd1bfd58a279cf63c5f349dbc8fc6a1]\n",
       "class E11--><a href=\"psysml:048eeab4-ab84-4a9d-8dc8-2b5e8335cff3\" target=\"_top\" title=\"psysml:048eeab4-ab84-4a9d-8dc8-2b5e8335cff3\" xlink:actuate=\"onRequest\" xlink:href=\"psysml:048eeab4-ab84-4a9d-8dc8-2b5e8335cff3\" xlink:show=\"new\" xlink:title=\"psysml:048eeab4-ab84-4a9d-8dc8-2b5e8335cff3\" xlink:type=\"simple\"><rect fill=\"#FFFFFF\" height=\"45.9375\" id=\"E11\" rx=\"10\" ry=\"10\" style=\"stroke: #383838; stroke-width: 1.5;\" width=\"43\" x=\"110.5\" y=\"148\"/><text fill=\"#000000\" font-family=\"sans-serif\" font-size=\"12\" font-style=\"italic\" lengthAdjust=\"spacingAndGlyphs\" textLength=\"41\" x=\"111.5\" y=\"164.1387\">«item»</text><text fill=\"#000000\" font-family=\"sans-serif\" font-size=\"12\" lengthAdjust=\"spacingAndGlyphs\" textLength=\"32\" x=\"114\" y=\"178.1074\">a2: A</text><line style=\"stroke: #383838; stroke-width: 1.5;\" x1=\"111.5\" x2=\"152.5\" y1=\"185.9375\" y2=\"185.9375\"/></a><!--MD5=[2720a5a1f2c3fca2055b230370638851]\n",
       "link E2 to E3--><a href=\"psysml:e70b16f9-62c0-40f3-a087-aa973c352c22\" target=\"_top\" title=\"psysml:e70b16f9-62c0-40f3-a087-aa973c352c22\" xlink:actuate=\"onRequest\" xlink:href=\"psysml:e70b16f9-62c0-40f3-a087-aa973c352c22\" xlink:show=\"new\" xlink:title=\"psysml:e70b16f9-62c0-40f3-a087-aa973c352c22\" xlink:type=\"simple\"><path d=\"M193.65,194.01 C184.14,206.81 171.89,223.3 160.82,238.2 \" fill=\"none\" id=\"E2-&gt;E3\" style=\"stroke: #383838; stroke-width: 1.0;\"/><polygon fill=\"#FFFFFF\" points=\"148.6,254.66,154.3195,235.2361,165.5543,243.5896,148.6,254.66\" style=\"stroke: #383838; stroke-width: 1.0;\"/><ellipse cx=\"159.3256\" cy=\"231.8554\" fill=\"#383838\" rx=\"2\" ry=\"2\" style=\"stroke: #383838; stroke-width: 1.0;\"/><ellipse cx=\"167.3504\" cy=\"237.8221\" fill=\"#383838\" rx=\"2\" ry=\"2\" style=\"stroke: #383838; stroke-width: 1.0;\"/></a><!--MD5=[4672eba38e49728da53d11aeb285b987]\n",
       "reverse link E3 to E4--><a href=\"psysml:f5164247-58fc-45c1-bba3-2edebb195fbd\" target=\"_top\" title=\"psysml:f5164247-58fc-45c1-bba3-2edebb195fbd\" xlink:actuate=\"onRequest\" xlink:href=\"psysml:f5164247-58fc-45c1-bba3-2edebb195fbd\" xlink:show=\"new\" xlink:title=\"psysml:f5164247-58fc-45c1-bba3-2edebb195fbd\" xlink:type=\"simple\"><path d=\"M97.11,310.9 C84.08,325.11 70.81,342.94 64,362 C55.12,386.85 58.09,417.53 61.82,437.88 \" fill=\"none\" id=\"E3&lt;-E4\" style=\"stroke: #383838; stroke-width: 1.0;\"/><polygon fill=\"#383838\" points=\"106.46,301.23,99.4153,302.7703,98.1277,309.8655,105.1724,308.3252,106.46,301.23\" style=\"stroke: #383838; stroke-width: 1.0;\"/><text fill=\"#000000\" font-family=\"sans-serif\" font-size=\"13\" lengthAdjust=\"spacingAndGlyphs\" textLength=\"8\" x=\"51.3529\" y=\"426.744\">1</text></a><!--MD5=[191cde3d490a3f6d7bb551fe3ddca469]\n",
       "reverse link E3 to E5--><a href=\"psysml:0e10322d-8096-4d1c-ad13-bcf359abd35a\" target=\"_top\" title=\"psysml:0e10322d-8096-4d1c-ad13-bcf359abd35a\" xlink:actuate=\"onRequest\" xlink:href=\"psysml:0e10322d-8096-4d1c-ad13-bcf359abd35a\" xlink:show=\"new\" xlink:title=\"psysml:0e10322d-8096-4d1c-ad13-bcf359abd35a\" xlink:type=\"simple\"><path d=\"M145.17,313.57 C151.2,329.39 158.16,347.68 163.49,361.66 \" fill=\"none\" id=\"E3&lt;-E5\" style=\"stroke: #383838; stroke-width: 1.0;\"/><polygon fill=\"#FFFFFF\" points=\"140.39,301.01,138.7866,308.0406,144.6598,312.2247,146.2631,305.1941,140.39,301.01\" style=\"stroke: #383838; stroke-width: 1.0;\"/><text fill=\"#000000\" font-family=\"sans-serif\" font-size=\"13\" lengthAdjust=\"spacingAndGlyphs\" textLength=\"8\" x=\"152.2843\" y=\"350.8492\">1</text></a><!--MD5=[79568f1e445c3877b6a54524624ccc7d]\n",
       "link E4 to E6--><a href=\"psysml:cd799d59-974c-4cd5-b2a4-5d2e853ea550\" target=\"_top\" title=\"psysml:cd799d59-974c-4cd5-b2a4-5d2e853ea550\" xlink:actuate=\"onRequest\" xlink:href=\"psysml:cd799d59-974c-4cd5-b2a4-5d2e853ea550\" xlink:show=\"new\" xlink:title=\"psysml:cd799d59-974c-4cd5-b2a4-5d2e853ea550\" xlink:type=\"simple\"><path d=\"M72.25,484.22 C77.31,504.36 85.72,534.68 96,560 C104.15,580.08 115.08,601.47 124.82,619.21 \" fill=\"none\" id=\"E4-&gt;E6\" style=\"stroke: #383838; stroke-width: 1.0;\"/><polygon fill=\"#FFFFFF\" points=\"134.72,636.8,119.2979,623.6791,131.4967,616.8097,134.72,636.8\" style=\"stroke: #383838; stroke-width: 1.0;\"/><ellipse cx=\"118.2438\" cy=\"617.7311\" fill=\"#383838\" rx=\"2\" ry=\"2\" style=\"stroke: #383838; stroke-width: 1.0;\"/><ellipse cx=\"126.9572\" cy=\"612.8244\" fill=\"#383838\" rx=\"2\" ry=\"2\" style=\"stroke: #383838; stroke-width: 1.0;\"/></a><!--MD5=[3f50a3473f1dfb74d3f76443e03635af]\n",
       "reverse link E6 to E7--><a href=\"psysml:f66c29ee-70ba-402f-a3a4-159df7b46130\" target=\"_top\" title=\"psysml:f66c29ee-70ba-402f-a3a4-159df7b46130\" xlink:actuate=\"onRequest\" xlink:href=\"psysml:f66c29ee-70ba-402f-a3a4-159df7b46130\" xlink:show=\"new\" xlink:title=\"psysml:f66c29ee-70ba-402f-a3a4-159df7b46130\" xlink:type=\"simple\"><path d=\"M158.54,695.57 C163.36,711.39 168.93,729.68 173.19,743.66 \" fill=\"none\" id=\"E6&lt;-E7\" style=\"stroke: #383838; stroke-width: 1.0;\"/><polygon fill=\"#383838\" points=\"154.71,683.01,152.6319,689.9152,158.2066,694.4893,160.2847,687.5841,154.71,683.01\" style=\"stroke: #383838; stroke-width: 1.0;\"/><text fill=\"#000000\" font-family=\"sans-serif\" font-size=\"13\" lengthAdjust=\"spacingAndGlyphs\" textLength=\"8\" x=\"162.4199\" y=\"732.8492\">1</text></a><!--MD5=[14ccda38c055a5c0da953d572bc50960]\n",
       "link E7 to E3--><a href=\"psysml:4b14459c-c0ea-47eb-ae95-5bdd156140b8\" target=\"_top\" title=\"psysml:4b14459c-c0ea-47eb-ae95-5bdd156140b8\" xlink:actuate=\"onRequest\" xlink:href=\"psysml:4b14459c-c0ea-47eb-ae95-5bdd156140b8\" xlink:show=\"new\" xlink:title=\"psysml:4b14459c-c0ea-47eb-ae95-5bdd156140b8\" xlink:type=\"simple\"><path d=\"M197.41,743.63 C211.5,723.27 229,691.78 229,661 C229,384 229,384 229,384 C229,353.7 206.93,328.42 183.85,310.26 \" fill=\"none\" id=\"E7-&gt;E3\" style=\"stroke: #383838; stroke-width: 1.0;\"/><polygon fill=\"#FFFFFF\" points=\"167.57,298.59,187.0929,303.9617,178.9414,315.3438,167.57,298.59\" style=\"stroke: #383838; stroke-width: 1.0;\"/><ellipse cx=\"190.5626\" cy=\"308.9066\" fill=\"#383838\" rx=\"2\" ry=\"2\" style=\"stroke: #383838; stroke-width: 1.0;\"/><ellipse cx=\"184.7401\" cy=\"317.0367\" fill=\"#383838\" rx=\"2\" ry=\"2\" style=\"stroke: #383838; stroke-width: 1.0;\"/></a><!--MD5=[dfaffb906826c3e5aca635516100ff21]\n",
       "link E5 to E8--><a href=\"psysml:7f99918d-ef62-497c-9b9a-668f89d0bef4\" target=\"_top\" title=\"psysml:7f99918d-ef62-497c-9b9a-668f89d0bef4\" xlink:actuate=\"onRequest\" xlink:href=\"psysml:7f99918d-ef62-497c-9b9a-668f89d0bef4\" xlink:show=\"new\" xlink:title=\"psysml:7f99918d-ef62-497c-9b9a-668f89d0bef4\" xlink:type=\"simple\"><path d=\"M168.46,408.13 C164.86,430.62 159.2,466.01 154.74,493.87 \" fill=\"none\" id=\"E5-&gt;E8\" style=\"stroke: #383838; stroke-width: 1.0;\"/><polygon fill=\"#FFFFFF\" points=\"151.56,513.78,147.6458,493.9135,161.4704,496.1226,151.56,513.78\" style=\"stroke: #383838; stroke-width: 1.0;\"/><ellipse cx=\"150.5202\" cy=\"488.6005\" fill=\"#383838\" rx=\"2\" ry=\"2\" style=\"stroke: #383838; stroke-width: 1.0;\"/><ellipse cx=\"160.3949\" cy=\"490.1784\" fill=\"#383838\" rx=\"2\" ry=\"2\" style=\"stroke: #383838; stroke-width: 1.0;\"/></a><!--MD5=[03c8294790d3c57651a1993cecff665f]\n",
       "reverse link E8 to E3--><a href=\"psysml:8abdebaf-64f0-40cf-a780-4a21932975d8\" target=\"_top\" title=\"psysml:8abdebaf-64f0-40cf-a780-4a21932975d8\" xlink:actuate=\"onRequest\" xlink:href=\"psysml:8abdebaf-64f0-40cf-a780-4a21932975d8\" xlink:show=\"new\" xlink:title=\"psysml:8abdebaf-64f0-40cf-a780-4a21932975d8\" xlink:type=\"simple\"><path d=\"M140.02,501.22 C134.57,475.6 127.84,439.84 125,408 C123.18,387.64 124.14,382.43 125,362 C125.87,341.34 127.95,317.86 129.62,301.16 \" fill=\"none\" id=\"E8&lt;-E3\" style=\"stroke: #383838; stroke-width: 1.0;\"/><polygon fill=\"#FFFFFF\" points=\"142.81,513.96,145.4388,507.2451,140.2515,502.2359,137.6227,508.9508,142.81,513.96\" style=\"stroke: #383838; stroke-width: 1.0;\"/><text fill=\"#000000\" font-family=\"sans-serif\" font-size=\"13\" lengthAdjust=\"spacingAndGlyphs\" textLength=\"7\" x=\"126\" y=\"389.5669\">y</text></a><!--MD5=[0d75d2178373a6a4568e5dc728f58aef]\n",
       "reverse link E8 to E6--><a href=\"psysml:8abdebaf-64f0-40cf-a780-4a21932975d8\" target=\"_top\" title=\"psysml:8abdebaf-64f0-40cf-a780-4a21932975d8\" xlink:actuate=\"onRequest\" xlink:href=\"psysml:8abdebaf-64f0-40cf-a780-4a21932975d8\" xlink:show=\"new\" xlink:title=\"psysml:8abdebaf-64f0-40cf-a780-4a21932975d8\" xlink:type=\"simple\"><path d=\"M148,573.22 C148,593.81 148,619.16 148,636.95 \" fill=\"none\" id=\"E8&lt;-E6\" style=\"stroke: #383838; stroke-width: 1.0;\"/><polygon fill=\"#FFFFFF\" points=\"148,560.19,144,566.19,148,572.19,152,566.19,148,560.19\" style=\"stroke: #383838; stroke-width: 1.0;\"/><text fill=\"#000000\" font-family=\"sans-serif\" font-size=\"13\" lengthAdjust=\"spacingAndGlyphs\" textLength=\"7\" x=\"149\" y=\"603.0669\">y</text></a><!--MD5=[23ac544a70576c3e717098101004234c]\n",
       "reverse link E9 to E10--><a href=\"psysml:4b97f70b-21b5-47d0-9b80-bf68f1206e68\" target=\"_top\" title=\"psysml:4b97f70b-21b5-47d0-9b80-bf68f1206e68\" xlink:actuate=\"onRequest\" xlink:href=\"psysml:4b97f70b-21b5-47d0-9b80-bf68f1206e68\" xlink:show=\"new\" xlink:title=\"psysml:4b97f70b-21b5-47d0-9b80-bf68f1206e68\" xlink:type=\"simple\"><path d=\"M84.39,99.1 C77.56,115.03 69.63,133.54 63.58,147.66 \" fill=\"none\" id=\"E9&lt;-E10\" style=\"stroke: #383838; stroke-width: 1.0;\"/><polygon fill=\"#FFFFFF\" points=\"89.57,87.01,83.5327,90.9535,84.8509,98.0431,90.8882,94.0996,89.57,87.01\" style=\"stroke: #383838; stroke-width: 1.0;\"/><text fill=\"#000000\" font-family=\"sans-serif\" font-size=\"13\" lengthAdjust=\"spacingAndGlyphs\" textLength=\"8\" x=\"57.0099\" y=\"136.8492\">1</text></a><!--MD5=[feeac5eb423634930294aa81f2d25a4c]\n",
       "link E10 to E3--><a href=\"psysml:890b43d2-a44a-4df9-b863-0c7f323950a1\" target=\"_top\" title=\"psysml:890b43d2-a44a-4df9-b863-0c7f323950a1\" xlink:actuate=\"onRequest\" xlink:href=\"psysml:890b43d2-a44a-4df9-b863-0c7f323950a1\" xlink:show=\"new\" xlink:title=\"psysml:890b43d2-a44a-4df9-b863-0c7f323950a1\" xlink:type=\"simple\"><path d=\"M70.35,194.01 C79.86,206.81 92.11,223.3 103.18,238.2 \" fill=\"none\" id=\"E10-&gt;E3\" style=\"stroke: #383838; stroke-width: 1.0;\"/><polygon fill=\"#FFFFFF\" points=\"115.4,254.66,98.4457,243.5896,109.6805,235.2361,115.4,254.66\" style=\"stroke: #383838; stroke-width: 1.0;\"/><ellipse cx=\"96.6496\" cy=\"237.8221\" fill=\"#383838\" rx=\"2\" ry=\"2\" style=\"stroke: #383838; stroke-width: 1.0;\"/><ellipse cx=\"104.6744\" cy=\"231.8554\" fill=\"#383838\" rx=\"2\" ry=\"2\" style=\"stroke: #383838; stroke-width: 1.0;\"/></a><!--MD5=[1fc04a95fd77ad5ce46c1a3027516051]\n",
       "reverse link E9 to E11--><a href=\"psysml:75cdd26f-47cf-45db-b14e-ba01ceb3edc6\" target=\"_top\" title=\"psysml:75cdd26f-47cf-45db-b14e-ba01ceb3edc6\" xlink:actuate=\"onRequest\" xlink:href=\"psysml:75cdd26f-47cf-45db-b14e-ba01ceb3edc6\" xlink:show=\"new\" xlink:title=\"psysml:75cdd26f-47cf-45db-b14e-ba01ceb3edc6\" xlink:type=\"simple\"><path d=\"M109.87,99.57 C114.84,115.39 120.59,133.68 124.98,147.66 \" fill=\"none\" id=\"E9&lt;-E11\" style=\"stroke: #383838; stroke-width: 1.0;\"/><polygon fill=\"#FFFFFF\" points=\"105.92,87.01,103.9044,93.9337,109.5203,98.4572,111.5359,91.5335,105.92,87.01\" style=\"stroke: #383838; stroke-width: 1.0;\"/><text fill=\"#000000\" font-family=\"sans-serif\" font-size=\"13\" lengthAdjust=\"spacingAndGlyphs\" textLength=\"8\" x=\"114.1561\" y=\"136.8492\">1</text></a><!--MD5=[0517f1ce58c4d5483948f93845c45e26]\n",
       "link E11 to E3--><a href=\"psysml:92dee77c-180b-445a-a05e-737a71661cde\" target=\"_top\" title=\"psysml:92dee77c-180b-445a-a05e-737a71661cde\" xlink:actuate=\"onRequest\" xlink:href=\"psysml:92dee77c-180b-445a-a05e-737a71661cde\" xlink:show=\"new\" xlink:title=\"psysml:92dee77c-180b-445a-a05e-737a71661cde\" xlink:type=\"simple\"><path d=\"M132,194.01 C132,205.69 132,220.46 132,234.28 \" fill=\"none\" id=\"E11-&gt;E3\" style=\"stroke: #383838; stroke-width: 1.0;\"/><polygon fill=\"#FFFFFF\" points=\"132,254.66,125,235.66,139,235.66,132,254.66\" style=\"stroke: #383838; stroke-width: 1.0;\"/><ellipse cx=\"127\" cy=\"229.96\" fill=\"#383838\" rx=\"2\" ry=\"2\" style=\"stroke: #383838; stroke-width: 1.0;\"/><ellipse cx=\"137\" cy=\"229.96\" fill=\"#383838\" rx=\"2\" ry=\"2\" style=\"stroke: #383838; stroke-width: 1.0;\"/></a><!--MD5=[b1d4ff18aa51187c26a5d512e41beb76]\n",
       "@startuml\r\n",
       "skinparam monochrome true\r\n",
       "skinparam classbackgroundcolor white\r\n",
       "skinparam shadowing false\r\n",
       "skinparam wrapWidth 300\r\n",
       "hide circle\r\n",
       "\r\n",
       "package \"ItemTest\" as E1  [[psysml:8469bc55-64be-4e75-90cd-bb271a7bb256 ]]  {\r\n",
       "comp usage \"f: A \" as E2  <<(T,blue) item>> [[psysml:6cbf61b0-82f0-477a-9e61-503ee7ef8ab3 ]] {\r\n",
       "}\r\n",
       "comp def \"A\" as E3  <<(T,blue) item  def>> [[psysml:73e4759d-5191-4c8c-b634-f2bc1b43e3a3 ]] {\r\n",
       "}\r\n",
       "comp usage \"b: B \" as E4  <<(T,blue) item>> [[psysml:22dedc78-8a6f-47e7-a1b3-f5299f454177 ]] {\r\n",
       "}\r\n",
       "comp usage \"c: C \" as E5  <<(T,blue) part>> [[psysml:d5b518cb-4e9d-48f6-86e4-811292cf7103 ]] {\r\n",
       "}\r\n",
       "comp def \"<i>B</i>\" as E6  <<(T,blue) item  def>> [[psysml:7fb13a86-95b9-42ac-ac4a-d3cbb2045ff7 ]] {\r\n",
       "}\r\n",
       "comp usage \"<i>a</i>: A \" as E7  <<(T,blue) part>> [[psysml:b4d408e4-c35f-4021-90a0-c54c4c634ca8 ]] {\r\n",
       "}\r\n",
       "comp def \"C\" as E8  <<(T,blue) part  def>> [[psysml:53104107-4f2e-4822-81be-c90629c3152e ]] {\r\n",
       "}\r\n",
       "comp def \"P\" as E9  <<(T,blue) port  def>> [[psysml:96c92d64-4061-42f0-9733-a4ee9bfee5f1 ]] {\r\n",
       "}\r\n",
       "comp usage \"a1: A \" as E10  <<(T,blue) item>> [[psysml:21151bb4-f160-49b9-964a-222b3c2d7b6c ]] {\r\n",
       "}\r\n",
       "comp usage \"a2: A \" as E11  <<(T,blue) item>> [[psysml:048eeab4-ab84-4a9d-8dc8-2b5e8335cff3 ]] {\r\n",
       "}\r\n",
       "}\r\n",
       "E2 - -:|> E3 [[psysml:e70b16f9-62c0-40f3-a087-aa973c352c22 ]] \r\n",
       "E3 *- - \"1\"E4 [[psysml:f5164247-58fc-45c1-bba3-2edebb195fbd ]] \r\n",
       "E3 o- - \"1\"E5 [[psysml:0e10322d-8096-4d1c-ad13-bcf359abd35a ]] \r\n",
       "E4 - -:|> E6 [[psysml:cd799d59-974c-4cd5-b2a4-5d2e853ea550 ]] \r\n",
       "E6 *- - \"1\"E7 [[psysml:f66c29ee-70ba-402f-a3a4-159df7b46130 ]] \r\n",
       "E7 - -:|> E3 [[psysml:4b14459c-c0ea-47eb-ae95-5bdd156140b8 ]] \r\n",
       "E5 - -:|> E8 [[psysml:7f99918d-ef62-497c-9b9a-668f89d0bef4 ]] \r\n",
       "E8 o- - E3 [[psysml:8abdebaf-64f0-40cf-a780-4a21932975d8 ]] : y\r\n",
       "E8 o- - E6 [[psysml:8abdebaf-64f0-40cf-a780-4a21932975d8 ]] : y\r\n",
       "E9 o- - \"1\"E10 [[psysml:4b97f70b-21b5-47d0-9b80-bf68f1206e68 ]] \r\n",
       "E10 - -:|> E3 [[psysml:890b43d2-a44a-4df9-b863-0c7f323950a1 ]] \r\n",
       "E9 o- - \"1\"E11 [[psysml:75cdd26f-47cf-45db-b14e-ba01ceb3edc6 ]] \r\n",
       "E11 - -:|> E3 [[psysml:92dee77c-180b-445a-a05e-737a71661cde ]] \r\n",
       "@enduml\r\n",
       "\n",
       "PlantUML version 1.2020.13(Sat Jun 13 12:26:38 UTC 2020)\n",
       "(EPL source distribution)\n",
       "Java Runtime: OpenJDK Runtime Environment\n",
       "JVM: OpenJDK 64-Bit Server VM\n",
       "Default Encoding: UTF-8\n",
       "Language: en\n",
       "Country: null\n",
       "--></g></svg>"
      ]
     },
     "execution_count": 37,
     "metadata": {},
     "output_type": "execute_result"
    }
   ],
   "source": [
    "%viz --style=\"DEFAULT\" --view=\"Default\" \"ItemTest\""
   ]
  },
  {
   "cell_type": "code",
   "execution_count": 38,
   "id": "357a1dd2",
   "metadata": {
    "execution": {
     "iopub.execute_input": "2022-03-21T07:49:11.677622Z",
     "iopub.status.busy": "2022-03-21T07:49:11.677197Z",
     "iopub.status.idle": "2022-03-21T07:49:11.719050Z",
     "shell.execute_reply": "2022-03-21T07:49:11.718676Z"
    }
   },
   "outputs": [
    {
     "data": {
      "image/svg+xml": [
       "<?xml version=\"1.0\" encoding=\"UTF-8\" standalone=\"no\"?><svg xmlns=\"http://www.w3.org/2000/svg\" xmlns:xlink=\"http://www.w3.org/1999/xlink\" contentScriptType=\"application/ecmascript\" contentStyleType=\"text/css\" height=\"818px\" preserveAspectRatio=\"none\" style=\"width:270px;height:818px;\" version=\"1.1\" viewBox=\"0 0 270 818\" width=\"270px\" zoomAndPan=\"magnify\"><defs/><g><!--MD5=[fbc87193dbaf4d95561dea2c320d4a47]\n",
       "cluster E1--><a href=\"psysml:8469bc55-64be-4e75-90cd-bb271a7bb256\" target=\"_top\" title=\"psysml:8469bc55-64be-4e75-90cd-bb271a7bb256\" xlink:actuate=\"onRequest\" xlink:href=\"psysml:8469bc55-64be-4e75-90cd-bb271a7bb256\" xlink:show=\"new\" xlink:title=\"psysml:8469bc55-64be-4e75-90cd-bb271a7bb256\" xlink:type=\"simple\"><polygon fill=\"#FFFFFF\" points=\"16,6,83,6,90,28.2969,248,28.2969,248,806,16,806,16,6\" style=\"stroke: #000000; stroke-width: 1.5;\"/><line style=\"stroke: #000000; stroke-width: 1.5;\" x1=\"16\" x2=\"90\" y1=\"28.2969\" y2=\"28.2969\"/><text fill=\"#000000\" font-family=\"sans-serif\" font-size=\"14\" font-weight=\"bold\" lengthAdjust=\"spacingAndGlyphs\" textLength=\"61\" x=\"20\" y=\"20.9951\">ItemTest</text></a><!--MD5=[b4997ac47864f28c2f74865a473b2911]\n",
       "class E2--><a href=\"psysml:6cbf61b0-82f0-477a-9e61-503ee7ef8ab3\" target=\"_top\" title=\"psysml:6cbf61b0-82f0-477a-9e61-503ee7ef8ab3\" xlink:actuate=\"onRequest\" xlink:href=\"psysml:6cbf61b0-82f0-477a-9e61-503ee7ef8ab3\" xlink:show=\"new\" xlink:title=\"psysml:6cbf61b0-82f0-477a-9e61-503ee7ef8ab3\" xlink:type=\"simple\"><rect fill=\"#FFFFFF\" height=\"45.9375\" id=\"E2\" rx=\"10\" ry=\"10\" style=\"stroke: #383838; stroke-width: 1.5;\" width=\"43\" x=\"188.5\" y=\"148\"/><text fill=\"#000000\" font-family=\"sans-serif\" font-size=\"12\" font-style=\"italic\" lengthAdjust=\"spacingAndGlyphs\" textLength=\"41\" x=\"189.5\" y=\"164.1387\">«item»</text><text fill=\"#000000\" font-family=\"sans-serif\" font-size=\"12\" lengthAdjust=\"spacingAndGlyphs\" textLength=\"20\" x=\"198\" y=\"178.1074\">f: A</text><line style=\"stroke: #383838; stroke-width: 1.5;\" x1=\"189.5\" x2=\"230.5\" y1=\"185.9375\" y2=\"185.9375\"/></a><!--MD5=[09b614a08d8cba4a07c9adeb5e0fee81]\n",
       "class E3--><a href=\"psysml:73e4759d-5191-4c8c-b634-f2bc1b43e3a3\" target=\"_top\" title=\"psysml:73e4759d-5191-4c8c-b634-f2bc1b43e3a3\" xlink:actuate=\"onRequest\" xlink:href=\"psysml:73e4759d-5191-4c8c-b634-f2bc1b43e3a3\" xlink:show=\"new\" xlink:title=\"psysml:73e4759d-5191-4c8c-b634-f2bc1b43e3a3\" xlink:type=\"simple\"><rect fill=\"#FFFFFF\" height=\"45.9375\" id=\"E3\" style=\"stroke: #383838; stroke-width: 1.5;\" width=\"71\" x=\"96.5\" y=\"255\"/><text fill=\"#000000\" font-family=\"sans-serif\" font-size=\"12\" font-style=\"italic\" lengthAdjust=\"spacingAndGlyphs\" textLength=\"69\" x=\"97.5\" y=\"271.1387\">«item  def»</text><text fill=\"#000000\" font-family=\"sans-serif\" font-size=\"12\" lengthAdjust=\"spacingAndGlyphs\" textLength=\"8\" x=\"128\" y=\"285.1074\">A</text><line style=\"stroke: #383838; stroke-width: 1.5;\" x1=\"97.5\" x2=\"166.5\" y1=\"292.9375\" y2=\"292.9375\"/></a><!--MD5=[ebbe1d658d1005bcc118a6aa81145e00]\n",
       "class E4--><a href=\"psysml:22dedc78-8a6f-47e7-a1b3-f5299f454177\" target=\"_top\" title=\"psysml:22dedc78-8a6f-47e7-a1b3-f5299f454177\" xlink:actuate=\"onRequest\" xlink:href=\"psysml:22dedc78-8a6f-47e7-a1b3-f5299f454177\" xlink:show=\"new\" xlink:title=\"psysml:22dedc78-8a6f-47e7-a1b3-f5299f454177\" xlink:type=\"simple\"><rect fill=\"#FFFFFF\" height=\"45.9375\" id=\"E4\" rx=\"10\" ry=\"10\" style=\"stroke: #383838; stroke-width: 1.5;\" width=\"43\" x=\"45.5\" y=\"438\"/><text fill=\"#000000\" font-family=\"sans-serif\" font-size=\"12\" font-style=\"italic\" lengthAdjust=\"spacingAndGlyphs\" textLength=\"41\" x=\"46.5\" y=\"454.1387\">«item»</text><text fill=\"#000000\" font-family=\"sans-serif\" font-size=\"12\" lengthAdjust=\"spacingAndGlyphs\" textLength=\"24\" x=\"53\" y=\"468.1074\">b: B</text><line style=\"stroke: #383838; stroke-width: 1.5;\" x1=\"46.5\" x2=\"87.5\" y1=\"475.9375\" y2=\"475.9375\"/></a><!--MD5=[270fce915f116d4de14055a7c1d9a0f3]\n",
       "class E5--><a href=\"psysml:d5b518cb-4e9d-48f6-86e4-811292cf7103\" target=\"_top\" title=\"psysml:d5b518cb-4e9d-48f6-86e4-811292cf7103\" xlink:actuate=\"onRequest\" xlink:href=\"psysml:d5b518cb-4e9d-48f6-86e4-811292cf7103\" xlink:show=\"new\" xlink:title=\"psysml:d5b518cb-4e9d-48f6-86e4-811292cf7103\" xlink:type=\"simple\"><rect fill=\"#FFFFFF\" height=\"45.9375\" id=\"E5\" rx=\"10\" ry=\"10\" style=\"stroke: #383838; stroke-width: 1.5;\" width=\"42\" x=\"151\" y=\"362\"/><text fill=\"#000000\" font-family=\"sans-serif\" font-size=\"12\" font-style=\"italic\" lengthAdjust=\"spacingAndGlyphs\" textLength=\"40\" x=\"152\" y=\"378.1387\">«part»</text><text fill=\"#000000\" font-family=\"sans-serif\" font-size=\"12\" lengthAdjust=\"spacingAndGlyphs\" textLength=\"23\" x=\"158.5\" y=\"392.1074\">c: C</text><line style=\"stroke: #383838; stroke-width: 1.5;\" x1=\"152\" x2=\"192\" y1=\"399.9375\" y2=\"399.9375\"/></a><!--MD5=[60a26617385b1d2d0262a64233df1f8d]\n",
       "class E6--><a href=\"psysml:7fb13a86-95b9-42ac-ac4a-d3cbb2045ff7\" target=\"_top\" title=\"psysml:7fb13a86-95b9-42ac-ac4a-d3cbb2045ff7\" xlink:actuate=\"onRequest\" xlink:href=\"psysml:7fb13a86-95b9-42ac-ac4a-d3cbb2045ff7\" xlink:show=\"new\" xlink:title=\"psysml:7fb13a86-95b9-42ac-ac4a-d3cbb2045ff7\" xlink:type=\"simple\"><rect fill=\"#FFFFFF\" height=\"45.9375\" id=\"E6\" style=\"stroke: #383838; stroke-width: 1.5;\" width=\"71\" x=\"112.5\" y=\"637\"/><text fill=\"#000000\" font-family=\"sans-serif\" font-size=\"12\" font-style=\"italic\" lengthAdjust=\"spacingAndGlyphs\" textLength=\"69\" x=\"113.5\" y=\"653.1387\">«item  def»</text><text fill=\"#000000\" font-family=\"sans-serif\" font-size=\"12\" font-style=\"italic\" lengthAdjust=\"spacingAndGlyphs\" textLength=\"8\" x=\"144\" y=\"667.1074\">B</text><line style=\"stroke: #383838; stroke-width: 1.5;\" x1=\"113.5\" x2=\"182.5\" y1=\"674.9375\" y2=\"674.9375\"/></a><!--MD5=[2156ba9850f5573cc1fc38a6a4b2f02b]\n",
       "class E7--><a href=\"psysml:b4d408e4-c35f-4021-90a0-c54c4c634ca8\" target=\"_top\" title=\"psysml:b4d408e4-c35f-4021-90a0-c54c4c634ca8\" xlink:actuate=\"onRequest\" xlink:href=\"psysml:b4d408e4-c35f-4021-90a0-c54c4c634ca8\" xlink:show=\"new\" xlink:title=\"psysml:b4d408e4-c35f-4021-90a0-c54c4c634ca8\" xlink:type=\"simple\"><rect fill=\"#FFFFFF\" height=\"45.9375\" id=\"E7\" rx=\"10\" ry=\"10\" style=\"stroke: #383838; stroke-width: 1.5;\" width=\"42\" x=\"159\" y=\"744\"/><text fill=\"#000000\" font-family=\"sans-serif\" font-size=\"12\" font-style=\"italic\" lengthAdjust=\"spacingAndGlyphs\" textLength=\"40\" x=\"160\" y=\"760.1387\">«part»</text><text fill=\"#000000\" font-family=\"sans-serif\" font-size=\"12\" font-style=\"italic\" lengthAdjust=\"spacingAndGlyphs\" textLength=\"8\" x=\"166\" y=\"774.1074\">a</text><text fill=\"#000000\" font-family=\"sans-serif\" font-size=\"12\" lengthAdjust=\"spacingAndGlyphs\" textLength=\"16\" x=\"174\" y=\"774.1074\">: A</text><line style=\"stroke: #383838; stroke-width: 1.5;\" x1=\"160\" x2=\"200\" y1=\"781.9375\" y2=\"781.9375\"/></a><!--MD5=[b9389687b975829384b498ac4b7476b2]\n",
       "class E8--><a href=\"psysml:53104107-4f2e-4822-81be-c90629c3152e\" target=\"_top\" title=\"psysml:53104107-4f2e-4822-81be-c90629c3152e\" xlink:actuate=\"onRequest\" xlink:href=\"psysml:53104107-4f2e-4822-81be-c90629c3152e\" xlink:show=\"new\" xlink:title=\"psysml:53104107-4f2e-4822-81be-c90629c3152e\" xlink:type=\"simple\"><rect fill=\"#FFFFFF\" height=\"45.9375\" id=\"E8\" style=\"stroke: #383838; stroke-width: 1.5;\" width=\"70\" x=\"113\" y=\"514\"/><text fill=\"#000000\" font-family=\"sans-serif\" font-size=\"12\" font-style=\"italic\" lengthAdjust=\"spacingAndGlyphs\" textLength=\"68\" x=\"114\" y=\"530.1387\">«part  def»</text><text fill=\"#000000\" font-family=\"sans-serif\" font-size=\"12\" lengthAdjust=\"spacingAndGlyphs\" textLength=\"8\" x=\"144\" y=\"544.1074\">C</text><line style=\"stroke: #383838; stroke-width: 1.5;\" x1=\"114\" x2=\"182\" y1=\"551.9375\" y2=\"551.9375\"/></a><!--MD5=[fd4143e9d270a159db93a4ea2a975926]\n",
       "class E9--><a href=\"psysml:96c92d64-4061-42f0-9733-a4ee9bfee5f1\" target=\"_top\" title=\"psysml:96c92d64-4061-42f0-9733-a4ee9bfee5f1\" xlink:actuate=\"onRequest\" xlink:href=\"psysml:96c92d64-4061-42f0-9733-a4ee9bfee5f1\" xlink:show=\"new\" xlink:title=\"psysml:96c92d64-4061-42f0-9733-a4ee9bfee5f1\" xlink:type=\"simple\"><rect fill=\"#FFFFFF\" height=\"45.9375\" id=\"E9\" style=\"stroke: #383838; stroke-width: 1.5;\" width=\"70\" x=\"64\" y=\"41\"/><text fill=\"#000000\" font-family=\"sans-serif\" font-size=\"12\" font-style=\"italic\" lengthAdjust=\"spacingAndGlyphs\" textLength=\"68\" x=\"65\" y=\"57.1387\">«port  def»</text><text fill=\"#000000\" font-family=\"sans-serif\" font-size=\"12\" lengthAdjust=\"spacingAndGlyphs\" textLength=\"8\" x=\"95\" y=\"71.1074\">P</text><line style=\"stroke: #383838; stroke-width: 1.5;\" x1=\"65\" x2=\"133\" y1=\"78.9375\" y2=\"78.9375\"/></a><!--MD5=[96f4274e9e20536e775497830990834d]\n",
       "class E10--><a href=\"psysml:21151bb4-f160-49b9-964a-222b3c2d7b6c\" target=\"_top\" title=\"psysml:21151bb4-f160-49b9-964a-222b3c2d7b6c\" xlink:actuate=\"onRequest\" xlink:href=\"psysml:21151bb4-f160-49b9-964a-222b3c2d7b6c\" xlink:show=\"new\" xlink:title=\"psysml:21151bb4-f160-49b9-964a-222b3c2d7b6c\" xlink:type=\"simple\"><rect fill=\"#FFFFFF\" height=\"45.9375\" id=\"E10\" rx=\"10\" ry=\"10\" style=\"stroke: #383838; stroke-width: 1.5;\" width=\"43\" x=\"32.5\" y=\"148\"/><text fill=\"#000000\" font-family=\"sans-serif\" font-size=\"12\" font-style=\"italic\" lengthAdjust=\"spacingAndGlyphs\" textLength=\"41\" x=\"33.5\" y=\"164.1387\">«item»</text><text fill=\"#000000\" font-family=\"sans-serif\" font-size=\"12\" lengthAdjust=\"spacingAndGlyphs\" textLength=\"32\" x=\"36\" y=\"178.1074\">a1: A</text><line style=\"stroke: #383838; stroke-width: 1.5;\" x1=\"33.5\" x2=\"74.5\" y1=\"185.9375\" y2=\"185.9375\"/></a><!--MD5=[1dd1bfd58a279cf63c5f349dbc8fc6a1]\n",
       "class E11--><a href=\"psysml:048eeab4-ab84-4a9d-8dc8-2b5e8335cff3\" target=\"_top\" title=\"psysml:048eeab4-ab84-4a9d-8dc8-2b5e8335cff3\" xlink:actuate=\"onRequest\" xlink:href=\"psysml:048eeab4-ab84-4a9d-8dc8-2b5e8335cff3\" xlink:show=\"new\" xlink:title=\"psysml:048eeab4-ab84-4a9d-8dc8-2b5e8335cff3\" xlink:type=\"simple\"><rect fill=\"#FFFFFF\" height=\"45.9375\" id=\"E11\" rx=\"10\" ry=\"10\" style=\"stroke: #383838; stroke-width: 1.5;\" width=\"43\" x=\"110.5\" y=\"148\"/><text fill=\"#000000\" font-family=\"sans-serif\" font-size=\"12\" font-style=\"italic\" lengthAdjust=\"spacingAndGlyphs\" textLength=\"41\" x=\"111.5\" y=\"164.1387\">«item»</text><text fill=\"#000000\" font-family=\"sans-serif\" font-size=\"12\" lengthAdjust=\"spacingAndGlyphs\" textLength=\"32\" x=\"114\" y=\"178.1074\">a2: A</text><line style=\"stroke: #383838; stroke-width: 1.5;\" x1=\"111.5\" x2=\"152.5\" y1=\"185.9375\" y2=\"185.9375\"/></a><!--MD5=[2720a5a1f2c3fca2055b230370638851]\n",
       "link E2 to E3--><a href=\"psysml:e70b16f9-62c0-40f3-a087-aa973c352c22\" target=\"_top\" title=\"psysml:e70b16f9-62c0-40f3-a087-aa973c352c22\" xlink:actuate=\"onRequest\" xlink:href=\"psysml:e70b16f9-62c0-40f3-a087-aa973c352c22\" xlink:show=\"new\" xlink:title=\"psysml:e70b16f9-62c0-40f3-a087-aa973c352c22\" xlink:type=\"simple\"><path d=\"M193.65,194.01 C184.14,206.81 171.89,223.3 160.82,238.2 \" fill=\"none\" id=\"E2-&gt;E3\" style=\"stroke: #383838; stroke-width: 1.0;\"/><polygon fill=\"#FFFFFF\" points=\"148.6,254.66,154.3195,235.2361,165.5543,243.5896,148.6,254.66\" style=\"stroke: #383838; stroke-width: 1.0;\"/><ellipse cx=\"159.3256\" cy=\"231.8554\" fill=\"#383838\" rx=\"2\" ry=\"2\" style=\"stroke: #383838; stroke-width: 1.0;\"/><ellipse cx=\"167.3504\" cy=\"237.8221\" fill=\"#383838\" rx=\"2\" ry=\"2\" style=\"stroke: #383838; stroke-width: 1.0;\"/></a><!--MD5=[4672eba38e49728da53d11aeb285b987]\n",
       "reverse link E3 to E4--><a href=\"psysml:f5164247-58fc-45c1-bba3-2edebb195fbd\" target=\"_top\" title=\"psysml:f5164247-58fc-45c1-bba3-2edebb195fbd\" xlink:actuate=\"onRequest\" xlink:href=\"psysml:f5164247-58fc-45c1-bba3-2edebb195fbd\" xlink:show=\"new\" xlink:title=\"psysml:f5164247-58fc-45c1-bba3-2edebb195fbd\" xlink:type=\"simple\"><path d=\"M97.11,310.9 C84.08,325.11 70.81,342.94 64,362 C55.12,386.85 58.09,417.53 61.82,437.88 \" fill=\"none\" id=\"E3&lt;-E4\" style=\"stroke: #383838; stroke-width: 1.0;\"/><polygon fill=\"#383838\" points=\"106.46,301.23,99.4153,302.7703,98.1277,309.8655,105.1724,308.3252,106.46,301.23\" style=\"stroke: #383838; stroke-width: 1.0;\"/><text fill=\"#000000\" font-family=\"sans-serif\" font-size=\"13\" lengthAdjust=\"spacingAndGlyphs\" textLength=\"8\" x=\"51.3529\" y=\"426.744\">1</text></a><!--MD5=[191cde3d490a3f6d7bb551fe3ddca469]\n",
       "reverse link E3 to E5--><a href=\"psysml:0e10322d-8096-4d1c-ad13-bcf359abd35a\" target=\"_top\" title=\"psysml:0e10322d-8096-4d1c-ad13-bcf359abd35a\" xlink:actuate=\"onRequest\" xlink:href=\"psysml:0e10322d-8096-4d1c-ad13-bcf359abd35a\" xlink:show=\"new\" xlink:title=\"psysml:0e10322d-8096-4d1c-ad13-bcf359abd35a\" xlink:type=\"simple\"><path d=\"M145.17,313.57 C151.2,329.39 158.16,347.68 163.49,361.66 \" fill=\"none\" id=\"E3&lt;-E5\" style=\"stroke: #383838; stroke-width: 1.0;\"/><polygon fill=\"#FFFFFF\" points=\"140.39,301.01,138.7866,308.0406,144.6598,312.2247,146.2631,305.1941,140.39,301.01\" style=\"stroke: #383838; stroke-width: 1.0;\"/><text fill=\"#000000\" font-family=\"sans-serif\" font-size=\"13\" lengthAdjust=\"spacingAndGlyphs\" textLength=\"8\" x=\"152.2843\" y=\"350.8492\">1</text></a><!--MD5=[79568f1e445c3877b6a54524624ccc7d]\n",
       "link E4 to E6--><a href=\"psysml:cd799d59-974c-4cd5-b2a4-5d2e853ea550\" target=\"_top\" title=\"psysml:cd799d59-974c-4cd5-b2a4-5d2e853ea550\" xlink:actuate=\"onRequest\" xlink:href=\"psysml:cd799d59-974c-4cd5-b2a4-5d2e853ea550\" xlink:show=\"new\" xlink:title=\"psysml:cd799d59-974c-4cd5-b2a4-5d2e853ea550\" xlink:type=\"simple\"><path d=\"M72.25,484.22 C77.31,504.36 85.72,534.68 96,560 C104.15,580.08 115.08,601.47 124.82,619.21 \" fill=\"none\" id=\"E4-&gt;E6\" style=\"stroke: #383838; stroke-width: 1.0;\"/><polygon fill=\"#FFFFFF\" points=\"134.72,636.8,119.2979,623.6791,131.4967,616.8097,134.72,636.8\" style=\"stroke: #383838; stroke-width: 1.0;\"/><ellipse cx=\"118.2438\" cy=\"617.7311\" fill=\"#383838\" rx=\"2\" ry=\"2\" style=\"stroke: #383838; stroke-width: 1.0;\"/><ellipse cx=\"126.9572\" cy=\"612.8244\" fill=\"#383838\" rx=\"2\" ry=\"2\" style=\"stroke: #383838; stroke-width: 1.0;\"/></a><!--MD5=[3f50a3473f1dfb74d3f76443e03635af]\n",
       "reverse link E6 to E7--><a href=\"psysml:f66c29ee-70ba-402f-a3a4-159df7b46130\" target=\"_top\" title=\"psysml:f66c29ee-70ba-402f-a3a4-159df7b46130\" xlink:actuate=\"onRequest\" xlink:href=\"psysml:f66c29ee-70ba-402f-a3a4-159df7b46130\" xlink:show=\"new\" xlink:title=\"psysml:f66c29ee-70ba-402f-a3a4-159df7b46130\" xlink:type=\"simple\"><path d=\"M158.54,695.57 C163.36,711.39 168.93,729.68 173.19,743.66 \" fill=\"none\" id=\"E6&lt;-E7\" style=\"stroke: #383838; stroke-width: 1.0;\"/><polygon fill=\"#383838\" points=\"154.71,683.01,152.6319,689.9152,158.2066,694.4893,160.2847,687.5841,154.71,683.01\" style=\"stroke: #383838; stroke-width: 1.0;\"/><text fill=\"#000000\" font-family=\"sans-serif\" font-size=\"13\" lengthAdjust=\"spacingAndGlyphs\" textLength=\"8\" x=\"162.4199\" y=\"732.8492\">1</text></a><!--MD5=[14ccda38c055a5c0da953d572bc50960]\n",
       "link E7 to E3--><a href=\"psysml:4b14459c-c0ea-47eb-ae95-5bdd156140b8\" target=\"_top\" title=\"psysml:4b14459c-c0ea-47eb-ae95-5bdd156140b8\" xlink:actuate=\"onRequest\" xlink:href=\"psysml:4b14459c-c0ea-47eb-ae95-5bdd156140b8\" xlink:show=\"new\" xlink:title=\"psysml:4b14459c-c0ea-47eb-ae95-5bdd156140b8\" xlink:type=\"simple\"><path d=\"M197.41,743.63 C211.5,723.27 229,691.78 229,661 C229,384 229,384 229,384 C229,353.7 206.93,328.42 183.85,310.26 \" fill=\"none\" id=\"E7-&gt;E3\" style=\"stroke: #383838; stroke-width: 1.0;\"/><polygon fill=\"#FFFFFF\" points=\"167.57,298.59,187.0929,303.9617,178.9414,315.3438,167.57,298.59\" style=\"stroke: #383838; stroke-width: 1.0;\"/><ellipse cx=\"190.5626\" cy=\"308.9066\" fill=\"#383838\" rx=\"2\" ry=\"2\" style=\"stroke: #383838; stroke-width: 1.0;\"/><ellipse cx=\"184.7401\" cy=\"317.0367\" fill=\"#383838\" rx=\"2\" ry=\"2\" style=\"stroke: #383838; stroke-width: 1.0;\"/></a><!--MD5=[dfaffb906826c3e5aca635516100ff21]\n",
       "link E5 to E8--><a href=\"psysml:7f99918d-ef62-497c-9b9a-668f89d0bef4\" target=\"_top\" title=\"psysml:7f99918d-ef62-497c-9b9a-668f89d0bef4\" xlink:actuate=\"onRequest\" xlink:href=\"psysml:7f99918d-ef62-497c-9b9a-668f89d0bef4\" xlink:show=\"new\" xlink:title=\"psysml:7f99918d-ef62-497c-9b9a-668f89d0bef4\" xlink:type=\"simple\"><path d=\"M168.46,408.13 C164.86,430.62 159.2,466.01 154.74,493.87 \" fill=\"none\" id=\"E5-&gt;E8\" style=\"stroke: #383838; stroke-width: 1.0;\"/><polygon fill=\"#FFFFFF\" points=\"151.56,513.78,147.6458,493.9135,161.4704,496.1226,151.56,513.78\" style=\"stroke: #383838; stroke-width: 1.0;\"/><ellipse cx=\"150.5202\" cy=\"488.6005\" fill=\"#383838\" rx=\"2\" ry=\"2\" style=\"stroke: #383838; stroke-width: 1.0;\"/><ellipse cx=\"160.3949\" cy=\"490.1784\" fill=\"#383838\" rx=\"2\" ry=\"2\" style=\"stroke: #383838; stroke-width: 1.0;\"/></a><!--MD5=[03c8294790d3c57651a1993cecff665f]\n",
       "reverse link E8 to E3--><a href=\"psysml:8abdebaf-64f0-40cf-a780-4a21932975d8\" target=\"_top\" title=\"psysml:8abdebaf-64f0-40cf-a780-4a21932975d8\" xlink:actuate=\"onRequest\" xlink:href=\"psysml:8abdebaf-64f0-40cf-a780-4a21932975d8\" xlink:show=\"new\" xlink:title=\"psysml:8abdebaf-64f0-40cf-a780-4a21932975d8\" xlink:type=\"simple\"><path d=\"M140.02,501.22 C134.57,475.6 127.84,439.84 125,408 C123.18,387.64 124.14,382.43 125,362 C125.87,341.34 127.95,317.86 129.62,301.16 \" fill=\"none\" id=\"E8&lt;-E3\" style=\"stroke: #383838; stroke-width: 1.0;\"/><polygon fill=\"#FFFFFF\" points=\"142.81,513.96,145.4388,507.2451,140.2515,502.2359,137.6227,508.9508,142.81,513.96\" style=\"stroke: #383838; stroke-width: 1.0;\"/><text fill=\"#000000\" font-family=\"sans-serif\" font-size=\"13\" lengthAdjust=\"spacingAndGlyphs\" textLength=\"7\" x=\"126\" y=\"389.5669\">y</text></a><!--MD5=[0d75d2178373a6a4568e5dc728f58aef]\n",
       "reverse link E8 to E6--><a href=\"psysml:8abdebaf-64f0-40cf-a780-4a21932975d8\" target=\"_top\" title=\"psysml:8abdebaf-64f0-40cf-a780-4a21932975d8\" xlink:actuate=\"onRequest\" xlink:href=\"psysml:8abdebaf-64f0-40cf-a780-4a21932975d8\" xlink:show=\"new\" xlink:title=\"psysml:8abdebaf-64f0-40cf-a780-4a21932975d8\" xlink:type=\"simple\"><path d=\"M148,573.22 C148,593.81 148,619.16 148,636.95 \" fill=\"none\" id=\"E8&lt;-E6\" style=\"stroke: #383838; stroke-width: 1.0;\"/><polygon fill=\"#FFFFFF\" points=\"148,560.19,144,566.19,148,572.19,152,566.19,148,560.19\" style=\"stroke: #383838; stroke-width: 1.0;\"/><text fill=\"#000000\" font-family=\"sans-serif\" font-size=\"13\" lengthAdjust=\"spacingAndGlyphs\" textLength=\"7\" x=\"149\" y=\"603.0669\">y</text></a><!--MD5=[23ac544a70576c3e717098101004234c]\n",
       "reverse link E9 to E10--><a href=\"psysml:4b97f70b-21b5-47d0-9b80-bf68f1206e68\" target=\"_top\" title=\"psysml:4b97f70b-21b5-47d0-9b80-bf68f1206e68\" xlink:actuate=\"onRequest\" xlink:href=\"psysml:4b97f70b-21b5-47d0-9b80-bf68f1206e68\" xlink:show=\"new\" xlink:title=\"psysml:4b97f70b-21b5-47d0-9b80-bf68f1206e68\" xlink:type=\"simple\"><path d=\"M84.39,99.1 C77.56,115.03 69.63,133.54 63.58,147.66 \" fill=\"none\" id=\"E9&lt;-E10\" style=\"stroke: #383838; stroke-width: 1.0;\"/><polygon fill=\"#FFFFFF\" points=\"89.57,87.01,83.5327,90.9535,84.8509,98.0431,90.8882,94.0996,89.57,87.01\" style=\"stroke: #383838; stroke-width: 1.0;\"/><text fill=\"#000000\" font-family=\"sans-serif\" font-size=\"13\" lengthAdjust=\"spacingAndGlyphs\" textLength=\"8\" x=\"57.0099\" y=\"136.8492\">1</text></a><!--MD5=[feeac5eb423634930294aa81f2d25a4c]\n",
       "link E10 to E3--><a href=\"psysml:890b43d2-a44a-4df9-b863-0c7f323950a1\" target=\"_top\" title=\"psysml:890b43d2-a44a-4df9-b863-0c7f323950a1\" xlink:actuate=\"onRequest\" xlink:href=\"psysml:890b43d2-a44a-4df9-b863-0c7f323950a1\" xlink:show=\"new\" xlink:title=\"psysml:890b43d2-a44a-4df9-b863-0c7f323950a1\" xlink:type=\"simple\"><path d=\"M70.35,194.01 C79.86,206.81 92.11,223.3 103.18,238.2 \" fill=\"none\" id=\"E10-&gt;E3\" style=\"stroke: #383838; stroke-width: 1.0;\"/><polygon fill=\"#FFFFFF\" points=\"115.4,254.66,98.4457,243.5896,109.6805,235.2361,115.4,254.66\" style=\"stroke: #383838; stroke-width: 1.0;\"/><ellipse cx=\"96.6496\" cy=\"237.8221\" fill=\"#383838\" rx=\"2\" ry=\"2\" style=\"stroke: #383838; stroke-width: 1.0;\"/><ellipse cx=\"104.6744\" cy=\"231.8554\" fill=\"#383838\" rx=\"2\" ry=\"2\" style=\"stroke: #383838; stroke-width: 1.0;\"/></a><!--MD5=[1fc04a95fd77ad5ce46c1a3027516051]\n",
       "reverse link E9 to E11--><a href=\"psysml:75cdd26f-47cf-45db-b14e-ba01ceb3edc6\" target=\"_top\" title=\"psysml:75cdd26f-47cf-45db-b14e-ba01ceb3edc6\" xlink:actuate=\"onRequest\" xlink:href=\"psysml:75cdd26f-47cf-45db-b14e-ba01ceb3edc6\" xlink:show=\"new\" xlink:title=\"psysml:75cdd26f-47cf-45db-b14e-ba01ceb3edc6\" xlink:type=\"simple\"><path d=\"M109.87,99.57 C114.84,115.39 120.59,133.68 124.98,147.66 \" fill=\"none\" id=\"E9&lt;-E11\" style=\"stroke: #383838; stroke-width: 1.0;\"/><polygon fill=\"#FFFFFF\" points=\"105.92,87.01,103.9044,93.9337,109.5203,98.4572,111.5359,91.5335,105.92,87.01\" style=\"stroke: #383838; stroke-width: 1.0;\"/><text fill=\"#000000\" font-family=\"sans-serif\" font-size=\"13\" lengthAdjust=\"spacingAndGlyphs\" textLength=\"8\" x=\"114.1561\" y=\"136.8492\">1</text></a><!--MD5=[0517f1ce58c4d5483948f93845c45e26]\n",
       "link E11 to E3--><a href=\"psysml:92dee77c-180b-445a-a05e-737a71661cde\" target=\"_top\" title=\"psysml:92dee77c-180b-445a-a05e-737a71661cde\" xlink:actuate=\"onRequest\" xlink:href=\"psysml:92dee77c-180b-445a-a05e-737a71661cde\" xlink:show=\"new\" xlink:title=\"psysml:92dee77c-180b-445a-a05e-737a71661cde\" xlink:type=\"simple\"><path d=\"M132,194.01 C132,205.69 132,220.46 132,234.28 \" fill=\"none\" id=\"E11-&gt;E3\" style=\"stroke: #383838; stroke-width: 1.0;\"/><polygon fill=\"#FFFFFF\" points=\"132,254.66,125,235.66,139,235.66,132,254.66\" style=\"stroke: #383838; stroke-width: 1.0;\"/><ellipse cx=\"127\" cy=\"229.96\" fill=\"#383838\" rx=\"2\" ry=\"2\" style=\"stroke: #383838; stroke-width: 1.0;\"/><ellipse cx=\"137\" cy=\"229.96\" fill=\"#383838\" rx=\"2\" ry=\"2\" style=\"stroke: #383838; stroke-width: 1.0;\"/></a><!--MD5=[b1d4ff18aa51187c26a5d512e41beb76]\n",
       "@startuml\r\n",
       "skinparam monochrome true\r\n",
       "skinparam classbackgroundcolor white\r\n",
       "skinparam shadowing false\r\n",
       "skinparam wrapWidth 300\r\n",
       "hide circle\r\n",
       "\r\n",
       "package \"ItemTest\" as E1  [[psysml:8469bc55-64be-4e75-90cd-bb271a7bb256 ]]  {\r\n",
       "comp usage \"f: A \" as E2  <<(T,blue) item>> [[psysml:6cbf61b0-82f0-477a-9e61-503ee7ef8ab3 ]] {\r\n",
       "}\r\n",
       "comp def \"A\" as E3  <<(T,blue) item  def>> [[psysml:73e4759d-5191-4c8c-b634-f2bc1b43e3a3 ]] {\r\n",
       "}\r\n",
       "comp usage \"b: B \" as E4  <<(T,blue) item>> [[psysml:22dedc78-8a6f-47e7-a1b3-f5299f454177 ]] {\r\n",
       "}\r\n",
       "comp usage \"c: C \" as E5  <<(T,blue) part>> [[psysml:d5b518cb-4e9d-48f6-86e4-811292cf7103 ]] {\r\n",
       "}\r\n",
       "comp def \"<i>B</i>\" as E6  <<(T,blue) item  def>> [[psysml:7fb13a86-95b9-42ac-ac4a-d3cbb2045ff7 ]] {\r\n",
       "}\r\n",
       "comp usage \"<i>a</i>: A \" as E7  <<(T,blue) part>> [[psysml:b4d408e4-c35f-4021-90a0-c54c4c634ca8 ]] {\r\n",
       "}\r\n",
       "comp def \"C\" as E8  <<(T,blue) part  def>> [[psysml:53104107-4f2e-4822-81be-c90629c3152e ]] {\r\n",
       "}\r\n",
       "comp def \"P\" as E9  <<(T,blue) port  def>> [[psysml:96c92d64-4061-42f0-9733-a4ee9bfee5f1 ]] {\r\n",
       "}\r\n",
       "comp usage \"a1: A \" as E10  <<(T,blue) item>> [[psysml:21151bb4-f160-49b9-964a-222b3c2d7b6c ]] {\r\n",
       "}\r\n",
       "comp usage \"a2: A \" as E11  <<(T,blue) item>> [[psysml:048eeab4-ab84-4a9d-8dc8-2b5e8335cff3 ]] {\r\n",
       "}\r\n",
       "}\r\n",
       "E2 - -:|> E3 [[psysml:e70b16f9-62c0-40f3-a087-aa973c352c22 ]] \r\n",
       "E3 *- - \"1\"E4 [[psysml:f5164247-58fc-45c1-bba3-2edebb195fbd ]] \r\n",
       "E3 o- - \"1\"E5 [[psysml:0e10322d-8096-4d1c-ad13-bcf359abd35a ]] \r\n",
       "E4 - -:|> E6 [[psysml:cd799d59-974c-4cd5-b2a4-5d2e853ea550 ]] \r\n",
       "E6 *- - \"1\"E7 [[psysml:f66c29ee-70ba-402f-a3a4-159df7b46130 ]] \r\n",
       "E7 - -:|> E3 [[psysml:4b14459c-c0ea-47eb-ae95-5bdd156140b8 ]] \r\n",
       "E5 - -:|> E8 [[psysml:7f99918d-ef62-497c-9b9a-668f89d0bef4 ]] \r\n",
       "E8 o- - E3 [[psysml:8abdebaf-64f0-40cf-a780-4a21932975d8 ]] : y\r\n",
       "E8 o- - E6 [[psysml:8abdebaf-64f0-40cf-a780-4a21932975d8 ]] : y\r\n",
       "E9 o- - \"1\"E10 [[psysml:4b97f70b-21b5-47d0-9b80-bf68f1206e68 ]] \r\n",
       "E10 - -:|> E3 [[psysml:890b43d2-a44a-4df9-b863-0c7f323950a1 ]] \r\n",
       "E9 o- - \"1\"E11 [[psysml:75cdd26f-47cf-45db-b14e-ba01ceb3edc6 ]] \r\n",
       "E11 - -:|> E3 [[psysml:92dee77c-180b-445a-a05e-737a71661cde ]] \r\n",
       "@enduml\r\n",
       "\n",
       "PlantUML version 1.2020.13(Sat Jun 13 12:26:38 UTC 2020)\n",
       "(EPL source distribution)\n",
       "Java Runtime: OpenJDK Runtime Environment\n",
       "JVM: OpenJDK 64-Bit Server VM\n",
       "Default Encoding: UTF-8\n",
       "Language: en\n",
       "Country: null\n",
       "--></g></svg>"
      ]
     },
     "execution_count": 38,
     "metadata": {},
     "output_type": "execute_result"
    }
   ],
   "source": [
    "%viz --style=\"DEFAULT\" --view=\"Tree\" \"ItemTest\""
   ]
  },
  {
   "cell_type": "code",
   "execution_count": 39,
   "id": "cabd2685",
   "metadata": {
    "execution": {
     "iopub.execute_input": "2022-03-21T07:49:11.768791Z",
     "iopub.status.busy": "2022-03-21T07:49:11.768386Z",
     "iopub.status.idle": "2022-03-21T07:49:11.772853Z",
     "shell.execute_reply": "2022-03-21T07:49:11.773209Z"
    }
   },
   "outputs": [
    {
     "data": {
      "image/svg+xml": [
       "<?xml version=\"1.0\" encoding=\"UTF-8\" standalone=\"no\"?><svg xmlns=\"http://www.w3.org/2000/svg\" xmlns:xlink=\"http://www.w3.org/1999/xlink\" contentScriptType=\"application/ecmascript\" contentStyleType=\"text/css\" height=\"12px\" preserveAspectRatio=\"none\" style=\"width:12px;height:12px;\" version=\"1.1\" viewBox=\"0 0 12 12\" width=\"12px\" zoomAndPan=\"magnify\"><defs/><g><!--MD5=[c5f280e076d0d61ccf4b0f27871bda1d]\n",
       "@startuml\r\n",
       "skinparam monochrome true\r\n",
       "skinparam classbackgroundcolor white\r\n",
       "skinparam shadowing false\r\n",
       "skinparam wrapWidth 300\r\n",
       "hide circle\r\n",
       "\r\n",
       "@enduml\r\n",
       "\n",
       "PlantUML version 1.2020.13(Sat Jun 13 12:26:38 UTC 2020)\n",
       "(EPL source distribution)\n",
       "Java Runtime: OpenJDK Runtime Environment\n",
       "JVM: OpenJDK 64-Bit Server VM\n",
       "Default Encoding: UTF-8\n",
       "Language: en\n",
       "Country: null\n",
       "--></g></svg>"
      ]
     },
     "execution_count": 39,
     "metadata": {},
     "output_type": "execute_result"
    }
   ],
   "source": [
    "%viz --style=\"DEFAULT\" --view=\"State\" \"ItemTest\""
   ]
  },
  {
   "cell_type": "code",
   "execution_count": 40,
   "id": "5c77b03b",
   "metadata": {
    "execution": {
     "iopub.execute_input": "2022-03-21T07:49:11.823098Z",
     "iopub.status.busy": "2022-03-21T07:49:11.822684Z",
     "iopub.status.idle": "2022-03-21T07:49:11.849018Z",
     "shell.execute_reply": "2022-03-21T07:49:11.848679Z"
    }
   },
   "outputs": [
    {
     "data": {
      "image/svg+xml": [
       "<?xml version=\"1.0\" encoding=\"UTF-8\" standalone=\"no\"?><svg xmlns=\"http://www.w3.org/2000/svg\" xmlns:xlink=\"http://www.w3.org/1999/xlink\" contentScriptType=\"application/ecmascript\" contentStyleType=\"text/css\" height=\"112px\" preserveAspectRatio=\"none\" style=\"width:563px;height:112px;\" version=\"1.1\" viewBox=\"0 0 563 112\" width=\"563px\" zoomAndPan=\"magnify\"><defs/><g><!--MD5=[fbc87193dbaf4d95561dea2c320d4a47]\n",
       "cluster E1--><a href=\"psysml:8469bc55-64be-4e75-90cd-bb271a7bb256\" target=\"_top\" title=\"psysml:8469bc55-64be-4e75-90cd-bb271a7bb256\" xlink:actuate=\"onRequest\" xlink:href=\"psysml:8469bc55-64be-4e75-90cd-bb271a7bb256\" xlink:show=\"new\" xlink:title=\"psysml:8469bc55-64be-4e75-90cd-bb271a7bb256\" xlink:type=\"simple\"><polygon fill=\"#FFFFFF\" points=\"16,6,83,6,90,28.2969,541,28.2969,541,100,16,100,16,6\" style=\"stroke: #000000; stroke-width: 1.5;\"/><line style=\"stroke: #000000; stroke-width: 1.5;\" x1=\"16\" x2=\"90\" y1=\"28.2969\" y2=\"28.2969\"/><text fill=\"#000000\" font-family=\"sans-serif\" font-size=\"14\" font-weight=\"bold\" lengthAdjust=\"spacingAndGlyphs\" textLength=\"61\" x=\"20\" y=\"20.9951\">ItemTest</text></a><g id=\"E1.E3\"><a href=\"psysml:73e4759d-5191-4c8c-b634-f2bc1b43e3a3\" target=\"_top\" title=\"psysml:73e4759d-5191-4c8c-b634-f2bc1b43e3a3\" xlink:actuate=\"onRequest\" xlink:href=\"psysml:73e4759d-5191-4c8c-b634-f2bc1b43e3a3\" xlink:show=\"new\" xlink:title=\"psysml:73e4759d-5191-4c8c-b634-f2bc1b43e3a3\" xlink:type=\"simple\"><rect fill=\"#FFFFFF\" height=\"42.9375\" id=\"E3\" style=\"stroke: #383838; stroke-width: 1.5;\" width=\"76\" x=\"449\" y=\"41\"/><rect fill=\"#F8F8F8\" height=\"37.9375\" style=\"stroke: #383838; stroke-width: 1.5;\" width=\"76\" x=\"449\" y=\"41\"/><text fill=\"#000000\" font-family=\"sans-serif\" font-size=\"12\" font-style=\"italic\" lengthAdjust=\"spacingAndGlyphs\" textLength=\"69\" x=\"452.5\" y=\"57.1387\">«item  def»</text><text fill=\"#000000\" font-family=\"sans-serif\" font-size=\"12\" lengthAdjust=\"spacingAndGlyphs\" textLength=\"8\" x=\"483\" y=\"71.1074\">A</text></a></g><g id=\"E1.E4\"><a href=\"psysml:7fb13a86-95b9-42ac-ac4a-d3cbb2045ff7\" target=\"_top\" title=\"psysml:7fb13a86-95b9-42ac-ac4a-d3cbb2045ff7\" xlink:actuate=\"onRequest\" xlink:href=\"psysml:7fb13a86-95b9-42ac-ac4a-d3cbb2045ff7\" xlink:show=\"new\" xlink:title=\"psysml:7fb13a86-95b9-42ac-ac4a-d3cbb2045ff7\" xlink:type=\"simple\"><rect fill=\"#FFFFFF\" height=\"42.9375\" id=\"E4\" style=\"stroke: #383838; stroke-width: 1.5;\" width=\"76\" x=\"338\" y=\"41\"/><rect fill=\"#F8F8F8\" height=\"37.9375\" style=\"stroke: #383838; stroke-width: 1.5;\" width=\"76\" x=\"338\" y=\"41\"/><text fill=\"#000000\" font-family=\"sans-serif\" font-size=\"12\" font-style=\"italic\" lengthAdjust=\"spacingAndGlyphs\" textLength=\"69\" x=\"341.5\" y=\"57.1387\">«item  def»</text><text fill=\"#000000\" font-family=\"sans-serif\" font-size=\"12\" font-style=\"italic\" lengthAdjust=\"spacingAndGlyphs\" textLength=\"8\" x=\"372\" y=\"71.1074\">B</text></a></g><g id=\"E1.E6\"><a href=\"psysml:96c92d64-4061-42f0-9733-a4ee9bfee5f1\" target=\"_top\" title=\"psysml:96c92d64-4061-42f0-9733-a4ee9bfee5f1\" xlink:actuate=\"onRequest\" xlink:href=\"psysml:96c92d64-4061-42f0-9733-a4ee9bfee5f1\" xlink:show=\"new\" xlink:title=\"psysml:96c92d64-4061-42f0-9733-a4ee9bfee5f1\" xlink:type=\"simple\"><rect fill=\"#FFFFFF\" height=\"42.9375\" id=\"E6\" style=\"stroke: #383838; stroke-width: 1.5;\" width=\"75\" x=\"227.5\" y=\"41\"/><rect fill=\"#F8F8F8\" height=\"37.9375\" style=\"stroke: #383838; stroke-width: 1.5;\" width=\"75\" x=\"227.5\" y=\"41\"/><text fill=\"#000000\" font-family=\"sans-serif\" font-size=\"12\" font-style=\"italic\" lengthAdjust=\"spacingAndGlyphs\" textLength=\"68\" x=\"231\" y=\"57.1387\">«port  def»</text><text fill=\"#000000\" font-family=\"sans-serif\" font-size=\"12\" lengthAdjust=\"spacingAndGlyphs\" textLength=\"8\" x=\"261\" y=\"71.1074\">P</text></a></g><g id=\"E1.E2\"><a href=\"psysml:6cbf61b0-82f0-477a-9e61-503ee7ef8ab3\" target=\"_top\" title=\"psysml:6cbf61b0-82f0-477a-9e61-503ee7ef8ab3\" xlink:actuate=\"onRequest\" xlink:href=\"psysml:6cbf61b0-82f0-477a-9e61-503ee7ef8ab3\" xlink:show=\"new\" xlink:title=\"psysml:6cbf61b0-82f0-477a-9e61-503ee7ef8ab3\" xlink:type=\"simple\"><rect fill=\"#FFFFFF\" height=\"42.9375\" id=\"E2\" rx=\"10\" ry=\"10\" style=\"stroke: #383838; stroke-width: 1.5;\" width=\"50\" x=\"142\" y=\"41\"/><rect fill=\"#F8F8F8\" height=\"37.9375\" rx=\"10\" ry=\"10\" style=\"stroke: #F8F8F8; stroke-width: 1.5;\" width=\"50\" x=\"142\" y=\"41\"/><rect fill=\"#F8F8F8\" height=\"10\" style=\"stroke: #F8F8F8; stroke-width: 1.5;\" width=\"50\" x=\"142\" y=\"68.9375\"/><rect fill=\"none\" height=\"42.9375\" id=\"E2\" rx=\"10\" ry=\"10\" style=\"stroke: #383838; stroke-width: 1.5;\" width=\"50\" x=\"142\" y=\"41\"/><text fill=\"#000000\" font-family=\"sans-serif\" font-size=\"12\" font-style=\"italic\" lengthAdjust=\"spacingAndGlyphs\" textLength=\"41\" x=\"146.5\" y=\"57.1387\">«item»</text><text fill=\"#000000\" font-family=\"sans-serif\" font-size=\"12\" lengthAdjust=\"spacingAndGlyphs\" textLength=\"20\" x=\"157\" y=\"71.1074\">f: A</text></a></g><g id=\"E1.E5\"><a href=\"psysml:53104107-4f2e-4822-81be-c90629c3152e\" target=\"_top\" title=\"psysml:53104107-4f2e-4822-81be-c90629c3152e\" xlink:actuate=\"onRequest\" xlink:href=\"psysml:53104107-4f2e-4822-81be-c90629c3152e\" xlink:show=\"new\" xlink:title=\"psysml:53104107-4f2e-4822-81be-c90629c3152e\" xlink:type=\"simple\"><rect fill=\"#FFFFFF\" height=\"42.9375\" id=\"E5\" style=\"stroke: #383838; stroke-width: 1.5;\" width=\"75\" x=\"31.5\" y=\"41\"/><rect fill=\"#F8F8F8\" height=\"37.9375\" style=\"stroke: #383838; stroke-width: 1.5;\" width=\"75\" x=\"31.5\" y=\"41\"/><text fill=\"#000000\" font-family=\"sans-serif\" font-size=\"12\" font-style=\"italic\" lengthAdjust=\"spacingAndGlyphs\" textLength=\"68\" x=\"35\" y=\"57.1387\">«part  def»</text><text fill=\"#000000\" font-family=\"sans-serif\" font-size=\"12\" lengthAdjust=\"spacingAndGlyphs\" textLength=\"8\" x=\"65\" y=\"71.1074\">C</text></a></g><!--MD5=[1509bf4df8ede61d1fdeae41e07bda36]\n",
       "@startuml\r\n",
       "skinparam ranksep 10\r\n",
       "skinparam rectangle {\r\n",
       " backgroundColor<<block>> LightGreen\r\n",
       "}\r\n",
       "skinparam monochrome true\r\n",
       "skinparam classbackgroundcolor white\r\n",
       "skinparam shadowing false\r\n",
       "skinparam wrapWidth 300\r\n",
       "hide circle\r\n",
       "\r\n",
       "package \"ItemTest\" as E1  [[psysml:8469bc55-64be-4e75-90cd-bb271a7bb256 ]]  {\r\n",
       "rec usage \"f: A\" as E2  <<(T,blue) item>> [[psysml:6cbf61b0-82f0-477a-9e61-503ee7ef8ab3 ]] {\r\n",
       "}\r\n",
       "def \"A\" as E3  <<(T,blue) item  def>> [[psysml:73e4759d-5191-4c8c-b634-f2bc1b43e3a3 ]] \r\n",
       "def \"<i>B</i>\" as E4  <<(T,blue) item  def>> [[psysml:7fb13a86-95b9-42ac-ac4a-d3cbb2045ff7 ]] \r\n",
       "rec def \"C\" as E5  <<(T,blue) part  def>> [[psysml:53104107-4f2e-4822-81be-c90629c3152e ]] {\r\n",
       "}\r\n",
       "def \"P\" as E6  <<(T,blue) port  def>> [[psysml:96c92d64-4061-42f0-9733-a4ee9bfee5f1 ]] \r\n",
       "}\r\n",
       "@enduml\r\n",
       "\n",
       "PlantUML version 1.2020.13(Sat Jun 13 12:26:38 UTC 2020)\n",
       "(EPL source distribution)\n",
       "Java Runtime: OpenJDK Runtime Environment\n",
       "JVM: OpenJDK 64-Bit Server VM\n",
       "Default Encoding: UTF-8\n",
       "Language: en\n",
       "Country: null\n",
       "--></g></svg>"
      ]
     },
     "execution_count": 40,
     "metadata": {},
     "output_type": "execute_result"
    }
   ],
   "source": [
    "%viz --style=\"DEFAULT\" --view=\"Interconnection\" \"ItemTest\""
   ]
  },
  {
   "cell_type": "code",
   "execution_count": 41,
   "id": "2e5eaf45",
   "metadata": {
    "execution": {
     "iopub.execute_input": "2022-03-21T07:49:11.898898Z",
     "iopub.status.busy": "2022-03-21T07:49:11.898498Z",
     "iopub.status.idle": "2022-03-21T07:49:11.903485Z",
     "shell.execute_reply": "2022-03-21T07:49:11.903797Z"
    }
   },
   "outputs": [
    {
     "data": {
      "image/svg+xml": [
       "<?xml version=\"1.0\" encoding=\"UTF-8\" standalone=\"no\"?><svg xmlns=\"http://www.w3.org/2000/svg\" xmlns:xlink=\"http://www.w3.org/1999/xlink\" contentScriptType=\"application/ecmascript\" contentStyleType=\"text/css\" height=\"12px\" preserveAspectRatio=\"none\" style=\"width:12px;height:12px;\" version=\"1.1\" viewBox=\"0 0 12 12\" width=\"12px\" zoomAndPan=\"magnify\"><defs/><g><!--MD5=[388f21188e31bfdd97050473b19af356]\n",
       "@startuml\r\n",
       "skinparam ranksep 8\r\n",
       "skinparam monochrome true\r\n",
       "skinparam classbackgroundcolor white\r\n",
       "skinparam shadowing false\r\n",
       "skinparam wrapWidth 300\r\n",
       "hide circle\r\n",
       "\r\n",
       "@enduml\r\n",
       "\n",
       "PlantUML version 1.2020.13(Sat Jun 13 12:26:38 UTC 2020)\n",
       "(EPL source distribution)\n",
       "Java Runtime: OpenJDK Runtime Environment\n",
       "JVM: OpenJDK 64-Bit Server VM\n",
       "Default Encoding: UTF-8\n",
       "Language: en\n",
       "Country: null\n",
       "--></g></svg>"
      ]
     },
     "execution_count": 41,
     "metadata": {},
     "output_type": "execute_result"
    }
   ],
   "source": [
    "%viz --style=\"DEFAULT\" --view=\"Action\" \"ItemTest\""
   ]
  },
  {
   "cell_type": "code",
   "execution_count": 42,
   "id": "e564b574",
   "metadata": {
    "execution": {
     "iopub.execute_input": "2022-03-21T07:49:11.953846Z",
     "iopub.status.busy": "2022-03-21T07:49:11.953447Z",
     "iopub.status.idle": "2022-03-21T07:49:11.958355Z",
     "shell.execute_reply": "2022-03-21T07:49:11.958644Z"
    }
   },
   "outputs": [
    {
     "data": {
      "image/svg+xml": [
       "<?xml version=\"1.0\" encoding=\"UTF-8\" standalone=\"no\"?><svg xmlns=\"http://www.w3.org/2000/svg\" xmlns:xlink=\"http://www.w3.org/1999/xlink\" contentScriptType=\"application/ecmascript\" contentStyleType=\"text/css\" height=\"12px\" preserveAspectRatio=\"none\" style=\"width:12px;height:12px;\" version=\"1.1\" viewBox=\"0 0 12 12\" width=\"12px\" zoomAndPan=\"magnify\"><defs/><g><!--MD5=[0b72472770326784bf6c2b53246e1e64]\n",
       "@startuml\r\n",
       "skinparam roundcorner 20\r\n",
       "skinparam BoxPadding 20\r\n",
       "skinparam SequenceBoxBackgroundColor #white\r\n",
       "skinparam style strictuml\r\n",
       "skinparam maxMessageSize 100\r\n",
       "skinparam monochrome true\r\n",
       "skinparam classbackgroundcolor white\r\n",
       "skinparam shadowing false\r\n",
       "skinparam wrapWidth 300\r\n",
       "hide circle\r\n",
       "\r\n",
       "@enduml\r\n",
       "\n",
       "PlantUML version 1.2020.13(Sat Jun 13 12:26:38 UTC 2020)\n",
       "(EPL source distribution)\n",
       "Java Runtime: OpenJDK Runtime Environment\n",
       "JVM: OpenJDK 64-Bit Server VM\n",
       "Default Encoding: UTF-8\n",
       "Language: en\n",
       "Country: null\n",
       "--></g></svg>"
      ]
     },
     "execution_count": 42,
     "metadata": {},
     "output_type": "execute_result"
    }
   ],
   "source": [
    "%viz --style=\"DEFAULT\" --view=\"Sequence\" \"ItemTest\""
   ]
  },
  {
   "cell_type": "code",
   "execution_count": 43,
   "id": "e7a505b5",
   "metadata": {
    "execution": {
     "iopub.execute_input": "2022-03-21T07:49:12.008674Z",
     "iopub.status.busy": "2022-03-21T07:49:12.008271Z",
     "iopub.status.idle": "2022-03-21T07:49:12.050323Z",
     "shell.execute_reply": "2022-03-21T07:49:12.049961Z"
    }
   },
   "outputs": [
    {
     "data": {
      "image/svg+xml": [
       "<?xml version=\"1.0\" encoding=\"UTF-8\" standalone=\"no\"?><svg xmlns=\"http://www.w3.org/2000/svg\" xmlns:xlink=\"http://www.w3.org/1999/xlink\" contentScriptType=\"application/ecmascript\" contentStyleType=\"text/css\" height=\"818px\" preserveAspectRatio=\"none\" style=\"width:270px;height:818px;\" version=\"1.1\" viewBox=\"0 0 270 818\" width=\"270px\" zoomAndPan=\"magnify\"><defs/><g><!--MD5=[fbc87193dbaf4d95561dea2c320d4a47]\n",
       "cluster E1--><a href=\"psysml:8469bc55-64be-4e75-90cd-bb271a7bb256\" target=\"_top\" title=\"psysml:8469bc55-64be-4e75-90cd-bb271a7bb256\" xlink:actuate=\"onRequest\" xlink:href=\"psysml:8469bc55-64be-4e75-90cd-bb271a7bb256\" xlink:show=\"new\" xlink:title=\"psysml:8469bc55-64be-4e75-90cd-bb271a7bb256\" xlink:type=\"simple\"><polygon fill=\"#FFFFFF\" points=\"16,6,83,6,90,28.2969,248,28.2969,248,806,16,806,16,6\" style=\"stroke: #000000; stroke-width: 1.5;\"/><line style=\"stroke: #000000; stroke-width: 1.5;\" x1=\"16\" x2=\"90\" y1=\"28.2969\" y2=\"28.2969\"/><text fill=\"#000000\" font-family=\"sans-serif\" font-size=\"14\" font-weight=\"bold\" lengthAdjust=\"spacingAndGlyphs\" textLength=\"61\" x=\"20\" y=\"20.9951\">ItemTest</text></a><!--MD5=[b4997ac47864f28c2f74865a473b2911]\n",
       "class E2--><a href=\"psysml:6cbf61b0-82f0-477a-9e61-503ee7ef8ab3\" target=\"_top\" title=\"psysml:6cbf61b0-82f0-477a-9e61-503ee7ef8ab3\" xlink:actuate=\"onRequest\" xlink:href=\"psysml:6cbf61b0-82f0-477a-9e61-503ee7ef8ab3\" xlink:show=\"new\" xlink:title=\"psysml:6cbf61b0-82f0-477a-9e61-503ee7ef8ab3\" xlink:type=\"simple\"><rect fill=\"#FFFFFF\" height=\"45.9375\" id=\"E2\" rx=\"10\" ry=\"10\" style=\"stroke: #383838; stroke-width: 1.5;\" width=\"43\" x=\"188.5\" y=\"148\"/><text fill=\"#000000\" font-family=\"sans-serif\" font-size=\"12\" font-style=\"italic\" lengthAdjust=\"spacingAndGlyphs\" textLength=\"41\" x=\"189.5\" y=\"164.1387\">«item»</text><text fill=\"#000000\" font-family=\"sans-serif\" font-size=\"12\" lengthAdjust=\"spacingAndGlyphs\" textLength=\"20\" x=\"198\" y=\"178.1074\">f: A</text><line style=\"stroke: #383838; stroke-width: 1.5;\" x1=\"189.5\" x2=\"230.5\" y1=\"185.9375\" y2=\"185.9375\"/></a><!--MD5=[09b614a08d8cba4a07c9adeb5e0fee81]\n",
       "class E3--><a href=\"psysml:73e4759d-5191-4c8c-b634-f2bc1b43e3a3\" target=\"_top\" title=\"psysml:73e4759d-5191-4c8c-b634-f2bc1b43e3a3\" xlink:actuate=\"onRequest\" xlink:href=\"psysml:73e4759d-5191-4c8c-b634-f2bc1b43e3a3\" xlink:show=\"new\" xlink:title=\"psysml:73e4759d-5191-4c8c-b634-f2bc1b43e3a3\" xlink:type=\"simple\"><rect fill=\"#FFFFFF\" height=\"45.9375\" id=\"E3\" style=\"stroke: #383838; stroke-width: 1.5;\" width=\"71\" x=\"96.5\" y=\"255\"/><text fill=\"#000000\" font-family=\"sans-serif\" font-size=\"12\" font-style=\"italic\" lengthAdjust=\"spacingAndGlyphs\" textLength=\"69\" x=\"97.5\" y=\"271.1387\">«item  def»</text><text fill=\"#000000\" font-family=\"sans-serif\" font-size=\"12\" lengthAdjust=\"spacingAndGlyphs\" textLength=\"8\" x=\"128\" y=\"285.1074\">A</text><line style=\"stroke: #383838; stroke-width: 1.5;\" x1=\"97.5\" x2=\"166.5\" y1=\"292.9375\" y2=\"292.9375\"/></a><!--MD5=[ebbe1d658d1005bcc118a6aa81145e00]\n",
       "class E4--><a href=\"psysml:22dedc78-8a6f-47e7-a1b3-f5299f454177\" target=\"_top\" title=\"psysml:22dedc78-8a6f-47e7-a1b3-f5299f454177\" xlink:actuate=\"onRequest\" xlink:href=\"psysml:22dedc78-8a6f-47e7-a1b3-f5299f454177\" xlink:show=\"new\" xlink:title=\"psysml:22dedc78-8a6f-47e7-a1b3-f5299f454177\" xlink:type=\"simple\"><rect fill=\"#FFFFFF\" height=\"45.9375\" id=\"E4\" rx=\"10\" ry=\"10\" style=\"stroke: #383838; stroke-width: 1.5;\" width=\"43\" x=\"45.5\" y=\"438\"/><text fill=\"#000000\" font-family=\"sans-serif\" font-size=\"12\" font-style=\"italic\" lengthAdjust=\"spacingAndGlyphs\" textLength=\"41\" x=\"46.5\" y=\"454.1387\">«item»</text><text fill=\"#000000\" font-family=\"sans-serif\" font-size=\"12\" lengthAdjust=\"spacingAndGlyphs\" textLength=\"24\" x=\"53\" y=\"468.1074\">b: B</text><line style=\"stroke: #383838; stroke-width: 1.5;\" x1=\"46.5\" x2=\"87.5\" y1=\"475.9375\" y2=\"475.9375\"/></a><!--MD5=[270fce915f116d4de14055a7c1d9a0f3]\n",
       "class E5--><a href=\"psysml:d5b518cb-4e9d-48f6-86e4-811292cf7103\" target=\"_top\" title=\"psysml:d5b518cb-4e9d-48f6-86e4-811292cf7103\" xlink:actuate=\"onRequest\" xlink:href=\"psysml:d5b518cb-4e9d-48f6-86e4-811292cf7103\" xlink:show=\"new\" xlink:title=\"psysml:d5b518cb-4e9d-48f6-86e4-811292cf7103\" xlink:type=\"simple\"><rect fill=\"#FFFFFF\" height=\"45.9375\" id=\"E5\" rx=\"10\" ry=\"10\" style=\"stroke: #383838; stroke-width: 1.5;\" width=\"42\" x=\"151\" y=\"362\"/><text fill=\"#000000\" font-family=\"sans-serif\" font-size=\"12\" font-style=\"italic\" lengthAdjust=\"spacingAndGlyphs\" textLength=\"40\" x=\"152\" y=\"378.1387\">«part»</text><text fill=\"#000000\" font-family=\"sans-serif\" font-size=\"12\" lengthAdjust=\"spacingAndGlyphs\" textLength=\"23\" x=\"158.5\" y=\"392.1074\">c: C</text><line style=\"stroke: #383838; stroke-width: 1.5;\" x1=\"152\" x2=\"192\" y1=\"399.9375\" y2=\"399.9375\"/></a><!--MD5=[60a26617385b1d2d0262a64233df1f8d]\n",
       "class E6--><a href=\"psysml:7fb13a86-95b9-42ac-ac4a-d3cbb2045ff7\" target=\"_top\" title=\"psysml:7fb13a86-95b9-42ac-ac4a-d3cbb2045ff7\" xlink:actuate=\"onRequest\" xlink:href=\"psysml:7fb13a86-95b9-42ac-ac4a-d3cbb2045ff7\" xlink:show=\"new\" xlink:title=\"psysml:7fb13a86-95b9-42ac-ac4a-d3cbb2045ff7\" xlink:type=\"simple\"><rect fill=\"#FFFFFF\" height=\"45.9375\" id=\"E6\" style=\"stroke: #383838; stroke-width: 1.5;\" width=\"71\" x=\"112.5\" y=\"637\"/><text fill=\"#000000\" font-family=\"sans-serif\" font-size=\"12\" font-style=\"italic\" lengthAdjust=\"spacingAndGlyphs\" textLength=\"69\" x=\"113.5\" y=\"653.1387\">«item  def»</text><text fill=\"#000000\" font-family=\"sans-serif\" font-size=\"12\" font-style=\"italic\" lengthAdjust=\"spacingAndGlyphs\" textLength=\"8\" x=\"144\" y=\"667.1074\">B</text><line style=\"stroke: #383838; stroke-width: 1.5;\" x1=\"113.5\" x2=\"182.5\" y1=\"674.9375\" y2=\"674.9375\"/></a><!--MD5=[2156ba9850f5573cc1fc38a6a4b2f02b]\n",
       "class E7--><a href=\"psysml:b4d408e4-c35f-4021-90a0-c54c4c634ca8\" target=\"_top\" title=\"psysml:b4d408e4-c35f-4021-90a0-c54c4c634ca8\" xlink:actuate=\"onRequest\" xlink:href=\"psysml:b4d408e4-c35f-4021-90a0-c54c4c634ca8\" xlink:show=\"new\" xlink:title=\"psysml:b4d408e4-c35f-4021-90a0-c54c4c634ca8\" xlink:type=\"simple\"><rect fill=\"#FFFFFF\" height=\"45.9375\" id=\"E7\" rx=\"10\" ry=\"10\" style=\"stroke: #383838; stroke-width: 1.5;\" width=\"42\" x=\"159\" y=\"744\"/><text fill=\"#000000\" font-family=\"sans-serif\" font-size=\"12\" font-style=\"italic\" lengthAdjust=\"spacingAndGlyphs\" textLength=\"40\" x=\"160\" y=\"760.1387\">«part»</text><text fill=\"#000000\" font-family=\"sans-serif\" font-size=\"12\" font-style=\"italic\" lengthAdjust=\"spacingAndGlyphs\" textLength=\"8\" x=\"166\" y=\"774.1074\">a</text><text fill=\"#000000\" font-family=\"sans-serif\" font-size=\"12\" lengthAdjust=\"spacingAndGlyphs\" textLength=\"16\" x=\"174\" y=\"774.1074\">: A</text><line style=\"stroke: #383838; stroke-width: 1.5;\" x1=\"160\" x2=\"200\" y1=\"781.9375\" y2=\"781.9375\"/></a><!--MD5=[b9389687b975829384b498ac4b7476b2]\n",
       "class E8--><a href=\"psysml:53104107-4f2e-4822-81be-c90629c3152e\" target=\"_top\" title=\"psysml:53104107-4f2e-4822-81be-c90629c3152e\" xlink:actuate=\"onRequest\" xlink:href=\"psysml:53104107-4f2e-4822-81be-c90629c3152e\" xlink:show=\"new\" xlink:title=\"psysml:53104107-4f2e-4822-81be-c90629c3152e\" xlink:type=\"simple\"><rect fill=\"#FFFFFF\" height=\"45.9375\" id=\"E8\" style=\"stroke: #383838; stroke-width: 1.5;\" width=\"70\" x=\"113\" y=\"514\"/><text fill=\"#000000\" font-family=\"sans-serif\" font-size=\"12\" font-style=\"italic\" lengthAdjust=\"spacingAndGlyphs\" textLength=\"68\" x=\"114\" y=\"530.1387\">«part  def»</text><text fill=\"#000000\" font-family=\"sans-serif\" font-size=\"12\" lengthAdjust=\"spacingAndGlyphs\" textLength=\"8\" x=\"144\" y=\"544.1074\">C</text><line style=\"stroke: #383838; stroke-width: 1.5;\" x1=\"114\" x2=\"182\" y1=\"551.9375\" y2=\"551.9375\"/></a><!--MD5=[fd4143e9d270a159db93a4ea2a975926]\n",
       "class E9--><a href=\"psysml:96c92d64-4061-42f0-9733-a4ee9bfee5f1\" target=\"_top\" title=\"psysml:96c92d64-4061-42f0-9733-a4ee9bfee5f1\" xlink:actuate=\"onRequest\" xlink:href=\"psysml:96c92d64-4061-42f0-9733-a4ee9bfee5f1\" xlink:show=\"new\" xlink:title=\"psysml:96c92d64-4061-42f0-9733-a4ee9bfee5f1\" xlink:type=\"simple\"><rect fill=\"#FFFFFF\" height=\"45.9375\" id=\"E9\" style=\"stroke: #383838; stroke-width: 1.5;\" width=\"70\" x=\"64\" y=\"41\"/><text fill=\"#000000\" font-family=\"sans-serif\" font-size=\"12\" font-style=\"italic\" lengthAdjust=\"spacingAndGlyphs\" textLength=\"68\" x=\"65\" y=\"57.1387\">«port  def»</text><text fill=\"#000000\" font-family=\"sans-serif\" font-size=\"12\" lengthAdjust=\"spacingAndGlyphs\" textLength=\"8\" x=\"95\" y=\"71.1074\">P</text><line style=\"stroke: #383838; stroke-width: 1.5;\" x1=\"65\" x2=\"133\" y1=\"78.9375\" y2=\"78.9375\"/></a><!--MD5=[96f4274e9e20536e775497830990834d]\n",
       "class E10--><a href=\"psysml:21151bb4-f160-49b9-964a-222b3c2d7b6c\" target=\"_top\" title=\"psysml:21151bb4-f160-49b9-964a-222b3c2d7b6c\" xlink:actuate=\"onRequest\" xlink:href=\"psysml:21151bb4-f160-49b9-964a-222b3c2d7b6c\" xlink:show=\"new\" xlink:title=\"psysml:21151bb4-f160-49b9-964a-222b3c2d7b6c\" xlink:type=\"simple\"><rect fill=\"#FFFFFF\" height=\"45.9375\" id=\"E10\" rx=\"10\" ry=\"10\" style=\"stroke: #383838; stroke-width: 1.5;\" width=\"43\" x=\"32.5\" y=\"148\"/><text fill=\"#000000\" font-family=\"sans-serif\" font-size=\"12\" font-style=\"italic\" lengthAdjust=\"spacingAndGlyphs\" textLength=\"41\" x=\"33.5\" y=\"164.1387\">«item»</text><text fill=\"#000000\" font-family=\"sans-serif\" font-size=\"12\" lengthAdjust=\"spacingAndGlyphs\" textLength=\"32\" x=\"36\" y=\"178.1074\">a1: A</text><line style=\"stroke: #383838; stroke-width: 1.5;\" x1=\"33.5\" x2=\"74.5\" y1=\"185.9375\" y2=\"185.9375\"/></a><!--MD5=[1dd1bfd58a279cf63c5f349dbc8fc6a1]\n",
       "class E11--><a href=\"psysml:048eeab4-ab84-4a9d-8dc8-2b5e8335cff3\" target=\"_top\" title=\"psysml:048eeab4-ab84-4a9d-8dc8-2b5e8335cff3\" xlink:actuate=\"onRequest\" xlink:href=\"psysml:048eeab4-ab84-4a9d-8dc8-2b5e8335cff3\" xlink:show=\"new\" xlink:title=\"psysml:048eeab4-ab84-4a9d-8dc8-2b5e8335cff3\" xlink:type=\"simple\"><rect fill=\"#FFFFFF\" height=\"45.9375\" id=\"E11\" rx=\"10\" ry=\"10\" style=\"stroke: #383838; stroke-width: 1.5;\" width=\"43\" x=\"110.5\" y=\"148\"/><text fill=\"#000000\" font-family=\"sans-serif\" font-size=\"12\" font-style=\"italic\" lengthAdjust=\"spacingAndGlyphs\" textLength=\"41\" x=\"111.5\" y=\"164.1387\">«item»</text><text fill=\"#000000\" font-family=\"sans-serif\" font-size=\"12\" lengthAdjust=\"spacingAndGlyphs\" textLength=\"32\" x=\"114\" y=\"178.1074\">a2: A</text><line style=\"stroke: #383838; stroke-width: 1.5;\" x1=\"111.5\" x2=\"152.5\" y1=\"185.9375\" y2=\"185.9375\"/></a><!--MD5=[2720a5a1f2c3fca2055b230370638851]\n",
       "link E2 to E3--><a href=\"psysml:e70b16f9-62c0-40f3-a087-aa973c352c22\" target=\"_top\" title=\"psysml:e70b16f9-62c0-40f3-a087-aa973c352c22\" xlink:actuate=\"onRequest\" xlink:href=\"psysml:e70b16f9-62c0-40f3-a087-aa973c352c22\" xlink:show=\"new\" xlink:title=\"psysml:e70b16f9-62c0-40f3-a087-aa973c352c22\" xlink:type=\"simple\"><path d=\"M193.65,194.01 C184.14,206.81 171.89,223.3 160.82,238.2 \" fill=\"none\" id=\"E2-&gt;E3\" style=\"stroke: #383838; stroke-width: 1.0;\"/><polygon fill=\"#FFFFFF\" points=\"148.6,254.66,154.3195,235.2361,165.5543,243.5896,148.6,254.66\" style=\"stroke: #383838; stroke-width: 1.0;\"/><ellipse cx=\"159.3256\" cy=\"231.8554\" fill=\"#383838\" rx=\"2\" ry=\"2\" style=\"stroke: #383838; stroke-width: 1.0;\"/><ellipse cx=\"167.3504\" cy=\"237.8221\" fill=\"#383838\" rx=\"2\" ry=\"2\" style=\"stroke: #383838; stroke-width: 1.0;\"/></a><!--MD5=[4672eba38e49728da53d11aeb285b987]\n",
       "reverse link E3 to E4--><a href=\"psysml:f5164247-58fc-45c1-bba3-2edebb195fbd\" target=\"_top\" title=\"psysml:f5164247-58fc-45c1-bba3-2edebb195fbd\" xlink:actuate=\"onRequest\" xlink:href=\"psysml:f5164247-58fc-45c1-bba3-2edebb195fbd\" xlink:show=\"new\" xlink:title=\"psysml:f5164247-58fc-45c1-bba3-2edebb195fbd\" xlink:type=\"simple\"><path d=\"M97.11,310.9 C84.08,325.11 70.81,342.94 64,362 C55.12,386.85 58.09,417.53 61.82,437.88 \" fill=\"none\" id=\"E3&lt;-E4\" style=\"stroke: #383838; stroke-width: 1.0;\"/><polygon fill=\"#383838\" points=\"106.46,301.23,99.4153,302.7703,98.1277,309.8655,105.1724,308.3252,106.46,301.23\" style=\"stroke: #383838; stroke-width: 1.0;\"/><text fill=\"#000000\" font-family=\"sans-serif\" font-size=\"13\" lengthAdjust=\"spacingAndGlyphs\" textLength=\"8\" x=\"51.3529\" y=\"426.744\">1</text></a><!--MD5=[191cde3d490a3f6d7bb551fe3ddca469]\n",
       "reverse link E3 to E5--><a href=\"psysml:0e10322d-8096-4d1c-ad13-bcf359abd35a\" target=\"_top\" title=\"psysml:0e10322d-8096-4d1c-ad13-bcf359abd35a\" xlink:actuate=\"onRequest\" xlink:href=\"psysml:0e10322d-8096-4d1c-ad13-bcf359abd35a\" xlink:show=\"new\" xlink:title=\"psysml:0e10322d-8096-4d1c-ad13-bcf359abd35a\" xlink:type=\"simple\"><path d=\"M145.17,313.57 C151.2,329.39 158.16,347.68 163.49,361.66 \" fill=\"none\" id=\"E3&lt;-E5\" style=\"stroke: #383838; stroke-width: 1.0;\"/><polygon fill=\"#FFFFFF\" points=\"140.39,301.01,138.7866,308.0406,144.6598,312.2247,146.2631,305.1941,140.39,301.01\" style=\"stroke: #383838; stroke-width: 1.0;\"/><text fill=\"#000000\" font-family=\"sans-serif\" font-size=\"13\" lengthAdjust=\"spacingAndGlyphs\" textLength=\"8\" x=\"152.2843\" y=\"350.8492\">1</text></a><!--MD5=[79568f1e445c3877b6a54524624ccc7d]\n",
       "link E4 to E6--><a href=\"psysml:cd799d59-974c-4cd5-b2a4-5d2e853ea550\" target=\"_top\" title=\"psysml:cd799d59-974c-4cd5-b2a4-5d2e853ea550\" xlink:actuate=\"onRequest\" xlink:href=\"psysml:cd799d59-974c-4cd5-b2a4-5d2e853ea550\" xlink:show=\"new\" xlink:title=\"psysml:cd799d59-974c-4cd5-b2a4-5d2e853ea550\" xlink:type=\"simple\"><path d=\"M72.25,484.22 C77.31,504.36 85.72,534.68 96,560 C104.15,580.08 115.08,601.47 124.82,619.21 \" fill=\"none\" id=\"E4-&gt;E6\" style=\"stroke: #383838; stroke-width: 1.0;\"/><polygon fill=\"#FFFFFF\" points=\"134.72,636.8,119.2979,623.6791,131.4967,616.8097,134.72,636.8\" style=\"stroke: #383838; stroke-width: 1.0;\"/><ellipse cx=\"118.2438\" cy=\"617.7311\" fill=\"#383838\" rx=\"2\" ry=\"2\" style=\"stroke: #383838; stroke-width: 1.0;\"/><ellipse cx=\"126.9572\" cy=\"612.8244\" fill=\"#383838\" rx=\"2\" ry=\"2\" style=\"stroke: #383838; stroke-width: 1.0;\"/></a><!--MD5=[3f50a3473f1dfb74d3f76443e03635af]\n",
       "reverse link E6 to E7--><a href=\"psysml:f66c29ee-70ba-402f-a3a4-159df7b46130\" target=\"_top\" title=\"psysml:f66c29ee-70ba-402f-a3a4-159df7b46130\" xlink:actuate=\"onRequest\" xlink:href=\"psysml:f66c29ee-70ba-402f-a3a4-159df7b46130\" xlink:show=\"new\" xlink:title=\"psysml:f66c29ee-70ba-402f-a3a4-159df7b46130\" xlink:type=\"simple\"><path d=\"M158.54,695.57 C163.36,711.39 168.93,729.68 173.19,743.66 \" fill=\"none\" id=\"E6&lt;-E7\" style=\"stroke: #383838; stroke-width: 1.0;\"/><polygon fill=\"#383838\" points=\"154.71,683.01,152.6319,689.9152,158.2066,694.4893,160.2847,687.5841,154.71,683.01\" style=\"stroke: #383838; stroke-width: 1.0;\"/><text fill=\"#000000\" font-family=\"sans-serif\" font-size=\"13\" lengthAdjust=\"spacingAndGlyphs\" textLength=\"8\" x=\"162.4199\" y=\"732.8492\">1</text></a><!--MD5=[14ccda38c055a5c0da953d572bc50960]\n",
       "link E7 to E3--><a href=\"psysml:4b14459c-c0ea-47eb-ae95-5bdd156140b8\" target=\"_top\" title=\"psysml:4b14459c-c0ea-47eb-ae95-5bdd156140b8\" xlink:actuate=\"onRequest\" xlink:href=\"psysml:4b14459c-c0ea-47eb-ae95-5bdd156140b8\" xlink:show=\"new\" xlink:title=\"psysml:4b14459c-c0ea-47eb-ae95-5bdd156140b8\" xlink:type=\"simple\"><path d=\"M197.41,743.63 C211.5,723.27 229,691.78 229,661 C229,384 229,384 229,384 C229,353.7 206.93,328.42 183.85,310.26 \" fill=\"none\" id=\"E7-&gt;E3\" style=\"stroke: #383838; stroke-width: 1.0;\"/><polygon fill=\"#FFFFFF\" points=\"167.57,298.59,187.0929,303.9617,178.9414,315.3438,167.57,298.59\" style=\"stroke: #383838; stroke-width: 1.0;\"/><ellipse cx=\"190.5626\" cy=\"308.9066\" fill=\"#383838\" rx=\"2\" ry=\"2\" style=\"stroke: #383838; stroke-width: 1.0;\"/><ellipse cx=\"184.7401\" cy=\"317.0367\" fill=\"#383838\" rx=\"2\" ry=\"2\" style=\"stroke: #383838; stroke-width: 1.0;\"/></a><!--MD5=[dfaffb906826c3e5aca635516100ff21]\n",
       "link E5 to E8--><a href=\"psysml:7f99918d-ef62-497c-9b9a-668f89d0bef4\" target=\"_top\" title=\"psysml:7f99918d-ef62-497c-9b9a-668f89d0bef4\" xlink:actuate=\"onRequest\" xlink:href=\"psysml:7f99918d-ef62-497c-9b9a-668f89d0bef4\" xlink:show=\"new\" xlink:title=\"psysml:7f99918d-ef62-497c-9b9a-668f89d0bef4\" xlink:type=\"simple\"><path d=\"M168.46,408.13 C164.86,430.62 159.2,466.01 154.74,493.87 \" fill=\"none\" id=\"E5-&gt;E8\" style=\"stroke: #383838; stroke-width: 1.0;\"/><polygon fill=\"#FFFFFF\" points=\"151.56,513.78,147.6458,493.9135,161.4704,496.1226,151.56,513.78\" style=\"stroke: #383838; stroke-width: 1.0;\"/><ellipse cx=\"150.5202\" cy=\"488.6005\" fill=\"#383838\" rx=\"2\" ry=\"2\" style=\"stroke: #383838; stroke-width: 1.0;\"/><ellipse cx=\"160.3949\" cy=\"490.1784\" fill=\"#383838\" rx=\"2\" ry=\"2\" style=\"stroke: #383838; stroke-width: 1.0;\"/></a><!--MD5=[03c8294790d3c57651a1993cecff665f]\n",
       "reverse link E8 to E3--><a href=\"psysml:8abdebaf-64f0-40cf-a780-4a21932975d8\" target=\"_top\" title=\"psysml:8abdebaf-64f0-40cf-a780-4a21932975d8\" xlink:actuate=\"onRequest\" xlink:href=\"psysml:8abdebaf-64f0-40cf-a780-4a21932975d8\" xlink:show=\"new\" xlink:title=\"psysml:8abdebaf-64f0-40cf-a780-4a21932975d8\" xlink:type=\"simple\"><path d=\"M140.02,501.22 C134.57,475.6 127.84,439.84 125,408 C123.18,387.64 124.14,382.43 125,362 C125.87,341.34 127.95,317.86 129.62,301.16 \" fill=\"none\" id=\"E8&lt;-E3\" style=\"stroke: #383838; stroke-width: 1.0;\"/><polygon fill=\"#FFFFFF\" points=\"142.81,513.96,145.4388,507.2451,140.2515,502.2359,137.6227,508.9508,142.81,513.96\" style=\"stroke: #383838; stroke-width: 1.0;\"/><text fill=\"#000000\" font-family=\"sans-serif\" font-size=\"13\" lengthAdjust=\"spacingAndGlyphs\" textLength=\"7\" x=\"126\" y=\"389.5669\">y</text></a><!--MD5=[0d75d2178373a6a4568e5dc728f58aef]\n",
       "reverse link E8 to E6--><a href=\"psysml:8abdebaf-64f0-40cf-a780-4a21932975d8\" target=\"_top\" title=\"psysml:8abdebaf-64f0-40cf-a780-4a21932975d8\" xlink:actuate=\"onRequest\" xlink:href=\"psysml:8abdebaf-64f0-40cf-a780-4a21932975d8\" xlink:show=\"new\" xlink:title=\"psysml:8abdebaf-64f0-40cf-a780-4a21932975d8\" xlink:type=\"simple\"><path d=\"M148,573.22 C148,593.81 148,619.16 148,636.95 \" fill=\"none\" id=\"E8&lt;-E6\" style=\"stroke: #383838; stroke-width: 1.0;\"/><polygon fill=\"#FFFFFF\" points=\"148,560.19,144,566.19,148,572.19,152,566.19,148,560.19\" style=\"stroke: #383838; stroke-width: 1.0;\"/><text fill=\"#000000\" font-family=\"sans-serif\" font-size=\"13\" lengthAdjust=\"spacingAndGlyphs\" textLength=\"7\" x=\"149\" y=\"603.0669\">y</text></a><!--MD5=[23ac544a70576c3e717098101004234c]\n",
       "reverse link E9 to E10--><a href=\"psysml:4b97f70b-21b5-47d0-9b80-bf68f1206e68\" target=\"_top\" title=\"psysml:4b97f70b-21b5-47d0-9b80-bf68f1206e68\" xlink:actuate=\"onRequest\" xlink:href=\"psysml:4b97f70b-21b5-47d0-9b80-bf68f1206e68\" xlink:show=\"new\" xlink:title=\"psysml:4b97f70b-21b5-47d0-9b80-bf68f1206e68\" xlink:type=\"simple\"><path d=\"M84.39,99.1 C77.56,115.03 69.63,133.54 63.58,147.66 \" fill=\"none\" id=\"E9&lt;-E10\" style=\"stroke: #383838; stroke-width: 1.0;\"/><polygon fill=\"#FFFFFF\" points=\"89.57,87.01,83.5327,90.9535,84.8509,98.0431,90.8882,94.0996,89.57,87.01\" style=\"stroke: #383838; stroke-width: 1.0;\"/><text fill=\"#000000\" font-family=\"sans-serif\" font-size=\"13\" lengthAdjust=\"spacingAndGlyphs\" textLength=\"8\" x=\"57.0099\" y=\"136.8492\">1</text></a><!--MD5=[feeac5eb423634930294aa81f2d25a4c]\n",
       "link E10 to E3--><a href=\"psysml:890b43d2-a44a-4df9-b863-0c7f323950a1\" target=\"_top\" title=\"psysml:890b43d2-a44a-4df9-b863-0c7f323950a1\" xlink:actuate=\"onRequest\" xlink:href=\"psysml:890b43d2-a44a-4df9-b863-0c7f323950a1\" xlink:show=\"new\" xlink:title=\"psysml:890b43d2-a44a-4df9-b863-0c7f323950a1\" xlink:type=\"simple\"><path d=\"M70.35,194.01 C79.86,206.81 92.11,223.3 103.18,238.2 \" fill=\"none\" id=\"E10-&gt;E3\" style=\"stroke: #383838; stroke-width: 1.0;\"/><polygon fill=\"#FFFFFF\" points=\"115.4,254.66,98.4457,243.5896,109.6805,235.2361,115.4,254.66\" style=\"stroke: #383838; stroke-width: 1.0;\"/><ellipse cx=\"96.6496\" cy=\"237.8221\" fill=\"#383838\" rx=\"2\" ry=\"2\" style=\"stroke: #383838; stroke-width: 1.0;\"/><ellipse cx=\"104.6744\" cy=\"231.8554\" fill=\"#383838\" rx=\"2\" ry=\"2\" style=\"stroke: #383838; stroke-width: 1.0;\"/></a><!--MD5=[1fc04a95fd77ad5ce46c1a3027516051]\n",
       "reverse link E9 to E11--><a href=\"psysml:75cdd26f-47cf-45db-b14e-ba01ceb3edc6\" target=\"_top\" title=\"psysml:75cdd26f-47cf-45db-b14e-ba01ceb3edc6\" xlink:actuate=\"onRequest\" xlink:href=\"psysml:75cdd26f-47cf-45db-b14e-ba01ceb3edc6\" xlink:show=\"new\" xlink:title=\"psysml:75cdd26f-47cf-45db-b14e-ba01ceb3edc6\" xlink:type=\"simple\"><path d=\"M109.87,99.57 C114.84,115.39 120.59,133.68 124.98,147.66 \" fill=\"none\" id=\"E9&lt;-E11\" style=\"stroke: #383838; stroke-width: 1.0;\"/><polygon fill=\"#FFFFFF\" points=\"105.92,87.01,103.9044,93.9337,109.5203,98.4572,111.5359,91.5335,105.92,87.01\" style=\"stroke: #383838; stroke-width: 1.0;\"/><text fill=\"#000000\" font-family=\"sans-serif\" font-size=\"13\" lengthAdjust=\"spacingAndGlyphs\" textLength=\"8\" x=\"114.1561\" y=\"136.8492\">1</text></a><!--MD5=[0517f1ce58c4d5483948f93845c45e26]\n",
       "link E11 to E3--><a href=\"psysml:92dee77c-180b-445a-a05e-737a71661cde\" target=\"_top\" title=\"psysml:92dee77c-180b-445a-a05e-737a71661cde\" xlink:actuate=\"onRequest\" xlink:href=\"psysml:92dee77c-180b-445a-a05e-737a71661cde\" xlink:show=\"new\" xlink:title=\"psysml:92dee77c-180b-445a-a05e-737a71661cde\" xlink:type=\"simple\"><path d=\"M132,194.01 C132,205.69 132,220.46 132,234.28 \" fill=\"none\" id=\"E11-&gt;E3\" style=\"stroke: #383838; stroke-width: 1.0;\"/><polygon fill=\"#FFFFFF\" points=\"132,254.66,125,235.66,139,235.66,132,254.66\" style=\"stroke: #383838; stroke-width: 1.0;\"/><ellipse cx=\"127\" cy=\"229.96\" fill=\"#383838\" rx=\"2\" ry=\"2\" style=\"stroke: #383838; stroke-width: 1.0;\"/><ellipse cx=\"137\" cy=\"229.96\" fill=\"#383838\" rx=\"2\" ry=\"2\" style=\"stroke: #383838; stroke-width: 1.0;\"/></a><!--MD5=[b1d4ff18aa51187c26a5d512e41beb76]\n",
       "@startuml\r\n",
       "skinparam monochrome true\r\n",
       "skinparam classbackgroundcolor white\r\n",
       "skinparam shadowing false\r\n",
       "skinparam wrapWidth 300\r\n",
       "hide circle\r\n",
       "\r\n",
       "package \"ItemTest\" as E1  [[psysml:8469bc55-64be-4e75-90cd-bb271a7bb256 ]]  {\r\n",
       "comp usage \"f: A \" as E2  <<(T,blue) item>> [[psysml:6cbf61b0-82f0-477a-9e61-503ee7ef8ab3 ]] {\r\n",
       "}\r\n",
       "comp def \"A\" as E3  <<(T,blue) item  def>> [[psysml:73e4759d-5191-4c8c-b634-f2bc1b43e3a3 ]] {\r\n",
       "}\r\n",
       "comp usage \"b: B \" as E4  <<(T,blue) item>> [[psysml:22dedc78-8a6f-47e7-a1b3-f5299f454177 ]] {\r\n",
       "}\r\n",
       "comp usage \"c: C \" as E5  <<(T,blue) part>> [[psysml:d5b518cb-4e9d-48f6-86e4-811292cf7103 ]] {\r\n",
       "}\r\n",
       "comp def \"<i>B</i>\" as E6  <<(T,blue) item  def>> [[psysml:7fb13a86-95b9-42ac-ac4a-d3cbb2045ff7 ]] {\r\n",
       "}\r\n",
       "comp usage \"<i>a</i>: A \" as E7  <<(T,blue) part>> [[psysml:b4d408e4-c35f-4021-90a0-c54c4c634ca8 ]] {\r\n",
       "}\r\n",
       "comp def \"C\" as E8  <<(T,blue) part  def>> [[psysml:53104107-4f2e-4822-81be-c90629c3152e ]] {\r\n",
       "}\r\n",
       "comp def \"P\" as E9  <<(T,blue) port  def>> [[psysml:96c92d64-4061-42f0-9733-a4ee9bfee5f1 ]] {\r\n",
       "}\r\n",
       "comp usage \"a1: A \" as E10  <<(T,blue) item>> [[psysml:21151bb4-f160-49b9-964a-222b3c2d7b6c ]] {\r\n",
       "}\r\n",
       "comp usage \"a2: A \" as E11  <<(T,blue) item>> [[psysml:048eeab4-ab84-4a9d-8dc8-2b5e8335cff3 ]] {\r\n",
       "}\r\n",
       "}\r\n",
       "E2 - -:|> E3 [[psysml:e70b16f9-62c0-40f3-a087-aa973c352c22 ]] \r\n",
       "E3 *- - \"1\"E4 [[psysml:f5164247-58fc-45c1-bba3-2edebb195fbd ]] \r\n",
       "E3 o- - \"1\"E5 [[psysml:0e10322d-8096-4d1c-ad13-bcf359abd35a ]] \r\n",
       "E4 - -:|> E6 [[psysml:cd799d59-974c-4cd5-b2a4-5d2e853ea550 ]] \r\n",
       "E6 *- - \"1\"E7 [[psysml:f66c29ee-70ba-402f-a3a4-159df7b46130 ]] \r\n",
       "E7 - -:|> E3 [[psysml:4b14459c-c0ea-47eb-ae95-5bdd156140b8 ]] \r\n",
       "E5 - -:|> E8 [[psysml:7f99918d-ef62-497c-9b9a-668f89d0bef4 ]] \r\n",
       "E8 o- - E3 [[psysml:8abdebaf-64f0-40cf-a780-4a21932975d8 ]] : y\r\n",
       "E8 o- - E6 [[psysml:8abdebaf-64f0-40cf-a780-4a21932975d8 ]] : y\r\n",
       "E9 o- - \"1\"E10 [[psysml:4b97f70b-21b5-47d0-9b80-bf68f1206e68 ]] \r\n",
       "E10 - -:|> E3 [[psysml:890b43d2-a44a-4df9-b863-0c7f323950a1 ]] \r\n",
       "E9 o- - \"1\"E11 [[psysml:75cdd26f-47cf-45db-b14e-ba01ceb3edc6 ]] \r\n",
       "E11 - -:|> E3 [[psysml:92dee77c-180b-445a-a05e-737a71661cde ]] \r\n",
       "@enduml\r\n",
       "\n",
       "PlantUML version 1.2020.13(Sat Jun 13 12:26:38 UTC 2020)\n",
       "(EPL source distribution)\n",
       "Java Runtime: OpenJDK Runtime Environment\n",
       "JVM: OpenJDK 64-Bit Server VM\n",
       "Default Encoding: UTF-8\n",
       "Language: en\n",
       "Country: null\n",
       "--></g></svg>"
      ]
     },
     "execution_count": 43,
     "metadata": {},
     "output_type": "execute_result"
    }
   ],
   "source": [
    "%viz --style=\"DEFAULT\" --view=\"MIXED\" \"ItemTest\""
   ]
  },
  {
   "cell_type": "code",
   "execution_count": 44,
   "id": "cec0f4d4",
   "metadata": {
    "execution": {
     "iopub.execute_input": "2022-03-21T07:49:12.099821Z",
     "iopub.status.busy": "2022-03-21T07:49:12.099416Z",
     "iopub.status.idle": "2022-03-21T07:49:12.142131Z",
     "shell.execute_reply": "2022-03-21T07:49:12.142444Z"
    }
   },
   "outputs": [
    {
     "data": {
      "image/svg+xml": [
       "<?xml version=\"1.0\" encoding=\"UTF-8\" standalone=\"no\"?><svg xmlns=\"http://www.w3.org/2000/svg\" xmlns:xlink=\"http://www.w3.org/1999/xlink\" contentScriptType=\"application/ecmascript\" contentStyleType=\"text/css\" height=\"818px\" preserveAspectRatio=\"none\" style=\"width:270px;height:818px;\" version=\"1.1\" viewBox=\"0 0 270 818\" width=\"270px\" zoomAndPan=\"magnify\"><defs/><g><!--MD5=[fbc87193dbaf4d95561dea2c320d4a47]\n",
       "cluster E1--><a href=\"psysml:8469bc55-64be-4e75-90cd-bb271a7bb256\" target=\"_top\" title=\"psysml:8469bc55-64be-4e75-90cd-bb271a7bb256\" xlink:actuate=\"onRequest\" xlink:href=\"psysml:8469bc55-64be-4e75-90cd-bb271a7bb256\" xlink:show=\"new\" xlink:title=\"psysml:8469bc55-64be-4e75-90cd-bb271a7bb256\" xlink:type=\"simple\"><polygon fill=\"#FFFFFF\" points=\"16,6,83,6,90,28.2969,248,28.2969,248,806,16,806,16,6\" style=\"stroke: #000000; stroke-width: 1.5;\"/><line style=\"stroke: #000000; stroke-width: 1.5;\" x1=\"16\" x2=\"90\" y1=\"28.2969\" y2=\"28.2969\"/><text fill=\"#000000\" font-family=\"sans-serif\" font-size=\"14\" font-weight=\"bold\" lengthAdjust=\"spacingAndGlyphs\" textLength=\"61\" x=\"20\" y=\"20.9951\">ItemTest</text></a><!--MD5=[b4997ac47864f28c2f74865a473b2911]\n",
       "class E2--><a href=\"psysml:6cbf61b0-82f0-477a-9e61-503ee7ef8ab3\" target=\"_top\" title=\"psysml:6cbf61b0-82f0-477a-9e61-503ee7ef8ab3\" xlink:actuate=\"onRequest\" xlink:href=\"psysml:6cbf61b0-82f0-477a-9e61-503ee7ef8ab3\" xlink:show=\"new\" xlink:title=\"psysml:6cbf61b0-82f0-477a-9e61-503ee7ef8ab3\" xlink:type=\"simple\"><rect fill=\"#FFFFFF\" height=\"45.9375\" id=\"E2\" rx=\"10\" ry=\"10\" style=\"stroke: #383838; stroke-width: 1.5;\" width=\"43\" x=\"188.5\" y=\"148\"/><text fill=\"#000000\" font-family=\"sans-serif\" font-size=\"12\" font-style=\"italic\" lengthAdjust=\"spacingAndGlyphs\" textLength=\"41\" x=\"189.5\" y=\"164.1387\">«item»</text><text fill=\"#000000\" font-family=\"sans-serif\" font-size=\"12\" lengthAdjust=\"spacingAndGlyphs\" textLength=\"20\" x=\"198\" y=\"178.1074\">f: A</text><line style=\"stroke: #383838; stroke-width: 1.5;\" x1=\"189.5\" x2=\"230.5\" y1=\"185.9375\" y2=\"185.9375\"/></a><!--MD5=[09b614a08d8cba4a07c9adeb5e0fee81]\n",
       "class E3--><a href=\"psysml:73e4759d-5191-4c8c-b634-f2bc1b43e3a3\" target=\"_top\" title=\"psysml:73e4759d-5191-4c8c-b634-f2bc1b43e3a3\" xlink:actuate=\"onRequest\" xlink:href=\"psysml:73e4759d-5191-4c8c-b634-f2bc1b43e3a3\" xlink:show=\"new\" xlink:title=\"psysml:73e4759d-5191-4c8c-b634-f2bc1b43e3a3\" xlink:type=\"simple\"><rect fill=\"#FFFFFF\" height=\"45.9375\" id=\"E3\" style=\"stroke: #383838; stroke-width: 1.5;\" width=\"71\" x=\"96.5\" y=\"255\"/><text fill=\"#000000\" font-family=\"sans-serif\" font-size=\"12\" font-style=\"italic\" lengthAdjust=\"spacingAndGlyphs\" textLength=\"69\" x=\"97.5\" y=\"271.1387\">«item  def»</text><text fill=\"#000000\" font-family=\"sans-serif\" font-size=\"12\" lengthAdjust=\"spacingAndGlyphs\" textLength=\"8\" x=\"128\" y=\"285.1074\">A</text><line style=\"stroke: #383838; stroke-width: 1.5;\" x1=\"97.5\" x2=\"166.5\" y1=\"292.9375\" y2=\"292.9375\"/></a><!--MD5=[ebbe1d658d1005bcc118a6aa81145e00]\n",
       "class E4--><a href=\"psysml:22dedc78-8a6f-47e7-a1b3-f5299f454177\" target=\"_top\" title=\"psysml:22dedc78-8a6f-47e7-a1b3-f5299f454177\" xlink:actuate=\"onRequest\" xlink:href=\"psysml:22dedc78-8a6f-47e7-a1b3-f5299f454177\" xlink:show=\"new\" xlink:title=\"psysml:22dedc78-8a6f-47e7-a1b3-f5299f454177\" xlink:type=\"simple\"><rect fill=\"#FFFFFF\" height=\"45.9375\" id=\"E4\" rx=\"10\" ry=\"10\" style=\"stroke: #383838; stroke-width: 1.5;\" width=\"43\" x=\"45.5\" y=\"438\"/><text fill=\"#000000\" font-family=\"sans-serif\" font-size=\"12\" font-style=\"italic\" lengthAdjust=\"spacingAndGlyphs\" textLength=\"41\" x=\"46.5\" y=\"454.1387\">«item»</text><text fill=\"#000000\" font-family=\"sans-serif\" font-size=\"12\" lengthAdjust=\"spacingAndGlyphs\" textLength=\"24\" x=\"53\" y=\"468.1074\">b: B</text><line style=\"stroke: #383838; stroke-width: 1.5;\" x1=\"46.5\" x2=\"87.5\" y1=\"475.9375\" y2=\"475.9375\"/></a><!--MD5=[270fce915f116d4de14055a7c1d9a0f3]\n",
       "class E5--><a href=\"psysml:d5b518cb-4e9d-48f6-86e4-811292cf7103\" target=\"_top\" title=\"psysml:d5b518cb-4e9d-48f6-86e4-811292cf7103\" xlink:actuate=\"onRequest\" xlink:href=\"psysml:d5b518cb-4e9d-48f6-86e4-811292cf7103\" xlink:show=\"new\" xlink:title=\"psysml:d5b518cb-4e9d-48f6-86e4-811292cf7103\" xlink:type=\"simple\"><rect fill=\"#FFFFFF\" height=\"45.9375\" id=\"E5\" rx=\"10\" ry=\"10\" style=\"stroke: #383838; stroke-width: 1.5;\" width=\"42\" x=\"151\" y=\"362\"/><text fill=\"#000000\" font-family=\"sans-serif\" font-size=\"12\" font-style=\"italic\" lengthAdjust=\"spacingAndGlyphs\" textLength=\"40\" x=\"152\" y=\"378.1387\">«part»</text><text fill=\"#000000\" font-family=\"sans-serif\" font-size=\"12\" lengthAdjust=\"spacingAndGlyphs\" textLength=\"23\" x=\"158.5\" y=\"392.1074\">c: C</text><line style=\"stroke: #383838; stroke-width: 1.5;\" x1=\"152\" x2=\"192\" y1=\"399.9375\" y2=\"399.9375\"/></a><!--MD5=[60a26617385b1d2d0262a64233df1f8d]\n",
       "class E6--><a href=\"psysml:7fb13a86-95b9-42ac-ac4a-d3cbb2045ff7\" target=\"_top\" title=\"psysml:7fb13a86-95b9-42ac-ac4a-d3cbb2045ff7\" xlink:actuate=\"onRequest\" xlink:href=\"psysml:7fb13a86-95b9-42ac-ac4a-d3cbb2045ff7\" xlink:show=\"new\" xlink:title=\"psysml:7fb13a86-95b9-42ac-ac4a-d3cbb2045ff7\" xlink:type=\"simple\"><rect fill=\"#FFFFFF\" height=\"45.9375\" id=\"E6\" style=\"stroke: #383838; stroke-width: 1.5;\" width=\"71\" x=\"112.5\" y=\"637\"/><text fill=\"#000000\" font-family=\"sans-serif\" font-size=\"12\" font-style=\"italic\" lengthAdjust=\"spacingAndGlyphs\" textLength=\"69\" x=\"113.5\" y=\"653.1387\">«item  def»</text><text fill=\"#000000\" font-family=\"sans-serif\" font-size=\"12\" font-style=\"italic\" lengthAdjust=\"spacingAndGlyphs\" textLength=\"8\" x=\"144\" y=\"667.1074\">B</text><line style=\"stroke: #383838; stroke-width: 1.5;\" x1=\"113.5\" x2=\"182.5\" y1=\"674.9375\" y2=\"674.9375\"/></a><!--MD5=[2156ba9850f5573cc1fc38a6a4b2f02b]\n",
       "class E7--><a href=\"psysml:b4d408e4-c35f-4021-90a0-c54c4c634ca8\" target=\"_top\" title=\"psysml:b4d408e4-c35f-4021-90a0-c54c4c634ca8\" xlink:actuate=\"onRequest\" xlink:href=\"psysml:b4d408e4-c35f-4021-90a0-c54c4c634ca8\" xlink:show=\"new\" xlink:title=\"psysml:b4d408e4-c35f-4021-90a0-c54c4c634ca8\" xlink:type=\"simple\"><rect fill=\"#FFFFFF\" height=\"45.9375\" id=\"E7\" rx=\"10\" ry=\"10\" style=\"stroke: #383838; stroke-width: 1.5;\" width=\"42\" x=\"159\" y=\"744\"/><text fill=\"#000000\" font-family=\"sans-serif\" font-size=\"12\" font-style=\"italic\" lengthAdjust=\"spacingAndGlyphs\" textLength=\"40\" x=\"160\" y=\"760.1387\">«part»</text><text fill=\"#000000\" font-family=\"sans-serif\" font-size=\"12\" font-style=\"italic\" lengthAdjust=\"spacingAndGlyphs\" textLength=\"8\" x=\"166\" y=\"774.1074\">a</text><text fill=\"#000000\" font-family=\"sans-serif\" font-size=\"12\" lengthAdjust=\"spacingAndGlyphs\" textLength=\"16\" x=\"174\" y=\"774.1074\">: A</text><line style=\"stroke: #383838; stroke-width: 1.5;\" x1=\"160\" x2=\"200\" y1=\"781.9375\" y2=\"781.9375\"/></a><!--MD5=[b9389687b975829384b498ac4b7476b2]\n",
       "class E8--><a href=\"psysml:53104107-4f2e-4822-81be-c90629c3152e\" target=\"_top\" title=\"psysml:53104107-4f2e-4822-81be-c90629c3152e\" xlink:actuate=\"onRequest\" xlink:href=\"psysml:53104107-4f2e-4822-81be-c90629c3152e\" xlink:show=\"new\" xlink:title=\"psysml:53104107-4f2e-4822-81be-c90629c3152e\" xlink:type=\"simple\"><rect fill=\"#FFFFFF\" height=\"45.9375\" id=\"E8\" style=\"stroke: #383838; stroke-width: 1.5;\" width=\"70\" x=\"113\" y=\"514\"/><text fill=\"#000000\" font-family=\"sans-serif\" font-size=\"12\" font-style=\"italic\" lengthAdjust=\"spacingAndGlyphs\" textLength=\"68\" x=\"114\" y=\"530.1387\">«part  def»</text><text fill=\"#000000\" font-family=\"sans-serif\" font-size=\"12\" lengthAdjust=\"spacingAndGlyphs\" textLength=\"8\" x=\"144\" y=\"544.1074\">C</text><line style=\"stroke: #383838; stroke-width: 1.5;\" x1=\"114\" x2=\"182\" y1=\"551.9375\" y2=\"551.9375\"/></a><!--MD5=[fd4143e9d270a159db93a4ea2a975926]\n",
       "class E9--><a href=\"psysml:96c92d64-4061-42f0-9733-a4ee9bfee5f1\" target=\"_top\" title=\"psysml:96c92d64-4061-42f0-9733-a4ee9bfee5f1\" xlink:actuate=\"onRequest\" xlink:href=\"psysml:96c92d64-4061-42f0-9733-a4ee9bfee5f1\" xlink:show=\"new\" xlink:title=\"psysml:96c92d64-4061-42f0-9733-a4ee9bfee5f1\" xlink:type=\"simple\"><rect fill=\"#FFFFFF\" height=\"45.9375\" id=\"E9\" style=\"stroke: #383838; stroke-width: 1.5;\" width=\"70\" x=\"64\" y=\"41\"/><text fill=\"#000000\" font-family=\"sans-serif\" font-size=\"12\" font-style=\"italic\" lengthAdjust=\"spacingAndGlyphs\" textLength=\"68\" x=\"65\" y=\"57.1387\">«port  def»</text><text fill=\"#000000\" font-family=\"sans-serif\" font-size=\"12\" lengthAdjust=\"spacingAndGlyphs\" textLength=\"8\" x=\"95\" y=\"71.1074\">P</text><line style=\"stroke: #383838; stroke-width: 1.5;\" x1=\"65\" x2=\"133\" y1=\"78.9375\" y2=\"78.9375\"/></a><!--MD5=[96f4274e9e20536e775497830990834d]\n",
       "class E10--><a href=\"psysml:21151bb4-f160-49b9-964a-222b3c2d7b6c\" target=\"_top\" title=\"psysml:21151bb4-f160-49b9-964a-222b3c2d7b6c\" xlink:actuate=\"onRequest\" xlink:href=\"psysml:21151bb4-f160-49b9-964a-222b3c2d7b6c\" xlink:show=\"new\" xlink:title=\"psysml:21151bb4-f160-49b9-964a-222b3c2d7b6c\" xlink:type=\"simple\"><rect fill=\"#FFFFFF\" height=\"45.9375\" id=\"E10\" rx=\"10\" ry=\"10\" style=\"stroke: #383838; stroke-width: 1.5;\" width=\"43\" x=\"32.5\" y=\"148\"/><text fill=\"#000000\" font-family=\"sans-serif\" font-size=\"12\" font-style=\"italic\" lengthAdjust=\"spacingAndGlyphs\" textLength=\"41\" x=\"33.5\" y=\"164.1387\">«item»</text><text fill=\"#000000\" font-family=\"sans-serif\" font-size=\"12\" lengthAdjust=\"spacingAndGlyphs\" textLength=\"32\" x=\"36\" y=\"178.1074\">a1: A</text><line style=\"stroke: #383838; stroke-width: 1.5;\" x1=\"33.5\" x2=\"74.5\" y1=\"185.9375\" y2=\"185.9375\"/></a><!--MD5=[1dd1bfd58a279cf63c5f349dbc8fc6a1]\n",
       "class E11--><a href=\"psysml:048eeab4-ab84-4a9d-8dc8-2b5e8335cff3\" target=\"_top\" title=\"psysml:048eeab4-ab84-4a9d-8dc8-2b5e8335cff3\" xlink:actuate=\"onRequest\" xlink:href=\"psysml:048eeab4-ab84-4a9d-8dc8-2b5e8335cff3\" xlink:show=\"new\" xlink:title=\"psysml:048eeab4-ab84-4a9d-8dc8-2b5e8335cff3\" xlink:type=\"simple\"><rect fill=\"#FFFFFF\" height=\"45.9375\" id=\"E11\" rx=\"10\" ry=\"10\" style=\"stroke: #383838; stroke-width: 1.5;\" width=\"43\" x=\"110.5\" y=\"148\"/><text fill=\"#000000\" font-family=\"sans-serif\" font-size=\"12\" font-style=\"italic\" lengthAdjust=\"spacingAndGlyphs\" textLength=\"41\" x=\"111.5\" y=\"164.1387\">«item»</text><text fill=\"#000000\" font-family=\"sans-serif\" font-size=\"12\" lengthAdjust=\"spacingAndGlyphs\" textLength=\"32\" x=\"114\" y=\"178.1074\">a2: A</text><line style=\"stroke: #383838; stroke-width: 1.5;\" x1=\"111.5\" x2=\"152.5\" y1=\"185.9375\" y2=\"185.9375\"/></a><!--MD5=[2720a5a1f2c3fca2055b230370638851]\n",
       "link E2 to E3--><a href=\"psysml:e70b16f9-62c0-40f3-a087-aa973c352c22\" target=\"_top\" title=\"psysml:e70b16f9-62c0-40f3-a087-aa973c352c22\" xlink:actuate=\"onRequest\" xlink:href=\"psysml:e70b16f9-62c0-40f3-a087-aa973c352c22\" xlink:show=\"new\" xlink:title=\"psysml:e70b16f9-62c0-40f3-a087-aa973c352c22\" xlink:type=\"simple\"><path d=\"M193.65,194.01 C184.14,206.81 171.89,223.3 160.82,238.2 \" fill=\"none\" id=\"E2-&gt;E3\" style=\"stroke: #383838; stroke-width: 1.0;\"/><polygon fill=\"#FFFFFF\" points=\"148.6,254.66,154.3195,235.2361,165.5543,243.5896,148.6,254.66\" style=\"stroke: #383838; stroke-width: 1.0;\"/><ellipse cx=\"159.3256\" cy=\"231.8554\" fill=\"#383838\" rx=\"2\" ry=\"2\" style=\"stroke: #383838; stroke-width: 1.0;\"/><ellipse cx=\"167.3504\" cy=\"237.8221\" fill=\"#383838\" rx=\"2\" ry=\"2\" style=\"stroke: #383838; stroke-width: 1.0;\"/></a><!--MD5=[4672eba38e49728da53d11aeb285b987]\n",
       "reverse link E3 to E4--><a href=\"psysml:f5164247-58fc-45c1-bba3-2edebb195fbd\" target=\"_top\" title=\"psysml:f5164247-58fc-45c1-bba3-2edebb195fbd\" xlink:actuate=\"onRequest\" xlink:href=\"psysml:f5164247-58fc-45c1-bba3-2edebb195fbd\" xlink:show=\"new\" xlink:title=\"psysml:f5164247-58fc-45c1-bba3-2edebb195fbd\" xlink:type=\"simple\"><path d=\"M97.11,310.9 C84.08,325.11 70.81,342.94 64,362 C55.12,386.85 58.09,417.53 61.82,437.88 \" fill=\"none\" id=\"E3&lt;-E4\" style=\"stroke: #383838; stroke-width: 1.0;\"/><polygon fill=\"#383838\" points=\"106.46,301.23,99.4153,302.7703,98.1277,309.8655,105.1724,308.3252,106.46,301.23\" style=\"stroke: #383838; stroke-width: 1.0;\"/><text fill=\"#000000\" font-family=\"sans-serif\" font-size=\"13\" lengthAdjust=\"spacingAndGlyphs\" textLength=\"8\" x=\"51.3529\" y=\"426.744\">1</text></a><!--MD5=[191cde3d490a3f6d7bb551fe3ddca469]\n",
       "reverse link E3 to E5--><a href=\"psysml:0e10322d-8096-4d1c-ad13-bcf359abd35a\" target=\"_top\" title=\"psysml:0e10322d-8096-4d1c-ad13-bcf359abd35a\" xlink:actuate=\"onRequest\" xlink:href=\"psysml:0e10322d-8096-4d1c-ad13-bcf359abd35a\" xlink:show=\"new\" xlink:title=\"psysml:0e10322d-8096-4d1c-ad13-bcf359abd35a\" xlink:type=\"simple\"><path d=\"M145.17,313.57 C151.2,329.39 158.16,347.68 163.49,361.66 \" fill=\"none\" id=\"E3&lt;-E5\" style=\"stroke: #383838; stroke-width: 1.0;\"/><polygon fill=\"#FFFFFF\" points=\"140.39,301.01,138.7866,308.0406,144.6598,312.2247,146.2631,305.1941,140.39,301.01\" style=\"stroke: #383838; stroke-width: 1.0;\"/><text fill=\"#000000\" font-family=\"sans-serif\" font-size=\"13\" lengthAdjust=\"spacingAndGlyphs\" textLength=\"8\" x=\"152.2843\" y=\"350.8492\">1</text></a><!--MD5=[79568f1e445c3877b6a54524624ccc7d]\n",
       "link E4 to E6--><a href=\"psysml:cd799d59-974c-4cd5-b2a4-5d2e853ea550\" target=\"_top\" title=\"psysml:cd799d59-974c-4cd5-b2a4-5d2e853ea550\" xlink:actuate=\"onRequest\" xlink:href=\"psysml:cd799d59-974c-4cd5-b2a4-5d2e853ea550\" xlink:show=\"new\" xlink:title=\"psysml:cd799d59-974c-4cd5-b2a4-5d2e853ea550\" xlink:type=\"simple\"><path d=\"M72.25,484.22 C77.31,504.36 85.72,534.68 96,560 C104.15,580.08 115.08,601.47 124.82,619.21 \" fill=\"none\" id=\"E4-&gt;E6\" style=\"stroke: #383838; stroke-width: 1.0;\"/><polygon fill=\"#FFFFFF\" points=\"134.72,636.8,119.2979,623.6791,131.4967,616.8097,134.72,636.8\" style=\"stroke: #383838; stroke-width: 1.0;\"/><ellipse cx=\"118.2438\" cy=\"617.7311\" fill=\"#383838\" rx=\"2\" ry=\"2\" style=\"stroke: #383838; stroke-width: 1.0;\"/><ellipse cx=\"126.9572\" cy=\"612.8244\" fill=\"#383838\" rx=\"2\" ry=\"2\" style=\"stroke: #383838; stroke-width: 1.0;\"/></a><!--MD5=[3f50a3473f1dfb74d3f76443e03635af]\n",
       "reverse link E6 to E7--><a href=\"psysml:f66c29ee-70ba-402f-a3a4-159df7b46130\" target=\"_top\" title=\"psysml:f66c29ee-70ba-402f-a3a4-159df7b46130\" xlink:actuate=\"onRequest\" xlink:href=\"psysml:f66c29ee-70ba-402f-a3a4-159df7b46130\" xlink:show=\"new\" xlink:title=\"psysml:f66c29ee-70ba-402f-a3a4-159df7b46130\" xlink:type=\"simple\"><path d=\"M158.54,695.57 C163.36,711.39 168.93,729.68 173.19,743.66 \" fill=\"none\" id=\"E6&lt;-E7\" style=\"stroke: #383838; stroke-width: 1.0;\"/><polygon fill=\"#383838\" points=\"154.71,683.01,152.6319,689.9152,158.2066,694.4893,160.2847,687.5841,154.71,683.01\" style=\"stroke: #383838; stroke-width: 1.0;\"/><text fill=\"#000000\" font-family=\"sans-serif\" font-size=\"13\" lengthAdjust=\"spacingAndGlyphs\" textLength=\"8\" x=\"162.4199\" y=\"732.8492\">1</text></a><!--MD5=[14ccda38c055a5c0da953d572bc50960]\n",
       "link E7 to E3--><a href=\"psysml:4b14459c-c0ea-47eb-ae95-5bdd156140b8\" target=\"_top\" title=\"psysml:4b14459c-c0ea-47eb-ae95-5bdd156140b8\" xlink:actuate=\"onRequest\" xlink:href=\"psysml:4b14459c-c0ea-47eb-ae95-5bdd156140b8\" xlink:show=\"new\" xlink:title=\"psysml:4b14459c-c0ea-47eb-ae95-5bdd156140b8\" xlink:type=\"simple\"><path d=\"M197.41,743.63 C211.5,723.27 229,691.78 229,661 C229,384 229,384 229,384 C229,353.7 206.93,328.42 183.85,310.26 \" fill=\"none\" id=\"E7-&gt;E3\" style=\"stroke: #383838; stroke-width: 1.0;\"/><polygon fill=\"#FFFFFF\" points=\"167.57,298.59,187.0929,303.9617,178.9414,315.3438,167.57,298.59\" style=\"stroke: #383838; stroke-width: 1.0;\"/><ellipse cx=\"190.5626\" cy=\"308.9066\" fill=\"#383838\" rx=\"2\" ry=\"2\" style=\"stroke: #383838; stroke-width: 1.0;\"/><ellipse cx=\"184.7401\" cy=\"317.0367\" fill=\"#383838\" rx=\"2\" ry=\"2\" style=\"stroke: #383838; stroke-width: 1.0;\"/></a><!--MD5=[dfaffb906826c3e5aca635516100ff21]\n",
       "link E5 to E8--><a href=\"psysml:7f99918d-ef62-497c-9b9a-668f89d0bef4\" target=\"_top\" title=\"psysml:7f99918d-ef62-497c-9b9a-668f89d0bef4\" xlink:actuate=\"onRequest\" xlink:href=\"psysml:7f99918d-ef62-497c-9b9a-668f89d0bef4\" xlink:show=\"new\" xlink:title=\"psysml:7f99918d-ef62-497c-9b9a-668f89d0bef4\" xlink:type=\"simple\"><path d=\"M168.46,408.13 C164.86,430.62 159.2,466.01 154.74,493.87 \" fill=\"none\" id=\"E5-&gt;E8\" style=\"stroke: #383838; stroke-width: 1.0;\"/><polygon fill=\"#FFFFFF\" points=\"151.56,513.78,147.6458,493.9135,161.4704,496.1226,151.56,513.78\" style=\"stroke: #383838; stroke-width: 1.0;\"/><ellipse cx=\"150.5202\" cy=\"488.6005\" fill=\"#383838\" rx=\"2\" ry=\"2\" style=\"stroke: #383838; stroke-width: 1.0;\"/><ellipse cx=\"160.3949\" cy=\"490.1784\" fill=\"#383838\" rx=\"2\" ry=\"2\" style=\"stroke: #383838; stroke-width: 1.0;\"/></a><!--MD5=[03c8294790d3c57651a1993cecff665f]\n",
       "reverse link E8 to E3--><a href=\"psysml:8abdebaf-64f0-40cf-a780-4a21932975d8\" target=\"_top\" title=\"psysml:8abdebaf-64f0-40cf-a780-4a21932975d8\" xlink:actuate=\"onRequest\" xlink:href=\"psysml:8abdebaf-64f0-40cf-a780-4a21932975d8\" xlink:show=\"new\" xlink:title=\"psysml:8abdebaf-64f0-40cf-a780-4a21932975d8\" xlink:type=\"simple\"><path d=\"M140.02,501.22 C134.57,475.6 127.84,439.84 125,408 C123.18,387.64 124.14,382.43 125,362 C125.87,341.34 127.95,317.86 129.62,301.16 \" fill=\"none\" id=\"E8&lt;-E3\" style=\"stroke: #383838; stroke-width: 1.0;\"/><polygon fill=\"#FFFFFF\" points=\"142.81,513.96,145.4388,507.2451,140.2515,502.2359,137.6227,508.9508,142.81,513.96\" style=\"stroke: #383838; stroke-width: 1.0;\"/><text fill=\"#000000\" font-family=\"sans-serif\" font-size=\"13\" lengthAdjust=\"spacingAndGlyphs\" textLength=\"7\" x=\"126\" y=\"389.5669\">y</text></a><!--MD5=[0d75d2178373a6a4568e5dc728f58aef]\n",
       "reverse link E8 to E6--><a href=\"psysml:8abdebaf-64f0-40cf-a780-4a21932975d8\" target=\"_top\" title=\"psysml:8abdebaf-64f0-40cf-a780-4a21932975d8\" xlink:actuate=\"onRequest\" xlink:href=\"psysml:8abdebaf-64f0-40cf-a780-4a21932975d8\" xlink:show=\"new\" xlink:title=\"psysml:8abdebaf-64f0-40cf-a780-4a21932975d8\" xlink:type=\"simple\"><path d=\"M148,573.22 C148,593.81 148,619.16 148,636.95 \" fill=\"none\" id=\"E8&lt;-E6\" style=\"stroke: #383838; stroke-width: 1.0;\"/><polygon fill=\"#FFFFFF\" points=\"148,560.19,144,566.19,148,572.19,152,566.19,148,560.19\" style=\"stroke: #383838; stroke-width: 1.0;\"/><text fill=\"#000000\" font-family=\"sans-serif\" font-size=\"13\" lengthAdjust=\"spacingAndGlyphs\" textLength=\"7\" x=\"149\" y=\"603.0669\">y</text></a><!--MD5=[23ac544a70576c3e717098101004234c]\n",
       "reverse link E9 to E10--><a href=\"psysml:4b97f70b-21b5-47d0-9b80-bf68f1206e68\" target=\"_top\" title=\"psysml:4b97f70b-21b5-47d0-9b80-bf68f1206e68\" xlink:actuate=\"onRequest\" xlink:href=\"psysml:4b97f70b-21b5-47d0-9b80-bf68f1206e68\" xlink:show=\"new\" xlink:title=\"psysml:4b97f70b-21b5-47d0-9b80-bf68f1206e68\" xlink:type=\"simple\"><path d=\"M84.39,99.1 C77.56,115.03 69.63,133.54 63.58,147.66 \" fill=\"none\" id=\"E9&lt;-E10\" style=\"stroke: #383838; stroke-width: 1.0;\"/><polygon fill=\"#FFFFFF\" points=\"89.57,87.01,83.5327,90.9535,84.8509,98.0431,90.8882,94.0996,89.57,87.01\" style=\"stroke: #383838; stroke-width: 1.0;\"/><text fill=\"#000000\" font-family=\"sans-serif\" font-size=\"13\" lengthAdjust=\"spacingAndGlyphs\" textLength=\"8\" x=\"57.0099\" y=\"136.8492\">1</text></a><!--MD5=[feeac5eb423634930294aa81f2d25a4c]\n",
       "link E10 to E3--><a href=\"psysml:890b43d2-a44a-4df9-b863-0c7f323950a1\" target=\"_top\" title=\"psysml:890b43d2-a44a-4df9-b863-0c7f323950a1\" xlink:actuate=\"onRequest\" xlink:href=\"psysml:890b43d2-a44a-4df9-b863-0c7f323950a1\" xlink:show=\"new\" xlink:title=\"psysml:890b43d2-a44a-4df9-b863-0c7f323950a1\" xlink:type=\"simple\"><path d=\"M70.35,194.01 C79.86,206.81 92.11,223.3 103.18,238.2 \" fill=\"none\" id=\"E10-&gt;E3\" style=\"stroke: #383838; stroke-width: 1.0;\"/><polygon fill=\"#FFFFFF\" points=\"115.4,254.66,98.4457,243.5896,109.6805,235.2361,115.4,254.66\" style=\"stroke: #383838; stroke-width: 1.0;\"/><ellipse cx=\"96.6496\" cy=\"237.8221\" fill=\"#383838\" rx=\"2\" ry=\"2\" style=\"stroke: #383838; stroke-width: 1.0;\"/><ellipse cx=\"104.6744\" cy=\"231.8554\" fill=\"#383838\" rx=\"2\" ry=\"2\" style=\"stroke: #383838; stroke-width: 1.0;\"/></a><!--MD5=[1fc04a95fd77ad5ce46c1a3027516051]\n",
       "reverse link E9 to E11--><a href=\"psysml:75cdd26f-47cf-45db-b14e-ba01ceb3edc6\" target=\"_top\" title=\"psysml:75cdd26f-47cf-45db-b14e-ba01ceb3edc6\" xlink:actuate=\"onRequest\" xlink:href=\"psysml:75cdd26f-47cf-45db-b14e-ba01ceb3edc6\" xlink:show=\"new\" xlink:title=\"psysml:75cdd26f-47cf-45db-b14e-ba01ceb3edc6\" xlink:type=\"simple\"><path d=\"M109.87,99.57 C114.84,115.39 120.59,133.68 124.98,147.66 \" fill=\"none\" id=\"E9&lt;-E11\" style=\"stroke: #383838; stroke-width: 1.0;\"/><polygon fill=\"#FFFFFF\" points=\"105.92,87.01,103.9044,93.9337,109.5203,98.4572,111.5359,91.5335,105.92,87.01\" style=\"stroke: #383838; stroke-width: 1.0;\"/><text fill=\"#000000\" font-family=\"sans-serif\" font-size=\"13\" lengthAdjust=\"spacingAndGlyphs\" textLength=\"8\" x=\"114.1561\" y=\"136.8492\">1</text></a><!--MD5=[0517f1ce58c4d5483948f93845c45e26]\n",
       "link E11 to E3--><a href=\"psysml:92dee77c-180b-445a-a05e-737a71661cde\" target=\"_top\" title=\"psysml:92dee77c-180b-445a-a05e-737a71661cde\" xlink:actuate=\"onRequest\" xlink:href=\"psysml:92dee77c-180b-445a-a05e-737a71661cde\" xlink:show=\"new\" xlink:title=\"psysml:92dee77c-180b-445a-a05e-737a71661cde\" xlink:type=\"simple\"><path d=\"M132,194.01 C132,205.69 132,220.46 132,234.28 \" fill=\"none\" id=\"E11-&gt;E3\" style=\"stroke: #383838; stroke-width: 1.0;\"/><polygon fill=\"#FFFFFF\" points=\"132,254.66,125,235.66,139,235.66,132,254.66\" style=\"stroke: #383838; stroke-width: 1.0;\"/><ellipse cx=\"127\" cy=\"229.96\" fill=\"#383838\" rx=\"2\" ry=\"2\" style=\"stroke: #383838; stroke-width: 1.0;\"/><ellipse cx=\"137\" cy=\"229.96\" fill=\"#383838\" rx=\"2\" ry=\"2\" style=\"stroke: #383838; stroke-width: 1.0;\"/></a><!--MD5=[2601ff4a431623f1f65a1c7b38a68c74]\n",
       "@startuml\r\n",
       "top to bottom direction\r\n",
       "skinparam monochrome true\r\n",
       "skinparam classbackgroundcolor white\r\n",
       "skinparam shadowing false\r\n",
       "skinparam wrapWidth 300\r\n",
       "hide circle\r\n",
       "\r\n",
       "package \"ItemTest\" as E1  [[psysml:8469bc55-64be-4e75-90cd-bb271a7bb256 ]]  {\r\n",
       "comp usage \"f: A \" as E2  <<(T,blue) item>> [[psysml:6cbf61b0-82f0-477a-9e61-503ee7ef8ab3 ]] {\r\n",
       "}\r\n",
       "comp def \"A\" as E3  <<(T,blue) item  def>> [[psysml:73e4759d-5191-4c8c-b634-f2bc1b43e3a3 ]] {\r\n",
       "}\r\n",
       "comp usage \"b: B \" as E4  <<(T,blue) item>> [[psysml:22dedc78-8a6f-47e7-a1b3-f5299f454177 ]] {\r\n",
       "}\r\n",
       "comp usage \"c: C \" as E5  <<(T,blue) part>> [[psysml:d5b518cb-4e9d-48f6-86e4-811292cf7103 ]] {\r\n",
       "}\r\n",
       "comp def \"<i>B</i>\" as E6  <<(T,blue) item  def>> [[psysml:7fb13a86-95b9-42ac-ac4a-d3cbb2045ff7 ]] {\r\n",
       "}\r\n",
       "comp usage \"<i>a</i>: A \" as E7  <<(T,blue) part>> [[psysml:b4d408e4-c35f-4021-90a0-c54c4c634ca8 ]] {\r\n",
       "}\r\n",
       "comp def \"C\" as E8  <<(T,blue) part  def>> [[psysml:53104107-4f2e-4822-81be-c90629c3152e ]] {\r\n",
       "}\r\n",
       "comp def \"P\" as E9  <<(T,blue) port  def>> [[psysml:96c92d64-4061-42f0-9733-a4ee9bfee5f1 ]] {\r\n",
       "}\r\n",
       "comp usage \"a1: A \" as E10  <<(T,blue) item>> [[psysml:21151bb4-f160-49b9-964a-222b3c2d7b6c ]] {\r\n",
       "}\r\n",
       "comp usage \"a2: A \" as E11  <<(T,blue) item>> [[psysml:048eeab4-ab84-4a9d-8dc8-2b5e8335cff3 ]] {\r\n",
       "}\r\n",
       "}\r\n",
       "E2 - -:|> E3 [[psysml:e70b16f9-62c0-40f3-a087-aa973c352c22 ]] \r\n",
       "E3 *- - \"1\"E4 [[psysml:f5164247-58fc-45c1-bba3-2edebb195fbd ]] \r\n",
       "E3 o- - \"1\"E5 [[psysml:0e10322d-8096-4d1c-ad13-bcf359abd35a ]] \r\n",
       "E4 - -:|> E6 [[psysml:cd799d59-974c-4cd5-b2a4-5d2e853ea550 ]] \r\n",
       "E6 *- - \"1\"E7 [[psysml:f66c29ee-70ba-402f-a3a4-159df7b46130 ]] \r\n",
       "E7 - -:|> E3 [[psysml:4b14459c-c0ea-47eb-ae95-5bdd156140b8 ]] \r\n",
       "E5 - -:|> E8 [[psysml:7f99918d-ef62-497c-9b9a-668f89d0bef4 ]] \r\n",
       "E8 o- - E3 [[psysml:8abdebaf-64f0-40cf-a780-4a21932975d8 ]] : y\r\n",
       "E8 o- - E6 [[psysml:8abdebaf-64f0-40cf-a780-4a21932975d8 ]] : y\r\n",
       "E9 o- - \"1\"E10 [[psysml:4b97f70b-21b5-47d0-9b80-bf68f1206e68 ]] \r\n",
       "E10 - -:|> E3 [[psysml:890b43d2-a44a-4df9-b863-0c7f323950a1 ]] \r\n",
       "E9 o- - \"1\"E11 [[psysml:75cdd26f-47cf-45db-b14e-ba01ceb3edc6 ]] \r\n",
       "E11 - -:|> E3 [[psysml:92dee77c-180b-445a-a05e-737a71661cde ]] \r\n",
       "@enduml\r\n",
       "\n",
       "PlantUML version 1.2020.13(Sat Jun 13 12:26:38 UTC 2020)\n",
       "(EPL source distribution)\n",
       "Java Runtime: OpenJDK Runtime Environment\n",
       "JVM: OpenJDK 64-Bit Server VM\n",
       "Default Encoding: UTF-8\n",
       "Language: en\n",
       "Country: null\n",
       "--></g></svg>"
      ]
     },
     "execution_count": 44,
     "metadata": {},
     "output_type": "execute_result"
    }
   ],
   "source": [
    "%viz --style=\"TB\" --view=\"Default\" \"ItemTest\""
   ]
  },
  {
   "cell_type": "code",
   "execution_count": 45,
   "id": "cc964b2d",
   "metadata": {
    "execution": {
     "iopub.execute_input": "2022-03-21T07:49:12.192242Z",
     "iopub.status.busy": "2022-03-21T07:49:12.191837Z",
     "iopub.status.idle": "2022-03-21T07:49:12.238658Z",
     "shell.execute_reply": "2022-03-21T07:49:12.238303Z"
    }
   },
   "outputs": [
    {
     "data": {
      "image/svg+xml": [
       "<?xml version=\"1.0\" encoding=\"UTF-8\" standalone=\"no\"?><svg xmlns=\"http://www.w3.org/2000/svg\" xmlns:xlink=\"http://www.w3.org/1999/xlink\" contentScriptType=\"application/ecmascript\" contentStyleType=\"text/css\" height=\"818px\" preserveAspectRatio=\"none\" style=\"width:270px;height:818px;\" version=\"1.1\" viewBox=\"0 0 270 818\" width=\"270px\" zoomAndPan=\"magnify\"><defs/><g><!--MD5=[fbc87193dbaf4d95561dea2c320d4a47]\n",
       "cluster E1--><a href=\"psysml:8469bc55-64be-4e75-90cd-bb271a7bb256\" target=\"_top\" title=\"psysml:8469bc55-64be-4e75-90cd-bb271a7bb256\" xlink:actuate=\"onRequest\" xlink:href=\"psysml:8469bc55-64be-4e75-90cd-bb271a7bb256\" xlink:show=\"new\" xlink:title=\"psysml:8469bc55-64be-4e75-90cd-bb271a7bb256\" xlink:type=\"simple\"><polygon fill=\"#FFFFFF\" points=\"16,6,83,6,90,28.2969,248,28.2969,248,806,16,806,16,6\" style=\"stroke: #000000; stroke-width: 1.5;\"/><line style=\"stroke: #000000; stroke-width: 1.5;\" x1=\"16\" x2=\"90\" y1=\"28.2969\" y2=\"28.2969\"/><text fill=\"#000000\" font-family=\"sans-serif\" font-size=\"14\" font-weight=\"bold\" lengthAdjust=\"spacingAndGlyphs\" textLength=\"61\" x=\"20\" y=\"20.9951\">ItemTest</text></a><!--MD5=[b4997ac47864f28c2f74865a473b2911]\n",
       "class E2--><a href=\"psysml:6cbf61b0-82f0-477a-9e61-503ee7ef8ab3\" target=\"_top\" title=\"psysml:6cbf61b0-82f0-477a-9e61-503ee7ef8ab3\" xlink:actuate=\"onRequest\" xlink:href=\"psysml:6cbf61b0-82f0-477a-9e61-503ee7ef8ab3\" xlink:show=\"new\" xlink:title=\"psysml:6cbf61b0-82f0-477a-9e61-503ee7ef8ab3\" xlink:type=\"simple\"><rect fill=\"#FFFFFF\" height=\"45.9375\" id=\"E2\" rx=\"10\" ry=\"10\" style=\"stroke: #383838; stroke-width: 1.5;\" width=\"43\" x=\"188.5\" y=\"148\"/><text fill=\"#000000\" font-family=\"sans-serif\" font-size=\"12\" font-style=\"italic\" lengthAdjust=\"spacingAndGlyphs\" textLength=\"41\" x=\"189.5\" y=\"164.1387\">«item»</text><text fill=\"#000000\" font-family=\"sans-serif\" font-size=\"12\" lengthAdjust=\"spacingAndGlyphs\" textLength=\"20\" x=\"198\" y=\"178.1074\">f: A</text><line style=\"stroke: #383838; stroke-width: 1.5;\" x1=\"189.5\" x2=\"230.5\" y1=\"185.9375\" y2=\"185.9375\"/></a><!--MD5=[09b614a08d8cba4a07c9adeb5e0fee81]\n",
       "class E3--><a href=\"psysml:73e4759d-5191-4c8c-b634-f2bc1b43e3a3\" target=\"_top\" title=\"psysml:73e4759d-5191-4c8c-b634-f2bc1b43e3a3\" xlink:actuate=\"onRequest\" xlink:href=\"psysml:73e4759d-5191-4c8c-b634-f2bc1b43e3a3\" xlink:show=\"new\" xlink:title=\"psysml:73e4759d-5191-4c8c-b634-f2bc1b43e3a3\" xlink:type=\"simple\"><rect fill=\"#FFFFFF\" height=\"45.9375\" id=\"E3\" style=\"stroke: #383838; stroke-width: 1.5;\" width=\"71\" x=\"96.5\" y=\"255\"/><text fill=\"#000000\" font-family=\"sans-serif\" font-size=\"12\" font-style=\"italic\" lengthAdjust=\"spacingAndGlyphs\" textLength=\"69\" x=\"97.5\" y=\"271.1387\">«item  def»</text><text fill=\"#000000\" font-family=\"sans-serif\" font-size=\"12\" lengthAdjust=\"spacingAndGlyphs\" textLength=\"8\" x=\"128\" y=\"285.1074\">A</text><line style=\"stroke: #383838; stroke-width: 1.5;\" x1=\"97.5\" x2=\"166.5\" y1=\"292.9375\" y2=\"292.9375\"/></a><!--MD5=[ebbe1d658d1005bcc118a6aa81145e00]\n",
       "class E4--><a href=\"psysml:22dedc78-8a6f-47e7-a1b3-f5299f454177\" target=\"_top\" title=\"psysml:22dedc78-8a6f-47e7-a1b3-f5299f454177\" xlink:actuate=\"onRequest\" xlink:href=\"psysml:22dedc78-8a6f-47e7-a1b3-f5299f454177\" xlink:show=\"new\" xlink:title=\"psysml:22dedc78-8a6f-47e7-a1b3-f5299f454177\" xlink:type=\"simple\"><rect fill=\"#FFFFFF\" height=\"45.9375\" id=\"E4\" rx=\"10\" ry=\"10\" style=\"stroke: #383838; stroke-width: 1.5;\" width=\"43\" x=\"45.5\" y=\"438\"/><text fill=\"#000000\" font-family=\"sans-serif\" font-size=\"12\" font-style=\"italic\" lengthAdjust=\"spacingAndGlyphs\" textLength=\"41\" x=\"46.5\" y=\"454.1387\">«item»</text><text fill=\"#000000\" font-family=\"sans-serif\" font-size=\"12\" lengthAdjust=\"spacingAndGlyphs\" textLength=\"24\" x=\"53\" y=\"468.1074\">b: B</text><line style=\"stroke: #383838; stroke-width: 1.5;\" x1=\"46.5\" x2=\"87.5\" y1=\"475.9375\" y2=\"475.9375\"/></a><!--MD5=[270fce915f116d4de14055a7c1d9a0f3]\n",
       "class E5--><a href=\"psysml:d5b518cb-4e9d-48f6-86e4-811292cf7103\" target=\"_top\" title=\"psysml:d5b518cb-4e9d-48f6-86e4-811292cf7103\" xlink:actuate=\"onRequest\" xlink:href=\"psysml:d5b518cb-4e9d-48f6-86e4-811292cf7103\" xlink:show=\"new\" xlink:title=\"psysml:d5b518cb-4e9d-48f6-86e4-811292cf7103\" xlink:type=\"simple\"><rect fill=\"#FFFFFF\" height=\"45.9375\" id=\"E5\" rx=\"10\" ry=\"10\" style=\"stroke: #383838; stroke-width: 1.5;\" width=\"42\" x=\"151\" y=\"362\"/><text fill=\"#000000\" font-family=\"sans-serif\" font-size=\"12\" font-style=\"italic\" lengthAdjust=\"spacingAndGlyphs\" textLength=\"40\" x=\"152\" y=\"378.1387\">«part»</text><text fill=\"#000000\" font-family=\"sans-serif\" font-size=\"12\" lengthAdjust=\"spacingAndGlyphs\" textLength=\"23\" x=\"158.5\" y=\"392.1074\">c: C</text><line style=\"stroke: #383838; stroke-width: 1.5;\" x1=\"152\" x2=\"192\" y1=\"399.9375\" y2=\"399.9375\"/></a><!--MD5=[60a26617385b1d2d0262a64233df1f8d]\n",
       "class E6--><a href=\"psysml:7fb13a86-95b9-42ac-ac4a-d3cbb2045ff7\" target=\"_top\" title=\"psysml:7fb13a86-95b9-42ac-ac4a-d3cbb2045ff7\" xlink:actuate=\"onRequest\" xlink:href=\"psysml:7fb13a86-95b9-42ac-ac4a-d3cbb2045ff7\" xlink:show=\"new\" xlink:title=\"psysml:7fb13a86-95b9-42ac-ac4a-d3cbb2045ff7\" xlink:type=\"simple\"><rect fill=\"#FFFFFF\" height=\"45.9375\" id=\"E6\" style=\"stroke: #383838; stroke-width: 1.5;\" width=\"71\" x=\"112.5\" y=\"637\"/><text fill=\"#000000\" font-family=\"sans-serif\" font-size=\"12\" font-style=\"italic\" lengthAdjust=\"spacingAndGlyphs\" textLength=\"69\" x=\"113.5\" y=\"653.1387\">«item  def»</text><text fill=\"#000000\" font-family=\"sans-serif\" font-size=\"12\" font-style=\"italic\" lengthAdjust=\"spacingAndGlyphs\" textLength=\"8\" x=\"144\" y=\"667.1074\">B</text><line style=\"stroke: #383838; stroke-width: 1.5;\" x1=\"113.5\" x2=\"182.5\" y1=\"674.9375\" y2=\"674.9375\"/></a><!--MD5=[2156ba9850f5573cc1fc38a6a4b2f02b]\n",
       "class E7--><a href=\"psysml:b4d408e4-c35f-4021-90a0-c54c4c634ca8\" target=\"_top\" title=\"psysml:b4d408e4-c35f-4021-90a0-c54c4c634ca8\" xlink:actuate=\"onRequest\" xlink:href=\"psysml:b4d408e4-c35f-4021-90a0-c54c4c634ca8\" xlink:show=\"new\" xlink:title=\"psysml:b4d408e4-c35f-4021-90a0-c54c4c634ca8\" xlink:type=\"simple\"><rect fill=\"#FFFFFF\" height=\"45.9375\" id=\"E7\" rx=\"10\" ry=\"10\" style=\"stroke: #383838; stroke-width: 1.5;\" width=\"42\" x=\"159\" y=\"744\"/><text fill=\"#000000\" font-family=\"sans-serif\" font-size=\"12\" font-style=\"italic\" lengthAdjust=\"spacingAndGlyphs\" textLength=\"40\" x=\"160\" y=\"760.1387\">«part»</text><text fill=\"#000000\" font-family=\"sans-serif\" font-size=\"12\" font-style=\"italic\" lengthAdjust=\"spacingAndGlyphs\" textLength=\"8\" x=\"166\" y=\"774.1074\">a</text><text fill=\"#000000\" font-family=\"sans-serif\" font-size=\"12\" lengthAdjust=\"spacingAndGlyphs\" textLength=\"16\" x=\"174\" y=\"774.1074\">: A</text><line style=\"stroke: #383838; stroke-width: 1.5;\" x1=\"160\" x2=\"200\" y1=\"781.9375\" y2=\"781.9375\"/></a><!--MD5=[b9389687b975829384b498ac4b7476b2]\n",
       "class E8--><a href=\"psysml:53104107-4f2e-4822-81be-c90629c3152e\" target=\"_top\" title=\"psysml:53104107-4f2e-4822-81be-c90629c3152e\" xlink:actuate=\"onRequest\" xlink:href=\"psysml:53104107-4f2e-4822-81be-c90629c3152e\" xlink:show=\"new\" xlink:title=\"psysml:53104107-4f2e-4822-81be-c90629c3152e\" xlink:type=\"simple\"><rect fill=\"#FFFFFF\" height=\"45.9375\" id=\"E8\" style=\"stroke: #383838; stroke-width: 1.5;\" width=\"70\" x=\"113\" y=\"514\"/><text fill=\"#000000\" font-family=\"sans-serif\" font-size=\"12\" font-style=\"italic\" lengthAdjust=\"spacingAndGlyphs\" textLength=\"68\" x=\"114\" y=\"530.1387\">«part  def»</text><text fill=\"#000000\" font-family=\"sans-serif\" font-size=\"12\" lengthAdjust=\"spacingAndGlyphs\" textLength=\"8\" x=\"144\" y=\"544.1074\">C</text><line style=\"stroke: #383838; stroke-width: 1.5;\" x1=\"114\" x2=\"182\" y1=\"551.9375\" y2=\"551.9375\"/></a><!--MD5=[fd4143e9d270a159db93a4ea2a975926]\n",
       "class E9--><a href=\"psysml:96c92d64-4061-42f0-9733-a4ee9bfee5f1\" target=\"_top\" title=\"psysml:96c92d64-4061-42f0-9733-a4ee9bfee5f1\" xlink:actuate=\"onRequest\" xlink:href=\"psysml:96c92d64-4061-42f0-9733-a4ee9bfee5f1\" xlink:show=\"new\" xlink:title=\"psysml:96c92d64-4061-42f0-9733-a4ee9bfee5f1\" xlink:type=\"simple\"><rect fill=\"#FFFFFF\" height=\"45.9375\" id=\"E9\" style=\"stroke: #383838; stroke-width: 1.5;\" width=\"70\" x=\"64\" y=\"41\"/><text fill=\"#000000\" font-family=\"sans-serif\" font-size=\"12\" font-style=\"italic\" lengthAdjust=\"spacingAndGlyphs\" textLength=\"68\" x=\"65\" y=\"57.1387\">«port  def»</text><text fill=\"#000000\" font-family=\"sans-serif\" font-size=\"12\" lengthAdjust=\"spacingAndGlyphs\" textLength=\"8\" x=\"95\" y=\"71.1074\">P</text><line style=\"stroke: #383838; stroke-width: 1.5;\" x1=\"65\" x2=\"133\" y1=\"78.9375\" y2=\"78.9375\"/></a><!--MD5=[96f4274e9e20536e775497830990834d]\n",
       "class E10--><a href=\"psysml:21151bb4-f160-49b9-964a-222b3c2d7b6c\" target=\"_top\" title=\"psysml:21151bb4-f160-49b9-964a-222b3c2d7b6c\" xlink:actuate=\"onRequest\" xlink:href=\"psysml:21151bb4-f160-49b9-964a-222b3c2d7b6c\" xlink:show=\"new\" xlink:title=\"psysml:21151bb4-f160-49b9-964a-222b3c2d7b6c\" xlink:type=\"simple\"><rect fill=\"#FFFFFF\" height=\"45.9375\" id=\"E10\" rx=\"10\" ry=\"10\" style=\"stroke: #383838; stroke-width: 1.5;\" width=\"43\" x=\"32.5\" y=\"148\"/><text fill=\"#000000\" font-family=\"sans-serif\" font-size=\"12\" font-style=\"italic\" lengthAdjust=\"spacingAndGlyphs\" textLength=\"41\" x=\"33.5\" y=\"164.1387\">«item»</text><text fill=\"#000000\" font-family=\"sans-serif\" font-size=\"12\" lengthAdjust=\"spacingAndGlyphs\" textLength=\"32\" x=\"36\" y=\"178.1074\">a1: A</text><line style=\"stroke: #383838; stroke-width: 1.5;\" x1=\"33.5\" x2=\"74.5\" y1=\"185.9375\" y2=\"185.9375\"/></a><!--MD5=[1dd1bfd58a279cf63c5f349dbc8fc6a1]\n",
       "class E11--><a href=\"psysml:048eeab4-ab84-4a9d-8dc8-2b5e8335cff3\" target=\"_top\" title=\"psysml:048eeab4-ab84-4a9d-8dc8-2b5e8335cff3\" xlink:actuate=\"onRequest\" xlink:href=\"psysml:048eeab4-ab84-4a9d-8dc8-2b5e8335cff3\" xlink:show=\"new\" xlink:title=\"psysml:048eeab4-ab84-4a9d-8dc8-2b5e8335cff3\" xlink:type=\"simple\"><rect fill=\"#FFFFFF\" height=\"45.9375\" id=\"E11\" rx=\"10\" ry=\"10\" style=\"stroke: #383838; stroke-width: 1.5;\" width=\"43\" x=\"110.5\" y=\"148\"/><text fill=\"#000000\" font-family=\"sans-serif\" font-size=\"12\" font-style=\"italic\" lengthAdjust=\"spacingAndGlyphs\" textLength=\"41\" x=\"111.5\" y=\"164.1387\">«item»</text><text fill=\"#000000\" font-family=\"sans-serif\" font-size=\"12\" lengthAdjust=\"spacingAndGlyphs\" textLength=\"32\" x=\"114\" y=\"178.1074\">a2: A</text><line style=\"stroke: #383838; stroke-width: 1.5;\" x1=\"111.5\" x2=\"152.5\" y1=\"185.9375\" y2=\"185.9375\"/></a><!--MD5=[2720a5a1f2c3fca2055b230370638851]\n",
       "link E2 to E3--><a href=\"psysml:e70b16f9-62c0-40f3-a087-aa973c352c22\" target=\"_top\" title=\"psysml:e70b16f9-62c0-40f3-a087-aa973c352c22\" xlink:actuate=\"onRequest\" xlink:href=\"psysml:e70b16f9-62c0-40f3-a087-aa973c352c22\" xlink:show=\"new\" xlink:title=\"psysml:e70b16f9-62c0-40f3-a087-aa973c352c22\" xlink:type=\"simple\"><path d=\"M193.65,194.01 C184.14,206.81 171.89,223.3 160.82,238.2 \" fill=\"none\" id=\"E2-&gt;E3\" style=\"stroke: #383838; stroke-width: 1.0;\"/><polygon fill=\"#FFFFFF\" points=\"148.6,254.66,154.3195,235.2361,165.5543,243.5896,148.6,254.66\" style=\"stroke: #383838; stroke-width: 1.0;\"/><ellipse cx=\"159.3256\" cy=\"231.8554\" fill=\"#383838\" rx=\"2\" ry=\"2\" style=\"stroke: #383838; stroke-width: 1.0;\"/><ellipse cx=\"167.3504\" cy=\"237.8221\" fill=\"#383838\" rx=\"2\" ry=\"2\" style=\"stroke: #383838; stroke-width: 1.0;\"/></a><!--MD5=[4672eba38e49728da53d11aeb285b987]\n",
       "reverse link E3 to E4--><a href=\"psysml:f5164247-58fc-45c1-bba3-2edebb195fbd\" target=\"_top\" title=\"psysml:f5164247-58fc-45c1-bba3-2edebb195fbd\" xlink:actuate=\"onRequest\" xlink:href=\"psysml:f5164247-58fc-45c1-bba3-2edebb195fbd\" xlink:show=\"new\" xlink:title=\"psysml:f5164247-58fc-45c1-bba3-2edebb195fbd\" xlink:type=\"simple\"><path d=\"M97.11,310.9 C84.08,325.11 70.81,342.94 64,362 C55.12,386.85 58.09,417.53 61.82,437.88 \" fill=\"none\" id=\"E3&lt;-E4\" style=\"stroke: #383838; stroke-width: 1.0;\"/><polygon fill=\"#383838\" points=\"106.46,301.23,99.4153,302.7703,98.1277,309.8655,105.1724,308.3252,106.46,301.23\" style=\"stroke: #383838; stroke-width: 1.0;\"/><text fill=\"#000000\" font-family=\"sans-serif\" font-size=\"13\" lengthAdjust=\"spacingAndGlyphs\" textLength=\"8\" x=\"51.3529\" y=\"426.744\">1</text></a><!--MD5=[191cde3d490a3f6d7bb551fe3ddca469]\n",
       "reverse link E3 to E5--><a href=\"psysml:0e10322d-8096-4d1c-ad13-bcf359abd35a\" target=\"_top\" title=\"psysml:0e10322d-8096-4d1c-ad13-bcf359abd35a\" xlink:actuate=\"onRequest\" xlink:href=\"psysml:0e10322d-8096-4d1c-ad13-bcf359abd35a\" xlink:show=\"new\" xlink:title=\"psysml:0e10322d-8096-4d1c-ad13-bcf359abd35a\" xlink:type=\"simple\"><path d=\"M145.17,313.57 C151.2,329.39 158.16,347.68 163.49,361.66 \" fill=\"none\" id=\"E3&lt;-E5\" style=\"stroke: #383838; stroke-width: 1.0;\"/><polygon fill=\"#FFFFFF\" points=\"140.39,301.01,138.7866,308.0406,144.6598,312.2247,146.2631,305.1941,140.39,301.01\" style=\"stroke: #383838; stroke-width: 1.0;\"/><text fill=\"#000000\" font-family=\"sans-serif\" font-size=\"13\" lengthAdjust=\"spacingAndGlyphs\" textLength=\"8\" x=\"152.2843\" y=\"350.8492\">1</text></a><!--MD5=[79568f1e445c3877b6a54524624ccc7d]\n",
       "link E4 to E6--><a href=\"psysml:cd799d59-974c-4cd5-b2a4-5d2e853ea550\" target=\"_top\" title=\"psysml:cd799d59-974c-4cd5-b2a4-5d2e853ea550\" xlink:actuate=\"onRequest\" xlink:href=\"psysml:cd799d59-974c-4cd5-b2a4-5d2e853ea550\" xlink:show=\"new\" xlink:title=\"psysml:cd799d59-974c-4cd5-b2a4-5d2e853ea550\" xlink:type=\"simple\"><path d=\"M72.25,484.22 C77.31,504.36 85.72,534.68 96,560 C104.15,580.08 115.08,601.47 124.82,619.21 \" fill=\"none\" id=\"E4-&gt;E6\" style=\"stroke: #383838; stroke-width: 1.0;\"/><polygon fill=\"#FFFFFF\" points=\"134.72,636.8,119.2979,623.6791,131.4967,616.8097,134.72,636.8\" style=\"stroke: #383838; stroke-width: 1.0;\"/><ellipse cx=\"118.2438\" cy=\"617.7311\" fill=\"#383838\" rx=\"2\" ry=\"2\" style=\"stroke: #383838; stroke-width: 1.0;\"/><ellipse cx=\"126.9572\" cy=\"612.8244\" fill=\"#383838\" rx=\"2\" ry=\"2\" style=\"stroke: #383838; stroke-width: 1.0;\"/></a><!--MD5=[3f50a3473f1dfb74d3f76443e03635af]\n",
       "reverse link E6 to E7--><a href=\"psysml:f66c29ee-70ba-402f-a3a4-159df7b46130\" target=\"_top\" title=\"psysml:f66c29ee-70ba-402f-a3a4-159df7b46130\" xlink:actuate=\"onRequest\" xlink:href=\"psysml:f66c29ee-70ba-402f-a3a4-159df7b46130\" xlink:show=\"new\" xlink:title=\"psysml:f66c29ee-70ba-402f-a3a4-159df7b46130\" xlink:type=\"simple\"><path d=\"M158.54,695.57 C163.36,711.39 168.93,729.68 173.19,743.66 \" fill=\"none\" id=\"E6&lt;-E7\" style=\"stroke: #383838; stroke-width: 1.0;\"/><polygon fill=\"#383838\" points=\"154.71,683.01,152.6319,689.9152,158.2066,694.4893,160.2847,687.5841,154.71,683.01\" style=\"stroke: #383838; stroke-width: 1.0;\"/><text fill=\"#000000\" font-family=\"sans-serif\" font-size=\"13\" lengthAdjust=\"spacingAndGlyphs\" textLength=\"8\" x=\"162.4199\" y=\"732.8492\">1</text></a><!--MD5=[14ccda38c055a5c0da953d572bc50960]\n",
       "link E7 to E3--><a href=\"psysml:4b14459c-c0ea-47eb-ae95-5bdd156140b8\" target=\"_top\" title=\"psysml:4b14459c-c0ea-47eb-ae95-5bdd156140b8\" xlink:actuate=\"onRequest\" xlink:href=\"psysml:4b14459c-c0ea-47eb-ae95-5bdd156140b8\" xlink:show=\"new\" xlink:title=\"psysml:4b14459c-c0ea-47eb-ae95-5bdd156140b8\" xlink:type=\"simple\"><path d=\"M197.41,743.63 C211.5,723.27 229,691.78 229,661 C229,384 229,384 229,384 C229,353.7 206.93,328.42 183.85,310.26 \" fill=\"none\" id=\"E7-&gt;E3\" style=\"stroke: #383838; stroke-width: 1.0;\"/><polygon fill=\"#FFFFFF\" points=\"167.57,298.59,187.0929,303.9617,178.9414,315.3438,167.57,298.59\" style=\"stroke: #383838; stroke-width: 1.0;\"/><ellipse cx=\"190.5626\" cy=\"308.9066\" fill=\"#383838\" rx=\"2\" ry=\"2\" style=\"stroke: #383838; stroke-width: 1.0;\"/><ellipse cx=\"184.7401\" cy=\"317.0367\" fill=\"#383838\" rx=\"2\" ry=\"2\" style=\"stroke: #383838; stroke-width: 1.0;\"/></a><!--MD5=[dfaffb906826c3e5aca635516100ff21]\n",
       "link E5 to E8--><a href=\"psysml:7f99918d-ef62-497c-9b9a-668f89d0bef4\" target=\"_top\" title=\"psysml:7f99918d-ef62-497c-9b9a-668f89d0bef4\" xlink:actuate=\"onRequest\" xlink:href=\"psysml:7f99918d-ef62-497c-9b9a-668f89d0bef4\" xlink:show=\"new\" xlink:title=\"psysml:7f99918d-ef62-497c-9b9a-668f89d0bef4\" xlink:type=\"simple\"><path d=\"M168.46,408.13 C164.86,430.62 159.2,466.01 154.74,493.87 \" fill=\"none\" id=\"E5-&gt;E8\" style=\"stroke: #383838; stroke-width: 1.0;\"/><polygon fill=\"#FFFFFF\" points=\"151.56,513.78,147.6458,493.9135,161.4704,496.1226,151.56,513.78\" style=\"stroke: #383838; stroke-width: 1.0;\"/><ellipse cx=\"150.5202\" cy=\"488.6005\" fill=\"#383838\" rx=\"2\" ry=\"2\" style=\"stroke: #383838; stroke-width: 1.0;\"/><ellipse cx=\"160.3949\" cy=\"490.1784\" fill=\"#383838\" rx=\"2\" ry=\"2\" style=\"stroke: #383838; stroke-width: 1.0;\"/></a><!--MD5=[03c8294790d3c57651a1993cecff665f]\n",
       "reverse link E8 to E3--><a href=\"psysml:8abdebaf-64f0-40cf-a780-4a21932975d8\" target=\"_top\" title=\"psysml:8abdebaf-64f0-40cf-a780-4a21932975d8\" xlink:actuate=\"onRequest\" xlink:href=\"psysml:8abdebaf-64f0-40cf-a780-4a21932975d8\" xlink:show=\"new\" xlink:title=\"psysml:8abdebaf-64f0-40cf-a780-4a21932975d8\" xlink:type=\"simple\"><path d=\"M140.02,501.22 C134.57,475.6 127.84,439.84 125,408 C123.18,387.64 124.14,382.43 125,362 C125.87,341.34 127.95,317.86 129.62,301.16 \" fill=\"none\" id=\"E8&lt;-E3\" style=\"stroke: #383838; stroke-width: 1.0;\"/><polygon fill=\"#FFFFFF\" points=\"142.81,513.96,145.4388,507.2451,140.2515,502.2359,137.6227,508.9508,142.81,513.96\" style=\"stroke: #383838; stroke-width: 1.0;\"/><text fill=\"#000000\" font-family=\"sans-serif\" font-size=\"13\" lengthAdjust=\"spacingAndGlyphs\" textLength=\"7\" x=\"126\" y=\"389.5669\">y</text></a><!--MD5=[0d75d2178373a6a4568e5dc728f58aef]\n",
       "reverse link E8 to E6--><a href=\"psysml:8abdebaf-64f0-40cf-a780-4a21932975d8\" target=\"_top\" title=\"psysml:8abdebaf-64f0-40cf-a780-4a21932975d8\" xlink:actuate=\"onRequest\" xlink:href=\"psysml:8abdebaf-64f0-40cf-a780-4a21932975d8\" xlink:show=\"new\" xlink:title=\"psysml:8abdebaf-64f0-40cf-a780-4a21932975d8\" xlink:type=\"simple\"><path d=\"M148,573.22 C148,593.81 148,619.16 148,636.95 \" fill=\"none\" id=\"E8&lt;-E6\" style=\"stroke: #383838; stroke-width: 1.0;\"/><polygon fill=\"#FFFFFF\" points=\"148,560.19,144,566.19,148,572.19,152,566.19,148,560.19\" style=\"stroke: #383838; stroke-width: 1.0;\"/><text fill=\"#000000\" font-family=\"sans-serif\" font-size=\"13\" lengthAdjust=\"spacingAndGlyphs\" textLength=\"7\" x=\"149\" y=\"603.0669\">y</text></a><!--MD5=[23ac544a70576c3e717098101004234c]\n",
       "reverse link E9 to E10--><a href=\"psysml:4b97f70b-21b5-47d0-9b80-bf68f1206e68\" target=\"_top\" title=\"psysml:4b97f70b-21b5-47d0-9b80-bf68f1206e68\" xlink:actuate=\"onRequest\" xlink:href=\"psysml:4b97f70b-21b5-47d0-9b80-bf68f1206e68\" xlink:show=\"new\" xlink:title=\"psysml:4b97f70b-21b5-47d0-9b80-bf68f1206e68\" xlink:type=\"simple\"><path d=\"M84.39,99.1 C77.56,115.03 69.63,133.54 63.58,147.66 \" fill=\"none\" id=\"E9&lt;-E10\" style=\"stroke: #383838; stroke-width: 1.0;\"/><polygon fill=\"#FFFFFF\" points=\"89.57,87.01,83.5327,90.9535,84.8509,98.0431,90.8882,94.0996,89.57,87.01\" style=\"stroke: #383838; stroke-width: 1.0;\"/><text fill=\"#000000\" font-family=\"sans-serif\" font-size=\"13\" lengthAdjust=\"spacingAndGlyphs\" textLength=\"8\" x=\"57.0099\" y=\"136.8492\">1</text></a><!--MD5=[feeac5eb423634930294aa81f2d25a4c]\n",
       "link E10 to E3--><a href=\"psysml:890b43d2-a44a-4df9-b863-0c7f323950a1\" target=\"_top\" title=\"psysml:890b43d2-a44a-4df9-b863-0c7f323950a1\" xlink:actuate=\"onRequest\" xlink:href=\"psysml:890b43d2-a44a-4df9-b863-0c7f323950a1\" xlink:show=\"new\" xlink:title=\"psysml:890b43d2-a44a-4df9-b863-0c7f323950a1\" xlink:type=\"simple\"><path d=\"M70.35,194.01 C79.86,206.81 92.11,223.3 103.18,238.2 \" fill=\"none\" id=\"E10-&gt;E3\" style=\"stroke: #383838; stroke-width: 1.0;\"/><polygon fill=\"#FFFFFF\" points=\"115.4,254.66,98.4457,243.5896,109.6805,235.2361,115.4,254.66\" style=\"stroke: #383838; stroke-width: 1.0;\"/><ellipse cx=\"96.6496\" cy=\"237.8221\" fill=\"#383838\" rx=\"2\" ry=\"2\" style=\"stroke: #383838; stroke-width: 1.0;\"/><ellipse cx=\"104.6744\" cy=\"231.8554\" fill=\"#383838\" rx=\"2\" ry=\"2\" style=\"stroke: #383838; stroke-width: 1.0;\"/></a><!--MD5=[1fc04a95fd77ad5ce46c1a3027516051]\n",
       "reverse link E9 to E11--><a href=\"psysml:75cdd26f-47cf-45db-b14e-ba01ceb3edc6\" target=\"_top\" title=\"psysml:75cdd26f-47cf-45db-b14e-ba01ceb3edc6\" xlink:actuate=\"onRequest\" xlink:href=\"psysml:75cdd26f-47cf-45db-b14e-ba01ceb3edc6\" xlink:show=\"new\" xlink:title=\"psysml:75cdd26f-47cf-45db-b14e-ba01ceb3edc6\" xlink:type=\"simple\"><path d=\"M109.87,99.57 C114.84,115.39 120.59,133.68 124.98,147.66 \" fill=\"none\" id=\"E9&lt;-E11\" style=\"stroke: #383838; stroke-width: 1.0;\"/><polygon fill=\"#FFFFFF\" points=\"105.92,87.01,103.9044,93.9337,109.5203,98.4572,111.5359,91.5335,105.92,87.01\" style=\"stroke: #383838; stroke-width: 1.0;\"/><text fill=\"#000000\" font-family=\"sans-serif\" font-size=\"13\" lengthAdjust=\"spacingAndGlyphs\" textLength=\"8\" x=\"114.1561\" y=\"136.8492\">1</text></a><!--MD5=[0517f1ce58c4d5483948f93845c45e26]\n",
       "link E11 to E3--><a href=\"psysml:92dee77c-180b-445a-a05e-737a71661cde\" target=\"_top\" title=\"psysml:92dee77c-180b-445a-a05e-737a71661cde\" xlink:actuate=\"onRequest\" xlink:href=\"psysml:92dee77c-180b-445a-a05e-737a71661cde\" xlink:show=\"new\" xlink:title=\"psysml:92dee77c-180b-445a-a05e-737a71661cde\" xlink:type=\"simple\"><path d=\"M132,194.01 C132,205.69 132,220.46 132,234.28 \" fill=\"none\" id=\"E11-&gt;E3\" style=\"stroke: #383838; stroke-width: 1.0;\"/><polygon fill=\"#FFFFFF\" points=\"132,254.66,125,235.66,139,235.66,132,254.66\" style=\"stroke: #383838; stroke-width: 1.0;\"/><ellipse cx=\"127\" cy=\"229.96\" fill=\"#383838\" rx=\"2\" ry=\"2\" style=\"stroke: #383838; stroke-width: 1.0;\"/><ellipse cx=\"137\" cy=\"229.96\" fill=\"#383838\" rx=\"2\" ry=\"2\" style=\"stroke: #383838; stroke-width: 1.0;\"/></a><!--MD5=[2601ff4a431623f1f65a1c7b38a68c74]\n",
       "@startuml\r\n",
       "top to bottom direction\r\n",
       "skinparam monochrome true\r\n",
       "skinparam classbackgroundcolor white\r\n",
       "skinparam shadowing false\r\n",
       "skinparam wrapWidth 300\r\n",
       "hide circle\r\n",
       "\r\n",
       "package \"ItemTest\" as E1  [[psysml:8469bc55-64be-4e75-90cd-bb271a7bb256 ]]  {\r\n",
       "comp usage \"f: A \" as E2  <<(T,blue) item>> [[psysml:6cbf61b0-82f0-477a-9e61-503ee7ef8ab3 ]] {\r\n",
       "}\r\n",
       "comp def \"A\" as E3  <<(T,blue) item  def>> [[psysml:73e4759d-5191-4c8c-b634-f2bc1b43e3a3 ]] {\r\n",
       "}\r\n",
       "comp usage \"b: B \" as E4  <<(T,blue) item>> [[psysml:22dedc78-8a6f-47e7-a1b3-f5299f454177 ]] {\r\n",
       "}\r\n",
       "comp usage \"c: C \" as E5  <<(T,blue) part>> [[psysml:d5b518cb-4e9d-48f6-86e4-811292cf7103 ]] {\r\n",
       "}\r\n",
       "comp def \"<i>B</i>\" as E6  <<(T,blue) item  def>> [[psysml:7fb13a86-95b9-42ac-ac4a-d3cbb2045ff7 ]] {\r\n",
       "}\r\n",
       "comp usage \"<i>a</i>: A \" as E7  <<(T,blue) part>> [[psysml:b4d408e4-c35f-4021-90a0-c54c4c634ca8 ]] {\r\n",
       "}\r\n",
       "comp def \"C\" as E8  <<(T,blue) part  def>> [[psysml:53104107-4f2e-4822-81be-c90629c3152e ]] {\r\n",
       "}\r\n",
       "comp def \"P\" as E9  <<(T,blue) port  def>> [[psysml:96c92d64-4061-42f0-9733-a4ee9bfee5f1 ]] {\r\n",
       "}\r\n",
       "comp usage \"a1: A \" as E10  <<(T,blue) item>> [[psysml:21151bb4-f160-49b9-964a-222b3c2d7b6c ]] {\r\n",
       "}\r\n",
       "comp usage \"a2: A \" as E11  <<(T,blue) item>> [[psysml:048eeab4-ab84-4a9d-8dc8-2b5e8335cff3 ]] {\r\n",
       "}\r\n",
       "}\r\n",
       "E2 - -:|> E3 [[psysml:e70b16f9-62c0-40f3-a087-aa973c352c22 ]] \r\n",
       "E3 *- - \"1\"E4 [[psysml:f5164247-58fc-45c1-bba3-2edebb195fbd ]] \r\n",
       "E3 o- - \"1\"E5 [[psysml:0e10322d-8096-4d1c-ad13-bcf359abd35a ]] \r\n",
       "E4 - -:|> E6 [[psysml:cd799d59-974c-4cd5-b2a4-5d2e853ea550 ]] \r\n",
       "E6 *- - \"1\"E7 [[psysml:f66c29ee-70ba-402f-a3a4-159df7b46130 ]] \r\n",
       "E7 - -:|> E3 [[psysml:4b14459c-c0ea-47eb-ae95-5bdd156140b8 ]] \r\n",
       "E5 - -:|> E8 [[psysml:7f99918d-ef62-497c-9b9a-668f89d0bef4 ]] \r\n",
       "E8 o- - E3 [[psysml:8abdebaf-64f0-40cf-a780-4a21932975d8 ]] : y\r\n",
       "E8 o- - E6 [[psysml:8abdebaf-64f0-40cf-a780-4a21932975d8 ]] : y\r\n",
       "E9 o- - \"1\"E10 [[psysml:4b97f70b-21b5-47d0-9b80-bf68f1206e68 ]] \r\n",
       "E10 - -:|> E3 [[psysml:890b43d2-a44a-4df9-b863-0c7f323950a1 ]] \r\n",
       "E9 o- - \"1\"E11 [[psysml:75cdd26f-47cf-45db-b14e-ba01ceb3edc6 ]] \r\n",
       "E11 - -:|> E3 [[psysml:92dee77c-180b-445a-a05e-737a71661cde ]] \r\n",
       "@enduml\r\n",
       "\n",
       "PlantUML version 1.2020.13(Sat Jun 13 12:26:38 UTC 2020)\n",
       "(EPL source distribution)\n",
       "Java Runtime: OpenJDK Runtime Environment\n",
       "JVM: OpenJDK 64-Bit Server VM\n",
       "Default Encoding: UTF-8\n",
       "Language: en\n",
       "Country: null\n",
       "--></g></svg>"
      ]
     },
     "execution_count": 45,
     "metadata": {},
     "output_type": "execute_result"
    }
   ],
   "source": [
    "%viz --style=\"TB\" --view=\"Tree\" \"ItemTest\""
   ]
  },
  {
   "cell_type": "code",
   "execution_count": 46,
   "id": "d188a57e",
   "metadata": {
    "execution": {
     "iopub.execute_input": "2022-03-21T07:49:12.288356Z",
     "iopub.status.busy": "2022-03-21T07:49:12.287957Z",
     "iopub.status.idle": "2022-03-21T07:49:12.292289Z",
     "shell.execute_reply": "2022-03-21T07:49:12.292601Z"
    }
   },
   "outputs": [
    {
     "data": {
      "image/svg+xml": [
       "<?xml version=\"1.0\" encoding=\"UTF-8\" standalone=\"no\"?><svg xmlns=\"http://www.w3.org/2000/svg\" xmlns:xlink=\"http://www.w3.org/1999/xlink\" contentScriptType=\"application/ecmascript\" contentStyleType=\"text/css\" height=\"12px\" preserveAspectRatio=\"none\" style=\"width:12px;height:12px;\" version=\"1.1\" viewBox=\"0 0 12 12\" width=\"12px\" zoomAndPan=\"magnify\"><defs/><g><!--MD5=[f4ee21bc66e489b5061b7c3e9601fdef]\n",
       "@startuml\r\n",
       "top to bottom direction\r\n",
       "skinparam monochrome true\r\n",
       "skinparam classbackgroundcolor white\r\n",
       "skinparam shadowing false\r\n",
       "skinparam wrapWidth 300\r\n",
       "hide circle\r\n",
       "\r\n",
       "@enduml\r\n",
       "\n",
       "PlantUML version 1.2020.13(Sat Jun 13 12:26:38 UTC 2020)\n",
       "(EPL source distribution)\n",
       "Java Runtime: OpenJDK Runtime Environment\n",
       "JVM: OpenJDK 64-Bit Server VM\n",
       "Default Encoding: UTF-8\n",
       "Language: en\n",
       "Country: null\n",
       "--></g></svg>"
      ]
     },
     "execution_count": 46,
     "metadata": {},
     "output_type": "execute_result"
    }
   ],
   "source": [
    "%viz --style=\"TB\" --view=\"State\" \"ItemTest\""
   ]
  },
  {
   "cell_type": "code",
   "execution_count": 47,
   "id": "ff177f48",
   "metadata": {
    "execution": {
     "iopub.execute_input": "2022-03-21T07:49:12.342601Z",
     "iopub.status.busy": "2022-03-21T07:49:12.342207Z",
     "iopub.status.idle": "2022-03-21T07:49:12.369301Z",
     "shell.execute_reply": "2022-03-21T07:49:12.368955Z"
    }
   },
   "outputs": [
    {
     "data": {
      "image/svg+xml": [
       "<?xml version=\"1.0\" encoding=\"UTF-8\" standalone=\"no\"?><svg xmlns=\"http://www.w3.org/2000/svg\" xmlns:xlink=\"http://www.w3.org/1999/xlink\" contentScriptType=\"application/ecmascript\" contentStyleType=\"text/css\" height=\"112px\" preserveAspectRatio=\"none\" style=\"width:563px;height:112px;\" version=\"1.1\" viewBox=\"0 0 563 112\" width=\"563px\" zoomAndPan=\"magnify\"><defs/><g><!--MD5=[fbc87193dbaf4d95561dea2c320d4a47]\n",
       "cluster E1--><a href=\"psysml:8469bc55-64be-4e75-90cd-bb271a7bb256\" target=\"_top\" title=\"psysml:8469bc55-64be-4e75-90cd-bb271a7bb256\" xlink:actuate=\"onRequest\" xlink:href=\"psysml:8469bc55-64be-4e75-90cd-bb271a7bb256\" xlink:show=\"new\" xlink:title=\"psysml:8469bc55-64be-4e75-90cd-bb271a7bb256\" xlink:type=\"simple\"><polygon fill=\"#FFFFFF\" points=\"16,6,83,6,90,28.2969,541,28.2969,541,100,16,100,16,6\" style=\"stroke: #000000; stroke-width: 1.5;\"/><line style=\"stroke: #000000; stroke-width: 1.5;\" x1=\"16\" x2=\"90\" y1=\"28.2969\" y2=\"28.2969\"/><text fill=\"#000000\" font-family=\"sans-serif\" font-size=\"14\" font-weight=\"bold\" lengthAdjust=\"spacingAndGlyphs\" textLength=\"61\" x=\"20\" y=\"20.9951\">ItemTest</text></a><g id=\"E1.E3\"><a href=\"psysml:73e4759d-5191-4c8c-b634-f2bc1b43e3a3\" target=\"_top\" title=\"psysml:73e4759d-5191-4c8c-b634-f2bc1b43e3a3\" xlink:actuate=\"onRequest\" xlink:href=\"psysml:73e4759d-5191-4c8c-b634-f2bc1b43e3a3\" xlink:show=\"new\" xlink:title=\"psysml:73e4759d-5191-4c8c-b634-f2bc1b43e3a3\" xlink:type=\"simple\"><rect fill=\"#FFFFFF\" height=\"42.9375\" id=\"E3\" style=\"stroke: #383838; stroke-width: 1.5;\" width=\"76\" x=\"449\" y=\"41\"/><rect fill=\"#F8F8F8\" height=\"37.9375\" style=\"stroke: #383838; stroke-width: 1.5;\" width=\"76\" x=\"449\" y=\"41\"/><text fill=\"#000000\" font-family=\"sans-serif\" font-size=\"12\" font-style=\"italic\" lengthAdjust=\"spacingAndGlyphs\" textLength=\"69\" x=\"452.5\" y=\"57.1387\">«item  def»</text><text fill=\"#000000\" font-family=\"sans-serif\" font-size=\"12\" lengthAdjust=\"spacingAndGlyphs\" textLength=\"8\" x=\"483\" y=\"71.1074\">A</text></a></g><g id=\"E1.E4\"><a href=\"psysml:7fb13a86-95b9-42ac-ac4a-d3cbb2045ff7\" target=\"_top\" title=\"psysml:7fb13a86-95b9-42ac-ac4a-d3cbb2045ff7\" xlink:actuate=\"onRequest\" xlink:href=\"psysml:7fb13a86-95b9-42ac-ac4a-d3cbb2045ff7\" xlink:show=\"new\" xlink:title=\"psysml:7fb13a86-95b9-42ac-ac4a-d3cbb2045ff7\" xlink:type=\"simple\"><rect fill=\"#FFFFFF\" height=\"42.9375\" id=\"E4\" style=\"stroke: #383838; stroke-width: 1.5;\" width=\"76\" x=\"338\" y=\"41\"/><rect fill=\"#F8F8F8\" height=\"37.9375\" style=\"stroke: #383838; stroke-width: 1.5;\" width=\"76\" x=\"338\" y=\"41\"/><text fill=\"#000000\" font-family=\"sans-serif\" font-size=\"12\" font-style=\"italic\" lengthAdjust=\"spacingAndGlyphs\" textLength=\"69\" x=\"341.5\" y=\"57.1387\">«item  def»</text><text fill=\"#000000\" font-family=\"sans-serif\" font-size=\"12\" font-style=\"italic\" lengthAdjust=\"spacingAndGlyphs\" textLength=\"8\" x=\"372\" y=\"71.1074\">B</text></a></g><g id=\"E1.E6\"><a href=\"psysml:96c92d64-4061-42f0-9733-a4ee9bfee5f1\" target=\"_top\" title=\"psysml:96c92d64-4061-42f0-9733-a4ee9bfee5f1\" xlink:actuate=\"onRequest\" xlink:href=\"psysml:96c92d64-4061-42f0-9733-a4ee9bfee5f1\" xlink:show=\"new\" xlink:title=\"psysml:96c92d64-4061-42f0-9733-a4ee9bfee5f1\" xlink:type=\"simple\"><rect fill=\"#FFFFFF\" height=\"42.9375\" id=\"E6\" style=\"stroke: #383838; stroke-width: 1.5;\" width=\"75\" x=\"227.5\" y=\"41\"/><rect fill=\"#F8F8F8\" height=\"37.9375\" style=\"stroke: #383838; stroke-width: 1.5;\" width=\"75\" x=\"227.5\" y=\"41\"/><text fill=\"#000000\" font-family=\"sans-serif\" font-size=\"12\" font-style=\"italic\" lengthAdjust=\"spacingAndGlyphs\" textLength=\"68\" x=\"231\" y=\"57.1387\">«port  def»</text><text fill=\"#000000\" font-family=\"sans-serif\" font-size=\"12\" lengthAdjust=\"spacingAndGlyphs\" textLength=\"8\" x=\"261\" y=\"71.1074\">P</text></a></g><g id=\"E1.E2\"><a href=\"psysml:6cbf61b0-82f0-477a-9e61-503ee7ef8ab3\" target=\"_top\" title=\"psysml:6cbf61b0-82f0-477a-9e61-503ee7ef8ab3\" xlink:actuate=\"onRequest\" xlink:href=\"psysml:6cbf61b0-82f0-477a-9e61-503ee7ef8ab3\" xlink:show=\"new\" xlink:title=\"psysml:6cbf61b0-82f0-477a-9e61-503ee7ef8ab3\" xlink:type=\"simple\"><rect fill=\"#FFFFFF\" height=\"42.9375\" id=\"E2\" rx=\"10\" ry=\"10\" style=\"stroke: #383838; stroke-width: 1.5;\" width=\"50\" x=\"142\" y=\"41\"/><rect fill=\"#F8F8F8\" height=\"37.9375\" rx=\"10\" ry=\"10\" style=\"stroke: #F8F8F8; stroke-width: 1.5;\" width=\"50\" x=\"142\" y=\"41\"/><rect fill=\"#F8F8F8\" height=\"10\" style=\"stroke: #F8F8F8; stroke-width: 1.5;\" width=\"50\" x=\"142\" y=\"68.9375\"/><rect fill=\"none\" height=\"42.9375\" id=\"E2\" rx=\"10\" ry=\"10\" style=\"stroke: #383838; stroke-width: 1.5;\" width=\"50\" x=\"142\" y=\"41\"/><text fill=\"#000000\" font-family=\"sans-serif\" font-size=\"12\" font-style=\"italic\" lengthAdjust=\"spacingAndGlyphs\" textLength=\"41\" x=\"146.5\" y=\"57.1387\">«item»</text><text fill=\"#000000\" font-family=\"sans-serif\" font-size=\"12\" lengthAdjust=\"spacingAndGlyphs\" textLength=\"20\" x=\"157\" y=\"71.1074\">f: A</text></a></g><g id=\"E1.E5\"><a href=\"psysml:53104107-4f2e-4822-81be-c90629c3152e\" target=\"_top\" title=\"psysml:53104107-4f2e-4822-81be-c90629c3152e\" xlink:actuate=\"onRequest\" xlink:href=\"psysml:53104107-4f2e-4822-81be-c90629c3152e\" xlink:show=\"new\" xlink:title=\"psysml:53104107-4f2e-4822-81be-c90629c3152e\" xlink:type=\"simple\"><rect fill=\"#FFFFFF\" height=\"42.9375\" id=\"E5\" style=\"stroke: #383838; stroke-width: 1.5;\" width=\"75\" x=\"31.5\" y=\"41\"/><rect fill=\"#F8F8F8\" height=\"37.9375\" style=\"stroke: #383838; stroke-width: 1.5;\" width=\"75\" x=\"31.5\" y=\"41\"/><text fill=\"#000000\" font-family=\"sans-serif\" font-size=\"12\" font-style=\"italic\" lengthAdjust=\"spacingAndGlyphs\" textLength=\"68\" x=\"35\" y=\"57.1387\">«part  def»</text><text fill=\"#000000\" font-family=\"sans-serif\" font-size=\"12\" lengthAdjust=\"spacingAndGlyphs\" textLength=\"8\" x=\"65\" y=\"71.1074\">C</text></a></g><!--MD5=[3e951fdfd9c8064eda5d56777d7e2a54]\n",
       "@startuml\r\n",
       "skinparam ranksep 10\r\n",
       "skinparam rectangle {\r\n",
       " backgroundColor<<block>> LightGreen\r\n",
       "}\r\n",
       "top to bottom direction\r\n",
       "skinparam monochrome true\r\n",
       "skinparam classbackgroundcolor white\r\n",
       "skinparam shadowing false\r\n",
       "skinparam wrapWidth 300\r\n",
       "hide circle\r\n",
       "\r\n",
       "package \"ItemTest\" as E1  [[psysml:8469bc55-64be-4e75-90cd-bb271a7bb256 ]]  {\r\n",
       "rec usage \"f: A\" as E2  <<(T,blue) item>> [[psysml:6cbf61b0-82f0-477a-9e61-503ee7ef8ab3 ]] {\r\n",
       "}\r\n",
       "def \"A\" as E3  <<(T,blue) item  def>> [[psysml:73e4759d-5191-4c8c-b634-f2bc1b43e3a3 ]] \r\n",
       "def \"<i>B</i>\" as E4  <<(T,blue) item  def>> [[psysml:7fb13a86-95b9-42ac-ac4a-d3cbb2045ff7 ]] \r\n",
       "rec def \"C\" as E5  <<(T,blue) part  def>> [[psysml:53104107-4f2e-4822-81be-c90629c3152e ]] {\r\n",
       "}\r\n",
       "def \"P\" as E6  <<(T,blue) port  def>> [[psysml:96c92d64-4061-42f0-9733-a4ee9bfee5f1 ]] \r\n",
       "}\r\n",
       "@enduml\r\n",
       "\n",
       "PlantUML version 1.2020.13(Sat Jun 13 12:26:38 UTC 2020)\n",
       "(EPL source distribution)\n",
       "Java Runtime: OpenJDK Runtime Environment\n",
       "JVM: OpenJDK 64-Bit Server VM\n",
       "Default Encoding: UTF-8\n",
       "Language: en\n",
       "Country: null\n",
       "--></g></svg>"
      ]
     },
     "execution_count": 47,
     "metadata": {},
     "output_type": "execute_result"
    }
   ],
   "source": [
    "%viz --style=\"TB\" --view=\"Interconnection\" \"ItemTest\""
   ]
  },
  {
   "cell_type": "code",
   "execution_count": 48,
   "id": "04c38a84",
   "metadata": {
    "execution": {
     "iopub.execute_input": "2022-03-21T07:49:12.419213Z",
     "iopub.status.busy": "2022-03-21T07:49:12.418798Z",
     "iopub.status.idle": "2022-03-21T07:49:12.423648Z",
     "shell.execute_reply": "2022-03-21T07:49:12.423955Z"
    }
   },
   "outputs": [
    {
     "data": {
      "image/svg+xml": [
       "<?xml version=\"1.0\" encoding=\"UTF-8\" standalone=\"no\"?><svg xmlns=\"http://www.w3.org/2000/svg\" xmlns:xlink=\"http://www.w3.org/1999/xlink\" contentScriptType=\"application/ecmascript\" contentStyleType=\"text/css\" height=\"12px\" preserveAspectRatio=\"none\" style=\"width:12px;height:12px;\" version=\"1.1\" viewBox=\"0 0 12 12\" width=\"12px\" zoomAndPan=\"magnify\"><defs/><g><!--MD5=[06afc254b03ac5e9d9fb7773b07d0800]\n",
       "@startuml\r\n",
       "skinparam ranksep 8\r\n",
       "top to bottom direction\r\n",
       "skinparam monochrome true\r\n",
       "skinparam classbackgroundcolor white\r\n",
       "skinparam shadowing false\r\n",
       "skinparam wrapWidth 300\r\n",
       "hide circle\r\n",
       "\r\n",
       "@enduml\r\n",
       "\n",
       "PlantUML version 1.2020.13(Sat Jun 13 12:26:38 UTC 2020)\n",
       "(EPL source distribution)\n",
       "Java Runtime: OpenJDK Runtime Environment\n",
       "JVM: OpenJDK 64-Bit Server VM\n",
       "Default Encoding: UTF-8\n",
       "Language: en\n",
       "Country: null\n",
       "--></g></svg>"
      ]
     },
     "execution_count": 48,
     "metadata": {},
     "output_type": "execute_result"
    }
   ],
   "source": [
    "%viz --style=\"TB\" --view=\"Action\" \"ItemTest\""
   ]
  },
  {
   "cell_type": "code",
   "execution_count": 49,
   "id": "fcc149f5",
   "metadata": {
    "execution": {
     "iopub.execute_input": "2022-03-21T07:49:12.474287Z",
     "iopub.status.busy": "2022-03-21T07:49:12.473969Z",
     "iopub.status.idle": "2022-03-21T07:49:12.478608Z",
     "shell.execute_reply": "2022-03-21T07:49:12.478833Z"
    }
   },
   "outputs": [
    {
     "data": {
      "image/svg+xml": [
       "<?xml version=\"1.0\" encoding=\"UTF-8\" standalone=\"no\"?><svg xmlns=\"http://www.w3.org/2000/svg\" xmlns:xlink=\"http://www.w3.org/1999/xlink\" contentScriptType=\"application/ecmascript\" contentStyleType=\"text/css\" height=\"12px\" preserveAspectRatio=\"none\" style=\"width:12px;height:12px;\" version=\"1.1\" viewBox=\"0 0 12 12\" width=\"12px\" zoomAndPan=\"magnify\"><defs/><g><!--MD5=[e1ab0c84c44d2fef8bf5f140f2689906]\n",
       "@startuml\r\n",
       "skinparam roundcorner 20\r\n",
       "skinparam BoxPadding 20\r\n",
       "skinparam SequenceBoxBackgroundColor #white\r\n",
       "skinparam style strictuml\r\n",
       "skinparam maxMessageSize 100\r\n",
       "top to bottom direction\r\n",
       "skinparam monochrome true\r\n",
       "skinparam classbackgroundcolor white\r\n",
       "skinparam shadowing false\r\n",
       "skinparam wrapWidth 300\r\n",
       "hide circle\r\n",
       "\r\n",
       "@enduml\r\n",
       "\n",
       "PlantUML version 1.2020.13(Sat Jun 13 12:26:38 UTC 2020)\n",
       "(EPL source distribution)\n",
       "Java Runtime: OpenJDK Runtime Environment\n",
       "JVM: OpenJDK 64-Bit Server VM\n",
       "Default Encoding: UTF-8\n",
       "Language: en\n",
       "Country: null\n",
       "--></g></svg>"
      ]
     },
     "execution_count": 49,
     "metadata": {},
     "output_type": "execute_result"
    }
   ],
   "source": [
    "%viz --style=\"TB\" --view=\"Sequence\" \"ItemTest\""
   ]
  },
  {
   "cell_type": "code",
   "execution_count": 50,
   "id": "173b2ace",
   "metadata": {
    "execution": {
     "iopub.execute_input": "2022-03-21T07:49:12.529096Z",
     "iopub.status.busy": "2022-03-21T07:49:12.528840Z",
     "iopub.status.idle": "2022-03-21T07:49:12.573659Z",
     "shell.execute_reply": "2022-03-21T07:49:12.572890Z"
    }
   },
   "outputs": [
    {
     "data": {
      "image/svg+xml": [
       "<?xml version=\"1.0\" encoding=\"UTF-8\" standalone=\"no\"?><svg xmlns=\"http://www.w3.org/2000/svg\" xmlns:xlink=\"http://www.w3.org/1999/xlink\" contentScriptType=\"application/ecmascript\" contentStyleType=\"text/css\" height=\"818px\" preserveAspectRatio=\"none\" style=\"width:270px;height:818px;\" version=\"1.1\" viewBox=\"0 0 270 818\" width=\"270px\" zoomAndPan=\"magnify\"><defs/><g><!--MD5=[fbc87193dbaf4d95561dea2c320d4a47]\n",
       "cluster E1--><a href=\"psysml:8469bc55-64be-4e75-90cd-bb271a7bb256\" target=\"_top\" title=\"psysml:8469bc55-64be-4e75-90cd-bb271a7bb256\" xlink:actuate=\"onRequest\" xlink:href=\"psysml:8469bc55-64be-4e75-90cd-bb271a7bb256\" xlink:show=\"new\" xlink:title=\"psysml:8469bc55-64be-4e75-90cd-bb271a7bb256\" xlink:type=\"simple\"><polygon fill=\"#FFFFFF\" points=\"16,6,83,6,90,28.2969,248,28.2969,248,806,16,806,16,6\" style=\"stroke: #000000; stroke-width: 1.5;\"/><line style=\"stroke: #000000; stroke-width: 1.5;\" x1=\"16\" x2=\"90\" y1=\"28.2969\" y2=\"28.2969\"/><text fill=\"#000000\" font-family=\"sans-serif\" font-size=\"14\" font-weight=\"bold\" lengthAdjust=\"spacingAndGlyphs\" textLength=\"61\" x=\"20\" y=\"20.9951\">ItemTest</text></a><!--MD5=[b4997ac47864f28c2f74865a473b2911]\n",
       "class E2--><a href=\"psysml:6cbf61b0-82f0-477a-9e61-503ee7ef8ab3\" target=\"_top\" title=\"psysml:6cbf61b0-82f0-477a-9e61-503ee7ef8ab3\" xlink:actuate=\"onRequest\" xlink:href=\"psysml:6cbf61b0-82f0-477a-9e61-503ee7ef8ab3\" xlink:show=\"new\" xlink:title=\"psysml:6cbf61b0-82f0-477a-9e61-503ee7ef8ab3\" xlink:type=\"simple\"><rect fill=\"#FFFFFF\" height=\"45.9375\" id=\"E2\" rx=\"10\" ry=\"10\" style=\"stroke: #383838; stroke-width: 1.5;\" width=\"43\" x=\"188.5\" y=\"148\"/><text fill=\"#000000\" font-family=\"sans-serif\" font-size=\"12\" font-style=\"italic\" lengthAdjust=\"spacingAndGlyphs\" textLength=\"41\" x=\"189.5\" y=\"164.1387\">«item»</text><text fill=\"#000000\" font-family=\"sans-serif\" font-size=\"12\" lengthAdjust=\"spacingAndGlyphs\" textLength=\"20\" x=\"198\" y=\"178.1074\">f: A</text><line style=\"stroke: #383838; stroke-width: 1.5;\" x1=\"189.5\" x2=\"230.5\" y1=\"185.9375\" y2=\"185.9375\"/></a><!--MD5=[09b614a08d8cba4a07c9adeb5e0fee81]\n",
       "class E3--><a href=\"psysml:73e4759d-5191-4c8c-b634-f2bc1b43e3a3\" target=\"_top\" title=\"psysml:73e4759d-5191-4c8c-b634-f2bc1b43e3a3\" xlink:actuate=\"onRequest\" xlink:href=\"psysml:73e4759d-5191-4c8c-b634-f2bc1b43e3a3\" xlink:show=\"new\" xlink:title=\"psysml:73e4759d-5191-4c8c-b634-f2bc1b43e3a3\" xlink:type=\"simple\"><rect fill=\"#FFFFFF\" height=\"45.9375\" id=\"E3\" style=\"stroke: #383838; stroke-width: 1.5;\" width=\"71\" x=\"96.5\" y=\"255\"/><text fill=\"#000000\" font-family=\"sans-serif\" font-size=\"12\" font-style=\"italic\" lengthAdjust=\"spacingAndGlyphs\" textLength=\"69\" x=\"97.5\" y=\"271.1387\">«item  def»</text><text fill=\"#000000\" font-family=\"sans-serif\" font-size=\"12\" lengthAdjust=\"spacingAndGlyphs\" textLength=\"8\" x=\"128\" y=\"285.1074\">A</text><line style=\"stroke: #383838; stroke-width: 1.5;\" x1=\"97.5\" x2=\"166.5\" y1=\"292.9375\" y2=\"292.9375\"/></a><!--MD5=[ebbe1d658d1005bcc118a6aa81145e00]\n",
       "class E4--><a href=\"psysml:22dedc78-8a6f-47e7-a1b3-f5299f454177\" target=\"_top\" title=\"psysml:22dedc78-8a6f-47e7-a1b3-f5299f454177\" xlink:actuate=\"onRequest\" xlink:href=\"psysml:22dedc78-8a6f-47e7-a1b3-f5299f454177\" xlink:show=\"new\" xlink:title=\"psysml:22dedc78-8a6f-47e7-a1b3-f5299f454177\" xlink:type=\"simple\"><rect fill=\"#FFFFFF\" height=\"45.9375\" id=\"E4\" rx=\"10\" ry=\"10\" style=\"stroke: #383838; stroke-width: 1.5;\" width=\"43\" x=\"45.5\" y=\"438\"/><text fill=\"#000000\" font-family=\"sans-serif\" font-size=\"12\" font-style=\"italic\" lengthAdjust=\"spacingAndGlyphs\" textLength=\"41\" x=\"46.5\" y=\"454.1387\">«item»</text><text fill=\"#000000\" font-family=\"sans-serif\" font-size=\"12\" lengthAdjust=\"spacingAndGlyphs\" textLength=\"24\" x=\"53\" y=\"468.1074\">b: B</text><line style=\"stroke: #383838; stroke-width: 1.5;\" x1=\"46.5\" x2=\"87.5\" y1=\"475.9375\" y2=\"475.9375\"/></a><!--MD5=[270fce915f116d4de14055a7c1d9a0f3]\n",
       "class E5--><a href=\"psysml:d5b518cb-4e9d-48f6-86e4-811292cf7103\" target=\"_top\" title=\"psysml:d5b518cb-4e9d-48f6-86e4-811292cf7103\" xlink:actuate=\"onRequest\" xlink:href=\"psysml:d5b518cb-4e9d-48f6-86e4-811292cf7103\" xlink:show=\"new\" xlink:title=\"psysml:d5b518cb-4e9d-48f6-86e4-811292cf7103\" xlink:type=\"simple\"><rect fill=\"#FFFFFF\" height=\"45.9375\" id=\"E5\" rx=\"10\" ry=\"10\" style=\"stroke: #383838; stroke-width: 1.5;\" width=\"42\" x=\"151\" y=\"362\"/><text fill=\"#000000\" font-family=\"sans-serif\" font-size=\"12\" font-style=\"italic\" lengthAdjust=\"spacingAndGlyphs\" textLength=\"40\" x=\"152\" y=\"378.1387\">«part»</text><text fill=\"#000000\" font-family=\"sans-serif\" font-size=\"12\" lengthAdjust=\"spacingAndGlyphs\" textLength=\"23\" x=\"158.5\" y=\"392.1074\">c: C</text><line style=\"stroke: #383838; stroke-width: 1.5;\" x1=\"152\" x2=\"192\" y1=\"399.9375\" y2=\"399.9375\"/></a><!--MD5=[60a26617385b1d2d0262a64233df1f8d]\n",
       "class E6--><a href=\"psysml:7fb13a86-95b9-42ac-ac4a-d3cbb2045ff7\" target=\"_top\" title=\"psysml:7fb13a86-95b9-42ac-ac4a-d3cbb2045ff7\" xlink:actuate=\"onRequest\" xlink:href=\"psysml:7fb13a86-95b9-42ac-ac4a-d3cbb2045ff7\" xlink:show=\"new\" xlink:title=\"psysml:7fb13a86-95b9-42ac-ac4a-d3cbb2045ff7\" xlink:type=\"simple\"><rect fill=\"#FFFFFF\" height=\"45.9375\" id=\"E6\" style=\"stroke: #383838; stroke-width: 1.5;\" width=\"71\" x=\"112.5\" y=\"637\"/><text fill=\"#000000\" font-family=\"sans-serif\" font-size=\"12\" font-style=\"italic\" lengthAdjust=\"spacingAndGlyphs\" textLength=\"69\" x=\"113.5\" y=\"653.1387\">«item  def»</text><text fill=\"#000000\" font-family=\"sans-serif\" font-size=\"12\" font-style=\"italic\" lengthAdjust=\"spacingAndGlyphs\" textLength=\"8\" x=\"144\" y=\"667.1074\">B</text><line style=\"stroke: #383838; stroke-width: 1.5;\" x1=\"113.5\" x2=\"182.5\" y1=\"674.9375\" y2=\"674.9375\"/></a><!--MD5=[2156ba9850f5573cc1fc38a6a4b2f02b]\n",
       "class E7--><a href=\"psysml:b4d408e4-c35f-4021-90a0-c54c4c634ca8\" target=\"_top\" title=\"psysml:b4d408e4-c35f-4021-90a0-c54c4c634ca8\" xlink:actuate=\"onRequest\" xlink:href=\"psysml:b4d408e4-c35f-4021-90a0-c54c4c634ca8\" xlink:show=\"new\" xlink:title=\"psysml:b4d408e4-c35f-4021-90a0-c54c4c634ca8\" xlink:type=\"simple\"><rect fill=\"#FFFFFF\" height=\"45.9375\" id=\"E7\" rx=\"10\" ry=\"10\" style=\"stroke: #383838; stroke-width: 1.5;\" width=\"42\" x=\"159\" y=\"744\"/><text fill=\"#000000\" font-family=\"sans-serif\" font-size=\"12\" font-style=\"italic\" lengthAdjust=\"spacingAndGlyphs\" textLength=\"40\" x=\"160\" y=\"760.1387\">«part»</text><text fill=\"#000000\" font-family=\"sans-serif\" font-size=\"12\" font-style=\"italic\" lengthAdjust=\"spacingAndGlyphs\" textLength=\"8\" x=\"166\" y=\"774.1074\">a</text><text fill=\"#000000\" font-family=\"sans-serif\" font-size=\"12\" lengthAdjust=\"spacingAndGlyphs\" textLength=\"16\" x=\"174\" y=\"774.1074\">: A</text><line style=\"stroke: #383838; stroke-width: 1.5;\" x1=\"160\" x2=\"200\" y1=\"781.9375\" y2=\"781.9375\"/></a><!--MD5=[b9389687b975829384b498ac4b7476b2]\n",
       "class E8--><a href=\"psysml:53104107-4f2e-4822-81be-c90629c3152e\" target=\"_top\" title=\"psysml:53104107-4f2e-4822-81be-c90629c3152e\" xlink:actuate=\"onRequest\" xlink:href=\"psysml:53104107-4f2e-4822-81be-c90629c3152e\" xlink:show=\"new\" xlink:title=\"psysml:53104107-4f2e-4822-81be-c90629c3152e\" xlink:type=\"simple\"><rect fill=\"#FFFFFF\" height=\"45.9375\" id=\"E8\" style=\"stroke: #383838; stroke-width: 1.5;\" width=\"70\" x=\"113\" y=\"514\"/><text fill=\"#000000\" font-family=\"sans-serif\" font-size=\"12\" font-style=\"italic\" lengthAdjust=\"spacingAndGlyphs\" textLength=\"68\" x=\"114\" y=\"530.1387\">«part  def»</text><text fill=\"#000000\" font-family=\"sans-serif\" font-size=\"12\" lengthAdjust=\"spacingAndGlyphs\" textLength=\"8\" x=\"144\" y=\"544.1074\">C</text><line style=\"stroke: #383838; stroke-width: 1.5;\" x1=\"114\" x2=\"182\" y1=\"551.9375\" y2=\"551.9375\"/></a><!--MD5=[fd4143e9d270a159db93a4ea2a975926]\n",
       "class E9--><a href=\"psysml:96c92d64-4061-42f0-9733-a4ee9bfee5f1\" target=\"_top\" title=\"psysml:96c92d64-4061-42f0-9733-a4ee9bfee5f1\" xlink:actuate=\"onRequest\" xlink:href=\"psysml:96c92d64-4061-42f0-9733-a4ee9bfee5f1\" xlink:show=\"new\" xlink:title=\"psysml:96c92d64-4061-42f0-9733-a4ee9bfee5f1\" xlink:type=\"simple\"><rect fill=\"#FFFFFF\" height=\"45.9375\" id=\"E9\" style=\"stroke: #383838; stroke-width: 1.5;\" width=\"70\" x=\"64\" y=\"41\"/><text fill=\"#000000\" font-family=\"sans-serif\" font-size=\"12\" font-style=\"italic\" lengthAdjust=\"spacingAndGlyphs\" textLength=\"68\" x=\"65\" y=\"57.1387\">«port  def»</text><text fill=\"#000000\" font-family=\"sans-serif\" font-size=\"12\" lengthAdjust=\"spacingAndGlyphs\" textLength=\"8\" x=\"95\" y=\"71.1074\">P</text><line style=\"stroke: #383838; stroke-width: 1.5;\" x1=\"65\" x2=\"133\" y1=\"78.9375\" y2=\"78.9375\"/></a><!--MD5=[96f4274e9e20536e775497830990834d]\n",
       "class E10--><a href=\"psysml:21151bb4-f160-49b9-964a-222b3c2d7b6c\" target=\"_top\" title=\"psysml:21151bb4-f160-49b9-964a-222b3c2d7b6c\" xlink:actuate=\"onRequest\" xlink:href=\"psysml:21151bb4-f160-49b9-964a-222b3c2d7b6c\" xlink:show=\"new\" xlink:title=\"psysml:21151bb4-f160-49b9-964a-222b3c2d7b6c\" xlink:type=\"simple\"><rect fill=\"#FFFFFF\" height=\"45.9375\" id=\"E10\" rx=\"10\" ry=\"10\" style=\"stroke: #383838; stroke-width: 1.5;\" width=\"43\" x=\"32.5\" y=\"148\"/><text fill=\"#000000\" font-family=\"sans-serif\" font-size=\"12\" font-style=\"italic\" lengthAdjust=\"spacingAndGlyphs\" textLength=\"41\" x=\"33.5\" y=\"164.1387\">«item»</text><text fill=\"#000000\" font-family=\"sans-serif\" font-size=\"12\" lengthAdjust=\"spacingAndGlyphs\" textLength=\"32\" x=\"36\" y=\"178.1074\">a1: A</text><line style=\"stroke: #383838; stroke-width: 1.5;\" x1=\"33.5\" x2=\"74.5\" y1=\"185.9375\" y2=\"185.9375\"/></a><!--MD5=[1dd1bfd58a279cf63c5f349dbc8fc6a1]\n",
       "class E11--><a href=\"psysml:048eeab4-ab84-4a9d-8dc8-2b5e8335cff3\" target=\"_top\" title=\"psysml:048eeab4-ab84-4a9d-8dc8-2b5e8335cff3\" xlink:actuate=\"onRequest\" xlink:href=\"psysml:048eeab4-ab84-4a9d-8dc8-2b5e8335cff3\" xlink:show=\"new\" xlink:title=\"psysml:048eeab4-ab84-4a9d-8dc8-2b5e8335cff3\" xlink:type=\"simple\"><rect fill=\"#FFFFFF\" height=\"45.9375\" id=\"E11\" rx=\"10\" ry=\"10\" style=\"stroke: #383838; stroke-width: 1.5;\" width=\"43\" x=\"110.5\" y=\"148\"/><text fill=\"#000000\" font-family=\"sans-serif\" font-size=\"12\" font-style=\"italic\" lengthAdjust=\"spacingAndGlyphs\" textLength=\"41\" x=\"111.5\" y=\"164.1387\">«item»</text><text fill=\"#000000\" font-family=\"sans-serif\" font-size=\"12\" lengthAdjust=\"spacingAndGlyphs\" textLength=\"32\" x=\"114\" y=\"178.1074\">a2: A</text><line style=\"stroke: #383838; stroke-width: 1.5;\" x1=\"111.5\" x2=\"152.5\" y1=\"185.9375\" y2=\"185.9375\"/></a><!--MD5=[2720a5a1f2c3fca2055b230370638851]\n",
       "link E2 to E3--><a href=\"psysml:e70b16f9-62c0-40f3-a087-aa973c352c22\" target=\"_top\" title=\"psysml:e70b16f9-62c0-40f3-a087-aa973c352c22\" xlink:actuate=\"onRequest\" xlink:href=\"psysml:e70b16f9-62c0-40f3-a087-aa973c352c22\" xlink:show=\"new\" xlink:title=\"psysml:e70b16f9-62c0-40f3-a087-aa973c352c22\" xlink:type=\"simple\"><path d=\"M193.65,194.01 C184.14,206.81 171.89,223.3 160.82,238.2 \" fill=\"none\" id=\"E2-&gt;E3\" style=\"stroke: #383838; stroke-width: 1.0;\"/><polygon fill=\"#FFFFFF\" points=\"148.6,254.66,154.3195,235.2361,165.5543,243.5896,148.6,254.66\" style=\"stroke: #383838; stroke-width: 1.0;\"/><ellipse cx=\"159.3256\" cy=\"231.8554\" fill=\"#383838\" rx=\"2\" ry=\"2\" style=\"stroke: #383838; stroke-width: 1.0;\"/><ellipse cx=\"167.3504\" cy=\"237.8221\" fill=\"#383838\" rx=\"2\" ry=\"2\" style=\"stroke: #383838; stroke-width: 1.0;\"/></a><!--MD5=[4672eba38e49728da53d11aeb285b987]\n",
       "reverse link E3 to E4--><a href=\"psysml:f5164247-58fc-45c1-bba3-2edebb195fbd\" target=\"_top\" title=\"psysml:f5164247-58fc-45c1-bba3-2edebb195fbd\" xlink:actuate=\"onRequest\" xlink:href=\"psysml:f5164247-58fc-45c1-bba3-2edebb195fbd\" xlink:show=\"new\" xlink:title=\"psysml:f5164247-58fc-45c1-bba3-2edebb195fbd\" xlink:type=\"simple\"><path d=\"M97.11,310.9 C84.08,325.11 70.81,342.94 64,362 C55.12,386.85 58.09,417.53 61.82,437.88 \" fill=\"none\" id=\"E3&lt;-E4\" style=\"stroke: #383838; stroke-width: 1.0;\"/><polygon fill=\"#383838\" points=\"106.46,301.23,99.4153,302.7703,98.1277,309.8655,105.1724,308.3252,106.46,301.23\" style=\"stroke: #383838; stroke-width: 1.0;\"/><text fill=\"#000000\" font-family=\"sans-serif\" font-size=\"13\" lengthAdjust=\"spacingAndGlyphs\" textLength=\"8\" x=\"51.3529\" y=\"426.744\">1</text></a><!--MD5=[191cde3d490a3f6d7bb551fe3ddca469]\n",
       "reverse link E3 to E5--><a href=\"psysml:0e10322d-8096-4d1c-ad13-bcf359abd35a\" target=\"_top\" title=\"psysml:0e10322d-8096-4d1c-ad13-bcf359abd35a\" xlink:actuate=\"onRequest\" xlink:href=\"psysml:0e10322d-8096-4d1c-ad13-bcf359abd35a\" xlink:show=\"new\" xlink:title=\"psysml:0e10322d-8096-4d1c-ad13-bcf359abd35a\" xlink:type=\"simple\"><path d=\"M145.17,313.57 C151.2,329.39 158.16,347.68 163.49,361.66 \" fill=\"none\" id=\"E3&lt;-E5\" style=\"stroke: #383838; stroke-width: 1.0;\"/><polygon fill=\"#FFFFFF\" points=\"140.39,301.01,138.7866,308.0406,144.6598,312.2247,146.2631,305.1941,140.39,301.01\" style=\"stroke: #383838; stroke-width: 1.0;\"/><text fill=\"#000000\" font-family=\"sans-serif\" font-size=\"13\" lengthAdjust=\"spacingAndGlyphs\" textLength=\"8\" x=\"152.2843\" y=\"350.8492\">1</text></a><!--MD5=[79568f1e445c3877b6a54524624ccc7d]\n",
       "link E4 to E6--><a href=\"psysml:cd799d59-974c-4cd5-b2a4-5d2e853ea550\" target=\"_top\" title=\"psysml:cd799d59-974c-4cd5-b2a4-5d2e853ea550\" xlink:actuate=\"onRequest\" xlink:href=\"psysml:cd799d59-974c-4cd5-b2a4-5d2e853ea550\" xlink:show=\"new\" xlink:title=\"psysml:cd799d59-974c-4cd5-b2a4-5d2e853ea550\" xlink:type=\"simple\"><path d=\"M72.25,484.22 C77.31,504.36 85.72,534.68 96,560 C104.15,580.08 115.08,601.47 124.82,619.21 \" fill=\"none\" id=\"E4-&gt;E6\" style=\"stroke: #383838; stroke-width: 1.0;\"/><polygon fill=\"#FFFFFF\" points=\"134.72,636.8,119.2979,623.6791,131.4967,616.8097,134.72,636.8\" style=\"stroke: #383838; stroke-width: 1.0;\"/><ellipse cx=\"118.2438\" cy=\"617.7311\" fill=\"#383838\" rx=\"2\" ry=\"2\" style=\"stroke: #383838; stroke-width: 1.0;\"/><ellipse cx=\"126.9572\" cy=\"612.8244\" fill=\"#383838\" rx=\"2\" ry=\"2\" style=\"stroke: #383838; stroke-width: 1.0;\"/></a><!--MD5=[3f50a3473f1dfb74d3f76443e03635af]\n",
       "reverse link E6 to E7--><a href=\"psysml:f66c29ee-70ba-402f-a3a4-159df7b46130\" target=\"_top\" title=\"psysml:f66c29ee-70ba-402f-a3a4-159df7b46130\" xlink:actuate=\"onRequest\" xlink:href=\"psysml:f66c29ee-70ba-402f-a3a4-159df7b46130\" xlink:show=\"new\" xlink:title=\"psysml:f66c29ee-70ba-402f-a3a4-159df7b46130\" xlink:type=\"simple\"><path d=\"M158.54,695.57 C163.36,711.39 168.93,729.68 173.19,743.66 \" fill=\"none\" id=\"E6&lt;-E7\" style=\"stroke: #383838; stroke-width: 1.0;\"/><polygon fill=\"#383838\" points=\"154.71,683.01,152.6319,689.9152,158.2066,694.4893,160.2847,687.5841,154.71,683.01\" style=\"stroke: #383838; stroke-width: 1.0;\"/><text fill=\"#000000\" font-family=\"sans-serif\" font-size=\"13\" lengthAdjust=\"spacingAndGlyphs\" textLength=\"8\" x=\"162.4199\" y=\"732.8492\">1</text></a><!--MD5=[14ccda38c055a5c0da953d572bc50960]\n",
       "link E7 to E3--><a href=\"psysml:4b14459c-c0ea-47eb-ae95-5bdd156140b8\" target=\"_top\" title=\"psysml:4b14459c-c0ea-47eb-ae95-5bdd156140b8\" xlink:actuate=\"onRequest\" xlink:href=\"psysml:4b14459c-c0ea-47eb-ae95-5bdd156140b8\" xlink:show=\"new\" xlink:title=\"psysml:4b14459c-c0ea-47eb-ae95-5bdd156140b8\" xlink:type=\"simple\"><path d=\"M197.41,743.63 C211.5,723.27 229,691.78 229,661 C229,384 229,384 229,384 C229,353.7 206.93,328.42 183.85,310.26 \" fill=\"none\" id=\"E7-&gt;E3\" style=\"stroke: #383838; stroke-width: 1.0;\"/><polygon fill=\"#FFFFFF\" points=\"167.57,298.59,187.0929,303.9617,178.9414,315.3438,167.57,298.59\" style=\"stroke: #383838; stroke-width: 1.0;\"/><ellipse cx=\"190.5626\" cy=\"308.9066\" fill=\"#383838\" rx=\"2\" ry=\"2\" style=\"stroke: #383838; stroke-width: 1.0;\"/><ellipse cx=\"184.7401\" cy=\"317.0367\" fill=\"#383838\" rx=\"2\" ry=\"2\" style=\"stroke: #383838; stroke-width: 1.0;\"/></a><!--MD5=[dfaffb906826c3e5aca635516100ff21]\n",
       "link E5 to E8--><a href=\"psysml:7f99918d-ef62-497c-9b9a-668f89d0bef4\" target=\"_top\" title=\"psysml:7f99918d-ef62-497c-9b9a-668f89d0bef4\" xlink:actuate=\"onRequest\" xlink:href=\"psysml:7f99918d-ef62-497c-9b9a-668f89d0bef4\" xlink:show=\"new\" xlink:title=\"psysml:7f99918d-ef62-497c-9b9a-668f89d0bef4\" xlink:type=\"simple\"><path d=\"M168.46,408.13 C164.86,430.62 159.2,466.01 154.74,493.87 \" fill=\"none\" id=\"E5-&gt;E8\" style=\"stroke: #383838; stroke-width: 1.0;\"/><polygon fill=\"#FFFFFF\" points=\"151.56,513.78,147.6458,493.9135,161.4704,496.1226,151.56,513.78\" style=\"stroke: #383838; stroke-width: 1.0;\"/><ellipse cx=\"150.5202\" cy=\"488.6005\" fill=\"#383838\" rx=\"2\" ry=\"2\" style=\"stroke: #383838; stroke-width: 1.0;\"/><ellipse cx=\"160.3949\" cy=\"490.1784\" fill=\"#383838\" rx=\"2\" ry=\"2\" style=\"stroke: #383838; stroke-width: 1.0;\"/></a><!--MD5=[03c8294790d3c57651a1993cecff665f]\n",
       "reverse link E8 to E3--><a href=\"psysml:8abdebaf-64f0-40cf-a780-4a21932975d8\" target=\"_top\" title=\"psysml:8abdebaf-64f0-40cf-a780-4a21932975d8\" xlink:actuate=\"onRequest\" xlink:href=\"psysml:8abdebaf-64f0-40cf-a780-4a21932975d8\" xlink:show=\"new\" xlink:title=\"psysml:8abdebaf-64f0-40cf-a780-4a21932975d8\" xlink:type=\"simple\"><path d=\"M140.02,501.22 C134.57,475.6 127.84,439.84 125,408 C123.18,387.64 124.14,382.43 125,362 C125.87,341.34 127.95,317.86 129.62,301.16 \" fill=\"none\" id=\"E8&lt;-E3\" style=\"stroke: #383838; stroke-width: 1.0;\"/><polygon fill=\"#FFFFFF\" points=\"142.81,513.96,145.4388,507.2451,140.2515,502.2359,137.6227,508.9508,142.81,513.96\" style=\"stroke: #383838; stroke-width: 1.0;\"/><text fill=\"#000000\" font-family=\"sans-serif\" font-size=\"13\" lengthAdjust=\"spacingAndGlyphs\" textLength=\"7\" x=\"126\" y=\"389.5669\">y</text></a><!--MD5=[0d75d2178373a6a4568e5dc728f58aef]\n",
       "reverse link E8 to E6--><a href=\"psysml:8abdebaf-64f0-40cf-a780-4a21932975d8\" target=\"_top\" title=\"psysml:8abdebaf-64f0-40cf-a780-4a21932975d8\" xlink:actuate=\"onRequest\" xlink:href=\"psysml:8abdebaf-64f0-40cf-a780-4a21932975d8\" xlink:show=\"new\" xlink:title=\"psysml:8abdebaf-64f0-40cf-a780-4a21932975d8\" xlink:type=\"simple\"><path d=\"M148,573.22 C148,593.81 148,619.16 148,636.95 \" fill=\"none\" id=\"E8&lt;-E6\" style=\"stroke: #383838; stroke-width: 1.0;\"/><polygon fill=\"#FFFFFF\" points=\"148,560.19,144,566.19,148,572.19,152,566.19,148,560.19\" style=\"stroke: #383838; stroke-width: 1.0;\"/><text fill=\"#000000\" font-family=\"sans-serif\" font-size=\"13\" lengthAdjust=\"spacingAndGlyphs\" textLength=\"7\" x=\"149\" y=\"603.0669\">y</text></a><!--MD5=[23ac544a70576c3e717098101004234c]\n",
       "reverse link E9 to E10--><a href=\"psysml:4b97f70b-21b5-47d0-9b80-bf68f1206e68\" target=\"_top\" title=\"psysml:4b97f70b-21b5-47d0-9b80-bf68f1206e68\" xlink:actuate=\"onRequest\" xlink:href=\"psysml:4b97f70b-21b5-47d0-9b80-bf68f1206e68\" xlink:show=\"new\" xlink:title=\"psysml:4b97f70b-21b5-47d0-9b80-bf68f1206e68\" xlink:type=\"simple\"><path d=\"M84.39,99.1 C77.56,115.03 69.63,133.54 63.58,147.66 \" fill=\"none\" id=\"E9&lt;-E10\" style=\"stroke: #383838; stroke-width: 1.0;\"/><polygon fill=\"#FFFFFF\" points=\"89.57,87.01,83.5327,90.9535,84.8509,98.0431,90.8882,94.0996,89.57,87.01\" style=\"stroke: #383838; stroke-width: 1.0;\"/><text fill=\"#000000\" font-family=\"sans-serif\" font-size=\"13\" lengthAdjust=\"spacingAndGlyphs\" textLength=\"8\" x=\"57.0099\" y=\"136.8492\">1</text></a><!--MD5=[feeac5eb423634930294aa81f2d25a4c]\n",
       "link E10 to E3--><a href=\"psysml:890b43d2-a44a-4df9-b863-0c7f323950a1\" target=\"_top\" title=\"psysml:890b43d2-a44a-4df9-b863-0c7f323950a1\" xlink:actuate=\"onRequest\" xlink:href=\"psysml:890b43d2-a44a-4df9-b863-0c7f323950a1\" xlink:show=\"new\" xlink:title=\"psysml:890b43d2-a44a-4df9-b863-0c7f323950a1\" xlink:type=\"simple\"><path d=\"M70.35,194.01 C79.86,206.81 92.11,223.3 103.18,238.2 \" fill=\"none\" id=\"E10-&gt;E3\" style=\"stroke: #383838; stroke-width: 1.0;\"/><polygon fill=\"#FFFFFF\" points=\"115.4,254.66,98.4457,243.5896,109.6805,235.2361,115.4,254.66\" style=\"stroke: #383838; stroke-width: 1.0;\"/><ellipse cx=\"96.6496\" cy=\"237.8221\" fill=\"#383838\" rx=\"2\" ry=\"2\" style=\"stroke: #383838; stroke-width: 1.0;\"/><ellipse cx=\"104.6744\" cy=\"231.8554\" fill=\"#383838\" rx=\"2\" ry=\"2\" style=\"stroke: #383838; stroke-width: 1.0;\"/></a><!--MD5=[1fc04a95fd77ad5ce46c1a3027516051]\n",
       "reverse link E9 to E11--><a href=\"psysml:75cdd26f-47cf-45db-b14e-ba01ceb3edc6\" target=\"_top\" title=\"psysml:75cdd26f-47cf-45db-b14e-ba01ceb3edc6\" xlink:actuate=\"onRequest\" xlink:href=\"psysml:75cdd26f-47cf-45db-b14e-ba01ceb3edc6\" xlink:show=\"new\" xlink:title=\"psysml:75cdd26f-47cf-45db-b14e-ba01ceb3edc6\" xlink:type=\"simple\"><path d=\"M109.87,99.57 C114.84,115.39 120.59,133.68 124.98,147.66 \" fill=\"none\" id=\"E9&lt;-E11\" style=\"stroke: #383838; stroke-width: 1.0;\"/><polygon fill=\"#FFFFFF\" points=\"105.92,87.01,103.9044,93.9337,109.5203,98.4572,111.5359,91.5335,105.92,87.01\" style=\"stroke: #383838; stroke-width: 1.0;\"/><text fill=\"#000000\" font-family=\"sans-serif\" font-size=\"13\" lengthAdjust=\"spacingAndGlyphs\" textLength=\"8\" x=\"114.1561\" y=\"136.8492\">1</text></a><!--MD5=[0517f1ce58c4d5483948f93845c45e26]\n",
       "link E11 to E3--><a href=\"psysml:92dee77c-180b-445a-a05e-737a71661cde\" target=\"_top\" title=\"psysml:92dee77c-180b-445a-a05e-737a71661cde\" xlink:actuate=\"onRequest\" xlink:href=\"psysml:92dee77c-180b-445a-a05e-737a71661cde\" xlink:show=\"new\" xlink:title=\"psysml:92dee77c-180b-445a-a05e-737a71661cde\" xlink:type=\"simple\"><path d=\"M132,194.01 C132,205.69 132,220.46 132,234.28 \" fill=\"none\" id=\"E11-&gt;E3\" style=\"stroke: #383838; stroke-width: 1.0;\"/><polygon fill=\"#FFFFFF\" points=\"132,254.66,125,235.66,139,235.66,132,254.66\" style=\"stroke: #383838; stroke-width: 1.0;\"/><ellipse cx=\"127\" cy=\"229.96\" fill=\"#383838\" rx=\"2\" ry=\"2\" style=\"stroke: #383838; stroke-width: 1.0;\"/><ellipse cx=\"137\" cy=\"229.96\" fill=\"#383838\" rx=\"2\" ry=\"2\" style=\"stroke: #383838; stroke-width: 1.0;\"/></a><!--MD5=[2601ff4a431623f1f65a1c7b38a68c74]\n",
       "@startuml\r\n",
       "top to bottom direction\r\n",
       "skinparam monochrome true\r\n",
       "skinparam classbackgroundcolor white\r\n",
       "skinparam shadowing false\r\n",
       "skinparam wrapWidth 300\r\n",
       "hide circle\r\n",
       "\r\n",
       "package \"ItemTest\" as E1  [[psysml:8469bc55-64be-4e75-90cd-bb271a7bb256 ]]  {\r\n",
       "comp usage \"f: A \" as E2  <<(T,blue) item>> [[psysml:6cbf61b0-82f0-477a-9e61-503ee7ef8ab3 ]] {\r\n",
       "}\r\n",
       "comp def \"A\" as E3  <<(T,blue) item  def>> [[psysml:73e4759d-5191-4c8c-b634-f2bc1b43e3a3 ]] {\r\n",
       "}\r\n",
       "comp usage \"b: B \" as E4  <<(T,blue) item>> [[psysml:22dedc78-8a6f-47e7-a1b3-f5299f454177 ]] {\r\n",
       "}\r\n",
       "comp usage \"c: C \" as E5  <<(T,blue) part>> [[psysml:d5b518cb-4e9d-48f6-86e4-811292cf7103 ]] {\r\n",
       "}\r\n",
       "comp def \"<i>B</i>\" as E6  <<(T,blue) item  def>> [[psysml:7fb13a86-95b9-42ac-ac4a-d3cbb2045ff7 ]] {\r\n",
       "}\r\n",
       "comp usage \"<i>a</i>: A \" as E7  <<(T,blue) part>> [[psysml:b4d408e4-c35f-4021-90a0-c54c4c634ca8 ]] {\r\n",
       "}\r\n",
       "comp def \"C\" as E8  <<(T,blue) part  def>> [[psysml:53104107-4f2e-4822-81be-c90629c3152e ]] {\r\n",
       "}\r\n",
       "comp def \"P\" as E9  <<(T,blue) port  def>> [[psysml:96c92d64-4061-42f0-9733-a4ee9bfee5f1 ]] {\r\n",
       "}\r\n",
       "comp usage \"a1: A \" as E10  <<(T,blue) item>> [[psysml:21151bb4-f160-49b9-964a-222b3c2d7b6c ]] {\r\n",
       "}\r\n",
       "comp usage \"a2: A \" as E11  <<(T,blue) item>> [[psysml:048eeab4-ab84-4a9d-8dc8-2b5e8335cff3 ]] {\r\n",
       "}\r\n",
       "}\r\n",
       "E2 - -:|> E3 [[psysml:e70b16f9-62c0-40f3-a087-aa973c352c22 ]] \r\n",
       "E3 *- - \"1\"E4 [[psysml:f5164247-58fc-45c1-bba3-2edebb195fbd ]] \r\n",
       "E3 o- - \"1\"E5 [[psysml:0e10322d-8096-4d1c-ad13-bcf359abd35a ]] \r\n",
       "E4 - -:|> E6 [[psysml:cd799d59-974c-4cd5-b2a4-5d2e853ea550 ]] \r\n",
       "E6 *- - \"1\"E7 [[psysml:f66c29ee-70ba-402f-a3a4-159df7b46130 ]] \r\n",
       "E7 - -:|> E3 [[psysml:4b14459c-c0ea-47eb-ae95-5bdd156140b8 ]] \r\n",
       "E5 - -:|> E8 [[psysml:7f99918d-ef62-497c-9b9a-668f89d0bef4 ]] \r\n",
       "E8 o- - E3 [[psysml:8abdebaf-64f0-40cf-a780-4a21932975d8 ]] : y\r\n",
       "E8 o- - E6 [[psysml:8abdebaf-64f0-40cf-a780-4a21932975d8 ]] : y\r\n",
       "E9 o- - \"1\"E10 [[psysml:4b97f70b-21b5-47d0-9b80-bf68f1206e68 ]] \r\n",
       "E10 - -:|> E3 [[psysml:890b43d2-a44a-4df9-b863-0c7f323950a1 ]] \r\n",
       "E9 o- - \"1\"E11 [[psysml:75cdd26f-47cf-45db-b14e-ba01ceb3edc6 ]] \r\n",
       "E11 - -:|> E3 [[psysml:92dee77c-180b-445a-a05e-737a71661cde ]] \r\n",
       "@enduml\r\n",
       "\n",
       "PlantUML version 1.2020.13(Sat Jun 13 12:26:38 UTC 2020)\n",
       "(EPL source distribution)\n",
       "Java Runtime: OpenJDK Runtime Environment\n",
       "JVM: OpenJDK 64-Bit Server VM\n",
       "Default Encoding: UTF-8\n",
       "Language: en\n",
       "Country: null\n",
       "--></g></svg>"
      ]
     },
     "execution_count": 50,
     "metadata": {},
     "output_type": "execute_result"
    }
   ],
   "source": [
    "%viz --style=\"TB\" --view=\"MIXED\" \"ItemTest\""
   ]
  },
  {
   "cell_type": "code",
   "execution_count": 51,
   "id": "b2e42213",
   "metadata": {
    "execution": {
     "iopub.execute_input": "2022-03-21T07:49:12.623671Z",
     "iopub.status.busy": "2022-03-21T07:49:12.623431Z",
     "iopub.status.idle": "2022-03-21T07:49:12.670478Z",
     "shell.execute_reply": "2022-03-21T07:49:12.669043Z"
    }
   },
   "outputs": [
    {
     "data": {
      "image/svg+xml": [
       "<?xml version=\"1.0\" encoding=\"UTF-8\" standalone=\"no\"?><svg xmlns=\"http://www.w3.org/2000/svg\" xmlns:xlink=\"http://www.w3.org/1999/xlink\" contentScriptType=\"application/ecmascript\" contentStyleType=\"text/css\" height=\"818px\" preserveAspectRatio=\"none\" style=\"width:270px;height:818px;\" version=\"1.1\" viewBox=\"0 0 270 818\" width=\"270px\" zoomAndPan=\"magnify\"><defs/><g><!--MD5=[fbc87193dbaf4d95561dea2c320d4a47]\n",
       "cluster E1--><a href=\"psysml:8469bc55-64be-4e75-90cd-bb271a7bb256\" target=\"_top\" title=\"psysml:8469bc55-64be-4e75-90cd-bb271a7bb256\" xlink:actuate=\"onRequest\" xlink:href=\"psysml:8469bc55-64be-4e75-90cd-bb271a7bb256\" xlink:show=\"new\" xlink:title=\"psysml:8469bc55-64be-4e75-90cd-bb271a7bb256\" xlink:type=\"simple\"><polygon fill=\"#FFFFFF\" points=\"16,6,83,6,90,28.2969,248,28.2969,248,806,16,806,16,6\" style=\"stroke: #000000; stroke-width: 1.5;\"/><line style=\"stroke: #000000; stroke-width: 1.5;\" x1=\"16\" x2=\"90\" y1=\"28.2969\" y2=\"28.2969\"/><text fill=\"#000000\" font-family=\"sans-serif\" font-size=\"14\" font-weight=\"bold\" lengthAdjust=\"spacingAndGlyphs\" textLength=\"61\" x=\"20\" y=\"20.9951\">ItemTest</text></a><!--MD5=[b4997ac47864f28c2f74865a473b2911]\n",
       "class E2--><a href=\"psysml:6cbf61b0-82f0-477a-9e61-503ee7ef8ab3\" target=\"_top\" title=\"psysml:6cbf61b0-82f0-477a-9e61-503ee7ef8ab3\" xlink:actuate=\"onRequest\" xlink:href=\"psysml:6cbf61b0-82f0-477a-9e61-503ee7ef8ab3\" xlink:show=\"new\" xlink:title=\"psysml:6cbf61b0-82f0-477a-9e61-503ee7ef8ab3\" xlink:type=\"simple\"><rect fill=\"#FFFFFF\" height=\"45.9375\" id=\"E2\" rx=\"10\" ry=\"10\" style=\"stroke: #383838; stroke-width: 1.5;\" width=\"43\" x=\"188.5\" y=\"148\"/><text fill=\"#000000\" font-family=\"sans-serif\" font-size=\"12\" font-style=\"italic\" lengthAdjust=\"spacingAndGlyphs\" textLength=\"41\" x=\"189.5\" y=\"164.1387\">«item»</text><text fill=\"#000000\" font-family=\"sans-serif\" font-size=\"12\" lengthAdjust=\"spacingAndGlyphs\" textLength=\"20\" x=\"198\" y=\"178.1074\">f: A</text><line style=\"stroke: #383838; stroke-width: 1.5;\" x1=\"189.5\" x2=\"230.5\" y1=\"185.9375\" y2=\"185.9375\"/></a><!--MD5=[09b614a08d8cba4a07c9adeb5e0fee81]\n",
       "class E3--><a href=\"psysml:73e4759d-5191-4c8c-b634-f2bc1b43e3a3\" target=\"_top\" title=\"psysml:73e4759d-5191-4c8c-b634-f2bc1b43e3a3\" xlink:actuate=\"onRequest\" xlink:href=\"psysml:73e4759d-5191-4c8c-b634-f2bc1b43e3a3\" xlink:show=\"new\" xlink:title=\"psysml:73e4759d-5191-4c8c-b634-f2bc1b43e3a3\" xlink:type=\"simple\"><rect fill=\"#FFFFFF\" height=\"45.9375\" id=\"E3\" style=\"stroke: #383838; stroke-width: 1.5;\" width=\"71\" x=\"96.5\" y=\"255\"/><text fill=\"#000000\" font-family=\"sans-serif\" font-size=\"12\" font-style=\"italic\" lengthAdjust=\"spacingAndGlyphs\" textLength=\"69\" x=\"97.5\" y=\"271.1387\">«item  def»</text><text fill=\"#000000\" font-family=\"sans-serif\" font-size=\"12\" lengthAdjust=\"spacingAndGlyphs\" textLength=\"8\" x=\"128\" y=\"285.1074\">A</text><line style=\"stroke: #383838; stroke-width: 1.5;\" x1=\"97.5\" x2=\"166.5\" y1=\"292.9375\" y2=\"292.9375\"/></a><!--MD5=[ebbe1d658d1005bcc118a6aa81145e00]\n",
       "class E4--><a href=\"psysml:22dedc78-8a6f-47e7-a1b3-f5299f454177\" target=\"_top\" title=\"psysml:22dedc78-8a6f-47e7-a1b3-f5299f454177\" xlink:actuate=\"onRequest\" xlink:href=\"psysml:22dedc78-8a6f-47e7-a1b3-f5299f454177\" xlink:show=\"new\" xlink:title=\"psysml:22dedc78-8a6f-47e7-a1b3-f5299f454177\" xlink:type=\"simple\"><rect fill=\"#FFFFFF\" height=\"45.9375\" id=\"E4\" rx=\"10\" ry=\"10\" style=\"stroke: #383838; stroke-width: 1.5;\" width=\"43\" x=\"45.5\" y=\"438\"/><text fill=\"#000000\" font-family=\"sans-serif\" font-size=\"12\" font-style=\"italic\" lengthAdjust=\"spacingAndGlyphs\" textLength=\"41\" x=\"46.5\" y=\"454.1387\">«item»</text><text fill=\"#000000\" font-family=\"sans-serif\" font-size=\"12\" lengthAdjust=\"spacingAndGlyphs\" textLength=\"24\" x=\"53\" y=\"468.1074\">b: B</text><line style=\"stroke: #383838; stroke-width: 1.5;\" x1=\"46.5\" x2=\"87.5\" y1=\"475.9375\" y2=\"475.9375\"/></a><!--MD5=[270fce915f116d4de14055a7c1d9a0f3]\n",
       "class E5--><a href=\"psysml:d5b518cb-4e9d-48f6-86e4-811292cf7103\" target=\"_top\" title=\"psysml:d5b518cb-4e9d-48f6-86e4-811292cf7103\" xlink:actuate=\"onRequest\" xlink:href=\"psysml:d5b518cb-4e9d-48f6-86e4-811292cf7103\" xlink:show=\"new\" xlink:title=\"psysml:d5b518cb-4e9d-48f6-86e4-811292cf7103\" xlink:type=\"simple\"><rect fill=\"#FFFFFF\" height=\"45.9375\" id=\"E5\" rx=\"10\" ry=\"10\" style=\"stroke: #383838; stroke-width: 1.5;\" width=\"42\" x=\"151\" y=\"362\"/><text fill=\"#000000\" font-family=\"sans-serif\" font-size=\"12\" font-style=\"italic\" lengthAdjust=\"spacingAndGlyphs\" textLength=\"40\" x=\"152\" y=\"378.1387\">«part»</text><text fill=\"#000000\" font-family=\"sans-serif\" font-size=\"12\" lengthAdjust=\"spacingAndGlyphs\" textLength=\"23\" x=\"158.5\" y=\"392.1074\">c: C</text><line style=\"stroke: #383838; stroke-width: 1.5;\" x1=\"152\" x2=\"192\" y1=\"399.9375\" y2=\"399.9375\"/></a><!--MD5=[60a26617385b1d2d0262a64233df1f8d]\n",
       "class E6--><a href=\"psysml:7fb13a86-95b9-42ac-ac4a-d3cbb2045ff7\" target=\"_top\" title=\"psysml:7fb13a86-95b9-42ac-ac4a-d3cbb2045ff7\" xlink:actuate=\"onRequest\" xlink:href=\"psysml:7fb13a86-95b9-42ac-ac4a-d3cbb2045ff7\" xlink:show=\"new\" xlink:title=\"psysml:7fb13a86-95b9-42ac-ac4a-d3cbb2045ff7\" xlink:type=\"simple\"><rect fill=\"#FFFFFF\" height=\"45.9375\" id=\"E6\" style=\"stroke: #383838; stroke-width: 1.5;\" width=\"71\" x=\"112.5\" y=\"637\"/><text fill=\"#000000\" font-family=\"sans-serif\" font-size=\"12\" font-style=\"italic\" lengthAdjust=\"spacingAndGlyphs\" textLength=\"69\" x=\"113.5\" y=\"653.1387\">«item  def»</text><text fill=\"#000000\" font-family=\"sans-serif\" font-size=\"12\" font-style=\"italic\" lengthAdjust=\"spacingAndGlyphs\" textLength=\"8\" x=\"144\" y=\"667.1074\">B</text><line style=\"stroke: #383838; stroke-width: 1.5;\" x1=\"113.5\" x2=\"182.5\" y1=\"674.9375\" y2=\"674.9375\"/></a><!--MD5=[2156ba9850f5573cc1fc38a6a4b2f02b]\n",
       "class E7--><a href=\"psysml:b4d408e4-c35f-4021-90a0-c54c4c634ca8\" target=\"_top\" title=\"psysml:b4d408e4-c35f-4021-90a0-c54c4c634ca8\" xlink:actuate=\"onRequest\" xlink:href=\"psysml:b4d408e4-c35f-4021-90a0-c54c4c634ca8\" xlink:show=\"new\" xlink:title=\"psysml:b4d408e4-c35f-4021-90a0-c54c4c634ca8\" xlink:type=\"simple\"><rect fill=\"#FFFFFF\" height=\"45.9375\" id=\"E7\" rx=\"10\" ry=\"10\" style=\"stroke: #383838; stroke-width: 1.5;\" width=\"42\" x=\"159\" y=\"744\"/><text fill=\"#000000\" font-family=\"sans-serif\" font-size=\"12\" font-style=\"italic\" lengthAdjust=\"spacingAndGlyphs\" textLength=\"40\" x=\"160\" y=\"760.1387\">«part»</text><text fill=\"#000000\" font-family=\"sans-serif\" font-size=\"12\" font-style=\"italic\" lengthAdjust=\"spacingAndGlyphs\" textLength=\"8\" x=\"166\" y=\"774.1074\">a</text><text fill=\"#000000\" font-family=\"sans-serif\" font-size=\"12\" lengthAdjust=\"spacingAndGlyphs\" textLength=\"16\" x=\"174\" y=\"774.1074\">: A</text><line style=\"stroke: #383838; stroke-width: 1.5;\" x1=\"160\" x2=\"200\" y1=\"781.9375\" y2=\"781.9375\"/></a><!--MD5=[b9389687b975829384b498ac4b7476b2]\n",
       "class E8--><a href=\"psysml:53104107-4f2e-4822-81be-c90629c3152e\" target=\"_top\" title=\"psysml:53104107-4f2e-4822-81be-c90629c3152e\" xlink:actuate=\"onRequest\" xlink:href=\"psysml:53104107-4f2e-4822-81be-c90629c3152e\" xlink:show=\"new\" xlink:title=\"psysml:53104107-4f2e-4822-81be-c90629c3152e\" xlink:type=\"simple\"><rect fill=\"#FFFFFF\" height=\"45.9375\" id=\"E8\" style=\"stroke: #383838; stroke-width: 1.5;\" width=\"70\" x=\"113\" y=\"514\"/><text fill=\"#000000\" font-family=\"sans-serif\" font-size=\"12\" font-style=\"italic\" lengthAdjust=\"spacingAndGlyphs\" textLength=\"68\" x=\"114\" y=\"530.1387\">«part  def»</text><text fill=\"#000000\" font-family=\"sans-serif\" font-size=\"12\" lengthAdjust=\"spacingAndGlyphs\" textLength=\"8\" x=\"144\" y=\"544.1074\">C</text><line style=\"stroke: #383838; stroke-width: 1.5;\" x1=\"114\" x2=\"182\" y1=\"551.9375\" y2=\"551.9375\"/></a><!--MD5=[fd4143e9d270a159db93a4ea2a975926]\n",
       "class E9--><a href=\"psysml:96c92d64-4061-42f0-9733-a4ee9bfee5f1\" target=\"_top\" title=\"psysml:96c92d64-4061-42f0-9733-a4ee9bfee5f1\" xlink:actuate=\"onRequest\" xlink:href=\"psysml:96c92d64-4061-42f0-9733-a4ee9bfee5f1\" xlink:show=\"new\" xlink:title=\"psysml:96c92d64-4061-42f0-9733-a4ee9bfee5f1\" xlink:type=\"simple\"><rect fill=\"#FFFFFF\" height=\"45.9375\" id=\"E9\" style=\"stroke: #383838; stroke-width: 1.5;\" width=\"70\" x=\"64\" y=\"41\"/><text fill=\"#000000\" font-family=\"sans-serif\" font-size=\"12\" font-style=\"italic\" lengthAdjust=\"spacingAndGlyphs\" textLength=\"68\" x=\"65\" y=\"57.1387\">«port  def»</text><text fill=\"#000000\" font-family=\"sans-serif\" font-size=\"12\" lengthAdjust=\"spacingAndGlyphs\" textLength=\"8\" x=\"95\" y=\"71.1074\">P</text><line style=\"stroke: #383838; stroke-width: 1.5;\" x1=\"65\" x2=\"133\" y1=\"78.9375\" y2=\"78.9375\"/></a><!--MD5=[96f4274e9e20536e775497830990834d]\n",
       "class E10--><a href=\"psysml:21151bb4-f160-49b9-964a-222b3c2d7b6c\" target=\"_top\" title=\"psysml:21151bb4-f160-49b9-964a-222b3c2d7b6c\" xlink:actuate=\"onRequest\" xlink:href=\"psysml:21151bb4-f160-49b9-964a-222b3c2d7b6c\" xlink:show=\"new\" xlink:title=\"psysml:21151bb4-f160-49b9-964a-222b3c2d7b6c\" xlink:type=\"simple\"><rect fill=\"#FFFFFF\" height=\"45.9375\" id=\"E10\" rx=\"10\" ry=\"10\" style=\"stroke: #383838; stroke-width: 1.5;\" width=\"43\" x=\"32.5\" y=\"148\"/><text fill=\"#000000\" font-family=\"sans-serif\" font-size=\"12\" font-style=\"italic\" lengthAdjust=\"spacingAndGlyphs\" textLength=\"41\" x=\"33.5\" y=\"164.1387\">«item»</text><text fill=\"#000000\" font-family=\"sans-serif\" font-size=\"12\" lengthAdjust=\"spacingAndGlyphs\" textLength=\"32\" x=\"36\" y=\"178.1074\">a1: A</text><line style=\"stroke: #383838; stroke-width: 1.5;\" x1=\"33.5\" x2=\"74.5\" y1=\"185.9375\" y2=\"185.9375\"/></a><!--MD5=[1dd1bfd58a279cf63c5f349dbc8fc6a1]\n",
       "class E11--><a href=\"psysml:048eeab4-ab84-4a9d-8dc8-2b5e8335cff3\" target=\"_top\" title=\"psysml:048eeab4-ab84-4a9d-8dc8-2b5e8335cff3\" xlink:actuate=\"onRequest\" xlink:href=\"psysml:048eeab4-ab84-4a9d-8dc8-2b5e8335cff3\" xlink:show=\"new\" xlink:title=\"psysml:048eeab4-ab84-4a9d-8dc8-2b5e8335cff3\" xlink:type=\"simple\"><rect fill=\"#FFFFFF\" height=\"45.9375\" id=\"E11\" rx=\"10\" ry=\"10\" style=\"stroke: #383838; stroke-width: 1.5;\" width=\"43\" x=\"110.5\" y=\"148\"/><text fill=\"#000000\" font-family=\"sans-serif\" font-size=\"12\" font-style=\"italic\" lengthAdjust=\"spacingAndGlyphs\" textLength=\"41\" x=\"111.5\" y=\"164.1387\">«item»</text><text fill=\"#000000\" font-family=\"sans-serif\" font-size=\"12\" lengthAdjust=\"spacingAndGlyphs\" textLength=\"32\" x=\"114\" y=\"178.1074\">a2: A</text><line style=\"stroke: #383838; stroke-width: 1.5;\" x1=\"111.5\" x2=\"152.5\" y1=\"185.9375\" y2=\"185.9375\"/></a><!--MD5=[2720a5a1f2c3fca2055b230370638851]\n",
       "link E2 to E3--><a href=\"psysml:e70b16f9-62c0-40f3-a087-aa973c352c22\" target=\"_top\" title=\"psysml:e70b16f9-62c0-40f3-a087-aa973c352c22\" xlink:actuate=\"onRequest\" xlink:href=\"psysml:e70b16f9-62c0-40f3-a087-aa973c352c22\" xlink:show=\"new\" xlink:title=\"psysml:e70b16f9-62c0-40f3-a087-aa973c352c22\" xlink:type=\"simple\"><path d=\"M188.43,171 C175.09,171 160.5,171 160.5,171 C160.5,171 160.5,234.78 160.5,234.78 \" fill=\"none\" id=\"E2-&gt;E3\" style=\"stroke: #383838; stroke-width: 1.0;\"/><polygon fill=\"#FFFFFF\" points=\"160.5,254.78,153.5,235.78,167.5,235.78,160.5,254.78\" style=\"stroke: #383838; stroke-width: 1.0;\"/><ellipse cx=\"155.5\" cy=\"230.08\" fill=\"#383838\" rx=\"2\" ry=\"2\" style=\"stroke: #383838; stroke-width: 1.0;\"/><ellipse cx=\"165.5\" cy=\"230.08\" fill=\"#383838\" rx=\"2\" ry=\"2\" style=\"stroke: #383838; stroke-width: 1.0;\"/></a><!--MD5=[4672eba38e49728da53d11aeb285b987]\n",
       "reverse link E3 to E4--><a href=\"psysml:f5164247-58fc-45c1-bba3-2edebb195fbd\" target=\"_top\" title=\"psysml:f5164247-58fc-45c1-bba3-2edebb195fbd\" xlink:actuate=\"onRequest\" xlink:href=\"psysml:f5164247-58fc-45c1-bba3-2edebb195fbd\" xlink:show=\"new\" xlink:title=\"psysml:f5164247-58fc-45c1-bba3-2edebb195fbd\" xlink:type=\"simple\"><path d=\"M83.46,278 C83.46,278 82,278 82,278 C82,278 82,388.58 82,437.82 \" fill=\"none\" id=\"E3&lt;-E4\" style=\"stroke: #383838; stroke-width: 1.0;\"/><polygon fill=\"#383838\" points=\"96.46,278,90.46,274,84.46,278,90.46,282,96.46,278\" style=\"stroke: #383838; stroke-width: 1.0;\"/><text fill=\"#000000\" font-family=\"sans-serif\" font-size=\"13\" lengthAdjust=\"spacingAndGlyphs\" textLength=\"8\" x=\"76.8188\" y=\"427.0502\">1</text></a><!--MD5=[191cde3d490a3f6d7bb551fe3ddca469]\n",
       "reverse link E3 to E5--><a href=\"psysml:0e10322d-8096-4d1c-ad13-bcf359abd35a\" target=\"_top\" title=\"psysml:0e10322d-8096-4d1c-ad13-bcf359abd35a\" xlink:actuate=\"onRequest\" xlink:href=\"psysml:0e10322d-8096-4d1c-ad13-bcf359abd35a\" xlink:show=\"new\" xlink:title=\"psysml:0e10322d-8096-4d1c-ad13-bcf359abd35a\" xlink:type=\"simple\"><path d=\"M159.25,314.22 C159.25,314.22 159.25,361.83 159.25,361.83 \" fill=\"none\" id=\"E3&lt;-E5\" style=\"stroke: #383838; stroke-width: 1.0;\"/><polygon fill=\"#FFFFFF\" points=\"159.25,301.22,155.25,307.22,159.25,313.22,163.25,307.22,159.25,301.22\" style=\"stroke: #383838; stroke-width: 1.0;\"/><text fill=\"#000000\" font-family=\"sans-serif\" font-size=\"13\" lengthAdjust=\"spacingAndGlyphs\" textLength=\"8\" x=\"146.9578\" y=\"351.0627\">1</text></a><!--MD5=[79568f1e445c3877b6a54524624ccc7d]\n",
       "link E4 to E6--><a href=\"psysml:cd799d59-974c-4cd5-b2a4-5d2e853ea550\" target=\"_top\" title=\"psysml:cd799d59-974c-4cd5-b2a4-5d2e853ea550\" xlink:actuate=\"onRequest\" xlink:href=\"psysml:cd799d59-974c-4cd5-b2a4-5d2e853ea550\" xlink:show=\"new\" xlink:title=\"psysml:cd799d59-974c-4cd5-b2a4-5d2e853ea550\" xlink:type=\"simple\"><path d=\"M67,484.22 C67,536.71 67,660 67,660 C67,660 92.24,660 92.24,660 \" fill=\"none\" id=\"E4-&gt;E6\" style=\"stroke: #383838; stroke-width: 1.0;\"/><polygon fill=\"#FFFFFF\" points=\"112.24,660,93.24,667,93.24,653,112.24,660\" style=\"stroke: #383838; stroke-width: 1.0;\"/><ellipse cx=\"87.54\" cy=\"665\" fill=\"#383838\" rx=\"2\" ry=\"2\" style=\"stroke: #383838; stroke-width: 1.0;\"/><ellipse cx=\"87.54\" cy=\"655\" fill=\"#383838\" rx=\"2\" ry=\"2\" style=\"stroke: #383838; stroke-width: 1.0;\"/></a><!--MD5=[3f50a3473f1dfb74d3f76443e03635af]\n",
       "reverse link E6 to E7--><a href=\"psysml:f66c29ee-70ba-402f-a3a4-159df7b46130\" target=\"_top\" title=\"psysml:f66c29ee-70ba-402f-a3a4-159df7b46130\" xlink:actuate=\"onRequest\" xlink:href=\"psysml:f66c29ee-70ba-402f-a3a4-159df7b46130\" xlink:show=\"new\" xlink:title=\"psysml:f66c29ee-70ba-402f-a3a4-159df7b46130\" xlink:type=\"simple\"><path d=\"M171.25,696.22 C171.25,696.22 171.25,743.83 171.25,743.83 \" fill=\"none\" id=\"E6&lt;-E7\" style=\"stroke: #383838; stroke-width: 1.0;\"/><polygon fill=\"#383838\" points=\"171.25,683.22,167.25,689.22,171.25,695.22,175.25,689.22,171.25,683.22\" style=\"stroke: #383838; stroke-width: 1.0;\"/><text fill=\"#000000\" font-family=\"sans-serif\" font-size=\"13\" lengthAdjust=\"spacingAndGlyphs\" textLength=\"8\" x=\"159.9828\" y=\"733.0627\">1</text></a><!--MD5=[14ccda38c055a5c0da953d572bc50960]\n",
       "link E7 to E3--><a href=\"psysml:4b14459c-c0ea-47eb-ae95-5bdd156140b8\" target=\"_top\" title=\"psysml:4b14459c-c0ea-47eb-ae95-5bdd156140b8\" xlink:actuate=\"onRequest\" xlink:href=\"psysml:4b14459c-c0ea-47eb-ae95-5bdd156140b8\" xlink:show=\"new\" xlink:title=\"psysml:4b14459c-c0ea-47eb-ae95-5bdd156140b8\" xlink:type=\"simple\"><path d=\"M197,743.74 C197,646.56 197,278 197,278 C197,278 187.54,278 187.54,278 \" fill=\"none\" id=\"E7-&gt;E3\" style=\"stroke: #383838; stroke-width: 1.0;\"/><polygon fill=\"#FFFFFF\" points=\"167.54,278,186.54,271,186.54,285,167.54,278\" style=\"stroke: #383838; stroke-width: 1.0;\"/><ellipse cx=\"192.24\" cy=\"273\" fill=\"#383838\" rx=\"2\" ry=\"2\" style=\"stroke: #383838; stroke-width: 1.0;\"/><ellipse cx=\"192.24\" cy=\"283\" fill=\"#383838\" rx=\"2\" ry=\"2\" style=\"stroke: #383838; stroke-width: 1.0;\"/></a><!--MD5=[dfaffb906826c3e5aca635516100ff21]\n",
       "link E5 to E8--><a href=\"psysml:7f99918d-ef62-497c-9b9a-668f89d0bef4\" target=\"_top\" title=\"psysml:7f99918d-ef62-497c-9b9a-668f89d0bef4\" xlink:actuate=\"onRequest\" xlink:href=\"psysml:7f99918d-ef62-497c-9b9a-668f89d0bef4\" xlink:show=\"new\" xlink:title=\"psysml:7f99918d-ef62-497c-9b9a-668f89d0bef4\" xlink:type=\"simple\"><path d=\"M167,408.09 C167,408.09 167,493.7 167,493.7 \" fill=\"none\" id=\"E5-&gt;E8\" style=\"stroke: #383838; stroke-width: 1.0;\"/><polygon fill=\"#FFFFFF\" points=\"167,513.7,160,494.7,174,494.7,167,513.7\" style=\"stroke: #383838; stroke-width: 1.0;\"/><ellipse cx=\"162\" cy=\"489\" fill=\"#383838\" rx=\"2\" ry=\"2\" style=\"stroke: #383838; stroke-width: 1.0;\"/><ellipse cx=\"172\" cy=\"489\" fill=\"#383838\" rx=\"2\" ry=\"2\" style=\"stroke: #383838; stroke-width: 1.0;\"/></a><!--MD5=[03c8294790d3c57651a1993cecff665f]\n",
       "reverse link E8 to E3--><a href=\"psysml:8abdebaf-64f0-40cf-a780-4a21932975d8\" target=\"_top\" title=\"psysml:8abdebaf-64f0-40cf-a780-4a21932975d8\" xlink:actuate=\"onRequest\" xlink:href=\"psysml:8abdebaf-64f0-40cf-a780-4a21932975d8\" xlink:show=\"new\" xlink:title=\"psysml:8abdebaf-64f0-40cf-a780-4a21932975d8\" xlink:type=\"simple\"><path d=\"M132,500.56 C132,500.56 132,301.2 132,301.2 \" fill=\"none\" id=\"E8&lt;-E3\" style=\"stroke: #383838; stroke-width: 1.0;\"/><polygon fill=\"#FFFFFF\" points=\"132,513.56,136,507.56,132,501.56,128,507.56,132,513.56\" style=\"stroke: #383838; stroke-width: 1.0;\"/><text fill=\"#000000\" font-family=\"sans-serif\" font-size=\"13\" lengthAdjust=\"spacingAndGlyphs\" textLength=\"7\" x=\"108\" y=\"389.5669\">y</text></a><!--MD5=[0d75d2178373a6a4568e5dc728f58aef]\n",
       "reverse link E8 to E6--><a href=\"psysml:8abdebaf-64f0-40cf-a780-4a21932975d8\" target=\"_top\" title=\"psysml:8abdebaf-64f0-40cf-a780-4a21932975d8\" xlink:actuate=\"onRequest\" xlink:href=\"psysml:8abdebaf-64f0-40cf-a780-4a21932975d8\" xlink:show=\"new\" xlink:title=\"psysml:8abdebaf-64f0-40cf-a780-4a21932975d8\" xlink:type=\"simple\"><path d=\"M148,573.14 C148,573.14 148,636.97 148,636.97 \" fill=\"none\" id=\"E8&lt;-E6\" style=\"stroke: #383838; stroke-width: 1.0;\"/><polygon fill=\"#FFFFFF\" points=\"148,560.14,144,566.14,148,572.14,152,566.14,148,560.14\" style=\"stroke: #383838; stroke-width: 1.0;\"/><text fill=\"#000000\" font-family=\"sans-serif\" font-size=\"13\" lengthAdjust=\"spacingAndGlyphs\" textLength=\"7\" x=\"149\" y=\"603.0669\">y</text></a><!--MD5=[23ac544a70576c3e717098101004234c]\n",
       "reverse link E9 to E10--><a href=\"psysml:4b97f70b-21b5-47d0-9b80-bf68f1206e68\" target=\"_top\" title=\"psysml:4b97f70b-21b5-47d0-9b80-bf68f1206e68\" xlink:actuate=\"onRequest\" xlink:href=\"psysml:4b97f70b-21b5-47d0-9b80-bf68f1206e68\" xlink:show=\"new\" xlink:title=\"psysml:4b97f70b-21b5-47d0-9b80-bf68f1206e68\" xlink:type=\"simple\"><path d=\"M69.75,100.22 C69.75,100.22 69.75,147.83 69.75,147.83 \" fill=\"none\" id=\"E9&lt;-E10\" style=\"stroke: #383838; stroke-width: 1.0;\"/><polygon fill=\"#FFFFFF\" points=\"69.75,87.22,65.75,93.22,69.75,99.22,73.75,93.22,69.75,87.22\" style=\"stroke: #383838; stroke-width: 1.0;\"/><text fill=\"#000000\" font-family=\"sans-serif\" font-size=\"13\" lengthAdjust=\"spacingAndGlyphs\" textLength=\"8\" x=\"64.7609\" y=\"137.0627\">1</text></a><!--MD5=[feeac5eb423634930294aa81f2d25a4c]\n",
       "link E10 to E3--><a href=\"psysml:890b43d2-a44a-4df9-b863-0c7f323950a1\" target=\"_top\" title=\"psysml:890b43d2-a44a-4df9-b863-0c7f323950a1\" xlink:actuate=\"onRequest\" xlink:href=\"psysml:890b43d2-a44a-4df9-b863-0c7f323950a1\" xlink:show=\"new\" xlink:title=\"psysml:890b43d2-a44a-4df9-b863-0c7f323950a1\" xlink:type=\"simple\"><path d=\"M75.57,171 C88.91,171 103.5,171 103.5,171 C103.5,171 103.5,234.78 103.5,234.78 \" fill=\"none\" id=\"E10-&gt;E3\" style=\"stroke: #383838; stroke-width: 1.0;\"/><polygon fill=\"#FFFFFF\" points=\"103.5,254.78,96.5,235.78,110.5,235.78,103.5,254.78\" style=\"stroke: #383838; stroke-width: 1.0;\"/><ellipse cx=\"98.5\" cy=\"230.08\" fill=\"#383838\" rx=\"2\" ry=\"2\" style=\"stroke: #383838; stroke-width: 1.0;\"/><ellipse cx=\"108.5\" cy=\"230.08\" fill=\"#383838\" rx=\"2\" ry=\"2\" style=\"stroke: #383838; stroke-width: 1.0;\"/></a><!--MD5=[1fc04a95fd77ad5ce46c1a3027516051]\n",
       "reverse link E9 to E11--><a href=\"psysml:75cdd26f-47cf-45db-b14e-ba01ceb3edc6\" target=\"_top\" title=\"psysml:75cdd26f-47cf-45db-b14e-ba01ceb3edc6\" xlink:actuate=\"onRequest\" xlink:href=\"psysml:75cdd26f-47cf-45db-b14e-ba01ceb3edc6\" xlink:show=\"new\" xlink:title=\"psysml:75cdd26f-47cf-45db-b14e-ba01ceb3edc6\" xlink:type=\"simple\"><path d=\"M122.25,100.22 C122.25,100.22 122.25,147.83 122.25,147.83 \" fill=\"none\" id=\"E9&lt;-E11\" style=\"stroke: #383838; stroke-width: 1.0;\"/><polygon fill=\"#FFFFFF\" points=\"122.25,87.22,118.25,93.22,122.25,99.22,126.25,93.22,122.25,87.22\" style=\"stroke: #383838; stroke-width: 1.0;\"/><text fill=\"#000000\" font-family=\"sans-serif\" font-size=\"13\" lengthAdjust=\"spacingAndGlyphs\" textLength=\"8\" x=\"110.7266\" y=\"137.0627\">1</text></a><!--MD5=[0517f1ce58c4d5483948f93845c45e26]\n",
       "link E11 to E3--><a href=\"psysml:92dee77c-180b-445a-a05e-737a71661cde\" target=\"_top\" title=\"psysml:92dee77c-180b-445a-a05e-737a71661cde\" xlink:actuate=\"onRequest\" xlink:href=\"psysml:92dee77c-180b-445a-a05e-737a71661cde\" xlink:show=\"new\" xlink:title=\"psysml:92dee77c-180b-445a-a05e-737a71661cde\" xlink:type=\"simple\"><path d=\"M132,194.22 C132,194.22 132,234.83 132,234.83 \" fill=\"none\" id=\"E11-&gt;E3\" style=\"stroke: #383838; stroke-width: 1.0;\"/><polygon fill=\"#FFFFFF\" points=\"132,254.83,125,235.83,139,235.83,132,254.83\" style=\"stroke: #383838; stroke-width: 1.0;\"/><ellipse cx=\"127\" cy=\"230.13\" fill=\"#383838\" rx=\"2\" ry=\"2\" style=\"stroke: #383838; stroke-width: 1.0;\"/><ellipse cx=\"137\" cy=\"230.13\" fill=\"#383838\" rx=\"2\" ry=\"2\" style=\"stroke: #383838; stroke-width: 1.0;\"/></a><!--MD5=[11cc1a67822a71e67f42817bdeba8f72]\n",
       "@startuml\r\n",
       "skinparam linetype ortho\r\n",
       "skinparam monochrome true\r\n",
       "skinparam classbackgroundcolor white\r\n",
       "skinparam shadowing false\r\n",
       "skinparam wrapWidth 300\r\n",
       "hide circle\r\n",
       "\r\n",
       "package \"ItemTest\" as E1  [[psysml:8469bc55-64be-4e75-90cd-bb271a7bb256 ]]  {\r\n",
       "comp usage \"f: A \" as E2  <<(T,blue) item>> [[psysml:6cbf61b0-82f0-477a-9e61-503ee7ef8ab3 ]] {\r\n",
       "}\r\n",
       "comp def \"A\" as E3  <<(T,blue) item  def>> [[psysml:73e4759d-5191-4c8c-b634-f2bc1b43e3a3 ]] {\r\n",
       "}\r\n",
       "comp usage \"b: B \" as E4  <<(T,blue) item>> [[psysml:22dedc78-8a6f-47e7-a1b3-f5299f454177 ]] {\r\n",
       "}\r\n",
       "comp usage \"c: C \" as E5  <<(T,blue) part>> [[psysml:d5b518cb-4e9d-48f6-86e4-811292cf7103 ]] {\r\n",
       "}\r\n",
       "comp def \"<i>B</i>\" as E6  <<(T,blue) item  def>> [[psysml:7fb13a86-95b9-42ac-ac4a-d3cbb2045ff7 ]] {\r\n",
       "}\r\n",
       "comp usage \"<i>a</i>: A \" as E7  <<(T,blue) part>> [[psysml:b4d408e4-c35f-4021-90a0-c54c4c634ca8 ]] {\r\n",
       "}\r\n",
       "comp def \"C\" as E8  <<(T,blue) part  def>> [[psysml:53104107-4f2e-4822-81be-c90629c3152e ]] {\r\n",
       "}\r\n",
       "comp def \"P\" as E9  <<(T,blue) port  def>> [[psysml:96c92d64-4061-42f0-9733-a4ee9bfee5f1 ]] {\r\n",
       "}\r\n",
       "comp usage \"a1: A \" as E10  <<(T,blue) item>> [[psysml:21151bb4-f160-49b9-964a-222b3c2d7b6c ]] {\r\n",
       "}\r\n",
       "comp usage \"a2: A \" as E11  <<(T,blue) item>> [[psysml:048eeab4-ab84-4a9d-8dc8-2b5e8335cff3 ]] {\r\n",
       "}\r\n",
       "}\r\n",
       "E2 - -:|> E3 [[psysml:e70b16f9-62c0-40f3-a087-aa973c352c22 ]] \r\n",
       "E3 *- - \"1\"E4 [[psysml:f5164247-58fc-45c1-bba3-2edebb195fbd ]] \r\n",
       "E3 o- - \"1\"E5 [[psysml:0e10322d-8096-4d1c-ad13-bcf359abd35a ]] \r\n",
       "E4 - -:|> E6 [[psysml:cd799d59-974c-4cd5-b2a4-5d2e853ea550 ]] \r\n",
       "E6 *- - \"1\"E7 [[psysml:f66c29ee-70ba-402f-a3a4-159df7b46130 ]] \r\n",
       "E7 - -:|> E3 [[psysml:4b14459c-c0ea-47eb-ae95-5bdd156140b8 ]] \r\n",
       "E5 - -:|> E8 [[psysml:7f99918d-ef62-497c-9b9a-668f89d0bef4 ]] \r\n",
       "E8 o- - E3 [[psysml:8abdebaf-64f0-40cf-a780-4a21932975d8 ]] : y\r\n",
       "E8 o- - E6 [[psysml:8abdebaf-64f0-40cf-a780-4a21932975d8 ]] : y\r\n",
       "E9 o- - \"1\"E10 [[psysml:4b97f70b-21b5-47d0-9b80-bf68f1206e68 ]] \r\n",
       "E10 - -:|> E3 [[psysml:890b43d2-a44a-4df9-b863-0c7f323950a1 ]] \r\n",
       "E9 o- - \"1\"E11 [[psysml:75cdd26f-47cf-45db-b14e-ba01ceb3edc6 ]] \r\n",
       "E11 - -:|> E3 [[psysml:92dee77c-180b-445a-a05e-737a71661cde ]] \r\n",
       "@enduml\r\n",
       "\n",
       "PlantUML version 1.2020.13(Sat Jun 13 12:26:38 UTC 2020)\n",
       "(EPL source distribution)\n",
       "Java Runtime: OpenJDK Runtime Environment\n",
       "JVM: OpenJDK 64-Bit Server VM\n",
       "Default Encoding: UTF-8\n",
       "Language: en\n",
       "Country: null\n",
       "--></g></svg>"
      ]
     },
     "execution_count": 51,
     "metadata": {},
     "output_type": "execute_result"
    }
   ],
   "source": [
    "%viz --style=\"ORTHOLINE\" --view=\"Default\" \"ItemTest\""
   ]
  },
  {
   "cell_type": "code",
   "execution_count": 52,
   "id": "d9e0b6d3",
   "metadata": {
    "execution": {
     "iopub.execute_input": "2022-03-21T07:49:12.719780Z",
     "iopub.status.busy": "2022-03-21T07:49:12.719382Z",
     "iopub.status.idle": "2022-03-21T07:49:12.765876Z",
     "shell.execute_reply": "2022-03-21T07:49:12.764723Z"
    }
   },
   "outputs": [
    {
     "data": {
      "image/svg+xml": [
       "<?xml version=\"1.0\" encoding=\"UTF-8\" standalone=\"no\"?><svg xmlns=\"http://www.w3.org/2000/svg\" xmlns:xlink=\"http://www.w3.org/1999/xlink\" contentScriptType=\"application/ecmascript\" contentStyleType=\"text/css\" height=\"818px\" preserveAspectRatio=\"none\" style=\"width:270px;height:818px;\" version=\"1.1\" viewBox=\"0 0 270 818\" width=\"270px\" zoomAndPan=\"magnify\"><defs/><g><!--MD5=[fbc87193dbaf4d95561dea2c320d4a47]\n",
       "cluster E1--><a href=\"psysml:8469bc55-64be-4e75-90cd-bb271a7bb256\" target=\"_top\" title=\"psysml:8469bc55-64be-4e75-90cd-bb271a7bb256\" xlink:actuate=\"onRequest\" xlink:href=\"psysml:8469bc55-64be-4e75-90cd-bb271a7bb256\" xlink:show=\"new\" xlink:title=\"psysml:8469bc55-64be-4e75-90cd-bb271a7bb256\" xlink:type=\"simple\"><polygon fill=\"#FFFFFF\" points=\"16,6,83,6,90,28.2969,248,28.2969,248,806,16,806,16,6\" style=\"stroke: #000000; stroke-width: 1.5;\"/><line style=\"stroke: #000000; stroke-width: 1.5;\" x1=\"16\" x2=\"90\" y1=\"28.2969\" y2=\"28.2969\"/><text fill=\"#000000\" font-family=\"sans-serif\" font-size=\"14\" font-weight=\"bold\" lengthAdjust=\"spacingAndGlyphs\" textLength=\"61\" x=\"20\" y=\"20.9951\">ItemTest</text></a><!--MD5=[b4997ac47864f28c2f74865a473b2911]\n",
       "class E2--><a href=\"psysml:6cbf61b0-82f0-477a-9e61-503ee7ef8ab3\" target=\"_top\" title=\"psysml:6cbf61b0-82f0-477a-9e61-503ee7ef8ab3\" xlink:actuate=\"onRequest\" xlink:href=\"psysml:6cbf61b0-82f0-477a-9e61-503ee7ef8ab3\" xlink:show=\"new\" xlink:title=\"psysml:6cbf61b0-82f0-477a-9e61-503ee7ef8ab3\" xlink:type=\"simple\"><rect fill=\"#FFFFFF\" height=\"45.9375\" id=\"E2\" rx=\"10\" ry=\"10\" style=\"stroke: #383838; stroke-width: 1.5;\" width=\"43\" x=\"188.5\" y=\"148\"/><text fill=\"#000000\" font-family=\"sans-serif\" font-size=\"12\" font-style=\"italic\" lengthAdjust=\"spacingAndGlyphs\" textLength=\"41\" x=\"189.5\" y=\"164.1387\">«item»</text><text fill=\"#000000\" font-family=\"sans-serif\" font-size=\"12\" lengthAdjust=\"spacingAndGlyphs\" textLength=\"20\" x=\"198\" y=\"178.1074\">f: A</text><line style=\"stroke: #383838; stroke-width: 1.5;\" x1=\"189.5\" x2=\"230.5\" y1=\"185.9375\" y2=\"185.9375\"/></a><!--MD5=[09b614a08d8cba4a07c9adeb5e0fee81]\n",
       "class E3--><a href=\"psysml:73e4759d-5191-4c8c-b634-f2bc1b43e3a3\" target=\"_top\" title=\"psysml:73e4759d-5191-4c8c-b634-f2bc1b43e3a3\" xlink:actuate=\"onRequest\" xlink:href=\"psysml:73e4759d-5191-4c8c-b634-f2bc1b43e3a3\" xlink:show=\"new\" xlink:title=\"psysml:73e4759d-5191-4c8c-b634-f2bc1b43e3a3\" xlink:type=\"simple\"><rect fill=\"#FFFFFF\" height=\"45.9375\" id=\"E3\" style=\"stroke: #383838; stroke-width: 1.5;\" width=\"71\" x=\"96.5\" y=\"255\"/><text fill=\"#000000\" font-family=\"sans-serif\" font-size=\"12\" font-style=\"italic\" lengthAdjust=\"spacingAndGlyphs\" textLength=\"69\" x=\"97.5\" y=\"271.1387\">«item  def»</text><text fill=\"#000000\" font-family=\"sans-serif\" font-size=\"12\" lengthAdjust=\"spacingAndGlyphs\" textLength=\"8\" x=\"128\" y=\"285.1074\">A</text><line style=\"stroke: #383838; stroke-width: 1.5;\" x1=\"97.5\" x2=\"166.5\" y1=\"292.9375\" y2=\"292.9375\"/></a><!--MD5=[ebbe1d658d1005bcc118a6aa81145e00]\n",
       "class E4--><a href=\"psysml:22dedc78-8a6f-47e7-a1b3-f5299f454177\" target=\"_top\" title=\"psysml:22dedc78-8a6f-47e7-a1b3-f5299f454177\" xlink:actuate=\"onRequest\" xlink:href=\"psysml:22dedc78-8a6f-47e7-a1b3-f5299f454177\" xlink:show=\"new\" xlink:title=\"psysml:22dedc78-8a6f-47e7-a1b3-f5299f454177\" xlink:type=\"simple\"><rect fill=\"#FFFFFF\" height=\"45.9375\" id=\"E4\" rx=\"10\" ry=\"10\" style=\"stroke: #383838; stroke-width: 1.5;\" width=\"43\" x=\"45.5\" y=\"438\"/><text fill=\"#000000\" font-family=\"sans-serif\" font-size=\"12\" font-style=\"italic\" lengthAdjust=\"spacingAndGlyphs\" textLength=\"41\" x=\"46.5\" y=\"454.1387\">«item»</text><text fill=\"#000000\" font-family=\"sans-serif\" font-size=\"12\" lengthAdjust=\"spacingAndGlyphs\" textLength=\"24\" x=\"53\" y=\"468.1074\">b: B</text><line style=\"stroke: #383838; stroke-width: 1.5;\" x1=\"46.5\" x2=\"87.5\" y1=\"475.9375\" y2=\"475.9375\"/></a><!--MD5=[270fce915f116d4de14055a7c1d9a0f3]\n",
       "class E5--><a href=\"psysml:d5b518cb-4e9d-48f6-86e4-811292cf7103\" target=\"_top\" title=\"psysml:d5b518cb-4e9d-48f6-86e4-811292cf7103\" xlink:actuate=\"onRequest\" xlink:href=\"psysml:d5b518cb-4e9d-48f6-86e4-811292cf7103\" xlink:show=\"new\" xlink:title=\"psysml:d5b518cb-4e9d-48f6-86e4-811292cf7103\" xlink:type=\"simple\"><rect fill=\"#FFFFFF\" height=\"45.9375\" id=\"E5\" rx=\"10\" ry=\"10\" style=\"stroke: #383838; stroke-width: 1.5;\" width=\"42\" x=\"151\" y=\"362\"/><text fill=\"#000000\" font-family=\"sans-serif\" font-size=\"12\" font-style=\"italic\" lengthAdjust=\"spacingAndGlyphs\" textLength=\"40\" x=\"152\" y=\"378.1387\">«part»</text><text fill=\"#000000\" font-family=\"sans-serif\" font-size=\"12\" lengthAdjust=\"spacingAndGlyphs\" textLength=\"23\" x=\"158.5\" y=\"392.1074\">c: C</text><line style=\"stroke: #383838; stroke-width: 1.5;\" x1=\"152\" x2=\"192\" y1=\"399.9375\" y2=\"399.9375\"/></a><!--MD5=[60a26617385b1d2d0262a64233df1f8d]\n",
       "class E6--><a href=\"psysml:7fb13a86-95b9-42ac-ac4a-d3cbb2045ff7\" target=\"_top\" title=\"psysml:7fb13a86-95b9-42ac-ac4a-d3cbb2045ff7\" xlink:actuate=\"onRequest\" xlink:href=\"psysml:7fb13a86-95b9-42ac-ac4a-d3cbb2045ff7\" xlink:show=\"new\" xlink:title=\"psysml:7fb13a86-95b9-42ac-ac4a-d3cbb2045ff7\" xlink:type=\"simple\"><rect fill=\"#FFFFFF\" height=\"45.9375\" id=\"E6\" style=\"stroke: #383838; stroke-width: 1.5;\" width=\"71\" x=\"112.5\" y=\"637\"/><text fill=\"#000000\" font-family=\"sans-serif\" font-size=\"12\" font-style=\"italic\" lengthAdjust=\"spacingAndGlyphs\" textLength=\"69\" x=\"113.5\" y=\"653.1387\">«item  def»</text><text fill=\"#000000\" font-family=\"sans-serif\" font-size=\"12\" font-style=\"italic\" lengthAdjust=\"spacingAndGlyphs\" textLength=\"8\" x=\"144\" y=\"667.1074\">B</text><line style=\"stroke: #383838; stroke-width: 1.5;\" x1=\"113.5\" x2=\"182.5\" y1=\"674.9375\" y2=\"674.9375\"/></a><!--MD5=[2156ba9850f5573cc1fc38a6a4b2f02b]\n",
       "class E7--><a href=\"psysml:b4d408e4-c35f-4021-90a0-c54c4c634ca8\" target=\"_top\" title=\"psysml:b4d408e4-c35f-4021-90a0-c54c4c634ca8\" xlink:actuate=\"onRequest\" xlink:href=\"psysml:b4d408e4-c35f-4021-90a0-c54c4c634ca8\" xlink:show=\"new\" xlink:title=\"psysml:b4d408e4-c35f-4021-90a0-c54c4c634ca8\" xlink:type=\"simple\"><rect fill=\"#FFFFFF\" height=\"45.9375\" id=\"E7\" rx=\"10\" ry=\"10\" style=\"stroke: #383838; stroke-width: 1.5;\" width=\"42\" x=\"159\" y=\"744\"/><text fill=\"#000000\" font-family=\"sans-serif\" font-size=\"12\" font-style=\"italic\" lengthAdjust=\"spacingAndGlyphs\" textLength=\"40\" x=\"160\" y=\"760.1387\">«part»</text><text fill=\"#000000\" font-family=\"sans-serif\" font-size=\"12\" font-style=\"italic\" lengthAdjust=\"spacingAndGlyphs\" textLength=\"8\" x=\"166\" y=\"774.1074\">a</text><text fill=\"#000000\" font-family=\"sans-serif\" font-size=\"12\" lengthAdjust=\"spacingAndGlyphs\" textLength=\"16\" x=\"174\" y=\"774.1074\">: A</text><line style=\"stroke: #383838; stroke-width: 1.5;\" x1=\"160\" x2=\"200\" y1=\"781.9375\" y2=\"781.9375\"/></a><!--MD5=[b9389687b975829384b498ac4b7476b2]\n",
       "class E8--><a href=\"psysml:53104107-4f2e-4822-81be-c90629c3152e\" target=\"_top\" title=\"psysml:53104107-4f2e-4822-81be-c90629c3152e\" xlink:actuate=\"onRequest\" xlink:href=\"psysml:53104107-4f2e-4822-81be-c90629c3152e\" xlink:show=\"new\" xlink:title=\"psysml:53104107-4f2e-4822-81be-c90629c3152e\" xlink:type=\"simple\"><rect fill=\"#FFFFFF\" height=\"45.9375\" id=\"E8\" style=\"stroke: #383838; stroke-width: 1.5;\" width=\"70\" x=\"113\" y=\"514\"/><text fill=\"#000000\" font-family=\"sans-serif\" font-size=\"12\" font-style=\"italic\" lengthAdjust=\"spacingAndGlyphs\" textLength=\"68\" x=\"114\" y=\"530.1387\">«part  def»</text><text fill=\"#000000\" font-family=\"sans-serif\" font-size=\"12\" lengthAdjust=\"spacingAndGlyphs\" textLength=\"8\" x=\"144\" y=\"544.1074\">C</text><line style=\"stroke: #383838; stroke-width: 1.5;\" x1=\"114\" x2=\"182\" y1=\"551.9375\" y2=\"551.9375\"/></a><!--MD5=[fd4143e9d270a159db93a4ea2a975926]\n",
       "class E9--><a href=\"psysml:96c92d64-4061-42f0-9733-a4ee9bfee5f1\" target=\"_top\" title=\"psysml:96c92d64-4061-42f0-9733-a4ee9bfee5f1\" xlink:actuate=\"onRequest\" xlink:href=\"psysml:96c92d64-4061-42f0-9733-a4ee9bfee5f1\" xlink:show=\"new\" xlink:title=\"psysml:96c92d64-4061-42f0-9733-a4ee9bfee5f1\" xlink:type=\"simple\"><rect fill=\"#FFFFFF\" height=\"45.9375\" id=\"E9\" style=\"stroke: #383838; stroke-width: 1.5;\" width=\"70\" x=\"64\" y=\"41\"/><text fill=\"#000000\" font-family=\"sans-serif\" font-size=\"12\" font-style=\"italic\" lengthAdjust=\"spacingAndGlyphs\" textLength=\"68\" x=\"65\" y=\"57.1387\">«port  def»</text><text fill=\"#000000\" font-family=\"sans-serif\" font-size=\"12\" lengthAdjust=\"spacingAndGlyphs\" textLength=\"8\" x=\"95\" y=\"71.1074\">P</text><line style=\"stroke: #383838; stroke-width: 1.5;\" x1=\"65\" x2=\"133\" y1=\"78.9375\" y2=\"78.9375\"/></a><!--MD5=[96f4274e9e20536e775497830990834d]\n",
       "class E10--><a href=\"psysml:21151bb4-f160-49b9-964a-222b3c2d7b6c\" target=\"_top\" title=\"psysml:21151bb4-f160-49b9-964a-222b3c2d7b6c\" xlink:actuate=\"onRequest\" xlink:href=\"psysml:21151bb4-f160-49b9-964a-222b3c2d7b6c\" xlink:show=\"new\" xlink:title=\"psysml:21151bb4-f160-49b9-964a-222b3c2d7b6c\" xlink:type=\"simple\"><rect fill=\"#FFFFFF\" height=\"45.9375\" id=\"E10\" rx=\"10\" ry=\"10\" style=\"stroke: #383838; stroke-width: 1.5;\" width=\"43\" x=\"32.5\" y=\"148\"/><text fill=\"#000000\" font-family=\"sans-serif\" font-size=\"12\" font-style=\"italic\" lengthAdjust=\"spacingAndGlyphs\" textLength=\"41\" x=\"33.5\" y=\"164.1387\">«item»</text><text fill=\"#000000\" font-family=\"sans-serif\" font-size=\"12\" lengthAdjust=\"spacingAndGlyphs\" textLength=\"32\" x=\"36\" y=\"178.1074\">a1: A</text><line style=\"stroke: #383838; stroke-width: 1.5;\" x1=\"33.5\" x2=\"74.5\" y1=\"185.9375\" y2=\"185.9375\"/></a><!--MD5=[1dd1bfd58a279cf63c5f349dbc8fc6a1]\n",
       "class E11--><a href=\"psysml:048eeab4-ab84-4a9d-8dc8-2b5e8335cff3\" target=\"_top\" title=\"psysml:048eeab4-ab84-4a9d-8dc8-2b5e8335cff3\" xlink:actuate=\"onRequest\" xlink:href=\"psysml:048eeab4-ab84-4a9d-8dc8-2b5e8335cff3\" xlink:show=\"new\" xlink:title=\"psysml:048eeab4-ab84-4a9d-8dc8-2b5e8335cff3\" xlink:type=\"simple\"><rect fill=\"#FFFFFF\" height=\"45.9375\" id=\"E11\" rx=\"10\" ry=\"10\" style=\"stroke: #383838; stroke-width: 1.5;\" width=\"43\" x=\"110.5\" y=\"148\"/><text fill=\"#000000\" font-family=\"sans-serif\" font-size=\"12\" font-style=\"italic\" lengthAdjust=\"spacingAndGlyphs\" textLength=\"41\" x=\"111.5\" y=\"164.1387\">«item»</text><text fill=\"#000000\" font-family=\"sans-serif\" font-size=\"12\" lengthAdjust=\"spacingAndGlyphs\" textLength=\"32\" x=\"114\" y=\"178.1074\">a2: A</text><line style=\"stroke: #383838; stroke-width: 1.5;\" x1=\"111.5\" x2=\"152.5\" y1=\"185.9375\" y2=\"185.9375\"/></a><!--MD5=[2720a5a1f2c3fca2055b230370638851]\n",
       "link E2 to E3--><a href=\"psysml:e70b16f9-62c0-40f3-a087-aa973c352c22\" target=\"_top\" title=\"psysml:e70b16f9-62c0-40f3-a087-aa973c352c22\" xlink:actuate=\"onRequest\" xlink:href=\"psysml:e70b16f9-62c0-40f3-a087-aa973c352c22\" xlink:show=\"new\" xlink:title=\"psysml:e70b16f9-62c0-40f3-a087-aa973c352c22\" xlink:type=\"simple\"><path d=\"M188.43,171 C175.09,171 160.5,171 160.5,171 C160.5,171 160.5,234.78 160.5,234.78 \" fill=\"none\" id=\"E2-&gt;E3\" style=\"stroke: #383838; stroke-width: 1.0;\"/><polygon fill=\"#FFFFFF\" points=\"160.5,254.78,153.5,235.78,167.5,235.78,160.5,254.78\" style=\"stroke: #383838; stroke-width: 1.0;\"/><ellipse cx=\"155.5\" cy=\"230.08\" fill=\"#383838\" rx=\"2\" ry=\"2\" style=\"stroke: #383838; stroke-width: 1.0;\"/><ellipse cx=\"165.5\" cy=\"230.08\" fill=\"#383838\" rx=\"2\" ry=\"2\" style=\"stroke: #383838; stroke-width: 1.0;\"/></a><!--MD5=[4672eba38e49728da53d11aeb285b987]\n",
       "reverse link E3 to E4--><a href=\"psysml:f5164247-58fc-45c1-bba3-2edebb195fbd\" target=\"_top\" title=\"psysml:f5164247-58fc-45c1-bba3-2edebb195fbd\" xlink:actuate=\"onRequest\" xlink:href=\"psysml:f5164247-58fc-45c1-bba3-2edebb195fbd\" xlink:show=\"new\" xlink:title=\"psysml:f5164247-58fc-45c1-bba3-2edebb195fbd\" xlink:type=\"simple\"><path d=\"M83.46,278 C83.46,278 82,278 82,278 C82,278 82,388.58 82,437.82 \" fill=\"none\" id=\"E3&lt;-E4\" style=\"stroke: #383838; stroke-width: 1.0;\"/><polygon fill=\"#383838\" points=\"96.46,278,90.46,274,84.46,278,90.46,282,96.46,278\" style=\"stroke: #383838; stroke-width: 1.0;\"/><text fill=\"#000000\" font-family=\"sans-serif\" font-size=\"13\" lengthAdjust=\"spacingAndGlyphs\" textLength=\"8\" x=\"76.8188\" y=\"427.0502\">1</text></a><!--MD5=[191cde3d490a3f6d7bb551fe3ddca469]\n",
       "reverse link E3 to E5--><a href=\"psysml:0e10322d-8096-4d1c-ad13-bcf359abd35a\" target=\"_top\" title=\"psysml:0e10322d-8096-4d1c-ad13-bcf359abd35a\" xlink:actuate=\"onRequest\" xlink:href=\"psysml:0e10322d-8096-4d1c-ad13-bcf359abd35a\" xlink:show=\"new\" xlink:title=\"psysml:0e10322d-8096-4d1c-ad13-bcf359abd35a\" xlink:type=\"simple\"><path d=\"M159.25,314.22 C159.25,314.22 159.25,361.83 159.25,361.83 \" fill=\"none\" id=\"E3&lt;-E5\" style=\"stroke: #383838; stroke-width: 1.0;\"/><polygon fill=\"#FFFFFF\" points=\"159.25,301.22,155.25,307.22,159.25,313.22,163.25,307.22,159.25,301.22\" style=\"stroke: #383838; stroke-width: 1.0;\"/><text fill=\"#000000\" font-family=\"sans-serif\" font-size=\"13\" lengthAdjust=\"spacingAndGlyphs\" textLength=\"8\" x=\"146.9578\" y=\"351.0627\">1</text></a><!--MD5=[79568f1e445c3877b6a54524624ccc7d]\n",
       "link E4 to E6--><a href=\"psysml:cd799d59-974c-4cd5-b2a4-5d2e853ea550\" target=\"_top\" title=\"psysml:cd799d59-974c-4cd5-b2a4-5d2e853ea550\" xlink:actuate=\"onRequest\" xlink:href=\"psysml:cd799d59-974c-4cd5-b2a4-5d2e853ea550\" xlink:show=\"new\" xlink:title=\"psysml:cd799d59-974c-4cd5-b2a4-5d2e853ea550\" xlink:type=\"simple\"><path d=\"M67,484.22 C67,536.71 67,660 67,660 C67,660 92.24,660 92.24,660 \" fill=\"none\" id=\"E4-&gt;E6\" style=\"stroke: #383838; stroke-width: 1.0;\"/><polygon fill=\"#FFFFFF\" points=\"112.24,660,93.24,667,93.24,653,112.24,660\" style=\"stroke: #383838; stroke-width: 1.0;\"/><ellipse cx=\"87.54\" cy=\"665\" fill=\"#383838\" rx=\"2\" ry=\"2\" style=\"stroke: #383838; stroke-width: 1.0;\"/><ellipse cx=\"87.54\" cy=\"655\" fill=\"#383838\" rx=\"2\" ry=\"2\" style=\"stroke: #383838; stroke-width: 1.0;\"/></a><!--MD5=[3f50a3473f1dfb74d3f76443e03635af]\n",
       "reverse link E6 to E7--><a href=\"psysml:f66c29ee-70ba-402f-a3a4-159df7b46130\" target=\"_top\" title=\"psysml:f66c29ee-70ba-402f-a3a4-159df7b46130\" xlink:actuate=\"onRequest\" xlink:href=\"psysml:f66c29ee-70ba-402f-a3a4-159df7b46130\" xlink:show=\"new\" xlink:title=\"psysml:f66c29ee-70ba-402f-a3a4-159df7b46130\" xlink:type=\"simple\"><path d=\"M171.25,696.22 C171.25,696.22 171.25,743.83 171.25,743.83 \" fill=\"none\" id=\"E6&lt;-E7\" style=\"stroke: #383838; stroke-width: 1.0;\"/><polygon fill=\"#383838\" points=\"171.25,683.22,167.25,689.22,171.25,695.22,175.25,689.22,171.25,683.22\" style=\"stroke: #383838; stroke-width: 1.0;\"/><text fill=\"#000000\" font-family=\"sans-serif\" font-size=\"13\" lengthAdjust=\"spacingAndGlyphs\" textLength=\"8\" x=\"159.9828\" y=\"733.0627\">1</text></a><!--MD5=[14ccda38c055a5c0da953d572bc50960]\n",
       "link E7 to E3--><a href=\"psysml:4b14459c-c0ea-47eb-ae95-5bdd156140b8\" target=\"_top\" title=\"psysml:4b14459c-c0ea-47eb-ae95-5bdd156140b8\" xlink:actuate=\"onRequest\" xlink:href=\"psysml:4b14459c-c0ea-47eb-ae95-5bdd156140b8\" xlink:show=\"new\" xlink:title=\"psysml:4b14459c-c0ea-47eb-ae95-5bdd156140b8\" xlink:type=\"simple\"><path d=\"M197,743.74 C197,646.56 197,278 197,278 C197,278 187.54,278 187.54,278 \" fill=\"none\" id=\"E7-&gt;E3\" style=\"stroke: #383838; stroke-width: 1.0;\"/><polygon fill=\"#FFFFFF\" points=\"167.54,278,186.54,271,186.54,285,167.54,278\" style=\"stroke: #383838; stroke-width: 1.0;\"/><ellipse cx=\"192.24\" cy=\"273\" fill=\"#383838\" rx=\"2\" ry=\"2\" style=\"stroke: #383838; stroke-width: 1.0;\"/><ellipse cx=\"192.24\" cy=\"283\" fill=\"#383838\" rx=\"2\" ry=\"2\" style=\"stroke: #383838; stroke-width: 1.0;\"/></a><!--MD5=[dfaffb906826c3e5aca635516100ff21]\n",
       "link E5 to E8--><a href=\"psysml:7f99918d-ef62-497c-9b9a-668f89d0bef4\" target=\"_top\" title=\"psysml:7f99918d-ef62-497c-9b9a-668f89d0bef4\" xlink:actuate=\"onRequest\" xlink:href=\"psysml:7f99918d-ef62-497c-9b9a-668f89d0bef4\" xlink:show=\"new\" xlink:title=\"psysml:7f99918d-ef62-497c-9b9a-668f89d0bef4\" xlink:type=\"simple\"><path d=\"M167,408.09 C167,408.09 167,493.7 167,493.7 \" fill=\"none\" id=\"E5-&gt;E8\" style=\"stroke: #383838; stroke-width: 1.0;\"/><polygon fill=\"#FFFFFF\" points=\"167,513.7,160,494.7,174,494.7,167,513.7\" style=\"stroke: #383838; stroke-width: 1.0;\"/><ellipse cx=\"162\" cy=\"489\" fill=\"#383838\" rx=\"2\" ry=\"2\" style=\"stroke: #383838; stroke-width: 1.0;\"/><ellipse cx=\"172\" cy=\"489\" fill=\"#383838\" rx=\"2\" ry=\"2\" style=\"stroke: #383838; stroke-width: 1.0;\"/></a><!--MD5=[03c8294790d3c57651a1993cecff665f]\n",
       "reverse link E8 to E3--><a href=\"psysml:8abdebaf-64f0-40cf-a780-4a21932975d8\" target=\"_top\" title=\"psysml:8abdebaf-64f0-40cf-a780-4a21932975d8\" xlink:actuate=\"onRequest\" xlink:href=\"psysml:8abdebaf-64f0-40cf-a780-4a21932975d8\" xlink:show=\"new\" xlink:title=\"psysml:8abdebaf-64f0-40cf-a780-4a21932975d8\" xlink:type=\"simple\"><path d=\"M132,500.56 C132,500.56 132,301.2 132,301.2 \" fill=\"none\" id=\"E8&lt;-E3\" style=\"stroke: #383838; stroke-width: 1.0;\"/><polygon fill=\"#FFFFFF\" points=\"132,513.56,136,507.56,132,501.56,128,507.56,132,513.56\" style=\"stroke: #383838; stroke-width: 1.0;\"/><text fill=\"#000000\" font-family=\"sans-serif\" font-size=\"13\" lengthAdjust=\"spacingAndGlyphs\" textLength=\"7\" x=\"108\" y=\"389.5669\">y</text></a><!--MD5=[0d75d2178373a6a4568e5dc728f58aef]\n",
       "reverse link E8 to E6--><a href=\"psysml:8abdebaf-64f0-40cf-a780-4a21932975d8\" target=\"_top\" title=\"psysml:8abdebaf-64f0-40cf-a780-4a21932975d8\" xlink:actuate=\"onRequest\" xlink:href=\"psysml:8abdebaf-64f0-40cf-a780-4a21932975d8\" xlink:show=\"new\" xlink:title=\"psysml:8abdebaf-64f0-40cf-a780-4a21932975d8\" xlink:type=\"simple\"><path d=\"M148,573.14 C148,573.14 148,636.97 148,636.97 \" fill=\"none\" id=\"E8&lt;-E6\" style=\"stroke: #383838; stroke-width: 1.0;\"/><polygon fill=\"#FFFFFF\" points=\"148,560.14,144,566.14,148,572.14,152,566.14,148,560.14\" style=\"stroke: #383838; stroke-width: 1.0;\"/><text fill=\"#000000\" font-family=\"sans-serif\" font-size=\"13\" lengthAdjust=\"spacingAndGlyphs\" textLength=\"7\" x=\"149\" y=\"603.0669\">y</text></a><!--MD5=[23ac544a70576c3e717098101004234c]\n",
       "reverse link E9 to E10--><a href=\"psysml:4b97f70b-21b5-47d0-9b80-bf68f1206e68\" target=\"_top\" title=\"psysml:4b97f70b-21b5-47d0-9b80-bf68f1206e68\" xlink:actuate=\"onRequest\" xlink:href=\"psysml:4b97f70b-21b5-47d0-9b80-bf68f1206e68\" xlink:show=\"new\" xlink:title=\"psysml:4b97f70b-21b5-47d0-9b80-bf68f1206e68\" xlink:type=\"simple\"><path d=\"M69.75,100.22 C69.75,100.22 69.75,147.83 69.75,147.83 \" fill=\"none\" id=\"E9&lt;-E10\" style=\"stroke: #383838; stroke-width: 1.0;\"/><polygon fill=\"#FFFFFF\" points=\"69.75,87.22,65.75,93.22,69.75,99.22,73.75,93.22,69.75,87.22\" style=\"stroke: #383838; stroke-width: 1.0;\"/><text fill=\"#000000\" font-family=\"sans-serif\" font-size=\"13\" lengthAdjust=\"spacingAndGlyphs\" textLength=\"8\" x=\"64.7609\" y=\"137.0627\">1</text></a><!--MD5=[feeac5eb423634930294aa81f2d25a4c]\n",
       "link E10 to E3--><a href=\"psysml:890b43d2-a44a-4df9-b863-0c7f323950a1\" target=\"_top\" title=\"psysml:890b43d2-a44a-4df9-b863-0c7f323950a1\" xlink:actuate=\"onRequest\" xlink:href=\"psysml:890b43d2-a44a-4df9-b863-0c7f323950a1\" xlink:show=\"new\" xlink:title=\"psysml:890b43d2-a44a-4df9-b863-0c7f323950a1\" xlink:type=\"simple\"><path d=\"M75.57,171 C88.91,171 103.5,171 103.5,171 C103.5,171 103.5,234.78 103.5,234.78 \" fill=\"none\" id=\"E10-&gt;E3\" style=\"stroke: #383838; stroke-width: 1.0;\"/><polygon fill=\"#FFFFFF\" points=\"103.5,254.78,96.5,235.78,110.5,235.78,103.5,254.78\" style=\"stroke: #383838; stroke-width: 1.0;\"/><ellipse cx=\"98.5\" cy=\"230.08\" fill=\"#383838\" rx=\"2\" ry=\"2\" style=\"stroke: #383838; stroke-width: 1.0;\"/><ellipse cx=\"108.5\" cy=\"230.08\" fill=\"#383838\" rx=\"2\" ry=\"2\" style=\"stroke: #383838; stroke-width: 1.0;\"/></a><!--MD5=[1fc04a95fd77ad5ce46c1a3027516051]\n",
       "reverse link E9 to E11--><a href=\"psysml:75cdd26f-47cf-45db-b14e-ba01ceb3edc6\" target=\"_top\" title=\"psysml:75cdd26f-47cf-45db-b14e-ba01ceb3edc6\" xlink:actuate=\"onRequest\" xlink:href=\"psysml:75cdd26f-47cf-45db-b14e-ba01ceb3edc6\" xlink:show=\"new\" xlink:title=\"psysml:75cdd26f-47cf-45db-b14e-ba01ceb3edc6\" xlink:type=\"simple\"><path d=\"M122.25,100.22 C122.25,100.22 122.25,147.83 122.25,147.83 \" fill=\"none\" id=\"E9&lt;-E11\" style=\"stroke: #383838; stroke-width: 1.0;\"/><polygon fill=\"#FFFFFF\" points=\"122.25,87.22,118.25,93.22,122.25,99.22,126.25,93.22,122.25,87.22\" style=\"stroke: #383838; stroke-width: 1.0;\"/><text fill=\"#000000\" font-family=\"sans-serif\" font-size=\"13\" lengthAdjust=\"spacingAndGlyphs\" textLength=\"8\" x=\"110.7266\" y=\"137.0627\">1</text></a><!--MD5=[0517f1ce58c4d5483948f93845c45e26]\n",
       "link E11 to E3--><a href=\"psysml:92dee77c-180b-445a-a05e-737a71661cde\" target=\"_top\" title=\"psysml:92dee77c-180b-445a-a05e-737a71661cde\" xlink:actuate=\"onRequest\" xlink:href=\"psysml:92dee77c-180b-445a-a05e-737a71661cde\" xlink:show=\"new\" xlink:title=\"psysml:92dee77c-180b-445a-a05e-737a71661cde\" xlink:type=\"simple\"><path d=\"M132,194.22 C132,194.22 132,234.83 132,234.83 \" fill=\"none\" id=\"E11-&gt;E3\" style=\"stroke: #383838; stroke-width: 1.0;\"/><polygon fill=\"#FFFFFF\" points=\"132,254.83,125,235.83,139,235.83,132,254.83\" style=\"stroke: #383838; stroke-width: 1.0;\"/><ellipse cx=\"127\" cy=\"230.13\" fill=\"#383838\" rx=\"2\" ry=\"2\" style=\"stroke: #383838; stroke-width: 1.0;\"/><ellipse cx=\"137\" cy=\"230.13\" fill=\"#383838\" rx=\"2\" ry=\"2\" style=\"stroke: #383838; stroke-width: 1.0;\"/></a><!--MD5=[11cc1a67822a71e67f42817bdeba8f72]\n",
       "@startuml\r\n",
       "skinparam linetype ortho\r\n",
       "skinparam monochrome true\r\n",
       "skinparam classbackgroundcolor white\r\n",
       "skinparam shadowing false\r\n",
       "skinparam wrapWidth 300\r\n",
       "hide circle\r\n",
       "\r\n",
       "package \"ItemTest\" as E1  [[psysml:8469bc55-64be-4e75-90cd-bb271a7bb256 ]]  {\r\n",
       "comp usage \"f: A \" as E2  <<(T,blue) item>> [[psysml:6cbf61b0-82f0-477a-9e61-503ee7ef8ab3 ]] {\r\n",
       "}\r\n",
       "comp def \"A\" as E3  <<(T,blue) item  def>> [[psysml:73e4759d-5191-4c8c-b634-f2bc1b43e3a3 ]] {\r\n",
       "}\r\n",
       "comp usage \"b: B \" as E4  <<(T,blue) item>> [[psysml:22dedc78-8a6f-47e7-a1b3-f5299f454177 ]] {\r\n",
       "}\r\n",
       "comp usage \"c: C \" as E5  <<(T,blue) part>> [[psysml:d5b518cb-4e9d-48f6-86e4-811292cf7103 ]] {\r\n",
       "}\r\n",
       "comp def \"<i>B</i>\" as E6  <<(T,blue) item  def>> [[psysml:7fb13a86-95b9-42ac-ac4a-d3cbb2045ff7 ]] {\r\n",
       "}\r\n",
       "comp usage \"<i>a</i>: A \" as E7  <<(T,blue) part>> [[psysml:b4d408e4-c35f-4021-90a0-c54c4c634ca8 ]] {\r\n",
       "}\r\n",
       "comp def \"C\" as E8  <<(T,blue) part  def>> [[psysml:53104107-4f2e-4822-81be-c90629c3152e ]] {\r\n",
       "}\r\n",
       "comp def \"P\" as E9  <<(T,blue) port  def>> [[psysml:96c92d64-4061-42f0-9733-a4ee9bfee5f1 ]] {\r\n",
       "}\r\n",
       "comp usage \"a1: A \" as E10  <<(T,blue) item>> [[psysml:21151bb4-f160-49b9-964a-222b3c2d7b6c ]] {\r\n",
       "}\r\n",
       "comp usage \"a2: A \" as E11  <<(T,blue) item>> [[psysml:048eeab4-ab84-4a9d-8dc8-2b5e8335cff3 ]] {\r\n",
       "}\r\n",
       "}\r\n",
       "E2 - -:|> E3 [[psysml:e70b16f9-62c0-40f3-a087-aa973c352c22 ]] \r\n",
       "E3 *- - \"1\"E4 [[psysml:f5164247-58fc-45c1-bba3-2edebb195fbd ]] \r\n",
       "E3 o- - \"1\"E5 [[psysml:0e10322d-8096-4d1c-ad13-bcf359abd35a ]] \r\n",
       "E4 - -:|> E6 [[psysml:cd799d59-974c-4cd5-b2a4-5d2e853ea550 ]] \r\n",
       "E6 *- - \"1\"E7 [[psysml:f66c29ee-70ba-402f-a3a4-159df7b46130 ]] \r\n",
       "E7 - -:|> E3 [[psysml:4b14459c-c0ea-47eb-ae95-5bdd156140b8 ]] \r\n",
       "E5 - -:|> E8 [[psysml:7f99918d-ef62-497c-9b9a-668f89d0bef4 ]] \r\n",
       "E8 o- - E3 [[psysml:8abdebaf-64f0-40cf-a780-4a21932975d8 ]] : y\r\n",
       "E8 o- - E6 [[psysml:8abdebaf-64f0-40cf-a780-4a21932975d8 ]] : y\r\n",
       "E9 o- - \"1\"E10 [[psysml:4b97f70b-21b5-47d0-9b80-bf68f1206e68 ]] \r\n",
       "E10 - -:|> E3 [[psysml:890b43d2-a44a-4df9-b863-0c7f323950a1 ]] \r\n",
       "E9 o- - \"1\"E11 [[psysml:75cdd26f-47cf-45db-b14e-ba01ceb3edc6 ]] \r\n",
       "E11 - -:|> E3 [[psysml:92dee77c-180b-445a-a05e-737a71661cde ]] \r\n",
       "@enduml\r\n",
       "\n",
       "PlantUML version 1.2020.13(Sat Jun 13 12:26:38 UTC 2020)\n",
       "(EPL source distribution)\n",
       "Java Runtime: OpenJDK Runtime Environment\n",
       "JVM: OpenJDK 64-Bit Server VM\n",
       "Default Encoding: UTF-8\n",
       "Language: en\n",
       "Country: null\n",
       "--></g></svg>"
      ]
     },
     "execution_count": 52,
     "metadata": {},
     "output_type": "execute_result"
    }
   ],
   "source": [
    "%viz --style=\"ORTHOLINE\" --view=\"Tree\" \"ItemTest\""
   ]
  },
  {
   "cell_type": "code",
   "execution_count": 53,
   "id": "c2f5dd8a",
   "metadata": {
    "execution": {
     "iopub.execute_input": "2022-03-21T07:49:12.815555Z",
     "iopub.status.busy": "2022-03-21T07:49:12.815162Z",
     "iopub.status.idle": "2022-03-21T07:49:12.820087Z",
     "shell.execute_reply": "2022-03-21T07:49:12.819761Z"
    }
   },
   "outputs": [
    {
     "data": {
      "image/svg+xml": [
       "<?xml version=\"1.0\" encoding=\"UTF-8\" standalone=\"no\"?><svg xmlns=\"http://www.w3.org/2000/svg\" xmlns:xlink=\"http://www.w3.org/1999/xlink\" contentScriptType=\"application/ecmascript\" contentStyleType=\"text/css\" height=\"12px\" preserveAspectRatio=\"none\" style=\"width:12px;height:12px;\" version=\"1.1\" viewBox=\"0 0 12 12\" width=\"12px\" zoomAndPan=\"magnify\"><defs/><g><!--MD5=[97d6f38768b311333d388e66b2b27985]\n",
       "@startuml\r\n",
       "skinparam linetype ortho\r\n",
       "skinparam monochrome true\r\n",
       "skinparam classbackgroundcolor white\r\n",
       "skinparam shadowing false\r\n",
       "skinparam wrapWidth 300\r\n",
       "hide circle\r\n",
       "\r\n",
       "@enduml\r\n",
       "\n",
       "PlantUML version 1.2020.13(Sat Jun 13 12:26:38 UTC 2020)\n",
       "(EPL source distribution)\n",
       "Java Runtime: OpenJDK Runtime Environment\n",
       "JVM: OpenJDK 64-Bit Server VM\n",
       "Default Encoding: UTF-8\n",
       "Language: en\n",
       "Country: null\n",
       "--></g></svg>"
      ]
     },
     "execution_count": 53,
     "metadata": {},
     "output_type": "execute_result"
    }
   ],
   "source": [
    "%viz --style=\"ORTHOLINE\" --view=\"State\" \"ItemTest\""
   ]
  },
  {
   "cell_type": "code",
   "execution_count": 54,
   "id": "1e651d98",
   "metadata": {
    "execution": {
     "iopub.execute_input": "2022-03-21T07:49:12.869919Z",
     "iopub.status.busy": "2022-03-21T07:49:12.869531Z",
     "iopub.status.idle": "2022-03-21T07:49:12.896144Z",
     "shell.execute_reply": "2022-03-21T07:49:12.894861Z"
    }
   },
   "outputs": [
    {
     "data": {
      "image/svg+xml": [
       "<?xml version=\"1.0\" encoding=\"UTF-8\" standalone=\"no\"?><svg xmlns=\"http://www.w3.org/2000/svg\" xmlns:xlink=\"http://www.w3.org/1999/xlink\" contentScriptType=\"application/ecmascript\" contentStyleType=\"text/css\" height=\"112px\" preserveAspectRatio=\"none\" style=\"width:563px;height:112px;\" version=\"1.1\" viewBox=\"0 0 563 112\" width=\"563px\" zoomAndPan=\"magnify\"><defs/><g><!--MD5=[fbc87193dbaf4d95561dea2c320d4a47]\n",
       "cluster E1--><a href=\"psysml:8469bc55-64be-4e75-90cd-bb271a7bb256\" target=\"_top\" title=\"psysml:8469bc55-64be-4e75-90cd-bb271a7bb256\" xlink:actuate=\"onRequest\" xlink:href=\"psysml:8469bc55-64be-4e75-90cd-bb271a7bb256\" xlink:show=\"new\" xlink:title=\"psysml:8469bc55-64be-4e75-90cd-bb271a7bb256\" xlink:type=\"simple\"><polygon fill=\"#FFFFFF\" points=\"16,6,83,6,90,28.2969,541,28.2969,541,100,16,100,16,6\" style=\"stroke: #000000; stroke-width: 1.5;\"/><line style=\"stroke: #000000; stroke-width: 1.5;\" x1=\"16\" x2=\"90\" y1=\"28.2969\" y2=\"28.2969\"/><text fill=\"#000000\" font-family=\"sans-serif\" font-size=\"14\" font-weight=\"bold\" lengthAdjust=\"spacingAndGlyphs\" textLength=\"61\" x=\"20\" y=\"20.9951\">ItemTest</text></a><g id=\"E1.E3\"><a href=\"psysml:73e4759d-5191-4c8c-b634-f2bc1b43e3a3\" target=\"_top\" title=\"psysml:73e4759d-5191-4c8c-b634-f2bc1b43e3a3\" xlink:actuate=\"onRequest\" xlink:href=\"psysml:73e4759d-5191-4c8c-b634-f2bc1b43e3a3\" xlink:show=\"new\" xlink:title=\"psysml:73e4759d-5191-4c8c-b634-f2bc1b43e3a3\" xlink:type=\"simple\"><rect fill=\"#FFFFFF\" height=\"42.9375\" id=\"E3\" style=\"stroke: #383838; stroke-width: 1.5;\" width=\"76\" x=\"449\" y=\"41\"/><rect fill=\"#F8F8F8\" height=\"37.9375\" style=\"stroke: #383838; stroke-width: 1.5;\" width=\"76\" x=\"449\" y=\"41\"/><text fill=\"#000000\" font-family=\"sans-serif\" font-size=\"12\" font-style=\"italic\" lengthAdjust=\"spacingAndGlyphs\" textLength=\"69\" x=\"452.5\" y=\"57.1387\">«item  def»</text><text fill=\"#000000\" font-family=\"sans-serif\" font-size=\"12\" lengthAdjust=\"spacingAndGlyphs\" textLength=\"8\" x=\"483\" y=\"71.1074\">A</text></a></g><g id=\"E1.E4\"><a href=\"psysml:7fb13a86-95b9-42ac-ac4a-d3cbb2045ff7\" target=\"_top\" title=\"psysml:7fb13a86-95b9-42ac-ac4a-d3cbb2045ff7\" xlink:actuate=\"onRequest\" xlink:href=\"psysml:7fb13a86-95b9-42ac-ac4a-d3cbb2045ff7\" xlink:show=\"new\" xlink:title=\"psysml:7fb13a86-95b9-42ac-ac4a-d3cbb2045ff7\" xlink:type=\"simple\"><rect fill=\"#FFFFFF\" height=\"42.9375\" id=\"E4\" style=\"stroke: #383838; stroke-width: 1.5;\" width=\"76\" x=\"338\" y=\"41\"/><rect fill=\"#F8F8F8\" height=\"37.9375\" style=\"stroke: #383838; stroke-width: 1.5;\" width=\"76\" x=\"338\" y=\"41\"/><text fill=\"#000000\" font-family=\"sans-serif\" font-size=\"12\" font-style=\"italic\" lengthAdjust=\"spacingAndGlyphs\" textLength=\"69\" x=\"341.5\" y=\"57.1387\">«item  def»</text><text fill=\"#000000\" font-family=\"sans-serif\" font-size=\"12\" font-style=\"italic\" lengthAdjust=\"spacingAndGlyphs\" textLength=\"8\" x=\"372\" y=\"71.1074\">B</text></a></g><g id=\"E1.E6\"><a href=\"psysml:96c92d64-4061-42f0-9733-a4ee9bfee5f1\" target=\"_top\" title=\"psysml:96c92d64-4061-42f0-9733-a4ee9bfee5f1\" xlink:actuate=\"onRequest\" xlink:href=\"psysml:96c92d64-4061-42f0-9733-a4ee9bfee5f1\" xlink:show=\"new\" xlink:title=\"psysml:96c92d64-4061-42f0-9733-a4ee9bfee5f1\" xlink:type=\"simple\"><rect fill=\"#FFFFFF\" height=\"42.9375\" id=\"E6\" style=\"stroke: #383838; stroke-width: 1.5;\" width=\"75\" x=\"227.5\" y=\"41\"/><rect fill=\"#F8F8F8\" height=\"37.9375\" style=\"stroke: #383838; stroke-width: 1.5;\" width=\"75\" x=\"227.5\" y=\"41\"/><text fill=\"#000000\" font-family=\"sans-serif\" font-size=\"12\" font-style=\"italic\" lengthAdjust=\"spacingAndGlyphs\" textLength=\"68\" x=\"231\" y=\"57.1387\">«port  def»</text><text fill=\"#000000\" font-family=\"sans-serif\" font-size=\"12\" lengthAdjust=\"spacingAndGlyphs\" textLength=\"8\" x=\"261\" y=\"71.1074\">P</text></a></g><g id=\"E1.E2\"><a href=\"psysml:6cbf61b0-82f0-477a-9e61-503ee7ef8ab3\" target=\"_top\" title=\"psysml:6cbf61b0-82f0-477a-9e61-503ee7ef8ab3\" xlink:actuate=\"onRequest\" xlink:href=\"psysml:6cbf61b0-82f0-477a-9e61-503ee7ef8ab3\" xlink:show=\"new\" xlink:title=\"psysml:6cbf61b0-82f0-477a-9e61-503ee7ef8ab3\" xlink:type=\"simple\"><rect fill=\"#FFFFFF\" height=\"42.9375\" id=\"E2\" rx=\"10\" ry=\"10\" style=\"stroke: #383838; stroke-width: 1.5;\" width=\"50\" x=\"142\" y=\"41\"/><rect fill=\"#F8F8F8\" height=\"37.9375\" rx=\"10\" ry=\"10\" style=\"stroke: #F8F8F8; stroke-width: 1.5;\" width=\"50\" x=\"142\" y=\"41\"/><rect fill=\"#F8F8F8\" height=\"10\" style=\"stroke: #F8F8F8; stroke-width: 1.5;\" width=\"50\" x=\"142\" y=\"68.9375\"/><rect fill=\"none\" height=\"42.9375\" id=\"E2\" rx=\"10\" ry=\"10\" style=\"stroke: #383838; stroke-width: 1.5;\" width=\"50\" x=\"142\" y=\"41\"/><text fill=\"#000000\" font-family=\"sans-serif\" font-size=\"12\" font-style=\"italic\" lengthAdjust=\"spacingAndGlyphs\" textLength=\"41\" x=\"146.5\" y=\"57.1387\">«item»</text><text fill=\"#000000\" font-family=\"sans-serif\" font-size=\"12\" lengthAdjust=\"spacingAndGlyphs\" textLength=\"20\" x=\"157\" y=\"71.1074\">f: A</text></a></g><g id=\"E1.E5\"><a href=\"psysml:53104107-4f2e-4822-81be-c90629c3152e\" target=\"_top\" title=\"psysml:53104107-4f2e-4822-81be-c90629c3152e\" xlink:actuate=\"onRequest\" xlink:href=\"psysml:53104107-4f2e-4822-81be-c90629c3152e\" xlink:show=\"new\" xlink:title=\"psysml:53104107-4f2e-4822-81be-c90629c3152e\" xlink:type=\"simple\"><rect fill=\"#FFFFFF\" height=\"42.9375\" id=\"E5\" style=\"stroke: #383838; stroke-width: 1.5;\" width=\"75\" x=\"31.5\" y=\"41\"/><rect fill=\"#F8F8F8\" height=\"37.9375\" style=\"stroke: #383838; stroke-width: 1.5;\" width=\"75\" x=\"31.5\" y=\"41\"/><text fill=\"#000000\" font-family=\"sans-serif\" font-size=\"12\" font-style=\"italic\" lengthAdjust=\"spacingAndGlyphs\" textLength=\"68\" x=\"35\" y=\"57.1387\">«part  def»</text><text fill=\"#000000\" font-family=\"sans-serif\" font-size=\"12\" lengthAdjust=\"spacingAndGlyphs\" textLength=\"8\" x=\"65\" y=\"71.1074\">C</text></a></g><!--MD5=[f2b0a9cc401acbb980959b40cabca025]\n",
       "@startuml\r\n",
       "skinparam ranksep 10\r\n",
       "skinparam rectangle {\r\n",
       " backgroundColor<<block>> LightGreen\r\n",
       "}\r\n",
       "skinparam linetype ortho\r\n",
       "skinparam monochrome true\r\n",
       "skinparam classbackgroundcolor white\r\n",
       "skinparam shadowing false\r\n",
       "skinparam wrapWidth 300\r\n",
       "hide circle\r\n",
       "\r\n",
       "package \"ItemTest\" as E1  [[psysml:8469bc55-64be-4e75-90cd-bb271a7bb256 ]]  {\r\n",
       "rec usage \"f: A\" as E2  <<(T,blue) item>> [[psysml:6cbf61b0-82f0-477a-9e61-503ee7ef8ab3 ]] {\r\n",
       "}\r\n",
       "def \"A\" as E3  <<(T,blue) item  def>> [[psysml:73e4759d-5191-4c8c-b634-f2bc1b43e3a3 ]] \r\n",
       "def \"<i>B</i>\" as E4  <<(T,blue) item  def>> [[psysml:7fb13a86-95b9-42ac-ac4a-d3cbb2045ff7 ]] \r\n",
       "rec def \"C\" as E5  <<(T,blue) part  def>> [[psysml:53104107-4f2e-4822-81be-c90629c3152e ]] {\r\n",
       "}\r\n",
       "def \"P\" as E6  <<(T,blue) port  def>> [[psysml:96c92d64-4061-42f0-9733-a4ee9bfee5f1 ]] \r\n",
       "}\r\n",
       "@enduml\r\n",
       "\n",
       "PlantUML version 1.2020.13(Sat Jun 13 12:26:38 UTC 2020)\n",
       "(EPL source distribution)\n",
       "Java Runtime: OpenJDK Runtime Environment\n",
       "JVM: OpenJDK 64-Bit Server VM\n",
       "Default Encoding: UTF-8\n",
       "Language: en\n",
       "Country: null\n",
       "--></g></svg>"
      ]
     },
     "execution_count": 54,
     "metadata": {},
     "output_type": "execute_result"
    }
   ],
   "source": [
    "%viz --style=\"ORTHOLINE\" --view=\"Interconnection\" \"ItemTest\""
   ]
  },
  {
   "cell_type": "code",
   "execution_count": 55,
   "id": "82fbc961",
   "metadata": {
    "execution": {
     "iopub.execute_input": "2022-03-21T07:49:12.945710Z",
     "iopub.status.busy": "2022-03-21T07:49:12.945305Z",
     "iopub.status.idle": "2022-03-21T07:49:12.949679Z",
     "shell.execute_reply": "2022-03-21T07:49:12.949350Z"
    }
   },
   "outputs": [
    {
     "data": {
      "image/svg+xml": [
       "<?xml version=\"1.0\" encoding=\"UTF-8\" standalone=\"no\"?><svg xmlns=\"http://www.w3.org/2000/svg\" xmlns:xlink=\"http://www.w3.org/1999/xlink\" contentScriptType=\"application/ecmascript\" contentStyleType=\"text/css\" height=\"12px\" preserveAspectRatio=\"none\" style=\"width:12px;height:12px;\" version=\"1.1\" viewBox=\"0 0 12 12\" width=\"12px\" zoomAndPan=\"magnify\"><defs/><g><!--MD5=[72934c63077099a26744516a776b4749]\n",
       "@startuml\r\n",
       "skinparam ranksep 8\r\n",
       "skinparam linetype ortho\r\n",
       "skinparam monochrome true\r\n",
       "skinparam classbackgroundcolor white\r\n",
       "skinparam shadowing false\r\n",
       "skinparam wrapWidth 300\r\n",
       "hide circle\r\n",
       "\r\n",
       "@enduml\r\n",
       "\n",
       "PlantUML version 1.2020.13(Sat Jun 13 12:26:38 UTC 2020)\n",
       "(EPL source distribution)\n",
       "Java Runtime: OpenJDK Runtime Environment\n",
       "JVM: OpenJDK 64-Bit Server VM\n",
       "Default Encoding: UTF-8\n",
       "Language: en\n",
       "Country: null\n",
       "--></g></svg>"
      ]
     },
     "execution_count": 55,
     "metadata": {},
     "output_type": "execute_result"
    }
   ],
   "source": [
    "%viz --style=\"ORTHOLINE\" --view=\"Action\" \"ItemTest\""
   ]
  },
  {
   "cell_type": "code",
   "execution_count": 56,
   "id": "d0a802ce",
   "metadata": {
    "execution": {
     "iopub.execute_input": "2022-03-21T07:49:12.999526Z",
     "iopub.status.busy": "2022-03-21T07:49:12.999135Z",
     "iopub.status.idle": "2022-03-21T07:49:13.003277Z",
     "shell.execute_reply": "2022-03-21T07:49:13.003588Z"
    }
   },
   "outputs": [
    {
     "data": {
      "image/svg+xml": [
       "<?xml version=\"1.0\" encoding=\"UTF-8\" standalone=\"no\"?><svg xmlns=\"http://www.w3.org/2000/svg\" xmlns:xlink=\"http://www.w3.org/1999/xlink\" contentScriptType=\"application/ecmascript\" contentStyleType=\"text/css\" height=\"12px\" preserveAspectRatio=\"none\" style=\"width:12px;height:12px;\" version=\"1.1\" viewBox=\"0 0 12 12\" width=\"12px\" zoomAndPan=\"magnify\"><defs/><g><!--MD5=[30fc1de5121c5abddedd55b44417fde8]\n",
       "@startuml\r\n",
       "skinparam roundcorner 20\r\n",
       "skinparam BoxPadding 20\r\n",
       "skinparam SequenceBoxBackgroundColor #white\r\n",
       "skinparam style strictuml\r\n",
       "skinparam maxMessageSize 100\r\n",
       "skinparam linetype ortho\r\n",
       "skinparam monochrome true\r\n",
       "skinparam classbackgroundcolor white\r\n",
       "skinparam shadowing false\r\n",
       "skinparam wrapWidth 300\r\n",
       "hide circle\r\n",
       "\r\n",
       "@enduml\r\n",
       "\n",
       "PlantUML version 1.2020.13(Sat Jun 13 12:26:38 UTC 2020)\n",
       "(EPL source distribution)\n",
       "Java Runtime: OpenJDK Runtime Environment\n",
       "JVM: OpenJDK 64-Bit Server VM\n",
       "Default Encoding: UTF-8\n",
       "Language: en\n",
       "Country: null\n",
       "--></g></svg>"
      ]
     },
     "execution_count": 56,
     "metadata": {},
     "output_type": "execute_result"
    }
   ],
   "source": [
    "%viz --style=\"ORTHOLINE\" --view=\"Sequence\" \"ItemTest\""
   ]
  },
  {
   "cell_type": "code",
   "execution_count": 57,
   "id": "ac491f6a",
   "metadata": {
    "execution": {
     "iopub.execute_input": "2022-03-21T07:49:13.053427Z",
     "iopub.status.busy": "2022-03-21T07:49:13.053035Z",
     "iopub.status.idle": "2022-03-21T07:49:13.093105Z",
     "shell.execute_reply": "2022-03-21T07:49:13.092755Z"
    }
   },
   "outputs": [
    {
     "data": {
      "image/svg+xml": [
       "<?xml version=\"1.0\" encoding=\"UTF-8\" standalone=\"no\"?><svg xmlns=\"http://www.w3.org/2000/svg\" xmlns:xlink=\"http://www.w3.org/1999/xlink\" contentScriptType=\"application/ecmascript\" contentStyleType=\"text/css\" height=\"818px\" preserveAspectRatio=\"none\" style=\"width:270px;height:818px;\" version=\"1.1\" viewBox=\"0 0 270 818\" width=\"270px\" zoomAndPan=\"magnify\"><defs/><g><!--MD5=[fbc87193dbaf4d95561dea2c320d4a47]\n",
       "cluster E1--><a href=\"psysml:8469bc55-64be-4e75-90cd-bb271a7bb256\" target=\"_top\" title=\"psysml:8469bc55-64be-4e75-90cd-bb271a7bb256\" xlink:actuate=\"onRequest\" xlink:href=\"psysml:8469bc55-64be-4e75-90cd-bb271a7bb256\" xlink:show=\"new\" xlink:title=\"psysml:8469bc55-64be-4e75-90cd-bb271a7bb256\" xlink:type=\"simple\"><polygon fill=\"#FFFFFF\" points=\"16,6,83,6,90,28.2969,248,28.2969,248,806,16,806,16,6\" style=\"stroke: #000000; stroke-width: 1.5;\"/><line style=\"stroke: #000000; stroke-width: 1.5;\" x1=\"16\" x2=\"90\" y1=\"28.2969\" y2=\"28.2969\"/><text fill=\"#000000\" font-family=\"sans-serif\" font-size=\"14\" font-weight=\"bold\" lengthAdjust=\"spacingAndGlyphs\" textLength=\"61\" x=\"20\" y=\"20.9951\">ItemTest</text></a><!--MD5=[b4997ac47864f28c2f74865a473b2911]\n",
       "class E2--><a href=\"psysml:6cbf61b0-82f0-477a-9e61-503ee7ef8ab3\" target=\"_top\" title=\"psysml:6cbf61b0-82f0-477a-9e61-503ee7ef8ab3\" xlink:actuate=\"onRequest\" xlink:href=\"psysml:6cbf61b0-82f0-477a-9e61-503ee7ef8ab3\" xlink:show=\"new\" xlink:title=\"psysml:6cbf61b0-82f0-477a-9e61-503ee7ef8ab3\" xlink:type=\"simple\"><rect fill=\"#FFFFFF\" height=\"45.9375\" id=\"E2\" rx=\"10\" ry=\"10\" style=\"stroke: #383838; stroke-width: 1.5;\" width=\"43\" x=\"188.5\" y=\"148\"/><text fill=\"#000000\" font-family=\"sans-serif\" font-size=\"12\" font-style=\"italic\" lengthAdjust=\"spacingAndGlyphs\" textLength=\"41\" x=\"189.5\" y=\"164.1387\">«item»</text><text fill=\"#000000\" font-family=\"sans-serif\" font-size=\"12\" lengthAdjust=\"spacingAndGlyphs\" textLength=\"20\" x=\"198\" y=\"178.1074\">f: A</text><line style=\"stroke: #383838; stroke-width: 1.5;\" x1=\"189.5\" x2=\"230.5\" y1=\"185.9375\" y2=\"185.9375\"/></a><!--MD5=[09b614a08d8cba4a07c9adeb5e0fee81]\n",
       "class E3--><a href=\"psysml:73e4759d-5191-4c8c-b634-f2bc1b43e3a3\" target=\"_top\" title=\"psysml:73e4759d-5191-4c8c-b634-f2bc1b43e3a3\" xlink:actuate=\"onRequest\" xlink:href=\"psysml:73e4759d-5191-4c8c-b634-f2bc1b43e3a3\" xlink:show=\"new\" xlink:title=\"psysml:73e4759d-5191-4c8c-b634-f2bc1b43e3a3\" xlink:type=\"simple\"><rect fill=\"#FFFFFF\" height=\"45.9375\" id=\"E3\" style=\"stroke: #383838; stroke-width: 1.5;\" width=\"71\" x=\"96.5\" y=\"255\"/><text fill=\"#000000\" font-family=\"sans-serif\" font-size=\"12\" font-style=\"italic\" lengthAdjust=\"spacingAndGlyphs\" textLength=\"69\" x=\"97.5\" y=\"271.1387\">«item  def»</text><text fill=\"#000000\" font-family=\"sans-serif\" font-size=\"12\" lengthAdjust=\"spacingAndGlyphs\" textLength=\"8\" x=\"128\" y=\"285.1074\">A</text><line style=\"stroke: #383838; stroke-width: 1.5;\" x1=\"97.5\" x2=\"166.5\" y1=\"292.9375\" y2=\"292.9375\"/></a><!--MD5=[ebbe1d658d1005bcc118a6aa81145e00]\n",
       "class E4--><a href=\"psysml:22dedc78-8a6f-47e7-a1b3-f5299f454177\" target=\"_top\" title=\"psysml:22dedc78-8a6f-47e7-a1b3-f5299f454177\" xlink:actuate=\"onRequest\" xlink:href=\"psysml:22dedc78-8a6f-47e7-a1b3-f5299f454177\" xlink:show=\"new\" xlink:title=\"psysml:22dedc78-8a6f-47e7-a1b3-f5299f454177\" xlink:type=\"simple\"><rect fill=\"#FFFFFF\" height=\"45.9375\" id=\"E4\" rx=\"10\" ry=\"10\" style=\"stroke: #383838; stroke-width: 1.5;\" width=\"43\" x=\"45.5\" y=\"438\"/><text fill=\"#000000\" font-family=\"sans-serif\" font-size=\"12\" font-style=\"italic\" lengthAdjust=\"spacingAndGlyphs\" textLength=\"41\" x=\"46.5\" y=\"454.1387\">«item»</text><text fill=\"#000000\" font-family=\"sans-serif\" font-size=\"12\" lengthAdjust=\"spacingAndGlyphs\" textLength=\"24\" x=\"53\" y=\"468.1074\">b: B</text><line style=\"stroke: #383838; stroke-width: 1.5;\" x1=\"46.5\" x2=\"87.5\" y1=\"475.9375\" y2=\"475.9375\"/></a><!--MD5=[270fce915f116d4de14055a7c1d9a0f3]\n",
       "class E5--><a href=\"psysml:d5b518cb-4e9d-48f6-86e4-811292cf7103\" target=\"_top\" title=\"psysml:d5b518cb-4e9d-48f6-86e4-811292cf7103\" xlink:actuate=\"onRequest\" xlink:href=\"psysml:d5b518cb-4e9d-48f6-86e4-811292cf7103\" xlink:show=\"new\" xlink:title=\"psysml:d5b518cb-4e9d-48f6-86e4-811292cf7103\" xlink:type=\"simple\"><rect fill=\"#FFFFFF\" height=\"45.9375\" id=\"E5\" rx=\"10\" ry=\"10\" style=\"stroke: #383838; stroke-width: 1.5;\" width=\"42\" x=\"151\" y=\"362\"/><text fill=\"#000000\" font-family=\"sans-serif\" font-size=\"12\" font-style=\"italic\" lengthAdjust=\"spacingAndGlyphs\" textLength=\"40\" x=\"152\" y=\"378.1387\">«part»</text><text fill=\"#000000\" font-family=\"sans-serif\" font-size=\"12\" lengthAdjust=\"spacingAndGlyphs\" textLength=\"23\" x=\"158.5\" y=\"392.1074\">c: C</text><line style=\"stroke: #383838; stroke-width: 1.5;\" x1=\"152\" x2=\"192\" y1=\"399.9375\" y2=\"399.9375\"/></a><!--MD5=[60a26617385b1d2d0262a64233df1f8d]\n",
       "class E6--><a href=\"psysml:7fb13a86-95b9-42ac-ac4a-d3cbb2045ff7\" target=\"_top\" title=\"psysml:7fb13a86-95b9-42ac-ac4a-d3cbb2045ff7\" xlink:actuate=\"onRequest\" xlink:href=\"psysml:7fb13a86-95b9-42ac-ac4a-d3cbb2045ff7\" xlink:show=\"new\" xlink:title=\"psysml:7fb13a86-95b9-42ac-ac4a-d3cbb2045ff7\" xlink:type=\"simple\"><rect fill=\"#FFFFFF\" height=\"45.9375\" id=\"E6\" style=\"stroke: #383838; stroke-width: 1.5;\" width=\"71\" x=\"112.5\" y=\"637\"/><text fill=\"#000000\" font-family=\"sans-serif\" font-size=\"12\" font-style=\"italic\" lengthAdjust=\"spacingAndGlyphs\" textLength=\"69\" x=\"113.5\" y=\"653.1387\">«item  def»</text><text fill=\"#000000\" font-family=\"sans-serif\" font-size=\"12\" font-style=\"italic\" lengthAdjust=\"spacingAndGlyphs\" textLength=\"8\" x=\"144\" y=\"667.1074\">B</text><line style=\"stroke: #383838; stroke-width: 1.5;\" x1=\"113.5\" x2=\"182.5\" y1=\"674.9375\" y2=\"674.9375\"/></a><!--MD5=[2156ba9850f5573cc1fc38a6a4b2f02b]\n",
       "class E7--><a href=\"psysml:b4d408e4-c35f-4021-90a0-c54c4c634ca8\" target=\"_top\" title=\"psysml:b4d408e4-c35f-4021-90a0-c54c4c634ca8\" xlink:actuate=\"onRequest\" xlink:href=\"psysml:b4d408e4-c35f-4021-90a0-c54c4c634ca8\" xlink:show=\"new\" xlink:title=\"psysml:b4d408e4-c35f-4021-90a0-c54c4c634ca8\" xlink:type=\"simple\"><rect fill=\"#FFFFFF\" height=\"45.9375\" id=\"E7\" rx=\"10\" ry=\"10\" style=\"stroke: #383838; stroke-width: 1.5;\" width=\"42\" x=\"159\" y=\"744\"/><text fill=\"#000000\" font-family=\"sans-serif\" font-size=\"12\" font-style=\"italic\" lengthAdjust=\"spacingAndGlyphs\" textLength=\"40\" x=\"160\" y=\"760.1387\">«part»</text><text fill=\"#000000\" font-family=\"sans-serif\" font-size=\"12\" font-style=\"italic\" lengthAdjust=\"spacingAndGlyphs\" textLength=\"8\" x=\"166\" y=\"774.1074\">a</text><text fill=\"#000000\" font-family=\"sans-serif\" font-size=\"12\" lengthAdjust=\"spacingAndGlyphs\" textLength=\"16\" x=\"174\" y=\"774.1074\">: A</text><line style=\"stroke: #383838; stroke-width: 1.5;\" x1=\"160\" x2=\"200\" y1=\"781.9375\" y2=\"781.9375\"/></a><!--MD5=[b9389687b975829384b498ac4b7476b2]\n",
       "class E8--><a href=\"psysml:53104107-4f2e-4822-81be-c90629c3152e\" target=\"_top\" title=\"psysml:53104107-4f2e-4822-81be-c90629c3152e\" xlink:actuate=\"onRequest\" xlink:href=\"psysml:53104107-4f2e-4822-81be-c90629c3152e\" xlink:show=\"new\" xlink:title=\"psysml:53104107-4f2e-4822-81be-c90629c3152e\" xlink:type=\"simple\"><rect fill=\"#FFFFFF\" height=\"45.9375\" id=\"E8\" style=\"stroke: #383838; stroke-width: 1.5;\" width=\"70\" x=\"113\" y=\"514\"/><text fill=\"#000000\" font-family=\"sans-serif\" font-size=\"12\" font-style=\"italic\" lengthAdjust=\"spacingAndGlyphs\" textLength=\"68\" x=\"114\" y=\"530.1387\">«part  def»</text><text fill=\"#000000\" font-family=\"sans-serif\" font-size=\"12\" lengthAdjust=\"spacingAndGlyphs\" textLength=\"8\" x=\"144\" y=\"544.1074\">C</text><line style=\"stroke: #383838; stroke-width: 1.5;\" x1=\"114\" x2=\"182\" y1=\"551.9375\" y2=\"551.9375\"/></a><!--MD5=[fd4143e9d270a159db93a4ea2a975926]\n",
       "class E9--><a href=\"psysml:96c92d64-4061-42f0-9733-a4ee9bfee5f1\" target=\"_top\" title=\"psysml:96c92d64-4061-42f0-9733-a4ee9bfee5f1\" xlink:actuate=\"onRequest\" xlink:href=\"psysml:96c92d64-4061-42f0-9733-a4ee9bfee5f1\" xlink:show=\"new\" xlink:title=\"psysml:96c92d64-4061-42f0-9733-a4ee9bfee5f1\" xlink:type=\"simple\"><rect fill=\"#FFFFFF\" height=\"45.9375\" id=\"E9\" style=\"stroke: #383838; stroke-width: 1.5;\" width=\"70\" x=\"64\" y=\"41\"/><text fill=\"#000000\" font-family=\"sans-serif\" font-size=\"12\" font-style=\"italic\" lengthAdjust=\"spacingAndGlyphs\" textLength=\"68\" x=\"65\" y=\"57.1387\">«port  def»</text><text fill=\"#000000\" font-family=\"sans-serif\" font-size=\"12\" lengthAdjust=\"spacingAndGlyphs\" textLength=\"8\" x=\"95\" y=\"71.1074\">P</text><line style=\"stroke: #383838; stroke-width: 1.5;\" x1=\"65\" x2=\"133\" y1=\"78.9375\" y2=\"78.9375\"/></a><!--MD5=[96f4274e9e20536e775497830990834d]\n",
       "class E10--><a href=\"psysml:21151bb4-f160-49b9-964a-222b3c2d7b6c\" target=\"_top\" title=\"psysml:21151bb4-f160-49b9-964a-222b3c2d7b6c\" xlink:actuate=\"onRequest\" xlink:href=\"psysml:21151bb4-f160-49b9-964a-222b3c2d7b6c\" xlink:show=\"new\" xlink:title=\"psysml:21151bb4-f160-49b9-964a-222b3c2d7b6c\" xlink:type=\"simple\"><rect fill=\"#FFFFFF\" height=\"45.9375\" id=\"E10\" rx=\"10\" ry=\"10\" style=\"stroke: #383838; stroke-width: 1.5;\" width=\"43\" x=\"32.5\" y=\"148\"/><text fill=\"#000000\" font-family=\"sans-serif\" font-size=\"12\" font-style=\"italic\" lengthAdjust=\"spacingAndGlyphs\" textLength=\"41\" x=\"33.5\" y=\"164.1387\">«item»</text><text fill=\"#000000\" font-family=\"sans-serif\" font-size=\"12\" lengthAdjust=\"spacingAndGlyphs\" textLength=\"32\" x=\"36\" y=\"178.1074\">a1: A</text><line style=\"stroke: #383838; stroke-width: 1.5;\" x1=\"33.5\" x2=\"74.5\" y1=\"185.9375\" y2=\"185.9375\"/></a><!--MD5=[1dd1bfd58a279cf63c5f349dbc8fc6a1]\n",
       "class E11--><a href=\"psysml:048eeab4-ab84-4a9d-8dc8-2b5e8335cff3\" target=\"_top\" title=\"psysml:048eeab4-ab84-4a9d-8dc8-2b5e8335cff3\" xlink:actuate=\"onRequest\" xlink:href=\"psysml:048eeab4-ab84-4a9d-8dc8-2b5e8335cff3\" xlink:show=\"new\" xlink:title=\"psysml:048eeab4-ab84-4a9d-8dc8-2b5e8335cff3\" xlink:type=\"simple\"><rect fill=\"#FFFFFF\" height=\"45.9375\" id=\"E11\" rx=\"10\" ry=\"10\" style=\"stroke: #383838; stroke-width: 1.5;\" width=\"43\" x=\"110.5\" y=\"148\"/><text fill=\"#000000\" font-family=\"sans-serif\" font-size=\"12\" font-style=\"italic\" lengthAdjust=\"spacingAndGlyphs\" textLength=\"41\" x=\"111.5\" y=\"164.1387\">«item»</text><text fill=\"#000000\" font-family=\"sans-serif\" font-size=\"12\" lengthAdjust=\"spacingAndGlyphs\" textLength=\"32\" x=\"114\" y=\"178.1074\">a2: A</text><line style=\"stroke: #383838; stroke-width: 1.5;\" x1=\"111.5\" x2=\"152.5\" y1=\"185.9375\" y2=\"185.9375\"/></a><!--MD5=[2720a5a1f2c3fca2055b230370638851]\n",
       "link E2 to E3--><a href=\"psysml:e70b16f9-62c0-40f3-a087-aa973c352c22\" target=\"_top\" title=\"psysml:e70b16f9-62c0-40f3-a087-aa973c352c22\" xlink:actuate=\"onRequest\" xlink:href=\"psysml:e70b16f9-62c0-40f3-a087-aa973c352c22\" xlink:show=\"new\" xlink:title=\"psysml:e70b16f9-62c0-40f3-a087-aa973c352c22\" xlink:type=\"simple\"><path d=\"M188.43,171 C175.09,171 160.5,171 160.5,171 C160.5,171 160.5,234.78 160.5,234.78 \" fill=\"none\" id=\"E2-&gt;E3\" style=\"stroke: #383838; stroke-width: 1.0;\"/><polygon fill=\"#FFFFFF\" points=\"160.5,254.78,153.5,235.78,167.5,235.78,160.5,254.78\" style=\"stroke: #383838; stroke-width: 1.0;\"/><ellipse cx=\"155.5\" cy=\"230.08\" fill=\"#383838\" rx=\"2\" ry=\"2\" style=\"stroke: #383838; stroke-width: 1.0;\"/><ellipse cx=\"165.5\" cy=\"230.08\" fill=\"#383838\" rx=\"2\" ry=\"2\" style=\"stroke: #383838; stroke-width: 1.0;\"/></a><!--MD5=[4672eba38e49728da53d11aeb285b987]\n",
       "reverse link E3 to E4--><a href=\"psysml:f5164247-58fc-45c1-bba3-2edebb195fbd\" target=\"_top\" title=\"psysml:f5164247-58fc-45c1-bba3-2edebb195fbd\" xlink:actuate=\"onRequest\" xlink:href=\"psysml:f5164247-58fc-45c1-bba3-2edebb195fbd\" xlink:show=\"new\" xlink:title=\"psysml:f5164247-58fc-45c1-bba3-2edebb195fbd\" xlink:type=\"simple\"><path d=\"M83.46,278 C83.46,278 82,278 82,278 C82,278 82,388.58 82,437.82 \" fill=\"none\" id=\"E3&lt;-E4\" style=\"stroke: #383838; stroke-width: 1.0;\"/><polygon fill=\"#383838\" points=\"96.46,278,90.46,274,84.46,278,90.46,282,96.46,278\" style=\"stroke: #383838; stroke-width: 1.0;\"/><text fill=\"#000000\" font-family=\"sans-serif\" font-size=\"13\" lengthAdjust=\"spacingAndGlyphs\" textLength=\"8\" x=\"76.8188\" y=\"427.0502\">1</text></a><!--MD5=[191cde3d490a3f6d7bb551fe3ddca469]\n",
       "reverse link E3 to E5--><a href=\"psysml:0e10322d-8096-4d1c-ad13-bcf359abd35a\" target=\"_top\" title=\"psysml:0e10322d-8096-4d1c-ad13-bcf359abd35a\" xlink:actuate=\"onRequest\" xlink:href=\"psysml:0e10322d-8096-4d1c-ad13-bcf359abd35a\" xlink:show=\"new\" xlink:title=\"psysml:0e10322d-8096-4d1c-ad13-bcf359abd35a\" xlink:type=\"simple\"><path d=\"M159.25,314.22 C159.25,314.22 159.25,361.83 159.25,361.83 \" fill=\"none\" id=\"E3&lt;-E5\" style=\"stroke: #383838; stroke-width: 1.0;\"/><polygon fill=\"#FFFFFF\" points=\"159.25,301.22,155.25,307.22,159.25,313.22,163.25,307.22,159.25,301.22\" style=\"stroke: #383838; stroke-width: 1.0;\"/><text fill=\"#000000\" font-family=\"sans-serif\" font-size=\"13\" lengthAdjust=\"spacingAndGlyphs\" textLength=\"8\" x=\"146.9578\" y=\"351.0627\">1</text></a><!--MD5=[79568f1e445c3877b6a54524624ccc7d]\n",
       "link E4 to E6--><a href=\"psysml:cd799d59-974c-4cd5-b2a4-5d2e853ea550\" target=\"_top\" title=\"psysml:cd799d59-974c-4cd5-b2a4-5d2e853ea550\" xlink:actuate=\"onRequest\" xlink:href=\"psysml:cd799d59-974c-4cd5-b2a4-5d2e853ea550\" xlink:show=\"new\" xlink:title=\"psysml:cd799d59-974c-4cd5-b2a4-5d2e853ea550\" xlink:type=\"simple\"><path d=\"M67,484.22 C67,536.71 67,660 67,660 C67,660 92.24,660 92.24,660 \" fill=\"none\" id=\"E4-&gt;E6\" style=\"stroke: #383838; stroke-width: 1.0;\"/><polygon fill=\"#FFFFFF\" points=\"112.24,660,93.24,667,93.24,653,112.24,660\" style=\"stroke: #383838; stroke-width: 1.0;\"/><ellipse cx=\"87.54\" cy=\"665\" fill=\"#383838\" rx=\"2\" ry=\"2\" style=\"stroke: #383838; stroke-width: 1.0;\"/><ellipse cx=\"87.54\" cy=\"655\" fill=\"#383838\" rx=\"2\" ry=\"2\" style=\"stroke: #383838; stroke-width: 1.0;\"/></a><!--MD5=[3f50a3473f1dfb74d3f76443e03635af]\n",
       "reverse link E6 to E7--><a href=\"psysml:f66c29ee-70ba-402f-a3a4-159df7b46130\" target=\"_top\" title=\"psysml:f66c29ee-70ba-402f-a3a4-159df7b46130\" xlink:actuate=\"onRequest\" xlink:href=\"psysml:f66c29ee-70ba-402f-a3a4-159df7b46130\" xlink:show=\"new\" xlink:title=\"psysml:f66c29ee-70ba-402f-a3a4-159df7b46130\" xlink:type=\"simple\"><path d=\"M171.25,696.22 C171.25,696.22 171.25,743.83 171.25,743.83 \" fill=\"none\" id=\"E6&lt;-E7\" style=\"stroke: #383838; stroke-width: 1.0;\"/><polygon fill=\"#383838\" points=\"171.25,683.22,167.25,689.22,171.25,695.22,175.25,689.22,171.25,683.22\" style=\"stroke: #383838; stroke-width: 1.0;\"/><text fill=\"#000000\" font-family=\"sans-serif\" font-size=\"13\" lengthAdjust=\"spacingAndGlyphs\" textLength=\"8\" x=\"159.9828\" y=\"733.0627\">1</text></a><!--MD5=[14ccda38c055a5c0da953d572bc50960]\n",
       "link E7 to E3--><a href=\"psysml:4b14459c-c0ea-47eb-ae95-5bdd156140b8\" target=\"_top\" title=\"psysml:4b14459c-c0ea-47eb-ae95-5bdd156140b8\" xlink:actuate=\"onRequest\" xlink:href=\"psysml:4b14459c-c0ea-47eb-ae95-5bdd156140b8\" xlink:show=\"new\" xlink:title=\"psysml:4b14459c-c0ea-47eb-ae95-5bdd156140b8\" xlink:type=\"simple\"><path d=\"M197,743.74 C197,646.56 197,278 197,278 C197,278 187.54,278 187.54,278 \" fill=\"none\" id=\"E7-&gt;E3\" style=\"stroke: #383838; stroke-width: 1.0;\"/><polygon fill=\"#FFFFFF\" points=\"167.54,278,186.54,271,186.54,285,167.54,278\" style=\"stroke: #383838; stroke-width: 1.0;\"/><ellipse cx=\"192.24\" cy=\"273\" fill=\"#383838\" rx=\"2\" ry=\"2\" style=\"stroke: #383838; stroke-width: 1.0;\"/><ellipse cx=\"192.24\" cy=\"283\" fill=\"#383838\" rx=\"2\" ry=\"2\" style=\"stroke: #383838; stroke-width: 1.0;\"/></a><!--MD5=[dfaffb906826c3e5aca635516100ff21]\n",
       "link E5 to E8--><a href=\"psysml:7f99918d-ef62-497c-9b9a-668f89d0bef4\" target=\"_top\" title=\"psysml:7f99918d-ef62-497c-9b9a-668f89d0bef4\" xlink:actuate=\"onRequest\" xlink:href=\"psysml:7f99918d-ef62-497c-9b9a-668f89d0bef4\" xlink:show=\"new\" xlink:title=\"psysml:7f99918d-ef62-497c-9b9a-668f89d0bef4\" xlink:type=\"simple\"><path d=\"M167,408.09 C167,408.09 167,493.7 167,493.7 \" fill=\"none\" id=\"E5-&gt;E8\" style=\"stroke: #383838; stroke-width: 1.0;\"/><polygon fill=\"#FFFFFF\" points=\"167,513.7,160,494.7,174,494.7,167,513.7\" style=\"stroke: #383838; stroke-width: 1.0;\"/><ellipse cx=\"162\" cy=\"489\" fill=\"#383838\" rx=\"2\" ry=\"2\" style=\"stroke: #383838; stroke-width: 1.0;\"/><ellipse cx=\"172\" cy=\"489\" fill=\"#383838\" rx=\"2\" ry=\"2\" style=\"stroke: #383838; stroke-width: 1.0;\"/></a><!--MD5=[03c8294790d3c57651a1993cecff665f]\n",
       "reverse link E8 to E3--><a href=\"psysml:8abdebaf-64f0-40cf-a780-4a21932975d8\" target=\"_top\" title=\"psysml:8abdebaf-64f0-40cf-a780-4a21932975d8\" xlink:actuate=\"onRequest\" xlink:href=\"psysml:8abdebaf-64f0-40cf-a780-4a21932975d8\" xlink:show=\"new\" xlink:title=\"psysml:8abdebaf-64f0-40cf-a780-4a21932975d8\" xlink:type=\"simple\"><path d=\"M132,500.56 C132,500.56 132,301.2 132,301.2 \" fill=\"none\" id=\"E8&lt;-E3\" style=\"stroke: #383838; stroke-width: 1.0;\"/><polygon fill=\"#FFFFFF\" points=\"132,513.56,136,507.56,132,501.56,128,507.56,132,513.56\" style=\"stroke: #383838; stroke-width: 1.0;\"/><text fill=\"#000000\" font-family=\"sans-serif\" font-size=\"13\" lengthAdjust=\"spacingAndGlyphs\" textLength=\"7\" x=\"108\" y=\"389.5669\">y</text></a><!--MD5=[0d75d2178373a6a4568e5dc728f58aef]\n",
       "reverse link E8 to E6--><a href=\"psysml:8abdebaf-64f0-40cf-a780-4a21932975d8\" target=\"_top\" title=\"psysml:8abdebaf-64f0-40cf-a780-4a21932975d8\" xlink:actuate=\"onRequest\" xlink:href=\"psysml:8abdebaf-64f0-40cf-a780-4a21932975d8\" xlink:show=\"new\" xlink:title=\"psysml:8abdebaf-64f0-40cf-a780-4a21932975d8\" xlink:type=\"simple\"><path d=\"M148,573.14 C148,573.14 148,636.97 148,636.97 \" fill=\"none\" id=\"E8&lt;-E6\" style=\"stroke: #383838; stroke-width: 1.0;\"/><polygon fill=\"#FFFFFF\" points=\"148,560.14,144,566.14,148,572.14,152,566.14,148,560.14\" style=\"stroke: #383838; stroke-width: 1.0;\"/><text fill=\"#000000\" font-family=\"sans-serif\" font-size=\"13\" lengthAdjust=\"spacingAndGlyphs\" textLength=\"7\" x=\"149\" y=\"603.0669\">y</text></a><!--MD5=[23ac544a70576c3e717098101004234c]\n",
       "reverse link E9 to E10--><a href=\"psysml:4b97f70b-21b5-47d0-9b80-bf68f1206e68\" target=\"_top\" title=\"psysml:4b97f70b-21b5-47d0-9b80-bf68f1206e68\" xlink:actuate=\"onRequest\" xlink:href=\"psysml:4b97f70b-21b5-47d0-9b80-bf68f1206e68\" xlink:show=\"new\" xlink:title=\"psysml:4b97f70b-21b5-47d0-9b80-bf68f1206e68\" xlink:type=\"simple\"><path d=\"M69.75,100.22 C69.75,100.22 69.75,147.83 69.75,147.83 \" fill=\"none\" id=\"E9&lt;-E10\" style=\"stroke: #383838; stroke-width: 1.0;\"/><polygon fill=\"#FFFFFF\" points=\"69.75,87.22,65.75,93.22,69.75,99.22,73.75,93.22,69.75,87.22\" style=\"stroke: #383838; stroke-width: 1.0;\"/><text fill=\"#000000\" font-family=\"sans-serif\" font-size=\"13\" lengthAdjust=\"spacingAndGlyphs\" textLength=\"8\" x=\"64.7609\" y=\"137.0627\">1</text></a><!--MD5=[feeac5eb423634930294aa81f2d25a4c]\n",
       "link E10 to E3--><a href=\"psysml:890b43d2-a44a-4df9-b863-0c7f323950a1\" target=\"_top\" title=\"psysml:890b43d2-a44a-4df9-b863-0c7f323950a1\" xlink:actuate=\"onRequest\" xlink:href=\"psysml:890b43d2-a44a-4df9-b863-0c7f323950a1\" xlink:show=\"new\" xlink:title=\"psysml:890b43d2-a44a-4df9-b863-0c7f323950a1\" xlink:type=\"simple\"><path d=\"M75.57,171 C88.91,171 103.5,171 103.5,171 C103.5,171 103.5,234.78 103.5,234.78 \" fill=\"none\" id=\"E10-&gt;E3\" style=\"stroke: #383838; stroke-width: 1.0;\"/><polygon fill=\"#FFFFFF\" points=\"103.5,254.78,96.5,235.78,110.5,235.78,103.5,254.78\" style=\"stroke: #383838; stroke-width: 1.0;\"/><ellipse cx=\"98.5\" cy=\"230.08\" fill=\"#383838\" rx=\"2\" ry=\"2\" style=\"stroke: #383838; stroke-width: 1.0;\"/><ellipse cx=\"108.5\" cy=\"230.08\" fill=\"#383838\" rx=\"2\" ry=\"2\" style=\"stroke: #383838; stroke-width: 1.0;\"/></a><!--MD5=[1fc04a95fd77ad5ce46c1a3027516051]\n",
       "reverse link E9 to E11--><a href=\"psysml:75cdd26f-47cf-45db-b14e-ba01ceb3edc6\" target=\"_top\" title=\"psysml:75cdd26f-47cf-45db-b14e-ba01ceb3edc6\" xlink:actuate=\"onRequest\" xlink:href=\"psysml:75cdd26f-47cf-45db-b14e-ba01ceb3edc6\" xlink:show=\"new\" xlink:title=\"psysml:75cdd26f-47cf-45db-b14e-ba01ceb3edc6\" xlink:type=\"simple\"><path d=\"M122.25,100.22 C122.25,100.22 122.25,147.83 122.25,147.83 \" fill=\"none\" id=\"E9&lt;-E11\" style=\"stroke: #383838; stroke-width: 1.0;\"/><polygon fill=\"#FFFFFF\" points=\"122.25,87.22,118.25,93.22,122.25,99.22,126.25,93.22,122.25,87.22\" style=\"stroke: #383838; stroke-width: 1.0;\"/><text fill=\"#000000\" font-family=\"sans-serif\" font-size=\"13\" lengthAdjust=\"spacingAndGlyphs\" textLength=\"8\" x=\"110.7266\" y=\"137.0627\">1</text></a><!--MD5=[0517f1ce58c4d5483948f93845c45e26]\n",
       "link E11 to E3--><a href=\"psysml:92dee77c-180b-445a-a05e-737a71661cde\" target=\"_top\" title=\"psysml:92dee77c-180b-445a-a05e-737a71661cde\" xlink:actuate=\"onRequest\" xlink:href=\"psysml:92dee77c-180b-445a-a05e-737a71661cde\" xlink:show=\"new\" xlink:title=\"psysml:92dee77c-180b-445a-a05e-737a71661cde\" xlink:type=\"simple\"><path d=\"M132,194.22 C132,194.22 132,234.83 132,234.83 \" fill=\"none\" id=\"E11-&gt;E3\" style=\"stroke: #383838; stroke-width: 1.0;\"/><polygon fill=\"#FFFFFF\" points=\"132,254.83,125,235.83,139,235.83,132,254.83\" style=\"stroke: #383838; stroke-width: 1.0;\"/><ellipse cx=\"127\" cy=\"230.13\" fill=\"#383838\" rx=\"2\" ry=\"2\" style=\"stroke: #383838; stroke-width: 1.0;\"/><ellipse cx=\"137\" cy=\"230.13\" fill=\"#383838\" rx=\"2\" ry=\"2\" style=\"stroke: #383838; stroke-width: 1.0;\"/></a><!--MD5=[11cc1a67822a71e67f42817bdeba8f72]\n",
       "@startuml\r\n",
       "skinparam linetype ortho\r\n",
       "skinparam monochrome true\r\n",
       "skinparam classbackgroundcolor white\r\n",
       "skinparam shadowing false\r\n",
       "skinparam wrapWidth 300\r\n",
       "hide circle\r\n",
       "\r\n",
       "package \"ItemTest\" as E1  [[psysml:8469bc55-64be-4e75-90cd-bb271a7bb256 ]]  {\r\n",
       "comp usage \"f: A \" as E2  <<(T,blue) item>> [[psysml:6cbf61b0-82f0-477a-9e61-503ee7ef8ab3 ]] {\r\n",
       "}\r\n",
       "comp def \"A\" as E3  <<(T,blue) item  def>> [[psysml:73e4759d-5191-4c8c-b634-f2bc1b43e3a3 ]] {\r\n",
       "}\r\n",
       "comp usage \"b: B \" as E4  <<(T,blue) item>> [[psysml:22dedc78-8a6f-47e7-a1b3-f5299f454177 ]] {\r\n",
       "}\r\n",
       "comp usage \"c: C \" as E5  <<(T,blue) part>> [[psysml:d5b518cb-4e9d-48f6-86e4-811292cf7103 ]] {\r\n",
       "}\r\n",
       "comp def \"<i>B</i>\" as E6  <<(T,blue) item  def>> [[psysml:7fb13a86-95b9-42ac-ac4a-d3cbb2045ff7 ]] {\r\n",
       "}\r\n",
       "comp usage \"<i>a</i>: A \" as E7  <<(T,blue) part>> [[psysml:b4d408e4-c35f-4021-90a0-c54c4c634ca8 ]] {\r\n",
       "}\r\n",
       "comp def \"C\" as E8  <<(T,blue) part  def>> [[psysml:53104107-4f2e-4822-81be-c90629c3152e ]] {\r\n",
       "}\r\n",
       "comp def \"P\" as E9  <<(T,blue) port  def>> [[psysml:96c92d64-4061-42f0-9733-a4ee9bfee5f1 ]] {\r\n",
       "}\r\n",
       "comp usage \"a1: A \" as E10  <<(T,blue) item>> [[psysml:21151bb4-f160-49b9-964a-222b3c2d7b6c ]] {\r\n",
       "}\r\n",
       "comp usage \"a2: A \" as E11  <<(T,blue) item>> [[psysml:048eeab4-ab84-4a9d-8dc8-2b5e8335cff3 ]] {\r\n",
       "}\r\n",
       "}\r\n",
       "E2 - -:|> E3 [[psysml:e70b16f9-62c0-40f3-a087-aa973c352c22 ]] \r\n",
       "E3 *- - \"1\"E4 [[psysml:f5164247-58fc-45c1-bba3-2edebb195fbd ]] \r\n",
       "E3 o- - \"1\"E5 [[psysml:0e10322d-8096-4d1c-ad13-bcf359abd35a ]] \r\n",
       "E4 - -:|> E6 [[psysml:cd799d59-974c-4cd5-b2a4-5d2e853ea550 ]] \r\n",
       "E6 *- - \"1\"E7 [[psysml:f66c29ee-70ba-402f-a3a4-159df7b46130 ]] \r\n",
       "E7 - -:|> E3 [[psysml:4b14459c-c0ea-47eb-ae95-5bdd156140b8 ]] \r\n",
       "E5 - -:|> E8 [[psysml:7f99918d-ef62-497c-9b9a-668f89d0bef4 ]] \r\n",
       "E8 o- - E3 [[psysml:8abdebaf-64f0-40cf-a780-4a21932975d8 ]] : y\r\n",
       "E8 o- - E6 [[psysml:8abdebaf-64f0-40cf-a780-4a21932975d8 ]] : y\r\n",
       "E9 o- - \"1\"E10 [[psysml:4b97f70b-21b5-47d0-9b80-bf68f1206e68 ]] \r\n",
       "E10 - -:|> E3 [[psysml:890b43d2-a44a-4df9-b863-0c7f323950a1 ]] \r\n",
       "E9 o- - \"1\"E11 [[psysml:75cdd26f-47cf-45db-b14e-ba01ceb3edc6 ]] \r\n",
       "E11 - -:|> E3 [[psysml:92dee77c-180b-445a-a05e-737a71661cde ]] \r\n",
       "@enduml\r\n",
       "\n",
       "PlantUML version 1.2020.13(Sat Jun 13 12:26:38 UTC 2020)\n",
       "(EPL source distribution)\n",
       "Java Runtime: OpenJDK Runtime Environment\n",
       "JVM: OpenJDK 64-Bit Server VM\n",
       "Default Encoding: UTF-8\n",
       "Language: en\n",
       "Country: null\n",
       "--></g></svg>"
      ]
     },
     "execution_count": 57,
     "metadata": {},
     "output_type": "execute_result"
    }
   ],
   "source": [
    "%viz --style=\"ORTHOLINE\" --view=\"MIXED\" \"ItemTest\""
   ]
  }
 ],
 "metadata": {
  "kernelspec": {
   "display_name": "SysML",
   "language": "sysml",
   "name": "sysml"
  },
  "language_info": {
   "codemirror_mode": "sysml",
   "file_extension": ".sysml",
   "mimetype": "text/x-sysml",
   "name": "SysML",
   "pygments_lexer": "java",
   "version": "1.0.0"
  }
 },
 "nbformat": 4,
 "nbformat_minor": 5
}
