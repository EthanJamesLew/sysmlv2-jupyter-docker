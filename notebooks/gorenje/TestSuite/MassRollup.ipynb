{
 "cells": [
  {
   "cell_type": "markdown",
   "id": "d0108725",
   "metadata": {},
   "source": [
    "# SysML v2 Test Suite\n",
    "\n",
    "This can notebook can be cleared using menu `Edit --> Clear All Outputs` and then all cells can be\n",
    "run using menu `Run --> Run All Cells`.\n",
    "\n",
    "**WARNING**: This file is generated, all modifications here will be ignored.\n"
   ]
  },
  {
   "cell_type": "markdown",
   "id": "3b8acaa9",
   "metadata": {},
   "source": [
    "## File: ../../sysml/src/examples/Mass Roll-up Example/MassRollup.sysml"
   ]
  },
  {
   "cell_type": "code",
   "execution_count": 1,
   "id": "9e03d50a",
   "metadata": {
    "execution": {
     "iopub.execute_input": "2021-04-20T07:26:49.507972Z",
     "iopub.status.busy": "2021-04-20T07:26:49.507192Z",
     "iopub.status.idle": "2021-04-20T07:26:50.814204Z",
     "shell.execute_reply": "2021-04-20T07:26:50.807007Z"
    }
   },
   "outputs": [
    {
     "data": {
      "text/plain": [
       "Package MassRollup (4319b808-3584-47b5-9889-b5e711e6a974)\n"
      ]
     },
     "execution_count": 1,
     "metadata": {},
     "output_type": "execute_result"
    }
   ],
   "source": [
    "package MassRollup {\n",
    "\timport ScalarFunctions::*;\n",
    "\t\n",
    "\tpart def MassedThing {\n",
    "\t\tattribute mass :> ISQ::mass; \n",
    "\t\tattribute totalMass :> ISQ::mass;\n",
    "\t}\n",
    "\t\n",
    "\tpart simpleThing : MassedThing {\n",
    "\t\tattribute totalMass redefines MassedThing::totalMass = mass;\n",
    "\t}\n",
    "\t\n",
    "\tpart compositeThing : MassedThing {\n",
    "\t\tpart subcomponents: MassedThing[*];\n",
    "\t\t\n",
    "\t\tattribute totalMass redefines MassedThing::totalMass =\n",
    "\t\t\tmass + (subcomponents->collect p:MassedThing (p::totalMass)->reduce '+' ?? 0.0); \n",
    "\t}\n",
    "\t\n",
    "\tpart filteredMassThing :> compositeThing {\n",
    "\t\tabstract attribute minMass :> ISQ::mass;\n",
    "\t\t\n",
    "\t\tattribute totalMass redefines MassedThing::totalMass =\n",
    "\t\t\t(./subcomponents/mass[p (p > minMass)])->reduce '+' ?? 0.0;\n",
    "\t}\n",
    "\n",
    "}"
   ]
  },
  {
   "cell_type": "code",
   "execution_count": 2,
   "id": "38a718dd",
   "metadata": {
    "execution": {
     "iopub.execute_input": "2021-04-20T07:26:50.870715Z",
     "iopub.status.busy": "2021-04-20T07:26:50.869309Z",
     "iopub.status.idle": "2021-04-20T07:26:52.374373Z",
     "shell.execute_reply": "2021-04-20T07:26:52.375320Z"
    }
   },
   "outputs": [
    {
     "data": {
      "image/svg+xml": [
       "<?xml version=\"1.0\" encoding=\"UTF-8\" standalone=\"no\"?><svg xmlns=\"http://www.w3.org/2000/svg\" xmlns:xlink=\"http://www.w3.org/1999/xlink\" contentScriptType=\"application/ecmascript\" contentStyleType=\"text/css\" height=\"640px\" preserveAspectRatio=\"none\" style=\"width:512px;height:640px;\" version=\"1.1\" viewBox=\"0 0 512 640\" width=\"512px\" zoomAndPan=\"magnify\"><defs/><g><!--MD5=[fbc87193dbaf4d95561dea2c320d4a47]\n",
       "cluster E1--><a href=\"psysml:93cce498-741b-46da-9a76-47f8a90b0e87\" target=\"_top\" title=\"psysml:93cce498-741b-46da-9a76-47f8a90b0e87\" xlink:actuate=\"onRequest\" xlink:href=\"psysml:93cce498-741b-46da-9a76-47f8a90b0e87\" xlink:show=\"new\" xlink:title=\"psysml:93cce498-741b-46da-9a76-47f8a90b0e87\" xlink:type=\"simple\"><polygon fill=\"#FFFFFF\" points=\"16,6,110,6,117,28.2969,490,28.2969,490,628,16,628,16,6\" style=\"stroke: #000000; stroke-width: 1.5;\"/><line style=\"stroke: #000000; stroke-width: 1.5;\" x1=\"16\" x2=\"117\" y1=\"28.2969\" y2=\"28.2969\"/><text fill=\"#000000\" font-family=\"sans-serif\" font-size=\"14\" font-weight=\"bold\" lengthAdjust=\"spacingAndGlyphs\" textLength=\"88\" x=\"20\" y=\"20.9951\">MassRollup</text></a><!--MD5=[b4997ac47864f28c2f74865a473b2911]\n",
       "class E2--><a href=\"psysml:2bfc4bf5-5785-4629-99c8-bf06d3584a79\" target=\"_top\" title=\"psysml:2bfc4bf5-5785-4629-99c8-bf06d3584a79\" xlink:actuate=\"onRequest\" xlink:href=\"psysml:2bfc4bf5-5785-4629-99c8-bf06d3584a79\" xlink:show=\"new\" xlink:title=\"psysml:2bfc4bf5-5785-4629-99c8-bf06d3584a79\" xlink:type=\"simple\"><rect fill=\"#FFFFFF\" height=\"88.3516\" id=\"E2\" style=\"stroke: #383838; stroke-width: 1.5;\" width=\"88\" x=\"124\" y=\"524\"/><text fill=\"#000000\" font-family=\"sans-serif\" font-size=\"12\" font-style=\"italic\" lengthAdjust=\"spacingAndGlyphs\" textLength=\"64\" x=\"136\" y=\"540.1387\">«part def»</text><text fill=\"#000000\" font-family=\"sans-serif\" font-size=\"12\" lengthAdjust=\"spacingAndGlyphs\" textLength=\"82\" x=\"127\" y=\"554.1074\">MassedThing</text><line style=\"stroke: #383838; stroke-width: 1.5;\" x1=\"125\" x2=\"211\" y1=\"561.9375\" y2=\"561.9375\"/><text fill=\"#000000\" font-family=\"sans-serif\" font-size=\"11\" lengthAdjust=\"spacingAndGlyphs\" textLength=\"32\" x=\"130\" y=\"592.9526\">mass</text><text fill=\"#000000\" font-family=\"sans-serif\" font-size=\"11\" lengthAdjust=\"spacingAndGlyphs\" textLength=\"55\" x=\"130\" y=\"605.7573\">totalMass</text><line style=\"stroke: #383838; stroke-width: 1.0;\" x1=\"125\" x2=\"140.5\" y1=\"576.3398\" y2=\"576.3398\"/><text fill=\"#000000\" font-family=\"sans-serif\" font-size=\"11\" lengthAdjust=\"spacingAndGlyphs\" textLength=\"55\" x=\"140.5\" y=\"579.6479\">attributes</text><line style=\"stroke: #383838; stroke-width: 1.0;\" x1=\"195.5\" x2=\"211\" y1=\"576.3398\" y2=\"576.3398\"/></a><!--MD5=[09b614a08d8cba4a07c9adeb5e0fee81]\n",
       "class E3--><a href=\"psysml:d9d69a25-c21e-4c46-a572-d7b139b6ee26\" target=\"_top\" title=\"psysml:d9d69a25-c21e-4c46-a572-d7b139b6ee26\" xlink:actuate=\"onRequest\" xlink:href=\"psysml:d9d69a25-c21e-4c46-a572-d7b139b6ee26\" xlink:show=\"new\" xlink:title=\"psysml:d9d69a25-c21e-4c46-a572-d7b139b6ee26\" xlink:type=\"simple\"><rect fill=\"#FFFFFF\" height=\"88.3516\" id=\"E3\" rx=\"10\" ry=\"10\" style=\"stroke: #383838; stroke-width: 1.5;\" width=\"172\" x=\"302\" y=\"376\"/><text fill=\"#000000\" font-family=\"sans-serif\" font-size=\"12\" font-style=\"italic\" lengthAdjust=\"spacingAndGlyphs\" textLength=\"40\" x=\"368\" y=\"392.1387\">«part»</text><text fill=\"#000000\" font-family=\"sans-serif\" font-size=\"12\" lengthAdjust=\"spacingAndGlyphs\" textLength=\"164\" x=\"306\" y=\"406.1074\">simpleThing: MassedThing</text><line style=\"stroke: #383838; stroke-width: 1.5;\" x1=\"303\" x2=\"473\" y1=\"413.9375\" y2=\"413.9375\"/><text fill=\"#000000\" font-family=\"sans-serif\" font-size=\"11\" lengthAdjust=\"spacingAndGlyphs\" textLength=\"100\" x=\"308\" y=\"444.9526\">totalMass=mass;</text><text fill=\"#000000\" font-family=\"sans-serif\" font-size=\"11\" font-style=\"italic\" lengthAdjust=\"spacingAndGlyphs\" textLength=\"160\" x=\"308\" y=\"457.7573\">:&gt;&gt;MassedThing::totalMass</text><line style=\"stroke: #383838; stroke-width: 1.0;\" x1=\"303\" x2=\"360.5\" y1=\"428.3398\" y2=\"428.3398\"/><text fill=\"#000000\" font-family=\"sans-serif\" font-size=\"11\" lengthAdjust=\"spacingAndGlyphs\" textLength=\"55\" x=\"360.5\" y=\"431.6479\">attributes</text><line style=\"stroke: #383838; stroke-width: 1.0;\" x1=\"415.5\" x2=\"473\" y1=\"428.3398\" y2=\"428.3398\"/></a><!--MD5=[ebbe1d658d1005bcc118a6aa81145e00]\n",
       "class E4--><a href=\"psysml:343123b1-0808-41d0-8b17-a6ebb6acc0cb\" target=\"_top\" title=\"psysml:343123b1-0808-41d0-8b17-a6ebb6acc0cb\" xlink:actuate=\"onRequest\" xlink:href=\"psysml:343123b1-0808-41d0-8b17-a6ebb6acc0cb\" xlink:show=\"new\" xlink:title=\"psysml:343123b1-0808-41d0-8b17-a6ebb6acc0cb\" xlink:type=\"simple\"><rect fill=\"#FFFFFF\" height=\"101.1563\" id=\"E4\" rx=\"10\" ry=\"10\" style=\"stroke: #383838; stroke-width: 1.5;\" width=\"290\" x=\"32\" y=\"215\"/><text fill=\"#000000\" font-family=\"sans-serif\" font-size=\"12\" font-style=\"italic\" lengthAdjust=\"spacingAndGlyphs\" textLength=\"40\" x=\"157\" y=\"231.1387\">«part»</text><text fill=\"#000000\" font-family=\"sans-serif\" font-size=\"12\" lengthAdjust=\"spacingAndGlyphs\" textLength=\"189\" x=\"82.5\" y=\"245.1074\">compositeThing: MassedThing</text><line style=\"stroke: #383838; stroke-width: 1.5;\" x1=\"33\" x2=\"321\" y1=\"252.9375\" y2=\"252.9375\"/><text fill=\"#000000\" font-family=\"sans-serif\" font-size=\"11\" lengthAdjust=\"spacingAndGlyphs\" textLength=\"272\" x=\"38\" y=\"283.9526\">totalMass=mass + (subcomponents-&gt;collect p:</text><text fill=\"#000000\" font-family=\"sans-serif\" font-size=\"11\" lengthAdjust=\"spacingAndGlyphs\" textLength=\"274\" x=\"38\" y=\"296.7573\">MassedThing (p::totalMass)-&gt;reduce '+' ?? 0.0);</text><text fill=\"#000000\" font-family=\"sans-serif\" font-size=\"11\" font-style=\"italic\" lengthAdjust=\"spacingAndGlyphs\" textLength=\"160\" x=\"38\" y=\"309.562\">:&gt;&gt;MassedThing::totalMass</text><line style=\"stroke: #383838; stroke-width: 1.0;\" x1=\"33\" x2=\"149.5\" y1=\"267.3398\" y2=\"267.3398\"/><text fill=\"#000000\" font-family=\"sans-serif\" font-size=\"11\" lengthAdjust=\"spacingAndGlyphs\" textLength=\"55\" x=\"149.5\" y=\"270.6479\">attributes</text><line style=\"stroke: #383838; stroke-width: 1.0;\" x1=\"204.5\" x2=\"321\" y1=\"267.3398\" y2=\"267.3398\"/></a><!--MD5=[270fce915f116d4de14055a7c1d9a0f3]\n",
       "class E5--><a href=\"psysml:09cd1f28-daf0-4d0d-a972-b9bf2a18e992\" target=\"_top\" title=\"psysml:09cd1f28-daf0-4d0d-a972-b9bf2a18e992\" xlink:actuate=\"onRequest\" xlink:href=\"psysml:09cd1f28-daf0-4d0d-a972-b9bf2a18e992\" xlink:show=\"new\" xlink:title=\"psysml:09cd1f28-daf0-4d0d-a972-b9bf2a18e992\" xlink:type=\"simple\"><rect fill=\"#FFFFFF\" height=\"45.9375\" id=\"E5\" rx=\"10\" ry=\"10\" style=\"stroke: #383838; stroke-width: 1.5;\" width=\"197\" x=\"69.5\" y=\"397\"/><text fill=\"#000000\" font-family=\"sans-serif\" font-size=\"12\" font-style=\"italic\" lengthAdjust=\"spacingAndGlyphs\" textLength=\"40\" x=\"148\" y=\"413.1387\">«part»</text><text fill=\"#000000\" font-family=\"sans-serif\" font-size=\"12\" lengthAdjust=\"spacingAndGlyphs\" textLength=\"191\" x=\"72.5\" y=\"427.1074\">subcomponents: MassedThing</text><line style=\"stroke: #383838; stroke-width: 1.5;\" x1=\"70.5\" x2=\"265.5\" y1=\"434.9375\" y2=\"434.9375\"/></a><!--MD5=[60a26617385b1d2d0262a64233df1f8d]\n",
       "class E6--><a href=\"psysml:b3309114-4b2b-46b3-9f4f-dc695177bad1\" target=\"_top\" title=\"psysml:b3309114-4b2b-46b3-9f4f-dc695177bad1\" xlink:actuate=\"onRequest\" xlink:href=\"psysml:b3309114-4b2b-46b3-9f4f-dc695177bad1\" xlink:show=\"new\" xlink:title=\"psysml:b3309114-4b2b-46b3-9f4f-dc695177bad1\" xlink:type=\"simple\"><rect fill=\"#FFFFFF\" height=\"113.9609\" id=\"E6\" rx=\"10\" ry=\"10\" style=\"stroke: #383838; stroke-width: 1.5;\" width=\"309\" x=\"31.5\" y=\"41\"/><text fill=\"#000000\" font-family=\"sans-serif\" font-size=\"12\" font-style=\"italic\" lengthAdjust=\"spacingAndGlyphs\" textLength=\"40\" x=\"166\" y=\"57.1387\">«part»</text><text fill=\"#000000\" font-family=\"sans-serif\" font-size=\"12\" lengthAdjust=\"spacingAndGlyphs\" textLength=\"110\" x=\"131\" y=\"71.1074\">filteredMassThing</text><line style=\"stroke: #383838; stroke-width: 1.5;\" x1=\"32.5\" x2=\"339.5\" y1=\"78.9375\" y2=\"78.9375\"/><text fill=\"#000000\" font-family=\"sans-serif\" font-size=\"11\" lengthAdjust=\"spacingAndGlyphs\" textLength=\"51\" x=\"37.5\" y=\"109.9526\">minMass</text><text fill=\"#000000\" font-family=\"sans-serif\" font-size=\"11\" lengthAdjust=\"spacingAndGlyphs\" textLength=\"297\" x=\"37.5\" y=\"122.7573\">totalMass=(./subcomponents/mass[p (p &gt; minMass</text><text fill=\"#000000\" font-family=\"sans-serif\" font-size=\"11\" lengthAdjust=\"spacingAndGlyphs\" textLength=\"125\" x=\"37.5\" y=\"135.562\">)])-&gt;reduce '+' ?? 0.0;</text><text fill=\"#000000\" font-family=\"sans-serif\" font-size=\"11\" font-style=\"italic\" lengthAdjust=\"spacingAndGlyphs\" textLength=\"160\" x=\"37.5\" y=\"148.3667\">:&gt;&gt;MassedThing::totalMass</text><line style=\"stroke: #383838; stroke-width: 1.0;\" x1=\"32.5\" x2=\"158.5\" y1=\"93.3398\" y2=\"93.3398\"/><text fill=\"#000000\" font-family=\"sans-serif\" font-size=\"11\" lengthAdjust=\"spacingAndGlyphs\" textLength=\"55\" x=\"158.5\" y=\"96.6479\">attributes</text><line style=\"stroke: #383838; stroke-width: 1.0;\" x1=\"213.5\" x2=\"339.5\" y1=\"93.3398\" y2=\"93.3398\"/></a><!--MD5=[05d275557350bfb9b23a4ef7222b4c39]\n",
       "link E3 to E2--><a href=\"psysml:b7a37c04-3b7e-4fde-bcd3-8ff7c74e6a20\" target=\"_top\" title=\"psysml:b7a37c04-3b7e-4fde-bcd3-8ff7c74e6a20\" xlink:actuate=\"onRequest\" xlink:href=\"psysml:b7a37c04-3b7e-4fde-bcd3-8ff7c74e6a20\" xlink:show=\"new\" xlink:title=\"psysml:b7a37c04-3b7e-4fde-bcd3-8ff7c74e6a20\" xlink:type=\"simple\"><path d=\"M323.18,464.02 C293.44,483.75 258.37,507.03 229.1,526.45 \" fill=\"none\" id=\"E3-&gt;E2\" style=\"stroke: #383838; stroke-width: 1.0;\"/><polygon fill=\"#FFFFFF\" points=\"212.17,537.69,224.1349,521.3547,231.873,533.0219,212.17,537.69\" style=\"stroke: #383838; stroke-width: 1.0;\"/><ellipse cx=\"229.9905\" cy=\"519.871\" fill=\"#383838\" rx=\"2\" ry=\"2\" style=\"stroke: #383838; stroke-width: 1.0;\"/><ellipse cx=\"235.5178\" cy=\"528.2046\" fill=\"#383838\" rx=\"2\" ry=\"2\" style=\"stroke: #383838; stroke-width: 1.0;\"/></a><!--MD5=[185131fc0dcab0a4505a2ebe144e961b]\n",
       "link E4 to E2--><a href=\"psysml:9348166f-8cea-4d7c-a96d-6192465a705e\" target=\"_top\" title=\"psysml:9348166f-8cea-4d7c-a96d-6192465a705e\" xlink:actuate=\"onRequest\" xlink:href=\"psysml:9348166f-8cea-4d7c-a96d-6192465a705e\" xlink:show=\"new\" xlink:title=\"psysml:9348166f-8cea-4d7c-a96d-6192465a705e\" xlink:type=\"simple\"><path d=\"M99.7,316.2 C80.53,332.71 62.48,352.88 52,376 C35.85,411.62 35.97,428.33 52,464 C63.74,490.13 85.76,512.33 107.48,529.36 \" fill=\"none\" id=\"E4-&gt;E2\" style=\"stroke: #383838; stroke-width: 1.0;\"/><polygon fill=\"#FFFFFF\" points=\"123.86,541.35,104.3934,535.7776,112.6617,524.48,123.86,541.35\" style=\"stroke: #383838; stroke-width: 1.0;\"/><ellipse cx=\"100.9748\" cy=\"530.7973\" fill=\"#383838\" rx=\"2\" ry=\"2\" style=\"stroke: #383838; stroke-width: 1.0;\"/><ellipse cx=\"106.8807\" cy=\"522.7276\" fill=\"#383838\" rx=\"2\" ry=\"2\" style=\"stroke: #383838; stroke-width: 1.0;\"/></a><!--MD5=[62aa6af11e70f752912c1cb0466f24f7]\n",
       "reverse link E4 to E5--><a href=\"psysml:94e091d2-0286-4211-8181-aedc46ba16d2\" target=\"_top\" title=\"psysml:94e091d2-0286-4211-8181-aedc46ba16d2\" xlink:actuate=\"onRequest\" xlink:href=\"psysml:94e091d2-0286-4211-8181-aedc46ba16d2\" xlink:show=\"new\" xlink:title=\"psysml:94e091d2-0286-4211-8181-aedc46ba16d2\" xlink:type=\"simple\"><path d=\"M173.3,329.13 C171.88,353.21 170.35,379.16 169.3,396.96 \" fill=\"none\" id=\"E4&lt;-E5\" style=\"stroke: #383838; stroke-width: 1.0;\"/><polygon fill=\"#383838\" points=\"174.08,316.01,169.7309,321.762,173.3676,327.9888,177.7167,322.2369,174.08,316.01\" style=\"stroke: #383838; stroke-width: 1.0;\"/><text fill=\"#000000\" font-family=\"sans-serif\" font-size=\"13\" lengthAdjust=\"spacingAndGlyphs\" textLength=\"7\" x=\"161.7088\" y=\"385.8455\">*</text></a><!--MD5=[15ebcb19ae302d9b601edb458606d402]\n",
       "link E5 to E2--><a href=\"psysml:dc08c53a-a0f0-4000-a138-cf80983e3afa\" target=\"_top\" title=\"psysml:dc08c53a-a0f0-4000-a138-cf80983e3afa\" xlink:actuate=\"onRequest\" xlink:href=\"psysml:dc08c53a-a0f0-4000-a138-cf80983e3afa\" xlink:show=\"new\" xlink:title=\"psysml:dc08c53a-a0f0-4000-a138-cf80983e3afa\" xlink:type=\"simple\"><path d=\"M168,443.17 C168,459.31 168,482.04 168,503.62 \" fill=\"none\" id=\"E5-&gt;E2\" style=\"stroke: #383838; stroke-width: 1.0;\"/><polygon fill=\"#FFFFFF\" points=\"168,523.71,161,504.71,175,504.71,168,523.71\" style=\"stroke: #383838; stroke-width: 1.0;\"/><ellipse cx=\"163\" cy=\"499.01\" fill=\"#383838\" rx=\"2\" ry=\"2\" style=\"stroke: #383838; stroke-width: 1.0;\"/><ellipse cx=\"173\" cy=\"499.01\" fill=\"#383838\" rx=\"2\" ry=\"2\" style=\"stroke: #383838; stroke-width: 1.0;\"/></a><!--MD5=[f667431f98296947986a1a7595a31603]\n",
       "link E6 to E4--><a href=\"psysml:b31b3f2c-80ab-44f0-a26e-d801559af683\" target=\"_top\" title=\"psysml:b31b3f2c-80ab-44f0-a26e-d801559af683\" xlink:actuate=\"onRequest\" xlink:href=\"psysml:b31b3f2c-80ab-44f0-a26e-d801559af683\" xlink:show=\"new\" xlink:title=\"psysml:b31b3f2c-80ab-44f0-a26e-d801559af683\" xlink:type=\"simple\"><path d=\"M182.95,155.03 C182.26,167.77 181.52,181.45 180.8,194.69 \" fill=\"none\" id=\"E6-&gt;E4\" style=\"stroke: #383838; stroke-width: 1.0;\"/><polygon fill=\"none\" points=\"187.77,195.32,179.7,214.91,173.79,194.56,187.77,195.32\" style=\"stroke: #383838; stroke-width: 1.0;\"/></a><!--MD5=[1c1f6509fb1c4fbf28a389b4da51776b]\n",
       "@startuml\r\n",
       " skinparam monochrome true\r\n",
       "skinparam classbackgroundcolor white\r\n",
       "skinparam shadowing false\r\n",
       "skinparam wrapWidth 300\r\n",
       "hide circle\r\n",
       "\r\n",
       "package \"MassRollup\" as E1  [[psysml:93cce498-741b-46da-9a76-47f8a90b0e87 ]]  {\r\n",
       "comp def \"MassedThing\" as E2  <<(T,blue)part def>> [[psysml:2bfc4bf5-5785-4629-99c8-bf06d3584a79 ]] {\r\n",
       "- - attributes - -\r\n",
       "mass\r\n",
       "totalMass\r\n",
       "}\r\n",
       "comp usage \"simpleThing: MassedThing\" as E3  <<(T,blue)part>> [[psysml:d9d69a25-c21e-4c46-a572-d7b139b6ee26 ]] {\r\n",
       "- - attributes - -\r\n",
       "totalMass=mass; \\n//:>>MassedThing::totalMass// \r\n",
       "}\r\n",
       "comp usage \"compositeThing: MassedThing\" as E4  <<(T,blue)part>> [[psysml:343123b1-0808-41d0-8b17-a6ebb6acc0cb ]] {\r\n",
       "- - attributes - -\r\n",
       "totalMass=mass + (subcomponents->collect p:MassedThing (p::totalMass)->reduce '+' ?? 0.0); \\n//:>>MassedThing::totalMass// \r\n",
       "}\r\n",
       "comp usage \"subcomponents: MassedThing\" as E5  <<(T,blue)part>> [[psysml:09cd1f28-daf0-4d0d-a972-b9bf2a18e992 ]] {\r\n",
       "}\r\n",
       "comp usage \"filteredMassThing\" as E6  <<(T,blue)part>> [[psysml:b3309114-4b2b-46b3-9f4f-dc695177bad1 ]] {\r\n",
       "- - attributes - -\r\n",
       "minMass\r\n",
       "totalMass=(./subcomponents/mass[p (p > minMass)])->reduce '+' ?? 0.0; \\n//:>>MassedThing::totalMass// \r\n",
       "}\r\n",
       "E3 - -:|> E2 [[psysml:b7a37c04-3b7e-4fde-bcd3-8ff7c74e6a20 ]] \r\n",
       "E4 - -:|> E2 [[psysml:9348166f-8cea-4d7c-a96d-6192465a705e ]] \r\n",
       "E4 *- - \"*\"E5 [[psysml:94e091d2-0286-4211-8181-aedc46ba16d2 ]] \r\n",
       "E5 - -:|> E2 [[psysml:dc08c53a-a0f0-4000-a138-cf80983e3afa ]] \r\n",
       "E6 - -|> E4 [[psysml:b31b3f2c-80ab-44f0-a26e-d801559af683 ]] \r\n",
       "}\r\n",
       "@enduml\r\n",
       "\n",
       "PlantUML version 1.2020.13(Sat Jun 13 12:26:38 UTC 2020)\n",
       "(EPL source distribution)\n",
       "Java Runtime: OpenJDK Runtime Environment\n",
       "JVM: OpenJDK 64-Bit Server VM\n",
       "Default Encoding: UTF-8\n",
       "Language: en\n",
       "Country: null\n",
       "--></g></svg>"
      ]
     },
     "execution_count": 2,
     "metadata": {},
     "output_type": "execute_result"
    }
   ],
   "source": [
    "%viz --style=\"COMPTREE\" --view=\"Default\" \"MassRollup\""
   ]
  },
  {
   "cell_type": "code",
   "execution_count": 3,
   "id": "e55aefae",
   "metadata": {
    "execution": {
     "iopub.execute_input": "2021-04-20T07:26:52.426597Z",
     "iopub.status.busy": "2021-04-20T07:26:52.425127Z",
     "iopub.status.idle": "2021-04-20T07:26:52.948130Z",
     "shell.execute_reply": "2021-04-20T07:26:52.948785Z"
    }
   },
   "outputs": [
    {
     "data": {
      "image/svg+xml": [
       "<?xml version=\"1.0\" encoding=\"UTF-8\" standalone=\"no\"?><svg xmlns=\"http://www.w3.org/2000/svg\" xmlns:xlink=\"http://www.w3.org/1999/xlink\" contentScriptType=\"application/ecmascript\" contentStyleType=\"text/css\" height=\"640px\" preserveAspectRatio=\"none\" style=\"width:512px;height:640px;\" version=\"1.1\" viewBox=\"0 0 512 640\" width=\"512px\" zoomAndPan=\"magnify\"><defs/><g><!--MD5=[fbc87193dbaf4d95561dea2c320d4a47]\n",
       "cluster E1--><a href=\"psysml:93cce498-741b-46da-9a76-47f8a90b0e87\" target=\"_top\" title=\"psysml:93cce498-741b-46da-9a76-47f8a90b0e87\" xlink:actuate=\"onRequest\" xlink:href=\"psysml:93cce498-741b-46da-9a76-47f8a90b0e87\" xlink:show=\"new\" xlink:title=\"psysml:93cce498-741b-46da-9a76-47f8a90b0e87\" xlink:type=\"simple\"><polygon fill=\"#FFFFFF\" points=\"16,6,110,6,117,28.2969,490,28.2969,490,628,16,628,16,6\" style=\"stroke: #000000; stroke-width: 1.5;\"/><line style=\"stroke: #000000; stroke-width: 1.5;\" x1=\"16\" x2=\"117\" y1=\"28.2969\" y2=\"28.2969\"/><text fill=\"#000000\" font-family=\"sans-serif\" font-size=\"14\" font-weight=\"bold\" lengthAdjust=\"spacingAndGlyphs\" textLength=\"88\" x=\"20\" y=\"20.9951\">MassRollup</text></a><!--MD5=[b4997ac47864f28c2f74865a473b2911]\n",
       "class E2--><a href=\"psysml:2bfc4bf5-5785-4629-99c8-bf06d3584a79\" target=\"_top\" title=\"psysml:2bfc4bf5-5785-4629-99c8-bf06d3584a79\" xlink:actuate=\"onRequest\" xlink:href=\"psysml:2bfc4bf5-5785-4629-99c8-bf06d3584a79\" xlink:show=\"new\" xlink:title=\"psysml:2bfc4bf5-5785-4629-99c8-bf06d3584a79\" xlink:type=\"simple\"><rect fill=\"#FFFFFF\" height=\"88.3516\" id=\"E2\" style=\"stroke: #383838; stroke-width: 1.5;\" width=\"88\" x=\"124\" y=\"524\"/><text fill=\"#000000\" font-family=\"sans-serif\" font-size=\"12\" font-style=\"italic\" lengthAdjust=\"spacingAndGlyphs\" textLength=\"64\" x=\"136\" y=\"540.1387\">«part def»</text><text fill=\"#000000\" font-family=\"sans-serif\" font-size=\"12\" lengthAdjust=\"spacingAndGlyphs\" textLength=\"82\" x=\"127\" y=\"554.1074\">MassedThing</text><line style=\"stroke: #383838; stroke-width: 1.5;\" x1=\"125\" x2=\"211\" y1=\"561.9375\" y2=\"561.9375\"/><text fill=\"#000000\" font-family=\"sans-serif\" font-size=\"11\" lengthAdjust=\"spacingAndGlyphs\" textLength=\"32\" x=\"130\" y=\"592.9526\">mass</text><text fill=\"#000000\" font-family=\"sans-serif\" font-size=\"11\" lengthAdjust=\"spacingAndGlyphs\" textLength=\"55\" x=\"130\" y=\"605.7573\">totalMass</text><line style=\"stroke: #383838; stroke-width: 1.0;\" x1=\"125\" x2=\"140.5\" y1=\"576.3398\" y2=\"576.3398\"/><text fill=\"#000000\" font-family=\"sans-serif\" font-size=\"11\" lengthAdjust=\"spacingAndGlyphs\" textLength=\"55\" x=\"140.5\" y=\"579.6479\">attributes</text><line style=\"stroke: #383838; stroke-width: 1.0;\" x1=\"195.5\" x2=\"211\" y1=\"576.3398\" y2=\"576.3398\"/></a><!--MD5=[09b614a08d8cba4a07c9adeb5e0fee81]\n",
       "class E3--><a href=\"psysml:d9d69a25-c21e-4c46-a572-d7b139b6ee26\" target=\"_top\" title=\"psysml:d9d69a25-c21e-4c46-a572-d7b139b6ee26\" xlink:actuate=\"onRequest\" xlink:href=\"psysml:d9d69a25-c21e-4c46-a572-d7b139b6ee26\" xlink:show=\"new\" xlink:title=\"psysml:d9d69a25-c21e-4c46-a572-d7b139b6ee26\" xlink:type=\"simple\"><rect fill=\"#FFFFFF\" height=\"88.3516\" id=\"E3\" rx=\"10\" ry=\"10\" style=\"stroke: #383838; stroke-width: 1.5;\" width=\"172\" x=\"302\" y=\"376\"/><text fill=\"#000000\" font-family=\"sans-serif\" font-size=\"12\" font-style=\"italic\" lengthAdjust=\"spacingAndGlyphs\" textLength=\"40\" x=\"368\" y=\"392.1387\">«part»</text><text fill=\"#000000\" font-family=\"sans-serif\" font-size=\"12\" lengthAdjust=\"spacingAndGlyphs\" textLength=\"164\" x=\"306\" y=\"406.1074\">simpleThing: MassedThing</text><line style=\"stroke: #383838; stroke-width: 1.5;\" x1=\"303\" x2=\"473\" y1=\"413.9375\" y2=\"413.9375\"/><text fill=\"#000000\" font-family=\"sans-serif\" font-size=\"11\" lengthAdjust=\"spacingAndGlyphs\" textLength=\"100\" x=\"308\" y=\"444.9526\">totalMass=mass;</text><text fill=\"#000000\" font-family=\"sans-serif\" font-size=\"11\" font-style=\"italic\" lengthAdjust=\"spacingAndGlyphs\" textLength=\"160\" x=\"308\" y=\"457.7573\">:&gt;&gt;MassedThing::totalMass</text><line style=\"stroke: #383838; stroke-width: 1.0;\" x1=\"303\" x2=\"360.5\" y1=\"428.3398\" y2=\"428.3398\"/><text fill=\"#000000\" font-family=\"sans-serif\" font-size=\"11\" lengthAdjust=\"spacingAndGlyphs\" textLength=\"55\" x=\"360.5\" y=\"431.6479\">attributes</text><line style=\"stroke: #383838; stroke-width: 1.0;\" x1=\"415.5\" x2=\"473\" y1=\"428.3398\" y2=\"428.3398\"/></a><!--MD5=[ebbe1d658d1005bcc118a6aa81145e00]\n",
       "class E4--><a href=\"psysml:343123b1-0808-41d0-8b17-a6ebb6acc0cb\" target=\"_top\" title=\"psysml:343123b1-0808-41d0-8b17-a6ebb6acc0cb\" xlink:actuate=\"onRequest\" xlink:href=\"psysml:343123b1-0808-41d0-8b17-a6ebb6acc0cb\" xlink:show=\"new\" xlink:title=\"psysml:343123b1-0808-41d0-8b17-a6ebb6acc0cb\" xlink:type=\"simple\"><rect fill=\"#FFFFFF\" height=\"101.1563\" id=\"E4\" rx=\"10\" ry=\"10\" style=\"stroke: #383838; stroke-width: 1.5;\" width=\"290\" x=\"32\" y=\"215\"/><text fill=\"#000000\" font-family=\"sans-serif\" font-size=\"12\" font-style=\"italic\" lengthAdjust=\"spacingAndGlyphs\" textLength=\"40\" x=\"157\" y=\"231.1387\">«part»</text><text fill=\"#000000\" font-family=\"sans-serif\" font-size=\"12\" lengthAdjust=\"spacingAndGlyphs\" textLength=\"189\" x=\"82.5\" y=\"245.1074\">compositeThing: MassedThing</text><line style=\"stroke: #383838; stroke-width: 1.5;\" x1=\"33\" x2=\"321\" y1=\"252.9375\" y2=\"252.9375\"/><text fill=\"#000000\" font-family=\"sans-serif\" font-size=\"11\" lengthAdjust=\"spacingAndGlyphs\" textLength=\"272\" x=\"38\" y=\"283.9526\">totalMass=mass + (subcomponents-&gt;collect p:</text><text fill=\"#000000\" font-family=\"sans-serif\" font-size=\"11\" lengthAdjust=\"spacingAndGlyphs\" textLength=\"274\" x=\"38\" y=\"296.7573\">MassedThing (p::totalMass)-&gt;reduce '+' ?? 0.0);</text><text fill=\"#000000\" font-family=\"sans-serif\" font-size=\"11\" font-style=\"italic\" lengthAdjust=\"spacingAndGlyphs\" textLength=\"160\" x=\"38\" y=\"309.562\">:&gt;&gt;MassedThing::totalMass</text><line style=\"stroke: #383838; stroke-width: 1.0;\" x1=\"33\" x2=\"149.5\" y1=\"267.3398\" y2=\"267.3398\"/><text fill=\"#000000\" font-family=\"sans-serif\" font-size=\"11\" lengthAdjust=\"spacingAndGlyphs\" textLength=\"55\" x=\"149.5\" y=\"270.6479\">attributes</text><line style=\"stroke: #383838; stroke-width: 1.0;\" x1=\"204.5\" x2=\"321\" y1=\"267.3398\" y2=\"267.3398\"/></a><!--MD5=[270fce915f116d4de14055a7c1d9a0f3]\n",
       "class E5--><a href=\"psysml:09cd1f28-daf0-4d0d-a972-b9bf2a18e992\" target=\"_top\" title=\"psysml:09cd1f28-daf0-4d0d-a972-b9bf2a18e992\" xlink:actuate=\"onRequest\" xlink:href=\"psysml:09cd1f28-daf0-4d0d-a972-b9bf2a18e992\" xlink:show=\"new\" xlink:title=\"psysml:09cd1f28-daf0-4d0d-a972-b9bf2a18e992\" xlink:type=\"simple\"><rect fill=\"#FFFFFF\" height=\"45.9375\" id=\"E5\" rx=\"10\" ry=\"10\" style=\"stroke: #383838; stroke-width: 1.5;\" width=\"197\" x=\"69.5\" y=\"397\"/><text fill=\"#000000\" font-family=\"sans-serif\" font-size=\"12\" font-style=\"italic\" lengthAdjust=\"spacingAndGlyphs\" textLength=\"40\" x=\"148\" y=\"413.1387\">«part»</text><text fill=\"#000000\" font-family=\"sans-serif\" font-size=\"12\" lengthAdjust=\"spacingAndGlyphs\" textLength=\"191\" x=\"72.5\" y=\"427.1074\">subcomponents: MassedThing</text><line style=\"stroke: #383838; stroke-width: 1.5;\" x1=\"70.5\" x2=\"265.5\" y1=\"434.9375\" y2=\"434.9375\"/></a><!--MD5=[60a26617385b1d2d0262a64233df1f8d]\n",
       "class E6--><a href=\"psysml:b3309114-4b2b-46b3-9f4f-dc695177bad1\" target=\"_top\" title=\"psysml:b3309114-4b2b-46b3-9f4f-dc695177bad1\" xlink:actuate=\"onRequest\" xlink:href=\"psysml:b3309114-4b2b-46b3-9f4f-dc695177bad1\" xlink:show=\"new\" xlink:title=\"psysml:b3309114-4b2b-46b3-9f4f-dc695177bad1\" xlink:type=\"simple\"><rect fill=\"#FFFFFF\" height=\"113.9609\" id=\"E6\" rx=\"10\" ry=\"10\" style=\"stroke: #383838; stroke-width: 1.5;\" width=\"309\" x=\"31.5\" y=\"41\"/><text fill=\"#000000\" font-family=\"sans-serif\" font-size=\"12\" font-style=\"italic\" lengthAdjust=\"spacingAndGlyphs\" textLength=\"40\" x=\"166\" y=\"57.1387\">«part»</text><text fill=\"#000000\" font-family=\"sans-serif\" font-size=\"12\" lengthAdjust=\"spacingAndGlyphs\" textLength=\"110\" x=\"131\" y=\"71.1074\">filteredMassThing</text><line style=\"stroke: #383838; stroke-width: 1.5;\" x1=\"32.5\" x2=\"339.5\" y1=\"78.9375\" y2=\"78.9375\"/><text fill=\"#000000\" font-family=\"sans-serif\" font-size=\"11\" lengthAdjust=\"spacingAndGlyphs\" textLength=\"51\" x=\"37.5\" y=\"109.9526\">minMass</text><text fill=\"#000000\" font-family=\"sans-serif\" font-size=\"11\" lengthAdjust=\"spacingAndGlyphs\" textLength=\"297\" x=\"37.5\" y=\"122.7573\">totalMass=(./subcomponents/mass[p (p &gt; minMass</text><text fill=\"#000000\" font-family=\"sans-serif\" font-size=\"11\" lengthAdjust=\"spacingAndGlyphs\" textLength=\"125\" x=\"37.5\" y=\"135.562\">)])-&gt;reduce '+' ?? 0.0;</text><text fill=\"#000000\" font-family=\"sans-serif\" font-size=\"11\" font-style=\"italic\" lengthAdjust=\"spacingAndGlyphs\" textLength=\"160\" x=\"37.5\" y=\"148.3667\">:&gt;&gt;MassedThing::totalMass</text><line style=\"stroke: #383838; stroke-width: 1.0;\" x1=\"32.5\" x2=\"158.5\" y1=\"93.3398\" y2=\"93.3398\"/><text fill=\"#000000\" font-family=\"sans-serif\" font-size=\"11\" lengthAdjust=\"spacingAndGlyphs\" textLength=\"55\" x=\"158.5\" y=\"96.6479\">attributes</text><line style=\"stroke: #383838; stroke-width: 1.0;\" x1=\"213.5\" x2=\"339.5\" y1=\"93.3398\" y2=\"93.3398\"/></a><!--MD5=[05d275557350bfb9b23a4ef7222b4c39]\n",
       "link E3 to E2--><a href=\"psysml:b7a37c04-3b7e-4fde-bcd3-8ff7c74e6a20\" target=\"_top\" title=\"psysml:b7a37c04-3b7e-4fde-bcd3-8ff7c74e6a20\" xlink:actuate=\"onRequest\" xlink:href=\"psysml:b7a37c04-3b7e-4fde-bcd3-8ff7c74e6a20\" xlink:show=\"new\" xlink:title=\"psysml:b7a37c04-3b7e-4fde-bcd3-8ff7c74e6a20\" xlink:type=\"simple\"><path d=\"M323.18,464.02 C293.44,483.75 258.37,507.03 229.1,526.45 \" fill=\"none\" id=\"E3-&gt;E2\" style=\"stroke: #383838; stroke-width: 1.0;\"/><polygon fill=\"#FFFFFF\" points=\"212.17,537.69,224.1349,521.3547,231.873,533.0219,212.17,537.69\" style=\"stroke: #383838; stroke-width: 1.0;\"/><ellipse cx=\"229.9905\" cy=\"519.871\" fill=\"#383838\" rx=\"2\" ry=\"2\" style=\"stroke: #383838; stroke-width: 1.0;\"/><ellipse cx=\"235.5178\" cy=\"528.2046\" fill=\"#383838\" rx=\"2\" ry=\"2\" style=\"stroke: #383838; stroke-width: 1.0;\"/></a><!--MD5=[185131fc0dcab0a4505a2ebe144e961b]\n",
       "link E4 to E2--><a href=\"psysml:9348166f-8cea-4d7c-a96d-6192465a705e\" target=\"_top\" title=\"psysml:9348166f-8cea-4d7c-a96d-6192465a705e\" xlink:actuate=\"onRequest\" xlink:href=\"psysml:9348166f-8cea-4d7c-a96d-6192465a705e\" xlink:show=\"new\" xlink:title=\"psysml:9348166f-8cea-4d7c-a96d-6192465a705e\" xlink:type=\"simple\"><path d=\"M99.7,316.2 C80.53,332.71 62.48,352.88 52,376 C35.85,411.62 35.97,428.33 52,464 C63.74,490.13 85.76,512.33 107.48,529.36 \" fill=\"none\" id=\"E4-&gt;E2\" style=\"stroke: #383838; stroke-width: 1.0;\"/><polygon fill=\"#FFFFFF\" points=\"123.86,541.35,104.3934,535.7776,112.6617,524.48,123.86,541.35\" style=\"stroke: #383838; stroke-width: 1.0;\"/><ellipse cx=\"100.9748\" cy=\"530.7973\" fill=\"#383838\" rx=\"2\" ry=\"2\" style=\"stroke: #383838; stroke-width: 1.0;\"/><ellipse cx=\"106.8807\" cy=\"522.7276\" fill=\"#383838\" rx=\"2\" ry=\"2\" style=\"stroke: #383838; stroke-width: 1.0;\"/></a><!--MD5=[62aa6af11e70f752912c1cb0466f24f7]\n",
       "reverse link E4 to E5--><a href=\"psysml:94e091d2-0286-4211-8181-aedc46ba16d2\" target=\"_top\" title=\"psysml:94e091d2-0286-4211-8181-aedc46ba16d2\" xlink:actuate=\"onRequest\" xlink:href=\"psysml:94e091d2-0286-4211-8181-aedc46ba16d2\" xlink:show=\"new\" xlink:title=\"psysml:94e091d2-0286-4211-8181-aedc46ba16d2\" xlink:type=\"simple\"><path d=\"M173.3,329.13 C171.88,353.21 170.35,379.16 169.3,396.96 \" fill=\"none\" id=\"E4&lt;-E5\" style=\"stroke: #383838; stroke-width: 1.0;\"/><polygon fill=\"#383838\" points=\"174.08,316.01,169.7309,321.762,173.3676,327.9888,177.7167,322.2369,174.08,316.01\" style=\"stroke: #383838; stroke-width: 1.0;\"/><text fill=\"#000000\" font-family=\"sans-serif\" font-size=\"13\" lengthAdjust=\"spacingAndGlyphs\" textLength=\"7\" x=\"161.7088\" y=\"385.8455\">*</text></a><!--MD5=[15ebcb19ae302d9b601edb458606d402]\n",
       "link E5 to E2--><a href=\"psysml:dc08c53a-a0f0-4000-a138-cf80983e3afa\" target=\"_top\" title=\"psysml:dc08c53a-a0f0-4000-a138-cf80983e3afa\" xlink:actuate=\"onRequest\" xlink:href=\"psysml:dc08c53a-a0f0-4000-a138-cf80983e3afa\" xlink:show=\"new\" xlink:title=\"psysml:dc08c53a-a0f0-4000-a138-cf80983e3afa\" xlink:type=\"simple\"><path d=\"M168,443.17 C168,459.31 168,482.04 168,503.62 \" fill=\"none\" id=\"E5-&gt;E2\" style=\"stroke: #383838; stroke-width: 1.0;\"/><polygon fill=\"#FFFFFF\" points=\"168,523.71,161,504.71,175,504.71,168,523.71\" style=\"stroke: #383838; stroke-width: 1.0;\"/><ellipse cx=\"163\" cy=\"499.01\" fill=\"#383838\" rx=\"2\" ry=\"2\" style=\"stroke: #383838; stroke-width: 1.0;\"/><ellipse cx=\"173\" cy=\"499.01\" fill=\"#383838\" rx=\"2\" ry=\"2\" style=\"stroke: #383838; stroke-width: 1.0;\"/></a><!--MD5=[f667431f98296947986a1a7595a31603]\n",
       "link E6 to E4--><a href=\"psysml:b31b3f2c-80ab-44f0-a26e-d801559af683\" target=\"_top\" title=\"psysml:b31b3f2c-80ab-44f0-a26e-d801559af683\" xlink:actuate=\"onRequest\" xlink:href=\"psysml:b31b3f2c-80ab-44f0-a26e-d801559af683\" xlink:show=\"new\" xlink:title=\"psysml:b31b3f2c-80ab-44f0-a26e-d801559af683\" xlink:type=\"simple\"><path d=\"M182.95,155.03 C182.26,167.77 181.52,181.45 180.8,194.69 \" fill=\"none\" id=\"E6-&gt;E4\" style=\"stroke: #383838; stroke-width: 1.0;\"/><polygon fill=\"none\" points=\"187.77,195.32,179.7,214.91,173.79,194.56,187.77,195.32\" style=\"stroke: #383838; stroke-width: 1.0;\"/></a><!--MD5=[1c1f6509fb1c4fbf28a389b4da51776b]\n",
       "@startuml\r\n",
       " skinparam monochrome true\r\n",
       "skinparam classbackgroundcolor white\r\n",
       "skinparam shadowing false\r\n",
       "skinparam wrapWidth 300\r\n",
       "hide circle\r\n",
       "\r\n",
       "package \"MassRollup\" as E1  [[psysml:93cce498-741b-46da-9a76-47f8a90b0e87 ]]  {\r\n",
       "comp def \"MassedThing\" as E2  <<(T,blue)part def>> [[psysml:2bfc4bf5-5785-4629-99c8-bf06d3584a79 ]] {\r\n",
       "- - attributes - -\r\n",
       "mass\r\n",
       "totalMass\r\n",
       "}\r\n",
       "comp usage \"simpleThing: MassedThing\" as E3  <<(T,blue)part>> [[psysml:d9d69a25-c21e-4c46-a572-d7b139b6ee26 ]] {\r\n",
       "- - attributes - -\r\n",
       "totalMass=mass; \\n//:>>MassedThing::totalMass// \r\n",
       "}\r\n",
       "comp usage \"compositeThing: MassedThing\" as E4  <<(T,blue)part>> [[psysml:343123b1-0808-41d0-8b17-a6ebb6acc0cb ]] {\r\n",
       "- - attributes - -\r\n",
       "totalMass=mass + (subcomponents->collect p:MassedThing (p::totalMass)->reduce '+' ?? 0.0); \\n//:>>MassedThing::totalMass// \r\n",
       "}\r\n",
       "comp usage \"subcomponents: MassedThing\" as E5  <<(T,blue)part>> [[psysml:09cd1f28-daf0-4d0d-a972-b9bf2a18e992 ]] {\r\n",
       "}\r\n",
       "comp usage \"filteredMassThing\" as E6  <<(T,blue)part>> [[psysml:b3309114-4b2b-46b3-9f4f-dc695177bad1 ]] {\r\n",
       "- - attributes - -\r\n",
       "minMass\r\n",
       "totalMass=(./subcomponents/mass[p (p > minMass)])->reduce '+' ?? 0.0; \\n//:>>MassedThing::totalMass// \r\n",
       "}\r\n",
       "E3 - -:|> E2 [[psysml:b7a37c04-3b7e-4fde-bcd3-8ff7c74e6a20 ]] \r\n",
       "E4 - -:|> E2 [[psysml:9348166f-8cea-4d7c-a96d-6192465a705e ]] \r\n",
       "E4 *- - \"*\"E5 [[psysml:94e091d2-0286-4211-8181-aedc46ba16d2 ]] \r\n",
       "E5 - -:|> E2 [[psysml:dc08c53a-a0f0-4000-a138-cf80983e3afa ]] \r\n",
       "E6 - -|> E4 [[psysml:b31b3f2c-80ab-44f0-a26e-d801559af683 ]] \r\n",
       "}\r\n",
       "@enduml\r\n",
       "\n",
       "PlantUML version 1.2020.13(Sat Jun 13 12:26:38 UTC 2020)\n",
       "(EPL source distribution)\n",
       "Java Runtime: OpenJDK Runtime Environment\n",
       "JVM: OpenJDK 64-Bit Server VM\n",
       "Default Encoding: UTF-8\n",
       "Language: en\n",
       "Country: null\n",
       "--></g></svg>"
      ]
     },
     "execution_count": 3,
     "metadata": {},
     "output_type": "execute_result"
    }
   ],
   "source": [
    "%viz --style=\"COMPTREE\" --view=\"Tree\" \"MassRollup\""
   ]
  },
  {
   "cell_type": "code",
   "execution_count": 4,
   "id": "217a1a9f",
   "metadata": {
    "execution": {
     "iopub.execute_input": "2021-04-20T07:26:53.002103Z",
     "iopub.status.busy": "2021-04-20T07:26:52.999505Z",
     "iopub.status.idle": "2021-04-20T07:26:53.018025Z",
     "shell.execute_reply": "2021-04-20T07:26:53.017041Z"
    }
   },
   "outputs": [
    {
     "data": {
      "image/svg+xml": [
       "<?xml version=\"1.0\" encoding=\"UTF-8\" standalone=\"no\"?><svg xmlns=\"http://www.w3.org/2000/svg\" xmlns:xlink=\"http://www.w3.org/1999/xlink\" contentScriptType=\"application/ecmascript\" contentStyleType=\"text/css\" height=\"12px\" preserveAspectRatio=\"none\" style=\"width:12px;height:12px;\" version=\"1.1\" viewBox=\"0 0 12 12\" width=\"12px\" zoomAndPan=\"magnify\"><defs/><g><!--MD5=[f19188ef49e11757b5c46753f95d9edc]\n",
       "@startuml\r\n",
       " skinparam monochrome true\r\n",
       "skinparam classbackgroundcolor white\r\n",
       "skinparam shadowing false\r\n",
       "skinparam wrapWidth 300\r\n",
       "hide circle\r\n",
       "\r\n",
       "@enduml\r\n",
       "\n",
       "PlantUML version 1.2020.13(Sat Jun 13 12:26:38 UTC 2020)\n",
       "(EPL source distribution)\n",
       "Java Runtime: OpenJDK Runtime Environment\n",
       "JVM: OpenJDK 64-Bit Server VM\n",
       "Default Encoding: UTF-8\n",
       "Language: en\n",
       "Country: null\n",
       "--></g></svg>"
      ]
     },
     "execution_count": 4,
     "metadata": {},
     "output_type": "execute_result"
    }
   ],
   "source": [
    "%viz --style=\"COMPTREE\" --view=\"State\" \"MassRollup\""
   ]
  },
  {
   "cell_type": "code",
   "execution_count": 5,
   "id": "a6f8d03b",
   "metadata": {
    "execution": {
     "iopub.execute_input": "2021-04-20T07:26:53.070863Z",
     "iopub.status.busy": "2021-04-20T07:26:53.069103Z",
     "iopub.status.idle": "2021-04-20T07:26:53.181913Z",
     "shell.execute_reply": "2021-04-20T07:26:53.180872Z"
    }
   },
   "outputs": [
    {
     "data": {
      "image/svg+xml": [
       "<?xml version=\"1.0\" encoding=\"UTF-8\" standalone=\"no\"?><svg xmlns=\"http://www.w3.org/2000/svg\" xmlns:xlink=\"http://www.w3.org/1999/xlink\" contentScriptType=\"application/ecmascript\" contentStyleType=\"text/css\" height=\"319px\" preserveAspectRatio=\"none\" style=\"width:911px;height:319px;\" version=\"1.1\" viewBox=\"0 0 911 319\" width=\"911px\" zoomAndPan=\"magnify\"><defs/><g><!--MD5=[fbc87193dbaf4d95561dea2c320d4a47]\n",
       "cluster E1--><a href=\"psysml:93cce498-741b-46da-9a76-47f8a90b0e87\" target=\"_top\" title=\"psysml:93cce498-741b-46da-9a76-47f8a90b0e87\" xlink:actuate=\"onRequest\" xlink:href=\"psysml:93cce498-741b-46da-9a76-47f8a90b0e87\" xlink:show=\"new\" xlink:title=\"psysml:93cce498-741b-46da-9a76-47f8a90b0e87\" xlink:type=\"simple\"><polygon fill=\"#FFFFFF\" points=\"16,6,110,6,117,28.2969,889,28.2969,889,307,16,307,16,6\" style=\"stroke: #000000; stroke-width: 1.5;\"/><line style=\"stroke: #000000; stroke-width: 1.5;\" x1=\"16\" x2=\"117\" y1=\"28.2969\" y2=\"28.2969\"/><text fill=\"#000000\" font-family=\"sans-serif\" font-size=\"14\" font-weight=\"bold\" lengthAdjust=\"spacingAndGlyphs\" textLength=\"88\" x=\"20\" y=\"20.9951\">MassRollup</text></a><!--MD5=[e4f7fae6ed58524ba242bb0b0d3be6b7]\n",
       "cluster E2--><a href=\"psysml:2bfc4bf5-5785-4629-99c8-bf06d3584a79\" target=\"_top\" title=\"psysml:2bfc4bf5-5785-4629-99c8-bf06d3584a79\" xlink:actuate=\"onRequest\" xlink:href=\"psysml:2bfc4bf5-5785-4629-99c8-bf06d3584a79\" xlink:show=\"new\" xlink:title=\"psysml:2bfc4bf5-5785-4629-99c8-bf06d3584a79\" xlink:type=\"simple\"><rect fill=\"#FFFFFF\" height=\"113\" id=\"E2\" style=\"stroke: #383838; stroke-width: 1.5;\" width=\"210\" x=\"511\" y=\"170\"/><rect fill=\"#F8F8F8\" height=\"37.9375\" style=\"stroke: #383838; stroke-width: 1.5;\" width=\"210\" x=\"511\" y=\"170\"/><text fill=\"#000000\" font-family=\"sans-serif\" font-size=\"12\" font-style=\"italic\" lengthAdjust=\"spacingAndGlyphs\" textLength=\"64\" x=\"584\" y=\"186.1387\">«part def»</text><text fill=\"#000000\" font-family=\"sans-serif\" font-size=\"12\" lengthAdjust=\"spacingAndGlyphs\" textLength=\"82\" x=\"575\" y=\"200.1074\">MassedThing</text></a><!--MD5=[de5ec2e2e8f62f467e546659f5068c88]\n",
       "cluster E5--><a href=\"psysml:d9d69a25-c21e-4c46-a572-d7b139b6ee26\" target=\"_top\" title=\"psysml:d9d69a25-c21e-4c46-a572-d7b139b6ee26\" xlink:actuate=\"onRequest\" xlink:href=\"psysml:d9d69a25-c21e-4c46-a572-d7b139b6ee26\" xlink:show=\"new\" xlink:title=\"psysml:d9d69a25-c21e-4c46-a572-d7b139b6ee26\" xlink:type=\"simple\"><rect fill=\"#FFFFFF\" height=\"97\" id=\"E5\" rx=\"10\" ry=\"10\" style=\"stroke: #383838; stroke-width: 1.5;\" width=\"226\" x=\"639\" y=\"49\"/><rect fill=\"#F8F8F8\" height=\"23.9688\" rx=\"10\" ry=\"10\" style=\"stroke: #F8F8F8; stroke-width: 1.5;\" width=\"226\" x=\"639\" y=\"49\"/><rect fill=\"#F8F8F8\" height=\"10\" style=\"stroke: #F8F8F8; stroke-width: 1.5;\" width=\"226\" x=\"639\" y=\"62.9688\"/><rect fill=\"none\" height=\"97\" id=\"E5\" rx=\"10\" ry=\"10\" style=\"stroke: #383838; stroke-width: 1.5;\" width=\"226\" x=\"639\" y=\"49\"/><text fill=\"#000000\" font-family=\"sans-serif\" font-size=\"12\" lengthAdjust=\"spacingAndGlyphs\" textLength=\"164\" x=\"670\" y=\"65.1387\">simpleThing: MassedThing</text><line style=\"stroke: #383838; stroke-width: 1.0;\" x1=\"639\" x2=\"865\" y1=\"72.9688\" y2=\"72.9688\"/></a><!--MD5=[168fadf3d0c3fd93dd5d6da1b1d7ab76]\n",
       "cluster E7--><a href=\"psysml:343123b1-0808-41d0-8b17-a6ebb6acc0cb\" target=\"_top\" title=\"psysml:343123b1-0808-41d0-8b17-a6ebb6acc0cb\" xlink:actuate=\"onRequest\" xlink:href=\"psysml:343123b1-0808-41d0-8b17-a6ebb6acc0cb\" xlink:show=\"new\" xlink:title=\"psysml:343123b1-0808-41d0-8b17-a6ebb6acc0cb\" xlink:type=\"simple\"><rect fill=\"#FFFFFF\" height=\"97\" id=\"E7\" rx=\"10\" ry=\"10\" style=\"stroke: #383838; stroke-width: 1.5;\" width=\"341\" x=\"274\" y=\"49\"/><rect fill=\"#F8F8F8\" height=\"23.9688\" rx=\"10\" ry=\"10\" style=\"stroke: #F8F8F8; stroke-width: 1.5;\" width=\"341\" x=\"274\" y=\"49\"/><rect fill=\"#F8F8F8\" height=\"10\" style=\"stroke: #F8F8F8; stroke-width: 1.5;\" width=\"341\" x=\"274\" y=\"62.9688\"/><rect fill=\"none\" height=\"97\" id=\"E7\" rx=\"10\" ry=\"10\" style=\"stroke: #383838; stroke-width: 1.5;\" width=\"341\" x=\"274\" y=\"49\"/><text fill=\"#000000\" font-family=\"sans-serif\" font-size=\"12\" lengthAdjust=\"spacingAndGlyphs\" textLength=\"189\" x=\"350\" y=\"65.1387\">compositeThing: MassedThing</text><line style=\"stroke: #383838; stroke-width: 1.0;\" x1=\"274\" x2=\"615\" y1=\"72.9688\" y2=\"72.9688\"/></a><!--MD5=[a84b4591f868c1fa4a211716a82f2f0d]\n",
       "cluster E10--><a href=\"psysml:b3309114-4b2b-46b3-9f4f-dc695177bad1\" target=\"_top\" title=\"psysml:b3309114-4b2b-46b3-9f4f-dc695177bad1\" xlink:actuate=\"onRequest\" xlink:href=\"psysml:b3309114-4b2b-46b3-9f4f-dc695177bad1\" xlink:show=\"new\" xlink:title=\"psysml:b3309114-4b2b-46b3-9f4f-dc695177bad1\" xlink:type=\"simple\"><rect fill=\"#FFFFFF\" height=\"97\" id=\"E10\" rx=\"10\" ry=\"10\" style=\"stroke: #383838; stroke-width: 1.5;\" width=\"210\" x=\"40\" y=\"49\"/><rect fill=\"#F8F8F8\" height=\"23.9688\" rx=\"10\" ry=\"10\" style=\"stroke: #F8F8F8; stroke-width: 1.5;\" width=\"210\" x=\"40\" y=\"49\"/><rect fill=\"#F8F8F8\" height=\"10\" style=\"stroke: #F8F8F8; stroke-width: 1.5;\" width=\"210\" x=\"40\" y=\"62.9688\"/><rect fill=\"none\" height=\"97\" id=\"E10\" rx=\"10\" ry=\"10\" style=\"stroke: #383838; stroke-width: 1.5;\" width=\"210\" x=\"40\" y=\"49\"/><text fill=\"#000000\" font-family=\"sans-serif\" font-size=\"12\" lengthAdjust=\"spacingAndGlyphs\" textLength=\"110\" x=\"90\" y=\"65.1387\">filteredMassThing</text><line style=\"stroke: #383838; stroke-width: 1.0;\" x1=\"40\" x2=\"250\" y1=\"72.9688\" y2=\"72.9688\"/></a><!--MD5=[09b614a08d8cba4a07c9adeb5e0fee81]\n",
       "class E3--><a href=\"psysml:61227fbe-a3c3-436a-919d-ba064597e112\" target=\"_top\" title=\"psysml:61227fbe-a3c3-436a-919d-ba064597e112\" xlink:actuate=\"onRequest\" xlink:href=\"psysml:61227fbe-a3c3-436a-919d-ba064597e112\" xlink:show=\"new\" xlink:title=\"psysml:61227fbe-a3c3-436a-919d-ba064597e112\" xlink:type=\"simple\"><rect fill=\"#FFFFFF\" height=\"45.9375\" id=\"E3\" rx=\"10\" ry=\"10\" style=\"stroke: #383838; stroke-width: 1.5;\" width=\"71\" x=\"633.5\" y=\"221\"/><text fill=\"#000000\" font-family=\"sans-serif\" font-size=\"12\" font-style=\"italic\" lengthAdjust=\"spacingAndGlyphs\" textLength=\"69\" x=\"634.5\" y=\"237.1387\">«attribute»</text><text fill=\"#000000\" font-family=\"sans-serif\" font-size=\"12\" lengthAdjust=\"spacingAndGlyphs\" textLength=\"33\" x=\"652.5\" y=\"251.1074\">mass</text><line style=\"stroke: #383838; stroke-width: 1.5;\" x1=\"634.5\" x2=\"703.5\" y1=\"258.9375\" y2=\"258.9375\"/></a><!--MD5=[ebbe1d658d1005bcc118a6aa81145e00]\n",
       "class E4--><a href=\"psysml:bca4197d-355d-4faa-812b-dbfc0b076639\" target=\"_top\" title=\"psysml:bca4197d-355d-4faa-812b-dbfc0b076639\" xlink:actuate=\"onRequest\" xlink:href=\"psysml:bca4197d-355d-4faa-812b-dbfc0b076639\" xlink:show=\"new\" xlink:title=\"psysml:bca4197d-355d-4faa-812b-dbfc0b076639\" xlink:type=\"simple\"><rect fill=\"#FFFFFF\" height=\"45.9375\" id=\"E4\" rx=\"10\" ry=\"10\" style=\"stroke: #383838; stroke-width: 1.5;\" width=\"71\" x=\"527.5\" y=\"221\"/><text fill=\"#000000\" font-family=\"sans-serif\" font-size=\"12\" font-style=\"italic\" lengthAdjust=\"spacingAndGlyphs\" textLength=\"69\" x=\"528.5\" y=\"237.1387\">«attribute»</text><text fill=\"#000000\" font-family=\"sans-serif\" font-size=\"12\" lengthAdjust=\"spacingAndGlyphs\" textLength=\"61\" x=\"532.5\" y=\"251.1074\">totalMass</text><line style=\"stroke: #383838; stroke-width: 1.5;\" x1=\"528.5\" x2=\"597.5\" y1=\"258.9375\" y2=\"258.9375\"/></a><!--MD5=[60a26617385b1d2d0262a64233df1f8d]\n",
       "class E6--><a href=\"psysml:5dd4dd8f-7a34-4faa-ae4e-b0f44a463cf1\" target=\"_top\" title=\"psysml:5dd4dd8f-7a34-4faa-ae4e-b0f44a463cf1\" xlink:actuate=\"onRequest\" xlink:href=\"psysml:5dd4dd8f-7a34-4faa-ae4e-b0f44a463cf1\" xlink:show=\"new\" xlink:title=\"psysml:5dd4dd8f-7a34-4faa-ae4e-b0f44a463cf1\" xlink:type=\"simple\"><rect fill=\"#FFFFFF\" height=\"45.9375\" id=\"E6\" rx=\"10\" ry=\"10\" style=\"stroke: #383838; stroke-width: 1.5;\" width=\"71\" x=\"655.5\" y=\"84\"/><text fill=\"#000000\" font-family=\"sans-serif\" font-size=\"12\" font-style=\"italic\" lengthAdjust=\"spacingAndGlyphs\" textLength=\"69\" x=\"656.5\" y=\"100.1387\">«attribute»</text><text fill=\"#000000\" font-family=\"sans-serif\" font-size=\"12\" lengthAdjust=\"spacingAndGlyphs\" textLength=\"61\" x=\"660.5\" y=\"114.1074\">totalMass</text><line style=\"stroke: #383838; stroke-width: 1.5;\" x1=\"656.5\" x2=\"725.5\" y1=\"121.9375\" y2=\"121.9375\"/></a><!--MD5=[fd4143e9d270a159db93a4ea2a975926]\n",
       "class E9--><a href=\"psysml:cdf15466-8892-46e6-adfe-254829aa90b9\" target=\"_top\" title=\"psysml:cdf15466-8892-46e6-adfe-254829aa90b9\" xlink:actuate=\"onRequest\" xlink:href=\"psysml:cdf15466-8892-46e6-adfe-254829aa90b9\" xlink:show=\"new\" xlink:title=\"psysml:cdf15466-8892-46e6-adfe-254829aa90b9\" xlink:type=\"simple\"><rect fill=\"#FFFFFF\" height=\"45.9375\" id=\"E9\" rx=\"10\" ry=\"10\" style=\"stroke: #383838; stroke-width: 1.5;\" width=\"71\" x=\"527.5\" y=\"84\"/><text fill=\"#000000\" font-family=\"sans-serif\" font-size=\"12\" font-style=\"italic\" lengthAdjust=\"spacingAndGlyphs\" textLength=\"69\" x=\"528.5\" y=\"100.1387\">«attribute»</text><text fill=\"#000000\" font-family=\"sans-serif\" font-size=\"12\" lengthAdjust=\"spacingAndGlyphs\" textLength=\"61\" x=\"532.5\" y=\"114.1074\">totalMass</text><line style=\"stroke: #383838; stroke-width: 1.5;\" x1=\"528.5\" x2=\"597.5\" y1=\"121.9375\" y2=\"121.9375\"/></a><g id=\"E1.E7.E8\"><a href=\"psysml:09cd1f28-daf0-4d0d-a972-b9bf2a18e992\" target=\"_top\" title=\"psysml:09cd1f28-daf0-4d0d-a972-b9bf2a18e992\" xlink:actuate=\"onRequest\" xlink:href=\"psysml:09cd1f28-daf0-4d0d-a972-b9bf2a18e992\" xlink:show=\"new\" xlink:title=\"psysml:09cd1f28-daf0-4d0d-a972-b9bf2a18e992\" xlink:type=\"simple\"><rect fill=\"#FFFFFF\" height=\"40\" id=\"E8\" rx=\"10\" ry=\"10\" style=\"stroke: #383838; stroke-width: 1.5;\" width=\"202\" x=\"290\" y=\"87\"/><rect fill=\"#F8F8F8\" height=\"23.9688\" rx=\"10\" ry=\"10\" style=\"stroke: #F8F8F8; stroke-width: 1.5;\" width=\"202\" x=\"290\" y=\"87\"/><rect fill=\"#F8F8F8\" height=\"10\" style=\"stroke: #F8F8F8; stroke-width: 1.5;\" width=\"202\" x=\"290\" y=\"100.9688\"/><rect fill=\"none\" height=\"40\" id=\"E8\" rx=\"10\" ry=\"10\" style=\"stroke: #383838; stroke-width: 1.5;\" width=\"202\" x=\"290\" y=\"87\"/><text fill=\"#000000\" font-family=\"sans-serif\" font-size=\"12\" lengthAdjust=\"spacingAndGlyphs\" textLength=\"191\" x=\"295.5\" y=\"103.1387\">subcomponents: MassedThing</text></a></g><!--MD5=[1dd1bfd58a279cf63c5f349dbc8fc6a1]\n",
       "class E11--><a href=\"psysml:a48dd455-5237-4be3-af61-27e5094ede20\" target=\"_top\" title=\"psysml:a48dd455-5237-4be3-af61-27e5094ede20\" xlink:actuate=\"onRequest\" xlink:href=\"psysml:a48dd455-5237-4be3-af61-27e5094ede20\" xlink:show=\"new\" xlink:title=\"psysml:a48dd455-5237-4be3-af61-27e5094ede20\" xlink:type=\"simple\"><rect fill=\"#FFFFFF\" height=\"45.9375\" id=\"E11\" rx=\"10\" ry=\"10\" style=\"stroke: #383838; stroke-width: 1.5;\" width=\"71\" x=\"162.5\" y=\"84\"/><text fill=\"#000000\" font-family=\"sans-serif\" font-size=\"12\" font-style=\"italic\" lengthAdjust=\"spacingAndGlyphs\" textLength=\"69\" x=\"163.5\" y=\"100.1387\">«attribute»</text><text fill=\"#000000\" font-family=\"sans-serif\" font-size=\"12\" lengthAdjust=\"spacingAndGlyphs\" textLength=\"54\" x=\"171\" y=\"114.1074\">minMass</text><line style=\"stroke: #383838; stroke-width: 1.5;\" x1=\"163.5\" x2=\"232.5\" y1=\"121.9375\" y2=\"121.9375\"/></a><!--MD5=[49a0ec8f00dab7302a31f22d0f0fe584]\n",
       "class E12--><a href=\"psysml:30a4b720-38dc-4ed2-81db-b244fb944fc9\" target=\"_top\" title=\"psysml:30a4b720-38dc-4ed2-81db-b244fb944fc9\" xlink:actuate=\"onRequest\" xlink:href=\"psysml:30a4b720-38dc-4ed2-81db-b244fb944fc9\" xlink:show=\"new\" xlink:title=\"psysml:30a4b720-38dc-4ed2-81db-b244fb944fc9\" xlink:type=\"simple\"><rect fill=\"#FFFFFF\" height=\"45.9375\" id=\"E12\" rx=\"10\" ry=\"10\" style=\"stroke: #383838; stroke-width: 1.5;\" width=\"71\" x=\"56.5\" y=\"84\"/><text fill=\"#000000\" font-family=\"sans-serif\" font-size=\"12\" font-style=\"italic\" lengthAdjust=\"spacingAndGlyphs\" textLength=\"69\" x=\"57.5\" y=\"100.1387\">«attribute»</text><text fill=\"#000000\" font-family=\"sans-serif\" font-size=\"12\" lengthAdjust=\"spacingAndGlyphs\" textLength=\"61\" x=\"61.5\" y=\"114.1074\">totalMass</text><line style=\"stroke: #383838; stroke-width: 1.5;\" x1=\"57.5\" x2=\"126.5\" y1=\"121.9375\" y2=\"121.9375\"/></a><!--MD5=[f667431f98296947986a1a7595a31603]\n",
       "link E6 to E4--><a href=\"psysml:45db29a4-a6b7-4500-b8a0-ae6511957b42\" target=\"_top\" title=\"psysml:45db29a4-a6b7-4500-b8a0-ae6511957b42\" xlink:actuate=\"onRequest\" xlink:href=\"psysml:45db29a4-a6b7-4500-b8a0-ae6511957b42\" xlink:show=\"new\" xlink:title=\"psysml:45db29a4-a6b7-4500-b8a0-ae6511957b42\" xlink:type=\"simple\"><path d=\"M655.27,129.75 C642.07,138.77 627.53,149.94 616,162 C604.21,174.33 593.43,189.62 584.73,203.58 \" fill=\"none\" id=\"E6-&gt;E4\" style=\"stroke: #383838; stroke-width: 1.0;\"/><polygon fill=\"#FFFFFF\" points=\"574.55,220.81,578.1693,200.8876,590.2295,207.9977,574.55,220.81\" style=\"stroke: #383838; stroke-width: 1.0;\"/><line style=\"stroke: #383838; stroke-width: 2.0;\" x1=\"580.0992\" x2=\"592.1593\" y1=\"197.6142\" y2=\"204.7243\"/></a><!--MD5=[c2be97adba6ddfe1c8f349fab141c927]\n",
       "link E9 to E4--><a href=\"psysml:37d702c0-130d-4d04-819a-f2439f71afff\" target=\"_top\" title=\"psysml:37d702c0-130d-4d04-819a-f2439f71afff\" xlink:actuate=\"onRequest\" xlink:href=\"psysml:37d702c0-130d-4d04-819a-f2439f71afff\" xlink:show=\"new\" xlink:title=\"psysml:37d702c0-130d-4d04-819a-f2439f71afff\" xlink:type=\"simple\"><path d=\"M563,130.29 C563,149.35 563,177.29 563,200.59 \" fill=\"none\" id=\"E9-&gt;E4\" style=\"stroke: #383838; stroke-width: 1.0;\"/><polygon fill=\"#FFFFFF\" points=\"563,220.67,556,201.67,570,201.67,563,220.67\" style=\"stroke: #383838; stroke-width: 1.0;\"/><line style=\"stroke: #383838; stroke-width: 2.0;\" x1=\"556\" x2=\"570\" y1=\"197.87\" y2=\"197.87\"/></a><!--MD5=[8eb720c440db06832f98fefdd34bbf11]\n",
       "link E12 to E4--><a href=\"psysml:c9530ed5-65d1-46ac-ab61-a00231b23eba\" target=\"_top\" title=\"psysml:c9530ed5-65d1-46ac-ab61-a00231b23eba\" xlink:actuate=\"onRequest\" xlink:href=\"psysml:c9530ed5-65d1-46ac-ab61-a00231b23eba\" xlink:show=\"new\" xlink:title=\"psysml:c9530ed5-65d1-46ac-ab61-a00231b23eba\" xlink:type=\"simple\"><path d=\"M112.6,130.22 C121.74,138.86 133.11,148.08 145,154 C265.22,213.91 424.44,233.59 507.38,239.99 \" fill=\"none\" id=\"E12-&gt;E4\" style=\"stroke: #383838; stroke-width: 1.0;\"/><polygon fill=\"#FFFFFF\" points=\"527.47,241.39,508.0267,247.0433,509.0064,233.0776,527.47,241.39\" style=\"stroke: #383838; stroke-width: 1.0;\"/><line style=\"stroke: #383838; stroke-width: 2.0;\" x1=\"504.236\" x2=\"505.2157\" y1=\"246.7773\" y2=\"232.8117\"/></a><!--MD5=[00cc0b61b0d4b7f1451051ca42dc0ec8]\n",
       "@startuml\r\n",
       "skinparam ranksep 10\r\n",
       "skinparam rectangle {\r\n",
       " backgroundColor<<block>> LightGreen\r\n",
       "}\r\n",
       " skinparam monochrome true\r\n",
       "skinparam classbackgroundcolor white\r\n",
       "skinparam shadowing false\r\n",
       "skinparam wrapWidth 300\r\n",
       "hide circle\r\n",
       "\r\n",
       "package \"MassRollup\" as E1  [[psysml:93cce498-741b-46da-9a76-47f8a90b0e87 ]]  {\r\n",
       "rec def \"MassedThing\" as E2  <<(T,blue)part def>> [[psysml:2bfc4bf5-5785-4629-99c8-bf06d3584a79 ]] {\r\n",
       "comp usage \"mass\" as E3  <<(T,blue)attribute>> [[psysml:61227fbe-a3c3-436a-919d-ba064597e112 ]] {\r\n",
       "}\r\n",
       "comp usage \"totalMass\" as E4  <<(T,blue)attribute>> [[psysml:bca4197d-355d-4faa-812b-dbfc0b076639 ]] {\r\n",
       "}\r\n",
       "}\r\n",
       "rec usage \"simpleThing: MassedThing\" as E5  [[psysml:d9d69a25-c21e-4c46-a572-d7b139b6ee26 ]] {\r\n",
       "comp usage \"totalMass\" as E6  <<(T,blue)attribute>> [[psysml:5dd4dd8f-7a34-4faa-ae4e-b0f44a463cf1 ]] {\r\n",
       "}\r\n",
       "}\r\n",
       "rec usage \"compositeThing: MassedThing\" as E7  [[psysml:343123b1-0808-41d0-8b17-a6ebb6acc0cb ]] {\r\n",
       "rec usage \"subcomponents: MassedThing\" as E8  [[psysml:09cd1f28-daf0-4d0d-a972-b9bf2a18e992 ]] {\r\n",
       "}\r\n",
       "comp usage \"totalMass\" as E9  <<(T,blue)attribute>> [[psysml:cdf15466-8892-46e6-adfe-254829aa90b9 ]] {\r\n",
       "}\r\n",
       "}\r\n",
       "rec usage \"filteredMassThing\" as E10  [[psysml:b3309114-4b2b-46b3-9f4f-dc695177bad1 ]] {\r\n",
       "comp usage \"minMass\" as E11  <<(T,blue)attribute>> [[psysml:a48dd455-5237-4be3-af61-27e5094ede20 ]] {\r\n",
       "}\r\n",
       "comp usage \"totalMass\" as E12  <<(T,blue)attribute>> [[psysml:30a4b720-38dc-4ed2-81db-b244fb944fc9 ]] {\r\n",
       "}\r\n",
       "}\r\n",
       "E6 - -||> E4 [[psysml:45db29a4-a6b7-4500-b8a0-ae6511957b42 ]] \r\n",
       "E9 - -||> E4 [[psysml:37d702c0-130d-4d04-819a-f2439f71afff ]] \r\n",
       "E12 - -||> E4 [[psysml:c9530ed5-65d1-46ac-ab61-a00231b23eba ]] \r\n",
       "}\r\n",
       "@enduml\r\n",
       "\n",
       "PlantUML version 1.2020.13(Sat Jun 13 12:26:38 UTC 2020)\n",
       "(EPL source distribution)\n",
       "Java Runtime: OpenJDK Runtime Environment\n",
       "JVM: OpenJDK 64-Bit Server VM\n",
       "Default Encoding: UTF-8\n",
       "Language: en\n",
       "Country: null\n",
       "--></g></svg>"
      ]
     },
     "execution_count": 5,
     "metadata": {},
     "output_type": "execute_result"
    }
   ],
   "source": [
    "%viz --style=\"COMPTREE\" --view=\"Interconnection\" \"MassRollup\""
   ]
  },
  {
   "cell_type": "code",
   "execution_count": 6,
   "id": "e9c4d11b",
   "metadata": {
    "execution": {
     "iopub.execute_input": "2021-04-20T07:26:53.236522Z",
     "iopub.status.busy": "2021-04-20T07:26:53.234789Z",
     "iopub.status.idle": "2021-04-20T07:26:53.253098Z",
     "shell.execute_reply": "2021-04-20T07:26:53.252380Z"
    }
   },
   "outputs": [
    {
     "data": {
      "image/svg+xml": [
       "<?xml version=\"1.0\" encoding=\"UTF-8\" standalone=\"no\"?><svg xmlns=\"http://www.w3.org/2000/svg\" xmlns:xlink=\"http://www.w3.org/1999/xlink\" contentScriptType=\"application/ecmascript\" contentStyleType=\"text/css\" height=\"12px\" preserveAspectRatio=\"none\" style=\"width:12px;height:12px;\" version=\"1.1\" viewBox=\"0 0 12 12\" width=\"12px\" zoomAndPan=\"magnify\"><defs/><g><!--MD5=[655b888544ca4751ea36af1068543f84]\n",
       "@startuml\r\n",
       "skinparam ranksep 8\r\n",
       " skinparam monochrome true\r\n",
       "skinparam classbackgroundcolor white\r\n",
       "skinparam shadowing false\r\n",
       "skinparam wrapWidth 300\r\n",
       "hide circle\r\n",
       "\r\n",
       "@enduml\r\n",
       "\n",
       "PlantUML version 1.2020.13(Sat Jun 13 12:26:38 UTC 2020)\n",
       "(EPL source distribution)\n",
       "Java Runtime: OpenJDK Runtime Environment\n",
       "JVM: OpenJDK 64-Bit Server VM\n",
       "Default Encoding: UTF-8\n",
       "Language: en\n",
       "Country: null\n",
       "--></g></svg>"
      ]
     },
     "execution_count": 6,
     "metadata": {},
     "output_type": "execute_result"
    }
   ],
   "source": [
    "%viz --style=\"COMPTREE\" --view=\"Action\" \"MassRollup\""
   ]
  },
  {
   "cell_type": "code",
   "execution_count": 7,
   "id": "50752abc",
   "metadata": {
    "execution": {
     "iopub.execute_input": "2021-04-20T07:26:53.305785Z",
     "iopub.status.busy": "2021-04-20T07:26:53.303474Z",
     "iopub.status.idle": "2021-04-20T07:26:53.743762Z",
     "shell.execute_reply": "2021-04-20T07:26:53.744266Z"
    }
   },
   "outputs": [
    {
     "data": {
      "image/svg+xml": [
       "<?xml version=\"1.0\" encoding=\"UTF-8\" standalone=\"no\"?><svg xmlns=\"http://www.w3.org/2000/svg\" xmlns:xlink=\"http://www.w3.org/1999/xlink\" contentScriptType=\"application/ecmascript\" contentStyleType=\"text/css\" height=\"640px\" preserveAspectRatio=\"none\" style=\"width:512px;height:640px;\" version=\"1.1\" viewBox=\"0 0 512 640\" width=\"512px\" zoomAndPan=\"magnify\"><defs/><g><!--MD5=[fbc87193dbaf4d95561dea2c320d4a47]\n",
       "cluster E1--><a href=\"psysml:93cce498-741b-46da-9a76-47f8a90b0e87\" target=\"_top\" title=\"psysml:93cce498-741b-46da-9a76-47f8a90b0e87\" xlink:actuate=\"onRequest\" xlink:href=\"psysml:93cce498-741b-46da-9a76-47f8a90b0e87\" xlink:show=\"new\" xlink:title=\"psysml:93cce498-741b-46da-9a76-47f8a90b0e87\" xlink:type=\"simple\"><polygon fill=\"#FFFFFF\" points=\"16,6,110,6,117,28.2969,490,28.2969,490,628,16,628,16,6\" style=\"stroke: #000000; stroke-width: 1.5;\"/><line style=\"stroke: #000000; stroke-width: 1.5;\" x1=\"16\" x2=\"117\" y1=\"28.2969\" y2=\"28.2969\"/><text fill=\"#000000\" font-family=\"sans-serif\" font-size=\"14\" font-weight=\"bold\" lengthAdjust=\"spacingAndGlyphs\" textLength=\"88\" x=\"20\" y=\"20.9951\">MassRollup</text></a><!--MD5=[b4997ac47864f28c2f74865a473b2911]\n",
       "class E2--><a href=\"psysml:2bfc4bf5-5785-4629-99c8-bf06d3584a79\" target=\"_top\" title=\"psysml:2bfc4bf5-5785-4629-99c8-bf06d3584a79\" xlink:actuate=\"onRequest\" xlink:href=\"psysml:2bfc4bf5-5785-4629-99c8-bf06d3584a79\" xlink:show=\"new\" xlink:title=\"psysml:2bfc4bf5-5785-4629-99c8-bf06d3584a79\" xlink:type=\"simple\"><rect fill=\"#FFFFFF\" height=\"88.3516\" id=\"E2\" style=\"stroke: #383838; stroke-width: 1.5;\" width=\"88\" x=\"124\" y=\"524\"/><text fill=\"#000000\" font-family=\"sans-serif\" font-size=\"12\" font-style=\"italic\" lengthAdjust=\"spacingAndGlyphs\" textLength=\"64\" x=\"136\" y=\"540.1387\">«part def»</text><text fill=\"#000000\" font-family=\"sans-serif\" font-size=\"12\" lengthAdjust=\"spacingAndGlyphs\" textLength=\"82\" x=\"127\" y=\"554.1074\">MassedThing</text><line style=\"stroke: #383838; stroke-width: 1.5;\" x1=\"125\" x2=\"211\" y1=\"561.9375\" y2=\"561.9375\"/><text fill=\"#000000\" font-family=\"sans-serif\" font-size=\"11\" lengthAdjust=\"spacingAndGlyphs\" textLength=\"32\" x=\"130\" y=\"592.9526\">mass</text><text fill=\"#000000\" font-family=\"sans-serif\" font-size=\"11\" lengthAdjust=\"spacingAndGlyphs\" textLength=\"55\" x=\"130\" y=\"605.7573\">totalMass</text><line style=\"stroke: #383838; stroke-width: 1.0;\" x1=\"125\" x2=\"140.5\" y1=\"576.3398\" y2=\"576.3398\"/><text fill=\"#000000\" font-family=\"sans-serif\" font-size=\"11\" lengthAdjust=\"spacingAndGlyphs\" textLength=\"55\" x=\"140.5\" y=\"579.6479\">attributes</text><line style=\"stroke: #383838; stroke-width: 1.0;\" x1=\"195.5\" x2=\"211\" y1=\"576.3398\" y2=\"576.3398\"/></a><!--MD5=[09b614a08d8cba4a07c9adeb5e0fee81]\n",
       "class E3--><a href=\"psysml:d9d69a25-c21e-4c46-a572-d7b139b6ee26\" target=\"_top\" title=\"psysml:d9d69a25-c21e-4c46-a572-d7b139b6ee26\" xlink:actuate=\"onRequest\" xlink:href=\"psysml:d9d69a25-c21e-4c46-a572-d7b139b6ee26\" xlink:show=\"new\" xlink:title=\"psysml:d9d69a25-c21e-4c46-a572-d7b139b6ee26\" xlink:type=\"simple\"><rect fill=\"#FFFFFF\" height=\"88.3516\" id=\"E3\" rx=\"10\" ry=\"10\" style=\"stroke: #383838; stroke-width: 1.5;\" width=\"172\" x=\"302\" y=\"376\"/><text fill=\"#000000\" font-family=\"sans-serif\" font-size=\"12\" font-style=\"italic\" lengthAdjust=\"spacingAndGlyphs\" textLength=\"40\" x=\"368\" y=\"392.1387\">«part»</text><text fill=\"#000000\" font-family=\"sans-serif\" font-size=\"12\" lengthAdjust=\"spacingAndGlyphs\" textLength=\"164\" x=\"306\" y=\"406.1074\">simpleThing: MassedThing</text><line style=\"stroke: #383838; stroke-width: 1.5;\" x1=\"303\" x2=\"473\" y1=\"413.9375\" y2=\"413.9375\"/><text fill=\"#000000\" font-family=\"sans-serif\" font-size=\"11\" lengthAdjust=\"spacingAndGlyphs\" textLength=\"100\" x=\"308\" y=\"444.9526\">totalMass=mass;</text><text fill=\"#000000\" font-family=\"sans-serif\" font-size=\"11\" font-style=\"italic\" lengthAdjust=\"spacingAndGlyphs\" textLength=\"160\" x=\"308\" y=\"457.7573\">:&gt;&gt;MassedThing::totalMass</text><line style=\"stroke: #383838; stroke-width: 1.0;\" x1=\"303\" x2=\"360.5\" y1=\"428.3398\" y2=\"428.3398\"/><text fill=\"#000000\" font-family=\"sans-serif\" font-size=\"11\" lengthAdjust=\"spacingAndGlyphs\" textLength=\"55\" x=\"360.5\" y=\"431.6479\">attributes</text><line style=\"stroke: #383838; stroke-width: 1.0;\" x1=\"415.5\" x2=\"473\" y1=\"428.3398\" y2=\"428.3398\"/></a><!--MD5=[ebbe1d658d1005bcc118a6aa81145e00]\n",
       "class E4--><a href=\"psysml:343123b1-0808-41d0-8b17-a6ebb6acc0cb\" target=\"_top\" title=\"psysml:343123b1-0808-41d0-8b17-a6ebb6acc0cb\" xlink:actuate=\"onRequest\" xlink:href=\"psysml:343123b1-0808-41d0-8b17-a6ebb6acc0cb\" xlink:show=\"new\" xlink:title=\"psysml:343123b1-0808-41d0-8b17-a6ebb6acc0cb\" xlink:type=\"simple\"><rect fill=\"#FFFFFF\" height=\"101.1563\" id=\"E4\" rx=\"10\" ry=\"10\" style=\"stroke: #383838; stroke-width: 1.5;\" width=\"290\" x=\"32\" y=\"215\"/><text fill=\"#000000\" font-family=\"sans-serif\" font-size=\"12\" font-style=\"italic\" lengthAdjust=\"spacingAndGlyphs\" textLength=\"40\" x=\"157\" y=\"231.1387\">«part»</text><text fill=\"#000000\" font-family=\"sans-serif\" font-size=\"12\" lengthAdjust=\"spacingAndGlyphs\" textLength=\"189\" x=\"82.5\" y=\"245.1074\">compositeThing: MassedThing</text><line style=\"stroke: #383838; stroke-width: 1.5;\" x1=\"33\" x2=\"321\" y1=\"252.9375\" y2=\"252.9375\"/><text fill=\"#000000\" font-family=\"sans-serif\" font-size=\"11\" lengthAdjust=\"spacingAndGlyphs\" textLength=\"272\" x=\"38\" y=\"283.9526\">totalMass=mass + (subcomponents-&gt;collect p:</text><text fill=\"#000000\" font-family=\"sans-serif\" font-size=\"11\" lengthAdjust=\"spacingAndGlyphs\" textLength=\"274\" x=\"38\" y=\"296.7573\">MassedThing (p::totalMass)-&gt;reduce '+' ?? 0.0);</text><text fill=\"#000000\" font-family=\"sans-serif\" font-size=\"11\" font-style=\"italic\" lengthAdjust=\"spacingAndGlyphs\" textLength=\"160\" x=\"38\" y=\"309.562\">:&gt;&gt;MassedThing::totalMass</text><line style=\"stroke: #383838; stroke-width: 1.0;\" x1=\"33\" x2=\"149.5\" y1=\"267.3398\" y2=\"267.3398\"/><text fill=\"#000000\" font-family=\"sans-serif\" font-size=\"11\" lengthAdjust=\"spacingAndGlyphs\" textLength=\"55\" x=\"149.5\" y=\"270.6479\">attributes</text><line style=\"stroke: #383838; stroke-width: 1.0;\" x1=\"204.5\" x2=\"321\" y1=\"267.3398\" y2=\"267.3398\"/></a><!--MD5=[270fce915f116d4de14055a7c1d9a0f3]\n",
       "class E5--><a href=\"psysml:09cd1f28-daf0-4d0d-a972-b9bf2a18e992\" target=\"_top\" title=\"psysml:09cd1f28-daf0-4d0d-a972-b9bf2a18e992\" xlink:actuate=\"onRequest\" xlink:href=\"psysml:09cd1f28-daf0-4d0d-a972-b9bf2a18e992\" xlink:show=\"new\" xlink:title=\"psysml:09cd1f28-daf0-4d0d-a972-b9bf2a18e992\" xlink:type=\"simple\"><rect fill=\"#FFFFFF\" height=\"45.9375\" id=\"E5\" rx=\"10\" ry=\"10\" style=\"stroke: #383838; stroke-width: 1.5;\" width=\"197\" x=\"69.5\" y=\"397\"/><text fill=\"#000000\" font-family=\"sans-serif\" font-size=\"12\" font-style=\"italic\" lengthAdjust=\"spacingAndGlyphs\" textLength=\"40\" x=\"148\" y=\"413.1387\">«part»</text><text fill=\"#000000\" font-family=\"sans-serif\" font-size=\"12\" lengthAdjust=\"spacingAndGlyphs\" textLength=\"191\" x=\"72.5\" y=\"427.1074\">subcomponents: MassedThing</text><line style=\"stroke: #383838; stroke-width: 1.5;\" x1=\"70.5\" x2=\"265.5\" y1=\"434.9375\" y2=\"434.9375\"/></a><!--MD5=[60a26617385b1d2d0262a64233df1f8d]\n",
       "class E6--><a href=\"psysml:b3309114-4b2b-46b3-9f4f-dc695177bad1\" target=\"_top\" title=\"psysml:b3309114-4b2b-46b3-9f4f-dc695177bad1\" xlink:actuate=\"onRequest\" xlink:href=\"psysml:b3309114-4b2b-46b3-9f4f-dc695177bad1\" xlink:show=\"new\" xlink:title=\"psysml:b3309114-4b2b-46b3-9f4f-dc695177bad1\" xlink:type=\"simple\"><rect fill=\"#FFFFFF\" height=\"113.9609\" id=\"E6\" rx=\"10\" ry=\"10\" style=\"stroke: #383838; stroke-width: 1.5;\" width=\"309\" x=\"31.5\" y=\"41\"/><text fill=\"#000000\" font-family=\"sans-serif\" font-size=\"12\" font-style=\"italic\" lengthAdjust=\"spacingAndGlyphs\" textLength=\"40\" x=\"166\" y=\"57.1387\">«part»</text><text fill=\"#000000\" font-family=\"sans-serif\" font-size=\"12\" lengthAdjust=\"spacingAndGlyphs\" textLength=\"110\" x=\"131\" y=\"71.1074\">filteredMassThing</text><line style=\"stroke: #383838; stroke-width: 1.5;\" x1=\"32.5\" x2=\"339.5\" y1=\"78.9375\" y2=\"78.9375\"/><text fill=\"#000000\" font-family=\"sans-serif\" font-size=\"11\" lengthAdjust=\"spacingAndGlyphs\" textLength=\"51\" x=\"37.5\" y=\"109.9526\">minMass</text><text fill=\"#000000\" font-family=\"sans-serif\" font-size=\"11\" lengthAdjust=\"spacingAndGlyphs\" textLength=\"297\" x=\"37.5\" y=\"122.7573\">totalMass=(./subcomponents/mass[p (p &gt; minMass</text><text fill=\"#000000\" font-family=\"sans-serif\" font-size=\"11\" lengthAdjust=\"spacingAndGlyphs\" textLength=\"125\" x=\"37.5\" y=\"135.562\">)])-&gt;reduce '+' ?? 0.0;</text><text fill=\"#000000\" font-family=\"sans-serif\" font-size=\"11\" font-style=\"italic\" lengthAdjust=\"spacingAndGlyphs\" textLength=\"160\" x=\"37.5\" y=\"148.3667\">:&gt;&gt;MassedThing::totalMass</text><line style=\"stroke: #383838; stroke-width: 1.0;\" x1=\"32.5\" x2=\"158.5\" y1=\"93.3398\" y2=\"93.3398\"/><text fill=\"#000000\" font-family=\"sans-serif\" font-size=\"11\" lengthAdjust=\"spacingAndGlyphs\" textLength=\"55\" x=\"158.5\" y=\"96.6479\">attributes</text><line style=\"stroke: #383838; stroke-width: 1.0;\" x1=\"213.5\" x2=\"339.5\" y1=\"93.3398\" y2=\"93.3398\"/></a><!--MD5=[05d275557350bfb9b23a4ef7222b4c39]\n",
       "link E3 to E2--><a href=\"psysml:b7a37c04-3b7e-4fde-bcd3-8ff7c74e6a20\" target=\"_top\" title=\"psysml:b7a37c04-3b7e-4fde-bcd3-8ff7c74e6a20\" xlink:actuate=\"onRequest\" xlink:href=\"psysml:b7a37c04-3b7e-4fde-bcd3-8ff7c74e6a20\" xlink:show=\"new\" xlink:title=\"psysml:b7a37c04-3b7e-4fde-bcd3-8ff7c74e6a20\" xlink:type=\"simple\"><path d=\"M323.18,464.02 C293.44,483.75 258.37,507.03 229.1,526.45 \" fill=\"none\" id=\"E3-&gt;E2\" style=\"stroke: #383838; stroke-width: 1.0;\"/><polygon fill=\"#FFFFFF\" points=\"212.17,537.69,224.1349,521.3547,231.873,533.0219,212.17,537.69\" style=\"stroke: #383838; stroke-width: 1.0;\"/><ellipse cx=\"229.9905\" cy=\"519.871\" fill=\"#383838\" rx=\"2\" ry=\"2\" style=\"stroke: #383838; stroke-width: 1.0;\"/><ellipse cx=\"235.5178\" cy=\"528.2046\" fill=\"#383838\" rx=\"2\" ry=\"2\" style=\"stroke: #383838; stroke-width: 1.0;\"/></a><!--MD5=[185131fc0dcab0a4505a2ebe144e961b]\n",
       "link E4 to E2--><a href=\"psysml:9348166f-8cea-4d7c-a96d-6192465a705e\" target=\"_top\" title=\"psysml:9348166f-8cea-4d7c-a96d-6192465a705e\" xlink:actuate=\"onRequest\" xlink:href=\"psysml:9348166f-8cea-4d7c-a96d-6192465a705e\" xlink:show=\"new\" xlink:title=\"psysml:9348166f-8cea-4d7c-a96d-6192465a705e\" xlink:type=\"simple\"><path d=\"M99.7,316.2 C80.53,332.71 62.48,352.88 52,376 C35.85,411.62 35.97,428.33 52,464 C63.74,490.13 85.76,512.33 107.48,529.36 \" fill=\"none\" id=\"E4-&gt;E2\" style=\"stroke: #383838; stroke-width: 1.0;\"/><polygon fill=\"#FFFFFF\" points=\"123.86,541.35,104.3934,535.7776,112.6617,524.48,123.86,541.35\" style=\"stroke: #383838; stroke-width: 1.0;\"/><ellipse cx=\"100.9748\" cy=\"530.7973\" fill=\"#383838\" rx=\"2\" ry=\"2\" style=\"stroke: #383838; stroke-width: 1.0;\"/><ellipse cx=\"106.8807\" cy=\"522.7276\" fill=\"#383838\" rx=\"2\" ry=\"2\" style=\"stroke: #383838; stroke-width: 1.0;\"/></a><!--MD5=[62aa6af11e70f752912c1cb0466f24f7]\n",
       "reverse link E4 to E5--><a href=\"psysml:94e091d2-0286-4211-8181-aedc46ba16d2\" target=\"_top\" title=\"psysml:94e091d2-0286-4211-8181-aedc46ba16d2\" xlink:actuate=\"onRequest\" xlink:href=\"psysml:94e091d2-0286-4211-8181-aedc46ba16d2\" xlink:show=\"new\" xlink:title=\"psysml:94e091d2-0286-4211-8181-aedc46ba16d2\" xlink:type=\"simple\"><path d=\"M173.3,329.13 C171.88,353.21 170.35,379.16 169.3,396.96 \" fill=\"none\" id=\"E4&lt;-E5\" style=\"stroke: #383838; stroke-width: 1.0;\"/><polygon fill=\"#383838\" points=\"174.08,316.01,169.7309,321.762,173.3676,327.9888,177.7167,322.2369,174.08,316.01\" style=\"stroke: #383838; stroke-width: 1.0;\"/><text fill=\"#000000\" font-family=\"sans-serif\" font-size=\"13\" lengthAdjust=\"spacingAndGlyphs\" textLength=\"7\" x=\"161.7088\" y=\"385.8455\">*</text></a><!--MD5=[15ebcb19ae302d9b601edb458606d402]\n",
       "link E5 to E2--><a href=\"psysml:dc08c53a-a0f0-4000-a138-cf80983e3afa\" target=\"_top\" title=\"psysml:dc08c53a-a0f0-4000-a138-cf80983e3afa\" xlink:actuate=\"onRequest\" xlink:href=\"psysml:dc08c53a-a0f0-4000-a138-cf80983e3afa\" xlink:show=\"new\" xlink:title=\"psysml:dc08c53a-a0f0-4000-a138-cf80983e3afa\" xlink:type=\"simple\"><path d=\"M168,443.17 C168,459.31 168,482.04 168,503.62 \" fill=\"none\" id=\"E5-&gt;E2\" style=\"stroke: #383838; stroke-width: 1.0;\"/><polygon fill=\"#FFFFFF\" points=\"168,523.71,161,504.71,175,504.71,168,523.71\" style=\"stroke: #383838; stroke-width: 1.0;\"/><ellipse cx=\"163\" cy=\"499.01\" fill=\"#383838\" rx=\"2\" ry=\"2\" style=\"stroke: #383838; stroke-width: 1.0;\"/><ellipse cx=\"173\" cy=\"499.01\" fill=\"#383838\" rx=\"2\" ry=\"2\" style=\"stroke: #383838; stroke-width: 1.0;\"/></a><!--MD5=[f667431f98296947986a1a7595a31603]\n",
       "link E6 to E4--><a href=\"psysml:b31b3f2c-80ab-44f0-a26e-d801559af683\" target=\"_top\" title=\"psysml:b31b3f2c-80ab-44f0-a26e-d801559af683\" xlink:actuate=\"onRequest\" xlink:href=\"psysml:b31b3f2c-80ab-44f0-a26e-d801559af683\" xlink:show=\"new\" xlink:title=\"psysml:b31b3f2c-80ab-44f0-a26e-d801559af683\" xlink:type=\"simple\"><path d=\"M182.95,155.03 C182.26,167.77 181.52,181.45 180.8,194.69 \" fill=\"none\" id=\"E6-&gt;E4\" style=\"stroke: #383838; stroke-width: 1.0;\"/><polygon fill=\"none\" points=\"187.77,195.32,179.7,214.91,173.79,194.56,187.77,195.32\" style=\"stroke: #383838; stroke-width: 1.0;\"/></a><!--MD5=[1c1f6509fb1c4fbf28a389b4da51776b]\n",
       "@startuml\r\n",
       " skinparam monochrome true\r\n",
       "skinparam classbackgroundcolor white\r\n",
       "skinparam shadowing false\r\n",
       "skinparam wrapWidth 300\r\n",
       "hide circle\r\n",
       "\r\n",
       "package \"MassRollup\" as E1  [[psysml:93cce498-741b-46da-9a76-47f8a90b0e87 ]]  {\r\n",
       "comp def \"MassedThing\" as E2  <<(T,blue)part def>> [[psysml:2bfc4bf5-5785-4629-99c8-bf06d3584a79 ]] {\r\n",
       "- - attributes - -\r\n",
       "mass\r\n",
       "totalMass\r\n",
       "}\r\n",
       "comp usage \"simpleThing: MassedThing\" as E3  <<(T,blue)part>> [[psysml:d9d69a25-c21e-4c46-a572-d7b139b6ee26 ]] {\r\n",
       "- - attributes - -\r\n",
       "totalMass=mass; \\n//:>>MassedThing::totalMass// \r\n",
       "}\r\n",
       "comp usage \"compositeThing: MassedThing\" as E4  <<(T,blue)part>> [[psysml:343123b1-0808-41d0-8b17-a6ebb6acc0cb ]] {\r\n",
       "- - attributes - -\r\n",
       "totalMass=mass + (subcomponents->collect p:MassedThing (p::totalMass)->reduce '+' ?? 0.0); \\n//:>>MassedThing::totalMass// \r\n",
       "}\r\n",
       "comp usage \"subcomponents: MassedThing\" as E5  <<(T,blue)part>> [[psysml:09cd1f28-daf0-4d0d-a972-b9bf2a18e992 ]] {\r\n",
       "}\r\n",
       "comp usage \"filteredMassThing\" as E6  <<(T,blue)part>> [[psysml:b3309114-4b2b-46b3-9f4f-dc695177bad1 ]] {\r\n",
       "- - attributes - -\r\n",
       "minMass\r\n",
       "totalMass=(./subcomponents/mass[p (p > minMass)])->reduce '+' ?? 0.0; \\n//:>>MassedThing::totalMass// \r\n",
       "}\r\n",
       "E3 - -:|> E2 [[psysml:b7a37c04-3b7e-4fde-bcd3-8ff7c74e6a20 ]] \r\n",
       "E4 - -:|> E2 [[psysml:9348166f-8cea-4d7c-a96d-6192465a705e ]] \r\n",
       "E4 *- - \"*\"E5 [[psysml:94e091d2-0286-4211-8181-aedc46ba16d2 ]] \r\n",
       "E5 - -:|> E2 [[psysml:dc08c53a-a0f0-4000-a138-cf80983e3afa ]] \r\n",
       "E6 - -|> E4 [[psysml:b31b3f2c-80ab-44f0-a26e-d801559af683 ]] \r\n",
       "}\r\n",
       "@enduml\r\n",
       "\n",
       "PlantUML version 1.2020.13(Sat Jun 13 12:26:38 UTC 2020)\n",
       "(EPL source distribution)\n",
       "Java Runtime: OpenJDK Runtime Environment\n",
       "JVM: OpenJDK 64-Bit Server VM\n",
       "Default Encoding: UTF-8\n",
       "Language: en\n",
       "Country: null\n",
       "--></g></svg>"
      ]
     },
     "execution_count": 7,
     "metadata": {},
     "output_type": "execute_result"
    }
   ],
   "source": [
    "%viz --style=\"COMPTREE\" --view=\"Sequence\" \"MassRollup\""
   ]
  },
  {
   "cell_type": "code",
   "execution_count": 8,
   "id": "f3a48af2",
   "metadata": {
    "execution": {
     "iopub.execute_input": "2021-04-20T07:26:53.793802Z",
     "iopub.status.busy": "2021-04-20T07:26:53.793053Z",
     "iopub.status.idle": "2021-04-20T07:26:54.047996Z",
     "shell.execute_reply": "2021-04-20T07:26:54.045359Z"
    }
   },
   "outputs": [
    {
     "data": {
      "image/svg+xml": [
       "<?xml version=\"1.0\" encoding=\"UTF-8\" standalone=\"no\"?><svg xmlns=\"http://www.w3.org/2000/svg\" xmlns:xlink=\"http://www.w3.org/1999/xlink\" contentScriptType=\"application/ecmascript\" contentStyleType=\"text/css\" height=\"640px\" preserveAspectRatio=\"none\" style=\"width:512px;height:640px;\" version=\"1.1\" viewBox=\"0 0 512 640\" width=\"512px\" zoomAndPan=\"magnify\"><defs/><g><!--MD5=[fbc87193dbaf4d95561dea2c320d4a47]\n",
       "cluster E1--><a href=\"psysml:93cce498-741b-46da-9a76-47f8a90b0e87\" target=\"_top\" title=\"psysml:93cce498-741b-46da-9a76-47f8a90b0e87\" xlink:actuate=\"onRequest\" xlink:href=\"psysml:93cce498-741b-46da-9a76-47f8a90b0e87\" xlink:show=\"new\" xlink:title=\"psysml:93cce498-741b-46da-9a76-47f8a90b0e87\" xlink:type=\"simple\"><polygon fill=\"#FFFFFF\" points=\"16,6,110,6,117,28.2969,490,28.2969,490,628,16,628,16,6\" style=\"stroke: #000000; stroke-width: 1.5;\"/><line style=\"stroke: #000000; stroke-width: 1.5;\" x1=\"16\" x2=\"117\" y1=\"28.2969\" y2=\"28.2969\"/><text fill=\"#000000\" font-family=\"sans-serif\" font-size=\"14\" font-weight=\"bold\" lengthAdjust=\"spacingAndGlyphs\" textLength=\"88\" x=\"20\" y=\"20.9951\">MassRollup</text></a><!--MD5=[b4997ac47864f28c2f74865a473b2911]\n",
       "class E2--><a href=\"psysml:2bfc4bf5-5785-4629-99c8-bf06d3584a79\" target=\"_top\" title=\"psysml:2bfc4bf5-5785-4629-99c8-bf06d3584a79\" xlink:actuate=\"onRequest\" xlink:href=\"psysml:2bfc4bf5-5785-4629-99c8-bf06d3584a79\" xlink:show=\"new\" xlink:title=\"psysml:2bfc4bf5-5785-4629-99c8-bf06d3584a79\" xlink:type=\"simple\"><rect fill=\"#FFFFFF\" height=\"88.3516\" id=\"E2\" style=\"stroke: #383838; stroke-width: 1.5;\" width=\"88\" x=\"124\" y=\"524\"/><text fill=\"#000000\" font-family=\"sans-serif\" font-size=\"12\" font-style=\"italic\" lengthAdjust=\"spacingAndGlyphs\" textLength=\"64\" x=\"136\" y=\"540.1387\">«part def»</text><text fill=\"#000000\" font-family=\"sans-serif\" font-size=\"12\" lengthAdjust=\"spacingAndGlyphs\" textLength=\"82\" x=\"127\" y=\"554.1074\">MassedThing</text><line style=\"stroke: #383838; stroke-width: 1.5;\" x1=\"125\" x2=\"211\" y1=\"561.9375\" y2=\"561.9375\"/><text fill=\"#000000\" font-family=\"sans-serif\" font-size=\"11\" lengthAdjust=\"spacingAndGlyphs\" textLength=\"32\" x=\"130\" y=\"592.9526\">mass</text><text fill=\"#000000\" font-family=\"sans-serif\" font-size=\"11\" lengthAdjust=\"spacingAndGlyphs\" textLength=\"55\" x=\"130\" y=\"605.7573\">totalMass</text><line style=\"stroke: #383838; stroke-width: 1.0;\" x1=\"125\" x2=\"140.5\" y1=\"576.3398\" y2=\"576.3398\"/><text fill=\"#000000\" font-family=\"sans-serif\" font-size=\"11\" lengthAdjust=\"spacingAndGlyphs\" textLength=\"55\" x=\"140.5\" y=\"579.6479\">attributes</text><line style=\"stroke: #383838; stroke-width: 1.0;\" x1=\"195.5\" x2=\"211\" y1=\"576.3398\" y2=\"576.3398\"/></a><!--MD5=[09b614a08d8cba4a07c9adeb5e0fee81]\n",
       "class E3--><a href=\"psysml:d9d69a25-c21e-4c46-a572-d7b139b6ee26\" target=\"_top\" title=\"psysml:d9d69a25-c21e-4c46-a572-d7b139b6ee26\" xlink:actuate=\"onRequest\" xlink:href=\"psysml:d9d69a25-c21e-4c46-a572-d7b139b6ee26\" xlink:show=\"new\" xlink:title=\"psysml:d9d69a25-c21e-4c46-a572-d7b139b6ee26\" xlink:type=\"simple\"><rect fill=\"#FFFFFF\" height=\"88.3516\" id=\"E3\" rx=\"10\" ry=\"10\" style=\"stroke: #383838; stroke-width: 1.5;\" width=\"172\" x=\"302\" y=\"376\"/><text fill=\"#000000\" font-family=\"sans-serif\" font-size=\"12\" font-style=\"italic\" lengthAdjust=\"spacingAndGlyphs\" textLength=\"40\" x=\"368\" y=\"392.1387\">«part»</text><text fill=\"#000000\" font-family=\"sans-serif\" font-size=\"12\" lengthAdjust=\"spacingAndGlyphs\" textLength=\"164\" x=\"306\" y=\"406.1074\">simpleThing: MassedThing</text><line style=\"stroke: #383838; stroke-width: 1.5;\" x1=\"303\" x2=\"473\" y1=\"413.9375\" y2=\"413.9375\"/><text fill=\"#000000\" font-family=\"sans-serif\" font-size=\"11\" lengthAdjust=\"spacingAndGlyphs\" textLength=\"100\" x=\"308\" y=\"444.9526\">totalMass=mass;</text><text fill=\"#000000\" font-family=\"sans-serif\" font-size=\"11\" font-style=\"italic\" lengthAdjust=\"spacingAndGlyphs\" textLength=\"160\" x=\"308\" y=\"457.7573\">:&gt;&gt;MassedThing::totalMass</text><line style=\"stroke: #383838; stroke-width: 1.0;\" x1=\"303\" x2=\"360.5\" y1=\"428.3398\" y2=\"428.3398\"/><text fill=\"#000000\" font-family=\"sans-serif\" font-size=\"11\" lengthAdjust=\"spacingAndGlyphs\" textLength=\"55\" x=\"360.5\" y=\"431.6479\">attributes</text><line style=\"stroke: #383838; stroke-width: 1.0;\" x1=\"415.5\" x2=\"473\" y1=\"428.3398\" y2=\"428.3398\"/></a><!--MD5=[ebbe1d658d1005bcc118a6aa81145e00]\n",
       "class E4--><a href=\"psysml:343123b1-0808-41d0-8b17-a6ebb6acc0cb\" target=\"_top\" title=\"psysml:343123b1-0808-41d0-8b17-a6ebb6acc0cb\" xlink:actuate=\"onRequest\" xlink:href=\"psysml:343123b1-0808-41d0-8b17-a6ebb6acc0cb\" xlink:show=\"new\" xlink:title=\"psysml:343123b1-0808-41d0-8b17-a6ebb6acc0cb\" xlink:type=\"simple\"><rect fill=\"#FFFFFF\" height=\"101.1563\" id=\"E4\" rx=\"10\" ry=\"10\" style=\"stroke: #383838; stroke-width: 1.5;\" width=\"290\" x=\"32\" y=\"215\"/><text fill=\"#000000\" font-family=\"sans-serif\" font-size=\"12\" font-style=\"italic\" lengthAdjust=\"spacingAndGlyphs\" textLength=\"40\" x=\"157\" y=\"231.1387\">«part»</text><text fill=\"#000000\" font-family=\"sans-serif\" font-size=\"12\" lengthAdjust=\"spacingAndGlyphs\" textLength=\"189\" x=\"82.5\" y=\"245.1074\">compositeThing: MassedThing</text><line style=\"stroke: #383838; stroke-width: 1.5;\" x1=\"33\" x2=\"321\" y1=\"252.9375\" y2=\"252.9375\"/><text fill=\"#000000\" font-family=\"sans-serif\" font-size=\"11\" lengthAdjust=\"spacingAndGlyphs\" textLength=\"272\" x=\"38\" y=\"283.9526\">totalMass=mass + (subcomponents-&gt;collect p:</text><text fill=\"#000000\" font-family=\"sans-serif\" font-size=\"11\" lengthAdjust=\"spacingAndGlyphs\" textLength=\"274\" x=\"38\" y=\"296.7573\">MassedThing (p::totalMass)-&gt;reduce '+' ?? 0.0);</text><text fill=\"#000000\" font-family=\"sans-serif\" font-size=\"11\" font-style=\"italic\" lengthAdjust=\"spacingAndGlyphs\" textLength=\"160\" x=\"38\" y=\"309.562\">:&gt;&gt;MassedThing::totalMass</text><line style=\"stroke: #383838; stroke-width: 1.0;\" x1=\"33\" x2=\"149.5\" y1=\"267.3398\" y2=\"267.3398\"/><text fill=\"#000000\" font-family=\"sans-serif\" font-size=\"11\" lengthAdjust=\"spacingAndGlyphs\" textLength=\"55\" x=\"149.5\" y=\"270.6479\">attributes</text><line style=\"stroke: #383838; stroke-width: 1.0;\" x1=\"204.5\" x2=\"321\" y1=\"267.3398\" y2=\"267.3398\"/></a><!--MD5=[270fce915f116d4de14055a7c1d9a0f3]\n",
       "class E5--><a href=\"psysml:09cd1f28-daf0-4d0d-a972-b9bf2a18e992\" target=\"_top\" title=\"psysml:09cd1f28-daf0-4d0d-a972-b9bf2a18e992\" xlink:actuate=\"onRequest\" xlink:href=\"psysml:09cd1f28-daf0-4d0d-a972-b9bf2a18e992\" xlink:show=\"new\" xlink:title=\"psysml:09cd1f28-daf0-4d0d-a972-b9bf2a18e992\" xlink:type=\"simple\"><rect fill=\"#FFFFFF\" height=\"45.9375\" id=\"E5\" rx=\"10\" ry=\"10\" style=\"stroke: #383838; stroke-width: 1.5;\" width=\"197\" x=\"69.5\" y=\"397\"/><text fill=\"#000000\" font-family=\"sans-serif\" font-size=\"12\" font-style=\"italic\" lengthAdjust=\"spacingAndGlyphs\" textLength=\"40\" x=\"148\" y=\"413.1387\">«part»</text><text fill=\"#000000\" font-family=\"sans-serif\" font-size=\"12\" lengthAdjust=\"spacingAndGlyphs\" textLength=\"191\" x=\"72.5\" y=\"427.1074\">subcomponents: MassedThing</text><line style=\"stroke: #383838; stroke-width: 1.5;\" x1=\"70.5\" x2=\"265.5\" y1=\"434.9375\" y2=\"434.9375\"/></a><!--MD5=[60a26617385b1d2d0262a64233df1f8d]\n",
       "class E6--><a href=\"psysml:b3309114-4b2b-46b3-9f4f-dc695177bad1\" target=\"_top\" title=\"psysml:b3309114-4b2b-46b3-9f4f-dc695177bad1\" xlink:actuate=\"onRequest\" xlink:href=\"psysml:b3309114-4b2b-46b3-9f4f-dc695177bad1\" xlink:show=\"new\" xlink:title=\"psysml:b3309114-4b2b-46b3-9f4f-dc695177bad1\" xlink:type=\"simple\"><rect fill=\"#FFFFFF\" height=\"113.9609\" id=\"E6\" rx=\"10\" ry=\"10\" style=\"stroke: #383838; stroke-width: 1.5;\" width=\"309\" x=\"31.5\" y=\"41\"/><text fill=\"#000000\" font-family=\"sans-serif\" font-size=\"12\" font-style=\"italic\" lengthAdjust=\"spacingAndGlyphs\" textLength=\"40\" x=\"166\" y=\"57.1387\">«part»</text><text fill=\"#000000\" font-family=\"sans-serif\" font-size=\"12\" lengthAdjust=\"spacingAndGlyphs\" textLength=\"110\" x=\"131\" y=\"71.1074\">filteredMassThing</text><line style=\"stroke: #383838; stroke-width: 1.5;\" x1=\"32.5\" x2=\"339.5\" y1=\"78.9375\" y2=\"78.9375\"/><text fill=\"#000000\" font-family=\"sans-serif\" font-size=\"11\" lengthAdjust=\"spacingAndGlyphs\" textLength=\"51\" x=\"37.5\" y=\"109.9526\">minMass</text><text fill=\"#000000\" font-family=\"sans-serif\" font-size=\"11\" lengthAdjust=\"spacingAndGlyphs\" textLength=\"297\" x=\"37.5\" y=\"122.7573\">totalMass=(./subcomponents/mass[p (p &gt; minMass</text><text fill=\"#000000\" font-family=\"sans-serif\" font-size=\"11\" lengthAdjust=\"spacingAndGlyphs\" textLength=\"125\" x=\"37.5\" y=\"135.562\">)])-&gt;reduce '+' ?? 0.0;</text><text fill=\"#000000\" font-family=\"sans-serif\" font-size=\"11\" font-style=\"italic\" lengthAdjust=\"spacingAndGlyphs\" textLength=\"160\" x=\"37.5\" y=\"148.3667\">:&gt;&gt;MassedThing::totalMass</text><line style=\"stroke: #383838; stroke-width: 1.0;\" x1=\"32.5\" x2=\"158.5\" y1=\"93.3398\" y2=\"93.3398\"/><text fill=\"#000000\" font-family=\"sans-serif\" font-size=\"11\" lengthAdjust=\"spacingAndGlyphs\" textLength=\"55\" x=\"158.5\" y=\"96.6479\">attributes</text><line style=\"stroke: #383838; stroke-width: 1.0;\" x1=\"213.5\" x2=\"339.5\" y1=\"93.3398\" y2=\"93.3398\"/></a><!--MD5=[05d275557350bfb9b23a4ef7222b4c39]\n",
       "link E3 to E2--><a href=\"psysml:b7a37c04-3b7e-4fde-bcd3-8ff7c74e6a20\" target=\"_top\" title=\"psysml:b7a37c04-3b7e-4fde-bcd3-8ff7c74e6a20\" xlink:actuate=\"onRequest\" xlink:href=\"psysml:b7a37c04-3b7e-4fde-bcd3-8ff7c74e6a20\" xlink:show=\"new\" xlink:title=\"psysml:b7a37c04-3b7e-4fde-bcd3-8ff7c74e6a20\" xlink:type=\"simple\"><path d=\"M323.18,464.02 C293.44,483.75 258.37,507.03 229.1,526.45 \" fill=\"none\" id=\"E3-&gt;E2\" style=\"stroke: #383838; stroke-width: 1.0;\"/><polygon fill=\"#FFFFFF\" points=\"212.17,537.69,224.1349,521.3547,231.873,533.0219,212.17,537.69\" style=\"stroke: #383838; stroke-width: 1.0;\"/><ellipse cx=\"229.9905\" cy=\"519.871\" fill=\"#383838\" rx=\"2\" ry=\"2\" style=\"stroke: #383838; stroke-width: 1.0;\"/><ellipse cx=\"235.5178\" cy=\"528.2046\" fill=\"#383838\" rx=\"2\" ry=\"2\" style=\"stroke: #383838; stroke-width: 1.0;\"/></a><!--MD5=[185131fc0dcab0a4505a2ebe144e961b]\n",
       "link E4 to E2--><a href=\"psysml:9348166f-8cea-4d7c-a96d-6192465a705e\" target=\"_top\" title=\"psysml:9348166f-8cea-4d7c-a96d-6192465a705e\" xlink:actuate=\"onRequest\" xlink:href=\"psysml:9348166f-8cea-4d7c-a96d-6192465a705e\" xlink:show=\"new\" xlink:title=\"psysml:9348166f-8cea-4d7c-a96d-6192465a705e\" xlink:type=\"simple\"><path d=\"M99.7,316.2 C80.53,332.71 62.48,352.88 52,376 C35.85,411.62 35.97,428.33 52,464 C63.74,490.13 85.76,512.33 107.48,529.36 \" fill=\"none\" id=\"E4-&gt;E2\" style=\"stroke: #383838; stroke-width: 1.0;\"/><polygon fill=\"#FFFFFF\" points=\"123.86,541.35,104.3934,535.7776,112.6617,524.48,123.86,541.35\" style=\"stroke: #383838; stroke-width: 1.0;\"/><ellipse cx=\"100.9748\" cy=\"530.7973\" fill=\"#383838\" rx=\"2\" ry=\"2\" style=\"stroke: #383838; stroke-width: 1.0;\"/><ellipse cx=\"106.8807\" cy=\"522.7276\" fill=\"#383838\" rx=\"2\" ry=\"2\" style=\"stroke: #383838; stroke-width: 1.0;\"/></a><!--MD5=[62aa6af11e70f752912c1cb0466f24f7]\n",
       "reverse link E4 to E5--><a href=\"psysml:94e091d2-0286-4211-8181-aedc46ba16d2\" target=\"_top\" title=\"psysml:94e091d2-0286-4211-8181-aedc46ba16d2\" xlink:actuate=\"onRequest\" xlink:href=\"psysml:94e091d2-0286-4211-8181-aedc46ba16d2\" xlink:show=\"new\" xlink:title=\"psysml:94e091d2-0286-4211-8181-aedc46ba16d2\" xlink:type=\"simple\"><path d=\"M173.3,329.13 C171.88,353.21 170.35,379.16 169.3,396.96 \" fill=\"none\" id=\"E4&lt;-E5\" style=\"stroke: #383838; stroke-width: 1.0;\"/><polygon fill=\"#383838\" points=\"174.08,316.01,169.7309,321.762,173.3676,327.9888,177.7167,322.2369,174.08,316.01\" style=\"stroke: #383838; stroke-width: 1.0;\"/><text fill=\"#000000\" font-family=\"sans-serif\" font-size=\"13\" lengthAdjust=\"spacingAndGlyphs\" textLength=\"7\" x=\"161.7088\" y=\"385.8455\">*</text></a><!--MD5=[15ebcb19ae302d9b601edb458606d402]\n",
       "link E5 to E2--><a href=\"psysml:dc08c53a-a0f0-4000-a138-cf80983e3afa\" target=\"_top\" title=\"psysml:dc08c53a-a0f0-4000-a138-cf80983e3afa\" xlink:actuate=\"onRequest\" xlink:href=\"psysml:dc08c53a-a0f0-4000-a138-cf80983e3afa\" xlink:show=\"new\" xlink:title=\"psysml:dc08c53a-a0f0-4000-a138-cf80983e3afa\" xlink:type=\"simple\"><path d=\"M168,443.17 C168,459.31 168,482.04 168,503.62 \" fill=\"none\" id=\"E5-&gt;E2\" style=\"stroke: #383838; stroke-width: 1.0;\"/><polygon fill=\"#FFFFFF\" points=\"168,523.71,161,504.71,175,504.71,168,523.71\" style=\"stroke: #383838; stroke-width: 1.0;\"/><ellipse cx=\"163\" cy=\"499.01\" fill=\"#383838\" rx=\"2\" ry=\"2\" style=\"stroke: #383838; stroke-width: 1.0;\"/><ellipse cx=\"173\" cy=\"499.01\" fill=\"#383838\" rx=\"2\" ry=\"2\" style=\"stroke: #383838; stroke-width: 1.0;\"/></a><!--MD5=[f667431f98296947986a1a7595a31603]\n",
       "link E6 to E4--><a href=\"psysml:b31b3f2c-80ab-44f0-a26e-d801559af683\" target=\"_top\" title=\"psysml:b31b3f2c-80ab-44f0-a26e-d801559af683\" xlink:actuate=\"onRequest\" xlink:href=\"psysml:b31b3f2c-80ab-44f0-a26e-d801559af683\" xlink:show=\"new\" xlink:title=\"psysml:b31b3f2c-80ab-44f0-a26e-d801559af683\" xlink:type=\"simple\"><path d=\"M182.95,155.03 C182.26,167.77 181.52,181.45 180.8,194.69 \" fill=\"none\" id=\"E6-&gt;E4\" style=\"stroke: #383838; stroke-width: 1.0;\"/><polygon fill=\"none\" points=\"187.77,195.32,179.7,214.91,173.79,194.56,187.77,195.32\" style=\"stroke: #383838; stroke-width: 1.0;\"/></a><!--MD5=[1c1f6509fb1c4fbf28a389b4da51776b]\n",
       "@startuml\r\n",
       " skinparam monochrome true\r\n",
       "skinparam classbackgroundcolor white\r\n",
       "skinparam shadowing false\r\n",
       "skinparam wrapWidth 300\r\n",
       "hide circle\r\n",
       "\r\n",
       "package \"MassRollup\" as E1  [[psysml:93cce498-741b-46da-9a76-47f8a90b0e87 ]]  {\r\n",
       "comp def \"MassedThing\" as E2  <<(T,blue)part def>> [[psysml:2bfc4bf5-5785-4629-99c8-bf06d3584a79 ]] {\r\n",
       "- - attributes - -\r\n",
       "mass\r\n",
       "totalMass\r\n",
       "}\r\n",
       "comp usage \"simpleThing: MassedThing\" as E3  <<(T,blue)part>> [[psysml:d9d69a25-c21e-4c46-a572-d7b139b6ee26 ]] {\r\n",
       "- - attributes - -\r\n",
       "totalMass=mass; \\n//:>>MassedThing::totalMass// \r\n",
       "}\r\n",
       "comp usage \"compositeThing: MassedThing\" as E4  <<(T,blue)part>> [[psysml:343123b1-0808-41d0-8b17-a6ebb6acc0cb ]] {\r\n",
       "- - attributes - -\r\n",
       "totalMass=mass + (subcomponents->collect p:MassedThing (p::totalMass)->reduce '+' ?? 0.0); \\n//:>>MassedThing::totalMass// \r\n",
       "}\r\n",
       "comp usage \"subcomponents: MassedThing\" as E5  <<(T,blue)part>> [[psysml:09cd1f28-daf0-4d0d-a972-b9bf2a18e992 ]] {\r\n",
       "}\r\n",
       "comp usage \"filteredMassThing\" as E6  <<(T,blue)part>> [[psysml:b3309114-4b2b-46b3-9f4f-dc695177bad1 ]] {\r\n",
       "- - attributes - -\r\n",
       "minMass\r\n",
       "totalMass=(./subcomponents/mass[p (p > minMass)])->reduce '+' ?? 0.0; \\n//:>>MassedThing::totalMass// \r\n",
       "}\r\n",
       "E3 - -:|> E2 [[psysml:b7a37c04-3b7e-4fde-bcd3-8ff7c74e6a20 ]] \r\n",
       "E4 - -:|> E2 [[psysml:9348166f-8cea-4d7c-a96d-6192465a705e ]] \r\n",
       "E4 *- - \"*\"E5 [[psysml:94e091d2-0286-4211-8181-aedc46ba16d2 ]] \r\n",
       "E5 - -:|> E2 [[psysml:dc08c53a-a0f0-4000-a138-cf80983e3afa ]] \r\n",
       "E6 - -|> E4 [[psysml:b31b3f2c-80ab-44f0-a26e-d801559af683 ]] \r\n",
       "}\r\n",
       "@enduml\r\n",
       "\n",
       "PlantUML version 1.2020.13(Sat Jun 13 12:26:38 UTC 2020)\n",
       "(EPL source distribution)\n",
       "Java Runtime: OpenJDK Runtime Environment\n",
       "JVM: OpenJDK 64-Bit Server VM\n",
       "Default Encoding: UTF-8\n",
       "Language: en\n",
       "Country: null\n",
       "--></g></svg>"
      ]
     },
     "execution_count": 8,
     "metadata": {},
     "output_type": "execute_result"
    }
   ],
   "source": [
    "%viz --style=\"COMPTREE\" --view=\"MIXED\" \"MassRollup\""
   ]
  },
  {
   "cell_type": "code",
   "execution_count": 9,
   "id": "838a45f5",
   "metadata": {
    "execution": {
     "iopub.execute_input": "2021-04-20T07:26:54.096989Z",
     "iopub.status.busy": "2021-04-20T07:26:54.096248Z",
     "iopub.status.idle": "2021-04-20T07:26:54.331718Z",
     "shell.execute_reply": "2021-04-20T07:26:54.330900Z"
    }
   },
   "outputs": [
    {
     "data": {
      "image/svg+xml": [
       "<?xml version=\"1.0\" encoding=\"UTF-8\" standalone=\"no\"?><svg xmlns=\"http://www.w3.org/2000/svg\" xmlns:xlink=\"http://www.w3.org/1999/xlink\" contentScriptType=\"application/ecmascript\" contentStyleType=\"text/css\" height=\"640px\" preserveAspectRatio=\"none\" style=\"width:512px;height:640px;\" version=\"1.1\" viewBox=\"0 0 512 640\" width=\"512px\" zoomAndPan=\"magnify\"><defs/><g><!--MD5=[fbc87193dbaf4d95561dea2c320d4a47]\n",
       "cluster E1--><a href=\"psysml:93cce498-741b-46da-9a76-47f8a90b0e87\" target=\"_top\" title=\"psysml:93cce498-741b-46da-9a76-47f8a90b0e87\" xlink:actuate=\"onRequest\" xlink:href=\"psysml:93cce498-741b-46da-9a76-47f8a90b0e87\" xlink:show=\"new\" xlink:title=\"psysml:93cce498-741b-46da-9a76-47f8a90b0e87\" xlink:type=\"simple\"><polygon fill=\"#FFFFFF\" points=\"16,6,110,6,117,28.2969,490,28.2969,490,628,16,628,16,6\" style=\"stroke: #000000; stroke-width: 1.5;\"/><line style=\"stroke: #000000; stroke-width: 1.5;\" x1=\"16\" x2=\"117\" y1=\"28.2969\" y2=\"28.2969\"/><text fill=\"#000000\" font-family=\"sans-serif\" font-size=\"14\" font-weight=\"bold\" lengthAdjust=\"spacingAndGlyphs\" textLength=\"88\" x=\"20\" y=\"20.9951\">MassRollup</text></a><!--MD5=[b4997ac47864f28c2f74865a473b2911]\n",
       "class E2--><a href=\"psysml:2bfc4bf5-5785-4629-99c8-bf06d3584a79\" target=\"_top\" title=\"psysml:2bfc4bf5-5785-4629-99c8-bf06d3584a79\" xlink:actuate=\"onRequest\" xlink:href=\"psysml:2bfc4bf5-5785-4629-99c8-bf06d3584a79\" xlink:show=\"new\" xlink:title=\"psysml:2bfc4bf5-5785-4629-99c8-bf06d3584a79\" xlink:type=\"simple\"><rect fill=\"#FFFFFF\" height=\"88.3516\" id=\"E2\" style=\"stroke: #383838; stroke-width: 1.5;\" width=\"88\" x=\"124\" y=\"524\"/><text fill=\"#000000\" font-family=\"sans-serif\" font-size=\"12\" font-style=\"italic\" lengthAdjust=\"spacingAndGlyphs\" textLength=\"64\" x=\"136\" y=\"540.1387\">«part def»</text><text fill=\"#000000\" font-family=\"sans-serif\" font-size=\"12\" lengthAdjust=\"spacingAndGlyphs\" textLength=\"82\" x=\"127\" y=\"554.1074\">MassedThing</text><line style=\"stroke: #383838; stroke-width: 1.5;\" x1=\"125\" x2=\"211\" y1=\"561.9375\" y2=\"561.9375\"/><text fill=\"#000000\" font-family=\"sans-serif\" font-size=\"11\" lengthAdjust=\"spacingAndGlyphs\" textLength=\"32\" x=\"130\" y=\"592.9526\">mass</text><text fill=\"#000000\" font-family=\"sans-serif\" font-size=\"11\" lengthAdjust=\"spacingAndGlyphs\" textLength=\"55\" x=\"130\" y=\"605.7573\">totalMass</text><line style=\"stroke: #383838; stroke-width: 1.0;\" x1=\"125\" x2=\"140.5\" y1=\"576.3398\" y2=\"576.3398\"/><text fill=\"#000000\" font-family=\"sans-serif\" font-size=\"11\" lengthAdjust=\"spacingAndGlyphs\" textLength=\"55\" x=\"140.5\" y=\"579.6479\">attributes</text><line style=\"stroke: #383838; stroke-width: 1.0;\" x1=\"195.5\" x2=\"211\" y1=\"576.3398\" y2=\"576.3398\"/></a><!--MD5=[09b614a08d8cba4a07c9adeb5e0fee81]\n",
       "class E3--><a href=\"psysml:d9d69a25-c21e-4c46-a572-d7b139b6ee26\" target=\"_top\" title=\"psysml:d9d69a25-c21e-4c46-a572-d7b139b6ee26\" xlink:actuate=\"onRequest\" xlink:href=\"psysml:d9d69a25-c21e-4c46-a572-d7b139b6ee26\" xlink:show=\"new\" xlink:title=\"psysml:d9d69a25-c21e-4c46-a572-d7b139b6ee26\" xlink:type=\"simple\"><rect fill=\"#FFFFFF\" height=\"88.3516\" id=\"E3\" rx=\"10\" ry=\"10\" style=\"stroke: #383838; stroke-width: 1.5;\" width=\"172\" x=\"302\" y=\"376\"/><text fill=\"#000000\" font-family=\"sans-serif\" font-size=\"12\" font-style=\"italic\" lengthAdjust=\"spacingAndGlyphs\" textLength=\"40\" x=\"368\" y=\"392.1387\">«part»</text><text fill=\"#000000\" font-family=\"sans-serif\" font-size=\"12\" lengthAdjust=\"spacingAndGlyphs\" textLength=\"164\" x=\"306\" y=\"406.1074\">simpleThing: MassedThing</text><line style=\"stroke: #383838; stroke-width: 1.5;\" x1=\"303\" x2=\"473\" y1=\"413.9375\" y2=\"413.9375\"/><text fill=\"#000000\" font-family=\"sans-serif\" font-size=\"11\" lengthAdjust=\"spacingAndGlyphs\" textLength=\"100\" x=\"308\" y=\"444.9526\">totalMass=mass;</text><text fill=\"#000000\" font-family=\"sans-serif\" font-size=\"11\" font-style=\"italic\" lengthAdjust=\"spacingAndGlyphs\" textLength=\"160\" x=\"308\" y=\"457.7573\">:&gt;&gt;MassedThing::totalMass</text><line style=\"stroke: #383838; stroke-width: 1.0;\" x1=\"303\" x2=\"360.5\" y1=\"428.3398\" y2=\"428.3398\"/><text fill=\"#000000\" font-family=\"sans-serif\" font-size=\"11\" lengthAdjust=\"spacingAndGlyphs\" textLength=\"55\" x=\"360.5\" y=\"431.6479\">attributes</text><line style=\"stroke: #383838; stroke-width: 1.0;\" x1=\"415.5\" x2=\"473\" y1=\"428.3398\" y2=\"428.3398\"/></a><!--MD5=[ebbe1d658d1005bcc118a6aa81145e00]\n",
       "class E4--><a href=\"psysml:343123b1-0808-41d0-8b17-a6ebb6acc0cb\" target=\"_top\" title=\"psysml:343123b1-0808-41d0-8b17-a6ebb6acc0cb\" xlink:actuate=\"onRequest\" xlink:href=\"psysml:343123b1-0808-41d0-8b17-a6ebb6acc0cb\" xlink:show=\"new\" xlink:title=\"psysml:343123b1-0808-41d0-8b17-a6ebb6acc0cb\" xlink:type=\"simple\"><rect fill=\"#FFFFFF\" height=\"101.1563\" id=\"E4\" rx=\"10\" ry=\"10\" style=\"stroke: #383838; stroke-width: 1.5;\" width=\"290\" x=\"32\" y=\"215\"/><text fill=\"#000000\" font-family=\"sans-serif\" font-size=\"12\" font-style=\"italic\" lengthAdjust=\"spacingAndGlyphs\" textLength=\"40\" x=\"157\" y=\"231.1387\">«part»</text><text fill=\"#000000\" font-family=\"sans-serif\" font-size=\"12\" lengthAdjust=\"spacingAndGlyphs\" textLength=\"189\" x=\"82.5\" y=\"245.1074\">compositeThing: MassedThing</text><line style=\"stroke: #383838; stroke-width: 1.5;\" x1=\"33\" x2=\"321\" y1=\"252.9375\" y2=\"252.9375\"/><text fill=\"#000000\" font-family=\"sans-serif\" font-size=\"11\" lengthAdjust=\"spacingAndGlyphs\" textLength=\"272\" x=\"38\" y=\"283.9526\">totalMass=mass + (subcomponents-&gt;collect p:</text><text fill=\"#000000\" font-family=\"sans-serif\" font-size=\"11\" lengthAdjust=\"spacingAndGlyphs\" textLength=\"274\" x=\"38\" y=\"296.7573\">MassedThing (p::totalMass)-&gt;reduce '+' ?? 0.0);</text><text fill=\"#000000\" font-family=\"sans-serif\" font-size=\"11\" font-style=\"italic\" lengthAdjust=\"spacingAndGlyphs\" textLength=\"160\" x=\"38\" y=\"309.562\">:&gt;&gt;MassedThing::totalMass</text><line style=\"stroke: #383838; stroke-width: 1.0;\" x1=\"33\" x2=\"149.5\" y1=\"267.3398\" y2=\"267.3398\"/><text fill=\"#000000\" font-family=\"sans-serif\" font-size=\"11\" lengthAdjust=\"spacingAndGlyphs\" textLength=\"55\" x=\"149.5\" y=\"270.6479\">attributes</text><line style=\"stroke: #383838; stroke-width: 1.0;\" x1=\"204.5\" x2=\"321\" y1=\"267.3398\" y2=\"267.3398\"/></a><!--MD5=[270fce915f116d4de14055a7c1d9a0f3]\n",
       "class E5--><a href=\"psysml:09cd1f28-daf0-4d0d-a972-b9bf2a18e992\" target=\"_top\" title=\"psysml:09cd1f28-daf0-4d0d-a972-b9bf2a18e992\" xlink:actuate=\"onRequest\" xlink:href=\"psysml:09cd1f28-daf0-4d0d-a972-b9bf2a18e992\" xlink:show=\"new\" xlink:title=\"psysml:09cd1f28-daf0-4d0d-a972-b9bf2a18e992\" xlink:type=\"simple\"><rect fill=\"#FFFFFF\" height=\"45.9375\" id=\"E5\" rx=\"10\" ry=\"10\" style=\"stroke: #383838; stroke-width: 1.5;\" width=\"197\" x=\"69.5\" y=\"397\"/><text fill=\"#000000\" font-family=\"sans-serif\" font-size=\"12\" font-style=\"italic\" lengthAdjust=\"spacingAndGlyphs\" textLength=\"40\" x=\"148\" y=\"413.1387\">«part»</text><text fill=\"#000000\" font-family=\"sans-serif\" font-size=\"12\" lengthAdjust=\"spacingAndGlyphs\" textLength=\"191\" x=\"72.5\" y=\"427.1074\">subcomponents: MassedThing</text><line style=\"stroke: #383838; stroke-width: 1.5;\" x1=\"70.5\" x2=\"265.5\" y1=\"434.9375\" y2=\"434.9375\"/></a><!--MD5=[60a26617385b1d2d0262a64233df1f8d]\n",
       "class E6--><a href=\"psysml:b3309114-4b2b-46b3-9f4f-dc695177bad1\" target=\"_top\" title=\"psysml:b3309114-4b2b-46b3-9f4f-dc695177bad1\" xlink:actuate=\"onRequest\" xlink:href=\"psysml:b3309114-4b2b-46b3-9f4f-dc695177bad1\" xlink:show=\"new\" xlink:title=\"psysml:b3309114-4b2b-46b3-9f4f-dc695177bad1\" xlink:type=\"simple\"><rect fill=\"#FFFFFF\" height=\"113.9609\" id=\"E6\" rx=\"10\" ry=\"10\" style=\"stroke: #383838; stroke-width: 1.5;\" width=\"309\" x=\"31.5\" y=\"41\"/><text fill=\"#000000\" font-family=\"sans-serif\" font-size=\"12\" font-style=\"italic\" lengthAdjust=\"spacingAndGlyphs\" textLength=\"40\" x=\"166\" y=\"57.1387\">«part»</text><text fill=\"#000000\" font-family=\"sans-serif\" font-size=\"12\" lengthAdjust=\"spacingAndGlyphs\" textLength=\"110\" x=\"131\" y=\"71.1074\">filteredMassThing</text><line style=\"stroke: #383838; stroke-width: 1.5;\" x1=\"32.5\" x2=\"339.5\" y1=\"78.9375\" y2=\"78.9375\"/><text fill=\"#000000\" font-family=\"sans-serif\" font-size=\"11\" lengthAdjust=\"spacingAndGlyphs\" textLength=\"51\" x=\"37.5\" y=\"109.9526\">minMass</text><text fill=\"#000000\" font-family=\"sans-serif\" font-size=\"11\" lengthAdjust=\"spacingAndGlyphs\" textLength=\"297\" x=\"37.5\" y=\"122.7573\">totalMass=(./subcomponents/mass[p (p &gt; minMass</text><text fill=\"#000000\" font-family=\"sans-serif\" font-size=\"11\" lengthAdjust=\"spacingAndGlyphs\" textLength=\"125\" x=\"37.5\" y=\"135.562\">)])-&gt;reduce '+' ?? 0.0;</text><text fill=\"#000000\" font-family=\"sans-serif\" font-size=\"11\" font-style=\"italic\" lengthAdjust=\"spacingAndGlyphs\" textLength=\"160\" x=\"37.5\" y=\"148.3667\">:&gt;&gt;MassedThing::totalMass</text><line style=\"stroke: #383838; stroke-width: 1.0;\" x1=\"32.5\" x2=\"158.5\" y1=\"93.3398\" y2=\"93.3398\"/><text fill=\"#000000\" font-family=\"sans-serif\" font-size=\"11\" lengthAdjust=\"spacingAndGlyphs\" textLength=\"55\" x=\"158.5\" y=\"96.6479\">attributes</text><line style=\"stroke: #383838; stroke-width: 1.0;\" x1=\"213.5\" x2=\"339.5\" y1=\"93.3398\" y2=\"93.3398\"/></a><!--MD5=[05d275557350bfb9b23a4ef7222b4c39]\n",
       "link E3 to E2--><a href=\"psysml:b7a37c04-3b7e-4fde-bcd3-8ff7c74e6a20\" target=\"_top\" title=\"psysml:b7a37c04-3b7e-4fde-bcd3-8ff7c74e6a20\" xlink:actuate=\"onRequest\" xlink:href=\"psysml:b7a37c04-3b7e-4fde-bcd3-8ff7c74e6a20\" xlink:show=\"new\" xlink:title=\"psysml:b7a37c04-3b7e-4fde-bcd3-8ff7c74e6a20\" xlink:type=\"simple\"><path d=\"M323.18,464.02 C293.44,483.75 258.37,507.03 229.1,526.45 \" fill=\"none\" id=\"E3-&gt;E2\" style=\"stroke: #383838; stroke-width: 1.0;\"/><polygon fill=\"#FFFFFF\" points=\"212.17,537.69,224.1349,521.3547,231.873,533.0219,212.17,537.69\" style=\"stroke: #383838; stroke-width: 1.0;\"/><ellipse cx=\"229.9905\" cy=\"519.871\" fill=\"#383838\" rx=\"2\" ry=\"2\" style=\"stroke: #383838; stroke-width: 1.0;\"/><ellipse cx=\"235.5178\" cy=\"528.2046\" fill=\"#383838\" rx=\"2\" ry=\"2\" style=\"stroke: #383838; stroke-width: 1.0;\"/></a><!--MD5=[185131fc0dcab0a4505a2ebe144e961b]\n",
       "link E4 to E2--><a href=\"psysml:9348166f-8cea-4d7c-a96d-6192465a705e\" target=\"_top\" title=\"psysml:9348166f-8cea-4d7c-a96d-6192465a705e\" xlink:actuate=\"onRequest\" xlink:href=\"psysml:9348166f-8cea-4d7c-a96d-6192465a705e\" xlink:show=\"new\" xlink:title=\"psysml:9348166f-8cea-4d7c-a96d-6192465a705e\" xlink:type=\"simple\"><path d=\"M120.35,316.12 C87.28,345.1 52,376 52,376 C52,376 52,464 52,464 C52,464 80.05,488.9 108.56,514.22 \" fill=\"none\" id=\"E4-&gt;E2\" style=\"stroke: #383838; stroke-width: 1.0;\"/><polygon fill=\"#FFFFFF\" points=\"123.81,527.77,104.956,520.3857,114.2534,509.9186,123.81,527.77\" style=\"stroke: #383838; stroke-width: 1.0;\"/><ellipse cx=\"102.0227\" cy=\"515.105\" fill=\"#383838\" rx=\"2\" ry=\"2\" style=\"stroke: #383838; stroke-width: 1.0;\"/><ellipse cx=\"108.6636\" cy=\"507.6286\" fill=\"#383838\" rx=\"2\" ry=\"2\" style=\"stroke: #383838; stroke-width: 1.0;\"/></a><!--MD5=[62aa6af11e70f752912c1cb0466f24f7]\n",
       "reverse link E4 to E5--><a href=\"psysml:94e091d2-0286-4211-8181-aedc46ba16d2\" target=\"_top\" title=\"psysml:94e091d2-0286-4211-8181-aedc46ba16d2\" xlink:actuate=\"onRequest\" xlink:href=\"psysml:94e091d2-0286-4211-8181-aedc46ba16d2\" xlink:show=\"new\" xlink:title=\"psysml:94e091d2-0286-4211-8181-aedc46ba16d2\" xlink:type=\"simple\"><path d=\"M173.3,329.13 C171.88,353.21 170.35,379.16 169.3,396.96 \" fill=\"none\" id=\"E4&lt;-E5\" style=\"stroke: #383838; stroke-width: 1.0;\"/><polygon fill=\"#383838\" points=\"174.08,316.01,169.7309,321.762,173.3676,327.9888,177.7167,322.2369,174.08,316.01\" style=\"stroke: #383838; stroke-width: 1.0;\"/><text fill=\"#000000\" font-family=\"sans-serif\" font-size=\"13\" lengthAdjust=\"spacingAndGlyphs\" textLength=\"7\" x=\"161.7088\" y=\"385.8455\">*</text></a><!--MD5=[15ebcb19ae302d9b601edb458606d402]\n",
       "link E5 to E2--><a href=\"psysml:dc08c53a-a0f0-4000-a138-cf80983e3afa\" target=\"_top\" title=\"psysml:dc08c53a-a0f0-4000-a138-cf80983e3afa\" xlink:actuate=\"onRequest\" xlink:href=\"psysml:dc08c53a-a0f0-4000-a138-cf80983e3afa\" xlink:show=\"new\" xlink:title=\"psysml:dc08c53a-a0f0-4000-a138-cf80983e3afa\" xlink:type=\"simple\"><path d=\"M168,443.17 C168,459.31 168,482.04 168,503.62 \" fill=\"none\" id=\"E5-&gt;E2\" style=\"stroke: #383838; stroke-width: 1.0;\"/><polygon fill=\"#FFFFFF\" points=\"168,523.71,161,504.71,175,504.71,168,523.71\" style=\"stroke: #383838; stroke-width: 1.0;\"/><ellipse cx=\"163\" cy=\"499.01\" fill=\"#383838\" rx=\"2\" ry=\"2\" style=\"stroke: #383838; stroke-width: 1.0;\"/><ellipse cx=\"173\" cy=\"499.01\" fill=\"#383838\" rx=\"2\" ry=\"2\" style=\"stroke: #383838; stroke-width: 1.0;\"/></a><!--MD5=[f667431f98296947986a1a7595a31603]\n",
       "link E6 to E4--><a href=\"psysml:b31b3f2c-80ab-44f0-a26e-d801559af683\" target=\"_top\" title=\"psysml:b31b3f2c-80ab-44f0-a26e-d801559af683\" xlink:actuate=\"onRequest\" xlink:href=\"psysml:b31b3f2c-80ab-44f0-a26e-d801559af683\" xlink:show=\"new\" xlink:title=\"psysml:b31b3f2c-80ab-44f0-a26e-d801559af683\" xlink:type=\"simple\"><path d=\"M182.95,155.03 C182.26,167.77 181.52,181.45 180.8,194.69 \" fill=\"none\" id=\"E6-&gt;E4\" style=\"stroke: #383838; stroke-width: 1.0;\"/><polygon fill=\"none\" points=\"187.77,195.32,179.7,214.91,173.79,194.56,187.77,195.32\" style=\"stroke: #383838; stroke-width: 1.0;\"/></a><!--MD5=[878ec1e5e393a4a797facfe0fbf9e48b]\n",
       "@startuml\r\n",
       "skinparam linetype polyline\r\n",
       "skinparam monochrome true\r\n",
       "skinparam classbackgroundcolor white\r\n",
       "skinparam shadowing false\r\n",
       "skinparam wrapWidth 300\r\n",
       "hide circle\r\n",
       "\r\n",
       "package \"MassRollup\" as E1  [[psysml:93cce498-741b-46da-9a76-47f8a90b0e87 ]]  {\r\n",
       "comp def \"MassedThing\" as E2  <<(T,blue)part def>> [[psysml:2bfc4bf5-5785-4629-99c8-bf06d3584a79 ]] {\r\n",
       "- - attributes - -\r\n",
       "mass\r\n",
       "totalMass\r\n",
       "}\r\n",
       "comp usage \"simpleThing: MassedThing\" as E3  <<(T,blue)part>> [[psysml:d9d69a25-c21e-4c46-a572-d7b139b6ee26 ]] {\r\n",
       "- - attributes - -\r\n",
       "totalMass=mass; \\n//:>>MassedThing::totalMass// \r\n",
       "}\r\n",
       "comp usage \"compositeThing: MassedThing\" as E4  <<(T,blue)part>> [[psysml:343123b1-0808-41d0-8b17-a6ebb6acc0cb ]] {\r\n",
       "- - attributes - -\r\n",
       "totalMass=mass + (subcomponents->collect p:MassedThing (p::totalMass)->reduce '+' ?? 0.0); \\n//:>>MassedThing::totalMass// \r\n",
       "}\r\n",
       "comp usage \"subcomponents: MassedThing\" as E5  <<(T,blue)part>> [[psysml:09cd1f28-daf0-4d0d-a972-b9bf2a18e992 ]] {\r\n",
       "}\r\n",
       "comp usage \"filteredMassThing\" as E6  <<(T,blue)part>> [[psysml:b3309114-4b2b-46b3-9f4f-dc695177bad1 ]] {\r\n",
       "- - attributes - -\r\n",
       "minMass\r\n",
       "totalMass=(./subcomponents/mass[p (p > minMass)])->reduce '+' ?? 0.0; \\n//:>>MassedThing::totalMass// \r\n",
       "}\r\n",
       "E3 - -:|> E2 [[psysml:b7a37c04-3b7e-4fde-bcd3-8ff7c74e6a20 ]] \r\n",
       "E4 - -:|> E2 [[psysml:9348166f-8cea-4d7c-a96d-6192465a705e ]] \r\n",
       "E4 *- - \"*\"E5 [[psysml:94e091d2-0286-4211-8181-aedc46ba16d2 ]] \r\n",
       "E5 - -:|> E2 [[psysml:dc08c53a-a0f0-4000-a138-cf80983e3afa ]] \r\n",
       "E6 - -|> E4 [[psysml:b31b3f2c-80ab-44f0-a26e-d801559af683 ]] \r\n",
       "}\r\n",
       "@enduml\r\n",
       "\n",
       "PlantUML version 1.2020.13(Sat Jun 13 12:26:38 UTC 2020)\n",
       "(EPL source distribution)\n",
       "Java Runtime: OpenJDK Runtime Environment\n",
       "JVM: OpenJDK 64-Bit Server VM\n",
       "Default Encoding: UTF-8\n",
       "Language: en\n",
       "Country: null\n",
       "--></g></svg>"
      ]
     },
     "execution_count": 9,
     "metadata": {},
     "output_type": "execute_result"
    }
   ],
   "source": [
    "%viz --style=\"POLYLINE\" --view=\"Default\" \"MassRollup\""
   ]
  },
  {
   "cell_type": "code",
   "execution_count": 10,
   "id": "b81fa285",
   "metadata": {
    "execution": {
     "iopub.execute_input": "2021-04-20T07:26:54.382868Z",
     "iopub.status.busy": "2021-04-20T07:26:54.381611Z",
     "iopub.status.idle": "2021-04-20T07:26:54.589556Z",
     "shell.execute_reply": "2021-04-20T07:26:54.588780Z"
    }
   },
   "outputs": [
    {
     "data": {
      "image/svg+xml": [
       "<?xml version=\"1.0\" encoding=\"UTF-8\" standalone=\"no\"?><svg xmlns=\"http://www.w3.org/2000/svg\" xmlns:xlink=\"http://www.w3.org/1999/xlink\" contentScriptType=\"application/ecmascript\" contentStyleType=\"text/css\" height=\"640px\" preserveAspectRatio=\"none\" style=\"width:512px;height:640px;\" version=\"1.1\" viewBox=\"0 0 512 640\" width=\"512px\" zoomAndPan=\"magnify\"><defs/><g><!--MD5=[fbc87193dbaf4d95561dea2c320d4a47]\n",
       "cluster E1--><a href=\"psysml:93cce498-741b-46da-9a76-47f8a90b0e87\" target=\"_top\" title=\"psysml:93cce498-741b-46da-9a76-47f8a90b0e87\" xlink:actuate=\"onRequest\" xlink:href=\"psysml:93cce498-741b-46da-9a76-47f8a90b0e87\" xlink:show=\"new\" xlink:title=\"psysml:93cce498-741b-46da-9a76-47f8a90b0e87\" xlink:type=\"simple\"><polygon fill=\"#FFFFFF\" points=\"16,6,110,6,117,28.2969,490,28.2969,490,628,16,628,16,6\" style=\"stroke: #000000; stroke-width: 1.5;\"/><line style=\"stroke: #000000; stroke-width: 1.5;\" x1=\"16\" x2=\"117\" y1=\"28.2969\" y2=\"28.2969\"/><text fill=\"#000000\" font-family=\"sans-serif\" font-size=\"14\" font-weight=\"bold\" lengthAdjust=\"spacingAndGlyphs\" textLength=\"88\" x=\"20\" y=\"20.9951\">MassRollup</text></a><!--MD5=[b4997ac47864f28c2f74865a473b2911]\n",
       "class E2--><a href=\"psysml:2bfc4bf5-5785-4629-99c8-bf06d3584a79\" target=\"_top\" title=\"psysml:2bfc4bf5-5785-4629-99c8-bf06d3584a79\" xlink:actuate=\"onRequest\" xlink:href=\"psysml:2bfc4bf5-5785-4629-99c8-bf06d3584a79\" xlink:show=\"new\" xlink:title=\"psysml:2bfc4bf5-5785-4629-99c8-bf06d3584a79\" xlink:type=\"simple\"><rect fill=\"#FFFFFF\" height=\"88.3516\" id=\"E2\" style=\"stroke: #383838; stroke-width: 1.5;\" width=\"88\" x=\"124\" y=\"524\"/><text fill=\"#000000\" font-family=\"sans-serif\" font-size=\"12\" font-style=\"italic\" lengthAdjust=\"spacingAndGlyphs\" textLength=\"64\" x=\"136\" y=\"540.1387\">«part def»</text><text fill=\"#000000\" font-family=\"sans-serif\" font-size=\"12\" lengthAdjust=\"spacingAndGlyphs\" textLength=\"82\" x=\"127\" y=\"554.1074\">MassedThing</text><line style=\"stroke: #383838; stroke-width: 1.5;\" x1=\"125\" x2=\"211\" y1=\"561.9375\" y2=\"561.9375\"/><text fill=\"#000000\" font-family=\"sans-serif\" font-size=\"11\" lengthAdjust=\"spacingAndGlyphs\" textLength=\"32\" x=\"130\" y=\"592.9526\">mass</text><text fill=\"#000000\" font-family=\"sans-serif\" font-size=\"11\" lengthAdjust=\"spacingAndGlyphs\" textLength=\"55\" x=\"130\" y=\"605.7573\">totalMass</text><line style=\"stroke: #383838; stroke-width: 1.0;\" x1=\"125\" x2=\"140.5\" y1=\"576.3398\" y2=\"576.3398\"/><text fill=\"#000000\" font-family=\"sans-serif\" font-size=\"11\" lengthAdjust=\"spacingAndGlyphs\" textLength=\"55\" x=\"140.5\" y=\"579.6479\">attributes</text><line style=\"stroke: #383838; stroke-width: 1.0;\" x1=\"195.5\" x2=\"211\" y1=\"576.3398\" y2=\"576.3398\"/></a><!--MD5=[09b614a08d8cba4a07c9adeb5e0fee81]\n",
       "class E3--><a href=\"psysml:d9d69a25-c21e-4c46-a572-d7b139b6ee26\" target=\"_top\" title=\"psysml:d9d69a25-c21e-4c46-a572-d7b139b6ee26\" xlink:actuate=\"onRequest\" xlink:href=\"psysml:d9d69a25-c21e-4c46-a572-d7b139b6ee26\" xlink:show=\"new\" xlink:title=\"psysml:d9d69a25-c21e-4c46-a572-d7b139b6ee26\" xlink:type=\"simple\"><rect fill=\"#FFFFFF\" height=\"88.3516\" id=\"E3\" rx=\"10\" ry=\"10\" style=\"stroke: #383838; stroke-width: 1.5;\" width=\"172\" x=\"302\" y=\"376\"/><text fill=\"#000000\" font-family=\"sans-serif\" font-size=\"12\" font-style=\"italic\" lengthAdjust=\"spacingAndGlyphs\" textLength=\"40\" x=\"368\" y=\"392.1387\">«part»</text><text fill=\"#000000\" font-family=\"sans-serif\" font-size=\"12\" lengthAdjust=\"spacingAndGlyphs\" textLength=\"164\" x=\"306\" y=\"406.1074\">simpleThing: MassedThing</text><line style=\"stroke: #383838; stroke-width: 1.5;\" x1=\"303\" x2=\"473\" y1=\"413.9375\" y2=\"413.9375\"/><text fill=\"#000000\" font-family=\"sans-serif\" font-size=\"11\" lengthAdjust=\"spacingAndGlyphs\" textLength=\"100\" x=\"308\" y=\"444.9526\">totalMass=mass;</text><text fill=\"#000000\" font-family=\"sans-serif\" font-size=\"11\" font-style=\"italic\" lengthAdjust=\"spacingAndGlyphs\" textLength=\"160\" x=\"308\" y=\"457.7573\">:&gt;&gt;MassedThing::totalMass</text><line style=\"stroke: #383838; stroke-width: 1.0;\" x1=\"303\" x2=\"360.5\" y1=\"428.3398\" y2=\"428.3398\"/><text fill=\"#000000\" font-family=\"sans-serif\" font-size=\"11\" lengthAdjust=\"spacingAndGlyphs\" textLength=\"55\" x=\"360.5\" y=\"431.6479\">attributes</text><line style=\"stroke: #383838; stroke-width: 1.0;\" x1=\"415.5\" x2=\"473\" y1=\"428.3398\" y2=\"428.3398\"/></a><!--MD5=[ebbe1d658d1005bcc118a6aa81145e00]\n",
       "class E4--><a href=\"psysml:343123b1-0808-41d0-8b17-a6ebb6acc0cb\" target=\"_top\" title=\"psysml:343123b1-0808-41d0-8b17-a6ebb6acc0cb\" xlink:actuate=\"onRequest\" xlink:href=\"psysml:343123b1-0808-41d0-8b17-a6ebb6acc0cb\" xlink:show=\"new\" xlink:title=\"psysml:343123b1-0808-41d0-8b17-a6ebb6acc0cb\" xlink:type=\"simple\"><rect fill=\"#FFFFFF\" height=\"101.1563\" id=\"E4\" rx=\"10\" ry=\"10\" style=\"stroke: #383838; stroke-width: 1.5;\" width=\"290\" x=\"32\" y=\"215\"/><text fill=\"#000000\" font-family=\"sans-serif\" font-size=\"12\" font-style=\"italic\" lengthAdjust=\"spacingAndGlyphs\" textLength=\"40\" x=\"157\" y=\"231.1387\">«part»</text><text fill=\"#000000\" font-family=\"sans-serif\" font-size=\"12\" lengthAdjust=\"spacingAndGlyphs\" textLength=\"189\" x=\"82.5\" y=\"245.1074\">compositeThing: MassedThing</text><line style=\"stroke: #383838; stroke-width: 1.5;\" x1=\"33\" x2=\"321\" y1=\"252.9375\" y2=\"252.9375\"/><text fill=\"#000000\" font-family=\"sans-serif\" font-size=\"11\" lengthAdjust=\"spacingAndGlyphs\" textLength=\"272\" x=\"38\" y=\"283.9526\">totalMass=mass + (subcomponents-&gt;collect p:</text><text fill=\"#000000\" font-family=\"sans-serif\" font-size=\"11\" lengthAdjust=\"spacingAndGlyphs\" textLength=\"274\" x=\"38\" y=\"296.7573\">MassedThing (p::totalMass)-&gt;reduce '+' ?? 0.0);</text><text fill=\"#000000\" font-family=\"sans-serif\" font-size=\"11\" font-style=\"italic\" lengthAdjust=\"spacingAndGlyphs\" textLength=\"160\" x=\"38\" y=\"309.562\">:&gt;&gt;MassedThing::totalMass</text><line style=\"stroke: #383838; stroke-width: 1.0;\" x1=\"33\" x2=\"149.5\" y1=\"267.3398\" y2=\"267.3398\"/><text fill=\"#000000\" font-family=\"sans-serif\" font-size=\"11\" lengthAdjust=\"spacingAndGlyphs\" textLength=\"55\" x=\"149.5\" y=\"270.6479\">attributes</text><line style=\"stroke: #383838; stroke-width: 1.0;\" x1=\"204.5\" x2=\"321\" y1=\"267.3398\" y2=\"267.3398\"/></a><!--MD5=[270fce915f116d4de14055a7c1d9a0f3]\n",
       "class E5--><a href=\"psysml:09cd1f28-daf0-4d0d-a972-b9bf2a18e992\" target=\"_top\" title=\"psysml:09cd1f28-daf0-4d0d-a972-b9bf2a18e992\" xlink:actuate=\"onRequest\" xlink:href=\"psysml:09cd1f28-daf0-4d0d-a972-b9bf2a18e992\" xlink:show=\"new\" xlink:title=\"psysml:09cd1f28-daf0-4d0d-a972-b9bf2a18e992\" xlink:type=\"simple\"><rect fill=\"#FFFFFF\" height=\"45.9375\" id=\"E5\" rx=\"10\" ry=\"10\" style=\"stroke: #383838; stroke-width: 1.5;\" width=\"197\" x=\"69.5\" y=\"397\"/><text fill=\"#000000\" font-family=\"sans-serif\" font-size=\"12\" font-style=\"italic\" lengthAdjust=\"spacingAndGlyphs\" textLength=\"40\" x=\"148\" y=\"413.1387\">«part»</text><text fill=\"#000000\" font-family=\"sans-serif\" font-size=\"12\" lengthAdjust=\"spacingAndGlyphs\" textLength=\"191\" x=\"72.5\" y=\"427.1074\">subcomponents: MassedThing</text><line style=\"stroke: #383838; stroke-width: 1.5;\" x1=\"70.5\" x2=\"265.5\" y1=\"434.9375\" y2=\"434.9375\"/></a><!--MD5=[60a26617385b1d2d0262a64233df1f8d]\n",
       "class E6--><a href=\"psysml:b3309114-4b2b-46b3-9f4f-dc695177bad1\" target=\"_top\" title=\"psysml:b3309114-4b2b-46b3-9f4f-dc695177bad1\" xlink:actuate=\"onRequest\" xlink:href=\"psysml:b3309114-4b2b-46b3-9f4f-dc695177bad1\" xlink:show=\"new\" xlink:title=\"psysml:b3309114-4b2b-46b3-9f4f-dc695177bad1\" xlink:type=\"simple\"><rect fill=\"#FFFFFF\" height=\"113.9609\" id=\"E6\" rx=\"10\" ry=\"10\" style=\"stroke: #383838; stroke-width: 1.5;\" width=\"309\" x=\"31.5\" y=\"41\"/><text fill=\"#000000\" font-family=\"sans-serif\" font-size=\"12\" font-style=\"italic\" lengthAdjust=\"spacingAndGlyphs\" textLength=\"40\" x=\"166\" y=\"57.1387\">«part»</text><text fill=\"#000000\" font-family=\"sans-serif\" font-size=\"12\" lengthAdjust=\"spacingAndGlyphs\" textLength=\"110\" x=\"131\" y=\"71.1074\">filteredMassThing</text><line style=\"stroke: #383838; stroke-width: 1.5;\" x1=\"32.5\" x2=\"339.5\" y1=\"78.9375\" y2=\"78.9375\"/><text fill=\"#000000\" font-family=\"sans-serif\" font-size=\"11\" lengthAdjust=\"spacingAndGlyphs\" textLength=\"51\" x=\"37.5\" y=\"109.9526\">minMass</text><text fill=\"#000000\" font-family=\"sans-serif\" font-size=\"11\" lengthAdjust=\"spacingAndGlyphs\" textLength=\"297\" x=\"37.5\" y=\"122.7573\">totalMass=(./subcomponents/mass[p (p &gt; minMass</text><text fill=\"#000000\" font-family=\"sans-serif\" font-size=\"11\" lengthAdjust=\"spacingAndGlyphs\" textLength=\"125\" x=\"37.5\" y=\"135.562\">)])-&gt;reduce '+' ?? 0.0;</text><text fill=\"#000000\" font-family=\"sans-serif\" font-size=\"11\" font-style=\"italic\" lengthAdjust=\"spacingAndGlyphs\" textLength=\"160\" x=\"37.5\" y=\"148.3667\">:&gt;&gt;MassedThing::totalMass</text><line style=\"stroke: #383838; stroke-width: 1.0;\" x1=\"32.5\" x2=\"158.5\" y1=\"93.3398\" y2=\"93.3398\"/><text fill=\"#000000\" font-family=\"sans-serif\" font-size=\"11\" lengthAdjust=\"spacingAndGlyphs\" textLength=\"55\" x=\"158.5\" y=\"96.6479\">attributes</text><line style=\"stroke: #383838; stroke-width: 1.0;\" x1=\"213.5\" x2=\"339.5\" y1=\"93.3398\" y2=\"93.3398\"/></a><!--MD5=[05d275557350bfb9b23a4ef7222b4c39]\n",
       "link E3 to E2--><a href=\"psysml:b7a37c04-3b7e-4fde-bcd3-8ff7c74e6a20\" target=\"_top\" title=\"psysml:b7a37c04-3b7e-4fde-bcd3-8ff7c74e6a20\" xlink:actuate=\"onRequest\" xlink:href=\"psysml:b7a37c04-3b7e-4fde-bcd3-8ff7c74e6a20\" xlink:show=\"new\" xlink:title=\"psysml:b7a37c04-3b7e-4fde-bcd3-8ff7c74e6a20\" xlink:type=\"simple\"><path d=\"M323.18,464.02 C293.44,483.75 258.37,507.03 229.1,526.45 \" fill=\"none\" id=\"E3-&gt;E2\" style=\"stroke: #383838; stroke-width: 1.0;\"/><polygon fill=\"#FFFFFF\" points=\"212.17,537.69,224.1349,521.3547,231.873,533.0219,212.17,537.69\" style=\"stroke: #383838; stroke-width: 1.0;\"/><ellipse cx=\"229.9905\" cy=\"519.871\" fill=\"#383838\" rx=\"2\" ry=\"2\" style=\"stroke: #383838; stroke-width: 1.0;\"/><ellipse cx=\"235.5178\" cy=\"528.2046\" fill=\"#383838\" rx=\"2\" ry=\"2\" style=\"stroke: #383838; stroke-width: 1.0;\"/></a><!--MD5=[185131fc0dcab0a4505a2ebe144e961b]\n",
       "link E4 to E2--><a href=\"psysml:9348166f-8cea-4d7c-a96d-6192465a705e\" target=\"_top\" title=\"psysml:9348166f-8cea-4d7c-a96d-6192465a705e\" xlink:actuate=\"onRequest\" xlink:href=\"psysml:9348166f-8cea-4d7c-a96d-6192465a705e\" xlink:show=\"new\" xlink:title=\"psysml:9348166f-8cea-4d7c-a96d-6192465a705e\" xlink:type=\"simple\"><path d=\"M120.35,316.12 C87.28,345.1 52,376 52,376 C52,376 52,464 52,464 C52,464 80.05,488.9 108.56,514.22 \" fill=\"none\" id=\"E4-&gt;E2\" style=\"stroke: #383838; stroke-width: 1.0;\"/><polygon fill=\"#FFFFFF\" points=\"123.81,527.77,104.956,520.3857,114.2534,509.9186,123.81,527.77\" style=\"stroke: #383838; stroke-width: 1.0;\"/><ellipse cx=\"102.0227\" cy=\"515.105\" fill=\"#383838\" rx=\"2\" ry=\"2\" style=\"stroke: #383838; stroke-width: 1.0;\"/><ellipse cx=\"108.6636\" cy=\"507.6286\" fill=\"#383838\" rx=\"2\" ry=\"2\" style=\"stroke: #383838; stroke-width: 1.0;\"/></a><!--MD5=[62aa6af11e70f752912c1cb0466f24f7]\n",
       "reverse link E4 to E5--><a href=\"psysml:94e091d2-0286-4211-8181-aedc46ba16d2\" target=\"_top\" title=\"psysml:94e091d2-0286-4211-8181-aedc46ba16d2\" xlink:actuate=\"onRequest\" xlink:href=\"psysml:94e091d2-0286-4211-8181-aedc46ba16d2\" xlink:show=\"new\" xlink:title=\"psysml:94e091d2-0286-4211-8181-aedc46ba16d2\" xlink:type=\"simple\"><path d=\"M173.3,329.13 C171.88,353.21 170.35,379.16 169.3,396.96 \" fill=\"none\" id=\"E4&lt;-E5\" style=\"stroke: #383838; stroke-width: 1.0;\"/><polygon fill=\"#383838\" points=\"174.08,316.01,169.7309,321.762,173.3676,327.9888,177.7167,322.2369,174.08,316.01\" style=\"stroke: #383838; stroke-width: 1.0;\"/><text fill=\"#000000\" font-family=\"sans-serif\" font-size=\"13\" lengthAdjust=\"spacingAndGlyphs\" textLength=\"7\" x=\"161.7088\" y=\"385.8455\">*</text></a><!--MD5=[15ebcb19ae302d9b601edb458606d402]\n",
       "link E5 to E2--><a href=\"psysml:dc08c53a-a0f0-4000-a138-cf80983e3afa\" target=\"_top\" title=\"psysml:dc08c53a-a0f0-4000-a138-cf80983e3afa\" xlink:actuate=\"onRequest\" xlink:href=\"psysml:dc08c53a-a0f0-4000-a138-cf80983e3afa\" xlink:show=\"new\" xlink:title=\"psysml:dc08c53a-a0f0-4000-a138-cf80983e3afa\" xlink:type=\"simple\"><path d=\"M168,443.17 C168,459.31 168,482.04 168,503.62 \" fill=\"none\" id=\"E5-&gt;E2\" style=\"stroke: #383838; stroke-width: 1.0;\"/><polygon fill=\"#FFFFFF\" points=\"168,523.71,161,504.71,175,504.71,168,523.71\" style=\"stroke: #383838; stroke-width: 1.0;\"/><ellipse cx=\"163\" cy=\"499.01\" fill=\"#383838\" rx=\"2\" ry=\"2\" style=\"stroke: #383838; stroke-width: 1.0;\"/><ellipse cx=\"173\" cy=\"499.01\" fill=\"#383838\" rx=\"2\" ry=\"2\" style=\"stroke: #383838; stroke-width: 1.0;\"/></a><!--MD5=[f667431f98296947986a1a7595a31603]\n",
       "link E6 to E4--><a href=\"psysml:b31b3f2c-80ab-44f0-a26e-d801559af683\" target=\"_top\" title=\"psysml:b31b3f2c-80ab-44f0-a26e-d801559af683\" xlink:actuate=\"onRequest\" xlink:href=\"psysml:b31b3f2c-80ab-44f0-a26e-d801559af683\" xlink:show=\"new\" xlink:title=\"psysml:b31b3f2c-80ab-44f0-a26e-d801559af683\" xlink:type=\"simple\"><path d=\"M182.95,155.03 C182.26,167.77 181.52,181.45 180.8,194.69 \" fill=\"none\" id=\"E6-&gt;E4\" style=\"stroke: #383838; stroke-width: 1.0;\"/><polygon fill=\"none\" points=\"187.77,195.32,179.7,214.91,173.79,194.56,187.77,195.32\" style=\"stroke: #383838; stroke-width: 1.0;\"/></a><!--MD5=[878ec1e5e393a4a797facfe0fbf9e48b]\n",
       "@startuml\r\n",
       "skinparam linetype polyline\r\n",
       "skinparam monochrome true\r\n",
       "skinparam classbackgroundcolor white\r\n",
       "skinparam shadowing false\r\n",
       "skinparam wrapWidth 300\r\n",
       "hide circle\r\n",
       "\r\n",
       "package \"MassRollup\" as E1  [[psysml:93cce498-741b-46da-9a76-47f8a90b0e87 ]]  {\r\n",
       "comp def \"MassedThing\" as E2  <<(T,blue)part def>> [[psysml:2bfc4bf5-5785-4629-99c8-bf06d3584a79 ]] {\r\n",
       "- - attributes - -\r\n",
       "mass\r\n",
       "totalMass\r\n",
       "}\r\n",
       "comp usage \"simpleThing: MassedThing\" as E3  <<(T,blue)part>> [[psysml:d9d69a25-c21e-4c46-a572-d7b139b6ee26 ]] {\r\n",
       "- - attributes - -\r\n",
       "totalMass=mass; \\n//:>>MassedThing::totalMass// \r\n",
       "}\r\n",
       "comp usage \"compositeThing: MassedThing\" as E4  <<(T,blue)part>> [[psysml:343123b1-0808-41d0-8b17-a6ebb6acc0cb ]] {\r\n",
       "- - attributes - -\r\n",
       "totalMass=mass + (subcomponents->collect p:MassedThing (p::totalMass)->reduce '+' ?? 0.0); \\n//:>>MassedThing::totalMass// \r\n",
       "}\r\n",
       "comp usage \"subcomponents: MassedThing\" as E5  <<(T,blue)part>> [[psysml:09cd1f28-daf0-4d0d-a972-b9bf2a18e992 ]] {\r\n",
       "}\r\n",
       "comp usage \"filteredMassThing\" as E6  <<(T,blue)part>> [[psysml:b3309114-4b2b-46b3-9f4f-dc695177bad1 ]] {\r\n",
       "- - attributes - -\r\n",
       "minMass\r\n",
       "totalMass=(./subcomponents/mass[p (p > minMass)])->reduce '+' ?? 0.0; \\n//:>>MassedThing::totalMass// \r\n",
       "}\r\n",
       "E3 - -:|> E2 [[psysml:b7a37c04-3b7e-4fde-bcd3-8ff7c74e6a20 ]] \r\n",
       "E4 - -:|> E2 [[psysml:9348166f-8cea-4d7c-a96d-6192465a705e ]] \r\n",
       "E4 *- - \"*\"E5 [[psysml:94e091d2-0286-4211-8181-aedc46ba16d2 ]] \r\n",
       "E5 - -:|> E2 [[psysml:dc08c53a-a0f0-4000-a138-cf80983e3afa ]] \r\n",
       "E6 - -|> E4 [[psysml:b31b3f2c-80ab-44f0-a26e-d801559af683 ]] \r\n",
       "}\r\n",
       "@enduml\r\n",
       "\n",
       "PlantUML version 1.2020.13(Sat Jun 13 12:26:38 UTC 2020)\n",
       "(EPL source distribution)\n",
       "Java Runtime: OpenJDK Runtime Environment\n",
       "JVM: OpenJDK 64-Bit Server VM\n",
       "Default Encoding: UTF-8\n",
       "Language: en\n",
       "Country: null\n",
       "--></g></svg>"
      ]
     },
     "execution_count": 10,
     "metadata": {},
     "output_type": "execute_result"
    }
   ],
   "source": [
    "%viz --style=\"POLYLINE\" --view=\"Tree\" \"MassRollup\""
   ]
  },
  {
   "cell_type": "code",
   "execution_count": 11,
   "id": "58a7d8c1",
   "metadata": {
    "execution": {
     "iopub.execute_input": "2021-04-20T07:26:54.640039Z",
     "iopub.status.busy": "2021-04-20T07:26:54.638919Z",
     "iopub.status.idle": "2021-04-20T07:26:54.646814Z",
     "shell.execute_reply": "2021-04-20T07:26:54.646074Z"
    }
   },
   "outputs": [
    {
     "data": {
      "image/svg+xml": [
       "<?xml version=\"1.0\" encoding=\"UTF-8\" standalone=\"no\"?><svg xmlns=\"http://www.w3.org/2000/svg\" xmlns:xlink=\"http://www.w3.org/1999/xlink\" contentScriptType=\"application/ecmascript\" contentStyleType=\"text/css\" height=\"12px\" preserveAspectRatio=\"none\" style=\"width:12px;height:12px;\" version=\"1.1\" viewBox=\"0 0 12 12\" width=\"12px\" zoomAndPan=\"magnify\"><defs/><g><!--MD5=[896ac0e7a515d8dd7765a661cb4ee08b]\n",
       "@startuml\r\n",
       "skinparam linetype polyline\r\n",
       "skinparam monochrome true\r\n",
       "skinparam classbackgroundcolor white\r\n",
       "skinparam shadowing false\r\n",
       "skinparam wrapWidth 300\r\n",
       "hide circle\r\n",
       "\r\n",
       "@enduml\r\n",
       "\n",
       "PlantUML version 1.2020.13(Sat Jun 13 12:26:38 UTC 2020)\n",
       "(EPL source distribution)\n",
       "Java Runtime: OpenJDK Runtime Environment\n",
       "JVM: OpenJDK 64-Bit Server VM\n",
       "Default Encoding: UTF-8\n",
       "Language: en\n",
       "Country: null\n",
       "--></g></svg>"
      ]
     },
     "execution_count": 11,
     "metadata": {},
     "output_type": "execute_result"
    }
   ],
   "source": [
    "%viz --style=\"POLYLINE\" --view=\"State\" \"MassRollup\""
   ]
  },
  {
   "cell_type": "code",
   "execution_count": 12,
   "id": "d7669e3a",
   "metadata": {
    "execution": {
     "iopub.execute_input": "2021-04-20T07:26:54.697327Z",
     "iopub.status.busy": "2021-04-20T07:26:54.696855Z",
     "iopub.status.idle": "2021-04-20T07:26:54.751340Z",
     "shell.execute_reply": "2021-04-20T07:26:54.749466Z"
    }
   },
   "outputs": [
    {
     "data": {
      "image/svg+xml": [
       "<?xml version=\"1.0\" encoding=\"UTF-8\" standalone=\"no\"?><svg xmlns=\"http://www.w3.org/2000/svg\" xmlns:xlink=\"http://www.w3.org/1999/xlink\" contentScriptType=\"application/ecmascript\" contentStyleType=\"text/css\" height=\"319px\" preserveAspectRatio=\"none\" style=\"width:911px;height:319px;\" version=\"1.1\" viewBox=\"0 0 911 319\" width=\"911px\" zoomAndPan=\"magnify\"><defs/><g><!--MD5=[fbc87193dbaf4d95561dea2c320d4a47]\n",
       "cluster E1--><a href=\"psysml:93cce498-741b-46da-9a76-47f8a90b0e87\" target=\"_top\" title=\"psysml:93cce498-741b-46da-9a76-47f8a90b0e87\" xlink:actuate=\"onRequest\" xlink:href=\"psysml:93cce498-741b-46da-9a76-47f8a90b0e87\" xlink:show=\"new\" xlink:title=\"psysml:93cce498-741b-46da-9a76-47f8a90b0e87\" xlink:type=\"simple\"><polygon fill=\"#FFFFFF\" points=\"16,6,110,6,117,28.2969,889,28.2969,889,307,16,307,16,6\" style=\"stroke: #000000; stroke-width: 1.5;\"/><line style=\"stroke: #000000; stroke-width: 1.5;\" x1=\"16\" x2=\"117\" y1=\"28.2969\" y2=\"28.2969\"/><text fill=\"#000000\" font-family=\"sans-serif\" font-size=\"14\" font-weight=\"bold\" lengthAdjust=\"spacingAndGlyphs\" textLength=\"88\" x=\"20\" y=\"20.9951\">MassRollup</text></a><!--MD5=[e4f7fae6ed58524ba242bb0b0d3be6b7]\n",
       "cluster E2--><a href=\"psysml:2bfc4bf5-5785-4629-99c8-bf06d3584a79\" target=\"_top\" title=\"psysml:2bfc4bf5-5785-4629-99c8-bf06d3584a79\" xlink:actuate=\"onRequest\" xlink:href=\"psysml:2bfc4bf5-5785-4629-99c8-bf06d3584a79\" xlink:show=\"new\" xlink:title=\"psysml:2bfc4bf5-5785-4629-99c8-bf06d3584a79\" xlink:type=\"simple\"><rect fill=\"#FFFFFF\" height=\"113\" id=\"E2\" style=\"stroke: #383838; stroke-width: 1.5;\" width=\"210\" x=\"511\" y=\"170\"/><rect fill=\"#F8F8F8\" height=\"37.9375\" style=\"stroke: #383838; stroke-width: 1.5;\" width=\"210\" x=\"511\" y=\"170\"/><text fill=\"#000000\" font-family=\"sans-serif\" font-size=\"12\" font-style=\"italic\" lengthAdjust=\"spacingAndGlyphs\" textLength=\"64\" x=\"584\" y=\"186.1387\">«part def»</text><text fill=\"#000000\" font-family=\"sans-serif\" font-size=\"12\" lengthAdjust=\"spacingAndGlyphs\" textLength=\"82\" x=\"575\" y=\"200.1074\">MassedThing</text></a><!--MD5=[de5ec2e2e8f62f467e546659f5068c88]\n",
       "cluster E5--><a href=\"psysml:d9d69a25-c21e-4c46-a572-d7b139b6ee26\" target=\"_top\" title=\"psysml:d9d69a25-c21e-4c46-a572-d7b139b6ee26\" xlink:actuate=\"onRequest\" xlink:href=\"psysml:d9d69a25-c21e-4c46-a572-d7b139b6ee26\" xlink:show=\"new\" xlink:title=\"psysml:d9d69a25-c21e-4c46-a572-d7b139b6ee26\" xlink:type=\"simple\"><rect fill=\"#FFFFFF\" height=\"97\" id=\"E5\" rx=\"10\" ry=\"10\" style=\"stroke: #383838; stroke-width: 1.5;\" width=\"226\" x=\"639\" y=\"49\"/><rect fill=\"#F8F8F8\" height=\"23.9688\" rx=\"10\" ry=\"10\" style=\"stroke: #F8F8F8; stroke-width: 1.5;\" width=\"226\" x=\"639\" y=\"49\"/><rect fill=\"#F8F8F8\" height=\"10\" style=\"stroke: #F8F8F8; stroke-width: 1.5;\" width=\"226\" x=\"639\" y=\"62.9688\"/><rect fill=\"none\" height=\"97\" id=\"E5\" rx=\"10\" ry=\"10\" style=\"stroke: #383838; stroke-width: 1.5;\" width=\"226\" x=\"639\" y=\"49\"/><text fill=\"#000000\" font-family=\"sans-serif\" font-size=\"12\" lengthAdjust=\"spacingAndGlyphs\" textLength=\"164\" x=\"670\" y=\"65.1387\">simpleThing: MassedThing</text><line style=\"stroke: #383838; stroke-width: 1.0;\" x1=\"639\" x2=\"865\" y1=\"72.9688\" y2=\"72.9688\"/></a><!--MD5=[168fadf3d0c3fd93dd5d6da1b1d7ab76]\n",
       "cluster E7--><a href=\"psysml:343123b1-0808-41d0-8b17-a6ebb6acc0cb\" target=\"_top\" title=\"psysml:343123b1-0808-41d0-8b17-a6ebb6acc0cb\" xlink:actuate=\"onRequest\" xlink:href=\"psysml:343123b1-0808-41d0-8b17-a6ebb6acc0cb\" xlink:show=\"new\" xlink:title=\"psysml:343123b1-0808-41d0-8b17-a6ebb6acc0cb\" xlink:type=\"simple\"><rect fill=\"#FFFFFF\" height=\"97\" id=\"E7\" rx=\"10\" ry=\"10\" style=\"stroke: #383838; stroke-width: 1.5;\" width=\"341\" x=\"274\" y=\"49\"/><rect fill=\"#F8F8F8\" height=\"23.9688\" rx=\"10\" ry=\"10\" style=\"stroke: #F8F8F8; stroke-width: 1.5;\" width=\"341\" x=\"274\" y=\"49\"/><rect fill=\"#F8F8F8\" height=\"10\" style=\"stroke: #F8F8F8; stroke-width: 1.5;\" width=\"341\" x=\"274\" y=\"62.9688\"/><rect fill=\"none\" height=\"97\" id=\"E7\" rx=\"10\" ry=\"10\" style=\"stroke: #383838; stroke-width: 1.5;\" width=\"341\" x=\"274\" y=\"49\"/><text fill=\"#000000\" font-family=\"sans-serif\" font-size=\"12\" lengthAdjust=\"spacingAndGlyphs\" textLength=\"189\" x=\"350\" y=\"65.1387\">compositeThing: MassedThing</text><line style=\"stroke: #383838; stroke-width: 1.0;\" x1=\"274\" x2=\"615\" y1=\"72.9688\" y2=\"72.9688\"/></a><!--MD5=[a84b4591f868c1fa4a211716a82f2f0d]\n",
       "cluster E10--><a href=\"psysml:b3309114-4b2b-46b3-9f4f-dc695177bad1\" target=\"_top\" title=\"psysml:b3309114-4b2b-46b3-9f4f-dc695177bad1\" xlink:actuate=\"onRequest\" xlink:href=\"psysml:b3309114-4b2b-46b3-9f4f-dc695177bad1\" xlink:show=\"new\" xlink:title=\"psysml:b3309114-4b2b-46b3-9f4f-dc695177bad1\" xlink:type=\"simple\"><rect fill=\"#FFFFFF\" height=\"97\" id=\"E10\" rx=\"10\" ry=\"10\" style=\"stroke: #383838; stroke-width: 1.5;\" width=\"210\" x=\"40\" y=\"49\"/><rect fill=\"#F8F8F8\" height=\"23.9688\" rx=\"10\" ry=\"10\" style=\"stroke: #F8F8F8; stroke-width: 1.5;\" width=\"210\" x=\"40\" y=\"49\"/><rect fill=\"#F8F8F8\" height=\"10\" style=\"stroke: #F8F8F8; stroke-width: 1.5;\" width=\"210\" x=\"40\" y=\"62.9688\"/><rect fill=\"none\" height=\"97\" id=\"E10\" rx=\"10\" ry=\"10\" style=\"stroke: #383838; stroke-width: 1.5;\" width=\"210\" x=\"40\" y=\"49\"/><text fill=\"#000000\" font-family=\"sans-serif\" font-size=\"12\" lengthAdjust=\"spacingAndGlyphs\" textLength=\"110\" x=\"90\" y=\"65.1387\">filteredMassThing</text><line style=\"stroke: #383838; stroke-width: 1.0;\" x1=\"40\" x2=\"250\" y1=\"72.9688\" y2=\"72.9688\"/></a><!--MD5=[09b614a08d8cba4a07c9adeb5e0fee81]\n",
       "class E3--><a href=\"psysml:61227fbe-a3c3-436a-919d-ba064597e112\" target=\"_top\" title=\"psysml:61227fbe-a3c3-436a-919d-ba064597e112\" xlink:actuate=\"onRequest\" xlink:href=\"psysml:61227fbe-a3c3-436a-919d-ba064597e112\" xlink:show=\"new\" xlink:title=\"psysml:61227fbe-a3c3-436a-919d-ba064597e112\" xlink:type=\"simple\"><rect fill=\"#FFFFFF\" height=\"45.9375\" id=\"E3\" rx=\"10\" ry=\"10\" style=\"stroke: #383838; stroke-width: 1.5;\" width=\"71\" x=\"633.5\" y=\"221\"/><text fill=\"#000000\" font-family=\"sans-serif\" font-size=\"12\" font-style=\"italic\" lengthAdjust=\"spacingAndGlyphs\" textLength=\"69\" x=\"634.5\" y=\"237.1387\">«attribute»</text><text fill=\"#000000\" font-family=\"sans-serif\" font-size=\"12\" lengthAdjust=\"spacingAndGlyphs\" textLength=\"33\" x=\"652.5\" y=\"251.1074\">mass</text><line style=\"stroke: #383838; stroke-width: 1.5;\" x1=\"634.5\" x2=\"703.5\" y1=\"258.9375\" y2=\"258.9375\"/></a><!--MD5=[ebbe1d658d1005bcc118a6aa81145e00]\n",
       "class E4--><a href=\"psysml:bca4197d-355d-4faa-812b-dbfc0b076639\" target=\"_top\" title=\"psysml:bca4197d-355d-4faa-812b-dbfc0b076639\" xlink:actuate=\"onRequest\" xlink:href=\"psysml:bca4197d-355d-4faa-812b-dbfc0b076639\" xlink:show=\"new\" xlink:title=\"psysml:bca4197d-355d-4faa-812b-dbfc0b076639\" xlink:type=\"simple\"><rect fill=\"#FFFFFF\" height=\"45.9375\" id=\"E4\" rx=\"10\" ry=\"10\" style=\"stroke: #383838; stroke-width: 1.5;\" width=\"71\" x=\"527.5\" y=\"221\"/><text fill=\"#000000\" font-family=\"sans-serif\" font-size=\"12\" font-style=\"italic\" lengthAdjust=\"spacingAndGlyphs\" textLength=\"69\" x=\"528.5\" y=\"237.1387\">«attribute»</text><text fill=\"#000000\" font-family=\"sans-serif\" font-size=\"12\" lengthAdjust=\"spacingAndGlyphs\" textLength=\"61\" x=\"532.5\" y=\"251.1074\">totalMass</text><line style=\"stroke: #383838; stroke-width: 1.5;\" x1=\"528.5\" x2=\"597.5\" y1=\"258.9375\" y2=\"258.9375\"/></a><!--MD5=[60a26617385b1d2d0262a64233df1f8d]\n",
       "class E6--><a href=\"psysml:5dd4dd8f-7a34-4faa-ae4e-b0f44a463cf1\" target=\"_top\" title=\"psysml:5dd4dd8f-7a34-4faa-ae4e-b0f44a463cf1\" xlink:actuate=\"onRequest\" xlink:href=\"psysml:5dd4dd8f-7a34-4faa-ae4e-b0f44a463cf1\" xlink:show=\"new\" xlink:title=\"psysml:5dd4dd8f-7a34-4faa-ae4e-b0f44a463cf1\" xlink:type=\"simple\"><rect fill=\"#FFFFFF\" height=\"45.9375\" id=\"E6\" rx=\"10\" ry=\"10\" style=\"stroke: #383838; stroke-width: 1.5;\" width=\"71\" x=\"655.5\" y=\"84\"/><text fill=\"#000000\" font-family=\"sans-serif\" font-size=\"12\" font-style=\"italic\" lengthAdjust=\"spacingAndGlyphs\" textLength=\"69\" x=\"656.5\" y=\"100.1387\">«attribute»</text><text fill=\"#000000\" font-family=\"sans-serif\" font-size=\"12\" lengthAdjust=\"spacingAndGlyphs\" textLength=\"61\" x=\"660.5\" y=\"114.1074\">totalMass</text><line style=\"stroke: #383838; stroke-width: 1.5;\" x1=\"656.5\" x2=\"725.5\" y1=\"121.9375\" y2=\"121.9375\"/></a><!--MD5=[fd4143e9d270a159db93a4ea2a975926]\n",
       "class E9--><a href=\"psysml:cdf15466-8892-46e6-adfe-254829aa90b9\" target=\"_top\" title=\"psysml:cdf15466-8892-46e6-adfe-254829aa90b9\" xlink:actuate=\"onRequest\" xlink:href=\"psysml:cdf15466-8892-46e6-adfe-254829aa90b9\" xlink:show=\"new\" xlink:title=\"psysml:cdf15466-8892-46e6-adfe-254829aa90b9\" xlink:type=\"simple\"><rect fill=\"#FFFFFF\" height=\"45.9375\" id=\"E9\" rx=\"10\" ry=\"10\" style=\"stroke: #383838; stroke-width: 1.5;\" width=\"71\" x=\"527.5\" y=\"84\"/><text fill=\"#000000\" font-family=\"sans-serif\" font-size=\"12\" font-style=\"italic\" lengthAdjust=\"spacingAndGlyphs\" textLength=\"69\" x=\"528.5\" y=\"100.1387\">«attribute»</text><text fill=\"#000000\" font-family=\"sans-serif\" font-size=\"12\" lengthAdjust=\"spacingAndGlyphs\" textLength=\"61\" x=\"532.5\" y=\"114.1074\">totalMass</text><line style=\"stroke: #383838; stroke-width: 1.5;\" x1=\"528.5\" x2=\"597.5\" y1=\"121.9375\" y2=\"121.9375\"/></a><g id=\"E1.E7.E8\"><a href=\"psysml:09cd1f28-daf0-4d0d-a972-b9bf2a18e992\" target=\"_top\" title=\"psysml:09cd1f28-daf0-4d0d-a972-b9bf2a18e992\" xlink:actuate=\"onRequest\" xlink:href=\"psysml:09cd1f28-daf0-4d0d-a972-b9bf2a18e992\" xlink:show=\"new\" xlink:title=\"psysml:09cd1f28-daf0-4d0d-a972-b9bf2a18e992\" xlink:type=\"simple\"><rect fill=\"#FFFFFF\" height=\"40\" id=\"E8\" rx=\"10\" ry=\"10\" style=\"stroke: #383838; stroke-width: 1.5;\" width=\"202\" x=\"290\" y=\"87\"/><rect fill=\"#F8F8F8\" height=\"23.9688\" rx=\"10\" ry=\"10\" style=\"stroke: #F8F8F8; stroke-width: 1.5;\" width=\"202\" x=\"290\" y=\"87\"/><rect fill=\"#F8F8F8\" height=\"10\" style=\"stroke: #F8F8F8; stroke-width: 1.5;\" width=\"202\" x=\"290\" y=\"100.9688\"/><rect fill=\"none\" height=\"40\" id=\"E8\" rx=\"10\" ry=\"10\" style=\"stroke: #383838; stroke-width: 1.5;\" width=\"202\" x=\"290\" y=\"87\"/><text fill=\"#000000\" font-family=\"sans-serif\" font-size=\"12\" lengthAdjust=\"spacingAndGlyphs\" textLength=\"191\" x=\"295.5\" y=\"103.1387\">subcomponents: MassedThing</text></a></g><!--MD5=[1dd1bfd58a279cf63c5f349dbc8fc6a1]\n",
       "class E11--><a href=\"psysml:a48dd455-5237-4be3-af61-27e5094ede20\" target=\"_top\" title=\"psysml:a48dd455-5237-4be3-af61-27e5094ede20\" xlink:actuate=\"onRequest\" xlink:href=\"psysml:a48dd455-5237-4be3-af61-27e5094ede20\" xlink:show=\"new\" xlink:title=\"psysml:a48dd455-5237-4be3-af61-27e5094ede20\" xlink:type=\"simple\"><rect fill=\"#FFFFFF\" height=\"45.9375\" id=\"E11\" rx=\"10\" ry=\"10\" style=\"stroke: #383838; stroke-width: 1.5;\" width=\"71\" x=\"162.5\" y=\"84\"/><text fill=\"#000000\" font-family=\"sans-serif\" font-size=\"12\" font-style=\"italic\" lengthAdjust=\"spacingAndGlyphs\" textLength=\"69\" x=\"163.5\" y=\"100.1387\">«attribute»</text><text fill=\"#000000\" font-family=\"sans-serif\" font-size=\"12\" lengthAdjust=\"spacingAndGlyphs\" textLength=\"54\" x=\"171\" y=\"114.1074\">minMass</text><line style=\"stroke: #383838; stroke-width: 1.5;\" x1=\"163.5\" x2=\"232.5\" y1=\"121.9375\" y2=\"121.9375\"/></a><!--MD5=[49a0ec8f00dab7302a31f22d0f0fe584]\n",
       "class E12--><a href=\"psysml:30a4b720-38dc-4ed2-81db-b244fb944fc9\" target=\"_top\" title=\"psysml:30a4b720-38dc-4ed2-81db-b244fb944fc9\" xlink:actuate=\"onRequest\" xlink:href=\"psysml:30a4b720-38dc-4ed2-81db-b244fb944fc9\" xlink:show=\"new\" xlink:title=\"psysml:30a4b720-38dc-4ed2-81db-b244fb944fc9\" xlink:type=\"simple\"><rect fill=\"#FFFFFF\" height=\"45.9375\" id=\"E12\" rx=\"10\" ry=\"10\" style=\"stroke: #383838; stroke-width: 1.5;\" width=\"71\" x=\"56.5\" y=\"84\"/><text fill=\"#000000\" font-family=\"sans-serif\" font-size=\"12\" font-style=\"italic\" lengthAdjust=\"spacingAndGlyphs\" textLength=\"69\" x=\"57.5\" y=\"100.1387\">«attribute»</text><text fill=\"#000000\" font-family=\"sans-serif\" font-size=\"12\" lengthAdjust=\"spacingAndGlyphs\" textLength=\"61\" x=\"61.5\" y=\"114.1074\">totalMass</text><line style=\"stroke: #383838; stroke-width: 1.5;\" x1=\"57.5\" x2=\"126.5\" y1=\"121.9375\" y2=\"121.9375\"/></a><!--MD5=[f667431f98296947986a1a7595a31603]\n",
       "link E6 to E4--><a href=\"psysml:45db29a4-a6b7-4500-b8a0-ae6511957b42\" target=\"_top\" title=\"psysml:45db29a4-a6b7-4500-b8a0-ae6511957b42\" xlink:actuate=\"onRequest\" xlink:href=\"psysml:45db29a4-a6b7-4500-b8a0-ae6511957b42\" xlink:show=\"new\" xlink:title=\"psysml:45db29a4-a6b7-4500-b8a0-ae6511957b42\" xlink:type=\"simple\"><path d=\"M660.06,130.28 C639.4,145.15 616,162 616,162 C616,162 602.07,183.29 588.49,204.04 \" fill=\"none\" id=\"E6-&gt;E4\" style=\"stroke: #383838; stroke-width: 1.0;\"/><polygon fill=\"#FFFFFF\" points=\"577.48,220.87,582.023,201.1378,593.739,208.8017,577.48,220.87\" style=\"stroke: #383838; stroke-width: 1.0;\"/><line style=\"stroke: #383838; stroke-width: 2.0;\" x1=\"584.1032\" x2=\"595.8192\" y1=\"197.9577\" y2=\"205.6216\"/></a><!--MD5=[c2be97adba6ddfe1c8f349fab141c927]\n",
       "link E9 to E4--><a href=\"psysml:37d702c0-130d-4d04-819a-f2439f71afff\" target=\"_top\" title=\"psysml:37d702c0-130d-4d04-819a-f2439f71afff\" xlink:actuate=\"onRequest\" xlink:href=\"psysml:37d702c0-130d-4d04-819a-f2439f71afff\" xlink:show=\"new\" xlink:title=\"psysml:37d702c0-130d-4d04-819a-f2439f71afff\" xlink:type=\"simple\"><path d=\"M563,130.29 C563,149.35 563,177.29 563,200.59 \" fill=\"none\" id=\"E9-&gt;E4\" style=\"stroke: #383838; stroke-width: 1.0;\"/><polygon fill=\"#FFFFFF\" points=\"563,220.67,556,201.67,570,201.67,563,220.67\" style=\"stroke: #383838; stroke-width: 1.0;\"/><line style=\"stroke: #383838; stroke-width: 2.0;\" x1=\"556\" x2=\"570\" y1=\"197.87\" y2=\"197.87\"/></a><!--MD5=[8eb720c440db06832f98fefdd34bbf11]\n",
       "link E12 to E4--><a href=\"psysml:c9530ed5-65d1-46ac-ab61-a00231b23eba\" target=\"_top\" title=\"psysml:c9530ed5-65d1-46ac-ab61-a00231b23eba\" xlink:actuate=\"onRequest\" xlink:href=\"psysml:c9530ed5-65d1-46ac-ab61-a00231b23eba\" xlink:show=\"new\" xlink:title=\"psysml:c9530ed5-65d1-46ac-ab61-a00231b23eba\" xlink:type=\"simple\"><path d=\"M117.57,130.19 C131.12,141.95 145,154 145,154 C145,154 393.76,206.97 507.48,231.18 \" fill=\"none\" id=\"E12-&gt;E4\" style=\"stroke: #383838; stroke-width: 1.0;\"/><polygon fill=\"#FFFFFF\" points=\"527.36,235.41,507.3178,238.2926,510.2382,224.6006,527.36,235.41\" style=\"stroke: #383838; stroke-width: 1.0;\"/><line style=\"stroke: #383838; stroke-width: 2.0;\" x1=\"503.6014\" x2=\"506.5218\" y1=\"237.4999\" y2=\"223.8079\"/></a><!--MD5=[d8558e88883ba70f4d9a3f37facececf]\n",
       "@startuml\r\n",
       "skinparam ranksep 10\r\n",
       "skinparam rectangle {\r\n",
       " backgroundColor<<block>> LightGreen\r\n",
       "}\r\n",
       "skinparam linetype polyline\r\n",
       "skinparam monochrome true\r\n",
       "skinparam classbackgroundcolor white\r\n",
       "skinparam shadowing false\r\n",
       "skinparam wrapWidth 300\r\n",
       "hide circle\r\n",
       "\r\n",
       "package \"MassRollup\" as E1  [[psysml:93cce498-741b-46da-9a76-47f8a90b0e87 ]]  {\r\n",
       "rec def \"MassedThing\" as E2  <<(T,blue)part def>> [[psysml:2bfc4bf5-5785-4629-99c8-bf06d3584a79 ]] {\r\n",
       "comp usage \"mass\" as E3  <<(T,blue)attribute>> [[psysml:61227fbe-a3c3-436a-919d-ba064597e112 ]] {\r\n",
       "}\r\n",
       "comp usage \"totalMass\" as E4  <<(T,blue)attribute>> [[psysml:bca4197d-355d-4faa-812b-dbfc0b076639 ]] {\r\n",
       "}\r\n",
       "}\r\n",
       "rec usage \"simpleThing: MassedThing\" as E5  [[psysml:d9d69a25-c21e-4c46-a572-d7b139b6ee26 ]] {\r\n",
       "comp usage \"totalMass\" as E6  <<(T,blue)attribute>> [[psysml:5dd4dd8f-7a34-4faa-ae4e-b0f44a463cf1 ]] {\r\n",
       "}\r\n",
       "}\r\n",
       "rec usage \"compositeThing: MassedThing\" as E7  [[psysml:343123b1-0808-41d0-8b17-a6ebb6acc0cb ]] {\r\n",
       "rec usage \"subcomponents: MassedThing\" as E8  [[psysml:09cd1f28-daf0-4d0d-a972-b9bf2a18e992 ]] {\r\n",
       "}\r\n",
       "comp usage \"totalMass\" as E9  <<(T,blue)attribute>> [[psysml:cdf15466-8892-46e6-adfe-254829aa90b9 ]] {\r\n",
       "}\r\n",
       "}\r\n",
       "rec usage \"filteredMassThing\" as E10  [[psysml:b3309114-4b2b-46b3-9f4f-dc695177bad1 ]] {\r\n",
       "comp usage \"minMass\" as E11  <<(T,blue)attribute>> [[psysml:a48dd455-5237-4be3-af61-27e5094ede20 ]] {\r\n",
       "}\r\n",
       "comp usage \"totalMass\" as E12  <<(T,blue)attribute>> [[psysml:30a4b720-38dc-4ed2-81db-b244fb944fc9 ]] {\r\n",
       "}\r\n",
       "}\r\n",
       "E6 - -||> E4 [[psysml:45db29a4-a6b7-4500-b8a0-ae6511957b42 ]] \r\n",
       "E9 - -||> E4 [[psysml:37d702c0-130d-4d04-819a-f2439f71afff ]] \r\n",
       "E12 - -||> E4 [[psysml:c9530ed5-65d1-46ac-ab61-a00231b23eba ]] \r\n",
       "}\r\n",
       "@enduml\r\n",
       "\n",
       "PlantUML version 1.2020.13(Sat Jun 13 12:26:38 UTC 2020)\n",
       "(EPL source distribution)\n",
       "Java Runtime: OpenJDK Runtime Environment\n",
       "JVM: OpenJDK 64-Bit Server VM\n",
       "Default Encoding: UTF-8\n",
       "Language: en\n",
       "Country: null\n",
       "--></g></svg>"
      ]
     },
     "execution_count": 12,
     "metadata": {},
     "output_type": "execute_result"
    }
   ],
   "source": [
    "%viz --style=\"POLYLINE\" --view=\"Interconnection\" \"MassRollup\""
   ]
  },
  {
   "cell_type": "code",
   "execution_count": 13,
   "id": "83381c4b",
   "metadata": {
    "execution": {
     "iopub.execute_input": "2021-04-20T07:26:54.802754Z",
     "iopub.status.busy": "2021-04-20T07:26:54.801826Z",
     "iopub.status.idle": "2021-04-20T07:26:54.809989Z",
     "shell.execute_reply": "2021-04-20T07:26:54.808577Z"
    }
   },
   "outputs": [
    {
     "data": {
      "image/svg+xml": [
       "<?xml version=\"1.0\" encoding=\"UTF-8\" standalone=\"no\"?><svg xmlns=\"http://www.w3.org/2000/svg\" xmlns:xlink=\"http://www.w3.org/1999/xlink\" contentScriptType=\"application/ecmascript\" contentStyleType=\"text/css\" height=\"12px\" preserveAspectRatio=\"none\" style=\"width:12px;height:12px;\" version=\"1.1\" viewBox=\"0 0 12 12\" width=\"12px\" zoomAndPan=\"magnify\"><defs/><g><!--MD5=[97bbf32f66ccd50cbc40d92ea8f5a65e]\n",
       "@startuml\r\n",
       "skinparam ranksep 8\r\n",
       "skinparam linetype polyline\r\n",
       "skinparam monochrome true\r\n",
       "skinparam classbackgroundcolor white\r\n",
       "skinparam shadowing false\r\n",
       "skinparam wrapWidth 300\r\n",
       "hide circle\r\n",
       "\r\n",
       "@enduml\r\n",
       "\n",
       "PlantUML version 1.2020.13(Sat Jun 13 12:26:38 UTC 2020)\n",
       "(EPL source distribution)\n",
       "Java Runtime: OpenJDK Runtime Environment\n",
       "JVM: OpenJDK 64-Bit Server VM\n",
       "Default Encoding: UTF-8\n",
       "Language: en\n",
       "Country: null\n",
       "--></g></svg>"
      ]
     },
     "execution_count": 13,
     "metadata": {},
     "output_type": "execute_result"
    }
   ],
   "source": [
    "%viz --style=\"POLYLINE\" --view=\"Action\" \"MassRollup\""
   ]
  },
  {
   "cell_type": "code",
   "execution_count": 14,
   "id": "ad85be83",
   "metadata": {
    "execution": {
     "iopub.execute_input": "2021-04-20T07:26:54.862121Z",
     "iopub.status.busy": "2021-04-20T07:26:54.861033Z",
     "iopub.status.idle": "2021-04-20T07:26:55.093390Z",
     "shell.execute_reply": "2021-04-20T07:26:55.092781Z"
    }
   },
   "outputs": [
    {
     "data": {
      "image/svg+xml": [
       "<?xml version=\"1.0\" encoding=\"UTF-8\" standalone=\"no\"?><svg xmlns=\"http://www.w3.org/2000/svg\" xmlns:xlink=\"http://www.w3.org/1999/xlink\" contentScriptType=\"application/ecmascript\" contentStyleType=\"text/css\" height=\"640px\" preserveAspectRatio=\"none\" style=\"width:512px;height:640px;\" version=\"1.1\" viewBox=\"0 0 512 640\" width=\"512px\" zoomAndPan=\"magnify\"><defs/><g><!--MD5=[fbc87193dbaf4d95561dea2c320d4a47]\n",
       "cluster E1--><a href=\"psysml:93cce498-741b-46da-9a76-47f8a90b0e87\" target=\"_top\" title=\"psysml:93cce498-741b-46da-9a76-47f8a90b0e87\" xlink:actuate=\"onRequest\" xlink:href=\"psysml:93cce498-741b-46da-9a76-47f8a90b0e87\" xlink:show=\"new\" xlink:title=\"psysml:93cce498-741b-46da-9a76-47f8a90b0e87\" xlink:type=\"simple\"><polygon fill=\"#FFFFFF\" points=\"16,6,110,6,117,28.2969,490,28.2969,490,628,16,628,16,6\" style=\"stroke: #000000; stroke-width: 1.5;\"/><line style=\"stroke: #000000; stroke-width: 1.5;\" x1=\"16\" x2=\"117\" y1=\"28.2969\" y2=\"28.2969\"/><text fill=\"#000000\" font-family=\"sans-serif\" font-size=\"14\" font-weight=\"bold\" lengthAdjust=\"spacingAndGlyphs\" textLength=\"88\" x=\"20\" y=\"20.9951\">MassRollup</text></a><!--MD5=[b4997ac47864f28c2f74865a473b2911]\n",
       "class E2--><a href=\"psysml:2bfc4bf5-5785-4629-99c8-bf06d3584a79\" target=\"_top\" title=\"psysml:2bfc4bf5-5785-4629-99c8-bf06d3584a79\" xlink:actuate=\"onRequest\" xlink:href=\"psysml:2bfc4bf5-5785-4629-99c8-bf06d3584a79\" xlink:show=\"new\" xlink:title=\"psysml:2bfc4bf5-5785-4629-99c8-bf06d3584a79\" xlink:type=\"simple\"><rect fill=\"#FFFFFF\" height=\"88.3516\" id=\"E2\" style=\"stroke: #383838; stroke-width: 1.5;\" width=\"88\" x=\"124\" y=\"524\"/><text fill=\"#000000\" font-family=\"sans-serif\" font-size=\"12\" font-style=\"italic\" lengthAdjust=\"spacingAndGlyphs\" textLength=\"64\" x=\"136\" y=\"540.1387\">«part def»</text><text fill=\"#000000\" font-family=\"sans-serif\" font-size=\"12\" lengthAdjust=\"spacingAndGlyphs\" textLength=\"82\" x=\"127\" y=\"554.1074\">MassedThing</text><line style=\"stroke: #383838; stroke-width: 1.5;\" x1=\"125\" x2=\"211\" y1=\"561.9375\" y2=\"561.9375\"/><text fill=\"#000000\" font-family=\"sans-serif\" font-size=\"11\" lengthAdjust=\"spacingAndGlyphs\" textLength=\"32\" x=\"130\" y=\"592.9526\">mass</text><text fill=\"#000000\" font-family=\"sans-serif\" font-size=\"11\" lengthAdjust=\"spacingAndGlyphs\" textLength=\"55\" x=\"130\" y=\"605.7573\">totalMass</text><line style=\"stroke: #383838; stroke-width: 1.0;\" x1=\"125\" x2=\"140.5\" y1=\"576.3398\" y2=\"576.3398\"/><text fill=\"#000000\" font-family=\"sans-serif\" font-size=\"11\" lengthAdjust=\"spacingAndGlyphs\" textLength=\"55\" x=\"140.5\" y=\"579.6479\">attributes</text><line style=\"stroke: #383838; stroke-width: 1.0;\" x1=\"195.5\" x2=\"211\" y1=\"576.3398\" y2=\"576.3398\"/></a><!--MD5=[09b614a08d8cba4a07c9adeb5e0fee81]\n",
       "class E3--><a href=\"psysml:d9d69a25-c21e-4c46-a572-d7b139b6ee26\" target=\"_top\" title=\"psysml:d9d69a25-c21e-4c46-a572-d7b139b6ee26\" xlink:actuate=\"onRequest\" xlink:href=\"psysml:d9d69a25-c21e-4c46-a572-d7b139b6ee26\" xlink:show=\"new\" xlink:title=\"psysml:d9d69a25-c21e-4c46-a572-d7b139b6ee26\" xlink:type=\"simple\"><rect fill=\"#FFFFFF\" height=\"88.3516\" id=\"E3\" rx=\"10\" ry=\"10\" style=\"stroke: #383838; stroke-width: 1.5;\" width=\"172\" x=\"302\" y=\"376\"/><text fill=\"#000000\" font-family=\"sans-serif\" font-size=\"12\" font-style=\"italic\" lengthAdjust=\"spacingAndGlyphs\" textLength=\"40\" x=\"368\" y=\"392.1387\">«part»</text><text fill=\"#000000\" font-family=\"sans-serif\" font-size=\"12\" lengthAdjust=\"spacingAndGlyphs\" textLength=\"164\" x=\"306\" y=\"406.1074\">simpleThing: MassedThing</text><line style=\"stroke: #383838; stroke-width: 1.5;\" x1=\"303\" x2=\"473\" y1=\"413.9375\" y2=\"413.9375\"/><text fill=\"#000000\" font-family=\"sans-serif\" font-size=\"11\" lengthAdjust=\"spacingAndGlyphs\" textLength=\"100\" x=\"308\" y=\"444.9526\">totalMass=mass;</text><text fill=\"#000000\" font-family=\"sans-serif\" font-size=\"11\" font-style=\"italic\" lengthAdjust=\"spacingAndGlyphs\" textLength=\"160\" x=\"308\" y=\"457.7573\">:&gt;&gt;MassedThing::totalMass</text><line style=\"stroke: #383838; stroke-width: 1.0;\" x1=\"303\" x2=\"360.5\" y1=\"428.3398\" y2=\"428.3398\"/><text fill=\"#000000\" font-family=\"sans-serif\" font-size=\"11\" lengthAdjust=\"spacingAndGlyphs\" textLength=\"55\" x=\"360.5\" y=\"431.6479\">attributes</text><line style=\"stroke: #383838; stroke-width: 1.0;\" x1=\"415.5\" x2=\"473\" y1=\"428.3398\" y2=\"428.3398\"/></a><!--MD5=[ebbe1d658d1005bcc118a6aa81145e00]\n",
       "class E4--><a href=\"psysml:343123b1-0808-41d0-8b17-a6ebb6acc0cb\" target=\"_top\" title=\"psysml:343123b1-0808-41d0-8b17-a6ebb6acc0cb\" xlink:actuate=\"onRequest\" xlink:href=\"psysml:343123b1-0808-41d0-8b17-a6ebb6acc0cb\" xlink:show=\"new\" xlink:title=\"psysml:343123b1-0808-41d0-8b17-a6ebb6acc0cb\" xlink:type=\"simple\"><rect fill=\"#FFFFFF\" height=\"101.1563\" id=\"E4\" rx=\"10\" ry=\"10\" style=\"stroke: #383838; stroke-width: 1.5;\" width=\"290\" x=\"32\" y=\"215\"/><text fill=\"#000000\" font-family=\"sans-serif\" font-size=\"12\" font-style=\"italic\" lengthAdjust=\"spacingAndGlyphs\" textLength=\"40\" x=\"157\" y=\"231.1387\">«part»</text><text fill=\"#000000\" font-family=\"sans-serif\" font-size=\"12\" lengthAdjust=\"spacingAndGlyphs\" textLength=\"189\" x=\"82.5\" y=\"245.1074\">compositeThing: MassedThing</text><line style=\"stroke: #383838; stroke-width: 1.5;\" x1=\"33\" x2=\"321\" y1=\"252.9375\" y2=\"252.9375\"/><text fill=\"#000000\" font-family=\"sans-serif\" font-size=\"11\" lengthAdjust=\"spacingAndGlyphs\" textLength=\"272\" x=\"38\" y=\"283.9526\">totalMass=mass + (subcomponents-&gt;collect p:</text><text fill=\"#000000\" font-family=\"sans-serif\" font-size=\"11\" lengthAdjust=\"spacingAndGlyphs\" textLength=\"274\" x=\"38\" y=\"296.7573\">MassedThing (p::totalMass)-&gt;reduce '+' ?? 0.0);</text><text fill=\"#000000\" font-family=\"sans-serif\" font-size=\"11\" font-style=\"italic\" lengthAdjust=\"spacingAndGlyphs\" textLength=\"160\" x=\"38\" y=\"309.562\">:&gt;&gt;MassedThing::totalMass</text><line style=\"stroke: #383838; stroke-width: 1.0;\" x1=\"33\" x2=\"149.5\" y1=\"267.3398\" y2=\"267.3398\"/><text fill=\"#000000\" font-family=\"sans-serif\" font-size=\"11\" lengthAdjust=\"spacingAndGlyphs\" textLength=\"55\" x=\"149.5\" y=\"270.6479\">attributes</text><line style=\"stroke: #383838; stroke-width: 1.0;\" x1=\"204.5\" x2=\"321\" y1=\"267.3398\" y2=\"267.3398\"/></a><!--MD5=[270fce915f116d4de14055a7c1d9a0f3]\n",
       "class E5--><a href=\"psysml:09cd1f28-daf0-4d0d-a972-b9bf2a18e992\" target=\"_top\" title=\"psysml:09cd1f28-daf0-4d0d-a972-b9bf2a18e992\" xlink:actuate=\"onRequest\" xlink:href=\"psysml:09cd1f28-daf0-4d0d-a972-b9bf2a18e992\" xlink:show=\"new\" xlink:title=\"psysml:09cd1f28-daf0-4d0d-a972-b9bf2a18e992\" xlink:type=\"simple\"><rect fill=\"#FFFFFF\" height=\"45.9375\" id=\"E5\" rx=\"10\" ry=\"10\" style=\"stroke: #383838; stroke-width: 1.5;\" width=\"197\" x=\"69.5\" y=\"397\"/><text fill=\"#000000\" font-family=\"sans-serif\" font-size=\"12\" font-style=\"italic\" lengthAdjust=\"spacingAndGlyphs\" textLength=\"40\" x=\"148\" y=\"413.1387\">«part»</text><text fill=\"#000000\" font-family=\"sans-serif\" font-size=\"12\" lengthAdjust=\"spacingAndGlyphs\" textLength=\"191\" x=\"72.5\" y=\"427.1074\">subcomponents: MassedThing</text><line style=\"stroke: #383838; stroke-width: 1.5;\" x1=\"70.5\" x2=\"265.5\" y1=\"434.9375\" y2=\"434.9375\"/></a><!--MD5=[60a26617385b1d2d0262a64233df1f8d]\n",
       "class E6--><a href=\"psysml:b3309114-4b2b-46b3-9f4f-dc695177bad1\" target=\"_top\" title=\"psysml:b3309114-4b2b-46b3-9f4f-dc695177bad1\" xlink:actuate=\"onRequest\" xlink:href=\"psysml:b3309114-4b2b-46b3-9f4f-dc695177bad1\" xlink:show=\"new\" xlink:title=\"psysml:b3309114-4b2b-46b3-9f4f-dc695177bad1\" xlink:type=\"simple\"><rect fill=\"#FFFFFF\" height=\"113.9609\" id=\"E6\" rx=\"10\" ry=\"10\" style=\"stroke: #383838; stroke-width: 1.5;\" width=\"309\" x=\"31.5\" y=\"41\"/><text fill=\"#000000\" font-family=\"sans-serif\" font-size=\"12\" font-style=\"italic\" lengthAdjust=\"spacingAndGlyphs\" textLength=\"40\" x=\"166\" y=\"57.1387\">«part»</text><text fill=\"#000000\" font-family=\"sans-serif\" font-size=\"12\" lengthAdjust=\"spacingAndGlyphs\" textLength=\"110\" x=\"131\" y=\"71.1074\">filteredMassThing</text><line style=\"stroke: #383838; stroke-width: 1.5;\" x1=\"32.5\" x2=\"339.5\" y1=\"78.9375\" y2=\"78.9375\"/><text fill=\"#000000\" font-family=\"sans-serif\" font-size=\"11\" lengthAdjust=\"spacingAndGlyphs\" textLength=\"51\" x=\"37.5\" y=\"109.9526\">minMass</text><text fill=\"#000000\" font-family=\"sans-serif\" font-size=\"11\" lengthAdjust=\"spacingAndGlyphs\" textLength=\"297\" x=\"37.5\" y=\"122.7573\">totalMass=(./subcomponents/mass[p (p &gt; minMass</text><text fill=\"#000000\" font-family=\"sans-serif\" font-size=\"11\" lengthAdjust=\"spacingAndGlyphs\" textLength=\"125\" x=\"37.5\" y=\"135.562\">)])-&gt;reduce '+' ?? 0.0;</text><text fill=\"#000000\" font-family=\"sans-serif\" font-size=\"11\" font-style=\"italic\" lengthAdjust=\"spacingAndGlyphs\" textLength=\"160\" x=\"37.5\" y=\"148.3667\">:&gt;&gt;MassedThing::totalMass</text><line style=\"stroke: #383838; stroke-width: 1.0;\" x1=\"32.5\" x2=\"158.5\" y1=\"93.3398\" y2=\"93.3398\"/><text fill=\"#000000\" font-family=\"sans-serif\" font-size=\"11\" lengthAdjust=\"spacingAndGlyphs\" textLength=\"55\" x=\"158.5\" y=\"96.6479\">attributes</text><line style=\"stroke: #383838; stroke-width: 1.0;\" x1=\"213.5\" x2=\"339.5\" y1=\"93.3398\" y2=\"93.3398\"/></a><!--MD5=[05d275557350bfb9b23a4ef7222b4c39]\n",
       "link E3 to E2--><a href=\"psysml:b7a37c04-3b7e-4fde-bcd3-8ff7c74e6a20\" target=\"_top\" title=\"psysml:b7a37c04-3b7e-4fde-bcd3-8ff7c74e6a20\" xlink:actuate=\"onRequest\" xlink:href=\"psysml:b7a37c04-3b7e-4fde-bcd3-8ff7c74e6a20\" xlink:show=\"new\" xlink:title=\"psysml:b7a37c04-3b7e-4fde-bcd3-8ff7c74e6a20\" xlink:type=\"simple\"><path d=\"M323.18,464.02 C293.44,483.75 258.37,507.03 229.1,526.45 \" fill=\"none\" id=\"E3-&gt;E2\" style=\"stroke: #383838; stroke-width: 1.0;\"/><polygon fill=\"#FFFFFF\" points=\"212.17,537.69,224.1349,521.3547,231.873,533.0219,212.17,537.69\" style=\"stroke: #383838; stroke-width: 1.0;\"/><ellipse cx=\"229.9905\" cy=\"519.871\" fill=\"#383838\" rx=\"2\" ry=\"2\" style=\"stroke: #383838; stroke-width: 1.0;\"/><ellipse cx=\"235.5178\" cy=\"528.2046\" fill=\"#383838\" rx=\"2\" ry=\"2\" style=\"stroke: #383838; stroke-width: 1.0;\"/></a><!--MD5=[185131fc0dcab0a4505a2ebe144e961b]\n",
       "link E4 to E2--><a href=\"psysml:9348166f-8cea-4d7c-a96d-6192465a705e\" target=\"_top\" title=\"psysml:9348166f-8cea-4d7c-a96d-6192465a705e\" xlink:actuate=\"onRequest\" xlink:href=\"psysml:9348166f-8cea-4d7c-a96d-6192465a705e\" xlink:show=\"new\" xlink:title=\"psysml:9348166f-8cea-4d7c-a96d-6192465a705e\" xlink:type=\"simple\"><path d=\"M120.35,316.12 C87.28,345.1 52,376 52,376 C52,376 52,464 52,464 C52,464 80.05,488.9 108.56,514.22 \" fill=\"none\" id=\"E4-&gt;E2\" style=\"stroke: #383838; stroke-width: 1.0;\"/><polygon fill=\"#FFFFFF\" points=\"123.81,527.77,104.956,520.3857,114.2534,509.9186,123.81,527.77\" style=\"stroke: #383838; stroke-width: 1.0;\"/><ellipse cx=\"102.0227\" cy=\"515.105\" fill=\"#383838\" rx=\"2\" ry=\"2\" style=\"stroke: #383838; stroke-width: 1.0;\"/><ellipse cx=\"108.6636\" cy=\"507.6286\" fill=\"#383838\" rx=\"2\" ry=\"2\" style=\"stroke: #383838; stroke-width: 1.0;\"/></a><!--MD5=[62aa6af11e70f752912c1cb0466f24f7]\n",
       "reverse link E4 to E5--><a href=\"psysml:94e091d2-0286-4211-8181-aedc46ba16d2\" target=\"_top\" title=\"psysml:94e091d2-0286-4211-8181-aedc46ba16d2\" xlink:actuate=\"onRequest\" xlink:href=\"psysml:94e091d2-0286-4211-8181-aedc46ba16d2\" xlink:show=\"new\" xlink:title=\"psysml:94e091d2-0286-4211-8181-aedc46ba16d2\" xlink:type=\"simple\"><path d=\"M173.3,329.13 C171.88,353.21 170.35,379.16 169.3,396.96 \" fill=\"none\" id=\"E4&lt;-E5\" style=\"stroke: #383838; stroke-width: 1.0;\"/><polygon fill=\"#383838\" points=\"174.08,316.01,169.7309,321.762,173.3676,327.9888,177.7167,322.2369,174.08,316.01\" style=\"stroke: #383838; stroke-width: 1.0;\"/><text fill=\"#000000\" font-family=\"sans-serif\" font-size=\"13\" lengthAdjust=\"spacingAndGlyphs\" textLength=\"7\" x=\"161.7088\" y=\"385.8455\">*</text></a><!--MD5=[15ebcb19ae302d9b601edb458606d402]\n",
       "link E5 to E2--><a href=\"psysml:dc08c53a-a0f0-4000-a138-cf80983e3afa\" target=\"_top\" title=\"psysml:dc08c53a-a0f0-4000-a138-cf80983e3afa\" xlink:actuate=\"onRequest\" xlink:href=\"psysml:dc08c53a-a0f0-4000-a138-cf80983e3afa\" xlink:show=\"new\" xlink:title=\"psysml:dc08c53a-a0f0-4000-a138-cf80983e3afa\" xlink:type=\"simple\"><path d=\"M168,443.17 C168,459.31 168,482.04 168,503.62 \" fill=\"none\" id=\"E5-&gt;E2\" style=\"stroke: #383838; stroke-width: 1.0;\"/><polygon fill=\"#FFFFFF\" points=\"168,523.71,161,504.71,175,504.71,168,523.71\" style=\"stroke: #383838; stroke-width: 1.0;\"/><ellipse cx=\"163\" cy=\"499.01\" fill=\"#383838\" rx=\"2\" ry=\"2\" style=\"stroke: #383838; stroke-width: 1.0;\"/><ellipse cx=\"173\" cy=\"499.01\" fill=\"#383838\" rx=\"2\" ry=\"2\" style=\"stroke: #383838; stroke-width: 1.0;\"/></a><!--MD5=[f667431f98296947986a1a7595a31603]\n",
       "link E6 to E4--><a href=\"psysml:b31b3f2c-80ab-44f0-a26e-d801559af683\" target=\"_top\" title=\"psysml:b31b3f2c-80ab-44f0-a26e-d801559af683\" xlink:actuate=\"onRequest\" xlink:href=\"psysml:b31b3f2c-80ab-44f0-a26e-d801559af683\" xlink:show=\"new\" xlink:title=\"psysml:b31b3f2c-80ab-44f0-a26e-d801559af683\" xlink:type=\"simple\"><path d=\"M182.95,155.03 C182.26,167.77 181.52,181.45 180.8,194.69 \" fill=\"none\" id=\"E6-&gt;E4\" style=\"stroke: #383838; stroke-width: 1.0;\"/><polygon fill=\"none\" points=\"187.77,195.32,179.7,214.91,173.79,194.56,187.77,195.32\" style=\"stroke: #383838; stroke-width: 1.0;\"/></a><!--MD5=[878ec1e5e393a4a797facfe0fbf9e48b]\n",
       "@startuml\r\n",
       "skinparam linetype polyline\r\n",
       "skinparam monochrome true\r\n",
       "skinparam classbackgroundcolor white\r\n",
       "skinparam shadowing false\r\n",
       "skinparam wrapWidth 300\r\n",
       "hide circle\r\n",
       "\r\n",
       "package \"MassRollup\" as E1  [[psysml:93cce498-741b-46da-9a76-47f8a90b0e87 ]]  {\r\n",
       "comp def \"MassedThing\" as E2  <<(T,blue)part def>> [[psysml:2bfc4bf5-5785-4629-99c8-bf06d3584a79 ]] {\r\n",
       "- - attributes - -\r\n",
       "mass\r\n",
       "totalMass\r\n",
       "}\r\n",
       "comp usage \"simpleThing: MassedThing\" as E3  <<(T,blue)part>> [[psysml:d9d69a25-c21e-4c46-a572-d7b139b6ee26 ]] {\r\n",
       "- - attributes - -\r\n",
       "totalMass=mass; \\n//:>>MassedThing::totalMass// \r\n",
       "}\r\n",
       "comp usage \"compositeThing: MassedThing\" as E4  <<(T,blue)part>> [[psysml:343123b1-0808-41d0-8b17-a6ebb6acc0cb ]] {\r\n",
       "- - attributes - -\r\n",
       "totalMass=mass + (subcomponents->collect p:MassedThing (p::totalMass)->reduce '+' ?? 0.0); \\n//:>>MassedThing::totalMass// \r\n",
       "}\r\n",
       "comp usage \"subcomponents: MassedThing\" as E5  <<(T,blue)part>> [[psysml:09cd1f28-daf0-4d0d-a972-b9bf2a18e992 ]] {\r\n",
       "}\r\n",
       "comp usage \"filteredMassThing\" as E6  <<(T,blue)part>> [[psysml:b3309114-4b2b-46b3-9f4f-dc695177bad1 ]] {\r\n",
       "- - attributes - -\r\n",
       "minMass\r\n",
       "totalMass=(./subcomponents/mass[p (p > minMass)])->reduce '+' ?? 0.0; \\n//:>>MassedThing::totalMass// \r\n",
       "}\r\n",
       "E3 - -:|> E2 [[psysml:b7a37c04-3b7e-4fde-bcd3-8ff7c74e6a20 ]] \r\n",
       "E4 - -:|> E2 [[psysml:9348166f-8cea-4d7c-a96d-6192465a705e ]] \r\n",
       "E4 *- - \"*\"E5 [[psysml:94e091d2-0286-4211-8181-aedc46ba16d2 ]] \r\n",
       "E5 - -:|> E2 [[psysml:dc08c53a-a0f0-4000-a138-cf80983e3afa ]] \r\n",
       "E6 - -|> E4 [[psysml:b31b3f2c-80ab-44f0-a26e-d801559af683 ]] \r\n",
       "}\r\n",
       "@enduml\r\n",
       "\n",
       "PlantUML version 1.2020.13(Sat Jun 13 12:26:38 UTC 2020)\n",
       "(EPL source distribution)\n",
       "Java Runtime: OpenJDK Runtime Environment\n",
       "JVM: OpenJDK 64-Bit Server VM\n",
       "Default Encoding: UTF-8\n",
       "Language: en\n",
       "Country: null\n",
       "--></g></svg>"
      ]
     },
     "execution_count": 14,
     "metadata": {},
     "output_type": "execute_result"
    }
   ],
   "source": [
    "%viz --style=\"POLYLINE\" --view=\"Sequence\" \"MassRollup\""
   ]
  },
  {
   "cell_type": "code",
   "execution_count": 15,
   "id": "56fb58ec",
   "metadata": {
    "execution": {
     "iopub.execute_input": "2021-04-20T07:26:55.145438Z",
     "iopub.status.busy": "2021-04-20T07:26:55.142762Z",
     "iopub.status.idle": "2021-04-20T07:26:55.382609Z",
     "shell.execute_reply": "2021-04-20T07:26:55.381870Z"
    }
   },
   "outputs": [
    {
     "data": {
      "image/svg+xml": [
       "<?xml version=\"1.0\" encoding=\"UTF-8\" standalone=\"no\"?><svg xmlns=\"http://www.w3.org/2000/svg\" xmlns:xlink=\"http://www.w3.org/1999/xlink\" contentScriptType=\"application/ecmascript\" contentStyleType=\"text/css\" height=\"640px\" preserveAspectRatio=\"none\" style=\"width:512px;height:640px;\" version=\"1.1\" viewBox=\"0 0 512 640\" width=\"512px\" zoomAndPan=\"magnify\"><defs/><g><!--MD5=[fbc87193dbaf4d95561dea2c320d4a47]\n",
       "cluster E1--><a href=\"psysml:93cce498-741b-46da-9a76-47f8a90b0e87\" target=\"_top\" title=\"psysml:93cce498-741b-46da-9a76-47f8a90b0e87\" xlink:actuate=\"onRequest\" xlink:href=\"psysml:93cce498-741b-46da-9a76-47f8a90b0e87\" xlink:show=\"new\" xlink:title=\"psysml:93cce498-741b-46da-9a76-47f8a90b0e87\" xlink:type=\"simple\"><polygon fill=\"#FFFFFF\" points=\"16,6,110,6,117,28.2969,490,28.2969,490,628,16,628,16,6\" style=\"stroke: #000000; stroke-width: 1.5;\"/><line style=\"stroke: #000000; stroke-width: 1.5;\" x1=\"16\" x2=\"117\" y1=\"28.2969\" y2=\"28.2969\"/><text fill=\"#000000\" font-family=\"sans-serif\" font-size=\"14\" font-weight=\"bold\" lengthAdjust=\"spacingAndGlyphs\" textLength=\"88\" x=\"20\" y=\"20.9951\">MassRollup</text></a><!--MD5=[b4997ac47864f28c2f74865a473b2911]\n",
       "class E2--><a href=\"psysml:2bfc4bf5-5785-4629-99c8-bf06d3584a79\" target=\"_top\" title=\"psysml:2bfc4bf5-5785-4629-99c8-bf06d3584a79\" xlink:actuate=\"onRequest\" xlink:href=\"psysml:2bfc4bf5-5785-4629-99c8-bf06d3584a79\" xlink:show=\"new\" xlink:title=\"psysml:2bfc4bf5-5785-4629-99c8-bf06d3584a79\" xlink:type=\"simple\"><rect fill=\"#FFFFFF\" height=\"88.3516\" id=\"E2\" style=\"stroke: #383838; stroke-width: 1.5;\" width=\"88\" x=\"124\" y=\"524\"/><text fill=\"#000000\" font-family=\"sans-serif\" font-size=\"12\" font-style=\"italic\" lengthAdjust=\"spacingAndGlyphs\" textLength=\"64\" x=\"136\" y=\"540.1387\">«part def»</text><text fill=\"#000000\" font-family=\"sans-serif\" font-size=\"12\" lengthAdjust=\"spacingAndGlyphs\" textLength=\"82\" x=\"127\" y=\"554.1074\">MassedThing</text><line style=\"stroke: #383838; stroke-width: 1.5;\" x1=\"125\" x2=\"211\" y1=\"561.9375\" y2=\"561.9375\"/><text fill=\"#000000\" font-family=\"sans-serif\" font-size=\"11\" lengthAdjust=\"spacingAndGlyphs\" textLength=\"32\" x=\"130\" y=\"592.9526\">mass</text><text fill=\"#000000\" font-family=\"sans-serif\" font-size=\"11\" lengthAdjust=\"spacingAndGlyphs\" textLength=\"55\" x=\"130\" y=\"605.7573\">totalMass</text><line style=\"stroke: #383838; stroke-width: 1.0;\" x1=\"125\" x2=\"140.5\" y1=\"576.3398\" y2=\"576.3398\"/><text fill=\"#000000\" font-family=\"sans-serif\" font-size=\"11\" lengthAdjust=\"spacingAndGlyphs\" textLength=\"55\" x=\"140.5\" y=\"579.6479\">attributes</text><line style=\"stroke: #383838; stroke-width: 1.0;\" x1=\"195.5\" x2=\"211\" y1=\"576.3398\" y2=\"576.3398\"/></a><!--MD5=[09b614a08d8cba4a07c9adeb5e0fee81]\n",
       "class E3--><a href=\"psysml:d9d69a25-c21e-4c46-a572-d7b139b6ee26\" target=\"_top\" title=\"psysml:d9d69a25-c21e-4c46-a572-d7b139b6ee26\" xlink:actuate=\"onRequest\" xlink:href=\"psysml:d9d69a25-c21e-4c46-a572-d7b139b6ee26\" xlink:show=\"new\" xlink:title=\"psysml:d9d69a25-c21e-4c46-a572-d7b139b6ee26\" xlink:type=\"simple\"><rect fill=\"#FFFFFF\" height=\"88.3516\" id=\"E3\" rx=\"10\" ry=\"10\" style=\"stroke: #383838; stroke-width: 1.5;\" width=\"172\" x=\"302\" y=\"376\"/><text fill=\"#000000\" font-family=\"sans-serif\" font-size=\"12\" font-style=\"italic\" lengthAdjust=\"spacingAndGlyphs\" textLength=\"40\" x=\"368\" y=\"392.1387\">«part»</text><text fill=\"#000000\" font-family=\"sans-serif\" font-size=\"12\" lengthAdjust=\"spacingAndGlyphs\" textLength=\"164\" x=\"306\" y=\"406.1074\">simpleThing: MassedThing</text><line style=\"stroke: #383838; stroke-width: 1.5;\" x1=\"303\" x2=\"473\" y1=\"413.9375\" y2=\"413.9375\"/><text fill=\"#000000\" font-family=\"sans-serif\" font-size=\"11\" lengthAdjust=\"spacingAndGlyphs\" textLength=\"100\" x=\"308\" y=\"444.9526\">totalMass=mass;</text><text fill=\"#000000\" font-family=\"sans-serif\" font-size=\"11\" font-style=\"italic\" lengthAdjust=\"spacingAndGlyphs\" textLength=\"160\" x=\"308\" y=\"457.7573\">:&gt;&gt;MassedThing::totalMass</text><line style=\"stroke: #383838; stroke-width: 1.0;\" x1=\"303\" x2=\"360.5\" y1=\"428.3398\" y2=\"428.3398\"/><text fill=\"#000000\" font-family=\"sans-serif\" font-size=\"11\" lengthAdjust=\"spacingAndGlyphs\" textLength=\"55\" x=\"360.5\" y=\"431.6479\">attributes</text><line style=\"stroke: #383838; stroke-width: 1.0;\" x1=\"415.5\" x2=\"473\" y1=\"428.3398\" y2=\"428.3398\"/></a><!--MD5=[ebbe1d658d1005bcc118a6aa81145e00]\n",
       "class E4--><a href=\"psysml:343123b1-0808-41d0-8b17-a6ebb6acc0cb\" target=\"_top\" title=\"psysml:343123b1-0808-41d0-8b17-a6ebb6acc0cb\" xlink:actuate=\"onRequest\" xlink:href=\"psysml:343123b1-0808-41d0-8b17-a6ebb6acc0cb\" xlink:show=\"new\" xlink:title=\"psysml:343123b1-0808-41d0-8b17-a6ebb6acc0cb\" xlink:type=\"simple\"><rect fill=\"#FFFFFF\" height=\"101.1563\" id=\"E4\" rx=\"10\" ry=\"10\" style=\"stroke: #383838; stroke-width: 1.5;\" width=\"290\" x=\"32\" y=\"215\"/><text fill=\"#000000\" font-family=\"sans-serif\" font-size=\"12\" font-style=\"italic\" lengthAdjust=\"spacingAndGlyphs\" textLength=\"40\" x=\"157\" y=\"231.1387\">«part»</text><text fill=\"#000000\" font-family=\"sans-serif\" font-size=\"12\" lengthAdjust=\"spacingAndGlyphs\" textLength=\"189\" x=\"82.5\" y=\"245.1074\">compositeThing: MassedThing</text><line style=\"stroke: #383838; stroke-width: 1.5;\" x1=\"33\" x2=\"321\" y1=\"252.9375\" y2=\"252.9375\"/><text fill=\"#000000\" font-family=\"sans-serif\" font-size=\"11\" lengthAdjust=\"spacingAndGlyphs\" textLength=\"272\" x=\"38\" y=\"283.9526\">totalMass=mass + (subcomponents-&gt;collect p:</text><text fill=\"#000000\" font-family=\"sans-serif\" font-size=\"11\" lengthAdjust=\"spacingAndGlyphs\" textLength=\"274\" x=\"38\" y=\"296.7573\">MassedThing (p::totalMass)-&gt;reduce '+' ?? 0.0);</text><text fill=\"#000000\" font-family=\"sans-serif\" font-size=\"11\" font-style=\"italic\" lengthAdjust=\"spacingAndGlyphs\" textLength=\"160\" x=\"38\" y=\"309.562\">:&gt;&gt;MassedThing::totalMass</text><line style=\"stroke: #383838; stroke-width: 1.0;\" x1=\"33\" x2=\"149.5\" y1=\"267.3398\" y2=\"267.3398\"/><text fill=\"#000000\" font-family=\"sans-serif\" font-size=\"11\" lengthAdjust=\"spacingAndGlyphs\" textLength=\"55\" x=\"149.5\" y=\"270.6479\">attributes</text><line style=\"stroke: #383838; stroke-width: 1.0;\" x1=\"204.5\" x2=\"321\" y1=\"267.3398\" y2=\"267.3398\"/></a><!--MD5=[270fce915f116d4de14055a7c1d9a0f3]\n",
       "class E5--><a href=\"psysml:09cd1f28-daf0-4d0d-a972-b9bf2a18e992\" target=\"_top\" title=\"psysml:09cd1f28-daf0-4d0d-a972-b9bf2a18e992\" xlink:actuate=\"onRequest\" xlink:href=\"psysml:09cd1f28-daf0-4d0d-a972-b9bf2a18e992\" xlink:show=\"new\" xlink:title=\"psysml:09cd1f28-daf0-4d0d-a972-b9bf2a18e992\" xlink:type=\"simple\"><rect fill=\"#FFFFFF\" height=\"45.9375\" id=\"E5\" rx=\"10\" ry=\"10\" style=\"stroke: #383838; stroke-width: 1.5;\" width=\"197\" x=\"69.5\" y=\"397\"/><text fill=\"#000000\" font-family=\"sans-serif\" font-size=\"12\" font-style=\"italic\" lengthAdjust=\"spacingAndGlyphs\" textLength=\"40\" x=\"148\" y=\"413.1387\">«part»</text><text fill=\"#000000\" font-family=\"sans-serif\" font-size=\"12\" lengthAdjust=\"spacingAndGlyphs\" textLength=\"191\" x=\"72.5\" y=\"427.1074\">subcomponents: MassedThing</text><line style=\"stroke: #383838; stroke-width: 1.5;\" x1=\"70.5\" x2=\"265.5\" y1=\"434.9375\" y2=\"434.9375\"/></a><!--MD5=[60a26617385b1d2d0262a64233df1f8d]\n",
       "class E6--><a href=\"psysml:b3309114-4b2b-46b3-9f4f-dc695177bad1\" target=\"_top\" title=\"psysml:b3309114-4b2b-46b3-9f4f-dc695177bad1\" xlink:actuate=\"onRequest\" xlink:href=\"psysml:b3309114-4b2b-46b3-9f4f-dc695177bad1\" xlink:show=\"new\" xlink:title=\"psysml:b3309114-4b2b-46b3-9f4f-dc695177bad1\" xlink:type=\"simple\"><rect fill=\"#FFFFFF\" height=\"113.9609\" id=\"E6\" rx=\"10\" ry=\"10\" style=\"stroke: #383838; stroke-width: 1.5;\" width=\"309\" x=\"31.5\" y=\"41\"/><text fill=\"#000000\" font-family=\"sans-serif\" font-size=\"12\" font-style=\"italic\" lengthAdjust=\"spacingAndGlyphs\" textLength=\"40\" x=\"166\" y=\"57.1387\">«part»</text><text fill=\"#000000\" font-family=\"sans-serif\" font-size=\"12\" lengthAdjust=\"spacingAndGlyphs\" textLength=\"110\" x=\"131\" y=\"71.1074\">filteredMassThing</text><line style=\"stroke: #383838; stroke-width: 1.5;\" x1=\"32.5\" x2=\"339.5\" y1=\"78.9375\" y2=\"78.9375\"/><text fill=\"#000000\" font-family=\"sans-serif\" font-size=\"11\" lengthAdjust=\"spacingAndGlyphs\" textLength=\"51\" x=\"37.5\" y=\"109.9526\">minMass</text><text fill=\"#000000\" font-family=\"sans-serif\" font-size=\"11\" lengthAdjust=\"spacingAndGlyphs\" textLength=\"297\" x=\"37.5\" y=\"122.7573\">totalMass=(./subcomponents/mass[p (p &gt; minMass</text><text fill=\"#000000\" font-family=\"sans-serif\" font-size=\"11\" lengthAdjust=\"spacingAndGlyphs\" textLength=\"125\" x=\"37.5\" y=\"135.562\">)])-&gt;reduce '+' ?? 0.0;</text><text fill=\"#000000\" font-family=\"sans-serif\" font-size=\"11\" font-style=\"italic\" lengthAdjust=\"spacingAndGlyphs\" textLength=\"160\" x=\"37.5\" y=\"148.3667\">:&gt;&gt;MassedThing::totalMass</text><line style=\"stroke: #383838; stroke-width: 1.0;\" x1=\"32.5\" x2=\"158.5\" y1=\"93.3398\" y2=\"93.3398\"/><text fill=\"#000000\" font-family=\"sans-serif\" font-size=\"11\" lengthAdjust=\"spacingAndGlyphs\" textLength=\"55\" x=\"158.5\" y=\"96.6479\">attributes</text><line style=\"stroke: #383838; stroke-width: 1.0;\" x1=\"213.5\" x2=\"339.5\" y1=\"93.3398\" y2=\"93.3398\"/></a><!--MD5=[05d275557350bfb9b23a4ef7222b4c39]\n",
       "link E3 to E2--><a href=\"psysml:b7a37c04-3b7e-4fde-bcd3-8ff7c74e6a20\" target=\"_top\" title=\"psysml:b7a37c04-3b7e-4fde-bcd3-8ff7c74e6a20\" xlink:actuate=\"onRequest\" xlink:href=\"psysml:b7a37c04-3b7e-4fde-bcd3-8ff7c74e6a20\" xlink:show=\"new\" xlink:title=\"psysml:b7a37c04-3b7e-4fde-bcd3-8ff7c74e6a20\" xlink:type=\"simple\"><path d=\"M323.18,464.02 C293.44,483.75 258.37,507.03 229.1,526.45 \" fill=\"none\" id=\"E3-&gt;E2\" style=\"stroke: #383838; stroke-width: 1.0;\"/><polygon fill=\"#FFFFFF\" points=\"212.17,537.69,224.1349,521.3547,231.873,533.0219,212.17,537.69\" style=\"stroke: #383838; stroke-width: 1.0;\"/><ellipse cx=\"229.9905\" cy=\"519.871\" fill=\"#383838\" rx=\"2\" ry=\"2\" style=\"stroke: #383838; stroke-width: 1.0;\"/><ellipse cx=\"235.5178\" cy=\"528.2046\" fill=\"#383838\" rx=\"2\" ry=\"2\" style=\"stroke: #383838; stroke-width: 1.0;\"/></a><!--MD5=[185131fc0dcab0a4505a2ebe144e961b]\n",
       "link E4 to E2--><a href=\"psysml:9348166f-8cea-4d7c-a96d-6192465a705e\" target=\"_top\" title=\"psysml:9348166f-8cea-4d7c-a96d-6192465a705e\" xlink:actuate=\"onRequest\" xlink:href=\"psysml:9348166f-8cea-4d7c-a96d-6192465a705e\" xlink:show=\"new\" xlink:title=\"psysml:9348166f-8cea-4d7c-a96d-6192465a705e\" xlink:type=\"simple\"><path d=\"M120.35,316.12 C87.28,345.1 52,376 52,376 C52,376 52,464 52,464 C52,464 80.05,488.9 108.56,514.22 \" fill=\"none\" id=\"E4-&gt;E2\" style=\"stroke: #383838; stroke-width: 1.0;\"/><polygon fill=\"#FFFFFF\" points=\"123.81,527.77,104.956,520.3857,114.2534,509.9186,123.81,527.77\" style=\"stroke: #383838; stroke-width: 1.0;\"/><ellipse cx=\"102.0227\" cy=\"515.105\" fill=\"#383838\" rx=\"2\" ry=\"2\" style=\"stroke: #383838; stroke-width: 1.0;\"/><ellipse cx=\"108.6636\" cy=\"507.6286\" fill=\"#383838\" rx=\"2\" ry=\"2\" style=\"stroke: #383838; stroke-width: 1.0;\"/></a><!--MD5=[62aa6af11e70f752912c1cb0466f24f7]\n",
       "reverse link E4 to E5--><a href=\"psysml:94e091d2-0286-4211-8181-aedc46ba16d2\" target=\"_top\" title=\"psysml:94e091d2-0286-4211-8181-aedc46ba16d2\" xlink:actuate=\"onRequest\" xlink:href=\"psysml:94e091d2-0286-4211-8181-aedc46ba16d2\" xlink:show=\"new\" xlink:title=\"psysml:94e091d2-0286-4211-8181-aedc46ba16d2\" xlink:type=\"simple\"><path d=\"M173.3,329.13 C171.88,353.21 170.35,379.16 169.3,396.96 \" fill=\"none\" id=\"E4&lt;-E5\" style=\"stroke: #383838; stroke-width: 1.0;\"/><polygon fill=\"#383838\" points=\"174.08,316.01,169.7309,321.762,173.3676,327.9888,177.7167,322.2369,174.08,316.01\" style=\"stroke: #383838; stroke-width: 1.0;\"/><text fill=\"#000000\" font-family=\"sans-serif\" font-size=\"13\" lengthAdjust=\"spacingAndGlyphs\" textLength=\"7\" x=\"161.7088\" y=\"385.8455\">*</text></a><!--MD5=[15ebcb19ae302d9b601edb458606d402]\n",
       "link E5 to E2--><a href=\"psysml:dc08c53a-a0f0-4000-a138-cf80983e3afa\" target=\"_top\" title=\"psysml:dc08c53a-a0f0-4000-a138-cf80983e3afa\" xlink:actuate=\"onRequest\" xlink:href=\"psysml:dc08c53a-a0f0-4000-a138-cf80983e3afa\" xlink:show=\"new\" xlink:title=\"psysml:dc08c53a-a0f0-4000-a138-cf80983e3afa\" xlink:type=\"simple\"><path d=\"M168,443.17 C168,459.31 168,482.04 168,503.62 \" fill=\"none\" id=\"E5-&gt;E2\" style=\"stroke: #383838; stroke-width: 1.0;\"/><polygon fill=\"#FFFFFF\" points=\"168,523.71,161,504.71,175,504.71,168,523.71\" style=\"stroke: #383838; stroke-width: 1.0;\"/><ellipse cx=\"163\" cy=\"499.01\" fill=\"#383838\" rx=\"2\" ry=\"2\" style=\"stroke: #383838; stroke-width: 1.0;\"/><ellipse cx=\"173\" cy=\"499.01\" fill=\"#383838\" rx=\"2\" ry=\"2\" style=\"stroke: #383838; stroke-width: 1.0;\"/></a><!--MD5=[f667431f98296947986a1a7595a31603]\n",
       "link E6 to E4--><a href=\"psysml:b31b3f2c-80ab-44f0-a26e-d801559af683\" target=\"_top\" title=\"psysml:b31b3f2c-80ab-44f0-a26e-d801559af683\" xlink:actuate=\"onRequest\" xlink:href=\"psysml:b31b3f2c-80ab-44f0-a26e-d801559af683\" xlink:show=\"new\" xlink:title=\"psysml:b31b3f2c-80ab-44f0-a26e-d801559af683\" xlink:type=\"simple\"><path d=\"M182.95,155.03 C182.26,167.77 181.52,181.45 180.8,194.69 \" fill=\"none\" id=\"E6-&gt;E4\" style=\"stroke: #383838; stroke-width: 1.0;\"/><polygon fill=\"none\" points=\"187.77,195.32,179.7,214.91,173.79,194.56,187.77,195.32\" style=\"stroke: #383838; stroke-width: 1.0;\"/></a><!--MD5=[878ec1e5e393a4a797facfe0fbf9e48b]\n",
       "@startuml\r\n",
       "skinparam linetype polyline\r\n",
       "skinparam monochrome true\r\n",
       "skinparam classbackgroundcolor white\r\n",
       "skinparam shadowing false\r\n",
       "skinparam wrapWidth 300\r\n",
       "hide circle\r\n",
       "\r\n",
       "package \"MassRollup\" as E1  [[psysml:93cce498-741b-46da-9a76-47f8a90b0e87 ]]  {\r\n",
       "comp def \"MassedThing\" as E2  <<(T,blue)part def>> [[psysml:2bfc4bf5-5785-4629-99c8-bf06d3584a79 ]] {\r\n",
       "- - attributes - -\r\n",
       "mass\r\n",
       "totalMass\r\n",
       "}\r\n",
       "comp usage \"simpleThing: MassedThing\" as E3  <<(T,blue)part>> [[psysml:d9d69a25-c21e-4c46-a572-d7b139b6ee26 ]] {\r\n",
       "- - attributes - -\r\n",
       "totalMass=mass; \\n//:>>MassedThing::totalMass// \r\n",
       "}\r\n",
       "comp usage \"compositeThing: MassedThing\" as E4  <<(T,blue)part>> [[psysml:343123b1-0808-41d0-8b17-a6ebb6acc0cb ]] {\r\n",
       "- - attributes - -\r\n",
       "totalMass=mass + (subcomponents->collect p:MassedThing (p::totalMass)->reduce '+' ?? 0.0); \\n//:>>MassedThing::totalMass// \r\n",
       "}\r\n",
       "comp usage \"subcomponents: MassedThing\" as E5  <<(T,blue)part>> [[psysml:09cd1f28-daf0-4d0d-a972-b9bf2a18e992 ]] {\r\n",
       "}\r\n",
       "comp usage \"filteredMassThing\" as E6  <<(T,blue)part>> [[psysml:b3309114-4b2b-46b3-9f4f-dc695177bad1 ]] {\r\n",
       "- - attributes - -\r\n",
       "minMass\r\n",
       "totalMass=(./subcomponents/mass[p (p > minMass)])->reduce '+' ?? 0.0; \\n//:>>MassedThing::totalMass// \r\n",
       "}\r\n",
       "E3 - -:|> E2 [[psysml:b7a37c04-3b7e-4fde-bcd3-8ff7c74e6a20 ]] \r\n",
       "E4 - -:|> E2 [[psysml:9348166f-8cea-4d7c-a96d-6192465a705e ]] \r\n",
       "E4 *- - \"*\"E5 [[psysml:94e091d2-0286-4211-8181-aedc46ba16d2 ]] \r\n",
       "E5 - -:|> E2 [[psysml:dc08c53a-a0f0-4000-a138-cf80983e3afa ]] \r\n",
       "E6 - -|> E4 [[psysml:b31b3f2c-80ab-44f0-a26e-d801559af683 ]] \r\n",
       "}\r\n",
       "@enduml\r\n",
       "\n",
       "PlantUML version 1.2020.13(Sat Jun 13 12:26:38 UTC 2020)\n",
       "(EPL source distribution)\n",
       "Java Runtime: OpenJDK Runtime Environment\n",
       "JVM: OpenJDK 64-Bit Server VM\n",
       "Default Encoding: UTF-8\n",
       "Language: en\n",
       "Country: null\n",
       "--></g></svg>"
      ]
     },
     "execution_count": 15,
     "metadata": {},
     "output_type": "execute_result"
    }
   ],
   "source": [
    "%viz --style=\"POLYLINE\" --view=\"MIXED\" \"MassRollup\""
   ]
  },
  {
   "cell_type": "code",
   "execution_count": 16,
   "id": "f0d19eaf",
   "metadata": {
    "execution": {
     "iopub.execute_input": "2021-04-20T07:26:55.440284Z",
     "iopub.status.busy": "2021-04-20T07:26:55.438385Z",
     "iopub.status.idle": "2021-04-20T07:26:55.709457Z",
     "shell.execute_reply": "2021-04-20T07:26:55.707436Z"
    }
   },
   "outputs": [
    {
     "data": {
      "image/svg+xml": [
       "<?xml version=\"1.0\" encoding=\"UTF-8\" standalone=\"no\"?><svg xmlns=\"http://www.w3.org/2000/svg\" xmlns:xlink=\"http://www.w3.org/1999/xlink\" contentScriptType=\"application/ecmascript\" contentStyleType=\"text/css\" height=\"275px\" preserveAspectRatio=\"none\" style=\"width:1134px;height:275px;\" version=\"1.1\" viewBox=\"0 0 1134 275\" width=\"1134px\" zoomAndPan=\"magnify\"><defs/><g><!--MD5=[fbc87193dbaf4d95561dea2c320d4a47]\n",
       "cluster E1--><a href=\"psysml:93cce498-741b-46da-9a76-47f8a90b0e87\" target=\"_top\" title=\"psysml:93cce498-741b-46da-9a76-47f8a90b0e87\" xlink:actuate=\"onRequest\" xlink:href=\"psysml:93cce498-741b-46da-9a76-47f8a90b0e87\" xlink:show=\"new\" xlink:title=\"psysml:93cce498-741b-46da-9a76-47f8a90b0e87\" xlink:type=\"simple\"><polygon fill=\"#FFFFFF\" points=\"16,6,110,6,117,28.2969,1112,28.2969,1112,263,16,263,16,6\" style=\"stroke: #000000; stroke-width: 1.5;\"/><line style=\"stroke: #000000; stroke-width: 1.5;\" x1=\"16\" x2=\"117\" y1=\"28.2969\" y2=\"28.2969\"/><text fill=\"#000000\" font-family=\"sans-serif\" font-size=\"14\" font-weight=\"bold\" lengthAdjust=\"spacingAndGlyphs\" textLength=\"88\" x=\"20\" y=\"20.9951\">MassRollup</text></a><!--MD5=[b4997ac47864f28c2f74865a473b2911]\n",
       "class E2--><a href=\"psysml:2bfc4bf5-5785-4629-99c8-bf06d3584a79\" target=\"_top\" title=\"psysml:2bfc4bf5-5785-4629-99c8-bf06d3584a79\" xlink:actuate=\"onRequest\" xlink:href=\"psysml:2bfc4bf5-5785-4629-99c8-bf06d3584a79\" xlink:show=\"new\" xlink:title=\"psysml:2bfc4bf5-5785-4629-99c8-bf06d3584a79\" xlink:type=\"simple\"><rect fill=\"#FFFFFF\" height=\"88.3516\" id=\"E2\" style=\"stroke: #383838; stroke-width: 1.5;\" width=\"88\" x=\"1008\" y=\"143\"/><text fill=\"#000000\" font-family=\"sans-serif\" font-size=\"12\" font-style=\"italic\" lengthAdjust=\"spacingAndGlyphs\" textLength=\"64\" x=\"1020\" y=\"159.1387\">«part def»</text><text fill=\"#000000\" font-family=\"sans-serif\" font-size=\"12\" lengthAdjust=\"spacingAndGlyphs\" textLength=\"82\" x=\"1011\" y=\"173.1074\">MassedThing</text><line style=\"stroke: #383838; stroke-width: 1.5;\" x1=\"1009\" x2=\"1095\" y1=\"180.9375\" y2=\"180.9375\"/><text fill=\"#000000\" font-family=\"sans-serif\" font-size=\"11\" lengthAdjust=\"spacingAndGlyphs\" textLength=\"32\" x=\"1014\" y=\"211.9526\">mass</text><text fill=\"#000000\" font-family=\"sans-serif\" font-size=\"11\" lengthAdjust=\"spacingAndGlyphs\" textLength=\"55\" x=\"1014\" y=\"224.7573\">totalMass</text><line style=\"stroke: #383838; stroke-width: 1.0;\" x1=\"1009\" x2=\"1024.5\" y1=\"195.3398\" y2=\"195.3398\"/><text fill=\"#000000\" font-family=\"sans-serif\" font-size=\"11\" lengthAdjust=\"spacingAndGlyphs\" textLength=\"55\" x=\"1024.5\" y=\"198.6479\">attributes</text><line style=\"stroke: #383838; stroke-width: 1.0;\" x1=\"1079.5\" x2=\"1095\" y1=\"195.3398\" y2=\"195.3398\"/></a><!--MD5=[09b614a08d8cba4a07c9adeb5e0fee81]\n",
       "class E3--><a href=\"psysml:d9d69a25-c21e-4c46-a572-d7b139b6ee26\" target=\"_top\" title=\"psysml:d9d69a25-c21e-4c46-a572-d7b139b6ee26\" xlink:actuate=\"onRequest\" xlink:href=\"psysml:d9d69a25-c21e-4c46-a572-d7b139b6ee26\" xlink:show=\"new\" xlink:title=\"psysml:d9d69a25-c21e-4c46-a572-d7b139b6ee26\" xlink:type=\"simple\"><rect fill=\"#FFFFFF\" height=\"88.3516\" id=\"E3\" rx=\"10\" ry=\"10\" style=\"stroke: #383838; stroke-width: 1.5;\" width=\"172\" x=\"763.5\" y=\"41\"/><text fill=\"#000000\" font-family=\"sans-serif\" font-size=\"12\" font-style=\"italic\" lengthAdjust=\"spacingAndGlyphs\" textLength=\"40\" x=\"829.5\" y=\"57.1387\">«part»</text><text fill=\"#000000\" font-family=\"sans-serif\" font-size=\"12\" lengthAdjust=\"spacingAndGlyphs\" textLength=\"164\" x=\"767.5\" y=\"71.1074\">simpleThing: MassedThing</text><line style=\"stroke: #383838; stroke-width: 1.5;\" x1=\"764.5\" x2=\"934.5\" y1=\"78.9375\" y2=\"78.9375\"/><text fill=\"#000000\" font-family=\"sans-serif\" font-size=\"11\" lengthAdjust=\"spacingAndGlyphs\" textLength=\"100\" x=\"769.5\" y=\"109.9526\">totalMass=mass;</text><text fill=\"#000000\" font-family=\"sans-serif\" font-size=\"11\" font-style=\"italic\" lengthAdjust=\"spacingAndGlyphs\" textLength=\"160\" x=\"769.5\" y=\"122.7573\">:&gt;&gt;MassedThing::totalMass</text><line style=\"stroke: #383838; stroke-width: 1.0;\" x1=\"764.5\" x2=\"822\" y1=\"93.3398\" y2=\"93.3398\"/><text fill=\"#000000\" font-family=\"sans-serif\" font-size=\"11\" lengthAdjust=\"spacingAndGlyphs\" textLength=\"55\" x=\"822\" y=\"96.6479\">attributes</text><line style=\"stroke: #383838; stroke-width: 1.0;\" x1=\"877\" x2=\"934.5\" y1=\"93.3398\" y2=\"93.3398\"/></a><!--MD5=[ebbe1d658d1005bcc118a6aa81145e00]\n",
       "class E4--><a href=\"psysml:343123b1-0808-41d0-8b17-a6ebb6acc0cb\" target=\"_top\" title=\"psysml:343123b1-0808-41d0-8b17-a6ebb6acc0cb\" xlink:actuate=\"onRequest\" xlink:href=\"psysml:343123b1-0808-41d0-8b17-a6ebb6acc0cb\" xlink:show=\"new\" xlink:title=\"psysml:343123b1-0808-41d0-8b17-a6ebb6acc0cb\" xlink:type=\"simple\"><rect fill=\"#FFFFFF\" height=\"101.1563\" id=\"E4\" rx=\"10\" ry=\"10\" style=\"stroke: #383838; stroke-width: 1.5;\" width=\"290\" x=\"401\" y=\"138.5\"/><text fill=\"#000000\" font-family=\"sans-serif\" font-size=\"12\" font-style=\"italic\" lengthAdjust=\"spacingAndGlyphs\" textLength=\"40\" x=\"526\" y=\"154.6387\">«part»</text><text fill=\"#000000\" font-family=\"sans-serif\" font-size=\"12\" lengthAdjust=\"spacingAndGlyphs\" textLength=\"189\" x=\"451.5\" y=\"168.6074\">compositeThing: MassedThing</text><line style=\"stroke: #383838; stroke-width: 1.5;\" x1=\"402\" x2=\"690\" y1=\"176.4375\" y2=\"176.4375\"/><text fill=\"#000000\" font-family=\"sans-serif\" font-size=\"11\" lengthAdjust=\"spacingAndGlyphs\" textLength=\"272\" x=\"407\" y=\"207.4526\">totalMass=mass + (subcomponents-&gt;collect p:</text><text fill=\"#000000\" font-family=\"sans-serif\" font-size=\"11\" lengthAdjust=\"spacingAndGlyphs\" textLength=\"274\" x=\"407\" y=\"220.2573\">MassedThing (p::totalMass)-&gt;reduce '+' ?? 0.0);</text><text fill=\"#000000\" font-family=\"sans-serif\" font-size=\"11\" font-style=\"italic\" lengthAdjust=\"spacingAndGlyphs\" textLength=\"160\" x=\"407\" y=\"233.062\">:&gt;&gt;MassedThing::totalMass</text><line style=\"stroke: #383838; stroke-width: 1.0;\" x1=\"402\" x2=\"518.5\" y1=\"190.8398\" y2=\"190.8398\"/><text fill=\"#000000\" font-family=\"sans-serif\" font-size=\"11\" lengthAdjust=\"spacingAndGlyphs\" textLength=\"55\" x=\"518.5\" y=\"194.1479\">attributes</text><line style=\"stroke: #383838; stroke-width: 1.0;\" x1=\"573.5\" x2=\"690\" y1=\"190.8398\" y2=\"190.8398\"/></a><!--MD5=[270fce915f116d4de14055a7c1d9a0f3]\n",
       "class E5--><a href=\"psysml:09cd1f28-daf0-4d0d-a972-b9bf2a18e992\" target=\"_top\" title=\"psysml:09cd1f28-daf0-4d0d-a972-b9bf2a18e992\" xlink:actuate=\"onRequest\" xlink:href=\"psysml:09cd1f28-daf0-4d0d-a972-b9bf2a18e992\" xlink:show=\"new\" xlink:title=\"psysml:09cd1f28-daf0-4d0d-a972-b9bf2a18e992\" xlink:type=\"simple\"><rect fill=\"#FFFFFF\" height=\"45.9375\" id=\"E5\" rx=\"10\" ry=\"10\" style=\"stroke: #383838; stroke-width: 1.5;\" width=\"197\" x=\"751\" y=\"164\"/><text fill=\"#000000\" font-family=\"sans-serif\" font-size=\"12\" font-style=\"italic\" lengthAdjust=\"spacingAndGlyphs\" textLength=\"40\" x=\"829.5\" y=\"180.1387\">«part»</text><text fill=\"#000000\" font-family=\"sans-serif\" font-size=\"12\" lengthAdjust=\"spacingAndGlyphs\" textLength=\"191\" x=\"754\" y=\"194.1074\">subcomponents: MassedThing</text><line style=\"stroke: #383838; stroke-width: 1.5;\" x1=\"752\" x2=\"947\" y1=\"201.9375\" y2=\"201.9375\"/></a><!--MD5=[60a26617385b1d2d0262a64233df1f8d]\n",
       "class E6--><a href=\"psysml:b3309114-4b2b-46b3-9f4f-dc695177bad1\" target=\"_top\" title=\"psysml:b3309114-4b2b-46b3-9f4f-dc695177bad1\" xlink:actuate=\"onRequest\" xlink:href=\"psysml:b3309114-4b2b-46b3-9f4f-dc695177bad1\" xlink:show=\"new\" xlink:title=\"psysml:b3309114-4b2b-46b3-9f4f-dc695177bad1\" xlink:type=\"simple\"><rect fill=\"#FFFFFF\" height=\"113.9609\" id=\"E6\" rx=\"10\" ry=\"10\" style=\"stroke: #383838; stroke-width: 1.5;\" width=\"309\" x=\"32\" y=\"132\"/><text fill=\"#000000\" font-family=\"sans-serif\" font-size=\"12\" font-style=\"italic\" lengthAdjust=\"spacingAndGlyphs\" textLength=\"40\" x=\"166.5\" y=\"148.1387\">«part»</text><text fill=\"#000000\" font-family=\"sans-serif\" font-size=\"12\" lengthAdjust=\"spacingAndGlyphs\" textLength=\"110\" x=\"131.5\" y=\"162.1074\">filteredMassThing</text><line style=\"stroke: #383838; stroke-width: 1.5;\" x1=\"33\" x2=\"340\" y1=\"169.9375\" y2=\"169.9375\"/><text fill=\"#000000\" font-family=\"sans-serif\" font-size=\"11\" lengthAdjust=\"spacingAndGlyphs\" textLength=\"51\" x=\"38\" y=\"200.9526\">minMass</text><text fill=\"#000000\" font-family=\"sans-serif\" font-size=\"11\" lengthAdjust=\"spacingAndGlyphs\" textLength=\"297\" x=\"38\" y=\"213.7573\">totalMass=(./subcomponents/mass[p (p &gt; minMass</text><text fill=\"#000000\" font-family=\"sans-serif\" font-size=\"11\" lengthAdjust=\"spacingAndGlyphs\" textLength=\"125\" x=\"38\" y=\"226.562\">)])-&gt;reduce '+' ?? 0.0;</text><text fill=\"#000000\" font-family=\"sans-serif\" font-size=\"11\" font-style=\"italic\" lengthAdjust=\"spacingAndGlyphs\" textLength=\"160\" x=\"38\" y=\"239.3667\">:&gt;&gt;MassedThing::totalMass</text><line style=\"stroke: #383838; stroke-width: 1.0;\" x1=\"33\" x2=\"159\" y1=\"184.3398\" y2=\"184.3398\"/><text fill=\"#000000\" font-family=\"sans-serif\" font-size=\"11\" lengthAdjust=\"spacingAndGlyphs\" textLength=\"55\" x=\"159\" y=\"187.6479\">attributes</text><line style=\"stroke: #383838; stroke-width: 1.0;\" x1=\"214\" x2=\"340\" y1=\"184.3398\" y2=\"184.3398\"/></a><!--MD5=[05d275557350bfb9b23a4ef7222b4c39]\n",
       "link E3 to E2--><a href=\"psysml:b7a37c04-3b7e-4fde-bcd3-8ff7c74e6a20\" target=\"_top\" title=\"psysml:b7a37c04-3b7e-4fde-bcd3-8ff7c74e6a20\" xlink:actuate=\"onRequest\" xlink:href=\"psysml:b7a37c04-3b7e-4fde-bcd3-8ff7c74e6a20\" xlink:show=\"new\" xlink:title=\"psysml:b7a37c04-3b7e-4fde-bcd3-8ff7c74e6a20\" xlink:type=\"simple\"><path d=\"M935.53,128.26 C953.77,137.54 972.71,147.17 989.83,155.88 \" fill=\"none\" id=\"E3-&gt;E2\" style=\"stroke: #383838; stroke-width: 1.0;\"/><polygon fill=\"#FFFFFF\" points=\"1007.93,165.09,987.8216,162.7126,994.1704,150.2349,1007.93,165.09\" style=\"stroke: #383838; stroke-width: 1.0;\"/><ellipse cx=\"983.6484\" cy=\"158.3452\" fill=\"#383838\" rx=\"2\" ry=\"2\" style=\"stroke: #383838; stroke-width: 1.0;\"/><ellipse cx=\"988.1832\" cy=\"149.4326\" fill=\"#383838\" rx=\"2\" ry=\"2\" style=\"stroke: #383838; stroke-width: 1.0;\"/></a><!--MD5=[185131fc0dcab0a4505a2ebe144e961b]\n",
       "link E4 to E2--><a href=\"psysml:9348166f-8cea-4d7c-a96d-6192465a705e\" target=\"_top\" title=\"psysml:9348166f-8cea-4d7c-a96d-6192465a705e\" xlink:actuate=\"onRequest\" xlink:href=\"psysml:9348166f-8cea-4d7c-a96d-6192465a705e\" xlink:show=\"new\" xlink:title=\"psysml:9348166f-8cea-4d7c-a96d-6192465a705e\" xlink:type=\"simple\"><path d=\"M691.29,222.84 C768.02,235.86 863.68,244.17 948,228 C961.72,225.37 975.93,220.94 989.26,215.93 \" fill=\"none\" id=\"E4-&gt;E2\" style=\"stroke: #383838; stroke-width: 1.0;\"/><polygon fill=\"#FFFFFF\" points=\"1008,208.34,993.0236,221.9674,987.7621,208.9938,1008,208.34\" style=\"stroke: #383838; stroke-width: 1.0;\"/><ellipse cx=\"986.9898\" cy=\"222.2562\" fill=\"#383838\" rx=\"2\" ry=\"2\" style=\"stroke: #383838; stroke-width: 1.0;\"/><ellipse cx=\"983.2316\" cy=\"212.9893\" fill=\"#383838\" rx=\"2\" ry=\"2\" style=\"stroke: #383838; stroke-width: 1.0;\"/></a><!--MD5=[62aa6af11e70f752912c1cb0466f24f7]\n",
       "reverse link E4 to E5--><a href=\"psysml:94e091d2-0286-4211-8181-aedc46ba16d2\" target=\"_top\" title=\"psysml:94e091d2-0286-4211-8181-aedc46ba16d2\" xlink:actuate=\"onRequest\" xlink:href=\"psysml:94e091d2-0286-4211-8181-aedc46ba16d2\" xlink:show=\"new\" xlink:title=\"psysml:94e091d2-0286-4211-8181-aedc46ba16d2\" xlink:type=\"simple\"><path d=\"M704.45,187.96 C720.3,187.85 736.05,187.75 751,187.65 \" fill=\"none\" id=\"E4&lt;-E5\" style=\"stroke: #383838; stroke-width: 1.0;\"/><polygon fill=\"#383838\" points=\"691.13,188.04,697.1562,192.0004,703.1297,187.9609,697.1035,184.0005,691.13,188.04\" style=\"stroke: #383838; stroke-width: 1.0;\"/><text fill=\"#000000\" font-family=\"sans-serif\" font-size=\"13\" lengthAdjust=\"spacingAndGlyphs\" textLength=\"7\" x=\"735.8719\" y=\"200.3741\">*</text></a><!--MD5=[15ebcb19ae302d9b601edb458606d402]\n",
       "link E5 to E2--><a href=\"psysml:dc08c53a-a0f0-4000-a138-cf80983e3afa\" target=\"_top\" title=\"psysml:dc08c53a-a0f0-4000-a138-cf80983e3afa\" xlink:actuate=\"onRequest\" xlink:href=\"psysml:dc08c53a-a0f0-4000-a138-cf80983e3afa\" xlink:show=\"new\" xlink:title=\"psysml:dc08c53a-a0f0-4000-a138-cf80983e3afa\" xlink:type=\"simple\"><path d=\"M948.11,187 C961.57,187 975.09,187 987.71,187 \" fill=\"none\" id=\"E5-&gt;E2\" style=\"stroke: #383838; stroke-width: 1.0;\"/><polygon fill=\"#FFFFFF\" points=\"1007.92,187,988.92,194,988.92,180,1007.92,187\" style=\"stroke: #383838; stroke-width: 1.0;\"/><ellipse cx=\"983.22\" cy=\"192\" fill=\"#383838\" rx=\"2\" ry=\"2\" style=\"stroke: #383838; stroke-width: 1.0;\"/><ellipse cx=\"983.22\" cy=\"182\" fill=\"#383838\" rx=\"2\" ry=\"2\" style=\"stroke: #383838; stroke-width: 1.0;\"/></a><!--MD5=[f667431f98296947986a1a7595a31603]\n",
       "link E6 to E4--><a href=\"psysml:b31b3f2c-80ab-44f0-a26e-d801559af683\" target=\"_top\" title=\"psysml:b31b3f2c-80ab-44f0-a26e-d801559af683\" xlink:actuate=\"onRequest\" xlink:href=\"psysml:b31b3f2c-80ab-44f0-a26e-d801559af683\" xlink:show=\"new\" xlink:title=\"psysml:b31b3f2c-80ab-44f0-a26e-d801559af683\" xlink:type=\"simple\"><path d=\"M341.19,189 C354.17,189 367.32,189 380.38,189 \" fill=\"none\" id=\"E6-&gt;E4\" style=\"stroke: #383838; stroke-width: 1.0;\"/><polygon fill=\"none\" points=\"380.77,182,400.77,189,380.77,196,380.77,182\" style=\"stroke: #383838; stroke-width: 1.0;\"/></a><!--MD5=[772acb4092c901ec14640d0733597626]\n",
       "@startuml\r\n",
       "left to right direction\r\n",
       "skinparam monochrome true\r\n",
       "skinparam classbackgroundcolor white\r\n",
       "skinparam shadowing false\r\n",
       "skinparam wrapWidth 300\r\n",
       "hide circle\r\n",
       "\r\n",
       "package \"MassRollup\" as E1  [[psysml:93cce498-741b-46da-9a76-47f8a90b0e87 ]]  {\r\n",
       "comp def \"MassedThing\" as E2  <<(T,blue)part def>> [[psysml:2bfc4bf5-5785-4629-99c8-bf06d3584a79 ]] {\r\n",
       "- - attributes - -\r\n",
       "mass\r\n",
       "totalMass\r\n",
       "}\r\n",
       "comp usage \"simpleThing: MassedThing\" as E3  <<(T,blue)part>> [[psysml:d9d69a25-c21e-4c46-a572-d7b139b6ee26 ]] {\r\n",
       "- - attributes - -\r\n",
       "totalMass=mass; \\n//:>>MassedThing::totalMass// \r\n",
       "}\r\n",
       "comp usage \"compositeThing: MassedThing\" as E4  <<(T,blue)part>> [[psysml:343123b1-0808-41d0-8b17-a6ebb6acc0cb ]] {\r\n",
       "- - attributes - -\r\n",
       "totalMass=mass + (subcomponents->collect p:MassedThing (p::totalMass)->reduce '+' ?? 0.0); \\n//:>>MassedThing::totalMass// \r\n",
       "}\r\n",
       "comp usage \"subcomponents: MassedThing\" as E5  <<(T,blue)part>> [[psysml:09cd1f28-daf0-4d0d-a972-b9bf2a18e992 ]] {\r\n",
       "}\r\n",
       "comp usage \"filteredMassThing\" as E6  <<(T,blue)part>> [[psysml:b3309114-4b2b-46b3-9f4f-dc695177bad1 ]] {\r\n",
       "- - attributes - -\r\n",
       "minMass\r\n",
       "totalMass=(./subcomponents/mass[p (p > minMass)])->reduce '+' ?? 0.0; \\n//:>>MassedThing::totalMass// \r\n",
       "}\r\n",
       "E3 - -:|> E2 [[psysml:b7a37c04-3b7e-4fde-bcd3-8ff7c74e6a20 ]] \r\n",
       "E4 - -:|> E2 [[psysml:9348166f-8cea-4d7c-a96d-6192465a705e ]] \r\n",
       "E4 *- - \"*\"E5 [[psysml:94e091d2-0286-4211-8181-aedc46ba16d2 ]] \r\n",
       "E5 - -:|> E2 [[psysml:dc08c53a-a0f0-4000-a138-cf80983e3afa ]] \r\n",
       "E6 - -|> E4 [[psysml:b31b3f2c-80ab-44f0-a26e-d801559af683 ]] \r\n",
       "}\r\n",
       "@enduml\r\n",
       "\n",
       "PlantUML version 1.2020.13(Sat Jun 13 12:26:38 UTC 2020)\n",
       "(EPL source distribution)\n",
       "Java Runtime: OpenJDK Runtime Environment\n",
       "JVM: OpenJDK 64-Bit Server VM\n",
       "Default Encoding: UTF-8\n",
       "Language: en\n",
       "Country: null\n",
       "--></g></svg>"
      ]
     },
     "execution_count": 16,
     "metadata": {},
     "output_type": "execute_result"
    }
   ],
   "source": [
    "%viz --style=\"LR\" --view=\"Default\" \"MassRollup\""
   ]
  },
  {
   "cell_type": "code",
   "execution_count": 17,
   "id": "8d0be89a",
   "metadata": {
    "execution": {
     "iopub.execute_input": "2021-04-20T07:26:55.758938Z",
     "iopub.status.busy": "2021-04-20T07:26:55.758244Z",
     "iopub.status.idle": "2021-04-20T07:26:56.049181Z",
     "shell.execute_reply": "2021-04-20T07:26:56.048398Z"
    }
   },
   "outputs": [
    {
     "data": {
      "image/svg+xml": [
       "<?xml version=\"1.0\" encoding=\"UTF-8\" standalone=\"no\"?><svg xmlns=\"http://www.w3.org/2000/svg\" xmlns:xlink=\"http://www.w3.org/1999/xlink\" contentScriptType=\"application/ecmascript\" contentStyleType=\"text/css\" height=\"275px\" preserveAspectRatio=\"none\" style=\"width:1134px;height:275px;\" version=\"1.1\" viewBox=\"0 0 1134 275\" width=\"1134px\" zoomAndPan=\"magnify\"><defs/><g><!--MD5=[fbc87193dbaf4d95561dea2c320d4a47]\n",
       "cluster E1--><a href=\"psysml:93cce498-741b-46da-9a76-47f8a90b0e87\" target=\"_top\" title=\"psysml:93cce498-741b-46da-9a76-47f8a90b0e87\" xlink:actuate=\"onRequest\" xlink:href=\"psysml:93cce498-741b-46da-9a76-47f8a90b0e87\" xlink:show=\"new\" xlink:title=\"psysml:93cce498-741b-46da-9a76-47f8a90b0e87\" xlink:type=\"simple\"><polygon fill=\"#FFFFFF\" points=\"16,6,110,6,117,28.2969,1112,28.2969,1112,263,16,263,16,6\" style=\"stroke: #000000; stroke-width: 1.5;\"/><line style=\"stroke: #000000; stroke-width: 1.5;\" x1=\"16\" x2=\"117\" y1=\"28.2969\" y2=\"28.2969\"/><text fill=\"#000000\" font-family=\"sans-serif\" font-size=\"14\" font-weight=\"bold\" lengthAdjust=\"spacingAndGlyphs\" textLength=\"88\" x=\"20\" y=\"20.9951\">MassRollup</text></a><!--MD5=[b4997ac47864f28c2f74865a473b2911]\n",
       "class E2--><a href=\"psysml:2bfc4bf5-5785-4629-99c8-bf06d3584a79\" target=\"_top\" title=\"psysml:2bfc4bf5-5785-4629-99c8-bf06d3584a79\" xlink:actuate=\"onRequest\" xlink:href=\"psysml:2bfc4bf5-5785-4629-99c8-bf06d3584a79\" xlink:show=\"new\" xlink:title=\"psysml:2bfc4bf5-5785-4629-99c8-bf06d3584a79\" xlink:type=\"simple\"><rect fill=\"#FFFFFF\" height=\"88.3516\" id=\"E2\" style=\"stroke: #383838; stroke-width: 1.5;\" width=\"88\" x=\"1008\" y=\"143\"/><text fill=\"#000000\" font-family=\"sans-serif\" font-size=\"12\" font-style=\"italic\" lengthAdjust=\"spacingAndGlyphs\" textLength=\"64\" x=\"1020\" y=\"159.1387\">«part def»</text><text fill=\"#000000\" font-family=\"sans-serif\" font-size=\"12\" lengthAdjust=\"spacingAndGlyphs\" textLength=\"82\" x=\"1011\" y=\"173.1074\">MassedThing</text><line style=\"stroke: #383838; stroke-width: 1.5;\" x1=\"1009\" x2=\"1095\" y1=\"180.9375\" y2=\"180.9375\"/><text fill=\"#000000\" font-family=\"sans-serif\" font-size=\"11\" lengthAdjust=\"spacingAndGlyphs\" textLength=\"32\" x=\"1014\" y=\"211.9526\">mass</text><text fill=\"#000000\" font-family=\"sans-serif\" font-size=\"11\" lengthAdjust=\"spacingAndGlyphs\" textLength=\"55\" x=\"1014\" y=\"224.7573\">totalMass</text><line style=\"stroke: #383838; stroke-width: 1.0;\" x1=\"1009\" x2=\"1024.5\" y1=\"195.3398\" y2=\"195.3398\"/><text fill=\"#000000\" font-family=\"sans-serif\" font-size=\"11\" lengthAdjust=\"spacingAndGlyphs\" textLength=\"55\" x=\"1024.5\" y=\"198.6479\">attributes</text><line style=\"stroke: #383838; stroke-width: 1.0;\" x1=\"1079.5\" x2=\"1095\" y1=\"195.3398\" y2=\"195.3398\"/></a><!--MD5=[09b614a08d8cba4a07c9adeb5e0fee81]\n",
       "class E3--><a href=\"psysml:d9d69a25-c21e-4c46-a572-d7b139b6ee26\" target=\"_top\" title=\"psysml:d9d69a25-c21e-4c46-a572-d7b139b6ee26\" xlink:actuate=\"onRequest\" xlink:href=\"psysml:d9d69a25-c21e-4c46-a572-d7b139b6ee26\" xlink:show=\"new\" xlink:title=\"psysml:d9d69a25-c21e-4c46-a572-d7b139b6ee26\" xlink:type=\"simple\"><rect fill=\"#FFFFFF\" height=\"88.3516\" id=\"E3\" rx=\"10\" ry=\"10\" style=\"stroke: #383838; stroke-width: 1.5;\" width=\"172\" x=\"763.5\" y=\"41\"/><text fill=\"#000000\" font-family=\"sans-serif\" font-size=\"12\" font-style=\"italic\" lengthAdjust=\"spacingAndGlyphs\" textLength=\"40\" x=\"829.5\" y=\"57.1387\">«part»</text><text fill=\"#000000\" font-family=\"sans-serif\" font-size=\"12\" lengthAdjust=\"spacingAndGlyphs\" textLength=\"164\" x=\"767.5\" y=\"71.1074\">simpleThing: MassedThing</text><line style=\"stroke: #383838; stroke-width: 1.5;\" x1=\"764.5\" x2=\"934.5\" y1=\"78.9375\" y2=\"78.9375\"/><text fill=\"#000000\" font-family=\"sans-serif\" font-size=\"11\" lengthAdjust=\"spacingAndGlyphs\" textLength=\"100\" x=\"769.5\" y=\"109.9526\">totalMass=mass;</text><text fill=\"#000000\" font-family=\"sans-serif\" font-size=\"11\" font-style=\"italic\" lengthAdjust=\"spacingAndGlyphs\" textLength=\"160\" x=\"769.5\" y=\"122.7573\">:&gt;&gt;MassedThing::totalMass</text><line style=\"stroke: #383838; stroke-width: 1.0;\" x1=\"764.5\" x2=\"822\" y1=\"93.3398\" y2=\"93.3398\"/><text fill=\"#000000\" font-family=\"sans-serif\" font-size=\"11\" lengthAdjust=\"spacingAndGlyphs\" textLength=\"55\" x=\"822\" y=\"96.6479\">attributes</text><line style=\"stroke: #383838; stroke-width: 1.0;\" x1=\"877\" x2=\"934.5\" y1=\"93.3398\" y2=\"93.3398\"/></a><!--MD5=[ebbe1d658d1005bcc118a6aa81145e00]\n",
       "class E4--><a href=\"psysml:343123b1-0808-41d0-8b17-a6ebb6acc0cb\" target=\"_top\" title=\"psysml:343123b1-0808-41d0-8b17-a6ebb6acc0cb\" xlink:actuate=\"onRequest\" xlink:href=\"psysml:343123b1-0808-41d0-8b17-a6ebb6acc0cb\" xlink:show=\"new\" xlink:title=\"psysml:343123b1-0808-41d0-8b17-a6ebb6acc0cb\" xlink:type=\"simple\"><rect fill=\"#FFFFFF\" height=\"101.1563\" id=\"E4\" rx=\"10\" ry=\"10\" style=\"stroke: #383838; stroke-width: 1.5;\" width=\"290\" x=\"401\" y=\"138.5\"/><text fill=\"#000000\" font-family=\"sans-serif\" font-size=\"12\" font-style=\"italic\" lengthAdjust=\"spacingAndGlyphs\" textLength=\"40\" x=\"526\" y=\"154.6387\">«part»</text><text fill=\"#000000\" font-family=\"sans-serif\" font-size=\"12\" lengthAdjust=\"spacingAndGlyphs\" textLength=\"189\" x=\"451.5\" y=\"168.6074\">compositeThing: MassedThing</text><line style=\"stroke: #383838; stroke-width: 1.5;\" x1=\"402\" x2=\"690\" y1=\"176.4375\" y2=\"176.4375\"/><text fill=\"#000000\" font-family=\"sans-serif\" font-size=\"11\" lengthAdjust=\"spacingAndGlyphs\" textLength=\"272\" x=\"407\" y=\"207.4526\">totalMass=mass + (subcomponents-&gt;collect p:</text><text fill=\"#000000\" font-family=\"sans-serif\" font-size=\"11\" lengthAdjust=\"spacingAndGlyphs\" textLength=\"274\" x=\"407\" y=\"220.2573\">MassedThing (p::totalMass)-&gt;reduce '+' ?? 0.0);</text><text fill=\"#000000\" font-family=\"sans-serif\" font-size=\"11\" font-style=\"italic\" lengthAdjust=\"spacingAndGlyphs\" textLength=\"160\" x=\"407\" y=\"233.062\">:&gt;&gt;MassedThing::totalMass</text><line style=\"stroke: #383838; stroke-width: 1.0;\" x1=\"402\" x2=\"518.5\" y1=\"190.8398\" y2=\"190.8398\"/><text fill=\"#000000\" font-family=\"sans-serif\" font-size=\"11\" lengthAdjust=\"spacingAndGlyphs\" textLength=\"55\" x=\"518.5\" y=\"194.1479\">attributes</text><line style=\"stroke: #383838; stroke-width: 1.0;\" x1=\"573.5\" x2=\"690\" y1=\"190.8398\" y2=\"190.8398\"/></a><!--MD5=[270fce915f116d4de14055a7c1d9a0f3]\n",
       "class E5--><a href=\"psysml:09cd1f28-daf0-4d0d-a972-b9bf2a18e992\" target=\"_top\" title=\"psysml:09cd1f28-daf0-4d0d-a972-b9bf2a18e992\" xlink:actuate=\"onRequest\" xlink:href=\"psysml:09cd1f28-daf0-4d0d-a972-b9bf2a18e992\" xlink:show=\"new\" xlink:title=\"psysml:09cd1f28-daf0-4d0d-a972-b9bf2a18e992\" xlink:type=\"simple\"><rect fill=\"#FFFFFF\" height=\"45.9375\" id=\"E5\" rx=\"10\" ry=\"10\" style=\"stroke: #383838; stroke-width: 1.5;\" width=\"197\" x=\"751\" y=\"164\"/><text fill=\"#000000\" font-family=\"sans-serif\" font-size=\"12\" font-style=\"italic\" lengthAdjust=\"spacingAndGlyphs\" textLength=\"40\" x=\"829.5\" y=\"180.1387\">«part»</text><text fill=\"#000000\" font-family=\"sans-serif\" font-size=\"12\" lengthAdjust=\"spacingAndGlyphs\" textLength=\"191\" x=\"754\" y=\"194.1074\">subcomponents: MassedThing</text><line style=\"stroke: #383838; stroke-width: 1.5;\" x1=\"752\" x2=\"947\" y1=\"201.9375\" y2=\"201.9375\"/></a><!--MD5=[60a26617385b1d2d0262a64233df1f8d]\n",
       "class E6--><a href=\"psysml:b3309114-4b2b-46b3-9f4f-dc695177bad1\" target=\"_top\" title=\"psysml:b3309114-4b2b-46b3-9f4f-dc695177bad1\" xlink:actuate=\"onRequest\" xlink:href=\"psysml:b3309114-4b2b-46b3-9f4f-dc695177bad1\" xlink:show=\"new\" xlink:title=\"psysml:b3309114-4b2b-46b3-9f4f-dc695177bad1\" xlink:type=\"simple\"><rect fill=\"#FFFFFF\" height=\"113.9609\" id=\"E6\" rx=\"10\" ry=\"10\" style=\"stroke: #383838; stroke-width: 1.5;\" width=\"309\" x=\"32\" y=\"132\"/><text fill=\"#000000\" font-family=\"sans-serif\" font-size=\"12\" font-style=\"italic\" lengthAdjust=\"spacingAndGlyphs\" textLength=\"40\" x=\"166.5\" y=\"148.1387\">«part»</text><text fill=\"#000000\" font-family=\"sans-serif\" font-size=\"12\" lengthAdjust=\"spacingAndGlyphs\" textLength=\"110\" x=\"131.5\" y=\"162.1074\">filteredMassThing</text><line style=\"stroke: #383838; stroke-width: 1.5;\" x1=\"33\" x2=\"340\" y1=\"169.9375\" y2=\"169.9375\"/><text fill=\"#000000\" font-family=\"sans-serif\" font-size=\"11\" lengthAdjust=\"spacingAndGlyphs\" textLength=\"51\" x=\"38\" y=\"200.9526\">minMass</text><text fill=\"#000000\" font-family=\"sans-serif\" font-size=\"11\" lengthAdjust=\"spacingAndGlyphs\" textLength=\"297\" x=\"38\" y=\"213.7573\">totalMass=(./subcomponents/mass[p (p &gt; minMass</text><text fill=\"#000000\" font-family=\"sans-serif\" font-size=\"11\" lengthAdjust=\"spacingAndGlyphs\" textLength=\"125\" x=\"38\" y=\"226.562\">)])-&gt;reduce '+' ?? 0.0;</text><text fill=\"#000000\" font-family=\"sans-serif\" font-size=\"11\" font-style=\"italic\" lengthAdjust=\"spacingAndGlyphs\" textLength=\"160\" x=\"38\" y=\"239.3667\">:&gt;&gt;MassedThing::totalMass</text><line style=\"stroke: #383838; stroke-width: 1.0;\" x1=\"33\" x2=\"159\" y1=\"184.3398\" y2=\"184.3398\"/><text fill=\"#000000\" font-family=\"sans-serif\" font-size=\"11\" lengthAdjust=\"spacingAndGlyphs\" textLength=\"55\" x=\"159\" y=\"187.6479\">attributes</text><line style=\"stroke: #383838; stroke-width: 1.0;\" x1=\"214\" x2=\"340\" y1=\"184.3398\" y2=\"184.3398\"/></a><!--MD5=[05d275557350bfb9b23a4ef7222b4c39]\n",
       "link E3 to E2--><a href=\"psysml:b7a37c04-3b7e-4fde-bcd3-8ff7c74e6a20\" target=\"_top\" title=\"psysml:b7a37c04-3b7e-4fde-bcd3-8ff7c74e6a20\" xlink:actuate=\"onRequest\" xlink:href=\"psysml:b7a37c04-3b7e-4fde-bcd3-8ff7c74e6a20\" xlink:show=\"new\" xlink:title=\"psysml:b7a37c04-3b7e-4fde-bcd3-8ff7c74e6a20\" xlink:type=\"simple\"><path d=\"M935.53,128.26 C953.77,137.54 972.71,147.17 989.83,155.88 \" fill=\"none\" id=\"E3-&gt;E2\" style=\"stroke: #383838; stroke-width: 1.0;\"/><polygon fill=\"#FFFFFF\" points=\"1007.93,165.09,987.8216,162.7126,994.1704,150.2349,1007.93,165.09\" style=\"stroke: #383838; stroke-width: 1.0;\"/><ellipse cx=\"983.6484\" cy=\"158.3452\" fill=\"#383838\" rx=\"2\" ry=\"2\" style=\"stroke: #383838; stroke-width: 1.0;\"/><ellipse cx=\"988.1832\" cy=\"149.4326\" fill=\"#383838\" rx=\"2\" ry=\"2\" style=\"stroke: #383838; stroke-width: 1.0;\"/></a><!--MD5=[185131fc0dcab0a4505a2ebe144e961b]\n",
       "link E4 to E2--><a href=\"psysml:9348166f-8cea-4d7c-a96d-6192465a705e\" target=\"_top\" title=\"psysml:9348166f-8cea-4d7c-a96d-6192465a705e\" xlink:actuate=\"onRequest\" xlink:href=\"psysml:9348166f-8cea-4d7c-a96d-6192465a705e\" xlink:show=\"new\" xlink:title=\"psysml:9348166f-8cea-4d7c-a96d-6192465a705e\" xlink:type=\"simple\"><path d=\"M691.29,222.84 C768.02,235.86 863.68,244.17 948,228 C961.72,225.37 975.93,220.94 989.26,215.93 \" fill=\"none\" id=\"E4-&gt;E2\" style=\"stroke: #383838; stroke-width: 1.0;\"/><polygon fill=\"#FFFFFF\" points=\"1008,208.34,993.0236,221.9674,987.7621,208.9938,1008,208.34\" style=\"stroke: #383838; stroke-width: 1.0;\"/><ellipse cx=\"986.9898\" cy=\"222.2562\" fill=\"#383838\" rx=\"2\" ry=\"2\" style=\"stroke: #383838; stroke-width: 1.0;\"/><ellipse cx=\"983.2316\" cy=\"212.9893\" fill=\"#383838\" rx=\"2\" ry=\"2\" style=\"stroke: #383838; stroke-width: 1.0;\"/></a><!--MD5=[62aa6af11e70f752912c1cb0466f24f7]\n",
       "reverse link E4 to E5--><a href=\"psysml:94e091d2-0286-4211-8181-aedc46ba16d2\" target=\"_top\" title=\"psysml:94e091d2-0286-4211-8181-aedc46ba16d2\" xlink:actuate=\"onRequest\" xlink:href=\"psysml:94e091d2-0286-4211-8181-aedc46ba16d2\" xlink:show=\"new\" xlink:title=\"psysml:94e091d2-0286-4211-8181-aedc46ba16d2\" xlink:type=\"simple\"><path d=\"M704.45,187.96 C720.3,187.85 736.05,187.75 751,187.65 \" fill=\"none\" id=\"E4&lt;-E5\" style=\"stroke: #383838; stroke-width: 1.0;\"/><polygon fill=\"#383838\" points=\"691.13,188.04,697.1562,192.0004,703.1297,187.9609,697.1035,184.0005,691.13,188.04\" style=\"stroke: #383838; stroke-width: 1.0;\"/><text fill=\"#000000\" font-family=\"sans-serif\" font-size=\"13\" lengthAdjust=\"spacingAndGlyphs\" textLength=\"7\" x=\"735.8719\" y=\"200.3741\">*</text></a><!--MD5=[15ebcb19ae302d9b601edb458606d402]\n",
       "link E5 to E2--><a href=\"psysml:dc08c53a-a0f0-4000-a138-cf80983e3afa\" target=\"_top\" title=\"psysml:dc08c53a-a0f0-4000-a138-cf80983e3afa\" xlink:actuate=\"onRequest\" xlink:href=\"psysml:dc08c53a-a0f0-4000-a138-cf80983e3afa\" xlink:show=\"new\" xlink:title=\"psysml:dc08c53a-a0f0-4000-a138-cf80983e3afa\" xlink:type=\"simple\"><path d=\"M948.11,187 C961.57,187 975.09,187 987.71,187 \" fill=\"none\" id=\"E5-&gt;E2\" style=\"stroke: #383838; stroke-width: 1.0;\"/><polygon fill=\"#FFFFFF\" points=\"1007.92,187,988.92,194,988.92,180,1007.92,187\" style=\"stroke: #383838; stroke-width: 1.0;\"/><ellipse cx=\"983.22\" cy=\"192\" fill=\"#383838\" rx=\"2\" ry=\"2\" style=\"stroke: #383838; stroke-width: 1.0;\"/><ellipse cx=\"983.22\" cy=\"182\" fill=\"#383838\" rx=\"2\" ry=\"2\" style=\"stroke: #383838; stroke-width: 1.0;\"/></a><!--MD5=[f667431f98296947986a1a7595a31603]\n",
       "link E6 to E4--><a href=\"psysml:b31b3f2c-80ab-44f0-a26e-d801559af683\" target=\"_top\" title=\"psysml:b31b3f2c-80ab-44f0-a26e-d801559af683\" xlink:actuate=\"onRequest\" xlink:href=\"psysml:b31b3f2c-80ab-44f0-a26e-d801559af683\" xlink:show=\"new\" xlink:title=\"psysml:b31b3f2c-80ab-44f0-a26e-d801559af683\" xlink:type=\"simple\"><path d=\"M341.19,189 C354.17,189 367.32,189 380.38,189 \" fill=\"none\" id=\"E6-&gt;E4\" style=\"stroke: #383838; stroke-width: 1.0;\"/><polygon fill=\"none\" points=\"380.77,182,400.77,189,380.77,196,380.77,182\" style=\"stroke: #383838; stroke-width: 1.0;\"/></a><!--MD5=[772acb4092c901ec14640d0733597626]\n",
       "@startuml\r\n",
       "left to right direction\r\n",
       "skinparam monochrome true\r\n",
       "skinparam classbackgroundcolor white\r\n",
       "skinparam shadowing false\r\n",
       "skinparam wrapWidth 300\r\n",
       "hide circle\r\n",
       "\r\n",
       "package \"MassRollup\" as E1  [[psysml:93cce498-741b-46da-9a76-47f8a90b0e87 ]]  {\r\n",
       "comp def \"MassedThing\" as E2  <<(T,blue)part def>> [[psysml:2bfc4bf5-5785-4629-99c8-bf06d3584a79 ]] {\r\n",
       "- - attributes - -\r\n",
       "mass\r\n",
       "totalMass\r\n",
       "}\r\n",
       "comp usage \"simpleThing: MassedThing\" as E3  <<(T,blue)part>> [[psysml:d9d69a25-c21e-4c46-a572-d7b139b6ee26 ]] {\r\n",
       "- - attributes - -\r\n",
       "totalMass=mass; \\n//:>>MassedThing::totalMass// \r\n",
       "}\r\n",
       "comp usage \"compositeThing: MassedThing\" as E4  <<(T,blue)part>> [[psysml:343123b1-0808-41d0-8b17-a6ebb6acc0cb ]] {\r\n",
       "- - attributes - -\r\n",
       "totalMass=mass + (subcomponents->collect p:MassedThing (p::totalMass)->reduce '+' ?? 0.0); \\n//:>>MassedThing::totalMass// \r\n",
       "}\r\n",
       "comp usage \"subcomponents: MassedThing\" as E5  <<(T,blue)part>> [[psysml:09cd1f28-daf0-4d0d-a972-b9bf2a18e992 ]] {\r\n",
       "}\r\n",
       "comp usage \"filteredMassThing\" as E6  <<(T,blue)part>> [[psysml:b3309114-4b2b-46b3-9f4f-dc695177bad1 ]] {\r\n",
       "- - attributes - -\r\n",
       "minMass\r\n",
       "totalMass=(./subcomponents/mass[p (p > minMass)])->reduce '+' ?? 0.0; \\n//:>>MassedThing::totalMass// \r\n",
       "}\r\n",
       "E3 - -:|> E2 [[psysml:b7a37c04-3b7e-4fde-bcd3-8ff7c74e6a20 ]] \r\n",
       "E4 - -:|> E2 [[psysml:9348166f-8cea-4d7c-a96d-6192465a705e ]] \r\n",
       "E4 *- - \"*\"E5 [[psysml:94e091d2-0286-4211-8181-aedc46ba16d2 ]] \r\n",
       "E5 - -:|> E2 [[psysml:dc08c53a-a0f0-4000-a138-cf80983e3afa ]] \r\n",
       "E6 - -|> E4 [[psysml:b31b3f2c-80ab-44f0-a26e-d801559af683 ]] \r\n",
       "}\r\n",
       "@enduml\r\n",
       "\n",
       "PlantUML version 1.2020.13(Sat Jun 13 12:26:38 UTC 2020)\n",
       "(EPL source distribution)\n",
       "Java Runtime: OpenJDK Runtime Environment\n",
       "JVM: OpenJDK 64-Bit Server VM\n",
       "Default Encoding: UTF-8\n",
       "Language: en\n",
       "Country: null\n",
       "--></g></svg>"
      ]
     },
     "execution_count": 17,
     "metadata": {},
     "output_type": "execute_result"
    }
   ],
   "source": [
    "%viz --style=\"LR\" --view=\"Tree\" \"MassRollup\""
   ]
  },
  {
   "cell_type": "code",
   "execution_count": 18,
   "id": "295f9e0d",
   "metadata": {
    "execution": {
     "iopub.execute_input": "2021-04-20T07:26:56.096995Z",
     "iopub.status.busy": "2021-04-20T07:26:56.096441Z",
     "iopub.status.idle": "2021-04-20T07:26:56.103729Z",
     "shell.execute_reply": "2021-04-20T07:26:56.103051Z"
    }
   },
   "outputs": [
    {
     "data": {
      "image/svg+xml": [
       "<?xml version=\"1.0\" encoding=\"UTF-8\" standalone=\"no\"?><svg xmlns=\"http://www.w3.org/2000/svg\" xmlns:xlink=\"http://www.w3.org/1999/xlink\" contentScriptType=\"application/ecmascript\" contentStyleType=\"text/css\" height=\"12px\" preserveAspectRatio=\"none\" style=\"width:12px;height:12px;\" version=\"1.1\" viewBox=\"0 0 12 12\" width=\"12px\" zoomAndPan=\"magnify\"><defs/><g><!--MD5=[19d285c9d72a204eba4e2cd117d745e8]\n",
       "@startuml\r\n",
       "left to right direction\r\n",
       "skinparam monochrome true\r\n",
       "skinparam classbackgroundcolor white\r\n",
       "skinparam shadowing false\r\n",
       "skinparam wrapWidth 300\r\n",
       "hide circle\r\n",
       "\r\n",
       "@enduml\r\n",
       "\n",
       "PlantUML version 1.2020.13(Sat Jun 13 12:26:38 UTC 2020)\n",
       "(EPL source distribution)\n",
       "Java Runtime: OpenJDK Runtime Environment\n",
       "JVM: OpenJDK 64-Bit Server VM\n",
       "Default Encoding: UTF-8\n",
       "Language: en\n",
       "Country: null\n",
       "--></g></svg>"
      ]
     },
     "execution_count": 18,
     "metadata": {},
     "output_type": "execute_result"
    }
   ],
   "source": [
    "%viz --style=\"LR\" --view=\"State\" \"MassRollup\""
   ]
  },
  {
   "cell_type": "code",
   "execution_count": 19,
   "id": "a06b8cf1",
   "metadata": {
    "execution": {
     "iopub.execute_input": "2021-04-20T07:26:56.155899Z",
     "iopub.status.busy": "2021-04-20T07:26:56.154789Z",
     "iopub.status.idle": "2021-04-20T07:26:56.244274Z",
     "shell.execute_reply": "2021-04-20T07:26:56.244902Z"
    }
   },
   "outputs": [
    {
     "data": {
      "image/svg+xml": [
       "<?xml version=\"1.0\" encoding=\"UTF-8\" standalone=\"no\"?><svg xmlns=\"http://www.w3.org/2000/svg\" xmlns:xlink=\"http://www.w3.org/1999/xlink\" contentScriptType=\"application/ecmascript\" contentStyleType=\"text/css\" height=\"580px\" preserveAspectRatio=\"none\" style=\"width:555px;height:580px;\" version=\"1.1\" viewBox=\"0 0 555 580\" width=\"555px\" zoomAndPan=\"magnify\"><defs/><g><!--MD5=[fbc87193dbaf4d95561dea2c320d4a47]\n",
       "cluster E1--><a href=\"psysml:93cce498-741b-46da-9a76-47f8a90b0e87\" target=\"_top\" title=\"psysml:93cce498-741b-46da-9a76-47f8a90b0e87\" xlink:actuate=\"onRequest\" xlink:href=\"psysml:93cce498-741b-46da-9a76-47f8a90b0e87\" xlink:show=\"new\" xlink:title=\"psysml:93cce498-741b-46da-9a76-47f8a90b0e87\" xlink:type=\"simple\"><polygon fill=\"#FFFFFF\" points=\"16,6,110,6,117,28.2969,533,28.2969,533,568,16,568,16,6\" style=\"stroke: #000000; stroke-width: 1.5;\"/><line style=\"stroke: #000000; stroke-width: 1.5;\" x1=\"16\" x2=\"117\" y1=\"28.2969\" y2=\"28.2969\"/><text fill=\"#000000\" font-family=\"sans-serif\" font-size=\"14\" font-weight=\"bold\" lengthAdjust=\"spacingAndGlyphs\" textLength=\"88\" x=\"20\" y=\"20.9951\">MassRollup</text></a><!--MD5=[e4f7fae6ed58524ba242bb0b0d3be6b7]\n",
       "cluster E2--><a href=\"psysml:2bfc4bf5-5785-4629-99c8-bf06d3584a79\" target=\"_top\" title=\"psysml:2bfc4bf5-5785-4629-99c8-bf06d3584a79\" xlink:actuate=\"onRequest\" xlink:href=\"psysml:2bfc4bf5-5785-4629-99c8-bf06d3584a79\" xlink:show=\"new\" xlink:title=\"psysml:2bfc4bf5-5785-4629-99c8-bf06d3584a79\" xlink:type=\"simple\"><rect fill=\"#FFFFFF\" height=\"194\" id=\"E2\" style=\"stroke: #383838; stroke-width: 1.5;\" width=\"120\" x=\"389\" y=\"73\"/><rect fill=\"#F8F8F8\" height=\"37.9375\" style=\"stroke: #383838; stroke-width: 1.5;\" width=\"120\" x=\"389\" y=\"73\"/><text fill=\"#000000\" font-family=\"sans-serif\" font-size=\"12\" font-style=\"italic\" lengthAdjust=\"spacingAndGlyphs\" textLength=\"64\" x=\"417\" y=\"89.1387\">«part def»</text><text fill=\"#000000\" font-family=\"sans-serif\" font-size=\"12\" lengthAdjust=\"spacingAndGlyphs\" textLength=\"82\" x=\"408\" y=\"103.1074\">MassedThing</text></a><!--MD5=[de5ec2e2e8f62f467e546659f5068c88]\n",
       "cluster E5--><a href=\"psysml:d9d69a25-c21e-4c46-a572-d7b139b6ee26\" target=\"_top\" title=\"psysml:d9d69a25-c21e-4c46-a572-d7b139b6ee26\" xlink:actuate=\"onRequest\" xlink:href=\"psysml:d9d69a25-c21e-4c46-a572-d7b139b6ee26\" xlink:show=\"new\" xlink:title=\"psysml:d9d69a25-c21e-4c46-a572-d7b139b6ee26\" xlink:type=\"simple\"><rect fill=\"#FFFFFF\" height=\"97\" id=\"E5\" rx=\"10\" ry=\"10\" style=\"stroke: #383838; stroke-width: 1.5;\" width=\"226\" x=\"55.5\" y=\"49\"/><rect fill=\"#F8F8F8\" height=\"23.9688\" rx=\"10\" ry=\"10\" style=\"stroke: #F8F8F8; stroke-width: 1.5;\" width=\"226\" x=\"55.5\" y=\"49\"/><rect fill=\"#F8F8F8\" height=\"10\" style=\"stroke: #F8F8F8; stroke-width: 1.5;\" width=\"226\" x=\"55.5\" y=\"62.9688\"/><rect fill=\"none\" height=\"97\" id=\"E5\" rx=\"10\" ry=\"10\" style=\"stroke: #383838; stroke-width: 1.5;\" width=\"226\" x=\"55.5\" y=\"49\"/><text fill=\"#000000\" font-family=\"sans-serif\" font-size=\"12\" lengthAdjust=\"spacingAndGlyphs\" textLength=\"164\" x=\"86.5\" y=\"65.1387\">simpleThing: MassedThing</text><line style=\"stroke: #383838; stroke-width: 1.0;\" x1=\"55.5\" x2=\"281.5\" y1=\"72.9688\" y2=\"72.9688\"/></a><!--MD5=[168fadf3d0c3fd93dd5d6da1b1d7ab76]\n",
       "cluster E7--><a href=\"psysml:343123b1-0808-41d0-8b17-a6ebb6acc0cb\" target=\"_top\" title=\"psysml:343123b1-0808-41d0-8b17-a6ebb6acc0cb\" xlink:actuate=\"onRequest\" xlink:href=\"psysml:343123b1-0808-41d0-8b17-a6ebb6acc0cb\" xlink:show=\"new\" xlink:title=\"psysml:343123b1-0808-41d0-8b17-a6ebb6acc0cb\" xlink:type=\"simple\"><rect fill=\"#FFFFFF\" height=\"172\" id=\"E7\" rx=\"10\" ry=\"10\" style=\"stroke: #383838; stroke-width: 1.5;\" width=\"257\" x=\"40\" y=\"170\"/><rect fill=\"#F8F8F8\" height=\"23.9688\" rx=\"10\" ry=\"10\" style=\"stroke: #F8F8F8; stroke-width: 1.5;\" width=\"257\" x=\"40\" y=\"170\"/><rect fill=\"#F8F8F8\" height=\"10\" style=\"stroke: #F8F8F8; stroke-width: 1.5;\" width=\"257\" x=\"40\" y=\"183.9688\"/><rect fill=\"none\" height=\"172\" id=\"E7\" rx=\"10\" ry=\"10\" style=\"stroke: #383838; stroke-width: 1.5;\" width=\"257\" x=\"40\" y=\"170\"/><text fill=\"#000000\" font-family=\"sans-serif\" font-size=\"12\" lengthAdjust=\"spacingAndGlyphs\" textLength=\"189\" x=\"74\" y=\"186.1387\">compositeThing: MassedThing</text><line style=\"stroke: #383838; stroke-width: 1.0;\" x1=\"40\" x2=\"297\" y1=\"193.9688\" y2=\"193.9688\"/></a><!--MD5=[a84b4591f868c1fa4a211716a82f2f0d]\n",
       "cluster E10--><a href=\"psysml:b3309114-4b2b-46b3-9f4f-dc695177bad1\" target=\"_top\" title=\"psysml:b3309114-4b2b-46b3-9f4f-dc695177bad1\" xlink:actuate=\"onRequest\" xlink:href=\"psysml:b3309114-4b2b-46b3-9f4f-dc695177bad1\" xlink:show=\"new\" xlink:title=\"psysml:b3309114-4b2b-46b3-9f4f-dc695177bad1\" xlink:type=\"simple\"><rect fill=\"#FFFFFF\" height=\"178\" id=\"E10\" rx=\"10\" ry=\"10\" style=\"stroke: #383838; stroke-width: 1.5;\" width=\"157\" x=\"89.5\" y=\"366\"/><rect fill=\"#F8F8F8\" height=\"23.9688\" rx=\"10\" ry=\"10\" style=\"stroke: #F8F8F8; stroke-width: 1.5;\" width=\"157\" x=\"89.5\" y=\"366\"/><rect fill=\"#F8F8F8\" height=\"10\" style=\"stroke: #F8F8F8; stroke-width: 1.5;\" width=\"157\" x=\"89.5\" y=\"379.9688\"/><rect fill=\"none\" height=\"178\" id=\"E10\" rx=\"10\" ry=\"10\" style=\"stroke: #383838; stroke-width: 1.5;\" width=\"157\" x=\"89.5\" y=\"366\"/><text fill=\"#000000\" font-family=\"sans-serif\" font-size=\"12\" lengthAdjust=\"spacingAndGlyphs\" textLength=\"110\" x=\"113\" y=\"382.1387\">filteredMassThing</text><line style=\"stroke: #383838; stroke-width: 1.0;\" x1=\"89.5\" x2=\"246.5\" y1=\"389.9688\" y2=\"389.9688\"/></a><!--MD5=[09b614a08d8cba4a07c9adeb5e0fee81]\n",
       "class E3--><a href=\"psysml:61227fbe-a3c3-436a-919d-ba064597e112\" target=\"_top\" title=\"psysml:61227fbe-a3c3-436a-919d-ba064597e112\" xlink:actuate=\"onRequest\" xlink:href=\"psysml:61227fbe-a3c3-436a-919d-ba064597e112\" xlink:show=\"new\" xlink:title=\"psysml:61227fbe-a3c3-436a-919d-ba064597e112\" xlink:type=\"simple\"><rect fill=\"#FFFFFF\" height=\"45.9375\" id=\"E3\" rx=\"10\" ry=\"10\" style=\"stroke: #383838; stroke-width: 1.5;\" width=\"71\" x=\"413\" y=\"124\"/><text fill=\"#000000\" font-family=\"sans-serif\" font-size=\"12\" font-style=\"italic\" lengthAdjust=\"spacingAndGlyphs\" textLength=\"69\" x=\"414\" y=\"140.1387\">«attribute»</text><text fill=\"#000000\" font-family=\"sans-serif\" font-size=\"12\" lengthAdjust=\"spacingAndGlyphs\" textLength=\"33\" x=\"432\" y=\"154.1074\">mass</text><line style=\"stroke: #383838; stroke-width: 1.5;\" x1=\"414\" x2=\"483\" y1=\"161.9375\" y2=\"161.9375\"/></a><!--MD5=[ebbe1d658d1005bcc118a6aa81145e00]\n",
       "class E4--><a href=\"psysml:bca4197d-355d-4faa-812b-dbfc0b076639\" target=\"_top\" title=\"psysml:bca4197d-355d-4faa-812b-dbfc0b076639\" xlink:actuate=\"onRequest\" xlink:href=\"psysml:bca4197d-355d-4faa-812b-dbfc0b076639\" xlink:show=\"new\" xlink:title=\"psysml:bca4197d-355d-4faa-812b-dbfc0b076639\" xlink:type=\"simple\"><rect fill=\"#FFFFFF\" height=\"45.9375\" id=\"E4\" rx=\"10\" ry=\"10\" style=\"stroke: #383838; stroke-width: 1.5;\" width=\"71\" x=\"413\" y=\"205\"/><text fill=\"#000000\" font-family=\"sans-serif\" font-size=\"12\" font-style=\"italic\" lengthAdjust=\"spacingAndGlyphs\" textLength=\"69\" x=\"414\" y=\"221.1387\">«attribute»</text><text fill=\"#000000\" font-family=\"sans-serif\" font-size=\"12\" lengthAdjust=\"spacingAndGlyphs\" textLength=\"61\" x=\"418\" y=\"235.1074\">totalMass</text><line style=\"stroke: #383838; stroke-width: 1.5;\" x1=\"414\" x2=\"483\" y1=\"242.9375\" y2=\"242.9375\"/></a><!--MD5=[60a26617385b1d2d0262a64233df1f8d]\n",
       "class E6--><a href=\"psysml:5dd4dd8f-7a34-4faa-ae4e-b0f44a463cf1\" target=\"_top\" title=\"psysml:5dd4dd8f-7a34-4faa-ae4e-b0f44a463cf1\" xlink:actuate=\"onRequest\" xlink:href=\"psysml:5dd4dd8f-7a34-4faa-ae4e-b0f44a463cf1\" xlink:show=\"new\" xlink:title=\"psysml:5dd4dd8f-7a34-4faa-ae4e-b0f44a463cf1\" xlink:type=\"simple\"><rect fill=\"#FFFFFF\" height=\"45.9375\" id=\"E6\" rx=\"10\" ry=\"10\" style=\"stroke: #383838; stroke-width: 1.5;\" width=\"71\" x=\"132.5\" y=\"84\"/><text fill=\"#000000\" font-family=\"sans-serif\" font-size=\"12\" font-style=\"italic\" lengthAdjust=\"spacingAndGlyphs\" textLength=\"69\" x=\"133.5\" y=\"100.1387\">«attribute»</text><text fill=\"#000000\" font-family=\"sans-serif\" font-size=\"12\" lengthAdjust=\"spacingAndGlyphs\" textLength=\"61\" x=\"137.5\" y=\"114.1074\">totalMass</text><line style=\"stroke: #383838; stroke-width: 1.5;\" x1=\"133.5\" x2=\"202.5\" y1=\"121.9375\" y2=\"121.9375\"/></a><!--MD5=[fd4143e9d270a159db93a4ea2a975926]\n",
       "class E9--><a href=\"psysml:cdf15466-8892-46e6-adfe-254829aa90b9\" target=\"_top\" title=\"psysml:cdf15466-8892-46e6-adfe-254829aa90b9\" xlink:actuate=\"onRequest\" xlink:href=\"psysml:cdf15466-8892-46e6-adfe-254829aa90b9\" xlink:show=\"new\" xlink:title=\"psysml:cdf15466-8892-46e6-adfe-254829aa90b9\" xlink:type=\"simple\"><rect fill=\"#FFFFFF\" height=\"45.9375\" id=\"E9\" rx=\"10\" ry=\"10\" style=\"stroke: #383838; stroke-width: 1.5;\" width=\"71\" x=\"132.5\" y=\"205\"/><text fill=\"#000000\" font-family=\"sans-serif\" font-size=\"12\" font-style=\"italic\" lengthAdjust=\"spacingAndGlyphs\" textLength=\"69\" x=\"133.5\" y=\"221.1387\">«attribute»</text><text fill=\"#000000\" font-family=\"sans-serif\" font-size=\"12\" lengthAdjust=\"spacingAndGlyphs\" textLength=\"61\" x=\"137.5\" y=\"235.1074\">totalMass</text><line style=\"stroke: #383838; stroke-width: 1.5;\" x1=\"133.5\" x2=\"202.5\" y1=\"242.9375\" y2=\"242.9375\"/></a><g id=\"E1.E7.E8\"><a href=\"psysml:09cd1f28-daf0-4d0d-a972-b9bf2a18e992\" target=\"_top\" title=\"psysml:09cd1f28-daf0-4d0d-a972-b9bf2a18e992\" xlink:actuate=\"onRequest\" xlink:href=\"psysml:09cd1f28-daf0-4d0d-a972-b9bf2a18e992\" xlink:show=\"new\" xlink:title=\"psysml:09cd1f28-daf0-4d0d-a972-b9bf2a18e992\" xlink:type=\"simple\"><rect fill=\"#FFFFFF\" height=\"40\" id=\"E8\" rx=\"10\" ry=\"10\" style=\"stroke: #383838; stroke-width: 1.5;\" width=\"202\" x=\"67\" y=\"286\"/><rect fill=\"#F8F8F8\" height=\"23.9688\" rx=\"10\" ry=\"10\" style=\"stroke: #F8F8F8; stroke-width: 1.5;\" width=\"202\" x=\"67\" y=\"286\"/><rect fill=\"#F8F8F8\" height=\"10\" style=\"stroke: #F8F8F8; stroke-width: 1.5;\" width=\"202\" x=\"67\" y=\"299.9688\"/><rect fill=\"none\" height=\"40\" id=\"E8\" rx=\"10\" ry=\"10\" style=\"stroke: #383838; stroke-width: 1.5;\" width=\"202\" x=\"67\" y=\"286\"/><text fill=\"#000000\" font-family=\"sans-serif\" font-size=\"12\" lengthAdjust=\"spacingAndGlyphs\" textLength=\"191\" x=\"72.5\" y=\"302.1387\">subcomponents: MassedThing</text></a></g><!--MD5=[1dd1bfd58a279cf63c5f349dbc8fc6a1]\n",
       "class E11--><a href=\"psysml:a48dd455-5237-4be3-af61-27e5094ede20\" target=\"_top\" title=\"psysml:a48dd455-5237-4be3-af61-27e5094ede20\" xlink:actuate=\"onRequest\" xlink:href=\"psysml:a48dd455-5237-4be3-af61-27e5094ede20\" xlink:show=\"new\" xlink:title=\"psysml:a48dd455-5237-4be3-af61-27e5094ede20\" xlink:type=\"simple\"><rect fill=\"#FFFFFF\" height=\"45.9375\" id=\"E11\" rx=\"10\" ry=\"10\" style=\"stroke: #383838; stroke-width: 1.5;\" width=\"71\" x=\"132.5\" y=\"401\"/><text fill=\"#000000\" font-family=\"sans-serif\" font-size=\"12\" font-style=\"italic\" lengthAdjust=\"spacingAndGlyphs\" textLength=\"69\" x=\"133.5\" y=\"417.1387\">«attribute»</text><text fill=\"#000000\" font-family=\"sans-serif\" font-size=\"12\" lengthAdjust=\"spacingAndGlyphs\" textLength=\"54\" x=\"141\" y=\"431.1074\">minMass</text><line style=\"stroke: #383838; stroke-width: 1.5;\" x1=\"133.5\" x2=\"202.5\" y1=\"438.9375\" y2=\"438.9375\"/></a><!--MD5=[49a0ec8f00dab7302a31f22d0f0fe584]\n",
       "class E12--><a href=\"psysml:30a4b720-38dc-4ed2-81db-b244fb944fc9\" target=\"_top\" title=\"psysml:30a4b720-38dc-4ed2-81db-b244fb944fc9\" xlink:actuate=\"onRequest\" xlink:href=\"psysml:30a4b720-38dc-4ed2-81db-b244fb944fc9\" xlink:show=\"new\" xlink:title=\"psysml:30a4b720-38dc-4ed2-81db-b244fb944fc9\" xlink:type=\"simple\"><rect fill=\"#FFFFFF\" height=\"45.9375\" id=\"E12\" rx=\"10\" ry=\"10\" style=\"stroke: #383838; stroke-width: 1.5;\" width=\"71\" x=\"132.5\" y=\"482\"/><text fill=\"#000000\" font-family=\"sans-serif\" font-size=\"12\" font-style=\"italic\" lengthAdjust=\"spacingAndGlyphs\" textLength=\"69\" x=\"133.5\" y=\"498.1387\">«attribute»</text><text fill=\"#000000\" font-family=\"sans-serif\" font-size=\"12\" lengthAdjust=\"spacingAndGlyphs\" textLength=\"61\" x=\"137.5\" y=\"512.1074\">totalMass</text><line style=\"stroke: #383838; stroke-width: 1.5;\" x1=\"133.5\" x2=\"202.5\" y1=\"519.9375\" y2=\"519.9375\"/></a><!--MD5=[f667431f98296947986a1a7595a31603]\n",
       "link E6 to E4--><a href=\"psysml:45db29a4-a6b7-4500-b8a0-ae6511957b42\" target=\"_top\" title=\"psysml:45db29a4-a6b7-4500-b8a0-ae6511957b42\" xlink:actuate=\"onRequest\" xlink:href=\"psysml:45db29a4-a6b7-4500-b8a0-ae6511957b42\" xlink:show=\"new\" xlink:title=\"psysml:45db29a4-a6b7-4500-b8a0-ae6511957b42\" xlink:type=\"simple\"><path d=\"M203.71,122.08 C251.58,142.88 338.29,180.55 394.35,204.91 \" fill=\"none\" id=\"E6-&gt;E4\" style=\"stroke: #383838; stroke-width: 1.0;\"/><polygon fill=\"#FFFFFF\" points=\"412.79,212.92,392.5744,211.7671,398.1544,198.9272,412.79,212.92\" style=\"stroke: #383838; stroke-width: 1.0;\"/><line style=\"stroke: #383838; stroke-width: 2.0;\" x1=\"389.0893\" x2=\"394.6692\" y1=\"210.2526\" y2=\"197.4127\"/></a><!--MD5=[c2be97adba6ddfe1c8f349fab141c927]\n",
       "link E9 to E4--><a href=\"psysml:37d702c0-130d-4d04-819a-f2439f71afff\" target=\"_top\" title=\"psysml:37d702c0-130d-4d04-819a-f2439f71afff\" xlink:actuate=\"onRequest\" xlink:href=\"psysml:37d702c0-130d-4d04-819a-f2439f71afff\" xlink:show=\"new\" xlink:title=\"psysml:37d702c0-130d-4d04-819a-f2439f71afff\" xlink:type=\"simple\"><path d=\"M203.71,228 C251.06,228 336.4,228 392.51,228 \" fill=\"none\" id=\"E9-&gt;E4\" style=\"stroke: #383838; stroke-width: 1.0;\"/><polygon fill=\"#FFFFFF\" points=\"412.79,228,393.79,235,393.79,221,412.79,228\" style=\"stroke: #383838; stroke-width: 1.0;\"/><line style=\"stroke: #383838; stroke-width: 2.0;\" x1=\"389.99\" x2=\"389.99\" y1=\"235\" y2=\"221\"/></a><!--MD5=[8eb720c440db06832f98fefdd34bbf11]\n",
       "link E12 to E4--><a href=\"psysml:c9530ed5-65d1-46ac-ab61-a00231b23eba\" target=\"_top\" title=\"psysml:c9530ed5-65d1-46ac-ab61-a00231b23eba\" xlink:actuate=\"onRequest\" xlink:href=\"psysml:c9530ed5-65d1-46ac-ab61-a00231b23eba\" xlink:show=\"new\" xlink:title=\"psysml:c9530ed5-65d1-46ac-ab61-a00231b23eba\" xlink:type=\"simple\"><path d=\"M203.73,501.54 C233.28,497.06 275.49,486.91 305,464 C370.41,413.21 412.5,323.26 432.91,270.29 \" fill=\"none\" id=\"E12-&gt;E4\" style=\"stroke: #383838; stroke-width: 1.0;\"/><polygon fill=\"#FFFFFF\" points=\"439.9,251.33,439.9014,271.5785,426.7643,266.7395,439.9,251.33\" style=\"stroke: #383838; stroke-width: 1.0;\"/><line style=\"stroke: #383838; stroke-width: 2.0;\" x1=\"438.588\" x2=\"425.4509\" y1=\"275.1443\" y2=\"270.3053\"/></a><!--MD5=[68f582bceb5f9dfe0713391eb5b0c574]\n",
       "@startuml\r\n",
       "skinparam ranksep 10\r\n",
       "skinparam rectangle {\r\n",
       " backgroundColor<<block>> LightGreen\r\n",
       "}\r\n",
       "left to right direction\r\n",
       "skinparam monochrome true\r\n",
       "skinparam classbackgroundcolor white\r\n",
       "skinparam shadowing false\r\n",
       "skinparam wrapWidth 300\r\n",
       "hide circle\r\n",
       "\r\n",
       "package \"MassRollup\" as E1  [[psysml:93cce498-741b-46da-9a76-47f8a90b0e87 ]]  {\r\n",
       "rec def \"MassedThing\" as E2  <<(T,blue)part def>> [[psysml:2bfc4bf5-5785-4629-99c8-bf06d3584a79 ]] {\r\n",
       "comp usage \"mass\" as E3  <<(T,blue)attribute>> [[psysml:61227fbe-a3c3-436a-919d-ba064597e112 ]] {\r\n",
       "}\r\n",
       "comp usage \"totalMass\" as E4  <<(T,blue)attribute>> [[psysml:bca4197d-355d-4faa-812b-dbfc0b076639 ]] {\r\n",
       "}\r\n",
       "}\r\n",
       "rec usage \"simpleThing: MassedThing\" as E5  [[psysml:d9d69a25-c21e-4c46-a572-d7b139b6ee26 ]] {\r\n",
       "comp usage \"totalMass\" as E6  <<(T,blue)attribute>> [[psysml:5dd4dd8f-7a34-4faa-ae4e-b0f44a463cf1 ]] {\r\n",
       "}\r\n",
       "}\r\n",
       "rec usage \"compositeThing: MassedThing\" as E7  [[psysml:343123b1-0808-41d0-8b17-a6ebb6acc0cb ]] {\r\n",
       "rec usage \"subcomponents: MassedThing\" as E8  [[psysml:09cd1f28-daf0-4d0d-a972-b9bf2a18e992 ]] {\r\n",
       "}\r\n",
       "comp usage \"totalMass\" as E9  <<(T,blue)attribute>> [[psysml:cdf15466-8892-46e6-adfe-254829aa90b9 ]] {\r\n",
       "}\r\n",
       "}\r\n",
       "rec usage \"filteredMassThing\" as E10  [[psysml:b3309114-4b2b-46b3-9f4f-dc695177bad1 ]] {\r\n",
       "comp usage \"minMass\" as E11  <<(T,blue)attribute>> [[psysml:a48dd455-5237-4be3-af61-27e5094ede20 ]] {\r\n",
       "}\r\n",
       "comp usage \"totalMass\" as E12  <<(T,blue)attribute>> [[psysml:30a4b720-38dc-4ed2-81db-b244fb944fc9 ]] {\r\n",
       "}\r\n",
       "}\r\n",
       "E6 - -||> E4 [[psysml:45db29a4-a6b7-4500-b8a0-ae6511957b42 ]] \r\n",
       "E9 - -||> E4 [[psysml:37d702c0-130d-4d04-819a-f2439f71afff ]] \r\n",
       "E12 - -||> E4 [[psysml:c9530ed5-65d1-46ac-ab61-a00231b23eba ]] \r\n",
       "}\r\n",
       "@enduml\r\n",
       "\n",
       "PlantUML version 1.2020.13(Sat Jun 13 12:26:38 UTC 2020)\n",
       "(EPL source distribution)\n",
       "Java Runtime: OpenJDK Runtime Environment\n",
       "JVM: OpenJDK 64-Bit Server VM\n",
       "Default Encoding: UTF-8\n",
       "Language: en\n",
       "Country: null\n",
       "--></g></svg>"
      ]
     },
     "execution_count": 19,
     "metadata": {},
     "output_type": "execute_result"
    }
   ],
   "source": [
    "%viz --style=\"LR\" --view=\"Interconnection\" \"MassRollup\""
   ]
  },
  {
   "cell_type": "code",
   "execution_count": 20,
   "id": "a95340e9",
   "metadata": {
    "execution": {
     "iopub.execute_input": "2021-04-20T07:26:56.294681Z",
     "iopub.status.busy": "2021-04-20T07:26:56.293879Z",
     "iopub.status.idle": "2021-04-20T07:26:56.301716Z",
     "shell.execute_reply": "2021-04-20T07:26:56.301328Z"
    }
   },
   "outputs": [
    {
     "data": {
      "image/svg+xml": [
       "<?xml version=\"1.0\" encoding=\"UTF-8\" standalone=\"no\"?><svg xmlns=\"http://www.w3.org/2000/svg\" xmlns:xlink=\"http://www.w3.org/1999/xlink\" contentScriptType=\"application/ecmascript\" contentStyleType=\"text/css\" height=\"12px\" preserveAspectRatio=\"none\" style=\"width:12px;height:12px;\" version=\"1.1\" viewBox=\"0 0 12 12\" width=\"12px\" zoomAndPan=\"magnify\"><defs/><g><!--MD5=[7aeb398939421629f6affaa4a1a7b125]\n",
       "@startuml\r\n",
       "skinparam ranksep 8\r\n",
       "left to right direction\r\n",
       "skinparam monochrome true\r\n",
       "skinparam classbackgroundcolor white\r\n",
       "skinparam shadowing false\r\n",
       "skinparam wrapWidth 300\r\n",
       "hide circle\r\n",
       "\r\n",
       "@enduml\r\n",
       "\n",
       "PlantUML version 1.2020.13(Sat Jun 13 12:26:38 UTC 2020)\n",
       "(EPL source distribution)\n",
       "Java Runtime: OpenJDK Runtime Environment\n",
       "JVM: OpenJDK 64-Bit Server VM\n",
       "Default Encoding: UTF-8\n",
       "Language: en\n",
       "Country: null\n",
       "--></g></svg>"
      ]
     },
     "execution_count": 20,
     "metadata": {},
     "output_type": "execute_result"
    }
   ],
   "source": [
    "%viz --style=\"LR\" --view=\"Action\" \"MassRollup\""
   ]
  },
  {
   "cell_type": "code",
   "execution_count": 21,
   "id": "8ce33a93",
   "metadata": {
    "execution": {
     "iopub.execute_input": "2021-04-20T07:26:56.354171Z",
     "iopub.status.busy": "2021-04-20T07:26:56.353200Z",
     "iopub.status.idle": "2021-04-20T07:26:56.567567Z",
     "shell.execute_reply": "2021-04-20T07:26:56.567182Z"
    }
   },
   "outputs": [
    {
     "data": {
      "image/svg+xml": [
       "<?xml version=\"1.0\" encoding=\"UTF-8\" standalone=\"no\"?><svg xmlns=\"http://www.w3.org/2000/svg\" xmlns:xlink=\"http://www.w3.org/1999/xlink\" contentScriptType=\"application/ecmascript\" contentStyleType=\"text/css\" height=\"275px\" preserveAspectRatio=\"none\" style=\"width:1134px;height:275px;\" version=\"1.1\" viewBox=\"0 0 1134 275\" width=\"1134px\" zoomAndPan=\"magnify\"><defs/><g><!--MD5=[fbc87193dbaf4d95561dea2c320d4a47]\n",
       "cluster E1--><a href=\"psysml:93cce498-741b-46da-9a76-47f8a90b0e87\" target=\"_top\" title=\"psysml:93cce498-741b-46da-9a76-47f8a90b0e87\" xlink:actuate=\"onRequest\" xlink:href=\"psysml:93cce498-741b-46da-9a76-47f8a90b0e87\" xlink:show=\"new\" xlink:title=\"psysml:93cce498-741b-46da-9a76-47f8a90b0e87\" xlink:type=\"simple\"><polygon fill=\"#FFFFFF\" points=\"16,6,110,6,117,28.2969,1112,28.2969,1112,263,16,263,16,6\" style=\"stroke: #000000; stroke-width: 1.5;\"/><line style=\"stroke: #000000; stroke-width: 1.5;\" x1=\"16\" x2=\"117\" y1=\"28.2969\" y2=\"28.2969\"/><text fill=\"#000000\" font-family=\"sans-serif\" font-size=\"14\" font-weight=\"bold\" lengthAdjust=\"spacingAndGlyphs\" textLength=\"88\" x=\"20\" y=\"20.9951\">MassRollup</text></a><!--MD5=[b4997ac47864f28c2f74865a473b2911]\n",
       "class E2--><a href=\"psysml:2bfc4bf5-5785-4629-99c8-bf06d3584a79\" target=\"_top\" title=\"psysml:2bfc4bf5-5785-4629-99c8-bf06d3584a79\" xlink:actuate=\"onRequest\" xlink:href=\"psysml:2bfc4bf5-5785-4629-99c8-bf06d3584a79\" xlink:show=\"new\" xlink:title=\"psysml:2bfc4bf5-5785-4629-99c8-bf06d3584a79\" xlink:type=\"simple\"><rect fill=\"#FFFFFF\" height=\"88.3516\" id=\"E2\" style=\"stroke: #383838; stroke-width: 1.5;\" width=\"88\" x=\"1008\" y=\"143\"/><text fill=\"#000000\" font-family=\"sans-serif\" font-size=\"12\" font-style=\"italic\" lengthAdjust=\"spacingAndGlyphs\" textLength=\"64\" x=\"1020\" y=\"159.1387\">«part def»</text><text fill=\"#000000\" font-family=\"sans-serif\" font-size=\"12\" lengthAdjust=\"spacingAndGlyphs\" textLength=\"82\" x=\"1011\" y=\"173.1074\">MassedThing</text><line style=\"stroke: #383838; stroke-width: 1.5;\" x1=\"1009\" x2=\"1095\" y1=\"180.9375\" y2=\"180.9375\"/><text fill=\"#000000\" font-family=\"sans-serif\" font-size=\"11\" lengthAdjust=\"spacingAndGlyphs\" textLength=\"32\" x=\"1014\" y=\"211.9526\">mass</text><text fill=\"#000000\" font-family=\"sans-serif\" font-size=\"11\" lengthAdjust=\"spacingAndGlyphs\" textLength=\"55\" x=\"1014\" y=\"224.7573\">totalMass</text><line style=\"stroke: #383838; stroke-width: 1.0;\" x1=\"1009\" x2=\"1024.5\" y1=\"195.3398\" y2=\"195.3398\"/><text fill=\"#000000\" font-family=\"sans-serif\" font-size=\"11\" lengthAdjust=\"spacingAndGlyphs\" textLength=\"55\" x=\"1024.5\" y=\"198.6479\">attributes</text><line style=\"stroke: #383838; stroke-width: 1.0;\" x1=\"1079.5\" x2=\"1095\" y1=\"195.3398\" y2=\"195.3398\"/></a><!--MD5=[09b614a08d8cba4a07c9adeb5e0fee81]\n",
       "class E3--><a href=\"psysml:d9d69a25-c21e-4c46-a572-d7b139b6ee26\" target=\"_top\" title=\"psysml:d9d69a25-c21e-4c46-a572-d7b139b6ee26\" xlink:actuate=\"onRequest\" xlink:href=\"psysml:d9d69a25-c21e-4c46-a572-d7b139b6ee26\" xlink:show=\"new\" xlink:title=\"psysml:d9d69a25-c21e-4c46-a572-d7b139b6ee26\" xlink:type=\"simple\"><rect fill=\"#FFFFFF\" height=\"88.3516\" id=\"E3\" rx=\"10\" ry=\"10\" style=\"stroke: #383838; stroke-width: 1.5;\" width=\"172\" x=\"763.5\" y=\"41\"/><text fill=\"#000000\" font-family=\"sans-serif\" font-size=\"12\" font-style=\"italic\" lengthAdjust=\"spacingAndGlyphs\" textLength=\"40\" x=\"829.5\" y=\"57.1387\">«part»</text><text fill=\"#000000\" font-family=\"sans-serif\" font-size=\"12\" lengthAdjust=\"spacingAndGlyphs\" textLength=\"164\" x=\"767.5\" y=\"71.1074\">simpleThing: MassedThing</text><line style=\"stroke: #383838; stroke-width: 1.5;\" x1=\"764.5\" x2=\"934.5\" y1=\"78.9375\" y2=\"78.9375\"/><text fill=\"#000000\" font-family=\"sans-serif\" font-size=\"11\" lengthAdjust=\"spacingAndGlyphs\" textLength=\"100\" x=\"769.5\" y=\"109.9526\">totalMass=mass;</text><text fill=\"#000000\" font-family=\"sans-serif\" font-size=\"11\" font-style=\"italic\" lengthAdjust=\"spacingAndGlyphs\" textLength=\"160\" x=\"769.5\" y=\"122.7573\">:&gt;&gt;MassedThing::totalMass</text><line style=\"stroke: #383838; stroke-width: 1.0;\" x1=\"764.5\" x2=\"822\" y1=\"93.3398\" y2=\"93.3398\"/><text fill=\"#000000\" font-family=\"sans-serif\" font-size=\"11\" lengthAdjust=\"spacingAndGlyphs\" textLength=\"55\" x=\"822\" y=\"96.6479\">attributes</text><line style=\"stroke: #383838; stroke-width: 1.0;\" x1=\"877\" x2=\"934.5\" y1=\"93.3398\" y2=\"93.3398\"/></a><!--MD5=[ebbe1d658d1005bcc118a6aa81145e00]\n",
       "class E4--><a href=\"psysml:343123b1-0808-41d0-8b17-a6ebb6acc0cb\" target=\"_top\" title=\"psysml:343123b1-0808-41d0-8b17-a6ebb6acc0cb\" xlink:actuate=\"onRequest\" xlink:href=\"psysml:343123b1-0808-41d0-8b17-a6ebb6acc0cb\" xlink:show=\"new\" xlink:title=\"psysml:343123b1-0808-41d0-8b17-a6ebb6acc0cb\" xlink:type=\"simple\"><rect fill=\"#FFFFFF\" height=\"101.1563\" id=\"E4\" rx=\"10\" ry=\"10\" style=\"stroke: #383838; stroke-width: 1.5;\" width=\"290\" x=\"401\" y=\"138.5\"/><text fill=\"#000000\" font-family=\"sans-serif\" font-size=\"12\" font-style=\"italic\" lengthAdjust=\"spacingAndGlyphs\" textLength=\"40\" x=\"526\" y=\"154.6387\">«part»</text><text fill=\"#000000\" font-family=\"sans-serif\" font-size=\"12\" lengthAdjust=\"spacingAndGlyphs\" textLength=\"189\" x=\"451.5\" y=\"168.6074\">compositeThing: MassedThing</text><line style=\"stroke: #383838; stroke-width: 1.5;\" x1=\"402\" x2=\"690\" y1=\"176.4375\" y2=\"176.4375\"/><text fill=\"#000000\" font-family=\"sans-serif\" font-size=\"11\" lengthAdjust=\"spacingAndGlyphs\" textLength=\"272\" x=\"407\" y=\"207.4526\">totalMass=mass + (subcomponents-&gt;collect p:</text><text fill=\"#000000\" font-family=\"sans-serif\" font-size=\"11\" lengthAdjust=\"spacingAndGlyphs\" textLength=\"274\" x=\"407\" y=\"220.2573\">MassedThing (p::totalMass)-&gt;reduce '+' ?? 0.0);</text><text fill=\"#000000\" font-family=\"sans-serif\" font-size=\"11\" font-style=\"italic\" lengthAdjust=\"spacingAndGlyphs\" textLength=\"160\" x=\"407\" y=\"233.062\">:&gt;&gt;MassedThing::totalMass</text><line style=\"stroke: #383838; stroke-width: 1.0;\" x1=\"402\" x2=\"518.5\" y1=\"190.8398\" y2=\"190.8398\"/><text fill=\"#000000\" font-family=\"sans-serif\" font-size=\"11\" lengthAdjust=\"spacingAndGlyphs\" textLength=\"55\" x=\"518.5\" y=\"194.1479\">attributes</text><line style=\"stroke: #383838; stroke-width: 1.0;\" x1=\"573.5\" x2=\"690\" y1=\"190.8398\" y2=\"190.8398\"/></a><!--MD5=[270fce915f116d4de14055a7c1d9a0f3]\n",
       "class E5--><a href=\"psysml:09cd1f28-daf0-4d0d-a972-b9bf2a18e992\" target=\"_top\" title=\"psysml:09cd1f28-daf0-4d0d-a972-b9bf2a18e992\" xlink:actuate=\"onRequest\" xlink:href=\"psysml:09cd1f28-daf0-4d0d-a972-b9bf2a18e992\" xlink:show=\"new\" xlink:title=\"psysml:09cd1f28-daf0-4d0d-a972-b9bf2a18e992\" xlink:type=\"simple\"><rect fill=\"#FFFFFF\" height=\"45.9375\" id=\"E5\" rx=\"10\" ry=\"10\" style=\"stroke: #383838; stroke-width: 1.5;\" width=\"197\" x=\"751\" y=\"164\"/><text fill=\"#000000\" font-family=\"sans-serif\" font-size=\"12\" font-style=\"italic\" lengthAdjust=\"spacingAndGlyphs\" textLength=\"40\" x=\"829.5\" y=\"180.1387\">«part»</text><text fill=\"#000000\" font-family=\"sans-serif\" font-size=\"12\" lengthAdjust=\"spacingAndGlyphs\" textLength=\"191\" x=\"754\" y=\"194.1074\">subcomponents: MassedThing</text><line style=\"stroke: #383838; stroke-width: 1.5;\" x1=\"752\" x2=\"947\" y1=\"201.9375\" y2=\"201.9375\"/></a><!--MD5=[60a26617385b1d2d0262a64233df1f8d]\n",
       "class E6--><a href=\"psysml:b3309114-4b2b-46b3-9f4f-dc695177bad1\" target=\"_top\" title=\"psysml:b3309114-4b2b-46b3-9f4f-dc695177bad1\" xlink:actuate=\"onRequest\" xlink:href=\"psysml:b3309114-4b2b-46b3-9f4f-dc695177bad1\" xlink:show=\"new\" xlink:title=\"psysml:b3309114-4b2b-46b3-9f4f-dc695177bad1\" xlink:type=\"simple\"><rect fill=\"#FFFFFF\" height=\"113.9609\" id=\"E6\" rx=\"10\" ry=\"10\" style=\"stroke: #383838; stroke-width: 1.5;\" width=\"309\" x=\"32\" y=\"132\"/><text fill=\"#000000\" font-family=\"sans-serif\" font-size=\"12\" font-style=\"italic\" lengthAdjust=\"spacingAndGlyphs\" textLength=\"40\" x=\"166.5\" y=\"148.1387\">«part»</text><text fill=\"#000000\" font-family=\"sans-serif\" font-size=\"12\" lengthAdjust=\"spacingAndGlyphs\" textLength=\"110\" x=\"131.5\" y=\"162.1074\">filteredMassThing</text><line style=\"stroke: #383838; stroke-width: 1.5;\" x1=\"33\" x2=\"340\" y1=\"169.9375\" y2=\"169.9375\"/><text fill=\"#000000\" font-family=\"sans-serif\" font-size=\"11\" lengthAdjust=\"spacingAndGlyphs\" textLength=\"51\" x=\"38\" y=\"200.9526\">minMass</text><text fill=\"#000000\" font-family=\"sans-serif\" font-size=\"11\" lengthAdjust=\"spacingAndGlyphs\" textLength=\"297\" x=\"38\" y=\"213.7573\">totalMass=(./subcomponents/mass[p (p &gt; minMass</text><text fill=\"#000000\" font-family=\"sans-serif\" font-size=\"11\" lengthAdjust=\"spacingAndGlyphs\" textLength=\"125\" x=\"38\" y=\"226.562\">)])-&gt;reduce '+' ?? 0.0;</text><text fill=\"#000000\" font-family=\"sans-serif\" font-size=\"11\" font-style=\"italic\" lengthAdjust=\"spacingAndGlyphs\" textLength=\"160\" x=\"38\" y=\"239.3667\">:&gt;&gt;MassedThing::totalMass</text><line style=\"stroke: #383838; stroke-width: 1.0;\" x1=\"33\" x2=\"159\" y1=\"184.3398\" y2=\"184.3398\"/><text fill=\"#000000\" font-family=\"sans-serif\" font-size=\"11\" lengthAdjust=\"spacingAndGlyphs\" textLength=\"55\" x=\"159\" y=\"187.6479\">attributes</text><line style=\"stroke: #383838; stroke-width: 1.0;\" x1=\"214\" x2=\"340\" y1=\"184.3398\" y2=\"184.3398\"/></a><!--MD5=[05d275557350bfb9b23a4ef7222b4c39]\n",
       "link E3 to E2--><a href=\"psysml:b7a37c04-3b7e-4fde-bcd3-8ff7c74e6a20\" target=\"_top\" title=\"psysml:b7a37c04-3b7e-4fde-bcd3-8ff7c74e6a20\" xlink:actuate=\"onRequest\" xlink:href=\"psysml:b7a37c04-3b7e-4fde-bcd3-8ff7c74e6a20\" xlink:show=\"new\" xlink:title=\"psysml:b7a37c04-3b7e-4fde-bcd3-8ff7c74e6a20\" xlink:type=\"simple\"><path d=\"M935.53,128.26 C953.77,137.54 972.71,147.17 989.83,155.88 \" fill=\"none\" id=\"E3-&gt;E2\" style=\"stroke: #383838; stroke-width: 1.0;\"/><polygon fill=\"#FFFFFF\" points=\"1007.93,165.09,987.8216,162.7126,994.1704,150.2349,1007.93,165.09\" style=\"stroke: #383838; stroke-width: 1.0;\"/><ellipse cx=\"983.6484\" cy=\"158.3452\" fill=\"#383838\" rx=\"2\" ry=\"2\" style=\"stroke: #383838; stroke-width: 1.0;\"/><ellipse cx=\"988.1832\" cy=\"149.4326\" fill=\"#383838\" rx=\"2\" ry=\"2\" style=\"stroke: #383838; stroke-width: 1.0;\"/></a><!--MD5=[185131fc0dcab0a4505a2ebe144e961b]\n",
       "link E4 to E2--><a href=\"psysml:9348166f-8cea-4d7c-a96d-6192465a705e\" target=\"_top\" title=\"psysml:9348166f-8cea-4d7c-a96d-6192465a705e\" xlink:actuate=\"onRequest\" xlink:href=\"psysml:9348166f-8cea-4d7c-a96d-6192465a705e\" xlink:show=\"new\" xlink:title=\"psysml:9348166f-8cea-4d7c-a96d-6192465a705e\" xlink:type=\"simple\"><path d=\"M691.29,222.84 C768.02,235.86 863.68,244.17 948,228 C961.72,225.37 975.93,220.94 989.26,215.93 \" fill=\"none\" id=\"E4-&gt;E2\" style=\"stroke: #383838; stroke-width: 1.0;\"/><polygon fill=\"#FFFFFF\" points=\"1008,208.34,993.0236,221.9674,987.7621,208.9938,1008,208.34\" style=\"stroke: #383838; stroke-width: 1.0;\"/><ellipse cx=\"986.9898\" cy=\"222.2562\" fill=\"#383838\" rx=\"2\" ry=\"2\" style=\"stroke: #383838; stroke-width: 1.0;\"/><ellipse cx=\"983.2316\" cy=\"212.9893\" fill=\"#383838\" rx=\"2\" ry=\"2\" style=\"stroke: #383838; stroke-width: 1.0;\"/></a><!--MD5=[62aa6af11e70f752912c1cb0466f24f7]\n",
       "reverse link E4 to E5--><a href=\"psysml:94e091d2-0286-4211-8181-aedc46ba16d2\" target=\"_top\" title=\"psysml:94e091d2-0286-4211-8181-aedc46ba16d2\" xlink:actuate=\"onRequest\" xlink:href=\"psysml:94e091d2-0286-4211-8181-aedc46ba16d2\" xlink:show=\"new\" xlink:title=\"psysml:94e091d2-0286-4211-8181-aedc46ba16d2\" xlink:type=\"simple\"><path d=\"M704.45,187.96 C720.3,187.85 736.05,187.75 751,187.65 \" fill=\"none\" id=\"E4&lt;-E5\" style=\"stroke: #383838; stroke-width: 1.0;\"/><polygon fill=\"#383838\" points=\"691.13,188.04,697.1562,192.0004,703.1297,187.9609,697.1035,184.0005,691.13,188.04\" style=\"stroke: #383838; stroke-width: 1.0;\"/><text fill=\"#000000\" font-family=\"sans-serif\" font-size=\"13\" lengthAdjust=\"spacingAndGlyphs\" textLength=\"7\" x=\"735.8719\" y=\"200.3741\">*</text></a><!--MD5=[15ebcb19ae302d9b601edb458606d402]\n",
       "link E5 to E2--><a href=\"psysml:dc08c53a-a0f0-4000-a138-cf80983e3afa\" target=\"_top\" title=\"psysml:dc08c53a-a0f0-4000-a138-cf80983e3afa\" xlink:actuate=\"onRequest\" xlink:href=\"psysml:dc08c53a-a0f0-4000-a138-cf80983e3afa\" xlink:show=\"new\" xlink:title=\"psysml:dc08c53a-a0f0-4000-a138-cf80983e3afa\" xlink:type=\"simple\"><path d=\"M948.11,187 C961.57,187 975.09,187 987.71,187 \" fill=\"none\" id=\"E5-&gt;E2\" style=\"stroke: #383838; stroke-width: 1.0;\"/><polygon fill=\"#FFFFFF\" points=\"1007.92,187,988.92,194,988.92,180,1007.92,187\" style=\"stroke: #383838; stroke-width: 1.0;\"/><ellipse cx=\"983.22\" cy=\"192\" fill=\"#383838\" rx=\"2\" ry=\"2\" style=\"stroke: #383838; stroke-width: 1.0;\"/><ellipse cx=\"983.22\" cy=\"182\" fill=\"#383838\" rx=\"2\" ry=\"2\" style=\"stroke: #383838; stroke-width: 1.0;\"/></a><!--MD5=[f667431f98296947986a1a7595a31603]\n",
       "link E6 to E4--><a href=\"psysml:b31b3f2c-80ab-44f0-a26e-d801559af683\" target=\"_top\" title=\"psysml:b31b3f2c-80ab-44f0-a26e-d801559af683\" xlink:actuate=\"onRequest\" xlink:href=\"psysml:b31b3f2c-80ab-44f0-a26e-d801559af683\" xlink:show=\"new\" xlink:title=\"psysml:b31b3f2c-80ab-44f0-a26e-d801559af683\" xlink:type=\"simple\"><path d=\"M341.19,189 C354.17,189 367.32,189 380.38,189 \" fill=\"none\" id=\"E6-&gt;E4\" style=\"stroke: #383838; stroke-width: 1.0;\"/><polygon fill=\"none\" points=\"380.77,182,400.77,189,380.77,196,380.77,182\" style=\"stroke: #383838; stroke-width: 1.0;\"/></a><!--MD5=[772acb4092c901ec14640d0733597626]\n",
       "@startuml\r\n",
       "left to right direction\r\n",
       "skinparam monochrome true\r\n",
       "skinparam classbackgroundcolor white\r\n",
       "skinparam shadowing false\r\n",
       "skinparam wrapWidth 300\r\n",
       "hide circle\r\n",
       "\r\n",
       "package \"MassRollup\" as E1  [[psysml:93cce498-741b-46da-9a76-47f8a90b0e87 ]]  {\r\n",
       "comp def \"MassedThing\" as E2  <<(T,blue)part def>> [[psysml:2bfc4bf5-5785-4629-99c8-bf06d3584a79 ]] {\r\n",
       "- - attributes - -\r\n",
       "mass\r\n",
       "totalMass\r\n",
       "}\r\n",
       "comp usage \"simpleThing: MassedThing\" as E3  <<(T,blue)part>> [[psysml:d9d69a25-c21e-4c46-a572-d7b139b6ee26 ]] {\r\n",
       "- - attributes - -\r\n",
       "totalMass=mass; \\n//:>>MassedThing::totalMass// \r\n",
       "}\r\n",
       "comp usage \"compositeThing: MassedThing\" as E4  <<(T,blue)part>> [[psysml:343123b1-0808-41d0-8b17-a6ebb6acc0cb ]] {\r\n",
       "- - attributes - -\r\n",
       "totalMass=mass + (subcomponents->collect p:MassedThing (p::totalMass)->reduce '+' ?? 0.0); \\n//:>>MassedThing::totalMass// \r\n",
       "}\r\n",
       "comp usage \"subcomponents: MassedThing\" as E5  <<(T,blue)part>> [[psysml:09cd1f28-daf0-4d0d-a972-b9bf2a18e992 ]] {\r\n",
       "}\r\n",
       "comp usage \"filteredMassThing\" as E6  <<(T,blue)part>> [[psysml:b3309114-4b2b-46b3-9f4f-dc695177bad1 ]] {\r\n",
       "- - attributes - -\r\n",
       "minMass\r\n",
       "totalMass=(./subcomponents/mass[p (p > minMass)])->reduce '+' ?? 0.0; \\n//:>>MassedThing::totalMass// \r\n",
       "}\r\n",
       "E3 - -:|> E2 [[psysml:b7a37c04-3b7e-4fde-bcd3-8ff7c74e6a20 ]] \r\n",
       "E4 - -:|> E2 [[psysml:9348166f-8cea-4d7c-a96d-6192465a705e ]] \r\n",
       "E4 *- - \"*\"E5 [[psysml:94e091d2-0286-4211-8181-aedc46ba16d2 ]] \r\n",
       "E5 - -:|> E2 [[psysml:dc08c53a-a0f0-4000-a138-cf80983e3afa ]] \r\n",
       "E6 - -|> E4 [[psysml:b31b3f2c-80ab-44f0-a26e-d801559af683 ]] \r\n",
       "}\r\n",
       "@enduml\r\n",
       "\n",
       "PlantUML version 1.2020.13(Sat Jun 13 12:26:38 UTC 2020)\n",
       "(EPL source distribution)\n",
       "Java Runtime: OpenJDK Runtime Environment\n",
       "JVM: OpenJDK 64-Bit Server VM\n",
       "Default Encoding: UTF-8\n",
       "Language: en\n",
       "Country: null\n",
       "--></g></svg>"
      ]
     },
     "execution_count": 21,
     "metadata": {},
     "output_type": "execute_result"
    }
   ],
   "source": [
    "%viz --style=\"LR\" --view=\"Sequence\" \"MassRollup\""
   ]
  },
  {
   "cell_type": "code",
   "execution_count": 22,
   "id": "61aa8f6b",
   "metadata": {
    "execution": {
     "iopub.execute_input": "2021-04-20T07:26:56.620171Z",
     "iopub.status.busy": "2021-04-20T07:26:56.617798Z",
     "iopub.status.idle": "2021-04-20T07:26:56.879524Z",
     "shell.execute_reply": "2021-04-20T07:26:56.879965Z"
    }
   },
   "outputs": [
    {
     "data": {
      "image/svg+xml": [
       "<?xml version=\"1.0\" encoding=\"UTF-8\" standalone=\"no\"?><svg xmlns=\"http://www.w3.org/2000/svg\" xmlns:xlink=\"http://www.w3.org/1999/xlink\" contentScriptType=\"application/ecmascript\" contentStyleType=\"text/css\" height=\"275px\" preserveAspectRatio=\"none\" style=\"width:1134px;height:275px;\" version=\"1.1\" viewBox=\"0 0 1134 275\" width=\"1134px\" zoomAndPan=\"magnify\"><defs/><g><!--MD5=[fbc87193dbaf4d95561dea2c320d4a47]\n",
       "cluster E1--><a href=\"psysml:93cce498-741b-46da-9a76-47f8a90b0e87\" target=\"_top\" title=\"psysml:93cce498-741b-46da-9a76-47f8a90b0e87\" xlink:actuate=\"onRequest\" xlink:href=\"psysml:93cce498-741b-46da-9a76-47f8a90b0e87\" xlink:show=\"new\" xlink:title=\"psysml:93cce498-741b-46da-9a76-47f8a90b0e87\" xlink:type=\"simple\"><polygon fill=\"#FFFFFF\" points=\"16,6,110,6,117,28.2969,1112,28.2969,1112,263,16,263,16,6\" style=\"stroke: #000000; stroke-width: 1.5;\"/><line style=\"stroke: #000000; stroke-width: 1.5;\" x1=\"16\" x2=\"117\" y1=\"28.2969\" y2=\"28.2969\"/><text fill=\"#000000\" font-family=\"sans-serif\" font-size=\"14\" font-weight=\"bold\" lengthAdjust=\"spacingAndGlyphs\" textLength=\"88\" x=\"20\" y=\"20.9951\">MassRollup</text></a><!--MD5=[b4997ac47864f28c2f74865a473b2911]\n",
       "class E2--><a href=\"psysml:2bfc4bf5-5785-4629-99c8-bf06d3584a79\" target=\"_top\" title=\"psysml:2bfc4bf5-5785-4629-99c8-bf06d3584a79\" xlink:actuate=\"onRequest\" xlink:href=\"psysml:2bfc4bf5-5785-4629-99c8-bf06d3584a79\" xlink:show=\"new\" xlink:title=\"psysml:2bfc4bf5-5785-4629-99c8-bf06d3584a79\" xlink:type=\"simple\"><rect fill=\"#FFFFFF\" height=\"88.3516\" id=\"E2\" style=\"stroke: #383838; stroke-width: 1.5;\" width=\"88\" x=\"1008\" y=\"143\"/><text fill=\"#000000\" font-family=\"sans-serif\" font-size=\"12\" font-style=\"italic\" lengthAdjust=\"spacingAndGlyphs\" textLength=\"64\" x=\"1020\" y=\"159.1387\">«part def»</text><text fill=\"#000000\" font-family=\"sans-serif\" font-size=\"12\" lengthAdjust=\"spacingAndGlyphs\" textLength=\"82\" x=\"1011\" y=\"173.1074\">MassedThing</text><line style=\"stroke: #383838; stroke-width: 1.5;\" x1=\"1009\" x2=\"1095\" y1=\"180.9375\" y2=\"180.9375\"/><text fill=\"#000000\" font-family=\"sans-serif\" font-size=\"11\" lengthAdjust=\"spacingAndGlyphs\" textLength=\"32\" x=\"1014\" y=\"211.9526\">mass</text><text fill=\"#000000\" font-family=\"sans-serif\" font-size=\"11\" lengthAdjust=\"spacingAndGlyphs\" textLength=\"55\" x=\"1014\" y=\"224.7573\">totalMass</text><line style=\"stroke: #383838; stroke-width: 1.0;\" x1=\"1009\" x2=\"1024.5\" y1=\"195.3398\" y2=\"195.3398\"/><text fill=\"#000000\" font-family=\"sans-serif\" font-size=\"11\" lengthAdjust=\"spacingAndGlyphs\" textLength=\"55\" x=\"1024.5\" y=\"198.6479\">attributes</text><line style=\"stroke: #383838; stroke-width: 1.0;\" x1=\"1079.5\" x2=\"1095\" y1=\"195.3398\" y2=\"195.3398\"/></a><!--MD5=[09b614a08d8cba4a07c9adeb5e0fee81]\n",
       "class E3--><a href=\"psysml:d9d69a25-c21e-4c46-a572-d7b139b6ee26\" target=\"_top\" title=\"psysml:d9d69a25-c21e-4c46-a572-d7b139b6ee26\" xlink:actuate=\"onRequest\" xlink:href=\"psysml:d9d69a25-c21e-4c46-a572-d7b139b6ee26\" xlink:show=\"new\" xlink:title=\"psysml:d9d69a25-c21e-4c46-a572-d7b139b6ee26\" xlink:type=\"simple\"><rect fill=\"#FFFFFF\" height=\"88.3516\" id=\"E3\" rx=\"10\" ry=\"10\" style=\"stroke: #383838; stroke-width: 1.5;\" width=\"172\" x=\"763.5\" y=\"41\"/><text fill=\"#000000\" font-family=\"sans-serif\" font-size=\"12\" font-style=\"italic\" lengthAdjust=\"spacingAndGlyphs\" textLength=\"40\" x=\"829.5\" y=\"57.1387\">«part»</text><text fill=\"#000000\" font-family=\"sans-serif\" font-size=\"12\" lengthAdjust=\"spacingAndGlyphs\" textLength=\"164\" x=\"767.5\" y=\"71.1074\">simpleThing: MassedThing</text><line style=\"stroke: #383838; stroke-width: 1.5;\" x1=\"764.5\" x2=\"934.5\" y1=\"78.9375\" y2=\"78.9375\"/><text fill=\"#000000\" font-family=\"sans-serif\" font-size=\"11\" lengthAdjust=\"spacingAndGlyphs\" textLength=\"100\" x=\"769.5\" y=\"109.9526\">totalMass=mass;</text><text fill=\"#000000\" font-family=\"sans-serif\" font-size=\"11\" font-style=\"italic\" lengthAdjust=\"spacingAndGlyphs\" textLength=\"160\" x=\"769.5\" y=\"122.7573\">:&gt;&gt;MassedThing::totalMass</text><line style=\"stroke: #383838; stroke-width: 1.0;\" x1=\"764.5\" x2=\"822\" y1=\"93.3398\" y2=\"93.3398\"/><text fill=\"#000000\" font-family=\"sans-serif\" font-size=\"11\" lengthAdjust=\"spacingAndGlyphs\" textLength=\"55\" x=\"822\" y=\"96.6479\">attributes</text><line style=\"stroke: #383838; stroke-width: 1.0;\" x1=\"877\" x2=\"934.5\" y1=\"93.3398\" y2=\"93.3398\"/></a><!--MD5=[ebbe1d658d1005bcc118a6aa81145e00]\n",
       "class E4--><a href=\"psysml:343123b1-0808-41d0-8b17-a6ebb6acc0cb\" target=\"_top\" title=\"psysml:343123b1-0808-41d0-8b17-a6ebb6acc0cb\" xlink:actuate=\"onRequest\" xlink:href=\"psysml:343123b1-0808-41d0-8b17-a6ebb6acc0cb\" xlink:show=\"new\" xlink:title=\"psysml:343123b1-0808-41d0-8b17-a6ebb6acc0cb\" xlink:type=\"simple\"><rect fill=\"#FFFFFF\" height=\"101.1563\" id=\"E4\" rx=\"10\" ry=\"10\" style=\"stroke: #383838; stroke-width: 1.5;\" width=\"290\" x=\"401\" y=\"138.5\"/><text fill=\"#000000\" font-family=\"sans-serif\" font-size=\"12\" font-style=\"italic\" lengthAdjust=\"spacingAndGlyphs\" textLength=\"40\" x=\"526\" y=\"154.6387\">«part»</text><text fill=\"#000000\" font-family=\"sans-serif\" font-size=\"12\" lengthAdjust=\"spacingAndGlyphs\" textLength=\"189\" x=\"451.5\" y=\"168.6074\">compositeThing: MassedThing</text><line style=\"stroke: #383838; stroke-width: 1.5;\" x1=\"402\" x2=\"690\" y1=\"176.4375\" y2=\"176.4375\"/><text fill=\"#000000\" font-family=\"sans-serif\" font-size=\"11\" lengthAdjust=\"spacingAndGlyphs\" textLength=\"272\" x=\"407\" y=\"207.4526\">totalMass=mass + (subcomponents-&gt;collect p:</text><text fill=\"#000000\" font-family=\"sans-serif\" font-size=\"11\" lengthAdjust=\"spacingAndGlyphs\" textLength=\"274\" x=\"407\" y=\"220.2573\">MassedThing (p::totalMass)-&gt;reduce '+' ?? 0.0);</text><text fill=\"#000000\" font-family=\"sans-serif\" font-size=\"11\" font-style=\"italic\" lengthAdjust=\"spacingAndGlyphs\" textLength=\"160\" x=\"407\" y=\"233.062\">:&gt;&gt;MassedThing::totalMass</text><line style=\"stroke: #383838; stroke-width: 1.0;\" x1=\"402\" x2=\"518.5\" y1=\"190.8398\" y2=\"190.8398\"/><text fill=\"#000000\" font-family=\"sans-serif\" font-size=\"11\" lengthAdjust=\"spacingAndGlyphs\" textLength=\"55\" x=\"518.5\" y=\"194.1479\">attributes</text><line style=\"stroke: #383838; stroke-width: 1.0;\" x1=\"573.5\" x2=\"690\" y1=\"190.8398\" y2=\"190.8398\"/></a><!--MD5=[270fce915f116d4de14055a7c1d9a0f3]\n",
       "class E5--><a href=\"psysml:09cd1f28-daf0-4d0d-a972-b9bf2a18e992\" target=\"_top\" title=\"psysml:09cd1f28-daf0-4d0d-a972-b9bf2a18e992\" xlink:actuate=\"onRequest\" xlink:href=\"psysml:09cd1f28-daf0-4d0d-a972-b9bf2a18e992\" xlink:show=\"new\" xlink:title=\"psysml:09cd1f28-daf0-4d0d-a972-b9bf2a18e992\" xlink:type=\"simple\"><rect fill=\"#FFFFFF\" height=\"45.9375\" id=\"E5\" rx=\"10\" ry=\"10\" style=\"stroke: #383838; stroke-width: 1.5;\" width=\"197\" x=\"751\" y=\"164\"/><text fill=\"#000000\" font-family=\"sans-serif\" font-size=\"12\" font-style=\"italic\" lengthAdjust=\"spacingAndGlyphs\" textLength=\"40\" x=\"829.5\" y=\"180.1387\">«part»</text><text fill=\"#000000\" font-family=\"sans-serif\" font-size=\"12\" lengthAdjust=\"spacingAndGlyphs\" textLength=\"191\" x=\"754\" y=\"194.1074\">subcomponents: MassedThing</text><line style=\"stroke: #383838; stroke-width: 1.5;\" x1=\"752\" x2=\"947\" y1=\"201.9375\" y2=\"201.9375\"/></a><!--MD5=[60a26617385b1d2d0262a64233df1f8d]\n",
       "class E6--><a href=\"psysml:b3309114-4b2b-46b3-9f4f-dc695177bad1\" target=\"_top\" title=\"psysml:b3309114-4b2b-46b3-9f4f-dc695177bad1\" xlink:actuate=\"onRequest\" xlink:href=\"psysml:b3309114-4b2b-46b3-9f4f-dc695177bad1\" xlink:show=\"new\" xlink:title=\"psysml:b3309114-4b2b-46b3-9f4f-dc695177bad1\" xlink:type=\"simple\"><rect fill=\"#FFFFFF\" height=\"113.9609\" id=\"E6\" rx=\"10\" ry=\"10\" style=\"stroke: #383838; stroke-width: 1.5;\" width=\"309\" x=\"32\" y=\"132\"/><text fill=\"#000000\" font-family=\"sans-serif\" font-size=\"12\" font-style=\"italic\" lengthAdjust=\"spacingAndGlyphs\" textLength=\"40\" x=\"166.5\" y=\"148.1387\">«part»</text><text fill=\"#000000\" font-family=\"sans-serif\" font-size=\"12\" lengthAdjust=\"spacingAndGlyphs\" textLength=\"110\" x=\"131.5\" y=\"162.1074\">filteredMassThing</text><line style=\"stroke: #383838; stroke-width: 1.5;\" x1=\"33\" x2=\"340\" y1=\"169.9375\" y2=\"169.9375\"/><text fill=\"#000000\" font-family=\"sans-serif\" font-size=\"11\" lengthAdjust=\"spacingAndGlyphs\" textLength=\"51\" x=\"38\" y=\"200.9526\">minMass</text><text fill=\"#000000\" font-family=\"sans-serif\" font-size=\"11\" lengthAdjust=\"spacingAndGlyphs\" textLength=\"297\" x=\"38\" y=\"213.7573\">totalMass=(./subcomponents/mass[p (p &gt; minMass</text><text fill=\"#000000\" font-family=\"sans-serif\" font-size=\"11\" lengthAdjust=\"spacingAndGlyphs\" textLength=\"125\" x=\"38\" y=\"226.562\">)])-&gt;reduce '+' ?? 0.0;</text><text fill=\"#000000\" font-family=\"sans-serif\" font-size=\"11\" font-style=\"italic\" lengthAdjust=\"spacingAndGlyphs\" textLength=\"160\" x=\"38\" y=\"239.3667\">:&gt;&gt;MassedThing::totalMass</text><line style=\"stroke: #383838; stroke-width: 1.0;\" x1=\"33\" x2=\"159\" y1=\"184.3398\" y2=\"184.3398\"/><text fill=\"#000000\" font-family=\"sans-serif\" font-size=\"11\" lengthAdjust=\"spacingAndGlyphs\" textLength=\"55\" x=\"159\" y=\"187.6479\">attributes</text><line style=\"stroke: #383838; stroke-width: 1.0;\" x1=\"214\" x2=\"340\" y1=\"184.3398\" y2=\"184.3398\"/></a><!--MD5=[05d275557350bfb9b23a4ef7222b4c39]\n",
       "link E3 to E2--><a href=\"psysml:b7a37c04-3b7e-4fde-bcd3-8ff7c74e6a20\" target=\"_top\" title=\"psysml:b7a37c04-3b7e-4fde-bcd3-8ff7c74e6a20\" xlink:actuate=\"onRequest\" xlink:href=\"psysml:b7a37c04-3b7e-4fde-bcd3-8ff7c74e6a20\" xlink:show=\"new\" xlink:title=\"psysml:b7a37c04-3b7e-4fde-bcd3-8ff7c74e6a20\" xlink:type=\"simple\"><path d=\"M935.53,128.26 C953.77,137.54 972.71,147.17 989.83,155.88 \" fill=\"none\" id=\"E3-&gt;E2\" style=\"stroke: #383838; stroke-width: 1.0;\"/><polygon fill=\"#FFFFFF\" points=\"1007.93,165.09,987.8216,162.7126,994.1704,150.2349,1007.93,165.09\" style=\"stroke: #383838; stroke-width: 1.0;\"/><ellipse cx=\"983.6484\" cy=\"158.3452\" fill=\"#383838\" rx=\"2\" ry=\"2\" style=\"stroke: #383838; stroke-width: 1.0;\"/><ellipse cx=\"988.1832\" cy=\"149.4326\" fill=\"#383838\" rx=\"2\" ry=\"2\" style=\"stroke: #383838; stroke-width: 1.0;\"/></a><!--MD5=[185131fc0dcab0a4505a2ebe144e961b]\n",
       "link E4 to E2--><a href=\"psysml:9348166f-8cea-4d7c-a96d-6192465a705e\" target=\"_top\" title=\"psysml:9348166f-8cea-4d7c-a96d-6192465a705e\" xlink:actuate=\"onRequest\" xlink:href=\"psysml:9348166f-8cea-4d7c-a96d-6192465a705e\" xlink:show=\"new\" xlink:title=\"psysml:9348166f-8cea-4d7c-a96d-6192465a705e\" xlink:type=\"simple\"><path d=\"M691.29,222.84 C768.02,235.86 863.68,244.17 948,228 C961.72,225.37 975.93,220.94 989.26,215.93 \" fill=\"none\" id=\"E4-&gt;E2\" style=\"stroke: #383838; stroke-width: 1.0;\"/><polygon fill=\"#FFFFFF\" points=\"1008,208.34,993.0236,221.9674,987.7621,208.9938,1008,208.34\" style=\"stroke: #383838; stroke-width: 1.0;\"/><ellipse cx=\"986.9898\" cy=\"222.2562\" fill=\"#383838\" rx=\"2\" ry=\"2\" style=\"stroke: #383838; stroke-width: 1.0;\"/><ellipse cx=\"983.2316\" cy=\"212.9893\" fill=\"#383838\" rx=\"2\" ry=\"2\" style=\"stroke: #383838; stroke-width: 1.0;\"/></a><!--MD5=[62aa6af11e70f752912c1cb0466f24f7]\n",
       "reverse link E4 to E5--><a href=\"psysml:94e091d2-0286-4211-8181-aedc46ba16d2\" target=\"_top\" title=\"psysml:94e091d2-0286-4211-8181-aedc46ba16d2\" xlink:actuate=\"onRequest\" xlink:href=\"psysml:94e091d2-0286-4211-8181-aedc46ba16d2\" xlink:show=\"new\" xlink:title=\"psysml:94e091d2-0286-4211-8181-aedc46ba16d2\" xlink:type=\"simple\"><path d=\"M704.45,187.96 C720.3,187.85 736.05,187.75 751,187.65 \" fill=\"none\" id=\"E4&lt;-E5\" style=\"stroke: #383838; stroke-width: 1.0;\"/><polygon fill=\"#383838\" points=\"691.13,188.04,697.1562,192.0004,703.1297,187.9609,697.1035,184.0005,691.13,188.04\" style=\"stroke: #383838; stroke-width: 1.0;\"/><text fill=\"#000000\" font-family=\"sans-serif\" font-size=\"13\" lengthAdjust=\"spacingAndGlyphs\" textLength=\"7\" x=\"735.8719\" y=\"200.3741\">*</text></a><!--MD5=[15ebcb19ae302d9b601edb458606d402]\n",
       "link E5 to E2--><a href=\"psysml:dc08c53a-a0f0-4000-a138-cf80983e3afa\" target=\"_top\" title=\"psysml:dc08c53a-a0f0-4000-a138-cf80983e3afa\" xlink:actuate=\"onRequest\" xlink:href=\"psysml:dc08c53a-a0f0-4000-a138-cf80983e3afa\" xlink:show=\"new\" xlink:title=\"psysml:dc08c53a-a0f0-4000-a138-cf80983e3afa\" xlink:type=\"simple\"><path d=\"M948.11,187 C961.57,187 975.09,187 987.71,187 \" fill=\"none\" id=\"E5-&gt;E2\" style=\"stroke: #383838; stroke-width: 1.0;\"/><polygon fill=\"#FFFFFF\" points=\"1007.92,187,988.92,194,988.92,180,1007.92,187\" style=\"stroke: #383838; stroke-width: 1.0;\"/><ellipse cx=\"983.22\" cy=\"192\" fill=\"#383838\" rx=\"2\" ry=\"2\" style=\"stroke: #383838; stroke-width: 1.0;\"/><ellipse cx=\"983.22\" cy=\"182\" fill=\"#383838\" rx=\"2\" ry=\"2\" style=\"stroke: #383838; stroke-width: 1.0;\"/></a><!--MD5=[f667431f98296947986a1a7595a31603]\n",
       "link E6 to E4--><a href=\"psysml:b31b3f2c-80ab-44f0-a26e-d801559af683\" target=\"_top\" title=\"psysml:b31b3f2c-80ab-44f0-a26e-d801559af683\" xlink:actuate=\"onRequest\" xlink:href=\"psysml:b31b3f2c-80ab-44f0-a26e-d801559af683\" xlink:show=\"new\" xlink:title=\"psysml:b31b3f2c-80ab-44f0-a26e-d801559af683\" xlink:type=\"simple\"><path d=\"M341.19,189 C354.17,189 367.32,189 380.38,189 \" fill=\"none\" id=\"E6-&gt;E4\" style=\"stroke: #383838; stroke-width: 1.0;\"/><polygon fill=\"none\" points=\"380.77,182,400.77,189,380.77,196,380.77,182\" style=\"stroke: #383838; stroke-width: 1.0;\"/></a><!--MD5=[772acb4092c901ec14640d0733597626]\n",
       "@startuml\r\n",
       "left to right direction\r\n",
       "skinparam monochrome true\r\n",
       "skinparam classbackgroundcolor white\r\n",
       "skinparam shadowing false\r\n",
       "skinparam wrapWidth 300\r\n",
       "hide circle\r\n",
       "\r\n",
       "package \"MassRollup\" as E1  [[psysml:93cce498-741b-46da-9a76-47f8a90b0e87 ]]  {\r\n",
       "comp def \"MassedThing\" as E2  <<(T,blue)part def>> [[psysml:2bfc4bf5-5785-4629-99c8-bf06d3584a79 ]] {\r\n",
       "- - attributes - -\r\n",
       "mass\r\n",
       "totalMass\r\n",
       "}\r\n",
       "comp usage \"simpleThing: MassedThing\" as E3  <<(T,blue)part>> [[psysml:d9d69a25-c21e-4c46-a572-d7b139b6ee26 ]] {\r\n",
       "- - attributes - -\r\n",
       "totalMass=mass; \\n//:>>MassedThing::totalMass// \r\n",
       "}\r\n",
       "comp usage \"compositeThing: MassedThing\" as E4  <<(T,blue)part>> [[psysml:343123b1-0808-41d0-8b17-a6ebb6acc0cb ]] {\r\n",
       "- - attributes - -\r\n",
       "totalMass=mass + (subcomponents->collect p:MassedThing (p::totalMass)->reduce '+' ?? 0.0); \\n//:>>MassedThing::totalMass// \r\n",
       "}\r\n",
       "comp usage \"subcomponents: MassedThing\" as E5  <<(T,blue)part>> [[psysml:09cd1f28-daf0-4d0d-a972-b9bf2a18e992 ]] {\r\n",
       "}\r\n",
       "comp usage \"filteredMassThing\" as E6  <<(T,blue)part>> [[psysml:b3309114-4b2b-46b3-9f4f-dc695177bad1 ]] {\r\n",
       "- - attributes - -\r\n",
       "minMass\r\n",
       "totalMass=(./subcomponents/mass[p (p > minMass)])->reduce '+' ?? 0.0; \\n//:>>MassedThing::totalMass// \r\n",
       "}\r\n",
       "E3 - -:|> E2 [[psysml:b7a37c04-3b7e-4fde-bcd3-8ff7c74e6a20 ]] \r\n",
       "E4 - -:|> E2 [[psysml:9348166f-8cea-4d7c-a96d-6192465a705e ]] \r\n",
       "E4 *- - \"*\"E5 [[psysml:94e091d2-0286-4211-8181-aedc46ba16d2 ]] \r\n",
       "E5 - -:|> E2 [[psysml:dc08c53a-a0f0-4000-a138-cf80983e3afa ]] \r\n",
       "E6 - -|> E4 [[psysml:b31b3f2c-80ab-44f0-a26e-d801559af683 ]] \r\n",
       "}\r\n",
       "@enduml\r\n",
       "\n",
       "PlantUML version 1.2020.13(Sat Jun 13 12:26:38 UTC 2020)\n",
       "(EPL source distribution)\n",
       "Java Runtime: OpenJDK Runtime Environment\n",
       "JVM: OpenJDK 64-Bit Server VM\n",
       "Default Encoding: UTF-8\n",
       "Language: en\n",
       "Country: null\n",
       "--></g></svg>"
      ]
     },
     "execution_count": 22,
     "metadata": {},
     "output_type": "execute_result"
    }
   ],
   "source": [
    "%viz --style=\"LR\" --view=\"MIXED\" \"MassRollup\""
   ]
  },
  {
   "cell_type": "code",
   "execution_count": 23,
   "id": "88de1c59",
   "metadata": {
    "execution": {
     "iopub.execute_input": "2021-04-20T07:26:56.929715Z",
     "iopub.status.busy": "2021-04-20T07:26:56.928855Z",
     "iopub.status.idle": "2021-04-20T07:26:57.123849Z",
     "shell.execute_reply": "2021-04-20T07:26:57.123176Z"
    }
   },
   "outputs": [
    {
     "data": {
      "image/svg+xml": [
       "<?xml version=\"1.0\" encoding=\"UTF-8\" standalone=\"no\"?><svg xmlns=\"http://www.w3.org/2000/svg\" xmlns:xlink=\"http://www.w3.org/1999/xlink\" contentScriptType=\"application/ecmascript\" contentStyleType=\"text/css\" height=\"564px\" preserveAspectRatio=\"none\" style=\"width:615px;height:564px;\" version=\"1.1\" viewBox=\"0 0 615 564\" width=\"615px\" zoomAndPan=\"magnify\"><defs><filter height=\"300%\" id=\"fcf054w5vvkm0\" width=\"300%\" x=\"-1\" y=\"-1\"><feGaussianBlur result=\"blurOut\" stdDeviation=\"2.0\"/><feColorMatrix in=\"blurOut\" result=\"blurOut2\" type=\"matrix\" values=\"0 0 0 0 0 0 0 0 0 0 0 0 0 0 0 0 0 0 .4 0\"/><feOffset dx=\"4.0\" dy=\"4.0\" in=\"blurOut2\" result=\"blurOut3\"/><feBlend in=\"SourceGraphic\" in2=\"blurOut3\" mode=\"normal\"/></filter></defs><g><!--MD5=[fbc87193dbaf4d95561dea2c320d4a47]\n",
       "cluster E1--><a href=\"psysml:93cce498-741b-46da-9a76-47f8a90b0e87\" target=\"_top\" title=\"psysml:93cce498-741b-46da-9a76-47f8a90b0e87\" xlink:actuate=\"onRequest\" xlink:href=\"psysml:93cce498-741b-46da-9a76-47f8a90b0e87\" xlink:show=\"new\" xlink:title=\"psysml:93cce498-741b-46da-9a76-47f8a90b0e87\" xlink:type=\"simple\"><polygon fill=\"#FFFFFF\" filter=\"url(#fcf054w5vvkm0)\" points=\"16,6,110,6,117,28.2969,593,28.2969,593,552,16,552,16,6\" style=\"stroke: #000000; stroke-width: 1.5;\"/><line style=\"stroke: #000000; stroke-width: 1.5;\" x1=\"16\" x2=\"117\" y1=\"28.2969\" y2=\"28.2969\"/><text fill=\"#000000\" font-family=\"sans-serif\" font-size=\"14\" font-weight=\"bold\" lengthAdjust=\"spacingAndGlyphs\" textLength=\"88\" x=\"20\" y=\"20.9951\">MassRollup</text></a><!--MD5=[b4997ac47864f28c2f74865a473b2911]\n",
       "class E2--><a href=\"psysml:2bfc4bf5-5785-4629-99c8-bf06d3584a79\" target=\"_top\" title=\"psysml:2bfc4bf5-5785-4629-99c8-bf06d3584a79\" xlink:actuate=\"onRequest\" xlink:href=\"psysml:2bfc4bf5-5785-4629-99c8-bf06d3584a79\" xlink:show=\"new\" xlink:title=\"psysml:2bfc4bf5-5785-4629-99c8-bf06d3584a79\" xlink:type=\"simple\"><rect fill=\"#FEFECE\" filter=\"url(#fcf054w5vvkm0)\" height=\"71.5469\" id=\"E2\" style=\"stroke: #A80036; stroke-width: 1.5;\" width=\"88\" x=\"124\" y=\"464\"/><text fill=\"#000000\" font-family=\"sans-serif\" font-size=\"12\" font-style=\"italic\" lengthAdjust=\"spacingAndGlyphs\" textLength=\"64\" x=\"136\" y=\"480.1387\">«part def»</text><text fill=\"#000000\" font-family=\"sans-serif\" font-size=\"12\" lengthAdjust=\"spacingAndGlyphs\" textLength=\"82\" x=\"127\" y=\"494.1074\">MassedThing</text><line style=\"stroke: #A80036; stroke-width: 1.5;\" x1=\"125\" x2=\"211\" y1=\"501.9375\" y2=\"501.9375\"/><text fill=\"#000000\" font-family=\"sans-serif\" font-size=\"11\" lengthAdjust=\"spacingAndGlyphs\" textLength=\"32\" x=\"130\" y=\"516.1479\">mass</text><text fill=\"#000000\" font-family=\"sans-serif\" font-size=\"11\" lengthAdjust=\"spacingAndGlyphs\" textLength=\"55\" x=\"130\" y=\"528.9526\">totalMass</text></a><!--MD5=[09b614a08d8cba4a07c9adeb5e0fee81]\n",
       "class E3--><a href=\"psysml:d9d69a25-c21e-4c46-a572-d7b139b6ee26\" target=\"_top\" title=\"psysml:d9d69a25-c21e-4c46-a572-d7b139b6ee26\" xlink:actuate=\"onRequest\" xlink:href=\"psysml:d9d69a25-c21e-4c46-a572-d7b139b6ee26\" xlink:show=\"new\" xlink:title=\"psysml:d9d69a25-c21e-4c46-a572-d7b139b6ee26\" xlink:type=\"simple\"><rect fill=\"#FEFECE\" filter=\"url(#fcf054w5vvkm0)\" height=\"59.6875\" id=\"E3\" rx=\"10\" ry=\"10\" style=\"stroke: #A80036; stroke-width: 1.5;\" width=\"275\" x=\"301.5\" y=\"344\"/><text fill=\"#000000\" font-family=\"sans-serif\" font-size=\"12\" font-style=\"italic\" lengthAdjust=\"spacingAndGlyphs\" textLength=\"40\" x=\"419\" y=\"360.1387\">«part»</text><text fill=\"#000000\" font-family=\"sans-serif\" font-size=\"12\" lengthAdjust=\"spacingAndGlyphs\" textLength=\"164\" x=\"357\" y=\"374.1074\">simpleThing: MassedThing</text><line style=\"stroke: #A80036; stroke-width: 1.5;\" x1=\"302.5\" x2=\"575.5\" y1=\"381.9375\" y2=\"381.9375\"/><path d=\"M309.4167,386.8542 L309.4167,396.0208 L310.3333,396.0208 L310.3333,386.8542 M313.0833,386.8542 L313.0833,396.0208 L320.4167,391.4375 L313.0833,386.8542 L314,388.2292 L319.0417,391.4375 L314,394.6458 L314,388.2292 \" fill=\"#000000\" style=\"stroke: ; stroke-width: 0.0; stroke-dasharray: ;\"/><text fill=\"#000000\" font-family=\"sans-serif\" font-size=\"11\" lengthAdjust=\"spacingAndGlyphs\" textLength=\"100\" x=\"324.5\" y=\"397.0933\">totalMass=mass;</text><text fill=\"#000000\" font-family=\"sans-serif\" font-size=\"11\" lengthAdjust=\"spacingAndGlyphs\" text-decoration=\"line-through\" textLength=\"138\" x=\"432.5\" y=\"397.0933\">MassedThing::totalMass</text></a><!--MD5=[ebbe1d658d1005bcc118a6aa81145e00]\n",
       "class E4--><a href=\"psysml:343123b1-0808-41d0-8b17-a6ebb6acc0cb\" target=\"_top\" title=\"psysml:343123b1-0808-41d0-8b17-a6ebb6acc0cb\" xlink:actuate=\"onRequest\" xlink:href=\"psysml:343123b1-0808-41d0-8b17-a6ebb6acc0cb\" xlink:show=\"new\" xlink:title=\"psysml:343123b1-0808-41d0-8b17-a6ebb6acc0cb\" xlink:type=\"simple\"><rect fill=\"#FEFECE\" filter=\"url(#fcf054w5vvkm0)\" height=\"85.2969\" id=\"E4\" rx=\"10\" ry=\"10\" style=\"stroke: #A80036; stroke-width: 1.5;\" width=\"369\" x=\"32.5\" y=\"199\"/><text fill=\"#000000\" font-family=\"sans-serif\" font-size=\"12\" font-style=\"italic\" lengthAdjust=\"spacingAndGlyphs\" textLength=\"40\" x=\"197\" y=\"215.1387\">«part»</text><text fill=\"#000000\" font-family=\"sans-serif\" font-size=\"12\" lengthAdjust=\"spacingAndGlyphs\" textLength=\"189\" x=\"122.5\" y=\"229.1074\">compositeThing: MassedThing</text><line style=\"stroke: #A80036; stroke-width: 1.5;\" x1=\"33.5\" x2=\"400.5\" y1=\"236.9375\" y2=\"236.9375\"/><path d=\"M40.4167,241.8542 L40.4167,251.0208 L41.3333,251.0208 L41.3333,241.8542 M44.0833,241.8542 L44.0833,251.0208 L51.4167,246.4375 L44.0833,241.8542 L45,243.2292 L50.0417,246.4375 L45,249.6458 L45,243.2292 \" fill=\"#000000\" style=\"stroke: ; stroke-width: 0.0; stroke-dasharray: ;\"/><text fill=\"#000000\" font-family=\"sans-serif\" font-size=\"11\" lengthAdjust=\"spacingAndGlyphs\" textLength=\"272\" x=\"55.5\" y=\"252.0933\">totalMass=mass + (subcomponents-&gt;collect p:</text><text fill=\"#000000\" font-family=\"sans-serif\" font-size=\"11\" lengthAdjust=\"spacingAndGlyphs\" textLength=\"274\" x=\"38.5\" y=\"264.8979\">MassedThing (p::totalMass)-&gt;reduce '+' ?? 0.0);</text><text fill=\"#000000\" font-family=\"sans-serif\" font-size=\"11\" lengthAdjust=\"spacingAndGlyphs\" text-decoration=\"line-through\" textLength=\"75\" x=\"320.5\" y=\"264.8979\">MassedThing</text><text fill=\"#000000\" font-family=\"sans-serif\" font-size=\"11\" lengthAdjust=\"spacingAndGlyphs\" text-decoration=\"line-through\" textLength=\"63\" x=\"38.5\" y=\"277.7026\">::totalMass</text></a><!--MD5=[270fce915f116d4de14055a7c1d9a0f3]\n",
       "class E5--><a href=\"psysml:09cd1f28-daf0-4d0d-a972-b9bf2a18e992\" target=\"_top\" title=\"psysml:09cd1f28-daf0-4d0d-a972-b9bf2a18e992\" xlink:actuate=\"onRequest\" xlink:href=\"psysml:09cd1f28-daf0-4d0d-a972-b9bf2a18e992\" xlink:show=\"new\" xlink:title=\"psysml:09cd1f28-daf0-4d0d-a972-b9bf2a18e992\" xlink:type=\"simple\"><rect fill=\"#FEFECE\" filter=\"url(#fcf054w5vvkm0)\" height=\"45.9375\" id=\"E5\" rx=\"10\" ry=\"10\" style=\"stroke: #A80036; stroke-width: 1.5;\" width=\"197\" x=\"69.5\" y=\"351\"/><text fill=\"#000000\" font-family=\"sans-serif\" font-size=\"12\" font-style=\"italic\" lengthAdjust=\"spacingAndGlyphs\" textLength=\"40\" x=\"148\" y=\"367.1387\">«part»</text><text fill=\"#000000\" font-family=\"sans-serif\" font-size=\"12\" lengthAdjust=\"spacingAndGlyphs\" textLength=\"191\" x=\"72.5\" y=\"381.1074\">subcomponents: MassedThing</text><line style=\"stroke: #A80036; stroke-width: 1.5;\" x1=\"70.5\" x2=\"265.5\" y1=\"388.9375\" y2=\"388.9375\"/></a><!--MD5=[60a26617385b1d2d0262a64233df1f8d]\n",
       "class E6--><a href=\"psysml:b3309114-4b2b-46b3-9f4f-dc695177bad1\" target=\"_top\" title=\"psysml:b3309114-4b2b-46b3-9f4f-dc695177bad1\" xlink:actuate=\"onRequest\" xlink:href=\"psysml:b3309114-4b2b-46b3-9f4f-dc695177bad1\" xlink:show=\"new\" xlink:title=\"psysml:b3309114-4b2b-46b3-9f4f-dc695177bad1\" xlink:type=\"simple\"><rect fill=\"#FEFECE\" filter=\"url(#fcf054w5vvkm0)\" height=\"98.1016\" id=\"E6\" rx=\"10\" ry=\"10\" style=\"stroke: #A80036; stroke-width: 1.5;\" width=\"279\" x=\"77.5\" y=\"41\"/><text fill=\"#000000\" font-family=\"sans-serif\" font-size=\"12\" font-style=\"italic\" lengthAdjust=\"spacingAndGlyphs\" textLength=\"40\" x=\"197\" y=\"57.1387\">«part»</text><text fill=\"#000000\" font-family=\"sans-serif\" font-size=\"12\" lengthAdjust=\"spacingAndGlyphs\" textLength=\"110\" x=\"162\" y=\"71.1074\">filteredMassThing</text><line style=\"stroke: #A80036; stroke-width: 1.5;\" x1=\"78.5\" x2=\"355.5\" y1=\"78.9375\" y2=\"78.9375\"/><text fill=\"#000000\" font-family=\"sans-serif\" font-size=\"11\" lengthAdjust=\"spacingAndGlyphs\" textLength=\"51\" x=\"83.5\" y=\"93.1479\">minMass</text><path d=\"M85.4167,96.6589 L85.4167,105.8255 L86.3333,105.8255 L86.3333,96.6589 M89.0833,96.6589 L89.0833,105.8255 L96.4167,101.2422 L89.0833,96.6589 L90,98.0339 L95.0417,101.2422 L90,104.4505 L90,98.0339 \" fill=\"#000000\" style=\"stroke: ; stroke-width: 0.0; stroke-dasharray: ;\"/><text fill=\"#000000\" font-family=\"sans-serif\" font-size=\"11\" lengthAdjust=\"spacingAndGlyphs\" textLength=\"242\" x=\"100.5\" y=\"106.8979\">totalMass=(./subcomponents/mass[p (p &gt;</text><text fill=\"#000000\" font-family=\"sans-serif\" font-size=\"11\" lengthAdjust=\"spacingAndGlyphs\" textLength=\"176\" x=\"83.5\" y=\"119.7026\">minMass)])-&gt;reduce '+' ?? 0.0;</text><text fill=\"#000000\" font-family=\"sans-serif\" font-size=\"11\" lengthAdjust=\"spacingAndGlyphs\" text-decoration=\"line-through\" textLength=\"83\" x=\"267.5\" y=\"119.7026\">MassedThing::</text><text fill=\"#000000\" font-family=\"sans-serif\" font-size=\"11\" lengthAdjust=\"spacingAndGlyphs\" text-decoration=\"line-through\" textLength=\"55\" x=\"83.5\" y=\"132.5073\">totalMass</text></a><!--MD5=[05d275557350bfb9b23a4ef7222b4c39]\n",
       "link E3 to E2--><a href=\"psysml:b7a37c04-3b7e-4fde-bcd3-8ff7c74e6a20\" target=\"_top\" title=\"psysml:b7a37c04-3b7e-4fde-bcd3-8ff7c74e6a20\" xlink:actuate=\"onRequest\" xlink:href=\"psysml:b7a37c04-3b7e-4fde-bcd3-8ff7c74e6a20\" xlink:show=\"new\" xlink:title=\"psysml:b7a37c04-3b7e-4fde-bcd3-8ff7c74e6a20\" xlink:type=\"simple\"><path d=\"M375.46,404.07 C331.72,424.09 273.88,450.56 230.38,470.46 \" fill=\"none\" id=\"E3-&gt;E2\" style=\"stroke: #A80036; stroke-width: 1.0;\"/><polygon fill=\"#FFFFFF\" points=\"212.11,478.82,226.4699,464.5444,232.2993,477.273,212.11,478.82\" style=\"stroke: #A80036; stroke-width: 1.0;\"/><ellipse cx=\"232.485\" cy=\"463.9894\" fill=\"#A80036\" rx=\"2\" ry=\"2\" style=\"stroke: #A80036; stroke-width: 1.0;\"/><ellipse cx=\"236.6489\" cy=\"473.0813\" fill=\"#A80036\" rx=\"2\" ry=\"2\" style=\"stroke: #A80036; stroke-width: 1.0;\"/></a><!--MD5=[185131fc0dcab0a4505a2ebe144e961b]\n",
       "link E4 to E2--><a href=\"psysml:9348166f-8cea-4d7c-a96d-6192465a705e\" target=\"_top\" title=\"psysml:9348166f-8cea-4d7c-a96d-6192465a705e\" xlink:actuate=\"onRequest\" xlink:href=\"psysml:9348166f-8cea-4d7c-a96d-6192465a705e\" xlink:show=\"new\" xlink:title=\"psysml:9348166f-8cea-4d7c-a96d-6192465a705e\" xlink:type=\"simple\"><path d=\"M113.59,284.19 C89.09,299.24 66.03,318.9 52,344 C38.99,367.28 40.59,379.9 52,404 C63.79,428.9 85.67,449.46 107.27,465 \" fill=\"none\" id=\"E4-&gt;E2\" style=\"stroke: #A80036; stroke-width: 1.0;\"/><polygon fill=\"#FFFFFF\" points=\"123.95,476.13,104.2638,471.3916,112.0434,459.7522,123.95,476.13\" style=\"stroke: #A80036; stroke-width: 1.0;\"/><ellipse cx=\"100.6362\" cy=\"466.5614\" fill=\"#A80036\" rx=\"2\" ry=\"2\" style=\"stroke: #A80036; stroke-width: 1.0;\"/><ellipse cx=\"106.1931\" cy=\"458.2475\" fill=\"#A80036\" rx=\"2\" ry=\"2\" style=\"stroke: #A80036; stroke-width: 1.0;\"/></a><!--MD5=[62aa6af11e70f752912c1cb0466f24f7]\n",
       "reverse link E4 to E5--><a href=\"psysml:94e091d2-0286-4211-8181-aedc46ba16d2\" target=\"_top\" title=\"psysml:94e091d2-0286-4211-8181-aedc46ba16d2\" xlink:actuate=\"onRequest\" xlink:href=\"psysml:94e091d2-0286-4211-8181-aedc46ba16d2\" xlink:show=\"new\" xlink:title=\"psysml:94e091d2-0286-4211-8181-aedc46ba16d2\" xlink:type=\"simple\"><path d=\"M196.77,296.38 C189.63,315.4 181.99,335.75 176.38,350.69 \" fill=\"none\" id=\"E4&lt;-E5\" style=\"stroke: #A80036; stroke-width: 1.0;\"/><polygon fill=\"#A80036\" points=\"201.36,284.15,195.5058,288.3605,197.1407,295.3838,202.995,291.1733,201.36,284.15\" style=\"stroke: #A80036; stroke-width: 1.0;\"/><text fill=\"#000000\" font-family=\"sans-serif\" font-size=\"13\" lengthAdjust=\"spacingAndGlyphs\" textLength=\"7\" x=\"170.6305\" y=\"339.8869\">*</text></a><!--MD5=[15ebcb19ae302d9b601edb458606d402]\n",
       "link E5 to E2--><a href=\"psysml:dc08c53a-a0f0-4000-a138-cf80983e3afa\" target=\"_top\" title=\"psysml:dc08c53a-a0f0-4000-a138-cf80983e3afa\" xlink:actuate=\"onRequest\" xlink:href=\"psysml:dc08c53a-a0f0-4000-a138-cf80983e3afa\" xlink:show=\"new\" xlink:title=\"psysml:dc08c53a-a0f0-4000-a138-cf80983e3afa\" xlink:type=\"simple\"><path d=\"M168,397.17 C168,410.2 168,427.3 168,443.75 \" fill=\"none\" id=\"E5-&gt;E2\" style=\"stroke: #A80036; stroke-width: 1.0;\"/><polygon fill=\"#FFFFFF\" points=\"168,463.9,161,444.9,175,444.9,168,463.9\" style=\"stroke: #A80036; stroke-width: 1.0;\"/><ellipse cx=\"163\" cy=\"439.2\" fill=\"#A80036\" rx=\"2\" ry=\"2\" style=\"stroke: #A80036; stroke-width: 1.0;\"/><ellipse cx=\"173\" cy=\"439.2\" fill=\"#A80036\" rx=\"2\" ry=\"2\" style=\"stroke: #A80036; stroke-width: 1.0;\"/></a><!--MD5=[f667431f98296947986a1a7595a31603]\n",
       "link E6 to E4--><a href=\"psysml:b31b3f2c-80ab-44f0-a26e-d801559af683\" target=\"_top\" title=\"psysml:b31b3f2c-80ab-44f0-a26e-d801559af683\" xlink:actuate=\"onRequest\" xlink:href=\"psysml:b31b3f2c-80ab-44f0-a26e-d801559af683\" xlink:show=\"new\" xlink:title=\"psysml:b31b3f2c-80ab-44f0-a26e-d801559af683\" xlink:type=\"simple\"><path d=\"M217,139.13 C217,151.52 217,165.05 217,178.06 \" fill=\"none\" id=\"E6-&gt;E4\" style=\"stroke: #A80036; stroke-width: 1.0;\"/><polygon fill=\"none\" points=\"224,178.51,217,198.51,210,178.51,224,178.51\" style=\"stroke: #A80036; stroke-width: 1.0;\"/></a><!--MD5=[1ec4f0c0817e7b2c745b686aea327e3b]\n",
       "@startuml\r\n",
       "skinparam wrapWidth 300\r\n",
       "hide circle\r\n",
       "\r\n",
       "package \"MassRollup\" as E1  [[psysml:93cce498-741b-46da-9a76-47f8a90b0e87 ]]  {\r\n",
       "comp def \"MassedThing\" as E2  <<(T,blue)part def>> [[psysml:2bfc4bf5-5785-4629-99c8-bf06d3584a79 ]] {\r\n",
       "mass\r\n",
       "totalMass\r\n",
       "}\r\n",
       "comp usage \"simpleThing: MassedThing\" as E3  <<(T,blue)part>> [[psysml:d9d69a25-c21e-4c46-a572-d7b139b6ee26 ]] {\r\n",
       "<&bar-trig> totalMass=mass;  <s>MassedThing::totalMass</s>\r\n",
       "}\r\n",
       "comp usage \"compositeThing: MassedThing\" as E4  <<(T,blue)part>> [[psysml:343123b1-0808-41d0-8b17-a6ebb6acc0cb ]] {\r\n",
       "<&bar-trig> totalMass=mass + (subcomponents->collect p:MassedThing (p::totalMass)->reduce '+' ?? 0.0);  <s>MassedThing::totalMass</s>\r\n",
       "}\r\n",
       "comp usage \"subcomponents: MassedThing\" as E5  <<(T,blue)part>> [[psysml:09cd1f28-daf0-4d0d-a972-b9bf2a18e992 ]] {\r\n",
       "}\r\n",
       "comp usage \"filteredMassThing\" as E6  <<(T,blue)part>> [[psysml:b3309114-4b2b-46b3-9f4f-dc695177bad1 ]] {\r\n",
       "minMass\r\n",
       "<&bar-trig> totalMass=(./subcomponents/mass[p (p > minMass)])->reduce '+' ?? 0.0;  <s>MassedThing::totalMass</s>\r\n",
       "}\r\n",
       "E3 - -:|> E2 [[psysml:b7a37c04-3b7e-4fde-bcd3-8ff7c74e6a20 ]] \r\n",
       "E4 - -:|> E2 [[psysml:9348166f-8cea-4d7c-a96d-6192465a705e ]] \r\n",
       "E4 *- - \"*\"E5 [[psysml:94e091d2-0286-4211-8181-aedc46ba16d2 ]] \r\n",
       "E5 - -:|> E2 [[psysml:dc08c53a-a0f0-4000-a138-cf80983e3afa ]] \r\n",
       "E6 - -|> E4 [[psysml:b31b3f2c-80ab-44f0-a26e-d801559af683 ]] \r\n",
       "}\r\n",
       "@enduml\r\n",
       "\n",
       "PlantUML version 1.2020.13(Sat Jun 13 12:26:38 UTC 2020)\n",
       "(EPL source distribution)\n",
       "Java Runtime: OpenJDK Runtime Environment\n",
       "JVM: OpenJDK 64-Bit Server VM\n",
       "Default Encoding: UTF-8\n",
       "Language: en\n",
       "Country: null\n",
       "--></g></svg>"
      ]
     },
     "execution_count": 23,
     "metadata": {},
     "output_type": "execute_result"
    }
   ],
   "source": [
    "%viz --style=\"STDCOLOR\" --view=\"Default\" \"MassRollup\""
   ]
  },
  {
   "cell_type": "code",
   "execution_count": 24,
   "id": "3ce2b7f3",
   "metadata": {
    "execution": {
     "iopub.execute_input": "2021-04-20T07:26:57.175083Z",
     "iopub.status.busy": "2021-04-20T07:26:57.173187Z",
     "iopub.status.idle": "2021-04-20T07:26:57.345915Z",
     "shell.execute_reply": "2021-04-20T07:26:57.345347Z"
    }
   },
   "outputs": [
    {
     "data": {
      "image/svg+xml": [
       "<?xml version=\"1.0\" encoding=\"UTF-8\" standalone=\"no\"?><svg xmlns=\"http://www.w3.org/2000/svg\" xmlns:xlink=\"http://www.w3.org/1999/xlink\" contentScriptType=\"application/ecmascript\" contentStyleType=\"text/css\" height=\"564px\" preserveAspectRatio=\"none\" style=\"width:615px;height:564px;\" version=\"1.1\" viewBox=\"0 0 615 564\" width=\"615px\" zoomAndPan=\"magnify\"><defs><filter height=\"300%\" id=\"fcf054w5vvkm0\" width=\"300%\" x=\"-1\" y=\"-1\"><feGaussianBlur result=\"blurOut\" stdDeviation=\"2.0\"/><feColorMatrix in=\"blurOut\" result=\"blurOut2\" type=\"matrix\" values=\"0 0 0 0 0 0 0 0 0 0 0 0 0 0 0 0 0 0 .4 0\"/><feOffset dx=\"4.0\" dy=\"4.0\" in=\"blurOut2\" result=\"blurOut3\"/><feBlend in=\"SourceGraphic\" in2=\"blurOut3\" mode=\"normal\"/></filter></defs><g><!--MD5=[fbc87193dbaf4d95561dea2c320d4a47]\n",
       "cluster E1--><a href=\"psysml:93cce498-741b-46da-9a76-47f8a90b0e87\" target=\"_top\" title=\"psysml:93cce498-741b-46da-9a76-47f8a90b0e87\" xlink:actuate=\"onRequest\" xlink:href=\"psysml:93cce498-741b-46da-9a76-47f8a90b0e87\" xlink:show=\"new\" xlink:title=\"psysml:93cce498-741b-46da-9a76-47f8a90b0e87\" xlink:type=\"simple\"><polygon fill=\"#FFFFFF\" filter=\"url(#fcf054w5vvkm0)\" points=\"16,6,110,6,117,28.2969,593,28.2969,593,552,16,552,16,6\" style=\"stroke: #000000; stroke-width: 1.5;\"/><line style=\"stroke: #000000; stroke-width: 1.5;\" x1=\"16\" x2=\"117\" y1=\"28.2969\" y2=\"28.2969\"/><text fill=\"#000000\" font-family=\"sans-serif\" font-size=\"14\" font-weight=\"bold\" lengthAdjust=\"spacingAndGlyphs\" textLength=\"88\" x=\"20\" y=\"20.9951\">MassRollup</text></a><!--MD5=[b4997ac47864f28c2f74865a473b2911]\n",
       "class E2--><a href=\"psysml:2bfc4bf5-5785-4629-99c8-bf06d3584a79\" target=\"_top\" title=\"psysml:2bfc4bf5-5785-4629-99c8-bf06d3584a79\" xlink:actuate=\"onRequest\" xlink:href=\"psysml:2bfc4bf5-5785-4629-99c8-bf06d3584a79\" xlink:show=\"new\" xlink:title=\"psysml:2bfc4bf5-5785-4629-99c8-bf06d3584a79\" xlink:type=\"simple\"><rect fill=\"#FEFECE\" filter=\"url(#fcf054w5vvkm0)\" height=\"71.5469\" id=\"E2\" style=\"stroke: #A80036; stroke-width: 1.5;\" width=\"88\" x=\"124\" y=\"464\"/><text fill=\"#000000\" font-family=\"sans-serif\" font-size=\"12\" font-style=\"italic\" lengthAdjust=\"spacingAndGlyphs\" textLength=\"64\" x=\"136\" y=\"480.1387\">«part def»</text><text fill=\"#000000\" font-family=\"sans-serif\" font-size=\"12\" lengthAdjust=\"spacingAndGlyphs\" textLength=\"82\" x=\"127\" y=\"494.1074\">MassedThing</text><line style=\"stroke: #A80036; stroke-width: 1.5;\" x1=\"125\" x2=\"211\" y1=\"501.9375\" y2=\"501.9375\"/><text fill=\"#000000\" font-family=\"sans-serif\" font-size=\"11\" lengthAdjust=\"spacingAndGlyphs\" textLength=\"32\" x=\"130\" y=\"516.1479\">mass</text><text fill=\"#000000\" font-family=\"sans-serif\" font-size=\"11\" lengthAdjust=\"spacingAndGlyphs\" textLength=\"55\" x=\"130\" y=\"528.9526\">totalMass</text></a><!--MD5=[09b614a08d8cba4a07c9adeb5e0fee81]\n",
       "class E3--><a href=\"psysml:d9d69a25-c21e-4c46-a572-d7b139b6ee26\" target=\"_top\" title=\"psysml:d9d69a25-c21e-4c46-a572-d7b139b6ee26\" xlink:actuate=\"onRequest\" xlink:href=\"psysml:d9d69a25-c21e-4c46-a572-d7b139b6ee26\" xlink:show=\"new\" xlink:title=\"psysml:d9d69a25-c21e-4c46-a572-d7b139b6ee26\" xlink:type=\"simple\"><rect fill=\"#FEFECE\" filter=\"url(#fcf054w5vvkm0)\" height=\"59.6875\" id=\"E3\" rx=\"10\" ry=\"10\" style=\"stroke: #A80036; stroke-width: 1.5;\" width=\"275\" x=\"301.5\" y=\"344\"/><text fill=\"#000000\" font-family=\"sans-serif\" font-size=\"12\" font-style=\"italic\" lengthAdjust=\"spacingAndGlyphs\" textLength=\"40\" x=\"419\" y=\"360.1387\">«part»</text><text fill=\"#000000\" font-family=\"sans-serif\" font-size=\"12\" lengthAdjust=\"spacingAndGlyphs\" textLength=\"164\" x=\"357\" y=\"374.1074\">simpleThing: MassedThing</text><line style=\"stroke: #A80036; stroke-width: 1.5;\" x1=\"302.5\" x2=\"575.5\" y1=\"381.9375\" y2=\"381.9375\"/><path d=\"M309.4167,386.8542 L309.4167,396.0208 L310.3333,396.0208 L310.3333,386.8542 M313.0833,386.8542 L313.0833,396.0208 L320.4167,391.4375 L313.0833,386.8542 L314,388.2292 L319.0417,391.4375 L314,394.6458 L314,388.2292 \" fill=\"#000000\" style=\"stroke: ; stroke-width: 0.0; stroke-dasharray: ;\"/><text fill=\"#000000\" font-family=\"sans-serif\" font-size=\"11\" lengthAdjust=\"spacingAndGlyphs\" textLength=\"100\" x=\"324.5\" y=\"397.0933\">totalMass=mass;</text><text fill=\"#000000\" font-family=\"sans-serif\" font-size=\"11\" lengthAdjust=\"spacingAndGlyphs\" text-decoration=\"line-through\" textLength=\"138\" x=\"432.5\" y=\"397.0933\">MassedThing::totalMass</text></a><!--MD5=[ebbe1d658d1005bcc118a6aa81145e00]\n",
       "class E4--><a href=\"psysml:343123b1-0808-41d0-8b17-a6ebb6acc0cb\" target=\"_top\" title=\"psysml:343123b1-0808-41d0-8b17-a6ebb6acc0cb\" xlink:actuate=\"onRequest\" xlink:href=\"psysml:343123b1-0808-41d0-8b17-a6ebb6acc0cb\" xlink:show=\"new\" xlink:title=\"psysml:343123b1-0808-41d0-8b17-a6ebb6acc0cb\" xlink:type=\"simple\"><rect fill=\"#FEFECE\" filter=\"url(#fcf054w5vvkm0)\" height=\"85.2969\" id=\"E4\" rx=\"10\" ry=\"10\" style=\"stroke: #A80036; stroke-width: 1.5;\" width=\"369\" x=\"32.5\" y=\"199\"/><text fill=\"#000000\" font-family=\"sans-serif\" font-size=\"12\" font-style=\"italic\" lengthAdjust=\"spacingAndGlyphs\" textLength=\"40\" x=\"197\" y=\"215.1387\">«part»</text><text fill=\"#000000\" font-family=\"sans-serif\" font-size=\"12\" lengthAdjust=\"spacingAndGlyphs\" textLength=\"189\" x=\"122.5\" y=\"229.1074\">compositeThing: MassedThing</text><line style=\"stroke: #A80036; stroke-width: 1.5;\" x1=\"33.5\" x2=\"400.5\" y1=\"236.9375\" y2=\"236.9375\"/><path d=\"M40.4167,241.8542 L40.4167,251.0208 L41.3333,251.0208 L41.3333,241.8542 M44.0833,241.8542 L44.0833,251.0208 L51.4167,246.4375 L44.0833,241.8542 L45,243.2292 L50.0417,246.4375 L45,249.6458 L45,243.2292 \" fill=\"#000000\" style=\"stroke: ; stroke-width: 0.0; stroke-dasharray: ;\"/><text fill=\"#000000\" font-family=\"sans-serif\" font-size=\"11\" lengthAdjust=\"spacingAndGlyphs\" textLength=\"272\" x=\"55.5\" y=\"252.0933\">totalMass=mass + (subcomponents-&gt;collect p:</text><text fill=\"#000000\" font-family=\"sans-serif\" font-size=\"11\" lengthAdjust=\"spacingAndGlyphs\" textLength=\"274\" x=\"38.5\" y=\"264.8979\">MassedThing (p::totalMass)-&gt;reduce '+' ?? 0.0);</text><text fill=\"#000000\" font-family=\"sans-serif\" font-size=\"11\" lengthAdjust=\"spacingAndGlyphs\" text-decoration=\"line-through\" textLength=\"75\" x=\"320.5\" y=\"264.8979\">MassedThing</text><text fill=\"#000000\" font-family=\"sans-serif\" font-size=\"11\" lengthAdjust=\"spacingAndGlyphs\" text-decoration=\"line-through\" textLength=\"63\" x=\"38.5\" y=\"277.7026\">::totalMass</text></a><!--MD5=[270fce915f116d4de14055a7c1d9a0f3]\n",
       "class E5--><a href=\"psysml:09cd1f28-daf0-4d0d-a972-b9bf2a18e992\" target=\"_top\" title=\"psysml:09cd1f28-daf0-4d0d-a972-b9bf2a18e992\" xlink:actuate=\"onRequest\" xlink:href=\"psysml:09cd1f28-daf0-4d0d-a972-b9bf2a18e992\" xlink:show=\"new\" xlink:title=\"psysml:09cd1f28-daf0-4d0d-a972-b9bf2a18e992\" xlink:type=\"simple\"><rect fill=\"#FEFECE\" filter=\"url(#fcf054w5vvkm0)\" height=\"45.9375\" id=\"E5\" rx=\"10\" ry=\"10\" style=\"stroke: #A80036; stroke-width: 1.5;\" width=\"197\" x=\"69.5\" y=\"351\"/><text fill=\"#000000\" font-family=\"sans-serif\" font-size=\"12\" font-style=\"italic\" lengthAdjust=\"spacingAndGlyphs\" textLength=\"40\" x=\"148\" y=\"367.1387\">«part»</text><text fill=\"#000000\" font-family=\"sans-serif\" font-size=\"12\" lengthAdjust=\"spacingAndGlyphs\" textLength=\"191\" x=\"72.5\" y=\"381.1074\">subcomponents: MassedThing</text><line style=\"stroke: #A80036; stroke-width: 1.5;\" x1=\"70.5\" x2=\"265.5\" y1=\"388.9375\" y2=\"388.9375\"/></a><!--MD5=[60a26617385b1d2d0262a64233df1f8d]\n",
       "class E6--><a href=\"psysml:b3309114-4b2b-46b3-9f4f-dc695177bad1\" target=\"_top\" title=\"psysml:b3309114-4b2b-46b3-9f4f-dc695177bad1\" xlink:actuate=\"onRequest\" xlink:href=\"psysml:b3309114-4b2b-46b3-9f4f-dc695177bad1\" xlink:show=\"new\" xlink:title=\"psysml:b3309114-4b2b-46b3-9f4f-dc695177bad1\" xlink:type=\"simple\"><rect fill=\"#FEFECE\" filter=\"url(#fcf054w5vvkm0)\" height=\"98.1016\" id=\"E6\" rx=\"10\" ry=\"10\" style=\"stroke: #A80036; stroke-width: 1.5;\" width=\"279\" x=\"77.5\" y=\"41\"/><text fill=\"#000000\" font-family=\"sans-serif\" font-size=\"12\" font-style=\"italic\" lengthAdjust=\"spacingAndGlyphs\" textLength=\"40\" x=\"197\" y=\"57.1387\">«part»</text><text fill=\"#000000\" font-family=\"sans-serif\" font-size=\"12\" lengthAdjust=\"spacingAndGlyphs\" textLength=\"110\" x=\"162\" y=\"71.1074\">filteredMassThing</text><line style=\"stroke: #A80036; stroke-width: 1.5;\" x1=\"78.5\" x2=\"355.5\" y1=\"78.9375\" y2=\"78.9375\"/><text fill=\"#000000\" font-family=\"sans-serif\" font-size=\"11\" lengthAdjust=\"spacingAndGlyphs\" textLength=\"51\" x=\"83.5\" y=\"93.1479\">minMass</text><path d=\"M85.4167,96.6589 L85.4167,105.8255 L86.3333,105.8255 L86.3333,96.6589 M89.0833,96.6589 L89.0833,105.8255 L96.4167,101.2422 L89.0833,96.6589 L90,98.0339 L95.0417,101.2422 L90,104.4505 L90,98.0339 \" fill=\"#000000\" style=\"stroke: ; stroke-width: 0.0; stroke-dasharray: ;\"/><text fill=\"#000000\" font-family=\"sans-serif\" font-size=\"11\" lengthAdjust=\"spacingAndGlyphs\" textLength=\"242\" x=\"100.5\" y=\"106.8979\">totalMass=(./subcomponents/mass[p (p &gt;</text><text fill=\"#000000\" font-family=\"sans-serif\" font-size=\"11\" lengthAdjust=\"spacingAndGlyphs\" textLength=\"176\" x=\"83.5\" y=\"119.7026\">minMass)])-&gt;reduce '+' ?? 0.0;</text><text fill=\"#000000\" font-family=\"sans-serif\" font-size=\"11\" lengthAdjust=\"spacingAndGlyphs\" text-decoration=\"line-through\" textLength=\"83\" x=\"267.5\" y=\"119.7026\">MassedThing::</text><text fill=\"#000000\" font-family=\"sans-serif\" font-size=\"11\" lengthAdjust=\"spacingAndGlyphs\" text-decoration=\"line-through\" textLength=\"55\" x=\"83.5\" y=\"132.5073\">totalMass</text></a><!--MD5=[05d275557350bfb9b23a4ef7222b4c39]\n",
       "link E3 to E2--><a href=\"psysml:b7a37c04-3b7e-4fde-bcd3-8ff7c74e6a20\" target=\"_top\" title=\"psysml:b7a37c04-3b7e-4fde-bcd3-8ff7c74e6a20\" xlink:actuate=\"onRequest\" xlink:href=\"psysml:b7a37c04-3b7e-4fde-bcd3-8ff7c74e6a20\" xlink:show=\"new\" xlink:title=\"psysml:b7a37c04-3b7e-4fde-bcd3-8ff7c74e6a20\" xlink:type=\"simple\"><path d=\"M375.46,404.07 C331.72,424.09 273.88,450.56 230.38,470.46 \" fill=\"none\" id=\"E3-&gt;E2\" style=\"stroke: #A80036; stroke-width: 1.0;\"/><polygon fill=\"#FFFFFF\" points=\"212.11,478.82,226.4699,464.5444,232.2993,477.273,212.11,478.82\" style=\"stroke: #A80036; stroke-width: 1.0;\"/><ellipse cx=\"232.485\" cy=\"463.9894\" fill=\"#A80036\" rx=\"2\" ry=\"2\" style=\"stroke: #A80036; stroke-width: 1.0;\"/><ellipse cx=\"236.6489\" cy=\"473.0813\" fill=\"#A80036\" rx=\"2\" ry=\"2\" style=\"stroke: #A80036; stroke-width: 1.0;\"/></a><!--MD5=[185131fc0dcab0a4505a2ebe144e961b]\n",
       "link E4 to E2--><a href=\"psysml:9348166f-8cea-4d7c-a96d-6192465a705e\" target=\"_top\" title=\"psysml:9348166f-8cea-4d7c-a96d-6192465a705e\" xlink:actuate=\"onRequest\" xlink:href=\"psysml:9348166f-8cea-4d7c-a96d-6192465a705e\" xlink:show=\"new\" xlink:title=\"psysml:9348166f-8cea-4d7c-a96d-6192465a705e\" xlink:type=\"simple\"><path d=\"M113.59,284.19 C89.09,299.24 66.03,318.9 52,344 C38.99,367.28 40.59,379.9 52,404 C63.79,428.9 85.67,449.46 107.27,465 \" fill=\"none\" id=\"E4-&gt;E2\" style=\"stroke: #A80036; stroke-width: 1.0;\"/><polygon fill=\"#FFFFFF\" points=\"123.95,476.13,104.2638,471.3916,112.0434,459.7522,123.95,476.13\" style=\"stroke: #A80036; stroke-width: 1.0;\"/><ellipse cx=\"100.6362\" cy=\"466.5614\" fill=\"#A80036\" rx=\"2\" ry=\"2\" style=\"stroke: #A80036; stroke-width: 1.0;\"/><ellipse cx=\"106.1931\" cy=\"458.2475\" fill=\"#A80036\" rx=\"2\" ry=\"2\" style=\"stroke: #A80036; stroke-width: 1.0;\"/></a><!--MD5=[62aa6af11e70f752912c1cb0466f24f7]\n",
       "reverse link E4 to E5--><a href=\"psysml:94e091d2-0286-4211-8181-aedc46ba16d2\" target=\"_top\" title=\"psysml:94e091d2-0286-4211-8181-aedc46ba16d2\" xlink:actuate=\"onRequest\" xlink:href=\"psysml:94e091d2-0286-4211-8181-aedc46ba16d2\" xlink:show=\"new\" xlink:title=\"psysml:94e091d2-0286-4211-8181-aedc46ba16d2\" xlink:type=\"simple\"><path d=\"M196.77,296.38 C189.63,315.4 181.99,335.75 176.38,350.69 \" fill=\"none\" id=\"E4&lt;-E5\" style=\"stroke: #A80036; stroke-width: 1.0;\"/><polygon fill=\"#A80036\" points=\"201.36,284.15,195.5058,288.3605,197.1407,295.3838,202.995,291.1733,201.36,284.15\" style=\"stroke: #A80036; stroke-width: 1.0;\"/><text fill=\"#000000\" font-family=\"sans-serif\" font-size=\"13\" lengthAdjust=\"spacingAndGlyphs\" textLength=\"7\" x=\"170.6305\" y=\"339.8869\">*</text></a><!--MD5=[15ebcb19ae302d9b601edb458606d402]\n",
       "link E5 to E2--><a href=\"psysml:dc08c53a-a0f0-4000-a138-cf80983e3afa\" target=\"_top\" title=\"psysml:dc08c53a-a0f0-4000-a138-cf80983e3afa\" xlink:actuate=\"onRequest\" xlink:href=\"psysml:dc08c53a-a0f0-4000-a138-cf80983e3afa\" xlink:show=\"new\" xlink:title=\"psysml:dc08c53a-a0f0-4000-a138-cf80983e3afa\" xlink:type=\"simple\"><path d=\"M168,397.17 C168,410.2 168,427.3 168,443.75 \" fill=\"none\" id=\"E5-&gt;E2\" style=\"stroke: #A80036; stroke-width: 1.0;\"/><polygon fill=\"#FFFFFF\" points=\"168,463.9,161,444.9,175,444.9,168,463.9\" style=\"stroke: #A80036; stroke-width: 1.0;\"/><ellipse cx=\"163\" cy=\"439.2\" fill=\"#A80036\" rx=\"2\" ry=\"2\" style=\"stroke: #A80036; stroke-width: 1.0;\"/><ellipse cx=\"173\" cy=\"439.2\" fill=\"#A80036\" rx=\"2\" ry=\"2\" style=\"stroke: #A80036; stroke-width: 1.0;\"/></a><!--MD5=[f667431f98296947986a1a7595a31603]\n",
       "link E6 to E4--><a href=\"psysml:b31b3f2c-80ab-44f0-a26e-d801559af683\" target=\"_top\" title=\"psysml:b31b3f2c-80ab-44f0-a26e-d801559af683\" xlink:actuate=\"onRequest\" xlink:href=\"psysml:b31b3f2c-80ab-44f0-a26e-d801559af683\" xlink:show=\"new\" xlink:title=\"psysml:b31b3f2c-80ab-44f0-a26e-d801559af683\" xlink:type=\"simple\"><path d=\"M217,139.13 C217,151.52 217,165.05 217,178.06 \" fill=\"none\" id=\"E6-&gt;E4\" style=\"stroke: #A80036; stroke-width: 1.0;\"/><polygon fill=\"none\" points=\"224,178.51,217,198.51,210,178.51,224,178.51\" style=\"stroke: #A80036; stroke-width: 1.0;\"/></a><!--MD5=[1ec4f0c0817e7b2c745b686aea327e3b]\n",
       "@startuml\r\n",
       "skinparam wrapWidth 300\r\n",
       "hide circle\r\n",
       "\r\n",
       "package \"MassRollup\" as E1  [[psysml:93cce498-741b-46da-9a76-47f8a90b0e87 ]]  {\r\n",
       "comp def \"MassedThing\" as E2  <<(T,blue)part def>> [[psysml:2bfc4bf5-5785-4629-99c8-bf06d3584a79 ]] {\r\n",
       "mass\r\n",
       "totalMass\r\n",
       "}\r\n",
       "comp usage \"simpleThing: MassedThing\" as E3  <<(T,blue)part>> [[psysml:d9d69a25-c21e-4c46-a572-d7b139b6ee26 ]] {\r\n",
       "<&bar-trig> totalMass=mass;  <s>MassedThing::totalMass</s>\r\n",
       "}\r\n",
       "comp usage \"compositeThing: MassedThing\" as E4  <<(T,blue)part>> [[psysml:343123b1-0808-41d0-8b17-a6ebb6acc0cb ]] {\r\n",
       "<&bar-trig> totalMass=mass + (subcomponents->collect p:MassedThing (p::totalMass)->reduce '+' ?? 0.0);  <s>MassedThing::totalMass</s>\r\n",
       "}\r\n",
       "comp usage \"subcomponents: MassedThing\" as E5  <<(T,blue)part>> [[psysml:09cd1f28-daf0-4d0d-a972-b9bf2a18e992 ]] {\r\n",
       "}\r\n",
       "comp usage \"filteredMassThing\" as E6  <<(T,blue)part>> [[psysml:b3309114-4b2b-46b3-9f4f-dc695177bad1 ]] {\r\n",
       "minMass\r\n",
       "<&bar-trig> totalMass=(./subcomponents/mass[p (p > minMass)])->reduce '+' ?? 0.0;  <s>MassedThing::totalMass</s>\r\n",
       "}\r\n",
       "E3 - -:|> E2 [[psysml:b7a37c04-3b7e-4fde-bcd3-8ff7c74e6a20 ]] \r\n",
       "E4 - -:|> E2 [[psysml:9348166f-8cea-4d7c-a96d-6192465a705e ]] \r\n",
       "E4 *- - \"*\"E5 [[psysml:94e091d2-0286-4211-8181-aedc46ba16d2 ]] \r\n",
       "E5 - -:|> E2 [[psysml:dc08c53a-a0f0-4000-a138-cf80983e3afa ]] \r\n",
       "E6 - -|> E4 [[psysml:b31b3f2c-80ab-44f0-a26e-d801559af683 ]] \r\n",
       "}\r\n",
       "@enduml\r\n",
       "\n",
       "PlantUML version 1.2020.13(Sat Jun 13 12:26:38 UTC 2020)\n",
       "(EPL source distribution)\n",
       "Java Runtime: OpenJDK Runtime Environment\n",
       "JVM: OpenJDK 64-Bit Server VM\n",
       "Default Encoding: UTF-8\n",
       "Language: en\n",
       "Country: null\n",
       "--></g></svg>"
      ]
     },
     "execution_count": 24,
     "metadata": {},
     "output_type": "execute_result"
    }
   ],
   "source": [
    "%viz --style=\"STDCOLOR\" --view=\"Tree\" \"MassRollup\""
   ]
  },
  {
   "cell_type": "code",
   "execution_count": 25,
   "id": "61eda2c2",
   "metadata": {
    "execution": {
     "iopub.execute_input": "2021-04-20T07:26:57.396290Z",
     "iopub.status.busy": "2021-04-20T07:26:57.395353Z",
     "iopub.status.idle": "2021-04-20T07:26:57.404952Z",
     "shell.execute_reply": "2021-04-20T07:26:57.404438Z"
    }
   },
   "outputs": [
    {
     "data": {
      "image/svg+xml": [
       "<?xml version=\"1.0\" encoding=\"UTF-8\" standalone=\"no\"?><svg xmlns=\"http://www.w3.org/2000/svg\" xmlns:xlink=\"http://www.w3.org/1999/xlink\" contentScriptType=\"application/ecmascript\" contentStyleType=\"text/css\" height=\"12px\" preserveAspectRatio=\"none\" style=\"width:12px;height:12px;\" version=\"1.1\" viewBox=\"0 0 12 12\" width=\"12px\" zoomAndPan=\"magnify\"><defs/><g><!--MD5=[aeeef50f102b80d730deb6443d14f702]\n",
       "@startuml\r\n",
       "skinparam wrapWidth 300\r\n",
       "hide circle\r\n",
       "\r\n",
       "@enduml\r\n",
       "\n",
       "PlantUML version 1.2020.13(Sat Jun 13 12:26:38 UTC 2020)\n",
       "(EPL source distribution)\n",
       "Java Runtime: OpenJDK Runtime Environment\n",
       "JVM: OpenJDK 64-Bit Server VM\n",
       "Default Encoding: UTF-8\n",
       "Language: en\n",
       "Country: null\n",
       "--></g></svg>"
      ]
     },
     "execution_count": 25,
     "metadata": {},
     "output_type": "execute_result"
    }
   ],
   "source": [
    "%viz --style=\"STDCOLOR\" --view=\"State\" \"MassRollup\""
   ]
  },
  {
   "cell_type": "code",
   "execution_count": 26,
   "id": "d83f4462",
   "metadata": {
    "execution": {
     "iopub.execute_input": "2021-04-20T07:26:57.456918Z",
     "iopub.status.busy": "2021-04-20T07:26:57.455836Z",
     "iopub.status.idle": "2021-04-20T07:26:57.547194Z",
     "shell.execute_reply": "2021-04-20T07:26:57.543887Z"
    }
   },
   "outputs": [
    {
     "data": {
      "image/svg+xml": [
       "<?xml version=\"1.0\" encoding=\"UTF-8\" standalone=\"no\"?><svg xmlns=\"http://www.w3.org/2000/svg\" xmlns:xlink=\"http://www.w3.org/1999/xlink\" contentScriptType=\"application/ecmascript\" contentStyleType=\"text/css\" height=\"319px\" preserveAspectRatio=\"none\" style=\"width:911px;height:319px;\" version=\"1.1\" viewBox=\"0 0 911 319\" width=\"911px\" zoomAndPan=\"magnify\"><defs><filter height=\"300%\" id=\"f74rxmr4w6dx2\" width=\"300%\" x=\"-1\" y=\"-1\"><feGaussianBlur result=\"blurOut\" stdDeviation=\"2.0\"/><feColorMatrix in=\"blurOut\" result=\"blurOut2\" type=\"matrix\" values=\"0 0 0 0 0 0 0 0 0 0 0 0 0 0 0 0 0 0 .4 0\"/><feOffset dx=\"4.0\" dy=\"4.0\" in=\"blurOut2\" result=\"blurOut3\"/><feBlend in=\"SourceGraphic\" in2=\"blurOut3\" mode=\"normal\"/></filter></defs><g><!--MD5=[fbc87193dbaf4d95561dea2c320d4a47]\n",
       "cluster E1--><a href=\"psysml:93cce498-741b-46da-9a76-47f8a90b0e87\" target=\"_top\" title=\"psysml:93cce498-741b-46da-9a76-47f8a90b0e87\" xlink:actuate=\"onRequest\" xlink:href=\"psysml:93cce498-741b-46da-9a76-47f8a90b0e87\" xlink:show=\"new\" xlink:title=\"psysml:93cce498-741b-46da-9a76-47f8a90b0e87\" xlink:type=\"simple\"><polygon fill=\"#FFFFFF\" filter=\"url(#f74rxmr4w6dx2)\" points=\"16,6,110,6,117,28.2969,889,28.2969,889,307,16,307,16,6\" style=\"stroke: #000000; stroke-width: 1.5;\"/><line style=\"stroke: #000000; stroke-width: 1.5;\" x1=\"16\" x2=\"117\" y1=\"28.2969\" y2=\"28.2969\"/><text fill=\"#000000\" font-family=\"sans-serif\" font-size=\"14\" font-weight=\"bold\" lengthAdjust=\"spacingAndGlyphs\" textLength=\"88\" x=\"20\" y=\"20.9951\">MassRollup</text></a><!--MD5=[e4f7fae6ed58524ba242bb0b0d3be6b7]\n",
       "cluster E2--><a href=\"psysml:2bfc4bf5-5785-4629-99c8-bf06d3584a79\" target=\"_top\" title=\"psysml:2bfc4bf5-5785-4629-99c8-bf06d3584a79\" xlink:actuate=\"onRequest\" xlink:href=\"psysml:2bfc4bf5-5785-4629-99c8-bf06d3584a79\" xlink:show=\"new\" xlink:title=\"psysml:2bfc4bf5-5785-4629-99c8-bf06d3584a79\" xlink:type=\"simple\"><rect fill=\"#FFFFFF\" filter=\"url(#f74rxmr4w6dx2)\" height=\"113\" id=\"E2\" style=\"stroke: #A80036; stroke-width: 1.5;\" width=\"210\" x=\"511\" y=\"170\"/><rect fill=\"#FEFECE\" height=\"37.9375\" style=\"stroke: #A80036; stroke-width: 1.5;\" width=\"210\" x=\"511\" y=\"170\"/><text fill=\"#000000\" font-family=\"sans-serif\" font-size=\"12\" font-style=\"italic\" lengthAdjust=\"spacingAndGlyphs\" textLength=\"64\" x=\"584\" y=\"186.1387\">«part def»</text><text fill=\"#000000\" font-family=\"sans-serif\" font-size=\"12\" lengthAdjust=\"spacingAndGlyphs\" textLength=\"82\" x=\"575\" y=\"200.1074\">MassedThing</text></a><!--MD5=[de5ec2e2e8f62f467e546659f5068c88]\n",
       "cluster E5--><a href=\"psysml:d9d69a25-c21e-4c46-a572-d7b139b6ee26\" target=\"_top\" title=\"psysml:d9d69a25-c21e-4c46-a572-d7b139b6ee26\" xlink:actuate=\"onRequest\" xlink:href=\"psysml:d9d69a25-c21e-4c46-a572-d7b139b6ee26\" xlink:show=\"new\" xlink:title=\"psysml:d9d69a25-c21e-4c46-a572-d7b139b6ee26\" xlink:type=\"simple\"><rect fill=\"#FFFFFF\" filter=\"url(#f74rxmr4w6dx2)\" height=\"97\" id=\"E5\" rx=\"10\" ry=\"10\" style=\"stroke: #A80036; stroke-width: 1.5;\" width=\"226\" x=\"639\" y=\"49\"/><rect fill=\"#FEFECE\" height=\"23.9688\" rx=\"10\" ry=\"10\" style=\"stroke: #FEFECE; stroke-width: 1.5;\" width=\"226\" x=\"639\" y=\"49\"/><rect fill=\"#FEFECE\" height=\"10\" style=\"stroke: #FEFECE; stroke-width: 1.5;\" width=\"226\" x=\"639\" y=\"62.9688\"/><rect fill=\"none\" height=\"97\" id=\"E5\" rx=\"10\" ry=\"10\" style=\"stroke: #A80036; stroke-width: 1.5;\" width=\"226\" x=\"639\" y=\"49\"/><text fill=\"#000000\" font-family=\"sans-serif\" font-size=\"12\" lengthAdjust=\"spacingAndGlyphs\" textLength=\"164\" x=\"670\" y=\"65.1387\">simpleThing: MassedThing</text><line style=\"stroke: #A80036; stroke-width: 1.0;\" x1=\"639\" x2=\"865\" y1=\"72.9688\" y2=\"72.9688\"/></a><!--MD5=[168fadf3d0c3fd93dd5d6da1b1d7ab76]\n",
       "cluster E7--><a href=\"psysml:343123b1-0808-41d0-8b17-a6ebb6acc0cb\" target=\"_top\" title=\"psysml:343123b1-0808-41d0-8b17-a6ebb6acc0cb\" xlink:actuate=\"onRequest\" xlink:href=\"psysml:343123b1-0808-41d0-8b17-a6ebb6acc0cb\" xlink:show=\"new\" xlink:title=\"psysml:343123b1-0808-41d0-8b17-a6ebb6acc0cb\" xlink:type=\"simple\"><rect fill=\"#FFFFFF\" filter=\"url(#f74rxmr4w6dx2)\" height=\"97\" id=\"E7\" rx=\"10\" ry=\"10\" style=\"stroke: #A80036; stroke-width: 1.5;\" width=\"341\" x=\"274\" y=\"49\"/><rect fill=\"#FEFECE\" height=\"23.9688\" rx=\"10\" ry=\"10\" style=\"stroke: #FEFECE; stroke-width: 1.5;\" width=\"341\" x=\"274\" y=\"49\"/><rect fill=\"#FEFECE\" height=\"10\" style=\"stroke: #FEFECE; stroke-width: 1.5;\" width=\"341\" x=\"274\" y=\"62.9688\"/><rect fill=\"none\" height=\"97\" id=\"E7\" rx=\"10\" ry=\"10\" style=\"stroke: #A80036; stroke-width: 1.5;\" width=\"341\" x=\"274\" y=\"49\"/><text fill=\"#000000\" font-family=\"sans-serif\" font-size=\"12\" lengthAdjust=\"spacingAndGlyphs\" textLength=\"189\" x=\"350\" y=\"65.1387\">compositeThing: MassedThing</text><line style=\"stroke: #A80036; stroke-width: 1.0;\" x1=\"274\" x2=\"615\" y1=\"72.9688\" y2=\"72.9688\"/></a><!--MD5=[a84b4591f868c1fa4a211716a82f2f0d]\n",
       "cluster E10--><a href=\"psysml:b3309114-4b2b-46b3-9f4f-dc695177bad1\" target=\"_top\" title=\"psysml:b3309114-4b2b-46b3-9f4f-dc695177bad1\" xlink:actuate=\"onRequest\" xlink:href=\"psysml:b3309114-4b2b-46b3-9f4f-dc695177bad1\" xlink:show=\"new\" xlink:title=\"psysml:b3309114-4b2b-46b3-9f4f-dc695177bad1\" xlink:type=\"simple\"><rect fill=\"#FFFFFF\" filter=\"url(#f74rxmr4w6dx2)\" height=\"97\" id=\"E10\" rx=\"10\" ry=\"10\" style=\"stroke: #A80036; stroke-width: 1.5;\" width=\"210\" x=\"40\" y=\"49\"/><rect fill=\"#FEFECE\" height=\"23.9688\" rx=\"10\" ry=\"10\" style=\"stroke: #FEFECE; stroke-width: 1.5;\" width=\"210\" x=\"40\" y=\"49\"/><rect fill=\"#FEFECE\" height=\"10\" style=\"stroke: #FEFECE; stroke-width: 1.5;\" width=\"210\" x=\"40\" y=\"62.9688\"/><rect fill=\"none\" height=\"97\" id=\"E10\" rx=\"10\" ry=\"10\" style=\"stroke: #A80036; stroke-width: 1.5;\" width=\"210\" x=\"40\" y=\"49\"/><text fill=\"#000000\" font-family=\"sans-serif\" font-size=\"12\" lengthAdjust=\"spacingAndGlyphs\" textLength=\"110\" x=\"90\" y=\"65.1387\">filteredMassThing</text><line style=\"stroke: #A80036; stroke-width: 1.0;\" x1=\"40\" x2=\"250\" y1=\"72.9688\" y2=\"72.9688\"/></a><!--MD5=[09b614a08d8cba4a07c9adeb5e0fee81]\n",
       "class E3--><a href=\"psysml:61227fbe-a3c3-436a-919d-ba064597e112\" target=\"_top\" title=\"psysml:61227fbe-a3c3-436a-919d-ba064597e112\" xlink:actuate=\"onRequest\" xlink:href=\"psysml:61227fbe-a3c3-436a-919d-ba064597e112\" xlink:show=\"new\" xlink:title=\"psysml:61227fbe-a3c3-436a-919d-ba064597e112\" xlink:type=\"simple\"><rect fill=\"#FEFECE\" filter=\"url(#f74rxmr4w6dx2)\" height=\"45.9375\" id=\"E3\" rx=\"10\" ry=\"10\" style=\"stroke: #A80036; stroke-width: 1.5;\" width=\"71\" x=\"633.5\" y=\"221\"/><text fill=\"#000000\" font-family=\"sans-serif\" font-size=\"12\" font-style=\"italic\" lengthAdjust=\"spacingAndGlyphs\" textLength=\"69\" x=\"634.5\" y=\"237.1387\">«attribute»</text><text fill=\"#000000\" font-family=\"sans-serif\" font-size=\"12\" lengthAdjust=\"spacingAndGlyphs\" textLength=\"33\" x=\"652.5\" y=\"251.1074\">mass</text><line style=\"stroke: #A80036; stroke-width: 1.5;\" x1=\"634.5\" x2=\"703.5\" y1=\"258.9375\" y2=\"258.9375\"/></a><!--MD5=[ebbe1d658d1005bcc118a6aa81145e00]\n",
       "class E4--><a href=\"psysml:bca4197d-355d-4faa-812b-dbfc0b076639\" target=\"_top\" title=\"psysml:bca4197d-355d-4faa-812b-dbfc0b076639\" xlink:actuate=\"onRequest\" xlink:href=\"psysml:bca4197d-355d-4faa-812b-dbfc0b076639\" xlink:show=\"new\" xlink:title=\"psysml:bca4197d-355d-4faa-812b-dbfc0b076639\" xlink:type=\"simple\"><rect fill=\"#FEFECE\" filter=\"url(#f74rxmr4w6dx2)\" height=\"45.9375\" id=\"E4\" rx=\"10\" ry=\"10\" style=\"stroke: #A80036; stroke-width: 1.5;\" width=\"71\" x=\"527.5\" y=\"221\"/><text fill=\"#000000\" font-family=\"sans-serif\" font-size=\"12\" font-style=\"italic\" lengthAdjust=\"spacingAndGlyphs\" textLength=\"69\" x=\"528.5\" y=\"237.1387\">«attribute»</text><text fill=\"#000000\" font-family=\"sans-serif\" font-size=\"12\" lengthAdjust=\"spacingAndGlyphs\" textLength=\"61\" x=\"532.5\" y=\"251.1074\">totalMass</text><line style=\"stroke: #A80036; stroke-width: 1.5;\" x1=\"528.5\" x2=\"597.5\" y1=\"258.9375\" y2=\"258.9375\"/></a><!--MD5=[60a26617385b1d2d0262a64233df1f8d]\n",
       "class E6--><a href=\"psysml:5dd4dd8f-7a34-4faa-ae4e-b0f44a463cf1\" target=\"_top\" title=\"psysml:5dd4dd8f-7a34-4faa-ae4e-b0f44a463cf1\" xlink:actuate=\"onRequest\" xlink:href=\"psysml:5dd4dd8f-7a34-4faa-ae4e-b0f44a463cf1\" xlink:show=\"new\" xlink:title=\"psysml:5dd4dd8f-7a34-4faa-ae4e-b0f44a463cf1\" xlink:type=\"simple\"><rect fill=\"#FEFECE\" filter=\"url(#f74rxmr4w6dx2)\" height=\"45.9375\" id=\"E6\" rx=\"10\" ry=\"10\" style=\"stroke: #A80036; stroke-width: 1.5;\" width=\"71\" x=\"655.5\" y=\"84\"/><text fill=\"#000000\" font-family=\"sans-serif\" font-size=\"12\" font-style=\"italic\" lengthAdjust=\"spacingAndGlyphs\" textLength=\"69\" x=\"656.5\" y=\"100.1387\">«attribute»</text><text fill=\"#000000\" font-family=\"sans-serif\" font-size=\"12\" lengthAdjust=\"spacingAndGlyphs\" textLength=\"61\" x=\"660.5\" y=\"114.1074\">totalMass</text><line style=\"stroke: #A80036; stroke-width: 1.5;\" x1=\"656.5\" x2=\"725.5\" y1=\"121.9375\" y2=\"121.9375\"/></a><!--MD5=[fd4143e9d270a159db93a4ea2a975926]\n",
       "class E9--><a href=\"psysml:cdf15466-8892-46e6-adfe-254829aa90b9\" target=\"_top\" title=\"psysml:cdf15466-8892-46e6-adfe-254829aa90b9\" xlink:actuate=\"onRequest\" xlink:href=\"psysml:cdf15466-8892-46e6-adfe-254829aa90b9\" xlink:show=\"new\" xlink:title=\"psysml:cdf15466-8892-46e6-adfe-254829aa90b9\" xlink:type=\"simple\"><rect fill=\"#FEFECE\" filter=\"url(#f74rxmr4w6dx2)\" height=\"45.9375\" id=\"E9\" rx=\"10\" ry=\"10\" style=\"stroke: #A80036; stroke-width: 1.5;\" width=\"71\" x=\"527.5\" y=\"84\"/><text fill=\"#000000\" font-family=\"sans-serif\" font-size=\"12\" font-style=\"italic\" lengthAdjust=\"spacingAndGlyphs\" textLength=\"69\" x=\"528.5\" y=\"100.1387\">«attribute»</text><text fill=\"#000000\" font-family=\"sans-serif\" font-size=\"12\" lengthAdjust=\"spacingAndGlyphs\" textLength=\"61\" x=\"532.5\" y=\"114.1074\">totalMass</text><line style=\"stroke: #A80036; stroke-width: 1.5;\" x1=\"528.5\" x2=\"597.5\" y1=\"121.9375\" y2=\"121.9375\"/></a><g id=\"E1.E7.E8\"><a href=\"psysml:09cd1f28-daf0-4d0d-a972-b9bf2a18e992\" target=\"_top\" title=\"psysml:09cd1f28-daf0-4d0d-a972-b9bf2a18e992\" xlink:actuate=\"onRequest\" xlink:href=\"psysml:09cd1f28-daf0-4d0d-a972-b9bf2a18e992\" xlink:show=\"new\" xlink:title=\"psysml:09cd1f28-daf0-4d0d-a972-b9bf2a18e992\" xlink:type=\"simple\"><rect fill=\"#FEFECE\" filter=\"url(#f74rxmr4w6dx2)\" height=\"40\" id=\"E8\" rx=\"10\" ry=\"10\" style=\"stroke: #A80036; stroke-width: 1.5;\" width=\"202\" x=\"290\" y=\"87\"/><text fill=\"#000000\" font-family=\"sans-serif\" font-size=\"12\" lengthAdjust=\"spacingAndGlyphs\" textLength=\"191\" x=\"295.5\" y=\"103.1387\">subcomponents: MassedThing</text></a></g><!--MD5=[1dd1bfd58a279cf63c5f349dbc8fc6a1]\n",
       "class E11--><a href=\"psysml:a48dd455-5237-4be3-af61-27e5094ede20\" target=\"_top\" title=\"psysml:a48dd455-5237-4be3-af61-27e5094ede20\" xlink:actuate=\"onRequest\" xlink:href=\"psysml:a48dd455-5237-4be3-af61-27e5094ede20\" xlink:show=\"new\" xlink:title=\"psysml:a48dd455-5237-4be3-af61-27e5094ede20\" xlink:type=\"simple\"><rect fill=\"#FEFECE\" filter=\"url(#f74rxmr4w6dx2)\" height=\"45.9375\" id=\"E11\" rx=\"10\" ry=\"10\" style=\"stroke: #A80036; stroke-width: 1.5;\" width=\"71\" x=\"162.5\" y=\"84\"/><text fill=\"#000000\" font-family=\"sans-serif\" font-size=\"12\" font-style=\"italic\" lengthAdjust=\"spacingAndGlyphs\" textLength=\"69\" x=\"163.5\" y=\"100.1387\">«attribute»</text><text fill=\"#000000\" font-family=\"sans-serif\" font-size=\"12\" lengthAdjust=\"spacingAndGlyphs\" textLength=\"54\" x=\"171\" y=\"114.1074\">minMass</text><line style=\"stroke: #A80036; stroke-width: 1.5;\" x1=\"163.5\" x2=\"232.5\" y1=\"121.9375\" y2=\"121.9375\"/></a><!--MD5=[49a0ec8f00dab7302a31f22d0f0fe584]\n",
       "class E12--><a href=\"psysml:30a4b720-38dc-4ed2-81db-b244fb944fc9\" target=\"_top\" title=\"psysml:30a4b720-38dc-4ed2-81db-b244fb944fc9\" xlink:actuate=\"onRequest\" xlink:href=\"psysml:30a4b720-38dc-4ed2-81db-b244fb944fc9\" xlink:show=\"new\" xlink:title=\"psysml:30a4b720-38dc-4ed2-81db-b244fb944fc9\" xlink:type=\"simple\"><rect fill=\"#FEFECE\" filter=\"url(#f74rxmr4w6dx2)\" height=\"45.9375\" id=\"E12\" rx=\"10\" ry=\"10\" style=\"stroke: #A80036; stroke-width: 1.5;\" width=\"71\" x=\"56.5\" y=\"84\"/><text fill=\"#000000\" font-family=\"sans-serif\" font-size=\"12\" font-style=\"italic\" lengthAdjust=\"spacingAndGlyphs\" textLength=\"69\" x=\"57.5\" y=\"100.1387\">«attribute»</text><text fill=\"#000000\" font-family=\"sans-serif\" font-size=\"12\" lengthAdjust=\"spacingAndGlyphs\" textLength=\"61\" x=\"61.5\" y=\"114.1074\">totalMass</text><line style=\"stroke: #A80036; stroke-width: 1.5;\" x1=\"57.5\" x2=\"126.5\" y1=\"121.9375\" y2=\"121.9375\"/></a><!--MD5=[f667431f98296947986a1a7595a31603]\n",
       "link E6 to E4--><a href=\"psysml:45db29a4-a6b7-4500-b8a0-ae6511957b42\" target=\"_top\" title=\"psysml:45db29a4-a6b7-4500-b8a0-ae6511957b42\" xlink:actuate=\"onRequest\" xlink:href=\"psysml:45db29a4-a6b7-4500-b8a0-ae6511957b42\" xlink:show=\"new\" xlink:title=\"psysml:45db29a4-a6b7-4500-b8a0-ae6511957b42\" xlink:type=\"simple\"><path d=\"M655.27,129.75 C642.07,138.77 627.53,149.94 616,162 C604.21,174.33 593.43,189.62 584.73,203.58 \" fill=\"none\" id=\"E6-&gt;E4\" style=\"stroke: #A80036; stroke-width: 1.0;\"/><polygon fill=\"#FFFFFF\" points=\"574.55,220.81,578.1693,200.8876,590.2295,207.9977,574.55,220.81\" style=\"stroke: #A80036; stroke-width: 1.0;\"/><line style=\"stroke: #A80036; stroke-width: 2.0;\" x1=\"580.0992\" x2=\"592.1593\" y1=\"197.6142\" y2=\"204.7243\"/></a><!--MD5=[c2be97adba6ddfe1c8f349fab141c927]\n",
       "link E9 to E4--><a href=\"psysml:37d702c0-130d-4d04-819a-f2439f71afff\" target=\"_top\" title=\"psysml:37d702c0-130d-4d04-819a-f2439f71afff\" xlink:actuate=\"onRequest\" xlink:href=\"psysml:37d702c0-130d-4d04-819a-f2439f71afff\" xlink:show=\"new\" xlink:title=\"psysml:37d702c0-130d-4d04-819a-f2439f71afff\" xlink:type=\"simple\"><path d=\"M563,130.29 C563,149.35 563,177.29 563,200.59 \" fill=\"none\" id=\"E9-&gt;E4\" style=\"stroke: #A80036; stroke-width: 1.0;\"/><polygon fill=\"#FFFFFF\" points=\"563,220.67,556,201.67,570,201.67,563,220.67\" style=\"stroke: #A80036; stroke-width: 1.0;\"/><line style=\"stroke: #A80036; stroke-width: 2.0;\" x1=\"556\" x2=\"570\" y1=\"197.87\" y2=\"197.87\"/></a><!--MD5=[8eb720c440db06832f98fefdd34bbf11]\n",
       "link E12 to E4--><a href=\"psysml:c9530ed5-65d1-46ac-ab61-a00231b23eba\" target=\"_top\" title=\"psysml:c9530ed5-65d1-46ac-ab61-a00231b23eba\" xlink:actuate=\"onRequest\" xlink:href=\"psysml:c9530ed5-65d1-46ac-ab61-a00231b23eba\" xlink:show=\"new\" xlink:title=\"psysml:c9530ed5-65d1-46ac-ab61-a00231b23eba\" xlink:type=\"simple\"><path d=\"M112.6,130.22 C121.74,138.86 133.11,148.08 145,154 C265.22,213.91 424.44,233.59 507.38,239.99 \" fill=\"none\" id=\"E12-&gt;E4\" style=\"stroke: #A80036; stroke-width: 1.0;\"/><polygon fill=\"#FFFFFF\" points=\"527.47,241.39,508.0267,247.0433,509.0064,233.0776,527.47,241.39\" style=\"stroke: #A80036; stroke-width: 1.0;\"/><line style=\"stroke: #A80036; stroke-width: 2.0;\" x1=\"504.236\" x2=\"505.2157\" y1=\"246.7773\" y2=\"232.8117\"/></a><!--MD5=[088e4ca0efa1503c8ca1e8307fe56092]\n",
       "@startuml\r\n",
       "skinparam ranksep 10\r\n",
       "skinparam rectangle {\r\n",
       " backgroundColor<<block>> LightGreen\r\n",
       "}\r\n",
       "skinparam wrapWidth 300\r\n",
       "hide circle\r\n",
       "\r\n",
       "package \"MassRollup\" as E1  [[psysml:93cce498-741b-46da-9a76-47f8a90b0e87 ]]  {\r\n",
       "rec def \"MassedThing\" as E2  <<(T,blue)part def>> [[psysml:2bfc4bf5-5785-4629-99c8-bf06d3584a79 ]] {\r\n",
       "comp usage \"mass\" as E3  <<(T,blue)attribute>> [[psysml:61227fbe-a3c3-436a-919d-ba064597e112 ]] {\r\n",
       "}\r\n",
       "comp usage \"totalMass\" as E4  <<(T,blue)attribute>> [[psysml:bca4197d-355d-4faa-812b-dbfc0b076639 ]] {\r\n",
       "}\r\n",
       "}\r\n",
       "rec usage \"simpleThing: MassedThing\" as E5  [[psysml:d9d69a25-c21e-4c46-a572-d7b139b6ee26 ]] {\r\n",
       "comp usage \"totalMass\" as E6  <<(T,blue)attribute>> [[psysml:5dd4dd8f-7a34-4faa-ae4e-b0f44a463cf1 ]] {\r\n",
       "}\r\n",
       "}\r\n",
       "rec usage \"compositeThing: MassedThing\" as E7  [[psysml:343123b1-0808-41d0-8b17-a6ebb6acc0cb ]] {\r\n",
       "rec usage \"subcomponents: MassedThing\" as E8  [[psysml:09cd1f28-daf0-4d0d-a972-b9bf2a18e992 ]] {\r\n",
       "}\r\n",
       "comp usage \"totalMass\" as E9  <<(T,blue)attribute>> [[psysml:cdf15466-8892-46e6-adfe-254829aa90b9 ]] {\r\n",
       "}\r\n",
       "}\r\n",
       "rec usage \"filteredMassThing\" as E10  [[psysml:b3309114-4b2b-46b3-9f4f-dc695177bad1 ]] {\r\n",
       "comp usage \"minMass\" as E11  <<(T,blue)attribute>> [[psysml:a48dd455-5237-4be3-af61-27e5094ede20 ]] {\r\n",
       "}\r\n",
       "comp usage \"totalMass\" as E12  <<(T,blue)attribute>> [[psysml:30a4b720-38dc-4ed2-81db-b244fb944fc9 ]] {\r\n",
       "}\r\n",
       "}\r\n",
       "E6 - -||> E4 [[psysml:45db29a4-a6b7-4500-b8a0-ae6511957b42 ]] \r\n",
       "E9 - -||> E4 [[psysml:37d702c0-130d-4d04-819a-f2439f71afff ]] \r\n",
       "E12 - -||> E4 [[psysml:c9530ed5-65d1-46ac-ab61-a00231b23eba ]] \r\n",
       "}\r\n",
       "@enduml\r\n",
       "\n",
       "PlantUML version 1.2020.13(Sat Jun 13 12:26:38 UTC 2020)\n",
       "(EPL source distribution)\n",
       "Java Runtime: OpenJDK Runtime Environment\n",
       "JVM: OpenJDK 64-Bit Server VM\n",
       "Default Encoding: UTF-8\n",
       "Language: en\n",
       "Country: null\n",
       "--></g></svg>"
      ]
     },
     "execution_count": 26,
     "metadata": {},
     "output_type": "execute_result"
    }
   ],
   "source": [
    "%viz --style=\"STDCOLOR\" --view=\"Interconnection\" \"MassRollup\""
   ]
  },
  {
   "cell_type": "code",
   "execution_count": 27,
   "id": "4be5a73a",
   "metadata": {
    "execution": {
     "iopub.execute_input": "2021-04-20T07:26:57.597647Z",
     "iopub.status.busy": "2021-04-20T07:26:57.596656Z",
     "iopub.status.idle": "2021-04-20T07:26:57.606975Z",
     "shell.execute_reply": "2021-04-20T07:26:57.605682Z"
    }
   },
   "outputs": [
    {
     "data": {
      "image/svg+xml": [
       "<?xml version=\"1.0\" encoding=\"UTF-8\" standalone=\"no\"?><svg xmlns=\"http://www.w3.org/2000/svg\" xmlns:xlink=\"http://www.w3.org/1999/xlink\" contentScriptType=\"application/ecmascript\" contentStyleType=\"text/css\" height=\"12px\" preserveAspectRatio=\"none\" style=\"width:12px;height:12px;\" version=\"1.1\" viewBox=\"0 0 12 12\" width=\"12px\" zoomAndPan=\"magnify\"><defs/><g><!--MD5=[9863325348a96a77dacc89509d8ee65e]\n",
       "@startuml\r\n",
       "skinparam ranksep 8\r\n",
       "skinparam wrapWidth 300\r\n",
       "hide circle\r\n",
       "\r\n",
       "@enduml\r\n",
       "\n",
       "PlantUML version 1.2020.13(Sat Jun 13 12:26:38 UTC 2020)\n",
       "(EPL source distribution)\n",
       "Java Runtime: OpenJDK Runtime Environment\n",
       "JVM: OpenJDK 64-Bit Server VM\n",
       "Default Encoding: UTF-8\n",
       "Language: en\n",
       "Country: null\n",
       "--></g></svg>"
      ]
     },
     "execution_count": 27,
     "metadata": {},
     "output_type": "execute_result"
    }
   ],
   "source": [
    "%viz --style=\"STDCOLOR\" --view=\"Action\" \"MassRollup\""
   ]
  },
  {
   "cell_type": "code",
   "execution_count": 28,
   "id": "73bc8fe7",
   "metadata": {
    "execution": {
     "iopub.execute_input": "2021-04-20T07:26:57.658426Z",
     "iopub.status.busy": "2021-04-20T07:26:57.657609Z",
     "iopub.status.idle": "2021-04-20T07:26:57.831292Z",
     "shell.execute_reply": "2021-04-20T07:26:57.829813Z"
    }
   },
   "outputs": [
    {
     "data": {
      "image/svg+xml": [
       "<?xml version=\"1.0\" encoding=\"UTF-8\" standalone=\"no\"?><svg xmlns=\"http://www.w3.org/2000/svg\" xmlns:xlink=\"http://www.w3.org/1999/xlink\" contentScriptType=\"application/ecmascript\" contentStyleType=\"text/css\" height=\"564px\" preserveAspectRatio=\"none\" style=\"width:615px;height:564px;\" version=\"1.1\" viewBox=\"0 0 615 564\" width=\"615px\" zoomAndPan=\"magnify\"><defs><filter height=\"300%\" id=\"fcf054w5vvkm0\" width=\"300%\" x=\"-1\" y=\"-1\"><feGaussianBlur result=\"blurOut\" stdDeviation=\"2.0\"/><feColorMatrix in=\"blurOut\" result=\"blurOut2\" type=\"matrix\" values=\"0 0 0 0 0 0 0 0 0 0 0 0 0 0 0 0 0 0 .4 0\"/><feOffset dx=\"4.0\" dy=\"4.0\" in=\"blurOut2\" result=\"blurOut3\"/><feBlend in=\"SourceGraphic\" in2=\"blurOut3\" mode=\"normal\"/></filter></defs><g><!--MD5=[fbc87193dbaf4d95561dea2c320d4a47]\n",
       "cluster E1--><a href=\"psysml:93cce498-741b-46da-9a76-47f8a90b0e87\" target=\"_top\" title=\"psysml:93cce498-741b-46da-9a76-47f8a90b0e87\" xlink:actuate=\"onRequest\" xlink:href=\"psysml:93cce498-741b-46da-9a76-47f8a90b0e87\" xlink:show=\"new\" xlink:title=\"psysml:93cce498-741b-46da-9a76-47f8a90b0e87\" xlink:type=\"simple\"><polygon fill=\"#FFFFFF\" filter=\"url(#fcf054w5vvkm0)\" points=\"16,6,110,6,117,28.2969,593,28.2969,593,552,16,552,16,6\" style=\"stroke: #000000; stroke-width: 1.5;\"/><line style=\"stroke: #000000; stroke-width: 1.5;\" x1=\"16\" x2=\"117\" y1=\"28.2969\" y2=\"28.2969\"/><text fill=\"#000000\" font-family=\"sans-serif\" font-size=\"14\" font-weight=\"bold\" lengthAdjust=\"spacingAndGlyphs\" textLength=\"88\" x=\"20\" y=\"20.9951\">MassRollup</text></a><!--MD5=[b4997ac47864f28c2f74865a473b2911]\n",
       "class E2--><a href=\"psysml:2bfc4bf5-5785-4629-99c8-bf06d3584a79\" target=\"_top\" title=\"psysml:2bfc4bf5-5785-4629-99c8-bf06d3584a79\" xlink:actuate=\"onRequest\" xlink:href=\"psysml:2bfc4bf5-5785-4629-99c8-bf06d3584a79\" xlink:show=\"new\" xlink:title=\"psysml:2bfc4bf5-5785-4629-99c8-bf06d3584a79\" xlink:type=\"simple\"><rect fill=\"#FEFECE\" filter=\"url(#fcf054w5vvkm0)\" height=\"71.5469\" id=\"E2\" style=\"stroke: #A80036; stroke-width: 1.5;\" width=\"88\" x=\"124\" y=\"464\"/><text fill=\"#000000\" font-family=\"sans-serif\" font-size=\"12\" font-style=\"italic\" lengthAdjust=\"spacingAndGlyphs\" textLength=\"64\" x=\"136\" y=\"480.1387\">«part def»</text><text fill=\"#000000\" font-family=\"sans-serif\" font-size=\"12\" lengthAdjust=\"spacingAndGlyphs\" textLength=\"82\" x=\"127\" y=\"494.1074\">MassedThing</text><line style=\"stroke: #A80036; stroke-width: 1.5;\" x1=\"125\" x2=\"211\" y1=\"501.9375\" y2=\"501.9375\"/><text fill=\"#000000\" font-family=\"sans-serif\" font-size=\"11\" lengthAdjust=\"spacingAndGlyphs\" textLength=\"32\" x=\"130\" y=\"516.1479\">mass</text><text fill=\"#000000\" font-family=\"sans-serif\" font-size=\"11\" lengthAdjust=\"spacingAndGlyphs\" textLength=\"55\" x=\"130\" y=\"528.9526\">totalMass</text></a><!--MD5=[09b614a08d8cba4a07c9adeb5e0fee81]\n",
       "class E3--><a href=\"psysml:d9d69a25-c21e-4c46-a572-d7b139b6ee26\" target=\"_top\" title=\"psysml:d9d69a25-c21e-4c46-a572-d7b139b6ee26\" xlink:actuate=\"onRequest\" xlink:href=\"psysml:d9d69a25-c21e-4c46-a572-d7b139b6ee26\" xlink:show=\"new\" xlink:title=\"psysml:d9d69a25-c21e-4c46-a572-d7b139b6ee26\" xlink:type=\"simple\"><rect fill=\"#FEFECE\" filter=\"url(#fcf054w5vvkm0)\" height=\"59.6875\" id=\"E3\" rx=\"10\" ry=\"10\" style=\"stroke: #A80036; stroke-width: 1.5;\" width=\"275\" x=\"301.5\" y=\"344\"/><text fill=\"#000000\" font-family=\"sans-serif\" font-size=\"12\" font-style=\"italic\" lengthAdjust=\"spacingAndGlyphs\" textLength=\"40\" x=\"419\" y=\"360.1387\">«part»</text><text fill=\"#000000\" font-family=\"sans-serif\" font-size=\"12\" lengthAdjust=\"spacingAndGlyphs\" textLength=\"164\" x=\"357\" y=\"374.1074\">simpleThing: MassedThing</text><line style=\"stroke: #A80036; stroke-width: 1.5;\" x1=\"302.5\" x2=\"575.5\" y1=\"381.9375\" y2=\"381.9375\"/><path d=\"M309.4167,386.8542 L309.4167,396.0208 L310.3333,396.0208 L310.3333,386.8542 M313.0833,386.8542 L313.0833,396.0208 L320.4167,391.4375 L313.0833,386.8542 L314,388.2292 L319.0417,391.4375 L314,394.6458 L314,388.2292 \" fill=\"#000000\" style=\"stroke: ; stroke-width: 0.0; stroke-dasharray: ;\"/><text fill=\"#000000\" font-family=\"sans-serif\" font-size=\"11\" lengthAdjust=\"spacingAndGlyphs\" textLength=\"100\" x=\"324.5\" y=\"397.0933\">totalMass=mass;</text><text fill=\"#000000\" font-family=\"sans-serif\" font-size=\"11\" lengthAdjust=\"spacingAndGlyphs\" text-decoration=\"line-through\" textLength=\"138\" x=\"432.5\" y=\"397.0933\">MassedThing::totalMass</text></a><!--MD5=[ebbe1d658d1005bcc118a6aa81145e00]\n",
       "class E4--><a href=\"psysml:343123b1-0808-41d0-8b17-a6ebb6acc0cb\" target=\"_top\" title=\"psysml:343123b1-0808-41d0-8b17-a6ebb6acc0cb\" xlink:actuate=\"onRequest\" xlink:href=\"psysml:343123b1-0808-41d0-8b17-a6ebb6acc0cb\" xlink:show=\"new\" xlink:title=\"psysml:343123b1-0808-41d0-8b17-a6ebb6acc0cb\" xlink:type=\"simple\"><rect fill=\"#FEFECE\" filter=\"url(#fcf054w5vvkm0)\" height=\"85.2969\" id=\"E4\" rx=\"10\" ry=\"10\" style=\"stroke: #A80036; stroke-width: 1.5;\" width=\"369\" x=\"32.5\" y=\"199\"/><text fill=\"#000000\" font-family=\"sans-serif\" font-size=\"12\" font-style=\"italic\" lengthAdjust=\"spacingAndGlyphs\" textLength=\"40\" x=\"197\" y=\"215.1387\">«part»</text><text fill=\"#000000\" font-family=\"sans-serif\" font-size=\"12\" lengthAdjust=\"spacingAndGlyphs\" textLength=\"189\" x=\"122.5\" y=\"229.1074\">compositeThing: MassedThing</text><line style=\"stroke: #A80036; stroke-width: 1.5;\" x1=\"33.5\" x2=\"400.5\" y1=\"236.9375\" y2=\"236.9375\"/><path d=\"M40.4167,241.8542 L40.4167,251.0208 L41.3333,251.0208 L41.3333,241.8542 M44.0833,241.8542 L44.0833,251.0208 L51.4167,246.4375 L44.0833,241.8542 L45,243.2292 L50.0417,246.4375 L45,249.6458 L45,243.2292 \" fill=\"#000000\" style=\"stroke: ; stroke-width: 0.0; stroke-dasharray: ;\"/><text fill=\"#000000\" font-family=\"sans-serif\" font-size=\"11\" lengthAdjust=\"spacingAndGlyphs\" textLength=\"272\" x=\"55.5\" y=\"252.0933\">totalMass=mass + (subcomponents-&gt;collect p:</text><text fill=\"#000000\" font-family=\"sans-serif\" font-size=\"11\" lengthAdjust=\"spacingAndGlyphs\" textLength=\"274\" x=\"38.5\" y=\"264.8979\">MassedThing (p::totalMass)-&gt;reduce '+' ?? 0.0);</text><text fill=\"#000000\" font-family=\"sans-serif\" font-size=\"11\" lengthAdjust=\"spacingAndGlyphs\" text-decoration=\"line-through\" textLength=\"75\" x=\"320.5\" y=\"264.8979\">MassedThing</text><text fill=\"#000000\" font-family=\"sans-serif\" font-size=\"11\" lengthAdjust=\"spacingAndGlyphs\" text-decoration=\"line-through\" textLength=\"63\" x=\"38.5\" y=\"277.7026\">::totalMass</text></a><!--MD5=[270fce915f116d4de14055a7c1d9a0f3]\n",
       "class E5--><a href=\"psysml:09cd1f28-daf0-4d0d-a972-b9bf2a18e992\" target=\"_top\" title=\"psysml:09cd1f28-daf0-4d0d-a972-b9bf2a18e992\" xlink:actuate=\"onRequest\" xlink:href=\"psysml:09cd1f28-daf0-4d0d-a972-b9bf2a18e992\" xlink:show=\"new\" xlink:title=\"psysml:09cd1f28-daf0-4d0d-a972-b9bf2a18e992\" xlink:type=\"simple\"><rect fill=\"#FEFECE\" filter=\"url(#fcf054w5vvkm0)\" height=\"45.9375\" id=\"E5\" rx=\"10\" ry=\"10\" style=\"stroke: #A80036; stroke-width: 1.5;\" width=\"197\" x=\"69.5\" y=\"351\"/><text fill=\"#000000\" font-family=\"sans-serif\" font-size=\"12\" font-style=\"italic\" lengthAdjust=\"spacingAndGlyphs\" textLength=\"40\" x=\"148\" y=\"367.1387\">«part»</text><text fill=\"#000000\" font-family=\"sans-serif\" font-size=\"12\" lengthAdjust=\"spacingAndGlyphs\" textLength=\"191\" x=\"72.5\" y=\"381.1074\">subcomponents: MassedThing</text><line style=\"stroke: #A80036; stroke-width: 1.5;\" x1=\"70.5\" x2=\"265.5\" y1=\"388.9375\" y2=\"388.9375\"/></a><!--MD5=[60a26617385b1d2d0262a64233df1f8d]\n",
       "class E6--><a href=\"psysml:b3309114-4b2b-46b3-9f4f-dc695177bad1\" target=\"_top\" title=\"psysml:b3309114-4b2b-46b3-9f4f-dc695177bad1\" xlink:actuate=\"onRequest\" xlink:href=\"psysml:b3309114-4b2b-46b3-9f4f-dc695177bad1\" xlink:show=\"new\" xlink:title=\"psysml:b3309114-4b2b-46b3-9f4f-dc695177bad1\" xlink:type=\"simple\"><rect fill=\"#FEFECE\" filter=\"url(#fcf054w5vvkm0)\" height=\"98.1016\" id=\"E6\" rx=\"10\" ry=\"10\" style=\"stroke: #A80036; stroke-width: 1.5;\" width=\"279\" x=\"77.5\" y=\"41\"/><text fill=\"#000000\" font-family=\"sans-serif\" font-size=\"12\" font-style=\"italic\" lengthAdjust=\"spacingAndGlyphs\" textLength=\"40\" x=\"197\" y=\"57.1387\">«part»</text><text fill=\"#000000\" font-family=\"sans-serif\" font-size=\"12\" lengthAdjust=\"spacingAndGlyphs\" textLength=\"110\" x=\"162\" y=\"71.1074\">filteredMassThing</text><line style=\"stroke: #A80036; stroke-width: 1.5;\" x1=\"78.5\" x2=\"355.5\" y1=\"78.9375\" y2=\"78.9375\"/><text fill=\"#000000\" font-family=\"sans-serif\" font-size=\"11\" lengthAdjust=\"spacingAndGlyphs\" textLength=\"51\" x=\"83.5\" y=\"93.1479\">minMass</text><path d=\"M85.4167,96.6589 L85.4167,105.8255 L86.3333,105.8255 L86.3333,96.6589 M89.0833,96.6589 L89.0833,105.8255 L96.4167,101.2422 L89.0833,96.6589 L90,98.0339 L95.0417,101.2422 L90,104.4505 L90,98.0339 \" fill=\"#000000\" style=\"stroke: ; stroke-width: 0.0; stroke-dasharray: ;\"/><text fill=\"#000000\" font-family=\"sans-serif\" font-size=\"11\" lengthAdjust=\"spacingAndGlyphs\" textLength=\"242\" x=\"100.5\" y=\"106.8979\">totalMass=(./subcomponents/mass[p (p &gt;</text><text fill=\"#000000\" font-family=\"sans-serif\" font-size=\"11\" lengthAdjust=\"spacingAndGlyphs\" textLength=\"176\" x=\"83.5\" y=\"119.7026\">minMass)])-&gt;reduce '+' ?? 0.0;</text><text fill=\"#000000\" font-family=\"sans-serif\" font-size=\"11\" lengthAdjust=\"spacingAndGlyphs\" text-decoration=\"line-through\" textLength=\"83\" x=\"267.5\" y=\"119.7026\">MassedThing::</text><text fill=\"#000000\" font-family=\"sans-serif\" font-size=\"11\" lengthAdjust=\"spacingAndGlyphs\" text-decoration=\"line-through\" textLength=\"55\" x=\"83.5\" y=\"132.5073\">totalMass</text></a><!--MD5=[05d275557350bfb9b23a4ef7222b4c39]\n",
       "link E3 to E2--><a href=\"psysml:b7a37c04-3b7e-4fde-bcd3-8ff7c74e6a20\" target=\"_top\" title=\"psysml:b7a37c04-3b7e-4fde-bcd3-8ff7c74e6a20\" xlink:actuate=\"onRequest\" xlink:href=\"psysml:b7a37c04-3b7e-4fde-bcd3-8ff7c74e6a20\" xlink:show=\"new\" xlink:title=\"psysml:b7a37c04-3b7e-4fde-bcd3-8ff7c74e6a20\" xlink:type=\"simple\"><path d=\"M375.46,404.07 C331.72,424.09 273.88,450.56 230.38,470.46 \" fill=\"none\" id=\"E3-&gt;E2\" style=\"stroke: #A80036; stroke-width: 1.0;\"/><polygon fill=\"#FFFFFF\" points=\"212.11,478.82,226.4699,464.5444,232.2993,477.273,212.11,478.82\" style=\"stroke: #A80036; stroke-width: 1.0;\"/><ellipse cx=\"232.485\" cy=\"463.9894\" fill=\"#A80036\" rx=\"2\" ry=\"2\" style=\"stroke: #A80036; stroke-width: 1.0;\"/><ellipse cx=\"236.6489\" cy=\"473.0813\" fill=\"#A80036\" rx=\"2\" ry=\"2\" style=\"stroke: #A80036; stroke-width: 1.0;\"/></a><!--MD5=[185131fc0dcab0a4505a2ebe144e961b]\n",
       "link E4 to E2--><a href=\"psysml:9348166f-8cea-4d7c-a96d-6192465a705e\" target=\"_top\" title=\"psysml:9348166f-8cea-4d7c-a96d-6192465a705e\" xlink:actuate=\"onRequest\" xlink:href=\"psysml:9348166f-8cea-4d7c-a96d-6192465a705e\" xlink:show=\"new\" xlink:title=\"psysml:9348166f-8cea-4d7c-a96d-6192465a705e\" xlink:type=\"simple\"><path d=\"M113.59,284.19 C89.09,299.24 66.03,318.9 52,344 C38.99,367.28 40.59,379.9 52,404 C63.79,428.9 85.67,449.46 107.27,465 \" fill=\"none\" id=\"E4-&gt;E2\" style=\"stroke: #A80036; stroke-width: 1.0;\"/><polygon fill=\"#FFFFFF\" points=\"123.95,476.13,104.2638,471.3916,112.0434,459.7522,123.95,476.13\" style=\"stroke: #A80036; stroke-width: 1.0;\"/><ellipse cx=\"100.6362\" cy=\"466.5614\" fill=\"#A80036\" rx=\"2\" ry=\"2\" style=\"stroke: #A80036; stroke-width: 1.0;\"/><ellipse cx=\"106.1931\" cy=\"458.2475\" fill=\"#A80036\" rx=\"2\" ry=\"2\" style=\"stroke: #A80036; stroke-width: 1.0;\"/></a><!--MD5=[62aa6af11e70f752912c1cb0466f24f7]\n",
       "reverse link E4 to E5--><a href=\"psysml:94e091d2-0286-4211-8181-aedc46ba16d2\" target=\"_top\" title=\"psysml:94e091d2-0286-4211-8181-aedc46ba16d2\" xlink:actuate=\"onRequest\" xlink:href=\"psysml:94e091d2-0286-4211-8181-aedc46ba16d2\" xlink:show=\"new\" xlink:title=\"psysml:94e091d2-0286-4211-8181-aedc46ba16d2\" xlink:type=\"simple\"><path d=\"M196.77,296.38 C189.63,315.4 181.99,335.75 176.38,350.69 \" fill=\"none\" id=\"E4&lt;-E5\" style=\"stroke: #A80036; stroke-width: 1.0;\"/><polygon fill=\"#A80036\" points=\"201.36,284.15,195.5058,288.3605,197.1407,295.3838,202.995,291.1733,201.36,284.15\" style=\"stroke: #A80036; stroke-width: 1.0;\"/><text fill=\"#000000\" font-family=\"sans-serif\" font-size=\"13\" lengthAdjust=\"spacingAndGlyphs\" textLength=\"7\" x=\"170.6305\" y=\"339.8869\">*</text></a><!--MD5=[15ebcb19ae302d9b601edb458606d402]\n",
       "link E5 to E2--><a href=\"psysml:dc08c53a-a0f0-4000-a138-cf80983e3afa\" target=\"_top\" title=\"psysml:dc08c53a-a0f0-4000-a138-cf80983e3afa\" xlink:actuate=\"onRequest\" xlink:href=\"psysml:dc08c53a-a0f0-4000-a138-cf80983e3afa\" xlink:show=\"new\" xlink:title=\"psysml:dc08c53a-a0f0-4000-a138-cf80983e3afa\" xlink:type=\"simple\"><path d=\"M168,397.17 C168,410.2 168,427.3 168,443.75 \" fill=\"none\" id=\"E5-&gt;E2\" style=\"stroke: #A80036; stroke-width: 1.0;\"/><polygon fill=\"#FFFFFF\" points=\"168,463.9,161,444.9,175,444.9,168,463.9\" style=\"stroke: #A80036; stroke-width: 1.0;\"/><ellipse cx=\"163\" cy=\"439.2\" fill=\"#A80036\" rx=\"2\" ry=\"2\" style=\"stroke: #A80036; stroke-width: 1.0;\"/><ellipse cx=\"173\" cy=\"439.2\" fill=\"#A80036\" rx=\"2\" ry=\"2\" style=\"stroke: #A80036; stroke-width: 1.0;\"/></a><!--MD5=[f667431f98296947986a1a7595a31603]\n",
       "link E6 to E4--><a href=\"psysml:b31b3f2c-80ab-44f0-a26e-d801559af683\" target=\"_top\" title=\"psysml:b31b3f2c-80ab-44f0-a26e-d801559af683\" xlink:actuate=\"onRequest\" xlink:href=\"psysml:b31b3f2c-80ab-44f0-a26e-d801559af683\" xlink:show=\"new\" xlink:title=\"psysml:b31b3f2c-80ab-44f0-a26e-d801559af683\" xlink:type=\"simple\"><path d=\"M217,139.13 C217,151.52 217,165.05 217,178.06 \" fill=\"none\" id=\"E6-&gt;E4\" style=\"stroke: #A80036; stroke-width: 1.0;\"/><polygon fill=\"none\" points=\"224,178.51,217,198.51,210,178.51,224,178.51\" style=\"stroke: #A80036; stroke-width: 1.0;\"/></a><!--MD5=[1ec4f0c0817e7b2c745b686aea327e3b]\n",
       "@startuml\r\n",
       "skinparam wrapWidth 300\r\n",
       "hide circle\r\n",
       "\r\n",
       "package \"MassRollup\" as E1  [[psysml:93cce498-741b-46da-9a76-47f8a90b0e87 ]]  {\r\n",
       "comp def \"MassedThing\" as E2  <<(T,blue)part def>> [[psysml:2bfc4bf5-5785-4629-99c8-bf06d3584a79 ]] {\r\n",
       "mass\r\n",
       "totalMass\r\n",
       "}\r\n",
       "comp usage \"simpleThing: MassedThing\" as E3  <<(T,blue)part>> [[psysml:d9d69a25-c21e-4c46-a572-d7b139b6ee26 ]] {\r\n",
       "<&bar-trig> totalMass=mass;  <s>MassedThing::totalMass</s>\r\n",
       "}\r\n",
       "comp usage \"compositeThing: MassedThing\" as E4  <<(T,blue)part>> [[psysml:343123b1-0808-41d0-8b17-a6ebb6acc0cb ]] {\r\n",
       "<&bar-trig> totalMass=mass + (subcomponents->collect p:MassedThing (p::totalMass)->reduce '+' ?? 0.0);  <s>MassedThing::totalMass</s>\r\n",
       "}\r\n",
       "comp usage \"subcomponents: MassedThing\" as E5  <<(T,blue)part>> [[psysml:09cd1f28-daf0-4d0d-a972-b9bf2a18e992 ]] {\r\n",
       "}\r\n",
       "comp usage \"filteredMassThing\" as E6  <<(T,blue)part>> [[psysml:b3309114-4b2b-46b3-9f4f-dc695177bad1 ]] {\r\n",
       "minMass\r\n",
       "<&bar-trig> totalMass=(./subcomponents/mass[p (p > minMass)])->reduce '+' ?? 0.0;  <s>MassedThing::totalMass</s>\r\n",
       "}\r\n",
       "E3 - -:|> E2 [[psysml:b7a37c04-3b7e-4fde-bcd3-8ff7c74e6a20 ]] \r\n",
       "E4 - -:|> E2 [[psysml:9348166f-8cea-4d7c-a96d-6192465a705e ]] \r\n",
       "E4 *- - \"*\"E5 [[psysml:94e091d2-0286-4211-8181-aedc46ba16d2 ]] \r\n",
       "E5 - -:|> E2 [[psysml:dc08c53a-a0f0-4000-a138-cf80983e3afa ]] \r\n",
       "E6 - -|> E4 [[psysml:b31b3f2c-80ab-44f0-a26e-d801559af683 ]] \r\n",
       "}\r\n",
       "@enduml\r\n",
       "\n",
       "PlantUML version 1.2020.13(Sat Jun 13 12:26:38 UTC 2020)\n",
       "(EPL source distribution)\n",
       "Java Runtime: OpenJDK Runtime Environment\n",
       "JVM: OpenJDK 64-Bit Server VM\n",
       "Default Encoding: UTF-8\n",
       "Language: en\n",
       "Country: null\n",
       "--></g></svg>"
      ]
     },
     "execution_count": 28,
     "metadata": {},
     "output_type": "execute_result"
    }
   ],
   "source": [
    "%viz --style=\"STDCOLOR\" --view=\"Sequence\" \"MassRollup\""
   ]
  },
  {
   "cell_type": "code",
   "execution_count": 29,
   "id": "89902a0d",
   "metadata": {
    "execution": {
     "iopub.execute_input": "2021-04-20T07:26:57.884674Z",
     "iopub.status.busy": "2021-04-20T07:26:57.883427Z",
     "iopub.status.idle": "2021-04-20T07:26:58.049712Z",
     "shell.execute_reply": "2021-04-20T07:26:58.049014Z"
    }
   },
   "outputs": [
    {
     "data": {
      "image/svg+xml": [
       "<?xml version=\"1.0\" encoding=\"UTF-8\" standalone=\"no\"?><svg xmlns=\"http://www.w3.org/2000/svg\" xmlns:xlink=\"http://www.w3.org/1999/xlink\" contentScriptType=\"application/ecmascript\" contentStyleType=\"text/css\" height=\"564px\" preserveAspectRatio=\"none\" style=\"width:615px;height:564px;\" version=\"1.1\" viewBox=\"0 0 615 564\" width=\"615px\" zoomAndPan=\"magnify\"><defs><filter height=\"300%\" id=\"fcf054w5vvkm0\" width=\"300%\" x=\"-1\" y=\"-1\"><feGaussianBlur result=\"blurOut\" stdDeviation=\"2.0\"/><feColorMatrix in=\"blurOut\" result=\"blurOut2\" type=\"matrix\" values=\"0 0 0 0 0 0 0 0 0 0 0 0 0 0 0 0 0 0 .4 0\"/><feOffset dx=\"4.0\" dy=\"4.0\" in=\"blurOut2\" result=\"blurOut3\"/><feBlend in=\"SourceGraphic\" in2=\"blurOut3\" mode=\"normal\"/></filter></defs><g><!--MD5=[fbc87193dbaf4d95561dea2c320d4a47]\n",
       "cluster E1--><a href=\"psysml:93cce498-741b-46da-9a76-47f8a90b0e87\" target=\"_top\" title=\"psysml:93cce498-741b-46da-9a76-47f8a90b0e87\" xlink:actuate=\"onRequest\" xlink:href=\"psysml:93cce498-741b-46da-9a76-47f8a90b0e87\" xlink:show=\"new\" xlink:title=\"psysml:93cce498-741b-46da-9a76-47f8a90b0e87\" xlink:type=\"simple\"><polygon fill=\"#FFFFFF\" filter=\"url(#fcf054w5vvkm0)\" points=\"16,6,110,6,117,28.2969,593,28.2969,593,552,16,552,16,6\" style=\"stroke: #000000; stroke-width: 1.5;\"/><line style=\"stroke: #000000; stroke-width: 1.5;\" x1=\"16\" x2=\"117\" y1=\"28.2969\" y2=\"28.2969\"/><text fill=\"#000000\" font-family=\"sans-serif\" font-size=\"14\" font-weight=\"bold\" lengthAdjust=\"spacingAndGlyphs\" textLength=\"88\" x=\"20\" y=\"20.9951\">MassRollup</text></a><!--MD5=[b4997ac47864f28c2f74865a473b2911]\n",
       "class E2--><a href=\"psysml:2bfc4bf5-5785-4629-99c8-bf06d3584a79\" target=\"_top\" title=\"psysml:2bfc4bf5-5785-4629-99c8-bf06d3584a79\" xlink:actuate=\"onRequest\" xlink:href=\"psysml:2bfc4bf5-5785-4629-99c8-bf06d3584a79\" xlink:show=\"new\" xlink:title=\"psysml:2bfc4bf5-5785-4629-99c8-bf06d3584a79\" xlink:type=\"simple\"><rect fill=\"#FEFECE\" filter=\"url(#fcf054w5vvkm0)\" height=\"71.5469\" id=\"E2\" style=\"stroke: #A80036; stroke-width: 1.5;\" width=\"88\" x=\"124\" y=\"464\"/><text fill=\"#000000\" font-family=\"sans-serif\" font-size=\"12\" font-style=\"italic\" lengthAdjust=\"spacingAndGlyphs\" textLength=\"64\" x=\"136\" y=\"480.1387\">«part def»</text><text fill=\"#000000\" font-family=\"sans-serif\" font-size=\"12\" lengthAdjust=\"spacingAndGlyphs\" textLength=\"82\" x=\"127\" y=\"494.1074\">MassedThing</text><line style=\"stroke: #A80036; stroke-width: 1.5;\" x1=\"125\" x2=\"211\" y1=\"501.9375\" y2=\"501.9375\"/><text fill=\"#000000\" font-family=\"sans-serif\" font-size=\"11\" lengthAdjust=\"spacingAndGlyphs\" textLength=\"32\" x=\"130\" y=\"516.1479\">mass</text><text fill=\"#000000\" font-family=\"sans-serif\" font-size=\"11\" lengthAdjust=\"spacingAndGlyphs\" textLength=\"55\" x=\"130\" y=\"528.9526\">totalMass</text></a><!--MD5=[09b614a08d8cba4a07c9adeb5e0fee81]\n",
       "class E3--><a href=\"psysml:d9d69a25-c21e-4c46-a572-d7b139b6ee26\" target=\"_top\" title=\"psysml:d9d69a25-c21e-4c46-a572-d7b139b6ee26\" xlink:actuate=\"onRequest\" xlink:href=\"psysml:d9d69a25-c21e-4c46-a572-d7b139b6ee26\" xlink:show=\"new\" xlink:title=\"psysml:d9d69a25-c21e-4c46-a572-d7b139b6ee26\" xlink:type=\"simple\"><rect fill=\"#FEFECE\" filter=\"url(#fcf054w5vvkm0)\" height=\"59.6875\" id=\"E3\" rx=\"10\" ry=\"10\" style=\"stroke: #A80036; stroke-width: 1.5;\" width=\"275\" x=\"301.5\" y=\"344\"/><text fill=\"#000000\" font-family=\"sans-serif\" font-size=\"12\" font-style=\"italic\" lengthAdjust=\"spacingAndGlyphs\" textLength=\"40\" x=\"419\" y=\"360.1387\">«part»</text><text fill=\"#000000\" font-family=\"sans-serif\" font-size=\"12\" lengthAdjust=\"spacingAndGlyphs\" textLength=\"164\" x=\"357\" y=\"374.1074\">simpleThing: MassedThing</text><line style=\"stroke: #A80036; stroke-width: 1.5;\" x1=\"302.5\" x2=\"575.5\" y1=\"381.9375\" y2=\"381.9375\"/><path d=\"M309.4167,386.8542 L309.4167,396.0208 L310.3333,396.0208 L310.3333,386.8542 M313.0833,386.8542 L313.0833,396.0208 L320.4167,391.4375 L313.0833,386.8542 L314,388.2292 L319.0417,391.4375 L314,394.6458 L314,388.2292 \" fill=\"#000000\" style=\"stroke: ; stroke-width: 0.0; stroke-dasharray: ;\"/><text fill=\"#000000\" font-family=\"sans-serif\" font-size=\"11\" lengthAdjust=\"spacingAndGlyphs\" textLength=\"100\" x=\"324.5\" y=\"397.0933\">totalMass=mass;</text><text fill=\"#000000\" font-family=\"sans-serif\" font-size=\"11\" lengthAdjust=\"spacingAndGlyphs\" text-decoration=\"line-through\" textLength=\"138\" x=\"432.5\" y=\"397.0933\">MassedThing::totalMass</text></a><!--MD5=[ebbe1d658d1005bcc118a6aa81145e00]\n",
       "class E4--><a href=\"psysml:343123b1-0808-41d0-8b17-a6ebb6acc0cb\" target=\"_top\" title=\"psysml:343123b1-0808-41d0-8b17-a6ebb6acc0cb\" xlink:actuate=\"onRequest\" xlink:href=\"psysml:343123b1-0808-41d0-8b17-a6ebb6acc0cb\" xlink:show=\"new\" xlink:title=\"psysml:343123b1-0808-41d0-8b17-a6ebb6acc0cb\" xlink:type=\"simple\"><rect fill=\"#FEFECE\" filter=\"url(#fcf054w5vvkm0)\" height=\"85.2969\" id=\"E4\" rx=\"10\" ry=\"10\" style=\"stroke: #A80036; stroke-width: 1.5;\" width=\"369\" x=\"32.5\" y=\"199\"/><text fill=\"#000000\" font-family=\"sans-serif\" font-size=\"12\" font-style=\"italic\" lengthAdjust=\"spacingAndGlyphs\" textLength=\"40\" x=\"197\" y=\"215.1387\">«part»</text><text fill=\"#000000\" font-family=\"sans-serif\" font-size=\"12\" lengthAdjust=\"spacingAndGlyphs\" textLength=\"189\" x=\"122.5\" y=\"229.1074\">compositeThing: MassedThing</text><line style=\"stroke: #A80036; stroke-width: 1.5;\" x1=\"33.5\" x2=\"400.5\" y1=\"236.9375\" y2=\"236.9375\"/><path d=\"M40.4167,241.8542 L40.4167,251.0208 L41.3333,251.0208 L41.3333,241.8542 M44.0833,241.8542 L44.0833,251.0208 L51.4167,246.4375 L44.0833,241.8542 L45,243.2292 L50.0417,246.4375 L45,249.6458 L45,243.2292 \" fill=\"#000000\" style=\"stroke: ; stroke-width: 0.0; stroke-dasharray: ;\"/><text fill=\"#000000\" font-family=\"sans-serif\" font-size=\"11\" lengthAdjust=\"spacingAndGlyphs\" textLength=\"272\" x=\"55.5\" y=\"252.0933\">totalMass=mass + (subcomponents-&gt;collect p:</text><text fill=\"#000000\" font-family=\"sans-serif\" font-size=\"11\" lengthAdjust=\"spacingAndGlyphs\" textLength=\"274\" x=\"38.5\" y=\"264.8979\">MassedThing (p::totalMass)-&gt;reduce '+' ?? 0.0);</text><text fill=\"#000000\" font-family=\"sans-serif\" font-size=\"11\" lengthAdjust=\"spacingAndGlyphs\" text-decoration=\"line-through\" textLength=\"75\" x=\"320.5\" y=\"264.8979\">MassedThing</text><text fill=\"#000000\" font-family=\"sans-serif\" font-size=\"11\" lengthAdjust=\"spacingAndGlyphs\" text-decoration=\"line-through\" textLength=\"63\" x=\"38.5\" y=\"277.7026\">::totalMass</text></a><!--MD5=[270fce915f116d4de14055a7c1d9a0f3]\n",
       "class E5--><a href=\"psysml:09cd1f28-daf0-4d0d-a972-b9bf2a18e992\" target=\"_top\" title=\"psysml:09cd1f28-daf0-4d0d-a972-b9bf2a18e992\" xlink:actuate=\"onRequest\" xlink:href=\"psysml:09cd1f28-daf0-4d0d-a972-b9bf2a18e992\" xlink:show=\"new\" xlink:title=\"psysml:09cd1f28-daf0-4d0d-a972-b9bf2a18e992\" xlink:type=\"simple\"><rect fill=\"#FEFECE\" filter=\"url(#fcf054w5vvkm0)\" height=\"45.9375\" id=\"E5\" rx=\"10\" ry=\"10\" style=\"stroke: #A80036; stroke-width: 1.5;\" width=\"197\" x=\"69.5\" y=\"351\"/><text fill=\"#000000\" font-family=\"sans-serif\" font-size=\"12\" font-style=\"italic\" lengthAdjust=\"spacingAndGlyphs\" textLength=\"40\" x=\"148\" y=\"367.1387\">«part»</text><text fill=\"#000000\" font-family=\"sans-serif\" font-size=\"12\" lengthAdjust=\"spacingAndGlyphs\" textLength=\"191\" x=\"72.5\" y=\"381.1074\">subcomponents: MassedThing</text><line style=\"stroke: #A80036; stroke-width: 1.5;\" x1=\"70.5\" x2=\"265.5\" y1=\"388.9375\" y2=\"388.9375\"/></a><!--MD5=[60a26617385b1d2d0262a64233df1f8d]\n",
       "class E6--><a href=\"psysml:b3309114-4b2b-46b3-9f4f-dc695177bad1\" target=\"_top\" title=\"psysml:b3309114-4b2b-46b3-9f4f-dc695177bad1\" xlink:actuate=\"onRequest\" xlink:href=\"psysml:b3309114-4b2b-46b3-9f4f-dc695177bad1\" xlink:show=\"new\" xlink:title=\"psysml:b3309114-4b2b-46b3-9f4f-dc695177bad1\" xlink:type=\"simple\"><rect fill=\"#FEFECE\" filter=\"url(#fcf054w5vvkm0)\" height=\"98.1016\" id=\"E6\" rx=\"10\" ry=\"10\" style=\"stroke: #A80036; stroke-width: 1.5;\" width=\"279\" x=\"77.5\" y=\"41\"/><text fill=\"#000000\" font-family=\"sans-serif\" font-size=\"12\" font-style=\"italic\" lengthAdjust=\"spacingAndGlyphs\" textLength=\"40\" x=\"197\" y=\"57.1387\">«part»</text><text fill=\"#000000\" font-family=\"sans-serif\" font-size=\"12\" lengthAdjust=\"spacingAndGlyphs\" textLength=\"110\" x=\"162\" y=\"71.1074\">filteredMassThing</text><line style=\"stroke: #A80036; stroke-width: 1.5;\" x1=\"78.5\" x2=\"355.5\" y1=\"78.9375\" y2=\"78.9375\"/><text fill=\"#000000\" font-family=\"sans-serif\" font-size=\"11\" lengthAdjust=\"spacingAndGlyphs\" textLength=\"51\" x=\"83.5\" y=\"93.1479\">minMass</text><path d=\"M85.4167,96.6589 L85.4167,105.8255 L86.3333,105.8255 L86.3333,96.6589 M89.0833,96.6589 L89.0833,105.8255 L96.4167,101.2422 L89.0833,96.6589 L90,98.0339 L95.0417,101.2422 L90,104.4505 L90,98.0339 \" fill=\"#000000\" style=\"stroke: ; stroke-width: 0.0; stroke-dasharray: ;\"/><text fill=\"#000000\" font-family=\"sans-serif\" font-size=\"11\" lengthAdjust=\"spacingAndGlyphs\" textLength=\"242\" x=\"100.5\" y=\"106.8979\">totalMass=(./subcomponents/mass[p (p &gt;</text><text fill=\"#000000\" font-family=\"sans-serif\" font-size=\"11\" lengthAdjust=\"spacingAndGlyphs\" textLength=\"176\" x=\"83.5\" y=\"119.7026\">minMass)])-&gt;reduce '+' ?? 0.0;</text><text fill=\"#000000\" font-family=\"sans-serif\" font-size=\"11\" lengthAdjust=\"spacingAndGlyphs\" text-decoration=\"line-through\" textLength=\"83\" x=\"267.5\" y=\"119.7026\">MassedThing::</text><text fill=\"#000000\" font-family=\"sans-serif\" font-size=\"11\" lengthAdjust=\"spacingAndGlyphs\" text-decoration=\"line-through\" textLength=\"55\" x=\"83.5\" y=\"132.5073\">totalMass</text></a><!--MD5=[05d275557350bfb9b23a4ef7222b4c39]\n",
       "link E3 to E2--><a href=\"psysml:b7a37c04-3b7e-4fde-bcd3-8ff7c74e6a20\" target=\"_top\" title=\"psysml:b7a37c04-3b7e-4fde-bcd3-8ff7c74e6a20\" xlink:actuate=\"onRequest\" xlink:href=\"psysml:b7a37c04-3b7e-4fde-bcd3-8ff7c74e6a20\" xlink:show=\"new\" xlink:title=\"psysml:b7a37c04-3b7e-4fde-bcd3-8ff7c74e6a20\" xlink:type=\"simple\"><path d=\"M375.46,404.07 C331.72,424.09 273.88,450.56 230.38,470.46 \" fill=\"none\" id=\"E3-&gt;E2\" style=\"stroke: #A80036; stroke-width: 1.0;\"/><polygon fill=\"#FFFFFF\" points=\"212.11,478.82,226.4699,464.5444,232.2993,477.273,212.11,478.82\" style=\"stroke: #A80036; stroke-width: 1.0;\"/><ellipse cx=\"232.485\" cy=\"463.9894\" fill=\"#A80036\" rx=\"2\" ry=\"2\" style=\"stroke: #A80036; stroke-width: 1.0;\"/><ellipse cx=\"236.6489\" cy=\"473.0813\" fill=\"#A80036\" rx=\"2\" ry=\"2\" style=\"stroke: #A80036; stroke-width: 1.0;\"/></a><!--MD5=[185131fc0dcab0a4505a2ebe144e961b]\n",
       "link E4 to E2--><a href=\"psysml:9348166f-8cea-4d7c-a96d-6192465a705e\" target=\"_top\" title=\"psysml:9348166f-8cea-4d7c-a96d-6192465a705e\" xlink:actuate=\"onRequest\" xlink:href=\"psysml:9348166f-8cea-4d7c-a96d-6192465a705e\" xlink:show=\"new\" xlink:title=\"psysml:9348166f-8cea-4d7c-a96d-6192465a705e\" xlink:type=\"simple\"><path d=\"M113.59,284.19 C89.09,299.24 66.03,318.9 52,344 C38.99,367.28 40.59,379.9 52,404 C63.79,428.9 85.67,449.46 107.27,465 \" fill=\"none\" id=\"E4-&gt;E2\" style=\"stroke: #A80036; stroke-width: 1.0;\"/><polygon fill=\"#FFFFFF\" points=\"123.95,476.13,104.2638,471.3916,112.0434,459.7522,123.95,476.13\" style=\"stroke: #A80036; stroke-width: 1.0;\"/><ellipse cx=\"100.6362\" cy=\"466.5614\" fill=\"#A80036\" rx=\"2\" ry=\"2\" style=\"stroke: #A80036; stroke-width: 1.0;\"/><ellipse cx=\"106.1931\" cy=\"458.2475\" fill=\"#A80036\" rx=\"2\" ry=\"2\" style=\"stroke: #A80036; stroke-width: 1.0;\"/></a><!--MD5=[62aa6af11e70f752912c1cb0466f24f7]\n",
       "reverse link E4 to E5--><a href=\"psysml:94e091d2-0286-4211-8181-aedc46ba16d2\" target=\"_top\" title=\"psysml:94e091d2-0286-4211-8181-aedc46ba16d2\" xlink:actuate=\"onRequest\" xlink:href=\"psysml:94e091d2-0286-4211-8181-aedc46ba16d2\" xlink:show=\"new\" xlink:title=\"psysml:94e091d2-0286-4211-8181-aedc46ba16d2\" xlink:type=\"simple\"><path d=\"M196.77,296.38 C189.63,315.4 181.99,335.75 176.38,350.69 \" fill=\"none\" id=\"E4&lt;-E5\" style=\"stroke: #A80036; stroke-width: 1.0;\"/><polygon fill=\"#A80036\" points=\"201.36,284.15,195.5058,288.3605,197.1407,295.3838,202.995,291.1733,201.36,284.15\" style=\"stroke: #A80036; stroke-width: 1.0;\"/><text fill=\"#000000\" font-family=\"sans-serif\" font-size=\"13\" lengthAdjust=\"spacingAndGlyphs\" textLength=\"7\" x=\"170.6305\" y=\"339.8869\">*</text></a><!--MD5=[15ebcb19ae302d9b601edb458606d402]\n",
       "link E5 to E2--><a href=\"psysml:dc08c53a-a0f0-4000-a138-cf80983e3afa\" target=\"_top\" title=\"psysml:dc08c53a-a0f0-4000-a138-cf80983e3afa\" xlink:actuate=\"onRequest\" xlink:href=\"psysml:dc08c53a-a0f0-4000-a138-cf80983e3afa\" xlink:show=\"new\" xlink:title=\"psysml:dc08c53a-a0f0-4000-a138-cf80983e3afa\" xlink:type=\"simple\"><path d=\"M168,397.17 C168,410.2 168,427.3 168,443.75 \" fill=\"none\" id=\"E5-&gt;E2\" style=\"stroke: #A80036; stroke-width: 1.0;\"/><polygon fill=\"#FFFFFF\" points=\"168,463.9,161,444.9,175,444.9,168,463.9\" style=\"stroke: #A80036; stroke-width: 1.0;\"/><ellipse cx=\"163\" cy=\"439.2\" fill=\"#A80036\" rx=\"2\" ry=\"2\" style=\"stroke: #A80036; stroke-width: 1.0;\"/><ellipse cx=\"173\" cy=\"439.2\" fill=\"#A80036\" rx=\"2\" ry=\"2\" style=\"stroke: #A80036; stroke-width: 1.0;\"/></a><!--MD5=[f667431f98296947986a1a7595a31603]\n",
       "link E6 to E4--><a href=\"psysml:b31b3f2c-80ab-44f0-a26e-d801559af683\" target=\"_top\" title=\"psysml:b31b3f2c-80ab-44f0-a26e-d801559af683\" xlink:actuate=\"onRequest\" xlink:href=\"psysml:b31b3f2c-80ab-44f0-a26e-d801559af683\" xlink:show=\"new\" xlink:title=\"psysml:b31b3f2c-80ab-44f0-a26e-d801559af683\" xlink:type=\"simple\"><path d=\"M217,139.13 C217,151.52 217,165.05 217,178.06 \" fill=\"none\" id=\"E6-&gt;E4\" style=\"stroke: #A80036; stroke-width: 1.0;\"/><polygon fill=\"none\" points=\"224,178.51,217,198.51,210,178.51,224,178.51\" style=\"stroke: #A80036; stroke-width: 1.0;\"/></a><!--MD5=[1ec4f0c0817e7b2c745b686aea327e3b]\n",
       "@startuml\r\n",
       "skinparam wrapWidth 300\r\n",
       "hide circle\r\n",
       "\r\n",
       "package \"MassRollup\" as E1  [[psysml:93cce498-741b-46da-9a76-47f8a90b0e87 ]]  {\r\n",
       "comp def \"MassedThing\" as E2  <<(T,blue)part def>> [[psysml:2bfc4bf5-5785-4629-99c8-bf06d3584a79 ]] {\r\n",
       "mass\r\n",
       "totalMass\r\n",
       "}\r\n",
       "comp usage \"simpleThing: MassedThing\" as E3  <<(T,blue)part>> [[psysml:d9d69a25-c21e-4c46-a572-d7b139b6ee26 ]] {\r\n",
       "<&bar-trig> totalMass=mass;  <s>MassedThing::totalMass</s>\r\n",
       "}\r\n",
       "comp usage \"compositeThing: MassedThing\" as E4  <<(T,blue)part>> [[psysml:343123b1-0808-41d0-8b17-a6ebb6acc0cb ]] {\r\n",
       "<&bar-trig> totalMass=mass + (subcomponents->collect p:MassedThing (p::totalMass)->reduce '+' ?? 0.0);  <s>MassedThing::totalMass</s>\r\n",
       "}\r\n",
       "comp usage \"subcomponents: MassedThing\" as E5  <<(T,blue)part>> [[psysml:09cd1f28-daf0-4d0d-a972-b9bf2a18e992 ]] {\r\n",
       "}\r\n",
       "comp usage \"filteredMassThing\" as E6  <<(T,blue)part>> [[psysml:b3309114-4b2b-46b3-9f4f-dc695177bad1 ]] {\r\n",
       "minMass\r\n",
       "<&bar-trig> totalMass=(./subcomponents/mass[p (p > minMass)])->reduce '+' ?? 0.0;  <s>MassedThing::totalMass</s>\r\n",
       "}\r\n",
       "E3 - -:|> E2 [[psysml:b7a37c04-3b7e-4fde-bcd3-8ff7c74e6a20 ]] \r\n",
       "E4 - -:|> E2 [[psysml:9348166f-8cea-4d7c-a96d-6192465a705e ]] \r\n",
       "E4 *- - \"*\"E5 [[psysml:94e091d2-0286-4211-8181-aedc46ba16d2 ]] \r\n",
       "E5 - -:|> E2 [[psysml:dc08c53a-a0f0-4000-a138-cf80983e3afa ]] \r\n",
       "E6 - -|> E4 [[psysml:b31b3f2c-80ab-44f0-a26e-d801559af683 ]] \r\n",
       "}\r\n",
       "@enduml\r\n",
       "\n",
       "PlantUML version 1.2020.13(Sat Jun 13 12:26:38 UTC 2020)\n",
       "(EPL source distribution)\n",
       "Java Runtime: OpenJDK Runtime Environment\n",
       "JVM: OpenJDK 64-Bit Server VM\n",
       "Default Encoding: UTF-8\n",
       "Language: en\n",
       "Country: null\n",
       "--></g></svg>"
      ]
     },
     "execution_count": 29,
     "metadata": {},
     "output_type": "execute_result"
    }
   ],
   "source": [
    "%viz --style=\"STDCOLOR\" --view=\"MIXED\" \"MassRollup\""
   ]
  },
  {
   "cell_type": "code",
   "execution_count": 30,
   "id": "9e11f741",
   "metadata": {
    "execution": {
     "iopub.execute_input": "2021-04-20T07:26:58.101862Z",
     "iopub.status.busy": "2021-04-20T07:26:58.100403Z",
     "iopub.status.idle": "2021-04-20T07:26:58.275185Z",
     "shell.execute_reply": "2021-04-20T07:26:58.274136Z"
    }
   },
   "outputs": [
    {
     "data": {
      "image/svg+xml": [
       "<?xml version=\"1.0\" encoding=\"UTF-8\" standalone=\"no\"?><svg xmlns=\"http://www.w3.org/2000/svg\" xmlns:xlink=\"http://www.w3.org/1999/xlink\" contentScriptType=\"application/ecmascript\" contentStyleType=\"text/css\" height=\"543px\" preserveAspectRatio=\"none\" style=\"width:632px;height:543px;\" version=\"1.1\" viewBox=\"0 0 632 543\" width=\"632px\" zoomAndPan=\"magnify\"><defs><filter height=\"300%\" id=\"f1aop6ujl0d8x3\" width=\"300%\" x=\"-1\" y=\"-1\"><feGaussianBlur result=\"blurOut\" stdDeviation=\"2.0\"/><feColorMatrix in=\"blurOut\" result=\"blurOut2\" type=\"matrix\" values=\"0 0 0 0 0 0 0 0 0 0 0 0 0 0 0 0 0 0 .4 0\"/><feOffset dx=\"4.0\" dy=\"4.0\" in=\"blurOut2\" result=\"blurOut3\"/><feBlend in=\"SourceGraphic\" in2=\"blurOut3\" mode=\"normal\"/></filter></defs><g><!--MD5=[fbc87193dbaf4d95561dea2c320d4a47]\n",
       "cluster E1--><a href=\"psysml:93cce498-741b-46da-9a76-47f8a90b0e87\" target=\"_top\" title=\"psysml:93cce498-741b-46da-9a76-47f8a90b0e87\" xlink:actuate=\"onRequest\" xlink:href=\"psysml:93cce498-741b-46da-9a76-47f8a90b0e87\" xlink:show=\"new\" xlink:title=\"psysml:93cce498-741b-46da-9a76-47f8a90b0e87\" xlink:type=\"simple\"><polygon fill=\"#FFFFFF\" filter=\"url(#f1aop6ujl0d8x3)\" points=\"16,6,110,6,117,28.2969,610,28.2969,610,531,16,531,16,6\" style=\"stroke: #000000; stroke-width: 1.5;\"/><line style=\"stroke: #000000; stroke-width: 1.5;\" x1=\"16\" x2=\"117\" y1=\"28.2969\" y2=\"28.2969\"/><text fill=\"#000000\" font-family=\"sans-serif\" font-size=\"14\" font-weight=\"bold\" lengthAdjust=\"spacingAndGlyphs\" textLength=\"88\" x=\"20\" y=\"20.9951\">MassRollup</text></a><!--MD5=[b4997ac47864f28c2f74865a473b2911]\n",
       "class E2--><a href=\"psysml:2bfc4bf5-5785-4629-99c8-bf06d3584a79\" target=\"_top\" title=\"psysml:2bfc4bf5-5785-4629-99c8-bf06d3584a79\" xlink:actuate=\"onRequest\" xlink:href=\"psysml:2bfc4bf5-5785-4629-99c8-bf06d3584a79\" xlink:show=\"new\" xlink:title=\"psysml:2bfc4bf5-5785-4629-99c8-bf06d3584a79\" xlink:type=\"simple\"><rect fill=\"#FEFECE\" filter=\"url(#f1aop6ujl0d8x3)\" height=\"65.6094\" id=\"E2\" style=\"stroke: #A80036; stroke-width: 1.5;\" width=\"114\" x=\"194\" y=\"449\"/><ellipse cx=\"209\" cy=\"465\" fill=\"#008000\" rx=\"11\" ry=\"11\" style=\"stroke: #A80036; stroke-width: 1.0;\"/><path d=\"M207.9063,465.375 L207.9063,469.0469 L209.5313,469.0469 Q210.7031,469.0469 211.1719,468.6563 Q211.6406,468.25 211.6406,467.25 Q211.6406,466.25 211.1406,465.8125 Q210.6563,465.375 209.5313,465.375 L207.9063,465.375 Z M207.9063,460.5469 L207.9063,463.4219 L209.5313,463.4219 Q210.4531,463.4219 210.8438,463.0938 Q211.25,462.75 211.25,462 Q211.25,461.2344 210.8438,460.8906 Q210.4375,460.5469 209.5313,460.5469 L207.9063,460.5469 Z M205.5313,458.5938 L209.5313,458.5938 Q211.5938,458.5938 212.6406,459.375 Q213.6875,460.1563 213.6875,461.7188 Q213.6875,462.9219 213.0625,463.5938 Q212.4531,464.2656 211.2656,464.375 Q212.6875,464.5156 213.4063,465.3281 Q214.125,466.1406 214.125,467.5938 Q214.125,469.3906 213.0469,470.2031 Q211.9688,471 209.5313,471 L205.5313,471 L205.5313,458.5938 Z \"/><text fill=\"#000000\" font-family=\"sans-serif\" font-size=\"12\" lengthAdjust=\"spacingAndGlyphs\" textLength=\"82\" x=\"223\" y=\"469.1543\">MassedThing</text><line style=\"stroke: #A80036; stroke-width: 1.5;\" x1=\"195\" x2=\"307\" y1=\"481\" y2=\"481\"/><text fill=\"#000000\" font-family=\"sans-serif\" font-size=\"11\" lengthAdjust=\"spacingAndGlyphs\" textLength=\"32\" x=\"200\" y=\"495.2104\">mass</text><text fill=\"#000000\" font-family=\"sans-serif\" font-size=\"11\" lengthAdjust=\"spacingAndGlyphs\" textLength=\"55\" x=\"200\" y=\"508.0151\">totalMass</text></a><!--MD5=[09b614a08d8cba4a07c9adeb5e0fee81]\n",
       "class E3--><a href=\"psysml:d9d69a25-c21e-4c46-a572-d7b139b6ee26\" target=\"_top\" title=\"psysml:d9d69a25-c21e-4c46-a572-d7b139b6ee26\" xlink:actuate=\"onRequest\" xlink:href=\"psysml:d9d69a25-c21e-4c46-a572-d7b139b6ee26\" xlink:show=\"new\" xlink:title=\"psysml:d9d69a25-c21e-4c46-a572-d7b139b6ee26\" xlink:type=\"simple\"><rect fill=\"#FEFECE\" filter=\"url(#f1aop6ujl0d8x3)\" height=\"71.5469\" id=\"E3\" rx=\"10\" ry=\"10\" style=\"stroke: #A80036; stroke-width: 1.5;\" width=\"196\" x=\"398\" y=\"317\"/><ellipse cx=\"413\" cy=\"335.9688\" fill=\"#32CD32\" rx=\"11\" ry=\"11\" style=\"stroke: #A80036; stroke-width: 1.0;\"/><path d=\"M412.7969,331.6406 L412.7969,335.2656 L413.7969,335.2656 Q415,335.2656 415.4844,334.8594 Q415.9688,334.4531 415.9688,333.4531 Q415.9688,332.4531 415.4844,332.0469 Q415,331.6406 413.7969,331.6406 L412.7969,331.6406 Z M410.3438,329.5781 L413.7031,329.5781 Q416.2656,329.5781 417.3906,330.5 Q418.5156,331.4063 418.5156,333.4531 Q418.5156,335.5 417.3906,336.4219 Q416.2656,337.3281 413.7031,337.3281 L412.7969,337.3281 L412.7969,341.9688 L410.3438,341.9688 L410.3438,329.5781 Z \"/><text fill=\"#000000\" font-family=\"sans-serif\" font-size=\"12\" font-style=\"italic\" lengthAdjust=\"spacingAndGlyphs\" textLength=\"40\" x=\"489\" y=\"333.1387\">«part»</text><text fill=\"#000000\" font-family=\"sans-serif\" font-size=\"12\" lengthAdjust=\"spacingAndGlyphs\" textLength=\"164\" x=\"427\" y=\"347.1074\">simpleThing: MassedThing</text><line style=\"stroke: #A80036; stroke-width: 1.5;\" x1=\"399\" x2=\"593\" y1=\"354.9375\" y2=\"354.9375\"/><text fill=\"#000000\" font-family=\"sans-serif\" font-size=\"11\" lengthAdjust=\"spacingAndGlyphs\" textLength=\"100\" x=\"404\" y=\"369.1479\">totalMass=mass;</text><text fill=\"#000000\" font-family=\"sans-serif\" font-size=\"11\" font-style=\"italic\" lengthAdjust=\"spacingAndGlyphs\" textLength=\"160\" x=\"404\" y=\"381.9526\">:&gt;&gt;MassedThing::totalMass</text></a><!--MD5=[ebbe1d658d1005bcc118a6aa81145e00]\n",
       "class E4--><a href=\"psysml:343123b1-0808-41d0-8b17-a6ebb6acc0cb\" target=\"_top\" title=\"psysml:343123b1-0808-41d0-8b17-a6ebb6acc0cb\" xlink:actuate=\"onRequest\" xlink:href=\"psysml:343123b1-0808-41d0-8b17-a6ebb6acc0cb\" xlink:show=\"new\" xlink:title=\"psysml:343123b1-0808-41d0-8b17-a6ebb6acc0cb\" xlink:type=\"simple\"><rect fill=\"#FEFECE\" filter=\"url(#f1aop6ujl0d8x3)\" height=\"71.5469\" id=\"E4\" rx=\"10\" ry=\"10\" style=\"stroke: #A80036; stroke-width: 1.5;\" width=\"562\" x=\"32\" y=\"185\"/><ellipse cx=\"214.25\" cy=\"203.9688\" fill=\"#32CD32\" rx=\"11\" ry=\"11\" style=\"stroke: #A80036; stroke-width: 1.0;\"/><path d=\"M214.0469,199.6406 L214.0469,203.2656 L215.0469,203.2656 Q216.25,203.2656 216.7344,202.8594 Q217.2188,202.4531 217.2188,201.4531 Q217.2188,200.4531 216.7344,200.0469 Q216.25,199.6406 215.0469,199.6406 L214.0469,199.6406 Z M211.5938,197.5781 L214.9531,197.5781 Q217.5156,197.5781 218.6406,198.5 Q219.7656,199.4063 219.7656,201.4531 Q219.7656,203.5 218.6406,204.4219 Q217.5156,205.3281 214.9531,205.3281 L214.0469,205.3281 L214.0469,209.9688 L211.5938,209.9688 L211.5938,197.5781 Z \"/><text fill=\"#000000\" font-family=\"sans-serif\" font-size=\"12\" font-style=\"italic\" lengthAdjust=\"spacingAndGlyphs\" textLength=\"40\" x=\"309.25\" y=\"201.1387\">«part»</text><text fill=\"#000000\" font-family=\"sans-serif\" font-size=\"12\" lengthAdjust=\"spacingAndGlyphs\" textLength=\"189\" x=\"234.75\" y=\"215.1074\">compositeThing: MassedThing</text><line style=\"stroke: #A80036; stroke-width: 1.5;\" x1=\"33\" x2=\"593\" y1=\"222.9375\" y2=\"222.9375\"/><text fill=\"#000000\" font-family=\"sans-serif\" font-size=\"11\" lengthAdjust=\"spacingAndGlyphs\" textLength=\"546\" x=\"38\" y=\"237.1479\">totalMass=mass + (subcomponents-&gt;collect p:MassedThing (p::totalMass)-&gt;reduce '+' ?? 0.0);</text><text fill=\"#000000\" font-family=\"sans-serif\" font-size=\"11\" font-style=\"italic\" lengthAdjust=\"spacingAndGlyphs\" textLength=\"160\" x=\"38\" y=\"249.9526\">:&gt;&gt;MassedThing::totalMass</text></a><!--MD5=[270fce915f116d4de14055a7c1d9a0f3]\n",
       "class E5--><a href=\"psysml:09cd1f28-daf0-4d0d-a972-b9bf2a18e992\" target=\"_top\" title=\"psysml:09cd1f28-daf0-4d0d-a972-b9bf2a18e992\" xlink:actuate=\"onRequest\" xlink:href=\"psysml:09cd1f28-daf0-4d0d-a972-b9bf2a18e992\" xlink:show=\"new\" xlink:title=\"psysml:09cd1f28-daf0-4d0d-a972-b9bf2a18e992\" xlink:type=\"simple\"><rect fill=\"#FEFECE\" filter=\"url(#f1aop6ujl0d8x3)\" height=\"45.9375\" id=\"E5\" rx=\"10\" ry=\"10\" style=\"stroke: #A80036; stroke-width: 1.5;\" width=\"223\" x=\"139.5\" y=\"330\"/><ellipse cx=\"154.5\" cy=\"348.9688\" fill=\"#32CD32\" rx=\"11\" ry=\"11\" style=\"stroke: #A80036; stroke-width: 1.0;\"/><path d=\"M154.2969,344.6406 L154.2969,348.2656 L155.2969,348.2656 Q156.5,348.2656 156.9844,347.8594 Q157.4688,347.4531 157.4688,346.4531 Q157.4688,345.4531 156.9844,345.0469 Q156.5,344.6406 155.2969,344.6406 L154.2969,344.6406 Z M151.8438,342.5781 L155.2031,342.5781 Q157.7656,342.5781 158.8906,343.5 Q160.0156,344.4063 160.0156,346.4531 Q160.0156,348.5 158.8906,349.4219 Q157.7656,350.3281 155.2031,350.3281 L154.2969,350.3281 L154.2969,354.9688 L151.8438,354.9688 L151.8438,342.5781 Z \"/><text fill=\"#000000\" font-family=\"sans-serif\" font-size=\"12\" font-style=\"italic\" lengthAdjust=\"spacingAndGlyphs\" textLength=\"40\" x=\"244\" y=\"346.1387\">«part»</text><text fill=\"#000000\" font-family=\"sans-serif\" font-size=\"12\" lengthAdjust=\"spacingAndGlyphs\" textLength=\"191\" x=\"168.5\" y=\"360.1074\">subcomponents: MassedThing</text><line style=\"stroke: #A80036; stroke-width: 1.5;\" x1=\"140.5\" x2=\"361.5\" y1=\"367.9375\" y2=\"367.9375\"/></a><!--MD5=[60a26617385b1d2d0262a64233df1f8d]\n",
       "class E6--><a href=\"psysml:b3309114-4b2b-46b3-9f4f-dc695177bad1\" target=\"_top\" title=\"psysml:b3309114-4b2b-46b3-9f4f-dc695177bad1\" xlink:actuate=\"onRequest\" xlink:href=\"psysml:b3309114-4b2b-46b3-9f4f-dc695177bad1\" xlink:show=\"new\" xlink:title=\"psysml:b3309114-4b2b-46b3-9f4f-dc695177bad1\" xlink:type=\"simple\"><rect fill=\"#FEFECE\" filter=\"url(#f1aop6ujl0d8x3)\" height=\"84.3516\" id=\"E6\" rx=\"10\" ry=\"10\" style=\"stroke: #A80036; stroke-width: 1.5;\" width=\"438\" x=\"94\" y=\"41\"/><ellipse cx=\"253.75\" cy=\"59.9688\" fill=\"#32CD32\" rx=\"11\" ry=\"11\" style=\"stroke: #A80036; stroke-width: 1.0;\"/><path d=\"M253.5469,55.6406 L253.5469,59.2656 L254.5469,59.2656 Q255.75,59.2656 256.2344,58.8594 Q256.7188,58.4531 256.7188,57.4531 Q256.7188,56.4531 256.2344,56.0469 Q255.75,55.6406 254.5469,55.6406 L253.5469,55.6406 Z M251.0938,53.5781 L254.4531,53.5781 Q257.0156,53.5781 258.1406,54.5 Q259.2656,55.4063 259.2656,57.4531 Q259.2656,59.5 258.1406,60.4219 Q257.0156,61.3281 254.4531,61.3281 L253.5469,61.3281 L253.5469,65.9688 L251.0938,65.9688 L251.0938,53.5781 Z \"/><text fill=\"#000000\" font-family=\"sans-serif\" font-size=\"12\" font-style=\"italic\" lengthAdjust=\"spacingAndGlyphs\" textLength=\"40\" x=\"309.25\" y=\"57.1387\">«part»</text><text fill=\"#000000\" font-family=\"sans-serif\" font-size=\"12\" lengthAdjust=\"spacingAndGlyphs\" textLength=\"110\" x=\"274.25\" y=\"71.1074\">filteredMassThing</text><line style=\"stroke: #A80036; stroke-width: 1.5;\" x1=\"95\" x2=\"531\" y1=\"78.9375\" y2=\"78.9375\"/><text fill=\"#000000\" font-family=\"sans-serif\" font-size=\"11\" lengthAdjust=\"spacingAndGlyphs\" textLength=\"51\" x=\"100\" y=\"93.1479\">minMass</text><text fill=\"#000000\" font-family=\"sans-serif\" font-size=\"11\" lengthAdjust=\"spacingAndGlyphs\" textLength=\"422\" x=\"100\" y=\"105.9526\">totalMass=(./subcomponents/mass[p (p &gt; minMass)])-&gt;reduce '+' ?? 0.0;</text><text fill=\"#000000\" font-family=\"sans-serif\" font-size=\"11\" font-style=\"italic\" lengthAdjust=\"spacingAndGlyphs\" textLength=\"160\" x=\"100\" y=\"118.7573\">:&gt;&gt;MassedThing::totalMass</text></a><!--MD5=[05d275557350bfb9b23a4ef7222b4c39]\n",
       "link E3 to E2--><a href=\"psysml:b7a37c04-3b7e-4fde-bcd3-8ff7c74e6a20\" target=\"_top\" title=\"psysml:b7a37c04-3b7e-4fde-bcd3-8ff7c74e6a20\" xlink:actuate=\"onRequest\" xlink:href=\"psysml:b7a37c04-3b7e-4fde-bcd3-8ff7c74e6a20\" xlink:show=\"new\" xlink:title=\"psysml:b7a37c04-3b7e-4fde-bcd3-8ff7c74e6a20\" xlink:type=\"simple\"><path d=\"M428.4,389.04 C396.64,405.5 358.67,425.19 326.03,442.11 \" fill=\"none\" id=\"E3-&gt;E2\" style=\"stroke: #A80036; stroke-width: 1.0;\"/><polygon fill=\"#FFFFFF\" points=\"308.01,451.45,321.66,436.4942,328.1004,448.9249,308.01,451.45\" style=\"stroke: #A80036; stroke-width: 1.0;\"/><ellipse cx=\"327.6411\" cy=\"435.6478\" fill=\"#A80036\" rx=\"2\" ry=\"2\" style=\"stroke: #A80036; stroke-width: 1.0;\"/><ellipse cx=\"332.2414\" cy=\"444.5269\" fill=\"#A80036\" rx=\"2\" ry=\"2\" style=\"stroke: #A80036; stroke-width: 1.0;\"/></a><!--MD5=[185131fc0dcab0a4505a2ebe144e961b]\n",
       "link E4 to E2--><a href=\"psysml:9348166f-8cea-4d7c-a96d-6192465a705e\" target=\"_top\" title=\"psysml:9348166f-8cea-4d7c-a96d-6192465a705e\" xlink:actuate=\"onRequest\" xlink:href=\"psysml:9348166f-8cea-4d7c-a96d-6192465a705e\" xlink:show=\"new\" xlink:title=\"psysml:9348166f-8cea-4d7c-a96d-6192465a705e\" xlink:type=\"simple\"><path d=\"M192.38,257.21 C164.58,271.23 138.38,290.55 122,317 C105.15,344.2 107.35,360.55 122,389 C134.03,412.35 155.03,431.08 176.63,445.39 \" fill=\"none\" id=\"E4-&gt;E2\" style=\"stroke: #A80036; stroke-width: 1.0;\"/><polygon fill=\"#FFFFFF\" points=\"193.93,455.92,174.0606,452.0204,181.3399,440.0616,193.93,455.92\" style=\"stroke: #A80036; stroke-width: 1.0;\"/><ellipse cx=\"170.2316\" cy=\"447.3483\" fill=\"#A80036\" rx=\"2\" ry=\"2\" style=\"stroke: #A80036; stroke-width: 1.0;\"/><ellipse cx=\"175.431\" cy=\"438.8063\" fill=\"#A80036\" rx=\"2\" ry=\"2\" style=\"stroke: #A80036; stroke-width: 1.0;\"/></a><!--MD5=[62aa6af11e70f752912c1cb0466f24f7]\n",
       "reverse link E4 to E5--><a href=\"psysml:94e091d2-0286-4211-8181-aedc46ba16d2\" target=\"_top\" title=\"psysml:94e091d2-0286-4211-8181-aedc46ba16d2\" xlink:actuate=\"onRequest\" xlink:href=\"psysml:94e091d2-0286-4211-8181-aedc46ba16d2\" xlink:show=\"new\" xlink:title=\"psysml:94e091d2-0286-4211-8181-aedc46ba16d2\" xlink:type=\"simple\"><path d=\"M290.57,269.03 C280.67,289.79 269.5,313.22 261.56,329.87 \" fill=\"none\" id=\"E4&lt;-E5\" style=\"stroke: #A80036; stroke-width: 1.0;\"/><polygon fill=\"#A80036\" points=\"296.22,257.18,290.0288,260.8771,291.0603,268.0141,297.2515,264.3169,296.22,257.18\" style=\"stroke: #A80036; stroke-width: 1.0;\"/><text fill=\"#000000\" font-family=\"sans-serif\" font-size=\"13\" lengthAdjust=\"spacingAndGlyphs\" textLength=\"7\" x=\"256.3691\" y=\"319.113\">*</text></a><!--MD5=[15ebcb19ae302d9b601edb458606d402]\n",
       "link E5 to E2--><a href=\"psysml:dc08c53a-a0f0-4000-a138-cf80983e3afa\" target=\"_top\" title=\"psysml:dc08c53a-a0f0-4000-a138-cf80983e3afa\" xlink:actuate=\"onRequest\" xlink:href=\"psysml:dc08c53a-a0f0-4000-a138-cf80983e3afa\" xlink:show=\"new\" xlink:title=\"psysml:dc08c53a-a0f0-4000-a138-cf80983e3afa\" xlink:type=\"simple\"><path d=\"M251,376.12 C251,390.6 251,410.17 251,428.49 \" fill=\"none\" id=\"E5-&gt;E2\" style=\"stroke: #A80036; stroke-width: 1.0;\"/><polygon fill=\"#FFFFFF\" points=\"251,448.65,244,429.65,258,429.65,251,448.65\" style=\"stroke: #A80036; stroke-width: 1.0;\"/><ellipse cx=\"246\" cy=\"423.95\" fill=\"#A80036\" rx=\"2\" ry=\"2\" style=\"stroke: #A80036; stroke-width: 1.0;\"/><ellipse cx=\"256\" cy=\"423.95\" fill=\"#A80036\" rx=\"2\" ry=\"2\" style=\"stroke: #A80036; stroke-width: 1.0;\"/></a><!--MD5=[f667431f98296947986a1a7595a31603]\n",
       "link E6 to E4--><a href=\"psysml:b31b3f2c-80ab-44f0-a26e-d801559af683\" target=\"_top\" title=\"psysml:b31b3f2c-80ab-44f0-a26e-d801559af683\" xlink:actuate=\"onRequest\" xlink:href=\"psysml:b31b3f2c-80ab-44f0-a26e-d801559af683\" xlink:show=\"new\" xlink:title=\"psysml:b31b3f2c-80ab-44f0-a26e-d801559af683\" xlink:type=\"simple\"><path d=\"M313,125.17 C313,137.54 313,151.32 313,164.46 \" fill=\"none\" id=\"E6-&gt;E4\" style=\"stroke: #A80036; stroke-width: 1.0;\"/><polygon fill=\"none\" points=\"320,164.94,313,184.94,306,164.94,320,164.94\" style=\"stroke: #A80036; stroke-width: 1.0;\"/></a><!--MD5=[e2704711518d8f9ab39389c69f29cc37]\n",
       "@startuml\r\n",
       " \r\n",
       "package \"MassRollup\" as E1  [[psysml:93cce498-741b-46da-9a76-47f8a90b0e87 ]]  {\r\n",
       "comp def \"MassedThing\" as E2  << (B,green) >> [[psysml:2bfc4bf5-5785-4629-99c8-bf06d3584a79 ]] {\r\n",
       "mass\r\n",
       "totalMass\r\n",
       "}\r\n",
       "comp usage \"simpleThing: MassedThing\" as E3  << (P,limegreen) part>> [[psysml:d9d69a25-c21e-4c46-a572-d7b139b6ee26 ]] {\r\n",
       "totalMass=mass; \\n//:>>MassedThing::totalMass// \r\n",
       "}\r\n",
       "comp usage \"compositeThing: MassedThing\" as E4  << (P,limegreen) part>> [[psysml:343123b1-0808-41d0-8b17-a6ebb6acc0cb ]] {\r\n",
       "totalMass=mass + (subcomponents->collect p:MassedThing (p::totalMass)->reduce '+' ?? 0.0); \\n//:>>MassedThing::totalMass// \r\n",
       "}\r\n",
       "comp usage \"subcomponents: MassedThing\" as E5  << (P,limegreen) part>> [[psysml:09cd1f28-daf0-4d0d-a972-b9bf2a18e992 ]] {\r\n",
       "}\r\n",
       "comp usage \"filteredMassThing\" as E6  << (P,limegreen) part>> [[psysml:b3309114-4b2b-46b3-9f4f-dc695177bad1 ]] {\r\n",
       "minMass\r\n",
       "totalMass=(./subcomponents/mass[p (p > minMass)])->reduce '+' ?? 0.0; \\n//:>>MassedThing::totalMass// \r\n",
       "}\r\n",
       "E3 - -:|> E2 [[psysml:b7a37c04-3b7e-4fde-bcd3-8ff7c74e6a20 ]] \r\n",
       "E4 - -:|> E2 [[psysml:9348166f-8cea-4d7c-a96d-6192465a705e ]] \r\n",
       "E4 *- - \"*\"E5 [[psysml:94e091d2-0286-4211-8181-aedc46ba16d2 ]] \r\n",
       "E5 - -:|> E2 [[psysml:dc08c53a-a0f0-4000-a138-cf80983e3afa ]] \r\n",
       "E6 - -|> E4 [[psysml:b31b3f2c-80ab-44f0-a26e-d801559af683 ]] \r\n",
       "}\r\n",
       "@enduml\r\n",
       "\n",
       "PlantUML version 1.2020.13(Sat Jun 13 12:26:38 UTC 2020)\n",
       "(EPL source distribution)\n",
       "Java Runtime: OpenJDK Runtime Environment\n",
       "JVM: OpenJDK 64-Bit Server VM\n",
       "Default Encoding: UTF-8\n",
       "Language: en\n",
       "Country: null\n",
       "--></g></svg>"
      ]
     },
     "execution_count": 30,
     "metadata": {},
     "output_type": "execute_result"
    }
   ],
   "source": [
    "%viz --style=\"PLANTUML\" --view=\"Default\" \"MassRollup\""
   ]
  },
  {
   "cell_type": "code",
   "execution_count": 31,
   "id": "6034be8a",
   "metadata": {
    "execution": {
     "iopub.execute_input": "2021-04-20T07:26:58.327743Z",
     "iopub.status.busy": "2021-04-20T07:26:58.326548Z",
     "iopub.status.idle": "2021-04-20T07:26:58.476491Z",
     "shell.execute_reply": "2021-04-20T07:26:58.476922Z"
    }
   },
   "outputs": [
    {
     "data": {
      "image/svg+xml": [
       "<?xml version=\"1.0\" encoding=\"UTF-8\" standalone=\"no\"?><svg xmlns=\"http://www.w3.org/2000/svg\" xmlns:xlink=\"http://www.w3.org/1999/xlink\" contentScriptType=\"application/ecmascript\" contentStyleType=\"text/css\" height=\"543px\" preserveAspectRatio=\"none\" style=\"width:632px;height:543px;\" version=\"1.1\" viewBox=\"0 0 632 543\" width=\"632px\" zoomAndPan=\"magnify\"><defs><filter height=\"300%\" id=\"f1aop6ujl0d8x3\" width=\"300%\" x=\"-1\" y=\"-1\"><feGaussianBlur result=\"blurOut\" stdDeviation=\"2.0\"/><feColorMatrix in=\"blurOut\" result=\"blurOut2\" type=\"matrix\" values=\"0 0 0 0 0 0 0 0 0 0 0 0 0 0 0 0 0 0 .4 0\"/><feOffset dx=\"4.0\" dy=\"4.0\" in=\"blurOut2\" result=\"blurOut3\"/><feBlend in=\"SourceGraphic\" in2=\"blurOut3\" mode=\"normal\"/></filter></defs><g><!--MD5=[fbc87193dbaf4d95561dea2c320d4a47]\n",
       "cluster E1--><a href=\"psysml:93cce498-741b-46da-9a76-47f8a90b0e87\" target=\"_top\" title=\"psysml:93cce498-741b-46da-9a76-47f8a90b0e87\" xlink:actuate=\"onRequest\" xlink:href=\"psysml:93cce498-741b-46da-9a76-47f8a90b0e87\" xlink:show=\"new\" xlink:title=\"psysml:93cce498-741b-46da-9a76-47f8a90b0e87\" xlink:type=\"simple\"><polygon fill=\"#FFFFFF\" filter=\"url(#f1aop6ujl0d8x3)\" points=\"16,6,110,6,117,28.2969,610,28.2969,610,531,16,531,16,6\" style=\"stroke: #000000; stroke-width: 1.5;\"/><line style=\"stroke: #000000; stroke-width: 1.5;\" x1=\"16\" x2=\"117\" y1=\"28.2969\" y2=\"28.2969\"/><text fill=\"#000000\" font-family=\"sans-serif\" font-size=\"14\" font-weight=\"bold\" lengthAdjust=\"spacingAndGlyphs\" textLength=\"88\" x=\"20\" y=\"20.9951\">MassRollup</text></a><!--MD5=[b4997ac47864f28c2f74865a473b2911]\n",
       "class E2--><a href=\"psysml:2bfc4bf5-5785-4629-99c8-bf06d3584a79\" target=\"_top\" title=\"psysml:2bfc4bf5-5785-4629-99c8-bf06d3584a79\" xlink:actuate=\"onRequest\" xlink:href=\"psysml:2bfc4bf5-5785-4629-99c8-bf06d3584a79\" xlink:show=\"new\" xlink:title=\"psysml:2bfc4bf5-5785-4629-99c8-bf06d3584a79\" xlink:type=\"simple\"><rect fill=\"#FEFECE\" filter=\"url(#f1aop6ujl0d8x3)\" height=\"65.6094\" id=\"E2\" style=\"stroke: #A80036; stroke-width: 1.5;\" width=\"114\" x=\"194\" y=\"449\"/><ellipse cx=\"209\" cy=\"465\" fill=\"#008000\" rx=\"11\" ry=\"11\" style=\"stroke: #A80036; stroke-width: 1.0;\"/><path d=\"M207.9063,465.375 L207.9063,469.0469 L209.5313,469.0469 Q210.7031,469.0469 211.1719,468.6563 Q211.6406,468.25 211.6406,467.25 Q211.6406,466.25 211.1406,465.8125 Q210.6563,465.375 209.5313,465.375 L207.9063,465.375 Z M207.9063,460.5469 L207.9063,463.4219 L209.5313,463.4219 Q210.4531,463.4219 210.8438,463.0938 Q211.25,462.75 211.25,462 Q211.25,461.2344 210.8438,460.8906 Q210.4375,460.5469 209.5313,460.5469 L207.9063,460.5469 Z M205.5313,458.5938 L209.5313,458.5938 Q211.5938,458.5938 212.6406,459.375 Q213.6875,460.1563 213.6875,461.7188 Q213.6875,462.9219 213.0625,463.5938 Q212.4531,464.2656 211.2656,464.375 Q212.6875,464.5156 213.4063,465.3281 Q214.125,466.1406 214.125,467.5938 Q214.125,469.3906 213.0469,470.2031 Q211.9688,471 209.5313,471 L205.5313,471 L205.5313,458.5938 Z \"/><text fill=\"#000000\" font-family=\"sans-serif\" font-size=\"12\" lengthAdjust=\"spacingAndGlyphs\" textLength=\"82\" x=\"223\" y=\"469.1543\">MassedThing</text><line style=\"stroke: #A80036; stroke-width: 1.5;\" x1=\"195\" x2=\"307\" y1=\"481\" y2=\"481\"/><text fill=\"#000000\" font-family=\"sans-serif\" font-size=\"11\" lengthAdjust=\"spacingAndGlyphs\" textLength=\"32\" x=\"200\" y=\"495.2104\">mass</text><text fill=\"#000000\" font-family=\"sans-serif\" font-size=\"11\" lengthAdjust=\"spacingAndGlyphs\" textLength=\"55\" x=\"200\" y=\"508.0151\">totalMass</text></a><!--MD5=[09b614a08d8cba4a07c9adeb5e0fee81]\n",
       "class E3--><a href=\"psysml:d9d69a25-c21e-4c46-a572-d7b139b6ee26\" target=\"_top\" title=\"psysml:d9d69a25-c21e-4c46-a572-d7b139b6ee26\" xlink:actuate=\"onRequest\" xlink:href=\"psysml:d9d69a25-c21e-4c46-a572-d7b139b6ee26\" xlink:show=\"new\" xlink:title=\"psysml:d9d69a25-c21e-4c46-a572-d7b139b6ee26\" xlink:type=\"simple\"><rect fill=\"#FEFECE\" filter=\"url(#f1aop6ujl0d8x3)\" height=\"71.5469\" id=\"E3\" rx=\"10\" ry=\"10\" style=\"stroke: #A80036; stroke-width: 1.5;\" width=\"196\" x=\"398\" y=\"317\"/><ellipse cx=\"413\" cy=\"335.9688\" fill=\"#32CD32\" rx=\"11\" ry=\"11\" style=\"stroke: #A80036; stroke-width: 1.0;\"/><path d=\"M412.7969,331.6406 L412.7969,335.2656 L413.7969,335.2656 Q415,335.2656 415.4844,334.8594 Q415.9688,334.4531 415.9688,333.4531 Q415.9688,332.4531 415.4844,332.0469 Q415,331.6406 413.7969,331.6406 L412.7969,331.6406 Z M410.3438,329.5781 L413.7031,329.5781 Q416.2656,329.5781 417.3906,330.5 Q418.5156,331.4063 418.5156,333.4531 Q418.5156,335.5 417.3906,336.4219 Q416.2656,337.3281 413.7031,337.3281 L412.7969,337.3281 L412.7969,341.9688 L410.3438,341.9688 L410.3438,329.5781 Z \"/><text fill=\"#000000\" font-family=\"sans-serif\" font-size=\"12\" font-style=\"italic\" lengthAdjust=\"spacingAndGlyphs\" textLength=\"40\" x=\"489\" y=\"333.1387\">«part»</text><text fill=\"#000000\" font-family=\"sans-serif\" font-size=\"12\" lengthAdjust=\"spacingAndGlyphs\" textLength=\"164\" x=\"427\" y=\"347.1074\">simpleThing: MassedThing</text><line style=\"stroke: #A80036; stroke-width: 1.5;\" x1=\"399\" x2=\"593\" y1=\"354.9375\" y2=\"354.9375\"/><text fill=\"#000000\" font-family=\"sans-serif\" font-size=\"11\" lengthAdjust=\"spacingAndGlyphs\" textLength=\"100\" x=\"404\" y=\"369.1479\">totalMass=mass;</text><text fill=\"#000000\" font-family=\"sans-serif\" font-size=\"11\" font-style=\"italic\" lengthAdjust=\"spacingAndGlyphs\" textLength=\"160\" x=\"404\" y=\"381.9526\">:&gt;&gt;MassedThing::totalMass</text></a><!--MD5=[ebbe1d658d1005bcc118a6aa81145e00]\n",
       "class E4--><a href=\"psysml:343123b1-0808-41d0-8b17-a6ebb6acc0cb\" target=\"_top\" title=\"psysml:343123b1-0808-41d0-8b17-a6ebb6acc0cb\" xlink:actuate=\"onRequest\" xlink:href=\"psysml:343123b1-0808-41d0-8b17-a6ebb6acc0cb\" xlink:show=\"new\" xlink:title=\"psysml:343123b1-0808-41d0-8b17-a6ebb6acc0cb\" xlink:type=\"simple\"><rect fill=\"#FEFECE\" filter=\"url(#f1aop6ujl0d8x3)\" height=\"71.5469\" id=\"E4\" rx=\"10\" ry=\"10\" style=\"stroke: #A80036; stroke-width: 1.5;\" width=\"562\" x=\"32\" y=\"185\"/><ellipse cx=\"214.25\" cy=\"203.9688\" fill=\"#32CD32\" rx=\"11\" ry=\"11\" style=\"stroke: #A80036; stroke-width: 1.0;\"/><path d=\"M214.0469,199.6406 L214.0469,203.2656 L215.0469,203.2656 Q216.25,203.2656 216.7344,202.8594 Q217.2188,202.4531 217.2188,201.4531 Q217.2188,200.4531 216.7344,200.0469 Q216.25,199.6406 215.0469,199.6406 L214.0469,199.6406 Z M211.5938,197.5781 L214.9531,197.5781 Q217.5156,197.5781 218.6406,198.5 Q219.7656,199.4063 219.7656,201.4531 Q219.7656,203.5 218.6406,204.4219 Q217.5156,205.3281 214.9531,205.3281 L214.0469,205.3281 L214.0469,209.9688 L211.5938,209.9688 L211.5938,197.5781 Z \"/><text fill=\"#000000\" font-family=\"sans-serif\" font-size=\"12\" font-style=\"italic\" lengthAdjust=\"spacingAndGlyphs\" textLength=\"40\" x=\"309.25\" y=\"201.1387\">«part»</text><text fill=\"#000000\" font-family=\"sans-serif\" font-size=\"12\" lengthAdjust=\"spacingAndGlyphs\" textLength=\"189\" x=\"234.75\" y=\"215.1074\">compositeThing: MassedThing</text><line style=\"stroke: #A80036; stroke-width: 1.5;\" x1=\"33\" x2=\"593\" y1=\"222.9375\" y2=\"222.9375\"/><text fill=\"#000000\" font-family=\"sans-serif\" font-size=\"11\" lengthAdjust=\"spacingAndGlyphs\" textLength=\"546\" x=\"38\" y=\"237.1479\">totalMass=mass + (subcomponents-&gt;collect p:MassedThing (p::totalMass)-&gt;reduce '+' ?? 0.0);</text><text fill=\"#000000\" font-family=\"sans-serif\" font-size=\"11\" font-style=\"italic\" lengthAdjust=\"spacingAndGlyphs\" textLength=\"160\" x=\"38\" y=\"249.9526\">:&gt;&gt;MassedThing::totalMass</text></a><!--MD5=[270fce915f116d4de14055a7c1d9a0f3]\n",
       "class E5--><a href=\"psysml:09cd1f28-daf0-4d0d-a972-b9bf2a18e992\" target=\"_top\" title=\"psysml:09cd1f28-daf0-4d0d-a972-b9bf2a18e992\" xlink:actuate=\"onRequest\" xlink:href=\"psysml:09cd1f28-daf0-4d0d-a972-b9bf2a18e992\" xlink:show=\"new\" xlink:title=\"psysml:09cd1f28-daf0-4d0d-a972-b9bf2a18e992\" xlink:type=\"simple\"><rect fill=\"#FEFECE\" filter=\"url(#f1aop6ujl0d8x3)\" height=\"45.9375\" id=\"E5\" rx=\"10\" ry=\"10\" style=\"stroke: #A80036; stroke-width: 1.5;\" width=\"223\" x=\"139.5\" y=\"330\"/><ellipse cx=\"154.5\" cy=\"348.9688\" fill=\"#32CD32\" rx=\"11\" ry=\"11\" style=\"stroke: #A80036; stroke-width: 1.0;\"/><path d=\"M154.2969,344.6406 L154.2969,348.2656 L155.2969,348.2656 Q156.5,348.2656 156.9844,347.8594 Q157.4688,347.4531 157.4688,346.4531 Q157.4688,345.4531 156.9844,345.0469 Q156.5,344.6406 155.2969,344.6406 L154.2969,344.6406 Z M151.8438,342.5781 L155.2031,342.5781 Q157.7656,342.5781 158.8906,343.5 Q160.0156,344.4063 160.0156,346.4531 Q160.0156,348.5 158.8906,349.4219 Q157.7656,350.3281 155.2031,350.3281 L154.2969,350.3281 L154.2969,354.9688 L151.8438,354.9688 L151.8438,342.5781 Z \"/><text fill=\"#000000\" font-family=\"sans-serif\" font-size=\"12\" font-style=\"italic\" lengthAdjust=\"spacingAndGlyphs\" textLength=\"40\" x=\"244\" y=\"346.1387\">«part»</text><text fill=\"#000000\" font-family=\"sans-serif\" font-size=\"12\" lengthAdjust=\"spacingAndGlyphs\" textLength=\"191\" x=\"168.5\" y=\"360.1074\">subcomponents: MassedThing</text><line style=\"stroke: #A80036; stroke-width: 1.5;\" x1=\"140.5\" x2=\"361.5\" y1=\"367.9375\" y2=\"367.9375\"/></a><!--MD5=[60a26617385b1d2d0262a64233df1f8d]\n",
       "class E6--><a href=\"psysml:b3309114-4b2b-46b3-9f4f-dc695177bad1\" target=\"_top\" title=\"psysml:b3309114-4b2b-46b3-9f4f-dc695177bad1\" xlink:actuate=\"onRequest\" xlink:href=\"psysml:b3309114-4b2b-46b3-9f4f-dc695177bad1\" xlink:show=\"new\" xlink:title=\"psysml:b3309114-4b2b-46b3-9f4f-dc695177bad1\" xlink:type=\"simple\"><rect fill=\"#FEFECE\" filter=\"url(#f1aop6ujl0d8x3)\" height=\"84.3516\" id=\"E6\" rx=\"10\" ry=\"10\" style=\"stroke: #A80036; stroke-width: 1.5;\" width=\"438\" x=\"94\" y=\"41\"/><ellipse cx=\"253.75\" cy=\"59.9688\" fill=\"#32CD32\" rx=\"11\" ry=\"11\" style=\"stroke: #A80036; stroke-width: 1.0;\"/><path d=\"M253.5469,55.6406 L253.5469,59.2656 L254.5469,59.2656 Q255.75,59.2656 256.2344,58.8594 Q256.7188,58.4531 256.7188,57.4531 Q256.7188,56.4531 256.2344,56.0469 Q255.75,55.6406 254.5469,55.6406 L253.5469,55.6406 Z M251.0938,53.5781 L254.4531,53.5781 Q257.0156,53.5781 258.1406,54.5 Q259.2656,55.4063 259.2656,57.4531 Q259.2656,59.5 258.1406,60.4219 Q257.0156,61.3281 254.4531,61.3281 L253.5469,61.3281 L253.5469,65.9688 L251.0938,65.9688 L251.0938,53.5781 Z \"/><text fill=\"#000000\" font-family=\"sans-serif\" font-size=\"12\" font-style=\"italic\" lengthAdjust=\"spacingAndGlyphs\" textLength=\"40\" x=\"309.25\" y=\"57.1387\">«part»</text><text fill=\"#000000\" font-family=\"sans-serif\" font-size=\"12\" lengthAdjust=\"spacingAndGlyphs\" textLength=\"110\" x=\"274.25\" y=\"71.1074\">filteredMassThing</text><line style=\"stroke: #A80036; stroke-width: 1.5;\" x1=\"95\" x2=\"531\" y1=\"78.9375\" y2=\"78.9375\"/><text fill=\"#000000\" font-family=\"sans-serif\" font-size=\"11\" lengthAdjust=\"spacingAndGlyphs\" textLength=\"51\" x=\"100\" y=\"93.1479\">minMass</text><text fill=\"#000000\" font-family=\"sans-serif\" font-size=\"11\" lengthAdjust=\"spacingAndGlyphs\" textLength=\"422\" x=\"100\" y=\"105.9526\">totalMass=(./subcomponents/mass[p (p &gt; minMass)])-&gt;reduce '+' ?? 0.0;</text><text fill=\"#000000\" font-family=\"sans-serif\" font-size=\"11\" font-style=\"italic\" lengthAdjust=\"spacingAndGlyphs\" textLength=\"160\" x=\"100\" y=\"118.7573\">:&gt;&gt;MassedThing::totalMass</text></a><!--MD5=[05d275557350bfb9b23a4ef7222b4c39]\n",
       "link E3 to E2--><a href=\"psysml:b7a37c04-3b7e-4fde-bcd3-8ff7c74e6a20\" target=\"_top\" title=\"psysml:b7a37c04-3b7e-4fde-bcd3-8ff7c74e6a20\" xlink:actuate=\"onRequest\" xlink:href=\"psysml:b7a37c04-3b7e-4fde-bcd3-8ff7c74e6a20\" xlink:show=\"new\" xlink:title=\"psysml:b7a37c04-3b7e-4fde-bcd3-8ff7c74e6a20\" xlink:type=\"simple\"><path d=\"M428.4,389.04 C396.64,405.5 358.67,425.19 326.03,442.11 \" fill=\"none\" id=\"E3-&gt;E2\" style=\"stroke: #A80036; stroke-width: 1.0;\"/><polygon fill=\"#FFFFFF\" points=\"308.01,451.45,321.66,436.4942,328.1004,448.9249,308.01,451.45\" style=\"stroke: #A80036; stroke-width: 1.0;\"/><ellipse cx=\"327.6411\" cy=\"435.6478\" fill=\"#A80036\" rx=\"2\" ry=\"2\" style=\"stroke: #A80036; stroke-width: 1.0;\"/><ellipse cx=\"332.2414\" cy=\"444.5269\" fill=\"#A80036\" rx=\"2\" ry=\"2\" style=\"stroke: #A80036; stroke-width: 1.0;\"/></a><!--MD5=[185131fc0dcab0a4505a2ebe144e961b]\n",
       "link E4 to E2--><a href=\"psysml:9348166f-8cea-4d7c-a96d-6192465a705e\" target=\"_top\" title=\"psysml:9348166f-8cea-4d7c-a96d-6192465a705e\" xlink:actuate=\"onRequest\" xlink:href=\"psysml:9348166f-8cea-4d7c-a96d-6192465a705e\" xlink:show=\"new\" xlink:title=\"psysml:9348166f-8cea-4d7c-a96d-6192465a705e\" xlink:type=\"simple\"><path d=\"M192.38,257.21 C164.58,271.23 138.38,290.55 122,317 C105.15,344.2 107.35,360.55 122,389 C134.03,412.35 155.03,431.08 176.63,445.39 \" fill=\"none\" id=\"E4-&gt;E2\" style=\"stroke: #A80036; stroke-width: 1.0;\"/><polygon fill=\"#FFFFFF\" points=\"193.93,455.92,174.0606,452.0204,181.3399,440.0616,193.93,455.92\" style=\"stroke: #A80036; stroke-width: 1.0;\"/><ellipse cx=\"170.2316\" cy=\"447.3483\" fill=\"#A80036\" rx=\"2\" ry=\"2\" style=\"stroke: #A80036; stroke-width: 1.0;\"/><ellipse cx=\"175.431\" cy=\"438.8063\" fill=\"#A80036\" rx=\"2\" ry=\"2\" style=\"stroke: #A80036; stroke-width: 1.0;\"/></a><!--MD5=[62aa6af11e70f752912c1cb0466f24f7]\n",
       "reverse link E4 to E5--><a href=\"psysml:94e091d2-0286-4211-8181-aedc46ba16d2\" target=\"_top\" title=\"psysml:94e091d2-0286-4211-8181-aedc46ba16d2\" xlink:actuate=\"onRequest\" xlink:href=\"psysml:94e091d2-0286-4211-8181-aedc46ba16d2\" xlink:show=\"new\" xlink:title=\"psysml:94e091d2-0286-4211-8181-aedc46ba16d2\" xlink:type=\"simple\"><path d=\"M290.57,269.03 C280.67,289.79 269.5,313.22 261.56,329.87 \" fill=\"none\" id=\"E4&lt;-E5\" style=\"stroke: #A80036; stroke-width: 1.0;\"/><polygon fill=\"#A80036\" points=\"296.22,257.18,290.0288,260.8771,291.0603,268.0141,297.2515,264.3169,296.22,257.18\" style=\"stroke: #A80036; stroke-width: 1.0;\"/><text fill=\"#000000\" font-family=\"sans-serif\" font-size=\"13\" lengthAdjust=\"spacingAndGlyphs\" textLength=\"7\" x=\"256.3691\" y=\"319.113\">*</text></a><!--MD5=[15ebcb19ae302d9b601edb458606d402]\n",
       "link E5 to E2--><a href=\"psysml:dc08c53a-a0f0-4000-a138-cf80983e3afa\" target=\"_top\" title=\"psysml:dc08c53a-a0f0-4000-a138-cf80983e3afa\" xlink:actuate=\"onRequest\" xlink:href=\"psysml:dc08c53a-a0f0-4000-a138-cf80983e3afa\" xlink:show=\"new\" xlink:title=\"psysml:dc08c53a-a0f0-4000-a138-cf80983e3afa\" xlink:type=\"simple\"><path d=\"M251,376.12 C251,390.6 251,410.17 251,428.49 \" fill=\"none\" id=\"E5-&gt;E2\" style=\"stroke: #A80036; stroke-width: 1.0;\"/><polygon fill=\"#FFFFFF\" points=\"251,448.65,244,429.65,258,429.65,251,448.65\" style=\"stroke: #A80036; stroke-width: 1.0;\"/><ellipse cx=\"246\" cy=\"423.95\" fill=\"#A80036\" rx=\"2\" ry=\"2\" style=\"stroke: #A80036; stroke-width: 1.0;\"/><ellipse cx=\"256\" cy=\"423.95\" fill=\"#A80036\" rx=\"2\" ry=\"2\" style=\"stroke: #A80036; stroke-width: 1.0;\"/></a><!--MD5=[f667431f98296947986a1a7595a31603]\n",
       "link E6 to E4--><a href=\"psysml:b31b3f2c-80ab-44f0-a26e-d801559af683\" target=\"_top\" title=\"psysml:b31b3f2c-80ab-44f0-a26e-d801559af683\" xlink:actuate=\"onRequest\" xlink:href=\"psysml:b31b3f2c-80ab-44f0-a26e-d801559af683\" xlink:show=\"new\" xlink:title=\"psysml:b31b3f2c-80ab-44f0-a26e-d801559af683\" xlink:type=\"simple\"><path d=\"M313,125.17 C313,137.54 313,151.32 313,164.46 \" fill=\"none\" id=\"E6-&gt;E4\" style=\"stroke: #A80036; stroke-width: 1.0;\"/><polygon fill=\"none\" points=\"320,164.94,313,184.94,306,164.94,320,164.94\" style=\"stroke: #A80036; stroke-width: 1.0;\"/></a><!--MD5=[e2704711518d8f9ab39389c69f29cc37]\n",
       "@startuml\r\n",
       " \r\n",
       "package \"MassRollup\" as E1  [[psysml:93cce498-741b-46da-9a76-47f8a90b0e87 ]]  {\r\n",
       "comp def \"MassedThing\" as E2  << (B,green) >> [[psysml:2bfc4bf5-5785-4629-99c8-bf06d3584a79 ]] {\r\n",
       "mass\r\n",
       "totalMass\r\n",
       "}\r\n",
       "comp usage \"simpleThing: MassedThing\" as E3  << (P,limegreen) part>> [[psysml:d9d69a25-c21e-4c46-a572-d7b139b6ee26 ]] {\r\n",
       "totalMass=mass; \\n//:>>MassedThing::totalMass// \r\n",
       "}\r\n",
       "comp usage \"compositeThing: MassedThing\" as E4  << (P,limegreen) part>> [[psysml:343123b1-0808-41d0-8b17-a6ebb6acc0cb ]] {\r\n",
       "totalMass=mass + (subcomponents->collect p:MassedThing (p::totalMass)->reduce '+' ?? 0.0); \\n//:>>MassedThing::totalMass// \r\n",
       "}\r\n",
       "comp usage \"subcomponents: MassedThing\" as E5  << (P,limegreen) part>> [[psysml:09cd1f28-daf0-4d0d-a972-b9bf2a18e992 ]] {\r\n",
       "}\r\n",
       "comp usage \"filteredMassThing\" as E6  << (P,limegreen) part>> [[psysml:b3309114-4b2b-46b3-9f4f-dc695177bad1 ]] {\r\n",
       "minMass\r\n",
       "totalMass=(./subcomponents/mass[p (p > minMass)])->reduce '+' ?? 0.0; \\n//:>>MassedThing::totalMass// \r\n",
       "}\r\n",
       "E3 - -:|> E2 [[psysml:b7a37c04-3b7e-4fde-bcd3-8ff7c74e6a20 ]] \r\n",
       "E4 - -:|> E2 [[psysml:9348166f-8cea-4d7c-a96d-6192465a705e ]] \r\n",
       "E4 *- - \"*\"E5 [[psysml:94e091d2-0286-4211-8181-aedc46ba16d2 ]] \r\n",
       "E5 - -:|> E2 [[psysml:dc08c53a-a0f0-4000-a138-cf80983e3afa ]] \r\n",
       "E6 - -|> E4 [[psysml:b31b3f2c-80ab-44f0-a26e-d801559af683 ]] \r\n",
       "}\r\n",
       "@enduml\r\n",
       "\n",
       "PlantUML version 1.2020.13(Sat Jun 13 12:26:38 UTC 2020)\n",
       "(EPL source distribution)\n",
       "Java Runtime: OpenJDK Runtime Environment\n",
       "JVM: OpenJDK 64-Bit Server VM\n",
       "Default Encoding: UTF-8\n",
       "Language: en\n",
       "Country: null\n",
       "--></g></svg>"
      ]
     },
     "execution_count": 31,
     "metadata": {},
     "output_type": "execute_result"
    }
   ],
   "source": [
    "%viz --style=\"PLANTUML\" --view=\"Tree\" \"MassRollup\""
   ]
  },
  {
   "cell_type": "code",
   "execution_count": 32,
   "id": "41941d2a",
   "metadata": {
    "execution": {
     "iopub.execute_input": "2021-04-20T07:26:58.528311Z",
     "iopub.status.busy": "2021-04-20T07:26:58.526999Z",
     "iopub.status.idle": "2021-04-20T07:26:58.652258Z",
     "shell.execute_reply": "2021-04-20T07:26:58.650071Z"
    }
   },
   "outputs": [
    {
     "data": {
      "image/svg+xml": [
       "<?xml version=\"1.0\" encoding=\"UTF-8\" standalone=\"no\"?><svg xmlns=\"http://www.w3.org/2000/svg\" xmlns:xlink=\"http://www.w3.org/1999/xlink\" contentScriptType=\"application/ecmascript\" contentStyleType=\"text/css\" height=\"303px\" preserveAspectRatio=\"none\" style=\"width:603px;height:303px;background:#000000;\" version=\"1.1\" viewBox=\"0 0 603 303\" width=\"603px\" zoomAndPan=\"magnify\"><defs/><g><rect fill=\"#1A0108\" height=\"1\" style=\"stroke: #1A0108; stroke-width: 1.0;\" width=\"1\" x=\"0\" y=\"0\"/><rect fill=\"#FFFFFF\" height=\"205.5625\" style=\"stroke: #FFFFFF; stroke-width: 1.0;\" width=\"602\" x=\"0\" y=\"0\"/><text fill=\"#000000\" font-family=\"sans-serif\" font-size=\"12\" font-weight=\"bold\" lengthAdjust=\"spacingAndGlyphs\" textLength=\"159\" x=\"5\" y=\"16.1387\">Welcome to PlantUML!</text><text fill=\"#000000\" font-family=\"sans-serif\" font-size=\"12\" lengthAdjust=\"spacingAndGlyphs\" textLength=\"0\" x=\"9\" y=\"30.1074\"/><text fill=\"#000000\" font-family=\"sans-serif\" font-size=\"12\" lengthAdjust=\"spacingAndGlyphs\" textLength=\"293\" x=\"5\" y=\"44.0762\">If you use this software, you accept its license.</text><text fill=\"#000000\" font-family=\"sans-serif\" font-size=\"12\" lengthAdjust=\"spacingAndGlyphs\" textLength=\"107\" x=\"5\" y=\"58.0449\">(details by typing</text><text fill=\"#000000\" font-family=\"monospace\" font-size=\"12\" lengthAdjust=\"spacingAndGlyphs\" textLength=\"49\" x=\"116\" y=\"58.0449\">license</text><text fill=\"#000000\" font-family=\"sans-serif\" font-size=\"12\" lengthAdjust=\"spacingAndGlyphs\" textLength=\"56\" x=\"169\" y=\"58.0449\">keyword)</text><text fill=\"#000000\" font-family=\"sans-serif\" font-size=\"12\" lengthAdjust=\"spacingAndGlyphs\" textLength=\"0\" x=\"9\" y=\"72.0137\"/><text fill=\"#000000\" font-family=\"sans-serif\" font-size=\"12\" lengthAdjust=\"spacingAndGlyphs\" textLength=\"283\" x=\"5\" y=\"85.9824\">You can start with a simple UML Diagram like:</text><text fill=\"#000000\" font-family=\"sans-serif\" font-size=\"12\" lengthAdjust=\"spacingAndGlyphs\" textLength=\"0\" x=\"9\" y=\"99.9512\"/><text fill=\"#000000\" font-family=\"monospace\" font-size=\"12\" lengthAdjust=\"spacingAndGlyphs\" textLength=\"119\" x=\"5\" y=\"113.9199\">Bob-&gt;Alice: Hello</text><text fill=\"#000000\" font-family=\"sans-serif\" font-size=\"12\" lengthAdjust=\"spacingAndGlyphs\" textLength=\"0\" x=\"9\" y=\"127.8887\"/><text fill=\"#000000\" font-family=\"sans-serif\" font-size=\"12\" lengthAdjust=\"spacingAndGlyphs\" textLength=\"14\" x=\"5\" y=\"141.8574\">Or</text><text fill=\"#000000\" font-family=\"sans-serif\" font-size=\"12\" lengthAdjust=\"spacingAndGlyphs\" textLength=\"0\" x=\"9\" y=\"155.8262\"/><text fill=\"#000000\" font-family=\"monospace\" font-size=\"12\" lengthAdjust=\"spacingAndGlyphs\" textLength=\"91\" x=\"5\" y=\"169.7949\">class Example</text><text fill=\"#000000\" font-family=\"sans-serif\" font-size=\"12\" lengthAdjust=\"spacingAndGlyphs\" textLength=\"0\" x=\"9\" y=\"183.7637\"/><text fill=\"#000000\" font-family=\"sans-serif\" font-size=\"12\" lengthAdjust=\"spacingAndGlyphs\" textLength=\"349\" x=\"5\" y=\"197.7324\">You will find more information about PlantUML syntax on</text><text fill=\"#000000\" font-family=\"sans-serif\" font-size=\"12\" lengthAdjust=\"spacingAndGlyphs\" text-decoration=\"underline\" textLength=\"129\" x=\"358\" y=\"197.7324\">https://plantuml.com</text><image height=\"71\" width=\"80\" x=\"516\" xlink:href=\"data:image/png;base64,iVBORw0KGgoAAAANSUhEUgAAAFAAAABHCAMAAACnHDC8AAADAFBMVEX///+BpbvD3u/f7vfPz8+nz+g3ksuZEDkWADr/ujlvsdpTodLCwsOLwOEbg8T//v6pqamZETnLysvT09To5+jqLS4VATj9/f27u7vDw8MTfsK+v7/j4+SOweJprdjL4/KxsbEri8jk8PgXa57c29uUETez1utQoNJ1tNtEmc9cptWBut6ayOW/3O6YEDjY6vUfhcXBwcHs7Ozw9/v83t79uTn7+/vX19ehoaHx8fG2tLXHx8fuVlfrNTYaBjn/vUH5+fmko6WXl5f/+fn95ub+9PT+8PD3qKidmaMxIUrnqDWcFj7n5eX09PTu7u2SkpKfnZ6rq6z0lJTm4tzJrHUfDT339/eFGDn6tjcrEzOvrbBuZ3l4eomSMS7Hz9Smpqasu8SFiYuQETfa2du1m6OOM051J0NWTWL5xse4uLj6zc33r6/4vb7ydHXqLi/72dntTE3tR0ijbn5jW3C+u8NANVQrG0XFubqRVGZza4GQGT2VaS7a0NPJtI6IJj/zszrfqkXXzr/Hw8cgC0LUqltOQ2JsSC5bTGjOpFafSi2+iDGtyt14m7TJhTCPJUSwoIG/qa+ikHiIgpCRHjI9j8KXbnaQH0FLf6FGPlp0cnYyKE2rg49Wj7dFXHmcwtrp6uu+xMjvYWLvW1z97e3sPD3sP0DuUlP709PYzdDPmzqZWWySRVygfHHd1smWkZ+PgnibETqsl260q5fLuppJLC/dpj2HPFLTtHv/ujrTwJy5s6iWjIi0iD3joTTCmU3trjuvZS2zlFvjq0HSyLbYp0qRts10XGxEKC9yPVBQZIOPdlNvMk2NeYNqRlujtcCVrr3j5eY1gK9Qn9GLp7lbeJXRxrCkiZDaozyukoJ+H0B3rc+OYy+iprJkYXdhmr6ee0afs79xq9BikrGKjI3FomEiLFO0ay6nfIm4pZXRjTFuhZSZWm0zcZyJN0KNTk4eebNfdIGGlZ93h5kcED5nOVYyRWbziIk9dJ4kerE5ZYxRUnLG1d7p8PTvY2PtTk/1nZ1ycV/bAAAFx0lEQVR4Xu1Ye1BUVRg/e3dhl4csKyxqPlBJQVETF2icAY13GogkEFqizqRRpoBpTCIapaUOhWNjUdOMSBpqJYZTg4KigFKADzSIVZ4qD5VFluXhLgvbPee+r49R7v2z3+zcc77fOfPb7zvfPd85uwCIhwT4wPisANwPAuIKHnbHH1I+KwAXDA18ShDW58CneCEnXl8JGwmfHylCPSvlZ/FWxh8YIRIxTWkZAEofkTz8sNq7tAqE2gODOB6GYZobVaH20SVZ4oQcdmXV0L7c4b8OFvJHRoYwdVIoyPX3gxtFDA+V8e6mM8pBoCjij4wQiWo/ALzV/kpkifBi13p4waZuGrJEECycixcEVSbYgFwUozg4/qSraOxrP7O8Eogj2HDxyMWmzpk6823+yIjhvR7fLOpDsCuGhwC0WfbkjQq8A0MWC0EgIYzPCYMymM8Iwcvz6K4IWw8skTrgq3iPMIQnxdfKrvyedpyvbSsyBQt6zcH6OxXmjqYxg9PbgXBBveK6aRAXNEl1Ssc+hz7Bgntyohb/ggQlNrrdzfIuoYKSb79067PrRoLmGo25SeghJRn1yMrSbPTptZaoBlwtlWbBHspxiW+mW8+46ereVnMXGxbFQ+mjofiHZTrclJn5E14UEgdrO9tRVph0HDJlYlRsLv4XFA7RBA1kK5ogBb7gtn08AvxWymc2b+YzLHC3nnOCNHvdayUsZpnnwnPqGf+yGKcPKlv92vtJC209zGyRWJmgyd16sSGGT/AmM2rdKZKZHxwCz7KUodLzJOO8th4OBqxdo0c2tfUkNr3QlJkZQWWMBP0uwBHvmQQb3zRVCMnsMO6ATazf3f0kkza0HTaPCdIhpyTknqP61Te1eV2gRpr1FUn4xtxRT72pDHhj09/UnBLjiv72p4d8FEtlLibBd7Qg0xK5+XfS9q2AzxSVHPnNIMBS8BQPw8N1W4glQWj0mtp4+nSHhvKYOM4GL6vH1jGTcDQ3p1979AQPI5agXEDYwuS5awknJ73rHU56RyLAr6ACpO5iMRGvp3XykjImgs4Fgm2/7URc8dhbeD9jdhYVNon0mdFcAjTIXbmC75VrmVHcQ+JDIXbuNmYUYlZoYx6XcWjKTWavYXd1WzU9OEh9wLFfEVFza5PEhVhDAvfLx60cWM3ePMa9hyZG5DNr6DbQiCUcYU0AKGzGyYxlkf+wxnCk+wdwCbA/TkWH7Dbgoq8dcmKNssQQ3F/JmMxlIj/fzo/7s9OIwUMebbYzbh2zLfk7ehBGzIau6OeO+xzGKlBRwCGAXNaCFgYbRoKG+hMTfMff4M6h0LYxpmv/92ym9tIxc4uRzawynCEWGhum7odf9/75vh8zg0bKijX5AMxhMacsK8pBxaJihtnQqr1KG8yFMzq/dutJ2iKwNCbXA7Yamsm2Xn0XtgtowY3Xy8rpYc4NNqon8eM49k+NtzU55GtMleGAkNR6oldDMhH+e9EX0JB+UYKv4WgLZrLCjHV7wnyYlzJZvYV6A6d1w6xEph842UUyTkjGIbzwRA/JIOBJKSt88yglqND1h6TpiQqQV99wmJ7nknQcgIIHqd00EwSzgudigGYQUHE4qFMcGJb22kp7lNop8p6znStvg5S2e1TVRti56w/zj8fZzKLiDa317MqBQFbs+J3dcbSgo+H4D0kLOokJ82/NR8KZbp9eIZgllwKR8Ec1ejIX827POk/06HpYffGd5dkoZJXMqDAVXd1Nbhavlx4OyuAiPcyAF3Ick8faXAuE5WToApkMxykL1PbNRJ91SDkXOyymPFR1UMlw9GjRPKCrPsRSvUnbzbkELj2PSSRkQLiH1AvROTutlpryLHQAoCD+C2BBP4npMwd9zsIgzgaDsK+bctmVw3hetai5t9RS4PEqub4QnCvxteGzOZyQXxjscxkhHisWKMi72+T0p1dxGeGYkG0ez+eeG7In/n/oNOexC9fzIiLvPxVtKp84iza+AAAAAElFTkSuQmCC\" y=\"6\"/><rect fill=\"#000000\" height=\"96.4844\" style=\"stroke: #000000; stroke-width: 1.0;\" width=\"602\" x=\"0\" y=\"205.5625\"/><rect fill=\"#33FF02\" height=\"21.2969\" style=\"stroke: #33FF02; stroke-width: 1.0;\" width=\"170\" x=\"5\" y=\"210.5625\"/><text fill=\"#000000\" font-family=\"sans-serif\" font-size=\"14\" font-weight=\"bold\" lengthAdjust=\"spacingAndGlyphs\" textLength=\"168\" x=\"6\" y=\"225.5625\">[From string (line 2) ]</text><text fill=\"#33FF02\" font-family=\"sans-serif\" font-size=\"14\" font-weight=\"bold\" lengthAdjust=\"spacingAndGlyphs\" textLength=\"0\" x=\"10\" y=\"245.8594\"/><text fill=\"#33FF02\" font-family=\"sans-serif\" font-size=\"14\" font-weight=\"bold\" lengthAdjust=\"spacingAndGlyphs\" textLength=\"79\" x=\"5\" y=\"262.1563\">@startuml</text><text fill=\"#33FF02\" font-family=\"sans-serif\" font-size=\"14\" font-weight=\"bold\" lengthAdjust=\"spacingAndGlyphs\" textLength=\"0\" x=\"10\" y=\"278.4531\"/><text fill=\"#FF0000\" font-family=\"sans-serif\" font-size=\"14\" font-weight=\"bold\" lengthAdjust=\"spacingAndGlyphs\" textLength=\"142\" x=\"10\" y=\"294.75\">Empty description</text><!--MD5=[f59edd8218d337f74d0c332fc6737304]\n",
       "@startuml\r\n",
       " \r\n",
       "@enduml\r\n",
       "\n",
       "PlantUML version 1.2020.13(Sat Jun 13 12:26:38 UTC 2020)\n",
       "(EPL source distribution)\n",
       "Java Runtime: OpenJDK Runtime Environment\n",
       "JVM: OpenJDK 64-Bit Server VM\n",
       "Default Encoding: UTF-8\n",
       "Language: en\n",
       "Country: null\n",
       "--></g></svg>"
      ]
     },
     "execution_count": 32,
     "metadata": {},
     "output_type": "execute_result"
    }
   ],
   "source": [
    "%viz --style=\"PLANTUML\" --view=\"State\" \"MassRollup\""
   ]
  },
  {
   "cell_type": "code",
   "execution_count": 33,
   "id": "a76cf671",
   "metadata": {
    "execution": {
     "iopub.execute_input": "2021-04-20T07:26:58.700611Z",
     "iopub.status.busy": "2021-04-20T07:26:58.700101Z",
     "iopub.status.idle": "2021-04-20T07:26:58.772568Z",
     "shell.execute_reply": "2021-04-20T07:26:58.772103Z"
    }
   },
   "outputs": [
    {
     "data": {
      "image/svg+xml": [
       "<?xml version=\"1.0\" encoding=\"UTF-8\" standalone=\"no\"?><svg xmlns=\"http://www.w3.org/2000/svg\" xmlns:xlink=\"http://www.w3.org/1999/xlink\" contentScriptType=\"application/ecmascript\" contentStyleType=\"text/css\" height=\"303px\" preserveAspectRatio=\"none\" style=\"width:1012px;height:303px;\" version=\"1.1\" viewBox=\"0 0 1012 303\" width=\"1012px\" zoomAndPan=\"magnify\"><defs><filter height=\"300%\" id=\"f1938yocp3qkny\" width=\"300%\" x=\"-1\" y=\"-1\"><feGaussianBlur result=\"blurOut\" stdDeviation=\"2.0\"/><feColorMatrix in=\"blurOut\" result=\"blurOut2\" type=\"matrix\" values=\"0 0 0 0 0 0 0 0 0 0 0 0 0 0 0 0 0 0 .4 0\"/><feOffset dx=\"4.0\" dy=\"4.0\" in=\"blurOut2\" result=\"blurOut3\"/><feBlend in=\"SourceGraphic\" in2=\"blurOut3\" mode=\"normal\"/></filter></defs><g><!--MD5=[fbc87193dbaf4d95561dea2c320d4a47]\n",
       "cluster E1--><a href=\"psysml:93cce498-741b-46da-9a76-47f8a90b0e87\" target=\"_top\" title=\"psysml:93cce498-741b-46da-9a76-47f8a90b0e87\" xlink:actuate=\"onRequest\" xlink:href=\"psysml:93cce498-741b-46da-9a76-47f8a90b0e87\" xlink:show=\"new\" xlink:title=\"psysml:93cce498-741b-46da-9a76-47f8a90b0e87\" xlink:type=\"simple\"><polygon fill=\"#FFFFFF\" filter=\"url(#f1938yocp3qkny)\" points=\"16,6,110,6,117,28.2969,990,28.2969,990,291,16,291,16,6\" style=\"stroke: #000000; stroke-width: 1.5;\"/><line style=\"stroke: #000000; stroke-width: 1.5;\" x1=\"16\" x2=\"117\" y1=\"28.2969\" y2=\"28.2969\"/><text fill=\"#000000\" font-family=\"sans-serif\" font-size=\"14\" font-weight=\"bold\" lengthAdjust=\"spacingAndGlyphs\" textLength=\"88\" x=\"20\" y=\"20.9951\">MassRollup</text></a><!--MD5=[e4f7fae6ed58524ba242bb0b0d3be6b7]\n",
       "cluster E2--><a href=\"psysml:2bfc4bf5-5785-4629-99c8-bf06d3584a79\" target=\"_top\" title=\"psysml:2bfc4bf5-5785-4629-99c8-bf06d3584a79\" xlink:actuate=\"onRequest\" xlink:href=\"psysml:2bfc4bf5-5785-4629-99c8-bf06d3584a79\" xlink:show=\"new\" xlink:title=\"psysml:2bfc4bf5-5785-4629-99c8-bf06d3584a79\" xlink:type=\"simple\"><rect fill=\"#FFFFFF\" filter=\"url(#f1938yocp3qkny)\" height=\"97\" id=\"E2\" style=\"stroke: #A80036; stroke-width: 1.5;\" width=\"260\" x=\"588\" y=\"170\"/><rect fill=\"#FEFECE\" height=\"23.9688\" style=\"stroke: #A80036; stroke-width: 1.5;\" width=\"260\" x=\"588\" y=\"170\"/><text fill=\"#000000\" font-family=\"sans-serif\" font-size=\"12\" lengthAdjust=\"spacingAndGlyphs\" textLength=\"82\" x=\"677\" y=\"186.1387\">MassedThing</text></a><!--MD5=[de5ec2e2e8f62f467e546659f5068c88]\n",
       "cluster E5--><a href=\"psysml:d9d69a25-c21e-4c46-a572-d7b139b6ee26\" target=\"_top\" title=\"psysml:d9d69a25-c21e-4c46-a572-d7b139b6ee26\" xlink:actuate=\"onRequest\" xlink:href=\"psysml:d9d69a25-c21e-4c46-a572-d7b139b6ee26\" xlink:show=\"new\" xlink:title=\"psysml:d9d69a25-c21e-4c46-a572-d7b139b6ee26\" xlink:type=\"simple\"><rect fill=\"#FFFFFF\" filter=\"url(#f1938yocp3qkny)\" height=\"97\" id=\"E5\" rx=\"10\" ry=\"10\" style=\"stroke: #A80036; stroke-width: 1.5;\" width=\"226\" x=\"740\" y=\"49\"/><rect fill=\"#FEFECE\" height=\"23.9688\" rx=\"10\" ry=\"10\" style=\"stroke: #FEFECE; stroke-width: 1.5;\" width=\"226\" x=\"740\" y=\"49\"/><rect fill=\"#FEFECE\" height=\"10\" style=\"stroke: #FEFECE; stroke-width: 1.5;\" width=\"226\" x=\"740\" y=\"62.9688\"/><rect fill=\"none\" height=\"97\" id=\"E5\" rx=\"10\" ry=\"10\" style=\"stroke: #A80036; stroke-width: 1.5;\" width=\"226\" x=\"740\" y=\"49\"/><text fill=\"#000000\" font-family=\"sans-serif\" font-size=\"12\" lengthAdjust=\"spacingAndGlyphs\" textLength=\"164\" x=\"771\" y=\"65.1387\">simpleThing: MassedThing</text><line style=\"stroke: #A80036; stroke-width: 1.0;\" x1=\"740\" x2=\"966\" y1=\"72.9688\" y2=\"72.9688\"/></a><!--MD5=[168fadf3d0c3fd93dd5d6da1b1d7ab76]\n",
       "cluster E7--><a href=\"psysml:343123b1-0808-41d0-8b17-a6ebb6acc0cb\" target=\"_top\" title=\"psysml:343123b1-0808-41d0-8b17-a6ebb6acc0cb\" xlink:actuate=\"onRequest\" xlink:href=\"psysml:343123b1-0808-41d0-8b17-a6ebb6acc0cb\" xlink:show=\"new\" xlink:title=\"psysml:343123b1-0808-41d0-8b17-a6ebb6acc0cb\" xlink:type=\"simple\"><rect fill=\"#FFFFFF\" filter=\"url(#f1938yocp3qkny)\" height=\"97\" id=\"E7\" rx=\"10\" ry=\"10\" style=\"stroke: #A80036; stroke-width: 1.5;\" width=\"392\" x=\"324\" y=\"49\"/><rect fill=\"#FEFECE\" height=\"23.9688\" rx=\"10\" ry=\"10\" style=\"stroke: #FEFECE; stroke-width: 1.5;\" width=\"392\" x=\"324\" y=\"49\"/><rect fill=\"#FEFECE\" height=\"10\" style=\"stroke: #FEFECE; stroke-width: 1.5;\" width=\"392\" x=\"324\" y=\"62.9688\"/><rect fill=\"none\" height=\"97\" id=\"E7\" rx=\"10\" ry=\"10\" style=\"stroke: #A80036; stroke-width: 1.5;\" width=\"392\" x=\"324\" y=\"49\"/><text fill=\"#000000\" font-family=\"sans-serif\" font-size=\"12\" lengthAdjust=\"spacingAndGlyphs\" textLength=\"189\" x=\"425.5\" y=\"65.1387\">compositeThing: MassedThing</text><line style=\"stroke: #A80036; stroke-width: 1.0;\" x1=\"324\" x2=\"716\" y1=\"72.9688\" y2=\"72.9688\"/></a><!--MD5=[a84b4591f868c1fa4a211716a82f2f0d]\n",
       "cluster E10--><a href=\"psysml:b3309114-4b2b-46b3-9f4f-dc695177bad1\" target=\"_top\" title=\"psysml:b3309114-4b2b-46b3-9f4f-dc695177bad1\" xlink:actuate=\"onRequest\" xlink:href=\"psysml:b3309114-4b2b-46b3-9f4f-dc695177bad1\" xlink:show=\"new\" xlink:title=\"psysml:b3309114-4b2b-46b3-9f4f-dc695177bad1\" xlink:type=\"simple\"><rect fill=\"#FFFFFF\" filter=\"url(#f1938yocp3qkny)\" height=\"97\" id=\"E10\" rx=\"10\" ry=\"10\" style=\"stroke: #A80036; stroke-width: 1.5;\" width=\"260\" x=\"40\" y=\"49\"/><rect fill=\"#FEFECE\" height=\"23.9688\" rx=\"10\" ry=\"10\" style=\"stroke: #FEFECE; stroke-width: 1.5;\" width=\"260\" x=\"40\" y=\"49\"/><rect fill=\"#FEFECE\" height=\"10\" style=\"stroke: #FEFECE; stroke-width: 1.5;\" width=\"260\" x=\"40\" y=\"62.9688\"/><rect fill=\"none\" height=\"97\" id=\"E10\" rx=\"10\" ry=\"10\" style=\"stroke: #A80036; stroke-width: 1.5;\" width=\"260\" x=\"40\" y=\"49\"/><text fill=\"#000000\" font-family=\"sans-serif\" font-size=\"12\" lengthAdjust=\"spacingAndGlyphs\" textLength=\"110\" x=\"115\" y=\"65.1387\">filteredMassThing</text><line style=\"stroke: #A80036; stroke-width: 1.0;\" x1=\"40\" x2=\"300\" y1=\"72.9688\" y2=\"72.9688\"/></a><!--MD5=[09b614a08d8cba4a07c9adeb5e0fee81]\n",
       "class E3--><a href=\"psysml:61227fbe-a3c3-436a-919d-ba064597e112\" target=\"_top\" title=\"psysml:61227fbe-a3c3-436a-919d-ba064597e112\" xlink:actuate=\"onRequest\" xlink:href=\"psysml:61227fbe-a3c3-436a-919d-ba064597e112\" xlink:show=\"new\" xlink:title=\"psysml:61227fbe-a3c3-436a-919d-ba064597e112\" xlink:type=\"simple\"><rect fill=\"#FEFECE\" filter=\"url(#f1938yocp3qkny)\" height=\"45.9375\" id=\"E3\" rx=\"10\" ry=\"10\" style=\"stroke: #A80036; stroke-width: 1.5;\" width=\"97\" x=\"735.5\" y=\"205\"/><ellipse cx=\"750.5\" cy=\"223.9688\" fill=\"#FFA500\" rx=\"11\" ry=\"11\" style=\"stroke: #A80036; stroke-width: 1.0;\"/><path d=\"M746.375,225.8906 L746.375,218.0781 L748.8281,218.0781 L748.8281,226.5156 Q748.8281,227.4375 749.2969,227.9688 Q749.7813,228.5 750.6094,228.5 Q751.4531,228.5 751.9219,227.9688 Q752.3906,227.4375 752.3906,226.5156 L752.3906,218.0781 L754.8438,218.0781 L754.8438,225.8906 Q754.8438,228.4219 753.8438,229.5625 Q752.8438,230.7031 750.6094,230.7031 Q748.3906,230.7031 747.375,229.5625 Q746.375,228.4219 746.375,225.8906 Z \"/><text fill=\"#000000\" font-family=\"sans-serif\" font-size=\"12\" font-style=\"italic\" lengthAdjust=\"spacingAndGlyphs\" textLength=\"69\" x=\"762.5\" y=\"221.1387\">«attribute»</text><text fill=\"#000000\" font-family=\"sans-serif\" font-size=\"12\" lengthAdjust=\"spacingAndGlyphs\" textLength=\"33\" x=\"780.5\" y=\"235.1074\">mass</text><line style=\"stroke: #A80036; stroke-width: 1.5;\" x1=\"736.5\" x2=\"831.5\" y1=\"242.9375\" y2=\"242.9375\"/></a><!--MD5=[ebbe1d658d1005bcc118a6aa81145e00]\n",
       "class E4--><a href=\"psysml:bca4197d-355d-4faa-812b-dbfc0b076639\" target=\"_top\" title=\"psysml:bca4197d-355d-4faa-812b-dbfc0b076639\" xlink:actuate=\"onRequest\" xlink:href=\"psysml:bca4197d-355d-4faa-812b-dbfc0b076639\" xlink:show=\"new\" xlink:title=\"psysml:bca4197d-355d-4faa-812b-dbfc0b076639\" xlink:type=\"simple\"><rect fill=\"#FEFECE\" filter=\"url(#f1938yocp3qkny)\" height=\"45.9375\" id=\"E4\" rx=\"10\" ry=\"10\" style=\"stroke: #A80036; stroke-width: 1.5;\" width=\"97\" x=\"603.5\" y=\"205\"/><ellipse cx=\"618.5\" cy=\"223.9688\" fill=\"#FFA500\" rx=\"11\" ry=\"11\" style=\"stroke: #A80036; stroke-width: 1.0;\"/><path d=\"M614.375,225.8906 L614.375,218.0781 L616.8281,218.0781 L616.8281,226.5156 Q616.8281,227.4375 617.2969,227.9688 Q617.7813,228.5 618.6094,228.5 Q619.4531,228.5 619.9219,227.9688 Q620.3906,227.4375 620.3906,226.5156 L620.3906,218.0781 L622.8438,218.0781 L622.8438,225.8906 Q622.8438,228.4219 621.8438,229.5625 Q620.8438,230.7031 618.6094,230.7031 Q616.3906,230.7031 615.375,229.5625 Q614.375,228.4219 614.375,225.8906 Z \"/><text fill=\"#000000\" font-family=\"sans-serif\" font-size=\"12\" font-style=\"italic\" lengthAdjust=\"spacingAndGlyphs\" textLength=\"69\" x=\"630.5\" y=\"221.1387\">«attribute»</text><text fill=\"#000000\" font-family=\"sans-serif\" font-size=\"12\" lengthAdjust=\"spacingAndGlyphs\" textLength=\"61\" x=\"634.5\" y=\"235.1074\">totalMass</text><line style=\"stroke: #A80036; stroke-width: 1.5;\" x1=\"604.5\" x2=\"699.5\" y1=\"242.9375\" y2=\"242.9375\"/></a><!--MD5=[60a26617385b1d2d0262a64233df1f8d]\n",
       "class E6--><a href=\"psysml:5dd4dd8f-7a34-4faa-ae4e-b0f44a463cf1\" target=\"_top\" title=\"psysml:5dd4dd8f-7a34-4faa-ae4e-b0f44a463cf1\" xlink:actuate=\"onRequest\" xlink:href=\"psysml:5dd4dd8f-7a34-4faa-ae4e-b0f44a463cf1\" xlink:show=\"new\" xlink:title=\"psysml:5dd4dd8f-7a34-4faa-ae4e-b0f44a463cf1\" xlink:type=\"simple\"><rect fill=\"#FEFECE\" filter=\"url(#f1938yocp3qkny)\" height=\"45.9375\" id=\"E6\" rx=\"10\" ry=\"10\" style=\"stroke: #A80036; stroke-width: 1.5;\" width=\"97\" x=\"755.5\" y=\"84\"/><ellipse cx=\"770.5\" cy=\"102.9688\" fill=\"#FFA500\" rx=\"11\" ry=\"11\" style=\"stroke: #A80036; stroke-width: 1.0;\"/><path d=\"M766.375,104.8906 L766.375,97.0781 L768.8281,97.0781 L768.8281,105.5156 Q768.8281,106.4375 769.2969,106.9688 Q769.7813,107.5 770.6094,107.5 Q771.4531,107.5 771.9219,106.9688 Q772.3906,106.4375 772.3906,105.5156 L772.3906,97.0781 L774.8438,97.0781 L774.8438,104.8906 Q774.8438,107.4219 773.8438,108.5625 Q772.8438,109.7031 770.6094,109.7031 Q768.3906,109.7031 767.375,108.5625 Q766.375,107.4219 766.375,104.8906 Z \"/><text fill=\"#000000\" font-family=\"sans-serif\" font-size=\"12\" font-style=\"italic\" lengthAdjust=\"spacingAndGlyphs\" textLength=\"69\" x=\"782.5\" y=\"100.1387\">«attribute»</text><text fill=\"#000000\" font-family=\"sans-serif\" font-size=\"12\" lengthAdjust=\"spacingAndGlyphs\" textLength=\"61\" x=\"786.5\" y=\"114.1074\">totalMass</text><line style=\"stroke: #A80036; stroke-width: 1.5;\" x1=\"756.5\" x2=\"851.5\" y1=\"121.9375\" y2=\"121.9375\"/></a><!--MD5=[fd4143e9d270a159db93a4ea2a975926]\n",
       "class E9--><a href=\"psysml:cdf15466-8892-46e6-adfe-254829aa90b9\" target=\"_top\" title=\"psysml:cdf15466-8892-46e6-adfe-254829aa90b9\" xlink:actuate=\"onRequest\" xlink:href=\"psysml:cdf15466-8892-46e6-adfe-254829aa90b9\" xlink:show=\"new\" xlink:title=\"psysml:cdf15466-8892-46e6-adfe-254829aa90b9\" xlink:type=\"simple\"><rect fill=\"#FEFECE\" filter=\"url(#f1938yocp3qkny)\" height=\"45.9375\" id=\"E9\" rx=\"10\" ry=\"10\" style=\"stroke: #A80036; stroke-width: 1.5;\" width=\"97\" x=\"603.5\" y=\"84\"/><ellipse cx=\"618.5\" cy=\"102.9688\" fill=\"#FFA500\" rx=\"11\" ry=\"11\" style=\"stroke: #A80036; stroke-width: 1.0;\"/><path d=\"M614.375,104.8906 L614.375,97.0781 L616.8281,97.0781 L616.8281,105.5156 Q616.8281,106.4375 617.2969,106.9688 Q617.7813,107.5 618.6094,107.5 Q619.4531,107.5 619.9219,106.9688 Q620.3906,106.4375 620.3906,105.5156 L620.3906,97.0781 L622.8438,97.0781 L622.8438,104.8906 Q622.8438,107.4219 621.8438,108.5625 Q620.8438,109.7031 618.6094,109.7031 Q616.3906,109.7031 615.375,108.5625 Q614.375,107.4219 614.375,104.8906 Z \"/><text fill=\"#000000\" font-family=\"sans-serif\" font-size=\"12\" font-style=\"italic\" lengthAdjust=\"spacingAndGlyphs\" textLength=\"69\" x=\"630.5\" y=\"100.1387\">«attribute»</text><text fill=\"#000000\" font-family=\"sans-serif\" font-size=\"12\" lengthAdjust=\"spacingAndGlyphs\" textLength=\"61\" x=\"634.5\" y=\"114.1074\">totalMass</text><line style=\"stroke: #A80036; stroke-width: 1.5;\" x1=\"604.5\" x2=\"699.5\" y1=\"121.9375\" y2=\"121.9375\"/></a><g id=\"E1.E7.E8\"><a href=\"psysml:09cd1f28-daf0-4d0d-a972-b9bf2a18e992\" target=\"_top\" title=\"psysml:09cd1f28-daf0-4d0d-a972-b9bf2a18e992\" xlink:actuate=\"onRequest\" xlink:href=\"psysml:09cd1f28-daf0-4d0d-a972-b9bf2a18e992\" xlink:show=\"new\" xlink:title=\"psysml:09cd1f28-daf0-4d0d-a972-b9bf2a18e992\" xlink:type=\"simple\"><rect fill=\"#FEFECE\" filter=\"url(#f1938yocp3qkny)\" height=\"40\" id=\"E8\" rx=\"10\" ry=\"10\" style=\"stroke: #A80036; stroke-width: 1.5;\" width=\"228\" x=\"340\" y=\"87\"/><ellipse cx=\"357.25\" cy=\"103\" fill=\"#B6DBBB\" rx=\"11\" ry=\"11\" style=\"stroke: #A80036; stroke-width: 1.0;\"/><path d=\"M353.125,104.9219 L353.125,97.1094 L355.5781,97.1094 L355.5781,105.5469 Q355.5781,106.4688 356.0469,107 Q356.5313,107.5313 357.3594,107.5313 Q358.2031,107.5313 358.6719,107 Q359.1406,106.4688 359.1406,105.5469 L359.1406,97.1094 L361.5938,97.1094 L361.5938,104.9219 Q361.5938,107.4531 360.5938,108.5938 Q359.5938,109.7344 357.3594,109.7344 Q355.1406,109.7344 354.125,108.5938 Q353.125,107.4531 353.125,104.9219 Z \"/><text fill=\"#000000\" font-family=\"sans-serif\" font-size=\"12\" lengthAdjust=\"spacingAndGlyphs\" textLength=\"191\" x=\"371.75\" y=\"107.1543\">subcomponents: MassedThing</text></a></g><!--MD5=[1dd1bfd58a279cf63c5f349dbc8fc6a1]\n",
       "class E11--><a href=\"psysml:a48dd455-5237-4be3-af61-27e5094ede20\" target=\"_top\" title=\"psysml:a48dd455-5237-4be3-af61-27e5094ede20\" xlink:actuate=\"onRequest\" xlink:href=\"psysml:a48dd455-5237-4be3-af61-27e5094ede20\" xlink:show=\"new\" xlink:title=\"psysml:a48dd455-5237-4be3-af61-27e5094ede20\" xlink:type=\"simple\"><rect fill=\"#FEFECE\" filter=\"url(#f1938yocp3qkny)\" height=\"45.9375\" id=\"E11\" rx=\"10\" ry=\"10\" style=\"stroke: #A80036; stroke-width: 1.5;\" width=\"97\" x=\"187.5\" y=\"84\"/><ellipse cx=\"202.5\" cy=\"102.9688\" fill=\"#FFA500\" rx=\"11\" ry=\"11\" style=\"stroke: #A80036; stroke-width: 1.0;\"/><path d=\"M198.375,104.8906 L198.375,97.0781 L200.8281,97.0781 L200.8281,105.5156 Q200.8281,106.4375 201.2969,106.9688 Q201.7813,107.5 202.6094,107.5 Q203.4531,107.5 203.9219,106.9688 Q204.3906,106.4375 204.3906,105.5156 L204.3906,97.0781 L206.8438,97.0781 L206.8438,104.8906 Q206.8438,107.4219 205.8438,108.5625 Q204.8438,109.7031 202.6094,109.7031 Q200.3906,109.7031 199.375,108.5625 Q198.375,107.4219 198.375,104.8906 Z \"/><text fill=\"#000000\" font-family=\"sans-serif\" font-size=\"12\" font-style=\"italic\" lengthAdjust=\"spacingAndGlyphs\" textLength=\"69\" x=\"214.5\" y=\"100.1387\">«attribute»</text><text fill=\"#000000\" font-family=\"sans-serif\" font-size=\"12\" lengthAdjust=\"spacingAndGlyphs\" textLength=\"54\" x=\"222\" y=\"114.1074\">minMass</text><line style=\"stroke: #A80036; stroke-width: 1.5;\" x1=\"188.5\" x2=\"283.5\" y1=\"121.9375\" y2=\"121.9375\"/></a><!--MD5=[49a0ec8f00dab7302a31f22d0f0fe584]\n",
       "class E12--><a href=\"psysml:30a4b720-38dc-4ed2-81db-b244fb944fc9\" target=\"_top\" title=\"psysml:30a4b720-38dc-4ed2-81db-b244fb944fc9\" xlink:actuate=\"onRequest\" xlink:href=\"psysml:30a4b720-38dc-4ed2-81db-b244fb944fc9\" xlink:show=\"new\" xlink:title=\"psysml:30a4b720-38dc-4ed2-81db-b244fb944fc9\" xlink:type=\"simple\"><rect fill=\"#FEFECE\" filter=\"url(#f1938yocp3qkny)\" height=\"45.9375\" id=\"E12\" rx=\"10\" ry=\"10\" style=\"stroke: #A80036; stroke-width: 1.5;\" width=\"97\" x=\"55.5\" y=\"84\"/><ellipse cx=\"70.5\" cy=\"102.9688\" fill=\"#FFA500\" rx=\"11\" ry=\"11\" style=\"stroke: #A80036; stroke-width: 1.0;\"/><path d=\"M66.375,104.8906 L66.375,97.0781 L68.8281,97.0781 L68.8281,105.5156 Q68.8281,106.4375 69.2969,106.9688 Q69.7813,107.5 70.6094,107.5 Q71.4531,107.5 71.9219,106.9688 Q72.3906,106.4375 72.3906,105.5156 L72.3906,97.0781 L74.8438,97.0781 L74.8438,104.8906 Q74.8438,107.4219 73.8438,108.5625 Q72.8438,109.7031 70.6094,109.7031 Q68.3906,109.7031 67.375,108.5625 Q66.375,107.4219 66.375,104.8906 Z \"/><text fill=\"#000000\" font-family=\"sans-serif\" font-size=\"12\" font-style=\"italic\" lengthAdjust=\"spacingAndGlyphs\" textLength=\"69\" x=\"82.5\" y=\"100.1387\">«attribute»</text><text fill=\"#000000\" font-family=\"sans-serif\" font-size=\"12\" lengthAdjust=\"spacingAndGlyphs\" textLength=\"61\" x=\"86.5\" y=\"114.1074\">totalMass</text><line style=\"stroke: #A80036; stroke-width: 1.5;\" x1=\"56.5\" x2=\"151.5\" y1=\"121.9375\" y2=\"121.9375\"/></a><!--MD5=[f667431f98296947986a1a7595a31603]\n",
       "link E6 to E4--><a href=\"psysml:45db29a4-a6b7-4500-b8a0-ae6511957b42\" target=\"_top\" title=\"psysml:45db29a4-a6b7-4500-b8a0-ae6511957b42\" xlink:actuate=\"onRequest\" xlink:href=\"psysml:45db29a4-a6b7-4500-b8a0-ae6511957b42\" xlink:show=\"new\" xlink:title=\"psysml:45db29a4-a6b7-4500-b8a0-ae6511957b42\" xlink:type=\"simple\"><path d=\"M764.69,130.21 C749.59,139.37 732.52,150.52 718,162 C707.16,170.58 696.15,180.72 686.32,190.42 \" fill=\"none\" id=\"E6-&gt;E4\" style=\"stroke: #A80036; stroke-width: 1.0;\"/><polygon fill=\"#FFFFFF\" points=\"672.02,204.99,680.3286,186.5247,690.3226,196.3288,672.02,204.99\" style=\"stroke: #A80036; stroke-width: 1.0;\"/><line style=\"stroke: #A80036; stroke-width: 2.0;\" x1=\"682.9897\" x2=\"692.9837\" y1=\"183.812\" y2=\"193.6161\"/></a><!--MD5=[c2be97adba6ddfe1c8f349fab141c927]\n",
       "link E9 to E4--><a href=\"psysml:37d702c0-130d-4d04-819a-f2439f71afff\" target=\"_top\" title=\"psysml:37d702c0-130d-4d04-819a-f2439f71afff\" xlink:actuate=\"onRequest\" xlink:href=\"psysml:37d702c0-130d-4d04-819a-f2439f71afff\" xlink:show=\"new\" xlink:title=\"psysml:37d702c0-130d-4d04-819a-f2439f71afff\" xlink:type=\"simple\"><path d=\"M652,130.1 C652,145.37 652,166.16 652,184.57 \" fill=\"none\" id=\"E9-&gt;E4\" style=\"stroke: #A80036; stroke-width: 1.0;\"/><polygon fill=\"#FFFFFF\" points=\"652,204.61,645,185.61,659,185.61,652,204.61\" style=\"stroke: #A80036; stroke-width: 1.0;\"/><line style=\"stroke: #A80036; stroke-width: 2.0;\" x1=\"645\" x2=\"659\" y1=\"181.81\" y2=\"181.81\"/></a><!--MD5=[8eb720c440db06832f98fefdd34bbf11]\n",
       "link E12 to E4--><a href=\"psysml:c9530ed5-65d1-46ac-ab61-a00231b23eba\" target=\"_top\" title=\"psysml:c9530ed5-65d1-46ac-ab61-a00231b23eba\" xlink:actuate=\"onRequest\" xlink:href=\"psysml:c9530ed5-65d1-46ac-ab61-a00231b23eba\" xlink:show=\"new\" xlink:title=\"psysml:c9530ed5-65d1-46ac-ab61-a00231b23eba\" xlink:type=\"simple\"><path d=\"M129.68,130.03 C141.28,138.85 155.6,148.26 170,154 C309.56,209.66 487.34,223.23 583.23,226.32 \" fill=\"none\" id=\"E12-&gt;E4\" style=\"stroke: #A80036; stroke-width: 1.0;\"/><polygon fill=\"#FFFFFF\" points=\"603.25,226.85,584.0717,233.3456,584.4416,219.3505,603.25,226.85\" style=\"stroke: #A80036; stroke-width: 1.0;\"/><line style=\"stroke: #A80036; stroke-width: 2.0;\" x1=\"580.273\" x2=\"580.6429\" y1=\"233.2452\" y2=\"219.2501\"/></a><!--MD5=[a7f6fe4a9c0a3017d3adcce33e374bdf]\n",
       "@startuml\r\n",
       "skinparam ranksep 10\r\n",
       "skinparam rectangle {\r\n",
       " backgroundColor<<block>> LightGreen\r\n",
       "}\r\n",
       " \r\n",
       "package \"MassRollup\" as E1  [[psysml:93cce498-741b-46da-9a76-47f8a90b0e87 ]]  {\r\n",
       "rec def \"MassedThing\" as E2  << (B,green) >> [[psysml:2bfc4bf5-5785-4629-99c8-bf06d3584a79 ]] {\r\n",
       "comp usage \"mass\" as E3  <<(U,orange)attribute>> [[psysml:61227fbe-a3c3-436a-919d-ba064597e112 ]] {\r\n",
       "}\r\n",
       "comp usage \"totalMass\" as E4  <<(U,orange)attribute>> [[psysml:bca4197d-355d-4faa-812b-dbfc0b076639 ]] {\r\n",
       "}\r\n",
       "}\r\n",
       "rec usage \"simpleThing: MassedThing\" as E5  [[psysml:d9d69a25-c21e-4c46-a572-d7b139b6ee26 ]] {\r\n",
       "comp usage \"totalMass\" as E6  <<(U,orange)attribute>> [[psysml:5dd4dd8f-7a34-4faa-ae4e-b0f44a463cf1 ]] {\r\n",
       "}\r\n",
       "}\r\n",
       "rec usage \"compositeThing: MassedThing\" as E7  [[psysml:343123b1-0808-41d0-8b17-a6ebb6acc0cb ]] {\r\n",
       "rec usage \"subcomponents: MassedThing\" as E8  [[psysml:09cd1f28-daf0-4d0d-a972-b9bf2a18e992 ]] {\r\n",
       "}\r\n",
       "comp usage \"totalMass\" as E9  <<(U,orange)attribute>> [[psysml:cdf15466-8892-46e6-adfe-254829aa90b9 ]] {\r\n",
       "}\r\n",
       "}\r\n",
       "rec usage \"filteredMassThing\" as E10  [[psysml:b3309114-4b2b-46b3-9f4f-dc695177bad1 ]] {\r\n",
       "comp usage \"minMass\" as E11  <<(U,orange)attribute>> [[psysml:a48dd455-5237-4be3-af61-27e5094ede20 ]] {\r\n",
       "}\r\n",
       "comp usage \"totalMass\" as E12  <<(U,orange)attribute>> [[psysml:30a4b720-38dc-4ed2-81db-b244fb944fc9 ]] {\r\n",
       "}\r\n",
       "}\r\n",
       "E6 - -||> E4 [[psysml:45db29a4-a6b7-4500-b8a0-ae6511957b42 ]] \r\n",
       "E9 - -||> E4 [[psysml:37d702c0-130d-4d04-819a-f2439f71afff ]] \r\n",
       "E12 - -||> E4 [[psysml:c9530ed5-65d1-46ac-ab61-a00231b23eba ]] \r\n",
       "}\r\n",
       "@enduml\r\n",
       "\n",
       "PlantUML version 1.2020.13(Sat Jun 13 12:26:38 UTC 2020)\n",
       "(EPL source distribution)\n",
       "Java Runtime: OpenJDK Runtime Environment\n",
       "JVM: OpenJDK 64-Bit Server VM\n",
       "Default Encoding: UTF-8\n",
       "Language: en\n",
       "Country: null\n",
       "--></g></svg>"
      ]
     },
     "execution_count": 33,
     "metadata": {},
     "output_type": "execute_result"
    }
   ],
   "source": [
    "%viz --style=\"PLANTUML\" --view=\"Interconnection\" \"MassRollup\""
   ]
  },
  {
   "cell_type": "code",
   "execution_count": 34,
   "id": "db7c04b2",
   "metadata": {
    "execution": {
     "iopub.execute_input": "2021-04-20T07:26:58.823681Z",
     "iopub.status.busy": "2021-04-20T07:26:58.822637Z",
     "iopub.status.idle": "2021-04-20T07:26:58.829371Z",
     "shell.execute_reply": "2021-04-20T07:26:58.828675Z"
    }
   },
   "outputs": [
    {
     "data": {
      "image/svg+xml": [
       "<?xml version=\"1.0\" encoding=\"UTF-8\" standalone=\"no\"?><svg xmlns=\"http://www.w3.org/2000/svg\" xmlns:xlink=\"http://www.w3.org/1999/xlink\" contentScriptType=\"application/ecmascript\" contentStyleType=\"text/css\" height=\"12px\" preserveAspectRatio=\"none\" style=\"width:12px;height:12px;\" version=\"1.1\" viewBox=\"0 0 12 12\" width=\"12px\" zoomAndPan=\"magnify\"><defs/><g><!--MD5=[6a4cb978cab31700e1ce5529f947a75d]\n",
       "@startuml\r\n",
       "skinparam ranksep 8\r\n",
       " \r\n",
       "@enduml\r\n",
       "\n",
       "PlantUML version 1.2020.13(Sat Jun 13 12:26:38 UTC 2020)\n",
       "(EPL source distribution)\n",
       "Java Runtime: OpenJDK Runtime Environment\n",
       "JVM: OpenJDK 64-Bit Server VM\n",
       "Default Encoding: UTF-8\n",
       "Language: en\n",
       "Country: null\n",
       "--></g></svg>"
      ]
     },
     "execution_count": 34,
     "metadata": {},
     "output_type": "execute_result"
    }
   ],
   "source": [
    "%viz --style=\"PLANTUML\" --view=\"Action\" \"MassRollup\""
   ]
  },
  {
   "cell_type": "code",
   "execution_count": 35,
   "id": "b3b92032",
   "metadata": {
    "execution": {
     "iopub.execute_input": "2021-04-20T07:26:58.881026Z",
     "iopub.status.busy": "2021-04-20T07:26:58.880161Z",
     "iopub.status.idle": "2021-04-20T07:26:59.021035Z",
     "shell.execute_reply": "2021-04-20T07:26:59.018894Z"
    }
   },
   "outputs": [
    {
     "data": {
      "image/svg+xml": [
       "<?xml version=\"1.0\" encoding=\"UTF-8\" standalone=\"no\"?><svg xmlns=\"http://www.w3.org/2000/svg\" xmlns:xlink=\"http://www.w3.org/1999/xlink\" contentScriptType=\"application/ecmascript\" contentStyleType=\"text/css\" height=\"543px\" preserveAspectRatio=\"none\" style=\"width:632px;height:543px;\" version=\"1.1\" viewBox=\"0 0 632 543\" width=\"632px\" zoomAndPan=\"magnify\"><defs><filter height=\"300%\" id=\"f1aop6ujl0d8x3\" width=\"300%\" x=\"-1\" y=\"-1\"><feGaussianBlur result=\"blurOut\" stdDeviation=\"2.0\"/><feColorMatrix in=\"blurOut\" result=\"blurOut2\" type=\"matrix\" values=\"0 0 0 0 0 0 0 0 0 0 0 0 0 0 0 0 0 0 .4 0\"/><feOffset dx=\"4.0\" dy=\"4.0\" in=\"blurOut2\" result=\"blurOut3\"/><feBlend in=\"SourceGraphic\" in2=\"blurOut3\" mode=\"normal\"/></filter></defs><g><!--MD5=[fbc87193dbaf4d95561dea2c320d4a47]\n",
       "cluster E1--><a href=\"psysml:93cce498-741b-46da-9a76-47f8a90b0e87\" target=\"_top\" title=\"psysml:93cce498-741b-46da-9a76-47f8a90b0e87\" xlink:actuate=\"onRequest\" xlink:href=\"psysml:93cce498-741b-46da-9a76-47f8a90b0e87\" xlink:show=\"new\" xlink:title=\"psysml:93cce498-741b-46da-9a76-47f8a90b0e87\" xlink:type=\"simple\"><polygon fill=\"#FFFFFF\" filter=\"url(#f1aop6ujl0d8x3)\" points=\"16,6,110,6,117,28.2969,610,28.2969,610,531,16,531,16,6\" style=\"stroke: #000000; stroke-width: 1.5;\"/><line style=\"stroke: #000000; stroke-width: 1.5;\" x1=\"16\" x2=\"117\" y1=\"28.2969\" y2=\"28.2969\"/><text fill=\"#000000\" font-family=\"sans-serif\" font-size=\"14\" font-weight=\"bold\" lengthAdjust=\"spacingAndGlyphs\" textLength=\"88\" x=\"20\" y=\"20.9951\">MassRollup</text></a><!--MD5=[b4997ac47864f28c2f74865a473b2911]\n",
       "class E2--><a href=\"psysml:2bfc4bf5-5785-4629-99c8-bf06d3584a79\" target=\"_top\" title=\"psysml:2bfc4bf5-5785-4629-99c8-bf06d3584a79\" xlink:actuate=\"onRequest\" xlink:href=\"psysml:2bfc4bf5-5785-4629-99c8-bf06d3584a79\" xlink:show=\"new\" xlink:title=\"psysml:2bfc4bf5-5785-4629-99c8-bf06d3584a79\" xlink:type=\"simple\"><rect fill=\"#FEFECE\" filter=\"url(#f1aop6ujl0d8x3)\" height=\"65.6094\" id=\"E2\" style=\"stroke: #A80036; stroke-width: 1.5;\" width=\"114\" x=\"194\" y=\"449\"/><ellipse cx=\"209\" cy=\"465\" fill=\"#008000\" rx=\"11\" ry=\"11\" style=\"stroke: #A80036; stroke-width: 1.0;\"/><path d=\"M207.9063,465.375 L207.9063,469.0469 L209.5313,469.0469 Q210.7031,469.0469 211.1719,468.6563 Q211.6406,468.25 211.6406,467.25 Q211.6406,466.25 211.1406,465.8125 Q210.6563,465.375 209.5313,465.375 L207.9063,465.375 Z M207.9063,460.5469 L207.9063,463.4219 L209.5313,463.4219 Q210.4531,463.4219 210.8438,463.0938 Q211.25,462.75 211.25,462 Q211.25,461.2344 210.8438,460.8906 Q210.4375,460.5469 209.5313,460.5469 L207.9063,460.5469 Z M205.5313,458.5938 L209.5313,458.5938 Q211.5938,458.5938 212.6406,459.375 Q213.6875,460.1563 213.6875,461.7188 Q213.6875,462.9219 213.0625,463.5938 Q212.4531,464.2656 211.2656,464.375 Q212.6875,464.5156 213.4063,465.3281 Q214.125,466.1406 214.125,467.5938 Q214.125,469.3906 213.0469,470.2031 Q211.9688,471 209.5313,471 L205.5313,471 L205.5313,458.5938 Z \"/><text fill=\"#000000\" font-family=\"sans-serif\" font-size=\"12\" lengthAdjust=\"spacingAndGlyphs\" textLength=\"82\" x=\"223\" y=\"469.1543\">MassedThing</text><line style=\"stroke: #A80036; stroke-width: 1.5;\" x1=\"195\" x2=\"307\" y1=\"481\" y2=\"481\"/><text fill=\"#000000\" font-family=\"sans-serif\" font-size=\"11\" lengthAdjust=\"spacingAndGlyphs\" textLength=\"32\" x=\"200\" y=\"495.2104\">mass</text><text fill=\"#000000\" font-family=\"sans-serif\" font-size=\"11\" lengthAdjust=\"spacingAndGlyphs\" textLength=\"55\" x=\"200\" y=\"508.0151\">totalMass</text></a><!--MD5=[09b614a08d8cba4a07c9adeb5e0fee81]\n",
       "class E3--><a href=\"psysml:d9d69a25-c21e-4c46-a572-d7b139b6ee26\" target=\"_top\" title=\"psysml:d9d69a25-c21e-4c46-a572-d7b139b6ee26\" xlink:actuate=\"onRequest\" xlink:href=\"psysml:d9d69a25-c21e-4c46-a572-d7b139b6ee26\" xlink:show=\"new\" xlink:title=\"psysml:d9d69a25-c21e-4c46-a572-d7b139b6ee26\" xlink:type=\"simple\"><rect fill=\"#FEFECE\" filter=\"url(#f1aop6ujl0d8x3)\" height=\"71.5469\" id=\"E3\" rx=\"10\" ry=\"10\" style=\"stroke: #A80036; stroke-width: 1.5;\" width=\"196\" x=\"398\" y=\"317\"/><ellipse cx=\"413\" cy=\"335.9688\" fill=\"#32CD32\" rx=\"11\" ry=\"11\" style=\"stroke: #A80036; stroke-width: 1.0;\"/><path d=\"M412.7969,331.6406 L412.7969,335.2656 L413.7969,335.2656 Q415,335.2656 415.4844,334.8594 Q415.9688,334.4531 415.9688,333.4531 Q415.9688,332.4531 415.4844,332.0469 Q415,331.6406 413.7969,331.6406 L412.7969,331.6406 Z M410.3438,329.5781 L413.7031,329.5781 Q416.2656,329.5781 417.3906,330.5 Q418.5156,331.4063 418.5156,333.4531 Q418.5156,335.5 417.3906,336.4219 Q416.2656,337.3281 413.7031,337.3281 L412.7969,337.3281 L412.7969,341.9688 L410.3438,341.9688 L410.3438,329.5781 Z \"/><text fill=\"#000000\" font-family=\"sans-serif\" font-size=\"12\" font-style=\"italic\" lengthAdjust=\"spacingAndGlyphs\" textLength=\"40\" x=\"489\" y=\"333.1387\">«part»</text><text fill=\"#000000\" font-family=\"sans-serif\" font-size=\"12\" lengthAdjust=\"spacingAndGlyphs\" textLength=\"164\" x=\"427\" y=\"347.1074\">simpleThing: MassedThing</text><line style=\"stroke: #A80036; stroke-width: 1.5;\" x1=\"399\" x2=\"593\" y1=\"354.9375\" y2=\"354.9375\"/><text fill=\"#000000\" font-family=\"sans-serif\" font-size=\"11\" lengthAdjust=\"spacingAndGlyphs\" textLength=\"100\" x=\"404\" y=\"369.1479\">totalMass=mass;</text><text fill=\"#000000\" font-family=\"sans-serif\" font-size=\"11\" font-style=\"italic\" lengthAdjust=\"spacingAndGlyphs\" textLength=\"160\" x=\"404\" y=\"381.9526\">:&gt;&gt;MassedThing::totalMass</text></a><!--MD5=[ebbe1d658d1005bcc118a6aa81145e00]\n",
       "class E4--><a href=\"psysml:343123b1-0808-41d0-8b17-a6ebb6acc0cb\" target=\"_top\" title=\"psysml:343123b1-0808-41d0-8b17-a6ebb6acc0cb\" xlink:actuate=\"onRequest\" xlink:href=\"psysml:343123b1-0808-41d0-8b17-a6ebb6acc0cb\" xlink:show=\"new\" xlink:title=\"psysml:343123b1-0808-41d0-8b17-a6ebb6acc0cb\" xlink:type=\"simple\"><rect fill=\"#FEFECE\" filter=\"url(#f1aop6ujl0d8x3)\" height=\"71.5469\" id=\"E4\" rx=\"10\" ry=\"10\" style=\"stroke: #A80036; stroke-width: 1.5;\" width=\"562\" x=\"32\" y=\"185\"/><ellipse cx=\"214.25\" cy=\"203.9688\" fill=\"#32CD32\" rx=\"11\" ry=\"11\" style=\"stroke: #A80036; stroke-width: 1.0;\"/><path d=\"M214.0469,199.6406 L214.0469,203.2656 L215.0469,203.2656 Q216.25,203.2656 216.7344,202.8594 Q217.2188,202.4531 217.2188,201.4531 Q217.2188,200.4531 216.7344,200.0469 Q216.25,199.6406 215.0469,199.6406 L214.0469,199.6406 Z M211.5938,197.5781 L214.9531,197.5781 Q217.5156,197.5781 218.6406,198.5 Q219.7656,199.4063 219.7656,201.4531 Q219.7656,203.5 218.6406,204.4219 Q217.5156,205.3281 214.9531,205.3281 L214.0469,205.3281 L214.0469,209.9688 L211.5938,209.9688 L211.5938,197.5781 Z \"/><text fill=\"#000000\" font-family=\"sans-serif\" font-size=\"12\" font-style=\"italic\" lengthAdjust=\"spacingAndGlyphs\" textLength=\"40\" x=\"309.25\" y=\"201.1387\">«part»</text><text fill=\"#000000\" font-family=\"sans-serif\" font-size=\"12\" lengthAdjust=\"spacingAndGlyphs\" textLength=\"189\" x=\"234.75\" y=\"215.1074\">compositeThing: MassedThing</text><line style=\"stroke: #A80036; stroke-width: 1.5;\" x1=\"33\" x2=\"593\" y1=\"222.9375\" y2=\"222.9375\"/><text fill=\"#000000\" font-family=\"sans-serif\" font-size=\"11\" lengthAdjust=\"spacingAndGlyphs\" textLength=\"546\" x=\"38\" y=\"237.1479\">totalMass=mass + (subcomponents-&gt;collect p:MassedThing (p::totalMass)-&gt;reduce '+' ?? 0.0);</text><text fill=\"#000000\" font-family=\"sans-serif\" font-size=\"11\" font-style=\"italic\" lengthAdjust=\"spacingAndGlyphs\" textLength=\"160\" x=\"38\" y=\"249.9526\">:&gt;&gt;MassedThing::totalMass</text></a><!--MD5=[270fce915f116d4de14055a7c1d9a0f3]\n",
       "class E5--><a href=\"psysml:09cd1f28-daf0-4d0d-a972-b9bf2a18e992\" target=\"_top\" title=\"psysml:09cd1f28-daf0-4d0d-a972-b9bf2a18e992\" xlink:actuate=\"onRequest\" xlink:href=\"psysml:09cd1f28-daf0-4d0d-a972-b9bf2a18e992\" xlink:show=\"new\" xlink:title=\"psysml:09cd1f28-daf0-4d0d-a972-b9bf2a18e992\" xlink:type=\"simple\"><rect fill=\"#FEFECE\" filter=\"url(#f1aop6ujl0d8x3)\" height=\"45.9375\" id=\"E5\" rx=\"10\" ry=\"10\" style=\"stroke: #A80036; stroke-width: 1.5;\" width=\"223\" x=\"139.5\" y=\"330\"/><ellipse cx=\"154.5\" cy=\"348.9688\" fill=\"#32CD32\" rx=\"11\" ry=\"11\" style=\"stroke: #A80036; stroke-width: 1.0;\"/><path d=\"M154.2969,344.6406 L154.2969,348.2656 L155.2969,348.2656 Q156.5,348.2656 156.9844,347.8594 Q157.4688,347.4531 157.4688,346.4531 Q157.4688,345.4531 156.9844,345.0469 Q156.5,344.6406 155.2969,344.6406 L154.2969,344.6406 Z M151.8438,342.5781 L155.2031,342.5781 Q157.7656,342.5781 158.8906,343.5 Q160.0156,344.4063 160.0156,346.4531 Q160.0156,348.5 158.8906,349.4219 Q157.7656,350.3281 155.2031,350.3281 L154.2969,350.3281 L154.2969,354.9688 L151.8438,354.9688 L151.8438,342.5781 Z \"/><text fill=\"#000000\" font-family=\"sans-serif\" font-size=\"12\" font-style=\"italic\" lengthAdjust=\"spacingAndGlyphs\" textLength=\"40\" x=\"244\" y=\"346.1387\">«part»</text><text fill=\"#000000\" font-family=\"sans-serif\" font-size=\"12\" lengthAdjust=\"spacingAndGlyphs\" textLength=\"191\" x=\"168.5\" y=\"360.1074\">subcomponents: MassedThing</text><line style=\"stroke: #A80036; stroke-width: 1.5;\" x1=\"140.5\" x2=\"361.5\" y1=\"367.9375\" y2=\"367.9375\"/></a><!--MD5=[60a26617385b1d2d0262a64233df1f8d]\n",
       "class E6--><a href=\"psysml:b3309114-4b2b-46b3-9f4f-dc695177bad1\" target=\"_top\" title=\"psysml:b3309114-4b2b-46b3-9f4f-dc695177bad1\" xlink:actuate=\"onRequest\" xlink:href=\"psysml:b3309114-4b2b-46b3-9f4f-dc695177bad1\" xlink:show=\"new\" xlink:title=\"psysml:b3309114-4b2b-46b3-9f4f-dc695177bad1\" xlink:type=\"simple\"><rect fill=\"#FEFECE\" filter=\"url(#f1aop6ujl0d8x3)\" height=\"84.3516\" id=\"E6\" rx=\"10\" ry=\"10\" style=\"stroke: #A80036; stroke-width: 1.5;\" width=\"438\" x=\"94\" y=\"41\"/><ellipse cx=\"253.75\" cy=\"59.9688\" fill=\"#32CD32\" rx=\"11\" ry=\"11\" style=\"stroke: #A80036; stroke-width: 1.0;\"/><path d=\"M253.5469,55.6406 L253.5469,59.2656 L254.5469,59.2656 Q255.75,59.2656 256.2344,58.8594 Q256.7188,58.4531 256.7188,57.4531 Q256.7188,56.4531 256.2344,56.0469 Q255.75,55.6406 254.5469,55.6406 L253.5469,55.6406 Z M251.0938,53.5781 L254.4531,53.5781 Q257.0156,53.5781 258.1406,54.5 Q259.2656,55.4063 259.2656,57.4531 Q259.2656,59.5 258.1406,60.4219 Q257.0156,61.3281 254.4531,61.3281 L253.5469,61.3281 L253.5469,65.9688 L251.0938,65.9688 L251.0938,53.5781 Z \"/><text fill=\"#000000\" font-family=\"sans-serif\" font-size=\"12\" font-style=\"italic\" lengthAdjust=\"spacingAndGlyphs\" textLength=\"40\" x=\"309.25\" y=\"57.1387\">«part»</text><text fill=\"#000000\" font-family=\"sans-serif\" font-size=\"12\" lengthAdjust=\"spacingAndGlyphs\" textLength=\"110\" x=\"274.25\" y=\"71.1074\">filteredMassThing</text><line style=\"stroke: #A80036; stroke-width: 1.5;\" x1=\"95\" x2=\"531\" y1=\"78.9375\" y2=\"78.9375\"/><text fill=\"#000000\" font-family=\"sans-serif\" font-size=\"11\" lengthAdjust=\"spacingAndGlyphs\" textLength=\"51\" x=\"100\" y=\"93.1479\">minMass</text><text fill=\"#000000\" font-family=\"sans-serif\" font-size=\"11\" lengthAdjust=\"spacingAndGlyphs\" textLength=\"422\" x=\"100\" y=\"105.9526\">totalMass=(./subcomponents/mass[p (p &gt; minMass)])-&gt;reduce '+' ?? 0.0;</text><text fill=\"#000000\" font-family=\"sans-serif\" font-size=\"11\" font-style=\"italic\" lengthAdjust=\"spacingAndGlyphs\" textLength=\"160\" x=\"100\" y=\"118.7573\">:&gt;&gt;MassedThing::totalMass</text></a><!--MD5=[05d275557350bfb9b23a4ef7222b4c39]\n",
       "link E3 to E2--><a href=\"psysml:b7a37c04-3b7e-4fde-bcd3-8ff7c74e6a20\" target=\"_top\" title=\"psysml:b7a37c04-3b7e-4fde-bcd3-8ff7c74e6a20\" xlink:actuate=\"onRequest\" xlink:href=\"psysml:b7a37c04-3b7e-4fde-bcd3-8ff7c74e6a20\" xlink:show=\"new\" xlink:title=\"psysml:b7a37c04-3b7e-4fde-bcd3-8ff7c74e6a20\" xlink:type=\"simple\"><path d=\"M428.4,389.04 C396.64,405.5 358.67,425.19 326.03,442.11 \" fill=\"none\" id=\"E3-&gt;E2\" style=\"stroke: #A80036; stroke-width: 1.0;\"/><polygon fill=\"#FFFFFF\" points=\"308.01,451.45,321.66,436.4942,328.1004,448.9249,308.01,451.45\" style=\"stroke: #A80036; stroke-width: 1.0;\"/><ellipse cx=\"327.6411\" cy=\"435.6478\" fill=\"#A80036\" rx=\"2\" ry=\"2\" style=\"stroke: #A80036; stroke-width: 1.0;\"/><ellipse cx=\"332.2414\" cy=\"444.5269\" fill=\"#A80036\" rx=\"2\" ry=\"2\" style=\"stroke: #A80036; stroke-width: 1.0;\"/></a><!--MD5=[185131fc0dcab0a4505a2ebe144e961b]\n",
       "link E4 to E2--><a href=\"psysml:9348166f-8cea-4d7c-a96d-6192465a705e\" target=\"_top\" title=\"psysml:9348166f-8cea-4d7c-a96d-6192465a705e\" xlink:actuate=\"onRequest\" xlink:href=\"psysml:9348166f-8cea-4d7c-a96d-6192465a705e\" xlink:show=\"new\" xlink:title=\"psysml:9348166f-8cea-4d7c-a96d-6192465a705e\" xlink:type=\"simple\"><path d=\"M192.38,257.21 C164.58,271.23 138.38,290.55 122,317 C105.15,344.2 107.35,360.55 122,389 C134.03,412.35 155.03,431.08 176.63,445.39 \" fill=\"none\" id=\"E4-&gt;E2\" style=\"stroke: #A80036; stroke-width: 1.0;\"/><polygon fill=\"#FFFFFF\" points=\"193.93,455.92,174.0606,452.0204,181.3399,440.0616,193.93,455.92\" style=\"stroke: #A80036; stroke-width: 1.0;\"/><ellipse cx=\"170.2316\" cy=\"447.3483\" fill=\"#A80036\" rx=\"2\" ry=\"2\" style=\"stroke: #A80036; stroke-width: 1.0;\"/><ellipse cx=\"175.431\" cy=\"438.8063\" fill=\"#A80036\" rx=\"2\" ry=\"2\" style=\"stroke: #A80036; stroke-width: 1.0;\"/></a><!--MD5=[62aa6af11e70f752912c1cb0466f24f7]\n",
       "reverse link E4 to E5--><a href=\"psysml:94e091d2-0286-4211-8181-aedc46ba16d2\" target=\"_top\" title=\"psysml:94e091d2-0286-4211-8181-aedc46ba16d2\" xlink:actuate=\"onRequest\" xlink:href=\"psysml:94e091d2-0286-4211-8181-aedc46ba16d2\" xlink:show=\"new\" xlink:title=\"psysml:94e091d2-0286-4211-8181-aedc46ba16d2\" xlink:type=\"simple\"><path d=\"M290.57,269.03 C280.67,289.79 269.5,313.22 261.56,329.87 \" fill=\"none\" id=\"E4&lt;-E5\" style=\"stroke: #A80036; stroke-width: 1.0;\"/><polygon fill=\"#A80036\" points=\"296.22,257.18,290.0288,260.8771,291.0603,268.0141,297.2515,264.3169,296.22,257.18\" style=\"stroke: #A80036; stroke-width: 1.0;\"/><text fill=\"#000000\" font-family=\"sans-serif\" font-size=\"13\" lengthAdjust=\"spacingAndGlyphs\" textLength=\"7\" x=\"256.3691\" y=\"319.113\">*</text></a><!--MD5=[15ebcb19ae302d9b601edb458606d402]\n",
       "link E5 to E2--><a href=\"psysml:dc08c53a-a0f0-4000-a138-cf80983e3afa\" target=\"_top\" title=\"psysml:dc08c53a-a0f0-4000-a138-cf80983e3afa\" xlink:actuate=\"onRequest\" xlink:href=\"psysml:dc08c53a-a0f0-4000-a138-cf80983e3afa\" xlink:show=\"new\" xlink:title=\"psysml:dc08c53a-a0f0-4000-a138-cf80983e3afa\" xlink:type=\"simple\"><path d=\"M251,376.12 C251,390.6 251,410.17 251,428.49 \" fill=\"none\" id=\"E5-&gt;E2\" style=\"stroke: #A80036; stroke-width: 1.0;\"/><polygon fill=\"#FFFFFF\" points=\"251,448.65,244,429.65,258,429.65,251,448.65\" style=\"stroke: #A80036; stroke-width: 1.0;\"/><ellipse cx=\"246\" cy=\"423.95\" fill=\"#A80036\" rx=\"2\" ry=\"2\" style=\"stroke: #A80036; stroke-width: 1.0;\"/><ellipse cx=\"256\" cy=\"423.95\" fill=\"#A80036\" rx=\"2\" ry=\"2\" style=\"stroke: #A80036; stroke-width: 1.0;\"/></a><!--MD5=[f667431f98296947986a1a7595a31603]\n",
       "link E6 to E4--><a href=\"psysml:b31b3f2c-80ab-44f0-a26e-d801559af683\" target=\"_top\" title=\"psysml:b31b3f2c-80ab-44f0-a26e-d801559af683\" xlink:actuate=\"onRequest\" xlink:href=\"psysml:b31b3f2c-80ab-44f0-a26e-d801559af683\" xlink:show=\"new\" xlink:title=\"psysml:b31b3f2c-80ab-44f0-a26e-d801559af683\" xlink:type=\"simple\"><path d=\"M313,125.17 C313,137.54 313,151.32 313,164.46 \" fill=\"none\" id=\"E6-&gt;E4\" style=\"stroke: #A80036; stroke-width: 1.0;\"/><polygon fill=\"none\" points=\"320,164.94,313,184.94,306,164.94,320,164.94\" style=\"stroke: #A80036; stroke-width: 1.0;\"/></a><!--MD5=[e2704711518d8f9ab39389c69f29cc37]\n",
       "@startuml\r\n",
       " \r\n",
       "package \"MassRollup\" as E1  [[psysml:93cce498-741b-46da-9a76-47f8a90b0e87 ]]  {\r\n",
       "comp def \"MassedThing\" as E2  << (B,green) >> [[psysml:2bfc4bf5-5785-4629-99c8-bf06d3584a79 ]] {\r\n",
       "mass\r\n",
       "totalMass\r\n",
       "}\r\n",
       "comp usage \"simpleThing: MassedThing\" as E3  << (P,limegreen) part>> [[psysml:d9d69a25-c21e-4c46-a572-d7b139b6ee26 ]] {\r\n",
       "totalMass=mass; \\n//:>>MassedThing::totalMass// \r\n",
       "}\r\n",
       "comp usage \"compositeThing: MassedThing\" as E4  << (P,limegreen) part>> [[psysml:343123b1-0808-41d0-8b17-a6ebb6acc0cb ]] {\r\n",
       "totalMass=mass + (subcomponents->collect p:MassedThing (p::totalMass)->reduce '+' ?? 0.0); \\n//:>>MassedThing::totalMass// \r\n",
       "}\r\n",
       "comp usage \"subcomponents: MassedThing\" as E5  << (P,limegreen) part>> [[psysml:09cd1f28-daf0-4d0d-a972-b9bf2a18e992 ]] {\r\n",
       "}\r\n",
       "comp usage \"filteredMassThing\" as E6  << (P,limegreen) part>> [[psysml:b3309114-4b2b-46b3-9f4f-dc695177bad1 ]] {\r\n",
       "minMass\r\n",
       "totalMass=(./subcomponents/mass[p (p > minMass)])->reduce '+' ?? 0.0; \\n//:>>MassedThing::totalMass// \r\n",
       "}\r\n",
       "E3 - -:|> E2 [[psysml:b7a37c04-3b7e-4fde-bcd3-8ff7c74e6a20 ]] \r\n",
       "E4 - -:|> E2 [[psysml:9348166f-8cea-4d7c-a96d-6192465a705e ]] \r\n",
       "E4 *- - \"*\"E5 [[psysml:94e091d2-0286-4211-8181-aedc46ba16d2 ]] \r\n",
       "E5 - -:|> E2 [[psysml:dc08c53a-a0f0-4000-a138-cf80983e3afa ]] \r\n",
       "E6 - -|> E4 [[psysml:b31b3f2c-80ab-44f0-a26e-d801559af683 ]] \r\n",
       "}\r\n",
       "@enduml\r\n",
       "\n",
       "PlantUML version 1.2020.13(Sat Jun 13 12:26:38 UTC 2020)\n",
       "(EPL source distribution)\n",
       "Java Runtime: OpenJDK Runtime Environment\n",
       "JVM: OpenJDK 64-Bit Server VM\n",
       "Default Encoding: UTF-8\n",
       "Language: en\n",
       "Country: null\n",
       "--></g></svg>"
      ]
     },
     "execution_count": 35,
     "metadata": {},
     "output_type": "execute_result"
    }
   ],
   "source": [
    "%viz --style=\"PLANTUML\" --view=\"Sequence\" \"MassRollup\""
   ]
  },
  {
   "cell_type": "code",
   "execution_count": 36,
   "id": "32935516",
   "metadata": {
    "execution": {
     "iopub.execute_input": "2021-04-20T07:26:59.072496Z",
     "iopub.status.busy": "2021-04-20T07:26:59.071218Z",
     "iopub.status.idle": "2021-04-20T07:26:59.205777Z",
     "shell.execute_reply": "2021-04-20T07:26:59.203917Z"
    }
   },
   "outputs": [
    {
     "data": {
      "image/svg+xml": [
       "<?xml version=\"1.0\" encoding=\"UTF-8\" standalone=\"no\"?><svg xmlns=\"http://www.w3.org/2000/svg\" xmlns:xlink=\"http://www.w3.org/1999/xlink\" contentScriptType=\"application/ecmascript\" contentStyleType=\"text/css\" height=\"543px\" preserveAspectRatio=\"none\" style=\"width:632px;height:543px;\" version=\"1.1\" viewBox=\"0 0 632 543\" width=\"632px\" zoomAndPan=\"magnify\"><defs><filter height=\"300%\" id=\"f1aop6ujl0d8x3\" width=\"300%\" x=\"-1\" y=\"-1\"><feGaussianBlur result=\"blurOut\" stdDeviation=\"2.0\"/><feColorMatrix in=\"blurOut\" result=\"blurOut2\" type=\"matrix\" values=\"0 0 0 0 0 0 0 0 0 0 0 0 0 0 0 0 0 0 .4 0\"/><feOffset dx=\"4.0\" dy=\"4.0\" in=\"blurOut2\" result=\"blurOut3\"/><feBlend in=\"SourceGraphic\" in2=\"blurOut3\" mode=\"normal\"/></filter></defs><g><!--MD5=[fbc87193dbaf4d95561dea2c320d4a47]\n",
       "cluster E1--><a href=\"psysml:93cce498-741b-46da-9a76-47f8a90b0e87\" target=\"_top\" title=\"psysml:93cce498-741b-46da-9a76-47f8a90b0e87\" xlink:actuate=\"onRequest\" xlink:href=\"psysml:93cce498-741b-46da-9a76-47f8a90b0e87\" xlink:show=\"new\" xlink:title=\"psysml:93cce498-741b-46da-9a76-47f8a90b0e87\" xlink:type=\"simple\"><polygon fill=\"#FFFFFF\" filter=\"url(#f1aop6ujl0d8x3)\" points=\"16,6,110,6,117,28.2969,610,28.2969,610,531,16,531,16,6\" style=\"stroke: #000000; stroke-width: 1.5;\"/><line style=\"stroke: #000000; stroke-width: 1.5;\" x1=\"16\" x2=\"117\" y1=\"28.2969\" y2=\"28.2969\"/><text fill=\"#000000\" font-family=\"sans-serif\" font-size=\"14\" font-weight=\"bold\" lengthAdjust=\"spacingAndGlyphs\" textLength=\"88\" x=\"20\" y=\"20.9951\">MassRollup</text></a><!--MD5=[b4997ac47864f28c2f74865a473b2911]\n",
       "class E2--><a href=\"psysml:2bfc4bf5-5785-4629-99c8-bf06d3584a79\" target=\"_top\" title=\"psysml:2bfc4bf5-5785-4629-99c8-bf06d3584a79\" xlink:actuate=\"onRequest\" xlink:href=\"psysml:2bfc4bf5-5785-4629-99c8-bf06d3584a79\" xlink:show=\"new\" xlink:title=\"psysml:2bfc4bf5-5785-4629-99c8-bf06d3584a79\" xlink:type=\"simple\"><rect fill=\"#FEFECE\" filter=\"url(#f1aop6ujl0d8x3)\" height=\"65.6094\" id=\"E2\" style=\"stroke: #A80036; stroke-width: 1.5;\" width=\"114\" x=\"194\" y=\"449\"/><ellipse cx=\"209\" cy=\"465\" fill=\"#008000\" rx=\"11\" ry=\"11\" style=\"stroke: #A80036; stroke-width: 1.0;\"/><path d=\"M207.9063,465.375 L207.9063,469.0469 L209.5313,469.0469 Q210.7031,469.0469 211.1719,468.6563 Q211.6406,468.25 211.6406,467.25 Q211.6406,466.25 211.1406,465.8125 Q210.6563,465.375 209.5313,465.375 L207.9063,465.375 Z M207.9063,460.5469 L207.9063,463.4219 L209.5313,463.4219 Q210.4531,463.4219 210.8438,463.0938 Q211.25,462.75 211.25,462 Q211.25,461.2344 210.8438,460.8906 Q210.4375,460.5469 209.5313,460.5469 L207.9063,460.5469 Z M205.5313,458.5938 L209.5313,458.5938 Q211.5938,458.5938 212.6406,459.375 Q213.6875,460.1563 213.6875,461.7188 Q213.6875,462.9219 213.0625,463.5938 Q212.4531,464.2656 211.2656,464.375 Q212.6875,464.5156 213.4063,465.3281 Q214.125,466.1406 214.125,467.5938 Q214.125,469.3906 213.0469,470.2031 Q211.9688,471 209.5313,471 L205.5313,471 L205.5313,458.5938 Z \"/><text fill=\"#000000\" font-family=\"sans-serif\" font-size=\"12\" lengthAdjust=\"spacingAndGlyphs\" textLength=\"82\" x=\"223\" y=\"469.1543\">MassedThing</text><line style=\"stroke: #A80036; stroke-width: 1.5;\" x1=\"195\" x2=\"307\" y1=\"481\" y2=\"481\"/><text fill=\"#000000\" font-family=\"sans-serif\" font-size=\"11\" lengthAdjust=\"spacingAndGlyphs\" textLength=\"32\" x=\"200\" y=\"495.2104\">mass</text><text fill=\"#000000\" font-family=\"sans-serif\" font-size=\"11\" lengthAdjust=\"spacingAndGlyphs\" textLength=\"55\" x=\"200\" y=\"508.0151\">totalMass</text></a><!--MD5=[09b614a08d8cba4a07c9adeb5e0fee81]\n",
       "class E3--><a href=\"psysml:d9d69a25-c21e-4c46-a572-d7b139b6ee26\" target=\"_top\" title=\"psysml:d9d69a25-c21e-4c46-a572-d7b139b6ee26\" xlink:actuate=\"onRequest\" xlink:href=\"psysml:d9d69a25-c21e-4c46-a572-d7b139b6ee26\" xlink:show=\"new\" xlink:title=\"psysml:d9d69a25-c21e-4c46-a572-d7b139b6ee26\" xlink:type=\"simple\"><rect fill=\"#FEFECE\" filter=\"url(#f1aop6ujl0d8x3)\" height=\"71.5469\" id=\"E3\" rx=\"10\" ry=\"10\" style=\"stroke: #A80036; stroke-width: 1.5;\" width=\"196\" x=\"398\" y=\"317\"/><ellipse cx=\"413\" cy=\"335.9688\" fill=\"#32CD32\" rx=\"11\" ry=\"11\" style=\"stroke: #A80036; stroke-width: 1.0;\"/><path d=\"M412.7969,331.6406 L412.7969,335.2656 L413.7969,335.2656 Q415,335.2656 415.4844,334.8594 Q415.9688,334.4531 415.9688,333.4531 Q415.9688,332.4531 415.4844,332.0469 Q415,331.6406 413.7969,331.6406 L412.7969,331.6406 Z M410.3438,329.5781 L413.7031,329.5781 Q416.2656,329.5781 417.3906,330.5 Q418.5156,331.4063 418.5156,333.4531 Q418.5156,335.5 417.3906,336.4219 Q416.2656,337.3281 413.7031,337.3281 L412.7969,337.3281 L412.7969,341.9688 L410.3438,341.9688 L410.3438,329.5781 Z \"/><text fill=\"#000000\" font-family=\"sans-serif\" font-size=\"12\" font-style=\"italic\" lengthAdjust=\"spacingAndGlyphs\" textLength=\"40\" x=\"489\" y=\"333.1387\">«part»</text><text fill=\"#000000\" font-family=\"sans-serif\" font-size=\"12\" lengthAdjust=\"spacingAndGlyphs\" textLength=\"164\" x=\"427\" y=\"347.1074\">simpleThing: MassedThing</text><line style=\"stroke: #A80036; stroke-width: 1.5;\" x1=\"399\" x2=\"593\" y1=\"354.9375\" y2=\"354.9375\"/><text fill=\"#000000\" font-family=\"sans-serif\" font-size=\"11\" lengthAdjust=\"spacingAndGlyphs\" textLength=\"100\" x=\"404\" y=\"369.1479\">totalMass=mass;</text><text fill=\"#000000\" font-family=\"sans-serif\" font-size=\"11\" font-style=\"italic\" lengthAdjust=\"spacingAndGlyphs\" textLength=\"160\" x=\"404\" y=\"381.9526\">:&gt;&gt;MassedThing::totalMass</text></a><!--MD5=[ebbe1d658d1005bcc118a6aa81145e00]\n",
       "class E4--><a href=\"psysml:343123b1-0808-41d0-8b17-a6ebb6acc0cb\" target=\"_top\" title=\"psysml:343123b1-0808-41d0-8b17-a6ebb6acc0cb\" xlink:actuate=\"onRequest\" xlink:href=\"psysml:343123b1-0808-41d0-8b17-a6ebb6acc0cb\" xlink:show=\"new\" xlink:title=\"psysml:343123b1-0808-41d0-8b17-a6ebb6acc0cb\" xlink:type=\"simple\"><rect fill=\"#FEFECE\" filter=\"url(#f1aop6ujl0d8x3)\" height=\"71.5469\" id=\"E4\" rx=\"10\" ry=\"10\" style=\"stroke: #A80036; stroke-width: 1.5;\" width=\"562\" x=\"32\" y=\"185\"/><ellipse cx=\"214.25\" cy=\"203.9688\" fill=\"#32CD32\" rx=\"11\" ry=\"11\" style=\"stroke: #A80036; stroke-width: 1.0;\"/><path d=\"M214.0469,199.6406 L214.0469,203.2656 L215.0469,203.2656 Q216.25,203.2656 216.7344,202.8594 Q217.2188,202.4531 217.2188,201.4531 Q217.2188,200.4531 216.7344,200.0469 Q216.25,199.6406 215.0469,199.6406 L214.0469,199.6406 Z M211.5938,197.5781 L214.9531,197.5781 Q217.5156,197.5781 218.6406,198.5 Q219.7656,199.4063 219.7656,201.4531 Q219.7656,203.5 218.6406,204.4219 Q217.5156,205.3281 214.9531,205.3281 L214.0469,205.3281 L214.0469,209.9688 L211.5938,209.9688 L211.5938,197.5781 Z \"/><text fill=\"#000000\" font-family=\"sans-serif\" font-size=\"12\" font-style=\"italic\" lengthAdjust=\"spacingAndGlyphs\" textLength=\"40\" x=\"309.25\" y=\"201.1387\">«part»</text><text fill=\"#000000\" font-family=\"sans-serif\" font-size=\"12\" lengthAdjust=\"spacingAndGlyphs\" textLength=\"189\" x=\"234.75\" y=\"215.1074\">compositeThing: MassedThing</text><line style=\"stroke: #A80036; stroke-width: 1.5;\" x1=\"33\" x2=\"593\" y1=\"222.9375\" y2=\"222.9375\"/><text fill=\"#000000\" font-family=\"sans-serif\" font-size=\"11\" lengthAdjust=\"spacingAndGlyphs\" textLength=\"546\" x=\"38\" y=\"237.1479\">totalMass=mass + (subcomponents-&gt;collect p:MassedThing (p::totalMass)-&gt;reduce '+' ?? 0.0);</text><text fill=\"#000000\" font-family=\"sans-serif\" font-size=\"11\" font-style=\"italic\" lengthAdjust=\"spacingAndGlyphs\" textLength=\"160\" x=\"38\" y=\"249.9526\">:&gt;&gt;MassedThing::totalMass</text></a><!--MD5=[270fce915f116d4de14055a7c1d9a0f3]\n",
       "class E5--><a href=\"psysml:09cd1f28-daf0-4d0d-a972-b9bf2a18e992\" target=\"_top\" title=\"psysml:09cd1f28-daf0-4d0d-a972-b9bf2a18e992\" xlink:actuate=\"onRequest\" xlink:href=\"psysml:09cd1f28-daf0-4d0d-a972-b9bf2a18e992\" xlink:show=\"new\" xlink:title=\"psysml:09cd1f28-daf0-4d0d-a972-b9bf2a18e992\" xlink:type=\"simple\"><rect fill=\"#FEFECE\" filter=\"url(#f1aop6ujl0d8x3)\" height=\"45.9375\" id=\"E5\" rx=\"10\" ry=\"10\" style=\"stroke: #A80036; stroke-width: 1.5;\" width=\"223\" x=\"139.5\" y=\"330\"/><ellipse cx=\"154.5\" cy=\"348.9688\" fill=\"#32CD32\" rx=\"11\" ry=\"11\" style=\"stroke: #A80036; stroke-width: 1.0;\"/><path d=\"M154.2969,344.6406 L154.2969,348.2656 L155.2969,348.2656 Q156.5,348.2656 156.9844,347.8594 Q157.4688,347.4531 157.4688,346.4531 Q157.4688,345.4531 156.9844,345.0469 Q156.5,344.6406 155.2969,344.6406 L154.2969,344.6406 Z M151.8438,342.5781 L155.2031,342.5781 Q157.7656,342.5781 158.8906,343.5 Q160.0156,344.4063 160.0156,346.4531 Q160.0156,348.5 158.8906,349.4219 Q157.7656,350.3281 155.2031,350.3281 L154.2969,350.3281 L154.2969,354.9688 L151.8438,354.9688 L151.8438,342.5781 Z \"/><text fill=\"#000000\" font-family=\"sans-serif\" font-size=\"12\" font-style=\"italic\" lengthAdjust=\"spacingAndGlyphs\" textLength=\"40\" x=\"244\" y=\"346.1387\">«part»</text><text fill=\"#000000\" font-family=\"sans-serif\" font-size=\"12\" lengthAdjust=\"spacingAndGlyphs\" textLength=\"191\" x=\"168.5\" y=\"360.1074\">subcomponents: MassedThing</text><line style=\"stroke: #A80036; stroke-width: 1.5;\" x1=\"140.5\" x2=\"361.5\" y1=\"367.9375\" y2=\"367.9375\"/></a><!--MD5=[60a26617385b1d2d0262a64233df1f8d]\n",
       "class E6--><a href=\"psysml:b3309114-4b2b-46b3-9f4f-dc695177bad1\" target=\"_top\" title=\"psysml:b3309114-4b2b-46b3-9f4f-dc695177bad1\" xlink:actuate=\"onRequest\" xlink:href=\"psysml:b3309114-4b2b-46b3-9f4f-dc695177bad1\" xlink:show=\"new\" xlink:title=\"psysml:b3309114-4b2b-46b3-9f4f-dc695177bad1\" xlink:type=\"simple\"><rect fill=\"#FEFECE\" filter=\"url(#f1aop6ujl0d8x3)\" height=\"84.3516\" id=\"E6\" rx=\"10\" ry=\"10\" style=\"stroke: #A80036; stroke-width: 1.5;\" width=\"438\" x=\"94\" y=\"41\"/><ellipse cx=\"253.75\" cy=\"59.9688\" fill=\"#32CD32\" rx=\"11\" ry=\"11\" style=\"stroke: #A80036; stroke-width: 1.0;\"/><path d=\"M253.5469,55.6406 L253.5469,59.2656 L254.5469,59.2656 Q255.75,59.2656 256.2344,58.8594 Q256.7188,58.4531 256.7188,57.4531 Q256.7188,56.4531 256.2344,56.0469 Q255.75,55.6406 254.5469,55.6406 L253.5469,55.6406 Z M251.0938,53.5781 L254.4531,53.5781 Q257.0156,53.5781 258.1406,54.5 Q259.2656,55.4063 259.2656,57.4531 Q259.2656,59.5 258.1406,60.4219 Q257.0156,61.3281 254.4531,61.3281 L253.5469,61.3281 L253.5469,65.9688 L251.0938,65.9688 L251.0938,53.5781 Z \"/><text fill=\"#000000\" font-family=\"sans-serif\" font-size=\"12\" font-style=\"italic\" lengthAdjust=\"spacingAndGlyphs\" textLength=\"40\" x=\"309.25\" y=\"57.1387\">«part»</text><text fill=\"#000000\" font-family=\"sans-serif\" font-size=\"12\" lengthAdjust=\"spacingAndGlyphs\" textLength=\"110\" x=\"274.25\" y=\"71.1074\">filteredMassThing</text><line style=\"stroke: #A80036; stroke-width: 1.5;\" x1=\"95\" x2=\"531\" y1=\"78.9375\" y2=\"78.9375\"/><text fill=\"#000000\" font-family=\"sans-serif\" font-size=\"11\" lengthAdjust=\"spacingAndGlyphs\" textLength=\"51\" x=\"100\" y=\"93.1479\">minMass</text><text fill=\"#000000\" font-family=\"sans-serif\" font-size=\"11\" lengthAdjust=\"spacingAndGlyphs\" textLength=\"422\" x=\"100\" y=\"105.9526\">totalMass=(./subcomponents/mass[p (p &gt; minMass)])-&gt;reduce '+' ?? 0.0;</text><text fill=\"#000000\" font-family=\"sans-serif\" font-size=\"11\" font-style=\"italic\" lengthAdjust=\"spacingAndGlyphs\" textLength=\"160\" x=\"100\" y=\"118.7573\">:&gt;&gt;MassedThing::totalMass</text></a><!--MD5=[05d275557350bfb9b23a4ef7222b4c39]\n",
       "link E3 to E2--><a href=\"psysml:b7a37c04-3b7e-4fde-bcd3-8ff7c74e6a20\" target=\"_top\" title=\"psysml:b7a37c04-3b7e-4fde-bcd3-8ff7c74e6a20\" xlink:actuate=\"onRequest\" xlink:href=\"psysml:b7a37c04-3b7e-4fde-bcd3-8ff7c74e6a20\" xlink:show=\"new\" xlink:title=\"psysml:b7a37c04-3b7e-4fde-bcd3-8ff7c74e6a20\" xlink:type=\"simple\"><path d=\"M428.4,389.04 C396.64,405.5 358.67,425.19 326.03,442.11 \" fill=\"none\" id=\"E3-&gt;E2\" style=\"stroke: #A80036; stroke-width: 1.0;\"/><polygon fill=\"#FFFFFF\" points=\"308.01,451.45,321.66,436.4942,328.1004,448.9249,308.01,451.45\" style=\"stroke: #A80036; stroke-width: 1.0;\"/><ellipse cx=\"327.6411\" cy=\"435.6478\" fill=\"#A80036\" rx=\"2\" ry=\"2\" style=\"stroke: #A80036; stroke-width: 1.0;\"/><ellipse cx=\"332.2414\" cy=\"444.5269\" fill=\"#A80036\" rx=\"2\" ry=\"2\" style=\"stroke: #A80036; stroke-width: 1.0;\"/></a><!--MD5=[185131fc0dcab0a4505a2ebe144e961b]\n",
       "link E4 to E2--><a href=\"psysml:9348166f-8cea-4d7c-a96d-6192465a705e\" target=\"_top\" title=\"psysml:9348166f-8cea-4d7c-a96d-6192465a705e\" xlink:actuate=\"onRequest\" xlink:href=\"psysml:9348166f-8cea-4d7c-a96d-6192465a705e\" xlink:show=\"new\" xlink:title=\"psysml:9348166f-8cea-4d7c-a96d-6192465a705e\" xlink:type=\"simple\"><path d=\"M192.38,257.21 C164.58,271.23 138.38,290.55 122,317 C105.15,344.2 107.35,360.55 122,389 C134.03,412.35 155.03,431.08 176.63,445.39 \" fill=\"none\" id=\"E4-&gt;E2\" style=\"stroke: #A80036; stroke-width: 1.0;\"/><polygon fill=\"#FFFFFF\" points=\"193.93,455.92,174.0606,452.0204,181.3399,440.0616,193.93,455.92\" style=\"stroke: #A80036; stroke-width: 1.0;\"/><ellipse cx=\"170.2316\" cy=\"447.3483\" fill=\"#A80036\" rx=\"2\" ry=\"2\" style=\"stroke: #A80036; stroke-width: 1.0;\"/><ellipse cx=\"175.431\" cy=\"438.8063\" fill=\"#A80036\" rx=\"2\" ry=\"2\" style=\"stroke: #A80036; stroke-width: 1.0;\"/></a><!--MD5=[62aa6af11e70f752912c1cb0466f24f7]\n",
       "reverse link E4 to E5--><a href=\"psysml:94e091d2-0286-4211-8181-aedc46ba16d2\" target=\"_top\" title=\"psysml:94e091d2-0286-4211-8181-aedc46ba16d2\" xlink:actuate=\"onRequest\" xlink:href=\"psysml:94e091d2-0286-4211-8181-aedc46ba16d2\" xlink:show=\"new\" xlink:title=\"psysml:94e091d2-0286-4211-8181-aedc46ba16d2\" xlink:type=\"simple\"><path d=\"M290.57,269.03 C280.67,289.79 269.5,313.22 261.56,329.87 \" fill=\"none\" id=\"E4&lt;-E5\" style=\"stroke: #A80036; stroke-width: 1.0;\"/><polygon fill=\"#A80036\" points=\"296.22,257.18,290.0288,260.8771,291.0603,268.0141,297.2515,264.3169,296.22,257.18\" style=\"stroke: #A80036; stroke-width: 1.0;\"/><text fill=\"#000000\" font-family=\"sans-serif\" font-size=\"13\" lengthAdjust=\"spacingAndGlyphs\" textLength=\"7\" x=\"256.3691\" y=\"319.113\">*</text></a><!--MD5=[15ebcb19ae302d9b601edb458606d402]\n",
       "link E5 to E2--><a href=\"psysml:dc08c53a-a0f0-4000-a138-cf80983e3afa\" target=\"_top\" title=\"psysml:dc08c53a-a0f0-4000-a138-cf80983e3afa\" xlink:actuate=\"onRequest\" xlink:href=\"psysml:dc08c53a-a0f0-4000-a138-cf80983e3afa\" xlink:show=\"new\" xlink:title=\"psysml:dc08c53a-a0f0-4000-a138-cf80983e3afa\" xlink:type=\"simple\"><path d=\"M251,376.12 C251,390.6 251,410.17 251,428.49 \" fill=\"none\" id=\"E5-&gt;E2\" style=\"stroke: #A80036; stroke-width: 1.0;\"/><polygon fill=\"#FFFFFF\" points=\"251,448.65,244,429.65,258,429.65,251,448.65\" style=\"stroke: #A80036; stroke-width: 1.0;\"/><ellipse cx=\"246\" cy=\"423.95\" fill=\"#A80036\" rx=\"2\" ry=\"2\" style=\"stroke: #A80036; stroke-width: 1.0;\"/><ellipse cx=\"256\" cy=\"423.95\" fill=\"#A80036\" rx=\"2\" ry=\"2\" style=\"stroke: #A80036; stroke-width: 1.0;\"/></a><!--MD5=[f667431f98296947986a1a7595a31603]\n",
       "link E6 to E4--><a href=\"psysml:b31b3f2c-80ab-44f0-a26e-d801559af683\" target=\"_top\" title=\"psysml:b31b3f2c-80ab-44f0-a26e-d801559af683\" xlink:actuate=\"onRequest\" xlink:href=\"psysml:b31b3f2c-80ab-44f0-a26e-d801559af683\" xlink:show=\"new\" xlink:title=\"psysml:b31b3f2c-80ab-44f0-a26e-d801559af683\" xlink:type=\"simple\"><path d=\"M313,125.17 C313,137.54 313,151.32 313,164.46 \" fill=\"none\" id=\"E6-&gt;E4\" style=\"stroke: #A80036; stroke-width: 1.0;\"/><polygon fill=\"none\" points=\"320,164.94,313,184.94,306,164.94,320,164.94\" style=\"stroke: #A80036; stroke-width: 1.0;\"/></a><!--MD5=[e2704711518d8f9ab39389c69f29cc37]\n",
       "@startuml\r\n",
       " \r\n",
       "package \"MassRollup\" as E1  [[psysml:93cce498-741b-46da-9a76-47f8a90b0e87 ]]  {\r\n",
       "comp def \"MassedThing\" as E2  << (B,green) >> [[psysml:2bfc4bf5-5785-4629-99c8-bf06d3584a79 ]] {\r\n",
       "mass\r\n",
       "totalMass\r\n",
       "}\r\n",
       "comp usage \"simpleThing: MassedThing\" as E3  << (P,limegreen) part>> [[psysml:d9d69a25-c21e-4c46-a572-d7b139b6ee26 ]] {\r\n",
       "totalMass=mass; \\n//:>>MassedThing::totalMass// \r\n",
       "}\r\n",
       "comp usage \"compositeThing: MassedThing\" as E4  << (P,limegreen) part>> [[psysml:343123b1-0808-41d0-8b17-a6ebb6acc0cb ]] {\r\n",
       "totalMass=mass + (subcomponents->collect p:MassedThing (p::totalMass)->reduce '+' ?? 0.0); \\n//:>>MassedThing::totalMass// \r\n",
       "}\r\n",
       "comp usage \"subcomponents: MassedThing\" as E5  << (P,limegreen) part>> [[psysml:09cd1f28-daf0-4d0d-a972-b9bf2a18e992 ]] {\r\n",
       "}\r\n",
       "comp usage \"filteredMassThing\" as E6  << (P,limegreen) part>> [[psysml:b3309114-4b2b-46b3-9f4f-dc695177bad1 ]] {\r\n",
       "minMass\r\n",
       "totalMass=(./subcomponents/mass[p (p > minMass)])->reduce '+' ?? 0.0; \\n//:>>MassedThing::totalMass// \r\n",
       "}\r\n",
       "E3 - -:|> E2 [[psysml:b7a37c04-3b7e-4fde-bcd3-8ff7c74e6a20 ]] \r\n",
       "E4 - -:|> E2 [[psysml:9348166f-8cea-4d7c-a96d-6192465a705e ]] \r\n",
       "E4 *- - \"*\"E5 [[psysml:94e091d2-0286-4211-8181-aedc46ba16d2 ]] \r\n",
       "E5 - -:|> E2 [[psysml:dc08c53a-a0f0-4000-a138-cf80983e3afa ]] \r\n",
       "E6 - -|> E4 [[psysml:b31b3f2c-80ab-44f0-a26e-d801559af683 ]] \r\n",
       "}\r\n",
       "@enduml\r\n",
       "\n",
       "PlantUML version 1.2020.13(Sat Jun 13 12:26:38 UTC 2020)\n",
       "(EPL source distribution)\n",
       "Java Runtime: OpenJDK Runtime Environment\n",
       "JVM: OpenJDK 64-Bit Server VM\n",
       "Default Encoding: UTF-8\n",
       "Language: en\n",
       "Country: null\n",
       "--></g></svg>"
      ]
     },
     "execution_count": 36,
     "metadata": {},
     "output_type": "execute_result"
    }
   ],
   "source": [
    "%viz --style=\"PLANTUML\" --view=\"MIXED\" \"MassRollup\""
   ]
  },
  {
   "cell_type": "code",
   "execution_count": 37,
   "id": "c4b60f38",
   "metadata": {
    "execution": {
     "iopub.execute_input": "2021-04-20T07:26:59.255395Z",
     "iopub.status.busy": "2021-04-20T07:26:59.254952Z",
     "iopub.status.idle": "2021-04-20T07:26:59.435163Z",
     "shell.execute_reply": "2021-04-20T07:26:59.433418Z"
    }
   },
   "outputs": [
    {
     "data": {
      "image/svg+xml": [
       "<?xml version=\"1.0\" encoding=\"UTF-8\" standalone=\"no\"?><svg xmlns=\"http://www.w3.org/2000/svg\" xmlns:xlink=\"http://www.w3.org/1999/xlink\" contentScriptType=\"application/ecmascript\" contentStyleType=\"text/css\" height=\"640px\" preserveAspectRatio=\"none\" style=\"width:512px;height:640px;\" version=\"1.1\" viewBox=\"0 0 512 640\" width=\"512px\" zoomAndPan=\"magnify\"><defs/><g><!--MD5=[fbc87193dbaf4d95561dea2c320d4a47]\n",
       "cluster E1--><a href=\"psysml:93cce498-741b-46da-9a76-47f8a90b0e87\" target=\"_top\" title=\"psysml:93cce498-741b-46da-9a76-47f8a90b0e87\" xlink:actuate=\"onRequest\" xlink:href=\"psysml:93cce498-741b-46da-9a76-47f8a90b0e87\" xlink:show=\"new\" xlink:title=\"psysml:93cce498-741b-46da-9a76-47f8a90b0e87\" xlink:type=\"simple\"><polygon fill=\"#FFFFFF\" points=\"16,6,110,6,117,28.2969,490,28.2969,490,628,16,628,16,6\" style=\"stroke: #000000; stroke-width: 1.5;\"/><line style=\"stroke: #000000; stroke-width: 1.5;\" x1=\"16\" x2=\"117\" y1=\"28.2969\" y2=\"28.2969\"/><text fill=\"#000000\" font-family=\"sans-serif\" font-size=\"14\" font-weight=\"bold\" lengthAdjust=\"spacingAndGlyphs\" textLength=\"88\" x=\"20\" y=\"20.9951\">MassRollup</text></a><!--MD5=[b4997ac47864f28c2f74865a473b2911]\n",
       "class E2--><a href=\"psysml:2bfc4bf5-5785-4629-99c8-bf06d3584a79\" target=\"_top\" title=\"psysml:2bfc4bf5-5785-4629-99c8-bf06d3584a79\" xlink:actuate=\"onRequest\" xlink:href=\"psysml:2bfc4bf5-5785-4629-99c8-bf06d3584a79\" xlink:show=\"new\" xlink:title=\"psysml:2bfc4bf5-5785-4629-99c8-bf06d3584a79\" xlink:type=\"simple\"><rect fill=\"#FFFFFF\" height=\"88.3516\" id=\"E2\" style=\"stroke: #383838; stroke-width: 1.5;\" width=\"88\" x=\"124\" y=\"524\"/><text fill=\"#000000\" font-family=\"sans-serif\" font-size=\"12\" font-style=\"italic\" lengthAdjust=\"spacingAndGlyphs\" textLength=\"64\" x=\"136\" y=\"540.1387\">«part def»</text><text fill=\"#000000\" font-family=\"sans-serif\" font-size=\"12\" lengthAdjust=\"spacingAndGlyphs\" textLength=\"82\" x=\"127\" y=\"554.1074\">MassedThing</text><line style=\"stroke: #383838; stroke-width: 1.5;\" x1=\"125\" x2=\"211\" y1=\"561.9375\" y2=\"561.9375\"/><text fill=\"#000000\" font-family=\"sans-serif\" font-size=\"11\" lengthAdjust=\"spacingAndGlyphs\" textLength=\"32\" x=\"130\" y=\"592.9526\">mass</text><text fill=\"#000000\" font-family=\"sans-serif\" font-size=\"11\" lengthAdjust=\"spacingAndGlyphs\" textLength=\"55\" x=\"130\" y=\"605.7573\">totalMass</text><line style=\"stroke: #383838; stroke-width: 1.0;\" x1=\"125\" x2=\"140.5\" y1=\"576.3398\" y2=\"576.3398\"/><text fill=\"#000000\" font-family=\"sans-serif\" font-size=\"11\" lengthAdjust=\"spacingAndGlyphs\" textLength=\"55\" x=\"140.5\" y=\"579.6479\">attributes</text><line style=\"stroke: #383838; stroke-width: 1.0;\" x1=\"195.5\" x2=\"211\" y1=\"576.3398\" y2=\"576.3398\"/></a><!--MD5=[09b614a08d8cba4a07c9adeb5e0fee81]\n",
       "class E3--><a href=\"psysml:d9d69a25-c21e-4c46-a572-d7b139b6ee26\" target=\"_top\" title=\"psysml:d9d69a25-c21e-4c46-a572-d7b139b6ee26\" xlink:actuate=\"onRequest\" xlink:href=\"psysml:d9d69a25-c21e-4c46-a572-d7b139b6ee26\" xlink:show=\"new\" xlink:title=\"psysml:d9d69a25-c21e-4c46-a572-d7b139b6ee26\" xlink:type=\"simple\"><rect fill=\"#FFFFFF\" height=\"88.3516\" id=\"E3\" rx=\"10\" ry=\"10\" style=\"stroke: #383838; stroke-width: 1.5;\" width=\"172\" x=\"302\" y=\"376\"/><text fill=\"#000000\" font-family=\"sans-serif\" font-size=\"12\" font-style=\"italic\" lengthAdjust=\"spacingAndGlyphs\" textLength=\"40\" x=\"368\" y=\"392.1387\">«part»</text><text fill=\"#000000\" font-family=\"sans-serif\" font-size=\"12\" lengthAdjust=\"spacingAndGlyphs\" textLength=\"164\" x=\"306\" y=\"406.1074\">simpleThing: MassedThing</text><line style=\"stroke: #383838; stroke-width: 1.5;\" x1=\"303\" x2=\"473\" y1=\"413.9375\" y2=\"413.9375\"/><text fill=\"#000000\" font-family=\"sans-serif\" font-size=\"11\" lengthAdjust=\"spacingAndGlyphs\" textLength=\"100\" x=\"308\" y=\"444.9526\">totalMass=mass;</text><text fill=\"#000000\" font-family=\"sans-serif\" font-size=\"11\" font-style=\"italic\" lengthAdjust=\"spacingAndGlyphs\" textLength=\"160\" x=\"308\" y=\"457.7573\">:&gt;&gt;MassedThing::totalMass</text><line style=\"stroke: #383838; stroke-width: 1.0;\" x1=\"303\" x2=\"360.5\" y1=\"428.3398\" y2=\"428.3398\"/><text fill=\"#000000\" font-family=\"sans-serif\" font-size=\"11\" lengthAdjust=\"spacingAndGlyphs\" textLength=\"55\" x=\"360.5\" y=\"431.6479\">attributes</text><line style=\"stroke: #383838; stroke-width: 1.0;\" x1=\"415.5\" x2=\"473\" y1=\"428.3398\" y2=\"428.3398\"/></a><!--MD5=[ebbe1d658d1005bcc118a6aa81145e00]\n",
       "class E4--><a href=\"psysml:343123b1-0808-41d0-8b17-a6ebb6acc0cb\" target=\"_top\" title=\"psysml:343123b1-0808-41d0-8b17-a6ebb6acc0cb\" xlink:actuate=\"onRequest\" xlink:href=\"psysml:343123b1-0808-41d0-8b17-a6ebb6acc0cb\" xlink:show=\"new\" xlink:title=\"psysml:343123b1-0808-41d0-8b17-a6ebb6acc0cb\" xlink:type=\"simple\"><rect fill=\"#FFFFFF\" height=\"101.1563\" id=\"E4\" rx=\"10\" ry=\"10\" style=\"stroke: #383838; stroke-width: 1.5;\" width=\"290\" x=\"32\" y=\"215\"/><text fill=\"#000000\" font-family=\"sans-serif\" font-size=\"12\" font-style=\"italic\" lengthAdjust=\"spacingAndGlyphs\" textLength=\"40\" x=\"157\" y=\"231.1387\">«part»</text><text fill=\"#000000\" font-family=\"sans-serif\" font-size=\"12\" lengthAdjust=\"spacingAndGlyphs\" textLength=\"189\" x=\"82.5\" y=\"245.1074\">compositeThing: MassedThing</text><line style=\"stroke: #383838; stroke-width: 1.5;\" x1=\"33\" x2=\"321\" y1=\"252.9375\" y2=\"252.9375\"/><text fill=\"#000000\" font-family=\"sans-serif\" font-size=\"11\" lengthAdjust=\"spacingAndGlyphs\" textLength=\"272\" x=\"38\" y=\"283.9526\">totalMass=mass + (subcomponents-&gt;collect p:</text><text fill=\"#000000\" font-family=\"sans-serif\" font-size=\"11\" lengthAdjust=\"spacingAndGlyphs\" textLength=\"274\" x=\"38\" y=\"296.7573\">MassedThing (p::totalMass)-&gt;reduce '+' ?? 0.0);</text><text fill=\"#000000\" font-family=\"sans-serif\" font-size=\"11\" font-style=\"italic\" lengthAdjust=\"spacingAndGlyphs\" textLength=\"160\" x=\"38\" y=\"309.562\">:&gt;&gt;MassedThing::totalMass</text><line style=\"stroke: #383838; stroke-width: 1.0;\" x1=\"33\" x2=\"149.5\" y1=\"267.3398\" y2=\"267.3398\"/><text fill=\"#000000\" font-family=\"sans-serif\" font-size=\"11\" lengthAdjust=\"spacingAndGlyphs\" textLength=\"55\" x=\"149.5\" y=\"270.6479\">attributes</text><line style=\"stroke: #383838; stroke-width: 1.0;\" x1=\"204.5\" x2=\"321\" y1=\"267.3398\" y2=\"267.3398\"/></a><!--MD5=[270fce915f116d4de14055a7c1d9a0f3]\n",
       "class E5--><a href=\"psysml:09cd1f28-daf0-4d0d-a972-b9bf2a18e992\" target=\"_top\" title=\"psysml:09cd1f28-daf0-4d0d-a972-b9bf2a18e992\" xlink:actuate=\"onRequest\" xlink:href=\"psysml:09cd1f28-daf0-4d0d-a972-b9bf2a18e992\" xlink:show=\"new\" xlink:title=\"psysml:09cd1f28-daf0-4d0d-a972-b9bf2a18e992\" xlink:type=\"simple\"><rect fill=\"#FFFFFF\" height=\"45.9375\" id=\"E5\" rx=\"10\" ry=\"10\" style=\"stroke: #383838; stroke-width: 1.5;\" width=\"197\" x=\"69.5\" y=\"397\"/><text fill=\"#000000\" font-family=\"sans-serif\" font-size=\"12\" font-style=\"italic\" lengthAdjust=\"spacingAndGlyphs\" textLength=\"40\" x=\"148\" y=\"413.1387\">«part»</text><text fill=\"#000000\" font-family=\"sans-serif\" font-size=\"12\" lengthAdjust=\"spacingAndGlyphs\" textLength=\"191\" x=\"72.5\" y=\"427.1074\">subcomponents: MassedThing</text><line style=\"stroke: #383838; stroke-width: 1.5;\" x1=\"70.5\" x2=\"265.5\" y1=\"434.9375\" y2=\"434.9375\"/></a><!--MD5=[60a26617385b1d2d0262a64233df1f8d]\n",
       "class E6--><a href=\"psysml:b3309114-4b2b-46b3-9f4f-dc695177bad1\" target=\"_top\" title=\"psysml:b3309114-4b2b-46b3-9f4f-dc695177bad1\" xlink:actuate=\"onRequest\" xlink:href=\"psysml:b3309114-4b2b-46b3-9f4f-dc695177bad1\" xlink:show=\"new\" xlink:title=\"psysml:b3309114-4b2b-46b3-9f4f-dc695177bad1\" xlink:type=\"simple\"><rect fill=\"#FFFFFF\" height=\"113.9609\" id=\"E6\" rx=\"10\" ry=\"10\" style=\"stroke: #383838; stroke-width: 1.5;\" width=\"309\" x=\"31.5\" y=\"41\"/><text fill=\"#000000\" font-family=\"sans-serif\" font-size=\"12\" font-style=\"italic\" lengthAdjust=\"spacingAndGlyphs\" textLength=\"40\" x=\"166\" y=\"57.1387\">«part»</text><text fill=\"#000000\" font-family=\"sans-serif\" font-size=\"12\" lengthAdjust=\"spacingAndGlyphs\" textLength=\"110\" x=\"131\" y=\"71.1074\">filteredMassThing</text><line style=\"stroke: #383838; stroke-width: 1.5;\" x1=\"32.5\" x2=\"339.5\" y1=\"78.9375\" y2=\"78.9375\"/><text fill=\"#000000\" font-family=\"sans-serif\" font-size=\"11\" lengthAdjust=\"spacingAndGlyphs\" textLength=\"51\" x=\"37.5\" y=\"109.9526\">minMass</text><text fill=\"#000000\" font-family=\"sans-serif\" font-size=\"11\" lengthAdjust=\"spacingAndGlyphs\" textLength=\"297\" x=\"37.5\" y=\"122.7573\">totalMass=(./subcomponents/mass[p (p &gt; minMass</text><text fill=\"#000000\" font-family=\"sans-serif\" font-size=\"11\" lengthAdjust=\"spacingAndGlyphs\" textLength=\"125\" x=\"37.5\" y=\"135.562\">)])-&gt;reduce '+' ?? 0.0;</text><text fill=\"#000000\" font-family=\"sans-serif\" font-size=\"11\" font-style=\"italic\" lengthAdjust=\"spacingAndGlyphs\" textLength=\"160\" x=\"37.5\" y=\"148.3667\">:&gt;&gt;MassedThing::totalMass</text><line style=\"stroke: #383838; stroke-width: 1.0;\" x1=\"32.5\" x2=\"158.5\" y1=\"93.3398\" y2=\"93.3398\"/><text fill=\"#000000\" font-family=\"sans-serif\" font-size=\"11\" lengthAdjust=\"spacingAndGlyphs\" textLength=\"55\" x=\"158.5\" y=\"96.6479\">attributes</text><line style=\"stroke: #383838; stroke-width: 1.0;\" x1=\"213.5\" x2=\"339.5\" y1=\"93.3398\" y2=\"93.3398\"/></a><!--MD5=[05d275557350bfb9b23a4ef7222b4c39]\n",
       "link E3 to E2--><a href=\"psysml:b7a37c04-3b7e-4fde-bcd3-8ff7c74e6a20\" target=\"_top\" title=\"psysml:b7a37c04-3b7e-4fde-bcd3-8ff7c74e6a20\" xlink:actuate=\"onRequest\" xlink:href=\"psysml:b7a37c04-3b7e-4fde-bcd3-8ff7c74e6a20\" xlink:show=\"new\" xlink:title=\"psysml:b7a37c04-3b7e-4fde-bcd3-8ff7c74e6a20\" xlink:type=\"simple\"><path d=\"M323.18,464.02 C293.44,483.75 258.37,507.03 229.1,526.45 \" fill=\"none\" id=\"E3-&gt;E2\" style=\"stroke: #383838; stroke-width: 1.0;\"/><polygon fill=\"#FFFFFF\" points=\"212.17,537.69,224.1349,521.3547,231.873,533.0219,212.17,537.69\" style=\"stroke: #383838; stroke-width: 1.0;\"/><ellipse cx=\"229.9905\" cy=\"519.871\" fill=\"#383838\" rx=\"2\" ry=\"2\" style=\"stroke: #383838; stroke-width: 1.0;\"/><ellipse cx=\"235.5178\" cy=\"528.2046\" fill=\"#383838\" rx=\"2\" ry=\"2\" style=\"stroke: #383838; stroke-width: 1.0;\"/></a><!--MD5=[185131fc0dcab0a4505a2ebe144e961b]\n",
       "link E4 to E2--><a href=\"psysml:9348166f-8cea-4d7c-a96d-6192465a705e\" target=\"_top\" title=\"psysml:9348166f-8cea-4d7c-a96d-6192465a705e\" xlink:actuate=\"onRequest\" xlink:href=\"psysml:9348166f-8cea-4d7c-a96d-6192465a705e\" xlink:show=\"new\" xlink:title=\"psysml:9348166f-8cea-4d7c-a96d-6192465a705e\" xlink:type=\"simple\"><path d=\"M99.7,316.2 C80.53,332.71 62.48,352.88 52,376 C35.85,411.62 35.97,428.33 52,464 C63.74,490.13 85.76,512.33 107.48,529.36 \" fill=\"none\" id=\"E4-&gt;E2\" style=\"stroke: #383838; stroke-width: 1.0;\"/><polygon fill=\"#FFFFFF\" points=\"123.86,541.35,104.3934,535.7776,112.6617,524.48,123.86,541.35\" style=\"stroke: #383838; stroke-width: 1.0;\"/><ellipse cx=\"100.9748\" cy=\"530.7973\" fill=\"#383838\" rx=\"2\" ry=\"2\" style=\"stroke: #383838; stroke-width: 1.0;\"/><ellipse cx=\"106.8807\" cy=\"522.7276\" fill=\"#383838\" rx=\"2\" ry=\"2\" style=\"stroke: #383838; stroke-width: 1.0;\"/></a><!--MD5=[62aa6af11e70f752912c1cb0466f24f7]\n",
       "reverse link E4 to E5--><a href=\"psysml:94e091d2-0286-4211-8181-aedc46ba16d2\" target=\"_top\" title=\"psysml:94e091d2-0286-4211-8181-aedc46ba16d2\" xlink:actuate=\"onRequest\" xlink:href=\"psysml:94e091d2-0286-4211-8181-aedc46ba16d2\" xlink:show=\"new\" xlink:title=\"psysml:94e091d2-0286-4211-8181-aedc46ba16d2\" xlink:type=\"simple\"><path d=\"M173.3,329.13 C171.88,353.21 170.35,379.16 169.3,396.96 \" fill=\"none\" id=\"E4&lt;-E5\" style=\"stroke: #383838; stroke-width: 1.0;\"/><polygon fill=\"#383838\" points=\"174.08,316.01,169.7309,321.762,173.3676,327.9888,177.7167,322.2369,174.08,316.01\" style=\"stroke: #383838; stroke-width: 1.0;\"/><text fill=\"#000000\" font-family=\"sans-serif\" font-size=\"13\" lengthAdjust=\"spacingAndGlyphs\" textLength=\"7\" x=\"161.7088\" y=\"385.8455\">*</text></a><!--MD5=[15ebcb19ae302d9b601edb458606d402]\n",
       "link E5 to E2--><a href=\"psysml:dc08c53a-a0f0-4000-a138-cf80983e3afa\" target=\"_top\" title=\"psysml:dc08c53a-a0f0-4000-a138-cf80983e3afa\" xlink:actuate=\"onRequest\" xlink:href=\"psysml:dc08c53a-a0f0-4000-a138-cf80983e3afa\" xlink:show=\"new\" xlink:title=\"psysml:dc08c53a-a0f0-4000-a138-cf80983e3afa\" xlink:type=\"simple\"><path d=\"M168,443.17 C168,459.31 168,482.04 168,503.62 \" fill=\"none\" id=\"E5-&gt;E2\" style=\"stroke: #383838; stroke-width: 1.0;\"/><polygon fill=\"#FFFFFF\" points=\"168,523.71,161,504.71,175,504.71,168,523.71\" style=\"stroke: #383838; stroke-width: 1.0;\"/><ellipse cx=\"163\" cy=\"499.01\" fill=\"#383838\" rx=\"2\" ry=\"2\" style=\"stroke: #383838; stroke-width: 1.0;\"/><ellipse cx=\"173\" cy=\"499.01\" fill=\"#383838\" rx=\"2\" ry=\"2\" style=\"stroke: #383838; stroke-width: 1.0;\"/></a><!--MD5=[f667431f98296947986a1a7595a31603]\n",
       "link E6 to E4--><a href=\"psysml:b31b3f2c-80ab-44f0-a26e-d801559af683\" target=\"_top\" title=\"psysml:b31b3f2c-80ab-44f0-a26e-d801559af683\" xlink:actuate=\"onRequest\" xlink:href=\"psysml:b31b3f2c-80ab-44f0-a26e-d801559af683\" xlink:show=\"new\" xlink:title=\"psysml:b31b3f2c-80ab-44f0-a26e-d801559af683\" xlink:type=\"simple\"><path d=\"M182.95,155.03 C182.26,167.77 181.52,181.45 180.8,194.69 \" fill=\"none\" id=\"E6-&gt;E4\" style=\"stroke: #383838; stroke-width: 1.0;\"/><polygon fill=\"none\" points=\"187.77,195.32,179.7,214.91,173.79,194.56,187.77,195.32\" style=\"stroke: #383838; stroke-width: 1.0;\"/></a><!--MD5=[32ec512c53738df6c9a906edf7f86484]\n",
       "@startuml\r\n",
       "skinparam monochrome true\r\n",
       "skinparam classbackgroundcolor white\r\n",
       "skinparam shadowing false\r\n",
       "skinparam wrapWidth 300\r\n",
       "hide circle\r\n",
       "\r\n",
       "package \"MassRollup\" as E1  [[psysml:93cce498-741b-46da-9a76-47f8a90b0e87 ]]  {\r\n",
       "comp def \"MassedThing\" as E2  <<(T,blue)part def>> [[psysml:2bfc4bf5-5785-4629-99c8-bf06d3584a79 ]] {\r\n",
       "- - attributes - -\r\n",
       "mass\r\n",
       "totalMass\r\n",
       "}\r\n",
       "comp usage \"simpleThing: MassedThing\" as E3  <<(T,blue)part>> [[psysml:d9d69a25-c21e-4c46-a572-d7b139b6ee26 ]] {\r\n",
       "- - attributes - -\r\n",
       "totalMass=mass; \\n//:>>MassedThing::totalMass// \r\n",
       "}\r\n",
       "comp usage \"compositeThing: MassedThing\" as E4  <<(T,blue)part>> [[psysml:343123b1-0808-41d0-8b17-a6ebb6acc0cb ]] {\r\n",
       "- - attributes - -\r\n",
       "totalMass=mass + (subcomponents->collect p:MassedThing (p::totalMass)->reduce '+' ?? 0.0); \\n//:>>MassedThing::totalMass// \r\n",
       "}\r\n",
       "comp usage \"subcomponents: MassedThing\" as E5  <<(T,blue)part>> [[psysml:09cd1f28-daf0-4d0d-a972-b9bf2a18e992 ]] {\r\n",
       "}\r\n",
       "comp usage \"filteredMassThing\" as E6  <<(T,blue)part>> [[psysml:b3309114-4b2b-46b3-9f4f-dc695177bad1 ]] {\r\n",
       "- - attributes - -\r\n",
       "minMass\r\n",
       "totalMass=(./subcomponents/mass[p (p > minMass)])->reduce '+' ?? 0.0; \\n//:>>MassedThing::totalMass// \r\n",
       "}\r\n",
       "E3 - -:|> E2 [[psysml:b7a37c04-3b7e-4fde-bcd3-8ff7c74e6a20 ]] \r\n",
       "E4 - -:|> E2 [[psysml:9348166f-8cea-4d7c-a96d-6192465a705e ]] \r\n",
       "E4 *- - \"*\"E5 [[psysml:94e091d2-0286-4211-8181-aedc46ba16d2 ]] \r\n",
       "E5 - -:|> E2 [[psysml:dc08c53a-a0f0-4000-a138-cf80983e3afa ]] \r\n",
       "E6 - -|> E4 [[psysml:b31b3f2c-80ab-44f0-a26e-d801559af683 ]] \r\n",
       "}\r\n",
       "@enduml\r\n",
       "\n",
       "PlantUML version 1.2020.13(Sat Jun 13 12:26:38 UTC 2020)\n",
       "(EPL source distribution)\n",
       "Java Runtime: OpenJDK Runtime Environment\n",
       "JVM: OpenJDK 64-Bit Server VM\n",
       "Default Encoding: UTF-8\n",
       "Language: en\n",
       "Country: null\n",
       "--></g></svg>"
      ]
     },
     "execution_count": 37,
     "metadata": {},
     "output_type": "execute_result"
    }
   ],
   "source": [
    "%viz --style=\"DEFAULT\" --view=\"Default\" \"MassRollup\""
   ]
  },
  {
   "cell_type": "code",
   "execution_count": 38,
   "id": "e9e07956",
   "metadata": {
    "execution": {
     "iopub.execute_input": "2021-04-20T07:26:59.485967Z",
     "iopub.status.busy": "2021-04-20T07:26:59.485047Z",
     "iopub.status.idle": "2021-04-20T07:26:59.667721Z",
     "shell.execute_reply": "2021-04-20T07:26:59.665937Z"
    }
   },
   "outputs": [
    {
     "data": {
      "image/svg+xml": [
       "<?xml version=\"1.0\" encoding=\"UTF-8\" standalone=\"no\"?><svg xmlns=\"http://www.w3.org/2000/svg\" xmlns:xlink=\"http://www.w3.org/1999/xlink\" contentScriptType=\"application/ecmascript\" contentStyleType=\"text/css\" height=\"640px\" preserveAspectRatio=\"none\" style=\"width:512px;height:640px;\" version=\"1.1\" viewBox=\"0 0 512 640\" width=\"512px\" zoomAndPan=\"magnify\"><defs/><g><!--MD5=[fbc87193dbaf4d95561dea2c320d4a47]\n",
       "cluster E1--><a href=\"psysml:93cce498-741b-46da-9a76-47f8a90b0e87\" target=\"_top\" title=\"psysml:93cce498-741b-46da-9a76-47f8a90b0e87\" xlink:actuate=\"onRequest\" xlink:href=\"psysml:93cce498-741b-46da-9a76-47f8a90b0e87\" xlink:show=\"new\" xlink:title=\"psysml:93cce498-741b-46da-9a76-47f8a90b0e87\" xlink:type=\"simple\"><polygon fill=\"#FFFFFF\" points=\"16,6,110,6,117,28.2969,490,28.2969,490,628,16,628,16,6\" style=\"stroke: #000000; stroke-width: 1.5;\"/><line style=\"stroke: #000000; stroke-width: 1.5;\" x1=\"16\" x2=\"117\" y1=\"28.2969\" y2=\"28.2969\"/><text fill=\"#000000\" font-family=\"sans-serif\" font-size=\"14\" font-weight=\"bold\" lengthAdjust=\"spacingAndGlyphs\" textLength=\"88\" x=\"20\" y=\"20.9951\">MassRollup</text></a><!--MD5=[b4997ac47864f28c2f74865a473b2911]\n",
       "class E2--><a href=\"psysml:2bfc4bf5-5785-4629-99c8-bf06d3584a79\" target=\"_top\" title=\"psysml:2bfc4bf5-5785-4629-99c8-bf06d3584a79\" xlink:actuate=\"onRequest\" xlink:href=\"psysml:2bfc4bf5-5785-4629-99c8-bf06d3584a79\" xlink:show=\"new\" xlink:title=\"psysml:2bfc4bf5-5785-4629-99c8-bf06d3584a79\" xlink:type=\"simple\"><rect fill=\"#FFFFFF\" height=\"88.3516\" id=\"E2\" style=\"stroke: #383838; stroke-width: 1.5;\" width=\"88\" x=\"124\" y=\"524\"/><text fill=\"#000000\" font-family=\"sans-serif\" font-size=\"12\" font-style=\"italic\" lengthAdjust=\"spacingAndGlyphs\" textLength=\"64\" x=\"136\" y=\"540.1387\">«part def»</text><text fill=\"#000000\" font-family=\"sans-serif\" font-size=\"12\" lengthAdjust=\"spacingAndGlyphs\" textLength=\"82\" x=\"127\" y=\"554.1074\">MassedThing</text><line style=\"stroke: #383838; stroke-width: 1.5;\" x1=\"125\" x2=\"211\" y1=\"561.9375\" y2=\"561.9375\"/><text fill=\"#000000\" font-family=\"sans-serif\" font-size=\"11\" lengthAdjust=\"spacingAndGlyphs\" textLength=\"32\" x=\"130\" y=\"592.9526\">mass</text><text fill=\"#000000\" font-family=\"sans-serif\" font-size=\"11\" lengthAdjust=\"spacingAndGlyphs\" textLength=\"55\" x=\"130\" y=\"605.7573\">totalMass</text><line style=\"stroke: #383838; stroke-width: 1.0;\" x1=\"125\" x2=\"140.5\" y1=\"576.3398\" y2=\"576.3398\"/><text fill=\"#000000\" font-family=\"sans-serif\" font-size=\"11\" lengthAdjust=\"spacingAndGlyphs\" textLength=\"55\" x=\"140.5\" y=\"579.6479\">attributes</text><line style=\"stroke: #383838; stroke-width: 1.0;\" x1=\"195.5\" x2=\"211\" y1=\"576.3398\" y2=\"576.3398\"/></a><!--MD5=[09b614a08d8cba4a07c9adeb5e0fee81]\n",
       "class E3--><a href=\"psysml:d9d69a25-c21e-4c46-a572-d7b139b6ee26\" target=\"_top\" title=\"psysml:d9d69a25-c21e-4c46-a572-d7b139b6ee26\" xlink:actuate=\"onRequest\" xlink:href=\"psysml:d9d69a25-c21e-4c46-a572-d7b139b6ee26\" xlink:show=\"new\" xlink:title=\"psysml:d9d69a25-c21e-4c46-a572-d7b139b6ee26\" xlink:type=\"simple\"><rect fill=\"#FFFFFF\" height=\"88.3516\" id=\"E3\" rx=\"10\" ry=\"10\" style=\"stroke: #383838; stroke-width: 1.5;\" width=\"172\" x=\"302\" y=\"376\"/><text fill=\"#000000\" font-family=\"sans-serif\" font-size=\"12\" font-style=\"italic\" lengthAdjust=\"spacingAndGlyphs\" textLength=\"40\" x=\"368\" y=\"392.1387\">«part»</text><text fill=\"#000000\" font-family=\"sans-serif\" font-size=\"12\" lengthAdjust=\"spacingAndGlyphs\" textLength=\"164\" x=\"306\" y=\"406.1074\">simpleThing: MassedThing</text><line style=\"stroke: #383838; stroke-width: 1.5;\" x1=\"303\" x2=\"473\" y1=\"413.9375\" y2=\"413.9375\"/><text fill=\"#000000\" font-family=\"sans-serif\" font-size=\"11\" lengthAdjust=\"spacingAndGlyphs\" textLength=\"100\" x=\"308\" y=\"444.9526\">totalMass=mass;</text><text fill=\"#000000\" font-family=\"sans-serif\" font-size=\"11\" font-style=\"italic\" lengthAdjust=\"spacingAndGlyphs\" textLength=\"160\" x=\"308\" y=\"457.7573\">:&gt;&gt;MassedThing::totalMass</text><line style=\"stroke: #383838; stroke-width: 1.0;\" x1=\"303\" x2=\"360.5\" y1=\"428.3398\" y2=\"428.3398\"/><text fill=\"#000000\" font-family=\"sans-serif\" font-size=\"11\" lengthAdjust=\"spacingAndGlyphs\" textLength=\"55\" x=\"360.5\" y=\"431.6479\">attributes</text><line style=\"stroke: #383838; stroke-width: 1.0;\" x1=\"415.5\" x2=\"473\" y1=\"428.3398\" y2=\"428.3398\"/></a><!--MD5=[ebbe1d658d1005bcc118a6aa81145e00]\n",
       "class E4--><a href=\"psysml:343123b1-0808-41d0-8b17-a6ebb6acc0cb\" target=\"_top\" title=\"psysml:343123b1-0808-41d0-8b17-a6ebb6acc0cb\" xlink:actuate=\"onRequest\" xlink:href=\"psysml:343123b1-0808-41d0-8b17-a6ebb6acc0cb\" xlink:show=\"new\" xlink:title=\"psysml:343123b1-0808-41d0-8b17-a6ebb6acc0cb\" xlink:type=\"simple\"><rect fill=\"#FFFFFF\" height=\"101.1563\" id=\"E4\" rx=\"10\" ry=\"10\" style=\"stroke: #383838; stroke-width: 1.5;\" width=\"290\" x=\"32\" y=\"215\"/><text fill=\"#000000\" font-family=\"sans-serif\" font-size=\"12\" font-style=\"italic\" lengthAdjust=\"spacingAndGlyphs\" textLength=\"40\" x=\"157\" y=\"231.1387\">«part»</text><text fill=\"#000000\" font-family=\"sans-serif\" font-size=\"12\" lengthAdjust=\"spacingAndGlyphs\" textLength=\"189\" x=\"82.5\" y=\"245.1074\">compositeThing: MassedThing</text><line style=\"stroke: #383838; stroke-width: 1.5;\" x1=\"33\" x2=\"321\" y1=\"252.9375\" y2=\"252.9375\"/><text fill=\"#000000\" font-family=\"sans-serif\" font-size=\"11\" lengthAdjust=\"spacingAndGlyphs\" textLength=\"272\" x=\"38\" y=\"283.9526\">totalMass=mass + (subcomponents-&gt;collect p:</text><text fill=\"#000000\" font-family=\"sans-serif\" font-size=\"11\" lengthAdjust=\"spacingAndGlyphs\" textLength=\"274\" x=\"38\" y=\"296.7573\">MassedThing (p::totalMass)-&gt;reduce '+' ?? 0.0);</text><text fill=\"#000000\" font-family=\"sans-serif\" font-size=\"11\" font-style=\"italic\" lengthAdjust=\"spacingAndGlyphs\" textLength=\"160\" x=\"38\" y=\"309.562\">:&gt;&gt;MassedThing::totalMass</text><line style=\"stroke: #383838; stroke-width: 1.0;\" x1=\"33\" x2=\"149.5\" y1=\"267.3398\" y2=\"267.3398\"/><text fill=\"#000000\" font-family=\"sans-serif\" font-size=\"11\" lengthAdjust=\"spacingAndGlyphs\" textLength=\"55\" x=\"149.5\" y=\"270.6479\">attributes</text><line style=\"stroke: #383838; stroke-width: 1.0;\" x1=\"204.5\" x2=\"321\" y1=\"267.3398\" y2=\"267.3398\"/></a><!--MD5=[270fce915f116d4de14055a7c1d9a0f3]\n",
       "class E5--><a href=\"psysml:09cd1f28-daf0-4d0d-a972-b9bf2a18e992\" target=\"_top\" title=\"psysml:09cd1f28-daf0-4d0d-a972-b9bf2a18e992\" xlink:actuate=\"onRequest\" xlink:href=\"psysml:09cd1f28-daf0-4d0d-a972-b9bf2a18e992\" xlink:show=\"new\" xlink:title=\"psysml:09cd1f28-daf0-4d0d-a972-b9bf2a18e992\" xlink:type=\"simple\"><rect fill=\"#FFFFFF\" height=\"45.9375\" id=\"E5\" rx=\"10\" ry=\"10\" style=\"stroke: #383838; stroke-width: 1.5;\" width=\"197\" x=\"69.5\" y=\"397\"/><text fill=\"#000000\" font-family=\"sans-serif\" font-size=\"12\" font-style=\"italic\" lengthAdjust=\"spacingAndGlyphs\" textLength=\"40\" x=\"148\" y=\"413.1387\">«part»</text><text fill=\"#000000\" font-family=\"sans-serif\" font-size=\"12\" lengthAdjust=\"spacingAndGlyphs\" textLength=\"191\" x=\"72.5\" y=\"427.1074\">subcomponents: MassedThing</text><line style=\"stroke: #383838; stroke-width: 1.5;\" x1=\"70.5\" x2=\"265.5\" y1=\"434.9375\" y2=\"434.9375\"/></a><!--MD5=[60a26617385b1d2d0262a64233df1f8d]\n",
       "class E6--><a href=\"psysml:b3309114-4b2b-46b3-9f4f-dc695177bad1\" target=\"_top\" title=\"psysml:b3309114-4b2b-46b3-9f4f-dc695177bad1\" xlink:actuate=\"onRequest\" xlink:href=\"psysml:b3309114-4b2b-46b3-9f4f-dc695177bad1\" xlink:show=\"new\" xlink:title=\"psysml:b3309114-4b2b-46b3-9f4f-dc695177bad1\" xlink:type=\"simple\"><rect fill=\"#FFFFFF\" height=\"113.9609\" id=\"E6\" rx=\"10\" ry=\"10\" style=\"stroke: #383838; stroke-width: 1.5;\" width=\"309\" x=\"31.5\" y=\"41\"/><text fill=\"#000000\" font-family=\"sans-serif\" font-size=\"12\" font-style=\"italic\" lengthAdjust=\"spacingAndGlyphs\" textLength=\"40\" x=\"166\" y=\"57.1387\">«part»</text><text fill=\"#000000\" font-family=\"sans-serif\" font-size=\"12\" lengthAdjust=\"spacingAndGlyphs\" textLength=\"110\" x=\"131\" y=\"71.1074\">filteredMassThing</text><line style=\"stroke: #383838; stroke-width: 1.5;\" x1=\"32.5\" x2=\"339.5\" y1=\"78.9375\" y2=\"78.9375\"/><text fill=\"#000000\" font-family=\"sans-serif\" font-size=\"11\" lengthAdjust=\"spacingAndGlyphs\" textLength=\"51\" x=\"37.5\" y=\"109.9526\">minMass</text><text fill=\"#000000\" font-family=\"sans-serif\" font-size=\"11\" lengthAdjust=\"spacingAndGlyphs\" textLength=\"297\" x=\"37.5\" y=\"122.7573\">totalMass=(./subcomponents/mass[p (p &gt; minMass</text><text fill=\"#000000\" font-family=\"sans-serif\" font-size=\"11\" lengthAdjust=\"spacingAndGlyphs\" textLength=\"125\" x=\"37.5\" y=\"135.562\">)])-&gt;reduce '+' ?? 0.0;</text><text fill=\"#000000\" font-family=\"sans-serif\" font-size=\"11\" font-style=\"italic\" lengthAdjust=\"spacingAndGlyphs\" textLength=\"160\" x=\"37.5\" y=\"148.3667\">:&gt;&gt;MassedThing::totalMass</text><line style=\"stroke: #383838; stroke-width: 1.0;\" x1=\"32.5\" x2=\"158.5\" y1=\"93.3398\" y2=\"93.3398\"/><text fill=\"#000000\" font-family=\"sans-serif\" font-size=\"11\" lengthAdjust=\"spacingAndGlyphs\" textLength=\"55\" x=\"158.5\" y=\"96.6479\">attributes</text><line style=\"stroke: #383838; stroke-width: 1.0;\" x1=\"213.5\" x2=\"339.5\" y1=\"93.3398\" y2=\"93.3398\"/></a><!--MD5=[05d275557350bfb9b23a4ef7222b4c39]\n",
       "link E3 to E2--><a href=\"psysml:b7a37c04-3b7e-4fde-bcd3-8ff7c74e6a20\" target=\"_top\" title=\"psysml:b7a37c04-3b7e-4fde-bcd3-8ff7c74e6a20\" xlink:actuate=\"onRequest\" xlink:href=\"psysml:b7a37c04-3b7e-4fde-bcd3-8ff7c74e6a20\" xlink:show=\"new\" xlink:title=\"psysml:b7a37c04-3b7e-4fde-bcd3-8ff7c74e6a20\" xlink:type=\"simple\"><path d=\"M323.18,464.02 C293.44,483.75 258.37,507.03 229.1,526.45 \" fill=\"none\" id=\"E3-&gt;E2\" style=\"stroke: #383838; stroke-width: 1.0;\"/><polygon fill=\"#FFFFFF\" points=\"212.17,537.69,224.1349,521.3547,231.873,533.0219,212.17,537.69\" style=\"stroke: #383838; stroke-width: 1.0;\"/><ellipse cx=\"229.9905\" cy=\"519.871\" fill=\"#383838\" rx=\"2\" ry=\"2\" style=\"stroke: #383838; stroke-width: 1.0;\"/><ellipse cx=\"235.5178\" cy=\"528.2046\" fill=\"#383838\" rx=\"2\" ry=\"2\" style=\"stroke: #383838; stroke-width: 1.0;\"/></a><!--MD5=[185131fc0dcab0a4505a2ebe144e961b]\n",
       "link E4 to E2--><a href=\"psysml:9348166f-8cea-4d7c-a96d-6192465a705e\" target=\"_top\" title=\"psysml:9348166f-8cea-4d7c-a96d-6192465a705e\" xlink:actuate=\"onRequest\" xlink:href=\"psysml:9348166f-8cea-4d7c-a96d-6192465a705e\" xlink:show=\"new\" xlink:title=\"psysml:9348166f-8cea-4d7c-a96d-6192465a705e\" xlink:type=\"simple\"><path d=\"M99.7,316.2 C80.53,332.71 62.48,352.88 52,376 C35.85,411.62 35.97,428.33 52,464 C63.74,490.13 85.76,512.33 107.48,529.36 \" fill=\"none\" id=\"E4-&gt;E2\" style=\"stroke: #383838; stroke-width: 1.0;\"/><polygon fill=\"#FFFFFF\" points=\"123.86,541.35,104.3934,535.7776,112.6617,524.48,123.86,541.35\" style=\"stroke: #383838; stroke-width: 1.0;\"/><ellipse cx=\"100.9748\" cy=\"530.7973\" fill=\"#383838\" rx=\"2\" ry=\"2\" style=\"stroke: #383838; stroke-width: 1.0;\"/><ellipse cx=\"106.8807\" cy=\"522.7276\" fill=\"#383838\" rx=\"2\" ry=\"2\" style=\"stroke: #383838; stroke-width: 1.0;\"/></a><!--MD5=[62aa6af11e70f752912c1cb0466f24f7]\n",
       "reverse link E4 to E5--><a href=\"psysml:94e091d2-0286-4211-8181-aedc46ba16d2\" target=\"_top\" title=\"psysml:94e091d2-0286-4211-8181-aedc46ba16d2\" xlink:actuate=\"onRequest\" xlink:href=\"psysml:94e091d2-0286-4211-8181-aedc46ba16d2\" xlink:show=\"new\" xlink:title=\"psysml:94e091d2-0286-4211-8181-aedc46ba16d2\" xlink:type=\"simple\"><path d=\"M173.3,329.13 C171.88,353.21 170.35,379.16 169.3,396.96 \" fill=\"none\" id=\"E4&lt;-E5\" style=\"stroke: #383838; stroke-width: 1.0;\"/><polygon fill=\"#383838\" points=\"174.08,316.01,169.7309,321.762,173.3676,327.9888,177.7167,322.2369,174.08,316.01\" style=\"stroke: #383838; stroke-width: 1.0;\"/><text fill=\"#000000\" font-family=\"sans-serif\" font-size=\"13\" lengthAdjust=\"spacingAndGlyphs\" textLength=\"7\" x=\"161.7088\" y=\"385.8455\">*</text></a><!--MD5=[15ebcb19ae302d9b601edb458606d402]\n",
       "link E5 to E2--><a href=\"psysml:dc08c53a-a0f0-4000-a138-cf80983e3afa\" target=\"_top\" title=\"psysml:dc08c53a-a0f0-4000-a138-cf80983e3afa\" xlink:actuate=\"onRequest\" xlink:href=\"psysml:dc08c53a-a0f0-4000-a138-cf80983e3afa\" xlink:show=\"new\" xlink:title=\"psysml:dc08c53a-a0f0-4000-a138-cf80983e3afa\" xlink:type=\"simple\"><path d=\"M168,443.17 C168,459.31 168,482.04 168,503.62 \" fill=\"none\" id=\"E5-&gt;E2\" style=\"stroke: #383838; stroke-width: 1.0;\"/><polygon fill=\"#FFFFFF\" points=\"168,523.71,161,504.71,175,504.71,168,523.71\" style=\"stroke: #383838; stroke-width: 1.0;\"/><ellipse cx=\"163\" cy=\"499.01\" fill=\"#383838\" rx=\"2\" ry=\"2\" style=\"stroke: #383838; stroke-width: 1.0;\"/><ellipse cx=\"173\" cy=\"499.01\" fill=\"#383838\" rx=\"2\" ry=\"2\" style=\"stroke: #383838; stroke-width: 1.0;\"/></a><!--MD5=[f667431f98296947986a1a7595a31603]\n",
       "link E6 to E4--><a href=\"psysml:b31b3f2c-80ab-44f0-a26e-d801559af683\" target=\"_top\" title=\"psysml:b31b3f2c-80ab-44f0-a26e-d801559af683\" xlink:actuate=\"onRequest\" xlink:href=\"psysml:b31b3f2c-80ab-44f0-a26e-d801559af683\" xlink:show=\"new\" xlink:title=\"psysml:b31b3f2c-80ab-44f0-a26e-d801559af683\" xlink:type=\"simple\"><path d=\"M182.95,155.03 C182.26,167.77 181.52,181.45 180.8,194.69 \" fill=\"none\" id=\"E6-&gt;E4\" style=\"stroke: #383838; stroke-width: 1.0;\"/><polygon fill=\"none\" points=\"187.77,195.32,179.7,214.91,173.79,194.56,187.77,195.32\" style=\"stroke: #383838; stroke-width: 1.0;\"/></a><!--MD5=[32ec512c53738df6c9a906edf7f86484]\n",
       "@startuml\r\n",
       "skinparam monochrome true\r\n",
       "skinparam classbackgroundcolor white\r\n",
       "skinparam shadowing false\r\n",
       "skinparam wrapWidth 300\r\n",
       "hide circle\r\n",
       "\r\n",
       "package \"MassRollup\" as E1  [[psysml:93cce498-741b-46da-9a76-47f8a90b0e87 ]]  {\r\n",
       "comp def \"MassedThing\" as E2  <<(T,blue)part def>> [[psysml:2bfc4bf5-5785-4629-99c8-bf06d3584a79 ]] {\r\n",
       "- - attributes - -\r\n",
       "mass\r\n",
       "totalMass\r\n",
       "}\r\n",
       "comp usage \"simpleThing: MassedThing\" as E3  <<(T,blue)part>> [[psysml:d9d69a25-c21e-4c46-a572-d7b139b6ee26 ]] {\r\n",
       "- - attributes - -\r\n",
       "totalMass=mass; \\n//:>>MassedThing::totalMass// \r\n",
       "}\r\n",
       "comp usage \"compositeThing: MassedThing\" as E4  <<(T,blue)part>> [[psysml:343123b1-0808-41d0-8b17-a6ebb6acc0cb ]] {\r\n",
       "- - attributes - -\r\n",
       "totalMass=mass + (subcomponents->collect p:MassedThing (p::totalMass)->reduce '+' ?? 0.0); \\n//:>>MassedThing::totalMass// \r\n",
       "}\r\n",
       "comp usage \"subcomponents: MassedThing\" as E5  <<(T,blue)part>> [[psysml:09cd1f28-daf0-4d0d-a972-b9bf2a18e992 ]] {\r\n",
       "}\r\n",
       "comp usage \"filteredMassThing\" as E6  <<(T,blue)part>> [[psysml:b3309114-4b2b-46b3-9f4f-dc695177bad1 ]] {\r\n",
       "- - attributes - -\r\n",
       "minMass\r\n",
       "totalMass=(./subcomponents/mass[p (p > minMass)])->reduce '+' ?? 0.0; \\n//:>>MassedThing::totalMass// \r\n",
       "}\r\n",
       "E3 - -:|> E2 [[psysml:b7a37c04-3b7e-4fde-bcd3-8ff7c74e6a20 ]] \r\n",
       "E4 - -:|> E2 [[psysml:9348166f-8cea-4d7c-a96d-6192465a705e ]] \r\n",
       "E4 *- - \"*\"E5 [[psysml:94e091d2-0286-4211-8181-aedc46ba16d2 ]] \r\n",
       "E5 - -:|> E2 [[psysml:dc08c53a-a0f0-4000-a138-cf80983e3afa ]] \r\n",
       "E6 - -|> E4 [[psysml:b31b3f2c-80ab-44f0-a26e-d801559af683 ]] \r\n",
       "}\r\n",
       "@enduml\r\n",
       "\n",
       "PlantUML version 1.2020.13(Sat Jun 13 12:26:38 UTC 2020)\n",
       "(EPL source distribution)\n",
       "Java Runtime: OpenJDK Runtime Environment\n",
       "JVM: OpenJDK 64-Bit Server VM\n",
       "Default Encoding: UTF-8\n",
       "Language: en\n",
       "Country: null\n",
       "--></g></svg>"
      ]
     },
     "execution_count": 38,
     "metadata": {},
     "output_type": "execute_result"
    }
   ],
   "source": [
    "%viz --style=\"DEFAULT\" --view=\"Tree\" \"MassRollup\""
   ]
  },
  {
   "cell_type": "code",
   "execution_count": 39,
   "id": "5272709e",
   "metadata": {
    "execution": {
     "iopub.execute_input": "2021-04-20T07:26:59.718851Z",
     "iopub.status.busy": "2021-04-20T07:26:59.717505Z",
     "iopub.status.idle": "2021-04-20T07:26:59.730661Z",
     "shell.execute_reply": "2021-04-20T07:26:59.730152Z"
    }
   },
   "outputs": [
    {
     "data": {
      "image/svg+xml": [
       "<?xml version=\"1.0\" encoding=\"UTF-8\" standalone=\"no\"?><svg xmlns=\"http://www.w3.org/2000/svg\" xmlns:xlink=\"http://www.w3.org/1999/xlink\" contentScriptType=\"application/ecmascript\" contentStyleType=\"text/css\" height=\"12px\" preserveAspectRatio=\"none\" style=\"width:12px;height:12px;\" version=\"1.1\" viewBox=\"0 0 12 12\" width=\"12px\" zoomAndPan=\"magnify\"><defs/><g><!--MD5=[c5f280e076d0d61ccf4b0f27871bda1d]\n",
       "@startuml\r\n",
       "skinparam monochrome true\r\n",
       "skinparam classbackgroundcolor white\r\n",
       "skinparam shadowing false\r\n",
       "skinparam wrapWidth 300\r\n",
       "hide circle\r\n",
       "\r\n",
       "@enduml\r\n",
       "\n",
       "PlantUML version 1.2020.13(Sat Jun 13 12:26:38 UTC 2020)\n",
       "(EPL source distribution)\n",
       "Java Runtime: OpenJDK Runtime Environment\n",
       "JVM: OpenJDK 64-Bit Server VM\n",
       "Default Encoding: UTF-8\n",
       "Language: en\n",
       "Country: null\n",
       "--></g></svg>"
      ]
     },
     "execution_count": 39,
     "metadata": {},
     "output_type": "execute_result"
    }
   ],
   "source": [
    "%viz --style=\"DEFAULT\" --view=\"State\" \"MassRollup\""
   ]
  },
  {
   "cell_type": "code",
   "execution_count": 40,
   "id": "e497ffa3",
   "metadata": {
    "execution": {
     "iopub.execute_input": "2021-04-20T07:26:59.783835Z",
     "iopub.status.busy": "2021-04-20T07:26:59.781849Z",
     "iopub.status.idle": "2021-04-20T07:26:59.849632Z",
     "shell.execute_reply": "2021-04-20T07:26:59.846577Z"
    }
   },
   "outputs": [
    {
     "data": {
      "image/svg+xml": [
       "<?xml version=\"1.0\" encoding=\"UTF-8\" standalone=\"no\"?><svg xmlns=\"http://www.w3.org/2000/svg\" xmlns:xlink=\"http://www.w3.org/1999/xlink\" contentScriptType=\"application/ecmascript\" contentStyleType=\"text/css\" height=\"319px\" preserveAspectRatio=\"none\" style=\"width:911px;height:319px;\" version=\"1.1\" viewBox=\"0 0 911 319\" width=\"911px\" zoomAndPan=\"magnify\"><defs/><g><!--MD5=[fbc87193dbaf4d95561dea2c320d4a47]\n",
       "cluster E1--><a href=\"psysml:93cce498-741b-46da-9a76-47f8a90b0e87\" target=\"_top\" title=\"psysml:93cce498-741b-46da-9a76-47f8a90b0e87\" xlink:actuate=\"onRequest\" xlink:href=\"psysml:93cce498-741b-46da-9a76-47f8a90b0e87\" xlink:show=\"new\" xlink:title=\"psysml:93cce498-741b-46da-9a76-47f8a90b0e87\" xlink:type=\"simple\"><polygon fill=\"#FFFFFF\" points=\"16,6,110,6,117,28.2969,889,28.2969,889,307,16,307,16,6\" style=\"stroke: #000000; stroke-width: 1.5;\"/><line style=\"stroke: #000000; stroke-width: 1.5;\" x1=\"16\" x2=\"117\" y1=\"28.2969\" y2=\"28.2969\"/><text fill=\"#000000\" font-family=\"sans-serif\" font-size=\"14\" font-weight=\"bold\" lengthAdjust=\"spacingAndGlyphs\" textLength=\"88\" x=\"20\" y=\"20.9951\">MassRollup</text></a><!--MD5=[e4f7fae6ed58524ba242bb0b0d3be6b7]\n",
       "cluster E2--><a href=\"psysml:2bfc4bf5-5785-4629-99c8-bf06d3584a79\" target=\"_top\" title=\"psysml:2bfc4bf5-5785-4629-99c8-bf06d3584a79\" xlink:actuate=\"onRequest\" xlink:href=\"psysml:2bfc4bf5-5785-4629-99c8-bf06d3584a79\" xlink:show=\"new\" xlink:title=\"psysml:2bfc4bf5-5785-4629-99c8-bf06d3584a79\" xlink:type=\"simple\"><rect fill=\"#FFFFFF\" height=\"113\" id=\"E2\" style=\"stroke: #383838; stroke-width: 1.5;\" width=\"210\" x=\"511\" y=\"170\"/><rect fill=\"#F8F8F8\" height=\"37.9375\" style=\"stroke: #383838; stroke-width: 1.5;\" width=\"210\" x=\"511\" y=\"170\"/><text fill=\"#000000\" font-family=\"sans-serif\" font-size=\"12\" font-style=\"italic\" lengthAdjust=\"spacingAndGlyphs\" textLength=\"64\" x=\"584\" y=\"186.1387\">«part def»</text><text fill=\"#000000\" font-family=\"sans-serif\" font-size=\"12\" lengthAdjust=\"spacingAndGlyphs\" textLength=\"82\" x=\"575\" y=\"200.1074\">MassedThing</text></a><!--MD5=[de5ec2e2e8f62f467e546659f5068c88]\n",
       "cluster E5--><a href=\"psysml:d9d69a25-c21e-4c46-a572-d7b139b6ee26\" target=\"_top\" title=\"psysml:d9d69a25-c21e-4c46-a572-d7b139b6ee26\" xlink:actuate=\"onRequest\" xlink:href=\"psysml:d9d69a25-c21e-4c46-a572-d7b139b6ee26\" xlink:show=\"new\" xlink:title=\"psysml:d9d69a25-c21e-4c46-a572-d7b139b6ee26\" xlink:type=\"simple\"><rect fill=\"#FFFFFF\" height=\"97\" id=\"E5\" rx=\"10\" ry=\"10\" style=\"stroke: #383838; stroke-width: 1.5;\" width=\"226\" x=\"639\" y=\"49\"/><rect fill=\"#F8F8F8\" height=\"23.9688\" rx=\"10\" ry=\"10\" style=\"stroke: #F8F8F8; stroke-width: 1.5;\" width=\"226\" x=\"639\" y=\"49\"/><rect fill=\"#F8F8F8\" height=\"10\" style=\"stroke: #F8F8F8; stroke-width: 1.5;\" width=\"226\" x=\"639\" y=\"62.9688\"/><rect fill=\"none\" height=\"97\" id=\"E5\" rx=\"10\" ry=\"10\" style=\"stroke: #383838; stroke-width: 1.5;\" width=\"226\" x=\"639\" y=\"49\"/><text fill=\"#000000\" font-family=\"sans-serif\" font-size=\"12\" lengthAdjust=\"spacingAndGlyphs\" textLength=\"164\" x=\"670\" y=\"65.1387\">simpleThing: MassedThing</text><line style=\"stroke: #383838; stroke-width: 1.0;\" x1=\"639\" x2=\"865\" y1=\"72.9688\" y2=\"72.9688\"/></a><!--MD5=[168fadf3d0c3fd93dd5d6da1b1d7ab76]\n",
       "cluster E7--><a href=\"psysml:343123b1-0808-41d0-8b17-a6ebb6acc0cb\" target=\"_top\" title=\"psysml:343123b1-0808-41d0-8b17-a6ebb6acc0cb\" xlink:actuate=\"onRequest\" xlink:href=\"psysml:343123b1-0808-41d0-8b17-a6ebb6acc0cb\" xlink:show=\"new\" xlink:title=\"psysml:343123b1-0808-41d0-8b17-a6ebb6acc0cb\" xlink:type=\"simple\"><rect fill=\"#FFFFFF\" height=\"97\" id=\"E7\" rx=\"10\" ry=\"10\" style=\"stroke: #383838; stroke-width: 1.5;\" width=\"341\" x=\"274\" y=\"49\"/><rect fill=\"#F8F8F8\" height=\"23.9688\" rx=\"10\" ry=\"10\" style=\"stroke: #F8F8F8; stroke-width: 1.5;\" width=\"341\" x=\"274\" y=\"49\"/><rect fill=\"#F8F8F8\" height=\"10\" style=\"stroke: #F8F8F8; stroke-width: 1.5;\" width=\"341\" x=\"274\" y=\"62.9688\"/><rect fill=\"none\" height=\"97\" id=\"E7\" rx=\"10\" ry=\"10\" style=\"stroke: #383838; stroke-width: 1.5;\" width=\"341\" x=\"274\" y=\"49\"/><text fill=\"#000000\" font-family=\"sans-serif\" font-size=\"12\" lengthAdjust=\"spacingAndGlyphs\" textLength=\"189\" x=\"350\" y=\"65.1387\">compositeThing: MassedThing</text><line style=\"stroke: #383838; stroke-width: 1.0;\" x1=\"274\" x2=\"615\" y1=\"72.9688\" y2=\"72.9688\"/></a><!--MD5=[a84b4591f868c1fa4a211716a82f2f0d]\n",
       "cluster E10--><a href=\"psysml:b3309114-4b2b-46b3-9f4f-dc695177bad1\" target=\"_top\" title=\"psysml:b3309114-4b2b-46b3-9f4f-dc695177bad1\" xlink:actuate=\"onRequest\" xlink:href=\"psysml:b3309114-4b2b-46b3-9f4f-dc695177bad1\" xlink:show=\"new\" xlink:title=\"psysml:b3309114-4b2b-46b3-9f4f-dc695177bad1\" xlink:type=\"simple\"><rect fill=\"#FFFFFF\" height=\"97\" id=\"E10\" rx=\"10\" ry=\"10\" style=\"stroke: #383838; stroke-width: 1.5;\" width=\"210\" x=\"40\" y=\"49\"/><rect fill=\"#F8F8F8\" height=\"23.9688\" rx=\"10\" ry=\"10\" style=\"stroke: #F8F8F8; stroke-width: 1.5;\" width=\"210\" x=\"40\" y=\"49\"/><rect fill=\"#F8F8F8\" height=\"10\" style=\"stroke: #F8F8F8; stroke-width: 1.5;\" width=\"210\" x=\"40\" y=\"62.9688\"/><rect fill=\"none\" height=\"97\" id=\"E10\" rx=\"10\" ry=\"10\" style=\"stroke: #383838; stroke-width: 1.5;\" width=\"210\" x=\"40\" y=\"49\"/><text fill=\"#000000\" font-family=\"sans-serif\" font-size=\"12\" lengthAdjust=\"spacingAndGlyphs\" textLength=\"110\" x=\"90\" y=\"65.1387\">filteredMassThing</text><line style=\"stroke: #383838; stroke-width: 1.0;\" x1=\"40\" x2=\"250\" y1=\"72.9688\" y2=\"72.9688\"/></a><!--MD5=[09b614a08d8cba4a07c9adeb5e0fee81]\n",
       "class E3--><a href=\"psysml:61227fbe-a3c3-436a-919d-ba064597e112\" target=\"_top\" title=\"psysml:61227fbe-a3c3-436a-919d-ba064597e112\" xlink:actuate=\"onRequest\" xlink:href=\"psysml:61227fbe-a3c3-436a-919d-ba064597e112\" xlink:show=\"new\" xlink:title=\"psysml:61227fbe-a3c3-436a-919d-ba064597e112\" xlink:type=\"simple\"><rect fill=\"#FFFFFF\" height=\"45.9375\" id=\"E3\" rx=\"10\" ry=\"10\" style=\"stroke: #383838; stroke-width: 1.5;\" width=\"71\" x=\"633.5\" y=\"221\"/><text fill=\"#000000\" font-family=\"sans-serif\" font-size=\"12\" font-style=\"italic\" lengthAdjust=\"spacingAndGlyphs\" textLength=\"69\" x=\"634.5\" y=\"237.1387\">«attribute»</text><text fill=\"#000000\" font-family=\"sans-serif\" font-size=\"12\" lengthAdjust=\"spacingAndGlyphs\" textLength=\"33\" x=\"652.5\" y=\"251.1074\">mass</text><line style=\"stroke: #383838; stroke-width: 1.5;\" x1=\"634.5\" x2=\"703.5\" y1=\"258.9375\" y2=\"258.9375\"/></a><!--MD5=[ebbe1d658d1005bcc118a6aa81145e00]\n",
       "class E4--><a href=\"psysml:bca4197d-355d-4faa-812b-dbfc0b076639\" target=\"_top\" title=\"psysml:bca4197d-355d-4faa-812b-dbfc0b076639\" xlink:actuate=\"onRequest\" xlink:href=\"psysml:bca4197d-355d-4faa-812b-dbfc0b076639\" xlink:show=\"new\" xlink:title=\"psysml:bca4197d-355d-4faa-812b-dbfc0b076639\" xlink:type=\"simple\"><rect fill=\"#FFFFFF\" height=\"45.9375\" id=\"E4\" rx=\"10\" ry=\"10\" style=\"stroke: #383838; stroke-width: 1.5;\" width=\"71\" x=\"527.5\" y=\"221\"/><text fill=\"#000000\" font-family=\"sans-serif\" font-size=\"12\" font-style=\"italic\" lengthAdjust=\"spacingAndGlyphs\" textLength=\"69\" x=\"528.5\" y=\"237.1387\">«attribute»</text><text fill=\"#000000\" font-family=\"sans-serif\" font-size=\"12\" lengthAdjust=\"spacingAndGlyphs\" textLength=\"61\" x=\"532.5\" y=\"251.1074\">totalMass</text><line style=\"stroke: #383838; stroke-width: 1.5;\" x1=\"528.5\" x2=\"597.5\" y1=\"258.9375\" y2=\"258.9375\"/></a><!--MD5=[60a26617385b1d2d0262a64233df1f8d]\n",
       "class E6--><a href=\"psysml:5dd4dd8f-7a34-4faa-ae4e-b0f44a463cf1\" target=\"_top\" title=\"psysml:5dd4dd8f-7a34-4faa-ae4e-b0f44a463cf1\" xlink:actuate=\"onRequest\" xlink:href=\"psysml:5dd4dd8f-7a34-4faa-ae4e-b0f44a463cf1\" xlink:show=\"new\" xlink:title=\"psysml:5dd4dd8f-7a34-4faa-ae4e-b0f44a463cf1\" xlink:type=\"simple\"><rect fill=\"#FFFFFF\" height=\"45.9375\" id=\"E6\" rx=\"10\" ry=\"10\" style=\"stroke: #383838; stroke-width: 1.5;\" width=\"71\" x=\"655.5\" y=\"84\"/><text fill=\"#000000\" font-family=\"sans-serif\" font-size=\"12\" font-style=\"italic\" lengthAdjust=\"spacingAndGlyphs\" textLength=\"69\" x=\"656.5\" y=\"100.1387\">«attribute»</text><text fill=\"#000000\" font-family=\"sans-serif\" font-size=\"12\" lengthAdjust=\"spacingAndGlyphs\" textLength=\"61\" x=\"660.5\" y=\"114.1074\">totalMass</text><line style=\"stroke: #383838; stroke-width: 1.5;\" x1=\"656.5\" x2=\"725.5\" y1=\"121.9375\" y2=\"121.9375\"/></a><!--MD5=[fd4143e9d270a159db93a4ea2a975926]\n",
       "class E9--><a href=\"psysml:cdf15466-8892-46e6-adfe-254829aa90b9\" target=\"_top\" title=\"psysml:cdf15466-8892-46e6-adfe-254829aa90b9\" xlink:actuate=\"onRequest\" xlink:href=\"psysml:cdf15466-8892-46e6-adfe-254829aa90b9\" xlink:show=\"new\" xlink:title=\"psysml:cdf15466-8892-46e6-adfe-254829aa90b9\" xlink:type=\"simple\"><rect fill=\"#FFFFFF\" height=\"45.9375\" id=\"E9\" rx=\"10\" ry=\"10\" style=\"stroke: #383838; stroke-width: 1.5;\" width=\"71\" x=\"527.5\" y=\"84\"/><text fill=\"#000000\" font-family=\"sans-serif\" font-size=\"12\" font-style=\"italic\" lengthAdjust=\"spacingAndGlyphs\" textLength=\"69\" x=\"528.5\" y=\"100.1387\">«attribute»</text><text fill=\"#000000\" font-family=\"sans-serif\" font-size=\"12\" lengthAdjust=\"spacingAndGlyphs\" textLength=\"61\" x=\"532.5\" y=\"114.1074\">totalMass</text><line style=\"stroke: #383838; stroke-width: 1.5;\" x1=\"528.5\" x2=\"597.5\" y1=\"121.9375\" y2=\"121.9375\"/></a><g id=\"E1.E7.E8\"><a href=\"psysml:09cd1f28-daf0-4d0d-a972-b9bf2a18e992\" target=\"_top\" title=\"psysml:09cd1f28-daf0-4d0d-a972-b9bf2a18e992\" xlink:actuate=\"onRequest\" xlink:href=\"psysml:09cd1f28-daf0-4d0d-a972-b9bf2a18e992\" xlink:show=\"new\" xlink:title=\"psysml:09cd1f28-daf0-4d0d-a972-b9bf2a18e992\" xlink:type=\"simple\"><rect fill=\"#FFFFFF\" height=\"40\" id=\"E8\" rx=\"10\" ry=\"10\" style=\"stroke: #383838; stroke-width: 1.5;\" width=\"202\" x=\"290\" y=\"87\"/><rect fill=\"#F8F8F8\" height=\"23.9688\" rx=\"10\" ry=\"10\" style=\"stroke: #F8F8F8; stroke-width: 1.5;\" width=\"202\" x=\"290\" y=\"87\"/><rect fill=\"#F8F8F8\" height=\"10\" style=\"stroke: #F8F8F8; stroke-width: 1.5;\" width=\"202\" x=\"290\" y=\"100.9688\"/><rect fill=\"none\" height=\"40\" id=\"E8\" rx=\"10\" ry=\"10\" style=\"stroke: #383838; stroke-width: 1.5;\" width=\"202\" x=\"290\" y=\"87\"/><text fill=\"#000000\" font-family=\"sans-serif\" font-size=\"12\" lengthAdjust=\"spacingAndGlyphs\" textLength=\"191\" x=\"295.5\" y=\"103.1387\">subcomponents: MassedThing</text></a></g><!--MD5=[1dd1bfd58a279cf63c5f349dbc8fc6a1]\n",
       "class E11--><a href=\"psysml:a48dd455-5237-4be3-af61-27e5094ede20\" target=\"_top\" title=\"psysml:a48dd455-5237-4be3-af61-27e5094ede20\" xlink:actuate=\"onRequest\" xlink:href=\"psysml:a48dd455-5237-4be3-af61-27e5094ede20\" xlink:show=\"new\" xlink:title=\"psysml:a48dd455-5237-4be3-af61-27e5094ede20\" xlink:type=\"simple\"><rect fill=\"#FFFFFF\" height=\"45.9375\" id=\"E11\" rx=\"10\" ry=\"10\" style=\"stroke: #383838; stroke-width: 1.5;\" width=\"71\" x=\"162.5\" y=\"84\"/><text fill=\"#000000\" font-family=\"sans-serif\" font-size=\"12\" font-style=\"italic\" lengthAdjust=\"spacingAndGlyphs\" textLength=\"69\" x=\"163.5\" y=\"100.1387\">«attribute»</text><text fill=\"#000000\" font-family=\"sans-serif\" font-size=\"12\" lengthAdjust=\"spacingAndGlyphs\" textLength=\"54\" x=\"171\" y=\"114.1074\">minMass</text><line style=\"stroke: #383838; stroke-width: 1.5;\" x1=\"163.5\" x2=\"232.5\" y1=\"121.9375\" y2=\"121.9375\"/></a><!--MD5=[49a0ec8f00dab7302a31f22d0f0fe584]\n",
       "class E12--><a href=\"psysml:30a4b720-38dc-4ed2-81db-b244fb944fc9\" target=\"_top\" title=\"psysml:30a4b720-38dc-4ed2-81db-b244fb944fc9\" xlink:actuate=\"onRequest\" xlink:href=\"psysml:30a4b720-38dc-4ed2-81db-b244fb944fc9\" xlink:show=\"new\" xlink:title=\"psysml:30a4b720-38dc-4ed2-81db-b244fb944fc9\" xlink:type=\"simple\"><rect fill=\"#FFFFFF\" height=\"45.9375\" id=\"E12\" rx=\"10\" ry=\"10\" style=\"stroke: #383838; stroke-width: 1.5;\" width=\"71\" x=\"56.5\" y=\"84\"/><text fill=\"#000000\" font-family=\"sans-serif\" font-size=\"12\" font-style=\"italic\" lengthAdjust=\"spacingAndGlyphs\" textLength=\"69\" x=\"57.5\" y=\"100.1387\">«attribute»</text><text fill=\"#000000\" font-family=\"sans-serif\" font-size=\"12\" lengthAdjust=\"spacingAndGlyphs\" textLength=\"61\" x=\"61.5\" y=\"114.1074\">totalMass</text><line style=\"stroke: #383838; stroke-width: 1.5;\" x1=\"57.5\" x2=\"126.5\" y1=\"121.9375\" y2=\"121.9375\"/></a><!--MD5=[f667431f98296947986a1a7595a31603]\n",
       "link E6 to E4--><a href=\"psysml:45db29a4-a6b7-4500-b8a0-ae6511957b42\" target=\"_top\" title=\"psysml:45db29a4-a6b7-4500-b8a0-ae6511957b42\" xlink:actuate=\"onRequest\" xlink:href=\"psysml:45db29a4-a6b7-4500-b8a0-ae6511957b42\" xlink:show=\"new\" xlink:title=\"psysml:45db29a4-a6b7-4500-b8a0-ae6511957b42\" xlink:type=\"simple\"><path d=\"M655.27,129.75 C642.07,138.77 627.53,149.94 616,162 C604.21,174.33 593.43,189.62 584.73,203.58 \" fill=\"none\" id=\"E6-&gt;E4\" style=\"stroke: #383838; stroke-width: 1.0;\"/><polygon fill=\"#FFFFFF\" points=\"574.55,220.81,578.1693,200.8876,590.2295,207.9977,574.55,220.81\" style=\"stroke: #383838; stroke-width: 1.0;\"/><line style=\"stroke: #383838; stroke-width: 2.0;\" x1=\"580.0992\" x2=\"592.1593\" y1=\"197.6142\" y2=\"204.7243\"/></a><!--MD5=[c2be97adba6ddfe1c8f349fab141c927]\n",
       "link E9 to E4--><a href=\"psysml:37d702c0-130d-4d04-819a-f2439f71afff\" target=\"_top\" title=\"psysml:37d702c0-130d-4d04-819a-f2439f71afff\" xlink:actuate=\"onRequest\" xlink:href=\"psysml:37d702c0-130d-4d04-819a-f2439f71afff\" xlink:show=\"new\" xlink:title=\"psysml:37d702c0-130d-4d04-819a-f2439f71afff\" xlink:type=\"simple\"><path d=\"M563,130.29 C563,149.35 563,177.29 563,200.59 \" fill=\"none\" id=\"E9-&gt;E4\" style=\"stroke: #383838; stroke-width: 1.0;\"/><polygon fill=\"#FFFFFF\" points=\"563,220.67,556,201.67,570,201.67,563,220.67\" style=\"stroke: #383838; stroke-width: 1.0;\"/><line style=\"stroke: #383838; stroke-width: 2.0;\" x1=\"556\" x2=\"570\" y1=\"197.87\" y2=\"197.87\"/></a><!--MD5=[8eb720c440db06832f98fefdd34bbf11]\n",
       "link E12 to E4--><a href=\"psysml:c9530ed5-65d1-46ac-ab61-a00231b23eba\" target=\"_top\" title=\"psysml:c9530ed5-65d1-46ac-ab61-a00231b23eba\" xlink:actuate=\"onRequest\" xlink:href=\"psysml:c9530ed5-65d1-46ac-ab61-a00231b23eba\" xlink:show=\"new\" xlink:title=\"psysml:c9530ed5-65d1-46ac-ab61-a00231b23eba\" xlink:type=\"simple\"><path d=\"M112.6,130.22 C121.74,138.86 133.11,148.08 145,154 C265.22,213.91 424.44,233.59 507.38,239.99 \" fill=\"none\" id=\"E12-&gt;E4\" style=\"stroke: #383838; stroke-width: 1.0;\"/><polygon fill=\"#FFFFFF\" points=\"527.47,241.39,508.0267,247.0433,509.0064,233.0776,527.47,241.39\" style=\"stroke: #383838; stroke-width: 1.0;\"/><line style=\"stroke: #383838; stroke-width: 2.0;\" x1=\"504.236\" x2=\"505.2157\" y1=\"246.7773\" y2=\"232.8117\"/></a><!--MD5=[11f1f5080687b5f8e152c8c0f0fb67ad]\n",
       "@startuml\r\n",
       "skinparam ranksep 10\r\n",
       "skinparam rectangle {\r\n",
       " backgroundColor<<block>> LightGreen\r\n",
       "}\r\n",
       "skinparam monochrome true\r\n",
       "skinparam classbackgroundcolor white\r\n",
       "skinparam shadowing false\r\n",
       "skinparam wrapWidth 300\r\n",
       "hide circle\r\n",
       "\r\n",
       "package \"MassRollup\" as E1  [[psysml:93cce498-741b-46da-9a76-47f8a90b0e87 ]]  {\r\n",
       "rec def \"MassedThing\" as E2  <<(T,blue)part def>> [[psysml:2bfc4bf5-5785-4629-99c8-bf06d3584a79 ]] {\r\n",
       "comp usage \"mass\" as E3  <<(T,blue)attribute>> [[psysml:61227fbe-a3c3-436a-919d-ba064597e112 ]] {\r\n",
       "}\r\n",
       "comp usage \"totalMass\" as E4  <<(T,blue)attribute>> [[psysml:bca4197d-355d-4faa-812b-dbfc0b076639 ]] {\r\n",
       "}\r\n",
       "}\r\n",
       "rec usage \"simpleThing: MassedThing\" as E5  [[psysml:d9d69a25-c21e-4c46-a572-d7b139b6ee26 ]] {\r\n",
       "comp usage \"totalMass\" as E6  <<(T,blue)attribute>> [[psysml:5dd4dd8f-7a34-4faa-ae4e-b0f44a463cf1 ]] {\r\n",
       "}\r\n",
       "}\r\n",
       "rec usage \"compositeThing: MassedThing\" as E7  [[psysml:343123b1-0808-41d0-8b17-a6ebb6acc0cb ]] {\r\n",
       "rec usage \"subcomponents: MassedThing\" as E8  [[psysml:09cd1f28-daf0-4d0d-a972-b9bf2a18e992 ]] {\r\n",
       "}\r\n",
       "comp usage \"totalMass\" as E9  <<(T,blue)attribute>> [[psysml:cdf15466-8892-46e6-adfe-254829aa90b9 ]] {\r\n",
       "}\r\n",
       "}\r\n",
       "rec usage \"filteredMassThing\" as E10  [[psysml:b3309114-4b2b-46b3-9f4f-dc695177bad1 ]] {\r\n",
       "comp usage \"minMass\" as E11  <<(T,blue)attribute>> [[psysml:a48dd455-5237-4be3-af61-27e5094ede20 ]] {\r\n",
       "}\r\n",
       "comp usage \"totalMass\" as E12  <<(T,blue)attribute>> [[psysml:30a4b720-38dc-4ed2-81db-b244fb944fc9 ]] {\r\n",
       "}\r\n",
       "}\r\n",
       "E6 - -||> E4 [[psysml:45db29a4-a6b7-4500-b8a0-ae6511957b42 ]] \r\n",
       "E9 - -||> E4 [[psysml:37d702c0-130d-4d04-819a-f2439f71afff ]] \r\n",
       "E12 - -||> E4 [[psysml:c9530ed5-65d1-46ac-ab61-a00231b23eba ]] \r\n",
       "}\r\n",
       "@enduml\r\n",
       "\n",
       "PlantUML version 1.2020.13(Sat Jun 13 12:26:38 UTC 2020)\n",
       "(EPL source distribution)\n",
       "Java Runtime: OpenJDK Runtime Environment\n",
       "JVM: OpenJDK 64-Bit Server VM\n",
       "Default Encoding: UTF-8\n",
       "Language: en\n",
       "Country: null\n",
       "--></g></svg>"
      ]
     },
     "execution_count": 40,
     "metadata": {},
     "output_type": "execute_result"
    }
   ],
   "source": [
    "%viz --style=\"DEFAULT\" --view=\"Interconnection\" \"MassRollup\""
   ]
  },
  {
   "cell_type": "code",
   "execution_count": 41,
   "id": "8ea80d72",
   "metadata": {
    "execution": {
     "iopub.execute_input": "2021-04-20T07:26:59.900533Z",
     "iopub.status.busy": "2021-04-20T07:26:59.900006Z",
     "iopub.status.idle": "2021-04-20T07:26:59.913096Z",
     "shell.execute_reply": "2021-04-20T07:26:59.911330Z"
    }
   },
   "outputs": [
    {
     "data": {
      "image/svg+xml": [
       "<?xml version=\"1.0\" encoding=\"UTF-8\" standalone=\"no\"?><svg xmlns=\"http://www.w3.org/2000/svg\" xmlns:xlink=\"http://www.w3.org/1999/xlink\" contentScriptType=\"application/ecmascript\" contentStyleType=\"text/css\" height=\"12px\" preserveAspectRatio=\"none\" style=\"width:12px;height:12px;\" version=\"1.1\" viewBox=\"0 0 12 12\" width=\"12px\" zoomAndPan=\"magnify\"><defs/><g><!--MD5=[388f21188e31bfdd97050473b19af356]\n",
       "@startuml\r\n",
       "skinparam ranksep 8\r\n",
       "skinparam monochrome true\r\n",
       "skinparam classbackgroundcolor white\r\n",
       "skinparam shadowing false\r\n",
       "skinparam wrapWidth 300\r\n",
       "hide circle\r\n",
       "\r\n",
       "@enduml\r\n",
       "\n",
       "PlantUML version 1.2020.13(Sat Jun 13 12:26:38 UTC 2020)\n",
       "(EPL source distribution)\n",
       "Java Runtime: OpenJDK Runtime Environment\n",
       "JVM: OpenJDK 64-Bit Server VM\n",
       "Default Encoding: UTF-8\n",
       "Language: en\n",
       "Country: null\n",
       "--></g></svg>"
      ]
     },
     "execution_count": 41,
     "metadata": {},
     "output_type": "execute_result"
    }
   ],
   "source": [
    "%viz --style=\"DEFAULT\" --view=\"Action\" \"MassRollup\""
   ]
  },
  {
   "cell_type": "code",
   "execution_count": 42,
   "id": "55f45058",
   "metadata": {
    "execution": {
     "iopub.execute_input": "2021-04-20T07:26:59.966045Z",
     "iopub.status.busy": "2021-04-20T07:26:59.965355Z",
     "iopub.status.idle": "2021-04-20T07:27:00.192195Z",
     "shell.execute_reply": "2021-04-20T07:27:00.188907Z"
    }
   },
   "outputs": [
    {
     "data": {
      "image/svg+xml": [
       "<?xml version=\"1.0\" encoding=\"UTF-8\" standalone=\"no\"?><svg xmlns=\"http://www.w3.org/2000/svg\" xmlns:xlink=\"http://www.w3.org/1999/xlink\" contentScriptType=\"application/ecmascript\" contentStyleType=\"text/css\" height=\"640px\" preserveAspectRatio=\"none\" style=\"width:512px;height:640px;\" version=\"1.1\" viewBox=\"0 0 512 640\" width=\"512px\" zoomAndPan=\"magnify\"><defs/><g><!--MD5=[fbc87193dbaf4d95561dea2c320d4a47]\n",
       "cluster E1--><a href=\"psysml:93cce498-741b-46da-9a76-47f8a90b0e87\" target=\"_top\" title=\"psysml:93cce498-741b-46da-9a76-47f8a90b0e87\" xlink:actuate=\"onRequest\" xlink:href=\"psysml:93cce498-741b-46da-9a76-47f8a90b0e87\" xlink:show=\"new\" xlink:title=\"psysml:93cce498-741b-46da-9a76-47f8a90b0e87\" xlink:type=\"simple\"><polygon fill=\"#FFFFFF\" points=\"16,6,110,6,117,28.2969,490,28.2969,490,628,16,628,16,6\" style=\"stroke: #000000; stroke-width: 1.5;\"/><line style=\"stroke: #000000; stroke-width: 1.5;\" x1=\"16\" x2=\"117\" y1=\"28.2969\" y2=\"28.2969\"/><text fill=\"#000000\" font-family=\"sans-serif\" font-size=\"14\" font-weight=\"bold\" lengthAdjust=\"spacingAndGlyphs\" textLength=\"88\" x=\"20\" y=\"20.9951\">MassRollup</text></a><!--MD5=[b4997ac47864f28c2f74865a473b2911]\n",
       "class E2--><a href=\"psysml:2bfc4bf5-5785-4629-99c8-bf06d3584a79\" target=\"_top\" title=\"psysml:2bfc4bf5-5785-4629-99c8-bf06d3584a79\" xlink:actuate=\"onRequest\" xlink:href=\"psysml:2bfc4bf5-5785-4629-99c8-bf06d3584a79\" xlink:show=\"new\" xlink:title=\"psysml:2bfc4bf5-5785-4629-99c8-bf06d3584a79\" xlink:type=\"simple\"><rect fill=\"#FFFFFF\" height=\"88.3516\" id=\"E2\" style=\"stroke: #383838; stroke-width: 1.5;\" width=\"88\" x=\"124\" y=\"524\"/><text fill=\"#000000\" font-family=\"sans-serif\" font-size=\"12\" font-style=\"italic\" lengthAdjust=\"spacingAndGlyphs\" textLength=\"64\" x=\"136\" y=\"540.1387\">«part def»</text><text fill=\"#000000\" font-family=\"sans-serif\" font-size=\"12\" lengthAdjust=\"spacingAndGlyphs\" textLength=\"82\" x=\"127\" y=\"554.1074\">MassedThing</text><line style=\"stroke: #383838; stroke-width: 1.5;\" x1=\"125\" x2=\"211\" y1=\"561.9375\" y2=\"561.9375\"/><text fill=\"#000000\" font-family=\"sans-serif\" font-size=\"11\" lengthAdjust=\"spacingAndGlyphs\" textLength=\"32\" x=\"130\" y=\"592.9526\">mass</text><text fill=\"#000000\" font-family=\"sans-serif\" font-size=\"11\" lengthAdjust=\"spacingAndGlyphs\" textLength=\"55\" x=\"130\" y=\"605.7573\">totalMass</text><line style=\"stroke: #383838; stroke-width: 1.0;\" x1=\"125\" x2=\"140.5\" y1=\"576.3398\" y2=\"576.3398\"/><text fill=\"#000000\" font-family=\"sans-serif\" font-size=\"11\" lengthAdjust=\"spacingAndGlyphs\" textLength=\"55\" x=\"140.5\" y=\"579.6479\">attributes</text><line style=\"stroke: #383838; stroke-width: 1.0;\" x1=\"195.5\" x2=\"211\" y1=\"576.3398\" y2=\"576.3398\"/></a><!--MD5=[09b614a08d8cba4a07c9adeb5e0fee81]\n",
       "class E3--><a href=\"psysml:d9d69a25-c21e-4c46-a572-d7b139b6ee26\" target=\"_top\" title=\"psysml:d9d69a25-c21e-4c46-a572-d7b139b6ee26\" xlink:actuate=\"onRequest\" xlink:href=\"psysml:d9d69a25-c21e-4c46-a572-d7b139b6ee26\" xlink:show=\"new\" xlink:title=\"psysml:d9d69a25-c21e-4c46-a572-d7b139b6ee26\" xlink:type=\"simple\"><rect fill=\"#FFFFFF\" height=\"88.3516\" id=\"E3\" rx=\"10\" ry=\"10\" style=\"stroke: #383838; stroke-width: 1.5;\" width=\"172\" x=\"302\" y=\"376\"/><text fill=\"#000000\" font-family=\"sans-serif\" font-size=\"12\" font-style=\"italic\" lengthAdjust=\"spacingAndGlyphs\" textLength=\"40\" x=\"368\" y=\"392.1387\">«part»</text><text fill=\"#000000\" font-family=\"sans-serif\" font-size=\"12\" lengthAdjust=\"spacingAndGlyphs\" textLength=\"164\" x=\"306\" y=\"406.1074\">simpleThing: MassedThing</text><line style=\"stroke: #383838; stroke-width: 1.5;\" x1=\"303\" x2=\"473\" y1=\"413.9375\" y2=\"413.9375\"/><text fill=\"#000000\" font-family=\"sans-serif\" font-size=\"11\" lengthAdjust=\"spacingAndGlyphs\" textLength=\"100\" x=\"308\" y=\"444.9526\">totalMass=mass;</text><text fill=\"#000000\" font-family=\"sans-serif\" font-size=\"11\" font-style=\"italic\" lengthAdjust=\"spacingAndGlyphs\" textLength=\"160\" x=\"308\" y=\"457.7573\">:&gt;&gt;MassedThing::totalMass</text><line style=\"stroke: #383838; stroke-width: 1.0;\" x1=\"303\" x2=\"360.5\" y1=\"428.3398\" y2=\"428.3398\"/><text fill=\"#000000\" font-family=\"sans-serif\" font-size=\"11\" lengthAdjust=\"spacingAndGlyphs\" textLength=\"55\" x=\"360.5\" y=\"431.6479\">attributes</text><line style=\"stroke: #383838; stroke-width: 1.0;\" x1=\"415.5\" x2=\"473\" y1=\"428.3398\" y2=\"428.3398\"/></a><!--MD5=[ebbe1d658d1005bcc118a6aa81145e00]\n",
       "class E4--><a href=\"psysml:343123b1-0808-41d0-8b17-a6ebb6acc0cb\" target=\"_top\" title=\"psysml:343123b1-0808-41d0-8b17-a6ebb6acc0cb\" xlink:actuate=\"onRequest\" xlink:href=\"psysml:343123b1-0808-41d0-8b17-a6ebb6acc0cb\" xlink:show=\"new\" xlink:title=\"psysml:343123b1-0808-41d0-8b17-a6ebb6acc0cb\" xlink:type=\"simple\"><rect fill=\"#FFFFFF\" height=\"101.1563\" id=\"E4\" rx=\"10\" ry=\"10\" style=\"stroke: #383838; stroke-width: 1.5;\" width=\"290\" x=\"32\" y=\"215\"/><text fill=\"#000000\" font-family=\"sans-serif\" font-size=\"12\" font-style=\"italic\" lengthAdjust=\"spacingAndGlyphs\" textLength=\"40\" x=\"157\" y=\"231.1387\">«part»</text><text fill=\"#000000\" font-family=\"sans-serif\" font-size=\"12\" lengthAdjust=\"spacingAndGlyphs\" textLength=\"189\" x=\"82.5\" y=\"245.1074\">compositeThing: MassedThing</text><line style=\"stroke: #383838; stroke-width: 1.5;\" x1=\"33\" x2=\"321\" y1=\"252.9375\" y2=\"252.9375\"/><text fill=\"#000000\" font-family=\"sans-serif\" font-size=\"11\" lengthAdjust=\"spacingAndGlyphs\" textLength=\"272\" x=\"38\" y=\"283.9526\">totalMass=mass + (subcomponents-&gt;collect p:</text><text fill=\"#000000\" font-family=\"sans-serif\" font-size=\"11\" lengthAdjust=\"spacingAndGlyphs\" textLength=\"274\" x=\"38\" y=\"296.7573\">MassedThing (p::totalMass)-&gt;reduce '+' ?? 0.0);</text><text fill=\"#000000\" font-family=\"sans-serif\" font-size=\"11\" font-style=\"italic\" lengthAdjust=\"spacingAndGlyphs\" textLength=\"160\" x=\"38\" y=\"309.562\">:&gt;&gt;MassedThing::totalMass</text><line style=\"stroke: #383838; stroke-width: 1.0;\" x1=\"33\" x2=\"149.5\" y1=\"267.3398\" y2=\"267.3398\"/><text fill=\"#000000\" font-family=\"sans-serif\" font-size=\"11\" lengthAdjust=\"spacingAndGlyphs\" textLength=\"55\" x=\"149.5\" y=\"270.6479\">attributes</text><line style=\"stroke: #383838; stroke-width: 1.0;\" x1=\"204.5\" x2=\"321\" y1=\"267.3398\" y2=\"267.3398\"/></a><!--MD5=[270fce915f116d4de14055a7c1d9a0f3]\n",
       "class E5--><a href=\"psysml:09cd1f28-daf0-4d0d-a972-b9bf2a18e992\" target=\"_top\" title=\"psysml:09cd1f28-daf0-4d0d-a972-b9bf2a18e992\" xlink:actuate=\"onRequest\" xlink:href=\"psysml:09cd1f28-daf0-4d0d-a972-b9bf2a18e992\" xlink:show=\"new\" xlink:title=\"psysml:09cd1f28-daf0-4d0d-a972-b9bf2a18e992\" xlink:type=\"simple\"><rect fill=\"#FFFFFF\" height=\"45.9375\" id=\"E5\" rx=\"10\" ry=\"10\" style=\"stroke: #383838; stroke-width: 1.5;\" width=\"197\" x=\"69.5\" y=\"397\"/><text fill=\"#000000\" font-family=\"sans-serif\" font-size=\"12\" font-style=\"italic\" lengthAdjust=\"spacingAndGlyphs\" textLength=\"40\" x=\"148\" y=\"413.1387\">«part»</text><text fill=\"#000000\" font-family=\"sans-serif\" font-size=\"12\" lengthAdjust=\"spacingAndGlyphs\" textLength=\"191\" x=\"72.5\" y=\"427.1074\">subcomponents: MassedThing</text><line style=\"stroke: #383838; stroke-width: 1.5;\" x1=\"70.5\" x2=\"265.5\" y1=\"434.9375\" y2=\"434.9375\"/></a><!--MD5=[60a26617385b1d2d0262a64233df1f8d]\n",
       "class E6--><a href=\"psysml:b3309114-4b2b-46b3-9f4f-dc695177bad1\" target=\"_top\" title=\"psysml:b3309114-4b2b-46b3-9f4f-dc695177bad1\" xlink:actuate=\"onRequest\" xlink:href=\"psysml:b3309114-4b2b-46b3-9f4f-dc695177bad1\" xlink:show=\"new\" xlink:title=\"psysml:b3309114-4b2b-46b3-9f4f-dc695177bad1\" xlink:type=\"simple\"><rect fill=\"#FFFFFF\" height=\"113.9609\" id=\"E6\" rx=\"10\" ry=\"10\" style=\"stroke: #383838; stroke-width: 1.5;\" width=\"309\" x=\"31.5\" y=\"41\"/><text fill=\"#000000\" font-family=\"sans-serif\" font-size=\"12\" font-style=\"italic\" lengthAdjust=\"spacingAndGlyphs\" textLength=\"40\" x=\"166\" y=\"57.1387\">«part»</text><text fill=\"#000000\" font-family=\"sans-serif\" font-size=\"12\" lengthAdjust=\"spacingAndGlyphs\" textLength=\"110\" x=\"131\" y=\"71.1074\">filteredMassThing</text><line style=\"stroke: #383838; stroke-width: 1.5;\" x1=\"32.5\" x2=\"339.5\" y1=\"78.9375\" y2=\"78.9375\"/><text fill=\"#000000\" font-family=\"sans-serif\" font-size=\"11\" lengthAdjust=\"spacingAndGlyphs\" textLength=\"51\" x=\"37.5\" y=\"109.9526\">minMass</text><text fill=\"#000000\" font-family=\"sans-serif\" font-size=\"11\" lengthAdjust=\"spacingAndGlyphs\" textLength=\"297\" x=\"37.5\" y=\"122.7573\">totalMass=(./subcomponents/mass[p (p &gt; minMass</text><text fill=\"#000000\" font-family=\"sans-serif\" font-size=\"11\" lengthAdjust=\"spacingAndGlyphs\" textLength=\"125\" x=\"37.5\" y=\"135.562\">)])-&gt;reduce '+' ?? 0.0;</text><text fill=\"#000000\" font-family=\"sans-serif\" font-size=\"11\" font-style=\"italic\" lengthAdjust=\"spacingAndGlyphs\" textLength=\"160\" x=\"37.5\" y=\"148.3667\">:&gt;&gt;MassedThing::totalMass</text><line style=\"stroke: #383838; stroke-width: 1.0;\" x1=\"32.5\" x2=\"158.5\" y1=\"93.3398\" y2=\"93.3398\"/><text fill=\"#000000\" font-family=\"sans-serif\" font-size=\"11\" lengthAdjust=\"spacingAndGlyphs\" textLength=\"55\" x=\"158.5\" y=\"96.6479\">attributes</text><line style=\"stroke: #383838; stroke-width: 1.0;\" x1=\"213.5\" x2=\"339.5\" y1=\"93.3398\" y2=\"93.3398\"/></a><!--MD5=[05d275557350bfb9b23a4ef7222b4c39]\n",
       "link E3 to E2--><a href=\"psysml:b7a37c04-3b7e-4fde-bcd3-8ff7c74e6a20\" target=\"_top\" title=\"psysml:b7a37c04-3b7e-4fde-bcd3-8ff7c74e6a20\" xlink:actuate=\"onRequest\" xlink:href=\"psysml:b7a37c04-3b7e-4fde-bcd3-8ff7c74e6a20\" xlink:show=\"new\" xlink:title=\"psysml:b7a37c04-3b7e-4fde-bcd3-8ff7c74e6a20\" xlink:type=\"simple\"><path d=\"M323.18,464.02 C293.44,483.75 258.37,507.03 229.1,526.45 \" fill=\"none\" id=\"E3-&gt;E2\" style=\"stroke: #383838; stroke-width: 1.0;\"/><polygon fill=\"#FFFFFF\" points=\"212.17,537.69,224.1349,521.3547,231.873,533.0219,212.17,537.69\" style=\"stroke: #383838; stroke-width: 1.0;\"/><ellipse cx=\"229.9905\" cy=\"519.871\" fill=\"#383838\" rx=\"2\" ry=\"2\" style=\"stroke: #383838; stroke-width: 1.0;\"/><ellipse cx=\"235.5178\" cy=\"528.2046\" fill=\"#383838\" rx=\"2\" ry=\"2\" style=\"stroke: #383838; stroke-width: 1.0;\"/></a><!--MD5=[185131fc0dcab0a4505a2ebe144e961b]\n",
       "link E4 to E2--><a href=\"psysml:9348166f-8cea-4d7c-a96d-6192465a705e\" target=\"_top\" title=\"psysml:9348166f-8cea-4d7c-a96d-6192465a705e\" xlink:actuate=\"onRequest\" xlink:href=\"psysml:9348166f-8cea-4d7c-a96d-6192465a705e\" xlink:show=\"new\" xlink:title=\"psysml:9348166f-8cea-4d7c-a96d-6192465a705e\" xlink:type=\"simple\"><path d=\"M99.7,316.2 C80.53,332.71 62.48,352.88 52,376 C35.85,411.62 35.97,428.33 52,464 C63.74,490.13 85.76,512.33 107.48,529.36 \" fill=\"none\" id=\"E4-&gt;E2\" style=\"stroke: #383838; stroke-width: 1.0;\"/><polygon fill=\"#FFFFFF\" points=\"123.86,541.35,104.3934,535.7776,112.6617,524.48,123.86,541.35\" style=\"stroke: #383838; stroke-width: 1.0;\"/><ellipse cx=\"100.9748\" cy=\"530.7973\" fill=\"#383838\" rx=\"2\" ry=\"2\" style=\"stroke: #383838; stroke-width: 1.0;\"/><ellipse cx=\"106.8807\" cy=\"522.7276\" fill=\"#383838\" rx=\"2\" ry=\"2\" style=\"stroke: #383838; stroke-width: 1.0;\"/></a><!--MD5=[62aa6af11e70f752912c1cb0466f24f7]\n",
       "reverse link E4 to E5--><a href=\"psysml:94e091d2-0286-4211-8181-aedc46ba16d2\" target=\"_top\" title=\"psysml:94e091d2-0286-4211-8181-aedc46ba16d2\" xlink:actuate=\"onRequest\" xlink:href=\"psysml:94e091d2-0286-4211-8181-aedc46ba16d2\" xlink:show=\"new\" xlink:title=\"psysml:94e091d2-0286-4211-8181-aedc46ba16d2\" xlink:type=\"simple\"><path d=\"M173.3,329.13 C171.88,353.21 170.35,379.16 169.3,396.96 \" fill=\"none\" id=\"E4&lt;-E5\" style=\"stroke: #383838; stroke-width: 1.0;\"/><polygon fill=\"#383838\" points=\"174.08,316.01,169.7309,321.762,173.3676,327.9888,177.7167,322.2369,174.08,316.01\" style=\"stroke: #383838; stroke-width: 1.0;\"/><text fill=\"#000000\" font-family=\"sans-serif\" font-size=\"13\" lengthAdjust=\"spacingAndGlyphs\" textLength=\"7\" x=\"161.7088\" y=\"385.8455\">*</text></a><!--MD5=[15ebcb19ae302d9b601edb458606d402]\n",
       "link E5 to E2--><a href=\"psysml:dc08c53a-a0f0-4000-a138-cf80983e3afa\" target=\"_top\" title=\"psysml:dc08c53a-a0f0-4000-a138-cf80983e3afa\" xlink:actuate=\"onRequest\" xlink:href=\"psysml:dc08c53a-a0f0-4000-a138-cf80983e3afa\" xlink:show=\"new\" xlink:title=\"psysml:dc08c53a-a0f0-4000-a138-cf80983e3afa\" xlink:type=\"simple\"><path d=\"M168,443.17 C168,459.31 168,482.04 168,503.62 \" fill=\"none\" id=\"E5-&gt;E2\" style=\"stroke: #383838; stroke-width: 1.0;\"/><polygon fill=\"#FFFFFF\" points=\"168,523.71,161,504.71,175,504.71,168,523.71\" style=\"stroke: #383838; stroke-width: 1.0;\"/><ellipse cx=\"163\" cy=\"499.01\" fill=\"#383838\" rx=\"2\" ry=\"2\" style=\"stroke: #383838; stroke-width: 1.0;\"/><ellipse cx=\"173\" cy=\"499.01\" fill=\"#383838\" rx=\"2\" ry=\"2\" style=\"stroke: #383838; stroke-width: 1.0;\"/></a><!--MD5=[f667431f98296947986a1a7595a31603]\n",
       "link E6 to E4--><a href=\"psysml:b31b3f2c-80ab-44f0-a26e-d801559af683\" target=\"_top\" title=\"psysml:b31b3f2c-80ab-44f0-a26e-d801559af683\" xlink:actuate=\"onRequest\" xlink:href=\"psysml:b31b3f2c-80ab-44f0-a26e-d801559af683\" xlink:show=\"new\" xlink:title=\"psysml:b31b3f2c-80ab-44f0-a26e-d801559af683\" xlink:type=\"simple\"><path d=\"M182.95,155.03 C182.26,167.77 181.52,181.45 180.8,194.69 \" fill=\"none\" id=\"E6-&gt;E4\" style=\"stroke: #383838; stroke-width: 1.0;\"/><polygon fill=\"none\" points=\"187.77,195.32,179.7,214.91,173.79,194.56,187.77,195.32\" style=\"stroke: #383838; stroke-width: 1.0;\"/></a><!--MD5=[32ec512c53738df6c9a906edf7f86484]\n",
       "@startuml\r\n",
       "skinparam monochrome true\r\n",
       "skinparam classbackgroundcolor white\r\n",
       "skinparam shadowing false\r\n",
       "skinparam wrapWidth 300\r\n",
       "hide circle\r\n",
       "\r\n",
       "package \"MassRollup\" as E1  [[psysml:93cce498-741b-46da-9a76-47f8a90b0e87 ]]  {\r\n",
       "comp def \"MassedThing\" as E2  <<(T,blue)part def>> [[psysml:2bfc4bf5-5785-4629-99c8-bf06d3584a79 ]] {\r\n",
       "- - attributes - -\r\n",
       "mass\r\n",
       "totalMass\r\n",
       "}\r\n",
       "comp usage \"simpleThing: MassedThing\" as E3  <<(T,blue)part>> [[psysml:d9d69a25-c21e-4c46-a572-d7b139b6ee26 ]] {\r\n",
       "- - attributes - -\r\n",
       "totalMass=mass; \\n//:>>MassedThing::totalMass// \r\n",
       "}\r\n",
       "comp usage \"compositeThing: MassedThing\" as E4  <<(T,blue)part>> [[psysml:343123b1-0808-41d0-8b17-a6ebb6acc0cb ]] {\r\n",
       "- - attributes - -\r\n",
       "totalMass=mass + (subcomponents->collect p:MassedThing (p::totalMass)->reduce '+' ?? 0.0); \\n//:>>MassedThing::totalMass// \r\n",
       "}\r\n",
       "comp usage \"subcomponents: MassedThing\" as E5  <<(T,blue)part>> [[psysml:09cd1f28-daf0-4d0d-a972-b9bf2a18e992 ]] {\r\n",
       "}\r\n",
       "comp usage \"filteredMassThing\" as E6  <<(T,blue)part>> [[psysml:b3309114-4b2b-46b3-9f4f-dc695177bad1 ]] {\r\n",
       "- - attributes - -\r\n",
       "minMass\r\n",
       "totalMass=(./subcomponents/mass[p (p > minMass)])->reduce '+' ?? 0.0; \\n//:>>MassedThing::totalMass// \r\n",
       "}\r\n",
       "E3 - -:|> E2 [[psysml:b7a37c04-3b7e-4fde-bcd3-8ff7c74e6a20 ]] \r\n",
       "E4 - -:|> E2 [[psysml:9348166f-8cea-4d7c-a96d-6192465a705e ]] \r\n",
       "E4 *- - \"*\"E5 [[psysml:94e091d2-0286-4211-8181-aedc46ba16d2 ]] \r\n",
       "E5 - -:|> E2 [[psysml:dc08c53a-a0f0-4000-a138-cf80983e3afa ]] \r\n",
       "E6 - -|> E4 [[psysml:b31b3f2c-80ab-44f0-a26e-d801559af683 ]] \r\n",
       "}\r\n",
       "@enduml\r\n",
       "\n",
       "PlantUML version 1.2020.13(Sat Jun 13 12:26:38 UTC 2020)\n",
       "(EPL source distribution)\n",
       "Java Runtime: OpenJDK Runtime Environment\n",
       "JVM: OpenJDK 64-Bit Server VM\n",
       "Default Encoding: UTF-8\n",
       "Language: en\n",
       "Country: null\n",
       "--></g></svg>"
      ]
     },
     "execution_count": 42,
     "metadata": {},
     "output_type": "execute_result"
    }
   ],
   "source": [
    "%viz --style=\"DEFAULT\" --view=\"Sequence\" \"MassRollup\""
   ]
  },
  {
   "cell_type": "code",
   "execution_count": 43,
   "id": "72dfacd1",
   "metadata": {
    "execution": {
     "iopub.execute_input": "2021-04-20T07:27:00.240715Z",
     "iopub.status.busy": "2021-04-20T07:27:00.240196Z",
     "iopub.status.idle": "2021-04-20T07:27:00.426197Z",
     "shell.execute_reply": "2021-04-20T07:27:00.424512Z"
    }
   },
   "outputs": [
    {
     "data": {
      "image/svg+xml": [
       "<?xml version=\"1.0\" encoding=\"UTF-8\" standalone=\"no\"?><svg xmlns=\"http://www.w3.org/2000/svg\" xmlns:xlink=\"http://www.w3.org/1999/xlink\" contentScriptType=\"application/ecmascript\" contentStyleType=\"text/css\" height=\"640px\" preserveAspectRatio=\"none\" style=\"width:512px;height:640px;\" version=\"1.1\" viewBox=\"0 0 512 640\" width=\"512px\" zoomAndPan=\"magnify\"><defs/><g><!--MD5=[fbc87193dbaf4d95561dea2c320d4a47]\n",
       "cluster E1--><a href=\"psysml:93cce498-741b-46da-9a76-47f8a90b0e87\" target=\"_top\" title=\"psysml:93cce498-741b-46da-9a76-47f8a90b0e87\" xlink:actuate=\"onRequest\" xlink:href=\"psysml:93cce498-741b-46da-9a76-47f8a90b0e87\" xlink:show=\"new\" xlink:title=\"psysml:93cce498-741b-46da-9a76-47f8a90b0e87\" xlink:type=\"simple\"><polygon fill=\"#FFFFFF\" points=\"16,6,110,6,117,28.2969,490,28.2969,490,628,16,628,16,6\" style=\"stroke: #000000; stroke-width: 1.5;\"/><line style=\"stroke: #000000; stroke-width: 1.5;\" x1=\"16\" x2=\"117\" y1=\"28.2969\" y2=\"28.2969\"/><text fill=\"#000000\" font-family=\"sans-serif\" font-size=\"14\" font-weight=\"bold\" lengthAdjust=\"spacingAndGlyphs\" textLength=\"88\" x=\"20\" y=\"20.9951\">MassRollup</text></a><!--MD5=[b4997ac47864f28c2f74865a473b2911]\n",
       "class E2--><a href=\"psysml:2bfc4bf5-5785-4629-99c8-bf06d3584a79\" target=\"_top\" title=\"psysml:2bfc4bf5-5785-4629-99c8-bf06d3584a79\" xlink:actuate=\"onRequest\" xlink:href=\"psysml:2bfc4bf5-5785-4629-99c8-bf06d3584a79\" xlink:show=\"new\" xlink:title=\"psysml:2bfc4bf5-5785-4629-99c8-bf06d3584a79\" xlink:type=\"simple\"><rect fill=\"#FFFFFF\" height=\"88.3516\" id=\"E2\" style=\"stroke: #383838; stroke-width: 1.5;\" width=\"88\" x=\"124\" y=\"524\"/><text fill=\"#000000\" font-family=\"sans-serif\" font-size=\"12\" font-style=\"italic\" lengthAdjust=\"spacingAndGlyphs\" textLength=\"64\" x=\"136\" y=\"540.1387\">«part def»</text><text fill=\"#000000\" font-family=\"sans-serif\" font-size=\"12\" lengthAdjust=\"spacingAndGlyphs\" textLength=\"82\" x=\"127\" y=\"554.1074\">MassedThing</text><line style=\"stroke: #383838; stroke-width: 1.5;\" x1=\"125\" x2=\"211\" y1=\"561.9375\" y2=\"561.9375\"/><text fill=\"#000000\" font-family=\"sans-serif\" font-size=\"11\" lengthAdjust=\"spacingAndGlyphs\" textLength=\"32\" x=\"130\" y=\"592.9526\">mass</text><text fill=\"#000000\" font-family=\"sans-serif\" font-size=\"11\" lengthAdjust=\"spacingAndGlyphs\" textLength=\"55\" x=\"130\" y=\"605.7573\">totalMass</text><line style=\"stroke: #383838; stroke-width: 1.0;\" x1=\"125\" x2=\"140.5\" y1=\"576.3398\" y2=\"576.3398\"/><text fill=\"#000000\" font-family=\"sans-serif\" font-size=\"11\" lengthAdjust=\"spacingAndGlyphs\" textLength=\"55\" x=\"140.5\" y=\"579.6479\">attributes</text><line style=\"stroke: #383838; stroke-width: 1.0;\" x1=\"195.5\" x2=\"211\" y1=\"576.3398\" y2=\"576.3398\"/></a><!--MD5=[09b614a08d8cba4a07c9adeb5e0fee81]\n",
       "class E3--><a href=\"psysml:d9d69a25-c21e-4c46-a572-d7b139b6ee26\" target=\"_top\" title=\"psysml:d9d69a25-c21e-4c46-a572-d7b139b6ee26\" xlink:actuate=\"onRequest\" xlink:href=\"psysml:d9d69a25-c21e-4c46-a572-d7b139b6ee26\" xlink:show=\"new\" xlink:title=\"psysml:d9d69a25-c21e-4c46-a572-d7b139b6ee26\" xlink:type=\"simple\"><rect fill=\"#FFFFFF\" height=\"88.3516\" id=\"E3\" rx=\"10\" ry=\"10\" style=\"stroke: #383838; stroke-width: 1.5;\" width=\"172\" x=\"302\" y=\"376\"/><text fill=\"#000000\" font-family=\"sans-serif\" font-size=\"12\" font-style=\"italic\" lengthAdjust=\"spacingAndGlyphs\" textLength=\"40\" x=\"368\" y=\"392.1387\">«part»</text><text fill=\"#000000\" font-family=\"sans-serif\" font-size=\"12\" lengthAdjust=\"spacingAndGlyphs\" textLength=\"164\" x=\"306\" y=\"406.1074\">simpleThing: MassedThing</text><line style=\"stroke: #383838; stroke-width: 1.5;\" x1=\"303\" x2=\"473\" y1=\"413.9375\" y2=\"413.9375\"/><text fill=\"#000000\" font-family=\"sans-serif\" font-size=\"11\" lengthAdjust=\"spacingAndGlyphs\" textLength=\"100\" x=\"308\" y=\"444.9526\">totalMass=mass;</text><text fill=\"#000000\" font-family=\"sans-serif\" font-size=\"11\" font-style=\"italic\" lengthAdjust=\"spacingAndGlyphs\" textLength=\"160\" x=\"308\" y=\"457.7573\">:&gt;&gt;MassedThing::totalMass</text><line style=\"stroke: #383838; stroke-width: 1.0;\" x1=\"303\" x2=\"360.5\" y1=\"428.3398\" y2=\"428.3398\"/><text fill=\"#000000\" font-family=\"sans-serif\" font-size=\"11\" lengthAdjust=\"spacingAndGlyphs\" textLength=\"55\" x=\"360.5\" y=\"431.6479\">attributes</text><line style=\"stroke: #383838; stroke-width: 1.0;\" x1=\"415.5\" x2=\"473\" y1=\"428.3398\" y2=\"428.3398\"/></a><!--MD5=[ebbe1d658d1005bcc118a6aa81145e00]\n",
       "class E4--><a href=\"psysml:343123b1-0808-41d0-8b17-a6ebb6acc0cb\" target=\"_top\" title=\"psysml:343123b1-0808-41d0-8b17-a6ebb6acc0cb\" xlink:actuate=\"onRequest\" xlink:href=\"psysml:343123b1-0808-41d0-8b17-a6ebb6acc0cb\" xlink:show=\"new\" xlink:title=\"psysml:343123b1-0808-41d0-8b17-a6ebb6acc0cb\" xlink:type=\"simple\"><rect fill=\"#FFFFFF\" height=\"101.1563\" id=\"E4\" rx=\"10\" ry=\"10\" style=\"stroke: #383838; stroke-width: 1.5;\" width=\"290\" x=\"32\" y=\"215\"/><text fill=\"#000000\" font-family=\"sans-serif\" font-size=\"12\" font-style=\"italic\" lengthAdjust=\"spacingAndGlyphs\" textLength=\"40\" x=\"157\" y=\"231.1387\">«part»</text><text fill=\"#000000\" font-family=\"sans-serif\" font-size=\"12\" lengthAdjust=\"spacingAndGlyphs\" textLength=\"189\" x=\"82.5\" y=\"245.1074\">compositeThing: MassedThing</text><line style=\"stroke: #383838; stroke-width: 1.5;\" x1=\"33\" x2=\"321\" y1=\"252.9375\" y2=\"252.9375\"/><text fill=\"#000000\" font-family=\"sans-serif\" font-size=\"11\" lengthAdjust=\"spacingAndGlyphs\" textLength=\"272\" x=\"38\" y=\"283.9526\">totalMass=mass + (subcomponents-&gt;collect p:</text><text fill=\"#000000\" font-family=\"sans-serif\" font-size=\"11\" lengthAdjust=\"spacingAndGlyphs\" textLength=\"274\" x=\"38\" y=\"296.7573\">MassedThing (p::totalMass)-&gt;reduce '+' ?? 0.0);</text><text fill=\"#000000\" font-family=\"sans-serif\" font-size=\"11\" font-style=\"italic\" lengthAdjust=\"spacingAndGlyphs\" textLength=\"160\" x=\"38\" y=\"309.562\">:&gt;&gt;MassedThing::totalMass</text><line style=\"stroke: #383838; stroke-width: 1.0;\" x1=\"33\" x2=\"149.5\" y1=\"267.3398\" y2=\"267.3398\"/><text fill=\"#000000\" font-family=\"sans-serif\" font-size=\"11\" lengthAdjust=\"spacingAndGlyphs\" textLength=\"55\" x=\"149.5\" y=\"270.6479\">attributes</text><line style=\"stroke: #383838; stroke-width: 1.0;\" x1=\"204.5\" x2=\"321\" y1=\"267.3398\" y2=\"267.3398\"/></a><!--MD5=[270fce915f116d4de14055a7c1d9a0f3]\n",
       "class E5--><a href=\"psysml:09cd1f28-daf0-4d0d-a972-b9bf2a18e992\" target=\"_top\" title=\"psysml:09cd1f28-daf0-4d0d-a972-b9bf2a18e992\" xlink:actuate=\"onRequest\" xlink:href=\"psysml:09cd1f28-daf0-4d0d-a972-b9bf2a18e992\" xlink:show=\"new\" xlink:title=\"psysml:09cd1f28-daf0-4d0d-a972-b9bf2a18e992\" xlink:type=\"simple\"><rect fill=\"#FFFFFF\" height=\"45.9375\" id=\"E5\" rx=\"10\" ry=\"10\" style=\"stroke: #383838; stroke-width: 1.5;\" width=\"197\" x=\"69.5\" y=\"397\"/><text fill=\"#000000\" font-family=\"sans-serif\" font-size=\"12\" font-style=\"italic\" lengthAdjust=\"spacingAndGlyphs\" textLength=\"40\" x=\"148\" y=\"413.1387\">«part»</text><text fill=\"#000000\" font-family=\"sans-serif\" font-size=\"12\" lengthAdjust=\"spacingAndGlyphs\" textLength=\"191\" x=\"72.5\" y=\"427.1074\">subcomponents: MassedThing</text><line style=\"stroke: #383838; stroke-width: 1.5;\" x1=\"70.5\" x2=\"265.5\" y1=\"434.9375\" y2=\"434.9375\"/></a><!--MD5=[60a26617385b1d2d0262a64233df1f8d]\n",
       "class E6--><a href=\"psysml:b3309114-4b2b-46b3-9f4f-dc695177bad1\" target=\"_top\" title=\"psysml:b3309114-4b2b-46b3-9f4f-dc695177bad1\" xlink:actuate=\"onRequest\" xlink:href=\"psysml:b3309114-4b2b-46b3-9f4f-dc695177bad1\" xlink:show=\"new\" xlink:title=\"psysml:b3309114-4b2b-46b3-9f4f-dc695177bad1\" xlink:type=\"simple\"><rect fill=\"#FFFFFF\" height=\"113.9609\" id=\"E6\" rx=\"10\" ry=\"10\" style=\"stroke: #383838; stroke-width: 1.5;\" width=\"309\" x=\"31.5\" y=\"41\"/><text fill=\"#000000\" font-family=\"sans-serif\" font-size=\"12\" font-style=\"italic\" lengthAdjust=\"spacingAndGlyphs\" textLength=\"40\" x=\"166\" y=\"57.1387\">«part»</text><text fill=\"#000000\" font-family=\"sans-serif\" font-size=\"12\" lengthAdjust=\"spacingAndGlyphs\" textLength=\"110\" x=\"131\" y=\"71.1074\">filteredMassThing</text><line style=\"stroke: #383838; stroke-width: 1.5;\" x1=\"32.5\" x2=\"339.5\" y1=\"78.9375\" y2=\"78.9375\"/><text fill=\"#000000\" font-family=\"sans-serif\" font-size=\"11\" lengthAdjust=\"spacingAndGlyphs\" textLength=\"51\" x=\"37.5\" y=\"109.9526\">minMass</text><text fill=\"#000000\" font-family=\"sans-serif\" font-size=\"11\" lengthAdjust=\"spacingAndGlyphs\" textLength=\"297\" x=\"37.5\" y=\"122.7573\">totalMass=(./subcomponents/mass[p (p &gt; minMass</text><text fill=\"#000000\" font-family=\"sans-serif\" font-size=\"11\" lengthAdjust=\"spacingAndGlyphs\" textLength=\"125\" x=\"37.5\" y=\"135.562\">)])-&gt;reduce '+' ?? 0.0;</text><text fill=\"#000000\" font-family=\"sans-serif\" font-size=\"11\" font-style=\"italic\" lengthAdjust=\"spacingAndGlyphs\" textLength=\"160\" x=\"37.5\" y=\"148.3667\">:&gt;&gt;MassedThing::totalMass</text><line style=\"stroke: #383838; stroke-width: 1.0;\" x1=\"32.5\" x2=\"158.5\" y1=\"93.3398\" y2=\"93.3398\"/><text fill=\"#000000\" font-family=\"sans-serif\" font-size=\"11\" lengthAdjust=\"spacingAndGlyphs\" textLength=\"55\" x=\"158.5\" y=\"96.6479\">attributes</text><line style=\"stroke: #383838; stroke-width: 1.0;\" x1=\"213.5\" x2=\"339.5\" y1=\"93.3398\" y2=\"93.3398\"/></a><!--MD5=[05d275557350bfb9b23a4ef7222b4c39]\n",
       "link E3 to E2--><a href=\"psysml:b7a37c04-3b7e-4fde-bcd3-8ff7c74e6a20\" target=\"_top\" title=\"psysml:b7a37c04-3b7e-4fde-bcd3-8ff7c74e6a20\" xlink:actuate=\"onRequest\" xlink:href=\"psysml:b7a37c04-3b7e-4fde-bcd3-8ff7c74e6a20\" xlink:show=\"new\" xlink:title=\"psysml:b7a37c04-3b7e-4fde-bcd3-8ff7c74e6a20\" xlink:type=\"simple\"><path d=\"M323.18,464.02 C293.44,483.75 258.37,507.03 229.1,526.45 \" fill=\"none\" id=\"E3-&gt;E2\" style=\"stroke: #383838; stroke-width: 1.0;\"/><polygon fill=\"#FFFFFF\" points=\"212.17,537.69,224.1349,521.3547,231.873,533.0219,212.17,537.69\" style=\"stroke: #383838; stroke-width: 1.0;\"/><ellipse cx=\"229.9905\" cy=\"519.871\" fill=\"#383838\" rx=\"2\" ry=\"2\" style=\"stroke: #383838; stroke-width: 1.0;\"/><ellipse cx=\"235.5178\" cy=\"528.2046\" fill=\"#383838\" rx=\"2\" ry=\"2\" style=\"stroke: #383838; stroke-width: 1.0;\"/></a><!--MD5=[185131fc0dcab0a4505a2ebe144e961b]\n",
       "link E4 to E2--><a href=\"psysml:9348166f-8cea-4d7c-a96d-6192465a705e\" target=\"_top\" title=\"psysml:9348166f-8cea-4d7c-a96d-6192465a705e\" xlink:actuate=\"onRequest\" xlink:href=\"psysml:9348166f-8cea-4d7c-a96d-6192465a705e\" xlink:show=\"new\" xlink:title=\"psysml:9348166f-8cea-4d7c-a96d-6192465a705e\" xlink:type=\"simple\"><path d=\"M99.7,316.2 C80.53,332.71 62.48,352.88 52,376 C35.85,411.62 35.97,428.33 52,464 C63.74,490.13 85.76,512.33 107.48,529.36 \" fill=\"none\" id=\"E4-&gt;E2\" style=\"stroke: #383838; stroke-width: 1.0;\"/><polygon fill=\"#FFFFFF\" points=\"123.86,541.35,104.3934,535.7776,112.6617,524.48,123.86,541.35\" style=\"stroke: #383838; stroke-width: 1.0;\"/><ellipse cx=\"100.9748\" cy=\"530.7973\" fill=\"#383838\" rx=\"2\" ry=\"2\" style=\"stroke: #383838; stroke-width: 1.0;\"/><ellipse cx=\"106.8807\" cy=\"522.7276\" fill=\"#383838\" rx=\"2\" ry=\"2\" style=\"stroke: #383838; stroke-width: 1.0;\"/></a><!--MD5=[62aa6af11e70f752912c1cb0466f24f7]\n",
       "reverse link E4 to E5--><a href=\"psysml:94e091d2-0286-4211-8181-aedc46ba16d2\" target=\"_top\" title=\"psysml:94e091d2-0286-4211-8181-aedc46ba16d2\" xlink:actuate=\"onRequest\" xlink:href=\"psysml:94e091d2-0286-4211-8181-aedc46ba16d2\" xlink:show=\"new\" xlink:title=\"psysml:94e091d2-0286-4211-8181-aedc46ba16d2\" xlink:type=\"simple\"><path d=\"M173.3,329.13 C171.88,353.21 170.35,379.16 169.3,396.96 \" fill=\"none\" id=\"E4&lt;-E5\" style=\"stroke: #383838; stroke-width: 1.0;\"/><polygon fill=\"#383838\" points=\"174.08,316.01,169.7309,321.762,173.3676,327.9888,177.7167,322.2369,174.08,316.01\" style=\"stroke: #383838; stroke-width: 1.0;\"/><text fill=\"#000000\" font-family=\"sans-serif\" font-size=\"13\" lengthAdjust=\"spacingAndGlyphs\" textLength=\"7\" x=\"161.7088\" y=\"385.8455\">*</text></a><!--MD5=[15ebcb19ae302d9b601edb458606d402]\n",
       "link E5 to E2--><a href=\"psysml:dc08c53a-a0f0-4000-a138-cf80983e3afa\" target=\"_top\" title=\"psysml:dc08c53a-a0f0-4000-a138-cf80983e3afa\" xlink:actuate=\"onRequest\" xlink:href=\"psysml:dc08c53a-a0f0-4000-a138-cf80983e3afa\" xlink:show=\"new\" xlink:title=\"psysml:dc08c53a-a0f0-4000-a138-cf80983e3afa\" xlink:type=\"simple\"><path d=\"M168,443.17 C168,459.31 168,482.04 168,503.62 \" fill=\"none\" id=\"E5-&gt;E2\" style=\"stroke: #383838; stroke-width: 1.0;\"/><polygon fill=\"#FFFFFF\" points=\"168,523.71,161,504.71,175,504.71,168,523.71\" style=\"stroke: #383838; stroke-width: 1.0;\"/><ellipse cx=\"163\" cy=\"499.01\" fill=\"#383838\" rx=\"2\" ry=\"2\" style=\"stroke: #383838; stroke-width: 1.0;\"/><ellipse cx=\"173\" cy=\"499.01\" fill=\"#383838\" rx=\"2\" ry=\"2\" style=\"stroke: #383838; stroke-width: 1.0;\"/></a><!--MD5=[f667431f98296947986a1a7595a31603]\n",
       "link E6 to E4--><a href=\"psysml:b31b3f2c-80ab-44f0-a26e-d801559af683\" target=\"_top\" title=\"psysml:b31b3f2c-80ab-44f0-a26e-d801559af683\" xlink:actuate=\"onRequest\" xlink:href=\"psysml:b31b3f2c-80ab-44f0-a26e-d801559af683\" xlink:show=\"new\" xlink:title=\"psysml:b31b3f2c-80ab-44f0-a26e-d801559af683\" xlink:type=\"simple\"><path d=\"M182.95,155.03 C182.26,167.77 181.52,181.45 180.8,194.69 \" fill=\"none\" id=\"E6-&gt;E4\" style=\"stroke: #383838; stroke-width: 1.0;\"/><polygon fill=\"none\" points=\"187.77,195.32,179.7,214.91,173.79,194.56,187.77,195.32\" style=\"stroke: #383838; stroke-width: 1.0;\"/></a><!--MD5=[32ec512c53738df6c9a906edf7f86484]\n",
       "@startuml\r\n",
       "skinparam monochrome true\r\n",
       "skinparam classbackgroundcolor white\r\n",
       "skinparam shadowing false\r\n",
       "skinparam wrapWidth 300\r\n",
       "hide circle\r\n",
       "\r\n",
       "package \"MassRollup\" as E1  [[psysml:93cce498-741b-46da-9a76-47f8a90b0e87 ]]  {\r\n",
       "comp def \"MassedThing\" as E2  <<(T,blue)part def>> [[psysml:2bfc4bf5-5785-4629-99c8-bf06d3584a79 ]] {\r\n",
       "- - attributes - -\r\n",
       "mass\r\n",
       "totalMass\r\n",
       "}\r\n",
       "comp usage \"simpleThing: MassedThing\" as E3  <<(T,blue)part>> [[psysml:d9d69a25-c21e-4c46-a572-d7b139b6ee26 ]] {\r\n",
       "- - attributes - -\r\n",
       "totalMass=mass; \\n//:>>MassedThing::totalMass// \r\n",
       "}\r\n",
       "comp usage \"compositeThing: MassedThing\" as E4  <<(T,blue)part>> [[psysml:343123b1-0808-41d0-8b17-a6ebb6acc0cb ]] {\r\n",
       "- - attributes - -\r\n",
       "totalMass=mass + (subcomponents->collect p:MassedThing (p::totalMass)->reduce '+' ?? 0.0); \\n//:>>MassedThing::totalMass// \r\n",
       "}\r\n",
       "comp usage \"subcomponents: MassedThing\" as E5  <<(T,blue)part>> [[psysml:09cd1f28-daf0-4d0d-a972-b9bf2a18e992 ]] {\r\n",
       "}\r\n",
       "comp usage \"filteredMassThing\" as E6  <<(T,blue)part>> [[psysml:b3309114-4b2b-46b3-9f4f-dc695177bad1 ]] {\r\n",
       "- - attributes - -\r\n",
       "minMass\r\n",
       "totalMass=(./subcomponents/mass[p (p > minMass)])->reduce '+' ?? 0.0; \\n//:>>MassedThing::totalMass// \r\n",
       "}\r\n",
       "E3 - -:|> E2 [[psysml:b7a37c04-3b7e-4fde-bcd3-8ff7c74e6a20 ]] \r\n",
       "E4 - -:|> E2 [[psysml:9348166f-8cea-4d7c-a96d-6192465a705e ]] \r\n",
       "E4 *- - \"*\"E5 [[psysml:94e091d2-0286-4211-8181-aedc46ba16d2 ]] \r\n",
       "E5 - -:|> E2 [[psysml:dc08c53a-a0f0-4000-a138-cf80983e3afa ]] \r\n",
       "E6 - -|> E4 [[psysml:b31b3f2c-80ab-44f0-a26e-d801559af683 ]] \r\n",
       "}\r\n",
       "@enduml\r\n",
       "\n",
       "PlantUML version 1.2020.13(Sat Jun 13 12:26:38 UTC 2020)\n",
       "(EPL source distribution)\n",
       "Java Runtime: OpenJDK Runtime Environment\n",
       "JVM: OpenJDK 64-Bit Server VM\n",
       "Default Encoding: UTF-8\n",
       "Language: en\n",
       "Country: null\n",
       "--></g></svg>"
      ]
     },
     "execution_count": 43,
     "metadata": {},
     "output_type": "execute_result"
    }
   ],
   "source": [
    "%viz --style=\"DEFAULT\" --view=\"MIXED\" \"MassRollup\""
   ]
  },
  {
   "cell_type": "code",
   "execution_count": 44,
   "id": "8eeb1288",
   "metadata": {
    "execution": {
     "iopub.execute_input": "2021-04-20T07:27:00.478467Z",
     "iopub.status.busy": "2021-04-20T07:27:00.477888Z",
     "iopub.status.idle": "2021-04-20T07:27:00.658305Z",
     "shell.execute_reply": "2021-04-20T07:27:00.656767Z"
    }
   },
   "outputs": [
    {
     "data": {
      "image/svg+xml": [
       "<?xml version=\"1.0\" encoding=\"UTF-8\" standalone=\"no\"?><svg xmlns=\"http://www.w3.org/2000/svg\" xmlns:xlink=\"http://www.w3.org/1999/xlink\" contentScriptType=\"application/ecmascript\" contentStyleType=\"text/css\" height=\"640px\" preserveAspectRatio=\"none\" style=\"width:512px;height:640px;\" version=\"1.1\" viewBox=\"0 0 512 640\" width=\"512px\" zoomAndPan=\"magnify\"><defs/><g><!--MD5=[fbc87193dbaf4d95561dea2c320d4a47]\n",
       "cluster E1--><a href=\"psysml:93cce498-741b-46da-9a76-47f8a90b0e87\" target=\"_top\" title=\"psysml:93cce498-741b-46da-9a76-47f8a90b0e87\" xlink:actuate=\"onRequest\" xlink:href=\"psysml:93cce498-741b-46da-9a76-47f8a90b0e87\" xlink:show=\"new\" xlink:title=\"psysml:93cce498-741b-46da-9a76-47f8a90b0e87\" xlink:type=\"simple\"><polygon fill=\"#FFFFFF\" points=\"16,6,110,6,117,28.2969,490,28.2969,490,628,16,628,16,6\" style=\"stroke: #000000; stroke-width: 1.5;\"/><line style=\"stroke: #000000; stroke-width: 1.5;\" x1=\"16\" x2=\"117\" y1=\"28.2969\" y2=\"28.2969\"/><text fill=\"#000000\" font-family=\"sans-serif\" font-size=\"14\" font-weight=\"bold\" lengthAdjust=\"spacingAndGlyphs\" textLength=\"88\" x=\"20\" y=\"20.9951\">MassRollup</text></a><!--MD5=[b4997ac47864f28c2f74865a473b2911]\n",
       "class E2--><a href=\"psysml:2bfc4bf5-5785-4629-99c8-bf06d3584a79\" target=\"_top\" title=\"psysml:2bfc4bf5-5785-4629-99c8-bf06d3584a79\" xlink:actuate=\"onRequest\" xlink:href=\"psysml:2bfc4bf5-5785-4629-99c8-bf06d3584a79\" xlink:show=\"new\" xlink:title=\"psysml:2bfc4bf5-5785-4629-99c8-bf06d3584a79\" xlink:type=\"simple\"><rect fill=\"#FFFFFF\" height=\"88.3516\" id=\"E2\" style=\"stroke: #383838; stroke-width: 1.5;\" width=\"88\" x=\"124\" y=\"524\"/><text fill=\"#000000\" font-family=\"sans-serif\" font-size=\"12\" font-style=\"italic\" lengthAdjust=\"spacingAndGlyphs\" textLength=\"64\" x=\"136\" y=\"540.1387\">«part def»</text><text fill=\"#000000\" font-family=\"sans-serif\" font-size=\"12\" lengthAdjust=\"spacingAndGlyphs\" textLength=\"82\" x=\"127\" y=\"554.1074\">MassedThing</text><line style=\"stroke: #383838; stroke-width: 1.5;\" x1=\"125\" x2=\"211\" y1=\"561.9375\" y2=\"561.9375\"/><text fill=\"#000000\" font-family=\"sans-serif\" font-size=\"11\" lengthAdjust=\"spacingAndGlyphs\" textLength=\"32\" x=\"130\" y=\"592.9526\">mass</text><text fill=\"#000000\" font-family=\"sans-serif\" font-size=\"11\" lengthAdjust=\"spacingAndGlyphs\" textLength=\"55\" x=\"130\" y=\"605.7573\">totalMass</text><line style=\"stroke: #383838; stroke-width: 1.0;\" x1=\"125\" x2=\"140.5\" y1=\"576.3398\" y2=\"576.3398\"/><text fill=\"#000000\" font-family=\"sans-serif\" font-size=\"11\" lengthAdjust=\"spacingAndGlyphs\" textLength=\"55\" x=\"140.5\" y=\"579.6479\">attributes</text><line style=\"stroke: #383838; stroke-width: 1.0;\" x1=\"195.5\" x2=\"211\" y1=\"576.3398\" y2=\"576.3398\"/></a><!--MD5=[09b614a08d8cba4a07c9adeb5e0fee81]\n",
       "class E3--><a href=\"psysml:d9d69a25-c21e-4c46-a572-d7b139b6ee26\" target=\"_top\" title=\"psysml:d9d69a25-c21e-4c46-a572-d7b139b6ee26\" xlink:actuate=\"onRequest\" xlink:href=\"psysml:d9d69a25-c21e-4c46-a572-d7b139b6ee26\" xlink:show=\"new\" xlink:title=\"psysml:d9d69a25-c21e-4c46-a572-d7b139b6ee26\" xlink:type=\"simple\"><rect fill=\"#FFFFFF\" height=\"88.3516\" id=\"E3\" rx=\"10\" ry=\"10\" style=\"stroke: #383838; stroke-width: 1.5;\" width=\"172\" x=\"302\" y=\"376\"/><text fill=\"#000000\" font-family=\"sans-serif\" font-size=\"12\" font-style=\"italic\" lengthAdjust=\"spacingAndGlyphs\" textLength=\"40\" x=\"368\" y=\"392.1387\">«part»</text><text fill=\"#000000\" font-family=\"sans-serif\" font-size=\"12\" lengthAdjust=\"spacingAndGlyphs\" textLength=\"164\" x=\"306\" y=\"406.1074\">simpleThing: MassedThing</text><line style=\"stroke: #383838; stroke-width: 1.5;\" x1=\"303\" x2=\"473\" y1=\"413.9375\" y2=\"413.9375\"/><text fill=\"#000000\" font-family=\"sans-serif\" font-size=\"11\" lengthAdjust=\"spacingAndGlyphs\" textLength=\"100\" x=\"308\" y=\"444.9526\">totalMass=mass;</text><text fill=\"#000000\" font-family=\"sans-serif\" font-size=\"11\" font-style=\"italic\" lengthAdjust=\"spacingAndGlyphs\" textLength=\"160\" x=\"308\" y=\"457.7573\">:&gt;&gt;MassedThing::totalMass</text><line style=\"stroke: #383838; stroke-width: 1.0;\" x1=\"303\" x2=\"360.5\" y1=\"428.3398\" y2=\"428.3398\"/><text fill=\"#000000\" font-family=\"sans-serif\" font-size=\"11\" lengthAdjust=\"spacingAndGlyphs\" textLength=\"55\" x=\"360.5\" y=\"431.6479\">attributes</text><line style=\"stroke: #383838; stroke-width: 1.0;\" x1=\"415.5\" x2=\"473\" y1=\"428.3398\" y2=\"428.3398\"/></a><!--MD5=[ebbe1d658d1005bcc118a6aa81145e00]\n",
       "class E4--><a href=\"psysml:343123b1-0808-41d0-8b17-a6ebb6acc0cb\" target=\"_top\" title=\"psysml:343123b1-0808-41d0-8b17-a6ebb6acc0cb\" xlink:actuate=\"onRequest\" xlink:href=\"psysml:343123b1-0808-41d0-8b17-a6ebb6acc0cb\" xlink:show=\"new\" xlink:title=\"psysml:343123b1-0808-41d0-8b17-a6ebb6acc0cb\" xlink:type=\"simple\"><rect fill=\"#FFFFFF\" height=\"101.1563\" id=\"E4\" rx=\"10\" ry=\"10\" style=\"stroke: #383838; stroke-width: 1.5;\" width=\"290\" x=\"32\" y=\"215\"/><text fill=\"#000000\" font-family=\"sans-serif\" font-size=\"12\" font-style=\"italic\" lengthAdjust=\"spacingAndGlyphs\" textLength=\"40\" x=\"157\" y=\"231.1387\">«part»</text><text fill=\"#000000\" font-family=\"sans-serif\" font-size=\"12\" lengthAdjust=\"spacingAndGlyphs\" textLength=\"189\" x=\"82.5\" y=\"245.1074\">compositeThing: MassedThing</text><line style=\"stroke: #383838; stroke-width: 1.5;\" x1=\"33\" x2=\"321\" y1=\"252.9375\" y2=\"252.9375\"/><text fill=\"#000000\" font-family=\"sans-serif\" font-size=\"11\" lengthAdjust=\"spacingAndGlyphs\" textLength=\"272\" x=\"38\" y=\"283.9526\">totalMass=mass + (subcomponents-&gt;collect p:</text><text fill=\"#000000\" font-family=\"sans-serif\" font-size=\"11\" lengthAdjust=\"spacingAndGlyphs\" textLength=\"274\" x=\"38\" y=\"296.7573\">MassedThing (p::totalMass)-&gt;reduce '+' ?? 0.0);</text><text fill=\"#000000\" font-family=\"sans-serif\" font-size=\"11\" font-style=\"italic\" lengthAdjust=\"spacingAndGlyphs\" textLength=\"160\" x=\"38\" y=\"309.562\">:&gt;&gt;MassedThing::totalMass</text><line style=\"stroke: #383838; stroke-width: 1.0;\" x1=\"33\" x2=\"149.5\" y1=\"267.3398\" y2=\"267.3398\"/><text fill=\"#000000\" font-family=\"sans-serif\" font-size=\"11\" lengthAdjust=\"spacingAndGlyphs\" textLength=\"55\" x=\"149.5\" y=\"270.6479\">attributes</text><line style=\"stroke: #383838; stroke-width: 1.0;\" x1=\"204.5\" x2=\"321\" y1=\"267.3398\" y2=\"267.3398\"/></a><!--MD5=[270fce915f116d4de14055a7c1d9a0f3]\n",
       "class E5--><a href=\"psysml:09cd1f28-daf0-4d0d-a972-b9bf2a18e992\" target=\"_top\" title=\"psysml:09cd1f28-daf0-4d0d-a972-b9bf2a18e992\" xlink:actuate=\"onRequest\" xlink:href=\"psysml:09cd1f28-daf0-4d0d-a972-b9bf2a18e992\" xlink:show=\"new\" xlink:title=\"psysml:09cd1f28-daf0-4d0d-a972-b9bf2a18e992\" xlink:type=\"simple\"><rect fill=\"#FFFFFF\" height=\"45.9375\" id=\"E5\" rx=\"10\" ry=\"10\" style=\"stroke: #383838; stroke-width: 1.5;\" width=\"197\" x=\"69.5\" y=\"397\"/><text fill=\"#000000\" font-family=\"sans-serif\" font-size=\"12\" font-style=\"italic\" lengthAdjust=\"spacingAndGlyphs\" textLength=\"40\" x=\"148\" y=\"413.1387\">«part»</text><text fill=\"#000000\" font-family=\"sans-serif\" font-size=\"12\" lengthAdjust=\"spacingAndGlyphs\" textLength=\"191\" x=\"72.5\" y=\"427.1074\">subcomponents: MassedThing</text><line style=\"stroke: #383838; stroke-width: 1.5;\" x1=\"70.5\" x2=\"265.5\" y1=\"434.9375\" y2=\"434.9375\"/></a><!--MD5=[60a26617385b1d2d0262a64233df1f8d]\n",
       "class E6--><a href=\"psysml:b3309114-4b2b-46b3-9f4f-dc695177bad1\" target=\"_top\" title=\"psysml:b3309114-4b2b-46b3-9f4f-dc695177bad1\" xlink:actuate=\"onRequest\" xlink:href=\"psysml:b3309114-4b2b-46b3-9f4f-dc695177bad1\" xlink:show=\"new\" xlink:title=\"psysml:b3309114-4b2b-46b3-9f4f-dc695177bad1\" xlink:type=\"simple\"><rect fill=\"#FFFFFF\" height=\"113.9609\" id=\"E6\" rx=\"10\" ry=\"10\" style=\"stroke: #383838; stroke-width: 1.5;\" width=\"309\" x=\"31.5\" y=\"41\"/><text fill=\"#000000\" font-family=\"sans-serif\" font-size=\"12\" font-style=\"italic\" lengthAdjust=\"spacingAndGlyphs\" textLength=\"40\" x=\"166\" y=\"57.1387\">«part»</text><text fill=\"#000000\" font-family=\"sans-serif\" font-size=\"12\" lengthAdjust=\"spacingAndGlyphs\" textLength=\"110\" x=\"131\" y=\"71.1074\">filteredMassThing</text><line style=\"stroke: #383838; stroke-width: 1.5;\" x1=\"32.5\" x2=\"339.5\" y1=\"78.9375\" y2=\"78.9375\"/><text fill=\"#000000\" font-family=\"sans-serif\" font-size=\"11\" lengthAdjust=\"spacingAndGlyphs\" textLength=\"51\" x=\"37.5\" y=\"109.9526\">minMass</text><text fill=\"#000000\" font-family=\"sans-serif\" font-size=\"11\" lengthAdjust=\"spacingAndGlyphs\" textLength=\"297\" x=\"37.5\" y=\"122.7573\">totalMass=(./subcomponents/mass[p (p &gt; minMass</text><text fill=\"#000000\" font-family=\"sans-serif\" font-size=\"11\" lengthAdjust=\"spacingAndGlyphs\" textLength=\"125\" x=\"37.5\" y=\"135.562\">)])-&gt;reduce '+' ?? 0.0;</text><text fill=\"#000000\" font-family=\"sans-serif\" font-size=\"11\" font-style=\"italic\" lengthAdjust=\"spacingAndGlyphs\" textLength=\"160\" x=\"37.5\" y=\"148.3667\">:&gt;&gt;MassedThing::totalMass</text><line style=\"stroke: #383838; stroke-width: 1.0;\" x1=\"32.5\" x2=\"158.5\" y1=\"93.3398\" y2=\"93.3398\"/><text fill=\"#000000\" font-family=\"sans-serif\" font-size=\"11\" lengthAdjust=\"spacingAndGlyphs\" textLength=\"55\" x=\"158.5\" y=\"96.6479\">attributes</text><line style=\"stroke: #383838; stroke-width: 1.0;\" x1=\"213.5\" x2=\"339.5\" y1=\"93.3398\" y2=\"93.3398\"/></a><!--MD5=[05d275557350bfb9b23a4ef7222b4c39]\n",
       "link E3 to E2--><a href=\"psysml:b7a37c04-3b7e-4fde-bcd3-8ff7c74e6a20\" target=\"_top\" title=\"psysml:b7a37c04-3b7e-4fde-bcd3-8ff7c74e6a20\" xlink:actuate=\"onRequest\" xlink:href=\"psysml:b7a37c04-3b7e-4fde-bcd3-8ff7c74e6a20\" xlink:show=\"new\" xlink:title=\"psysml:b7a37c04-3b7e-4fde-bcd3-8ff7c74e6a20\" xlink:type=\"simple\"><path d=\"M323.18,464.02 C293.44,483.75 258.37,507.03 229.1,526.45 \" fill=\"none\" id=\"E3-&gt;E2\" style=\"stroke: #383838; stroke-width: 1.0;\"/><polygon fill=\"#FFFFFF\" points=\"212.17,537.69,224.1349,521.3547,231.873,533.0219,212.17,537.69\" style=\"stroke: #383838; stroke-width: 1.0;\"/><ellipse cx=\"229.9905\" cy=\"519.871\" fill=\"#383838\" rx=\"2\" ry=\"2\" style=\"stroke: #383838; stroke-width: 1.0;\"/><ellipse cx=\"235.5178\" cy=\"528.2046\" fill=\"#383838\" rx=\"2\" ry=\"2\" style=\"stroke: #383838; stroke-width: 1.0;\"/></a><!--MD5=[185131fc0dcab0a4505a2ebe144e961b]\n",
       "link E4 to E2--><a href=\"psysml:9348166f-8cea-4d7c-a96d-6192465a705e\" target=\"_top\" title=\"psysml:9348166f-8cea-4d7c-a96d-6192465a705e\" xlink:actuate=\"onRequest\" xlink:href=\"psysml:9348166f-8cea-4d7c-a96d-6192465a705e\" xlink:show=\"new\" xlink:title=\"psysml:9348166f-8cea-4d7c-a96d-6192465a705e\" xlink:type=\"simple\"><path d=\"M99.7,316.2 C80.53,332.71 62.48,352.88 52,376 C35.85,411.62 35.97,428.33 52,464 C63.74,490.13 85.76,512.33 107.48,529.36 \" fill=\"none\" id=\"E4-&gt;E2\" style=\"stroke: #383838; stroke-width: 1.0;\"/><polygon fill=\"#FFFFFF\" points=\"123.86,541.35,104.3934,535.7776,112.6617,524.48,123.86,541.35\" style=\"stroke: #383838; stroke-width: 1.0;\"/><ellipse cx=\"100.9748\" cy=\"530.7973\" fill=\"#383838\" rx=\"2\" ry=\"2\" style=\"stroke: #383838; stroke-width: 1.0;\"/><ellipse cx=\"106.8807\" cy=\"522.7276\" fill=\"#383838\" rx=\"2\" ry=\"2\" style=\"stroke: #383838; stroke-width: 1.0;\"/></a><!--MD5=[62aa6af11e70f752912c1cb0466f24f7]\n",
       "reverse link E4 to E5--><a href=\"psysml:94e091d2-0286-4211-8181-aedc46ba16d2\" target=\"_top\" title=\"psysml:94e091d2-0286-4211-8181-aedc46ba16d2\" xlink:actuate=\"onRequest\" xlink:href=\"psysml:94e091d2-0286-4211-8181-aedc46ba16d2\" xlink:show=\"new\" xlink:title=\"psysml:94e091d2-0286-4211-8181-aedc46ba16d2\" xlink:type=\"simple\"><path d=\"M173.3,329.13 C171.88,353.21 170.35,379.16 169.3,396.96 \" fill=\"none\" id=\"E4&lt;-E5\" style=\"stroke: #383838; stroke-width: 1.0;\"/><polygon fill=\"#383838\" points=\"174.08,316.01,169.7309,321.762,173.3676,327.9888,177.7167,322.2369,174.08,316.01\" style=\"stroke: #383838; stroke-width: 1.0;\"/><text fill=\"#000000\" font-family=\"sans-serif\" font-size=\"13\" lengthAdjust=\"spacingAndGlyphs\" textLength=\"7\" x=\"161.7088\" y=\"385.8455\">*</text></a><!--MD5=[15ebcb19ae302d9b601edb458606d402]\n",
       "link E5 to E2--><a href=\"psysml:dc08c53a-a0f0-4000-a138-cf80983e3afa\" target=\"_top\" title=\"psysml:dc08c53a-a0f0-4000-a138-cf80983e3afa\" xlink:actuate=\"onRequest\" xlink:href=\"psysml:dc08c53a-a0f0-4000-a138-cf80983e3afa\" xlink:show=\"new\" xlink:title=\"psysml:dc08c53a-a0f0-4000-a138-cf80983e3afa\" xlink:type=\"simple\"><path d=\"M168,443.17 C168,459.31 168,482.04 168,503.62 \" fill=\"none\" id=\"E5-&gt;E2\" style=\"stroke: #383838; stroke-width: 1.0;\"/><polygon fill=\"#FFFFFF\" points=\"168,523.71,161,504.71,175,504.71,168,523.71\" style=\"stroke: #383838; stroke-width: 1.0;\"/><ellipse cx=\"163\" cy=\"499.01\" fill=\"#383838\" rx=\"2\" ry=\"2\" style=\"stroke: #383838; stroke-width: 1.0;\"/><ellipse cx=\"173\" cy=\"499.01\" fill=\"#383838\" rx=\"2\" ry=\"2\" style=\"stroke: #383838; stroke-width: 1.0;\"/></a><!--MD5=[f667431f98296947986a1a7595a31603]\n",
       "link E6 to E4--><a href=\"psysml:b31b3f2c-80ab-44f0-a26e-d801559af683\" target=\"_top\" title=\"psysml:b31b3f2c-80ab-44f0-a26e-d801559af683\" xlink:actuate=\"onRequest\" xlink:href=\"psysml:b31b3f2c-80ab-44f0-a26e-d801559af683\" xlink:show=\"new\" xlink:title=\"psysml:b31b3f2c-80ab-44f0-a26e-d801559af683\" xlink:type=\"simple\"><path d=\"M182.95,155.03 C182.26,167.77 181.52,181.45 180.8,194.69 \" fill=\"none\" id=\"E6-&gt;E4\" style=\"stroke: #383838; stroke-width: 1.0;\"/><polygon fill=\"none\" points=\"187.77,195.32,179.7,214.91,173.79,194.56,187.77,195.32\" style=\"stroke: #383838; stroke-width: 1.0;\"/></a><!--MD5=[c66f3365facd86e3a0c8caeeef8859e8]\n",
       "@startuml\r\n",
       "top to bottom direction\r\n",
       "skinparam monochrome true\r\n",
       "skinparam classbackgroundcolor white\r\n",
       "skinparam shadowing false\r\n",
       "skinparam wrapWidth 300\r\n",
       "hide circle\r\n",
       "\r\n",
       "package \"MassRollup\" as E1  [[psysml:93cce498-741b-46da-9a76-47f8a90b0e87 ]]  {\r\n",
       "comp def \"MassedThing\" as E2  <<(T,blue)part def>> [[psysml:2bfc4bf5-5785-4629-99c8-bf06d3584a79 ]] {\r\n",
       "- - attributes - -\r\n",
       "mass\r\n",
       "totalMass\r\n",
       "}\r\n",
       "comp usage \"simpleThing: MassedThing\" as E3  <<(T,blue)part>> [[psysml:d9d69a25-c21e-4c46-a572-d7b139b6ee26 ]] {\r\n",
       "- - attributes - -\r\n",
       "totalMass=mass; \\n//:>>MassedThing::totalMass// \r\n",
       "}\r\n",
       "comp usage \"compositeThing: MassedThing\" as E4  <<(T,blue)part>> [[psysml:343123b1-0808-41d0-8b17-a6ebb6acc0cb ]] {\r\n",
       "- - attributes - -\r\n",
       "totalMass=mass + (subcomponents->collect p:MassedThing (p::totalMass)->reduce '+' ?? 0.0); \\n//:>>MassedThing::totalMass// \r\n",
       "}\r\n",
       "comp usage \"subcomponents: MassedThing\" as E5  <<(T,blue)part>> [[psysml:09cd1f28-daf0-4d0d-a972-b9bf2a18e992 ]] {\r\n",
       "}\r\n",
       "comp usage \"filteredMassThing\" as E6  <<(T,blue)part>> [[psysml:b3309114-4b2b-46b3-9f4f-dc695177bad1 ]] {\r\n",
       "- - attributes - -\r\n",
       "minMass\r\n",
       "totalMass=(./subcomponents/mass[p (p > minMass)])->reduce '+' ?? 0.0; \\n//:>>MassedThing::totalMass// \r\n",
       "}\r\n",
       "E3 - -:|> E2 [[psysml:b7a37c04-3b7e-4fde-bcd3-8ff7c74e6a20 ]] \r\n",
       "E4 - -:|> E2 [[psysml:9348166f-8cea-4d7c-a96d-6192465a705e ]] \r\n",
       "E4 *- - \"*\"E5 [[psysml:94e091d2-0286-4211-8181-aedc46ba16d2 ]] \r\n",
       "E5 - -:|> E2 [[psysml:dc08c53a-a0f0-4000-a138-cf80983e3afa ]] \r\n",
       "E6 - -|> E4 [[psysml:b31b3f2c-80ab-44f0-a26e-d801559af683 ]] \r\n",
       "}\r\n",
       "@enduml\r\n",
       "\n",
       "PlantUML version 1.2020.13(Sat Jun 13 12:26:38 UTC 2020)\n",
       "(EPL source distribution)\n",
       "Java Runtime: OpenJDK Runtime Environment\n",
       "JVM: OpenJDK 64-Bit Server VM\n",
       "Default Encoding: UTF-8\n",
       "Language: en\n",
       "Country: null\n",
       "--></g></svg>"
      ]
     },
     "execution_count": 44,
     "metadata": {},
     "output_type": "execute_result"
    }
   ],
   "source": [
    "%viz --style=\"TB\" --view=\"Default\" \"MassRollup\""
   ]
  },
  {
   "cell_type": "code",
   "execution_count": 45,
   "id": "19b9844f",
   "metadata": {
    "execution": {
     "iopub.execute_input": "2021-04-20T07:27:00.709588Z",
     "iopub.status.busy": "2021-04-20T07:27:00.708585Z",
     "iopub.status.idle": "2021-04-20T07:27:00.954301Z",
     "shell.execute_reply": "2021-04-20T07:27:00.953890Z"
    }
   },
   "outputs": [
    {
     "data": {
      "image/svg+xml": [
       "<?xml version=\"1.0\" encoding=\"UTF-8\" standalone=\"no\"?><svg xmlns=\"http://www.w3.org/2000/svg\" xmlns:xlink=\"http://www.w3.org/1999/xlink\" contentScriptType=\"application/ecmascript\" contentStyleType=\"text/css\" height=\"640px\" preserveAspectRatio=\"none\" style=\"width:512px;height:640px;\" version=\"1.1\" viewBox=\"0 0 512 640\" width=\"512px\" zoomAndPan=\"magnify\"><defs/><g><!--MD5=[fbc87193dbaf4d95561dea2c320d4a47]\n",
       "cluster E1--><a href=\"psysml:93cce498-741b-46da-9a76-47f8a90b0e87\" target=\"_top\" title=\"psysml:93cce498-741b-46da-9a76-47f8a90b0e87\" xlink:actuate=\"onRequest\" xlink:href=\"psysml:93cce498-741b-46da-9a76-47f8a90b0e87\" xlink:show=\"new\" xlink:title=\"psysml:93cce498-741b-46da-9a76-47f8a90b0e87\" xlink:type=\"simple\"><polygon fill=\"#FFFFFF\" points=\"16,6,110,6,117,28.2969,490,28.2969,490,628,16,628,16,6\" style=\"stroke: #000000; stroke-width: 1.5;\"/><line style=\"stroke: #000000; stroke-width: 1.5;\" x1=\"16\" x2=\"117\" y1=\"28.2969\" y2=\"28.2969\"/><text fill=\"#000000\" font-family=\"sans-serif\" font-size=\"14\" font-weight=\"bold\" lengthAdjust=\"spacingAndGlyphs\" textLength=\"88\" x=\"20\" y=\"20.9951\">MassRollup</text></a><!--MD5=[b4997ac47864f28c2f74865a473b2911]\n",
       "class E2--><a href=\"psysml:2bfc4bf5-5785-4629-99c8-bf06d3584a79\" target=\"_top\" title=\"psysml:2bfc4bf5-5785-4629-99c8-bf06d3584a79\" xlink:actuate=\"onRequest\" xlink:href=\"psysml:2bfc4bf5-5785-4629-99c8-bf06d3584a79\" xlink:show=\"new\" xlink:title=\"psysml:2bfc4bf5-5785-4629-99c8-bf06d3584a79\" xlink:type=\"simple\"><rect fill=\"#FFFFFF\" height=\"88.3516\" id=\"E2\" style=\"stroke: #383838; stroke-width: 1.5;\" width=\"88\" x=\"124\" y=\"524\"/><text fill=\"#000000\" font-family=\"sans-serif\" font-size=\"12\" font-style=\"italic\" lengthAdjust=\"spacingAndGlyphs\" textLength=\"64\" x=\"136\" y=\"540.1387\">«part def»</text><text fill=\"#000000\" font-family=\"sans-serif\" font-size=\"12\" lengthAdjust=\"spacingAndGlyphs\" textLength=\"82\" x=\"127\" y=\"554.1074\">MassedThing</text><line style=\"stroke: #383838; stroke-width: 1.5;\" x1=\"125\" x2=\"211\" y1=\"561.9375\" y2=\"561.9375\"/><text fill=\"#000000\" font-family=\"sans-serif\" font-size=\"11\" lengthAdjust=\"spacingAndGlyphs\" textLength=\"32\" x=\"130\" y=\"592.9526\">mass</text><text fill=\"#000000\" font-family=\"sans-serif\" font-size=\"11\" lengthAdjust=\"spacingAndGlyphs\" textLength=\"55\" x=\"130\" y=\"605.7573\">totalMass</text><line style=\"stroke: #383838; stroke-width: 1.0;\" x1=\"125\" x2=\"140.5\" y1=\"576.3398\" y2=\"576.3398\"/><text fill=\"#000000\" font-family=\"sans-serif\" font-size=\"11\" lengthAdjust=\"spacingAndGlyphs\" textLength=\"55\" x=\"140.5\" y=\"579.6479\">attributes</text><line style=\"stroke: #383838; stroke-width: 1.0;\" x1=\"195.5\" x2=\"211\" y1=\"576.3398\" y2=\"576.3398\"/></a><!--MD5=[09b614a08d8cba4a07c9adeb5e0fee81]\n",
       "class E3--><a href=\"psysml:d9d69a25-c21e-4c46-a572-d7b139b6ee26\" target=\"_top\" title=\"psysml:d9d69a25-c21e-4c46-a572-d7b139b6ee26\" xlink:actuate=\"onRequest\" xlink:href=\"psysml:d9d69a25-c21e-4c46-a572-d7b139b6ee26\" xlink:show=\"new\" xlink:title=\"psysml:d9d69a25-c21e-4c46-a572-d7b139b6ee26\" xlink:type=\"simple\"><rect fill=\"#FFFFFF\" height=\"88.3516\" id=\"E3\" rx=\"10\" ry=\"10\" style=\"stroke: #383838; stroke-width: 1.5;\" width=\"172\" x=\"302\" y=\"376\"/><text fill=\"#000000\" font-family=\"sans-serif\" font-size=\"12\" font-style=\"italic\" lengthAdjust=\"spacingAndGlyphs\" textLength=\"40\" x=\"368\" y=\"392.1387\">«part»</text><text fill=\"#000000\" font-family=\"sans-serif\" font-size=\"12\" lengthAdjust=\"spacingAndGlyphs\" textLength=\"164\" x=\"306\" y=\"406.1074\">simpleThing: MassedThing</text><line style=\"stroke: #383838; stroke-width: 1.5;\" x1=\"303\" x2=\"473\" y1=\"413.9375\" y2=\"413.9375\"/><text fill=\"#000000\" font-family=\"sans-serif\" font-size=\"11\" lengthAdjust=\"spacingAndGlyphs\" textLength=\"100\" x=\"308\" y=\"444.9526\">totalMass=mass;</text><text fill=\"#000000\" font-family=\"sans-serif\" font-size=\"11\" font-style=\"italic\" lengthAdjust=\"spacingAndGlyphs\" textLength=\"160\" x=\"308\" y=\"457.7573\">:&gt;&gt;MassedThing::totalMass</text><line style=\"stroke: #383838; stroke-width: 1.0;\" x1=\"303\" x2=\"360.5\" y1=\"428.3398\" y2=\"428.3398\"/><text fill=\"#000000\" font-family=\"sans-serif\" font-size=\"11\" lengthAdjust=\"spacingAndGlyphs\" textLength=\"55\" x=\"360.5\" y=\"431.6479\">attributes</text><line style=\"stroke: #383838; stroke-width: 1.0;\" x1=\"415.5\" x2=\"473\" y1=\"428.3398\" y2=\"428.3398\"/></a><!--MD5=[ebbe1d658d1005bcc118a6aa81145e00]\n",
       "class E4--><a href=\"psysml:343123b1-0808-41d0-8b17-a6ebb6acc0cb\" target=\"_top\" title=\"psysml:343123b1-0808-41d0-8b17-a6ebb6acc0cb\" xlink:actuate=\"onRequest\" xlink:href=\"psysml:343123b1-0808-41d0-8b17-a6ebb6acc0cb\" xlink:show=\"new\" xlink:title=\"psysml:343123b1-0808-41d0-8b17-a6ebb6acc0cb\" xlink:type=\"simple\"><rect fill=\"#FFFFFF\" height=\"101.1563\" id=\"E4\" rx=\"10\" ry=\"10\" style=\"stroke: #383838; stroke-width: 1.5;\" width=\"290\" x=\"32\" y=\"215\"/><text fill=\"#000000\" font-family=\"sans-serif\" font-size=\"12\" font-style=\"italic\" lengthAdjust=\"spacingAndGlyphs\" textLength=\"40\" x=\"157\" y=\"231.1387\">«part»</text><text fill=\"#000000\" font-family=\"sans-serif\" font-size=\"12\" lengthAdjust=\"spacingAndGlyphs\" textLength=\"189\" x=\"82.5\" y=\"245.1074\">compositeThing: MassedThing</text><line style=\"stroke: #383838; stroke-width: 1.5;\" x1=\"33\" x2=\"321\" y1=\"252.9375\" y2=\"252.9375\"/><text fill=\"#000000\" font-family=\"sans-serif\" font-size=\"11\" lengthAdjust=\"spacingAndGlyphs\" textLength=\"272\" x=\"38\" y=\"283.9526\">totalMass=mass + (subcomponents-&gt;collect p:</text><text fill=\"#000000\" font-family=\"sans-serif\" font-size=\"11\" lengthAdjust=\"spacingAndGlyphs\" textLength=\"274\" x=\"38\" y=\"296.7573\">MassedThing (p::totalMass)-&gt;reduce '+' ?? 0.0);</text><text fill=\"#000000\" font-family=\"sans-serif\" font-size=\"11\" font-style=\"italic\" lengthAdjust=\"spacingAndGlyphs\" textLength=\"160\" x=\"38\" y=\"309.562\">:&gt;&gt;MassedThing::totalMass</text><line style=\"stroke: #383838; stroke-width: 1.0;\" x1=\"33\" x2=\"149.5\" y1=\"267.3398\" y2=\"267.3398\"/><text fill=\"#000000\" font-family=\"sans-serif\" font-size=\"11\" lengthAdjust=\"spacingAndGlyphs\" textLength=\"55\" x=\"149.5\" y=\"270.6479\">attributes</text><line style=\"stroke: #383838; stroke-width: 1.0;\" x1=\"204.5\" x2=\"321\" y1=\"267.3398\" y2=\"267.3398\"/></a><!--MD5=[270fce915f116d4de14055a7c1d9a0f3]\n",
       "class E5--><a href=\"psysml:09cd1f28-daf0-4d0d-a972-b9bf2a18e992\" target=\"_top\" title=\"psysml:09cd1f28-daf0-4d0d-a972-b9bf2a18e992\" xlink:actuate=\"onRequest\" xlink:href=\"psysml:09cd1f28-daf0-4d0d-a972-b9bf2a18e992\" xlink:show=\"new\" xlink:title=\"psysml:09cd1f28-daf0-4d0d-a972-b9bf2a18e992\" xlink:type=\"simple\"><rect fill=\"#FFFFFF\" height=\"45.9375\" id=\"E5\" rx=\"10\" ry=\"10\" style=\"stroke: #383838; stroke-width: 1.5;\" width=\"197\" x=\"69.5\" y=\"397\"/><text fill=\"#000000\" font-family=\"sans-serif\" font-size=\"12\" font-style=\"italic\" lengthAdjust=\"spacingAndGlyphs\" textLength=\"40\" x=\"148\" y=\"413.1387\">«part»</text><text fill=\"#000000\" font-family=\"sans-serif\" font-size=\"12\" lengthAdjust=\"spacingAndGlyphs\" textLength=\"191\" x=\"72.5\" y=\"427.1074\">subcomponents: MassedThing</text><line style=\"stroke: #383838; stroke-width: 1.5;\" x1=\"70.5\" x2=\"265.5\" y1=\"434.9375\" y2=\"434.9375\"/></a><!--MD5=[60a26617385b1d2d0262a64233df1f8d]\n",
       "class E6--><a href=\"psysml:b3309114-4b2b-46b3-9f4f-dc695177bad1\" target=\"_top\" title=\"psysml:b3309114-4b2b-46b3-9f4f-dc695177bad1\" xlink:actuate=\"onRequest\" xlink:href=\"psysml:b3309114-4b2b-46b3-9f4f-dc695177bad1\" xlink:show=\"new\" xlink:title=\"psysml:b3309114-4b2b-46b3-9f4f-dc695177bad1\" xlink:type=\"simple\"><rect fill=\"#FFFFFF\" height=\"113.9609\" id=\"E6\" rx=\"10\" ry=\"10\" style=\"stroke: #383838; stroke-width: 1.5;\" width=\"309\" x=\"31.5\" y=\"41\"/><text fill=\"#000000\" font-family=\"sans-serif\" font-size=\"12\" font-style=\"italic\" lengthAdjust=\"spacingAndGlyphs\" textLength=\"40\" x=\"166\" y=\"57.1387\">«part»</text><text fill=\"#000000\" font-family=\"sans-serif\" font-size=\"12\" lengthAdjust=\"spacingAndGlyphs\" textLength=\"110\" x=\"131\" y=\"71.1074\">filteredMassThing</text><line style=\"stroke: #383838; stroke-width: 1.5;\" x1=\"32.5\" x2=\"339.5\" y1=\"78.9375\" y2=\"78.9375\"/><text fill=\"#000000\" font-family=\"sans-serif\" font-size=\"11\" lengthAdjust=\"spacingAndGlyphs\" textLength=\"51\" x=\"37.5\" y=\"109.9526\">minMass</text><text fill=\"#000000\" font-family=\"sans-serif\" font-size=\"11\" lengthAdjust=\"spacingAndGlyphs\" textLength=\"297\" x=\"37.5\" y=\"122.7573\">totalMass=(./subcomponents/mass[p (p &gt; minMass</text><text fill=\"#000000\" font-family=\"sans-serif\" font-size=\"11\" lengthAdjust=\"spacingAndGlyphs\" textLength=\"125\" x=\"37.5\" y=\"135.562\">)])-&gt;reduce '+' ?? 0.0;</text><text fill=\"#000000\" font-family=\"sans-serif\" font-size=\"11\" font-style=\"italic\" lengthAdjust=\"spacingAndGlyphs\" textLength=\"160\" x=\"37.5\" y=\"148.3667\">:&gt;&gt;MassedThing::totalMass</text><line style=\"stroke: #383838; stroke-width: 1.0;\" x1=\"32.5\" x2=\"158.5\" y1=\"93.3398\" y2=\"93.3398\"/><text fill=\"#000000\" font-family=\"sans-serif\" font-size=\"11\" lengthAdjust=\"spacingAndGlyphs\" textLength=\"55\" x=\"158.5\" y=\"96.6479\">attributes</text><line style=\"stroke: #383838; stroke-width: 1.0;\" x1=\"213.5\" x2=\"339.5\" y1=\"93.3398\" y2=\"93.3398\"/></a><!--MD5=[05d275557350bfb9b23a4ef7222b4c39]\n",
       "link E3 to E2--><a href=\"psysml:b7a37c04-3b7e-4fde-bcd3-8ff7c74e6a20\" target=\"_top\" title=\"psysml:b7a37c04-3b7e-4fde-bcd3-8ff7c74e6a20\" xlink:actuate=\"onRequest\" xlink:href=\"psysml:b7a37c04-3b7e-4fde-bcd3-8ff7c74e6a20\" xlink:show=\"new\" xlink:title=\"psysml:b7a37c04-3b7e-4fde-bcd3-8ff7c74e6a20\" xlink:type=\"simple\"><path d=\"M323.18,464.02 C293.44,483.75 258.37,507.03 229.1,526.45 \" fill=\"none\" id=\"E3-&gt;E2\" style=\"stroke: #383838; stroke-width: 1.0;\"/><polygon fill=\"#FFFFFF\" points=\"212.17,537.69,224.1349,521.3547,231.873,533.0219,212.17,537.69\" style=\"stroke: #383838; stroke-width: 1.0;\"/><ellipse cx=\"229.9905\" cy=\"519.871\" fill=\"#383838\" rx=\"2\" ry=\"2\" style=\"stroke: #383838; stroke-width: 1.0;\"/><ellipse cx=\"235.5178\" cy=\"528.2046\" fill=\"#383838\" rx=\"2\" ry=\"2\" style=\"stroke: #383838; stroke-width: 1.0;\"/></a><!--MD5=[185131fc0dcab0a4505a2ebe144e961b]\n",
       "link E4 to E2--><a href=\"psysml:9348166f-8cea-4d7c-a96d-6192465a705e\" target=\"_top\" title=\"psysml:9348166f-8cea-4d7c-a96d-6192465a705e\" xlink:actuate=\"onRequest\" xlink:href=\"psysml:9348166f-8cea-4d7c-a96d-6192465a705e\" xlink:show=\"new\" xlink:title=\"psysml:9348166f-8cea-4d7c-a96d-6192465a705e\" xlink:type=\"simple\"><path d=\"M99.7,316.2 C80.53,332.71 62.48,352.88 52,376 C35.85,411.62 35.97,428.33 52,464 C63.74,490.13 85.76,512.33 107.48,529.36 \" fill=\"none\" id=\"E4-&gt;E2\" style=\"stroke: #383838; stroke-width: 1.0;\"/><polygon fill=\"#FFFFFF\" points=\"123.86,541.35,104.3934,535.7776,112.6617,524.48,123.86,541.35\" style=\"stroke: #383838; stroke-width: 1.0;\"/><ellipse cx=\"100.9748\" cy=\"530.7973\" fill=\"#383838\" rx=\"2\" ry=\"2\" style=\"stroke: #383838; stroke-width: 1.0;\"/><ellipse cx=\"106.8807\" cy=\"522.7276\" fill=\"#383838\" rx=\"2\" ry=\"2\" style=\"stroke: #383838; stroke-width: 1.0;\"/></a><!--MD5=[62aa6af11e70f752912c1cb0466f24f7]\n",
       "reverse link E4 to E5--><a href=\"psysml:94e091d2-0286-4211-8181-aedc46ba16d2\" target=\"_top\" title=\"psysml:94e091d2-0286-4211-8181-aedc46ba16d2\" xlink:actuate=\"onRequest\" xlink:href=\"psysml:94e091d2-0286-4211-8181-aedc46ba16d2\" xlink:show=\"new\" xlink:title=\"psysml:94e091d2-0286-4211-8181-aedc46ba16d2\" xlink:type=\"simple\"><path d=\"M173.3,329.13 C171.88,353.21 170.35,379.16 169.3,396.96 \" fill=\"none\" id=\"E4&lt;-E5\" style=\"stroke: #383838; stroke-width: 1.0;\"/><polygon fill=\"#383838\" points=\"174.08,316.01,169.7309,321.762,173.3676,327.9888,177.7167,322.2369,174.08,316.01\" style=\"stroke: #383838; stroke-width: 1.0;\"/><text fill=\"#000000\" font-family=\"sans-serif\" font-size=\"13\" lengthAdjust=\"spacingAndGlyphs\" textLength=\"7\" x=\"161.7088\" y=\"385.8455\">*</text></a><!--MD5=[15ebcb19ae302d9b601edb458606d402]\n",
       "link E5 to E2--><a href=\"psysml:dc08c53a-a0f0-4000-a138-cf80983e3afa\" target=\"_top\" title=\"psysml:dc08c53a-a0f0-4000-a138-cf80983e3afa\" xlink:actuate=\"onRequest\" xlink:href=\"psysml:dc08c53a-a0f0-4000-a138-cf80983e3afa\" xlink:show=\"new\" xlink:title=\"psysml:dc08c53a-a0f0-4000-a138-cf80983e3afa\" xlink:type=\"simple\"><path d=\"M168,443.17 C168,459.31 168,482.04 168,503.62 \" fill=\"none\" id=\"E5-&gt;E2\" style=\"stroke: #383838; stroke-width: 1.0;\"/><polygon fill=\"#FFFFFF\" points=\"168,523.71,161,504.71,175,504.71,168,523.71\" style=\"stroke: #383838; stroke-width: 1.0;\"/><ellipse cx=\"163\" cy=\"499.01\" fill=\"#383838\" rx=\"2\" ry=\"2\" style=\"stroke: #383838; stroke-width: 1.0;\"/><ellipse cx=\"173\" cy=\"499.01\" fill=\"#383838\" rx=\"2\" ry=\"2\" style=\"stroke: #383838; stroke-width: 1.0;\"/></a><!--MD5=[f667431f98296947986a1a7595a31603]\n",
       "link E6 to E4--><a href=\"psysml:b31b3f2c-80ab-44f0-a26e-d801559af683\" target=\"_top\" title=\"psysml:b31b3f2c-80ab-44f0-a26e-d801559af683\" xlink:actuate=\"onRequest\" xlink:href=\"psysml:b31b3f2c-80ab-44f0-a26e-d801559af683\" xlink:show=\"new\" xlink:title=\"psysml:b31b3f2c-80ab-44f0-a26e-d801559af683\" xlink:type=\"simple\"><path d=\"M182.95,155.03 C182.26,167.77 181.52,181.45 180.8,194.69 \" fill=\"none\" id=\"E6-&gt;E4\" style=\"stroke: #383838; stroke-width: 1.0;\"/><polygon fill=\"none\" points=\"187.77,195.32,179.7,214.91,173.79,194.56,187.77,195.32\" style=\"stroke: #383838; stroke-width: 1.0;\"/></a><!--MD5=[c66f3365facd86e3a0c8caeeef8859e8]\n",
       "@startuml\r\n",
       "top to bottom direction\r\n",
       "skinparam monochrome true\r\n",
       "skinparam classbackgroundcolor white\r\n",
       "skinparam shadowing false\r\n",
       "skinparam wrapWidth 300\r\n",
       "hide circle\r\n",
       "\r\n",
       "package \"MassRollup\" as E1  [[psysml:93cce498-741b-46da-9a76-47f8a90b0e87 ]]  {\r\n",
       "comp def \"MassedThing\" as E2  <<(T,blue)part def>> [[psysml:2bfc4bf5-5785-4629-99c8-bf06d3584a79 ]] {\r\n",
       "- - attributes - -\r\n",
       "mass\r\n",
       "totalMass\r\n",
       "}\r\n",
       "comp usage \"simpleThing: MassedThing\" as E3  <<(T,blue)part>> [[psysml:d9d69a25-c21e-4c46-a572-d7b139b6ee26 ]] {\r\n",
       "- - attributes - -\r\n",
       "totalMass=mass; \\n//:>>MassedThing::totalMass// \r\n",
       "}\r\n",
       "comp usage \"compositeThing: MassedThing\" as E4  <<(T,blue)part>> [[psysml:343123b1-0808-41d0-8b17-a6ebb6acc0cb ]] {\r\n",
       "- - attributes - -\r\n",
       "totalMass=mass + (subcomponents->collect p:MassedThing (p::totalMass)->reduce '+' ?? 0.0); \\n//:>>MassedThing::totalMass// \r\n",
       "}\r\n",
       "comp usage \"subcomponents: MassedThing\" as E5  <<(T,blue)part>> [[psysml:09cd1f28-daf0-4d0d-a972-b9bf2a18e992 ]] {\r\n",
       "}\r\n",
       "comp usage \"filteredMassThing\" as E6  <<(T,blue)part>> [[psysml:b3309114-4b2b-46b3-9f4f-dc695177bad1 ]] {\r\n",
       "- - attributes - -\r\n",
       "minMass\r\n",
       "totalMass=(./subcomponents/mass[p (p > minMass)])->reduce '+' ?? 0.0; \\n//:>>MassedThing::totalMass// \r\n",
       "}\r\n",
       "E3 - -:|> E2 [[psysml:b7a37c04-3b7e-4fde-bcd3-8ff7c74e6a20 ]] \r\n",
       "E4 - -:|> E2 [[psysml:9348166f-8cea-4d7c-a96d-6192465a705e ]] \r\n",
       "E4 *- - \"*\"E5 [[psysml:94e091d2-0286-4211-8181-aedc46ba16d2 ]] \r\n",
       "E5 - -:|> E2 [[psysml:dc08c53a-a0f0-4000-a138-cf80983e3afa ]] \r\n",
       "E6 - -|> E4 [[psysml:b31b3f2c-80ab-44f0-a26e-d801559af683 ]] \r\n",
       "}\r\n",
       "@enduml\r\n",
       "\n",
       "PlantUML version 1.2020.13(Sat Jun 13 12:26:38 UTC 2020)\n",
       "(EPL source distribution)\n",
       "Java Runtime: OpenJDK Runtime Environment\n",
       "JVM: OpenJDK 64-Bit Server VM\n",
       "Default Encoding: UTF-8\n",
       "Language: en\n",
       "Country: null\n",
       "--></g></svg>"
      ]
     },
     "execution_count": 45,
     "metadata": {},
     "output_type": "execute_result"
    }
   ],
   "source": [
    "%viz --style=\"TB\" --view=\"Tree\" \"MassRollup\""
   ]
  },
  {
   "cell_type": "code",
   "execution_count": 46,
   "id": "a66c83ec",
   "metadata": {
    "execution": {
     "iopub.execute_input": "2021-04-20T07:27:01.005029Z",
     "iopub.status.busy": "2021-04-20T07:27:01.004038Z",
     "iopub.status.idle": "2021-04-20T07:27:01.012356Z",
     "shell.execute_reply": "2021-04-20T07:27:01.011927Z"
    }
   },
   "outputs": [
    {
     "data": {
      "image/svg+xml": [
       "<?xml version=\"1.0\" encoding=\"UTF-8\" standalone=\"no\"?><svg xmlns=\"http://www.w3.org/2000/svg\" xmlns:xlink=\"http://www.w3.org/1999/xlink\" contentScriptType=\"application/ecmascript\" contentStyleType=\"text/css\" height=\"12px\" preserveAspectRatio=\"none\" style=\"width:12px;height:12px;\" version=\"1.1\" viewBox=\"0 0 12 12\" width=\"12px\" zoomAndPan=\"magnify\"><defs/><g><!--MD5=[f4ee21bc66e489b5061b7c3e9601fdef]\n",
       "@startuml\r\n",
       "top to bottom direction\r\n",
       "skinparam monochrome true\r\n",
       "skinparam classbackgroundcolor white\r\n",
       "skinparam shadowing false\r\n",
       "skinparam wrapWidth 300\r\n",
       "hide circle\r\n",
       "\r\n",
       "@enduml\r\n",
       "\n",
       "PlantUML version 1.2020.13(Sat Jun 13 12:26:38 UTC 2020)\n",
       "(EPL source distribution)\n",
       "Java Runtime: OpenJDK Runtime Environment\n",
       "JVM: OpenJDK 64-Bit Server VM\n",
       "Default Encoding: UTF-8\n",
       "Language: en\n",
       "Country: null\n",
       "--></g></svg>"
      ]
     },
     "execution_count": 46,
     "metadata": {},
     "output_type": "execute_result"
    }
   ],
   "source": [
    "%viz --style=\"TB\" --view=\"State\" \"MassRollup\""
   ]
  },
  {
   "cell_type": "code",
   "execution_count": 47,
   "id": "cb90bc9a",
   "metadata": {
    "execution": {
     "iopub.execute_input": "2021-04-20T07:27:01.071958Z",
     "iopub.status.busy": "2021-04-20T07:27:01.071059Z",
     "iopub.status.idle": "2021-04-20T07:27:01.130981Z",
     "shell.execute_reply": "2021-04-20T07:27:01.129157Z"
    }
   },
   "outputs": [
    {
     "data": {
      "image/svg+xml": [
       "<?xml version=\"1.0\" encoding=\"UTF-8\" standalone=\"no\"?><svg xmlns=\"http://www.w3.org/2000/svg\" xmlns:xlink=\"http://www.w3.org/1999/xlink\" contentScriptType=\"application/ecmascript\" contentStyleType=\"text/css\" height=\"319px\" preserveAspectRatio=\"none\" style=\"width:911px;height:319px;\" version=\"1.1\" viewBox=\"0 0 911 319\" width=\"911px\" zoomAndPan=\"magnify\"><defs/><g><!--MD5=[fbc87193dbaf4d95561dea2c320d4a47]\n",
       "cluster E1--><a href=\"psysml:93cce498-741b-46da-9a76-47f8a90b0e87\" target=\"_top\" title=\"psysml:93cce498-741b-46da-9a76-47f8a90b0e87\" xlink:actuate=\"onRequest\" xlink:href=\"psysml:93cce498-741b-46da-9a76-47f8a90b0e87\" xlink:show=\"new\" xlink:title=\"psysml:93cce498-741b-46da-9a76-47f8a90b0e87\" xlink:type=\"simple\"><polygon fill=\"#FFFFFF\" points=\"16,6,110,6,117,28.2969,889,28.2969,889,307,16,307,16,6\" style=\"stroke: #000000; stroke-width: 1.5;\"/><line style=\"stroke: #000000; stroke-width: 1.5;\" x1=\"16\" x2=\"117\" y1=\"28.2969\" y2=\"28.2969\"/><text fill=\"#000000\" font-family=\"sans-serif\" font-size=\"14\" font-weight=\"bold\" lengthAdjust=\"spacingAndGlyphs\" textLength=\"88\" x=\"20\" y=\"20.9951\">MassRollup</text></a><!--MD5=[e4f7fae6ed58524ba242bb0b0d3be6b7]\n",
       "cluster E2--><a href=\"psysml:2bfc4bf5-5785-4629-99c8-bf06d3584a79\" target=\"_top\" title=\"psysml:2bfc4bf5-5785-4629-99c8-bf06d3584a79\" xlink:actuate=\"onRequest\" xlink:href=\"psysml:2bfc4bf5-5785-4629-99c8-bf06d3584a79\" xlink:show=\"new\" xlink:title=\"psysml:2bfc4bf5-5785-4629-99c8-bf06d3584a79\" xlink:type=\"simple\"><rect fill=\"#FFFFFF\" height=\"113\" id=\"E2\" style=\"stroke: #383838; stroke-width: 1.5;\" width=\"210\" x=\"511\" y=\"170\"/><rect fill=\"#F8F8F8\" height=\"37.9375\" style=\"stroke: #383838; stroke-width: 1.5;\" width=\"210\" x=\"511\" y=\"170\"/><text fill=\"#000000\" font-family=\"sans-serif\" font-size=\"12\" font-style=\"italic\" lengthAdjust=\"spacingAndGlyphs\" textLength=\"64\" x=\"584\" y=\"186.1387\">«part def»</text><text fill=\"#000000\" font-family=\"sans-serif\" font-size=\"12\" lengthAdjust=\"spacingAndGlyphs\" textLength=\"82\" x=\"575\" y=\"200.1074\">MassedThing</text></a><!--MD5=[de5ec2e2e8f62f467e546659f5068c88]\n",
       "cluster E5--><a href=\"psysml:d9d69a25-c21e-4c46-a572-d7b139b6ee26\" target=\"_top\" title=\"psysml:d9d69a25-c21e-4c46-a572-d7b139b6ee26\" xlink:actuate=\"onRequest\" xlink:href=\"psysml:d9d69a25-c21e-4c46-a572-d7b139b6ee26\" xlink:show=\"new\" xlink:title=\"psysml:d9d69a25-c21e-4c46-a572-d7b139b6ee26\" xlink:type=\"simple\"><rect fill=\"#FFFFFF\" height=\"97\" id=\"E5\" rx=\"10\" ry=\"10\" style=\"stroke: #383838; stroke-width: 1.5;\" width=\"226\" x=\"639\" y=\"49\"/><rect fill=\"#F8F8F8\" height=\"23.9688\" rx=\"10\" ry=\"10\" style=\"stroke: #F8F8F8; stroke-width: 1.5;\" width=\"226\" x=\"639\" y=\"49\"/><rect fill=\"#F8F8F8\" height=\"10\" style=\"stroke: #F8F8F8; stroke-width: 1.5;\" width=\"226\" x=\"639\" y=\"62.9688\"/><rect fill=\"none\" height=\"97\" id=\"E5\" rx=\"10\" ry=\"10\" style=\"stroke: #383838; stroke-width: 1.5;\" width=\"226\" x=\"639\" y=\"49\"/><text fill=\"#000000\" font-family=\"sans-serif\" font-size=\"12\" lengthAdjust=\"spacingAndGlyphs\" textLength=\"164\" x=\"670\" y=\"65.1387\">simpleThing: MassedThing</text><line style=\"stroke: #383838; stroke-width: 1.0;\" x1=\"639\" x2=\"865\" y1=\"72.9688\" y2=\"72.9688\"/></a><!--MD5=[168fadf3d0c3fd93dd5d6da1b1d7ab76]\n",
       "cluster E7--><a href=\"psysml:343123b1-0808-41d0-8b17-a6ebb6acc0cb\" target=\"_top\" title=\"psysml:343123b1-0808-41d0-8b17-a6ebb6acc0cb\" xlink:actuate=\"onRequest\" xlink:href=\"psysml:343123b1-0808-41d0-8b17-a6ebb6acc0cb\" xlink:show=\"new\" xlink:title=\"psysml:343123b1-0808-41d0-8b17-a6ebb6acc0cb\" xlink:type=\"simple\"><rect fill=\"#FFFFFF\" height=\"97\" id=\"E7\" rx=\"10\" ry=\"10\" style=\"stroke: #383838; stroke-width: 1.5;\" width=\"341\" x=\"274\" y=\"49\"/><rect fill=\"#F8F8F8\" height=\"23.9688\" rx=\"10\" ry=\"10\" style=\"stroke: #F8F8F8; stroke-width: 1.5;\" width=\"341\" x=\"274\" y=\"49\"/><rect fill=\"#F8F8F8\" height=\"10\" style=\"stroke: #F8F8F8; stroke-width: 1.5;\" width=\"341\" x=\"274\" y=\"62.9688\"/><rect fill=\"none\" height=\"97\" id=\"E7\" rx=\"10\" ry=\"10\" style=\"stroke: #383838; stroke-width: 1.5;\" width=\"341\" x=\"274\" y=\"49\"/><text fill=\"#000000\" font-family=\"sans-serif\" font-size=\"12\" lengthAdjust=\"spacingAndGlyphs\" textLength=\"189\" x=\"350\" y=\"65.1387\">compositeThing: MassedThing</text><line style=\"stroke: #383838; stroke-width: 1.0;\" x1=\"274\" x2=\"615\" y1=\"72.9688\" y2=\"72.9688\"/></a><!--MD5=[a84b4591f868c1fa4a211716a82f2f0d]\n",
       "cluster E10--><a href=\"psysml:b3309114-4b2b-46b3-9f4f-dc695177bad1\" target=\"_top\" title=\"psysml:b3309114-4b2b-46b3-9f4f-dc695177bad1\" xlink:actuate=\"onRequest\" xlink:href=\"psysml:b3309114-4b2b-46b3-9f4f-dc695177bad1\" xlink:show=\"new\" xlink:title=\"psysml:b3309114-4b2b-46b3-9f4f-dc695177bad1\" xlink:type=\"simple\"><rect fill=\"#FFFFFF\" height=\"97\" id=\"E10\" rx=\"10\" ry=\"10\" style=\"stroke: #383838; stroke-width: 1.5;\" width=\"210\" x=\"40\" y=\"49\"/><rect fill=\"#F8F8F8\" height=\"23.9688\" rx=\"10\" ry=\"10\" style=\"stroke: #F8F8F8; stroke-width: 1.5;\" width=\"210\" x=\"40\" y=\"49\"/><rect fill=\"#F8F8F8\" height=\"10\" style=\"stroke: #F8F8F8; stroke-width: 1.5;\" width=\"210\" x=\"40\" y=\"62.9688\"/><rect fill=\"none\" height=\"97\" id=\"E10\" rx=\"10\" ry=\"10\" style=\"stroke: #383838; stroke-width: 1.5;\" width=\"210\" x=\"40\" y=\"49\"/><text fill=\"#000000\" font-family=\"sans-serif\" font-size=\"12\" lengthAdjust=\"spacingAndGlyphs\" textLength=\"110\" x=\"90\" y=\"65.1387\">filteredMassThing</text><line style=\"stroke: #383838; stroke-width: 1.0;\" x1=\"40\" x2=\"250\" y1=\"72.9688\" y2=\"72.9688\"/></a><!--MD5=[09b614a08d8cba4a07c9adeb5e0fee81]\n",
       "class E3--><a href=\"psysml:61227fbe-a3c3-436a-919d-ba064597e112\" target=\"_top\" title=\"psysml:61227fbe-a3c3-436a-919d-ba064597e112\" xlink:actuate=\"onRequest\" xlink:href=\"psysml:61227fbe-a3c3-436a-919d-ba064597e112\" xlink:show=\"new\" xlink:title=\"psysml:61227fbe-a3c3-436a-919d-ba064597e112\" xlink:type=\"simple\"><rect fill=\"#FFFFFF\" height=\"45.9375\" id=\"E3\" rx=\"10\" ry=\"10\" style=\"stroke: #383838; stroke-width: 1.5;\" width=\"71\" x=\"633.5\" y=\"221\"/><text fill=\"#000000\" font-family=\"sans-serif\" font-size=\"12\" font-style=\"italic\" lengthAdjust=\"spacingAndGlyphs\" textLength=\"69\" x=\"634.5\" y=\"237.1387\">«attribute»</text><text fill=\"#000000\" font-family=\"sans-serif\" font-size=\"12\" lengthAdjust=\"spacingAndGlyphs\" textLength=\"33\" x=\"652.5\" y=\"251.1074\">mass</text><line style=\"stroke: #383838; stroke-width: 1.5;\" x1=\"634.5\" x2=\"703.5\" y1=\"258.9375\" y2=\"258.9375\"/></a><!--MD5=[ebbe1d658d1005bcc118a6aa81145e00]\n",
       "class E4--><a href=\"psysml:bca4197d-355d-4faa-812b-dbfc0b076639\" target=\"_top\" title=\"psysml:bca4197d-355d-4faa-812b-dbfc0b076639\" xlink:actuate=\"onRequest\" xlink:href=\"psysml:bca4197d-355d-4faa-812b-dbfc0b076639\" xlink:show=\"new\" xlink:title=\"psysml:bca4197d-355d-4faa-812b-dbfc0b076639\" xlink:type=\"simple\"><rect fill=\"#FFFFFF\" height=\"45.9375\" id=\"E4\" rx=\"10\" ry=\"10\" style=\"stroke: #383838; stroke-width: 1.5;\" width=\"71\" x=\"527.5\" y=\"221\"/><text fill=\"#000000\" font-family=\"sans-serif\" font-size=\"12\" font-style=\"italic\" lengthAdjust=\"spacingAndGlyphs\" textLength=\"69\" x=\"528.5\" y=\"237.1387\">«attribute»</text><text fill=\"#000000\" font-family=\"sans-serif\" font-size=\"12\" lengthAdjust=\"spacingAndGlyphs\" textLength=\"61\" x=\"532.5\" y=\"251.1074\">totalMass</text><line style=\"stroke: #383838; stroke-width: 1.5;\" x1=\"528.5\" x2=\"597.5\" y1=\"258.9375\" y2=\"258.9375\"/></a><!--MD5=[60a26617385b1d2d0262a64233df1f8d]\n",
       "class E6--><a href=\"psysml:5dd4dd8f-7a34-4faa-ae4e-b0f44a463cf1\" target=\"_top\" title=\"psysml:5dd4dd8f-7a34-4faa-ae4e-b0f44a463cf1\" xlink:actuate=\"onRequest\" xlink:href=\"psysml:5dd4dd8f-7a34-4faa-ae4e-b0f44a463cf1\" xlink:show=\"new\" xlink:title=\"psysml:5dd4dd8f-7a34-4faa-ae4e-b0f44a463cf1\" xlink:type=\"simple\"><rect fill=\"#FFFFFF\" height=\"45.9375\" id=\"E6\" rx=\"10\" ry=\"10\" style=\"stroke: #383838; stroke-width: 1.5;\" width=\"71\" x=\"655.5\" y=\"84\"/><text fill=\"#000000\" font-family=\"sans-serif\" font-size=\"12\" font-style=\"italic\" lengthAdjust=\"spacingAndGlyphs\" textLength=\"69\" x=\"656.5\" y=\"100.1387\">«attribute»</text><text fill=\"#000000\" font-family=\"sans-serif\" font-size=\"12\" lengthAdjust=\"spacingAndGlyphs\" textLength=\"61\" x=\"660.5\" y=\"114.1074\">totalMass</text><line style=\"stroke: #383838; stroke-width: 1.5;\" x1=\"656.5\" x2=\"725.5\" y1=\"121.9375\" y2=\"121.9375\"/></a><!--MD5=[fd4143e9d270a159db93a4ea2a975926]\n",
       "class E9--><a href=\"psysml:cdf15466-8892-46e6-adfe-254829aa90b9\" target=\"_top\" title=\"psysml:cdf15466-8892-46e6-adfe-254829aa90b9\" xlink:actuate=\"onRequest\" xlink:href=\"psysml:cdf15466-8892-46e6-adfe-254829aa90b9\" xlink:show=\"new\" xlink:title=\"psysml:cdf15466-8892-46e6-adfe-254829aa90b9\" xlink:type=\"simple\"><rect fill=\"#FFFFFF\" height=\"45.9375\" id=\"E9\" rx=\"10\" ry=\"10\" style=\"stroke: #383838; stroke-width: 1.5;\" width=\"71\" x=\"527.5\" y=\"84\"/><text fill=\"#000000\" font-family=\"sans-serif\" font-size=\"12\" font-style=\"italic\" lengthAdjust=\"spacingAndGlyphs\" textLength=\"69\" x=\"528.5\" y=\"100.1387\">«attribute»</text><text fill=\"#000000\" font-family=\"sans-serif\" font-size=\"12\" lengthAdjust=\"spacingAndGlyphs\" textLength=\"61\" x=\"532.5\" y=\"114.1074\">totalMass</text><line style=\"stroke: #383838; stroke-width: 1.5;\" x1=\"528.5\" x2=\"597.5\" y1=\"121.9375\" y2=\"121.9375\"/></a><g id=\"E1.E7.E8\"><a href=\"psysml:09cd1f28-daf0-4d0d-a972-b9bf2a18e992\" target=\"_top\" title=\"psysml:09cd1f28-daf0-4d0d-a972-b9bf2a18e992\" xlink:actuate=\"onRequest\" xlink:href=\"psysml:09cd1f28-daf0-4d0d-a972-b9bf2a18e992\" xlink:show=\"new\" xlink:title=\"psysml:09cd1f28-daf0-4d0d-a972-b9bf2a18e992\" xlink:type=\"simple\"><rect fill=\"#FFFFFF\" height=\"40\" id=\"E8\" rx=\"10\" ry=\"10\" style=\"stroke: #383838; stroke-width: 1.5;\" width=\"202\" x=\"290\" y=\"87\"/><rect fill=\"#F8F8F8\" height=\"23.9688\" rx=\"10\" ry=\"10\" style=\"stroke: #F8F8F8; stroke-width: 1.5;\" width=\"202\" x=\"290\" y=\"87\"/><rect fill=\"#F8F8F8\" height=\"10\" style=\"stroke: #F8F8F8; stroke-width: 1.5;\" width=\"202\" x=\"290\" y=\"100.9688\"/><rect fill=\"none\" height=\"40\" id=\"E8\" rx=\"10\" ry=\"10\" style=\"stroke: #383838; stroke-width: 1.5;\" width=\"202\" x=\"290\" y=\"87\"/><text fill=\"#000000\" font-family=\"sans-serif\" font-size=\"12\" lengthAdjust=\"spacingAndGlyphs\" textLength=\"191\" x=\"295.5\" y=\"103.1387\">subcomponents: MassedThing</text></a></g><!--MD5=[1dd1bfd58a279cf63c5f349dbc8fc6a1]\n",
       "class E11--><a href=\"psysml:a48dd455-5237-4be3-af61-27e5094ede20\" target=\"_top\" title=\"psysml:a48dd455-5237-4be3-af61-27e5094ede20\" xlink:actuate=\"onRequest\" xlink:href=\"psysml:a48dd455-5237-4be3-af61-27e5094ede20\" xlink:show=\"new\" xlink:title=\"psysml:a48dd455-5237-4be3-af61-27e5094ede20\" xlink:type=\"simple\"><rect fill=\"#FFFFFF\" height=\"45.9375\" id=\"E11\" rx=\"10\" ry=\"10\" style=\"stroke: #383838; stroke-width: 1.5;\" width=\"71\" x=\"162.5\" y=\"84\"/><text fill=\"#000000\" font-family=\"sans-serif\" font-size=\"12\" font-style=\"italic\" lengthAdjust=\"spacingAndGlyphs\" textLength=\"69\" x=\"163.5\" y=\"100.1387\">«attribute»</text><text fill=\"#000000\" font-family=\"sans-serif\" font-size=\"12\" lengthAdjust=\"spacingAndGlyphs\" textLength=\"54\" x=\"171\" y=\"114.1074\">minMass</text><line style=\"stroke: #383838; stroke-width: 1.5;\" x1=\"163.5\" x2=\"232.5\" y1=\"121.9375\" y2=\"121.9375\"/></a><!--MD5=[49a0ec8f00dab7302a31f22d0f0fe584]\n",
       "class E12--><a href=\"psysml:30a4b720-38dc-4ed2-81db-b244fb944fc9\" target=\"_top\" title=\"psysml:30a4b720-38dc-4ed2-81db-b244fb944fc9\" xlink:actuate=\"onRequest\" xlink:href=\"psysml:30a4b720-38dc-4ed2-81db-b244fb944fc9\" xlink:show=\"new\" xlink:title=\"psysml:30a4b720-38dc-4ed2-81db-b244fb944fc9\" xlink:type=\"simple\"><rect fill=\"#FFFFFF\" height=\"45.9375\" id=\"E12\" rx=\"10\" ry=\"10\" style=\"stroke: #383838; stroke-width: 1.5;\" width=\"71\" x=\"56.5\" y=\"84\"/><text fill=\"#000000\" font-family=\"sans-serif\" font-size=\"12\" font-style=\"italic\" lengthAdjust=\"spacingAndGlyphs\" textLength=\"69\" x=\"57.5\" y=\"100.1387\">«attribute»</text><text fill=\"#000000\" font-family=\"sans-serif\" font-size=\"12\" lengthAdjust=\"spacingAndGlyphs\" textLength=\"61\" x=\"61.5\" y=\"114.1074\">totalMass</text><line style=\"stroke: #383838; stroke-width: 1.5;\" x1=\"57.5\" x2=\"126.5\" y1=\"121.9375\" y2=\"121.9375\"/></a><!--MD5=[f667431f98296947986a1a7595a31603]\n",
       "link E6 to E4--><a href=\"psysml:45db29a4-a6b7-4500-b8a0-ae6511957b42\" target=\"_top\" title=\"psysml:45db29a4-a6b7-4500-b8a0-ae6511957b42\" xlink:actuate=\"onRequest\" xlink:href=\"psysml:45db29a4-a6b7-4500-b8a0-ae6511957b42\" xlink:show=\"new\" xlink:title=\"psysml:45db29a4-a6b7-4500-b8a0-ae6511957b42\" xlink:type=\"simple\"><path d=\"M655.27,129.75 C642.07,138.77 627.53,149.94 616,162 C604.21,174.33 593.43,189.62 584.73,203.58 \" fill=\"none\" id=\"E6-&gt;E4\" style=\"stroke: #383838; stroke-width: 1.0;\"/><polygon fill=\"#FFFFFF\" points=\"574.55,220.81,578.1693,200.8876,590.2295,207.9977,574.55,220.81\" style=\"stroke: #383838; stroke-width: 1.0;\"/><line style=\"stroke: #383838; stroke-width: 2.0;\" x1=\"580.0992\" x2=\"592.1593\" y1=\"197.6142\" y2=\"204.7243\"/></a><!--MD5=[c2be97adba6ddfe1c8f349fab141c927]\n",
       "link E9 to E4--><a href=\"psysml:37d702c0-130d-4d04-819a-f2439f71afff\" target=\"_top\" title=\"psysml:37d702c0-130d-4d04-819a-f2439f71afff\" xlink:actuate=\"onRequest\" xlink:href=\"psysml:37d702c0-130d-4d04-819a-f2439f71afff\" xlink:show=\"new\" xlink:title=\"psysml:37d702c0-130d-4d04-819a-f2439f71afff\" xlink:type=\"simple\"><path d=\"M563,130.29 C563,149.35 563,177.29 563,200.59 \" fill=\"none\" id=\"E9-&gt;E4\" style=\"stroke: #383838; stroke-width: 1.0;\"/><polygon fill=\"#FFFFFF\" points=\"563,220.67,556,201.67,570,201.67,563,220.67\" style=\"stroke: #383838; stroke-width: 1.0;\"/><line style=\"stroke: #383838; stroke-width: 2.0;\" x1=\"556\" x2=\"570\" y1=\"197.87\" y2=\"197.87\"/></a><!--MD5=[8eb720c440db06832f98fefdd34bbf11]\n",
       "link E12 to E4--><a href=\"psysml:c9530ed5-65d1-46ac-ab61-a00231b23eba\" target=\"_top\" title=\"psysml:c9530ed5-65d1-46ac-ab61-a00231b23eba\" xlink:actuate=\"onRequest\" xlink:href=\"psysml:c9530ed5-65d1-46ac-ab61-a00231b23eba\" xlink:show=\"new\" xlink:title=\"psysml:c9530ed5-65d1-46ac-ab61-a00231b23eba\" xlink:type=\"simple\"><path d=\"M112.6,130.22 C121.74,138.86 133.11,148.08 145,154 C265.22,213.91 424.44,233.59 507.38,239.99 \" fill=\"none\" id=\"E12-&gt;E4\" style=\"stroke: #383838; stroke-width: 1.0;\"/><polygon fill=\"#FFFFFF\" points=\"527.47,241.39,508.0267,247.0433,509.0064,233.0776,527.47,241.39\" style=\"stroke: #383838; stroke-width: 1.0;\"/><line style=\"stroke: #383838; stroke-width: 2.0;\" x1=\"504.236\" x2=\"505.2157\" y1=\"246.7773\" y2=\"232.8117\"/></a><!--MD5=[e9bf32345f4245f2302a921c431394d1]\n",
       "@startuml\r\n",
       "skinparam ranksep 10\r\n",
       "skinparam rectangle {\r\n",
       " backgroundColor<<block>> LightGreen\r\n",
       "}\r\n",
       "top to bottom direction\r\n",
       "skinparam monochrome true\r\n",
       "skinparam classbackgroundcolor white\r\n",
       "skinparam shadowing false\r\n",
       "skinparam wrapWidth 300\r\n",
       "hide circle\r\n",
       "\r\n",
       "package \"MassRollup\" as E1  [[psysml:93cce498-741b-46da-9a76-47f8a90b0e87 ]]  {\r\n",
       "rec def \"MassedThing\" as E2  <<(T,blue)part def>> [[psysml:2bfc4bf5-5785-4629-99c8-bf06d3584a79 ]] {\r\n",
       "comp usage \"mass\" as E3  <<(T,blue)attribute>> [[psysml:61227fbe-a3c3-436a-919d-ba064597e112 ]] {\r\n",
       "}\r\n",
       "comp usage \"totalMass\" as E4  <<(T,blue)attribute>> [[psysml:bca4197d-355d-4faa-812b-dbfc0b076639 ]] {\r\n",
       "}\r\n",
       "}\r\n",
       "rec usage \"simpleThing: MassedThing\" as E5  [[psysml:d9d69a25-c21e-4c46-a572-d7b139b6ee26 ]] {\r\n",
       "comp usage \"totalMass\" as E6  <<(T,blue)attribute>> [[psysml:5dd4dd8f-7a34-4faa-ae4e-b0f44a463cf1 ]] {\r\n",
       "}\r\n",
       "}\r\n",
       "rec usage \"compositeThing: MassedThing\" as E7  [[psysml:343123b1-0808-41d0-8b17-a6ebb6acc0cb ]] {\r\n",
       "rec usage \"subcomponents: MassedThing\" as E8  [[psysml:09cd1f28-daf0-4d0d-a972-b9bf2a18e992 ]] {\r\n",
       "}\r\n",
       "comp usage \"totalMass\" as E9  <<(T,blue)attribute>> [[psysml:cdf15466-8892-46e6-adfe-254829aa90b9 ]] {\r\n",
       "}\r\n",
       "}\r\n",
       "rec usage \"filteredMassThing\" as E10  [[psysml:b3309114-4b2b-46b3-9f4f-dc695177bad1 ]] {\r\n",
       "comp usage \"minMass\" as E11  <<(T,blue)attribute>> [[psysml:a48dd455-5237-4be3-af61-27e5094ede20 ]] {\r\n",
       "}\r\n",
       "comp usage \"totalMass\" as E12  <<(T,blue)attribute>> [[psysml:30a4b720-38dc-4ed2-81db-b244fb944fc9 ]] {\r\n",
       "}\r\n",
       "}\r\n",
       "E6 - -||> E4 [[psysml:45db29a4-a6b7-4500-b8a0-ae6511957b42 ]] \r\n",
       "E9 - -||> E4 [[psysml:37d702c0-130d-4d04-819a-f2439f71afff ]] \r\n",
       "E12 - -||> E4 [[psysml:c9530ed5-65d1-46ac-ab61-a00231b23eba ]] \r\n",
       "}\r\n",
       "@enduml\r\n",
       "\n",
       "PlantUML version 1.2020.13(Sat Jun 13 12:26:38 UTC 2020)\n",
       "(EPL source distribution)\n",
       "Java Runtime: OpenJDK Runtime Environment\n",
       "JVM: OpenJDK 64-Bit Server VM\n",
       "Default Encoding: UTF-8\n",
       "Language: en\n",
       "Country: null\n",
       "--></g></svg>"
      ]
     },
     "execution_count": 47,
     "metadata": {},
     "output_type": "execute_result"
    }
   ],
   "source": [
    "%viz --style=\"TB\" --view=\"Interconnection\" \"MassRollup\""
   ]
  },
  {
   "cell_type": "code",
   "execution_count": 48,
   "id": "4febbfe5",
   "metadata": {
    "execution": {
     "iopub.execute_input": "2021-04-20T07:27:01.181008Z",
     "iopub.status.busy": "2021-04-20T07:27:01.180478Z",
     "iopub.status.idle": "2021-04-20T07:27:01.187044Z",
     "shell.execute_reply": "2021-04-20T07:27:01.186611Z"
    }
   },
   "outputs": [
    {
     "data": {
      "image/svg+xml": [
       "<?xml version=\"1.0\" encoding=\"UTF-8\" standalone=\"no\"?><svg xmlns=\"http://www.w3.org/2000/svg\" xmlns:xlink=\"http://www.w3.org/1999/xlink\" contentScriptType=\"application/ecmascript\" contentStyleType=\"text/css\" height=\"12px\" preserveAspectRatio=\"none\" style=\"width:12px;height:12px;\" version=\"1.1\" viewBox=\"0 0 12 12\" width=\"12px\" zoomAndPan=\"magnify\"><defs/><g><!--MD5=[06afc254b03ac5e9d9fb7773b07d0800]\n",
       "@startuml\r\n",
       "skinparam ranksep 8\r\n",
       "top to bottom direction\r\n",
       "skinparam monochrome true\r\n",
       "skinparam classbackgroundcolor white\r\n",
       "skinparam shadowing false\r\n",
       "skinparam wrapWidth 300\r\n",
       "hide circle\r\n",
       "\r\n",
       "@enduml\r\n",
       "\n",
       "PlantUML version 1.2020.13(Sat Jun 13 12:26:38 UTC 2020)\n",
       "(EPL source distribution)\n",
       "Java Runtime: OpenJDK Runtime Environment\n",
       "JVM: OpenJDK 64-Bit Server VM\n",
       "Default Encoding: UTF-8\n",
       "Language: en\n",
       "Country: null\n",
       "--></g></svg>"
      ]
     },
     "execution_count": 48,
     "metadata": {},
     "output_type": "execute_result"
    }
   ],
   "source": [
    "%viz --style=\"TB\" --view=\"Action\" \"MassRollup\""
   ]
  },
  {
   "cell_type": "code",
   "execution_count": 49,
   "id": "9de6b41d",
   "metadata": {
    "execution": {
     "iopub.execute_input": "2021-04-20T07:27:01.238185Z",
     "iopub.status.busy": "2021-04-20T07:27:01.237610Z",
     "iopub.status.idle": "2021-04-20T07:27:01.421683Z",
     "shell.execute_reply": "2021-04-20T07:27:01.419721Z"
    }
   },
   "outputs": [
    {
     "data": {
      "image/svg+xml": [
       "<?xml version=\"1.0\" encoding=\"UTF-8\" standalone=\"no\"?><svg xmlns=\"http://www.w3.org/2000/svg\" xmlns:xlink=\"http://www.w3.org/1999/xlink\" contentScriptType=\"application/ecmascript\" contentStyleType=\"text/css\" height=\"640px\" preserveAspectRatio=\"none\" style=\"width:512px;height:640px;\" version=\"1.1\" viewBox=\"0 0 512 640\" width=\"512px\" zoomAndPan=\"magnify\"><defs/><g><!--MD5=[fbc87193dbaf4d95561dea2c320d4a47]\n",
       "cluster E1--><a href=\"psysml:93cce498-741b-46da-9a76-47f8a90b0e87\" target=\"_top\" title=\"psysml:93cce498-741b-46da-9a76-47f8a90b0e87\" xlink:actuate=\"onRequest\" xlink:href=\"psysml:93cce498-741b-46da-9a76-47f8a90b0e87\" xlink:show=\"new\" xlink:title=\"psysml:93cce498-741b-46da-9a76-47f8a90b0e87\" xlink:type=\"simple\"><polygon fill=\"#FFFFFF\" points=\"16,6,110,6,117,28.2969,490,28.2969,490,628,16,628,16,6\" style=\"stroke: #000000; stroke-width: 1.5;\"/><line style=\"stroke: #000000; stroke-width: 1.5;\" x1=\"16\" x2=\"117\" y1=\"28.2969\" y2=\"28.2969\"/><text fill=\"#000000\" font-family=\"sans-serif\" font-size=\"14\" font-weight=\"bold\" lengthAdjust=\"spacingAndGlyphs\" textLength=\"88\" x=\"20\" y=\"20.9951\">MassRollup</text></a><!--MD5=[b4997ac47864f28c2f74865a473b2911]\n",
       "class E2--><a href=\"psysml:2bfc4bf5-5785-4629-99c8-bf06d3584a79\" target=\"_top\" title=\"psysml:2bfc4bf5-5785-4629-99c8-bf06d3584a79\" xlink:actuate=\"onRequest\" xlink:href=\"psysml:2bfc4bf5-5785-4629-99c8-bf06d3584a79\" xlink:show=\"new\" xlink:title=\"psysml:2bfc4bf5-5785-4629-99c8-bf06d3584a79\" xlink:type=\"simple\"><rect fill=\"#FFFFFF\" height=\"88.3516\" id=\"E2\" style=\"stroke: #383838; stroke-width: 1.5;\" width=\"88\" x=\"124\" y=\"524\"/><text fill=\"#000000\" font-family=\"sans-serif\" font-size=\"12\" font-style=\"italic\" lengthAdjust=\"spacingAndGlyphs\" textLength=\"64\" x=\"136\" y=\"540.1387\">«part def»</text><text fill=\"#000000\" font-family=\"sans-serif\" font-size=\"12\" lengthAdjust=\"spacingAndGlyphs\" textLength=\"82\" x=\"127\" y=\"554.1074\">MassedThing</text><line style=\"stroke: #383838; stroke-width: 1.5;\" x1=\"125\" x2=\"211\" y1=\"561.9375\" y2=\"561.9375\"/><text fill=\"#000000\" font-family=\"sans-serif\" font-size=\"11\" lengthAdjust=\"spacingAndGlyphs\" textLength=\"32\" x=\"130\" y=\"592.9526\">mass</text><text fill=\"#000000\" font-family=\"sans-serif\" font-size=\"11\" lengthAdjust=\"spacingAndGlyphs\" textLength=\"55\" x=\"130\" y=\"605.7573\">totalMass</text><line style=\"stroke: #383838; stroke-width: 1.0;\" x1=\"125\" x2=\"140.5\" y1=\"576.3398\" y2=\"576.3398\"/><text fill=\"#000000\" font-family=\"sans-serif\" font-size=\"11\" lengthAdjust=\"spacingAndGlyphs\" textLength=\"55\" x=\"140.5\" y=\"579.6479\">attributes</text><line style=\"stroke: #383838; stroke-width: 1.0;\" x1=\"195.5\" x2=\"211\" y1=\"576.3398\" y2=\"576.3398\"/></a><!--MD5=[09b614a08d8cba4a07c9adeb5e0fee81]\n",
       "class E3--><a href=\"psysml:d9d69a25-c21e-4c46-a572-d7b139b6ee26\" target=\"_top\" title=\"psysml:d9d69a25-c21e-4c46-a572-d7b139b6ee26\" xlink:actuate=\"onRequest\" xlink:href=\"psysml:d9d69a25-c21e-4c46-a572-d7b139b6ee26\" xlink:show=\"new\" xlink:title=\"psysml:d9d69a25-c21e-4c46-a572-d7b139b6ee26\" xlink:type=\"simple\"><rect fill=\"#FFFFFF\" height=\"88.3516\" id=\"E3\" rx=\"10\" ry=\"10\" style=\"stroke: #383838; stroke-width: 1.5;\" width=\"172\" x=\"302\" y=\"376\"/><text fill=\"#000000\" font-family=\"sans-serif\" font-size=\"12\" font-style=\"italic\" lengthAdjust=\"spacingAndGlyphs\" textLength=\"40\" x=\"368\" y=\"392.1387\">«part»</text><text fill=\"#000000\" font-family=\"sans-serif\" font-size=\"12\" lengthAdjust=\"spacingAndGlyphs\" textLength=\"164\" x=\"306\" y=\"406.1074\">simpleThing: MassedThing</text><line style=\"stroke: #383838; stroke-width: 1.5;\" x1=\"303\" x2=\"473\" y1=\"413.9375\" y2=\"413.9375\"/><text fill=\"#000000\" font-family=\"sans-serif\" font-size=\"11\" lengthAdjust=\"spacingAndGlyphs\" textLength=\"100\" x=\"308\" y=\"444.9526\">totalMass=mass;</text><text fill=\"#000000\" font-family=\"sans-serif\" font-size=\"11\" font-style=\"italic\" lengthAdjust=\"spacingAndGlyphs\" textLength=\"160\" x=\"308\" y=\"457.7573\">:&gt;&gt;MassedThing::totalMass</text><line style=\"stroke: #383838; stroke-width: 1.0;\" x1=\"303\" x2=\"360.5\" y1=\"428.3398\" y2=\"428.3398\"/><text fill=\"#000000\" font-family=\"sans-serif\" font-size=\"11\" lengthAdjust=\"spacingAndGlyphs\" textLength=\"55\" x=\"360.5\" y=\"431.6479\">attributes</text><line style=\"stroke: #383838; stroke-width: 1.0;\" x1=\"415.5\" x2=\"473\" y1=\"428.3398\" y2=\"428.3398\"/></a><!--MD5=[ebbe1d658d1005bcc118a6aa81145e00]\n",
       "class E4--><a href=\"psysml:343123b1-0808-41d0-8b17-a6ebb6acc0cb\" target=\"_top\" title=\"psysml:343123b1-0808-41d0-8b17-a6ebb6acc0cb\" xlink:actuate=\"onRequest\" xlink:href=\"psysml:343123b1-0808-41d0-8b17-a6ebb6acc0cb\" xlink:show=\"new\" xlink:title=\"psysml:343123b1-0808-41d0-8b17-a6ebb6acc0cb\" xlink:type=\"simple\"><rect fill=\"#FFFFFF\" height=\"101.1563\" id=\"E4\" rx=\"10\" ry=\"10\" style=\"stroke: #383838; stroke-width: 1.5;\" width=\"290\" x=\"32\" y=\"215\"/><text fill=\"#000000\" font-family=\"sans-serif\" font-size=\"12\" font-style=\"italic\" lengthAdjust=\"spacingAndGlyphs\" textLength=\"40\" x=\"157\" y=\"231.1387\">«part»</text><text fill=\"#000000\" font-family=\"sans-serif\" font-size=\"12\" lengthAdjust=\"spacingAndGlyphs\" textLength=\"189\" x=\"82.5\" y=\"245.1074\">compositeThing: MassedThing</text><line style=\"stroke: #383838; stroke-width: 1.5;\" x1=\"33\" x2=\"321\" y1=\"252.9375\" y2=\"252.9375\"/><text fill=\"#000000\" font-family=\"sans-serif\" font-size=\"11\" lengthAdjust=\"spacingAndGlyphs\" textLength=\"272\" x=\"38\" y=\"283.9526\">totalMass=mass + (subcomponents-&gt;collect p:</text><text fill=\"#000000\" font-family=\"sans-serif\" font-size=\"11\" lengthAdjust=\"spacingAndGlyphs\" textLength=\"274\" x=\"38\" y=\"296.7573\">MassedThing (p::totalMass)-&gt;reduce '+' ?? 0.0);</text><text fill=\"#000000\" font-family=\"sans-serif\" font-size=\"11\" font-style=\"italic\" lengthAdjust=\"spacingAndGlyphs\" textLength=\"160\" x=\"38\" y=\"309.562\">:&gt;&gt;MassedThing::totalMass</text><line style=\"stroke: #383838; stroke-width: 1.0;\" x1=\"33\" x2=\"149.5\" y1=\"267.3398\" y2=\"267.3398\"/><text fill=\"#000000\" font-family=\"sans-serif\" font-size=\"11\" lengthAdjust=\"spacingAndGlyphs\" textLength=\"55\" x=\"149.5\" y=\"270.6479\">attributes</text><line style=\"stroke: #383838; stroke-width: 1.0;\" x1=\"204.5\" x2=\"321\" y1=\"267.3398\" y2=\"267.3398\"/></a><!--MD5=[270fce915f116d4de14055a7c1d9a0f3]\n",
       "class E5--><a href=\"psysml:09cd1f28-daf0-4d0d-a972-b9bf2a18e992\" target=\"_top\" title=\"psysml:09cd1f28-daf0-4d0d-a972-b9bf2a18e992\" xlink:actuate=\"onRequest\" xlink:href=\"psysml:09cd1f28-daf0-4d0d-a972-b9bf2a18e992\" xlink:show=\"new\" xlink:title=\"psysml:09cd1f28-daf0-4d0d-a972-b9bf2a18e992\" xlink:type=\"simple\"><rect fill=\"#FFFFFF\" height=\"45.9375\" id=\"E5\" rx=\"10\" ry=\"10\" style=\"stroke: #383838; stroke-width: 1.5;\" width=\"197\" x=\"69.5\" y=\"397\"/><text fill=\"#000000\" font-family=\"sans-serif\" font-size=\"12\" font-style=\"italic\" lengthAdjust=\"spacingAndGlyphs\" textLength=\"40\" x=\"148\" y=\"413.1387\">«part»</text><text fill=\"#000000\" font-family=\"sans-serif\" font-size=\"12\" lengthAdjust=\"spacingAndGlyphs\" textLength=\"191\" x=\"72.5\" y=\"427.1074\">subcomponents: MassedThing</text><line style=\"stroke: #383838; stroke-width: 1.5;\" x1=\"70.5\" x2=\"265.5\" y1=\"434.9375\" y2=\"434.9375\"/></a><!--MD5=[60a26617385b1d2d0262a64233df1f8d]\n",
       "class E6--><a href=\"psysml:b3309114-4b2b-46b3-9f4f-dc695177bad1\" target=\"_top\" title=\"psysml:b3309114-4b2b-46b3-9f4f-dc695177bad1\" xlink:actuate=\"onRequest\" xlink:href=\"psysml:b3309114-4b2b-46b3-9f4f-dc695177bad1\" xlink:show=\"new\" xlink:title=\"psysml:b3309114-4b2b-46b3-9f4f-dc695177bad1\" xlink:type=\"simple\"><rect fill=\"#FFFFFF\" height=\"113.9609\" id=\"E6\" rx=\"10\" ry=\"10\" style=\"stroke: #383838; stroke-width: 1.5;\" width=\"309\" x=\"31.5\" y=\"41\"/><text fill=\"#000000\" font-family=\"sans-serif\" font-size=\"12\" font-style=\"italic\" lengthAdjust=\"spacingAndGlyphs\" textLength=\"40\" x=\"166\" y=\"57.1387\">«part»</text><text fill=\"#000000\" font-family=\"sans-serif\" font-size=\"12\" lengthAdjust=\"spacingAndGlyphs\" textLength=\"110\" x=\"131\" y=\"71.1074\">filteredMassThing</text><line style=\"stroke: #383838; stroke-width: 1.5;\" x1=\"32.5\" x2=\"339.5\" y1=\"78.9375\" y2=\"78.9375\"/><text fill=\"#000000\" font-family=\"sans-serif\" font-size=\"11\" lengthAdjust=\"spacingAndGlyphs\" textLength=\"51\" x=\"37.5\" y=\"109.9526\">minMass</text><text fill=\"#000000\" font-family=\"sans-serif\" font-size=\"11\" lengthAdjust=\"spacingAndGlyphs\" textLength=\"297\" x=\"37.5\" y=\"122.7573\">totalMass=(./subcomponents/mass[p (p &gt; minMass</text><text fill=\"#000000\" font-family=\"sans-serif\" font-size=\"11\" lengthAdjust=\"spacingAndGlyphs\" textLength=\"125\" x=\"37.5\" y=\"135.562\">)])-&gt;reduce '+' ?? 0.0;</text><text fill=\"#000000\" font-family=\"sans-serif\" font-size=\"11\" font-style=\"italic\" lengthAdjust=\"spacingAndGlyphs\" textLength=\"160\" x=\"37.5\" y=\"148.3667\">:&gt;&gt;MassedThing::totalMass</text><line style=\"stroke: #383838; stroke-width: 1.0;\" x1=\"32.5\" x2=\"158.5\" y1=\"93.3398\" y2=\"93.3398\"/><text fill=\"#000000\" font-family=\"sans-serif\" font-size=\"11\" lengthAdjust=\"spacingAndGlyphs\" textLength=\"55\" x=\"158.5\" y=\"96.6479\">attributes</text><line style=\"stroke: #383838; stroke-width: 1.0;\" x1=\"213.5\" x2=\"339.5\" y1=\"93.3398\" y2=\"93.3398\"/></a><!--MD5=[05d275557350bfb9b23a4ef7222b4c39]\n",
       "link E3 to E2--><a href=\"psysml:b7a37c04-3b7e-4fde-bcd3-8ff7c74e6a20\" target=\"_top\" title=\"psysml:b7a37c04-3b7e-4fde-bcd3-8ff7c74e6a20\" xlink:actuate=\"onRequest\" xlink:href=\"psysml:b7a37c04-3b7e-4fde-bcd3-8ff7c74e6a20\" xlink:show=\"new\" xlink:title=\"psysml:b7a37c04-3b7e-4fde-bcd3-8ff7c74e6a20\" xlink:type=\"simple\"><path d=\"M323.18,464.02 C293.44,483.75 258.37,507.03 229.1,526.45 \" fill=\"none\" id=\"E3-&gt;E2\" style=\"stroke: #383838; stroke-width: 1.0;\"/><polygon fill=\"#FFFFFF\" points=\"212.17,537.69,224.1349,521.3547,231.873,533.0219,212.17,537.69\" style=\"stroke: #383838; stroke-width: 1.0;\"/><ellipse cx=\"229.9905\" cy=\"519.871\" fill=\"#383838\" rx=\"2\" ry=\"2\" style=\"stroke: #383838; stroke-width: 1.0;\"/><ellipse cx=\"235.5178\" cy=\"528.2046\" fill=\"#383838\" rx=\"2\" ry=\"2\" style=\"stroke: #383838; stroke-width: 1.0;\"/></a><!--MD5=[185131fc0dcab0a4505a2ebe144e961b]\n",
       "link E4 to E2--><a href=\"psysml:9348166f-8cea-4d7c-a96d-6192465a705e\" target=\"_top\" title=\"psysml:9348166f-8cea-4d7c-a96d-6192465a705e\" xlink:actuate=\"onRequest\" xlink:href=\"psysml:9348166f-8cea-4d7c-a96d-6192465a705e\" xlink:show=\"new\" xlink:title=\"psysml:9348166f-8cea-4d7c-a96d-6192465a705e\" xlink:type=\"simple\"><path d=\"M99.7,316.2 C80.53,332.71 62.48,352.88 52,376 C35.85,411.62 35.97,428.33 52,464 C63.74,490.13 85.76,512.33 107.48,529.36 \" fill=\"none\" id=\"E4-&gt;E2\" style=\"stroke: #383838; stroke-width: 1.0;\"/><polygon fill=\"#FFFFFF\" points=\"123.86,541.35,104.3934,535.7776,112.6617,524.48,123.86,541.35\" style=\"stroke: #383838; stroke-width: 1.0;\"/><ellipse cx=\"100.9748\" cy=\"530.7973\" fill=\"#383838\" rx=\"2\" ry=\"2\" style=\"stroke: #383838; stroke-width: 1.0;\"/><ellipse cx=\"106.8807\" cy=\"522.7276\" fill=\"#383838\" rx=\"2\" ry=\"2\" style=\"stroke: #383838; stroke-width: 1.0;\"/></a><!--MD5=[62aa6af11e70f752912c1cb0466f24f7]\n",
       "reverse link E4 to E5--><a href=\"psysml:94e091d2-0286-4211-8181-aedc46ba16d2\" target=\"_top\" title=\"psysml:94e091d2-0286-4211-8181-aedc46ba16d2\" xlink:actuate=\"onRequest\" xlink:href=\"psysml:94e091d2-0286-4211-8181-aedc46ba16d2\" xlink:show=\"new\" xlink:title=\"psysml:94e091d2-0286-4211-8181-aedc46ba16d2\" xlink:type=\"simple\"><path d=\"M173.3,329.13 C171.88,353.21 170.35,379.16 169.3,396.96 \" fill=\"none\" id=\"E4&lt;-E5\" style=\"stroke: #383838; stroke-width: 1.0;\"/><polygon fill=\"#383838\" points=\"174.08,316.01,169.7309,321.762,173.3676,327.9888,177.7167,322.2369,174.08,316.01\" style=\"stroke: #383838; stroke-width: 1.0;\"/><text fill=\"#000000\" font-family=\"sans-serif\" font-size=\"13\" lengthAdjust=\"spacingAndGlyphs\" textLength=\"7\" x=\"161.7088\" y=\"385.8455\">*</text></a><!--MD5=[15ebcb19ae302d9b601edb458606d402]\n",
       "link E5 to E2--><a href=\"psysml:dc08c53a-a0f0-4000-a138-cf80983e3afa\" target=\"_top\" title=\"psysml:dc08c53a-a0f0-4000-a138-cf80983e3afa\" xlink:actuate=\"onRequest\" xlink:href=\"psysml:dc08c53a-a0f0-4000-a138-cf80983e3afa\" xlink:show=\"new\" xlink:title=\"psysml:dc08c53a-a0f0-4000-a138-cf80983e3afa\" xlink:type=\"simple\"><path d=\"M168,443.17 C168,459.31 168,482.04 168,503.62 \" fill=\"none\" id=\"E5-&gt;E2\" style=\"stroke: #383838; stroke-width: 1.0;\"/><polygon fill=\"#FFFFFF\" points=\"168,523.71,161,504.71,175,504.71,168,523.71\" style=\"stroke: #383838; stroke-width: 1.0;\"/><ellipse cx=\"163\" cy=\"499.01\" fill=\"#383838\" rx=\"2\" ry=\"2\" style=\"stroke: #383838; stroke-width: 1.0;\"/><ellipse cx=\"173\" cy=\"499.01\" fill=\"#383838\" rx=\"2\" ry=\"2\" style=\"stroke: #383838; stroke-width: 1.0;\"/></a><!--MD5=[f667431f98296947986a1a7595a31603]\n",
       "link E6 to E4--><a href=\"psysml:b31b3f2c-80ab-44f0-a26e-d801559af683\" target=\"_top\" title=\"psysml:b31b3f2c-80ab-44f0-a26e-d801559af683\" xlink:actuate=\"onRequest\" xlink:href=\"psysml:b31b3f2c-80ab-44f0-a26e-d801559af683\" xlink:show=\"new\" xlink:title=\"psysml:b31b3f2c-80ab-44f0-a26e-d801559af683\" xlink:type=\"simple\"><path d=\"M182.95,155.03 C182.26,167.77 181.52,181.45 180.8,194.69 \" fill=\"none\" id=\"E6-&gt;E4\" style=\"stroke: #383838; stroke-width: 1.0;\"/><polygon fill=\"none\" points=\"187.77,195.32,179.7,214.91,173.79,194.56,187.77,195.32\" style=\"stroke: #383838; stroke-width: 1.0;\"/></a><!--MD5=[c66f3365facd86e3a0c8caeeef8859e8]\n",
       "@startuml\r\n",
       "top to bottom direction\r\n",
       "skinparam monochrome true\r\n",
       "skinparam classbackgroundcolor white\r\n",
       "skinparam shadowing false\r\n",
       "skinparam wrapWidth 300\r\n",
       "hide circle\r\n",
       "\r\n",
       "package \"MassRollup\" as E1  [[psysml:93cce498-741b-46da-9a76-47f8a90b0e87 ]]  {\r\n",
       "comp def \"MassedThing\" as E2  <<(T,blue)part def>> [[psysml:2bfc4bf5-5785-4629-99c8-bf06d3584a79 ]] {\r\n",
       "- - attributes - -\r\n",
       "mass\r\n",
       "totalMass\r\n",
       "}\r\n",
       "comp usage \"simpleThing: MassedThing\" as E3  <<(T,blue)part>> [[psysml:d9d69a25-c21e-4c46-a572-d7b139b6ee26 ]] {\r\n",
       "- - attributes - -\r\n",
       "totalMass=mass; \\n//:>>MassedThing::totalMass// \r\n",
       "}\r\n",
       "comp usage \"compositeThing: MassedThing\" as E4  <<(T,blue)part>> [[psysml:343123b1-0808-41d0-8b17-a6ebb6acc0cb ]] {\r\n",
       "- - attributes - -\r\n",
       "totalMass=mass + (subcomponents->collect p:MassedThing (p::totalMass)->reduce '+' ?? 0.0); \\n//:>>MassedThing::totalMass// \r\n",
       "}\r\n",
       "comp usage \"subcomponents: MassedThing\" as E5  <<(T,blue)part>> [[psysml:09cd1f28-daf0-4d0d-a972-b9bf2a18e992 ]] {\r\n",
       "}\r\n",
       "comp usage \"filteredMassThing\" as E6  <<(T,blue)part>> [[psysml:b3309114-4b2b-46b3-9f4f-dc695177bad1 ]] {\r\n",
       "- - attributes - -\r\n",
       "minMass\r\n",
       "totalMass=(./subcomponents/mass[p (p > minMass)])->reduce '+' ?? 0.0; \\n//:>>MassedThing::totalMass// \r\n",
       "}\r\n",
       "E3 - -:|> E2 [[psysml:b7a37c04-3b7e-4fde-bcd3-8ff7c74e6a20 ]] \r\n",
       "E4 - -:|> E2 [[psysml:9348166f-8cea-4d7c-a96d-6192465a705e ]] \r\n",
       "E4 *- - \"*\"E5 [[psysml:94e091d2-0286-4211-8181-aedc46ba16d2 ]] \r\n",
       "E5 - -:|> E2 [[psysml:dc08c53a-a0f0-4000-a138-cf80983e3afa ]] \r\n",
       "E6 - -|> E4 [[psysml:b31b3f2c-80ab-44f0-a26e-d801559af683 ]] \r\n",
       "}\r\n",
       "@enduml\r\n",
       "\n",
       "PlantUML version 1.2020.13(Sat Jun 13 12:26:38 UTC 2020)\n",
       "(EPL source distribution)\n",
       "Java Runtime: OpenJDK Runtime Environment\n",
       "JVM: OpenJDK 64-Bit Server VM\n",
       "Default Encoding: UTF-8\n",
       "Language: en\n",
       "Country: null\n",
       "--></g></svg>"
      ]
     },
     "execution_count": 49,
     "metadata": {},
     "output_type": "execute_result"
    }
   ],
   "source": [
    "%viz --style=\"TB\" --view=\"Sequence\" \"MassRollup\""
   ]
  },
  {
   "cell_type": "code",
   "execution_count": 50,
   "id": "b64f391f",
   "metadata": {
    "execution": {
     "iopub.execute_input": "2021-04-20T07:27:01.471634Z",
     "iopub.status.busy": "2021-04-20T07:27:01.471104Z",
     "iopub.status.idle": "2021-04-20T07:27:01.658534Z",
     "shell.execute_reply": "2021-04-20T07:27:01.656604Z"
    }
   },
   "outputs": [
    {
     "data": {
      "image/svg+xml": [
       "<?xml version=\"1.0\" encoding=\"UTF-8\" standalone=\"no\"?><svg xmlns=\"http://www.w3.org/2000/svg\" xmlns:xlink=\"http://www.w3.org/1999/xlink\" contentScriptType=\"application/ecmascript\" contentStyleType=\"text/css\" height=\"640px\" preserveAspectRatio=\"none\" style=\"width:512px;height:640px;\" version=\"1.1\" viewBox=\"0 0 512 640\" width=\"512px\" zoomAndPan=\"magnify\"><defs/><g><!--MD5=[fbc87193dbaf4d95561dea2c320d4a47]\n",
       "cluster E1--><a href=\"psysml:93cce498-741b-46da-9a76-47f8a90b0e87\" target=\"_top\" title=\"psysml:93cce498-741b-46da-9a76-47f8a90b0e87\" xlink:actuate=\"onRequest\" xlink:href=\"psysml:93cce498-741b-46da-9a76-47f8a90b0e87\" xlink:show=\"new\" xlink:title=\"psysml:93cce498-741b-46da-9a76-47f8a90b0e87\" xlink:type=\"simple\"><polygon fill=\"#FFFFFF\" points=\"16,6,110,6,117,28.2969,490,28.2969,490,628,16,628,16,6\" style=\"stroke: #000000; stroke-width: 1.5;\"/><line style=\"stroke: #000000; stroke-width: 1.5;\" x1=\"16\" x2=\"117\" y1=\"28.2969\" y2=\"28.2969\"/><text fill=\"#000000\" font-family=\"sans-serif\" font-size=\"14\" font-weight=\"bold\" lengthAdjust=\"spacingAndGlyphs\" textLength=\"88\" x=\"20\" y=\"20.9951\">MassRollup</text></a><!--MD5=[b4997ac47864f28c2f74865a473b2911]\n",
       "class E2--><a href=\"psysml:2bfc4bf5-5785-4629-99c8-bf06d3584a79\" target=\"_top\" title=\"psysml:2bfc4bf5-5785-4629-99c8-bf06d3584a79\" xlink:actuate=\"onRequest\" xlink:href=\"psysml:2bfc4bf5-5785-4629-99c8-bf06d3584a79\" xlink:show=\"new\" xlink:title=\"psysml:2bfc4bf5-5785-4629-99c8-bf06d3584a79\" xlink:type=\"simple\"><rect fill=\"#FFFFFF\" height=\"88.3516\" id=\"E2\" style=\"stroke: #383838; stroke-width: 1.5;\" width=\"88\" x=\"124\" y=\"524\"/><text fill=\"#000000\" font-family=\"sans-serif\" font-size=\"12\" font-style=\"italic\" lengthAdjust=\"spacingAndGlyphs\" textLength=\"64\" x=\"136\" y=\"540.1387\">«part def»</text><text fill=\"#000000\" font-family=\"sans-serif\" font-size=\"12\" lengthAdjust=\"spacingAndGlyphs\" textLength=\"82\" x=\"127\" y=\"554.1074\">MassedThing</text><line style=\"stroke: #383838; stroke-width: 1.5;\" x1=\"125\" x2=\"211\" y1=\"561.9375\" y2=\"561.9375\"/><text fill=\"#000000\" font-family=\"sans-serif\" font-size=\"11\" lengthAdjust=\"spacingAndGlyphs\" textLength=\"32\" x=\"130\" y=\"592.9526\">mass</text><text fill=\"#000000\" font-family=\"sans-serif\" font-size=\"11\" lengthAdjust=\"spacingAndGlyphs\" textLength=\"55\" x=\"130\" y=\"605.7573\">totalMass</text><line style=\"stroke: #383838; stroke-width: 1.0;\" x1=\"125\" x2=\"140.5\" y1=\"576.3398\" y2=\"576.3398\"/><text fill=\"#000000\" font-family=\"sans-serif\" font-size=\"11\" lengthAdjust=\"spacingAndGlyphs\" textLength=\"55\" x=\"140.5\" y=\"579.6479\">attributes</text><line style=\"stroke: #383838; stroke-width: 1.0;\" x1=\"195.5\" x2=\"211\" y1=\"576.3398\" y2=\"576.3398\"/></a><!--MD5=[09b614a08d8cba4a07c9adeb5e0fee81]\n",
       "class E3--><a href=\"psysml:d9d69a25-c21e-4c46-a572-d7b139b6ee26\" target=\"_top\" title=\"psysml:d9d69a25-c21e-4c46-a572-d7b139b6ee26\" xlink:actuate=\"onRequest\" xlink:href=\"psysml:d9d69a25-c21e-4c46-a572-d7b139b6ee26\" xlink:show=\"new\" xlink:title=\"psysml:d9d69a25-c21e-4c46-a572-d7b139b6ee26\" xlink:type=\"simple\"><rect fill=\"#FFFFFF\" height=\"88.3516\" id=\"E3\" rx=\"10\" ry=\"10\" style=\"stroke: #383838; stroke-width: 1.5;\" width=\"172\" x=\"302\" y=\"376\"/><text fill=\"#000000\" font-family=\"sans-serif\" font-size=\"12\" font-style=\"italic\" lengthAdjust=\"spacingAndGlyphs\" textLength=\"40\" x=\"368\" y=\"392.1387\">«part»</text><text fill=\"#000000\" font-family=\"sans-serif\" font-size=\"12\" lengthAdjust=\"spacingAndGlyphs\" textLength=\"164\" x=\"306\" y=\"406.1074\">simpleThing: MassedThing</text><line style=\"stroke: #383838; stroke-width: 1.5;\" x1=\"303\" x2=\"473\" y1=\"413.9375\" y2=\"413.9375\"/><text fill=\"#000000\" font-family=\"sans-serif\" font-size=\"11\" lengthAdjust=\"spacingAndGlyphs\" textLength=\"100\" x=\"308\" y=\"444.9526\">totalMass=mass;</text><text fill=\"#000000\" font-family=\"sans-serif\" font-size=\"11\" font-style=\"italic\" lengthAdjust=\"spacingAndGlyphs\" textLength=\"160\" x=\"308\" y=\"457.7573\">:&gt;&gt;MassedThing::totalMass</text><line style=\"stroke: #383838; stroke-width: 1.0;\" x1=\"303\" x2=\"360.5\" y1=\"428.3398\" y2=\"428.3398\"/><text fill=\"#000000\" font-family=\"sans-serif\" font-size=\"11\" lengthAdjust=\"spacingAndGlyphs\" textLength=\"55\" x=\"360.5\" y=\"431.6479\">attributes</text><line style=\"stroke: #383838; stroke-width: 1.0;\" x1=\"415.5\" x2=\"473\" y1=\"428.3398\" y2=\"428.3398\"/></a><!--MD5=[ebbe1d658d1005bcc118a6aa81145e00]\n",
       "class E4--><a href=\"psysml:343123b1-0808-41d0-8b17-a6ebb6acc0cb\" target=\"_top\" title=\"psysml:343123b1-0808-41d0-8b17-a6ebb6acc0cb\" xlink:actuate=\"onRequest\" xlink:href=\"psysml:343123b1-0808-41d0-8b17-a6ebb6acc0cb\" xlink:show=\"new\" xlink:title=\"psysml:343123b1-0808-41d0-8b17-a6ebb6acc0cb\" xlink:type=\"simple\"><rect fill=\"#FFFFFF\" height=\"101.1563\" id=\"E4\" rx=\"10\" ry=\"10\" style=\"stroke: #383838; stroke-width: 1.5;\" width=\"290\" x=\"32\" y=\"215\"/><text fill=\"#000000\" font-family=\"sans-serif\" font-size=\"12\" font-style=\"italic\" lengthAdjust=\"spacingAndGlyphs\" textLength=\"40\" x=\"157\" y=\"231.1387\">«part»</text><text fill=\"#000000\" font-family=\"sans-serif\" font-size=\"12\" lengthAdjust=\"spacingAndGlyphs\" textLength=\"189\" x=\"82.5\" y=\"245.1074\">compositeThing: MassedThing</text><line style=\"stroke: #383838; stroke-width: 1.5;\" x1=\"33\" x2=\"321\" y1=\"252.9375\" y2=\"252.9375\"/><text fill=\"#000000\" font-family=\"sans-serif\" font-size=\"11\" lengthAdjust=\"spacingAndGlyphs\" textLength=\"272\" x=\"38\" y=\"283.9526\">totalMass=mass + (subcomponents-&gt;collect p:</text><text fill=\"#000000\" font-family=\"sans-serif\" font-size=\"11\" lengthAdjust=\"spacingAndGlyphs\" textLength=\"274\" x=\"38\" y=\"296.7573\">MassedThing (p::totalMass)-&gt;reduce '+' ?? 0.0);</text><text fill=\"#000000\" font-family=\"sans-serif\" font-size=\"11\" font-style=\"italic\" lengthAdjust=\"spacingAndGlyphs\" textLength=\"160\" x=\"38\" y=\"309.562\">:&gt;&gt;MassedThing::totalMass</text><line style=\"stroke: #383838; stroke-width: 1.0;\" x1=\"33\" x2=\"149.5\" y1=\"267.3398\" y2=\"267.3398\"/><text fill=\"#000000\" font-family=\"sans-serif\" font-size=\"11\" lengthAdjust=\"spacingAndGlyphs\" textLength=\"55\" x=\"149.5\" y=\"270.6479\">attributes</text><line style=\"stroke: #383838; stroke-width: 1.0;\" x1=\"204.5\" x2=\"321\" y1=\"267.3398\" y2=\"267.3398\"/></a><!--MD5=[270fce915f116d4de14055a7c1d9a0f3]\n",
       "class E5--><a href=\"psysml:09cd1f28-daf0-4d0d-a972-b9bf2a18e992\" target=\"_top\" title=\"psysml:09cd1f28-daf0-4d0d-a972-b9bf2a18e992\" xlink:actuate=\"onRequest\" xlink:href=\"psysml:09cd1f28-daf0-4d0d-a972-b9bf2a18e992\" xlink:show=\"new\" xlink:title=\"psysml:09cd1f28-daf0-4d0d-a972-b9bf2a18e992\" xlink:type=\"simple\"><rect fill=\"#FFFFFF\" height=\"45.9375\" id=\"E5\" rx=\"10\" ry=\"10\" style=\"stroke: #383838; stroke-width: 1.5;\" width=\"197\" x=\"69.5\" y=\"397\"/><text fill=\"#000000\" font-family=\"sans-serif\" font-size=\"12\" font-style=\"italic\" lengthAdjust=\"spacingAndGlyphs\" textLength=\"40\" x=\"148\" y=\"413.1387\">«part»</text><text fill=\"#000000\" font-family=\"sans-serif\" font-size=\"12\" lengthAdjust=\"spacingAndGlyphs\" textLength=\"191\" x=\"72.5\" y=\"427.1074\">subcomponents: MassedThing</text><line style=\"stroke: #383838; stroke-width: 1.5;\" x1=\"70.5\" x2=\"265.5\" y1=\"434.9375\" y2=\"434.9375\"/></a><!--MD5=[60a26617385b1d2d0262a64233df1f8d]\n",
       "class E6--><a href=\"psysml:b3309114-4b2b-46b3-9f4f-dc695177bad1\" target=\"_top\" title=\"psysml:b3309114-4b2b-46b3-9f4f-dc695177bad1\" xlink:actuate=\"onRequest\" xlink:href=\"psysml:b3309114-4b2b-46b3-9f4f-dc695177bad1\" xlink:show=\"new\" xlink:title=\"psysml:b3309114-4b2b-46b3-9f4f-dc695177bad1\" xlink:type=\"simple\"><rect fill=\"#FFFFFF\" height=\"113.9609\" id=\"E6\" rx=\"10\" ry=\"10\" style=\"stroke: #383838; stroke-width: 1.5;\" width=\"309\" x=\"31.5\" y=\"41\"/><text fill=\"#000000\" font-family=\"sans-serif\" font-size=\"12\" font-style=\"italic\" lengthAdjust=\"spacingAndGlyphs\" textLength=\"40\" x=\"166\" y=\"57.1387\">«part»</text><text fill=\"#000000\" font-family=\"sans-serif\" font-size=\"12\" lengthAdjust=\"spacingAndGlyphs\" textLength=\"110\" x=\"131\" y=\"71.1074\">filteredMassThing</text><line style=\"stroke: #383838; stroke-width: 1.5;\" x1=\"32.5\" x2=\"339.5\" y1=\"78.9375\" y2=\"78.9375\"/><text fill=\"#000000\" font-family=\"sans-serif\" font-size=\"11\" lengthAdjust=\"spacingAndGlyphs\" textLength=\"51\" x=\"37.5\" y=\"109.9526\">minMass</text><text fill=\"#000000\" font-family=\"sans-serif\" font-size=\"11\" lengthAdjust=\"spacingAndGlyphs\" textLength=\"297\" x=\"37.5\" y=\"122.7573\">totalMass=(./subcomponents/mass[p (p &gt; minMass</text><text fill=\"#000000\" font-family=\"sans-serif\" font-size=\"11\" lengthAdjust=\"spacingAndGlyphs\" textLength=\"125\" x=\"37.5\" y=\"135.562\">)])-&gt;reduce '+' ?? 0.0;</text><text fill=\"#000000\" font-family=\"sans-serif\" font-size=\"11\" font-style=\"italic\" lengthAdjust=\"spacingAndGlyphs\" textLength=\"160\" x=\"37.5\" y=\"148.3667\">:&gt;&gt;MassedThing::totalMass</text><line style=\"stroke: #383838; stroke-width: 1.0;\" x1=\"32.5\" x2=\"158.5\" y1=\"93.3398\" y2=\"93.3398\"/><text fill=\"#000000\" font-family=\"sans-serif\" font-size=\"11\" lengthAdjust=\"spacingAndGlyphs\" textLength=\"55\" x=\"158.5\" y=\"96.6479\">attributes</text><line style=\"stroke: #383838; stroke-width: 1.0;\" x1=\"213.5\" x2=\"339.5\" y1=\"93.3398\" y2=\"93.3398\"/></a><!--MD5=[05d275557350bfb9b23a4ef7222b4c39]\n",
       "link E3 to E2--><a href=\"psysml:b7a37c04-3b7e-4fde-bcd3-8ff7c74e6a20\" target=\"_top\" title=\"psysml:b7a37c04-3b7e-4fde-bcd3-8ff7c74e6a20\" xlink:actuate=\"onRequest\" xlink:href=\"psysml:b7a37c04-3b7e-4fde-bcd3-8ff7c74e6a20\" xlink:show=\"new\" xlink:title=\"psysml:b7a37c04-3b7e-4fde-bcd3-8ff7c74e6a20\" xlink:type=\"simple\"><path d=\"M323.18,464.02 C293.44,483.75 258.37,507.03 229.1,526.45 \" fill=\"none\" id=\"E3-&gt;E2\" style=\"stroke: #383838; stroke-width: 1.0;\"/><polygon fill=\"#FFFFFF\" points=\"212.17,537.69,224.1349,521.3547,231.873,533.0219,212.17,537.69\" style=\"stroke: #383838; stroke-width: 1.0;\"/><ellipse cx=\"229.9905\" cy=\"519.871\" fill=\"#383838\" rx=\"2\" ry=\"2\" style=\"stroke: #383838; stroke-width: 1.0;\"/><ellipse cx=\"235.5178\" cy=\"528.2046\" fill=\"#383838\" rx=\"2\" ry=\"2\" style=\"stroke: #383838; stroke-width: 1.0;\"/></a><!--MD5=[185131fc0dcab0a4505a2ebe144e961b]\n",
       "link E4 to E2--><a href=\"psysml:9348166f-8cea-4d7c-a96d-6192465a705e\" target=\"_top\" title=\"psysml:9348166f-8cea-4d7c-a96d-6192465a705e\" xlink:actuate=\"onRequest\" xlink:href=\"psysml:9348166f-8cea-4d7c-a96d-6192465a705e\" xlink:show=\"new\" xlink:title=\"psysml:9348166f-8cea-4d7c-a96d-6192465a705e\" xlink:type=\"simple\"><path d=\"M99.7,316.2 C80.53,332.71 62.48,352.88 52,376 C35.85,411.62 35.97,428.33 52,464 C63.74,490.13 85.76,512.33 107.48,529.36 \" fill=\"none\" id=\"E4-&gt;E2\" style=\"stroke: #383838; stroke-width: 1.0;\"/><polygon fill=\"#FFFFFF\" points=\"123.86,541.35,104.3934,535.7776,112.6617,524.48,123.86,541.35\" style=\"stroke: #383838; stroke-width: 1.0;\"/><ellipse cx=\"100.9748\" cy=\"530.7973\" fill=\"#383838\" rx=\"2\" ry=\"2\" style=\"stroke: #383838; stroke-width: 1.0;\"/><ellipse cx=\"106.8807\" cy=\"522.7276\" fill=\"#383838\" rx=\"2\" ry=\"2\" style=\"stroke: #383838; stroke-width: 1.0;\"/></a><!--MD5=[62aa6af11e70f752912c1cb0466f24f7]\n",
       "reverse link E4 to E5--><a href=\"psysml:94e091d2-0286-4211-8181-aedc46ba16d2\" target=\"_top\" title=\"psysml:94e091d2-0286-4211-8181-aedc46ba16d2\" xlink:actuate=\"onRequest\" xlink:href=\"psysml:94e091d2-0286-4211-8181-aedc46ba16d2\" xlink:show=\"new\" xlink:title=\"psysml:94e091d2-0286-4211-8181-aedc46ba16d2\" xlink:type=\"simple\"><path d=\"M173.3,329.13 C171.88,353.21 170.35,379.16 169.3,396.96 \" fill=\"none\" id=\"E4&lt;-E5\" style=\"stroke: #383838; stroke-width: 1.0;\"/><polygon fill=\"#383838\" points=\"174.08,316.01,169.7309,321.762,173.3676,327.9888,177.7167,322.2369,174.08,316.01\" style=\"stroke: #383838; stroke-width: 1.0;\"/><text fill=\"#000000\" font-family=\"sans-serif\" font-size=\"13\" lengthAdjust=\"spacingAndGlyphs\" textLength=\"7\" x=\"161.7088\" y=\"385.8455\">*</text></a><!--MD5=[15ebcb19ae302d9b601edb458606d402]\n",
       "link E5 to E2--><a href=\"psysml:dc08c53a-a0f0-4000-a138-cf80983e3afa\" target=\"_top\" title=\"psysml:dc08c53a-a0f0-4000-a138-cf80983e3afa\" xlink:actuate=\"onRequest\" xlink:href=\"psysml:dc08c53a-a0f0-4000-a138-cf80983e3afa\" xlink:show=\"new\" xlink:title=\"psysml:dc08c53a-a0f0-4000-a138-cf80983e3afa\" xlink:type=\"simple\"><path d=\"M168,443.17 C168,459.31 168,482.04 168,503.62 \" fill=\"none\" id=\"E5-&gt;E2\" style=\"stroke: #383838; stroke-width: 1.0;\"/><polygon fill=\"#FFFFFF\" points=\"168,523.71,161,504.71,175,504.71,168,523.71\" style=\"stroke: #383838; stroke-width: 1.0;\"/><ellipse cx=\"163\" cy=\"499.01\" fill=\"#383838\" rx=\"2\" ry=\"2\" style=\"stroke: #383838; stroke-width: 1.0;\"/><ellipse cx=\"173\" cy=\"499.01\" fill=\"#383838\" rx=\"2\" ry=\"2\" style=\"stroke: #383838; stroke-width: 1.0;\"/></a><!--MD5=[f667431f98296947986a1a7595a31603]\n",
       "link E6 to E4--><a href=\"psysml:b31b3f2c-80ab-44f0-a26e-d801559af683\" target=\"_top\" title=\"psysml:b31b3f2c-80ab-44f0-a26e-d801559af683\" xlink:actuate=\"onRequest\" xlink:href=\"psysml:b31b3f2c-80ab-44f0-a26e-d801559af683\" xlink:show=\"new\" xlink:title=\"psysml:b31b3f2c-80ab-44f0-a26e-d801559af683\" xlink:type=\"simple\"><path d=\"M182.95,155.03 C182.26,167.77 181.52,181.45 180.8,194.69 \" fill=\"none\" id=\"E6-&gt;E4\" style=\"stroke: #383838; stroke-width: 1.0;\"/><polygon fill=\"none\" points=\"187.77,195.32,179.7,214.91,173.79,194.56,187.77,195.32\" style=\"stroke: #383838; stroke-width: 1.0;\"/></a><!--MD5=[c66f3365facd86e3a0c8caeeef8859e8]\n",
       "@startuml\r\n",
       "top to bottom direction\r\n",
       "skinparam monochrome true\r\n",
       "skinparam classbackgroundcolor white\r\n",
       "skinparam shadowing false\r\n",
       "skinparam wrapWidth 300\r\n",
       "hide circle\r\n",
       "\r\n",
       "package \"MassRollup\" as E1  [[psysml:93cce498-741b-46da-9a76-47f8a90b0e87 ]]  {\r\n",
       "comp def \"MassedThing\" as E2  <<(T,blue)part def>> [[psysml:2bfc4bf5-5785-4629-99c8-bf06d3584a79 ]] {\r\n",
       "- - attributes - -\r\n",
       "mass\r\n",
       "totalMass\r\n",
       "}\r\n",
       "comp usage \"simpleThing: MassedThing\" as E3  <<(T,blue)part>> [[psysml:d9d69a25-c21e-4c46-a572-d7b139b6ee26 ]] {\r\n",
       "- - attributes - -\r\n",
       "totalMass=mass; \\n//:>>MassedThing::totalMass// \r\n",
       "}\r\n",
       "comp usage \"compositeThing: MassedThing\" as E4  <<(T,blue)part>> [[psysml:343123b1-0808-41d0-8b17-a6ebb6acc0cb ]] {\r\n",
       "- - attributes - -\r\n",
       "totalMass=mass + (subcomponents->collect p:MassedThing (p::totalMass)->reduce '+' ?? 0.0); \\n//:>>MassedThing::totalMass// \r\n",
       "}\r\n",
       "comp usage \"subcomponents: MassedThing\" as E5  <<(T,blue)part>> [[psysml:09cd1f28-daf0-4d0d-a972-b9bf2a18e992 ]] {\r\n",
       "}\r\n",
       "comp usage \"filteredMassThing\" as E6  <<(T,blue)part>> [[psysml:b3309114-4b2b-46b3-9f4f-dc695177bad1 ]] {\r\n",
       "- - attributes - -\r\n",
       "minMass\r\n",
       "totalMass=(./subcomponents/mass[p (p > minMass)])->reduce '+' ?? 0.0; \\n//:>>MassedThing::totalMass// \r\n",
       "}\r\n",
       "E3 - -:|> E2 [[psysml:b7a37c04-3b7e-4fde-bcd3-8ff7c74e6a20 ]] \r\n",
       "E4 - -:|> E2 [[psysml:9348166f-8cea-4d7c-a96d-6192465a705e ]] \r\n",
       "E4 *- - \"*\"E5 [[psysml:94e091d2-0286-4211-8181-aedc46ba16d2 ]] \r\n",
       "E5 - -:|> E2 [[psysml:dc08c53a-a0f0-4000-a138-cf80983e3afa ]] \r\n",
       "E6 - -|> E4 [[psysml:b31b3f2c-80ab-44f0-a26e-d801559af683 ]] \r\n",
       "}\r\n",
       "@enduml\r\n",
       "\n",
       "PlantUML version 1.2020.13(Sat Jun 13 12:26:38 UTC 2020)\n",
       "(EPL source distribution)\n",
       "Java Runtime: OpenJDK Runtime Environment\n",
       "JVM: OpenJDK 64-Bit Server VM\n",
       "Default Encoding: UTF-8\n",
       "Language: en\n",
       "Country: null\n",
       "--></g></svg>"
      ]
     },
     "execution_count": 50,
     "metadata": {},
     "output_type": "execute_result"
    }
   ],
   "source": [
    "%viz --style=\"TB\" --view=\"MIXED\" \"MassRollup\""
   ]
  },
  {
   "cell_type": "code",
   "execution_count": 51,
   "id": "daf0f5eb",
   "metadata": {
    "execution": {
     "iopub.execute_input": "2021-04-20T07:27:01.711619Z",
     "iopub.status.busy": "2021-04-20T07:27:01.711025Z",
     "iopub.status.idle": "2021-04-20T07:27:01.894298Z",
     "shell.execute_reply": "2021-04-20T07:27:01.893567Z"
    }
   },
   "outputs": [
    {
     "data": {
      "image/svg+xml": [
       "<?xml version=\"1.0\" encoding=\"UTF-8\" standalone=\"no\"?><svg xmlns=\"http://www.w3.org/2000/svg\" xmlns:xlink=\"http://www.w3.org/1999/xlink\" contentScriptType=\"application/ecmascript\" contentStyleType=\"text/css\" height=\"640px\" preserveAspectRatio=\"none\" style=\"width:512px;height:640px;\" version=\"1.1\" viewBox=\"0 0 512 640\" width=\"512px\" zoomAndPan=\"magnify\"><defs/><g><!--MD5=[fbc87193dbaf4d95561dea2c320d4a47]\n",
       "cluster E1--><a href=\"psysml:93cce498-741b-46da-9a76-47f8a90b0e87\" target=\"_top\" title=\"psysml:93cce498-741b-46da-9a76-47f8a90b0e87\" xlink:actuate=\"onRequest\" xlink:href=\"psysml:93cce498-741b-46da-9a76-47f8a90b0e87\" xlink:show=\"new\" xlink:title=\"psysml:93cce498-741b-46da-9a76-47f8a90b0e87\" xlink:type=\"simple\"><polygon fill=\"#FFFFFF\" points=\"16,6,110,6,117,28.2969,490,28.2969,490,628,16,628,16,6\" style=\"stroke: #000000; stroke-width: 1.5;\"/><line style=\"stroke: #000000; stroke-width: 1.5;\" x1=\"16\" x2=\"117\" y1=\"28.2969\" y2=\"28.2969\"/><text fill=\"#000000\" font-family=\"sans-serif\" font-size=\"14\" font-weight=\"bold\" lengthAdjust=\"spacingAndGlyphs\" textLength=\"88\" x=\"20\" y=\"20.9951\">MassRollup</text></a><!--MD5=[b4997ac47864f28c2f74865a473b2911]\n",
       "class E2--><a href=\"psysml:2bfc4bf5-5785-4629-99c8-bf06d3584a79\" target=\"_top\" title=\"psysml:2bfc4bf5-5785-4629-99c8-bf06d3584a79\" xlink:actuate=\"onRequest\" xlink:href=\"psysml:2bfc4bf5-5785-4629-99c8-bf06d3584a79\" xlink:show=\"new\" xlink:title=\"psysml:2bfc4bf5-5785-4629-99c8-bf06d3584a79\" xlink:type=\"simple\"><rect fill=\"#FFFFFF\" height=\"88.3516\" id=\"E2\" style=\"stroke: #383838; stroke-width: 1.5;\" width=\"88\" x=\"124\" y=\"524\"/><text fill=\"#000000\" font-family=\"sans-serif\" font-size=\"12\" font-style=\"italic\" lengthAdjust=\"spacingAndGlyphs\" textLength=\"64\" x=\"136\" y=\"540.1387\">«part def»</text><text fill=\"#000000\" font-family=\"sans-serif\" font-size=\"12\" lengthAdjust=\"spacingAndGlyphs\" textLength=\"82\" x=\"127\" y=\"554.1074\">MassedThing</text><line style=\"stroke: #383838; stroke-width: 1.5;\" x1=\"125\" x2=\"211\" y1=\"561.9375\" y2=\"561.9375\"/><text fill=\"#000000\" font-family=\"sans-serif\" font-size=\"11\" lengthAdjust=\"spacingAndGlyphs\" textLength=\"32\" x=\"130\" y=\"592.9526\">mass</text><text fill=\"#000000\" font-family=\"sans-serif\" font-size=\"11\" lengthAdjust=\"spacingAndGlyphs\" textLength=\"55\" x=\"130\" y=\"605.7573\">totalMass</text><line style=\"stroke: #383838; stroke-width: 1.0;\" x1=\"125\" x2=\"140.5\" y1=\"576.3398\" y2=\"576.3398\"/><text fill=\"#000000\" font-family=\"sans-serif\" font-size=\"11\" lengthAdjust=\"spacingAndGlyphs\" textLength=\"55\" x=\"140.5\" y=\"579.6479\">attributes</text><line style=\"stroke: #383838; stroke-width: 1.0;\" x1=\"195.5\" x2=\"211\" y1=\"576.3398\" y2=\"576.3398\"/></a><!--MD5=[09b614a08d8cba4a07c9adeb5e0fee81]\n",
       "class E3--><a href=\"psysml:d9d69a25-c21e-4c46-a572-d7b139b6ee26\" target=\"_top\" title=\"psysml:d9d69a25-c21e-4c46-a572-d7b139b6ee26\" xlink:actuate=\"onRequest\" xlink:href=\"psysml:d9d69a25-c21e-4c46-a572-d7b139b6ee26\" xlink:show=\"new\" xlink:title=\"psysml:d9d69a25-c21e-4c46-a572-d7b139b6ee26\" xlink:type=\"simple\"><rect fill=\"#FFFFFF\" height=\"88.3516\" id=\"E3\" rx=\"10\" ry=\"10\" style=\"stroke: #383838; stroke-width: 1.5;\" width=\"172\" x=\"302\" y=\"376\"/><text fill=\"#000000\" font-family=\"sans-serif\" font-size=\"12\" font-style=\"italic\" lengthAdjust=\"spacingAndGlyphs\" textLength=\"40\" x=\"368\" y=\"392.1387\">«part»</text><text fill=\"#000000\" font-family=\"sans-serif\" font-size=\"12\" lengthAdjust=\"spacingAndGlyphs\" textLength=\"164\" x=\"306\" y=\"406.1074\">simpleThing: MassedThing</text><line style=\"stroke: #383838; stroke-width: 1.5;\" x1=\"303\" x2=\"473\" y1=\"413.9375\" y2=\"413.9375\"/><text fill=\"#000000\" font-family=\"sans-serif\" font-size=\"11\" lengthAdjust=\"spacingAndGlyphs\" textLength=\"100\" x=\"308\" y=\"444.9526\">totalMass=mass;</text><text fill=\"#000000\" font-family=\"sans-serif\" font-size=\"11\" font-style=\"italic\" lengthAdjust=\"spacingAndGlyphs\" textLength=\"160\" x=\"308\" y=\"457.7573\">:&gt;&gt;MassedThing::totalMass</text><line style=\"stroke: #383838; stroke-width: 1.0;\" x1=\"303\" x2=\"360.5\" y1=\"428.3398\" y2=\"428.3398\"/><text fill=\"#000000\" font-family=\"sans-serif\" font-size=\"11\" lengthAdjust=\"spacingAndGlyphs\" textLength=\"55\" x=\"360.5\" y=\"431.6479\">attributes</text><line style=\"stroke: #383838; stroke-width: 1.0;\" x1=\"415.5\" x2=\"473\" y1=\"428.3398\" y2=\"428.3398\"/></a><!--MD5=[ebbe1d658d1005bcc118a6aa81145e00]\n",
       "class E4--><a href=\"psysml:343123b1-0808-41d0-8b17-a6ebb6acc0cb\" target=\"_top\" title=\"psysml:343123b1-0808-41d0-8b17-a6ebb6acc0cb\" xlink:actuate=\"onRequest\" xlink:href=\"psysml:343123b1-0808-41d0-8b17-a6ebb6acc0cb\" xlink:show=\"new\" xlink:title=\"psysml:343123b1-0808-41d0-8b17-a6ebb6acc0cb\" xlink:type=\"simple\"><rect fill=\"#FFFFFF\" height=\"101.1563\" id=\"E4\" rx=\"10\" ry=\"10\" style=\"stroke: #383838; stroke-width: 1.5;\" width=\"290\" x=\"32\" y=\"215\"/><text fill=\"#000000\" font-family=\"sans-serif\" font-size=\"12\" font-style=\"italic\" lengthAdjust=\"spacingAndGlyphs\" textLength=\"40\" x=\"157\" y=\"231.1387\">«part»</text><text fill=\"#000000\" font-family=\"sans-serif\" font-size=\"12\" lengthAdjust=\"spacingAndGlyphs\" textLength=\"189\" x=\"82.5\" y=\"245.1074\">compositeThing: MassedThing</text><line style=\"stroke: #383838; stroke-width: 1.5;\" x1=\"33\" x2=\"321\" y1=\"252.9375\" y2=\"252.9375\"/><text fill=\"#000000\" font-family=\"sans-serif\" font-size=\"11\" lengthAdjust=\"spacingAndGlyphs\" textLength=\"272\" x=\"38\" y=\"283.9526\">totalMass=mass + (subcomponents-&gt;collect p:</text><text fill=\"#000000\" font-family=\"sans-serif\" font-size=\"11\" lengthAdjust=\"spacingAndGlyphs\" textLength=\"274\" x=\"38\" y=\"296.7573\">MassedThing (p::totalMass)-&gt;reduce '+' ?? 0.0);</text><text fill=\"#000000\" font-family=\"sans-serif\" font-size=\"11\" font-style=\"italic\" lengthAdjust=\"spacingAndGlyphs\" textLength=\"160\" x=\"38\" y=\"309.562\">:&gt;&gt;MassedThing::totalMass</text><line style=\"stroke: #383838; stroke-width: 1.0;\" x1=\"33\" x2=\"149.5\" y1=\"267.3398\" y2=\"267.3398\"/><text fill=\"#000000\" font-family=\"sans-serif\" font-size=\"11\" lengthAdjust=\"spacingAndGlyphs\" textLength=\"55\" x=\"149.5\" y=\"270.6479\">attributes</text><line style=\"stroke: #383838; stroke-width: 1.0;\" x1=\"204.5\" x2=\"321\" y1=\"267.3398\" y2=\"267.3398\"/></a><!--MD5=[270fce915f116d4de14055a7c1d9a0f3]\n",
       "class E5--><a href=\"psysml:09cd1f28-daf0-4d0d-a972-b9bf2a18e992\" target=\"_top\" title=\"psysml:09cd1f28-daf0-4d0d-a972-b9bf2a18e992\" xlink:actuate=\"onRequest\" xlink:href=\"psysml:09cd1f28-daf0-4d0d-a972-b9bf2a18e992\" xlink:show=\"new\" xlink:title=\"psysml:09cd1f28-daf0-4d0d-a972-b9bf2a18e992\" xlink:type=\"simple\"><rect fill=\"#FFFFFF\" height=\"45.9375\" id=\"E5\" rx=\"10\" ry=\"10\" style=\"stroke: #383838; stroke-width: 1.5;\" width=\"197\" x=\"69.5\" y=\"397\"/><text fill=\"#000000\" font-family=\"sans-serif\" font-size=\"12\" font-style=\"italic\" lengthAdjust=\"spacingAndGlyphs\" textLength=\"40\" x=\"148\" y=\"413.1387\">«part»</text><text fill=\"#000000\" font-family=\"sans-serif\" font-size=\"12\" lengthAdjust=\"spacingAndGlyphs\" textLength=\"191\" x=\"72.5\" y=\"427.1074\">subcomponents: MassedThing</text><line style=\"stroke: #383838; stroke-width: 1.5;\" x1=\"70.5\" x2=\"265.5\" y1=\"434.9375\" y2=\"434.9375\"/></a><!--MD5=[60a26617385b1d2d0262a64233df1f8d]\n",
       "class E6--><a href=\"psysml:b3309114-4b2b-46b3-9f4f-dc695177bad1\" target=\"_top\" title=\"psysml:b3309114-4b2b-46b3-9f4f-dc695177bad1\" xlink:actuate=\"onRequest\" xlink:href=\"psysml:b3309114-4b2b-46b3-9f4f-dc695177bad1\" xlink:show=\"new\" xlink:title=\"psysml:b3309114-4b2b-46b3-9f4f-dc695177bad1\" xlink:type=\"simple\"><rect fill=\"#FFFFFF\" height=\"113.9609\" id=\"E6\" rx=\"10\" ry=\"10\" style=\"stroke: #383838; stroke-width: 1.5;\" width=\"309\" x=\"31.5\" y=\"41\"/><text fill=\"#000000\" font-family=\"sans-serif\" font-size=\"12\" font-style=\"italic\" lengthAdjust=\"spacingAndGlyphs\" textLength=\"40\" x=\"166\" y=\"57.1387\">«part»</text><text fill=\"#000000\" font-family=\"sans-serif\" font-size=\"12\" lengthAdjust=\"spacingAndGlyphs\" textLength=\"110\" x=\"131\" y=\"71.1074\">filteredMassThing</text><line style=\"stroke: #383838; stroke-width: 1.5;\" x1=\"32.5\" x2=\"339.5\" y1=\"78.9375\" y2=\"78.9375\"/><text fill=\"#000000\" font-family=\"sans-serif\" font-size=\"11\" lengthAdjust=\"spacingAndGlyphs\" textLength=\"51\" x=\"37.5\" y=\"109.9526\">minMass</text><text fill=\"#000000\" font-family=\"sans-serif\" font-size=\"11\" lengthAdjust=\"spacingAndGlyphs\" textLength=\"297\" x=\"37.5\" y=\"122.7573\">totalMass=(./subcomponents/mass[p (p &gt; minMass</text><text fill=\"#000000\" font-family=\"sans-serif\" font-size=\"11\" lengthAdjust=\"spacingAndGlyphs\" textLength=\"125\" x=\"37.5\" y=\"135.562\">)])-&gt;reduce '+' ?? 0.0;</text><text fill=\"#000000\" font-family=\"sans-serif\" font-size=\"11\" font-style=\"italic\" lengthAdjust=\"spacingAndGlyphs\" textLength=\"160\" x=\"37.5\" y=\"148.3667\">:&gt;&gt;MassedThing::totalMass</text><line style=\"stroke: #383838; stroke-width: 1.0;\" x1=\"32.5\" x2=\"158.5\" y1=\"93.3398\" y2=\"93.3398\"/><text fill=\"#000000\" font-family=\"sans-serif\" font-size=\"11\" lengthAdjust=\"spacingAndGlyphs\" textLength=\"55\" x=\"158.5\" y=\"96.6479\">attributes</text><line style=\"stroke: #383838; stroke-width: 1.0;\" x1=\"213.5\" x2=\"339.5\" y1=\"93.3398\" y2=\"93.3398\"/></a><!--MD5=[05d275557350bfb9b23a4ef7222b4c39]\n",
       "link E3 to E2--><a href=\"psysml:b7a37c04-3b7e-4fde-bcd3-8ff7c74e6a20\" target=\"_top\" title=\"psysml:b7a37c04-3b7e-4fde-bcd3-8ff7c74e6a20\" xlink:actuate=\"onRequest\" xlink:href=\"psysml:b7a37c04-3b7e-4fde-bcd3-8ff7c74e6a20\" xlink:show=\"new\" xlink:title=\"psysml:b7a37c04-3b7e-4fde-bcd3-8ff7c74e6a20\" xlink:type=\"simple\"><path d=\"M301.81,454 C245.62,454 182.67,454 182.67,454 C182.67,454 182.67,503.92 182.67,503.92 \" fill=\"none\" id=\"E3-&gt;E2\" style=\"stroke: #383838; stroke-width: 1.0;\"/><polygon fill=\"#FFFFFF\" points=\"182.67,523.92,175.67,504.92,189.67,504.92,182.67,523.92\" style=\"stroke: #383838; stroke-width: 1.0;\"/><ellipse cx=\"177.67\" cy=\"499.22\" fill=\"#383838\" rx=\"2\" ry=\"2\" style=\"stroke: #383838; stroke-width: 1.0;\"/><ellipse cx=\"187.67\" cy=\"499.22\" fill=\"#383838\" rx=\"2\" ry=\"2\" style=\"stroke: #383838; stroke-width: 1.0;\"/></a><!--MD5=[185131fc0dcab0a4505a2ebe144e961b]\n",
       "link E4 to E2--><a href=\"psysml:9348166f-8cea-4d7c-a96d-6192465a705e\" target=\"_top\" title=\"psysml:9348166f-8cea-4d7c-a96d-6192465a705e\" xlink:actuate=\"onRequest\" xlink:href=\"psysml:9348166f-8cea-4d7c-a96d-6192465a705e\" xlink:show=\"new\" xlink:title=\"psysml:9348166f-8cea-4d7c-a96d-6192465a705e\" xlink:type=\"simple\"><path d=\"M284.25,316.13 C284.25,402.25 284.25,568 284.25,568 C284.25,568 232.28,568 232.28,568 \" fill=\"none\" id=\"E4-&gt;E2\" style=\"stroke: #383838; stroke-width: 1.0;\"/><polygon fill=\"#FFFFFF\" points=\"212.28,568,231.28,561,231.28,575,212.28,568\" style=\"stroke: #383838; stroke-width: 1.0;\"/><ellipse cx=\"236.98\" cy=\"563\" fill=\"#383838\" rx=\"2\" ry=\"2\" style=\"stroke: #383838; stroke-width: 1.0;\"/><ellipse cx=\"236.98\" cy=\"573\" fill=\"#383838\" rx=\"2\" ry=\"2\" style=\"stroke: #383838; stroke-width: 1.0;\"/></a><!--MD5=[62aa6af11e70f752912c1cb0466f24f7]\n",
       "reverse link E4 to E5--><a href=\"psysml:94e091d2-0286-4211-8181-aedc46ba16d2\" target=\"_top\" title=\"psysml:94e091d2-0286-4211-8181-aedc46ba16d2\" xlink:actuate=\"onRequest\" xlink:href=\"psysml:94e091d2-0286-4211-8181-aedc46ba16d2\" xlink:show=\"new\" xlink:title=\"psysml:94e091d2-0286-4211-8181-aedc46ba16d2\" xlink:type=\"simple\"><path d=\"M168,329.09 C168,329.09 168,396.98 168,396.98 \" fill=\"none\" id=\"E4&lt;-E5\" style=\"stroke: #383838; stroke-width: 1.0;\"/><polygon fill=\"#383838\" points=\"168,316.09,164,322.09,168,328.09,172,322.09,168,316.09\" style=\"stroke: #383838; stroke-width: 1.0;\"/><text fill=\"#000000\" font-family=\"sans-serif\" font-size=\"13\" lengthAdjust=\"spacingAndGlyphs\" textLength=\"7\" x=\"160.0594\" y=\"385.8709\">*</text></a><!--MD5=[15ebcb19ae302d9b601edb458606d402]\n",
       "link E5 to E2--><a href=\"psysml:dc08c53a-a0f0-4000-a138-cf80983e3afa\" target=\"_top\" title=\"psysml:dc08c53a-a0f0-4000-a138-cf80983e3afa\" xlink:actuate=\"onRequest\" xlink:href=\"psysml:dc08c53a-a0f0-4000-a138-cf80983e3afa\" xlink:show=\"new\" xlink:title=\"psysml:dc08c53a-a0f0-4000-a138-cf80983e3afa\" xlink:type=\"simple\"><path d=\"M153.33,443.12 C153.33,443.12 153.33,503.9 153.33,503.9 \" fill=\"none\" id=\"E5-&gt;E2\" style=\"stroke: #383838; stroke-width: 1.0;\"/><polygon fill=\"#FFFFFF\" points=\"153.33,523.9,146.33,504.9,160.33,504.9,153.33,523.9\" style=\"stroke: #383838; stroke-width: 1.0;\"/><ellipse cx=\"148.33\" cy=\"499.2\" fill=\"#383838\" rx=\"2\" ry=\"2\" style=\"stroke: #383838; stroke-width: 1.0;\"/><ellipse cx=\"158.33\" cy=\"499.2\" fill=\"#383838\" rx=\"2\" ry=\"2\" style=\"stroke: #383838; stroke-width: 1.0;\"/></a><!--MD5=[f667431f98296947986a1a7595a31603]\n",
       "link E6 to E4--><a href=\"psysml:b31b3f2c-80ab-44f0-a26e-d801559af683\" target=\"_top\" title=\"psysml:b31b3f2c-80ab-44f0-a26e-d801559af683\" xlink:actuate=\"onRequest\" xlink:href=\"psysml:b31b3f2c-80ab-44f0-a26e-d801559af683\" xlink:show=\"new\" xlink:title=\"psysml:b31b3f2c-80ab-44f0-a26e-d801559af683\" xlink:type=\"simple\"><path d=\"M177,155.18 C177,155.18 177,194.75 177,194.75 \" fill=\"none\" id=\"E6-&gt;E4\" style=\"stroke: #383838; stroke-width: 1.0;\"/><polygon fill=\"none\" points=\"184,194.75,177,214.75,170,194.75,184,194.75\" style=\"stroke: #383838; stroke-width: 1.0;\"/></a><!--MD5=[1639ad17cb5ef9cdff863ed4bc7b8a39]\n",
       "@startuml\r\n",
       "skinparam linetype ortho\r\n",
       "skinparam monochrome true\r\n",
       "skinparam classbackgroundcolor white\r\n",
       "skinparam shadowing false\r\n",
       "skinparam wrapWidth 300\r\n",
       "hide circle\r\n",
       "\r\n",
       "package \"MassRollup\" as E1  [[psysml:93cce498-741b-46da-9a76-47f8a90b0e87 ]]  {\r\n",
       "comp def \"MassedThing\" as E2  <<(T,blue)part def>> [[psysml:2bfc4bf5-5785-4629-99c8-bf06d3584a79 ]] {\r\n",
       "- - attributes - -\r\n",
       "mass\r\n",
       "totalMass\r\n",
       "}\r\n",
       "comp usage \"simpleThing: MassedThing\" as E3  <<(T,blue)part>> [[psysml:d9d69a25-c21e-4c46-a572-d7b139b6ee26 ]] {\r\n",
       "- - attributes - -\r\n",
       "totalMass=mass; \\n//:>>MassedThing::totalMass// \r\n",
       "}\r\n",
       "comp usage \"compositeThing: MassedThing\" as E4  <<(T,blue)part>> [[psysml:343123b1-0808-41d0-8b17-a6ebb6acc0cb ]] {\r\n",
       "- - attributes - -\r\n",
       "totalMass=mass + (subcomponents->collect p:MassedThing (p::totalMass)->reduce '+' ?? 0.0); \\n//:>>MassedThing::totalMass// \r\n",
       "}\r\n",
       "comp usage \"subcomponents: MassedThing\" as E5  <<(T,blue)part>> [[psysml:09cd1f28-daf0-4d0d-a972-b9bf2a18e992 ]] {\r\n",
       "}\r\n",
       "comp usage \"filteredMassThing\" as E6  <<(T,blue)part>> [[psysml:b3309114-4b2b-46b3-9f4f-dc695177bad1 ]] {\r\n",
       "- - attributes - -\r\n",
       "minMass\r\n",
       "totalMass=(./subcomponents/mass[p (p > minMass)])->reduce '+' ?? 0.0; \\n//:>>MassedThing::totalMass// \r\n",
       "}\r\n",
       "E3 - -:|> E2 [[psysml:b7a37c04-3b7e-4fde-bcd3-8ff7c74e6a20 ]] \r\n",
       "E4 - -:|> E2 [[psysml:9348166f-8cea-4d7c-a96d-6192465a705e ]] \r\n",
       "E4 *- - \"*\"E5 [[psysml:94e091d2-0286-4211-8181-aedc46ba16d2 ]] \r\n",
       "E5 - -:|> E2 [[psysml:dc08c53a-a0f0-4000-a138-cf80983e3afa ]] \r\n",
       "E6 - -|> E4 [[psysml:b31b3f2c-80ab-44f0-a26e-d801559af683 ]] \r\n",
       "}\r\n",
       "@enduml\r\n",
       "\n",
       "PlantUML version 1.2020.13(Sat Jun 13 12:26:38 UTC 2020)\n",
       "(EPL source distribution)\n",
       "Java Runtime: OpenJDK Runtime Environment\n",
       "JVM: OpenJDK 64-Bit Server VM\n",
       "Default Encoding: UTF-8\n",
       "Language: en\n",
       "Country: null\n",
       "--></g></svg>"
      ]
     },
     "execution_count": 51,
     "metadata": {},
     "output_type": "execute_result"
    }
   ],
   "source": [
    "%viz --style=\"ORTHOLINE\" --view=\"Default\" \"MassRollup\""
   ]
  },
  {
   "cell_type": "code",
   "execution_count": 52,
   "id": "ccb20be6",
   "metadata": {
    "execution": {
     "iopub.execute_input": "2021-04-20T07:27:01.946396Z",
     "iopub.status.busy": "2021-04-20T07:27:01.945725Z",
     "iopub.status.idle": "2021-04-20T07:27:02.122505Z",
     "shell.execute_reply": "2021-04-20T07:27:02.119899Z"
    }
   },
   "outputs": [
    {
     "data": {
      "image/svg+xml": [
       "<?xml version=\"1.0\" encoding=\"UTF-8\" standalone=\"no\"?><svg xmlns=\"http://www.w3.org/2000/svg\" xmlns:xlink=\"http://www.w3.org/1999/xlink\" contentScriptType=\"application/ecmascript\" contentStyleType=\"text/css\" height=\"640px\" preserveAspectRatio=\"none\" style=\"width:512px;height:640px;\" version=\"1.1\" viewBox=\"0 0 512 640\" width=\"512px\" zoomAndPan=\"magnify\"><defs/><g><!--MD5=[fbc87193dbaf4d95561dea2c320d4a47]\n",
       "cluster E1--><a href=\"psysml:93cce498-741b-46da-9a76-47f8a90b0e87\" target=\"_top\" title=\"psysml:93cce498-741b-46da-9a76-47f8a90b0e87\" xlink:actuate=\"onRequest\" xlink:href=\"psysml:93cce498-741b-46da-9a76-47f8a90b0e87\" xlink:show=\"new\" xlink:title=\"psysml:93cce498-741b-46da-9a76-47f8a90b0e87\" xlink:type=\"simple\"><polygon fill=\"#FFFFFF\" points=\"16,6,110,6,117,28.2969,490,28.2969,490,628,16,628,16,6\" style=\"stroke: #000000; stroke-width: 1.5;\"/><line style=\"stroke: #000000; stroke-width: 1.5;\" x1=\"16\" x2=\"117\" y1=\"28.2969\" y2=\"28.2969\"/><text fill=\"#000000\" font-family=\"sans-serif\" font-size=\"14\" font-weight=\"bold\" lengthAdjust=\"spacingAndGlyphs\" textLength=\"88\" x=\"20\" y=\"20.9951\">MassRollup</text></a><!--MD5=[b4997ac47864f28c2f74865a473b2911]\n",
       "class E2--><a href=\"psysml:2bfc4bf5-5785-4629-99c8-bf06d3584a79\" target=\"_top\" title=\"psysml:2bfc4bf5-5785-4629-99c8-bf06d3584a79\" xlink:actuate=\"onRequest\" xlink:href=\"psysml:2bfc4bf5-5785-4629-99c8-bf06d3584a79\" xlink:show=\"new\" xlink:title=\"psysml:2bfc4bf5-5785-4629-99c8-bf06d3584a79\" xlink:type=\"simple\"><rect fill=\"#FFFFFF\" height=\"88.3516\" id=\"E2\" style=\"stroke: #383838; stroke-width: 1.5;\" width=\"88\" x=\"124\" y=\"524\"/><text fill=\"#000000\" font-family=\"sans-serif\" font-size=\"12\" font-style=\"italic\" lengthAdjust=\"spacingAndGlyphs\" textLength=\"64\" x=\"136\" y=\"540.1387\">«part def»</text><text fill=\"#000000\" font-family=\"sans-serif\" font-size=\"12\" lengthAdjust=\"spacingAndGlyphs\" textLength=\"82\" x=\"127\" y=\"554.1074\">MassedThing</text><line style=\"stroke: #383838; stroke-width: 1.5;\" x1=\"125\" x2=\"211\" y1=\"561.9375\" y2=\"561.9375\"/><text fill=\"#000000\" font-family=\"sans-serif\" font-size=\"11\" lengthAdjust=\"spacingAndGlyphs\" textLength=\"32\" x=\"130\" y=\"592.9526\">mass</text><text fill=\"#000000\" font-family=\"sans-serif\" font-size=\"11\" lengthAdjust=\"spacingAndGlyphs\" textLength=\"55\" x=\"130\" y=\"605.7573\">totalMass</text><line style=\"stroke: #383838; stroke-width: 1.0;\" x1=\"125\" x2=\"140.5\" y1=\"576.3398\" y2=\"576.3398\"/><text fill=\"#000000\" font-family=\"sans-serif\" font-size=\"11\" lengthAdjust=\"spacingAndGlyphs\" textLength=\"55\" x=\"140.5\" y=\"579.6479\">attributes</text><line style=\"stroke: #383838; stroke-width: 1.0;\" x1=\"195.5\" x2=\"211\" y1=\"576.3398\" y2=\"576.3398\"/></a><!--MD5=[09b614a08d8cba4a07c9adeb5e0fee81]\n",
       "class E3--><a href=\"psysml:d9d69a25-c21e-4c46-a572-d7b139b6ee26\" target=\"_top\" title=\"psysml:d9d69a25-c21e-4c46-a572-d7b139b6ee26\" xlink:actuate=\"onRequest\" xlink:href=\"psysml:d9d69a25-c21e-4c46-a572-d7b139b6ee26\" xlink:show=\"new\" xlink:title=\"psysml:d9d69a25-c21e-4c46-a572-d7b139b6ee26\" xlink:type=\"simple\"><rect fill=\"#FFFFFF\" height=\"88.3516\" id=\"E3\" rx=\"10\" ry=\"10\" style=\"stroke: #383838; stroke-width: 1.5;\" width=\"172\" x=\"302\" y=\"376\"/><text fill=\"#000000\" font-family=\"sans-serif\" font-size=\"12\" font-style=\"italic\" lengthAdjust=\"spacingAndGlyphs\" textLength=\"40\" x=\"368\" y=\"392.1387\">«part»</text><text fill=\"#000000\" font-family=\"sans-serif\" font-size=\"12\" lengthAdjust=\"spacingAndGlyphs\" textLength=\"164\" x=\"306\" y=\"406.1074\">simpleThing: MassedThing</text><line style=\"stroke: #383838; stroke-width: 1.5;\" x1=\"303\" x2=\"473\" y1=\"413.9375\" y2=\"413.9375\"/><text fill=\"#000000\" font-family=\"sans-serif\" font-size=\"11\" lengthAdjust=\"spacingAndGlyphs\" textLength=\"100\" x=\"308\" y=\"444.9526\">totalMass=mass;</text><text fill=\"#000000\" font-family=\"sans-serif\" font-size=\"11\" font-style=\"italic\" lengthAdjust=\"spacingAndGlyphs\" textLength=\"160\" x=\"308\" y=\"457.7573\">:&gt;&gt;MassedThing::totalMass</text><line style=\"stroke: #383838; stroke-width: 1.0;\" x1=\"303\" x2=\"360.5\" y1=\"428.3398\" y2=\"428.3398\"/><text fill=\"#000000\" font-family=\"sans-serif\" font-size=\"11\" lengthAdjust=\"spacingAndGlyphs\" textLength=\"55\" x=\"360.5\" y=\"431.6479\">attributes</text><line style=\"stroke: #383838; stroke-width: 1.0;\" x1=\"415.5\" x2=\"473\" y1=\"428.3398\" y2=\"428.3398\"/></a><!--MD5=[ebbe1d658d1005bcc118a6aa81145e00]\n",
       "class E4--><a href=\"psysml:343123b1-0808-41d0-8b17-a6ebb6acc0cb\" target=\"_top\" title=\"psysml:343123b1-0808-41d0-8b17-a6ebb6acc0cb\" xlink:actuate=\"onRequest\" xlink:href=\"psysml:343123b1-0808-41d0-8b17-a6ebb6acc0cb\" xlink:show=\"new\" xlink:title=\"psysml:343123b1-0808-41d0-8b17-a6ebb6acc0cb\" xlink:type=\"simple\"><rect fill=\"#FFFFFF\" height=\"101.1563\" id=\"E4\" rx=\"10\" ry=\"10\" style=\"stroke: #383838; stroke-width: 1.5;\" width=\"290\" x=\"32\" y=\"215\"/><text fill=\"#000000\" font-family=\"sans-serif\" font-size=\"12\" font-style=\"italic\" lengthAdjust=\"spacingAndGlyphs\" textLength=\"40\" x=\"157\" y=\"231.1387\">«part»</text><text fill=\"#000000\" font-family=\"sans-serif\" font-size=\"12\" lengthAdjust=\"spacingAndGlyphs\" textLength=\"189\" x=\"82.5\" y=\"245.1074\">compositeThing: MassedThing</text><line style=\"stroke: #383838; stroke-width: 1.5;\" x1=\"33\" x2=\"321\" y1=\"252.9375\" y2=\"252.9375\"/><text fill=\"#000000\" font-family=\"sans-serif\" font-size=\"11\" lengthAdjust=\"spacingAndGlyphs\" textLength=\"272\" x=\"38\" y=\"283.9526\">totalMass=mass + (subcomponents-&gt;collect p:</text><text fill=\"#000000\" font-family=\"sans-serif\" font-size=\"11\" lengthAdjust=\"spacingAndGlyphs\" textLength=\"274\" x=\"38\" y=\"296.7573\">MassedThing (p::totalMass)-&gt;reduce '+' ?? 0.0);</text><text fill=\"#000000\" font-family=\"sans-serif\" font-size=\"11\" font-style=\"italic\" lengthAdjust=\"spacingAndGlyphs\" textLength=\"160\" x=\"38\" y=\"309.562\">:&gt;&gt;MassedThing::totalMass</text><line style=\"stroke: #383838; stroke-width: 1.0;\" x1=\"33\" x2=\"149.5\" y1=\"267.3398\" y2=\"267.3398\"/><text fill=\"#000000\" font-family=\"sans-serif\" font-size=\"11\" lengthAdjust=\"spacingAndGlyphs\" textLength=\"55\" x=\"149.5\" y=\"270.6479\">attributes</text><line style=\"stroke: #383838; stroke-width: 1.0;\" x1=\"204.5\" x2=\"321\" y1=\"267.3398\" y2=\"267.3398\"/></a><!--MD5=[270fce915f116d4de14055a7c1d9a0f3]\n",
       "class E5--><a href=\"psysml:09cd1f28-daf0-4d0d-a972-b9bf2a18e992\" target=\"_top\" title=\"psysml:09cd1f28-daf0-4d0d-a972-b9bf2a18e992\" xlink:actuate=\"onRequest\" xlink:href=\"psysml:09cd1f28-daf0-4d0d-a972-b9bf2a18e992\" xlink:show=\"new\" xlink:title=\"psysml:09cd1f28-daf0-4d0d-a972-b9bf2a18e992\" xlink:type=\"simple\"><rect fill=\"#FFFFFF\" height=\"45.9375\" id=\"E5\" rx=\"10\" ry=\"10\" style=\"stroke: #383838; stroke-width: 1.5;\" width=\"197\" x=\"69.5\" y=\"397\"/><text fill=\"#000000\" font-family=\"sans-serif\" font-size=\"12\" font-style=\"italic\" lengthAdjust=\"spacingAndGlyphs\" textLength=\"40\" x=\"148\" y=\"413.1387\">«part»</text><text fill=\"#000000\" font-family=\"sans-serif\" font-size=\"12\" lengthAdjust=\"spacingAndGlyphs\" textLength=\"191\" x=\"72.5\" y=\"427.1074\">subcomponents: MassedThing</text><line style=\"stroke: #383838; stroke-width: 1.5;\" x1=\"70.5\" x2=\"265.5\" y1=\"434.9375\" y2=\"434.9375\"/></a><!--MD5=[60a26617385b1d2d0262a64233df1f8d]\n",
       "class E6--><a href=\"psysml:b3309114-4b2b-46b3-9f4f-dc695177bad1\" target=\"_top\" title=\"psysml:b3309114-4b2b-46b3-9f4f-dc695177bad1\" xlink:actuate=\"onRequest\" xlink:href=\"psysml:b3309114-4b2b-46b3-9f4f-dc695177bad1\" xlink:show=\"new\" xlink:title=\"psysml:b3309114-4b2b-46b3-9f4f-dc695177bad1\" xlink:type=\"simple\"><rect fill=\"#FFFFFF\" height=\"113.9609\" id=\"E6\" rx=\"10\" ry=\"10\" style=\"stroke: #383838; stroke-width: 1.5;\" width=\"309\" x=\"31.5\" y=\"41\"/><text fill=\"#000000\" font-family=\"sans-serif\" font-size=\"12\" font-style=\"italic\" lengthAdjust=\"spacingAndGlyphs\" textLength=\"40\" x=\"166\" y=\"57.1387\">«part»</text><text fill=\"#000000\" font-family=\"sans-serif\" font-size=\"12\" lengthAdjust=\"spacingAndGlyphs\" textLength=\"110\" x=\"131\" y=\"71.1074\">filteredMassThing</text><line style=\"stroke: #383838; stroke-width: 1.5;\" x1=\"32.5\" x2=\"339.5\" y1=\"78.9375\" y2=\"78.9375\"/><text fill=\"#000000\" font-family=\"sans-serif\" font-size=\"11\" lengthAdjust=\"spacingAndGlyphs\" textLength=\"51\" x=\"37.5\" y=\"109.9526\">minMass</text><text fill=\"#000000\" font-family=\"sans-serif\" font-size=\"11\" lengthAdjust=\"spacingAndGlyphs\" textLength=\"297\" x=\"37.5\" y=\"122.7573\">totalMass=(./subcomponents/mass[p (p &gt; minMass</text><text fill=\"#000000\" font-family=\"sans-serif\" font-size=\"11\" lengthAdjust=\"spacingAndGlyphs\" textLength=\"125\" x=\"37.5\" y=\"135.562\">)])-&gt;reduce '+' ?? 0.0;</text><text fill=\"#000000\" font-family=\"sans-serif\" font-size=\"11\" font-style=\"italic\" lengthAdjust=\"spacingAndGlyphs\" textLength=\"160\" x=\"37.5\" y=\"148.3667\">:&gt;&gt;MassedThing::totalMass</text><line style=\"stroke: #383838; stroke-width: 1.0;\" x1=\"32.5\" x2=\"158.5\" y1=\"93.3398\" y2=\"93.3398\"/><text fill=\"#000000\" font-family=\"sans-serif\" font-size=\"11\" lengthAdjust=\"spacingAndGlyphs\" textLength=\"55\" x=\"158.5\" y=\"96.6479\">attributes</text><line style=\"stroke: #383838; stroke-width: 1.0;\" x1=\"213.5\" x2=\"339.5\" y1=\"93.3398\" y2=\"93.3398\"/></a><!--MD5=[05d275557350bfb9b23a4ef7222b4c39]\n",
       "link E3 to E2--><a href=\"psysml:b7a37c04-3b7e-4fde-bcd3-8ff7c74e6a20\" target=\"_top\" title=\"psysml:b7a37c04-3b7e-4fde-bcd3-8ff7c74e6a20\" xlink:actuate=\"onRequest\" xlink:href=\"psysml:b7a37c04-3b7e-4fde-bcd3-8ff7c74e6a20\" xlink:show=\"new\" xlink:title=\"psysml:b7a37c04-3b7e-4fde-bcd3-8ff7c74e6a20\" xlink:type=\"simple\"><path d=\"M301.81,454 C245.62,454 182.67,454 182.67,454 C182.67,454 182.67,503.92 182.67,503.92 \" fill=\"none\" id=\"E3-&gt;E2\" style=\"stroke: #383838; stroke-width: 1.0;\"/><polygon fill=\"#FFFFFF\" points=\"182.67,523.92,175.67,504.92,189.67,504.92,182.67,523.92\" style=\"stroke: #383838; stroke-width: 1.0;\"/><ellipse cx=\"177.67\" cy=\"499.22\" fill=\"#383838\" rx=\"2\" ry=\"2\" style=\"stroke: #383838; stroke-width: 1.0;\"/><ellipse cx=\"187.67\" cy=\"499.22\" fill=\"#383838\" rx=\"2\" ry=\"2\" style=\"stroke: #383838; stroke-width: 1.0;\"/></a><!--MD5=[185131fc0dcab0a4505a2ebe144e961b]\n",
       "link E4 to E2--><a href=\"psysml:9348166f-8cea-4d7c-a96d-6192465a705e\" target=\"_top\" title=\"psysml:9348166f-8cea-4d7c-a96d-6192465a705e\" xlink:actuate=\"onRequest\" xlink:href=\"psysml:9348166f-8cea-4d7c-a96d-6192465a705e\" xlink:show=\"new\" xlink:title=\"psysml:9348166f-8cea-4d7c-a96d-6192465a705e\" xlink:type=\"simple\"><path d=\"M284.25,316.13 C284.25,402.25 284.25,568 284.25,568 C284.25,568 232.28,568 232.28,568 \" fill=\"none\" id=\"E4-&gt;E2\" style=\"stroke: #383838; stroke-width: 1.0;\"/><polygon fill=\"#FFFFFF\" points=\"212.28,568,231.28,561,231.28,575,212.28,568\" style=\"stroke: #383838; stroke-width: 1.0;\"/><ellipse cx=\"236.98\" cy=\"563\" fill=\"#383838\" rx=\"2\" ry=\"2\" style=\"stroke: #383838; stroke-width: 1.0;\"/><ellipse cx=\"236.98\" cy=\"573\" fill=\"#383838\" rx=\"2\" ry=\"2\" style=\"stroke: #383838; stroke-width: 1.0;\"/></a><!--MD5=[62aa6af11e70f752912c1cb0466f24f7]\n",
       "reverse link E4 to E5--><a href=\"psysml:94e091d2-0286-4211-8181-aedc46ba16d2\" target=\"_top\" title=\"psysml:94e091d2-0286-4211-8181-aedc46ba16d2\" xlink:actuate=\"onRequest\" xlink:href=\"psysml:94e091d2-0286-4211-8181-aedc46ba16d2\" xlink:show=\"new\" xlink:title=\"psysml:94e091d2-0286-4211-8181-aedc46ba16d2\" xlink:type=\"simple\"><path d=\"M168,329.09 C168,329.09 168,396.98 168,396.98 \" fill=\"none\" id=\"E4&lt;-E5\" style=\"stroke: #383838; stroke-width: 1.0;\"/><polygon fill=\"#383838\" points=\"168,316.09,164,322.09,168,328.09,172,322.09,168,316.09\" style=\"stroke: #383838; stroke-width: 1.0;\"/><text fill=\"#000000\" font-family=\"sans-serif\" font-size=\"13\" lengthAdjust=\"spacingAndGlyphs\" textLength=\"7\" x=\"160.0594\" y=\"385.8709\">*</text></a><!--MD5=[15ebcb19ae302d9b601edb458606d402]\n",
       "link E5 to E2--><a href=\"psysml:dc08c53a-a0f0-4000-a138-cf80983e3afa\" target=\"_top\" title=\"psysml:dc08c53a-a0f0-4000-a138-cf80983e3afa\" xlink:actuate=\"onRequest\" xlink:href=\"psysml:dc08c53a-a0f0-4000-a138-cf80983e3afa\" xlink:show=\"new\" xlink:title=\"psysml:dc08c53a-a0f0-4000-a138-cf80983e3afa\" xlink:type=\"simple\"><path d=\"M153.33,443.12 C153.33,443.12 153.33,503.9 153.33,503.9 \" fill=\"none\" id=\"E5-&gt;E2\" style=\"stroke: #383838; stroke-width: 1.0;\"/><polygon fill=\"#FFFFFF\" points=\"153.33,523.9,146.33,504.9,160.33,504.9,153.33,523.9\" style=\"stroke: #383838; stroke-width: 1.0;\"/><ellipse cx=\"148.33\" cy=\"499.2\" fill=\"#383838\" rx=\"2\" ry=\"2\" style=\"stroke: #383838; stroke-width: 1.0;\"/><ellipse cx=\"158.33\" cy=\"499.2\" fill=\"#383838\" rx=\"2\" ry=\"2\" style=\"stroke: #383838; stroke-width: 1.0;\"/></a><!--MD5=[f667431f98296947986a1a7595a31603]\n",
       "link E6 to E4--><a href=\"psysml:b31b3f2c-80ab-44f0-a26e-d801559af683\" target=\"_top\" title=\"psysml:b31b3f2c-80ab-44f0-a26e-d801559af683\" xlink:actuate=\"onRequest\" xlink:href=\"psysml:b31b3f2c-80ab-44f0-a26e-d801559af683\" xlink:show=\"new\" xlink:title=\"psysml:b31b3f2c-80ab-44f0-a26e-d801559af683\" xlink:type=\"simple\"><path d=\"M177,155.18 C177,155.18 177,194.75 177,194.75 \" fill=\"none\" id=\"E6-&gt;E4\" style=\"stroke: #383838; stroke-width: 1.0;\"/><polygon fill=\"none\" points=\"184,194.75,177,214.75,170,194.75,184,194.75\" style=\"stroke: #383838; stroke-width: 1.0;\"/></a><!--MD5=[1639ad17cb5ef9cdff863ed4bc7b8a39]\n",
       "@startuml\r\n",
       "skinparam linetype ortho\r\n",
       "skinparam monochrome true\r\n",
       "skinparam classbackgroundcolor white\r\n",
       "skinparam shadowing false\r\n",
       "skinparam wrapWidth 300\r\n",
       "hide circle\r\n",
       "\r\n",
       "package \"MassRollup\" as E1  [[psysml:93cce498-741b-46da-9a76-47f8a90b0e87 ]]  {\r\n",
       "comp def \"MassedThing\" as E2  <<(T,blue)part def>> [[psysml:2bfc4bf5-5785-4629-99c8-bf06d3584a79 ]] {\r\n",
       "- - attributes - -\r\n",
       "mass\r\n",
       "totalMass\r\n",
       "}\r\n",
       "comp usage \"simpleThing: MassedThing\" as E3  <<(T,blue)part>> [[psysml:d9d69a25-c21e-4c46-a572-d7b139b6ee26 ]] {\r\n",
       "- - attributes - -\r\n",
       "totalMass=mass; \\n//:>>MassedThing::totalMass// \r\n",
       "}\r\n",
       "comp usage \"compositeThing: MassedThing\" as E4  <<(T,blue)part>> [[psysml:343123b1-0808-41d0-8b17-a6ebb6acc0cb ]] {\r\n",
       "- - attributes - -\r\n",
       "totalMass=mass + (subcomponents->collect p:MassedThing (p::totalMass)->reduce '+' ?? 0.0); \\n//:>>MassedThing::totalMass// \r\n",
       "}\r\n",
       "comp usage \"subcomponents: MassedThing\" as E5  <<(T,blue)part>> [[psysml:09cd1f28-daf0-4d0d-a972-b9bf2a18e992 ]] {\r\n",
       "}\r\n",
       "comp usage \"filteredMassThing\" as E6  <<(T,blue)part>> [[psysml:b3309114-4b2b-46b3-9f4f-dc695177bad1 ]] {\r\n",
       "- - attributes - -\r\n",
       "minMass\r\n",
       "totalMass=(./subcomponents/mass[p (p > minMass)])->reduce '+' ?? 0.0; \\n//:>>MassedThing::totalMass// \r\n",
       "}\r\n",
       "E3 - -:|> E2 [[psysml:b7a37c04-3b7e-4fde-bcd3-8ff7c74e6a20 ]] \r\n",
       "E4 - -:|> E2 [[psysml:9348166f-8cea-4d7c-a96d-6192465a705e ]] \r\n",
       "E4 *- - \"*\"E5 [[psysml:94e091d2-0286-4211-8181-aedc46ba16d2 ]] \r\n",
       "E5 - -:|> E2 [[psysml:dc08c53a-a0f0-4000-a138-cf80983e3afa ]] \r\n",
       "E6 - -|> E4 [[psysml:b31b3f2c-80ab-44f0-a26e-d801559af683 ]] \r\n",
       "}\r\n",
       "@enduml\r\n",
       "\n",
       "PlantUML version 1.2020.13(Sat Jun 13 12:26:38 UTC 2020)\n",
       "(EPL source distribution)\n",
       "Java Runtime: OpenJDK Runtime Environment\n",
       "JVM: OpenJDK 64-Bit Server VM\n",
       "Default Encoding: UTF-8\n",
       "Language: en\n",
       "Country: null\n",
       "--></g></svg>"
      ]
     },
     "execution_count": 52,
     "metadata": {},
     "output_type": "execute_result"
    }
   ],
   "source": [
    "%viz --style=\"ORTHOLINE\" --view=\"Tree\" \"MassRollup\""
   ]
  },
  {
   "cell_type": "code",
   "execution_count": 53,
   "id": "2f5ae6c0",
   "metadata": {
    "execution": {
     "iopub.execute_input": "2021-04-20T07:27:02.172384Z",
     "iopub.status.busy": "2021-04-20T07:27:02.171950Z",
     "iopub.status.idle": "2021-04-20T07:27:02.175476Z",
     "shell.execute_reply": "2021-04-20T07:27:02.175794Z"
    }
   },
   "outputs": [
    {
     "data": {
      "image/svg+xml": [
       "<?xml version=\"1.0\" encoding=\"UTF-8\" standalone=\"no\"?><svg xmlns=\"http://www.w3.org/2000/svg\" xmlns:xlink=\"http://www.w3.org/1999/xlink\" contentScriptType=\"application/ecmascript\" contentStyleType=\"text/css\" height=\"12px\" preserveAspectRatio=\"none\" style=\"width:12px;height:12px;\" version=\"1.1\" viewBox=\"0 0 12 12\" width=\"12px\" zoomAndPan=\"magnify\"><defs/><g><!--MD5=[97d6f38768b311333d388e66b2b27985]\n",
       "@startuml\r\n",
       "skinparam linetype ortho\r\n",
       "skinparam monochrome true\r\n",
       "skinparam classbackgroundcolor white\r\n",
       "skinparam shadowing false\r\n",
       "skinparam wrapWidth 300\r\n",
       "hide circle\r\n",
       "\r\n",
       "@enduml\r\n",
       "\n",
       "PlantUML version 1.2020.13(Sat Jun 13 12:26:38 UTC 2020)\n",
       "(EPL source distribution)\n",
       "Java Runtime: OpenJDK Runtime Environment\n",
       "JVM: OpenJDK 64-Bit Server VM\n",
       "Default Encoding: UTF-8\n",
       "Language: en\n",
       "Country: null\n",
       "--></g></svg>"
      ]
     },
     "execution_count": 53,
     "metadata": {},
     "output_type": "execute_result"
    }
   ],
   "source": [
    "%viz --style=\"ORTHOLINE\" --view=\"State\" \"MassRollup\""
   ]
  },
  {
   "cell_type": "code",
   "execution_count": 54,
   "id": "7259a755",
   "metadata": {
    "execution": {
     "iopub.execute_input": "2021-04-20T07:27:02.228246Z",
     "iopub.status.busy": "2021-04-20T07:27:02.227840Z",
     "iopub.status.idle": "2021-04-20T07:27:02.270480Z",
     "shell.execute_reply": "2021-04-20T07:27:02.269009Z"
    }
   },
   "outputs": [
    {
     "data": {
      "image/svg+xml": [
       "<?xml version=\"1.0\" encoding=\"UTF-8\" standalone=\"no\"?><svg xmlns=\"http://www.w3.org/2000/svg\" xmlns:xlink=\"http://www.w3.org/1999/xlink\" contentScriptType=\"application/ecmascript\" contentStyleType=\"text/css\" height=\"319px\" preserveAspectRatio=\"none\" style=\"width:911px;height:319px;\" version=\"1.1\" viewBox=\"0 0 911 319\" width=\"911px\" zoomAndPan=\"magnify\"><defs/><g><!--MD5=[fbc87193dbaf4d95561dea2c320d4a47]\n",
       "cluster E1--><a href=\"psysml:93cce498-741b-46da-9a76-47f8a90b0e87\" target=\"_top\" title=\"psysml:93cce498-741b-46da-9a76-47f8a90b0e87\" xlink:actuate=\"onRequest\" xlink:href=\"psysml:93cce498-741b-46da-9a76-47f8a90b0e87\" xlink:show=\"new\" xlink:title=\"psysml:93cce498-741b-46da-9a76-47f8a90b0e87\" xlink:type=\"simple\"><polygon fill=\"#FFFFFF\" points=\"16,6,110,6,117,28.2969,889,28.2969,889,307,16,307,16,6\" style=\"stroke: #000000; stroke-width: 1.5;\"/><line style=\"stroke: #000000; stroke-width: 1.5;\" x1=\"16\" x2=\"117\" y1=\"28.2969\" y2=\"28.2969\"/><text fill=\"#000000\" font-family=\"sans-serif\" font-size=\"14\" font-weight=\"bold\" lengthAdjust=\"spacingAndGlyphs\" textLength=\"88\" x=\"20\" y=\"20.9951\">MassRollup</text></a><!--MD5=[e4f7fae6ed58524ba242bb0b0d3be6b7]\n",
       "cluster E2--><a href=\"psysml:2bfc4bf5-5785-4629-99c8-bf06d3584a79\" target=\"_top\" title=\"psysml:2bfc4bf5-5785-4629-99c8-bf06d3584a79\" xlink:actuate=\"onRequest\" xlink:href=\"psysml:2bfc4bf5-5785-4629-99c8-bf06d3584a79\" xlink:show=\"new\" xlink:title=\"psysml:2bfc4bf5-5785-4629-99c8-bf06d3584a79\" xlink:type=\"simple\"><rect fill=\"#FFFFFF\" height=\"113\" id=\"E2\" style=\"stroke: #383838; stroke-width: 1.5;\" width=\"210\" x=\"511\" y=\"170\"/><rect fill=\"#F8F8F8\" height=\"37.9375\" style=\"stroke: #383838; stroke-width: 1.5;\" width=\"210\" x=\"511\" y=\"170\"/><text fill=\"#000000\" font-family=\"sans-serif\" font-size=\"12\" font-style=\"italic\" lengthAdjust=\"spacingAndGlyphs\" textLength=\"64\" x=\"584\" y=\"186.1387\">«part def»</text><text fill=\"#000000\" font-family=\"sans-serif\" font-size=\"12\" lengthAdjust=\"spacingAndGlyphs\" textLength=\"82\" x=\"575\" y=\"200.1074\">MassedThing</text></a><!--MD5=[de5ec2e2e8f62f467e546659f5068c88]\n",
       "cluster E5--><a href=\"psysml:d9d69a25-c21e-4c46-a572-d7b139b6ee26\" target=\"_top\" title=\"psysml:d9d69a25-c21e-4c46-a572-d7b139b6ee26\" xlink:actuate=\"onRequest\" xlink:href=\"psysml:d9d69a25-c21e-4c46-a572-d7b139b6ee26\" xlink:show=\"new\" xlink:title=\"psysml:d9d69a25-c21e-4c46-a572-d7b139b6ee26\" xlink:type=\"simple\"><rect fill=\"#FFFFFF\" height=\"97\" id=\"E5\" rx=\"10\" ry=\"10\" style=\"stroke: #383838; stroke-width: 1.5;\" width=\"226\" x=\"639\" y=\"49\"/><rect fill=\"#F8F8F8\" height=\"23.9688\" rx=\"10\" ry=\"10\" style=\"stroke: #F8F8F8; stroke-width: 1.5;\" width=\"226\" x=\"639\" y=\"49\"/><rect fill=\"#F8F8F8\" height=\"10\" style=\"stroke: #F8F8F8; stroke-width: 1.5;\" width=\"226\" x=\"639\" y=\"62.9688\"/><rect fill=\"none\" height=\"97\" id=\"E5\" rx=\"10\" ry=\"10\" style=\"stroke: #383838; stroke-width: 1.5;\" width=\"226\" x=\"639\" y=\"49\"/><text fill=\"#000000\" font-family=\"sans-serif\" font-size=\"12\" lengthAdjust=\"spacingAndGlyphs\" textLength=\"164\" x=\"670\" y=\"65.1387\">simpleThing: MassedThing</text><line style=\"stroke: #383838; stroke-width: 1.0;\" x1=\"639\" x2=\"865\" y1=\"72.9688\" y2=\"72.9688\"/></a><!--MD5=[168fadf3d0c3fd93dd5d6da1b1d7ab76]\n",
       "cluster E7--><a href=\"psysml:343123b1-0808-41d0-8b17-a6ebb6acc0cb\" target=\"_top\" title=\"psysml:343123b1-0808-41d0-8b17-a6ebb6acc0cb\" xlink:actuate=\"onRequest\" xlink:href=\"psysml:343123b1-0808-41d0-8b17-a6ebb6acc0cb\" xlink:show=\"new\" xlink:title=\"psysml:343123b1-0808-41d0-8b17-a6ebb6acc0cb\" xlink:type=\"simple\"><rect fill=\"#FFFFFF\" height=\"97\" id=\"E7\" rx=\"10\" ry=\"10\" style=\"stroke: #383838; stroke-width: 1.5;\" width=\"341\" x=\"274\" y=\"49\"/><rect fill=\"#F8F8F8\" height=\"23.9688\" rx=\"10\" ry=\"10\" style=\"stroke: #F8F8F8; stroke-width: 1.5;\" width=\"341\" x=\"274\" y=\"49\"/><rect fill=\"#F8F8F8\" height=\"10\" style=\"stroke: #F8F8F8; stroke-width: 1.5;\" width=\"341\" x=\"274\" y=\"62.9688\"/><rect fill=\"none\" height=\"97\" id=\"E7\" rx=\"10\" ry=\"10\" style=\"stroke: #383838; stroke-width: 1.5;\" width=\"341\" x=\"274\" y=\"49\"/><text fill=\"#000000\" font-family=\"sans-serif\" font-size=\"12\" lengthAdjust=\"spacingAndGlyphs\" textLength=\"189\" x=\"350\" y=\"65.1387\">compositeThing: MassedThing</text><line style=\"stroke: #383838; stroke-width: 1.0;\" x1=\"274\" x2=\"615\" y1=\"72.9688\" y2=\"72.9688\"/></a><!--MD5=[a84b4591f868c1fa4a211716a82f2f0d]\n",
       "cluster E10--><a href=\"psysml:b3309114-4b2b-46b3-9f4f-dc695177bad1\" target=\"_top\" title=\"psysml:b3309114-4b2b-46b3-9f4f-dc695177bad1\" xlink:actuate=\"onRequest\" xlink:href=\"psysml:b3309114-4b2b-46b3-9f4f-dc695177bad1\" xlink:show=\"new\" xlink:title=\"psysml:b3309114-4b2b-46b3-9f4f-dc695177bad1\" xlink:type=\"simple\"><rect fill=\"#FFFFFF\" height=\"97\" id=\"E10\" rx=\"10\" ry=\"10\" style=\"stroke: #383838; stroke-width: 1.5;\" width=\"210\" x=\"40\" y=\"49\"/><rect fill=\"#F8F8F8\" height=\"23.9688\" rx=\"10\" ry=\"10\" style=\"stroke: #F8F8F8; stroke-width: 1.5;\" width=\"210\" x=\"40\" y=\"49\"/><rect fill=\"#F8F8F8\" height=\"10\" style=\"stroke: #F8F8F8; stroke-width: 1.5;\" width=\"210\" x=\"40\" y=\"62.9688\"/><rect fill=\"none\" height=\"97\" id=\"E10\" rx=\"10\" ry=\"10\" style=\"stroke: #383838; stroke-width: 1.5;\" width=\"210\" x=\"40\" y=\"49\"/><text fill=\"#000000\" font-family=\"sans-serif\" font-size=\"12\" lengthAdjust=\"spacingAndGlyphs\" textLength=\"110\" x=\"90\" y=\"65.1387\">filteredMassThing</text><line style=\"stroke: #383838; stroke-width: 1.0;\" x1=\"40\" x2=\"250\" y1=\"72.9688\" y2=\"72.9688\"/></a><!--MD5=[09b614a08d8cba4a07c9adeb5e0fee81]\n",
       "class E3--><a href=\"psysml:61227fbe-a3c3-436a-919d-ba064597e112\" target=\"_top\" title=\"psysml:61227fbe-a3c3-436a-919d-ba064597e112\" xlink:actuate=\"onRequest\" xlink:href=\"psysml:61227fbe-a3c3-436a-919d-ba064597e112\" xlink:show=\"new\" xlink:title=\"psysml:61227fbe-a3c3-436a-919d-ba064597e112\" xlink:type=\"simple\"><rect fill=\"#FFFFFF\" height=\"45.9375\" id=\"E3\" rx=\"10\" ry=\"10\" style=\"stroke: #383838; stroke-width: 1.5;\" width=\"71\" x=\"633.5\" y=\"221\"/><text fill=\"#000000\" font-family=\"sans-serif\" font-size=\"12\" font-style=\"italic\" lengthAdjust=\"spacingAndGlyphs\" textLength=\"69\" x=\"634.5\" y=\"237.1387\">«attribute»</text><text fill=\"#000000\" font-family=\"sans-serif\" font-size=\"12\" lengthAdjust=\"spacingAndGlyphs\" textLength=\"33\" x=\"652.5\" y=\"251.1074\">mass</text><line style=\"stroke: #383838; stroke-width: 1.5;\" x1=\"634.5\" x2=\"703.5\" y1=\"258.9375\" y2=\"258.9375\"/></a><!--MD5=[ebbe1d658d1005bcc118a6aa81145e00]\n",
       "class E4--><a href=\"psysml:bca4197d-355d-4faa-812b-dbfc0b076639\" target=\"_top\" title=\"psysml:bca4197d-355d-4faa-812b-dbfc0b076639\" xlink:actuate=\"onRequest\" xlink:href=\"psysml:bca4197d-355d-4faa-812b-dbfc0b076639\" xlink:show=\"new\" xlink:title=\"psysml:bca4197d-355d-4faa-812b-dbfc0b076639\" xlink:type=\"simple\"><rect fill=\"#FFFFFF\" height=\"45.9375\" id=\"E4\" rx=\"10\" ry=\"10\" style=\"stroke: #383838; stroke-width: 1.5;\" width=\"71\" x=\"527.5\" y=\"221\"/><text fill=\"#000000\" font-family=\"sans-serif\" font-size=\"12\" font-style=\"italic\" lengthAdjust=\"spacingAndGlyphs\" textLength=\"69\" x=\"528.5\" y=\"237.1387\">«attribute»</text><text fill=\"#000000\" font-family=\"sans-serif\" font-size=\"12\" lengthAdjust=\"spacingAndGlyphs\" textLength=\"61\" x=\"532.5\" y=\"251.1074\">totalMass</text><line style=\"stroke: #383838; stroke-width: 1.5;\" x1=\"528.5\" x2=\"597.5\" y1=\"258.9375\" y2=\"258.9375\"/></a><!--MD5=[60a26617385b1d2d0262a64233df1f8d]\n",
       "class E6--><a href=\"psysml:5dd4dd8f-7a34-4faa-ae4e-b0f44a463cf1\" target=\"_top\" title=\"psysml:5dd4dd8f-7a34-4faa-ae4e-b0f44a463cf1\" xlink:actuate=\"onRequest\" xlink:href=\"psysml:5dd4dd8f-7a34-4faa-ae4e-b0f44a463cf1\" xlink:show=\"new\" xlink:title=\"psysml:5dd4dd8f-7a34-4faa-ae4e-b0f44a463cf1\" xlink:type=\"simple\"><rect fill=\"#FFFFFF\" height=\"45.9375\" id=\"E6\" rx=\"10\" ry=\"10\" style=\"stroke: #383838; stroke-width: 1.5;\" width=\"71\" x=\"655.5\" y=\"84\"/><text fill=\"#000000\" font-family=\"sans-serif\" font-size=\"12\" font-style=\"italic\" lengthAdjust=\"spacingAndGlyphs\" textLength=\"69\" x=\"656.5\" y=\"100.1387\">«attribute»</text><text fill=\"#000000\" font-family=\"sans-serif\" font-size=\"12\" lengthAdjust=\"spacingAndGlyphs\" textLength=\"61\" x=\"660.5\" y=\"114.1074\">totalMass</text><line style=\"stroke: #383838; stroke-width: 1.5;\" x1=\"656.5\" x2=\"725.5\" y1=\"121.9375\" y2=\"121.9375\"/></a><!--MD5=[fd4143e9d270a159db93a4ea2a975926]\n",
       "class E9--><a href=\"psysml:cdf15466-8892-46e6-adfe-254829aa90b9\" target=\"_top\" title=\"psysml:cdf15466-8892-46e6-adfe-254829aa90b9\" xlink:actuate=\"onRequest\" xlink:href=\"psysml:cdf15466-8892-46e6-adfe-254829aa90b9\" xlink:show=\"new\" xlink:title=\"psysml:cdf15466-8892-46e6-adfe-254829aa90b9\" xlink:type=\"simple\"><rect fill=\"#FFFFFF\" height=\"45.9375\" id=\"E9\" rx=\"10\" ry=\"10\" style=\"stroke: #383838; stroke-width: 1.5;\" width=\"71\" x=\"527.5\" y=\"84\"/><text fill=\"#000000\" font-family=\"sans-serif\" font-size=\"12\" font-style=\"italic\" lengthAdjust=\"spacingAndGlyphs\" textLength=\"69\" x=\"528.5\" y=\"100.1387\">«attribute»</text><text fill=\"#000000\" font-family=\"sans-serif\" font-size=\"12\" lengthAdjust=\"spacingAndGlyphs\" textLength=\"61\" x=\"532.5\" y=\"114.1074\">totalMass</text><line style=\"stroke: #383838; stroke-width: 1.5;\" x1=\"528.5\" x2=\"597.5\" y1=\"121.9375\" y2=\"121.9375\"/></a><g id=\"E1.E7.E8\"><a href=\"psysml:09cd1f28-daf0-4d0d-a972-b9bf2a18e992\" target=\"_top\" title=\"psysml:09cd1f28-daf0-4d0d-a972-b9bf2a18e992\" xlink:actuate=\"onRequest\" xlink:href=\"psysml:09cd1f28-daf0-4d0d-a972-b9bf2a18e992\" xlink:show=\"new\" xlink:title=\"psysml:09cd1f28-daf0-4d0d-a972-b9bf2a18e992\" xlink:type=\"simple\"><rect fill=\"#FFFFFF\" height=\"40\" id=\"E8\" rx=\"10\" ry=\"10\" style=\"stroke: #383838; stroke-width: 1.5;\" width=\"202\" x=\"290\" y=\"87\"/><rect fill=\"#F8F8F8\" height=\"23.9688\" rx=\"10\" ry=\"10\" style=\"stroke: #F8F8F8; stroke-width: 1.5;\" width=\"202\" x=\"290\" y=\"87\"/><rect fill=\"#F8F8F8\" height=\"10\" style=\"stroke: #F8F8F8; stroke-width: 1.5;\" width=\"202\" x=\"290\" y=\"100.9688\"/><rect fill=\"none\" height=\"40\" id=\"E8\" rx=\"10\" ry=\"10\" style=\"stroke: #383838; stroke-width: 1.5;\" width=\"202\" x=\"290\" y=\"87\"/><text fill=\"#000000\" font-family=\"sans-serif\" font-size=\"12\" lengthAdjust=\"spacingAndGlyphs\" textLength=\"191\" x=\"295.5\" y=\"103.1387\">subcomponents: MassedThing</text></a></g><!--MD5=[1dd1bfd58a279cf63c5f349dbc8fc6a1]\n",
       "class E11--><a href=\"psysml:a48dd455-5237-4be3-af61-27e5094ede20\" target=\"_top\" title=\"psysml:a48dd455-5237-4be3-af61-27e5094ede20\" xlink:actuate=\"onRequest\" xlink:href=\"psysml:a48dd455-5237-4be3-af61-27e5094ede20\" xlink:show=\"new\" xlink:title=\"psysml:a48dd455-5237-4be3-af61-27e5094ede20\" xlink:type=\"simple\"><rect fill=\"#FFFFFF\" height=\"45.9375\" id=\"E11\" rx=\"10\" ry=\"10\" style=\"stroke: #383838; stroke-width: 1.5;\" width=\"71\" x=\"162.5\" y=\"84\"/><text fill=\"#000000\" font-family=\"sans-serif\" font-size=\"12\" font-style=\"italic\" lengthAdjust=\"spacingAndGlyphs\" textLength=\"69\" x=\"163.5\" y=\"100.1387\">«attribute»</text><text fill=\"#000000\" font-family=\"sans-serif\" font-size=\"12\" lengthAdjust=\"spacingAndGlyphs\" textLength=\"54\" x=\"171\" y=\"114.1074\">minMass</text><line style=\"stroke: #383838; stroke-width: 1.5;\" x1=\"163.5\" x2=\"232.5\" y1=\"121.9375\" y2=\"121.9375\"/></a><!--MD5=[49a0ec8f00dab7302a31f22d0f0fe584]\n",
       "class E12--><a href=\"psysml:30a4b720-38dc-4ed2-81db-b244fb944fc9\" target=\"_top\" title=\"psysml:30a4b720-38dc-4ed2-81db-b244fb944fc9\" xlink:actuate=\"onRequest\" xlink:href=\"psysml:30a4b720-38dc-4ed2-81db-b244fb944fc9\" xlink:show=\"new\" xlink:title=\"psysml:30a4b720-38dc-4ed2-81db-b244fb944fc9\" xlink:type=\"simple\"><rect fill=\"#FFFFFF\" height=\"45.9375\" id=\"E12\" rx=\"10\" ry=\"10\" style=\"stroke: #383838; stroke-width: 1.5;\" width=\"71\" x=\"56.5\" y=\"84\"/><text fill=\"#000000\" font-family=\"sans-serif\" font-size=\"12\" font-style=\"italic\" lengthAdjust=\"spacingAndGlyphs\" textLength=\"69\" x=\"57.5\" y=\"100.1387\">«attribute»</text><text fill=\"#000000\" font-family=\"sans-serif\" font-size=\"12\" lengthAdjust=\"spacingAndGlyphs\" textLength=\"61\" x=\"61.5\" y=\"114.1074\">totalMass</text><line style=\"stroke: #383838; stroke-width: 1.5;\" x1=\"57.5\" x2=\"126.5\" y1=\"121.9375\" y2=\"121.9375\"/></a><!--MD5=[f667431f98296947986a1a7595a31603]\n",
       "link E6 to E4--><a href=\"psysml:45db29a4-a6b7-4500-b8a0-ae6511957b42\" target=\"_top\" title=\"psysml:45db29a4-a6b7-4500-b8a0-ae6511957b42\" xlink:actuate=\"onRequest\" xlink:href=\"psysml:45db29a4-a6b7-4500-b8a0-ae6511957b42\" xlink:show=\"new\" xlink:title=\"psysml:45db29a4-a6b7-4500-b8a0-ae6511957b42\" xlink:type=\"simple\"><path d=\"M655.26,107 C635.94,107 616,107 616,107 C616,107 616,244 616,244 C616,244 614.26,244 614.26,244 \" fill=\"none\" id=\"E6-&gt;E4\" style=\"stroke: #383838; stroke-width: 1.0;\"/><polygon fill=\"#FFFFFF\" points=\"598.65,244,617.65,237,617.65,251,598.65,244\" style=\"stroke: #383838; stroke-width: 1.0;\"/><line style=\"stroke: #383838; stroke-width: 2.0;\" x1=\"621.45\" x2=\"621.45\" y1=\"237\" y2=\"251\"/></a><!--MD5=[c2be97adba6ddfe1c8f349fab141c927]\n",
       "link E9 to E4--><a href=\"psysml:37d702c0-130d-4d04-819a-f2439f71afff\" target=\"_top\" title=\"psysml:37d702c0-130d-4d04-819a-f2439f71afff\" xlink:actuate=\"onRequest\" xlink:href=\"psysml:37d702c0-130d-4d04-819a-f2439f71afff\" xlink:show=\"new\" xlink:title=\"psysml:37d702c0-130d-4d04-819a-f2439f71afff\" xlink:type=\"simple\"><path d=\"M563,130.24 C563,130.24 563,200.65 563,200.65 \" fill=\"none\" id=\"E9-&gt;E4\" style=\"stroke: #383838; stroke-width: 1.0;\"/><polygon fill=\"#FFFFFF\" points=\"563,220.65,556,201.65,570,201.65,563,220.65\" style=\"stroke: #383838; stroke-width: 1.0;\"/><line style=\"stroke: #383838; stroke-width: 2.0;\" x1=\"556\" x2=\"570\" y1=\"197.85\" y2=\"197.85\"/></a><!--MD5=[8eb720c440db06832f98fefdd34bbf11]\n",
       "link E12 to E4--><a href=\"psysml:c9530ed5-65d1-46ac-ab61-a00231b23eba\" target=\"_top\" title=\"psysml:c9530ed5-65d1-46ac-ab61-a00231b23eba\" xlink:actuate=\"onRequest\" xlink:href=\"psysml:c9530ed5-65d1-46ac-ab61-a00231b23eba\" xlink:show=\"new\" xlink:title=\"psysml:c9530ed5-65d1-46ac-ab61-a00231b23eba\" xlink:type=\"simple\"><path d=\"M92,130.24 C92,169.33 92,244 92,244 C92,244 507.21,244 507.21,244 \" fill=\"none\" id=\"E12-&gt;E4\" style=\"stroke: #383838; stroke-width: 1.0;\"/><polygon fill=\"#FFFFFF\" points=\"527.21,244,508.21,251,508.21,237,527.21,244\" style=\"stroke: #383838; stroke-width: 1.0;\"/><line style=\"stroke: #383838; stroke-width: 2.0;\" x1=\"504.41\" x2=\"504.41\" y1=\"251\" y2=\"237\"/></a><!--MD5=[0cb8a07f3d570045bb5d42e4b807aa81]\n",
       "@startuml\r\n",
       "skinparam ranksep 10\r\n",
       "skinparam rectangle {\r\n",
       " backgroundColor<<block>> LightGreen\r\n",
       "}\r\n",
       "skinparam linetype ortho\r\n",
       "skinparam monochrome true\r\n",
       "skinparam classbackgroundcolor white\r\n",
       "skinparam shadowing false\r\n",
       "skinparam wrapWidth 300\r\n",
       "hide circle\r\n",
       "\r\n",
       "package \"MassRollup\" as E1  [[psysml:93cce498-741b-46da-9a76-47f8a90b0e87 ]]  {\r\n",
       "rec def \"MassedThing\" as E2  <<(T,blue)part def>> [[psysml:2bfc4bf5-5785-4629-99c8-bf06d3584a79 ]] {\r\n",
       "comp usage \"mass\" as E3  <<(T,blue)attribute>> [[psysml:61227fbe-a3c3-436a-919d-ba064597e112 ]] {\r\n",
       "}\r\n",
       "comp usage \"totalMass\" as E4  <<(T,blue)attribute>> [[psysml:bca4197d-355d-4faa-812b-dbfc0b076639 ]] {\r\n",
       "}\r\n",
       "}\r\n",
       "rec usage \"simpleThing: MassedThing\" as E5  [[psysml:d9d69a25-c21e-4c46-a572-d7b139b6ee26 ]] {\r\n",
       "comp usage \"totalMass\" as E6  <<(T,blue)attribute>> [[psysml:5dd4dd8f-7a34-4faa-ae4e-b0f44a463cf1 ]] {\r\n",
       "}\r\n",
       "}\r\n",
       "rec usage \"compositeThing: MassedThing\" as E7  [[psysml:343123b1-0808-41d0-8b17-a6ebb6acc0cb ]] {\r\n",
       "rec usage \"subcomponents: MassedThing\" as E8  [[psysml:09cd1f28-daf0-4d0d-a972-b9bf2a18e992 ]] {\r\n",
       "}\r\n",
       "comp usage \"totalMass\" as E9  <<(T,blue)attribute>> [[psysml:cdf15466-8892-46e6-adfe-254829aa90b9 ]] {\r\n",
       "}\r\n",
       "}\r\n",
       "rec usage \"filteredMassThing\" as E10  [[psysml:b3309114-4b2b-46b3-9f4f-dc695177bad1 ]] {\r\n",
       "comp usage \"minMass\" as E11  <<(T,blue)attribute>> [[psysml:a48dd455-5237-4be3-af61-27e5094ede20 ]] {\r\n",
       "}\r\n",
       "comp usage \"totalMass\" as E12  <<(T,blue)attribute>> [[psysml:30a4b720-38dc-4ed2-81db-b244fb944fc9 ]] {\r\n",
       "}\r\n",
       "}\r\n",
       "E6 - -||> E4 [[psysml:45db29a4-a6b7-4500-b8a0-ae6511957b42 ]] \r\n",
       "E9 - -||> E4 [[psysml:37d702c0-130d-4d04-819a-f2439f71afff ]] \r\n",
       "E12 - -||> E4 [[psysml:c9530ed5-65d1-46ac-ab61-a00231b23eba ]] \r\n",
       "}\r\n",
       "@enduml\r\n",
       "\n",
       "PlantUML version 1.2020.13(Sat Jun 13 12:26:38 UTC 2020)\n",
       "(EPL source distribution)\n",
       "Java Runtime: OpenJDK Runtime Environment\n",
       "JVM: OpenJDK 64-Bit Server VM\n",
       "Default Encoding: UTF-8\n",
       "Language: en\n",
       "Country: null\n",
       "--></g></svg>"
      ]
     },
     "execution_count": 54,
     "metadata": {},
     "output_type": "execute_result"
    }
   ],
   "source": [
    "%viz --style=\"ORTHOLINE\" --view=\"Interconnection\" \"MassRollup\""
   ]
  },
  {
   "cell_type": "code",
   "execution_count": 55,
   "id": "6820677a",
   "metadata": {
    "execution": {
     "iopub.execute_input": "2021-04-20T07:27:02.320453Z",
     "iopub.status.busy": "2021-04-20T07:27:02.319903Z",
     "iopub.status.idle": "2021-04-20T07:27:02.326080Z",
     "shell.execute_reply": "2021-04-20T07:27:02.325560Z"
    }
   },
   "outputs": [
    {
     "data": {
      "image/svg+xml": [
       "<?xml version=\"1.0\" encoding=\"UTF-8\" standalone=\"no\"?><svg xmlns=\"http://www.w3.org/2000/svg\" xmlns:xlink=\"http://www.w3.org/1999/xlink\" contentScriptType=\"application/ecmascript\" contentStyleType=\"text/css\" height=\"12px\" preserveAspectRatio=\"none\" style=\"width:12px;height:12px;\" version=\"1.1\" viewBox=\"0 0 12 12\" width=\"12px\" zoomAndPan=\"magnify\"><defs/><g><!--MD5=[72934c63077099a26744516a776b4749]\n",
       "@startuml\r\n",
       "skinparam ranksep 8\r\n",
       "skinparam linetype ortho\r\n",
       "skinparam monochrome true\r\n",
       "skinparam classbackgroundcolor white\r\n",
       "skinparam shadowing false\r\n",
       "skinparam wrapWidth 300\r\n",
       "hide circle\r\n",
       "\r\n",
       "@enduml\r\n",
       "\n",
       "PlantUML version 1.2020.13(Sat Jun 13 12:26:38 UTC 2020)\n",
       "(EPL source distribution)\n",
       "Java Runtime: OpenJDK Runtime Environment\n",
       "JVM: OpenJDK 64-Bit Server VM\n",
       "Default Encoding: UTF-8\n",
       "Language: en\n",
       "Country: null\n",
       "--></g></svg>"
      ]
     },
     "execution_count": 55,
     "metadata": {},
     "output_type": "execute_result"
    }
   ],
   "source": [
    "%viz --style=\"ORTHOLINE\" --view=\"Action\" \"MassRollup\""
   ]
  },
  {
   "cell_type": "code",
   "execution_count": 56,
   "id": "abb118ff",
   "metadata": {
    "execution": {
     "iopub.execute_input": "2021-04-20T07:27:02.375913Z",
     "iopub.status.busy": "2021-04-20T07:27:02.375437Z",
     "iopub.status.idle": "2021-04-20T07:27:02.528142Z",
     "shell.execute_reply": "2021-04-20T07:27:02.526085Z"
    }
   },
   "outputs": [
    {
     "data": {
      "image/svg+xml": [
       "<?xml version=\"1.0\" encoding=\"UTF-8\" standalone=\"no\"?><svg xmlns=\"http://www.w3.org/2000/svg\" xmlns:xlink=\"http://www.w3.org/1999/xlink\" contentScriptType=\"application/ecmascript\" contentStyleType=\"text/css\" height=\"640px\" preserveAspectRatio=\"none\" style=\"width:512px;height:640px;\" version=\"1.1\" viewBox=\"0 0 512 640\" width=\"512px\" zoomAndPan=\"magnify\"><defs/><g><!--MD5=[fbc87193dbaf4d95561dea2c320d4a47]\n",
       "cluster E1--><a href=\"psysml:93cce498-741b-46da-9a76-47f8a90b0e87\" target=\"_top\" title=\"psysml:93cce498-741b-46da-9a76-47f8a90b0e87\" xlink:actuate=\"onRequest\" xlink:href=\"psysml:93cce498-741b-46da-9a76-47f8a90b0e87\" xlink:show=\"new\" xlink:title=\"psysml:93cce498-741b-46da-9a76-47f8a90b0e87\" xlink:type=\"simple\"><polygon fill=\"#FFFFFF\" points=\"16,6,110,6,117,28.2969,490,28.2969,490,628,16,628,16,6\" style=\"stroke: #000000; stroke-width: 1.5;\"/><line style=\"stroke: #000000; stroke-width: 1.5;\" x1=\"16\" x2=\"117\" y1=\"28.2969\" y2=\"28.2969\"/><text fill=\"#000000\" font-family=\"sans-serif\" font-size=\"14\" font-weight=\"bold\" lengthAdjust=\"spacingAndGlyphs\" textLength=\"88\" x=\"20\" y=\"20.9951\">MassRollup</text></a><!--MD5=[b4997ac47864f28c2f74865a473b2911]\n",
       "class E2--><a href=\"psysml:2bfc4bf5-5785-4629-99c8-bf06d3584a79\" target=\"_top\" title=\"psysml:2bfc4bf5-5785-4629-99c8-bf06d3584a79\" xlink:actuate=\"onRequest\" xlink:href=\"psysml:2bfc4bf5-5785-4629-99c8-bf06d3584a79\" xlink:show=\"new\" xlink:title=\"psysml:2bfc4bf5-5785-4629-99c8-bf06d3584a79\" xlink:type=\"simple\"><rect fill=\"#FFFFFF\" height=\"88.3516\" id=\"E2\" style=\"stroke: #383838; stroke-width: 1.5;\" width=\"88\" x=\"124\" y=\"524\"/><text fill=\"#000000\" font-family=\"sans-serif\" font-size=\"12\" font-style=\"italic\" lengthAdjust=\"spacingAndGlyphs\" textLength=\"64\" x=\"136\" y=\"540.1387\">«part def»</text><text fill=\"#000000\" font-family=\"sans-serif\" font-size=\"12\" lengthAdjust=\"spacingAndGlyphs\" textLength=\"82\" x=\"127\" y=\"554.1074\">MassedThing</text><line style=\"stroke: #383838; stroke-width: 1.5;\" x1=\"125\" x2=\"211\" y1=\"561.9375\" y2=\"561.9375\"/><text fill=\"#000000\" font-family=\"sans-serif\" font-size=\"11\" lengthAdjust=\"spacingAndGlyphs\" textLength=\"32\" x=\"130\" y=\"592.9526\">mass</text><text fill=\"#000000\" font-family=\"sans-serif\" font-size=\"11\" lengthAdjust=\"spacingAndGlyphs\" textLength=\"55\" x=\"130\" y=\"605.7573\">totalMass</text><line style=\"stroke: #383838; stroke-width: 1.0;\" x1=\"125\" x2=\"140.5\" y1=\"576.3398\" y2=\"576.3398\"/><text fill=\"#000000\" font-family=\"sans-serif\" font-size=\"11\" lengthAdjust=\"spacingAndGlyphs\" textLength=\"55\" x=\"140.5\" y=\"579.6479\">attributes</text><line style=\"stroke: #383838; stroke-width: 1.0;\" x1=\"195.5\" x2=\"211\" y1=\"576.3398\" y2=\"576.3398\"/></a><!--MD5=[09b614a08d8cba4a07c9adeb5e0fee81]\n",
       "class E3--><a href=\"psysml:d9d69a25-c21e-4c46-a572-d7b139b6ee26\" target=\"_top\" title=\"psysml:d9d69a25-c21e-4c46-a572-d7b139b6ee26\" xlink:actuate=\"onRequest\" xlink:href=\"psysml:d9d69a25-c21e-4c46-a572-d7b139b6ee26\" xlink:show=\"new\" xlink:title=\"psysml:d9d69a25-c21e-4c46-a572-d7b139b6ee26\" xlink:type=\"simple\"><rect fill=\"#FFFFFF\" height=\"88.3516\" id=\"E3\" rx=\"10\" ry=\"10\" style=\"stroke: #383838; stroke-width: 1.5;\" width=\"172\" x=\"302\" y=\"376\"/><text fill=\"#000000\" font-family=\"sans-serif\" font-size=\"12\" font-style=\"italic\" lengthAdjust=\"spacingAndGlyphs\" textLength=\"40\" x=\"368\" y=\"392.1387\">«part»</text><text fill=\"#000000\" font-family=\"sans-serif\" font-size=\"12\" lengthAdjust=\"spacingAndGlyphs\" textLength=\"164\" x=\"306\" y=\"406.1074\">simpleThing: MassedThing</text><line style=\"stroke: #383838; stroke-width: 1.5;\" x1=\"303\" x2=\"473\" y1=\"413.9375\" y2=\"413.9375\"/><text fill=\"#000000\" font-family=\"sans-serif\" font-size=\"11\" lengthAdjust=\"spacingAndGlyphs\" textLength=\"100\" x=\"308\" y=\"444.9526\">totalMass=mass;</text><text fill=\"#000000\" font-family=\"sans-serif\" font-size=\"11\" font-style=\"italic\" lengthAdjust=\"spacingAndGlyphs\" textLength=\"160\" x=\"308\" y=\"457.7573\">:&gt;&gt;MassedThing::totalMass</text><line style=\"stroke: #383838; stroke-width: 1.0;\" x1=\"303\" x2=\"360.5\" y1=\"428.3398\" y2=\"428.3398\"/><text fill=\"#000000\" font-family=\"sans-serif\" font-size=\"11\" lengthAdjust=\"spacingAndGlyphs\" textLength=\"55\" x=\"360.5\" y=\"431.6479\">attributes</text><line style=\"stroke: #383838; stroke-width: 1.0;\" x1=\"415.5\" x2=\"473\" y1=\"428.3398\" y2=\"428.3398\"/></a><!--MD5=[ebbe1d658d1005bcc118a6aa81145e00]\n",
       "class E4--><a href=\"psysml:343123b1-0808-41d0-8b17-a6ebb6acc0cb\" target=\"_top\" title=\"psysml:343123b1-0808-41d0-8b17-a6ebb6acc0cb\" xlink:actuate=\"onRequest\" xlink:href=\"psysml:343123b1-0808-41d0-8b17-a6ebb6acc0cb\" xlink:show=\"new\" xlink:title=\"psysml:343123b1-0808-41d0-8b17-a6ebb6acc0cb\" xlink:type=\"simple\"><rect fill=\"#FFFFFF\" height=\"101.1563\" id=\"E4\" rx=\"10\" ry=\"10\" style=\"stroke: #383838; stroke-width: 1.5;\" width=\"290\" x=\"32\" y=\"215\"/><text fill=\"#000000\" font-family=\"sans-serif\" font-size=\"12\" font-style=\"italic\" lengthAdjust=\"spacingAndGlyphs\" textLength=\"40\" x=\"157\" y=\"231.1387\">«part»</text><text fill=\"#000000\" font-family=\"sans-serif\" font-size=\"12\" lengthAdjust=\"spacingAndGlyphs\" textLength=\"189\" x=\"82.5\" y=\"245.1074\">compositeThing: MassedThing</text><line style=\"stroke: #383838; stroke-width: 1.5;\" x1=\"33\" x2=\"321\" y1=\"252.9375\" y2=\"252.9375\"/><text fill=\"#000000\" font-family=\"sans-serif\" font-size=\"11\" lengthAdjust=\"spacingAndGlyphs\" textLength=\"272\" x=\"38\" y=\"283.9526\">totalMass=mass + (subcomponents-&gt;collect p:</text><text fill=\"#000000\" font-family=\"sans-serif\" font-size=\"11\" lengthAdjust=\"spacingAndGlyphs\" textLength=\"274\" x=\"38\" y=\"296.7573\">MassedThing (p::totalMass)-&gt;reduce '+' ?? 0.0);</text><text fill=\"#000000\" font-family=\"sans-serif\" font-size=\"11\" font-style=\"italic\" lengthAdjust=\"spacingAndGlyphs\" textLength=\"160\" x=\"38\" y=\"309.562\">:&gt;&gt;MassedThing::totalMass</text><line style=\"stroke: #383838; stroke-width: 1.0;\" x1=\"33\" x2=\"149.5\" y1=\"267.3398\" y2=\"267.3398\"/><text fill=\"#000000\" font-family=\"sans-serif\" font-size=\"11\" lengthAdjust=\"spacingAndGlyphs\" textLength=\"55\" x=\"149.5\" y=\"270.6479\">attributes</text><line style=\"stroke: #383838; stroke-width: 1.0;\" x1=\"204.5\" x2=\"321\" y1=\"267.3398\" y2=\"267.3398\"/></a><!--MD5=[270fce915f116d4de14055a7c1d9a0f3]\n",
       "class E5--><a href=\"psysml:09cd1f28-daf0-4d0d-a972-b9bf2a18e992\" target=\"_top\" title=\"psysml:09cd1f28-daf0-4d0d-a972-b9bf2a18e992\" xlink:actuate=\"onRequest\" xlink:href=\"psysml:09cd1f28-daf0-4d0d-a972-b9bf2a18e992\" xlink:show=\"new\" xlink:title=\"psysml:09cd1f28-daf0-4d0d-a972-b9bf2a18e992\" xlink:type=\"simple\"><rect fill=\"#FFFFFF\" height=\"45.9375\" id=\"E5\" rx=\"10\" ry=\"10\" style=\"stroke: #383838; stroke-width: 1.5;\" width=\"197\" x=\"69.5\" y=\"397\"/><text fill=\"#000000\" font-family=\"sans-serif\" font-size=\"12\" font-style=\"italic\" lengthAdjust=\"spacingAndGlyphs\" textLength=\"40\" x=\"148\" y=\"413.1387\">«part»</text><text fill=\"#000000\" font-family=\"sans-serif\" font-size=\"12\" lengthAdjust=\"spacingAndGlyphs\" textLength=\"191\" x=\"72.5\" y=\"427.1074\">subcomponents: MassedThing</text><line style=\"stroke: #383838; stroke-width: 1.5;\" x1=\"70.5\" x2=\"265.5\" y1=\"434.9375\" y2=\"434.9375\"/></a><!--MD5=[60a26617385b1d2d0262a64233df1f8d]\n",
       "class E6--><a href=\"psysml:b3309114-4b2b-46b3-9f4f-dc695177bad1\" target=\"_top\" title=\"psysml:b3309114-4b2b-46b3-9f4f-dc695177bad1\" xlink:actuate=\"onRequest\" xlink:href=\"psysml:b3309114-4b2b-46b3-9f4f-dc695177bad1\" xlink:show=\"new\" xlink:title=\"psysml:b3309114-4b2b-46b3-9f4f-dc695177bad1\" xlink:type=\"simple\"><rect fill=\"#FFFFFF\" height=\"113.9609\" id=\"E6\" rx=\"10\" ry=\"10\" style=\"stroke: #383838; stroke-width: 1.5;\" width=\"309\" x=\"31.5\" y=\"41\"/><text fill=\"#000000\" font-family=\"sans-serif\" font-size=\"12\" font-style=\"italic\" lengthAdjust=\"spacingAndGlyphs\" textLength=\"40\" x=\"166\" y=\"57.1387\">«part»</text><text fill=\"#000000\" font-family=\"sans-serif\" font-size=\"12\" lengthAdjust=\"spacingAndGlyphs\" textLength=\"110\" x=\"131\" y=\"71.1074\">filteredMassThing</text><line style=\"stroke: #383838; stroke-width: 1.5;\" x1=\"32.5\" x2=\"339.5\" y1=\"78.9375\" y2=\"78.9375\"/><text fill=\"#000000\" font-family=\"sans-serif\" font-size=\"11\" lengthAdjust=\"spacingAndGlyphs\" textLength=\"51\" x=\"37.5\" y=\"109.9526\">minMass</text><text fill=\"#000000\" font-family=\"sans-serif\" font-size=\"11\" lengthAdjust=\"spacingAndGlyphs\" textLength=\"297\" x=\"37.5\" y=\"122.7573\">totalMass=(./subcomponents/mass[p (p &gt; minMass</text><text fill=\"#000000\" font-family=\"sans-serif\" font-size=\"11\" lengthAdjust=\"spacingAndGlyphs\" textLength=\"125\" x=\"37.5\" y=\"135.562\">)])-&gt;reduce '+' ?? 0.0;</text><text fill=\"#000000\" font-family=\"sans-serif\" font-size=\"11\" font-style=\"italic\" lengthAdjust=\"spacingAndGlyphs\" textLength=\"160\" x=\"37.5\" y=\"148.3667\">:&gt;&gt;MassedThing::totalMass</text><line style=\"stroke: #383838; stroke-width: 1.0;\" x1=\"32.5\" x2=\"158.5\" y1=\"93.3398\" y2=\"93.3398\"/><text fill=\"#000000\" font-family=\"sans-serif\" font-size=\"11\" lengthAdjust=\"spacingAndGlyphs\" textLength=\"55\" x=\"158.5\" y=\"96.6479\">attributes</text><line style=\"stroke: #383838; stroke-width: 1.0;\" x1=\"213.5\" x2=\"339.5\" y1=\"93.3398\" y2=\"93.3398\"/></a><!--MD5=[05d275557350bfb9b23a4ef7222b4c39]\n",
       "link E3 to E2--><a href=\"psysml:b7a37c04-3b7e-4fde-bcd3-8ff7c74e6a20\" target=\"_top\" title=\"psysml:b7a37c04-3b7e-4fde-bcd3-8ff7c74e6a20\" xlink:actuate=\"onRequest\" xlink:href=\"psysml:b7a37c04-3b7e-4fde-bcd3-8ff7c74e6a20\" xlink:show=\"new\" xlink:title=\"psysml:b7a37c04-3b7e-4fde-bcd3-8ff7c74e6a20\" xlink:type=\"simple\"><path d=\"M301.81,454 C245.62,454 182.67,454 182.67,454 C182.67,454 182.67,503.92 182.67,503.92 \" fill=\"none\" id=\"E3-&gt;E2\" style=\"stroke: #383838; stroke-width: 1.0;\"/><polygon fill=\"#FFFFFF\" points=\"182.67,523.92,175.67,504.92,189.67,504.92,182.67,523.92\" style=\"stroke: #383838; stroke-width: 1.0;\"/><ellipse cx=\"177.67\" cy=\"499.22\" fill=\"#383838\" rx=\"2\" ry=\"2\" style=\"stroke: #383838; stroke-width: 1.0;\"/><ellipse cx=\"187.67\" cy=\"499.22\" fill=\"#383838\" rx=\"2\" ry=\"2\" style=\"stroke: #383838; stroke-width: 1.0;\"/></a><!--MD5=[185131fc0dcab0a4505a2ebe144e961b]\n",
       "link E4 to E2--><a href=\"psysml:9348166f-8cea-4d7c-a96d-6192465a705e\" target=\"_top\" title=\"psysml:9348166f-8cea-4d7c-a96d-6192465a705e\" xlink:actuate=\"onRequest\" xlink:href=\"psysml:9348166f-8cea-4d7c-a96d-6192465a705e\" xlink:show=\"new\" xlink:title=\"psysml:9348166f-8cea-4d7c-a96d-6192465a705e\" xlink:type=\"simple\"><path d=\"M284.25,316.13 C284.25,402.25 284.25,568 284.25,568 C284.25,568 232.28,568 232.28,568 \" fill=\"none\" id=\"E4-&gt;E2\" style=\"stroke: #383838; stroke-width: 1.0;\"/><polygon fill=\"#FFFFFF\" points=\"212.28,568,231.28,561,231.28,575,212.28,568\" style=\"stroke: #383838; stroke-width: 1.0;\"/><ellipse cx=\"236.98\" cy=\"563\" fill=\"#383838\" rx=\"2\" ry=\"2\" style=\"stroke: #383838; stroke-width: 1.0;\"/><ellipse cx=\"236.98\" cy=\"573\" fill=\"#383838\" rx=\"2\" ry=\"2\" style=\"stroke: #383838; stroke-width: 1.0;\"/></a><!--MD5=[62aa6af11e70f752912c1cb0466f24f7]\n",
       "reverse link E4 to E5--><a href=\"psysml:94e091d2-0286-4211-8181-aedc46ba16d2\" target=\"_top\" title=\"psysml:94e091d2-0286-4211-8181-aedc46ba16d2\" xlink:actuate=\"onRequest\" xlink:href=\"psysml:94e091d2-0286-4211-8181-aedc46ba16d2\" xlink:show=\"new\" xlink:title=\"psysml:94e091d2-0286-4211-8181-aedc46ba16d2\" xlink:type=\"simple\"><path d=\"M168,329.09 C168,329.09 168,396.98 168,396.98 \" fill=\"none\" id=\"E4&lt;-E5\" style=\"stroke: #383838; stroke-width: 1.0;\"/><polygon fill=\"#383838\" points=\"168,316.09,164,322.09,168,328.09,172,322.09,168,316.09\" style=\"stroke: #383838; stroke-width: 1.0;\"/><text fill=\"#000000\" font-family=\"sans-serif\" font-size=\"13\" lengthAdjust=\"spacingAndGlyphs\" textLength=\"7\" x=\"160.0594\" y=\"385.8709\">*</text></a><!--MD5=[15ebcb19ae302d9b601edb458606d402]\n",
       "link E5 to E2--><a href=\"psysml:dc08c53a-a0f0-4000-a138-cf80983e3afa\" target=\"_top\" title=\"psysml:dc08c53a-a0f0-4000-a138-cf80983e3afa\" xlink:actuate=\"onRequest\" xlink:href=\"psysml:dc08c53a-a0f0-4000-a138-cf80983e3afa\" xlink:show=\"new\" xlink:title=\"psysml:dc08c53a-a0f0-4000-a138-cf80983e3afa\" xlink:type=\"simple\"><path d=\"M153.33,443.12 C153.33,443.12 153.33,503.9 153.33,503.9 \" fill=\"none\" id=\"E5-&gt;E2\" style=\"stroke: #383838; stroke-width: 1.0;\"/><polygon fill=\"#FFFFFF\" points=\"153.33,523.9,146.33,504.9,160.33,504.9,153.33,523.9\" style=\"stroke: #383838; stroke-width: 1.0;\"/><ellipse cx=\"148.33\" cy=\"499.2\" fill=\"#383838\" rx=\"2\" ry=\"2\" style=\"stroke: #383838; stroke-width: 1.0;\"/><ellipse cx=\"158.33\" cy=\"499.2\" fill=\"#383838\" rx=\"2\" ry=\"2\" style=\"stroke: #383838; stroke-width: 1.0;\"/></a><!--MD5=[f667431f98296947986a1a7595a31603]\n",
       "link E6 to E4--><a href=\"psysml:b31b3f2c-80ab-44f0-a26e-d801559af683\" target=\"_top\" title=\"psysml:b31b3f2c-80ab-44f0-a26e-d801559af683\" xlink:actuate=\"onRequest\" xlink:href=\"psysml:b31b3f2c-80ab-44f0-a26e-d801559af683\" xlink:show=\"new\" xlink:title=\"psysml:b31b3f2c-80ab-44f0-a26e-d801559af683\" xlink:type=\"simple\"><path d=\"M177,155.18 C177,155.18 177,194.75 177,194.75 \" fill=\"none\" id=\"E6-&gt;E4\" style=\"stroke: #383838; stroke-width: 1.0;\"/><polygon fill=\"none\" points=\"184,194.75,177,214.75,170,194.75,184,194.75\" style=\"stroke: #383838; stroke-width: 1.0;\"/></a><!--MD5=[1639ad17cb5ef9cdff863ed4bc7b8a39]\n",
       "@startuml\r\n",
       "skinparam linetype ortho\r\n",
       "skinparam monochrome true\r\n",
       "skinparam classbackgroundcolor white\r\n",
       "skinparam shadowing false\r\n",
       "skinparam wrapWidth 300\r\n",
       "hide circle\r\n",
       "\r\n",
       "package \"MassRollup\" as E1  [[psysml:93cce498-741b-46da-9a76-47f8a90b0e87 ]]  {\r\n",
       "comp def \"MassedThing\" as E2  <<(T,blue)part def>> [[psysml:2bfc4bf5-5785-4629-99c8-bf06d3584a79 ]] {\r\n",
       "- - attributes - -\r\n",
       "mass\r\n",
       "totalMass\r\n",
       "}\r\n",
       "comp usage \"simpleThing: MassedThing\" as E3  <<(T,blue)part>> [[psysml:d9d69a25-c21e-4c46-a572-d7b139b6ee26 ]] {\r\n",
       "- - attributes - -\r\n",
       "totalMass=mass; \\n//:>>MassedThing::totalMass// \r\n",
       "}\r\n",
       "comp usage \"compositeThing: MassedThing\" as E4  <<(T,blue)part>> [[psysml:343123b1-0808-41d0-8b17-a6ebb6acc0cb ]] {\r\n",
       "- - attributes - -\r\n",
       "totalMass=mass + (subcomponents->collect p:MassedThing (p::totalMass)->reduce '+' ?? 0.0); \\n//:>>MassedThing::totalMass// \r\n",
       "}\r\n",
       "comp usage \"subcomponents: MassedThing\" as E5  <<(T,blue)part>> [[psysml:09cd1f28-daf0-4d0d-a972-b9bf2a18e992 ]] {\r\n",
       "}\r\n",
       "comp usage \"filteredMassThing\" as E6  <<(T,blue)part>> [[psysml:b3309114-4b2b-46b3-9f4f-dc695177bad1 ]] {\r\n",
       "- - attributes - -\r\n",
       "minMass\r\n",
       "totalMass=(./subcomponents/mass[p (p > minMass)])->reduce '+' ?? 0.0; \\n//:>>MassedThing::totalMass// \r\n",
       "}\r\n",
       "E3 - -:|> E2 [[psysml:b7a37c04-3b7e-4fde-bcd3-8ff7c74e6a20 ]] \r\n",
       "E4 - -:|> E2 [[psysml:9348166f-8cea-4d7c-a96d-6192465a705e ]] \r\n",
       "E4 *- - \"*\"E5 [[psysml:94e091d2-0286-4211-8181-aedc46ba16d2 ]] \r\n",
       "E5 - -:|> E2 [[psysml:dc08c53a-a0f0-4000-a138-cf80983e3afa ]] \r\n",
       "E6 - -|> E4 [[psysml:b31b3f2c-80ab-44f0-a26e-d801559af683 ]] \r\n",
       "}\r\n",
       "@enduml\r\n",
       "\n",
       "PlantUML version 1.2020.13(Sat Jun 13 12:26:38 UTC 2020)\n",
       "(EPL source distribution)\n",
       "Java Runtime: OpenJDK Runtime Environment\n",
       "JVM: OpenJDK 64-Bit Server VM\n",
       "Default Encoding: UTF-8\n",
       "Language: en\n",
       "Country: null\n",
       "--></g></svg>"
      ]
     },
     "execution_count": 56,
     "metadata": {},
     "output_type": "execute_result"
    }
   ],
   "source": [
    "%viz --style=\"ORTHOLINE\" --view=\"Sequence\" \"MassRollup\""
   ]
  },
  {
   "cell_type": "code",
   "execution_count": 57,
   "id": "902a6d4a",
   "metadata": {
    "execution": {
     "iopub.execute_input": "2021-04-20T07:27:02.578314Z",
     "iopub.status.busy": "2021-04-20T07:27:02.577511Z",
     "iopub.status.idle": "2021-04-20T07:27:02.752715Z",
     "shell.execute_reply": "2021-04-20T07:27:02.747138Z"
    }
   },
   "outputs": [
    {
     "data": {
      "image/svg+xml": [
       "<?xml version=\"1.0\" encoding=\"UTF-8\" standalone=\"no\"?><svg xmlns=\"http://www.w3.org/2000/svg\" xmlns:xlink=\"http://www.w3.org/1999/xlink\" contentScriptType=\"application/ecmascript\" contentStyleType=\"text/css\" height=\"640px\" preserveAspectRatio=\"none\" style=\"width:512px;height:640px;\" version=\"1.1\" viewBox=\"0 0 512 640\" width=\"512px\" zoomAndPan=\"magnify\"><defs/><g><!--MD5=[fbc87193dbaf4d95561dea2c320d4a47]\n",
       "cluster E1--><a href=\"psysml:93cce498-741b-46da-9a76-47f8a90b0e87\" target=\"_top\" title=\"psysml:93cce498-741b-46da-9a76-47f8a90b0e87\" xlink:actuate=\"onRequest\" xlink:href=\"psysml:93cce498-741b-46da-9a76-47f8a90b0e87\" xlink:show=\"new\" xlink:title=\"psysml:93cce498-741b-46da-9a76-47f8a90b0e87\" xlink:type=\"simple\"><polygon fill=\"#FFFFFF\" points=\"16,6,110,6,117,28.2969,490,28.2969,490,628,16,628,16,6\" style=\"stroke: #000000; stroke-width: 1.5;\"/><line style=\"stroke: #000000; stroke-width: 1.5;\" x1=\"16\" x2=\"117\" y1=\"28.2969\" y2=\"28.2969\"/><text fill=\"#000000\" font-family=\"sans-serif\" font-size=\"14\" font-weight=\"bold\" lengthAdjust=\"spacingAndGlyphs\" textLength=\"88\" x=\"20\" y=\"20.9951\">MassRollup</text></a><!--MD5=[b4997ac47864f28c2f74865a473b2911]\n",
       "class E2--><a href=\"psysml:2bfc4bf5-5785-4629-99c8-bf06d3584a79\" target=\"_top\" title=\"psysml:2bfc4bf5-5785-4629-99c8-bf06d3584a79\" xlink:actuate=\"onRequest\" xlink:href=\"psysml:2bfc4bf5-5785-4629-99c8-bf06d3584a79\" xlink:show=\"new\" xlink:title=\"psysml:2bfc4bf5-5785-4629-99c8-bf06d3584a79\" xlink:type=\"simple\"><rect fill=\"#FFFFFF\" height=\"88.3516\" id=\"E2\" style=\"stroke: #383838; stroke-width: 1.5;\" width=\"88\" x=\"124\" y=\"524\"/><text fill=\"#000000\" font-family=\"sans-serif\" font-size=\"12\" font-style=\"italic\" lengthAdjust=\"spacingAndGlyphs\" textLength=\"64\" x=\"136\" y=\"540.1387\">«part def»</text><text fill=\"#000000\" font-family=\"sans-serif\" font-size=\"12\" lengthAdjust=\"spacingAndGlyphs\" textLength=\"82\" x=\"127\" y=\"554.1074\">MassedThing</text><line style=\"stroke: #383838; stroke-width: 1.5;\" x1=\"125\" x2=\"211\" y1=\"561.9375\" y2=\"561.9375\"/><text fill=\"#000000\" font-family=\"sans-serif\" font-size=\"11\" lengthAdjust=\"spacingAndGlyphs\" textLength=\"32\" x=\"130\" y=\"592.9526\">mass</text><text fill=\"#000000\" font-family=\"sans-serif\" font-size=\"11\" lengthAdjust=\"spacingAndGlyphs\" textLength=\"55\" x=\"130\" y=\"605.7573\">totalMass</text><line style=\"stroke: #383838; stroke-width: 1.0;\" x1=\"125\" x2=\"140.5\" y1=\"576.3398\" y2=\"576.3398\"/><text fill=\"#000000\" font-family=\"sans-serif\" font-size=\"11\" lengthAdjust=\"spacingAndGlyphs\" textLength=\"55\" x=\"140.5\" y=\"579.6479\">attributes</text><line style=\"stroke: #383838; stroke-width: 1.0;\" x1=\"195.5\" x2=\"211\" y1=\"576.3398\" y2=\"576.3398\"/></a><!--MD5=[09b614a08d8cba4a07c9adeb5e0fee81]\n",
       "class E3--><a href=\"psysml:d9d69a25-c21e-4c46-a572-d7b139b6ee26\" target=\"_top\" title=\"psysml:d9d69a25-c21e-4c46-a572-d7b139b6ee26\" xlink:actuate=\"onRequest\" xlink:href=\"psysml:d9d69a25-c21e-4c46-a572-d7b139b6ee26\" xlink:show=\"new\" xlink:title=\"psysml:d9d69a25-c21e-4c46-a572-d7b139b6ee26\" xlink:type=\"simple\"><rect fill=\"#FFFFFF\" height=\"88.3516\" id=\"E3\" rx=\"10\" ry=\"10\" style=\"stroke: #383838; stroke-width: 1.5;\" width=\"172\" x=\"302\" y=\"376\"/><text fill=\"#000000\" font-family=\"sans-serif\" font-size=\"12\" font-style=\"italic\" lengthAdjust=\"spacingAndGlyphs\" textLength=\"40\" x=\"368\" y=\"392.1387\">«part»</text><text fill=\"#000000\" font-family=\"sans-serif\" font-size=\"12\" lengthAdjust=\"spacingAndGlyphs\" textLength=\"164\" x=\"306\" y=\"406.1074\">simpleThing: MassedThing</text><line style=\"stroke: #383838; stroke-width: 1.5;\" x1=\"303\" x2=\"473\" y1=\"413.9375\" y2=\"413.9375\"/><text fill=\"#000000\" font-family=\"sans-serif\" font-size=\"11\" lengthAdjust=\"spacingAndGlyphs\" textLength=\"100\" x=\"308\" y=\"444.9526\">totalMass=mass;</text><text fill=\"#000000\" font-family=\"sans-serif\" font-size=\"11\" font-style=\"italic\" lengthAdjust=\"spacingAndGlyphs\" textLength=\"160\" x=\"308\" y=\"457.7573\">:&gt;&gt;MassedThing::totalMass</text><line style=\"stroke: #383838; stroke-width: 1.0;\" x1=\"303\" x2=\"360.5\" y1=\"428.3398\" y2=\"428.3398\"/><text fill=\"#000000\" font-family=\"sans-serif\" font-size=\"11\" lengthAdjust=\"spacingAndGlyphs\" textLength=\"55\" x=\"360.5\" y=\"431.6479\">attributes</text><line style=\"stroke: #383838; stroke-width: 1.0;\" x1=\"415.5\" x2=\"473\" y1=\"428.3398\" y2=\"428.3398\"/></a><!--MD5=[ebbe1d658d1005bcc118a6aa81145e00]\n",
       "class E4--><a href=\"psysml:343123b1-0808-41d0-8b17-a6ebb6acc0cb\" target=\"_top\" title=\"psysml:343123b1-0808-41d0-8b17-a6ebb6acc0cb\" xlink:actuate=\"onRequest\" xlink:href=\"psysml:343123b1-0808-41d0-8b17-a6ebb6acc0cb\" xlink:show=\"new\" xlink:title=\"psysml:343123b1-0808-41d0-8b17-a6ebb6acc0cb\" xlink:type=\"simple\"><rect fill=\"#FFFFFF\" height=\"101.1563\" id=\"E4\" rx=\"10\" ry=\"10\" style=\"stroke: #383838; stroke-width: 1.5;\" width=\"290\" x=\"32\" y=\"215\"/><text fill=\"#000000\" font-family=\"sans-serif\" font-size=\"12\" font-style=\"italic\" lengthAdjust=\"spacingAndGlyphs\" textLength=\"40\" x=\"157\" y=\"231.1387\">«part»</text><text fill=\"#000000\" font-family=\"sans-serif\" font-size=\"12\" lengthAdjust=\"spacingAndGlyphs\" textLength=\"189\" x=\"82.5\" y=\"245.1074\">compositeThing: MassedThing</text><line style=\"stroke: #383838; stroke-width: 1.5;\" x1=\"33\" x2=\"321\" y1=\"252.9375\" y2=\"252.9375\"/><text fill=\"#000000\" font-family=\"sans-serif\" font-size=\"11\" lengthAdjust=\"spacingAndGlyphs\" textLength=\"272\" x=\"38\" y=\"283.9526\">totalMass=mass + (subcomponents-&gt;collect p:</text><text fill=\"#000000\" font-family=\"sans-serif\" font-size=\"11\" lengthAdjust=\"spacingAndGlyphs\" textLength=\"274\" x=\"38\" y=\"296.7573\">MassedThing (p::totalMass)-&gt;reduce '+' ?? 0.0);</text><text fill=\"#000000\" font-family=\"sans-serif\" font-size=\"11\" font-style=\"italic\" lengthAdjust=\"spacingAndGlyphs\" textLength=\"160\" x=\"38\" y=\"309.562\">:&gt;&gt;MassedThing::totalMass</text><line style=\"stroke: #383838; stroke-width: 1.0;\" x1=\"33\" x2=\"149.5\" y1=\"267.3398\" y2=\"267.3398\"/><text fill=\"#000000\" font-family=\"sans-serif\" font-size=\"11\" lengthAdjust=\"spacingAndGlyphs\" textLength=\"55\" x=\"149.5\" y=\"270.6479\">attributes</text><line style=\"stroke: #383838; stroke-width: 1.0;\" x1=\"204.5\" x2=\"321\" y1=\"267.3398\" y2=\"267.3398\"/></a><!--MD5=[270fce915f116d4de14055a7c1d9a0f3]\n",
       "class E5--><a href=\"psysml:09cd1f28-daf0-4d0d-a972-b9bf2a18e992\" target=\"_top\" title=\"psysml:09cd1f28-daf0-4d0d-a972-b9bf2a18e992\" xlink:actuate=\"onRequest\" xlink:href=\"psysml:09cd1f28-daf0-4d0d-a972-b9bf2a18e992\" xlink:show=\"new\" xlink:title=\"psysml:09cd1f28-daf0-4d0d-a972-b9bf2a18e992\" xlink:type=\"simple\"><rect fill=\"#FFFFFF\" height=\"45.9375\" id=\"E5\" rx=\"10\" ry=\"10\" style=\"stroke: #383838; stroke-width: 1.5;\" width=\"197\" x=\"69.5\" y=\"397\"/><text fill=\"#000000\" font-family=\"sans-serif\" font-size=\"12\" font-style=\"italic\" lengthAdjust=\"spacingAndGlyphs\" textLength=\"40\" x=\"148\" y=\"413.1387\">«part»</text><text fill=\"#000000\" font-family=\"sans-serif\" font-size=\"12\" lengthAdjust=\"spacingAndGlyphs\" textLength=\"191\" x=\"72.5\" y=\"427.1074\">subcomponents: MassedThing</text><line style=\"stroke: #383838; stroke-width: 1.5;\" x1=\"70.5\" x2=\"265.5\" y1=\"434.9375\" y2=\"434.9375\"/></a><!--MD5=[60a26617385b1d2d0262a64233df1f8d]\n",
       "class E6--><a href=\"psysml:b3309114-4b2b-46b3-9f4f-dc695177bad1\" target=\"_top\" title=\"psysml:b3309114-4b2b-46b3-9f4f-dc695177bad1\" xlink:actuate=\"onRequest\" xlink:href=\"psysml:b3309114-4b2b-46b3-9f4f-dc695177bad1\" xlink:show=\"new\" xlink:title=\"psysml:b3309114-4b2b-46b3-9f4f-dc695177bad1\" xlink:type=\"simple\"><rect fill=\"#FFFFFF\" height=\"113.9609\" id=\"E6\" rx=\"10\" ry=\"10\" style=\"stroke: #383838; stroke-width: 1.5;\" width=\"309\" x=\"31.5\" y=\"41\"/><text fill=\"#000000\" font-family=\"sans-serif\" font-size=\"12\" font-style=\"italic\" lengthAdjust=\"spacingAndGlyphs\" textLength=\"40\" x=\"166\" y=\"57.1387\">«part»</text><text fill=\"#000000\" font-family=\"sans-serif\" font-size=\"12\" lengthAdjust=\"spacingAndGlyphs\" textLength=\"110\" x=\"131\" y=\"71.1074\">filteredMassThing</text><line style=\"stroke: #383838; stroke-width: 1.5;\" x1=\"32.5\" x2=\"339.5\" y1=\"78.9375\" y2=\"78.9375\"/><text fill=\"#000000\" font-family=\"sans-serif\" font-size=\"11\" lengthAdjust=\"spacingAndGlyphs\" textLength=\"51\" x=\"37.5\" y=\"109.9526\">minMass</text><text fill=\"#000000\" font-family=\"sans-serif\" font-size=\"11\" lengthAdjust=\"spacingAndGlyphs\" textLength=\"297\" x=\"37.5\" y=\"122.7573\">totalMass=(./subcomponents/mass[p (p &gt; minMass</text><text fill=\"#000000\" font-family=\"sans-serif\" font-size=\"11\" lengthAdjust=\"spacingAndGlyphs\" textLength=\"125\" x=\"37.5\" y=\"135.562\">)])-&gt;reduce '+' ?? 0.0;</text><text fill=\"#000000\" font-family=\"sans-serif\" font-size=\"11\" font-style=\"italic\" lengthAdjust=\"spacingAndGlyphs\" textLength=\"160\" x=\"37.5\" y=\"148.3667\">:&gt;&gt;MassedThing::totalMass</text><line style=\"stroke: #383838; stroke-width: 1.0;\" x1=\"32.5\" x2=\"158.5\" y1=\"93.3398\" y2=\"93.3398\"/><text fill=\"#000000\" font-family=\"sans-serif\" font-size=\"11\" lengthAdjust=\"spacingAndGlyphs\" textLength=\"55\" x=\"158.5\" y=\"96.6479\">attributes</text><line style=\"stroke: #383838; stroke-width: 1.0;\" x1=\"213.5\" x2=\"339.5\" y1=\"93.3398\" y2=\"93.3398\"/></a><!--MD5=[05d275557350bfb9b23a4ef7222b4c39]\n",
       "link E3 to E2--><a href=\"psysml:b7a37c04-3b7e-4fde-bcd3-8ff7c74e6a20\" target=\"_top\" title=\"psysml:b7a37c04-3b7e-4fde-bcd3-8ff7c74e6a20\" xlink:actuate=\"onRequest\" xlink:href=\"psysml:b7a37c04-3b7e-4fde-bcd3-8ff7c74e6a20\" xlink:show=\"new\" xlink:title=\"psysml:b7a37c04-3b7e-4fde-bcd3-8ff7c74e6a20\" xlink:type=\"simple\"><path d=\"M301.81,454 C245.62,454 182.67,454 182.67,454 C182.67,454 182.67,503.92 182.67,503.92 \" fill=\"none\" id=\"E3-&gt;E2\" style=\"stroke: #383838; stroke-width: 1.0;\"/><polygon fill=\"#FFFFFF\" points=\"182.67,523.92,175.67,504.92,189.67,504.92,182.67,523.92\" style=\"stroke: #383838; stroke-width: 1.0;\"/><ellipse cx=\"177.67\" cy=\"499.22\" fill=\"#383838\" rx=\"2\" ry=\"2\" style=\"stroke: #383838; stroke-width: 1.0;\"/><ellipse cx=\"187.67\" cy=\"499.22\" fill=\"#383838\" rx=\"2\" ry=\"2\" style=\"stroke: #383838; stroke-width: 1.0;\"/></a><!--MD5=[185131fc0dcab0a4505a2ebe144e961b]\n",
       "link E4 to E2--><a href=\"psysml:9348166f-8cea-4d7c-a96d-6192465a705e\" target=\"_top\" title=\"psysml:9348166f-8cea-4d7c-a96d-6192465a705e\" xlink:actuate=\"onRequest\" xlink:href=\"psysml:9348166f-8cea-4d7c-a96d-6192465a705e\" xlink:show=\"new\" xlink:title=\"psysml:9348166f-8cea-4d7c-a96d-6192465a705e\" xlink:type=\"simple\"><path d=\"M284.25,316.13 C284.25,402.25 284.25,568 284.25,568 C284.25,568 232.28,568 232.28,568 \" fill=\"none\" id=\"E4-&gt;E2\" style=\"stroke: #383838; stroke-width: 1.0;\"/><polygon fill=\"#FFFFFF\" points=\"212.28,568,231.28,561,231.28,575,212.28,568\" style=\"stroke: #383838; stroke-width: 1.0;\"/><ellipse cx=\"236.98\" cy=\"563\" fill=\"#383838\" rx=\"2\" ry=\"2\" style=\"stroke: #383838; stroke-width: 1.0;\"/><ellipse cx=\"236.98\" cy=\"573\" fill=\"#383838\" rx=\"2\" ry=\"2\" style=\"stroke: #383838; stroke-width: 1.0;\"/></a><!--MD5=[62aa6af11e70f752912c1cb0466f24f7]\n",
       "reverse link E4 to E5--><a href=\"psysml:94e091d2-0286-4211-8181-aedc46ba16d2\" target=\"_top\" title=\"psysml:94e091d2-0286-4211-8181-aedc46ba16d2\" xlink:actuate=\"onRequest\" xlink:href=\"psysml:94e091d2-0286-4211-8181-aedc46ba16d2\" xlink:show=\"new\" xlink:title=\"psysml:94e091d2-0286-4211-8181-aedc46ba16d2\" xlink:type=\"simple\"><path d=\"M168,329.09 C168,329.09 168,396.98 168,396.98 \" fill=\"none\" id=\"E4&lt;-E5\" style=\"stroke: #383838; stroke-width: 1.0;\"/><polygon fill=\"#383838\" points=\"168,316.09,164,322.09,168,328.09,172,322.09,168,316.09\" style=\"stroke: #383838; stroke-width: 1.0;\"/><text fill=\"#000000\" font-family=\"sans-serif\" font-size=\"13\" lengthAdjust=\"spacingAndGlyphs\" textLength=\"7\" x=\"160.0594\" y=\"385.8709\">*</text></a><!--MD5=[15ebcb19ae302d9b601edb458606d402]\n",
       "link E5 to E2--><a href=\"psysml:dc08c53a-a0f0-4000-a138-cf80983e3afa\" target=\"_top\" title=\"psysml:dc08c53a-a0f0-4000-a138-cf80983e3afa\" xlink:actuate=\"onRequest\" xlink:href=\"psysml:dc08c53a-a0f0-4000-a138-cf80983e3afa\" xlink:show=\"new\" xlink:title=\"psysml:dc08c53a-a0f0-4000-a138-cf80983e3afa\" xlink:type=\"simple\"><path d=\"M153.33,443.12 C153.33,443.12 153.33,503.9 153.33,503.9 \" fill=\"none\" id=\"E5-&gt;E2\" style=\"stroke: #383838; stroke-width: 1.0;\"/><polygon fill=\"#FFFFFF\" points=\"153.33,523.9,146.33,504.9,160.33,504.9,153.33,523.9\" style=\"stroke: #383838; stroke-width: 1.0;\"/><ellipse cx=\"148.33\" cy=\"499.2\" fill=\"#383838\" rx=\"2\" ry=\"2\" style=\"stroke: #383838; stroke-width: 1.0;\"/><ellipse cx=\"158.33\" cy=\"499.2\" fill=\"#383838\" rx=\"2\" ry=\"2\" style=\"stroke: #383838; stroke-width: 1.0;\"/></a><!--MD5=[f667431f98296947986a1a7595a31603]\n",
       "link E6 to E4--><a href=\"psysml:b31b3f2c-80ab-44f0-a26e-d801559af683\" target=\"_top\" title=\"psysml:b31b3f2c-80ab-44f0-a26e-d801559af683\" xlink:actuate=\"onRequest\" xlink:href=\"psysml:b31b3f2c-80ab-44f0-a26e-d801559af683\" xlink:show=\"new\" xlink:title=\"psysml:b31b3f2c-80ab-44f0-a26e-d801559af683\" xlink:type=\"simple\"><path d=\"M177,155.18 C177,155.18 177,194.75 177,194.75 \" fill=\"none\" id=\"E6-&gt;E4\" style=\"stroke: #383838; stroke-width: 1.0;\"/><polygon fill=\"none\" points=\"184,194.75,177,214.75,170,194.75,184,194.75\" style=\"stroke: #383838; stroke-width: 1.0;\"/></a><!--MD5=[1639ad17cb5ef9cdff863ed4bc7b8a39]\n",
       "@startuml\r\n",
       "skinparam linetype ortho\r\n",
       "skinparam monochrome true\r\n",
       "skinparam classbackgroundcolor white\r\n",
       "skinparam shadowing false\r\n",
       "skinparam wrapWidth 300\r\n",
       "hide circle\r\n",
       "\r\n",
       "package \"MassRollup\" as E1  [[psysml:93cce498-741b-46da-9a76-47f8a90b0e87 ]]  {\r\n",
       "comp def \"MassedThing\" as E2  <<(T,blue)part def>> [[psysml:2bfc4bf5-5785-4629-99c8-bf06d3584a79 ]] {\r\n",
       "- - attributes - -\r\n",
       "mass\r\n",
       "totalMass\r\n",
       "}\r\n",
       "comp usage \"simpleThing: MassedThing\" as E3  <<(T,blue)part>> [[psysml:d9d69a25-c21e-4c46-a572-d7b139b6ee26 ]] {\r\n",
       "- - attributes - -\r\n",
       "totalMass=mass; \\n//:>>MassedThing::totalMass// \r\n",
       "}\r\n",
       "comp usage \"compositeThing: MassedThing\" as E4  <<(T,blue)part>> [[psysml:343123b1-0808-41d0-8b17-a6ebb6acc0cb ]] {\r\n",
       "- - attributes - -\r\n",
       "totalMass=mass + (subcomponents->collect p:MassedThing (p::totalMass)->reduce '+' ?? 0.0); \\n//:>>MassedThing::totalMass// \r\n",
       "}\r\n",
       "comp usage \"subcomponents: MassedThing\" as E5  <<(T,blue)part>> [[psysml:09cd1f28-daf0-4d0d-a972-b9bf2a18e992 ]] {\r\n",
       "}\r\n",
       "comp usage \"filteredMassThing\" as E6  <<(T,blue)part>> [[psysml:b3309114-4b2b-46b3-9f4f-dc695177bad1 ]] {\r\n",
       "- - attributes - -\r\n",
       "minMass\r\n",
       "totalMass=(./subcomponents/mass[p (p > minMass)])->reduce '+' ?? 0.0; \\n//:>>MassedThing::totalMass// \r\n",
       "}\r\n",
       "E3 - -:|> E2 [[psysml:b7a37c04-3b7e-4fde-bcd3-8ff7c74e6a20 ]] \r\n",
       "E4 - -:|> E2 [[psysml:9348166f-8cea-4d7c-a96d-6192465a705e ]] \r\n",
       "E4 *- - \"*\"E5 [[psysml:94e091d2-0286-4211-8181-aedc46ba16d2 ]] \r\n",
       "E5 - -:|> E2 [[psysml:dc08c53a-a0f0-4000-a138-cf80983e3afa ]] \r\n",
       "E6 - -|> E4 [[psysml:b31b3f2c-80ab-44f0-a26e-d801559af683 ]] \r\n",
       "}\r\n",
       "@enduml\r\n",
       "\n",
       "PlantUML version 1.2020.13(Sat Jun 13 12:26:38 UTC 2020)\n",
       "(EPL source distribution)\n",
       "Java Runtime: OpenJDK Runtime Environment\n",
       "JVM: OpenJDK 64-Bit Server VM\n",
       "Default Encoding: UTF-8\n",
       "Language: en\n",
       "Country: null\n",
       "--></g></svg>"
      ]
     },
     "execution_count": 57,
     "metadata": {},
     "output_type": "execute_result"
    }
   ],
   "source": [
    "%viz --style=\"ORTHOLINE\" --view=\"MIXED\" \"MassRollup\""
   ]
  }
 ],
 "metadata": {
  "kernelspec": {
   "display_name": "SysML",
   "language": "sysml",
   "name": "sysml"
  },
  "language_info": {
   "codemirror_mode": "sysml",
   "file_extension": ".sysml",
   "mimetype": "text/x-sysml",
   "name": "SysML",
   "pygments_lexer": "java",
   "version": "1.0.0"
  }
 },
 "nbformat": 4,
 "nbformat_minor": 5
}
