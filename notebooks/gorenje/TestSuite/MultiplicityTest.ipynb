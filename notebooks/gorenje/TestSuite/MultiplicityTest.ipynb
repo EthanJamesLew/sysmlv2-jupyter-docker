{
 "cells": [
  {
   "cell_type": "markdown",
   "id": "6472a45d",
   "metadata": {},
   "source": [
    "# SysML v2 Test Suite\n",
    "\n",
    "This can notebook can be cleared using menu `Edit --> Clear All Outputs` and then all cells can be\n",
    "run using menu `Run --> Run All Cells`.\n",
    "\n",
    "**WARNING**: This file is generated, all modifications here will be ignored.\n"
   ]
  },
  {
   "cell_type": "markdown",
   "id": "237e3a8e",
   "metadata": {},
   "source": [
    "## File: ../../sysml/src/examples/Simple Tests/MultiplicityTest.sysml"
   ]
  },
  {
   "cell_type": "code",
   "execution_count": 1,
   "id": "2afce3b0",
   "metadata": {
    "execution": {
     "iopub.execute_input": "2022-03-03T09:58:27.621802Z",
     "iopub.status.busy": "2022-03-03T09:58:27.620365Z",
     "iopub.status.idle": "2022-03-03T09:58:27.856721Z",
     "shell.execute_reply": "2022-03-03T09:58:27.857058Z"
    }
   },
   "outputs": [
    {
     "data": {
      "text/plain": [
       "Package MultiplicityTest (4e348722-4dbb-42f6-bbfd-9f291612288b)\n"
      ]
     },
     "execution_count": 1,
     "metadata": {},
     "output_type": "execute_result"
    }
   ],
   "source": [
    "package MultiplicityTest {\n",
    "\t\n",
    "\tpart def P;\n",
    "\tattribute n : ScalarValues::Integer = 5;\n",
    "\t\n",
    "\tpart a[1];\n",
    "\tpart b[0..2] : P;\n",
    "\tpart c : P[2..*];\n",
    "\tpart d[*];\n",
    "\t\n",
    "\tpart e[n];\n",
    "\tpart f[n..*];\n",
    "\tpart g[1..n];\n",
    "\n",
    "\tattribute def A {\n",
    "\t\tattribute i :ScalarValues::Integer;\n",
    "\t\tattribute x : A[i];\n",
    "\t}\n",
    "}"
   ]
  },
  {
   "cell_type": "code",
   "execution_count": 2,
   "id": "4bd0e8b5",
   "metadata": {
    "execution": {
     "iopub.execute_input": "2022-03-03T09:58:27.908574Z",
     "iopub.status.busy": "2022-03-03T09:58:27.908129Z",
     "iopub.status.idle": "2022-03-03T09:58:28.465705Z",
     "shell.execute_reply": "2022-03-03T09:58:28.464224Z"
    }
   },
   "outputs": [
    {
     "data": {
      "image/svg+xml": [
       "<?xml version=\"1.0\" encoding=\"UTF-8\" standalone=\"no\"?><svg xmlns=\"http://www.w3.org/2000/svg\" xmlns:xlink=\"http://www.w3.org/1999/xlink\" contentScriptType=\"application/ecmascript\" contentStyleType=\"text/css\" height=\"263px\" preserveAspectRatio=\"none\" style=\"width:816px;height:263px;\" version=\"1.1\" viewBox=\"0 0 816 263\" width=\"816px\" zoomAndPan=\"magnify\"><defs/><g><!--MD5=[fbc87193dbaf4d95561dea2c320d4a47]\n",
       "cluster E1--><a href=\"psysml:437e1e49-e6a3-4f3e-be27-b1e07120749d\" target=\"_top\" title=\"psysml:437e1e49-e6a3-4f3e-be27-b1e07120749d\" xlink:actuate=\"onRequest\" xlink:href=\"psysml:437e1e49-e6a3-4f3e-be27-b1e07120749d\" xlink:show=\"new\" xlink:title=\"psysml:437e1e49-e6a3-4f3e-be27-b1e07120749d\" xlink:type=\"simple\"><polygon fill=\"#FFFFFF\" points=\"16,6,123,6,130,28.2969,794,28.2969,794,251,16,251,16,6\" style=\"stroke: #000000; stroke-width: 1.5;\"/><line style=\"stroke: #000000; stroke-width: 1.5;\" x1=\"16\" x2=\"130\" y1=\"28.2969\" y2=\"28.2969\"/><text fill=\"#000000\" font-family=\"sans-serif\" font-size=\"14\" font-weight=\"bold\" lengthAdjust=\"spacingAndGlyphs\" textLength=\"101\" x=\"20\" y=\"20.9951\">MultiplicityTest</text></a><!--MD5=[b4997ac47864f28c2f74865a473b2911]\n",
       "class E2--><a href=\"psysml:d60dc8a9-ee87-4177-8909-4fd780a9d8f8\" target=\"_top\" title=\"psysml:d60dc8a9-ee87-4177-8909-4fd780a9d8f8\" xlink:actuate=\"onRequest\" xlink:href=\"psysml:d60dc8a9-ee87-4177-8909-4fd780a9d8f8\" xlink:show=\"new\" xlink:title=\"psysml:d60dc8a9-ee87-4177-8909-4fd780a9d8f8\" xlink:type=\"simple\"><rect fill=\"#FFFFFF\" height=\"45.9375\" id=\"E2\" style=\"stroke: #383838; stroke-width: 1.5;\" width=\"70\" x=\"499\" y=\"189\"/><text fill=\"#000000\" font-family=\"sans-serif\" font-size=\"12\" font-style=\"italic\" lengthAdjust=\"spacingAndGlyphs\" textLength=\"68\" x=\"500\" y=\"205.1387\">«part  def»</text><text fill=\"#000000\" font-family=\"sans-serif\" font-size=\"12\" lengthAdjust=\"spacingAndGlyphs\" textLength=\"8\" x=\"530\" y=\"219.1074\">P</text><line style=\"stroke: #383838; stroke-width: 1.5;\" x1=\"500\" x2=\"568\" y1=\"226.9375\" y2=\"226.9375\"/></a><!--MD5=[09b614a08d8cba4a07c9adeb5e0fee81]\n",
       "class E3--><a href=\"psysml:a5340f1d-d68a-4585-8f96-7305e6f489d2\" target=\"_top\" title=\"psysml:a5340f1d-d68a-4585-8f96-7305e6f489d2\" xlink:actuate=\"onRequest\" xlink:href=\"psysml:a5340f1d-d68a-4585-8f96-7305e6f489d2\" xlink:show=\"new\" xlink:title=\"psysml:a5340f1d-d68a-4585-8f96-7305e6f489d2\" xlink:type=\"simple\"><rect fill=\"#FFFFFF\" height=\"45.9375\" id=\"E3\" rx=\"10\" ry=\"10\" style=\"stroke: #383838; stroke-width: 1.5;\" width=\"71\" x=\"706.5\" y=\"62\"/><text fill=\"#000000\" font-family=\"sans-serif\" font-size=\"12\" font-style=\"italic\" lengthAdjust=\"spacingAndGlyphs\" textLength=\"69\" x=\"707.5\" y=\"78.1387\">«attribute»</text><text fill=\"#000000\" font-family=\"sans-serif\" font-size=\"12\" lengthAdjust=\"spacingAndGlyphs\" textLength=\"61\" x=\"709.5\" y=\"92.1074\">n: Integer</text><line style=\"stroke: #383838; stroke-width: 1.5;\" x1=\"707.5\" x2=\"776.5\" y1=\"99.9375\" y2=\"99.9375\"/></a><!--MD5=[ebbe1d658d1005bcc118a6aa81145e00]\n",
       "class E4--><a href=\"psysml:478d9241-8f6e-4034-a71b-67b7ef5acdce\" target=\"_top\" title=\"psysml:478d9241-8f6e-4034-a71b-67b7ef5acdce\" xlink:actuate=\"onRequest\" xlink:href=\"psysml:478d9241-8f6e-4034-a71b-67b7ef5acdce\" xlink:show=\"new\" xlink:title=\"psysml:478d9241-8f6e-4034-a71b-67b7ef5acdce\" xlink:type=\"simple\"><rect fill=\"#FFFFFF\" height=\"45.9375\" id=\"E4\" rx=\"10\" ry=\"10\" style=\"stroke: #383838; stroke-width: 1.5;\" width=\"42\" x=\"629\" y=\"62\"/><text fill=\"#000000\" font-family=\"sans-serif\" font-size=\"12\" font-style=\"italic\" lengthAdjust=\"spacingAndGlyphs\" textLength=\"40\" x=\"630\" y=\"78.1387\">«part»</text><text fill=\"#000000\" font-family=\"sans-serif\" font-size=\"12\" lengthAdjust=\"spacingAndGlyphs\" textLength=\"8\" x=\"644\" y=\"92.1074\">a</text><line style=\"stroke: #383838; stroke-width: 1.5;\" x1=\"630\" x2=\"670\" y1=\"99.9375\" y2=\"99.9375\"/></a><!--MD5=[270fce915f116d4de14055a7c1d9a0f3]\n",
       "class E5--><a href=\"psysml:bc94da79-c19f-4e44-8720-527e565e90dd\" target=\"_top\" title=\"psysml:bc94da79-c19f-4e44-8720-527e565e90dd\" xlink:actuate=\"onRequest\" xlink:href=\"psysml:bc94da79-c19f-4e44-8720-527e565e90dd\" xlink:show=\"new\" xlink:title=\"psysml:bc94da79-c19f-4e44-8720-527e565e90dd\" xlink:type=\"simple\"><rect fill=\"#FFFFFF\" height=\"45.9375\" id=\"E5\" rx=\"10\" ry=\"10\" style=\"stroke: #383838; stroke-width: 1.5;\" width=\"42\" x=\"552\" y=\"62\"/><text fill=\"#000000\" font-family=\"sans-serif\" font-size=\"12\" font-style=\"italic\" lengthAdjust=\"spacingAndGlyphs\" textLength=\"40\" x=\"553\" y=\"78.1387\">«part»</text><text fill=\"#000000\" font-family=\"sans-serif\" font-size=\"12\" lengthAdjust=\"spacingAndGlyphs\" textLength=\"24\" x=\"559\" y=\"92.1074\">b: P</text><line style=\"stroke: #383838; stroke-width: 1.5;\" x1=\"553\" x2=\"593\" y1=\"99.9375\" y2=\"99.9375\"/></a><!--MD5=[60a26617385b1d2d0262a64233df1f8d]\n",
       "class E6--><a href=\"psysml:619a7e97-bac6-4f1e-8369-8e8a5aa8da71\" target=\"_top\" title=\"psysml:619a7e97-bac6-4f1e-8369-8e8a5aa8da71\" xlink:actuate=\"onRequest\" xlink:href=\"psysml:619a7e97-bac6-4f1e-8369-8e8a5aa8da71\" xlink:show=\"new\" xlink:title=\"psysml:619a7e97-bac6-4f1e-8369-8e8a5aa8da71\" xlink:type=\"simple\"><rect fill=\"#FFFFFF\" height=\"45.9375\" id=\"E6\" rx=\"10\" ry=\"10\" style=\"stroke: #383838; stroke-width: 1.5;\" width=\"42\" x=\"475\" y=\"62\"/><text fill=\"#000000\" font-family=\"sans-serif\" font-size=\"12\" font-style=\"italic\" lengthAdjust=\"spacingAndGlyphs\" textLength=\"40\" x=\"476\" y=\"78.1387\">«part»</text><text fill=\"#000000\" font-family=\"sans-serif\" font-size=\"12\" lengthAdjust=\"spacingAndGlyphs\" textLength=\"23\" x=\"482.5\" y=\"92.1074\">c: P</text><line style=\"stroke: #383838; stroke-width: 1.5;\" x1=\"476\" x2=\"516\" y1=\"99.9375\" y2=\"99.9375\"/></a><!--MD5=[2156ba9850f5573cc1fc38a6a4b2f02b]\n",
       "class E7--><a href=\"psysml:baf82fce-ad86-47f7-be04-61d8ab51238a\" target=\"_top\" title=\"psysml:baf82fce-ad86-47f7-be04-61d8ab51238a\" xlink:actuate=\"onRequest\" xlink:href=\"psysml:baf82fce-ad86-47f7-be04-61d8ab51238a\" xlink:show=\"new\" xlink:title=\"psysml:baf82fce-ad86-47f7-be04-61d8ab51238a\" xlink:type=\"simple\"><rect fill=\"#FFFFFF\" height=\"45.9375\" id=\"E7\" rx=\"10\" ry=\"10\" style=\"stroke: #383838; stroke-width: 1.5;\" width=\"42\" x=\"398\" y=\"62\"/><text fill=\"#000000\" font-family=\"sans-serif\" font-size=\"12\" font-style=\"italic\" lengthAdjust=\"spacingAndGlyphs\" textLength=\"40\" x=\"399\" y=\"78.1387\">«part»</text><text fill=\"#000000\" font-family=\"sans-serif\" font-size=\"12\" lengthAdjust=\"spacingAndGlyphs\" textLength=\"8\" x=\"413\" y=\"92.1074\">d</text><line style=\"stroke: #383838; stroke-width: 1.5;\" x1=\"399\" x2=\"439\" y1=\"99.9375\" y2=\"99.9375\"/></a><!--MD5=[b9389687b975829384b498ac4b7476b2]\n",
       "class E8--><a href=\"psysml:602edda4-e9f7-4346-9e9a-bc1deb44a144\" target=\"_top\" title=\"psysml:602edda4-e9f7-4346-9e9a-bc1deb44a144\" xlink:actuate=\"onRequest\" xlink:href=\"psysml:602edda4-e9f7-4346-9e9a-bc1deb44a144\" xlink:show=\"new\" xlink:title=\"psysml:602edda4-e9f7-4346-9e9a-bc1deb44a144\" xlink:type=\"simple\"><rect fill=\"#FFFFFF\" height=\"45.9375\" id=\"E8\" rx=\"10\" ry=\"10\" style=\"stroke: #383838; stroke-width: 1.5;\" width=\"42\" x=\"321\" y=\"62\"/><text fill=\"#000000\" font-family=\"sans-serif\" font-size=\"12\" font-style=\"italic\" lengthAdjust=\"spacingAndGlyphs\" textLength=\"40\" x=\"322\" y=\"78.1387\">«part»</text><text fill=\"#000000\" font-family=\"sans-serif\" font-size=\"12\" lengthAdjust=\"spacingAndGlyphs\" textLength=\"8\" x=\"336\" y=\"92.1074\">e</text><line style=\"stroke: #383838; stroke-width: 1.5;\" x1=\"322\" x2=\"362\" y1=\"99.9375\" y2=\"99.9375\"/></a><!--MD5=[fd4143e9d270a159db93a4ea2a975926]\n",
       "class E9--><a href=\"psysml:ea99d53b-6b01-4b58-853a-79f827c6b1d7\" target=\"_top\" title=\"psysml:ea99d53b-6b01-4b58-853a-79f827c6b1d7\" xlink:actuate=\"onRequest\" xlink:href=\"psysml:ea99d53b-6b01-4b58-853a-79f827c6b1d7\" xlink:show=\"new\" xlink:title=\"psysml:ea99d53b-6b01-4b58-853a-79f827c6b1d7\" xlink:type=\"simple\"><rect fill=\"#FFFFFF\" height=\"45.9375\" id=\"E9\" rx=\"10\" ry=\"10\" style=\"stroke: #383838; stroke-width: 1.5;\" width=\"42\" x=\"244\" y=\"62\"/><text fill=\"#000000\" font-family=\"sans-serif\" font-size=\"12\" font-style=\"italic\" lengthAdjust=\"spacingAndGlyphs\" textLength=\"40\" x=\"245\" y=\"78.1387\">«part»</text><text fill=\"#000000\" font-family=\"sans-serif\" font-size=\"12\" lengthAdjust=\"spacingAndGlyphs\" textLength=\"4\" x=\"261\" y=\"92.1074\">f</text><line style=\"stroke: #383838; stroke-width: 1.5;\" x1=\"245\" x2=\"285\" y1=\"99.9375\" y2=\"99.9375\"/></a><!--MD5=[96f4274e9e20536e775497830990834d]\n",
       "class E10--><a href=\"psysml:7f8b6820-ebe3-4bcd-8be0-e5513e7bb89f\" target=\"_top\" title=\"psysml:7f8b6820-ebe3-4bcd-8be0-e5513e7bb89f\" xlink:actuate=\"onRequest\" xlink:href=\"psysml:7f8b6820-ebe3-4bcd-8be0-e5513e7bb89f\" xlink:show=\"new\" xlink:title=\"psysml:7f8b6820-ebe3-4bcd-8be0-e5513e7bb89f\" xlink:type=\"simple\"><rect fill=\"#FFFFFF\" height=\"45.9375\" id=\"E10\" rx=\"10\" ry=\"10\" style=\"stroke: #383838; stroke-width: 1.5;\" width=\"42\" x=\"167\" y=\"62\"/><text fill=\"#000000\" font-family=\"sans-serif\" font-size=\"12\" font-style=\"italic\" lengthAdjust=\"spacingAndGlyphs\" textLength=\"40\" x=\"168\" y=\"78.1387\">«part»</text><text fill=\"#000000\" font-family=\"sans-serif\" font-size=\"12\" lengthAdjust=\"spacingAndGlyphs\" textLength=\"8\" x=\"182\" y=\"92.1074\">g</text><line style=\"stroke: #383838; stroke-width: 1.5;\" x1=\"168\" x2=\"208\" y1=\"99.9375\" y2=\"99.9375\"/></a><!--MD5=[1dd1bfd58a279cf63c5f349dbc8fc6a1]\n",
       "class E11--><a href=\"psysml:b98160f9-962b-4166-b8bf-1b8817b6e181\" target=\"_top\" title=\"psysml:b98160f9-962b-4166-b8bf-1b8817b6e181\" xlink:actuate=\"onRequest\" xlink:href=\"psysml:b98160f9-962b-4166-b8bf-1b8817b6e181\" xlink:show=\"new\" xlink:title=\"psysml:b98160f9-962b-4166-b8bf-1b8817b6e181\" xlink:type=\"simple\"><rect fill=\"#FFFFFF\" height=\"88.3516\" id=\"E11\" style=\"stroke: #383838; stroke-width: 1.5;\" width=\"99\" x=\"32.5\" y=\"41\"/><text fill=\"#000000\" font-family=\"sans-serif\" font-size=\"12\" font-style=\"italic\" lengthAdjust=\"spacingAndGlyphs\" textLength=\"97\" x=\"33.5\" y=\"57.1387\">«attribute  def»</text><text fill=\"#000000\" font-family=\"sans-serif\" font-size=\"12\" lengthAdjust=\"spacingAndGlyphs\" textLength=\"8\" x=\"78\" y=\"71.1074\">A</text><line style=\"stroke: #383838; stroke-width: 1.5;\" x1=\"33.5\" x2=\"130.5\" y1=\"78.9375\" y2=\"78.9375\"/><text fill=\"#000000\" font-family=\"sans-serif\" font-size=\"11\" lengthAdjust=\"spacingAndGlyphs\" textLength=\"51\" x=\"38.5\" y=\"109.9526\">i: Integer</text><text fill=\"#000000\" font-family=\"sans-serif\" font-size=\"11\" lengthAdjust=\"spacingAndGlyphs\" textLength=\"21\" x=\"38.5\" y=\"122.7573\">x: A</text><line style=\"stroke: #383838; stroke-width: 1.0;\" x1=\"33.5\" x2=\"54.5\" y1=\"93.3398\" y2=\"93.3398\"/><text fill=\"#000000\" font-family=\"sans-serif\" font-size=\"11\" lengthAdjust=\"spacingAndGlyphs\" textLength=\"55\" x=\"54.5\" y=\"96.6479\">attributes</text><line style=\"stroke: #383838; stroke-width: 1.0;\" x1=\"109.5\" x2=\"130.5\" y1=\"93.3398\" y2=\"93.3398\"/></a><!--MD5=[15ebcb19ae302d9b601edb458606d402]\n",
       "link E5 to E2--><a href=\"psysml:f465fece-be6c-4a0b-8b87-5b67ed75d8f8\" target=\"_top\" title=\"psysml:f465fece-be6c-4a0b-8b87-5b67ed75d8f8\" xlink:actuate=\"onRequest\" xlink:href=\"psysml:f465fece-be6c-4a0b-8b87-5b67ed75d8f8\" xlink:show=\"new\" xlink:title=\"psysml:f465fece-be6c-4a0b-8b87-5b67ed75d8f8\" xlink:type=\"simple\"><path d=\"M566.12,108.06 C560.83,125 553.38,148.89 546.98,169.39 \" fill=\"none\" id=\"E5-&gt;E2\" style=\"stroke: #383838; stroke-width: 1.0;\"/><polygon fill=\"#FFFFFF\" points=\"540.95,188.74,539.929,168.5173,553.2931,172.6886,540.95,188.74\" style=\"stroke: #383838; stroke-width: 1.0;\"/><ellipse cx=\"543.5364\" cy=\"163.6721\" fill=\"#383838\" rx=\"2\" ry=\"2\" style=\"stroke: #383838; stroke-width: 1.0;\"/><ellipse cx=\"553.0823\" cy=\"166.6516\" fill=\"#383838\" rx=\"2\" ry=\"2\" style=\"stroke: #383838; stroke-width: 1.0;\"/></a><!--MD5=[2351f337d6de0f557b50152ba70847b5]\n",
       "link E6 to E2--><a href=\"psysml:72e02ffe-11ce-46be-a503-0c91c54548ee\" target=\"_top\" title=\"psysml:72e02ffe-11ce-46be-a503-0c91c54548ee\" xlink:actuate=\"onRequest\" xlink:href=\"psysml:72e02ffe-11ce-46be-a503-0c91c54548ee\" xlink:show=\"new\" xlink:title=\"psysml:72e02ffe-11ce-46be-a503-0c91c54548ee\" xlink:type=\"simple\"><path d=\"M502.71,108.06 C507.86,125 515.12,148.89 521.35,169.39 \" fill=\"none\" id=\"E6-&gt;E2\" style=\"stroke: #383838; stroke-width: 1.0;\"/><polygon fill=\"#FFFFFF\" points=\"527.23,188.74,515.007,172.597,528.4019,168.5255,527.23,188.74\" style=\"stroke: #383838; stroke-width: 1.0;\"/><ellipse cx=\"515.2628\" cy=\"166.5617\" fill=\"#383838\" rx=\"2\" ry=\"2\" style=\"stroke: #383838; stroke-width: 1.0;\"/><ellipse cx=\"524.8306\" cy=\"163.6535\" fill=\"#383838\" rx=\"2\" ry=\"2\" style=\"stroke: #383838; stroke-width: 1.0;\"/></a><!--MD5=[ff5ebe3d98fcbae404fdc65ea73052cb]\n",
       "@startuml\r\n",
       " skinparam monochrome true\r\n",
       "skinparam classbackgroundcolor white\r\n",
       "skinparam shadowing false\r\n",
       "skinparam wrapWidth 300\r\n",
       "hide circle\r\n",
       "\r\n",
       "package \"MultiplicityTest\" as E1  [[psysml:437e1e49-e6a3-4f3e-be27-b1e07120749d ]]  {\r\n",
       "comp def \"P\" as E2  <<(T,blue) part  def>> [[psysml:d60dc8a9-ee87-4177-8909-4fd780a9d8f8 ]] {\r\n",
       "}\r\n",
       "comp usage \"n: Integer \" as E3  <<(T,blue) attribute>> [[psysml:a5340f1d-d68a-4585-8f96-7305e6f489d2 ]] {\r\n",
       "}\r\n",
       "comp usage \"a \" as E4  <<(T,blue) part>> [[psysml:478d9241-8f6e-4034-a71b-67b7ef5acdce ]] {\r\n",
       "}\r\n",
       "comp usage \"b: P \" as E5  <<(T,blue) part>> [[psysml:bc94da79-c19f-4e44-8720-527e565e90dd ]] {\r\n",
       "}\r\n",
       "comp usage \"c: P \" as E6  <<(T,blue) part>> [[psysml:619a7e97-bac6-4f1e-8369-8e8a5aa8da71 ]] {\r\n",
       "}\r\n",
       "comp usage \"d \" as E7  <<(T,blue) part>> [[psysml:baf82fce-ad86-47f7-be04-61d8ab51238a ]] {\r\n",
       "}\r\n",
       "comp usage \"e \" as E8  <<(T,blue) part>> [[psysml:602edda4-e9f7-4346-9e9a-bc1deb44a144 ]] {\r\n",
       "}\r\n",
       "comp usage \"f \" as E9  <<(T,blue) part>> [[psysml:ea99d53b-6b01-4b58-853a-79f827c6b1d7 ]] {\r\n",
       "}\r\n",
       "comp usage \"g \" as E10  <<(T,blue) part>> [[psysml:7f8b6820-ebe3-4bcd-8be0-e5513e7bb89f ]] {\r\n",
       "}\r\n",
       "comp def \"A\" as E11  <<(T,blue) attribute  def>> [[psysml:b98160f9-962b-4166-b8bf-1b8817b6e181 ]] {\r\n",
       "- - attributes - -\r\n",
       "i: Integer\r\n",
       "x: A\r\n",
       "}\r\n",
       "}\r\n",
       "E5 - -:|> E2 [[psysml:f465fece-be6c-4a0b-8b87-5b67ed75d8f8 ]] \r\n",
       "E6 - -:|> E2 [[psysml:72e02ffe-11ce-46be-a503-0c91c54548ee ]] \r\n",
       "@enduml\r\n",
       "\n",
       "PlantUML version 1.2020.13(Sat Jun 13 12:26:38 UTC 2020)\n",
       "(EPL source distribution)\n",
       "Java Runtime: OpenJDK Runtime Environment\n",
       "JVM: OpenJDK 64-Bit Server VM\n",
       "Default Encoding: UTF-8\n",
       "Language: en\n",
       "Country: null\n",
       "--></g></svg>"
      ]
     },
     "execution_count": 2,
     "metadata": {},
     "output_type": "execute_result"
    }
   ],
   "source": [
    "%viz --style=\"COMPTREE\" --view=\"Default\" \"MultiplicityTest\""
   ]
  },
  {
   "cell_type": "code",
   "execution_count": 3,
   "id": "b911625c",
   "metadata": {
    "execution": {
     "iopub.execute_input": "2022-03-03T09:58:28.515897Z",
     "iopub.status.busy": "2022-03-03T09:58:28.515451Z",
     "iopub.status.idle": "2022-03-03T09:58:28.577152Z",
     "shell.execute_reply": "2022-03-03T09:58:28.575714Z"
    }
   },
   "outputs": [
    {
     "data": {
      "image/svg+xml": [
       "<?xml version=\"1.0\" encoding=\"UTF-8\" standalone=\"no\"?><svg xmlns=\"http://www.w3.org/2000/svg\" xmlns:xlink=\"http://www.w3.org/1999/xlink\" contentScriptType=\"application/ecmascript\" contentStyleType=\"text/css\" height=\"263px\" preserveAspectRatio=\"none\" style=\"width:816px;height:263px;\" version=\"1.1\" viewBox=\"0 0 816 263\" width=\"816px\" zoomAndPan=\"magnify\"><defs/><g><!--MD5=[fbc87193dbaf4d95561dea2c320d4a47]\n",
       "cluster E1--><a href=\"psysml:437e1e49-e6a3-4f3e-be27-b1e07120749d\" target=\"_top\" title=\"psysml:437e1e49-e6a3-4f3e-be27-b1e07120749d\" xlink:actuate=\"onRequest\" xlink:href=\"psysml:437e1e49-e6a3-4f3e-be27-b1e07120749d\" xlink:show=\"new\" xlink:title=\"psysml:437e1e49-e6a3-4f3e-be27-b1e07120749d\" xlink:type=\"simple\"><polygon fill=\"#FFFFFF\" points=\"16,6,123,6,130,28.2969,794,28.2969,794,251,16,251,16,6\" style=\"stroke: #000000; stroke-width: 1.5;\"/><line style=\"stroke: #000000; stroke-width: 1.5;\" x1=\"16\" x2=\"130\" y1=\"28.2969\" y2=\"28.2969\"/><text fill=\"#000000\" font-family=\"sans-serif\" font-size=\"14\" font-weight=\"bold\" lengthAdjust=\"spacingAndGlyphs\" textLength=\"101\" x=\"20\" y=\"20.9951\">MultiplicityTest</text></a><!--MD5=[b4997ac47864f28c2f74865a473b2911]\n",
       "class E2--><a href=\"psysml:d60dc8a9-ee87-4177-8909-4fd780a9d8f8\" target=\"_top\" title=\"psysml:d60dc8a9-ee87-4177-8909-4fd780a9d8f8\" xlink:actuate=\"onRequest\" xlink:href=\"psysml:d60dc8a9-ee87-4177-8909-4fd780a9d8f8\" xlink:show=\"new\" xlink:title=\"psysml:d60dc8a9-ee87-4177-8909-4fd780a9d8f8\" xlink:type=\"simple\"><rect fill=\"#FFFFFF\" height=\"45.9375\" id=\"E2\" style=\"stroke: #383838; stroke-width: 1.5;\" width=\"70\" x=\"499\" y=\"189\"/><text fill=\"#000000\" font-family=\"sans-serif\" font-size=\"12\" font-style=\"italic\" lengthAdjust=\"spacingAndGlyphs\" textLength=\"68\" x=\"500\" y=\"205.1387\">«part  def»</text><text fill=\"#000000\" font-family=\"sans-serif\" font-size=\"12\" lengthAdjust=\"spacingAndGlyphs\" textLength=\"8\" x=\"530\" y=\"219.1074\">P</text><line style=\"stroke: #383838; stroke-width: 1.5;\" x1=\"500\" x2=\"568\" y1=\"226.9375\" y2=\"226.9375\"/></a><!--MD5=[09b614a08d8cba4a07c9adeb5e0fee81]\n",
       "class E3--><a href=\"psysml:a5340f1d-d68a-4585-8f96-7305e6f489d2\" target=\"_top\" title=\"psysml:a5340f1d-d68a-4585-8f96-7305e6f489d2\" xlink:actuate=\"onRequest\" xlink:href=\"psysml:a5340f1d-d68a-4585-8f96-7305e6f489d2\" xlink:show=\"new\" xlink:title=\"psysml:a5340f1d-d68a-4585-8f96-7305e6f489d2\" xlink:type=\"simple\"><rect fill=\"#FFFFFF\" height=\"45.9375\" id=\"E3\" rx=\"10\" ry=\"10\" style=\"stroke: #383838; stroke-width: 1.5;\" width=\"71\" x=\"706.5\" y=\"62\"/><text fill=\"#000000\" font-family=\"sans-serif\" font-size=\"12\" font-style=\"italic\" lengthAdjust=\"spacingAndGlyphs\" textLength=\"69\" x=\"707.5\" y=\"78.1387\">«attribute»</text><text fill=\"#000000\" font-family=\"sans-serif\" font-size=\"12\" lengthAdjust=\"spacingAndGlyphs\" textLength=\"61\" x=\"709.5\" y=\"92.1074\">n: Integer</text><line style=\"stroke: #383838; stroke-width: 1.5;\" x1=\"707.5\" x2=\"776.5\" y1=\"99.9375\" y2=\"99.9375\"/></a><!--MD5=[ebbe1d658d1005bcc118a6aa81145e00]\n",
       "class E4--><a href=\"psysml:478d9241-8f6e-4034-a71b-67b7ef5acdce\" target=\"_top\" title=\"psysml:478d9241-8f6e-4034-a71b-67b7ef5acdce\" xlink:actuate=\"onRequest\" xlink:href=\"psysml:478d9241-8f6e-4034-a71b-67b7ef5acdce\" xlink:show=\"new\" xlink:title=\"psysml:478d9241-8f6e-4034-a71b-67b7ef5acdce\" xlink:type=\"simple\"><rect fill=\"#FFFFFF\" height=\"45.9375\" id=\"E4\" rx=\"10\" ry=\"10\" style=\"stroke: #383838; stroke-width: 1.5;\" width=\"42\" x=\"629\" y=\"62\"/><text fill=\"#000000\" font-family=\"sans-serif\" font-size=\"12\" font-style=\"italic\" lengthAdjust=\"spacingAndGlyphs\" textLength=\"40\" x=\"630\" y=\"78.1387\">«part»</text><text fill=\"#000000\" font-family=\"sans-serif\" font-size=\"12\" lengthAdjust=\"spacingAndGlyphs\" textLength=\"8\" x=\"644\" y=\"92.1074\">a</text><line style=\"stroke: #383838; stroke-width: 1.5;\" x1=\"630\" x2=\"670\" y1=\"99.9375\" y2=\"99.9375\"/></a><!--MD5=[270fce915f116d4de14055a7c1d9a0f3]\n",
       "class E5--><a href=\"psysml:bc94da79-c19f-4e44-8720-527e565e90dd\" target=\"_top\" title=\"psysml:bc94da79-c19f-4e44-8720-527e565e90dd\" xlink:actuate=\"onRequest\" xlink:href=\"psysml:bc94da79-c19f-4e44-8720-527e565e90dd\" xlink:show=\"new\" xlink:title=\"psysml:bc94da79-c19f-4e44-8720-527e565e90dd\" xlink:type=\"simple\"><rect fill=\"#FFFFFF\" height=\"45.9375\" id=\"E5\" rx=\"10\" ry=\"10\" style=\"stroke: #383838; stroke-width: 1.5;\" width=\"42\" x=\"552\" y=\"62\"/><text fill=\"#000000\" font-family=\"sans-serif\" font-size=\"12\" font-style=\"italic\" lengthAdjust=\"spacingAndGlyphs\" textLength=\"40\" x=\"553\" y=\"78.1387\">«part»</text><text fill=\"#000000\" font-family=\"sans-serif\" font-size=\"12\" lengthAdjust=\"spacingAndGlyphs\" textLength=\"24\" x=\"559\" y=\"92.1074\">b: P</text><line style=\"stroke: #383838; stroke-width: 1.5;\" x1=\"553\" x2=\"593\" y1=\"99.9375\" y2=\"99.9375\"/></a><!--MD5=[60a26617385b1d2d0262a64233df1f8d]\n",
       "class E6--><a href=\"psysml:619a7e97-bac6-4f1e-8369-8e8a5aa8da71\" target=\"_top\" title=\"psysml:619a7e97-bac6-4f1e-8369-8e8a5aa8da71\" xlink:actuate=\"onRequest\" xlink:href=\"psysml:619a7e97-bac6-4f1e-8369-8e8a5aa8da71\" xlink:show=\"new\" xlink:title=\"psysml:619a7e97-bac6-4f1e-8369-8e8a5aa8da71\" xlink:type=\"simple\"><rect fill=\"#FFFFFF\" height=\"45.9375\" id=\"E6\" rx=\"10\" ry=\"10\" style=\"stroke: #383838; stroke-width: 1.5;\" width=\"42\" x=\"475\" y=\"62\"/><text fill=\"#000000\" font-family=\"sans-serif\" font-size=\"12\" font-style=\"italic\" lengthAdjust=\"spacingAndGlyphs\" textLength=\"40\" x=\"476\" y=\"78.1387\">«part»</text><text fill=\"#000000\" font-family=\"sans-serif\" font-size=\"12\" lengthAdjust=\"spacingAndGlyphs\" textLength=\"23\" x=\"482.5\" y=\"92.1074\">c: P</text><line style=\"stroke: #383838; stroke-width: 1.5;\" x1=\"476\" x2=\"516\" y1=\"99.9375\" y2=\"99.9375\"/></a><!--MD5=[2156ba9850f5573cc1fc38a6a4b2f02b]\n",
       "class E7--><a href=\"psysml:baf82fce-ad86-47f7-be04-61d8ab51238a\" target=\"_top\" title=\"psysml:baf82fce-ad86-47f7-be04-61d8ab51238a\" xlink:actuate=\"onRequest\" xlink:href=\"psysml:baf82fce-ad86-47f7-be04-61d8ab51238a\" xlink:show=\"new\" xlink:title=\"psysml:baf82fce-ad86-47f7-be04-61d8ab51238a\" xlink:type=\"simple\"><rect fill=\"#FFFFFF\" height=\"45.9375\" id=\"E7\" rx=\"10\" ry=\"10\" style=\"stroke: #383838; stroke-width: 1.5;\" width=\"42\" x=\"398\" y=\"62\"/><text fill=\"#000000\" font-family=\"sans-serif\" font-size=\"12\" font-style=\"italic\" lengthAdjust=\"spacingAndGlyphs\" textLength=\"40\" x=\"399\" y=\"78.1387\">«part»</text><text fill=\"#000000\" font-family=\"sans-serif\" font-size=\"12\" lengthAdjust=\"spacingAndGlyphs\" textLength=\"8\" x=\"413\" y=\"92.1074\">d</text><line style=\"stroke: #383838; stroke-width: 1.5;\" x1=\"399\" x2=\"439\" y1=\"99.9375\" y2=\"99.9375\"/></a><!--MD5=[b9389687b975829384b498ac4b7476b2]\n",
       "class E8--><a href=\"psysml:602edda4-e9f7-4346-9e9a-bc1deb44a144\" target=\"_top\" title=\"psysml:602edda4-e9f7-4346-9e9a-bc1deb44a144\" xlink:actuate=\"onRequest\" xlink:href=\"psysml:602edda4-e9f7-4346-9e9a-bc1deb44a144\" xlink:show=\"new\" xlink:title=\"psysml:602edda4-e9f7-4346-9e9a-bc1deb44a144\" xlink:type=\"simple\"><rect fill=\"#FFFFFF\" height=\"45.9375\" id=\"E8\" rx=\"10\" ry=\"10\" style=\"stroke: #383838; stroke-width: 1.5;\" width=\"42\" x=\"321\" y=\"62\"/><text fill=\"#000000\" font-family=\"sans-serif\" font-size=\"12\" font-style=\"italic\" lengthAdjust=\"spacingAndGlyphs\" textLength=\"40\" x=\"322\" y=\"78.1387\">«part»</text><text fill=\"#000000\" font-family=\"sans-serif\" font-size=\"12\" lengthAdjust=\"spacingAndGlyphs\" textLength=\"8\" x=\"336\" y=\"92.1074\">e</text><line style=\"stroke: #383838; stroke-width: 1.5;\" x1=\"322\" x2=\"362\" y1=\"99.9375\" y2=\"99.9375\"/></a><!--MD5=[fd4143e9d270a159db93a4ea2a975926]\n",
       "class E9--><a href=\"psysml:ea99d53b-6b01-4b58-853a-79f827c6b1d7\" target=\"_top\" title=\"psysml:ea99d53b-6b01-4b58-853a-79f827c6b1d7\" xlink:actuate=\"onRequest\" xlink:href=\"psysml:ea99d53b-6b01-4b58-853a-79f827c6b1d7\" xlink:show=\"new\" xlink:title=\"psysml:ea99d53b-6b01-4b58-853a-79f827c6b1d7\" xlink:type=\"simple\"><rect fill=\"#FFFFFF\" height=\"45.9375\" id=\"E9\" rx=\"10\" ry=\"10\" style=\"stroke: #383838; stroke-width: 1.5;\" width=\"42\" x=\"244\" y=\"62\"/><text fill=\"#000000\" font-family=\"sans-serif\" font-size=\"12\" font-style=\"italic\" lengthAdjust=\"spacingAndGlyphs\" textLength=\"40\" x=\"245\" y=\"78.1387\">«part»</text><text fill=\"#000000\" font-family=\"sans-serif\" font-size=\"12\" lengthAdjust=\"spacingAndGlyphs\" textLength=\"4\" x=\"261\" y=\"92.1074\">f</text><line style=\"stroke: #383838; stroke-width: 1.5;\" x1=\"245\" x2=\"285\" y1=\"99.9375\" y2=\"99.9375\"/></a><!--MD5=[96f4274e9e20536e775497830990834d]\n",
       "class E10--><a href=\"psysml:7f8b6820-ebe3-4bcd-8be0-e5513e7bb89f\" target=\"_top\" title=\"psysml:7f8b6820-ebe3-4bcd-8be0-e5513e7bb89f\" xlink:actuate=\"onRequest\" xlink:href=\"psysml:7f8b6820-ebe3-4bcd-8be0-e5513e7bb89f\" xlink:show=\"new\" xlink:title=\"psysml:7f8b6820-ebe3-4bcd-8be0-e5513e7bb89f\" xlink:type=\"simple\"><rect fill=\"#FFFFFF\" height=\"45.9375\" id=\"E10\" rx=\"10\" ry=\"10\" style=\"stroke: #383838; stroke-width: 1.5;\" width=\"42\" x=\"167\" y=\"62\"/><text fill=\"#000000\" font-family=\"sans-serif\" font-size=\"12\" font-style=\"italic\" lengthAdjust=\"spacingAndGlyphs\" textLength=\"40\" x=\"168\" y=\"78.1387\">«part»</text><text fill=\"#000000\" font-family=\"sans-serif\" font-size=\"12\" lengthAdjust=\"spacingAndGlyphs\" textLength=\"8\" x=\"182\" y=\"92.1074\">g</text><line style=\"stroke: #383838; stroke-width: 1.5;\" x1=\"168\" x2=\"208\" y1=\"99.9375\" y2=\"99.9375\"/></a><!--MD5=[1dd1bfd58a279cf63c5f349dbc8fc6a1]\n",
       "class E11--><a href=\"psysml:b98160f9-962b-4166-b8bf-1b8817b6e181\" target=\"_top\" title=\"psysml:b98160f9-962b-4166-b8bf-1b8817b6e181\" xlink:actuate=\"onRequest\" xlink:href=\"psysml:b98160f9-962b-4166-b8bf-1b8817b6e181\" xlink:show=\"new\" xlink:title=\"psysml:b98160f9-962b-4166-b8bf-1b8817b6e181\" xlink:type=\"simple\"><rect fill=\"#FFFFFF\" height=\"88.3516\" id=\"E11\" style=\"stroke: #383838; stroke-width: 1.5;\" width=\"99\" x=\"32.5\" y=\"41\"/><text fill=\"#000000\" font-family=\"sans-serif\" font-size=\"12\" font-style=\"italic\" lengthAdjust=\"spacingAndGlyphs\" textLength=\"97\" x=\"33.5\" y=\"57.1387\">«attribute  def»</text><text fill=\"#000000\" font-family=\"sans-serif\" font-size=\"12\" lengthAdjust=\"spacingAndGlyphs\" textLength=\"8\" x=\"78\" y=\"71.1074\">A</text><line style=\"stroke: #383838; stroke-width: 1.5;\" x1=\"33.5\" x2=\"130.5\" y1=\"78.9375\" y2=\"78.9375\"/><text fill=\"#000000\" font-family=\"sans-serif\" font-size=\"11\" lengthAdjust=\"spacingAndGlyphs\" textLength=\"51\" x=\"38.5\" y=\"109.9526\">i: Integer</text><text fill=\"#000000\" font-family=\"sans-serif\" font-size=\"11\" lengthAdjust=\"spacingAndGlyphs\" textLength=\"21\" x=\"38.5\" y=\"122.7573\">x: A</text><line style=\"stroke: #383838; stroke-width: 1.0;\" x1=\"33.5\" x2=\"54.5\" y1=\"93.3398\" y2=\"93.3398\"/><text fill=\"#000000\" font-family=\"sans-serif\" font-size=\"11\" lengthAdjust=\"spacingAndGlyphs\" textLength=\"55\" x=\"54.5\" y=\"96.6479\">attributes</text><line style=\"stroke: #383838; stroke-width: 1.0;\" x1=\"109.5\" x2=\"130.5\" y1=\"93.3398\" y2=\"93.3398\"/></a><!--MD5=[15ebcb19ae302d9b601edb458606d402]\n",
       "link E5 to E2--><a href=\"psysml:f465fece-be6c-4a0b-8b87-5b67ed75d8f8\" target=\"_top\" title=\"psysml:f465fece-be6c-4a0b-8b87-5b67ed75d8f8\" xlink:actuate=\"onRequest\" xlink:href=\"psysml:f465fece-be6c-4a0b-8b87-5b67ed75d8f8\" xlink:show=\"new\" xlink:title=\"psysml:f465fece-be6c-4a0b-8b87-5b67ed75d8f8\" xlink:type=\"simple\"><path d=\"M566.12,108.06 C560.83,125 553.38,148.89 546.98,169.39 \" fill=\"none\" id=\"E5-&gt;E2\" style=\"stroke: #383838; stroke-width: 1.0;\"/><polygon fill=\"#FFFFFF\" points=\"540.95,188.74,539.929,168.5173,553.2931,172.6886,540.95,188.74\" style=\"stroke: #383838; stroke-width: 1.0;\"/><ellipse cx=\"543.5364\" cy=\"163.6721\" fill=\"#383838\" rx=\"2\" ry=\"2\" style=\"stroke: #383838; stroke-width: 1.0;\"/><ellipse cx=\"553.0823\" cy=\"166.6516\" fill=\"#383838\" rx=\"2\" ry=\"2\" style=\"stroke: #383838; stroke-width: 1.0;\"/></a><!--MD5=[2351f337d6de0f557b50152ba70847b5]\n",
       "link E6 to E2--><a href=\"psysml:72e02ffe-11ce-46be-a503-0c91c54548ee\" target=\"_top\" title=\"psysml:72e02ffe-11ce-46be-a503-0c91c54548ee\" xlink:actuate=\"onRequest\" xlink:href=\"psysml:72e02ffe-11ce-46be-a503-0c91c54548ee\" xlink:show=\"new\" xlink:title=\"psysml:72e02ffe-11ce-46be-a503-0c91c54548ee\" xlink:type=\"simple\"><path d=\"M502.71,108.06 C507.86,125 515.12,148.89 521.35,169.39 \" fill=\"none\" id=\"E6-&gt;E2\" style=\"stroke: #383838; stroke-width: 1.0;\"/><polygon fill=\"#FFFFFF\" points=\"527.23,188.74,515.007,172.597,528.4019,168.5255,527.23,188.74\" style=\"stroke: #383838; stroke-width: 1.0;\"/><ellipse cx=\"515.2628\" cy=\"166.5617\" fill=\"#383838\" rx=\"2\" ry=\"2\" style=\"stroke: #383838; stroke-width: 1.0;\"/><ellipse cx=\"524.8306\" cy=\"163.6535\" fill=\"#383838\" rx=\"2\" ry=\"2\" style=\"stroke: #383838; stroke-width: 1.0;\"/></a><!--MD5=[ff5ebe3d98fcbae404fdc65ea73052cb]\n",
       "@startuml\r\n",
       " skinparam monochrome true\r\n",
       "skinparam classbackgroundcolor white\r\n",
       "skinparam shadowing false\r\n",
       "skinparam wrapWidth 300\r\n",
       "hide circle\r\n",
       "\r\n",
       "package \"MultiplicityTest\" as E1  [[psysml:437e1e49-e6a3-4f3e-be27-b1e07120749d ]]  {\r\n",
       "comp def \"P\" as E2  <<(T,blue) part  def>> [[psysml:d60dc8a9-ee87-4177-8909-4fd780a9d8f8 ]] {\r\n",
       "}\r\n",
       "comp usage \"n: Integer \" as E3  <<(T,blue) attribute>> [[psysml:a5340f1d-d68a-4585-8f96-7305e6f489d2 ]] {\r\n",
       "}\r\n",
       "comp usage \"a \" as E4  <<(T,blue) part>> [[psysml:478d9241-8f6e-4034-a71b-67b7ef5acdce ]] {\r\n",
       "}\r\n",
       "comp usage \"b: P \" as E5  <<(T,blue) part>> [[psysml:bc94da79-c19f-4e44-8720-527e565e90dd ]] {\r\n",
       "}\r\n",
       "comp usage \"c: P \" as E6  <<(T,blue) part>> [[psysml:619a7e97-bac6-4f1e-8369-8e8a5aa8da71 ]] {\r\n",
       "}\r\n",
       "comp usage \"d \" as E7  <<(T,blue) part>> [[psysml:baf82fce-ad86-47f7-be04-61d8ab51238a ]] {\r\n",
       "}\r\n",
       "comp usage \"e \" as E8  <<(T,blue) part>> [[psysml:602edda4-e9f7-4346-9e9a-bc1deb44a144 ]] {\r\n",
       "}\r\n",
       "comp usage \"f \" as E9  <<(T,blue) part>> [[psysml:ea99d53b-6b01-4b58-853a-79f827c6b1d7 ]] {\r\n",
       "}\r\n",
       "comp usage \"g \" as E10  <<(T,blue) part>> [[psysml:7f8b6820-ebe3-4bcd-8be0-e5513e7bb89f ]] {\r\n",
       "}\r\n",
       "comp def \"A\" as E11  <<(T,blue) attribute  def>> [[psysml:b98160f9-962b-4166-b8bf-1b8817b6e181 ]] {\r\n",
       "- - attributes - -\r\n",
       "i: Integer\r\n",
       "x: A\r\n",
       "}\r\n",
       "}\r\n",
       "E5 - -:|> E2 [[psysml:f465fece-be6c-4a0b-8b87-5b67ed75d8f8 ]] \r\n",
       "E6 - -:|> E2 [[psysml:72e02ffe-11ce-46be-a503-0c91c54548ee ]] \r\n",
       "@enduml\r\n",
       "\n",
       "PlantUML version 1.2020.13(Sat Jun 13 12:26:38 UTC 2020)\n",
       "(EPL source distribution)\n",
       "Java Runtime: OpenJDK Runtime Environment\n",
       "JVM: OpenJDK 64-Bit Server VM\n",
       "Default Encoding: UTF-8\n",
       "Language: en\n",
       "Country: null\n",
       "--></g></svg>"
      ]
     },
     "execution_count": 3,
     "metadata": {},
     "output_type": "execute_result"
    }
   ],
   "source": [
    "%viz --style=\"COMPTREE\" --view=\"Tree\" \"MultiplicityTest\""
   ]
  },
  {
   "cell_type": "code",
   "execution_count": 4,
   "id": "44926c0f",
   "metadata": {
    "execution": {
     "iopub.execute_input": "2022-03-03T09:58:28.626770Z",
     "iopub.status.busy": "2022-03-03T09:58:28.626326Z",
     "iopub.status.idle": "2022-03-03T09:58:28.633345Z",
     "shell.execute_reply": "2022-03-03T09:58:28.633664Z"
    }
   },
   "outputs": [
    {
     "data": {
      "image/svg+xml": [
       "<?xml version=\"1.0\" encoding=\"UTF-8\" standalone=\"no\"?><svg xmlns=\"http://www.w3.org/2000/svg\" xmlns:xlink=\"http://www.w3.org/1999/xlink\" contentScriptType=\"application/ecmascript\" contentStyleType=\"text/css\" height=\"12px\" preserveAspectRatio=\"none\" style=\"width:12px;height:12px;\" version=\"1.1\" viewBox=\"0 0 12 12\" width=\"12px\" zoomAndPan=\"magnify\"><defs/><g><!--MD5=[f19188ef49e11757b5c46753f95d9edc]\n",
       "@startuml\r\n",
       " skinparam monochrome true\r\n",
       "skinparam classbackgroundcolor white\r\n",
       "skinparam shadowing false\r\n",
       "skinparam wrapWidth 300\r\n",
       "hide circle\r\n",
       "\r\n",
       "@enduml\r\n",
       "\n",
       "PlantUML version 1.2020.13(Sat Jun 13 12:26:38 UTC 2020)\n",
       "(EPL source distribution)\n",
       "Java Runtime: OpenJDK Runtime Environment\n",
       "JVM: OpenJDK 64-Bit Server VM\n",
       "Default Encoding: UTF-8\n",
       "Language: en\n",
       "Country: null\n",
       "--></g></svg>"
      ]
     },
     "execution_count": 4,
     "metadata": {},
     "output_type": "execute_result"
    }
   ],
   "source": [
    "%viz --style=\"COMPTREE\" --view=\"State\" \"MultiplicityTest\""
   ]
  },
  {
   "cell_type": "code",
   "execution_count": 5,
   "id": "7382444a",
   "metadata": {
    "execution": {
     "iopub.execute_input": "2022-03-03T09:58:28.684243Z",
     "iopub.status.busy": "2022-03-03T09:58:28.683835Z",
     "iopub.status.idle": "2022-03-03T09:58:28.737111Z",
     "shell.execute_reply": "2022-03-03T09:58:28.737454Z"
    }
   },
   "outputs": [
    {
     "data": {
      "image/svg+xml": [
       "<?xml version=\"1.0\" encoding=\"UTF-8\" standalone=\"no\"?><svg xmlns=\"http://www.w3.org/2000/svg\" xmlns:xlink=\"http://www.w3.org/1999/xlink\" contentScriptType=\"application/ecmascript\" contentStyleType=\"text/css\" height=\"115px\" preserveAspectRatio=\"none\" style=\"width:987px;height:115px;\" version=\"1.1\" viewBox=\"0 0 987 115\" width=\"987px\" zoomAndPan=\"magnify\"><defs/><g><!--MD5=[fbc87193dbaf4d95561dea2c320d4a47]\n",
       "cluster E1--><a href=\"psysml:437e1e49-e6a3-4f3e-be27-b1e07120749d\" target=\"_top\" title=\"psysml:437e1e49-e6a3-4f3e-be27-b1e07120749d\" xlink:actuate=\"onRequest\" xlink:href=\"psysml:437e1e49-e6a3-4f3e-be27-b1e07120749d\" xlink:show=\"new\" xlink:title=\"psysml:437e1e49-e6a3-4f3e-be27-b1e07120749d\" xlink:type=\"simple\"><polygon fill=\"#FFFFFF\" points=\"16,6,123,6,130,28.2969,965,28.2969,965,103,16,103,16,6\" style=\"stroke: #000000; stroke-width: 1.5;\"/><line style=\"stroke: #000000; stroke-width: 1.5;\" x1=\"16\" x2=\"130\" y1=\"28.2969\" y2=\"28.2969\"/><text fill=\"#000000\" font-family=\"sans-serif\" font-size=\"14\" font-weight=\"bold\" lengthAdjust=\"spacingAndGlyphs\" textLength=\"101\" x=\"20\" y=\"20.9951\">MultiplicityTest</text></a><!--MD5=[09b614a08d8cba4a07c9adeb5e0fee81]\n",
       "class E3--><a href=\"psysml:a5340f1d-d68a-4585-8f96-7305e6f489d2\" target=\"_top\" title=\"psysml:a5340f1d-d68a-4585-8f96-7305e6f489d2\" xlink:actuate=\"onRequest\" xlink:href=\"psysml:a5340f1d-d68a-4585-8f96-7305e6f489d2\" xlink:show=\"new\" xlink:title=\"psysml:a5340f1d-d68a-4585-8f96-7305e6f489d2\" xlink:type=\"simple\"><rect fill=\"#FFFFFF\" height=\"45.9375\" id=\"E3\" rx=\"10\" ry=\"10\" style=\"stroke: #383838; stroke-width: 1.5;\" width=\"71\" x=\"877.5\" y=\"41\"/><text fill=\"#000000\" font-family=\"sans-serif\" font-size=\"12\" font-style=\"italic\" lengthAdjust=\"spacingAndGlyphs\" textLength=\"69\" x=\"878.5\" y=\"57.1387\">«attribute»</text><text fill=\"#000000\" font-family=\"sans-serif\" font-size=\"12\" lengthAdjust=\"spacingAndGlyphs\" textLength=\"61\" x=\"880.5\" y=\"71.1074\">n: Integer</text><line style=\"stroke: #383838; stroke-width: 1.5;\" x1=\"878.5\" x2=\"947.5\" y1=\"78.9375\" y2=\"78.9375\"/></a><g id=\"E1.E11\"><a href=\"psysml:b98160f9-962b-4166-b8bf-1b8817b6e181\" target=\"_top\" title=\"psysml:b98160f9-962b-4166-b8bf-1b8817b6e181\" xlink:actuate=\"onRequest\" xlink:href=\"psysml:b98160f9-962b-4166-b8bf-1b8817b6e181\" xlink:show=\"new\" xlink:title=\"psysml:b98160f9-962b-4166-b8bf-1b8817b6e181\" xlink:type=\"simple\"><rect fill=\"#FFFFFF\" height=\"42.9375\" id=\"E11\" style=\"stroke: #383838; stroke-width: 1.5;\" width=\"104\" x=\"738\" y=\"42.5\"/><rect fill=\"#F8F8F8\" height=\"37.9375\" style=\"stroke: #383838; stroke-width: 1.5;\" width=\"104\" x=\"738\" y=\"42.5\"/><text fill=\"#000000\" font-family=\"sans-serif\" font-size=\"12\" font-style=\"italic\" lengthAdjust=\"spacingAndGlyphs\" textLength=\"97\" x=\"741.5\" y=\"58.6387\">«attribute  def»</text><text fill=\"#000000\" font-family=\"sans-serif\" font-size=\"12\" lengthAdjust=\"spacingAndGlyphs\" textLength=\"8\" x=\"786\" y=\"72.6074\">A</text></a></g><g id=\"E1.E2\"><a href=\"psysml:d60dc8a9-ee87-4177-8909-4fd780a9d8f8\" target=\"_top\" title=\"psysml:d60dc8a9-ee87-4177-8909-4fd780a9d8f8\" xlink:actuate=\"onRequest\" xlink:href=\"psysml:d60dc8a9-ee87-4177-8909-4fd780a9d8f8\" xlink:show=\"new\" xlink:title=\"psysml:d60dc8a9-ee87-4177-8909-4fd780a9d8f8\" xlink:type=\"simple\"><rect fill=\"#FFFFFF\" height=\"42.9375\" id=\"E2\" style=\"stroke: #383838; stroke-width: 1.5;\" width=\"75\" x=\"627.5\" y=\"42.5\"/><rect fill=\"#F8F8F8\" height=\"37.9375\" style=\"stroke: #383838; stroke-width: 1.5;\" width=\"75\" x=\"627.5\" y=\"42.5\"/><text fill=\"#000000\" font-family=\"sans-serif\" font-size=\"12\" font-style=\"italic\" lengthAdjust=\"spacingAndGlyphs\" textLength=\"68\" x=\"631\" y=\"58.6387\">«part  def»</text><text fill=\"#000000\" font-family=\"sans-serif\" font-size=\"12\" lengthAdjust=\"spacingAndGlyphs\" textLength=\"8\" x=\"661\" y=\"72.6074\">P</text></a></g><g id=\"E1.E4\"><a href=\"psysml:478d9241-8f6e-4034-a71b-67b7ef5acdce\" target=\"_top\" title=\"psysml:478d9241-8f6e-4034-a71b-67b7ef5acdce\" xlink:actuate=\"onRequest\" xlink:href=\"psysml:478d9241-8f6e-4034-a71b-67b7ef5acdce\" xlink:show=\"new\" xlink:title=\"psysml:478d9241-8f6e-4034-a71b-67b7ef5acdce\" xlink:type=\"simple\"><rect fill=\"#FFFFFF\" height=\"40\" id=\"E4\" rx=\"10\" ry=\"10\" style=\"stroke: #383838; stroke-width: 1.5;\" width=\"50\" x=\"542\" y=\"44\"/><rect fill=\"#F8F8F8\" height=\"23.9688\" rx=\"10\" ry=\"10\" style=\"stroke: #F8F8F8; stroke-width: 1.5;\" width=\"50\" x=\"542\" y=\"44\"/><rect fill=\"#F8F8F8\" height=\"10\" style=\"stroke: #F8F8F8; stroke-width: 1.5;\" width=\"50\" x=\"542\" y=\"57.9688\"/><rect fill=\"none\" height=\"40\" id=\"E4\" rx=\"10\" ry=\"10\" style=\"stroke: #383838; stroke-width: 1.5;\" width=\"50\" x=\"542\" y=\"44\"/><text fill=\"#000000\" font-family=\"sans-serif\" font-size=\"12\" lengthAdjust=\"spacingAndGlyphs\" textLength=\"8\" x=\"563\" y=\"60.1387\">a</text></a></g><g id=\"E1.E5\"><a href=\"psysml:bc94da79-c19f-4e44-8720-527e565e90dd\" target=\"_top\" title=\"psysml:bc94da79-c19f-4e44-8720-527e565e90dd\" xlink:actuate=\"onRequest\" xlink:href=\"psysml:bc94da79-c19f-4e44-8720-527e565e90dd\" xlink:show=\"new\" xlink:title=\"psysml:bc94da79-c19f-4e44-8720-527e565e90dd\" xlink:type=\"simple\"><rect fill=\"#FFFFFF\" height=\"40\" id=\"E5\" rx=\"10\" ry=\"10\" style=\"stroke: #383838; stroke-width: 1.5;\" width=\"50\" x=\"457\" y=\"44\"/><rect fill=\"#F8F8F8\" height=\"23.9688\" rx=\"10\" ry=\"10\" style=\"stroke: #F8F8F8; stroke-width: 1.5;\" width=\"50\" x=\"457\" y=\"44\"/><rect fill=\"#F8F8F8\" height=\"10\" style=\"stroke: #F8F8F8; stroke-width: 1.5;\" width=\"50\" x=\"457\" y=\"57.9688\"/><rect fill=\"none\" height=\"40\" id=\"E5\" rx=\"10\" ry=\"10\" style=\"stroke: #383838; stroke-width: 1.5;\" width=\"50\" x=\"457\" y=\"44\"/><text fill=\"#000000\" font-family=\"sans-serif\" font-size=\"12\" lengthAdjust=\"spacingAndGlyphs\" textLength=\"24\" x=\"470\" y=\"60.1387\">b: P</text></a></g><g id=\"E1.E6\"><a href=\"psysml:619a7e97-bac6-4f1e-8369-8e8a5aa8da71\" target=\"_top\" title=\"psysml:619a7e97-bac6-4f1e-8369-8e8a5aa8da71\" xlink:actuate=\"onRequest\" xlink:href=\"psysml:619a7e97-bac6-4f1e-8369-8e8a5aa8da71\" xlink:show=\"new\" xlink:title=\"psysml:619a7e97-bac6-4f1e-8369-8e8a5aa8da71\" xlink:type=\"simple\"><rect fill=\"#FFFFFF\" height=\"40\" id=\"E6\" rx=\"10\" ry=\"10\" style=\"stroke: #383838; stroke-width: 1.5;\" width=\"50\" x=\"372\" y=\"44\"/><rect fill=\"#F8F8F8\" height=\"23.9688\" rx=\"10\" ry=\"10\" style=\"stroke: #F8F8F8; stroke-width: 1.5;\" width=\"50\" x=\"372\" y=\"44\"/><rect fill=\"#F8F8F8\" height=\"10\" style=\"stroke: #F8F8F8; stroke-width: 1.5;\" width=\"50\" x=\"372\" y=\"57.9688\"/><rect fill=\"none\" height=\"40\" id=\"E6\" rx=\"10\" ry=\"10\" style=\"stroke: #383838; stroke-width: 1.5;\" width=\"50\" x=\"372\" y=\"44\"/><text fill=\"#000000\" font-family=\"sans-serif\" font-size=\"12\" lengthAdjust=\"spacingAndGlyphs\" textLength=\"23\" x=\"385.5\" y=\"60.1387\">c: P</text></a></g><g id=\"E1.E7\"><a href=\"psysml:baf82fce-ad86-47f7-be04-61d8ab51238a\" target=\"_top\" title=\"psysml:baf82fce-ad86-47f7-be04-61d8ab51238a\" xlink:actuate=\"onRequest\" xlink:href=\"psysml:baf82fce-ad86-47f7-be04-61d8ab51238a\" xlink:show=\"new\" xlink:title=\"psysml:baf82fce-ad86-47f7-be04-61d8ab51238a\" xlink:type=\"simple\"><rect fill=\"#FFFFFF\" height=\"40\" id=\"E7\" rx=\"10\" ry=\"10\" style=\"stroke: #383838; stroke-width: 1.5;\" width=\"50\" x=\"287\" y=\"44\"/><rect fill=\"#F8F8F8\" height=\"23.9688\" rx=\"10\" ry=\"10\" style=\"stroke: #F8F8F8; stroke-width: 1.5;\" width=\"50\" x=\"287\" y=\"44\"/><rect fill=\"#F8F8F8\" height=\"10\" style=\"stroke: #F8F8F8; stroke-width: 1.5;\" width=\"50\" x=\"287\" y=\"57.9688\"/><rect fill=\"none\" height=\"40\" id=\"E7\" rx=\"10\" ry=\"10\" style=\"stroke: #383838; stroke-width: 1.5;\" width=\"50\" x=\"287\" y=\"44\"/><text fill=\"#000000\" font-family=\"sans-serif\" font-size=\"12\" lengthAdjust=\"spacingAndGlyphs\" textLength=\"8\" x=\"308\" y=\"60.1387\">d</text></a></g><g id=\"E1.E8\"><a href=\"psysml:602edda4-e9f7-4346-9e9a-bc1deb44a144\" target=\"_top\" title=\"psysml:602edda4-e9f7-4346-9e9a-bc1deb44a144\" xlink:actuate=\"onRequest\" xlink:href=\"psysml:602edda4-e9f7-4346-9e9a-bc1deb44a144\" xlink:show=\"new\" xlink:title=\"psysml:602edda4-e9f7-4346-9e9a-bc1deb44a144\" xlink:type=\"simple\"><rect fill=\"#FFFFFF\" height=\"40\" id=\"E8\" rx=\"10\" ry=\"10\" style=\"stroke: #383838; stroke-width: 1.5;\" width=\"50\" x=\"202\" y=\"44\"/><rect fill=\"#F8F8F8\" height=\"23.9688\" rx=\"10\" ry=\"10\" style=\"stroke: #F8F8F8; stroke-width: 1.5;\" width=\"50\" x=\"202\" y=\"44\"/><rect fill=\"#F8F8F8\" height=\"10\" style=\"stroke: #F8F8F8; stroke-width: 1.5;\" width=\"50\" x=\"202\" y=\"57.9688\"/><rect fill=\"none\" height=\"40\" id=\"E8\" rx=\"10\" ry=\"10\" style=\"stroke: #383838; stroke-width: 1.5;\" width=\"50\" x=\"202\" y=\"44\"/><text fill=\"#000000\" font-family=\"sans-serif\" font-size=\"12\" lengthAdjust=\"spacingAndGlyphs\" textLength=\"8\" x=\"223\" y=\"60.1387\">e</text></a></g><g id=\"E1.E9\"><a href=\"psysml:ea99d53b-6b01-4b58-853a-79f827c6b1d7\" target=\"_top\" title=\"psysml:ea99d53b-6b01-4b58-853a-79f827c6b1d7\" xlink:actuate=\"onRequest\" xlink:href=\"psysml:ea99d53b-6b01-4b58-853a-79f827c6b1d7\" xlink:show=\"new\" xlink:title=\"psysml:ea99d53b-6b01-4b58-853a-79f827c6b1d7\" xlink:type=\"simple\"><rect fill=\"#FFFFFF\" height=\"40\" id=\"E9\" rx=\"10\" ry=\"10\" style=\"stroke: #383838; stroke-width: 1.5;\" width=\"50\" x=\"117\" y=\"44\"/><rect fill=\"#F8F8F8\" height=\"23.9688\" rx=\"10\" ry=\"10\" style=\"stroke: #F8F8F8; stroke-width: 1.5;\" width=\"50\" x=\"117\" y=\"44\"/><rect fill=\"#F8F8F8\" height=\"10\" style=\"stroke: #F8F8F8; stroke-width: 1.5;\" width=\"50\" x=\"117\" y=\"57.9688\"/><rect fill=\"none\" height=\"40\" id=\"E9\" rx=\"10\" ry=\"10\" style=\"stroke: #383838; stroke-width: 1.5;\" width=\"50\" x=\"117\" y=\"44\"/><text fill=\"#000000\" font-family=\"sans-serif\" font-size=\"12\" lengthAdjust=\"spacingAndGlyphs\" textLength=\"4\" x=\"140\" y=\"60.1387\">f</text></a></g><g id=\"E1.E10\"><a href=\"psysml:7f8b6820-ebe3-4bcd-8be0-e5513e7bb89f\" target=\"_top\" title=\"psysml:7f8b6820-ebe3-4bcd-8be0-e5513e7bb89f\" xlink:actuate=\"onRequest\" xlink:href=\"psysml:7f8b6820-ebe3-4bcd-8be0-e5513e7bb89f\" xlink:show=\"new\" xlink:title=\"psysml:7f8b6820-ebe3-4bcd-8be0-e5513e7bb89f\" xlink:type=\"simple\"><rect fill=\"#FFFFFF\" height=\"40\" id=\"E10\" rx=\"10\" ry=\"10\" style=\"stroke: #383838; stroke-width: 1.5;\" width=\"50\" x=\"32\" y=\"44\"/><rect fill=\"#F8F8F8\" height=\"23.9688\" rx=\"10\" ry=\"10\" style=\"stroke: #F8F8F8; stroke-width: 1.5;\" width=\"50\" x=\"32\" y=\"44\"/><rect fill=\"#F8F8F8\" height=\"10\" style=\"stroke: #F8F8F8; stroke-width: 1.5;\" width=\"50\" x=\"32\" y=\"57.9688\"/><rect fill=\"none\" height=\"40\" id=\"E10\" rx=\"10\" ry=\"10\" style=\"stroke: #383838; stroke-width: 1.5;\" width=\"50\" x=\"32\" y=\"44\"/><text fill=\"#000000\" font-family=\"sans-serif\" font-size=\"12\" lengthAdjust=\"spacingAndGlyphs\" textLength=\"8\" x=\"53\" y=\"60.1387\">g</text></a></g><!--MD5=[c3a2001f451918df61ec252567099f37]\n",
       "@startuml\r\n",
       "skinparam ranksep 10\r\n",
       "skinparam rectangle {\r\n",
       " backgroundColor<<block>> LightGreen\r\n",
       "}\r\n",
       " skinparam monochrome true\r\n",
       "skinparam classbackgroundcolor white\r\n",
       "skinparam shadowing false\r\n",
       "skinparam wrapWidth 300\r\n",
       "hide circle\r\n",
       "\r\n",
       "package \"MultiplicityTest\" as E1  [[psysml:437e1e49-e6a3-4f3e-be27-b1e07120749d ]]  {\r\n",
       "rec def \"P\" as E2  <<(T,blue) part  def>> [[psysml:d60dc8a9-ee87-4177-8909-4fd780a9d8f8 ]] {\r\n",
       "}\r\n",
       "comp usage \"n: Integer \" as E3  <<(T,blue) attribute>> [[psysml:a5340f1d-d68a-4585-8f96-7305e6f489d2 ]] {\r\n",
       "}\r\n",
       "rec usage \"a\" as E4  [[psysml:478d9241-8f6e-4034-a71b-67b7ef5acdce ]] {\r\n",
       "}\r\n",
       "rec usage \"b: P\" as E5  [[psysml:bc94da79-c19f-4e44-8720-527e565e90dd ]] {\r\n",
       "}\r\n",
       "rec usage \"c: P\" as E6  [[psysml:619a7e97-bac6-4f1e-8369-8e8a5aa8da71 ]] {\r\n",
       "}\r\n",
       "rec usage \"d\" as E7  [[psysml:baf82fce-ad86-47f7-be04-61d8ab51238a ]] {\r\n",
       "}\r\n",
       "rec usage \"e\" as E8  [[psysml:602edda4-e9f7-4346-9e9a-bc1deb44a144 ]] {\r\n",
       "}\r\n",
       "rec usage \"f\" as E9  [[psysml:ea99d53b-6b01-4b58-853a-79f827c6b1d7 ]] {\r\n",
       "}\r\n",
       "rec usage \"g\" as E10  [[psysml:7f8b6820-ebe3-4bcd-8be0-e5513e7bb89f ]] {\r\n",
       "}\r\n",
       "def \"A\" as E11  <<(T,blue) attribute  def>> [[psysml:b98160f9-962b-4166-b8bf-1b8817b6e181 ]] \r\n",
       "}\r\n",
       "@enduml\r\n",
       "\n",
       "PlantUML version 1.2020.13(Sat Jun 13 12:26:38 UTC 2020)\n",
       "(EPL source distribution)\n",
       "Java Runtime: OpenJDK Runtime Environment\n",
       "JVM: OpenJDK 64-Bit Server VM\n",
       "Default Encoding: UTF-8\n",
       "Language: en\n",
       "Country: null\n",
       "--></g></svg>"
      ]
     },
     "execution_count": 5,
     "metadata": {},
     "output_type": "execute_result"
    }
   ],
   "source": [
    "%viz --style=\"COMPTREE\" --view=\"Interconnection\" \"MultiplicityTest\""
   ]
  },
  {
   "cell_type": "code",
   "execution_count": 6,
   "id": "25682a36",
   "metadata": {
    "execution": {
     "iopub.execute_input": "2022-03-03T09:58:28.787619Z",
     "iopub.status.busy": "2022-03-03T09:58:28.787188Z",
     "iopub.status.idle": "2022-03-03T09:58:28.794631Z",
     "shell.execute_reply": "2022-03-03T09:58:28.795000Z"
    }
   },
   "outputs": [
    {
     "data": {
      "image/svg+xml": [
       "<?xml version=\"1.0\" encoding=\"UTF-8\" standalone=\"no\"?><svg xmlns=\"http://www.w3.org/2000/svg\" xmlns:xlink=\"http://www.w3.org/1999/xlink\" contentScriptType=\"application/ecmascript\" contentStyleType=\"text/css\" height=\"12px\" preserveAspectRatio=\"none\" style=\"width:12px;height:12px;\" version=\"1.1\" viewBox=\"0 0 12 12\" width=\"12px\" zoomAndPan=\"magnify\"><defs/><g><!--MD5=[655b888544ca4751ea36af1068543f84]\n",
       "@startuml\r\n",
       "skinparam ranksep 8\r\n",
       " skinparam monochrome true\r\n",
       "skinparam classbackgroundcolor white\r\n",
       "skinparam shadowing false\r\n",
       "skinparam wrapWidth 300\r\n",
       "hide circle\r\n",
       "\r\n",
       "@enduml\r\n",
       "\n",
       "PlantUML version 1.2020.13(Sat Jun 13 12:26:38 UTC 2020)\n",
       "(EPL source distribution)\n",
       "Java Runtime: OpenJDK Runtime Environment\n",
       "JVM: OpenJDK 64-Bit Server VM\n",
       "Default Encoding: UTF-8\n",
       "Language: en\n",
       "Country: null\n",
       "--></g></svg>"
      ]
     },
     "execution_count": 6,
     "metadata": {},
     "output_type": "execute_result"
    }
   ],
   "source": [
    "%viz --style=\"COMPTREE\" --view=\"Action\" \"MultiplicityTest\""
   ]
  },
  {
   "cell_type": "code",
   "execution_count": 7,
   "id": "488eb5b4",
   "metadata": {
    "execution": {
     "iopub.execute_input": "2022-03-03T09:58:28.845573Z",
     "iopub.status.busy": "2022-03-03T09:58:28.845176Z",
     "iopub.status.idle": "2022-03-03T09:58:28.857404Z",
     "shell.execute_reply": "2022-03-03T09:58:28.857710Z"
    }
   },
   "outputs": [
    {
     "data": {
      "image/svg+xml": [
       "<?xml version=\"1.0\" encoding=\"UTF-8\" standalone=\"no\"?><svg xmlns=\"http://www.w3.org/2000/svg\" xmlns:xlink=\"http://www.w3.org/1999/xlink\" contentScriptType=\"application/ecmascript\" contentStyleType=\"text/css\" height=\"12px\" preserveAspectRatio=\"none\" style=\"width:12px;height:12px;\" version=\"1.1\" viewBox=\"0 0 12 12\" width=\"12px\" zoomAndPan=\"magnify\"><defs/><g><!--MD5=[803fc46c337be7a5c8a9831e35356779]\n",
       "@startuml\r\n",
       "skinparam roundcorner 20\r\n",
       "skinparam BoxPadding 20\r\n",
       "skinparam SequenceBoxBackgroundColor #white\r\n",
       "skinparam style strictuml\r\n",
       "skinparam maxMessageSize 100\r\n",
       " skinparam monochrome true\r\n",
       "skinparam classbackgroundcolor white\r\n",
       "skinparam shadowing false\r\n",
       "skinparam wrapWidth 300\r\n",
       "hide circle\r\n",
       "\r\n",
       "@enduml\r\n",
       "\n",
       "PlantUML version 1.2020.13(Sat Jun 13 12:26:38 UTC 2020)\n",
       "(EPL source distribution)\n",
       "Java Runtime: OpenJDK Runtime Environment\n",
       "JVM: OpenJDK 64-Bit Server VM\n",
       "Default Encoding: UTF-8\n",
       "Language: en\n",
       "Country: null\n",
       "--></g></svg>"
      ]
     },
     "execution_count": 7,
     "metadata": {},
     "output_type": "execute_result"
    }
   ],
   "source": [
    "%viz --style=\"COMPTREE\" --view=\"Sequence\" \"MultiplicityTest\""
   ]
  },
  {
   "cell_type": "code",
   "execution_count": 8,
   "id": "b14a29c6",
   "metadata": {
    "execution": {
     "iopub.execute_input": "2022-03-03T09:58:28.908431Z",
     "iopub.status.busy": "2022-03-03T09:58:28.907971Z",
     "iopub.status.idle": "2022-03-03T09:58:28.999730Z",
     "shell.execute_reply": "2022-03-03T09:58:28.999254Z"
    }
   },
   "outputs": [
    {
     "data": {
      "image/svg+xml": [
       "<?xml version=\"1.0\" encoding=\"UTF-8\" standalone=\"no\"?><svg xmlns=\"http://www.w3.org/2000/svg\" xmlns:xlink=\"http://www.w3.org/1999/xlink\" contentScriptType=\"application/ecmascript\" contentStyleType=\"text/css\" height=\"263px\" preserveAspectRatio=\"none\" style=\"width:816px;height:263px;\" version=\"1.1\" viewBox=\"0 0 816 263\" width=\"816px\" zoomAndPan=\"magnify\"><defs/><g><!--MD5=[fbc87193dbaf4d95561dea2c320d4a47]\n",
       "cluster E1--><a href=\"psysml:437e1e49-e6a3-4f3e-be27-b1e07120749d\" target=\"_top\" title=\"psysml:437e1e49-e6a3-4f3e-be27-b1e07120749d\" xlink:actuate=\"onRequest\" xlink:href=\"psysml:437e1e49-e6a3-4f3e-be27-b1e07120749d\" xlink:show=\"new\" xlink:title=\"psysml:437e1e49-e6a3-4f3e-be27-b1e07120749d\" xlink:type=\"simple\"><polygon fill=\"#FFFFFF\" points=\"16,6,123,6,130,28.2969,794,28.2969,794,251,16,251,16,6\" style=\"stroke: #000000; stroke-width: 1.5;\"/><line style=\"stroke: #000000; stroke-width: 1.5;\" x1=\"16\" x2=\"130\" y1=\"28.2969\" y2=\"28.2969\"/><text fill=\"#000000\" font-family=\"sans-serif\" font-size=\"14\" font-weight=\"bold\" lengthAdjust=\"spacingAndGlyphs\" textLength=\"101\" x=\"20\" y=\"20.9951\">MultiplicityTest</text></a><!--MD5=[b4997ac47864f28c2f74865a473b2911]\n",
       "class E2--><a href=\"psysml:d60dc8a9-ee87-4177-8909-4fd780a9d8f8\" target=\"_top\" title=\"psysml:d60dc8a9-ee87-4177-8909-4fd780a9d8f8\" xlink:actuate=\"onRequest\" xlink:href=\"psysml:d60dc8a9-ee87-4177-8909-4fd780a9d8f8\" xlink:show=\"new\" xlink:title=\"psysml:d60dc8a9-ee87-4177-8909-4fd780a9d8f8\" xlink:type=\"simple\"><rect fill=\"#FFFFFF\" height=\"45.9375\" id=\"E2\" style=\"stroke: #383838; stroke-width: 1.5;\" width=\"70\" x=\"499\" y=\"189\"/><text fill=\"#000000\" font-family=\"sans-serif\" font-size=\"12\" font-style=\"italic\" lengthAdjust=\"spacingAndGlyphs\" textLength=\"68\" x=\"500\" y=\"205.1387\">«part  def»</text><text fill=\"#000000\" font-family=\"sans-serif\" font-size=\"12\" lengthAdjust=\"spacingAndGlyphs\" textLength=\"8\" x=\"530\" y=\"219.1074\">P</text><line style=\"stroke: #383838; stroke-width: 1.5;\" x1=\"500\" x2=\"568\" y1=\"226.9375\" y2=\"226.9375\"/></a><!--MD5=[09b614a08d8cba4a07c9adeb5e0fee81]\n",
       "class E3--><a href=\"psysml:a5340f1d-d68a-4585-8f96-7305e6f489d2\" target=\"_top\" title=\"psysml:a5340f1d-d68a-4585-8f96-7305e6f489d2\" xlink:actuate=\"onRequest\" xlink:href=\"psysml:a5340f1d-d68a-4585-8f96-7305e6f489d2\" xlink:show=\"new\" xlink:title=\"psysml:a5340f1d-d68a-4585-8f96-7305e6f489d2\" xlink:type=\"simple\"><rect fill=\"#FFFFFF\" height=\"45.9375\" id=\"E3\" rx=\"10\" ry=\"10\" style=\"stroke: #383838; stroke-width: 1.5;\" width=\"71\" x=\"706.5\" y=\"62\"/><text fill=\"#000000\" font-family=\"sans-serif\" font-size=\"12\" font-style=\"italic\" lengthAdjust=\"spacingAndGlyphs\" textLength=\"69\" x=\"707.5\" y=\"78.1387\">«attribute»</text><text fill=\"#000000\" font-family=\"sans-serif\" font-size=\"12\" lengthAdjust=\"spacingAndGlyphs\" textLength=\"61\" x=\"709.5\" y=\"92.1074\">n: Integer</text><line style=\"stroke: #383838; stroke-width: 1.5;\" x1=\"707.5\" x2=\"776.5\" y1=\"99.9375\" y2=\"99.9375\"/></a><!--MD5=[ebbe1d658d1005bcc118a6aa81145e00]\n",
       "class E4--><a href=\"psysml:478d9241-8f6e-4034-a71b-67b7ef5acdce\" target=\"_top\" title=\"psysml:478d9241-8f6e-4034-a71b-67b7ef5acdce\" xlink:actuate=\"onRequest\" xlink:href=\"psysml:478d9241-8f6e-4034-a71b-67b7ef5acdce\" xlink:show=\"new\" xlink:title=\"psysml:478d9241-8f6e-4034-a71b-67b7ef5acdce\" xlink:type=\"simple\"><rect fill=\"#FFFFFF\" height=\"45.9375\" id=\"E4\" rx=\"10\" ry=\"10\" style=\"stroke: #383838; stroke-width: 1.5;\" width=\"42\" x=\"629\" y=\"62\"/><text fill=\"#000000\" font-family=\"sans-serif\" font-size=\"12\" font-style=\"italic\" lengthAdjust=\"spacingAndGlyphs\" textLength=\"40\" x=\"630\" y=\"78.1387\">«part»</text><text fill=\"#000000\" font-family=\"sans-serif\" font-size=\"12\" lengthAdjust=\"spacingAndGlyphs\" textLength=\"8\" x=\"644\" y=\"92.1074\">a</text><line style=\"stroke: #383838; stroke-width: 1.5;\" x1=\"630\" x2=\"670\" y1=\"99.9375\" y2=\"99.9375\"/></a><!--MD5=[270fce915f116d4de14055a7c1d9a0f3]\n",
       "class E5--><a href=\"psysml:bc94da79-c19f-4e44-8720-527e565e90dd\" target=\"_top\" title=\"psysml:bc94da79-c19f-4e44-8720-527e565e90dd\" xlink:actuate=\"onRequest\" xlink:href=\"psysml:bc94da79-c19f-4e44-8720-527e565e90dd\" xlink:show=\"new\" xlink:title=\"psysml:bc94da79-c19f-4e44-8720-527e565e90dd\" xlink:type=\"simple\"><rect fill=\"#FFFFFF\" height=\"45.9375\" id=\"E5\" rx=\"10\" ry=\"10\" style=\"stroke: #383838; stroke-width: 1.5;\" width=\"42\" x=\"552\" y=\"62\"/><text fill=\"#000000\" font-family=\"sans-serif\" font-size=\"12\" font-style=\"italic\" lengthAdjust=\"spacingAndGlyphs\" textLength=\"40\" x=\"553\" y=\"78.1387\">«part»</text><text fill=\"#000000\" font-family=\"sans-serif\" font-size=\"12\" lengthAdjust=\"spacingAndGlyphs\" textLength=\"24\" x=\"559\" y=\"92.1074\">b: P</text><line style=\"stroke: #383838; stroke-width: 1.5;\" x1=\"553\" x2=\"593\" y1=\"99.9375\" y2=\"99.9375\"/></a><!--MD5=[60a26617385b1d2d0262a64233df1f8d]\n",
       "class E6--><a href=\"psysml:619a7e97-bac6-4f1e-8369-8e8a5aa8da71\" target=\"_top\" title=\"psysml:619a7e97-bac6-4f1e-8369-8e8a5aa8da71\" xlink:actuate=\"onRequest\" xlink:href=\"psysml:619a7e97-bac6-4f1e-8369-8e8a5aa8da71\" xlink:show=\"new\" xlink:title=\"psysml:619a7e97-bac6-4f1e-8369-8e8a5aa8da71\" xlink:type=\"simple\"><rect fill=\"#FFFFFF\" height=\"45.9375\" id=\"E6\" rx=\"10\" ry=\"10\" style=\"stroke: #383838; stroke-width: 1.5;\" width=\"42\" x=\"475\" y=\"62\"/><text fill=\"#000000\" font-family=\"sans-serif\" font-size=\"12\" font-style=\"italic\" lengthAdjust=\"spacingAndGlyphs\" textLength=\"40\" x=\"476\" y=\"78.1387\">«part»</text><text fill=\"#000000\" font-family=\"sans-serif\" font-size=\"12\" lengthAdjust=\"spacingAndGlyphs\" textLength=\"23\" x=\"482.5\" y=\"92.1074\">c: P</text><line style=\"stroke: #383838; stroke-width: 1.5;\" x1=\"476\" x2=\"516\" y1=\"99.9375\" y2=\"99.9375\"/></a><!--MD5=[2156ba9850f5573cc1fc38a6a4b2f02b]\n",
       "class E7--><a href=\"psysml:baf82fce-ad86-47f7-be04-61d8ab51238a\" target=\"_top\" title=\"psysml:baf82fce-ad86-47f7-be04-61d8ab51238a\" xlink:actuate=\"onRequest\" xlink:href=\"psysml:baf82fce-ad86-47f7-be04-61d8ab51238a\" xlink:show=\"new\" xlink:title=\"psysml:baf82fce-ad86-47f7-be04-61d8ab51238a\" xlink:type=\"simple\"><rect fill=\"#FFFFFF\" height=\"45.9375\" id=\"E7\" rx=\"10\" ry=\"10\" style=\"stroke: #383838; stroke-width: 1.5;\" width=\"42\" x=\"398\" y=\"62\"/><text fill=\"#000000\" font-family=\"sans-serif\" font-size=\"12\" font-style=\"italic\" lengthAdjust=\"spacingAndGlyphs\" textLength=\"40\" x=\"399\" y=\"78.1387\">«part»</text><text fill=\"#000000\" font-family=\"sans-serif\" font-size=\"12\" lengthAdjust=\"spacingAndGlyphs\" textLength=\"8\" x=\"413\" y=\"92.1074\">d</text><line style=\"stroke: #383838; stroke-width: 1.5;\" x1=\"399\" x2=\"439\" y1=\"99.9375\" y2=\"99.9375\"/></a><!--MD5=[b9389687b975829384b498ac4b7476b2]\n",
       "class E8--><a href=\"psysml:602edda4-e9f7-4346-9e9a-bc1deb44a144\" target=\"_top\" title=\"psysml:602edda4-e9f7-4346-9e9a-bc1deb44a144\" xlink:actuate=\"onRequest\" xlink:href=\"psysml:602edda4-e9f7-4346-9e9a-bc1deb44a144\" xlink:show=\"new\" xlink:title=\"psysml:602edda4-e9f7-4346-9e9a-bc1deb44a144\" xlink:type=\"simple\"><rect fill=\"#FFFFFF\" height=\"45.9375\" id=\"E8\" rx=\"10\" ry=\"10\" style=\"stroke: #383838; stroke-width: 1.5;\" width=\"42\" x=\"321\" y=\"62\"/><text fill=\"#000000\" font-family=\"sans-serif\" font-size=\"12\" font-style=\"italic\" lengthAdjust=\"spacingAndGlyphs\" textLength=\"40\" x=\"322\" y=\"78.1387\">«part»</text><text fill=\"#000000\" font-family=\"sans-serif\" font-size=\"12\" lengthAdjust=\"spacingAndGlyphs\" textLength=\"8\" x=\"336\" y=\"92.1074\">e</text><line style=\"stroke: #383838; stroke-width: 1.5;\" x1=\"322\" x2=\"362\" y1=\"99.9375\" y2=\"99.9375\"/></a><!--MD5=[fd4143e9d270a159db93a4ea2a975926]\n",
       "class E9--><a href=\"psysml:ea99d53b-6b01-4b58-853a-79f827c6b1d7\" target=\"_top\" title=\"psysml:ea99d53b-6b01-4b58-853a-79f827c6b1d7\" xlink:actuate=\"onRequest\" xlink:href=\"psysml:ea99d53b-6b01-4b58-853a-79f827c6b1d7\" xlink:show=\"new\" xlink:title=\"psysml:ea99d53b-6b01-4b58-853a-79f827c6b1d7\" xlink:type=\"simple\"><rect fill=\"#FFFFFF\" height=\"45.9375\" id=\"E9\" rx=\"10\" ry=\"10\" style=\"stroke: #383838; stroke-width: 1.5;\" width=\"42\" x=\"244\" y=\"62\"/><text fill=\"#000000\" font-family=\"sans-serif\" font-size=\"12\" font-style=\"italic\" lengthAdjust=\"spacingAndGlyphs\" textLength=\"40\" x=\"245\" y=\"78.1387\">«part»</text><text fill=\"#000000\" font-family=\"sans-serif\" font-size=\"12\" lengthAdjust=\"spacingAndGlyphs\" textLength=\"4\" x=\"261\" y=\"92.1074\">f</text><line style=\"stroke: #383838; stroke-width: 1.5;\" x1=\"245\" x2=\"285\" y1=\"99.9375\" y2=\"99.9375\"/></a><!--MD5=[96f4274e9e20536e775497830990834d]\n",
       "class E10--><a href=\"psysml:7f8b6820-ebe3-4bcd-8be0-e5513e7bb89f\" target=\"_top\" title=\"psysml:7f8b6820-ebe3-4bcd-8be0-e5513e7bb89f\" xlink:actuate=\"onRequest\" xlink:href=\"psysml:7f8b6820-ebe3-4bcd-8be0-e5513e7bb89f\" xlink:show=\"new\" xlink:title=\"psysml:7f8b6820-ebe3-4bcd-8be0-e5513e7bb89f\" xlink:type=\"simple\"><rect fill=\"#FFFFFF\" height=\"45.9375\" id=\"E10\" rx=\"10\" ry=\"10\" style=\"stroke: #383838; stroke-width: 1.5;\" width=\"42\" x=\"167\" y=\"62\"/><text fill=\"#000000\" font-family=\"sans-serif\" font-size=\"12\" font-style=\"italic\" lengthAdjust=\"spacingAndGlyphs\" textLength=\"40\" x=\"168\" y=\"78.1387\">«part»</text><text fill=\"#000000\" font-family=\"sans-serif\" font-size=\"12\" lengthAdjust=\"spacingAndGlyphs\" textLength=\"8\" x=\"182\" y=\"92.1074\">g</text><line style=\"stroke: #383838; stroke-width: 1.5;\" x1=\"168\" x2=\"208\" y1=\"99.9375\" y2=\"99.9375\"/></a><!--MD5=[1dd1bfd58a279cf63c5f349dbc8fc6a1]\n",
       "class E11--><a href=\"psysml:b98160f9-962b-4166-b8bf-1b8817b6e181\" target=\"_top\" title=\"psysml:b98160f9-962b-4166-b8bf-1b8817b6e181\" xlink:actuate=\"onRequest\" xlink:href=\"psysml:b98160f9-962b-4166-b8bf-1b8817b6e181\" xlink:show=\"new\" xlink:title=\"psysml:b98160f9-962b-4166-b8bf-1b8817b6e181\" xlink:type=\"simple\"><rect fill=\"#FFFFFF\" height=\"88.3516\" id=\"E11\" style=\"stroke: #383838; stroke-width: 1.5;\" width=\"99\" x=\"32.5\" y=\"41\"/><text fill=\"#000000\" font-family=\"sans-serif\" font-size=\"12\" font-style=\"italic\" lengthAdjust=\"spacingAndGlyphs\" textLength=\"97\" x=\"33.5\" y=\"57.1387\">«attribute  def»</text><text fill=\"#000000\" font-family=\"sans-serif\" font-size=\"12\" lengthAdjust=\"spacingAndGlyphs\" textLength=\"8\" x=\"78\" y=\"71.1074\">A</text><line style=\"stroke: #383838; stroke-width: 1.5;\" x1=\"33.5\" x2=\"130.5\" y1=\"78.9375\" y2=\"78.9375\"/><text fill=\"#000000\" font-family=\"sans-serif\" font-size=\"11\" lengthAdjust=\"spacingAndGlyphs\" textLength=\"51\" x=\"38.5\" y=\"109.9526\">i: Integer</text><text fill=\"#000000\" font-family=\"sans-serif\" font-size=\"11\" lengthAdjust=\"spacingAndGlyphs\" textLength=\"21\" x=\"38.5\" y=\"122.7573\">x: A</text><line style=\"stroke: #383838; stroke-width: 1.0;\" x1=\"33.5\" x2=\"54.5\" y1=\"93.3398\" y2=\"93.3398\"/><text fill=\"#000000\" font-family=\"sans-serif\" font-size=\"11\" lengthAdjust=\"spacingAndGlyphs\" textLength=\"55\" x=\"54.5\" y=\"96.6479\">attributes</text><line style=\"stroke: #383838; stroke-width: 1.0;\" x1=\"109.5\" x2=\"130.5\" y1=\"93.3398\" y2=\"93.3398\"/></a><!--MD5=[15ebcb19ae302d9b601edb458606d402]\n",
       "link E5 to E2--><a href=\"psysml:f465fece-be6c-4a0b-8b87-5b67ed75d8f8\" target=\"_top\" title=\"psysml:f465fece-be6c-4a0b-8b87-5b67ed75d8f8\" xlink:actuate=\"onRequest\" xlink:href=\"psysml:f465fece-be6c-4a0b-8b87-5b67ed75d8f8\" xlink:show=\"new\" xlink:title=\"psysml:f465fece-be6c-4a0b-8b87-5b67ed75d8f8\" xlink:type=\"simple\"><path d=\"M566.12,108.06 C560.83,125 553.38,148.89 546.98,169.39 \" fill=\"none\" id=\"E5-&gt;E2\" style=\"stroke: #383838; stroke-width: 1.0;\"/><polygon fill=\"#FFFFFF\" points=\"540.95,188.74,539.929,168.5173,553.2931,172.6886,540.95,188.74\" style=\"stroke: #383838; stroke-width: 1.0;\"/><ellipse cx=\"543.5364\" cy=\"163.6721\" fill=\"#383838\" rx=\"2\" ry=\"2\" style=\"stroke: #383838; stroke-width: 1.0;\"/><ellipse cx=\"553.0823\" cy=\"166.6516\" fill=\"#383838\" rx=\"2\" ry=\"2\" style=\"stroke: #383838; stroke-width: 1.0;\"/></a><!--MD5=[2351f337d6de0f557b50152ba70847b5]\n",
       "link E6 to E2--><a href=\"psysml:72e02ffe-11ce-46be-a503-0c91c54548ee\" target=\"_top\" title=\"psysml:72e02ffe-11ce-46be-a503-0c91c54548ee\" xlink:actuate=\"onRequest\" xlink:href=\"psysml:72e02ffe-11ce-46be-a503-0c91c54548ee\" xlink:show=\"new\" xlink:title=\"psysml:72e02ffe-11ce-46be-a503-0c91c54548ee\" xlink:type=\"simple\"><path d=\"M502.71,108.06 C507.86,125 515.12,148.89 521.35,169.39 \" fill=\"none\" id=\"E6-&gt;E2\" style=\"stroke: #383838; stroke-width: 1.0;\"/><polygon fill=\"#FFFFFF\" points=\"527.23,188.74,515.007,172.597,528.4019,168.5255,527.23,188.74\" style=\"stroke: #383838; stroke-width: 1.0;\"/><ellipse cx=\"515.2628\" cy=\"166.5617\" fill=\"#383838\" rx=\"2\" ry=\"2\" style=\"stroke: #383838; stroke-width: 1.0;\"/><ellipse cx=\"524.8306\" cy=\"163.6535\" fill=\"#383838\" rx=\"2\" ry=\"2\" style=\"stroke: #383838; stroke-width: 1.0;\"/></a><!--MD5=[ff5ebe3d98fcbae404fdc65ea73052cb]\n",
       "@startuml\r\n",
       " skinparam monochrome true\r\n",
       "skinparam classbackgroundcolor white\r\n",
       "skinparam shadowing false\r\n",
       "skinparam wrapWidth 300\r\n",
       "hide circle\r\n",
       "\r\n",
       "package \"MultiplicityTest\" as E1  [[psysml:437e1e49-e6a3-4f3e-be27-b1e07120749d ]]  {\r\n",
       "comp def \"P\" as E2  <<(T,blue) part  def>> [[psysml:d60dc8a9-ee87-4177-8909-4fd780a9d8f8 ]] {\r\n",
       "}\r\n",
       "comp usage \"n: Integer \" as E3  <<(T,blue) attribute>> [[psysml:a5340f1d-d68a-4585-8f96-7305e6f489d2 ]] {\r\n",
       "}\r\n",
       "comp usage \"a \" as E4  <<(T,blue) part>> [[psysml:478d9241-8f6e-4034-a71b-67b7ef5acdce ]] {\r\n",
       "}\r\n",
       "comp usage \"b: P \" as E5  <<(T,blue) part>> [[psysml:bc94da79-c19f-4e44-8720-527e565e90dd ]] {\r\n",
       "}\r\n",
       "comp usage \"c: P \" as E6  <<(T,blue) part>> [[psysml:619a7e97-bac6-4f1e-8369-8e8a5aa8da71 ]] {\r\n",
       "}\r\n",
       "comp usage \"d \" as E7  <<(T,blue) part>> [[psysml:baf82fce-ad86-47f7-be04-61d8ab51238a ]] {\r\n",
       "}\r\n",
       "comp usage \"e \" as E8  <<(T,blue) part>> [[psysml:602edda4-e9f7-4346-9e9a-bc1deb44a144 ]] {\r\n",
       "}\r\n",
       "comp usage \"f \" as E9  <<(T,blue) part>> [[psysml:ea99d53b-6b01-4b58-853a-79f827c6b1d7 ]] {\r\n",
       "}\r\n",
       "comp usage \"g \" as E10  <<(T,blue) part>> [[psysml:7f8b6820-ebe3-4bcd-8be0-e5513e7bb89f ]] {\r\n",
       "}\r\n",
       "comp def \"A\" as E11  <<(T,blue) attribute  def>> [[psysml:b98160f9-962b-4166-b8bf-1b8817b6e181 ]] {\r\n",
       "- - attributes - -\r\n",
       "i: Integer\r\n",
       "x: A\r\n",
       "}\r\n",
       "}\r\n",
       "E5 - -:|> E2 [[psysml:f465fece-be6c-4a0b-8b87-5b67ed75d8f8 ]] \r\n",
       "E6 - -:|> E2 [[psysml:72e02ffe-11ce-46be-a503-0c91c54548ee ]] \r\n",
       "@enduml\r\n",
       "\n",
       "PlantUML version 1.2020.13(Sat Jun 13 12:26:38 UTC 2020)\n",
       "(EPL source distribution)\n",
       "Java Runtime: OpenJDK Runtime Environment\n",
       "JVM: OpenJDK 64-Bit Server VM\n",
       "Default Encoding: UTF-8\n",
       "Language: en\n",
       "Country: null\n",
       "--></g></svg>"
      ]
     },
     "execution_count": 8,
     "metadata": {},
     "output_type": "execute_result"
    }
   ],
   "source": [
    "%viz --style=\"COMPTREE\" --view=\"MIXED\" \"MultiplicityTest\""
   ]
  },
  {
   "cell_type": "code",
   "execution_count": 9,
   "id": "822b6a1f",
   "metadata": {
    "execution": {
     "iopub.execute_input": "2022-03-03T09:58:29.048838Z",
     "iopub.status.busy": "2022-03-03T09:58:29.048422Z",
     "iopub.status.idle": "2022-03-03T09:58:29.127277Z",
     "shell.execute_reply": "2022-03-03T09:58:29.125812Z"
    }
   },
   "outputs": [
    {
     "data": {
      "image/svg+xml": [
       "<?xml version=\"1.0\" encoding=\"UTF-8\" standalone=\"no\"?><svg xmlns=\"http://www.w3.org/2000/svg\" xmlns:xlink=\"http://www.w3.org/1999/xlink\" contentScriptType=\"application/ecmascript\" contentStyleType=\"text/css\" height=\"263px\" preserveAspectRatio=\"none\" style=\"width:816px;height:263px;\" version=\"1.1\" viewBox=\"0 0 816 263\" width=\"816px\" zoomAndPan=\"magnify\"><defs/><g><!--MD5=[fbc87193dbaf4d95561dea2c320d4a47]\n",
       "cluster E1--><a href=\"psysml:437e1e49-e6a3-4f3e-be27-b1e07120749d\" target=\"_top\" title=\"psysml:437e1e49-e6a3-4f3e-be27-b1e07120749d\" xlink:actuate=\"onRequest\" xlink:href=\"psysml:437e1e49-e6a3-4f3e-be27-b1e07120749d\" xlink:show=\"new\" xlink:title=\"psysml:437e1e49-e6a3-4f3e-be27-b1e07120749d\" xlink:type=\"simple\"><polygon fill=\"#FFFFFF\" points=\"16,6,123,6,130,28.2969,794,28.2969,794,251,16,251,16,6\" style=\"stroke: #000000; stroke-width: 1.5;\"/><line style=\"stroke: #000000; stroke-width: 1.5;\" x1=\"16\" x2=\"130\" y1=\"28.2969\" y2=\"28.2969\"/><text fill=\"#000000\" font-family=\"sans-serif\" font-size=\"14\" font-weight=\"bold\" lengthAdjust=\"spacingAndGlyphs\" textLength=\"101\" x=\"20\" y=\"20.9951\">MultiplicityTest</text></a><!--MD5=[b4997ac47864f28c2f74865a473b2911]\n",
       "class E2--><a href=\"psysml:d60dc8a9-ee87-4177-8909-4fd780a9d8f8\" target=\"_top\" title=\"psysml:d60dc8a9-ee87-4177-8909-4fd780a9d8f8\" xlink:actuate=\"onRequest\" xlink:href=\"psysml:d60dc8a9-ee87-4177-8909-4fd780a9d8f8\" xlink:show=\"new\" xlink:title=\"psysml:d60dc8a9-ee87-4177-8909-4fd780a9d8f8\" xlink:type=\"simple\"><rect fill=\"#FFFFFF\" height=\"45.9375\" id=\"E2\" style=\"stroke: #383838; stroke-width: 1.5;\" width=\"70\" x=\"499\" y=\"189\"/><text fill=\"#000000\" font-family=\"sans-serif\" font-size=\"12\" font-style=\"italic\" lengthAdjust=\"spacingAndGlyphs\" textLength=\"68\" x=\"500\" y=\"205.1387\">«part  def»</text><text fill=\"#000000\" font-family=\"sans-serif\" font-size=\"12\" lengthAdjust=\"spacingAndGlyphs\" textLength=\"8\" x=\"530\" y=\"219.1074\">P</text><line style=\"stroke: #383838; stroke-width: 1.5;\" x1=\"500\" x2=\"568\" y1=\"226.9375\" y2=\"226.9375\"/></a><!--MD5=[09b614a08d8cba4a07c9adeb5e0fee81]\n",
       "class E3--><a href=\"psysml:a5340f1d-d68a-4585-8f96-7305e6f489d2\" target=\"_top\" title=\"psysml:a5340f1d-d68a-4585-8f96-7305e6f489d2\" xlink:actuate=\"onRequest\" xlink:href=\"psysml:a5340f1d-d68a-4585-8f96-7305e6f489d2\" xlink:show=\"new\" xlink:title=\"psysml:a5340f1d-d68a-4585-8f96-7305e6f489d2\" xlink:type=\"simple\"><rect fill=\"#FFFFFF\" height=\"45.9375\" id=\"E3\" rx=\"10\" ry=\"10\" style=\"stroke: #383838; stroke-width: 1.5;\" width=\"71\" x=\"706.5\" y=\"62\"/><text fill=\"#000000\" font-family=\"sans-serif\" font-size=\"12\" font-style=\"italic\" lengthAdjust=\"spacingAndGlyphs\" textLength=\"69\" x=\"707.5\" y=\"78.1387\">«attribute»</text><text fill=\"#000000\" font-family=\"sans-serif\" font-size=\"12\" lengthAdjust=\"spacingAndGlyphs\" textLength=\"61\" x=\"709.5\" y=\"92.1074\">n: Integer</text><line style=\"stroke: #383838; stroke-width: 1.5;\" x1=\"707.5\" x2=\"776.5\" y1=\"99.9375\" y2=\"99.9375\"/></a><!--MD5=[ebbe1d658d1005bcc118a6aa81145e00]\n",
       "class E4--><a href=\"psysml:478d9241-8f6e-4034-a71b-67b7ef5acdce\" target=\"_top\" title=\"psysml:478d9241-8f6e-4034-a71b-67b7ef5acdce\" xlink:actuate=\"onRequest\" xlink:href=\"psysml:478d9241-8f6e-4034-a71b-67b7ef5acdce\" xlink:show=\"new\" xlink:title=\"psysml:478d9241-8f6e-4034-a71b-67b7ef5acdce\" xlink:type=\"simple\"><rect fill=\"#FFFFFF\" height=\"45.9375\" id=\"E4\" rx=\"10\" ry=\"10\" style=\"stroke: #383838; stroke-width: 1.5;\" width=\"42\" x=\"629\" y=\"62\"/><text fill=\"#000000\" font-family=\"sans-serif\" font-size=\"12\" font-style=\"italic\" lengthAdjust=\"spacingAndGlyphs\" textLength=\"40\" x=\"630\" y=\"78.1387\">«part»</text><text fill=\"#000000\" font-family=\"sans-serif\" font-size=\"12\" lengthAdjust=\"spacingAndGlyphs\" textLength=\"8\" x=\"644\" y=\"92.1074\">a</text><line style=\"stroke: #383838; stroke-width: 1.5;\" x1=\"630\" x2=\"670\" y1=\"99.9375\" y2=\"99.9375\"/></a><!--MD5=[270fce915f116d4de14055a7c1d9a0f3]\n",
       "class E5--><a href=\"psysml:bc94da79-c19f-4e44-8720-527e565e90dd\" target=\"_top\" title=\"psysml:bc94da79-c19f-4e44-8720-527e565e90dd\" xlink:actuate=\"onRequest\" xlink:href=\"psysml:bc94da79-c19f-4e44-8720-527e565e90dd\" xlink:show=\"new\" xlink:title=\"psysml:bc94da79-c19f-4e44-8720-527e565e90dd\" xlink:type=\"simple\"><rect fill=\"#FFFFFF\" height=\"45.9375\" id=\"E5\" rx=\"10\" ry=\"10\" style=\"stroke: #383838; stroke-width: 1.5;\" width=\"42\" x=\"552\" y=\"62\"/><text fill=\"#000000\" font-family=\"sans-serif\" font-size=\"12\" font-style=\"italic\" lengthAdjust=\"spacingAndGlyphs\" textLength=\"40\" x=\"553\" y=\"78.1387\">«part»</text><text fill=\"#000000\" font-family=\"sans-serif\" font-size=\"12\" lengthAdjust=\"spacingAndGlyphs\" textLength=\"24\" x=\"559\" y=\"92.1074\">b: P</text><line style=\"stroke: #383838; stroke-width: 1.5;\" x1=\"553\" x2=\"593\" y1=\"99.9375\" y2=\"99.9375\"/></a><!--MD5=[60a26617385b1d2d0262a64233df1f8d]\n",
       "class E6--><a href=\"psysml:619a7e97-bac6-4f1e-8369-8e8a5aa8da71\" target=\"_top\" title=\"psysml:619a7e97-bac6-4f1e-8369-8e8a5aa8da71\" xlink:actuate=\"onRequest\" xlink:href=\"psysml:619a7e97-bac6-4f1e-8369-8e8a5aa8da71\" xlink:show=\"new\" xlink:title=\"psysml:619a7e97-bac6-4f1e-8369-8e8a5aa8da71\" xlink:type=\"simple\"><rect fill=\"#FFFFFF\" height=\"45.9375\" id=\"E6\" rx=\"10\" ry=\"10\" style=\"stroke: #383838; stroke-width: 1.5;\" width=\"42\" x=\"475\" y=\"62\"/><text fill=\"#000000\" font-family=\"sans-serif\" font-size=\"12\" font-style=\"italic\" lengthAdjust=\"spacingAndGlyphs\" textLength=\"40\" x=\"476\" y=\"78.1387\">«part»</text><text fill=\"#000000\" font-family=\"sans-serif\" font-size=\"12\" lengthAdjust=\"spacingAndGlyphs\" textLength=\"23\" x=\"482.5\" y=\"92.1074\">c: P</text><line style=\"stroke: #383838; stroke-width: 1.5;\" x1=\"476\" x2=\"516\" y1=\"99.9375\" y2=\"99.9375\"/></a><!--MD5=[2156ba9850f5573cc1fc38a6a4b2f02b]\n",
       "class E7--><a href=\"psysml:baf82fce-ad86-47f7-be04-61d8ab51238a\" target=\"_top\" title=\"psysml:baf82fce-ad86-47f7-be04-61d8ab51238a\" xlink:actuate=\"onRequest\" xlink:href=\"psysml:baf82fce-ad86-47f7-be04-61d8ab51238a\" xlink:show=\"new\" xlink:title=\"psysml:baf82fce-ad86-47f7-be04-61d8ab51238a\" xlink:type=\"simple\"><rect fill=\"#FFFFFF\" height=\"45.9375\" id=\"E7\" rx=\"10\" ry=\"10\" style=\"stroke: #383838; stroke-width: 1.5;\" width=\"42\" x=\"398\" y=\"62\"/><text fill=\"#000000\" font-family=\"sans-serif\" font-size=\"12\" font-style=\"italic\" lengthAdjust=\"spacingAndGlyphs\" textLength=\"40\" x=\"399\" y=\"78.1387\">«part»</text><text fill=\"#000000\" font-family=\"sans-serif\" font-size=\"12\" lengthAdjust=\"spacingAndGlyphs\" textLength=\"8\" x=\"413\" y=\"92.1074\">d</text><line style=\"stroke: #383838; stroke-width: 1.5;\" x1=\"399\" x2=\"439\" y1=\"99.9375\" y2=\"99.9375\"/></a><!--MD5=[b9389687b975829384b498ac4b7476b2]\n",
       "class E8--><a href=\"psysml:602edda4-e9f7-4346-9e9a-bc1deb44a144\" target=\"_top\" title=\"psysml:602edda4-e9f7-4346-9e9a-bc1deb44a144\" xlink:actuate=\"onRequest\" xlink:href=\"psysml:602edda4-e9f7-4346-9e9a-bc1deb44a144\" xlink:show=\"new\" xlink:title=\"psysml:602edda4-e9f7-4346-9e9a-bc1deb44a144\" xlink:type=\"simple\"><rect fill=\"#FFFFFF\" height=\"45.9375\" id=\"E8\" rx=\"10\" ry=\"10\" style=\"stroke: #383838; stroke-width: 1.5;\" width=\"42\" x=\"321\" y=\"62\"/><text fill=\"#000000\" font-family=\"sans-serif\" font-size=\"12\" font-style=\"italic\" lengthAdjust=\"spacingAndGlyphs\" textLength=\"40\" x=\"322\" y=\"78.1387\">«part»</text><text fill=\"#000000\" font-family=\"sans-serif\" font-size=\"12\" lengthAdjust=\"spacingAndGlyphs\" textLength=\"8\" x=\"336\" y=\"92.1074\">e</text><line style=\"stroke: #383838; stroke-width: 1.5;\" x1=\"322\" x2=\"362\" y1=\"99.9375\" y2=\"99.9375\"/></a><!--MD5=[fd4143e9d270a159db93a4ea2a975926]\n",
       "class E9--><a href=\"psysml:ea99d53b-6b01-4b58-853a-79f827c6b1d7\" target=\"_top\" title=\"psysml:ea99d53b-6b01-4b58-853a-79f827c6b1d7\" xlink:actuate=\"onRequest\" xlink:href=\"psysml:ea99d53b-6b01-4b58-853a-79f827c6b1d7\" xlink:show=\"new\" xlink:title=\"psysml:ea99d53b-6b01-4b58-853a-79f827c6b1d7\" xlink:type=\"simple\"><rect fill=\"#FFFFFF\" height=\"45.9375\" id=\"E9\" rx=\"10\" ry=\"10\" style=\"stroke: #383838; stroke-width: 1.5;\" width=\"42\" x=\"244\" y=\"62\"/><text fill=\"#000000\" font-family=\"sans-serif\" font-size=\"12\" font-style=\"italic\" lengthAdjust=\"spacingAndGlyphs\" textLength=\"40\" x=\"245\" y=\"78.1387\">«part»</text><text fill=\"#000000\" font-family=\"sans-serif\" font-size=\"12\" lengthAdjust=\"spacingAndGlyphs\" textLength=\"4\" x=\"261\" y=\"92.1074\">f</text><line style=\"stroke: #383838; stroke-width: 1.5;\" x1=\"245\" x2=\"285\" y1=\"99.9375\" y2=\"99.9375\"/></a><!--MD5=[96f4274e9e20536e775497830990834d]\n",
       "class E10--><a href=\"psysml:7f8b6820-ebe3-4bcd-8be0-e5513e7bb89f\" target=\"_top\" title=\"psysml:7f8b6820-ebe3-4bcd-8be0-e5513e7bb89f\" xlink:actuate=\"onRequest\" xlink:href=\"psysml:7f8b6820-ebe3-4bcd-8be0-e5513e7bb89f\" xlink:show=\"new\" xlink:title=\"psysml:7f8b6820-ebe3-4bcd-8be0-e5513e7bb89f\" xlink:type=\"simple\"><rect fill=\"#FFFFFF\" height=\"45.9375\" id=\"E10\" rx=\"10\" ry=\"10\" style=\"stroke: #383838; stroke-width: 1.5;\" width=\"42\" x=\"167\" y=\"62\"/><text fill=\"#000000\" font-family=\"sans-serif\" font-size=\"12\" font-style=\"italic\" lengthAdjust=\"spacingAndGlyphs\" textLength=\"40\" x=\"168\" y=\"78.1387\">«part»</text><text fill=\"#000000\" font-family=\"sans-serif\" font-size=\"12\" lengthAdjust=\"spacingAndGlyphs\" textLength=\"8\" x=\"182\" y=\"92.1074\">g</text><line style=\"stroke: #383838; stroke-width: 1.5;\" x1=\"168\" x2=\"208\" y1=\"99.9375\" y2=\"99.9375\"/></a><!--MD5=[1dd1bfd58a279cf63c5f349dbc8fc6a1]\n",
       "class E11--><a href=\"psysml:b98160f9-962b-4166-b8bf-1b8817b6e181\" target=\"_top\" title=\"psysml:b98160f9-962b-4166-b8bf-1b8817b6e181\" xlink:actuate=\"onRequest\" xlink:href=\"psysml:b98160f9-962b-4166-b8bf-1b8817b6e181\" xlink:show=\"new\" xlink:title=\"psysml:b98160f9-962b-4166-b8bf-1b8817b6e181\" xlink:type=\"simple\"><rect fill=\"#FFFFFF\" height=\"88.3516\" id=\"E11\" style=\"stroke: #383838; stroke-width: 1.5;\" width=\"99\" x=\"32.5\" y=\"41\"/><text fill=\"#000000\" font-family=\"sans-serif\" font-size=\"12\" font-style=\"italic\" lengthAdjust=\"spacingAndGlyphs\" textLength=\"97\" x=\"33.5\" y=\"57.1387\">«attribute  def»</text><text fill=\"#000000\" font-family=\"sans-serif\" font-size=\"12\" lengthAdjust=\"spacingAndGlyphs\" textLength=\"8\" x=\"78\" y=\"71.1074\">A</text><line style=\"stroke: #383838; stroke-width: 1.5;\" x1=\"33.5\" x2=\"130.5\" y1=\"78.9375\" y2=\"78.9375\"/><text fill=\"#000000\" font-family=\"sans-serif\" font-size=\"11\" lengthAdjust=\"spacingAndGlyphs\" textLength=\"51\" x=\"38.5\" y=\"109.9526\">i: Integer</text><text fill=\"#000000\" font-family=\"sans-serif\" font-size=\"11\" lengthAdjust=\"spacingAndGlyphs\" textLength=\"21\" x=\"38.5\" y=\"122.7573\">x: A</text><line style=\"stroke: #383838; stroke-width: 1.0;\" x1=\"33.5\" x2=\"54.5\" y1=\"93.3398\" y2=\"93.3398\"/><text fill=\"#000000\" font-family=\"sans-serif\" font-size=\"11\" lengthAdjust=\"spacingAndGlyphs\" textLength=\"55\" x=\"54.5\" y=\"96.6479\">attributes</text><line style=\"stroke: #383838; stroke-width: 1.0;\" x1=\"109.5\" x2=\"130.5\" y1=\"93.3398\" y2=\"93.3398\"/></a><!--MD5=[15ebcb19ae302d9b601edb458606d402]\n",
       "link E5 to E2--><a href=\"psysml:f465fece-be6c-4a0b-8b87-5b67ed75d8f8\" target=\"_top\" title=\"psysml:f465fece-be6c-4a0b-8b87-5b67ed75d8f8\" xlink:actuate=\"onRequest\" xlink:href=\"psysml:f465fece-be6c-4a0b-8b87-5b67ed75d8f8\" xlink:show=\"new\" xlink:title=\"psysml:f465fece-be6c-4a0b-8b87-5b67ed75d8f8\" xlink:type=\"simple\"><path d=\"M566.12,108.06 C560.83,125 553.38,148.89 546.98,169.39 \" fill=\"none\" id=\"E5-&gt;E2\" style=\"stroke: #383838; stroke-width: 1.0;\"/><polygon fill=\"#FFFFFF\" points=\"540.95,188.74,539.929,168.5173,553.2931,172.6886,540.95,188.74\" style=\"stroke: #383838; stroke-width: 1.0;\"/><ellipse cx=\"543.5364\" cy=\"163.6721\" fill=\"#383838\" rx=\"2\" ry=\"2\" style=\"stroke: #383838; stroke-width: 1.0;\"/><ellipse cx=\"553.0823\" cy=\"166.6516\" fill=\"#383838\" rx=\"2\" ry=\"2\" style=\"stroke: #383838; stroke-width: 1.0;\"/></a><!--MD5=[2351f337d6de0f557b50152ba70847b5]\n",
       "link E6 to E2--><a href=\"psysml:72e02ffe-11ce-46be-a503-0c91c54548ee\" target=\"_top\" title=\"psysml:72e02ffe-11ce-46be-a503-0c91c54548ee\" xlink:actuate=\"onRequest\" xlink:href=\"psysml:72e02ffe-11ce-46be-a503-0c91c54548ee\" xlink:show=\"new\" xlink:title=\"psysml:72e02ffe-11ce-46be-a503-0c91c54548ee\" xlink:type=\"simple\"><path d=\"M502.71,108.06 C507.86,125 515.12,148.89 521.35,169.39 \" fill=\"none\" id=\"E6-&gt;E2\" style=\"stroke: #383838; stroke-width: 1.0;\"/><polygon fill=\"#FFFFFF\" points=\"527.23,188.74,515.007,172.597,528.4019,168.5255,527.23,188.74\" style=\"stroke: #383838; stroke-width: 1.0;\"/><ellipse cx=\"515.2628\" cy=\"166.5617\" fill=\"#383838\" rx=\"2\" ry=\"2\" style=\"stroke: #383838; stroke-width: 1.0;\"/><ellipse cx=\"524.8306\" cy=\"163.6535\" fill=\"#383838\" rx=\"2\" ry=\"2\" style=\"stroke: #383838; stroke-width: 1.0;\"/></a><!--MD5=[abd3ea2d07bde7d7b7d4a3e2e8150d46]\n",
       "@startuml\r\n",
       "skinparam linetype polyline\r\n",
       "skinparam monochrome true\r\n",
       "skinparam classbackgroundcolor white\r\n",
       "skinparam shadowing false\r\n",
       "skinparam wrapWidth 300\r\n",
       "hide circle\r\n",
       "\r\n",
       "package \"MultiplicityTest\" as E1  [[psysml:437e1e49-e6a3-4f3e-be27-b1e07120749d ]]  {\r\n",
       "comp def \"P\" as E2  <<(T,blue) part  def>> [[psysml:d60dc8a9-ee87-4177-8909-4fd780a9d8f8 ]] {\r\n",
       "}\r\n",
       "comp usage \"n: Integer \" as E3  <<(T,blue) attribute>> [[psysml:a5340f1d-d68a-4585-8f96-7305e6f489d2 ]] {\r\n",
       "}\r\n",
       "comp usage \"a \" as E4  <<(T,blue) part>> [[psysml:478d9241-8f6e-4034-a71b-67b7ef5acdce ]] {\r\n",
       "}\r\n",
       "comp usage \"b: P \" as E5  <<(T,blue) part>> [[psysml:bc94da79-c19f-4e44-8720-527e565e90dd ]] {\r\n",
       "}\r\n",
       "comp usage \"c: P \" as E6  <<(T,blue) part>> [[psysml:619a7e97-bac6-4f1e-8369-8e8a5aa8da71 ]] {\r\n",
       "}\r\n",
       "comp usage \"d \" as E7  <<(T,blue) part>> [[psysml:baf82fce-ad86-47f7-be04-61d8ab51238a ]] {\r\n",
       "}\r\n",
       "comp usage \"e \" as E8  <<(T,blue) part>> [[psysml:602edda4-e9f7-4346-9e9a-bc1deb44a144 ]] {\r\n",
       "}\r\n",
       "comp usage \"f \" as E9  <<(T,blue) part>> [[psysml:ea99d53b-6b01-4b58-853a-79f827c6b1d7 ]] {\r\n",
       "}\r\n",
       "comp usage \"g \" as E10  <<(T,blue) part>> [[psysml:7f8b6820-ebe3-4bcd-8be0-e5513e7bb89f ]] {\r\n",
       "}\r\n",
       "comp def \"A\" as E11  <<(T,blue) attribute  def>> [[psysml:b98160f9-962b-4166-b8bf-1b8817b6e181 ]] {\r\n",
       "- - attributes - -\r\n",
       "i: Integer\r\n",
       "x: A\r\n",
       "}\r\n",
       "}\r\n",
       "E5 - -:|> E2 [[psysml:f465fece-be6c-4a0b-8b87-5b67ed75d8f8 ]] \r\n",
       "E6 - -:|> E2 [[psysml:72e02ffe-11ce-46be-a503-0c91c54548ee ]] \r\n",
       "@enduml\r\n",
       "\n",
       "PlantUML version 1.2020.13(Sat Jun 13 12:26:38 UTC 2020)\n",
       "(EPL source distribution)\n",
       "Java Runtime: OpenJDK Runtime Environment\n",
       "JVM: OpenJDK 64-Bit Server VM\n",
       "Default Encoding: UTF-8\n",
       "Language: en\n",
       "Country: null\n",
       "--></g></svg>"
      ]
     },
     "execution_count": 9,
     "metadata": {},
     "output_type": "execute_result"
    }
   ],
   "source": [
    "%viz --style=\"POLYLINE\" --view=\"Default\" \"MultiplicityTest\""
   ]
  },
  {
   "cell_type": "code",
   "execution_count": 10,
   "id": "19237573",
   "metadata": {
    "execution": {
     "iopub.execute_input": "2022-03-03T09:58:29.176628Z",
     "iopub.status.busy": "2022-03-03T09:58:29.176199Z",
     "iopub.status.idle": "2022-03-03T09:58:29.247702Z",
     "shell.execute_reply": "2022-03-03T09:58:29.247337Z"
    }
   },
   "outputs": [
    {
     "data": {
      "image/svg+xml": [
       "<?xml version=\"1.0\" encoding=\"UTF-8\" standalone=\"no\"?><svg xmlns=\"http://www.w3.org/2000/svg\" xmlns:xlink=\"http://www.w3.org/1999/xlink\" contentScriptType=\"application/ecmascript\" contentStyleType=\"text/css\" height=\"263px\" preserveAspectRatio=\"none\" style=\"width:816px;height:263px;\" version=\"1.1\" viewBox=\"0 0 816 263\" width=\"816px\" zoomAndPan=\"magnify\"><defs/><g><!--MD5=[fbc87193dbaf4d95561dea2c320d4a47]\n",
       "cluster E1--><a href=\"psysml:437e1e49-e6a3-4f3e-be27-b1e07120749d\" target=\"_top\" title=\"psysml:437e1e49-e6a3-4f3e-be27-b1e07120749d\" xlink:actuate=\"onRequest\" xlink:href=\"psysml:437e1e49-e6a3-4f3e-be27-b1e07120749d\" xlink:show=\"new\" xlink:title=\"psysml:437e1e49-e6a3-4f3e-be27-b1e07120749d\" xlink:type=\"simple\"><polygon fill=\"#FFFFFF\" points=\"16,6,123,6,130,28.2969,794,28.2969,794,251,16,251,16,6\" style=\"stroke: #000000; stroke-width: 1.5;\"/><line style=\"stroke: #000000; stroke-width: 1.5;\" x1=\"16\" x2=\"130\" y1=\"28.2969\" y2=\"28.2969\"/><text fill=\"#000000\" font-family=\"sans-serif\" font-size=\"14\" font-weight=\"bold\" lengthAdjust=\"spacingAndGlyphs\" textLength=\"101\" x=\"20\" y=\"20.9951\">MultiplicityTest</text></a><!--MD5=[b4997ac47864f28c2f74865a473b2911]\n",
       "class E2--><a href=\"psysml:d60dc8a9-ee87-4177-8909-4fd780a9d8f8\" target=\"_top\" title=\"psysml:d60dc8a9-ee87-4177-8909-4fd780a9d8f8\" xlink:actuate=\"onRequest\" xlink:href=\"psysml:d60dc8a9-ee87-4177-8909-4fd780a9d8f8\" xlink:show=\"new\" xlink:title=\"psysml:d60dc8a9-ee87-4177-8909-4fd780a9d8f8\" xlink:type=\"simple\"><rect fill=\"#FFFFFF\" height=\"45.9375\" id=\"E2\" style=\"stroke: #383838; stroke-width: 1.5;\" width=\"70\" x=\"499\" y=\"189\"/><text fill=\"#000000\" font-family=\"sans-serif\" font-size=\"12\" font-style=\"italic\" lengthAdjust=\"spacingAndGlyphs\" textLength=\"68\" x=\"500\" y=\"205.1387\">«part  def»</text><text fill=\"#000000\" font-family=\"sans-serif\" font-size=\"12\" lengthAdjust=\"spacingAndGlyphs\" textLength=\"8\" x=\"530\" y=\"219.1074\">P</text><line style=\"stroke: #383838; stroke-width: 1.5;\" x1=\"500\" x2=\"568\" y1=\"226.9375\" y2=\"226.9375\"/></a><!--MD5=[09b614a08d8cba4a07c9adeb5e0fee81]\n",
       "class E3--><a href=\"psysml:a5340f1d-d68a-4585-8f96-7305e6f489d2\" target=\"_top\" title=\"psysml:a5340f1d-d68a-4585-8f96-7305e6f489d2\" xlink:actuate=\"onRequest\" xlink:href=\"psysml:a5340f1d-d68a-4585-8f96-7305e6f489d2\" xlink:show=\"new\" xlink:title=\"psysml:a5340f1d-d68a-4585-8f96-7305e6f489d2\" xlink:type=\"simple\"><rect fill=\"#FFFFFF\" height=\"45.9375\" id=\"E3\" rx=\"10\" ry=\"10\" style=\"stroke: #383838; stroke-width: 1.5;\" width=\"71\" x=\"706.5\" y=\"62\"/><text fill=\"#000000\" font-family=\"sans-serif\" font-size=\"12\" font-style=\"italic\" lengthAdjust=\"spacingAndGlyphs\" textLength=\"69\" x=\"707.5\" y=\"78.1387\">«attribute»</text><text fill=\"#000000\" font-family=\"sans-serif\" font-size=\"12\" lengthAdjust=\"spacingAndGlyphs\" textLength=\"61\" x=\"709.5\" y=\"92.1074\">n: Integer</text><line style=\"stroke: #383838; stroke-width: 1.5;\" x1=\"707.5\" x2=\"776.5\" y1=\"99.9375\" y2=\"99.9375\"/></a><!--MD5=[ebbe1d658d1005bcc118a6aa81145e00]\n",
       "class E4--><a href=\"psysml:478d9241-8f6e-4034-a71b-67b7ef5acdce\" target=\"_top\" title=\"psysml:478d9241-8f6e-4034-a71b-67b7ef5acdce\" xlink:actuate=\"onRequest\" xlink:href=\"psysml:478d9241-8f6e-4034-a71b-67b7ef5acdce\" xlink:show=\"new\" xlink:title=\"psysml:478d9241-8f6e-4034-a71b-67b7ef5acdce\" xlink:type=\"simple\"><rect fill=\"#FFFFFF\" height=\"45.9375\" id=\"E4\" rx=\"10\" ry=\"10\" style=\"stroke: #383838; stroke-width: 1.5;\" width=\"42\" x=\"629\" y=\"62\"/><text fill=\"#000000\" font-family=\"sans-serif\" font-size=\"12\" font-style=\"italic\" lengthAdjust=\"spacingAndGlyphs\" textLength=\"40\" x=\"630\" y=\"78.1387\">«part»</text><text fill=\"#000000\" font-family=\"sans-serif\" font-size=\"12\" lengthAdjust=\"spacingAndGlyphs\" textLength=\"8\" x=\"644\" y=\"92.1074\">a</text><line style=\"stroke: #383838; stroke-width: 1.5;\" x1=\"630\" x2=\"670\" y1=\"99.9375\" y2=\"99.9375\"/></a><!--MD5=[270fce915f116d4de14055a7c1d9a0f3]\n",
       "class E5--><a href=\"psysml:bc94da79-c19f-4e44-8720-527e565e90dd\" target=\"_top\" title=\"psysml:bc94da79-c19f-4e44-8720-527e565e90dd\" xlink:actuate=\"onRequest\" xlink:href=\"psysml:bc94da79-c19f-4e44-8720-527e565e90dd\" xlink:show=\"new\" xlink:title=\"psysml:bc94da79-c19f-4e44-8720-527e565e90dd\" xlink:type=\"simple\"><rect fill=\"#FFFFFF\" height=\"45.9375\" id=\"E5\" rx=\"10\" ry=\"10\" style=\"stroke: #383838; stroke-width: 1.5;\" width=\"42\" x=\"552\" y=\"62\"/><text fill=\"#000000\" font-family=\"sans-serif\" font-size=\"12\" font-style=\"italic\" lengthAdjust=\"spacingAndGlyphs\" textLength=\"40\" x=\"553\" y=\"78.1387\">«part»</text><text fill=\"#000000\" font-family=\"sans-serif\" font-size=\"12\" lengthAdjust=\"spacingAndGlyphs\" textLength=\"24\" x=\"559\" y=\"92.1074\">b: P</text><line style=\"stroke: #383838; stroke-width: 1.5;\" x1=\"553\" x2=\"593\" y1=\"99.9375\" y2=\"99.9375\"/></a><!--MD5=[60a26617385b1d2d0262a64233df1f8d]\n",
       "class E6--><a href=\"psysml:619a7e97-bac6-4f1e-8369-8e8a5aa8da71\" target=\"_top\" title=\"psysml:619a7e97-bac6-4f1e-8369-8e8a5aa8da71\" xlink:actuate=\"onRequest\" xlink:href=\"psysml:619a7e97-bac6-4f1e-8369-8e8a5aa8da71\" xlink:show=\"new\" xlink:title=\"psysml:619a7e97-bac6-4f1e-8369-8e8a5aa8da71\" xlink:type=\"simple\"><rect fill=\"#FFFFFF\" height=\"45.9375\" id=\"E6\" rx=\"10\" ry=\"10\" style=\"stroke: #383838; stroke-width: 1.5;\" width=\"42\" x=\"475\" y=\"62\"/><text fill=\"#000000\" font-family=\"sans-serif\" font-size=\"12\" font-style=\"italic\" lengthAdjust=\"spacingAndGlyphs\" textLength=\"40\" x=\"476\" y=\"78.1387\">«part»</text><text fill=\"#000000\" font-family=\"sans-serif\" font-size=\"12\" lengthAdjust=\"spacingAndGlyphs\" textLength=\"23\" x=\"482.5\" y=\"92.1074\">c: P</text><line style=\"stroke: #383838; stroke-width: 1.5;\" x1=\"476\" x2=\"516\" y1=\"99.9375\" y2=\"99.9375\"/></a><!--MD5=[2156ba9850f5573cc1fc38a6a4b2f02b]\n",
       "class E7--><a href=\"psysml:baf82fce-ad86-47f7-be04-61d8ab51238a\" target=\"_top\" title=\"psysml:baf82fce-ad86-47f7-be04-61d8ab51238a\" xlink:actuate=\"onRequest\" xlink:href=\"psysml:baf82fce-ad86-47f7-be04-61d8ab51238a\" xlink:show=\"new\" xlink:title=\"psysml:baf82fce-ad86-47f7-be04-61d8ab51238a\" xlink:type=\"simple\"><rect fill=\"#FFFFFF\" height=\"45.9375\" id=\"E7\" rx=\"10\" ry=\"10\" style=\"stroke: #383838; stroke-width: 1.5;\" width=\"42\" x=\"398\" y=\"62\"/><text fill=\"#000000\" font-family=\"sans-serif\" font-size=\"12\" font-style=\"italic\" lengthAdjust=\"spacingAndGlyphs\" textLength=\"40\" x=\"399\" y=\"78.1387\">«part»</text><text fill=\"#000000\" font-family=\"sans-serif\" font-size=\"12\" lengthAdjust=\"spacingAndGlyphs\" textLength=\"8\" x=\"413\" y=\"92.1074\">d</text><line style=\"stroke: #383838; stroke-width: 1.5;\" x1=\"399\" x2=\"439\" y1=\"99.9375\" y2=\"99.9375\"/></a><!--MD5=[b9389687b975829384b498ac4b7476b2]\n",
       "class E8--><a href=\"psysml:602edda4-e9f7-4346-9e9a-bc1deb44a144\" target=\"_top\" title=\"psysml:602edda4-e9f7-4346-9e9a-bc1deb44a144\" xlink:actuate=\"onRequest\" xlink:href=\"psysml:602edda4-e9f7-4346-9e9a-bc1deb44a144\" xlink:show=\"new\" xlink:title=\"psysml:602edda4-e9f7-4346-9e9a-bc1deb44a144\" xlink:type=\"simple\"><rect fill=\"#FFFFFF\" height=\"45.9375\" id=\"E8\" rx=\"10\" ry=\"10\" style=\"stroke: #383838; stroke-width: 1.5;\" width=\"42\" x=\"321\" y=\"62\"/><text fill=\"#000000\" font-family=\"sans-serif\" font-size=\"12\" font-style=\"italic\" lengthAdjust=\"spacingAndGlyphs\" textLength=\"40\" x=\"322\" y=\"78.1387\">«part»</text><text fill=\"#000000\" font-family=\"sans-serif\" font-size=\"12\" lengthAdjust=\"spacingAndGlyphs\" textLength=\"8\" x=\"336\" y=\"92.1074\">e</text><line style=\"stroke: #383838; stroke-width: 1.5;\" x1=\"322\" x2=\"362\" y1=\"99.9375\" y2=\"99.9375\"/></a><!--MD5=[fd4143e9d270a159db93a4ea2a975926]\n",
       "class E9--><a href=\"psysml:ea99d53b-6b01-4b58-853a-79f827c6b1d7\" target=\"_top\" title=\"psysml:ea99d53b-6b01-4b58-853a-79f827c6b1d7\" xlink:actuate=\"onRequest\" xlink:href=\"psysml:ea99d53b-6b01-4b58-853a-79f827c6b1d7\" xlink:show=\"new\" xlink:title=\"psysml:ea99d53b-6b01-4b58-853a-79f827c6b1d7\" xlink:type=\"simple\"><rect fill=\"#FFFFFF\" height=\"45.9375\" id=\"E9\" rx=\"10\" ry=\"10\" style=\"stroke: #383838; stroke-width: 1.5;\" width=\"42\" x=\"244\" y=\"62\"/><text fill=\"#000000\" font-family=\"sans-serif\" font-size=\"12\" font-style=\"italic\" lengthAdjust=\"spacingAndGlyphs\" textLength=\"40\" x=\"245\" y=\"78.1387\">«part»</text><text fill=\"#000000\" font-family=\"sans-serif\" font-size=\"12\" lengthAdjust=\"spacingAndGlyphs\" textLength=\"4\" x=\"261\" y=\"92.1074\">f</text><line style=\"stroke: #383838; stroke-width: 1.5;\" x1=\"245\" x2=\"285\" y1=\"99.9375\" y2=\"99.9375\"/></a><!--MD5=[96f4274e9e20536e775497830990834d]\n",
       "class E10--><a href=\"psysml:7f8b6820-ebe3-4bcd-8be0-e5513e7bb89f\" target=\"_top\" title=\"psysml:7f8b6820-ebe3-4bcd-8be0-e5513e7bb89f\" xlink:actuate=\"onRequest\" xlink:href=\"psysml:7f8b6820-ebe3-4bcd-8be0-e5513e7bb89f\" xlink:show=\"new\" xlink:title=\"psysml:7f8b6820-ebe3-4bcd-8be0-e5513e7bb89f\" xlink:type=\"simple\"><rect fill=\"#FFFFFF\" height=\"45.9375\" id=\"E10\" rx=\"10\" ry=\"10\" style=\"stroke: #383838; stroke-width: 1.5;\" width=\"42\" x=\"167\" y=\"62\"/><text fill=\"#000000\" font-family=\"sans-serif\" font-size=\"12\" font-style=\"italic\" lengthAdjust=\"spacingAndGlyphs\" textLength=\"40\" x=\"168\" y=\"78.1387\">«part»</text><text fill=\"#000000\" font-family=\"sans-serif\" font-size=\"12\" lengthAdjust=\"spacingAndGlyphs\" textLength=\"8\" x=\"182\" y=\"92.1074\">g</text><line style=\"stroke: #383838; stroke-width: 1.5;\" x1=\"168\" x2=\"208\" y1=\"99.9375\" y2=\"99.9375\"/></a><!--MD5=[1dd1bfd58a279cf63c5f349dbc8fc6a1]\n",
       "class E11--><a href=\"psysml:b98160f9-962b-4166-b8bf-1b8817b6e181\" target=\"_top\" title=\"psysml:b98160f9-962b-4166-b8bf-1b8817b6e181\" xlink:actuate=\"onRequest\" xlink:href=\"psysml:b98160f9-962b-4166-b8bf-1b8817b6e181\" xlink:show=\"new\" xlink:title=\"psysml:b98160f9-962b-4166-b8bf-1b8817b6e181\" xlink:type=\"simple\"><rect fill=\"#FFFFFF\" height=\"88.3516\" id=\"E11\" style=\"stroke: #383838; stroke-width: 1.5;\" width=\"99\" x=\"32.5\" y=\"41\"/><text fill=\"#000000\" font-family=\"sans-serif\" font-size=\"12\" font-style=\"italic\" lengthAdjust=\"spacingAndGlyphs\" textLength=\"97\" x=\"33.5\" y=\"57.1387\">«attribute  def»</text><text fill=\"#000000\" font-family=\"sans-serif\" font-size=\"12\" lengthAdjust=\"spacingAndGlyphs\" textLength=\"8\" x=\"78\" y=\"71.1074\">A</text><line style=\"stroke: #383838; stroke-width: 1.5;\" x1=\"33.5\" x2=\"130.5\" y1=\"78.9375\" y2=\"78.9375\"/><text fill=\"#000000\" font-family=\"sans-serif\" font-size=\"11\" lengthAdjust=\"spacingAndGlyphs\" textLength=\"51\" x=\"38.5\" y=\"109.9526\">i: Integer</text><text fill=\"#000000\" font-family=\"sans-serif\" font-size=\"11\" lengthAdjust=\"spacingAndGlyphs\" textLength=\"21\" x=\"38.5\" y=\"122.7573\">x: A</text><line style=\"stroke: #383838; stroke-width: 1.0;\" x1=\"33.5\" x2=\"54.5\" y1=\"93.3398\" y2=\"93.3398\"/><text fill=\"#000000\" font-family=\"sans-serif\" font-size=\"11\" lengthAdjust=\"spacingAndGlyphs\" textLength=\"55\" x=\"54.5\" y=\"96.6479\">attributes</text><line style=\"stroke: #383838; stroke-width: 1.0;\" x1=\"109.5\" x2=\"130.5\" y1=\"93.3398\" y2=\"93.3398\"/></a><!--MD5=[15ebcb19ae302d9b601edb458606d402]\n",
       "link E5 to E2--><a href=\"psysml:f465fece-be6c-4a0b-8b87-5b67ed75d8f8\" target=\"_top\" title=\"psysml:f465fece-be6c-4a0b-8b87-5b67ed75d8f8\" xlink:actuate=\"onRequest\" xlink:href=\"psysml:f465fece-be6c-4a0b-8b87-5b67ed75d8f8\" xlink:show=\"new\" xlink:title=\"psysml:f465fece-be6c-4a0b-8b87-5b67ed75d8f8\" xlink:type=\"simple\"><path d=\"M566.12,108.06 C560.83,125 553.38,148.89 546.98,169.39 \" fill=\"none\" id=\"E5-&gt;E2\" style=\"stroke: #383838; stroke-width: 1.0;\"/><polygon fill=\"#FFFFFF\" points=\"540.95,188.74,539.929,168.5173,553.2931,172.6886,540.95,188.74\" style=\"stroke: #383838; stroke-width: 1.0;\"/><ellipse cx=\"543.5364\" cy=\"163.6721\" fill=\"#383838\" rx=\"2\" ry=\"2\" style=\"stroke: #383838; stroke-width: 1.0;\"/><ellipse cx=\"553.0823\" cy=\"166.6516\" fill=\"#383838\" rx=\"2\" ry=\"2\" style=\"stroke: #383838; stroke-width: 1.0;\"/></a><!--MD5=[2351f337d6de0f557b50152ba70847b5]\n",
       "link E6 to E2--><a href=\"psysml:72e02ffe-11ce-46be-a503-0c91c54548ee\" target=\"_top\" title=\"psysml:72e02ffe-11ce-46be-a503-0c91c54548ee\" xlink:actuate=\"onRequest\" xlink:href=\"psysml:72e02ffe-11ce-46be-a503-0c91c54548ee\" xlink:show=\"new\" xlink:title=\"psysml:72e02ffe-11ce-46be-a503-0c91c54548ee\" xlink:type=\"simple\"><path d=\"M502.71,108.06 C507.86,125 515.12,148.89 521.35,169.39 \" fill=\"none\" id=\"E6-&gt;E2\" style=\"stroke: #383838; stroke-width: 1.0;\"/><polygon fill=\"#FFFFFF\" points=\"527.23,188.74,515.007,172.597,528.4019,168.5255,527.23,188.74\" style=\"stroke: #383838; stroke-width: 1.0;\"/><ellipse cx=\"515.2628\" cy=\"166.5617\" fill=\"#383838\" rx=\"2\" ry=\"2\" style=\"stroke: #383838; stroke-width: 1.0;\"/><ellipse cx=\"524.8306\" cy=\"163.6535\" fill=\"#383838\" rx=\"2\" ry=\"2\" style=\"stroke: #383838; stroke-width: 1.0;\"/></a><!--MD5=[abd3ea2d07bde7d7b7d4a3e2e8150d46]\n",
       "@startuml\r\n",
       "skinparam linetype polyline\r\n",
       "skinparam monochrome true\r\n",
       "skinparam classbackgroundcolor white\r\n",
       "skinparam shadowing false\r\n",
       "skinparam wrapWidth 300\r\n",
       "hide circle\r\n",
       "\r\n",
       "package \"MultiplicityTest\" as E1  [[psysml:437e1e49-e6a3-4f3e-be27-b1e07120749d ]]  {\r\n",
       "comp def \"P\" as E2  <<(T,blue) part  def>> [[psysml:d60dc8a9-ee87-4177-8909-4fd780a9d8f8 ]] {\r\n",
       "}\r\n",
       "comp usage \"n: Integer \" as E3  <<(T,blue) attribute>> [[psysml:a5340f1d-d68a-4585-8f96-7305e6f489d2 ]] {\r\n",
       "}\r\n",
       "comp usage \"a \" as E4  <<(T,blue) part>> [[psysml:478d9241-8f6e-4034-a71b-67b7ef5acdce ]] {\r\n",
       "}\r\n",
       "comp usage \"b: P \" as E5  <<(T,blue) part>> [[psysml:bc94da79-c19f-4e44-8720-527e565e90dd ]] {\r\n",
       "}\r\n",
       "comp usage \"c: P \" as E6  <<(T,blue) part>> [[psysml:619a7e97-bac6-4f1e-8369-8e8a5aa8da71 ]] {\r\n",
       "}\r\n",
       "comp usage \"d \" as E7  <<(T,blue) part>> [[psysml:baf82fce-ad86-47f7-be04-61d8ab51238a ]] {\r\n",
       "}\r\n",
       "comp usage \"e \" as E8  <<(T,blue) part>> [[psysml:602edda4-e9f7-4346-9e9a-bc1deb44a144 ]] {\r\n",
       "}\r\n",
       "comp usage \"f \" as E9  <<(T,blue) part>> [[psysml:ea99d53b-6b01-4b58-853a-79f827c6b1d7 ]] {\r\n",
       "}\r\n",
       "comp usage \"g \" as E10  <<(T,blue) part>> [[psysml:7f8b6820-ebe3-4bcd-8be0-e5513e7bb89f ]] {\r\n",
       "}\r\n",
       "comp def \"A\" as E11  <<(T,blue) attribute  def>> [[psysml:b98160f9-962b-4166-b8bf-1b8817b6e181 ]] {\r\n",
       "- - attributes - -\r\n",
       "i: Integer\r\n",
       "x: A\r\n",
       "}\r\n",
       "}\r\n",
       "E5 - -:|> E2 [[psysml:f465fece-be6c-4a0b-8b87-5b67ed75d8f8 ]] \r\n",
       "E6 - -:|> E2 [[psysml:72e02ffe-11ce-46be-a503-0c91c54548ee ]] \r\n",
       "@enduml\r\n",
       "\n",
       "PlantUML version 1.2020.13(Sat Jun 13 12:26:38 UTC 2020)\n",
       "(EPL source distribution)\n",
       "Java Runtime: OpenJDK Runtime Environment\n",
       "JVM: OpenJDK 64-Bit Server VM\n",
       "Default Encoding: UTF-8\n",
       "Language: en\n",
       "Country: null\n",
       "--></g></svg>"
      ]
     },
     "execution_count": 10,
     "metadata": {},
     "output_type": "execute_result"
    }
   ],
   "source": [
    "%viz --style=\"POLYLINE\" --view=\"Tree\" \"MultiplicityTest\""
   ]
  },
  {
   "cell_type": "code",
   "execution_count": 11,
   "id": "fbd4d335",
   "metadata": {
    "execution": {
     "iopub.execute_input": "2022-03-03T09:58:29.297275Z",
     "iopub.status.busy": "2022-03-03T09:58:29.296860Z",
     "iopub.status.idle": "2022-03-03T09:58:29.303257Z",
     "shell.execute_reply": "2022-03-03T09:58:29.303571Z"
    }
   },
   "outputs": [
    {
     "data": {
      "image/svg+xml": [
       "<?xml version=\"1.0\" encoding=\"UTF-8\" standalone=\"no\"?><svg xmlns=\"http://www.w3.org/2000/svg\" xmlns:xlink=\"http://www.w3.org/1999/xlink\" contentScriptType=\"application/ecmascript\" contentStyleType=\"text/css\" height=\"12px\" preserveAspectRatio=\"none\" style=\"width:12px;height:12px;\" version=\"1.1\" viewBox=\"0 0 12 12\" width=\"12px\" zoomAndPan=\"magnify\"><defs/><g><!--MD5=[896ac0e7a515d8dd7765a661cb4ee08b]\n",
       "@startuml\r\n",
       "skinparam linetype polyline\r\n",
       "skinparam monochrome true\r\n",
       "skinparam classbackgroundcolor white\r\n",
       "skinparam shadowing false\r\n",
       "skinparam wrapWidth 300\r\n",
       "hide circle\r\n",
       "\r\n",
       "@enduml\r\n",
       "\n",
       "PlantUML version 1.2020.13(Sat Jun 13 12:26:38 UTC 2020)\n",
       "(EPL source distribution)\n",
       "Java Runtime: OpenJDK Runtime Environment\n",
       "JVM: OpenJDK 64-Bit Server VM\n",
       "Default Encoding: UTF-8\n",
       "Language: en\n",
       "Country: null\n",
       "--></g></svg>"
      ]
     },
     "execution_count": 11,
     "metadata": {},
     "output_type": "execute_result"
    }
   ],
   "source": [
    "%viz --style=\"POLYLINE\" --view=\"State\" \"MultiplicityTest\""
   ]
  },
  {
   "cell_type": "code",
   "execution_count": 12,
   "id": "1bf80924",
   "metadata": {
    "execution": {
     "iopub.execute_input": "2022-03-03T09:58:29.353778Z",
     "iopub.status.busy": "2022-03-03T09:58:29.353383Z",
     "iopub.status.idle": "2022-03-03T09:58:29.387394Z",
     "shell.execute_reply": "2022-03-03T09:58:29.387053Z"
    }
   },
   "outputs": [
    {
     "data": {
      "image/svg+xml": [
       "<?xml version=\"1.0\" encoding=\"UTF-8\" standalone=\"no\"?><svg xmlns=\"http://www.w3.org/2000/svg\" xmlns:xlink=\"http://www.w3.org/1999/xlink\" contentScriptType=\"application/ecmascript\" contentStyleType=\"text/css\" height=\"115px\" preserveAspectRatio=\"none\" style=\"width:987px;height:115px;\" version=\"1.1\" viewBox=\"0 0 987 115\" width=\"987px\" zoomAndPan=\"magnify\"><defs/><g><!--MD5=[fbc87193dbaf4d95561dea2c320d4a47]\n",
       "cluster E1--><a href=\"psysml:437e1e49-e6a3-4f3e-be27-b1e07120749d\" target=\"_top\" title=\"psysml:437e1e49-e6a3-4f3e-be27-b1e07120749d\" xlink:actuate=\"onRequest\" xlink:href=\"psysml:437e1e49-e6a3-4f3e-be27-b1e07120749d\" xlink:show=\"new\" xlink:title=\"psysml:437e1e49-e6a3-4f3e-be27-b1e07120749d\" xlink:type=\"simple\"><polygon fill=\"#FFFFFF\" points=\"16,6,123,6,130,28.2969,965,28.2969,965,103,16,103,16,6\" style=\"stroke: #000000; stroke-width: 1.5;\"/><line style=\"stroke: #000000; stroke-width: 1.5;\" x1=\"16\" x2=\"130\" y1=\"28.2969\" y2=\"28.2969\"/><text fill=\"#000000\" font-family=\"sans-serif\" font-size=\"14\" font-weight=\"bold\" lengthAdjust=\"spacingAndGlyphs\" textLength=\"101\" x=\"20\" y=\"20.9951\">MultiplicityTest</text></a><!--MD5=[09b614a08d8cba4a07c9adeb5e0fee81]\n",
       "class E3--><a href=\"psysml:a5340f1d-d68a-4585-8f96-7305e6f489d2\" target=\"_top\" title=\"psysml:a5340f1d-d68a-4585-8f96-7305e6f489d2\" xlink:actuate=\"onRequest\" xlink:href=\"psysml:a5340f1d-d68a-4585-8f96-7305e6f489d2\" xlink:show=\"new\" xlink:title=\"psysml:a5340f1d-d68a-4585-8f96-7305e6f489d2\" xlink:type=\"simple\"><rect fill=\"#FFFFFF\" height=\"45.9375\" id=\"E3\" rx=\"10\" ry=\"10\" style=\"stroke: #383838; stroke-width: 1.5;\" width=\"71\" x=\"877.5\" y=\"41\"/><text fill=\"#000000\" font-family=\"sans-serif\" font-size=\"12\" font-style=\"italic\" lengthAdjust=\"spacingAndGlyphs\" textLength=\"69\" x=\"878.5\" y=\"57.1387\">«attribute»</text><text fill=\"#000000\" font-family=\"sans-serif\" font-size=\"12\" lengthAdjust=\"spacingAndGlyphs\" textLength=\"61\" x=\"880.5\" y=\"71.1074\">n: Integer</text><line style=\"stroke: #383838; stroke-width: 1.5;\" x1=\"878.5\" x2=\"947.5\" y1=\"78.9375\" y2=\"78.9375\"/></a><g id=\"E1.E11\"><a href=\"psysml:b98160f9-962b-4166-b8bf-1b8817b6e181\" target=\"_top\" title=\"psysml:b98160f9-962b-4166-b8bf-1b8817b6e181\" xlink:actuate=\"onRequest\" xlink:href=\"psysml:b98160f9-962b-4166-b8bf-1b8817b6e181\" xlink:show=\"new\" xlink:title=\"psysml:b98160f9-962b-4166-b8bf-1b8817b6e181\" xlink:type=\"simple\"><rect fill=\"#FFFFFF\" height=\"42.9375\" id=\"E11\" style=\"stroke: #383838; stroke-width: 1.5;\" width=\"104\" x=\"738\" y=\"42.5\"/><rect fill=\"#F8F8F8\" height=\"37.9375\" style=\"stroke: #383838; stroke-width: 1.5;\" width=\"104\" x=\"738\" y=\"42.5\"/><text fill=\"#000000\" font-family=\"sans-serif\" font-size=\"12\" font-style=\"italic\" lengthAdjust=\"spacingAndGlyphs\" textLength=\"97\" x=\"741.5\" y=\"58.6387\">«attribute  def»</text><text fill=\"#000000\" font-family=\"sans-serif\" font-size=\"12\" lengthAdjust=\"spacingAndGlyphs\" textLength=\"8\" x=\"786\" y=\"72.6074\">A</text></a></g><g id=\"E1.E2\"><a href=\"psysml:d60dc8a9-ee87-4177-8909-4fd780a9d8f8\" target=\"_top\" title=\"psysml:d60dc8a9-ee87-4177-8909-4fd780a9d8f8\" xlink:actuate=\"onRequest\" xlink:href=\"psysml:d60dc8a9-ee87-4177-8909-4fd780a9d8f8\" xlink:show=\"new\" xlink:title=\"psysml:d60dc8a9-ee87-4177-8909-4fd780a9d8f8\" xlink:type=\"simple\"><rect fill=\"#FFFFFF\" height=\"42.9375\" id=\"E2\" style=\"stroke: #383838; stroke-width: 1.5;\" width=\"75\" x=\"627.5\" y=\"42.5\"/><rect fill=\"#F8F8F8\" height=\"37.9375\" style=\"stroke: #383838; stroke-width: 1.5;\" width=\"75\" x=\"627.5\" y=\"42.5\"/><text fill=\"#000000\" font-family=\"sans-serif\" font-size=\"12\" font-style=\"italic\" lengthAdjust=\"spacingAndGlyphs\" textLength=\"68\" x=\"631\" y=\"58.6387\">«part  def»</text><text fill=\"#000000\" font-family=\"sans-serif\" font-size=\"12\" lengthAdjust=\"spacingAndGlyphs\" textLength=\"8\" x=\"661\" y=\"72.6074\">P</text></a></g><g id=\"E1.E4\"><a href=\"psysml:478d9241-8f6e-4034-a71b-67b7ef5acdce\" target=\"_top\" title=\"psysml:478d9241-8f6e-4034-a71b-67b7ef5acdce\" xlink:actuate=\"onRequest\" xlink:href=\"psysml:478d9241-8f6e-4034-a71b-67b7ef5acdce\" xlink:show=\"new\" xlink:title=\"psysml:478d9241-8f6e-4034-a71b-67b7ef5acdce\" xlink:type=\"simple\"><rect fill=\"#FFFFFF\" height=\"40\" id=\"E4\" rx=\"10\" ry=\"10\" style=\"stroke: #383838; stroke-width: 1.5;\" width=\"50\" x=\"542\" y=\"44\"/><rect fill=\"#F8F8F8\" height=\"23.9688\" rx=\"10\" ry=\"10\" style=\"stroke: #F8F8F8; stroke-width: 1.5;\" width=\"50\" x=\"542\" y=\"44\"/><rect fill=\"#F8F8F8\" height=\"10\" style=\"stroke: #F8F8F8; stroke-width: 1.5;\" width=\"50\" x=\"542\" y=\"57.9688\"/><rect fill=\"none\" height=\"40\" id=\"E4\" rx=\"10\" ry=\"10\" style=\"stroke: #383838; stroke-width: 1.5;\" width=\"50\" x=\"542\" y=\"44\"/><text fill=\"#000000\" font-family=\"sans-serif\" font-size=\"12\" lengthAdjust=\"spacingAndGlyphs\" textLength=\"8\" x=\"563\" y=\"60.1387\">a</text></a></g><g id=\"E1.E5\"><a href=\"psysml:bc94da79-c19f-4e44-8720-527e565e90dd\" target=\"_top\" title=\"psysml:bc94da79-c19f-4e44-8720-527e565e90dd\" xlink:actuate=\"onRequest\" xlink:href=\"psysml:bc94da79-c19f-4e44-8720-527e565e90dd\" xlink:show=\"new\" xlink:title=\"psysml:bc94da79-c19f-4e44-8720-527e565e90dd\" xlink:type=\"simple\"><rect fill=\"#FFFFFF\" height=\"40\" id=\"E5\" rx=\"10\" ry=\"10\" style=\"stroke: #383838; stroke-width: 1.5;\" width=\"50\" x=\"457\" y=\"44\"/><rect fill=\"#F8F8F8\" height=\"23.9688\" rx=\"10\" ry=\"10\" style=\"stroke: #F8F8F8; stroke-width: 1.5;\" width=\"50\" x=\"457\" y=\"44\"/><rect fill=\"#F8F8F8\" height=\"10\" style=\"stroke: #F8F8F8; stroke-width: 1.5;\" width=\"50\" x=\"457\" y=\"57.9688\"/><rect fill=\"none\" height=\"40\" id=\"E5\" rx=\"10\" ry=\"10\" style=\"stroke: #383838; stroke-width: 1.5;\" width=\"50\" x=\"457\" y=\"44\"/><text fill=\"#000000\" font-family=\"sans-serif\" font-size=\"12\" lengthAdjust=\"spacingAndGlyphs\" textLength=\"24\" x=\"470\" y=\"60.1387\">b: P</text></a></g><g id=\"E1.E6\"><a href=\"psysml:619a7e97-bac6-4f1e-8369-8e8a5aa8da71\" target=\"_top\" title=\"psysml:619a7e97-bac6-4f1e-8369-8e8a5aa8da71\" xlink:actuate=\"onRequest\" xlink:href=\"psysml:619a7e97-bac6-4f1e-8369-8e8a5aa8da71\" xlink:show=\"new\" xlink:title=\"psysml:619a7e97-bac6-4f1e-8369-8e8a5aa8da71\" xlink:type=\"simple\"><rect fill=\"#FFFFFF\" height=\"40\" id=\"E6\" rx=\"10\" ry=\"10\" style=\"stroke: #383838; stroke-width: 1.5;\" width=\"50\" x=\"372\" y=\"44\"/><rect fill=\"#F8F8F8\" height=\"23.9688\" rx=\"10\" ry=\"10\" style=\"stroke: #F8F8F8; stroke-width: 1.5;\" width=\"50\" x=\"372\" y=\"44\"/><rect fill=\"#F8F8F8\" height=\"10\" style=\"stroke: #F8F8F8; stroke-width: 1.5;\" width=\"50\" x=\"372\" y=\"57.9688\"/><rect fill=\"none\" height=\"40\" id=\"E6\" rx=\"10\" ry=\"10\" style=\"stroke: #383838; stroke-width: 1.5;\" width=\"50\" x=\"372\" y=\"44\"/><text fill=\"#000000\" font-family=\"sans-serif\" font-size=\"12\" lengthAdjust=\"spacingAndGlyphs\" textLength=\"23\" x=\"385.5\" y=\"60.1387\">c: P</text></a></g><g id=\"E1.E7\"><a href=\"psysml:baf82fce-ad86-47f7-be04-61d8ab51238a\" target=\"_top\" title=\"psysml:baf82fce-ad86-47f7-be04-61d8ab51238a\" xlink:actuate=\"onRequest\" xlink:href=\"psysml:baf82fce-ad86-47f7-be04-61d8ab51238a\" xlink:show=\"new\" xlink:title=\"psysml:baf82fce-ad86-47f7-be04-61d8ab51238a\" xlink:type=\"simple\"><rect fill=\"#FFFFFF\" height=\"40\" id=\"E7\" rx=\"10\" ry=\"10\" style=\"stroke: #383838; stroke-width: 1.5;\" width=\"50\" x=\"287\" y=\"44\"/><rect fill=\"#F8F8F8\" height=\"23.9688\" rx=\"10\" ry=\"10\" style=\"stroke: #F8F8F8; stroke-width: 1.5;\" width=\"50\" x=\"287\" y=\"44\"/><rect fill=\"#F8F8F8\" height=\"10\" style=\"stroke: #F8F8F8; stroke-width: 1.5;\" width=\"50\" x=\"287\" y=\"57.9688\"/><rect fill=\"none\" height=\"40\" id=\"E7\" rx=\"10\" ry=\"10\" style=\"stroke: #383838; stroke-width: 1.5;\" width=\"50\" x=\"287\" y=\"44\"/><text fill=\"#000000\" font-family=\"sans-serif\" font-size=\"12\" lengthAdjust=\"spacingAndGlyphs\" textLength=\"8\" x=\"308\" y=\"60.1387\">d</text></a></g><g id=\"E1.E8\"><a href=\"psysml:602edda4-e9f7-4346-9e9a-bc1deb44a144\" target=\"_top\" title=\"psysml:602edda4-e9f7-4346-9e9a-bc1deb44a144\" xlink:actuate=\"onRequest\" xlink:href=\"psysml:602edda4-e9f7-4346-9e9a-bc1deb44a144\" xlink:show=\"new\" xlink:title=\"psysml:602edda4-e9f7-4346-9e9a-bc1deb44a144\" xlink:type=\"simple\"><rect fill=\"#FFFFFF\" height=\"40\" id=\"E8\" rx=\"10\" ry=\"10\" style=\"stroke: #383838; stroke-width: 1.5;\" width=\"50\" x=\"202\" y=\"44\"/><rect fill=\"#F8F8F8\" height=\"23.9688\" rx=\"10\" ry=\"10\" style=\"stroke: #F8F8F8; stroke-width: 1.5;\" width=\"50\" x=\"202\" y=\"44\"/><rect fill=\"#F8F8F8\" height=\"10\" style=\"stroke: #F8F8F8; stroke-width: 1.5;\" width=\"50\" x=\"202\" y=\"57.9688\"/><rect fill=\"none\" height=\"40\" id=\"E8\" rx=\"10\" ry=\"10\" style=\"stroke: #383838; stroke-width: 1.5;\" width=\"50\" x=\"202\" y=\"44\"/><text fill=\"#000000\" font-family=\"sans-serif\" font-size=\"12\" lengthAdjust=\"spacingAndGlyphs\" textLength=\"8\" x=\"223\" y=\"60.1387\">e</text></a></g><g id=\"E1.E9\"><a href=\"psysml:ea99d53b-6b01-4b58-853a-79f827c6b1d7\" target=\"_top\" title=\"psysml:ea99d53b-6b01-4b58-853a-79f827c6b1d7\" xlink:actuate=\"onRequest\" xlink:href=\"psysml:ea99d53b-6b01-4b58-853a-79f827c6b1d7\" xlink:show=\"new\" xlink:title=\"psysml:ea99d53b-6b01-4b58-853a-79f827c6b1d7\" xlink:type=\"simple\"><rect fill=\"#FFFFFF\" height=\"40\" id=\"E9\" rx=\"10\" ry=\"10\" style=\"stroke: #383838; stroke-width: 1.5;\" width=\"50\" x=\"117\" y=\"44\"/><rect fill=\"#F8F8F8\" height=\"23.9688\" rx=\"10\" ry=\"10\" style=\"stroke: #F8F8F8; stroke-width: 1.5;\" width=\"50\" x=\"117\" y=\"44\"/><rect fill=\"#F8F8F8\" height=\"10\" style=\"stroke: #F8F8F8; stroke-width: 1.5;\" width=\"50\" x=\"117\" y=\"57.9688\"/><rect fill=\"none\" height=\"40\" id=\"E9\" rx=\"10\" ry=\"10\" style=\"stroke: #383838; stroke-width: 1.5;\" width=\"50\" x=\"117\" y=\"44\"/><text fill=\"#000000\" font-family=\"sans-serif\" font-size=\"12\" lengthAdjust=\"spacingAndGlyphs\" textLength=\"4\" x=\"140\" y=\"60.1387\">f</text></a></g><g id=\"E1.E10\"><a href=\"psysml:7f8b6820-ebe3-4bcd-8be0-e5513e7bb89f\" target=\"_top\" title=\"psysml:7f8b6820-ebe3-4bcd-8be0-e5513e7bb89f\" xlink:actuate=\"onRequest\" xlink:href=\"psysml:7f8b6820-ebe3-4bcd-8be0-e5513e7bb89f\" xlink:show=\"new\" xlink:title=\"psysml:7f8b6820-ebe3-4bcd-8be0-e5513e7bb89f\" xlink:type=\"simple\"><rect fill=\"#FFFFFF\" height=\"40\" id=\"E10\" rx=\"10\" ry=\"10\" style=\"stroke: #383838; stroke-width: 1.5;\" width=\"50\" x=\"32\" y=\"44\"/><rect fill=\"#F8F8F8\" height=\"23.9688\" rx=\"10\" ry=\"10\" style=\"stroke: #F8F8F8; stroke-width: 1.5;\" width=\"50\" x=\"32\" y=\"44\"/><rect fill=\"#F8F8F8\" height=\"10\" style=\"stroke: #F8F8F8; stroke-width: 1.5;\" width=\"50\" x=\"32\" y=\"57.9688\"/><rect fill=\"none\" height=\"40\" id=\"E10\" rx=\"10\" ry=\"10\" style=\"stroke: #383838; stroke-width: 1.5;\" width=\"50\" x=\"32\" y=\"44\"/><text fill=\"#000000\" font-family=\"sans-serif\" font-size=\"12\" lengthAdjust=\"spacingAndGlyphs\" textLength=\"8\" x=\"53\" y=\"60.1387\">g</text></a></g><!--MD5=[fccc6e4fccc0a0d49d33e8e33381a3e9]\n",
       "@startuml\r\n",
       "skinparam ranksep 10\r\n",
       "skinparam rectangle {\r\n",
       " backgroundColor<<block>> LightGreen\r\n",
       "}\r\n",
       "skinparam linetype polyline\r\n",
       "skinparam monochrome true\r\n",
       "skinparam classbackgroundcolor white\r\n",
       "skinparam shadowing false\r\n",
       "skinparam wrapWidth 300\r\n",
       "hide circle\r\n",
       "\r\n",
       "package \"MultiplicityTest\" as E1  [[psysml:437e1e49-e6a3-4f3e-be27-b1e07120749d ]]  {\r\n",
       "rec def \"P\" as E2  <<(T,blue) part  def>> [[psysml:d60dc8a9-ee87-4177-8909-4fd780a9d8f8 ]] {\r\n",
       "}\r\n",
       "comp usage \"n: Integer \" as E3  <<(T,blue) attribute>> [[psysml:a5340f1d-d68a-4585-8f96-7305e6f489d2 ]] {\r\n",
       "}\r\n",
       "rec usage \"a\" as E4  [[psysml:478d9241-8f6e-4034-a71b-67b7ef5acdce ]] {\r\n",
       "}\r\n",
       "rec usage \"b: P\" as E5  [[psysml:bc94da79-c19f-4e44-8720-527e565e90dd ]] {\r\n",
       "}\r\n",
       "rec usage \"c: P\" as E6  [[psysml:619a7e97-bac6-4f1e-8369-8e8a5aa8da71 ]] {\r\n",
       "}\r\n",
       "rec usage \"d\" as E7  [[psysml:baf82fce-ad86-47f7-be04-61d8ab51238a ]] {\r\n",
       "}\r\n",
       "rec usage \"e\" as E8  [[psysml:602edda4-e9f7-4346-9e9a-bc1deb44a144 ]] {\r\n",
       "}\r\n",
       "rec usage \"f\" as E9  [[psysml:ea99d53b-6b01-4b58-853a-79f827c6b1d7 ]] {\r\n",
       "}\r\n",
       "rec usage \"g\" as E10  [[psysml:7f8b6820-ebe3-4bcd-8be0-e5513e7bb89f ]] {\r\n",
       "}\r\n",
       "def \"A\" as E11  <<(T,blue) attribute  def>> [[psysml:b98160f9-962b-4166-b8bf-1b8817b6e181 ]] \r\n",
       "}\r\n",
       "@enduml\r\n",
       "\n",
       "PlantUML version 1.2020.13(Sat Jun 13 12:26:38 UTC 2020)\n",
       "(EPL source distribution)\n",
       "Java Runtime: OpenJDK Runtime Environment\n",
       "JVM: OpenJDK 64-Bit Server VM\n",
       "Default Encoding: UTF-8\n",
       "Language: en\n",
       "Country: null\n",
       "--></g></svg>"
      ]
     },
     "execution_count": 12,
     "metadata": {},
     "output_type": "execute_result"
    }
   ],
   "source": [
    "%viz --style=\"POLYLINE\" --view=\"Interconnection\" \"MultiplicityTest\""
   ]
  },
  {
   "cell_type": "code",
   "execution_count": 13,
   "id": "5dbaae67",
   "metadata": {
    "execution": {
     "iopub.execute_input": "2022-03-03T09:58:29.437384Z",
     "iopub.status.busy": "2022-03-03T09:58:29.436956Z",
     "iopub.status.idle": "2022-03-03T09:58:29.442963Z",
     "shell.execute_reply": "2022-03-03T09:58:29.443306Z"
    }
   },
   "outputs": [
    {
     "data": {
      "image/svg+xml": [
       "<?xml version=\"1.0\" encoding=\"UTF-8\" standalone=\"no\"?><svg xmlns=\"http://www.w3.org/2000/svg\" xmlns:xlink=\"http://www.w3.org/1999/xlink\" contentScriptType=\"application/ecmascript\" contentStyleType=\"text/css\" height=\"12px\" preserveAspectRatio=\"none\" style=\"width:12px;height:12px;\" version=\"1.1\" viewBox=\"0 0 12 12\" width=\"12px\" zoomAndPan=\"magnify\"><defs/><g><!--MD5=[97bbf32f66ccd50cbc40d92ea8f5a65e]\n",
       "@startuml\r\n",
       "skinparam ranksep 8\r\n",
       "skinparam linetype polyline\r\n",
       "skinparam monochrome true\r\n",
       "skinparam classbackgroundcolor white\r\n",
       "skinparam shadowing false\r\n",
       "skinparam wrapWidth 300\r\n",
       "hide circle\r\n",
       "\r\n",
       "@enduml\r\n",
       "\n",
       "PlantUML version 1.2020.13(Sat Jun 13 12:26:38 UTC 2020)\n",
       "(EPL source distribution)\n",
       "Java Runtime: OpenJDK Runtime Environment\n",
       "JVM: OpenJDK 64-Bit Server VM\n",
       "Default Encoding: UTF-8\n",
       "Language: en\n",
       "Country: null\n",
       "--></g></svg>"
      ]
     },
     "execution_count": 13,
     "metadata": {},
     "output_type": "execute_result"
    }
   ],
   "source": [
    "%viz --style=\"POLYLINE\" --view=\"Action\" \"MultiplicityTest\""
   ]
  },
  {
   "cell_type": "code",
   "execution_count": 14,
   "id": "2303bc0b",
   "metadata": {
    "execution": {
     "iopub.execute_input": "2022-03-03T09:58:29.493565Z",
     "iopub.status.busy": "2022-03-03T09:58:29.493149Z",
     "iopub.status.idle": "2022-03-03T09:58:29.499671Z",
     "shell.execute_reply": "2022-03-03T09:58:29.499303Z"
    }
   },
   "outputs": [
    {
     "data": {
      "image/svg+xml": [
       "<?xml version=\"1.0\" encoding=\"UTF-8\" standalone=\"no\"?><svg xmlns=\"http://www.w3.org/2000/svg\" xmlns:xlink=\"http://www.w3.org/1999/xlink\" contentScriptType=\"application/ecmascript\" contentStyleType=\"text/css\" height=\"12px\" preserveAspectRatio=\"none\" style=\"width:12px;height:12px;\" version=\"1.1\" viewBox=\"0 0 12 12\" width=\"12px\" zoomAndPan=\"magnify\"><defs/><g><!--MD5=[dc938048236c351797870c36b62f92ad]\n",
       "@startuml\r\n",
       "skinparam roundcorner 20\r\n",
       "skinparam BoxPadding 20\r\n",
       "skinparam SequenceBoxBackgroundColor #white\r\n",
       "skinparam style strictuml\r\n",
       "skinparam maxMessageSize 100\r\n",
       "skinparam linetype polyline\r\n",
       "skinparam monochrome true\r\n",
       "skinparam classbackgroundcolor white\r\n",
       "skinparam shadowing false\r\n",
       "skinparam wrapWidth 300\r\n",
       "hide circle\r\n",
       "\r\n",
       "@enduml\r\n",
       "\n",
       "PlantUML version 1.2020.13(Sat Jun 13 12:26:38 UTC 2020)\n",
       "(EPL source distribution)\n",
       "Java Runtime: OpenJDK Runtime Environment\n",
       "JVM: OpenJDK 64-Bit Server VM\n",
       "Default Encoding: UTF-8\n",
       "Language: en\n",
       "Country: null\n",
       "--></g></svg>"
      ]
     },
     "execution_count": 14,
     "metadata": {},
     "output_type": "execute_result"
    }
   ],
   "source": [
    "%viz --style=\"POLYLINE\" --view=\"Sequence\" \"MultiplicityTest\""
   ]
  },
  {
   "cell_type": "code",
   "execution_count": 15,
   "id": "7e06a422",
   "metadata": {
    "execution": {
     "iopub.execute_input": "2022-03-03T09:58:29.549463Z",
     "iopub.status.busy": "2022-03-03T09:58:29.549033Z",
     "iopub.status.idle": "2022-03-03T09:58:29.613455Z",
     "shell.execute_reply": "2022-03-03T09:58:29.613080Z"
    }
   },
   "outputs": [
    {
     "data": {
      "image/svg+xml": [
       "<?xml version=\"1.0\" encoding=\"UTF-8\" standalone=\"no\"?><svg xmlns=\"http://www.w3.org/2000/svg\" xmlns:xlink=\"http://www.w3.org/1999/xlink\" contentScriptType=\"application/ecmascript\" contentStyleType=\"text/css\" height=\"263px\" preserveAspectRatio=\"none\" style=\"width:816px;height:263px;\" version=\"1.1\" viewBox=\"0 0 816 263\" width=\"816px\" zoomAndPan=\"magnify\"><defs/><g><!--MD5=[fbc87193dbaf4d95561dea2c320d4a47]\n",
       "cluster E1--><a href=\"psysml:437e1e49-e6a3-4f3e-be27-b1e07120749d\" target=\"_top\" title=\"psysml:437e1e49-e6a3-4f3e-be27-b1e07120749d\" xlink:actuate=\"onRequest\" xlink:href=\"psysml:437e1e49-e6a3-4f3e-be27-b1e07120749d\" xlink:show=\"new\" xlink:title=\"psysml:437e1e49-e6a3-4f3e-be27-b1e07120749d\" xlink:type=\"simple\"><polygon fill=\"#FFFFFF\" points=\"16,6,123,6,130,28.2969,794,28.2969,794,251,16,251,16,6\" style=\"stroke: #000000; stroke-width: 1.5;\"/><line style=\"stroke: #000000; stroke-width: 1.5;\" x1=\"16\" x2=\"130\" y1=\"28.2969\" y2=\"28.2969\"/><text fill=\"#000000\" font-family=\"sans-serif\" font-size=\"14\" font-weight=\"bold\" lengthAdjust=\"spacingAndGlyphs\" textLength=\"101\" x=\"20\" y=\"20.9951\">MultiplicityTest</text></a><!--MD5=[b4997ac47864f28c2f74865a473b2911]\n",
       "class E2--><a href=\"psysml:d60dc8a9-ee87-4177-8909-4fd780a9d8f8\" target=\"_top\" title=\"psysml:d60dc8a9-ee87-4177-8909-4fd780a9d8f8\" xlink:actuate=\"onRequest\" xlink:href=\"psysml:d60dc8a9-ee87-4177-8909-4fd780a9d8f8\" xlink:show=\"new\" xlink:title=\"psysml:d60dc8a9-ee87-4177-8909-4fd780a9d8f8\" xlink:type=\"simple\"><rect fill=\"#FFFFFF\" height=\"45.9375\" id=\"E2\" style=\"stroke: #383838; stroke-width: 1.5;\" width=\"70\" x=\"499\" y=\"189\"/><text fill=\"#000000\" font-family=\"sans-serif\" font-size=\"12\" font-style=\"italic\" lengthAdjust=\"spacingAndGlyphs\" textLength=\"68\" x=\"500\" y=\"205.1387\">«part  def»</text><text fill=\"#000000\" font-family=\"sans-serif\" font-size=\"12\" lengthAdjust=\"spacingAndGlyphs\" textLength=\"8\" x=\"530\" y=\"219.1074\">P</text><line style=\"stroke: #383838; stroke-width: 1.5;\" x1=\"500\" x2=\"568\" y1=\"226.9375\" y2=\"226.9375\"/></a><!--MD5=[09b614a08d8cba4a07c9adeb5e0fee81]\n",
       "class E3--><a href=\"psysml:a5340f1d-d68a-4585-8f96-7305e6f489d2\" target=\"_top\" title=\"psysml:a5340f1d-d68a-4585-8f96-7305e6f489d2\" xlink:actuate=\"onRequest\" xlink:href=\"psysml:a5340f1d-d68a-4585-8f96-7305e6f489d2\" xlink:show=\"new\" xlink:title=\"psysml:a5340f1d-d68a-4585-8f96-7305e6f489d2\" xlink:type=\"simple\"><rect fill=\"#FFFFFF\" height=\"45.9375\" id=\"E3\" rx=\"10\" ry=\"10\" style=\"stroke: #383838; stroke-width: 1.5;\" width=\"71\" x=\"706.5\" y=\"62\"/><text fill=\"#000000\" font-family=\"sans-serif\" font-size=\"12\" font-style=\"italic\" lengthAdjust=\"spacingAndGlyphs\" textLength=\"69\" x=\"707.5\" y=\"78.1387\">«attribute»</text><text fill=\"#000000\" font-family=\"sans-serif\" font-size=\"12\" lengthAdjust=\"spacingAndGlyphs\" textLength=\"61\" x=\"709.5\" y=\"92.1074\">n: Integer</text><line style=\"stroke: #383838; stroke-width: 1.5;\" x1=\"707.5\" x2=\"776.5\" y1=\"99.9375\" y2=\"99.9375\"/></a><!--MD5=[ebbe1d658d1005bcc118a6aa81145e00]\n",
       "class E4--><a href=\"psysml:478d9241-8f6e-4034-a71b-67b7ef5acdce\" target=\"_top\" title=\"psysml:478d9241-8f6e-4034-a71b-67b7ef5acdce\" xlink:actuate=\"onRequest\" xlink:href=\"psysml:478d9241-8f6e-4034-a71b-67b7ef5acdce\" xlink:show=\"new\" xlink:title=\"psysml:478d9241-8f6e-4034-a71b-67b7ef5acdce\" xlink:type=\"simple\"><rect fill=\"#FFFFFF\" height=\"45.9375\" id=\"E4\" rx=\"10\" ry=\"10\" style=\"stroke: #383838; stroke-width: 1.5;\" width=\"42\" x=\"629\" y=\"62\"/><text fill=\"#000000\" font-family=\"sans-serif\" font-size=\"12\" font-style=\"italic\" lengthAdjust=\"spacingAndGlyphs\" textLength=\"40\" x=\"630\" y=\"78.1387\">«part»</text><text fill=\"#000000\" font-family=\"sans-serif\" font-size=\"12\" lengthAdjust=\"spacingAndGlyphs\" textLength=\"8\" x=\"644\" y=\"92.1074\">a</text><line style=\"stroke: #383838; stroke-width: 1.5;\" x1=\"630\" x2=\"670\" y1=\"99.9375\" y2=\"99.9375\"/></a><!--MD5=[270fce915f116d4de14055a7c1d9a0f3]\n",
       "class E5--><a href=\"psysml:bc94da79-c19f-4e44-8720-527e565e90dd\" target=\"_top\" title=\"psysml:bc94da79-c19f-4e44-8720-527e565e90dd\" xlink:actuate=\"onRequest\" xlink:href=\"psysml:bc94da79-c19f-4e44-8720-527e565e90dd\" xlink:show=\"new\" xlink:title=\"psysml:bc94da79-c19f-4e44-8720-527e565e90dd\" xlink:type=\"simple\"><rect fill=\"#FFFFFF\" height=\"45.9375\" id=\"E5\" rx=\"10\" ry=\"10\" style=\"stroke: #383838; stroke-width: 1.5;\" width=\"42\" x=\"552\" y=\"62\"/><text fill=\"#000000\" font-family=\"sans-serif\" font-size=\"12\" font-style=\"italic\" lengthAdjust=\"spacingAndGlyphs\" textLength=\"40\" x=\"553\" y=\"78.1387\">«part»</text><text fill=\"#000000\" font-family=\"sans-serif\" font-size=\"12\" lengthAdjust=\"spacingAndGlyphs\" textLength=\"24\" x=\"559\" y=\"92.1074\">b: P</text><line style=\"stroke: #383838; stroke-width: 1.5;\" x1=\"553\" x2=\"593\" y1=\"99.9375\" y2=\"99.9375\"/></a><!--MD5=[60a26617385b1d2d0262a64233df1f8d]\n",
       "class E6--><a href=\"psysml:619a7e97-bac6-4f1e-8369-8e8a5aa8da71\" target=\"_top\" title=\"psysml:619a7e97-bac6-4f1e-8369-8e8a5aa8da71\" xlink:actuate=\"onRequest\" xlink:href=\"psysml:619a7e97-bac6-4f1e-8369-8e8a5aa8da71\" xlink:show=\"new\" xlink:title=\"psysml:619a7e97-bac6-4f1e-8369-8e8a5aa8da71\" xlink:type=\"simple\"><rect fill=\"#FFFFFF\" height=\"45.9375\" id=\"E6\" rx=\"10\" ry=\"10\" style=\"stroke: #383838; stroke-width: 1.5;\" width=\"42\" x=\"475\" y=\"62\"/><text fill=\"#000000\" font-family=\"sans-serif\" font-size=\"12\" font-style=\"italic\" lengthAdjust=\"spacingAndGlyphs\" textLength=\"40\" x=\"476\" y=\"78.1387\">«part»</text><text fill=\"#000000\" font-family=\"sans-serif\" font-size=\"12\" lengthAdjust=\"spacingAndGlyphs\" textLength=\"23\" x=\"482.5\" y=\"92.1074\">c: P</text><line style=\"stroke: #383838; stroke-width: 1.5;\" x1=\"476\" x2=\"516\" y1=\"99.9375\" y2=\"99.9375\"/></a><!--MD5=[2156ba9850f5573cc1fc38a6a4b2f02b]\n",
       "class E7--><a href=\"psysml:baf82fce-ad86-47f7-be04-61d8ab51238a\" target=\"_top\" title=\"psysml:baf82fce-ad86-47f7-be04-61d8ab51238a\" xlink:actuate=\"onRequest\" xlink:href=\"psysml:baf82fce-ad86-47f7-be04-61d8ab51238a\" xlink:show=\"new\" xlink:title=\"psysml:baf82fce-ad86-47f7-be04-61d8ab51238a\" xlink:type=\"simple\"><rect fill=\"#FFFFFF\" height=\"45.9375\" id=\"E7\" rx=\"10\" ry=\"10\" style=\"stroke: #383838; stroke-width: 1.5;\" width=\"42\" x=\"398\" y=\"62\"/><text fill=\"#000000\" font-family=\"sans-serif\" font-size=\"12\" font-style=\"italic\" lengthAdjust=\"spacingAndGlyphs\" textLength=\"40\" x=\"399\" y=\"78.1387\">«part»</text><text fill=\"#000000\" font-family=\"sans-serif\" font-size=\"12\" lengthAdjust=\"spacingAndGlyphs\" textLength=\"8\" x=\"413\" y=\"92.1074\">d</text><line style=\"stroke: #383838; stroke-width: 1.5;\" x1=\"399\" x2=\"439\" y1=\"99.9375\" y2=\"99.9375\"/></a><!--MD5=[b9389687b975829384b498ac4b7476b2]\n",
       "class E8--><a href=\"psysml:602edda4-e9f7-4346-9e9a-bc1deb44a144\" target=\"_top\" title=\"psysml:602edda4-e9f7-4346-9e9a-bc1deb44a144\" xlink:actuate=\"onRequest\" xlink:href=\"psysml:602edda4-e9f7-4346-9e9a-bc1deb44a144\" xlink:show=\"new\" xlink:title=\"psysml:602edda4-e9f7-4346-9e9a-bc1deb44a144\" xlink:type=\"simple\"><rect fill=\"#FFFFFF\" height=\"45.9375\" id=\"E8\" rx=\"10\" ry=\"10\" style=\"stroke: #383838; stroke-width: 1.5;\" width=\"42\" x=\"321\" y=\"62\"/><text fill=\"#000000\" font-family=\"sans-serif\" font-size=\"12\" font-style=\"italic\" lengthAdjust=\"spacingAndGlyphs\" textLength=\"40\" x=\"322\" y=\"78.1387\">«part»</text><text fill=\"#000000\" font-family=\"sans-serif\" font-size=\"12\" lengthAdjust=\"spacingAndGlyphs\" textLength=\"8\" x=\"336\" y=\"92.1074\">e</text><line style=\"stroke: #383838; stroke-width: 1.5;\" x1=\"322\" x2=\"362\" y1=\"99.9375\" y2=\"99.9375\"/></a><!--MD5=[fd4143e9d270a159db93a4ea2a975926]\n",
       "class E9--><a href=\"psysml:ea99d53b-6b01-4b58-853a-79f827c6b1d7\" target=\"_top\" title=\"psysml:ea99d53b-6b01-4b58-853a-79f827c6b1d7\" xlink:actuate=\"onRequest\" xlink:href=\"psysml:ea99d53b-6b01-4b58-853a-79f827c6b1d7\" xlink:show=\"new\" xlink:title=\"psysml:ea99d53b-6b01-4b58-853a-79f827c6b1d7\" xlink:type=\"simple\"><rect fill=\"#FFFFFF\" height=\"45.9375\" id=\"E9\" rx=\"10\" ry=\"10\" style=\"stroke: #383838; stroke-width: 1.5;\" width=\"42\" x=\"244\" y=\"62\"/><text fill=\"#000000\" font-family=\"sans-serif\" font-size=\"12\" font-style=\"italic\" lengthAdjust=\"spacingAndGlyphs\" textLength=\"40\" x=\"245\" y=\"78.1387\">«part»</text><text fill=\"#000000\" font-family=\"sans-serif\" font-size=\"12\" lengthAdjust=\"spacingAndGlyphs\" textLength=\"4\" x=\"261\" y=\"92.1074\">f</text><line style=\"stroke: #383838; stroke-width: 1.5;\" x1=\"245\" x2=\"285\" y1=\"99.9375\" y2=\"99.9375\"/></a><!--MD5=[96f4274e9e20536e775497830990834d]\n",
       "class E10--><a href=\"psysml:7f8b6820-ebe3-4bcd-8be0-e5513e7bb89f\" target=\"_top\" title=\"psysml:7f8b6820-ebe3-4bcd-8be0-e5513e7bb89f\" xlink:actuate=\"onRequest\" xlink:href=\"psysml:7f8b6820-ebe3-4bcd-8be0-e5513e7bb89f\" xlink:show=\"new\" xlink:title=\"psysml:7f8b6820-ebe3-4bcd-8be0-e5513e7bb89f\" xlink:type=\"simple\"><rect fill=\"#FFFFFF\" height=\"45.9375\" id=\"E10\" rx=\"10\" ry=\"10\" style=\"stroke: #383838; stroke-width: 1.5;\" width=\"42\" x=\"167\" y=\"62\"/><text fill=\"#000000\" font-family=\"sans-serif\" font-size=\"12\" font-style=\"italic\" lengthAdjust=\"spacingAndGlyphs\" textLength=\"40\" x=\"168\" y=\"78.1387\">«part»</text><text fill=\"#000000\" font-family=\"sans-serif\" font-size=\"12\" lengthAdjust=\"spacingAndGlyphs\" textLength=\"8\" x=\"182\" y=\"92.1074\">g</text><line style=\"stroke: #383838; stroke-width: 1.5;\" x1=\"168\" x2=\"208\" y1=\"99.9375\" y2=\"99.9375\"/></a><!--MD5=[1dd1bfd58a279cf63c5f349dbc8fc6a1]\n",
       "class E11--><a href=\"psysml:b98160f9-962b-4166-b8bf-1b8817b6e181\" target=\"_top\" title=\"psysml:b98160f9-962b-4166-b8bf-1b8817b6e181\" xlink:actuate=\"onRequest\" xlink:href=\"psysml:b98160f9-962b-4166-b8bf-1b8817b6e181\" xlink:show=\"new\" xlink:title=\"psysml:b98160f9-962b-4166-b8bf-1b8817b6e181\" xlink:type=\"simple\"><rect fill=\"#FFFFFF\" height=\"88.3516\" id=\"E11\" style=\"stroke: #383838; stroke-width: 1.5;\" width=\"99\" x=\"32.5\" y=\"41\"/><text fill=\"#000000\" font-family=\"sans-serif\" font-size=\"12\" font-style=\"italic\" lengthAdjust=\"spacingAndGlyphs\" textLength=\"97\" x=\"33.5\" y=\"57.1387\">«attribute  def»</text><text fill=\"#000000\" font-family=\"sans-serif\" font-size=\"12\" lengthAdjust=\"spacingAndGlyphs\" textLength=\"8\" x=\"78\" y=\"71.1074\">A</text><line style=\"stroke: #383838; stroke-width: 1.5;\" x1=\"33.5\" x2=\"130.5\" y1=\"78.9375\" y2=\"78.9375\"/><text fill=\"#000000\" font-family=\"sans-serif\" font-size=\"11\" lengthAdjust=\"spacingAndGlyphs\" textLength=\"51\" x=\"38.5\" y=\"109.9526\">i: Integer</text><text fill=\"#000000\" font-family=\"sans-serif\" font-size=\"11\" lengthAdjust=\"spacingAndGlyphs\" textLength=\"21\" x=\"38.5\" y=\"122.7573\">x: A</text><line style=\"stroke: #383838; stroke-width: 1.0;\" x1=\"33.5\" x2=\"54.5\" y1=\"93.3398\" y2=\"93.3398\"/><text fill=\"#000000\" font-family=\"sans-serif\" font-size=\"11\" lengthAdjust=\"spacingAndGlyphs\" textLength=\"55\" x=\"54.5\" y=\"96.6479\">attributes</text><line style=\"stroke: #383838; stroke-width: 1.0;\" x1=\"109.5\" x2=\"130.5\" y1=\"93.3398\" y2=\"93.3398\"/></a><!--MD5=[15ebcb19ae302d9b601edb458606d402]\n",
       "link E5 to E2--><a href=\"psysml:f465fece-be6c-4a0b-8b87-5b67ed75d8f8\" target=\"_top\" title=\"psysml:f465fece-be6c-4a0b-8b87-5b67ed75d8f8\" xlink:actuate=\"onRequest\" xlink:href=\"psysml:f465fece-be6c-4a0b-8b87-5b67ed75d8f8\" xlink:show=\"new\" xlink:title=\"psysml:f465fece-be6c-4a0b-8b87-5b67ed75d8f8\" xlink:type=\"simple\"><path d=\"M566.12,108.06 C560.83,125 553.38,148.89 546.98,169.39 \" fill=\"none\" id=\"E5-&gt;E2\" style=\"stroke: #383838; stroke-width: 1.0;\"/><polygon fill=\"#FFFFFF\" points=\"540.95,188.74,539.929,168.5173,553.2931,172.6886,540.95,188.74\" style=\"stroke: #383838; stroke-width: 1.0;\"/><ellipse cx=\"543.5364\" cy=\"163.6721\" fill=\"#383838\" rx=\"2\" ry=\"2\" style=\"stroke: #383838; stroke-width: 1.0;\"/><ellipse cx=\"553.0823\" cy=\"166.6516\" fill=\"#383838\" rx=\"2\" ry=\"2\" style=\"stroke: #383838; stroke-width: 1.0;\"/></a><!--MD5=[2351f337d6de0f557b50152ba70847b5]\n",
       "link E6 to E2--><a href=\"psysml:72e02ffe-11ce-46be-a503-0c91c54548ee\" target=\"_top\" title=\"psysml:72e02ffe-11ce-46be-a503-0c91c54548ee\" xlink:actuate=\"onRequest\" xlink:href=\"psysml:72e02ffe-11ce-46be-a503-0c91c54548ee\" xlink:show=\"new\" xlink:title=\"psysml:72e02ffe-11ce-46be-a503-0c91c54548ee\" xlink:type=\"simple\"><path d=\"M502.71,108.06 C507.86,125 515.12,148.89 521.35,169.39 \" fill=\"none\" id=\"E6-&gt;E2\" style=\"stroke: #383838; stroke-width: 1.0;\"/><polygon fill=\"#FFFFFF\" points=\"527.23,188.74,515.007,172.597,528.4019,168.5255,527.23,188.74\" style=\"stroke: #383838; stroke-width: 1.0;\"/><ellipse cx=\"515.2628\" cy=\"166.5617\" fill=\"#383838\" rx=\"2\" ry=\"2\" style=\"stroke: #383838; stroke-width: 1.0;\"/><ellipse cx=\"524.8306\" cy=\"163.6535\" fill=\"#383838\" rx=\"2\" ry=\"2\" style=\"stroke: #383838; stroke-width: 1.0;\"/></a><!--MD5=[abd3ea2d07bde7d7b7d4a3e2e8150d46]\n",
       "@startuml\r\n",
       "skinparam linetype polyline\r\n",
       "skinparam monochrome true\r\n",
       "skinparam classbackgroundcolor white\r\n",
       "skinparam shadowing false\r\n",
       "skinparam wrapWidth 300\r\n",
       "hide circle\r\n",
       "\r\n",
       "package \"MultiplicityTest\" as E1  [[psysml:437e1e49-e6a3-4f3e-be27-b1e07120749d ]]  {\r\n",
       "comp def \"P\" as E2  <<(T,blue) part  def>> [[psysml:d60dc8a9-ee87-4177-8909-4fd780a9d8f8 ]] {\r\n",
       "}\r\n",
       "comp usage \"n: Integer \" as E3  <<(T,blue) attribute>> [[psysml:a5340f1d-d68a-4585-8f96-7305e6f489d2 ]] {\r\n",
       "}\r\n",
       "comp usage \"a \" as E4  <<(T,blue) part>> [[psysml:478d9241-8f6e-4034-a71b-67b7ef5acdce ]] {\r\n",
       "}\r\n",
       "comp usage \"b: P \" as E5  <<(T,blue) part>> [[psysml:bc94da79-c19f-4e44-8720-527e565e90dd ]] {\r\n",
       "}\r\n",
       "comp usage \"c: P \" as E6  <<(T,blue) part>> [[psysml:619a7e97-bac6-4f1e-8369-8e8a5aa8da71 ]] {\r\n",
       "}\r\n",
       "comp usage \"d \" as E7  <<(T,blue) part>> [[psysml:baf82fce-ad86-47f7-be04-61d8ab51238a ]] {\r\n",
       "}\r\n",
       "comp usage \"e \" as E8  <<(T,blue) part>> [[psysml:602edda4-e9f7-4346-9e9a-bc1deb44a144 ]] {\r\n",
       "}\r\n",
       "comp usage \"f \" as E9  <<(T,blue) part>> [[psysml:ea99d53b-6b01-4b58-853a-79f827c6b1d7 ]] {\r\n",
       "}\r\n",
       "comp usage \"g \" as E10  <<(T,blue) part>> [[psysml:7f8b6820-ebe3-4bcd-8be0-e5513e7bb89f ]] {\r\n",
       "}\r\n",
       "comp def \"A\" as E11  <<(T,blue) attribute  def>> [[psysml:b98160f9-962b-4166-b8bf-1b8817b6e181 ]] {\r\n",
       "- - attributes - -\r\n",
       "i: Integer\r\n",
       "x: A\r\n",
       "}\r\n",
       "}\r\n",
       "E5 - -:|> E2 [[psysml:f465fece-be6c-4a0b-8b87-5b67ed75d8f8 ]] \r\n",
       "E6 - -:|> E2 [[psysml:72e02ffe-11ce-46be-a503-0c91c54548ee ]] \r\n",
       "@enduml\r\n",
       "\n",
       "PlantUML version 1.2020.13(Sat Jun 13 12:26:38 UTC 2020)\n",
       "(EPL source distribution)\n",
       "Java Runtime: OpenJDK Runtime Environment\n",
       "JVM: OpenJDK 64-Bit Server VM\n",
       "Default Encoding: UTF-8\n",
       "Language: en\n",
       "Country: null\n",
       "--></g></svg>"
      ]
     },
     "execution_count": 15,
     "metadata": {},
     "output_type": "execute_result"
    }
   ],
   "source": [
    "%viz --style=\"POLYLINE\" --view=\"MIXED\" \"MultiplicityTest\""
   ]
  },
  {
   "cell_type": "code",
   "execution_count": 16,
   "id": "beebdd1c",
   "metadata": {
    "execution": {
     "iopub.execute_input": "2022-03-03T09:58:29.663446Z",
     "iopub.status.busy": "2022-03-03T09:58:29.662919Z",
     "iopub.status.idle": "2022-03-03T09:58:29.732967Z",
     "shell.execute_reply": "2022-03-03T09:58:29.730969Z"
    }
   },
   "outputs": [
    {
     "data": {
      "image/svg+xml": [
       "<?xml version=\"1.0\" encoding=\"UTF-8\" standalone=\"no\"?><svg xmlns=\"http://www.w3.org/2000/svg\" xmlns:xlink=\"http://www.w3.org/1999/xlink\" contentScriptType=\"application/ecmascript\" contentStyleType=\"text/css\" height=\"805px\" preserveAspectRatio=\"none\" style=\"width:299px;height:805px;\" version=\"1.1\" viewBox=\"0 0 299 805\" width=\"299px\" zoomAndPan=\"magnify\"><defs/><g><!--MD5=[fbc87193dbaf4d95561dea2c320d4a47]\n",
       "cluster E1--><a href=\"psysml:437e1e49-e6a3-4f3e-be27-b1e07120749d\" target=\"_top\" title=\"psysml:437e1e49-e6a3-4f3e-be27-b1e07120749d\" xlink:actuate=\"onRequest\" xlink:href=\"psysml:437e1e49-e6a3-4f3e-be27-b1e07120749d\" xlink:show=\"new\" xlink:title=\"psysml:437e1e49-e6a3-4f3e-be27-b1e07120749d\" xlink:type=\"simple\"><polygon fill=\"#FFFFFF\" points=\"16,6,123,6,130,28.2969,277,28.2969,277,793,16,793,16,6\" style=\"stroke: #000000; stroke-width: 1.5;\"/><line style=\"stroke: #000000; stroke-width: 1.5;\" x1=\"16\" x2=\"130\" y1=\"28.2969\" y2=\"28.2969\"/><text fill=\"#000000\" font-family=\"sans-serif\" font-size=\"14\" font-weight=\"bold\" lengthAdjust=\"spacingAndGlyphs\" textLength=\"101\" x=\"20\" y=\"20.9951\">MultiplicityTest</text></a><!--MD5=[b4997ac47864f28c2f74865a473b2911]\n",
       "class E2--><a href=\"psysml:d60dc8a9-ee87-4177-8909-4fd780a9d8f8\" target=\"_top\" title=\"psysml:d60dc8a9-ee87-4177-8909-4fd780a9d8f8\" xlink:actuate=\"onRequest\" xlink:href=\"psysml:d60dc8a9-ee87-4177-8909-4fd780a9d8f8\" xlink:show=\"new\" xlink:title=\"psysml:d60dc8a9-ee87-4177-8909-4fd780a9d8f8\" xlink:type=\"simple\"><rect fill=\"#FFFFFF\" height=\"45.9375\" id=\"E2\" style=\"stroke: #383838; stroke-width: 1.5;\" width=\"70\" x=\"191\" y=\"244\"/><text fill=\"#000000\" font-family=\"sans-serif\" font-size=\"12\" font-style=\"italic\" lengthAdjust=\"spacingAndGlyphs\" textLength=\"68\" x=\"192\" y=\"260.1387\">«part  def»</text><text fill=\"#000000\" font-family=\"sans-serif\" font-size=\"12\" lengthAdjust=\"spacingAndGlyphs\" textLength=\"8\" x=\"222\" y=\"274.1074\">P</text><line style=\"stroke: #383838; stroke-width: 1.5;\" x1=\"192\" x2=\"260\" y1=\"281.9375\" y2=\"281.9375\"/></a><!--MD5=[09b614a08d8cba4a07c9adeb5e0fee81]\n",
       "class E3--><a href=\"psysml:a5340f1d-d68a-4585-8f96-7305e6f489d2\" target=\"_top\" title=\"psysml:a5340f1d-d68a-4585-8f96-7305e6f489d2\" xlink:actuate=\"onRequest\" xlink:href=\"psysml:a5340f1d-d68a-4585-8f96-7305e6f489d2\" xlink:show=\"new\" xlink:title=\"psysml:a5340f1d-d68a-4585-8f96-7305e6f489d2\" xlink:type=\"simple\"><rect fill=\"#FFFFFF\" height=\"45.9375\" id=\"E3\" rx=\"10\" ry=\"10\" style=\"stroke: #383838; stroke-width: 1.5;\" width=\"71\" x=\"46\" y=\"41\"/><text fill=\"#000000\" font-family=\"sans-serif\" font-size=\"12\" font-style=\"italic\" lengthAdjust=\"spacingAndGlyphs\" textLength=\"69\" x=\"47\" y=\"57.1387\">«attribute»</text><text fill=\"#000000\" font-family=\"sans-serif\" font-size=\"12\" lengthAdjust=\"spacingAndGlyphs\" textLength=\"61\" x=\"49\" y=\"71.1074\">n: Integer</text><line style=\"stroke: #383838; stroke-width: 1.5;\" x1=\"47\" x2=\"116\" y1=\"78.9375\" y2=\"78.9375\"/></a><!--MD5=[ebbe1d658d1005bcc118a6aa81145e00]\n",
       "class E4--><a href=\"psysml:478d9241-8f6e-4034-a71b-67b7ef5acdce\" target=\"_top\" title=\"psysml:478d9241-8f6e-4034-a71b-67b7ef5acdce\" xlink:actuate=\"onRequest\" xlink:href=\"psysml:478d9241-8f6e-4034-a71b-67b7ef5acdce\" xlink:show=\"new\" xlink:title=\"psysml:478d9241-8f6e-4034-a71b-67b7ef5acdce\" xlink:type=\"simple\"><rect fill=\"#FFFFFF\" height=\"45.9375\" id=\"E4\" rx=\"10\" ry=\"10\" style=\"stroke: #383838; stroke-width: 1.5;\" width=\"42\" x=\"60.5\" y=\"122\"/><text fill=\"#000000\" font-family=\"sans-serif\" font-size=\"12\" font-style=\"italic\" lengthAdjust=\"spacingAndGlyphs\" textLength=\"40\" x=\"61.5\" y=\"138.1387\">«part»</text><text fill=\"#000000\" font-family=\"sans-serif\" font-size=\"12\" lengthAdjust=\"spacingAndGlyphs\" textLength=\"8\" x=\"75.5\" y=\"152.1074\">a</text><line style=\"stroke: #383838; stroke-width: 1.5;\" x1=\"61.5\" x2=\"101.5\" y1=\"159.9375\" y2=\"159.9375\"/></a><!--MD5=[270fce915f116d4de14055a7c1d9a0f3]\n",
       "class E5--><a href=\"psysml:bc94da79-c19f-4e44-8720-527e565e90dd\" target=\"_top\" title=\"psysml:bc94da79-c19f-4e44-8720-527e565e90dd\" xlink:actuate=\"onRequest\" xlink:href=\"psysml:bc94da79-c19f-4e44-8720-527e565e90dd\" xlink:show=\"new\" xlink:title=\"psysml:bc94da79-c19f-4e44-8720-527e565e90dd\" xlink:type=\"simple\"><rect fill=\"#FFFFFF\" height=\"45.9375\" id=\"E5\" rx=\"10\" ry=\"10\" style=\"stroke: #383838; stroke-width: 1.5;\" width=\"42\" x=\"60.5\" y=\"203\"/><text fill=\"#000000\" font-family=\"sans-serif\" font-size=\"12\" font-style=\"italic\" lengthAdjust=\"spacingAndGlyphs\" textLength=\"40\" x=\"61.5\" y=\"219.1387\">«part»</text><text fill=\"#000000\" font-family=\"sans-serif\" font-size=\"12\" lengthAdjust=\"spacingAndGlyphs\" textLength=\"24\" x=\"67.5\" y=\"233.1074\">b: P</text><line style=\"stroke: #383838; stroke-width: 1.5;\" x1=\"61.5\" x2=\"101.5\" y1=\"240.9375\" y2=\"240.9375\"/></a><!--MD5=[60a26617385b1d2d0262a64233df1f8d]\n",
       "class E6--><a href=\"psysml:619a7e97-bac6-4f1e-8369-8e8a5aa8da71\" target=\"_top\" title=\"psysml:619a7e97-bac6-4f1e-8369-8e8a5aa8da71\" xlink:actuate=\"onRequest\" xlink:href=\"psysml:619a7e97-bac6-4f1e-8369-8e8a5aa8da71\" xlink:show=\"new\" xlink:title=\"psysml:619a7e97-bac6-4f1e-8369-8e8a5aa8da71\" xlink:type=\"simple\"><rect fill=\"#FFFFFF\" height=\"45.9375\" id=\"E6\" rx=\"10\" ry=\"10\" style=\"stroke: #383838; stroke-width: 1.5;\" width=\"42\" x=\"60.5\" y=\"284\"/><text fill=\"#000000\" font-family=\"sans-serif\" font-size=\"12\" font-style=\"italic\" lengthAdjust=\"spacingAndGlyphs\" textLength=\"40\" x=\"61.5\" y=\"300.1387\">«part»</text><text fill=\"#000000\" font-family=\"sans-serif\" font-size=\"12\" lengthAdjust=\"spacingAndGlyphs\" textLength=\"23\" x=\"68\" y=\"314.1074\">c: P</text><line style=\"stroke: #383838; stroke-width: 1.5;\" x1=\"61.5\" x2=\"101.5\" y1=\"321.9375\" y2=\"321.9375\"/></a><!--MD5=[2156ba9850f5573cc1fc38a6a4b2f02b]\n",
       "class E7--><a href=\"psysml:baf82fce-ad86-47f7-be04-61d8ab51238a\" target=\"_top\" title=\"psysml:baf82fce-ad86-47f7-be04-61d8ab51238a\" xlink:actuate=\"onRequest\" xlink:href=\"psysml:baf82fce-ad86-47f7-be04-61d8ab51238a\" xlink:show=\"new\" xlink:title=\"psysml:baf82fce-ad86-47f7-be04-61d8ab51238a\" xlink:type=\"simple\"><rect fill=\"#FFFFFF\" height=\"45.9375\" id=\"E7\" rx=\"10\" ry=\"10\" style=\"stroke: #383838; stroke-width: 1.5;\" width=\"42\" x=\"60.5\" y=\"365\"/><text fill=\"#000000\" font-family=\"sans-serif\" font-size=\"12\" font-style=\"italic\" lengthAdjust=\"spacingAndGlyphs\" textLength=\"40\" x=\"61.5\" y=\"381.1387\">«part»</text><text fill=\"#000000\" font-family=\"sans-serif\" font-size=\"12\" lengthAdjust=\"spacingAndGlyphs\" textLength=\"8\" x=\"75.5\" y=\"395.1074\">d</text><line style=\"stroke: #383838; stroke-width: 1.5;\" x1=\"61.5\" x2=\"101.5\" y1=\"402.9375\" y2=\"402.9375\"/></a><!--MD5=[b9389687b975829384b498ac4b7476b2]\n",
       "class E8--><a href=\"psysml:602edda4-e9f7-4346-9e9a-bc1deb44a144\" target=\"_top\" title=\"psysml:602edda4-e9f7-4346-9e9a-bc1deb44a144\" xlink:actuate=\"onRequest\" xlink:href=\"psysml:602edda4-e9f7-4346-9e9a-bc1deb44a144\" xlink:show=\"new\" xlink:title=\"psysml:602edda4-e9f7-4346-9e9a-bc1deb44a144\" xlink:type=\"simple\"><rect fill=\"#FFFFFF\" height=\"45.9375\" id=\"E8\" rx=\"10\" ry=\"10\" style=\"stroke: #383838; stroke-width: 1.5;\" width=\"42\" x=\"60.5\" y=\"446\"/><text fill=\"#000000\" font-family=\"sans-serif\" font-size=\"12\" font-style=\"italic\" lengthAdjust=\"spacingAndGlyphs\" textLength=\"40\" x=\"61.5\" y=\"462.1387\">«part»</text><text fill=\"#000000\" font-family=\"sans-serif\" font-size=\"12\" lengthAdjust=\"spacingAndGlyphs\" textLength=\"8\" x=\"75.5\" y=\"476.1074\">e</text><line style=\"stroke: #383838; stroke-width: 1.5;\" x1=\"61.5\" x2=\"101.5\" y1=\"483.9375\" y2=\"483.9375\"/></a><!--MD5=[fd4143e9d270a159db93a4ea2a975926]\n",
       "class E9--><a href=\"psysml:ea99d53b-6b01-4b58-853a-79f827c6b1d7\" target=\"_top\" title=\"psysml:ea99d53b-6b01-4b58-853a-79f827c6b1d7\" xlink:actuate=\"onRequest\" xlink:href=\"psysml:ea99d53b-6b01-4b58-853a-79f827c6b1d7\" xlink:show=\"new\" xlink:title=\"psysml:ea99d53b-6b01-4b58-853a-79f827c6b1d7\" xlink:type=\"simple\"><rect fill=\"#FFFFFF\" height=\"45.9375\" id=\"E9\" rx=\"10\" ry=\"10\" style=\"stroke: #383838; stroke-width: 1.5;\" width=\"42\" x=\"60.5\" y=\"527\"/><text fill=\"#000000\" font-family=\"sans-serif\" font-size=\"12\" font-style=\"italic\" lengthAdjust=\"spacingAndGlyphs\" textLength=\"40\" x=\"61.5\" y=\"543.1387\">«part»</text><text fill=\"#000000\" font-family=\"sans-serif\" font-size=\"12\" lengthAdjust=\"spacingAndGlyphs\" textLength=\"4\" x=\"77.5\" y=\"557.1074\">f</text><line style=\"stroke: #383838; stroke-width: 1.5;\" x1=\"61.5\" x2=\"101.5\" y1=\"564.9375\" y2=\"564.9375\"/></a><!--MD5=[96f4274e9e20536e775497830990834d]\n",
       "class E10--><a href=\"psysml:7f8b6820-ebe3-4bcd-8be0-e5513e7bb89f\" target=\"_top\" title=\"psysml:7f8b6820-ebe3-4bcd-8be0-e5513e7bb89f\" xlink:actuate=\"onRequest\" xlink:href=\"psysml:7f8b6820-ebe3-4bcd-8be0-e5513e7bb89f\" xlink:show=\"new\" xlink:title=\"psysml:7f8b6820-ebe3-4bcd-8be0-e5513e7bb89f\" xlink:type=\"simple\"><rect fill=\"#FFFFFF\" height=\"45.9375\" id=\"E10\" rx=\"10\" ry=\"10\" style=\"stroke: #383838; stroke-width: 1.5;\" width=\"42\" x=\"60.5\" y=\"608\"/><text fill=\"#000000\" font-family=\"sans-serif\" font-size=\"12\" font-style=\"italic\" lengthAdjust=\"spacingAndGlyphs\" textLength=\"40\" x=\"61.5\" y=\"624.1387\">«part»</text><text fill=\"#000000\" font-family=\"sans-serif\" font-size=\"12\" lengthAdjust=\"spacingAndGlyphs\" textLength=\"8\" x=\"75.5\" y=\"638.1074\">g</text><line style=\"stroke: #383838; stroke-width: 1.5;\" x1=\"61.5\" x2=\"101.5\" y1=\"645.9375\" y2=\"645.9375\"/></a><!--MD5=[1dd1bfd58a279cf63c5f349dbc8fc6a1]\n",
       "class E11--><a href=\"psysml:b98160f9-962b-4166-b8bf-1b8817b6e181\" target=\"_top\" title=\"psysml:b98160f9-962b-4166-b8bf-1b8817b6e181\" xlink:actuate=\"onRequest\" xlink:href=\"psysml:b98160f9-962b-4166-b8bf-1b8817b6e181\" xlink:show=\"new\" xlink:title=\"psysml:b98160f9-962b-4166-b8bf-1b8817b6e181\" xlink:type=\"simple\"><rect fill=\"#FFFFFF\" height=\"88.3516\" id=\"E11\" style=\"stroke: #383838; stroke-width: 1.5;\" width=\"99\" x=\"32\" y=\"689\"/><text fill=\"#000000\" font-family=\"sans-serif\" font-size=\"12\" font-style=\"italic\" lengthAdjust=\"spacingAndGlyphs\" textLength=\"97\" x=\"33\" y=\"705.1387\">«attribute  def»</text><text fill=\"#000000\" font-family=\"sans-serif\" font-size=\"12\" lengthAdjust=\"spacingAndGlyphs\" textLength=\"8\" x=\"77.5\" y=\"719.1074\">A</text><line style=\"stroke: #383838; stroke-width: 1.5;\" x1=\"33\" x2=\"130\" y1=\"726.9375\" y2=\"726.9375\"/><text fill=\"#000000\" font-family=\"sans-serif\" font-size=\"11\" lengthAdjust=\"spacingAndGlyphs\" textLength=\"51\" x=\"38\" y=\"757.9526\">i: Integer</text><text fill=\"#000000\" font-family=\"sans-serif\" font-size=\"11\" lengthAdjust=\"spacingAndGlyphs\" textLength=\"21\" x=\"38\" y=\"770.7573\">x: A</text><line style=\"stroke: #383838; stroke-width: 1.0;\" x1=\"33\" x2=\"54\" y1=\"741.3398\" y2=\"741.3398\"/><text fill=\"#000000\" font-family=\"sans-serif\" font-size=\"11\" lengthAdjust=\"spacingAndGlyphs\" textLength=\"55\" x=\"54\" y=\"744.6479\">attributes</text><line style=\"stroke: #383838; stroke-width: 1.0;\" x1=\"109\" x2=\"130\" y1=\"741.3398\" y2=\"741.3398\"/></a><!--MD5=[15ebcb19ae302d9b601edb458606d402]\n",
       "link E5 to E2--><a href=\"psysml:f465fece-be6c-4a0b-8b87-5b67ed75d8f8\" target=\"_top\" title=\"psysml:f465fece-be6c-4a0b-8b87-5b67ed75d8f8\" xlink:actuate=\"onRequest\" xlink:href=\"psysml:f465fece-be6c-4a0b-8b87-5b67ed75d8f8\" xlink:show=\"new\" xlink:title=\"psysml:f465fece-be6c-4a0b-8b87-5b67ed75d8f8\" xlink:type=\"simple\"><path d=\"M102.61,231.79 C120.54,236.94 147.58,244.72 171.69,251.66 \" fill=\"none\" id=\"E5-&gt;E2\" style=\"stroke: #383838; stroke-width: 1.0;\"/><polygon fill=\"#FFFFFF\" points=\"190.99,257.21,170.7942,258.6694,174.6746,245.218,190.99,257.21\" style=\"stroke: #383838; stroke-width: 1.0;\"/><ellipse cx=\"165.8719\" cy=\"255.1679\" fill=\"#383838\" rx=\"2\" ry=\"2\" style=\"stroke: #383838; stroke-width: 1.0;\"/><ellipse cx=\"168.6436\" cy=\"245.5597\" fill=\"#383838\" rx=\"2\" ry=\"2\" style=\"stroke: #383838; stroke-width: 1.0;\"/></a><!--MD5=[2351f337d6de0f557b50152ba70847b5]\n",
       "link E6 to E2--><a href=\"psysml:72e02ffe-11ce-46be-a503-0c91c54548ee\" target=\"_top\" title=\"psysml:72e02ffe-11ce-46be-a503-0c91c54548ee\" xlink:actuate=\"onRequest\" xlink:href=\"psysml:72e02ffe-11ce-46be-a503-0c91c54548ee\" xlink:show=\"new\" xlink:title=\"psysml:72e02ffe-11ce-46be-a503-0c91c54548ee\" xlink:type=\"simple\"><path d=\"M102.61,301.35 C120.54,296.32 147.58,288.73 171.69,281.96 \" fill=\"none\" id=\"E6-&gt;E2\" style=\"stroke: #383838; stroke-width: 1.0;\"/><polygon fill=\"#FFFFFF\" points=\"190.99,276.55,174.5938,288.4313,170.8046,274.9539,190.99,276.55\" style=\"stroke: #383838; stroke-width: 1.0;\"/><ellipse cx=\"168.5653\" cy=\"288.0487\" fill=\"#383838\" rx=\"2\" ry=\"2\" style=\"stroke: #383838; stroke-width: 1.0;\"/><ellipse cx=\"165.8586\" cy=\"278.422\" fill=\"#383838\" rx=\"2\" ry=\"2\" style=\"stroke: #383838; stroke-width: 1.0;\"/></a><!--MD5=[d8c0509a722ec5da1413541af9ba3416]\n",
       "@startuml\r\n",
       "left to right direction\r\n",
       "skinparam monochrome true\r\n",
       "skinparam classbackgroundcolor white\r\n",
       "skinparam shadowing false\r\n",
       "skinparam wrapWidth 300\r\n",
       "hide circle\r\n",
       "\r\n",
       "package \"MultiplicityTest\" as E1  [[psysml:437e1e49-e6a3-4f3e-be27-b1e07120749d ]]  {\r\n",
       "comp def \"P\" as E2  <<(T,blue) part  def>> [[psysml:d60dc8a9-ee87-4177-8909-4fd780a9d8f8 ]] {\r\n",
       "}\r\n",
       "comp usage \"n: Integer \" as E3  <<(T,blue) attribute>> [[psysml:a5340f1d-d68a-4585-8f96-7305e6f489d2 ]] {\r\n",
       "}\r\n",
       "comp usage \"a \" as E4  <<(T,blue) part>> [[psysml:478d9241-8f6e-4034-a71b-67b7ef5acdce ]] {\r\n",
       "}\r\n",
       "comp usage \"b: P \" as E5  <<(T,blue) part>> [[psysml:bc94da79-c19f-4e44-8720-527e565e90dd ]] {\r\n",
       "}\r\n",
       "comp usage \"c: P \" as E6  <<(T,blue) part>> [[psysml:619a7e97-bac6-4f1e-8369-8e8a5aa8da71 ]] {\r\n",
       "}\r\n",
       "comp usage \"d \" as E7  <<(T,blue) part>> [[psysml:baf82fce-ad86-47f7-be04-61d8ab51238a ]] {\r\n",
       "}\r\n",
       "comp usage \"e \" as E8  <<(T,blue) part>> [[psysml:602edda4-e9f7-4346-9e9a-bc1deb44a144 ]] {\r\n",
       "}\r\n",
       "comp usage \"f \" as E9  <<(T,blue) part>> [[psysml:ea99d53b-6b01-4b58-853a-79f827c6b1d7 ]] {\r\n",
       "}\r\n",
       "comp usage \"g \" as E10  <<(T,blue) part>> [[psysml:7f8b6820-ebe3-4bcd-8be0-e5513e7bb89f ]] {\r\n",
       "}\r\n",
       "comp def \"A\" as E11  <<(T,blue) attribute  def>> [[psysml:b98160f9-962b-4166-b8bf-1b8817b6e181 ]] {\r\n",
       "- - attributes - -\r\n",
       "i: Integer\r\n",
       "x: A\r\n",
       "}\r\n",
       "}\r\n",
       "E5 - -:|> E2 [[psysml:f465fece-be6c-4a0b-8b87-5b67ed75d8f8 ]] \r\n",
       "E6 - -:|> E2 [[psysml:72e02ffe-11ce-46be-a503-0c91c54548ee ]] \r\n",
       "@enduml\r\n",
       "\n",
       "PlantUML version 1.2020.13(Sat Jun 13 12:26:38 UTC 2020)\n",
       "(EPL source distribution)\n",
       "Java Runtime: OpenJDK Runtime Environment\n",
       "JVM: OpenJDK 64-Bit Server VM\n",
       "Default Encoding: UTF-8\n",
       "Language: en\n",
       "Country: null\n",
       "--></g></svg>"
      ]
     },
     "execution_count": 16,
     "metadata": {},
     "output_type": "execute_result"
    }
   ],
   "source": [
    "%viz --style=\"LR\" --view=\"Default\" \"MultiplicityTest\""
   ]
  },
  {
   "cell_type": "code",
   "execution_count": 17,
   "id": "1523c604",
   "metadata": {
    "execution": {
     "iopub.execute_input": "2022-03-03T09:58:29.781560Z",
     "iopub.status.busy": "2022-03-03T09:58:29.781294Z",
     "iopub.status.idle": "2022-03-03T09:58:29.855809Z",
     "shell.execute_reply": "2022-03-03T09:58:29.855333Z"
    }
   },
   "outputs": [
    {
     "data": {
      "image/svg+xml": [
       "<?xml version=\"1.0\" encoding=\"UTF-8\" standalone=\"no\"?><svg xmlns=\"http://www.w3.org/2000/svg\" xmlns:xlink=\"http://www.w3.org/1999/xlink\" contentScriptType=\"application/ecmascript\" contentStyleType=\"text/css\" height=\"805px\" preserveAspectRatio=\"none\" style=\"width:299px;height:805px;\" version=\"1.1\" viewBox=\"0 0 299 805\" width=\"299px\" zoomAndPan=\"magnify\"><defs/><g><!--MD5=[fbc87193dbaf4d95561dea2c320d4a47]\n",
       "cluster E1--><a href=\"psysml:437e1e49-e6a3-4f3e-be27-b1e07120749d\" target=\"_top\" title=\"psysml:437e1e49-e6a3-4f3e-be27-b1e07120749d\" xlink:actuate=\"onRequest\" xlink:href=\"psysml:437e1e49-e6a3-4f3e-be27-b1e07120749d\" xlink:show=\"new\" xlink:title=\"psysml:437e1e49-e6a3-4f3e-be27-b1e07120749d\" xlink:type=\"simple\"><polygon fill=\"#FFFFFF\" points=\"16,6,123,6,130,28.2969,277,28.2969,277,793,16,793,16,6\" style=\"stroke: #000000; stroke-width: 1.5;\"/><line style=\"stroke: #000000; stroke-width: 1.5;\" x1=\"16\" x2=\"130\" y1=\"28.2969\" y2=\"28.2969\"/><text fill=\"#000000\" font-family=\"sans-serif\" font-size=\"14\" font-weight=\"bold\" lengthAdjust=\"spacingAndGlyphs\" textLength=\"101\" x=\"20\" y=\"20.9951\">MultiplicityTest</text></a><!--MD5=[b4997ac47864f28c2f74865a473b2911]\n",
       "class E2--><a href=\"psysml:d60dc8a9-ee87-4177-8909-4fd780a9d8f8\" target=\"_top\" title=\"psysml:d60dc8a9-ee87-4177-8909-4fd780a9d8f8\" xlink:actuate=\"onRequest\" xlink:href=\"psysml:d60dc8a9-ee87-4177-8909-4fd780a9d8f8\" xlink:show=\"new\" xlink:title=\"psysml:d60dc8a9-ee87-4177-8909-4fd780a9d8f8\" xlink:type=\"simple\"><rect fill=\"#FFFFFF\" height=\"45.9375\" id=\"E2\" style=\"stroke: #383838; stroke-width: 1.5;\" width=\"70\" x=\"191\" y=\"244\"/><text fill=\"#000000\" font-family=\"sans-serif\" font-size=\"12\" font-style=\"italic\" lengthAdjust=\"spacingAndGlyphs\" textLength=\"68\" x=\"192\" y=\"260.1387\">«part  def»</text><text fill=\"#000000\" font-family=\"sans-serif\" font-size=\"12\" lengthAdjust=\"spacingAndGlyphs\" textLength=\"8\" x=\"222\" y=\"274.1074\">P</text><line style=\"stroke: #383838; stroke-width: 1.5;\" x1=\"192\" x2=\"260\" y1=\"281.9375\" y2=\"281.9375\"/></a><!--MD5=[09b614a08d8cba4a07c9adeb5e0fee81]\n",
       "class E3--><a href=\"psysml:a5340f1d-d68a-4585-8f96-7305e6f489d2\" target=\"_top\" title=\"psysml:a5340f1d-d68a-4585-8f96-7305e6f489d2\" xlink:actuate=\"onRequest\" xlink:href=\"psysml:a5340f1d-d68a-4585-8f96-7305e6f489d2\" xlink:show=\"new\" xlink:title=\"psysml:a5340f1d-d68a-4585-8f96-7305e6f489d2\" xlink:type=\"simple\"><rect fill=\"#FFFFFF\" height=\"45.9375\" id=\"E3\" rx=\"10\" ry=\"10\" style=\"stroke: #383838; stroke-width: 1.5;\" width=\"71\" x=\"46\" y=\"41\"/><text fill=\"#000000\" font-family=\"sans-serif\" font-size=\"12\" font-style=\"italic\" lengthAdjust=\"spacingAndGlyphs\" textLength=\"69\" x=\"47\" y=\"57.1387\">«attribute»</text><text fill=\"#000000\" font-family=\"sans-serif\" font-size=\"12\" lengthAdjust=\"spacingAndGlyphs\" textLength=\"61\" x=\"49\" y=\"71.1074\">n: Integer</text><line style=\"stroke: #383838; stroke-width: 1.5;\" x1=\"47\" x2=\"116\" y1=\"78.9375\" y2=\"78.9375\"/></a><!--MD5=[ebbe1d658d1005bcc118a6aa81145e00]\n",
       "class E4--><a href=\"psysml:478d9241-8f6e-4034-a71b-67b7ef5acdce\" target=\"_top\" title=\"psysml:478d9241-8f6e-4034-a71b-67b7ef5acdce\" xlink:actuate=\"onRequest\" xlink:href=\"psysml:478d9241-8f6e-4034-a71b-67b7ef5acdce\" xlink:show=\"new\" xlink:title=\"psysml:478d9241-8f6e-4034-a71b-67b7ef5acdce\" xlink:type=\"simple\"><rect fill=\"#FFFFFF\" height=\"45.9375\" id=\"E4\" rx=\"10\" ry=\"10\" style=\"stroke: #383838; stroke-width: 1.5;\" width=\"42\" x=\"60.5\" y=\"122\"/><text fill=\"#000000\" font-family=\"sans-serif\" font-size=\"12\" font-style=\"italic\" lengthAdjust=\"spacingAndGlyphs\" textLength=\"40\" x=\"61.5\" y=\"138.1387\">«part»</text><text fill=\"#000000\" font-family=\"sans-serif\" font-size=\"12\" lengthAdjust=\"spacingAndGlyphs\" textLength=\"8\" x=\"75.5\" y=\"152.1074\">a</text><line style=\"stroke: #383838; stroke-width: 1.5;\" x1=\"61.5\" x2=\"101.5\" y1=\"159.9375\" y2=\"159.9375\"/></a><!--MD5=[270fce915f116d4de14055a7c1d9a0f3]\n",
       "class E5--><a href=\"psysml:bc94da79-c19f-4e44-8720-527e565e90dd\" target=\"_top\" title=\"psysml:bc94da79-c19f-4e44-8720-527e565e90dd\" xlink:actuate=\"onRequest\" xlink:href=\"psysml:bc94da79-c19f-4e44-8720-527e565e90dd\" xlink:show=\"new\" xlink:title=\"psysml:bc94da79-c19f-4e44-8720-527e565e90dd\" xlink:type=\"simple\"><rect fill=\"#FFFFFF\" height=\"45.9375\" id=\"E5\" rx=\"10\" ry=\"10\" style=\"stroke: #383838; stroke-width: 1.5;\" width=\"42\" x=\"60.5\" y=\"203\"/><text fill=\"#000000\" font-family=\"sans-serif\" font-size=\"12\" font-style=\"italic\" lengthAdjust=\"spacingAndGlyphs\" textLength=\"40\" x=\"61.5\" y=\"219.1387\">«part»</text><text fill=\"#000000\" font-family=\"sans-serif\" font-size=\"12\" lengthAdjust=\"spacingAndGlyphs\" textLength=\"24\" x=\"67.5\" y=\"233.1074\">b: P</text><line style=\"stroke: #383838; stroke-width: 1.5;\" x1=\"61.5\" x2=\"101.5\" y1=\"240.9375\" y2=\"240.9375\"/></a><!--MD5=[60a26617385b1d2d0262a64233df1f8d]\n",
       "class E6--><a href=\"psysml:619a7e97-bac6-4f1e-8369-8e8a5aa8da71\" target=\"_top\" title=\"psysml:619a7e97-bac6-4f1e-8369-8e8a5aa8da71\" xlink:actuate=\"onRequest\" xlink:href=\"psysml:619a7e97-bac6-4f1e-8369-8e8a5aa8da71\" xlink:show=\"new\" xlink:title=\"psysml:619a7e97-bac6-4f1e-8369-8e8a5aa8da71\" xlink:type=\"simple\"><rect fill=\"#FFFFFF\" height=\"45.9375\" id=\"E6\" rx=\"10\" ry=\"10\" style=\"stroke: #383838; stroke-width: 1.5;\" width=\"42\" x=\"60.5\" y=\"284\"/><text fill=\"#000000\" font-family=\"sans-serif\" font-size=\"12\" font-style=\"italic\" lengthAdjust=\"spacingAndGlyphs\" textLength=\"40\" x=\"61.5\" y=\"300.1387\">«part»</text><text fill=\"#000000\" font-family=\"sans-serif\" font-size=\"12\" lengthAdjust=\"spacingAndGlyphs\" textLength=\"23\" x=\"68\" y=\"314.1074\">c: P</text><line style=\"stroke: #383838; stroke-width: 1.5;\" x1=\"61.5\" x2=\"101.5\" y1=\"321.9375\" y2=\"321.9375\"/></a><!--MD5=[2156ba9850f5573cc1fc38a6a4b2f02b]\n",
       "class E7--><a href=\"psysml:baf82fce-ad86-47f7-be04-61d8ab51238a\" target=\"_top\" title=\"psysml:baf82fce-ad86-47f7-be04-61d8ab51238a\" xlink:actuate=\"onRequest\" xlink:href=\"psysml:baf82fce-ad86-47f7-be04-61d8ab51238a\" xlink:show=\"new\" xlink:title=\"psysml:baf82fce-ad86-47f7-be04-61d8ab51238a\" xlink:type=\"simple\"><rect fill=\"#FFFFFF\" height=\"45.9375\" id=\"E7\" rx=\"10\" ry=\"10\" style=\"stroke: #383838; stroke-width: 1.5;\" width=\"42\" x=\"60.5\" y=\"365\"/><text fill=\"#000000\" font-family=\"sans-serif\" font-size=\"12\" font-style=\"italic\" lengthAdjust=\"spacingAndGlyphs\" textLength=\"40\" x=\"61.5\" y=\"381.1387\">«part»</text><text fill=\"#000000\" font-family=\"sans-serif\" font-size=\"12\" lengthAdjust=\"spacingAndGlyphs\" textLength=\"8\" x=\"75.5\" y=\"395.1074\">d</text><line style=\"stroke: #383838; stroke-width: 1.5;\" x1=\"61.5\" x2=\"101.5\" y1=\"402.9375\" y2=\"402.9375\"/></a><!--MD5=[b9389687b975829384b498ac4b7476b2]\n",
       "class E8--><a href=\"psysml:602edda4-e9f7-4346-9e9a-bc1deb44a144\" target=\"_top\" title=\"psysml:602edda4-e9f7-4346-9e9a-bc1deb44a144\" xlink:actuate=\"onRequest\" xlink:href=\"psysml:602edda4-e9f7-4346-9e9a-bc1deb44a144\" xlink:show=\"new\" xlink:title=\"psysml:602edda4-e9f7-4346-9e9a-bc1deb44a144\" xlink:type=\"simple\"><rect fill=\"#FFFFFF\" height=\"45.9375\" id=\"E8\" rx=\"10\" ry=\"10\" style=\"stroke: #383838; stroke-width: 1.5;\" width=\"42\" x=\"60.5\" y=\"446\"/><text fill=\"#000000\" font-family=\"sans-serif\" font-size=\"12\" font-style=\"italic\" lengthAdjust=\"spacingAndGlyphs\" textLength=\"40\" x=\"61.5\" y=\"462.1387\">«part»</text><text fill=\"#000000\" font-family=\"sans-serif\" font-size=\"12\" lengthAdjust=\"spacingAndGlyphs\" textLength=\"8\" x=\"75.5\" y=\"476.1074\">e</text><line style=\"stroke: #383838; stroke-width: 1.5;\" x1=\"61.5\" x2=\"101.5\" y1=\"483.9375\" y2=\"483.9375\"/></a><!--MD5=[fd4143e9d270a159db93a4ea2a975926]\n",
       "class E9--><a href=\"psysml:ea99d53b-6b01-4b58-853a-79f827c6b1d7\" target=\"_top\" title=\"psysml:ea99d53b-6b01-4b58-853a-79f827c6b1d7\" xlink:actuate=\"onRequest\" xlink:href=\"psysml:ea99d53b-6b01-4b58-853a-79f827c6b1d7\" xlink:show=\"new\" xlink:title=\"psysml:ea99d53b-6b01-4b58-853a-79f827c6b1d7\" xlink:type=\"simple\"><rect fill=\"#FFFFFF\" height=\"45.9375\" id=\"E9\" rx=\"10\" ry=\"10\" style=\"stroke: #383838; stroke-width: 1.5;\" width=\"42\" x=\"60.5\" y=\"527\"/><text fill=\"#000000\" font-family=\"sans-serif\" font-size=\"12\" font-style=\"italic\" lengthAdjust=\"spacingAndGlyphs\" textLength=\"40\" x=\"61.5\" y=\"543.1387\">«part»</text><text fill=\"#000000\" font-family=\"sans-serif\" font-size=\"12\" lengthAdjust=\"spacingAndGlyphs\" textLength=\"4\" x=\"77.5\" y=\"557.1074\">f</text><line style=\"stroke: #383838; stroke-width: 1.5;\" x1=\"61.5\" x2=\"101.5\" y1=\"564.9375\" y2=\"564.9375\"/></a><!--MD5=[96f4274e9e20536e775497830990834d]\n",
       "class E10--><a href=\"psysml:7f8b6820-ebe3-4bcd-8be0-e5513e7bb89f\" target=\"_top\" title=\"psysml:7f8b6820-ebe3-4bcd-8be0-e5513e7bb89f\" xlink:actuate=\"onRequest\" xlink:href=\"psysml:7f8b6820-ebe3-4bcd-8be0-e5513e7bb89f\" xlink:show=\"new\" xlink:title=\"psysml:7f8b6820-ebe3-4bcd-8be0-e5513e7bb89f\" xlink:type=\"simple\"><rect fill=\"#FFFFFF\" height=\"45.9375\" id=\"E10\" rx=\"10\" ry=\"10\" style=\"stroke: #383838; stroke-width: 1.5;\" width=\"42\" x=\"60.5\" y=\"608\"/><text fill=\"#000000\" font-family=\"sans-serif\" font-size=\"12\" font-style=\"italic\" lengthAdjust=\"spacingAndGlyphs\" textLength=\"40\" x=\"61.5\" y=\"624.1387\">«part»</text><text fill=\"#000000\" font-family=\"sans-serif\" font-size=\"12\" lengthAdjust=\"spacingAndGlyphs\" textLength=\"8\" x=\"75.5\" y=\"638.1074\">g</text><line style=\"stroke: #383838; stroke-width: 1.5;\" x1=\"61.5\" x2=\"101.5\" y1=\"645.9375\" y2=\"645.9375\"/></a><!--MD5=[1dd1bfd58a279cf63c5f349dbc8fc6a1]\n",
       "class E11--><a href=\"psysml:b98160f9-962b-4166-b8bf-1b8817b6e181\" target=\"_top\" title=\"psysml:b98160f9-962b-4166-b8bf-1b8817b6e181\" xlink:actuate=\"onRequest\" xlink:href=\"psysml:b98160f9-962b-4166-b8bf-1b8817b6e181\" xlink:show=\"new\" xlink:title=\"psysml:b98160f9-962b-4166-b8bf-1b8817b6e181\" xlink:type=\"simple\"><rect fill=\"#FFFFFF\" height=\"88.3516\" id=\"E11\" style=\"stroke: #383838; stroke-width: 1.5;\" width=\"99\" x=\"32\" y=\"689\"/><text fill=\"#000000\" font-family=\"sans-serif\" font-size=\"12\" font-style=\"italic\" lengthAdjust=\"spacingAndGlyphs\" textLength=\"97\" x=\"33\" y=\"705.1387\">«attribute  def»</text><text fill=\"#000000\" font-family=\"sans-serif\" font-size=\"12\" lengthAdjust=\"spacingAndGlyphs\" textLength=\"8\" x=\"77.5\" y=\"719.1074\">A</text><line style=\"stroke: #383838; stroke-width: 1.5;\" x1=\"33\" x2=\"130\" y1=\"726.9375\" y2=\"726.9375\"/><text fill=\"#000000\" font-family=\"sans-serif\" font-size=\"11\" lengthAdjust=\"spacingAndGlyphs\" textLength=\"51\" x=\"38\" y=\"757.9526\">i: Integer</text><text fill=\"#000000\" font-family=\"sans-serif\" font-size=\"11\" lengthAdjust=\"spacingAndGlyphs\" textLength=\"21\" x=\"38\" y=\"770.7573\">x: A</text><line style=\"stroke: #383838; stroke-width: 1.0;\" x1=\"33\" x2=\"54\" y1=\"741.3398\" y2=\"741.3398\"/><text fill=\"#000000\" font-family=\"sans-serif\" font-size=\"11\" lengthAdjust=\"spacingAndGlyphs\" textLength=\"55\" x=\"54\" y=\"744.6479\">attributes</text><line style=\"stroke: #383838; stroke-width: 1.0;\" x1=\"109\" x2=\"130\" y1=\"741.3398\" y2=\"741.3398\"/></a><!--MD5=[15ebcb19ae302d9b601edb458606d402]\n",
       "link E5 to E2--><a href=\"psysml:f465fece-be6c-4a0b-8b87-5b67ed75d8f8\" target=\"_top\" title=\"psysml:f465fece-be6c-4a0b-8b87-5b67ed75d8f8\" xlink:actuate=\"onRequest\" xlink:href=\"psysml:f465fece-be6c-4a0b-8b87-5b67ed75d8f8\" xlink:show=\"new\" xlink:title=\"psysml:f465fece-be6c-4a0b-8b87-5b67ed75d8f8\" xlink:type=\"simple\"><path d=\"M102.61,231.79 C120.54,236.94 147.58,244.72 171.69,251.66 \" fill=\"none\" id=\"E5-&gt;E2\" style=\"stroke: #383838; stroke-width: 1.0;\"/><polygon fill=\"#FFFFFF\" points=\"190.99,257.21,170.7942,258.6694,174.6746,245.218,190.99,257.21\" style=\"stroke: #383838; stroke-width: 1.0;\"/><ellipse cx=\"165.8719\" cy=\"255.1679\" fill=\"#383838\" rx=\"2\" ry=\"2\" style=\"stroke: #383838; stroke-width: 1.0;\"/><ellipse cx=\"168.6436\" cy=\"245.5597\" fill=\"#383838\" rx=\"2\" ry=\"2\" style=\"stroke: #383838; stroke-width: 1.0;\"/></a><!--MD5=[2351f337d6de0f557b50152ba70847b5]\n",
       "link E6 to E2--><a href=\"psysml:72e02ffe-11ce-46be-a503-0c91c54548ee\" target=\"_top\" title=\"psysml:72e02ffe-11ce-46be-a503-0c91c54548ee\" xlink:actuate=\"onRequest\" xlink:href=\"psysml:72e02ffe-11ce-46be-a503-0c91c54548ee\" xlink:show=\"new\" xlink:title=\"psysml:72e02ffe-11ce-46be-a503-0c91c54548ee\" xlink:type=\"simple\"><path d=\"M102.61,301.35 C120.54,296.32 147.58,288.73 171.69,281.96 \" fill=\"none\" id=\"E6-&gt;E2\" style=\"stroke: #383838; stroke-width: 1.0;\"/><polygon fill=\"#FFFFFF\" points=\"190.99,276.55,174.5938,288.4313,170.8046,274.9539,190.99,276.55\" style=\"stroke: #383838; stroke-width: 1.0;\"/><ellipse cx=\"168.5653\" cy=\"288.0487\" fill=\"#383838\" rx=\"2\" ry=\"2\" style=\"stroke: #383838; stroke-width: 1.0;\"/><ellipse cx=\"165.8586\" cy=\"278.422\" fill=\"#383838\" rx=\"2\" ry=\"2\" style=\"stroke: #383838; stroke-width: 1.0;\"/></a><!--MD5=[d8c0509a722ec5da1413541af9ba3416]\n",
       "@startuml\r\n",
       "left to right direction\r\n",
       "skinparam monochrome true\r\n",
       "skinparam classbackgroundcolor white\r\n",
       "skinparam shadowing false\r\n",
       "skinparam wrapWidth 300\r\n",
       "hide circle\r\n",
       "\r\n",
       "package \"MultiplicityTest\" as E1  [[psysml:437e1e49-e6a3-4f3e-be27-b1e07120749d ]]  {\r\n",
       "comp def \"P\" as E2  <<(T,blue) part  def>> [[psysml:d60dc8a9-ee87-4177-8909-4fd780a9d8f8 ]] {\r\n",
       "}\r\n",
       "comp usage \"n: Integer \" as E3  <<(T,blue) attribute>> [[psysml:a5340f1d-d68a-4585-8f96-7305e6f489d2 ]] {\r\n",
       "}\r\n",
       "comp usage \"a \" as E4  <<(T,blue) part>> [[psysml:478d9241-8f6e-4034-a71b-67b7ef5acdce ]] {\r\n",
       "}\r\n",
       "comp usage \"b: P \" as E5  <<(T,blue) part>> [[psysml:bc94da79-c19f-4e44-8720-527e565e90dd ]] {\r\n",
       "}\r\n",
       "comp usage \"c: P \" as E6  <<(T,blue) part>> [[psysml:619a7e97-bac6-4f1e-8369-8e8a5aa8da71 ]] {\r\n",
       "}\r\n",
       "comp usage \"d \" as E7  <<(T,blue) part>> [[psysml:baf82fce-ad86-47f7-be04-61d8ab51238a ]] {\r\n",
       "}\r\n",
       "comp usage \"e \" as E8  <<(T,blue) part>> [[psysml:602edda4-e9f7-4346-9e9a-bc1deb44a144 ]] {\r\n",
       "}\r\n",
       "comp usage \"f \" as E9  <<(T,blue) part>> [[psysml:ea99d53b-6b01-4b58-853a-79f827c6b1d7 ]] {\r\n",
       "}\r\n",
       "comp usage \"g \" as E10  <<(T,blue) part>> [[psysml:7f8b6820-ebe3-4bcd-8be0-e5513e7bb89f ]] {\r\n",
       "}\r\n",
       "comp def \"A\" as E11  <<(T,blue) attribute  def>> [[psysml:b98160f9-962b-4166-b8bf-1b8817b6e181 ]] {\r\n",
       "- - attributes - -\r\n",
       "i: Integer\r\n",
       "x: A\r\n",
       "}\r\n",
       "}\r\n",
       "E5 - -:|> E2 [[psysml:f465fece-be6c-4a0b-8b87-5b67ed75d8f8 ]] \r\n",
       "E6 - -:|> E2 [[psysml:72e02ffe-11ce-46be-a503-0c91c54548ee ]] \r\n",
       "@enduml\r\n",
       "\n",
       "PlantUML version 1.2020.13(Sat Jun 13 12:26:38 UTC 2020)\n",
       "(EPL source distribution)\n",
       "Java Runtime: OpenJDK Runtime Environment\n",
       "JVM: OpenJDK 64-Bit Server VM\n",
       "Default Encoding: UTF-8\n",
       "Language: en\n",
       "Country: null\n",
       "--></g></svg>"
      ]
     },
     "execution_count": 17,
     "metadata": {},
     "output_type": "execute_result"
    }
   ],
   "source": [
    "%viz --style=\"LR\" --view=\"Tree\" \"MultiplicityTest\""
   ]
  },
  {
   "cell_type": "code",
   "execution_count": 18,
   "id": "ac7af9be",
   "metadata": {
    "execution": {
     "iopub.execute_input": "2022-03-03T09:58:29.902310Z",
     "iopub.status.busy": "2022-03-03T09:58:29.901952Z",
     "iopub.status.idle": "2022-03-03T09:58:29.907926Z",
     "shell.execute_reply": "2022-03-03T09:58:29.908308Z"
    }
   },
   "outputs": [
    {
     "data": {
      "image/svg+xml": [
       "<?xml version=\"1.0\" encoding=\"UTF-8\" standalone=\"no\"?><svg xmlns=\"http://www.w3.org/2000/svg\" xmlns:xlink=\"http://www.w3.org/1999/xlink\" contentScriptType=\"application/ecmascript\" contentStyleType=\"text/css\" height=\"12px\" preserveAspectRatio=\"none\" style=\"width:12px;height:12px;\" version=\"1.1\" viewBox=\"0 0 12 12\" width=\"12px\" zoomAndPan=\"magnify\"><defs/><g><!--MD5=[19d285c9d72a204eba4e2cd117d745e8]\n",
       "@startuml\r\n",
       "left to right direction\r\n",
       "skinparam monochrome true\r\n",
       "skinparam classbackgroundcolor white\r\n",
       "skinparam shadowing false\r\n",
       "skinparam wrapWidth 300\r\n",
       "hide circle\r\n",
       "\r\n",
       "@enduml\r\n",
       "\n",
       "PlantUML version 1.2020.13(Sat Jun 13 12:26:38 UTC 2020)\n",
       "(EPL source distribution)\n",
       "Java Runtime: OpenJDK Runtime Environment\n",
       "JVM: OpenJDK 64-Bit Server VM\n",
       "Default Encoding: UTF-8\n",
       "Language: en\n",
       "Country: null\n",
       "--></g></svg>"
      ]
     },
     "execution_count": 18,
     "metadata": {},
     "output_type": "execute_result"
    }
   ],
   "source": [
    "%viz --style=\"LR\" --view=\"State\" \"MultiplicityTest\""
   ]
  },
  {
   "cell_type": "code",
   "execution_count": 19,
   "id": "0d981c9a",
   "metadata": {
    "execution": {
     "iopub.execute_input": "2022-03-03T09:58:29.958323Z",
     "iopub.status.busy": "2022-03-03T09:58:29.958004Z",
     "iopub.status.idle": "2022-03-03T09:58:29.993058Z",
     "shell.execute_reply": "2022-03-03T09:58:29.993226Z"
    }
   },
   "outputs": [
    {
     "data": {
      "image/svg+xml": [
       "<?xml version=\"1.0\" encoding=\"UTF-8\" standalone=\"no\"?><svg xmlns=\"http://www.w3.org/2000/svg\" xmlns:xlink=\"http://www.w3.org/1999/xlink\" contentScriptType=\"application/ecmascript\" contentStyleType=\"text/css\" height=\"797px\" preserveAspectRatio=\"none\" style=\"width:174px;height:797px;\" version=\"1.1\" viewBox=\"0 0 174 797\" width=\"174px\" zoomAndPan=\"magnify\"><defs/><g><!--MD5=[fbc87193dbaf4d95561dea2c320d4a47]\n",
       "cluster E1--><a href=\"psysml:437e1e49-e6a3-4f3e-be27-b1e07120749d\" target=\"_top\" title=\"psysml:437e1e49-e6a3-4f3e-be27-b1e07120749d\" xlink:actuate=\"onRequest\" xlink:href=\"psysml:437e1e49-e6a3-4f3e-be27-b1e07120749d\" xlink:show=\"new\" xlink:title=\"psysml:437e1e49-e6a3-4f3e-be27-b1e07120749d\" xlink:type=\"simple\"><polygon fill=\"#FFFFFF\" points=\"16,6,123,6,130,28.2969,152,28.2969,152,785,16,785,16,6\" style=\"stroke: #000000; stroke-width: 1.5;\"/><line style=\"stroke: #000000; stroke-width: 1.5;\" x1=\"16\" x2=\"130\" y1=\"28.2969\" y2=\"28.2969\"/><text fill=\"#000000\" font-family=\"sans-serif\" font-size=\"14\" font-weight=\"bold\" lengthAdjust=\"spacingAndGlyphs\" textLength=\"101\" x=\"20\" y=\"20.9951\">MultiplicityTest</text></a><!--MD5=[09b614a08d8cba4a07c9adeb5e0fee81]\n",
       "class E3--><a href=\"psysml:a5340f1d-d68a-4585-8f96-7305e6f489d2\" target=\"_top\" title=\"psysml:a5340f1d-d68a-4585-8f96-7305e6f489d2\" xlink:actuate=\"onRequest\" xlink:href=\"psysml:a5340f1d-d68a-4585-8f96-7305e6f489d2\" xlink:show=\"new\" xlink:title=\"psysml:a5340f1d-d68a-4585-8f96-7305e6f489d2\" xlink:type=\"simple\"><rect fill=\"#FFFFFF\" height=\"45.9375\" id=\"E3\" rx=\"10\" ry=\"10\" style=\"stroke: #383838; stroke-width: 1.5;\" width=\"71\" x=\"48.5\" y=\"41\"/><text fill=\"#000000\" font-family=\"sans-serif\" font-size=\"12\" font-style=\"italic\" lengthAdjust=\"spacingAndGlyphs\" textLength=\"69\" x=\"49.5\" y=\"57.1387\">«attribute»</text><text fill=\"#000000\" font-family=\"sans-serif\" font-size=\"12\" lengthAdjust=\"spacingAndGlyphs\" textLength=\"61\" x=\"51.5\" y=\"71.1074\">n: Integer</text><line style=\"stroke: #383838; stroke-width: 1.5;\" x1=\"49.5\" x2=\"118.5\" y1=\"78.9375\" y2=\"78.9375\"/></a><g id=\"E1.E11\"><a href=\"psysml:b98160f9-962b-4166-b8bf-1b8817b6e181\" target=\"_top\" title=\"psysml:b98160f9-962b-4166-b8bf-1b8817b6e181\" xlink:actuate=\"onRequest\" xlink:href=\"psysml:b98160f9-962b-4166-b8bf-1b8817b6e181\" xlink:show=\"new\" xlink:title=\"psysml:b98160f9-962b-4166-b8bf-1b8817b6e181\" xlink:type=\"simple\"><rect fill=\"#FFFFFF\" height=\"42.9375\" id=\"E11\" style=\"stroke: #383838; stroke-width: 1.5;\" width=\"104\" x=\"32\" y=\"122.5\"/><rect fill=\"#F8F8F8\" height=\"37.9375\" style=\"stroke: #383838; stroke-width: 1.5;\" width=\"104\" x=\"32\" y=\"122.5\"/><text fill=\"#000000\" font-family=\"sans-serif\" font-size=\"12\" font-style=\"italic\" lengthAdjust=\"spacingAndGlyphs\" textLength=\"97\" x=\"35.5\" y=\"138.6387\">«attribute  def»</text><text fill=\"#000000\" font-family=\"sans-serif\" font-size=\"12\" lengthAdjust=\"spacingAndGlyphs\" textLength=\"8\" x=\"80\" y=\"152.6074\">A</text></a></g><g id=\"E1.E2\"><a href=\"psysml:d60dc8a9-ee87-4177-8909-4fd780a9d8f8\" target=\"_top\" title=\"psysml:d60dc8a9-ee87-4177-8909-4fd780a9d8f8\" xlink:actuate=\"onRequest\" xlink:href=\"psysml:d60dc8a9-ee87-4177-8909-4fd780a9d8f8\" xlink:show=\"new\" xlink:title=\"psysml:d60dc8a9-ee87-4177-8909-4fd780a9d8f8\" xlink:type=\"simple\"><rect fill=\"#FFFFFF\" height=\"42.9375\" id=\"E2\" style=\"stroke: #383838; stroke-width: 1.5;\" width=\"75\" x=\"46.5\" y=\"200.5\"/><rect fill=\"#F8F8F8\" height=\"37.9375\" style=\"stroke: #383838; stroke-width: 1.5;\" width=\"75\" x=\"46.5\" y=\"200.5\"/><text fill=\"#000000\" font-family=\"sans-serif\" font-size=\"12\" font-style=\"italic\" lengthAdjust=\"spacingAndGlyphs\" textLength=\"68\" x=\"50\" y=\"216.6387\">«part  def»</text><text fill=\"#000000\" font-family=\"sans-serif\" font-size=\"12\" lengthAdjust=\"spacingAndGlyphs\" textLength=\"8\" x=\"80\" y=\"230.6074\">P</text></a></g><g id=\"E1.E4\"><a href=\"psysml:478d9241-8f6e-4034-a71b-67b7ef5acdce\" target=\"_top\" title=\"psysml:478d9241-8f6e-4034-a71b-67b7ef5acdce\" xlink:actuate=\"onRequest\" xlink:href=\"psysml:478d9241-8f6e-4034-a71b-67b7ef5acdce\" xlink:show=\"new\" xlink:title=\"psysml:478d9241-8f6e-4034-a71b-67b7ef5acdce\" xlink:type=\"simple\"><rect fill=\"#FFFFFF\" height=\"40\" id=\"E4\" rx=\"10\" ry=\"10\" style=\"stroke: #383838; stroke-width: 1.5;\" width=\"50\" x=\"59\" y=\"279\"/><rect fill=\"#F8F8F8\" height=\"23.9688\" rx=\"10\" ry=\"10\" style=\"stroke: #F8F8F8; stroke-width: 1.5;\" width=\"50\" x=\"59\" y=\"279\"/><rect fill=\"#F8F8F8\" height=\"10\" style=\"stroke: #F8F8F8; stroke-width: 1.5;\" width=\"50\" x=\"59\" y=\"292.9688\"/><rect fill=\"none\" height=\"40\" id=\"E4\" rx=\"10\" ry=\"10\" style=\"stroke: #383838; stroke-width: 1.5;\" width=\"50\" x=\"59\" y=\"279\"/><text fill=\"#000000\" font-family=\"sans-serif\" font-size=\"12\" lengthAdjust=\"spacingAndGlyphs\" textLength=\"8\" x=\"80\" y=\"295.1387\">a</text></a></g><g id=\"E1.E5\"><a href=\"psysml:bc94da79-c19f-4e44-8720-527e565e90dd\" target=\"_top\" title=\"psysml:bc94da79-c19f-4e44-8720-527e565e90dd\" xlink:actuate=\"onRequest\" xlink:href=\"psysml:bc94da79-c19f-4e44-8720-527e565e90dd\" xlink:show=\"new\" xlink:title=\"psysml:bc94da79-c19f-4e44-8720-527e565e90dd\" xlink:type=\"simple\"><rect fill=\"#FFFFFF\" height=\"40\" id=\"E5\" rx=\"10\" ry=\"10\" style=\"stroke: #383838; stroke-width: 1.5;\" width=\"50\" x=\"59\" y=\"354\"/><rect fill=\"#F8F8F8\" height=\"23.9688\" rx=\"10\" ry=\"10\" style=\"stroke: #F8F8F8; stroke-width: 1.5;\" width=\"50\" x=\"59\" y=\"354\"/><rect fill=\"#F8F8F8\" height=\"10\" style=\"stroke: #F8F8F8; stroke-width: 1.5;\" width=\"50\" x=\"59\" y=\"367.9688\"/><rect fill=\"none\" height=\"40\" id=\"E5\" rx=\"10\" ry=\"10\" style=\"stroke: #383838; stroke-width: 1.5;\" width=\"50\" x=\"59\" y=\"354\"/><text fill=\"#000000\" font-family=\"sans-serif\" font-size=\"12\" lengthAdjust=\"spacingAndGlyphs\" textLength=\"24\" x=\"72\" y=\"370.1387\">b: P</text></a></g><g id=\"E1.E6\"><a href=\"psysml:619a7e97-bac6-4f1e-8369-8e8a5aa8da71\" target=\"_top\" title=\"psysml:619a7e97-bac6-4f1e-8369-8e8a5aa8da71\" xlink:actuate=\"onRequest\" xlink:href=\"psysml:619a7e97-bac6-4f1e-8369-8e8a5aa8da71\" xlink:show=\"new\" xlink:title=\"psysml:619a7e97-bac6-4f1e-8369-8e8a5aa8da71\" xlink:type=\"simple\"><rect fill=\"#FFFFFF\" height=\"40\" id=\"E6\" rx=\"10\" ry=\"10\" style=\"stroke: #383838; stroke-width: 1.5;\" width=\"50\" x=\"59\" y=\"429\"/><rect fill=\"#F8F8F8\" height=\"23.9688\" rx=\"10\" ry=\"10\" style=\"stroke: #F8F8F8; stroke-width: 1.5;\" width=\"50\" x=\"59\" y=\"429\"/><rect fill=\"#F8F8F8\" height=\"10\" style=\"stroke: #F8F8F8; stroke-width: 1.5;\" width=\"50\" x=\"59\" y=\"442.9688\"/><rect fill=\"none\" height=\"40\" id=\"E6\" rx=\"10\" ry=\"10\" style=\"stroke: #383838; stroke-width: 1.5;\" width=\"50\" x=\"59\" y=\"429\"/><text fill=\"#000000\" font-family=\"sans-serif\" font-size=\"12\" lengthAdjust=\"spacingAndGlyphs\" textLength=\"23\" x=\"72.5\" y=\"445.1387\">c: P</text></a></g><g id=\"E1.E7\"><a href=\"psysml:baf82fce-ad86-47f7-be04-61d8ab51238a\" target=\"_top\" title=\"psysml:baf82fce-ad86-47f7-be04-61d8ab51238a\" xlink:actuate=\"onRequest\" xlink:href=\"psysml:baf82fce-ad86-47f7-be04-61d8ab51238a\" xlink:show=\"new\" xlink:title=\"psysml:baf82fce-ad86-47f7-be04-61d8ab51238a\" xlink:type=\"simple\"><rect fill=\"#FFFFFF\" height=\"40\" id=\"E7\" rx=\"10\" ry=\"10\" style=\"stroke: #383838; stroke-width: 1.5;\" width=\"50\" x=\"59\" y=\"504\"/><rect fill=\"#F8F8F8\" height=\"23.9688\" rx=\"10\" ry=\"10\" style=\"stroke: #F8F8F8; stroke-width: 1.5;\" width=\"50\" x=\"59\" y=\"504\"/><rect fill=\"#F8F8F8\" height=\"10\" style=\"stroke: #F8F8F8; stroke-width: 1.5;\" width=\"50\" x=\"59\" y=\"517.9688\"/><rect fill=\"none\" height=\"40\" id=\"E7\" rx=\"10\" ry=\"10\" style=\"stroke: #383838; stroke-width: 1.5;\" width=\"50\" x=\"59\" y=\"504\"/><text fill=\"#000000\" font-family=\"sans-serif\" font-size=\"12\" lengthAdjust=\"spacingAndGlyphs\" textLength=\"8\" x=\"80\" y=\"520.1387\">d</text></a></g><g id=\"E1.E8\"><a href=\"psysml:602edda4-e9f7-4346-9e9a-bc1deb44a144\" target=\"_top\" title=\"psysml:602edda4-e9f7-4346-9e9a-bc1deb44a144\" xlink:actuate=\"onRequest\" xlink:href=\"psysml:602edda4-e9f7-4346-9e9a-bc1deb44a144\" xlink:show=\"new\" xlink:title=\"psysml:602edda4-e9f7-4346-9e9a-bc1deb44a144\" xlink:type=\"simple\"><rect fill=\"#FFFFFF\" height=\"40\" id=\"E8\" rx=\"10\" ry=\"10\" style=\"stroke: #383838; stroke-width: 1.5;\" width=\"50\" x=\"59\" y=\"579\"/><rect fill=\"#F8F8F8\" height=\"23.9688\" rx=\"10\" ry=\"10\" style=\"stroke: #F8F8F8; stroke-width: 1.5;\" width=\"50\" x=\"59\" y=\"579\"/><rect fill=\"#F8F8F8\" height=\"10\" style=\"stroke: #F8F8F8; stroke-width: 1.5;\" width=\"50\" x=\"59\" y=\"592.9688\"/><rect fill=\"none\" height=\"40\" id=\"E8\" rx=\"10\" ry=\"10\" style=\"stroke: #383838; stroke-width: 1.5;\" width=\"50\" x=\"59\" y=\"579\"/><text fill=\"#000000\" font-family=\"sans-serif\" font-size=\"12\" lengthAdjust=\"spacingAndGlyphs\" textLength=\"8\" x=\"80\" y=\"595.1387\">e</text></a></g><g id=\"E1.E9\"><a href=\"psysml:ea99d53b-6b01-4b58-853a-79f827c6b1d7\" target=\"_top\" title=\"psysml:ea99d53b-6b01-4b58-853a-79f827c6b1d7\" xlink:actuate=\"onRequest\" xlink:href=\"psysml:ea99d53b-6b01-4b58-853a-79f827c6b1d7\" xlink:show=\"new\" xlink:title=\"psysml:ea99d53b-6b01-4b58-853a-79f827c6b1d7\" xlink:type=\"simple\"><rect fill=\"#FFFFFF\" height=\"40\" id=\"E9\" rx=\"10\" ry=\"10\" style=\"stroke: #383838; stroke-width: 1.5;\" width=\"50\" x=\"59\" y=\"654\"/><rect fill=\"#F8F8F8\" height=\"23.9688\" rx=\"10\" ry=\"10\" style=\"stroke: #F8F8F8; stroke-width: 1.5;\" width=\"50\" x=\"59\" y=\"654\"/><rect fill=\"#F8F8F8\" height=\"10\" style=\"stroke: #F8F8F8; stroke-width: 1.5;\" width=\"50\" x=\"59\" y=\"667.9688\"/><rect fill=\"none\" height=\"40\" id=\"E9\" rx=\"10\" ry=\"10\" style=\"stroke: #383838; stroke-width: 1.5;\" width=\"50\" x=\"59\" y=\"654\"/><text fill=\"#000000\" font-family=\"sans-serif\" font-size=\"12\" lengthAdjust=\"spacingAndGlyphs\" textLength=\"4\" x=\"82\" y=\"670.1387\">f</text></a></g><g id=\"E1.E10\"><a href=\"psysml:7f8b6820-ebe3-4bcd-8be0-e5513e7bb89f\" target=\"_top\" title=\"psysml:7f8b6820-ebe3-4bcd-8be0-e5513e7bb89f\" xlink:actuate=\"onRequest\" xlink:href=\"psysml:7f8b6820-ebe3-4bcd-8be0-e5513e7bb89f\" xlink:show=\"new\" xlink:title=\"psysml:7f8b6820-ebe3-4bcd-8be0-e5513e7bb89f\" xlink:type=\"simple\"><rect fill=\"#FFFFFF\" height=\"40\" id=\"E10\" rx=\"10\" ry=\"10\" style=\"stroke: #383838; stroke-width: 1.5;\" width=\"50\" x=\"59\" y=\"729\"/><rect fill=\"#F8F8F8\" height=\"23.9688\" rx=\"10\" ry=\"10\" style=\"stroke: #F8F8F8; stroke-width: 1.5;\" width=\"50\" x=\"59\" y=\"729\"/><rect fill=\"#F8F8F8\" height=\"10\" style=\"stroke: #F8F8F8; stroke-width: 1.5;\" width=\"50\" x=\"59\" y=\"742.9688\"/><rect fill=\"none\" height=\"40\" id=\"E10\" rx=\"10\" ry=\"10\" style=\"stroke: #383838; stroke-width: 1.5;\" width=\"50\" x=\"59\" y=\"729\"/><text fill=\"#000000\" font-family=\"sans-serif\" font-size=\"12\" lengthAdjust=\"spacingAndGlyphs\" textLength=\"8\" x=\"80\" y=\"745.1387\">g</text></a></g><!--MD5=[b6f17f7ae3f0ac17062a52da1a5ea77b]\n",
       "@startuml\r\n",
       "skinparam ranksep 10\r\n",
       "skinparam rectangle {\r\n",
       " backgroundColor<<block>> LightGreen\r\n",
       "}\r\n",
       "left to right direction\r\n",
       "skinparam monochrome true\r\n",
       "skinparam classbackgroundcolor white\r\n",
       "skinparam shadowing false\r\n",
       "skinparam wrapWidth 300\r\n",
       "hide circle\r\n",
       "\r\n",
       "package \"MultiplicityTest\" as E1  [[psysml:437e1e49-e6a3-4f3e-be27-b1e07120749d ]]  {\r\n",
       "rec def \"P\" as E2  <<(T,blue) part  def>> [[psysml:d60dc8a9-ee87-4177-8909-4fd780a9d8f8 ]] {\r\n",
       "}\r\n",
       "comp usage \"n: Integer \" as E3  <<(T,blue) attribute>> [[psysml:a5340f1d-d68a-4585-8f96-7305e6f489d2 ]] {\r\n",
       "}\r\n",
       "rec usage \"a\" as E4  [[psysml:478d9241-8f6e-4034-a71b-67b7ef5acdce ]] {\r\n",
       "}\r\n",
       "rec usage \"b: P\" as E5  [[psysml:bc94da79-c19f-4e44-8720-527e565e90dd ]] {\r\n",
       "}\r\n",
       "rec usage \"c: P\" as E6  [[psysml:619a7e97-bac6-4f1e-8369-8e8a5aa8da71 ]] {\r\n",
       "}\r\n",
       "rec usage \"d\" as E7  [[psysml:baf82fce-ad86-47f7-be04-61d8ab51238a ]] {\r\n",
       "}\r\n",
       "rec usage \"e\" as E8  [[psysml:602edda4-e9f7-4346-9e9a-bc1deb44a144 ]] {\r\n",
       "}\r\n",
       "rec usage \"f\" as E9  [[psysml:ea99d53b-6b01-4b58-853a-79f827c6b1d7 ]] {\r\n",
       "}\r\n",
       "rec usage \"g\" as E10  [[psysml:7f8b6820-ebe3-4bcd-8be0-e5513e7bb89f ]] {\r\n",
       "}\r\n",
       "def \"A\" as E11  <<(T,blue) attribute  def>> [[psysml:b98160f9-962b-4166-b8bf-1b8817b6e181 ]] \r\n",
       "}\r\n",
       "@enduml\r\n",
       "\n",
       "PlantUML version 1.2020.13(Sat Jun 13 12:26:38 UTC 2020)\n",
       "(EPL source distribution)\n",
       "Java Runtime: OpenJDK Runtime Environment\n",
       "JVM: OpenJDK 64-Bit Server VM\n",
       "Default Encoding: UTF-8\n",
       "Language: en\n",
       "Country: null\n",
       "--></g></svg>"
      ]
     },
     "execution_count": 19,
     "metadata": {},
     "output_type": "execute_result"
    }
   ],
   "source": [
    "%viz --style=\"LR\" --view=\"Interconnection\" \"MultiplicityTest\""
   ]
  },
  {
   "cell_type": "code",
   "execution_count": 20,
   "id": "e68acfa3",
   "metadata": {
    "execution": {
     "iopub.execute_input": "2022-03-03T09:58:30.043666Z",
     "iopub.status.busy": "2022-03-03T09:58:30.043438Z",
     "iopub.status.idle": "2022-03-03T09:58:30.048964Z",
     "shell.execute_reply": "2022-03-03T09:58:30.049123Z"
    }
   },
   "outputs": [
    {
     "data": {
      "image/svg+xml": [
       "<?xml version=\"1.0\" encoding=\"UTF-8\" standalone=\"no\"?><svg xmlns=\"http://www.w3.org/2000/svg\" xmlns:xlink=\"http://www.w3.org/1999/xlink\" contentScriptType=\"application/ecmascript\" contentStyleType=\"text/css\" height=\"12px\" preserveAspectRatio=\"none\" style=\"width:12px;height:12px;\" version=\"1.1\" viewBox=\"0 0 12 12\" width=\"12px\" zoomAndPan=\"magnify\"><defs/><g><!--MD5=[7aeb398939421629f6affaa4a1a7b125]\n",
       "@startuml\r\n",
       "skinparam ranksep 8\r\n",
       "left to right direction\r\n",
       "skinparam monochrome true\r\n",
       "skinparam classbackgroundcolor white\r\n",
       "skinparam shadowing false\r\n",
       "skinparam wrapWidth 300\r\n",
       "hide circle\r\n",
       "\r\n",
       "@enduml\r\n",
       "\n",
       "PlantUML version 1.2020.13(Sat Jun 13 12:26:38 UTC 2020)\n",
       "(EPL source distribution)\n",
       "Java Runtime: OpenJDK Runtime Environment\n",
       "JVM: OpenJDK 64-Bit Server VM\n",
       "Default Encoding: UTF-8\n",
       "Language: en\n",
       "Country: null\n",
       "--></g></svg>"
      ]
     },
     "execution_count": 20,
     "metadata": {},
     "output_type": "execute_result"
    }
   ],
   "source": [
    "%viz --style=\"LR\" --view=\"Action\" \"MultiplicityTest\""
   ]
  },
  {
   "cell_type": "code",
   "execution_count": 21,
   "id": "f1e034c9",
   "metadata": {
    "execution": {
     "iopub.execute_input": "2022-03-03T09:58:30.099815Z",
     "iopub.status.busy": "2022-03-03T09:58:30.099568Z",
     "iopub.status.idle": "2022-03-03T09:58:30.105042Z",
     "shell.execute_reply": "2022-03-03T09:58:30.105231Z"
    }
   },
   "outputs": [
    {
     "data": {
      "image/svg+xml": [
       "<?xml version=\"1.0\" encoding=\"UTF-8\" standalone=\"no\"?><svg xmlns=\"http://www.w3.org/2000/svg\" xmlns:xlink=\"http://www.w3.org/1999/xlink\" contentScriptType=\"application/ecmascript\" contentStyleType=\"text/css\" height=\"12px\" preserveAspectRatio=\"none\" style=\"width:12px;height:12px;\" version=\"1.1\" viewBox=\"0 0 12 12\" width=\"12px\" zoomAndPan=\"magnify\"><defs/><g><!--MD5=[238c11ea2002f03115ad6b49a457d50e]\n",
       "@startuml\r\n",
       "skinparam roundcorner 20\r\n",
       "skinparam BoxPadding 20\r\n",
       "skinparam SequenceBoxBackgroundColor #white\r\n",
       "skinparam style strictuml\r\n",
       "skinparam maxMessageSize 100\r\n",
       "left to right direction\r\n",
       "skinparam monochrome true\r\n",
       "skinparam classbackgroundcolor white\r\n",
       "skinparam shadowing false\r\n",
       "skinparam wrapWidth 300\r\n",
       "hide circle\r\n",
       "\r\n",
       "@enduml\r\n",
       "\n",
       "PlantUML version 1.2020.13(Sat Jun 13 12:26:38 UTC 2020)\n",
       "(EPL source distribution)\n",
       "Java Runtime: OpenJDK Runtime Environment\n",
       "JVM: OpenJDK 64-Bit Server VM\n",
       "Default Encoding: UTF-8\n",
       "Language: en\n",
       "Country: null\n",
       "--></g></svg>"
      ]
     },
     "execution_count": 21,
     "metadata": {},
     "output_type": "execute_result"
    }
   ],
   "source": [
    "%viz --style=\"LR\" --view=\"Sequence\" \"MultiplicityTest\""
   ]
  },
  {
   "cell_type": "code",
   "execution_count": 22,
   "id": "18b90868",
   "metadata": {
    "execution": {
     "iopub.execute_input": "2022-03-03T09:58:30.155891Z",
     "iopub.status.busy": "2022-03-03T09:58:30.155648Z",
     "iopub.status.idle": "2022-03-03T09:58:30.234891Z",
     "shell.execute_reply": "2022-03-03T09:58:30.235147Z"
    }
   },
   "outputs": [
    {
     "data": {
      "image/svg+xml": [
       "<?xml version=\"1.0\" encoding=\"UTF-8\" standalone=\"no\"?><svg xmlns=\"http://www.w3.org/2000/svg\" xmlns:xlink=\"http://www.w3.org/1999/xlink\" contentScriptType=\"application/ecmascript\" contentStyleType=\"text/css\" height=\"805px\" preserveAspectRatio=\"none\" style=\"width:299px;height:805px;\" version=\"1.1\" viewBox=\"0 0 299 805\" width=\"299px\" zoomAndPan=\"magnify\"><defs/><g><!--MD5=[fbc87193dbaf4d95561dea2c320d4a47]\n",
       "cluster E1--><a href=\"psysml:437e1e49-e6a3-4f3e-be27-b1e07120749d\" target=\"_top\" title=\"psysml:437e1e49-e6a3-4f3e-be27-b1e07120749d\" xlink:actuate=\"onRequest\" xlink:href=\"psysml:437e1e49-e6a3-4f3e-be27-b1e07120749d\" xlink:show=\"new\" xlink:title=\"psysml:437e1e49-e6a3-4f3e-be27-b1e07120749d\" xlink:type=\"simple\"><polygon fill=\"#FFFFFF\" points=\"16,6,123,6,130,28.2969,277,28.2969,277,793,16,793,16,6\" style=\"stroke: #000000; stroke-width: 1.5;\"/><line style=\"stroke: #000000; stroke-width: 1.5;\" x1=\"16\" x2=\"130\" y1=\"28.2969\" y2=\"28.2969\"/><text fill=\"#000000\" font-family=\"sans-serif\" font-size=\"14\" font-weight=\"bold\" lengthAdjust=\"spacingAndGlyphs\" textLength=\"101\" x=\"20\" y=\"20.9951\">MultiplicityTest</text></a><!--MD5=[b4997ac47864f28c2f74865a473b2911]\n",
       "class E2--><a href=\"psysml:d60dc8a9-ee87-4177-8909-4fd780a9d8f8\" target=\"_top\" title=\"psysml:d60dc8a9-ee87-4177-8909-4fd780a9d8f8\" xlink:actuate=\"onRequest\" xlink:href=\"psysml:d60dc8a9-ee87-4177-8909-4fd780a9d8f8\" xlink:show=\"new\" xlink:title=\"psysml:d60dc8a9-ee87-4177-8909-4fd780a9d8f8\" xlink:type=\"simple\"><rect fill=\"#FFFFFF\" height=\"45.9375\" id=\"E2\" style=\"stroke: #383838; stroke-width: 1.5;\" width=\"70\" x=\"191\" y=\"244\"/><text fill=\"#000000\" font-family=\"sans-serif\" font-size=\"12\" font-style=\"italic\" lengthAdjust=\"spacingAndGlyphs\" textLength=\"68\" x=\"192\" y=\"260.1387\">«part  def»</text><text fill=\"#000000\" font-family=\"sans-serif\" font-size=\"12\" lengthAdjust=\"spacingAndGlyphs\" textLength=\"8\" x=\"222\" y=\"274.1074\">P</text><line style=\"stroke: #383838; stroke-width: 1.5;\" x1=\"192\" x2=\"260\" y1=\"281.9375\" y2=\"281.9375\"/></a><!--MD5=[09b614a08d8cba4a07c9adeb5e0fee81]\n",
       "class E3--><a href=\"psysml:a5340f1d-d68a-4585-8f96-7305e6f489d2\" target=\"_top\" title=\"psysml:a5340f1d-d68a-4585-8f96-7305e6f489d2\" xlink:actuate=\"onRequest\" xlink:href=\"psysml:a5340f1d-d68a-4585-8f96-7305e6f489d2\" xlink:show=\"new\" xlink:title=\"psysml:a5340f1d-d68a-4585-8f96-7305e6f489d2\" xlink:type=\"simple\"><rect fill=\"#FFFFFF\" height=\"45.9375\" id=\"E3\" rx=\"10\" ry=\"10\" style=\"stroke: #383838; stroke-width: 1.5;\" width=\"71\" x=\"46\" y=\"41\"/><text fill=\"#000000\" font-family=\"sans-serif\" font-size=\"12\" font-style=\"italic\" lengthAdjust=\"spacingAndGlyphs\" textLength=\"69\" x=\"47\" y=\"57.1387\">«attribute»</text><text fill=\"#000000\" font-family=\"sans-serif\" font-size=\"12\" lengthAdjust=\"spacingAndGlyphs\" textLength=\"61\" x=\"49\" y=\"71.1074\">n: Integer</text><line style=\"stroke: #383838; stroke-width: 1.5;\" x1=\"47\" x2=\"116\" y1=\"78.9375\" y2=\"78.9375\"/></a><!--MD5=[ebbe1d658d1005bcc118a6aa81145e00]\n",
       "class E4--><a href=\"psysml:478d9241-8f6e-4034-a71b-67b7ef5acdce\" target=\"_top\" title=\"psysml:478d9241-8f6e-4034-a71b-67b7ef5acdce\" xlink:actuate=\"onRequest\" xlink:href=\"psysml:478d9241-8f6e-4034-a71b-67b7ef5acdce\" xlink:show=\"new\" xlink:title=\"psysml:478d9241-8f6e-4034-a71b-67b7ef5acdce\" xlink:type=\"simple\"><rect fill=\"#FFFFFF\" height=\"45.9375\" id=\"E4\" rx=\"10\" ry=\"10\" style=\"stroke: #383838; stroke-width: 1.5;\" width=\"42\" x=\"60.5\" y=\"122\"/><text fill=\"#000000\" font-family=\"sans-serif\" font-size=\"12\" font-style=\"italic\" lengthAdjust=\"spacingAndGlyphs\" textLength=\"40\" x=\"61.5\" y=\"138.1387\">«part»</text><text fill=\"#000000\" font-family=\"sans-serif\" font-size=\"12\" lengthAdjust=\"spacingAndGlyphs\" textLength=\"8\" x=\"75.5\" y=\"152.1074\">a</text><line style=\"stroke: #383838; stroke-width: 1.5;\" x1=\"61.5\" x2=\"101.5\" y1=\"159.9375\" y2=\"159.9375\"/></a><!--MD5=[270fce915f116d4de14055a7c1d9a0f3]\n",
       "class E5--><a href=\"psysml:bc94da79-c19f-4e44-8720-527e565e90dd\" target=\"_top\" title=\"psysml:bc94da79-c19f-4e44-8720-527e565e90dd\" xlink:actuate=\"onRequest\" xlink:href=\"psysml:bc94da79-c19f-4e44-8720-527e565e90dd\" xlink:show=\"new\" xlink:title=\"psysml:bc94da79-c19f-4e44-8720-527e565e90dd\" xlink:type=\"simple\"><rect fill=\"#FFFFFF\" height=\"45.9375\" id=\"E5\" rx=\"10\" ry=\"10\" style=\"stroke: #383838; stroke-width: 1.5;\" width=\"42\" x=\"60.5\" y=\"203\"/><text fill=\"#000000\" font-family=\"sans-serif\" font-size=\"12\" font-style=\"italic\" lengthAdjust=\"spacingAndGlyphs\" textLength=\"40\" x=\"61.5\" y=\"219.1387\">«part»</text><text fill=\"#000000\" font-family=\"sans-serif\" font-size=\"12\" lengthAdjust=\"spacingAndGlyphs\" textLength=\"24\" x=\"67.5\" y=\"233.1074\">b: P</text><line style=\"stroke: #383838; stroke-width: 1.5;\" x1=\"61.5\" x2=\"101.5\" y1=\"240.9375\" y2=\"240.9375\"/></a><!--MD5=[60a26617385b1d2d0262a64233df1f8d]\n",
       "class E6--><a href=\"psysml:619a7e97-bac6-4f1e-8369-8e8a5aa8da71\" target=\"_top\" title=\"psysml:619a7e97-bac6-4f1e-8369-8e8a5aa8da71\" xlink:actuate=\"onRequest\" xlink:href=\"psysml:619a7e97-bac6-4f1e-8369-8e8a5aa8da71\" xlink:show=\"new\" xlink:title=\"psysml:619a7e97-bac6-4f1e-8369-8e8a5aa8da71\" xlink:type=\"simple\"><rect fill=\"#FFFFFF\" height=\"45.9375\" id=\"E6\" rx=\"10\" ry=\"10\" style=\"stroke: #383838; stroke-width: 1.5;\" width=\"42\" x=\"60.5\" y=\"284\"/><text fill=\"#000000\" font-family=\"sans-serif\" font-size=\"12\" font-style=\"italic\" lengthAdjust=\"spacingAndGlyphs\" textLength=\"40\" x=\"61.5\" y=\"300.1387\">«part»</text><text fill=\"#000000\" font-family=\"sans-serif\" font-size=\"12\" lengthAdjust=\"spacingAndGlyphs\" textLength=\"23\" x=\"68\" y=\"314.1074\">c: P</text><line style=\"stroke: #383838; stroke-width: 1.5;\" x1=\"61.5\" x2=\"101.5\" y1=\"321.9375\" y2=\"321.9375\"/></a><!--MD5=[2156ba9850f5573cc1fc38a6a4b2f02b]\n",
       "class E7--><a href=\"psysml:baf82fce-ad86-47f7-be04-61d8ab51238a\" target=\"_top\" title=\"psysml:baf82fce-ad86-47f7-be04-61d8ab51238a\" xlink:actuate=\"onRequest\" xlink:href=\"psysml:baf82fce-ad86-47f7-be04-61d8ab51238a\" xlink:show=\"new\" xlink:title=\"psysml:baf82fce-ad86-47f7-be04-61d8ab51238a\" xlink:type=\"simple\"><rect fill=\"#FFFFFF\" height=\"45.9375\" id=\"E7\" rx=\"10\" ry=\"10\" style=\"stroke: #383838; stroke-width: 1.5;\" width=\"42\" x=\"60.5\" y=\"365\"/><text fill=\"#000000\" font-family=\"sans-serif\" font-size=\"12\" font-style=\"italic\" lengthAdjust=\"spacingAndGlyphs\" textLength=\"40\" x=\"61.5\" y=\"381.1387\">«part»</text><text fill=\"#000000\" font-family=\"sans-serif\" font-size=\"12\" lengthAdjust=\"spacingAndGlyphs\" textLength=\"8\" x=\"75.5\" y=\"395.1074\">d</text><line style=\"stroke: #383838; stroke-width: 1.5;\" x1=\"61.5\" x2=\"101.5\" y1=\"402.9375\" y2=\"402.9375\"/></a><!--MD5=[b9389687b975829384b498ac4b7476b2]\n",
       "class E8--><a href=\"psysml:602edda4-e9f7-4346-9e9a-bc1deb44a144\" target=\"_top\" title=\"psysml:602edda4-e9f7-4346-9e9a-bc1deb44a144\" xlink:actuate=\"onRequest\" xlink:href=\"psysml:602edda4-e9f7-4346-9e9a-bc1deb44a144\" xlink:show=\"new\" xlink:title=\"psysml:602edda4-e9f7-4346-9e9a-bc1deb44a144\" xlink:type=\"simple\"><rect fill=\"#FFFFFF\" height=\"45.9375\" id=\"E8\" rx=\"10\" ry=\"10\" style=\"stroke: #383838; stroke-width: 1.5;\" width=\"42\" x=\"60.5\" y=\"446\"/><text fill=\"#000000\" font-family=\"sans-serif\" font-size=\"12\" font-style=\"italic\" lengthAdjust=\"spacingAndGlyphs\" textLength=\"40\" x=\"61.5\" y=\"462.1387\">«part»</text><text fill=\"#000000\" font-family=\"sans-serif\" font-size=\"12\" lengthAdjust=\"spacingAndGlyphs\" textLength=\"8\" x=\"75.5\" y=\"476.1074\">e</text><line style=\"stroke: #383838; stroke-width: 1.5;\" x1=\"61.5\" x2=\"101.5\" y1=\"483.9375\" y2=\"483.9375\"/></a><!--MD5=[fd4143e9d270a159db93a4ea2a975926]\n",
       "class E9--><a href=\"psysml:ea99d53b-6b01-4b58-853a-79f827c6b1d7\" target=\"_top\" title=\"psysml:ea99d53b-6b01-4b58-853a-79f827c6b1d7\" xlink:actuate=\"onRequest\" xlink:href=\"psysml:ea99d53b-6b01-4b58-853a-79f827c6b1d7\" xlink:show=\"new\" xlink:title=\"psysml:ea99d53b-6b01-4b58-853a-79f827c6b1d7\" xlink:type=\"simple\"><rect fill=\"#FFFFFF\" height=\"45.9375\" id=\"E9\" rx=\"10\" ry=\"10\" style=\"stroke: #383838; stroke-width: 1.5;\" width=\"42\" x=\"60.5\" y=\"527\"/><text fill=\"#000000\" font-family=\"sans-serif\" font-size=\"12\" font-style=\"italic\" lengthAdjust=\"spacingAndGlyphs\" textLength=\"40\" x=\"61.5\" y=\"543.1387\">«part»</text><text fill=\"#000000\" font-family=\"sans-serif\" font-size=\"12\" lengthAdjust=\"spacingAndGlyphs\" textLength=\"4\" x=\"77.5\" y=\"557.1074\">f</text><line style=\"stroke: #383838; stroke-width: 1.5;\" x1=\"61.5\" x2=\"101.5\" y1=\"564.9375\" y2=\"564.9375\"/></a><!--MD5=[96f4274e9e20536e775497830990834d]\n",
       "class E10--><a href=\"psysml:7f8b6820-ebe3-4bcd-8be0-e5513e7bb89f\" target=\"_top\" title=\"psysml:7f8b6820-ebe3-4bcd-8be0-e5513e7bb89f\" xlink:actuate=\"onRequest\" xlink:href=\"psysml:7f8b6820-ebe3-4bcd-8be0-e5513e7bb89f\" xlink:show=\"new\" xlink:title=\"psysml:7f8b6820-ebe3-4bcd-8be0-e5513e7bb89f\" xlink:type=\"simple\"><rect fill=\"#FFFFFF\" height=\"45.9375\" id=\"E10\" rx=\"10\" ry=\"10\" style=\"stroke: #383838; stroke-width: 1.5;\" width=\"42\" x=\"60.5\" y=\"608\"/><text fill=\"#000000\" font-family=\"sans-serif\" font-size=\"12\" font-style=\"italic\" lengthAdjust=\"spacingAndGlyphs\" textLength=\"40\" x=\"61.5\" y=\"624.1387\">«part»</text><text fill=\"#000000\" font-family=\"sans-serif\" font-size=\"12\" lengthAdjust=\"spacingAndGlyphs\" textLength=\"8\" x=\"75.5\" y=\"638.1074\">g</text><line style=\"stroke: #383838; stroke-width: 1.5;\" x1=\"61.5\" x2=\"101.5\" y1=\"645.9375\" y2=\"645.9375\"/></a><!--MD5=[1dd1bfd58a279cf63c5f349dbc8fc6a1]\n",
       "class E11--><a href=\"psysml:b98160f9-962b-4166-b8bf-1b8817b6e181\" target=\"_top\" title=\"psysml:b98160f9-962b-4166-b8bf-1b8817b6e181\" xlink:actuate=\"onRequest\" xlink:href=\"psysml:b98160f9-962b-4166-b8bf-1b8817b6e181\" xlink:show=\"new\" xlink:title=\"psysml:b98160f9-962b-4166-b8bf-1b8817b6e181\" xlink:type=\"simple\"><rect fill=\"#FFFFFF\" height=\"88.3516\" id=\"E11\" style=\"stroke: #383838; stroke-width: 1.5;\" width=\"99\" x=\"32\" y=\"689\"/><text fill=\"#000000\" font-family=\"sans-serif\" font-size=\"12\" font-style=\"italic\" lengthAdjust=\"spacingAndGlyphs\" textLength=\"97\" x=\"33\" y=\"705.1387\">«attribute  def»</text><text fill=\"#000000\" font-family=\"sans-serif\" font-size=\"12\" lengthAdjust=\"spacingAndGlyphs\" textLength=\"8\" x=\"77.5\" y=\"719.1074\">A</text><line style=\"stroke: #383838; stroke-width: 1.5;\" x1=\"33\" x2=\"130\" y1=\"726.9375\" y2=\"726.9375\"/><text fill=\"#000000\" font-family=\"sans-serif\" font-size=\"11\" lengthAdjust=\"spacingAndGlyphs\" textLength=\"51\" x=\"38\" y=\"757.9526\">i: Integer</text><text fill=\"#000000\" font-family=\"sans-serif\" font-size=\"11\" lengthAdjust=\"spacingAndGlyphs\" textLength=\"21\" x=\"38\" y=\"770.7573\">x: A</text><line style=\"stroke: #383838; stroke-width: 1.0;\" x1=\"33\" x2=\"54\" y1=\"741.3398\" y2=\"741.3398\"/><text fill=\"#000000\" font-family=\"sans-serif\" font-size=\"11\" lengthAdjust=\"spacingAndGlyphs\" textLength=\"55\" x=\"54\" y=\"744.6479\">attributes</text><line style=\"stroke: #383838; stroke-width: 1.0;\" x1=\"109\" x2=\"130\" y1=\"741.3398\" y2=\"741.3398\"/></a><!--MD5=[15ebcb19ae302d9b601edb458606d402]\n",
       "link E5 to E2--><a href=\"psysml:f465fece-be6c-4a0b-8b87-5b67ed75d8f8\" target=\"_top\" title=\"psysml:f465fece-be6c-4a0b-8b87-5b67ed75d8f8\" xlink:actuate=\"onRequest\" xlink:href=\"psysml:f465fece-be6c-4a0b-8b87-5b67ed75d8f8\" xlink:show=\"new\" xlink:title=\"psysml:f465fece-be6c-4a0b-8b87-5b67ed75d8f8\" xlink:type=\"simple\"><path d=\"M102.61,231.79 C120.54,236.94 147.58,244.72 171.69,251.66 \" fill=\"none\" id=\"E5-&gt;E2\" style=\"stroke: #383838; stroke-width: 1.0;\"/><polygon fill=\"#FFFFFF\" points=\"190.99,257.21,170.7942,258.6694,174.6746,245.218,190.99,257.21\" style=\"stroke: #383838; stroke-width: 1.0;\"/><ellipse cx=\"165.8719\" cy=\"255.1679\" fill=\"#383838\" rx=\"2\" ry=\"2\" style=\"stroke: #383838; stroke-width: 1.0;\"/><ellipse cx=\"168.6436\" cy=\"245.5597\" fill=\"#383838\" rx=\"2\" ry=\"2\" style=\"stroke: #383838; stroke-width: 1.0;\"/></a><!--MD5=[2351f337d6de0f557b50152ba70847b5]\n",
       "link E6 to E2--><a href=\"psysml:72e02ffe-11ce-46be-a503-0c91c54548ee\" target=\"_top\" title=\"psysml:72e02ffe-11ce-46be-a503-0c91c54548ee\" xlink:actuate=\"onRequest\" xlink:href=\"psysml:72e02ffe-11ce-46be-a503-0c91c54548ee\" xlink:show=\"new\" xlink:title=\"psysml:72e02ffe-11ce-46be-a503-0c91c54548ee\" xlink:type=\"simple\"><path d=\"M102.61,301.35 C120.54,296.32 147.58,288.73 171.69,281.96 \" fill=\"none\" id=\"E6-&gt;E2\" style=\"stroke: #383838; stroke-width: 1.0;\"/><polygon fill=\"#FFFFFF\" points=\"190.99,276.55,174.5938,288.4313,170.8046,274.9539,190.99,276.55\" style=\"stroke: #383838; stroke-width: 1.0;\"/><ellipse cx=\"168.5653\" cy=\"288.0487\" fill=\"#383838\" rx=\"2\" ry=\"2\" style=\"stroke: #383838; stroke-width: 1.0;\"/><ellipse cx=\"165.8586\" cy=\"278.422\" fill=\"#383838\" rx=\"2\" ry=\"2\" style=\"stroke: #383838; stroke-width: 1.0;\"/></a><!--MD5=[d8c0509a722ec5da1413541af9ba3416]\n",
       "@startuml\r\n",
       "left to right direction\r\n",
       "skinparam monochrome true\r\n",
       "skinparam classbackgroundcolor white\r\n",
       "skinparam shadowing false\r\n",
       "skinparam wrapWidth 300\r\n",
       "hide circle\r\n",
       "\r\n",
       "package \"MultiplicityTest\" as E1  [[psysml:437e1e49-e6a3-4f3e-be27-b1e07120749d ]]  {\r\n",
       "comp def \"P\" as E2  <<(T,blue) part  def>> [[psysml:d60dc8a9-ee87-4177-8909-4fd780a9d8f8 ]] {\r\n",
       "}\r\n",
       "comp usage \"n: Integer \" as E3  <<(T,blue) attribute>> [[psysml:a5340f1d-d68a-4585-8f96-7305e6f489d2 ]] {\r\n",
       "}\r\n",
       "comp usage \"a \" as E4  <<(T,blue) part>> [[psysml:478d9241-8f6e-4034-a71b-67b7ef5acdce ]] {\r\n",
       "}\r\n",
       "comp usage \"b: P \" as E5  <<(T,blue) part>> [[psysml:bc94da79-c19f-4e44-8720-527e565e90dd ]] {\r\n",
       "}\r\n",
       "comp usage \"c: P \" as E6  <<(T,blue) part>> [[psysml:619a7e97-bac6-4f1e-8369-8e8a5aa8da71 ]] {\r\n",
       "}\r\n",
       "comp usage \"d \" as E7  <<(T,blue) part>> [[psysml:baf82fce-ad86-47f7-be04-61d8ab51238a ]] {\r\n",
       "}\r\n",
       "comp usage \"e \" as E8  <<(T,blue) part>> [[psysml:602edda4-e9f7-4346-9e9a-bc1deb44a144 ]] {\r\n",
       "}\r\n",
       "comp usage \"f \" as E9  <<(T,blue) part>> [[psysml:ea99d53b-6b01-4b58-853a-79f827c6b1d7 ]] {\r\n",
       "}\r\n",
       "comp usage \"g \" as E10  <<(T,blue) part>> [[psysml:7f8b6820-ebe3-4bcd-8be0-e5513e7bb89f ]] {\r\n",
       "}\r\n",
       "comp def \"A\" as E11  <<(T,blue) attribute  def>> [[psysml:b98160f9-962b-4166-b8bf-1b8817b6e181 ]] {\r\n",
       "- - attributes - -\r\n",
       "i: Integer\r\n",
       "x: A\r\n",
       "}\r\n",
       "}\r\n",
       "E5 - -:|> E2 [[psysml:f465fece-be6c-4a0b-8b87-5b67ed75d8f8 ]] \r\n",
       "E6 - -:|> E2 [[psysml:72e02ffe-11ce-46be-a503-0c91c54548ee ]] \r\n",
       "@enduml\r\n",
       "\n",
       "PlantUML version 1.2020.13(Sat Jun 13 12:26:38 UTC 2020)\n",
       "(EPL source distribution)\n",
       "Java Runtime: OpenJDK Runtime Environment\n",
       "JVM: OpenJDK 64-Bit Server VM\n",
       "Default Encoding: UTF-8\n",
       "Language: en\n",
       "Country: null\n",
       "--></g></svg>"
      ]
     },
     "execution_count": 22,
     "metadata": {},
     "output_type": "execute_result"
    }
   ],
   "source": [
    "%viz --style=\"LR\" --view=\"MIXED\" \"MultiplicityTest\""
   ]
  },
  {
   "cell_type": "code",
   "execution_count": 23,
   "id": "d714bb4e",
   "metadata": {
    "execution": {
     "iopub.execute_input": "2022-03-03T09:58:30.285251Z",
     "iopub.status.busy": "2022-03-03T09:58:30.284921Z",
     "iopub.status.idle": "2022-03-03T09:58:30.349960Z",
     "shell.execute_reply": "2022-03-03T09:58:30.349599Z"
    }
   },
   "outputs": [
    {
     "data": {
      "image/svg+xml": [
       "<?xml version=\"1.0\" encoding=\"UTF-8\" standalone=\"no\"?><svg xmlns=\"http://www.w3.org/2000/svg\" xmlns:xlink=\"http://www.w3.org/1999/xlink\" contentScriptType=\"application/ecmascript\" contentStyleType=\"text/css\" height=\"263px\" preserveAspectRatio=\"none\" style=\"width:816px;height:263px;\" version=\"1.1\" viewBox=\"0 0 816 263\" width=\"816px\" zoomAndPan=\"magnify\"><defs><filter height=\"300%\" id=\"fhl169a504dki\" width=\"300%\" x=\"-1\" y=\"-1\"><feGaussianBlur result=\"blurOut\" stdDeviation=\"2.0\"/><feColorMatrix in=\"blurOut\" result=\"blurOut2\" type=\"matrix\" values=\"0 0 0 0 0 0 0 0 0 0 0 0 0 0 0 0 0 0 .4 0\"/><feOffset dx=\"4.0\" dy=\"4.0\" in=\"blurOut2\" result=\"blurOut3\"/><feBlend in=\"SourceGraphic\" in2=\"blurOut3\" mode=\"normal\"/></filter></defs><g><!--MD5=[fbc87193dbaf4d95561dea2c320d4a47]\n",
       "cluster E1--><a href=\"psysml:437e1e49-e6a3-4f3e-be27-b1e07120749d\" target=\"_top\" title=\"psysml:437e1e49-e6a3-4f3e-be27-b1e07120749d\" xlink:actuate=\"onRequest\" xlink:href=\"psysml:437e1e49-e6a3-4f3e-be27-b1e07120749d\" xlink:show=\"new\" xlink:title=\"psysml:437e1e49-e6a3-4f3e-be27-b1e07120749d\" xlink:type=\"simple\"><polygon fill=\"#FFFFFF\" filter=\"url(#fhl169a504dki)\" points=\"16,6,123,6,130,28.2969,794,28.2969,794,251,16,251,16,6\" style=\"stroke: #000000; stroke-width: 1.5;\"/><line style=\"stroke: #000000; stroke-width: 1.5;\" x1=\"16\" x2=\"130\" y1=\"28.2969\" y2=\"28.2969\"/><text fill=\"#000000\" font-family=\"sans-serif\" font-size=\"14\" font-weight=\"bold\" lengthAdjust=\"spacingAndGlyphs\" textLength=\"101\" x=\"20\" y=\"20.9951\">MultiplicityTest</text></a><!--MD5=[b4997ac47864f28c2f74865a473b2911]\n",
       "class E2--><a href=\"psysml:d60dc8a9-ee87-4177-8909-4fd780a9d8f8\" target=\"_top\" title=\"psysml:d60dc8a9-ee87-4177-8909-4fd780a9d8f8\" xlink:actuate=\"onRequest\" xlink:href=\"psysml:d60dc8a9-ee87-4177-8909-4fd780a9d8f8\" xlink:show=\"new\" xlink:title=\"psysml:d60dc8a9-ee87-4177-8909-4fd780a9d8f8\" xlink:type=\"simple\"><rect fill=\"#FEFECE\" filter=\"url(#fhl169a504dki)\" height=\"45.9375\" id=\"E2\" style=\"stroke: #A80036; stroke-width: 1.5;\" width=\"70\" x=\"499\" y=\"189\"/><text fill=\"#000000\" font-family=\"sans-serif\" font-size=\"12\" font-style=\"italic\" lengthAdjust=\"spacingAndGlyphs\" textLength=\"68\" x=\"500\" y=\"205.1387\">«part  def»</text><text fill=\"#000000\" font-family=\"sans-serif\" font-size=\"12\" lengthAdjust=\"spacingAndGlyphs\" textLength=\"8\" x=\"530\" y=\"219.1074\">P</text><line style=\"stroke: #A80036; stroke-width: 1.5;\" x1=\"500\" x2=\"568\" y1=\"226.9375\" y2=\"226.9375\"/></a><!--MD5=[09b614a08d8cba4a07c9adeb5e0fee81]\n",
       "class E3--><a href=\"psysml:a5340f1d-d68a-4585-8f96-7305e6f489d2\" target=\"_top\" title=\"psysml:a5340f1d-d68a-4585-8f96-7305e6f489d2\" xlink:actuate=\"onRequest\" xlink:href=\"psysml:a5340f1d-d68a-4585-8f96-7305e6f489d2\" xlink:show=\"new\" xlink:title=\"psysml:a5340f1d-d68a-4585-8f96-7305e6f489d2\" xlink:type=\"simple\"><rect fill=\"#FEFECE\" filter=\"url(#fhl169a504dki)\" height=\"45.9375\" id=\"E3\" rx=\"10\" ry=\"10\" style=\"stroke: #A80036; stroke-width: 1.5;\" width=\"71\" x=\"706.5\" y=\"62\"/><text fill=\"#000000\" font-family=\"sans-serif\" font-size=\"12\" font-style=\"italic\" lengthAdjust=\"spacingAndGlyphs\" textLength=\"69\" x=\"707.5\" y=\"78.1387\">«attribute»</text><text fill=\"#000000\" font-family=\"sans-serif\" font-size=\"12\" lengthAdjust=\"spacingAndGlyphs\" textLength=\"61\" x=\"709.5\" y=\"92.1074\">n: Integer</text><line style=\"stroke: #A80036; stroke-width: 1.5;\" x1=\"707.5\" x2=\"776.5\" y1=\"99.9375\" y2=\"99.9375\"/></a><!--MD5=[ebbe1d658d1005bcc118a6aa81145e00]\n",
       "class E4--><a href=\"psysml:478d9241-8f6e-4034-a71b-67b7ef5acdce\" target=\"_top\" title=\"psysml:478d9241-8f6e-4034-a71b-67b7ef5acdce\" xlink:actuate=\"onRequest\" xlink:href=\"psysml:478d9241-8f6e-4034-a71b-67b7ef5acdce\" xlink:show=\"new\" xlink:title=\"psysml:478d9241-8f6e-4034-a71b-67b7ef5acdce\" xlink:type=\"simple\"><rect fill=\"#FEFECE\" filter=\"url(#fhl169a504dki)\" height=\"45.9375\" id=\"E4\" rx=\"10\" ry=\"10\" style=\"stroke: #A80036; stroke-width: 1.5;\" width=\"42\" x=\"629\" y=\"62\"/><text fill=\"#000000\" font-family=\"sans-serif\" font-size=\"12\" font-style=\"italic\" lengthAdjust=\"spacingAndGlyphs\" textLength=\"40\" x=\"630\" y=\"78.1387\">«part»</text><text fill=\"#000000\" font-family=\"sans-serif\" font-size=\"12\" lengthAdjust=\"spacingAndGlyphs\" textLength=\"8\" x=\"644\" y=\"92.1074\">a</text><line style=\"stroke: #A80036; stroke-width: 1.5;\" x1=\"630\" x2=\"670\" y1=\"99.9375\" y2=\"99.9375\"/></a><!--MD5=[270fce915f116d4de14055a7c1d9a0f3]\n",
       "class E5--><a href=\"psysml:bc94da79-c19f-4e44-8720-527e565e90dd\" target=\"_top\" title=\"psysml:bc94da79-c19f-4e44-8720-527e565e90dd\" xlink:actuate=\"onRequest\" xlink:href=\"psysml:bc94da79-c19f-4e44-8720-527e565e90dd\" xlink:show=\"new\" xlink:title=\"psysml:bc94da79-c19f-4e44-8720-527e565e90dd\" xlink:type=\"simple\"><rect fill=\"#FEFECE\" filter=\"url(#fhl169a504dki)\" height=\"45.9375\" id=\"E5\" rx=\"10\" ry=\"10\" style=\"stroke: #A80036; stroke-width: 1.5;\" width=\"42\" x=\"552\" y=\"62\"/><text fill=\"#000000\" font-family=\"sans-serif\" font-size=\"12\" font-style=\"italic\" lengthAdjust=\"spacingAndGlyphs\" textLength=\"40\" x=\"553\" y=\"78.1387\">«part»</text><text fill=\"#000000\" font-family=\"sans-serif\" font-size=\"12\" lengthAdjust=\"spacingAndGlyphs\" textLength=\"24\" x=\"559\" y=\"92.1074\">b: P</text><line style=\"stroke: #A80036; stroke-width: 1.5;\" x1=\"553\" x2=\"593\" y1=\"99.9375\" y2=\"99.9375\"/></a><!--MD5=[60a26617385b1d2d0262a64233df1f8d]\n",
       "class E6--><a href=\"psysml:619a7e97-bac6-4f1e-8369-8e8a5aa8da71\" target=\"_top\" title=\"psysml:619a7e97-bac6-4f1e-8369-8e8a5aa8da71\" xlink:actuate=\"onRequest\" xlink:href=\"psysml:619a7e97-bac6-4f1e-8369-8e8a5aa8da71\" xlink:show=\"new\" xlink:title=\"psysml:619a7e97-bac6-4f1e-8369-8e8a5aa8da71\" xlink:type=\"simple\"><rect fill=\"#FEFECE\" filter=\"url(#fhl169a504dki)\" height=\"45.9375\" id=\"E6\" rx=\"10\" ry=\"10\" style=\"stroke: #A80036; stroke-width: 1.5;\" width=\"42\" x=\"475\" y=\"62\"/><text fill=\"#000000\" font-family=\"sans-serif\" font-size=\"12\" font-style=\"italic\" lengthAdjust=\"spacingAndGlyphs\" textLength=\"40\" x=\"476\" y=\"78.1387\">«part»</text><text fill=\"#000000\" font-family=\"sans-serif\" font-size=\"12\" lengthAdjust=\"spacingAndGlyphs\" textLength=\"23\" x=\"482.5\" y=\"92.1074\">c: P</text><line style=\"stroke: #A80036; stroke-width: 1.5;\" x1=\"476\" x2=\"516\" y1=\"99.9375\" y2=\"99.9375\"/></a><!--MD5=[2156ba9850f5573cc1fc38a6a4b2f02b]\n",
       "class E7--><a href=\"psysml:baf82fce-ad86-47f7-be04-61d8ab51238a\" target=\"_top\" title=\"psysml:baf82fce-ad86-47f7-be04-61d8ab51238a\" xlink:actuate=\"onRequest\" xlink:href=\"psysml:baf82fce-ad86-47f7-be04-61d8ab51238a\" xlink:show=\"new\" xlink:title=\"psysml:baf82fce-ad86-47f7-be04-61d8ab51238a\" xlink:type=\"simple\"><rect fill=\"#FEFECE\" filter=\"url(#fhl169a504dki)\" height=\"45.9375\" id=\"E7\" rx=\"10\" ry=\"10\" style=\"stroke: #A80036; stroke-width: 1.5;\" width=\"42\" x=\"398\" y=\"62\"/><text fill=\"#000000\" font-family=\"sans-serif\" font-size=\"12\" font-style=\"italic\" lengthAdjust=\"spacingAndGlyphs\" textLength=\"40\" x=\"399\" y=\"78.1387\">«part»</text><text fill=\"#000000\" font-family=\"sans-serif\" font-size=\"12\" lengthAdjust=\"spacingAndGlyphs\" textLength=\"8\" x=\"413\" y=\"92.1074\">d</text><line style=\"stroke: #A80036; stroke-width: 1.5;\" x1=\"399\" x2=\"439\" y1=\"99.9375\" y2=\"99.9375\"/></a><!--MD5=[b9389687b975829384b498ac4b7476b2]\n",
       "class E8--><a href=\"psysml:602edda4-e9f7-4346-9e9a-bc1deb44a144\" target=\"_top\" title=\"psysml:602edda4-e9f7-4346-9e9a-bc1deb44a144\" xlink:actuate=\"onRequest\" xlink:href=\"psysml:602edda4-e9f7-4346-9e9a-bc1deb44a144\" xlink:show=\"new\" xlink:title=\"psysml:602edda4-e9f7-4346-9e9a-bc1deb44a144\" xlink:type=\"simple\"><rect fill=\"#FEFECE\" filter=\"url(#fhl169a504dki)\" height=\"45.9375\" id=\"E8\" rx=\"10\" ry=\"10\" style=\"stroke: #A80036; stroke-width: 1.5;\" width=\"42\" x=\"321\" y=\"62\"/><text fill=\"#000000\" font-family=\"sans-serif\" font-size=\"12\" font-style=\"italic\" lengthAdjust=\"spacingAndGlyphs\" textLength=\"40\" x=\"322\" y=\"78.1387\">«part»</text><text fill=\"#000000\" font-family=\"sans-serif\" font-size=\"12\" lengthAdjust=\"spacingAndGlyphs\" textLength=\"8\" x=\"336\" y=\"92.1074\">e</text><line style=\"stroke: #A80036; stroke-width: 1.5;\" x1=\"322\" x2=\"362\" y1=\"99.9375\" y2=\"99.9375\"/></a><!--MD5=[fd4143e9d270a159db93a4ea2a975926]\n",
       "class E9--><a href=\"psysml:ea99d53b-6b01-4b58-853a-79f827c6b1d7\" target=\"_top\" title=\"psysml:ea99d53b-6b01-4b58-853a-79f827c6b1d7\" xlink:actuate=\"onRequest\" xlink:href=\"psysml:ea99d53b-6b01-4b58-853a-79f827c6b1d7\" xlink:show=\"new\" xlink:title=\"psysml:ea99d53b-6b01-4b58-853a-79f827c6b1d7\" xlink:type=\"simple\"><rect fill=\"#FEFECE\" filter=\"url(#fhl169a504dki)\" height=\"45.9375\" id=\"E9\" rx=\"10\" ry=\"10\" style=\"stroke: #A80036; stroke-width: 1.5;\" width=\"42\" x=\"244\" y=\"62\"/><text fill=\"#000000\" font-family=\"sans-serif\" font-size=\"12\" font-style=\"italic\" lengthAdjust=\"spacingAndGlyphs\" textLength=\"40\" x=\"245\" y=\"78.1387\">«part»</text><text fill=\"#000000\" font-family=\"sans-serif\" font-size=\"12\" lengthAdjust=\"spacingAndGlyphs\" textLength=\"4\" x=\"261\" y=\"92.1074\">f</text><line style=\"stroke: #A80036; stroke-width: 1.5;\" x1=\"245\" x2=\"285\" y1=\"99.9375\" y2=\"99.9375\"/></a><!--MD5=[96f4274e9e20536e775497830990834d]\n",
       "class E10--><a href=\"psysml:7f8b6820-ebe3-4bcd-8be0-e5513e7bb89f\" target=\"_top\" title=\"psysml:7f8b6820-ebe3-4bcd-8be0-e5513e7bb89f\" xlink:actuate=\"onRequest\" xlink:href=\"psysml:7f8b6820-ebe3-4bcd-8be0-e5513e7bb89f\" xlink:show=\"new\" xlink:title=\"psysml:7f8b6820-ebe3-4bcd-8be0-e5513e7bb89f\" xlink:type=\"simple\"><rect fill=\"#FEFECE\" filter=\"url(#fhl169a504dki)\" height=\"45.9375\" id=\"E10\" rx=\"10\" ry=\"10\" style=\"stroke: #A80036; stroke-width: 1.5;\" width=\"42\" x=\"167\" y=\"62\"/><text fill=\"#000000\" font-family=\"sans-serif\" font-size=\"12\" font-style=\"italic\" lengthAdjust=\"spacingAndGlyphs\" textLength=\"40\" x=\"168\" y=\"78.1387\">«part»</text><text fill=\"#000000\" font-family=\"sans-serif\" font-size=\"12\" lengthAdjust=\"spacingAndGlyphs\" textLength=\"8\" x=\"182\" y=\"92.1074\">g</text><line style=\"stroke: #A80036; stroke-width: 1.5;\" x1=\"168\" x2=\"208\" y1=\"99.9375\" y2=\"99.9375\"/></a><!--MD5=[1dd1bfd58a279cf63c5f349dbc8fc6a1]\n",
       "class E11--><a href=\"psysml:b98160f9-962b-4166-b8bf-1b8817b6e181\" target=\"_top\" title=\"psysml:b98160f9-962b-4166-b8bf-1b8817b6e181\" xlink:actuate=\"onRequest\" xlink:href=\"psysml:b98160f9-962b-4166-b8bf-1b8817b6e181\" xlink:show=\"new\" xlink:title=\"psysml:b98160f9-962b-4166-b8bf-1b8817b6e181\" xlink:type=\"simple\"><rect fill=\"#FEFECE\" filter=\"url(#fhl169a504dki)\" height=\"88.3516\" id=\"E11\" style=\"stroke: #A80036; stroke-width: 1.5;\" width=\"99\" x=\"32.5\" y=\"41\"/><text fill=\"#000000\" font-family=\"sans-serif\" font-size=\"12\" font-style=\"italic\" lengthAdjust=\"spacingAndGlyphs\" textLength=\"97\" x=\"33.5\" y=\"57.1387\">«attribute  def»</text><text fill=\"#000000\" font-family=\"sans-serif\" font-size=\"12\" lengthAdjust=\"spacingAndGlyphs\" textLength=\"8\" x=\"78\" y=\"71.1074\">A</text><line style=\"stroke: #A80036; stroke-width: 1.5;\" x1=\"33.5\" x2=\"130.5\" y1=\"78.9375\" y2=\"78.9375\"/><text fill=\"#000000\" font-family=\"sans-serif\" font-size=\"11\" lengthAdjust=\"spacingAndGlyphs\" textLength=\"51\" x=\"38.5\" y=\"109.9526\">i: Integer</text><text fill=\"#000000\" font-family=\"sans-serif\" font-size=\"11\" lengthAdjust=\"spacingAndGlyphs\" textLength=\"21\" x=\"38.5\" y=\"122.7573\">x: A</text><line style=\"stroke: #A80036; stroke-width: 1.0;\" x1=\"33.5\" x2=\"54.5\" y1=\"93.3398\" y2=\"93.3398\"/><text fill=\"#000000\" font-family=\"sans-serif\" font-size=\"11\" lengthAdjust=\"spacingAndGlyphs\" textLength=\"55\" x=\"54.5\" y=\"96.6479\">attributes</text><line style=\"stroke: #A80036; stroke-width: 1.0;\" x1=\"109.5\" x2=\"130.5\" y1=\"93.3398\" y2=\"93.3398\"/></a><!--MD5=[15ebcb19ae302d9b601edb458606d402]\n",
       "link E5 to E2--><a href=\"psysml:f465fece-be6c-4a0b-8b87-5b67ed75d8f8\" target=\"_top\" title=\"psysml:f465fece-be6c-4a0b-8b87-5b67ed75d8f8\" xlink:actuate=\"onRequest\" xlink:href=\"psysml:f465fece-be6c-4a0b-8b87-5b67ed75d8f8\" xlink:show=\"new\" xlink:title=\"psysml:f465fece-be6c-4a0b-8b87-5b67ed75d8f8\" xlink:type=\"simple\"><path d=\"M566.12,108.06 C560.83,125 553.38,148.89 546.98,169.39 \" fill=\"none\" id=\"E5-&gt;E2\" style=\"stroke: #A80036; stroke-width: 1.0;\"/><polygon fill=\"#FFFFFF\" points=\"540.95,188.74,539.929,168.5173,553.2931,172.6886,540.95,188.74\" style=\"stroke: #A80036; stroke-width: 1.0;\"/><ellipse cx=\"543.5364\" cy=\"163.6721\" fill=\"#A80036\" rx=\"2\" ry=\"2\" style=\"stroke: #A80036; stroke-width: 1.0;\"/><ellipse cx=\"553.0823\" cy=\"166.6516\" fill=\"#A80036\" rx=\"2\" ry=\"2\" style=\"stroke: #A80036; stroke-width: 1.0;\"/></a><!--MD5=[2351f337d6de0f557b50152ba70847b5]\n",
       "link E6 to E2--><a href=\"psysml:72e02ffe-11ce-46be-a503-0c91c54548ee\" target=\"_top\" title=\"psysml:72e02ffe-11ce-46be-a503-0c91c54548ee\" xlink:actuate=\"onRequest\" xlink:href=\"psysml:72e02ffe-11ce-46be-a503-0c91c54548ee\" xlink:show=\"new\" xlink:title=\"psysml:72e02ffe-11ce-46be-a503-0c91c54548ee\" xlink:type=\"simple\"><path d=\"M502.71,108.06 C507.86,125 515.12,148.89 521.35,169.39 \" fill=\"none\" id=\"E6-&gt;E2\" style=\"stroke: #A80036; stroke-width: 1.0;\"/><polygon fill=\"#FFFFFF\" points=\"527.23,188.74,515.007,172.597,528.4019,168.5255,527.23,188.74\" style=\"stroke: #A80036; stroke-width: 1.0;\"/><ellipse cx=\"515.2628\" cy=\"166.5617\" fill=\"#A80036\" rx=\"2\" ry=\"2\" style=\"stroke: #A80036; stroke-width: 1.0;\"/><ellipse cx=\"524.8306\" cy=\"163.6535\" fill=\"#A80036\" rx=\"2\" ry=\"2\" style=\"stroke: #A80036; stroke-width: 1.0;\"/></a><!--MD5=[2e0f682f8dcd1a43fd8f0879e7b5f9d1]\n",
       "@startuml\r\n",
       "skinparam wrapWidth 300\r\n",
       "hide circle\r\n",
       "\r\n",
       "package \"MultiplicityTest\" as E1  [[psysml:437e1e49-e6a3-4f3e-be27-b1e07120749d ]]  {\r\n",
       "comp def \"P\" as E2  <<(T,blue) part  def>> [[psysml:d60dc8a9-ee87-4177-8909-4fd780a9d8f8 ]] {\r\n",
       "}\r\n",
       "comp usage \"n: Integer \" as E3  <<(T,blue) attribute>> [[psysml:a5340f1d-d68a-4585-8f96-7305e6f489d2 ]] {\r\n",
       "}\r\n",
       "comp usage \"a \" as E4  <<(T,blue) part>> [[psysml:478d9241-8f6e-4034-a71b-67b7ef5acdce ]] {\r\n",
       "}\r\n",
       "comp usage \"b: P \" as E5  <<(T,blue) part>> [[psysml:bc94da79-c19f-4e44-8720-527e565e90dd ]] {\r\n",
       "}\r\n",
       "comp usage \"c: P \" as E6  <<(T,blue) part>> [[psysml:619a7e97-bac6-4f1e-8369-8e8a5aa8da71 ]] {\r\n",
       "}\r\n",
       "comp usage \"d \" as E7  <<(T,blue) part>> [[psysml:baf82fce-ad86-47f7-be04-61d8ab51238a ]] {\r\n",
       "}\r\n",
       "comp usage \"e \" as E8  <<(T,blue) part>> [[psysml:602edda4-e9f7-4346-9e9a-bc1deb44a144 ]] {\r\n",
       "}\r\n",
       "comp usage \"f \" as E9  <<(T,blue) part>> [[psysml:ea99d53b-6b01-4b58-853a-79f827c6b1d7 ]] {\r\n",
       "}\r\n",
       "comp usage \"g \" as E10  <<(T,blue) part>> [[psysml:7f8b6820-ebe3-4bcd-8be0-e5513e7bb89f ]] {\r\n",
       "}\r\n",
       "comp def \"A\" as E11  <<(T,blue) attribute  def>> [[psysml:b98160f9-962b-4166-b8bf-1b8817b6e181 ]] {\r\n",
       "- - attributes - -\r\n",
       "i: Integer\r\n",
       "x: A\r\n",
       "}\r\n",
       "}\r\n",
       "E5 - -:|> E2 [[psysml:f465fece-be6c-4a0b-8b87-5b67ed75d8f8 ]] \r\n",
       "E6 - -:|> E2 [[psysml:72e02ffe-11ce-46be-a503-0c91c54548ee ]] \r\n",
       "@enduml\r\n",
       "\n",
       "PlantUML version 1.2020.13(Sat Jun 13 12:26:38 UTC 2020)\n",
       "(EPL source distribution)\n",
       "Java Runtime: OpenJDK Runtime Environment\n",
       "JVM: OpenJDK 64-Bit Server VM\n",
       "Default Encoding: UTF-8\n",
       "Language: en\n",
       "Country: null\n",
       "--></g></svg>"
      ]
     },
     "execution_count": 23,
     "metadata": {},
     "output_type": "execute_result"
    }
   ],
   "source": [
    "%viz --style=\"STDCOLOR\" --view=\"Default\" \"MultiplicityTest\""
   ]
  },
  {
   "cell_type": "code",
   "execution_count": 24,
   "id": "fa0a45cd",
   "metadata": {
    "execution": {
     "iopub.execute_input": "2022-03-03T09:58:30.400068Z",
     "iopub.status.busy": "2022-03-03T09:58:30.399643Z",
     "iopub.status.idle": "2022-03-03T09:58:30.464240Z",
     "shell.execute_reply": "2022-03-03T09:58:30.463876Z"
    }
   },
   "outputs": [
    {
     "data": {
      "image/svg+xml": [
       "<?xml version=\"1.0\" encoding=\"UTF-8\" standalone=\"no\"?><svg xmlns=\"http://www.w3.org/2000/svg\" xmlns:xlink=\"http://www.w3.org/1999/xlink\" contentScriptType=\"application/ecmascript\" contentStyleType=\"text/css\" height=\"263px\" preserveAspectRatio=\"none\" style=\"width:816px;height:263px;\" version=\"1.1\" viewBox=\"0 0 816 263\" width=\"816px\" zoomAndPan=\"magnify\"><defs><filter height=\"300%\" id=\"fhl169a504dki\" width=\"300%\" x=\"-1\" y=\"-1\"><feGaussianBlur result=\"blurOut\" stdDeviation=\"2.0\"/><feColorMatrix in=\"blurOut\" result=\"blurOut2\" type=\"matrix\" values=\"0 0 0 0 0 0 0 0 0 0 0 0 0 0 0 0 0 0 .4 0\"/><feOffset dx=\"4.0\" dy=\"4.0\" in=\"blurOut2\" result=\"blurOut3\"/><feBlend in=\"SourceGraphic\" in2=\"blurOut3\" mode=\"normal\"/></filter></defs><g><!--MD5=[fbc87193dbaf4d95561dea2c320d4a47]\n",
       "cluster E1--><a href=\"psysml:437e1e49-e6a3-4f3e-be27-b1e07120749d\" target=\"_top\" title=\"psysml:437e1e49-e6a3-4f3e-be27-b1e07120749d\" xlink:actuate=\"onRequest\" xlink:href=\"psysml:437e1e49-e6a3-4f3e-be27-b1e07120749d\" xlink:show=\"new\" xlink:title=\"psysml:437e1e49-e6a3-4f3e-be27-b1e07120749d\" xlink:type=\"simple\"><polygon fill=\"#FFFFFF\" filter=\"url(#fhl169a504dki)\" points=\"16,6,123,6,130,28.2969,794,28.2969,794,251,16,251,16,6\" style=\"stroke: #000000; stroke-width: 1.5;\"/><line style=\"stroke: #000000; stroke-width: 1.5;\" x1=\"16\" x2=\"130\" y1=\"28.2969\" y2=\"28.2969\"/><text fill=\"#000000\" font-family=\"sans-serif\" font-size=\"14\" font-weight=\"bold\" lengthAdjust=\"spacingAndGlyphs\" textLength=\"101\" x=\"20\" y=\"20.9951\">MultiplicityTest</text></a><!--MD5=[b4997ac47864f28c2f74865a473b2911]\n",
       "class E2--><a href=\"psysml:d60dc8a9-ee87-4177-8909-4fd780a9d8f8\" target=\"_top\" title=\"psysml:d60dc8a9-ee87-4177-8909-4fd780a9d8f8\" xlink:actuate=\"onRequest\" xlink:href=\"psysml:d60dc8a9-ee87-4177-8909-4fd780a9d8f8\" xlink:show=\"new\" xlink:title=\"psysml:d60dc8a9-ee87-4177-8909-4fd780a9d8f8\" xlink:type=\"simple\"><rect fill=\"#FEFECE\" filter=\"url(#fhl169a504dki)\" height=\"45.9375\" id=\"E2\" style=\"stroke: #A80036; stroke-width: 1.5;\" width=\"70\" x=\"499\" y=\"189\"/><text fill=\"#000000\" font-family=\"sans-serif\" font-size=\"12\" font-style=\"italic\" lengthAdjust=\"spacingAndGlyphs\" textLength=\"68\" x=\"500\" y=\"205.1387\">«part  def»</text><text fill=\"#000000\" font-family=\"sans-serif\" font-size=\"12\" lengthAdjust=\"spacingAndGlyphs\" textLength=\"8\" x=\"530\" y=\"219.1074\">P</text><line style=\"stroke: #A80036; stroke-width: 1.5;\" x1=\"500\" x2=\"568\" y1=\"226.9375\" y2=\"226.9375\"/></a><!--MD5=[09b614a08d8cba4a07c9adeb5e0fee81]\n",
       "class E3--><a href=\"psysml:a5340f1d-d68a-4585-8f96-7305e6f489d2\" target=\"_top\" title=\"psysml:a5340f1d-d68a-4585-8f96-7305e6f489d2\" xlink:actuate=\"onRequest\" xlink:href=\"psysml:a5340f1d-d68a-4585-8f96-7305e6f489d2\" xlink:show=\"new\" xlink:title=\"psysml:a5340f1d-d68a-4585-8f96-7305e6f489d2\" xlink:type=\"simple\"><rect fill=\"#FEFECE\" filter=\"url(#fhl169a504dki)\" height=\"45.9375\" id=\"E3\" rx=\"10\" ry=\"10\" style=\"stroke: #A80036; stroke-width: 1.5;\" width=\"71\" x=\"706.5\" y=\"62\"/><text fill=\"#000000\" font-family=\"sans-serif\" font-size=\"12\" font-style=\"italic\" lengthAdjust=\"spacingAndGlyphs\" textLength=\"69\" x=\"707.5\" y=\"78.1387\">«attribute»</text><text fill=\"#000000\" font-family=\"sans-serif\" font-size=\"12\" lengthAdjust=\"spacingAndGlyphs\" textLength=\"61\" x=\"709.5\" y=\"92.1074\">n: Integer</text><line style=\"stroke: #A80036; stroke-width: 1.5;\" x1=\"707.5\" x2=\"776.5\" y1=\"99.9375\" y2=\"99.9375\"/></a><!--MD5=[ebbe1d658d1005bcc118a6aa81145e00]\n",
       "class E4--><a href=\"psysml:478d9241-8f6e-4034-a71b-67b7ef5acdce\" target=\"_top\" title=\"psysml:478d9241-8f6e-4034-a71b-67b7ef5acdce\" xlink:actuate=\"onRequest\" xlink:href=\"psysml:478d9241-8f6e-4034-a71b-67b7ef5acdce\" xlink:show=\"new\" xlink:title=\"psysml:478d9241-8f6e-4034-a71b-67b7ef5acdce\" xlink:type=\"simple\"><rect fill=\"#FEFECE\" filter=\"url(#fhl169a504dki)\" height=\"45.9375\" id=\"E4\" rx=\"10\" ry=\"10\" style=\"stroke: #A80036; stroke-width: 1.5;\" width=\"42\" x=\"629\" y=\"62\"/><text fill=\"#000000\" font-family=\"sans-serif\" font-size=\"12\" font-style=\"italic\" lengthAdjust=\"spacingAndGlyphs\" textLength=\"40\" x=\"630\" y=\"78.1387\">«part»</text><text fill=\"#000000\" font-family=\"sans-serif\" font-size=\"12\" lengthAdjust=\"spacingAndGlyphs\" textLength=\"8\" x=\"644\" y=\"92.1074\">a</text><line style=\"stroke: #A80036; stroke-width: 1.5;\" x1=\"630\" x2=\"670\" y1=\"99.9375\" y2=\"99.9375\"/></a><!--MD5=[270fce915f116d4de14055a7c1d9a0f3]\n",
       "class E5--><a href=\"psysml:bc94da79-c19f-4e44-8720-527e565e90dd\" target=\"_top\" title=\"psysml:bc94da79-c19f-4e44-8720-527e565e90dd\" xlink:actuate=\"onRequest\" xlink:href=\"psysml:bc94da79-c19f-4e44-8720-527e565e90dd\" xlink:show=\"new\" xlink:title=\"psysml:bc94da79-c19f-4e44-8720-527e565e90dd\" xlink:type=\"simple\"><rect fill=\"#FEFECE\" filter=\"url(#fhl169a504dki)\" height=\"45.9375\" id=\"E5\" rx=\"10\" ry=\"10\" style=\"stroke: #A80036; stroke-width: 1.5;\" width=\"42\" x=\"552\" y=\"62\"/><text fill=\"#000000\" font-family=\"sans-serif\" font-size=\"12\" font-style=\"italic\" lengthAdjust=\"spacingAndGlyphs\" textLength=\"40\" x=\"553\" y=\"78.1387\">«part»</text><text fill=\"#000000\" font-family=\"sans-serif\" font-size=\"12\" lengthAdjust=\"spacingAndGlyphs\" textLength=\"24\" x=\"559\" y=\"92.1074\">b: P</text><line style=\"stroke: #A80036; stroke-width: 1.5;\" x1=\"553\" x2=\"593\" y1=\"99.9375\" y2=\"99.9375\"/></a><!--MD5=[60a26617385b1d2d0262a64233df1f8d]\n",
       "class E6--><a href=\"psysml:619a7e97-bac6-4f1e-8369-8e8a5aa8da71\" target=\"_top\" title=\"psysml:619a7e97-bac6-4f1e-8369-8e8a5aa8da71\" xlink:actuate=\"onRequest\" xlink:href=\"psysml:619a7e97-bac6-4f1e-8369-8e8a5aa8da71\" xlink:show=\"new\" xlink:title=\"psysml:619a7e97-bac6-4f1e-8369-8e8a5aa8da71\" xlink:type=\"simple\"><rect fill=\"#FEFECE\" filter=\"url(#fhl169a504dki)\" height=\"45.9375\" id=\"E6\" rx=\"10\" ry=\"10\" style=\"stroke: #A80036; stroke-width: 1.5;\" width=\"42\" x=\"475\" y=\"62\"/><text fill=\"#000000\" font-family=\"sans-serif\" font-size=\"12\" font-style=\"italic\" lengthAdjust=\"spacingAndGlyphs\" textLength=\"40\" x=\"476\" y=\"78.1387\">«part»</text><text fill=\"#000000\" font-family=\"sans-serif\" font-size=\"12\" lengthAdjust=\"spacingAndGlyphs\" textLength=\"23\" x=\"482.5\" y=\"92.1074\">c: P</text><line style=\"stroke: #A80036; stroke-width: 1.5;\" x1=\"476\" x2=\"516\" y1=\"99.9375\" y2=\"99.9375\"/></a><!--MD5=[2156ba9850f5573cc1fc38a6a4b2f02b]\n",
       "class E7--><a href=\"psysml:baf82fce-ad86-47f7-be04-61d8ab51238a\" target=\"_top\" title=\"psysml:baf82fce-ad86-47f7-be04-61d8ab51238a\" xlink:actuate=\"onRequest\" xlink:href=\"psysml:baf82fce-ad86-47f7-be04-61d8ab51238a\" xlink:show=\"new\" xlink:title=\"psysml:baf82fce-ad86-47f7-be04-61d8ab51238a\" xlink:type=\"simple\"><rect fill=\"#FEFECE\" filter=\"url(#fhl169a504dki)\" height=\"45.9375\" id=\"E7\" rx=\"10\" ry=\"10\" style=\"stroke: #A80036; stroke-width: 1.5;\" width=\"42\" x=\"398\" y=\"62\"/><text fill=\"#000000\" font-family=\"sans-serif\" font-size=\"12\" font-style=\"italic\" lengthAdjust=\"spacingAndGlyphs\" textLength=\"40\" x=\"399\" y=\"78.1387\">«part»</text><text fill=\"#000000\" font-family=\"sans-serif\" font-size=\"12\" lengthAdjust=\"spacingAndGlyphs\" textLength=\"8\" x=\"413\" y=\"92.1074\">d</text><line style=\"stroke: #A80036; stroke-width: 1.5;\" x1=\"399\" x2=\"439\" y1=\"99.9375\" y2=\"99.9375\"/></a><!--MD5=[b9389687b975829384b498ac4b7476b2]\n",
       "class E8--><a href=\"psysml:602edda4-e9f7-4346-9e9a-bc1deb44a144\" target=\"_top\" title=\"psysml:602edda4-e9f7-4346-9e9a-bc1deb44a144\" xlink:actuate=\"onRequest\" xlink:href=\"psysml:602edda4-e9f7-4346-9e9a-bc1deb44a144\" xlink:show=\"new\" xlink:title=\"psysml:602edda4-e9f7-4346-9e9a-bc1deb44a144\" xlink:type=\"simple\"><rect fill=\"#FEFECE\" filter=\"url(#fhl169a504dki)\" height=\"45.9375\" id=\"E8\" rx=\"10\" ry=\"10\" style=\"stroke: #A80036; stroke-width: 1.5;\" width=\"42\" x=\"321\" y=\"62\"/><text fill=\"#000000\" font-family=\"sans-serif\" font-size=\"12\" font-style=\"italic\" lengthAdjust=\"spacingAndGlyphs\" textLength=\"40\" x=\"322\" y=\"78.1387\">«part»</text><text fill=\"#000000\" font-family=\"sans-serif\" font-size=\"12\" lengthAdjust=\"spacingAndGlyphs\" textLength=\"8\" x=\"336\" y=\"92.1074\">e</text><line style=\"stroke: #A80036; stroke-width: 1.5;\" x1=\"322\" x2=\"362\" y1=\"99.9375\" y2=\"99.9375\"/></a><!--MD5=[fd4143e9d270a159db93a4ea2a975926]\n",
       "class E9--><a href=\"psysml:ea99d53b-6b01-4b58-853a-79f827c6b1d7\" target=\"_top\" title=\"psysml:ea99d53b-6b01-4b58-853a-79f827c6b1d7\" xlink:actuate=\"onRequest\" xlink:href=\"psysml:ea99d53b-6b01-4b58-853a-79f827c6b1d7\" xlink:show=\"new\" xlink:title=\"psysml:ea99d53b-6b01-4b58-853a-79f827c6b1d7\" xlink:type=\"simple\"><rect fill=\"#FEFECE\" filter=\"url(#fhl169a504dki)\" height=\"45.9375\" id=\"E9\" rx=\"10\" ry=\"10\" style=\"stroke: #A80036; stroke-width: 1.5;\" width=\"42\" x=\"244\" y=\"62\"/><text fill=\"#000000\" font-family=\"sans-serif\" font-size=\"12\" font-style=\"italic\" lengthAdjust=\"spacingAndGlyphs\" textLength=\"40\" x=\"245\" y=\"78.1387\">«part»</text><text fill=\"#000000\" font-family=\"sans-serif\" font-size=\"12\" lengthAdjust=\"spacingAndGlyphs\" textLength=\"4\" x=\"261\" y=\"92.1074\">f</text><line style=\"stroke: #A80036; stroke-width: 1.5;\" x1=\"245\" x2=\"285\" y1=\"99.9375\" y2=\"99.9375\"/></a><!--MD5=[96f4274e9e20536e775497830990834d]\n",
       "class E10--><a href=\"psysml:7f8b6820-ebe3-4bcd-8be0-e5513e7bb89f\" target=\"_top\" title=\"psysml:7f8b6820-ebe3-4bcd-8be0-e5513e7bb89f\" xlink:actuate=\"onRequest\" xlink:href=\"psysml:7f8b6820-ebe3-4bcd-8be0-e5513e7bb89f\" xlink:show=\"new\" xlink:title=\"psysml:7f8b6820-ebe3-4bcd-8be0-e5513e7bb89f\" xlink:type=\"simple\"><rect fill=\"#FEFECE\" filter=\"url(#fhl169a504dki)\" height=\"45.9375\" id=\"E10\" rx=\"10\" ry=\"10\" style=\"stroke: #A80036; stroke-width: 1.5;\" width=\"42\" x=\"167\" y=\"62\"/><text fill=\"#000000\" font-family=\"sans-serif\" font-size=\"12\" font-style=\"italic\" lengthAdjust=\"spacingAndGlyphs\" textLength=\"40\" x=\"168\" y=\"78.1387\">«part»</text><text fill=\"#000000\" font-family=\"sans-serif\" font-size=\"12\" lengthAdjust=\"spacingAndGlyphs\" textLength=\"8\" x=\"182\" y=\"92.1074\">g</text><line style=\"stroke: #A80036; stroke-width: 1.5;\" x1=\"168\" x2=\"208\" y1=\"99.9375\" y2=\"99.9375\"/></a><!--MD5=[1dd1bfd58a279cf63c5f349dbc8fc6a1]\n",
       "class E11--><a href=\"psysml:b98160f9-962b-4166-b8bf-1b8817b6e181\" target=\"_top\" title=\"psysml:b98160f9-962b-4166-b8bf-1b8817b6e181\" xlink:actuate=\"onRequest\" xlink:href=\"psysml:b98160f9-962b-4166-b8bf-1b8817b6e181\" xlink:show=\"new\" xlink:title=\"psysml:b98160f9-962b-4166-b8bf-1b8817b6e181\" xlink:type=\"simple\"><rect fill=\"#FEFECE\" filter=\"url(#fhl169a504dki)\" height=\"88.3516\" id=\"E11\" style=\"stroke: #A80036; stroke-width: 1.5;\" width=\"99\" x=\"32.5\" y=\"41\"/><text fill=\"#000000\" font-family=\"sans-serif\" font-size=\"12\" font-style=\"italic\" lengthAdjust=\"spacingAndGlyphs\" textLength=\"97\" x=\"33.5\" y=\"57.1387\">«attribute  def»</text><text fill=\"#000000\" font-family=\"sans-serif\" font-size=\"12\" lengthAdjust=\"spacingAndGlyphs\" textLength=\"8\" x=\"78\" y=\"71.1074\">A</text><line style=\"stroke: #A80036; stroke-width: 1.5;\" x1=\"33.5\" x2=\"130.5\" y1=\"78.9375\" y2=\"78.9375\"/><text fill=\"#000000\" font-family=\"sans-serif\" font-size=\"11\" lengthAdjust=\"spacingAndGlyphs\" textLength=\"51\" x=\"38.5\" y=\"109.9526\">i: Integer</text><text fill=\"#000000\" font-family=\"sans-serif\" font-size=\"11\" lengthAdjust=\"spacingAndGlyphs\" textLength=\"21\" x=\"38.5\" y=\"122.7573\">x: A</text><line style=\"stroke: #A80036; stroke-width: 1.0;\" x1=\"33.5\" x2=\"54.5\" y1=\"93.3398\" y2=\"93.3398\"/><text fill=\"#000000\" font-family=\"sans-serif\" font-size=\"11\" lengthAdjust=\"spacingAndGlyphs\" textLength=\"55\" x=\"54.5\" y=\"96.6479\">attributes</text><line style=\"stroke: #A80036; stroke-width: 1.0;\" x1=\"109.5\" x2=\"130.5\" y1=\"93.3398\" y2=\"93.3398\"/></a><!--MD5=[15ebcb19ae302d9b601edb458606d402]\n",
       "link E5 to E2--><a href=\"psysml:f465fece-be6c-4a0b-8b87-5b67ed75d8f8\" target=\"_top\" title=\"psysml:f465fece-be6c-4a0b-8b87-5b67ed75d8f8\" xlink:actuate=\"onRequest\" xlink:href=\"psysml:f465fece-be6c-4a0b-8b87-5b67ed75d8f8\" xlink:show=\"new\" xlink:title=\"psysml:f465fece-be6c-4a0b-8b87-5b67ed75d8f8\" xlink:type=\"simple\"><path d=\"M566.12,108.06 C560.83,125 553.38,148.89 546.98,169.39 \" fill=\"none\" id=\"E5-&gt;E2\" style=\"stroke: #A80036; stroke-width: 1.0;\"/><polygon fill=\"#FFFFFF\" points=\"540.95,188.74,539.929,168.5173,553.2931,172.6886,540.95,188.74\" style=\"stroke: #A80036; stroke-width: 1.0;\"/><ellipse cx=\"543.5364\" cy=\"163.6721\" fill=\"#A80036\" rx=\"2\" ry=\"2\" style=\"stroke: #A80036; stroke-width: 1.0;\"/><ellipse cx=\"553.0823\" cy=\"166.6516\" fill=\"#A80036\" rx=\"2\" ry=\"2\" style=\"stroke: #A80036; stroke-width: 1.0;\"/></a><!--MD5=[2351f337d6de0f557b50152ba70847b5]\n",
       "link E6 to E2--><a href=\"psysml:72e02ffe-11ce-46be-a503-0c91c54548ee\" target=\"_top\" title=\"psysml:72e02ffe-11ce-46be-a503-0c91c54548ee\" xlink:actuate=\"onRequest\" xlink:href=\"psysml:72e02ffe-11ce-46be-a503-0c91c54548ee\" xlink:show=\"new\" xlink:title=\"psysml:72e02ffe-11ce-46be-a503-0c91c54548ee\" xlink:type=\"simple\"><path d=\"M502.71,108.06 C507.86,125 515.12,148.89 521.35,169.39 \" fill=\"none\" id=\"E6-&gt;E2\" style=\"stroke: #A80036; stroke-width: 1.0;\"/><polygon fill=\"#FFFFFF\" points=\"527.23,188.74,515.007,172.597,528.4019,168.5255,527.23,188.74\" style=\"stroke: #A80036; stroke-width: 1.0;\"/><ellipse cx=\"515.2628\" cy=\"166.5617\" fill=\"#A80036\" rx=\"2\" ry=\"2\" style=\"stroke: #A80036; stroke-width: 1.0;\"/><ellipse cx=\"524.8306\" cy=\"163.6535\" fill=\"#A80036\" rx=\"2\" ry=\"2\" style=\"stroke: #A80036; stroke-width: 1.0;\"/></a><!--MD5=[2e0f682f8dcd1a43fd8f0879e7b5f9d1]\n",
       "@startuml\r\n",
       "skinparam wrapWidth 300\r\n",
       "hide circle\r\n",
       "\r\n",
       "package \"MultiplicityTest\" as E1  [[psysml:437e1e49-e6a3-4f3e-be27-b1e07120749d ]]  {\r\n",
       "comp def \"P\" as E2  <<(T,blue) part  def>> [[psysml:d60dc8a9-ee87-4177-8909-4fd780a9d8f8 ]] {\r\n",
       "}\r\n",
       "comp usage \"n: Integer \" as E3  <<(T,blue) attribute>> [[psysml:a5340f1d-d68a-4585-8f96-7305e6f489d2 ]] {\r\n",
       "}\r\n",
       "comp usage \"a \" as E4  <<(T,blue) part>> [[psysml:478d9241-8f6e-4034-a71b-67b7ef5acdce ]] {\r\n",
       "}\r\n",
       "comp usage \"b: P \" as E5  <<(T,blue) part>> [[psysml:bc94da79-c19f-4e44-8720-527e565e90dd ]] {\r\n",
       "}\r\n",
       "comp usage \"c: P \" as E6  <<(T,blue) part>> [[psysml:619a7e97-bac6-4f1e-8369-8e8a5aa8da71 ]] {\r\n",
       "}\r\n",
       "comp usage \"d \" as E7  <<(T,blue) part>> [[psysml:baf82fce-ad86-47f7-be04-61d8ab51238a ]] {\r\n",
       "}\r\n",
       "comp usage \"e \" as E8  <<(T,blue) part>> [[psysml:602edda4-e9f7-4346-9e9a-bc1deb44a144 ]] {\r\n",
       "}\r\n",
       "comp usage \"f \" as E9  <<(T,blue) part>> [[psysml:ea99d53b-6b01-4b58-853a-79f827c6b1d7 ]] {\r\n",
       "}\r\n",
       "comp usage \"g \" as E10  <<(T,blue) part>> [[psysml:7f8b6820-ebe3-4bcd-8be0-e5513e7bb89f ]] {\r\n",
       "}\r\n",
       "comp def \"A\" as E11  <<(T,blue) attribute  def>> [[psysml:b98160f9-962b-4166-b8bf-1b8817b6e181 ]] {\r\n",
       "- - attributes - -\r\n",
       "i: Integer\r\n",
       "x: A\r\n",
       "}\r\n",
       "}\r\n",
       "E5 - -:|> E2 [[psysml:f465fece-be6c-4a0b-8b87-5b67ed75d8f8 ]] \r\n",
       "E6 - -:|> E2 [[psysml:72e02ffe-11ce-46be-a503-0c91c54548ee ]] \r\n",
       "@enduml\r\n",
       "\n",
       "PlantUML version 1.2020.13(Sat Jun 13 12:26:38 UTC 2020)\n",
       "(EPL source distribution)\n",
       "Java Runtime: OpenJDK Runtime Environment\n",
       "JVM: OpenJDK 64-Bit Server VM\n",
       "Default Encoding: UTF-8\n",
       "Language: en\n",
       "Country: null\n",
       "--></g></svg>"
      ]
     },
     "execution_count": 24,
     "metadata": {},
     "output_type": "execute_result"
    }
   ],
   "source": [
    "%viz --style=\"STDCOLOR\" --view=\"Tree\" \"MultiplicityTest\""
   ]
  },
  {
   "cell_type": "code",
   "execution_count": 25,
   "id": "4e3c797e",
   "metadata": {
    "execution": {
     "iopub.execute_input": "2022-03-03T09:58:30.514176Z",
     "iopub.status.busy": "2022-03-03T09:58:30.513743Z",
     "iopub.status.idle": "2022-03-03T09:58:30.518166Z",
     "shell.execute_reply": "2022-03-03T09:58:30.518480Z"
    }
   },
   "outputs": [
    {
     "data": {
      "image/svg+xml": [
       "<?xml version=\"1.0\" encoding=\"UTF-8\" standalone=\"no\"?><svg xmlns=\"http://www.w3.org/2000/svg\" xmlns:xlink=\"http://www.w3.org/1999/xlink\" contentScriptType=\"application/ecmascript\" contentStyleType=\"text/css\" height=\"12px\" preserveAspectRatio=\"none\" style=\"width:12px;height:12px;\" version=\"1.1\" viewBox=\"0 0 12 12\" width=\"12px\" zoomAndPan=\"magnify\"><defs/><g><!--MD5=[aeeef50f102b80d730deb6443d14f702]\n",
       "@startuml\r\n",
       "skinparam wrapWidth 300\r\n",
       "hide circle\r\n",
       "\r\n",
       "@enduml\r\n",
       "\n",
       "PlantUML version 1.2020.13(Sat Jun 13 12:26:38 UTC 2020)\n",
       "(EPL source distribution)\n",
       "Java Runtime: OpenJDK Runtime Environment\n",
       "JVM: OpenJDK 64-Bit Server VM\n",
       "Default Encoding: UTF-8\n",
       "Language: en\n",
       "Country: null\n",
       "--></g></svg>"
      ]
     },
     "execution_count": 25,
     "metadata": {},
     "output_type": "execute_result"
    }
   ],
   "source": [
    "%viz --style=\"STDCOLOR\" --view=\"State\" \"MultiplicityTest\""
   ]
  },
  {
   "cell_type": "code",
   "execution_count": 26,
   "id": "b68b6e19",
   "metadata": {
    "execution": {
     "iopub.execute_input": "2022-03-03T09:58:30.568507Z",
     "iopub.status.busy": "2022-03-03T09:58:30.568094Z",
     "iopub.status.idle": "2022-03-03T09:58:30.600066Z",
     "shell.execute_reply": "2022-03-03T09:58:30.598690Z"
    }
   },
   "outputs": [
    {
     "data": {
      "image/svg+xml": [
       "<?xml version=\"1.0\" encoding=\"UTF-8\" standalone=\"no\"?><svg xmlns=\"http://www.w3.org/2000/svg\" xmlns:xlink=\"http://www.w3.org/1999/xlink\" contentScriptType=\"application/ecmascript\" contentStyleType=\"text/css\" height=\"115px\" preserveAspectRatio=\"none\" style=\"width:987px;height:115px;\" version=\"1.1\" viewBox=\"0 0 987 115\" width=\"987px\" zoomAndPan=\"magnify\"><defs><filter height=\"300%\" id=\"fsgigk7qxkfvk\" width=\"300%\" x=\"-1\" y=\"-1\"><feGaussianBlur result=\"blurOut\" stdDeviation=\"2.0\"/><feColorMatrix in=\"blurOut\" result=\"blurOut2\" type=\"matrix\" values=\"0 0 0 0 0 0 0 0 0 0 0 0 0 0 0 0 0 0 .4 0\"/><feOffset dx=\"4.0\" dy=\"4.0\" in=\"blurOut2\" result=\"blurOut3\"/><feBlend in=\"SourceGraphic\" in2=\"blurOut3\" mode=\"normal\"/></filter></defs><g><!--MD5=[fbc87193dbaf4d95561dea2c320d4a47]\n",
       "cluster E1--><a href=\"psysml:437e1e49-e6a3-4f3e-be27-b1e07120749d\" target=\"_top\" title=\"psysml:437e1e49-e6a3-4f3e-be27-b1e07120749d\" xlink:actuate=\"onRequest\" xlink:href=\"psysml:437e1e49-e6a3-4f3e-be27-b1e07120749d\" xlink:show=\"new\" xlink:title=\"psysml:437e1e49-e6a3-4f3e-be27-b1e07120749d\" xlink:type=\"simple\"><polygon fill=\"#FFFFFF\" filter=\"url(#fsgigk7qxkfvk)\" points=\"16,6,123,6,130,28.2969,965,28.2969,965,103,16,103,16,6\" style=\"stroke: #000000; stroke-width: 1.5;\"/><line style=\"stroke: #000000; stroke-width: 1.5;\" x1=\"16\" x2=\"130\" y1=\"28.2969\" y2=\"28.2969\"/><text fill=\"#000000\" font-family=\"sans-serif\" font-size=\"14\" font-weight=\"bold\" lengthAdjust=\"spacingAndGlyphs\" textLength=\"101\" x=\"20\" y=\"20.9951\">MultiplicityTest</text></a><!--MD5=[09b614a08d8cba4a07c9adeb5e0fee81]\n",
       "class E3--><a href=\"psysml:a5340f1d-d68a-4585-8f96-7305e6f489d2\" target=\"_top\" title=\"psysml:a5340f1d-d68a-4585-8f96-7305e6f489d2\" xlink:actuate=\"onRequest\" xlink:href=\"psysml:a5340f1d-d68a-4585-8f96-7305e6f489d2\" xlink:show=\"new\" xlink:title=\"psysml:a5340f1d-d68a-4585-8f96-7305e6f489d2\" xlink:type=\"simple\"><rect fill=\"#FEFECE\" filter=\"url(#fsgigk7qxkfvk)\" height=\"45.9375\" id=\"E3\" rx=\"10\" ry=\"10\" style=\"stroke: #A80036; stroke-width: 1.5;\" width=\"71\" x=\"877.5\" y=\"41\"/><text fill=\"#000000\" font-family=\"sans-serif\" font-size=\"12\" font-style=\"italic\" lengthAdjust=\"spacingAndGlyphs\" textLength=\"69\" x=\"878.5\" y=\"57.1387\">«attribute»</text><text fill=\"#000000\" font-family=\"sans-serif\" font-size=\"12\" lengthAdjust=\"spacingAndGlyphs\" textLength=\"61\" x=\"880.5\" y=\"71.1074\">n: Integer</text><line style=\"stroke: #A80036; stroke-width: 1.5;\" x1=\"878.5\" x2=\"947.5\" y1=\"78.9375\" y2=\"78.9375\"/></a><g id=\"E1.E11\"><a href=\"psysml:b98160f9-962b-4166-b8bf-1b8817b6e181\" target=\"_top\" title=\"psysml:b98160f9-962b-4166-b8bf-1b8817b6e181\" xlink:actuate=\"onRequest\" xlink:href=\"psysml:b98160f9-962b-4166-b8bf-1b8817b6e181\" xlink:show=\"new\" xlink:title=\"psysml:b98160f9-962b-4166-b8bf-1b8817b6e181\" xlink:type=\"simple\"><rect fill=\"#FEFECE\" filter=\"url(#fsgigk7qxkfvk)\" height=\"42.9375\" id=\"E11\" style=\"stroke: #A80036; stroke-width: 1.5;\" width=\"104\" x=\"738\" y=\"42.5\"/><text fill=\"#000000\" font-family=\"sans-serif\" font-size=\"12\" font-style=\"italic\" lengthAdjust=\"spacingAndGlyphs\" textLength=\"97\" x=\"741.5\" y=\"58.6387\">«attribute  def»</text><text fill=\"#000000\" font-family=\"sans-serif\" font-size=\"12\" lengthAdjust=\"spacingAndGlyphs\" textLength=\"8\" x=\"786\" y=\"72.6074\">A</text></a></g><g id=\"E1.E2\"><a href=\"psysml:d60dc8a9-ee87-4177-8909-4fd780a9d8f8\" target=\"_top\" title=\"psysml:d60dc8a9-ee87-4177-8909-4fd780a9d8f8\" xlink:actuate=\"onRequest\" xlink:href=\"psysml:d60dc8a9-ee87-4177-8909-4fd780a9d8f8\" xlink:show=\"new\" xlink:title=\"psysml:d60dc8a9-ee87-4177-8909-4fd780a9d8f8\" xlink:type=\"simple\"><rect fill=\"#FEFECE\" filter=\"url(#fsgigk7qxkfvk)\" height=\"42.9375\" id=\"E2\" style=\"stroke: #A80036; stroke-width: 1.5;\" width=\"75\" x=\"627.5\" y=\"42.5\"/><text fill=\"#000000\" font-family=\"sans-serif\" font-size=\"12\" font-style=\"italic\" lengthAdjust=\"spacingAndGlyphs\" textLength=\"68\" x=\"631\" y=\"58.6387\">«part  def»</text><text fill=\"#000000\" font-family=\"sans-serif\" font-size=\"12\" lengthAdjust=\"spacingAndGlyphs\" textLength=\"8\" x=\"661\" y=\"72.6074\">P</text></a></g><g id=\"E1.E4\"><a href=\"psysml:478d9241-8f6e-4034-a71b-67b7ef5acdce\" target=\"_top\" title=\"psysml:478d9241-8f6e-4034-a71b-67b7ef5acdce\" xlink:actuate=\"onRequest\" xlink:href=\"psysml:478d9241-8f6e-4034-a71b-67b7ef5acdce\" xlink:show=\"new\" xlink:title=\"psysml:478d9241-8f6e-4034-a71b-67b7ef5acdce\" xlink:type=\"simple\"><rect fill=\"#FEFECE\" filter=\"url(#fsgigk7qxkfvk)\" height=\"40\" id=\"E4\" rx=\"10\" ry=\"10\" style=\"stroke: #A80036; stroke-width: 1.5;\" width=\"50\" x=\"542\" y=\"44\"/><text fill=\"#000000\" font-family=\"sans-serif\" font-size=\"12\" lengthAdjust=\"spacingAndGlyphs\" textLength=\"8\" x=\"563\" y=\"60.1387\">a</text></a></g><g id=\"E1.E5\"><a href=\"psysml:bc94da79-c19f-4e44-8720-527e565e90dd\" target=\"_top\" title=\"psysml:bc94da79-c19f-4e44-8720-527e565e90dd\" xlink:actuate=\"onRequest\" xlink:href=\"psysml:bc94da79-c19f-4e44-8720-527e565e90dd\" xlink:show=\"new\" xlink:title=\"psysml:bc94da79-c19f-4e44-8720-527e565e90dd\" xlink:type=\"simple\"><rect fill=\"#FEFECE\" filter=\"url(#fsgigk7qxkfvk)\" height=\"40\" id=\"E5\" rx=\"10\" ry=\"10\" style=\"stroke: #A80036; stroke-width: 1.5;\" width=\"50\" x=\"457\" y=\"44\"/><text fill=\"#000000\" font-family=\"sans-serif\" font-size=\"12\" lengthAdjust=\"spacingAndGlyphs\" textLength=\"24\" x=\"470\" y=\"60.1387\">b: P</text></a></g><g id=\"E1.E6\"><a href=\"psysml:619a7e97-bac6-4f1e-8369-8e8a5aa8da71\" target=\"_top\" title=\"psysml:619a7e97-bac6-4f1e-8369-8e8a5aa8da71\" xlink:actuate=\"onRequest\" xlink:href=\"psysml:619a7e97-bac6-4f1e-8369-8e8a5aa8da71\" xlink:show=\"new\" xlink:title=\"psysml:619a7e97-bac6-4f1e-8369-8e8a5aa8da71\" xlink:type=\"simple\"><rect fill=\"#FEFECE\" filter=\"url(#fsgigk7qxkfvk)\" height=\"40\" id=\"E6\" rx=\"10\" ry=\"10\" style=\"stroke: #A80036; stroke-width: 1.5;\" width=\"50\" x=\"372\" y=\"44\"/><text fill=\"#000000\" font-family=\"sans-serif\" font-size=\"12\" lengthAdjust=\"spacingAndGlyphs\" textLength=\"23\" x=\"385.5\" y=\"60.1387\">c: P</text></a></g><g id=\"E1.E7\"><a href=\"psysml:baf82fce-ad86-47f7-be04-61d8ab51238a\" target=\"_top\" title=\"psysml:baf82fce-ad86-47f7-be04-61d8ab51238a\" xlink:actuate=\"onRequest\" xlink:href=\"psysml:baf82fce-ad86-47f7-be04-61d8ab51238a\" xlink:show=\"new\" xlink:title=\"psysml:baf82fce-ad86-47f7-be04-61d8ab51238a\" xlink:type=\"simple\"><rect fill=\"#FEFECE\" filter=\"url(#fsgigk7qxkfvk)\" height=\"40\" id=\"E7\" rx=\"10\" ry=\"10\" style=\"stroke: #A80036; stroke-width: 1.5;\" width=\"50\" x=\"287\" y=\"44\"/><text fill=\"#000000\" font-family=\"sans-serif\" font-size=\"12\" lengthAdjust=\"spacingAndGlyphs\" textLength=\"8\" x=\"308\" y=\"60.1387\">d</text></a></g><g id=\"E1.E8\"><a href=\"psysml:602edda4-e9f7-4346-9e9a-bc1deb44a144\" target=\"_top\" title=\"psysml:602edda4-e9f7-4346-9e9a-bc1deb44a144\" xlink:actuate=\"onRequest\" xlink:href=\"psysml:602edda4-e9f7-4346-9e9a-bc1deb44a144\" xlink:show=\"new\" xlink:title=\"psysml:602edda4-e9f7-4346-9e9a-bc1deb44a144\" xlink:type=\"simple\"><rect fill=\"#FEFECE\" filter=\"url(#fsgigk7qxkfvk)\" height=\"40\" id=\"E8\" rx=\"10\" ry=\"10\" style=\"stroke: #A80036; stroke-width: 1.5;\" width=\"50\" x=\"202\" y=\"44\"/><text fill=\"#000000\" font-family=\"sans-serif\" font-size=\"12\" lengthAdjust=\"spacingAndGlyphs\" textLength=\"8\" x=\"223\" y=\"60.1387\">e</text></a></g><g id=\"E1.E9\"><a href=\"psysml:ea99d53b-6b01-4b58-853a-79f827c6b1d7\" target=\"_top\" title=\"psysml:ea99d53b-6b01-4b58-853a-79f827c6b1d7\" xlink:actuate=\"onRequest\" xlink:href=\"psysml:ea99d53b-6b01-4b58-853a-79f827c6b1d7\" xlink:show=\"new\" xlink:title=\"psysml:ea99d53b-6b01-4b58-853a-79f827c6b1d7\" xlink:type=\"simple\"><rect fill=\"#FEFECE\" filter=\"url(#fsgigk7qxkfvk)\" height=\"40\" id=\"E9\" rx=\"10\" ry=\"10\" style=\"stroke: #A80036; stroke-width: 1.5;\" width=\"50\" x=\"117\" y=\"44\"/><text fill=\"#000000\" font-family=\"sans-serif\" font-size=\"12\" lengthAdjust=\"spacingAndGlyphs\" textLength=\"4\" x=\"140\" y=\"60.1387\">f</text></a></g><g id=\"E1.E10\"><a href=\"psysml:7f8b6820-ebe3-4bcd-8be0-e5513e7bb89f\" target=\"_top\" title=\"psysml:7f8b6820-ebe3-4bcd-8be0-e5513e7bb89f\" xlink:actuate=\"onRequest\" xlink:href=\"psysml:7f8b6820-ebe3-4bcd-8be0-e5513e7bb89f\" xlink:show=\"new\" xlink:title=\"psysml:7f8b6820-ebe3-4bcd-8be0-e5513e7bb89f\" xlink:type=\"simple\"><rect fill=\"#FEFECE\" filter=\"url(#fsgigk7qxkfvk)\" height=\"40\" id=\"E10\" rx=\"10\" ry=\"10\" style=\"stroke: #A80036; stroke-width: 1.5;\" width=\"50\" x=\"32\" y=\"44\"/><text fill=\"#000000\" font-family=\"sans-serif\" font-size=\"12\" lengthAdjust=\"spacingAndGlyphs\" textLength=\"8\" x=\"53\" y=\"60.1387\">g</text></a></g><!--MD5=[be2ec69f47eda2e5d2b0fff88d441854]\n",
       "@startuml\r\n",
       "skinparam ranksep 10\r\n",
       "skinparam rectangle {\r\n",
       " backgroundColor<<block>> LightGreen\r\n",
       "}\r\n",
       "skinparam wrapWidth 300\r\n",
       "hide circle\r\n",
       "\r\n",
       "package \"MultiplicityTest\" as E1  [[psysml:437e1e49-e6a3-4f3e-be27-b1e07120749d ]]  {\r\n",
       "rec def \"P\" as E2  <<(T,blue) part  def>> [[psysml:d60dc8a9-ee87-4177-8909-4fd780a9d8f8 ]] {\r\n",
       "}\r\n",
       "comp usage \"n: Integer \" as E3  <<(T,blue) attribute>> [[psysml:a5340f1d-d68a-4585-8f96-7305e6f489d2 ]] {\r\n",
       "}\r\n",
       "rec usage \"a\" as E4  [[psysml:478d9241-8f6e-4034-a71b-67b7ef5acdce ]] {\r\n",
       "}\r\n",
       "rec usage \"b: P\" as E5  [[psysml:bc94da79-c19f-4e44-8720-527e565e90dd ]] {\r\n",
       "}\r\n",
       "rec usage \"c: P\" as E6  [[psysml:619a7e97-bac6-4f1e-8369-8e8a5aa8da71 ]] {\r\n",
       "}\r\n",
       "rec usage \"d\" as E7  [[psysml:baf82fce-ad86-47f7-be04-61d8ab51238a ]] {\r\n",
       "}\r\n",
       "rec usage \"e\" as E8  [[psysml:602edda4-e9f7-4346-9e9a-bc1deb44a144 ]] {\r\n",
       "}\r\n",
       "rec usage \"f\" as E9  [[psysml:ea99d53b-6b01-4b58-853a-79f827c6b1d7 ]] {\r\n",
       "}\r\n",
       "rec usage \"g\" as E10  [[psysml:7f8b6820-ebe3-4bcd-8be0-e5513e7bb89f ]] {\r\n",
       "}\r\n",
       "def \"A\" as E11  <<(T,blue) attribute  def>> [[psysml:b98160f9-962b-4166-b8bf-1b8817b6e181 ]] \r\n",
       "}\r\n",
       "@enduml\r\n",
       "\n",
       "PlantUML version 1.2020.13(Sat Jun 13 12:26:38 UTC 2020)\n",
       "(EPL source distribution)\n",
       "Java Runtime: OpenJDK Runtime Environment\n",
       "JVM: OpenJDK 64-Bit Server VM\n",
       "Default Encoding: UTF-8\n",
       "Language: en\n",
       "Country: null\n",
       "--></g></svg>"
      ]
     },
     "execution_count": 26,
     "metadata": {},
     "output_type": "execute_result"
    }
   ],
   "source": [
    "%viz --style=\"STDCOLOR\" --view=\"Interconnection\" \"MultiplicityTest\""
   ]
  },
  {
   "cell_type": "code",
   "execution_count": 27,
   "id": "b61ea343",
   "metadata": {
    "execution": {
     "iopub.execute_input": "2022-03-03T09:58:30.649560Z",
     "iopub.status.busy": "2022-03-03T09:58:30.649138Z",
     "iopub.status.idle": "2022-03-03T09:58:30.653324Z",
     "shell.execute_reply": "2022-03-03T09:58:30.653626Z"
    }
   },
   "outputs": [
    {
     "data": {
      "image/svg+xml": [
       "<?xml version=\"1.0\" encoding=\"UTF-8\" standalone=\"no\"?><svg xmlns=\"http://www.w3.org/2000/svg\" xmlns:xlink=\"http://www.w3.org/1999/xlink\" contentScriptType=\"application/ecmascript\" contentStyleType=\"text/css\" height=\"12px\" preserveAspectRatio=\"none\" style=\"width:12px;height:12px;\" version=\"1.1\" viewBox=\"0 0 12 12\" width=\"12px\" zoomAndPan=\"magnify\"><defs/><g><!--MD5=[9863325348a96a77dacc89509d8ee65e]\n",
       "@startuml\r\n",
       "skinparam ranksep 8\r\n",
       "skinparam wrapWidth 300\r\n",
       "hide circle\r\n",
       "\r\n",
       "@enduml\r\n",
       "\n",
       "PlantUML version 1.2020.13(Sat Jun 13 12:26:38 UTC 2020)\n",
       "(EPL source distribution)\n",
       "Java Runtime: OpenJDK Runtime Environment\n",
       "JVM: OpenJDK 64-Bit Server VM\n",
       "Default Encoding: UTF-8\n",
       "Language: en\n",
       "Country: null\n",
       "--></g></svg>"
      ]
     },
     "execution_count": 27,
     "metadata": {},
     "output_type": "execute_result"
    }
   ],
   "source": [
    "%viz --style=\"STDCOLOR\" --view=\"Action\" \"MultiplicityTest\""
   ]
  },
  {
   "cell_type": "code",
   "execution_count": 28,
   "id": "375144c4",
   "metadata": {
    "execution": {
     "iopub.execute_input": "2022-03-03T09:58:30.703824Z",
     "iopub.status.busy": "2022-03-03T09:58:30.703364Z",
     "iopub.status.idle": "2022-03-03T09:58:30.708383Z",
     "shell.execute_reply": "2022-03-03T09:58:30.708693Z"
    }
   },
   "outputs": [
    {
     "data": {
      "image/svg+xml": [
       "<?xml version=\"1.0\" encoding=\"UTF-8\" standalone=\"no\"?><svg xmlns=\"http://www.w3.org/2000/svg\" xmlns:xlink=\"http://www.w3.org/1999/xlink\" contentScriptType=\"application/ecmascript\" contentStyleType=\"text/css\" height=\"12px\" preserveAspectRatio=\"none\" style=\"width:12px;height:12px;\" version=\"1.1\" viewBox=\"0 0 12 12\" width=\"12px\" zoomAndPan=\"magnify\"><defs/><g><!--MD5=[6c4bca67b4d71758159a5a7f1f1e1fc2]\n",
       "@startuml\r\n",
       "skinparam roundcorner 20\r\n",
       "skinparam BoxPadding 20\r\n",
       "skinparam SequenceBoxBackgroundColor #white\r\n",
       "skinparam style strictuml\r\n",
       "skinparam maxMessageSize 100\r\n",
       "skinparam wrapWidth 300\r\n",
       "hide circle\r\n",
       "\r\n",
       "@enduml\r\n",
       "\n",
       "PlantUML version 1.2020.13(Sat Jun 13 12:26:38 UTC 2020)\n",
       "(EPL source distribution)\n",
       "Java Runtime: OpenJDK Runtime Environment\n",
       "JVM: OpenJDK 64-Bit Server VM\n",
       "Default Encoding: UTF-8\n",
       "Language: en\n",
       "Country: null\n",
       "--></g></svg>"
      ]
     },
     "execution_count": 28,
     "metadata": {},
     "output_type": "execute_result"
    }
   ],
   "source": [
    "%viz --style=\"STDCOLOR\" --view=\"Sequence\" \"MultiplicityTest\""
   ]
  },
  {
   "cell_type": "code",
   "execution_count": 29,
   "id": "838677ba",
   "metadata": {
    "execution": {
     "iopub.execute_input": "2022-03-03T09:58:30.758788Z",
     "iopub.status.busy": "2022-03-03T09:58:30.758387Z",
     "iopub.status.idle": "2022-03-03T09:58:30.819621Z",
     "shell.execute_reply": "2022-03-03T09:58:30.819263Z"
    }
   },
   "outputs": [
    {
     "data": {
      "image/svg+xml": [
       "<?xml version=\"1.0\" encoding=\"UTF-8\" standalone=\"no\"?><svg xmlns=\"http://www.w3.org/2000/svg\" xmlns:xlink=\"http://www.w3.org/1999/xlink\" contentScriptType=\"application/ecmascript\" contentStyleType=\"text/css\" height=\"263px\" preserveAspectRatio=\"none\" style=\"width:816px;height:263px;\" version=\"1.1\" viewBox=\"0 0 816 263\" width=\"816px\" zoomAndPan=\"magnify\"><defs><filter height=\"300%\" id=\"fhl169a504dki\" width=\"300%\" x=\"-1\" y=\"-1\"><feGaussianBlur result=\"blurOut\" stdDeviation=\"2.0\"/><feColorMatrix in=\"blurOut\" result=\"blurOut2\" type=\"matrix\" values=\"0 0 0 0 0 0 0 0 0 0 0 0 0 0 0 0 0 0 .4 0\"/><feOffset dx=\"4.0\" dy=\"4.0\" in=\"blurOut2\" result=\"blurOut3\"/><feBlend in=\"SourceGraphic\" in2=\"blurOut3\" mode=\"normal\"/></filter></defs><g><!--MD5=[fbc87193dbaf4d95561dea2c320d4a47]\n",
       "cluster E1--><a href=\"psysml:437e1e49-e6a3-4f3e-be27-b1e07120749d\" target=\"_top\" title=\"psysml:437e1e49-e6a3-4f3e-be27-b1e07120749d\" xlink:actuate=\"onRequest\" xlink:href=\"psysml:437e1e49-e6a3-4f3e-be27-b1e07120749d\" xlink:show=\"new\" xlink:title=\"psysml:437e1e49-e6a3-4f3e-be27-b1e07120749d\" xlink:type=\"simple\"><polygon fill=\"#FFFFFF\" filter=\"url(#fhl169a504dki)\" points=\"16,6,123,6,130,28.2969,794,28.2969,794,251,16,251,16,6\" style=\"stroke: #000000; stroke-width: 1.5;\"/><line style=\"stroke: #000000; stroke-width: 1.5;\" x1=\"16\" x2=\"130\" y1=\"28.2969\" y2=\"28.2969\"/><text fill=\"#000000\" font-family=\"sans-serif\" font-size=\"14\" font-weight=\"bold\" lengthAdjust=\"spacingAndGlyphs\" textLength=\"101\" x=\"20\" y=\"20.9951\">MultiplicityTest</text></a><!--MD5=[b4997ac47864f28c2f74865a473b2911]\n",
       "class E2--><a href=\"psysml:d60dc8a9-ee87-4177-8909-4fd780a9d8f8\" target=\"_top\" title=\"psysml:d60dc8a9-ee87-4177-8909-4fd780a9d8f8\" xlink:actuate=\"onRequest\" xlink:href=\"psysml:d60dc8a9-ee87-4177-8909-4fd780a9d8f8\" xlink:show=\"new\" xlink:title=\"psysml:d60dc8a9-ee87-4177-8909-4fd780a9d8f8\" xlink:type=\"simple\"><rect fill=\"#FEFECE\" filter=\"url(#fhl169a504dki)\" height=\"45.9375\" id=\"E2\" style=\"stroke: #A80036; stroke-width: 1.5;\" width=\"70\" x=\"499\" y=\"189\"/><text fill=\"#000000\" font-family=\"sans-serif\" font-size=\"12\" font-style=\"italic\" lengthAdjust=\"spacingAndGlyphs\" textLength=\"68\" x=\"500\" y=\"205.1387\">«part  def»</text><text fill=\"#000000\" font-family=\"sans-serif\" font-size=\"12\" lengthAdjust=\"spacingAndGlyphs\" textLength=\"8\" x=\"530\" y=\"219.1074\">P</text><line style=\"stroke: #A80036; stroke-width: 1.5;\" x1=\"500\" x2=\"568\" y1=\"226.9375\" y2=\"226.9375\"/></a><!--MD5=[09b614a08d8cba4a07c9adeb5e0fee81]\n",
       "class E3--><a href=\"psysml:a5340f1d-d68a-4585-8f96-7305e6f489d2\" target=\"_top\" title=\"psysml:a5340f1d-d68a-4585-8f96-7305e6f489d2\" xlink:actuate=\"onRequest\" xlink:href=\"psysml:a5340f1d-d68a-4585-8f96-7305e6f489d2\" xlink:show=\"new\" xlink:title=\"psysml:a5340f1d-d68a-4585-8f96-7305e6f489d2\" xlink:type=\"simple\"><rect fill=\"#FEFECE\" filter=\"url(#fhl169a504dki)\" height=\"45.9375\" id=\"E3\" rx=\"10\" ry=\"10\" style=\"stroke: #A80036; stroke-width: 1.5;\" width=\"71\" x=\"706.5\" y=\"62\"/><text fill=\"#000000\" font-family=\"sans-serif\" font-size=\"12\" font-style=\"italic\" lengthAdjust=\"spacingAndGlyphs\" textLength=\"69\" x=\"707.5\" y=\"78.1387\">«attribute»</text><text fill=\"#000000\" font-family=\"sans-serif\" font-size=\"12\" lengthAdjust=\"spacingAndGlyphs\" textLength=\"61\" x=\"709.5\" y=\"92.1074\">n: Integer</text><line style=\"stroke: #A80036; stroke-width: 1.5;\" x1=\"707.5\" x2=\"776.5\" y1=\"99.9375\" y2=\"99.9375\"/></a><!--MD5=[ebbe1d658d1005bcc118a6aa81145e00]\n",
       "class E4--><a href=\"psysml:478d9241-8f6e-4034-a71b-67b7ef5acdce\" target=\"_top\" title=\"psysml:478d9241-8f6e-4034-a71b-67b7ef5acdce\" xlink:actuate=\"onRequest\" xlink:href=\"psysml:478d9241-8f6e-4034-a71b-67b7ef5acdce\" xlink:show=\"new\" xlink:title=\"psysml:478d9241-8f6e-4034-a71b-67b7ef5acdce\" xlink:type=\"simple\"><rect fill=\"#FEFECE\" filter=\"url(#fhl169a504dki)\" height=\"45.9375\" id=\"E4\" rx=\"10\" ry=\"10\" style=\"stroke: #A80036; stroke-width: 1.5;\" width=\"42\" x=\"629\" y=\"62\"/><text fill=\"#000000\" font-family=\"sans-serif\" font-size=\"12\" font-style=\"italic\" lengthAdjust=\"spacingAndGlyphs\" textLength=\"40\" x=\"630\" y=\"78.1387\">«part»</text><text fill=\"#000000\" font-family=\"sans-serif\" font-size=\"12\" lengthAdjust=\"spacingAndGlyphs\" textLength=\"8\" x=\"644\" y=\"92.1074\">a</text><line style=\"stroke: #A80036; stroke-width: 1.5;\" x1=\"630\" x2=\"670\" y1=\"99.9375\" y2=\"99.9375\"/></a><!--MD5=[270fce915f116d4de14055a7c1d9a0f3]\n",
       "class E5--><a href=\"psysml:bc94da79-c19f-4e44-8720-527e565e90dd\" target=\"_top\" title=\"psysml:bc94da79-c19f-4e44-8720-527e565e90dd\" xlink:actuate=\"onRequest\" xlink:href=\"psysml:bc94da79-c19f-4e44-8720-527e565e90dd\" xlink:show=\"new\" xlink:title=\"psysml:bc94da79-c19f-4e44-8720-527e565e90dd\" xlink:type=\"simple\"><rect fill=\"#FEFECE\" filter=\"url(#fhl169a504dki)\" height=\"45.9375\" id=\"E5\" rx=\"10\" ry=\"10\" style=\"stroke: #A80036; stroke-width: 1.5;\" width=\"42\" x=\"552\" y=\"62\"/><text fill=\"#000000\" font-family=\"sans-serif\" font-size=\"12\" font-style=\"italic\" lengthAdjust=\"spacingAndGlyphs\" textLength=\"40\" x=\"553\" y=\"78.1387\">«part»</text><text fill=\"#000000\" font-family=\"sans-serif\" font-size=\"12\" lengthAdjust=\"spacingAndGlyphs\" textLength=\"24\" x=\"559\" y=\"92.1074\">b: P</text><line style=\"stroke: #A80036; stroke-width: 1.5;\" x1=\"553\" x2=\"593\" y1=\"99.9375\" y2=\"99.9375\"/></a><!--MD5=[60a26617385b1d2d0262a64233df1f8d]\n",
       "class E6--><a href=\"psysml:619a7e97-bac6-4f1e-8369-8e8a5aa8da71\" target=\"_top\" title=\"psysml:619a7e97-bac6-4f1e-8369-8e8a5aa8da71\" xlink:actuate=\"onRequest\" xlink:href=\"psysml:619a7e97-bac6-4f1e-8369-8e8a5aa8da71\" xlink:show=\"new\" xlink:title=\"psysml:619a7e97-bac6-4f1e-8369-8e8a5aa8da71\" xlink:type=\"simple\"><rect fill=\"#FEFECE\" filter=\"url(#fhl169a504dki)\" height=\"45.9375\" id=\"E6\" rx=\"10\" ry=\"10\" style=\"stroke: #A80036; stroke-width: 1.5;\" width=\"42\" x=\"475\" y=\"62\"/><text fill=\"#000000\" font-family=\"sans-serif\" font-size=\"12\" font-style=\"italic\" lengthAdjust=\"spacingAndGlyphs\" textLength=\"40\" x=\"476\" y=\"78.1387\">«part»</text><text fill=\"#000000\" font-family=\"sans-serif\" font-size=\"12\" lengthAdjust=\"spacingAndGlyphs\" textLength=\"23\" x=\"482.5\" y=\"92.1074\">c: P</text><line style=\"stroke: #A80036; stroke-width: 1.5;\" x1=\"476\" x2=\"516\" y1=\"99.9375\" y2=\"99.9375\"/></a><!--MD5=[2156ba9850f5573cc1fc38a6a4b2f02b]\n",
       "class E7--><a href=\"psysml:baf82fce-ad86-47f7-be04-61d8ab51238a\" target=\"_top\" title=\"psysml:baf82fce-ad86-47f7-be04-61d8ab51238a\" xlink:actuate=\"onRequest\" xlink:href=\"psysml:baf82fce-ad86-47f7-be04-61d8ab51238a\" xlink:show=\"new\" xlink:title=\"psysml:baf82fce-ad86-47f7-be04-61d8ab51238a\" xlink:type=\"simple\"><rect fill=\"#FEFECE\" filter=\"url(#fhl169a504dki)\" height=\"45.9375\" id=\"E7\" rx=\"10\" ry=\"10\" style=\"stroke: #A80036; stroke-width: 1.5;\" width=\"42\" x=\"398\" y=\"62\"/><text fill=\"#000000\" font-family=\"sans-serif\" font-size=\"12\" font-style=\"italic\" lengthAdjust=\"spacingAndGlyphs\" textLength=\"40\" x=\"399\" y=\"78.1387\">«part»</text><text fill=\"#000000\" font-family=\"sans-serif\" font-size=\"12\" lengthAdjust=\"spacingAndGlyphs\" textLength=\"8\" x=\"413\" y=\"92.1074\">d</text><line style=\"stroke: #A80036; stroke-width: 1.5;\" x1=\"399\" x2=\"439\" y1=\"99.9375\" y2=\"99.9375\"/></a><!--MD5=[b9389687b975829384b498ac4b7476b2]\n",
       "class E8--><a href=\"psysml:602edda4-e9f7-4346-9e9a-bc1deb44a144\" target=\"_top\" title=\"psysml:602edda4-e9f7-4346-9e9a-bc1deb44a144\" xlink:actuate=\"onRequest\" xlink:href=\"psysml:602edda4-e9f7-4346-9e9a-bc1deb44a144\" xlink:show=\"new\" xlink:title=\"psysml:602edda4-e9f7-4346-9e9a-bc1deb44a144\" xlink:type=\"simple\"><rect fill=\"#FEFECE\" filter=\"url(#fhl169a504dki)\" height=\"45.9375\" id=\"E8\" rx=\"10\" ry=\"10\" style=\"stroke: #A80036; stroke-width: 1.5;\" width=\"42\" x=\"321\" y=\"62\"/><text fill=\"#000000\" font-family=\"sans-serif\" font-size=\"12\" font-style=\"italic\" lengthAdjust=\"spacingAndGlyphs\" textLength=\"40\" x=\"322\" y=\"78.1387\">«part»</text><text fill=\"#000000\" font-family=\"sans-serif\" font-size=\"12\" lengthAdjust=\"spacingAndGlyphs\" textLength=\"8\" x=\"336\" y=\"92.1074\">e</text><line style=\"stroke: #A80036; stroke-width: 1.5;\" x1=\"322\" x2=\"362\" y1=\"99.9375\" y2=\"99.9375\"/></a><!--MD5=[fd4143e9d270a159db93a4ea2a975926]\n",
       "class E9--><a href=\"psysml:ea99d53b-6b01-4b58-853a-79f827c6b1d7\" target=\"_top\" title=\"psysml:ea99d53b-6b01-4b58-853a-79f827c6b1d7\" xlink:actuate=\"onRequest\" xlink:href=\"psysml:ea99d53b-6b01-4b58-853a-79f827c6b1d7\" xlink:show=\"new\" xlink:title=\"psysml:ea99d53b-6b01-4b58-853a-79f827c6b1d7\" xlink:type=\"simple\"><rect fill=\"#FEFECE\" filter=\"url(#fhl169a504dki)\" height=\"45.9375\" id=\"E9\" rx=\"10\" ry=\"10\" style=\"stroke: #A80036; stroke-width: 1.5;\" width=\"42\" x=\"244\" y=\"62\"/><text fill=\"#000000\" font-family=\"sans-serif\" font-size=\"12\" font-style=\"italic\" lengthAdjust=\"spacingAndGlyphs\" textLength=\"40\" x=\"245\" y=\"78.1387\">«part»</text><text fill=\"#000000\" font-family=\"sans-serif\" font-size=\"12\" lengthAdjust=\"spacingAndGlyphs\" textLength=\"4\" x=\"261\" y=\"92.1074\">f</text><line style=\"stroke: #A80036; stroke-width: 1.5;\" x1=\"245\" x2=\"285\" y1=\"99.9375\" y2=\"99.9375\"/></a><!--MD5=[96f4274e9e20536e775497830990834d]\n",
       "class E10--><a href=\"psysml:7f8b6820-ebe3-4bcd-8be0-e5513e7bb89f\" target=\"_top\" title=\"psysml:7f8b6820-ebe3-4bcd-8be0-e5513e7bb89f\" xlink:actuate=\"onRequest\" xlink:href=\"psysml:7f8b6820-ebe3-4bcd-8be0-e5513e7bb89f\" xlink:show=\"new\" xlink:title=\"psysml:7f8b6820-ebe3-4bcd-8be0-e5513e7bb89f\" xlink:type=\"simple\"><rect fill=\"#FEFECE\" filter=\"url(#fhl169a504dki)\" height=\"45.9375\" id=\"E10\" rx=\"10\" ry=\"10\" style=\"stroke: #A80036; stroke-width: 1.5;\" width=\"42\" x=\"167\" y=\"62\"/><text fill=\"#000000\" font-family=\"sans-serif\" font-size=\"12\" font-style=\"italic\" lengthAdjust=\"spacingAndGlyphs\" textLength=\"40\" x=\"168\" y=\"78.1387\">«part»</text><text fill=\"#000000\" font-family=\"sans-serif\" font-size=\"12\" lengthAdjust=\"spacingAndGlyphs\" textLength=\"8\" x=\"182\" y=\"92.1074\">g</text><line style=\"stroke: #A80036; stroke-width: 1.5;\" x1=\"168\" x2=\"208\" y1=\"99.9375\" y2=\"99.9375\"/></a><!--MD5=[1dd1bfd58a279cf63c5f349dbc8fc6a1]\n",
       "class E11--><a href=\"psysml:b98160f9-962b-4166-b8bf-1b8817b6e181\" target=\"_top\" title=\"psysml:b98160f9-962b-4166-b8bf-1b8817b6e181\" xlink:actuate=\"onRequest\" xlink:href=\"psysml:b98160f9-962b-4166-b8bf-1b8817b6e181\" xlink:show=\"new\" xlink:title=\"psysml:b98160f9-962b-4166-b8bf-1b8817b6e181\" xlink:type=\"simple\"><rect fill=\"#FEFECE\" filter=\"url(#fhl169a504dki)\" height=\"88.3516\" id=\"E11\" style=\"stroke: #A80036; stroke-width: 1.5;\" width=\"99\" x=\"32.5\" y=\"41\"/><text fill=\"#000000\" font-family=\"sans-serif\" font-size=\"12\" font-style=\"italic\" lengthAdjust=\"spacingAndGlyphs\" textLength=\"97\" x=\"33.5\" y=\"57.1387\">«attribute  def»</text><text fill=\"#000000\" font-family=\"sans-serif\" font-size=\"12\" lengthAdjust=\"spacingAndGlyphs\" textLength=\"8\" x=\"78\" y=\"71.1074\">A</text><line style=\"stroke: #A80036; stroke-width: 1.5;\" x1=\"33.5\" x2=\"130.5\" y1=\"78.9375\" y2=\"78.9375\"/><text fill=\"#000000\" font-family=\"sans-serif\" font-size=\"11\" lengthAdjust=\"spacingAndGlyphs\" textLength=\"51\" x=\"38.5\" y=\"109.9526\">i: Integer</text><text fill=\"#000000\" font-family=\"sans-serif\" font-size=\"11\" lengthAdjust=\"spacingAndGlyphs\" textLength=\"21\" x=\"38.5\" y=\"122.7573\">x: A</text><line style=\"stroke: #A80036; stroke-width: 1.0;\" x1=\"33.5\" x2=\"54.5\" y1=\"93.3398\" y2=\"93.3398\"/><text fill=\"#000000\" font-family=\"sans-serif\" font-size=\"11\" lengthAdjust=\"spacingAndGlyphs\" textLength=\"55\" x=\"54.5\" y=\"96.6479\">attributes</text><line style=\"stroke: #A80036; stroke-width: 1.0;\" x1=\"109.5\" x2=\"130.5\" y1=\"93.3398\" y2=\"93.3398\"/></a><!--MD5=[15ebcb19ae302d9b601edb458606d402]\n",
       "link E5 to E2--><a href=\"psysml:f465fece-be6c-4a0b-8b87-5b67ed75d8f8\" target=\"_top\" title=\"psysml:f465fece-be6c-4a0b-8b87-5b67ed75d8f8\" xlink:actuate=\"onRequest\" xlink:href=\"psysml:f465fece-be6c-4a0b-8b87-5b67ed75d8f8\" xlink:show=\"new\" xlink:title=\"psysml:f465fece-be6c-4a0b-8b87-5b67ed75d8f8\" xlink:type=\"simple\"><path d=\"M566.12,108.06 C560.83,125 553.38,148.89 546.98,169.39 \" fill=\"none\" id=\"E5-&gt;E2\" style=\"stroke: #A80036; stroke-width: 1.0;\"/><polygon fill=\"#FFFFFF\" points=\"540.95,188.74,539.929,168.5173,553.2931,172.6886,540.95,188.74\" style=\"stroke: #A80036; stroke-width: 1.0;\"/><ellipse cx=\"543.5364\" cy=\"163.6721\" fill=\"#A80036\" rx=\"2\" ry=\"2\" style=\"stroke: #A80036; stroke-width: 1.0;\"/><ellipse cx=\"553.0823\" cy=\"166.6516\" fill=\"#A80036\" rx=\"2\" ry=\"2\" style=\"stroke: #A80036; stroke-width: 1.0;\"/></a><!--MD5=[2351f337d6de0f557b50152ba70847b5]\n",
       "link E6 to E2--><a href=\"psysml:72e02ffe-11ce-46be-a503-0c91c54548ee\" target=\"_top\" title=\"psysml:72e02ffe-11ce-46be-a503-0c91c54548ee\" xlink:actuate=\"onRequest\" xlink:href=\"psysml:72e02ffe-11ce-46be-a503-0c91c54548ee\" xlink:show=\"new\" xlink:title=\"psysml:72e02ffe-11ce-46be-a503-0c91c54548ee\" xlink:type=\"simple\"><path d=\"M502.71,108.06 C507.86,125 515.12,148.89 521.35,169.39 \" fill=\"none\" id=\"E6-&gt;E2\" style=\"stroke: #A80036; stroke-width: 1.0;\"/><polygon fill=\"#FFFFFF\" points=\"527.23,188.74,515.007,172.597,528.4019,168.5255,527.23,188.74\" style=\"stroke: #A80036; stroke-width: 1.0;\"/><ellipse cx=\"515.2628\" cy=\"166.5617\" fill=\"#A80036\" rx=\"2\" ry=\"2\" style=\"stroke: #A80036; stroke-width: 1.0;\"/><ellipse cx=\"524.8306\" cy=\"163.6535\" fill=\"#A80036\" rx=\"2\" ry=\"2\" style=\"stroke: #A80036; stroke-width: 1.0;\"/></a><!--MD5=[2e0f682f8dcd1a43fd8f0879e7b5f9d1]\n",
       "@startuml\r\n",
       "skinparam wrapWidth 300\r\n",
       "hide circle\r\n",
       "\r\n",
       "package \"MultiplicityTest\" as E1  [[psysml:437e1e49-e6a3-4f3e-be27-b1e07120749d ]]  {\r\n",
       "comp def \"P\" as E2  <<(T,blue) part  def>> [[psysml:d60dc8a9-ee87-4177-8909-4fd780a9d8f8 ]] {\r\n",
       "}\r\n",
       "comp usage \"n: Integer \" as E3  <<(T,blue) attribute>> [[psysml:a5340f1d-d68a-4585-8f96-7305e6f489d2 ]] {\r\n",
       "}\r\n",
       "comp usage \"a \" as E4  <<(T,blue) part>> [[psysml:478d9241-8f6e-4034-a71b-67b7ef5acdce ]] {\r\n",
       "}\r\n",
       "comp usage \"b: P \" as E5  <<(T,blue) part>> [[psysml:bc94da79-c19f-4e44-8720-527e565e90dd ]] {\r\n",
       "}\r\n",
       "comp usage \"c: P \" as E6  <<(T,blue) part>> [[psysml:619a7e97-bac6-4f1e-8369-8e8a5aa8da71 ]] {\r\n",
       "}\r\n",
       "comp usage \"d \" as E7  <<(T,blue) part>> [[psysml:baf82fce-ad86-47f7-be04-61d8ab51238a ]] {\r\n",
       "}\r\n",
       "comp usage \"e \" as E8  <<(T,blue) part>> [[psysml:602edda4-e9f7-4346-9e9a-bc1deb44a144 ]] {\r\n",
       "}\r\n",
       "comp usage \"f \" as E9  <<(T,blue) part>> [[psysml:ea99d53b-6b01-4b58-853a-79f827c6b1d7 ]] {\r\n",
       "}\r\n",
       "comp usage \"g \" as E10  <<(T,blue) part>> [[psysml:7f8b6820-ebe3-4bcd-8be0-e5513e7bb89f ]] {\r\n",
       "}\r\n",
       "comp def \"A\" as E11  <<(T,blue) attribute  def>> [[psysml:b98160f9-962b-4166-b8bf-1b8817b6e181 ]] {\r\n",
       "- - attributes - -\r\n",
       "i: Integer\r\n",
       "x: A\r\n",
       "}\r\n",
       "}\r\n",
       "E5 - -:|> E2 [[psysml:f465fece-be6c-4a0b-8b87-5b67ed75d8f8 ]] \r\n",
       "E6 - -:|> E2 [[psysml:72e02ffe-11ce-46be-a503-0c91c54548ee ]] \r\n",
       "@enduml\r\n",
       "\n",
       "PlantUML version 1.2020.13(Sat Jun 13 12:26:38 UTC 2020)\n",
       "(EPL source distribution)\n",
       "Java Runtime: OpenJDK Runtime Environment\n",
       "JVM: OpenJDK 64-Bit Server VM\n",
       "Default Encoding: UTF-8\n",
       "Language: en\n",
       "Country: null\n",
       "--></g></svg>"
      ]
     },
     "execution_count": 29,
     "metadata": {},
     "output_type": "execute_result"
    }
   ],
   "source": [
    "%viz --style=\"STDCOLOR\" --view=\"MIXED\" \"MultiplicityTest\""
   ]
  },
  {
   "cell_type": "code",
   "execution_count": 30,
   "id": "4f9dcd90",
   "metadata": {
    "execution": {
     "iopub.execute_input": "2022-03-03T09:58:30.869139Z",
     "iopub.status.busy": "2022-03-03T09:58:30.868739Z",
     "iopub.status.idle": "2022-03-03T09:58:30.960232Z",
     "shell.execute_reply": "2022-03-03T09:58:30.958662Z"
    }
   },
   "outputs": [
    {
     "data": {
      "image/svg+xml": [
       "<?xml version=\"1.0\" encoding=\"UTF-8\" standalone=\"no\"?><svg xmlns=\"http://www.w3.org/2000/svg\" xmlns:xlink=\"http://www.w3.org/1999/xlink\" contentScriptType=\"application/ecmascript\" contentStyleType=\"text/css\" height=\"257px\" preserveAspectRatio=\"none\" style=\"width:1049px;height:257px;\" version=\"1.1\" viewBox=\"0 0 1049 257\" width=\"1049px\" zoomAndPan=\"magnify\"><defs><filter height=\"300%\" id=\"fk78wg8av29xx\" width=\"300%\" x=\"-1\" y=\"-1\"><feGaussianBlur result=\"blurOut\" stdDeviation=\"2.0\"/><feColorMatrix in=\"blurOut\" result=\"blurOut2\" type=\"matrix\" values=\"0 0 0 0 0 0 0 0 0 0 0 0 0 0 0 0 0 0 .4 0\"/><feOffset dx=\"4.0\" dy=\"4.0\" in=\"blurOut2\" result=\"blurOut3\"/><feBlend in=\"SourceGraphic\" in2=\"blurOut3\" mode=\"normal\"/></filter></defs><g><!--MD5=[fbc87193dbaf4d95561dea2c320d4a47]\n",
       "cluster E1--><a href=\"psysml:437e1e49-e6a3-4f3e-be27-b1e07120749d\" target=\"_top\" title=\"psysml:437e1e49-e6a3-4f3e-be27-b1e07120749d\" xlink:actuate=\"onRequest\" xlink:href=\"psysml:437e1e49-e6a3-4f3e-be27-b1e07120749d\" xlink:show=\"new\" xlink:title=\"psysml:437e1e49-e6a3-4f3e-be27-b1e07120749d\" xlink:type=\"simple\"><polygon fill=\"#FFFFFF\" filter=\"url(#fk78wg8av29xx)\" points=\"16,6,123,6,130,28.2969,1027,28.2969,1027,245,16,245,16,6\" style=\"stroke: #000000; stroke-width: 1.5;\"/><line style=\"stroke: #000000; stroke-width: 1.5;\" x1=\"16\" x2=\"130\" y1=\"28.2969\" y2=\"28.2969\"/><text fill=\"#000000\" font-family=\"sans-serif\" font-size=\"14\" font-weight=\"bold\" lengthAdjust=\"spacingAndGlyphs\" textLength=\"101\" x=\"20\" y=\"20.9951\">MultiplicityTest</text></a><!--MD5=[b4997ac47864f28c2f74865a473b2911]\n",
       "class E2--><a href=\"psysml:d60dc8a9-ee87-4177-8909-4fd780a9d8f8\" target=\"_top\" title=\"psysml:d60dc8a9-ee87-4177-8909-4fd780a9d8f8\" xlink:actuate=\"onRequest\" xlink:href=\"psysml:d60dc8a9-ee87-4177-8909-4fd780a9d8f8\" xlink:show=\"new\" xlink:title=\"psysml:d60dc8a9-ee87-4177-8909-4fd780a9d8f8\" xlink:type=\"simple\"><rect fill=\"#FEFECE\" filter=\"url(#fk78wg8av29xx)\" height=\"40\" id=\"E2\" style=\"stroke: #A80036; stroke-width: 1.5;\" width=\"40\" x=\"670\" y=\"189\"/><ellipse cx=\"685\" cy=\"205\" fill=\"#008000\" rx=\"11\" ry=\"11\" style=\"stroke: #A80036; stroke-width: 1.0;\"/><path d=\"M681.875,210 L681.875,199.4063 L685.1094,199.4063 Q687.0156,199.4063 687.9219,200.1563 Q688.8438,200.9063 688.8438,202.0781 Q688.8438,202.7656 688.4531,203.4219 Q688.0781,204.0781 687.3594,204.375 Q688.2188,204.75 688.7344,205.4375 Q689.25,206.125 689.25,206.9375 Q689.25,208.3125 688.2188,209.1563 Q687.2031,210 685.0938,210 L681.875,210 Z M683.7969,203.6406 L684.9531,203.6406 Q686.0781,203.6406 686.4844,203.2656 Q686.9063,202.875 686.9063,202.25 Q686.9063,201.6719 686.4844,201.3125 Q686.0625,200.9531 685.125,200.9531 L683.7969,200.9531 L683.7969,203.6406 Z M683.7969,208.4219 L685.2969,208.4219 Q686.2031,208.4219 686.7344,208.0313 Q687.2656,207.6406 687.2656,206.8906 Q687.2656,206.125 686.7656,205.6563 Q686.2656,205.1719 685,205.1719 L683.7969,205.1719 L683.7969,208.4219 Z \"/><text fill=\"#000000\" font-family=\"sans-serif\" font-size=\"12\" lengthAdjust=\"spacingAndGlyphs\" textLength=\"8\" x=\"699\" y=\"209.1543\">P</text><line style=\"stroke: #A80036; stroke-width: 1.5;\" x1=\"671\" x2=\"709\" y1=\"221\" y2=\"221\"/></a><!--MD5=[09b614a08d8cba4a07c9adeb5e0fee81]\n",
       "class E3--><a href=\"psysml:a5340f1d-d68a-4585-8f96-7305e6f489d2\" target=\"_top\" title=\"psysml:a5340f1d-d68a-4585-8f96-7305e6f489d2\" xlink:actuate=\"onRequest\" xlink:href=\"psysml:a5340f1d-d68a-4585-8f96-7305e6f489d2\" xlink:show=\"new\" xlink:title=\"psysml:a5340f1d-d68a-4585-8f96-7305e6f489d2\" xlink:type=\"simple\"><rect fill=\"#FEFECE\" filter=\"url(#fk78wg8av29xx)\" height=\"45.9375\" id=\"E3\" rx=\"10\" ry=\"10\" style=\"stroke: #A80036; stroke-width: 1.5;\" width=\"97\" x=\"914.5\" y=\"62\"/><ellipse cx=\"929.5\" cy=\"80.9688\" fill=\"#FFA500\" rx=\"11\" ry=\"11\" style=\"stroke: #A80036; stroke-width: 1.0;\"/><path d=\"M929.25,86.4375 Q927.5,86.4375 926.5469,85.4063 Q925.6094,84.3594 925.6094,82.5156 L925.6094,75.625 L927.6719,75.625 L927.6719,75.7813 Q927.5781,75.875 927.5469,76.0156 Q927.5313,76.1406 927.5313,76.4063 L927.5313,82.5313 Q927.5313,83.625 927.9063,84.25 Q928.2813,84.875 929.2656,84.875 Q930.25,84.875 930.6406,84.25 Q931.0313,83.625 931.0313,82.4844 L931.0313,75.625 L932.9063,75.625 L932.9063,82.4688 Q932.9063,84.5 931.875,85.4688 Q930.8594,86.4375 929.25,86.4375 Z \"/><text fill=\"#000000\" font-family=\"sans-serif\" font-size=\"12\" font-style=\"italic\" lengthAdjust=\"spacingAndGlyphs\" textLength=\"69\" x=\"941.5\" y=\"78.1387\">«attribute»</text><text fill=\"#000000\" font-family=\"sans-serif\" font-size=\"12\" lengthAdjust=\"spacingAndGlyphs\" textLength=\"61\" x=\"943.5\" y=\"92.1074\">n: Integer</text><line style=\"stroke: #A80036; stroke-width: 1.5;\" x1=\"915.5\" x2=\"1010.5\" y1=\"99.9375\" y2=\"99.9375\"/></a><!--MD5=[ebbe1d658d1005bcc118a6aa81145e00]\n",
       "class E4--><a href=\"psysml:478d9241-8f6e-4034-a71b-67b7ef5acdce\" target=\"_top\" title=\"psysml:478d9241-8f6e-4034-a71b-67b7ef5acdce\" xlink:actuate=\"onRequest\" xlink:href=\"psysml:478d9241-8f6e-4034-a71b-67b7ef5acdce\" xlink:show=\"new\" xlink:title=\"psysml:478d9241-8f6e-4034-a71b-67b7ef5acdce\" xlink:type=\"simple\"><rect fill=\"#FEFECE\" filter=\"url(#fk78wg8av29xx)\" height=\"45.9375\" id=\"E4\" rx=\"10\" ry=\"10\" style=\"stroke: #A80036; stroke-width: 1.5;\" width=\"68\" x=\"811\" y=\"62\"/><ellipse cx=\"826\" cy=\"80.9688\" fill=\"#32CD32\" rx=\"11\" ry=\"11\" style=\"stroke: #A80036; stroke-width: 1.0;\"/><path d=\"M822.8125,85.9688 L822.8125,75.375 L826.4219,75.375 Q827.6406,75.375 828.4375,75.8125 Q829.2344,76.2344 829.6094,76.9375 Q830,77.6406 830,78.4844 Q830,79.3281 829.625,80.0156 Q829.2656,80.7031 828.4688,81.125 Q827.6875,81.5313 826.5,81.5313 L824.7656,81.5313 L824.7656,85.9688 L822.8125,85.9688 Z M824.7656,79.9375 L826.375,79.9375 Q827.1875,79.9375 827.6094,79.5313 Q828.0313,79.125 828.0313,78.4844 Q828.0313,77.8594 827.6094,77.4531 Q827.1875,77.0469 826.3906,77.0469 L824.7656,77.0469 L824.7656,79.9375 Z \"/><text fill=\"#000000\" font-family=\"sans-serif\" font-size=\"12\" font-style=\"italic\" lengthAdjust=\"spacingAndGlyphs\" textLength=\"40\" x=\"838\" y=\"78.1387\">«part»</text><text fill=\"#000000\" font-family=\"sans-serif\" font-size=\"12\" lengthAdjust=\"spacingAndGlyphs\" textLength=\"8\" x=\"852\" y=\"92.1074\">a</text><line style=\"stroke: #A80036; stroke-width: 1.5;\" x1=\"812\" x2=\"878\" y1=\"99.9375\" y2=\"99.9375\"/></a><!--MD5=[270fce915f116d4de14055a7c1d9a0f3]\n",
       "class E5--><a href=\"psysml:bc94da79-c19f-4e44-8720-527e565e90dd\" target=\"_top\" title=\"psysml:bc94da79-c19f-4e44-8720-527e565e90dd\" xlink:actuate=\"onRequest\" xlink:href=\"psysml:bc94da79-c19f-4e44-8720-527e565e90dd\" xlink:show=\"new\" xlink:title=\"psysml:bc94da79-c19f-4e44-8720-527e565e90dd\" xlink:type=\"simple\"><rect fill=\"#FEFECE\" filter=\"url(#fk78wg8av29xx)\" height=\"45.9375\" id=\"E5\" rx=\"10\" ry=\"10\" style=\"stroke: #A80036; stroke-width: 1.5;\" width=\"68\" x=\"708\" y=\"62\"/><ellipse cx=\"723\" cy=\"80.9688\" fill=\"#32CD32\" rx=\"11\" ry=\"11\" style=\"stroke: #A80036; stroke-width: 1.0;\"/><path d=\"M719.8125,85.9688 L719.8125,75.375 L723.4219,75.375 Q724.6406,75.375 725.4375,75.8125 Q726.2344,76.2344 726.6094,76.9375 Q727,77.6406 727,78.4844 Q727,79.3281 726.625,80.0156 Q726.2656,80.7031 725.4688,81.125 Q724.6875,81.5313 723.5,81.5313 L721.7656,81.5313 L721.7656,85.9688 L719.8125,85.9688 Z M721.7656,79.9375 L723.375,79.9375 Q724.1875,79.9375 724.6094,79.5313 Q725.0313,79.125 725.0313,78.4844 Q725.0313,77.8594 724.6094,77.4531 Q724.1875,77.0469 723.3906,77.0469 L721.7656,77.0469 L721.7656,79.9375 Z \"/><text fill=\"#000000\" font-family=\"sans-serif\" font-size=\"12\" font-style=\"italic\" lengthAdjust=\"spacingAndGlyphs\" textLength=\"40\" x=\"735\" y=\"78.1387\">«part»</text><text fill=\"#000000\" font-family=\"sans-serif\" font-size=\"12\" lengthAdjust=\"spacingAndGlyphs\" textLength=\"24\" x=\"741\" y=\"92.1074\">b: P</text><line style=\"stroke: #A80036; stroke-width: 1.5;\" x1=\"709\" x2=\"775\" y1=\"99.9375\" y2=\"99.9375\"/></a><!--MD5=[60a26617385b1d2d0262a64233df1f8d]\n",
       "class E6--><a href=\"psysml:619a7e97-bac6-4f1e-8369-8e8a5aa8da71\" target=\"_top\" title=\"psysml:619a7e97-bac6-4f1e-8369-8e8a5aa8da71\" xlink:actuate=\"onRequest\" xlink:href=\"psysml:619a7e97-bac6-4f1e-8369-8e8a5aa8da71\" xlink:show=\"new\" xlink:title=\"psysml:619a7e97-bac6-4f1e-8369-8e8a5aa8da71\" xlink:type=\"simple\"><rect fill=\"#FEFECE\" filter=\"url(#fk78wg8av29xx)\" height=\"45.9375\" id=\"E6\" rx=\"10\" ry=\"10\" style=\"stroke: #A80036; stroke-width: 1.5;\" width=\"68\" x=\"605\" y=\"62\"/><ellipse cx=\"620\" cy=\"80.9688\" fill=\"#32CD32\" rx=\"11\" ry=\"11\" style=\"stroke: #A80036; stroke-width: 1.0;\"/><path d=\"M616.8125,85.9688 L616.8125,75.375 L620.4219,75.375 Q621.6406,75.375 622.4375,75.8125 Q623.2344,76.2344 623.6094,76.9375 Q624,77.6406 624,78.4844 Q624,79.3281 623.625,80.0156 Q623.2656,80.7031 622.4688,81.125 Q621.6875,81.5313 620.5,81.5313 L618.7656,81.5313 L618.7656,85.9688 L616.8125,85.9688 Z M618.7656,79.9375 L620.375,79.9375 Q621.1875,79.9375 621.6094,79.5313 Q622.0313,79.125 622.0313,78.4844 Q622.0313,77.8594 621.6094,77.4531 Q621.1875,77.0469 620.3906,77.0469 L618.7656,77.0469 L618.7656,79.9375 Z \"/><text fill=\"#000000\" font-family=\"sans-serif\" font-size=\"12\" font-style=\"italic\" lengthAdjust=\"spacingAndGlyphs\" textLength=\"40\" x=\"632\" y=\"78.1387\">«part»</text><text fill=\"#000000\" font-family=\"sans-serif\" font-size=\"12\" lengthAdjust=\"spacingAndGlyphs\" textLength=\"23\" x=\"638.5\" y=\"92.1074\">c: P</text><line style=\"stroke: #A80036; stroke-width: 1.5;\" x1=\"606\" x2=\"672\" y1=\"99.9375\" y2=\"99.9375\"/></a><!--MD5=[2156ba9850f5573cc1fc38a6a4b2f02b]\n",
       "class E7--><a href=\"psysml:baf82fce-ad86-47f7-be04-61d8ab51238a\" target=\"_top\" title=\"psysml:baf82fce-ad86-47f7-be04-61d8ab51238a\" xlink:actuate=\"onRequest\" xlink:href=\"psysml:baf82fce-ad86-47f7-be04-61d8ab51238a\" xlink:show=\"new\" xlink:title=\"psysml:baf82fce-ad86-47f7-be04-61d8ab51238a\" xlink:type=\"simple\"><rect fill=\"#FEFECE\" filter=\"url(#fk78wg8av29xx)\" height=\"45.9375\" id=\"E7\" rx=\"10\" ry=\"10\" style=\"stroke: #A80036; stroke-width: 1.5;\" width=\"68\" x=\"502\" y=\"62\"/><ellipse cx=\"517\" cy=\"80.9688\" fill=\"#32CD32\" rx=\"11\" ry=\"11\" style=\"stroke: #A80036; stroke-width: 1.0;\"/><path d=\"M513.8125,85.9688 L513.8125,75.375 L517.4219,75.375 Q518.6406,75.375 519.4375,75.8125 Q520.2344,76.2344 520.6094,76.9375 Q521,77.6406 521,78.4844 Q521,79.3281 520.625,80.0156 Q520.2656,80.7031 519.4688,81.125 Q518.6875,81.5313 517.5,81.5313 L515.7656,81.5313 L515.7656,85.9688 L513.8125,85.9688 Z M515.7656,79.9375 L517.375,79.9375 Q518.1875,79.9375 518.6094,79.5313 Q519.0313,79.125 519.0313,78.4844 Q519.0313,77.8594 518.6094,77.4531 Q518.1875,77.0469 517.3906,77.0469 L515.7656,77.0469 L515.7656,79.9375 Z \"/><text fill=\"#000000\" font-family=\"sans-serif\" font-size=\"12\" font-style=\"italic\" lengthAdjust=\"spacingAndGlyphs\" textLength=\"40\" x=\"529\" y=\"78.1387\">«part»</text><text fill=\"#000000\" font-family=\"sans-serif\" font-size=\"12\" lengthAdjust=\"spacingAndGlyphs\" textLength=\"8\" x=\"543\" y=\"92.1074\">d</text><line style=\"stroke: #A80036; stroke-width: 1.5;\" x1=\"503\" x2=\"569\" y1=\"99.9375\" y2=\"99.9375\"/></a><!--MD5=[b9389687b975829384b498ac4b7476b2]\n",
       "class E8--><a href=\"psysml:602edda4-e9f7-4346-9e9a-bc1deb44a144\" target=\"_top\" title=\"psysml:602edda4-e9f7-4346-9e9a-bc1deb44a144\" xlink:actuate=\"onRequest\" xlink:href=\"psysml:602edda4-e9f7-4346-9e9a-bc1deb44a144\" xlink:show=\"new\" xlink:title=\"psysml:602edda4-e9f7-4346-9e9a-bc1deb44a144\" xlink:type=\"simple\"><rect fill=\"#FEFECE\" filter=\"url(#fk78wg8av29xx)\" height=\"45.9375\" id=\"E8\" rx=\"10\" ry=\"10\" style=\"stroke: #A80036; stroke-width: 1.5;\" width=\"68\" x=\"399\" y=\"62\"/><ellipse cx=\"414\" cy=\"80.9688\" fill=\"#32CD32\" rx=\"11\" ry=\"11\" style=\"stroke: #A80036; stroke-width: 1.0;\"/><path d=\"M410.8125,85.9688 L410.8125,75.375 L414.4219,75.375 Q415.6406,75.375 416.4375,75.8125 Q417.2344,76.2344 417.6094,76.9375 Q418,77.6406 418,78.4844 Q418,79.3281 417.625,80.0156 Q417.2656,80.7031 416.4688,81.125 Q415.6875,81.5313 414.5,81.5313 L412.7656,81.5313 L412.7656,85.9688 L410.8125,85.9688 Z M412.7656,79.9375 L414.375,79.9375 Q415.1875,79.9375 415.6094,79.5313 Q416.0313,79.125 416.0313,78.4844 Q416.0313,77.8594 415.6094,77.4531 Q415.1875,77.0469 414.3906,77.0469 L412.7656,77.0469 L412.7656,79.9375 Z \"/><text fill=\"#000000\" font-family=\"sans-serif\" font-size=\"12\" font-style=\"italic\" lengthAdjust=\"spacingAndGlyphs\" textLength=\"40\" x=\"426\" y=\"78.1387\">«part»</text><text fill=\"#000000\" font-family=\"sans-serif\" font-size=\"12\" lengthAdjust=\"spacingAndGlyphs\" textLength=\"8\" x=\"440\" y=\"92.1074\">e</text><line style=\"stroke: #A80036; stroke-width: 1.5;\" x1=\"400\" x2=\"466\" y1=\"99.9375\" y2=\"99.9375\"/></a><!--MD5=[fd4143e9d270a159db93a4ea2a975926]\n",
       "class E9--><a href=\"psysml:ea99d53b-6b01-4b58-853a-79f827c6b1d7\" target=\"_top\" title=\"psysml:ea99d53b-6b01-4b58-853a-79f827c6b1d7\" xlink:actuate=\"onRequest\" xlink:href=\"psysml:ea99d53b-6b01-4b58-853a-79f827c6b1d7\" xlink:show=\"new\" xlink:title=\"psysml:ea99d53b-6b01-4b58-853a-79f827c6b1d7\" xlink:type=\"simple\"><rect fill=\"#FEFECE\" filter=\"url(#fk78wg8av29xx)\" height=\"45.9375\" id=\"E9\" rx=\"10\" ry=\"10\" style=\"stroke: #A80036; stroke-width: 1.5;\" width=\"68\" x=\"296\" y=\"62\"/><ellipse cx=\"311\" cy=\"80.9688\" fill=\"#32CD32\" rx=\"11\" ry=\"11\" style=\"stroke: #A80036; stroke-width: 1.0;\"/><path d=\"M307.8125,85.9688 L307.8125,75.375 L311.4219,75.375 Q312.6406,75.375 313.4375,75.8125 Q314.2344,76.2344 314.6094,76.9375 Q315,77.6406 315,78.4844 Q315,79.3281 314.625,80.0156 Q314.2656,80.7031 313.4688,81.125 Q312.6875,81.5313 311.5,81.5313 L309.7656,81.5313 L309.7656,85.9688 L307.8125,85.9688 Z M309.7656,79.9375 L311.375,79.9375 Q312.1875,79.9375 312.6094,79.5313 Q313.0313,79.125 313.0313,78.4844 Q313.0313,77.8594 312.6094,77.4531 Q312.1875,77.0469 311.3906,77.0469 L309.7656,77.0469 L309.7656,79.9375 Z \"/><text fill=\"#000000\" font-family=\"sans-serif\" font-size=\"12\" font-style=\"italic\" lengthAdjust=\"spacingAndGlyphs\" textLength=\"40\" x=\"323\" y=\"78.1387\">«part»</text><text fill=\"#000000\" font-family=\"sans-serif\" font-size=\"12\" lengthAdjust=\"spacingAndGlyphs\" textLength=\"4\" x=\"339\" y=\"92.1074\">f</text><line style=\"stroke: #A80036; stroke-width: 1.5;\" x1=\"297\" x2=\"363\" y1=\"99.9375\" y2=\"99.9375\"/></a><!--MD5=[96f4274e9e20536e775497830990834d]\n",
       "class E10--><a href=\"psysml:7f8b6820-ebe3-4bcd-8be0-e5513e7bb89f\" target=\"_top\" title=\"psysml:7f8b6820-ebe3-4bcd-8be0-e5513e7bb89f\" xlink:actuate=\"onRequest\" xlink:href=\"psysml:7f8b6820-ebe3-4bcd-8be0-e5513e7bb89f\" xlink:show=\"new\" xlink:title=\"psysml:7f8b6820-ebe3-4bcd-8be0-e5513e7bb89f\" xlink:type=\"simple\"><rect fill=\"#FEFECE\" filter=\"url(#fk78wg8av29xx)\" height=\"45.9375\" id=\"E10\" rx=\"10\" ry=\"10\" style=\"stroke: #A80036; stroke-width: 1.5;\" width=\"68\" x=\"193\" y=\"62\"/><ellipse cx=\"208\" cy=\"80.9688\" fill=\"#32CD32\" rx=\"11\" ry=\"11\" style=\"stroke: #A80036; stroke-width: 1.0;\"/><path d=\"M204.8125,85.9688 L204.8125,75.375 L208.4219,75.375 Q209.6406,75.375 210.4375,75.8125 Q211.2344,76.2344 211.6094,76.9375 Q212,77.6406 212,78.4844 Q212,79.3281 211.625,80.0156 Q211.2656,80.7031 210.4688,81.125 Q209.6875,81.5313 208.5,81.5313 L206.7656,81.5313 L206.7656,85.9688 L204.8125,85.9688 Z M206.7656,79.9375 L208.375,79.9375 Q209.1875,79.9375 209.6094,79.5313 Q210.0313,79.125 210.0313,78.4844 Q210.0313,77.8594 209.6094,77.4531 Q209.1875,77.0469 208.3906,77.0469 L206.7656,77.0469 L206.7656,79.9375 Z \"/><text fill=\"#000000\" font-family=\"sans-serif\" font-size=\"12\" font-style=\"italic\" lengthAdjust=\"spacingAndGlyphs\" textLength=\"40\" x=\"220\" y=\"78.1387\">«part»</text><text fill=\"#000000\" font-family=\"sans-serif\" font-size=\"12\" lengthAdjust=\"spacingAndGlyphs\" textLength=\"8\" x=\"234\" y=\"92.1074\">g</text><line style=\"stroke: #A80036; stroke-width: 1.5;\" x1=\"194\" x2=\"260\" y1=\"99.9375\" y2=\"99.9375\"/></a><!--MD5=[1dd1bfd58a279cf63c5f349dbc8fc6a1]\n",
       "class E11--><a href=\"psysml:b98160f9-962b-4166-b8bf-1b8817b6e181\" target=\"_top\" title=\"psysml:b98160f9-962b-4166-b8bf-1b8817b6e181\" xlink:actuate=\"onRequest\" xlink:href=\"psysml:b98160f9-962b-4166-b8bf-1b8817b6e181\" xlink:show=\"new\" xlink:title=\"psysml:b98160f9-962b-4166-b8bf-1b8817b6e181\" xlink:type=\"simple\"><rect fill=\"#FEFECE\" filter=\"url(#fk78wg8av29xx)\" height=\"88.3516\" id=\"E11\" style=\"stroke: #A80036; stroke-width: 1.5;\" width=\"125\" x=\"32.5\" y=\"41\"/><ellipse cx=\"47.5\" cy=\"59.9688\" fill=\"#A52A2A\" rx=\"11\" ry=\"11\" style=\"stroke: #A80036; stroke-width: 1.0;\"/><path d=\"M44.7188,64.9688 L44.7188,54.375 L47.4531,54.375 Q48.8438,54.375 49.6094,54.7656 Q50.3906,55.1406 50.9219,55.8438 Q51.4531,56.5469 51.75,57.5469 Q52.0469,58.5313 52.0469,59.75 Q52,61.3438 51.5,62.5313 Q51.0156,63.7031 49.9688,64.3438 Q48.9375,64.9688 47.25,64.9688 L44.7188,64.9688 Z M46.5781,63.4688 L47.2031,63.4688 Q48.2813,63.4688 48.9375,63.0156 Q49.5938,62.5625 49.875,61.7344 Q50.1719,60.8906 50.1563,59.7656 Q50.1563,58.5938 49.9063,57.7344 Q49.6563,56.8594 49.0469,56.3906 Q48.4375,55.9063 47.3906,55.9063 L46.5781,55.9063 L46.5781,63.4688 Z \"/><text fill=\"#000000\" font-family=\"sans-serif\" font-size=\"12\" font-style=\"italic\" lengthAdjust=\"spacingAndGlyphs\" textLength=\"97\" x=\"59.5\" y=\"57.1387\">«attribute  def»</text><text fill=\"#000000\" font-family=\"sans-serif\" font-size=\"12\" lengthAdjust=\"spacingAndGlyphs\" textLength=\"8\" x=\"104\" y=\"71.1074\">A</text><line style=\"stroke: #A80036; stroke-width: 1.5;\" x1=\"33.5\" x2=\"156.5\" y1=\"78.9375\" y2=\"78.9375\"/><text fill=\"#000000\" font-family=\"sans-serif\" font-size=\"11\" lengthAdjust=\"spacingAndGlyphs\" textLength=\"51\" x=\"38.5\" y=\"109.9526\">i: Integer</text><text fill=\"#000000\" font-family=\"sans-serif\" font-size=\"11\" lengthAdjust=\"spacingAndGlyphs\" textLength=\"21\" x=\"38.5\" y=\"122.7573\">x: A</text><line style=\"stroke: #A80036; stroke-width: 1.0;\" x1=\"33.5\" x2=\"67.5\" y1=\"93.3398\" y2=\"93.3398\"/><text fill=\"#000000\" font-family=\"sans-serif\" font-size=\"11\" lengthAdjust=\"spacingAndGlyphs\" textLength=\"55\" x=\"67.5\" y=\"96.6479\">attributes</text><line style=\"stroke: #A80036; stroke-width: 1.0;\" x1=\"122.5\" x2=\"156.5\" y1=\"93.3398\" y2=\"93.3398\"/></a><!--MD5=[15ebcb19ae302d9b601edb458606d402]\n",
       "link E5 to E2--><a href=\"psysml:f465fece-be6c-4a0b-8b87-5b67ed75d8f8\" target=\"_top\" title=\"psysml:f465fece-be6c-4a0b-8b87-5b67ed75d8f8\" xlink:actuate=\"onRequest\" xlink:href=\"psysml:f465fece-be6c-4a0b-8b87-5b67ed75d8f8\" xlink:show=\"new\" xlink:title=\"psysml:f465fece-be6c-4a0b-8b87-5b67ed75d8f8\" xlink:type=\"simple\"><path d=\"M732.58,108.09 C725.21,125.4 714.78,149.87 706.08,170.26 \" fill=\"none\" id=\"E5-&gt;E2\" style=\"stroke: #A80036; stroke-width: 1.0;\"/><polygon fill=\"#FFFFFF\" points=\"698.15,188.88,699.1606,168.6568,712.0395,174.1463,698.15,188.88\" style=\"stroke: #A80036; stroke-width: 1.0;\"/><ellipse cx=\"703.2355\" cy=\"164.1975\" fill=\"#A80036\" rx=\"2\" ry=\"2\" style=\"stroke: #A80036; stroke-width: 1.0;\"/><ellipse cx=\"712.4347\" cy=\"168.1185\" fill=\"#A80036\" rx=\"2\" ry=\"2\" style=\"stroke: #A80036; stroke-width: 1.0;\"/></a><!--MD5=[2351f337d6de0f557b50152ba70847b5]\n",
       "link E6 to E2--><a href=\"psysml:72e02ffe-11ce-46be-a503-0c91c54548ee\" target=\"_top\" title=\"psysml:72e02ffe-11ce-46be-a503-0c91c54548ee\" xlink:actuate=\"onRequest\" xlink:href=\"psysml:72e02ffe-11ce-46be-a503-0c91c54548ee\" xlink:show=\"new\" xlink:title=\"psysml:72e02ffe-11ce-46be-a503-0c91c54548ee\" xlink:type=\"simple\"><path d=\"M648.24,108.09 C655.47,125.4 665.7,149.87 674.22,170.26 \" fill=\"none\" id=\"E6-&gt;E2\" style=\"stroke: #A80036; stroke-width: 1.0;\"/><polygon fill=\"#FFFFFF\" points=\"682.01,188.88,668.2245,174.049,681.1416,168.6502,682.01,188.88\" style=\"stroke: #A80036; stroke-width: 1.0;\"/><ellipse cx=\"667.8717\" cy=\"168.0186\" fill=\"#A80036\" rx=\"2\" ry=\"2\" style=\"stroke: #A80036; stroke-width: 1.0;\"/><ellipse cx=\"677.0982\" cy=\"164.1623\" fill=\"#A80036\" rx=\"2\" ry=\"2\" style=\"stroke: #A80036; stroke-width: 1.0;\"/></a><!--MD5=[4d142bf6aebd97e986bcf98e8a2daf81]\n",
       "@startuml\r\n",
       " \r\n",
       "package \"MultiplicityTest\" as E1  [[psysml:437e1e49-e6a3-4f3e-be27-b1e07120749d ]]  {\r\n",
       "comp def \"P\" as E2 << << (B,green) >> [[psysml:d60dc8a9-ee87-4177-8909-4fd780a9d8f8 ]] {\r\n",
       "}\r\n",
       "comp usage \"n: Integer \" as E3 << <<(U,orange) attribute>> [[psysml:a5340f1d-d68a-4585-8f96-7305e6f489d2 ]] {\r\n",
       "}\r\n",
       "comp usage \"a \" as E4 << << (P,limegreen) part>> [[psysml:478d9241-8f6e-4034-a71b-67b7ef5acdce ]] {\r\n",
       "}\r\n",
       "comp usage \"b: P \" as E5 << << (P,limegreen) part>> [[psysml:bc94da79-c19f-4e44-8720-527e565e90dd ]] {\r\n",
       "}\r\n",
       "comp usage \"c: P \" as E6 << << (P,limegreen) part>> [[psysml:619a7e97-bac6-4f1e-8369-8e8a5aa8da71 ]] {\r\n",
       "}\r\n",
       "comp usage \"d \" as E7 << << (P,limegreen) part>> [[psysml:baf82fce-ad86-47f7-be04-61d8ab51238a ]] {\r\n",
       "}\r\n",
       "comp usage \"e \" as E8 << << (P,limegreen) part>> [[psysml:602edda4-e9f7-4346-9e9a-bc1deb44a144 ]] {\r\n",
       "}\r\n",
       "comp usage \"f \" as E9 << << (P,limegreen) part>> [[psysml:ea99d53b-6b01-4b58-853a-79f827c6b1d7 ]] {\r\n",
       "}\r\n",
       "comp usage \"g \" as E10 << << (P,limegreen) part>> [[psysml:7f8b6820-ebe3-4bcd-8be0-e5513e7bb89f ]] {\r\n",
       "}\r\n",
       "comp def \"A\" as E11 << <<(D,brown) attribute  def>> [[psysml:b98160f9-962b-4166-b8bf-1b8817b6e181 ]] {\r\n",
       "- - attributes - -\r\n",
       "i: Integer\r\n",
       "x: A\r\n",
       "}\r\n",
       "}\r\n",
       "E5 - -:|> E2 [[psysml:f465fece-be6c-4a0b-8b87-5b67ed75d8f8 ]] \r\n",
       "E6 - -:|> E2 [[psysml:72e02ffe-11ce-46be-a503-0c91c54548ee ]] \r\n",
       "@enduml\r\n",
       "\n",
       "PlantUML version 1.2020.13(Sat Jun 13 12:26:38 UTC 2020)\n",
       "(EPL source distribution)\n",
       "Java Runtime: OpenJDK Runtime Environment\n",
       "JVM: OpenJDK 64-Bit Server VM\n",
       "Default Encoding: UTF-8\n",
       "Language: en\n",
       "Country: null\n",
       "--></g></svg>"
      ]
     },
     "execution_count": 30,
     "metadata": {},
     "output_type": "execute_result"
    }
   ],
   "source": [
    "%viz --style=\"PLANTUML\" --view=\"Default\" \"MultiplicityTest\""
   ]
  },
  {
   "cell_type": "code",
   "execution_count": 31,
   "id": "1921cf46",
   "metadata": {
    "execution": {
     "iopub.execute_input": "2022-03-03T09:58:31.009428Z",
     "iopub.status.busy": "2022-03-03T09:58:31.009004Z",
     "iopub.status.idle": "2022-03-03T09:58:31.062215Z",
     "shell.execute_reply": "2022-03-03T09:58:31.062385Z"
    }
   },
   "outputs": [
    {
     "data": {
      "image/svg+xml": [
       "<?xml version=\"1.0\" encoding=\"UTF-8\" standalone=\"no\"?><svg xmlns=\"http://www.w3.org/2000/svg\" xmlns:xlink=\"http://www.w3.org/1999/xlink\" contentScriptType=\"application/ecmascript\" contentStyleType=\"text/css\" height=\"257px\" preserveAspectRatio=\"none\" style=\"width:1049px;height:257px;\" version=\"1.1\" viewBox=\"0 0 1049 257\" width=\"1049px\" zoomAndPan=\"magnify\"><defs><filter height=\"300%\" id=\"fk78wg8av29xx\" width=\"300%\" x=\"-1\" y=\"-1\"><feGaussianBlur result=\"blurOut\" stdDeviation=\"2.0\"/><feColorMatrix in=\"blurOut\" result=\"blurOut2\" type=\"matrix\" values=\"0 0 0 0 0 0 0 0 0 0 0 0 0 0 0 0 0 0 .4 0\"/><feOffset dx=\"4.0\" dy=\"4.0\" in=\"blurOut2\" result=\"blurOut3\"/><feBlend in=\"SourceGraphic\" in2=\"blurOut3\" mode=\"normal\"/></filter></defs><g><!--MD5=[fbc87193dbaf4d95561dea2c320d4a47]\n",
       "cluster E1--><a href=\"psysml:437e1e49-e6a3-4f3e-be27-b1e07120749d\" target=\"_top\" title=\"psysml:437e1e49-e6a3-4f3e-be27-b1e07120749d\" xlink:actuate=\"onRequest\" xlink:href=\"psysml:437e1e49-e6a3-4f3e-be27-b1e07120749d\" xlink:show=\"new\" xlink:title=\"psysml:437e1e49-e6a3-4f3e-be27-b1e07120749d\" xlink:type=\"simple\"><polygon fill=\"#FFFFFF\" filter=\"url(#fk78wg8av29xx)\" points=\"16,6,123,6,130,28.2969,1027,28.2969,1027,245,16,245,16,6\" style=\"stroke: #000000; stroke-width: 1.5;\"/><line style=\"stroke: #000000; stroke-width: 1.5;\" x1=\"16\" x2=\"130\" y1=\"28.2969\" y2=\"28.2969\"/><text fill=\"#000000\" font-family=\"sans-serif\" font-size=\"14\" font-weight=\"bold\" lengthAdjust=\"spacingAndGlyphs\" textLength=\"101\" x=\"20\" y=\"20.9951\">MultiplicityTest</text></a><!--MD5=[b4997ac47864f28c2f74865a473b2911]\n",
       "class E2--><a href=\"psysml:d60dc8a9-ee87-4177-8909-4fd780a9d8f8\" target=\"_top\" title=\"psysml:d60dc8a9-ee87-4177-8909-4fd780a9d8f8\" xlink:actuate=\"onRequest\" xlink:href=\"psysml:d60dc8a9-ee87-4177-8909-4fd780a9d8f8\" xlink:show=\"new\" xlink:title=\"psysml:d60dc8a9-ee87-4177-8909-4fd780a9d8f8\" xlink:type=\"simple\"><rect fill=\"#FEFECE\" filter=\"url(#fk78wg8av29xx)\" height=\"40\" id=\"E2\" style=\"stroke: #A80036; stroke-width: 1.5;\" width=\"40\" x=\"670\" y=\"189\"/><ellipse cx=\"685\" cy=\"205\" fill=\"#008000\" rx=\"11\" ry=\"11\" style=\"stroke: #A80036; stroke-width: 1.0;\"/><path d=\"M681.875,210 L681.875,199.4063 L685.1094,199.4063 Q687.0156,199.4063 687.9219,200.1563 Q688.8438,200.9063 688.8438,202.0781 Q688.8438,202.7656 688.4531,203.4219 Q688.0781,204.0781 687.3594,204.375 Q688.2188,204.75 688.7344,205.4375 Q689.25,206.125 689.25,206.9375 Q689.25,208.3125 688.2188,209.1563 Q687.2031,210 685.0938,210 L681.875,210 Z M683.7969,203.6406 L684.9531,203.6406 Q686.0781,203.6406 686.4844,203.2656 Q686.9063,202.875 686.9063,202.25 Q686.9063,201.6719 686.4844,201.3125 Q686.0625,200.9531 685.125,200.9531 L683.7969,200.9531 L683.7969,203.6406 Z M683.7969,208.4219 L685.2969,208.4219 Q686.2031,208.4219 686.7344,208.0313 Q687.2656,207.6406 687.2656,206.8906 Q687.2656,206.125 686.7656,205.6563 Q686.2656,205.1719 685,205.1719 L683.7969,205.1719 L683.7969,208.4219 Z \"/><text fill=\"#000000\" font-family=\"sans-serif\" font-size=\"12\" lengthAdjust=\"spacingAndGlyphs\" textLength=\"8\" x=\"699\" y=\"209.1543\">P</text><line style=\"stroke: #A80036; stroke-width: 1.5;\" x1=\"671\" x2=\"709\" y1=\"221\" y2=\"221\"/></a><!--MD5=[09b614a08d8cba4a07c9adeb5e0fee81]\n",
       "class E3--><a href=\"psysml:a5340f1d-d68a-4585-8f96-7305e6f489d2\" target=\"_top\" title=\"psysml:a5340f1d-d68a-4585-8f96-7305e6f489d2\" xlink:actuate=\"onRequest\" xlink:href=\"psysml:a5340f1d-d68a-4585-8f96-7305e6f489d2\" xlink:show=\"new\" xlink:title=\"psysml:a5340f1d-d68a-4585-8f96-7305e6f489d2\" xlink:type=\"simple\"><rect fill=\"#FEFECE\" filter=\"url(#fk78wg8av29xx)\" height=\"45.9375\" id=\"E3\" rx=\"10\" ry=\"10\" style=\"stroke: #A80036; stroke-width: 1.5;\" width=\"97\" x=\"914.5\" y=\"62\"/><ellipse cx=\"929.5\" cy=\"80.9688\" fill=\"#FFA500\" rx=\"11\" ry=\"11\" style=\"stroke: #A80036; stroke-width: 1.0;\"/><path d=\"M929.25,86.4375 Q927.5,86.4375 926.5469,85.4063 Q925.6094,84.3594 925.6094,82.5156 L925.6094,75.625 L927.6719,75.625 L927.6719,75.7813 Q927.5781,75.875 927.5469,76.0156 Q927.5313,76.1406 927.5313,76.4063 L927.5313,82.5313 Q927.5313,83.625 927.9063,84.25 Q928.2813,84.875 929.2656,84.875 Q930.25,84.875 930.6406,84.25 Q931.0313,83.625 931.0313,82.4844 L931.0313,75.625 L932.9063,75.625 L932.9063,82.4688 Q932.9063,84.5 931.875,85.4688 Q930.8594,86.4375 929.25,86.4375 Z \"/><text fill=\"#000000\" font-family=\"sans-serif\" font-size=\"12\" font-style=\"italic\" lengthAdjust=\"spacingAndGlyphs\" textLength=\"69\" x=\"941.5\" y=\"78.1387\">«attribute»</text><text fill=\"#000000\" font-family=\"sans-serif\" font-size=\"12\" lengthAdjust=\"spacingAndGlyphs\" textLength=\"61\" x=\"943.5\" y=\"92.1074\">n: Integer</text><line style=\"stroke: #A80036; stroke-width: 1.5;\" x1=\"915.5\" x2=\"1010.5\" y1=\"99.9375\" y2=\"99.9375\"/></a><!--MD5=[ebbe1d658d1005bcc118a6aa81145e00]\n",
       "class E4--><a href=\"psysml:478d9241-8f6e-4034-a71b-67b7ef5acdce\" target=\"_top\" title=\"psysml:478d9241-8f6e-4034-a71b-67b7ef5acdce\" xlink:actuate=\"onRequest\" xlink:href=\"psysml:478d9241-8f6e-4034-a71b-67b7ef5acdce\" xlink:show=\"new\" xlink:title=\"psysml:478d9241-8f6e-4034-a71b-67b7ef5acdce\" xlink:type=\"simple\"><rect fill=\"#FEFECE\" filter=\"url(#fk78wg8av29xx)\" height=\"45.9375\" id=\"E4\" rx=\"10\" ry=\"10\" style=\"stroke: #A80036; stroke-width: 1.5;\" width=\"68\" x=\"811\" y=\"62\"/><ellipse cx=\"826\" cy=\"80.9688\" fill=\"#32CD32\" rx=\"11\" ry=\"11\" style=\"stroke: #A80036; stroke-width: 1.0;\"/><path d=\"M822.8125,85.9688 L822.8125,75.375 L826.4219,75.375 Q827.6406,75.375 828.4375,75.8125 Q829.2344,76.2344 829.6094,76.9375 Q830,77.6406 830,78.4844 Q830,79.3281 829.625,80.0156 Q829.2656,80.7031 828.4688,81.125 Q827.6875,81.5313 826.5,81.5313 L824.7656,81.5313 L824.7656,85.9688 L822.8125,85.9688 Z M824.7656,79.9375 L826.375,79.9375 Q827.1875,79.9375 827.6094,79.5313 Q828.0313,79.125 828.0313,78.4844 Q828.0313,77.8594 827.6094,77.4531 Q827.1875,77.0469 826.3906,77.0469 L824.7656,77.0469 L824.7656,79.9375 Z \"/><text fill=\"#000000\" font-family=\"sans-serif\" font-size=\"12\" font-style=\"italic\" lengthAdjust=\"spacingAndGlyphs\" textLength=\"40\" x=\"838\" y=\"78.1387\">«part»</text><text fill=\"#000000\" font-family=\"sans-serif\" font-size=\"12\" lengthAdjust=\"spacingAndGlyphs\" textLength=\"8\" x=\"852\" y=\"92.1074\">a</text><line style=\"stroke: #A80036; stroke-width: 1.5;\" x1=\"812\" x2=\"878\" y1=\"99.9375\" y2=\"99.9375\"/></a><!--MD5=[270fce915f116d4de14055a7c1d9a0f3]\n",
       "class E5--><a href=\"psysml:bc94da79-c19f-4e44-8720-527e565e90dd\" target=\"_top\" title=\"psysml:bc94da79-c19f-4e44-8720-527e565e90dd\" xlink:actuate=\"onRequest\" xlink:href=\"psysml:bc94da79-c19f-4e44-8720-527e565e90dd\" xlink:show=\"new\" xlink:title=\"psysml:bc94da79-c19f-4e44-8720-527e565e90dd\" xlink:type=\"simple\"><rect fill=\"#FEFECE\" filter=\"url(#fk78wg8av29xx)\" height=\"45.9375\" id=\"E5\" rx=\"10\" ry=\"10\" style=\"stroke: #A80036; stroke-width: 1.5;\" width=\"68\" x=\"708\" y=\"62\"/><ellipse cx=\"723\" cy=\"80.9688\" fill=\"#32CD32\" rx=\"11\" ry=\"11\" style=\"stroke: #A80036; stroke-width: 1.0;\"/><path d=\"M719.8125,85.9688 L719.8125,75.375 L723.4219,75.375 Q724.6406,75.375 725.4375,75.8125 Q726.2344,76.2344 726.6094,76.9375 Q727,77.6406 727,78.4844 Q727,79.3281 726.625,80.0156 Q726.2656,80.7031 725.4688,81.125 Q724.6875,81.5313 723.5,81.5313 L721.7656,81.5313 L721.7656,85.9688 L719.8125,85.9688 Z M721.7656,79.9375 L723.375,79.9375 Q724.1875,79.9375 724.6094,79.5313 Q725.0313,79.125 725.0313,78.4844 Q725.0313,77.8594 724.6094,77.4531 Q724.1875,77.0469 723.3906,77.0469 L721.7656,77.0469 L721.7656,79.9375 Z \"/><text fill=\"#000000\" font-family=\"sans-serif\" font-size=\"12\" font-style=\"italic\" lengthAdjust=\"spacingAndGlyphs\" textLength=\"40\" x=\"735\" y=\"78.1387\">«part»</text><text fill=\"#000000\" font-family=\"sans-serif\" font-size=\"12\" lengthAdjust=\"spacingAndGlyphs\" textLength=\"24\" x=\"741\" y=\"92.1074\">b: P</text><line style=\"stroke: #A80036; stroke-width: 1.5;\" x1=\"709\" x2=\"775\" y1=\"99.9375\" y2=\"99.9375\"/></a><!--MD5=[60a26617385b1d2d0262a64233df1f8d]\n",
       "class E6--><a href=\"psysml:619a7e97-bac6-4f1e-8369-8e8a5aa8da71\" target=\"_top\" title=\"psysml:619a7e97-bac6-4f1e-8369-8e8a5aa8da71\" xlink:actuate=\"onRequest\" xlink:href=\"psysml:619a7e97-bac6-4f1e-8369-8e8a5aa8da71\" xlink:show=\"new\" xlink:title=\"psysml:619a7e97-bac6-4f1e-8369-8e8a5aa8da71\" xlink:type=\"simple\"><rect fill=\"#FEFECE\" filter=\"url(#fk78wg8av29xx)\" height=\"45.9375\" id=\"E6\" rx=\"10\" ry=\"10\" style=\"stroke: #A80036; stroke-width: 1.5;\" width=\"68\" x=\"605\" y=\"62\"/><ellipse cx=\"620\" cy=\"80.9688\" fill=\"#32CD32\" rx=\"11\" ry=\"11\" style=\"stroke: #A80036; stroke-width: 1.0;\"/><path d=\"M616.8125,85.9688 L616.8125,75.375 L620.4219,75.375 Q621.6406,75.375 622.4375,75.8125 Q623.2344,76.2344 623.6094,76.9375 Q624,77.6406 624,78.4844 Q624,79.3281 623.625,80.0156 Q623.2656,80.7031 622.4688,81.125 Q621.6875,81.5313 620.5,81.5313 L618.7656,81.5313 L618.7656,85.9688 L616.8125,85.9688 Z M618.7656,79.9375 L620.375,79.9375 Q621.1875,79.9375 621.6094,79.5313 Q622.0313,79.125 622.0313,78.4844 Q622.0313,77.8594 621.6094,77.4531 Q621.1875,77.0469 620.3906,77.0469 L618.7656,77.0469 L618.7656,79.9375 Z \"/><text fill=\"#000000\" font-family=\"sans-serif\" font-size=\"12\" font-style=\"italic\" lengthAdjust=\"spacingAndGlyphs\" textLength=\"40\" x=\"632\" y=\"78.1387\">«part»</text><text fill=\"#000000\" font-family=\"sans-serif\" font-size=\"12\" lengthAdjust=\"spacingAndGlyphs\" textLength=\"23\" x=\"638.5\" y=\"92.1074\">c: P</text><line style=\"stroke: #A80036; stroke-width: 1.5;\" x1=\"606\" x2=\"672\" y1=\"99.9375\" y2=\"99.9375\"/></a><!--MD5=[2156ba9850f5573cc1fc38a6a4b2f02b]\n",
       "class E7--><a href=\"psysml:baf82fce-ad86-47f7-be04-61d8ab51238a\" target=\"_top\" title=\"psysml:baf82fce-ad86-47f7-be04-61d8ab51238a\" xlink:actuate=\"onRequest\" xlink:href=\"psysml:baf82fce-ad86-47f7-be04-61d8ab51238a\" xlink:show=\"new\" xlink:title=\"psysml:baf82fce-ad86-47f7-be04-61d8ab51238a\" xlink:type=\"simple\"><rect fill=\"#FEFECE\" filter=\"url(#fk78wg8av29xx)\" height=\"45.9375\" id=\"E7\" rx=\"10\" ry=\"10\" style=\"stroke: #A80036; stroke-width: 1.5;\" width=\"68\" x=\"502\" y=\"62\"/><ellipse cx=\"517\" cy=\"80.9688\" fill=\"#32CD32\" rx=\"11\" ry=\"11\" style=\"stroke: #A80036; stroke-width: 1.0;\"/><path d=\"M513.8125,85.9688 L513.8125,75.375 L517.4219,75.375 Q518.6406,75.375 519.4375,75.8125 Q520.2344,76.2344 520.6094,76.9375 Q521,77.6406 521,78.4844 Q521,79.3281 520.625,80.0156 Q520.2656,80.7031 519.4688,81.125 Q518.6875,81.5313 517.5,81.5313 L515.7656,81.5313 L515.7656,85.9688 L513.8125,85.9688 Z M515.7656,79.9375 L517.375,79.9375 Q518.1875,79.9375 518.6094,79.5313 Q519.0313,79.125 519.0313,78.4844 Q519.0313,77.8594 518.6094,77.4531 Q518.1875,77.0469 517.3906,77.0469 L515.7656,77.0469 L515.7656,79.9375 Z \"/><text fill=\"#000000\" font-family=\"sans-serif\" font-size=\"12\" font-style=\"italic\" lengthAdjust=\"spacingAndGlyphs\" textLength=\"40\" x=\"529\" y=\"78.1387\">«part»</text><text fill=\"#000000\" font-family=\"sans-serif\" font-size=\"12\" lengthAdjust=\"spacingAndGlyphs\" textLength=\"8\" x=\"543\" y=\"92.1074\">d</text><line style=\"stroke: #A80036; stroke-width: 1.5;\" x1=\"503\" x2=\"569\" y1=\"99.9375\" y2=\"99.9375\"/></a><!--MD5=[b9389687b975829384b498ac4b7476b2]\n",
       "class E8--><a href=\"psysml:602edda4-e9f7-4346-9e9a-bc1deb44a144\" target=\"_top\" title=\"psysml:602edda4-e9f7-4346-9e9a-bc1deb44a144\" xlink:actuate=\"onRequest\" xlink:href=\"psysml:602edda4-e9f7-4346-9e9a-bc1deb44a144\" xlink:show=\"new\" xlink:title=\"psysml:602edda4-e9f7-4346-9e9a-bc1deb44a144\" xlink:type=\"simple\"><rect fill=\"#FEFECE\" filter=\"url(#fk78wg8av29xx)\" height=\"45.9375\" id=\"E8\" rx=\"10\" ry=\"10\" style=\"stroke: #A80036; stroke-width: 1.5;\" width=\"68\" x=\"399\" y=\"62\"/><ellipse cx=\"414\" cy=\"80.9688\" fill=\"#32CD32\" rx=\"11\" ry=\"11\" style=\"stroke: #A80036; stroke-width: 1.0;\"/><path d=\"M410.8125,85.9688 L410.8125,75.375 L414.4219,75.375 Q415.6406,75.375 416.4375,75.8125 Q417.2344,76.2344 417.6094,76.9375 Q418,77.6406 418,78.4844 Q418,79.3281 417.625,80.0156 Q417.2656,80.7031 416.4688,81.125 Q415.6875,81.5313 414.5,81.5313 L412.7656,81.5313 L412.7656,85.9688 L410.8125,85.9688 Z M412.7656,79.9375 L414.375,79.9375 Q415.1875,79.9375 415.6094,79.5313 Q416.0313,79.125 416.0313,78.4844 Q416.0313,77.8594 415.6094,77.4531 Q415.1875,77.0469 414.3906,77.0469 L412.7656,77.0469 L412.7656,79.9375 Z \"/><text fill=\"#000000\" font-family=\"sans-serif\" font-size=\"12\" font-style=\"italic\" lengthAdjust=\"spacingAndGlyphs\" textLength=\"40\" x=\"426\" y=\"78.1387\">«part»</text><text fill=\"#000000\" font-family=\"sans-serif\" font-size=\"12\" lengthAdjust=\"spacingAndGlyphs\" textLength=\"8\" x=\"440\" y=\"92.1074\">e</text><line style=\"stroke: #A80036; stroke-width: 1.5;\" x1=\"400\" x2=\"466\" y1=\"99.9375\" y2=\"99.9375\"/></a><!--MD5=[fd4143e9d270a159db93a4ea2a975926]\n",
       "class E9--><a href=\"psysml:ea99d53b-6b01-4b58-853a-79f827c6b1d7\" target=\"_top\" title=\"psysml:ea99d53b-6b01-4b58-853a-79f827c6b1d7\" xlink:actuate=\"onRequest\" xlink:href=\"psysml:ea99d53b-6b01-4b58-853a-79f827c6b1d7\" xlink:show=\"new\" xlink:title=\"psysml:ea99d53b-6b01-4b58-853a-79f827c6b1d7\" xlink:type=\"simple\"><rect fill=\"#FEFECE\" filter=\"url(#fk78wg8av29xx)\" height=\"45.9375\" id=\"E9\" rx=\"10\" ry=\"10\" style=\"stroke: #A80036; stroke-width: 1.5;\" width=\"68\" x=\"296\" y=\"62\"/><ellipse cx=\"311\" cy=\"80.9688\" fill=\"#32CD32\" rx=\"11\" ry=\"11\" style=\"stroke: #A80036; stroke-width: 1.0;\"/><path d=\"M307.8125,85.9688 L307.8125,75.375 L311.4219,75.375 Q312.6406,75.375 313.4375,75.8125 Q314.2344,76.2344 314.6094,76.9375 Q315,77.6406 315,78.4844 Q315,79.3281 314.625,80.0156 Q314.2656,80.7031 313.4688,81.125 Q312.6875,81.5313 311.5,81.5313 L309.7656,81.5313 L309.7656,85.9688 L307.8125,85.9688 Z M309.7656,79.9375 L311.375,79.9375 Q312.1875,79.9375 312.6094,79.5313 Q313.0313,79.125 313.0313,78.4844 Q313.0313,77.8594 312.6094,77.4531 Q312.1875,77.0469 311.3906,77.0469 L309.7656,77.0469 L309.7656,79.9375 Z \"/><text fill=\"#000000\" font-family=\"sans-serif\" font-size=\"12\" font-style=\"italic\" lengthAdjust=\"spacingAndGlyphs\" textLength=\"40\" x=\"323\" y=\"78.1387\">«part»</text><text fill=\"#000000\" font-family=\"sans-serif\" font-size=\"12\" lengthAdjust=\"spacingAndGlyphs\" textLength=\"4\" x=\"339\" y=\"92.1074\">f</text><line style=\"stroke: #A80036; stroke-width: 1.5;\" x1=\"297\" x2=\"363\" y1=\"99.9375\" y2=\"99.9375\"/></a><!--MD5=[96f4274e9e20536e775497830990834d]\n",
       "class E10--><a href=\"psysml:7f8b6820-ebe3-4bcd-8be0-e5513e7bb89f\" target=\"_top\" title=\"psysml:7f8b6820-ebe3-4bcd-8be0-e5513e7bb89f\" xlink:actuate=\"onRequest\" xlink:href=\"psysml:7f8b6820-ebe3-4bcd-8be0-e5513e7bb89f\" xlink:show=\"new\" xlink:title=\"psysml:7f8b6820-ebe3-4bcd-8be0-e5513e7bb89f\" xlink:type=\"simple\"><rect fill=\"#FEFECE\" filter=\"url(#fk78wg8av29xx)\" height=\"45.9375\" id=\"E10\" rx=\"10\" ry=\"10\" style=\"stroke: #A80036; stroke-width: 1.5;\" width=\"68\" x=\"193\" y=\"62\"/><ellipse cx=\"208\" cy=\"80.9688\" fill=\"#32CD32\" rx=\"11\" ry=\"11\" style=\"stroke: #A80036; stroke-width: 1.0;\"/><path d=\"M204.8125,85.9688 L204.8125,75.375 L208.4219,75.375 Q209.6406,75.375 210.4375,75.8125 Q211.2344,76.2344 211.6094,76.9375 Q212,77.6406 212,78.4844 Q212,79.3281 211.625,80.0156 Q211.2656,80.7031 210.4688,81.125 Q209.6875,81.5313 208.5,81.5313 L206.7656,81.5313 L206.7656,85.9688 L204.8125,85.9688 Z M206.7656,79.9375 L208.375,79.9375 Q209.1875,79.9375 209.6094,79.5313 Q210.0313,79.125 210.0313,78.4844 Q210.0313,77.8594 209.6094,77.4531 Q209.1875,77.0469 208.3906,77.0469 L206.7656,77.0469 L206.7656,79.9375 Z \"/><text fill=\"#000000\" font-family=\"sans-serif\" font-size=\"12\" font-style=\"italic\" lengthAdjust=\"spacingAndGlyphs\" textLength=\"40\" x=\"220\" y=\"78.1387\">«part»</text><text fill=\"#000000\" font-family=\"sans-serif\" font-size=\"12\" lengthAdjust=\"spacingAndGlyphs\" textLength=\"8\" x=\"234\" y=\"92.1074\">g</text><line style=\"stroke: #A80036; stroke-width: 1.5;\" x1=\"194\" x2=\"260\" y1=\"99.9375\" y2=\"99.9375\"/></a><!--MD5=[1dd1bfd58a279cf63c5f349dbc8fc6a1]\n",
       "class E11--><a href=\"psysml:b98160f9-962b-4166-b8bf-1b8817b6e181\" target=\"_top\" title=\"psysml:b98160f9-962b-4166-b8bf-1b8817b6e181\" xlink:actuate=\"onRequest\" xlink:href=\"psysml:b98160f9-962b-4166-b8bf-1b8817b6e181\" xlink:show=\"new\" xlink:title=\"psysml:b98160f9-962b-4166-b8bf-1b8817b6e181\" xlink:type=\"simple\"><rect fill=\"#FEFECE\" filter=\"url(#fk78wg8av29xx)\" height=\"88.3516\" id=\"E11\" style=\"stroke: #A80036; stroke-width: 1.5;\" width=\"125\" x=\"32.5\" y=\"41\"/><ellipse cx=\"47.5\" cy=\"59.9688\" fill=\"#A52A2A\" rx=\"11\" ry=\"11\" style=\"stroke: #A80036; stroke-width: 1.0;\"/><path d=\"M44.7188,64.9688 L44.7188,54.375 L47.4531,54.375 Q48.8438,54.375 49.6094,54.7656 Q50.3906,55.1406 50.9219,55.8438 Q51.4531,56.5469 51.75,57.5469 Q52.0469,58.5313 52.0469,59.75 Q52,61.3438 51.5,62.5313 Q51.0156,63.7031 49.9688,64.3438 Q48.9375,64.9688 47.25,64.9688 L44.7188,64.9688 Z M46.5781,63.4688 L47.2031,63.4688 Q48.2813,63.4688 48.9375,63.0156 Q49.5938,62.5625 49.875,61.7344 Q50.1719,60.8906 50.1563,59.7656 Q50.1563,58.5938 49.9063,57.7344 Q49.6563,56.8594 49.0469,56.3906 Q48.4375,55.9063 47.3906,55.9063 L46.5781,55.9063 L46.5781,63.4688 Z \"/><text fill=\"#000000\" font-family=\"sans-serif\" font-size=\"12\" font-style=\"italic\" lengthAdjust=\"spacingAndGlyphs\" textLength=\"97\" x=\"59.5\" y=\"57.1387\">«attribute  def»</text><text fill=\"#000000\" font-family=\"sans-serif\" font-size=\"12\" lengthAdjust=\"spacingAndGlyphs\" textLength=\"8\" x=\"104\" y=\"71.1074\">A</text><line style=\"stroke: #A80036; stroke-width: 1.5;\" x1=\"33.5\" x2=\"156.5\" y1=\"78.9375\" y2=\"78.9375\"/><text fill=\"#000000\" font-family=\"sans-serif\" font-size=\"11\" lengthAdjust=\"spacingAndGlyphs\" textLength=\"51\" x=\"38.5\" y=\"109.9526\">i: Integer</text><text fill=\"#000000\" font-family=\"sans-serif\" font-size=\"11\" lengthAdjust=\"spacingAndGlyphs\" textLength=\"21\" x=\"38.5\" y=\"122.7573\">x: A</text><line style=\"stroke: #A80036; stroke-width: 1.0;\" x1=\"33.5\" x2=\"67.5\" y1=\"93.3398\" y2=\"93.3398\"/><text fill=\"#000000\" font-family=\"sans-serif\" font-size=\"11\" lengthAdjust=\"spacingAndGlyphs\" textLength=\"55\" x=\"67.5\" y=\"96.6479\">attributes</text><line style=\"stroke: #A80036; stroke-width: 1.0;\" x1=\"122.5\" x2=\"156.5\" y1=\"93.3398\" y2=\"93.3398\"/></a><!--MD5=[15ebcb19ae302d9b601edb458606d402]\n",
       "link E5 to E2--><a href=\"psysml:f465fece-be6c-4a0b-8b87-5b67ed75d8f8\" target=\"_top\" title=\"psysml:f465fece-be6c-4a0b-8b87-5b67ed75d8f8\" xlink:actuate=\"onRequest\" xlink:href=\"psysml:f465fece-be6c-4a0b-8b87-5b67ed75d8f8\" xlink:show=\"new\" xlink:title=\"psysml:f465fece-be6c-4a0b-8b87-5b67ed75d8f8\" xlink:type=\"simple\"><path d=\"M732.58,108.09 C725.21,125.4 714.78,149.87 706.08,170.26 \" fill=\"none\" id=\"E5-&gt;E2\" style=\"stroke: #A80036; stroke-width: 1.0;\"/><polygon fill=\"#FFFFFF\" points=\"698.15,188.88,699.1606,168.6568,712.0395,174.1463,698.15,188.88\" style=\"stroke: #A80036; stroke-width: 1.0;\"/><ellipse cx=\"703.2355\" cy=\"164.1975\" fill=\"#A80036\" rx=\"2\" ry=\"2\" style=\"stroke: #A80036; stroke-width: 1.0;\"/><ellipse cx=\"712.4347\" cy=\"168.1185\" fill=\"#A80036\" rx=\"2\" ry=\"2\" style=\"stroke: #A80036; stroke-width: 1.0;\"/></a><!--MD5=[2351f337d6de0f557b50152ba70847b5]\n",
       "link E6 to E2--><a href=\"psysml:72e02ffe-11ce-46be-a503-0c91c54548ee\" target=\"_top\" title=\"psysml:72e02ffe-11ce-46be-a503-0c91c54548ee\" xlink:actuate=\"onRequest\" xlink:href=\"psysml:72e02ffe-11ce-46be-a503-0c91c54548ee\" xlink:show=\"new\" xlink:title=\"psysml:72e02ffe-11ce-46be-a503-0c91c54548ee\" xlink:type=\"simple\"><path d=\"M648.24,108.09 C655.47,125.4 665.7,149.87 674.22,170.26 \" fill=\"none\" id=\"E6-&gt;E2\" style=\"stroke: #A80036; stroke-width: 1.0;\"/><polygon fill=\"#FFFFFF\" points=\"682.01,188.88,668.2245,174.049,681.1416,168.6502,682.01,188.88\" style=\"stroke: #A80036; stroke-width: 1.0;\"/><ellipse cx=\"667.8717\" cy=\"168.0186\" fill=\"#A80036\" rx=\"2\" ry=\"2\" style=\"stroke: #A80036; stroke-width: 1.0;\"/><ellipse cx=\"677.0982\" cy=\"164.1623\" fill=\"#A80036\" rx=\"2\" ry=\"2\" style=\"stroke: #A80036; stroke-width: 1.0;\"/></a><!--MD5=[4d142bf6aebd97e986bcf98e8a2daf81]\n",
       "@startuml\r\n",
       " \r\n",
       "package \"MultiplicityTest\" as E1  [[psysml:437e1e49-e6a3-4f3e-be27-b1e07120749d ]]  {\r\n",
       "comp def \"P\" as E2 << << (B,green) >> [[psysml:d60dc8a9-ee87-4177-8909-4fd780a9d8f8 ]] {\r\n",
       "}\r\n",
       "comp usage \"n: Integer \" as E3 << <<(U,orange) attribute>> [[psysml:a5340f1d-d68a-4585-8f96-7305e6f489d2 ]] {\r\n",
       "}\r\n",
       "comp usage \"a \" as E4 << << (P,limegreen) part>> [[psysml:478d9241-8f6e-4034-a71b-67b7ef5acdce ]] {\r\n",
       "}\r\n",
       "comp usage \"b: P \" as E5 << << (P,limegreen) part>> [[psysml:bc94da79-c19f-4e44-8720-527e565e90dd ]] {\r\n",
       "}\r\n",
       "comp usage \"c: P \" as E6 << << (P,limegreen) part>> [[psysml:619a7e97-bac6-4f1e-8369-8e8a5aa8da71 ]] {\r\n",
       "}\r\n",
       "comp usage \"d \" as E7 << << (P,limegreen) part>> [[psysml:baf82fce-ad86-47f7-be04-61d8ab51238a ]] {\r\n",
       "}\r\n",
       "comp usage \"e \" as E8 << << (P,limegreen) part>> [[psysml:602edda4-e9f7-4346-9e9a-bc1deb44a144 ]] {\r\n",
       "}\r\n",
       "comp usage \"f \" as E9 << << (P,limegreen) part>> [[psysml:ea99d53b-6b01-4b58-853a-79f827c6b1d7 ]] {\r\n",
       "}\r\n",
       "comp usage \"g \" as E10 << << (P,limegreen) part>> [[psysml:7f8b6820-ebe3-4bcd-8be0-e5513e7bb89f ]] {\r\n",
       "}\r\n",
       "comp def \"A\" as E11 << <<(D,brown) attribute  def>> [[psysml:b98160f9-962b-4166-b8bf-1b8817b6e181 ]] {\r\n",
       "- - attributes - -\r\n",
       "i: Integer\r\n",
       "x: A\r\n",
       "}\r\n",
       "}\r\n",
       "E5 - -:|> E2 [[psysml:f465fece-be6c-4a0b-8b87-5b67ed75d8f8 ]] \r\n",
       "E6 - -:|> E2 [[psysml:72e02ffe-11ce-46be-a503-0c91c54548ee ]] \r\n",
       "@enduml\r\n",
       "\n",
       "PlantUML version 1.2020.13(Sat Jun 13 12:26:38 UTC 2020)\n",
       "(EPL source distribution)\n",
       "Java Runtime: OpenJDK Runtime Environment\n",
       "JVM: OpenJDK 64-Bit Server VM\n",
       "Default Encoding: UTF-8\n",
       "Language: en\n",
       "Country: null\n",
       "--></g></svg>"
      ]
     },
     "execution_count": 31,
     "metadata": {},
     "output_type": "execute_result"
    }
   ],
   "source": [
    "%viz --style=\"PLANTUML\" --view=\"Tree\" \"MultiplicityTest\""
   ]
  },
  {
   "cell_type": "code",
   "execution_count": 32,
   "id": "ae70a6c6",
   "metadata": {
    "execution": {
     "iopub.execute_input": "2022-03-03T09:58:31.112832Z",
     "iopub.status.busy": "2022-03-03T09:58:31.112428Z",
     "iopub.status.idle": "2022-03-03T09:58:31.208780Z",
     "shell.execute_reply": "2022-03-03T09:58:31.208408Z"
    }
   },
   "outputs": [
    {
     "data": {
      "image/svg+xml": [
       "<?xml version=\"1.0\" encoding=\"UTF-8\" standalone=\"no\"?><svg xmlns=\"http://www.w3.org/2000/svg\" xmlns:xlink=\"http://www.w3.org/1999/xlink\" contentScriptType=\"application/ecmascript\" contentStyleType=\"text/css\" height=\"300px\" preserveAspectRatio=\"none\" style=\"width:603px;height:300px;background:#000000;\" version=\"1.1\" viewBox=\"0 0 603 300\" width=\"603px\" zoomAndPan=\"magnify\"><defs/><g><rect fill=\"#1F190B\" height=\"1\" style=\"stroke: #1F190B; stroke-width: 1.0;\" width=\"1\" x=\"0\" y=\"0\"/><rect fill=\"#FFFFFF\" height=\"202.8012\" style=\"stroke: #FFFFFF; stroke-width: 1.0;\" width=\"602\" x=\"0\" y=\"0\"/><text fill=\"#000000\" font-family=\"sans-serif\" font-size=\"12\" font-weight=\"bold\" lengthAdjust=\"spacingAndGlyphs\" textLength=\"139\" x=\"5\" y=\"16.1387\">Welcome to PlantUML!</text><text fill=\"#000000\" font-family=\"sans-serif\" font-size=\"12\" lengthAdjust=\"spacingAndGlyphs\" textLength=\"0\" x=\"9\" y=\"30.1074\"/><text fill=\"#000000\" font-family=\"sans-serif\" font-size=\"12\" lengthAdjust=\"spacingAndGlyphs\" textLength=\"293\" x=\"5\" y=\"44.0762\">If you use this software, you accept its license.</text><text fill=\"#000000\" font-family=\"sans-serif\" font-size=\"12\" lengthAdjust=\"spacingAndGlyphs\" textLength=\"107\" x=\"5\" y=\"58.0449\">(details by typing</text><text fill=\"#000000\" font-family=\"monospace\" font-size=\"12\" lengthAdjust=\"spacingAndGlyphs\" textLength=\"42\" x=\"116\" y=\"58.595\">license</text><text fill=\"#000000\" font-family=\"sans-serif\" font-size=\"12\" lengthAdjust=\"spacingAndGlyphs\" textLength=\"56\" x=\"162\" y=\"58.0449\">keyword)</text><text fill=\"#000000\" font-family=\"sans-serif\" font-size=\"12\" lengthAdjust=\"spacingAndGlyphs\" textLength=\"0\" x=\"9\" y=\"72.0137\"/><text fill=\"#000000\" font-family=\"sans-serif\" font-size=\"12\" lengthAdjust=\"spacingAndGlyphs\" textLength=\"283\" x=\"5\" y=\"85.9824\">You can start with a simple UML Diagram like:</text><text fill=\"#000000\" font-family=\"sans-serif\" font-size=\"12\" lengthAdjust=\"spacingAndGlyphs\" textLength=\"0\" x=\"9\" y=\"99.9512\"/><text fill=\"#000000\" font-family=\"monospace\" font-size=\"12\" lengthAdjust=\"spacingAndGlyphs\" textLength=\"102\" x=\"5\" y=\"113.0893\">Bob-&gt;Alice: Hello</text><text fill=\"#000000\" font-family=\"sans-serif\" font-size=\"12\" lengthAdjust=\"spacingAndGlyphs\" textLength=\"0\" x=\"9\" y=\"126.508\"/><text fill=\"#000000\" font-family=\"sans-serif\" font-size=\"12\" lengthAdjust=\"spacingAndGlyphs\" textLength=\"14\" x=\"5\" y=\"140.4768\">Or</text><text fill=\"#000000\" font-family=\"sans-serif\" font-size=\"12\" lengthAdjust=\"spacingAndGlyphs\" textLength=\"0\" x=\"9\" y=\"154.4455\"/><text fill=\"#000000\" font-family=\"monospace\" font-size=\"12\" lengthAdjust=\"spacingAndGlyphs\" textLength=\"78\" x=\"5\" y=\"167.5837\">class Example</text><text fill=\"#000000\" font-family=\"sans-serif\" font-size=\"12\" lengthAdjust=\"spacingAndGlyphs\" textLength=\"0\" x=\"9\" y=\"181.0023\"/><text fill=\"#000000\" font-family=\"sans-serif\" font-size=\"12\" lengthAdjust=\"spacingAndGlyphs\" textLength=\"349\" x=\"5\" y=\"194.9711\">You will find more information about PlantUML syntax on</text><text fill=\"#000000\" font-family=\"sans-serif\" font-size=\"12\" lengthAdjust=\"spacingAndGlyphs\" text-decoration=\"underline\" textLength=\"129\" x=\"358\" y=\"194.9711\">https://plantuml.com</text><image height=\"71\" width=\"80\" x=\"516\" xlink:href=\"data:image/png;base64,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\" y=\"6\"/><rect fill=\"#000000\" height=\"96.4844\" style=\"stroke: #000000; stroke-width: 1.0;\" width=\"602\" x=\"0\" y=\"202.8012\"/><rect fill=\"#33FF02\" height=\"21.2969\" style=\"stroke: #33FF02; stroke-width: 1.0;\" width=\"145\" x=\"5\" y=\"207.8012\"/><text fill=\"#000000\" font-family=\"sans-serif\" font-size=\"14\" font-weight=\"bold\" lengthAdjust=\"spacingAndGlyphs\" textLength=\"143\" x=\"6\" y=\"222.8012\">[From string (line 2) ]</text><text fill=\"#33FF02\" font-family=\"sans-serif\" font-size=\"14\" font-weight=\"bold\" lengthAdjust=\"spacingAndGlyphs\" textLength=\"0\" x=\"9\" y=\"243.0981\"/><text fill=\"#33FF02\" font-family=\"sans-serif\" font-size=\"14\" font-weight=\"bold\" lengthAdjust=\"spacingAndGlyphs\" textLength=\"70\" x=\"5\" y=\"259.3949\">@startuml</text><text fill=\"#33FF02\" font-family=\"sans-serif\" font-size=\"14\" font-weight=\"bold\" lengthAdjust=\"spacingAndGlyphs\" textLength=\"0\" x=\"9\" y=\"275.6918\"/><text fill=\"#FF0000\" font-family=\"sans-serif\" font-size=\"14\" font-weight=\"bold\" lengthAdjust=\"spacingAndGlyphs\" textLength=\"124\" x=\"9\" y=\"291.9887\">Empty description</text><!--MD5=[f59edd8218d337f74d0c332fc6737304]\n",
       "@startuml\r\n",
       " \r\n",
       "@enduml\r\n",
       "\n",
       "PlantUML version 1.2020.13(Sat Jun 13 12:26:38 UTC 2020)\n",
       "(EPL source distribution)\n",
       "Java Runtime: OpenJDK Runtime Environment\n",
       "JVM: OpenJDK 64-Bit Server VM\n",
       "Default Encoding: UTF-8\n",
       "Language: en\n",
       "Country: null\n",
       "--></g></svg>"
      ]
     },
     "execution_count": 32,
     "metadata": {},
     "output_type": "execute_result"
    }
   ],
   "source": [
    "%viz --style=\"PLANTUML\" --view=\"State\" \"MultiplicityTest\""
   ]
  },
  {
   "cell_type": "code",
   "execution_count": 33,
   "id": "a9e18e3e",
   "metadata": {
    "execution": {
     "iopub.execute_input": "2022-03-03T09:58:31.258446Z",
     "iopub.status.busy": "2022-03-03T09:58:31.258023Z",
     "iopub.status.idle": "2022-03-03T09:58:31.288344Z",
     "shell.execute_reply": "2022-03-03T09:58:31.288000Z"
    }
   },
   "outputs": [
    {
     "data": {
      "image/svg+xml": [
       "<?xml version=\"1.0\" encoding=\"UTF-8\" standalone=\"no\"?><svg xmlns=\"http://www.w3.org/2000/svg\" xmlns:xlink=\"http://www.w3.org/1999/xlink\" contentScriptType=\"application/ecmascript\" contentStyleType=\"text/css\" height=\"115px\" preserveAspectRatio=\"none\" style=\"width:1034px;height:115px;\" version=\"1.1\" viewBox=\"0 0 1034 115\" width=\"1034px\" zoomAndPan=\"magnify\"><defs><filter height=\"300%\" id=\"f148mhxkcbaxeh\" width=\"300%\" x=\"-1\" y=\"-1\"><feGaussianBlur result=\"blurOut\" stdDeviation=\"2.0\"/><feColorMatrix in=\"blurOut\" result=\"blurOut2\" type=\"matrix\" values=\"0 0 0 0 0 0 0 0 0 0 0 0 0 0 0 0 0 0 .4 0\"/><feOffset dx=\"4.0\" dy=\"4.0\" in=\"blurOut2\" result=\"blurOut3\"/><feBlend in=\"SourceGraphic\" in2=\"blurOut3\" mode=\"normal\"/></filter></defs><g><!--MD5=[fbc87193dbaf4d95561dea2c320d4a47]\n",
       "cluster E1--><a href=\"psysml:437e1e49-e6a3-4f3e-be27-b1e07120749d\" target=\"_top\" title=\"psysml:437e1e49-e6a3-4f3e-be27-b1e07120749d\" xlink:actuate=\"onRequest\" xlink:href=\"psysml:437e1e49-e6a3-4f3e-be27-b1e07120749d\" xlink:show=\"new\" xlink:title=\"psysml:437e1e49-e6a3-4f3e-be27-b1e07120749d\" xlink:type=\"simple\"><polygon fill=\"#FFFFFF\" filter=\"url(#f148mhxkcbaxeh)\" points=\"16,6,123,6,130,28.2969,1012,28.2969,1012,103,16,103,16,6\" style=\"stroke: #000000; stroke-width: 1.5;\"/><line style=\"stroke: #000000; stroke-width: 1.5;\" x1=\"16\" x2=\"130\" y1=\"28.2969\" y2=\"28.2969\"/><text fill=\"#000000\" font-family=\"sans-serif\" font-size=\"14\" font-weight=\"bold\" lengthAdjust=\"spacingAndGlyphs\" textLength=\"101\" x=\"20\" y=\"20.9951\">MultiplicityTest</text></a><!--MD5=[09b614a08d8cba4a07c9adeb5e0fee81]\n",
       "class E3--><a href=\"psysml:a5340f1d-d68a-4585-8f96-7305e6f489d2\" target=\"_top\" title=\"psysml:a5340f1d-d68a-4585-8f96-7305e6f489d2\" xlink:actuate=\"onRequest\" xlink:href=\"psysml:a5340f1d-d68a-4585-8f96-7305e6f489d2\" xlink:show=\"new\" xlink:title=\"psysml:a5340f1d-d68a-4585-8f96-7305e6f489d2\" xlink:type=\"simple\"><rect fill=\"#FEFECE\" filter=\"url(#f148mhxkcbaxeh)\" height=\"45.9375\" id=\"E3\" rx=\"10\" ry=\"10\" style=\"stroke: #A80036; stroke-width: 1.5;\" width=\"97\" x=\"899.5\" y=\"41\"/><ellipse cx=\"914.5\" cy=\"59.9688\" fill=\"#FFA500\" rx=\"11\" ry=\"11\" style=\"stroke: #A80036; stroke-width: 1.0;\"/><path d=\"M914.25,65.4375 Q912.5,65.4375 911.5469,64.4063 Q910.6094,63.3594 910.6094,61.5156 L910.6094,54.625 L912.6719,54.625 L912.6719,54.7813 Q912.5781,54.875 912.5469,55.0156 Q912.5313,55.1406 912.5313,55.4063 L912.5313,61.5313 Q912.5313,62.625 912.9063,63.25 Q913.2813,63.875 914.2656,63.875 Q915.25,63.875 915.6406,63.25 Q916.0313,62.625 916.0313,61.4844 L916.0313,54.625 L917.9063,54.625 L917.9063,61.4688 Q917.9063,63.5 916.875,64.4688 Q915.8594,65.4375 914.25,65.4375 Z \"/><text fill=\"#000000\" font-family=\"sans-serif\" font-size=\"12\" font-style=\"italic\" lengthAdjust=\"spacingAndGlyphs\" textLength=\"69\" x=\"926.5\" y=\"57.1387\">«attribute»</text><text fill=\"#000000\" font-family=\"sans-serif\" font-size=\"12\" lengthAdjust=\"spacingAndGlyphs\" textLength=\"61\" x=\"928.5\" y=\"71.1074\">n: Integer</text><line style=\"stroke: #A80036; stroke-width: 1.5;\" x1=\"900.5\" x2=\"995.5\" y1=\"78.9375\" y2=\"78.9375\"/></a><g id=\"E1.E11\"><a href=\"psysml:b98160f9-962b-4166-b8bf-1b8817b6e181\" target=\"_top\" title=\"psysml:b98160f9-962b-4166-b8bf-1b8817b6e181\" xlink:actuate=\"onRequest\" xlink:href=\"psysml:b98160f9-962b-4166-b8bf-1b8817b6e181\" xlink:show=\"new\" xlink:title=\"psysml:b98160f9-962b-4166-b8bf-1b8817b6e181\" xlink:type=\"simple\"><rect fill=\"#FEFECE\" filter=\"url(#f148mhxkcbaxeh)\" height=\"42.9375\" id=\"E11\" style=\"stroke: #A80036; stroke-width: 1.5;\" width=\"130\" x=\"734\" y=\"42.5\"/><ellipse cx=\"751.25\" cy=\"61.4688\" fill=\"#A52A2A\" rx=\"11\" ry=\"11\" style=\"stroke: #A80036; stroke-width: 1.0;\"/><path d=\"M748.4688,66.4688 L748.4688,55.875 L751.2031,55.875 Q752.5938,55.875 753.3594,56.2656 Q754.1406,56.6406 754.6719,57.3438 Q755.2031,58.0469 755.5,59.0469 Q755.7969,60.0313 755.7969,61.25 Q755.75,62.8438 755.25,64.0313 Q754.7656,65.2031 753.7188,65.8438 Q752.6875,66.4688 751,66.4688 L748.4688,66.4688 Z M750.3281,64.9688 L750.9531,64.9688 Q752.0313,64.9688 752.6875,64.5156 Q753.3438,64.0625 753.625,63.2344 Q753.9219,62.3906 753.9063,61.2656 Q753.9063,60.0938 753.6563,59.2344 Q753.4063,58.3594 752.7969,57.8906 Q752.1875,57.4063 751.1406,57.4063 L750.3281,57.4063 L750.3281,64.9688 Z \"/><text fill=\"#000000\" font-family=\"sans-serif\" font-size=\"12\" font-style=\"italic\" lengthAdjust=\"spacingAndGlyphs\" textLength=\"97\" x=\"763.75\" y=\"58.6387\">«attribute  def»</text><text fill=\"#000000\" font-family=\"sans-serif\" font-size=\"12\" lengthAdjust=\"spacingAndGlyphs\" textLength=\"8\" x=\"808.25\" y=\"72.6074\">A</text></a></g><g id=\"E1.E2\"><a href=\"psysml:d60dc8a9-ee87-4177-8909-4fd780a9d8f8\" target=\"_top\" title=\"psysml:d60dc8a9-ee87-4177-8909-4fd780a9d8f8\" xlink:actuate=\"onRequest\" xlink:href=\"psysml:d60dc8a9-ee87-4177-8909-4fd780a9d8f8\" xlink:show=\"new\" xlink:title=\"psysml:d60dc8a9-ee87-4177-8909-4fd780a9d8f8\" xlink:type=\"simple\"><rect fill=\"#FEFECE\" filter=\"url(#f148mhxkcbaxeh)\" height=\"40\" id=\"E2\" style=\"stroke: #A80036; stroke-width: 1.5;\" width=\"50\" x=\"649\" y=\"44\"/><ellipse cx=\"668.5\" cy=\"60\" fill=\"#008000\" rx=\"11\" ry=\"11\" style=\"stroke: #A80036; stroke-width: 1.0;\"/><path d=\"M665.375,65 L665.375,54.4063 L668.6094,54.4063 Q670.5156,54.4063 671.4219,55.1563 Q672.3438,55.9063 672.3438,57.0781 Q672.3438,57.7656 671.9531,58.4219 Q671.5781,59.0781 670.8594,59.375 Q671.7188,59.75 672.2344,60.4375 Q672.75,61.125 672.75,61.9375 Q672.75,63.3125 671.7188,64.1563 Q670.7031,65 668.5938,65 L665.375,65 Z M667.2969,58.6406 L668.4531,58.6406 Q669.5781,58.6406 669.9844,58.2656 Q670.4063,57.875 670.4063,57.25 Q670.4063,56.6719 669.9844,56.3125 Q669.5625,55.9531 668.625,55.9531 L667.2969,55.9531 L667.2969,58.6406 Z M667.2969,63.4219 L668.7969,63.4219 Q669.7031,63.4219 670.2344,63.0313 Q670.7656,62.6406 670.7656,61.8906 Q670.7656,61.125 670.2656,60.6563 Q669.7656,60.1719 668.5,60.1719 L667.2969,60.1719 L667.2969,63.4219 Z \"/><text fill=\"#000000\" font-family=\"sans-serif\" font-size=\"12\" lengthAdjust=\"spacingAndGlyphs\" textLength=\"8\" x=\"683.5\" y=\"64.1543\">P</text></a></g><g id=\"E1.E4\"><a href=\"psysml:478d9241-8f6e-4034-a71b-67b7ef5acdce\" target=\"_top\" title=\"psysml:478d9241-8f6e-4034-a71b-67b7ef5acdce\" xlink:actuate=\"onRequest\" xlink:href=\"psysml:478d9241-8f6e-4034-a71b-67b7ef5acdce\" xlink:show=\"new\" xlink:title=\"psysml:478d9241-8f6e-4034-a71b-67b7ef5acdce\" xlink:type=\"simple\"><rect fill=\"#FEFECE\" filter=\"url(#f148mhxkcbaxeh)\" height=\"40\" id=\"E4\" rx=\"10\" ry=\"10\" style=\"stroke: #A80036; stroke-width: 1.5;\" width=\"50\" x=\"564\" y=\"44\"/><ellipse cx=\"583.5\" cy=\"60\" fill=\"#B6DBBB\" rx=\"11\" ry=\"11\" style=\"stroke: #A80036; stroke-width: 1.0;\"/><path d=\"M583.25,65.4688 Q581.5,65.4688 580.5469,64.4375 Q579.6094,63.3906 579.6094,61.5469 L579.6094,54.6563 L581.6719,54.6563 L581.6719,54.8125 Q581.5781,54.9063 581.5469,55.0469 Q581.5313,55.1719 581.5313,55.4375 L581.5313,61.5625 Q581.5313,62.6563 581.9063,63.2813 Q582.2813,63.9063 583.2656,63.9063 Q584.25,63.9063 584.6406,63.2813 Q585.0313,62.6563 585.0313,61.5156 L585.0313,54.6563 L586.9063,54.6563 L586.9063,61.5 Q586.9063,63.5313 585.875,64.5 Q584.8594,65.4688 583.25,65.4688 Z \"/><text fill=\"#000000\" font-family=\"sans-serif\" font-size=\"12\" lengthAdjust=\"spacingAndGlyphs\" textLength=\"8\" x=\"598.5\" y=\"64.1543\">a</text></a></g><g id=\"E1.E5\"><a href=\"psysml:bc94da79-c19f-4e44-8720-527e565e90dd\" target=\"_top\" title=\"psysml:bc94da79-c19f-4e44-8720-527e565e90dd\" xlink:actuate=\"onRequest\" xlink:href=\"psysml:bc94da79-c19f-4e44-8720-527e565e90dd\" xlink:show=\"new\" xlink:title=\"psysml:bc94da79-c19f-4e44-8720-527e565e90dd\" xlink:type=\"simple\"><rect fill=\"#FEFECE\" filter=\"url(#f148mhxkcbaxeh)\" height=\"40\" id=\"E5\" rx=\"10\" ry=\"10\" style=\"stroke: #A80036; stroke-width: 1.5;\" width=\"61\" x=\"467.5\" y=\"44\"/><ellipse cx=\"484.75\" cy=\"60\" fill=\"#B6DBBB\" rx=\"11\" ry=\"11\" style=\"stroke: #A80036; stroke-width: 1.0;\"/><path d=\"M484.5,65.4688 Q482.75,65.4688 481.7969,64.4375 Q480.8594,63.3906 480.8594,61.5469 L480.8594,54.6563 L482.9219,54.6563 L482.9219,54.8125 Q482.8281,54.9063 482.7969,55.0469 Q482.7813,55.1719 482.7813,55.4375 L482.7813,61.5625 Q482.7813,62.6563 483.1563,63.2813 Q483.5313,63.9063 484.5156,63.9063 Q485.5,63.9063 485.8906,63.2813 Q486.2813,62.6563 486.2813,61.5156 L486.2813,54.6563 L488.1563,54.6563 L488.1563,61.5 Q488.1563,63.5313 487.125,64.5 Q486.1094,65.4688 484.5,65.4688 Z \"/><text fill=\"#000000\" font-family=\"sans-serif\" font-size=\"12\" lengthAdjust=\"spacingAndGlyphs\" textLength=\"24\" x=\"499.25\" y=\"64.1543\">b: P</text></a></g><g id=\"E1.E6\"><a href=\"psysml:619a7e97-bac6-4f1e-8369-8e8a5aa8da71\" target=\"_top\" title=\"psysml:619a7e97-bac6-4f1e-8369-8e8a5aa8da71\" xlink:actuate=\"onRequest\" xlink:href=\"psysml:619a7e97-bac6-4f1e-8369-8e8a5aa8da71\" xlink:show=\"new\" xlink:title=\"psysml:619a7e97-bac6-4f1e-8369-8e8a5aa8da71\" xlink:type=\"simple\"><rect fill=\"#FEFECE\" filter=\"url(#f148mhxkcbaxeh)\" height=\"40\" id=\"E6\" rx=\"10\" ry=\"10\" style=\"stroke: #A80036; stroke-width: 1.5;\" width=\"60\" x=\"372\" y=\"44\"/><ellipse cx=\"389.25\" cy=\"60\" fill=\"#B6DBBB\" rx=\"11\" ry=\"11\" style=\"stroke: #A80036; stroke-width: 1.0;\"/><path d=\"M389,65.4688 Q387.25,65.4688 386.2969,64.4375 Q385.3594,63.3906 385.3594,61.5469 L385.3594,54.6563 L387.4219,54.6563 L387.4219,54.8125 Q387.3281,54.9063 387.2969,55.0469 Q387.2813,55.1719 387.2813,55.4375 L387.2813,61.5625 Q387.2813,62.6563 387.6563,63.2813 Q388.0313,63.9063 389.0156,63.9063 Q390,63.9063 390.3906,63.2813 Q390.7813,62.6563 390.7813,61.5156 L390.7813,54.6563 L392.6563,54.6563 L392.6563,61.5 Q392.6563,63.5313 391.625,64.5 Q390.6094,65.4688 389,65.4688 Z \"/><text fill=\"#000000\" font-family=\"sans-serif\" font-size=\"12\" lengthAdjust=\"spacingAndGlyphs\" textLength=\"23\" x=\"403.75\" y=\"64.1543\">c: P</text></a></g><g id=\"E1.E7\"><a href=\"psysml:baf82fce-ad86-47f7-be04-61d8ab51238a\" target=\"_top\" title=\"psysml:baf82fce-ad86-47f7-be04-61d8ab51238a\" xlink:actuate=\"onRequest\" xlink:href=\"psysml:baf82fce-ad86-47f7-be04-61d8ab51238a\" xlink:show=\"new\" xlink:title=\"psysml:baf82fce-ad86-47f7-be04-61d8ab51238a\" xlink:type=\"simple\"><rect fill=\"#FEFECE\" filter=\"url(#f148mhxkcbaxeh)\" height=\"40\" id=\"E7\" rx=\"10\" ry=\"10\" style=\"stroke: #A80036; stroke-width: 1.5;\" width=\"50\" x=\"287\" y=\"44\"/><ellipse cx=\"306.5\" cy=\"60\" fill=\"#B6DBBB\" rx=\"11\" ry=\"11\" style=\"stroke: #A80036; stroke-width: 1.0;\"/><path d=\"M306.25,65.4688 Q304.5,65.4688 303.5469,64.4375 Q302.6094,63.3906 302.6094,61.5469 L302.6094,54.6563 L304.6719,54.6563 L304.6719,54.8125 Q304.5781,54.9063 304.5469,55.0469 Q304.5313,55.1719 304.5313,55.4375 L304.5313,61.5625 Q304.5313,62.6563 304.9063,63.2813 Q305.2813,63.9063 306.2656,63.9063 Q307.25,63.9063 307.6406,63.2813 Q308.0313,62.6563 308.0313,61.5156 L308.0313,54.6563 L309.9063,54.6563 L309.9063,61.5 Q309.9063,63.5313 308.875,64.5 Q307.8594,65.4688 306.25,65.4688 Z \"/><text fill=\"#000000\" font-family=\"sans-serif\" font-size=\"12\" lengthAdjust=\"spacingAndGlyphs\" textLength=\"8\" x=\"321.5\" y=\"64.1543\">d</text></a></g><g id=\"E1.E8\"><a href=\"psysml:602edda4-e9f7-4346-9e9a-bc1deb44a144\" target=\"_top\" title=\"psysml:602edda4-e9f7-4346-9e9a-bc1deb44a144\" xlink:actuate=\"onRequest\" xlink:href=\"psysml:602edda4-e9f7-4346-9e9a-bc1deb44a144\" xlink:show=\"new\" xlink:title=\"psysml:602edda4-e9f7-4346-9e9a-bc1deb44a144\" xlink:type=\"simple\"><rect fill=\"#FEFECE\" filter=\"url(#f148mhxkcbaxeh)\" height=\"40\" id=\"E8\" rx=\"10\" ry=\"10\" style=\"stroke: #A80036; stroke-width: 1.5;\" width=\"50\" x=\"202\" y=\"44\"/><ellipse cx=\"221.5\" cy=\"60\" fill=\"#B6DBBB\" rx=\"11\" ry=\"11\" style=\"stroke: #A80036; stroke-width: 1.0;\"/><path d=\"M221.25,65.4688 Q219.5,65.4688 218.5469,64.4375 Q217.6094,63.3906 217.6094,61.5469 L217.6094,54.6563 L219.6719,54.6563 L219.6719,54.8125 Q219.5781,54.9063 219.5469,55.0469 Q219.5313,55.1719 219.5313,55.4375 L219.5313,61.5625 Q219.5313,62.6563 219.9063,63.2813 Q220.2813,63.9063 221.2656,63.9063 Q222.25,63.9063 222.6406,63.2813 Q223.0313,62.6563 223.0313,61.5156 L223.0313,54.6563 L224.9063,54.6563 L224.9063,61.5 Q224.9063,63.5313 223.875,64.5 Q222.8594,65.4688 221.25,65.4688 Z \"/><text fill=\"#000000\" font-family=\"sans-serif\" font-size=\"12\" lengthAdjust=\"spacingAndGlyphs\" textLength=\"8\" x=\"236.5\" y=\"64.1543\">e</text></a></g><g id=\"E1.E9\"><a href=\"psysml:ea99d53b-6b01-4b58-853a-79f827c6b1d7\" target=\"_top\" title=\"psysml:ea99d53b-6b01-4b58-853a-79f827c6b1d7\" xlink:actuate=\"onRequest\" xlink:href=\"psysml:ea99d53b-6b01-4b58-853a-79f827c6b1d7\" xlink:show=\"new\" xlink:title=\"psysml:ea99d53b-6b01-4b58-853a-79f827c6b1d7\" xlink:type=\"simple\"><rect fill=\"#FEFECE\" filter=\"url(#f148mhxkcbaxeh)\" height=\"40\" id=\"E9\" rx=\"10\" ry=\"10\" style=\"stroke: #A80036; stroke-width: 1.5;\" width=\"50\" x=\"117\" y=\"44\"/><ellipse cx=\"138.3\" cy=\"60\" fill=\"#B6DBBB\" rx=\"11\" ry=\"11\" style=\"stroke: #A80036; stroke-width: 1.0;\"/><path d=\"M138.05,65.4688 Q136.3,65.4688 135.3469,64.4375 Q134.4094,63.3906 134.4094,61.5469 L134.4094,54.6563 L136.4719,54.6563 L136.4719,54.8125 Q136.3781,54.9063 136.3469,55.0469 Q136.3313,55.1719 136.3313,55.4375 L136.3313,61.5625 Q136.3313,62.6563 136.7063,63.2813 Q137.0813,63.9063 138.0656,63.9063 Q139.05,63.9063 139.4406,63.2813 Q139.8313,62.6563 139.8313,61.5156 L139.8313,54.6563 L141.7063,54.6563 L141.7063,61.5 Q141.7063,63.5313 140.675,64.5 Q139.6594,65.4688 138.05,65.4688 Z \"/><text fill=\"#000000\" font-family=\"sans-serif\" font-size=\"12\" lengthAdjust=\"spacingAndGlyphs\" textLength=\"4\" x=\"153.7\" y=\"64.1543\">f</text></a></g><g id=\"E1.E10\"><a href=\"psysml:7f8b6820-ebe3-4bcd-8be0-e5513e7bb89f\" target=\"_top\" title=\"psysml:7f8b6820-ebe3-4bcd-8be0-e5513e7bb89f\" xlink:actuate=\"onRequest\" xlink:href=\"psysml:7f8b6820-ebe3-4bcd-8be0-e5513e7bb89f\" xlink:show=\"new\" xlink:title=\"psysml:7f8b6820-ebe3-4bcd-8be0-e5513e7bb89f\" xlink:type=\"simple\"><rect fill=\"#FEFECE\" filter=\"url(#f148mhxkcbaxeh)\" height=\"40\" id=\"E10\" rx=\"10\" ry=\"10\" style=\"stroke: #A80036; stroke-width: 1.5;\" width=\"50\" x=\"32\" y=\"44\"/><ellipse cx=\"51.5\" cy=\"60\" fill=\"#B6DBBB\" rx=\"11\" ry=\"11\" style=\"stroke: #A80036; stroke-width: 1.0;\"/><path d=\"M51.25,65.4688 Q49.5,65.4688 48.5469,64.4375 Q47.6094,63.3906 47.6094,61.5469 L47.6094,54.6563 L49.6719,54.6563 L49.6719,54.8125 Q49.5781,54.9063 49.5469,55.0469 Q49.5313,55.1719 49.5313,55.4375 L49.5313,61.5625 Q49.5313,62.6563 49.9063,63.2813 Q50.2813,63.9063 51.2656,63.9063 Q52.25,63.9063 52.6406,63.2813 Q53.0313,62.6563 53.0313,61.5156 L53.0313,54.6563 L54.9063,54.6563 L54.9063,61.5 Q54.9063,63.5313 53.875,64.5 Q52.8594,65.4688 51.25,65.4688 Z \"/><text fill=\"#000000\" font-family=\"sans-serif\" font-size=\"12\" lengthAdjust=\"spacingAndGlyphs\" textLength=\"8\" x=\"66.5\" y=\"64.1543\">g</text></a></g><!--MD5=[2193b48a10ad2544d261e987c90c2985]\n",
       "@startuml\r\n",
       "skinparam ranksep 10\r\n",
       "skinparam rectangle {\r\n",
       " backgroundColor<<block>> LightGreen\r\n",
       "}\r\n",
       " \r\n",
       "package \"MultiplicityTest\" as E1  [[psysml:437e1e49-e6a3-4f3e-be27-b1e07120749d ]]  {\r\n",
       "rec def \"P\" as E2 << << (B,green) >> [[psysml:d60dc8a9-ee87-4177-8909-4fd780a9d8f8 ]] {\r\n",
       "}\r\n",
       "comp usage \"n: Integer \" as E3 << <<(U,orange) attribute>> [[psysml:a5340f1d-d68a-4585-8f96-7305e6f489d2 ]] {\r\n",
       "}\r\n",
       "rec usage \"a\" as E4  [[psysml:478d9241-8f6e-4034-a71b-67b7ef5acdce ]] {\r\n",
       "}\r\n",
       "rec usage \"b: P\" as E5  [[psysml:bc94da79-c19f-4e44-8720-527e565e90dd ]] {\r\n",
       "}\r\n",
       "rec usage \"c: P\" as E6  [[psysml:619a7e97-bac6-4f1e-8369-8e8a5aa8da71 ]] {\r\n",
       "}\r\n",
       "rec usage \"d\" as E7  [[psysml:baf82fce-ad86-47f7-be04-61d8ab51238a ]] {\r\n",
       "}\r\n",
       "rec usage \"e\" as E8  [[psysml:602edda4-e9f7-4346-9e9a-bc1deb44a144 ]] {\r\n",
       "}\r\n",
       "rec usage \"f\" as E9  [[psysml:ea99d53b-6b01-4b58-853a-79f827c6b1d7 ]] {\r\n",
       "}\r\n",
       "rec usage \"g\" as E10  [[psysml:7f8b6820-ebe3-4bcd-8be0-e5513e7bb89f ]] {\r\n",
       "}\r\n",
       "def \"A\" as E11 << <<(D,brown) attribute  def>> [[psysml:b98160f9-962b-4166-b8bf-1b8817b6e181 ]] \r\n",
       "}\r\n",
       "@enduml\r\n",
       "\n",
       "PlantUML version 1.2020.13(Sat Jun 13 12:26:38 UTC 2020)\n",
       "(EPL source distribution)\n",
       "Java Runtime: OpenJDK Runtime Environment\n",
       "JVM: OpenJDK 64-Bit Server VM\n",
       "Default Encoding: UTF-8\n",
       "Language: en\n",
       "Country: null\n",
       "--></g></svg>"
      ]
     },
     "execution_count": 33,
     "metadata": {},
     "output_type": "execute_result"
    }
   ],
   "source": [
    "%viz --style=\"PLANTUML\" --view=\"Interconnection\" \"MultiplicityTest\""
   ]
  },
  {
   "cell_type": "code",
   "execution_count": 34,
   "id": "d84574d2",
   "metadata": {
    "execution": {
     "iopub.execute_input": "2022-03-03T09:58:31.338166Z",
     "iopub.status.busy": "2022-03-03T09:58:31.337773Z",
     "iopub.status.idle": "2022-03-03T09:58:31.342085Z",
     "shell.execute_reply": "2022-03-03T09:58:31.342391Z"
    }
   },
   "outputs": [
    {
     "data": {
      "image/svg+xml": [
       "<?xml version=\"1.0\" encoding=\"UTF-8\" standalone=\"no\"?><svg xmlns=\"http://www.w3.org/2000/svg\" xmlns:xlink=\"http://www.w3.org/1999/xlink\" contentScriptType=\"application/ecmascript\" contentStyleType=\"text/css\" height=\"12px\" preserveAspectRatio=\"none\" style=\"width:12px;height:12px;\" version=\"1.1\" viewBox=\"0 0 12 12\" width=\"12px\" zoomAndPan=\"magnify\"><defs/><g><!--MD5=[6a4cb978cab31700e1ce5529f947a75d]\n",
       "@startuml\r\n",
       "skinparam ranksep 8\r\n",
       " \r\n",
       "@enduml\r\n",
       "\n",
       "PlantUML version 1.2020.13(Sat Jun 13 12:26:38 UTC 2020)\n",
       "(EPL source distribution)\n",
       "Java Runtime: OpenJDK Runtime Environment\n",
       "JVM: OpenJDK 64-Bit Server VM\n",
       "Default Encoding: UTF-8\n",
       "Language: en\n",
       "Country: null\n",
       "--></g></svg>"
      ]
     },
     "execution_count": 34,
     "metadata": {},
     "output_type": "execute_result"
    }
   ],
   "source": [
    "%viz --style=\"PLANTUML\" --view=\"Action\" \"MultiplicityTest\""
   ]
  },
  {
   "cell_type": "code",
   "execution_count": 35,
   "id": "202970dc",
   "metadata": {
    "execution": {
     "iopub.execute_input": "2022-03-03T09:58:31.392830Z",
     "iopub.status.busy": "2022-03-03T09:58:31.392429Z",
     "iopub.status.idle": "2022-03-03T09:58:31.397452Z",
     "shell.execute_reply": "2022-03-03T09:58:31.397759Z"
    }
   },
   "outputs": [
    {
     "data": {
      "image/svg+xml": [
       "<?xml version=\"1.0\" encoding=\"UTF-8\" standalone=\"no\"?><svg xmlns=\"http://www.w3.org/2000/svg\" xmlns:xlink=\"http://www.w3.org/1999/xlink\" contentScriptType=\"application/ecmascript\" contentStyleType=\"text/css\" height=\"12px\" preserveAspectRatio=\"none\" style=\"width:12px;height:12px;\" version=\"1.1\" viewBox=\"0 0 12 12\" width=\"12px\" zoomAndPan=\"magnify\"><defs/><g><!--MD5=[ca4faa0b02def275ea33c14ea7a1a98d]\n",
       "@startuml\r\n",
       "skinparam roundcorner 20\r\n",
       "skinparam BoxPadding 20\r\n",
       "skinparam SequenceBoxBackgroundColor #white\r\n",
       "skinparam style strictuml\r\n",
       "skinparam maxMessageSize 100\r\n",
       " \r\n",
       "@enduml\r\n",
       "\n",
       "PlantUML version 1.2020.13(Sat Jun 13 12:26:38 UTC 2020)\n",
       "(EPL source distribution)\n",
       "Java Runtime: OpenJDK Runtime Environment\n",
       "JVM: OpenJDK 64-Bit Server VM\n",
       "Default Encoding: UTF-8\n",
       "Language: en\n",
       "Country: null\n",
       "--></g></svg>"
      ]
     },
     "execution_count": 35,
     "metadata": {},
     "output_type": "execute_result"
    }
   ],
   "source": [
    "%viz --style=\"PLANTUML\" --view=\"Sequence\" \"MultiplicityTest\""
   ]
  },
  {
   "cell_type": "code",
   "execution_count": 36,
   "id": "f4772052",
   "metadata": {
    "execution": {
     "iopub.execute_input": "2022-03-03T09:58:31.447536Z",
     "iopub.status.busy": "2022-03-03T09:58:31.447114Z",
     "iopub.status.idle": "2022-03-03T09:58:31.517957Z",
     "shell.execute_reply": "2022-03-03T09:58:31.517621Z"
    }
   },
   "outputs": [
    {
     "data": {
      "image/svg+xml": [
       "<?xml version=\"1.0\" encoding=\"UTF-8\" standalone=\"no\"?><svg xmlns=\"http://www.w3.org/2000/svg\" xmlns:xlink=\"http://www.w3.org/1999/xlink\" contentScriptType=\"application/ecmascript\" contentStyleType=\"text/css\" height=\"257px\" preserveAspectRatio=\"none\" style=\"width:1049px;height:257px;\" version=\"1.1\" viewBox=\"0 0 1049 257\" width=\"1049px\" zoomAndPan=\"magnify\"><defs><filter height=\"300%\" id=\"fk78wg8av29xx\" width=\"300%\" x=\"-1\" y=\"-1\"><feGaussianBlur result=\"blurOut\" stdDeviation=\"2.0\"/><feColorMatrix in=\"blurOut\" result=\"blurOut2\" type=\"matrix\" values=\"0 0 0 0 0 0 0 0 0 0 0 0 0 0 0 0 0 0 .4 0\"/><feOffset dx=\"4.0\" dy=\"4.0\" in=\"blurOut2\" result=\"blurOut3\"/><feBlend in=\"SourceGraphic\" in2=\"blurOut3\" mode=\"normal\"/></filter></defs><g><!--MD5=[fbc87193dbaf4d95561dea2c320d4a47]\n",
       "cluster E1--><a href=\"psysml:437e1e49-e6a3-4f3e-be27-b1e07120749d\" target=\"_top\" title=\"psysml:437e1e49-e6a3-4f3e-be27-b1e07120749d\" xlink:actuate=\"onRequest\" xlink:href=\"psysml:437e1e49-e6a3-4f3e-be27-b1e07120749d\" xlink:show=\"new\" xlink:title=\"psysml:437e1e49-e6a3-4f3e-be27-b1e07120749d\" xlink:type=\"simple\"><polygon fill=\"#FFFFFF\" filter=\"url(#fk78wg8av29xx)\" points=\"16,6,123,6,130,28.2969,1027,28.2969,1027,245,16,245,16,6\" style=\"stroke: #000000; stroke-width: 1.5;\"/><line style=\"stroke: #000000; stroke-width: 1.5;\" x1=\"16\" x2=\"130\" y1=\"28.2969\" y2=\"28.2969\"/><text fill=\"#000000\" font-family=\"sans-serif\" font-size=\"14\" font-weight=\"bold\" lengthAdjust=\"spacingAndGlyphs\" textLength=\"101\" x=\"20\" y=\"20.9951\">MultiplicityTest</text></a><!--MD5=[b4997ac47864f28c2f74865a473b2911]\n",
       "class E2--><a href=\"psysml:d60dc8a9-ee87-4177-8909-4fd780a9d8f8\" target=\"_top\" title=\"psysml:d60dc8a9-ee87-4177-8909-4fd780a9d8f8\" xlink:actuate=\"onRequest\" xlink:href=\"psysml:d60dc8a9-ee87-4177-8909-4fd780a9d8f8\" xlink:show=\"new\" xlink:title=\"psysml:d60dc8a9-ee87-4177-8909-4fd780a9d8f8\" xlink:type=\"simple\"><rect fill=\"#FEFECE\" filter=\"url(#fk78wg8av29xx)\" height=\"40\" id=\"E2\" style=\"stroke: #A80036; stroke-width: 1.5;\" width=\"40\" x=\"670\" y=\"189\"/><ellipse cx=\"685\" cy=\"205\" fill=\"#008000\" rx=\"11\" ry=\"11\" style=\"stroke: #A80036; stroke-width: 1.0;\"/><path d=\"M681.875,210 L681.875,199.4063 L685.1094,199.4063 Q687.0156,199.4063 687.9219,200.1563 Q688.8438,200.9063 688.8438,202.0781 Q688.8438,202.7656 688.4531,203.4219 Q688.0781,204.0781 687.3594,204.375 Q688.2188,204.75 688.7344,205.4375 Q689.25,206.125 689.25,206.9375 Q689.25,208.3125 688.2188,209.1563 Q687.2031,210 685.0938,210 L681.875,210 Z M683.7969,203.6406 L684.9531,203.6406 Q686.0781,203.6406 686.4844,203.2656 Q686.9063,202.875 686.9063,202.25 Q686.9063,201.6719 686.4844,201.3125 Q686.0625,200.9531 685.125,200.9531 L683.7969,200.9531 L683.7969,203.6406 Z M683.7969,208.4219 L685.2969,208.4219 Q686.2031,208.4219 686.7344,208.0313 Q687.2656,207.6406 687.2656,206.8906 Q687.2656,206.125 686.7656,205.6563 Q686.2656,205.1719 685,205.1719 L683.7969,205.1719 L683.7969,208.4219 Z \"/><text fill=\"#000000\" font-family=\"sans-serif\" font-size=\"12\" lengthAdjust=\"spacingAndGlyphs\" textLength=\"8\" x=\"699\" y=\"209.1543\">P</text><line style=\"stroke: #A80036; stroke-width: 1.5;\" x1=\"671\" x2=\"709\" y1=\"221\" y2=\"221\"/></a><!--MD5=[09b614a08d8cba4a07c9adeb5e0fee81]\n",
       "class E3--><a href=\"psysml:a5340f1d-d68a-4585-8f96-7305e6f489d2\" target=\"_top\" title=\"psysml:a5340f1d-d68a-4585-8f96-7305e6f489d2\" xlink:actuate=\"onRequest\" xlink:href=\"psysml:a5340f1d-d68a-4585-8f96-7305e6f489d2\" xlink:show=\"new\" xlink:title=\"psysml:a5340f1d-d68a-4585-8f96-7305e6f489d2\" xlink:type=\"simple\"><rect fill=\"#FEFECE\" filter=\"url(#fk78wg8av29xx)\" height=\"45.9375\" id=\"E3\" rx=\"10\" ry=\"10\" style=\"stroke: #A80036; stroke-width: 1.5;\" width=\"97\" x=\"914.5\" y=\"62\"/><ellipse cx=\"929.5\" cy=\"80.9688\" fill=\"#FFA500\" rx=\"11\" ry=\"11\" style=\"stroke: #A80036; stroke-width: 1.0;\"/><path d=\"M929.25,86.4375 Q927.5,86.4375 926.5469,85.4063 Q925.6094,84.3594 925.6094,82.5156 L925.6094,75.625 L927.6719,75.625 L927.6719,75.7813 Q927.5781,75.875 927.5469,76.0156 Q927.5313,76.1406 927.5313,76.4063 L927.5313,82.5313 Q927.5313,83.625 927.9063,84.25 Q928.2813,84.875 929.2656,84.875 Q930.25,84.875 930.6406,84.25 Q931.0313,83.625 931.0313,82.4844 L931.0313,75.625 L932.9063,75.625 L932.9063,82.4688 Q932.9063,84.5 931.875,85.4688 Q930.8594,86.4375 929.25,86.4375 Z \"/><text fill=\"#000000\" font-family=\"sans-serif\" font-size=\"12\" font-style=\"italic\" lengthAdjust=\"spacingAndGlyphs\" textLength=\"69\" x=\"941.5\" y=\"78.1387\">«attribute»</text><text fill=\"#000000\" font-family=\"sans-serif\" font-size=\"12\" lengthAdjust=\"spacingAndGlyphs\" textLength=\"61\" x=\"943.5\" y=\"92.1074\">n: Integer</text><line style=\"stroke: #A80036; stroke-width: 1.5;\" x1=\"915.5\" x2=\"1010.5\" y1=\"99.9375\" y2=\"99.9375\"/></a><!--MD5=[ebbe1d658d1005bcc118a6aa81145e00]\n",
       "class E4--><a href=\"psysml:478d9241-8f6e-4034-a71b-67b7ef5acdce\" target=\"_top\" title=\"psysml:478d9241-8f6e-4034-a71b-67b7ef5acdce\" xlink:actuate=\"onRequest\" xlink:href=\"psysml:478d9241-8f6e-4034-a71b-67b7ef5acdce\" xlink:show=\"new\" xlink:title=\"psysml:478d9241-8f6e-4034-a71b-67b7ef5acdce\" xlink:type=\"simple\"><rect fill=\"#FEFECE\" filter=\"url(#fk78wg8av29xx)\" height=\"45.9375\" id=\"E4\" rx=\"10\" ry=\"10\" style=\"stroke: #A80036; stroke-width: 1.5;\" width=\"68\" x=\"811\" y=\"62\"/><ellipse cx=\"826\" cy=\"80.9688\" fill=\"#32CD32\" rx=\"11\" ry=\"11\" style=\"stroke: #A80036; stroke-width: 1.0;\"/><path d=\"M822.8125,85.9688 L822.8125,75.375 L826.4219,75.375 Q827.6406,75.375 828.4375,75.8125 Q829.2344,76.2344 829.6094,76.9375 Q830,77.6406 830,78.4844 Q830,79.3281 829.625,80.0156 Q829.2656,80.7031 828.4688,81.125 Q827.6875,81.5313 826.5,81.5313 L824.7656,81.5313 L824.7656,85.9688 L822.8125,85.9688 Z M824.7656,79.9375 L826.375,79.9375 Q827.1875,79.9375 827.6094,79.5313 Q828.0313,79.125 828.0313,78.4844 Q828.0313,77.8594 827.6094,77.4531 Q827.1875,77.0469 826.3906,77.0469 L824.7656,77.0469 L824.7656,79.9375 Z \"/><text fill=\"#000000\" font-family=\"sans-serif\" font-size=\"12\" font-style=\"italic\" lengthAdjust=\"spacingAndGlyphs\" textLength=\"40\" x=\"838\" y=\"78.1387\">«part»</text><text fill=\"#000000\" font-family=\"sans-serif\" font-size=\"12\" lengthAdjust=\"spacingAndGlyphs\" textLength=\"8\" x=\"852\" y=\"92.1074\">a</text><line style=\"stroke: #A80036; stroke-width: 1.5;\" x1=\"812\" x2=\"878\" y1=\"99.9375\" y2=\"99.9375\"/></a><!--MD5=[270fce915f116d4de14055a7c1d9a0f3]\n",
       "class E5--><a href=\"psysml:bc94da79-c19f-4e44-8720-527e565e90dd\" target=\"_top\" title=\"psysml:bc94da79-c19f-4e44-8720-527e565e90dd\" xlink:actuate=\"onRequest\" xlink:href=\"psysml:bc94da79-c19f-4e44-8720-527e565e90dd\" xlink:show=\"new\" xlink:title=\"psysml:bc94da79-c19f-4e44-8720-527e565e90dd\" xlink:type=\"simple\"><rect fill=\"#FEFECE\" filter=\"url(#fk78wg8av29xx)\" height=\"45.9375\" id=\"E5\" rx=\"10\" ry=\"10\" style=\"stroke: #A80036; stroke-width: 1.5;\" width=\"68\" x=\"708\" y=\"62\"/><ellipse cx=\"723\" cy=\"80.9688\" fill=\"#32CD32\" rx=\"11\" ry=\"11\" style=\"stroke: #A80036; stroke-width: 1.0;\"/><path d=\"M719.8125,85.9688 L719.8125,75.375 L723.4219,75.375 Q724.6406,75.375 725.4375,75.8125 Q726.2344,76.2344 726.6094,76.9375 Q727,77.6406 727,78.4844 Q727,79.3281 726.625,80.0156 Q726.2656,80.7031 725.4688,81.125 Q724.6875,81.5313 723.5,81.5313 L721.7656,81.5313 L721.7656,85.9688 L719.8125,85.9688 Z M721.7656,79.9375 L723.375,79.9375 Q724.1875,79.9375 724.6094,79.5313 Q725.0313,79.125 725.0313,78.4844 Q725.0313,77.8594 724.6094,77.4531 Q724.1875,77.0469 723.3906,77.0469 L721.7656,77.0469 L721.7656,79.9375 Z \"/><text fill=\"#000000\" font-family=\"sans-serif\" font-size=\"12\" font-style=\"italic\" lengthAdjust=\"spacingAndGlyphs\" textLength=\"40\" x=\"735\" y=\"78.1387\">«part»</text><text fill=\"#000000\" font-family=\"sans-serif\" font-size=\"12\" lengthAdjust=\"spacingAndGlyphs\" textLength=\"24\" x=\"741\" y=\"92.1074\">b: P</text><line style=\"stroke: #A80036; stroke-width: 1.5;\" x1=\"709\" x2=\"775\" y1=\"99.9375\" y2=\"99.9375\"/></a><!--MD5=[60a26617385b1d2d0262a64233df1f8d]\n",
       "class E6--><a href=\"psysml:619a7e97-bac6-4f1e-8369-8e8a5aa8da71\" target=\"_top\" title=\"psysml:619a7e97-bac6-4f1e-8369-8e8a5aa8da71\" xlink:actuate=\"onRequest\" xlink:href=\"psysml:619a7e97-bac6-4f1e-8369-8e8a5aa8da71\" xlink:show=\"new\" xlink:title=\"psysml:619a7e97-bac6-4f1e-8369-8e8a5aa8da71\" xlink:type=\"simple\"><rect fill=\"#FEFECE\" filter=\"url(#fk78wg8av29xx)\" height=\"45.9375\" id=\"E6\" rx=\"10\" ry=\"10\" style=\"stroke: #A80036; stroke-width: 1.5;\" width=\"68\" x=\"605\" y=\"62\"/><ellipse cx=\"620\" cy=\"80.9688\" fill=\"#32CD32\" rx=\"11\" ry=\"11\" style=\"stroke: #A80036; stroke-width: 1.0;\"/><path d=\"M616.8125,85.9688 L616.8125,75.375 L620.4219,75.375 Q621.6406,75.375 622.4375,75.8125 Q623.2344,76.2344 623.6094,76.9375 Q624,77.6406 624,78.4844 Q624,79.3281 623.625,80.0156 Q623.2656,80.7031 622.4688,81.125 Q621.6875,81.5313 620.5,81.5313 L618.7656,81.5313 L618.7656,85.9688 L616.8125,85.9688 Z M618.7656,79.9375 L620.375,79.9375 Q621.1875,79.9375 621.6094,79.5313 Q622.0313,79.125 622.0313,78.4844 Q622.0313,77.8594 621.6094,77.4531 Q621.1875,77.0469 620.3906,77.0469 L618.7656,77.0469 L618.7656,79.9375 Z \"/><text fill=\"#000000\" font-family=\"sans-serif\" font-size=\"12\" font-style=\"italic\" lengthAdjust=\"spacingAndGlyphs\" textLength=\"40\" x=\"632\" y=\"78.1387\">«part»</text><text fill=\"#000000\" font-family=\"sans-serif\" font-size=\"12\" lengthAdjust=\"spacingAndGlyphs\" textLength=\"23\" x=\"638.5\" y=\"92.1074\">c: P</text><line style=\"stroke: #A80036; stroke-width: 1.5;\" x1=\"606\" x2=\"672\" y1=\"99.9375\" y2=\"99.9375\"/></a><!--MD5=[2156ba9850f5573cc1fc38a6a4b2f02b]\n",
       "class E7--><a href=\"psysml:baf82fce-ad86-47f7-be04-61d8ab51238a\" target=\"_top\" title=\"psysml:baf82fce-ad86-47f7-be04-61d8ab51238a\" xlink:actuate=\"onRequest\" xlink:href=\"psysml:baf82fce-ad86-47f7-be04-61d8ab51238a\" xlink:show=\"new\" xlink:title=\"psysml:baf82fce-ad86-47f7-be04-61d8ab51238a\" xlink:type=\"simple\"><rect fill=\"#FEFECE\" filter=\"url(#fk78wg8av29xx)\" height=\"45.9375\" id=\"E7\" rx=\"10\" ry=\"10\" style=\"stroke: #A80036; stroke-width: 1.5;\" width=\"68\" x=\"502\" y=\"62\"/><ellipse cx=\"517\" cy=\"80.9688\" fill=\"#32CD32\" rx=\"11\" ry=\"11\" style=\"stroke: #A80036; stroke-width: 1.0;\"/><path d=\"M513.8125,85.9688 L513.8125,75.375 L517.4219,75.375 Q518.6406,75.375 519.4375,75.8125 Q520.2344,76.2344 520.6094,76.9375 Q521,77.6406 521,78.4844 Q521,79.3281 520.625,80.0156 Q520.2656,80.7031 519.4688,81.125 Q518.6875,81.5313 517.5,81.5313 L515.7656,81.5313 L515.7656,85.9688 L513.8125,85.9688 Z M515.7656,79.9375 L517.375,79.9375 Q518.1875,79.9375 518.6094,79.5313 Q519.0313,79.125 519.0313,78.4844 Q519.0313,77.8594 518.6094,77.4531 Q518.1875,77.0469 517.3906,77.0469 L515.7656,77.0469 L515.7656,79.9375 Z \"/><text fill=\"#000000\" font-family=\"sans-serif\" font-size=\"12\" font-style=\"italic\" lengthAdjust=\"spacingAndGlyphs\" textLength=\"40\" x=\"529\" y=\"78.1387\">«part»</text><text fill=\"#000000\" font-family=\"sans-serif\" font-size=\"12\" lengthAdjust=\"spacingAndGlyphs\" textLength=\"8\" x=\"543\" y=\"92.1074\">d</text><line style=\"stroke: #A80036; stroke-width: 1.5;\" x1=\"503\" x2=\"569\" y1=\"99.9375\" y2=\"99.9375\"/></a><!--MD5=[b9389687b975829384b498ac4b7476b2]\n",
       "class E8--><a href=\"psysml:602edda4-e9f7-4346-9e9a-bc1deb44a144\" target=\"_top\" title=\"psysml:602edda4-e9f7-4346-9e9a-bc1deb44a144\" xlink:actuate=\"onRequest\" xlink:href=\"psysml:602edda4-e9f7-4346-9e9a-bc1deb44a144\" xlink:show=\"new\" xlink:title=\"psysml:602edda4-e9f7-4346-9e9a-bc1deb44a144\" xlink:type=\"simple\"><rect fill=\"#FEFECE\" filter=\"url(#fk78wg8av29xx)\" height=\"45.9375\" id=\"E8\" rx=\"10\" ry=\"10\" style=\"stroke: #A80036; stroke-width: 1.5;\" width=\"68\" x=\"399\" y=\"62\"/><ellipse cx=\"414\" cy=\"80.9688\" fill=\"#32CD32\" rx=\"11\" ry=\"11\" style=\"stroke: #A80036; stroke-width: 1.0;\"/><path d=\"M410.8125,85.9688 L410.8125,75.375 L414.4219,75.375 Q415.6406,75.375 416.4375,75.8125 Q417.2344,76.2344 417.6094,76.9375 Q418,77.6406 418,78.4844 Q418,79.3281 417.625,80.0156 Q417.2656,80.7031 416.4688,81.125 Q415.6875,81.5313 414.5,81.5313 L412.7656,81.5313 L412.7656,85.9688 L410.8125,85.9688 Z M412.7656,79.9375 L414.375,79.9375 Q415.1875,79.9375 415.6094,79.5313 Q416.0313,79.125 416.0313,78.4844 Q416.0313,77.8594 415.6094,77.4531 Q415.1875,77.0469 414.3906,77.0469 L412.7656,77.0469 L412.7656,79.9375 Z \"/><text fill=\"#000000\" font-family=\"sans-serif\" font-size=\"12\" font-style=\"italic\" lengthAdjust=\"spacingAndGlyphs\" textLength=\"40\" x=\"426\" y=\"78.1387\">«part»</text><text fill=\"#000000\" font-family=\"sans-serif\" font-size=\"12\" lengthAdjust=\"spacingAndGlyphs\" textLength=\"8\" x=\"440\" y=\"92.1074\">e</text><line style=\"stroke: #A80036; stroke-width: 1.5;\" x1=\"400\" x2=\"466\" y1=\"99.9375\" y2=\"99.9375\"/></a><!--MD5=[fd4143e9d270a159db93a4ea2a975926]\n",
       "class E9--><a href=\"psysml:ea99d53b-6b01-4b58-853a-79f827c6b1d7\" target=\"_top\" title=\"psysml:ea99d53b-6b01-4b58-853a-79f827c6b1d7\" xlink:actuate=\"onRequest\" xlink:href=\"psysml:ea99d53b-6b01-4b58-853a-79f827c6b1d7\" xlink:show=\"new\" xlink:title=\"psysml:ea99d53b-6b01-4b58-853a-79f827c6b1d7\" xlink:type=\"simple\"><rect fill=\"#FEFECE\" filter=\"url(#fk78wg8av29xx)\" height=\"45.9375\" id=\"E9\" rx=\"10\" ry=\"10\" style=\"stroke: #A80036; stroke-width: 1.5;\" width=\"68\" x=\"296\" y=\"62\"/><ellipse cx=\"311\" cy=\"80.9688\" fill=\"#32CD32\" rx=\"11\" ry=\"11\" style=\"stroke: #A80036; stroke-width: 1.0;\"/><path d=\"M307.8125,85.9688 L307.8125,75.375 L311.4219,75.375 Q312.6406,75.375 313.4375,75.8125 Q314.2344,76.2344 314.6094,76.9375 Q315,77.6406 315,78.4844 Q315,79.3281 314.625,80.0156 Q314.2656,80.7031 313.4688,81.125 Q312.6875,81.5313 311.5,81.5313 L309.7656,81.5313 L309.7656,85.9688 L307.8125,85.9688 Z M309.7656,79.9375 L311.375,79.9375 Q312.1875,79.9375 312.6094,79.5313 Q313.0313,79.125 313.0313,78.4844 Q313.0313,77.8594 312.6094,77.4531 Q312.1875,77.0469 311.3906,77.0469 L309.7656,77.0469 L309.7656,79.9375 Z \"/><text fill=\"#000000\" font-family=\"sans-serif\" font-size=\"12\" font-style=\"italic\" lengthAdjust=\"spacingAndGlyphs\" textLength=\"40\" x=\"323\" y=\"78.1387\">«part»</text><text fill=\"#000000\" font-family=\"sans-serif\" font-size=\"12\" lengthAdjust=\"spacingAndGlyphs\" textLength=\"4\" x=\"339\" y=\"92.1074\">f</text><line style=\"stroke: #A80036; stroke-width: 1.5;\" x1=\"297\" x2=\"363\" y1=\"99.9375\" y2=\"99.9375\"/></a><!--MD5=[96f4274e9e20536e775497830990834d]\n",
       "class E10--><a href=\"psysml:7f8b6820-ebe3-4bcd-8be0-e5513e7bb89f\" target=\"_top\" title=\"psysml:7f8b6820-ebe3-4bcd-8be0-e5513e7bb89f\" xlink:actuate=\"onRequest\" xlink:href=\"psysml:7f8b6820-ebe3-4bcd-8be0-e5513e7bb89f\" xlink:show=\"new\" xlink:title=\"psysml:7f8b6820-ebe3-4bcd-8be0-e5513e7bb89f\" xlink:type=\"simple\"><rect fill=\"#FEFECE\" filter=\"url(#fk78wg8av29xx)\" height=\"45.9375\" id=\"E10\" rx=\"10\" ry=\"10\" style=\"stroke: #A80036; stroke-width: 1.5;\" width=\"68\" x=\"193\" y=\"62\"/><ellipse cx=\"208\" cy=\"80.9688\" fill=\"#32CD32\" rx=\"11\" ry=\"11\" style=\"stroke: #A80036; stroke-width: 1.0;\"/><path d=\"M204.8125,85.9688 L204.8125,75.375 L208.4219,75.375 Q209.6406,75.375 210.4375,75.8125 Q211.2344,76.2344 211.6094,76.9375 Q212,77.6406 212,78.4844 Q212,79.3281 211.625,80.0156 Q211.2656,80.7031 210.4688,81.125 Q209.6875,81.5313 208.5,81.5313 L206.7656,81.5313 L206.7656,85.9688 L204.8125,85.9688 Z M206.7656,79.9375 L208.375,79.9375 Q209.1875,79.9375 209.6094,79.5313 Q210.0313,79.125 210.0313,78.4844 Q210.0313,77.8594 209.6094,77.4531 Q209.1875,77.0469 208.3906,77.0469 L206.7656,77.0469 L206.7656,79.9375 Z \"/><text fill=\"#000000\" font-family=\"sans-serif\" font-size=\"12\" font-style=\"italic\" lengthAdjust=\"spacingAndGlyphs\" textLength=\"40\" x=\"220\" y=\"78.1387\">«part»</text><text fill=\"#000000\" font-family=\"sans-serif\" font-size=\"12\" lengthAdjust=\"spacingAndGlyphs\" textLength=\"8\" x=\"234\" y=\"92.1074\">g</text><line style=\"stroke: #A80036; stroke-width: 1.5;\" x1=\"194\" x2=\"260\" y1=\"99.9375\" y2=\"99.9375\"/></a><!--MD5=[1dd1bfd58a279cf63c5f349dbc8fc6a1]\n",
       "class E11--><a href=\"psysml:b98160f9-962b-4166-b8bf-1b8817b6e181\" target=\"_top\" title=\"psysml:b98160f9-962b-4166-b8bf-1b8817b6e181\" xlink:actuate=\"onRequest\" xlink:href=\"psysml:b98160f9-962b-4166-b8bf-1b8817b6e181\" xlink:show=\"new\" xlink:title=\"psysml:b98160f9-962b-4166-b8bf-1b8817b6e181\" xlink:type=\"simple\"><rect fill=\"#FEFECE\" filter=\"url(#fk78wg8av29xx)\" height=\"88.3516\" id=\"E11\" style=\"stroke: #A80036; stroke-width: 1.5;\" width=\"125\" x=\"32.5\" y=\"41\"/><ellipse cx=\"47.5\" cy=\"59.9688\" fill=\"#A52A2A\" rx=\"11\" ry=\"11\" style=\"stroke: #A80036; stroke-width: 1.0;\"/><path d=\"M44.7188,64.9688 L44.7188,54.375 L47.4531,54.375 Q48.8438,54.375 49.6094,54.7656 Q50.3906,55.1406 50.9219,55.8438 Q51.4531,56.5469 51.75,57.5469 Q52.0469,58.5313 52.0469,59.75 Q52,61.3438 51.5,62.5313 Q51.0156,63.7031 49.9688,64.3438 Q48.9375,64.9688 47.25,64.9688 L44.7188,64.9688 Z M46.5781,63.4688 L47.2031,63.4688 Q48.2813,63.4688 48.9375,63.0156 Q49.5938,62.5625 49.875,61.7344 Q50.1719,60.8906 50.1563,59.7656 Q50.1563,58.5938 49.9063,57.7344 Q49.6563,56.8594 49.0469,56.3906 Q48.4375,55.9063 47.3906,55.9063 L46.5781,55.9063 L46.5781,63.4688 Z \"/><text fill=\"#000000\" font-family=\"sans-serif\" font-size=\"12\" font-style=\"italic\" lengthAdjust=\"spacingAndGlyphs\" textLength=\"97\" x=\"59.5\" y=\"57.1387\">«attribute  def»</text><text fill=\"#000000\" font-family=\"sans-serif\" font-size=\"12\" lengthAdjust=\"spacingAndGlyphs\" textLength=\"8\" x=\"104\" y=\"71.1074\">A</text><line style=\"stroke: #A80036; stroke-width: 1.5;\" x1=\"33.5\" x2=\"156.5\" y1=\"78.9375\" y2=\"78.9375\"/><text fill=\"#000000\" font-family=\"sans-serif\" font-size=\"11\" lengthAdjust=\"spacingAndGlyphs\" textLength=\"51\" x=\"38.5\" y=\"109.9526\">i: Integer</text><text fill=\"#000000\" font-family=\"sans-serif\" font-size=\"11\" lengthAdjust=\"spacingAndGlyphs\" textLength=\"21\" x=\"38.5\" y=\"122.7573\">x: A</text><line style=\"stroke: #A80036; stroke-width: 1.0;\" x1=\"33.5\" x2=\"67.5\" y1=\"93.3398\" y2=\"93.3398\"/><text fill=\"#000000\" font-family=\"sans-serif\" font-size=\"11\" lengthAdjust=\"spacingAndGlyphs\" textLength=\"55\" x=\"67.5\" y=\"96.6479\">attributes</text><line style=\"stroke: #A80036; stroke-width: 1.0;\" x1=\"122.5\" x2=\"156.5\" y1=\"93.3398\" y2=\"93.3398\"/></a><!--MD5=[15ebcb19ae302d9b601edb458606d402]\n",
       "link E5 to E2--><a href=\"psysml:f465fece-be6c-4a0b-8b87-5b67ed75d8f8\" target=\"_top\" title=\"psysml:f465fece-be6c-4a0b-8b87-5b67ed75d8f8\" xlink:actuate=\"onRequest\" xlink:href=\"psysml:f465fece-be6c-4a0b-8b87-5b67ed75d8f8\" xlink:show=\"new\" xlink:title=\"psysml:f465fece-be6c-4a0b-8b87-5b67ed75d8f8\" xlink:type=\"simple\"><path d=\"M732.58,108.09 C725.21,125.4 714.78,149.87 706.08,170.26 \" fill=\"none\" id=\"E5-&gt;E2\" style=\"stroke: #A80036; stroke-width: 1.0;\"/><polygon fill=\"#FFFFFF\" points=\"698.15,188.88,699.1606,168.6568,712.0395,174.1463,698.15,188.88\" style=\"stroke: #A80036; stroke-width: 1.0;\"/><ellipse cx=\"703.2355\" cy=\"164.1975\" fill=\"#A80036\" rx=\"2\" ry=\"2\" style=\"stroke: #A80036; stroke-width: 1.0;\"/><ellipse cx=\"712.4347\" cy=\"168.1185\" fill=\"#A80036\" rx=\"2\" ry=\"2\" style=\"stroke: #A80036; stroke-width: 1.0;\"/></a><!--MD5=[2351f337d6de0f557b50152ba70847b5]\n",
       "link E6 to E2--><a href=\"psysml:72e02ffe-11ce-46be-a503-0c91c54548ee\" target=\"_top\" title=\"psysml:72e02ffe-11ce-46be-a503-0c91c54548ee\" xlink:actuate=\"onRequest\" xlink:href=\"psysml:72e02ffe-11ce-46be-a503-0c91c54548ee\" xlink:show=\"new\" xlink:title=\"psysml:72e02ffe-11ce-46be-a503-0c91c54548ee\" xlink:type=\"simple\"><path d=\"M648.24,108.09 C655.47,125.4 665.7,149.87 674.22,170.26 \" fill=\"none\" id=\"E6-&gt;E2\" style=\"stroke: #A80036; stroke-width: 1.0;\"/><polygon fill=\"#FFFFFF\" points=\"682.01,188.88,668.2245,174.049,681.1416,168.6502,682.01,188.88\" style=\"stroke: #A80036; stroke-width: 1.0;\"/><ellipse cx=\"667.8717\" cy=\"168.0186\" fill=\"#A80036\" rx=\"2\" ry=\"2\" style=\"stroke: #A80036; stroke-width: 1.0;\"/><ellipse cx=\"677.0982\" cy=\"164.1623\" fill=\"#A80036\" rx=\"2\" ry=\"2\" style=\"stroke: #A80036; stroke-width: 1.0;\"/></a><!--MD5=[4d142bf6aebd97e986bcf98e8a2daf81]\n",
       "@startuml\r\n",
       " \r\n",
       "package \"MultiplicityTest\" as E1  [[psysml:437e1e49-e6a3-4f3e-be27-b1e07120749d ]]  {\r\n",
       "comp def \"P\" as E2 << << (B,green) >> [[psysml:d60dc8a9-ee87-4177-8909-4fd780a9d8f8 ]] {\r\n",
       "}\r\n",
       "comp usage \"n: Integer \" as E3 << <<(U,orange) attribute>> [[psysml:a5340f1d-d68a-4585-8f96-7305e6f489d2 ]] {\r\n",
       "}\r\n",
       "comp usage \"a \" as E4 << << (P,limegreen) part>> [[psysml:478d9241-8f6e-4034-a71b-67b7ef5acdce ]] {\r\n",
       "}\r\n",
       "comp usage \"b: P \" as E5 << << (P,limegreen) part>> [[psysml:bc94da79-c19f-4e44-8720-527e565e90dd ]] {\r\n",
       "}\r\n",
       "comp usage \"c: P \" as E6 << << (P,limegreen) part>> [[psysml:619a7e97-bac6-4f1e-8369-8e8a5aa8da71 ]] {\r\n",
       "}\r\n",
       "comp usage \"d \" as E7 << << (P,limegreen) part>> [[psysml:baf82fce-ad86-47f7-be04-61d8ab51238a ]] {\r\n",
       "}\r\n",
       "comp usage \"e \" as E8 << << (P,limegreen) part>> [[psysml:602edda4-e9f7-4346-9e9a-bc1deb44a144 ]] {\r\n",
       "}\r\n",
       "comp usage \"f \" as E9 << << (P,limegreen) part>> [[psysml:ea99d53b-6b01-4b58-853a-79f827c6b1d7 ]] {\r\n",
       "}\r\n",
       "comp usage \"g \" as E10 << << (P,limegreen) part>> [[psysml:7f8b6820-ebe3-4bcd-8be0-e5513e7bb89f ]] {\r\n",
       "}\r\n",
       "comp def \"A\" as E11 << <<(D,brown) attribute  def>> [[psysml:b98160f9-962b-4166-b8bf-1b8817b6e181 ]] {\r\n",
       "- - attributes - -\r\n",
       "i: Integer\r\n",
       "x: A\r\n",
       "}\r\n",
       "}\r\n",
       "E5 - -:|> E2 [[psysml:f465fece-be6c-4a0b-8b87-5b67ed75d8f8 ]] \r\n",
       "E6 - -:|> E2 [[psysml:72e02ffe-11ce-46be-a503-0c91c54548ee ]] \r\n",
       "@enduml\r\n",
       "\n",
       "PlantUML version 1.2020.13(Sat Jun 13 12:26:38 UTC 2020)\n",
       "(EPL source distribution)\n",
       "Java Runtime: OpenJDK Runtime Environment\n",
       "JVM: OpenJDK 64-Bit Server VM\n",
       "Default Encoding: UTF-8\n",
       "Language: en\n",
       "Country: null\n",
       "--></g></svg>"
      ]
     },
     "execution_count": 36,
     "metadata": {},
     "output_type": "execute_result"
    }
   ],
   "source": [
    "%viz --style=\"PLANTUML\" --view=\"MIXED\" \"MultiplicityTest\""
   ]
  },
  {
   "cell_type": "code",
   "execution_count": 37,
   "id": "7afa213a",
   "metadata": {
    "execution": {
     "iopub.execute_input": "2022-03-03T09:58:31.568115Z",
     "iopub.status.busy": "2022-03-03T09:58:31.567681Z",
     "iopub.status.idle": "2022-03-03T09:58:31.625431Z",
     "shell.execute_reply": "2022-03-03T09:58:31.625063Z"
    }
   },
   "outputs": [
    {
     "data": {
      "image/svg+xml": [
       "<?xml version=\"1.0\" encoding=\"UTF-8\" standalone=\"no\"?><svg xmlns=\"http://www.w3.org/2000/svg\" xmlns:xlink=\"http://www.w3.org/1999/xlink\" contentScriptType=\"application/ecmascript\" contentStyleType=\"text/css\" height=\"263px\" preserveAspectRatio=\"none\" style=\"width:816px;height:263px;\" version=\"1.1\" viewBox=\"0 0 816 263\" width=\"816px\" zoomAndPan=\"magnify\"><defs/><g><!--MD5=[fbc87193dbaf4d95561dea2c320d4a47]\n",
       "cluster E1--><a href=\"psysml:437e1e49-e6a3-4f3e-be27-b1e07120749d\" target=\"_top\" title=\"psysml:437e1e49-e6a3-4f3e-be27-b1e07120749d\" xlink:actuate=\"onRequest\" xlink:href=\"psysml:437e1e49-e6a3-4f3e-be27-b1e07120749d\" xlink:show=\"new\" xlink:title=\"psysml:437e1e49-e6a3-4f3e-be27-b1e07120749d\" xlink:type=\"simple\"><polygon fill=\"#FFFFFF\" points=\"16,6,123,6,130,28.2969,794,28.2969,794,251,16,251,16,6\" style=\"stroke: #000000; stroke-width: 1.5;\"/><line style=\"stroke: #000000; stroke-width: 1.5;\" x1=\"16\" x2=\"130\" y1=\"28.2969\" y2=\"28.2969\"/><text fill=\"#000000\" font-family=\"sans-serif\" font-size=\"14\" font-weight=\"bold\" lengthAdjust=\"spacingAndGlyphs\" textLength=\"101\" x=\"20\" y=\"20.9951\">MultiplicityTest</text></a><!--MD5=[b4997ac47864f28c2f74865a473b2911]\n",
       "class E2--><a href=\"psysml:d60dc8a9-ee87-4177-8909-4fd780a9d8f8\" target=\"_top\" title=\"psysml:d60dc8a9-ee87-4177-8909-4fd780a9d8f8\" xlink:actuate=\"onRequest\" xlink:href=\"psysml:d60dc8a9-ee87-4177-8909-4fd780a9d8f8\" xlink:show=\"new\" xlink:title=\"psysml:d60dc8a9-ee87-4177-8909-4fd780a9d8f8\" xlink:type=\"simple\"><rect fill=\"#FFFFFF\" height=\"45.9375\" id=\"E2\" style=\"stroke: #383838; stroke-width: 1.5;\" width=\"70\" x=\"499\" y=\"189\"/><text fill=\"#000000\" font-family=\"sans-serif\" font-size=\"12\" font-style=\"italic\" lengthAdjust=\"spacingAndGlyphs\" textLength=\"68\" x=\"500\" y=\"205.1387\">«part  def»</text><text fill=\"#000000\" font-family=\"sans-serif\" font-size=\"12\" lengthAdjust=\"spacingAndGlyphs\" textLength=\"8\" x=\"530\" y=\"219.1074\">P</text><line style=\"stroke: #383838; stroke-width: 1.5;\" x1=\"500\" x2=\"568\" y1=\"226.9375\" y2=\"226.9375\"/></a><!--MD5=[09b614a08d8cba4a07c9adeb5e0fee81]\n",
       "class E3--><a href=\"psysml:a5340f1d-d68a-4585-8f96-7305e6f489d2\" target=\"_top\" title=\"psysml:a5340f1d-d68a-4585-8f96-7305e6f489d2\" xlink:actuate=\"onRequest\" xlink:href=\"psysml:a5340f1d-d68a-4585-8f96-7305e6f489d2\" xlink:show=\"new\" xlink:title=\"psysml:a5340f1d-d68a-4585-8f96-7305e6f489d2\" xlink:type=\"simple\"><rect fill=\"#FFFFFF\" height=\"45.9375\" id=\"E3\" rx=\"10\" ry=\"10\" style=\"stroke: #383838; stroke-width: 1.5;\" width=\"71\" x=\"706.5\" y=\"62\"/><text fill=\"#000000\" font-family=\"sans-serif\" font-size=\"12\" font-style=\"italic\" lengthAdjust=\"spacingAndGlyphs\" textLength=\"69\" x=\"707.5\" y=\"78.1387\">«attribute»</text><text fill=\"#000000\" font-family=\"sans-serif\" font-size=\"12\" lengthAdjust=\"spacingAndGlyphs\" textLength=\"61\" x=\"709.5\" y=\"92.1074\">n: Integer</text><line style=\"stroke: #383838; stroke-width: 1.5;\" x1=\"707.5\" x2=\"776.5\" y1=\"99.9375\" y2=\"99.9375\"/></a><!--MD5=[ebbe1d658d1005bcc118a6aa81145e00]\n",
       "class E4--><a href=\"psysml:478d9241-8f6e-4034-a71b-67b7ef5acdce\" target=\"_top\" title=\"psysml:478d9241-8f6e-4034-a71b-67b7ef5acdce\" xlink:actuate=\"onRequest\" xlink:href=\"psysml:478d9241-8f6e-4034-a71b-67b7ef5acdce\" xlink:show=\"new\" xlink:title=\"psysml:478d9241-8f6e-4034-a71b-67b7ef5acdce\" xlink:type=\"simple\"><rect fill=\"#FFFFFF\" height=\"45.9375\" id=\"E4\" rx=\"10\" ry=\"10\" style=\"stroke: #383838; stroke-width: 1.5;\" width=\"42\" x=\"629\" y=\"62\"/><text fill=\"#000000\" font-family=\"sans-serif\" font-size=\"12\" font-style=\"italic\" lengthAdjust=\"spacingAndGlyphs\" textLength=\"40\" x=\"630\" y=\"78.1387\">«part»</text><text fill=\"#000000\" font-family=\"sans-serif\" font-size=\"12\" lengthAdjust=\"spacingAndGlyphs\" textLength=\"8\" x=\"644\" y=\"92.1074\">a</text><line style=\"stroke: #383838; stroke-width: 1.5;\" x1=\"630\" x2=\"670\" y1=\"99.9375\" y2=\"99.9375\"/></a><!--MD5=[270fce915f116d4de14055a7c1d9a0f3]\n",
       "class E5--><a href=\"psysml:bc94da79-c19f-4e44-8720-527e565e90dd\" target=\"_top\" title=\"psysml:bc94da79-c19f-4e44-8720-527e565e90dd\" xlink:actuate=\"onRequest\" xlink:href=\"psysml:bc94da79-c19f-4e44-8720-527e565e90dd\" xlink:show=\"new\" xlink:title=\"psysml:bc94da79-c19f-4e44-8720-527e565e90dd\" xlink:type=\"simple\"><rect fill=\"#FFFFFF\" height=\"45.9375\" id=\"E5\" rx=\"10\" ry=\"10\" style=\"stroke: #383838; stroke-width: 1.5;\" width=\"42\" x=\"552\" y=\"62\"/><text fill=\"#000000\" font-family=\"sans-serif\" font-size=\"12\" font-style=\"italic\" lengthAdjust=\"spacingAndGlyphs\" textLength=\"40\" x=\"553\" y=\"78.1387\">«part»</text><text fill=\"#000000\" font-family=\"sans-serif\" font-size=\"12\" lengthAdjust=\"spacingAndGlyphs\" textLength=\"24\" x=\"559\" y=\"92.1074\">b: P</text><line style=\"stroke: #383838; stroke-width: 1.5;\" x1=\"553\" x2=\"593\" y1=\"99.9375\" y2=\"99.9375\"/></a><!--MD5=[60a26617385b1d2d0262a64233df1f8d]\n",
       "class E6--><a href=\"psysml:619a7e97-bac6-4f1e-8369-8e8a5aa8da71\" target=\"_top\" title=\"psysml:619a7e97-bac6-4f1e-8369-8e8a5aa8da71\" xlink:actuate=\"onRequest\" xlink:href=\"psysml:619a7e97-bac6-4f1e-8369-8e8a5aa8da71\" xlink:show=\"new\" xlink:title=\"psysml:619a7e97-bac6-4f1e-8369-8e8a5aa8da71\" xlink:type=\"simple\"><rect fill=\"#FFFFFF\" height=\"45.9375\" id=\"E6\" rx=\"10\" ry=\"10\" style=\"stroke: #383838; stroke-width: 1.5;\" width=\"42\" x=\"475\" y=\"62\"/><text fill=\"#000000\" font-family=\"sans-serif\" font-size=\"12\" font-style=\"italic\" lengthAdjust=\"spacingAndGlyphs\" textLength=\"40\" x=\"476\" y=\"78.1387\">«part»</text><text fill=\"#000000\" font-family=\"sans-serif\" font-size=\"12\" lengthAdjust=\"spacingAndGlyphs\" textLength=\"23\" x=\"482.5\" y=\"92.1074\">c: P</text><line style=\"stroke: #383838; stroke-width: 1.5;\" x1=\"476\" x2=\"516\" y1=\"99.9375\" y2=\"99.9375\"/></a><!--MD5=[2156ba9850f5573cc1fc38a6a4b2f02b]\n",
       "class E7--><a href=\"psysml:baf82fce-ad86-47f7-be04-61d8ab51238a\" target=\"_top\" title=\"psysml:baf82fce-ad86-47f7-be04-61d8ab51238a\" xlink:actuate=\"onRequest\" xlink:href=\"psysml:baf82fce-ad86-47f7-be04-61d8ab51238a\" xlink:show=\"new\" xlink:title=\"psysml:baf82fce-ad86-47f7-be04-61d8ab51238a\" xlink:type=\"simple\"><rect fill=\"#FFFFFF\" height=\"45.9375\" id=\"E7\" rx=\"10\" ry=\"10\" style=\"stroke: #383838; stroke-width: 1.5;\" width=\"42\" x=\"398\" y=\"62\"/><text fill=\"#000000\" font-family=\"sans-serif\" font-size=\"12\" font-style=\"italic\" lengthAdjust=\"spacingAndGlyphs\" textLength=\"40\" x=\"399\" y=\"78.1387\">«part»</text><text fill=\"#000000\" font-family=\"sans-serif\" font-size=\"12\" lengthAdjust=\"spacingAndGlyphs\" textLength=\"8\" x=\"413\" y=\"92.1074\">d</text><line style=\"stroke: #383838; stroke-width: 1.5;\" x1=\"399\" x2=\"439\" y1=\"99.9375\" y2=\"99.9375\"/></a><!--MD5=[b9389687b975829384b498ac4b7476b2]\n",
       "class E8--><a href=\"psysml:602edda4-e9f7-4346-9e9a-bc1deb44a144\" target=\"_top\" title=\"psysml:602edda4-e9f7-4346-9e9a-bc1deb44a144\" xlink:actuate=\"onRequest\" xlink:href=\"psysml:602edda4-e9f7-4346-9e9a-bc1deb44a144\" xlink:show=\"new\" xlink:title=\"psysml:602edda4-e9f7-4346-9e9a-bc1deb44a144\" xlink:type=\"simple\"><rect fill=\"#FFFFFF\" height=\"45.9375\" id=\"E8\" rx=\"10\" ry=\"10\" style=\"stroke: #383838; stroke-width: 1.5;\" width=\"42\" x=\"321\" y=\"62\"/><text fill=\"#000000\" font-family=\"sans-serif\" font-size=\"12\" font-style=\"italic\" lengthAdjust=\"spacingAndGlyphs\" textLength=\"40\" x=\"322\" y=\"78.1387\">«part»</text><text fill=\"#000000\" font-family=\"sans-serif\" font-size=\"12\" lengthAdjust=\"spacingAndGlyphs\" textLength=\"8\" x=\"336\" y=\"92.1074\">e</text><line style=\"stroke: #383838; stroke-width: 1.5;\" x1=\"322\" x2=\"362\" y1=\"99.9375\" y2=\"99.9375\"/></a><!--MD5=[fd4143e9d270a159db93a4ea2a975926]\n",
       "class E9--><a href=\"psysml:ea99d53b-6b01-4b58-853a-79f827c6b1d7\" target=\"_top\" title=\"psysml:ea99d53b-6b01-4b58-853a-79f827c6b1d7\" xlink:actuate=\"onRequest\" xlink:href=\"psysml:ea99d53b-6b01-4b58-853a-79f827c6b1d7\" xlink:show=\"new\" xlink:title=\"psysml:ea99d53b-6b01-4b58-853a-79f827c6b1d7\" xlink:type=\"simple\"><rect fill=\"#FFFFFF\" height=\"45.9375\" id=\"E9\" rx=\"10\" ry=\"10\" style=\"stroke: #383838; stroke-width: 1.5;\" width=\"42\" x=\"244\" y=\"62\"/><text fill=\"#000000\" font-family=\"sans-serif\" font-size=\"12\" font-style=\"italic\" lengthAdjust=\"spacingAndGlyphs\" textLength=\"40\" x=\"245\" y=\"78.1387\">«part»</text><text fill=\"#000000\" font-family=\"sans-serif\" font-size=\"12\" lengthAdjust=\"spacingAndGlyphs\" textLength=\"4\" x=\"261\" y=\"92.1074\">f</text><line style=\"stroke: #383838; stroke-width: 1.5;\" x1=\"245\" x2=\"285\" y1=\"99.9375\" y2=\"99.9375\"/></a><!--MD5=[96f4274e9e20536e775497830990834d]\n",
       "class E10--><a href=\"psysml:7f8b6820-ebe3-4bcd-8be0-e5513e7bb89f\" target=\"_top\" title=\"psysml:7f8b6820-ebe3-4bcd-8be0-e5513e7bb89f\" xlink:actuate=\"onRequest\" xlink:href=\"psysml:7f8b6820-ebe3-4bcd-8be0-e5513e7bb89f\" xlink:show=\"new\" xlink:title=\"psysml:7f8b6820-ebe3-4bcd-8be0-e5513e7bb89f\" xlink:type=\"simple\"><rect fill=\"#FFFFFF\" height=\"45.9375\" id=\"E10\" rx=\"10\" ry=\"10\" style=\"stroke: #383838; stroke-width: 1.5;\" width=\"42\" x=\"167\" y=\"62\"/><text fill=\"#000000\" font-family=\"sans-serif\" font-size=\"12\" font-style=\"italic\" lengthAdjust=\"spacingAndGlyphs\" textLength=\"40\" x=\"168\" y=\"78.1387\">«part»</text><text fill=\"#000000\" font-family=\"sans-serif\" font-size=\"12\" lengthAdjust=\"spacingAndGlyphs\" textLength=\"8\" x=\"182\" y=\"92.1074\">g</text><line style=\"stroke: #383838; stroke-width: 1.5;\" x1=\"168\" x2=\"208\" y1=\"99.9375\" y2=\"99.9375\"/></a><!--MD5=[1dd1bfd58a279cf63c5f349dbc8fc6a1]\n",
       "class E11--><a href=\"psysml:b98160f9-962b-4166-b8bf-1b8817b6e181\" target=\"_top\" title=\"psysml:b98160f9-962b-4166-b8bf-1b8817b6e181\" xlink:actuate=\"onRequest\" xlink:href=\"psysml:b98160f9-962b-4166-b8bf-1b8817b6e181\" xlink:show=\"new\" xlink:title=\"psysml:b98160f9-962b-4166-b8bf-1b8817b6e181\" xlink:type=\"simple\"><rect fill=\"#FFFFFF\" height=\"88.3516\" id=\"E11\" style=\"stroke: #383838; stroke-width: 1.5;\" width=\"99\" x=\"32.5\" y=\"41\"/><text fill=\"#000000\" font-family=\"sans-serif\" font-size=\"12\" font-style=\"italic\" lengthAdjust=\"spacingAndGlyphs\" textLength=\"97\" x=\"33.5\" y=\"57.1387\">«attribute  def»</text><text fill=\"#000000\" font-family=\"sans-serif\" font-size=\"12\" lengthAdjust=\"spacingAndGlyphs\" textLength=\"8\" x=\"78\" y=\"71.1074\">A</text><line style=\"stroke: #383838; stroke-width: 1.5;\" x1=\"33.5\" x2=\"130.5\" y1=\"78.9375\" y2=\"78.9375\"/><text fill=\"#000000\" font-family=\"sans-serif\" font-size=\"11\" lengthAdjust=\"spacingAndGlyphs\" textLength=\"51\" x=\"38.5\" y=\"109.9526\">i: Integer</text><text fill=\"#000000\" font-family=\"sans-serif\" font-size=\"11\" lengthAdjust=\"spacingAndGlyphs\" textLength=\"21\" x=\"38.5\" y=\"122.7573\">x: A</text><line style=\"stroke: #383838; stroke-width: 1.0;\" x1=\"33.5\" x2=\"54.5\" y1=\"93.3398\" y2=\"93.3398\"/><text fill=\"#000000\" font-family=\"sans-serif\" font-size=\"11\" lengthAdjust=\"spacingAndGlyphs\" textLength=\"55\" x=\"54.5\" y=\"96.6479\">attributes</text><line style=\"stroke: #383838; stroke-width: 1.0;\" x1=\"109.5\" x2=\"130.5\" y1=\"93.3398\" y2=\"93.3398\"/></a><!--MD5=[15ebcb19ae302d9b601edb458606d402]\n",
       "link E5 to E2--><a href=\"psysml:f465fece-be6c-4a0b-8b87-5b67ed75d8f8\" target=\"_top\" title=\"psysml:f465fece-be6c-4a0b-8b87-5b67ed75d8f8\" xlink:actuate=\"onRequest\" xlink:href=\"psysml:f465fece-be6c-4a0b-8b87-5b67ed75d8f8\" xlink:show=\"new\" xlink:title=\"psysml:f465fece-be6c-4a0b-8b87-5b67ed75d8f8\" xlink:type=\"simple\"><path d=\"M566.12,108.06 C560.83,125 553.38,148.89 546.98,169.39 \" fill=\"none\" id=\"E5-&gt;E2\" style=\"stroke: #383838; stroke-width: 1.0;\"/><polygon fill=\"#FFFFFF\" points=\"540.95,188.74,539.929,168.5173,553.2931,172.6886,540.95,188.74\" style=\"stroke: #383838; stroke-width: 1.0;\"/><ellipse cx=\"543.5364\" cy=\"163.6721\" fill=\"#383838\" rx=\"2\" ry=\"2\" style=\"stroke: #383838; stroke-width: 1.0;\"/><ellipse cx=\"553.0823\" cy=\"166.6516\" fill=\"#383838\" rx=\"2\" ry=\"2\" style=\"stroke: #383838; stroke-width: 1.0;\"/></a><!--MD5=[2351f337d6de0f557b50152ba70847b5]\n",
       "link E6 to E2--><a href=\"psysml:72e02ffe-11ce-46be-a503-0c91c54548ee\" target=\"_top\" title=\"psysml:72e02ffe-11ce-46be-a503-0c91c54548ee\" xlink:actuate=\"onRequest\" xlink:href=\"psysml:72e02ffe-11ce-46be-a503-0c91c54548ee\" xlink:show=\"new\" xlink:title=\"psysml:72e02ffe-11ce-46be-a503-0c91c54548ee\" xlink:type=\"simple\"><path d=\"M502.71,108.06 C507.86,125 515.12,148.89 521.35,169.39 \" fill=\"none\" id=\"E6-&gt;E2\" style=\"stroke: #383838; stroke-width: 1.0;\"/><polygon fill=\"#FFFFFF\" points=\"527.23,188.74,515.007,172.597,528.4019,168.5255,527.23,188.74\" style=\"stroke: #383838; stroke-width: 1.0;\"/><ellipse cx=\"515.2628\" cy=\"166.5617\" fill=\"#383838\" rx=\"2\" ry=\"2\" style=\"stroke: #383838; stroke-width: 1.0;\"/><ellipse cx=\"524.8306\" cy=\"163.6535\" fill=\"#383838\" rx=\"2\" ry=\"2\" style=\"stroke: #383838; stroke-width: 1.0;\"/></a><!--MD5=[2b72ea5b070663fd024480422a6daad6]\n",
       "@startuml\r\n",
       "skinparam monochrome true\r\n",
       "skinparam classbackgroundcolor white\r\n",
       "skinparam shadowing false\r\n",
       "skinparam wrapWidth 300\r\n",
       "hide circle\r\n",
       "\r\n",
       "package \"MultiplicityTest\" as E1  [[psysml:437e1e49-e6a3-4f3e-be27-b1e07120749d ]]  {\r\n",
       "comp def \"P\" as E2  <<(T,blue) part  def>> [[psysml:d60dc8a9-ee87-4177-8909-4fd780a9d8f8 ]] {\r\n",
       "}\r\n",
       "comp usage \"n: Integer \" as E3  <<(T,blue) attribute>> [[psysml:a5340f1d-d68a-4585-8f96-7305e6f489d2 ]] {\r\n",
       "}\r\n",
       "comp usage \"a \" as E4  <<(T,blue) part>> [[psysml:478d9241-8f6e-4034-a71b-67b7ef5acdce ]] {\r\n",
       "}\r\n",
       "comp usage \"b: P \" as E5  <<(T,blue) part>> [[psysml:bc94da79-c19f-4e44-8720-527e565e90dd ]] {\r\n",
       "}\r\n",
       "comp usage \"c: P \" as E6  <<(T,blue) part>> [[psysml:619a7e97-bac6-4f1e-8369-8e8a5aa8da71 ]] {\r\n",
       "}\r\n",
       "comp usage \"d \" as E7  <<(T,blue) part>> [[psysml:baf82fce-ad86-47f7-be04-61d8ab51238a ]] {\r\n",
       "}\r\n",
       "comp usage \"e \" as E8  <<(T,blue) part>> [[psysml:602edda4-e9f7-4346-9e9a-bc1deb44a144 ]] {\r\n",
       "}\r\n",
       "comp usage \"f \" as E9  <<(T,blue) part>> [[psysml:ea99d53b-6b01-4b58-853a-79f827c6b1d7 ]] {\r\n",
       "}\r\n",
       "comp usage \"g \" as E10  <<(T,blue) part>> [[psysml:7f8b6820-ebe3-4bcd-8be0-e5513e7bb89f ]] {\r\n",
       "}\r\n",
       "comp def \"A\" as E11  <<(T,blue) attribute  def>> [[psysml:b98160f9-962b-4166-b8bf-1b8817b6e181 ]] {\r\n",
       "- - attributes - -\r\n",
       "i: Integer\r\n",
       "x: A\r\n",
       "}\r\n",
       "}\r\n",
       "E5 - -:|> E2 [[psysml:f465fece-be6c-4a0b-8b87-5b67ed75d8f8 ]] \r\n",
       "E6 - -:|> E2 [[psysml:72e02ffe-11ce-46be-a503-0c91c54548ee ]] \r\n",
       "@enduml\r\n",
       "\n",
       "PlantUML version 1.2020.13(Sat Jun 13 12:26:38 UTC 2020)\n",
       "(EPL source distribution)\n",
       "Java Runtime: OpenJDK Runtime Environment\n",
       "JVM: OpenJDK 64-Bit Server VM\n",
       "Default Encoding: UTF-8\n",
       "Language: en\n",
       "Country: null\n",
       "--></g></svg>"
      ]
     },
     "execution_count": 37,
     "metadata": {},
     "output_type": "execute_result"
    }
   ],
   "source": [
    "%viz --style=\"DEFAULT\" --view=\"Default\" \"MultiplicityTest\""
   ]
  },
  {
   "cell_type": "code",
   "execution_count": 38,
   "id": "79f1fe1a",
   "metadata": {
    "execution": {
     "iopub.execute_input": "2022-03-03T09:58:31.675051Z",
     "iopub.status.busy": "2022-03-03T09:58:31.674631Z",
     "iopub.status.idle": "2022-03-03T09:58:31.739239Z",
     "shell.execute_reply": "2022-03-03T09:58:31.738882Z"
    }
   },
   "outputs": [
    {
     "data": {
      "image/svg+xml": [
       "<?xml version=\"1.0\" encoding=\"UTF-8\" standalone=\"no\"?><svg xmlns=\"http://www.w3.org/2000/svg\" xmlns:xlink=\"http://www.w3.org/1999/xlink\" contentScriptType=\"application/ecmascript\" contentStyleType=\"text/css\" height=\"263px\" preserveAspectRatio=\"none\" style=\"width:816px;height:263px;\" version=\"1.1\" viewBox=\"0 0 816 263\" width=\"816px\" zoomAndPan=\"magnify\"><defs/><g><!--MD5=[fbc87193dbaf4d95561dea2c320d4a47]\n",
       "cluster E1--><a href=\"psysml:437e1e49-e6a3-4f3e-be27-b1e07120749d\" target=\"_top\" title=\"psysml:437e1e49-e6a3-4f3e-be27-b1e07120749d\" xlink:actuate=\"onRequest\" xlink:href=\"psysml:437e1e49-e6a3-4f3e-be27-b1e07120749d\" xlink:show=\"new\" xlink:title=\"psysml:437e1e49-e6a3-4f3e-be27-b1e07120749d\" xlink:type=\"simple\"><polygon fill=\"#FFFFFF\" points=\"16,6,123,6,130,28.2969,794,28.2969,794,251,16,251,16,6\" style=\"stroke: #000000; stroke-width: 1.5;\"/><line style=\"stroke: #000000; stroke-width: 1.5;\" x1=\"16\" x2=\"130\" y1=\"28.2969\" y2=\"28.2969\"/><text fill=\"#000000\" font-family=\"sans-serif\" font-size=\"14\" font-weight=\"bold\" lengthAdjust=\"spacingAndGlyphs\" textLength=\"101\" x=\"20\" y=\"20.9951\">MultiplicityTest</text></a><!--MD5=[b4997ac47864f28c2f74865a473b2911]\n",
       "class E2--><a href=\"psysml:d60dc8a9-ee87-4177-8909-4fd780a9d8f8\" target=\"_top\" title=\"psysml:d60dc8a9-ee87-4177-8909-4fd780a9d8f8\" xlink:actuate=\"onRequest\" xlink:href=\"psysml:d60dc8a9-ee87-4177-8909-4fd780a9d8f8\" xlink:show=\"new\" xlink:title=\"psysml:d60dc8a9-ee87-4177-8909-4fd780a9d8f8\" xlink:type=\"simple\"><rect fill=\"#FFFFFF\" height=\"45.9375\" id=\"E2\" style=\"stroke: #383838; stroke-width: 1.5;\" width=\"70\" x=\"499\" y=\"189\"/><text fill=\"#000000\" font-family=\"sans-serif\" font-size=\"12\" font-style=\"italic\" lengthAdjust=\"spacingAndGlyphs\" textLength=\"68\" x=\"500\" y=\"205.1387\">«part  def»</text><text fill=\"#000000\" font-family=\"sans-serif\" font-size=\"12\" lengthAdjust=\"spacingAndGlyphs\" textLength=\"8\" x=\"530\" y=\"219.1074\">P</text><line style=\"stroke: #383838; stroke-width: 1.5;\" x1=\"500\" x2=\"568\" y1=\"226.9375\" y2=\"226.9375\"/></a><!--MD5=[09b614a08d8cba4a07c9adeb5e0fee81]\n",
       "class E3--><a href=\"psysml:a5340f1d-d68a-4585-8f96-7305e6f489d2\" target=\"_top\" title=\"psysml:a5340f1d-d68a-4585-8f96-7305e6f489d2\" xlink:actuate=\"onRequest\" xlink:href=\"psysml:a5340f1d-d68a-4585-8f96-7305e6f489d2\" xlink:show=\"new\" xlink:title=\"psysml:a5340f1d-d68a-4585-8f96-7305e6f489d2\" xlink:type=\"simple\"><rect fill=\"#FFFFFF\" height=\"45.9375\" id=\"E3\" rx=\"10\" ry=\"10\" style=\"stroke: #383838; stroke-width: 1.5;\" width=\"71\" x=\"706.5\" y=\"62\"/><text fill=\"#000000\" font-family=\"sans-serif\" font-size=\"12\" font-style=\"italic\" lengthAdjust=\"spacingAndGlyphs\" textLength=\"69\" x=\"707.5\" y=\"78.1387\">«attribute»</text><text fill=\"#000000\" font-family=\"sans-serif\" font-size=\"12\" lengthAdjust=\"spacingAndGlyphs\" textLength=\"61\" x=\"709.5\" y=\"92.1074\">n: Integer</text><line style=\"stroke: #383838; stroke-width: 1.5;\" x1=\"707.5\" x2=\"776.5\" y1=\"99.9375\" y2=\"99.9375\"/></a><!--MD5=[ebbe1d658d1005bcc118a6aa81145e00]\n",
       "class E4--><a href=\"psysml:478d9241-8f6e-4034-a71b-67b7ef5acdce\" target=\"_top\" title=\"psysml:478d9241-8f6e-4034-a71b-67b7ef5acdce\" xlink:actuate=\"onRequest\" xlink:href=\"psysml:478d9241-8f6e-4034-a71b-67b7ef5acdce\" xlink:show=\"new\" xlink:title=\"psysml:478d9241-8f6e-4034-a71b-67b7ef5acdce\" xlink:type=\"simple\"><rect fill=\"#FFFFFF\" height=\"45.9375\" id=\"E4\" rx=\"10\" ry=\"10\" style=\"stroke: #383838; stroke-width: 1.5;\" width=\"42\" x=\"629\" y=\"62\"/><text fill=\"#000000\" font-family=\"sans-serif\" font-size=\"12\" font-style=\"italic\" lengthAdjust=\"spacingAndGlyphs\" textLength=\"40\" x=\"630\" y=\"78.1387\">«part»</text><text fill=\"#000000\" font-family=\"sans-serif\" font-size=\"12\" lengthAdjust=\"spacingAndGlyphs\" textLength=\"8\" x=\"644\" y=\"92.1074\">a</text><line style=\"stroke: #383838; stroke-width: 1.5;\" x1=\"630\" x2=\"670\" y1=\"99.9375\" y2=\"99.9375\"/></a><!--MD5=[270fce915f116d4de14055a7c1d9a0f3]\n",
       "class E5--><a href=\"psysml:bc94da79-c19f-4e44-8720-527e565e90dd\" target=\"_top\" title=\"psysml:bc94da79-c19f-4e44-8720-527e565e90dd\" xlink:actuate=\"onRequest\" xlink:href=\"psysml:bc94da79-c19f-4e44-8720-527e565e90dd\" xlink:show=\"new\" xlink:title=\"psysml:bc94da79-c19f-4e44-8720-527e565e90dd\" xlink:type=\"simple\"><rect fill=\"#FFFFFF\" height=\"45.9375\" id=\"E5\" rx=\"10\" ry=\"10\" style=\"stroke: #383838; stroke-width: 1.5;\" width=\"42\" x=\"552\" y=\"62\"/><text fill=\"#000000\" font-family=\"sans-serif\" font-size=\"12\" font-style=\"italic\" lengthAdjust=\"spacingAndGlyphs\" textLength=\"40\" x=\"553\" y=\"78.1387\">«part»</text><text fill=\"#000000\" font-family=\"sans-serif\" font-size=\"12\" lengthAdjust=\"spacingAndGlyphs\" textLength=\"24\" x=\"559\" y=\"92.1074\">b: P</text><line style=\"stroke: #383838; stroke-width: 1.5;\" x1=\"553\" x2=\"593\" y1=\"99.9375\" y2=\"99.9375\"/></a><!--MD5=[60a26617385b1d2d0262a64233df1f8d]\n",
       "class E6--><a href=\"psysml:619a7e97-bac6-4f1e-8369-8e8a5aa8da71\" target=\"_top\" title=\"psysml:619a7e97-bac6-4f1e-8369-8e8a5aa8da71\" xlink:actuate=\"onRequest\" xlink:href=\"psysml:619a7e97-bac6-4f1e-8369-8e8a5aa8da71\" xlink:show=\"new\" xlink:title=\"psysml:619a7e97-bac6-4f1e-8369-8e8a5aa8da71\" xlink:type=\"simple\"><rect fill=\"#FFFFFF\" height=\"45.9375\" id=\"E6\" rx=\"10\" ry=\"10\" style=\"stroke: #383838; stroke-width: 1.5;\" width=\"42\" x=\"475\" y=\"62\"/><text fill=\"#000000\" font-family=\"sans-serif\" font-size=\"12\" font-style=\"italic\" lengthAdjust=\"spacingAndGlyphs\" textLength=\"40\" x=\"476\" y=\"78.1387\">«part»</text><text fill=\"#000000\" font-family=\"sans-serif\" font-size=\"12\" lengthAdjust=\"spacingAndGlyphs\" textLength=\"23\" x=\"482.5\" y=\"92.1074\">c: P</text><line style=\"stroke: #383838; stroke-width: 1.5;\" x1=\"476\" x2=\"516\" y1=\"99.9375\" y2=\"99.9375\"/></a><!--MD5=[2156ba9850f5573cc1fc38a6a4b2f02b]\n",
       "class E7--><a href=\"psysml:baf82fce-ad86-47f7-be04-61d8ab51238a\" target=\"_top\" title=\"psysml:baf82fce-ad86-47f7-be04-61d8ab51238a\" xlink:actuate=\"onRequest\" xlink:href=\"psysml:baf82fce-ad86-47f7-be04-61d8ab51238a\" xlink:show=\"new\" xlink:title=\"psysml:baf82fce-ad86-47f7-be04-61d8ab51238a\" xlink:type=\"simple\"><rect fill=\"#FFFFFF\" height=\"45.9375\" id=\"E7\" rx=\"10\" ry=\"10\" style=\"stroke: #383838; stroke-width: 1.5;\" width=\"42\" x=\"398\" y=\"62\"/><text fill=\"#000000\" font-family=\"sans-serif\" font-size=\"12\" font-style=\"italic\" lengthAdjust=\"spacingAndGlyphs\" textLength=\"40\" x=\"399\" y=\"78.1387\">«part»</text><text fill=\"#000000\" font-family=\"sans-serif\" font-size=\"12\" lengthAdjust=\"spacingAndGlyphs\" textLength=\"8\" x=\"413\" y=\"92.1074\">d</text><line style=\"stroke: #383838; stroke-width: 1.5;\" x1=\"399\" x2=\"439\" y1=\"99.9375\" y2=\"99.9375\"/></a><!--MD5=[b9389687b975829384b498ac4b7476b2]\n",
       "class E8--><a href=\"psysml:602edda4-e9f7-4346-9e9a-bc1deb44a144\" target=\"_top\" title=\"psysml:602edda4-e9f7-4346-9e9a-bc1deb44a144\" xlink:actuate=\"onRequest\" xlink:href=\"psysml:602edda4-e9f7-4346-9e9a-bc1deb44a144\" xlink:show=\"new\" xlink:title=\"psysml:602edda4-e9f7-4346-9e9a-bc1deb44a144\" xlink:type=\"simple\"><rect fill=\"#FFFFFF\" height=\"45.9375\" id=\"E8\" rx=\"10\" ry=\"10\" style=\"stroke: #383838; stroke-width: 1.5;\" width=\"42\" x=\"321\" y=\"62\"/><text fill=\"#000000\" font-family=\"sans-serif\" font-size=\"12\" font-style=\"italic\" lengthAdjust=\"spacingAndGlyphs\" textLength=\"40\" x=\"322\" y=\"78.1387\">«part»</text><text fill=\"#000000\" font-family=\"sans-serif\" font-size=\"12\" lengthAdjust=\"spacingAndGlyphs\" textLength=\"8\" x=\"336\" y=\"92.1074\">e</text><line style=\"stroke: #383838; stroke-width: 1.5;\" x1=\"322\" x2=\"362\" y1=\"99.9375\" y2=\"99.9375\"/></a><!--MD5=[fd4143e9d270a159db93a4ea2a975926]\n",
       "class E9--><a href=\"psysml:ea99d53b-6b01-4b58-853a-79f827c6b1d7\" target=\"_top\" title=\"psysml:ea99d53b-6b01-4b58-853a-79f827c6b1d7\" xlink:actuate=\"onRequest\" xlink:href=\"psysml:ea99d53b-6b01-4b58-853a-79f827c6b1d7\" xlink:show=\"new\" xlink:title=\"psysml:ea99d53b-6b01-4b58-853a-79f827c6b1d7\" xlink:type=\"simple\"><rect fill=\"#FFFFFF\" height=\"45.9375\" id=\"E9\" rx=\"10\" ry=\"10\" style=\"stroke: #383838; stroke-width: 1.5;\" width=\"42\" x=\"244\" y=\"62\"/><text fill=\"#000000\" font-family=\"sans-serif\" font-size=\"12\" font-style=\"italic\" lengthAdjust=\"spacingAndGlyphs\" textLength=\"40\" x=\"245\" y=\"78.1387\">«part»</text><text fill=\"#000000\" font-family=\"sans-serif\" font-size=\"12\" lengthAdjust=\"spacingAndGlyphs\" textLength=\"4\" x=\"261\" y=\"92.1074\">f</text><line style=\"stroke: #383838; stroke-width: 1.5;\" x1=\"245\" x2=\"285\" y1=\"99.9375\" y2=\"99.9375\"/></a><!--MD5=[96f4274e9e20536e775497830990834d]\n",
       "class E10--><a href=\"psysml:7f8b6820-ebe3-4bcd-8be0-e5513e7bb89f\" target=\"_top\" title=\"psysml:7f8b6820-ebe3-4bcd-8be0-e5513e7bb89f\" xlink:actuate=\"onRequest\" xlink:href=\"psysml:7f8b6820-ebe3-4bcd-8be0-e5513e7bb89f\" xlink:show=\"new\" xlink:title=\"psysml:7f8b6820-ebe3-4bcd-8be0-e5513e7bb89f\" xlink:type=\"simple\"><rect fill=\"#FFFFFF\" height=\"45.9375\" id=\"E10\" rx=\"10\" ry=\"10\" style=\"stroke: #383838; stroke-width: 1.5;\" width=\"42\" x=\"167\" y=\"62\"/><text fill=\"#000000\" font-family=\"sans-serif\" font-size=\"12\" font-style=\"italic\" lengthAdjust=\"spacingAndGlyphs\" textLength=\"40\" x=\"168\" y=\"78.1387\">«part»</text><text fill=\"#000000\" font-family=\"sans-serif\" font-size=\"12\" lengthAdjust=\"spacingAndGlyphs\" textLength=\"8\" x=\"182\" y=\"92.1074\">g</text><line style=\"stroke: #383838; stroke-width: 1.5;\" x1=\"168\" x2=\"208\" y1=\"99.9375\" y2=\"99.9375\"/></a><!--MD5=[1dd1bfd58a279cf63c5f349dbc8fc6a1]\n",
       "class E11--><a href=\"psysml:b98160f9-962b-4166-b8bf-1b8817b6e181\" target=\"_top\" title=\"psysml:b98160f9-962b-4166-b8bf-1b8817b6e181\" xlink:actuate=\"onRequest\" xlink:href=\"psysml:b98160f9-962b-4166-b8bf-1b8817b6e181\" xlink:show=\"new\" xlink:title=\"psysml:b98160f9-962b-4166-b8bf-1b8817b6e181\" xlink:type=\"simple\"><rect fill=\"#FFFFFF\" height=\"88.3516\" id=\"E11\" style=\"stroke: #383838; stroke-width: 1.5;\" width=\"99\" x=\"32.5\" y=\"41\"/><text fill=\"#000000\" font-family=\"sans-serif\" font-size=\"12\" font-style=\"italic\" lengthAdjust=\"spacingAndGlyphs\" textLength=\"97\" x=\"33.5\" y=\"57.1387\">«attribute  def»</text><text fill=\"#000000\" font-family=\"sans-serif\" font-size=\"12\" lengthAdjust=\"spacingAndGlyphs\" textLength=\"8\" x=\"78\" y=\"71.1074\">A</text><line style=\"stroke: #383838; stroke-width: 1.5;\" x1=\"33.5\" x2=\"130.5\" y1=\"78.9375\" y2=\"78.9375\"/><text fill=\"#000000\" font-family=\"sans-serif\" font-size=\"11\" lengthAdjust=\"spacingAndGlyphs\" textLength=\"51\" x=\"38.5\" y=\"109.9526\">i: Integer</text><text fill=\"#000000\" font-family=\"sans-serif\" font-size=\"11\" lengthAdjust=\"spacingAndGlyphs\" textLength=\"21\" x=\"38.5\" y=\"122.7573\">x: A</text><line style=\"stroke: #383838; stroke-width: 1.0;\" x1=\"33.5\" x2=\"54.5\" y1=\"93.3398\" y2=\"93.3398\"/><text fill=\"#000000\" font-family=\"sans-serif\" font-size=\"11\" lengthAdjust=\"spacingAndGlyphs\" textLength=\"55\" x=\"54.5\" y=\"96.6479\">attributes</text><line style=\"stroke: #383838; stroke-width: 1.0;\" x1=\"109.5\" x2=\"130.5\" y1=\"93.3398\" y2=\"93.3398\"/></a><!--MD5=[15ebcb19ae302d9b601edb458606d402]\n",
       "link E5 to E2--><a href=\"psysml:f465fece-be6c-4a0b-8b87-5b67ed75d8f8\" target=\"_top\" title=\"psysml:f465fece-be6c-4a0b-8b87-5b67ed75d8f8\" xlink:actuate=\"onRequest\" xlink:href=\"psysml:f465fece-be6c-4a0b-8b87-5b67ed75d8f8\" xlink:show=\"new\" xlink:title=\"psysml:f465fece-be6c-4a0b-8b87-5b67ed75d8f8\" xlink:type=\"simple\"><path d=\"M566.12,108.06 C560.83,125 553.38,148.89 546.98,169.39 \" fill=\"none\" id=\"E5-&gt;E2\" style=\"stroke: #383838; stroke-width: 1.0;\"/><polygon fill=\"#FFFFFF\" points=\"540.95,188.74,539.929,168.5173,553.2931,172.6886,540.95,188.74\" style=\"stroke: #383838; stroke-width: 1.0;\"/><ellipse cx=\"543.5364\" cy=\"163.6721\" fill=\"#383838\" rx=\"2\" ry=\"2\" style=\"stroke: #383838; stroke-width: 1.0;\"/><ellipse cx=\"553.0823\" cy=\"166.6516\" fill=\"#383838\" rx=\"2\" ry=\"2\" style=\"stroke: #383838; stroke-width: 1.0;\"/></a><!--MD5=[2351f337d6de0f557b50152ba70847b5]\n",
       "link E6 to E2--><a href=\"psysml:72e02ffe-11ce-46be-a503-0c91c54548ee\" target=\"_top\" title=\"psysml:72e02ffe-11ce-46be-a503-0c91c54548ee\" xlink:actuate=\"onRequest\" xlink:href=\"psysml:72e02ffe-11ce-46be-a503-0c91c54548ee\" xlink:show=\"new\" xlink:title=\"psysml:72e02ffe-11ce-46be-a503-0c91c54548ee\" xlink:type=\"simple\"><path d=\"M502.71,108.06 C507.86,125 515.12,148.89 521.35,169.39 \" fill=\"none\" id=\"E6-&gt;E2\" style=\"stroke: #383838; stroke-width: 1.0;\"/><polygon fill=\"#FFFFFF\" points=\"527.23,188.74,515.007,172.597,528.4019,168.5255,527.23,188.74\" style=\"stroke: #383838; stroke-width: 1.0;\"/><ellipse cx=\"515.2628\" cy=\"166.5617\" fill=\"#383838\" rx=\"2\" ry=\"2\" style=\"stroke: #383838; stroke-width: 1.0;\"/><ellipse cx=\"524.8306\" cy=\"163.6535\" fill=\"#383838\" rx=\"2\" ry=\"2\" style=\"stroke: #383838; stroke-width: 1.0;\"/></a><!--MD5=[2b72ea5b070663fd024480422a6daad6]\n",
       "@startuml\r\n",
       "skinparam monochrome true\r\n",
       "skinparam classbackgroundcolor white\r\n",
       "skinparam shadowing false\r\n",
       "skinparam wrapWidth 300\r\n",
       "hide circle\r\n",
       "\r\n",
       "package \"MultiplicityTest\" as E1  [[psysml:437e1e49-e6a3-4f3e-be27-b1e07120749d ]]  {\r\n",
       "comp def \"P\" as E2  <<(T,blue) part  def>> [[psysml:d60dc8a9-ee87-4177-8909-4fd780a9d8f8 ]] {\r\n",
       "}\r\n",
       "comp usage \"n: Integer \" as E3  <<(T,blue) attribute>> [[psysml:a5340f1d-d68a-4585-8f96-7305e6f489d2 ]] {\r\n",
       "}\r\n",
       "comp usage \"a \" as E4  <<(T,blue) part>> [[psysml:478d9241-8f6e-4034-a71b-67b7ef5acdce ]] {\r\n",
       "}\r\n",
       "comp usage \"b: P \" as E5  <<(T,blue) part>> [[psysml:bc94da79-c19f-4e44-8720-527e565e90dd ]] {\r\n",
       "}\r\n",
       "comp usage \"c: P \" as E6  <<(T,blue) part>> [[psysml:619a7e97-bac6-4f1e-8369-8e8a5aa8da71 ]] {\r\n",
       "}\r\n",
       "comp usage \"d \" as E7  <<(T,blue) part>> [[psysml:baf82fce-ad86-47f7-be04-61d8ab51238a ]] {\r\n",
       "}\r\n",
       "comp usage \"e \" as E8  <<(T,blue) part>> [[psysml:602edda4-e9f7-4346-9e9a-bc1deb44a144 ]] {\r\n",
       "}\r\n",
       "comp usage \"f \" as E9  <<(T,blue) part>> [[psysml:ea99d53b-6b01-4b58-853a-79f827c6b1d7 ]] {\r\n",
       "}\r\n",
       "comp usage \"g \" as E10  <<(T,blue) part>> [[psysml:7f8b6820-ebe3-4bcd-8be0-e5513e7bb89f ]] {\r\n",
       "}\r\n",
       "comp def \"A\" as E11  <<(T,blue) attribute  def>> [[psysml:b98160f9-962b-4166-b8bf-1b8817b6e181 ]] {\r\n",
       "- - attributes - -\r\n",
       "i: Integer\r\n",
       "x: A\r\n",
       "}\r\n",
       "}\r\n",
       "E5 - -:|> E2 [[psysml:f465fece-be6c-4a0b-8b87-5b67ed75d8f8 ]] \r\n",
       "E6 - -:|> E2 [[psysml:72e02ffe-11ce-46be-a503-0c91c54548ee ]] \r\n",
       "@enduml\r\n",
       "\n",
       "PlantUML version 1.2020.13(Sat Jun 13 12:26:38 UTC 2020)\n",
       "(EPL source distribution)\n",
       "Java Runtime: OpenJDK Runtime Environment\n",
       "JVM: OpenJDK 64-Bit Server VM\n",
       "Default Encoding: UTF-8\n",
       "Language: en\n",
       "Country: null\n",
       "--></g></svg>"
      ]
     },
     "execution_count": 38,
     "metadata": {},
     "output_type": "execute_result"
    }
   ],
   "source": [
    "%viz --style=\"DEFAULT\" --view=\"Tree\" \"MultiplicityTest\""
   ]
  },
  {
   "cell_type": "code",
   "execution_count": 39,
   "id": "5803a87b",
   "metadata": {
    "execution": {
     "iopub.execute_input": "2022-03-03T09:58:31.789069Z",
     "iopub.status.busy": "2022-03-03T09:58:31.788655Z",
     "iopub.status.idle": "2022-03-03T09:58:31.793263Z",
     "shell.execute_reply": "2022-03-03T09:58:31.792908Z"
    }
   },
   "outputs": [
    {
     "data": {
      "image/svg+xml": [
       "<?xml version=\"1.0\" encoding=\"UTF-8\" standalone=\"no\"?><svg xmlns=\"http://www.w3.org/2000/svg\" xmlns:xlink=\"http://www.w3.org/1999/xlink\" contentScriptType=\"application/ecmascript\" contentStyleType=\"text/css\" height=\"12px\" preserveAspectRatio=\"none\" style=\"width:12px;height:12px;\" version=\"1.1\" viewBox=\"0 0 12 12\" width=\"12px\" zoomAndPan=\"magnify\"><defs/><g><!--MD5=[c5f280e076d0d61ccf4b0f27871bda1d]\n",
       "@startuml\r\n",
       "skinparam monochrome true\r\n",
       "skinparam classbackgroundcolor white\r\n",
       "skinparam shadowing false\r\n",
       "skinparam wrapWidth 300\r\n",
       "hide circle\r\n",
       "\r\n",
       "@enduml\r\n",
       "\n",
       "PlantUML version 1.2020.13(Sat Jun 13 12:26:38 UTC 2020)\n",
       "(EPL source distribution)\n",
       "Java Runtime: OpenJDK Runtime Environment\n",
       "JVM: OpenJDK 64-Bit Server VM\n",
       "Default Encoding: UTF-8\n",
       "Language: en\n",
       "Country: null\n",
       "--></g></svg>"
      ]
     },
     "execution_count": 39,
     "metadata": {},
     "output_type": "execute_result"
    }
   ],
   "source": [
    "%viz --style=\"DEFAULT\" --view=\"State\" \"MultiplicityTest\""
   ]
  },
  {
   "cell_type": "code",
   "execution_count": 40,
   "id": "06f76e96",
   "metadata": {
    "execution": {
     "iopub.execute_input": "2022-03-03T09:58:31.843272Z",
     "iopub.status.busy": "2022-03-03T09:58:31.842858Z",
     "iopub.status.idle": "2022-03-03T09:58:31.874998Z",
     "shell.execute_reply": "2022-03-03T09:58:31.874470Z"
    }
   },
   "outputs": [
    {
     "data": {
      "image/svg+xml": [
       "<?xml version=\"1.0\" encoding=\"UTF-8\" standalone=\"no\"?><svg xmlns=\"http://www.w3.org/2000/svg\" xmlns:xlink=\"http://www.w3.org/1999/xlink\" contentScriptType=\"application/ecmascript\" contentStyleType=\"text/css\" height=\"115px\" preserveAspectRatio=\"none\" style=\"width:987px;height:115px;\" version=\"1.1\" viewBox=\"0 0 987 115\" width=\"987px\" zoomAndPan=\"magnify\"><defs/><g><!--MD5=[fbc87193dbaf4d95561dea2c320d4a47]\n",
       "cluster E1--><a href=\"psysml:437e1e49-e6a3-4f3e-be27-b1e07120749d\" target=\"_top\" title=\"psysml:437e1e49-e6a3-4f3e-be27-b1e07120749d\" xlink:actuate=\"onRequest\" xlink:href=\"psysml:437e1e49-e6a3-4f3e-be27-b1e07120749d\" xlink:show=\"new\" xlink:title=\"psysml:437e1e49-e6a3-4f3e-be27-b1e07120749d\" xlink:type=\"simple\"><polygon fill=\"#FFFFFF\" points=\"16,6,123,6,130,28.2969,965,28.2969,965,103,16,103,16,6\" style=\"stroke: #000000; stroke-width: 1.5;\"/><line style=\"stroke: #000000; stroke-width: 1.5;\" x1=\"16\" x2=\"130\" y1=\"28.2969\" y2=\"28.2969\"/><text fill=\"#000000\" font-family=\"sans-serif\" font-size=\"14\" font-weight=\"bold\" lengthAdjust=\"spacingAndGlyphs\" textLength=\"101\" x=\"20\" y=\"20.9951\">MultiplicityTest</text></a><!--MD5=[09b614a08d8cba4a07c9adeb5e0fee81]\n",
       "class E3--><a href=\"psysml:a5340f1d-d68a-4585-8f96-7305e6f489d2\" target=\"_top\" title=\"psysml:a5340f1d-d68a-4585-8f96-7305e6f489d2\" xlink:actuate=\"onRequest\" xlink:href=\"psysml:a5340f1d-d68a-4585-8f96-7305e6f489d2\" xlink:show=\"new\" xlink:title=\"psysml:a5340f1d-d68a-4585-8f96-7305e6f489d2\" xlink:type=\"simple\"><rect fill=\"#FFFFFF\" height=\"45.9375\" id=\"E3\" rx=\"10\" ry=\"10\" style=\"stroke: #383838; stroke-width: 1.5;\" width=\"71\" x=\"877.5\" y=\"41\"/><text fill=\"#000000\" font-family=\"sans-serif\" font-size=\"12\" font-style=\"italic\" lengthAdjust=\"spacingAndGlyphs\" textLength=\"69\" x=\"878.5\" y=\"57.1387\">«attribute»</text><text fill=\"#000000\" font-family=\"sans-serif\" font-size=\"12\" lengthAdjust=\"spacingAndGlyphs\" textLength=\"61\" x=\"880.5\" y=\"71.1074\">n: Integer</text><line style=\"stroke: #383838; stroke-width: 1.5;\" x1=\"878.5\" x2=\"947.5\" y1=\"78.9375\" y2=\"78.9375\"/></a><g id=\"E1.E11\"><a href=\"psysml:b98160f9-962b-4166-b8bf-1b8817b6e181\" target=\"_top\" title=\"psysml:b98160f9-962b-4166-b8bf-1b8817b6e181\" xlink:actuate=\"onRequest\" xlink:href=\"psysml:b98160f9-962b-4166-b8bf-1b8817b6e181\" xlink:show=\"new\" xlink:title=\"psysml:b98160f9-962b-4166-b8bf-1b8817b6e181\" xlink:type=\"simple\"><rect fill=\"#FFFFFF\" height=\"42.9375\" id=\"E11\" style=\"stroke: #383838; stroke-width: 1.5;\" width=\"104\" x=\"738\" y=\"42.5\"/><rect fill=\"#F8F8F8\" height=\"37.9375\" style=\"stroke: #383838; stroke-width: 1.5;\" width=\"104\" x=\"738\" y=\"42.5\"/><text fill=\"#000000\" font-family=\"sans-serif\" font-size=\"12\" font-style=\"italic\" lengthAdjust=\"spacingAndGlyphs\" textLength=\"97\" x=\"741.5\" y=\"58.6387\">«attribute  def»</text><text fill=\"#000000\" font-family=\"sans-serif\" font-size=\"12\" lengthAdjust=\"spacingAndGlyphs\" textLength=\"8\" x=\"786\" y=\"72.6074\">A</text></a></g><g id=\"E1.E2\"><a href=\"psysml:d60dc8a9-ee87-4177-8909-4fd780a9d8f8\" target=\"_top\" title=\"psysml:d60dc8a9-ee87-4177-8909-4fd780a9d8f8\" xlink:actuate=\"onRequest\" xlink:href=\"psysml:d60dc8a9-ee87-4177-8909-4fd780a9d8f8\" xlink:show=\"new\" xlink:title=\"psysml:d60dc8a9-ee87-4177-8909-4fd780a9d8f8\" xlink:type=\"simple\"><rect fill=\"#FFFFFF\" height=\"42.9375\" id=\"E2\" style=\"stroke: #383838; stroke-width: 1.5;\" width=\"75\" x=\"627.5\" y=\"42.5\"/><rect fill=\"#F8F8F8\" height=\"37.9375\" style=\"stroke: #383838; stroke-width: 1.5;\" width=\"75\" x=\"627.5\" y=\"42.5\"/><text fill=\"#000000\" font-family=\"sans-serif\" font-size=\"12\" font-style=\"italic\" lengthAdjust=\"spacingAndGlyphs\" textLength=\"68\" x=\"631\" y=\"58.6387\">«part  def»</text><text fill=\"#000000\" font-family=\"sans-serif\" font-size=\"12\" lengthAdjust=\"spacingAndGlyphs\" textLength=\"8\" x=\"661\" y=\"72.6074\">P</text></a></g><g id=\"E1.E4\"><a href=\"psysml:478d9241-8f6e-4034-a71b-67b7ef5acdce\" target=\"_top\" title=\"psysml:478d9241-8f6e-4034-a71b-67b7ef5acdce\" xlink:actuate=\"onRequest\" xlink:href=\"psysml:478d9241-8f6e-4034-a71b-67b7ef5acdce\" xlink:show=\"new\" xlink:title=\"psysml:478d9241-8f6e-4034-a71b-67b7ef5acdce\" xlink:type=\"simple\"><rect fill=\"#FFFFFF\" height=\"40\" id=\"E4\" rx=\"10\" ry=\"10\" style=\"stroke: #383838; stroke-width: 1.5;\" width=\"50\" x=\"542\" y=\"44\"/><rect fill=\"#F8F8F8\" height=\"23.9688\" rx=\"10\" ry=\"10\" style=\"stroke: #F8F8F8; stroke-width: 1.5;\" width=\"50\" x=\"542\" y=\"44\"/><rect fill=\"#F8F8F8\" height=\"10\" style=\"stroke: #F8F8F8; stroke-width: 1.5;\" width=\"50\" x=\"542\" y=\"57.9688\"/><rect fill=\"none\" height=\"40\" id=\"E4\" rx=\"10\" ry=\"10\" style=\"stroke: #383838; stroke-width: 1.5;\" width=\"50\" x=\"542\" y=\"44\"/><text fill=\"#000000\" font-family=\"sans-serif\" font-size=\"12\" lengthAdjust=\"spacingAndGlyphs\" textLength=\"8\" x=\"563\" y=\"60.1387\">a</text></a></g><g id=\"E1.E5\"><a href=\"psysml:bc94da79-c19f-4e44-8720-527e565e90dd\" target=\"_top\" title=\"psysml:bc94da79-c19f-4e44-8720-527e565e90dd\" xlink:actuate=\"onRequest\" xlink:href=\"psysml:bc94da79-c19f-4e44-8720-527e565e90dd\" xlink:show=\"new\" xlink:title=\"psysml:bc94da79-c19f-4e44-8720-527e565e90dd\" xlink:type=\"simple\"><rect fill=\"#FFFFFF\" height=\"40\" id=\"E5\" rx=\"10\" ry=\"10\" style=\"stroke: #383838; stroke-width: 1.5;\" width=\"50\" x=\"457\" y=\"44\"/><rect fill=\"#F8F8F8\" height=\"23.9688\" rx=\"10\" ry=\"10\" style=\"stroke: #F8F8F8; stroke-width: 1.5;\" width=\"50\" x=\"457\" y=\"44\"/><rect fill=\"#F8F8F8\" height=\"10\" style=\"stroke: #F8F8F8; stroke-width: 1.5;\" width=\"50\" x=\"457\" y=\"57.9688\"/><rect fill=\"none\" height=\"40\" id=\"E5\" rx=\"10\" ry=\"10\" style=\"stroke: #383838; stroke-width: 1.5;\" width=\"50\" x=\"457\" y=\"44\"/><text fill=\"#000000\" font-family=\"sans-serif\" font-size=\"12\" lengthAdjust=\"spacingAndGlyphs\" textLength=\"24\" x=\"470\" y=\"60.1387\">b: P</text></a></g><g id=\"E1.E6\"><a href=\"psysml:619a7e97-bac6-4f1e-8369-8e8a5aa8da71\" target=\"_top\" title=\"psysml:619a7e97-bac6-4f1e-8369-8e8a5aa8da71\" xlink:actuate=\"onRequest\" xlink:href=\"psysml:619a7e97-bac6-4f1e-8369-8e8a5aa8da71\" xlink:show=\"new\" xlink:title=\"psysml:619a7e97-bac6-4f1e-8369-8e8a5aa8da71\" xlink:type=\"simple\"><rect fill=\"#FFFFFF\" height=\"40\" id=\"E6\" rx=\"10\" ry=\"10\" style=\"stroke: #383838; stroke-width: 1.5;\" width=\"50\" x=\"372\" y=\"44\"/><rect fill=\"#F8F8F8\" height=\"23.9688\" rx=\"10\" ry=\"10\" style=\"stroke: #F8F8F8; stroke-width: 1.5;\" width=\"50\" x=\"372\" y=\"44\"/><rect fill=\"#F8F8F8\" height=\"10\" style=\"stroke: #F8F8F8; stroke-width: 1.5;\" width=\"50\" x=\"372\" y=\"57.9688\"/><rect fill=\"none\" height=\"40\" id=\"E6\" rx=\"10\" ry=\"10\" style=\"stroke: #383838; stroke-width: 1.5;\" width=\"50\" x=\"372\" y=\"44\"/><text fill=\"#000000\" font-family=\"sans-serif\" font-size=\"12\" lengthAdjust=\"spacingAndGlyphs\" textLength=\"23\" x=\"385.5\" y=\"60.1387\">c: P</text></a></g><g id=\"E1.E7\"><a href=\"psysml:baf82fce-ad86-47f7-be04-61d8ab51238a\" target=\"_top\" title=\"psysml:baf82fce-ad86-47f7-be04-61d8ab51238a\" xlink:actuate=\"onRequest\" xlink:href=\"psysml:baf82fce-ad86-47f7-be04-61d8ab51238a\" xlink:show=\"new\" xlink:title=\"psysml:baf82fce-ad86-47f7-be04-61d8ab51238a\" xlink:type=\"simple\"><rect fill=\"#FFFFFF\" height=\"40\" id=\"E7\" rx=\"10\" ry=\"10\" style=\"stroke: #383838; stroke-width: 1.5;\" width=\"50\" x=\"287\" y=\"44\"/><rect fill=\"#F8F8F8\" height=\"23.9688\" rx=\"10\" ry=\"10\" style=\"stroke: #F8F8F8; stroke-width: 1.5;\" width=\"50\" x=\"287\" y=\"44\"/><rect fill=\"#F8F8F8\" height=\"10\" style=\"stroke: #F8F8F8; stroke-width: 1.5;\" width=\"50\" x=\"287\" y=\"57.9688\"/><rect fill=\"none\" height=\"40\" id=\"E7\" rx=\"10\" ry=\"10\" style=\"stroke: #383838; stroke-width: 1.5;\" width=\"50\" x=\"287\" y=\"44\"/><text fill=\"#000000\" font-family=\"sans-serif\" font-size=\"12\" lengthAdjust=\"spacingAndGlyphs\" textLength=\"8\" x=\"308\" y=\"60.1387\">d</text></a></g><g id=\"E1.E8\"><a href=\"psysml:602edda4-e9f7-4346-9e9a-bc1deb44a144\" target=\"_top\" title=\"psysml:602edda4-e9f7-4346-9e9a-bc1deb44a144\" xlink:actuate=\"onRequest\" xlink:href=\"psysml:602edda4-e9f7-4346-9e9a-bc1deb44a144\" xlink:show=\"new\" xlink:title=\"psysml:602edda4-e9f7-4346-9e9a-bc1deb44a144\" xlink:type=\"simple\"><rect fill=\"#FFFFFF\" height=\"40\" id=\"E8\" rx=\"10\" ry=\"10\" style=\"stroke: #383838; stroke-width: 1.5;\" width=\"50\" x=\"202\" y=\"44\"/><rect fill=\"#F8F8F8\" height=\"23.9688\" rx=\"10\" ry=\"10\" style=\"stroke: #F8F8F8; stroke-width: 1.5;\" width=\"50\" x=\"202\" y=\"44\"/><rect fill=\"#F8F8F8\" height=\"10\" style=\"stroke: #F8F8F8; stroke-width: 1.5;\" width=\"50\" x=\"202\" y=\"57.9688\"/><rect fill=\"none\" height=\"40\" id=\"E8\" rx=\"10\" ry=\"10\" style=\"stroke: #383838; stroke-width: 1.5;\" width=\"50\" x=\"202\" y=\"44\"/><text fill=\"#000000\" font-family=\"sans-serif\" font-size=\"12\" lengthAdjust=\"spacingAndGlyphs\" textLength=\"8\" x=\"223\" y=\"60.1387\">e</text></a></g><g id=\"E1.E9\"><a href=\"psysml:ea99d53b-6b01-4b58-853a-79f827c6b1d7\" target=\"_top\" title=\"psysml:ea99d53b-6b01-4b58-853a-79f827c6b1d7\" xlink:actuate=\"onRequest\" xlink:href=\"psysml:ea99d53b-6b01-4b58-853a-79f827c6b1d7\" xlink:show=\"new\" xlink:title=\"psysml:ea99d53b-6b01-4b58-853a-79f827c6b1d7\" xlink:type=\"simple\"><rect fill=\"#FFFFFF\" height=\"40\" id=\"E9\" rx=\"10\" ry=\"10\" style=\"stroke: #383838; stroke-width: 1.5;\" width=\"50\" x=\"117\" y=\"44\"/><rect fill=\"#F8F8F8\" height=\"23.9688\" rx=\"10\" ry=\"10\" style=\"stroke: #F8F8F8; stroke-width: 1.5;\" width=\"50\" x=\"117\" y=\"44\"/><rect fill=\"#F8F8F8\" height=\"10\" style=\"stroke: #F8F8F8; stroke-width: 1.5;\" width=\"50\" x=\"117\" y=\"57.9688\"/><rect fill=\"none\" height=\"40\" id=\"E9\" rx=\"10\" ry=\"10\" style=\"stroke: #383838; stroke-width: 1.5;\" width=\"50\" x=\"117\" y=\"44\"/><text fill=\"#000000\" font-family=\"sans-serif\" font-size=\"12\" lengthAdjust=\"spacingAndGlyphs\" textLength=\"4\" x=\"140\" y=\"60.1387\">f</text></a></g><g id=\"E1.E10\"><a href=\"psysml:7f8b6820-ebe3-4bcd-8be0-e5513e7bb89f\" target=\"_top\" title=\"psysml:7f8b6820-ebe3-4bcd-8be0-e5513e7bb89f\" xlink:actuate=\"onRequest\" xlink:href=\"psysml:7f8b6820-ebe3-4bcd-8be0-e5513e7bb89f\" xlink:show=\"new\" xlink:title=\"psysml:7f8b6820-ebe3-4bcd-8be0-e5513e7bb89f\" xlink:type=\"simple\"><rect fill=\"#FFFFFF\" height=\"40\" id=\"E10\" rx=\"10\" ry=\"10\" style=\"stroke: #383838; stroke-width: 1.5;\" width=\"50\" x=\"32\" y=\"44\"/><rect fill=\"#F8F8F8\" height=\"23.9688\" rx=\"10\" ry=\"10\" style=\"stroke: #F8F8F8; stroke-width: 1.5;\" width=\"50\" x=\"32\" y=\"44\"/><rect fill=\"#F8F8F8\" height=\"10\" style=\"stroke: #F8F8F8; stroke-width: 1.5;\" width=\"50\" x=\"32\" y=\"57.9688\"/><rect fill=\"none\" height=\"40\" id=\"E10\" rx=\"10\" ry=\"10\" style=\"stroke: #383838; stroke-width: 1.5;\" width=\"50\" x=\"32\" y=\"44\"/><text fill=\"#000000\" font-family=\"sans-serif\" font-size=\"12\" lengthAdjust=\"spacingAndGlyphs\" textLength=\"8\" x=\"53\" y=\"60.1387\">g</text></a></g><!--MD5=[a0b3cb8ceac36d8e65e0ee91524ca189]\n",
       "@startuml\r\n",
       "skinparam ranksep 10\r\n",
       "skinparam rectangle {\r\n",
       " backgroundColor<<block>> LightGreen\r\n",
       "}\r\n",
       "skinparam monochrome true\r\n",
       "skinparam classbackgroundcolor white\r\n",
       "skinparam shadowing false\r\n",
       "skinparam wrapWidth 300\r\n",
       "hide circle\r\n",
       "\r\n",
       "package \"MultiplicityTest\" as E1  [[psysml:437e1e49-e6a3-4f3e-be27-b1e07120749d ]]  {\r\n",
       "rec def \"P\" as E2  <<(T,blue) part  def>> [[psysml:d60dc8a9-ee87-4177-8909-4fd780a9d8f8 ]] {\r\n",
       "}\r\n",
       "comp usage \"n: Integer \" as E3  <<(T,blue) attribute>> [[psysml:a5340f1d-d68a-4585-8f96-7305e6f489d2 ]] {\r\n",
       "}\r\n",
       "rec usage \"a\" as E4  [[psysml:478d9241-8f6e-4034-a71b-67b7ef5acdce ]] {\r\n",
       "}\r\n",
       "rec usage \"b: P\" as E5  [[psysml:bc94da79-c19f-4e44-8720-527e565e90dd ]] {\r\n",
       "}\r\n",
       "rec usage \"c: P\" as E6  [[psysml:619a7e97-bac6-4f1e-8369-8e8a5aa8da71 ]] {\r\n",
       "}\r\n",
       "rec usage \"d\" as E7  [[psysml:baf82fce-ad86-47f7-be04-61d8ab51238a ]] {\r\n",
       "}\r\n",
       "rec usage \"e\" as E8  [[psysml:602edda4-e9f7-4346-9e9a-bc1deb44a144 ]] {\r\n",
       "}\r\n",
       "rec usage \"f\" as E9  [[psysml:ea99d53b-6b01-4b58-853a-79f827c6b1d7 ]] {\r\n",
       "}\r\n",
       "rec usage \"g\" as E10  [[psysml:7f8b6820-ebe3-4bcd-8be0-e5513e7bb89f ]] {\r\n",
       "}\r\n",
       "def \"A\" as E11  <<(T,blue) attribute  def>> [[psysml:b98160f9-962b-4166-b8bf-1b8817b6e181 ]] \r\n",
       "}\r\n",
       "@enduml\r\n",
       "\n",
       "PlantUML version 1.2020.13(Sat Jun 13 12:26:38 UTC 2020)\n",
       "(EPL source distribution)\n",
       "Java Runtime: OpenJDK Runtime Environment\n",
       "JVM: OpenJDK 64-Bit Server VM\n",
       "Default Encoding: UTF-8\n",
       "Language: en\n",
       "Country: null\n",
       "--></g></svg>"
      ]
     },
     "execution_count": 40,
     "metadata": {},
     "output_type": "execute_result"
    }
   ],
   "source": [
    "%viz --style=\"DEFAULT\" --view=\"Interconnection\" \"MultiplicityTest\""
   ]
  },
  {
   "cell_type": "code",
   "execution_count": 41,
   "id": "3f4c76e5",
   "metadata": {
    "execution": {
     "iopub.execute_input": "2022-03-03T09:58:31.924469Z",
     "iopub.status.busy": "2022-03-03T09:58:31.923865Z",
     "iopub.status.idle": "2022-03-03T09:58:31.928657Z",
     "shell.execute_reply": "2022-03-03T09:58:31.928165Z"
    }
   },
   "outputs": [
    {
     "data": {
      "image/svg+xml": [
       "<?xml version=\"1.0\" encoding=\"UTF-8\" standalone=\"no\"?><svg xmlns=\"http://www.w3.org/2000/svg\" xmlns:xlink=\"http://www.w3.org/1999/xlink\" contentScriptType=\"application/ecmascript\" contentStyleType=\"text/css\" height=\"12px\" preserveAspectRatio=\"none\" style=\"width:12px;height:12px;\" version=\"1.1\" viewBox=\"0 0 12 12\" width=\"12px\" zoomAndPan=\"magnify\"><defs/><g><!--MD5=[388f21188e31bfdd97050473b19af356]\n",
       "@startuml\r\n",
       "skinparam ranksep 8\r\n",
       "skinparam monochrome true\r\n",
       "skinparam classbackgroundcolor white\r\n",
       "skinparam shadowing false\r\n",
       "skinparam wrapWidth 300\r\n",
       "hide circle\r\n",
       "\r\n",
       "@enduml\r\n",
       "\n",
       "PlantUML version 1.2020.13(Sat Jun 13 12:26:38 UTC 2020)\n",
       "(EPL source distribution)\n",
       "Java Runtime: OpenJDK Runtime Environment\n",
       "JVM: OpenJDK 64-Bit Server VM\n",
       "Default Encoding: UTF-8\n",
       "Language: en\n",
       "Country: null\n",
       "--></g></svg>"
      ]
     },
     "execution_count": 41,
     "metadata": {},
     "output_type": "execute_result"
    }
   ],
   "source": [
    "%viz --style=\"DEFAULT\" --view=\"Action\" \"MultiplicityTest\""
   ]
  },
  {
   "cell_type": "code",
   "execution_count": 42,
   "id": "1980309c",
   "metadata": {
    "execution": {
     "iopub.execute_input": "2022-03-03T09:58:31.978225Z",
     "iopub.status.busy": "2022-03-03T09:58:31.977790Z",
     "iopub.status.idle": "2022-03-03T09:58:31.982360Z",
     "shell.execute_reply": "2022-03-03T09:58:31.981991Z"
    }
   },
   "outputs": [
    {
     "data": {
      "image/svg+xml": [
       "<?xml version=\"1.0\" encoding=\"UTF-8\" standalone=\"no\"?><svg xmlns=\"http://www.w3.org/2000/svg\" xmlns:xlink=\"http://www.w3.org/1999/xlink\" contentScriptType=\"application/ecmascript\" contentStyleType=\"text/css\" height=\"12px\" preserveAspectRatio=\"none\" style=\"width:12px;height:12px;\" version=\"1.1\" viewBox=\"0 0 12 12\" width=\"12px\" zoomAndPan=\"magnify\"><defs/><g><!--MD5=[0b72472770326784bf6c2b53246e1e64]\n",
       "@startuml\r\n",
       "skinparam roundcorner 20\r\n",
       "skinparam BoxPadding 20\r\n",
       "skinparam SequenceBoxBackgroundColor #white\r\n",
       "skinparam style strictuml\r\n",
       "skinparam maxMessageSize 100\r\n",
       "skinparam monochrome true\r\n",
       "skinparam classbackgroundcolor white\r\n",
       "skinparam shadowing false\r\n",
       "skinparam wrapWidth 300\r\n",
       "hide circle\r\n",
       "\r\n",
       "@enduml\r\n",
       "\n",
       "PlantUML version 1.2020.13(Sat Jun 13 12:26:38 UTC 2020)\n",
       "(EPL source distribution)\n",
       "Java Runtime: OpenJDK Runtime Environment\n",
       "JVM: OpenJDK 64-Bit Server VM\n",
       "Default Encoding: UTF-8\n",
       "Language: en\n",
       "Country: null\n",
       "--></g></svg>"
      ]
     },
     "execution_count": 42,
     "metadata": {},
     "output_type": "execute_result"
    }
   ],
   "source": [
    "%viz --style=\"DEFAULT\" --view=\"Sequence\" \"MultiplicityTest\""
   ]
  },
  {
   "cell_type": "code",
   "execution_count": 43,
   "id": "57c02a61",
   "metadata": {
    "execution": {
     "iopub.execute_input": "2022-03-03T09:58:32.032368Z",
     "iopub.status.busy": "2022-03-03T09:58:32.031900Z",
     "iopub.status.idle": "2022-03-03T09:58:32.091540Z",
     "shell.execute_reply": "2022-03-03T09:58:32.091090Z"
    }
   },
   "outputs": [
    {
     "data": {
      "image/svg+xml": [
       "<?xml version=\"1.0\" encoding=\"UTF-8\" standalone=\"no\"?><svg xmlns=\"http://www.w3.org/2000/svg\" xmlns:xlink=\"http://www.w3.org/1999/xlink\" contentScriptType=\"application/ecmascript\" contentStyleType=\"text/css\" height=\"263px\" preserveAspectRatio=\"none\" style=\"width:816px;height:263px;\" version=\"1.1\" viewBox=\"0 0 816 263\" width=\"816px\" zoomAndPan=\"magnify\"><defs/><g><!--MD5=[fbc87193dbaf4d95561dea2c320d4a47]\n",
       "cluster E1--><a href=\"psysml:437e1e49-e6a3-4f3e-be27-b1e07120749d\" target=\"_top\" title=\"psysml:437e1e49-e6a3-4f3e-be27-b1e07120749d\" xlink:actuate=\"onRequest\" xlink:href=\"psysml:437e1e49-e6a3-4f3e-be27-b1e07120749d\" xlink:show=\"new\" xlink:title=\"psysml:437e1e49-e6a3-4f3e-be27-b1e07120749d\" xlink:type=\"simple\"><polygon fill=\"#FFFFFF\" points=\"16,6,123,6,130,28.2969,794,28.2969,794,251,16,251,16,6\" style=\"stroke: #000000; stroke-width: 1.5;\"/><line style=\"stroke: #000000; stroke-width: 1.5;\" x1=\"16\" x2=\"130\" y1=\"28.2969\" y2=\"28.2969\"/><text fill=\"#000000\" font-family=\"sans-serif\" font-size=\"14\" font-weight=\"bold\" lengthAdjust=\"spacingAndGlyphs\" textLength=\"101\" x=\"20\" y=\"20.9951\">MultiplicityTest</text></a><!--MD5=[b4997ac47864f28c2f74865a473b2911]\n",
       "class E2--><a href=\"psysml:d60dc8a9-ee87-4177-8909-4fd780a9d8f8\" target=\"_top\" title=\"psysml:d60dc8a9-ee87-4177-8909-4fd780a9d8f8\" xlink:actuate=\"onRequest\" xlink:href=\"psysml:d60dc8a9-ee87-4177-8909-4fd780a9d8f8\" xlink:show=\"new\" xlink:title=\"psysml:d60dc8a9-ee87-4177-8909-4fd780a9d8f8\" xlink:type=\"simple\"><rect fill=\"#FFFFFF\" height=\"45.9375\" id=\"E2\" style=\"stroke: #383838; stroke-width: 1.5;\" width=\"70\" x=\"499\" y=\"189\"/><text fill=\"#000000\" font-family=\"sans-serif\" font-size=\"12\" font-style=\"italic\" lengthAdjust=\"spacingAndGlyphs\" textLength=\"68\" x=\"500\" y=\"205.1387\">«part  def»</text><text fill=\"#000000\" font-family=\"sans-serif\" font-size=\"12\" lengthAdjust=\"spacingAndGlyphs\" textLength=\"8\" x=\"530\" y=\"219.1074\">P</text><line style=\"stroke: #383838; stroke-width: 1.5;\" x1=\"500\" x2=\"568\" y1=\"226.9375\" y2=\"226.9375\"/></a><!--MD5=[09b614a08d8cba4a07c9adeb5e0fee81]\n",
       "class E3--><a href=\"psysml:a5340f1d-d68a-4585-8f96-7305e6f489d2\" target=\"_top\" title=\"psysml:a5340f1d-d68a-4585-8f96-7305e6f489d2\" xlink:actuate=\"onRequest\" xlink:href=\"psysml:a5340f1d-d68a-4585-8f96-7305e6f489d2\" xlink:show=\"new\" xlink:title=\"psysml:a5340f1d-d68a-4585-8f96-7305e6f489d2\" xlink:type=\"simple\"><rect fill=\"#FFFFFF\" height=\"45.9375\" id=\"E3\" rx=\"10\" ry=\"10\" style=\"stroke: #383838; stroke-width: 1.5;\" width=\"71\" x=\"706.5\" y=\"62\"/><text fill=\"#000000\" font-family=\"sans-serif\" font-size=\"12\" font-style=\"italic\" lengthAdjust=\"spacingAndGlyphs\" textLength=\"69\" x=\"707.5\" y=\"78.1387\">«attribute»</text><text fill=\"#000000\" font-family=\"sans-serif\" font-size=\"12\" lengthAdjust=\"spacingAndGlyphs\" textLength=\"61\" x=\"709.5\" y=\"92.1074\">n: Integer</text><line style=\"stroke: #383838; stroke-width: 1.5;\" x1=\"707.5\" x2=\"776.5\" y1=\"99.9375\" y2=\"99.9375\"/></a><!--MD5=[ebbe1d658d1005bcc118a6aa81145e00]\n",
       "class E4--><a href=\"psysml:478d9241-8f6e-4034-a71b-67b7ef5acdce\" target=\"_top\" title=\"psysml:478d9241-8f6e-4034-a71b-67b7ef5acdce\" xlink:actuate=\"onRequest\" xlink:href=\"psysml:478d9241-8f6e-4034-a71b-67b7ef5acdce\" xlink:show=\"new\" xlink:title=\"psysml:478d9241-8f6e-4034-a71b-67b7ef5acdce\" xlink:type=\"simple\"><rect fill=\"#FFFFFF\" height=\"45.9375\" id=\"E4\" rx=\"10\" ry=\"10\" style=\"stroke: #383838; stroke-width: 1.5;\" width=\"42\" x=\"629\" y=\"62\"/><text fill=\"#000000\" font-family=\"sans-serif\" font-size=\"12\" font-style=\"italic\" lengthAdjust=\"spacingAndGlyphs\" textLength=\"40\" x=\"630\" y=\"78.1387\">«part»</text><text fill=\"#000000\" font-family=\"sans-serif\" font-size=\"12\" lengthAdjust=\"spacingAndGlyphs\" textLength=\"8\" x=\"644\" y=\"92.1074\">a</text><line style=\"stroke: #383838; stroke-width: 1.5;\" x1=\"630\" x2=\"670\" y1=\"99.9375\" y2=\"99.9375\"/></a><!--MD5=[270fce915f116d4de14055a7c1d9a0f3]\n",
       "class E5--><a href=\"psysml:bc94da79-c19f-4e44-8720-527e565e90dd\" target=\"_top\" title=\"psysml:bc94da79-c19f-4e44-8720-527e565e90dd\" xlink:actuate=\"onRequest\" xlink:href=\"psysml:bc94da79-c19f-4e44-8720-527e565e90dd\" xlink:show=\"new\" xlink:title=\"psysml:bc94da79-c19f-4e44-8720-527e565e90dd\" xlink:type=\"simple\"><rect fill=\"#FFFFFF\" height=\"45.9375\" id=\"E5\" rx=\"10\" ry=\"10\" style=\"stroke: #383838; stroke-width: 1.5;\" width=\"42\" x=\"552\" y=\"62\"/><text fill=\"#000000\" font-family=\"sans-serif\" font-size=\"12\" font-style=\"italic\" lengthAdjust=\"spacingAndGlyphs\" textLength=\"40\" x=\"553\" y=\"78.1387\">«part»</text><text fill=\"#000000\" font-family=\"sans-serif\" font-size=\"12\" lengthAdjust=\"spacingAndGlyphs\" textLength=\"24\" x=\"559\" y=\"92.1074\">b: P</text><line style=\"stroke: #383838; stroke-width: 1.5;\" x1=\"553\" x2=\"593\" y1=\"99.9375\" y2=\"99.9375\"/></a><!--MD5=[60a26617385b1d2d0262a64233df1f8d]\n",
       "class E6--><a href=\"psysml:619a7e97-bac6-4f1e-8369-8e8a5aa8da71\" target=\"_top\" title=\"psysml:619a7e97-bac6-4f1e-8369-8e8a5aa8da71\" xlink:actuate=\"onRequest\" xlink:href=\"psysml:619a7e97-bac6-4f1e-8369-8e8a5aa8da71\" xlink:show=\"new\" xlink:title=\"psysml:619a7e97-bac6-4f1e-8369-8e8a5aa8da71\" xlink:type=\"simple\"><rect fill=\"#FFFFFF\" height=\"45.9375\" id=\"E6\" rx=\"10\" ry=\"10\" style=\"stroke: #383838; stroke-width: 1.5;\" width=\"42\" x=\"475\" y=\"62\"/><text fill=\"#000000\" font-family=\"sans-serif\" font-size=\"12\" font-style=\"italic\" lengthAdjust=\"spacingAndGlyphs\" textLength=\"40\" x=\"476\" y=\"78.1387\">«part»</text><text fill=\"#000000\" font-family=\"sans-serif\" font-size=\"12\" lengthAdjust=\"spacingAndGlyphs\" textLength=\"23\" x=\"482.5\" y=\"92.1074\">c: P</text><line style=\"stroke: #383838; stroke-width: 1.5;\" x1=\"476\" x2=\"516\" y1=\"99.9375\" y2=\"99.9375\"/></a><!--MD5=[2156ba9850f5573cc1fc38a6a4b2f02b]\n",
       "class E7--><a href=\"psysml:baf82fce-ad86-47f7-be04-61d8ab51238a\" target=\"_top\" title=\"psysml:baf82fce-ad86-47f7-be04-61d8ab51238a\" xlink:actuate=\"onRequest\" xlink:href=\"psysml:baf82fce-ad86-47f7-be04-61d8ab51238a\" xlink:show=\"new\" xlink:title=\"psysml:baf82fce-ad86-47f7-be04-61d8ab51238a\" xlink:type=\"simple\"><rect fill=\"#FFFFFF\" height=\"45.9375\" id=\"E7\" rx=\"10\" ry=\"10\" style=\"stroke: #383838; stroke-width: 1.5;\" width=\"42\" x=\"398\" y=\"62\"/><text fill=\"#000000\" font-family=\"sans-serif\" font-size=\"12\" font-style=\"italic\" lengthAdjust=\"spacingAndGlyphs\" textLength=\"40\" x=\"399\" y=\"78.1387\">«part»</text><text fill=\"#000000\" font-family=\"sans-serif\" font-size=\"12\" lengthAdjust=\"spacingAndGlyphs\" textLength=\"8\" x=\"413\" y=\"92.1074\">d</text><line style=\"stroke: #383838; stroke-width: 1.5;\" x1=\"399\" x2=\"439\" y1=\"99.9375\" y2=\"99.9375\"/></a><!--MD5=[b9389687b975829384b498ac4b7476b2]\n",
       "class E8--><a href=\"psysml:602edda4-e9f7-4346-9e9a-bc1deb44a144\" target=\"_top\" title=\"psysml:602edda4-e9f7-4346-9e9a-bc1deb44a144\" xlink:actuate=\"onRequest\" xlink:href=\"psysml:602edda4-e9f7-4346-9e9a-bc1deb44a144\" xlink:show=\"new\" xlink:title=\"psysml:602edda4-e9f7-4346-9e9a-bc1deb44a144\" xlink:type=\"simple\"><rect fill=\"#FFFFFF\" height=\"45.9375\" id=\"E8\" rx=\"10\" ry=\"10\" style=\"stroke: #383838; stroke-width: 1.5;\" width=\"42\" x=\"321\" y=\"62\"/><text fill=\"#000000\" font-family=\"sans-serif\" font-size=\"12\" font-style=\"italic\" lengthAdjust=\"spacingAndGlyphs\" textLength=\"40\" x=\"322\" y=\"78.1387\">«part»</text><text fill=\"#000000\" font-family=\"sans-serif\" font-size=\"12\" lengthAdjust=\"spacingAndGlyphs\" textLength=\"8\" x=\"336\" y=\"92.1074\">e</text><line style=\"stroke: #383838; stroke-width: 1.5;\" x1=\"322\" x2=\"362\" y1=\"99.9375\" y2=\"99.9375\"/></a><!--MD5=[fd4143e9d270a159db93a4ea2a975926]\n",
       "class E9--><a href=\"psysml:ea99d53b-6b01-4b58-853a-79f827c6b1d7\" target=\"_top\" title=\"psysml:ea99d53b-6b01-4b58-853a-79f827c6b1d7\" xlink:actuate=\"onRequest\" xlink:href=\"psysml:ea99d53b-6b01-4b58-853a-79f827c6b1d7\" xlink:show=\"new\" xlink:title=\"psysml:ea99d53b-6b01-4b58-853a-79f827c6b1d7\" xlink:type=\"simple\"><rect fill=\"#FFFFFF\" height=\"45.9375\" id=\"E9\" rx=\"10\" ry=\"10\" style=\"stroke: #383838; stroke-width: 1.5;\" width=\"42\" x=\"244\" y=\"62\"/><text fill=\"#000000\" font-family=\"sans-serif\" font-size=\"12\" font-style=\"italic\" lengthAdjust=\"spacingAndGlyphs\" textLength=\"40\" x=\"245\" y=\"78.1387\">«part»</text><text fill=\"#000000\" font-family=\"sans-serif\" font-size=\"12\" lengthAdjust=\"spacingAndGlyphs\" textLength=\"4\" x=\"261\" y=\"92.1074\">f</text><line style=\"stroke: #383838; stroke-width: 1.5;\" x1=\"245\" x2=\"285\" y1=\"99.9375\" y2=\"99.9375\"/></a><!--MD5=[96f4274e9e20536e775497830990834d]\n",
       "class E10--><a href=\"psysml:7f8b6820-ebe3-4bcd-8be0-e5513e7bb89f\" target=\"_top\" title=\"psysml:7f8b6820-ebe3-4bcd-8be0-e5513e7bb89f\" xlink:actuate=\"onRequest\" xlink:href=\"psysml:7f8b6820-ebe3-4bcd-8be0-e5513e7bb89f\" xlink:show=\"new\" xlink:title=\"psysml:7f8b6820-ebe3-4bcd-8be0-e5513e7bb89f\" xlink:type=\"simple\"><rect fill=\"#FFFFFF\" height=\"45.9375\" id=\"E10\" rx=\"10\" ry=\"10\" style=\"stroke: #383838; stroke-width: 1.5;\" width=\"42\" x=\"167\" y=\"62\"/><text fill=\"#000000\" font-family=\"sans-serif\" font-size=\"12\" font-style=\"italic\" lengthAdjust=\"spacingAndGlyphs\" textLength=\"40\" x=\"168\" y=\"78.1387\">«part»</text><text fill=\"#000000\" font-family=\"sans-serif\" font-size=\"12\" lengthAdjust=\"spacingAndGlyphs\" textLength=\"8\" x=\"182\" y=\"92.1074\">g</text><line style=\"stroke: #383838; stroke-width: 1.5;\" x1=\"168\" x2=\"208\" y1=\"99.9375\" y2=\"99.9375\"/></a><!--MD5=[1dd1bfd58a279cf63c5f349dbc8fc6a1]\n",
       "class E11--><a href=\"psysml:b98160f9-962b-4166-b8bf-1b8817b6e181\" target=\"_top\" title=\"psysml:b98160f9-962b-4166-b8bf-1b8817b6e181\" xlink:actuate=\"onRequest\" xlink:href=\"psysml:b98160f9-962b-4166-b8bf-1b8817b6e181\" xlink:show=\"new\" xlink:title=\"psysml:b98160f9-962b-4166-b8bf-1b8817b6e181\" xlink:type=\"simple\"><rect fill=\"#FFFFFF\" height=\"88.3516\" id=\"E11\" style=\"stroke: #383838; stroke-width: 1.5;\" width=\"99\" x=\"32.5\" y=\"41\"/><text fill=\"#000000\" font-family=\"sans-serif\" font-size=\"12\" font-style=\"italic\" lengthAdjust=\"spacingAndGlyphs\" textLength=\"97\" x=\"33.5\" y=\"57.1387\">«attribute  def»</text><text fill=\"#000000\" font-family=\"sans-serif\" font-size=\"12\" lengthAdjust=\"spacingAndGlyphs\" textLength=\"8\" x=\"78\" y=\"71.1074\">A</text><line style=\"stroke: #383838; stroke-width: 1.5;\" x1=\"33.5\" x2=\"130.5\" y1=\"78.9375\" y2=\"78.9375\"/><text fill=\"#000000\" font-family=\"sans-serif\" font-size=\"11\" lengthAdjust=\"spacingAndGlyphs\" textLength=\"51\" x=\"38.5\" y=\"109.9526\">i: Integer</text><text fill=\"#000000\" font-family=\"sans-serif\" font-size=\"11\" lengthAdjust=\"spacingAndGlyphs\" textLength=\"21\" x=\"38.5\" y=\"122.7573\">x: A</text><line style=\"stroke: #383838; stroke-width: 1.0;\" x1=\"33.5\" x2=\"54.5\" y1=\"93.3398\" y2=\"93.3398\"/><text fill=\"#000000\" font-family=\"sans-serif\" font-size=\"11\" lengthAdjust=\"spacingAndGlyphs\" textLength=\"55\" x=\"54.5\" y=\"96.6479\">attributes</text><line style=\"stroke: #383838; stroke-width: 1.0;\" x1=\"109.5\" x2=\"130.5\" y1=\"93.3398\" y2=\"93.3398\"/></a><!--MD5=[15ebcb19ae302d9b601edb458606d402]\n",
       "link E5 to E2--><a href=\"psysml:f465fece-be6c-4a0b-8b87-5b67ed75d8f8\" target=\"_top\" title=\"psysml:f465fece-be6c-4a0b-8b87-5b67ed75d8f8\" xlink:actuate=\"onRequest\" xlink:href=\"psysml:f465fece-be6c-4a0b-8b87-5b67ed75d8f8\" xlink:show=\"new\" xlink:title=\"psysml:f465fece-be6c-4a0b-8b87-5b67ed75d8f8\" xlink:type=\"simple\"><path d=\"M566.12,108.06 C560.83,125 553.38,148.89 546.98,169.39 \" fill=\"none\" id=\"E5-&gt;E2\" style=\"stroke: #383838; stroke-width: 1.0;\"/><polygon fill=\"#FFFFFF\" points=\"540.95,188.74,539.929,168.5173,553.2931,172.6886,540.95,188.74\" style=\"stroke: #383838; stroke-width: 1.0;\"/><ellipse cx=\"543.5364\" cy=\"163.6721\" fill=\"#383838\" rx=\"2\" ry=\"2\" style=\"stroke: #383838; stroke-width: 1.0;\"/><ellipse cx=\"553.0823\" cy=\"166.6516\" fill=\"#383838\" rx=\"2\" ry=\"2\" style=\"stroke: #383838; stroke-width: 1.0;\"/></a><!--MD5=[2351f337d6de0f557b50152ba70847b5]\n",
       "link E6 to E2--><a href=\"psysml:72e02ffe-11ce-46be-a503-0c91c54548ee\" target=\"_top\" title=\"psysml:72e02ffe-11ce-46be-a503-0c91c54548ee\" xlink:actuate=\"onRequest\" xlink:href=\"psysml:72e02ffe-11ce-46be-a503-0c91c54548ee\" xlink:show=\"new\" xlink:title=\"psysml:72e02ffe-11ce-46be-a503-0c91c54548ee\" xlink:type=\"simple\"><path d=\"M502.71,108.06 C507.86,125 515.12,148.89 521.35,169.39 \" fill=\"none\" id=\"E6-&gt;E2\" style=\"stroke: #383838; stroke-width: 1.0;\"/><polygon fill=\"#FFFFFF\" points=\"527.23,188.74,515.007,172.597,528.4019,168.5255,527.23,188.74\" style=\"stroke: #383838; stroke-width: 1.0;\"/><ellipse cx=\"515.2628\" cy=\"166.5617\" fill=\"#383838\" rx=\"2\" ry=\"2\" style=\"stroke: #383838; stroke-width: 1.0;\"/><ellipse cx=\"524.8306\" cy=\"163.6535\" fill=\"#383838\" rx=\"2\" ry=\"2\" style=\"stroke: #383838; stroke-width: 1.0;\"/></a><!--MD5=[2b72ea5b070663fd024480422a6daad6]\n",
       "@startuml\r\n",
       "skinparam monochrome true\r\n",
       "skinparam classbackgroundcolor white\r\n",
       "skinparam shadowing false\r\n",
       "skinparam wrapWidth 300\r\n",
       "hide circle\r\n",
       "\r\n",
       "package \"MultiplicityTest\" as E1  [[psysml:437e1e49-e6a3-4f3e-be27-b1e07120749d ]]  {\r\n",
       "comp def \"P\" as E2  <<(T,blue) part  def>> [[psysml:d60dc8a9-ee87-4177-8909-4fd780a9d8f8 ]] {\r\n",
       "}\r\n",
       "comp usage \"n: Integer \" as E3  <<(T,blue) attribute>> [[psysml:a5340f1d-d68a-4585-8f96-7305e6f489d2 ]] {\r\n",
       "}\r\n",
       "comp usage \"a \" as E4  <<(T,blue) part>> [[psysml:478d9241-8f6e-4034-a71b-67b7ef5acdce ]] {\r\n",
       "}\r\n",
       "comp usage \"b: P \" as E5  <<(T,blue) part>> [[psysml:bc94da79-c19f-4e44-8720-527e565e90dd ]] {\r\n",
       "}\r\n",
       "comp usage \"c: P \" as E6  <<(T,blue) part>> [[psysml:619a7e97-bac6-4f1e-8369-8e8a5aa8da71 ]] {\r\n",
       "}\r\n",
       "comp usage \"d \" as E7  <<(T,blue) part>> [[psysml:baf82fce-ad86-47f7-be04-61d8ab51238a ]] {\r\n",
       "}\r\n",
       "comp usage \"e \" as E8  <<(T,blue) part>> [[psysml:602edda4-e9f7-4346-9e9a-bc1deb44a144 ]] {\r\n",
       "}\r\n",
       "comp usage \"f \" as E9  <<(T,blue) part>> [[psysml:ea99d53b-6b01-4b58-853a-79f827c6b1d7 ]] {\r\n",
       "}\r\n",
       "comp usage \"g \" as E10  <<(T,blue) part>> [[psysml:7f8b6820-ebe3-4bcd-8be0-e5513e7bb89f ]] {\r\n",
       "}\r\n",
       "comp def \"A\" as E11  <<(T,blue) attribute  def>> [[psysml:b98160f9-962b-4166-b8bf-1b8817b6e181 ]] {\r\n",
       "- - attributes - -\r\n",
       "i: Integer\r\n",
       "x: A\r\n",
       "}\r\n",
       "}\r\n",
       "E5 - -:|> E2 [[psysml:f465fece-be6c-4a0b-8b87-5b67ed75d8f8 ]] \r\n",
       "E6 - -:|> E2 [[psysml:72e02ffe-11ce-46be-a503-0c91c54548ee ]] \r\n",
       "@enduml\r\n",
       "\n",
       "PlantUML version 1.2020.13(Sat Jun 13 12:26:38 UTC 2020)\n",
       "(EPL source distribution)\n",
       "Java Runtime: OpenJDK Runtime Environment\n",
       "JVM: OpenJDK 64-Bit Server VM\n",
       "Default Encoding: UTF-8\n",
       "Language: en\n",
       "Country: null\n",
       "--></g></svg>"
      ]
     },
     "execution_count": 43,
     "metadata": {},
     "output_type": "execute_result"
    }
   ],
   "source": [
    "%viz --style=\"DEFAULT\" --view=\"MIXED\" \"MultiplicityTest\""
   ]
  },
  {
   "cell_type": "code",
   "execution_count": 44,
   "id": "fd0cea8b",
   "metadata": {
    "execution": {
     "iopub.execute_input": "2022-03-03T09:58:32.141293Z",
     "iopub.status.busy": "2022-03-03T09:58:32.140819Z",
     "iopub.status.idle": "2022-03-03T09:58:32.196815Z",
     "shell.execute_reply": "2022-03-03T09:58:32.195338Z"
    }
   },
   "outputs": [
    {
     "data": {
      "image/svg+xml": [
       "<?xml version=\"1.0\" encoding=\"UTF-8\" standalone=\"no\"?><svg xmlns=\"http://www.w3.org/2000/svg\" xmlns:xlink=\"http://www.w3.org/1999/xlink\" contentScriptType=\"application/ecmascript\" contentStyleType=\"text/css\" height=\"263px\" preserveAspectRatio=\"none\" style=\"width:816px;height:263px;\" version=\"1.1\" viewBox=\"0 0 816 263\" width=\"816px\" zoomAndPan=\"magnify\"><defs/><g><!--MD5=[fbc87193dbaf4d95561dea2c320d4a47]\n",
       "cluster E1--><a href=\"psysml:437e1e49-e6a3-4f3e-be27-b1e07120749d\" target=\"_top\" title=\"psysml:437e1e49-e6a3-4f3e-be27-b1e07120749d\" xlink:actuate=\"onRequest\" xlink:href=\"psysml:437e1e49-e6a3-4f3e-be27-b1e07120749d\" xlink:show=\"new\" xlink:title=\"psysml:437e1e49-e6a3-4f3e-be27-b1e07120749d\" xlink:type=\"simple\"><polygon fill=\"#FFFFFF\" points=\"16,6,123,6,130,28.2969,794,28.2969,794,251,16,251,16,6\" style=\"stroke: #000000; stroke-width: 1.5;\"/><line style=\"stroke: #000000; stroke-width: 1.5;\" x1=\"16\" x2=\"130\" y1=\"28.2969\" y2=\"28.2969\"/><text fill=\"#000000\" font-family=\"sans-serif\" font-size=\"14\" font-weight=\"bold\" lengthAdjust=\"spacingAndGlyphs\" textLength=\"101\" x=\"20\" y=\"20.9951\">MultiplicityTest</text></a><!--MD5=[b4997ac47864f28c2f74865a473b2911]\n",
       "class E2--><a href=\"psysml:d60dc8a9-ee87-4177-8909-4fd780a9d8f8\" target=\"_top\" title=\"psysml:d60dc8a9-ee87-4177-8909-4fd780a9d8f8\" xlink:actuate=\"onRequest\" xlink:href=\"psysml:d60dc8a9-ee87-4177-8909-4fd780a9d8f8\" xlink:show=\"new\" xlink:title=\"psysml:d60dc8a9-ee87-4177-8909-4fd780a9d8f8\" xlink:type=\"simple\"><rect fill=\"#FFFFFF\" height=\"45.9375\" id=\"E2\" style=\"stroke: #383838; stroke-width: 1.5;\" width=\"70\" x=\"499\" y=\"189\"/><text fill=\"#000000\" font-family=\"sans-serif\" font-size=\"12\" font-style=\"italic\" lengthAdjust=\"spacingAndGlyphs\" textLength=\"68\" x=\"500\" y=\"205.1387\">«part  def»</text><text fill=\"#000000\" font-family=\"sans-serif\" font-size=\"12\" lengthAdjust=\"spacingAndGlyphs\" textLength=\"8\" x=\"530\" y=\"219.1074\">P</text><line style=\"stroke: #383838; stroke-width: 1.5;\" x1=\"500\" x2=\"568\" y1=\"226.9375\" y2=\"226.9375\"/></a><!--MD5=[09b614a08d8cba4a07c9adeb5e0fee81]\n",
       "class E3--><a href=\"psysml:a5340f1d-d68a-4585-8f96-7305e6f489d2\" target=\"_top\" title=\"psysml:a5340f1d-d68a-4585-8f96-7305e6f489d2\" xlink:actuate=\"onRequest\" xlink:href=\"psysml:a5340f1d-d68a-4585-8f96-7305e6f489d2\" xlink:show=\"new\" xlink:title=\"psysml:a5340f1d-d68a-4585-8f96-7305e6f489d2\" xlink:type=\"simple\"><rect fill=\"#FFFFFF\" height=\"45.9375\" id=\"E3\" rx=\"10\" ry=\"10\" style=\"stroke: #383838; stroke-width: 1.5;\" width=\"71\" x=\"706.5\" y=\"62\"/><text fill=\"#000000\" font-family=\"sans-serif\" font-size=\"12\" font-style=\"italic\" lengthAdjust=\"spacingAndGlyphs\" textLength=\"69\" x=\"707.5\" y=\"78.1387\">«attribute»</text><text fill=\"#000000\" font-family=\"sans-serif\" font-size=\"12\" lengthAdjust=\"spacingAndGlyphs\" textLength=\"61\" x=\"709.5\" y=\"92.1074\">n: Integer</text><line style=\"stroke: #383838; stroke-width: 1.5;\" x1=\"707.5\" x2=\"776.5\" y1=\"99.9375\" y2=\"99.9375\"/></a><!--MD5=[ebbe1d658d1005bcc118a6aa81145e00]\n",
       "class E4--><a href=\"psysml:478d9241-8f6e-4034-a71b-67b7ef5acdce\" target=\"_top\" title=\"psysml:478d9241-8f6e-4034-a71b-67b7ef5acdce\" xlink:actuate=\"onRequest\" xlink:href=\"psysml:478d9241-8f6e-4034-a71b-67b7ef5acdce\" xlink:show=\"new\" xlink:title=\"psysml:478d9241-8f6e-4034-a71b-67b7ef5acdce\" xlink:type=\"simple\"><rect fill=\"#FFFFFF\" height=\"45.9375\" id=\"E4\" rx=\"10\" ry=\"10\" style=\"stroke: #383838; stroke-width: 1.5;\" width=\"42\" x=\"629\" y=\"62\"/><text fill=\"#000000\" font-family=\"sans-serif\" font-size=\"12\" font-style=\"italic\" lengthAdjust=\"spacingAndGlyphs\" textLength=\"40\" x=\"630\" y=\"78.1387\">«part»</text><text fill=\"#000000\" font-family=\"sans-serif\" font-size=\"12\" lengthAdjust=\"spacingAndGlyphs\" textLength=\"8\" x=\"644\" y=\"92.1074\">a</text><line style=\"stroke: #383838; stroke-width: 1.5;\" x1=\"630\" x2=\"670\" y1=\"99.9375\" y2=\"99.9375\"/></a><!--MD5=[270fce915f116d4de14055a7c1d9a0f3]\n",
       "class E5--><a href=\"psysml:bc94da79-c19f-4e44-8720-527e565e90dd\" target=\"_top\" title=\"psysml:bc94da79-c19f-4e44-8720-527e565e90dd\" xlink:actuate=\"onRequest\" xlink:href=\"psysml:bc94da79-c19f-4e44-8720-527e565e90dd\" xlink:show=\"new\" xlink:title=\"psysml:bc94da79-c19f-4e44-8720-527e565e90dd\" xlink:type=\"simple\"><rect fill=\"#FFFFFF\" height=\"45.9375\" id=\"E5\" rx=\"10\" ry=\"10\" style=\"stroke: #383838; stroke-width: 1.5;\" width=\"42\" x=\"552\" y=\"62\"/><text fill=\"#000000\" font-family=\"sans-serif\" font-size=\"12\" font-style=\"italic\" lengthAdjust=\"spacingAndGlyphs\" textLength=\"40\" x=\"553\" y=\"78.1387\">«part»</text><text fill=\"#000000\" font-family=\"sans-serif\" font-size=\"12\" lengthAdjust=\"spacingAndGlyphs\" textLength=\"24\" x=\"559\" y=\"92.1074\">b: P</text><line style=\"stroke: #383838; stroke-width: 1.5;\" x1=\"553\" x2=\"593\" y1=\"99.9375\" y2=\"99.9375\"/></a><!--MD5=[60a26617385b1d2d0262a64233df1f8d]\n",
       "class E6--><a href=\"psysml:619a7e97-bac6-4f1e-8369-8e8a5aa8da71\" target=\"_top\" title=\"psysml:619a7e97-bac6-4f1e-8369-8e8a5aa8da71\" xlink:actuate=\"onRequest\" xlink:href=\"psysml:619a7e97-bac6-4f1e-8369-8e8a5aa8da71\" xlink:show=\"new\" xlink:title=\"psysml:619a7e97-bac6-4f1e-8369-8e8a5aa8da71\" xlink:type=\"simple\"><rect fill=\"#FFFFFF\" height=\"45.9375\" id=\"E6\" rx=\"10\" ry=\"10\" style=\"stroke: #383838; stroke-width: 1.5;\" width=\"42\" x=\"475\" y=\"62\"/><text fill=\"#000000\" font-family=\"sans-serif\" font-size=\"12\" font-style=\"italic\" lengthAdjust=\"spacingAndGlyphs\" textLength=\"40\" x=\"476\" y=\"78.1387\">«part»</text><text fill=\"#000000\" font-family=\"sans-serif\" font-size=\"12\" lengthAdjust=\"spacingAndGlyphs\" textLength=\"23\" x=\"482.5\" y=\"92.1074\">c: P</text><line style=\"stroke: #383838; stroke-width: 1.5;\" x1=\"476\" x2=\"516\" y1=\"99.9375\" y2=\"99.9375\"/></a><!--MD5=[2156ba9850f5573cc1fc38a6a4b2f02b]\n",
       "class E7--><a href=\"psysml:baf82fce-ad86-47f7-be04-61d8ab51238a\" target=\"_top\" title=\"psysml:baf82fce-ad86-47f7-be04-61d8ab51238a\" xlink:actuate=\"onRequest\" xlink:href=\"psysml:baf82fce-ad86-47f7-be04-61d8ab51238a\" xlink:show=\"new\" xlink:title=\"psysml:baf82fce-ad86-47f7-be04-61d8ab51238a\" xlink:type=\"simple\"><rect fill=\"#FFFFFF\" height=\"45.9375\" id=\"E7\" rx=\"10\" ry=\"10\" style=\"stroke: #383838; stroke-width: 1.5;\" width=\"42\" x=\"398\" y=\"62\"/><text fill=\"#000000\" font-family=\"sans-serif\" font-size=\"12\" font-style=\"italic\" lengthAdjust=\"spacingAndGlyphs\" textLength=\"40\" x=\"399\" y=\"78.1387\">«part»</text><text fill=\"#000000\" font-family=\"sans-serif\" font-size=\"12\" lengthAdjust=\"spacingAndGlyphs\" textLength=\"8\" x=\"413\" y=\"92.1074\">d</text><line style=\"stroke: #383838; stroke-width: 1.5;\" x1=\"399\" x2=\"439\" y1=\"99.9375\" y2=\"99.9375\"/></a><!--MD5=[b9389687b975829384b498ac4b7476b2]\n",
       "class E8--><a href=\"psysml:602edda4-e9f7-4346-9e9a-bc1deb44a144\" target=\"_top\" title=\"psysml:602edda4-e9f7-4346-9e9a-bc1deb44a144\" xlink:actuate=\"onRequest\" xlink:href=\"psysml:602edda4-e9f7-4346-9e9a-bc1deb44a144\" xlink:show=\"new\" xlink:title=\"psysml:602edda4-e9f7-4346-9e9a-bc1deb44a144\" xlink:type=\"simple\"><rect fill=\"#FFFFFF\" height=\"45.9375\" id=\"E8\" rx=\"10\" ry=\"10\" style=\"stroke: #383838; stroke-width: 1.5;\" width=\"42\" x=\"321\" y=\"62\"/><text fill=\"#000000\" font-family=\"sans-serif\" font-size=\"12\" font-style=\"italic\" lengthAdjust=\"spacingAndGlyphs\" textLength=\"40\" x=\"322\" y=\"78.1387\">«part»</text><text fill=\"#000000\" font-family=\"sans-serif\" font-size=\"12\" lengthAdjust=\"spacingAndGlyphs\" textLength=\"8\" x=\"336\" y=\"92.1074\">e</text><line style=\"stroke: #383838; stroke-width: 1.5;\" x1=\"322\" x2=\"362\" y1=\"99.9375\" y2=\"99.9375\"/></a><!--MD5=[fd4143e9d270a159db93a4ea2a975926]\n",
       "class E9--><a href=\"psysml:ea99d53b-6b01-4b58-853a-79f827c6b1d7\" target=\"_top\" title=\"psysml:ea99d53b-6b01-4b58-853a-79f827c6b1d7\" xlink:actuate=\"onRequest\" xlink:href=\"psysml:ea99d53b-6b01-4b58-853a-79f827c6b1d7\" xlink:show=\"new\" xlink:title=\"psysml:ea99d53b-6b01-4b58-853a-79f827c6b1d7\" xlink:type=\"simple\"><rect fill=\"#FFFFFF\" height=\"45.9375\" id=\"E9\" rx=\"10\" ry=\"10\" style=\"stroke: #383838; stroke-width: 1.5;\" width=\"42\" x=\"244\" y=\"62\"/><text fill=\"#000000\" font-family=\"sans-serif\" font-size=\"12\" font-style=\"italic\" lengthAdjust=\"spacingAndGlyphs\" textLength=\"40\" x=\"245\" y=\"78.1387\">«part»</text><text fill=\"#000000\" font-family=\"sans-serif\" font-size=\"12\" lengthAdjust=\"spacingAndGlyphs\" textLength=\"4\" x=\"261\" y=\"92.1074\">f</text><line style=\"stroke: #383838; stroke-width: 1.5;\" x1=\"245\" x2=\"285\" y1=\"99.9375\" y2=\"99.9375\"/></a><!--MD5=[96f4274e9e20536e775497830990834d]\n",
       "class E10--><a href=\"psysml:7f8b6820-ebe3-4bcd-8be0-e5513e7bb89f\" target=\"_top\" title=\"psysml:7f8b6820-ebe3-4bcd-8be0-e5513e7bb89f\" xlink:actuate=\"onRequest\" xlink:href=\"psysml:7f8b6820-ebe3-4bcd-8be0-e5513e7bb89f\" xlink:show=\"new\" xlink:title=\"psysml:7f8b6820-ebe3-4bcd-8be0-e5513e7bb89f\" xlink:type=\"simple\"><rect fill=\"#FFFFFF\" height=\"45.9375\" id=\"E10\" rx=\"10\" ry=\"10\" style=\"stroke: #383838; stroke-width: 1.5;\" width=\"42\" x=\"167\" y=\"62\"/><text fill=\"#000000\" font-family=\"sans-serif\" font-size=\"12\" font-style=\"italic\" lengthAdjust=\"spacingAndGlyphs\" textLength=\"40\" x=\"168\" y=\"78.1387\">«part»</text><text fill=\"#000000\" font-family=\"sans-serif\" font-size=\"12\" lengthAdjust=\"spacingAndGlyphs\" textLength=\"8\" x=\"182\" y=\"92.1074\">g</text><line style=\"stroke: #383838; stroke-width: 1.5;\" x1=\"168\" x2=\"208\" y1=\"99.9375\" y2=\"99.9375\"/></a><!--MD5=[1dd1bfd58a279cf63c5f349dbc8fc6a1]\n",
       "class E11--><a href=\"psysml:b98160f9-962b-4166-b8bf-1b8817b6e181\" target=\"_top\" title=\"psysml:b98160f9-962b-4166-b8bf-1b8817b6e181\" xlink:actuate=\"onRequest\" xlink:href=\"psysml:b98160f9-962b-4166-b8bf-1b8817b6e181\" xlink:show=\"new\" xlink:title=\"psysml:b98160f9-962b-4166-b8bf-1b8817b6e181\" xlink:type=\"simple\"><rect fill=\"#FFFFFF\" height=\"88.3516\" id=\"E11\" style=\"stroke: #383838; stroke-width: 1.5;\" width=\"99\" x=\"32.5\" y=\"41\"/><text fill=\"#000000\" font-family=\"sans-serif\" font-size=\"12\" font-style=\"italic\" lengthAdjust=\"spacingAndGlyphs\" textLength=\"97\" x=\"33.5\" y=\"57.1387\">«attribute  def»</text><text fill=\"#000000\" font-family=\"sans-serif\" font-size=\"12\" lengthAdjust=\"spacingAndGlyphs\" textLength=\"8\" x=\"78\" y=\"71.1074\">A</text><line style=\"stroke: #383838; stroke-width: 1.5;\" x1=\"33.5\" x2=\"130.5\" y1=\"78.9375\" y2=\"78.9375\"/><text fill=\"#000000\" font-family=\"sans-serif\" font-size=\"11\" lengthAdjust=\"spacingAndGlyphs\" textLength=\"51\" x=\"38.5\" y=\"109.9526\">i: Integer</text><text fill=\"#000000\" font-family=\"sans-serif\" font-size=\"11\" lengthAdjust=\"spacingAndGlyphs\" textLength=\"21\" x=\"38.5\" y=\"122.7573\">x: A</text><line style=\"stroke: #383838; stroke-width: 1.0;\" x1=\"33.5\" x2=\"54.5\" y1=\"93.3398\" y2=\"93.3398\"/><text fill=\"#000000\" font-family=\"sans-serif\" font-size=\"11\" lengthAdjust=\"spacingAndGlyphs\" textLength=\"55\" x=\"54.5\" y=\"96.6479\">attributes</text><line style=\"stroke: #383838; stroke-width: 1.0;\" x1=\"109.5\" x2=\"130.5\" y1=\"93.3398\" y2=\"93.3398\"/></a><!--MD5=[15ebcb19ae302d9b601edb458606d402]\n",
       "link E5 to E2--><a href=\"psysml:f465fece-be6c-4a0b-8b87-5b67ed75d8f8\" target=\"_top\" title=\"psysml:f465fece-be6c-4a0b-8b87-5b67ed75d8f8\" xlink:actuate=\"onRequest\" xlink:href=\"psysml:f465fece-be6c-4a0b-8b87-5b67ed75d8f8\" xlink:show=\"new\" xlink:title=\"psysml:f465fece-be6c-4a0b-8b87-5b67ed75d8f8\" xlink:type=\"simple\"><path d=\"M566.12,108.06 C560.83,125 553.38,148.89 546.98,169.39 \" fill=\"none\" id=\"E5-&gt;E2\" style=\"stroke: #383838; stroke-width: 1.0;\"/><polygon fill=\"#FFFFFF\" points=\"540.95,188.74,539.929,168.5173,553.2931,172.6886,540.95,188.74\" style=\"stroke: #383838; stroke-width: 1.0;\"/><ellipse cx=\"543.5364\" cy=\"163.6721\" fill=\"#383838\" rx=\"2\" ry=\"2\" style=\"stroke: #383838; stroke-width: 1.0;\"/><ellipse cx=\"553.0823\" cy=\"166.6516\" fill=\"#383838\" rx=\"2\" ry=\"2\" style=\"stroke: #383838; stroke-width: 1.0;\"/></a><!--MD5=[2351f337d6de0f557b50152ba70847b5]\n",
       "link E6 to E2--><a href=\"psysml:72e02ffe-11ce-46be-a503-0c91c54548ee\" target=\"_top\" title=\"psysml:72e02ffe-11ce-46be-a503-0c91c54548ee\" xlink:actuate=\"onRequest\" xlink:href=\"psysml:72e02ffe-11ce-46be-a503-0c91c54548ee\" xlink:show=\"new\" xlink:title=\"psysml:72e02ffe-11ce-46be-a503-0c91c54548ee\" xlink:type=\"simple\"><path d=\"M502.71,108.06 C507.86,125 515.12,148.89 521.35,169.39 \" fill=\"none\" id=\"E6-&gt;E2\" style=\"stroke: #383838; stroke-width: 1.0;\"/><polygon fill=\"#FFFFFF\" points=\"527.23,188.74,515.007,172.597,528.4019,168.5255,527.23,188.74\" style=\"stroke: #383838; stroke-width: 1.0;\"/><ellipse cx=\"515.2628\" cy=\"166.5617\" fill=\"#383838\" rx=\"2\" ry=\"2\" style=\"stroke: #383838; stroke-width: 1.0;\"/><ellipse cx=\"524.8306\" cy=\"163.6535\" fill=\"#383838\" rx=\"2\" ry=\"2\" style=\"stroke: #383838; stroke-width: 1.0;\"/></a><!--MD5=[ea47c36b6badc1ac67e634517a061591]\n",
       "@startuml\r\n",
       "top to bottom direction\r\n",
       "skinparam monochrome true\r\n",
       "skinparam classbackgroundcolor white\r\n",
       "skinparam shadowing false\r\n",
       "skinparam wrapWidth 300\r\n",
       "hide circle\r\n",
       "\r\n",
       "package \"MultiplicityTest\" as E1  [[psysml:437e1e49-e6a3-4f3e-be27-b1e07120749d ]]  {\r\n",
       "comp def \"P\" as E2  <<(T,blue) part  def>> [[psysml:d60dc8a9-ee87-4177-8909-4fd780a9d8f8 ]] {\r\n",
       "}\r\n",
       "comp usage \"n: Integer \" as E3  <<(T,blue) attribute>> [[psysml:a5340f1d-d68a-4585-8f96-7305e6f489d2 ]] {\r\n",
       "}\r\n",
       "comp usage \"a \" as E4  <<(T,blue) part>> [[psysml:478d9241-8f6e-4034-a71b-67b7ef5acdce ]] {\r\n",
       "}\r\n",
       "comp usage \"b: P \" as E5  <<(T,blue) part>> [[psysml:bc94da79-c19f-4e44-8720-527e565e90dd ]] {\r\n",
       "}\r\n",
       "comp usage \"c: P \" as E6  <<(T,blue) part>> [[psysml:619a7e97-bac6-4f1e-8369-8e8a5aa8da71 ]] {\r\n",
       "}\r\n",
       "comp usage \"d \" as E7  <<(T,blue) part>> [[psysml:baf82fce-ad86-47f7-be04-61d8ab51238a ]] {\r\n",
       "}\r\n",
       "comp usage \"e \" as E8  <<(T,blue) part>> [[psysml:602edda4-e9f7-4346-9e9a-bc1deb44a144 ]] {\r\n",
       "}\r\n",
       "comp usage \"f \" as E9  <<(T,blue) part>> [[psysml:ea99d53b-6b01-4b58-853a-79f827c6b1d7 ]] {\r\n",
       "}\r\n",
       "comp usage \"g \" as E10  <<(T,blue) part>> [[psysml:7f8b6820-ebe3-4bcd-8be0-e5513e7bb89f ]] {\r\n",
       "}\r\n",
       "comp def \"A\" as E11  <<(T,blue) attribute  def>> [[psysml:b98160f9-962b-4166-b8bf-1b8817b6e181 ]] {\r\n",
       "- - attributes - -\r\n",
       "i: Integer\r\n",
       "x: A\r\n",
       "}\r\n",
       "}\r\n",
       "E5 - -:|> E2 [[psysml:f465fece-be6c-4a0b-8b87-5b67ed75d8f8 ]] \r\n",
       "E6 - -:|> E2 [[psysml:72e02ffe-11ce-46be-a503-0c91c54548ee ]] \r\n",
       "@enduml\r\n",
       "\n",
       "PlantUML version 1.2020.13(Sat Jun 13 12:26:38 UTC 2020)\n",
       "(EPL source distribution)\n",
       "Java Runtime: OpenJDK Runtime Environment\n",
       "JVM: OpenJDK 64-Bit Server VM\n",
       "Default Encoding: UTF-8\n",
       "Language: en\n",
       "Country: null\n",
       "--></g></svg>"
      ]
     },
     "execution_count": 44,
     "metadata": {},
     "output_type": "execute_result"
    }
   ],
   "source": [
    "%viz --style=\"TB\" --view=\"Default\" \"MultiplicityTest\""
   ]
  },
  {
   "cell_type": "code",
   "execution_count": 45,
   "id": "d50f8873",
   "metadata": {
    "execution": {
     "iopub.execute_input": "2022-03-03T09:58:32.246679Z",
     "iopub.status.busy": "2022-03-03T09:58:32.246211Z",
     "iopub.status.idle": "2022-03-03T09:58:32.298195Z",
     "shell.execute_reply": "2022-03-03T09:58:32.296738Z"
    }
   },
   "outputs": [
    {
     "data": {
      "image/svg+xml": [
       "<?xml version=\"1.0\" encoding=\"UTF-8\" standalone=\"no\"?><svg xmlns=\"http://www.w3.org/2000/svg\" xmlns:xlink=\"http://www.w3.org/1999/xlink\" contentScriptType=\"application/ecmascript\" contentStyleType=\"text/css\" height=\"263px\" preserveAspectRatio=\"none\" style=\"width:816px;height:263px;\" version=\"1.1\" viewBox=\"0 0 816 263\" width=\"816px\" zoomAndPan=\"magnify\"><defs/><g><!--MD5=[fbc87193dbaf4d95561dea2c320d4a47]\n",
       "cluster E1--><a href=\"psysml:437e1e49-e6a3-4f3e-be27-b1e07120749d\" target=\"_top\" title=\"psysml:437e1e49-e6a3-4f3e-be27-b1e07120749d\" xlink:actuate=\"onRequest\" xlink:href=\"psysml:437e1e49-e6a3-4f3e-be27-b1e07120749d\" xlink:show=\"new\" xlink:title=\"psysml:437e1e49-e6a3-4f3e-be27-b1e07120749d\" xlink:type=\"simple\"><polygon fill=\"#FFFFFF\" points=\"16,6,123,6,130,28.2969,794,28.2969,794,251,16,251,16,6\" style=\"stroke: #000000; stroke-width: 1.5;\"/><line style=\"stroke: #000000; stroke-width: 1.5;\" x1=\"16\" x2=\"130\" y1=\"28.2969\" y2=\"28.2969\"/><text fill=\"#000000\" font-family=\"sans-serif\" font-size=\"14\" font-weight=\"bold\" lengthAdjust=\"spacingAndGlyphs\" textLength=\"101\" x=\"20\" y=\"20.9951\">MultiplicityTest</text></a><!--MD5=[b4997ac47864f28c2f74865a473b2911]\n",
       "class E2--><a href=\"psysml:d60dc8a9-ee87-4177-8909-4fd780a9d8f8\" target=\"_top\" title=\"psysml:d60dc8a9-ee87-4177-8909-4fd780a9d8f8\" xlink:actuate=\"onRequest\" xlink:href=\"psysml:d60dc8a9-ee87-4177-8909-4fd780a9d8f8\" xlink:show=\"new\" xlink:title=\"psysml:d60dc8a9-ee87-4177-8909-4fd780a9d8f8\" xlink:type=\"simple\"><rect fill=\"#FFFFFF\" height=\"45.9375\" id=\"E2\" style=\"stroke: #383838; stroke-width: 1.5;\" width=\"70\" x=\"499\" y=\"189\"/><text fill=\"#000000\" font-family=\"sans-serif\" font-size=\"12\" font-style=\"italic\" lengthAdjust=\"spacingAndGlyphs\" textLength=\"68\" x=\"500\" y=\"205.1387\">«part  def»</text><text fill=\"#000000\" font-family=\"sans-serif\" font-size=\"12\" lengthAdjust=\"spacingAndGlyphs\" textLength=\"8\" x=\"530\" y=\"219.1074\">P</text><line style=\"stroke: #383838; stroke-width: 1.5;\" x1=\"500\" x2=\"568\" y1=\"226.9375\" y2=\"226.9375\"/></a><!--MD5=[09b614a08d8cba4a07c9adeb5e0fee81]\n",
       "class E3--><a href=\"psysml:a5340f1d-d68a-4585-8f96-7305e6f489d2\" target=\"_top\" title=\"psysml:a5340f1d-d68a-4585-8f96-7305e6f489d2\" xlink:actuate=\"onRequest\" xlink:href=\"psysml:a5340f1d-d68a-4585-8f96-7305e6f489d2\" xlink:show=\"new\" xlink:title=\"psysml:a5340f1d-d68a-4585-8f96-7305e6f489d2\" xlink:type=\"simple\"><rect fill=\"#FFFFFF\" height=\"45.9375\" id=\"E3\" rx=\"10\" ry=\"10\" style=\"stroke: #383838; stroke-width: 1.5;\" width=\"71\" x=\"706.5\" y=\"62\"/><text fill=\"#000000\" font-family=\"sans-serif\" font-size=\"12\" font-style=\"italic\" lengthAdjust=\"spacingAndGlyphs\" textLength=\"69\" x=\"707.5\" y=\"78.1387\">«attribute»</text><text fill=\"#000000\" font-family=\"sans-serif\" font-size=\"12\" lengthAdjust=\"spacingAndGlyphs\" textLength=\"61\" x=\"709.5\" y=\"92.1074\">n: Integer</text><line style=\"stroke: #383838; stroke-width: 1.5;\" x1=\"707.5\" x2=\"776.5\" y1=\"99.9375\" y2=\"99.9375\"/></a><!--MD5=[ebbe1d658d1005bcc118a6aa81145e00]\n",
       "class E4--><a href=\"psysml:478d9241-8f6e-4034-a71b-67b7ef5acdce\" target=\"_top\" title=\"psysml:478d9241-8f6e-4034-a71b-67b7ef5acdce\" xlink:actuate=\"onRequest\" xlink:href=\"psysml:478d9241-8f6e-4034-a71b-67b7ef5acdce\" xlink:show=\"new\" xlink:title=\"psysml:478d9241-8f6e-4034-a71b-67b7ef5acdce\" xlink:type=\"simple\"><rect fill=\"#FFFFFF\" height=\"45.9375\" id=\"E4\" rx=\"10\" ry=\"10\" style=\"stroke: #383838; stroke-width: 1.5;\" width=\"42\" x=\"629\" y=\"62\"/><text fill=\"#000000\" font-family=\"sans-serif\" font-size=\"12\" font-style=\"italic\" lengthAdjust=\"spacingAndGlyphs\" textLength=\"40\" x=\"630\" y=\"78.1387\">«part»</text><text fill=\"#000000\" font-family=\"sans-serif\" font-size=\"12\" lengthAdjust=\"spacingAndGlyphs\" textLength=\"8\" x=\"644\" y=\"92.1074\">a</text><line style=\"stroke: #383838; stroke-width: 1.5;\" x1=\"630\" x2=\"670\" y1=\"99.9375\" y2=\"99.9375\"/></a><!--MD5=[270fce915f116d4de14055a7c1d9a0f3]\n",
       "class E5--><a href=\"psysml:bc94da79-c19f-4e44-8720-527e565e90dd\" target=\"_top\" title=\"psysml:bc94da79-c19f-4e44-8720-527e565e90dd\" xlink:actuate=\"onRequest\" xlink:href=\"psysml:bc94da79-c19f-4e44-8720-527e565e90dd\" xlink:show=\"new\" xlink:title=\"psysml:bc94da79-c19f-4e44-8720-527e565e90dd\" xlink:type=\"simple\"><rect fill=\"#FFFFFF\" height=\"45.9375\" id=\"E5\" rx=\"10\" ry=\"10\" style=\"stroke: #383838; stroke-width: 1.5;\" width=\"42\" x=\"552\" y=\"62\"/><text fill=\"#000000\" font-family=\"sans-serif\" font-size=\"12\" font-style=\"italic\" lengthAdjust=\"spacingAndGlyphs\" textLength=\"40\" x=\"553\" y=\"78.1387\">«part»</text><text fill=\"#000000\" font-family=\"sans-serif\" font-size=\"12\" lengthAdjust=\"spacingAndGlyphs\" textLength=\"24\" x=\"559\" y=\"92.1074\">b: P</text><line style=\"stroke: #383838; stroke-width: 1.5;\" x1=\"553\" x2=\"593\" y1=\"99.9375\" y2=\"99.9375\"/></a><!--MD5=[60a26617385b1d2d0262a64233df1f8d]\n",
       "class E6--><a href=\"psysml:619a7e97-bac6-4f1e-8369-8e8a5aa8da71\" target=\"_top\" title=\"psysml:619a7e97-bac6-4f1e-8369-8e8a5aa8da71\" xlink:actuate=\"onRequest\" xlink:href=\"psysml:619a7e97-bac6-4f1e-8369-8e8a5aa8da71\" xlink:show=\"new\" xlink:title=\"psysml:619a7e97-bac6-4f1e-8369-8e8a5aa8da71\" xlink:type=\"simple\"><rect fill=\"#FFFFFF\" height=\"45.9375\" id=\"E6\" rx=\"10\" ry=\"10\" style=\"stroke: #383838; stroke-width: 1.5;\" width=\"42\" x=\"475\" y=\"62\"/><text fill=\"#000000\" font-family=\"sans-serif\" font-size=\"12\" font-style=\"italic\" lengthAdjust=\"spacingAndGlyphs\" textLength=\"40\" x=\"476\" y=\"78.1387\">«part»</text><text fill=\"#000000\" font-family=\"sans-serif\" font-size=\"12\" lengthAdjust=\"spacingAndGlyphs\" textLength=\"23\" x=\"482.5\" y=\"92.1074\">c: P</text><line style=\"stroke: #383838; stroke-width: 1.5;\" x1=\"476\" x2=\"516\" y1=\"99.9375\" y2=\"99.9375\"/></a><!--MD5=[2156ba9850f5573cc1fc38a6a4b2f02b]\n",
       "class E7--><a href=\"psysml:baf82fce-ad86-47f7-be04-61d8ab51238a\" target=\"_top\" title=\"psysml:baf82fce-ad86-47f7-be04-61d8ab51238a\" xlink:actuate=\"onRequest\" xlink:href=\"psysml:baf82fce-ad86-47f7-be04-61d8ab51238a\" xlink:show=\"new\" xlink:title=\"psysml:baf82fce-ad86-47f7-be04-61d8ab51238a\" xlink:type=\"simple\"><rect fill=\"#FFFFFF\" height=\"45.9375\" id=\"E7\" rx=\"10\" ry=\"10\" style=\"stroke: #383838; stroke-width: 1.5;\" width=\"42\" x=\"398\" y=\"62\"/><text fill=\"#000000\" font-family=\"sans-serif\" font-size=\"12\" font-style=\"italic\" lengthAdjust=\"spacingAndGlyphs\" textLength=\"40\" x=\"399\" y=\"78.1387\">«part»</text><text fill=\"#000000\" font-family=\"sans-serif\" font-size=\"12\" lengthAdjust=\"spacingAndGlyphs\" textLength=\"8\" x=\"413\" y=\"92.1074\">d</text><line style=\"stroke: #383838; stroke-width: 1.5;\" x1=\"399\" x2=\"439\" y1=\"99.9375\" y2=\"99.9375\"/></a><!--MD5=[b9389687b975829384b498ac4b7476b2]\n",
       "class E8--><a href=\"psysml:602edda4-e9f7-4346-9e9a-bc1deb44a144\" target=\"_top\" title=\"psysml:602edda4-e9f7-4346-9e9a-bc1deb44a144\" xlink:actuate=\"onRequest\" xlink:href=\"psysml:602edda4-e9f7-4346-9e9a-bc1deb44a144\" xlink:show=\"new\" xlink:title=\"psysml:602edda4-e9f7-4346-9e9a-bc1deb44a144\" xlink:type=\"simple\"><rect fill=\"#FFFFFF\" height=\"45.9375\" id=\"E8\" rx=\"10\" ry=\"10\" style=\"stroke: #383838; stroke-width: 1.5;\" width=\"42\" x=\"321\" y=\"62\"/><text fill=\"#000000\" font-family=\"sans-serif\" font-size=\"12\" font-style=\"italic\" lengthAdjust=\"spacingAndGlyphs\" textLength=\"40\" x=\"322\" y=\"78.1387\">«part»</text><text fill=\"#000000\" font-family=\"sans-serif\" font-size=\"12\" lengthAdjust=\"spacingAndGlyphs\" textLength=\"8\" x=\"336\" y=\"92.1074\">e</text><line style=\"stroke: #383838; stroke-width: 1.5;\" x1=\"322\" x2=\"362\" y1=\"99.9375\" y2=\"99.9375\"/></a><!--MD5=[fd4143e9d270a159db93a4ea2a975926]\n",
       "class E9--><a href=\"psysml:ea99d53b-6b01-4b58-853a-79f827c6b1d7\" target=\"_top\" title=\"psysml:ea99d53b-6b01-4b58-853a-79f827c6b1d7\" xlink:actuate=\"onRequest\" xlink:href=\"psysml:ea99d53b-6b01-4b58-853a-79f827c6b1d7\" xlink:show=\"new\" xlink:title=\"psysml:ea99d53b-6b01-4b58-853a-79f827c6b1d7\" xlink:type=\"simple\"><rect fill=\"#FFFFFF\" height=\"45.9375\" id=\"E9\" rx=\"10\" ry=\"10\" style=\"stroke: #383838; stroke-width: 1.5;\" width=\"42\" x=\"244\" y=\"62\"/><text fill=\"#000000\" font-family=\"sans-serif\" font-size=\"12\" font-style=\"italic\" lengthAdjust=\"spacingAndGlyphs\" textLength=\"40\" x=\"245\" y=\"78.1387\">«part»</text><text fill=\"#000000\" font-family=\"sans-serif\" font-size=\"12\" lengthAdjust=\"spacingAndGlyphs\" textLength=\"4\" x=\"261\" y=\"92.1074\">f</text><line style=\"stroke: #383838; stroke-width: 1.5;\" x1=\"245\" x2=\"285\" y1=\"99.9375\" y2=\"99.9375\"/></a><!--MD5=[96f4274e9e20536e775497830990834d]\n",
       "class E10--><a href=\"psysml:7f8b6820-ebe3-4bcd-8be0-e5513e7bb89f\" target=\"_top\" title=\"psysml:7f8b6820-ebe3-4bcd-8be0-e5513e7bb89f\" xlink:actuate=\"onRequest\" xlink:href=\"psysml:7f8b6820-ebe3-4bcd-8be0-e5513e7bb89f\" xlink:show=\"new\" xlink:title=\"psysml:7f8b6820-ebe3-4bcd-8be0-e5513e7bb89f\" xlink:type=\"simple\"><rect fill=\"#FFFFFF\" height=\"45.9375\" id=\"E10\" rx=\"10\" ry=\"10\" style=\"stroke: #383838; stroke-width: 1.5;\" width=\"42\" x=\"167\" y=\"62\"/><text fill=\"#000000\" font-family=\"sans-serif\" font-size=\"12\" font-style=\"italic\" lengthAdjust=\"spacingAndGlyphs\" textLength=\"40\" x=\"168\" y=\"78.1387\">«part»</text><text fill=\"#000000\" font-family=\"sans-serif\" font-size=\"12\" lengthAdjust=\"spacingAndGlyphs\" textLength=\"8\" x=\"182\" y=\"92.1074\">g</text><line style=\"stroke: #383838; stroke-width: 1.5;\" x1=\"168\" x2=\"208\" y1=\"99.9375\" y2=\"99.9375\"/></a><!--MD5=[1dd1bfd58a279cf63c5f349dbc8fc6a1]\n",
       "class E11--><a href=\"psysml:b98160f9-962b-4166-b8bf-1b8817b6e181\" target=\"_top\" title=\"psysml:b98160f9-962b-4166-b8bf-1b8817b6e181\" xlink:actuate=\"onRequest\" xlink:href=\"psysml:b98160f9-962b-4166-b8bf-1b8817b6e181\" xlink:show=\"new\" xlink:title=\"psysml:b98160f9-962b-4166-b8bf-1b8817b6e181\" xlink:type=\"simple\"><rect fill=\"#FFFFFF\" height=\"88.3516\" id=\"E11\" style=\"stroke: #383838; stroke-width: 1.5;\" width=\"99\" x=\"32.5\" y=\"41\"/><text fill=\"#000000\" font-family=\"sans-serif\" font-size=\"12\" font-style=\"italic\" lengthAdjust=\"spacingAndGlyphs\" textLength=\"97\" x=\"33.5\" y=\"57.1387\">«attribute  def»</text><text fill=\"#000000\" font-family=\"sans-serif\" font-size=\"12\" lengthAdjust=\"spacingAndGlyphs\" textLength=\"8\" x=\"78\" y=\"71.1074\">A</text><line style=\"stroke: #383838; stroke-width: 1.5;\" x1=\"33.5\" x2=\"130.5\" y1=\"78.9375\" y2=\"78.9375\"/><text fill=\"#000000\" font-family=\"sans-serif\" font-size=\"11\" lengthAdjust=\"spacingAndGlyphs\" textLength=\"51\" x=\"38.5\" y=\"109.9526\">i: Integer</text><text fill=\"#000000\" font-family=\"sans-serif\" font-size=\"11\" lengthAdjust=\"spacingAndGlyphs\" textLength=\"21\" x=\"38.5\" y=\"122.7573\">x: A</text><line style=\"stroke: #383838; stroke-width: 1.0;\" x1=\"33.5\" x2=\"54.5\" y1=\"93.3398\" y2=\"93.3398\"/><text fill=\"#000000\" font-family=\"sans-serif\" font-size=\"11\" lengthAdjust=\"spacingAndGlyphs\" textLength=\"55\" x=\"54.5\" y=\"96.6479\">attributes</text><line style=\"stroke: #383838; stroke-width: 1.0;\" x1=\"109.5\" x2=\"130.5\" y1=\"93.3398\" y2=\"93.3398\"/></a><!--MD5=[15ebcb19ae302d9b601edb458606d402]\n",
       "link E5 to E2--><a href=\"psysml:f465fece-be6c-4a0b-8b87-5b67ed75d8f8\" target=\"_top\" title=\"psysml:f465fece-be6c-4a0b-8b87-5b67ed75d8f8\" xlink:actuate=\"onRequest\" xlink:href=\"psysml:f465fece-be6c-4a0b-8b87-5b67ed75d8f8\" xlink:show=\"new\" xlink:title=\"psysml:f465fece-be6c-4a0b-8b87-5b67ed75d8f8\" xlink:type=\"simple\"><path d=\"M566.12,108.06 C560.83,125 553.38,148.89 546.98,169.39 \" fill=\"none\" id=\"E5-&gt;E2\" style=\"stroke: #383838; stroke-width: 1.0;\"/><polygon fill=\"#FFFFFF\" points=\"540.95,188.74,539.929,168.5173,553.2931,172.6886,540.95,188.74\" style=\"stroke: #383838; stroke-width: 1.0;\"/><ellipse cx=\"543.5364\" cy=\"163.6721\" fill=\"#383838\" rx=\"2\" ry=\"2\" style=\"stroke: #383838; stroke-width: 1.0;\"/><ellipse cx=\"553.0823\" cy=\"166.6516\" fill=\"#383838\" rx=\"2\" ry=\"2\" style=\"stroke: #383838; stroke-width: 1.0;\"/></a><!--MD5=[2351f337d6de0f557b50152ba70847b5]\n",
       "link E6 to E2--><a href=\"psysml:72e02ffe-11ce-46be-a503-0c91c54548ee\" target=\"_top\" title=\"psysml:72e02ffe-11ce-46be-a503-0c91c54548ee\" xlink:actuate=\"onRequest\" xlink:href=\"psysml:72e02ffe-11ce-46be-a503-0c91c54548ee\" xlink:show=\"new\" xlink:title=\"psysml:72e02ffe-11ce-46be-a503-0c91c54548ee\" xlink:type=\"simple\"><path d=\"M502.71,108.06 C507.86,125 515.12,148.89 521.35,169.39 \" fill=\"none\" id=\"E6-&gt;E2\" style=\"stroke: #383838; stroke-width: 1.0;\"/><polygon fill=\"#FFFFFF\" points=\"527.23,188.74,515.007,172.597,528.4019,168.5255,527.23,188.74\" style=\"stroke: #383838; stroke-width: 1.0;\"/><ellipse cx=\"515.2628\" cy=\"166.5617\" fill=\"#383838\" rx=\"2\" ry=\"2\" style=\"stroke: #383838; stroke-width: 1.0;\"/><ellipse cx=\"524.8306\" cy=\"163.6535\" fill=\"#383838\" rx=\"2\" ry=\"2\" style=\"stroke: #383838; stroke-width: 1.0;\"/></a><!--MD5=[ea47c36b6badc1ac67e634517a061591]\n",
       "@startuml\r\n",
       "top to bottom direction\r\n",
       "skinparam monochrome true\r\n",
       "skinparam classbackgroundcolor white\r\n",
       "skinparam shadowing false\r\n",
       "skinparam wrapWidth 300\r\n",
       "hide circle\r\n",
       "\r\n",
       "package \"MultiplicityTest\" as E1  [[psysml:437e1e49-e6a3-4f3e-be27-b1e07120749d ]]  {\r\n",
       "comp def \"P\" as E2  <<(T,blue) part  def>> [[psysml:d60dc8a9-ee87-4177-8909-4fd780a9d8f8 ]] {\r\n",
       "}\r\n",
       "comp usage \"n: Integer \" as E3  <<(T,blue) attribute>> [[psysml:a5340f1d-d68a-4585-8f96-7305e6f489d2 ]] {\r\n",
       "}\r\n",
       "comp usage \"a \" as E4  <<(T,blue) part>> [[psysml:478d9241-8f6e-4034-a71b-67b7ef5acdce ]] {\r\n",
       "}\r\n",
       "comp usage \"b: P \" as E5  <<(T,blue) part>> [[psysml:bc94da79-c19f-4e44-8720-527e565e90dd ]] {\r\n",
       "}\r\n",
       "comp usage \"c: P \" as E6  <<(T,blue) part>> [[psysml:619a7e97-bac6-4f1e-8369-8e8a5aa8da71 ]] {\r\n",
       "}\r\n",
       "comp usage \"d \" as E7  <<(T,blue) part>> [[psysml:baf82fce-ad86-47f7-be04-61d8ab51238a ]] {\r\n",
       "}\r\n",
       "comp usage \"e \" as E8  <<(T,blue) part>> [[psysml:602edda4-e9f7-4346-9e9a-bc1deb44a144 ]] {\r\n",
       "}\r\n",
       "comp usage \"f \" as E9  <<(T,blue) part>> [[psysml:ea99d53b-6b01-4b58-853a-79f827c6b1d7 ]] {\r\n",
       "}\r\n",
       "comp usage \"g \" as E10  <<(T,blue) part>> [[psysml:7f8b6820-ebe3-4bcd-8be0-e5513e7bb89f ]] {\r\n",
       "}\r\n",
       "comp def \"A\" as E11  <<(T,blue) attribute  def>> [[psysml:b98160f9-962b-4166-b8bf-1b8817b6e181 ]] {\r\n",
       "- - attributes - -\r\n",
       "i: Integer\r\n",
       "x: A\r\n",
       "}\r\n",
       "}\r\n",
       "E5 - -:|> E2 [[psysml:f465fece-be6c-4a0b-8b87-5b67ed75d8f8 ]] \r\n",
       "E6 - -:|> E2 [[psysml:72e02ffe-11ce-46be-a503-0c91c54548ee ]] \r\n",
       "@enduml\r\n",
       "\n",
       "PlantUML version 1.2020.13(Sat Jun 13 12:26:38 UTC 2020)\n",
       "(EPL source distribution)\n",
       "Java Runtime: OpenJDK Runtime Environment\n",
       "JVM: OpenJDK 64-Bit Server VM\n",
       "Default Encoding: UTF-8\n",
       "Language: en\n",
       "Country: null\n",
       "--></g></svg>"
      ]
     },
     "execution_count": 45,
     "metadata": {},
     "output_type": "execute_result"
    }
   ],
   "source": [
    "%viz --style=\"TB\" --view=\"Tree\" \"MultiplicityTest\""
   ]
  },
  {
   "cell_type": "code",
   "execution_count": 46,
   "id": "0a786065",
   "metadata": {
    "execution": {
     "iopub.execute_input": "2022-03-03T09:58:32.347754Z",
     "iopub.status.busy": "2022-03-03T09:58:32.347314Z",
     "iopub.status.idle": "2022-03-03T09:58:32.351706Z",
     "shell.execute_reply": "2022-03-03T09:58:32.351334Z"
    }
   },
   "outputs": [
    {
     "data": {
      "image/svg+xml": [
       "<?xml version=\"1.0\" encoding=\"UTF-8\" standalone=\"no\"?><svg xmlns=\"http://www.w3.org/2000/svg\" xmlns:xlink=\"http://www.w3.org/1999/xlink\" contentScriptType=\"application/ecmascript\" contentStyleType=\"text/css\" height=\"12px\" preserveAspectRatio=\"none\" style=\"width:12px;height:12px;\" version=\"1.1\" viewBox=\"0 0 12 12\" width=\"12px\" zoomAndPan=\"magnify\"><defs/><g><!--MD5=[f4ee21bc66e489b5061b7c3e9601fdef]\n",
       "@startuml\r\n",
       "top to bottom direction\r\n",
       "skinparam monochrome true\r\n",
       "skinparam classbackgroundcolor white\r\n",
       "skinparam shadowing false\r\n",
       "skinparam wrapWidth 300\r\n",
       "hide circle\r\n",
       "\r\n",
       "@enduml\r\n",
       "\n",
       "PlantUML version 1.2020.13(Sat Jun 13 12:26:38 UTC 2020)\n",
       "(EPL source distribution)\n",
       "Java Runtime: OpenJDK Runtime Environment\n",
       "JVM: OpenJDK 64-Bit Server VM\n",
       "Default Encoding: UTF-8\n",
       "Language: en\n",
       "Country: null\n",
       "--></g></svg>"
      ]
     },
     "execution_count": 46,
     "metadata": {},
     "output_type": "execute_result"
    }
   ],
   "source": [
    "%viz --style=\"TB\" --view=\"State\" \"MultiplicityTest\""
   ]
  },
  {
   "cell_type": "code",
   "execution_count": 47,
   "id": "341a375e",
   "metadata": {
    "execution": {
     "iopub.execute_input": "2022-03-03T09:58:32.401670Z",
     "iopub.status.busy": "2022-03-03T09:58:32.401235Z",
     "iopub.status.idle": "2022-03-03T09:58:32.429276Z",
     "shell.execute_reply": "2022-03-03T09:58:32.427422Z"
    }
   },
   "outputs": [
    {
     "data": {
      "image/svg+xml": [
       "<?xml version=\"1.0\" encoding=\"UTF-8\" standalone=\"no\"?><svg xmlns=\"http://www.w3.org/2000/svg\" xmlns:xlink=\"http://www.w3.org/1999/xlink\" contentScriptType=\"application/ecmascript\" contentStyleType=\"text/css\" height=\"115px\" preserveAspectRatio=\"none\" style=\"width:987px;height:115px;\" version=\"1.1\" viewBox=\"0 0 987 115\" width=\"987px\" zoomAndPan=\"magnify\"><defs/><g><!--MD5=[fbc87193dbaf4d95561dea2c320d4a47]\n",
       "cluster E1--><a href=\"psysml:437e1e49-e6a3-4f3e-be27-b1e07120749d\" target=\"_top\" title=\"psysml:437e1e49-e6a3-4f3e-be27-b1e07120749d\" xlink:actuate=\"onRequest\" xlink:href=\"psysml:437e1e49-e6a3-4f3e-be27-b1e07120749d\" xlink:show=\"new\" xlink:title=\"psysml:437e1e49-e6a3-4f3e-be27-b1e07120749d\" xlink:type=\"simple\"><polygon fill=\"#FFFFFF\" points=\"16,6,123,6,130,28.2969,965,28.2969,965,103,16,103,16,6\" style=\"stroke: #000000; stroke-width: 1.5;\"/><line style=\"stroke: #000000; stroke-width: 1.5;\" x1=\"16\" x2=\"130\" y1=\"28.2969\" y2=\"28.2969\"/><text fill=\"#000000\" font-family=\"sans-serif\" font-size=\"14\" font-weight=\"bold\" lengthAdjust=\"spacingAndGlyphs\" textLength=\"101\" x=\"20\" y=\"20.9951\">MultiplicityTest</text></a><!--MD5=[09b614a08d8cba4a07c9adeb5e0fee81]\n",
       "class E3--><a href=\"psysml:a5340f1d-d68a-4585-8f96-7305e6f489d2\" target=\"_top\" title=\"psysml:a5340f1d-d68a-4585-8f96-7305e6f489d2\" xlink:actuate=\"onRequest\" xlink:href=\"psysml:a5340f1d-d68a-4585-8f96-7305e6f489d2\" xlink:show=\"new\" xlink:title=\"psysml:a5340f1d-d68a-4585-8f96-7305e6f489d2\" xlink:type=\"simple\"><rect fill=\"#FFFFFF\" height=\"45.9375\" id=\"E3\" rx=\"10\" ry=\"10\" style=\"stroke: #383838; stroke-width: 1.5;\" width=\"71\" x=\"877.5\" y=\"41\"/><text fill=\"#000000\" font-family=\"sans-serif\" font-size=\"12\" font-style=\"italic\" lengthAdjust=\"spacingAndGlyphs\" textLength=\"69\" x=\"878.5\" y=\"57.1387\">«attribute»</text><text fill=\"#000000\" font-family=\"sans-serif\" font-size=\"12\" lengthAdjust=\"spacingAndGlyphs\" textLength=\"61\" x=\"880.5\" y=\"71.1074\">n: Integer</text><line style=\"stroke: #383838; stroke-width: 1.5;\" x1=\"878.5\" x2=\"947.5\" y1=\"78.9375\" y2=\"78.9375\"/></a><g id=\"E1.E11\"><a href=\"psysml:b98160f9-962b-4166-b8bf-1b8817b6e181\" target=\"_top\" title=\"psysml:b98160f9-962b-4166-b8bf-1b8817b6e181\" xlink:actuate=\"onRequest\" xlink:href=\"psysml:b98160f9-962b-4166-b8bf-1b8817b6e181\" xlink:show=\"new\" xlink:title=\"psysml:b98160f9-962b-4166-b8bf-1b8817b6e181\" xlink:type=\"simple\"><rect fill=\"#FFFFFF\" height=\"42.9375\" id=\"E11\" style=\"stroke: #383838; stroke-width: 1.5;\" width=\"104\" x=\"738\" y=\"42.5\"/><rect fill=\"#F8F8F8\" height=\"37.9375\" style=\"stroke: #383838; stroke-width: 1.5;\" width=\"104\" x=\"738\" y=\"42.5\"/><text fill=\"#000000\" font-family=\"sans-serif\" font-size=\"12\" font-style=\"italic\" lengthAdjust=\"spacingAndGlyphs\" textLength=\"97\" x=\"741.5\" y=\"58.6387\">«attribute  def»</text><text fill=\"#000000\" font-family=\"sans-serif\" font-size=\"12\" lengthAdjust=\"spacingAndGlyphs\" textLength=\"8\" x=\"786\" y=\"72.6074\">A</text></a></g><g id=\"E1.E2\"><a href=\"psysml:d60dc8a9-ee87-4177-8909-4fd780a9d8f8\" target=\"_top\" title=\"psysml:d60dc8a9-ee87-4177-8909-4fd780a9d8f8\" xlink:actuate=\"onRequest\" xlink:href=\"psysml:d60dc8a9-ee87-4177-8909-4fd780a9d8f8\" xlink:show=\"new\" xlink:title=\"psysml:d60dc8a9-ee87-4177-8909-4fd780a9d8f8\" xlink:type=\"simple\"><rect fill=\"#FFFFFF\" height=\"42.9375\" id=\"E2\" style=\"stroke: #383838; stroke-width: 1.5;\" width=\"75\" x=\"627.5\" y=\"42.5\"/><rect fill=\"#F8F8F8\" height=\"37.9375\" style=\"stroke: #383838; stroke-width: 1.5;\" width=\"75\" x=\"627.5\" y=\"42.5\"/><text fill=\"#000000\" font-family=\"sans-serif\" font-size=\"12\" font-style=\"italic\" lengthAdjust=\"spacingAndGlyphs\" textLength=\"68\" x=\"631\" y=\"58.6387\">«part  def»</text><text fill=\"#000000\" font-family=\"sans-serif\" font-size=\"12\" lengthAdjust=\"spacingAndGlyphs\" textLength=\"8\" x=\"661\" y=\"72.6074\">P</text></a></g><g id=\"E1.E4\"><a href=\"psysml:478d9241-8f6e-4034-a71b-67b7ef5acdce\" target=\"_top\" title=\"psysml:478d9241-8f6e-4034-a71b-67b7ef5acdce\" xlink:actuate=\"onRequest\" xlink:href=\"psysml:478d9241-8f6e-4034-a71b-67b7ef5acdce\" xlink:show=\"new\" xlink:title=\"psysml:478d9241-8f6e-4034-a71b-67b7ef5acdce\" xlink:type=\"simple\"><rect fill=\"#FFFFFF\" height=\"40\" id=\"E4\" rx=\"10\" ry=\"10\" style=\"stroke: #383838; stroke-width: 1.5;\" width=\"50\" x=\"542\" y=\"44\"/><rect fill=\"#F8F8F8\" height=\"23.9688\" rx=\"10\" ry=\"10\" style=\"stroke: #F8F8F8; stroke-width: 1.5;\" width=\"50\" x=\"542\" y=\"44\"/><rect fill=\"#F8F8F8\" height=\"10\" style=\"stroke: #F8F8F8; stroke-width: 1.5;\" width=\"50\" x=\"542\" y=\"57.9688\"/><rect fill=\"none\" height=\"40\" id=\"E4\" rx=\"10\" ry=\"10\" style=\"stroke: #383838; stroke-width: 1.5;\" width=\"50\" x=\"542\" y=\"44\"/><text fill=\"#000000\" font-family=\"sans-serif\" font-size=\"12\" lengthAdjust=\"spacingAndGlyphs\" textLength=\"8\" x=\"563\" y=\"60.1387\">a</text></a></g><g id=\"E1.E5\"><a href=\"psysml:bc94da79-c19f-4e44-8720-527e565e90dd\" target=\"_top\" title=\"psysml:bc94da79-c19f-4e44-8720-527e565e90dd\" xlink:actuate=\"onRequest\" xlink:href=\"psysml:bc94da79-c19f-4e44-8720-527e565e90dd\" xlink:show=\"new\" xlink:title=\"psysml:bc94da79-c19f-4e44-8720-527e565e90dd\" xlink:type=\"simple\"><rect fill=\"#FFFFFF\" height=\"40\" id=\"E5\" rx=\"10\" ry=\"10\" style=\"stroke: #383838; stroke-width: 1.5;\" width=\"50\" x=\"457\" y=\"44\"/><rect fill=\"#F8F8F8\" height=\"23.9688\" rx=\"10\" ry=\"10\" style=\"stroke: #F8F8F8; stroke-width: 1.5;\" width=\"50\" x=\"457\" y=\"44\"/><rect fill=\"#F8F8F8\" height=\"10\" style=\"stroke: #F8F8F8; stroke-width: 1.5;\" width=\"50\" x=\"457\" y=\"57.9688\"/><rect fill=\"none\" height=\"40\" id=\"E5\" rx=\"10\" ry=\"10\" style=\"stroke: #383838; stroke-width: 1.5;\" width=\"50\" x=\"457\" y=\"44\"/><text fill=\"#000000\" font-family=\"sans-serif\" font-size=\"12\" lengthAdjust=\"spacingAndGlyphs\" textLength=\"24\" x=\"470\" y=\"60.1387\">b: P</text></a></g><g id=\"E1.E6\"><a href=\"psysml:619a7e97-bac6-4f1e-8369-8e8a5aa8da71\" target=\"_top\" title=\"psysml:619a7e97-bac6-4f1e-8369-8e8a5aa8da71\" xlink:actuate=\"onRequest\" xlink:href=\"psysml:619a7e97-bac6-4f1e-8369-8e8a5aa8da71\" xlink:show=\"new\" xlink:title=\"psysml:619a7e97-bac6-4f1e-8369-8e8a5aa8da71\" xlink:type=\"simple\"><rect fill=\"#FFFFFF\" height=\"40\" id=\"E6\" rx=\"10\" ry=\"10\" style=\"stroke: #383838; stroke-width: 1.5;\" width=\"50\" x=\"372\" y=\"44\"/><rect fill=\"#F8F8F8\" height=\"23.9688\" rx=\"10\" ry=\"10\" style=\"stroke: #F8F8F8; stroke-width: 1.5;\" width=\"50\" x=\"372\" y=\"44\"/><rect fill=\"#F8F8F8\" height=\"10\" style=\"stroke: #F8F8F8; stroke-width: 1.5;\" width=\"50\" x=\"372\" y=\"57.9688\"/><rect fill=\"none\" height=\"40\" id=\"E6\" rx=\"10\" ry=\"10\" style=\"stroke: #383838; stroke-width: 1.5;\" width=\"50\" x=\"372\" y=\"44\"/><text fill=\"#000000\" font-family=\"sans-serif\" font-size=\"12\" lengthAdjust=\"spacingAndGlyphs\" textLength=\"23\" x=\"385.5\" y=\"60.1387\">c: P</text></a></g><g id=\"E1.E7\"><a href=\"psysml:baf82fce-ad86-47f7-be04-61d8ab51238a\" target=\"_top\" title=\"psysml:baf82fce-ad86-47f7-be04-61d8ab51238a\" xlink:actuate=\"onRequest\" xlink:href=\"psysml:baf82fce-ad86-47f7-be04-61d8ab51238a\" xlink:show=\"new\" xlink:title=\"psysml:baf82fce-ad86-47f7-be04-61d8ab51238a\" xlink:type=\"simple\"><rect fill=\"#FFFFFF\" height=\"40\" id=\"E7\" rx=\"10\" ry=\"10\" style=\"stroke: #383838; stroke-width: 1.5;\" width=\"50\" x=\"287\" y=\"44\"/><rect fill=\"#F8F8F8\" height=\"23.9688\" rx=\"10\" ry=\"10\" style=\"stroke: #F8F8F8; stroke-width: 1.5;\" width=\"50\" x=\"287\" y=\"44\"/><rect fill=\"#F8F8F8\" height=\"10\" style=\"stroke: #F8F8F8; stroke-width: 1.5;\" width=\"50\" x=\"287\" y=\"57.9688\"/><rect fill=\"none\" height=\"40\" id=\"E7\" rx=\"10\" ry=\"10\" style=\"stroke: #383838; stroke-width: 1.5;\" width=\"50\" x=\"287\" y=\"44\"/><text fill=\"#000000\" font-family=\"sans-serif\" font-size=\"12\" lengthAdjust=\"spacingAndGlyphs\" textLength=\"8\" x=\"308\" y=\"60.1387\">d</text></a></g><g id=\"E1.E8\"><a href=\"psysml:602edda4-e9f7-4346-9e9a-bc1deb44a144\" target=\"_top\" title=\"psysml:602edda4-e9f7-4346-9e9a-bc1deb44a144\" xlink:actuate=\"onRequest\" xlink:href=\"psysml:602edda4-e9f7-4346-9e9a-bc1deb44a144\" xlink:show=\"new\" xlink:title=\"psysml:602edda4-e9f7-4346-9e9a-bc1deb44a144\" xlink:type=\"simple\"><rect fill=\"#FFFFFF\" height=\"40\" id=\"E8\" rx=\"10\" ry=\"10\" style=\"stroke: #383838; stroke-width: 1.5;\" width=\"50\" x=\"202\" y=\"44\"/><rect fill=\"#F8F8F8\" height=\"23.9688\" rx=\"10\" ry=\"10\" style=\"stroke: #F8F8F8; stroke-width: 1.5;\" width=\"50\" x=\"202\" y=\"44\"/><rect fill=\"#F8F8F8\" height=\"10\" style=\"stroke: #F8F8F8; stroke-width: 1.5;\" width=\"50\" x=\"202\" y=\"57.9688\"/><rect fill=\"none\" height=\"40\" id=\"E8\" rx=\"10\" ry=\"10\" style=\"stroke: #383838; stroke-width: 1.5;\" width=\"50\" x=\"202\" y=\"44\"/><text fill=\"#000000\" font-family=\"sans-serif\" font-size=\"12\" lengthAdjust=\"spacingAndGlyphs\" textLength=\"8\" x=\"223\" y=\"60.1387\">e</text></a></g><g id=\"E1.E9\"><a href=\"psysml:ea99d53b-6b01-4b58-853a-79f827c6b1d7\" target=\"_top\" title=\"psysml:ea99d53b-6b01-4b58-853a-79f827c6b1d7\" xlink:actuate=\"onRequest\" xlink:href=\"psysml:ea99d53b-6b01-4b58-853a-79f827c6b1d7\" xlink:show=\"new\" xlink:title=\"psysml:ea99d53b-6b01-4b58-853a-79f827c6b1d7\" xlink:type=\"simple\"><rect fill=\"#FFFFFF\" height=\"40\" id=\"E9\" rx=\"10\" ry=\"10\" style=\"stroke: #383838; stroke-width: 1.5;\" width=\"50\" x=\"117\" y=\"44\"/><rect fill=\"#F8F8F8\" height=\"23.9688\" rx=\"10\" ry=\"10\" style=\"stroke: #F8F8F8; stroke-width: 1.5;\" width=\"50\" x=\"117\" y=\"44\"/><rect fill=\"#F8F8F8\" height=\"10\" style=\"stroke: #F8F8F8; stroke-width: 1.5;\" width=\"50\" x=\"117\" y=\"57.9688\"/><rect fill=\"none\" height=\"40\" id=\"E9\" rx=\"10\" ry=\"10\" style=\"stroke: #383838; stroke-width: 1.5;\" width=\"50\" x=\"117\" y=\"44\"/><text fill=\"#000000\" font-family=\"sans-serif\" font-size=\"12\" lengthAdjust=\"spacingAndGlyphs\" textLength=\"4\" x=\"140\" y=\"60.1387\">f</text></a></g><g id=\"E1.E10\"><a href=\"psysml:7f8b6820-ebe3-4bcd-8be0-e5513e7bb89f\" target=\"_top\" title=\"psysml:7f8b6820-ebe3-4bcd-8be0-e5513e7bb89f\" xlink:actuate=\"onRequest\" xlink:href=\"psysml:7f8b6820-ebe3-4bcd-8be0-e5513e7bb89f\" xlink:show=\"new\" xlink:title=\"psysml:7f8b6820-ebe3-4bcd-8be0-e5513e7bb89f\" xlink:type=\"simple\"><rect fill=\"#FFFFFF\" height=\"40\" id=\"E10\" rx=\"10\" ry=\"10\" style=\"stroke: #383838; stroke-width: 1.5;\" width=\"50\" x=\"32\" y=\"44\"/><rect fill=\"#F8F8F8\" height=\"23.9688\" rx=\"10\" ry=\"10\" style=\"stroke: #F8F8F8; stroke-width: 1.5;\" width=\"50\" x=\"32\" y=\"44\"/><rect fill=\"#F8F8F8\" height=\"10\" style=\"stroke: #F8F8F8; stroke-width: 1.5;\" width=\"50\" x=\"32\" y=\"57.9688\"/><rect fill=\"none\" height=\"40\" id=\"E10\" rx=\"10\" ry=\"10\" style=\"stroke: #383838; stroke-width: 1.5;\" width=\"50\" x=\"32\" y=\"44\"/><text fill=\"#000000\" font-family=\"sans-serif\" font-size=\"12\" lengthAdjust=\"spacingAndGlyphs\" textLength=\"8\" x=\"53\" y=\"60.1387\">g</text></a></g><!--MD5=[7d013060a55c112b3bcdd95b30e72518]\n",
       "@startuml\r\n",
       "skinparam ranksep 10\r\n",
       "skinparam rectangle {\r\n",
       " backgroundColor<<block>> LightGreen\r\n",
       "}\r\n",
       "top to bottom direction\r\n",
       "skinparam monochrome true\r\n",
       "skinparam classbackgroundcolor white\r\n",
       "skinparam shadowing false\r\n",
       "skinparam wrapWidth 300\r\n",
       "hide circle\r\n",
       "\r\n",
       "package \"MultiplicityTest\" as E1  [[psysml:437e1e49-e6a3-4f3e-be27-b1e07120749d ]]  {\r\n",
       "rec def \"P\" as E2  <<(T,blue) part  def>> [[psysml:d60dc8a9-ee87-4177-8909-4fd780a9d8f8 ]] {\r\n",
       "}\r\n",
       "comp usage \"n: Integer \" as E3  <<(T,blue) attribute>> [[psysml:a5340f1d-d68a-4585-8f96-7305e6f489d2 ]] {\r\n",
       "}\r\n",
       "rec usage \"a\" as E4  [[psysml:478d9241-8f6e-4034-a71b-67b7ef5acdce ]] {\r\n",
       "}\r\n",
       "rec usage \"b: P\" as E5  [[psysml:bc94da79-c19f-4e44-8720-527e565e90dd ]] {\r\n",
       "}\r\n",
       "rec usage \"c: P\" as E6  [[psysml:619a7e97-bac6-4f1e-8369-8e8a5aa8da71 ]] {\r\n",
       "}\r\n",
       "rec usage \"d\" as E7  [[psysml:baf82fce-ad86-47f7-be04-61d8ab51238a ]] {\r\n",
       "}\r\n",
       "rec usage \"e\" as E8  [[psysml:602edda4-e9f7-4346-9e9a-bc1deb44a144 ]] {\r\n",
       "}\r\n",
       "rec usage \"f\" as E9  [[psysml:ea99d53b-6b01-4b58-853a-79f827c6b1d7 ]] {\r\n",
       "}\r\n",
       "rec usage \"g\" as E10  [[psysml:7f8b6820-ebe3-4bcd-8be0-e5513e7bb89f ]] {\r\n",
       "}\r\n",
       "def \"A\" as E11  <<(T,blue) attribute  def>> [[psysml:b98160f9-962b-4166-b8bf-1b8817b6e181 ]] \r\n",
       "}\r\n",
       "@enduml\r\n",
       "\n",
       "PlantUML version 1.2020.13(Sat Jun 13 12:26:38 UTC 2020)\n",
       "(EPL source distribution)\n",
       "Java Runtime: OpenJDK Runtime Environment\n",
       "JVM: OpenJDK 64-Bit Server VM\n",
       "Default Encoding: UTF-8\n",
       "Language: en\n",
       "Country: null\n",
       "--></g></svg>"
      ]
     },
     "execution_count": 47,
     "metadata": {},
     "output_type": "execute_result"
    }
   ],
   "source": [
    "%viz --style=\"TB\" --view=\"Interconnection\" \"MultiplicityTest\""
   ]
  },
  {
   "cell_type": "code",
   "execution_count": 48,
   "id": "f457eb97",
   "metadata": {
    "execution": {
     "iopub.execute_input": "2022-03-03T09:58:32.478266Z",
     "iopub.status.busy": "2022-03-03T09:58:32.477812Z",
     "iopub.status.idle": "2022-03-03T09:58:32.482926Z",
     "shell.execute_reply": "2022-03-03T09:58:32.482551Z"
    }
   },
   "outputs": [
    {
     "data": {
      "image/svg+xml": [
       "<?xml version=\"1.0\" encoding=\"UTF-8\" standalone=\"no\"?><svg xmlns=\"http://www.w3.org/2000/svg\" xmlns:xlink=\"http://www.w3.org/1999/xlink\" contentScriptType=\"application/ecmascript\" contentStyleType=\"text/css\" height=\"12px\" preserveAspectRatio=\"none\" style=\"width:12px;height:12px;\" version=\"1.1\" viewBox=\"0 0 12 12\" width=\"12px\" zoomAndPan=\"magnify\"><defs/><g><!--MD5=[06afc254b03ac5e9d9fb7773b07d0800]\n",
       "@startuml\r\n",
       "skinparam ranksep 8\r\n",
       "top to bottom direction\r\n",
       "skinparam monochrome true\r\n",
       "skinparam classbackgroundcolor white\r\n",
       "skinparam shadowing false\r\n",
       "skinparam wrapWidth 300\r\n",
       "hide circle\r\n",
       "\r\n",
       "@enduml\r\n",
       "\n",
       "PlantUML version 1.2020.13(Sat Jun 13 12:26:38 UTC 2020)\n",
       "(EPL source distribution)\n",
       "Java Runtime: OpenJDK Runtime Environment\n",
       "JVM: OpenJDK 64-Bit Server VM\n",
       "Default Encoding: UTF-8\n",
       "Language: en\n",
       "Country: null\n",
       "--></g></svg>"
      ]
     },
     "execution_count": 48,
     "metadata": {},
     "output_type": "execute_result"
    }
   ],
   "source": [
    "%viz --style=\"TB\" --view=\"Action\" \"MultiplicityTest\""
   ]
  },
  {
   "cell_type": "code",
   "execution_count": 49,
   "id": "f699cb90",
   "metadata": {
    "execution": {
     "iopub.execute_input": "2022-03-03T09:58:32.532934Z",
     "iopub.status.busy": "2022-03-03T09:58:32.532510Z",
     "iopub.status.idle": "2022-03-03T09:58:32.537062Z",
     "shell.execute_reply": "2022-03-03T09:58:32.537387Z"
    }
   },
   "outputs": [
    {
     "data": {
      "image/svg+xml": [
       "<?xml version=\"1.0\" encoding=\"UTF-8\" standalone=\"no\"?><svg xmlns=\"http://www.w3.org/2000/svg\" xmlns:xlink=\"http://www.w3.org/1999/xlink\" contentScriptType=\"application/ecmascript\" contentStyleType=\"text/css\" height=\"12px\" preserveAspectRatio=\"none\" style=\"width:12px;height:12px;\" version=\"1.1\" viewBox=\"0 0 12 12\" width=\"12px\" zoomAndPan=\"magnify\"><defs/><g><!--MD5=[e1ab0c84c44d2fef8bf5f140f2689906]\n",
       "@startuml\r\n",
       "skinparam roundcorner 20\r\n",
       "skinparam BoxPadding 20\r\n",
       "skinparam SequenceBoxBackgroundColor #white\r\n",
       "skinparam style strictuml\r\n",
       "skinparam maxMessageSize 100\r\n",
       "top to bottom direction\r\n",
       "skinparam monochrome true\r\n",
       "skinparam classbackgroundcolor white\r\n",
       "skinparam shadowing false\r\n",
       "skinparam wrapWidth 300\r\n",
       "hide circle\r\n",
       "\r\n",
       "@enduml\r\n",
       "\n",
       "PlantUML version 1.2020.13(Sat Jun 13 12:26:38 UTC 2020)\n",
       "(EPL source distribution)\n",
       "Java Runtime: OpenJDK Runtime Environment\n",
       "JVM: OpenJDK 64-Bit Server VM\n",
       "Default Encoding: UTF-8\n",
       "Language: en\n",
       "Country: null\n",
       "--></g></svg>"
      ]
     },
     "execution_count": 49,
     "metadata": {},
     "output_type": "execute_result"
    }
   ],
   "source": [
    "%viz --style=\"TB\" --view=\"Sequence\" \"MultiplicityTest\""
   ]
  },
  {
   "cell_type": "code",
   "execution_count": 50,
   "id": "c2e3fc1c",
   "metadata": {
    "execution": {
     "iopub.execute_input": "2022-03-03T09:58:32.587901Z",
     "iopub.status.busy": "2022-03-03T09:58:32.587468Z",
     "iopub.status.idle": "2022-03-03T09:58:32.644725Z",
     "shell.execute_reply": "2022-03-03T09:58:32.643093Z"
    }
   },
   "outputs": [
    {
     "data": {
      "image/svg+xml": [
       "<?xml version=\"1.0\" encoding=\"UTF-8\" standalone=\"no\"?><svg xmlns=\"http://www.w3.org/2000/svg\" xmlns:xlink=\"http://www.w3.org/1999/xlink\" contentScriptType=\"application/ecmascript\" contentStyleType=\"text/css\" height=\"263px\" preserveAspectRatio=\"none\" style=\"width:816px;height:263px;\" version=\"1.1\" viewBox=\"0 0 816 263\" width=\"816px\" zoomAndPan=\"magnify\"><defs/><g><!--MD5=[fbc87193dbaf4d95561dea2c320d4a47]\n",
       "cluster E1--><a href=\"psysml:437e1e49-e6a3-4f3e-be27-b1e07120749d\" target=\"_top\" title=\"psysml:437e1e49-e6a3-4f3e-be27-b1e07120749d\" xlink:actuate=\"onRequest\" xlink:href=\"psysml:437e1e49-e6a3-4f3e-be27-b1e07120749d\" xlink:show=\"new\" xlink:title=\"psysml:437e1e49-e6a3-4f3e-be27-b1e07120749d\" xlink:type=\"simple\"><polygon fill=\"#FFFFFF\" points=\"16,6,123,6,130,28.2969,794,28.2969,794,251,16,251,16,6\" style=\"stroke: #000000; stroke-width: 1.5;\"/><line style=\"stroke: #000000; stroke-width: 1.5;\" x1=\"16\" x2=\"130\" y1=\"28.2969\" y2=\"28.2969\"/><text fill=\"#000000\" font-family=\"sans-serif\" font-size=\"14\" font-weight=\"bold\" lengthAdjust=\"spacingAndGlyphs\" textLength=\"101\" x=\"20\" y=\"20.9951\">MultiplicityTest</text></a><!--MD5=[b4997ac47864f28c2f74865a473b2911]\n",
       "class E2--><a href=\"psysml:d60dc8a9-ee87-4177-8909-4fd780a9d8f8\" target=\"_top\" title=\"psysml:d60dc8a9-ee87-4177-8909-4fd780a9d8f8\" xlink:actuate=\"onRequest\" xlink:href=\"psysml:d60dc8a9-ee87-4177-8909-4fd780a9d8f8\" xlink:show=\"new\" xlink:title=\"psysml:d60dc8a9-ee87-4177-8909-4fd780a9d8f8\" xlink:type=\"simple\"><rect fill=\"#FFFFFF\" height=\"45.9375\" id=\"E2\" style=\"stroke: #383838; stroke-width: 1.5;\" width=\"70\" x=\"499\" y=\"189\"/><text fill=\"#000000\" font-family=\"sans-serif\" font-size=\"12\" font-style=\"italic\" lengthAdjust=\"spacingAndGlyphs\" textLength=\"68\" x=\"500\" y=\"205.1387\">«part  def»</text><text fill=\"#000000\" font-family=\"sans-serif\" font-size=\"12\" lengthAdjust=\"spacingAndGlyphs\" textLength=\"8\" x=\"530\" y=\"219.1074\">P</text><line style=\"stroke: #383838; stroke-width: 1.5;\" x1=\"500\" x2=\"568\" y1=\"226.9375\" y2=\"226.9375\"/></a><!--MD5=[09b614a08d8cba4a07c9adeb5e0fee81]\n",
       "class E3--><a href=\"psysml:a5340f1d-d68a-4585-8f96-7305e6f489d2\" target=\"_top\" title=\"psysml:a5340f1d-d68a-4585-8f96-7305e6f489d2\" xlink:actuate=\"onRequest\" xlink:href=\"psysml:a5340f1d-d68a-4585-8f96-7305e6f489d2\" xlink:show=\"new\" xlink:title=\"psysml:a5340f1d-d68a-4585-8f96-7305e6f489d2\" xlink:type=\"simple\"><rect fill=\"#FFFFFF\" height=\"45.9375\" id=\"E3\" rx=\"10\" ry=\"10\" style=\"stroke: #383838; stroke-width: 1.5;\" width=\"71\" x=\"706.5\" y=\"62\"/><text fill=\"#000000\" font-family=\"sans-serif\" font-size=\"12\" font-style=\"italic\" lengthAdjust=\"spacingAndGlyphs\" textLength=\"69\" x=\"707.5\" y=\"78.1387\">«attribute»</text><text fill=\"#000000\" font-family=\"sans-serif\" font-size=\"12\" lengthAdjust=\"spacingAndGlyphs\" textLength=\"61\" x=\"709.5\" y=\"92.1074\">n: Integer</text><line style=\"stroke: #383838; stroke-width: 1.5;\" x1=\"707.5\" x2=\"776.5\" y1=\"99.9375\" y2=\"99.9375\"/></a><!--MD5=[ebbe1d658d1005bcc118a6aa81145e00]\n",
       "class E4--><a href=\"psysml:478d9241-8f6e-4034-a71b-67b7ef5acdce\" target=\"_top\" title=\"psysml:478d9241-8f6e-4034-a71b-67b7ef5acdce\" xlink:actuate=\"onRequest\" xlink:href=\"psysml:478d9241-8f6e-4034-a71b-67b7ef5acdce\" xlink:show=\"new\" xlink:title=\"psysml:478d9241-8f6e-4034-a71b-67b7ef5acdce\" xlink:type=\"simple\"><rect fill=\"#FFFFFF\" height=\"45.9375\" id=\"E4\" rx=\"10\" ry=\"10\" style=\"stroke: #383838; stroke-width: 1.5;\" width=\"42\" x=\"629\" y=\"62\"/><text fill=\"#000000\" font-family=\"sans-serif\" font-size=\"12\" font-style=\"italic\" lengthAdjust=\"spacingAndGlyphs\" textLength=\"40\" x=\"630\" y=\"78.1387\">«part»</text><text fill=\"#000000\" font-family=\"sans-serif\" font-size=\"12\" lengthAdjust=\"spacingAndGlyphs\" textLength=\"8\" x=\"644\" y=\"92.1074\">a</text><line style=\"stroke: #383838; stroke-width: 1.5;\" x1=\"630\" x2=\"670\" y1=\"99.9375\" y2=\"99.9375\"/></a><!--MD5=[270fce915f116d4de14055a7c1d9a0f3]\n",
       "class E5--><a href=\"psysml:bc94da79-c19f-4e44-8720-527e565e90dd\" target=\"_top\" title=\"psysml:bc94da79-c19f-4e44-8720-527e565e90dd\" xlink:actuate=\"onRequest\" xlink:href=\"psysml:bc94da79-c19f-4e44-8720-527e565e90dd\" xlink:show=\"new\" xlink:title=\"psysml:bc94da79-c19f-4e44-8720-527e565e90dd\" xlink:type=\"simple\"><rect fill=\"#FFFFFF\" height=\"45.9375\" id=\"E5\" rx=\"10\" ry=\"10\" style=\"stroke: #383838; stroke-width: 1.5;\" width=\"42\" x=\"552\" y=\"62\"/><text fill=\"#000000\" font-family=\"sans-serif\" font-size=\"12\" font-style=\"italic\" lengthAdjust=\"spacingAndGlyphs\" textLength=\"40\" x=\"553\" y=\"78.1387\">«part»</text><text fill=\"#000000\" font-family=\"sans-serif\" font-size=\"12\" lengthAdjust=\"spacingAndGlyphs\" textLength=\"24\" x=\"559\" y=\"92.1074\">b: P</text><line style=\"stroke: #383838; stroke-width: 1.5;\" x1=\"553\" x2=\"593\" y1=\"99.9375\" y2=\"99.9375\"/></a><!--MD5=[60a26617385b1d2d0262a64233df1f8d]\n",
       "class E6--><a href=\"psysml:619a7e97-bac6-4f1e-8369-8e8a5aa8da71\" target=\"_top\" title=\"psysml:619a7e97-bac6-4f1e-8369-8e8a5aa8da71\" xlink:actuate=\"onRequest\" xlink:href=\"psysml:619a7e97-bac6-4f1e-8369-8e8a5aa8da71\" xlink:show=\"new\" xlink:title=\"psysml:619a7e97-bac6-4f1e-8369-8e8a5aa8da71\" xlink:type=\"simple\"><rect fill=\"#FFFFFF\" height=\"45.9375\" id=\"E6\" rx=\"10\" ry=\"10\" style=\"stroke: #383838; stroke-width: 1.5;\" width=\"42\" x=\"475\" y=\"62\"/><text fill=\"#000000\" font-family=\"sans-serif\" font-size=\"12\" font-style=\"italic\" lengthAdjust=\"spacingAndGlyphs\" textLength=\"40\" x=\"476\" y=\"78.1387\">«part»</text><text fill=\"#000000\" font-family=\"sans-serif\" font-size=\"12\" lengthAdjust=\"spacingAndGlyphs\" textLength=\"23\" x=\"482.5\" y=\"92.1074\">c: P</text><line style=\"stroke: #383838; stroke-width: 1.5;\" x1=\"476\" x2=\"516\" y1=\"99.9375\" y2=\"99.9375\"/></a><!--MD5=[2156ba9850f5573cc1fc38a6a4b2f02b]\n",
       "class E7--><a href=\"psysml:baf82fce-ad86-47f7-be04-61d8ab51238a\" target=\"_top\" title=\"psysml:baf82fce-ad86-47f7-be04-61d8ab51238a\" xlink:actuate=\"onRequest\" xlink:href=\"psysml:baf82fce-ad86-47f7-be04-61d8ab51238a\" xlink:show=\"new\" xlink:title=\"psysml:baf82fce-ad86-47f7-be04-61d8ab51238a\" xlink:type=\"simple\"><rect fill=\"#FFFFFF\" height=\"45.9375\" id=\"E7\" rx=\"10\" ry=\"10\" style=\"stroke: #383838; stroke-width: 1.5;\" width=\"42\" x=\"398\" y=\"62\"/><text fill=\"#000000\" font-family=\"sans-serif\" font-size=\"12\" font-style=\"italic\" lengthAdjust=\"spacingAndGlyphs\" textLength=\"40\" x=\"399\" y=\"78.1387\">«part»</text><text fill=\"#000000\" font-family=\"sans-serif\" font-size=\"12\" lengthAdjust=\"spacingAndGlyphs\" textLength=\"8\" x=\"413\" y=\"92.1074\">d</text><line style=\"stroke: #383838; stroke-width: 1.5;\" x1=\"399\" x2=\"439\" y1=\"99.9375\" y2=\"99.9375\"/></a><!--MD5=[b9389687b975829384b498ac4b7476b2]\n",
       "class E8--><a href=\"psysml:602edda4-e9f7-4346-9e9a-bc1deb44a144\" target=\"_top\" title=\"psysml:602edda4-e9f7-4346-9e9a-bc1deb44a144\" xlink:actuate=\"onRequest\" xlink:href=\"psysml:602edda4-e9f7-4346-9e9a-bc1deb44a144\" xlink:show=\"new\" xlink:title=\"psysml:602edda4-e9f7-4346-9e9a-bc1deb44a144\" xlink:type=\"simple\"><rect fill=\"#FFFFFF\" height=\"45.9375\" id=\"E8\" rx=\"10\" ry=\"10\" style=\"stroke: #383838; stroke-width: 1.5;\" width=\"42\" x=\"321\" y=\"62\"/><text fill=\"#000000\" font-family=\"sans-serif\" font-size=\"12\" font-style=\"italic\" lengthAdjust=\"spacingAndGlyphs\" textLength=\"40\" x=\"322\" y=\"78.1387\">«part»</text><text fill=\"#000000\" font-family=\"sans-serif\" font-size=\"12\" lengthAdjust=\"spacingAndGlyphs\" textLength=\"8\" x=\"336\" y=\"92.1074\">e</text><line style=\"stroke: #383838; stroke-width: 1.5;\" x1=\"322\" x2=\"362\" y1=\"99.9375\" y2=\"99.9375\"/></a><!--MD5=[fd4143e9d270a159db93a4ea2a975926]\n",
       "class E9--><a href=\"psysml:ea99d53b-6b01-4b58-853a-79f827c6b1d7\" target=\"_top\" title=\"psysml:ea99d53b-6b01-4b58-853a-79f827c6b1d7\" xlink:actuate=\"onRequest\" xlink:href=\"psysml:ea99d53b-6b01-4b58-853a-79f827c6b1d7\" xlink:show=\"new\" xlink:title=\"psysml:ea99d53b-6b01-4b58-853a-79f827c6b1d7\" xlink:type=\"simple\"><rect fill=\"#FFFFFF\" height=\"45.9375\" id=\"E9\" rx=\"10\" ry=\"10\" style=\"stroke: #383838; stroke-width: 1.5;\" width=\"42\" x=\"244\" y=\"62\"/><text fill=\"#000000\" font-family=\"sans-serif\" font-size=\"12\" font-style=\"italic\" lengthAdjust=\"spacingAndGlyphs\" textLength=\"40\" x=\"245\" y=\"78.1387\">«part»</text><text fill=\"#000000\" font-family=\"sans-serif\" font-size=\"12\" lengthAdjust=\"spacingAndGlyphs\" textLength=\"4\" x=\"261\" y=\"92.1074\">f</text><line style=\"stroke: #383838; stroke-width: 1.5;\" x1=\"245\" x2=\"285\" y1=\"99.9375\" y2=\"99.9375\"/></a><!--MD5=[96f4274e9e20536e775497830990834d]\n",
       "class E10--><a href=\"psysml:7f8b6820-ebe3-4bcd-8be0-e5513e7bb89f\" target=\"_top\" title=\"psysml:7f8b6820-ebe3-4bcd-8be0-e5513e7bb89f\" xlink:actuate=\"onRequest\" xlink:href=\"psysml:7f8b6820-ebe3-4bcd-8be0-e5513e7bb89f\" xlink:show=\"new\" xlink:title=\"psysml:7f8b6820-ebe3-4bcd-8be0-e5513e7bb89f\" xlink:type=\"simple\"><rect fill=\"#FFFFFF\" height=\"45.9375\" id=\"E10\" rx=\"10\" ry=\"10\" style=\"stroke: #383838; stroke-width: 1.5;\" width=\"42\" x=\"167\" y=\"62\"/><text fill=\"#000000\" font-family=\"sans-serif\" font-size=\"12\" font-style=\"italic\" lengthAdjust=\"spacingAndGlyphs\" textLength=\"40\" x=\"168\" y=\"78.1387\">«part»</text><text fill=\"#000000\" font-family=\"sans-serif\" font-size=\"12\" lengthAdjust=\"spacingAndGlyphs\" textLength=\"8\" x=\"182\" y=\"92.1074\">g</text><line style=\"stroke: #383838; stroke-width: 1.5;\" x1=\"168\" x2=\"208\" y1=\"99.9375\" y2=\"99.9375\"/></a><!--MD5=[1dd1bfd58a279cf63c5f349dbc8fc6a1]\n",
       "class E11--><a href=\"psysml:b98160f9-962b-4166-b8bf-1b8817b6e181\" target=\"_top\" title=\"psysml:b98160f9-962b-4166-b8bf-1b8817b6e181\" xlink:actuate=\"onRequest\" xlink:href=\"psysml:b98160f9-962b-4166-b8bf-1b8817b6e181\" xlink:show=\"new\" xlink:title=\"psysml:b98160f9-962b-4166-b8bf-1b8817b6e181\" xlink:type=\"simple\"><rect fill=\"#FFFFFF\" height=\"88.3516\" id=\"E11\" style=\"stroke: #383838; stroke-width: 1.5;\" width=\"99\" x=\"32.5\" y=\"41\"/><text fill=\"#000000\" font-family=\"sans-serif\" font-size=\"12\" font-style=\"italic\" lengthAdjust=\"spacingAndGlyphs\" textLength=\"97\" x=\"33.5\" y=\"57.1387\">«attribute  def»</text><text fill=\"#000000\" font-family=\"sans-serif\" font-size=\"12\" lengthAdjust=\"spacingAndGlyphs\" textLength=\"8\" x=\"78\" y=\"71.1074\">A</text><line style=\"stroke: #383838; stroke-width: 1.5;\" x1=\"33.5\" x2=\"130.5\" y1=\"78.9375\" y2=\"78.9375\"/><text fill=\"#000000\" font-family=\"sans-serif\" font-size=\"11\" lengthAdjust=\"spacingAndGlyphs\" textLength=\"51\" x=\"38.5\" y=\"109.9526\">i: Integer</text><text fill=\"#000000\" font-family=\"sans-serif\" font-size=\"11\" lengthAdjust=\"spacingAndGlyphs\" textLength=\"21\" x=\"38.5\" y=\"122.7573\">x: A</text><line style=\"stroke: #383838; stroke-width: 1.0;\" x1=\"33.5\" x2=\"54.5\" y1=\"93.3398\" y2=\"93.3398\"/><text fill=\"#000000\" font-family=\"sans-serif\" font-size=\"11\" lengthAdjust=\"spacingAndGlyphs\" textLength=\"55\" x=\"54.5\" y=\"96.6479\">attributes</text><line style=\"stroke: #383838; stroke-width: 1.0;\" x1=\"109.5\" x2=\"130.5\" y1=\"93.3398\" y2=\"93.3398\"/></a><!--MD5=[15ebcb19ae302d9b601edb458606d402]\n",
       "link E5 to E2--><a href=\"psysml:f465fece-be6c-4a0b-8b87-5b67ed75d8f8\" target=\"_top\" title=\"psysml:f465fece-be6c-4a0b-8b87-5b67ed75d8f8\" xlink:actuate=\"onRequest\" xlink:href=\"psysml:f465fece-be6c-4a0b-8b87-5b67ed75d8f8\" xlink:show=\"new\" xlink:title=\"psysml:f465fece-be6c-4a0b-8b87-5b67ed75d8f8\" xlink:type=\"simple\"><path d=\"M566.12,108.06 C560.83,125 553.38,148.89 546.98,169.39 \" fill=\"none\" id=\"E5-&gt;E2\" style=\"stroke: #383838; stroke-width: 1.0;\"/><polygon fill=\"#FFFFFF\" points=\"540.95,188.74,539.929,168.5173,553.2931,172.6886,540.95,188.74\" style=\"stroke: #383838; stroke-width: 1.0;\"/><ellipse cx=\"543.5364\" cy=\"163.6721\" fill=\"#383838\" rx=\"2\" ry=\"2\" style=\"stroke: #383838; stroke-width: 1.0;\"/><ellipse cx=\"553.0823\" cy=\"166.6516\" fill=\"#383838\" rx=\"2\" ry=\"2\" style=\"stroke: #383838; stroke-width: 1.0;\"/></a><!--MD5=[2351f337d6de0f557b50152ba70847b5]\n",
       "link E6 to E2--><a href=\"psysml:72e02ffe-11ce-46be-a503-0c91c54548ee\" target=\"_top\" title=\"psysml:72e02ffe-11ce-46be-a503-0c91c54548ee\" xlink:actuate=\"onRequest\" xlink:href=\"psysml:72e02ffe-11ce-46be-a503-0c91c54548ee\" xlink:show=\"new\" xlink:title=\"psysml:72e02ffe-11ce-46be-a503-0c91c54548ee\" xlink:type=\"simple\"><path d=\"M502.71,108.06 C507.86,125 515.12,148.89 521.35,169.39 \" fill=\"none\" id=\"E6-&gt;E2\" style=\"stroke: #383838; stroke-width: 1.0;\"/><polygon fill=\"#FFFFFF\" points=\"527.23,188.74,515.007,172.597,528.4019,168.5255,527.23,188.74\" style=\"stroke: #383838; stroke-width: 1.0;\"/><ellipse cx=\"515.2628\" cy=\"166.5617\" fill=\"#383838\" rx=\"2\" ry=\"2\" style=\"stroke: #383838; stroke-width: 1.0;\"/><ellipse cx=\"524.8306\" cy=\"163.6535\" fill=\"#383838\" rx=\"2\" ry=\"2\" style=\"stroke: #383838; stroke-width: 1.0;\"/></a><!--MD5=[ea47c36b6badc1ac67e634517a061591]\n",
       "@startuml\r\n",
       "top to bottom direction\r\n",
       "skinparam monochrome true\r\n",
       "skinparam classbackgroundcolor white\r\n",
       "skinparam shadowing false\r\n",
       "skinparam wrapWidth 300\r\n",
       "hide circle\r\n",
       "\r\n",
       "package \"MultiplicityTest\" as E1  [[psysml:437e1e49-e6a3-4f3e-be27-b1e07120749d ]]  {\r\n",
       "comp def \"P\" as E2  <<(T,blue) part  def>> [[psysml:d60dc8a9-ee87-4177-8909-4fd780a9d8f8 ]] {\r\n",
       "}\r\n",
       "comp usage \"n: Integer \" as E3  <<(T,blue) attribute>> [[psysml:a5340f1d-d68a-4585-8f96-7305e6f489d2 ]] {\r\n",
       "}\r\n",
       "comp usage \"a \" as E4  <<(T,blue) part>> [[psysml:478d9241-8f6e-4034-a71b-67b7ef5acdce ]] {\r\n",
       "}\r\n",
       "comp usage \"b: P \" as E5  <<(T,blue) part>> [[psysml:bc94da79-c19f-4e44-8720-527e565e90dd ]] {\r\n",
       "}\r\n",
       "comp usage \"c: P \" as E6  <<(T,blue) part>> [[psysml:619a7e97-bac6-4f1e-8369-8e8a5aa8da71 ]] {\r\n",
       "}\r\n",
       "comp usage \"d \" as E7  <<(T,blue) part>> [[psysml:baf82fce-ad86-47f7-be04-61d8ab51238a ]] {\r\n",
       "}\r\n",
       "comp usage \"e \" as E8  <<(T,blue) part>> [[psysml:602edda4-e9f7-4346-9e9a-bc1deb44a144 ]] {\r\n",
       "}\r\n",
       "comp usage \"f \" as E9  <<(T,blue) part>> [[psysml:ea99d53b-6b01-4b58-853a-79f827c6b1d7 ]] {\r\n",
       "}\r\n",
       "comp usage \"g \" as E10  <<(T,blue) part>> [[psysml:7f8b6820-ebe3-4bcd-8be0-e5513e7bb89f ]] {\r\n",
       "}\r\n",
       "comp def \"A\" as E11  <<(T,blue) attribute  def>> [[psysml:b98160f9-962b-4166-b8bf-1b8817b6e181 ]] {\r\n",
       "- - attributes - -\r\n",
       "i: Integer\r\n",
       "x: A\r\n",
       "}\r\n",
       "}\r\n",
       "E5 - -:|> E2 [[psysml:f465fece-be6c-4a0b-8b87-5b67ed75d8f8 ]] \r\n",
       "E6 - -:|> E2 [[psysml:72e02ffe-11ce-46be-a503-0c91c54548ee ]] \r\n",
       "@enduml\r\n",
       "\n",
       "PlantUML version 1.2020.13(Sat Jun 13 12:26:38 UTC 2020)\n",
       "(EPL source distribution)\n",
       "Java Runtime: OpenJDK Runtime Environment\n",
       "JVM: OpenJDK 64-Bit Server VM\n",
       "Default Encoding: UTF-8\n",
       "Language: en\n",
       "Country: null\n",
       "--></g></svg>"
      ]
     },
     "execution_count": 50,
     "metadata": {},
     "output_type": "execute_result"
    }
   ],
   "source": [
    "%viz --style=\"TB\" --view=\"MIXED\" \"MultiplicityTest\""
   ]
  },
  {
   "cell_type": "code",
   "execution_count": 51,
   "id": "26a1c4b6",
   "metadata": {
    "execution": {
     "iopub.execute_input": "2022-03-03T09:58:32.693848Z",
     "iopub.status.busy": "2022-03-03T09:58:32.693418Z",
     "iopub.status.idle": "2022-03-03T09:58:32.747656Z",
     "shell.execute_reply": "2022-03-03T09:58:32.746271Z"
    }
   },
   "outputs": [
    {
     "data": {
      "image/svg+xml": [
       "<?xml version=\"1.0\" encoding=\"UTF-8\" standalone=\"no\"?><svg xmlns=\"http://www.w3.org/2000/svg\" xmlns:xlink=\"http://www.w3.org/1999/xlink\" contentScriptType=\"application/ecmascript\" contentStyleType=\"text/css\" height=\"263px\" preserveAspectRatio=\"none\" style=\"width:816px;height:263px;\" version=\"1.1\" viewBox=\"0 0 816 263\" width=\"816px\" zoomAndPan=\"magnify\"><defs/><g><!--MD5=[fbc87193dbaf4d95561dea2c320d4a47]\n",
       "cluster E1--><a href=\"psysml:437e1e49-e6a3-4f3e-be27-b1e07120749d\" target=\"_top\" title=\"psysml:437e1e49-e6a3-4f3e-be27-b1e07120749d\" xlink:actuate=\"onRequest\" xlink:href=\"psysml:437e1e49-e6a3-4f3e-be27-b1e07120749d\" xlink:show=\"new\" xlink:title=\"psysml:437e1e49-e6a3-4f3e-be27-b1e07120749d\" xlink:type=\"simple\"><polygon fill=\"#FFFFFF\" points=\"16,6,123,6,130,28.2969,794,28.2969,794,251,16,251,16,6\" style=\"stroke: #000000; stroke-width: 1.5;\"/><line style=\"stroke: #000000; stroke-width: 1.5;\" x1=\"16\" x2=\"130\" y1=\"28.2969\" y2=\"28.2969\"/><text fill=\"#000000\" font-family=\"sans-serif\" font-size=\"14\" font-weight=\"bold\" lengthAdjust=\"spacingAndGlyphs\" textLength=\"101\" x=\"20\" y=\"20.9951\">MultiplicityTest</text></a><!--MD5=[b4997ac47864f28c2f74865a473b2911]\n",
       "class E2--><a href=\"psysml:d60dc8a9-ee87-4177-8909-4fd780a9d8f8\" target=\"_top\" title=\"psysml:d60dc8a9-ee87-4177-8909-4fd780a9d8f8\" xlink:actuate=\"onRequest\" xlink:href=\"psysml:d60dc8a9-ee87-4177-8909-4fd780a9d8f8\" xlink:show=\"new\" xlink:title=\"psysml:d60dc8a9-ee87-4177-8909-4fd780a9d8f8\" xlink:type=\"simple\"><rect fill=\"#FFFFFF\" height=\"45.9375\" id=\"E2\" style=\"stroke: #383838; stroke-width: 1.5;\" width=\"70\" x=\"499\" y=\"189\"/><text fill=\"#000000\" font-family=\"sans-serif\" font-size=\"12\" font-style=\"italic\" lengthAdjust=\"spacingAndGlyphs\" textLength=\"68\" x=\"500\" y=\"205.1387\">«part  def»</text><text fill=\"#000000\" font-family=\"sans-serif\" font-size=\"12\" lengthAdjust=\"spacingAndGlyphs\" textLength=\"8\" x=\"530\" y=\"219.1074\">P</text><line style=\"stroke: #383838; stroke-width: 1.5;\" x1=\"500\" x2=\"568\" y1=\"226.9375\" y2=\"226.9375\"/></a><!--MD5=[09b614a08d8cba4a07c9adeb5e0fee81]\n",
       "class E3--><a href=\"psysml:a5340f1d-d68a-4585-8f96-7305e6f489d2\" target=\"_top\" title=\"psysml:a5340f1d-d68a-4585-8f96-7305e6f489d2\" xlink:actuate=\"onRequest\" xlink:href=\"psysml:a5340f1d-d68a-4585-8f96-7305e6f489d2\" xlink:show=\"new\" xlink:title=\"psysml:a5340f1d-d68a-4585-8f96-7305e6f489d2\" xlink:type=\"simple\"><rect fill=\"#FFFFFF\" height=\"45.9375\" id=\"E3\" rx=\"10\" ry=\"10\" style=\"stroke: #383838; stroke-width: 1.5;\" width=\"71\" x=\"706.5\" y=\"62\"/><text fill=\"#000000\" font-family=\"sans-serif\" font-size=\"12\" font-style=\"italic\" lengthAdjust=\"spacingAndGlyphs\" textLength=\"69\" x=\"707.5\" y=\"78.1387\">«attribute»</text><text fill=\"#000000\" font-family=\"sans-serif\" font-size=\"12\" lengthAdjust=\"spacingAndGlyphs\" textLength=\"61\" x=\"709.5\" y=\"92.1074\">n: Integer</text><line style=\"stroke: #383838; stroke-width: 1.5;\" x1=\"707.5\" x2=\"776.5\" y1=\"99.9375\" y2=\"99.9375\"/></a><!--MD5=[ebbe1d658d1005bcc118a6aa81145e00]\n",
       "class E4--><a href=\"psysml:478d9241-8f6e-4034-a71b-67b7ef5acdce\" target=\"_top\" title=\"psysml:478d9241-8f6e-4034-a71b-67b7ef5acdce\" xlink:actuate=\"onRequest\" xlink:href=\"psysml:478d9241-8f6e-4034-a71b-67b7ef5acdce\" xlink:show=\"new\" xlink:title=\"psysml:478d9241-8f6e-4034-a71b-67b7ef5acdce\" xlink:type=\"simple\"><rect fill=\"#FFFFFF\" height=\"45.9375\" id=\"E4\" rx=\"10\" ry=\"10\" style=\"stroke: #383838; stroke-width: 1.5;\" width=\"42\" x=\"629\" y=\"62\"/><text fill=\"#000000\" font-family=\"sans-serif\" font-size=\"12\" font-style=\"italic\" lengthAdjust=\"spacingAndGlyphs\" textLength=\"40\" x=\"630\" y=\"78.1387\">«part»</text><text fill=\"#000000\" font-family=\"sans-serif\" font-size=\"12\" lengthAdjust=\"spacingAndGlyphs\" textLength=\"8\" x=\"644\" y=\"92.1074\">a</text><line style=\"stroke: #383838; stroke-width: 1.5;\" x1=\"630\" x2=\"670\" y1=\"99.9375\" y2=\"99.9375\"/></a><!--MD5=[270fce915f116d4de14055a7c1d9a0f3]\n",
       "class E5--><a href=\"psysml:bc94da79-c19f-4e44-8720-527e565e90dd\" target=\"_top\" title=\"psysml:bc94da79-c19f-4e44-8720-527e565e90dd\" xlink:actuate=\"onRequest\" xlink:href=\"psysml:bc94da79-c19f-4e44-8720-527e565e90dd\" xlink:show=\"new\" xlink:title=\"psysml:bc94da79-c19f-4e44-8720-527e565e90dd\" xlink:type=\"simple\"><rect fill=\"#FFFFFF\" height=\"45.9375\" id=\"E5\" rx=\"10\" ry=\"10\" style=\"stroke: #383838; stroke-width: 1.5;\" width=\"42\" x=\"552\" y=\"62\"/><text fill=\"#000000\" font-family=\"sans-serif\" font-size=\"12\" font-style=\"italic\" lengthAdjust=\"spacingAndGlyphs\" textLength=\"40\" x=\"553\" y=\"78.1387\">«part»</text><text fill=\"#000000\" font-family=\"sans-serif\" font-size=\"12\" lengthAdjust=\"spacingAndGlyphs\" textLength=\"24\" x=\"559\" y=\"92.1074\">b: P</text><line style=\"stroke: #383838; stroke-width: 1.5;\" x1=\"553\" x2=\"593\" y1=\"99.9375\" y2=\"99.9375\"/></a><!--MD5=[60a26617385b1d2d0262a64233df1f8d]\n",
       "class E6--><a href=\"psysml:619a7e97-bac6-4f1e-8369-8e8a5aa8da71\" target=\"_top\" title=\"psysml:619a7e97-bac6-4f1e-8369-8e8a5aa8da71\" xlink:actuate=\"onRequest\" xlink:href=\"psysml:619a7e97-bac6-4f1e-8369-8e8a5aa8da71\" xlink:show=\"new\" xlink:title=\"psysml:619a7e97-bac6-4f1e-8369-8e8a5aa8da71\" xlink:type=\"simple\"><rect fill=\"#FFFFFF\" height=\"45.9375\" id=\"E6\" rx=\"10\" ry=\"10\" style=\"stroke: #383838; stroke-width: 1.5;\" width=\"42\" x=\"475\" y=\"62\"/><text fill=\"#000000\" font-family=\"sans-serif\" font-size=\"12\" font-style=\"italic\" lengthAdjust=\"spacingAndGlyphs\" textLength=\"40\" x=\"476\" y=\"78.1387\">«part»</text><text fill=\"#000000\" font-family=\"sans-serif\" font-size=\"12\" lengthAdjust=\"spacingAndGlyphs\" textLength=\"23\" x=\"482.5\" y=\"92.1074\">c: P</text><line style=\"stroke: #383838; stroke-width: 1.5;\" x1=\"476\" x2=\"516\" y1=\"99.9375\" y2=\"99.9375\"/></a><!--MD5=[2156ba9850f5573cc1fc38a6a4b2f02b]\n",
       "class E7--><a href=\"psysml:baf82fce-ad86-47f7-be04-61d8ab51238a\" target=\"_top\" title=\"psysml:baf82fce-ad86-47f7-be04-61d8ab51238a\" xlink:actuate=\"onRequest\" xlink:href=\"psysml:baf82fce-ad86-47f7-be04-61d8ab51238a\" xlink:show=\"new\" xlink:title=\"psysml:baf82fce-ad86-47f7-be04-61d8ab51238a\" xlink:type=\"simple\"><rect fill=\"#FFFFFF\" height=\"45.9375\" id=\"E7\" rx=\"10\" ry=\"10\" style=\"stroke: #383838; stroke-width: 1.5;\" width=\"42\" x=\"398\" y=\"62\"/><text fill=\"#000000\" font-family=\"sans-serif\" font-size=\"12\" font-style=\"italic\" lengthAdjust=\"spacingAndGlyphs\" textLength=\"40\" x=\"399\" y=\"78.1387\">«part»</text><text fill=\"#000000\" font-family=\"sans-serif\" font-size=\"12\" lengthAdjust=\"spacingAndGlyphs\" textLength=\"8\" x=\"413\" y=\"92.1074\">d</text><line style=\"stroke: #383838; stroke-width: 1.5;\" x1=\"399\" x2=\"439\" y1=\"99.9375\" y2=\"99.9375\"/></a><!--MD5=[b9389687b975829384b498ac4b7476b2]\n",
       "class E8--><a href=\"psysml:602edda4-e9f7-4346-9e9a-bc1deb44a144\" target=\"_top\" title=\"psysml:602edda4-e9f7-4346-9e9a-bc1deb44a144\" xlink:actuate=\"onRequest\" xlink:href=\"psysml:602edda4-e9f7-4346-9e9a-bc1deb44a144\" xlink:show=\"new\" xlink:title=\"psysml:602edda4-e9f7-4346-9e9a-bc1deb44a144\" xlink:type=\"simple\"><rect fill=\"#FFFFFF\" height=\"45.9375\" id=\"E8\" rx=\"10\" ry=\"10\" style=\"stroke: #383838; stroke-width: 1.5;\" width=\"42\" x=\"321\" y=\"62\"/><text fill=\"#000000\" font-family=\"sans-serif\" font-size=\"12\" font-style=\"italic\" lengthAdjust=\"spacingAndGlyphs\" textLength=\"40\" x=\"322\" y=\"78.1387\">«part»</text><text fill=\"#000000\" font-family=\"sans-serif\" font-size=\"12\" lengthAdjust=\"spacingAndGlyphs\" textLength=\"8\" x=\"336\" y=\"92.1074\">e</text><line style=\"stroke: #383838; stroke-width: 1.5;\" x1=\"322\" x2=\"362\" y1=\"99.9375\" y2=\"99.9375\"/></a><!--MD5=[fd4143e9d270a159db93a4ea2a975926]\n",
       "class E9--><a href=\"psysml:ea99d53b-6b01-4b58-853a-79f827c6b1d7\" target=\"_top\" title=\"psysml:ea99d53b-6b01-4b58-853a-79f827c6b1d7\" xlink:actuate=\"onRequest\" xlink:href=\"psysml:ea99d53b-6b01-4b58-853a-79f827c6b1d7\" xlink:show=\"new\" xlink:title=\"psysml:ea99d53b-6b01-4b58-853a-79f827c6b1d7\" xlink:type=\"simple\"><rect fill=\"#FFFFFF\" height=\"45.9375\" id=\"E9\" rx=\"10\" ry=\"10\" style=\"stroke: #383838; stroke-width: 1.5;\" width=\"42\" x=\"244\" y=\"62\"/><text fill=\"#000000\" font-family=\"sans-serif\" font-size=\"12\" font-style=\"italic\" lengthAdjust=\"spacingAndGlyphs\" textLength=\"40\" x=\"245\" y=\"78.1387\">«part»</text><text fill=\"#000000\" font-family=\"sans-serif\" font-size=\"12\" lengthAdjust=\"spacingAndGlyphs\" textLength=\"4\" x=\"261\" y=\"92.1074\">f</text><line style=\"stroke: #383838; stroke-width: 1.5;\" x1=\"245\" x2=\"285\" y1=\"99.9375\" y2=\"99.9375\"/></a><!--MD5=[96f4274e9e20536e775497830990834d]\n",
       "class E10--><a href=\"psysml:7f8b6820-ebe3-4bcd-8be0-e5513e7bb89f\" target=\"_top\" title=\"psysml:7f8b6820-ebe3-4bcd-8be0-e5513e7bb89f\" xlink:actuate=\"onRequest\" xlink:href=\"psysml:7f8b6820-ebe3-4bcd-8be0-e5513e7bb89f\" xlink:show=\"new\" xlink:title=\"psysml:7f8b6820-ebe3-4bcd-8be0-e5513e7bb89f\" xlink:type=\"simple\"><rect fill=\"#FFFFFF\" height=\"45.9375\" id=\"E10\" rx=\"10\" ry=\"10\" style=\"stroke: #383838; stroke-width: 1.5;\" width=\"42\" x=\"167\" y=\"62\"/><text fill=\"#000000\" font-family=\"sans-serif\" font-size=\"12\" font-style=\"italic\" lengthAdjust=\"spacingAndGlyphs\" textLength=\"40\" x=\"168\" y=\"78.1387\">«part»</text><text fill=\"#000000\" font-family=\"sans-serif\" font-size=\"12\" lengthAdjust=\"spacingAndGlyphs\" textLength=\"8\" x=\"182\" y=\"92.1074\">g</text><line style=\"stroke: #383838; stroke-width: 1.5;\" x1=\"168\" x2=\"208\" y1=\"99.9375\" y2=\"99.9375\"/></a><!--MD5=[1dd1bfd58a279cf63c5f349dbc8fc6a1]\n",
       "class E11--><a href=\"psysml:b98160f9-962b-4166-b8bf-1b8817b6e181\" target=\"_top\" title=\"psysml:b98160f9-962b-4166-b8bf-1b8817b6e181\" xlink:actuate=\"onRequest\" xlink:href=\"psysml:b98160f9-962b-4166-b8bf-1b8817b6e181\" xlink:show=\"new\" xlink:title=\"psysml:b98160f9-962b-4166-b8bf-1b8817b6e181\" xlink:type=\"simple\"><rect fill=\"#FFFFFF\" height=\"88.3516\" id=\"E11\" style=\"stroke: #383838; stroke-width: 1.5;\" width=\"99\" x=\"32.5\" y=\"41\"/><text fill=\"#000000\" font-family=\"sans-serif\" font-size=\"12\" font-style=\"italic\" lengthAdjust=\"spacingAndGlyphs\" textLength=\"97\" x=\"33.5\" y=\"57.1387\">«attribute  def»</text><text fill=\"#000000\" font-family=\"sans-serif\" font-size=\"12\" lengthAdjust=\"spacingAndGlyphs\" textLength=\"8\" x=\"78\" y=\"71.1074\">A</text><line style=\"stroke: #383838; stroke-width: 1.5;\" x1=\"33.5\" x2=\"130.5\" y1=\"78.9375\" y2=\"78.9375\"/><text fill=\"#000000\" font-family=\"sans-serif\" font-size=\"11\" lengthAdjust=\"spacingAndGlyphs\" textLength=\"51\" x=\"38.5\" y=\"109.9526\">i: Integer</text><text fill=\"#000000\" font-family=\"sans-serif\" font-size=\"11\" lengthAdjust=\"spacingAndGlyphs\" textLength=\"21\" x=\"38.5\" y=\"122.7573\">x: A</text><line style=\"stroke: #383838; stroke-width: 1.0;\" x1=\"33.5\" x2=\"54.5\" y1=\"93.3398\" y2=\"93.3398\"/><text fill=\"#000000\" font-family=\"sans-serif\" font-size=\"11\" lengthAdjust=\"spacingAndGlyphs\" textLength=\"55\" x=\"54.5\" y=\"96.6479\">attributes</text><line style=\"stroke: #383838; stroke-width: 1.0;\" x1=\"109.5\" x2=\"130.5\" y1=\"93.3398\" y2=\"93.3398\"/></a><!--MD5=[15ebcb19ae302d9b601edb458606d402]\n",
       "link E5 to E2--><a href=\"psysml:f465fece-be6c-4a0b-8b87-5b67ed75d8f8\" target=\"_top\" title=\"psysml:f465fece-be6c-4a0b-8b87-5b67ed75d8f8\" xlink:actuate=\"onRequest\" xlink:href=\"psysml:f465fece-be6c-4a0b-8b87-5b67ed75d8f8\" xlink:show=\"new\" xlink:title=\"psysml:f465fece-be6c-4a0b-8b87-5b67ed75d8f8\" xlink:type=\"simple\"><path d=\"M560.5,108.29 C560.5,108.29 560.5,168.85 560.5,168.85 \" fill=\"none\" id=\"E5-&gt;E2\" style=\"stroke: #383838; stroke-width: 1.0;\"/><polygon fill=\"#FFFFFF\" points=\"560.5,188.85,553.5,169.85,567.5,169.85,560.5,188.85\" style=\"stroke: #383838; stroke-width: 1.0;\"/><ellipse cx=\"555.5\" cy=\"164.15\" fill=\"#383838\" rx=\"2\" ry=\"2\" style=\"stroke: #383838; stroke-width: 1.0;\"/><ellipse cx=\"565.5\" cy=\"164.15\" fill=\"#383838\" rx=\"2\" ry=\"2\" style=\"stroke: #383838; stroke-width: 1.0;\"/></a><!--MD5=[2351f337d6de0f557b50152ba70847b5]\n",
       "link E6 to E2--><a href=\"psysml:72e02ffe-11ce-46be-a503-0c91c54548ee\" target=\"_top\" title=\"psysml:72e02ffe-11ce-46be-a503-0c91c54548ee\" xlink:actuate=\"onRequest\" xlink:href=\"psysml:72e02ffe-11ce-46be-a503-0c91c54548ee\" xlink:show=\"new\" xlink:title=\"psysml:72e02ffe-11ce-46be-a503-0c91c54548ee\" xlink:type=\"simple\"><path d=\"M508,108.29 C508,108.29 508,168.85 508,168.85 \" fill=\"none\" id=\"E6-&gt;E2\" style=\"stroke: #383838; stroke-width: 1.0;\"/><polygon fill=\"#FFFFFF\" points=\"508,188.85,501,169.85,515,169.85,508,188.85\" style=\"stroke: #383838; stroke-width: 1.0;\"/><ellipse cx=\"503\" cy=\"164.15\" fill=\"#383838\" rx=\"2\" ry=\"2\" style=\"stroke: #383838; stroke-width: 1.0;\"/><ellipse cx=\"513\" cy=\"164.15\" fill=\"#383838\" rx=\"2\" ry=\"2\" style=\"stroke: #383838; stroke-width: 1.0;\"/></a><!--MD5=[28a3d626fed279c7162c4e7507ced5f7]\n",
       "@startuml\r\n",
       "skinparam linetype ortho\r\n",
       "skinparam monochrome true\r\n",
       "skinparam classbackgroundcolor white\r\n",
       "skinparam shadowing false\r\n",
       "skinparam wrapWidth 300\r\n",
       "hide circle\r\n",
       "\r\n",
       "package \"MultiplicityTest\" as E1  [[psysml:437e1e49-e6a3-4f3e-be27-b1e07120749d ]]  {\r\n",
       "comp def \"P\" as E2  <<(T,blue) part  def>> [[psysml:d60dc8a9-ee87-4177-8909-4fd780a9d8f8 ]] {\r\n",
       "}\r\n",
       "comp usage \"n: Integer \" as E3  <<(T,blue) attribute>> [[psysml:a5340f1d-d68a-4585-8f96-7305e6f489d2 ]] {\r\n",
       "}\r\n",
       "comp usage \"a \" as E4  <<(T,blue) part>> [[psysml:478d9241-8f6e-4034-a71b-67b7ef5acdce ]] {\r\n",
       "}\r\n",
       "comp usage \"b: P \" as E5  <<(T,blue) part>> [[psysml:bc94da79-c19f-4e44-8720-527e565e90dd ]] {\r\n",
       "}\r\n",
       "comp usage \"c: P \" as E6  <<(T,blue) part>> [[psysml:619a7e97-bac6-4f1e-8369-8e8a5aa8da71 ]] {\r\n",
       "}\r\n",
       "comp usage \"d \" as E7  <<(T,blue) part>> [[psysml:baf82fce-ad86-47f7-be04-61d8ab51238a ]] {\r\n",
       "}\r\n",
       "comp usage \"e \" as E8  <<(T,blue) part>> [[psysml:602edda4-e9f7-4346-9e9a-bc1deb44a144 ]] {\r\n",
       "}\r\n",
       "comp usage \"f \" as E9  <<(T,blue) part>> [[psysml:ea99d53b-6b01-4b58-853a-79f827c6b1d7 ]] {\r\n",
       "}\r\n",
       "comp usage \"g \" as E10  <<(T,blue) part>> [[psysml:7f8b6820-ebe3-4bcd-8be0-e5513e7bb89f ]] {\r\n",
       "}\r\n",
       "comp def \"A\" as E11  <<(T,blue) attribute  def>> [[psysml:b98160f9-962b-4166-b8bf-1b8817b6e181 ]] {\r\n",
       "- - attributes - -\r\n",
       "i: Integer\r\n",
       "x: A\r\n",
       "}\r\n",
       "}\r\n",
       "E5 - -:|> E2 [[psysml:f465fece-be6c-4a0b-8b87-5b67ed75d8f8 ]] \r\n",
       "E6 - -:|> E2 [[psysml:72e02ffe-11ce-46be-a503-0c91c54548ee ]] \r\n",
       "@enduml\r\n",
       "\n",
       "PlantUML version 1.2020.13(Sat Jun 13 12:26:38 UTC 2020)\n",
       "(EPL source distribution)\n",
       "Java Runtime: OpenJDK Runtime Environment\n",
       "JVM: OpenJDK 64-Bit Server VM\n",
       "Default Encoding: UTF-8\n",
       "Language: en\n",
       "Country: null\n",
       "--></g></svg>"
      ]
     },
     "execution_count": 51,
     "metadata": {},
     "output_type": "execute_result"
    }
   ],
   "source": [
    "%viz --style=\"ORTHOLINE\" --view=\"Default\" \"MultiplicityTest\""
   ]
  },
  {
   "cell_type": "code",
   "execution_count": 52,
   "id": "a7dfcbb3",
   "metadata": {
    "execution": {
     "iopub.execute_input": "2022-03-03T09:58:32.797001Z",
     "iopub.status.busy": "2022-03-03T09:58:32.796591Z",
     "iopub.status.idle": "2022-03-03T09:58:32.851532Z",
     "shell.execute_reply": "2022-03-03T09:58:32.850062Z"
    }
   },
   "outputs": [
    {
     "data": {
      "image/svg+xml": [
       "<?xml version=\"1.0\" encoding=\"UTF-8\" standalone=\"no\"?><svg xmlns=\"http://www.w3.org/2000/svg\" xmlns:xlink=\"http://www.w3.org/1999/xlink\" contentScriptType=\"application/ecmascript\" contentStyleType=\"text/css\" height=\"263px\" preserveAspectRatio=\"none\" style=\"width:816px;height:263px;\" version=\"1.1\" viewBox=\"0 0 816 263\" width=\"816px\" zoomAndPan=\"magnify\"><defs/><g><!--MD5=[fbc87193dbaf4d95561dea2c320d4a47]\n",
       "cluster E1--><a href=\"psysml:437e1e49-e6a3-4f3e-be27-b1e07120749d\" target=\"_top\" title=\"psysml:437e1e49-e6a3-4f3e-be27-b1e07120749d\" xlink:actuate=\"onRequest\" xlink:href=\"psysml:437e1e49-e6a3-4f3e-be27-b1e07120749d\" xlink:show=\"new\" xlink:title=\"psysml:437e1e49-e6a3-4f3e-be27-b1e07120749d\" xlink:type=\"simple\"><polygon fill=\"#FFFFFF\" points=\"16,6,123,6,130,28.2969,794,28.2969,794,251,16,251,16,6\" style=\"stroke: #000000; stroke-width: 1.5;\"/><line style=\"stroke: #000000; stroke-width: 1.5;\" x1=\"16\" x2=\"130\" y1=\"28.2969\" y2=\"28.2969\"/><text fill=\"#000000\" font-family=\"sans-serif\" font-size=\"14\" font-weight=\"bold\" lengthAdjust=\"spacingAndGlyphs\" textLength=\"101\" x=\"20\" y=\"20.9951\">MultiplicityTest</text></a><!--MD5=[b4997ac47864f28c2f74865a473b2911]\n",
       "class E2--><a href=\"psysml:d60dc8a9-ee87-4177-8909-4fd780a9d8f8\" target=\"_top\" title=\"psysml:d60dc8a9-ee87-4177-8909-4fd780a9d8f8\" xlink:actuate=\"onRequest\" xlink:href=\"psysml:d60dc8a9-ee87-4177-8909-4fd780a9d8f8\" xlink:show=\"new\" xlink:title=\"psysml:d60dc8a9-ee87-4177-8909-4fd780a9d8f8\" xlink:type=\"simple\"><rect fill=\"#FFFFFF\" height=\"45.9375\" id=\"E2\" style=\"stroke: #383838; stroke-width: 1.5;\" width=\"70\" x=\"499\" y=\"189\"/><text fill=\"#000000\" font-family=\"sans-serif\" font-size=\"12\" font-style=\"italic\" lengthAdjust=\"spacingAndGlyphs\" textLength=\"68\" x=\"500\" y=\"205.1387\">«part  def»</text><text fill=\"#000000\" font-family=\"sans-serif\" font-size=\"12\" lengthAdjust=\"spacingAndGlyphs\" textLength=\"8\" x=\"530\" y=\"219.1074\">P</text><line style=\"stroke: #383838; stroke-width: 1.5;\" x1=\"500\" x2=\"568\" y1=\"226.9375\" y2=\"226.9375\"/></a><!--MD5=[09b614a08d8cba4a07c9adeb5e0fee81]\n",
       "class E3--><a href=\"psysml:a5340f1d-d68a-4585-8f96-7305e6f489d2\" target=\"_top\" title=\"psysml:a5340f1d-d68a-4585-8f96-7305e6f489d2\" xlink:actuate=\"onRequest\" xlink:href=\"psysml:a5340f1d-d68a-4585-8f96-7305e6f489d2\" xlink:show=\"new\" xlink:title=\"psysml:a5340f1d-d68a-4585-8f96-7305e6f489d2\" xlink:type=\"simple\"><rect fill=\"#FFFFFF\" height=\"45.9375\" id=\"E3\" rx=\"10\" ry=\"10\" style=\"stroke: #383838; stroke-width: 1.5;\" width=\"71\" x=\"706.5\" y=\"62\"/><text fill=\"#000000\" font-family=\"sans-serif\" font-size=\"12\" font-style=\"italic\" lengthAdjust=\"spacingAndGlyphs\" textLength=\"69\" x=\"707.5\" y=\"78.1387\">«attribute»</text><text fill=\"#000000\" font-family=\"sans-serif\" font-size=\"12\" lengthAdjust=\"spacingAndGlyphs\" textLength=\"61\" x=\"709.5\" y=\"92.1074\">n: Integer</text><line style=\"stroke: #383838; stroke-width: 1.5;\" x1=\"707.5\" x2=\"776.5\" y1=\"99.9375\" y2=\"99.9375\"/></a><!--MD5=[ebbe1d658d1005bcc118a6aa81145e00]\n",
       "class E4--><a href=\"psysml:478d9241-8f6e-4034-a71b-67b7ef5acdce\" target=\"_top\" title=\"psysml:478d9241-8f6e-4034-a71b-67b7ef5acdce\" xlink:actuate=\"onRequest\" xlink:href=\"psysml:478d9241-8f6e-4034-a71b-67b7ef5acdce\" xlink:show=\"new\" xlink:title=\"psysml:478d9241-8f6e-4034-a71b-67b7ef5acdce\" xlink:type=\"simple\"><rect fill=\"#FFFFFF\" height=\"45.9375\" id=\"E4\" rx=\"10\" ry=\"10\" style=\"stroke: #383838; stroke-width: 1.5;\" width=\"42\" x=\"629\" y=\"62\"/><text fill=\"#000000\" font-family=\"sans-serif\" font-size=\"12\" font-style=\"italic\" lengthAdjust=\"spacingAndGlyphs\" textLength=\"40\" x=\"630\" y=\"78.1387\">«part»</text><text fill=\"#000000\" font-family=\"sans-serif\" font-size=\"12\" lengthAdjust=\"spacingAndGlyphs\" textLength=\"8\" x=\"644\" y=\"92.1074\">a</text><line style=\"stroke: #383838; stroke-width: 1.5;\" x1=\"630\" x2=\"670\" y1=\"99.9375\" y2=\"99.9375\"/></a><!--MD5=[270fce915f116d4de14055a7c1d9a0f3]\n",
       "class E5--><a href=\"psysml:bc94da79-c19f-4e44-8720-527e565e90dd\" target=\"_top\" title=\"psysml:bc94da79-c19f-4e44-8720-527e565e90dd\" xlink:actuate=\"onRequest\" xlink:href=\"psysml:bc94da79-c19f-4e44-8720-527e565e90dd\" xlink:show=\"new\" xlink:title=\"psysml:bc94da79-c19f-4e44-8720-527e565e90dd\" xlink:type=\"simple\"><rect fill=\"#FFFFFF\" height=\"45.9375\" id=\"E5\" rx=\"10\" ry=\"10\" style=\"stroke: #383838; stroke-width: 1.5;\" width=\"42\" x=\"552\" y=\"62\"/><text fill=\"#000000\" font-family=\"sans-serif\" font-size=\"12\" font-style=\"italic\" lengthAdjust=\"spacingAndGlyphs\" textLength=\"40\" x=\"553\" y=\"78.1387\">«part»</text><text fill=\"#000000\" font-family=\"sans-serif\" font-size=\"12\" lengthAdjust=\"spacingAndGlyphs\" textLength=\"24\" x=\"559\" y=\"92.1074\">b: P</text><line style=\"stroke: #383838; stroke-width: 1.5;\" x1=\"553\" x2=\"593\" y1=\"99.9375\" y2=\"99.9375\"/></a><!--MD5=[60a26617385b1d2d0262a64233df1f8d]\n",
       "class E6--><a href=\"psysml:619a7e97-bac6-4f1e-8369-8e8a5aa8da71\" target=\"_top\" title=\"psysml:619a7e97-bac6-4f1e-8369-8e8a5aa8da71\" xlink:actuate=\"onRequest\" xlink:href=\"psysml:619a7e97-bac6-4f1e-8369-8e8a5aa8da71\" xlink:show=\"new\" xlink:title=\"psysml:619a7e97-bac6-4f1e-8369-8e8a5aa8da71\" xlink:type=\"simple\"><rect fill=\"#FFFFFF\" height=\"45.9375\" id=\"E6\" rx=\"10\" ry=\"10\" style=\"stroke: #383838; stroke-width: 1.5;\" width=\"42\" x=\"475\" y=\"62\"/><text fill=\"#000000\" font-family=\"sans-serif\" font-size=\"12\" font-style=\"italic\" lengthAdjust=\"spacingAndGlyphs\" textLength=\"40\" x=\"476\" y=\"78.1387\">«part»</text><text fill=\"#000000\" font-family=\"sans-serif\" font-size=\"12\" lengthAdjust=\"spacingAndGlyphs\" textLength=\"23\" x=\"482.5\" y=\"92.1074\">c: P</text><line style=\"stroke: #383838; stroke-width: 1.5;\" x1=\"476\" x2=\"516\" y1=\"99.9375\" y2=\"99.9375\"/></a><!--MD5=[2156ba9850f5573cc1fc38a6a4b2f02b]\n",
       "class E7--><a href=\"psysml:baf82fce-ad86-47f7-be04-61d8ab51238a\" target=\"_top\" title=\"psysml:baf82fce-ad86-47f7-be04-61d8ab51238a\" xlink:actuate=\"onRequest\" xlink:href=\"psysml:baf82fce-ad86-47f7-be04-61d8ab51238a\" xlink:show=\"new\" xlink:title=\"psysml:baf82fce-ad86-47f7-be04-61d8ab51238a\" xlink:type=\"simple\"><rect fill=\"#FFFFFF\" height=\"45.9375\" id=\"E7\" rx=\"10\" ry=\"10\" style=\"stroke: #383838; stroke-width: 1.5;\" width=\"42\" x=\"398\" y=\"62\"/><text fill=\"#000000\" font-family=\"sans-serif\" font-size=\"12\" font-style=\"italic\" lengthAdjust=\"spacingAndGlyphs\" textLength=\"40\" x=\"399\" y=\"78.1387\">«part»</text><text fill=\"#000000\" font-family=\"sans-serif\" font-size=\"12\" lengthAdjust=\"spacingAndGlyphs\" textLength=\"8\" x=\"413\" y=\"92.1074\">d</text><line style=\"stroke: #383838; stroke-width: 1.5;\" x1=\"399\" x2=\"439\" y1=\"99.9375\" y2=\"99.9375\"/></a><!--MD5=[b9389687b975829384b498ac4b7476b2]\n",
       "class E8--><a href=\"psysml:602edda4-e9f7-4346-9e9a-bc1deb44a144\" target=\"_top\" title=\"psysml:602edda4-e9f7-4346-9e9a-bc1deb44a144\" xlink:actuate=\"onRequest\" xlink:href=\"psysml:602edda4-e9f7-4346-9e9a-bc1deb44a144\" xlink:show=\"new\" xlink:title=\"psysml:602edda4-e9f7-4346-9e9a-bc1deb44a144\" xlink:type=\"simple\"><rect fill=\"#FFFFFF\" height=\"45.9375\" id=\"E8\" rx=\"10\" ry=\"10\" style=\"stroke: #383838; stroke-width: 1.5;\" width=\"42\" x=\"321\" y=\"62\"/><text fill=\"#000000\" font-family=\"sans-serif\" font-size=\"12\" font-style=\"italic\" lengthAdjust=\"spacingAndGlyphs\" textLength=\"40\" x=\"322\" y=\"78.1387\">«part»</text><text fill=\"#000000\" font-family=\"sans-serif\" font-size=\"12\" lengthAdjust=\"spacingAndGlyphs\" textLength=\"8\" x=\"336\" y=\"92.1074\">e</text><line style=\"stroke: #383838; stroke-width: 1.5;\" x1=\"322\" x2=\"362\" y1=\"99.9375\" y2=\"99.9375\"/></a><!--MD5=[fd4143e9d270a159db93a4ea2a975926]\n",
       "class E9--><a href=\"psysml:ea99d53b-6b01-4b58-853a-79f827c6b1d7\" target=\"_top\" title=\"psysml:ea99d53b-6b01-4b58-853a-79f827c6b1d7\" xlink:actuate=\"onRequest\" xlink:href=\"psysml:ea99d53b-6b01-4b58-853a-79f827c6b1d7\" xlink:show=\"new\" xlink:title=\"psysml:ea99d53b-6b01-4b58-853a-79f827c6b1d7\" xlink:type=\"simple\"><rect fill=\"#FFFFFF\" height=\"45.9375\" id=\"E9\" rx=\"10\" ry=\"10\" style=\"stroke: #383838; stroke-width: 1.5;\" width=\"42\" x=\"244\" y=\"62\"/><text fill=\"#000000\" font-family=\"sans-serif\" font-size=\"12\" font-style=\"italic\" lengthAdjust=\"spacingAndGlyphs\" textLength=\"40\" x=\"245\" y=\"78.1387\">«part»</text><text fill=\"#000000\" font-family=\"sans-serif\" font-size=\"12\" lengthAdjust=\"spacingAndGlyphs\" textLength=\"4\" x=\"261\" y=\"92.1074\">f</text><line style=\"stroke: #383838; stroke-width: 1.5;\" x1=\"245\" x2=\"285\" y1=\"99.9375\" y2=\"99.9375\"/></a><!--MD5=[96f4274e9e20536e775497830990834d]\n",
       "class E10--><a href=\"psysml:7f8b6820-ebe3-4bcd-8be0-e5513e7bb89f\" target=\"_top\" title=\"psysml:7f8b6820-ebe3-4bcd-8be0-e5513e7bb89f\" xlink:actuate=\"onRequest\" xlink:href=\"psysml:7f8b6820-ebe3-4bcd-8be0-e5513e7bb89f\" xlink:show=\"new\" xlink:title=\"psysml:7f8b6820-ebe3-4bcd-8be0-e5513e7bb89f\" xlink:type=\"simple\"><rect fill=\"#FFFFFF\" height=\"45.9375\" id=\"E10\" rx=\"10\" ry=\"10\" style=\"stroke: #383838; stroke-width: 1.5;\" width=\"42\" x=\"167\" y=\"62\"/><text fill=\"#000000\" font-family=\"sans-serif\" font-size=\"12\" font-style=\"italic\" lengthAdjust=\"spacingAndGlyphs\" textLength=\"40\" x=\"168\" y=\"78.1387\">«part»</text><text fill=\"#000000\" font-family=\"sans-serif\" font-size=\"12\" lengthAdjust=\"spacingAndGlyphs\" textLength=\"8\" x=\"182\" y=\"92.1074\">g</text><line style=\"stroke: #383838; stroke-width: 1.5;\" x1=\"168\" x2=\"208\" y1=\"99.9375\" y2=\"99.9375\"/></a><!--MD5=[1dd1bfd58a279cf63c5f349dbc8fc6a1]\n",
       "class E11--><a href=\"psysml:b98160f9-962b-4166-b8bf-1b8817b6e181\" target=\"_top\" title=\"psysml:b98160f9-962b-4166-b8bf-1b8817b6e181\" xlink:actuate=\"onRequest\" xlink:href=\"psysml:b98160f9-962b-4166-b8bf-1b8817b6e181\" xlink:show=\"new\" xlink:title=\"psysml:b98160f9-962b-4166-b8bf-1b8817b6e181\" xlink:type=\"simple\"><rect fill=\"#FFFFFF\" height=\"88.3516\" id=\"E11\" style=\"stroke: #383838; stroke-width: 1.5;\" width=\"99\" x=\"32.5\" y=\"41\"/><text fill=\"#000000\" font-family=\"sans-serif\" font-size=\"12\" font-style=\"italic\" lengthAdjust=\"spacingAndGlyphs\" textLength=\"97\" x=\"33.5\" y=\"57.1387\">«attribute  def»</text><text fill=\"#000000\" font-family=\"sans-serif\" font-size=\"12\" lengthAdjust=\"spacingAndGlyphs\" textLength=\"8\" x=\"78\" y=\"71.1074\">A</text><line style=\"stroke: #383838; stroke-width: 1.5;\" x1=\"33.5\" x2=\"130.5\" y1=\"78.9375\" y2=\"78.9375\"/><text fill=\"#000000\" font-family=\"sans-serif\" font-size=\"11\" lengthAdjust=\"spacingAndGlyphs\" textLength=\"51\" x=\"38.5\" y=\"109.9526\">i: Integer</text><text fill=\"#000000\" font-family=\"sans-serif\" font-size=\"11\" lengthAdjust=\"spacingAndGlyphs\" textLength=\"21\" x=\"38.5\" y=\"122.7573\">x: A</text><line style=\"stroke: #383838; stroke-width: 1.0;\" x1=\"33.5\" x2=\"54.5\" y1=\"93.3398\" y2=\"93.3398\"/><text fill=\"#000000\" font-family=\"sans-serif\" font-size=\"11\" lengthAdjust=\"spacingAndGlyphs\" textLength=\"55\" x=\"54.5\" y=\"96.6479\">attributes</text><line style=\"stroke: #383838; stroke-width: 1.0;\" x1=\"109.5\" x2=\"130.5\" y1=\"93.3398\" y2=\"93.3398\"/></a><!--MD5=[15ebcb19ae302d9b601edb458606d402]\n",
       "link E5 to E2--><a href=\"psysml:f465fece-be6c-4a0b-8b87-5b67ed75d8f8\" target=\"_top\" title=\"psysml:f465fece-be6c-4a0b-8b87-5b67ed75d8f8\" xlink:actuate=\"onRequest\" xlink:href=\"psysml:f465fece-be6c-4a0b-8b87-5b67ed75d8f8\" xlink:show=\"new\" xlink:title=\"psysml:f465fece-be6c-4a0b-8b87-5b67ed75d8f8\" xlink:type=\"simple\"><path d=\"M560.5,108.29 C560.5,108.29 560.5,168.85 560.5,168.85 \" fill=\"none\" id=\"E5-&gt;E2\" style=\"stroke: #383838; stroke-width: 1.0;\"/><polygon fill=\"#FFFFFF\" points=\"560.5,188.85,553.5,169.85,567.5,169.85,560.5,188.85\" style=\"stroke: #383838; stroke-width: 1.0;\"/><ellipse cx=\"555.5\" cy=\"164.15\" fill=\"#383838\" rx=\"2\" ry=\"2\" style=\"stroke: #383838; stroke-width: 1.0;\"/><ellipse cx=\"565.5\" cy=\"164.15\" fill=\"#383838\" rx=\"2\" ry=\"2\" style=\"stroke: #383838; stroke-width: 1.0;\"/></a><!--MD5=[2351f337d6de0f557b50152ba70847b5]\n",
       "link E6 to E2--><a href=\"psysml:72e02ffe-11ce-46be-a503-0c91c54548ee\" target=\"_top\" title=\"psysml:72e02ffe-11ce-46be-a503-0c91c54548ee\" xlink:actuate=\"onRequest\" xlink:href=\"psysml:72e02ffe-11ce-46be-a503-0c91c54548ee\" xlink:show=\"new\" xlink:title=\"psysml:72e02ffe-11ce-46be-a503-0c91c54548ee\" xlink:type=\"simple\"><path d=\"M508,108.29 C508,108.29 508,168.85 508,168.85 \" fill=\"none\" id=\"E6-&gt;E2\" style=\"stroke: #383838; stroke-width: 1.0;\"/><polygon fill=\"#FFFFFF\" points=\"508,188.85,501,169.85,515,169.85,508,188.85\" style=\"stroke: #383838; stroke-width: 1.0;\"/><ellipse cx=\"503\" cy=\"164.15\" fill=\"#383838\" rx=\"2\" ry=\"2\" style=\"stroke: #383838; stroke-width: 1.0;\"/><ellipse cx=\"513\" cy=\"164.15\" fill=\"#383838\" rx=\"2\" ry=\"2\" style=\"stroke: #383838; stroke-width: 1.0;\"/></a><!--MD5=[28a3d626fed279c7162c4e7507ced5f7]\n",
       "@startuml\r\n",
       "skinparam linetype ortho\r\n",
       "skinparam monochrome true\r\n",
       "skinparam classbackgroundcolor white\r\n",
       "skinparam shadowing false\r\n",
       "skinparam wrapWidth 300\r\n",
       "hide circle\r\n",
       "\r\n",
       "package \"MultiplicityTest\" as E1  [[psysml:437e1e49-e6a3-4f3e-be27-b1e07120749d ]]  {\r\n",
       "comp def \"P\" as E2  <<(T,blue) part  def>> [[psysml:d60dc8a9-ee87-4177-8909-4fd780a9d8f8 ]] {\r\n",
       "}\r\n",
       "comp usage \"n: Integer \" as E3  <<(T,blue) attribute>> [[psysml:a5340f1d-d68a-4585-8f96-7305e6f489d2 ]] {\r\n",
       "}\r\n",
       "comp usage \"a \" as E4  <<(T,blue) part>> [[psysml:478d9241-8f6e-4034-a71b-67b7ef5acdce ]] {\r\n",
       "}\r\n",
       "comp usage \"b: P \" as E5  <<(T,blue) part>> [[psysml:bc94da79-c19f-4e44-8720-527e565e90dd ]] {\r\n",
       "}\r\n",
       "comp usage \"c: P \" as E6  <<(T,blue) part>> [[psysml:619a7e97-bac6-4f1e-8369-8e8a5aa8da71 ]] {\r\n",
       "}\r\n",
       "comp usage \"d \" as E7  <<(T,blue) part>> [[psysml:baf82fce-ad86-47f7-be04-61d8ab51238a ]] {\r\n",
       "}\r\n",
       "comp usage \"e \" as E8  <<(T,blue) part>> [[psysml:602edda4-e9f7-4346-9e9a-bc1deb44a144 ]] {\r\n",
       "}\r\n",
       "comp usage \"f \" as E9  <<(T,blue) part>> [[psysml:ea99d53b-6b01-4b58-853a-79f827c6b1d7 ]] {\r\n",
       "}\r\n",
       "comp usage \"g \" as E10  <<(T,blue) part>> [[psysml:7f8b6820-ebe3-4bcd-8be0-e5513e7bb89f ]] {\r\n",
       "}\r\n",
       "comp def \"A\" as E11  <<(T,blue) attribute  def>> [[psysml:b98160f9-962b-4166-b8bf-1b8817b6e181 ]] {\r\n",
       "- - attributes - -\r\n",
       "i: Integer\r\n",
       "x: A\r\n",
       "}\r\n",
       "}\r\n",
       "E5 - -:|> E2 [[psysml:f465fece-be6c-4a0b-8b87-5b67ed75d8f8 ]] \r\n",
       "E6 - -:|> E2 [[psysml:72e02ffe-11ce-46be-a503-0c91c54548ee ]] \r\n",
       "@enduml\r\n",
       "\n",
       "PlantUML version 1.2020.13(Sat Jun 13 12:26:38 UTC 2020)\n",
       "(EPL source distribution)\n",
       "Java Runtime: OpenJDK Runtime Environment\n",
       "JVM: OpenJDK 64-Bit Server VM\n",
       "Default Encoding: UTF-8\n",
       "Language: en\n",
       "Country: null\n",
       "--></g></svg>"
      ]
     },
     "execution_count": 52,
     "metadata": {},
     "output_type": "execute_result"
    }
   ],
   "source": [
    "%viz --style=\"ORTHOLINE\" --view=\"Tree\" \"MultiplicityTest\""
   ]
  },
  {
   "cell_type": "code",
   "execution_count": 53,
   "id": "992f5b78",
   "metadata": {
    "execution": {
     "iopub.execute_input": "2022-03-03T09:58:32.900811Z",
     "iopub.status.busy": "2022-03-03T09:58:32.900394Z",
     "iopub.status.idle": "2022-03-03T09:58:32.905541Z",
     "shell.execute_reply": "2022-03-03T09:58:32.905185Z"
    }
   },
   "outputs": [
    {
     "data": {
      "image/svg+xml": [
       "<?xml version=\"1.0\" encoding=\"UTF-8\" standalone=\"no\"?><svg xmlns=\"http://www.w3.org/2000/svg\" xmlns:xlink=\"http://www.w3.org/1999/xlink\" contentScriptType=\"application/ecmascript\" contentStyleType=\"text/css\" height=\"12px\" preserveAspectRatio=\"none\" style=\"width:12px;height:12px;\" version=\"1.1\" viewBox=\"0 0 12 12\" width=\"12px\" zoomAndPan=\"magnify\"><defs/><g><!--MD5=[97d6f38768b311333d388e66b2b27985]\n",
       "@startuml\r\n",
       "skinparam linetype ortho\r\n",
       "skinparam monochrome true\r\n",
       "skinparam classbackgroundcolor white\r\n",
       "skinparam shadowing false\r\n",
       "skinparam wrapWidth 300\r\n",
       "hide circle\r\n",
       "\r\n",
       "@enduml\r\n",
       "\n",
       "PlantUML version 1.2020.13(Sat Jun 13 12:26:38 UTC 2020)\n",
       "(EPL source distribution)\n",
       "Java Runtime: OpenJDK Runtime Environment\n",
       "JVM: OpenJDK 64-Bit Server VM\n",
       "Default Encoding: UTF-8\n",
       "Language: en\n",
       "Country: null\n",
       "--></g></svg>"
      ]
     },
     "execution_count": 53,
     "metadata": {},
     "output_type": "execute_result"
    }
   ],
   "source": [
    "%viz --style=\"ORTHOLINE\" --view=\"State\" \"MultiplicityTest\""
   ]
  },
  {
   "cell_type": "code",
   "execution_count": 54,
   "id": "eb7665dc",
   "metadata": {
    "execution": {
     "iopub.execute_input": "2022-03-03T09:58:32.955130Z",
     "iopub.status.busy": "2022-03-03T09:58:32.954697Z",
     "iopub.status.idle": "2022-03-03T09:58:32.983619Z",
     "shell.execute_reply": "2022-03-03T09:58:32.983253Z"
    }
   },
   "outputs": [
    {
     "data": {
      "image/svg+xml": [
       "<?xml version=\"1.0\" encoding=\"UTF-8\" standalone=\"no\"?><svg xmlns=\"http://www.w3.org/2000/svg\" xmlns:xlink=\"http://www.w3.org/1999/xlink\" contentScriptType=\"application/ecmascript\" contentStyleType=\"text/css\" height=\"115px\" preserveAspectRatio=\"none\" style=\"width:987px;height:115px;\" version=\"1.1\" viewBox=\"0 0 987 115\" width=\"987px\" zoomAndPan=\"magnify\"><defs/><g><!--MD5=[fbc87193dbaf4d95561dea2c320d4a47]\n",
       "cluster E1--><a href=\"psysml:437e1e49-e6a3-4f3e-be27-b1e07120749d\" target=\"_top\" title=\"psysml:437e1e49-e6a3-4f3e-be27-b1e07120749d\" xlink:actuate=\"onRequest\" xlink:href=\"psysml:437e1e49-e6a3-4f3e-be27-b1e07120749d\" xlink:show=\"new\" xlink:title=\"psysml:437e1e49-e6a3-4f3e-be27-b1e07120749d\" xlink:type=\"simple\"><polygon fill=\"#FFFFFF\" points=\"16,6,123,6,130,28.2969,965,28.2969,965,103,16,103,16,6\" style=\"stroke: #000000; stroke-width: 1.5;\"/><line style=\"stroke: #000000; stroke-width: 1.5;\" x1=\"16\" x2=\"130\" y1=\"28.2969\" y2=\"28.2969\"/><text fill=\"#000000\" font-family=\"sans-serif\" font-size=\"14\" font-weight=\"bold\" lengthAdjust=\"spacingAndGlyphs\" textLength=\"101\" x=\"20\" y=\"20.9951\">MultiplicityTest</text></a><!--MD5=[09b614a08d8cba4a07c9adeb5e0fee81]\n",
       "class E3--><a href=\"psysml:a5340f1d-d68a-4585-8f96-7305e6f489d2\" target=\"_top\" title=\"psysml:a5340f1d-d68a-4585-8f96-7305e6f489d2\" xlink:actuate=\"onRequest\" xlink:href=\"psysml:a5340f1d-d68a-4585-8f96-7305e6f489d2\" xlink:show=\"new\" xlink:title=\"psysml:a5340f1d-d68a-4585-8f96-7305e6f489d2\" xlink:type=\"simple\"><rect fill=\"#FFFFFF\" height=\"45.9375\" id=\"E3\" rx=\"10\" ry=\"10\" style=\"stroke: #383838; stroke-width: 1.5;\" width=\"71\" x=\"877.5\" y=\"41\"/><text fill=\"#000000\" font-family=\"sans-serif\" font-size=\"12\" font-style=\"italic\" lengthAdjust=\"spacingAndGlyphs\" textLength=\"69\" x=\"878.5\" y=\"57.1387\">«attribute»</text><text fill=\"#000000\" font-family=\"sans-serif\" font-size=\"12\" lengthAdjust=\"spacingAndGlyphs\" textLength=\"61\" x=\"880.5\" y=\"71.1074\">n: Integer</text><line style=\"stroke: #383838; stroke-width: 1.5;\" x1=\"878.5\" x2=\"947.5\" y1=\"78.9375\" y2=\"78.9375\"/></a><g id=\"E1.E11\"><a href=\"psysml:b98160f9-962b-4166-b8bf-1b8817b6e181\" target=\"_top\" title=\"psysml:b98160f9-962b-4166-b8bf-1b8817b6e181\" xlink:actuate=\"onRequest\" xlink:href=\"psysml:b98160f9-962b-4166-b8bf-1b8817b6e181\" xlink:show=\"new\" xlink:title=\"psysml:b98160f9-962b-4166-b8bf-1b8817b6e181\" xlink:type=\"simple\"><rect fill=\"#FFFFFF\" height=\"42.9375\" id=\"E11\" style=\"stroke: #383838; stroke-width: 1.5;\" width=\"104\" x=\"738\" y=\"42.5\"/><rect fill=\"#F8F8F8\" height=\"37.9375\" style=\"stroke: #383838; stroke-width: 1.5;\" width=\"104\" x=\"738\" y=\"42.5\"/><text fill=\"#000000\" font-family=\"sans-serif\" font-size=\"12\" font-style=\"italic\" lengthAdjust=\"spacingAndGlyphs\" textLength=\"97\" x=\"741.5\" y=\"58.6387\">«attribute  def»</text><text fill=\"#000000\" font-family=\"sans-serif\" font-size=\"12\" lengthAdjust=\"spacingAndGlyphs\" textLength=\"8\" x=\"786\" y=\"72.6074\">A</text></a></g><g id=\"E1.E2\"><a href=\"psysml:d60dc8a9-ee87-4177-8909-4fd780a9d8f8\" target=\"_top\" title=\"psysml:d60dc8a9-ee87-4177-8909-4fd780a9d8f8\" xlink:actuate=\"onRequest\" xlink:href=\"psysml:d60dc8a9-ee87-4177-8909-4fd780a9d8f8\" xlink:show=\"new\" xlink:title=\"psysml:d60dc8a9-ee87-4177-8909-4fd780a9d8f8\" xlink:type=\"simple\"><rect fill=\"#FFFFFF\" height=\"42.9375\" id=\"E2\" style=\"stroke: #383838; stroke-width: 1.5;\" width=\"75\" x=\"627.5\" y=\"42.5\"/><rect fill=\"#F8F8F8\" height=\"37.9375\" style=\"stroke: #383838; stroke-width: 1.5;\" width=\"75\" x=\"627.5\" y=\"42.5\"/><text fill=\"#000000\" font-family=\"sans-serif\" font-size=\"12\" font-style=\"italic\" lengthAdjust=\"spacingAndGlyphs\" textLength=\"68\" x=\"631\" y=\"58.6387\">«part  def»</text><text fill=\"#000000\" font-family=\"sans-serif\" font-size=\"12\" lengthAdjust=\"spacingAndGlyphs\" textLength=\"8\" x=\"661\" y=\"72.6074\">P</text></a></g><g id=\"E1.E4\"><a href=\"psysml:478d9241-8f6e-4034-a71b-67b7ef5acdce\" target=\"_top\" title=\"psysml:478d9241-8f6e-4034-a71b-67b7ef5acdce\" xlink:actuate=\"onRequest\" xlink:href=\"psysml:478d9241-8f6e-4034-a71b-67b7ef5acdce\" xlink:show=\"new\" xlink:title=\"psysml:478d9241-8f6e-4034-a71b-67b7ef5acdce\" xlink:type=\"simple\"><rect fill=\"#FFFFFF\" height=\"40\" id=\"E4\" rx=\"10\" ry=\"10\" style=\"stroke: #383838; stroke-width: 1.5;\" width=\"50\" x=\"542\" y=\"44\"/><rect fill=\"#F8F8F8\" height=\"23.9688\" rx=\"10\" ry=\"10\" style=\"stroke: #F8F8F8; stroke-width: 1.5;\" width=\"50\" x=\"542\" y=\"44\"/><rect fill=\"#F8F8F8\" height=\"10\" style=\"stroke: #F8F8F8; stroke-width: 1.5;\" width=\"50\" x=\"542\" y=\"57.9688\"/><rect fill=\"none\" height=\"40\" id=\"E4\" rx=\"10\" ry=\"10\" style=\"stroke: #383838; stroke-width: 1.5;\" width=\"50\" x=\"542\" y=\"44\"/><text fill=\"#000000\" font-family=\"sans-serif\" font-size=\"12\" lengthAdjust=\"spacingAndGlyphs\" textLength=\"8\" x=\"563\" y=\"60.1387\">a</text></a></g><g id=\"E1.E5\"><a href=\"psysml:bc94da79-c19f-4e44-8720-527e565e90dd\" target=\"_top\" title=\"psysml:bc94da79-c19f-4e44-8720-527e565e90dd\" xlink:actuate=\"onRequest\" xlink:href=\"psysml:bc94da79-c19f-4e44-8720-527e565e90dd\" xlink:show=\"new\" xlink:title=\"psysml:bc94da79-c19f-4e44-8720-527e565e90dd\" xlink:type=\"simple\"><rect fill=\"#FFFFFF\" height=\"40\" id=\"E5\" rx=\"10\" ry=\"10\" style=\"stroke: #383838; stroke-width: 1.5;\" width=\"50\" x=\"457\" y=\"44\"/><rect fill=\"#F8F8F8\" height=\"23.9688\" rx=\"10\" ry=\"10\" style=\"stroke: #F8F8F8; stroke-width: 1.5;\" width=\"50\" x=\"457\" y=\"44\"/><rect fill=\"#F8F8F8\" height=\"10\" style=\"stroke: #F8F8F8; stroke-width: 1.5;\" width=\"50\" x=\"457\" y=\"57.9688\"/><rect fill=\"none\" height=\"40\" id=\"E5\" rx=\"10\" ry=\"10\" style=\"stroke: #383838; stroke-width: 1.5;\" width=\"50\" x=\"457\" y=\"44\"/><text fill=\"#000000\" font-family=\"sans-serif\" font-size=\"12\" lengthAdjust=\"spacingAndGlyphs\" textLength=\"24\" x=\"470\" y=\"60.1387\">b: P</text></a></g><g id=\"E1.E6\"><a href=\"psysml:619a7e97-bac6-4f1e-8369-8e8a5aa8da71\" target=\"_top\" title=\"psysml:619a7e97-bac6-4f1e-8369-8e8a5aa8da71\" xlink:actuate=\"onRequest\" xlink:href=\"psysml:619a7e97-bac6-4f1e-8369-8e8a5aa8da71\" xlink:show=\"new\" xlink:title=\"psysml:619a7e97-bac6-4f1e-8369-8e8a5aa8da71\" xlink:type=\"simple\"><rect fill=\"#FFFFFF\" height=\"40\" id=\"E6\" rx=\"10\" ry=\"10\" style=\"stroke: #383838; stroke-width: 1.5;\" width=\"50\" x=\"372\" y=\"44\"/><rect fill=\"#F8F8F8\" height=\"23.9688\" rx=\"10\" ry=\"10\" style=\"stroke: #F8F8F8; stroke-width: 1.5;\" width=\"50\" x=\"372\" y=\"44\"/><rect fill=\"#F8F8F8\" height=\"10\" style=\"stroke: #F8F8F8; stroke-width: 1.5;\" width=\"50\" x=\"372\" y=\"57.9688\"/><rect fill=\"none\" height=\"40\" id=\"E6\" rx=\"10\" ry=\"10\" style=\"stroke: #383838; stroke-width: 1.5;\" width=\"50\" x=\"372\" y=\"44\"/><text fill=\"#000000\" font-family=\"sans-serif\" font-size=\"12\" lengthAdjust=\"spacingAndGlyphs\" textLength=\"23\" x=\"385.5\" y=\"60.1387\">c: P</text></a></g><g id=\"E1.E7\"><a href=\"psysml:baf82fce-ad86-47f7-be04-61d8ab51238a\" target=\"_top\" title=\"psysml:baf82fce-ad86-47f7-be04-61d8ab51238a\" xlink:actuate=\"onRequest\" xlink:href=\"psysml:baf82fce-ad86-47f7-be04-61d8ab51238a\" xlink:show=\"new\" xlink:title=\"psysml:baf82fce-ad86-47f7-be04-61d8ab51238a\" xlink:type=\"simple\"><rect fill=\"#FFFFFF\" height=\"40\" id=\"E7\" rx=\"10\" ry=\"10\" style=\"stroke: #383838; stroke-width: 1.5;\" width=\"50\" x=\"287\" y=\"44\"/><rect fill=\"#F8F8F8\" height=\"23.9688\" rx=\"10\" ry=\"10\" style=\"stroke: #F8F8F8; stroke-width: 1.5;\" width=\"50\" x=\"287\" y=\"44\"/><rect fill=\"#F8F8F8\" height=\"10\" style=\"stroke: #F8F8F8; stroke-width: 1.5;\" width=\"50\" x=\"287\" y=\"57.9688\"/><rect fill=\"none\" height=\"40\" id=\"E7\" rx=\"10\" ry=\"10\" style=\"stroke: #383838; stroke-width: 1.5;\" width=\"50\" x=\"287\" y=\"44\"/><text fill=\"#000000\" font-family=\"sans-serif\" font-size=\"12\" lengthAdjust=\"spacingAndGlyphs\" textLength=\"8\" x=\"308\" y=\"60.1387\">d</text></a></g><g id=\"E1.E8\"><a href=\"psysml:602edda4-e9f7-4346-9e9a-bc1deb44a144\" target=\"_top\" title=\"psysml:602edda4-e9f7-4346-9e9a-bc1deb44a144\" xlink:actuate=\"onRequest\" xlink:href=\"psysml:602edda4-e9f7-4346-9e9a-bc1deb44a144\" xlink:show=\"new\" xlink:title=\"psysml:602edda4-e9f7-4346-9e9a-bc1deb44a144\" xlink:type=\"simple\"><rect fill=\"#FFFFFF\" height=\"40\" id=\"E8\" rx=\"10\" ry=\"10\" style=\"stroke: #383838; stroke-width: 1.5;\" width=\"50\" x=\"202\" y=\"44\"/><rect fill=\"#F8F8F8\" height=\"23.9688\" rx=\"10\" ry=\"10\" style=\"stroke: #F8F8F8; stroke-width: 1.5;\" width=\"50\" x=\"202\" y=\"44\"/><rect fill=\"#F8F8F8\" height=\"10\" style=\"stroke: #F8F8F8; stroke-width: 1.5;\" width=\"50\" x=\"202\" y=\"57.9688\"/><rect fill=\"none\" height=\"40\" id=\"E8\" rx=\"10\" ry=\"10\" style=\"stroke: #383838; stroke-width: 1.5;\" width=\"50\" x=\"202\" y=\"44\"/><text fill=\"#000000\" font-family=\"sans-serif\" font-size=\"12\" lengthAdjust=\"spacingAndGlyphs\" textLength=\"8\" x=\"223\" y=\"60.1387\">e</text></a></g><g id=\"E1.E9\"><a href=\"psysml:ea99d53b-6b01-4b58-853a-79f827c6b1d7\" target=\"_top\" title=\"psysml:ea99d53b-6b01-4b58-853a-79f827c6b1d7\" xlink:actuate=\"onRequest\" xlink:href=\"psysml:ea99d53b-6b01-4b58-853a-79f827c6b1d7\" xlink:show=\"new\" xlink:title=\"psysml:ea99d53b-6b01-4b58-853a-79f827c6b1d7\" xlink:type=\"simple\"><rect fill=\"#FFFFFF\" height=\"40\" id=\"E9\" rx=\"10\" ry=\"10\" style=\"stroke: #383838; stroke-width: 1.5;\" width=\"50\" x=\"117\" y=\"44\"/><rect fill=\"#F8F8F8\" height=\"23.9688\" rx=\"10\" ry=\"10\" style=\"stroke: #F8F8F8; stroke-width: 1.5;\" width=\"50\" x=\"117\" y=\"44\"/><rect fill=\"#F8F8F8\" height=\"10\" style=\"stroke: #F8F8F8; stroke-width: 1.5;\" width=\"50\" x=\"117\" y=\"57.9688\"/><rect fill=\"none\" height=\"40\" id=\"E9\" rx=\"10\" ry=\"10\" style=\"stroke: #383838; stroke-width: 1.5;\" width=\"50\" x=\"117\" y=\"44\"/><text fill=\"#000000\" font-family=\"sans-serif\" font-size=\"12\" lengthAdjust=\"spacingAndGlyphs\" textLength=\"4\" x=\"140\" y=\"60.1387\">f</text></a></g><g id=\"E1.E10\"><a href=\"psysml:7f8b6820-ebe3-4bcd-8be0-e5513e7bb89f\" target=\"_top\" title=\"psysml:7f8b6820-ebe3-4bcd-8be0-e5513e7bb89f\" xlink:actuate=\"onRequest\" xlink:href=\"psysml:7f8b6820-ebe3-4bcd-8be0-e5513e7bb89f\" xlink:show=\"new\" xlink:title=\"psysml:7f8b6820-ebe3-4bcd-8be0-e5513e7bb89f\" xlink:type=\"simple\"><rect fill=\"#FFFFFF\" height=\"40\" id=\"E10\" rx=\"10\" ry=\"10\" style=\"stroke: #383838; stroke-width: 1.5;\" width=\"50\" x=\"32\" y=\"44\"/><rect fill=\"#F8F8F8\" height=\"23.9688\" rx=\"10\" ry=\"10\" style=\"stroke: #F8F8F8; stroke-width: 1.5;\" width=\"50\" x=\"32\" y=\"44\"/><rect fill=\"#F8F8F8\" height=\"10\" style=\"stroke: #F8F8F8; stroke-width: 1.5;\" width=\"50\" x=\"32\" y=\"57.9688\"/><rect fill=\"none\" height=\"40\" id=\"E10\" rx=\"10\" ry=\"10\" style=\"stroke: #383838; stroke-width: 1.5;\" width=\"50\" x=\"32\" y=\"44\"/><text fill=\"#000000\" font-family=\"sans-serif\" font-size=\"12\" lengthAdjust=\"spacingAndGlyphs\" textLength=\"8\" x=\"53\" y=\"60.1387\">g</text></a></g><!--MD5=[9adbd139226878def0d0002fd9581d37]\n",
       "@startuml\r\n",
       "skinparam ranksep 10\r\n",
       "skinparam rectangle {\r\n",
       " backgroundColor<<block>> LightGreen\r\n",
       "}\r\n",
       "skinparam linetype ortho\r\n",
       "skinparam monochrome true\r\n",
       "skinparam classbackgroundcolor white\r\n",
       "skinparam shadowing false\r\n",
       "skinparam wrapWidth 300\r\n",
       "hide circle\r\n",
       "\r\n",
       "package \"MultiplicityTest\" as E1  [[psysml:437e1e49-e6a3-4f3e-be27-b1e07120749d ]]  {\r\n",
       "rec def \"P\" as E2  <<(T,blue) part  def>> [[psysml:d60dc8a9-ee87-4177-8909-4fd780a9d8f8 ]] {\r\n",
       "}\r\n",
       "comp usage \"n: Integer \" as E3  <<(T,blue) attribute>> [[psysml:a5340f1d-d68a-4585-8f96-7305e6f489d2 ]] {\r\n",
       "}\r\n",
       "rec usage \"a\" as E4  [[psysml:478d9241-8f6e-4034-a71b-67b7ef5acdce ]] {\r\n",
       "}\r\n",
       "rec usage \"b: P\" as E5  [[psysml:bc94da79-c19f-4e44-8720-527e565e90dd ]] {\r\n",
       "}\r\n",
       "rec usage \"c: P\" as E6  [[psysml:619a7e97-bac6-4f1e-8369-8e8a5aa8da71 ]] {\r\n",
       "}\r\n",
       "rec usage \"d\" as E7  [[psysml:baf82fce-ad86-47f7-be04-61d8ab51238a ]] {\r\n",
       "}\r\n",
       "rec usage \"e\" as E8  [[psysml:602edda4-e9f7-4346-9e9a-bc1deb44a144 ]] {\r\n",
       "}\r\n",
       "rec usage \"f\" as E9  [[psysml:ea99d53b-6b01-4b58-853a-79f827c6b1d7 ]] {\r\n",
       "}\r\n",
       "rec usage \"g\" as E10  [[psysml:7f8b6820-ebe3-4bcd-8be0-e5513e7bb89f ]] {\r\n",
       "}\r\n",
       "def \"A\" as E11  <<(T,blue) attribute  def>> [[psysml:b98160f9-962b-4166-b8bf-1b8817b6e181 ]] \r\n",
       "}\r\n",
       "@enduml\r\n",
       "\n",
       "PlantUML version 1.2020.13(Sat Jun 13 12:26:38 UTC 2020)\n",
       "(EPL source distribution)\n",
       "Java Runtime: OpenJDK Runtime Environment\n",
       "JVM: OpenJDK 64-Bit Server VM\n",
       "Default Encoding: UTF-8\n",
       "Language: en\n",
       "Country: null\n",
       "--></g></svg>"
      ]
     },
     "execution_count": 54,
     "metadata": {},
     "output_type": "execute_result"
    }
   ],
   "source": [
    "%viz --style=\"ORTHOLINE\" --view=\"Interconnection\" \"MultiplicityTest\""
   ]
  },
  {
   "cell_type": "code",
   "execution_count": 55,
   "id": "91058c62",
   "metadata": {
    "execution": {
     "iopub.execute_input": "2022-03-03T09:58:33.033167Z",
     "iopub.status.busy": "2022-03-03T09:58:33.032757Z",
     "iopub.status.idle": "2022-03-03T09:58:33.037720Z",
     "shell.execute_reply": "2022-03-03T09:58:33.037365Z"
    }
   },
   "outputs": [
    {
     "data": {
      "image/svg+xml": [
       "<?xml version=\"1.0\" encoding=\"UTF-8\" standalone=\"no\"?><svg xmlns=\"http://www.w3.org/2000/svg\" xmlns:xlink=\"http://www.w3.org/1999/xlink\" contentScriptType=\"application/ecmascript\" contentStyleType=\"text/css\" height=\"12px\" preserveAspectRatio=\"none\" style=\"width:12px;height:12px;\" version=\"1.1\" viewBox=\"0 0 12 12\" width=\"12px\" zoomAndPan=\"magnify\"><defs/><g><!--MD5=[72934c63077099a26744516a776b4749]\n",
       "@startuml\r\n",
       "skinparam ranksep 8\r\n",
       "skinparam linetype ortho\r\n",
       "skinparam monochrome true\r\n",
       "skinparam classbackgroundcolor white\r\n",
       "skinparam shadowing false\r\n",
       "skinparam wrapWidth 300\r\n",
       "hide circle\r\n",
       "\r\n",
       "@enduml\r\n",
       "\n",
       "PlantUML version 1.2020.13(Sat Jun 13 12:26:38 UTC 2020)\n",
       "(EPL source distribution)\n",
       "Java Runtime: OpenJDK Runtime Environment\n",
       "JVM: OpenJDK 64-Bit Server VM\n",
       "Default Encoding: UTF-8\n",
       "Language: en\n",
       "Country: null\n",
       "--></g></svg>"
      ]
     },
     "execution_count": 55,
     "metadata": {},
     "output_type": "execute_result"
    }
   ],
   "source": [
    "%viz --style=\"ORTHOLINE\" --view=\"Action\" \"MultiplicityTest\""
   ]
  },
  {
   "cell_type": "code",
   "execution_count": 56,
   "id": "7acbc3cd",
   "metadata": {
    "execution": {
     "iopub.execute_input": "2022-03-03T09:58:33.087668Z",
     "iopub.status.busy": "2022-03-03T09:58:33.087254Z",
     "iopub.status.idle": "2022-03-03T09:58:33.092191Z",
     "shell.execute_reply": "2022-03-03T09:58:33.091811Z"
    }
   },
   "outputs": [
    {
     "data": {
      "image/svg+xml": [
       "<?xml version=\"1.0\" encoding=\"UTF-8\" standalone=\"no\"?><svg xmlns=\"http://www.w3.org/2000/svg\" xmlns:xlink=\"http://www.w3.org/1999/xlink\" contentScriptType=\"application/ecmascript\" contentStyleType=\"text/css\" height=\"12px\" preserveAspectRatio=\"none\" style=\"width:12px;height:12px;\" version=\"1.1\" viewBox=\"0 0 12 12\" width=\"12px\" zoomAndPan=\"magnify\"><defs/><g><!--MD5=[30fc1de5121c5abddedd55b44417fde8]\n",
       "@startuml\r\n",
       "skinparam roundcorner 20\r\n",
       "skinparam BoxPadding 20\r\n",
       "skinparam SequenceBoxBackgroundColor #white\r\n",
       "skinparam style strictuml\r\n",
       "skinparam maxMessageSize 100\r\n",
       "skinparam linetype ortho\r\n",
       "skinparam monochrome true\r\n",
       "skinparam classbackgroundcolor white\r\n",
       "skinparam shadowing false\r\n",
       "skinparam wrapWidth 300\r\n",
       "hide circle\r\n",
       "\r\n",
       "@enduml\r\n",
       "\n",
       "PlantUML version 1.2020.13(Sat Jun 13 12:26:38 UTC 2020)\n",
       "(EPL source distribution)\n",
       "Java Runtime: OpenJDK Runtime Environment\n",
       "JVM: OpenJDK 64-Bit Server VM\n",
       "Default Encoding: UTF-8\n",
       "Language: en\n",
       "Country: null\n",
       "--></g></svg>"
      ]
     },
     "execution_count": 56,
     "metadata": {},
     "output_type": "execute_result"
    }
   ],
   "source": [
    "%viz --style=\"ORTHOLINE\" --view=\"Sequence\" \"MultiplicityTest\""
   ]
  },
  {
   "cell_type": "code",
   "execution_count": 57,
   "id": "e499d56f",
   "metadata": {
    "execution": {
     "iopub.execute_input": "2022-03-03T09:58:33.141867Z",
     "iopub.status.busy": "2022-03-03T09:58:33.141438Z",
     "iopub.status.idle": "2022-03-03T09:58:33.194355Z",
     "shell.execute_reply": "2022-03-03T09:58:33.192905Z"
    }
   },
   "outputs": [
    {
     "data": {
      "image/svg+xml": [
       "<?xml version=\"1.0\" encoding=\"UTF-8\" standalone=\"no\"?><svg xmlns=\"http://www.w3.org/2000/svg\" xmlns:xlink=\"http://www.w3.org/1999/xlink\" contentScriptType=\"application/ecmascript\" contentStyleType=\"text/css\" height=\"263px\" preserveAspectRatio=\"none\" style=\"width:816px;height:263px;\" version=\"1.1\" viewBox=\"0 0 816 263\" width=\"816px\" zoomAndPan=\"magnify\"><defs/><g><!--MD5=[fbc87193dbaf4d95561dea2c320d4a47]\n",
       "cluster E1--><a href=\"psysml:437e1e49-e6a3-4f3e-be27-b1e07120749d\" target=\"_top\" title=\"psysml:437e1e49-e6a3-4f3e-be27-b1e07120749d\" xlink:actuate=\"onRequest\" xlink:href=\"psysml:437e1e49-e6a3-4f3e-be27-b1e07120749d\" xlink:show=\"new\" xlink:title=\"psysml:437e1e49-e6a3-4f3e-be27-b1e07120749d\" xlink:type=\"simple\"><polygon fill=\"#FFFFFF\" points=\"16,6,123,6,130,28.2969,794,28.2969,794,251,16,251,16,6\" style=\"stroke: #000000; stroke-width: 1.5;\"/><line style=\"stroke: #000000; stroke-width: 1.5;\" x1=\"16\" x2=\"130\" y1=\"28.2969\" y2=\"28.2969\"/><text fill=\"#000000\" font-family=\"sans-serif\" font-size=\"14\" font-weight=\"bold\" lengthAdjust=\"spacingAndGlyphs\" textLength=\"101\" x=\"20\" y=\"20.9951\">MultiplicityTest</text></a><!--MD5=[b4997ac47864f28c2f74865a473b2911]\n",
       "class E2--><a href=\"psysml:d60dc8a9-ee87-4177-8909-4fd780a9d8f8\" target=\"_top\" title=\"psysml:d60dc8a9-ee87-4177-8909-4fd780a9d8f8\" xlink:actuate=\"onRequest\" xlink:href=\"psysml:d60dc8a9-ee87-4177-8909-4fd780a9d8f8\" xlink:show=\"new\" xlink:title=\"psysml:d60dc8a9-ee87-4177-8909-4fd780a9d8f8\" xlink:type=\"simple\"><rect fill=\"#FFFFFF\" height=\"45.9375\" id=\"E2\" style=\"stroke: #383838; stroke-width: 1.5;\" width=\"70\" x=\"499\" y=\"189\"/><text fill=\"#000000\" font-family=\"sans-serif\" font-size=\"12\" font-style=\"italic\" lengthAdjust=\"spacingAndGlyphs\" textLength=\"68\" x=\"500\" y=\"205.1387\">«part  def»</text><text fill=\"#000000\" font-family=\"sans-serif\" font-size=\"12\" lengthAdjust=\"spacingAndGlyphs\" textLength=\"8\" x=\"530\" y=\"219.1074\">P</text><line style=\"stroke: #383838; stroke-width: 1.5;\" x1=\"500\" x2=\"568\" y1=\"226.9375\" y2=\"226.9375\"/></a><!--MD5=[09b614a08d8cba4a07c9adeb5e0fee81]\n",
       "class E3--><a href=\"psysml:a5340f1d-d68a-4585-8f96-7305e6f489d2\" target=\"_top\" title=\"psysml:a5340f1d-d68a-4585-8f96-7305e6f489d2\" xlink:actuate=\"onRequest\" xlink:href=\"psysml:a5340f1d-d68a-4585-8f96-7305e6f489d2\" xlink:show=\"new\" xlink:title=\"psysml:a5340f1d-d68a-4585-8f96-7305e6f489d2\" xlink:type=\"simple\"><rect fill=\"#FFFFFF\" height=\"45.9375\" id=\"E3\" rx=\"10\" ry=\"10\" style=\"stroke: #383838; stroke-width: 1.5;\" width=\"71\" x=\"706.5\" y=\"62\"/><text fill=\"#000000\" font-family=\"sans-serif\" font-size=\"12\" font-style=\"italic\" lengthAdjust=\"spacingAndGlyphs\" textLength=\"69\" x=\"707.5\" y=\"78.1387\">«attribute»</text><text fill=\"#000000\" font-family=\"sans-serif\" font-size=\"12\" lengthAdjust=\"spacingAndGlyphs\" textLength=\"61\" x=\"709.5\" y=\"92.1074\">n: Integer</text><line style=\"stroke: #383838; stroke-width: 1.5;\" x1=\"707.5\" x2=\"776.5\" y1=\"99.9375\" y2=\"99.9375\"/></a><!--MD5=[ebbe1d658d1005bcc118a6aa81145e00]\n",
       "class E4--><a href=\"psysml:478d9241-8f6e-4034-a71b-67b7ef5acdce\" target=\"_top\" title=\"psysml:478d9241-8f6e-4034-a71b-67b7ef5acdce\" xlink:actuate=\"onRequest\" xlink:href=\"psysml:478d9241-8f6e-4034-a71b-67b7ef5acdce\" xlink:show=\"new\" xlink:title=\"psysml:478d9241-8f6e-4034-a71b-67b7ef5acdce\" xlink:type=\"simple\"><rect fill=\"#FFFFFF\" height=\"45.9375\" id=\"E4\" rx=\"10\" ry=\"10\" style=\"stroke: #383838; stroke-width: 1.5;\" width=\"42\" x=\"629\" y=\"62\"/><text fill=\"#000000\" font-family=\"sans-serif\" font-size=\"12\" font-style=\"italic\" lengthAdjust=\"spacingAndGlyphs\" textLength=\"40\" x=\"630\" y=\"78.1387\">«part»</text><text fill=\"#000000\" font-family=\"sans-serif\" font-size=\"12\" lengthAdjust=\"spacingAndGlyphs\" textLength=\"8\" x=\"644\" y=\"92.1074\">a</text><line style=\"stroke: #383838; stroke-width: 1.5;\" x1=\"630\" x2=\"670\" y1=\"99.9375\" y2=\"99.9375\"/></a><!--MD5=[270fce915f116d4de14055a7c1d9a0f3]\n",
       "class E5--><a href=\"psysml:bc94da79-c19f-4e44-8720-527e565e90dd\" target=\"_top\" title=\"psysml:bc94da79-c19f-4e44-8720-527e565e90dd\" xlink:actuate=\"onRequest\" xlink:href=\"psysml:bc94da79-c19f-4e44-8720-527e565e90dd\" xlink:show=\"new\" xlink:title=\"psysml:bc94da79-c19f-4e44-8720-527e565e90dd\" xlink:type=\"simple\"><rect fill=\"#FFFFFF\" height=\"45.9375\" id=\"E5\" rx=\"10\" ry=\"10\" style=\"stroke: #383838; stroke-width: 1.5;\" width=\"42\" x=\"552\" y=\"62\"/><text fill=\"#000000\" font-family=\"sans-serif\" font-size=\"12\" font-style=\"italic\" lengthAdjust=\"spacingAndGlyphs\" textLength=\"40\" x=\"553\" y=\"78.1387\">«part»</text><text fill=\"#000000\" font-family=\"sans-serif\" font-size=\"12\" lengthAdjust=\"spacingAndGlyphs\" textLength=\"24\" x=\"559\" y=\"92.1074\">b: P</text><line style=\"stroke: #383838; stroke-width: 1.5;\" x1=\"553\" x2=\"593\" y1=\"99.9375\" y2=\"99.9375\"/></a><!--MD5=[60a26617385b1d2d0262a64233df1f8d]\n",
       "class E6--><a href=\"psysml:619a7e97-bac6-4f1e-8369-8e8a5aa8da71\" target=\"_top\" title=\"psysml:619a7e97-bac6-4f1e-8369-8e8a5aa8da71\" xlink:actuate=\"onRequest\" xlink:href=\"psysml:619a7e97-bac6-4f1e-8369-8e8a5aa8da71\" xlink:show=\"new\" xlink:title=\"psysml:619a7e97-bac6-4f1e-8369-8e8a5aa8da71\" xlink:type=\"simple\"><rect fill=\"#FFFFFF\" height=\"45.9375\" id=\"E6\" rx=\"10\" ry=\"10\" style=\"stroke: #383838; stroke-width: 1.5;\" width=\"42\" x=\"475\" y=\"62\"/><text fill=\"#000000\" font-family=\"sans-serif\" font-size=\"12\" font-style=\"italic\" lengthAdjust=\"spacingAndGlyphs\" textLength=\"40\" x=\"476\" y=\"78.1387\">«part»</text><text fill=\"#000000\" font-family=\"sans-serif\" font-size=\"12\" lengthAdjust=\"spacingAndGlyphs\" textLength=\"23\" x=\"482.5\" y=\"92.1074\">c: P</text><line style=\"stroke: #383838; stroke-width: 1.5;\" x1=\"476\" x2=\"516\" y1=\"99.9375\" y2=\"99.9375\"/></a><!--MD5=[2156ba9850f5573cc1fc38a6a4b2f02b]\n",
       "class E7--><a href=\"psysml:baf82fce-ad86-47f7-be04-61d8ab51238a\" target=\"_top\" title=\"psysml:baf82fce-ad86-47f7-be04-61d8ab51238a\" xlink:actuate=\"onRequest\" xlink:href=\"psysml:baf82fce-ad86-47f7-be04-61d8ab51238a\" xlink:show=\"new\" xlink:title=\"psysml:baf82fce-ad86-47f7-be04-61d8ab51238a\" xlink:type=\"simple\"><rect fill=\"#FFFFFF\" height=\"45.9375\" id=\"E7\" rx=\"10\" ry=\"10\" style=\"stroke: #383838; stroke-width: 1.5;\" width=\"42\" x=\"398\" y=\"62\"/><text fill=\"#000000\" font-family=\"sans-serif\" font-size=\"12\" font-style=\"italic\" lengthAdjust=\"spacingAndGlyphs\" textLength=\"40\" x=\"399\" y=\"78.1387\">«part»</text><text fill=\"#000000\" font-family=\"sans-serif\" font-size=\"12\" lengthAdjust=\"spacingAndGlyphs\" textLength=\"8\" x=\"413\" y=\"92.1074\">d</text><line style=\"stroke: #383838; stroke-width: 1.5;\" x1=\"399\" x2=\"439\" y1=\"99.9375\" y2=\"99.9375\"/></a><!--MD5=[b9389687b975829384b498ac4b7476b2]\n",
       "class E8--><a href=\"psysml:602edda4-e9f7-4346-9e9a-bc1deb44a144\" target=\"_top\" title=\"psysml:602edda4-e9f7-4346-9e9a-bc1deb44a144\" xlink:actuate=\"onRequest\" xlink:href=\"psysml:602edda4-e9f7-4346-9e9a-bc1deb44a144\" xlink:show=\"new\" xlink:title=\"psysml:602edda4-e9f7-4346-9e9a-bc1deb44a144\" xlink:type=\"simple\"><rect fill=\"#FFFFFF\" height=\"45.9375\" id=\"E8\" rx=\"10\" ry=\"10\" style=\"stroke: #383838; stroke-width: 1.5;\" width=\"42\" x=\"321\" y=\"62\"/><text fill=\"#000000\" font-family=\"sans-serif\" font-size=\"12\" font-style=\"italic\" lengthAdjust=\"spacingAndGlyphs\" textLength=\"40\" x=\"322\" y=\"78.1387\">«part»</text><text fill=\"#000000\" font-family=\"sans-serif\" font-size=\"12\" lengthAdjust=\"spacingAndGlyphs\" textLength=\"8\" x=\"336\" y=\"92.1074\">e</text><line style=\"stroke: #383838; stroke-width: 1.5;\" x1=\"322\" x2=\"362\" y1=\"99.9375\" y2=\"99.9375\"/></a><!--MD5=[fd4143e9d270a159db93a4ea2a975926]\n",
       "class E9--><a href=\"psysml:ea99d53b-6b01-4b58-853a-79f827c6b1d7\" target=\"_top\" title=\"psysml:ea99d53b-6b01-4b58-853a-79f827c6b1d7\" xlink:actuate=\"onRequest\" xlink:href=\"psysml:ea99d53b-6b01-4b58-853a-79f827c6b1d7\" xlink:show=\"new\" xlink:title=\"psysml:ea99d53b-6b01-4b58-853a-79f827c6b1d7\" xlink:type=\"simple\"><rect fill=\"#FFFFFF\" height=\"45.9375\" id=\"E9\" rx=\"10\" ry=\"10\" style=\"stroke: #383838; stroke-width: 1.5;\" width=\"42\" x=\"244\" y=\"62\"/><text fill=\"#000000\" font-family=\"sans-serif\" font-size=\"12\" font-style=\"italic\" lengthAdjust=\"spacingAndGlyphs\" textLength=\"40\" x=\"245\" y=\"78.1387\">«part»</text><text fill=\"#000000\" font-family=\"sans-serif\" font-size=\"12\" lengthAdjust=\"spacingAndGlyphs\" textLength=\"4\" x=\"261\" y=\"92.1074\">f</text><line style=\"stroke: #383838; stroke-width: 1.5;\" x1=\"245\" x2=\"285\" y1=\"99.9375\" y2=\"99.9375\"/></a><!--MD5=[96f4274e9e20536e775497830990834d]\n",
       "class E10--><a href=\"psysml:7f8b6820-ebe3-4bcd-8be0-e5513e7bb89f\" target=\"_top\" title=\"psysml:7f8b6820-ebe3-4bcd-8be0-e5513e7bb89f\" xlink:actuate=\"onRequest\" xlink:href=\"psysml:7f8b6820-ebe3-4bcd-8be0-e5513e7bb89f\" xlink:show=\"new\" xlink:title=\"psysml:7f8b6820-ebe3-4bcd-8be0-e5513e7bb89f\" xlink:type=\"simple\"><rect fill=\"#FFFFFF\" height=\"45.9375\" id=\"E10\" rx=\"10\" ry=\"10\" style=\"stroke: #383838; stroke-width: 1.5;\" width=\"42\" x=\"167\" y=\"62\"/><text fill=\"#000000\" font-family=\"sans-serif\" font-size=\"12\" font-style=\"italic\" lengthAdjust=\"spacingAndGlyphs\" textLength=\"40\" x=\"168\" y=\"78.1387\">«part»</text><text fill=\"#000000\" font-family=\"sans-serif\" font-size=\"12\" lengthAdjust=\"spacingAndGlyphs\" textLength=\"8\" x=\"182\" y=\"92.1074\">g</text><line style=\"stroke: #383838; stroke-width: 1.5;\" x1=\"168\" x2=\"208\" y1=\"99.9375\" y2=\"99.9375\"/></a><!--MD5=[1dd1bfd58a279cf63c5f349dbc8fc6a1]\n",
       "class E11--><a href=\"psysml:b98160f9-962b-4166-b8bf-1b8817b6e181\" target=\"_top\" title=\"psysml:b98160f9-962b-4166-b8bf-1b8817b6e181\" xlink:actuate=\"onRequest\" xlink:href=\"psysml:b98160f9-962b-4166-b8bf-1b8817b6e181\" xlink:show=\"new\" xlink:title=\"psysml:b98160f9-962b-4166-b8bf-1b8817b6e181\" xlink:type=\"simple\"><rect fill=\"#FFFFFF\" height=\"88.3516\" id=\"E11\" style=\"stroke: #383838; stroke-width: 1.5;\" width=\"99\" x=\"32.5\" y=\"41\"/><text fill=\"#000000\" font-family=\"sans-serif\" font-size=\"12\" font-style=\"italic\" lengthAdjust=\"spacingAndGlyphs\" textLength=\"97\" x=\"33.5\" y=\"57.1387\">«attribute  def»</text><text fill=\"#000000\" font-family=\"sans-serif\" font-size=\"12\" lengthAdjust=\"spacingAndGlyphs\" textLength=\"8\" x=\"78\" y=\"71.1074\">A</text><line style=\"stroke: #383838; stroke-width: 1.5;\" x1=\"33.5\" x2=\"130.5\" y1=\"78.9375\" y2=\"78.9375\"/><text fill=\"#000000\" font-family=\"sans-serif\" font-size=\"11\" lengthAdjust=\"spacingAndGlyphs\" textLength=\"51\" x=\"38.5\" y=\"109.9526\">i: Integer</text><text fill=\"#000000\" font-family=\"sans-serif\" font-size=\"11\" lengthAdjust=\"spacingAndGlyphs\" textLength=\"21\" x=\"38.5\" y=\"122.7573\">x: A</text><line style=\"stroke: #383838; stroke-width: 1.0;\" x1=\"33.5\" x2=\"54.5\" y1=\"93.3398\" y2=\"93.3398\"/><text fill=\"#000000\" font-family=\"sans-serif\" font-size=\"11\" lengthAdjust=\"spacingAndGlyphs\" textLength=\"55\" x=\"54.5\" y=\"96.6479\">attributes</text><line style=\"stroke: #383838; stroke-width: 1.0;\" x1=\"109.5\" x2=\"130.5\" y1=\"93.3398\" y2=\"93.3398\"/></a><!--MD5=[15ebcb19ae302d9b601edb458606d402]\n",
       "link E5 to E2--><a href=\"psysml:f465fece-be6c-4a0b-8b87-5b67ed75d8f8\" target=\"_top\" title=\"psysml:f465fece-be6c-4a0b-8b87-5b67ed75d8f8\" xlink:actuate=\"onRequest\" xlink:href=\"psysml:f465fece-be6c-4a0b-8b87-5b67ed75d8f8\" xlink:show=\"new\" xlink:title=\"psysml:f465fece-be6c-4a0b-8b87-5b67ed75d8f8\" xlink:type=\"simple\"><path d=\"M560.5,108.29 C560.5,108.29 560.5,168.85 560.5,168.85 \" fill=\"none\" id=\"E5-&gt;E2\" style=\"stroke: #383838; stroke-width: 1.0;\"/><polygon fill=\"#FFFFFF\" points=\"560.5,188.85,553.5,169.85,567.5,169.85,560.5,188.85\" style=\"stroke: #383838; stroke-width: 1.0;\"/><ellipse cx=\"555.5\" cy=\"164.15\" fill=\"#383838\" rx=\"2\" ry=\"2\" style=\"stroke: #383838; stroke-width: 1.0;\"/><ellipse cx=\"565.5\" cy=\"164.15\" fill=\"#383838\" rx=\"2\" ry=\"2\" style=\"stroke: #383838; stroke-width: 1.0;\"/></a><!--MD5=[2351f337d6de0f557b50152ba70847b5]\n",
       "link E6 to E2--><a href=\"psysml:72e02ffe-11ce-46be-a503-0c91c54548ee\" target=\"_top\" title=\"psysml:72e02ffe-11ce-46be-a503-0c91c54548ee\" xlink:actuate=\"onRequest\" xlink:href=\"psysml:72e02ffe-11ce-46be-a503-0c91c54548ee\" xlink:show=\"new\" xlink:title=\"psysml:72e02ffe-11ce-46be-a503-0c91c54548ee\" xlink:type=\"simple\"><path d=\"M508,108.29 C508,108.29 508,168.85 508,168.85 \" fill=\"none\" id=\"E6-&gt;E2\" style=\"stroke: #383838; stroke-width: 1.0;\"/><polygon fill=\"#FFFFFF\" points=\"508,188.85,501,169.85,515,169.85,508,188.85\" style=\"stroke: #383838; stroke-width: 1.0;\"/><ellipse cx=\"503\" cy=\"164.15\" fill=\"#383838\" rx=\"2\" ry=\"2\" style=\"stroke: #383838; stroke-width: 1.0;\"/><ellipse cx=\"513\" cy=\"164.15\" fill=\"#383838\" rx=\"2\" ry=\"2\" style=\"stroke: #383838; stroke-width: 1.0;\"/></a><!--MD5=[28a3d626fed279c7162c4e7507ced5f7]\n",
       "@startuml\r\n",
       "skinparam linetype ortho\r\n",
       "skinparam monochrome true\r\n",
       "skinparam classbackgroundcolor white\r\n",
       "skinparam shadowing false\r\n",
       "skinparam wrapWidth 300\r\n",
       "hide circle\r\n",
       "\r\n",
       "package \"MultiplicityTest\" as E1  [[psysml:437e1e49-e6a3-4f3e-be27-b1e07120749d ]]  {\r\n",
       "comp def \"P\" as E2  <<(T,blue) part  def>> [[psysml:d60dc8a9-ee87-4177-8909-4fd780a9d8f8 ]] {\r\n",
       "}\r\n",
       "comp usage \"n: Integer \" as E3  <<(T,blue) attribute>> [[psysml:a5340f1d-d68a-4585-8f96-7305e6f489d2 ]] {\r\n",
       "}\r\n",
       "comp usage \"a \" as E4  <<(T,blue) part>> [[psysml:478d9241-8f6e-4034-a71b-67b7ef5acdce ]] {\r\n",
       "}\r\n",
       "comp usage \"b: P \" as E5  <<(T,blue) part>> [[psysml:bc94da79-c19f-4e44-8720-527e565e90dd ]] {\r\n",
       "}\r\n",
       "comp usage \"c: P \" as E6  <<(T,blue) part>> [[psysml:619a7e97-bac6-4f1e-8369-8e8a5aa8da71 ]] {\r\n",
       "}\r\n",
       "comp usage \"d \" as E7  <<(T,blue) part>> [[psysml:baf82fce-ad86-47f7-be04-61d8ab51238a ]] {\r\n",
       "}\r\n",
       "comp usage \"e \" as E8  <<(T,blue) part>> [[psysml:602edda4-e9f7-4346-9e9a-bc1deb44a144 ]] {\r\n",
       "}\r\n",
       "comp usage \"f \" as E9  <<(T,blue) part>> [[psysml:ea99d53b-6b01-4b58-853a-79f827c6b1d7 ]] {\r\n",
       "}\r\n",
       "comp usage \"g \" as E10  <<(T,blue) part>> [[psysml:7f8b6820-ebe3-4bcd-8be0-e5513e7bb89f ]] {\r\n",
       "}\r\n",
       "comp def \"A\" as E11  <<(T,blue) attribute  def>> [[psysml:b98160f9-962b-4166-b8bf-1b8817b6e181 ]] {\r\n",
       "- - attributes - -\r\n",
       "i: Integer\r\n",
       "x: A\r\n",
       "}\r\n",
       "}\r\n",
       "E5 - -:|> E2 [[psysml:f465fece-be6c-4a0b-8b87-5b67ed75d8f8 ]] \r\n",
       "E6 - -:|> E2 [[psysml:72e02ffe-11ce-46be-a503-0c91c54548ee ]] \r\n",
       "@enduml\r\n",
       "\n",
       "PlantUML version 1.2020.13(Sat Jun 13 12:26:38 UTC 2020)\n",
       "(EPL source distribution)\n",
       "Java Runtime: OpenJDK Runtime Environment\n",
       "JVM: OpenJDK 64-Bit Server VM\n",
       "Default Encoding: UTF-8\n",
       "Language: en\n",
       "Country: null\n",
       "--></g></svg>"
      ]
     },
     "execution_count": 57,
     "metadata": {},
     "output_type": "execute_result"
    }
   ],
   "source": [
    "%viz --style=\"ORTHOLINE\" --view=\"MIXED\" \"MultiplicityTest\""
   ]
  }
 ],
 "metadata": {
  "kernelspec": {
   "display_name": "SysML",
   "language": "sysml",
   "name": "sysml"
  },
  "language_info": {
   "codemirror_mode": "sysml",
   "file_extension": ".sysml",
   "mimetype": "text/x-sysml",
   "name": "SysML",
   "pygments_lexer": "java",
   "version": "1.0.0"
  }
 },
 "nbformat": 4,
 "nbformat_minor": 5
}
