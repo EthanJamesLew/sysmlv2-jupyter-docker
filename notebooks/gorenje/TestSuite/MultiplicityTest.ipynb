{
 "cells": [
  {
   "cell_type": "markdown",
   "id": "547d1adf",
   "metadata": {},
   "source": [
    "# SysML v2 Test Suite\n",
    "\n",
    "This can notebook can be cleared using menu `Edit --> Clear All Outputs` and then all cells can be\n",
    "run using menu `Run --> Run All Cells`.\n",
    "\n",
    "**WARNING**: This file is generated, all modifications here will be ignored.\n"
   ]
  },
  {
   "cell_type": "markdown",
   "id": "bb93f57b",
   "metadata": {},
   "source": [
    "## File: ../../sysml/src/examples/Simple Tests/MultiplicityTest.sysml"
   ]
  },
  {
   "cell_type": "code",
   "execution_count": 1,
   "id": "148643d1",
   "metadata": {
    "execution": {
     "iopub.execute_input": "2021-09-27T07:19:15.685754Z",
     "iopub.status.busy": "2021-09-27T07:19:15.685282Z",
     "iopub.status.idle": "2021-09-27T07:19:15.961297Z",
     "shell.execute_reply": "2021-09-27T07:19:15.960756Z"
    }
   },
   "outputs": [
    {
     "data": {
      "text/plain": [
       "Package MultiplicityTest (71b23573-c8bd-48a5-9a0c-dba544d0ceeb)\n"
      ]
     },
     "execution_count": 1,
     "metadata": {},
     "output_type": "execute_result"
    }
   ],
   "source": [
    "package MultiplicityTest {\n",
    "\t\n",
    "\tpart def P;\n",
    "\tattribute n : ScalarValues::Integer = 5;\n",
    "\t\n",
    "\tpart a[1];\n",
    "\tpart b[0..2] : P;\n",
    "\tpart c : P[2..*];\n",
    "\tpart d[*];\n",
    "\t\n",
    "\tpart e[n];\n",
    "\tpart f[n..*];\n",
    "\tpart g[1..n];\n",
    "\n",
    "\tattribute def A {\n",
    "\t\tattribute i :ScalarValues::Integer;\n",
    "\t\tattribute x : A[i];\n",
    "\t}\n",
    "}"
   ]
  },
  {
   "cell_type": "code",
   "execution_count": 2,
   "id": "35495085",
   "metadata": {
    "execution": {
     "iopub.execute_input": "2021-09-27T07:19:16.012627Z",
     "iopub.status.busy": "2021-09-27T07:19:16.012280Z",
     "iopub.status.idle": "2021-09-27T07:19:16.527767Z",
     "shell.execute_reply": "2021-09-27T07:19:16.526209Z"
    }
   },
   "outputs": [
    {
     "data": {
      "image/svg+xml": [
       "<?xml version=\"1.0\" encoding=\"UTF-8\" standalone=\"no\"?><svg xmlns=\"http://www.w3.org/2000/svg\" xmlns:xlink=\"http://www.w3.org/1999/xlink\" contentScriptType=\"application/ecmascript\" contentStyleType=\"text/css\" height=\"263px\" preserveAspectRatio=\"none\" style=\"width:812px;height:263px;\" version=\"1.1\" viewBox=\"0 0 812 263\" width=\"812px\" zoomAndPan=\"magnify\"><defs/><g><!--MD5=[fbc87193dbaf4d95561dea2c320d4a47]\n",
       "cluster E1--><a href=\"psysml:c0f24ad0-fe84-484c-92fb-1b0594d1e479\" target=\"_top\" title=\"psysml:c0f24ad0-fe84-484c-92fb-1b0594d1e479\" xlink:actuate=\"onRequest\" xlink:href=\"psysml:c0f24ad0-fe84-484c-92fb-1b0594d1e479\" xlink:show=\"new\" xlink:title=\"psysml:c0f24ad0-fe84-484c-92fb-1b0594d1e479\" xlink:type=\"simple\"><polygon fill=\"#FFFFFF\" points=\"16,6,123,6,130,28.2969,790,28.2969,790,251,16,251,16,6\" style=\"stroke: #000000; stroke-width: 1.5;\"/><line style=\"stroke: #000000; stroke-width: 1.5;\" x1=\"16\" x2=\"130\" y1=\"28.2969\" y2=\"28.2969\"/><text fill=\"#000000\" font-family=\"sans-serif\" font-size=\"14\" font-weight=\"bold\" lengthAdjust=\"spacingAndGlyphs\" textLength=\"101\" x=\"20\" y=\"20.9951\">MultiplicityTest</text></a><!--MD5=[b4997ac47864f28c2f74865a473b2911]\n",
       "class E2--><a href=\"psysml:987e5bc7-b02a-416d-86c6-8545bfa90ef5\" target=\"_top\" title=\"psysml:987e5bc7-b02a-416d-86c6-8545bfa90ef5\" xlink:actuate=\"onRequest\" xlink:href=\"psysml:987e5bc7-b02a-416d-86c6-8545bfa90ef5\" xlink:show=\"new\" xlink:title=\"psysml:987e5bc7-b02a-416d-86c6-8545bfa90ef5\" xlink:type=\"simple\"><rect fill=\"#FFFFFF\" height=\"45.9375\" id=\"E2\" style=\"stroke: #383838; stroke-width: 1.5;\" width=\"66\" x=\"497\" y=\"189\"/><text fill=\"#000000\" font-family=\"sans-serif\" font-size=\"12\" font-style=\"italic\" lengthAdjust=\"spacingAndGlyphs\" textLength=\"64\" x=\"498\" y=\"205.1387\">«part def»</text><text fill=\"#000000\" font-family=\"sans-serif\" font-size=\"12\" lengthAdjust=\"spacingAndGlyphs\" textLength=\"8\" x=\"526\" y=\"219.1074\">P</text><line style=\"stroke: #383838; stroke-width: 1.5;\" x1=\"498\" x2=\"562\" y1=\"226.9375\" y2=\"226.9375\"/></a><!--MD5=[09b614a08d8cba4a07c9adeb5e0fee81]\n",
       "class E3--><a href=\"psysml:7c23d281-2047-4d33-b5ff-31ab75cdc741\" target=\"_top\" title=\"psysml:7c23d281-2047-4d33-b5ff-31ab75cdc741\" xlink:actuate=\"onRequest\" xlink:href=\"psysml:7c23d281-2047-4d33-b5ff-31ab75cdc741\" xlink:show=\"new\" xlink:title=\"psysml:7c23d281-2047-4d33-b5ff-31ab75cdc741\" xlink:type=\"simple\"><rect fill=\"#FFFFFF\" height=\"45.9375\" id=\"E3\" rx=\"10\" ry=\"10\" style=\"stroke: #383838; stroke-width: 1.5;\" width=\"71\" x=\"702.5\" y=\"62\"/><text fill=\"#000000\" font-family=\"sans-serif\" font-size=\"12\" font-style=\"italic\" lengthAdjust=\"spacingAndGlyphs\" textLength=\"69\" x=\"703.5\" y=\"78.1387\">«attribute»</text><text fill=\"#000000\" font-family=\"sans-serif\" font-size=\"12\" lengthAdjust=\"spacingAndGlyphs\" textLength=\"61\" x=\"707.5\" y=\"92.1074\">n: Integer</text><line style=\"stroke: #383838; stroke-width: 1.5;\" x1=\"703.5\" x2=\"772.5\" y1=\"99.9375\" y2=\"99.9375\"/></a><!--MD5=[ebbe1d658d1005bcc118a6aa81145e00]\n",
       "class E4--><a href=\"psysml:dbbeb80c-41d4-4e5a-ae6b-125fea141b81\" target=\"_top\" title=\"psysml:dbbeb80c-41d4-4e5a-ae6b-125fea141b81\" xlink:actuate=\"onRequest\" xlink:href=\"psysml:dbbeb80c-41d4-4e5a-ae6b-125fea141b81\" xlink:show=\"new\" xlink:title=\"psysml:dbbeb80c-41d4-4e5a-ae6b-125fea141b81\" xlink:type=\"simple\"><rect fill=\"#FFFFFF\" height=\"45.9375\" id=\"E4\" rx=\"10\" ry=\"10\" style=\"stroke: #383838; stroke-width: 1.5;\" width=\"42\" x=\"625\" y=\"62\"/><text fill=\"#000000\" font-family=\"sans-serif\" font-size=\"12\" font-style=\"italic\" lengthAdjust=\"spacingAndGlyphs\" textLength=\"40\" x=\"626\" y=\"78.1387\">«part»</text><text fill=\"#000000\" font-family=\"sans-serif\" font-size=\"12\" lengthAdjust=\"spacingAndGlyphs\" textLength=\"8\" x=\"642\" y=\"92.1074\">a</text><line style=\"stroke: #383838; stroke-width: 1.5;\" x1=\"626\" x2=\"666\" y1=\"99.9375\" y2=\"99.9375\"/></a><!--MD5=[270fce915f116d4de14055a7c1d9a0f3]\n",
       "class E5--><a href=\"psysml:1044b725-5886-488e-a280-d65b06b2678d\" target=\"_top\" title=\"psysml:1044b725-5886-488e-a280-d65b06b2678d\" xlink:actuate=\"onRequest\" xlink:href=\"psysml:1044b725-5886-488e-a280-d65b06b2678d\" xlink:show=\"new\" xlink:title=\"psysml:1044b725-5886-488e-a280-d65b06b2678d\" xlink:type=\"simple\"><rect fill=\"#FFFFFF\" height=\"45.9375\" id=\"E5\" rx=\"10\" ry=\"10\" style=\"stroke: #383838; stroke-width: 1.5;\" width=\"42\" x=\"548\" y=\"62\"/><text fill=\"#000000\" font-family=\"sans-serif\" font-size=\"12\" font-style=\"italic\" lengthAdjust=\"spacingAndGlyphs\" textLength=\"40\" x=\"549\" y=\"78.1387\">«part»</text><text fill=\"#000000\" font-family=\"sans-serif\" font-size=\"12\" lengthAdjust=\"spacingAndGlyphs\" textLength=\"24\" x=\"557\" y=\"92.1074\">b: P</text><line style=\"stroke: #383838; stroke-width: 1.5;\" x1=\"549\" x2=\"589\" y1=\"99.9375\" y2=\"99.9375\"/></a><!--MD5=[60a26617385b1d2d0262a64233df1f8d]\n",
       "class E6--><a href=\"psysml:7163cac6-f89e-4c84-b72c-82ccdb232dd2\" target=\"_top\" title=\"psysml:7163cac6-f89e-4c84-b72c-82ccdb232dd2\" xlink:actuate=\"onRequest\" xlink:href=\"psysml:7163cac6-f89e-4c84-b72c-82ccdb232dd2\" xlink:show=\"new\" xlink:title=\"psysml:7163cac6-f89e-4c84-b72c-82ccdb232dd2\" xlink:type=\"simple\"><rect fill=\"#FFFFFF\" height=\"45.9375\" id=\"E6\" rx=\"10\" ry=\"10\" style=\"stroke: #383838; stroke-width: 1.5;\" width=\"42\" x=\"471\" y=\"62\"/><text fill=\"#000000\" font-family=\"sans-serif\" font-size=\"12\" font-style=\"italic\" lengthAdjust=\"spacingAndGlyphs\" textLength=\"40\" x=\"472\" y=\"78.1387\">«part»</text><text fill=\"#000000\" font-family=\"sans-serif\" font-size=\"12\" lengthAdjust=\"spacingAndGlyphs\" textLength=\"23\" x=\"480.5\" y=\"92.1074\">c: P</text><line style=\"stroke: #383838; stroke-width: 1.5;\" x1=\"472\" x2=\"512\" y1=\"99.9375\" y2=\"99.9375\"/></a><!--MD5=[2156ba9850f5573cc1fc38a6a4b2f02b]\n",
       "class E7--><a href=\"psysml:79f72fcf-9cc7-42c6-886c-0c2f21f0aaa0\" target=\"_top\" title=\"psysml:79f72fcf-9cc7-42c6-886c-0c2f21f0aaa0\" xlink:actuate=\"onRequest\" xlink:href=\"psysml:79f72fcf-9cc7-42c6-886c-0c2f21f0aaa0\" xlink:show=\"new\" xlink:title=\"psysml:79f72fcf-9cc7-42c6-886c-0c2f21f0aaa0\" xlink:type=\"simple\"><rect fill=\"#FFFFFF\" height=\"45.9375\" id=\"E7\" rx=\"10\" ry=\"10\" style=\"stroke: #383838; stroke-width: 1.5;\" width=\"42\" x=\"394\" y=\"62\"/><text fill=\"#000000\" font-family=\"sans-serif\" font-size=\"12\" font-style=\"italic\" lengthAdjust=\"spacingAndGlyphs\" textLength=\"40\" x=\"395\" y=\"78.1387\">«part»</text><text fill=\"#000000\" font-family=\"sans-serif\" font-size=\"12\" lengthAdjust=\"spacingAndGlyphs\" textLength=\"8\" x=\"411\" y=\"92.1074\">d</text><line style=\"stroke: #383838; stroke-width: 1.5;\" x1=\"395\" x2=\"435\" y1=\"99.9375\" y2=\"99.9375\"/></a><!--MD5=[b9389687b975829384b498ac4b7476b2]\n",
       "class E8--><a href=\"psysml:7ad65eee-258f-4156-b8ec-39b80665cdbc\" target=\"_top\" title=\"psysml:7ad65eee-258f-4156-b8ec-39b80665cdbc\" xlink:actuate=\"onRequest\" xlink:href=\"psysml:7ad65eee-258f-4156-b8ec-39b80665cdbc\" xlink:show=\"new\" xlink:title=\"psysml:7ad65eee-258f-4156-b8ec-39b80665cdbc\" xlink:type=\"simple\"><rect fill=\"#FFFFFF\" height=\"45.9375\" id=\"E8\" rx=\"10\" ry=\"10\" style=\"stroke: #383838; stroke-width: 1.5;\" width=\"42\" x=\"317\" y=\"62\"/><text fill=\"#000000\" font-family=\"sans-serif\" font-size=\"12\" font-style=\"italic\" lengthAdjust=\"spacingAndGlyphs\" textLength=\"40\" x=\"318\" y=\"78.1387\">«part»</text><text fill=\"#000000\" font-family=\"sans-serif\" font-size=\"12\" lengthAdjust=\"spacingAndGlyphs\" textLength=\"8\" x=\"334\" y=\"92.1074\">e</text><line style=\"stroke: #383838; stroke-width: 1.5;\" x1=\"318\" x2=\"358\" y1=\"99.9375\" y2=\"99.9375\"/></a><!--MD5=[fd4143e9d270a159db93a4ea2a975926]\n",
       "class E9--><a href=\"psysml:20b1d46d-edcb-44c0-8591-3bffd604b97a\" target=\"_top\" title=\"psysml:20b1d46d-edcb-44c0-8591-3bffd604b97a\" xlink:actuate=\"onRequest\" xlink:href=\"psysml:20b1d46d-edcb-44c0-8591-3bffd604b97a\" xlink:show=\"new\" xlink:title=\"psysml:20b1d46d-edcb-44c0-8591-3bffd604b97a\" xlink:type=\"simple\"><rect fill=\"#FFFFFF\" height=\"45.9375\" id=\"E9\" rx=\"10\" ry=\"10\" style=\"stroke: #383838; stroke-width: 1.5;\" width=\"42\" x=\"240\" y=\"62\"/><text fill=\"#000000\" font-family=\"sans-serif\" font-size=\"12\" font-style=\"italic\" lengthAdjust=\"spacingAndGlyphs\" textLength=\"40\" x=\"241\" y=\"78.1387\">«part»</text><text fill=\"#000000\" font-family=\"sans-serif\" font-size=\"12\" lengthAdjust=\"spacingAndGlyphs\" textLength=\"4\" x=\"259\" y=\"92.1074\">f</text><line style=\"stroke: #383838; stroke-width: 1.5;\" x1=\"241\" x2=\"281\" y1=\"99.9375\" y2=\"99.9375\"/></a><!--MD5=[96f4274e9e20536e775497830990834d]\n",
       "class E10--><a href=\"psysml:25d96323-353d-45e6-96c8-f6353f2a6c2d\" target=\"_top\" title=\"psysml:25d96323-353d-45e6-96c8-f6353f2a6c2d\" xlink:actuate=\"onRequest\" xlink:href=\"psysml:25d96323-353d-45e6-96c8-f6353f2a6c2d\" xlink:show=\"new\" xlink:title=\"psysml:25d96323-353d-45e6-96c8-f6353f2a6c2d\" xlink:type=\"simple\"><rect fill=\"#FFFFFF\" height=\"45.9375\" id=\"E10\" rx=\"10\" ry=\"10\" style=\"stroke: #383838; stroke-width: 1.5;\" width=\"42\" x=\"163\" y=\"62\"/><text fill=\"#000000\" font-family=\"sans-serif\" font-size=\"12\" font-style=\"italic\" lengthAdjust=\"spacingAndGlyphs\" textLength=\"40\" x=\"164\" y=\"78.1387\">«part»</text><text fill=\"#000000\" font-family=\"sans-serif\" font-size=\"12\" lengthAdjust=\"spacingAndGlyphs\" textLength=\"8\" x=\"180\" y=\"92.1074\">g</text><line style=\"stroke: #383838; stroke-width: 1.5;\" x1=\"164\" x2=\"204\" y1=\"99.9375\" y2=\"99.9375\"/></a><!--MD5=[1dd1bfd58a279cf63c5f349dbc8fc6a1]\n",
       "class E11--><a href=\"psysml:05fe5b10-94f9-4e9a-a85e-b113c36136a8\" target=\"_top\" title=\"psysml:05fe5b10-94f9-4e9a-a85e-b113c36136a8\" xlink:actuate=\"onRequest\" xlink:href=\"psysml:05fe5b10-94f9-4e9a-a85e-b113c36136a8\" xlink:show=\"new\" xlink:title=\"psysml:05fe5b10-94f9-4e9a-a85e-b113c36136a8\" xlink:type=\"simple\"><rect fill=\"#FFFFFF\" height=\"88.3516\" id=\"E11\" style=\"stroke: #383838; stroke-width: 1.5;\" width=\"95\" x=\"32.5\" y=\"41\"/><text fill=\"#000000\" font-family=\"sans-serif\" font-size=\"12\" font-style=\"italic\" lengthAdjust=\"spacingAndGlyphs\" textLength=\"93\" x=\"33.5\" y=\"57.1387\">«attribute def»</text><text fill=\"#000000\" font-family=\"sans-serif\" font-size=\"12\" lengthAdjust=\"spacingAndGlyphs\" textLength=\"8\" x=\"76\" y=\"71.1074\">A</text><line style=\"stroke: #383838; stroke-width: 1.5;\" x1=\"33.5\" x2=\"126.5\" y1=\"78.9375\" y2=\"78.9375\"/><text fill=\"#000000\" font-family=\"sans-serif\" font-size=\"11\" lengthAdjust=\"spacingAndGlyphs\" textLength=\"51\" x=\"38.5\" y=\"109.9526\">i: Integer</text><text fill=\"#000000\" font-family=\"sans-serif\" font-size=\"11\" lengthAdjust=\"spacingAndGlyphs\" textLength=\"21\" x=\"38.5\" y=\"122.7573\">x: A</text><line style=\"stroke: #383838; stroke-width: 1.0;\" x1=\"33.5\" x2=\"52.5\" y1=\"93.3398\" y2=\"93.3398\"/><text fill=\"#000000\" font-family=\"sans-serif\" font-size=\"11\" lengthAdjust=\"spacingAndGlyphs\" textLength=\"55\" x=\"52.5\" y=\"96.6479\">attributes</text><line style=\"stroke: #383838; stroke-width: 1.0;\" x1=\"107.5\" x2=\"126.5\" y1=\"93.3398\" y2=\"93.3398\"/></a><!--MD5=[15ebcb19ae302d9b601edb458606d402]\n",
       "link E5 to E2--><a href=\"psysml:b71e192f-5f45-432d-9454-4642818dbb88\" target=\"_top\" title=\"psysml:b71e192f-5f45-432d-9454-4642818dbb88\" xlink:actuate=\"onRequest\" xlink:href=\"psysml:b71e192f-5f45-432d-9454-4642818dbb88\" xlink:show=\"new\" xlink:title=\"psysml:b71e192f-5f45-432d-9454-4642818dbb88\" xlink:type=\"simple\"><path d=\"M562.12,108.06 C556.83,125 549.38,148.89 542.98,169.39 \" fill=\"none\" id=\"E5-&gt;E2\" style=\"stroke: #383838; stroke-width: 1.0;\"/><polygon fill=\"#FFFFFF\" points=\"536.95,188.74,535.929,168.5173,549.2931,172.6886,536.95,188.74\" style=\"stroke: #383838; stroke-width: 1.0;\"/><ellipse cx=\"539.5364\" cy=\"163.6721\" fill=\"#383838\" rx=\"2\" ry=\"2\" style=\"stroke: #383838; stroke-width: 1.0;\"/><ellipse cx=\"549.0823\" cy=\"166.6516\" fill=\"#383838\" rx=\"2\" ry=\"2\" style=\"stroke: #383838; stroke-width: 1.0;\"/></a><!--MD5=[2351f337d6de0f557b50152ba70847b5]\n",
       "link E6 to E2--><a href=\"psysml:173d30e4-d568-4354-a9e9-bb0668964c70\" target=\"_top\" title=\"psysml:173d30e4-d568-4354-a9e9-bb0668964c70\" xlink:actuate=\"onRequest\" xlink:href=\"psysml:173d30e4-d568-4354-a9e9-bb0668964c70\" xlink:show=\"new\" xlink:title=\"psysml:173d30e4-d568-4354-a9e9-bb0668964c70\" xlink:type=\"simple\"><path d=\"M498.71,108.06 C503.86,125 511.12,148.89 517.35,169.39 \" fill=\"none\" id=\"E6-&gt;E2\" style=\"stroke: #383838; stroke-width: 1.0;\"/><polygon fill=\"#FFFFFF\" points=\"523.23,188.74,511.007,172.597,524.4019,168.5255,523.23,188.74\" style=\"stroke: #383838; stroke-width: 1.0;\"/><ellipse cx=\"511.2628\" cy=\"166.5617\" fill=\"#383838\" rx=\"2\" ry=\"2\" style=\"stroke: #383838; stroke-width: 1.0;\"/><ellipse cx=\"520.8306\" cy=\"163.6535\" fill=\"#383838\" rx=\"2\" ry=\"2\" style=\"stroke: #383838; stroke-width: 1.0;\"/></a><!--MD5=[17821652a266c82aa6dca51ffd1a86cc]\n",
       "@startuml\r\n",
       " skinparam monochrome true\r\n",
       "skinparam classbackgroundcolor white\r\n",
       "skinparam shadowing false\r\n",
       "skinparam wrapWidth 300\r\n",
       "hide circle\r\n",
       "\r\n",
       "package \"MultiplicityTest\" as E1  [[psysml:c0f24ad0-fe84-484c-92fb-1b0594d1e479 ]]  {\r\n",
       "comp def \"P\" as E2  <<(T,blue) part def>> [[psysml:987e5bc7-b02a-416d-86c6-8545bfa90ef5 ]] {\r\n",
       "}\r\n",
       "comp usage \"n: Integer\" as E3  <<(T,blue) attribute>> [[psysml:7c23d281-2047-4d33-b5ff-31ab75cdc741 ]] {\r\n",
       "}\r\n",
       "comp usage \"a\" as E4  <<(T,blue) part>> [[psysml:dbbeb80c-41d4-4e5a-ae6b-125fea141b81 ]] {\r\n",
       "}\r\n",
       "comp usage \"b: P\" as E5  <<(T,blue) part>> [[psysml:1044b725-5886-488e-a280-d65b06b2678d ]] {\r\n",
       "}\r\n",
       "comp usage \"c: P\" as E6  <<(T,blue) part>> [[psysml:7163cac6-f89e-4c84-b72c-82ccdb232dd2 ]] {\r\n",
       "}\r\n",
       "comp usage \"d\" as E7  <<(T,blue) part>> [[psysml:79f72fcf-9cc7-42c6-886c-0c2f21f0aaa0 ]] {\r\n",
       "}\r\n",
       "comp usage \"e\" as E8  <<(T,blue) part>> [[psysml:7ad65eee-258f-4156-b8ec-39b80665cdbc ]] {\r\n",
       "}\r\n",
       "comp usage \"f\" as E9  <<(T,blue) part>> [[psysml:20b1d46d-edcb-44c0-8591-3bffd604b97a ]] {\r\n",
       "}\r\n",
       "comp usage \"g\" as E10  <<(T,blue) part>> [[psysml:25d96323-353d-45e6-96c8-f6353f2a6c2d ]] {\r\n",
       "}\r\n",
       "comp def \"A\" as E11  <<(T,blue) attribute def>> [[psysml:05fe5b10-94f9-4e9a-a85e-b113c36136a8 ]] {\r\n",
       "- - attributes - -\r\n",
       "i: Integer\r\n",
       "x: A\r\n",
       "}\r\n",
       "}\r\n",
       "E5 - -:|> E2 [[psysml:b71e192f-5f45-432d-9454-4642818dbb88 ]] \r\n",
       "E6 - -:|> E2 [[psysml:173d30e4-d568-4354-a9e9-bb0668964c70 ]] \r\n",
       "@enduml\r\n",
       "\n",
       "PlantUML version 1.2020.13(Sat Jun 13 12:26:38 UTC 2020)\n",
       "(EPL source distribution)\n",
       "Java Runtime: OpenJDK Runtime Environment\n",
       "JVM: OpenJDK 64-Bit Server VM\n",
       "Default Encoding: UTF-8\n",
       "Language: en\n",
       "Country: null\n",
       "--></g></svg>"
      ]
     },
     "execution_count": 2,
     "metadata": {},
     "output_type": "execute_result"
    }
   ],
   "source": [
    "%viz --style=\"COMPTREE\" --view=\"Default\" \"MultiplicityTest\""
   ]
  },
  {
   "cell_type": "code",
   "execution_count": 3,
   "id": "0c89384d",
   "metadata": {
    "execution": {
     "iopub.execute_input": "2021-09-27T07:19:16.577628Z",
     "iopub.status.busy": "2021-09-27T07:19:16.577138Z",
     "iopub.status.idle": "2021-09-27T07:19:16.664327Z",
     "shell.execute_reply": "2021-09-27T07:19:16.663914Z"
    }
   },
   "outputs": [
    {
     "data": {
      "image/svg+xml": [
       "<?xml version=\"1.0\" encoding=\"UTF-8\" standalone=\"no\"?><svg xmlns=\"http://www.w3.org/2000/svg\" xmlns:xlink=\"http://www.w3.org/1999/xlink\" contentScriptType=\"application/ecmascript\" contentStyleType=\"text/css\" height=\"263px\" preserveAspectRatio=\"none\" style=\"width:812px;height:263px;\" version=\"1.1\" viewBox=\"0 0 812 263\" width=\"812px\" zoomAndPan=\"magnify\"><defs/><g><!--MD5=[fbc87193dbaf4d95561dea2c320d4a47]\n",
       "cluster E1--><a href=\"psysml:c0f24ad0-fe84-484c-92fb-1b0594d1e479\" target=\"_top\" title=\"psysml:c0f24ad0-fe84-484c-92fb-1b0594d1e479\" xlink:actuate=\"onRequest\" xlink:href=\"psysml:c0f24ad0-fe84-484c-92fb-1b0594d1e479\" xlink:show=\"new\" xlink:title=\"psysml:c0f24ad0-fe84-484c-92fb-1b0594d1e479\" xlink:type=\"simple\"><polygon fill=\"#FFFFFF\" points=\"16,6,123,6,130,28.2969,790,28.2969,790,251,16,251,16,6\" style=\"stroke: #000000; stroke-width: 1.5;\"/><line style=\"stroke: #000000; stroke-width: 1.5;\" x1=\"16\" x2=\"130\" y1=\"28.2969\" y2=\"28.2969\"/><text fill=\"#000000\" font-family=\"sans-serif\" font-size=\"14\" font-weight=\"bold\" lengthAdjust=\"spacingAndGlyphs\" textLength=\"101\" x=\"20\" y=\"20.9951\">MultiplicityTest</text></a><!--MD5=[b4997ac47864f28c2f74865a473b2911]\n",
       "class E2--><a href=\"psysml:987e5bc7-b02a-416d-86c6-8545bfa90ef5\" target=\"_top\" title=\"psysml:987e5bc7-b02a-416d-86c6-8545bfa90ef5\" xlink:actuate=\"onRequest\" xlink:href=\"psysml:987e5bc7-b02a-416d-86c6-8545bfa90ef5\" xlink:show=\"new\" xlink:title=\"psysml:987e5bc7-b02a-416d-86c6-8545bfa90ef5\" xlink:type=\"simple\"><rect fill=\"#FFFFFF\" height=\"45.9375\" id=\"E2\" style=\"stroke: #383838; stroke-width: 1.5;\" width=\"66\" x=\"497\" y=\"189\"/><text fill=\"#000000\" font-family=\"sans-serif\" font-size=\"12\" font-style=\"italic\" lengthAdjust=\"spacingAndGlyphs\" textLength=\"64\" x=\"498\" y=\"205.1387\">«part def»</text><text fill=\"#000000\" font-family=\"sans-serif\" font-size=\"12\" lengthAdjust=\"spacingAndGlyphs\" textLength=\"8\" x=\"526\" y=\"219.1074\">P</text><line style=\"stroke: #383838; stroke-width: 1.5;\" x1=\"498\" x2=\"562\" y1=\"226.9375\" y2=\"226.9375\"/></a><!--MD5=[09b614a08d8cba4a07c9adeb5e0fee81]\n",
       "class E3--><a href=\"psysml:7c23d281-2047-4d33-b5ff-31ab75cdc741\" target=\"_top\" title=\"psysml:7c23d281-2047-4d33-b5ff-31ab75cdc741\" xlink:actuate=\"onRequest\" xlink:href=\"psysml:7c23d281-2047-4d33-b5ff-31ab75cdc741\" xlink:show=\"new\" xlink:title=\"psysml:7c23d281-2047-4d33-b5ff-31ab75cdc741\" xlink:type=\"simple\"><rect fill=\"#FFFFFF\" height=\"45.9375\" id=\"E3\" rx=\"10\" ry=\"10\" style=\"stroke: #383838; stroke-width: 1.5;\" width=\"71\" x=\"702.5\" y=\"62\"/><text fill=\"#000000\" font-family=\"sans-serif\" font-size=\"12\" font-style=\"italic\" lengthAdjust=\"spacingAndGlyphs\" textLength=\"69\" x=\"703.5\" y=\"78.1387\">«attribute»</text><text fill=\"#000000\" font-family=\"sans-serif\" font-size=\"12\" lengthAdjust=\"spacingAndGlyphs\" textLength=\"61\" x=\"707.5\" y=\"92.1074\">n: Integer</text><line style=\"stroke: #383838; stroke-width: 1.5;\" x1=\"703.5\" x2=\"772.5\" y1=\"99.9375\" y2=\"99.9375\"/></a><!--MD5=[ebbe1d658d1005bcc118a6aa81145e00]\n",
       "class E4--><a href=\"psysml:dbbeb80c-41d4-4e5a-ae6b-125fea141b81\" target=\"_top\" title=\"psysml:dbbeb80c-41d4-4e5a-ae6b-125fea141b81\" xlink:actuate=\"onRequest\" xlink:href=\"psysml:dbbeb80c-41d4-4e5a-ae6b-125fea141b81\" xlink:show=\"new\" xlink:title=\"psysml:dbbeb80c-41d4-4e5a-ae6b-125fea141b81\" xlink:type=\"simple\"><rect fill=\"#FFFFFF\" height=\"45.9375\" id=\"E4\" rx=\"10\" ry=\"10\" style=\"stroke: #383838; stroke-width: 1.5;\" width=\"42\" x=\"625\" y=\"62\"/><text fill=\"#000000\" font-family=\"sans-serif\" font-size=\"12\" font-style=\"italic\" lengthAdjust=\"spacingAndGlyphs\" textLength=\"40\" x=\"626\" y=\"78.1387\">«part»</text><text fill=\"#000000\" font-family=\"sans-serif\" font-size=\"12\" lengthAdjust=\"spacingAndGlyphs\" textLength=\"8\" x=\"642\" y=\"92.1074\">a</text><line style=\"stroke: #383838; stroke-width: 1.5;\" x1=\"626\" x2=\"666\" y1=\"99.9375\" y2=\"99.9375\"/></a><!--MD5=[270fce915f116d4de14055a7c1d9a0f3]\n",
       "class E5--><a href=\"psysml:1044b725-5886-488e-a280-d65b06b2678d\" target=\"_top\" title=\"psysml:1044b725-5886-488e-a280-d65b06b2678d\" xlink:actuate=\"onRequest\" xlink:href=\"psysml:1044b725-5886-488e-a280-d65b06b2678d\" xlink:show=\"new\" xlink:title=\"psysml:1044b725-5886-488e-a280-d65b06b2678d\" xlink:type=\"simple\"><rect fill=\"#FFFFFF\" height=\"45.9375\" id=\"E5\" rx=\"10\" ry=\"10\" style=\"stroke: #383838; stroke-width: 1.5;\" width=\"42\" x=\"548\" y=\"62\"/><text fill=\"#000000\" font-family=\"sans-serif\" font-size=\"12\" font-style=\"italic\" lengthAdjust=\"spacingAndGlyphs\" textLength=\"40\" x=\"549\" y=\"78.1387\">«part»</text><text fill=\"#000000\" font-family=\"sans-serif\" font-size=\"12\" lengthAdjust=\"spacingAndGlyphs\" textLength=\"24\" x=\"557\" y=\"92.1074\">b: P</text><line style=\"stroke: #383838; stroke-width: 1.5;\" x1=\"549\" x2=\"589\" y1=\"99.9375\" y2=\"99.9375\"/></a><!--MD5=[60a26617385b1d2d0262a64233df1f8d]\n",
       "class E6--><a href=\"psysml:7163cac6-f89e-4c84-b72c-82ccdb232dd2\" target=\"_top\" title=\"psysml:7163cac6-f89e-4c84-b72c-82ccdb232dd2\" xlink:actuate=\"onRequest\" xlink:href=\"psysml:7163cac6-f89e-4c84-b72c-82ccdb232dd2\" xlink:show=\"new\" xlink:title=\"psysml:7163cac6-f89e-4c84-b72c-82ccdb232dd2\" xlink:type=\"simple\"><rect fill=\"#FFFFFF\" height=\"45.9375\" id=\"E6\" rx=\"10\" ry=\"10\" style=\"stroke: #383838; stroke-width: 1.5;\" width=\"42\" x=\"471\" y=\"62\"/><text fill=\"#000000\" font-family=\"sans-serif\" font-size=\"12\" font-style=\"italic\" lengthAdjust=\"spacingAndGlyphs\" textLength=\"40\" x=\"472\" y=\"78.1387\">«part»</text><text fill=\"#000000\" font-family=\"sans-serif\" font-size=\"12\" lengthAdjust=\"spacingAndGlyphs\" textLength=\"23\" x=\"480.5\" y=\"92.1074\">c: P</text><line style=\"stroke: #383838; stroke-width: 1.5;\" x1=\"472\" x2=\"512\" y1=\"99.9375\" y2=\"99.9375\"/></a><!--MD5=[2156ba9850f5573cc1fc38a6a4b2f02b]\n",
       "class E7--><a href=\"psysml:79f72fcf-9cc7-42c6-886c-0c2f21f0aaa0\" target=\"_top\" title=\"psysml:79f72fcf-9cc7-42c6-886c-0c2f21f0aaa0\" xlink:actuate=\"onRequest\" xlink:href=\"psysml:79f72fcf-9cc7-42c6-886c-0c2f21f0aaa0\" xlink:show=\"new\" xlink:title=\"psysml:79f72fcf-9cc7-42c6-886c-0c2f21f0aaa0\" xlink:type=\"simple\"><rect fill=\"#FFFFFF\" height=\"45.9375\" id=\"E7\" rx=\"10\" ry=\"10\" style=\"stroke: #383838; stroke-width: 1.5;\" width=\"42\" x=\"394\" y=\"62\"/><text fill=\"#000000\" font-family=\"sans-serif\" font-size=\"12\" font-style=\"italic\" lengthAdjust=\"spacingAndGlyphs\" textLength=\"40\" x=\"395\" y=\"78.1387\">«part»</text><text fill=\"#000000\" font-family=\"sans-serif\" font-size=\"12\" lengthAdjust=\"spacingAndGlyphs\" textLength=\"8\" x=\"411\" y=\"92.1074\">d</text><line style=\"stroke: #383838; stroke-width: 1.5;\" x1=\"395\" x2=\"435\" y1=\"99.9375\" y2=\"99.9375\"/></a><!--MD5=[b9389687b975829384b498ac4b7476b2]\n",
       "class E8--><a href=\"psysml:7ad65eee-258f-4156-b8ec-39b80665cdbc\" target=\"_top\" title=\"psysml:7ad65eee-258f-4156-b8ec-39b80665cdbc\" xlink:actuate=\"onRequest\" xlink:href=\"psysml:7ad65eee-258f-4156-b8ec-39b80665cdbc\" xlink:show=\"new\" xlink:title=\"psysml:7ad65eee-258f-4156-b8ec-39b80665cdbc\" xlink:type=\"simple\"><rect fill=\"#FFFFFF\" height=\"45.9375\" id=\"E8\" rx=\"10\" ry=\"10\" style=\"stroke: #383838; stroke-width: 1.5;\" width=\"42\" x=\"317\" y=\"62\"/><text fill=\"#000000\" font-family=\"sans-serif\" font-size=\"12\" font-style=\"italic\" lengthAdjust=\"spacingAndGlyphs\" textLength=\"40\" x=\"318\" y=\"78.1387\">«part»</text><text fill=\"#000000\" font-family=\"sans-serif\" font-size=\"12\" lengthAdjust=\"spacingAndGlyphs\" textLength=\"8\" x=\"334\" y=\"92.1074\">e</text><line style=\"stroke: #383838; stroke-width: 1.5;\" x1=\"318\" x2=\"358\" y1=\"99.9375\" y2=\"99.9375\"/></a><!--MD5=[fd4143e9d270a159db93a4ea2a975926]\n",
       "class E9--><a href=\"psysml:20b1d46d-edcb-44c0-8591-3bffd604b97a\" target=\"_top\" title=\"psysml:20b1d46d-edcb-44c0-8591-3bffd604b97a\" xlink:actuate=\"onRequest\" xlink:href=\"psysml:20b1d46d-edcb-44c0-8591-3bffd604b97a\" xlink:show=\"new\" xlink:title=\"psysml:20b1d46d-edcb-44c0-8591-3bffd604b97a\" xlink:type=\"simple\"><rect fill=\"#FFFFFF\" height=\"45.9375\" id=\"E9\" rx=\"10\" ry=\"10\" style=\"stroke: #383838; stroke-width: 1.5;\" width=\"42\" x=\"240\" y=\"62\"/><text fill=\"#000000\" font-family=\"sans-serif\" font-size=\"12\" font-style=\"italic\" lengthAdjust=\"spacingAndGlyphs\" textLength=\"40\" x=\"241\" y=\"78.1387\">«part»</text><text fill=\"#000000\" font-family=\"sans-serif\" font-size=\"12\" lengthAdjust=\"spacingAndGlyphs\" textLength=\"4\" x=\"259\" y=\"92.1074\">f</text><line style=\"stroke: #383838; stroke-width: 1.5;\" x1=\"241\" x2=\"281\" y1=\"99.9375\" y2=\"99.9375\"/></a><!--MD5=[96f4274e9e20536e775497830990834d]\n",
       "class E10--><a href=\"psysml:25d96323-353d-45e6-96c8-f6353f2a6c2d\" target=\"_top\" title=\"psysml:25d96323-353d-45e6-96c8-f6353f2a6c2d\" xlink:actuate=\"onRequest\" xlink:href=\"psysml:25d96323-353d-45e6-96c8-f6353f2a6c2d\" xlink:show=\"new\" xlink:title=\"psysml:25d96323-353d-45e6-96c8-f6353f2a6c2d\" xlink:type=\"simple\"><rect fill=\"#FFFFFF\" height=\"45.9375\" id=\"E10\" rx=\"10\" ry=\"10\" style=\"stroke: #383838; stroke-width: 1.5;\" width=\"42\" x=\"163\" y=\"62\"/><text fill=\"#000000\" font-family=\"sans-serif\" font-size=\"12\" font-style=\"italic\" lengthAdjust=\"spacingAndGlyphs\" textLength=\"40\" x=\"164\" y=\"78.1387\">«part»</text><text fill=\"#000000\" font-family=\"sans-serif\" font-size=\"12\" lengthAdjust=\"spacingAndGlyphs\" textLength=\"8\" x=\"180\" y=\"92.1074\">g</text><line style=\"stroke: #383838; stroke-width: 1.5;\" x1=\"164\" x2=\"204\" y1=\"99.9375\" y2=\"99.9375\"/></a><!--MD5=[1dd1bfd58a279cf63c5f349dbc8fc6a1]\n",
       "class E11--><a href=\"psysml:05fe5b10-94f9-4e9a-a85e-b113c36136a8\" target=\"_top\" title=\"psysml:05fe5b10-94f9-4e9a-a85e-b113c36136a8\" xlink:actuate=\"onRequest\" xlink:href=\"psysml:05fe5b10-94f9-4e9a-a85e-b113c36136a8\" xlink:show=\"new\" xlink:title=\"psysml:05fe5b10-94f9-4e9a-a85e-b113c36136a8\" xlink:type=\"simple\"><rect fill=\"#FFFFFF\" height=\"88.3516\" id=\"E11\" style=\"stroke: #383838; stroke-width: 1.5;\" width=\"95\" x=\"32.5\" y=\"41\"/><text fill=\"#000000\" font-family=\"sans-serif\" font-size=\"12\" font-style=\"italic\" lengthAdjust=\"spacingAndGlyphs\" textLength=\"93\" x=\"33.5\" y=\"57.1387\">«attribute def»</text><text fill=\"#000000\" font-family=\"sans-serif\" font-size=\"12\" lengthAdjust=\"spacingAndGlyphs\" textLength=\"8\" x=\"76\" y=\"71.1074\">A</text><line style=\"stroke: #383838; stroke-width: 1.5;\" x1=\"33.5\" x2=\"126.5\" y1=\"78.9375\" y2=\"78.9375\"/><text fill=\"#000000\" font-family=\"sans-serif\" font-size=\"11\" lengthAdjust=\"spacingAndGlyphs\" textLength=\"51\" x=\"38.5\" y=\"109.9526\">i: Integer</text><text fill=\"#000000\" font-family=\"sans-serif\" font-size=\"11\" lengthAdjust=\"spacingAndGlyphs\" textLength=\"21\" x=\"38.5\" y=\"122.7573\">x: A</text><line style=\"stroke: #383838; stroke-width: 1.0;\" x1=\"33.5\" x2=\"52.5\" y1=\"93.3398\" y2=\"93.3398\"/><text fill=\"#000000\" font-family=\"sans-serif\" font-size=\"11\" lengthAdjust=\"spacingAndGlyphs\" textLength=\"55\" x=\"52.5\" y=\"96.6479\">attributes</text><line style=\"stroke: #383838; stroke-width: 1.0;\" x1=\"107.5\" x2=\"126.5\" y1=\"93.3398\" y2=\"93.3398\"/></a><!--MD5=[15ebcb19ae302d9b601edb458606d402]\n",
       "link E5 to E2--><a href=\"psysml:b71e192f-5f45-432d-9454-4642818dbb88\" target=\"_top\" title=\"psysml:b71e192f-5f45-432d-9454-4642818dbb88\" xlink:actuate=\"onRequest\" xlink:href=\"psysml:b71e192f-5f45-432d-9454-4642818dbb88\" xlink:show=\"new\" xlink:title=\"psysml:b71e192f-5f45-432d-9454-4642818dbb88\" xlink:type=\"simple\"><path d=\"M562.12,108.06 C556.83,125 549.38,148.89 542.98,169.39 \" fill=\"none\" id=\"E5-&gt;E2\" style=\"stroke: #383838; stroke-width: 1.0;\"/><polygon fill=\"#FFFFFF\" points=\"536.95,188.74,535.929,168.5173,549.2931,172.6886,536.95,188.74\" style=\"stroke: #383838; stroke-width: 1.0;\"/><ellipse cx=\"539.5364\" cy=\"163.6721\" fill=\"#383838\" rx=\"2\" ry=\"2\" style=\"stroke: #383838; stroke-width: 1.0;\"/><ellipse cx=\"549.0823\" cy=\"166.6516\" fill=\"#383838\" rx=\"2\" ry=\"2\" style=\"stroke: #383838; stroke-width: 1.0;\"/></a><!--MD5=[2351f337d6de0f557b50152ba70847b5]\n",
       "link E6 to E2--><a href=\"psysml:173d30e4-d568-4354-a9e9-bb0668964c70\" target=\"_top\" title=\"psysml:173d30e4-d568-4354-a9e9-bb0668964c70\" xlink:actuate=\"onRequest\" xlink:href=\"psysml:173d30e4-d568-4354-a9e9-bb0668964c70\" xlink:show=\"new\" xlink:title=\"psysml:173d30e4-d568-4354-a9e9-bb0668964c70\" xlink:type=\"simple\"><path d=\"M498.71,108.06 C503.86,125 511.12,148.89 517.35,169.39 \" fill=\"none\" id=\"E6-&gt;E2\" style=\"stroke: #383838; stroke-width: 1.0;\"/><polygon fill=\"#FFFFFF\" points=\"523.23,188.74,511.007,172.597,524.4019,168.5255,523.23,188.74\" style=\"stroke: #383838; stroke-width: 1.0;\"/><ellipse cx=\"511.2628\" cy=\"166.5617\" fill=\"#383838\" rx=\"2\" ry=\"2\" style=\"stroke: #383838; stroke-width: 1.0;\"/><ellipse cx=\"520.8306\" cy=\"163.6535\" fill=\"#383838\" rx=\"2\" ry=\"2\" style=\"stroke: #383838; stroke-width: 1.0;\"/></a><!--MD5=[17821652a266c82aa6dca51ffd1a86cc]\n",
       "@startuml\r\n",
       " skinparam monochrome true\r\n",
       "skinparam classbackgroundcolor white\r\n",
       "skinparam shadowing false\r\n",
       "skinparam wrapWidth 300\r\n",
       "hide circle\r\n",
       "\r\n",
       "package \"MultiplicityTest\" as E1  [[psysml:c0f24ad0-fe84-484c-92fb-1b0594d1e479 ]]  {\r\n",
       "comp def \"P\" as E2  <<(T,blue) part def>> [[psysml:987e5bc7-b02a-416d-86c6-8545bfa90ef5 ]] {\r\n",
       "}\r\n",
       "comp usage \"n: Integer\" as E3  <<(T,blue) attribute>> [[psysml:7c23d281-2047-4d33-b5ff-31ab75cdc741 ]] {\r\n",
       "}\r\n",
       "comp usage \"a\" as E4  <<(T,blue) part>> [[psysml:dbbeb80c-41d4-4e5a-ae6b-125fea141b81 ]] {\r\n",
       "}\r\n",
       "comp usage \"b: P\" as E5  <<(T,blue) part>> [[psysml:1044b725-5886-488e-a280-d65b06b2678d ]] {\r\n",
       "}\r\n",
       "comp usage \"c: P\" as E6  <<(T,blue) part>> [[psysml:7163cac6-f89e-4c84-b72c-82ccdb232dd2 ]] {\r\n",
       "}\r\n",
       "comp usage \"d\" as E7  <<(T,blue) part>> [[psysml:79f72fcf-9cc7-42c6-886c-0c2f21f0aaa0 ]] {\r\n",
       "}\r\n",
       "comp usage \"e\" as E8  <<(T,blue) part>> [[psysml:7ad65eee-258f-4156-b8ec-39b80665cdbc ]] {\r\n",
       "}\r\n",
       "comp usage \"f\" as E9  <<(T,blue) part>> [[psysml:20b1d46d-edcb-44c0-8591-3bffd604b97a ]] {\r\n",
       "}\r\n",
       "comp usage \"g\" as E10  <<(T,blue) part>> [[psysml:25d96323-353d-45e6-96c8-f6353f2a6c2d ]] {\r\n",
       "}\r\n",
       "comp def \"A\" as E11  <<(T,blue) attribute def>> [[psysml:05fe5b10-94f9-4e9a-a85e-b113c36136a8 ]] {\r\n",
       "- - attributes - -\r\n",
       "i: Integer\r\n",
       "x: A\r\n",
       "}\r\n",
       "}\r\n",
       "E5 - -:|> E2 [[psysml:b71e192f-5f45-432d-9454-4642818dbb88 ]] \r\n",
       "E6 - -:|> E2 [[psysml:173d30e4-d568-4354-a9e9-bb0668964c70 ]] \r\n",
       "@enduml\r\n",
       "\n",
       "PlantUML version 1.2020.13(Sat Jun 13 12:26:38 UTC 2020)\n",
       "(EPL source distribution)\n",
       "Java Runtime: OpenJDK Runtime Environment\n",
       "JVM: OpenJDK 64-Bit Server VM\n",
       "Default Encoding: UTF-8\n",
       "Language: en\n",
       "Country: null\n",
       "--></g></svg>"
      ]
     },
     "execution_count": 3,
     "metadata": {},
     "output_type": "execute_result"
    }
   ],
   "source": [
    "%viz --style=\"COMPTREE\" --view=\"Tree\" \"MultiplicityTest\""
   ]
  },
  {
   "cell_type": "code",
   "execution_count": 4,
   "id": "7ebce6c9",
   "metadata": {
    "execution": {
     "iopub.execute_input": "2021-09-27T07:19:16.714343Z",
     "iopub.status.busy": "2021-09-27T07:19:16.713916Z",
     "iopub.status.idle": "2021-09-27T07:19:16.719815Z",
     "shell.execute_reply": "2021-09-27T07:19:16.720113Z"
    }
   },
   "outputs": [
    {
     "data": {
      "image/svg+xml": [
       "<?xml version=\"1.0\" encoding=\"UTF-8\" standalone=\"no\"?><svg xmlns=\"http://www.w3.org/2000/svg\" xmlns:xlink=\"http://www.w3.org/1999/xlink\" contentScriptType=\"application/ecmascript\" contentStyleType=\"text/css\" height=\"12px\" preserveAspectRatio=\"none\" style=\"width:12px;height:12px;\" version=\"1.1\" viewBox=\"0 0 12 12\" width=\"12px\" zoomAndPan=\"magnify\"><defs/><g><!--MD5=[f19188ef49e11757b5c46753f95d9edc]\n",
       "@startuml\r\n",
       " skinparam monochrome true\r\n",
       "skinparam classbackgroundcolor white\r\n",
       "skinparam shadowing false\r\n",
       "skinparam wrapWidth 300\r\n",
       "hide circle\r\n",
       "\r\n",
       "@enduml\r\n",
       "\n",
       "PlantUML version 1.2020.13(Sat Jun 13 12:26:38 UTC 2020)\n",
       "(EPL source distribution)\n",
       "Java Runtime: OpenJDK Runtime Environment\n",
       "JVM: OpenJDK 64-Bit Server VM\n",
       "Default Encoding: UTF-8\n",
       "Language: en\n",
       "Country: null\n",
       "--></g></svg>"
      ]
     },
     "execution_count": 4,
     "metadata": {},
     "output_type": "execute_result"
    }
   ],
   "source": [
    "%viz --style=\"COMPTREE\" --view=\"State\" \"MultiplicityTest\""
   ]
  },
  {
   "cell_type": "code",
   "execution_count": 5,
   "id": "551c83b8",
   "metadata": {
    "execution": {
     "iopub.execute_input": "2021-09-27T07:19:16.770504Z",
     "iopub.status.busy": "2021-09-27T07:19:16.770088Z",
     "iopub.status.idle": "2021-09-27T07:19:16.820319Z",
     "shell.execute_reply": "2021-09-27T07:19:16.820642Z"
    }
   },
   "outputs": [
    {
     "data": {
      "image/svg+xml": [
       "<?xml version=\"1.0\" encoding=\"UTF-8\" standalone=\"no\"?><svg xmlns=\"http://www.w3.org/2000/svg\" xmlns:xlink=\"http://www.w3.org/1999/xlink\" contentScriptType=\"application/ecmascript\" contentStyleType=\"text/css\" height=\"115px\" preserveAspectRatio=\"none\" style=\"width:979px;height:115px;\" version=\"1.1\" viewBox=\"0 0 979 115\" width=\"979px\" zoomAndPan=\"magnify\"><defs/><g><!--MD5=[fbc87193dbaf4d95561dea2c320d4a47]\n",
       "cluster E1--><a href=\"psysml:c0f24ad0-fe84-484c-92fb-1b0594d1e479\" target=\"_top\" title=\"psysml:c0f24ad0-fe84-484c-92fb-1b0594d1e479\" xlink:actuate=\"onRequest\" xlink:href=\"psysml:c0f24ad0-fe84-484c-92fb-1b0594d1e479\" xlink:show=\"new\" xlink:title=\"psysml:c0f24ad0-fe84-484c-92fb-1b0594d1e479\" xlink:type=\"simple\"><polygon fill=\"#FFFFFF\" points=\"16,6,123,6,130,28.2969,957,28.2969,957,103,16,103,16,6\" style=\"stroke: #000000; stroke-width: 1.5;\"/><line style=\"stroke: #000000; stroke-width: 1.5;\" x1=\"16\" x2=\"130\" y1=\"28.2969\" y2=\"28.2969\"/><text fill=\"#000000\" font-family=\"sans-serif\" font-size=\"14\" font-weight=\"bold\" lengthAdjust=\"spacingAndGlyphs\" textLength=\"101\" x=\"20\" y=\"20.9951\">MultiplicityTest</text></a><!--MD5=[09b614a08d8cba4a07c9adeb5e0fee81]\n",
       "class E3--><a href=\"psysml:7c23d281-2047-4d33-b5ff-31ab75cdc741\" target=\"_top\" title=\"psysml:7c23d281-2047-4d33-b5ff-31ab75cdc741\" xlink:actuate=\"onRequest\" xlink:href=\"psysml:7c23d281-2047-4d33-b5ff-31ab75cdc741\" xlink:show=\"new\" xlink:title=\"psysml:7c23d281-2047-4d33-b5ff-31ab75cdc741\" xlink:type=\"simple\"><rect fill=\"#FFFFFF\" height=\"45.9375\" id=\"E3\" rx=\"10\" ry=\"10\" style=\"stroke: #383838; stroke-width: 1.5;\" width=\"71\" x=\"869.5\" y=\"41\"/><text fill=\"#000000\" font-family=\"sans-serif\" font-size=\"12\" font-style=\"italic\" lengthAdjust=\"spacingAndGlyphs\" textLength=\"69\" x=\"870.5\" y=\"57.1387\">«attribute»</text><text fill=\"#000000\" font-family=\"sans-serif\" font-size=\"12\" lengthAdjust=\"spacingAndGlyphs\" textLength=\"61\" x=\"874.5\" y=\"71.1074\">n: Integer</text><line style=\"stroke: #383838; stroke-width: 1.5;\" x1=\"870.5\" x2=\"939.5\" y1=\"78.9375\" y2=\"78.9375\"/></a><g id=\"E1.E11\"><a href=\"psysml:05fe5b10-94f9-4e9a-a85e-b113c36136a8\" target=\"_top\" title=\"psysml:05fe5b10-94f9-4e9a-a85e-b113c36136a8\" xlink:actuate=\"onRequest\" xlink:href=\"psysml:05fe5b10-94f9-4e9a-a85e-b113c36136a8\" xlink:show=\"new\" xlink:title=\"psysml:05fe5b10-94f9-4e9a-a85e-b113c36136a8\" xlink:type=\"simple\"><rect fill=\"#FFFFFF\" height=\"42.9375\" id=\"E11\" style=\"stroke: #383838; stroke-width: 1.5;\" width=\"100\" x=\"734\" y=\"42.5\"/><rect fill=\"#F8F8F8\" height=\"37.9375\" style=\"stroke: #383838; stroke-width: 1.5;\" width=\"100\" x=\"734\" y=\"42.5\"/><text fill=\"#000000\" font-family=\"sans-serif\" font-size=\"12\" font-style=\"italic\" lengthAdjust=\"spacingAndGlyphs\" textLength=\"93\" x=\"737.5\" y=\"58.6387\">«attribute def»</text><text fill=\"#000000\" font-family=\"sans-serif\" font-size=\"12\" lengthAdjust=\"spacingAndGlyphs\" textLength=\"8\" x=\"780\" y=\"72.6074\">A</text></a></g><g id=\"E1.E2\"><a href=\"psysml:987e5bc7-b02a-416d-86c6-8545bfa90ef5\" target=\"_top\" title=\"psysml:987e5bc7-b02a-416d-86c6-8545bfa90ef5\" xlink:actuate=\"onRequest\" xlink:href=\"psysml:987e5bc7-b02a-416d-86c6-8545bfa90ef5\" xlink:show=\"new\" xlink:title=\"psysml:987e5bc7-b02a-416d-86c6-8545bfa90ef5\" xlink:type=\"simple\"><rect fill=\"#FFFFFF\" height=\"42.9375\" id=\"E2\" style=\"stroke: #383838; stroke-width: 1.5;\" width=\"71\" x=\"627.5\" y=\"42.5\"/><rect fill=\"#F8F8F8\" height=\"37.9375\" style=\"stroke: #383838; stroke-width: 1.5;\" width=\"71\" x=\"627.5\" y=\"42.5\"/><text fill=\"#000000\" font-family=\"sans-serif\" font-size=\"12\" font-style=\"italic\" lengthAdjust=\"spacingAndGlyphs\" textLength=\"64\" x=\"631\" y=\"58.6387\">«part def»</text><text fill=\"#000000\" font-family=\"sans-serif\" font-size=\"12\" lengthAdjust=\"spacingAndGlyphs\" textLength=\"8\" x=\"659\" y=\"72.6074\">P</text></a></g><g id=\"E1.E4\"><a href=\"psysml:dbbeb80c-41d4-4e5a-ae6b-125fea141b81\" target=\"_top\" title=\"psysml:dbbeb80c-41d4-4e5a-ae6b-125fea141b81\" xlink:actuate=\"onRequest\" xlink:href=\"psysml:dbbeb80c-41d4-4e5a-ae6b-125fea141b81\" xlink:show=\"new\" xlink:title=\"psysml:dbbeb80c-41d4-4e5a-ae6b-125fea141b81\" xlink:type=\"simple\"><rect fill=\"#FFFFFF\" height=\"40\" id=\"E4\" rx=\"10\" ry=\"10\" style=\"stroke: #383838; stroke-width: 1.5;\" width=\"50\" x=\"542\" y=\"44\"/><rect fill=\"#F8F8F8\" height=\"23.9688\" rx=\"10\" ry=\"10\" style=\"stroke: #F8F8F8; stroke-width: 1.5;\" width=\"50\" x=\"542\" y=\"44\"/><rect fill=\"#F8F8F8\" height=\"10\" style=\"stroke: #F8F8F8; stroke-width: 1.5;\" width=\"50\" x=\"542\" y=\"57.9688\"/><rect fill=\"none\" height=\"40\" id=\"E4\" rx=\"10\" ry=\"10\" style=\"stroke: #383838; stroke-width: 1.5;\" width=\"50\" x=\"542\" y=\"44\"/><text fill=\"#000000\" font-family=\"sans-serif\" font-size=\"12\" lengthAdjust=\"spacingAndGlyphs\" textLength=\"8\" x=\"563\" y=\"60.1387\">a</text></a></g><g id=\"E1.E5\"><a href=\"psysml:1044b725-5886-488e-a280-d65b06b2678d\" target=\"_top\" title=\"psysml:1044b725-5886-488e-a280-d65b06b2678d\" xlink:actuate=\"onRequest\" xlink:href=\"psysml:1044b725-5886-488e-a280-d65b06b2678d\" xlink:show=\"new\" xlink:title=\"psysml:1044b725-5886-488e-a280-d65b06b2678d\" xlink:type=\"simple\"><rect fill=\"#FFFFFF\" height=\"40\" id=\"E5\" rx=\"10\" ry=\"10\" style=\"stroke: #383838; stroke-width: 1.5;\" width=\"50\" x=\"457\" y=\"44\"/><rect fill=\"#F8F8F8\" height=\"23.9688\" rx=\"10\" ry=\"10\" style=\"stroke: #F8F8F8; stroke-width: 1.5;\" width=\"50\" x=\"457\" y=\"44\"/><rect fill=\"#F8F8F8\" height=\"10\" style=\"stroke: #F8F8F8; stroke-width: 1.5;\" width=\"50\" x=\"457\" y=\"57.9688\"/><rect fill=\"none\" height=\"40\" id=\"E5\" rx=\"10\" ry=\"10\" style=\"stroke: #383838; stroke-width: 1.5;\" width=\"50\" x=\"457\" y=\"44\"/><text fill=\"#000000\" font-family=\"sans-serif\" font-size=\"12\" lengthAdjust=\"spacingAndGlyphs\" textLength=\"24\" x=\"470\" y=\"60.1387\">b: P</text></a></g><g id=\"E1.E6\"><a href=\"psysml:7163cac6-f89e-4c84-b72c-82ccdb232dd2\" target=\"_top\" title=\"psysml:7163cac6-f89e-4c84-b72c-82ccdb232dd2\" xlink:actuate=\"onRequest\" xlink:href=\"psysml:7163cac6-f89e-4c84-b72c-82ccdb232dd2\" xlink:show=\"new\" xlink:title=\"psysml:7163cac6-f89e-4c84-b72c-82ccdb232dd2\" xlink:type=\"simple\"><rect fill=\"#FFFFFF\" height=\"40\" id=\"E6\" rx=\"10\" ry=\"10\" style=\"stroke: #383838; stroke-width: 1.5;\" width=\"50\" x=\"372\" y=\"44\"/><rect fill=\"#F8F8F8\" height=\"23.9688\" rx=\"10\" ry=\"10\" style=\"stroke: #F8F8F8; stroke-width: 1.5;\" width=\"50\" x=\"372\" y=\"44\"/><rect fill=\"#F8F8F8\" height=\"10\" style=\"stroke: #F8F8F8; stroke-width: 1.5;\" width=\"50\" x=\"372\" y=\"57.9688\"/><rect fill=\"none\" height=\"40\" id=\"E6\" rx=\"10\" ry=\"10\" style=\"stroke: #383838; stroke-width: 1.5;\" width=\"50\" x=\"372\" y=\"44\"/><text fill=\"#000000\" font-family=\"sans-serif\" font-size=\"12\" lengthAdjust=\"spacingAndGlyphs\" textLength=\"23\" x=\"385.5\" y=\"60.1387\">c: P</text></a></g><g id=\"E1.E7\"><a href=\"psysml:79f72fcf-9cc7-42c6-886c-0c2f21f0aaa0\" target=\"_top\" title=\"psysml:79f72fcf-9cc7-42c6-886c-0c2f21f0aaa0\" xlink:actuate=\"onRequest\" xlink:href=\"psysml:79f72fcf-9cc7-42c6-886c-0c2f21f0aaa0\" xlink:show=\"new\" xlink:title=\"psysml:79f72fcf-9cc7-42c6-886c-0c2f21f0aaa0\" xlink:type=\"simple\"><rect fill=\"#FFFFFF\" height=\"40\" id=\"E7\" rx=\"10\" ry=\"10\" style=\"stroke: #383838; stroke-width: 1.5;\" width=\"50\" x=\"287\" y=\"44\"/><rect fill=\"#F8F8F8\" height=\"23.9688\" rx=\"10\" ry=\"10\" style=\"stroke: #F8F8F8; stroke-width: 1.5;\" width=\"50\" x=\"287\" y=\"44\"/><rect fill=\"#F8F8F8\" height=\"10\" style=\"stroke: #F8F8F8; stroke-width: 1.5;\" width=\"50\" x=\"287\" y=\"57.9688\"/><rect fill=\"none\" height=\"40\" id=\"E7\" rx=\"10\" ry=\"10\" style=\"stroke: #383838; stroke-width: 1.5;\" width=\"50\" x=\"287\" y=\"44\"/><text fill=\"#000000\" font-family=\"sans-serif\" font-size=\"12\" lengthAdjust=\"spacingAndGlyphs\" textLength=\"8\" x=\"308\" y=\"60.1387\">d</text></a></g><g id=\"E1.E8\"><a href=\"psysml:7ad65eee-258f-4156-b8ec-39b80665cdbc\" target=\"_top\" title=\"psysml:7ad65eee-258f-4156-b8ec-39b80665cdbc\" xlink:actuate=\"onRequest\" xlink:href=\"psysml:7ad65eee-258f-4156-b8ec-39b80665cdbc\" xlink:show=\"new\" xlink:title=\"psysml:7ad65eee-258f-4156-b8ec-39b80665cdbc\" xlink:type=\"simple\"><rect fill=\"#FFFFFF\" height=\"40\" id=\"E8\" rx=\"10\" ry=\"10\" style=\"stroke: #383838; stroke-width: 1.5;\" width=\"50\" x=\"202\" y=\"44\"/><rect fill=\"#F8F8F8\" height=\"23.9688\" rx=\"10\" ry=\"10\" style=\"stroke: #F8F8F8; stroke-width: 1.5;\" width=\"50\" x=\"202\" y=\"44\"/><rect fill=\"#F8F8F8\" height=\"10\" style=\"stroke: #F8F8F8; stroke-width: 1.5;\" width=\"50\" x=\"202\" y=\"57.9688\"/><rect fill=\"none\" height=\"40\" id=\"E8\" rx=\"10\" ry=\"10\" style=\"stroke: #383838; stroke-width: 1.5;\" width=\"50\" x=\"202\" y=\"44\"/><text fill=\"#000000\" font-family=\"sans-serif\" font-size=\"12\" lengthAdjust=\"spacingAndGlyphs\" textLength=\"8\" x=\"223\" y=\"60.1387\">e</text></a></g><g id=\"E1.E9\"><a href=\"psysml:20b1d46d-edcb-44c0-8591-3bffd604b97a\" target=\"_top\" title=\"psysml:20b1d46d-edcb-44c0-8591-3bffd604b97a\" xlink:actuate=\"onRequest\" xlink:href=\"psysml:20b1d46d-edcb-44c0-8591-3bffd604b97a\" xlink:show=\"new\" xlink:title=\"psysml:20b1d46d-edcb-44c0-8591-3bffd604b97a\" xlink:type=\"simple\"><rect fill=\"#FFFFFF\" height=\"40\" id=\"E9\" rx=\"10\" ry=\"10\" style=\"stroke: #383838; stroke-width: 1.5;\" width=\"50\" x=\"117\" y=\"44\"/><rect fill=\"#F8F8F8\" height=\"23.9688\" rx=\"10\" ry=\"10\" style=\"stroke: #F8F8F8; stroke-width: 1.5;\" width=\"50\" x=\"117\" y=\"44\"/><rect fill=\"#F8F8F8\" height=\"10\" style=\"stroke: #F8F8F8; stroke-width: 1.5;\" width=\"50\" x=\"117\" y=\"57.9688\"/><rect fill=\"none\" height=\"40\" id=\"E9\" rx=\"10\" ry=\"10\" style=\"stroke: #383838; stroke-width: 1.5;\" width=\"50\" x=\"117\" y=\"44\"/><text fill=\"#000000\" font-family=\"sans-serif\" font-size=\"12\" lengthAdjust=\"spacingAndGlyphs\" textLength=\"4\" x=\"140\" y=\"60.1387\">f</text></a></g><g id=\"E1.E10\"><a href=\"psysml:25d96323-353d-45e6-96c8-f6353f2a6c2d\" target=\"_top\" title=\"psysml:25d96323-353d-45e6-96c8-f6353f2a6c2d\" xlink:actuate=\"onRequest\" xlink:href=\"psysml:25d96323-353d-45e6-96c8-f6353f2a6c2d\" xlink:show=\"new\" xlink:title=\"psysml:25d96323-353d-45e6-96c8-f6353f2a6c2d\" xlink:type=\"simple\"><rect fill=\"#FFFFFF\" height=\"40\" id=\"E10\" rx=\"10\" ry=\"10\" style=\"stroke: #383838; stroke-width: 1.5;\" width=\"50\" x=\"32\" y=\"44\"/><rect fill=\"#F8F8F8\" height=\"23.9688\" rx=\"10\" ry=\"10\" style=\"stroke: #F8F8F8; stroke-width: 1.5;\" width=\"50\" x=\"32\" y=\"44\"/><rect fill=\"#F8F8F8\" height=\"10\" style=\"stroke: #F8F8F8; stroke-width: 1.5;\" width=\"50\" x=\"32\" y=\"57.9688\"/><rect fill=\"none\" height=\"40\" id=\"E10\" rx=\"10\" ry=\"10\" style=\"stroke: #383838; stroke-width: 1.5;\" width=\"50\" x=\"32\" y=\"44\"/><text fill=\"#000000\" font-family=\"sans-serif\" font-size=\"12\" lengthAdjust=\"spacingAndGlyphs\" textLength=\"8\" x=\"53\" y=\"60.1387\">g</text></a></g><!--MD5=[7ada2b95ef6face26eb0c77d913edce6]\n",
       "@startuml\r\n",
       "skinparam ranksep 10\r\n",
       "skinparam rectangle {\r\n",
       " backgroundColor<<block>> LightGreen\r\n",
       "}\r\n",
       " skinparam monochrome true\r\n",
       "skinparam classbackgroundcolor white\r\n",
       "skinparam shadowing false\r\n",
       "skinparam wrapWidth 300\r\n",
       "hide circle\r\n",
       "\r\n",
       "package \"MultiplicityTest\" as E1  [[psysml:c0f24ad0-fe84-484c-92fb-1b0594d1e479 ]]  {\r\n",
       "rec def \"P\" as E2  <<(T,blue) part def>> [[psysml:987e5bc7-b02a-416d-86c6-8545bfa90ef5 ]] {\r\n",
       "}\r\n",
       "comp usage \"n: Integer\" as E3  <<(T,blue) attribute>> [[psysml:7c23d281-2047-4d33-b5ff-31ab75cdc741 ]] {\r\n",
       "}\r\n",
       "rec usage \"a\" as E4  [[psysml:dbbeb80c-41d4-4e5a-ae6b-125fea141b81 ]] {\r\n",
       "}\r\n",
       "rec usage \"b: P\" as E5  [[psysml:1044b725-5886-488e-a280-d65b06b2678d ]] {\r\n",
       "}\r\n",
       "rec usage \"c: P\" as E6  [[psysml:7163cac6-f89e-4c84-b72c-82ccdb232dd2 ]] {\r\n",
       "}\r\n",
       "rec usage \"d\" as E7  [[psysml:79f72fcf-9cc7-42c6-886c-0c2f21f0aaa0 ]] {\r\n",
       "}\r\n",
       "rec usage \"e\" as E8  [[psysml:7ad65eee-258f-4156-b8ec-39b80665cdbc ]] {\r\n",
       "}\r\n",
       "rec usage \"f\" as E9  [[psysml:20b1d46d-edcb-44c0-8591-3bffd604b97a ]] {\r\n",
       "}\r\n",
       "rec usage \"g\" as E10  [[psysml:25d96323-353d-45e6-96c8-f6353f2a6c2d ]] {\r\n",
       "}\r\n",
       "def \"A\" as E11  <<(T,blue) attribute def>> [[psysml:05fe5b10-94f9-4e9a-a85e-b113c36136a8 ]] \r\n",
       "}\r\n",
       "@enduml\r\n",
       "\n",
       "PlantUML version 1.2020.13(Sat Jun 13 12:26:38 UTC 2020)\n",
       "(EPL source distribution)\n",
       "Java Runtime: OpenJDK Runtime Environment\n",
       "JVM: OpenJDK 64-Bit Server VM\n",
       "Default Encoding: UTF-8\n",
       "Language: en\n",
       "Country: null\n",
       "--></g></svg>"
      ]
     },
     "execution_count": 5,
     "metadata": {},
     "output_type": "execute_result"
    }
   ],
   "source": [
    "%viz --style=\"COMPTREE\" --view=\"Interconnection\" \"MultiplicityTest\""
   ]
  },
  {
   "cell_type": "code",
   "execution_count": 6,
   "id": "c8d98842",
   "metadata": {
    "execution": {
     "iopub.execute_input": "2021-09-27T07:19:16.871311Z",
     "iopub.status.busy": "2021-09-27T07:19:16.870885Z",
     "iopub.status.idle": "2021-09-27T07:19:16.879065Z",
     "shell.execute_reply": "2021-09-27T07:19:16.879381Z"
    }
   },
   "outputs": [
    {
     "data": {
      "image/svg+xml": [
       "<?xml version=\"1.0\" encoding=\"UTF-8\" standalone=\"no\"?><svg xmlns=\"http://www.w3.org/2000/svg\" xmlns:xlink=\"http://www.w3.org/1999/xlink\" contentScriptType=\"application/ecmascript\" contentStyleType=\"text/css\" height=\"12px\" preserveAspectRatio=\"none\" style=\"width:12px;height:12px;\" version=\"1.1\" viewBox=\"0 0 12 12\" width=\"12px\" zoomAndPan=\"magnify\"><defs/><g><!--MD5=[655b888544ca4751ea36af1068543f84]\n",
       "@startuml\r\n",
       "skinparam ranksep 8\r\n",
       " skinparam monochrome true\r\n",
       "skinparam classbackgroundcolor white\r\n",
       "skinparam shadowing false\r\n",
       "skinparam wrapWidth 300\r\n",
       "hide circle\r\n",
       "\r\n",
       "@enduml\r\n",
       "\n",
       "PlantUML version 1.2020.13(Sat Jun 13 12:26:38 UTC 2020)\n",
       "(EPL source distribution)\n",
       "Java Runtime: OpenJDK Runtime Environment\n",
       "JVM: OpenJDK 64-Bit Server VM\n",
       "Default Encoding: UTF-8\n",
       "Language: en\n",
       "Country: null\n",
       "--></g></svg>"
      ]
     },
     "execution_count": 6,
     "metadata": {},
     "output_type": "execute_result"
    }
   ],
   "source": [
    "%viz --style=\"COMPTREE\" --view=\"Action\" \"MultiplicityTest\""
   ]
  },
  {
   "cell_type": "code",
   "execution_count": 7,
   "id": "bdecf83b",
   "metadata": {
    "execution": {
     "iopub.execute_input": "2021-09-27T07:19:16.930469Z",
     "iopub.status.busy": "2021-09-27T07:19:16.930036Z",
     "iopub.status.idle": "2021-09-27T07:19:16.943251Z",
     "shell.execute_reply": "2021-09-27T07:19:16.943573Z"
    }
   },
   "outputs": [
    {
     "data": {
      "image/svg+xml": [
       "<?xml version=\"1.0\" encoding=\"UTF-8\" standalone=\"no\"?><svg xmlns=\"http://www.w3.org/2000/svg\" xmlns:xlink=\"http://www.w3.org/1999/xlink\" contentScriptType=\"application/ecmascript\" contentStyleType=\"text/css\" height=\"12px\" preserveAspectRatio=\"none\" style=\"width:12px;height:12px;\" version=\"1.1\" viewBox=\"0 0 12 12\" width=\"12px\" zoomAndPan=\"magnify\"><defs/><g><!--MD5=[803fc46c337be7a5c8a9831e35356779]\n",
       "@startuml\r\n",
       "skinparam roundcorner 20\r\n",
       "skinparam BoxPadding 20\r\n",
       "skinparam SequenceBoxBackgroundColor #white\r\n",
       "skinparam style strictuml\r\n",
       "skinparam maxMessageSize 100\r\n",
       " skinparam monochrome true\r\n",
       "skinparam classbackgroundcolor white\r\n",
       "skinparam shadowing false\r\n",
       "skinparam wrapWidth 300\r\n",
       "hide circle\r\n",
       "\r\n",
       "@enduml\r\n",
       "\n",
       "PlantUML version 1.2020.13(Sat Jun 13 12:26:38 UTC 2020)\n",
       "(EPL source distribution)\n",
       "Java Runtime: OpenJDK Runtime Environment\n",
       "JVM: OpenJDK 64-Bit Server VM\n",
       "Default Encoding: UTF-8\n",
       "Language: en\n",
       "Country: null\n",
       "--></g></svg>"
      ]
     },
     "execution_count": 7,
     "metadata": {},
     "output_type": "execute_result"
    }
   ],
   "source": [
    "%viz --style=\"COMPTREE\" --view=\"Sequence\" \"MultiplicityTest\""
   ]
  },
  {
   "cell_type": "code",
   "execution_count": 8,
   "id": "409fe3b1",
   "metadata": {
    "execution": {
     "iopub.execute_input": "2021-09-27T07:19:16.994150Z",
     "iopub.status.busy": "2021-09-27T07:19:16.993713Z",
     "iopub.status.idle": "2021-09-27T07:19:17.083167Z",
     "shell.execute_reply": "2021-09-27T07:19:17.083471Z"
    }
   },
   "outputs": [
    {
     "data": {
      "image/svg+xml": [
       "<?xml version=\"1.0\" encoding=\"UTF-8\" standalone=\"no\"?><svg xmlns=\"http://www.w3.org/2000/svg\" xmlns:xlink=\"http://www.w3.org/1999/xlink\" contentScriptType=\"application/ecmascript\" contentStyleType=\"text/css\" height=\"263px\" preserveAspectRatio=\"none\" style=\"width:812px;height:263px;\" version=\"1.1\" viewBox=\"0 0 812 263\" width=\"812px\" zoomAndPan=\"magnify\"><defs/><g><!--MD5=[fbc87193dbaf4d95561dea2c320d4a47]\n",
       "cluster E1--><a href=\"psysml:c0f24ad0-fe84-484c-92fb-1b0594d1e479\" target=\"_top\" title=\"psysml:c0f24ad0-fe84-484c-92fb-1b0594d1e479\" xlink:actuate=\"onRequest\" xlink:href=\"psysml:c0f24ad0-fe84-484c-92fb-1b0594d1e479\" xlink:show=\"new\" xlink:title=\"psysml:c0f24ad0-fe84-484c-92fb-1b0594d1e479\" xlink:type=\"simple\"><polygon fill=\"#FFFFFF\" points=\"16,6,123,6,130,28.2969,790,28.2969,790,251,16,251,16,6\" style=\"stroke: #000000; stroke-width: 1.5;\"/><line style=\"stroke: #000000; stroke-width: 1.5;\" x1=\"16\" x2=\"130\" y1=\"28.2969\" y2=\"28.2969\"/><text fill=\"#000000\" font-family=\"sans-serif\" font-size=\"14\" font-weight=\"bold\" lengthAdjust=\"spacingAndGlyphs\" textLength=\"101\" x=\"20\" y=\"20.9951\">MultiplicityTest</text></a><!--MD5=[b4997ac47864f28c2f74865a473b2911]\n",
       "class E2--><a href=\"psysml:987e5bc7-b02a-416d-86c6-8545bfa90ef5\" target=\"_top\" title=\"psysml:987e5bc7-b02a-416d-86c6-8545bfa90ef5\" xlink:actuate=\"onRequest\" xlink:href=\"psysml:987e5bc7-b02a-416d-86c6-8545bfa90ef5\" xlink:show=\"new\" xlink:title=\"psysml:987e5bc7-b02a-416d-86c6-8545bfa90ef5\" xlink:type=\"simple\"><rect fill=\"#FFFFFF\" height=\"45.9375\" id=\"E2\" style=\"stroke: #383838; stroke-width: 1.5;\" width=\"66\" x=\"497\" y=\"189\"/><text fill=\"#000000\" font-family=\"sans-serif\" font-size=\"12\" font-style=\"italic\" lengthAdjust=\"spacingAndGlyphs\" textLength=\"64\" x=\"498\" y=\"205.1387\">«part def»</text><text fill=\"#000000\" font-family=\"sans-serif\" font-size=\"12\" lengthAdjust=\"spacingAndGlyphs\" textLength=\"8\" x=\"526\" y=\"219.1074\">P</text><line style=\"stroke: #383838; stroke-width: 1.5;\" x1=\"498\" x2=\"562\" y1=\"226.9375\" y2=\"226.9375\"/></a><!--MD5=[09b614a08d8cba4a07c9adeb5e0fee81]\n",
       "class E3--><a href=\"psysml:7c23d281-2047-4d33-b5ff-31ab75cdc741\" target=\"_top\" title=\"psysml:7c23d281-2047-4d33-b5ff-31ab75cdc741\" xlink:actuate=\"onRequest\" xlink:href=\"psysml:7c23d281-2047-4d33-b5ff-31ab75cdc741\" xlink:show=\"new\" xlink:title=\"psysml:7c23d281-2047-4d33-b5ff-31ab75cdc741\" xlink:type=\"simple\"><rect fill=\"#FFFFFF\" height=\"45.9375\" id=\"E3\" rx=\"10\" ry=\"10\" style=\"stroke: #383838; stroke-width: 1.5;\" width=\"71\" x=\"702.5\" y=\"62\"/><text fill=\"#000000\" font-family=\"sans-serif\" font-size=\"12\" font-style=\"italic\" lengthAdjust=\"spacingAndGlyphs\" textLength=\"69\" x=\"703.5\" y=\"78.1387\">«attribute»</text><text fill=\"#000000\" font-family=\"sans-serif\" font-size=\"12\" lengthAdjust=\"spacingAndGlyphs\" textLength=\"61\" x=\"707.5\" y=\"92.1074\">n: Integer</text><line style=\"stroke: #383838; stroke-width: 1.5;\" x1=\"703.5\" x2=\"772.5\" y1=\"99.9375\" y2=\"99.9375\"/></a><!--MD5=[ebbe1d658d1005bcc118a6aa81145e00]\n",
       "class E4--><a href=\"psysml:dbbeb80c-41d4-4e5a-ae6b-125fea141b81\" target=\"_top\" title=\"psysml:dbbeb80c-41d4-4e5a-ae6b-125fea141b81\" xlink:actuate=\"onRequest\" xlink:href=\"psysml:dbbeb80c-41d4-4e5a-ae6b-125fea141b81\" xlink:show=\"new\" xlink:title=\"psysml:dbbeb80c-41d4-4e5a-ae6b-125fea141b81\" xlink:type=\"simple\"><rect fill=\"#FFFFFF\" height=\"45.9375\" id=\"E4\" rx=\"10\" ry=\"10\" style=\"stroke: #383838; stroke-width: 1.5;\" width=\"42\" x=\"625\" y=\"62\"/><text fill=\"#000000\" font-family=\"sans-serif\" font-size=\"12\" font-style=\"italic\" lengthAdjust=\"spacingAndGlyphs\" textLength=\"40\" x=\"626\" y=\"78.1387\">«part»</text><text fill=\"#000000\" font-family=\"sans-serif\" font-size=\"12\" lengthAdjust=\"spacingAndGlyphs\" textLength=\"8\" x=\"642\" y=\"92.1074\">a</text><line style=\"stroke: #383838; stroke-width: 1.5;\" x1=\"626\" x2=\"666\" y1=\"99.9375\" y2=\"99.9375\"/></a><!--MD5=[270fce915f116d4de14055a7c1d9a0f3]\n",
       "class E5--><a href=\"psysml:1044b725-5886-488e-a280-d65b06b2678d\" target=\"_top\" title=\"psysml:1044b725-5886-488e-a280-d65b06b2678d\" xlink:actuate=\"onRequest\" xlink:href=\"psysml:1044b725-5886-488e-a280-d65b06b2678d\" xlink:show=\"new\" xlink:title=\"psysml:1044b725-5886-488e-a280-d65b06b2678d\" xlink:type=\"simple\"><rect fill=\"#FFFFFF\" height=\"45.9375\" id=\"E5\" rx=\"10\" ry=\"10\" style=\"stroke: #383838; stroke-width: 1.5;\" width=\"42\" x=\"548\" y=\"62\"/><text fill=\"#000000\" font-family=\"sans-serif\" font-size=\"12\" font-style=\"italic\" lengthAdjust=\"spacingAndGlyphs\" textLength=\"40\" x=\"549\" y=\"78.1387\">«part»</text><text fill=\"#000000\" font-family=\"sans-serif\" font-size=\"12\" lengthAdjust=\"spacingAndGlyphs\" textLength=\"24\" x=\"557\" y=\"92.1074\">b: P</text><line style=\"stroke: #383838; stroke-width: 1.5;\" x1=\"549\" x2=\"589\" y1=\"99.9375\" y2=\"99.9375\"/></a><!--MD5=[60a26617385b1d2d0262a64233df1f8d]\n",
       "class E6--><a href=\"psysml:7163cac6-f89e-4c84-b72c-82ccdb232dd2\" target=\"_top\" title=\"psysml:7163cac6-f89e-4c84-b72c-82ccdb232dd2\" xlink:actuate=\"onRequest\" xlink:href=\"psysml:7163cac6-f89e-4c84-b72c-82ccdb232dd2\" xlink:show=\"new\" xlink:title=\"psysml:7163cac6-f89e-4c84-b72c-82ccdb232dd2\" xlink:type=\"simple\"><rect fill=\"#FFFFFF\" height=\"45.9375\" id=\"E6\" rx=\"10\" ry=\"10\" style=\"stroke: #383838; stroke-width: 1.5;\" width=\"42\" x=\"471\" y=\"62\"/><text fill=\"#000000\" font-family=\"sans-serif\" font-size=\"12\" font-style=\"italic\" lengthAdjust=\"spacingAndGlyphs\" textLength=\"40\" x=\"472\" y=\"78.1387\">«part»</text><text fill=\"#000000\" font-family=\"sans-serif\" font-size=\"12\" lengthAdjust=\"spacingAndGlyphs\" textLength=\"23\" x=\"480.5\" y=\"92.1074\">c: P</text><line style=\"stroke: #383838; stroke-width: 1.5;\" x1=\"472\" x2=\"512\" y1=\"99.9375\" y2=\"99.9375\"/></a><!--MD5=[2156ba9850f5573cc1fc38a6a4b2f02b]\n",
       "class E7--><a href=\"psysml:79f72fcf-9cc7-42c6-886c-0c2f21f0aaa0\" target=\"_top\" title=\"psysml:79f72fcf-9cc7-42c6-886c-0c2f21f0aaa0\" xlink:actuate=\"onRequest\" xlink:href=\"psysml:79f72fcf-9cc7-42c6-886c-0c2f21f0aaa0\" xlink:show=\"new\" xlink:title=\"psysml:79f72fcf-9cc7-42c6-886c-0c2f21f0aaa0\" xlink:type=\"simple\"><rect fill=\"#FFFFFF\" height=\"45.9375\" id=\"E7\" rx=\"10\" ry=\"10\" style=\"stroke: #383838; stroke-width: 1.5;\" width=\"42\" x=\"394\" y=\"62\"/><text fill=\"#000000\" font-family=\"sans-serif\" font-size=\"12\" font-style=\"italic\" lengthAdjust=\"spacingAndGlyphs\" textLength=\"40\" x=\"395\" y=\"78.1387\">«part»</text><text fill=\"#000000\" font-family=\"sans-serif\" font-size=\"12\" lengthAdjust=\"spacingAndGlyphs\" textLength=\"8\" x=\"411\" y=\"92.1074\">d</text><line style=\"stroke: #383838; stroke-width: 1.5;\" x1=\"395\" x2=\"435\" y1=\"99.9375\" y2=\"99.9375\"/></a><!--MD5=[b9389687b975829384b498ac4b7476b2]\n",
       "class E8--><a href=\"psysml:7ad65eee-258f-4156-b8ec-39b80665cdbc\" target=\"_top\" title=\"psysml:7ad65eee-258f-4156-b8ec-39b80665cdbc\" xlink:actuate=\"onRequest\" xlink:href=\"psysml:7ad65eee-258f-4156-b8ec-39b80665cdbc\" xlink:show=\"new\" xlink:title=\"psysml:7ad65eee-258f-4156-b8ec-39b80665cdbc\" xlink:type=\"simple\"><rect fill=\"#FFFFFF\" height=\"45.9375\" id=\"E8\" rx=\"10\" ry=\"10\" style=\"stroke: #383838; stroke-width: 1.5;\" width=\"42\" x=\"317\" y=\"62\"/><text fill=\"#000000\" font-family=\"sans-serif\" font-size=\"12\" font-style=\"italic\" lengthAdjust=\"spacingAndGlyphs\" textLength=\"40\" x=\"318\" y=\"78.1387\">«part»</text><text fill=\"#000000\" font-family=\"sans-serif\" font-size=\"12\" lengthAdjust=\"spacingAndGlyphs\" textLength=\"8\" x=\"334\" y=\"92.1074\">e</text><line style=\"stroke: #383838; stroke-width: 1.5;\" x1=\"318\" x2=\"358\" y1=\"99.9375\" y2=\"99.9375\"/></a><!--MD5=[fd4143e9d270a159db93a4ea2a975926]\n",
       "class E9--><a href=\"psysml:20b1d46d-edcb-44c0-8591-3bffd604b97a\" target=\"_top\" title=\"psysml:20b1d46d-edcb-44c0-8591-3bffd604b97a\" xlink:actuate=\"onRequest\" xlink:href=\"psysml:20b1d46d-edcb-44c0-8591-3bffd604b97a\" xlink:show=\"new\" xlink:title=\"psysml:20b1d46d-edcb-44c0-8591-3bffd604b97a\" xlink:type=\"simple\"><rect fill=\"#FFFFFF\" height=\"45.9375\" id=\"E9\" rx=\"10\" ry=\"10\" style=\"stroke: #383838; stroke-width: 1.5;\" width=\"42\" x=\"240\" y=\"62\"/><text fill=\"#000000\" font-family=\"sans-serif\" font-size=\"12\" font-style=\"italic\" lengthAdjust=\"spacingAndGlyphs\" textLength=\"40\" x=\"241\" y=\"78.1387\">«part»</text><text fill=\"#000000\" font-family=\"sans-serif\" font-size=\"12\" lengthAdjust=\"spacingAndGlyphs\" textLength=\"4\" x=\"259\" y=\"92.1074\">f</text><line style=\"stroke: #383838; stroke-width: 1.5;\" x1=\"241\" x2=\"281\" y1=\"99.9375\" y2=\"99.9375\"/></a><!--MD5=[96f4274e9e20536e775497830990834d]\n",
       "class E10--><a href=\"psysml:25d96323-353d-45e6-96c8-f6353f2a6c2d\" target=\"_top\" title=\"psysml:25d96323-353d-45e6-96c8-f6353f2a6c2d\" xlink:actuate=\"onRequest\" xlink:href=\"psysml:25d96323-353d-45e6-96c8-f6353f2a6c2d\" xlink:show=\"new\" xlink:title=\"psysml:25d96323-353d-45e6-96c8-f6353f2a6c2d\" xlink:type=\"simple\"><rect fill=\"#FFFFFF\" height=\"45.9375\" id=\"E10\" rx=\"10\" ry=\"10\" style=\"stroke: #383838; stroke-width: 1.5;\" width=\"42\" x=\"163\" y=\"62\"/><text fill=\"#000000\" font-family=\"sans-serif\" font-size=\"12\" font-style=\"italic\" lengthAdjust=\"spacingAndGlyphs\" textLength=\"40\" x=\"164\" y=\"78.1387\">«part»</text><text fill=\"#000000\" font-family=\"sans-serif\" font-size=\"12\" lengthAdjust=\"spacingAndGlyphs\" textLength=\"8\" x=\"180\" y=\"92.1074\">g</text><line style=\"stroke: #383838; stroke-width: 1.5;\" x1=\"164\" x2=\"204\" y1=\"99.9375\" y2=\"99.9375\"/></a><!--MD5=[1dd1bfd58a279cf63c5f349dbc8fc6a1]\n",
       "class E11--><a href=\"psysml:05fe5b10-94f9-4e9a-a85e-b113c36136a8\" target=\"_top\" title=\"psysml:05fe5b10-94f9-4e9a-a85e-b113c36136a8\" xlink:actuate=\"onRequest\" xlink:href=\"psysml:05fe5b10-94f9-4e9a-a85e-b113c36136a8\" xlink:show=\"new\" xlink:title=\"psysml:05fe5b10-94f9-4e9a-a85e-b113c36136a8\" xlink:type=\"simple\"><rect fill=\"#FFFFFF\" height=\"88.3516\" id=\"E11\" style=\"stroke: #383838; stroke-width: 1.5;\" width=\"95\" x=\"32.5\" y=\"41\"/><text fill=\"#000000\" font-family=\"sans-serif\" font-size=\"12\" font-style=\"italic\" lengthAdjust=\"spacingAndGlyphs\" textLength=\"93\" x=\"33.5\" y=\"57.1387\">«attribute def»</text><text fill=\"#000000\" font-family=\"sans-serif\" font-size=\"12\" lengthAdjust=\"spacingAndGlyphs\" textLength=\"8\" x=\"76\" y=\"71.1074\">A</text><line style=\"stroke: #383838; stroke-width: 1.5;\" x1=\"33.5\" x2=\"126.5\" y1=\"78.9375\" y2=\"78.9375\"/><text fill=\"#000000\" font-family=\"sans-serif\" font-size=\"11\" lengthAdjust=\"spacingAndGlyphs\" textLength=\"51\" x=\"38.5\" y=\"109.9526\">i: Integer</text><text fill=\"#000000\" font-family=\"sans-serif\" font-size=\"11\" lengthAdjust=\"spacingAndGlyphs\" textLength=\"21\" x=\"38.5\" y=\"122.7573\">x: A</text><line style=\"stroke: #383838; stroke-width: 1.0;\" x1=\"33.5\" x2=\"52.5\" y1=\"93.3398\" y2=\"93.3398\"/><text fill=\"#000000\" font-family=\"sans-serif\" font-size=\"11\" lengthAdjust=\"spacingAndGlyphs\" textLength=\"55\" x=\"52.5\" y=\"96.6479\">attributes</text><line style=\"stroke: #383838; stroke-width: 1.0;\" x1=\"107.5\" x2=\"126.5\" y1=\"93.3398\" y2=\"93.3398\"/></a><!--MD5=[15ebcb19ae302d9b601edb458606d402]\n",
       "link E5 to E2--><a href=\"psysml:b71e192f-5f45-432d-9454-4642818dbb88\" target=\"_top\" title=\"psysml:b71e192f-5f45-432d-9454-4642818dbb88\" xlink:actuate=\"onRequest\" xlink:href=\"psysml:b71e192f-5f45-432d-9454-4642818dbb88\" xlink:show=\"new\" xlink:title=\"psysml:b71e192f-5f45-432d-9454-4642818dbb88\" xlink:type=\"simple\"><path d=\"M562.12,108.06 C556.83,125 549.38,148.89 542.98,169.39 \" fill=\"none\" id=\"E5-&gt;E2\" style=\"stroke: #383838; stroke-width: 1.0;\"/><polygon fill=\"#FFFFFF\" points=\"536.95,188.74,535.929,168.5173,549.2931,172.6886,536.95,188.74\" style=\"stroke: #383838; stroke-width: 1.0;\"/><ellipse cx=\"539.5364\" cy=\"163.6721\" fill=\"#383838\" rx=\"2\" ry=\"2\" style=\"stroke: #383838; stroke-width: 1.0;\"/><ellipse cx=\"549.0823\" cy=\"166.6516\" fill=\"#383838\" rx=\"2\" ry=\"2\" style=\"stroke: #383838; stroke-width: 1.0;\"/></a><!--MD5=[2351f337d6de0f557b50152ba70847b5]\n",
       "link E6 to E2--><a href=\"psysml:173d30e4-d568-4354-a9e9-bb0668964c70\" target=\"_top\" title=\"psysml:173d30e4-d568-4354-a9e9-bb0668964c70\" xlink:actuate=\"onRequest\" xlink:href=\"psysml:173d30e4-d568-4354-a9e9-bb0668964c70\" xlink:show=\"new\" xlink:title=\"psysml:173d30e4-d568-4354-a9e9-bb0668964c70\" xlink:type=\"simple\"><path d=\"M498.71,108.06 C503.86,125 511.12,148.89 517.35,169.39 \" fill=\"none\" id=\"E6-&gt;E2\" style=\"stroke: #383838; stroke-width: 1.0;\"/><polygon fill=\"#FFFFFF\" points=\"523.23,188.74,511.007,172.597,524.4019,168.5255,523.23,188.74\" style=\"stroke: #383838; stroke-width: 1.0;\"/><ellipse cx=\"511.2628\" cy=\"166.5617\" fill=\"#383838\" rx=\"2\" ry=\"2\" style=\"stroke: #383838; stroke-width: 1.0;\"/><ellipse cx=\"520.8306\" cy=\"163.6535\" fill=\"#383838\" rx=\"2\" ry=\"2\" style=\"stroke: #383838; stroke-width: 1.0;\"/></a><!--MD5=[17821652a266c82aa6dca51ffd1a86cc]\n",
       "@startuml\r\n",
       " skinparam monochrome true\r\n",
       "skinparam classbackgroundcolor white\r\n",
       "skinparam shadowing false\r\n",
       "skinparam wrapWidth 300\r\n",
       "hide circle\r\n",
       "\r\n",
       "package \"MultiplicityTest\" as E1  [[psysml:c0f24ad0-fe84-484c-92fb-1b0594d1e479 ]]  {\r\n",
       "comp def \"P\" as E2  <<(T,blue) part def>> [[psysml:987e5bc7-b02a-416d-86c6-8545bfa90ef5 ]] {\r\n",
       "}\r\n",
       "comp usage \"n: Integer\" as E3  <<(T,blue) attribute>> [[psysml:7c23d281-2047-4d33-b5ff-31ab75cdc741 ]] {\r\n",
       "}\r\n",
       "comp usage \"a\" as E4  <<(T,blue) part>> [[psysml:dbbeb80c-41d4-4e5a-ae6b-125fea141b81 ]] {\r\n",
       "}\r\n",
       "comp usage \"b: P\" as E5  <<(T,blue) part>> [[psysml:1044b725-5886-488e-a280-d65b06b2678d ]] {\r\n",
       "}\r\n",
       "comp usage \"c: P\" as E6  <<(T,blue) part>> [[psysml:7163cac6-f89e-4c84-b72c-82ccdb232dd2 ]] {\r\n",
       "}\r\n",
       "comp usage \"d\" as E7  <<(T,blue) part>> [[psysml:79f72fcf-9cc7-42c6-886c-0c2f21f0aaa0 ]] {\r\n",
       "}\r\n",
       "comp usage \"e\" as E8  <<(T,blue) part>> [[psysml:7ad65eee-258f-4156-b8ec-39b80665cdbc ]] {\r\n",
       "}\r\n",
       "comp usage \"f\" as E9  <<(T,blue) part>> [[psysml:20b1d46d-edcb-44c0-8591-3bffd604b97a ]] {\r\n",
       "}\r\n",
       "comp usage \"g\" as E10  <<(T,blue) part>> [[psysml:25d96323-353d-45e6-96c8-f6353f2a6c2d ]] {\r\n",
       "}\r\n",
       "comp def \"A\" as E11  <<(T,blue) attribute def>> [[psysml:05fe5b10-94f9-4e9a-a85e-b113c36136a8 ]] {\r\n",
       "- - attributes - -\r\n",
       "i: Integer\r\n",
       "x: A\r\n",
       "}\r\n",
       "}\r\n",
       "E5 - -:|> E2 [[psysml:b71e192f-5f45-432d-9454-4642818dbb88 ]] \r\n",
       "E6 - -:|> E2 [[psysml:173d30e4-d568-4354-a9e9-bb0668964c70 ]] \r\n",
       "@enduml\r\n",
       "\n",
       "PlantUML version 1.2020.13(Sat Jun 13 12:26:38 UTC 2020)\n",
       "(EPL source distribution)\n",
       "Java Runtime: OpenJDK Runtime Environment\n",
       "JVM: OpenJDK 64-Bit Server VM\n",
       "Default Encoding: UTF-8\n",
       "Language: en\n",
       "Country: null\n",
       "--></g></svg>"
      ]
     },
     "execution_count": 8,
     "metadata": {},
     "output_type": "execute_result"
    }
   ],
   "source": [
    "%viz --style=\"COMPTREE\" --view=\"MIXED\" \"MultiplicityTest\""
   ]
  },
  {
   "cell_type": "code",
   "execution_count": 9,
   "id": "cf7915ce",
   "metadata": {
    "execution": {
     "iopub.execute_input": "2021-09-27T07:19:17.133894Z",
     "iopub.status.busy": "2021-09-27T07:19:17.133401Z",
     "iopub.status.idle": "2021-09-27T07:19:17.216713Z",
     "shell.execute_reply": "2021-09-27T07:19:17.214846Z"
    }
   },
   "outputs": [
    {
     "data": {
      "image/svg+xml": [
       "<?xml version=\"1.0\" encoding=\"UTF-8\" standalone=\"no\"?><svg xmlns=\"http://www.w3.org/2000/svg\" xmlns:xlink=\"http://www.w3.org/1999/xlink\" contentScriptType=\"application/ecmascript\" contentStyleType=\"text/css\" height=\"263px\" preserveAspectRatio=\"none\" style=\"width:812px;height:263px;\" version=\"1.1\" viewBox=\"0 0 812 263\" width=\"812px\" zoomAndPan=\"magnify\"><defs/><g><!--MD5=[fbc87193dbaf4d95561dea2c320d4a47]\n",
       "cluster E1--><a href=\"psysml:c0f24ad0-fe84-484c-92fb-1b0594d1e479\" target=\"_top\" title=\"psysml:c0f24ad0-fe84-484c-92fb-1b0594d1e479\" xlink:actuate=\"onRequest\" xlink:href=\"psysml:c0f24ad0-fe84-484c-92fb-1b0594d1e479\" xlink:show=\"new\" xlink:title=\"psysml:c0f24ad0-fe84-484c-92fb-1b0594d1e479\" xlink:type=\"simple\"><polygon fill=\"#FFFFFF\" points=\"16,6,123,6,130,28.2969,790,28.2969,790,251,16,251,16,6\" style=\"stroke: #000000; stroke-width: 1.5;\"/><line style=\"stroke: #000000; stroke-width: 1.5;\" x1=\"16\" x2=\"130\" y1=\"28.2969\" y2=\"28.2969\"/><text fill=\"#000000\" font-family=\"sans-serif\" font-size=\"14\" font-weight=\"bold\" lengthAdjust=\"spacingAndGlyphs\" textLength=\"101\" x=\"20\" y=\"20.9951\">MultiplicityTest</text></a><!--MD5=[b4997ac47864f28c2f74865a473b2911]\n",
       "class E2--><a href=\"psysml:987e5bc7-b02a-416d-86c6-8545bfa90ef5\" target=\"_top\" title=\"psysml:987e5bc7-b02a-416d-86c6-8545bfa90ef5\" xlink:actuate=\"onRequest\" xlink:href=\"psysml:987e5bc7-b02a-416d-86c6-8545bfa90ef5\" xlink:show=\"new\" xlink:title=\"psysml:987e5bc7-b02a-416d-86c6-8545bfa90ef5\" xlink:type=\"simple\"><rect fill=\"#FFFFFF\" height=\"45.9375\" id=\"E2\" style=\"stroke: #383838; stroke-width: 1.5;\" width=\"66\" x=\"497\" y=\"189\"/><text fill=\"#000000\" font-family=\"sans-serif\" font-size=\"12\" font-style=\"italic\" lengthAdjust=\"spacingAndGlyphs\" textLength=\"64\" x=\"498\" y=\"205.1387\">«part def»</text><text fill=\"#000000\" font-family=\"sans-serif\" font-size=\"12\" lengthAdjust=\"spacingAndGlyphs\" textLength=\"8\" x=\"526\" y=\"219.1074\">P</text><line style=\"stroke: #383838; stroke-width: 1.5;\" x1=\"498\" x2=\"562\" y1=\"226.9375\" y2=\"226.9375\"/></a><!--MD5=[09b614a08d8cba4a07c9adeb5e0fee81]\n",
       "class E3--><a href=\"psysml:7c23d281-2047-4d33-b5ff-31ab75cdc741\" target=\"_top\" title=\"psysml:7c23d281-2047-4d33-b5ff-31ab75cdc741\" xlink:actuate=\"onRequest\" xlink:href=\"psysml:7c23d281-2047-4d33-b5ff-31ab75cdc741\" xlink:show=\"new\" xlink:title=\"psysml:7c23d281-2047-4d33-b5ff-31ab75cdc741\" xlink:type=\"simple\"><rect fill=\"#FFFFFF\" height=\"45.9375\" id=\"E3\" rx=\"10\" ry=\"10\" style=\"stroke: #383838; stroke-width: 1.5;\" width=\"71\" x=\"702.5\" y=\"62\"/><text fill=\"#000000\" font-family=\"sans-serif\" font-size=\"12\" font-style=\"italic\" lengthAdjust=\"spacingAndGlyphs\" textLength=\"69\" x=\"703.5\" y=\"78.1387\">«attribute»</text><text fill=\"#000000\" font-family=\"sans-serif\" font-size=\"12\" lengthAdjust=\"spacingAndGlyphs\" textLength=\"61\" x=\"707.5\" y=\"92.1074\">n: Integer</text><line style=\"stroke: #383838; stroke-width: 1.5;\" x1=\"703.5\" x2=\"772.5\" y1=\"99.9375\" y2=\"99.9375\"/></a><!--MD5=[ebbe1d658d1005bcc118a6aa81145e00]\n",
       "class E4--><a href=\"psysml:dbbeb80c-41d4-4e5a-ae6b-125fea141b81\" target=\"_top\" title=\"psysml:dbbeb80c-41d4-4e5a-ae6b-125fea141b81\" xlink:actuate=\"onRequest\" xlink:href=\"psysml:dbbeb80c-41d4-4e5a-ae6b-125fea141b81\" xlink:show=\"new\" xlink:title=\"psysml:dbbeb80c-41d4-4e5a-ae6b-125fea141b81\" xlink:type=\"simple\"><rect fill=\"#FFFFFF\" height=\"45.9375\" id=\"E4\" rx=\"10\" ry=\"10\" style=\"stroke: #383838; stroke-width: 1.5;\" width=\"42\" x=\"625\" y=\"62\"/><text fill=\"#000000\" font-family=\"sans-serif\" font-size=\"12\" font-style=\"italic\" lengthAdjust=\"spacingAndGlyphs\" textLength=\"40\" x=\"626\" y=\"78.1387\">«part»</text><text fill=\"#000000\" font-family=\"sans-serif\" font-size=\"12\" lengthAdjust=\"spacingAndGlyphs\" textLength=\"8\" x=\"642\" y=\"92.1074\">a</text><line style=\"stroke: #383838; stroke-width: 1.5;\" x1=\"626\" x2=\"666\" y1=\"99.9375\" y2=\"99.9375\"/></a><!--MD5=[270fce915f116d4de14055a7c1d9a0f3]\n",
       "class E5--><a href=\"psysml:1044b725-5886-488e-a280-d65b06b2678d\" target=\"_top\" title=\"psysml:1044b725-5886-488e-a280-d65b06b2678d\" xlink:actuate=\"onRequest\" xlink:href=\"psysml:1044b725-5886-488e-a280-d65b06b2678d\" xlink:show=\"new\" xlink:title=\"psysml:1044b725-5886-488e-a280-d65b06b2678d\" xlink:type=\"simple\"><rect fill=\"#FFFFFF\" height=\"45.9375\" id=\"E5\" rx=\"10\" ry=\"10\" style=\"stroke: #383838; stroke-width: 1.5;\" width=\"42\" x=\"548\" y=\"62\"/><text fill=\"#000000\" font-family=\"sans-serif\" font-size=\"12\" font-style=\"italic\" lengthAdjust=\"spacingAndGlyphs\" textLength=\"40\" x=\"549\" y=\"78.1387\">«part»</text><text fill=\"#000000\" font-family=\"sans-serif\" font-size=\"12\" lengthAdjust=\"spacingAndGlyphs\" textLength=\"24\" x=\"557\" y=\"92.1074\">b: P</text><line style=\"stroke: #383838; stroke-width: 1.5;\" x1=\"549\" x2=\"589\" y1=\"99.9375\" y2=\"99.9375\"/></a><!--MD5=[60a26617385b1d2d0262a64233df1f8d]\n",
       "class E6--><a href=\"psysml:7163cac6-f89e-4c84-b72c-82ccdb232dd2\" target=\"_top\" title=\"psysml:7163cac6-f89e-4c84-b72c-82ccdb232dd2\" xlink:actuate=\"onRequest\" xlink:href=\"psysml:7163cac6-f89e-4c84-b72c-82ccdb232dd2\" xlink:show=\"new\" xlink:title=\"psysml:7163cac6-f89e-4c84-b72c-82ccdb232dd2\" xlink:type=\"simple\"><rect fill=\"#FFFFFF\" height=\"45.9375\" id=\"E6\" rx=\"10\" ry=\"10\" style=\"stroke: #383838; stroke-width: 1.5;\" width=\"42\" x=\"471\" y=\"62\"/><text fill=\"#000000\" font-family=\"sans-serif\" font-size=\"12\" font-style=\"italic\" lengthAdjust=\"spacingAndGlyphs\" textLength=\"40\" x=\"472\" y=\"78.1387\">«part»</text><text fill=\"#000000\" font-family=\"sans-serif\" font-size=\"12\" lengthAdjust=\"spacingAndGlyphs\" textLength=\"23\" x=\"480.5\" y=\"92.1074\">c: P</text><line style=\"stroke: #383838; stroke-width: 1.5;\" x1=\"472\" x2=\"512\" y1=\"99.9375\" y2=\"99.9375\"/></a><!--MD5=[2156ba9850f5573cc1fc38a6a4b2f02b]\n",
       "class E7--><a href=\"psysml:79f72fcf-9cc7-42c6-886c-0c2f21f0aaa0\" target=\"_top\" title=\"psysml:79f72fcf-9cc7-42c6-886c-0c2f21f0aaa0\" xlink:actuate=\"onRequest\" xlink:href=\"psysml:79f72fcf-9cc7-42c6-886c-0c2f21f0aaa0\" xlink:show=\"new\" xlink:title=\"psysml:79f72fcf-9cc7-42c6-886c-0c2f21f0aaa0\" xlink:type=\"simple\"><rect fill=\"#FFFFFF\" height=\"45.9375\" id=\"E7\" rx=\"10\" ry=\"10\" style=\"stroke: #383838; stroke-width: 1.5;\" width=\"42\" x=\"394\" y=\"62\"/><text fill=\"#000000\" font-family=\"sans-serif\" font-size=\"12\" font-style=\"italic\" lengthAdjust=\"spacingAndGlyphs\" textLength=\"40\" x=\"395\" y=\"78.1387\">«part»</text><text fill=\"#000000\" font-family=\"sans-serif\" font-size=\"12\" lengthAdjust=\"spacingAndGlyphs\" textLength=\"8\" x=\"411\" y=\"92.1074\">d</text><line style=\"stroke: #383838; stroke-width: 1.5;\" x1=\"395\" x2=\"435\" y1=\"99.9375\" y2=\"99.9375\"/></a><!--MD5=[b9389687b975829384b498ac4b7476b2]\n",
       "class E8--><a href=\"psysml:7ad65eee-258f-4156-b8ec-39b80665cdbc\" target=\"_top\" title=\"psysml:7ad65eee-258f-4156-b8ec-39b80665cdbc\" xlink:actuate=\"onRequest\" xlink:href=\"psysml:7ad65eee-258f-4156-b8ec-39b80665cdbc\" xlink:show=\"new\" xlink:title=\"psysml:7ad65eee-258f-4156-b8ec-39b80665cdbc\" xlink:type=\"simple\"><rect fill=\"#FFFFFF\" height=\"45.9375\" id=\"E8\" rx=\"10\" ry=\"10\" style=\"stroke: #383838; stroke-width: 1.5;\" width=\"42\" x=\"317\" y=\"62\"/><text fill=\"#000000\" font-family=\"sans-serif\" font-size=\"12\" font-style=\"italic\" lengthAdjust=\"spacingAndGlyphs\" textLength=\"40\" x=\"318\" y=\"78.1387\">«part»</text><text fill=\"#000000\" font-family=\"sans-serif\" font-size=\"12\" lengthAdjust=\"spacingAndGlyphs\" textLength=\"8\" x=\"334\" y=\"92.1074\">e</text><line style=\"stroke: #383838; stroke-width: 1.5;\" x1=\"318\" x2=\"358\" y1=\"99.9375\" y2=\"99.9375\"/></a><!--MD5=[fd4143e9d270a159db93a4ea2a975926]\n",
       "class E9--><a href=\"psysml:20b1d46d-edcb-44c0-8591-3bffd604b97a\" target=\"_top\" title=\"psysml:20b1d46d-edcb-44c0-8591-3bffd604b97a\" xlink:actuate=\"onRequest\" xlink:href=\"psysml:20b1d46d-edcb-44c0-8591-3bffd604b97a\" xlink:show=\"new\" xlink:title=\"psysml:20b1d46d-edcb-44c0-8591-3bffd604b97a\" xlink:type=\"simple\"><rect fill=\"#FFFFFF\" height=\"45.9375\" id=\"E9\" rx=\"10\" ry=\"10\" style=\"stroke: #383838; stroke-width: 1.5;\" width=\"42\" x=\"240\" y=\"62\"/><text fill=\"#000000\" font-family=\"sans-serif\" font-size=\"12\" font-style=\"italic\" lengthAdjust=\"spacingAndGlyphs\" textLength=\"40\" x=\"241\" y=\"78.1387\">«part»</text><text fill=\"#000000\" font-family=\"sans-serif\" font-size=\"12\" lengthAdjust=\"spacingAndGlyphs\" textLength=\"4\" x=\"259\" y=\"92.1074\">f</text><line style=\"stroke: #383838; stroke-width: 1.5;\" x1=\"241\" x2=\"281\" y1=\"99.9375\" y2=\"99.9375\"/></a><!--MD5=[96f4274e9e20536e775497830990834d]\n",
       "class E10--><a href=\"psysml:25d96323-353d-45e6-96c8-f6353f2a6c2d\" target=\"_top\" title=\"psysml:25d96323-353d-45e6-96c8-f6353f2a6c2d\" xlink:actuate=\"onRequest\" xlink:href=\"psysml:25d96323-353d-45e6-96c8-f6353f2a6c2d\" xlink:show=\"new\" xlink:title=\"psysml:25d96323-353d-45e6-96c8-f6353f2a6c2d\" xlink:type=\"simple\"><rect fill=\"#FFFFFF\" height=\"45.9375\" id=\"E10\" rx=\"10\" ry=\"10\" style=\"stroke: #383838; stroke-width: 1.5;\" width=\"42\" x=\"163\" y=\"62\"/><text fill=\"#000000\" font-family=\"sans-serif\" font-size=\"12\" font-style=\"italic\" lengthAdjust=\"spacingAndGlyphs\" textLength=\"40\" x=\"164\" y=\"78.1387\">«part»</text><text fill=\"#000000\" font-family=\"sans-serif\" font-size=\"12\" lengthAdjust=\"spacingAndGlyphs\" textLength=\"8\" x=\"180\" y=\"92.1074\">g</text><line style=\"stroke: #383838; stroke-width: 1.5;\" x1=\"164\" x2=\"204\" y1=\"99.9375\" y2=\"99.9375\"/></a><!--MD5=[1dd1bfd58a279cf63c5f349dbc8fc6a1]\n",
       "class E11--><a href=\"psysml:05fe5b10-94f9-4e9a-a85e-b113c36136a8\" target=\"_top\" title=\"psysml:05fe5b10-94f9-4e9a-a85e-b113c36136a8\" xlink:actuate=\"onRequest\" xlink:href=\"psysml:05fe5b10-94f9-4e9a-a85e-b113c36136a8\" xlink:show=\"new\" xlink:title=\"psysml:05fe5b10-94f9-4e9a-a85e-b113c36136a8\" xlink:type=\"simple\"><rect fill=\"#FFFFFF\" height=\"88.3516\" id=\"E11\" style=\"stroke: #383838; stroke-width: 1.5;\" width=\"95\" x=\"32.5\" y=\"41\"/><text fill=\"#000000\" font-family=\"sans-serif\" font-size=\"12\" font-style=\"italic\" lengthAdjust=\"spacingAndGlyphs\" textLength=\"93\" x=\"33.5\" y=\"57.1387\">«attribute def»</text><text fill=\"#000000\" font-family=\"sans-serif\" font-size=\"12\" lengthAdjust=\"spacingAndGlyphs\" textLength=\"8\" x=\"76\" y=\"71.1074\">A</text><line style=\"stroke: #383838; stroke-width: 1.5;\" x1=\"33.5\" x2=\"126.5\" y1=\"78.9375\" y2=\"78.9375\"/><text fill=\"#000000\" font-family=\"sans-serif\" font-size=\"11\" lengthAdjust=\"spacingAndGlyphs\" textLength=\"51\" x=\"38.5\" y=\"109.9526\">i: Integer</text><text fill=\"#000000\" font-family=\"sans-serif\" font-size=\"11\" lengthAdjust=\"spacingAndGlyphs\" textLength=\"21\" x=\"38.5\" y=\"122.7573\">x: A</text><line style=\"stroke: #383838; stroke-width: 1.0;\" x1=\"33.5\" x2=\"52.5\" y1=\"93.3398\" y2=\"93.3398\"/><text fill=\"#000000\" font-family=\"sans-serif\" font-size=\"11\" lengthAdjust=\"spacingAndGlyphs\" textLength=\"55\" x=\"52.5\" y=\"96.6479\">attributes</text><line style=\"stroke: #383838; stroke-width: 1.0;\" x1=\"107.5\" x2=\"126.5\" y1=\"93.3398\" y2=\"93.3398\"/></a><!--MD5=[15ebcb19ae302d9b601edb458606d402]\n",
       "link E5 to E2--><a href=\"psysml:b71e192f-5f45-432d-9454-4642818dbb88\" target=\"_top\" title=\"psysml:b71e192f-5f45-432d-9454-4642818dbb88\" xlink:actuate=\"onRequest\" xlink:href=\"psysml:b71e192f-5f45-432d-9454-4642818dbb88\" xlink:show=\"new\" xlink:title=\"psysml:b71e192f-5f45-432d-9454-4642818dbb88\" xlink:type=\"simple\"><path d=\"M562.12,108.06 C556.83,125 549.38,148.89 542.98,169.39 \" fill=\"none\" id=\"E5-&gt;E2\" style=\"stroke: #383838; stroke-width: 1.0;\"/><polygon fill=\"#FFFFFF\" points=\"536.95,188.74,535.929,168.5173,549.2931,172.6886,536.95,188.74\" style=\"stroke: #383838; stroke-width: 1.0;\"/><ellipse cx=\"539.5364\" cy=\"163.6721\" fill=\"#383838\" rx=\"2\" ry=\"2\" style=\"stroke: #383838; stroke-width: 1.0;\"/><ellipse cx=\"549.0823\" cy=\"166.6516\" fill=\"#383838\" rx=\"2\" ry=\"2\" style=\"stroke: #383838; stroke-width: 1.0;\"/></a><!--MD5=[2351f337d6de0f557b50152ba70847b5]\n",
       "link E6 to E2--><a href=\"psysml:173d30e4-d568-4354-a9e9-bb0668964c70\" target=\"_top\" title=\"psysml:173d30e4-d568-4354-a9e9-bb0668964c70\" xlink:actuate=\"onRequest\" xlink:href=\"psysml:173d30e4-d568-4354-a9e9-bb0668964c70\" xlink:show=\"new\" xlink:title=\"psysml:173d30e4-d568-4354-a9e9-bb0668964c70\" xlink:type=\"simple\"><path d=\"M498.71,108.06 C503.86,125 511.12,148.89 517.35,169.39 \" fill=\"none\" id=\"E6-&gt;E2\" style=\"stroke: #383838; stroke-width: 1.0;\"/><polygon fill=\"#FFFFFF\" points=\"523.23,188.74,511.007,172.597,524.4019,168.5255,523.23,188.74\" style=\"stroke: #383838; stroke-width: 1.0;\"/><ellipse cx=\"511.2628\" cy=\"166.5617\" fill=\"#383838\" rx=\"2\" ry=\"2\" style=\"stroke: #383838; stroke-width: 1.0;\"/><ellipse cx=\"520.8306\" cy=\"163.6535\" fill=\"#383838\" rx=\"2\" ry=\"2\" style=\"stroke: #383838; stroke-width: 1.0;\"/></a><!--MD5=[f5f919328a98c209308c5ed856bc9cc3]\n",
       "@startuml\r\n",
       "skinparam linetype polyline\r\n",
       "skinparam monochrome true\r\n",
       "skinparam classbackgroundcolor white\r\n",
       "skinparam shadowing false\r\n",
       "skinparam wrapWidth 300\r\n",
       "hide circle\r\n",
       "\r\n",
       "package \"MultiplicityTest\" as E1  [[psysml:c0f24ad0-fe84-484c-92fb-1b0594d1e479 ]]  {\r\n",
       "comp def \"P\" as E2  <<(T,blue) part def>> [[psysml:987e5bc7-b02a-416d-86c6-8545bfa90ef5 ]] {\r\n",
       "}\r\n",
       "comp usage \"n: Integer\" as E3  <<(T,blue) attribute>> [[psysml:7c23d281-2047-4d33-b5ff-31ab75cdc741 ]] {\r\n",
       "}\r\n",
       "comp usage \"a\" as E4  <<(T,blue) part>> [[psysml:dbbeb80c-41d4-4e5a-ae6b-125fea141b81 ]] {\r\n",
       "}\r\n",
       "comp usage \"b: P\" as E5  <<(T,blue) part>> [[psysml:1044b725-5886-488e-a280-d65b06b2678d ]] {\r\n",
       "}\r\n",
       "comp usage \"c: P\" as E6  <<(T,blue) part>> [[psysml:7163cac6-f89e-4c84-b72c-82ccdb232dd2 ]] {\r\n",
       "}\r\n",
       "comp usage \"d\" as E7  <<(T,blue) part>> [[psysml:79f72fcf-9cc7-42c6-886c-0c2f21f0aaa0 ]] {\r\n",
       "}\r\n",
       "comp usage \"e\" as E8  <<(T,blue) part>> [[psysml:7ad65eee-258f-4156-b8ec-39b80665cdbc ]] {\r\n",
       "}\r\n",
       "comp usage \"f\" as E9  <<(T,blue) part>> [[psysml:20b1d46d-edcb-44c0-8591-3bffd604b97a ]] {\r\n",
       "}\r\n",
       "comp usage \"g\" as E10  <<(T,blue) part>> [[psysml:25d96323-353d-45e6-96c8-f6353f2a6c2d ]] {\r\n",
       "}\r\n",
       "comp def \"A\" as E11  <<(T,blue) attribute def>> [[psysml:05fe5b10-94f9-4e9a-a85e-b113c36136a8 ]] {\r\n",
       "- - attributes - -\r\n",
       "i: Integer\r\n",
       "x: A\r\n",
       "}\r\n",
       "}\r\n",
       "E5 - -:|> E2 [[psysml:b71e192f-5f45-432d-9454-4642818dbb88 ]] \r\n",
       "E6 - -:|> E2 [[psysml:173d30e4-d568-4354-a9e9-bb0668964c70 ]] \r\n",
       "@enduml\r\n",
       "\n",
       "PlantUML version 1.2020.13(Sat Jun 13 12:26:38 UTC 2020)\n",
       "(EPL source distribution)\n",
       "Java Runtime: OpenJDK Runtime Environment\n",
       "JVM: OpenJDK 64-Bit Server VM\n",
       "Default Encoding: UTF-8\n",
       "Language: en\n",
       "Country: null\n",
       "--></g></svg>"
      ]
     },
     "execution_count": 9,
     "metadata": {},
     "output_type": "execute_result"
    }
   ],
   "source": [
    "%viz --style=\"POLYLINE\" --view=\"Default\" \"MultiplicityTest\""
   ]
  },
  {
   "cell_type": "code",
   "execution_count": 10,
   "id": "60f7cdf2",
   "metadata": {
    "execution": {
     "iopub.execute_input": "2021-09-27T07:19:17.266109Z",
     "iopub.status.busy": "2021-09-27T07:19:17.265481Z",
     "iopub.status.idle": "2021-09-27T07:19:17.338142Z",
     "shell.execute_reply": "2021-09-27T07:19:17.337748Z"
    }
   },
   "outputs": [
    {
     "data": {
      "image/svg+xml": [
       "<?xml version=\"1.0\" encoding=\"UTF-8\" standalone=\"no\"?><svg xmlns=\"http://www.w3.org/2000/svg\" xmlns:xlink=\"http://www.w3.org/1999/xlink\" contentScriptType=\"application/ecmascript\" contentStyleType=\"text/css\" height=\"263px\" preserveAspectRatio=\"none\" style=\"width:812px;height:263px;\" version=\"1.1\" viewBox=\"0 0 812 263\" width=\"812px\" zoomAndPan=\"magnify\"><defs/><g><!--MD5=[fbc87193dbaf4d95561dea2c320d4a47]\n",
       "cluster E1--><a href=\"psysml:c0f24ad0-fe84-484c-92fb-1b0594d1e479\" target=\"_top\" title=\"psysml:c0f24ad0-fe84-484c-92fb-1b0594d1e479\" xlink:actuate=\"onRequest\" xlink:href=\"psysml:c0f24ad0-fe84-484c-92fb-1b0594d1e479\" xlink:show=\"new\" xlink:title=\"psysml:c0f24ad0-fe84-484c-92fb-1b0594d1e479\" xlink:type=\"simple\"><polygon fill=\"#FFFFFF\" points=\"16,6,123,6,130,28.2969,790,28.2969,790,251,16,251,16,6\" style=\"stroke: #000000; stroke-width: 1.5;\"/><line style=\"stroke: #000000; stroke-width: 1.5;\" x1=\"16\" x2=\"130\" y1=\"28.2969\" y2=\"28.2969\"/><text fill=\"#000000\" font-family=\"sans-serif\" font-size=\"14\" font-weight=\"bold\" lengthAdjust=\"spacingAndGlyphs\" textLength=\"101\" x=\"20\" y=\"20.9951\">MultiplicityTest</text></a><!--MD5=[b4997ac47864f28c2f74865a473b2911]\n",
       "class E2--><a href=\"psysml:987e5bc7-b02a-416d-86c6-8545bfa90ef5\" target=\"_top\" title=\"psysml:987e5bc7-b02a-416d-86c6-8545bfa90ef5\" xlink:actuate=\"onRequest\" xlink:href=\"psysml:987e5bc7-b02a-416d-86c6-8545bfa90ef5\" xlink:show=\"new\" xlink:title=\"psysml:987e5bc7-b02a-416d-86c6-8545bfa90ef5\" xlink:type=\"simple\"><rect fill=\"#FFFFFF\" height=\"45.9375\" id=\"E2\" style=\"stroke: #383838; stroke-width: 1.5;\" width=\"66\" x=\"497\" y=\"189\"/><text fill=\"#000000\" font-family=\"sans-serif\" font-size=\"12\" font-style=\"italic\" lengthAdjust=\"spacingAndGlyphs\" textLength=\"64\" x=\"498\" y=\"205.1387\">«part def»</text><text fill=\"#000000\" font-family=\"sans-serif\" font-size=\"12\" lengthAdjust=\"spacingAndGlyphs\" textLength=\"8\" x=\"526\" y=\"219.1074\">P</text><line style=\"stroke: #383838; stroke-width: 1.5;\" x1=\"498\" x2=\"562\" y1=\"226.9375\" y2=\"226.9375\"/></a><!--MD5=[09b614a08d8cba4a07c9adeb5e0fee81]\n",
       "class E3--><a href=\"psysml:7c23d281-2047-4d33-b5ff-31ab75cdc741\" target=\"_top\" title=\"psysml:7c23d281-2047-4d33-b5ff-31ab75cdc741\" xlink:actuate=\"onRequest\" xlink:href=\"psysml:7c23d281-2047-4d33-b5ff-31ab75cdc741\" xlink:show=\"new\" xlink:title=\"psysml:7c23d281-2047-4d33-b5ff-31ab75cdc741\" xlink:type=\"simple\"><rect fill=\"#FFFFFF\" height=\"45.9375\" id=\"E3\" rx=\"10\" ry=\"10\" style=\"stroke: #383838; stroke-width: 1.5;\" width=\"71\" x=\"702.5\" y=\"62\"/><text fill=\"#000000\" font-family=\"sans-serif\" font-size=\"12\" font-style=\"italic\" lengthAdjust=\"spacingAndGlyphs\" textLength=\"69\" x=\"703.5\" y=\"78.1387\">«attribute»</text><text fill=\"#000000\" font-family=\"sans-serif\" font-size=\"12\" lengthAdjust=\"spacingAndGlyphs\" textLength=\"61\" x=\"707.5\" y=\"92.1074\">n: Integer</text><line style=\"stroke: #383838; stroke-width: 1.5;\" x1=\"703.5\" x2=\"772.5\" y1=\"99.9375\" y2=\"99.9375\"/></a><!--MD5=[ebbe1d658d1005bcc118a6aa81145e00]\n",
       "class E4--><a href=\"psysml:dbbeb80c-41d4-4e5a-ae6b-125fea141b81\" target=\"_top\" title=\"psysml:dbbeb80c-41d4-4e5a-ae6b-125fea141b81\" xlink:actuate=\"onRequest\" xlink:href=\"psysml:dbbeb80c-41d4-4e5a-ae6b-125fea141b81\" xlink:show=\"new\" xlink:title=\"psysml:dbbeb80c-41d4-4e5a-ae6b-125fea141b81\" xlink:type=\"simple\"><rect fill=\"#FFFFFF\" height=\"45.9375\" id=\"E4\" rx=\"10\" ry=\"10\" style=\"stroke: #383838; stroke-width: 1.5;\" width=\"42\" x=\"625\" y=\"62\"/><text fill=\"#000000\" font-family=\"sans-serif\" font-size=\"12\" font-style=\"italic\" lengthAdjust=\"spacingAndGlyphs\" textLength=\"40\" x=\"626\" y=\"78.1387\">«part»</text><text fill=\"#000000\" font-family=\"sans-serif\" font-size=\"12\" lengthAdjust=\"spacingAndGlyphs\" textLength=\"8\" x=\"642\" y=\"92.1074\">a</text><line style=\"stroke: #383838; stroke-width: 1.5;\" x1=\"626\" x2=\"666\" y1=\"99.9375\" y2=\"99.9375\"/></a><!--MD5=[270fce915f116d4de14055a7c1d9a0f3]\n",
       "class E5--><a href=\"psysml:1044b725-5886-488e-a280-d65b06b2678d\" target=\"_top\" title=\"psysml:1044b725-5886-488e-a280-d65b06b2678d\" xlink:actuate=\"onRequest\" xlink:href=\"psysml:1044b725-5886-488e-a280-d65b06b2678d\" xlink:show=\"new\" xlink:title=\"psysml:1044b725-5886-488e-a280-d65b06b2678d\" xlink:type=\"simple\"><rect fill=\"#FFFFFF\" height=\"45.9375\" id=\"E5\" rx=\"10\" ry=\"10\" style=\"stroke: #383838; stroke-width: 1.5;\" width=\"42\" x=\"548\" y=\"62\"/><text fill=\"#000000\" font-family=\"sans-serif\" font-size=\"12\" font-style=\"italic\" lengthAdjust=\"spacingAndGlyphs\" textLength=\"40\" x=\"549\" y=\"78.1387\">«part»</text><text fill=\"#000000\" font-family=\"sans-serif\" font-size=\"12\" lengthAdjust=\"spacingAndGlyphs\" textLength=\"24\" x=\"557\" y=\"92.1074\">b: P</text><line style=\"stroke: #383838; stroke-width: 1.5;\" x1=\"549\" x2=\"589\" y1=\"99.9375\" y2=\"99.9375\"/></a><!--MD5=[60a26617385b1d2d0262a64233df1f8d]\n",
       "class E6--><a href=\"psysml:7163cac6-f89e-4c84-b72c-82ccdb232dd2\" target=\"_top\" title=\"psysml:7163cac6-f89e-4c84-b72c-82ccdb232dd2\" xlink:actuate=\"onRequest\" xlink:href=\"psysml:7163cac6-f89e-4c84-b72c-82ccdb232dd2\" xlink:show=\"new\" xlink:title=\"psysml:7163cac6-f89e-4c84-b72c-82ccdb232dd2\" xlink:type=\"simple\"><rect fill=\"#FFFFFF\" height=\"45.9375\" id=\"E6\" rx=\"10\" ry=\"10\" style=\"stroke: #383838; stroke-width: 1.5;\" width=\"42\" x=\"471\" y=\"62\"/><text fill=\"#000000\" font-family=\"sans-serif\" font-size=\"12\" font-style=\"italic\" lengthAdjust=\"spacingAndGlyphs\" textLength=\"40\" x=\"472\" y=\"78.1387\">«part»</text><text fill=\"#000000\" font-family=\"sans-serif\" font-size=\"12\" lengthAdjust=\"spacingAndGlyphs\" textLength=\"23\" x=\"480.5\" y=\"92.1074\">c: P</text><line style=\"stroke: #383838; stroke-width: 1.5;\" x1=\"472\" x2=\"512\" y1=\"99.9375\" y2=\"99.9375\"/></a><!--MD5=[2156ba9850f5573cc1fc38a6a4b2f02b]\n",
       "class E7--><a href=\"psysml:79f72fcf-9cc7-42c6-886c-0c2f21f0aaa0\" target=\"_top\" title=\"psysml:79f72fcf-9cc7-42c6-886c-0c2f21f0aaa0\" xlink:actuate=\"onRequest\" xlink:href=\"psysml:79f72fcf-9cc7-42c6-886c-0c2f21f0aaa0\" xlink:show=\"new\" xlink:title=\"psysml:79f72fcf-9cc7-42c6-886c-0c2f21f0aaa0\" xlink:type=\"simple\"><rect fill=\"#FFFFFF\" height=\"45.9375\" id=\"E7\" rx=\"10\" ry=\"10\" style=\"stroke: #383838; stroke-width: 1.5;\" width=\"42\" x=\"394\" y=\"62\"/><text fill=\"#000000\" font-family=\"sans-serif\" font-size=\"12\" font-style=\"italic\" lengthAdjust=\"spacingAndGlyphs\" textLength=\"40\" x=\"395\" y=\"78.1387\">«part»</text><text fill=\"#000000\" font-family=\"sans-serif\" font-size=\"12\" lengthAdjust=\"spacingAndGlyphs\" textLength=\"8\" x=\"411\" y=\"92.1074\">d</text><line style=\"stroke: #383838; stroke-width: 1.5;\" x1=\"395\" x2=\"435\" y1=\"99.9375\" y2=\"99.9375\"/></a><!--MD5=[b9389687b975829384b498ac4b7476b2]\n",
       "class E8--><a href=\"psysml:7ad65eee-258f-4156-b8ec-39b80665cdbc\" target=\"_top\" title=\"psysml:7ad65eee-258f-4156-b8ec-39b80665cdbc\" xlink:actuate=\"onRequest\" xlink:href=\"psysml:7ad65eee-258f-4156-b8ec-39b80665cdbc\" xlink:show=\"new\" xlink:title=\"psysml:7ad65eee-258f-4156-b8ec-39b80665cdbc\" xlink:type=\"simple\"><rect fill=\"#FFFFFF\" height=\"45.9375\" id=\"E8\" rx=\"10\" ry=\"10\" style=\"stroke: #383838; stroke-width: 1.5;\" width=\"42\" x=\"317\" y=\"62\"/><text fill=\"#000000\" font-family=\"sans-serif\" font-size=\"12\" font-style=\"italic\" lengthAdjust=\"spacingAndGlyphs\" textLength=\"40\" x=\"318\" y=\"78.1387\">«part»</text><text fill=\"#000000\" font-family=\"sans-serif\" font-size=\"12\" lengthAdjust=\"spacingAndGlyphs\" textLength=\"8\" x=\"334\" y=\"92.1074\">e</text><line style=\"stroke: #383838; stroke-width: 1.5;\" x1=\"318\" x2=\"358\" y1=\"99.9375\" y2=\"99.9375\"/></a><!--MD5=[fd4143e9d270a159db93a4ea2a975926]\n",
       "class E9--><a href=\"psysml:20b1d46d-edcb-44c0-8591-3bffd604b97a\" target=\"_top\" title=\"psysml:20b1d46d-edcb-44c0-8591-3bffd604b97a\" xlink:actuate=\"onRequest\" xlink:href=\"psysml:20b1d46d-edcb-44c0-8591-3bffd604b97a\" xlink:show=\"new\" xlink:title=\"psysml:20b1d46d-edcb-44c0-8591-3bffd604b97a\" xlink:type=\"simple\"><rect fill=\"#FFFFFF\" height=\"45.9375\" id=\"E9\" rx=\"10\" ry=\"10\" style=\"stroke: #383838; stroke-width: 1.5;\" width=\"42\" x=\"240\" y=\"62\"/><text fill=\"#000000\" font-family=\"sans-serif\" font-size=\"12\" font-style=\"italic\" lengthAdjust=\"spacingAndGlyphs\" textLength=\"40\" x=\"241\" y=\"78.1387\">«part»</text><text fill=\"#000000\" font-family=\"sans-serif\" font-size=\"12\" lengthAdjust=\"spacingAndGlyphs\" textLength=\"4\" x=\"259\" y=\"92.1074\">f</text><line style=\"stroke: #383838; stroke-width: 1.5;\" x1=\"241\" x2=\"281\" y1=\"99.9375\" y2=\"99.9375\"/></a><!--MD5=[96f4274e9e20536e775497830990834d]\n",
       "class E10--><a href=\"psysml:25d96323-353d-45e6-96c8-f6353f2a6c2d\" target=\"_top\" title=\"psysml:25d96323-353d-45e6-96c8-f6353f2a6c2d\" xlink:actuate=\"onRequest\" xlink:href=\"psysml:25d96323-353d-45e6-96c8-f6353f2a6c2d\" xlink:show=\"new\" xlink:title=\"psysml:25d96323-353d-45e6-96c8-f6353f2a6c2d\" xlink:type=\"simple\"><rect fill=\"#FFFFFF\" height=\"45.9375\" id=\"E10\" rx=\"10\" ry=\"10\" style=\"stroke: #383838; stroke-width: 1.5;\" width=\"42\" x=\"163\" y=\"62\"/><text fill=\"#000000\" font-family=\"sans-serif\" font-size=\"12\" font-style=\"italic\" lengthAdjust=\"spacingAndGlyphs\" textLength=\"40\" x=\"164\" y=\"78.1387\">«part»</text><text fill=\"#000000\" font-family=\"sans-serif\" font-size=\"12\" lengthAdjust=\"spacingAndGlyphs\" textLength=\"8\" x=\"180\" y=\"92.1074\">g</text><line style=\"stroke: #383838; stroke-width: 1.5;\" x1=\"164\" x2=\"204\" y1=\"99.9375\" y2=\"99.9375\"/></a><!--MD5=[1dd1bfd58a279cf63c5f349dbc8fc6a1]\n",
       "class E11--><a href=\"psysml:05fe5b10-94f9-4e9a-a85e-b113c36136a8\" target=\"_top\" title=\"psysml:05fe5b10-94f9-4e9a-a85e-b113c36136a8\" xlink:actuate=\"onRequest\" xlink:href=\"psysml:05fe5b10-94f9-4e9a-a85e-b113c36136a8\" xlink:show=\"new\" xlink:title=\"psysml:05fe5b10-94f9-4e9a-a85e-b113c36136a8\" xlink:type=\"simple\"><rect fill=\"#FFFFFF\" height=\"88.3516\" id=\"E11\" style=\"stroke: #383838; stroke-width: 1.5;\" width=\"95\" x=\"32.5\" y=\"41\"/><text fill=\"#000000\" font-family=\"sans-serif\" font-size=\"12\" font-style=\"italic\" lengthAdjust=\"spacingAndGlyphs\" textLength=\"93\" x=\"33.5\" y=\"57.1387\">«attribute def»</text><text fill=\"#000000\" font-family=\"sans-serif\" font-size=\"12\" lengthAdjust=\"spacingAndGlyphs\" textLength=\"8\" x=\"76\" y=\"71.1074\">A</text><line style=\"stroke: #383838; stroke-width: 1.5;\" x1=\"33.5\" x2=\"126.5\" y1=\"78.9375\" y2=\"78.9375\"/><text fill=\"#000000\" font-family=\"sans-serif\" font-size=\"11\" lengthAdjust=\"spacingAndGlyphs\" textLength=\"51\" x=\"38.5\" y=\"109.9526\">i: Integer</text><text fill=\"#000000\" font-family=\"sans-serif\" font-size=\"11\" lengthAdjust=\"spacingAndGlyphs\" textLength=\"21\" x=\"38.5\" y=\"122.7573\">x: A</text><line style=\"stroke: #383838; stroke-width: 1.0;\" x1=\"33.5\" x2=\"52.5\" y1=\"93.3398\" y2=\"93.3398\"/><text fill=\"#000000\" font-family=\"sans-serif\" font-size=\"11\" lengthAdjust=\"spacingAndGlyphs\" textLength=\"55\" x=\"52.5\" y=\"96.6479\">attributes</text><line style=\"stroke: #383838; stroke-width: 1.0;\" x1=\"107.5\" x2=\"126.5\" y1=\"93.3398\" y2=\"93.3398\"/></a><!--MD5=[15ebcb19ae302d9b601edb458606d402]\n",
       "link E5 to E2--><a href=\"psysml:b71e192f-5f45-432d-9454-4642818dbb88\" target=\"_top\" title=\"psysml:b71e192f-5f45-432d-9454-4642818dbb88\" xlink:actuate=\"onRequest\" xlink:href=\"psysml:b71e192f-5f45-432d-9454-4642818dbb88\" xlink:show=\"new\" xlink:title=\"psysml:b71e192f-5f45-432d-9454-4642818dbb88\" xlink:type=\"simple\"><path d=\"M562.12,108.06 C556.83,125 549.38,148.89 542.98,169.39 \" fill=\"none\" id=\"E5-&gt;E2\" style=\"stroke: #383838; stroke-width: 1.0;\"/><polygon fill=\"#FFFFFF\" points=\"536.95,188.74,535.929,168.5173,549.2931,172.6886,536.95,188.74\" style=\"stroke: #383838; stroke-width: 1.0;\"/><ellipse cx=\"539.5364\" cy=\"163.6721\" fill=\"#383838\" rx=\"2\" ry=\"2\" style=\"stroke: #383838; stroke-width: 1.0;\"/><ellipse cx=\"549.0823\" cy=\"166.6516\" fill=\"#383838\" rx=\"2\" ry=\"2\" style=\"stroke: #383838; stroke-width: 1.0;\"/></a><!--MD5=[2351f337d6de0f557b50152ba70847b5]\n",
       "link E6 to E2--><a href=\"psysml:173d30e4-d568-4354-a9e9-bb0668964c70\" target=\"_top\" title=\"psysml:173d30e4-d568-4354-a9e9-bb0668964c70\" xlink:actuate=\"onRequest\" xlink:href=\"psysml:173d30e4-d568-4354-a9e9-bb0668964c70\" xlink:show=\"new\" xlink:title=\"psysml:173d30e4-d568-4354-a9e9-bb0668964c70\" xlink:type=\"simple\"><path d=\"M498.71,108.06 C503.86,125 511.12,148.89 517.35,169.39 \" fill=\"none\" id=\"E6-&gt;E2\" style=\"stroke: #383838; stroke-width: 1.0;\"/><polygon fill=\"#FFFFFF\" points=\"523.23,188.74,511.007,172.597,524.4019,168.5255,523.23,188.74\" style=\"stroke: #383838; stroke-width: 1.0;\"/><ellipse cx=\"511.2628\" cy=\"166.5617\" fill=\"#383838\" rx=\"2\" ry=\"2\" style=\"stroke: #383838; stroke-width: 1.0;\"/><ellipse cx=\"520.8306\" cy=\"163.6535\" fill=\"#383838\" rx=\"2\" ry=\"2\" style=\"stroke: #383838; stroke-width: 1.0;\"/></a><!--MD5=[f5f919328a98c209308c5ed856bc9cc3]\n",
       "@startuml\r\n",
       "skinparam linetype polyline\r\n",
       "skinparam monochrome true\r\n",
       "skinparam classbackgroundcolor white\r\n",
       "skinparam shadowing false\r\n",
       "skinparam wrapWidth 300\r\n",
       "hide circle\r\n",
       "\r\n",
       "package \"MultiplicityTest\" as E1  [[psysml:c0f24ad0-fe84-484c-92fb-1b0594d1e479 ]]  {\r\n",
       "comp def \"P\" as E2  <<(T,blue) part def>> [[psysml:987e5bc7-b02a-416d-86c6-8545bfa90ef5 ]] {\r\n",
       "}\r\n",
       "comp usage \"n: Integer\" as E3  <<(T,blue) attribute>> [[psysml:7c23d281-2047-4d33-b5ff-31ab75cdc741 ]] {\r\n",
       "}\r\n",
       "comp usage \"a\" as E4  <<(T,blue) part>> [[psysml:dbbeb80c-41d4-4e5a-ae6b-125fea141b81 ]] {\r\n",
       "}\r\n",
       "comp usage \"b: P\" as E5  <<(T,blue) part>> [[psysml:1044b725-5886-488e-a280-d65b06b2678d ]] {\r\n",
       "}\r\n",
       "comp usage \"c: P\" as E6  <<(T,blue) part>> [[psysml:7163cac6-f89e-4c84-b72c-82ccdb232dd2 ]] {\r\n",
       "}\r\n",
       "comp usage \"d\" as E7  <<(T,blue) part>> [[psysml:79f72fcf-9cc7-42c6-886c-0c2f21f0aaa0 ]] {\r\n",
       "}\r\n",
       "comp usage \"e\" as E8  <<(T,blue) part>> [[psysml:7ad65eee-258f-4156-b8ec-39b80665cdbc ]] {\r\n",
       "}\r\n",
       "comp usage \"f\" as E9  <<(T,blue) part>> [[psysml:20b1d46d-edcb-44c0-8591-3bffd604b97a ]] {\r\n",
       "}\r\n",
       "comp usage \"g\" as E10  <<(T,blue) part>> [[psysml:25d96323-353d-45e6-96c8-f6353f2a6c2d ]] {\r\n",
       "}\r\n",
       "comp def \"A\" as E11  <<(T,blue) attribute def>> [[psysml:05fe5b10-94f9-4e9a-a85e-b113c36136a8 ]] {\r\n",
       "- - attributes - -\r\n",
       "i: Integer\r\n",
       "x: A\r\n",
       "}\r\n",
       "}\r\n",
       "E5 - -:|> E2 [[psysml:b71e192f-5f45-432d-9454-4642818dbb88 ]] \r\n",
       "E6 - -:|> E2 [[psysml:173d30e4-d568-4354-a9e9-bb0668964c70 ]] \r\n",
       "@enduml\r\n",
       "\n",
       "PlantUML version 1.2020.13(Sat Jun 13 12:26:38 UTC 2020)\n",
       "(EPL source distribution)\n",
       "Java Runtime: OpenJDK Runtime Environment\n",
       "JVM: OpenJDK 64-Bit Server VM\n",
       "Default Encoding: UTF-8\n",
       "Language: en\n",
       "Country: null\n",
       "--></g></svg>"
      ]
     },
     "execution_count": 10,
     "metadata": {},
     "output_type": "execute_result"
    }
   ],
   "source": [
    "%viz --style=\"POLYLINE\" --view=\"Tree\" \"MultiplicityTest\""
   ]
  },
  {
   "cell_type": "code",
   "execution_count": 11,
   "id": "2b0a0dc5",
   "metadata": {
    "execution": {
     "iopub.execute_input": "2021-09-27T07:19:17.388188Z",
     "iopub.status.busy": "2021-09-27T07:19:17.387727Z",
     "iopub.status.idle": "2021-09-27T07:19:17.394141Z",
     "shell.execute_reply": "2021-09-27T07:19:17.394477Z"
    }
   },
   "outputs": [
    {
     "data": {
      "image/svg+xml": [
       "<?xml version=\"1.0\" encoding=\"UTF-8\" standalone=\"no\"?><svg xmlns=\"http://www.w3.org/2000/svg\" xmlns:xlink=\"http://www.w3.org/1999/xlink\" contentScriptType=\"application/ecmascript\" contentStyleType=\"text/css\" height=\"12px\" preserveAspectRatio=\"none\" style=\"width:12px;height:12px;\" version=\"1.1\" viewBox=\"0 0 12 12\" width=\"12px\" zoomAndPan=\"magnify\"><defs/><g><!--MD5=[896ac0e7a515d8dd7765a661cb4ee08b]\n",
       "@startuml\r\n",
       "skinparam linetype polyline\r\n",
       "skinparam monochrome true\r\n",
       "skinparam classbackgroundcolor white\r\n",
       "skinparam shadowing false\r\n",
       "skinparam wrapWidth 300\r\n",
       "hide circle\r\n",
       "\r\n",
       "@enduml\r\n",
       "\n",
       "PlantUML version 1.2020.13(Sat Jun 13 12:26:38 UTC 2020)\n",
       "(EPL source distribution)\n",
       "Java Runtime: OpenJDK Runtime Environment\n",
       "JVM: OpenJDK 64-Bit Server VM\n",
       "Default Encoding: UTF-8\n",
       "Language: en\n",
       "Country: null\n",
       "--></g></svg>"
      ]
     },
     "execution_count": 11,
     "metadata": {},
     "output_type": "execute_result"
    }
   ],
   "source": [
    "%viz --style=\"POLYLINE\" --view=\"State\" \"MultiplicityTest\""
   ]
  },
  {
   "cell_type": "code",
   "execution_count": 12,
   "id": "58e95b9c",
   "metadata": {
    "execution": {
     "iopub.execute_input": "2021-09-27T07:19:17.444459Z",
     "iopub.status.busy": "2021-09-27T07:19:17.444028Z",
     "iopub.status.idle": "2021-09-27T07:19:17.480595Z",
     "shell.execute_reply": "2021-09-27T07:19:17.480226Z"
    }
   },
   "outputs": [
    {
     "data": {
      "image/svg+xml": [
       "<?xml version=\"1.0\" encoding=\"UTF-8\" standalone=\"no\"?><svg xmlns=\"http://www.w3.org/2000/svg\" xmlns:xlink=\"http://www.w3.org/1999/xlink\" contentScriptType=\"application/ecmascript\" contentStyleType=\"text/css\" height=\"115px\" preserveAspectRatio=\"none\" style=\"width:979px;height:115px;\" version=\"1.1\" viewBox=\"0 0 979 115\" width=\"979px\" zoomAndPan=\"magnify\"><defs/><g><!--MD5=[fbc87193dbaf4d95561dea2c320d4a47]\n",
       "cluster E1--><a href=\"psysml:c0f24ad0-fe84-484c-92fb-1b0594d1e479\" target=\"_top\" title=\"psysml:c0f24ad0-fe84-484c-92fb-1b0594d1e479\" xlink:actuate=\"onRequest\" xlink:href=\"psysml:c0f24ad0-fe84-484c-92fb-1b0594d1e479\" xlink:show=\"new\" xlink:title=\"psysml:c0f24ad0-fe84-484c-92fb-1b0594d1e479\" xlink:type=\"simple\"><polygon fill=\"#FFFFFF\" points=\"16,6,123,6,130,28.2969,957,28.2969,957,103,16,103,16,6\" style=\"stroke: #000000; stroke-width: 1.5;\"/><line style=\"stroke: #000000; stroke-width: 1.5;\" x1=\"16\" x2=\"130\" y1=\"28.2969\" y2=\"28.2969\"/><text fill=\"#000000\" font-family=\"sans-serif\" font-size=\"14\" font-weight=\"bold\" lengthAdjust=\"spacingAndGlyphs\" textLength=\"101\" x=\"20\" y=\"20.9951\">MultiplicityTest</text></a><!--MD5=[09b614a08d8cba4a07c9adeb5e0fee81]\n",
       "class E3--><a href=\"psysml:7c23d281-2047-4d33-b5ff-31ab75cdc741\" target=\"_top\" title=\"psysml:7c23d281-2047-4d33-b5ff-31ab75cdc741\" xlink:actuate=\"onRequest\" xlink:href=\"psysml:7c23d281-2047-4d33-b5ff-31ab75cdc741\" xlink:show=\"new\" xlink:title=\"psysml:7c23d281-2047-4d33-b5ff-31ab75cdc741\" xlink:type=\"simple\"><rect fill=\"#FFFFFF\" height=\"45.9375\" id=\"E3\" rx=\"10\" ry=\"10\" style=\"stroke: #383838; stroke-width: 1.5;\" width=\"71\" x=\"869.5\" y=\"41\"/><text fill=\"#000000\" font-family=\"sans-serif\" font-size=\"12\" font-style=\"italic\" lengthAdjust=\"spacingAndGlyphs\" textLength=\"69\" x=\"870.5\" y=\"57.1387\">«attribute»</text><text fill=\"#000000\" font-family=\"sans-serif\" font-size=\"12\" lengthAdjust=\"spacingAndGlyphs\" textLength=\"61\" x=\"874.5\" y=\"71.1074\">n: Integer</text><line style=\"stroke: #383838; stroke-width: 1.5;\" x1=\"870.5\" x2=\"939.5\" y1=\"78.9375\" y2=\"78.9375\"/></a><g id=\"E1.E11\"><a href=\"psysml:05fe5b10-94f9-4e9a-a85e-b113c36136a8\" target=\"_top\" title=\"psysml:05fe5b10-94f9-4e9a-a85e-b113c36136a8\" xlink:actuate=\"onRequest\" xlink:href=\"psysml:05fe5b10-94f9-4e9a-a85e-b113c36136a8\" xlink:show=\"new\" xlink:title=\"psysml:05fe5b10-94f9-4e9a-a85e-b113c36136a8\" xlink:type=\"simple\"><rect fill=\"#FFFFFF\" height=\"42.9375\" id=\"E11\" style=\"stroke: #383838; stroke-width: 1.5;\" width=\"100\" x=\"734\" y=\"42.5\"/><rect fill=\"#F8F8F8\" height=\"37.9375\" style=\"stroke: #383838; stroke-width: 1.5;\" width=\"100\" x=\"734\" y=\"42.5\"/><text fill=\"#000000\" font-family=\"sans-serif\" font-size=\"12\" font-style=\"italic\" lengthAdjust=\"spacingAndGlyphs\" textLength=\"93\" x=\"737.5\" y=\"58.6387\">«attribute def»</text><text fill=\"#000000\" font-family=\"sans-serif\" font-size=\"12\" lengthAdjust=\"spacingAndGlyphs\" textLength=\"8\" x=\"780\" y=\"72.6074\">A</text></a></g><g id=\"E1.E2\"><a href=\"psysml:987e5bc7-b02a-416d-86c6-8545bfa90ef5\" target=\"_top\" title=\"psysml:987e5bc7-b02a-416d-86c6-8545bfa90ef5\" xlink:actuate=\"onRequest\" xlink:href=\"psysml:987e5bc7-b02a-416d-86c6-8545bfa90ef5\" xlink:show=\"new\" xlink:title=\"psysml:987e5bc7-b02a-416d-86c6-8545bfa90ef5\" xlink:type=\"simple\"><rect fill=\"#FFFFFF\" height=\"42.9375\" id=\"E2\" style=\"stroke: #383838; stroke-width: 1.5;\" width=\"71\" x=\"627.5\" y=\"42.5\"/><rect fill=\"#F8F8F8\" height=\"37.9375\" style=\"stroke: #383838; stroke-width: 1.5;\" width=\"71\" x=\"627.5\" y=\"42.5\"/><text fill=\"#000000\" font-family=\"sans-serif\" font-size=\"12\" font-style=\"italic\" lengthAdjust=\"spacingAndGlyphs\" textLength=\"64\" x=\"631\" y=\"58.6387\">«part def»</text><text fill=\"#000000\" font-family=\"sans-serif\" font-size=\"12\" lengthAdjust=\"spacingAndGlyphs\" textLength=\"8\" x=\"659\" y=\"72.6074\">P</text></a></g><g id=\"E1.E4\"><a href=\"psysml:dbbeb80c-41d4-4e5a-ae6b-125fea141b81\" target=\"_top\" title=\"psysml:dbbeb80c-41d4-4e5a-ae6b-125fea141b81\" xlink:actuate=\"onRequest\" xlink:href=\"psysml:dbbeb80c-41d4-4e5a-ae6b-125fea141b81\" xlink:show=\"new\" xlink:title=\"psysml:dbbeb80c-41d4-4e5a-ae6b-125fea141b81\" xlink:type=\"simple\"><rect fill=\"#FFFFFF\" height=\"40\" id=\"E4\" rx=\"10\" ry=\"10\" style=\"stroke: #383838; stroke-width: 1.5;\" width=\"50\" x=\"542\" y=\"44\"/><rect fill=\"#F8F8F8\" height=\"23.9688\" rx=\"10\" ry=\"10\" style=\"stroke: #F8F8F8; stroke-width: 1.5;\" width=\"50\" x=\"542\" y=\"44\"/><rect fill=\"#F8F8F8\" height=\"10\" style=\"stroke: #F8F8F8; stroke-width: 1.5;\" width=\"50\" x=\"542\" y=\"57.9688\"/><rect fill=\"none\" height=\"40\" id=\"E4\" rx=\"10\" ry=\"10\" style=\"stroke: #383838; stroke-width: 1.5;\" width=\"50\" x=\"542\" y=\"44\"/><text fill=\"#000000\" font-family=\"sans-serif\" font-size=\"12\" lengthAdjust=\"spacingAndGlyphs\" textLength=\"8\" x=\"563\" y=\"60.1387\">a</text></a></g><g id=\"E1.E5\"><a href=\"psysml:1044b725-5886-488e-a280-d65b06b2678d\" target=\"_top\" title=\"psysml:1044b725-5886-488e-a280-d65b06b2678d\" xlink:actuate=\"onRequest\" xlink:href=\"psysml:1044b725-5886-488e-a280-d65b06b2678d\" xlink:show=\"new\" xlink:title=\"psysml:1044b725-5886-488e-a280-d65b06b2678d\" xlink:type=\"simple\"><rect fill=\"#FFFFFF\" height=\"40\" id=\"E5\" rx=\"10\" ry=\"10\" style=\"stroke: #383838; stroke-width: 1.5;\" width=\"50\" x=\"457\" y=\"44\"/><rect fill=\"#F8F8F8\" height=\"23.9688\" rx=\"10\" ry=\"10\" style=\"stroke: #F8F8F8; stroke-width: 1.5;\" width=\"50\" x=\"457\" y=\"44\"/><rect fill=\"#F8F8F8\" height=\"10\" style=\"stroke: #F8F8F8; stroke-width: 1.5;\" width=\"50\" x=\"457\" y=\"57.9688\"/><rect fill=\"none\" height=\"40\" id=\"E5\" rx=\"10\" ry=\"10\" style=\"stroke: #383838; stroke-width: 1.5;\" width=\"50\" x=\"457\" y=\"44\"/><text fill=\"#000000\" font-family=\"sans-serif\" font-size=\"12\" lengthAdjust=\"spacingAndGlyphs\" textLength=\"24\" x=\"470\" y=\"60.1387\">b: P</text></a></g><g id=\"E1.E6\"><a href=\"psysml:7163cac6-f89e-4c84-b72c-82ccdb232dd2\" target=\"_top\" title=\"psysml:7163cac6-f89e-4c84-b72c-82ccdb232dd2\" xlink:actuate=\"onRequest\" xlink:href=\"psysml:7163cac6-f89e-4c84-b72c-82ccdb232dd2\" xlink:show=\"new\" xlink:title=\"psysml:7163cac6-f89e-4c84-b72c-82ccdb232dd2\" xlink:type=\"simple\"><rect fill=\"#FFFFFF\" height=\"40\" id=\"E6\" rx=\"10\" ry=\"10\" style=\"stroke: #383838; stroke-width: 1.5;\" width=\"50\" x=\"372\" y=\"44\"/><rect fill=\"#F8F8F8\" height=\"23.9688\" rx=\"10\" ry=\"10\" style=\"stroke: #F8F8F8; stroke-width: 1.5;\" width=\"50\" x=\"372\" y=\"44\"/><rect fill=\"#F8F8F8\" height=\"10\" style=\"stroke: #F8F8F8; stroke-width: 1.5;\" width=\"50\" x=\"372\" y=\"57.9688\"/><rect fill=\"none\" height=\"40\" id=\"E6\" rx=\"10\" ry=\"10\" style=\"stroke: #383838; stroke-width: 1.5;\" width=\"50\" x=\"372\" y=\"44\"/><text fill=\"#000000\" font-family=\"sans-serif\" font-size=\"12\" lengthAdjust=\"spacingAndGlyphs\" textLength=\"23\" x=\"385.5\" y=\"60.1387\">c: P</text></a></g><g id=\"E1.E7\"><a href=\"psysml:79f72fcf-9cc7-42c6-886c-0c2f21f0aaa0\" target=\"_top\" title=\"psysml:79f72fcf-9cc7-42c6-886c-0c2f21f0aaa0\" xlink:actuate=\"onRequest\" xlink:href=\"psysml:79f72fcf-9cc7-42c6-886c-0c2f21f0aaa0\" xlink:show=\"new\" xlink:title=\"psysml:79f72fcf-9cc7-42c6-886c-0c2f21f0aaa0\" xlink:type=\"simple\"><rect fill=\"#FFFFFF\" height=\"40\" id=\"E7\" rx=\"10\" ry=\"10\" style=\"stroke: #383838; stroke-width: 1.5;\" width=\"50\" x=\"287\" y=\"44\"/><rect fill=\"#F8F8F8\" height=\"23.9688\" rx=\"10\" ry=\"10\" style=\"stroke: #F8F8F8; stroke-width: 1.5;\" width=\"50\" x=\"287\" y=\"44\"/><rect fill=\"#F8F8F8\" height=\"10\" style=\"stroke: #F8F8F8; stroke-width: 1.5;\" width=\"50\" x=\"287\" y=\"57.9688\"/><rect fill=\"none\" height=\"40\" id=\"E7\" rx=\"10\" ry=\"10\" style=\"stroke: #383838; stroke-width: 1.5;\" width=\"50\" x=\"287\" y=\"44\"/><text fill=\"#000000\" font-family=\"sans-serif\" font-size=\"12\" lengthAdjust=\"spacingAndGlyphs\" textLength=\"8\" x=\"308\" y=\"60.1387\">d</text></a></g><g id=\"E1.E8\"><a href=\"psysml:7ad65eee-258f-4156-b8ec-39b80665cdbc\" target=\"_top\" title=\"psysml:7ad65eee-258f-4156-b8ec-39b80665cdbc\" xlink:actuate=\"onRequest\" xlink:href=\"psysml:7ad65eee-258f-4156-b8ec-39b80665cdbc\" xlink:show=\"new\" xlink:title=\"psysml:7ad65eee-258f-4156-b8ec-39b80665cdbc\" xlink:type=\"simple\"><rect fill=\"#FFFFFF\" height=\"40\" id=\"E8\" rx=\"10\" ry=\"10\" style=\"stroke: #383838; stroke-width: 1.5;\" width=\"50\" x=\"202\" y=\"44\"/><rect fill=\"#F8F8F8\" height=\"23.9688\" rx=\"10\" ry=\"10\" style=\"stroke: #F8F8F8; stroke-width: 1.5;\" width=\"50\" x=\"202\" y=\"44\"/><rect fill=\"#F8F8F8\" height=\"10\" style=\"stroke: #F8F8F8; stroke-width: 1.5;\" width=\"50\" x=\"202\" y=\"57.9688\"/><rect fill=\"none\" height=\"40\" id=\"E8\" rx=\"10\" ry=\"10\" style=\"stroke: #383838; stroke-width: 1.5;\" width=\"50\" x=\"202\" y=\"44\"/><text fill=\"#000000\" font-family=\"sans-serif\" font-size=\"12\" lengthAdjust=\"spacingAndGlyphs\" textLength=\"8\" x=\"223\" y=\"60.1387\">e</text></a></g><g id=\"E1.E9\"><a href=\"psysml:20b1d46d-edcb-44c0-8591-3bffd604b97a\" target=\"_top\" title=\"psysml:20b1d46d-edcb-44c0-8591-3bffd604b97a\" xlink:actuate=\"onRequest\" xlink:href=\"psysml:20b1d46d-edcb-44c0-8591-3bffd604b97a\" xlink:show=\"new\" xlink:title=\"psysml:20b1d46d-edcb-44c0-8591-3bffd604b97a\" xlink:type=\"simple\"><rect fill=\"#FFFFFF\" height=\"40\" id=\"E9\" rx=\"10\" ry=\"10\" style=\"stroke: #383838; stroke-width: 1.5;\" width=\"50\" x=\"117\" y=\"44\"/><rect fill=\"#F8F8F8\" height=\"23.9688\" rx=\"10\" ry=\"10\" style=\"stroke: #F8F8F8; stroke-width: 1.5;\" width=\"50\" x=\"117\" y=\"44\"/><rect fill=\"#F8F8F8\" height=\"10\" style=\"stroke: #F8F8F8; stroke-width: 1.5;\" width=\"50\" x=\"117\" y=\"57.9688\"/><rect fill=\"none\" height=\"40\" id=\"E9\" rx=\"10\" ry=\"10\" style=\"stroke: #383838; stroke-width: 1.5;\" width=\"50\" x=\"117\" y=\"44\"/><text fill=\"#000000\" font-family=\"sans-serif\" font-size=\"12\" lengthAdjust=\"spacingAndGlyphs\" textLength=\"4\" x=\"140\" y=\"60.1387\">f</text></a></g><g id=\"E1.E10\"><a href=\"psysml:25d96323-353d-45e6-96c8-f6353f2a6c2d\" target=\"_top\" title=\"psysml:25d96323-353d-45e6-96c8-f6353f2a6c2d\" xlink:actuate=\"onRequest\" xlink:href=\"psysml:25d96323-353d-45e6-96c8-f6353f2a6c2d\" xlink:show=\"new\" xlink:title=\"psysml:25d96323-353d-45e6-96c8-f6353f2a6c2d\" xlink:type=\"simple\"><rect fill=\"#FFFFFF\" height=\"40\" id=\"E10\" rx=\"10\" ry=\"10\" style=\"stroke: #383838; stroke-width: 1.5;\" width=\"50\" x=\"32\" y=\"44\"/><rect fill=\"#F8F8F8\" height=\"23.9688\" rx=\"10\" ry=\"10\" style=\"stroke: #F8F8F8; stroke-width: 1.5;\" width=\"50\" x=\"32\" y=\"44\"/><rect fill=\"#F8F8F8\" height=\"10\" style=\"stroke: #F8F8F8; stroke-width: 1.5;\" width=\"50\" x=\"32\" y=\"57.9688\"/><rect fill=\"none\" height=\"40\" id=\"E10\" rx=\"10\" ry=\"10\" style=\"stroke: #383838; stroke-width: 1.5;\" width=\"50\" x=\"32\" y=\"44\"/><text fill=\"#000000\" font-family=\"sans-serif\" font-size=\"12\" lengthAdjust=\"spacingAndGlyphs\" textLength=\"8\" x=\"53\" y=\"60.1387\">g</text></a></g><!--MD5=[8a086c77d1fa644d53faaf020dec08f9]\n",
       "@startuml\r\n",
       "skinparam ranksep 10\r\n",
       "skinparam rectangle {\r\n",
       " backgroundColor<<block>> LightGreen\r\n",
       "}\r\n",
       "skinparam linetype polyline\r\n",
       "skinparam monochrome true\r\n",
       "skinparam classbackgroundcolor white\r\n",
       "skinparam shadowing false\r\n",
       "skinparam wrapWidth 300\r\n",
       "hide circle\r\n",
       "\r\n",
       "package \"MultiplicityTest\" as E1  [[psysml:c0f24ad0-fe84-484c-92fb-1b0594d1e479 ]]  {\r\n",
       "rec def \"P\" as E2  <<(T,blue) part def>> [[psysml:987e5bc7-b02a-416d-86c6-8545bfa90ef5 ]] {\r\n",
       "}\r\n",
       "comp usage \"n: Integer\" as E3  <<(T,blue) attribute>> [[psysml:7c23d281-2047-4d33-b5ff-31ab75cdc741 ]] {\r\n",
       "}\r\n",
       "rec usage \"a\" as E4  [[psysml:dbbeb80c-41d4-4e5a-ae6b-125fea141b81 ]] {\r\n",
       "}\r\n",
       "rec usage \"b: P\" as E5  [[psysml:1044b725-5886-488e-a280-d65b06b2678d ]] {\r\n",
       "}\r\n",
       "rec usage \"c: P\" as E6  [[psysml:7163cac6-f89e-4c84-b72c-82ccdb232dd2 ]] {\r\n",
       "}\r\n",
       "rec usage \"d\" as E7  [[psysml:79f72fcf-9cc7-42c6-886c-0c2f21f0aaa0 ]] {\r\n",
       "}\r\n",
       "rec usage \"e\" as E8  [[psysml:7ad65eee-258f-4156-b8ec-39b80665cdbc ]] {\r\n",
       "}\r\n",
       "rec usage \"f\" as E9  [[psysml:20b1d46d-edcb-44c0-8591-3bffd604b97a ]] {\r\n",
       "}\r\n",
       "rec usage \"g\" as E10  [[psysml:25d96323-353d-45e6-96c8-f6353f2a6c2d ]] {\r\n",
       "}\r\n",
       "def \"A\" as E11  <<(T,blue) attribute def>> [[psysml:05fe5b10-94f9-4e9a-a85e-b113c36136a8 ]] \r\n",
       "}\r\n",
       "@enduml\r\n",
       "\n",
       "PlantUML version 1.2020.13(Sat Jun 13 12:26:38 UTC 2020)\n",
       "(EPL source distribution)\n",
       "Java Runtime: OpenJDK Runtime Environment\n",
       "JVM: OpenJDK 64-Bit Server VM\n",
       "Default Encoding: UTF-8\n",
       "Language: en\n",
       "Country: null\n",
       "--></g></svg>"
      ]
     },
     "execution_count": 12,
     "metadata": {},
     "output_type": "execute_result"
    }
   ],
   "source": [
    "%viz --style=\"POLYLINE\" --view=\"Interconnection\" \"MultiplicityTest\""
   ]
  },
  {
   "cell_type": "code",
   "execution_count": 13,
   "id": "1c177368",
   "metadata": {
    "execution": {
     "iopub.execute_input": "2021-09-27T07:19:17.530566Z",
     "iopub.status.busy": "2021-09-27T07:19:17.530157Z",
     "iopub.status.idle": "2021-09-27T07:19:17.537798Z",
     "shell.execute_reply": "2021-09-27T07:19:17.538128Z"
    }
   },
   "outputs": [
    {
     "data": {
      "image/svg+xml": [
       "<?xml version=\"1.0\" encoding=\"UTF-8\" standalone=\"no\"?><svg xmlns=\"http://www.w3.org/2000/svg\" xmlns:xlink=\"http://www.w3.org/1999/xlink\" contentScriptType=\"application/ecmascript\" contentStyleType=\"text/css\" height=\"12px\" preserveAspectRatio=\"none\" style=\"width:12px;height:12px;\" version=\"1.1\" viewBox=\"0 0 12 12\" width=\"12px\" zoomAndPan=\"magnify\"><defs/><g><!--MD5=[97bbf32f66ccd50cbc40d92ea8f5a65e]\n",
       "@startuml\r\n",
       "skinparam ranksep 8\r\n",
       "skinparam linetype polyline\r\n",
       "skinparam monochrome true\r\n",
       "skinparam classbackgroundcolor white\r\n",
       "skinparam shadowing false\r\n",
       "skinparam wrapWidth 300\r\n",
       "hide circle\r\n",
       "\r\n",
       "@enduml\r\n",
       "\n",
       "PlantUML version 1.2020.13(Sat Jun 13 12:26:38 UTC 2020)\n",
       "(EPL source distribution)\n",
       "Java Runtime: OpenJDK Runtime Environment\n",
       "JVM: OpenJDK 64-Bit Server VM\n",
       "Default Encoding: UTF-8\n",
       "Language: en\n",
       "Country: null\n",
       "--></g></svg>"
      ]
     },
     "execution_count": 13,
     "metadata": {},
     "output_type": "execute_result"
    }
   ],
   "source": [
    "%viz --style=\"POLYLINE\" --view=\"Action\" \"MultiplicityTest\""
   ]
  },
  {
   "cell_type": "code",
   "execution_count": 14,
   "id": "68fb5484",
   "metadata": {
    "execution": {
     "iopub.execute_input": "2021-09-27T07:19:17.588587Z",
     "iopub.status.busy": "2021-09-27T07:19:17.588193Z",
     "iopub.status.idle": "2021-09-27T07:19:17.594326Z",
     "shell.execute_reply": "2021-09-27T07:19:17.594639Z"
    }
   },
   "outputs": [
    {
     "data": {
      "image/svg+xml": [
       "<?xml version=\"1.0\" encoding=\"UTF-8\" standalone=\"no\"?><svg xmlns=\"http://www.w3.org/2000/svg\" xmlns:xlink=\"http://www.w3.org/1999/xlink\" contentScriptType=\"application/ecmascript\" contentStyleType=\"text/css\" height=\"12px\" preserveAspectRatio=\"none\" style=\"width:12px;height:12px;\" version=\"1.1\" viewBox=\"0 0 12 12\" width=\"12px\" zoomAndPan=\"magnify\"><defs/><g><!--MD5=[dc938048236c351797870c36b62f92ad]\n",
       "@startuml\r\n",
       "skinparam roundcorner 20\r\n",
       "skinparam BoxPadding 20\r\n",
       "skinparam SequenceBoxBackgroundColor #white\r\n",
       "skinparam style strictuml\r\n",
       "skinparam maxMessageSize 100\r\n",
       "skinparam linetype polyline\r\n",
       "skinparam monochrome true\r\n",
       "skinparam classbackgroundcolor white\r\n",
       "skinparam shadowing false\r\n",
       "skinparam wrapWidth 300\r\n",
       "hide circle\r\n",
       "\r\n",
       "@enduml\r\n",
       "\n",
       "PlantUML version 1.2020.13(Sat Jun 13 12:26:38 UTC 2020)\n",
       "(EPL source distribution)\n",
       "Java Runtime: OpenJDK Runtime Environment\n",
       "JVM: OpenJDK 64-Bit Server VM\n",
       "Default Encoding: UTF-8\n",
       "Language: en\n",
       "Country: null\n",
       "--></g></svg>"
      ]
     },
     "execution_count": 14,
     "metadata": {},
     "output_type": "execute_result"
    }
   ],
   "source": [
    "%viz --style=\"POLYLINE\" --view=\"Sequence\" \"MultiplicityTest\""
   ]
  },
  {
   "cell_type": "code",
   "execution_count": 15,
   "id": "6693cf9b",
   "metadata": {
    "execution": {
     "iopub.execute_input": "2021-09-27T07:19:17.645123Z",
     "iopub.status.busy": "2021-09-27T07:19:17.644718Z",
     "iopub.status.idle": "2021-09-27T07:19:17.709037Z",
     "shell.execute_reply": "2021-09-27T07:19:17.709351Z"
    }
   },
   "outputs": [
    {
     "data": {
      "image/svg+xml": [
       "<?xml version=\"1.0\" encoding=\"UTF-8\" standalone=\"no\"?><svg xmlns=\"http://www.w3.org/2000/svg\" xmlns:xlink=\"http://www.w3.org/1999/xlink\" contentScriptType=\"application/ecmascript\" contentStyleType=\"text/css\" height=\"263px\" preserveAspectRatio=\"none\" style=\"width:812px;height:263px;\" version=\"1.1\" viewBox=\"0 0 812 263\" width=\"812px\" zoomAndPan=\"magnify\"><defs/><g><!--MD5=[fbc87193dbaf4d95561dea2c320d4a47]\n",
       "cluster E1--><a href=\"psysml:c0f24ad0-fe84-484c-92fb-1b0594d1e479\" target=\"_top\" title=\"psysml:c0f24ad0-fe84-484c-92fb-1b0594d1e479\" xlink:actuate=\"onRequest\" xlink:href=\"psysml:c0f24ad0-fe84-484c-92fb-1b0594d1e479\" xlink:show=\"new\" xlink:title=\"psysml:c0f24ad0-fe84-484c-92fb-1b0594d1e479\" xlink:type=\"simple\"><polygon fill=\"#FFFFFF\" points=\"16,6,123,6,130,28.2969,790,28.2969,790,251,16,251,16,6\" style=\"stroke: #000000; stroke-width: 1.5;\"/><line style=\"stroke: #000000; stroke-width: 1.5;\" x1=\"16\" x2=\"130\" y1=\"28.2969\" y2=\"28.2969\"/><text fill=\"#000000\" font-family=\"sans-serif\" font-size=\"14\" font-weight=\"bold\" lengthAdjust=\"spacingAndGlyphs\" textLength=\"101\" x=\"20\" y=\"20.9951\">MultiplicityTest</text></a><!--MD5=[b4997ac47864f28c2f74865a473b2911]\n",
       "class E2--><a href=\"psysml:987e5bc7-b02a-416d-86c6-8545bfa90ef5\" target=\"_top\" title=\"psysml:987e5bc7-b02a-416d-86c6-8545bfa90ef5\" xlink:actuate=\"onRequest\" xlink:href=\"psysml:987e5bc7-b02a-416d-86c6-8545bfa90ef5\" xlink:show=\"new\" xlink:title=\"psysml:987e5bc7-b02a-416d-86c6-8545bfa90ef5\" xlink:type=\"simple\"><rect fill=\"#FFFFFF\" height=\"45.9375\" id=\"E2\" style=\"stroke: #383838; stroke-width: 1.5;\" width=\"66\" x=\"497\" y=\"189\"/><text fill=\"#000000\" font-family=\"sans-serif\" font-size=\"12\" font-style=\"italic\" lengthAdjust=\"spacingAndGlyphs\" textLength=\"64\" x=\"498\" y=\"205.1387\">«part def»</text><text fill=\"#000000\" font-family=\"sans-serif\" font-size=\"12\" lengthAdjust=\"spacingAndGlyphs\" textLength=\"8\" x=\"526\" y=\"219.1074\">P</text><line style=\"stroke: #383838; stroke-width: 1.5;\" x1=\"498\" x2=\"562\" y1=\"226.9375\" y2=\"226.9375\"/></a><!--MD5=[09b614a08d8cba4a07c9adeb5e0fee81]\n",
       "class E3--><a href=\"psysml:7c23d281-2047-4d33-b5ff-31ab75cdc741\" target=\"_top\" title=\"psysml:7c23d281-2047-4d33-b5ff-31ab75cdc741\" xlink:actuate=\"onRequest\" xlink:href=\"psysml:7c23d281-2047-4d33-b5ff-31ab75cdc741\" xlink:show=\"new\" xlink:title=\"psysml:7c23d281-2047-4d33-b5ff-31ab75cdc741\" xlink:type=\"simple\"><rect fill=\"#FFFFFF\" height=\"45.9375\" id=\"E3\" rx=\"10\" ry=\"10\" style=\"stroke: #383838; stroke-width: 1.5;\" width=\"71\" x=\"702.5\" y=\"62\"/><text fill=\"#000000\" font-family=\"sans-serif\" font-size=\"12\" font-style=\"italic\" lengthAdjust=\"spacingAndGlyphs\" textLength=\"69\" x=\"703.5\" y=\"78.1387\">«attribute»</text><text fill=\"#000000\" font-family=\"sans-serif\" font-size=\"12\" lengthAdjust=\"spacingAndGlyphs\" textLength=\"61\" x=\"707.5\" y=\"92.1074\">n: Integer</text><line style=\"stroke: #383838; stroke-width: 1.5;\" x1=\"703.5\" x2=\"772.5\" y1=\"99.9375\" y2=\"99.9375\"/></a><!--MD5=[ebbe1d658d1005bcc118a6aa81145e00]\n",
       "class E4--><a href=\"psysml:dbbeb80c-41d4-4e5a-ae6b-125fea141b81\" target=\"_top\" title=\"psysml:dbbeb80c-41d4-4e5a-ae6b-125fea141b81\" xlink:actuate=\"onRequest\" xlink:href=\"psysml:dbbeb80c-41d4-4e5a-ae6b-125fea141b81\" xlink:show=\"new\" xlink:title=\"psysml:dbbeb80c-41d4-4e5a-ae6b-125fea141b81\" xlink:type=\"simple\"><rect fill=\"#FFFFFF\" height=\"45.9375\" id=\"E4\" rx=\"10\" ry=\"10\" style=\"stroke: #383838; stroke-width: 1.5;\" width=\"42\" x=\"625\" y=\"62\"/><text fill=\"#000000\" font-family=\"sans-serif\" font-size=\"12\" font-style=\"italic\" lengthAdjust=\"spacingAndGlyphs\" textLength=\"40\" x=\"626\" y=\"78.1387\">«part»</text><text fill=\"#000000\" font-family=\"sans-serif\" font-size=\"12\" lengthAdjust=\"spacingAndGlyphs\" textLength=\"8\" x=\"642\" y=\"92.1074\">a</text><line style=\"stroke: #383838; stroke-width: 1.5;\" x1=\"626\" x2=\"666\" y1=\"99.9375\" y2=\"99.9375\"/></a><!--MD5=[270fce915f116d4de14055a7c1d9a0f3]\n",
       "class E5--><a href=\"psysml:1044b725-5886-488e-a280-d65b06b2678d\" target=\"_top\" title=\"psysml:1044b725-5886-488e-a280-d65b06b2678d\" xlink:actuate=\"onRequest\" xlink:href=\"psysml:1044b725-5886-488e-a280-d65b06b2678d\" xlink:show=\"new\" xlink:title=\"psysml:1044b725-5886-488e-a280-d65b06b2678d\" xlink:type=\"simple\"><rect fill=\"#FFFFFF\" height=\"45.9375\" id=\"E5\" rx=\"10\" ry=\"10\" style=\"stroke: #383838; stroke-width: 1.5;\" width=\"42\" x=\"548\" y=\"62\"/><text fill=\"#000000\" font-family=\"sans-serif\" font-size=\"12\" font-style=\"italic\" lengthAdjust=\"spacingAndGlyphs\" textLength=\"40\" x=\"549\" y=\"78.1387\">«part»</text><text fill=\"#000000\" font-family=\"sans-serif\" font-size=\"12\" lengthAdjust=\"spacingAndGlyphs\" textLength=\"24\" x=\"557\" y=\"92.1074\">b: P</text><line style=\"stroke: #383838; stroke-width: 1.5;\" x1=\"549\" x2=\"589\" y1=\"99.9375\" y2=\"99.9375\"/></a><!--MD5=[60a26617385b1d2d0262a64233df1f8d]\n",
       "class E6--><a href=\"psysml:7163cac6-f89e-4c84-b72c-82ccdb232dd2\" target=\"_top\" title=\"psysml:7163cac6-f89e-4c84-b72c-82ccdb232dd2\" xlink:actuate=\"onRequest\" xlink:href=\"psysml:7163cac6-f89e-4c84-b72c-82ccdb232dd2\" xlink:show=\"new\" xlink:title=\"psysml:7163cac6-f89e-4c84-b72c-82ccdb232dd2\" xlink:type=\"simple\"><rect fill=\"#FFFFFF\" height=\"45.9375\" id=\"E6\" rx=\"10\" ry=\"10\" style=\"stroke: #383838; stroke-width: 1.5;\" width=\"42\" x=\"471\" y=\"62\"/><text fill=\"#000000\" font-family=\"sans-serif\" font-size=\"12\" font-style=\"italic\" lengthAdjust=\"spacingAndGlyphs\" textLength=\"40\" x=\"472\" y=\"78.1387\">«part»</text><text fill=\"#000000\" font-family=\"sans-serif\" font-size=\"12\" lengthAdjust=\"spacingAndGlyphs\" textLength=\"23\" x=\"480.5\" y=\"92.1074\">c: P</text><line style=\"stroke: #383838; stroke-width: 1.5;\" x1=\"472\" x2=\"512\" y1=\"99.9375\" y2=\"99.9375\"/></a><!--MD5=[2156ba9850f5573cc1fc38a6a4b2f02b]\n",
       "class E7--><a href=\"psysml:79f72fcf-9cc7-42c6-886c-0c2f21f0aaa0\" target=\"_top\" title=\"psysml:79f72fcf-9cc7-42c6-886c-0c2f21f0aaa0\" xlink:actuate=\"onRequest\" xlink:href=\"psysml:79f72fcf-9cc7-42c6-886c-0c2f21f0aaa0\" xlink:show=\"new\" xlink:title=\"psysml:79f72fcf-9cc7-42c6-886c-0c2f21f0aaa0\" xlink:type=\"simple\"><rect fill=\"#FFFFFF\" height=\"45.9375\" id=\"E7\" rx=\"10\" ry=\"10\" style=\"stroke: #383838; stroke-width: 1.5;\" width=\"42\" x=\"394\" y=\"62\"/><text fill=\"#000000\" font-family=\"sans-serif\" font-size=\"12\" font-style=\"italic\" lengthAdjust=\"spacingAndGlyphs\" textLength=\"40\" x=\"395\" y=\"78.1387\">«part»</text><text fill=\"#000000\" font-family=\"sans-serif\" font-size=\"12\" lengthAdjust=\"spacingAndGlyphs\" textLength=\"8\" x=\"411\" y=\"92.1074\">d</text><line style=\"stroke: #383838; stroke-width: 1.5;\" x1=\"395\" x2=\"435\" y1=\"99.9375\" y2=\"99.9375\"/></a><!--MD5=[b9389687b975829384b498ac4b7476b2]\n",
       "class E8--><a href=\"psysml:7ad65eee-258f-4156-b8ec-39b80665cdbc\" target=\"_top\" title=\"psysml:7ad65eee-258f-4156-b8ec-39b80665cdbc\" xlink:actuate=\"onRequest\" xlink:href=\"psysml:7ad65eee-258f-4156-b8ec-39b80665cdbc\" xlink:show=\"new\" xlink:title=\"psysml:7ad65eee-258f-4156-b8ec-39b80665cdbc\" xlink:type=\"simple\"><rect fill=\"#FFFFFF\" height=\"45.9375\" id=\"E8\" rx=\"10\" ry=\"10\" style=\"stroke: #383838; stroke-width: 1.5;\" width=\"42\" x=\"317\" y=\"62\"/><text fill=\"#000000\" font-family=\"sans-serif\" font-size=\"12\" font-style=\"italic\" lengthAdjust=\"spacingAndGlyphs\" textLength=\"40\" x=\"318\" y=\"78.1387\">«part»</text><text fill=\"#000000\" font-family=\"sans-serif\" font-size=\"12\" lengthAdjust=\"spacingAndGlyphs\" textLength=\"8\" x=\"334\" y=\"92.1074\">e</text><line style=\"stroke: #383838; stroke-width: 1.5;\" x1=\"318\" x2=\"358\" y1=\"99.9375\" y2=\"99.9375\"/></a><!--MD5=[fd4143e9d270a159db93a4ea2a975926]\n",
       "class E9--><a href=\"psysml:20b1d46d-edcb-44c0-8591-3bffd604b97a\" target=\"_top\" title=\"psysml:20b1d46d-edcb-44c0-8591-3bffd604b97a\" xlink:actuate=\"onRequest\" xlink:href=\"psysml:20b1d46d-edcb-44c0-8591-3bffd604b97a\" xlink:show=\"new\" xlink:title=\"psysml:20b1d46d-edcb-44c0-8591-3bffd604b97a\" xlink:type=\"simple\"><rect fill=\"#FFFFFF\" height=\"45.9375\" id=\"E9\" rx=\"10\" ry=\"10\" style=\"stroke: #383838; stroke-width: 1.5;\" width=\"42\" x=\"240\" y=\"62\"/><text fill=\"#000000\" font-family=\"sans-serif\" font-size=\"12\" font-style=\"italic\" lengthAdjust=\"spacingAndGlyphs\" textLength=\"40\" x=\"241\" y=\"78.1387\">«part»</text><text fill=\"#000000\" font-family=\"sans-serif\" font-size=\"12\" lengthAdjust=\"spacingAndGlyphs\" textLength=\"4\" x=\"259\" y=\"92.1074\">f</text><line style=\"stroke: #383838; stroke-width: 1.5;\" x1=\"241\" x2=\"281\" y1=\"99.9375\" y2=\"99.9375\"/></a><!--MD5=[96f4274e9e20536e775497830990834d]\n",
       "class E10--><a href=\"psysml:25d96323-353d-45e6-96c8-f6353f2a6c2d\" target=\"_top\" title=\"psysml:25d96323-353d-45e6-96c8-f6353f2a6c2d\" xlink:actuate=\"onRequest\" xlink:href=\"psysml:25d96323-353d-45e6-96c8-f6353f2a6c2d\" xlink:show=\"new\" xlink:title=\"psysml:25d96323-353d-45e6-96c8-f6353f2a6c2d\" xlink:type=\"simple\"><rect fill=\"#FFFFFF\" height=\"45.9375\" id=\"E10\" rx=\"10\" ry=\"10\" style=\"stroke: #383838; stroke-width: 1.5;\" width=\"42\" x=\"163\" y=\"62\"/><text fill=\"#000000\" font-family=\"sans-serif\" font-size=\"12\" font-style=\"italic\" lengthAdjust=\"spacingAndGlyphs\" textLength=\"40\" x=\"164\" y=\"78.1387\">«part»</text><text fill=\"#000000\" font-family=\"sans-serif\" font-size=\"12\" lengthAdjust=\"spacingAndGlyphs\" textLength=\"8\" x=\"180\" y=\"92.1074\">g</text><line style=\"stroke: #383838; stroke-width: 1.5;\" x1=\"164\" x2=\"204\" y1=\"99.9375\" y2=\"99.9375\"/></a><!--MD5=[1dd1bfd58a279cf63c5f349dbc8fc6a1]\n",
       "class E11--><a href=\"psysml:05fe5b10-94f9-4e9a-a85e-b113c36136a8\" target=\"_top\" title=\"psysml:05fe5b10-94f9-4e9a-a85e-b113c36136a8\" xlink:actuate=\"onRequest\" xlink:href=\"psysml:05fe5b10-94f9-4e9a-a85e-b113c36136a8\" xlink:show=\"new\" xlink:title=\"psysml:05fe5b10-94f9-4e9a-a85e-b113c36136a8\" xlink:type=\"simple\"><rect fill=\"#FFFFFF\" height=\"88.3516\" id=\"E11\" style=\"stroke: #383838; stroke-width: 1.5;\" width=\"95\" x=\"32.5\" y=\"41\"/><text fill=\"#000000\" font-family=\"sans-serif\" font-size=\"12\" font-style=\"italic\" lengthAdjust=\"spacingAndGlyphs\" textLength=\"93\" x=\"33.5\" y=\"57.1387\">«attribute def»</text><text fill=\"#000000\" font-family=\"sans-serif\" font-size=\"12\" lengthAdjust=\"spacingAndGlyphs\" textLength=\"8\" x=\"76\" y=\"71.1074\">A</text><line style=\"stroke: #383838; stroke-width: 1.5;\" x1=\"33.5\" x2=\"126.5\" y1=\"78.9375\" y2=\"78.9375\"/><text fill=\"#000000\" font-family=\"sans-serif\" font-size=\"11\" lengthAdjust=\"spacingAndGlyphs\" textLength=\"51\" x=\"38.5\" y=\"109.9526\">i: Integer</text><text fill=\"#000000\" font-family=\"sans-serif\" font-size=\"11\" lengthAdjust=\"spacingAndGlyphs\" textLength=\"21\" x=\"38.5\" y=\"122.7573\">x: A</text><line style=\"stroke: #383838; stroke-width: 1.0;\" x1=\"33.5\" x2=\"52.5\" y1=\"93.3398\" y2=\"93.3398\"/><text fill=\"#000000\" font-family=\"sans-serif\" font-size=\"11\" lengthAdjust=\"spacingAndGlyphs\" textLength=\"55\" x=\"52.5\" y=\"96.6479\">attributes</text><line style=\"stroke: #383838; stroke-width: 1.0;\" x1=\"107.5\" x2=\"126.5\" y1=\"93.3398\" y2=\"93.3398\"/></a><!--MD5=[15ebcb19ae302d9b601edb458606d402]\n",
       "link E5 to E2--><a href=\"psysml:b71e192f-5f45-432d-9454-4642818dbb88\" target=\"_top\" title=\"psysml:b71e192f-5f45-432d-9454-4642818dbb88\" xlink:actuate=\"onRequest\" xlink:href=\"psysml:b71e192f-5f45-432d-9454-4642818dbb88\" xlink:show=\"new\" xlink:title=\"psysml:b71e192f-5f45-432d-9454-4642818dbb88\" xlink:type=\"simple\"><path d=\"M562.12,108.06 C556.83,125 549.38,148.89 542.98,169.39 \" fill=\"none\" id=\"E5-&gt;E2\" style=\"stroke: #383838; stroke-width: 1.0;\"/><polygon fill=\"#FFFFFF\" points=\"536.95,188.74,535.929,168.5173,549.2931,172.6886,536.95,188.74\" style=\"stroke: #383838; stroke-width: 1.0;\"/><ellipse cx=\"539.5364\" cy=\"163.6721\" fill=\"#383838\" rx=\"2\" ry=\"2\" style=\"stroke: #383838; stroke-width: 1.0;\"/><ellipse cx=\"549.0823\" cy=\"166.6516\" fill=\"#383838\" rx=\"2\" ry=\"2\" style=\"stroke: #383838; stroke-width: 1.0;\"/></a><!--MD5=[2351f337d6de0f557b50152ba70847b5]\n",
       "link E6 to E2--><a href=\"psysml:173d30e4-d568-4354-a9e9-bb0668964c70\" target=\"_top\" title=\"psysml:173d30e4-d568-4354-a9e9-bb0668964c70\" xlink:actuate=\"onRequest\" xlink:href=\"psysml:173d30e4-d568-4354-a9e9-bb0668964c70\" xlink:show=\"new\" xlink:title=\"psysml:173d30e4-d568-4354-a9e9-bb0668964c70\" xlink:type=\"simple\"><path d=\"M498.71,108.06 C503.86,125 511.12,148.89 517.35,169.39 \" fill=\"none\" id=\"E6-&gt;E2\" style=\"stroke: #383838; stroke-width: 1.0;\"/><polygon fill=\"#FFFFFF\" points=\"523.23,188.74,511.007,172.597,524.4019,168.5255,523.23,188.74\" style=\"stroke: #383838; stroke-width: 1.0;\"/><ellipse cx=\"511.2628\" cy=\"166.5617\" fill=\"#383838\" rx=\"2\" ry=\"2\" style=\"stroke: #383838; stroke-width: 1.0;\"/><ellipse cx=\"520.8306\" cy=\"163.6535\" fill=\"#383838\" rx=\"2\" ry=\"2\" style=\"stroke: #383838; stroke-width: 1.0;\"/></a><!--MD5=[f5f919328a98c209308c5ed856bc9cc3]\n",
       "@startuml\r\n",
       "skinparam linetype polyline\r\n",
       "skinparam monochrome true\r\n",
       "skinparam classbackgroundcolor white\r\n",
       "skinparam shadowing false\r\n",
       "skinparam wrapWidth 300\r\n",
       "hide circle\r\n",
       "\r\n",
       "package \"MultiplicityTest\" as E1  [[psysml:c0f24ad0-fe84-484c-92fb-1b0594d1e479 ]]  {\r\n",
       "comp def \"P\" as E2  <<(T,blue) part def>> [[psysml:987e5bc7-b02a-416d-86c6-8545bfa90ef5 ]] {\r\n",
       "}\r\n",
       "comp usage \"n: Integer\" as E3  <<(T,blue) attribute>> [[psysml:7c23d281-2047-4d33-b5ff-31ab75cdc741 ]] {\r\n",
       "}\r\n",
       "comp usage \"a\" as E4  <<(T,blue) part>> [[psysml:dbbeb80c-41d4-4e5a-ae6b-125fea141b81 ]] {\r\n",
       "}\r\n",
       "comp usage \"b: P\" as E5  <<(T,blue) part>> [[psysml:1044b725-5886-488e-a280-d65b06b2678d ]] {\r\n",
       "}\r\n",
       "comp usage \"c: P\" as E6  <<(T,blue) part>> [[psysml:7163cac6-f89e-4c84-b72c-82ccdb232dd2 ]] {\r\n",
       "}\r\n",
       "comp usage \"d\" as E7  <<(T,blue) part>> [[psysml:79f72fcf-9cc7-42c6-886c-0c2f21f0aaa0 ]] {\r\n",
       "}\r\n",
       "comp usage \"e\" as E8  <<(T,blue) part>> [[psysml:7ad65eee-258f-4156-b8ec-39b80665cdbc ]] {\r\n",
       "}\r\n",
       "comp usage \"f\" as E9  <<(T,blue) part>> [[psysml:20b1d46d-edcb-44c0-8591-3bffd604b97a ]] {\r\n",
       "}\r\n",
       "comp usage \"g\" as E10  <<(T,blue) part>> [[psysml:25d96323-353d-45e6-96c8-f6353f2a6c2d ]] {\r\n",
       "}\r\n",
       "comp def \"A\" as E11  <<(T,blue) attribute def>> [[psysml:05fe5b10-94f9-4e9a-a85e-b113c36136a8 ]] {\r\n",
       "- - attributes - -\r\n",
       "i: Integer\r\n",
       "x: A\r\n",
       "}\r\n",
       "}\r\n",
       "E5 - -:|> E2 [[psysml:b71e192f-5f45-432d-9454-4642818dbb88 ]] \r\n",
       "E6 - -:|> E2 [[psysml:173d30e4-d568-4354-a9e9-bb0668964c70 ]] \r\n",
       "@enduml\r\n",
       "\n",
       "PlantUML version 1.2020.13(Sat Jun 13 12:26:38 UTC 2020)\n",
       "(EPL source distribution)\n",
       "Java Runtime: OpenJDK Runtime Environment\n",
       "JVM: OpenJDK 64-Bit Server VM\n",
       "Default Encoding: UTF-8\n",
       "Language: en\n",
       "Country: null\n",
       "--></g></svg>"
      ]
     },
     "execution_count": 15,
     "metadata": {},
     "output_type": "execute_result"
    }
   ],
   "source": [
    "%viz --style=\"POLYLINE\" --view=\"MIXED\" \"MultiplicityTest\""
   ]
  },
  {
   "cell_type": "code",
   "execution_count": 16,
   "id": "0e3c937f",
   "metadata": {
    "execution": {
     "iopub.execute_input": "2021-09-27T07:19:17.759679Z",
     "iopub.status.busy": "2021-09-27T07:19:17.759286Z",
     "iopub.status.idle": "2021-09-27T07:19:17.821830Z",
     "shell.execute_reply": "2021-09-27T07:19:17.821480Z"
    }
   },
   "outputs": [
    {
     "data": {
      "image/svg+xml": [
       "<?xml version=\"1.0\" encoding=\"UTF-8\" standalone=\"no\"?><svg xmlns=\"http://www.w3.org/2000/svg\" xmlns:xlink=\"http://www.w3.org/1999/xlink\" contentScriptType=\"application/ecmascript\" contentStyleType=\"text/css\" height=\"805px\" preserveAspectRatio=\"none\" style=\"width:291px;height:805px;\" version=\"1.1\" viewBox=\"0 0 291 805\" width=\"291px\" zoomAndPan=\"magnify\"><defs/><g><!--MD5=[fbc87193dbaf4d95561dea2c320d4a47]\n",
       "cluster E1--><a href=\"psysml:c0f24ad0-fe84-484c-92fb-1b0594d1e479\" target=\"_top\" title=\"psysml:c0f24ad0-fe84-484c-92fb-1b0594d1e479\" xlink:actuate=\"onRequest\" xlink:href=\"psysml:c0f24ad0-fe84-484c-92fb-1b0594d1e479\" xlink:show=\"new\" xlink:title=\"psysml:c0f24ad0-fe84-484c-92fb-1b0594d1e479\" xlink:type=\"simple\"><polygon fill=\"#FFFFFF\" points=\"16,6,123,6,130,28.2969,269,28.2969,269,793,16,793,16,6\" style=\"stroke: #000000; stroke-width: 1.5;\"/><line style=\"stroke: #000000; stroke-width: 1.5;\" x1=\"16\" x2=\"130\" y1=\"28.2969\" y2=\"28.2969\"/><text fill=\"#000000\" font-family=\"sans-serif\" font-size=\"14\" font-weight=\"bold\" lengthAdjust=\"spacingAndGlyphs\" textLength=\"101\" x=\"20\" y=\"20.9951\">MultiplicityTest</text></a><!--MD5=[b4997ac47864f28c2f74865a473b2911]\n",
       "class E2--><a href=\"psysml:987e5bc7-b02a-416d-86c6-8545bfa90ef5\" target=\"_top\" title=\"psysml:987e5bc7-b02a-416d-86c6-8545bfa90ef5\" xlink:actuate=\"onRequest\" xlink:href=\"psysml:987e5bc7-b02a-416d-86c6-8545bfa90ef5\" xlink:show=\"new\" xlink:title=\"psysml:987e5bc7-b02a-416d-86c6-8545bfa90ef5\" xlink:type=\"simple\"><rect fill=\"#FFFFFF\" height=\"45.9375\" id=\"E2\" style=\"stroke: #383838; stroke-width: 1.5;\" width=\"66\" x=\"187\" y=\"244\"/><text fill=\"#000000\" font-family=\"sans-serif\" font-size=\"12\" font-style=\"italic\" lengthAdjust=\"spacingAndGlyphs\" textLength=\"64\" x=\"188\" y=\"260.1387\">«part def»</text><text fill=\"#000000\" font-family=\"sans-serif\" font-size=\"12\" lengthAdjust=\"spacingAndGlyphs\" textLength=\"8\" x=\"216\" y=\"274.1074\">P</text><line style=\"stroke: #383838; stroke-width: 1.5;\" x1=\"188\" x2=\"252\" y1=\"281.9375\" y2=\"281.9375\"/></a><!--MD5=[09b614a08d8cba4a07c9adeb5e0fee81]\n",
       "class E3--><a href=\"psysml:7c23d281-2047-4d33-b5ff-31ab75cdc741\" target=\"_top\" title=\"psysml:7c23d281-2047-4d33-b5ff-31ab75cdc741\" xlink:actuate=\"onRequest\" xlink:href=\"psysml:7c23d281-2047-4d33-b5ff-31ab75cdc741\" xlink:show=\"new\" xlink:title=\"psysml:7c23d281-2047-4d33-b5ff-31ab75cdc741\" xlink:type=\"simple\"><rect fill=\"#FFFFFF\" height=\"45.9375\" id=\"E3\" rx=\"10\" ry=\"10\" style=\"stroke: #383838; stroke-width: 1.5;\" width=\"71\" x=\"44\" y=\"41\"/><text fill=\"#000000\" font-family=\"sans-serif\" font-size=\"12\" font-style=\"italic\" lengthAdjust=\"spacingAndGlyphs\" textLength=\"69\" x=\"45\" y=\"57.1387\">«attribute»</text><text fill=\"#000000\" font-family=\"sans-serif\" font-size=\"12\" lengthAdjust=\"spacingAndGlyphs\" textLength=\"61\" x=\"49\" y=\"71.1074\">n: Integer</text><line style=\"stroke: #383838; stroke-width: 1.5;\" x1=\"45\" x2=\"114\" y1=\"78.9375\" y2=\"78.9375\"/></a><!--MD5=[ebbe1d658d1005bcc118a6aa81145e00]\n",
       "class E4--><a href=\"psysml:dbbeb80c-41d4-4e5a-ae6b-125fea141b81\" target=\"_top\" title=\"psysml:dbbeb80c-41d4-4e5a-ae6b-125fea141b81\" xlink:actuate=\"onRequest\" xlink:href=\"psysml:dbbeb80c-41d4-4e5a-ae6b-125fea141b81\" xlink:show=\"new\" xlink:title=\"psysml:dbbeb80c-41d4-4e5a-ae6b-125fea141b81\" xlink:type=\"simple\"><rect fill=\"#FFFFFF\" height=\"45.9375\" id=\"E4\" rx=\"10\" ry=\"10\" style=\"stroke: #383838; stroke-width: 1.5;\" width=\"42\" x=\"58.5\" y=\"122\"/><text fill=\"#000000\" font-family=\"sans-serif\" font-size=\"12\" font-style=\"italic\" lengthAdjust=\"spacingAndGlyphs\" textLength=\"40\" x=\"59.5\" y=\"138.1387\">«part»</text><text fill=\"#000000\" font-family=\"sans-serif\" font-size=\"12\" lengthAdjust=\"spacingAndGlyphs\" textLength=\"8\" x=\"75.5\" y=\"152.1074\">a</text><line style=\"stroke: #383838; stroke-width: 1.5;\" x1=\"59.5\" x2=\"99.5\" y1=\"159.9375\" y2=\"159.9375\"/></a><!--MD5=[270fce915f116d4de14055a7c1d9a0f3]\n",
       "class E5--><a href=\"psysml:1044b725-5886-488e-a280-d65b06b2678d\" target=\"_top\" title=\"psysml:1044b725-5886-488e-a280-d65b06b2678d\" xlink:actuate=\"onRequest\" xlink:href=\"psysml:1044b725-5886-488e-a280-d65b06b2678d\" xlink:show=\"new\" xlink:title=\"psysml:1044b725-5886-488e-a280-d65b06b2678d\" xlink:type=\"simple\"><rect fill=\"#FFFFFF\" height=\"45.9375\" id=\"E5\" rx=\"10\" ry=\"10\" style=\"stroke: #383838; stroke-width: 1.5;\" width=\"42\" x=\"58.5\" y=\"203\"/><text fill=\"#000000\" font-family=\"sans-serif\" font-size=\"12\" font-style=\"italic\" lengthAdjust=\"spacingAndGlyphs\" textLength=\"40\" x=\"59.5\" y=\"219.1387\">«part»</text><text fill=\"#000000\" font-family=\"sans-serif\" font-size=\"12\" lengthAdjust=\"spacingAndGlyphs\" textLength=\"24\" x=\"67.5\" y=\"233.1074\">b: P</text><line style=\"stroke: #383838; stroke-width: 1.5;\" x1=\"59.5\" x2=\"99.5\" y1=\"240.9375\" y2=\"240.9375\"/></a><!--MD5=[60a26617385b1d2d0262a64233df1f8d]\n",
       "class E6--><a href=\"psysml:7163cac6-f89e-4c84-b72c-82ccdb232dd2\" target=\"_top\" title=\"psysml:7163cac6-f89e-4c84-b72c-82ccdb232dd2\" xlink:actuate=\"onRequest\" xlink:href=\"psysml:7163cac6-f89e-4c84-b72c-82ccdb232dd2\" xlink:show=\"new\" xlink:title=\"psysml:7163cac6-f89e-4c84-b72c-82ccdb232dd2\" xlink:type=\"simple\"><rect fill=\"#FFFFFF\" height=\"45.9375\" id=\"E6\" rx=\"10\" ry=\"10\" style=\"stroke: #383838; stroke-width: 1.5;\" width=\"42\" x=\"58.5\" y=\"284\"/><text fill=\"#000000\" font-family=\"sans-serif\" font-size=\"12\" font-style=\"italic\" lengthAdjust=\"spacingAndGlyphs\" textLength=\"40\" x=\"59.5\" y=\"300.1387\">«part»</text><text fill=\"#000000\" font-family=\"sans-serif\" font-size=\"12\" lengthAdjust=\"spacingAndGlyphs\" textLength=\"23\" x=\"68\" y=\"314.1074\">c: P</text><line style=\"stroke: #383838; stroke-width: 1.5;\" x1=\"59.5\" x2=\"99.5\" y1=\"321.9375\" y2=\"321.9375\"/></a><!--MD5=[2156ba9850f5573cc1fc38a6a4b2f02b]\n",
       "class E7--><a href=\"psysml:79f72fcf-9cc7-42c6-886c-0c2f21f0aaa0\" target=\"_top\" title=\"psysml:79f72fcf-9cc7-42c6-886c-0c2f21f0aaa0\" xlink:actuate=\"onRequest\" xlink:href=\"psysml:79f72fcf-9cc7-42c6-886c-0c2f21f0aaa0\" xlink:show=\"new\" xlink:title=\"psysml:79f72fcf-9cc7-42c6-886c-0c2f21f0aaa0\" xlink:type=\"simple\"><rect fill=\"#FFFFFF\" height=\"45.9375\" id=\"E7\" rx=\"10\" ry=\"10\" style=\"stroke: #383838; stroke-width: 1.5;\" width=\"42\" x=\"58.5\" y=\"365\"/><text fill=\"#000000\" font-family=\"sans-serif\" font-size=\"12\" font-style=\"italic\" lengthAdjust=\"spacingAndGlyphs\" textLength=\"40\" x=\"59.5\" y=\"381.1387\">«part»</text><text fill=\"#000000\" font-family=\"sans-serif\" font-size=\"12\" lengthAdjust=\"spacingAndGlyphs\" textLength=\"8\" x=\"75.5\" y=\"395.1074\">d</text><line style=\"stroke: #383838; stroke-width: 1.5;\" x1=\"59.5\" x2=\"99.5\" y1=\"402.9375\" y2=\"402.9375\"/></a><!--MD5=[b9389687b975829384b498ac4b7476b2]\n",
       "class E8--><a href=\"psysml:7ad65eee-258f-4156-b8ec-39b80665cdbc\" target=\"_top\" title=\"psysml:7ad65eee-258f-4156-b8ec-39b80665cdbc\" xlink:actuate=\"onRequest\" xlink:href=\"psysml:7ad65eee-258f-4156-b8ec-39b80665cdbc\" xlink:show=\"new\" xlink:title=\"psysml:7ad65eee-258f-4156-b8ec-39b80665cdbc\" xlink:type=\"simple\"><rect fill=\"#FFFFFF\" height=\"45.9375\" id=\"E8\" rx=\"10\" ry=\"10\" style=\"stroke: #383838; stroke-width: 1.5;\" width=\"42\" x=\"58.5\" y=\"446\"/><text fill=\"#000000\" font-family=\"sans-serif\" font-size=\"12\" font-style=\"italic\" lengthAdjust=\"spacingAndGlyphs\" textLength=\"40\" x=\"59.5\" y=\"462.1387\">«part»</text><text fill=\"#000000\" font-family=\"sans-serif\" font-size=\"12\" lengthAdjust=\"spacingAndGlyphs\" textLength=\"8\" x=\"75.5\" y=\"476.1074\">e</text><line style=\"stroke: #383838; stroke-width: 1.5;\" x1=\"59.5\" x2=\"99.5\" y1=\"483.9375\" y2=\"483.9375\"/></a><!--MD5=[fd4143e9d270a159db93a4ea2a975926]\n",
       "class E9--><a href=\"psysml:20b1d46d-edcb-44c0-8591-3bffd604b97a\" target=\"_top\" title=\"psysml:20b1d46d-edcb-44c0-8591-3bffd604b97a\" xlink:actuate=\"onRequest\" xlink:href=\"psysml:20b1d46d-edcb-44c0-8591-3bffd604b97a\" xlink:show=\"new\" xlink:title=\"psysml:20b1d46d-edcb-44c0-8591-3bffd604b97a\" xlink:type=\"simple\"><rect fill=\"#FFFFFF\" height=\"45.9375\" id=\"E9\" rx=\"10\" ry=\"10\" style=\"stroke: #383838; stroke-width: 1.5;\" width=\"42\" x=\"58.5\" y=\"527\"/><text fill=\"#000000\" font-family=\"sans-serif\" font-size=\"12\" font-style=\"italic\" lengthAdjust=\"spacingAndGlyphs\" textLength=\"40\" x=\"59.5\" y=\"543.1387\">«part»</text><text fill=\"#000000\" font-family=\"sans-serif\" font-size=\"12\" lengthAdjust=\"spacingAndGlyphs\" textLength=\"4\" x=\"77.5\" y=\"557.1074\">f</text><line style=\"stroke: #383838; stroke-width: 1.5;\" x1=\"59.5\" x2=\"99.5\" y1=\"564.9375\" y2=\"564.9375\"/></a><!--MD5=[96f4274e9e20536e775497830990834d]\n",
       "class E10--><a href=\"psysml:25d96323-353d-45e6-96c8-f6353f2a6c2d\" target=\"_top\" title=\"psysml:25d96323-353d-45e6-96c8-f6353f2a6c2d\" xlink:actuate=\"onRequest\" xlink:href=\"psysml:25d96323-353d-45e6-96c8-f6353f2a6c2d\" xlink:show=\"new\" xlink:title=\"psysml:25d96323-353d-45e6-96c8-f6353f2a6c2d\" xlink:type=\"simple\"><rect fill=\"#FFFFFF\" height=\"45.9375\" id=\"E10\" rx=\"10\" ry=\"10\" style=\"stroke: #383838; stroke-width: 1.5;\" width=\"42\" x=\"58.5\" y=\"608\"/><text fill=\"#000000\" font-family=\"sans-serif\" font-size=\"12\" font-style=\"italic\" lengthAdjust=\"spacingAndGlyphs\" textLength=\"40\" x=\"59.5\" y=\"624.1387\">«part»</text><text fill=\"#000000\" font-family=\"sans-serif\" font-size=\"12\" lengthAdjust=\"spacingAndGlyphs\" textLength=\"8\" x=\"75.5\" y=\"638.1074\">g</text><line style=\"stroke: #383838; stroke-width: 1.5;\" x1=\"59.5\" x2=\"99.5\" y1=\"645.9375\" y2=\"645.9375\"/></a><!--MD5=[1dd1bfd58a279cf63c5f349dbc8fc6a1]\n",
       "class E11--><a href=\"psysml:05fe5b10-94f9-4e9a-a85e-b113c36136a8\" target=\"_top\" title=\"psysml:05fe5b10-94f9-4e9a-a85e-b113c36136a8\" xlink:actuate=\"onRequest\" xlink:href=\"psysml:05fe5b10-94f9-4e9a-a85e-b113c36136a8\" xlink:show=\"new\" xlink:title=\"psysml:05fe5b10-94f9-4e9a-a85e-b113c36136a8\" xlink:type=\"simple\"><rect fill=\"#FFFFFF\" height=\"88.3516\" id=\"E11\" style=\"stroke: #383838; stroke-width: 1.5;\" width=\"95\" x=\"32\" y=\"689\"/><text fill=\"#000000\" font-family=\"sans-serif\" font-size=\"12\" font-style=\"italic\" lengthAdjust=\"spacingAndGlyphs\" textLength=\"93\" x=\"33\" y=\"705.1387\">«attribute def»</text><text fill=\"#000000\" font-family=\"sans-serif\" font-size=\"12\" lengthAdjust=\"spacingAndGlyphs\" textLength=\"8\" x=\"75.5\" y=\"719.1074\">A</text><line style=\"stroke: #383838; stroke-width: 1.5;\" x1=\"33\" x2=\"126\" y1=\"726.9375\" y2=\"726.9375\"/><text fill=\"#000000\" font-family=\"sans-serif\" font-size=\"11\" lengthAdjust=\"spacingAndGlyphs\" textLength=\"51\" x=\"38\" y=\"757.9526\">i: Integer</text><text fill=\"#000000\" font-family=\"sans-serif\" font-size=\"11\" lengthAdjust=\"spacingAndGlyphs\" textLength=\"21\" x=\"38\" y=\"770.7573\">x: A</text><line style=\"stroke: #383838; stroke-width: 1.0;\" x1=\"33\" x2=\"52\" y1=\"741.3398\" y2=\"741.3398\"/><text fill=\"#000000\" font-family=\"sans-serif\" font-size=\"11\" lengthAdjust=\"spacingAndGlyphs\" textLength=\"55\" x=\"52\" y=\"744.6479\">attributes</text><line style=\"stroke: #383838; stroke-width: 1.0;\" x1=\"107\" x2=\"126\" y1=\"741.3398\" y2=\"741.3398\"/></a><!--MD5=[15ebcb19ae302d9b601edb458606d402]\n",
       "link E5 to E2--><a href=\"psysml:b71e192f-5f45-432d-9454-4642818dbb88\" target=\"_top\" title=\"psysml:b71e192f-5f45-432d-9454-4642818dbb88\" xlink:actuate=\"onRequest\" xlink:href=\"psysml:b71e192f-5f45-432d-9454-4642818dbb88\" xlink:show=\"new\" xlink:title=\"psysml:b71e192f-5f45-432d-9454-4642818dbb88\" xlink:type=\"simple\"><path d=\"M100.64,231.96 C118.11,237.13 144.16,244.84 167.38,251.72 \" fill=\"none\" id=\"E5-&gt;E2\" style=\"stroke: #383838; stroke-width: 1.0;\"/><polygon fill=\"#FFFFFF\" points=\"186.77,257.46,166.5639,258.7688,170.5445,245.3466,186.77,257.46\" style=\"stroke: #383838; stroke-width: 1.0;\"/><ellipse cx=\"161.6678\" cy=\"255.2306\" fill=\"#383838\" rx=\"2\" ry=\"2\" style=\"stroke: #383838; stroke-width: 1.0;\"/><ellipse cx=\"164.5111\" cy=\"245.6434\" fill=\"#383838\" rx=\"2\" ry=\"2\" style=\"stroke: #383838; stroke-width: 1.0;\"/></a><!--MD5=[2351f337d6de0f557b50152ba70847b5]\n",
       "link E6 to E2--><a href=\"psysml:173d30e4-d568-4354-a9e9-bb0668964c70\" target=\"_top\" title=\"psysml:173d30e4-d568-4354-a9e9-bb0668964c70\" xlink:actuate=\"onRequest\" xlink:href=\"psysml:173d30e4-d568-4354-a9e9-bb0668964c70\" xlink:show=\"new\" xlink:title=\"psysml:173d30e4-d568-4354-a9e9-bb0668964c70\" xlink:type=\"simple\"><path d=\"M100.64,301.18 C118.11,296.14 144.16,288.61 167.38,281.91 \" fill=\"none\" id=\"E6-&gt;E2\" style=\"stroke: #383838; stroke-width: 1.0;\"/><polygon fill=\"#FFFFFF\" points=\"186.77,276.31,170.4629,288.3132,166.5732,274.8644,186.77,276.31\" style=\"stroke: #383838; stroke-width: 1.0;\"/><ellipse cx=\"164.4316\" cy=\"287.9756\" fill=\"#383838\" rx=\"2\" ry=\"2\" style=\"stroke: #383838; stroke-width: 1.0;\"/><ellipse cx=\"161.6533\" cy=\"278.3693\" fill=\"#383838\" rx=\"2\" ry=\"2\" style=\"stroke: #383838; stroke-width: 1.0;\"/></a><!--MD5=[cf722a9a21b7a4c0d75fd289ef90cd54]\n",
       "@startuml\r\n",
       "left to right direction\r\n",
       "skinparam monochrome true\r\n",
       "skinparam classbackgroundcolor white\r\n",
       "skinparam shadowing false\r\n",
       "skinparam wrapWidth 300\r\n",
       "hide circle\r\n",
       "\r\n",
       "package \"MultiplicityTest\" as E1  [[psysml:c0f24ad0-fe84-484c-92fb-1b0594d1e479 ]]  {\r\n",
       "comp def \"P\" as E2  <<(T,blue) part def>> [[psysml:987e5bc7-b02a-416d-86c6-8545bfa90ef5 ]] {\r\n",
       "}\r\n",
       "comp usage \"n: Integer\" as E3  <<(T,blue) attribute>> [[psysml:7c23d281-2047-4d33-b5ff-31ab75cdc741 ]] {\r\n",
       "}\r\n",
       "comp usage \"a\" as E4  <<(T,blue) part>> [[psysml:dbbeb80c-41d4-4e5a-ae6b-125fea141b81 ]] {\r\n",
       "}\r\n",
       "comp usage \"b: P\" as E5  <<(T,blue) part>> [[psysml:1044b725-5886-488e-a280-d65b06b2678d ]] {\r\n",
       "}\r\n",
       "comp usage \"c: P\" as E6  <<(T,blue) part>> [[psysml:7163cac6-f89e-4c84-b72c-82ccdb232dd2 ]] {\r\n",
       "}\r\n",
       "comp usage \"d\" as E7  <<(T,blue) part>> [[psysml:79f72fcf-9cc7-42c6-886c-0c2f21f0aaa0 ]] {\r\n",
       "}\r\n",
       "comp usage \"e\" as E8  <<(T,blue) part>> [[psysml:7ad65eee-258f-4156-b8ec-39b80665cdbc ]] {\r\n",
       "}\r\n",
       "comp usage \"f\" as E9  <<(T,blue) part>> [[psysml:20b1d46d-edcb-44c0-8591-3bffd604b97a ]] {\r\n",
       "}\r\n",
       "comp usage \"g\" as E10  <<(T,blue) part>> [[psysml:25d96323-353d-45e6-96c8-f6353f2a6c2d ]] {\r\n",
       "}\r\n",
       "comp def \"A\" as E11  <<(T,blue) attribute def>> [[psysml:05fe5b10-94f9-4e9a-a85e-b113c36136a8 ]] {\r\n",
       "- - attributes - -\r\n",
       "i: Integer\r\n",
       "x: A\r\n",
       "}\r\n",
       "}\r\n",
       "E5 - -:|> E2 [[psysml:b71e192f-5f45-432d-9454-4642818dbb88 ]] \r\n",
       "E6 - -:|> E2 [[psysml:173d30e4-d568-4354-a9e9-bb0668964c70 ]] \r\n",
       "@enduml\r\n",
       "\n",
       "PlantUML version 1.2020.13(Sat Jun 13 12:26:38 UTC 2020)\n",
       "(EPL source distribution)\n",
       "Java Runtime: OpenJDK Runtime Environment\n",
       "JVM: OpenJDK 64-Bit Server VM\n",
       "Default Encoding: UTF-8\n",
       "Language: en\n",
       "Country: null\n",
       "--></g></svg>"
      ]
     },
     "execution_count": 16,
     "metadata": {},
     "output_type": "execute_result"
    }
   ],
   "source": [
    "%viz --style=\"LR\" --view=\"Default\" \"MultiplicityTest\""
   ]
  },
  {
   "cell_type": "code",
   "execution_count": 17,
   "id": "6850fc3c",
   "metadata": {
    "execution": {
     "iopub.execute_input": "2021-09-27T07:19:17.871834Z",
     "iopub.status.busy": "2021-09-27T07:19:17.871439Z",
     "iopub.status.idle": "2021-09-27T07:19:17.928921Z",
     "shell.execute_reply": "2021-09-27T07:19:17.929232Z"
    }
   },
   "outputs": [
    {
     "data": {
      "image/svg+xml": [
       "<?xml version=\"1.0\" encoding=\"UTF-8\" standalone=\"no\"?><svg xmlns=\"http://www.w3.org/2000/svg\" xmlns:xlink=\"http://www.w3.org/1999/xlink\" contentScriptType=\"application/ecmascript\" contentStyleType=\"text/css\" height=\"805px\" preserveAspectRatio=\"none\" style=\"width:291px;height:805px;\" version=\"1.1\" viewBox=\"0 0 291 805\" width=\"291px\" zoomAndPan=\"magnify\"><defs/><g><!--MD5=[fbc87193dbaf4d95561dea2c320d4a47]\n",
       "cluster E1--><a href=\"psysml:c0f24ad0-fe84-484c-92fb-1b0594d1e479\" target=\"_top\" title=\"psysml:c0f24ad0-fe84-484c-92fb-1b0594d1e479\" xlink:actuate=\"onRequest\" xlink:href=\"psysml:c0f24ad0-fe84-484c-92fb-1b0594d1e479\" xlink:show=\"new\" xlink:title=\"psysml:c0f24ad0-fe84-484c-92fb-1b0594d1e479\" xlink:type=\"simple\"><polygon fill=\"#FFFFFF\" points=\"16,6,123,6,130,28.2969,269,28.2969,269,793,16,793,16,6\" style=\"stroke: #000000; stroke-width: 1.5;\"/><line style=\"stroke: #000000; stroke-width: 1.5;\" x1=\"16\" x2=\"130\" y1=\"28.2969\" y2=\"28.2969\"/><text fill=\"#000000\" font-family=\"sans-serif\" font-size=\"14\" font-weight=\"bold\" lengthAdjust=\"spacingAndGlyphs\" textLength=\"101\" x=\"20\" y=\"20.9951\">MultiplicityTest</text></a><!--MD5=[b4997ac47864f28c2f74865a473b2911]\n",
       "class E2--><a href=\"psysml:987e5bc7-b02a-416d-86c6-8545bfa90ef5\" target=\"_top\" title=\"psysml:987e5bc7-b02a-416d-86c6-8545bfa90ef5\" xlink:actuate=\"onRequest\" xlink:href=\"psysml:987e5bc7-b02a-416d-86c6-8545bfa90ef5\" xlink:show=\"new\" xlink:title=\"psysml:987e5bc7-b02a-416d-86c6-8545bfa90ef5\" xlink:type=\"simple\"><rect fill=\"#FFFFFF\" height=\"45.9375\" id=\"E2\" style=\"stroke: #383838; stroke-width: 1.5;\" width=\"66\" x=\"187\" y=\"244\"/><text fill=\"#000000\" font-family=\"sans-serif\" font-size=\"12\" font-style=\"italic\" lengthAdjust=\"spacingAndGlyphs\" textLength=\"64\" x=\"188\" y=\"260.1387\">«part def»</text><text fill=\"#000000\" font-family=\"sans-serif\" font-size=\"12\" lengthAdjust=\"spacingAndGlyphs\" textLength=\"8\" x=\"216\" y=\"274.1074\">P</text><line style=\"stroke: #383838; stroke-width: 1.5;\" x1=\"188\" x2=\"252\" y1=\"281.9375\" y2=\"281.9375\"/></a><!--MD5=[09b614a08d8cba4a07c9adeb5e0fee81]\n",
       "class E3--><a href=\"psysml:7c23d281-2047-4d33-b5ff-31ab75cdc741\" target=\"_top\" title=\"psysml:7c23d281-2047-4d33-b5ff-31ab75cdc741\" xlink:actuate=\"onRequest\" xlink:href=\"psysml:7c23d281-2047-4d33-b5ff-31ab75cdc741\" xlink:show=\"new\" xlink:title=\"psysml:7c23d281-2047-4d33-b5ff-31ab75cdc741\" xlink:type=\"simple\"><rect fill=\"#FFFFFF\" height=\"45.9375\" id=\"E3\" rx=\"10\" ry=\"10\" style=\"stroke: #383838; stroke-width: 1.5;\" width=\"71\" x=\"44\" y=\"41\"/><text fill=\"#000000\" font-family=\"sans-serif\" font-size=\"12\" font-style=\"italic\" lengthAdjust=\"spacingAndGlyphs\" textLength=\"69\" x=\"45\" y=\"57.1387\">«attribute»</text><text fill=\"#000000\" font-family=\"sans-serif\" font-size=\"12\" lengthAdjust=\"spacingAndGlyphs\" textLength=\"61\" x=\"49\" y=\"71.1074\">n: Integer</text><line style=\"stroke: #383838; stroke-width: 1.5;\" x1=\"45\" x2=\"114\" y1=\"78.9375\" y2=\"78.9375\"/></a><!--MD5=[ebbe1d658d1005bcc118a6aa81145e00]\n",
       "class E4--><a href=\"psysml:dbbeb80c-41d4-4e5a-ae6b-125fea141b81\" target=\"_top\" title=\"psysml:dbbeb80c-41d4-4e5a-ae6b-125fea141b81\" xlink:actuate=\"onRequest\" xlink:href=\"psysml:dbbeb80c-41d4-4e5a-ae6b-125fea141b81\" xlink:show=\"new\" xlink:title=\"psysml:dbbeb80c-41d4-4e5a-ae6b-125fea141b81\" xlink:type=\"simple\"><rect fill=\"#FFFFFF\" height=\"45.9375\" id=\"E4\" rx=\"10\" ry=\"10\" style=\"stroke: #383838; stroke-width: 1.5;\" width=\"42\" x=\"58.5\" y=\"122\"/><text fill=\"#000000\" font-family=\"sans-serif\" font-size=\"12\" font-style=\"italic\" lengthAdjust=\"spacingAndGlyphs\" textLength=\"40\" x=\"59.5\" y=\"138.1387\">«part»</text><text fill=\"#000000\" font-family=\"sans-serif\" font-size=\"12\" lengthAdjust=\"spacingAndGlyphs\" textLength=\"8\" x=\"75.5\" y=\"152.1074\">a</text><line style=\"stroke: #383838; stroke-width: 1.5;\" x1=\"59.5\" x2=\"99.5\" y1=\"159.9375\" y2=\"159.9375\"/></a><!--MD5=[270fce915f116d4de14055a7c1d9a0f3]\n",
       "class E5--><a href=\"psysml:1044b725-5886-488e-a280-d65b06b2678d\" target=\"_top\" title=\"psysml:1044b725-5886-488e-a280-d65b06b2678d\" xlink:actuate=\"onRequest\" xlink:href=\"psysml:1044b725-5886-488e-a280-d65b06b2678d\" xlink:show=\"new\" xlink:title=\"psysml:1044b725-5886-488e-a280-d65b06b2678d\" xlink:type=\"simple\"><rect fill=\"#FFFFFF\" height=\"45.9375\" id=\"E5\" rx=\"10\" ry=\"10\" style=\"stroke: #383838; stroke-width: 1.5;\" width=\"42\" x=\"58.5\" y=\"203\"/><text fill=\"#000000\" font-family=\"sans-serif\" font-size=\"12\" font-style=\"italic\" lengthAdjust=\"spacingAndGlyphs\" textLength=\"40\" x=\"59.5\" y=\"219.1387\">«part»</text><text fill=\"#000000\" font-family=\"sans-serif\" font-size=\"12\" lengthAdjust=\"spacingAndGlyphs\" textLength=\"24\" x=\"67.5\" y=\"233.1074\">b: P</text><line style=\"stroke: #383838; stroke-width: 1.5;\" x1=\"59.5\" x2=\"99.5\" y1=\"240.9375\" y2=\"240.9375\"/></a><!--MD5=[60a26617385b1d2d0262a64233df1f8d]\n",
       "class E6--><a href=\"psysml:7163cac6-f89e-4c84-b72c-82ccdb232dd2\" target=\"_top\" title=\"psysml:7163cac6-f89e-4c84-b72c-82ccdb232dd2\" xlink:actuate=\"onRequest\" xlink:href=\"psysml:7163cac6-f89e-4c84-b72c-82ccdb232dd2\" xlink:show=\"new\" xlink:title=\"psysml:7163cac6-f89e-4c84-b72c-82ccdb232dd2\" xlink:type=\"simple\"><rect fill=\"#FFFFFF\" height=\"45.9375\" id=\"E6\" rx=\"10\" ry=\"10\" style=\"stroke: #383838; stroke-width: 1.5;\" width=\"42\" x=\"58.5\" y=\"284\"/><text fill=\"#000000\" font-family=\"sans-serif\" font-size=\"12\" font-style=\"italic\" lengthAdjust=\"spacingAndGlyphs\" textLength=\"40\" x=\"59.5\" y=\"300.1387\">«part»</text><text fill=\"#000000\" font-family=\"sans-serif\" font-size=\"12\" lengthAdjust=\"spacingAndGlyphs\" textLength=\"23\" x=\"68\" y=\"314.1074\">c: P</text><line style=\"stroke: #383838; stroke-width: 1.5;\" x1=\"59.5\" x2=\"99.5\" y1=\"321.9375\" y2=\"321.9375\"/></a><!--MD5=[2156ba9850f5573cc1fc38a6a4b2f02b]\n",
       "class E7--><a href=\"psysml:79f72fcf-9cc7-42c6-886c-0c2f21f0aaa0\" target=\"_top\" title=\"psysml:79f72fcf-9cc7-42c6-886c-0c2f21f0aaa0\" xlink:actuate=\"onRequest\" xlink:href=\"psysml:79f72fcf-9cc7-42c6-886c-0c2f21f0aaa0\" xlink:show=\"new\" xlink:title=\"psysml:79f72fcf-9cc7-42c6-886c-0c2f21f0aaa0\" xlink:type=\"simple\"><rect fill=\"#FFFFFF\" height=\"45.9375\" id=\"E7\" rx=\"10\" ry=\"10\" style=\"stroke: #383838; stroke-width: 1.5;\" width=\"42\" x=\"58.5\" y=\"365\"/><text fill=\"#000000\" font-family=\"sans-serif\" font-size=\"12\" font-style=\"italic\" lengthAdjust=\"spacingAndGlyphs\" textLength=\"40\" x=\"59.5\" y=\"381.1387\">«part»</text><text fill=\"#000000\" font-family=\"sans-serif\" font-size=\"12\" lengthAdjust=\"spacingAndGlyphs\" textLength=\"8\" x=\"75.5\" y=\"395.1074\">d</text><line style=\"stroke: #383838; stroke-width: 1.5;\" x1=\"59.5\" x2=\"99.5\" y1=\"402.9375\" y2=\"402.9375\"/></a><!--MD5=[b9389687b975829384b498ac4b7476b2]\n",
       "class E8--><a href=\"psysml:7ad65eee-258f-4156-b8ec-39b80665cdbc\" target=\"_top\" title=\"psysml:7ad65eee-258f-4156-b8ec-39b80665cdbc\" xlink:actuate=\"onRequest\" xlink:href=\"psysml:7ad65eee-258f-4156-b8ec-39b80665cdbc\" xlink:show=\"new\" xlink:title=\"psysml:7ad65eee-258f-4156-b8ec-39b80665cdbc\" xlink:type=\"simple\"><rect fill=\"#FFFFFF\" height=\"45.9375\" id=\"E8\" rx=\"10\" ry=\"10\" style=\"stroke: #383838; stroke-width: 1.5;\" width=\"42\" x=\"58.5\" y=\"446\"/><text fill=\"#000000\" font-family=\"sans-serif\" font-size=\"12\" font-style=\"italic\" lengthAdjust=\"spacingAndGlyphs\" textLength=\"40\" x=\"59.5\" y=\"462.1387\">«part»</text><text fill=\"#000000\" font-family=\"sans-serif\" font-size=\"12\" lengthAdjust=\"spacingAndGlyphs\" textLength=\"8\" x=\"75.5\" y=\"476.1074\">e</text><line style=\"stroke: #383838; stroke-width: 1.5;\" x1=\"59.5\" x2=\"99.5\" y1=\"483.9375\" y2=\"483.9375\"/></a><!--MD5=[fd4143e9d270a159db93a4ea2a975926]\n",
       "class E9--><a href=\"psysml:20b1d46d-edcb-44c0-8591-3bffd604b97a\" target=\"_top\" title=\"psysml:20b1d46d-edcb-44c0-8591-3bffd604b97a\" xlink:actuate=\"onRequest\" xlink:href=\"psysml:20b1d46d-edcb-44c0-8591-3bffd604b97a\" xlink:show=\"new\" xlink:title=\"psysml:20b1d46d-edcb-44c0-8591-3bffd604b97a\" xlink:type=\"simple\"><rect fill=\"#FFFFFF\" height=\"45.9375\" id=\"E9\" rx=\"10\" ry=\"10\" style=\"stroke: #383838; stroke-width: 1.5;\" width=\"42\" x=\"58.5\" y=\"527\"/><text fill=\"#000000\" font-family=\"sans-serif\" font-size=\"12\" font-style=\"italic\" lengthAdjust=\"spacingAndGlyphs\" textLength=\"40\" x=\"59.5\" y=\"543.1387\">«part»</text><text fill=\"#000000\" font-family=\"sans-serif\" font-size=\"12\" lengthAdjust=\"spacingAndGlyphs\" textLength=\"4\" x=\"77.5\" y=\"557.1074\">f</text><line style=\"stroke: #383838; stroke-width: 1.5;\" x1=\"59.5\" x2=\"99.5\" y1=\"564.9375\" y2=\"564.9375\"/></a><!--MD5=[96f4274e9e20536e775497830990834d]\n",
       "class E10--><a href=\"psysml:25d96323-353d-45e6-96c8-f6353f2a6c2d\" target=\"_top\" title=\"psysml:25d96323-353d-45e6-96c8-f6353f2a6c2d\" xlink:actuate=\"onRequest\" xlink:href=\"psysml:25d96323-353d-45e6-96c8-f6353f2a6c2d\" xlink:show=\"new\" xlink:title=\"psysml:25d96323-353d-45e6-96c8-f6353f2a6c2d\" xlink:type=\"simple\"><rect fill=\"#FFFFFF\" height=\"45.9375\" id=\"E10\" rx=\"10\" ry=\"10\" style=\"stroke: #383838; stroke-width: 1.5;\" width=\"42\" x=\"58.5\" y=\"608\"/><text fill=\"#000000\" font-family=\"sans-serif\" font-size=\"12\" font-style=\"italic\" lengthAdjust=\"spacingAndGlyphs\" textLength=\"40\" x=\"59.5\" y=\"624.1387\">«part»</text><text fill=\"#000000\" font-family=\"sans-serif\" font-size=\"12\" lengthAdjust=\"spacingAndGlyphs\" textLength=\"8\" x=\"75.5\" y=\"638.1074\">g</text><line style=\"stroke: #383838; stroke-width: 1.5;\" x1=\"59.5\" x2=\"99.5\" y1=\"645.9375\" y2=\"645.9375\"/></a><!--MD5=[1dd1bfd58a279cf63c5f349dbc8fc6a1]\n",
       "class E11--><a href=\"psysml:05fe5b10-94f9-4e9a-a85e-b113c36136a8\" target=\"_top\" title=\"psysml:05fe5b10-94f9-4e9a-a85e-b113c36136a8\" xlink:actuate=\"onRequest\" xlink:href=\"psysml:05fe5b10-94f9-4e9a-a85e-b113c36136a8\" xlink:show=\"new\" xlink:title=\"psysml:05fe5b10-94f9-4e9a-a85e-b113c36136a8\" xlink:type=\"simple\"><rect fill=\"#FFFFFF\" height=\"88.3516\" id=\"E11\" style=\"stroke: #383838; stroke-width: 1.5;\" width=\"95\" x=\"32\" y=\"689\"/><text fill=\"#000000\" font-family=\"sans-serif\" font-size=\"12\" font-style=\"italic\" lengthAdjust=\"spacingAndGlyphs\" textLength=\"93\" x=\"33\" y=\"705.1387\">«attribute def»</text><text fill=\"#000000\" font-family=\"sans-serif\" font-size=\"12\" lengthAdjust=\"spacingAndGlyphs\" textLength=\"8\" x=\"75.5\" y=\"719.1074\">A</text><line style=\"stroke: #383838; stroke-width: 1.5;\" x1=\"33\" x2=\"126\" y1=\"726.9375\" y2=\"726.9375\"/><text fill=\"#000000\" font-family=\"sans-serif\" font-size=\"11\" lengthAdjust=\"spacingAndGlyphs\" textLength=\"51\" x=\"38\" y=\"757.9526\">i: Integer</text><text fill=\"#000000\" font-family=\"sans-serif\" font-size=\"11\" lengthAdjust=\"spacingAndGlyphs\" textLength=\"21\" x=\"38\" y=\"770.7573\">x: A</text><line style=\"stroke: #383838; stroke-width: 1.0;\" x1=\"33\" x2=\"52\" y1=\"741.3398\" y2=\"741.3398\"/><text fill=\"#000000\" font-family=\"sans-serif\" font-size=\"11\" lengthAdjust=\"spacingAndGlyphs\" textLength=\"55\" x=\"52\" y=\"744.6479\">attributes</text><line style=\"stroke: #383838; stroke-width: 1.0;\" x1=\"107\" x2=\"126\" y1=\"741.3398\" y2=\"741.3398\"/></a><!--MD5=[15ebcb19ae302d9b601edb458606d402]\n",
       "link E5 to E2--><a href=\"psysml:b71e192f-5f45-432d-9454-4642818dbb88\" target=\"_top\" title=\"psysml:b71e192f-5f45-432d-9454-4642818dbb88\" xlink:actuate=\"onRequest\" xlink:href=\"psysml:b71e192f-5f45-432d-9454-4642818dbb88\" xlink:show=\"new\" xlink:title=\"psysml:b71e192f-5f45-432d-9454-4642818dbb88\" xlink:type=\"simple\"><path d=\"M100.64,231.96 C118.11,237.13 144.16,244.84 167.38,251.72 \" fill=\"none\" id=\"E5-&gt;E2\" style=\"stroke: #383838; stroke-width: 1.0;\"/><polygon fill=\"#FFFFFF\" points=\"186.77,257.46,166.5639,258.7688,170.5445,245.3466,186.77,257.46\" style=\"stroke: #383838; stroke-width: 1.0;\"/><ellipse cx=\"161.6678\" cy=\"255.2306\" fill=\"#383838\" rx=\"2\" ry=\"2\" style=\"stroke: #383838; stroke-width: 1.0;\"/><ellipse cx=\"164.5111\" cy=\"245.6434\" fill=\"#383838\" rx=\"2\" ry=\"2\" style=\"stroke: #383838; stroke-width: 1.0;\"/></a><!--MD5=[2351f337d6de0f557b50152ba70847b5]\n",
       "link E6 to E2--><a href=\"psysml:173d30e4-d568-4354-a9e9-bb0668964c70\" target=\"_top\" title=\"psysml:173d30e4-d568-4354-a9e9-bb0668964c70\" xlink:actuate=\"onRequest\" xlink:href=\"psysml:173d30e4-d568-4354-a9e9-bb0668964c70\" xlink:show=\"new\" xlink:title=\"psysml:173d30e4-d568-4354-a9e9-bb0668964c70\" xlink:type=\"simple\"><path d=\"M100.64,301.18 C118.11,296.14 144.16,288.61 167.38,281.91 \" fill=\"none\" id=\"E6-&gt;E2\" style=\"stroke: #383838; stroke-width: 1.0;\"/><polygon fill=\"#FFFFFF\" points=\"186.77,276.31,170.4629,288.3132,166.5732,274.8644,186.77,276.31\" style=\"stroke: #383838; stroke-width: 1.0;\"/><ellipse cx=\"164.4316\" cy=\"287.9756\" fill=\"#383838\" rx=\"2\" ry=\"2\" style=\"stroke: #383838; stroke-width: 1.0;\"/><ellipse cx=\"161.6533\" cy=\"278.3693\" fill=\"#383838\" rx=\"2\" ry=\"2\" style=\"stroke: #383838; stroke-width: 1.0;\"/></a><!--MD5=[cf722a9a21b7a4c0d75fd289ef90cd54]\n",
       "@startuml\r\n",
       "left to right direction\r\n",
       "skinparam monochrome true\r\n",
       "skinparam classbackgroundcolor white\r\n",
       "skinparam shadowing false\r\n",
       "skinparam wrapWidth 300\r\n",
       "hide circle\r\n",
       "\r\n",
       "package \"MultiplicityTest\" as E1  [[psysml:c0f24ad0-fe84-484c-92fb-1b0594d1e479 ]]  {\r\n",
       "comp def \"P\" as E2  <<(T,blue) part def>> [[psysml:987e5bc7-b02a-416d-86c6-8545bfa90ef5 ]] {\r\n",
       "}\r\n",
       "comp usage \"n: Integer\" as E3  <<(T,blue) attribute>> [[psysml:7c23d281-2047-4d33-b5ff-31ab75cdc741 ]] {\r\n",
       "}\r\n",
       "comp usage \"a\" as E4  <<(T,blue) part>> [[psysml:dbbeb80c-41d4-4e5a-ae6b-125fea141b81 ]] {\r\n",
       "}\r\n",
       "comp usage \"b: P\" as E5  <<(T,blue) part>> [[psysml:1044b725-5886-488e-a280-d65b06b2678d ]] {\r\n",
       "}\r\n",
       "comp usage \"c: P\" as E6  <<(T,blue) part>> [[psysml:7163cac6-f89e-4c84-b72c-82ccdb232dd2 ]] {\r\n",
       "}\r\n",
       "comp usage \"d\" as E7  <<(T,blue) part>> [[psysml:79f72fcf-9cc7-42c6-886c-0c2f21f0aaa0 ]] {\r\n",
       "}\r\n",
       "comp usage \"e\" as E8  <<(T,blue) part>> [[psysml:7ad65eee-258f-4156-b8ec-39b80665cdbc ]] {\r\n",
       "}\r\n",
       "comp usage \"f\" as E9  <<(T,blue) part>> [[psysml:20b1d46d-edcb-44c0-8591-3bffd604b97a ]] {\r\n",
       "}\r\n",
       "comp usage \"g\" as E10  <<(T,blue) part>> [[psysml:25d96323-353d-45e6-96c8-f6353f2a6c2d ]] {\r\n",
       "}\r\n",
       "comp def \"A\" as E11  <<(T,blue) attribute def>> [[psysml:05fe5b10-94f9-4e9a-a85e-b113c36136a8 ]] {\r\n",
       "- - attributes - -\r\n",
       "i: Integer\r\n",
       "x: A\r\n",
       "}\r\n",
       "}\r\n",
       "E5 - -:|> E2 [[psysml:b71e192f-5f45-432d-9454-4642818dbb88 ]] \r\n",
       "E6 - -:|> E2 [[psysml:173d30e4-d568-4354-a9e9-bb0668964c70 ]] \r\n",
       "@enduml\r\n",
       "\n",
       "PlantUML version 1.2020.13(Sat Jun 13 12:26:38 UTC 2020)\n",
       "(EPL source distribution)\n",
       "Java Runtime: OpenJDK Runtime Environment\n",
       "JVM: OpenJDK 64-Bit Server VM\n",
       "Default Encoding: UTF-8\n",
       "Language: en\n",
       "Country: null\n",
       "--></g></svg>"
      ]
     },
     "execution_count": 17,
     "metadata": {},
     "output_type": "execute_result"
    }
   ],
   "source": [
    "%viz --style=\"LR\" --view=\"Tree\" \"MultiplicityTest\""
   ]
  },
  {
   "cell_type": "code",
   "execution_count": 18,
   "id": "2eb430c5",
   "metadata": {
    "execution": {
     "iopub.execute_input": "2021-09-27T07:19:17.979302Z",
     "iopub.status.busy": "2021-09-27T07:19:17.978906Z",
     "iopub.status.idle": "2021-09-27T07:19:17.984206Z",
     "shell.execute_reply": "2021-09-27T07:19:17.984520Z"
    }
   },
   "outputs": [
    {
     "data": {
      "image/svg+xml": [
       "<?xml version=\"1.0\" encoding=\"UTF-8\" standalone=\"no\"?><svg xmlns=\"http://www.w3.org/2000/svg\" xmlns:xlink=\"http://www.w3.org/1999/xlink\" contentScriptType=\"application/ecmascript\" contentStyleType=\"text/css\" height=\"12px\" preserveAspectRatio=\"none\" style=\"width:12px;height:12px;\" version=\"1.1\" viewBox=\"0 0 12 12\" width=\"12px\" zoomAndPan=\"magnify\"><defs/><g><!--MD5=[19d285c9d72a204eba4e2cd117d745e8]\n",
       "@startuml\r\n",
       "left to right direction\r\n",
       "skinparam monochrome true\r\n",
       "skinparam classbackgroundcolor white\r\n",
       "skinparam shadowing false\r\n",
       "skinparam wrapWidth 300\r\n",
       "hide circle\r\n",
       "\r\n",
       "@enduml\r\n",
       "\n",
       "PlantUML version 1.2020.13(Sat Jun 13 12:26:38 UTC 2020)\n",
       "(EPL source distribution)\n",
       "Java Runtime: OpenJDK Runtime Environment\n",
       "JVM: OpenJDK 64-Bit Server VM\n",
       "Default Encoding: UTF-8\n",
       "Language: en\n",
       "Country: null\n",
       "--></g></svg>"
      ]
     },
     "execution_count": 18,
     "metadata": {},
     "output_type": "execute_result"
    }
   ],
   "source": [
    "%viz --style=\"LR\" --view=\"State\" \"MultiplicityTest\""
   ]
  },
  {
   "cell_type": "code",
   "execution_count": 19,
   "id": "c8163744",
   "metadata": {
    "execution": {
     "iopub.execute_input": "2021-09-27T07:19:18.034497Z",
     "iopub.status.busy": "2021-09-27T07:19:18.034106Z",
     "iopub.status.idle": "2021-09-27T07:19:18.067093Z",
     "shell.execute_reply": "2021-09-27T07:19:18.067405Z"
    }
   },
   "outputs": [
    {
     "data": {
      "image/svg+xml": [
       "<?xml version=\"1.0\" encoding=\"UTF-8\" standalone=\"no\"?><svg xmlns=\"http://www.w3.org/2000/svg\" xmlns:xlink=\"http://www.w3.org/1999/xlink\" contentScriptType=\"application/ecmascript\" contentStyleType=\"text/css\" height=\"797px\" preserveAspectRatio=\"none\" style=\"width:170px;height:797px;\" version=\"1.1\" viewBox=\"0 0 170 797\" width=\"170px\" zoomAndPan=\"magnify\"><defs/><g><!--MD5=[fbc87193dbaf4d95561dea2c320d4a47]\n",
       "cluster E1--><a href=\"psysml:c0f24ad0-fe84-484c-92fb-1b0594d1e479\" target=\"_top\" title=\"psysml:c0f24ad0-fe84-484c-92fb-1b0594d1e479\" xlink:actuate=\"onRequest\" xlink:href=\"psysml:c0f24ad0-fe84-484c-92fb-1b0594d1e479\" xlink:show=\"new\" xlink:title=\"psysml:c0f24ad0-fe84-484c-92fb-1b0594d1e479\" xlink:type=\"simple\"><polygon fill=\"#FFFFFF\" points=\"16,6,123,6,130,28.2969,148,28.2969,148,785,16,785,16,6\" style=\"stroke: #000000; stroke-width: 1.5;\"/><line style=\"stroke: #000000; stroke-width: 1.5;\" x1=\"16\" x2=\"130\" y1=\"28.2969\" y2=\"28.2969\"/><text fill=\"#000000\" font-family=\"sans-serif\" font-size=\"14\" font-weight=\"bold\" lengthAdjust=\"spacingAndGlyphs\" textLength=\"101\" x=\"20\" y=\"20.9951\">MultiplicityTest</text></a><!--MD5=[09b614a08d8cba4a07c9adeb5e0fee81]\n",
       "class E3--><a href=\"psysml:7c23d281-2047-4d33-b5ff-31ab75cdc741\" target=\"_top\" title=\"psysml:7c23d281-2047-4d33-b5ff-31ab75cdc741\" xlink:actuate=\"onRequest\" xlink:href=\"psysml:7c23d281-2047-4d33-b5ff-31ab75cdc741\" xlink:show=\"new\" xlink:title=\"psysml:7c23d281-2047-4d33-b5ff-31ab75cdc741\" xlink:type=\"simple\"><rect fill=\"#FFFFFF\" height=\"45.9375\" id=\"E3\" rx=\"10\" ry=\"10\" style=\"stroke: #383838; stroke-width: 1.5;\" width=\"71\" x=\"46.5\" y=\"41\"/><text fill=\"#000000\" font-family=\"sans-serif\" font-size=\"12\" font-style=\"italic\" lengthAdjust=\"spacingAndGlyphs\" textLength=\"69\" x=\"47.5\" y=\"57.1387\">«attribute»</text><text fill=\"#000000\" font-family=\"sans-serif\" font-size=\"12\" lengthAdjust=\"spacingAndGlyphs\" textLength=\"61\" x=\"51.5\" y=\"71.1074\">n: Integer</text><line style=\"stroke: #383838; stroke-width: 1.5;\" x1=\"47.5\" x2=\"116.5\" y1=\"78.9375\" y2=\"78.9375\"/></a><g id=\"E1.E11\"><a href=\"psysml:05fe5b10-94f9-4e9a-a85e-b113c36136a8\" target=\"_top\" title=\"psysml:05fe5b10-94f9-4e9a-a85e-b113c36136a8\" xlink:actuate=\"onRequest\" xlink:href=\"psysml:05fe5b10-94f9-4e9a-a85e-b113c36136a8\" xlink:show=\"new\" xlink:title=\"psysml:05fe5b10-94f9-4e9a-a85e-b113c36136a8\" xlink:type=\"simple\"><rect fill=\"#FFFFFF\" height=\"42.9375\" id=\"E11\" style=\"stroke: #383838; stroke-width: 1.5;\" width=\"100\" x=\"32\" y=\"122.5\"/><rect fill=\"#F8F8F8\" height=\"37.9375\" style=\"stroke: #383838; stroke-width: 1.5;\" width=\"100\" x=\"32\" y=\"122.5\"/><text fill=\"#000000\" font-family=\"sans-serif\" font-size=\"12\" font-style=\"italic\" lengthAdjust=\"spacingAndGlyphs\" textLength=\"93\" x=\"35.5\" y=\"138.6387\">«attribute def»</text><text fill=\"#000000\" font-family=\"sans-serif\" font-size=\"12\" lengthAdjust=\"spacingAndGlyphs\" textLength=\"8\" x=\"78\" y=\"152.6074\">A</text></a></g><g id=\"E1.E2\"><a href=\"psysml:987e5bc7-b02a-416d-86c6-8545bfa90ef5\" target=\"_top\" title=\"psysml:987e5bc7-b02a-416d-86c6-8545bfa90ef5\" xlink:actuate=\"onRequest\" xlink:href=\"psysml:987e5bc7-b02a-416d-86c6-8545bfa90ef5\" xlink:show=\"new\" xlink:title=\"psysml:987e5bc7-b02a-416d-86c6-8545bfa90ef5\" xlink:type=\"simple\"><rect fill=\"#FFFFFF\" height=\"42.9375\" id=\"E2\" style=\"stroke: #383838; stroke-width: 1.5;\" width=\"71\" x=\"46.5\" y=\"200.5\"/><rect fill=\"#F8F8F8\" height=\"37.9375\" style=\"stroke: #383838; stroke-width: 1.5;\" width=\"71\" x=\"46.5\" y=\"200.5\"/><text fill=\"#000000\" font-family=\"sans-serif\" font-size=\"12\" font-style=\"italic\" lengthAdjust=\"spacingAndGlyphs\" textLength=\"64\" x=\"50\" y=\"216.6387\">«part def»</text><text fill=\"#000000\" font-family=\"sans-serif\" font-size=\"12\" lengthAdjust=\"spacingAndGlyphs\" textLength=\"8\" x=\"78\" y=\"230.6074\">P</text></a></g><g id=\"E1.E4\"><a href=\"psysml:dbbeb80c-41d4-4e5a-ae6b-125fea141b81\" target=\"_top\" title=\"psysml:dbbeb80c-41d4-4e5a-ae6b-125fea141b81\" xlink:actuate=\"onRequest\" xlink:href=\"psysml:dbbeb80c-41d4-4e5a-ae6b-125fea141b81\" xlink:show=\"new\" xlink:title=\"psysml:dbbeb80c-41d4-4e5a-ae6b-125fea141b81\" xlink:type=\"simple\"><rect fill=\"#FFFFFF\" height=\"40\" id=\"E4\" rx=\"10\" ry=\"10\" style=\"stroke: #383838; stroke-width: 1.5;\" width=\"50\" x=\"57\" y=\"279\"/><rect fill=\"#F8F8F8\" height=\"23.9688\" rx=\"10\" ry=\"10\" style=\"stroke: #F8F8F8; stroke-width: 1.5;\" width=\"50\" x=\"57\" y=\"279\"/><rect fill=\"#F8F8F8\" height=\"10\" style=\"stroke: #F8F8F8; stroke-width: 1.5;\" width=\"50\" x=\"57\" y=\"292.9688\"/><rect fill=\"none\" height=\"40\" id=\"E4\" rx=\"10\" ry=\"10\" style=\"stroke: #383838; stroke-width: 1.5;\" width=\"50\" x=\"57\" y=\"279\"/><text fill=\"#000000\" font-family=\"sans-serif\" font-size=\"12\" lengthAdjust=\"spacingAndGlyphs\" textLength=\"8\" x=\"78\" y=\"295.1387\">a</text></a></g><g id=\"E1.E5\"><a href=\"psysml:1044b725-5886-488e-a280-d65b06b2678d\" target=\"_top\" title=\"psysml:1044b725-5886-488e-a280-d65b06b2678d\" xlink:actuate=\"onRequest\" xlink:href=\"psysml:1044b725-5886-488e-a280-d65b06b2678d\" xlink:show=\"new\" xlink:title=\"psysml:1044b725-5886-488e-a280-d65b06b2678d\" xlink:type=\"simple\"><rect fill=\"#FFFFFF\" height=\"40\" id=\"E5\" rx=\"10\" ry=\"10\" style=\"stroke: #383838; stroke-width: 1.5;\" width=\"50\" x=\"57\" y=\"354\"/><rect fill=\"#F8F8F8\" height=\"23.9688\" rx=\"10\" ry=\"10\" style=\"stroke: #F8F8F8; stroke-width: 1.5;\" width=\"50\" x=\"57\" y=\"354\"/><rect fill=\"#F8F8F8\" height=\"10\" style=\"stroke: #F8F8F8; stroke-width: 1.5;\" width=\"50\" x=\"57\" y=\"367.9688\"/><rect fill=\"none\" height=\"40\" id=\"E5\" rx=\"10\" ry=\"10\" style=\"stroke: #383838; stroke-width: 1.5;\" width=\"50\" x=\"57\" y=\"354\"/><text fill=\"#000000\" font-family=\"sans-serif\" font-size=\"12\" lengthAdjust=\"spacingAndGlyphs\" textLength=\"24\" x=\"70\" y=\"370.1387\">b: P</text></a></g><g id=\"E1.E6\"><a href=\"psysml:7163cac6-f89e-4c84-b72c-82ccdb232dd2\" target=\"_top\" title=\"psysml:7163cac6-f89e-4c84-b72c-82ccdb232dd2\" xlink:actuate=\"onRequest\" xlink:href=\"psysml:7163cac6-f89e-4c84-b72c-82ccdb232dd2\" xlink:show=\"new\" xlink:title=\"psysml:7163cac6-f89e-4c84-b72c-82ccdb232dd2\" xlink:type=\"simple\"><rect fill=\"#FFFFFF\" height=\"40\" id=\"E6\" rx=\"10\" ry=\"10\" style=\"stroke: #383838; stroke-width: 1.5;\" width=\"50\" x=\"57\" y=\"429\"/><rect fill=\"#F8F8F8\" height=\"23.9688\" rx=\"10\" ry=\"10\" style=\"stroke: #F8F8F8; stroke-width: 1.5;\" width=\"50\" x=\"57\" y=\"429\"/><rect fill=\"#F8F8F8\" height=\"10\" style=\"stroke: #F8F8F8; stroke-width: 1.5;\" width=\"50\" x=\"57\" y=\"442.9688\"/><rect fill=\"none\" height=\"40\" id=\"E6\" rx=\"10\" ry=\"10\" style=\"stroke: #383838; stroke-width: 1.5;\" width=\"50\" x=\"57\" y=\"429\"/><text fill=\"#000000\" font-family=\"sans-serif\" font-size=\"12\" lengthAdjust=\"spacingAndGlyphs\" textLength=\"23\" x=\"70.5\" y=\"445.1387\">c: P</text></a></g><g id=\"E1.E7\"><a href=\"psysml:79f72fcf-9cc7-42c6-886c-0c2f21f0aaa0\" target=\"_top\" title=\"psysml:79f72fcf-9cc7-42c6-886c-0c2f21f0aaa0\" xlink:actuate=\"onRequest\" xlink:href=\"psysml:79f72fcf-9cc7-42c6-886c-0c2f21f0aaa0\" xlink:show=\"new\" xlink:title=\"psysml:79f72fcf-9cc7-42c6-886c-0c2f21f0aaa0\" xlink:type=\"simple\"><rect fill=\"#FFFFFF\" height=\"40\" id=\"E7\" rx=\"10\" ry=\"10\" style=\"stroke: #383838; stroke-width: 1.5;\" width=\"50\" x=\"57\" y=\"504\"/><rect fill=\"#F8F8F8\" height=\"23.9688\" rx=\"10\" ry=\"10\" style=\"stroke: #F8F8F8; stroke-width: 1.5;\" width=\"50\" x=\"57\" y=\"504\"/><rect fill=\"#F8F8F8\" height=\"10\" style=\"stroke: #F8F8F8; stroke-width: 1.5;\" width=\"50\" x=\"57\" y=\"517.9688\"/><rect fill=\"none\" height=\"40\" id=\"E7\" rx=\"10\" ry=\"10\" style=\"stroke: #383838; stroke-width: 1.5;\" width=\"50\" x=\"57\" y=\"504\"/><text fill=\"#000000\" font-family=\"sans-serif\" font-size=\"12\" lengthAdjust=\"spacingAndGlyphs\" textLength=\"8\" x=\"78\" y=\"520.1387\">d</text></a></g><g id=\"E1.E8\"><a href=\"psysml:7ad65eee-258f-4156-b8ec-39b80665cdbc\" target=\"_top\" title=\"psysml:7ad65eee-258f-4156-b8ec-39b80665cdbc\" xlink:actuate=\"onRequest\" xlink:href=\"psysml:7ad65eee-258f-4156-b8ec-39b80665cdbc\" xlink:show=\"new\" xlink:title=\"psysml:7ad65eee-258f-4156-b8ec-39b80665cdbc\" xlink:type=\"simple\"><rect fill=\"#FFFFFF\" height=\"40\" id=\"E8\" rx=\"10\" ry=\"10\" style=\"stroke: #383838; stroke-width: 1.5;\" width=\"50\" x=\"57\" y=\"579\"/><rect fill=\"#F8F8F8\" height=\"23.9688\" rx=\"10\" ry=\"10\" style=\"stroke: #F8F8F8; stroke-width: 1.5;\" width=\"50\" x=\"57\" y=\"579\"/><rect fill=\"#F8F8F8\" height=\"10\" style=\"stroke: #F8F8F8; stroke-width: 1.5;\" width=\"50\" x=\"57\" y=\"592.9688\"/><rect fill=\"none\" height=\"40\" id=\"E8\" rx=\"10\" ry=\"10\" style=\"stroke: #383838; stroke-width: 1.5;\" width=\"50\" x=\"57\" y=\"579\"/><text fill=\"#000000\" font-family=\"sans-serif\" font-size=\"12\" lengthAdjust=\"spacingAndGlyphs\" textLength=\"8\" x=\"78\" y=\"595.1387\">e</text></a></g><g id=\"E1.E9\"><a href=\"psysml:20b1d46d-edcb-44c0-8591-3bffd604b97a\" target=\"_top\" title=\"psysml:20b1d46d-edcb-44c0-8591-3bffd604b97a\" xlink:actuate=\"onRequest\" xlink:href=\"psysml:20b1d46d-edcb-44c0-8591-3bffd604b97a\" xlink:show=\"new\" xlink:title=\"psysml:20b1d46d-edcb-44c0-8591-3bffd604b97a\" xlink:type=\"simple\"><rect fill=\"#FFFFFF\" height=\"40\" id=\"E9\" rx=\"10\" ry=\"10\" style=\"stroke: #383838; stroke-width: 1.5;\" width=\"50\" x=\"57\" y=\"654\"/><rect fill=\"#F8F8F8\" height=\"23.9688\" rx=\"10\" ry=\"10\" style=\"stroke: #F8F8F8; stroke-width: 1.5;\" width=\"50\" x=\"57\" y=\"654\"/><rect fill=\"#F8F8F8\" height=\"10\" style=\"stroke: #F8F8F8; stroke-width: 1.5;\" width=\"50\" x=\"57\" y=\"667.9688\"/><rect fill=\"none\" height=\"40\" id=\"E9\" rx=\"10\" ry=\"10\" style=\"stroke: #383838; stroke-width: 1.5;\" width=\"50\" x=\"57\" y=\"654\"/><text fill=\"#000000\" font-family=\"sans-serif\" font-size=\"12\" lengthAdjust=\"spacingAndGlyphs\" textLength=\"4\" x=\"80\" y=\"670.1387\">f</text></a></g><g id=\"E1.E10\"><a href=\"psysml:25d96323-353d-45e6-96c8-f6353f2a6c2d\" target=\"_top\" title=\"psysml:25d96323-353d-45e6-96c8-f6353f2a6c2d\" xlink:actuate=\"onRequest\" xlink:href=\"psysml:25d96323-353d-45e6-96c8-f6353f2a6c2d\" xlink:show=\"new\" xlink:title=\"psysml:25d96323-353d-45e6-96c8-f6353f2a6c2d\" xlink:type=\"simple\"><rect fill=\"#FFFFFF\" height=\"40\" id=\"E10\" rx=\"10\" ry=\"10\" style=\"stroke: #383838; stroke-width: 1.5;\" width=\"50\" x=\"57\" y=\"729\"/><rect fill=\"#F8F8F8\" height=\"23.9688\" rx=\"10\" ry=\"10\" style=\"stroke: #F8F8F8; stroke-width: 1.5;\" width=\"50\" x=\"57\" y=\"729\"/><rect fill=\"#F8F8F8\" height=\"10\" style=\"stroke: #F8F8F8; stroke-width: 1.5;\" width=\"50\" x=\"57\" y=\"742.9688\"/><rect fill=\"none\" height=\"40\" id=\"E10\" rx=\"10\" ry=\"10\" style=\"stroke: #383838; stroke-width: 1.5;\" width=\"50\" x=\"57\" y=\"729\"/><text fill=\"#000000\" font-family=\"sans-serif\" font-size=\"12\" lengthAdjust=\"spacingAndGlyphs\" textLength=\"8\" x=\"78\" y=\"745.1387\">g</text></a></g><!--MD5=[0b39a8dd091df419c42f5c676441f796]\n",
       "@startuml\r\n",
       "skinparam ranksep 10\r\n",
       "skinparam rectangle {\r\n",
       " backgroundColor<<block>> LightGreen\r\n",
       "}\r\n",
       "left to right direction\r\n",
       "skinparam monochrome true\r\n",
       "skinparam classbackgroundcolor white\r\n",
       "skinparam shadowing false\r\n",
       "skinparam wrapWidth 300\r\n",
       "hide circle\r\n",
       "\r\n",
       "package \"MultiplicityTest\" as E1  [[psysml:c0f24ad0-fe84-484c-92fb-1b0594d1e479 ]]  {\r\n",
       "rec def \"P\" as E2  <<(T,blue) part def>> [[psysml:987e5bc7-b02a-416d-86c6-8545bfa90ef5 ]] {\r\n",
       "}\r\n",
       "comp usage \"n: Integer\" as E3  <<(T,blue) attribute>> [[psysml:7c23d281-2047-4d33-b5ff-31ab75cdc741 ]] {\r\n",
       "}\r\n",
       "rec usage \"a\" as E4  [[psysml:dbbeb80c-41d4-4e5a-ae6b-125fea141b81 ]] {\r\n",
       "}\r\n",
       "rec usage \"b: P\" as E5  [[psysml:1044b725-5886-488e-a280-d65b06b2678d ]] {\r\n",
       "}\r\n",
       "rec usage \"c: P\" as E6  [[psysml:7163cac6-f89e-4c84-b72c-82ccdb232dd2 ]] {\r\n",
       "}\r\n",
       "rec usage \"d\" as E7  [[psysml:79f72fcf-9cc7-42c6-886c-0c2f21f0aaa0 ]] {\r\n",
       "}\r\n",
       "rec usage \"e\" as E8  [[psysml:7ad65eee-258f-4156-b8ec-39b80665cdbc ]] {\r\n",
       "}\r\n",
       "rec usage \"f\" as E9  [[psysml:20b1d46d-edcb-44c0-8591-3bffd604b97a ]] {\r\n",
       "}\r\n",
       "rec usage \"g\" as E10  [[psysml:25d96323-353d-45e6-96c8-f6353f2a6c2d ]] {\r\n",
       "}\r\n",
       "def \"A\" as E11  <<(T,blue) attribute def>> [[psysml:05fe5b10-94f9-4e9a-a85e-b113c36136a8 ]] \r\n",
       "}\r\n",
       "@enduml\r\n",
       "\n",
       "PlantUML version 1.2020.13(Sat Jun 13 12:26:38 UTC 2020)\n",
       "(EPL source distribution)\n",
       "Java Runtime: OpenJDK Runtime Environment\n",
       "JVM: OpenJDK 64-Bit Server VM\n",
       "Default Encoding: UTF-8\n",
       "Language: en\n",
       "Country: null\n",
       "--></g></svg>"
      ]
     },
     "execution_count": 19,
     "metadata": {},
     "output_type": "execute_result"
    }
   ],
   "source": [
    "%viz --style=\"LR\" --view=\"Interconnection\" \"MultiplicityTest\""
   ]
  },
  {
   "cell_type": "code",
   "execution_count": 20,
   "id": "9bfb8ce3",
   "metadata": {
    "execution": {
     "iopub.execute_input": "2021-09-27T07:19:18.117495Z",
     "iopub.status.busy": "2021-09-27T07:19:18.117096Z",
     "iopub.status.idle": "2021-09-27T07:19:18.122217Z",
     "shell.execute_reply": "2021-09-27T07:19:18.122529Z"
    }
   },
   "outputs": [
    {
     "data": {
      "image/svg+xml": [
       "<?xml version=\"1.0\" encoding=\"UTF-8\" standalone=\"no\"?><svg xmlns=\"http://www.w3.org/2000/svg\" xmlns:xlink=\"http://www.w3.org/1999/xlink\" contentScriptType=\"application/ecmascript\" contentStyleType=\"text/css\" height=\"12px\" preserveAspectRatio=\"none\" style=\"width:12px;height:12px;\" version=\"1.1\" viewBox=\"0 0 12 12\" width=\"12px\" zoomAndPan=\"magnify\"><defs/><g><!--MD5=[7aeb398939421629f6affaa4a1a7b125]\n",
       "@startuml\r\n",
       "skinparam ranksep 8\r\n",
       "left to right direction\r\n",
       "skinparam monochrome true\r\n",
       "skinparam classbackgroundcolor white\r\n",
       "skinparam shadowing false\r\n",
       "skinparam wrapWidth 300\r\n",
       "hide circle\r\n",
       "\r\n",
       "@enduml\r\n",
       "\n",
       "PlantUML version 1.2020.13(Sat Jun 13 12:26:38 UTC 2020)\n",
       "(EPL source distribution)\n",
       "Java Runtime: OpenJDK Runtime Environment\n",
       "JVM: OpenJDK 64-Bit Server VM\n",
       "Default Encoding: UTF-8\n",
       "Language: en\n",
       "Country: null\n",
       "--></g></svg>"
      ]
     },
     "execution_count": 20,
     "metadata": {},
     "output_type": "execute_result"
    }
   ],
   "source": [
    "%viz --style=\"LR\" --view=\"Action\" \"MultiplicityTest\""
   ]
  },
  {
   "cell_type": "code",
   "execution_count": 21,
   "id": "9e9a5b3f",
   "metadata": {
    "execution": {
     "iopub.execute_input": "2021-09-27T07:19:18.172785Z",
     "iopub.status.busy": "2021-09-27T07:19:18.172390Z",
     "iopub.status.idle": "2021-09-27T07:19:18.177823Z",
     "shell.execute_reply": "2021-09-27T07:19:18.178136Z"
    }
   },
   "outputs": [
    {
     "data": {
      "image/svg+xml": [
       "<?xml version=\"1.0\" encoding=\"UTF-8\" standalone=\"no\"?><svg xmlns=\"http://www.w3.org/2000/svg\" xmlns:xlink=\"http://www.w3.org/1999/xlink\" contentScriptType=\"application/ecmascript\" contentStyleType=\"text/css\" height=\"12px\" preserveAspectRatio=\"none\" style=\"width:12px;height:12px;\" version=\"1.1\" viewBox=\"0 0 12 12\" width=\"12px\" zoomAndPan=\"magnify\"><defs/><g><!--MD5=[238c11ea2002f03115ad6b49a457d50e]\n",
       "@startuml\r\n",
       "skinparam roundcorner 20\r\n",
       "skinparam BoxPadding 20\r\n",
       "skinparam SequenceBoxBackgroundColor #white\r\n",
       "skinparam style strictuml\r\n",
       "skinparam maxMessageSize 100\r\n",
       "left to right direction\r\n",
       "skinparam monochrome true\r\n",
       "skinparam classbackgroundcolor white\r\n",
       "skinparam shadowing false\r\n",
       "skinparam wrapWidth 300\r\n",
       "hide circle\r\n",
       "\r\n",
       "@enduml\r\n",
       "\n",
       "PlantUML version 1.2020.13(Sat Jun 13 12:26:38 UTC 2020)\n",
       "(EPL source distribution)\n",
       "Java Runtime: OpenJDK Runtime Environment\n",
       "JVM: OpenJDK 64-Bit Server VM\n",
       "Default Encoding: UTF-8\n",
       "Language: en\n",
       "Country: null\n",
       "--></g></svg>"
      ]
     },
     "execution_count": 21,
     "metadata": {},
     "output_type": "execute_result"
    }
   ],
   "source": [
    "%viz --style=\"LR\" --view=\"Sequence\" \"MultiplicityTest\""
   ]
  },
  {
   "cell_type": "code",
   "execution_count": 22,
   "id": "ee9af0b2",
   "metadata": {
    "execution": {
     "iopub.execute_input": "2021-09-27T07:19:18.228417Z",
     "iopub.status.busy": "2021-09-27T07:19:18.228027Z",
     "iopub.status.idle": "2021-09-27T07:19:18.289586Z",
     "shell.execute_reply": "2021-09-27T07:19:18.289257Z"
    }
   },
   "outputs": [
    {
     "data": {
      "image/svg+xml": [
       "<?xml version=\"1.0\" encoding=\"UTF-8\" standalone=\"no\"?><svg xmlns=\"http://www.w3.org/2000/svg\" xmlns:xlink=\"http://www.w3.org/1999/xlink\" contentScriptType=\"application/ecmascript\" contentStyleType=\"text/css\" height=\"805px\" preserveAspectRatio=\"none\" style=\"width:291px;height:805px;\" version=\"1.1\" viewBox=\"0 0 291 805\" width=\"291px\" zoomAndPan=\"magnify\"><defs/><g><!--MD5=[fbc87193dbaf4d95561dea2c320d4a47]\n",
       "cluster E1--><a href=\"psysml:c0f24ad0-fe84-484c-92fb-1b0594d1e479\" target=\"_top\" title=\"psysml:c0f24ad0-fe84-484c-92fb-1b0594d1e479\" xlink:actuate=\"onRequest\" xlink:href=\"psysml:c0f24ad0-fe84-484c-92fb-1b0594d1e479\" xlink:show=\"new\" xlink:title=\"psysml:c0f24ad0-fe84-484c-92fb-1b0594d1e479\" xlink:type=\"simple\"><polygon fill=\"#FFFFFF\" points=\"16,6,123,6,130,28.2969,269,28.2969,269,793,16,793,16,6\" style=\"stroke: #000000; stroke-width: 1.5;\"/><line style=\"stroke: #000000; stroke-width: 1.5;\" x1=\"16\" x2=\"130\" y1=\"28.2969\" y2=\"28.2969\"/><text fill=\"#000000\" font-family=\"sans-serif\" font-size=\"14\" font-weight=\"bold\" lengthAdjust=\"spacingAndGlyphs\" textLength=\"101\" x=\"20\" y=\"20.9951\">MultiplicityTest</text></a><!--MD5=[b4997ac47864f28c2f74865a473b2911]\n",
       "class E2--><a href=\"psysml:987e5bc7-b02a-416d-86c6-8545bfa90ef5\" target=\"_top\" title=\"psysml:987e5bc7-b02a-416d-86c6-8545bfa90ef5\" xlink:actuate=\"onRequest\" xlink:href=\"psysml:987e5bc7-b02a-416d-86c6-8545bfa90ef5\" xlink:show=\"new\" xlink:title=\"psysml:987e5bc7-b02a-416d-86c6-8545bfa90ef5\" xlink:type=\"simple\"><rect fill=\"#FFFFFF\" height=\"45.9375\" id=\"E2\" style=\"stroke: #383838; stroke-width: 1.5;\" width=\"66\" x=\"187\" y=\"244\"/><text fill=\"#000000\" font-family=\"sans-serif\" font-size=\"12\" font-style=\"italic\" lengthAdjust=\"spacingAndGlyphs\" textLength=\"64\" x=\"188\" y=\"260.1387\">«part def»</text><text fill=\"#000000\" font-family=\"sans-serif\" font-size=\"12\" lengthAdjust=\"spacingAndGlyphs\" textLength=\"8\" x=\"216\" y=\"274.1074\">P</text><line style=\"stroke: #383838; stroke-width: 1.5;\" x1=\"188\" x2=\"252\" y1=\"281.9375\" y2=\"281.9375\"/></a><!--MD5=[09b614a08d8cba4a07c9adeb5e0fee81]\n",
       "class E3--><a href=\"psysml:7c23d281-2047-4d33-b5ff-31ab75cdc741\" target=\"_top\" title=\"psysml:7c23d281-2047-4d33-b5ff-31ab75cdc741\" xlink:actuate=\"onRequest\" xlink:href=\"psysml:7c23d281-2047-4d33-b5ff-31ab75cdc741\" xlink:show=\"new\" xlink:title=\"psysml:7c23d281-2047-4d33-b5ff-31ab75cdc741\" xlink:type=\"simple\"><rect fill=\"#FFFFFF\" height=\"45.9375\" id=\"E3\" rx=\"10\" ry=\"10\" style=\"stroke: #383838; stroke-width: 1.5;\" width=\"71\" x=\"44\" y=\"41\"/><text fill=\"#000000\" font-family=\"sans-serif\" font-size=\"12\" font-style=\"italic\" lengthAdjust=\"spacingAndGlyphs\" textLength=\"69\" x=\"45\" y=\"57.1387\">«attribute»</text><text fill=\"#000000\" font-family=\"sans-serif\" font-size=\"12\" lengthAdjust=\"spacingAndGlyphs\" textLength=\"61\" x=\"49\" y=\"71.1074\">n: Integer</text><line style=\"stroke: #383838; stroke-width: 1.5;\" x1=\"45\" x2=\"114\" y1=\"78.9375\" y2=\"78.9375\"/></a><!--MD5=[ebbe1d658d1005bcc118a6aa81145e00]\n",
       "class E4--><a href=\"psysml:dbbeb80c-41d4-4e5a-ae6b-125fea141b81\" target=\"_top\" title=\"psysml:dbbeb80c-41d4-4e5a-ae6b-125fea141b81\" xlink:actuate=\"onRequest\" xlink:href=\"psysml:dbbeb80c-41d4-4e5a-ae6b-125fea141b81\" xlink:show=\"new\" xlink:title=\"psysml:dbbeb80c-41d4-4e5a-ae6b-125fea141b81\" xlink:type=\"simple\"><rect fill=\"#FFFFFF\" height=\"45.9375\" id=\"E4\" rx=\"10\" ry=\"10\" style=\"stroke: #383838; stroke-width: 1.5;\" width=\"42\" x=\"58.5\" y=\"122\"/><text fill=\"#000000\" font-family=\"sans-serif\" font-size=\"12\" font-style=\"italic\" lengthAdjust=\"spacingAndGlyphs\" textLength=\"40\" x=\"59.5\" y=\"138.1387\">«part»</text><text fill=\"#000000\" font-family=\"sans-serif\" font-size=\"12\" lengthAdjust=\"spacingAndGlyphs\" textLength=\"8\" x=\"75.5\" y=\"152.1074\">a</text><line style=\"stroke: #383838; stroke-width: 1.5;\" x1=\"59.5\" x2=\"99.5\" y1=\"159.9375\" y2=\"159.9375\"/></a><!--MD5=[270fce915f116d4de14055a7c1d9a0f3]\n",
       "class E5--><a href=\"psysml:1044b725-5886-488e-a280-d65b06b2678d\" target=\"_top\" title=\"psysml:1044b725-5886-488e-a280-d65b06b2678d\" xlink:actuate=\"onRequest\" xlink:href=\"psysml:1044b725-5886-488e-a280-d65b06b2678d\" xlink:show=\"new\" xlink:title=\"psysml:1044b725-5886-488e-a280-d65b06b2678d\" xlink:type=\"simple\"><rect fill=\"#FFFFFF\" height=\"45.9375\" id=\"E5\" rx=\"10\" ry=\"10\" style=\"stroke: #383838; stroke-width: 1.5;\" width=\"42\" x=\"58.5\" y=\"203\"/><text fill=\"#000000\" font-family=\"sans-serif\" font-size=\"12\" font-style=\"italic\" lengthAdjust=\"spacingAndGlyphs\" textLength=\"40\" x=\"59.5\" y=\"219.1387\">«part»</text><text fill=\"#000000\" font-family=\"sans-serif\" font-size=\"12\" lengthAdjust=\"spacingAndGlyphs\" textLength=\"24\" x=\"67.5\" y=\"233.1074\">b: P</text><line style=\"stroke: #383838; stroke-width: 1.5;\" x1=\"59.5\" x2=\"99.5\" y1=\"240.9375\" y2=\"240.9375\"/></a><!--MD5=[60a26617385b1d2d0262a64233df1f8d]\n",
       "class E6--><a href=\"psysml:7163cac6-f89e-4c84-b72c-82ccdb232dd2\" target=\"_top\" title=\"psysml:7163cac6-f89e-4c84-b72c-82ccdb232dd2\" xlink:actuate=\"onRequest\" xlink:href=\"psysml:7163cac6-f89e-4c84-b72c-82ccdb232dd2\" xlink:show=\"new\" xlink:title=\"psysml:7163cac6-f89e-4c84-b72c-82ccdb232dd2\" xlink:type=\"simple\"><rect fill=\"#FFFFFF\" height=\"45.9375\" id=\"E6\" rx=\"10\" ry=\"10\" style=\"stroke: #383838; stroke-width: 1.5;\" width=\"42\" x=\"58.5\" y=\"284\"/><text fill=\"#000000\" font-family=\"sans-serif\" font-size=\"12\" font-style=\"italic\" lengthAdjust=\"spacingAndGlyphs\" textLength=\"40\" x=\"59.5\" y=\"300.1387\">«part»</text><text fill=\"#000000\" font-family=\"sans-serif\" font-size=\"12\" lengthAdjust=\"spacingAndGlyphs\" textLength=\"23\" x=\"68\" y=\"314.1074\">c: P</text><line style=\"stroke: #383838; stroke-width: 1.5;\" x1=\"59.5\" x2=\"99.5\" y1=\"321.9375\" y2=\"321.9375\"/></a><!--MD5=[2156ba9850f5573cc1fc38a6a4b2f02b]\n",
       "class E7--><a href=\"psysml:79f72fcf-9cc7-42c6-886c-0c2f21f0aaa0\" target=\"_top\" title=\"psysml:79f72fcf-9cc7-42c6-886c-0c2f21f0aaa0\" xlink:actuate=\"onRequest\" xlink:href=\"psysml:79f72fcf-9cc7-42c6-886c-0c2f21f0aaa0\" xlink:show=\"new\" xlink:title=\"psysml:79f72fcf-9cc7-42c6-886c-0c2f21f0aaa0\" xlink:type=\"simple\"><rect fill=\"#FFFFFF\" height=\"45.9375\" id=\"E7\" rx=\"10\" ry=\"10\" style=\"stroke: #383838; stroke-width: 1.5;\" width=\"42\" x=\"58.5\" y=\"365\"/><text fill=\"#000000\" font-family=\"sans-serif\" font-size=\"12\" font-style=\"italic\" lengthAdjust=\"spacingAndGlyphs\" textLength=\"40\" x=\"59.5\" y=\"381.1387\">«part»</text><text fill=\"#000000\" font-family=\"sans-serif\" font-size=\"12\" lengthAdjust=\"spacingAndGlyphs\" textLength=\"8\" x=\"75.5\" y=\"395.1074\">d</text><line style=\"stroke: #383838; stroke-width: 1.5;\" x1=\"59.5\" x2=\"99.5\" y1=\"402.9375\" y2=\"402.9375\"/></a><!--MD5=[b9389687b975829384b498ac4b7476b2]\n",
       "class E8--><a href=\"psysml:7ad65eee-258f-4156-b8ec-39b80665cdbc\" target=\"_top\" title=\"psysml:7ad65eee-258f-4156-b8ec-39b80665cdbc\" xlink:actuate=\"onRequest\" xlink:href=\"psysml:7ad65eee-258f-4156-b8ec-39b80665cdbc\" xlink:show=\"new\" xlink:title=\"psysml:7ad65eee-258f-4156-b8ec-39b80665cdbc\" xlink:type=\"simple\"><rect fill=\"#FFFFFF\" height=\"45.9375\" id=\"E8\" rx=\"10\" ry=\"10\" style=\"stroke: #383838; stroke-width: 1.5;\" width=\"42\" x=\"58.5\" y=\"446\"/><text fill=\"#000000\" font-family=\"sans-serif\" font-size=\"12\" font-style=\"italic\" lengthAdjust=\"spacingAndGlyphs\" textLength=\"40\" x=\"59.5\" y=\"462.1387\">«part»</text><text fill=\"#000000\" font-family=\"sans-serif\" font-size=\"12\" lengthAdjust=\"spacingAndGlyphs\" textLength=\"8\" x=\"75.5\" y=\"476.1074\">e</text><line style=\"stroke: #383838; stroke-width: 1.5;\" x1=\"59.5\" x2=\"99.5\" y1=\"483.9375\" y2=\"483.9375\"/></a><!--MD5=[fd4143e9d270a159db93a4ea2a975926]\n",
       "class E9--><a href=\"psysml:20b1d46d-edcb-44c0-8591-3bffd604b97a\" target=\"_top\" title=\"psysml:20b1d46d-edcb-44c0-8591-3bffd604b97a\" xlink:actuate=\"onRequest\" xlink:href=\"psysml:20b1d46d-edcb-44c0-8591-3bffd604b97a\" xlink:show=\"new\" xlink:title=\"psysml:20b1d46d-edcb-44c0-8591-3bffd604b97a\" xlink:type=\"simple\"><rect fill=\"#FFFFFF\" height=\"45.9375\" id=\"E9\" rx=\"10\" ry=\"10\" style=\"stroke: #383838; stroke-width: 1.5;\" width=\"42\" x=\"58.5\" y=\"527\"/><text fill=\"#000000\" font-family=\"sans-serif\" font-size=\"12\" font-style=\"italic\" lengthAdjust=\"spacingAndGlyphs\" textLength=\"40\" x=\"59.5\" y=\"543.1387\">«part»</text><text fill=\"#000000\" font-family=\"sans-serif\" font-size=\"12\" lengthAdjust=\"spacingAndGlyphs\" textLength=\"4\" x=\"77.5\" y=\"557.1074\">f</text><line style=\"stroke: #383838; stroke-width: 1.5;\" x1=\"59.5\" x2=\"99.5\" y1=\"564.9375\" y2=\"564.9375\"/></a><!--MD5=[96f4274e9e20536e775497830990834d]\n",
       "class E10--><a href=\"psysml:25d96323-353d-45e6-96c8-f6353f2a6c2d\" target=\"_top\" title=\"psysml:25d96323-353d-45e6-96c8-f6353f2a6c2d\" xlink:actuate=\"onRequest\" xlink:href=\"psysml:25d96323-353d-45e6-96c8-f6353f2a6c2d\" xlink:show=\"new\" xlink:title=\"psysml:25d96323-353d-45e6-96c8-f6353f2a6c2d\" xlink:type=\"simple\"><rect fill=\"#FFFFFF\" height=\"45.9375\" id=\"E10\" rx=\"10\" ry=\"10\" style=\"stroke: #383838; stroke-width: 1.5;\" width=\"42\" x=\"58.5\" y=\"608\"/><text fill=\"#000000\" font-family=\"sans-serif\" font-size=\"12\" font-style=\"italic\" lengthAdjust=\"spacingAndGlyphs\" textLength=\"40\" x=\"59.5\" y=\"624.1387\">«part»</text><text fill=\"#000000\" font-family=\"sans-serif\" font-size=\"12\" lengthAdjust=\"spacingAndGlyphs\" textLength=\"8\" x=\"75.5\" y=\"638.1074\">g</text><line style=\"stroke: #383838; stroke-width: 1.5;\" x1=\"59.5\" x2=\"99.5\" y1=\"645.9375\" y2=\"645.9375\"/></a><!--MD5=[1dd1bfd58a279cf63c5f349dbc8fc6a1]\n",
       "class E11--><a href=\"psysml:05fe5b10-94f9-4e9a-a85e-b113c36136a8\" target=\"_top\" title=\"psysml:05fe5b10-94f9-4e9a-a85e-b113c36136a8\" xlink:actuate=\"onRequest\" xlink:href=\"psysml:05fe5b10-94f9-4e9a-a85e-b113c36136a8\" xlink:show=\"new\" xlink:title=\"psysml:05fe5b10-94f9-4e9a-a85e-b113c36136a8\" xlink:type=\"simple\"><rect fill=\"#FFFFFF\" height=\"88.3516\" id=\"E11\" style=\"stroke: #383838; stroke-width: 1.5;\" width=\"95\" x=\"32\" y=\"689\"/><text fill=\"#000000\" font-family=\"sans-serif\" font-size=\"12\" font-style=\"italic\" lengthAdjust=\"spacingAndGlyphs\" textLength=\"93\" x=\"33\" y=\"705.1387\">«attribute def»</text><text fill=\"#000000\" font-family=\"sans-serif\" font-size=\"12\" lengthAdjust=\"spacingAndGlyphs\" textLength=\"8\" x=\"75.5\" y=\"719.1074\">A</text><line style=\"stroke: #383838; stroke-width: 1.5;\" x1=\"33\" x2=\"126\" y1=\"726.9375\" y2=\"726.9375\"/><text fill=\"#000000\" font-family=\"sans-serif\" font-size=\"11\" lengthAdjust=\"spacingAndGlyphs\" textLength=\"51\" x=\"38\" y=\"757.9526\">i: Integer</text><text fill=\"#000000\" font-family=\"sans-serif\" font-size=\"11\" lengthAdjust=\"spacingAndGlyphs\" textLength=\"21\" x=\"38\" y=\"770.7573\">x: A</text><line style=\"stroke: #383838; stroke-width: 1.0;\" x1=\"33\" x2=\"52\" y1=\"741.3398\" y2=\"741.3398\"/><text fill=\"#000000\" font-family=\"sans-serif\" font-size=\"11\" lengthAdjust=\"spacingAndGlyphs\" textLength=\"55\" x=\"52\" y=\"744.6479\">attributes</text><line style=\"stroke: #383838; stroke-width: 1.0;\" x1=\"107\" x2=\"126\" y1=\"741.3398\" y2=\"741.3398\"/></a><!--MD5=[15ebcb19ae302d9b601edb458606d402]\n",
       "link E5 to E2--><a href=\"psysml:b71e192f-5f45-432d-9454-4642818dbb88\" target=\"_top\" title=\"psysml:b71e192f-5f45-432d-9454-4642818dbb88\" xlink:actuate=\"onRequest\" xlink:href=\"psysml:b71e192f-5f45-432d-9454-4642818dbb88\" xlink:show=\"new\" xlink:title=\"psysml:b71e192f-5f45-432d-9454-4642818dbb88\" xlink:type=\"simple\"><path d=\"M100.64,231.96 C118.11,237.13 144.16,244.84 167.38,251.72 \" fill=\"none\" id=\"E5-&gt;E2\" style=\"stroke: #383838; stroke-width: 1.0;\"/><polygon fill=\"#FFFFFF\" points=\"186.77,257.46,166.5639,258.7688,170.5445,245.3466,186.77,257.46\" style=\"stroke: #383838; stroke-width: 1.0;\"/><ellipse cx=\"161.6678\" cy=\"255.2306\" fill=\"#383838\" rx=\"2\" ry=\"2\" style=\"stroke: #383838; stroke-width: 1.0;\"/><ellipse cx=\"164.5111\" cy=\"245.6434\" fill=\"#383838\" rx=\"2\" ry=\"2\" style=\"stroke: #383838; stroke-width: 1.0;\"/></a><!--MD5=[2351f337d6de0f557b50152ba70847b5]\n",
       "link E6 to E2--><a href=\"psysml:173d30e4-d568-4354-a9e9-bb0668964c70\" target=\"_top\" title=\"psysml:173d30e4-d568-4354-a9e9-bb0668964c70\" xlink:actuate=\"onRequest\" xlink:href=\"psysml:173d30e4-d568-4354-a9e9-bb0668964c70\" xlink:show=\"new\" xlink:title=\"psysml:173d30e4-d568-4354-a9e9-bb0668964c70\" xlink:type=\"simple\"><path d=\"M100.64,301.18 C118.11,296.14 144.16,288.61 167.38,281.91 \" fill=\"none\" id=\"E6-&gt;E2\" style=\"stroke: #383838; stroke-width: 1.0;\"/><polygon fill=\"#FFFFFF\" points=\"186.77,276.31,170.4629,288.3132,166.5732,274.8644,186.77,276.31\" style=\"stroke: #383838; stroke-width: 1.0;\"/><ellipse cx=\"164.4316\" cy=\"287.9756\" fill=\"#383838\" rx=\"2\" ry=\"2\" style=\"stroke: #383838; stroke-width: 1.0;\"/><ellipse cx=\"161.6533\" cy=\"278.3693\" fill=\"#383838\" rx=\"2\" ry=\"2\" style=\"stroke: #383838; stroke-width: 1.0;\"/></a><!--MD5=[cf722a9a21b7a4c0d75fd289ef90cd54]\n",
       "@startuml\r\n",
       "left to right direction\r\n",
       "skinparam monochrome true\r\n",
       "skinparam classbackgroundcolor white\r\n",
       "skinparam shadowing false\r\n",
       "skinparam wrapWidth 300\r\n",
       "hide circle\r\n",
       "\r\n",
       "package \"MultiplicityTest\" as E1  [[psysml:c0f24ad0-fe84-484c-92fb-1b0594d1e479 ]]  {\r\n",
       "comp def \"P\" as E2  <<(T,blue) part def>> [[psysml:987e5bc7-b02a-416d-86c6-8545bfa90ef5 ]] {\r\n",
       "}\r\n",
       "comp usage \"n: Integer\" as E3  <<(T,blue) attribute>> [[psysml:7c23d281-2047-4d33-b5ff-31ab75cdc741 ]] {\r\n",
       "}\r\n",
       "comp usage \"a\" as E4  <<(T,blue) part>> [[psysml:dbbeb80c-41d4-4e5a-ae6b-125fea141b81 ]] {\r\n",
       "}\r\n",
       "comp usage \"b: P\" as E5  <<(T,blue) part>> [[psysml:1044b725-5886-488e-a280-d65b06b2678d ]] {\r\n",
       "}\r\n",
       "comp usage \"c: P\" as E6  <<(T,blue) part>> [[psysml:7163cac6-f89e-4c84-b72c-82ccdb232dd2 ]] {\r\n",
       "}\r\n",
       "comp usage \"d\" as E7  <<(T,blue) part>> [[psysml:79f72fcf-9cc7-42c6-886c-0c2f21f0aaa0 ]] {\r\n",
       "}\r\n",
       "comp usage \"e\" as E8  <<(T,blue) part>> [[psysml:7ad65eee-258f-4156-b8ec-39b80665cdbc ]] {\r\n",
       "}\r\n",
       "comp usage \"f\" as E9  <<(T,blue) part>> [[psysml:20b1d46d-edcb-44c0-8591-3bffd604b97a ]] {\r\n",
       "}\r\n",
       "comp usage \"g\" as E10  <<(T,blue) part>> [[psysml:25d96323-353d-45e6-96c8-f6353f2a6c2d ]] {\r\n",
       "}\r\n",
       "comp def \"A\" as E11  <<(T,blue) attribute def>> [[psysml:05fe5b10-94f9-4e9a-a85e-b113c36136a8 ]] {\r\n",
       "- - attributes - -\r\n",
       "i: Integer\r\n",
       "x: A\r\n",
       "}\r\n",
       "}\r\n",
       "E5 - -:|> E2 [[psysml:b71e192f-5f45-432d-9454-4642818dbb88 ]] \r\n",
       "E6 - -:|> E2 [[psysml:173d30e4-d568-4354-a9e9-bb0668964c70 ]] \r\n",
       "@enduml\r\n",
       "\n",
       "PlantUML version 1.2020.13(Sat Jun 13 12:26:38 UTC 2020)\n",
       "(EPL source distribution)\n",
       "Java Runtime: OpenJDK Runtime Environment\n",
       "JVM: OpenJDK 64-Bit Server VM\n",
       "Default Encoding: UTF-8\n",
       "Language: en\n",
       "Country: null\n",
       "--></g></svg>"
      ]
     },
     "execution_count": 22,
     "metadata": {},
     "output_type": "execute_result"
    }
   ],
   "source": [
    "%viz --style=\"LR\" --view=\"MIXED\" \"MultiplicityTest\""
   ]
  },
  {
   "cell_type": "code",
   "execution_count": 23,
   "id": "52efac6c",
   "metadata": {
    "execution": {
     "iopub.execute_input": "2021-09-27T07:19:18.339566Z",
     "iopub.status.busy": "2021-09-27T07:19:18.339172Z",
     "iopub.status.idle": "2021-09-27T07:19:18.384570Z",
     "shell.execute_reply": "2021-09-27T07:19:18.384183Z"
    }
   },
   "outputs": [
    {
     "data": {
      "image/svg+xml": [
       "<?xml version=\"1.0\" encoding=\"UTF-8\" standalone=\"no\"?><svg xmlns=\"http://www.w3.org/2000/svg\" xmlns:xlink=\"http://www.w3.org/1999/xlink\" contentScriptType=\"application/ecmascript\" contentStyleType=\"text/css\" height=\"247px\" preserveAspectRatio=\"none\" style=\"width:812px;height:247px;\" version=\"1.1\" viewBox=\"0 0 812 247\" width=\"812px\" zoomAndPan=\"magnify\"><defs><filter height=\"300%\" id=\"f19uiv3hz3dcpd\" width=\"300%\" x=\"-1\" y=\"-1\"><feGaussianBlur result=\"blurOut\" stdDeviation=\"2.0\"/><feColorMatrix in=\"blurOut\" result=\"blurOut2\" type=\"matrix\" values=\"0 0 0 0 0 0 0 0 0 0 0 0 0 0 0 0 0 0 .4 0\"/><feOffset dx=\"4.0\" dy=\"4.0\" in=\"blurOut2\" result=\"blurOut3\"/><feBlend in=\"SourceGraphic\" in2=\"blurOut3\" mode=\"normal\"/></filter></defs><g><!--MD5=[fbc87193dbaf4d95561dea2c320d4a47]\n",
       "cluster E1--><a href=\"psysml:c0f24ad0-fe84-484c-92fb-1b0594d1e479\" target=\"_top\" title=\"psysml:c0f24ad0-fe84-484c-92fb-1b0594d1e479\" xlink:actuate=\"onRequest\" xlink:href=\"psysml:c0f24ad0-fe84-484c-92fb-1b0594d1e479\" xlink:show=\"new\" xlink:title=\"psysml:c0f24ad0-fe84-484c-92fb-1b0594d1e479\" xlink:type=\"simple\"><polygon fill=\"#FFFFFF\" filter=\"url(#f19uiv3hz3dcpd)\" points=\"16,6,123,6,130,28.2969,790,28.2969,790,235,16,235,16,6\" style=\"stroke: #000000; stroke-width: 1.5;\"/><line style=\"stroke: #000000; stroke-width: 1.5;\" x1=\"16\" x2=\"130\" y1=\"28.2969\" y2=\"28.2969\"/><text fill=\"#000000\" font-family=\"sans-serif\" font-size=\"14\" font-weight=\"bold\" lengthAdjust=\"spacingAndGlyphs\" textLength=\"101\" x=\"20\" y=\"20.9951\">MultiplicityTest</text></a><!--MD5=[b4997ac47864f28c2f74865a473b2911]\n",
       "class E2--><a href=\"psysml:987e5bc7-b02a-416d-86c6-8545bfa90ef5\" target=\"_top\" title=\"psysml:987e5bc7-b02a-416d-86c6-8545bfa90ef5\" xlink:actuate=\"onRequest\" xlink:href=\"psysml:987e5bc7-b02a-416d-86c6-8545bfa90ef5\" xlink:show=\"new\" xlink:title=\"psysml:987e5bc7-b02a-416d-86c6-8545bfa90ef5\" xlink:type=\"simple\"><rect fill=\"#FEFECE\" filter=\"url(#f19uiv3hz3dcpd)\" height=\"45.9375\" id=\"E2\" style=\"stroke: #A80036; stroke-width: 1.5;\" width=\"66\" x=\"497\" y=\"173\"/><text fill=\"#000000\" font-family=\"sans-serif\" font-size=\"12\" font-style=\"italic\" lengthAdjust=\"spacingAndGlyphs\" textLength=\"64\" x=\"498\" y=\"189.1387\">«part def»</text><text fill=\"#000000\" font-family=\"sans-serif\" font-size=\"12\" lengthAdjust=\"spacingAndGlyphs\" textLength=\"8\" x=\"526\" y=\"203.1074\">P</text><line style=\"stroke: #A80036; stroke-width: 1.5;\" x1=\"498\" x2=\"562\" y1=\"210.9375\" y2=\"210.9375\"/></a><!--MD5=[09b614a08d8cba4a07c9adeb5e0fee81]\n",
       "class E3--><a href=\"psysml:7c23d281-2047-4d33-b5ff-31ab75cdc741\" target=\"_top\" title=\"psysml:7c23d281-2047-4d33-b5ff-31ab75cdc741\" xlink:actuate=\"onRequest\" xlink:href=\"psysml:7c23d281-2047-4d33-b5ff-31ab75cdc741\" xlink:show=\"new\" xlink:title=\"psysml:7c23d281-2047-4d33-b5ff-31ab75cdc741\" xlink:type=\"simple\"><rect fill=\"#FEFECE\" filter=\"url(#f19uiv3hz3dcpd)\" height=\"45.9375\" id=\"E3\" rx=\"10\" ry=\"10\" style=\"stroke: #A80036; stroke-width: 1.5;\" width=\"71\" x=\"702.5\" y=\"54\"/><text fill=\"#000000\" font-family=\"sans-serif\" font-size=\"12\" font-style=\"italic\" lengthAdjust=\"spacingAndGlyphs\" textLength=\"69\" x=\"703.5\" y=\"70.1387\">«attribute»</text><text fill=\"#000000\" font-family=\"sans-serif\" font-size=\"12\" lengthAdjust=\"spacingAndGlyphs\" textLength=\"61\" x=\"707.5\" y=\"84.1074\">n: Integer</text><line style=\"stroke: #A80036; stroke-width: 1.5;\" x1=\"703.5\" x2=\"772.5\" y1=\"91.9375\" y2=\"91.9375\"/></a><!--MD5=[ebbe1d658d1005bcc118a6aa81145e00]\n",
       "class E4--><a href=\"psysml:dbbeb80c-41d4-4e5a-ae6b-125fea141b81\" target=\"_top\" title=\"psysml:dbbeb80c-41d4-4e5a-ae6b-125fea141b81\" xlink:actuate=\"onRequest\" xlink:href=\"psysml:dbbeb80c-41d4-4e5a-ae6b-125fea141b81\" xlink:show=\"new\" xlink:title=\"psysml:dbbeb80c-41d4-4e5a-ae6b-125fea141b81\" xlink:type=\"simple\"><rect fill=\"#FEFECE\" filter=\"url(#f19uiv3hz3dcpd)\" height=\"45.9375\" id=\"E4\" rx=\"10\" ry=\"10\" style=\"stroke: #A80036; stroke-width: 1.5;\" width=\"42\" x=\"625\" y=\"54\"/><text fill=\"#000000\" font-family=\"sans-serif\" font-size=\"12\" font-style=\"italic\" lengthAdjust=\"spacingAndGlyphs\" textLength=\"40\" x=\"626\" y=\"70.1387\">«part»</text><text fill=\"#000000\" font-family=\"sans-serif\" font-size=\"12\" lengthAdjust=\"spacingAndGlyphs\" textLength=\"8\" x=\"642\" y=\"84.1074\">a</text><line style=\"stroke: #A80036; stroke-width: 1.5;\" x1=\"626\" x2=\"666\" y1=\"91.9375\" y2=\"91.9375\"/></a><!--MD5=[270fce915f116d4de14055a7c1d9a0f3]\n",
       "class E5--><a href=\"psysml:1044b725-5886-488e-a280-d65b06b2678d\" target=\"_top\" title=\"psysml:1044b725-5886-488e-a280-d65b06b2678d\" xlink:actuate=\"onRequest\" xlink:href=\"psysml:1044b725-5886-488e-a280-d65b06b2678d\" xlink:show=\"new\" xlink:title=\"psysml:1044b725-5886-488e-a280-d65b06b2678d\" xlink:type=\"simple\"><rect fill=\"#FEFECE\" filter=\"url(#f19uiv3hz3dcpd)\" height=\"45.9375\" id=\"E5\" rx=\"10\" ry=\"10\" style=\"stroke: #A80036; stroke-width: 1.5;\" width=\"42\" x=\"548\" y=\"54\"/><text fill=\"#000000\" font-family=\"sans-serif\" font-size=\"12\" font-style=\"italic\" lengthAdjust=\"spacingAndGlyphs\" textLength=\"40\" x=\"549\" y=\"70.1387\">«part»</text><text fill=\"#000000\" font-family=\"sans-serif\" font-size=\"12\" lengthAdjust=\"spacingAndGlyphs\" textLength=\"24\" x=\"557\" y=\"84.1074\">b: P</text><line style=\"stroke: #A80036; stroke-width: 1.5;\" x1=\"549\" x2=\"589\" y1=\"91.9375\" y2=\"91.9375\"/></a><!--MD5=[60a26617385b1d2d0262a64233df1f8d]\n",
       "class E6--><a href=\"psysml:7163cac6-f89e-4c84-b72c-82ccdb232dd2\" target=\"_top\" title=\"psysml:7163cac6-f89e-4c84-b72c-82ccdb232dd2\" xlink:actuate=\"onRequest\" xlink:href=\"psysml:7163cac6-f89e-4c84-b72c-82ccdb232dd2\" xlink:show=\"new\" xlink:title=\"psysml:7163cac6-f89e-4c84-b72c-82ccdb232dd2\" xlink:type=\"simple\"><rect fill=\"#FEFECE\" filter=\"url(#f19uiv3hz3dcpd)\" height=\"45.9375\" id=\"E6\" rx=\"10\" ry=\"10\" style=\"stroke: #A80036; stroke-width: 1.5;\" width=\"42\" x=\"471\" y=\"54\"/><text fill=\"#000000\" font-family=\"sans-serif\" font-size=\"12\" font-style=\"italic\" lengthAdjust=\"spacingAndGlyphs\" textLength=\"40\" x=\"472\" y=\"70.1387\">«part»</text><text fill=\"#000000\" font-family=\"sans-serif\" font-size=\"12\" lengthAdjust=\"spacingAndGlyphs\" textLength=\"23\" x=\"480.5\" y=\"84.1074\">c: P</text><line style=\"stroke: #A80036; stroke-width: 1.5;\" x1=\"472\" x2=\"512\" y1=\"91.9375\" y2=\"91.9375\"/></a><!--MD5=[2156ba9850f5573cc1fc38a6a4b2f02b]\n",
       "class E7--><a href=\"psysml:79f72fcf-9cc7-42c6-886c-0c2f21f0aaa0\" target=\"_top\" title=\"psysml:79f72fcf-9cc7-42c6-886c-0c2f21f0aaa0\" xlink:actuate=\"onRequest\" xlink:href=\"psysml:79f72fcf-9cc7-42c6-886c-0c2f21f0aaa0\" xlink:show=\"new\" xlink:title=\"psysml:79f72fcf-9cc7-42c6-886c-0c2f21f0aaa0\" xlink:type=\"simple\"><rect fill=\"#FEFECE\" filter=\"url(#f19uiv3hz3dcpd)\" height=\"45.9375\" id=\"E7\" rx=\"10\" ry=\"10\" style=\"stroke: #A80036; stroke-width: 1.5;\" width=\"42\" x=\"394\" y=\"54\"/><text fill=\"#000000\" font-family=\"sans-serif\" font-size=\"12\" font-style=\"italic\" lengthAdjust=\"spacingAndGlyphs\" textLength=\"40\" x=\"395\" y=\"70.1387\">«part»</text><text fill=\"#000000\" font-family=\"sans-serif\" font-size=\"12\" lengthAdjust=\"spacingAndGlyphs\" textLength=\"8\" x=\"411\" y=\"84.1074\">d</text><line style=\"stroke: #A80036; stroke-width: 1.5;\" x1=\"395\" x2=\"435\" y1=\"91.9375\" y2=\"91.9375\"/></a><!--MD5=[b9389687b975829384b498ac4b7476b2]\n",
       "class E8--><a href=\"psysml:7ad65eee-258f-4156-b8ec-39b80665cdbc\" target=\"_top\" title=\"psysml:7ad65eee-258f-4156-b8ec-39b80665cdbc\" xlink:actuate=\"onRequest\" xlink:href=\"psysml:7ad65eee-258f-4156-b8ec-39b80665cdbc\" xlink:show=\"new\" xlink:title=\"psysml:7ad65eee-258f-4156-b8ec-39b80665cdbc\" xlink:type=\"simple\"><rect fill=\"#FEFECE\" filter=\"url(#f19uiv3hz3dcpd)\" height=\"45.9375\" id=\"E8\" rx=\"10\" ry=\"10\" style=\"stroke: #A80036; stroke-width: 1.5;\" width=\"42\" x=\"317\" y=\"54\"/><text fill=\"#000000\" font-family=\"sans-serif\" font-size=\"12\" font-style=\"italic\" lengthAdjust=\"spacingAndGlyphs\" textLength=\"40\" x=\"318\" y=\"70.1387\">«part»</text><text fill=\"#000000\" font-family=\"sans-serif\" font-size=\"12\" lengthAdjust=\"spacingAndGlyphs\" textLength=\"8\" x=\"334\" y=\"84.1074\">e</text><line style=\"stroke: #A80036; stroke-width: 1.5;\" x1=\"318\" x2=\"358\" y1=\"91.9375\" y2=\"91.9375\"/></a><!--MD5=[fd4143e9d270a159db93a4ea2a975926]\n",
       "class E9--><a href=\"psysml:20b1d46d-edcb-44c0-8591-3bffd604b97a\" target=\"_top\" title=\"psysml:20b1d46d-edcb-44c0-8591-3bffd604b97a\" xlink:actuate=\"onRequest\" xlink:href=\"psysml:20b1d46d-edcb-44c0-8591-3bffd604b97a\" xlink:show=\"new\" xlink:title=\"psysml:20b1d46d-edcb-44c0-8591-3bffd604b97a\" xlink:type=\"simple\"><rect fill=\"#FEFECE\" filter=\"url(#f19uiv3hz3dcpd)\" height=\"45.9375\" id=\"E9\" rx=\"10\" ry=\"10\" style=\"stroke: #A80036; stroke-width: 1.5;\" width=\"42\" x=\"240\" y=\"54\"/><text fill=\"#000000\" font-family=\"sans-serif\" font-size=\"12\" font-style=\"italic\" lengthAdjust=\"spacingAndGlyphs\" textLength=\"40\" x=\"241\" y=\"70.1387\">«part»</text><text fill=\"#000000\" font-family=\"sans-serif\" font-size=\"12\" lengthAdjust=\"spacingAndGlyphs\" textLength=\"4\" x=\"259\" y=\"84.1074\">f</text><line style=\"stroke: #A80036; stroke-width: 1.5;\" x1=\"241\" x2=\"281\" y1=\"91.9375\" y2=\"91.9375\"/></a><!--MD5=[96f4274e9e20536e775497830990834d]\n",
       "class E10--><a href=\"psysml:25d96323-353d-45e6-96c8-f6353f2a6c2d\" target=\"_top\" title=\"psysml:25d96323-353d-45e6-96c8-f6353f2a6c2d\" xlink:actuate=\"onRequest\" xlink:href=\"psysml:25d96323-353d-45e6-96c8-f6353f2a6c2d\" xlink:show=\"new\" xlink:title=\"psysml:25d96323-353d-45e6-96c8-f6353f2a6c2d\" xlink:type=\"simple\"><rect fill=\"#FEFECE\" filter=\"url(#f19uiv3hz3dcpd)\" height=\"45.9375\" id=\"E10\" rx=\"10\" ry=\"10\" style=\"stroke: #A80036; stroke-width: 1.5;\" width=\"42\" x=\"163\" y=\"54\"/><text fill=\"#000000\" font-family=\"sans-serif\" font-size=\"12\" font-style=\"italic\" lengthAdjust=\"spacingAndGlyphs\" textLength=\"40\" x=\"164\" y=\"70.1387\">«part»</text><text fill=\"#000000\" font-family=\"sans-serif\" font-size=\"12\" lengthAdjust=\"spacingAndGlyphs\" textLength=\"8\" x=\"180\" y=\"84.1074\">g</text><line style=\"stroke: #A80036; stroke-width: 1.5;\" x1=\"164\" x2=\"204\" y1=\"91.9375\" y2=\"91.9375\"/></a><!--MD5=[1dd1bfd58a279cf63c5f349dbc8fc6a1]\n",
       "class E11--><a href=\"psysml:05fe5b10-94f9-4e9a-a85e-b113c36136a8\" target=\"_top\" title=\"psysml:05fe5b10-94f9-4e9a-a85e-b113c36136a8\" xlink:actuate=\"onRequest\" xlink:href=\"psysml:05fe5b10-94f9-4e9a-a85e-b113c36136a8\" xlink:show=\"new\" xlink:title=\"psysml:05fe5b10-94f9-4e9a-a85e-b113c36136a8\" xlink:type=\"simple\"><rect fill=\"#FEFECE\" filter=\"url(#f19uiv3hz3dcpd)\" height=\"71.5469\" id=\"E11\" style=\"stroke: #A80036; stroke-width: 1.5;\" width=\"95\" x=\"32.5\" y=\"41\"/><text fill=\"#000000\" font-family=\"sans-serif\" font-size=\"12\" font-style=\"italic\" lengthAdjust=\"spacingAndGlyphs\" textLength=\"93\" x=\"33.5\" y=\"57.1387\">«attribute def»</text><text fill=\"#000000\" font-family=\"sans-serif\" font-size=\"12\" lengthAdjust=\"spacingAndGlyphs\" textLength=\"8\" x=\"76\" y=\"71.1074\">A</text><line style=\"stroke: #A80036; stroke-width: 1.5;\" x1=\"33.5\" x2=\"126.5\" y1=\"78.9375\" y2=\"78.9375\"/><text fill=\"#000000\" font-family=\"sans-serif\" font-size=\"11\" lengthAdjust=\"spacingAndGlyphs\" textLength=\"51\" x=\"38.5\" y=\"93.1479\">i: Integer</text><text fill=\"#000000\" font-family=\"sans-serif\" font-size=\"11\" lengthAdjust=\"spacingAndGlyphs\" textLength=\"21\" x=\"38.5\" y=\"105.9526\">x: A</text></a><!--MD5=[15ebcb19ae302d9b601edb458606d402]\n",
       "link E5 to E2--><a href=\"psysml:b71e192f-5f45-432d-9454-4642818dbb88\" target=\"_top\" title=\"psysml:b71e192f-5f45-432d-9454-4642818dbb88\" xlink:actuate=\"onRequest\" xlink:href=\"psysml:b71e192f-5f45-432d-9454-4642818dbb88\" xlink:show=\"new\" xlink:title=\"psysml:b71e192f-5f45-432d-9454-4642818dbb88\" xlink:type=\"simple\"><path d=\"M561.66,100.01 C556.63,115.11 549.8,135.61 543.76,153.71 \" fill=\"none\" id=\"E5-&gt;E2\" style=\"stroke: #A80036; stroke-width: 1.0;\"/><polygon fill=\"#FFFFFF\" points=\"537.44,172.69,536.7984,152.4517,550.082,156.8729,537.44,172.69\" style=\"stroke: #A80036; stroke-width: 1.0;\"/><ellipse cx=\"540.4961\" cy=\"147.675\" fill=\"#A80036\" rx=\"2\" ry=\"2\" style=\"stroke: #A80036; stroke-width: 1.0;\"/><ellipse cx=\"549.9844\" cy=\"150.833\" fill=\"#A80036\" rx=\"2\" ry=\"2\" style=\"stroke: #A80036; stroke-width: 1.0;\"/></a><!--MD5=[2351f337d6de0f557b50152ba70847b5]\n",
       "link E6 to E2--><a href=\"psysml:173d30e4-d568-4354-a9e9-bb0668964c70\" target=\"_top\" title=\"psysml:173d30e4-d568-4354-a9e9-bb0668964c70\" xlink:actuate=\"onRequest\" xlink:href=\"psysml:173d30e4-d568-4354-a9e9-bb0668964c70\" xlink:show=\"new\" xlink:title=\"psysml:173d30e4-d568-4354-a9e9-bb0668964c70\" xlink:type=\"simple\"><path d=\"M499.15,100.01 C504.03,115.03 510.64,135.39 516.49,153.41 \" fill=\"none\" id=\"E6-&gt;E2\" style=\"stroke: #A80036; stroke-width: 1.0;\"/><polygon fill=\"#FFFFFF\" points=\"522.76,172.69,510.2363,156.7791,523.5525,152.4571,522.76,172.69\" style=\"stroke: #A80036; stroke-width: 1.0;\"/><ellipse cx=\"510.379\" cy=\"150.74\" fill=\"#A80036\" rx=\"2\" ry=\"2\" style=\"stroke: #A80036; stroke-width: 1.0;\"/><ellipse cx=\"519.8905\" cy=\"147.6529\" fill=\"#A80036\" rx=\"2\" ry=\"2\" style=\"stroke: #A80036; stroke-width: 1.0;\"/></a><!--MD5=[a6de9d5fabce53bd33ca710bb3b51ec4]\n",
       "@startuml\r\n",
       "skinparam wrapWidth 300\r\n",
       "hide circle\r\n",
       "\r\n",
       "package \"MultiplicityTest\" as E1  [[psysml:c0f24ad0-fe84-484c-92fb-1b0594d1e479 ]]  {\r\n",
       "comp def \"P\" as E2  <<(T,blue) part def>> [[psysml:987e5bc7-b02a-416d-86c6-8545bfa90ef5 ]] {\r\n",
       "}\r\n",
       "comp usage \"n: Integer\" as E3  <<(T,blue) attribute>> [[psysml:7c23d281-2047-4d33-b5ff-31ab75cdc741 ]] {\r\n",
       "}\r\n",
       "comp usage \"a\" as E4  <<(T,blue) part>> [[psysml:dbbeb80c-41d4-4e5a-ae6b-125fea141b81 ]] {\r\n",
       "}\r\n",
       "comp usage \"b: P\" as E5  <<(T,blue) part>> [[psysml:1044b725-5886-488e-a280-d65b06b2678d ]] {\r\n",
       "}\r\n",
       "comp usage \"c: P\" as E6  <<(T,blue) part>> [[psysml:7163cac6-f89e-4c84-b72c-82ccdb232dd2 ]] {\r\n",
       "}\r\n",
       "comp usage \"d\" as E7  <<(T,blue) part>> [[psysml:79f72fcf-9cc7-42c6-886c-0c2f21f0aaa0 ]] {\r\n",
       "}\r\n",
       "comp usage \"e\" as E8  <<(T,blue) part>> [[psysml:7ad65eee-258f-4156-b8ec-39b80665cdbc ]] {\r\n",
       "}\r\n",
       "comp usage \"f\" as E9  <<(T,blue) part>> [[psysml:20b1d46d-edcb-44c0-8591-3bffd604b97a ]] {\r\n",
       "}\r\n",
       "comp usage \"g\" as E10  <<(T,blue) part>> [[psysml:25d96323-353d-45e6-96c8-f6353f2a6c2d ]] {\r\n",
       "}\r\n",
       "comp def \"A\" as E11  <<(T,blue) attribute def>> [[psysml:05fe5b10-94f9-4e9a-a85e-b113c36136a8 ]] {\r\n",
       "i: Integer\r\n",
       "x: A\r\n",
       "}\r\n",
       "}\r\n",
       "E5 - -:|> E2 [[psysml:b71e192f-5f45-432d-9454-4642818dbb88 ]] \r\n",
       "E6 - -:|> E2 [[psysml:173d30e4-d568-4354-a9e9-bb0668964c70 ]] \r\n",
       "@enduml\r\n",
       "\n",
       "PlantUML version 1.2020.13(Sat Jun 13 12:26:38 UTC 2020)\n",
       "(EPL source distribution)\n",
       "Java Runtime: OpenJDK Runtime Environment\n",
       "JVM: OpenJDK 64-Bit Server VM\n",
       "Default Encoding: UTF-8\n",
       "Language: en\n",
       "Country: null\n",
       "--></g></svg>"
      ]
     },
     "execution_count": 23,
     "metadata": {},
     "output_type": "execute_result"
    }
   ],
   "source": [
    "%viz --style=\"STDCOLOR\" --view=\"Default\" \"MultiplicityTest\""
   ]
  },
  {
   "cell_type": "code",
   "execution_count": 24,
   "id": "8bb1ba1c",
   "metadata": {
    "execution": {
     "iopub.execute_input": "2021-09-27T07:19:18.434201Z",
     "iopub.status.busy": "2021-09-27T07:19:18.433917Z",
     "iopub.status.idle": "2021-09-27T07:19:18.485150Z",
     "shell.execute_reply": "2021-09-27T07:19:18.483777Z"
    }
   },
   "outputs": [
    {
     "data": {
      "image/svg+xml": [
       "<?xml version=\"1.0\" encoding=\"UTF-8\" standalone=\"no\"?><svg xmlns=\"http://www.w3.org/2000/svg\" xmlns:xlink=\"http://www.w3.org/1999/xlink\" contentScriptType=\"application/ecmascript\" contentStyleType=\"text/css\" height=\"247px\" preserveAspectRatio=\"none\" style=\"width:812px;height:247px;\" version=\"1.1\" viewBox=\"0 0 812 247\" width=\"812px\" zoomAndPan=\"magnify\"><defs><filter height=\"300%\" id=\"f19uiv3hz3dcpd\" width=\"300%\" x=\"-1\" y=\"-1\"><feGaussianBlur result=\"blurOut\" stdDeviation=\"2.0\"/><feColorMatrix in=\"blurOut\" result=\"blurOut2\" type=\"matrix\" values=\"0 0 0 0 0 0 0 0 0 0 0 0 0 0 0 0 0 0 .4 0\"/><feOffset dx=\"4.0\" dy=\"4.0\" in=\"blurOut2\" result=\"blurOut3\"/><feBlend in=\"SourceGraphic\" in2=\"blurOut3\" mode=\"normal\"/></filter></defs><g><!--MD5=[fbc87193dbaf4d95561dea2c320d4a47]\n",
       "cluster E1--><a href=\"psysml:c0f24ad0-fe84-484c-92fb-1b0594d1e479\" target=\"_top\" title=\"psysml:c0f24ad0-fe84-484c-92fb-1b0594d1e479\" xlink:actuate=\"onRequest\" xlink:href=\"psysml:c0f24ad0-fe84-484c-92fb-1b0594d1e479\" xlink:show=\"new\" xlink:title=\"psysml:c0f24ad0-fe84-484c-92fb-1b0594d1e479\" xlink:type=\"simple\"><polygon fill=\"#FFFFFF\" filter=\"url(#f19uiv3hz3dcpd)\" points=\"16,6,123,6,130,28.2969,790,28.2969,790,235,16,235,16,6\" style=\"stroke: #000000; stroke-width: 1.5;\"/><line style=\"stroke: #000000; stroke-width: 1.5;\" x1=\"16\" x2=\"130\" y1=\"28.2969\" y2=\"28.2969\"/><text fill=\"#000000\" font-family=\"sans-serif\" font-size=\"14\" font-weight=\"bold\" lengthAdjust=\"spacingAndGlyphs\" textLength=\"101\" x=\"20\" y=\"20.9951\">MultiplicityTest</text></a><!--MD5=[b4997ac47864f28c2f74865a473b2911]\n",
       "class E2--><a href=\"psysml:987e5bc7-b02a-416d-86c6-8545bfa90ef5\" target=\"_top\" title=\"psysml:987e5bc7-b02a-416d-86c6-8545bfa90ef5\" xlink:actuate=\"onRequest\" xlink:href=\"psysml:987e5bc7-b02a-416d-86c6-8545bfa90ef5\" xlink:show=\"new\" xlink:title=\"psysml:987e5bc7-b02a-416d-86c6-8545bfa90ef5\" xlink:type=\"simple\"><rect fill=\"#FEFECE\" filter=\"url(#f19uiv3hz3dcpd)\" height=\"45.9375\" id=\"E2\" style=\"stroke: #A80036; stroke-width: 1.5;\" width=\"66\" x=\"497\" y=\"173\"/><text fill=\"#000000\" font-family=\"sans-serif\" font-size=\"12\" font-style=\"italic\" lengthAdjust=\"spacingAndGlyphs\" textLength=\"64\" x=\"498\" y=\"189.1387\">«part def»</text><text fill=\"#000000\" font-family=\"sans-serif\" font-size=\"12\" lengthAdjust=\"spacingAndGlyphs\" textLength=\"8\" x=\"526\" y=\"203.1074\">P</text><line style=\"stroke: #A80036; stroke-width: 1.5;\" x1=\"498\" x2=\"562\" y1=\"210.9375\" y2=\"210.9375\"/></a><!--MD5=[09b614a08d8cba4a07c9adeb5e0fee81]\n",
       "class E3--><a href=\"psysml:7c23d281-2047-4d33-b5ff-31ab75cdc741\" target=\"_top\" title=\"psysml:7c23d281-2047-4d33-b5ff-31ab75cdc741\" xlink:actuate=\"onRequest\" xlink:href=\"psysml:7c23d281-2047-4d33-b5ff-31ab75cdc741\" xlink:show=\"new\" xlink:title=\"psysml:7c23d281-2047-4d33-b5ff-31ab75cdc741\" xlink:type=\"simple\"><rect fill=\"#FEFECE\" filter=\"url(#f19uiv3hz3dcpd)\" height=\"45.9375\" id=\"E3\" rx=\"10\" ry=\"10\" style=\"stroke: #A80036; stroke-width: 1.5;\" width=\"71\" x=\"702.5\" y=\"54\"/><text fill=\"#000000\" font-family=\"sans-serif\" font-size=\"12\" font-style=\"italic\" lengthAdjust=\"spacingAndGlyphs\" textLength=\"69\" x=\"703.5\" y=\"70.1387\">«attribute»</text><text fill=\"#000000\" font-family=\"sans-serif\" font-size=\"12\" lengthAdjust=\"spacingAndGlyphs\" textLength=\"61\" x=\"707.5\" y=\"84.1074\">n: Integer</text><line style=\"stroke: #A80036; stroke-width: 1.5;\" x1=\"703.5\" x2=\"772.5\" y1=\"91.9375\" y2=\"91.9375\"/></a><!--MD5=[ebbe1d658d1005bcc118a6aa81145e00]\n",
       "class E4--><a href=\"psysml:dbbeb80c-41d4-4e5a-ae6b-125fea141b81\" target=\"_top\" title=\"psysml:dbbeb80c-41d4-4e5a-ae6b-125fea141b81\" xlink:actuate=\"onRequest\" xlink:href=\"psysml:dbbeb80c-41d4-4e5a-ae6b-125fea141b81\" xlink:show=\"new\" xlink:title=\"psysml:dbbeb80c-41d4-4e5a-ae6b-125fea141b81\" xlink:type=\"simple\"><rect fill=\"#FEFECE\" filter=\"url(#f19uiv3hz3dcpd)\" height=\"45.9375\" id=\"E4\" rx=\"10\" ry=\"10\" style=\"stroke: #A80036; stroke-width: 1.5;\" width=\"42\" x=\"625\" y=\"54\"/><text fill=\"#000000\" font-family=\"sans-serif\" font-size=\"12\" font-style=\"italic\" lengthAdjust=\"spacingAndGlyphs\" textLength=\"40\" x=\"626\" y=\"70.1387\">«part»</text><text fill=\"#000000\" font-family=\"sans-serif\" font-size=\"12\" lengthAdjust=\"spacingAndGlyphs\" textLength=\"8\" x=\"642\" y=\"84.1074\">a</text><line style=\"stroke: #A80036; stroke-width: 1.5;\" x1=\"626\" x2=\"666\" y1=\"91.9375\" y2=\"91.9375\"/></a><!--MD5=[270fce915f116d4de14055a7c1d9a0f3]\n",
       "class E5--><a href=\"psysml:1044b725-5886-488e-a280-d65b06b2678d\" target=\"_top\" title=\"psysml:1044b725-5886-488e-a280-d65b06b2678d\" xlink:actuate=\"onRequest\" xlink:href=\"psysml:1044b725-5886-488e-a280-d65b06b2678d\" xlink:show=\"new\" xlink:title=\"psysml:1044b725-5886-488e-a280-d65b06b2678d\" xlink:type=\"simple\"><rect fill=\"#FEFECE\" filter=\"url(#f19uiv3hz3dcpd)\" height=\"45.9375\" id=\"E5\" rx=\"10\" ry=\"10\" style=\"stroke: #A80036; stroke-width: 1.5;\" width=\"42\" x=\"548\" y=\"54\"/><text fill=\"#000000\" font-family=\"sans-serif\" font-size=\"12\" font-style=\"italic\" lengthAdjust=\"spacingAndGlyphs\" textLength=\"40\" x=\"549\" y=\"70.1387\">«part»</text><text fill=\"#000000\" font-family=\"sans-serif\" font-size=\"12\" lengthAdjust=\"spacingAndGlyphs\" textLength=\"24\" x=\"557\" y=\"84.1074\">b: P</text><line style=\"stroke: #A80036; stroke-width: 1.5;\" x1=\"549\" x2=\"589\" y1=\"91.9375\" y2=\"91.9375\"/></a><!--MD5=[60a26617385b1d2d0262a64233df1f8d]\n",
       "class E6--><a href=\"psysml:7163cac6-f89e-4c84-b72c-82ccdb232dd2\" target=\"_top\" title=\"psysml:7163cac6-f89e-4c84-b72c-82ccdb232dd2\" xlink:actuate=\"onRequest\" xlink:href=\"psysml:7163cac6-f89e-4c84-b72c-82ccdb232dd2\" xlink:show=\"new\" xlink:title=\"psysml:7163cac6-f89e-4c84-b72c-82ccdb232dd2\" xlink:type=\"simple\"><rect fill=\"#FEFECE\" filter=\"url(#f19uiv3hz3dcpd)\" height=\"45.9375\" id=\"E6\" rx=\"10\" ry=\"10\" style=\"stroke: #A80036; stroke-width: 1.5;\" width=\"42\" x=\"471\" y=\"54\"/><text fill=\"#000000\" font-family=\"sans-serif\" font-size=\"12\" font-style=\"italic\" lengthAdjust=\"spacingAndGlyphs\" textLength=\"40\" x=\"472\" y=\"70.1387\">«part»</text><text fill=\"#000000\" font-family=\"sans-serif\" font-size=\"12\" lengthAdjust=\"spacingAndGlyphs\" textLength=\"23\" x=\"480.5\" y=\"84.1074\">c: P</text><line style=\"stroke: #A80036; stroke-width: 1.5;\" x1=\"472\" x2=\"512\" y1=\"91.9375\" y2=\"91.9375\"/></a><!--MD5=[2156ba9850f5573cc1fc38a6a4b2f02b]\n",
       "class E7--><a href=\"psysml:79f72fcf-9cc7-42c6-886c-0c2f21f0aaa0\" target=\"_top\" title=\"psysml:79f72fcf-9cc7-42c6-886c-0c2f21f0aaa0\" xlink:actuate=\"onRequest\" xlink:href=\"psysml:79f72fcf-9cc7-42c6-886c-0c2f21f0aaa0\" xlink:show=\"new\" xlink:title=\"psysml:79f72fcf-9cc7-42c6-886c-0c2f21f0aaa0\" xlink:type=\"simple\"><rect fill=\"#FEFECE\" filter=\"url(#f19uiv3hz3dcpd)\" height=\"45.9375\" id=\"E7\" rx=\"10\" ry=\"10\" style=\"stroke: #A80036; stroke-width: 1.5;\" width=\"42\" x=\"394\" y=\"54\"/><text fill=\"#000000\" font-family=\"sans-serif\" font-size=\"12\" font-style=\"italic\" lengthAdjust=\"spacingAndGlyphs\" textLength=\"40\" x=\"395\" y=\"70.1387\">«part»</text><text fill=\"#000000\" font-family=\"sans-serif\" font-size=\"12\" lengthAdjust=\"spacingAndGlyphs\" textLength=\"8\" x=\"411\" y=\"84.1074\">d</text><line style=\"stroke: #A80036; stroke-width: 1.5;\" x1=\"395\" x2=\"435\" y1=\"91.9375\" y2=\"91.9375\"/></a><!--MD5=[b9389687b975829384b498ac4b7476b2]\n",
       "class E8--><a href=\"psysml:7ad65eee-258f-4156-b8ec-39b80665cdbc\" target=\"_top\" title=\"psysml:7ad65eee-258f-4156-b8ec-39b80665cdbc\" xlink:actuate=\"onRequest\" xlink:href=\"psysml:7ad65eee-258f-4156-b8ec-39b80665cdbc\" xlink:show=\"new\" xlink:title=\"psysml:7ad65eee-258f-4156-b8ec-39b80665cdbc\" xlink:type=\"simple\"><rect fill=\"#FEFECE\" filter=\"url(#f19uiv3hz3dcpd)\" height=\"45.9375\" id=\"E8\" rx=\"10\" ry=\"10\" style=\"stroke: #A80036; stroke-width: 1.5;\" width=\"42\" x=\"317\" y=\"54\"/><text fill=\"#000000\" font-family=\"sans-serif\" font-size=\"12\" font-style=\"italic\" lengthAdjust=\"spacingAndGlyphs\" textLength=\"40\" x=\"318\" y=\"70.1387\">«part»</text><text fill=\"#000000\" font-family=\"sans-serif\" font-size=\"12\" lengthAdjust=\"spacingAndGlyphs\" textLength=\"8\" x=\"334\" y=\"84.1074\">e</text><line style=\"stroke: #A80036; stroke-width: 1.5;\" x1=\"318\" x2=\"358\" y1=\"91.9375\" y2=\"91.9375\"/></a><!--MD5=[fd4143e9d270a159db93a4ea2a975926]\n",
       "class E9--><a href=\"psysml:20b1d46d-edcb-44c0-8591-3bffd604b97a\" target=\"_top\" title=\"psysml:20b1d46d-edcb-44c0-8591-3bffd604b97a\" xlink:actuate=\"onRequest\" xlink:href=\"psysml:20b1d46d-edcb-44c0-8591-3bffd604b97a\" xlink:show=\"new\" xlink:title=\"psysml:20b1d46d-edcb-44c0-8591-3bffd604b97a\" xlink:type=\"simple\"><rect fill=\"#FEFECE\" filter=\"url(#f19uiv3hz3dcpd)\" height=\"45.9375\" id=\"E9\" rx=\"10\" ry=\"10\" style=\"stroke: #A80036; stroke-width: 1.5;\" width=\"42\" x=\"240\" y=\"54\"/><text fill=\"#000000\" font-family=\"sans-serif\" font-size=\"12\" font-style=\"italic\" lengthAdjust=\"spacingAndGlyphs\" textLength=\"40\" x=\"241\" y=\"70.1387\">«part»</text><text fill=\"#000000\" font-family=\"sans-serif\" font-size=\"12\" lengthAdjust=\"spacingAndGlyphs\" textLength=\"4\" x=\"259\" y=\"84.1074\">f</text><line style=\"stroke: #A80036; stroke-width: 1.5;\" x1=\"241\" x2=\"281\" y1=\"91.9375\" y2=\"91.9375\"/></a><!--MD5=[96f4274e9e20536e775497830990834d]\n",
       "class E10--><a href=\"psysml:25d96323-353d-45e6-96c8-f6353f2a6c2d\" target=\"_top\" title=\"psysml:25d96323-353d-45e6-96c8-f6353f2a6c2d\" xlink:actuate=\"onRequest\" xlink:href=\"psysml:25d96323-353d-45e6-96c8-f6353f2a6c2d\" xlink:show=\"new\" xlink:title=\"psysml:25d96323-353d-45e6-96c8-f6353f2a6c2d\" xlink:type=\"simple\"><rect fill=\"#FEFECE\" filter=\"url(#f19uiv3hz3dcpd)\" height=\"45.9375\" id=\"E10\" rx=\"10\" ry=\"10\" style=\"stroke: #A80036; stroke-width: 1.5;\" width=\"42\" x=\"163\" y=\"54\"/><text fill=\"#000000\" font-family=\"sans-serif\" font-size=\"12\" font-style=\"italic\" lengthAdjust=\"spacingAndGlyphs\" textLength=\"40\" x=\"164\" y=\"70.1387\">«part»</text><text fill=\"#000000\" font-family=\"sans-serif\" font-size=\"12\" lengthAdjust=\"spacingAndGlyphs\" textLength=\"8\" x=\"180\" y=\"84.1074\">g</text><line style=\"stroke: #A80036; stroke-width: 1.5;\" x1=\"164\" x2=\"204\" y1=\"91.9375\" y2=\"91.9375\"/></a><!--MD5=[1dd1bfd58a279cf63c5f349dbc8fc6a1]\n",
       "class E11--><a href=\"psysml:05fe5b10-94f9-4e9a-a85e-b113c36136a8\" target=\"_top\" title=\"psysml:05fe5b10-94f9-4e9a-a85e-b113c36136a8\" xlink:actuate=\"onRequest\" xlink:href=\"psysml:05fe5b10-94f9-4e9a-a85e-b113c36136a8\" xlink:show=\"new\" xlink:title=\"psysml:05fe5b10-94f9-4e9a-a85e-b113c36136a8\" xlink:type=\"simple\"><rect fill=\"#FEFECE\" filter=\"url(#f19uiv3hz3dcpd)\" height=\"71.5469\" id=\"E11\" style=\"stroke: #A80036; stroke-width: 1.5;\" width=\"95\" x=\"32.5\" y=\"41\"/><text fill=\"#000000\" font-family=\"sans-serif\" font-size=\"12\" font-style=\"italic\" lengthAdjust=\"spacingAndGlyphs\" textLength=\"93\" x=\"33.5\" y=\"57.1387\">«attribute def»</text><text fill=\"#000000\" font-family=\"sans-serif\" font-size=\"12\" lengthAdjust=\"spacingAndGlyphs\" textLength=\"8\" x=\"76\" y=\"71.1074\">A</text><line style=\"stroke: #A80036; stroke-width: 1.5;\" x1=\"33.5\" x2=\"126.5\" y1=\"78.9375\" y2=\"78.9375\"/><text fill=\"#000000\" font-family=\"sans-serif\" font-size=\"11\" lengthAdjust=\"spacingAndGlyphs\" textLength=\"51\" x=\"38.5\" y=\"93.1479\">i: Integer</text><text fill=\"#000000\" font-family=\"sans-serif\" font-size=\"11\" lengthAdjust=\"spacingAndGlyphs\" textLength=\"21\" x=\"38.5\" y=\"105.9526\">x: A</text></a><!--MD5=[15ebcb19ae302d9b601edb458606d402]\n",
       "link E5 to E2--><a href=\"psysml:b71e192f-5f45-432d-9454-4642818dbb88\" target=\"_top\" title=\"psysml:b71e192f-5f45-432d-9454-4642818dbb88\" xlink:actuate=\"onRequest\" xlink:href=\"psysml:b71e192f-5f45-432d-9454-4642818dbb88\" xlink:show=\"new\" xlink:title=\"psysml:b71e192f-5f45-432d-9454-4642818dbb88\" xlink:type=\"simple\"><path d=\"M561.66,100.01 C556.63,115.11 549.8,135.61 543.76,153.71 \" fill=\"none\" id=\"E5-&gt;E2\" style=\"stroke: #A80036; stroke-width: 1.0;\"/><polygon fill=\"#FFFFFF\" points=\"537.44,172.69,536.7984,152.4517,550.082,156.8729,537.44,172.69\" style=\"stroke: #A80036; stroke-width: 1.0;\"/><ellipse cx=\"540.4961\" cy=\"147.675\" fill=\"#A80036\" rx=\"2\" ry=\"2\" style=\"stroke: #A80036; stroke-width: 1.0;\"/><ellipse cx=\"549.9844\" cy=\"150.833\" fill=\"#A80036\" rx=\"2\" ry=\"2\" style=\"stroke: #A80036; stroke-width: 1.0;\"/></a><!--MD5=[2351f337d6de0f557b50152ba70847b5]\n",
       "link E6 to E2--><a href=\"psysml:173d30e4-d568-4354-a9e9-bb0668964c70\" target=\"_top\" title=\"psysml:173d30e4-d568-4354-a9e9-bb0668964c70\" xlink:actuate=\"onRequest\" xlink:href=\"psysml:173d30e4-d568-4354-a9e9-bb0668964c70\" xlink:show=\"new\" xlink:title=\"psysml:173d30e4-d568-4354-a9e9-bb0668964c70\" xlink:type=\"simple\"><path d=\"M499.15,100.01 C504.03,115.03 510.64,135.39 516.49,153.41 \" fill=\"none\" id=\"E6-&gt;E2\" style=\"stroke: #A80036; stroke-width: 1.0;\"/><polygon fill=\"#FFFFFF\" points=\"522.76,172.69,510.2363,156.7791,523.5525,152.4571,522.76,172.69\" style=\"stroke: #A80036; stroke-width: 1.0;\"/><ellipse cx=\"510.379\" cy=\"150.74\" fill=\"#A80036\" rx=\"2\" ry=\"2\" style=\"stroke: #A80036; stroke-width: 1.0;\"/><ellipse cx=\"519.8905\" cy=\"147.6529\" fill=\"#A80036\" rx=\"2\" ry=\"2\" style=\"stroke: #A80036; stroke-width: 1.0;\"/></a><!--MD5=[a6de9d5fabce53bd33ca710bb3b51ec4]\n",
       "@startuml\r\n",
       "skinparam wrapWidth 300\r\n",
       "hide circle\r\n",
       "\r\n",
       "package \"MultiplicityTest\" as E1  [[psysml:c0f24ad0-fe84-484c-92fb-1b0594d1e479 ]]  {\r\n",
       "comp def \"P\" as E2  <<(T,blue) part def>> [[psysml:987e5bc7-b02a-416d-86c6-8545bfa90ef5 ]] {\r\n",
       "}\r\n",
       "comp usage \"n: Integer\" as E3  <<(T,blue) attribute>> [[psysml:7c23d281-2047-4d33-b5ff-31ab75cdc741 ]] {\r\n",
       "}\r\n",
       "comp usage \"a\" as E4  <<(T,blue) part>> [[psysml:dbbeb80c-41d4-4e5a-ae6b-125fea141b81 ]] {\r\n",
       "}\r\n",
       "comp usage \"b: P\" as E5  <<(T,blue) part>> [[psysml:1044b725-5886-488e-a280-d65b06b2678d ]] {\r\n",
       "}\r\n",
       "comp usage \"c: P\" as E6  <<(T,blue) part>> [[psysml:7163cac6-f89e-4c84-b72c-82ccdb232dd2 ]] {\r\n",
       "}\r\n",
       "comp usage \"d\" as E7  <<(T,blue) part>> [[psysml:79f72fcf-9cc7-42c6-886c-0c2f21f0aaa0 ]] {\r\n",
       "}\r\n",
       "comp usage \"e\" as E8  <<(T,blue) part>> [[psysml:7ad65eee-258f-4156-b8ec-39b80665cdbc ]] {\r\n",
       "}\r\n",
       "comp usage \"f\" as E9  <<(T,blue) part>> [[psysml:20b1d46d-edcb-44c0-8591-3bffd604b97a ]] {\r\n",
       "}\r\n",
       "comp usage \"g\" as E10  <<(T,blue) part>> [[psysml:25d96323-353d-45e6-96c8-f6353f2a6c2d ]] {\r\n",
       "}\r\n",
       "comp def \"A\" as E11  <<(T,blue) attribute def>> [[psysml:05fe5b10-94f9-4e9a-a85e-b113c36136a8 ]] {\r\n",
       "i: Integer\r\n",
       "x: A\r\n",
       "}\r\n",
       "}\r\n",
       "E5 - -:|> E2 [[psysml:b71e192f-5f45-432d-9454-4642818dbb88 ]] \r\n",
       "E6 - -:|> E2 [[psysml:173d30e4-d568-4354-a9e9-bb0668964c70 ]] \r\n",
       "@enduml\r\n",
       "\n",
       "PlantUML version 1.2020.13(Sat Jun 13 12:26:38 UTC 2020)\n",
       "(EPL source distribution)\n",
       "Java Runtime: OpenJDK Runtime Environment\n",
       "JVM: OpenJDK 64-Bit Server VM\n",
       "Default Encoding: UTF-8\n",
       "Language: en\n",
       "Country: null\n",
       "--></g></svg>"
      ]
     },
     "execution_count": 24,
     "metadata": {},
     "output_type": "execute_result"
    }
   ],
   "source": [
    "%viz --style=\"STDCOLOR\" --view=\"Tree\" \"MultiplicityTest\""
   ]
  },
  {
   "cell_type": "code",
   "execution_count": 25,
   "id": "7e84f628",
   "metadata": {
    "execution": {
     "iopub.execute_input": "2021-09-27T07:19:18.534763Z",
     "iopub.status.busy": "2021-09-27T07:19:18.534338Z",
     "iopub.status.idle": "2021-09-27T07:19:18.539002Z",
     "shell.execute_reply": "2021-09-27T07:19:18.539324Z"
    }
   },
   "outputs": [
    {
     "data": {
      "image/svg+xml": [
       "<?xml version=\"1.0\" encoding=\"UTF-8\" standalone=\"no\"?><svg xmlns=\"http://www.w3.org/2000/svg\" xmlns:xlink=\"http://www.w3.org/1999/xlink\" contentScriptType=\"application/ecmascript\" contentStyleType=\"text/css\" height=\"12px\" preserveAspectRatio=\"none\" style=\"width:12px;height:12px;\" version=\"1.1\" viewBox=\"0 0 12 12\" width=\"12px\" zoomAndPan=\"magnify\"><defs/><g><!--MD5=[aeeef50f102b80d730deb6443d14f702]\n",
       "@startuml\r\n",
       "skinparam wrapWidth 300\r\n",
       "hide circle\r\n",
       "\r\n",
       "@enduml\r\n",
       "\n",
       "PlantUML version 1.2020.13(Sat Jun 13 12:26:38 UTC 2020)\n",
       "(EPL source distribution)\n",
       "Java Runtime: OpenJDK Runtime Environment\n",
       "JVM: OpenJDK 64-Bit Server VM\n",
       "Default Encoding: UTF-8\n",
       "Language: en\n",
       "Country: null\n",
       "--></g></svg>"
      ]
     },
     "execution_count": 25,
     "metadata": {},
     "output_type": "execute_result"
    }
   ],
   "source": [
    "%viz --style=\"STDCOLOR\" --view=\"State\" \"MultiplicityTest\""
   ]
  },
  {
   "cell_type": "code",
   "execution_count": 26,
   "id": "28365b45",
   "metadata": {
    "execution": {
     "iopub.execute_input": "2021-09-27T07:19:18.589447Z",
     "iopub.status.busy": "2021-09-27T07:19:18.589025Z",
     "iopub.status.idle": "2021-09-27T07:19:18.619982Z",
     "shell.execute_reply": "2021-09-27T07:19:18.619632Z"
    }
   },
   "outputs": [
    {
     "data": {
      "image/svg+xml": [
       "<?xml version=\"1.0\" encoding=\"UTF-8\" standalone=\"no\"?><svg xmlns=\"http://www.w3.org/2000/svg\" xmlns:xlink=\"http://www.w3.org/1999/xlink\" contentScriptType=\"application/ecmascript\" contentStyleType=\"text/css\" height=\"115px\" preserveAspectRatio=\"none\" style=\"width:979px;height:115px;\" version=\"1.1\" viewBox=\"0 0 979 115\" width=\"979px\" zoomAndPan=\"magnify\"><defs><filter height=\"300%\" id=\"f135cuf48u4swz\" width=\"300%\" x=\"-1\" y=\"-1\"><feGaussianBlur result=\"blurOut\" stdDeviation=\"2.0\"/><feColorMatrix in=\"blurOut\" result=\"blurOut2\" type=\"matrix\" values=\"0 0 0 0 0 0 0 0 0 0 0 0 0 0 0 0 0 0 .4 0\"/><feOffset dx=\"4.0\" dy=\"4.0\" in=\"blurOut2\" result=\"blurOut3\"/><feBlend in=\"SourceGraphic\" in2=\"blurOut3\" mode=\"normal\"/></filter></defs><g><!--MD5=[fbc87193dbaf4d95561dea2c320d4a47]\n",
       "cluster E1--><a href=\"psysml:c0f24ad0-fe84-484c-92fb-1b0594d1e479\" target=\"_top\" title=\"psysml:c0f24ad0-fe84-484c-92fb-1b0594d1e479\" xlink:actuate=\"onRequest\" xlink:href=\"psysml:c0f24ad0-fe84-484c-92fb-1b0594d1e479\" xlink:show=\"new\" xlink:title=\"psysml:c0f24ad0-fe84-484c-92fb-1b0594d1e479\" xlink:type=\"simple\"><polygon fill=\"#FFFFFF\" filter=\"url(#f135cuf48u4swz)\" points=\"16,6,123,6,130,28.2969,957,28.2969,957,103,16,103,16,6\" style=\"stroke: #000000; stroke-width: 1.5;\"/><line style=\"stroke: #000000; stroke-width: 1.5;\" x1=\"16\" x2=\"130\" y1=\"28.2969\" y2=\"28.2969\"/><text fill=\"#000000\" font-family=\"sans-serif\" font-size=\"14\" font-weight=\"bold\" lengthAdjust=\"spacingAndGlyphs\" textLength=\"101\" x=\"20\" y=\"20.9951\">MultiplicityTest</text></a><!--MD5=[09b614a08d8cba4a07c9adeb5e0fee81]\n",
       "class E3--><a href=\"psysml:7c23d281-2047-4d33-b5ff-31ab75cdc741\" target=\"_top\" title=\"psysml:7c23d281-2047-4d33-b5ff-31ab75cdc741\" xlink:actuate=\"onRequest\" xlink:href=\"psysml:7c23d281-2047-4d33-b5ff-31ab75cdc741\" xlink:show=\"new\" xlink:title=\"psysml:7c23d281-2047-4d33-b5ff-31ab75cdc741\" xlink:type=\"simple\"><rect fill=\"#FEFECE\" filter=\"url(#f135cuf48u4swz)\" height=\"45.9375\" id=\"E3\" rx=\"10\" ry=\"10\" style=\"stroke: #A80036; stroke-width: 1.5;\" width=\"71\" x=\"869.5\" y=\"41\"/><text fill=\"#000000\" font-family=\"sans-serif\" font-size=\"12\" font-style=\"italic\" lengthAdjust=\"spacingAndGlyphs\" textLength=\"69\" x=\"870.5\" y=\"57.1387\">«attribute»</text><text fill=\"#000000\" font-family=\"sans-serif\" font-size=\"12\" lengthAdjust=\"spacingAndGlyphs\" textLength=\"61\" x=\"874.5\" y=\"71.1074\">n: Integer</text><line style=\"stroke: #A80036; stroke-width: 1.5;\" x1=\"870.5\" x2=\"939.5\" y1=\"78.9375\" y2=\"78.9375\"/></a><g id=\"E1.E11\"><a href=\"psysml:05fe5b10-94f9-4e9a-a85e-b113c36136a8\" target=\"_top\" title=\"psysml:05fe5b10-94f9-4e9a-a85e-b113c36136a8\" xlink:actuate=\"onRequest\" xlink:href=\"psysml:05fe5b10-94f9-4e9a-a85e-b113c36136a8\" xlink:show=\"new\" xlink:title=\"psysml:05fe5b10-94f9-4e9a-a85e-b113c36136a8\" xlink:type=\"simple\"><rect fill=\"#FEFECE\" filter=\"url(#f135cuf48u4swz)\" height=\"42.9375\" id=\"E11\" style=\"stroke: #A80036; stroke-width: 1.5;\" width=\"100\" x=\"734\" y=\"42.5\"/><text fill=\"#000000\" font-family=\"sans-serif\" font-size=\"12\" font-style=\"italic\" lengthAdjust=\"spacingAndGlyphs\" textLength=\"93\" x=\"737.5\" y=\"58.6387\">«attribute def»</text><text fill=\"#000000\" font-family=\"sans-serif\" font-size=\"12\" lengthAdjust=\"spacingAndGlyphs\" textLength=\"8\" x=\"780\" y=\"72.6074\">A</text></a></g><g id=\"E1.E2\"><a href=\"psysml:987e5bc7-b02a-416d-86c6-8545bfa90ef5\" target=\"_top\" title=\"psysml:987e5bc7-b02a-416d-86c6-8545bfa90ef5\" xlink:actuate=\"onRequest\" xlink:href=\"psysml:987e5bc7-b02a-416d-86c6-8545bfa90ef5\" xlink:show=\"new\" xlink:title=\"psysml:987e5bc7-b02a-416d-86c6-8545bfa90ef5\" xlink:type=\"simple\"><rect fill=\"#FEFECE\" filter=\"url(#f135cuf48u4swz)\" height=\"42.9375\" id=\"E2\" style=\"stroke: #A80036; stroke-width: 1.5;\" width=\"71\" x=\"627.5\" y=\"42.5\"/><text fill=\"#000000\" font-family=\"sans-serif\" font-size=\"12\" font-style=\"italic\" lengthAdjust=\"spacingAndGlyphs\" textLength=\"64\" x=\"631\" y=\"58.6387\">«part def»</text><text fill=\"#000000\" font-family=\"sans-serif\" font-size=\"12\" lengthAdjust=\"spacingAndGlyphs\" textLength=\"8\" x=\"659\" y=\"72.6074\">P</text></a></g><g id=\"E1.E4\"><a href=\"psysml:dbbeb80c-41d4-4e5a-ae6b-125fea141b81\" target=\"_top\" title=\"psysml:dbbeb80c-41d4-4e5a-ae6b-125fea141b81\" xlink:actuate=\"onRequest\" xlink:href=\"psysml:dbbeb80c-41d4-4e5a-ae6b-125fea141b81\" xlink:show=\"new\" xlink:title=\"psysml:dbbeb80c-41d4-4e5a-ae6b-125fea141b81\" xlink:type=\"simple\"><rect fill=\"#FEFECE\" filter=\"url(#f135cuf48u4swz)\" height=\"40\" id=\"E4\" rx=\"10\" ry=\"10\" style=\"stroke: #A80036; stroke-width: 1.5;\" width=\"50\" x=\"542\" y=\"44\"/><text fill=\"#000000\" font-family=\"sans-serif\" font-size=\"12\" lengthAdjust=\"spacingAndGlyphs\" textLength=\"8\" x=\"563\" y=\"60.1387\">a</text></a></g><g id=\"E1.E5\"><a href=\"psysml:1044b725-5886-488e-a280-d65b06b2678d\" target=\"_top\" title=\"psysml:1044b725-5886-488e-a280-d65b06b2678d\" xlink:actuate=\"onRequest\" xlink:href=\"psysml:1044b725-5886-488e-a280-d65b06b2678d\" xlink:show=\"new\" xlink:title=\"psysml:1044b725-5886-488e-a280-d65b06b2678d\" xlink:type=\"simple\"><rect fill=\"#FEFECE\" filter=\"url(#f135cuf48u4swz)\" height=\"40\" id=\"E5\" rx=\"10\" ry=\"10\" style=\"stroke: #A80036; stroke-width: 1.5;\" width=\"50\" x=\"457\" y=\"44\"/><text fill=\"#000000\" font-family=\"sans-serif\" font-size=\"12\" lengthAdjust=\"spacingAndGlyphs\" textLength=\"24\" x=\"470\" y=\"60.1387\">b: P</text></a></g><g id=\"E1.E6\"><a href=\"psysml:7163cac6-f89e-4c84-b72c-82ccdb232dd2\" target=\"_top\" title=\"psysml:7163cac6-f89e-4c84-b72c-82ccdb232dd2\" xlink:actuate=\"onRequest\" xlink:href=\"psysml:7163cac6-f89e-4c84-b72c-82ccdb232dd2\" xlink:show=\"new\" xlink:title=\"psysml:7163cac6-f89e-4c84-b72c-82ccdb232dd2\" xlink:type=\"simple\"><rect fill=\"#FEFECE\" filter=\"url(#f135cuf48u4swz)\" height=\"40\" id=\"E6\" rx=\"10\" ry=\"10\" style=\"stroke: #A80036; stroke-width: 1.5;\" width=\"50\" x=\"372\" y=\"44\"/><text fill=\"#000000\" font-family=\"sans-serif\" font-size=\"12\" lengthAdjust=\"spacingAndGlyphs\" textLength=\"23\" x=\"385.5\" y=\"60.1387\">c: P</text></a></g><g id=\"E1.E7\"><a href=\"psysml:79f72fcf-9cc7-42c6-886c-0c2f21f0aaa0\" target=\"_top\" title=\"psysml:79f72fcf-9cc7-42c6-886c-0c2f21f0aaa0\" xlink:actuate=\"onRequest\" xlink:href=\"psysml:79f72fcf-9cc7-42c6-886c-0c2f21f0aaa0\" xlink:show=\"new\" xlink:title=\"psysml:79f72fcf-9cc7-42c6-886c-0c2f21f0aaa0\" xlink:type=\"simple\"><rect fill=\"#FEFECE\" filter=\"url(#f135cuf48u4swz)\" height=\"40\" id=\"E7\" rx=\"10\" ry=\"10\" style=\"stroke: #A80036; stroke-width: 1.5;\" width=\"50\" x=\"287\" y=\"44\"/><text fill=\"#000000\" font-family=\"sans-serif\" font-size=\"12\" lengthAdjust=\"spacingAndGlyphs\" textLength=\"8\" x=\"308\" y=\"60.1387\">d</text></a></g><g id=\"E1.E8\"><a href=\"psysml:7ad65eee-258f-4156-b8ec-39b80665cdbc\" target=\"_top\" title=\"psysml:7ad65eee-258f-4156-b8ec-39b80665cdbc\" xlink:actuate=\"onRequest\" xlink:href=\"psysml:7ad65eee-258f-4156-b8ec-39b80665cdbc\" xlink:show=\"new\" xlink:title=\"psysml:7ad65eee-258f-4156-b8ec-39b80665cdbc\" xlink:type=\"simple\"><rect fill=\"#FEFECE\" filter=\"url(#f135cuf48u4swz)\" height=\"40\" id=\"E8\" rx=\"10\" ry=\"10\" style=\"stroke: #A80036; stroke-width: 1.5;\" width=\"50\" x=\"202\" y=\"44\"/><text fill=\"#000000\" font-family=\"sans-serif\" font-size=\"12\" lengthAdjust=\"spacingAndGlyphs\" textLength=\"8\" x=\"223\" y=\"60.1387\">e</text></a></g><g id=\"E1.E9\"><a href=\"psysml:20b1d46d-edcb-44c0-8591-3bffd604b97a\" target=\"_top\" title=\"psysml:20b1d46d-edcb-44c0-8591-3bffd604b97a\" xlink:actuate=\"onRequest\" xlink:href=\"psysml:20b1d46d-edcb-44c0-8591-3bffd604b97a\" xlink:show=\"new\" xlink:title=\"psysml:20b1d46d-edcb-44c0-8591-3bffd604b97a\" xlink:type=\"simple\"><rect fill=\"#FEFECE\" filter=\"url(#f135cuf48u4swz)\" height=\"40\" id=\"E9\" rx=\"10\" ry=\"10\" style=\"stroke: #A80036; stroke-width: 1.5;\" width=\"50\" x=\"117\" y=\"44\"/><text fill=\"#000000\" font-family=\"sans-serif\" font-size=\"12\" lengthAdjust=\"spacingAndGlyphs\" textLength=\"4\" x=\"140\" y=\"60.1387\">f</text></a></g><g id=\"E1.E10\"><a href=\"psysml:25d96323-353d-45e6-96c8-f6353f2a6c2d\" target=\"_top\" title=\"psysml:25d96323-353d-45e6-96c8-f6353f2a6c2d\" xlink:actuate=\"onRequest\" xlink:href=\"psysml:25d96323-353d-45e6-96c8-f6353f2a6c2d\" xlink:show=\"new\" xlink:title=\"psysml:25d96323-353d-45e6-96c8-f6353f2a6c2d\" xlink:type=\"simple\"><rect fill=\"#FEFECE\" filter=\"url(#f135cuf48u4swz)\" height=\"40\" id=\"E10\" rx=\"10\" ry=\"10\" style=\"stroke: #A80036; stroke-width: 1.5;\" width=\"50\" x=\"32\" y=\"44\"/><text fill=\"#000000\" font-family=\"sans-serif\" font-size=\"12\" lengthAdjust=\"spacingAndGlyphs\" textLength=\"8\" x=\"53\" y=\"60.1387\">g</text></a></g><!--MD5=[a086cb2c913689d1dc6498d01ff9d1a4]\n",
       "@startuml\r\n",
       "skinparam ranksep 10\r\n",
       "skinparam rectangle {\r\n",
       " backgroundColor<<block>> LightGreen\r\n",
       "}\r\n",
       "skinparam wrapWidth 300\r\n",
       "hide circle\r\n",
       "\r\n",
       "package \"MultiplicityTest\" as E1  [[psysml:c0f24ad0-fe84-484c-92fb-1b0594d1e479 ]]  {\r\n",
       "rec def \"P\" as E2  <<(T,blue) part def>> [[psysml:987e5bc7-b02a-416d-86c6-8545bfa90ef5 ]] {\r\n",
       "}\r\n",
       "comp usage \"n: Integer\" as E3  <<(T,blue) attribute>> [[psysml:7c23d281-2047-4d33-b5ff-31ab75cdc741 ]] {\r\n",
       "}\r\n",
       "rec usage \"a\" as E4  [[psysml:dbbeb80c-41d4-4e5a-ae6b-125fea141b81 ]] {\r\n",
       "}\r\n",
       "rec usage \"b: P\" as E5  [[psysml:1044b725-5886-488e-a280-d65b06b2678d ]] {\r\n",
       "}\r\n",
       "rec usage \"c: P\" as E6  [[psysml:7163cac6-f89e-4c84-b72c-82ccdb232dd2 ]] {\r\n",
       "}\r\n",
       "rec usage \"d\" as E7  [[psysml:79f72fcf-9cc7-42c6-886c-0c2f21f0aaa0 ]] {\r\n",
       "}\r\n",
       "rec usage \"e\" as E8  [[psysml:7ad65eee-258f-4156-b8ec-39b80665cdbc ]] {\r\n",
       "}\r\n",
       "rec usage \"f\" as E9  [[psysml:20b1d46d-edcb-44c0-8591-3bffd604b97a ]] {\r\n",
       "}\r\n",
       "rec usage \"g\" as E10  [[psysml:25d96323-353d-45e6-96c8-f6353f2a6c2d ]] {\r\n",
       "}\r\n",
       "def \"A\" as E11  <<(T,blue) attribute def>> [[psysml:05fe5b10-94f9-4e9a-a85e-b113c36136a8 ]] \r\n",
       "}\r\n",
       "@enduml\r\n",
       "\n",
       "PlantUML version 1.2020.13(Sat Jun 13 12:26:38 UTC 2020)\n",
       "(EPL source distribution)\n",
       "Java Runtime: OpenJDK Runtime Environment\n",
       "JVM: OpenJDK 64-Bit Server VM\n",
       "Default Encoding: UTF-8\n",
       "Language: en\n",
       "Country: null\n",
       "--></g></svg>"
      ]
     },
     "execution_count": 26,
     "metadata": {},
     "output_type": "execute_result"
    }
   ],
   "source": [
    "%viz --style=\"STDCOLOR\" --view=\"Interconnection\" \"MultiplicityTest\""
   ]
  },
  {
   "cell_type": "code",
   "execution_count": 27,
   "id": "a2e99a9e",
   "metadata": {
    "execution": {
     "iopub.execute_input": "2021-09-27T07:19:18.670215Z",
     "iopub.status.busy": "2021-09-27T07:19:18.669772Z",
     "iopub.status.idle": "2021-09-27T07:19:18.674860Z",
     "shell.execute_reply": "2021-09-27T07:19:18.674490Z"
    }
   },
   "outputs": [
    {
     "data": {
      "image/svg+xml": [
       "<?xml version=\"1.0\" encoding=\"UTF-8\" standalone=\"no\"?><svg xmlns=\"http://www.w3.org/2000/svg\" xmlns:xlink=\"http://www.w3.org/1999/xlink\" contentScriptType=\"application/ecmascript\" contentStyleType=\"text/css\" height=\"12px\" preserveAspectRatio=\"none\" style=\"width:12px;height:12px;\" version=\"1.1\" viewBox=\"0 0 12 12\" width=\"12px\" zoomAndPan=\"magnify\"><defs/><g><!--MD5=[9863325348a96a77dacc89509d8ee65e]\n",
       "@startuml\r\n",
       "skinparam ranksep 8\r\n",
       "skinparam wrapWidth 300\r\n",
       "hide circle\r\n",
       "\r\n",
       "@enduml\r\n",
       "\n",
       "PlantUML version 1.2020.13(Sat Jun 13 12:26:38 UTC 2020)\n",
       "(EPL source distribution)\n",
       "Java Runtime: OpenJDK Runtime Environment\n",
       "JVM: OpenJDK 64-Bit Server VM\n",
       "Default Encoding: UTF-8\n",
       "Language: en\n",
       "Country: null\n",
       "--></g></svg>"
      ]
     },
     "execution_count": 27,
     "metadata": {},
     "output_type": "execute_result"
    }
   ],
   "source": [
    "%viz --style=\"STDCOLOR\" --view=\"Action\" \"MultiplicityTest\""
   ]
  },
  {
   "cell_type": "code",
   "execution_count": 28,
   "id": "8fa06908",
   "metadata": {
    "execution": {
     "iopub.execute_input": "2021-09-27T07:19:18.724951Z",
     "iopub.status.busy": "2021-09-27T07:19:18.724534Z",
     "iopub.status.idle": "2021-09-27T07:19:18.730114Z",
     "shell.execute_reply": "2021-09-27T07:19:18.730433Z"
    }
   },
   "outputs": [
    {
     "data": {
      "image/svg+xml": [
       "<?xml version=\"1.0\" encoding=\"UTF-8\" standalone=\"no\"?><svg xmlns=\"http://www.w3.org/2000/svg\" xmlns:xlink=\"http://www.w3.org/1999/xlink\" contentScriptType=\"application/ecmascript\" contentStyleType=\"text/css\" height=\"12px\" preserveAspectRatio=\"none\" style=\"width:12px;height:12px;\" version=\"1.1\" viewBox=\"0 0 12 12\" width=\"12px\" zoomAndPan=\"magnify\"><defs/><g><!--MD5=[6c4bca67b4d71758159a5a7f1f1e1fc2]\n",
       "@startuml\r\n",
       "skinparam roundcorner 20\r\n",
       "skinparam BoxPadding 20\r\n",
       "skinparam SequenceBoxBackgroundColor #white\r\n",
       "skinparam style strictuml\r\n",
       "skinparam maxMessageSize 100\r\n",
       "skinparam wrapWidth 300\r\n",
       "hide circle\r\n",
       "\r\n",
       "@enduml\r\n",
       "\n",
       "PlantUML version 1.2020.13(Sat Jun 13 12:26:38 UTC 2020)\n",
       "(EPL source distribution)\n",
       "Java Runtime: OpenJDK Runtime Environment\n",
       "JVM: OpenJDK 64-Bit Server VM\n",
       "Default Encoding: UTF-8\n",
       "Language: en\n",
       "Country: null\n",
       "--></g></svg>"
      ]
     },
     "execution_count": 28,
     "metadata": {},
     "output_type": "execute_result"
    }
   ],
   "source": [
    "%viz --style=\"STDCOLOR\" --view=\"Sequence\" \"MultiplicityTest\""
   ]
  },
  {
   "cell_type": "code",
   "execution_count": 29,
   "id": "c481b475",
   "metadata": {
    "execution": {
     "iopub.execute_input": "2021-09-27T07:19:18.780568Z",
     "iopub.status.busy": "2021-09-27T07:19:18.780157Z",
     "iopub.status.idle": "2021-09-27T07:19:18.825925Z",
     "shell.execute_reply": "2021-09-27T07:19:18.825576Z"
    }
   },
   "outputs": [
    {
     "data": {
      "image/svg+xml": [
       "<?xml version=\"1.0\" encoding=\"UTF-8\" standalone=\"no\"?><svg xmlns=\"http://www.w3.org/2000/svg\" xmlns:xlink=\"http://www.w3.org/1999/xlink\" contentScriptType=\"application/ecmascript\" contentStyleType=\"text/css\" height=\"247px\" preserveAspectRatio=\"none\" style=\"width:812px;height:247px;\" version=\"1.1\" viewBox=\"0 0 812 247\" width=\"812px\" zoomAndPan=\"magnify\"><defs><filter height=\"300%\" id=\"f19uiv3hz3dcpd\" width=\"300%\" x=\"-1\" y=\"-1\"><feGaussianBlur result=\"blurOut\" stdDeviation=\"2.0\"/><feColorMatrix in=\"blurOut\" result=\"blurOut2\" type=\"matrix\" values=\"0 0 0 0 0 0 0 0 0 0 0 0 0 0 0 0 0 0 .4 0\"/><feOffset dx=\"4.0\" dy=\"4.0\" in=\"blurOut2\" result=\"blurOut3\"/><feBlend in=\"SourceGraphic\" in2=\"blurOut3\" mode=\"normal\"/></filter></defs><g><!--MD5=[fbc87193dbaf4d95561dea2c320d4a47]\n",
       "cluster E1--><a href=\"psysml:c0f24ad0-fe84-484c-92fb-1b0594d1e479\" target=\"_top\" title=\"psysml:c0f24ad0-fe84-484c-92fb-1b0594d1e479\" xlink:actuate=\"onRequest\" xlink:href=\"psysml:c0f24ad0-fe84-484c-92fb-1b0594d1e479\" xlink:show=\"new\" xlink:title=\"psysml:c0f24ad0-fe84-484c-92fb-1b0594d1e479\" xlink:type=\"simple\"><polygon fill=\"#FFFFFF\" filter=\"url(#f19uiv3hz3dcpd)\" points=\"16,6,123,6,130,28.2969,790,28.2969,790,235,16,235,16,6\" style=\"stroke: #000000; stroke-width: 1.5;\"/><line style=\"stroke: #000000; stroke-width: 1.5;\" x1=\"16\" x2=\"130\" y1=\"28.2969\" y2=\"28.2969\"/><text fill=\"#000000\" font-family=\"sans-serif\" font-size=\"14\" font-weight=\"bold\" lengthAdjust=\"spacingAndGlyphs\" textLength=\"101\" x=\"20\" y=\"20.9951\">MultiplicityTest</text></a><!--MD5=[b4997ac47864f28c2f74865a473b2911]\n",
       "class E2--><a href=\"psysml:987e5bc7-b02a-416d-86c6-8545bfa90ef5\" target=\"_top\" title=\"psysml:987e5bc7-b02a-416d-86c6-8545bfa90ef5\" xlink:actuate=\"onRequest\" xlink:href=\"psysml:987e5bc7-b02a-416d-86c6-8545bfa90ef5\" xlink:show=\"new\" xlink:title=\"psysml:987e5bc7-b02a-416d-86c6-8545bfa90ef5\" xlink:type=\"simple\"><rect fill=\"#FEFECE\" filter=\"url(#f19uiv3hz3dcpd)\" height=\"45.9375\" id=\"E2\" style=\"stroke: #A80036; stroke-width: 1.5;\" width=\"66\" x=\"497\" y=\"173\"/><text fill=\"#000000\" font-family=\"sans-serif\" font-size=\"12\" font-style=\"italic\" lengthAdjust=\"spacingAndGlyphs\" textLength=\"64\" x=\"498\" y=\"189.1387\">«part def»</text><text fill=\"#000000\" font-family=\"sans-serif\" font-size=\"12\" lengthAdjust=\"spacingAndGlyphs\" textLength=\"8\" x=\"526\" y=\"203.1074\">P</text><line style=\"stroke: #A80036; stroke-width: 1.5;\" x1=\"498\" x2=\"562\" y1=\"210.9375\" y2=\"210.9375\"/></a><!--MD5=[09b614a08d8cba4a07c9adeb5e0fee81]\n",
       "class E3--><a href=\"psysml:7c23d281-2047-4d33-b5ff-31ab75cdc741\" target=\"_top\" title=\"psysml:7c23d281-2047-4d33-b5ff-31ab75cdc741\" xlink:actuate=\"onRequest\" xlink:href=\"psysml:7c23d281-2047-4d33-b5ff-31ab75cdc741\" xlink:show=\"new\" xlink:title=\"psysml:7c23d281-2047-4d33-b5ff-31ab75cdc741\" xlink:type=\"simple\"><rect fill=\"#FEFECE\" filter=\"url(#f19uiv3hz3dcpd)\" height=\"45.9375\" id=\"E3\" rx=\"10\" ry=\"10\" style=\"stroke: #A80036; stroke-width: 1.5;\" width=\"71\" x=\"702.5\" y=\"54\"/><text fill=\"#000000\" font-family=\"sans-serif\" font-size=\"12\" font-style=\"italic\" lengthAdjust=\"spacingAndGlyphs\" textLength=\"69\" x=\"703.5\" y=\"70.1387\">«attribute»</text><text fill=\"#000000\" font-family=\"sans-serif\" font-size=\"12\" lengthAdjust=\"spacingAndGlyphs\" textLength=\"61\" x=\"707.5\" y=\"84.1074\">n: Integer</text><line style=\"stroke: #A80036; stroke-width: 1.5;\" x1=\"703.5\" x2=\"772.5\" y1=\"91.9375\" y2=\"91.9375\"/></a><!--MD5=[ebbe1d658d1005bcc118a6aa81145e00]\n",
       "class E4--><a href=\"psysml:dbbeb80c-41d4-4e5a-ae6b-125fea141b81\" target=\"_top\" title=\"psysml:dbbeb80c-41d4-4e5a-ae6b-125fea141b81\" xlink:actuate=\"onRequest\" xlink:href=\"psysml:dbbeb80c-41d4-4e5a-ae6b-125fea141b81\" xlink:show=\"new\" xlink:title=\"psysml:dbbeb80c-41d4-4e5a-ae6b-125fea141b81\" xlink:type=\"simple\"><rect fill=\"#FEFECE\" filter=\"url(#f19uiv3hz3dcpd)\" height=\"45.9375\" id=\"E4\" rx=\"10\" ry=\"10\" style=\"stroke: #A80036; stroke-width: 1.5;\" width=\"42\" x=\"625\" y=\"54\"/><text fill=\"#000000\" font-family=\"sans-serif\" font-size=\"12\" font-style=\"italic\" lengthAdjust=\"spacingAndGlyphs\" textLength=\"40\" x=\"626\" y=\"70.1387\">«part»</text><text fill=\"#000000\" font-family=\"sans-serif\" font-size=\"12\" lengthAdjust=\"spacingAndGlyphs\" textLength=\"8\" x=\"642\" y=\"84.1074\">a</text><line style=\"stroke: #A80036; stroke-width: 1.5;\" x1=\"626\" x2=\"666\" y1=\"91.9375\" y2=\"91.9375\"/></a><!--MD5=[270fce915f116d4de14055a7c1d9a0f3]\n",
       "class E5--><a href=\"psysml:1044b725-5886-488e-a280-d65b06b2678d\" target=\"_top\" title=\"psysml:1044b725-5886-488e-a280-d65b06b2678d\" xlink:actuate=\"onRequest\" xlink:href=\"psysml:1044b725-5886-488e-a280-d65b06b2678d\" xlink:show=\"new\" xlink:title=\"psysml:1044b725-5886-488e-a280-d65b06b2678d\" xlink:type=\"simple\"><rect fill=\"#FEFECE\" filter=\"url(#f19uiv3hz3dcpd)\" height=\"45.9375\" id=\"E5\" rx=\"10\" ry=\"10\" style=\"stroke: #A80036; stroke-width: 1.5;\" width=\"42\" x=\"548\" y=\"54\"/><text fill=\"#000000\" font-family=\"sans-serif\" font-size=\"12\" font-style=\"italic\" lengthAdjust=\"spacingAndGlyphs\" textLength=\"40\" x=\"549\" y=\"70.1387\">«part»</text><text fill=\"#000000\" font-family=\"sans-serif\" font-size=\"12\" lengthAdjust=\"spacingAndGlyphs\" textLength=\"24\" x=\"557\" y=\"84.1074\">b: P</text><line style=\"stroke: #A80036; stroke-width: 1.5;\" x1=\"549\" x2=\"589\" y1=\"91.9375\" y2=\"91.9375\"/></a><!--MD5=[60a26617385b1d2d0262a64233df1f8d]\n",
       "class E6--><a href=\"psysml:7163cac6-f89e-4c84-b72c-82ccdb232dd2\" target=\"_top\" title=\"psysml:7163cac6-f89e-4c84-b72c-82ccdb232dd2\" xlink:actuate=\"onRequest\" xlink:href=\"psysml:7163cac6-f89e-4c84-b72c-82ccdb232dd2\" xlink:show=\"new\" xlink:title=\"psysml:7163cac6-f89e-4c84-b72c-82ccdb232dd2\" xlink:type=\"simple\"><rect fill=\"#FEFECE\" filter=\"url(#f19uiv3hz3dcpd)\" height=\"45.9375\" id=\"E6\" rx=\"10\" ry=\"10\" style=\"stroke: #A80036; stroke-width: 1.5;\" width=\"42\" x=\"471\" y=\"54\"/><text fill=\"#000000\" font-family=\"sans-serif\" font-size=\"12\" font-style=\"italic\" lengthAdjust=\"spacingAndGlyphs\" textLength=\"40\" x=\"472\" y=\"70.1387\">«part»</text><text fill=\"#000000\" font-family=\"sans-serif\" font-size=\"12\" lengthAdjust=\"spacingAndGlyphs\" textLength=\"23\" x=\"480.5\" y=\"84.1074\">c: P</text><line style=\"stroke: #A80036; stroke-width: 1.5;\" x1=\"472\" x2=\"512\" y1=\"91.9375\" y2=\"91.9375\"/></a><!--MD5=[2156ba9850f5573cc1fc38a6a4b2f02b]\n",
       "class E7--><a href=\"psysml:79f72fcf-9cc7-42c6-886c-0c2f21f0aaa0\" target=\"_top\" title=\"psysml:79f72fcf-9cc7-42c6-886c-0c2f21f0aaa0\" xlink:actuate=\"onRequest\" xlink:href=\"psysml:79f72fcf-9cc7-42c6-886c-0c2f21f0aaa0\" xlink:show=\"new\" xlink:title=\"psysml:79f72fcf-9cc7-42c6-886c-0c2f21f0aaa0\" xlink:type=\"simple\"><rect fill=\"#FEFECE\" filter=\"url(#f19uiv3hz3dcpd)\" height=\"45.9375\" id=\"E7\" rx=\"10\" ry=\"10\" style=\"stroke: #A80036; stroke-width: 1.5;\" width=\"42\" x=\"394\" y=\"54\"/><text fill=\"#000000\" font-family=\"sans-serif\" font-size=\"12\" font-style=\"italic\" lengthAdjust=\"spacingAndGlyphs\" textLength=\"40\" x=\"395\" y=\"70.1387\">«part»</text><text fill=\"#000000\" font-family=\"sans-serif\" font-size=\"12\" lengthAdjust=\"spacingAndGlyphs\" textLength=\"8\" x=\"411\" y=\"84.1074\">d</text><line style=\"stroke: #A80036; stroke-width: 1.5;\" x1=\"395\" x2=\"435\" y1=\"91.9375\" y2=\"91.9375\"/></a><!--MD5=[b9389687b975829384b498ac4b7476b2]\n",
       "class E8--><a href=\"psysml:7ad65eee-258f-4156-b8ec-39b80665cdbc\" target=\"_top\" title=\"psysml:7ad65eee-258f-4156-b8ec-39b80665cdbc\" xlink:actuate=\"onRequest\" xlink:href=\"psysml:7ad65eee-258f-4156-b8ec-39b80665cdbc\" xlink:show=\"new\" xlink:title=\"psysml:7ad65eee-258f-4156-b8ec-39b80665cdbc\" xlink:type=\"simple\"><rect fill=\"#FEFECE\" filter=\"url(#f19uiv3hz3dcpd)\" height=\"45.9375\" id=\"E8\" rx=\"10\" ry=\"10\" style=\"stroke: #A80036; stroke-width: 1.5;\" width=\"42\" x=\"317\" y=\"54\"/><text fill=\"#000000\" font-family=\"sans-serif\" font-size=\"12\" font-style=\"italic\" lengthAdjust=\"spacingAndGlyphs\" textLength=\"40\" x=\"318\" y=\"70.1387\">«part»</text><text fill=\"#000000\" font-family=\"sans-serif\" font-size=\"12\" lengthAdjust=\"spacingAndGlyphs\" textLength=\"8\" x=\"334\" y=\"84.1074\">e</text><line style=\"stroke: #A80036; stroke-width: 1.5;\" x1=\"318\" x2=\"358\" y1=\"91.9375\" y2=\"91.9375\"/></a><!--MD5=[fd4143e9d270a159db93a4ea2a975926]\n",
       "class E9--><a href=\"psysml:20b1d46d-edcb-44c0-8591-3bffd604b97a\" target=\"_top\" title=\"psysml:20b1d46d-edcb-44c0-8591-3bffd604b97a\" xlink:actuate=\"onRequest\" xlink:href=\"psysml:20b1d46d-edcb-44c0-8591-3bffd604b97a\" xlink:show=\"new\" xlink:title=\"psysml:20b1d46d-edcb-44c0-8591-3bffd604b97a\" xlink:type=\"simple\"><rect fill=\"#FEFECE\" filter=\"url(#f19uiv3hz3dcpd)\" height=\"45.9375\" id=\"E9\" rx=\"10\" ry=\"10\" style=\"stroke: #A80036; stroke-width: 1.5;\" width=\"42\" x=\"240\" y=\"54\"/><text fill=\"#000000\" font-family=\"sans-serif\" font-size=\"12\" font-style=\"italic\" lengthAdjust=\"spacingAndGlyphs\" textLength=\"40\" x=\"241\" y=\"70.1387\">«part»</text><text fill=\"#000000\" font-family=\"sans-serif\" font-size=\"12\" lengthAdjust=\"spacingAndGlyphs\" textLength=\"4\" x=\"259\" y=\"84.1074\">f</text><line style=\"stroke: #A80036; stroke-width: 1.5;\" x1=\"241\" x2=\"281\" y1=\"91.9375\" y2=\"91.9375\"/></a><!--MD5=[96f4274e9e20536e775497830990834d]\n",
       "class E10--><a href=\"psysml:25d96323-353d-45e6-96c8-f6353f2a6c2d\" target=\"_top\" title=\"psysml:25d96323-353d-45e6-96c8-f6353f2a6c2d\" xlink:actuate=\"onRequest\" xlink:href=\"psysml:25d96323-353d-45e6-96c8-f6353f2a6c2d\" xlink:show=\"new\" xlink:title=\"psysml:25d96323-353d-45e6-96c8-f6353f2a6c2d\" xlink:type=\"simple\"><rect fill=\"#FEFECE\" filter=\"url(#f19uiv3hz3dcpd)\" height=\"45.9375\" id=\"E10\" rx=\"10\" ry=\"10\" style=\"stroke: #A80036; stroke-width: 1.5;\" width=\"42\" x=\"163\" y=\"54\"/><text fill=\"#000000\" font-family=\"sans-serif\" font-size=\"12\" font-style=\"italic\" lengthAdjust=\"spacingAndGlyphs\" textLength=\"40\" x=\"164\" y=\"70.1387\">«part»</text><text fill=\"#000000\" font-family=\"sans-serif\" font-size=\"12\" lengthAdjust=\"spacingAndGlyphs\" textLength=\"8\" x=\"180\" y=\"84.1074\">g</text><line style=\"stroke: #A80036; stroke-width: 1.5;\" x1=\"164\" x2=\"204\" y1=\"91.9375\" y2=\"91.9375\"/></a><!--MD5=[1dd1bfd58a279cf63c5f349dbc8fc6a1]\n",
       "class E11--><a href=\"psysml:05fe5b10-94f9-4e9a-a85e-b113c36136a8\" target=\"_top\" title=\"psysml:05fe5b10-94f9-4e9a-a85e-b113c36136a8\" xlink:actuate=\"onRequest\" xlink:href=\"psysml:05fe5b10-94f9-4e9a-a85e-b113c36136a8\" xlink:show=\"new\" xlink:title=\"psysml:05fe5b10-94f9-4e9a-a85e-b113c36136a8\" xlink:type=\"simple\"><rect fill=\"#FEFECE\" filter=\"url(#f19uiv3hz3dcpd)\" height=\"71.5469\" id=\"E11\" style=\"stroke: #A80036; stroke-width: 1.5;\" width=\"95\" x=\"32.5\" y=\"41\"/><text fill=\"#000000\" font-family=\"sans-serif\" font-size=\"12\" font-style=\"italic\" lengthAdjust=\"spacingAndGlyphs\" textLength=\"93\" x=\"33.5\" y=\"57.1387\">«attribute def»</text><text fill=\"#000000\" font-family=\"sans-serif\" font-size=\"12\" lengthAdjust=\"spacingAndGlyphs\" textLength=\"8\" x=\"76\" y=\"71.1074\">A</text><line style=\"stroke: #A80036; stroke-width: 1.5;\" x1=\"33.5\" x2=\"126.5\" y1=\"78.9375\" y2=\"78.9375\"/><text fill=\"#000000\" font-family=\"sans-serif\" font-size=\"11\" lengthAdjust=\"spacingAndGlyphs\" textLength=\"51\" x=\"38.5\" y=\"93.1479\">i: Integer</text><text fill=\"#000000\" font-family=\"sans-serif\" font-size=\"11\" lengthAdjust=\"spacingAndGlyphs\" textLength=\"21\" x=\"38.5\" y=\"105.9526\">x: A</text></a><!--MD5=[15ebcb19ae302d9b601edb458606d402]\n",
       "link E5 to E2--><a href=\"psysml:b71e192f-5f45-432d-9454-4642818dbb88\" target=\"_top\" title=\"psysml:b71e192f-5f45-432d-9454-4642818dbb88\" xlink:actuate=\"onRequest\" xlink:href=\"psysml:b71e192f-5f45-432d-9454-4642818dbb88\" xlink:show=\"new\" xlink:title=\"psysml:b71e192f-5f45-432d-9454-4642818dbb88\" xlink:type=\"simple\"><path d=\"M561.66,100.01 C556.63,115.11 549.8,135.61 543.76,153.71 \" fill=\"none\" id=\"E5-&gt;E2\" style=\"stroke: #A80036; stroke-width: 1.0;\"/><polygon fill=\"#FFFFFF\" points=\"537.44,172.69,536.7984,152.4517,550.082,156.8729,537.44,172.69\" style=\"stroke: #A80036; stroke-width: 1.0;\"/><ellipse cx=\"540.4961\" cy=\"147.675\" fill=\"#A80036\" rx=\"2\" ry=\"2\" style=\"stroke: #A80036; stroke-width: 1.0;\"/><ellipse cx=\"549.9844\" cy=\"150.833\" fill=\"#A80036\" rx=\"2\" ry=\"2\" style=\"stroke: #A80036; stroke-width: 1.0;\"/></a><!--MD5=[2351f337d6de0f557b50152ba70847b5]\n",
       "link E6 to E2--><a href=\"psysml:173d30e4-d568-4354-a9e9-bb0668964c70\" target=\"_top\" title=\"psysml:173d30e4-d568-4354-a9e9-bb0668964c70\" xlink:actuate=\"onRequest\" xlink:href=\"psysml:173d30e4-d568-4354-a9e9-bb0668964c70\" xlink:show=\"new\" xlink:title=\"psysml:173d30e4-d568-4354-a9e9-bb0668964c70\" xlink:type=\"simple\"><path d=\"M499.15,100.01 C504.03,115.03 510.64,135.39 516.49,153.41 \" fill=\"none\" id=\"E6-&gt;E2\" style=\"stroke: #A80036; stroke-width: 1.0;\"/><polygon fill=\"#FFFFFF\" points=\"522.76,172.69,510.2363,156.7791,523.5525,152.4571,522.76,172.69\" style=\"stroke: #A80036; stroke-width: 1.0;\"/><ellipse cx=\"510.379\" cy=\"150.74\" fill=\"#A80036\" rx=\"2\" ry=\"2\" style=\"stroke: #A80036; stroke-width: 1.0;\"/><ellipse cx=\"519.8905\" cy=\"147.6529\" fill=\"#A80036\" rx=\"2\" ry=\"2\" style=\"stroke: #A80036; stroke-width: 1.0;\"/></a><!--MD5=[a6de9d5fabce53bd33ca710bb3b51ec4]\n",
       "@startuml\r\n",
       "skinparam wrapWidth 300\r\n",
       "hide circle\r\n",
       "\r\n",
       "package \"MultiplicityTest\" as E1  [[psysml:c0f24ad0-fe84-484c-92fb-1b0594d1e479 ]]  {\r\n",
       "comp def \"P\" as E2  <<(T,blue) part def>> [[psysml:987e5bc7-b02a-416d-86c6-8545bfa90ef5 ]] {\r\n",
       "}\r\n",
       "comp usage \"n: Integer\" as E3  <<(T,blue) attribute>> [[psysml:7c23d281-2047-4d33-b5ff-31ab75cdc741 ]] {\r\n",
       "}\r\n",
       "comp usage \"a\" as E4  <<(T,blue) part>> [[psysml:dbbeb80c-41d4-4e5a-ae6b-125fea141b81 ]] {\r\n",
       "}\r\n",
       "comp usage \"b: P\" as E5  <<(T,blue) part>> [[psysml:1044b725-5886-488e-a280-d65b06b2678d ]] {\r\n",
       "}\r\n",
       "comp usage \"c: P\" as E6  <<(T,blue) part>> [[psysml:7163cac6-f89e-4c84-b72c-82ccdb232dd2 ]] {\r\n",
       "}\r\n",
       "comp usage \"d\" as E7  <<(T,blue) part>> [[psysml:79f72fcf-9cc7-42c6-886c-0c2f21f0aaa0 ]] {\r\n",
       "}\r\n",
       "comp usage \"e\" as E8  <<(T,blue) part>> [[psysml:7ad65eee-258f-4156-b8ec-39b80665cdbc ]] {\r\n",
       "}\r\n",
       "comp usage \"f\" as E9  <<(T,blue) part>> [[psysml:20b1d46d-edcb-44c0-8591-3bffd604b97a ]] {\r\n",
       "}\r\n",
       "comp usage \"g\" as E10  <<(T,blue) part>> [[psysml:25d96323-353d-45e6-96c8-f6353f2a6c2d ]] {\r\n",
       "}\r\n",
       "comp def \"A\" as E11  <<(T,blue) attribute def>> [[psysml:05fe5b10-94f9-4e9a-a85e-b113c36136a8 ]] {\r\n",
       "i: Integer\r\n",
       "x: A\r\n",
       "}\r\n",
       "}\r\n",
       "E5 - -:|> E2 [[psysml:b71e192f-5f45-432d-9454-4642818dbb88 ]] \r\n",
       "E6 - -:|> E2 [[psysml:173d30e4-d568-4354-a9e9-bb0668964c70 ]] \r\n",
       "@enduml\r\n",
       "\n",
       "PlantUML version 1.2020.13(Sat Jun 13 12:26:38 UTC 2020)\n",
       "(EPL source distribution)\n",
       "Java Runtime: OpenJDK Runtime Environment\n",
       "JVM: OpenJDK 64-Bit Server VM\n",
       "Default Encoding: UTF-8\n",
       "Language: en\n",
       "Country: null\n",
       "--></g></svg>"
      ]
     },
     "execution_count": 29,
     "metadata": {},
     "output_type": "execute_result"
    }
   ],
   "source": [
    "%viz --style=\"STDCOLOR\" --view=\"MIXED\" \"MultiplicityTest\""
   ]
  },
  {
   "cell_type": "code",
   "execution_count": 30,
   "id": "a552be03",
   "metadata": {
    "execution": {
     "iopub.execute_input": "2021-09-27T07:19:18.875756Z",
     "iopub.status.busy": "2021-09-27T07:19:18.875353Z",
     "iopub.status.idle": "2021-09-27T07:19:18.950550Z",
     "shell.execute_reply": "2021-09-27T07:19:18.950199Z"
    }
   },
   "outputs": [
    {
     "data": {
      "image/svg+xml": [
       "<?xml version=\"1.0\" encoding=\"UTF-8\" standalone=\"no\"?><svg xmlns=\"http://www.w3.org/2000/svg\" xmlns:xlink=\"http://www.w3.org/1999/xlink\" contentScriptType=\"application/ecmascript\" contentStyleType=\"text/css\" height=\"241px\" preserveAspectRatio=\"none\" style=\"width:1045px;height:241px;\" version=\"1.1\" viewBox=\"0 0 1045 241\" width=\"1045px\" zoomAndPan=\"magnify\"><defs><filter height=\"300%\" id=\"f1f316n1vtfye2\" width=\"300%\" x=\"-1\" y=\"-1\"><feGaussianBlur result=\"blurOut\" stdDeviation=\"2.0\"/><feColorMatrix in=\"blurOut\" result=\"blurOut2\" type=\"matrix\" values=\"0 0 0 0 0 0 0 0 0 0 0 0 0 0 0 0 0 0 .4 0\"/><feOffset dx=\"4.0\" dy=\"4.0\" in=\"blurOut2\" result=\"blurOut3\"/><feBlend in=\"SourceGraphic\" in2=\"blurOut3\" mode=\"normal\"/></filter></defs><g><!--MD5=[fbc87193dbaf4d95561dea2c320d4a47]\n",
       "cluster E1--><a href=\"psysml:c0f24ad0-fe84-484c-92fb-1b0594d1e479\" target=\"_top\" title=\"psysml:c0f24ad0-fe84-484c-92fb-1b0594d1e479\" xlink:actuate=\"onRequest\" xlink:href=\"psysml:c0f24ad0-fe84-484c-92fb-1b0594d1e479\" xlink:show=\"new\" xlink:title=\"psysml:c0f24ad0-fe84-484c-92fb-1b0594d1e479\" xlink:type=\"simple\"><polygon fill=\"#FFFFFF\" filter=\"url(#f1f316n1vtfye2)\" points=\"16,6,123,6,130,28.2969,1023,28.2969,1023,229,16,229,16,6\" style=\"stroke: #000000; stroke-width: 1.5;\"/><line style=\"stroke: #000000; stroke-width: 1.5;\" x1=\"16\" x2=\"130\" y1=\"28.2969\" y2=\"28.2969\"/><text fill=\"#000000\" font-family=\"sans-serif\" font-size=\"14\" font-weight=\"bold\" lengthAdjust=\"spacingAndGlyphs\" textLength=\"101\" x=\"20\" y=\"20.9951\">MultiplicityTest</text></a><!--MD5=[b4997ac47864f28c2f74865a473b2911]\n",
       "class E2--><a href=\"psysml:987e5bc7-b02a-416d-86c6-8545bfa90ef5\" target=\"_top\" title=\"psysml:987e5bc7-b02a-416d-86c6-8545bfa90ef5\" xlink:actuate=\"onRequest\" xlink:href=\"psysml:987e5bc7-b02a-416d-86c6-8545bfa90ef5\" xlink:show=\"new\" xlink:title=\"psysml:987e5bc7-b02a-416d-86c6-8545bfa90ef5\" xlink:type=\"simple\"><rect fill=\"#FEFECE\" filter=\"url(#f1f316n1vtfye2)\" height=\"40\" id=\"E2\" style=\"stroke: #A80036; stroke-width: 1.5;\" width=\"40\" x=\"666\" y=\"173\"/><ellipse cx=\"681\" cy=\"189\" fill=\"#008000\" rx=\"11\" ry=\"11\" style=\"stroke: #A80036; stroke-width: 1.0;\"/><path d=\"M677.875,194 L677.875,183.4063 L681.1094,183.4063 Q683.0156,183.4063 683.9219,184.1563 Q684.8438,184.9063 684.8438,186.0781 Q684.8438,186.7656 684.4531,187.4219 Q684.0781,188.0781 683.3594,188.375 Q684.2188,188.75 684.7344,189.4375 Q685.25,190.125 685.25,190.9375 Q685.25,192.3125 684.2188,193.1563 Q683.2031,194 681.0938,194 L677.875,194 Z M679.7969,187.6406 L680.9531,187.6406 Q682.0781,187.6406 682.4844,187.2656 Q682.9063,186.875 682.9063,186.25 Q682.9063,185.6719 682.4844,185.3125 Q682.0625,184.9531 681.125,184.9531 L679.7969,184.9531 L679.7969,187.6406 Z M679.7969,192.4219 L681.2969,192.4219 Q682.2031,192.4219 682.7344,192.0313 Q683.2656,191.6406 683.2656,190.8906 Q683.2656,190.125 682.7656,189.6563 Q682.2656,189.1719 681,189.1719 L679.7969,189.1719 L679.7969,192.4219 Z \"/><text fill=\"#000000\" font-family=\"sans-serif\" font-size=\"12\" lengthAdjust=\"spacingAndGlyphs\" textLength=\"8\" x=\"695\" y=\"193.1543\">P</text><line style=\"stroke: #A80036; stroke-width: 1.5;\" x1=\"667\" x2=\"705\" y1=\"205\" y2=\"205\"/></a><!--MD5=[09b614a08d8cba4a07c9adeb5e0fee81]\n",
       "class E3--><a href=\"psysml:7c23d281-2047-4d33-b5ff-31ab75cdc741\" target=\"_top\" title=\"psysml:7c23d281-2047-4d33-b5ff-31ab75cdc741\" xlink:actuate=\"onRequest\" xlink:href=\"psysml:7c23d281-2047-4d33-b5ff-31ab75cdc741\" xlink:show=\"new\" xlink:title=\"psysml:7c23d281-2047-4d33-b5ff-31ab75cdc741\" xlink:type=\"simple\"><rect fill=\"#FEFECE\" filter=\"url(#f1f316n1vtfye2)\" height=\"45.9375\" id=\"E3\" rx=\"10\" ry=\"10\" style=\"stroke: #A80036; stroke-width: 1.5;\" width=\"97\" x=\"910.5\" y=\"54\"/><ellipse cx=\"925.5\" cy=\"72.9688\" fill=\"#FFA500\" rx=\"11\" ry=\"11\" style=\"stroke: #A80036; stroke-width: 1.0;\"/><path d=\"M925.25,78.4375 Q923.5,78.4375 922.5469,77.4063 Q921.6094,76.3594 921.6094,74.5156 L921.6094,67.625 L923.6719,67.625 L923.6719,67.7813 Q923.5781,67.875 923.5469,68.0156 Q923.5313,68.1406 923.5313,68.4063 L923.5313,74.5313 Q923.5313,75.625 923.9063,76.25 Q924.2813,76.875 925.2656,76.875 Q926.25,76.875 926.6406,76.25 Q927.0313,75.625 927.0313,74.4844 L927.0313,67.625 L928.9063,67.625 L928.9063,74.4688 Q928.9063,76.5 927.875,77.4688 Q926.8594,78.4375 925.25,78.4375 Z \"/><text fill=\"#000000\" font-family=\"sans-serif\" font-size=\"12\" font-style=\"italic\" lengthAdjust=\"spacingAndGlyphs\" textLength=\"69\" x=\"937.5\" y=\"70.1387\">«attribute»</text><text fill=\"#000000\" font-family=\"sans-serif\" font-size=\"12\" lengthAdjust=\"spacingAndGlyphs\" textLength=\"61\" x=\"941.5\" y=\"84.1074\">n: Integer</text><line style=\"stroke: #A80036; stroke-width: 1.5;\" x1=\"911.5\" x2=\"1006.5\" y1=\"91.9375\" y2=\"91.9375\"/></a><!--MD5=[ebbe1d658d1005bcc118a6aa81145e00]\n",
       "class E4--><a href=\"psysml:dbbeb80c-41d4-4e5a-ae6b-125fea141b81\" target=\"_top\" title=\"psysml:dbbeb80c-41d4-4e5a-ae6b-125fea141b81\" xlink:actuate=\"onRequest\" xlink:href=\"psysml:dbbeb80c-41d4-4e5a-ae6b-125fea141b81\" xlink:show=\"new\" xlink:title=\"psysml:dbbeb80c-41d4-4e5a-ae6b-125fea141b81\" xlink:type=\"simple\"><rect fill=\"#FEFECE\" filter=\"url(#f1f316n1vtfye2)\" height=\"45.9375\" id=\"E4\" rx=\"10\" ry=\"10\" style=\"stroke: #A80036; stroke-width: 1.5;\" width=\"68\" x=\"807\" y=\"54\"/><ellipse cx=\"822\" cy=\"72.9688\" fill=\"#32CD32\" rx=\"11\" ry=\"11\" style=\"stroke: #A80036; stroke-width: 1.0;\"/><path d=\"M818.8125,77.9688 L818.8125,67.375 L822.4219,67.375 Q823.6406,67.375 824.4375,67.8125 Q825.2344,68.2344 825.6094,68.9375 Q826,69.6406 826,70.4844 Q826,71.3281 825.625,72.0156 Q825.2656,72.7031 824.4688,73.125 Q823.6875,73.5313 822.5,73.5313 L820.7656,73.5313 L820.7656,77.9688 L818.8125,77.9688 Z M820.7656,71.9375 L822.375,71.9375 Q823.1875,71.9375 823.6094,71.5313 Q824.0313,71.125 824.0313,70.4844 Q824.0313,69.8594 823.6094,69.4531 Q823.1875,69.0469 822.3906,69.0469 L820.7656,69.0469 L820.7656,71.9375 Z \"/><text fill=\"#000000\" font-family=\"sans-serif\" font-size=\"12\" font-style=\"italic\" lengthAdjust=\"spacingAndGlyphs\" textLength=\"40\" x=\"834\" y=\"70.1387\">«part»</text><text fill=\"#000000\" font-family=\"sans-serif\" font-size=\"12\" lengthAdjust=\"spacingAndGlyphs\" textLength=\"8\" x=\"850\" y=\"84.1074\">a</text><line style=\"stroke: #A80036; stroke-width: 1.5;\" x1=\"808\" x2=\"874\" y1=\"91.9375\" y2=\"91.9375\"/></a><!--MD5=[270fce915f116d4de14055a7c1d9a0f3]\n",
       "class E5--><a href=\"psysml:1044b725-5886-488e-a280-d65b06b2678d\" target=\"_top\" title=\"psysml:1044b725-5886-488e-a280-d65b06b2678d\" xlink:actuate=\"onRequest\" xlink:href=\"psysml:1044b725-5886-488e-a280-d65b06b2678d\" xlink:show=\"new\" xlink:title=\"psysml:1044b725-5886-488e-a280-d65b06b2678d\" xlink:type=\"simple\"><rect fill=\"#FEFECE\" filter=\"url(#f1f316n1vtfye2)\" height=\"45.9375\" id=\"E5\" rx=\"10\" ry=\"10\" style=\"stroke: #A80036; stroke-width: 1.5;\" width=\"68\" x=\"704\" y=\"54\"/><ellipse cx=\"719\" cy=\"72.9688\" fill=\"#32CD32\" rx=\"11\" ry=\"11\" style=\"stroke: #A80036; stroke-width: 1.0;\"/><path d=\"M715.8125,77.9688 L715.8125,67.375 L719.4219,67.375 Q720.6406,67.375 721.4375,67.8125 Q722.2344,68.2344 722.6094,68.9375 Q723,69.6406 723,70.4844 Q723,71.3281 722.625,72.0156 Q722.2656,72.7031 721.4688,73.125 Q720.6875,73.5313 719.5,73.5313 L717.7656,73.5313 L717.7656,77.9688 L715.8125,77.9688 Z M717.7656,71.9375 L719.375,71.9375 Q720.1875,71.9375 720.6094,71.5313 Q721.0313,71.125 721.0313,70.4844 Q721.0313,69.8594 720.6094,69.4531 Q720.1875,69.0469 719.3906,69.0469 L717.7656,69.0469 L717.7656,71.9375 Z \"/><text fill=\"#000000\" font-family=\"sans-serif\" font-size=\"12\" font-style=\"italic\" lengthAdjust=\"spacingAndGlyphs\" textLength=\"40\" x=\"731\" y=\"70.1387\">«part»</text><text fill=\"#000000\" font-family=\"sans-serif\" font-size=\"12\" lengthAdjust=\"spacingAndGlyphs\" textLength=\"24\" x=\"739\" y=\"84.1074\">b: P</text><line style=\"stroke: #A80036; stroke-width: 1.5;\" x1=\"705\" x2=\"771\" y1=\"91.9375\" y2=\"91.9375\"/></a><!--MD5=[60a26617385b1d2d0262a64233df1f8d]\n",
       "class E6--><a href=\"psysml:7163cac6-f89e-4c84-b72c-82ccdb232dd2\" target=\"_top\" title=\"psysml:7163cac6-f89e-4c84-b72c-82ccdb232dd2\" xlink:actuate=\"onRequest\" xlink:href=\"psysml:7163cac6-f89e-4c84-b72c-82ccdb232dd2\" xlink:show=\"new\" xlink:title=\"psysml:7163cac6-f89e-4c84-b72c-82ccdb232dd2\" xlink:type=\"simple\"><rect fill=\"#FEFECE\" filter=\"url(#f1f316n1vtfye2)\" height=\"45.9375\" id=\"E6\" rx=\"10\" ry=\"10\" style=\"stroke: #A80036; stroke-width: 1.5;\" width=\"68\" x=\"601\" y=\"54\"/><ellipse cx=\"616\" cy=\"72.9688\" fill=\"#32CD32\" rx=\"11\" ry=\"11\" style=\"stroke: #A80036; stroke-width: 1.0;\"/><path d=\"M612.8125,77.9688 L612.8125,67.375 L616.4219,67.375 Q617.6406,67.375 618.4375,67.8125 Q619.2344,68.2344 619.6094,68.9375 Q620,69.6406 620,70.4844 Q620,71.3281 619.625,72.0156 Q619.2656,72.7031 618.4688,73.125 Q617.6875,73.5313 616.5,73.5313 L614.7656,73.5313 L614.7656,77.9688 L612.8125,77.9688 Z M614.7656,71.9375 L616.375,71.9375 Q617.1875,71.9375 617.6094,71.5313 Q618.0313,71.125 618.0313,70.4844 Q618.0313,69.8594 617.6094,69.4531 Q617.1875,69.0469 616.3906,69.0469 L614.7656,69.0469 L614.7656,71.9375 Z \"/><text fill=\"#000000\" font-family=\"sans-serif\" font-size=\"12\" font-style=\"italic\" lengthAdjust=\"spacingAndGlyphs\" textLength=\"40\" x=\"628\" y=\"70.1387\">«part»</text><text fill=\"#000000\" font-family=\"sans-serif\" font-size=\"12\" lengthAdjust=\"spacingAndGlyphs\" textLength=\"23\" x=\"636.5\" y=\"84.1074\">c: P</text><line style=\"stroke: #A80036; stroke-width: 1.5;\" x1=\"602\" x2=\"668\" y1=\"91.9375\" y2=\"91.9375\"/></a><!--MD5=[2156ba9850f5573cc1fc38a6a4b2f02b]\n",
       "class E7--><a href=\"psysml:79f72fcf-9cc7-42c6-886c-0c2f21f0aaa0\" target=\"_top\" title=\"psysml:79f72fcf-9cc7-42c6-886c-0c2f21f0aaa0\" xlink:actuate=\"onRequest\" xlink:href=\"psysml:79f72fcf-9cc7-42c6-886c-0c2f21f0aaa0\" xlink:show=\"new\" xlink:title=\"psysml:79f72fcf-9cc7-42c6-886c-0c2f21f0aaa0\" xlink:type=\"simple\"><rect fill=\"#FEFECE\" filter=\"url(#f1f316n1vtfye2)\" height=\"45.9375\" id=\"E7\" rx=\"10\" ry=\"10\" style=\"stroke: #A80036; stroke-width: 1.5;\" width=\"68\" x=\"498\" y=\"54\"/><ellipse cx=\"513\" cy=\"72.9688\" fill=\"#32CD32\" rx=\"11\" ry=\"11\" style=\"stroke: #A80036; stroke-width: 1.0;\"/><path d=\"M509.8125,77.9688 L509.8125,67.375 L513.4219,67.375 Q514.6406,67.375 515.4375,67.8125 Q516.2344,68.2344 516.6094,68.9375 Q517,69.6406 517,70.4844 Q517,71.3281 516.625,72.0156 Q516.2656,72.7031 515.4688,73.125 Q514.6875,73.5313 513.5,73.5313 L511.7656,73.5313 L511.7656,77.9688 L509.8125,77.9688 Z M511.7656,71.9375 L513.375,71.9375 Q514.1875,71.9375 514.6094,71.5313 Q515.0313,71.125 515.0313,70.4844 Q515.0313,69.8594 514.6094,69.4531 Q514.1875,69.0469 513.3906,69.0469 L511.7656,69.0469 L511.7656,71.9375 Z \"/><text fill=\"#000000\" font-family=\"sans-serif\" font-size=\"12\" font-style=\"italic\" lengthAdjust=\"spacingAndGlyphs\" textLength=\"40\" x=\"525\" y=\"70.1387\">«part»</text><text fill=\"#000000\" font-family=\"sans-serif\" font-size=\"12\" lengthAdjust=\"spacingAndGlyphs\" textLength=\"8\" x=\"541\" y=\"84.1074\">d</text><line style=\"stroke: #A80036; stroke-width: 1.5;\" x1=\"499\" x2=\"565\" y1=\"91.9375\" y2=\"91.9375\"/></a><!--MD5=[b9389687b975829384b498ac4b7476b2]\n",
       "class E8--><a href=\"psysml:7ad65eee-258f-4156-b8ec-39b80665cdbc\" target=\"_top\" title=\"psysml:7ad65eee-258f-4156-b8ec-39b80665cdbc\" xlink:actuate=\"onRequest\" xlink:href=\"psysml:7ad65eee-258f-4156-b8ec-39b80665cdbc\" xlink:show=\"new\" xlink:title=\"psysml:7ad65eee-258f-4156-b8ec-39b80665cdbc\" xlink:type=\"simple\"><rect fill=\"#FEFECE\" filter=\"url(#f1f316n1vtfye2)\" height=\"45.9375\" id=\"E8\" rx=\"10\" ry=\"10\" style=\"stroke: #A80036; stroke-width: 1.5;\" width=\"68\" x=\"395\" y=\"54\"/><ellipse cx=\"410\" cy=\"72.9688\" fill=\"#32CD32\" rx=\"11\" ry=\"11\" style=\"stroke: #A80036; stroke-width: 1.0;\"/><path d=\"M406.8125,77.9688 L406.8125,67.375 L410.4219,67.375 Q411.6406,67.375 412.4375,67.8125 Q413.2344,68.2344 413.6094,68.9375 Q414,69.6406 414,70.4844 Q414,71.3281 413.625,72.0156 Q413.2656,72.7031 412.4688,73.125 Q411.6875,73.5313 410.5,73.5313 L408.7656,73.5313 L408.7656,77.9688 L406.8125,77.9688 Z M408.7656,71.9375 L410.375,71.9375 Q411.1875,71.9375 411.6094,71.5313 Q412.0313,71.125 412.0313,70.4844 Q412.0313,69.8594 411.6094,69.4531 Q411.1875,69.0469 410.3906,69.0469 L408.7656,69.0469 L408.7656,71.9375 Z \"/><text fill=\"#000000\" font-family=\"sans-serif\" font-size=\"12\" font-style=\"italic\" lengthAdjust=\"spacingAndGlyphs\" textLength=\"40\" x=\"422\" y=\"70.1387\">«part»</text><text fill=\"#000000\" font-family=\"sans-serif\" font-size=\"12\" lengthAdjust=\"spacingAndGlyphs\" textLength=\"8\" x=\"438\" y=\"84.1074\">e</text><line style=\"stroke: #A80036; stroke-width: 1.5;\" x1=\"396\" x2=\"462\" y1=\"91.9375\" y2=\"91.9375\"/></a><!--MD5=[fd4143e9d270a159db93a4ea2a975926]\n",
       "class E9--><a href=\"psysml:20b1d46d-edcb-44c0-8591-3bffd604b97a\" target=\"_top\" title=\"psysml:20b1d46d-edcb-44c0-8591-3bffd604b97a\" xlink:actuate=\"onRequest\" xlink:href=\"psysml:20b1d46d-edcb-44c0-8591-3bffd604b97a\" xlink:show=\"new\" xlink:title=\"psysml:20b1d46d-edcb-44c0-8591-3bffd604b97a\" xlink:type=\"simple\"><rect fill=\"#FEFECE\" filter=\"url(#f1f316n1vtfye2)\" height=\"45.9375\" id=\"E9\" rx=\"10\" ry=\"10\" style=\"stroke: #A80036; stroke-width: 1.5;\" width=\"68\" x=\"292\" y=\"54\"/><ellipse cx=\"307\" cy=\"72.9688\" fill=\"#32CD32\" rx=\"11\" ry=\"11\" style=\"stroke: #A80036; stroke-width: 1.0;\"/><path d=\"M303.8125,77.9688 L303.8125,67.375 L307.4219,67.375 Q308.6406,67.375 309.4375,67.8125 Q310.2344,68.2344 310.6094,68.9375 Q311,69.6406 311,70.4844 Q311,71.3281 310.625,72.0156 Q310.2656,72.7031 309.4688,73.125 Q308.6875,73.5313 307.5,73.5313 L305.7656,73.5313 L305.7656,77.9688 L303.8125,77.9688 Z M305.7656,71.9375 L307.375,71.9375 Q308.1875,71.9375 308.6094,71.5313 Q309.0313,71.125 309.0313,70.4844 Q309.0313,69.8594 308.6094,69.4531 Q308.1875,69.0469 307.3906,69.0469 L305.7656,69.0469 L305.7656,71.9375 Z \"/><text fill=\"#000000\" font-family=\"sans-serif\" font-size=\"12\" font-style=\"italic\" lengthAdjust=\"spacingAndGlyphs\" textLength=\"40\" x=\"319\" y=\"70.1387\">«part»</text><text fill=\"#000000\" font-family=\"sans-serif\" font-size=\"12\" lengthAdjust=\"spacingAndGlyphs\" textLength=\"4\" x=\"337\" y=\"84.1074\">f</text><line style=\"stroke: #A80036; stroke-width: 1.5;\" x1=\"293\" x2=\"359\" y1=\"91.9375\" y2=\"91.9375\"/></a><!--MD5=[96f4274e9e20536e775497830990834d]\n",
       "class E10--><a href=\"psysml:25d96323-353d-45e6-96c8-f6353f2a6c2d\" target=\"_top\" title=\"psysml:25d96323-353d-45e6-96c8-f6353f2a6c2d\" xlink:actuate=\"onRequest\" xlink:href=\"psysml:25d96323-353d-45e6-96c8-f6353f2a6c2d\" xlink:show=\"new\" xlink:title=\"psysml:25d96323-353d-45e6-96c8-f6353f2a6c2d\" xlink:type=\"simple\"><rect fill=\"#FEFECE\" filter=\"url(#f1f316n1vtfye2)\" height=\"45.9375\" id=\"E10\" rx=\"10\" ry=\"10\" style=\"stroke: #A80036; stroke-width: 1.5;\" width=\"68\" x=\"189\" y=\"54\"/><ellipse cx=\"204\" cy=\"72.9688\" fill=\"#32CD32\" rx=\"11\" ry=\"11\" style=\"stroke: #A80036; stroke-width: 1.0;\"/><path d=\"M200.8125,77.9688 L200.8125,67.375 L204.4219,67.375 Q205.6406,67.375 206.4375,67.8125 Q207.2344,68.2344 207.6094,68.9375 Q208,69.6406 208,70.4844 Q208,71.3281 207.625,72.0156 Q207.2656,72.7031 206.4688,73.125 Q205.6875,73.5313 204.5,73.5313 L202.7656,73.5313 L202.7656,77.9688 L200.8125,77.9688 Z M202.7656,71.9375 L204.375,71.9375 Q205.1875,71.9375 205.6094,71.5313 Q206.0313,71.125 206.0313,70.4844 Q206.0313,69.8594 205.6094,69.4531 Q205.1875,69.0469 204.3906,69.0469 L202.7656,69.0469 L202.7656,71.9375 Z \"/><text fill=\"#000000\" font-family=\"sans-serif\" font-size=\"12\" font-style=\"italic\" lengthAdjust=\"spacingAndGlyphs\" textLength=\"40\" x=\"216\" y=\"70.1387\">«part»</text><text fill=\"#000000\" font-family=\"sans-serif\" font-size=\"12\" lengthAdjust=\"spacingAndGlyphs\" textLength=\"8\" x=\"232\" y=\"84.1074\">g</text><line style=\"stroke: #A80036; stroke-width: 1.5;\" x1=\"190\" x2=\"256\" y1=\"91.9375\" y2=\"91.9375\"/></a><!--MD5=[1dd1bfd58a279cf63c5f349dbc8fc6a1]\n",
       "class E11--><a href=\"psysml:05fe5b10-94f9-4e9a-a85e-b113c36136a8\" target=\"_top\" title=\"psysml:05fe5b10-94f9-4e9a-a85e-b113c36136a8\" xlink:actuate=\"onRequest\" xlink:href=\"psysml:05fe5b10-94f9-4e9a-a85e-b113c36136a8\" xlink:show=\"new\" xlink:title=\"psysml:05fe5b10-94f9-4e9a-a85e-b113c36136a8\" xlink:type=\"simple\"><rect fill=\"#FEFECE\" filter=\"url(#f1f316n1vtfye2)\" height=\"71.5469\" id=\"E11\" style=\"stroke: #A80036; stroke-width: 1.5;\" width=\"121\" x=\"32.5\" y=\"41\"/><ellipse cx=\"47.5\" cy=\"59.9688\" fill=\"#A52A2A\" rx=\"11\" ry=\"11\" style=\"stroke: #A80036; stroke-width: 1.0;\"/><path d=\"M44.7188,64.9688 L44.7188,54.375 L47.4531,54.375 Q48.8438,54.375 49.6094,54.7656 Q50.3906,55.1406 50.9219,55.8438 Q51.4531,56.5469 51.75,57.5469 Q52.0469,58.5313 52.0469,59.75 Q52,61.3438 51.5,62.5313 Q51.0156,63.7031 49.9688,64.3438 Q48.9375,64.9688 47.25,64.9688 L44.7188,64.9688 Z M46.5781,63.4688 L47.2031,63.4688 Q48.2813,63.4688 48.9375,63.0156 Q49.5938,62.5625 49.875,61.7344 Q50.1719,60.8906 50.1563,59.7656 Q50.1563,58.5938 49.9063,57.7344 Q49.6563,56.8594 49.0469,56.3906 Q48.4375,55.9063 47.3906,55.9063 L46.5781,55.9063 L46.5781,63.4688 Z \"/><text fill=\"#000000\" font-family=\"sans-serif\" font-size=\"12\" font-style=\"italic\" lengthAdjust=\"spacingAndGlyphs\" textLength=\"93\" x=\"59.5\" y=\"57.1387\">«attribute def»</text><text fill=\"#000000\" font-family=\"sans-serif\" font-size=\"12\" lengthAdjust=\"spacingAndGlyphs\" textLength=\"8\" x=\"102\" y=\"71.1074\">A</text><line style=\"stroke: #A80036; stroke-width: 1.5;\" x1=\"33.5\" x2=\"152.5\" y1=\"78.9375\" y2=\"78.9375\"/><text fill=\"#000000\" font-family=\"sans-serif\" font-size=\"11\" lengthAdjust=\"spacingAndGlyphs\" textLength=\"51\" x=\"38.5\" y=\"93.1479\">i: Integer</text><text fill=\"#000000\" font-family=\"sans-serif\" font-size=\"11\" lengthAdjust=\"spacingAndGlyphs\" textLength=\"21\" x=\"38.5\" y=\"105.9526\">x: A</text></a><!--MD5=[15ebcb19ae302d9b601edb458606d402]\n",
       "link E5 to E2--><a href=\"psysml:b71e192f-5f45-432d-9454-4642818dbb88\" target=\"_top\" title=\"psysml:b71e192f-5f45-432d-9454-4642818dbb88\" xlink:actuate=\"onRequest\" xlink:href=\"psysml:b71e192f-5f45-432d-9454-4642818dbb88\" xlink:show=\"new\" xlink:title=\"psysml:b71e192f-5f45-432d-9454-4642818dbb88\" xlink:type=\"simple\"><path d=\"M727.85,100.25 C720.81,115.68 711.27,136.61 703.07,154.58 \" fill=\"none\" id=\"E5-&gt;E2\" style=\"stroke: #A80036; stroke-width: 1.0;\"/><polygon fill=\"#FFFFFF\" points=\"694.74,172.84,696.2548,152.6483,708.9927,158.4573,694.74,172.84\" style=\"stroke: #A80036; stroke-width: 1.0;\"/><ellipse cx=\"700.4396\" cy=\"148.292\" fill=\"#A80036\" rx=\"2\" ry=\"2\" style=\"stroke: #A80036; stroke-width: 1.0;\"/><ellipse cx=\"709.5381\" cy=\"152.4413\" fill=\"#A80036\" rx=\"2\" ry=\"2\" style=\"stroke: #A80036; stroke-width: 1.0;\"/></a><!--MD5=[2351f337d6de0f557b50152ba70847b5]\n",
       "link E6 to E2--><a href=\"psysml:173d30e4-d568-4354-a9e9-bb0668964c70\" target=\"_top\" title=\"psysml:173d30e4-d568-4354-a9e9-bb0668964c70\" xlink:actuate=\"onRequest\" xlink:href=\"psysml:173d30e4-d568-4354-a9e9-bb0668964c70\" xlink:show=\"new\" xlink:title=\"psysml:173d30e4-d568-4354-a9e9-bb0668964c70\" xlink:type=\"simple\"><path d=\"M644.95,100.25 C651.86,115.68 661.22,136.61 669.26,154.58 \" fill=\"none\" id=\"E6-&gt;E2\" style=\"stroke: #A80036; stroke-width: 1.0;\"/><polygon fill=\"#FFFFFF\" points=\"677.43,172.84,663.2788,158.3574,676.0573,152.6381,677.43,172.84\" style=\"stroke: #A80036; stroke-width: 1.0;\"/><ellipse cx=\"662.7757\" cy=\"152.3377\" fill=\"#A80036\" rx=\"2\" ry=\"2\" style=\"stroke: #A80036; stroke-width: 1.0;\"/><ellipse cx=\"671.9032\" cy=\"148.2525\" fill=\"#A80036\" rx=\"2\" ry=\"2\" style=\"stroke: #A80036; stroke-width: 1.0;\"/></a><!--MD5=[38901ff608268a8526ca0d983ff29efb]\n",
       "@startuml\r\n",
       " \r\n",
       "package \"MultiplicityTest\" as E1  [[psysml:c0f24ad0-fe84-484c-92fb-1b0594d1e479 ]]  {\r\n",
       "comp def \"P\" as E2 << << (B,green) >> [[psysml:987e5bc7-b02a-416d-86c6-8545bfa90ef5 ]] {\r\n",
       "}\r\n",
       "comp usage \"n: Integer\" as E3 << <<(U,orange) attribute>> [[psysml:7c23d281-2047-4d33-b5ff-31ab75cdc741 ]] {\r\n",
       "}\r\n",
       "comp usage \"a\" as E4 << << (P,limegreen) part>> [[psysml:dbbeb80c-41d4-4e5a-ae6b-125fea141b81 ]] {\r\n",
       "}\r\n",
       "comp usage \"b: P\" as E5 << << (P,limegreen) part>> [[psysml:1044b725-5886-488e-a280-d65b06b2678d ]] {\r\n",
       "}\r\n",
       "comp usage \"c: P\" as E6 << << (P,limegreen) part>> [[psysml:7163cac6-f89e-4c84-b72c-82ccdb232dd2 ]] {\r\n",
       "}\r\n",
       "comp usage \"d\" as E7 << << (P,limegreen) part>> [[psysml:79f72fcf-9cc7-42c6-886c-0c2f21f0aaa0 ]] {\r\n",
       "}\r\n",
       "comp usage \"e\" as E8 << << (P,limegreen) part>> [[psysml:7ad65eee-258f-4156-b8ec-39b80665cdbc ]] {\r\n",
       "}\r\n",
       "comp usage \"f\" as E9 << << (P,limegreen) part>> [[psysml:20b1d46d-edcb-44c0-8591-3bffd604b97a ]] {\r\n",
       "}\r\n",
       "comp usage \"g\" as E10 << << (P,limegreen) part>> [[psysml:25d96323-353d-45e6-96c8-f6353f2a6c2d ]] {\r\n",
       "}\r\n",
       "comp def \"A\" as E11 << <<(D,brown) attribute def>> [[psysml:05fe5b10-94f9-4e9a-a85e-b113c36136a8 ]] {\r\n",
       "i: Integer\r\n",
       "x: A\r\n",
       "}\r\n",
       "}\r\n",
       "E5 - -:|> E2 [[psysml:b71e192f-5f45-432d-9454-4642818dbb88 ]] \r\n",
       "E6 - -:|> E2 [[psysml:173d30e4-d568-4354-a9e9-bb0668964c70 ]] \r\n",
       "@enduml\r\n",
       "\n",
       "PlantUML version 1.2020.13(Sat Jun 13 12:26:38 UTC 2020)\n",
       "(EPL source distribution)\n",
       "Java Runtime: OpenJDK Runtime Environment\n",
       "JVM: OpenJDK 64-Bit Server VM\n",
       "Default Encoding: UTF-8\n",
       "Language: en\n",
       "Country: null\n",
       "--></g></svg>"
      ]
     },
     "execution_count": 30,
     "metadata": {},
     "output_type": "execute_result"
    }
   ],
   "source": [
    "%viz --style=\"PLANTUML\" --view=\"Default\" \"MultiplicityTest\""
   ]
  },
  {
   "cell_type": "code",
   "execution_count": 31,
   "id": "c6265123",
   "metadata": {
    "execution": {
     "iopub.execute_input": "2021-09-27T07:19:19.000326Z",
     "iopub.status.busy": "2021-09-27T07:19:18.999924Z",
     "iopub.status.idle": "2021-09-27T07:19:19.048992Z",
     "shell.execute_reply": "2021-09-27T07:19:19.049305Z"
    }
   },
   "outputs": [
    {
     "data": {
      "image/svg+xml": [
       "<?xml version=\"1.0\" encoding=\"UTF-8\" standalone=\"no\"?><svg xmlns=\"http://www.w3.org/2000/svg\" xmlns:xlink=\"http://www.w3.org/1999/xlink\" contentScriptType=\"application/ecmascript\" contentStyleType=\"text/css\" height=\"241px\" preserveAspectRatio=\"none\" style=\"width:1045px;height:241px;\" version=\"1.1\" viewBox=\"0 0 1045 241\" width=\"1045px\" zoomAndPan=\"magnify\"><defs><filter height=\"300%\" id=\"f1f316n1vtfye2\" width=\"300%\" x=\"-1\" y=\"-1\"><feGaussianBlur result=\"blurOut\" stdDeviation=\"2.0\"/><feColorMatrix in=\"blurOut\" result=\"blurOut2\" type=\"matrix\" values=\"0 0 0 0 0 0 0 0 0 0 0 0 0 0 0 0 0 0 .4 0\"/><feOffset dx=\"4.0\" dy=\"4.0\" in=\"blurOut2\" result=\"blurOut3\"/><feBlend in=\"SourceGraphic\" in2=\"blurOut3\" mode=\"normal\"/></filter></defs><g><!--MD5=[fbc87193dbaf4d95561dea2c320d4a47]\n",
       "cluster E1--><a href=\"psysml:c0f24ad0-fe84-484c-92fb-1b0594d1e479\" target=\"_top\" title=\"psysml:c0f24ad0-fe84-484c-92fb-1b0594d1e479\" xlink:actuate=\"onRequest\" xlink:href=\"psysml:c0f24ad0-fe84-484c-92fb-1b0594d1e479\" xlink:show=\"new\" xlink:title=\"psysml:c0f24ad0-fe84-484c-92fb-1b0594d1e479\" xlink:type=\"simple\"><polygon fill=\"#FFFFFF\" filter=\"url(#f1f316n1vtfye2)\" points=\"16,6,123,6,130,28.2969,1023,28.2969,1023,229,16,229,16,6\" style=\"stroke: #000000; stroke-width: 1.5;\"/><line style=\"stroke: #000000; stroke-width: 1.5;\" x1=\"16\" x2=\"130\" y1=\"28.2969\" y2=\"28.2969\"/><text fill=\"#000000\" font-family=\"sans-serif\" font-size=\"14\" font-weight=\"bold\" lengthAdjust=\"spacingAndGlyphs\" textLength=\"101\" x=\"20\" y=\"20.9951\">MultiplicityTest</text></a><!--MD5=[b4997ac47864f28c2f74865a473b2911]\n",
       "class E2--><a href=\"psysml:987e5bc7-b02a-416d-86c6-8545bfa90ef5\" target=\"_top\" title=\"psysml:987e5bc7-b02a-416d-86c6-8545bfa90ef5\" xlink:actuate=\"onRequest\" xlink:href=\"psysml:987e5bc7-b02a-416d-86c6-8545bfa90ef5\" xlink:show=\"new\" xlink:title=\"psysml:987e5bc7-b02a-416d-86c6-8545bfa90ef5\" xlink:type=\"simple\"><rect fill=\"#FEFECE\" filter=\"url(#f1f316n1vtfye2)\" height=\"40\" id=\"E2\" style=\"stroke: #A80036; stroke-width: 1.5;\" width=\"40\" x=\"666\" y=\"173\"/><ellipse cx=\"681\" cy=\"189\" fill=\"#008000\" rx=\"11\" ry=\"11\" style=\"stroke: #A80036; stroke-width: 1.0;\"/><path d=\"M677.875,194 L677.875,183.4063 L681.1094,183.4063 Q683.0156,183.4063 683.9219,184.1563 Q684.8438,184.9063 684.8438,186.0781 Q684.8438,186.7656 684.4531,187.4219 Q684.0781,188.0781 683.3594,188.375 Q684.2188,188.75 684.7344,189.4375 Q685.25,190.125 685.25,190.9375 Q685.25,192.3125 684.2188,193.1563 Q683.2031,194 681.0938,194 L677.875,194 Z M679.7969,187.6406 L680.9531,187.6406 Q682.0781,187.6406 682.4844,187.2656 Q682.9063,186.875 682.9063,186.25 Q682.9063,185.6719 682.4844,185.3125 Q682.0625,184.9531 681.125,184.9531 L679.7969,184.9531 L679.7969,187.6406 Z M679.7969,192.4219 L681.2969,192.4219 Q682.2031,192.4219 682.7344,192.0313 Q683.2656,191.6406 683.2656,190.8906 Q683.2656,190.125 682.7656,189.6563 Q682.2656,189.1719 681,189.1719 L679.7969,189.1719 L679.7969,192.4219 Z \"/><text fill=\"#000000\" font-family=\"sans-serif\" font-size=\"12\" lengthAdjust=\"spacingAndGlyphs\" textLength=\"8\" x=\"695\" y=\"193.1543\">P</text><line style=\"stroke: #A80036; stroke-width: 1.5;\" x1=\"667\" x2=\"705\" y1=\"205\" y2=\"205\"/></a><!--MD5=[09b614a08d8cba4a07c9adeb5e0fee81]\n",
       "class E3--><a href=\"psysml:7c23d281-2047-4d33-b5ff-31ab75cdc741\" target=\"_top\" title=\"psysml:7c23d281-2047-4d33-b5ff-31ab75cdc741\" xlink:actuate=\"onRequest\" xlink:href=\"psysml:7c23d281-2047-4d33-b5ff-31ab75cdc741\" xlink:show=\"new\" xlink:title=\"psysml:7c23d281-2047-4d33-b5ff-31ab75cdc741\" xlink:type=\"simple\"><rect fill=\"#FEFECE\" filter=\"url(#f1f316n1vtfye2)\" height=\"45.9375\" id=\"E3\" rx=\"10\" ry=\"10\" style=\"stroke: #A80036; stroke-width: 1.5;\" width=\"97\" x=\"910.5\" y=\"54\"/><ellipse cx=\"925.5\" cy=\"72.9688\" fill=\"#FFA500\" rx=\"11\" ry=\"11\" style=\"stroke: #A80036; stroke-width: 1.0;\"/><path d=\"M925.25,78.4375 Q923.5,78.4375 922.5469,77.4063 Q921.6094,76.3594 921.6094,74.5156 L921.6094,67.625 L923.6719,67.625 L923.6719,67.7813 Q923.5781,67.875 923.5469,68.0156 Q923.5313,68.1406 923.5313,68.4063 L923.5313,74.5313 Q923.5313,75.625 923.9063,76.25 Q924.2813,76.875 925.2656,76.875 Q926.25,76.875 926.6406,76.25 Q927.0313,75.625 927.0313,74.4844 L927.0313,67.625 L928.9063,67.625 L928.9063,74.4688 Q928.9063,76.5 927.875,77.4688 Q926.8594,78.4375 925.25,78.4375 Z \"/><text fill=\"#000000\" font-family=\"sans-serif\" font-size=\"12\" font-style=\"italic\" lengthAdjust=\"spacingAndGlyphs\" textLength=\"69\" x=\"937.5\" y=\"70.1387\">«attribute»</text><text fill=\"#000000\" font-family=\"sans-serif\" font-size=\"12\" lengthAdjust=\"spacingAndGlyphs\" textLength=\"61\" x=\"941.5\" y=\"84.1074\">n: Integer</text><line style=\"stroke: #A80036; stroke-width: 1.5;\" x1=\"911.5\" x2=\"1006.5\" y1=\"91.9375\" y2=\"91.9375\"/></a><!--MD5=[ebbe1d658d1005bcc118a6aa81145e00]\n",
       "class E4--><a href=\"psysml:dbbeb80c-41d4-4e5a-ae6b-125fea141b81\" target=\"_top\" title=\"psysml:dbbeb80c-41d4-4e5a-ae6b-125fea141b81\" xlink:actuate=\"onRequest\" xlink:href=\"psysml:dbbeb80c-41d4-4e5a-ae6b-125fea141b81\" xlink:show=\"new\" xlink:title=\"psysml:dbbeb80c-41d4-4e5a-ae6b-125fea141b81\" xlink:type=\"simple\"><rect fill=\"#FEFECE\" filter=\"url(#f1f316n1vtfye2)\" height=\"45.9375\" id=\"E4\" rx=\"10\" ry=\"10\" style=\"stroke: #A80036; stroke-width: 1.5;\" width=\"68\" x=\"807\" y=\"54\"/><ellipse cx=\"822\" cy=\"72.9688\" fill=\"#32CD32\" rx=\"11\" ry=\"11\" style=\"stroke: #A80036; stroke-width: 1.0;\"/><path d=\"M818.8125,77.9688 L818.8125,67.375 L822.4219,67.375 Q823.6406,67.375 824.4375,67.8125 Q825.2344,68.2344 825.6094,68.9375 Q826,69.6406 826,70.4844 Q826,71.3281 825.625,72.0156 Q825.2656,72.7031 824.4688,73.125 Q823.6875,73.5313 822.5,73.5313 L820.7656,73.5313 L820.7656,77.9688 L818.8125,77.9688 Z M820.7656,71.9375 L822.375,71.9375 Q823.1875,71.9375 823.6094,71.5313 Q824.0313,71.125 824.0313,70.4844 Q824.0313,69.8594 823.6094,69.4531 Q823.1875,69.0469 822.3906,69.0469 L820.7656,69.0469 L820.7656,71.9375 Z \"/><text fill=\"#000000\" font-family=\"sans-serif\" font-size=\"12\" font-style=\"italic\" lengthAdjust=\"spacingAndGlyphs\" textLength=\"40\" x=\"834\" y=\"70.1387\">«part»</text><text fill=\"#000000\" font-family=\"sans-serif\" font-size=\"12\" lengthAdjust=\"spacingAndGlyphs\" textLength=\"8\" x=\"850\" y=\"84.1074\">a</text><line style=\"stroke: #A80036; stroke-width: 1.5;\" x1=\"808\" x2=\"874\" y1=\"91.9375\" y2=\"91.9375\"/></a><!--MD5=[270fce915f116d4de14055a7c1d9a0f3]\n",
       "class E5--><a href=\"psysml:1044b725-5886-488e-a280-d65b06b2678d\" target=\"_top\" title=\"psysml:1044b725-5886-488e-a280-d65b06b2678d\" xlink:actuate=\"onRequest\" xlink:href=\"psysml:1044b725-5886-488e-a280-d65b06b2678d\" xlink:show=\"new\" xlink:title=\"psysml:1044b725-5886-488e-a280-d65b06b2678d\" xlink:type=\"simple\"><rect fill=\"#FEFECE\" filter=\"url(#f1f316n1vtfye2)\" height=\"45.9375\" id=\"E5\" rx=\"10\" ry=\"10\" style=\"stroke: #A80036; stroke-width: 1.5;\" width=\"68\" x=\"704\" y=\"54\"/><ellipse cx=\"719\" cy=\"72.9688\" fill=\"#32CD32\" rx=\"11\" ry=\"11\" style=\"stroke: #A80036; stroke-width: 1.0;\"/><path d=\"M715.8125,77.9688 L715.8125,67.375 L719.4219,67.375 Q720.6406,67.375 721.4375,67.8125 Q722.2344,68.2344 722.6094,68.9375 Q723,69.6406 723,70.4844 Q723,71.3281 722.625,72.0156 Q722.2656,72.7031 721.4688,73.125 Q720.6875,73.5313 719.5,73.5313 L717.7656,73.5313 L717.7656,77.9688 L715.8125,77.9688 Z M717.7656,71.9375 L719.375,71.9375 Q720.1875,71.9375 720.6094,71.5313 Q721.0313,71.125 721.0313,70.4844 Q721.0313,69.8594 720.6094,69.4531 Q720.1875,69.0469 719.3906,69.0469 L717.7656,69.0469 L717.7656,71.9375 Z \"/><text fill=\"#000000\" font-family=\"sans-serif\" font-size=\"12\" font-style=\"italic\" lengthAdjust=\"spacingAndGlyphs\" textLength=\"40\" x=\"731\" y=\"70.1387\">«part»</text><text fill=\"#000000\" font-family=\"sans-serif\" font-size=\"12\" lengthAdjust=\"spacingAndGlyphs\" textLength=\"24\" x=\"739\" y=\"84.1074\">b: P</text><line style=\"stroke: #A80036; stroke-width: 1.5;\" x1=\"705\" x2=\"771\" y1=\"91.9375\" y2=\"91.9375\"/></a><!--MD5=[60a26617385b1d2d0262a64233df1f8d]\n",
       "class E6--><a href=\"psysml:7163cac6-f89e-4c84-b72c-82ccdb232dd2\" target=\"_top\" title=\"psysml:7163cac6-f89e-4c84-b72c-82ccdb232dd2\" xlink:actuate=\"onRequest\" xlink:href=\"psysml:7163cac6-f89e-4c84-b72c-82ccdb232dd2\" xlink:show=\"new\" xlink:title=\"psysml:7163cac6-f89e-4c84-b72c-82ccdb232dd2\" xlink:type=\"simple\"><rect fill=\"#FEFECE\" filter=\"url(#f1f316n1vtfye2)\" height=\"45.9375\" id=\"E6\" rx=\"10\" ry=\"10\" style=\"stroke: #A80036; stroke-width: 1.5;\" width=\"68\" x=\"601\" y=\"54\"/><ellipse cx=\"616\" cy=\"72.9688\" fill=\"#32CD32\" rx=\"11\" ry=\"11\" style=\"stroke: #A80036; stroke-width: 1.0;\"/><path d=\"M612.8125,77.9688 L612.8125,67.375 L616.4219,67.375 Q617.6406,67.375 618.4375,67.8125 Q619.2344,68.2344 619.6094,68.9375 Q620,69.6406 620,70.4844 Q620,71.3281 619.625,72.0156 Q619.2656,72.7031 618.4688,73.125 Q617.6875,73.5313 616.5,73.5313 L614.7656,73.5313 L614.7656,77.9688 L612.8125,77.9688 Z M614.7656,71.9375 L616.375,71.9375 Q617.1875,71.9375 617.6094,71.5313 Q618.0313,71.125 618.0313,70.4844 Q618.0313,69.8594 617.6094,69.4531 Q617.1875,69.0469 616.3906,69.0469 L614.7656,69.0469 L614.7656,71.9375 Z \"/><text fill=\"#000000\" font-family=\"sans-serif\" font-size=\"12\" font-style=\"italic\" lengthAdjust=\"spacingAndGlyphs\" textLength=\"40\" x=\"628\" y=\"70.1387\">«part»</text><text fill=\"#000000\" font-family=\"sans-serif\" font-size=\"12\" lengthAdjust=\"spacingAndGlyphs\" textLength=\"23\" x=\"636.5\" y=\"84.1074\">c: P</text><line style=\"stroke: #A80036; stroke-width: 1.5;\" x1=\"602\" x2=\"668\" y1=\"91.9375\" y2=\"91.9375\"/></a><!--MD5=[2156ba9850f5573cc1fc38a6a4b2f02b]\n",
       "class E7--><a href=\"psysml:79f72fcf-9cc7-42c6-886c-0c2f21f0aaa0\" target=\"_top\" title=\"psysml:79f72fcf-9cc7-42c6-886c-0c2f21f0aaa0\" xlink:actuate=\"onRequest\" xlink:href=\"psysml:79f72fcf-9cc7-42c6-886c-0c2f21f0aaa0\" xlink:show=\"new\" xlink:title=\"psysml:79f72fcf-9cc7-42c6-886c-0c2f21f0aaa0\" xlink:type=\"simple\"><rect fill=\"#FEFECE\" filter=\"url(#f1f316n1vtfye2)\" height=\"45.9375\" id=\"E7\" rx=\"10\" ry=\"10\" style=\"stroke: #A80036; stroke-width: 1.5;\" width=\"68\" x=\"498\" y=\"54\"/><ellipse cx=\"513\" cy=\"72.9688\" fill=\"#32CD32\" rx=\"11\" ry=\"11\" style=\"stroke: #A80036; stroke-width: 1.0;\"/><path d=\"M509.8125,77.9688 L509.8125,67.375 L513.4219,67.375 Q514.6406,67.375 515.4375,67.8125 Q516.2344,68.2344 516.6094,68.9375 Q517,69.6406 517,70.4844 Q517,71.3281 516.625,72.0156 Q516.2656,72.7031 515.4688,73.125 Q514.6875,73.5313 513.5,73.5313 L511.7656,73.5313 L511.7656,77.9688 L509.8125,77.9688 Z M511.7656,71.9375 L513.375,71.9375 Q514.1875,71.9375 514.6094,71.5313 Q515.0313,71.125 515.0313,70.4844 Q515.0313,69.8594 514.6094,69.4531 Q514.1875,69.0469 513.3906,69.0469 L511.7656,69.0469 L511.7656,71.9375 Z \"/><text fill=\"#000000\" font-family=\"sans-serif\" font-size=\"12\" font-style=\"italic\" lengthAdjust=\"spacingAndGlyphs\" textLength=\"40\" x=\"525\" y=\"70.1387\">«part»</text><text fill=\"#000000\" font-family=\"sans-serif\" font-size=\"12\" lengthAdjust=\"spacingAndGlyphs\" textLength=\"8\" x=\"541\" y=\"84.1074\">d</text><line style=\"stroke: #A80036; stroke-width: 1.5;\" x1=\"499\" x2=\"565\" y1=\"91.9375\" y2=\"91.9375\"/></a><!--MD5=[b9389687b975829384b498ac4b7476b2]\n",
       "class E8--><a href=\"psysml:7ad65eee-258f-4156-b8ec-39b80665cdbc\" target=\"_top\" title=\"psysml:7ad65eee-258f-4156-b8ec-39b80665cdbc\" xlink:actuate=\"onRequest\" xlink:href=\"psysml:7ad65eee-258f-4156-b8ec-39b80665cdbc\" xlink:show=\"new\" xlink:title=\"psysml:7ad65eee-258f-4156-b8ec-39b80665cdbc\" xlink:type=\"simple\"><rect fill=\"#FEFECE\" filter=\"url(#f1f316n1vtfye2)\" height=\"45.9375\" id=\"E8\" rx=\"10\" ry=\"10\" style=\"stroke: #A80036; stroke-width: 1.5;\" width=\"68\" x=\"395\" y=\"54\"/><ellipse cx=\"410\" cy=\"72.9688\" fill=\"#32CD32\" rx=\"11\" ry=\"11\" style=\"stroke: #A80036; stroke-width: 1.0;\"/><path d=\"M406.8125,77.9688 L406.8125,67.375 L410.4219,67.375 Q411.6406,67.375 412.4375,67.8125 Q413.2344,68.2344 413.6094,68.9375 Q414,69.6406 414,70.4844 Q414,71.3281 413.625,72.0156 Q413.2656,72.7031 412.4688,73.125 Q411.6875,73.5313 410.5,73.5313 L408.7656,73.5313 L408.7656,77.9688 L406.8125,77.9688 Z M408.7656,71.9375 L410.375,71.9375 Q411.1875,71.9375 411.6094,71.5313 Q412.0313,71.125 412.0313,70.4844 Q412.0313,69.8594 411.6094,69.4531 Q411.1875,69.0469 410.3906,69.0469 L408.7656,69.0469 L408.7656,71.9375 Z \"/><text fill=\"#000000\" font-family=\"sans-serif\" font-size=\"12\" font-style=\"italic\" lengthAdjust=\"spacingAndGlyphs\" textLength=\"40\" x=\"422\" y=\"70.1387\">«part»</text><text fill=\"#000000\" font-family=\"sans-serif\" font-size=\"12\" lengthAdjust=\"spacingAndGlyphs\" textLength=\"8\" x=\"438\" y=\"84.1074\">e</text><line style=\"stroke: #A80036; stroke-width: 1.5;\" x1=\"396\" x2=\"462\" y1=\"91.9375\" y2=\"91.9375\"/></a><!--MD5=[fd4143e9d270a159db93a4ea2a975926]\n",
       "class E9--><a href=\"psysml:20b1d46d-edcb-44c0-8591-3bffd604b97a\" target=\"_top\" title=\"psysml:20b1d46d-edcb-44c0-8591-3bffd604b97a\" xlink:actuate=\"onRequest\" xlink:href=\"psysml:20b1d46d-edcb-44c0-8591-3bffd604b97a\" xlink:show=\"new\" xlink:title=\"psysml:20b1d46d-edcb-44c0-8591-3bffd604b97a\" xlink:type=\"simple\"><rect fill=\"#FEFECE\" filter=\"url(#f1f316n1vtfye2)\" height=\"45.9375\" id=\"E9\" rx=\"10\" ry=\"10\" style=\"stroke: #A80036; stroke-width: 1.5;\" width=\"68\" x=\"292\" y=\"54\"/><ellipse cx=\"307\" cy=\"72.9688\" fill=\"#32CD32\" rx=\"11\" ry=\"11\" style=\"stroke: #A80036; stroke-width: 1.0;\"/><path d=\"M303.8125,77.9688 L303.8125,67.375 L307.4219,67.375 Q308.6406,67.375 309.4375,67.8125 Q310.2344,68.2344 310.6094,68.9375 Q311,69.6406 311,70.4844 Q311,71.3281 310.625,72.0156 Q310.2656,72.7031 309.4688,73.125 Q308.6875,73.5313 307.5,73.5313 L305.7656,73.5313 L305.7656,77.9688 L303.8125,77.9688 Z M305.7656,71.9375 L307.375,71.9375 Q308.1875,71.9375 308.6094,71.5313 Q309.0313,71.125 309.0313,70.4844 Q309.0313,69.8594 308.6094,69.4531 Q308.1875,69.0469 307.3906,69.0469 L305.7656,69.0469 L305.7656,71.9375 Z \"/><text fill=\"#000000\" font-family=\"sans-serif\" font-size=\"12\" font-style=\"italic\" lengthAdjust=\"spacingAndGlyphs\" textLength=\"40\" x=\"319\" y=\"70.1387\">«part»</text><text fill=\"#000000\" font-family=\"sans-serif\" font-size=\"12\" lengthAdjust=\"spacingAndGlyphs\" textLength=\"4\" x=\"337\" y=\"84.1074\">f</text><line style=\"stroke: #A80036; stroke-width: 1.5;\" x1=\"293\" x2=\"359\" y1=\"91.9375\" y2=\"91.9375\"/></a><!--MD5=[96f4274e9e20536e775497830990834d]\n",
       "class E10--><a href=\"psysml:25d96323-353d-45e6-96c8-f6353f2a6c2d\" target=\"_top\" title=\"psysml:25d96323-353d-45e6-96c8-f6353f2a6c2d\" xlink:actuate=\"onRequest\" xlink:href=\"psysml:25d96323-353d-45e6-96c8-f6353f2a6c2d\" xlink:show=\"new\" xlink:title=\"psysml:25d96323-353d-45e6-96c8-f6353f2a6c2d\" xlink:type=\"simple\"><rect fill=\"#FEFECE\" filter=\"url(#f1f316n1vtfye2)\" height=\"45.9375\" id=\"E10\" rx=\"10\" ry=\"10\" style=\"stroke: #A80036; stroke-width: 1.5;\" width=\"68\" x=\"189\" y=\"54\"/><ellipse cx=\"204\" cy=\"72.9688\" fill=\"#32CD32\" rx=\"11\" ry=\"11\" style=\"stroke: #A80036; stroke-width: 1.0;\"/><path d=\"M200.8125,77.9688 L200.8125,67.375 L204.4219,67.375 Q205.6406,67.375 206.4375,67.8125 Q207.2344,68.2344 207.6094,68.9375 Q208,69.6406 208,70.4844 Q208,71.3281 207.625,72.0156 Q207.2656,72.7031 206.4688,73.125 Q205.6875,73.5313 204.5,73.5313 L202.7656,73.5313 L202.7656,77.9688 L200.8125,77.9688 Z M202.7656,71.9375 L204.375,71.9375 Q205.1875,71.9375 205.6094,71.5313 Q206.0313,71.125 206.0313,70.4844 Q206.0313,69.8594 205.6094,69.4531 Q205.1875,69.0469 204.3906,69.0469 L202.7656,69.0469 L202.7656,71.9375 Z \"/><text fill=\"#000000\" font-family=\"sans-serif\" font-size=\"12\" font-style=\"italic\" lengthAdjust=\"spacingAndGlyphs\" textLength=\"40\" x=\"216\" y=\"70.1387\">«part»</text><text fill=\"#000000\" font-family=\"sans-serif\" font-size=\"12\" lengthAdjust=\"spacingAndGlyphs\" textLength=\"8\" x=\"232\" y=\"84.1074\">g</text><line style=\"stroke: #A80036; stroke-width: 1.5;\" x1=\"190\" x2=\"256\" y1=\"91.9375\" y2=\"91.9375\"/></a><!--MD5=[1dd1bfd58a279cf63c5f349dbc8fc6a1]\n",
       "class E11--><a href=\"psysml:05fe5b10-94f9-4e9a-a85e-b113c36136a8\" target=\"_top\" title=\"psysml:05fe5b10-94f9-4e9a-a85e-b113c36136a8\" xlink:actuate=\"onRequest\" xlink:href=\"psysml:05fe5b10-94f9-4e9a-a85e-b113c36136a8\" xlink:show=\"new\" xlink:title=\"psysml:05fe5b10-94f9-4e9a-a85e-b113c36136a8\" xlink:type=\"simple\"><rect fill=\"#FEFECE\" filter=\"url(#f1f316n1vtfye2)\" height=\"71.5469\" id=\"E11\" style=\"stroke: #A80036; stroke-width: 1.5;\" width=\"121\" x=\"32.5\" y=\"41\"/><ellipse cx=\"47.5\" cy=\"59.9688\" fill=\"#A52A2A\" rx=\"11\" ry=\"11\" style=\"stroke: #A80036; stroke-width: 1.0;\"/><path d=\"M44.7188,64.9688 L44.7188,54.375 L47.4531,54.375 Q48.8438,54.375 49.6094,54.7656 Q50.3906,55.1406 50.9219,55.8438 Q51.4531,56.5469 51.75,57.5469 Q52.0469,58.5313 52.0469,59.75 Q52,61.3438 51.5,62.5313 Q51.0156,63.7031 49.9688,64.3438 Q48.9375,64.9688 47.25,64.9688 L44.7188,64.9688 Z M46.5781,63.4688 L47.2031,63.4688 Q48.2813,63.4688 48.9375,63.0156 Q49.5938,62.5625 49.875,61.7344 Q50.1719,60.8906 50.1563,59.7656 Q50.1563,58.5938 49.9063,57.7344 Q49.6563,56.8594 49.0469,56.3906 Q48.4375,55.9063 47.3906,55.9063 L46.5781,55.9063 L46.5781,63.4688 Z \"/><text fill=\"#000000\" font-family=\"sans-serif\" font-size=\"12\" font-style=\"italic\" lengthAdjust=\"spacingAndGlyphs\" textLength=\"93\" x=\"59.5\" y=\"57.1387\">«attribute def»</text><text fill=\"#000000\" font-family=\"sans-serif\" font-size=\"12\" lengthAdjust=\"spacingAndGlyphs\" textLength=\"8\" x=\"102\" y=\"71.1074\">A</text><line style=\"stroke: #A80036; stroke-width: 1.5;\" x1=\"33.5\" x2=\"152.5\" y1=\"78.9375\" y2=\"78.9375\"/><text fill=\"#000000\" font-family=\"sans-serif\" font-size=\"11\" lengthAdjust=\"spacingAndGlyphs\" textLength=\"51\" x=\"38.5\" y=\"93.1479\">i: Integer</text><text fill=\"#000000\" font-family=\"sans-serif\" font-size=\"11\" lengthAdjust=\"spacingAndGlyphs\" textLength=\"21\" x=\"38.5\" y=\"105.9526\">x: A</text></a><!--MD5=[15ebcb19ae302d9b601edb458606d402]\n",
       "link E5 to E2--><a href=\"psysml:b71e192f-5f45-432d-9454-4642818dbb88\" target=\"_top\" title=\"psysml:b71e192f-5f45-432d-9454-4642818dbb88\" xlink:actuate=\"onRequest\" xlink:href=\"psysml:b71e192f-5f45-432d-9454-4642818dbb88\" xlink:show=\"new\" xlink:title=\"psysml:b71e192f-5f45-432d-9454-4642818dbb88\" xlink:type=\"simple\"><path d=\"M727.85,100.25 C720.81,115.68 711.27,136.61 703.07,154.58 \" fill=\"none\" id=\"E5-&gt;E2\" style=\"stroke: #A80036; stroke-width: 1.0;\"/><polygon fill=\"#FFFFFF\" points=\"694.74,172.84,696.2548,152.6483,708.9927,158.4573,694.74,172.84\" style=\"stroke: #A80036; stroke-width: 1.0;\"/><ellipse cx=\"700.4396\" cy=\"148.292\" fill=\"#A80036\" rx=\"2\" ry=\"2\" style=\"stroke: #A80036; stroke-width: 1.0;\"/><ellipse cx=\"709.5381\" cy=\"152.4413\" fill=\"#A80036\" rx=\"2\" ry=\"2\" style=\"stroke: #A80036; stroke-width: 1.0;\"/></a><!--MD5=[2351f337d6de0f557b50152ba70847b5]\n",
       "link E6 to E2--><a href=\"psysml:173d30e4-d568-4354-a9e9-bb0668964c70\" target=\"_top\" title=\"psysml:173d30e4-d568-4354-a9e9-bb0668964c70\" xlink:actuate=\"onRequest\" xlink:href=\"psysml:173d30e4-d568-4354-a9e9-bb0668964c70\" xlink:show=\"new\" xlink:title=\"psysml:173d30e4-d568-4354-a9e9-bb0668964c70\" xlink:type=\"simple\"><path d=\"M644.95,100.25 C651.86,115.68 661.22,136.61 669.26,154.58 \" fill=\"none\" id=\"E6-&gt;E2\" style=\"stroke: #A80036; stroke-width: 1.0;\"/><polygon fill=\"#FFFFFF\" points=\"677.43,172.84,663.2788,158.3574,676.0573,152.6381,677.43,172.84\" style=\"stroke: #A80036; stroke-width: 1.0;\"/><ellipse cx=\"662.7757\" cy=\"152.3377\" fill=\"#A80036\" rx=\"2\" ry=\"2\" style=\"stroke: #A80036; stroke-width: 1.0;\"/><ellipse cx=\"671.9032\" cy=\"148.2525\" fill=\"#A80036\" rx=\"2\" ry=\"2\" style=\"stroke: #A80036; stroke-width: 1.0;\"/></a><!--MD5=[38901ff608268a8526ca0d983ff29efb]\n",
       "@startuml\r\n",
       " \r\n",
       "package \"MultiplicityTest\" as E1  [[psysml:c0f24ad0-fe84-484c-92fb-1b0594d1e479 ]]  {\r\n",
       "comp def \"P\" as E2 << << (B,green) >> [[psysml:987e5bc7-b02a-416d-86c6-8545bfa90ef5 ]] {\r\n",
       "}\r\n",
       "comp usage \"n: Integer\" as E3 << <<(U,orange) attribute>> [[psysml:7c23d281-2047-4d33-b5ff-31ab75cdc741 ]] {\r\n",
       "}\r\n",
       "comp usage \"a\" as E4 << << (P,limegreen) part>> [[psysml:dbbeb80c-41d4-4e5a-ae6b-125fea141b81 ]] {\r\n",
       "}\r\n",
       "comp usage \"b: P\" as E5 << << (P,limegreen) part>> [[psysml:1044b725-5886-488e-a280-d65b06b2678d ]] {\r\n",
       "}\r\n",
       "comp usage \"c: P\" as E6 << << (P,limegreen) part>> [[psysml:7163cac6-f89e-4c84-b72c-82ccdb232dd2 ]] {\r\n",
       "}\r\n",
       "comp usage \"d\" as E7 << << (P,limegreen) part>> [[psysml:79f72fcf-9cc7-42c6-886c-0c2f21f0aaa0 ]] {\r\n",
       "}\r\n",
       "comp usage \"e\" as E8 << << (P,limegreen) part>> [[psysml:7ad65eee-258f-4156-b8ec-39b80665cdbc ]] {\r\n",
       "}\r\n",
       "comp usage \"f\" as E9 << << (P,limegreen) part>> [[psysml:20b1d46d-edcb-44c0-8591-3bffd604b97a ]] {\r\n",
       "}\r\n",
       "comp usage \"g\" as E10 << << (P,limegreen) part>> [[psysml:25d96323-353d-45e6-96c8-f6353f2a6c2d ]] {\r\n",
       "}\r\n",
       "comp def \"A\" as E11 << <<(D,brown) attribute def>> [[psysml:05fe5b10-94f9-4e9a-a85e-b113c36136a8 ]] {\r\n",
       "i: Integer\r\n",
       "x: A\r\n",
       "}\r\n",
       "}\r\n",
       "E5 - -:|> E2 [[psysml:b71e192f-5f45-432d-9454-4642818dbb88 ]] \r\n",
       "E6 - -:|> E2 [[psysml:173d30e4-d568-4354-a9e9-bb0668964c70 ]] \r\n",
       "@enduml\r\n",
       "\n",
       "PlantUML version 1.2020.13(Sat Jun 13 12:26:38 UTC 2020)\n",
       "(EPL source distribution)\n",
       "Java Runtime: OpenJDK Runtime Environment\n",
       "JVM: OpenJDK 64-Bit Server VM\n",
       "Default Encoding: UTF-8\n",
       "Language: en\n",
       "Country: null\n",
       "--></g></svg>"
      ]
     },
     "execution_count": 31,
     "metadata": {},
     "output_type": "execute_result"
    }
   ],
   "source": [
    "%viz --style=\"PLANTUML\" --view=\"Tree\" \"MultiplicityTest\""
   ]
  },
  {
   "cell_type": "code",
   "execution_count": 32,
   "id": "6f2782ca",
   "metadata": {
    "execution": {
     "iopub.execute_input": "2021-09-27T07:19:19.099245Z",
     "iopub.status.busy": "2021-09-27T07:19:19.098845Z",
     "iopub.status.idle": "2021-09-27T07:19:19.188659Z",
     "shell.execute_reply": "2021-09-27T07:19:19.187556Z"
    }
   },
   "outputs": [
    {
     "data": {
      "image/svg+xml": [
       "<?xml version=\"1.0\" encoding=\"UTF-8\" standalone=\"no\"?><svg xmlns=\"http://www.w3.org/2000/svg\" xmlns:xlink=\"http://www.w3.org/1999/xlink\" contentScriptType=\"application/ecmascript\" contentStyleType=\"text/css\" height=\"300px\" preserveAspectRatio=\"none\" style=\"width:603px;height:300px;background:#000000;\" version=\"1.1\" viewBox=\"0 0 603 300\" width=\"603px\" zoomAndPan=\"magnify\"><defs/><g><rect fill=\"#232500\" height=\"1\" style=\"stroke: #232500; stroke-width: 1.0;\" width=\"1\" x=\"0\" y=\"0\"/><rect fill=\"#FFFFFF\" height=\"202.8012\" style=\"stroke: #FFFFFF; stroke-width: 1.0;\" width=\"602\" x=\"0\" y=\"0\"/><text fill=\"#000000\" font-family=\"sans-serif\" font-size=\"12\" font-weight=\"bold\" lengthAdjust=\"spacingAndGlyphs\" textLength=\"139\" x=\"5\" y=\"16.1387\">Welcome to PlantUML!</text><text fill=\"#000000\" font-family=\"sans-serif\" font-size=\"12\" lengthAdjust=\"spacingAndGlyphs\" textLength=\"0\" x=\"9\" y=\"30.1074\"/><text fill=\"#000000\" font-family=\"sans-serif\" font-size=\"12\" lengthAdjust=\"spacingAndGlyphs\" textLength=\"293\" x=\"5\" y=\"44.0762\">If you use this software, you accept its license.</text><text fill=\"#000000\" font-family=\"sans-serif\" font-size=\"12\" lengthAdjust=\"spacingAndGlyphs\" textLength=\"107\" x=\"5\" y=\"58.0449\">(details by typing</text><text fill=\"#000000\" font-family=\"monospace\" font-size=\"12\" lengthAdjust=\"spacingAndGlyphs\" textLength=\"42\" x=\"116\" y=\"58.595\">license</text><text fill=\"#000000\" font-family=\"sans-serif\" font-size=\"12\" lengthAdjust=\"spacingAndGlyphs\" textLength=\"56\" x=\"162\" y=\"58.0449\">keyword)</text><text fill=\"#000000\" font-family=\"sans-serif\" font-size=\"12\" lengthAdjust=\"spacingAndGlyphs\" textLength=\"0\" x=\"9\" y=\"72.0137\"/><text fill=\"#000000\" font-family=\"sans-serif\" font-size=\"12\" lengthAdjust=\"spacingAndGlyphs\" textLength=\"283\" x=\"5\" y=\"85.9824\">You can start with a simple UML Diagram like:</text><text fill=\"#000000\" font-family=\"sans-serif\" font-size=\"12\" lengthAdjust=\"spacingAndGlyphs\" textLength=\"0\" x=\"9\" y=\"99.9512\"/><text fill=\"#000000\" font-family=\"monospace\" font-size=\"12\" lengthAdjust=\"spacingAndGlyphs\" textLength=\"102\" x=\"5\" y=\"113.0893\">Bob-&gt;Alice: Hello</text><text fill=\"#000000\" font-family=\"sans-serif\" font-size=\"12\" lengthAdjust=\"spacingAndGlyphs\" textLength=\"0\" x=\"9\" y=\"126.508\"/><text fill=\"#000000\" font-family=\"sans-serif\" font-size=\"12\" lengthAdjust=\"spacingAndGlyphs\" textLength=\"14\" x=\"5\" y=\"140.4768\">Or</text><text fill=\"#000000\" font-family=\"sans-serif\" font-size=\"12\" lengthAdjust=\"spacingAndGlyphs\" textLength=\"0\" x=\"9\" y=\"154.4455\"/><text fill=\"#000000\" font-family=\"monospace\" font-size=\"12\" lengthAdjust=\"spacingAndGlyphs\" textLength=\"78\" x=\"5\" y=\"167.5837\">class Example</text><text fill=\"#000000\" font-family=\"sans-serif\" font-size=\"12\" lengthAdjust=\"spacingAndGlyphs\" textLength=\"0\" x=\"9\" y=\"181.0023\"/><text fill=\"#000000\" font-family=\"sans-serif\" font-size=\"12\" lengthAdjust=\"spacingAndGlyphs\" textLength=\"349\" x=\"5\" y=\"194.9711\">You will find more information about PlantUML syntax on</text><text fill=\"#000000\" font-family=\"sans-serif\" font-size=\"12\" lengthAdjust=\"spacingAndGlyphs\" text-decoration=\"underline\" textLength=\"129\" x=\"358\" y=\"194.9711\">https://plantuml.com</text><image height=\"71\" width=\"80\" x=\"516\" xlink:href=\"data:image/png;base64,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\" y=\"6\"/><rect fill=\"#000000\" height=\"96.4844\" style=\"stroke: #000000; stroke-width: 1.0;\" width=\"602\" x=\"0\" y=\"202.8012\"/><rect fill=\"#33FF02\" height=\"21.2969\" style=\"stroke: #33FF02; stroke-width: 1.0;\" width=\"145\" x=\"5\" y=\"207.8012\"/><text fill=\"#000000\" font-family=\"sans-serif\" font-size=\"14\" font-weight=\"bold\" lengthAdjust=\"spacingAndGlyphs\" textLength=\"143\" x=\"6\" y=\"222.8012\">[From string (line 2) ]</text><text fill=\"#33FF02\" font-family=\"sans-serif\" font-size=\"14\" font-weight=\"bold\" lengthAdjust=\"spacingAndGlyphs\" textLength=\"0\" x=\"9\" y=\"243.0981\"/><text fill=\"#33FF02\" font-family=\"sans-serif\" font-size=\"14\" font-weight=\"bold\" lengthAdjust=\"spacingAndGlyphs\" textLength=\"70\" x=\"5\" y=\"259.3949\">@startuml</text><text fill=\"#33FF02\" font-family=\"sans-serif\" font-size=\"14\" font-weight=\"bold\" lengthAdjust=\"spacingAndGlyphs\" textLength=\"0\" x=\"9\" y=\"275.6918\"/><text fill=\"#FF0000\" font-family=\"sans-serif\" font-size=\"14\" font-weight=\"bold\" lengthAdjust=\"spacingAndGlyphs\" textLength=\"124\" x=\"9\" y=\"291.9887\">Empty description</text><!--MD5=[f59edd8218d337f74d0c332fc6737304]\n",
       "@startuml\r\n",
       " \r\n",
       "@enduml\r\n",
       "\n",
       "PlantUML version 1.2020.13(Sat Jun 13 12:26:38 UTC 2020)\n",
       "(EPL source distribution)\n",
       "Java Runtime: OpenJDK Runtime Environment\n",
       "JVM: OpenJDK 64-Bit Server VM\n",
       "Default Encoding: UTF-8\n",
       "Language: en\n",
       "Country: null\n",
       "--></g></svg>"
      ]
     },
     "execution_count": 32,
     "metadata": {},
     "output_type": "execute_result"
    }
   ],
   "source": [
    "%viz --style=\"PLANTUML\" --view=\"State\" \"MultiplicityTest\""
   ]
  },
  {
   "cell_type": "code",
   "execution_count": 33,
   "id": "681605c4",
   "metadata": {
    "execution": {
     "iopub.execute_input": "2021-09-27T07:19:19.238319Z",
     "iopub.status.busy": "2021-09-27T07:19:19.237921Z",
     "iopub.status.idle": "2021-09-27T07:19:19.258150Z",
     "shell.execute_reply": "2021-09-27T07:19:19.256928Z"
    }
   },
   "outputs": [
    {
     "data": {
      "image/svg+xml": [
       "<?xml version=\"1.0\" encoding=\"UTF-8\" standalone=\"no\"?><svg xmlns=\"http://www.w3.org/2000/svg\" xmlns:xlink=\"http://www.w3.org/1999/xlink\" contentScriptType=\"application/ecmascript\" contentStyleType=\"text/css\" height=\"115px\" preserveAspectRatio=\"none\" style=\"width:1030px;height:115px;\" version=\"1.1\" viewBox=\"0 0 1030 115\" width=\"1030px\" zoomAndPan=\"magnify\"><defs><filter height=\"300%\" id=\"f1jzi1ifby5gni\" width=\"300%\" x=\"-1\" y=\"-1\"><feGaussianBlur result=\"blurOut\" stdDeviation=\"2.0\"/><feColorMatrix in=\"blurOut\" result=\"blurOut2\" type=\"matrix\" values=\"0 0 0 0 0 0 0 0 0 0 0 0 0 0 0 0 0 0 .4 0\"/><feOffset dx=\"4.0\" dy=\"4.0\" in=\"blurOut2\" result=\"blurOut3\"/><feBlend in=\"SourceGraphic\" in2=\"blurOut3\" mode=\"normal\"/></filter></defs><g><!--MD5=[fbc87193dbaf4d95561dea2c320d4a47]\n",
       "cluster E1--><a href=\"psysml:c0f24ad0-fe84-484c-92fb-1b0594d1e479\" target=\"_top\" title=\"psysml:c0f24ad0-fe84-484c-92fb-1b0594d1e479\" xlink:actuate=\"onRequest\" xlink:href=\"psysml:c0f24ad0-fe84-484c-92fb-1b0594d1e479\" xlink:show=\"new\" xlink:title=\"psysml:c0f24ad0-fe84-484c-92fb-1b0594d1e479\" xlink:type=\"simple\"><polygon fill=\"#FFFFFF\" filter=\"url(#f1jzi1ifby5gni)\" points=\"16,6,123,6,130,28.2969,1008,28.2969,1008,103,16,103,16,6\" style=\"stroke: #000000; stroke-width: 1.5;\"/><line style=\"stroke: #000000; stroke-width: 1.5;\" x1=\"16\" x2=\"130\" y1=\"28.2969\" y2=\"28.2969\"/><text fill=\"#000000\" font-family=\"sans-serif\" font-size=\"14\" font-weight=\"bold\" lengthAdjust=\"spacingAndGlyphs\" textLength=\"101\" x=\"20\" y=\"20.9951\">MultiplicityTest</text></a><!--MD5=[09b614a08d8cba4a07c9adeb5e0fee81]\n",
       "class E3--><a href=\"psysml:7c23d281-2047-4d33-b5ff-31ab75cdc741\" target=\"_top\" title=\"psysml:7c23d281-2047-4d33-b5ff-31ab75cdc741\" xlink:actuate=\"onRequest\" xlink:href=\"psysml:7c23d281-2047-4d33-b5ff-31ab75cdc741\" xlink:show=\"new\" xlink:title=\"psysml:7c23d281-2047-4d33-b5ff-31ab75cdc741\" xlink:type=\"simple\"><rect fill=\"#FEFECE\" filter=\"url(#f1jzi1ifby5gni)\" height=\"45.9375\" id=\"E3\" rx=\"10\" ry=\"10\" style=\"stroke: #A80036; stroke-width: 1.5;\" width=\"97\" x=\"895.5\" y=\"41\"/><ellipse cx=\"910.5\" cy=\"59.9688\" fill=\"#FFA500\" rx=\"11\" ry=\"11\" style=\"stroke: #A80036; stroke-width: 1.0;\"/><path d=\"M910.25,65.4375 Q908.5,65.4375 907.5469,64.4063 Q906.6094,63.3594 906.6094,61.5156 L906.6094,54.625 L908.6719,54.625 L908.6719,54.7813 Q908.5781,54.875 908.5469,55.0156 Q908.5313,55.1406 908.5313,55.4063 L908.5313,61.5313 Q908.5313,62.625 908.9063,63.25 Q909.2813,63.875 910.2656,63.875 Q911.25,63.875 911.6406,63.25 Q912.0313,62.625 912.0313,61.4844 L912.0313,54.625 L913.9063,54.625 L913.9063,61.4688 Q913.9063,63.5 912.875,64.4688 Q911.8594,65.4375 910.25,65.4375 Z \"/><text fill=\"#000000\" font-family=\"sans-serif\" font-size=\"12\" font-style=\"italic\" lengthAdjust=\"spacingAndGlyphs\" textLength=\"69\" x=\"922.5\" y=\"57.1387\">«attribute»</text><text fill=\"#000000\" font-family=\"sans-serif\" font-size=\"12\" lengthAdjust=\"spacingAndGlyphs\" textLength=\"61\" x=\"926.5\" y=\"71.1074\">n: Integer</text><line style=\"stroke: #A80036; stroke-width: 1.5;\" x1=\"896.5\" x2=\"991.5\" y1=\"78.9375\" y2=\"78.9375\"/></a><g id=\"E1.E11\"><a href=\"psysml:05fe5b10-94f9-4e9a-a85e-b113c36136a8\" target=\"_top\" title=\"psysml:05fe5b10-94f9-4e9a-a85e-b113c36136a8\" xlink:actuate=\"onRequest\" xlink:href=\"psysml:05fe5b10-94f9-4e9a-a85e-b113c36136a8\" xlink:show=\"new\" xlink:title=\"psysml:05fe5b10-94f9-4e9a-a85e-b113c36136a8\" xlink:type=\"simple\"><rect fill=\"#FEFECE\" filter=\"url(#f1jzi1ifby5gni)\" height=\"42.9375\" id=\"E11\" style=\"stroke: #A80036; stroke-width: 1.5;\" width=\"126\" x=\"734\" y=\"42.5\"/><ellipse cx=\"751.25\" cy=\"61.4688\" fill=\"#A52A2A\" rx=\"11\" ry=\"11\" style=\"stroke: #A80036; stroke-width: 1.0;\"/><path d=\"M748.4688,66.4688 L748.4688,55.875 L751.2031,55.875 Q752.5938,55.875 753.3594,56.2656 Q754.1406,56.6406 754.6719,57.3438 Q755.2031,58.0469 755.5,59.0469 Q755.7969,60.0313 755.7969,61.25 Q755.75,62.8438 755.25,64.0313 Q754.7656,65.2031 753.7188,65.8438 Q752.6875,66.4688 751,66.4688 L748.4688,66.4688 Z M750.3281,64.9688 L750.9531,64.9688 Q752.0313,64.9688 752.6875,64.5156 Q753.3438,64.0625 753.625,63.2344 Q753.9219,62.3906 753.9063,61.2656 Q753.9063,60.0938 753.6563,59.2344 Q753.4063,58.3594 752.7969,57.8906 Q752.1875,57.4063 751.1406,57.4063 L750.3281,57.4063 L750.3281,64.9688 Z \"/><text fill=\"#000000\" font-family=\"sans-serif\" font-size=\"12\" font-style=\"italic\" lengthAdjust=\"spacingAndGlyphs\" textLength=\"93\" x=\"763.75\" y=\"58.6387\">«attribute def»</text><text fill=\"#000000\" font-family=\"sans-serif\" font-size=\"12\" lengthAdjust=\"spacingAndGlyphs\" textLength=\"8\" x=\"806.25\" y=\"72.6074\">A</text></a></g><g id=\"E1.E2\"><a href=\"psysml:987e5bc7-b02a-416d-86c6-8545bfa90ef5\" target=\"_top\" title=\"psysml:987e5bc7-b02a-416d-86c6-8545bfa90ef5\" xlink:actuate=\"onRequest\" xlink:href=\"psysml:987e5bc7-b02a-416d-86c6-8545bfa90ef5\" xlink:show=\"new\" xlink:title=\"psysml:987e5bc7-b02a-416d-86c6-8545bfa90ef5\" xlink:type=\"simple\"><rect fill=\"#FEFECE\" filter=\"url(#f1jzi1ifby5gni)\" height=\"40\" id=\"E2\" style=\"stroke: #A80036; stroke-width: 1.5;\" width=\"50\" x=\"649\" y=\"44\"/><ellipse cx=\"668.5\" cy=\"60\" fill=\"#008000\" rx=\"11\" ry=\"11\" style=\"stroke: #A80036; stroke-width: 1.0;\"/><path d=\"M665.375,65 L665.375,54.4063 L668.6094,54.4063 Q670.5156,54.4063 671.4219,55.1563 Q672.3438,55.9063 672.3438,57.0781 Q672.3438,57.7656 671.9531,58.4219 Q671.5781,59.0781 670.8594,59.375 Q671.7188,59.75 672.2344,60.4375 Q672.75,61.125 672.75,61.9375 Q672.75,63.3125 671.7188,64.1563 Q670.7031,65 668.5938,65 L665.375,65 Z M667.2969,58.6406 L668.4531,58.6406 Q669.5781,58.6406 669.9844,58.2656 Q670.4063,57.875 670.4063,57.25 Q670.4063,56.6719 669.9844,56.3125 Q669.5625,55.9531 668.625,55.9531 L667.2969,55.9531 L667.2969,58.6406 Z M667.2969,63.4219 L668.7969,63.4219 Q669.7031,63.4219 670.2344,63.0313 Q670.7656,62.6406 670.7656,61.8906 Q670.7656,61.125 670.2656,60.6563 Q669.7656,60.1719 668.5,60.1719 L667.2969,60.1719 L667.2969,63.4219 Z \"/><text fill=\"#000000\" font-family=\"sans-serif\" font-size=\"12\" lengthAdjust=\"spacingAndGlyphs\" textLength=\"8\" x=\"683.5\" y=\"64.1543\">P</text></a></g><g id=\"E1.E4\"><a href=\"psysml:dbbeb80c-41d4-4e5a-ae6b-125fea141b81\" target=\"_top\" title=\"psysml:dbbeb80c-41d4-4e5a-ae6b-125fea141b81\" xlink:actuate=\"onRequest\" xlink:href=\"psysml:dbbeb80c-41d4-4e5a-ae6b-125fea141b81\" xlink:show=\"new\" xlink:title=\"psysml:dbbeb80c-41d4-4e5a-ae6b-125fea141b81\" xlink:type=\"simple\"><rect fill=\"#FEFECE\" filter=\"url(#f1jzi1ifby5gni)\" height=\"40\" id=\"E4\" rx=\"10\" ry=\"10\" style=\"stroke: #A80036; stroke-width: 1.5;\" width=\"50\" x=\"564\" y=\"44\"/><ellipse cx=\"583.5\" cy=\"60\" fill=\"#B6DBBB\" rx=\"11\" ry=\"11\" style=\"stroke: #A80036; stroke-width: 1.0;\"/><path d=\"M583.25,65.4688 Q581.5,65.4688 580.5469,64.4375 Q579.6094,63.3906 579.6094,61.5469 L579.6094,54.6563 L581.6719,54.6563 L581.6719,54.8125 Q581.5781,54.9063 581.5469,55.0469 Q581.5313,55.1719 581.5313,55.4375 L581.5313,61.5625 Q581.5313,62.6563 581.9063,63.2813 Q582.2813,63.9063 583.2656,63.9063 Q584.25,63.9063 584.6406,63.2813 Q585.0313,62.6563 585.0313,61.5156 L585.0313,54.6563 L586.9063,54.6563 L586.9063,61.5 Q586.9063,63.5313 585.875,64.5 Q584.8594,65.4688 583.25,65.4688 Z \"/><text fill=\"#000000\" font-family=\"sans-serif\" font-size=\"12\" lengthAdjust=\"spacingAndGlyphs\" textLength=\"8\" x=\"598.5\" y=\"64.1543\">a</text></a></g><g id=\"E1.E5\"><a href=\"psysml:1044b725-5886-488e-a280-d65b06b2678d\" target=\"_top\" title=\"psysml:1044b725-5886-488e-a280-d65b06b2678d\" xlink:actuate=\"onRequest\" xlink:href=\"psysml:1044b725-5886-488e-a280-d65b06b2678d\" xlink:show=\"new\" xlink:title=\"psysml:1044b725-5886-488e-a280-d65b06b2678d\" xlink:type=\"simple\"><rect fill=\"#FEFECE\" filter=\"url(#f1jzi1ifby5gni)\" height=\"40\" id=\"E5\" rx=\"10\" ry=\"10\" style=\"stroke: #A80036; stroke-width: 1.5;\" width=\"61\" x=\"467.5\" y=\"44\"/><ellipse cx=\"484.75\" cy=\"60\" fill=\"#B6DBBB\" rx=\"11\" ry=\"11\" style=\"stroke: #A80036; stroke-width: 1.0;\"/><path d=\"M484.5,65.4688 Q482.75,65.4688 481.7969,64.4375 Q480.8594,63.3906 480.8594,61.5469 L480.8594,54.6563 L482.9219,54.6563 L482.9219,54.8125 Q482.8281,54.9063 482.7969,55.0469 Q482.7813,55.1719 482.7813,55.4375 L482.7813,61.5625 Q482.7813,62.6563 483.1563,63.2813 Q483.5313,63.9063 484.5156,63.9063 Q485.5,63.9063 485.8906,63.2813 Q486.2813,62.6563 486.2813,61.5156 L486.2813,54.6563 L488.1563,54.6563 L488.1563,61.5 Q488.1563,63.5313 487.125,64.5 Q486.1094,65.4688 484.5,65.4688 Z \"/><text fill=\"#000000\" font-family=\"sans-serif\" font-size=\"12\" lengthAdjust=\"spacingAndGlyphs\" textLength=\"24\" x=\"499.25\" y=\"64.1543\">b: P</text></a></g><g id=\"E1.E6\"><a href=\"psysml:7163cac6-f89e-4c84-b72c-82ccdb232dd2\" target=\"_top\" title=\"psysml:7163cac6-f89e-4c84-b72c-82ccdb232dd2\" xlink:actuate=\"onRequest\" xlink:href=\"psysml:7163cac6-f89e-4c84-b72c-82ccdb232dd2\" xlink:show=\"new\" xlink:title=\"psysml:7163cac6-f89e-4c84-b72c-82ccdb232dd2\" xlink:type=\"simple\"><rect fill=\"#FEFECE\" filter=\"url(#f1jzi1ifby5gni)\" height=\"40\" id=\"E6\" rx=\"10\" ry=\"10\" style=\"stroke: #A80036; stroke-width: 1.5;\" width=\"60\" x=\"372\" y=\"44\"/><ellipse cx=\"389.25\" cy=\"60\" fill=\"#B6DBBB\" rx=\"11\" ry=\"11\" style=\"stroke: #A80036; stroke-width: 1.0;\"/><path d=\"M389,65.4688 Q387.25,65.4688 386.2969,64.4375 Q385.3594,63.3906 385.3594,61.5469 L385.3594,54.6563 L387.4219,54.6563 L387.4219,54.8125 Q387.3281,54.9063 387.2969,55.0469 Q387.2813,55.1719 387.2813,55.4375 L387.2813,61.5625 Q387.2813,62.6563 387.6563,63.2813 Q388.0313,63.9063 389.0156,63.9063 Q390,63.9063 390.3906,63.2813 Q390.7813,62.6563 390.7813,61.5156 L390.7813,54.6563 L392.6563,54.6563 L392.6563,61.5 Q392.6563,63.5313 391.625,64.5 Q390.6094,65.4688 389,65.4688 Z \"/><text fill=\"#000000\" font-family=\"sans-serif\" font-size=\"12\" lengthAdjust=\"spacingAndGlyphs\" textLength=\"23\" x=\"403.75\" y=\"64.1543\">c: P</text></a></g><g id=\"E1.E7\"><a href=\"psysml:79f72fcf-9cc7-42c6-886c-0c2f21f0aaa0\" target=\"_top\" title=\"psysml:79f72fcf-9cc7-42c6-886c-0c2f21f0aaa0\" xlink:actuate=\"onRequest\" xlink:href=\"psysml:79f72fcf-9cc7-42c6-886c-0c2f21f0aaa0\" xlink:show=\"new\" xlink:title=\"psysml:79f72fcf-9cc7-42c6-886c-0c2f21f0aaa0\" xlink:type=\"simple\"><rect fill=\"#FEFECE\" filter=\"url(#f1jzi1ifby5gni)\" height=\"40\" id=\"E7\" rx=\"10\" ry=\"10\" style=\"stroke: #A80036; stroke-width: 1.5;\" width=\"50\" x=\"287\" y=\"44\"/><ellipse cx=\"306.5\" cy=\"60\" fill=\"#B6DBBB\" rx=\"11\" ry=\"11\" style=\"stroke: #A80036; stroke-width: 1.0;\"/><path d=\"M306.25,65.4688 Q304.5,65.4688 303.5469,64.4375 Q302.6094,63.3906 302.6094,61.5469 L302.6094,54.6563 L304.6719,54.6563 L304.6719,54.8125 Q304.5781,54.9063 304.5469,55.0469 Q304.5313,55.1719 304.5313,55.4375 L304.5313,61.5625 Q304.5313,62.6563 304.9063,63.2813 Q305.2813,63.9063 306.2656,63.9063 Q307.25,63.9063 307.6406,63.2813 Q308.0313,62.6563 308.0313,61.5156 L308.0313,54.6563 L309.9063,54.6563 L309.9063,61.5 Q309.9063,63.5313 308.875,64.5 Q307.8594,65.4688 306.25,65.4688 Z \"/><text fill=\"#000000\" font-family=\"sans-serif\" font-size=\"12\" lengthAdjust=\"spacingAndGlyphs\" textLength=\"8\" x=\"321.5\" y=\"64.1543\">d</text></a></g><g id=\"E1.E8\"><a href=\"psysml:7ad65eee-258f-4156-b8ec-39b80665cdbc\" target=\"_top\" title=\"psysml:7ad65eee-258f-4156-b8ec-39b80665cdbc\" xlink:actuate=\"onRequest\" xlink:href=\"psysml:7ad65eee-258f-4156-b8ec-39b80665cdbc\" xlink:show=\"new\" xlink:title=\"psysml:7ad65eee-258f-4156-b8ec-39b80665cdbc\" xlink:type=\"simple\"><rect fill=\"#FEFECE\" filter=\"url(#f1jzi1ifby5gni)\" height=\"40\" id=\"E8\" rx=\"10\" ry=\"10\" style=\"stroke: #A80036; stroke-width: 1.5;\" width=\"50\" x=\"202\" y=\"44\"/><ellipse cx=\"221.5\" cy=\"60\" fill=\"#B6DBBB\" rx=\"11\" ry=\"11\" style=\"stroke: #A80036; stroke-width: 1.0;\"/><path d=\"M221.25,65.4688 Q219.5,65.4688 218.5469,64.4375 Q217.6094,63.3906 217.6094,61.5469 L217.6094,54.6563 L219.6719,54.6563 L219.6719,54.8125 Q219.5781,54.9063 219.5469,55.0469 Q219.5313,55.1719 219.5313,55.4375 L219.5313,61.5625 Q219.5313,62.6563 219.9063,63.2813 Q220.2813,63.9063 221.2656,63.9063 Q222.25,63.9063 222.6406,63.2813 Q223.0313,62.6563 223.0313,61.5156 L223.0313,54.6563 L224.9063,54.6563 L224.9063,61.5 Q224.9063,63.5313 223.875,64.5 Q222.8594,65.4688 221.25,65.4688 Z \"/><text fill=\"#000000\" font-family=\"sans-serif\" font-size=\"12\" lengthAdjust=\"spacingAndGlyphs\" textLength=\"8\" x=\"236.5\" y=\"64.1543\">e</text></a></g><g id=\"E1.E9\"><a href=\"psysml:20b1d46d-edcb-44c0-8591-3bffd604b97a\" target=\"_top\" title=\"psysml:20b1d46d-edcb-44c0-8591-3bffd604b97a\" xlink:actuate=\"onRequest\" xlink:href=\"psysml:20b1d46d-edcb-44c0-8591-3bffd604b97a\" xlink:show=\"new\" xlink:title=\"psysml:20b1d46d-edcb-44c0-8591-3bffd604b97a\" xlink:type=\"simple\"><rect fill=\"#FEFECE\" filter=\"url(#f1jzi1ifby5gni)\" height=\"40\" id=\"E9\" rx=\"10\" ry=\"10\" style=\"stroke: #A80036; stroke-width: 1.5;\" width=\"50\" x=\"117\" y=\"44\"/><ellipse cx=\"138.3\" cy=\"60\" fill=\"#B6DBBB\" rx=\"11\" ry=\"11\" style=\"stroke: #A80036; stroke-width: 1.0;\"/><path d=\"M138.05,65.4688 Q136.3,65.4688 135.3469,64.4375 Q134.4094,63.3906 134.4094,61.5469 L134.4094,54.6563 L136.4719,54.6563 L136.4719,54.8125 Q136.3781,54.9063 136.3469,55.0469 Q136.3313,55.1719 136.3313,55.4375 L136.3313,61.5625 Q136.3313,62.6563 136.7063,63.2813 Q137.0813,63.9063 138.0656,63.9063 Q139.05,63.9063 139.4406,63.2813 Q139.8313,62.6563 139.8313,61.5156 L139.8313,54.6563 L141.7063,54.6563 L141.7063,61.5 Q141.7063,63.5313 140.675,64.5 Q139.6594,65.4688 138.05,65.4688 Z \"/><text fill=\"#000000\" font-family=\"sans-serif\" font-size=\"12\" lengthAdjust=\"spacingAndGlyphs\" textLength=\"4\" x=\"153.7\" y=\"64.1543\">f</text></a></g><g id=\"E1.E10\"><a href=\"psysml:25d96323-353d-45e6-96c8-f6353f2a6c2d\" target=\"_top\" title=\"psysml:25d96323-353d-45e6-96c8-f6353f2a6c2d\" xlink:actuate=\"onRequest\" xlink:href=\"psysml:25d96323-353d-45e6-96c8-f6353f2a6c2d\" xlink:show=\"new\" xlink:title=\"psysml:25d96323-353d-45e6-96c8-f6353f2a6c2d\" xlink:type=\"simple\"><rect fill=\"#FEFECE\" filter=\"url(#f1jzi1ifby5gni)\" height=\"40\" id=\"E10\" rx=\"10\" ry=\"10\" style=\"stroke: #A80036; stroke-width: 1.5;\" width=\"50\" x=\"32\" y=\"44\"/><ellipse cx=\"51.5\" cy=\"60\" fill=\"#B6DBBB\" rx=\"11\" ry=\"11\" style=\"stroke: #A80036; stroke-width: 1.0;\"/><path d=\"M51.25,65.4688 Q49.5,65.4688 48.5469,64.4375 Q47.6094,63.3906 47.6094,61.5469 L47.6094,54.6563 L49.6719,54.6563 L49.6719,54.8125 Q49.5781,54.9063 49.5469,55.0469 Q49.5313,55.1719 49.5313,55.4375 L49.5313,61.5625 Q49.5313,62.6563 49.9063,63.2813 Q50.2813,63.9063 51.2656,63.9063 Q52.25,63.9063 52.6406,63.2813 Q53.0313,62.6563 53.0313,61.5156 L53.0313,54.6563 L54.9063,54.6563 L54.9063,61.5 Q54.9063,63.5313 53.875,64.5 Q52.8594,65.4688 51.25,65.4688 Z \"/><text fill=\"#000000\" font-family=\"sans-serif\" font-size=\"12\" lengthAdjust=\"spacingAndGlyphs\" textLength=\"8\" x=\"66.5\" y=\"64.1543\">g</text></a></g><!--MD5=[256f295ecc195027417f35df17d73829]\n",
       "@startuml\r\n",
       "skinparam ranksep 10\r\n",
       "skinparam rectangle {\r\n",
       " backgroundColor<<block>> LightGreen\r\n",
       "}\r\n",
       " \r\n",
       "package \"MultiplicityTest\" as E1  [[psysml:c0f24ad0-fe84-484c-92fb-1b0594d1e479 ]]  {\r\n",
       "rec def \"P\" as E2 << << (B,green) >> [[psysml:987e5bc7-b02a-416d-86c6-8545bfa90ef5 ]] {\r\n",
       "}\r\n",
       "comp usage \"n: Integer\" as E3 << <<(U,orange) attribute>> [[psysml:7c23d281-2047-4d33-b5ff-31ab75cdc741 ]] {\r\n",
       "}\r\n",
       "rec usage \"a\" as E4  [[psysml:dbbeb80c-41d4-4e5a-ae6b-125fea141b81 ]] {\r\n",
       "}\r\n",
       "rec usage \"b: P\" as E5  [[psysml:1044b725-5886-488e-a280-d65b06b2678d ]] {\r\n",
       "}\r\n",
       "rec usage \"c: P\" as E6  [[psysml:7163cac6-f89e-4c84-b72c-82ccdb232dd2 ]] {\r\n",
       "}\r\n",
       "rec usage \"d\" as E7  [[psysml:79f72fcf-9cc7-42c6-886c-0c2f21f0aaa0 ]] {\r\n",
       "}\r\n",
       "rec usage \"e\" as E8  [[psysml:7ad65eee-258f-4156-b8ec-39b80665cdbc ]] {\r\n",
       "}\r\n",
       "rec usage \"f\" as E9  [[psysml:20b1d46d-edcb-44c0-8591-3bffd604b97a ]] {\r\n",
       "}\r\n",
       "rec usage \"g\" as E10  [[psysml:25d96323-353d-45e6-96c8-f6353f2a6c2d ]] {\r\n",
       "}\r\n",
       "def \"A\" as E11 << <<(D,brown) attribute def>> [[psysml:05fe5b10-94f9-4e9a-a85e-b113c36136a8 ]] \r\n",
       "}\r\n",
       "@enduml\r\n",
       "\n",
       "PlantUML version 1.2020.13(Sat Jun 13 12:26:38 UTC 2020)\n",
       "(EPL source distribution)\n",
       "Java Runtime: OpenJDK Runtime Environment\n",
       "JVM: OpenJDK 64-Bit Server VM\n",
       "Default Encoding: UTF-8\n",
       "Language: en\n",
       "Country: null\n",
       "--></g></svg>"
      ]
     },
     "execution_count": 33,
     "metadata": {},
     "output_type": "execute_result"
    }
   ],
   "source": [
    "%viz --style=\"PLANTUML\" --view=\"Interconnection\" \"MultiplicityTest\""
   ]
  },
  {
   "cell_type": "code",
   "execution_count": 34,
   "id": "298b0064",
   "metadata": {
    "execution": {
     "iopub.execute_input": "2021-09-27T07:19:19.307734Z",
     "iopub.status.busy": "2021-09-27T07:19:19.307338Z",
     "iopub.status.idle": "2021-09-27T07:19:19.310413Z",
     "shell.execute_reply": "2021-09-27T07:19:19.310065Z"
    }
   },
   "outputs": [
    {
     "data": {
      "image/svg+xml": [
       "<?xml version=\"1.0\" encoding=\"UTF-8\" standalone=\"no\"?><svg xmlns=\"http://www.w3.org/2000/svg\" xmlns:xlink=\"http://www.w3.org/1999/xlink\" contentScriptType=\"application/ecmascript\" contentStyleType=\"text/css\" height=\"12px\" preserveAspectRatio=\"none\" style=\"width:12px;height:12px;\" version=\"1.1\" viewBox=\"0 0 12 12\" width=\"12px\" zoomAndPan=\"magnify\"><defs/><g><!--MD5=[6a4cb978cab31700e1ce5529f947a75d]\n",
       "@startuml\r\n",
       "skinparam ranksep 8\r\n",
       " \r\n",
       "@enduml\r\n",
       "\n",
       "PlantUML version 1.2020.13(Sat Jun 13 12:26:38 UTC 2020)\n",
       "(EPL source distribution)\n",
       "Java Runtime: OpenJDK Runtime Environment\n",
       "JVM: OpenJDK 64-Bit Server VM\n",
       "Default Encoding: UTF-8\n",
       "Language: en\n",
       "Country: null\n",
       "--></g></svg>"
      ]
     },
     "execution_count": 34,
     "metadata": {},
     "output_type": "execute_result"
    }
   ],
   "source": [
    "%viz --style=\"PLANTUML\" --view=\"Action\" \"MultiplicityTest\""
   ]
  },
  {
   "cell_type": "code",
   "execution_count": 35,
   "id": "5927b885",
   "metadata": {
    "execution": {
     "iopub.execute_input": "2021-09-27T07:19:19.360293Z",
     "iopub.status.busy": "2021-09-27T07:19:19.359899Z",
     "iopub.status.idle": "2021-09-27T07:19:19.364287Z",
     "shell.execute_reply": "2021-09-27T07:19:19.364599Z"
    }
   },
   "outputs": [
    {
     "data": {
      "image/svg+xml": [
       "<?xml version=\"1.0\" encoding=\"UTF-8\" standalone=\"no\"?><svg xmlns=\"http://www.w3.org/2000/svg\" xmlns:xlink=\"http://www.w3.org/1999/xlink\" contentScriptType=\"application/ecmascript\" contentStyleType=\"text/css\" height=\"12px\" preserveAspectRatio=\"none\" style=\"width:12px;height:12px;\" version=\"1.1\" viewBox=\"0 0 12 12\" width=\"12px\" zoomAndPan=\"magnify\"><defs/><g><!--MD5=[ca4faa0b02def275ea33c14ea7a1a98d]\n",
       "@startuml\r\n",
       "skinparam roundcorner 20\r\n",
       "skinparam BoxPadding 20\r\n",
       "skinparam SequenceBoxBackgroundColor #white\r\n",
       "skinparam style strictuml\r\n",
       "skinparam maxMessageSize 100\r\n",
       " \r\n",
       "@enduml\r\n",
       "\n",
       "PlantUML version 1.2020.13(Sat Jun 13 12:26:38 UTC 2020)\n",
       "(EPL source distribution)\n",
       "Java Runtime: OpenJDK Runtime Environment\n",
       "JVM: OpenJDK 64-Bit Server VM\n",
       "Default Encoding: UTF-8\n",
       "Language: en\n",
       "Country: null\n",
       "--></g></svg>"
      ]
     },
     "execution_count": 35,
     "metadata": {},
     "output_type": "execute_result"
    }
   ],
   "source": [
    "%viz --style=\"PLANTUML\" --view=\"Sequence\" \"MultiplicityTest\""
   ]
  },
  {
   "cell_type": "code",
   "execution_count": 36,
   "id": "c307396c",
   "metadata": {
    "execution": {
     "iopub.execute_input": "2021-09-27T07:19:19.414637Z",
     "iopub.status.busy": "2021-09-27T07:19:19.414242Z",
     "iopub.status.idle": "2021-09-27T07:19:19.460809Z",
     "shell.execute_reply": "2021-09-27T07:19:19.460462Z"
    }
   },
   "outputs": [
    {
     "data": {
      "image/svg+xml": [
       "<?xml version=\"1.0\" encoding=\"UTF-8\" standalone=\"no\"?><svg xmlns=\"http://www.w3.org/2000/svg\" xmlns:xlink=\"http://www.w3.org/1999/xlink\" contentScriptType=\"application/ecmascript\" contentStyleType=\"text/css\" height=\"241px\" preserveAspectRatio=\"none\" style=\"width:1045px;height:241px;\" version=\"1.1\" viewBox=\"0 0 1045 241\" width=\"1045px\" zoomAndPan=\"magnify\"><defs><filter height=\"300%\" id=\"f1f316n1vtfye2\" width=\"300%\" x=\"-1\" y=\"-1\"><feGaussianBlur result=\"blurOut\" stdDeviation=\"2.0\"/><feColorMatrix in=\"blurOut\" result=\"blurOut2\" type=\"matrix\" values=\"0 0 0 0 0 0 0 0 0 0 0 0 0 0 0 0 0 0 .4 0\"/><feOffset dx=\"4.0\" dy=\"4.0\" in=\"blurOut2\" result=\"blurOut3\"/><feBlend in=\"SourceGraphic\" in2=\"blurOut3\" mode=\"normal\"/></filter></defs><g><!--MD5=[fbc87193dbaf4d95561dea2c320d4a47]\n",
       "cluster E1--><a href=\"psysml:c0f24ad0-fe84-484c-92fb-1b0594d1e479\" target=\"_top\" title=\"psysml:c0f24ad0-fe84-484c-92fb-1b0594d1e479\" xlink:actuate=\"onRequest\" xlink:href=\"psysml:c0f24ad0-fe84-484c-92fb-1b0594d1e479\" xlink:show=\"new\" xlink:title=\"psysml:c0f24ad0-fe84-484c-92fb-1b0594d1e479\" xlink:type=\"simple\"><polygon fill=\"#FFFFFF\" filter=\"url(#f1f316n1vtfye2)\" points=\"16,6,123,6,130,28.2969,1023,28.2969,1023,229,16,229,16,6\" style=\"stroke: #000000; stroke-width: 1.5;\"/><line style=\"stroke: #000000; stroke-width: 1.5;\" x1=\"16\" x2=\"130\" y1=\"28.2969\" y2=\"28.2969\"/><text fill=\"#000000\" font-family=\"sans-serif\" font-size=\"14\" font-weight=\"bold\" lengthAdjust=\"spacingAndGlyphs\" textLength=\"101\" x=\"20\" y=\"20.9951\">MultiplicityTest</text></a><!--MD5=[b4997ac47864f28c2f74865a473b2911]\n",
       "class E2--><a href=\"psysml:987e5bc7-b02a-416d-86c6-8545bfa90ef5\" target=\"_top\" title=\"psysml:987e5bc7-b02a-416d-86c6-8545bfa90ef5\" xlink:actuate=\"onRequest\" xlink:href=\"psysml:987e5bc7-b02a-416d-86c6-8545bfa90ef5\" xlink:show=\"new\" xlink:title=\"psysml:987e5bc7-b02a-416d-86c6-8545bfa90ef5\" xlink:type=\"simple\"><rect fill=\"#FEFECE\" filter=\"url(#f1f316n1vtfye2)\" height=\"40\" id=\"E2\" style=\"stroke: #A80036; stroke-width: 1.5;\" width=\"40\" x=\"666\" y=\"173\"/><ellipse cx=\"681\" cy=\"189\" fill=\"#008000\" rx=\"11\" ry=\"11\" style=\"stroke: #A80036; stroke-width: 1.0;\"/><path d=\"M677.875,194 L677.875,183.4063 L681.1094,183.4063 Q683.0156,183.4063 683.9219,184.1563 Q684.8438,184.9063 684.8438,186.0781 Q684.8438,186.7656 684.4531,187.4219 Q684.0781,188.0781 683.3594,188.375 Q684.2188,188.75 684.7344,189.4375 Q685.25,190.125 685.25,190.9375 Q685.25,192.3125 684.2188,193.1563 Q683.2031,194 681.0938,194 L677.875,194 Z M679.7969,187.6406 L680.9531,187.6406 Q682.0781,187.6406 682.4844,187.2656 Q682.9063,186.875 682.9063,186.25 Q682.9063,185.6719 682.4844,185.3125 Q682.0625,184.9531 681.125,184.9531 L679.7969,184.9531 L679.7969,187.6406 Z M679.7969,192.4219 L681.2969,192.4219 Q682.2031,192.4219 682.7344,192.0313 Q683.2656,191.6406 683.2656,190.8906 Q683.2656,190.125 682.7656,189.6563 Q682.2656,189.1719 681,189.1719 L679.7969,189.1719 L679.7969,192.4219 Z \"/><text fill=\"#000000\" font-family=\"sans-serif\" font-size=\"12\" lengthAdjust=\"spacingAndGlyphs\" textLength=\"8\" x=\"695\" y=\"193.1543\">P</text><line style=\"stroke: #A80036; stroke-width: 1.5;\" x1=\"667\" x2=\"705\" y1=\"205\" y2=\"205\"/></a><!--MD5=[09b614a08d8cba4a07c9adeb5e0fee81]\n",
       "class E3--><a href=\"psysml:7c23d281-2047-4d33-b5ff-31ab75cdc741\" target=\"_top\" title=\"psysml:7c23d281-2047-4d33-b5ff-31ab75cdc741\" xlink:actuate=\"onRequest\" xlink:href=\"psysml:7c23d281-2047-4d33-b5ff-31ab75cdc741\" xlink:show=\"new\" xlink:title=\"psysml:7c23d281-2047-4d33-b5ff-31ab75cdc741\" xlink:type=\"simple\"><rect fill=\"#FEFECE\" filter=\"url(#f1f316n1vtfye2)\" height=\"45.9375\" id=\"E3\" rx=\"10\" ry=\"10\" style=\"stroke: #A80036; stroke-width: 1.5;\" width=\"97\" x=\"910.5\" y=\"54\"/><ellipse cx=\"925.5\" cy=\"72.9688\" fill=\"#FFA500\" rx=\"11\" ry=\"11\" style=\"stroke: #A80036; stroke-width: 1.0;\"/><path d=\"M925.25,78.4375 Q923.5,78.4375 922.5469,77.4063 Q921.6094,76.3594 921.6094,74.5156 L921.6094,67.625 L923.6719,67.625 L923.6719,67.7813 Q923.5781,67.875 923.5469,68.0156 Q923.5313,68.1406 923.5313,68.4063 L923.5313,74.5313 Q923.5313,75.625 923.9063,76.25 Q924.2813,76.875 925.2656,76.875 Q926.25,76.875 926.6406,76.25 Q927.0313,75.625 927.0313,74.4844 L927.0313,67.625 L928.9063,67.625 L928.9063,74.4688 Q928.9063,76.5 927.875,77.4688 Q926.8594,78.4375 925.25,78.4375 Z \"/><text fill=\"#000000\" font-family=\"sans-serif\" font-size=\"12\" font-style=\"italic\" lengthAdjust=\"spacingAndGlyphs\" textLength=\"69\" x=\"937.5\" y=\"70.1387\">«attribute»</text><text fill=\"#000000\" font-family=\"sans-serif\" font-size=\"12\" lengthAdjust=\"spacingAndGlyphs\" textLength=\"61\" x=\"941.5\" y=\"84.1074\">n: Integer</text><line style=\"stroke: #A80036; stroke-width: 1.5;\" x1=\"911.5\" x2=\"1006.5\" y1=\"91.9375\" y2=\"91.9375\"/></a><!--MD5=[ebbe1d658d1005bcc118a6aa81145e00]\n",
       "class E4--><a href=\"psysml:dbbeb80c-41d4-4e5a-ae6b-125fea141b81\" target=\"_top\" title=\"psysml:dbbeb80c-41d4-4e5a-ae6b-125fea141b81\" xlink:actuate=\"onRequest\" xlink:href=\"psysml:dbbeb80c-41d4-4e5a-ae6b-125fea141b81\" xlink:show=\"new\" xlink:title=\"psysml:dbbeb80c-41d4-4e5a-ae6b-125fea141b81\" xlink:type=\"simple\"><rect fill=\"#FEFECE\" filter=\"url(#f1f316n1vtfye2)\" height=\"45.9375\" id=\"E4\" rx=\"10\" ry=\"10\" style=\"stroke: #A80036; stroke-width: 1.5;\" width=\"68\" x=\"807\" y=\"54\"/><ellipse cx=\"822\" cy=\"72.9688\" fill=\"#32CD32\" rx=\"11\" ry=\"11\" style=\"stroke: #A80036; stroke-width: 1.0;\"/><path d=\"M818.8125,77.9688 L818.8125,67.375 L822.4219,67.375 Q823.6406,67.375 824.4375,67.8125 Q825.2344,68.2344 825.6094,68.9375 Q826,69.6406 826,70.4844 Q826,71.3281 825.625,72.0156 Q825.2656,72.7031 824.4688,73.125 Q823.6875,73.5313 822.5,73.5313 L820.7656,73.5313 L820.7656,77.9688 L818.8125,77.9688 Z M820.7656,71.9375 L822.375,71.9375 Q823.1875,71.9375 823.6094,71.5313 Q824.0313,71.125 824.0313,70.4844 Q824.0313,69.8594 823.6094,69.4531 Q823.1875,69.0469 822.3906,69.0469 L820.7656,69.0469 L820.7656,71.9375 Z \"/><text fill=\"#000000\" font-family=\"sans-serif\" font-size=\"12\" font-style=\"italic\" lengthAdjust=\"spacingAndGlyphs\" textLength=\"40\" x=\"834\" y=\"70.1387\">«part»</text><text fill=\"#000000\" font-family=\"sans-serif\" font-size=\"12\" lengthAdjust=\"spacingAndGlyphs\" textLength=\"8\" x=\"850\" y=\"84.1074\">a</text><line style=\"stroke: #A80036; stroke-width: 1.5;\" x1=\"808\" x2=\"874\" y1=\"91.9375\" y2=\"91.9375\"/></a><!--MD5=[270fce915f116d4de14055a7c1d9a0f3]\n",
       "class E5--><a href=\"psysml:1044b725-5886-488e-a280-d65b06b2678d\" target=\"_top\" title=\"psysml:1044b725-5886-488e-a280-d65b06b2678d\" xlink:actuate=\"onRequest\" xlink:href=\"psysml:1044b725-5886-488e-a280-d65b06b2678d\" xlink:show=\"new\" xlink:title=\"psysml:1044b725-5886-488e-a280-d65b06b2678d\" xlink:type=\"simple\"><rect fill=\"#FEFECE\" filter=\"url(#f1f316n1vtfye2)\" height=\"45.9375\" id=\"E5\" rx=\"10\" ry=\"10\" style=\"stroke: #A80036; stroke-width: 1.5;\" width=\"68\" x=\"704\" y=\"54\"/><ellipse cx=\"719\" cy=\"72.9688\" fill=\"#32CD32\" rx=\"11\" ry=\"11\" style=\"stroke: #A80036; stroke-width: 1.0;\"/><path d=\"M715.8125,77.9688 L715.8125,67.375 L719.4219,67.375 Q720.6406,67.375 721.4375,67.8125 Q722.2344,68.2344 722.6094,68.9375 Q723,69.6406 723,70.4844 Q723,71.3281 722.625,72.0156 Q722.2656,72.7031 721.4688,73.125 Q720.6875,73.5313 719.5,73.5313 L717.7656,73.5313 L717.7656,77.9688 L715.8125,77.9688 Z M717.7656,71.9375 L719.375,71.9375 Q720.1875,71.9375 720.6094,71.5313 Q721.0313,71.125 721.0313,70.4844 Q721.0313,69.8594 720.6094,69.4531 Q720.1875,69.0469 719.3906,69.0469 L717.7656,69.0469 L717.7656,71.9375 Z \"/><text fill=\"#000000\" font-family=\"sans-serif\" font-size=\"12\" font-style=\"italic\" lengthAdjust=\"spacingAndGlyphs\" textLength=\"40\" x=\"731\" y=\"70.1387\">«part»</text><text fill=\"#000000\" font-family=\"sans-serif\" font-size=\"12\" lengthAdjust=\"spacingAndGlyphs\" textLength=\"24\" x=\"739\" y=\"84.1074\">b: P</text><line style=\"stroke: #A80036; stroke-width: 1.5;\" x1=\"705\" x2=\"771\" y1=\"91.9375\" y2=\"91.9375\"/></a><!--MD5=[60a26617385b1d2d0262a64233df1f8d]\n",
       "class E6--><a href=\"psysml:7163cac6-f89e-4c84-b72c-82ccdb232dd2\" target=\"_top\" title=\"psysml:7163cac6-f89e-4c84-b72c-82ccdb232dd2\" xlink:actuate=\"onRequest\" xlink:href=\"psysml:7163cac6-f89e-4c84-b72c-82ccdb232dd2\" xlink:show=\"new\" xlink:title=\"psysml:7163cac6-f89e-4c84-b72c-82ccdb232dd2\" xlink:type=\"simple\"><rect fill=\"#FEFECE\" filter=\"url(#f1f316n1vtfye2)\" height=\"45.9375\" id=\"E6\" rx=\"10\" ry=\"10\" style=\"stroke: #A80036; stroke-width: 1.5;\" width=\"68\" x=\"601\" y=\"54\"/><ellipse cx=\"616\" cy=\"72.9688\" fill=\"#32CD32\" rx=\"11\" ry=\"11\" style=\"stroke: #A80036; stroke-width: 1.0;\"/><path d=\"M612.8125,77.9688 L612.8125,67.375 L616.4219,67.375 Q617.6406,67.375 618.4375,67.8125 Q619.2344,68.2344 619.6094,68.9375 Q620,69.6406 620,70.4844 Q620,71.3281 619.625,72.0156 Q619.2656,72.7031 618.4688,73.125 Q617.6875,73.5313 616.5,73.5313 L614.7656,73.5313 L614.7656,77.9688 L612.8125,77.9688 Z M614.7656,71.9375 L616.375,71.9375 Q617.1875,71.9375 617.6094,71.5313 Q618.0313,71.125 618.0313,70.4844 Q618.0313,69.8594 617.6094,69.4531 Q617.1875,69.0469 616.3906,69.0469 L614.7656,69.0469 L614.7656,71.9375 Z \"/><text fill=\"#000000\" font-family=\"sans-serif\" font-size=\"12\" font-style=\"italic\" lengthAdjust=\"spacingAndGlyphs\" textLength=\"40\" x=\"628\" y=\"70.1387\">«part»</text><text fill=\"#000000\" font-family=\"sans-serif\" font-size=\"12\" lengthAdjust=\"spacingAndGlyphs\" textLength=\"23\" x=\"636.5\" y=\"84.1074\">c: P</text><line style=\"stroke: #A80036; stroke-width: 1.5;\" x1=\"602\" x2=\"668\" y1=\"91.9375\" y2=\"91.9375\"/></a><!--MD5=[2156ba9850f5573cc1fc38a6a4b2f02b]\n",
       "class E7--><a href=\"psysml:79f72fcf-9cc7-42c6-886c-0c2f21f0aaa0\" target=\"_top\" title=\"psysml:79f72fcf-9cc7-42c6-886c-0c2f21f0aaa0\" xlink:actuate=\"onRequest\" xlink:href=\"psysml:79f72fcf-9cc7-42c6-886c-0c2f21f0aaa0\" xlink:show=\"new\" xlink:title=\"psysml:79f72fcf-9cc7-42c6-886c-0c2f21f0aaa0\" xlink:type=\"simple\"><rect fill=\"#FEFECE\" filter=\"url(#f1f316n1vtfye2)\" height=\"45.9375\" id=\"E7\" rx=\"10\" ry=\"10\" style=\"stroke: #A80036; stroke-width: 1.5;\" width=\"68\" x=\"498\" y=\"54\"/><ellipse cx=\"513\" cy=\"72.9688\" fill=\"#32CD32\" rx=\"11\" ry=\"11\" style=\"stroke: #A80036; stroke-width: 1.0;\"/><path d=\"M509.8125,77.9688 L509.8125,67.375 L513.4219,67.375 Q514.6406,67.375 515.4375,67.8125 Q516.2344,68.2344 516.6094,68.9375 Q517,69.6406 517,70.4844 Q517,71.3281 516.625,72.0156 Q516.2656,72.7031 515.4688,73.125 Q514.6875,73.5313 513.5,73.5313 L511.7656,73.5313 L511.7656,77.9688 L509.8125,77.9688 Z M511.7656,71.9375 L513.375,71.9375 Q514.1875,71.9375 514.6094,71.5313 Q515.0313,71.125 515.0313,70.4844 Q515.0313,69.8594 514.6094,69.4531 Q514.1875,69.0469 513.3906,69.0469 L511.7656,69.0469 L511.7656,71.9375 Z \"/><text fill=\"#000000\" font-family=\"sans-serif\" font-size=\"12\" font-style=\"italic\" lengthAdjust=\"spacingAndGlyphs\" textLength=\"40\" x=\"525\" y=\"70.1387\">«part»</text><text fill=\"#000000\" font-family=\"sans-serif\" font-size=\"12\" lengthAdjust=\"spacingAndGlyphs\" textLength=\"8\" x=\"541\" y=\"84.1074\">d</text><line style=\"stroke: #A80036; stroke-width: 1.5;\" x1=\"499\" x2=\"565\" y1=\"91.9375\" y2=\"91.9375\"/></a><!--MD5=[b9389687b975829384b498ac4b7476b2]\n",
       "class E8--><a href=\"psysml:7ad65eee-258f-4156-b8ec-39b80665cdbc\" target=\"_top\" title=\"psysml:7ad65eee-258f-4156-b8ec-39b80665cdbc\" xlink:actuate=\"onRequest\" xlink:href=\"psysml:7ad65eee-258f-4156-b8ec-39b80665cdbc\" xlink:show=\"new\" xlink:title=\"psysml:7ad65eee-258f-4156-b8ec-39b80665cdbc\" xlink:type=\"simple\"><rect fill=\"#FEFECE\" filter=\"url(#f1f316n1vtfye2)\" height=\"45.9375\" id=\"E8\" rx=\"10\" ry=\"10\" style=\"stroke: #A80036; stroke-width: 1.5;\" width=\"68\" x=\"395\" y=\"54\"/><ellipse cx=\"410\" cy=\"72.9688\" fill=\"#32CD32\" rx=\"11\" ry=\"11\" style=\"stroke: #A80036; stroke-width: 1.0;\"/><path d=\"M406.8125,77.9688 L406.8125,67.375 L410.4219,67.375 Q411.6406,67.375 412.4375,67.8125 Q413.2344,68.2344 413.6094,68.9375 Q414,69.6406 414,70.4844 Q414,71.3281 413.625,72.0156 Q413.2656,72.7031 412.4688,73.125 Q411.6875,73.5313 410.5,73.5313 L408.7656,73.5313 L408.7656,77.9688 L406.8125,77.9688 Z M408.7656,71.9375 L410.375,71.9375 Q411.1875,71.9375 411.6094,71.5313 Q412.0313,71.125 412.0313,70.4844 Q412.0313,69.8594 411.6094,69.4531 Q411.1875,69.0469 410.3906,69.0469 L408.7656,69.0469 L408.7656,71.9375 Z \"/><text fill=\"#000000\" font-family=\"sans-serif\" font-size=\"12\" font-style=\"italic\" lengthAdjust=\"spacingAndGlyphs\" textLength=\"40\" x=\"422\" y=\"70.1387\">«part»</text><text fill=\"#000000\" font-family=\"sans-serif\" font-size=\"12\" lengthAdjust=\"spacingAndGlyphs\" textLength=\"8\" x=\"438\" y=\"84.1074\">e</text><line style=\"stroke: #A80036; stroke-width: 1.5;\" x1=\"396\" x2=\"462\" y1=\"91.9375\" y2=\"91.9375\"/></a><!--MD5=[fd4143e9d270a159db93a4ea2a975926]\n",
       "class E9--><a href=\"psysml:20b1d46d-edcb-44c0-8591-3bffd604b97a\" target=\"_top\" title=\"psysml:20b1d46d-edcb-44c0-8591-3bffd604b97a\" xlink:actuate=\"onRequest\" xlink:href=\"psysml:20b1d46d-edcb-44c0-8591-3bffd604b97a\" xlink:show=\"new\" xlink:title=\"psysml:20b1d46d-edcb-44c0-8591-3bffd604b97a\" xlink:type=\"simple\"><rect fill=\"#FEFECE\" filter=\"url(#f1f316n1vtfye2)\" height=\"45.9375\" id=\"E9\" rx=\"10\" ry=\"10\" style=\"stroke: #A80036; stroke-width: 1.5;\" width=\"68\" x=\"292\" y=\"54\"/><ellipse cx=\"307\" cy=\"72.9688\" fill=\"#32CD32\" rx=\"11\" ry=\"11\" style=\"stroke: #A80036; stroke-width: 1.0;\"/><path d=\"M303.8125,77.9688 L303.8125,67.375 L307.4219,67.375 Q308.6406,67.375 309.4375,67.8125 Q310.2344,68.2344 310.6094,68.9375 Q311,69.6406 311,70.4844 Q311,71.3281 310.625,72.0156 Q310.2656,72.7031 309.4688,73.125 Q308.6875,73.5313 307.5,73.5313 L305.7656,73.5313 L305.7656,77.9688 L303.8125,77.9688 Z M305.7656,71.9375 L307.375,71.9375 Q308.1875,71.9375 308.6094,71.5313 Q309.0313,71.125 309.0313,70.4844 Q309.0313,69.8594 308.6094,69.4531 Q308.1875,69.0469 307.3906,69.0469 L305.7656,69.0469 L305.7656,71.9375 Z \"/><text fill=\"#000000\" font-family=\"sans-serif\" font-size=\"12\" font-style=\"italic\" lengthAdjust=\"spacingAndGlyphs\" textLength=\"40\" x=\"319\" y=\"70.1387\">«part»</text><text fill=\"#000000\" font-family=\"sans-serif\" font-size=\"12\" lengthAdjust=\"spacingAndGlyphs\" textLength=\"4\" x=\"337\" y=\"84.1074\">f</text><line style=\"stroke: #A80036; stroke-width: 1.5;\" x1=\"293\" x2=\"359\" y1=\"91.9375\" y2=\"91.9375\"/></a><!--MD5=[96f4274e9e20536e775497830990834d]\n",
       "class E10--><a href=\"psysml:25d96323-353d-45e6-96c8-f6353f2a6c2d\" target=\"_top\" title=\"psysml:25d96323-353d-45e6-96c8-f6353f2a6c2d\" xlink:actuate=\"onRequest\" xlink:href=\"psysml:25d96323-353d-45e6-96c8-f6353f2a6c2d\" xlink:show=\"new\" xlink:title=\"psysml:25d96323-353d-45e6-96c8-f6353f2a6c2d\" xlink:type=\"simple\"><rect fill=\"#FEFECE\" filter=\"url(#f1f316n1vtfye2)\" height=\"45.9375\" id=\"E10\" rx=\"10\" ry=\"10\" style=\"stroke: #A80036; stroke-width: 1.5;\" width=\"68\" x=\"189\" y=\"54\"/><ellipse cx=\"204\" cy=\"72.9688\" fill=\"#32CD32\" rx=\"11\" ry=\"11\" style=\"stroke: #A80036; stroke-width: 1.0;\"/><path d=\"M200.8125,77.9688 L200.8125,67.375 L204.4219,67.375 Q205.6406,67.375 206.4375,67.8125 Q207.2344,68.2344 207.6094,68.9375 Q208,69.6406 208,70.4844 Q208,71.3281 207.625,72.0156 Q207.2656,72.7031 206.4688,73.125 Q205.6875,73.5313 204.5,73.5313 L202.7656,73.5313 L202.7656,77.9688 L200.8125,77.9688 Z M202.7656,71.9375 L204.375,71.9375 Q205.1875,71.9375 205.6094,71.5313 Q206.0313,71.125 206.0313,70.4844 Q206.0313,69.8594 205.6094,69.4531 Q205.1875,69.0469 204.3906,69.0469 L202.7656,69.0469 L202.7656,71.9375 Z \"/><text fill=\"#000000\" font-family=\"sans-serif\" font-size=\"12\" font-style=\"italic\" lengthAdjust=\"spacingAndGlyphs\" textLength=\"40\" x=\"216\" y=\"70.1387\">«part»</text><text fill=\"#000000\" font-family=\"sans-serif\" font-size=\"12\" lengthAdjust=\"spacingAndGlyphs\" textLength=\"8\" x=\"232\" y=\"84.1074\">g</text><line style=\"stroke: #A80036; stroke-width: 1.5;\" x1=\"190\" x2=\"256\" y1=\"91.9375\" y2=\"91.9375\"/></a><!--MD5=[1dd1bfd58a279cf63c5f349dbc8fc6a1]\n",
       "class E11--><a href=\"psysml:05fe5b10-94f9-4e9a-a85e-b113c36136a8\" target=\"_top\" title=\"psysml:05fe5b10-94f9-4e9a-a85e-b113c36136a8\" xlink:actuate=\"onRequest\" xlink:href=\"psysml:05fe5b10-94f9-4e9a-a85e-b113c36136a8\" xlink:show=\"new\" xlink:title=\"psysml:05fe5b10-94f9-4e9a-a85e-b113c36136a8\" xlink:type=\"simple\"><rect fill=\"#FEFECE\" filter=\"url(#f1f316n1vtfye2)\" height=\"71.5469\" id=\"E11\" style=\"stroke: #A80036; stroke-width: 1.5;\" width=\"121\" x=\"32.5\" y=\"41\"/><ellipse cx=\"47.5\" cy=\"59.9688\" fill=\"#A52A2A\" rx=\"11\" ry=\"11\" style=\"stroke: #A80036; stroke-width: 1.0;\"/><path d=\"M44.7188,64.9688 L44.7188,54.375 L47.4531,54.375 Q48.8438,54.375 49.6094,54.7656 Q50.3906,55.1406 50.9219,55.8438 Q51.4531,56.5469 51.75,57.5469 Q52.0469,58.5313 52.0469,59.75 Q52,61.3438 51.5,62.5313 Q51.0156,63.7031 49.9688,64.3438 Q48.9375,64.9688 47.25,64.9688 L44.7188,64.9688 Z M46.5781,63.4688 L47.2031,63.4688 Q48.2813,63.4688 48.9375,63.0156 Q49.5938,62.5625 49.875,61.7344 Q50.1719,60.8906 50.1563,59.7656 Q50.1563,58.5938 49.9063,57.7344 Q49.6563,56.8594 49.0469,56.3906 Q48.4375,55.9063 47.3906,55.9063 L46.5781,55.9063 L46.5781,63.4688 Z \"/><text fill=\"#000000\" font-family=\"sans-serif\" font-size=\"12\" font-style=\"italic\" lengthAdjust=\"spacingAndGlyphs\" textLength=\"93\" x=\"59.5\" y=\"57.1387\">«attribute def»</text><text fill=\"#000000\" font-family=\"sans-serif\" font-size=\"12\" lengthAdjust=\"spacingAndGlyphs\" textLength=\"8\" x=\"102\" y=\"71.1074\">A</text><line style=\"stroke: #A80036; stroke-width: 1.5;\" x1=\"33.5\" x2=\"152.5\" y1=\"78.9375\" y2=\"78.9375\"/><text fill=\"#000000\" font-family=\"sans-serif\" font-size=\"11\" lengthAdjust=\"spacingAndGlyphs\" textLength=\"51\" x=\"38.5\" y=\"93.1479\">i: Integer</text><text fill=\"#000000\" font-family=\"sans-serif\" font-size=\"11\" lengthAdjust=\"spacingAndGlyphs\" textLength=\"21\" x=\"38.5\" y=\"105.9526\">x: A</text></a><!--MD5=[15ebcb19ae302d9b601edb458606d402]\n",
       "link E5 to E2--><a href=\"psysml:b71e192f-5f45-432d-9454-4642818dbb88\" target=\"_top\" title=\"psysml:b71e192f-5f45-432d-9454-4642818dbb88\" xlink:actuate=\"onRequest\" xlink:href=\"psysml:b71e192f-5f45-432d-9454-4642818dbb88\" xlink:show=\"new\" xlink:title=\"psysml:b71e192f-5f45-432d-9454-4642818dbb88\" xlink:type=\"simple\"><path d=\"M727.85,100.25 C720.81,115.68 711.27,136.61 703.07,154.58 \" fill=\"none\" id=\"E5-&gt;E2\" style=\"stroke: #A80036; stroke-width: 1.0;\"/><polygon fill=\"#FFFFFF\" points=\"694.74,172.84,696.2548,152.6483,708.9927,158.4573,694.74,172.84\" style=\"stroke: #A80036; stroke-width: 1.0;\"/><ellipse cx=\"700.4396\" cy=\"148.292\" fill=\"#A80036\" rx=\"2\" ry=\"2\" style=\"stroke: #A80036; stroke-width: 1.0;\"/><ellipse cx=\"709.5381\" cy=\"152.4413\" fill=\"#A80036\" rx=\"2\" ry=\"2\" style=\"stroke: #A80036; stroke-width: 1.0;\"/></a><!--MD5=[2351f337d6de0f557b50152ba70847b5]\n",
       "link E6 to E2--><a href=\"psysml:173d30e4-d568-4354-a9e9-bb0668964c70\" target=\"_top\" title=\"psysml:173d30e4-d568-4354-a9e9-bb0668964c70\" xlink:actuate=\"onRequest\" xlink:href=\"psysml:173d30e4-d568-4354-a9e9-bb0668964c70\" xlink:show=\"new\" xlink:title=\"psysml:173d30e4-d568-4354-a9e9-bb0668964c70\" xlink:type=\"simple\"><path d=\"M644.95,100.25 C651.86,115.68 661.22,136.61 669.26,154.58 \" fill=\"none\" id=\"E6-&gt;E2\" style=\"stroke: #A80036; stroke-width: 1.0;\"/><polygon fill=\"#FFFFFF\" points=\"677.43,172.84,663.2788,158.3574,676.0573,152.6381,677.43,172.84\" style=\"stroke: #A80036; stroke-width: 1.0;\"/><ellipse cx=\"662.7757\" cy=\"152.3377\" fill=\"#A80036\" rx=\"2\" ry=\"2\" style=\"stroke: #A80036; stroke-width: 1.0;\"/><ellipse cx=\"671.9032\" cy=\"148.2525\" fill=\"#A80036\" rx=\"2\" ry=\"2\" style=\"stroke: #A80036; stroke-width: 1.0;\"/></a><!--MD5=[38901ff608268a8526ca0d983ff29efb]\n",
       "@startuml\r\n",
       " \r\n",
       "package \"MultiplicityTest\" as E1  [[psysml:c0f24ad0-fe84-484c-92fb-1b0594d1e479 ]]  {\r\n",
       "comp def \"P\" as E2 << << (B,green) >> [[psysml:987e5bc7-b02a-416d-86c6-8545bfa90ef5 ]] {\r\n",
       "}\r\n",
       "comp usage \"n: Integer\" as E3 << <<(U,orange) attribute>> [[psysml:7c23d281-2047-4d33-b5ff-31ab75cdc741 ]] {\r\n",
       "}\r\n",
       "comp usage \"a\" as E4 << << (P,limegreen) part>> [[psysml:dbbeb80c-41d4-4e5a-ae6b-125fea141b81 ]] {\r\n",
       "}\r\n",
       "comp usage \"b: P\" as E5 << << (P,limegreen) part>> [[psysml:1044b725-5886-488e-a280-d65b06b2678d ]] {\r\n",
       "}\r\n",
       "comp usage \"c: P\" as E6 << << (P,limegreen) part>> [[psysml:7163cac6-f89e-4c84-b72c-82ccdb232dd2 ]] {\r\n",
       "}\r\n",
       "comp usage \"d\" as E7 << << (P,limegreen) part>> [[psysml:79f72fcf-9cc7-42c6-886c-0c2f21f0aaa0 ]] {\r\n",
       "}\r\n",
       "comp usage \"e\" as E8 << << (P,limegreen) part>> [[psysml:7ad65eee-258f-4156-b8ec-39b80665cdbc ]] {\r\n",
       "}\r\n",
       "comp usage \"f\" as E9 << << (P,limegreen) part>> [[psysml:20b1d46d-edcb-44c0-8591-3bffd604b97a ]] {\r\n",
       "}\r\n",
       "comp usage \"g\" as E10 << << (P,limegreen) part>> [[psysml:25d96323-353d-45e6-96c8-f6353f2a6c2d ]] {\r\n",
       "}\r\n",
       "comp def \"A\" as E11 << <<(D,brown) attribute def>> [[psysml:05fe5b10-94f9-4e9a-a85e-b113c36136a8 ]] {\r\n",
       "i: Integer\r\n",
       "x: A\r\n",
       "}\r\n",
       "}\r\n",
       "E5 - -:|> E2 [[psysml:b71e192f-5f45-432d-9454-4642818dbb88 ]] \r\n",
       "E6 - -:|> E2 [[psysml:173d30e4-d568-4354-a9e9-bb0668964c70 ]] \r\n",
       "@enduml\r\n",
       "\n",
       "PlantUML version 1.2020.13(Sat Jun 13 12:26:38 UTC 2020)\n",
       "(EPL source distribution)\n",
       "Java Runtime: OpenJDK Runtime Environment\n",
       "JVM: OpenJDK 64-Bit Server VM\n",
       "Default Encoding: UTF-8\n",
       "Language: en\n",
       "Country: null\n",
       "--></g></svg>"
      ]
     },
     "execution_count": 36,
     "metadata": {},
     "output_type": "execute_result"
    }
   ],
   "source": [
    "%viz --style=\"PLANTUML\" --view=\"MIXED\" \"MultiplicityTest\""
   ]
  },
  {
   "cell_type": "code",
   "execution_count": 37,
   "id": "ee6f1e9f",
   "metadata": {
    "execution": {
     "iopub.execute_input": "2021-09-27T07:19:19.510146Z",
     "iopub.status.busy": "2021-09-27T07:19:19.509741Z",
     "iopub.status.idle": "2021-09-27T07:19:19.567146Z",
     "shell.execute_reply": "2021-09-27T07:19:19.566792Z"
    }
   },
   "outputs": [
    {
     "data": {
      "image/svg+xml": [
       "<?xml version=\"1.0\" encoding=\"UTF-8\" standalone=\"no\"?><svg xmlns=\"http://www.w3.org/2000/svg\" xmlns:xlink=\"http://www.w3.org/1999/xlink\" contentScriptType=\"application/ecmascript\" contentStyleType=\"text/css\" height=\"263px\" preserveAspectRatio=\"none\" style=\"width:812px;height:263px;\" version=\"1.1\" viewBox=\"0 0 812 263\" width=\"812px\" zoomAndPan=\"magnify\"><defs/><g><!--MD5=[fbc87193dbaf4d95561dea2c320d4a47]\n",
       "cluster E1--><a href=\"psysml:c0f24ad0-fe84-484c-92fb-1b0594d1e479\" target=\"_top\" title=\"psysml:c0f24ad0-fe84-484c-92fb-1b0594d1e479\" xlink:actuate=\"onRequest\" xlink:href=\"psysml:c0f24ad0-fe84-484c-92fb-1b0594d1e479\" xlink:show=\"new\" xlink:title=\"psysml:c0f24ad0-fe84-484c-92fb-1b0594d1e479\" xlink:type=\"simple\"><polygon fill=\"#FFFFFF\" points=\"16,6,123,6,130,28.2969,790,28.2969,790,251,16,251,16,6\" style=\"stroke: #000000; stroke-width: 1.5;\"/><line style=\"stroke: #000000; stroke-width: 1.5;\" x1=\"16\" x2=\"130\" y1=\"28.2969\" y2=\"28.2969\"/><text fill=\"#000000\" font-family=\"sans-serif\" font-size=\"14\" font-weight=\"bold\" lengthAdjust=\"spacingAndGlyphs\" textLength=\"101\" x=\"20\" y=\"20.9951\">MultiplicityTest</text></a><!--MD5=[b4997ac47864f28c2f74865a473b2911]\n",
       "class E2--><a href=\"psysml:987e5bc7-b02a-416d-86c6-8545bfa90ef5\" target=\"_top\" title=\"psysml:987e5bc7-b02a-416d-86c6-8545bfa90ef5\" xlink:actuate=\"onRequest\" xlink:href=\"psysml:987e5bc7-b02a-416d-86c6-8545bfa90ef5\" xlink:show=\"new\" xlink:title=\"psysml:987e5bc7-b02a-416d-86c6-8545bfa90ef5\" xlink:type=\"simple\"><rect fill=\"#FFFFFF\" height=\"45.9375\" id=\"E2\" style=\"stroke: #383838; stroke-width: 1.5;\" width=\"66\" x=\"497\" y=\"189\"/><text fill=\"#000000\" font-family=\"sans-serif\" font-size=\"12\" font-style=\"italic\" lengthAdjust=\"spacingAndGlyphs\" textLength=\"64\" x=\"498\" y=\"205.1387\">«part def»</text><text fill=\"#000000\" font-family=\"sans-serif\" font-size=\"12\" lengthAdjust=\"spacingAndGlyphs\" textLength=\"8\" x=\"526\" y=\"219.1074\">P</text><line style=\"stroke: #383838; stroke-width: 1.5;\" x1=\"498\" x2=\"562\" y1=\"226.9375\" y2=\"226.9375\"/></a><!--MD5=[09b614a08d8cba4a07c9adeb5e0fee81]\n",
       "class E3--><a href=\"psysml:7c23d281-2047-4d33-b5ff-31ab75cdc741\" target=\"_top\" title=\"psysml:7c23d281-2047-4d33-b5ff-31ab75cdc741\" xlink:actuate=\"onRequest\" xlink:href=\"psysml:7c23d281-2047-4d33-b5ff-31ab75cdc741\" xlink:show=\"new\" xlink:title=\"psysml:7c23d281-2047-4d33-b5ff-31ab75cdc741\" xlink:type=\"simple\"><rect fill=\"#FFFFFF\" height=\"45.9375\" id=\"E3\" rx=\"10\" ry=\"10\" style=\"stroke: #383838; stroke-width: 1.5;\" width=\"71\" x=\"702.5\" y=\"62\"/><text fill=\"#000000\" font-family=\"sans-serif\" font-size=\"12\" font-style=\"italic\" lengthAdjust=\"spacingAndGlyphs\" textLength=\"69\" x=\"703.5\" y=\"78.1387\">«attribute»</text><text fill=\"#000000\" font-family=\"sans-serif\" font-size=\"12\" lengthAdjust=\"spacingAndGlyphs\" textLength=\"61\" x=\"707.5\" y=\"92.1074\">n: Integer</text><line style=\"stroke: #383838; stroke-width: 1.5;\" x1=\"703.5\" x2=\"772.5\" y1=\"99.9375\" y2=\"99.9375\"/></a><!--MD5=[ebbe1d658d1005bcc118a6aa81145e00]\n",
       "class E4--><a href=\"psysml:dbbeb80c-41d4-4e5a-ae6b-125fea141b81\" target=\"_top\" title=\"psysml:dbbeb80c-41d4-4e5a-ae6b-125fea141b81\" xlink:actuate=\"onRequest\" xlink:href=\"psysml:dbbeb80c-41d4-4e5a-ae6b-125fea141b81\" xlink:show=\"new\" xlink:title=\"psysml:dbbeb80c-41d4-4e5a-ae6b-125fea141b81\" xlink:type=\"simple\"><rect fill=\"#FFFFFF\" height=\"45.9375\" id=\"E4\" rx=\"10\" ry=\"10\" style=\"stroke: #383838; stroke-width: 1.5;\" width=\"42\" x=\"625\" y=\"62\"/><text fill=\"#000000\" font-family=\"sans-serif\" font-size=\"12\" font-style=\"italic\" lengthAdjust=\"spacingAndGlyphs\" textLength=\"40\" x=\"626\" y=\"78.1387\">«part»</text><text fill=\"#000000\" font-family=\"sans-serif\" font-size=\"12\" lengthAdjust=\"spacingAndGlyphs\" textLength=\"8\" x=\"642\" y=\"92.1074\">a</text><line style=\"stroke: #383838; stroke-width: 1.5;\" x1=\"626\" x2=\"666\" y1=\"99.9375\" y2=\"99.9375\"/></a><!--MD5=[270fce915f116d4de14055a7c1d9a0f3]\n",
       "class E5--><a href=\"psysml:1044b725-5886-488e-a280-d65b06b2678d\" target=\"_top\" title=\"psysml:1044b725-5886-488e-a280-d65b06b2678d\" xlink:actuate=\"onRequest\" xlink:href=\"psysml:1044b725-5886-488e-a280-d65b06b2678d\" xlink:show=\"new\" xlink:title=\"psysml:1044b725-5886-488e-a280-d65b06b2678d\" xlink:type=\"simple\"><rect fill=\"#FFFFFF\" height=\"45.9375\" id=\"E5\" rx=\"10\" ry=\"10\" style=\"stroke: #383838; stroke-width: 1.5;\" width=\"42\" x=\"548\" y=\"62\"/><text fill=\"#000000\" font-family=\"sans-serif\" font-size=\"12\" font-style=\"italic\" lengthAdjust=\"spacingAndGlyphs\" textLength=\"40\" x=\"549\" y=\"78.1387\">«part»</text><text fill=\"#000000\" font-family=\"sans-serif\" font-size=\"12\" lengthAdjust=\"spacingAndGlyphs\" textLength=\"24\" x=\"557\" y=\"92.1074\">b: P</text><line style=\"stroke: #383838; stroke-width: 1.5;\" x1=\"549\" x2=\"589\" y1=\"99.9375\" y2=\"99.9375\"/></a><!--MD5=[60a26617385b1d2d0262a64233df1f8d]\n",
       "class E6--><a href=\"psysml:7163cac6-f89e-4c84-b72c-82ccdb232dd2\" target=\"_top\" title=\"psysml:7163cac6-f89e-4c84-b72c-82ccdb232dd2\" xlink:actuate=\"onRequest\" xlink:href=\"psysml:7163cac6-f89e-4c84-b72c-82ccdb232dd2\" xlink:show=\"new\" xlink:title=\"psysml:7163cac6-f89e-4c84-b72c-82ccdb232dd2\" xlink:type=\"simple\"><rect fill=\"#FFFFFF\" height=\"45.9375\" id=\"E6\" rx=\"10\" ry=\"10\" style=\"stroke: #383838; stroke-width: 1.5;\" width=\"42\" x=\"471\" y=\"62\"/><text fill=\"#000000\" font-family=\"sans-serif\" font-size=\"12\" font-style=\"italic\" lengthAdjust=\"spacingAndGlyphs\" textLength=\"40\" x=\"472\" y=\"78.1387\">«part»</text><text fill=\"#000000\" font-family=\"sans-serif\" font-size=\"12\" lengthAdjust=\"spacingAndGlyphs\" textLength=\"23\" x=\"480.5\" y=\"92.1074\">c: P</text><line style=\"stroke: #383838; stroke-width: 1.5;\" x1=\"472\" x2=\"512\" y1=\"99.9375\" y2=\"99.9375\"/></a><!--MD5=[2156ba9850f5573cc1fc38a6a4b2f02b]\n",
       "class E7--><a href=\"psysml:79f72fcf-9cc7-42c6-886c-0c2f21f0aaa0\" target=\"_top\" title=\"psysml:79f72fcf-9cc7-42c6-886c-0c2f21f0aaa0\" xlink:actuate=\"onRequest\" xlink:href=\"psysml:79f72fcf-9cc7-42c6-886c-0c2f21f0aaa0\" xlink:show=\"new\" xlink:title=\"psysml:79f72fcf-9cc7-42c6-886c-0c2f21f0aaa0\" xlink:type=\"simple\"><rect fill=\"#FFFFFF\" height=\"45.9375\" id=\"E7\" rx=\"10\" ry=\"10\" style=\"stroke: #383838; stroke-width: 1.5;\" width=\"42\" x=\"394\" y=\"62\"/><text fill=\"#000000\" font-family=\"sans-serif\" font-size=\"12\" font-style=\"italic\" lengthAdjust=\"spacingAndGlyphs\" textLength=\"40\" x=\"395\" y=\"78.1387\">«part»</text><text fill=\"#000000\" font-family=\"sans-serif\" font-size=\"12\" lengthAdjust=\"spacingAndGlyphs\" textLength=\"8\" x=\"411\" y=\"92.1074\">d</text><line style=\"stroke: #383838; stroke-width: 1.5;\" x1=\"395\" x2=\"435\" y1=\"99.9375\" y2=\"99.9375\"/></a><!--MD5=[b9389687b975829384b498ac4b7476b2]\n",
       "class E8--><a href=\"psysml:7ad65eee-258f-4156-b8ec-39b80665cdbc\" target=\"_top\" title=\"psysml:7ad65eee-258f-4156-b8ec-39b80665cdbc\" xlink:actuate=\"onRequest\" xlink:href=\"psysml:7ad65eee-258f-4156-b8ec-39b80665cdbc\" xlink:show=\"new\" xlink:title=\"psysml:7ad65eee-258f-4156-b8ec-39b80665cdbc\" xlink:type=\"simple\"><rect fill=\"#FFFFFF\" height=\"45.9375\" id=\"E8\" rx=\"10\" ry=\"10\" style=\"stroke: #383838; stroke-width: 1.5;\" width=\"42\" x=\"317\" y=\"62\"/><text fill=\"#000000\" font-family=\"sans-serif\" font-size=\"12\" font-style=\"italic\" lengthAdjust=\"spacingAndGlyphs\" textLength=\"40\" x=\"318\" y=\"78.1387\">«part»</text><text fill=\"#000000\" font-family=\"sans-serif\" font-size=\"12\" lengthAdjust=\"spacingAndGlyphs\" textLength=\"8\" x=\"334\" y=\"92.1074\">e</text><line style=\"stroke: #383838; stroke-width: 1.5;\" x1=\"318\" x2=\"358\" y1=\"99.9375\" y2=\"99.9375\"/></a><!--MD5=[fd4143e9d270a159db93a4ea2a975926]\n",
       "class E9--><a href=\"psysml:20b1d46d-edcb-44c0-8591-3bffd604b97a\" target=\"_top\" title=\"psysml:20b1d46d-edcb-44c0-8591-3bffd604b97a\" xlink:actuate=\"onRequest\" xlink:href=\"psysml:20b1d46d-edcb-44c0-8591-3bffd604b97a\" xlink:show=\"new\" xlink:title=\"psysml:20b1d46d-edcb-44c0-8591-3bffd604b97a\" xlink:type=\"simple\"><rect fill=\"#FFFFFF\" height=\"45.9375\" id=\"E9\" rx=\"10\" ry=\"10\" style=\"stroke: #383838; stroke-width: 1.5;\" width=\"42\" x=\"240\" y=\"62\"/><text fill=\"#000000\" font-family=\"sans-serif\" font-size=\"12\" font-style=\"italic\" lengthAdjust=\"spacingAndGlyphs\" textLength=\"40\" x=\"241\" y=\"78.1387\">«part»</text><text fill=\"#000000\" font-family=\"sans-serif\" font-size=\"12\" lengthAdjust=\"spacingAndGlyphs\" textLength=\"4\" x=\"259\" y=\"92.1074\">f</text><line style=\"stroke: #383838; stroke-width: 1.5;\" x1=\"241\" x2=\"281\" y1=\"99.9375\" y2=\"99.9375\"/></a><!--MD5=[96f4274e9e20536e775497830990834d]\n",
       "class E10--><a href=\"psysml:25d96323-353d-45e6-96c8-f6353f2a6c2d\" target=\"_top\" title=\"psysml:25d96323-353d-45e6-96c8-f6353f2a6c2d\" xlink:actuate=\"onRequest\" xlink:href=\"psysml:25d96323-353d-45e6-96c8-f6353f2a6c2d\" xlink:show=\"new\" xlink:title=\"psysml:25d96323-353d-45e6-96c8-f6353f2a6c2d\" xlink:type=\"simple\"><rect fill=\"#FFFFFF\" height=\"45.9375\" id=\"E10\" rx=\"10\" ry=\"10\" style=\"stroke: #383838; stroke-width: 1.5;\" width=\"42\" x=\"163\" y=\"62\"/><text fill=\"#000000\" font-family=\"sans-serif\" font-size=\"12\" font-style=\"italic\" lengthAdjust=\"spacingAndGlyphs\" textLength=\"40\" x=\"164\" y=\"78.1387\">«part»</text><text fill=\"#000000\" font-family=\"sans-serif\" font-size=\"12\" lengthAdjust=\"spacingAndGlyphs\" textLength=\"8\" x=\"180\" y=\"92.1074\">g</text><line style=\"stroke: #383838; stroke-width: 1.5;\" x1=\"164\" x2=\"204\" y1=\"99.9375\" y2=\"99.9375\"/></a><!--MD5=[1dd1bfd58a279cf63c5f349dbc8fc6a1]\n",
       "class E11--><a href=\"psysml:05fe5b10-94f9-4e9a-a85e-b113c36136a8\" target=\"_top\" title=\"psysml:05fe5b10-94f9-4e9a-a85e-b113c36136a8\" xlink:actuate=\"onRequest\" xlink:href=\"psysml:05fe5b10-94f9-4e9a-a85e-b113c36136a8\" xlink:show=\"new\" xlink:title=\"psysml:05fe5b10-94f9-4e9a-a85e-b113c36136a8\" xlink:type=\"simple\"><rect fill=\"#FFFFFF\" height=\"88.3516\" id=\"E11\" style=\"stroke: #383838; stroke-width: 1.5;\" width=\"95\" x=\"32.5\" y=\"41\"/><text fill=\"#000000\" font-family=\"sans-serif\" font-size=\"12\" font-style=\"italic\" lengthAdjust=\"spacingAndGlyphs\" textLength=\"93\" x=\"33.5\" y=\"57.1387\">«attribute def»</text><text fill=\"#000000\" font-family=\"sans-serif\" font-size=\"12\" lengthAdjust=\"spacingAndGlyphs\" textLength=\"8\" x=\"76\" y=\"71.1074\">A</text><line style=\"stroke: #383838; stroke-width: 1.5;\" x1=\"33.5\" x2=\"126.5\" y1=\"78.9375\" y2=\"78.9375\"/><text fill=\"#000000\" font-family=\"sans-serif\" font-size=\"11\" lengthAdjust=\"spacingAndGlyphs\" textLength=\"51\" x=\"38.5\" y=\"109.9526\">i: Integer</text><text fill=\"#000000\" font-family=\"sans-serif\" font-size=\"11\" lengthAdjust=\"spacingAndGlyphs\" textLength=\"21\" x=\"38.5\" y=\"122.7573\">x: A</text><line style=\"stroke: #383838; stroke-width: 1.0;\" x1=\"33.5\" x2=\"52.5\" y1=\"93.3398\" y2=\"93.3398\"/><text fill=\"#000000\" font-family=\"sans-serif\" font-size=\"11\" lengthAdjust=\"spacingAndGlyphs\" textLength=\"55\" x=\"52.5\" y=\"96.6479\">attributes</text><line style=\"stroke: #383838; stroke-width: 1.0;\" x1=\"107.5\" x2=\"126.5\" y1=\"93.3398\" y2=\"93.3398\"/></a><!--MD5=[15ebcb19ae302d9b601edb458606d402]\n",
       "link E5 to E2--><a href=\"psysml:b71e192f-5f45-432d-9454-4642818dbb88\" target=\"_top\" title=\"psysml:b71e192f-5f45-432d-9454-4642818dbb88\" xlink:actuate=\"onRequest\" xlink:href=\"psysml:b71e192f-5f45-432d-9454-4642818dbb88\" xlink:show=\"new\" xlink:title=\"psysml:b71e192f-5f45-432d-9454-4642818dbb88\" xlink:type=\"simple\"><path d=\"M562.12,108.06 C556.83,125 549.38,148.89 542.98,169.39 \" fill=\"none\" id=\"E5-&gt;E2\" style=\"stroke: #383838; stroke-width: 1.0;\"/><polygon fill=\"#FFFFFF\" points=\"536.95,188.74,535.929,168.5173,549.2931,172.6886,536.95,188.74\" style=\"stroke: #383838; stroke-width: 1.0;\"/><ellipse cx=\"539.5364\" cy=\"163.6721\" fill=\"#383838\" rx=\"2\" ry=\"2\" style=\"stroke: #383838; stroke-width: 1.0;\"/><ellipse cx=\"549.0823\" cy=\"166.6516\" fill=\"#383838\" rx=\"2\" ry=\"2\" style=\"stroke: #383838; stroke-width: 1.0;\"/></a><!--MD5=[2351f337d6de0f557b50152ba70847b5]\n",
       "link E6 to E2--><a href=\"psysml:173d30e4-d568-4354-a9e9-bb0668964c70\" target=\"_top\" title=\"psysml:173d30e4-d568-4354-a9e9-bb0668964c70\" xlink:actuate=\"onRequest\" xlink:href=\"psysml:173d30e4-d568-4354-a9e9-bb0668964c70\" xlink:show=\"new\" xlink:title=\"psysml:173d30e4-d568-4354-a9e9-bb0668964c70\" xlink:type=\"simple\"><path d=\"M498.71,108.06 C503.86,125 511.12,148.89 517.35,169.39 \" fill=\"none\" id=\"E6-&gt;E2\" style=\"stroke: #383838; stroke-width: 1.0;\"/><polygon fill=\"#FFFFFF\" points=\"523.23,188.74,511.007,172.597,524.4019,168.5255,523.23,188.74\" style=\"stroke: #383838; stroke-width: 1.0;\"/><ellipse cx=\"511.2628\" cy=\"166.5617\" fill=\"#383838\" rx=\"2\" ry=\"2\" style=\"stroke: #383838; stroke-width: 1.0;\"/><ellipse cx=\"520.8306\" cy=\"163.6535\" fill=\"#383838\" rx=\"2\" ry=\"2\" style=\"stroke: #383838; stroke-width: 1.0;\"/></a><!--MD5=[1c3754fb95d3ec34d32208ab2cdb905f]\n",
       "@startuml\r\n",
       "skinparam monochrome true\r\n",
       "skinparam classbackgroundcolor white\r\n",
       "skinparam shadowing false\r\n",
       "skinparam wrapWidth 300\r\n",
       "hide circle\r\n",
       "\r\n",
       "package \"MultiplicityTest\" as E1  [[psysml:c0f24ad0-fe84-484c-92fb-1b0594d1e479 ]]  {\r\n",
       "comp def \"P\" as E2  <<(T,blue) part def>> [[psysml:987e5bc7-b02a-416d-86c6-8545bfa90ef5 ]] {\r\n",
       "}\r\n",
       "comp usage \"n: Integer\" as E3  <<(T,blue) attribute>> [[psysml:7c23d281-2047-4d33-b5ff-31ab75cdc741 ]] {\r\n",
       "}\r\n",
       "comp usage \"a\" as E4  <<(T,blue) part>> [[psysml:dbbeb80c-41d4-4e5a-ae6b-125fea141b81 ]] {\r\n",
       "}\r\n",
       "comp usage \"b: P\" as E5  <<(T,blue) part>> [[psysml:1044b725-5886-488e-a280-d65b06b2678d ]] {\r\n",
       "}\r\n",
       "comp usage \"c: P\" as E6  <<(T,blue) part>> [[psysml:7163cac6-f89e-4c84-b72c-82ccdb232dd2 ]] {\r\n",
       "}\r\n",
       "comp usage \"d\" as E7  <<(T,blue) part>> [[psysml:79f72fcf-9cc7-42c6-886c-0c2f21f0aaa0 ]] {\r\n",
       "}\r\n",
       "comp usage \"e\" as E8  <<(T,blue) part>> [[psysml:7ad65eee-258f-4156-b8ec-39b80665cdbc ]] {\r\n",
       "}\r\n",
       "comp usage \"f\" as E9  <<(T,blue) part>> [[psysml:20b1d46d-edcb-44c0-8591-3bffd604b97a ]] {\r\n",
       "}\r\n",
       "comp usage \"g\" as E10  <<(T,blue) part>> [[psysml:25d96323-353d-45e6-96c8-f6353f2a6c2d ]] {\r\n",
       "}\r\n",
       "comp def \"A\" as E11  <<(T,blue) attribute def>> [[psysml:05fe5b10-94f9-4e9a-a85e-b113c36136a8 ]] {\r\n",
       "- - attributes - -\r\n",
       "i: Integer\r\n",
       "x: A\r\n",
       "}\r\n",
       "}\r\n",
       "E5 - -:|> E2 [[psysml:b71e192f-5f45-432d-9454-4642818dbb88 ]] \r\n",
       "E6 - -:|> E2 [[psysml:173d30e4-d568-4354-a9e9-bb0668964c70 ]] \r\n",
       "@enduml\r\n",
       "\n",
       "PlantUML version 1.2020.13(Sat Jun 13 12:26:38 UTC 2020)\n",
       "(EPL source distribution)\n",
       "Java Runtime: OpenJDK Runtime Environment\n",
       "JVM: OpenJDK 64-Bit Server VM\n",
       "Default Encoding: UTF-8\n",
       "Language: en\n",
       "Country: null\n",
       "--></g></svg>"
      ]
     },
     "execution_count": 37,
     "metadata": {},
     "output_type": "execute_result"
    }
   ],
   "source": [
    "%viz --style=\"DEFAULT\" --view=\"Default\" \"MultiplicityTest\""
   ]
  },
  {
   "cell_type": "code",
   "execution_count": 38,
   "id": "79d9bb4c",
   "metadata": {
    "execution": {
     "iopub.execute_input": "2021-09-27T07:19:19.617179Z",
     "iopub.status.busy": "2021-09-27T07:19:19.616756Z",
     "iopub.status.idle": "2021-09-27T07:19:19.672243Z",
     "shell.execute_reply": "2021-09-27T07:19:19.671886Z"
    }
   },
   "outputs": [
    {
     "data": {
      "image/svg+xml": [
       "<?xml version=\"1.0\" encoding=\"UTF-8\" standalone=\"no\"?><svg xmlns=\"http://www.w3.org/2000/svg\" xmlns:xlink=\"http://www.w3.org/1999/xlink\" contentScriptType=\"application/ecmascript\" contentStyleType=\"text/css\" height=\"263px\" preserveAspectRatio=\"none\" style=\"width:812px;height:263px;\" version=\"1.1\" viewBox=\"0 0 812 263\" width=\"812px\" zoomAndPan=\"magnify\"><defs/><g><!--MD5=[fbc87193dbaf4d95561dea2c320d4a47]\n",
       "cluster E1--><a href=\"psysml:c0f24ad0-fe84-484c-92fb-1b0594d1e479\" target=\"_top\" title=\"psysml:c0f24ad0-fe84-484c-92fb-1b0594d1e479\" xlink:actuate=\"onRequest\" xlink:href=\"psysml:c0f24ad0-fe84-484c-92fb-1b0594d1e479\" xlink:show=\"new\" xlink:title=\"psysml:c0f24ad0-fe84-484c-92fb-1b0594d1e479\" xlink:type=\"simple\"><polygon fill=\"#FFFFFF\" points=\"16,6,123,6,130,28.2969,790,28.2969,790,251,16,251,16,6\" style=\"stroke: #000000; stroke-width: 1.5;\"/><line style=\"stroke: #000000; stroke-width: 1.5;\" x1=\"16\" x2=\"130\" y1=\"28.2969\" y2=\"28.2969\"/><text fill=\"#000000\" font-family=\"sans-serif\" font-size=\"14\" font-weight=\"bold\" lengthAdjust=\"spacingAndGlyphs\" textLength=\"101\" x=\"20\" y=\"20.9951\">MultiplicityTest</text></a><!--MD5=[b4997ac47864f28c2f74865a473b2911]\n",
       "class E2--><a href=\"psysml:987e5bc7-b02a-416d-86c6-8545bfa90ef5\" target=\"_top\" title=\"psysml:987e5bc7-b02a-416d-86c6-8545bfa90ef5\" xlink:actuate=\"onRequest\" xlink:href=\"psysml:987e5bc7-b02a-416d-86c6-8545bfa90ef5\" xlink:show=\"new\" xlink:title=\"psysml:987e5bc7-b02a-416d-86c6-8545bfa90ef5\" xlink:type=\"simple\"><rect fill=\"#FFFFFF\" height=\"45.9375\" id=\"E2\" style=\"stroke: #383838; stroke-width: 1.5;\" width=\"66\" x=\"497\" y=\"189\"/><text fill=\"#000000\" font-family=\"sans-serif\" font-size=\"12\" font-style=\"italic\" lengthAdjust=\"spacingAndGlyphs\" textLength=\"64\" x=\"498\" y=\"205.1387\">«part def»</text><text fill=\"#000000\" font-family=\"sans-serif\" font-size=\"12\" lengthAdjust=\"spacingAndGlyphs\" textLength=\"8\" x=\"526\" y=\"219.1074\">P</text><line style=\"stroke: #383838; stroke-width: 1.5;\" x1=\"498\" x2=\"562\" y1=\"226.9375\" y2=\"226.9375\"/></a><!--MD5=[09b614a08d8cba4a07c9adeb5e0fee81]\n",
       "class E3--><a href=\"psysml:7c23d281-2047-4d33-b5ff-31ab75cdc741\" target=\"_top\" title=\"psysml:7c23d281-2047-4d33-b5ff-31ab75cdc741\" xlink:actuate=\"onRequest\" xlink:href=\"psysml:7c23d281-2047-4d33-b5ff-31ab75cdc741\" xlink:show=\"new\" xlink:title=\"psysml:7c23d281-2047-4d33-b5ff-31ab75cdc741\" xlink:type=\"simple\"><rect fill=\"#FFFFFF\" height=\"45.9375\" id=\"E3\" rx=\"10\" ry=\"10\" style=\"stroke: #383838; stroke-width: 1.5;\" width=\"71\" x=\"702.5\" y=\"62\"/><text fill=\"#000000\" font-family=\"sans-serif\" font-size=\"12\" font-style=\"italic\" lengthAdjust=\"spacingAndGlyphs\" textLength=\"69\" x=\"703.5\" y=\"78.1387\">«attribute»</text><text fill=\"#000000\" font-family=\"sans-serif\" font-size=\"12\" lengthAdjust=\"spacingAndGlyphs\" textLength=\"61\" x=\"707.5\" y=\"92.1074\">n: Integer</text><line style=\"stroke: #383838; stroke-width: 1.5;\" x1=\"703.5\" x2=\"772.5\" y1=\"99.9375\" y2=\"99.9375\"/></a><!--MD5=[ebbe1d658d1005bcc118a6aa81145e00]\n",
       "class E4--><a href=\"psysml:dbbeb80c-41d4-4e5a-ae6b-125fea141b81\" target=\"_top\" title=\"psysml:dbbeb80c-41d4-4e5a-ae6b-125fea141b81\" xlink:actuate=\"onRequest\" xlink:href=\"psysml:dbbeb80c-41d4-4e5a-ae6b-125fea141b81\" xlink:show=\"new\" xlink:title=\"psysml:dbbeb80c-41d4-4e5a-ae6b-125fea141b81\" xlink:type=\"simple\"><rect fill=\"#FFFFFF\" height=\"45.9375\" id=\"E4\" rx=\"10\" ry=\"10\" style=\"stroke: #383838; stroke-width: 1.5;\" width=\"42\" x=\"625\" y=\"62\"/><text fill=\"#000000\" font-family=\"sans-serif\" font-size=\"12\" font-style=\"italic\" lengthAdjust=\"spacingAndGlyphs\" textLength=\"40\" x=\"626\" y=\"78.1387\">«part»</text><text fill=\"#000000\" font-family=\"sans-serif\" font-size=\"12\" lengthAdjust=\"spacingAndGlyphs\" textLength=\"8\" x=\"642\" y=\"92.1074\">a</text><line style=\"stroke: #383838; stroke-width: 1.5;\" x1=\"626\" x2=\"666\" y1=\"99.9375\" y2=\"99.9375\"/></a><!--MD5=[270fce915f116d4de14055a7c1d9a0f3]\n",
       "class E5--><a href=\"psysml:1044b725-5886-488e-a280-d65b06b2678d\" target=\"_top\" title=\"psysml:1044b725-5886-488e-a280-d65b06b2678d\" xlink:actuate=\"onRequest\" xlink:href=\"psysml:1044b725-5886-488e-a280-d65b06b2678d\" xlink:show=\"new\" xlink:title=\"psysml:1044b725-5886-488e-a280-d65b06b2678d\" xlink:type=\"simple\"><rect fill=\"#FFFFFF\" height=\"45.9375\" id=\"E5\" rx=\"10\" ry=\"10\" style=\"stroke: #383838; stroke-width: 1.5;\" width=\"42\" x=\"548\" y=\"62\"/><text fill=\"#000000\" font-family=\"sans-serif\" font-size=\"12\" font-style=\"italic\" lengthAdjust=\"spacingAndGlyphs\" textLength=\"40\" x=\"549\" y=\"78.1387\">«part»</text><text fill=\"#000000\" font-family=\"sans-serif\" font-size=\"12\" lengthAdjust=\"spacingAndGlyphs\" textLength=\"24\" x=\"557\" y=\"92.1074\">b: P</text><line style=\"stroke: #383838; stroke-width: 1.5;\" x1=\"549\" x2=\"589\" y1=\"99.9375\" y2=\"99.9375\"/></a><!--MD5=[60a26617385b1d2d0262a64233df1f8d]\n",
       "class E6--><a href=\"psysml:7163cac6-f89e-4c84-b72c-82ccdb232dd2\" target=\"_top\" title=\"psysml:7163cac6-f89e-4c84-b72c-82ccdb232dd2\" xlink:actuate=\"onRequest\" xlink:href=\"psysml:7163cac6-f89e-4c84-b72c-82ccdb232dd2\" xlink:show=\"new\" xlink:title=\"psysml:7163cac6-f89e-4c84-b72c-82ccdb232dd2\" xlink:type=\"simple\"><rect fill=\"#FFFFFF\" height=\"45.9375\" id=\"E6\" rx=\"10\" ry=\"10\" style=\"stroke: #383838; stroke-width: 1.5;\" width=\"42\" x=\"471\" y=\"62\"/><text fill=\"#000000\" font-family=\"sans-serif\" font-size=\"12\" font-style=\"italic\" lengthAdjust=\"spacingAndGlyphs\" textLength=\"40\" x=\"472\" y=\"78.1387\">«part»</text><text fill=\"#000000\" font-family=\"sans-serif\" font-size=\"12\" lengthAdjust=\"spacingAndGlyphs\" textLength=\"23\" x=\"480.5\" y=\"92.1074\">c: P</text><line style=\"stroke: #383838; stroke-width: 1.5;\" x1=\"472\" x2=\"512\" y1=\"99.9375\" y2=\"99.9375\"/></a><!--MD5=[2156ba9850f5573cc1fc38a6a4b2f02b]\n",
       "class E7--><a href=\"psysml:79f72fcf-9cc7-42c6-886c-0c2f21f0aaa0\" target=\"_top\" title=\"psysml:79f72fcf-9cc7-42c6-886c-0c2f21f0aaa0\" xlink:actuate=\"onRequest\" xlink:href=\"psysml:79f72fcf-9cc7-42c6-886c-0c2f21f0aaa0\" xlink:show=\"new\" xlink:title=\"psysml:79f72fcf-9cc7-42c6-886c-0c2f21f0aaa0\" xlink:type=\"simple\"><rect fill=\"#FFFFFF\" height=\"45.9375\" id=\"E7\" rx=\"10\" ry=\"10\" style=\"stroke: #383838; stroke-width: 1.5;\" width=\"42\" x=\"394\" y=\"62\"/><text fill=\"#000000\" font-family=\"sans-serif\" font-size=\"12\" font-style=\"italic\" lengthAdjust=\"spacingAndGlyphs\" textLength=\"40\" x=\"395\" y=\"78.1387\">«part»</text><text fill=\"#000000\" font-family=\"sans-serif\" font-size=\"12\" lengthAdjust=\"spacingAndGlyphs\" textLength=\"8\" x=\"411\" y=\"92.1074\">d</text><line style=\"stroke: #383838; stroke-width: 1.5;\" x1=\"395\" x2=\"435\" y1=\"99.9375\" y2=\"99.9375\"/></a><!--MD5=[b9389687b975829384b498ac4b7476b2]\n",
       "class E8--><a href=\"psysml:7ad65eee-258f-4156-b8ec-39b80665cdbc\" target=\"_top\" title=\"psysml:7ad65eee-258f-4156-b8ec-39b80665cdbc\" xlink:actuate=\"onRequest\" xlink:href=\"psysml:7ad65eee-258f-4156-b8ec-39b80665cdbc\" xlink:show=\"new\" xlink:title=\"psysml:7ad65eee-258f-4156-b8ec-39b80665cdbc\" xlink:type=\"simple\"><rect fill=\"#FFFFFF\" height=\"45.9375\" id=\"E8\" rx=\"10\" ry=\"10\" style=\"stroke: #383838; stroke-width: 1.5;\" width=\"42\" x=\"317\" y=\"62\"/><text fill=\"#000000\" font-family=\"sans-serif\" font-size=\"12\" font-style=\"italic\" lengthAdjust=\"spacingAndGlyphs\" textLength=\"40\" x=\"318\" y=\"78.1387\">«part»</text><text fill=\"#000000\" font-family=\"sans-serif\" font-size=\"12\" lengthAdjust=\"spacingAndGlyphs\" textLength=\"8\" x=\"334\" y=\"92.1074\">e</text><line style=\"stroke: #383838; stroke-width: 1.5;\" x1=\"318\" x2=\"358\" y1=\"99.9375\" y2=\"99.9375\"/></a><!--MD5=[fd4143e9d270a159db93a4ea2a975926]\n",
       "class E9--><a href=\"psysml:20b1d46d-edcb-44c0-8591-3bffd604b97a\" target=\"_top\" title=\"psysml:20b1d46d-edcb-44c0-8591-3bffd604b97a\" xlink:actuate=\"onRequest\" xlink:href=\"psysml:20b1d46d-edcb-44c0-8591-3bffd604b97a\" xlink:show=\"new\" xlink:title=\"psysml:20b1d46d-edcb-44c0-8591-3bffd604b97a\" xlink:type=\"simple\"><rect fill=\"#FFFFFF\" height=\"45.9375\" id=\"E9\" rx=\"10\" ry=\"10\" style=\"stroke: #383838; stroke-width: 1.5;\" width=\"42\" x=\"240\" y=\"62\"/><text fill=\"#000000\" font-family=\"sans-serif\" font-size=\"12\" font-style=\"italic\" lengthAdjust=\"spacingAndGlyphs\" textLength=\"40\" x=\"241\" y=\"78.1387\">«part»</text><text fill=\"#000000\" font-family=\"sans-serif\" font-size=\"12\" lengthAdjust=\"spacingAndGlyphs\" textLength=\"4\" x=\"259\" y=\"92.1074\">f</text><line style=\"stroke: #383838; stroke-width: 1.5;\" x1=\"241\" x2=\"281\" y1=\"99.9375\" y2=\"99.9375\"/></a><!--MD5=[96f4274e9e20536e775497830990834d]\n",
       "class E10--><a href=\"psysml:25d96323-353d-45e6-96c8-f6353f2a6c2d\" target=\"_top\" title=\"psysml:25d96323-353d-45e6-96c8-f6353f2a6c2d\" xlink:actuate=\"onRequest\" xlink:href=\"psysml:25d96323-353d-45e6-96c8-f6353f2a6c2d\" xlink:show=\"new\" xlink:title=\"psysml:25d96323-353d-45e6-96c8-f6353f2a6c2d\" xlink:type=\"simple\"><rect fill=\"#FFFFFF\" height=\"45.9375\" id=\"E10\" rx=\"10\" ry=\"10\" style=\"stroke: #383838; stroke-width: 1.5;\" width=\"42\" x=\"163\" y=\"62\"/><text fill=\"#000000\" font-family=\"sans-serif\" font-size=\"12\" font-style=\"italic\" lengthAdjust=\"spacingAndGlyphs\" textLength=\"40\" x=\"164\" y=\"78.1387\">«part»</text><text fill=\"#000000\" font-family=\"sans-serif\" font-size=\"12\" lengthAdjust=\"spacingAndGlyphs\" textLength=\"8\" x=\"180\" y=\"92.1074\">g</text><line style=\"stroke: #383838; stroke-width: 1.5;\" x1=\"164\" x2=\"204\" y1=\"99.9375\" y2=\"99.9375\"/></a><!--MD5=[1dd1bfd58a279cf63c5f349dbc8fc6a1]\n",
       "class E11--><a href=\"psysml:05fe5b10-94f9-4e9a-a85e-b113c36136a8\" target=\"_top\" title=\"psysml:05fe5b10-94f9-4e9a-a85e-b113c36136a8\" xlink:actuate=\"onRequest\" xlink:href=\"psysml:05fe5b10-94f9-4e9a-a85e-b113c36136a8\" xlink:show=\"new\" xlink:title=\"psysml:05fe5b10-94f9-4e9a-a85e-b113c36136a8\" xlink:type=\"simple\"><rect fill=\"#FFFFFF\" height=\"88.3516\" id=\"E11\" style=\"stroke: #383838; stroke-width: 1.5;\" width=\"95\" x=\"32.5\" y=\"41\"/><text fill=\"#000000\" font-family=\"sans-serif\" font-size=\"12\" font-style=\"italic\" lengthAdjust=\"spacingAndGlyphs\" textLength=\"93\" x=\"33.5\" y=\"57.1387\">«attribute def»</text><text fill=\"#000000\" font-family=\"sans-serif\" font-size=\"12\" lengthAdjust=\"spacingAndGlyphs\" textLength=\"8\" x=\"76\" y=\"71.1074\">A</text><line style=\"stroke: #383838; stroke-width: 1.5;\" x1=\"33.5\" x2=\"126.5\" y1=\"78.9375\" y2=\"78.9375\"/><text fill=\"#000000\" font-family=\"sans-serif\" font-size=\"11\" lengthAdjust=\"spacingAndGlyphs\" textLength=\"51\" x=\"38.5\" y=\"109.9526\">i: Integer</text><text fill=\"#000000\" font-family=\"sans-serif\" font-size=\"11\" lengthAdjust=\"spacingAndGlyphs\" textLength=\"21\" x=\"38.5\" y=\"122.7573\">x: A</text><line style=\"stroke: #383838; stroke-width: 1.0;\" x1=\"33.5\" x2=\"52.5\" y1=\"93.3398\" y2=\"93.3398\"/><text fill=\"#000000\" font-family=\"sans-serif\" font-size=\"11\" lengthAdjust=\"spacingAndGlyphs\" textLength=\"55\" x=\"52.5\" y=\"96.6479\">attributes</text><line style=\"stroke: #383838; stroke-width: 1.0;\" x1=\"107.5\" x2=\"126.5\" y1=\"93.3398\" y2=\"93.3398\"/></a><!--MD5=[15ebcb19ae302d9b601edb458606d402]\n",
       "link E5 to E2--><a href=\"psysml:b71e192f-5f45-432d-9454-4642818dbb88\" target=\"_top\" title=\"psysml:b71e192f-5f45-432d-9454-4642818dbb88\" xlink:actuate=\"onRequest\" xlink:href=\"psysml:b71e192f-5f45-432d-9454-4642818dbb88\" xlink:show=\"new\" xlink:title=\"psysml:b71e192f-5f45-432d-9454-4642818dbb88\" xlink:type=\"simple\"><path d=\"M562.12,108.06 C556.83,125 549.38,148.89 542.98,169.39 \" fill=\"none\" id=\"E5-&gt;E2\" style=\"stroke: #383838; stroke-width: 1.0;\"/><polygon fill=\"#FFFFFF\" points=\"536.95,188.74,535.929,168.5173,549.2931,172.6886,536.95,188.74\" style=\"stroke: #383838; stroke-width: 1.0;\"/><ellipse cx=\"539.5364\" cy=\"163.6721\" fill=\"#383838\" rx=\"2\" ry=\"2\" style=\"stroke: #383838; stroke-width: 1.0;\"/><ellipse cx=\"549.0823\" cy=\"166.6516\" fill=\"#383838\" rx=\"2\" ry=\"2\" style=\"stroke: #383838; stroke-width: 1.0;\"/></a><!--MD5=[2351f337d6de0f557b50152ba70847b5]\n",
       "link E6 to E2--><a href=\"psysml:173d30e4-d568-4354-a9e9-bb0668964c70\" target=\"_top\" title=\"psysml:173d30e4-d568-4354-a9e9-bb0668964c70\" xlink:actuate=\"onRequest\" xlink:href=\"psysml:173d30e4-d568-4354-a9e9-bb0668964c70\" xlink:show=\"new\" xlink:title=\"psysml:173d30e4-d568-4354-a9e9-bb0668964c70\" xlink:type=\"simple\"><path d=\"M498.71,108.06 C503.86,125 511.12,148.89 517.35,169.39 \" fill=\"none\" id=\"E6-&gt;E2\" style=\"stroke: #383838; stroke-width: 1.0;\"/><polygon fill=\"#FFFFFF\" points=\"523.23,188.74,511.007,172.597,524.4019,168.5255,523.23,188.74\" style=\"stroke: #383838; stroke-width: 1.0;\"/><ellipse cx=\"511.2628\" cy=\"166.5617\" fill=\"#383838\" rx=\"2\" ry=\"2\" style=\"stroke: #383838; stroke-width: 1.0;\"/><ellipse cx=\"520.8306\" cy=\"163.6535\" fill=\"#383838\" rx=\"2\" ry=\"2\" style=\"stroke: #383838; stroke-width: 1.0;\"/></a><!--MD5=[1c3754fb95d3ec34d32208ab2cdb905f]\n",
       "@startuml\r\n",
       "skinparam monochrome true\r\n",
       "skinparam classbackgroundcolor white\r\n",
       "skinparam shadowing false\r\n",
       "skinparam wrapWidth 300\r\n",
       "hide circle\r\n",
       "\r\n",
       "package \"MultiplicityTest\" as E1  [[psysml:c0f24ad0-fe84-484c-92fb-1b0594d1e479 ]]  {\r\n",
       "comp def \"P\" as E2  <<(T,blue) part def>> [[psysml:987e5bc7-b02a-416d-86c6-8545bfa90ef5 ]] {\r\n",
       "}\r\n",
       "comp usage \"n: Integer\" as E3  <<(T,blue) attribute>> [[psysml:7c23d281-2047-4d33-b5ff-31ab75cdc741 ]] {\r\n",
       "}\r\n",
       "comp usage \"a\" as E4  <<(T,blue) part>> [[psysml:dbbeb80c-41d4-4e5a-ae6b-125fea141b81 ]] {\r\n",
       "}\r\n",
       "comp usage \"b: P\" as E5  <<(T,blue) part>> [[psysml:1044b725-5886-488e-a280-d65b06b2678d ]] {\r\n",
       "}\r\n",
       "comp usage \"c: P\" as E6  <<(T,blue) part>> [[psysml:7163cac6-f89e-4c84-b72c-82ccdb232dd2 ]] {\r\n",
       "}\r\n",
       "comp usage \"d\" as E7  <<(T,blue) part>> [[psysml:79f72fcf-9cc7-42c6-886c-0c2f21f0aaa0 ]] {\r\n",
       "}\r\n",
       "comp usage \"e\" as E8  <<(T,blue) part>> [[psysml:7ad65eee-258f-4156-b8ec-39b80665cdbc ]] {\r\n",
       "}\r\n",
       "comp usage \"f\" as E9  <<(T,blue) part>> [[psysml:20b1d46d-edcb-44c0-8591-3bffd604b97a ]] {\r\n",
       "}\r\n",
       "comp usage \"g\" as E10  <<(T,blue) part>> [[psysml:25d96323-353d-45e6-96c8-f6353f2a6c2d ]] {\r\n",
       "}\r\n",
       "comp def \"A\" as E11  <<(T,blue) attribute def>> [[psysml:05fe5b10-94f9-4e9a-a85e-b113c36136a8 ]] {\r\n",
       "- - attributes - -\r\n",
       "i: Integer\r\n",
       "x: A\r\n",
       "}\r\n",
       "}\r\n",
       "E5 - -:|> E2 [[psysml:b71e192f-5f45-432d-9454-4642818dbb88 ]] \r\n",
       "E6 - -:|> E2 [[psysml:173d30e4-d568-4354-a9e9-bb0668964c70 ]] \r\n",
       "@enduml\r\n",
       "\n",
       "PlantUML version 1.2020.13(Sat Jun 13 12:26:38 UTC 2020)\n",
       "(EPL source distribution)\n",
       "Java Runtime: OpenJDK Runtime Environment\n",
       "JVM: OpenJDK 64-Bit Server VM\n",
       "Default Encoding: UTF-8\n",
       "Language: en\n",
       "Country: null\n",
       "--></g></svg>"
      ]
     },
     "execution_count": 38,
     "metadata": {},
     "output_type": "execute_result"
    }
   ],
   "source": [
    "%viz --style=\"DEFAULT\" --view=\"Tree\" \"MultiplicityTest\""
   ]
  },
  {
   "cell_type": "code",
   "execution_count": 39,
   "id": "75ac601c",
   "metadata": {
    "execution": {
     "iopub.execute_input": "2021-09-27T07:19:19.722133Z",
     "iopub.status.busy": "2021-09-27T07:19:19.721704Z",
     "iopub.status.idle": "2021-09-27T07:19:19.726912Z",
     "shell.execute_reply": "2021-09-27T07:19:19.727345Z"
    }
   },
   "outputs": [
    {
     "data": {
      "image/svg+xml": [
       "<?xml version=\"1.0\" encoding=\"UTF-8\" standalone=\"no\"?><svg xmlns=\"http://www.w3.org/2000/svg\" xmlns:xlink=\"http://www.w3.org/1999/xlink\" contentScriptType=\"application/ecmascript\" contentStyleType=\"text/css\" height=\"12px\" preserveAspectRatio=\"none\" style=\"width:12px;height:12px;\" version=\"1.1\" viewBox=\"0 0 12 12\" width=\"12px\" zoomAndPan=\"magnify\"><defs/><g><!--MD5=[c5f280e076d0d61ccf4b0f27871bda1d]\n",
       "@startuml\r\n",
       "skinparam monochrome true\r\n",
       "skinparam classbackgroundcolor white\r\n",
       "skinparam shadowing false\r\n",
       "skinparam wrapWidth 300\r\n",
       "hide circle\r\n",
       "\r\n",
       "@enduml\r\n",
       "\n",
       "PlantUML version 1.2020.13(Sat Jun 13 12:26:38 UTC 2020)\n",
       "(EPL source distribution)\n",
       "Java Runtime: OpenJDK Runtime Environment\n",
       "JVM: OpenJDK 64-Bit Server VM\n",
       "Default Encoding: UTF-8\n",
       "Language: en\n",
       "Country: null\n",
       "--></g></svg>"
      ]
     },
     "execution_count": 39,
     "metadata": {},
     "output_type": "execute_result"
    }
   ],
   "source": [
    "%viz --style=\"DEFAULT\" --view=\"State\" \"MultiplicityTest\""
   ]
  },
  {
   "cell_type": "code",
   "execution_count": 40,
   "id": "c7e8f8dd",
   "metadata": {
    "execution": {
     "iopub.execute_input": "2021-09-27T07:19:19.777352Z",
     "iopub.status.busy": "2021-09-27T07:19:19.776919Z",
     "iopub.status.idle": "2021-09-27T07:19:19.803857Z",
     "shell.execute_reply": "2021-09-27T07:19:19.803510Z"
    }
   },
   "outputs": [
    {
     "data": {
      "image/svg+xml": [
       "<?xml version=\"1.0\" encoding=\"UTF-8\" standalone=\"no\"?><svg xmlns=\"http://www.w3.org/2000/svg\" xmlns:xlink=\"http://www.w3.org/1999/xlink\" contentScriptType=\"application/ecmascript\" contentStyleType=\"text/css\" height=\"115px\" preserveAspectRatio=\"none\" style=\"width:979px;height:115px;\" version=\"1.1\" viewBox=\"0 0 979 115\" width=\"979px\" zoomAndPan=\"magnify\"><defs/><g><!--MD5=[fbc87193dbaf4d95561dea2c320d4a47]\n",
       "cluster E1--><a href=\"psysml:c0f24ad0-fe84-484c-92fb-1b0594d1e479\" target=\"_top\" title=\"psysml:c0f24ad0-fe84-484c-92fb-1b0594d1e479\" xlink:actuate=\"onRequest\" xlink:href=\"psysml:c0f24ad0-fe84-484c-92fb-1b0594d1e479\" xlink:show=\"new\" xlink:title=\"psysml:c0f24ad0-fe84-484c-92fb-1b0594d1e479\" xlink:type=\"simple\"><polygon fill=\"#FFFFFF\" points=\"16,6,123,6,130,28.2969,957,28.2969,957,103,16,103,16,6\" style=\"stroke: #000000; stroke-width: 1.5;\"/><line style=\"stroke: #000000; stroke-width: 1.5;\" x1=\"16\" x2=\"130\" y1=\"28.2969\" y2=\"28.2969\"/><text fill=\"#000000\" font-family=\"sans-serif\" font-size=\"14\" font-weight=\"bold\" lengthAdjust=\"spacingAndGlyphs\" textLength=\"101\" x=\"20\" y=\"20.9951\">MultiplicityTest</text></a><!--MD5=[09b614a08d8cba4a07c9adeb5e0fee81]\n",
       "class E3--><a href=\"psysml:7c23d281-2047-4d33-b5ff-31ab75cdc741\" target=\"_top\" title=\"psysml:7c23d281-2047-4d33-b5ff-31ab75cdc741\" xlink:actuate=\"onRequest\" xlink:href=\"psysml:7c23d281-2047-4d33-b5ff-31ab75cdc741\" xlink:show=\"new\" xlink:title=\"psysml:7c23d281-2047-4d33-b5ff-31ab75cdc741\" xlink:type=\"simple\"><rect fill=\"#FFFFFF\" height=\"45.9375\" id=\"E3\" rx=\"10\" ry=\"10\" style=\"stroke: #383838; stroke-width: 1.5;\" width=\"71\" x=\"869.5\" y=\"41\"/><text fill=\"#000000\" font-family=\"sans-serif\" font-size=\"12\" font-style=\"italic\" lengthAdjust=\"spacingAndGlyphs\" textLength=\"69\" x=\"870.5\" y=\"57.1387\">«attribute»</text><text fill=\"#000000\" font-family=\"sans-serif\" font-size=\"12\" lengthAdjust=\"spacingAndGlyphs\" textLength=\"61\" x=\"874.5\" y=\"71.1074\">n: Integer</text><line style=\"stroke: #383838; stroke-width: 1.5;\" x1=\"870.5\" x2=\"939.5\" y1=\"78.9375\" y2=\"78.9375\"/></a><g id=\"E1.E11\"><a href=\"psysml:05fe5b10-94f9-4e9a-a85e-b113c36136a8\" target=\"_top\" title=\"psysml:05fe5b10-94f9-4e9a-a85e-b113c36136a8\" xlink:actuate=\"onRequest\" xlink:href=\"psysml:05fe5b10-94f9-4e9a-a85e-b113c36136a8\" xlink:show=\"new\" xlink:title=\"psysml:05fe5b10-94f9-4e9a-a85e-b113c36136a8\" xlink:type=\"simple\"><rect fill=\"#FFFFFF\" height=\"42.9375\" id=\"E11\" style=\"stroke: #383838; stroke-width: 1.5;\" width=\"100\" x=\"734\" y=\"42.5\"/><rect fill=\"#F8F8F8\" height=\"37.9375\" style=\"stroke: #383838; stroke-width: 1.5;\" width=\"100\" x=\"734\" y=\"42.5\"/><text fill=\"#000000\" font-family=\"sans-serif\" font-size=\"12\" font-style=\"italic\" lengthAdjust=\"spacingAndGlyphs\" textLength=\"93\" x=\"737.5\" y=\"58.6387\">«attribute def»</text><text fill=\"#000000\" font-family=\"sans-serif\" font-size=\"12\" lengthAdjust=\"spacingAndGlyphs\" textLength=\"8\" x=\"780\" y=\"72.6074\">A</text></a></g><g id=\"E1.E2\"><a href=\"psysml:987e5bc7-b02a-416d-86c6-8545bfa90ef5\" target=\"_top\" title=\"psysml:987e5bc7-b02a-416d-86c6-8545bfa90ef5\" xlink:actuate=\"onRequest\" xlink:href=\"psysml:987e5bc7-b02a-416d-86c6-8545bfa90ef5\" xlink:show=\"new\" xlink:title=\"psysml:987e5bc7-b02a-416d-86c6-8545bfa90ef5\" xlink:type=\"simple\"><rect fill=\"#FFFFFF\" height=\"42.9375\" id=\"E2\" style=\"stroke: #383838; stroke-width: 1.5;\" width=\"71\" x=\"627.5\" y=\"42.5\"/><rect fill=\"#F8F8F8\" height=\"37.9375\" style=\"stroke: #383838; stroke-width: 1.5;\" width=\"71\" x=\"627.5\" y=\"42.5\"/><text fill=\"#000000\" font-family=\"sans-serif\" font-size=\"12\" font-style=\"italic\" lengthAdjust=\"spacingAndGlyphs\" textLength=\"64\" x=\"631\" y=\"58.6387\">«part def»</text><text fill=\"#000000\" font-family=\"sans-serif\" font-size=\"12\" lengthAdjust=\"spacingAndGlyphs\" textLength=\"8\" x=\"659\" y=\"72.6074\">P</text></a></g><g id=\"E1.E4\"><a href=\"psysml:dbbeb80c-41d4-4e5a-ae6b-125fea141b81\" target=\"_top\" title=\"psysml:dbbeb80c-41d4-4e5a-ae6b-125fea141b81\" xlink:actuate=\"onRequest\" xlink:href=\"psysml:dbbeb80c-41d4-4e5a-ae6b-125fea141b81\" xlink:show=\"new\" xlink:title=\"psysml:dbbeb80c-41d4-4e5a-ae6b-125fea141b81\" xlink:type=\"simple\"><rect fill=\"#FFFFFF\" height=\"40\" id=\"E4\" rx=\"10\" ry=\"10\" style=\"stroke: #383838; stroke-width: 1.5;\" width=\"50\" x=\"542\" y=\"44\"/><rect fill=\"#F8F8F8\" height=\"23.9688\" rx=\"10\" ry=\"10\" style=\"stroke: #F8F8F8; stroke-width: 1.5;\" width=\"50\" x=\"542\" y=\"44\"/><rect fill=\"#F8F8F8\" height=\"10\" style=\"stroke: #F8F8F8; stroke-width: 1.5;\" width=\"50\" x=\"542\" y=\"57.9688\"/><rect fill=\"none\" height=\"40\" id=\"E4\" rx=\"10\" ry=\"10\" style=\"stroke: #383838; stroke-width: 1.5;\" width=\"50\" x=\"542\" y=\"44\"/><text fill=\"#000000\" font-family=\"sans-serif\" font-size=\"12\" lengthAdjust=\"spacingAndGlyphs\" textLength=\"8\" x=\"563\" y=\"60.1387\">a</text></a></g><g id=\"E1.E5\"><a href=\"psysml:1044b725-5886-488e-a280-d65b06b2678d\" target=\"_top\" title=\"psysml:1044b725-5886-488e-a280-d65b06b2678d\" xlink:actuate=\"onRequest\" xlink:href=\"psysml:1044b725-5886-488e-a280-d65b06b2678d\" xlink:show=\"new\" xlink:title=\"psysml:1044b725-5886-488e-a280-d65b06b2678d\" xlink:type=\"simple\"><rect fill=\"#FFFFFF\" height=\"40\" id=\"E5\" rx=\"10\" ry=\"10\" style=\"stroke: #383838; stroke-width: 1.5;\" width=\"50\" x=\"457\" y=\"44\"/><rect fill=\"#F8F8F8\" height=\"23.9688\" rx=\"10\" ry=\"10\" style=\"stroke: #F8F8F8; stroke-width: 1.5;\" width=\"50\" x=\"457\" y=\"44\"/><rect fill=\"#F8F8F8\" height=\"10\" style=\"stroke: #F8F8F8; stroke-width: 1.5;\" width=\"50\" x=\"457\" y=\"57.9688\"/><rect fill=\"none\" height=\"40\" id=\"E5\" rx=\"10\" ry=\"10\" style=\"stroke: #383838; stroke-width: 1.5;\" width=\"50\" x=\"457\" y=\"44\"/><text fill=\"#000000\" font-family=\"sans-serif\" font-size=\"12\" lengthAdjust=\"spacingAndGlyphs\" textLength=\"24\" x=\"470\" y=\"60.1387\">b: P</text></a></g><g id=\"E1.E6\"><a href=\"psysml:7163cac6-f89e-4c84-b72c-82ccdb232dd2\" target=\"_top\" title=\"psysml:7163cac6-f89e-4c84-b72c-82ccdb232dd2\" xlink:actuate=\"onRequest\" xlink:href=\"psysml:7163cac6-f89e-4c84-b72c-82ccdb232dd2\" xlink:show=\"new\" xlink:title=\"psysml:7163cac6-f89e-4c84-b72c-82ccdb232dd2\" xlink:type=\"simple\"><rect fill=\"#FFFFFF\" height=\"40\" id=\"E6\" rx=\"10\" ry=\"10\" style=\"stroke: #383838; stroke-width: 1.5;\" width=\"50\" x=\"372\" y=\"44\"/><rect fill=\"#F8F8F8\" height=\"23.9688\" rx=\"10\" ry=\"10\" style=\"stroke: #F8F8F8; stroke-width: 1.5;\" width=\"50\" x=\"372\" y=\"44\"/><rect fill=\"#F8F8F8\" height=\"10\" style=\"stroke: #F8F8F8; stroke-width: 1.5;\" width=\"50\" x=\"372\" y=\"57.9688\"/><rect fill=\"none\" height=\"40\" id=\"E6\" rx=\"10\" ry=\"10\" style=\"stroke: #383838; stroke-width: 1.5;\" width=\"50\" x=\"372\" y=\"44\"/><text fill=\"#000000\" font-family=\"sans-serif\" font-size=\"12\" lengthAdjust=\"spacingAndGlyphs\" textLength=\"23\" x=\"385.5\" y=\"60.1387\">c: P</text></a></g><g id=\"E1.E7\"><a href=\"psysml:79f72fcf-9cc7-42c6-886c-0c2f21f0aaa0\" target=\"_top\" title=\"psysml:79f72fcf-9cc7-42c6-886c-0c2f21f0aaa0\" xlink:actuate=\"onRequest\" xlink:href=\"psysml:79f72fcf-9cc7-42c6-886c-0c2f21f0aaa0\" xlink:show=\"new\" xlink:title=\"psysml:79f72fcf-9cc7-42c6-886c-0c2f21f0aaa0\" xlink:type=\"simple\"><rect fill=\"#FFFFFF\" height=\"40\" id=\"E7\" rx=\"10\" ry=\"10\" style=\"stroke: #383838; stroke-width: 1.5;\" width=\"50\" x=\"287\" y=\"44\"/><rect fill=\"#F8F8F8\" height=\"23.9688\" rx=\"10\" ry=\"10\" style=\"stroke: #F8F8F8; stroke-width: 1.5;\" width=\"50\" x=\"287\" y=\"44\"/><rect fill=\"#F8F8F8\" height=\"10\" style=\"stroke: #F8F8F8; stroke-width: 1.5;\" width=\"50\" x=\"287\" y=\"57.9688\"/><rect fill=\"none\" height=\"40\" id=\"E7\" rx=\"10\" ry=\"10\" style=\"stroke: #383838; stroke-width: 1.5;\" width=\"50\" x=\"287\" y=\"44\"/><text fill=\"#000000\" font-family=\"sans-serif\" font-size=\"12\" lengthAdjust=\"spacingAndGlyphs\" textLength=\"8\" x=\"308\" y=\"60.1387\">d</text></a></g><g id=\"E1.E8\"><a href=\"psysml:7ad65eee-258f-4156-b8ec-39b80665cdbc\" target=\"_top\" title=\"psysml:7ad65eee-258f-4156-b8ec-39b80665cdbc\" xlink:actuate=\"onRequest\" xlink:href=\"psysml:7ad65eee-258f-4156-b8ec-39b80665cdbc\" xlink:show=\"new\" xlink:title=\"psysml:7ad65eee-258f-4156-b8ec-39b80665cdbc\" xlink:type=\"simple\"><rect fill=\"#FFFFFF\" height=\"40\" id=\"E8\" rx=\"10\" ry=\"10\" style=\"stroke: #383838; stroke-width: 1.5;\" width=\"50\" x=\"202\" y=\"44\"/><rect fill=\"#F8F8F8\" height=\"23.9688\" rx=\"10\" ry=\"10\" style=\"stroke: #F8F8F8; stroke-width: 1.5;\" width=\"50\" x=\"202\" y=\"44\"/><rect fill=\"#F8F8F8\" height=\"10\" style=\"stroke: #F8F8F8; stroke-width: 1.5;\" width=\"50\" x=\"202\" y=\"57.9688\"/><rect fill=\"none\" height=\"40\" id=\"E8\" rx=\"10\" ry=\"10\" style=\"stroke: #383838; stroke-width: 1.5;\" width=\"50\" x=\"202\" y=\"44\"/><text fill=\"#000000\" font-family=\"sans-serif\" font-size=\"12\" lengthAdjust=\"spacingAndGlyphs\" textLength=\"8\" x=\"223\" y=\"60.1387\">e</text></a></g><g id=\"E1.E9\"><a href=\"psysml:20b1d46d-edcb-44c0-8591-3bffd604b97a\" target=\"_top\" title=\"psysml:20b1d46d-edcb-44c0-8591-3bffd604b97a\" xlink:actuate=\"onRequest\" xlink:href=\"psysml:20b1d46d-edcb-44c0-8591-3bffd604b97a\" xlink:show=\"new\" xlink:title=\"psysml:20b1d46d-edcb-44c0-8591-3bffd604b97a\" xlink:type=\"simple\"><rect fill=\"#FFFFFF\" height=\"40\" id=\"E9\" rx=\"10\" ry=\"10\" style=\"stroke: #383838; stroke-width: 1.5;\" width=\"50\" x=\"117\" y=\"44\"/><rect fill=\"#F8F8F8\" height=\"23.9688\" rx=\"10\" ry=\"10\" style=\"stroke: #F8F8F8; stroke-width: 1.5;\" width=\"50\" x=\"117\" y=\"44\"/><rect fill=\"#F8F8F8\" height=\"10\" style=\"stroke: #F8F8F8; stroke-width: 1.5;\" width=\"50\" x=\"117\" y=\"57.9688\"/><rect fill=\"none\" height=\"40\" id=\"E9\" rx=\"10\" ry=\"10\" style=\"stroke: #383838; stroke-width: 1.5;\" width=\"50\" x=\"117\" y=\"44\"/><text fill=\"#000000\" font-family=\"sans-serif\" font-size=\"12\" lengthAdjust=\"spacingAndGlyphs\" textLength=\"4\" x=\"140\" y=\"60.1387\">f</text></a></g><g id=\"E1.E10\"><a href=\"psysml:25d96323-353d-45e6-96c8-f6353f2a6c2d\" target=\"_top\" title=\"psysml:25d96323-353d-45e6-96c8-f6353f2a6c2d\" xlink:actuate=\"onRequest\" xlink:href=\"psysml:25d96323-353d-45e6-96c8-f6353f2a6c2d\" xlink:show=\"new\" xlink:title=\"psysml:25d96323-353d-45e6-96c8-f6353f2a6c2d\" xlink:type=\"simple\"><rect fill=\"#FFFFFF\" height=\"40\" id=\"E10\" rx=\"10\" ry=\"10\" style=\"stroke: #383838; stroke-width: 1.5;\" width=\"50\" x=\"32\" y=\"44\"/><rect fill=\"#F8F8F8\" height=\"23.9688\" rx=\"10\" ry=\"10\" style=\"stroke: #F8F8F8; stroke-width: 1.5;\" width=\"50\" x=\"32\" y=\"44\"/><rect fill=\"#F8F8F8\" height=\"10\" style=\"stroke: #F8F8F8; stroke-width: 1.5;\" width=\"50\" x=\"32\" y=\"57.9688\"/><rect fill=\"none\" height=\"40\" id=\"E10\" rx=\"10\" ry=\"10\" style=\"stroke: #383838; stroke-width: 1.5;\" width=\"50\" x=\"32\" y=\"44\"/><text fill=\"#000000\" font-family=\"sans-serif\" font-size=\"12\" lengthAdjust=\"spacingAndGlyphs\" textLength=\"8\" x=\"53\" y=\"60.1387\">g</text></a></g><!--MD5=[93261cd32fcf5ac99768bc3f54c739c3]\n",
       "@startuml\r\n",
       "skinparam ranksep 10\r\n",
       "skinparam rectangle {\r\n",
       " backgroundColor<<block>> LightGreen\r\n",
       "}\r\n",
       "skinparam monochrome true\r\n",
       "skinparam classbackgroundcolor white\r\n",
       "skinparam shadowing false\r\n",
       "skinparam wrapWidth 300\r\n",
       "hide circle\r\n",
       "\r\n",
       "package \"MultiplicityTest\" as E1  [[psysml:c0f24ad0-fe84-484c-92fb-1b0594d1e479 ]]  {\r\n",
       "rec def \"P\" as E2  <<(T,blue) part def>> [[psysml:987e5bc7-b02a-416d-86c6-8545bfa90ef5 ]] {\r\n",
       "}\r\n",
       "comp usage \"n: Integer\" as E3  <<(T,blue) attribute>> [[psysml:7c23d281-2047-4d33-b5ff-31ab75cdc741 ]] {\r\n",
       "}\r\n",
       "rec usage \"a\" as E4  [[psysml:dbbeb80c-41d4-4e5a-ae6b-125fea141b81 ]] {\r\n",
       "}\r\n",
       "rec usage \"b: P\" as E5  [[psysml:1044b725-5886-488e-a280-d65b06b2678d ]] {\r\n",
       "}\r\n",
       "rec usage \"c: P\" as E6  [[psysml:7163cac6-f89e-4c84-b72c-82ccdb232dd2 ]] {\r\n",
       "}\r\n",
       "rec usage \"d\" as E7  [[psysml:79f72fcf-9cc7-42c6-886c-0c2f21f0aaa0 ]] {\r\n",
       "}\r\n",
       "rec usage \"e\" as E8  [[psysml:7ad65eee-258f-4156-b8ec-39b80665cdbc ]] {\r\n",
       "}\r\n",
       "rec usage \"f\" as E9  [[psysml:20b1d46d-edcb-44c0-8591-3bffd604b97a ]] {\r\n",
       "}\r\n",
       "rec usage \"g\" as E10  [[psysml:25d96323-353d-45e6-96c8-f6353f2a6c2d ]] {\r\n",
       "}\r\n",
       "def \"A\" as E11  <<(T,blue) attribute def>> [[psysml:05fe5b10-94f9-4e9a-a85e-b113c36136a8 ]] \r\n",
       "}\r\n",
       "@enduml\r\n",
       "\n",
       "PlantUML version 1.2020.13(Sat Jun 13 12:26:38 UTC 2020)\n",
       "(EPL source distribution)\n",
       "Java Runtime: OpenJDK Runtime Environment\n",
       "JVM: OpenJDK 64-Bit Server VM\n",
       "Default Encoding: UTF-8\n",
       "Language: en\n",
       "Country: null\n",
       "--></g></svg>"
      ]
     },
     "execution_count": 40,
     "metadata": {},
     "output_type": "execute_result"
    }
   ],
   "source": [
    "%viz --style=\"DEFAULT\" --view=\"Interconnection\" \"MultiplicityTest\""
   ]
  },
  {
   "cell_type": "code",
   "execution_count": 41,
   "id": "21ea32ef",
   "metadata": {
    "execution": {
     "iopub.execute_input": "2021-09-27T07:19:19.854037Z",
     "iopub.status.busy": "2021-09-27T07:19:19.853541Z",
     "iopub.status.idle": "2021-09-27T07:19:19.858654Z",
     "shell.execute_reply": "2021-09-27T07:19:19.858300Z"
    }
   },
   "outputs": [
    {
     "data": {
      "image/svg+xml": [
       "<?xml version=\"1.0\" encoding=\"UTF-8\" standalone=\"no\"?><svg xmlns=\"http://www.w3.org/2000/svg\" xmlns:xlink=\"http://www.w3.org/1999/xlink\" contentScriptType=\"application/ecmascript\" contentStyleType=\"text/css\" height=\"12px\" preserveAspectRatio=\"none\" style=\"width:12px;height:12px;\" version=\"1.1\" viewBox=\"0 0 12 12\" width=\"12px\" zoomAndPan=\"magnify\"><defs/><g><!--MD5=[388f21188e31bfdd97050473b19af356]\n",
       "@startuml\r\n",
       "skinparam ranksep 8\r\n",
       "skinparam monochrome true\r\n",
       "skinparam classbackgroundcolor white\r\n",
       "skinparam shadowing false\r\n",
       "skinparam wrapWidth 300\r\n",
       "hide circle\r\n",
       "\r\n",
       "@enduml\r\n",
       "\n",
       "PlantUML version 1.2020.13(Sat Jun 13 12:26:38 UTC 2020)\n",
       "(EPL source distribution)\n",
       "Java Runtime: OpenJDK Runtime Environment\n",
       "JVM: OpenJDK 64-Bit Server VM\n",
       "Default Encoding: UTF-8\n",
       "Language: en\n",
       "Country: null\n",
       "--></g></svg>"
      ]
     },
     "execution_count": 41,
     "metadata": {},
     "output_type": "execute_result"
    }
   ],
   "source": [
    "%viz --style=\"DEFAULT\" --view=\"Action\" \"MultiplicityTest\""
   ]
  },
  {
   "cell_type": "code",
   "execution_count": 42,
   "id": "77fa5e82",
   "metadata": {
    "execution": {
     "iopub.execute_input": "2021-09-27T07:19:19.909189Z",
     "iopub.status.busy": "2021-09-27T07:19:19.908642Z",
     "iopub.status.idle": "2021-09-27T07:19:19.914156Z",
     "shell.execute_reply": "2021-09-27T07:19:19.913790Z"
    }
   },
   "outputs": [
    {
     "data": {
      "image/svg+xml": [
       "<?xml version=\"1.0\" encoding=\"UTF-8\" standalone=\"no\"?><svg xmlns=\"http://www.w3.org/2000/svg\" xmlns:xlink=\"http://www.w3.org/1999/xlink\" contentScriptType=\"application/ecmascript\" contentStyleType=\"text/css\" height=\"12px\" preserveAspectRatio=\"none\" style=\"width:12px;height:12px;\" version=\"1.1\" viewBox=\"0 0 12 12\" width=\"12px\" zoomAndPan=\"magnify\"><defs/><g><!--MD5=[0b72472770326784bf6c2b53246e1e64]\n",
       "@startuml\r\n",
       "skinparam roundcorner 20\r\n",
       "skinparam BoxPadding 20\r\n",
       "skinparam SequenceBoxBackgroundColor #white\r\n",
       "skinparam style strictuml\r\n",
       "skinparam maxMessageSize 100\r\n",
       "skinparam monochrome true\r\n",
       "skinparam classbackgroundcolor white\r\n",
       "skinparam shadowing false\r\n",
       "skinparam wrapWidth 300\r\n",
       "hide circle\r\n",
       "\r\n",
       "@enduml\r\n",
       "\n",
       "PlantUML version 1.2020.13(Sat Jun 13 12:26:38 UTC 2020)\n",
       "(EPL source distribution)\n",
       "Java Runtime: OpenJDK Runtime Environment\n",
       "JVM: OpenJDK 64-Bit Server VM\n",
       "Default Encoding: UTF-8\n",
       "Language: en\n",
       "Country: null\n",
       "--></g></svg>"
      ]
     },
     "execution_count": 42,
     "metadata": {},
     "output_type": "execute_result"
    }
   ],
   "source": [
    "%viz --style=\"DEFAULT\" --view=\"Sequence\" \"MultiplicityTest\""
   ]
  },
  {
   "cell_type": "code",
   "execution_count": 43,
   "id": "5d1579cf",
   "metadata": {
    "execution": {
     "iopub.execute_input": "2021-09-27T07:19:19.964805Z",
     "iopub.status.busy": "2021-09-27T07:19:19.964232Z",
     "iopub.status.idle": "2021-09-27T07:19:20.020518Z",
     "shell.execute_reply": "2021-09-27T07:19:20.020151Z"
    }
   },
   "outputs": [
    {
     "data": {
      "image/svg+xml": [
       "<?xml version=\"1.0\" encoding=\"UTF-8\" standalone=\"no\"?><svg xmlns=\"http://www.w3.org/2000/svg\" xmlns:xlink=\"http://www.w3.org/1999/xlink\" contentScriptType=\"application/ecmascript\" contentStyleType=\"text/css\" height=\"263px\" preserveAspectRatio=\"none\" style=\"width:812px;height:263px;\" version=\"1.1\" viewBox=\"0 0 812 263\" width=\"812px\" zoomAndPan=\"magnify\"><defs/><g><!--MD5=[fbc87193dbaf4d95561dea2c320d4a47]\n",
       "cluster E1--><a href=\"psysml:c0f24ad0-fe84-484c-92fb-1b0594d1e479\" target=\"_top\" title=\"psysml:c0f24ad0-fe84-484c-92fb-1b0594d1e479\" xlink:actuate=\"onRequest\" xlink:href=\"psysml:c0f24ad0-fe84-484c-92fb-1b0594d1e479\" xlink:show=\"new\" xlink:title=\"psysml:c0f24ad0-fe84-484c-92fb-1b0594d1e479\" xlink:type=\"simple\"><polygon fill=\"#FFFFFF\" points=\"16,6,123,6,130,28.2969,790,28.2969,790,251,16,251,16,6\" style=\"stroke: #000000; stroke-width: 1.5;\"/><line style=\"stroke: #000000; stroke-width: 1.5;\" x1=\"16\" x2=\"130\" y1=\"28.2969\" y2=\"28.2969\"/><text fill=\"#000000\" font-family=\"sans-serif\" font-size=\"14\" font-weight=\"bold\" lengthAdjust=\"spacingAndGlyphs\" textLength=\"101\" x=\"20\" y=\"20.9951\">MultiplicityTest</text></a><!--MD5=[b4997ac47864f28c2f74865a473b2911]\n",
       "class E2--><a href=\"psysml:987e5bc7-b02a-416d-86c6-8545bfa90ef5\" target=\"_top\" title=\"psysml:987e5bc7-b02a-416d-86c6-8545bfa90ef5\" xlink:actuate=\"onRequest\" xlink:href=\"psysml:987e5bc7-b02a-416d-86c6-8545bfa90ef5\" xlink:show=\"new\" xlink:title=\"psysml:987e5bc7-b02a-416d-86c6-8545bfa90ef5\" xlink:type=\"simple\"><rect fill=\"#FFFFFF\" height=\"45.9375\" id=\"E2\" style=\"stroke: #383838; stroke-width: 1.5;\" width=\"66\" x=\"497\" y=\"189\"/><text fill=\"#000000\" font-family=\"sans-serif\" font-size=\"12\" font-style=\"italic\" lengthAdjust=\"spacingAndGlyphs\" textLength=\"64\" x=\"498\" y=\"205.1387\">«part def»</text><text fill=\"#000000\" font-family=\"sans-serif\" font-size=\"12\" lengthAdjust=\"spacingAndGlyphs\" textLength=\"8\" x=\"526\" y=\"219.1074\">P</text><line style=\"stroke: #383838; stroke-width: 1.5;\" x1=\"498\" x2=\"562\" y1=\"226.9375\" y2=\"226.9375\"/></a><!--MD5=[09b614a08d8cba4a07c9adeb5e0fee81]\n",
       "class E3--><a href=\"psysml:7c23d281-2047-4d33-b5ff-31ab75cdc741\" target=\"_top\" title=\"psysml:7c23d281-2047-4d33-b5ff-31ab75cdc741\" xlink:actuate=\"onRequest\" xlink:href=\"psysml:7c23d281-2047-4d33-b5ff-31ab75cdc741\" xlink:show=\"new\" xlink:title=\"psysml:7c23d281-2047-4d33-b5ff-31ab75cdc741\" xlink:type=\"simple\"><rect fill=\"#FFFFFF\" height=\"45.9375\" id=\"E3\" rx=\"10\" ry=\"10\" style=\"stroke: #383838; stroke-width: 1.5;\" width=\"71\" x=\"702.5\" y=\"62\"/><text fill=\"#000000\" font-family=\"sans-serif\" font-size=\"12\" font-style=\"italic\" lengthAdjust=\"spacingAndGlyphs\" textLength=\"69\" x=\"703.5\" y=\"78.1387\">«attribute»</text><text fill=\"#000000\" font-family=\"sans-serif\" font-size=\"12\" lengthAdjust=\"spacingAndGlyphs\" textLength=\"61\" x=\"707.5\" y=\"92.1074\">n: Integer</text><line style=\"stroke: #383838; stroke-width: 1.5;\" x1=\"703.5\" x2=\"772.5\" y1=\"99.9375\" y2=\"99.9375\"/></a><!--MD5=[ebbe1d658d1005bcc118a6aa81145e00]\n",
       "class E4--><a href=\"psysml:dbbeb80c-41d4-4e5a-ae6b-125fea141b81\" target=\"_top\" title=\"psysml:dbbeb80c-41d4-4e5a-ae6b-125fea141b81\" xlink:actuate=\"onRequest\" xlink:href=\"psysml:dbbeb80c-41d4-4e5a-ae6b-125fea141b81\" xlink:show=\"new\" xlink:title=\"psysml:dbbeb80c-41d4-4e5a-ae6b-125fea141b81\" xlink:type=\"simple\"><rect fill=\"#FFFFFF\" height=\"45.9375\" id=\"E4\" rx=\"10\" ry=\"10\" style=\"stroke: #383838; stroke-width: 1.5;\" width=\"42\" x=\"625\" y=\"62\"/><text fill=\"#000000\" font-family=\"sans-serif\" font-size=\"12\" font-style=\"italic\" lengthAdjust=\"spacingAndGlyphs\" textLength=\"40\" x=\"626\" y=\"78.1387\">«part»</text><text fill=\"#000000\" font-family=\"sans-serif\" font-size=\"12\" lengthAdjust=\"spacingAndGlyphs\" textLength=\"8\" x=\"642\" y=\"92.1074\">a</text><line style=\"stroke: #383838; stroke-width: 1.5;\" x1=\"626\" x2=\"666\" y1=\"99.9375\" y2=\"99.9375\"/></a><!--MD5=[270fce915f116d4de14055a7c1d9a0f3]\n",
       "class E5--><a href=\"psysml:1044b725-5886-488e-a280-d65b06b2678d\" target=\"_top\" title=\"psysml:1044b725-5886-488e-a280-d65b06b2678d\" xlink:actuate=\"onRequest\" xlink:href=\"psysml:1044b725-5886-488e-a280-d65b06b2678d\" xlink:show=\"new\" xlink:title=\"psysml:1044b725-5886-488e-a280-d65b06b2678d\" xlink:type=\"simple\"><rect fill=\"#FFFFFF\" height=\"45.9375\" id=\"E5\" rx=\"10\" ry=\"10\" style=\"stroke: #383838; stroke-width: 1.5;\" width=\"42\" x=\"548\" y=\"62\"/><text fill=\"#000000\" font-family=\"sans-serif\" font-size=\"12\" font-style=\"italic\" lengthAdjust=\"spacingAndGlyphs\" textLength=\"40\" x=\"549\" y=\"78.1387\">«part»</text><text fill=\"#000000\" font-family=\"sans-serif\" font-size=\"12\" lengthAdjust=\"spacingAndGlyphs\" textLength=\"24\" x=\"557\" y=\"92.1074\">b: P</text><line style=\"stroke: #383838; stroke-width: 1.5;\" x1=\"549\" x2=\"589\" y1=\"99.9375\" y2=\"99.9375\"/></a><!--MD5=[60a26617385b1d2d0262a64233df1f8d]\n",
       "class E6--><a href=\"psysml:7163cac6-f89e-4c84-b72c-82ccdb232dd2\" target=\"_top\" title=\"psysml:7163cac6-f89e-4c84-b72c-82ccdb232dd2\" xlink:actuate=\"onRequest\" xlink:href=\"psysml:7163cac6-f89e-4c84-b72c-82ccdb232dd2\" xlink:show=\"new\" xlink:title=\"psysml:7163cac6-f89e-4c84-b72c-82ccdb232dd2\" xlink:type=\"simple\"><rect fill=\"#FFFFFF\" height=\"45.9375\" id=\"E6\" rx=\"10\" ry=\"10\" style=\"stroke: #383838; stroke-width: 1.5;\" width=\"42\" x=\"471\" y=\"62\"/><text fill=\"#000000\" font-family=\"sans-serif\" font-size=\"12\" font-style=\"italic\" lengthAdjust=\"spacingAndGlyphs\" textLength=\"40\" x=\"472\" y=\"78.1387\">«part»</text><text fill=\"#000000\" font-family=\"sans-serif\" font-size=\"12\" lengthAdjust=\"spacingAndGlyphs\" textLength=\"23\" x=\"480.5\" y=\"92.1074\">c: P</text><line style=\"stroke: #383838; stroke-width: 1.5;\" x1=\"472\" x2=\"512\" y1=\"99.9375\" y2=\"99.9375\"/></a><!--MD5=[2156ba9850f5573cc1fc38a6a4b2f02b]\n",
       "class E7--><a href=\"psysml:79f72fcf-9cc7-42c6-886c-0c2f21f0aaa0\" target=\"_top\" title=\"psysml:79f72fcf-9cc7-42c6-886c-0c2f21f0aaa0\" xlink:actuate=\"onRequest\" xlink:href=\"psysml:79f72fcf-9cc7-42c6-886c-0c2f21f0aaa0\" xlink:show=\"new\" xlink:title=\"psysml:79f72fcf-9cc7-42c6-886c-0c2f21f0aaa0\" xlink:type=\"simple\"><rect fill=\"#FFFFFF\" height=\"45.9375\" id=\"E7\" rx=\"10\" ry=\"10\" style=\"stroke: #383838; stroke-width: 1.5;\" width=\"42\" x=\"394\" y=\"62\"/><text fill=\"#000000\" font-family=\"sans-serif\" font-size=\"12\" font-style=\"italic\" lengthAdjust=\"spacingAndGlyphs\" textLength=\"40\" x=\"395\" y=\"78.1387\">«part»</text><text fill=\"#000000\" font-family=\"sans-serif\" font-size=\"12\" lengthAdjust=\"spacingAndGlyphs\" textLength=\"8\" x=\"411\" y=\"92.1074\">d</text><line style=\"stroke: #383838; stroke-width: 1.5;\" x1=\"395\" x2=\"435\" y1=\"99.9375\" y2=\"99.9375\"/></a><!--MD5=[b9389687b975829384b498ac4b7476b2]\n",
       "class E8--><a href=\"psysml:7ad65eee-258f-4156-b8ec-39b80665cdbc\" target=\"_top\" title=\"psysml:7ad65eee-258f-4156-b8ec-39b80665cdbc\" xlink:actuate=\"onRequest\" xlink:href=\"psysml:7ad65eee-258f-4156-b8ec-39b80665cdbc\" xlink:show=\"new\" xlink:title=\"psysml:7ad65eee-258f-4156-b8ec-39b80665cdbc\" xlink:type=\"simple\"><rect fill=\"#FFFFFF\" height=\"45.9375\" id=\"E8\" rx=\"10\" ry=\"10\" style=\"stroke: #383838; stroke-width: 1.5;\" width=\"42\" x=\"317\" y=\"62\"/><text fill=\"#000000\" font-family=\"sans-serif\" font-size=\"12\" font-style=\"italic\" lengthAdjust=\"spacingAndGlyphs\" textLength=\"40\" x=\"318\" y=\"78.1387\">«part»</text><text fill=\"#000000\" font-family=\"sans-serif\" font-size=\"12\" lengthAdjust=\"spacingAndGlyphs\" textLength=\"8\" x=\"334\" y=\"92.1074\">e</text><line style=\"stroke: #383838; stroke-width: 1.5;\" x1=\"318\" x2=\"358\" y1=\"99.9375\" y2=\"99.9375\"/></a><!--MD5=[fd4143e9d270a159db93a4ea2a975926]\n",
       "class E9--><a href=\"psysml:20b1d46d-edcb-44c0-8591-3bffd604b97a\" target=\"_top\" title=\"psysml:20b1d46d-edcb-44c0-8591-3bffd604b97a\" xlink:actuate=\"onRequest\" xlink:href=\"psysml:20b1d46d-edcb-44c0-8591-3bffd604b97a\" xlink:show=\"new\" xlink:title=\"psysml:20b1d46d-edcb-44c0-8591-3bffd604b97a\" xlink:type=\"simple\"><rect fill=\"#FFFFFF\" height=\"45.9375\" id=\"E9\" rx=\"10\" ry=\"10\" style=\"stroke: #383838; stroke-width: 1.5;\" width=\"42\" x=\"240\" y=\"62\"/><text fill=\"#000000\" font-family=\"sans-serif\" font-size=\"12\" font-style=\"italic\" lengthAdjust=\"spacingAndGlyphs\" textLength=\"40\" x=\"241\" y=\"78.1387\">«part»</text><text fill=\"#000000\" font-family=\"sans-serif\" font-size=\"12\" lengthAdjust=\"spacingAndGlyphs\" textLength=\"4\" x=\"259\" y=\"92.1074\">f</text><line style=\"stroke: #383838; stroke-width: 1.5;\" x1=\"241\" x2=\"281\" y1=\"99.9375\" y2=\"99.9375\"/></a><!--MD5=[96f4274e9e20536e775497830990834d]\n",
       "class E10--><a href=\"psysml:25d96323-353d-45e6-96c8-f6353f2a6c2d\" target=\"_top\" title=\"psysml:25d96323-353d-45e6-96c8-f6353f2a6c2d\" xlink:actuate=\"onRequest\" xlink:href=\"psysml:25d96323-353d-45e6-96c8-f6353f2a6c2d\" xlink:show=\"new\" xlink:title=\"psysml:25d96323-353d-45e6-96c8-f6353f2a6c2d\" xlink:type=\"simple\"><rect fill=\"#FFFFFF\" height=\"45.9375\" id=\"E10\" rx=\"10\" ry=\"10\" style=\"stroke: #383838; stroke-width: 1.5;\" width=\"42\" x=\"163\" y=\"62\"/><text fill=\"#000000\" font-family=\"sans-serif\" font-size=\"12\" font-style=\"italic\" lengthAdjust=\"spacingAndGlyphs\" textLength=\"40\" x=\"164\" y=\"78.1387\">«part»</text><text fill=\"#000000\" font-family=\"sans-serif\" font-size=\"12\" lengthAdjust=\"spacingAndGlyphs\" textLength=\"8\" x=\"180\" y=\"92.1074\">g</text><line style=\"stroke: #383838; stroke-width: 1.5;\" x1=\"164\" x2=\"204\" y1=\"99.9375\" y2=\"99.9375\"/></a><!--MD5=[1dd1bfd58a279cf63c5f349dbc8fc6a1]\n",
       "class E11--><a href=\"psysml:05fe5b10-94f9-4e9a-a85e-b113c36136a8\" target=\"_top\" title=\"psysml:05fe5b10-94f9-4e9a-a85e-b113c36136a8\" xlink:actuate=\"onRequest\" xlink:href=\"psysml:05fe5b10-94f9-4e9a-a85e-b113c36136a8\" xlink:show=\"new\" xlink:title=\"psysml:05fe5b10-94f9-4e9a-a85e-b113c36136a8\" xlink:type=\"simple\"><rect fill=\"#FFFFFF\" height=\"88.3516\" id=\"E11\" style=\"stroke: #383838; stroke-width: 1.5;\" width=\"95\" x=\"32.5\" y=\"41\"/><text fill=\"#000000\" font-family=\"sans-serif\" font-size=\"12\" font-style=\"italic\" lengthAdjust=\"spacingAndGlyphs\" textLength=\"93\" x=\"33.5\" y=\"57.1387\">«attribute def»</text><text fill=\"#000000\" font-family=\"sans-serif\" font-size=\"12\" lengthAdjust=\"spacingAndGlyphs\" textLength=\"8\" x=\"76\" y=\"71.1074\">A</text><line style=\"stroke: #383838; stroke-width: 1.5;\" x1=\"33.5\" x2=\"126.5\" y1=\"78.9375\" y2=\"78.9375\"/><text fill=\"#000000\" font-family=\"sans-serif\" font-size=\"11\" lengthAdjust=\"spacingAndGlyphs\" textLength=\"51\" x=\"38.5\" y=\"109.9526\">i: Integer</text><text fill=\"#000000\" font-family=\"sans-serif\" font-size=\"11\" lengthAdjust=\"spacingAndGlyphs\" textLength=\"21\" x=\"38.5\" y=\"122.7573\">x: A</text><line style=\"stroke: #383838; stroke-width: 1.0;\" x1=\"33.5\" x2=\"52.5\" y1=\"93.3398\" y2=\"93.3398\"/><text fill=\"#000000\" font-family=\"sans-serif\" font-size=\"11\" lengthAdjust=\"spacingAndGlyphs\" textLength=\"55\" x=\"52.5\" y=\"96.6479\">attributes</text><line style=\"stroke: #383838; stroke-width: 1.0;\" x1=\"107.5\" x2=\"126.5\" y1=\"93.3398\" y2=\"93.3398\"/></a><!--MD5=[15ebcb19ae302d9b601edb458606d402]\n",
       "link E5 to E2--><a href=\"psysml:b71e192f-5f45-432d-9454-4642818dbb88\" target=\"_top\" title=\"psysml:b71e192f-5f45-432d-9454-4642818dbb88\" xlink:actuate=\"onRequest\" xlink:href=\"psysml:b71e192f-5f45-432d-9454-4642818dbb88\" xlink:show=\"new\" xlink:title=\"psysml:b71e192f-5f45-432d-9454-4642818dbb88\" xlink:type=\"simple\"><path d=\"M562.12,108.06 C556.83,125 549.38,148.89 542.98,169.39 \" fill=\"none\" id=\"E5-&gt;E2\" style=\"stroke: #383838; stroke-width: 1.0;\"/><polygon fill=\"#FFFFFF\" points=\"536.95,188.74,535.929,168.5173,549.2931,172.6886,536.95,188.74\" style=\"stroke: #383838; stroke-width: 1.0;\"/><ellipse cx=\"539.5364\" cy=\"163.6721\" fill=\"#383838\" rx=\"2\" ry=\"2\" style=\"stroke: #383838; stroke-width: 1.0;\"/><ellipse cx=\"549.0823\" cy=\"166.6516\" fill=\"#383838\" rx=\"2\" ry=\"2\" style=\"stroke: #383838; stroke-width: 1.0;\"/></a><!--MD5=[2351f337d6de0f557b50152ba70847b5]\n",
       "link E6 to E2--><a href=\"psysml:173d30e4-d568-4354-a9e9-bb0668964c70\" target=\"_top\" title=\"psysml:173d30e4-d568-4354-a9e9-bb0668964c70\" xlink:actuate=\"onRequest\" xlink:href=\"psysml:173d30e4-d568-4354-a9e9-bb0668964c70\" xlink:show=\"new\" xlink:title=\"psysml:173d30e4-d568-4354-a9e9-bb0668964c70\" xlink:type=\"simple\"><path d=\"M498.71,108.06 C503.86,125 511.12,148.89 517.35,169.39 \" fill=\"none\" id=\"E6-&gt;E2\" style=\"stroke: #383838; stroke-width: 1.0;\"/><polygon fill=\"#FFFFFF\" points=\"523.23,188.74,511.007,172.597,524.4019,168.5255,523.23,188.74\" style=\"stroke: #383838; stroke-width: 1.0;\"/><ellipse cx=\"511.2628\" cy=\"166.5617\" fill=\"#383838\" rx=\"2\" ry=\"2\" style=\"stroke: #383838; stroke-width: 1.0;\"/><ellipse cx=\"520.8306\" cy=\"163.6535\" fill=\"#383838\" rx=\"2\" ry=\"2\" style=\"stroke: #383838; stroke-width: 1.0;\"/></a><!--MD5=[1c3754fb95d3ec34d32208ab2cdb905f]\n",
       "@startuml\r\n",
       "skinparam monochrome true\r\n",
       "skinparam classbackgroundcolor white\r\n",
       "skinparam shadowing false\r\n",
       "skinparam wrapWidth 300\r\n",
       "hide circle\r\n",
       "\r\n",
       "package \"MultiplicityTest\" as E1  [[psysml:c0f24ad0-fe84-484c-92fb-1b0594d1e479 ]]  {\r\n",
       "comp def \"P\" as E2  <<(T,blue) part def>> [[psysml:987e5bc7-b02a-416d-86c6-8545bfa90ef5 ]] {\r\n",
       "}\r\n",
       "comp usage \"n: Integer\" as E3  <<(T,blue) attribute>> [[psysml:7c23d281-2047-4d33-b5ff-31ab75cdc741 ]] {\r\n",
       "}\r\n",
       "comp usage \"a\" as E4  <<(T,blue) part>> [[psysml:dbbeb80c-41d4-4e5a-ae6b-125fea141b81 ]] {\r\n",
       "}\r\n",
       "comp usage \"b: P\" as E5  <<(T,blue) part>> [[psysml:1044b725-5886-488e-a280-d65b06b2678d ]] {\r\n",
       "}\r\n",
       "comp usage \"c: P\" as E6  <<(T,blue) part>> [[psysml:7163cac6-f89e-4c84-b72c-82ccdb232dd2 ]] {\r\n",
       "}\r\n",
       "comp usage \"d\" as E7  <<(T,blue) part>> [[psysml:79f72fcf-9cc7-42c6-886c-0c2f21f0aaa0 ]] {\r\n",
       "}\r\n",
       "comp usage \"e\" as E8  <<(T,blue) part>> [[psysml:7ad65eee-258f-4156-b8ec-39b80665cdbc ]] {\r\n",
       "}\r\n",
       "comp usage \"f\" as E9  <<(T,blue) part>> [[psysml:20b1d46d-edcb-44c0-8591-3bffd604b97a ]] {\r\n",
       "}\r\n",
       "comp usage \"g\" as E10  <<(T,blue) part>> [[psysml:25d96323-353d-45e6-96c8-f6353f2a6c2d ]] {\r\n",
       "}\r\n",
       "comp def \"A\" as E11  <<(T,blue) attribute def>> [[psysml:05fe5b10-94f9-4e9a-a85e-b113c36136a8 ]] {\r\n",
       "- - attributes - -\r\n",
       "i: Integer\r\n",
       "x: A\r\n",
       "}\r\n",
       "}\r\n",
       "E5 - -:|> E2 [[psysml:b71e192f-5f45-432d-9454-4642818dbb88 ]] \r\n",
       "E6 - -:|> E2 [[psysml:173d30e4-d568-4354-a9e9-bb0668964c70 ]] \r\n",
       "@enduml\r\n",
       "\n",
       "PlantUML version 1.2020.13(Sat Jun 13 12:26:38 UTC 2020)\n",
       "(EPL source distribution)\n",
       "Java Runtime: OpenJDK Runtime Environment\n",
       "JVM: OpenJDK 64-Bit Server VM\n",
       "Default Encoding: UTF-8\n",
       "Language: en\n",
       "Country: null\n",
       "--></g></svg>"
      ]
     },
     "execution_count": 43,
     "metadata": {},
     "output_type": "execute_result"
    }
   ],
   "source": [
    "%viz --style=\"DEFAULT\" --view=\"MIXED\" \"MultiplicityTest\""
   ]
  },
  {
   "cell_type": "code",
   "execution_count": 44,
   "id": "bc6ad768",
   "metadata": {
    "execution": {
     "iopub.execute_input": "2021-09-27T07:19:20.070110Z",
     "iopub.status.busy": "2021-09-27T07:19:20.069655Z",
     "iopub.status.idle": "2021-09-27T07:19:20.122957Z",
     "shell.execute_reply": "2021-09-27T07:19:20.122581Z"
    }
   },
   "outputs": [
    {
     "data": {
      "image/svg+xml": [
       "<?xml version=\"1.0\" encoding=\"UTF-8\" standalone=\"no\"?><svg xmlns=\"http://www.w3.org/2000/svg\" xmlns:xlink=\"http://www.w3.org/1999/xlink\" contentScriptType=\"application/ecmascript\" contentStyleType=\"text/css\" height=\"263px\" preserveAspectRatio=\"none\" style=\"width:812px;height:263px;\" version=\"1.1\" viewBox=\"0 0 812 263\" width=\"812px\" zoomAndPan=\"magnify\"><defs/><g><!--MD5=[fbc87193dbaf4d95561dea2c320d4a47]\n",
       "cluster E1--><a href=\"psysml:c0f24ad0-fe84-484c-92fb-1b0594d1e479\" target=\"_top\" title=\"psysml:c0f24ad0-fe84-484c-92fb-1b0594d1e479\" xlink:actuate=\"onRequest\" xlink:href=\"psysml:c0f24ad0-fe84-484c-92fb-1b0594d1e479\" xlink:show=\"new\" xlink:title=\"psysml:c0f24ad0-fe84-484c-92fb-1b0594d1e479\" xlink:type=\"simple\"><polygon fill=\"#FFFFFF\" points=\"16,6,123,6,130,28.2969,790,28.2969,790,251,16,251,16,6\" style=\"stroke: #000000; stroke-width: 1.5;\"/><line style=\"stroke: #000000; stroke-width: 1.5;\" x1=\"16\" x2=\"130\" y1=\"28.2969\" y2=\"28.2969\"/><text fill=\"#000000\" font-family=\"sans-serif\" font-size=\"14\" font-weight=\"bold\" lengthAdjust=\"spacingAndGlyphs\" textLength=\"101\" x=\"20\" y=\"20.9951\">MultiplicityTest</text></a><!--MD5=[b4997ac47864f28c2f74865a473b2911]\n",
       "class E2--><a href=\"psysml:987e5bc7-b02a-416d-86c6-8545bfa90ef5\" target=\"_top\" title=\"psysml:987e5bc7-b02a-416d-86c6-8545bfa90ef5\" xlink:actuate=\"onRequest\" xlink:href=\"psysml:987e5bc7-b02a-416d-86c6-8545bfa90ef5\" xlink:show=\"new\" xlink:title=\"psysml:987e5bc7-b02a-416d-86c6-8545bfa90ef5\" xlink:type=\"simple\"><rect fill=\"#FFFFFF\" height=\"45.9375\" id=\"E2\" style=\"stroke: #383838; stroke-width: 1.5;\" width=\"66\" x=\"497\" y=\"189\"/><text fill=\"#000000\" font-family=\"sans-serif\" font-size=\"12\" font-style=\"italic\" lengthAdjust=\"spacingAndGlyphs\" textLength=\"64\" x=\"498\" y=\"205.1387\">«part def»</text><text fill=\"#000000\" font-family=\"sans-serif\" font-size=\"12\" lengthAdjust=\"spacingAndGlyphs\" textLength=\"8\" x=\"526\" y=\"219.1074\">P</text><line style=\"stroke: #383838; stroke-width: 1.5;\" x1=\"498\" x2=\"562\" y1=\"226.9375\" y2=\"226.9375\"/></a><!--MD5=[09b614a08d8cba4a07c9adeb5e0fee81]\n",
       "class E3--><a href=\"psysml:7c23d281-2047-4d33-b5ff-31ab75cdc741\" target=\"_top\" title=\"psysml:7c23d281-2047-4d33-b5ff-31ab75cdc741\" xlink:actuate=\"onRequest\" xlink:href=\"psysml:7c23d281-2047-4d33-b5ff-31ab75cdc741\" xlink:show=\"new\" xlink:title=\"psysml:7c23d281-2047-4d33-b5ff-31ab75cdc741\" xlink:type=\"simple\"><rect fill=\"#FFFFFF\" height=\"45.9375\" id=\"E3\" rx=\"10\" ry=\"10\" style=\"stroke: #383838; stroke-width: 1.5;\" width=\"71\" x=\"702.5\" y=\"62\"/><text fill=\"#000000\" font-family=\"sans-serif\" font-size=\"12\" font-style=\"italic\" lengthAdjust=\"spacingAndGlyphs\" textLength=\"69\" x=\"703.5\" y=\"78.1387\">«attribute»</text><text fill=\"#000000\" font-family=\"sans-serif\" font-size=\"12\" lengthAdjust=\"spacingAndGlyphs\" textLength=\"61\" x=\"707.5\" y=\"92.1074\">n: Integer</text><line style=\"stroke: #383838; stroke-width: 1.5;\" x1=\"703.5\" x2=\"772.5\" y1=\"99.9375\" y2=\"99.9375\"/></a><!--MD5=[ebbe1d658d1005bcc118a6aa81145e00]\n",
       "class E4--><a href=\"psysml:dbbeb80c-41d4-4e5a-ae6b-125fea141b81\" target=\"_top\" title=\"psysml:dbbeb80c-41d4-4e5a-ae6b-125fea141b81\" xlink:actuate=\"onRequest\" xlink:href=\"psysml:dbbeb80c-41d4-4e5a-ae6b-125fea141b81\" xlink:show=\"new\" xlink:title=\"psysml:dbbeb80c-41d4-4e5a-ae6b-125fea141b81\" xlink:type=\"simple\"><rect fill=\"#FFFFFF\" height=\"45.9375\" id=\"E4\" rx=\"10\" ry=\"10\" style=\"stroke: #383838; stroke-width: 1.5;\" width=\"42\" x=\"625\" y=\"62\"/><text fill=\"#000000\" font-family=\"sans-serif\" font-size=\"12\" font-style=\"italic\" lengthAdjust=\"spacingAndGlyphs\" textLength=\"40\" x=\"626\" y=\"78.1387\">«part»</text><text fill=\"#000000\" font-family=\"sans-serif\" font-size=\"12\" lengthAdjust=\"spacingAndGlyphs\" textLength=\"8\" x=\"642\" y=\"92.1074\">a</text><line style=\"stroke: #383838; stroke-width: 1.5;\" x1=\"626\" x2=\"666\" y1=\"99.9375\" y2=\"99.9375\"/></a><!--MD5=[270fce915f116d4de14055a7c1d9a0f3]\n",
       "class E5--><a href=\"psysml:1044b725-5886-488e-a280-d65b06b2678d\" target=\"_top\" title=\"psysml:1044b725-5886-488e-a280-d65b06b2678d\" xlink:actuate=\"onRequest\" xlink:href=\"psysml:1044b725-5886-488e-a280-d65b06b2678d\" xlink:show=\"new\" xlink:title=\"psysml:1044b725-5886-488e-a280-d65b06b2678d\" xlink:type=\"simple\"><rect fill=\"#FFFFFF\" height=\"45.9375\" id=\"E5\" rx=\"10\" ry=\"10\" style=\"stroke: #383838; stroke-width: 1.5;\" width=\"42\" x=\"548\" y=\"62\"/><text fill=\"#000000\" font-family=\"sans-serif\" font-size=\"12\" font-style=\"italic\" lengthAdjust=\"spacingAndGlyphs\" textLength=\"40\" x=\"549\" y=\"78.1387\">«part»</text><text fill=\"#000000\" font-family=\"sans-serif\" font-size=\"12\" lengthAdjust=\"spacingAndGlyphs\" textLength=\"24\" x=\"557\" y=\"92.1074\">b: P</text><line style=\"stroke: #383838; stroke-width: 1.5;\" x1=\"549\" x2=\"589\" y1=\"99.9375\" y2=\"99.9375\"/></a><!--MD5=[60a26617385b1d2d0262a64233df1f8d]\n",
       "class E6--><a href=\"psysml:7163cac6-f89e-4c84-b72c-82ccdb232dd2\" target=\"_top\" title=\"psysml:7163cac6-f89e-4c84-b72c-82ccdb232dd2\" xlink:actuate=\"onRequest\" xlink:href=\"psysml:7163cac6-f89e-4c84-b72c-82ccdb232dd2\" xlink:show=\"new\" xlink:title=\"psysml:7163cac6-f89e-4c84-b72c-82ccdb232dd2\" xlink:type=\"simple\"><rect fill=\"#FFFFFF\" height=\"45.9375\" id=\"E6\" rx=\"10\" ry=\"10\" style=\"stroke: #383838; stroke-width: 1.5;\" width=\"42\" x=\"471\" y=\"62\"/><text fill=\"#000000\" font-family=\"sans-serif\" font-size=\"12\" font-style=\"italic\" lengthAdjust=\"spacingAndGlyphs\" textLength=\"40\" x=\"472\" y=\"78.1387\">«part»</text><text fill=\"#000000\" font-family=\"sans-serif\" font-size=\"12\" lengthAdjust=\"spacingAndGlyphs\" textLength=\"23\" x=\"480.5\" y=\"92.1074\">c: P</text><line style=\"stroke: #383838; stroke-width: 1.5;\" x1=\"472\" x2=\"512\" y1=\"99.9375\" y2=\"99.9375\"/></a><!--MD5=[2156ba9850f5573cc1fc38a6a4b2f02b]\n",
       "class E7--><a href=\"psysml:79f72fcf-9cc7-42c6-886c-0c2f21f0aaa0\" target=\"_top\" title=\"psysml:79f72fcf-9cc7-42c6-886c-0c2f21f0aaa0\" xlink:actuate=\"onRequest\" xlink:href=\"psysml:79f72fcf-9cc7-42c6-886c-0c2f21f0aaa0\" xlink:show=\"new\" xlink:title=\"psysml:79f72fcf-9cc7-42c6-886c-0c2f21f0aaa0\" xlink:type=\"simple\"><rect fill=\"#FFFFFF\" height=\"45.9375\" id=\"E7\" rx=\"10\" ry=\"10\" style=\"stroke: #383838; stroke-width: 1.5;\" width=\"42\" x=\"394\" y=\"62\"/><text fill=\"#000000\" font-family=\"sans-serif\" font-size=\"12\" font-style=\"italic\" lengthAdjust=\"spacingAndGlyphs\" textLength=\"40\" x=\"395\" y=\"78.1387\">«part»</text><text fill=\"#000000\" font-family=\"sans-serif\" font-size=\"12\" lengthAdjust=\"spacingAndGlyphs\" textLength=\"8\" x=\"411\" y=\"92.1074\">d</text><line style=\"stroke: #383838; stroke-width: 1.5;\" x1=\"395\" x2=\"435\" y1=\"99.9375\" y2=\"99.9375\"/></a><!--MD5=[b9389687b975829384b498ac4b7476b2]\n",
       "class E8--><a href=\"psysml:7ad65eee-258f-4156-b8ec-39b80665cdbc\" target=\"_top\" title=\"psysml:7ad65eee-258f-4156-b8ec-39b80665cdbc\" xlink:actuate=\"onRequest\" xlink:href=\"psysml:7ad65eee-258f-4156-b8ec-39b80665cdbc\" xlink:show=\"new\" xlink:title=\"psysml:7ad65eee-258f-4156-b8ec-39b80665cdbc\" xlink:type=\"simple\"><rect fill=\"#FFFFFF\" height=\"45.9375\" id=\"E8\" rx=\"10\" ry=\"10\" style=\"stroke: #383838; stroke-width: 1.5;\" width=\"42\" x=\"317\" y=\"62\"/><text fill=\"#000000\" font-family=\"sans-serif\" font-size=\"12\" font-style=\"italic\" lengthAdjust=\"spacingAndGlyphs\" textLength=\"40\" x=\"318\" y=\"78.1387\">«part»</text><text fill=\"#000000\" font-family=\"sans-serif\" font-size=\"12\" lengthAdjust=\"spacingAndGlyphs\" textLength=\"8\" x=\"334\" y=\"92.1074\">e</text><line style=\"stroke: #383838; stroke-width: 1.5;\" x1=\"318\" x2=\"358\" y1=\"99.9375\" y2=\"99.9375\"/></a><!--MD5=[fd4143e9d270a159db93a4ea2a975926]\n",
       "class E9--><a href=\"psysml:20b1d46d-edcb-44c0-8591-3bffd604b97a\" target=\"_top\" title=\"psysml:20b1d46d-edcb-44c0-8591-3bffd604b97a\" xlink:actuate=\"onRequest\" xlink:href=\"psysml:20b1d46d-edcb-44c0-8591-3bffd604b97a\" xlink:show=\"new\" xlink:title=\"psysml:20b1d46d-edcb-44c0-8591-3bffd604b97a\" xlink:type=\"simple\"><rect fill=\"#FFFFFF\" height=\"45.9375\" id=\"E9\" rx=\"10\" ry=\"10\" style=\"stroke: #383838; stroke-width: 1.5;\" width=\"42\" x=\"240\" y=\"62\"/><text fill=\"#000000\" font-family=\"sans-serif\" font-size=\"12\" font-style=\"italic\" lengthAdjust=\"spacingAndGlyphs\" textLength=\"40\" x=\"241\" y=\"78.1387\">«part»</text><text fill=\"#000000\" font-family=\"sans-serif\" font-size=\"12\" lengthAdjust=\"spacingAndGlyphs\" textLength=\"4\" x=\"259\" y=\"92.1074\">f</text><line style=\"stroke: #383838; stroke-width: 1.5;\" x1=\"241\" x2=\"281\" y1=\"99.9375\" y2=\"99.9375\"/></a><!--MD5=[96f4274e9e20536e775497830990834d]\n",
       "class E10--><a href=\"psysml:25d96323-353d-45e6-96c8-f6353f2a6c2d\" target=\"_top\" title=\"psysml:25d96323-353d-45e6-96c8-f6353f2a6c2d\" xlink:actuate=\"onRequest\" xlink:href=\"psysml:25d96323-353d-45e6-96c8-f6353f2a6c2d\" xlink:show=\"new\" xlink:title=\"psysml:25d96323-353d-45e6-96c8-f6353f2a6c2d\" xlink:type=\"simple\"><rect fill=\"#FFFFFF\" height=\"45.9375\" id=\"E10\" rx=\"10\" ry=\"10\" style=\"stroke: #383838; stroke-width: 1.5;\" width=\"42\" x=\"163\" y=\"62\"/><text fill=\"#000000\" font-family=\"sans-serif\" font-size=\"12\" font-style=\"italic\" lengthAdjust=\"spacingAndGlyphs\" textLength=\"40\" x=\"164\" y=\"78.1387\">«part»</text><text fill=\"#000000\" font-family=\"sans-serif\" font-size=\"12\" lengthAdjust=\"spacingAndGlyphs\" textLength=\"8\" x=\"180\" y=\"92.1074\">g</text><line style=\"stroke: #383838; stroke-width: 1.5;\" x1=\"164\" x2=\"204\" y1=\"99.9375\" y2=\"99.9375\"/></a><!--MD5=[1dd1bfd58a279cf63c5f349dbc8fc6a1]\n",
       "class E11--><a href=\"psysml:05fe5b10-94f9-4e9a-a85e-b113c36136a8\" target=\"_top\" title=\"psysml:05fe5b10-94f9-4e9a-a85e-b113c36136a8\" xlink:actuate=\"onRequest\" xlink:href=\"psysml:05fe5b10-94f9-4e9a-a85e-b113c36136a8\" xlink:show=\"new\" xlink:title=\"psysml:05fe5b10-94f9-4e9a-a85e-b113c36136a8\" xlink:type=\"simple\"><rect fill=\"#FFFFFF\" height=\"88.3516\" id=\"E11\" style=\"stroke: #383838; stroke-width: 1.5;\" width=\"95\" x=\"32.5\" y=\"41\"/><text fill=\"#000000\" font-family=\"sans-serif\" font-size=\"12\" font-style=\"italic\" lengthAdjust=\"spacingAndGlyphs\" textLength=\"93\" x=\"33.5\" y=\"57.1387\">«attribute def»</text><text fill=\"#000000\" font-family=\"sans-serif\" font-size=\"12\" lengthAdjust=\"spacingAndGlyphs\" textLength=\"8\" x=\"76\" y=\"71.1074\">A</text><line style=\"stroke: #383838; stroke-width: 1.5;\" x1=\"33.5\" x2=\"126.5\" y1=\"78.9375\" y2=\"78.9375\"/><text fill=\"#000000\" font-family=\"sans-serif\" font-size=\"11\" lengthAdjust=\"spacingAndGlyphs\" textLength=\"51\" x=\"38.5\" y=\"109.9526\">i: Integer</text><text fill=\"#000000\" font-family=\"sans-serif\" font-size=\"11\" lengthAdjust=\"spacingAndGlyphs\" textLength=\"21\" x=\"38.5\" y=\"122.7573\">x: A</text><line style=\"stroke: #383838; stroke-width: 1.0;\" x1=\"33.5\" x2=\"52.5\" y1=\"93.3398\" y2=\"93.3398\"/><text fill=\"#000000\" font-family=\"sans-serif\" font-size=\"11\" lengthAdjust=\"spacingAndGlyphs\" textLength=\"55\" x=\"52.5\" y=\"96.6479\">attributes</text><line style=\"stroke: #383838; stroke-width: 1.0;\" x1=\"107.5\" x2=\"126.5\" y1=\"93.3398\" y2=\"93.3398\"/></a><!--MD5=[15ebcb19ae302d9b601edb458606d402]\n",
       "link E5 to E2--><a href=\"psysml:b71e192f-5f45-432d-9454-4642818dbb88\" target=\"_top\" title=\"psysml:b71e192f-5f45-432d-9454-4642818dbb88\" xlink:actuate=\"onRequest\" xlink:href=\"psysml:b71e192f-5f45-432d-9454-4642818dbb88\" xlink:show=\"new\" xlink:title=\"psysml:b71e192f-5f45-432d-9454-4642818dbb88\" xlink:type=\"simple\"><path d=\"M562.12,108.06 C556.83,125 549.38,148.89 542.98,169.39 \" fill=\"none\" id=\"E5-&gt;E2\" style=\"stroke: #383838; stroke-width: 1.0;\"/><polygon fill=\"#FFFFFF\" points=\"536.95,188.74,535.929,168.5173,549.2931,172.6886,536.95,188.74\" style=\"stroke: #383838; stroke-width: 1.0;\"/><ellipse cx=\"539.5364\" cy=\"163.6721\" fill=\"#383838\" rx=\"2\" ry=\"2\" style=\"stroke: #383838; stroke-width: 1.0;\"/><ellipse cx=\"549.0823\" cy=\"166.6516\" fill=\"#383838\" rx=\"2\" ry=\"2\" style=\"stroke: #383838; stroke-width: 1.0;\"/></a><!--MD5=[2351f337d6de0f557b50152ba70847b5]\n",
       "link E6 to E2--><a href=\"psysml:173d30e4-d568-4354-a9e9-bb0668964c70\" target=\"_top\" title=\"psysml:173d30e4-d568-4354-a9e9-bb0668964c70\" xlink:actuate=\"onRequest\" xlink:href=\"psysml:173d30e4-d568-4354-a9e9-bb0668964c70\" xlink:show=\"new\" xlink:title=\"psysml:173d30e4-d568-4354-a9e9-bb0668964c70\" xlink:type=\"simple\"><path d=\"M498.71,108.06 C503.86,125 511.12,148.89 517.35,169.39 \" fill=\"none\" id=\"E6-&gt;E2\" style=\"stroke: #383838; stroke-width: 1.0;\"/><polygon fill=\"#FFFFFF\" points=\"523.23,188.74,511.007,172.597,524.4019,168.5255,523.23,188.74\" style=\"stroke: #383838; stroke-width: 1.0;\"/><ellipse cx=\"511.2628\" cy=\"166.5617\" fill=\"#383838\" rx=\"2\" ry=\"2\" style=\"stroke: #383838; stroke-width: 1.0;\"/><ellipse cx=\"520.8306\" cy=\"163.6535\" fill=\"#383838\" rx=\"2\" ry=\"2\" style=\"stroke: #383838; stroke-width: 1.0;\"/></a><!--MD5=[b198def845b1cbe5f6161e55ceb1d24c]\n",
       "@startuml\r\n",
       "top to bottom direction\r\n",
       "skinparam monochrome true\r\n",
       "skinparam classbackgroundcolor white\r\n",
       "skinparam shadowing false\r\n",
       "skinparam wrapWidth 300\r\n",
       "hide circle\r\n",
       "\r\n",
       "package \"MultiplicityTest\" as E1  [[psysml:c0f24ad0-fe84-484c-92fb-1b0594d1e479 ]]  {\r\n",
       "comp def \"P\" as E2  <<(T,blue) part def>> [[psysml:987e5bc7-b02a-416d-86c6-8545bfa90ef5 ]] {\r\n",
       "}\r\n",
       "comp usage \"n: Integer\" as E3  <<(T,blue) attribute>> [[psysml:7c23d281-2047-4d33-b5ff-31ab75cdc741 ]] {\r\n",
       "}\r\n",
       "comp usage \"a\" as E4  <<(T,blue) part>> [[psysml:dbbeb80c-41d4-4e5a-ae6b-125fea141b81 ]] {\r\n",
       "}\r\n",
       "comp usage \"b: P\" as E5  <<(T,blue) part>> [[psysml:1044b725-5886-488e-a280-d65b06b2678d ]] {\r\n",
       "}\r\n",
       "comp usage \"c: P\" as E6  <<(T,blue) part>> [[psysml:7163cac6-f89e-4c84-b72c-82ccdb232dd2 ]] {\r\n",
       "}\r\n",
       "comp usage \"d\" as E7  <<(T,blue) part>> [[psysml:79f72fcf-9cc7-42c6-886c-0c2f21f0aaa0 ]] {\r\n",
       "}\r\n",
       "comp usage \"e\" as E8  <<(T,blue) part>> [[psysml:7ad65eee-258f-4156-b8ec-39b80665cdbc ]] {\r\n",
       "}\r\n",
       "comp usage \"f\" as E9  <<(T,blue) part>> [[psysml:20b1d46d-edcb-44c0-8591-3bffd604b97a ]] {\r\n",
       "}\r\n",
       "comp usage \"g\" as E10  <<(T,blue) part>> [[psysml:25d96323-353d-45e6-96c8-f6353f2a6c2d ]] {\r\n",
       "}\r\n",
       "comp def \"A\" as E11  <<(T,blue) attribute def>> [[psysml:05fe5b10-94f9-4e9a-a85e-b113c36136a8 ]] {\r\n",
       "- - attributes - -\r\n",
       "i: Integer\r\n",
       "x: A\r\n",
       "}\r\n",
       "}\r\n",
       "E5 - -:|> E2 [[psysml:b71e192f-5f45-432d-9454-4642818dbb88 ]] \r\n",
       "E6 - -:|> E2 [[psysml:173d30e4-d568-4354-a9e9-bb0668964c70 ]] \r\n",
       "@enduml\r\n",
       "\n",
       "PlantUML version 1.2020.13(Sat Jun 13 12:26:38 UTC 2020)\n",
       "(EPL source distribution)\n",
       "Java Runtime: OpenJDK Runtime Environment\n",
       "JVM: OpenJDK 64-Bit Server VM\n",
       "Default Encoding: UTF-8\n",
       "Language: en\n",
       "Country: null\n",
       "--></g></svg>"
      ]
     },
     "execution_count": 44,
     "metadata": {},
     "output_type": "execute_result"
    }
   ],
   "source": [
    "%viz --style=\"TB\" --view=\"Default\" \"MultiplicityTest\""
   ]
  },
  {
   "cell_type": "code",
   "execution_count": 45,
   "id": "8cbc9dfe",
   "metadata": {
    "execution": {
     "iopub.execute_input": "2021-09-27T07:19:20.172817Z",
     "iopub.status.busy": "2021-09-27T07:19:20.172310Z",
     "iopub.status.idle": "2021-09-27T07:19:20.223197Z",
     "shell.execute_reply": "2021-09-27T07:19:20.221845Z"
    }
   },
   "outputs": [
    {
     "data": {
      "image/svg+xml": [
       "<?xml version=\"1.0\" encoding=\"UTF-8\" standalone=\"no\"?><svg xmlns=\"http://www.w3.org/2000/svg\" xmlns:xlink=\"http://www.w3.org/1999/xlink\" contentScriptType=\"application/ecmascript\" contentStyleType=\"text/css\" height=\"263px\" preserveAspectRatio=\"none\" style=\"width:812px;height:263px;\" version=\"1.1\" viewBox=\"0 0 812 263\" width=\"812px\" zoomAndPan=\"magnify\"><defs/><g><!--MD5=[fbc87193dbaf4d95561dea2c320d4a47]\n",
       "cluster E1--><a href=\"psysml:c0f24ad0-fe84-484c-92fb-1b0594d1e479\" target=\"_top\" title=\"psysml:c0f24ad0-fe84-484c-92fb-1b0594d1e479\" xlink:actuate=\"onRequest\" xlink:href=\"psysml:c0f24ad0-fe84-484c-92fb-1b0594d1e479\" xlink:show=\"new\" xlink:title=\"psysml:c0f24ad0-fe84-484c-92fb-1b0594d1e479\" xlink:type=\"simple\"><polygon fill=\"#FFFFFF\" points=\"16,6,123,6,130,28.2969,790,28.2969,790,251,16,251,16,6\" style=\"stroke: #000000; stroke-width: 1.5;\"/><line style=\"stroke: #000000; stroke-width: 1.5;\" x1=\"16\" x2=\"130\" y1=\"28.2969\" y2=\"28.2969\"/><text fill=\"#000000\" font-family=\"sans-serif\" font-size=\"14\" font-weight=\"bold\" lengthAdjust=\"spacingAndGlyphs\" textLength=\"101\" x=\"20\" y=\"20.9951\">MultiplicityTest</text></a><!--MD5=[b4997ac47864f28c2f74865a473b2911]\n",
       "class E2--><a href=\"psysml:987e5bc7-b02a-416d-86c6-8545bfa90ef5\" target=\"_top\" title=\"psysml:987e5bc7-b02a-416d-86c6-8545bfa90ef5\" xlink:actuate=\"onRequest\" xlink:href=\"psysml:987e5bc7-b02a-416d-86c6-8545bfa90ef5\" xlink:show=\"new\" xlink:title=\"psysml:987e5bc7-b02a-416d-86c6-8545bfa90ef5\" xlink:type=\"simple\"><rect fill=\"#FFFFFF\" height=\"45.9375\" id=\"E2\" style=\"stroke: #383838; stroke-width: 1.5;\" width=\"66\" x=\"497\" y=\"189\"/><text fill=\"#000000\" font-family=\"sans-serif\" font-size=\"12\" font-style=\"italic\" lengthAdjust=\"spacingAndGlyphs\" textLength=\"64\" x=\"498\" y=\"205.1387\">«part def»</text><text fill=\"#000000\" font-family=\"sans-serif\" font-size=\"12\" lengthAdjust=\"spacingAndGlyphs\" textLength=\"8\" x=\"526\" y=\"219.1074\">P</text><line style=\"stroke: #383838; stroke-width: 1.5;\" x1=\"498\" x2=\"562\" y1=\"226.9375\" y2=\"226.9375\"/></a><!--MD5=[09b614a08d8cba4a07c9adeb5e0fee81]\n",
       "class E3--><a href=\"psysml:7c23d281-2047-4d33-b5ff-31ab75cdc741\" target=\"_top\" title=\"psysml:7c23d281-2047-4d33-b5ff-31ab75cdc741\" xlink:actuate=\"onRequest\" xlink:href=\"psysml:7c23d281-2047-4d33-b5ff-31ab75cdc741\" xlink:show=\"new\" xlink:title=\"psysml:7c23d281-2047-4d33-b5ff-31ab75cdc741\" xlink:type=\"simple\"><rect fill=\"#FFFFFF\" height=\"45.9375\" id=\"E3\" rx=\"10\" ry=\"10\" style=\"stroke: #383838; stroke-width: 1.5;\" width=\"71\" x=\"702.5\" y=\"62\"/><text fill=\"#000000\" font-family=\"sans-serif\" font-size=\"12\" font-style=\"italic\" lengthAdjust=\"spacingAndGlyphs\" textLength=\"69\" x=\"703.5\" y=\"78.1387\">«attribute»</text><text fill=\"#000000\" font-family=\"sans-serif\" font-size=\"12\" lengthAdjust=\"spacingAndGlyphs\" textLength=\"61\" x=\"707.5\" y=\"92.1074\">n: Integer</text><line style=\"stroke: #383838; stroke-width: 1.5;\" x1=\"703.5\" x2=\"772.5\" y1=\"99.9375\" y2=\"99.9375\"/></a><!--MD5=[ebbe1d658d1005bcc118a6aa81145e00]\n",
       "class E4--><a href=\"psysml:dbbeb80c-41d4-4e5a-ae6b-125fea141b81\" target=\"_top\" title=\"psysml:dbbeb80c-41d4-4e5a-ae6b-125fea141b81\" xlink:actuate=\"onRequest\" xlink:href=\"psysml:dbbeb80c-41d4-4e5a-ae6b-125fea141b81\" xlink:show=\"new\" xlink:title=\"psysml:dbbeb80c-41d4-4e5a-ae6b-125fea141b81\" xlink:type=\"simple\"><rect fill=\"#FFFFFF\" height=\"45.9375\" id=\"E4\" rx=\"10\" ry=\"10\" style=\"stroke: #383838; stroke-width: 1.5;\" width=\"42\" x=\"625\" y=\"62\"/><text fill=\"#000000\" font-family=\"sans-serif\" font-size=\"12\" font-style=\"italic\" lengthAdjust=\"spacingAndGlyphs\" textLength=\"40\" x=\"626\" y=\"78.1387\">«part»</text><text fill=\"#000000\" font-family=\"sans-serif\" font-size=\"12\" lengthAdjust=\"spacingAndGlyphs\" textLength=\"8\" x=\"642\" y=\"92.1074\">a</text><line style=\"stroke: #383838; stroke-width: 1.5;\" x1=\"626\" x2=\"666\" y1=\"99.9375\" y2=\"99.9375\"/></a><!--MD5=[270fce915f116d4de14055a7c1d9a0f3]\n",
       "class E5--><a href=\"psysml:1044b725-5886-488e-a280-d65b06b2678d\" target=\"_top\" title=\"psysml:1044b725-5886-488e-a280-d65b06b2678d\" xlink:actuate=\"onRequest\" xlink:href=\"psysml:1044b725-5886-488e-a280-d65b06b2678d\" xlink:show=\"new\" xlink:title=\"psysml:1044b725-5886-488e-a280-d65b06b2678d\" xlink:type=\"simple\"><rect fill=\"#FFFFFF\" height=\"45.9375\" id=\"E5\" rx=\"10\" ry=\"10\" style=\"stroke: #383838; stroke-width: 1.5;\" width=\"42\" x=\"548\" y=\"62\"/><text fill=\"#000000\" font-family=\"sans-serif\" font-size=\"12\" font-style=\"italic\" lengthAdjust=\"spacingAndGlyphs\" textLength=\"40\" x=\"549\" y=\"78.1387\">«part»</text><text fill=\"#000000\" font-family=\"sans-serif\" font-size=\"12\" lengthAdjust=\"spacingAndGlyphs\" textLength=\"24\" x=\"557\" y=\"92.1074\">b: P</text><line style=\"stroke: #383838; stroke-width: 1.5;\" x1=\"549\" x2=\"589\" y1=\"99.9375\" y2=\"99.9375\"/></a><!--MD5=[60a26617385b1d2d0262a64233df1f8d]\n",
       "class E6--><a href=\"psysml:7163cac6-f89e-4c84-b72c-82ccdb232dd2\" target=\"_top\" title=\"psysml:7163cac6-f89e-4c84-b72c-82ccdb232dd2\" xlink:actuate=\"onRequest\" xlink:href=\"psysml:7163cac6-f89e-4c84-b72c-82ccdb232dd2\" xlink:show=\"new\" xlink:title=\"psysml:7163cac6-f89e-4c84-b72c-82ccdb232dd2\" xlink:type=\"simple\"><rect fill=\"#FFFFFF\" height=\"45.9375\" id=\"E6\" rx=\"10\" ry=\"10\" style=\"stroke: #383838; stroke-width: 1.5;\" width=\"42\" x=\"471\" y=\"62\"/><text fill=\"#000000\" font-family=\"sans-serif\" font-size=\"12\" font-style=\"italic\" lengthAdjust=\"spacingAndGlyphs\" textLength=\"40\" x=\"472\" y=\"78.1387\">«part»</text><text fill=\"#000000\" font-family=\"sans-serif\" font-size=\"12\" lengthAdjust=\"spacingAndGlyphs\" textLength=\"23\" x=\"480.5\" y=\"92.1074\">c: P</text><line style=\"stroke: #383838; stroke-width: 1.5;\" x1=\"472\" x2=\"512\" y1=\"99.9375\" y2=\"99.9375\"/></a><!--MD5=[2156ba9850f5573cc1fc38a6a4b2f02b]\n",
       "class E7--><a href=\"psysml:79f72fcf-9cc7-42c6-886c-0c2f21f0aaa0\" target=\"_top\" title=\"psysml:79f72fcf-9cc7-42c6-886c-0c2f21f0aaa0\" xlink:actuate=\"onRequest\" xlink:href=\"psysml:79f72fcf-9cc7-42c6-886c-0c2f21f0aaa0\" xlink:show=\"new\" xlink:title=\"psysml:79f72fcf-9cc7-42c6-886c-0c2f21f0aaa0\" xlink:type=\"simple\"><rect fill=\"#FFFFFF\" height=\"45.9375\" id=\"E7\" rx=\"10\" ry=\"10\" style=\"stroke: #383838; stroke-width: 1.5;\" width=\"42\" x=\"394\" y=\"62\"/><text fill=\"#000000\" font-family=\"sans-serif\" font-size=\"12\" font-style=\"italic\" lengthAdjust=\"spacingAndGlyphs\" textLength=\"40\" x=\"395\" y=\"78.1387\">«part»</text><text fill=\"#000000\" font-family=\"sans-serif\" font-size=\"12\" lengthAdjust=\"spacingAndGlyphs\" textLength=\"8\" x=\"411\" y=\"92.1074\">d</text><line style=\"stroke: #383838; stroke-width: 1.5;\" x1=\"395\" x2=\"435\" y1=\"99.9375\" y2=\"99.9375\"/></a><!--MD5=[b9389687b975829384b498ac4b7476b2]\n",
       "class E8--><a href=\"psysml:7ad65eee-258f-4156-b8ec-39b80665cdbc\" target=\"_top\" title=\"psysml:7ad65eee-258f-4156-b8ec-39b80665cdbc\" xlink:actuate=\"onRequest\" xlink:href=\"psysml:7ad65eee-258f-4156-b8ec-39b80665cdbc\" xlink:show=\"new\" xlink:title=\"psysml:7ad65eee-258f-4156-b8ec-39b80665cdbc\" xlink:type=\"simple\"><rect fill=\"#FFFFFF\" height=\"45.9375\" id=\"E8\" rx=\"10\" ry=\"10\" style=\"stroke: #383838; stroke-width: 1.5;\" width=\"42\" x=\"317\" y=\"62\"/><text fill=\"#000000\" font-family=\"sans-serif\" font-size=\"12\" font-style=\"italic\" lengthAdjust=\"spacingAndGlyphs\" textLength=\"40\" x=\"318\" y=\"78.1387\">«part»</text><text fill=\"#000000\" font-family=\"sans-serif\" font-size=\"12\" lengthAdjust=\"spacingAndGlyphs\" textLength=\"8\" x=\"334\" y=\"92.1074\">e</text><line style=\"stroke: #383838; stroke-width: 1.5;\" x1=\"318\" x2=\"358\" y1=\"99.9375\" y2=\"99.9375\"/></a><!--MD5=[fd4143e9d270a159db93a4ea2a975926]\n",
       "class E9--><a href=\"psysml:20b1d46d-edcb-44c0-8591-3bffd604b97a\" target=\"_top\" title=\"psysml:20b1d46d-edcb-44c0-8591-3bffd604b97a\" xlink:actuate=\"onRequest\" xlink:href=\"psysml:20b1d46d-edcb-44c0-8591-3bffd604b97a\" xlink:show=\"new\" xlink:title=\"psysml:20b1d46d-edcb-44c0-8591-3bffd604b97a\" xlink:type=\"simple\"><rect fill=\"#FFFFFF\" height=\"45.9375\" id=\"E9\" rx=\"10\" ry=\"10\" style=\"stroke: #383838; stroke-width: 1.5;\" width=\"42\" x=\"240\" y=\"62\"/><text fill=\"#000000\" font-family=\"sans-serif\" font-size=\"12\" font-style=\"italic\" lengthAdjust=\"spacingAndGlyphs\" textLength=\"40\" x=\"241\" y=\"78.1387\">«part»</text><text fill=\"#000000\" font-family=\"sans-serif\" font-size=\"12\" lengthAdjust=\"spacingAndGlyphs\" textLength=\"4\" x=\"259\" y=\"92.1074\">f</text><line style=\"stroke: #383838; stroke-width: 1.5;\" x1=\"241\" x2=\"281\" y1=\"99.9375\" y2=\"99.9375\"/></a><!--MD5=[96f4274e9e20536e775497830990834d]\n",
       "class E10--><a href=\"psysml:25d96323-353d-45e6-96c8-f6353f2a6c2d\" target=\"_top\" title=\"psysml:25d96323-353d-45e6-96c8-f6353f2a6c2d\" xlink:actuate=\"onRequest\" xlink:href=\"psysml:25d96323-353d-45e6-96c8-f6353f2a6c2d\" xlink:show=\"new\" xlink:title=\"psysml:25d96323-353d-45e6-96c8-f6353f2a6c2d\" xlink:type=\"simple\"><rect fill=\"#FFFFFF\" height=\"45.9375\" id=\"E10\" rx=\"10\" ry=\"10\" style=\"stroke: #383838; stroke-width: 1.5;\" width=\"42\" x=\"163\" y=\"62\"/><text fill=\"#000000\" font-family=\"sans-serif\" font-size=\"12\" font-style=\"italic\" lengthAdjust=\"spacingAndGlyphs\" textLength=\"40\" x=\"164\" y=\"78.1387\">«part»</text><text fill=\"#000000\" font-family=\"sans-serif\" font-size=\"12\" lengthAdjust=\"spacingAndGlyphs\" textLength=\"8\" x=\"180\" y=\"92.1074\">g</text><line style=\"stroke: #383838; stroke-width: 1.5;\" x1=\"164\" x2=\"204\" y1=\"99.9375\" y2=\"99.9375\"/></a><!--MD5=[1dd1bfd58a279cf63c5f349dbc8fc6a1]\n",
       "class E11--><a href=\"psysml:05fe5b10-94f9-4e9a-a85e-b113c36136a8\" target=\"_top\" title=\"psysml:05fe5b10-94f9-4e9a-a85e-b113c36136a8\" xlink:actuate=\"onRequest\" xlink:href=\"psysml:05fe5b10-94f9-4e9a-a85e-b113c36136a8\" xlink:show=\"new\" xlink:title=\"psysml:05fe5b10-94f9-4e9a-a85e-b113c36136a8\" xlink:type=\"simple\"><rect fill=\"#FFFFFF\" height=\"88.3516\" id=\"E11\" style=\"stroke: #383838; stroke-width: 1.5;\" width=\"95\" x=\"32.5\" y=\"41\"/><text fill=\"#000000\" font-family=\"sans-serif\" font-size=\"12\" font-style=\"italic\" lengthAdjust=\"spacingAndGlyphs\" textLength=\"93\" x=\"33.5\" y=\"57.1387\">«attribute def»</text><text fill=\"#000000\" font-family=\"sans-serif\" font-size=\"12\" lengthAdjust=\"spacingAndGlyphs\" textLength=\"8\" x=\"76\" y=\"71.1074\">A</text><line style=\"stroke: #383838; stroke-width: 1.5;\" x1=\"33.5\" x2=\"126.5\" y1=\"78.9375\" y2=\"78.9375\"/><text fill=\"#000000\" font-family=\"sans-serif\" font-size=\"11\" lengthAdjust=\"spacingAndGlyphs\" textLength=\"51\" x=\"38.5\" y=\"109.9526\">i: Integer</text><text fill=\"#000000\" font-family=\"sans-serif\" font-size=\"11\" lengthAdjust=\"spacingAndGlyphs\" textLength=\"21\" x=\"38.5\" y=\"122.7573\">x: A</text><line style=\"stroke: #383838; stroke-width: 1.0;\" x1=\"33.5\" x2=\"52.5\" y1=\"93.3398\" y2=\"93.3398\"/><text fill=\"#000000\" font-family=\"sans-serif\" font-size=\"11\" lengthAdjust=\"spacingAndGlyphs\" textLength=\"55\" x=\"52.5\" y=\"96.6479\">attributes</text><line style=\"stroke: #383838; stroke-width: 1.0;\" x1=\"107.5\" x2=\"126.5\" y1=\"93.3398\" y2=\"93.3398\"/></a><!--MD5=[15ebcb19ae302d9b601edb458606d402]\n",
       "link E5 to E2--><a href=\"psysml:b71e192f-5f45-432d-9454-4642818dbb88\" target=\"_top\" title=\"psysml:b71e192f-5f45-432d-9454-4642818dbb88\" xlink:actuate=\"onRequest\" xlink:href=\"psysml:b71e192f-5f45-432d-9454-4642818dbb88\" xlink:show=\"new\" xlink:title=\"psysml:b71e192f-5f45-432d-9454-4642818dbb88\" xlink:type=\"simple\"><path d=\"M562.12,108.06 C556.83,125 549.38,148.89 542.98,169.39 \" fill=\"none\" id=\"E5-&gt;E2\" style=\"stroke: #383838; stroke-width: 1.0;\"/><polygon fill=\"#FFFFFF\" points=\"536.95,188.74,535.929,168.5173,549.2931,172.6886,536.95,188.74\" style=\"stroke: #383838; stroke-width: 1.0;\"/><ellipse cx=\"539.5364\" cy=\"163.6721\" fill=\"#383838\" rx=\"2\" ry=\"2\" style=\"stroke: #383838; stroke-width: 1.0;\"/><ellipse cx=\"549.0823\" cy=\"166.6516\" fill=\"#383838\" rx=\"2\" ry=\"2\" style=\"stroke: #383838; stroke-width: 1.0;\"/></a><!--MD5=[2351f337d6de0f557b50152ba70847b5]\n",
       "link E6 to E2--><a href=\"psysml:173d30e4-d568-4354-a9e9-bb0668964c70\" target=\"_top\" title=\"psysml:173d30e4-d568-4354-a9e9-bb0668964c70\" xlink:actuate=\"onRequest\" xlink:href=\"psysml:173d30e4-d568-4354-a9e9-bb0668964c70\" xlink:show=\"new\" xlink:title=\"psysml:173d30e4-d568-4354-a9e9-bb0668964c70\" xlink:type=\"simple\"><path d=\"M498.71,108.06 C503.86,125 511.12,148.89 517.35,169.39 \" fill=\"none\" id=\"E6-&gt;E2\" style=\"stroke: #383838; stroke-width: 1.0;\"/><polygon fill=\"#FFFFFF\" points=\"523.23,188.74,511.007,172.597,524.4019,168.5255,523.23,188.74\" style=\"stroke: #383838; stroke-width: 1.0;\"/><ellipse cx=\"511.2628\" cy=\"166.5617\" fill=\"#383838\" rx=\"2\" ry=\"2\" style=\"stroke: #383838; stroke-width: 1.0;\"/><ellipse cx=\"520.8306\" cy=\"163.6535\" fill=\"#383838\" rx=\"2\" ry=\"2\" style=\"stroke: #383838; stroke-width: 1.0;\"/></a><!--MD5=[b198def845b1cbe5f6161e55ceb1d24c]\n",
       "@startuml\r\n",
       "top to bottom direction\r\n",
       "skinparam monochrome true\r\n",
       "skinparam classbackgroundcolor white\r\n",
       "skinparam shadowing false\r\n",
       "skinparam wrapWidth 300\r\n",
       "hide circle\r\n",
       "\r\n",
       "package \"MultiplicityTest\" as E1  [[psysml:c0f24ad0-fe84-484c-92fb-1b0594d1e479 ]]  {\r\n",
       "comp def \"P\" as E2  <<(T,blue) part def>> [[psysml:987e5bc7-b02a-416d-86c6-8545bfa90ef5 ]] {\r\n",
       "}\r\n",
       "comp usage \"n: Integer\" as E3  <<(T,blue) attribute>> [[psysml:7c23d281-2047-4d33-b5ff-31ab75cdc741 ]] {\r\n",
       "}\r\n",
       "comp usage \"a\" as E4  <<(T,blue) part>> [[psysml:dbbeb80c-41d4-4e5a-ae6b-125fea141b81 ]] {\r\n",
       "}\r\n",
       "comp usage \"b: P\" as E5  <<(T,blue) part>> [[psysml:1044b725-5886-488e-a280-d65b06b2678d ]] {\r\n",
       "}\r\n",
       "comp usage \"c: P\" as E6  <<(T,blue) part>> [[psysml:7163cac6-f89e-4c84-b72c-82ccdb232dd2 ]] {\r\n",
       "}\r\n",
       "comp usage \"d\" as E7  <<(T,blue) part>> [[psysml:79f72fcf-9cc7-42c6-886c-0c2f21f0aaa0 ]] {\r\n",
       "}\r\n",
       "comp usage \"e\" as E8  <<(T,blue) part>> [[psysml:7ad65eee-258f-4156-b8ec-39b80665cdbc ]] {\r\n",
       "}\r\n",
       "comp usage \"f\" as E9  <<(T,blue) part>> [[psysml:20b1d46d-edcb-44c0-8591-3bffd604b97a ]] {\r\n",
       "}\r\n",
       "comp usage \"g\" as E10  <<(T,blue) part>> [[psysml:25d96323-353d-45e6-96c8-f6353f2a6c2d ]] {\r\n",
       "}\r\n",
       "comp def \"A\" as E11  <<(T,blue) attribute def>> [[psysml:05fe5b10-94f9-4e9a-a85e-b113c36136a8 ]] {\r\n",
       "- - attributes - -\r\n",
       "i: Integer\r\n",
       "x: A\r\n",
       "}\r\n",
       "}\r\n",
       "E5 - -:|> E2 [[psysml:b71e192f-5f45-432d-9454-4642818dbb88 ]] \r\n",
       "E6 - -:|> E2 [[psysml:173d30e4-d568-4354-a9e9-bb0668964c70 ]] \r\n",
       "@enduml\r\n",
       "\n",
       "PlantUML version 1.2020.13(Sat Jun 13 12:26:38 UTC 2020)\n",
       "(EPL source distribution)\n",
       "Java Runtime: OpenJDK Runtime Environment\n",
       "JVM: OpenJDK 64-Bit Server VM\n",
       "Default Encoding: UTF-8\n",
       "Language: en\n",
       "Country: null\n",
       "--></g></svg>"
      ]
     },
     "execution_count": 45,
     "metadata": {},
     "output_type": "execute_result"
    }
   ],
   "source": [
    "%viz --style=\"TB\" --view=\"Tree\" \"MultiplicityTest\""
   ]
  },
  {
   "cell_type": "code",
   "execution_count": 46,
   "id": "28ec2e9a",
   "metadata": {
    "execution": {
     "iopub.execute_input": "2021-09-27T07:19:20.272571Z",
     "iopub.status.busy": "2021-09-27T07:19:20.272170Z",
     "iopub.status.idle": "2021-09-27T07:19:20.276854Z",
     "shell.execute_reply": "2021-09-27T07:19:20.276530Z"
    }
   },
   "outputs": [
    {
     "data": {
      "image/svg+xml": [
       "<?xml version=\"1.0\" encoding=\"UTF-8\" standalone=\"no\"?><svg xmlns=\"http://www.w3.org/2000/svg\" xmlns:xlink=\"http://www.w3.org/1999/xlink\" contentScriptType=\"application/ecmascript\" contentStyleType=\"text/css\" height=\"12px\" preserveAspectRatio=\"none\" style=\"width:12px;height:12px;\" version=\"1.1\" viewBox=\"0 0 12 12\" width=\"12px\" zoomAndPan=\"magnify\"><defs/><g><!--MD5=[f4ee21bc66e489b5061b7c3e9601fdef]\n",
       "@startuml\r\n",
       "top to bottom direction\r\n",
       "skinparam monochrome true\r\n",
       "skinparam classbackgroundcolor white\r\n",
       "skinparam shadowing false\r\n",
       "skinparam wrapWidth 300\r\n",
       "hide circle\r\n",
       "\r\n",
       "@enduml\r\n",
       "\n",
       "PlantUML version 1.2020.13(Sat Jun 13 12:26:38 UTC 2020)\n",
       "(EPL source distribution)\n",
       "Java Runtime: OpenJDK Runtime Environment\n",
       "JVM: OpenJDK 64-Bit Server VM\n",
       "Default Encoding: UTF-8\n",
       "Language: en\n",
       "Country: null\n",
       "--></g></svg>"
      ]
     },
     "execution_count": 46,
     "metadata": {},
     "output_type": "execute_result"
    }
   ],
   "source": [
    "%viz --style=\"TB\" --view=\"State\" \"MultiplicityTest\""
   ]
  },
  {
   "cell_type": "code",
   "execution_count": 47,
   "id": "37fd3fec",
   "metadata": {
    "execution": {
     "iopub.execute_input": "2021-09-27T07:19:20.327404Z",
     "iopub.status.busy": "2021-09-27T07:19:20.326779Z",
     "iopub.status.idle": "2021-09-27T07:19:20.356939Z",
     "shell.execute_reply": "2021-09-27T07:19:20.356581Z"
    }
   },
   "outputs": [
    {
     "data": {
      "image/svg+xml": [
       "<?xml version=\"1.0\" encoding=\"UTF-8\" standalone=\"no\"?><svg xmlns=\"http://www.w3.org/2000/svg\" xmlns:xlink=\"http://www.w3.org/1999/xlink\" contentScriptType=\"application/ecmascript\" contentStyleType=\"text/css\" height=\"115px\" preserveAspectRatio=\"none\" style=\"width:979px;height:115px;\" version=\"1.1\" viewBox=\"0 0 979 115\" width=\"979px\" zoomAndPan=\"magnify\"><defs/><g><!--MD5=[fbc87193dbaf4d95561dea2c320d4a47]\n",
       "cluster E1--><a href=\"psysml:c0f24ad0-fe84-484c-92fb-1b0594d1e479\" target=\"_top\" title=\"psysml:c0f24ad0-fe84-484c-92fb-1b0594d1e479\" xlink:actuate=\"onRequest\" xlink:href=\"psysml:c0f24ad0-fe84-484c-92fb-1b0594d1e479\" xlink:show=\"new\" xlink:title=\"psysml:c0f24ad0-fe84-484c-92fb-1b0594d1e479\" xlink:type=\"simple\"><polygon fill=\"#FFFFFF\" points=\"16,6,123,6,130,28.2969,957,28.2969,957,103,16,103,16,6\" style=\"stroke: #000000; stroke-width: 1.5;\"/><line style=\"stroke: #000000; stroke-width: 1.5;\" x1=\"16\" x2=\"130\" y1=\"28.2969\" y2=\"28.2969\"/><text fill=\"#000000\" font-family=\"sans-serif\" font-size=\"14\" font-weight=\"bold\" lengthAdjust=\"spacingAndGlyphs\" textLength=\"101\" x=\"20\" y=\"20.9951\">MultiplicityTest</text></a><!--MD5=[09b614a08d8cba4a07c9adeb5e0fee81]\n",
       "class E3--><a href=\"psysml:7c23d281-2047-4d33-b5ff-31ab75cdc741\" target=\"_top\" title=\"psysml:7c23d281-2047-4d33-b5ff-31ab75cdc741\" xlink:actuate=\"onRequest\" xlink:href=\"psysml:7c23d281-2047-4d33-b5ff-31ab75cdc741\" xlink:show=\"new\" xlink:title=\"psysml:7c23d281-2047-4d33-b5ff-31ab75cdc741\" xlink:type=\"simple\"><rect fill=\"#FFFFFF\" height=\"45.9375\" id=\"E3\" rx=\"10\" ry=\"10\" style=\"stroke: #383838; stroke-width: 1.5;\" width=\"71\" x=\"869.5\" y=\"41\"/><text fill=\"#000000\" font-family=\"sans-serif\" font-size=\"12\" font-style=\"italic\" lengthAdjust=\"spacingAndGlyphs\" textLength=\"69\" x=\"870.5\" y=\"57.1387\">«attribute»</text><text fill=\"#000000\" font-family=\"sans-serif\" font-size=\"12\" lengthAdjust=\"spacingAndGlyphs\" textLength=\"61\" x=\"874.5\" y=\"71.1074\">n: Integer</text><line style=\"stroke: #383838; stroke-width: 1.5;\" x1=\"870.5\" x2=\"939.5\" y1=\"78.9375\" y2=\"78.9375\"/></a><g id=\"E1.E11\"><a href=\"psysml:05fe5b10-94f9-4e9a-a85e-b113c36136a8\" target=\"_top\" title=\"psysml:05fe5b10-94f9-4e9a-a85e-b113c36136a8\" xlink:actuate=\"onRequest\" xlink:href=\"psysml:05fe5b10-94f9-4e9a-a85e-b113c36136a8\" xlink:show=\"new\" xlink:title=\"psysml:05fe5b10-94f9-4e9a-a85e-b113c36136a8\" xlink:type=\"simple\"><rect fill=\"#FFFFFF\" height=\"42.9375\" id=\"E11\" style=\"stroke: #383838; stroke-width: 1.5;\" width=\"100\" x=\"734\" y=\"42.5\"/><rect fill=\"#F8F8F8\" height=\"37.9375\" style=\"stroke: #383838; stroke-width: 1.5;\" width=\"100\" x=\"734\" y=\"42.5\"/><text fill=\"#000000\" font-family=\"sans-serif\" font-size=\"12\" font-style=\"italic\" lengthAdjust=\"spacingAndGlyphs\" textLength=\"93\" x=\"737.5\" y=\"58.6387\">«attribute def»</text><text fill=\"#000000\" font-family=\"sans-serif\" font-size=\"12\" lengthAdjust=\"spacingAndGlyphs\" textLength=\"8\" x=\"780\" y=\"72.6074\">A</text></a></g><g id=\"E1.E2\"><a href=\"psysml:987e5bc7-b02a-416d-86c6-8545bfa90ef5\" target=\"_top\" title=\"psysml:987e5bc7-b02a-416d-86c6-8545bfa90ef5\" xlink:actuate=\"onRequest\" xlink:href=\"psysml:987e5bc7-b02a-416d-86c6-8545bfa90ef5\" xlink:show=\"new\" xlink:title=\"psysml:987e5bc7-b02a-416d-86c6-8545bfa90ef5\" xlink:type=\"simple\"><rect fill=\"#FFFFFF\" height=\"42.9375\" id=\"E2\" style=\"stroke: #383838; stroke-width: 1.5;\" width=\"71\" x=\"627.5\" y=\"42.5\"/><rect fill=\"#F8F8F8\" height=\"37.9375\" style=\"stroke: #383838; stroke-width: 1.5;\" width=\"71\" x=\"627.5\" y=\"42.5\"/><text fill=\"#000000\" font-family=\"sans-serif\" font-size=\"12\" font-style=\"italic\" lengthAdjust=\"spacingAndGlyphs\" textLength=\"64\" x=\"631\" y=\"58.6387\">«part def»</text><text fill=\"#000000\" font-family=\"sans-serif\" font-size=\"12\" lengthAdjust=\"spacingAndGlyphs\" textLength=\"8\" x=\"659\" y=\"72.6074\">P</text></a></g><g id=\"E1.E4\"><a href=\"psysml:dbbeb80c-41d4-4e5a-ae6b-125fea141b81\" target=\"_top\" title=\"psysml:dbbeb80c-41d4-4e5a-ae6b-125fea141b81\" xlink:actuate=\"onRequest\" xlink:href=\"psysml:dbbeb80c-41d4-4e5a-ae6b-125fea141b81\" xlink:show=\"new\" xlink:title=\"psysml:dbbeb80c-41d4-4e5a-ae6b-125fea141b81\" xlink:type=\"simple\"><rect fill=\"#FFFFFF\" height=\"40\" id=\"E4\" rx=\"10\" ry=\"10\" style=\"stroke: #383838; stroke-width: 1.5;\" width=\"50\" x=\"542\" y=\"44\"/><rect fill=\"#F8F8F8\" height=\"23.9688\" rx=\"10\" ry=\"10\" style=\"stroke: #F8F8F8; stroke-width: 1.5;\" width=\"50\" x=\"542\" y=\"44\"/><rect fill=\"#F8F8F8\" height=\"10\" style=\"stroke: #F8F8F8; stroke-width: 1.5;\" width=\"50\" x=\"542\" y=\"57.9688\"/><rect fill=\"none\" height=\"40\" id=\"E4\" rx=\"10\" ry=\"10\" style=\"stroke: #383838; stroke-width: 1.5;\" width=\"50\" x=\"542\" y=\"44\"/><text fill=\"#000000\" font-family=\"sans-serif\" font-size=\"12\" lengthAdjust=\"spacingAndGlyphs\" textLength=\"8\" x=\"563\" y=\"60.1387\">a</text></a></g><g id=\"E1.E5\"><a href=\"psysml:1044b725-5886-488e-a280-d65b06b2678d\" target=\"_top\" title=\"psysml:1044b725-5886-488e-a280-d65b06b2678d\" xlink:actuate=\"onRequest\" xlink:href=\"psysml:1044b725-5886-488e-a280-d65b06b2678d\" xlink:show=\"new\" xlink:title=\"psysml:1044b725-5886-488e-a280-d65b06b2678d\" xlink:type=\"simple\"><rect fill=\"#FFFFFF\" height=\"40\" id=\"E5\" rx=\"10\" ry=\"10\" style=\"stroke: #383838; stroke-width: 1.5;\" width=\"50\" x=\"457\" y=\"44\"/><rect fill=\"#F8F8F8\" height=\"23.9688\" rx=\"10\" ry=\"10\" style=\"stroke: #F8F8F8; stroke-width: 1.5;\" width=\"50\" x=\"457\" y=\"44\"/><rect fill=\"#F8F8F8\" height=\"10\" style=\"stroke: #F8F8F8; stroke-width: 1.5;\" width=\"50\" x=\"457\" y=\"57.9688\"/><rect fill=\"none\" height=\"40\" id=\"E5\" rx=\"10\" ry=\"10\" style=\"stroke: #383838; stroke-width: 1.5;\" width=\"50\" x=\"457\" y=\"44\"/><text fill=\"#000000\" font-family=\"sans-serif\" font-size=\"12\" lengthAdjust=\"spacingAndGlyphs\" textLength=\"24\" x=\"470\" y=\"60.1387\">b: P</text></a></g><g id=\"E1.E6\"><a href=\"psysml:7163cac6-f89e-4c84-b72c-82ccdb232dd2\" target=\"_top\" title=\"psysml:7163cac6-f89e-4c84-b72c-82ccdb232dd2\" xlink:actuate=\"onRequest\" xlink:href=\"psysml:7163cac6-f89e-4c84-b72c-82ccdb232dd2\" xlink:show=\"new\" xlink:title=\"psysml:7163cac6-f89e-4c84-b72c-82ccdb232dd2\" xlink:type=\"simple\"><rect fill=\"#FFFFFF\" height=\"40\" id=\"E6\" rx=\"10\" ry=\"10\" style=\"stroke: #383838; stroke-width: 1.5;\" width=\"50\" x=\"372\" y=\"44\"/><rect fill=\"#F8F8F8\" height=\"23.9688\" rx=\"10\" ry=\"10\" style=\"stroke: #F8F8F8; stroke-width: 1.5;\" width=\"50\" x=\"372\" y=\"44\"/><rect fill=\"#F8F8F8\" height=\"10\" style=\"stroke: #F8F8F8; stroke-width: 1.5;\" width=\"50\" x=\"372\" y=\"57.9688\"/><rect fill=\"none\" height=\"40\" id=\"E6\" rx=\"10\" ry=\"10\" style=\"stroke: #383838; stroke-width: 1.5;\" width=\"50\" x=\"372\" y=\"44\"/><text fill=\"#000000\" font-family=\"sans-serif\" font-size=\"12\" lengthAdjust=\"spacingAndGlyphs\" textLength=\"23\" x=\"385.5\" y=\"60.1387\">c: P</text></a></g><g id=\"E1.E7\"><a href=\"psysml:79f72fcf-9cc7-42c6-886c-0c2f21f0aaa0\" target=\"_top\" title=\"psysml:79f72fcf-9cc7-42c6-886c-0c2f21f0aaa0\" xlink:actuate=\"onRequest\" xlink:href=\"psysml:79f72fcf-9cc7-42c6-886c-0c2f21f0aaa0\" xlink:show=\"new\" xlink:title=\"psysml:79f72fcf-9cc7-42c6-886c-0c2f21f0aaa0\" xlink:type=\"simple\"><rect fill=\"#FFFFFF\" height=\"40\" id=\"E7\" rx=\"10\" ry=\"10\" style=\"stroke: #383838; stroke-width: 1.5;\" width=\"50\" x=\"287\" y=\"44\"/><rect fill=\"#F8F8F8\" height=\"23.9688\" rx=\"10\" ry=\"10\" style=\"stroke: #F8F8F8; stroke-width: 1.5;\" width=\"50\" x=\"287\" y=\"44\"/><rect fill=\"#F8F8F8\" height=\"10\" style=\"stroke: #F8F8F8; stroke-width: 1.5;\" width=\"50\" x=\"287\" y=\"57.9688\"/><rect fill=\"none\" height=\"40\" id=\"E7\" rx=\"10\" ry=\"10\" style=\"stroke: #383838; stroke-width: 1.5;\" width=\"50\" x=\"287\" y=\"44\"/><text fill=\"#000000\" font-family=\"sans-serif\" font-size=\"12\" lengthAdjust=\"spacingAndGlyphs\" textLength=\"8\" x=\"308\" y=\"60.1387\">d</text></a></g><g id=\"E1.E8\"><a href=\"psysml:7ad65eee-258f-4156-b8ec-39b80665cdbc\" target=\"_top\" title=\"psysml:7ad65eee-258f-4156-b8ec-39b80665cdbc\" xlink:actuate=\"onRequest\" xlink:href=\"psysml:7ad65eee-258f-4156-b8ec-39b80665cdbc\" xlink:show=\"new\" xlink:title=\"psysml:7ad65eee-258f-4156-b8ec-39b80665cdbc\" xlink:type=\"simple\"><rect fill=\"#FFFFFF\" height=\"40\" id=\"E8\" rx=\"10\" ry=\"10\" style=\"stroke: #383838; stroke-width: 1.5;\" width=\"50\" x=\"202\" y=\"44\"/><rect fill=\"#F8F8F8\" height=\"23.9688\" rx=\"10\" ry=\"10\" style=\"stroke: #F8F8F8; stroke-width: 1.5;\" width=\"50\" x=\"202\" y=\"44\"/><rect fill=\"#F8F8F8\" height=\"10\" style=\"stroke: #F8F8F8; stroke-width: 1.5;\" width=\"50\" x=\"202\" y=\"57.9688\"/><rect fill=\"none\" height=\"40\" id=\"E8\" rx=\"10\" ry=\"10\" style=\"stroke: #383838; stroke-width: 1.5;\" width=\"50\" x=\"202\" y=\"44\"/><text fill=\"#000000\" font-family=\"sans-serif\" font-size=\"12\" lengthAdjust=\"spacingAndGlyphs\" textLength=\"8\" x=\"223\" y=\"60.1387\">e</text></a></g><g id=\"E1.E9\"><a href=\"psysml:20b1d46d-edcb-44c0-8591-3bffd604b97a\" target=\"_top\" title=\"psysml:20b1d46d-edcb-44c0-8591-3bffd604b97a\" xlink:actuate=\"onRequest\" xlink:href=\"psysml:20b1d46d-edcb-44c0-8591-3bffd604b97a\" xlink:show=\"new\" xlink:title=\"psysml:20b1d46d-edcb-44c0-8591-3bffd604b97a\" xlink:type=\"simple\"><rect fill=\"#FFFFFF\" height=\"40\" id=\"E9\" rx=\"10\" ry=\"10\" style=\"stroke: #383838; stroke-width: 1.5;\" width=\"50\" x=\"117\" y=\"44\"/><rect fill=\"#F8F8F8\" height=\"23.9688\" rx=\"10\" ry=\"10\" style=\"stroke: #F8F8F8; stroke-width: 1.5;\" width=\"50\" x=\"117\" y=\"44\"/><rect fill=\"#F8F8F8\" height=\"10\" style=\"stroke: #F8F8F8; stroke-width: 1.5;\" width=\"50\" x=\"117\" y=\"57.9688\"/><rect fill=\"none\" height=\"40\" id=\"E9\" rx=\"10\" ry=\"10\" style=\"stroke: #383838; stroke-width: 1.5;\" width=\"50\" x=\"117\" y=\"44\"/><text fill=\"#000000\" font-family=\"sans-serif\" font-size=\"12\" lengthAdjust=\"spacingAndGlyphs\" textLength=\"4\" x=\"140\" y=\"60.1387\">f</text></a></g><g id=\"E1.E10\"><a href=\"psysml:25d96323-353d-45e6-96c8-f6353f2a6c2d\" target=\"_top\" title=\"psysml:25d96323-353d-45e6-96c8-f6353f2a6c2d\" xlink:actuate=\"onRequest\" xlink:href=\"psysml:25d96323-353d-45e6-96c8-f6353f2a6c2d\" xlink:show=\"new\" xlink:title=\"psysml:25d96323-353d-45e6-96c8-f6353f2a6c2d\" xlink:type=\"simple\"><rect fill=\"#FFFFFF\" height=\"40\" id=\"E10\" rx=\"10\" ry=\"10\" style=\"stroke: #383838; stroke-width: 1.5;\" width=\"50\" x=\"32\" y=\"44\"/><rect fill=\"#F8F8F8\" height=\"23.9688\" rx=\"10\" ry=\"10\" style=\"stroke: #F8F8F8; stroke-width: 1.5;\" width=\"50\" x=\"32\" y=\"44\"/><rect fill=\"#F8F8F8\" height=\"10\" style=\"stroke: #F8F8F8; stroke-width: 1.5;\" width=\"50\" x=\"32\" y=\"57.9688\"/><rect fill=\"none\" height=\"40\" id=\"E10\" rx=\"10\" ry=\"10\" style=\"stroke: #383838; stroke-width: 1.5;\" width=\"50\" x=\"32\" y=\"44\"/><text fill=\"#000000\" font-family=\"sans-serif\" font-size=\"12\" lengthAdjust=\"spacingAndGlyphs\" textLength=\"8\" x=\"53\" y=\"60.1387\">g</text></a></g><!--MD5=[1255961e4db1045550e4d1b62af9884a]\n",
       "@startuml\r\n",
       "skinparam ranksep 10\r\n",
       "skinparam rectangle {\r\n",
       " backgroundColor<<block>> LightGreen\r\n",
       "}\r\n",
       "top to bottom direction\r\n",
       "skinparam monochrome true\r\n",
       "skinparam classbackgroundcolor white\r\n",
       "skinparam shadowing false\r\n",
       "skinparam wrapWidth 300\r\n",
       "hide circle\r\n",
       "\r\n",
       "package \"MultiplicityTest\" as E1  [[psysml:c0f24ad0-fe84-484c-92fb-1b0594d1e479 ]]  {\r\n",
       "rec def \"P\" as E2  <<(T,blue) part def>> [[psysml:987e5bc7-b02a-416d-86c6-8545bfa90ef5 ]] {\r\n",
       "}\r\n",
       "comp usage \"n: Integer\" as E3  <<(T,blue) attribute>> [[psysml:7c23d281-2047-4d33-b5ff-31ab75cdc741 ]] {\r\n",
       "}\r\n",
       "rec usage \"a\" as E4  [[psysml:dbbeb80c-41d4-4e5a-ae6b-125fea141b81 ]] {\r\n",
       "}\r\n",
       "rec usage \"b: P\" as E5  [[psysml:1044b725-5886-488e-a280-d65b06b2678d ]] {\r\n",
       "}\r\n",
       "rec usage \"c: P\" as E6  [[psysml:7163cac6-f89e-4c84-b72c-82ccdb232dd2 ]] {\r\n",
       "}\r\n",
       "rec usage \"d\" as E7  [[psysml:79f72fcf-9cc7-42c6-886c-0c2f21f0aaa0 ]] {\r\n",
       "}\r\n",
       "rec usage \"e\" as E8  [[psysml:7ad65eee-258f-4156-b8ec-39b80665cdbc ]] {\r\n",
       "}\r\n",
       "rec usage \"f\" as E9  [[psysml:20b1d46d-edcb-44c0-8591-3bffd604b97a ]] {\r\n",
       "}\r\n",
       "rec usage \"g\" as E10  [[psysml:25d96323-353d-45e6-96c8-f6353f2a6c2d ]] {\r\n",
       "}\r\n",
       "def \"A\" as E11  <<(T,blue) attribute def>> [[psysml:05fe5b10-94f9-4e9a-a85e-b113c36136a8 ]] \r\n",
       "}\r\n",
       "@enduml\r\n",
       "\n",
       "PlantUML version 1.2020.13(Sat Jun 13 12:26:38 UTC 2020)\n",
       "(EPL source distribution)\n",
       "Java Runtime: OpenJDK Runtime Environment\n",
       "JVM: OpenJDK 64-Bit Server VM\n",
       "Default Encoding: UTF-8\n",
       "Language: en\n",
       "Country: null\n",
       "--></g></svg>"
      ]
     },
     "execution_count": 47,
     "metadata": {},
     "output_type": "execute_result"
    }
   ],
   "source": [
    "%viz --style=\"TB\" --view=\"Interconnection\" \"MultiplicityTest\""
   ]
  },
  {
   "cell_type": "code",
   "execution_count": 48,
   "id": "291aeb62",
   "metadata": {
    "execution": {
     "iopub.execute_input": "2021-09-27T07:19:20.407180Z",
     "iopub.status.busy": "2021-09-27T07:19:20.406625Z",
     "iopub.status.idle": "2021-09-27T07:19:20.411566Z",
     "shell.execute_reply": "2021-09-27T07:19:20.411209Z"
    }
   },
   "outputs": [
    {
     "data": {
      "image/svg+xml": [
       "<?xml version=\"1.0\" encoding=\"UTF-8\" standalone=\"no\"?><svg xmlns=\"http://www.w3.org/2000/svg\" xmlns:xlink=\"http://www.w3.org/1999/xlink\" contentScriptType=\"application/ecmascript\" contentStyleType=\"text/css\" height=\"12px\" preserveAspectRatio=\"none\" style=\"width:12px;height:12px;\" version=\"1.1\" viewBox=\"0 0 12 12\" width=\"12px\" zoomAndPan=\"magnify\"><defs/><g><!--MD5=[06afc254b03ac5e9d9fb7773b07d0800]\n",
       "@startuml\r\n",
       "skinparam ranksep 8\r\n",
       "top to bottom direction\r\n",
       "skinparam monochrome true\r\n",
       "skinparam classbackgroundcolor white\r\n",
       "skinparam shadowing false\r\n",
       "skinparam wrapWidth 300\r\n",
       "hide circle\r\n",
       "\r\n",
       "@enduml\r\n",
       "\n",
       "PlantUML version 1.2020.13(Sat Jun 13 12:26:38 UTC 2020)\n",
       "(EPL source distribution)\n",
       "Java Runtime: OpenJDK Runtime Environment\n",
       "JVM: OpenJDK 64-Bit Server VM\n",
       "Default Encoding: UTF-8\n",
       "Language: en\n",
       "Country: null\n",
       "--></g></svg>"
      ]
     },
     "execution_count": 48,
     "metadata": {},
     "output_type": "execute_result"
    }
   ],
   "source": [
    "%viz --style=\"TB\" --view=\"Action\" \"MultiplicityTest\""
   ]
  },
  {
   "cell_type": "code",
   "execution_count": 49,
   "id": "85948541",
   "metadata": {
    "execution": {
     "iopub.execute_input": "2021-09-27T07:19:20.461700Z",
     "iopub.status.busy": "2021-09-27T07:19:20.461279Z",
     "iopub.status.idle": "2021-09-27T07:19:20.466273Z",
     "shell.execute_reply": "2021-09-27T07:19:20.465894Z"
    }
   },
   "outputs": [
    {
     "data": {
      "image/svg+xml": [
       "<?xml version=\"1.0\" encoding=\"UTF-8\" standalone=\"no\"?><svg xmlns=\"http://www.w3.org/2000/svg\" xmlns:xlink=\"http://www.w3.org/1999/xlink\" contentScriptType=\"application/ecmascript\" contentStyleType=\"text/css\" height=\"12px\" preserveAspectRatio=\"none\" style=\"width:12px;height:12px;\" version=\"1.1\" viewBox=\"0 0 12 12\" width=\"12px\" zoomAndPan=\"magnify\"><defs/><g><!--MD5=[e1ab0c84c44d2fef8bf5f140f2689906]\n",
       "@startuml\r\n",
       "skinparam roundcorner 20\r\n",
       "skinparam BoxPadding 20\r\n",
       "skinparam SequenceBoxBackgroundColor #white\r\n",
       "skinparam style strictuml\r\n",
       "skinparam maxMessageSize 100\r\n",
       "top to bottom direction\r\n",
       "skinparam monochrome true\r\n",
       "skinparam classbackgroundcolor white\r\n",
       "skinparam shadowing false\r\n",
       "skinparam wrapWidth 300\r\n",
       "hide circle\r\n",
       "\r\n",
       "@enduml\r\n",
       "\n",
       "PlantUML version 1.2020.13(Sat Jun 13 12:26:38 UTC 2020)\n",
       "(EPL source distribution)\n",
       "Java Runtime: OpenJDK Runtime Environment\n",
       "JVM: OpenJDK 64-Bit Server VM\n",
       "Default Encoding: UTF-8\n",
       "Language: en\n",
       "Country: null\n",
       "--></g></svg>"
      ]
     },
     "execution_count": 49,
     "metadata": {},
     "output_type": "execute_result"
    }
   ],
   "source": [
    "%viz --style=\"TB\" --view=\"Sequence\" \"MultiplicityTest\""
   ]
  },
  {
   "cell_type": "code",
   "execution_count": 50,
   "id": "7795e0dd",
   "metadata": {
    "execution": {
     "iopub.execute_input": "2021-09-27T07:19:20.516186Z",
     "iopub.status.busy": "2021-09-27T07:19:20.515786Z",
     "iopub.status.idle": "2021-09-27T07:19:20.566636Z",
     "shell.execute_reply": "2021-09-27T07:19:20.565419Z"
    }
   },
   "outputs": [
    {
     "data": {
      "image/svg+xml": [
       "<?xml version=\"1.0\" encoding=\"UTF-8\" standalone=\"no\"?><svg xmlns=\"http://www.w3.org/2000/svg\" xmlns:xlink=\"http://www.w3.org/1999/xlink\" contentScriptType=\"application/ecmascript\" contentStyleType=\"text/css\" height=\"263px\" preserveAspectRatio=\"none\" style=\"width:812px;height:263px;\" version=\"1.1\" viewBox=\"0 0 812 263\" width=\"812px\" zoomAndPan=\"magnify\"><defs/><g><!--MD5=[fbc87193dbaf4d95561dea2c320d4a47]\n",
       "cluster E1--><a href=\"psysml:c0f24ad0-fe84-484c-92fb-1b0594d1e479\" target=\"_top\" title=\"psysml:c0f24ad0-fe84-484c-92fb-1b0594d1e479\" xlink:actuate=\"onRequest\" xlink:href=\"psysml:c0f24ad0-fe84-484c-92fb-1b0594d1e479\" xlink:show=\"new\" xlink:title=\"psysml:c0f24ad0-fe84-484c-92fb-1b0594d1e479\" xlink:type=\"simple\"><polygon fill=\"#FFFFFF\" points=\"16,6,123,6,130,28.2969,790,28.2969,790,251,16,251,16,6\" style=\"stroke: #000000; stroke-width: 1.5;\"/><line style=\"stroke: #000000; stroke-width: 1.5;\" x1=\"16\" x2=\"130\" y1=\"28.2969\" y2=\"28.2969\"/><text fill=\"#000000\" font-family=\"sans-serif\" font-size=\"14\" font-weight=\"bold\" lengthAdjust=\"spacingAndGlyphs\" textLength=\"101\" x=\"20\" y=\"20.9951\">MultiplicityTest</text></a><!--MD5=[b4997ac47864f28c2f74865a473b2911]\n",
       "class E2--><a href=\"psysml:987e5bc7-b02a-416d-86c6-8545bfa90ef5\" target=\"_top\" title=\"psysml:987e5bc7-b02a-416d-86c6-8545bfa90ef5\" xlink:actuate=\"onRequest\" xlink:href=\"psysml:987e5bc7-b02a-416d-86c6-8545bfa90ef5\" xlink:show=\"new\" xlink:title=\"psysml:987e5bc7-b02a-416d-86c6-8545bfa90ef5\" xlink:type=\"simple\"><rect fill=\"#FFFFFF\" height=\"45.9375\" id=\"E2\" style=\"stroke: #383838; stroke-width: 1.5;\" width=\"66\" x=\"497\" y=\"189\"/><text fill=\"#000000\" font-family=\"sans-serif\" font-size=\"12\" font-style=\"italic\" lengthAdjust=\"spacingAndGlyphs\" textLength=\"64\" x=\"498\" y=\"205.1387\">«part def»</text><text fill=\"#000000\" font-family=\"sans-serif\" font-size=\"12\" lengthAdjust=\"spacingAndGlyphs\" textLength=\"8\" x=\"526\" y=\"219.1074\">P</text><line style=\"stroke: #383838; stroke-width: 1.5;\" x1=\"498\" x2=\"562\" y1=\"226.9375\" y2=\"226.9375\"/></a><!--MD5=[09b614a08d8cba4a07c9adeb5e0fee81]\n",
       "class E3--><a href=\"psysml:7c23d281-2047-4d33-b5ff-31ab75cdc741\" target=\"_top\" title=\"psysml:7c23d281-2047-4d33-b5ff-31ab75cdc741\" xlink:actuate=\"onRequest\" xlink:href=\"psysml:7c23d281-2047-4d33-b5ff-31ab75cdc741\" xlink:show=\"new\" xlink:title=\"psysml:7c23d281-2047-4d33-b5ff-31ab75cdc741\" xlink:type=\"simple\"><rect fill=\"#FFFFFF\" height=\"45.9375\" id=\"E3\" rx=\"10\" ry=\"10\" style=\"stroke: #383838; stroke-width: 1.5;\" width=\"71\" x=\"702.5\" y=\"62\"/><text fill=\"#000000\" font-family=\"sans-serif\" font-size=\"12\" font-style=\"italic\" lengthAdjust=\"spacingAndGlyphs\" textLength=\"69\" x=\"703.5\" y=\"78.1387\">«attribute»</text><text fill=\"#000000\" font-family=\"sans-serif\" font-size=\"12\" lengthAdjust=\"spacingAndGlyphs\" textLength=\"61\" x=\"707.5\" y=\"92.1074\">n: Integer</text><line style=\"stroke: #383838; stroke-width: 1.5;\" x1=\"703.5\" x2=\"772.5\" y1=\"99.9375\" y2=\"99.9375\"/></a><!--MD5=[ebbe1d658d1005bcc118a6aa81145e00]\n",
       "class E4--><a href=\"psysml:dbbeb80c-41d4-4e5a-ae6b-125fea141b81\" target=\"_top\" title=\"psysml:dbbeb80c-41d4-4e5a-ae6b-125fea141b81\" xlink:actuate=\"onRequest\" xlink:href=\"psysml:dbbeb80c-41d4-4e5a-ae6b-125fea141b81\" xlink:show=\"new\" xlink:title=\"psysml:dbbeb80c-41d4-4e5a-ae6b-125fea141b81\" xlink:type=\"simple\"><rect fill=\"#FFFFFF\" height=\"45.9375\" id=\"E4\" rx=\"10\" ry=\"10\" style=\"stroke: #383838; stroke-width: 1.5;\" width=\"42\" x=\"625\" y=\"62\"/><text fill=\"#000000\" font-family=\"sans-serif\" font-size=\"12\" font-style=\"italic\" lengthAdjust=\"spacingAndGlyphs\" textLength=\"40\" x=\"626\" y=\"78.1387\">«part»</text><text fill=\"#000000\" font-family=\"sans-serif\" font-size=\"12\" lengthAdjust=\"spacingAndGlyphs\" textLength=\"8\" x=\"642\" y=\"92.1074\">a</text><line style=\"stroke: #383838; stroke-width: 1.5;\" x1=\"626\" x2=\"666\" y1=\"99.9375\" y2=\"99.9375\"/></a><!--MD5=[270fce915f116d4de14055a7c1d9a0f3]\n",
       "class E5--><a href=\"psysml:1044b725-5886-488e-a280-d65b06b2678d\" target=\"_top\" title=\"psysml:1044b725-5886-488e-a280-d65b06b2678d\" xlink:actuate=\"onRequest\" xlink:href=\"psysml:1044b725-5886-488e-a280-d65b06b2678d\" xlink:show=\"new\" xlink:title=\"psysml:1044b725-5886-488e-a280-d65b06b2678d\" xlink:type=\"simple\"><rect fill=\"#FFFFFF\" height=\"45.9375\" id=\"E5\" rx=\"10\" ry=\"10\" style=\"stroke: #383838; stroke-width: 1.5;\" width=\"42\" x=\"548\" y=\"62\"/><text fill=\"#000000\" font-family=\"sans-serif\" font-size=\"12\" font-style=\"italic\" lengthAdjust=\"spacingAndGlyphs\" textLength=\"40\" x=\"549\" y=\"78.1387\">«part»</text><text fill=\"#000000\" font-family=\"sans-serif\" font-size=\"12\" lengthAdjust=\"spacingAndGlyphs\" textLength=\"24\" x=\"557\" y=\"92.1074\">b: P</text><line style=\"stroke: #383838; stroke-width: 1.5;\" x1=\"549\" x2=\"589\" y1=\"99.9375\" y2=\"99.9375\"/></a><!--MD5=[60a26617385b1d2d0262a64233df1f8d]\n",
       "class E6--><a href=\"psysml:7163cac6-f89e-4c84-b72c-82ccdb232dd2\" target=\"_top\" title=\"psysml:7163cac6-f89e-4c84-b72c-82ccdb232dd2\" xlink:actuate=\"onRequest\" xlink:href=\"psysml:7163cac6-f89e-4c84-b72c-82ccdb232dd2\" xlink:show=\"new\" xlink:title=\"psysml:7163cac6-f89e-4c84-b72c-82ccdb232dd2\" xlink:type=\"simple\"><rect fill=\"#FFFFFF\" height=\"45.9375\" id=\"E6\" rx=\"10\" ry=\"10\" style=\"stroke: #383838; stroke-width: 1.5;\" width=\"42\" x=\"471\" y=\"62\"/><text fill=\"#000000\" font-family=\"sans-serif\" font-size=\"12\" font-style=\"italic\" lengthAdjust=\"spacingAndGlyphs\" textLength=\"40\" x=\"472\" y=\"78.1387\">«part»</text><text fill=\"#000000\" font-family=\"sans-serif\" font-size=\"12\" lengthAdjust=\"spacingAndGlyphs\" textLength=\"23\" x=\"480.5\" y=\"92.1074\">c: P</text><line style=\"stroke: #383838; stroke-width: 1.5;\" x1=\"472\" x2=\"512\" y1=\"99.9375\" y2=\"99.9375\"/></a><!--MD5=[2156ba9850f5573cc1fc38a6a4b2f02b]\n",
       "class E7--><a href=\"psysml:79f72fcf-9cc7-42c6-886c-0c2f21f0aaa0\" target=\"_top\" title=\"psysml:79f72fcf-9cc7-42c6-886c-0c2f21f0aaa0\" xlink:actuate=\"onRequest\" xlink:href=\"psysml:79f72fcf-9cc7-42c6-886c-0c2f21f0aaa0\" xlink:show=\"new\" xlink:title=\"psysml:79f72fcf-9cc7-42c6-886c-0c2f21f0aaa0\" xlink:type=\"simple\"><rect fill=\"#FFFFFF\" height=\"45.9375\" id=\"E7\" rx=\"10\" ry=\"10\" style=\"stroke: #383838; stroke-width: 1.5;\" width=\"42\" x=\"394\" y=\"62\"/><text fill=\"#000000\" font-family=\"sans-serif\" font-size=\"12\" font-style=\"italic\" lengthAdjust=\"spacingAndGlyphs\" textLength=\"40\" x=\"395\" y=\"78.1387\">«part»</text><text fill=\"#000000\" font-family=\"sans-serif\" font-size=\"12\" lengthAdjust=\"spacingAndGlyphs\" textLength=\"8\" x=\"411\" y=\"92.1074\">d</text><line style=\"stroke: #383838; stroke-width: 1.5;\" x1=\"395\" x2=\"435\" y1=\"99.9375\" y2=\"99.9375\"/></a><!--MD5=[b9389687b975829384b498ac4b7476b2]\n",
       "class E8--><a href=\"psysml:7ad65eee-258f-4156-b8ec-39b80665cdbc\" target=\"_top\" title=\"psysml:7ad65eee-258f-4156-b8ec-39b80665cdbc\" xlink:actuate=\"onRequest\" xlink:href=\"psysml:7ad65eee-258f-4156-b8ec-39b80665cdbc\" xlink:show=\"new\" xlink:title=\"psysml:7ad65eee-258f-4156-b8ec-39b80665cdbc\" xlink:type=\"simple\"><rect fill=\"#FFFFFF\" height=\"45.9375\" id=\"E8\" rx=\"10\" ry=\"10\" style=\"stroke: #383838; stroke-width: 1.5;\" width=\"42\" x=\"317\" y=\"62\"/><text fill=\"#000000\" font-family=\"sans-serif\" font-size=\"12\" font-style=\"italic\" lengthAdjust=\"spacingAndGlyphs\" textLength=\"40\" x=\"318\" y=\"78.1387\">«part»</text><text fill=\"#000000\" font-family=\"sans-serif\" font-size=\"12\" lengthAdjust=\"spacingAndGlyphs\" textLength=\"8\" x=\"334\" y=\"92.1074\">e</text><line style=\"stroke: #383838; stroke-width: 1.5;\" x1=\"318\" x2=\"358\" y1=\"99.9375\" y2=\"99.9375\"/></a><!--MD5=[fd4143e9d270a159db93a4ea2a975926]\n",
       "class E9--><a href=\"psysml:20b1d46d-edcb-44c0-8591-3bffd604b97a\" target=\"_top\" title=\"psysml:20b1d46d-edcb-44c0-8591-3bffd604b97a\" xlink:actuate=\"onRequest\" xlink:href=\"psysml:20b1d46d-edcb-44c0-8591-3bffd604b97a\" xlink:show=\"new\" xlink:title=\"psysml:20b1d46d-edcb-44c0-8591-3bffd604b97a\" xlink:type=\"simple\"><rect fill=\"#FFFFFF\" height=\"45.9375\" id=\"E9\" rx=\"10\" ry=\"10\" style=\"stroke: #383838; stroke-width: 1.5;\" width=\"42\" x=\"240\" y=\"62\"/><text fill=\"#000000\" font-family=\"sans-serif\" font-size=\"12\" font-style=\"italic\" lengthAdjust=\"spacingAndGlyphs\" textLength=\"40\" x=\"241\" y=\"78.1387\">«part»</text><text fill=\"#000000\" font-family=\"sans-serif\" font-size=\"12\" lengthAdjust=\"spacingAndGlyphs\" textLength=\"4\" x=\"259\" y=\"92.1074\">f</text><line style=\"stroke: #383838; stroke-width: 1.5;\" x1=\"241\" x2=\"281\" y1=\"99.9375\" y2=\"99.9375\"/></a><!--MD5=[96f4274e9e20536e775497830990834d]\n",
       "class E10--><a href=\"psysml:25d96323-353d-45e6-96c8-f6353f2a6c2d\" target=\"_top\" title=\"psysml:25d96323-353d-45e6-96c8-f6353f2a6c2d\" xlink:actuate=\"onRequest\" xlink:href=\"psysml:25d96323-353d-45e6-96c8-f6353f2a6c2d\" xlink:show=\"new\" xlink:title=\"psysml:25d96323-353d-45e6-96c8-f6353f2a6c2d\" xlink:type=\"simple\"><rect fill=\"#FFFFFF\" height=\"45.9375\" id=\"E10\" rx=\"10\" ry=\"10\" style=\"stroke: #383838; stroke-width: 1.5;\" width=\"42\" x=\"163\" y=\"62\"/><text fill=\"#000000\" font-family=\"sans-serif\" font-size=\"12\" font-style=\"italic\" lengthAdjust=\"spacingAndGlyphs\" textLength=\"40\" x=\"164\" y=\"78.1387\">«part»</text><text fill=\"#000000\" font-family=\"sans-serif\" font-size=\"12\" lengthAdjust=\"spacingAndGlyphs\" textLength=\"8\" x=\"180\" y=\"92.1074\">g</text><line style=\"stroke: #383838; stroke-width: 1.5;\" x1=\"164\" x2=\"204\" y1=\"99.9375\" y2=\"99.9375\"/></a><!--MD5=[1dd1bfd58a279cf63c5f349dbc8fc6a1]\n",
       "class E11--><a href=\"psysml:05fe5b10-94f9-4e9a-a85e-b113c36136a8\" target=\"_top\" title=\"psysml:05fe5b10-94f9-4e9a-a85e-b113c36136a8\" xlink:actuate=\"onRequest\" xlink:href=\"psysml:05fe5b10-94f9-4e9a-a85e-b113c36136a8\" xlink:show=\"new\" xlink:title=\"psysml:05fe5b10-94f9-4e9a-a85e-b113c36136a8\" xlink:type=\"simple\"><rect fill=\"#FFFFFF\" height=\"88.3516\" id=\"E11\" style=\"stroke: #383838; stroke-width: 1.5;\" width=\"95\" x=\"32.5\" y=\"41\"/><text fill=\"#000000\" font-family=\"sans-serif\" font-size=\"12\" font-style=\"italic\" lengthAdjust=\"spacingAndGlyphs\" textLength=\"93\" x=\"33.5\" y=\"57.1387\">«attribute def»</text><text fill=\"#000000\" font-family=\"sans-serif\" font-size=\"12\" lengthAdjust=\"spacingAndGlyphs\" textLength=\"8\" x=\"76\" y=\"71.1074\">A</text><line style=\"stroke: #383838; stroke-width: 1.5;\" x1=\"33.5\" x2=\"126.5\" y1=\"78.9375\" y2=\"78.9375\"/><text fill=\"#000000\" font-family=\"sans-serif\" font-size=\"11\" lengthAdjust=\"spacingAndGlyphs\" textLength=\"51\" x=\"38.5\" y=\"109.9526\">i: Integer</text><text fill=\"#000000\" font-family=\"sans-serif\" font-size=\"11\" lengthAdjust=\"spacingAndGlyphs\" textLength=\"21\" x=\"38.5\" y=\"122.7573\">x: A</text><line style=\"stroke: #383838; stroke-width: 1.0;\" x1=\"33.5\" x2=\"52.5\" y1=\"93.3398\" y2=\"93.3398\"/><text fill=\"#000000\" font-family=\"sans-serif\" font-size=\"11\" lengthAdjust=\"spacingAndGlyphs\" textLength=\"55\" x=\"52.5\" y=\"96.6479\">attributes</text><line style=\"stroke: #383838; stroke-width: 1.0;\" x1=\"107.5\" x2=\"126.5\" y1=\"93.3398\" y2=\"93.3398\"/></a><!--MD5=[15ebcb19ae302d9b601edb458606d402]\n",
       "link E5 to E2--><a href=\"psysml:b71e192f-5f45-432d-9454-4642818dbb88\" target=\"_top\" title=\"psysml:b71e192f-5f45-432d-9454-4642818dbb88\" xlink:actuate=\"onRequest\" xlink:href=\"psysml:b71e192f-5f45-432d-9454-4642818dbb88\" xlink:show=\"new\" xlink:title=\"psysml:b71e192f-5f45-432d-9454-4642818dbb88\" xlink:type=\"simple\"><path d=\"M562.12,108.06 C556.83,125 549.38,148.89 542.98,169.39 \" fill=\"none\" id=\"E5-&gt;E2\" style=\"stroke: #383838; stroke-width: 1.0;\"/><polygon fill=\"#FFFFFF\" points=\"536.95,188.74,535.929,168.5173,549.2931,172.6886,536.95,188.74\" style=\"stroke: #383838; stroke-width: 1.0;\"/><ellipse cx=\"539.5364\" cy=\"163.6721\" fill=\"#383838\" rx=\"2\" ry=\"2\" style=\"stroke: #383838; stroke-width: 1.0;\"/><ellipse cx=\"549.0823\" cy=\"166.6516\" fill=\"#383838\" rx=\"2\" ry=\"2\" style=\"stroke: #383838; stroke-width: 1.0;\"/></a><!--MD5=[2351f337d6de0f557b50152ba70847b5]\n",
       "link E6 to E2--><a href=\"psysml:173d30e4-d568-4354-a9e9-bb0668964c70\" target=\"_top\" title=\"psysml:173d30e4-d568-4354-a9e9-bb0668964c70\" xlink:actuate=\"onRequest\" xlink:href=\"psysml:173d30e4-d568-4354-a9e9-bb0668964c70\" xlink:show=\"new\" xlink:title=\"psysml:173d30e4-d568-4354-a9e9-bb0668964c70\" xlink:type=\"simple\"><path d=\"M498.71,108.06 C503.86,125 511.12,148.89 517.35,169.39 \" fill=\"none\" id=\"E6-&gt;E2\" style=\"stroke: #383838; stroke-width: 1.0;\"/><polygon fill=\"#FFFFFF\" points=\"523.23,188.74,511.007,172.597,524.4019,168.5255,523.23,188.74\" style=\"stroke: #383838; stroke-width: 1.0;\"/><ellipse cx=\"511.2628\" cy=\"166.5617\" fill=\"#383838\" rx=\"2\" ry=\"2\" style=\"stroke: #383838; stroke-width: 1.0;\"/><ellipse cx=\"520.8306\" cy=\"163.6535\" fill=\"#383838\" rx=\"2\" ry=\"2\" style=\"stroke: #383838; stroke-width: 1.0;\"/></a><!--MD5=[b198def845b1cbe5f6161e55ceb1d24c]\n",
       "@startuml\r\n",
       "top to bottom direction\r\n",
       "skinparam monochrome true\r\n",
       "skinparam classbackgroundcolor white\r\n",
       "skinparam shadowing false\r\n",
       "skinparam wrapWidth 300\r\n",
       "hide circle\r\n",
       "\r\n",
       "package \"MultiplicityTest\" as E1  [[psysml:c0f24ad0-fe84-484c-92fb-1b0594d1e479 ]]  {\r\n",
       "comp def \"P\" as E2  <<(T,blue) part def>> [[psysml:987e5bc7-b02a-416d-86c6-8545bfa90ef5 ]] {\r\n",
       "}\r\n",
       "comp usage \"n: Integer\" as E3  <<(T,blue) attribute>> [[psysml:7c23d281-2047-4d33-b5ff-31ab75cdc741 ]] {\r\n",
       "}\r\n",
       "comp usage \"a\" as E4  <<(T,blue) part>> [[psysml:dbbeb80c-41d4-4e5a-ae6b-125fea141b81 ]] {\r\n",
       "}\r\n",
       "comp usage \"b: P\" as E5  <<(T,blue) part>> [[psysml:1044b725-5886-488e-a280-d65b06b2678d ]] {\r\n",
       "}\r\n",
       "comp usage \"c: P\" as E6  <<(T,blue) part>> [[psysml:7163cac6-f89e-4c84-b72c-82ccdb232dd2 ]] {\r\n",
       "}\r\n",
       "comp usage \"d\" as E7  <<(T,blue) part>> [[psysml:79f72fcf-9cc7-42c6-886c-0c2f21f0aaa0 ]] {\r\n",
       "}\r\n",
       "comp usage \"e\" as E8  <<(T,blue) part>> [[psysml:7ad65eee-258f-4156-b8ec-39b80665cdbc ]] {\r\n",
       "}\r\n",
       "comp usage \"f\" as E9  <<(T,blue) part>> [[psysml:20b1d46d-edcb-44c0-8591-3bffd604b97a ]] {\r\n",
       "}\r\n",
       "comp usage \"g\" as E10  <<(T,blue) part>> [[psysml:25d96323-353d-45e6-96c8-f6353f2a6c2d ]] {\r\n",
       "}\r\n",
       "comp def \"A\" as E11  <<(T,blue) attribute def>> [[psysml:05fe5b10-94f9-4e9a-a85e-b113c36136a8 ]] {\r\n",
       "- - attributes - -\r\n",
       "i: Integer\r\n",
       "x: A\r\n",
       "}\r\n",
       "}\r\n",
       "E5 - -:|> E2 [[psysml:b71e192f-5f45-432d-9454-4642818dbb88 ]] \r\n",
       "E6 - -:|> E2 [[psysml:173d30e4-d568-4354-a9e9-bb0668964c70 ]] \r\n",
       "@enduml\r\n",
       "\n",
       "PlantUML version 1.2020.13(Sat Jun 13 12:26:38 UTC 2020)\n",
       "(EPL source distribution)\n",
       "Java Runtime: OpenJDK Runtime Environment\n",
       "JVM: OpenJDK 64-Bit Server VM\n",
       "Default Encoding: UTF-8\n",
       "Language: en\n",
       "Country: null\n",
       "--></g></svg>"
      ]
     },
     "execution_count": 50,
     "metadata": {},
     "output_type": "execute_result"
    }
   ],
   "source": [
    "%viz --style=\"TB\" --view=\"MIXED\" \"MultiplicityTest\""
   ]
  },
  {
   "cell_type": "code",
   "execution_count": 51,
   "id": "f330db24",
   "metadata": {
    "execution": {
     "iopub.execute_input": "2021-09-27T07:19:20.616616Z",
     "iopub.status.busy": "2021-09-27T07:19:20.616069Z",
     "iopub.status.idle": "2021-09-27T07:19:20.668370Z",
     "shell.execute_reply": "2021-09-27T07:19:20.668095Z"
    }
   },
   "outputs": [
    {
     "data": {
      "image/svg+xml": [
       "<?xml version=\"1.0\" encoding=\"UTF-8\" standalone=\"no\"?><svg xmlns=\"http://www.w3.org/2000/svg\" xmlns:xlink=\"http://www.w3.org/1999/xlink\" contentScriptType=\"application/ecmascript\" contentStyleType=\"text/css\" height=\"263px\" preserveAspectRatio=\"none\" style=\"width:812px;height:263px;\" version=\"1.1\" viewBox=\"0 0 812 263\" width=\"812px\" zoomAndPan=\"magnify\"><defs/><g><!--MD5=[fbc87193dbaf4d95561dea2c320d4a47]\n",
       "cluster E1--><a href=\"psysml:c0f24ad0-fe84-484c-92fb-1b0594d1e479\" target=\"_top\" title=\"psysml:c0f24ad0-fe84-484c-92fb-1b0594d1e479\" xlink:actuate=\"onRequest\" xlink:href=\"psysml:c0f24ad0-fe84-484c-92fb-1b0594d1e479\" xlink:show=\"new\" xlink:title=\"psysml:c0f24ad0-fe84-484c-92fb-1b0594d1e479\" xlink:type=\"simple\"><polygon fill=\"#FFFFFF\" points=\"16,6,123,6,130,28.2969,790,28.2969,790,251,16,251,16,6\" style=\"stroke: #000000; stroke-width: 1.5;\"/><line style=\"stroke: #000000; stroke-width: 1.5;\" x1=\"16\" x2=\"130\" y1=\"28.2969\" y2=\"28.2969\"/><text fill=\"#000000\" font-family=\"sans-serif\" font-size=\"14\" font-weight=\"bold\" lengthAdjust=\"spacingAndGlyphs\" textLength=\"101\" x=\"20\" y=\"20.9951\">MultiplicityTest</text></a><!--MD5=[b4997ac47864f28c2f74865a473b2911]\n",
       "class E2--><a href=\"psysml:987e5bc7-b02a-416d-86c6-8545bfa90ef5\" target=\"_top\" title=\"psysml:987e5bc7-b02a-416d-86c6-8545bfa90ef5\" xlink:actuate=\"onRequest\" xlink:href=\"psysml:987e5bc7-b02a-416d-86c6-8545bfa90ef5\" xlink:show=\"new\" xlink:title=\"psysml:987e5bc7-b02a-416d-86c6-8545bfa90ef5\" xlink:type=\"simple\"><rect fill=\"#FFFFFF\" height=\"45.9375\" id=\"E2\" style=\"stroke: #383838; stroke-width: 1.5;\" width=\"66\" x=\"497\" y=\"189\"/><text fill=\"#000000\" font-family=\"sans-serif\" font-size=\"12\" font-style=\"italic\" lengthAdjust=\"spacingAndGlyphs\" textLength=\"64\" x=\"498\" y=\"205.1387\">«part def»</text><text fill=\"#000000\" font-family=\"sans-serif\" font-size=\"12\" lengthAdjust=\"spacingAndGlyphs\" textLength=\"8\" x=\"526\" y=\"219.1074\">P</text><line style=\"stroke: #383838; stroke-width: 1.5;\" x1=\"498\" x2=\"562\" y1=\"226.9375\" y2=\"226.9375\"/></a><!--MD5=[09b614a08d8cba4a07c9adeb5e0fee81]\n",
       "class E3--><a href=\"psysml:7c23d281-2047-4d33-b5ff-31ab75cdc741\" target=\"_top\" title=\"psysml:7c23d281-2047-4d33-b5ff-31ab75cdc741\" xlink:actuate=\"onRequest\" xlink:href=\"psysml:7c23d281-2047-4d33-b5ff-31ab75cdc741\" xlink:show=\"new\" xlink:title=\"psysml:7c23d281-2047-4d33-b5ff-31ab75cdc741\" xlink:type=\"simple\"><rect fill=\"#FFFFFF\" height=\"45.9375\" id=\"E3\" rx=\"10\" ry=\"10\" style=\"stroke: #383838; stroke-width: 1.5;\" width=\"71\" x=\"702.5\" y=\"62\"/><text fill=\"#000000\" font-family=\"sans-serif\" font-size=\"12\" font-style=\"italic\" lengthAdjust=\"spacingAndGlyphs\" textLength=\"69\" x=\"703.5\" y=\"78.1387\">«attribute»</text><text fill=\"#000000\" font-family=\"sans-serif\" font-size=\"12\" lengthAdjust=\"spacingAndGlyphs\" textLength=\"61\" x=\"707.5\" y=\"92.1074\">n: Integer</text><line style=\"stroke: #383838; stroke-width: 1.5;\" x1=\"703.5\" x2=\"772.5\" y1=\"99.9375\" y2=\"99.9375\"/></a><!--MD5=[ebbe1d658d1005bcc118a6aa81145e00]\n",
       "class E4--><a href=\"psysml:dbbeb80c-41d4-4e5a-ae6b-125fea141b81\" target=\"_top\" title=\"psysml:dbbeb80c-41d4-4e5a-ae6b-125fea141b81\" xlink:actuate=\"onRequest\" xlink:href=\"psysml:dbbeb80c-41d4-4e5a-ae6b-125fea141b81\" xlink:show=\"new\" xlink:title=\"psysml:dbbeb80c-41d4-4e5a-ae6b-125fea141b81\" xlink:type=\"simple\"><rect fill=\"#FFFFFF\" height=\"45.9375\" id=\"E4\" rx=\"10\" ry=\"10\" style=\"stroke: #383838; stroke-width: 1.5;\" width=\"42\" x=\"625\" y=\"62\"/><text fill=\"#000000\" font-family=\"sans-serif\" font-size=\"12\" font-style=\"italic\" lengthAdjust=\"spacingAndGlyphs\" textLength=\"40\" x=\"626\" y=\"78.1387\">«part»</text><text fill=\"#000000\" font-family=\"sans-serif\" font-size=\"12\" lengthAdjust=\"spacingAndGlyphs\" textLength=\"8\" x=\"642\" y=\"92.1074\">a</text><line style=\"stroke: #383838; stroke-width: 1.5;\" x1=\"626\" x2=\"666\" y1=\"99.9375\" y2=\"99.9375\"/></a><!--MD5=[270fce915f116d4de14055a7c1d9a0f3]\n",
       "class E5--><a href=\"psysml:1044b725-5886-488e-a280-d65b06b2678d\" target=\"_top\" title=\"psysml:1044b725-5886-488e-a280-d65b06b2678d\" xlink:actuate=\"onRequest\" xlink:href=\"psysml:1044b725-5886-488e-a280-d65b06b2678d\" xlink:show=\"new\" xlink:title=\"psysml:1044b725-5886-488e-a280-d65b06b2678d\" xlink:type=\"simple\"><rect fill=\"#FFFFFF\" height=\"45.9375\" id=\"E5\" rx=\"10\" ry=\"10\" style=\"stroke: #383838; stroke-width: 1.5;\" width=\"42\" x=\"548\" y=\"62\"/><text fill=\"#000000\" font-family=\"sans-serif\" font-size=\"12\" font-style=\"italic\" lengthAdjust=\"spacingAndGlyphs\" textLength=\"40\" x=\"549\" y=\"78.1387\">«part»</text><text fill=\"#000000\" font-family=\"sans-serif\" font-size=\"12\" lengthAdjust=\"spacingAndGlyphs\" textLength=\"24\" x=\"557\" y=\"92.1074\">b: P</text><line style=\"stroke: #383838; stroke-width: 1.5;\" x1=\"549\" x2=\"589\" y1=\"99.9375\" y2=\"99.9375\"/></a><!--MD5=[60a26617385b1d2d0262a64233df1f8d]\n",
       "class E6--><a href=\"psysml:7163cac6-f89e-4c84-b72c-82ccdb232dd2\" target=\"_top\" title=\"psysml:7163cac6-f89e-4c84-b72c-82ccdb232dd2\" xlink:actuate=\"onRequest\" xlink:href=\"psysml:7163cac6-f89e-4c84-b72c-82ccdb232dd2\" xlink:show=\"new\" xlink:title=\"psysml:7163cac6-f89e-4c84-b72c-82ccdb232dd2\" xlink:type=\"simple\"><rect fill=\"#FFFFFF\" height=\"45.9375\" id=\"E6\" rx=\"10\" ry=\"10\" style=\"stroke: #383838; stroke-width: 1.5;\" width=\"42\" x=\"471\" y=\"62\"/><text fill=\"#000000\" font-family=\"sans-serif\" font-size=\"12\" font-style=\"italic\" lengthAdjust=\"spacingAndGlyphs\" textLength=\"40\" x=\"472\" y=\"78.1387\">«part»</text><text fill=\"#000000\" font-family=\"sans-serif\" font-size=\"12\" lengthAdjust=\"spacingAndGlyphs\" textLength=\"23\" x=\"480.5\" y=\"92.1074\">c: P</text><line style=\"stroke: #383838; stroke-width: 1.5;\" x1=\"472\" x2=\"512\" y1=\"99.9375\" y2=\"99.9375\"/></a><!--MD5=[2156ba9850f5573cc1fc38a6a4b2f02b]\n",
       "class E7--><a href=\"psysml:79f72fcf-9cc7-42c6-886c-0c2f21f0aaa0\" target=\"_top\" title=\"psysml:79f72fcf-9cc7-42c6-886c-0c2f21f0aaa0\" xlink:actuate=\"onRequest\" xlink:href=\"psysml:79f72fcf-9cc7-42c6-886c-0c2f21f0aaa0\" xlink:show=\"new\" xlink:title=\"psysml:79f72fcf-9cc7-42c6-886c-0c2f21f0aaa0\" xlink:type=\"simple\"><rect fill=\"#FFFFFF\" height=\"45.9375\" id=\"E7\" rx=\"10\" ry=\"10\" style=\"stroke: #383838; stroke-width: 1.5;\" width=\"42\" x=\"394\" y=\"62\"/><text fill=\"#000000\" font-family=\"sans-serif\" font-size=\"12\" font-style=\"italic\" lengthAdjust=\"spacingAndGlyphs\" textLength=\"40\" x=\"395\" y=\"78.1387\">«part»</text><text fill=\"#000000\" font-family=\"sans-serif\" font-size=\"12\" lengthAdjust=\"spacingAndGlyphs\" textLength=\"8\" x=\"411\" y=\"92.1074\">d</text><line style=\"stroke: #383838; stroke-width: 1.5;\" x1=\"395\" x2=\"435\" y1=\"99.9375\" y2=\"99.9375\"/></a><!--MD5=[b9389687b975829384b498ac4b7476b2]\n",
       "class E8--><a href=\"psysml:7ad65eee-258f-4156-b8ec-39b80665cdbc\" target=\"_top\" title=\"psysml:7ad65eee-258f-4156-b8ec-39b80665cdbc\" xlink:actuate=\"onRequest\" xlink:href=\"psysml:7ad65eee-258f-4156-b8ec-39b80665cdbc\" xlink:show=\"new\" xlink:title=\"psysml:7ad65eee-258f-4156-b8ec-39b80665cdbc\" xlink:type=\"simple\"><rect fill=\"#FFFFFF\" height=\"45.9375\" id=\"E8\" rx=\"10\" ry=\"10\" style=\"stroke: #383838; stroke-width: 1.5;\" width=\"42\" x=\"317\" y=\"62\"/><text fill=\"#000000\" font-family=\"sans-serif\" font-size=\"12\" font-style=\"italic\" lengthAdjust=\"spacingAndGlyphs\" textLength=\"40\" x=\"318\" y=\"78.1387\">«part»</text><text fill=\"#000000\" font-family=\"sans-serif\" font-size=\"12\" lengthAdjust=\"spacingAndGlyphs\" textLength=\"8\" x=\"334\" y=\"92.1074\">e</text><line style=\"stroke: #383838; stroke-width: 1.5;\" x1=\"318\" x2=\"358\" y1=\"99.9375\" y2=\"99.9375\"/></a><!--MD5=[fd4143e9d270a159db93a4ea2a975926]\n",
       "class E9--><a href=\"psysml:20b1d46d-edcb-44c0-8591-3bffd604b97a\" target=\"_top\" title=\"psysml:20b1d46d-edcb-44c0-8591-3bffd604b97a\" xlink:actuate=\"onRequest\" xlink:href=\"psysml:20b1d46d-edcb-44c0-8591-3bffd604b97a\" xlink:show=\"new\" xlink:title=\"psysml:20b1d46d-edcb-44c0-8591-3bffd604b97a\" xlink:type=\"simple\"><rect fill=\"#FFFFFF\" height=\"45.9375\" id=\"E9\" rx=\"10\" ry=\"10\" style=\"stroke: #383838; stroke-width: 1.5;\" width=\"42\" x=\"240\" y=\"62\"/><text fill=\"#000000\" font-family=\"sans-serif\" font-size=\"12\" font-style=\"italic\" lengthAdjust=\"spacingAndGlyphs\" textLength=\"40\" x=\"241\" y=\"78.1387\">«part»</text><text fill=\"#000000\" font-family=\"sans-serif\" font-size=\"12\" lengthAdjust=\"spacingAndGlyphs\" textLength=\"4\" x=\"259\" y=\"92.1074\">f</text><line style=\"stroke: #383838; stroke-width: 1.5;\" x1=\"241\" x2=\"281\" y1=\"99.9375\" y2=\"99.9375\"/></a><!--MD5=[96f4274e9e20536e775497830990834d]\n",
       "class E10--><a href=\"psysml:25d96323-353d-45e6-96c8-f6353f2a6c2d\" target=\"_top\" title=\"psysml:25d96323-353d-45e6-96c8-f6353f2a6c2d\" xlink:actuate=\"onRequest\" xlink:href=\"psysml:25d96323-353d-45e6-96c8-f6353f2a6c2d\" xlink:show=\"new\" xlink:title=\"psysml:25d96323-353d-45e6-96c8-f6353f2a6c2d\" xlink:type=\"simple\"><rect fill=\"#FFFFFF\" height=\"45.9375\" id=\"E10\" rx=\"10\" ry=\"10\" style=\"stroke: #383838; stroke-width: 1.5;\" width=\"42\" x=\"163\" y=\"62\"/><text fill=\"#000000\" font-family=\"sans-serif\" font-size=\"12\" font-style=\"italic\" lengthAdjust=\"spacingAndGlyphs\" textLength=\"40\" x=\"164\" y=\"78.1387\">«part»</text><text fill=\"#000000\" font-family=\"sans-serif\" font-size=\"12\" lengthAdjust=\"spacingAndGlyphs\" textLength=\"8\" x=\"180\" y=\"92.1074\">g</text><line style=\"stroke: #383838; stroke-width: 1.5;\" x1=\"164\" x2=\"204\" y1=\"99.9375\" y2=\"99.9375\"/></a><!--MD5=[1dd1bfd58a279cf63c5f349dbc8fc6a1]\n",
       "class E11--><a href=\"psysml:05fe5b10-94f9-4e9a-a85e-b113c36136a8\" target=\"_top\" title=\"psysml:05fe5b10-94f9-4e9a-a85e-b113c36136a8\" xlink:actuate=\"onRequest\" xlink:href=\"psysml:05fe5b10-94f9-4e9a-a85e-b113c36136a8\" xlink:show=\"new\" xlink:title=\"psysml:05fe5b10-94f9-4e9a-a85e-b113c36136a8\" xlink:type=\"simple\"><rect fill=\"#FFFFFF\" height=\"88.3516\" id=\"E11\" style=\"stroke: #383838; stroke-width: 1.5;\" width=\"95\" x=\"32.5\" y=\"41\"/><text fill=\"#000000\" font-family=\"sans-serif\" font-size=\"12\" font-style=\"italic\" lengthAdjust=\"spacingAndGlyphs\" textLength=\"93\" x=\"33.5\" y=\"57.1387\">«attribute def»</text><text fill=\"#000000\" font-family=\"sans-serif\" font-size=\"12\" lengthAdjust=\"spacingAndGlyphs\" textLength=\"8\" x=\"76\" y=\"71.1074\">A</text><line style=\"stroke: #383838; stroke-width: 1.5;\" x1=\"33.5\" x2=\"126.5\" y1=\"78.9375\" y2=\"78.9375\"/><text fill=\"#000000\" font-family=\"sans-serif\" font-size=\"11\" lengthAdjust=\"spacingAndGlyphs\" textLength=\"51\" x=\"38.5\" y=\"109.9526\">i: Integer</text><text fill=\"#000000\" font-family=\"sans-serif\" font-size=\"11\" lengthAdjust=\"spacingAndGlyphs\" textLength=\"21\" x=\"38.5\" y=\"122.7573\">x: A</text><line style=\"stroke: #383838; stroke-width: 1.0;\" x1=\"33.5\" x2=\"52.5\" y1=\"93.3398\" y2=\"93.3398\"/><text fill=\"#000000\" font-family=\"sans-serif\" font-size=\"11\" lengthAdjust=\"spacingAndGlyphs\" textLength=\"55\" x=\"52.5\" y=\"96.6479\">attributes</text><line style=\"stroke: #383838; stroke-width: 1.0;\" x1=\"107.5\" x2=\"126.5\" y1=\"93.3398\" y2=\"93.3398\"/></a><!--MD5=[15ebcb19ae302d9b601edb458606d402]\n",
       "link E5 to E2--><a href=\"psysml:b71e192f-5f45-432d-9454-4642818dbb88\" target=\"_top\" title=\"psysml:b71e192f-5f45-432d-9454-4642818dbb88\" xlink:actuate=\"onRequest\" xlink:href=\"psysml:b71e192f-5f45-432d-9454-4642818dbb88\" xlink:show=\"new\" xlink:title=\"psysml:b71e192f-5f45-432d-9454-4642818dbb88\" xlink:type=\"simple\"><path d=\"M555.5,108.29 C555.5,108.29 555.5,168.85 555.5,168.85 \" fill=\"none\" id=\"E5-&gt;E2\" style=\"stroke: #383838; stroke-width: 1.0;\"/><polygon fill=\"#FFFFFF\" points=\"555.5,188.85,548.5,169.85,562.5,169.85,555.5,188.85\" style=\"stroke: #383838; stroke-width: 1.0;\"/><ellipse cx=\"550.5\" cy=\"164.15\" fill=\"#383838\" rx=\"2\" ry=\"2\" style=\"stroke: #383838; stroke-width: 1.0;\"/><ellipse cx=\"560.5\" cy=\"164.15\" fill=\"#383838\" rx=\"2\" ry=\"2\" style=\"stroke: #383838; stroke-width: 1.0;\"/></a><!--MD5=[2351f337d6de0f557b50152ba70847b5]\n",
       "link E6 to E2--><a href=\"psysml:173d30e4-d568-4354-a9e9-bb0668964c70\" target=\"_top\" title=\"psysml:173d30e4-d568-4354-a9e9-bb0668964c70\" xlink:actuate=\"onRequest\" xlink:href=\"psysml:173d30e4-d568-4354-a9e9-bb0668964c70\" xlink:show=\"new\" xlink:title=\"psysml:173d30e4-d568-4354-a9e9-bb0668964c70\" xlink:type=\"simple\"><path d=\"M505,108.29 C505,108.29 505,168.85 505,168.85 \" fill=\"none\" id=\"E6-&gt;E2\" style=\"stroke: #383838; stroke-width: 1.0;\"/><polygon fill=\"#FFFFFF\" points=\"505,188.85,498,169.85,512,169.85,505,188.85\" style=\"stroke: #383838; stroke-width: 1.0;\"/><ellipse cx=\"500\" cy=\"164.15\" fill=\"#383838\" rx=\"2\" ry=\"2\" style=\"stroke: #383838; stroke-width: 1.0;\"/><ellipse cx=\"510\" cy=\"164.15\" fill=\"#383838\" rx=\"2\" ry=\"2\" style=\"stroke: #383838; stroke-width: 1.0;\"/></a><!--MD5=[f26f7e5efbb343ca6dcb0798971323cc]\n",
       "@startuml\r\n",
       "skinparam linetype ortho\r\n",
       "skinparam monochrome true\r\n",
       "skinparam classbackgroundcolor white\r\n",
       "skinparam shadowing false\r\n",
       "skinparam wrapWidth 300\r\n",
       "hide circle\r\n",
       "\r\n",
       "package \"MultiplicityTest\" as E1  [[psysml:c0f24ad0-fe84-484c-92fb-1b0594d1e479 ]]  {\r\n",
       "comp def \"P\" as E2  <<(T,blue) part def>> [[psysml:987e5bc7-b02a-416d-86c6-8545bfa90ef5 ]] {\r\n",
       "}\r\n",
       "comp usage \"n: Integer\" as E3  <<(T,blue) attribute>> [[psysml:7c23d281-2047-4d33-b5ff-31ab75cdc741 ]] {\r\n",
       "}\r\n",
       "comp usage \"a\" as E4  <<(T,blue) part>> [[psysml:dbbeb80c-41d4-4e5a-ae6b-125fea141b81 ]] {\r\n",
       "}\r\n",
       "comp usage \"b: P\" as E5  <<(T,blue) part>> [[psysml:1044b725-5886-488e-a280-d65b06b2678d ]] {\r\n",
       "}\r\n",
       "comp usage \"c: P\" as E6  <<(T,blue) part>> [[psysml:7163cac6-f89e-4c84-b72c-82ccdb232dd2 ]] {\r\n",
       "}\r\n",
       "comp usage \"d\" as E7  <<(T,blue) part>> [[psysml:79f72fcf-9cc7-42c6-886c-0c2f21f0aaa0 ]] {\r\n",
       "}\r\n",
       "comp usage \"e\" as E8  <<(T,blue) part>> [[psysml:7ad65eee-258f-4156-b8ec-39b80665cdbc ]] {\r\n",
       "}\r\n",
       "comp usage \"f\" as E9  <<(T,blue) part>> [[psysml:20b1d46d-edcb-44c0-8591-3bffd604b97a ]] {\r\n",
       "}\r\n",
       "comp usage \"g\" as E10  <<(T,blue) part>> [[psysml:25d96323-353d-45e6-96c8-f6353f2a6c2d ]] {\r\n",
       "}\r\n",
       "comp def \"A\" as E11  <<(T,blue) attribute def>> [[psysml:05fe5b10-94f9-4e9a-a85e-b113c36136a8 ]] {\r\n",
       "- - attributes - -\r\n",
       "i: Integer\r\n",
       "x: A\r\n",
       "}\r\n",
       "}\r\n",
       "E5 - -:|> E2 [[psysml:b71e192f-5f45-432d-9454-4642818dbb88 ]] \r\n",
       "E6 - -:|> E2 [[psysml:173d30e4-d568-4354-a9e9-bb0668964c70 ]] \r\n",
       "@enduml\r\n",
       "\n",
       "PlantUML version 1.2020.13(Sat Jun 13 12:26:38 UTC 2020)\n",
       "(EPL source distribution)\n",
       "Java Runtime: OpenJDK Runtime Environment\n",
       "JVM: OpenJDK 64-Bit Server VM\n",
       "Default Encoding: UTF-8\n",
       "Language: en\n",
       "Country: null\n",
       "--></g></svg>"
      ]
     },
     "execution_count": 51,
     "metadata": {},
     "output_type": "execute_result"
    }
   ],
   "source": [
    "%viz --style=\"ORTHOLINE\" --view=\"Default\" \"MultiplicityTest\""
   ]
  },
  {
   "cell_type": "code",
   "execution_count": 52,
   "id": "58893516",
   "metadata": {
    "execution": {
     "iopub.execute_input": "2021-09-27T07:19:20.718236Z",
     "iopub.status.busy": "2021-09-27T07:19:20.717909Z",
     "iopub.status.idle": "2021-09-27T07:19:20.774906Z",
     "shell.execute_reply": "2021-09-27T07:19:20.773077Z"
    }
   },
   "outputs": [
    {
     "data": {
      "image/svg+xml": [
       "<?xml version=\"1.0\" encoding=\"UTF-8\" standalone=\"no\"?><svg xmlns=\"http://www.w3.org/2000/svg\" xmlns:xlink=\"http://www.w3.org/1999/xlink\" contentScriptType=\"application/ecmascript\" contentStyleType=\"text/css\" height=\"263px\" preserveAspectRatio=\"none\" style=\"width:812px;height:263px;\" version=\"1.1\" viewBox=\"0 0 812 263\" width=\"812px\" zoomAndPan=\"magnify\"><defs/><g><!--MD5=[fbc87193dbaf4d95561dea2c320d4a47]\n",
       "cluster E1--><a href=\"psysml:c0f24ad0-fe84-484c-92fb-1b0594d1e479\" target=\"_top\" title=\"psysml:c0f24ad0-fe84-484c-92fb-1b0594d1e479\" xlink:actuate=\"onRequest\" xlink:href=\"psysml:c0f24ad0-fe84-484c-92fb-1b0594d1e479\" xlink:show=\"new\" xlink:title=\"psysml:c0f24ad0-fe84-484c-92fb-1b0594d1e479\" xlink:type=\"simple\"><polygon fill=\"#FFFFFF\" points=\"16,6,123,6,130,28.2969,790,28.2969,790,251,16,251,16,6\" style=\"stroke: #000000; stroke-width: 1.5;\"/><line style=\"stroke: #000000; stroke-width: 1.5;\" x1=\"16\" x2=\"130\" y1=\"28.2969\" y2=\"28.2969\"/><text fill=\"#000000\" font-family=\"sans-serif\" font-size=\"14\" font-weight=\"bold\" lengthAdjust=\"spacingAndGlyphs\" textLength=\"101\" x=\"20\" y=\"20.9951\">MultiplicityTest</text></a><!--MD5=[b4997ac47864f28c2f74865a473b2911]\n",
       "class E2--><a href=\"psysml:987e5bc7-b02a-416d-86c6-8545bfa90ef5\" target=\"_top\" title=\"psysml:987e5bc7-b02a-416d-86c6-8545bfa90ef5\" xlink:actuate=\"onRequest\" xlink:href=\"psysml:987e5bc7-b02a-416d-86c6-8545bfa90ef5\" xlink:show=\"new\" xlink:title=\"psysml:987e5bc7-b02a-416d-86c6-8545bfa90ef5\" xlink:type=\"simple\"><rect fill=\"#FFFFFF\" height=\"45.9375\" id=\"E2\" style=\"stroke: #383838; stroke-width: 1.5;\" width=\"66\" x=\"497\" y=\"189\"/><text fill=\"#000000\" font-family=\"sans-serif\" font-size=\"12\" font-style=\"italic\" lengthAdjust=\"spacingAndGlyphs\" textLength=\"64\" x=\"498\" y=\"205.1387\">«part def»</text><text fill=\"#000000\" font-family=\"sans-serif\" font-size=\"12\" lengthAdjust=\"spacingAndGlyphs\" textLength=\"8\" x=\"526\" y=\"219.1074\">P</text><line style=\"stroke: #383838; stroke-width: 1.5;\" x1=\"498\" x2=\"562\" y1=\"226.9375\" y2=\"226.9375\"/></a><!--MD5=[09b614a08d8cba4a07c9adeb5e0fee81]\n",
       "class E3--><a href=\"psysml:7c23d281-2047-4d33-b5ff-31ab75cdc741\" target=\"_top\" title=\"psysml:7c23d281-2047-4d33-b5ff-31ab75cdc741\" xlink:actuate=\"onRequest\" xlink:href=\"psysml:7c23d281-2047-4d33-b5ff-31ab75cdc741\" xlink:show=\"new\" xlink:title=\"psysml:7c23d281-2047-4d33-b5ff-31ab75cdc741\" xlink:type=\"simple\"><rect fill=\"#FFFFFF\" height=\"45.9375\" id=\"E3\" rx=\"10\" ry=\"10\" style=\"stroke: #383838; stroke-width: 1.5;\" width=\"71\" x=\"702.5\" y=\"62\"/><text fill=\"#000000\" font-family=\"sans-serif\" font-size=\"12\" font-style=\"italic\" lengthAdjust=\"spacingAndGlyphs\" textLength=\"69\" x=\"703.5\" y=\"78.1387\">«attribute»</text><text fill=\"#000000\" font-family=\"sans-serif\" font-size=\"12\" lengthAdjust=\"spacingAndGlyphs\" textLength=\"61\" x=\"707.5\" y=\"92.1074\">n: Integer</text><line style=\"stroke: #383838; stroke-width: 1.5;\" x1=\"703.5\" x2=\"772.5\" y1=\"99.9375\" y2=\"99.9375\"/></a><!--MD5=[ebbe1d658d1005bcc118a6aa81145e00]\n",
       "class E4--><a href=\"psysml:dbbeb80c-41d4-4e5a-ae6b-125fea141b81\" target=\"_top\" title=\"psysml:dbbeb80c-41d4-4e5a-ae6b-125fea141b81\" xlink:actuate=\"onRequest\" xlink:href=\"psysml:dbbeb80c-41d4-4e5a-ae6b-125fea141b81\" xlink:show=\"new\" xlink:title=\"psysml:dbbeb80c-41d4-4e5a-ae6b-125fea141b81\" xlink:type=\"simple\"><rect fill=\"#FFFFFF\" height=\"45.9375\" id=\"E4\" rx=\"10\" ry=\"10\" style=\"stroke: #383838; stroke-width: 1.5;\" width=\"42\" x=\"625\" y=\"62\"/><text fill=\"#000000\" font-family=\"sans-serif\" font-size=\"12\" font-style=\"italic\" lengthAdjust=\"spacingAndGlyphs\" textLength=\"40\" x=\"626\" y=\"78.1387\">«part»</text><text fill=\"#000000\" font-family=\"sans-serif\" font-size=\"12\" lengthAdjust=\"spacingAndGlyphs\" textLength=\"8\" x=\"642\" y=\"92.1074\">a</text><line style=\"stroke: #383838; stroke-width: 1.5;\" x1=\"626\" x2=\"666\" y1=\"99.9375\" y2=\"99.9375\"/></a><!--MD5=[270fce915f116d4de14055a7c1d9a0f3]\n",
       "class E5--><a href=\"psysml:1044b725-5886-488e-a280-d65b06b2678d\" target=\"_top\" title=\"psysml:1044b725-5886-488e-a280-d65b06b2678d\" xlink:actuate=\"onRequest\" xlink:href=\"psysml:1044b725-5886-488e-a280-d65b06b2678d\" xlink:show=\"new\" xlink:title=\"psysml:1044b725-5886-488e-a280-d65b06b2678d\" xlink:type=\"simple\"><rect fill=\"#FFFFFF\" height=\"45.9375\" id=\"E5\" rx=\"10\" ry=\"10\" style=\"stroke: #383838; stroke-width: 1.5;\" width=\"42\" x=\"548\" y=\"62\"/><text fill=\"#000000\" font-family=\"sans-serif\" font-size=\"12\" font-style=\"italic\" lengthAdjust=\"spacingAndGlyphs\" textLength=\"40\" x=\"549\" y=\"78.1387\">«part»</text><text fill=\"#000000\" font-family=\"sans-serif\" font-size=\"12\" lengthAdjust=\"spacingAndGlyphs\" textLength=\"24\" x=\"557\" y=\"92.1074\">b: P</text><line style=\"stroke: #383838; stroke-width: 1.5;\" x1=\"549\" x2=\"589\" y1=\"99.9375\" y2=\"99.9375\"/></a><!--MD5=[60a26617385b1d2d0262a64233df1f8d]\n",
       "class E6--><a href=\"psysml:7163cac6-f89e-4c84-b72c-82ccdb232dd2\" target=\"_top\" title=\"psysml:7163cac6-f89e-4c84-b72c-82ccdb232dd2\" xlink:actuate=\"onRequest\" xlink:href=\"psysml:7163cac6-f89e-4c84-b72c-82ccdb232dd2\" xlink:show=\"new\" xlink:title=\"psysml:7163cac6-f89e-4c84-b72c-82ccdb232dd2\" xlink:type=\"simple\"><rect fill=\"#FFFFFF\" height=\"45.9375\" id=\"E6\" rx=\"10\" ry=\"10\" style=\"stroke: #383838; stroke-width: 1.5;\" width=\"42\" x=\"471\" y=\"62\"/><text fill=\"#000000\" font-family=\"sans-serif\" font-size=\"12\" font-style=\"italic\" lengthAdjust=\"spacingAndGlyphs\" textLength=\"40\" x=\"472\" y=\"78.1387\">«part»</text><text fill=\"#000000\" font-family=\"sans-serif\" font-size=\"12\" lengthAdjust=\"spacingAndGlyphs\" textLength=\"23\" x=\"480.5\" y=\"92.1074\">c: P</text><line style=\"stroke: #383838; stroke-width: 1.5;\" x1=\"472\" x2=\"512\" y1=\"99.9375\" y2=\"99.9375\"/></a><!--MD5=[2156ba9850f5573cc1fc38a6a4b2f02b]\n",
       "class E7--><a href=\"psysml:79f72fcf-9cc7-42c6-886c-0c2f21f0aaa0\" target=\"_top\" title=\"psysml:79f72fcf-9cc7-42c6-886c-0c2f21f0aaa0\" xlink:actuate=\"onRequest\" xlink:href=\"psysml:79f72fcf-9cc7-42c6-886c-0c2f21f0aaa0\" xlink:show=\"new\" xlink:title=\"psysml:79f72fcf-9cc7-42c6-886c-0c2f21f0aaa0\" xlink:type=\"simple\"><rect fill=\"#FFFFFF\" height=\"45.9375\" id=\"E7\" rx=\"10\" ry=\"10\" style=\"stroke: #383838; stroke-width: 1.5;\" width=\"42\" x=\"394\" y=\"62\"/><text fill=\"#000000\" font-family=\"sans-serif\" font-size=\"12\" font-style=\"italic\" lengthAdjust=\"spacingAndGlyphs\" textLength=\"40\" x=\"395\" y=\"78.1387\">«part»</text><text fill=\"#000000\" font-family=\"sans-serif\" font-size=\"12\" lengthAdjust=\"spacingAndGlyphs\" textLength=\"8\" x=\"411\" y=\"92.1074\">d</text><line style=\"stroke: #383838; stroke-width: 1.5;\" x1=\"395\" x2=\"435\" y1=\"99.9375\" y2=\"99.9375\"/></a><!--MD5=[b9389687b975829384b498ac4b7476b2]\n",
       "class E8--><a href=\"psysml:7ad65eee-258f-4156-b8ec-39b80665cdbc\" target=\"_top\" title=\"psysml:7ad65eee-258f-4156-b8ec-39b80665cdbc\" xlink:actuate=\"onRequest\" xlink:href=\"psysml:7ad65eee-258f-4156-b8ec-39b80665cdbc\" xlink:show=\"new\" xlink:title=\"psysml:7ad65eee-258f-4156-b8ec-39b80665cdbc\" xlink:type=\"simple\"><rect fill=\"#FFFFFF\" height=\"45.9375\" id=\"E8\" rx=\"10\" ry=\"10\" style=\"stroke: #383838; stroke-width: 1.5;\" width=\"42\" x=\"317\" y=\"62\"/><text fill=\"#000000\" font-family=\"sans-serif\" font-size=\"12\" font-style=\"italic\" lengthAdjust=\"spacingAndGlyphs\" textLength=\"40\" x=\"318\" y=\"78.1387\">«part»</text><text fill=\"#000000\" font-family=\"sans-serif\" font-size=\"12\" lengthAdjust=\"spacingAndGlyphs\" textLength=\"8\" x=\"334\" y=\"92.1074\">e</text><line style=\"stroke: #383838; stroke-width: 1.5;\" x1=\"318\" x2=\"358\" y1=\"99.9375\" y2=\"99.9375\"/></a><!--MD5=[fd4143e9d270a159db93a4ea2a975926]\n",
       "class E9--><a href=\"psysml:20b1d46d-edcb-44c0-8591-3bffd604b97a\" target=\"_top\" title=\"psysml:20b1d46d-edcb-44c0-8591-3bffd604b97a\" xlink:actuate=\"onRequest\" xlink:href=\"psysml:20b1d46d-edcb-44c0-8591-3bffd604b97a\" xlink:show=\"new\" xlink:title=\"psysml:20b1d46d-edcb-44c0-8591-3bffd604b97a\" xlink:type=\"simple\"><rect fill=\"#FFFFFF\" height=\"45.9375\" id=\"E9\" rx=\"10\" ry=\"10\" style=\"stroke: #383838; stroke-width: 1.5;\" width=\"42\" x=\"240\" y=\"62\"/><text fill=\"#000000\" font-family=\"sans-serif\" font-size=\"12\" font-style=\"italic\" lengthAdjust=\"spacingAndGlyphs\" textLength=\"40\" x=\"241\" y=\"78.1387\">«part»</text><text fill=\"#000000\" font-family=\"sans-serif\" font-size=\"12\" lengthAdjust=\"spacingAndGlyphs\" textLength=\"4\" x=\"259\" y=\"92.1074\">f</text><line style=\"stroke: #383838; stroke-width: 1.5;\" x1=\"241\" x2=\"281\" y1=\"99.9375\" y2=\"99.9375\"/></a><!--MD5=[96f4274e9e20536e775497830990834d]\n",
       "class E10--><a href=\"psysml:25d96323-353d-45e6-96c8-f6353f2a6c2d\" target=\"_top\" title=\"psysml:25d96323-353d-45e6-96c8-f6353f2a6c2d\" xlink:actuate=\"onRequest\" xlink:href=\"psysml:25d96323-353d-45e6-96c8-f6353f2a6c2d\" xlink:show=\"new\" xlink:title=\"psysml:25d96323-353d-45e6-96c8-f6353f2a6c2d\" xlink:type=\"simple\"><rect fill=\"#FFFFFF\" height=\"45.9375\" id=\"E10\" rx=\"10\" ry=\"10\" style=\"stroke: #383838; stroke-width: 1.5;\" width=\"42\" x=\"163\" y=\"62\"/><text fill=\"#000000\" font-family=\"sans-serif\" font-size=\"12\" font-style=\"italic\" lengthAdjust=\"spacingAndGlyphs\" textLength=\"40\" x=\"164\" y=\"78.1387\">«part»</text><text fill=\"#000000\" font-family=\"sans-serif\" font-size=\"12\" lengthAdjust=\"spacingAndGlyphs\" textLength=\"8\" x=\"180\" y=\"92.1074\">g</text><line style=\"stroke: #383838; stroke-width: 1.5;\" x1=\"164\" x2=\"204\" y1=\"99.9375\" y2=\"99.9375\"/></a><!--MD5=[1dd1bfd58a279cf63c5f349dbc8fc6a1]\n",
       "class E11--><a href=\"psysml:05fe5b10-94f9-4e9a-a85e-b113c36136a8\" target=\"_top\" title=\"psysml:05fe5b10-94f9-4e9a-a85e-b113c36136a8\" xlink:actuate=\"onRequest\" xlink:href=\"psysml:05fe5b10-94f9-4e9a-a85e-b113c36136a8\" xlink:show=\"new\" xlink:title=\"psysml:05fe5b10-94f9-4e9a-a85e-b113c36136a8\" xlink:type=\"simple\"><rect fill=\"#FFFFFF\" height=\"88.3516\" id=\"E11\" style=\"stroke: #383838; stroke-width: 1.5;\" width=\"95\" x=\"32.5\" y=\"41\"/><text fill=\"#000000\" font-family=\"sans-serif\" font-size=\"12\" font-style=\"italic\" lengthAdjust=\"spacingAndGlyphs\" textLength=\"93\" x=\"33.5\" y=\"57.1387\">«attribute def»</text><text fill=\"#000000\" font-family=\"sans-serif\" font-size=\"12\" lengthAdjust=\"spacingAndGlyphs\" textLength=\"8\" x=\"76\" y=\"71.1074\">A</text><line style=\"stroke: #383838; stroke-width: 1.5;\" x1=\"33.5\" x2=\"126.5\" y1=\"78.9375\" y2=\"78.9375\"/><text fill=\"#000000\" font-family=\"sans-serif\" font-size=\"11\" lengthAdjust=\"spacingAndGlyphs\" textLength=\"51\" x=\"38.5\" y=\"109.9526\">i: Integer</text><text fill=\"#000000\" font-family=\"sans-serif\" font-size=\"11\" lengthAdjust=\"spacingAndGlyphs\" textLength=\"21\" x=\"38.5\" y=\"122.7573\">x: A</text><line style=\"stroke: #383838; stroke-width: 1.0;\" x1=\"33.5\" x2=\"52.5\" y1=\"93.3398\" y2=\"93.3398\"/><text fill=\"#000000\" font-family=\"sans-serif\" font-size=\"11\" lengthAdjust=\"spacingAndGlyphs\" textLength=\"55\" x=\"52.5\" y=\"96.6479\">attributes</text><line style=\"stroke: #383838; stroke-width: 1.0;\" x1=\"107.5\" x2=\"126.5\" y1=\"93.3398\" y2=\"93.3398\"/></a><!--MD5=[15ebcb19ae302d9b601edb458606d402]\n",
       "link E5 to E2--><a href=\"psysml:b71e192f-5f45-432d-9454-4642818dbb88\" target=\"_top\" title=\"psysml:b71e192f-5f45-432d-9454-4642818dbb88\" xlink:actuate=\"onRequest\" xlink:href=\"psysml:b71e192f-5f45-432d-9454-4642818dbb88\" xlink:show=\"new\" xlink:title=\"psysml:b71e192f-5f45-432d-9454-4642818dbb88\" xlink:type=\"simple\"><path d=\"M555.5,108.29 C555.5,108.29 555.5,168.85 555.5,168.85 \" fill=\"none\" id=\"E5-&gt;E2\" style=\"stroke: #383838; stroke-width: 1.0;\"/><polygon fill=\"#FFFFFF\" points=\"555.5,188.85,548.5,169.85,562.5,169.85,555.5,188.85\" style=\"stroke: #383838; stroke-width: 1.0;\"/><ellipse cx=\"550.5\" cy=\"164.15\" fill=\"#383838\" rx=\"2\" ry=\"2\" style=\"stroke: #383838; stroke-width: 1.0;\"/><ellipse cx=\"560.5\" cy=\"164.15\" fill=\"#383838\" rx=\"2\" ry=\"2\" style=\"stroke: #383838; stroke-width: 1.0;\"/></a><!--MD5=[2351f337d6de0f557b50152ba70847b5]\n",
       "link E6 to E2--><a href=\"psysml:173d30e4-d568-4354-a9e9-bb0668964c70\" target=\"_top\" title=\"psysml:173d30e4-d568-4354-a9e9-bb0668964c70\" xlink:actuate=\"onRequest\" xlink:href=\"psysml:173d30e4-d568-4354-a9e9-bb0668964c70\" xlink:show=\"new\" xlink:title=\"psysml:173d30e4-d568-4354-a9e9-bb0668964c70\" xlink:type=\"simple\"><path d=\"M505,108.29 C505,108.29 505,168.85 505,168.85 \" fill=\"none\" id=\"E6-&gt;E2\" style=\"stroke: #383838; stroke-width: 1.0;\"/><polygon fill=\"#FFFFFF\" points=\"505,188.85,498,169.85,512,169.85,505,188.85\" style=\"stroke: #383838; stroke-width: 1.0;\"/><ellipse cx=\"500\" cy=\"164.15\" fill=\"#383838\" rx=\"2\" ry=\"2\" style=\"stroke: #383838; stroke-width: 1.0;\"/><ellipse cx=\"510\" cy=\"164.15\" fill=\"#383838\" rx=\"2\" ry=\"2\" style=\"stroke: #383838; stroke-width: 1.0;\"/></a><!--MD5=[f26f7e5efbb343ca6dcb0798971323cc]\n",
       "@startuml\r\n",
       "skinparam linetype ortho\r\n",
       "skinparam monochrome true\r\n",
       "skinparam classbackgroundcolor white\r\n",
       "skinparam shadowing false\r\n",
       "skinparam wrapWidth 300\r\n",
       "hide circle\r\n",
       "\r\n",
       "package \"MultiplicityTest\" as E1  [[psysml:c0f24ad0-fe84-484c-92fb-1b0594d1e479 ]]  {\r\n",
       "comp def \"P\" as E2  <<(T,blue) part def>> [[psysml:987e5bc7-b02a-416d-86c6-8545bfa90ef5 ]] {\r\n",
       "}\r\n",
       "comp usage \"n: Integer\" as E3  <<(T,blue) attribute>> [[psysml:7c23d281-2047-4d33-b5ff-31ab75cdc741 ]] {\r\n",
       "}\r\n",
       "comp usage \"a\" as E4  <<(T,blue) part>> [[psysml:dbbeb80c-41d4-4e5a-ae6b-125fea141b81 ]] {\r\n",
       "}\r\n",
       "comp usage \"b: P\" as E5  <<(T,blue) part>> [[psysml:1044b725-5886-488e-a280-d65b06b2678d ]] {\r\n",
       "}\r\n",
       "comp usage \"c: P\" as E6  <<(T,blue) part>> [[psysml:7163cac6-f89e-4c84-b72c-82ccdb232dd2 ]] {\r\n",
       "}\r\n",
       "comp usage \"d\" as E7  <<(T,blue) part>> [[psysml:79f72fcf-9cc7-42c6-886c-0c2f21f0aaa0 ]] {\r\n",
       "}\r\n",
       "comp usage \"e\" as E8  <<(T,blue) part>> [[psysml:7ad65eee-258f-4156-b8ec-39b80665cdbc ]] {\r\n",
       "}\r\n",
       "comp usage \"f\" as E9  <<(T,blue) part>> [[psysml:20b1d46d-edcb-44c0-8591-3bffd604b97a ]] {\r\n",
       "}\r\n",
       "comp usage \"g\" as E10  <<(T,blue) part>> [[psysml:25d96323-353d-45e6-96c8-f6353f2a6c2d ]] {\r\n",
       "}\r\n",
       "comp def \"A\" as E11  <<(T,blue) attribute def>> [[psysml:05fe5b10-94f9-4e9a-a85e-b113c36136a8 ]] {\r\n",
       "- - attributes - -\r\n",
       "i: Integer\r\n",
       "x: A\r\n",
       "}\r\n",
       "}\r\n",
       "E5 - -:|> E2 [[psysml:b71e192f-5f45-432d-9454-4642818dbb88 ]] \r\n",
       "E6 - -:|> E2 [[psysml:173d30e4-d568-4354-a9e9-bb0668964c70 ]] \r\n",
       "@enduml\r\n",
       "\n",
       "PlantUML version 1.2020.13(Sat Jun 13 12:26:38 UTC 2020)\n",
       "(EPL source distribution)\n",
       "Java Runtime: OpenJDK Runtime Environment\n",
       "JVM: OpenJDK 64-Bit Server VM\n",
       "Default Encoding: UTF-8\n",
       "Language: en\n",
       "Country: null\n",
       "--></g></svg>"
      ]
     },
     "execution_count": 52,
     "metadata": {},
     "output_type": "execute_result"
    }
   ],
   "source": [
    "%viz --style=\"ORTHOLINE\" --view=\"Tree\" \"MultiplicityTest\""
   ]
  },
  {
   "cell_type": "code",
   "execution_count": 53,
   "id": "a4add2c7",
   "metadata": {
    "execution": {
     "iopub.execute_input": "2021-09-27T07:19:20.823604Z",
     "iopub.status.busy": "2021-09-27T07:19:20.823183Z",
     "iopub.status.idle": "2021-09-27T07:19:20.828079Z",
     "shell.execute_reply": "2021-09-27T07:19:20.827716Z"
    }
   },
   "outputs": [
    {
     "data": {
      "image/svg+xml": [
       "<?xml version=\"1.0\" encoding=\"UTF-8\" standalone=\"no\"?><svg xmlns=\"http://www.w3.org/2000/svg\" xmlns:xlink=\"http://www.w3.org/1999/xlink\" contentScriptType=\"application/ecmascript\" contentStyleType=\"text/css\" height=\"12px\" preserveAspectRatio=\"none\" style=\"width:12px;height:12px;\" version=\"1.1\" viewBox=\"0 0 12 12\" width=\"12px\" zoomAndPan=\"magnify\"><defs/><g><!--MD5=[97d6f38768b311333d388e66b2b27985]\n",
       "@startuml\r\n",
       "skinparam linetype ortho\r\n",
       "skinparam monochrome true\r\n",
       "skinparam classbackgroundcolor white\r\n",
       "skinparam shadowing false\r\n",
       "skinparam wrapWidth 300\r\n",
       "hide circle\r\n",
       "\r\n",
       "@enduml\r\n",
       "\n",
       "PlantUML version 1.2020.13(Sat Jun 13 12:26:38 UTC 2020)\n",
       "(EPL source distribution)\n",
       "Java Runtime: OpenJDK Runtime Environment\n",
       "JVM: OpenJDK 64-Bit Server VM\n",
       "Default Encoding: UTF-8\n",
       "Language: en\n",
       "Country: null\n",
       "--></g></svg>"
      ]
     },
     "execution_count": 53,
     "metadata": {},
     "output_type": "execute_result"
    }
   ],
   "source": [
    "%viz --style=\"ORTHOLINE\" --view=\"State\" \"MultiplicityTest\""
   ]
  },
  {
   "cell_type": "code",
   "execution_count": 54,
   "id": "f8f8aee2",
   "metadata": {
    "execution": {
     "iopub.execute_input": "2021-09-27T07:19:20.877919Z",
     "iopub.status.busy": "2021-09-27T07:19:20.877507Z",
     "iopub.status.idle": "2021-09-27T07:19:20.907759Z",
     "shell.execute_reply": "2021-09-27T07:19:20.906128Z"
    }
   },
   "outputs": [
    {
     "data": {
      "image/svg+xml": [
       "<?xml version=\"1.0\" encoding=\"UTF-8\" standalone=\"no\"?><svg xmlns=\"http://www.w3.org/2000/svg\" xmlns:xlink=\"http://www.w3.org/1999/xlink\" contentScriptType=\"application/ecmascript\" contentStyleType=\"text/css\" height=\"115px\" preserveAspectRatio=\"none\" style=\"width:979px;height:115px;\" version=\"1.1\" viewBox=\"0 0 979 115\" width=\"979px\" zoomAndPan=\"magnify\"><defs/><g><!--MD5=[fbc87193dbaf4d95561dea2c320d4a47]\n",
       "cluster E1--><a href=\"psysml:c0f24ad0-fe84-484c-92fb-1b0594d1e479\" target=\"_top\" title=\"psysml:c0f24ad0-fe84-484c-92fb-1b0594d1e479\" xlink:actuate=\"onRequest\" xlink:href=\"psysml:c0f24ad0-fe84-484c-92fb-1b0594d1e479\" xlink:show=\"new\" xlink:title=\"psysml:c0f24ad0-fe84-484c-92fb-1b0594d1e479\" xlink:type=\"simple\"><polygon fill=\"#FFFFFF\" points=\"16,6,123,6,130,28.2969,957,28.2969,957,103,16,103,16,6\" style=\"stroke: #000000; stroke-width: 1.5;\"/><line style=\"stroke: #000000; stroke-width: 1.5;\" x1=\"16\" x2=\"130\" y1=\"28.2969\" y2=\"28.2969\"/><text fill=\"#000000\" font-family=\"sans-serif\" font-size=\"14\" font-weight=\"bold\" lengthAdjust=\"spacingAndGlyphs\" textLength=\"101\" x=\"20\" y=\"20.9951\">MultiplicityTest</text></a><!--MD5=[09b614a08d8cba4a07c9adeb5e0fee81]\n",
       "class E3--><a href=\"psysml:7c23d281-2047-4d33-b5ff-31ab75cdc741\" target=\"_top\" title=\"psysml:7c23d281-2047-4d33-b5ff-31ab75cdc741\" xlink:actuate=\"onRequest\" xlink:href=\"psysml:7c23d281-2047-4d33-b5ff-31ab75cdc741\" xlink:show=\"new\" xlink:title=\"psysml:7c23d281-2047-4d33-b5ff-31ab75cdc741\" xlink:type=\"simple\"><rect fill=\"#FFFFFF\" height=\"45.9375\" id=\"E3\" rx=\"10\" ry=\"10\" style=\"stroke: #383838; stroke-width: 1.5;\" width=\"71\" x=\"869.5\" y=\"41\"/><text fill=\"#000000\" font-family=\"sans-serif\" font-size=\"12\" font-style=\"italic\" lengthAdjust=\"spacingAndGlyphs\" textLength=\"69\" x=\"870.5\" y=\"57.1387\">«attribute»</text><text fill=\"#000000\" font-family=\"sans-serif\" font-size=\"12\" lengthAdjust=\"spacingAndGlyphs\" textLength=\"61\" x=\"874.5\" y=\"71.1074\">n: Integer</text><line style=\"stroke: #383838; stroke-width: 1.5;\" x1=\"870.5\" x2=\"939.5\" y1=\"78.9375\" y2=\"78.9375\"/></a><g id=\"E1.E11\"><a href=\"psysml:05fe5b10-94f9-4e9a-a85e-b113c36136a8\" target=\"_top\" title=\"psysml:05fe5b10-94f9-4e9a-a85e-b113c36136a8\" xlink:actuate=\"onRequest\" xlink:href=\"psysml:05fe5b10-94f9-4e9a-a85e-b113c36136a8\" xlink:show=\"new\" xlink:title=\"psysml:05fe5b10-94f9-4e9a-a85e-b113c36136a8\" xlink:type=\"simple\"><rect fill=\"#FFFFFF\" height=\"42.9375\" id=\"E11\" style=\"stroke: #383838; stroke-width: 1.5;\" width=\"100\" x=\"734\" y=\"42.5\"/><rect fill=\"#F8F8F8\" height=\"37.9375\" style=\"stroke: #383838; stroke-width: 1.5;\" width=\"100\" x=\"734\" y=\"42.5\"/><text fill=\"#000000\" font-family=\"sans-serif\" font-size=\"12\" font-style=\"italic\" lengthAdjust=\"spacingAndGlyphs\" textLength=\"93\" x=\"737.5\" y=\"58.6387\">«attribute def»</text><text fill=\"#000000\" font-family=\"sans-serif\" font-size=\"12\" lengthAdjust=\"spacingAndGlyphs\" textLength=\"8\" x=\"780\" y=\"72.6074\">A</text></a></g><g id=\"E1.E2\"><a href=\"psysml:987e5bc7-b02a-416d-86c6-8545bfa90ef5\" target=\"_top\" title=\"psysml:987e5bc7-b02a-416d-86c6-8545bfa90ef5\" xlink:actuate=\"onRequest\" xlink:href=\"psysml:987e5bc7-b02a-416d-86c6-8545bfa90ef5\" xlink:show=\"new\" xlink:title=\"psysml:987e5bc7-b02a-416d-86c6-8545bfa90ef5\" xlink:type=\"simple\"><rect fill=\"#FFFFFF\" height=\"42.9375\" id=\"E2\" style=\"stroke: #383838; stroke-width: 1.5;\" width=\"71\" x=\"627.5\" y=\"42.5\"/><rect fill=\"#F8F8F8\" height=\"37.9375\" style=\"stroke: #383838; stroke-width: 1.5;\" width=\"71\" x=\"627.5\" y=\"42.5\"/><text fill=\"#000000\" font-family=\"sans-serif\" font-size=\"12\" font-style=\"italic\" lengthAdjust=\"spacingAndGlyphs\" textLength=\"64\" x=\"631\" y=\"58.6387\">«part def»</text><text fill=\"#000000\" font-family=\"sans-serif\" font-size=\"12\" lengthAdjust=\"spacingAndGlyphs\" textLength=\"8\" x=\"659\" y=\"72.6074\">P</text></a></g><g id=\"E1.E4\"><a href=\"psysml:dbbeb80c-41d4-4e5a-ae6b-125fea141b81\" target=\"_top\" title=\"psysml:dbbeb80c-41d4-4e5a-ae6b-125fea141b81\" xlink:actuate=\"onRequest\" xlink:href=\"psysml:dbbeb80c-41d4-4e5a-ae6b-125fea141b81\" xlink:show=\"new\" xlink:title=\"psysml:dbbeb80c-41d4-4e5a-ae6b-125fea141b81\" xlink:type=\"simple\"><rect fill=\"#FFFFFF\" height=\"40\" id=\"E4\" rx=\"10\" ry=\"10\" style=\"stroke: #383838; stroke-width: 1.5;\" width=\"50\" x=\"542\" y=\"44\"/><rect fill=\"#F8F8F8\" height=\"23.9688\" rx=\"10\" ry=\"10\" style=\"stroke: #F8F8F8; stroke-width: 1.5;\" width=\"50\" x=\"542\" y=\"44\"/><rect fill=\"#F8F8F8\" height=\"10\" style=\"stroke: #F8F8F8; stroke-width: 1.5;\" width=\"50\" x=\"542\" y=\"57.9688\"/><rect fill=\"none\" height=\"40\" id=\"E4\" rx=\"10\" ry=\"10\" style=\"stroke: #383838; stroke-width: 1.5;\" width=\"50\" x=\"542\" y=\"44\"/><text fill=\"#000000\" font-family=\"sans-serif\" font-size=\"12\" lengthAdjust=\"spacingAndGlyphs\" textLength=\"8\" x=\"563\" y=\"60.1387\">a</text></a></g><g id=\"E1.E5\"><a href=\"psysml:1044b725-5886-488e-a280-d65b06b2678d\" target=\"_top\" title=\"psysml:1044b725-5886-488e-a280-d65b06b2678d\" xlink:actuate=\"onRequest\" xlink:href=\"psysml:1044b725-5886-488e-a280-d65b06b2678d\" xlink:show=\"new\" xlink:title=\"psysml:1044b725-5886-488e-a280-d65b06b2678d\" xlink:type=\"simple\"><rect fill=\"#FFFFFF\" height=\"40\" id=\"E5\" rx=\"10\" ry=\"10\" style=\"stroke: #383838; stroke-width: 1.5;\" width=\"50\" x=\"457\" y=\"44\"/><rect fill=\"#F8F8F8\" height=\"23.9688\" rx=\"10\" ry=\"10\" style=\"stroke: #F8F8F8; stroke-width: 1.5;\" width=\"50\" x=\"457\" y=\"44\"/><rect fill=\"#F8F8F8\" height=\"10\" style=\"stroke: #F8F8F8; stroke-width: 1.5;\" width=\"50\" x=\"457\" y=\"57.9688\"/><rect fill=\"none\" height=\"40\" id=\"E5\" rx=\"10\" ry=\"10\" style=\"stroke: #383838; stroke-width: 1.5;\" width=\"50\" x=\"457\" y=\"44\"/><text fill=\"#000000\" font-family=\"sans-serif\" font-size=\"12\" lengthAdjust=\"spacingAndGlyphs\" textLength=\"24\" x=\"470\" y=\"60.1387\">b: P</text></a></g><g id=\"E1.E6\"><a href=\"psysml:7163cac6-f89e-4c84-b72c-82ccdb232dd2\" target=\"_top\" title=\"psysml:7163cac6-f89e-4c84-b72c-82ccdb232dd2\" xlink:actuate=\"onRequest\" xlink:href=\"psysml:7163cac6-f89e-4c84-b72c-82ccdb232dd2\" xlink:show=\"new\" xlink:title=\"psysml:7163cac6-f89e-4c84-b72c-82ccdb232dd2\" xlink:type=\"simple\"><rect fill=\"#FFFFFF\" height=\"40\" id=\"E6\" rx=\"10\" ry=\"10\" style=\"stroke: #383838; stroke-width: 1.5;\" width=\"50\" x=\"372\" y=\"44\"/><rect fill=\"#F8F8F8\" height=\"23.9688\" rx=\"10\" ry=\"10\" style=\"stroke: #F8F8F8; stroke-width: 1.5;\" width=\"50\" x=\"372\" y=\"44\"/><rect fill=\"#F8F8F8\" height=\"10\" style=\"stroke: #F8F8F8; stroke-width: 1.5;\" width=\"50\" x=\"372\" y=\"57.9688\"/><rect fill=\"none\" height=\"40\" id=\"E6\" rx=\"10\" ry=\"10\" style=\"stroke: #383838; stroke-width: 1.5;\" width=\"50\" x=\"372\" y=\"44\"/><text fill=\"#000000\" font-family=\"sans-serif\" font-size=\"12\" lengthAdjust=\"spacingAndGlyphs\" textLength=\"23\" x=\"385.5\" y=\"60.1387\">c: P</text></a></g><g id=\"E1.E7\"><a href=\"psysml:79f72fcf-9cc7-42c6-886c-0c2f21f0aaa0\" target=\"_top\" title=\"psysml:79f72fcf-9cc7-42c6-886c-0c2f21f0aaa0\" xlink:actuate=\"onRequest\" xlink:href=\"psysml:79f72fcf-9cc7-42c6-886c-0c2f21f0aaa0\" xlink:show=\"new\" xlink:title=\"psysml:79f72fcf-9cc7-42c6-886c-0c2f21f0aaa0\" xlink:type=\"simple\"><rect fill=\"#FFFFFF\" height=\"40\" id=\"E7\" rx=\"10\" ry=\"10\" style=\"stroke: #383838; stroke-width: 1.5;\" width=\"50\" x=\"287\" y=\"44\"/><rect fill=\"#F8F8F8\" height=\"23.9688\" rx=\"10\" ry=\"10\" style=\"stroke: #F8F8F8; stroke-width: 1.5;\" width=\"50\" x=\"287\" y=\"44\"/><rect fill=\"#F8F8F8\" height=\"10\" style=\"stroke: #F8F8F8; stroke-width: 1.5;\" width=\"50\" x=\"287\" y=\"57.9688\"/><rect fill=\"none\" height=\"40\" id=\"E7\" rx=\"10\" ry=\"10\" style=\"stroke: #383838; stroke-width: 1.5;\" width=\"50\" x=\"287\" y=\"44\"/><text fill=\"#000000\" font-family=\"sans-serif\" font-size=\"12\" lengthAdjust=\"spacingAndGlyphs\" textLength=\"8\" x=\"308\" y=\"60.1387\">d</text></a></g><g id=\"E1.E8\"><a href=\"psysml:7ad65eee-258f-4156-b8ec-39b80665cdbc\" target=\"_top\" title=\"psysml:7ad65eee-258f-4156-b8ec-39b80665cdbc\" xlink:actuate=\"onRequest\" xlink:href=\"psysml:7ad65eee-258f-4156-b8ec-39b80665cdbc\" xlink:show=\"new\" xlink:title=\"psysml:7ad65eee-258f-4156-b8ec-39b80665cdbc\" xlink:type=\"simple\"><rect fill=\"#FFFFFF\" height=\"40\" id=\"E8\" rx=\"10\" ry=\"10\" style=\"stroke: #383838; stroke-width: 1.5;\" width=\"50\" x=\"202\" y=\"44\"/><rect fill=\"#F8F8F8\" height=\"23.9688\" rx=\"10\" ry=\"10\" style=\"stroke: #F8F8F8; stroke-width: 1.5;\" width=\"50\" x=\"202\" y=\"44\"/><rect fill=\"#F8F8F8\" height=\"10\" style=\"stroke: #F8F8F8; stroke-width: 1.5;\" width=\"50\" x=\"202\" y=\"57.9688\"/><rect fill=\"none\" height=\"40\" id=\"E8\" rx=\"10\" ry=\"10\" style=\"stroke: #383838; stroke-width: 1.5;\" width=\"50\" x=\"202\" y=\"44\"/><text fill=\"#000000\" font-family=\"sans-serif\" font-size=\"12\" lengthAdjust=\"spacingAndGlyphs\" textLength=\"8\" x=\"223\" y=\"60.1387\">e</text></a></g><g id=\"E1.E9\"><a href=\"psysml:20b1d46d-edcb-44c0-8591-3bffd604b97a\" target=\"_top\" title=\"psysml:20b1d46d-edcb-44c0-8591-3bffd604b97a\" xlink:actuate=\"onRequest\" xlink:href=\"psysml:20b1d46d-edcb-44c0-8591-3bffd604b97a\" xlink:show=\"new\" xlink:title=\"psysml:20b1d46d-edcb-44c0-8591-3bffd604b97a\" xlink:type=\"simple\"><rect fill=\"#FFFFFF\" height=\"40\" id=\"E9\" rx=\"10\" ry=\"10\" style=\"stroke: #383838; stroke-width: 1.5;\" width=\"50\" x=\"117\" y=\"44\"/><rect fill=\"#F8F8F8\" height=\"23.9688\" rx=\"10\" ry=\"10\" style=\"stroke: #F8F8F8; stroke-width: 1.5;\" width=\"50\" x=\"117\" y=\"44\"/><rect fill=\"#F8F8F8\" height=\"10\" style=\"stroke: #F8F8F8; stroke-width: 1.5;\" width=\"50\" x=\"117\" y=\"57.9688\"/><rect fill=\"none\" height=\"40\" id=\"E9\" rx=\"10\" ry=\"10\" style=\"stroke: #383838; stroke-width: 1.5;\" width=\"50\" x=\"117\" y=\"44\"/><text fill=\"#000000\" font-family=\"sans-serif\" font-size=\"12\" lengthAdjust=\"spacingAndGlyphs\" textLength=\"4\" x=\"140\" y=\"60.1387\">f</text></a></g><g id=\"E1.E10\"><a href=\"psysml:25d96323-353d-45e6-96c8-f6353f2a6c2d\" target=\"_top\" title=\"psysml:25d96323-353d-45e6-96c8-f6353f2a6c2d\" xlink:actuate=\"onRequest\" xlink:href=\"psysml:25d96323-353d-45e6-96c8-f6353f2a6c2d\" xlink:show=\"new\" xlink:title=\"psysml:25d96323-353d-45e6-96c8-f6353f2a6c2d\" xlink:type=\"simple\"><rect fill=\"#FFFFFF\" height=\"40\" id=\"E10\" rx=\"10\" ry=\"10\" style=\"stroke: #383838; stroke-width: 1.5;\" width=\"50\" x=\"32\" y=\"44\"/><rect fill=\"#F8F8F8\" height=\"23.9688\" rx=\"10\" ry=\"10\" style=\"stroke: #F8F8F8; stroke-width: 1.5;\" width=\"50\" x=\"32\" y=\"44\"/><rect fill=\"#F8F8F8\" height=\"10\" style=\"stroke: #F8F8F8; stroke-width: 1.5;\" width=\"50\" x=\"32\" y=\"57.9688\"/><rect fill=\"none\" height=\"40\" id=\"E10\" rx=\"10\" ry=\"10\" style=\"stroke: #383838; stroke-width: 1.5;\" width=\"50\" x=\"32\" y=\"44\"/><text fill=\"#000000\" font-family=\"sans-serif\" font-size=\"12\" lengthAdjust=\"spacingAndGlyphs\" textLength=\"8\" x=\"53\" y=\"60.1387\">g</text></a></g><!--MD5=[9377b53c26266eac79f7aed8bfc5b8b3]\n",
       "@startuml\r\n",
       "skinparam ranksep 10\r\n",
       "skinparam rectangle {\r\n",
       " backgroundColor<<block>> LightGreen\r\n",
       "}\r\n",
       "skinparam linetype ortho\r\n",
       "skinparam monochrome true\r\n",
       "skinparam classbackgroundcolor white\r\n",
       "skinparam shadowing false\r\n",
       "skinparam wrapWidth 300\r\n",
       "hide circle\r\n",
       "\r\n",
       "package \"MultiplicityTest\" as E1  [[psysml:c0f24ad0-fe84-484c-92fb-1b0594d1e479 ]]  {\r\n",
       "rec def \"P\" as E2  <<(T,blue) part def>> [[psysml:987e5bc7-b02a-416d-86c6-8545bfa90ef5 ]] {\r\n",
       "}\r\n",
       "comp usage \"n: Integer\" as E3  <<(T,blue) attribute>> [[psysml:7c23d281-2047-4d33-b5ff-31ab75cdc741 ]] {\r\n",
       "}\r\n",
       "rec usage \"a\" as E4  [[psysml:dbbeb80c-41d4-4e5a-ae6b-125fea141b81 ]] {\r\n",
       "}\r\n",
       "rec usage \"b: P\" as E5  [[psysml:1044b725-5886-488e-a280-d65b06b2678d ]] {\r\n",
       "}\r\n",
       "rec usage \"c: P\" as E6  [[psysml:7163cac6-f89e-4c84-b72c-82ccdb232dd2 ]] {\r\n",
       "}\r\n",
       "rec usage \"d\" as E7  [[psysml:79f72fcf-9cc7-42c6-886c-0c2f21f0aaa0 ]] {\r\n",
       "}\r\n",
       "rec usage \"e\" as E8  [[psysml:7ad65eee-258f-4156-b8ec-39b80665cdbc ]] {\r\n",
       "}\r\n",
       "rec usage \"f\" as E9  [[psysml:20b1d46d-edcb-44c0-8591-3bffd604b97a ]] {\r\n",
       "}\r\n",
       "rec usage \"g\" as E10  [[psysml:25d96323-353d-45e6-96c8-f6353f2a6c2d ]] {\r\n",
       "}\r\n",
       "def \"A\" as E11  <<(T,blue) attribute def>> [[psysml:05fe5b10-94f9-4e9a-a85e-b113c36136a8 ]] \r\n",
       "}\r\n",
       "@enduml\r\n",
       "\n",
       "PlantUML version 1.2020.13(Sat Jun 13 12:26:38 UTC 2020)\n",
       "(EPL source distribution)\n",
       "Java Runtime: OpenJDK Runtime Environment\n",
       "JVM: OpenJDK 64-Bit Server VM\n",
       "Default Encoding: UTF-8\n",
       "Language: en\n",
       "Country: null\n",
       "--></g></svg>"
      ]
     },
     "execution_count": 54,
     "metadata": {},
     "output_type": "execute_result"
    }
   ],
   "source": [
    "%viz --style=\"ORTHOLINE\" --view=\"Interconnection\" \"MultiplicityTest\""
   ]
  },
  {
   "cell_type": "code",
   "execution_count": 55,
   "id": "11cf449b",
   "metadata": {
    "execution": {
     "iopub.execute_input": "2021-09-27T07:19:20.956975Z",
     "iopub.status.busy": "2021-09-27T07:19:20.956572Z",
     "iopub.status.idle": "2021-09-27T07:19:20.960912Z",
     "shell.execute_reply": "2021-09-27T07:19:20.961206Z"
    }
   },
   "outputs": [
    {
     "data": {
      "image/svg+xml": [
       "<?xml version=\"1.0\" encoding=\"UTF-8\" standalone=\"no\"?><svg xmlns=\"http://www.w3.org/2000/svg\" xmlns:xlink=\"http://www.w3.org/1999/xlink\" contentScriptType=\"application/ecmascript\" contentStyleType=\"text/css\" height=\"12px\" preserveAspectRatio=\"none\" style=\"width:12px;height:12px;\" version=\"1.1\" viewBox=\"0 0 12 12\" width=\"12px\" zoomAndPan=\"magnify\"><defs/><g><!--MD5=[72934c63077099a26744516a776b4749]\n",
       "@startuml\r\n",
       "skinparam ranksep 8\r\n",
       "skinparam linetype ortho\r\n",
       "skinparam monochrome true\r\n",
       "skinparam classbackgroundcolor white\r\n",
       "skinparam shadowing false\r\n",
       "skinparam wrapWidth 300\r\n",
       "hide circle\r\n",
       "\r\n",
       "@enduml\r\n",
       "\n",
       "PlantUML version 1.2020.13(Sat Jun 13 12:26:38 UTC 2020)\n",
       "(EPL source distribution)\n",
       "Java Runtime: OpenJDK Runtime Environment\n",
       "JVM: OpenJDK 64-Bit Server VM\n",
       "Default Encoding: UTF-8\n",
       "Language: en\n",
       "Country: null\n",
       "--></g></svg>"
      ]
     },
     "execution_count": 55,
     "metadata": {},
     "output_type": "execute_result"
    }
   ],
   "source": [
    "%viz --style=\"ORTHOLINE\" --view=\"Action\" \"MultiplicityTest\""
   ]
  },
  {
   "cell_type": "code",
   "execution_count": 56,
   "id": "aea44498",
   "metadata": {
    "execution": {
     "iopub.execute_input": "2021-09-27T07:19:21.011178Z",
     "iopub.status.busy": "2021-09-27T07:19:21.010780Z",
     "iopub.status.idle": "2021-09-27T07:19:21.016043Z",
     "shell.execute_reply": "2021-09-27T07:19:21.015714Z"
    }
   },
   "outputs": [
    {
     "data": {
      "image/svg+xml": [
       "<?xml version=\"1.0\" encoding=\"UTF-8\" standalone=\"no\"?><svg xmlns=\"http://www.w3.org/2000/svg\" xmlns:xlink=\"http://www.w3.org/1999/xlink\" contentScriptType=\"application/ecmascript\" contentStyleType=\"text/css\" height=\"12px\" preserveAspectRatio=\"none\" style=\"width:12px;height:12px;\" version=\"1.1\" viewBox=\"0 0 12 12\" width=\"12px\" zoomAndPan=\"magnify\"><defs/><g><!--MD5=[30fc1de5121c5abddedd55b44417fde8]\n",
       "@startuml\r\n",
       "skinparam roundcorner 20\r\n",
       "skinparam BoxPadding 20\r\n",
       "skinparam SequenceBoxBackgroundColor #white\r\n",
       "skinparam style strictuml\r\n",
       "skinparam maxMessageSize 100\r\n",
       "skinparam linetype ortho\r\n",
       "skinparam monochrome true\r\n",
       "skinparam classbackgroundcolor white\r\n",
       "skinparam shadowing false\r\n",
       "skinparam wrapWidth 300\r\n",
       "hide circle\r\n",
       "\r\n",
       "@enduml\r\n",
       "\n",
       "PlantUML version 1.2020.13(Sat Jun 13 12:26:38 UTC 2020)\n",
       "(EPL source distribution)\n",
       "Java Runtime: OpenJDK Runtime Environment\n",
       "JVM: OpenJDK 64-Bit Server VM\n",
       "Default Encoding: UTF-8\n",
       "Language: en\n",
       "Country: null\n",
       "--></g></svg>"
      ]
     },
     "execution_count": 56,
     "metadata": {},
     "output_type": "execute_result"
    }
   ],
   "source": [
    "%viz --style=\"ORTHOLINE\" --view=\"Sequence\" \"MultiplicityTest\""
   ]
  },
  {
   "cell_type": "code",
   "execution_count": 57,
   "id": "667d61ff",
   "metadata": {
    "execution": {
     "iopub.execute_input": "2021-09-27T07:19:21.066046Z",
     "iopub.status.busy": "2021-09-27T07:19:21.065626Z",
     "iopub.status.idle": "2021-09-27T07:19:21.121858Z",
     "shell.execute_reply": "2021-09-27T07:19:21.121493Z"
    }
   },
   "outputs": [
    {
     "data": {
      "image/svg+xml": [
       "<?xml version=\"1.0\" encoding=\"UTF-8\" standalone=\"no\"?><svg xmlns=\"http://www.w3.org/2000/svg\" xmlns:xlink=\"http://www.w3.org/1999/xlink\" contentScriptType=\"application/ecmascript\" contentStyleType=\"text/css\" height=\"263px\" preserveAspectRatio=\"none\" style=\"width:812px;height:263px;\" version=\"1.1\" viewBox=\"0 0 812 263\" width=\"812px\" zoomAndPan=\"magnify\"><defs/><g><!--MD5=[fbc87193dbaf4d95561dea2c320d4a47]\n",
       "cluster E1--><a href=\"psysml:c0f24ad0-fe84-484c-92fb-1b0594d1e479\" target=\"_top\" title=\"psysml:c0f24ad0-fe84-484c-92fb-1b0594d1e479\" xlink:actuate=\"onRequest\" xlink:href=\"psysml:c0f24ad0-fe84-484c-92fb-1b0594d1e479\" xlink:show=\"new\" xlink:title=\"psysml:c0f24ad0-fe84-484c-92fb-1b0594d1e479\" xlink:type=\"simple\"><polygon fill=\"#FFFFFF\" points=\"16,6,123,6,130,28.2969,790,28.2969,790,251,16,251,16,6\" style=\"stroke: #000000; stroke-width: 1.5;\"/><line style=\"stroke: #000000; stroke-width: 1.5;\" x1=\"16\" x2=\"130\" y1=\"28.2969\" y2=\"28.2969\"/><text fill=\"#000000\" font-family=\"sans-serif\" font-size=\"14\" font-weight=\"bold\" lengthAdjust=\"spacingAndGlyphs\" textLength=\"101\" x=\"20\" y=\"20.9951\">MultiplicityTest</text></a><!--MD5=[b4997ac47864f28c2f74865a473b2911]\n",
       "class E2--><a href=\"psysml:987e5bc7-b02a-416d-86c6-8545bfa90ef5\" target=\"_top\" title=\"psysml:987e5bc7-b02a-416d-86c6-8545bfa90ef5\" xlink:actuate=\"onRequest\" xlink:href=\"psysml:987e5bc7-b02a-416d-86c6-8545bfa90ef5\" xlink:show=\"new\" xlink:title=\"psysml:987e5bc7-b02a-416d-86c6-8545bfa90ef5\" xlink:type=\"simple\"><rect fill=\"#FFFFFF\" height=\"45.9375\" id=\"E2\" style=\"stroke: #383838; stroke-width: 1.5;\" width=\"66\" x=\"497\" y=\"189\"/><text fill=\"#000000\" font-family=\"sans-serif\" font-size=\"12\" font-style=\"italic\" lengthAdjust=\"spacingAndGlyphs\" textLength=\"64\" x=\"498\" y=\"205.1387\">«part def»</text><text fill=\"#000000\" font-family=\"sans-serif\" font-size=\"12\" lengthAdjust=\"spacingAndGlyphs\" textLength=\"8\" x=\"526\" y=\"219.1074\">P</text><line style=\"stroke: #383838; stroke-width: 1.5;\" x1=\"498\" x2=\"562\" y1=\"226.9375\" y2=\"226.9375\"/></a><!--MD5=[09b614a08d8cba4a07c9adeb5e0fee81]\n",
       "class E3--><a href=\"psysml:7c23d281-2047-4d33-b5ff-31ab75cdc741\" target=\"_top\" title=\"psysml:7c23d281-2047-4d33-b5ff-31ab75cdc741\" xlink:actuate=\"onRequest\" xlink:href=\"psysml:7c23d281-2047-4d33-b5ff-31ab75cdc741\" xlink:show=\"new\" xlink:title=\"psysml:7c23d281-2047-4d33-b5ff-31ab75cdc741\" xlink:type=\"simple\"><rect fill=\"#FFFFFF\" height=\"45.9375\" id=\"E3\" rx=\"10\" ry=\"10\" style=\"stroke: #383838; stroke-width: 1.5;\" width=\"71\" x=\"702.5\" y=\"62\"/><text fill=\"#000000\" font-family=\"sans-serif\" font-size=\"12\" font-style=\"italic\" lengthAdjust=\"spacingAndGlyphs\" textLength=\"69\" x=\"703.5\" y=\"78.1387\">«attribute»</text><text fill=\"#000000\" font-family=\"sans-serif\" font-size=\"12\" lengthAdjust=\"spacingAndGlyphs\" textLength=\"61\" x=\"707.5\" y=\"92.1074\">n: Integer</text><line style=\"stroke: #383838; stroke-width: 1.5;\" x1=\"703.5\" x2=\"772.5\" y1=\"99.9375\" y2=\"99.9375\"/></a><!--MD5=[ebbe1d658d1005bcc118a6aa81145e00]\n",
       "class E4--><a href=\"psysml:dbbeb80c-41d4-4e5a-ae6b-125fea141b81\" target=\"_top\" title=\"psysml:dbbeb80c-41d4-4e5a-ae6b-125fea141b81\" xlink:actuate=\"onRequest\" xlink:href=\"psysml:dbbeb80c-41d4-4e5a-ae6b-125fea141b81\" xlink:show=\"new\" xlink:title=\"psysml:dbbeb80c-41d4-4e5a-ae6b-125fea141b81\" xlink:type=\"simple\"><rect fill=\"#FFFFFF\" height=\"45.9375\" id=\"E4\" rx=\"10\" ry=\"10\" style=\"stroke: #383838; stroke-width: 1.5;\" width=\"42\" x=\"625\" y=\"62\"/><text fill=\"#000000\" font-family=\"sans-serif\" font-size=\"12\" font-style=\"italic\" lengthAdjust=\"spacingAndGlyphs\" textLength=\"40\" x=\"626\" y=\"78.1387\">«part»</text><text fill=\"#000000\" font-family=\"sans-serif\" font-size=\"12\" lengthAdjust=\"spacingAndGlyphs\" textLength=\"8\" x=\"642\" y=\"92.1074\">a</text><line style=\"stroke: #383838; stroke-width: 1.5;\" x1=\"626\" x2=\"666\" y1=\"99.9375\" y2=\"99.9375\"/></a><!--MD5=[270fce915f116d4de14055a7c1d9a0f3]\n",
       "class E5--><a href=\"psysml:1044b725-5886-488e-a280-d65b06b2678d\" target=\"_top\" title=\"psysml:1044b725-5886-488e-a280-d65b06b2678d\" xlink:actuate=\"onRequest\" xlink:href=\"psysml:1044b725-5886-488e-a280-d65b06b2678d\" xlink:show=\"new\" xlink:title=\"psysml:1044b725-5886-488e-a280-d65b06b2678d\" xlink:type=\"simple\"><rect fill=\"#FFFFFF\" height=\"45.9375\" id=\"E5\" rx=\"10\" ry=\"10\" style=\"stroke: #383838; stroke-width: 1.5;\" width=\"42\" x=\"548\" y=\"62\"/><text fill=\"#000000\" font-family=\"sans-serif\" font-size=\"12\" font-style=\"italic\" lengthAdjust=\"spacingAndGlyphs\" textLength=\"40\" x=\"549\" y=\"78.1387\">«part»</text><text fill=\"#000000\" font-family=\"sans-serif\" font-size=\"12\" lengthAdjust=\"spacingAndGlyphs\" textLength=\"24\" x=\"557\" y=\"92.1074\">b: P</text><line style=\"stroke: #383838; stroke-width: 1.5;\" x1=\"549\" x2=\"589\" y1=\"99.9375\" y2=\"99.9375\"/></a><!--MD5=[60a26617385b1d2d0262a64233df1f8d]\n",
       "class E6--><a href=\"psysml:7163cac6-f89e-4c84-b72c-82ccdb232dd2\" target=\"_top\" title=\"psysml:7163cac6-f89e-4c84-b72c-82ccdb232dd2\" xlink:actuate=\"onRequest\" xlink:href=\"psysml:7163cac6-f89e-4c84-b72c-82ccdb232dd2\" xlink:show=\"new\" xlink:title=\"psysml:7163cac6-f89e-4c84-b72c-82ccdb232dd2\" xlink:type=\"simple\"><rect fill=\"#FFFFFF\" height=\"45.9375\" id=\"E6\" rx=\"10\" ry=\"10\" style=\"stroke: #383838; stroke-width: 1.5;\" width=\"42\" x=\"471\" y=\"62\"/><text fill=\"#000000\" font-family=\"sans-serif\" font-size=\"12\" font-style=\"italic\" lengthAdjust=\"spacingAndGlyphs\" textLength=\"40\" x=\"472\" y=\"78.1387\">«part»</text><text fill=\"#000000\" font-family=\"sans-serif\" font-size=\"12\" lengthAdjust=\"spacingAndGlyphs\" textLength=\"23\" x=\"480.5\" y=\"92.1074\">c: P</text><line style=\"stroke: #383838; stroke-width: 1.5;\" x1=\"472\" x2=\"512\" y1=\"99.9375\" y2=\"99.9375\"/></a><!--MD5=[2156ba9850f5573cc1fc38a6a4b2f02b]\n",
       "class E7--><a href=\"psysml:79f72fcf-9cc7-42c6-886c-0c2f21f0aaa0\" target=\"_top\" title=\"psysml:79f72fcf-9cc7-42c6-886c-0c2f21f0aaa0\" xlink:actuate=\"onRequest\" xlink:href=\"psysml:79f72fcf-9cc7-42c6-886c-0c2f21f0aaa0\" xlink:show=\"new\" xlink:title=\"psysml:79f72fcf-9cc7-42c6-886c-0c2f21f0aaa0\" xlink:type=\"simple\"><rect fill=\"#FFFFFF\" height=\"45.9375\" id=\"E7\" rx=\"10\" ry=\"10\" style=\"stroke: #383838; stroke-width: 1.5;\" width=\"42\" x=\"394\" y=\"62\"/><text fill=\"#000000\" font-family=\"sans-serif\" font-size=\"12\" font-style=\"italic\" lengthAdjust=\"spacingAndGlyphs\" textLength=\"40\" x=\"395\" y=\"78.1387\">«part»</text><text fill=\"#000000\" font-family=\"sans-serif\" font-size=\"12\" lengthAdjust=\"spacingAndGlyphs\" textLength=\"8\" x=\"411\" y=\"92.1074\">d</text><line style=\"stroke: #383838; stroke-width: 1.5;\" x1=\"395\" x2=\"435\" y1=\"99.9375\" y2=\"99.9375\"/></a><!--MD5=[b9389687b975829384b498ac4b7476b2]\n",
       "class E8--><a href=\"psysml:7ad65eee-258f-4156-b8ec-39b80665cdbc\" target=\"_top\" title=\"psysml:7ad65eee-258f-4156-b8ec-39b80665cdbc\" xlink:actuate=\"onRequest\" xlink:href=\"psysml:7ad65eee-258f-4156-b8ec-39b80665cdbc\" xlink:show=\"new\" xlink:title=\"psysml:7ad65eee-258f-4156-b8ec-39b80665cdbc\" xlink:type=\"simple\"><rect fill=\"#FFFFFF\" height=\"45.9375\" id=\"E8\" rx=\"10\" ry=\"10\" style=\"stroke: #383838; stroke-width: 1.5;\" width=\"42\" x=\"317\" y=\"62\"/><text fill=\"#000000\" font-family=\"sans-serif\" font-size=\"12\" font-style=\"italic\" lengthAdjust=\"spacingAndGlyphs\" textLength=\"40\" x=\"318\" y=\"78.1387\">«part»</text><text fill=\"#000000\" font-family=\"sans-serif\" font-size=\"12\" lengthAdjust=\"spacingAndGlyphs\" textLength=\"8\" x=\"334\" y=\"92.1074\">e</text><line style=\"stroke: #383838; stroke-width: 1.5;\" x1=\"318\" x2=\"358\" y1=\"99.9375\" y2=\"99.9375\"/></a><!--MD5=[fd4143e9d270a159db93a4ea2a975926]\n",
       "class E9--><a href=\"psysml:20b1d46d-edcb-44c0-8591-3bffd604b97a\" target=\"_top\" title=\"psysml:20b1d46d-edcb-44c0-8591-3bffd604b97a\" xlink:actuate=\"onRequest\" xlink:href=\"psysml:20b1d46d-edcb-44c0-8591-3bffd604b97a\" xlink:show=\"new\" xlink:title=\"psysml:20b1d46d-edcb-44c0-8591-3bffd604b97a\" xlink:type=\"simple\"><rect fill=\"#FFFFFF\" height=\"45.9375\" id=\"E9\" rx=\"10\" ry=\"10\" style=\"stroke: #383838; stroke-width: 1.5;\" width=\"42\" x=\"240\" y=\"62\"/><text fill=\"#000000\" font-family=\"sans-serif\" font-size=\"12\" font-style=\"italic\" lengthAdjust=\"spacingAndGlyphs\" textLength=\"40\" x=\"241\" y=\"78.1387\">«part»</text><text fill=\"#000000\" font-family=\"sans-serif\" font-size=\"12\" lengthAdjust=\"spacingAndGlyphs\" textLength=\"4\" x=\"259\" y=\"92.1074\">f</text><line style=\"stroke: #383838; stroke-width: 1.5;\" x1=\"241\" x2=\"281\" y1=\"99.9375\" y2=\"99.9375\"/></a><!--MD5=[96f4274e9e20536e775497830990834d]\n",
       "class E10--><a href=\"psysml:25d96323-353d-45e6-96c8-f6353f2a6c2d\" target=\"_top\" title=\"psysml:25d96323-353d-45e6-96c8-f6353f2a6c2d\" xlink:actuate=\"onRequest\" xlink:href=\"psysml:25d96323-353d-45e6-96c8-f6353f2a6c2d\" xlink:show=\"new\" xlink:title=\"psysml:25d96323-353d-45e6-96c8-f6353f2a6c2d\" xlink:type=\"simple\"><rect fill=\"#FFFFFF\" height=\"45.9375\" id=\"E10\" rx=\"10\" ry=\"10\" style=\"stroke: #383838; stroke-width: 1.5;\" width=\"42\" x=\"163\" y=\"62\"/><text fill=\"#000000\" font-family=\"sans-serif\" font-size=\"12\" font-style=\"italic\" lengthAdjust=\"spacingAndGlyphs\" textLength=\"40\" x=\"164\" y=\"78.1387\">«part»</text><text fill=\"#000000\" font-family=\"sans-serif\" font-size=\"12\" lengthAdjust=\"spacingAndGlyphs\" textLength=\"8\" x=\"180\" y=\"92.1074\">g</text><line style=\"stroke: #383838; stroke-width: 1.5;\" x1=\"164\" x2=\"204\" y1=\"99.9375\" y2=\"99.9375\"/></a><!--MD5=[1dd1bfd58a279cf63c5f349dbc8fc6a1]\n",
       "class E11--><a href=\"psysml:05fe5b10-94f9-4e9a-a85e-b113c36136a8\" target=\"_top\" title=\"psysml:05fe5b10-94f9-4e9a-a85e-b113c36136a8\" xlink:actuate=\"onRequest\" xlink:href=\"psysml:05fe5b10-94f9-4e9a-a85e-b113c36136a8\" xlink:show=\"new\" xlink:title=\"psysml:05fe5b10-94f9-4e9a-a85e-b113c36136a8\" xlink:type=\"simple\"><rect fill=\"#FFFFFF\" height=\"88.3516\" id=\"E11\" style=\"stroke: #383838; stroke-width: 1.5;\" width=\"95\" x=\"32.5\" y=\"41\"/><text fill=\"#000000\" font-family=\"sans-serif\" font-size=\"12\" font-style=\"italic\" lengthAdjust=\"spacingAndGlyphs\" textLength=\"93\" x=\"33.5\" y=\"57.1387\">«attribute def»</text><text fill=\"#000000\" font-family=\"sans-serif\" font-size=\"12\" lengthAdjust=\"spacingAndGlyphs\" textLength=\"8\" x=\"76\" y=\"71.1074\">A</text><line style=\"stroke: #383838; stroke-width: 1.5;\" x1=\"33.5\" x2=\"126.5\" y1=\"78.9375\" y2=\"78.9375\"/><text fill=\"#000000\" font-family=\"sans-serif\" font-size=\"11\" lengthAdjust=\"spacingAndGlyphs\" textLength=\"51\" x=\"38.5\" y=\"109.9526\">i: Integer</text><text fill=\"#000000\" font-family=\"sans-serif\" font-size=\"11\" lengthAdjust=\"spacingAndGlyphs\" textLength=\"21\" x=\"38.5\" y=\"122.7573\">x: A</text><line style=\"stroke: #383838; stroke-width: 1.0;\" x1=\"33.5\" x2=\"52.5\" y1=\"93.3398\" y2=\"93.3398\"/><text fill=\"#000000\" font-family=\"sans-serif\" font-size=\"11\" lengthAdjust=\"spacingAndGlyphs\" textLength=\"55\" x=\"52.5\" y=\"96.6479\">attributes</text><line style=\"stroke: #383838; stroke-width: 1.0;\" x1=\"107.5\" x2=\"126.5\" y1=\"93.3398\" y2=\"93.3398\"/></a><!--MD5=[15ebcb19ae302d9b601edb458606d402]\n",
       "link E5 to E2--><a href=\"psysml:b71e192f-5f45-432d-9454-4642818dbb88\" target=\"_top\" title=\"psysml:b71e192f-5f45-432d-9454-4642818dbb88\" xlink:actuate=\"onRequest\" xlink:href=\"psysml:b71e192f-5f45-432d-9454-4642818dbb88\" xlink:show=\"new\" xlink:title=\"psysml:b71e192f-5f45-432d-9454-4642818dbb88\" xlink:type=\"simple\"><path d=\"M555.5,108.29 C555.5,108.29 555.5,168.85 555.5,168.85 \" fill=\"none\" id=\"E5-&gt;E2\" style=\"stroke: #383838; stroke-width: 1.0;\"/><polygon fill=\"#FFFFFF\" points=\"555.5,188.85,548.5,169.85,562.5,169.85,555.5,188.85\" style=\"stroke: #383838; stroke-width: 1.0;\"/><ellipse cx=\"550.5\" cy=\"164.15\" fill=\"#383838\" rx=\"2\" ry=\"2\" style=\"stroke: #383838; stroke-width: 1.0;\"/><ellipse cx=\"560.5\" cy=\"164.15\" fill=\"#383838\" rx=\"2\" ry=\"2\" style=\"stroke: #383838; stroke-width: 1.0;\"/></a><!--MD5=[2351f337d6de0f557b50152ba70847b5]\n",
       "link E6 to E2--><a href=\"psysml:173d30e4-d568-4354-a9e9-bb0668964c70\" target=\"_top\" title=\"psysml:173d30e4-d568-4354-a9e9-bb0668964c70\" xlink:actuate=\"onRequest\" xlink:href=\"psysml:173d30e4-d568-4354-a9e9-bb0668964c70\" xlink:show=\"new\" xlink:title=\"psysml:173d30e4-d568-4354-a9e9-bb0668964c70\" xlink:type=\"simple\"><path d=\"M505,108.29 C505,108.29 505,168.85 505,168.85 \" fill=\"none\" id=\"E6-&gt;E2\" style=\"stroke: #383838; stroke-width: 1.0;\"/><polygon fill=\"#FFFFFF\" points=\"505,188.85,498,169.85,512,169.85,505,188.85\" style=\"stroke: #383838; stroke-width: 1.0;\"/><ellipse cx=\"500\" cy=\"164.15\" fill=\"#383838\" rx=\"2\" ry=\"2\" style=\"stroke: #383838; stroke-width: 1.0;\"/><ellipse cx=\"510\" cy=\"164.15\" fill=\"#383838\" rx=\"2\" ry=\"2\" style=\"stroke: #383838; stroke-width: 1.0;\"/></a><!--MD5=[f26f7e5efbb343ca6dcb0798971323cc]\n",
       "@startuml\r\n",
       "skinparam linetype ortho\r\n",
       "skinparam monochrome true\r\n",
       "skinparam classbackgroundcolor white\r\n",
       "skinparam shadowing false\r\n",
       "skinparam wrapWidth 300\r\n",
       "hide circle\r\n",
       "\r\n",
       "package \"MultiplicityTest\" as E1  [[psysml:c0f24ad0-fe84-484c-92fb-1b0594d1e479 ]]  {\r\n",
       "comp def \"P\" as E2  <<(T,blue) part def>> [[psysml:987e5bc7-b02a-416d-86c6-8545bfa90ef5 ]] {\r\n",
       "}\r\n",
       "comp usage \"n: Integer\" as E3  <<(T,blue) attribute>> [[psysml:7c23d281-2047-4d33-b5ff-31ab75cdc741 ]] {\r\n",
       "}\r\n",
       "comp usage \"a\" as E4  <<(T,blue) part>> [[psysml:dbbeb80c-41d4-4e5a-ae6b-125fea141b81 ]] {\r\n",
       "}\r\n",
       "comp usage \"b: P\" as E5  <<(T,blue) part>> [[psysml:1044b725-5886-488e-a280-d65b06b2678d ]] {\r\n",
       "}\r\n",
       "comp usage \"c: P\" as E6  <<(T,blue) part>> [[psysml:7163cac6-f89e-4c84-b72c-82ccdb232dd2 ]] {\r\n",
       "}\r\n",
       "comp usage \"d\" as E7  <<(T,blue) part>> [[psysml:79f72fcf-9cc7-42c6-886c-0c2f21f0aaa0 ]] {\r\n",
       "}\r\n",
       "comp usage \"e\" as E8  <<(T,blue) part>> [[psysml:7ad65eee-258f-4156-b8ec-39b80665cdbc ]] {\r\n",
       "}\r\n",
       "comp usage \"f\" as E9  <<(T,blue) part>> [[psysml:20b1d46d-edcb-44c0-8591-3bffd604b97a ]] {\r\n",
       "}\r\n",
       "comp usage \"g\" as E10  <<(T,blue) part>> [[psysml:25d96323-353d-45e6-96c8-f6353f2a6c2d ]] {\r\n",
       "}\r\n",
       "comp def \"A\" as E11  <<(T,blue) attribute def>> [[psysml:05fe5b10-94f9-4e9a-a85e-b113c36136a8 ]] {\r\n",
       "- - attributes - -\r\n",
       "i: Integer\r\n",
       "x: A\r\n",
       "}\r\n",
       "}\r\n",
       "E5 - -:|> E2 [[psysml:b71e192f-5f45-432d-9454-4642818dbb88 ]] \r\n",
       "E6 - -:|> E2 [[psysml:173d30e4-d568-4354-a9e9-bb0668964c70 ]] \r\n",
       "@enduml\r\n",
       "\n",
       "PlantUML version 1.2020.13(Sat Jun 13 12:26:38 UTC 2020)\n",
       "(EPL source distribution)\n",
       "Java Runtime: OpenJDK Runtime Environment\n",
       "JVM: OpenJDK 64-Bit Server VM\n",
       "Default Encoding: UTF-8\n",
       "Language: en\n",
       "Country: null\n",
       "--></g></svg>"
      ]
     },
     "execution_count": 57,
     "metadata": {},
     "output_type": "execute_result"
    }
   ],
   "source": [
    "%viz --style=\"ORTHOLINE\" --view=\"MIXED\" \"MultiplicityTest\""
   ]
  }
 ],
 "metadata": {
  "kernelspec": {
   "display_name": "SysML",
   "language": "sysml",
   "name": "sysml"
  },
  "language_info": {
   "codemirror_mode": "sysml",
   "file_extension": ".sysml",
   "mimetype": "text/x-sysml",
   "name": "SysML",
   "pygments_lexer": "java",
   "version": "1.0.0"
  }
 },
 "nbformat": 4,
 "nbformat_minor": 5
}
