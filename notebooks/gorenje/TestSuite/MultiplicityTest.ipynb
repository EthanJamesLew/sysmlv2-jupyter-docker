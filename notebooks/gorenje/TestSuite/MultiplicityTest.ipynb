{
 "cells": [
  {
   "cell_type": "markdown",
   "id": "c1f46f8d",
   "metadata": {},
   "source": [
    "# SysML v2 Test Suite\n",
    "\n",
    "This can notebook can be cleared using menu `Edit --> Clear All Outputs` and then all cells can be\n",
    "run using menu `Run --> Run All Cells`.\n",
    "\n",
    "**WARNING**: This file is generated, all modifications here will be ignored.\n"
   ]
  },
  {
   "cell_type": "markdown",
   "id": "a3562159",
   "metadata": {},
   "source": [
    "## File: ../../sysml/src/examples/Simple Tests/MultiplicityTest.sysml"
   ]
  },
  {
   "cell_type": "code",
   "execution_count": 1,
   "id": "868ba528",
   "metadata": {
    "execution": {
     "iopub.execute_input": "2021-06-30T09:24:28.250221Z",
     "iopub.status.busy": "2021-06-30T09:24:28.249684Z",
     "iopub.status.idle": "2021-06-30T09:24:28.670956Z",
     "shell.execute_reply": "2021-06-30T09:24:28.670554Z"
    }
   },
   "outputs": [
    {
     "data": {
      "text/plain": [
       "Package MultiplicityTest (15cc6742-c807-416b-b609-dc544b228ead)\n"
      ]
     },
     "execution_count": 1,
     "metadata": {},
     "output_type": "execute_result"
    }
   ],
   "source": [
    "package MultiplicityTest {\n",
    "\t\n",
    "\tpart def P;\n",
    "\tattribute n : ScalarValues::Integer = 5;\n",
    "\t\n",
    "\tpart a[1];\n",
    "\tpart b[0..2] : P;\n",
    "\tpart c : P[2..*];\n",
    "\tpart d[*];\n",
    "\t\n",
    "\tpart e[n];\n",
    "\tpart f[n..*];\n",
    "\tpart g[1..n];\n",
    "\n",
    "\tattribute def A {\n",
    "\t\tattribute i :ScalarValues::Integer;\n",
    "\t\tattribute x : A[i];\n",
    "\t}\n",
    "}"
   ]
  },
  {
   "cell_type": "code",
   "execution_count": 2,
   "id": "c8c0525f",
   "metadata": {
    "execution": {
     "iopub.execute_input": "2021-06-30T09:24:28.722841Z",
     "iopub.status.busy": "2021-06-30T09:24:28.722342Z",
     "iopub.status.idle": "2021-06-30T09:24:29.507498Z",
     "shell.execute_reply": "2021-06-30T09:24:29.507894Z"
    }
   },
   "outputs": [
    {
     "data": {
      "image/svg+xml": [
       "<?xml version=\"1.0\" encoding=\"UTF-8\" standalone=\"no\"?><svg xmlns=\"http://www.w3.org/2000/svg\" xmlns:xlink=\"http://www.w3.org/1999/xlink\" contentScriptType=\"application/ecmascript\" contentStyleType=\"text/css\" height=\"263px\" preserveAspectRatio=\"none\" style=\"width:812px;height:263px;\" version=\"1.1\" viewBox=\"0 0 812 263\" width=\"812px\" zoomAndPan=\"magnify\"><defs/><g><!--MD5=[fbc87193dbaf4d95561dea2c320d4a47]\n",
       "cluster E1--><a href=\"psysml:d21f1d33-c8d8-4d7e-915c-a1dc21839292\" target=\"_top\" title=\"psysml:d21f1d33-c8d8-4d7e-915c-a1dc21839292\" xlink:actuate=\"onRequest\" xlink:href=\"psysml:d21f1d33-c8d8-4d7e-915c-a1dc21839292\" xlink:show=\"new\" xlink:title=\"psysml:d21f1d33-c8d8-4d7e-915c-a1dc21839292\" xlink:type=\"simple\"><polygon fill=\"#FFFFFF\" points=\"16,6,140,6,147,28.2969,790,28.2969,790,251,16,251,16,6\" style=\"stroke: #000000; stroke-width: 1.5;\"/><line style=\"stroke: #000000; stroke-width: 1.5;\" x1=\"16\" x2=\"147\" y1=\"28.2969\" y2=\"28.2969\"/><text fill=\"#000000\" font-family=\"sans-serif\" font-size=\"14\" font-weight=\"bold\" lengthAdjust=\"spacingAndGlyphs\" textLength=\"118\" x=\"20\" y=\"20.9951\">MultiplicityTest</text></a><!--MD5=[b4997ac47864f28c2f74865a473b2911]\n",
       "class E2--><a href=\"psysml:cfcc0fdc-4985-4a7c-8ed0-df1ec6a07f40\" target=\"_top\" title=\"psysml:cfcc0fdc-4985-4a7c-8ed0-df1ec6a07f40\" xlink:actuate=\"onRequest\" xlink:href=\"psysml:cfcc0fdc-4985-4a7c-8ed0-df1ec6a07f40\" xlink:show=\"new\" xlink:title=\"psysml:cfcc0fdc-4985-4a7c-8ed0-df1ec6a07f40\" xlink:type=\"simple\"><rect fill=\"#FFFFFF\" height=\"45.9375\" id=\"E2\" style=\"stroke: #383838; stroke-width: 1.5;\" width=\"66\" x=\"497\" y=\"189\"/><text fill=\"#000000\" font-family=\"sans-serif\" font-size=\"12\" font-style=\"italic\" lengthAdjust=\"spacingAndGlyphs\" textLength=\"64\" x=\"498\" y=\"205.1387\">«part def»</text><text fill=\"#000000\" font-family=\"sans-serif\" font-size=\"12\" lengthAdjust=\"spacingAndGlyphs\" textLength=\"8\" x=\"526\" y=\"219.1074\">P</text><line style=\"stroke: #383838; stroke-width: 1.5;\" x1=\"498\" x2=\"562\" y1=\"226.9375\" y2=\"226.9375\"/></a><!--MD5=[09b614a08d8cba4a07c9adeb5e0fee81]\n",
       "class E3--><a href=\"psysml:6504cd03-3352-435e-8e5a-44d60f096993\" target=\"_top\" title=\"psysml:6504cd03-3352-435e-8e5a-44d60f096993\" xlink:actuate=\"onRequest\" xlink:href=\"psysml:6504cd03-3352-435e-8e5a-44d60f096993\" xlink:show=\"new\" xlink:title=\"psysml:6504cd03-3352-435e-8e5a-44d60f096993\" xlink:type=\"simple\"><rect fill=\"#FFFFFF\" height=\"45.9375\" id=\"E3\" rx=\"10\" ry=\"10\" style=\"stroke: #383838; stroke-width: 1.5;\" width=\"71\" x=\"702.5\" y=\"62\"/><text fill=\"#000000\" font-family=\"sans-serif\" font-size=\"12\" font-style=\"italic\" lengthAdjust=\"spacingAndGlyphs\" textLength=\"69\" x=\"703.5\" y=\"78.1387\">«attribute»</text><text fill=\"#000000\" font-family=\"sans-serif\" font-size=\"12\" lengthAdjust=\"spacingAndGlyphs\" textLength=\"61\" x=\"707.5\" y=\"92.1074\">n: Integer</text><line style=\"stroke: #383838; stroke-width: 1.5;\" x1=\"703.5\" x2=\"772.5\" y1=\"99.9375\" y2=\"99.9375\"/></a><!--MD5=[ebbe1d658d1005bcc118a6aa81145e00]\n",
       "class E4--><a href=\"psysml:69df1372-c4de-42e4-b97b-1df20a9e4637\" target=\"_top\" title=\"psysml:69df1372-c4de-42e4-b97b-1df20a9e4637\" xlink:actuate=\"onRequest\" xlink:href=\"psysml:69df1372-c4de-42e4-b97b-1df20a9e4637\" xlink:show=\"new\" xlink:title=\"psysml:69df1372-c4de-42e4-b97b-1df20a9e4637\" xlink:type=\"simple\"><rect fill=\"#FFFFFF\" height=\"45.9375\" id=\"E4\" rx=\"10\" ry=\"10\" style=\"stroke: #383838; stroke-width: 1.5;\" width=\"42\" x=\"625\" y=\"62\"/><text fill=\"#000000\" font-family=\"sans-serif\" font-size=\"12\" font-style=\"italic\" lengthAdjust=\"spacingAndGlyphs\" textLength=\"40\" x=\"626\" y=\"78.1387\">«part»</text><text fill=\"#000000\" font-family=\"sans-serif\" font-size=\"12\" lengthAdjust=\"spacingAndGlyphs\" textLength=\"8\" x=\"642\" y=\"92.1074\">a</text><line style=\"stroke: #383838; stroke-width: 1.5;\" x1=\"626\" x2=\"666\" y1=\"99.9375\" y2=\"99.9375\"/></a><!--MD5=[270fce915f116d4de14055a7c1d9a0f3]\n",
       "class E5--><a href=\"psysml:ce135ed3-5db8-4159-aade-37d21406abf2\" target=\"_top\" title=\"psysml:ce135ed3-5db8-4159-aade-37d21406abf2\" xlink:actuate=\"onRequest\" xlink:href=\"psysml:ce135ed3-5db8-4159-aade-37d21406abf2\" xlink:show=\"new\" xlink:title=\"psysml:ce135ed3-5db8-4159-aade-37d21406abf2\" xlink:type=\"simple\"><rect fill=\"#FFFFFF\" height=\"45.9375\" id=\"E5\" rx=\"10\" ry=\"10\" style=\"stroke: #383838; stroke-width: 1.5;\" width=\"42\" x=\"548\" y=\"62\"/><text fill=\"#000000\" font-family=\"sans-serif\" font-size=\"12\" font-style=\"italic\" lengthAdjust=\"spacingAndGlyphs\" textLength=\"40\" x=\"549\" y=\"78.1387\">«part»</text><text fill=\"#000000\" font-family=\"sans-serif\" font-size=\"12\" lengthAdjust=\"spacingAndGlyphs\" textLength=\"24\" x=\"557\" y=\"92.1074\">b: P</text><line style=\"stroke: #383838; stroke-width: 1.5;\" x1=\"549\" x2=\"589\" y1=\"99.9375\" y2=\"99.9375\"/></a><!--MD5=[60a26617385b1d2d0262a64233df1f8d]\n",
       "class E6--><a href=\"psysml:7c20260d-33cb-4904-8feb-6f2059c0b9de\" target=\"_top\" title=\"psysml:7c20260d-33cb-4904-8feb-6f2059c0b9de\" xlink:actuate=\"onRequest\" xlink:href=\"psysml:7c20260d-33cb-4904-8feb-6f2059c0b9de\" xlink:show=\"new\" xlink:title=\"psysml:7c20260d-33cb-4904-8feb-6f2059c0b9de\" xlink:type=\"simple\"><rect fill=\"#FFFFFF\" height=\"45.9375\" id=\"E6\" rx=\"10\" ry=\"10\" style=\"stroke: #383838; stroke-width: 1.5;\" width=\"42\" x=\"471\" y=\"62\"/><text fill=\"#000000\" font-family=\"sans-serif\" font-size=\"12\" font-style=\"italic\" lengthAdjust=\"spacingAndGlyphs\" textLength=\"40\" x=\"472\" y=\"78.1387\">«part»</text><text fill=\"#000000\" font-family=\"sans-serif\" font-size=\"12\" lengthAdjust=\"spacingAndGlyphs\" textLength=\"23\" x=\"480.5\" y=\"92.1074\">c: P</text><line style=\"stroke: #383838; stroke-width: 1.5;\" x1=\"472\" x2=\"512\" y1=\"99.9375\" y2=\"99.9375\"/></a><!--MD5=[2156ba9850f5573cc1fc38a6a4b2f02b]\n",
       "class E7--><a href=\"psysml:a788bf26-d852-4daf-8a66-fd926f14abf3\" target=\"_top\" title=\"psysml:a788bf26-d852-4daf-8a66-fd926f14abf3\" xlink:actuate=\"onRequest\" xlink:href=\"psysml:a788bf26-d852-4daf-8a66-fd926f14abf3\" xlink:show=\"new\" xlink:title=\"psysml:a788bf26-d852-4daf-8a66-fd926f14abf3\" xlink:type=\"simple\"><rect fill=\"#FFFFFF\" height=\"45.9375\" id=\"E7\" rx=\"10\" ry=\"10\" style=\"stroke: #383838; stroke-width: 1.5;\" width=\"42\" x=\"394\" y=\"62\"/><text fill=\"#000000\" font-family=\"sans-serif\" font-size=\"12\" font-style=\"italic\" lengthAdjust=\"spacingAndGlyphs\" textLength=\"40\" x=\"395\" y=\"78.1387\">«part»</text><text fill=\"#000000\" font-family=\"sans-serif\" font-size=\"12\" lengthAdjust=\"spacingAndGlyphs\" textLength=\"8\" x=\"411\" y=\"92.1074\">d</text><line style=\"stroke: #383838; stroke-width: 1.5;\" x1=\"395\" x2=\"435\" y1=\"99.9375\" y2=\"99.9375\"/></a><!--MD5=[b9389687b975829384b498ac4b7476b2]\n",
       "class E8--><a href=\"psysml:8ca44daa-798d-42ea-8082-fded64fdb257\" target=\"_top\" title=\"psysml:8ca44daa-798d-42ea-8082-fded64fdb257\" xlink:actuate=\"onRequest\" xlink:href=\"psysml:8ca44daa-798d-42ea-8082-fded64fdb257\" xlink:show=\"new\" xlink:title=\"psysml:8ca44daa-798d-42ea-8082-fded64fdb257\" xlink:type=\"simple\"><rect fill=\"#FFFFFF\" height=\"45.9375\" id=\"E8\" rx=\"10\" ry=\"10\" style=\"stroke: #383838; stroke-width: 1.5;\" width=\"42\" x=\"317\" y=\"62\"/><text fill=\"#000000\" font-family=\"sans-serif\" font-size=\"12\" font-style=\"italic\" lengthAdjust=\"spacingAndGlyphs\" textLength=\"40\" x=\"318\" y=\"78.1387\">«part»</text><text fill=\"#000000\" font-family=\"sans-serif\" font-size=\"12\" lengthAdjust=\"spacingAndGlyphs\" textLength=\"8\" x=\"334\" y=\"92.1074\">e</text><line style=\"stroke: #383838; stroke-width: 1.5;\" x1=\"318\" x2=\"358\" y1=\"99.9375\" y2=\"99.9375\"/></a><!--MD5=[fd4143e9d270a159db93a4ea2a975926]\n",
       "class E9--><a href=\"psysml:94368454-840d-4091-abdb-e19ae5322c54\" target=\"_top\" title=\"psysml:94368454-840d-4091-abdb-e19ae5322c54\" xlink:actuate=\"onRequest\" xlink:href=\"psysml:94368454-840d-4091-abdb-e19ae5322c54\" xlink:show=\"new\" xlink:title=\"psysml:94368454-840d-4091-abdb-e19ae5322c54\" xlink:type=\"simple\"><rect fill=\"#FFFFFF\" height=\"45.9375\" id=\"E9\" rx=\"10\" ry=\"10\" style=\"stroke: #383838; stroke-width: 1.5;\" width=\"42\" x=\"240\" y=\"62\"/><text fill=\"#000000\" font-family=\"sans-serif\" font-size=\"12\" font-style=\"italic\" lengthAdjust=\"spacingAndGlyphs\" textLength=\"40\" x=\"241\" y=\"78.1387\">«part»</text><text fill=\"#000000\" font-family=\"sans-serif\" font-size=\"12\" lengthAdjust=\"spacingAndGlyphs\" textLength=\"4\" x=\"259\" y=\"92.1074\">f</text><line style=\"stroke: #383838; stroke-width: 1.5;\" x1=\"241\" x2=\"281\" y1=\"99.9375\" y2=\"99.9375\"/></a><!--MD5=[96f4274e9e20536e775497830990834d]\n",
       "class E10--><a href=\"psysml:8f8b3cba-ab00-4478-b69f-246a2e072be5\" target=\"_top\" title=\"psysml:8f8b3cba-ab00-4478-b69f-246a2e072be5\" xlink:actuate=\"onRequest\" xlink:href=\"psysml:8f8b3cba-ab00-4478-b69f-246a2e072be5\" xlink:show=\"new\" xlink:title=\"psysml:8f8b3cba-ab00-4478-b69f-246a2e072be5\" xlink:type=\"simple\"><rect fill=\"#FFFFFF\" height=\"45.9375\" id=\"E10\" rx=\"10\" ry=\"10\" style=\"stroke: #383838; stroke-width: 1.5;\" width=\"42\" x=\"163\" y=\"62\"/><text fill=\"#000000\" font-family=\"sans-serif\" font-size=\"12\" font-style=\"italic\" lengthAdjust=\"spacingAndGlyphs\" textLength=\"40\" x=\"164\" y=\"78.1387\">«part»</text><text fill=\"#000000\" font-family=\"sans-serif\" font-size=\"12\" lengthAdjust=\"spacingAndGlyphs\" textLength=\"8\" x=\"180\" y=\"92.1074\">g</text><line style=\"stroke: #383838; stroke-width: 1.5;\" x1=\"164\" x2=\"204\" y1=\"99.9375\" y2=\"99.9375\"/></a><!--MD5=[1dd1bfd58a279cf63c5f349dbc8fc6a1]\n",
       "class E11--><a href=\"psysml:2c45c451-c8b5-4e48-8592-55fa30d535c5\" target=\"_top\" title=\"psysml:2c45c451-c8b5-4e48-8592-55fa30d535c5\" xlink:actuate=\"onRequest\" xlink:href=\"psysml:2c45c451-c8b5-4e48-8592-55fa30d535c5\" xlink:show=\"new\" xlink:title=\"psysml:2c45c451-c8b5-4e48-8592-55fa30d535c5\" xlink:type=\"simple\"><rect fill=\"#FFFFFF\" height=\"88.3516\" id=\"E11\" style=\"stroke: #383838; stroke-width: 1.5;\" width=\"95\" x=\"32.5\" y=\"41\"/><text fill=\"#000000\" font-family=\"sans-serif\" font-size=\"12\" font-style=\"italic\" lengthAdjust=\"spacingAndGlyphs\" textLength=\"93\" x=\"33.5\" y=\"57.1387\">«attribute def»</text><text fill=\"#000000\" font-family=\"sans-serif\" font-size=\"12\" lengthAdjust=\"spacingAndGlyphs\" textLength=\"8\" x=\"76\" y=\"71.1074\">A</text><line style=\"stroke: #383838; stroke-width: 1.5;\" x1=\"33.5\" x2=\"126.5\" y1=\"78.9375\" y2=\"78.9375\"/><text fill=\"#000000\" font-family=\"sans-serif\" font-size=\"11\" lengthAdjust=\"spacingAndGlyphs\" textLength=\"51\" x=\"38.5\" y=\"109.9526\">i: Integer</text><text fill=\"#000000\" font-family=\"sans-serif\" font-size=\"11\" lengthAdjust=\"spacingAndGlyphs\" textLength=\"21\" x=\"38.5\" y=\"122.7573\">x: A</text><line style=\"stroke: #383838; stroke-width: 1.0;\" x1=\"33.5\" x2=\"52.5\" y1=\"93.3398\" y2=\"93.3398\"/><text fill=\"#000000\" font-family=\"sans-serif\" font-size=\"11\" lengthAdjust=\"spacingAndGlyphs\" textLength=\"55\" x=\"52.5\" y=\"96.6479\">attributes</text><line style=\"stroke: #383838; stroke-width: 1.0;\" x1=\"107.5\" x2=\"126.5\" y1=\"93.3398\" y2=\"93.3398\"/></a><!--MD5=[15ebcb19ae302d9b601edb458606d402]\n",
       "link E5 to E2--><a href=\"psysml:99c2055f-0301-4891-b65d-9e517e6365b1\" target=\"_top\" title=\"psysml:99c2055f-0301-4891-b65d-9e517e6365b1\" xlink:actuate=\"onRequest\" xlink:href=\"psysml:99c2055f-0301-4891-b65d-9e517e6365b1\" xlink:show=\"new\" xlink:title=\"psysml:99c2055f-0301-4891-b65d-9e517e6365b1\" xlink:type=\"simple\"><path d=\"M562.12,108.06 C556.83,125 549.38,148.89 542.98,169.39 \" fill=\"none\" id=\"E5-&gt;E2\" style=\"stroke: #383838; stroke-width: 1.0;\"/><polygon fill=\"#FFFFFF\" points=\"536.95,188.74,535.929,168.5173,549.2931,172.6886,536.95,188.74\" style=\"stroke: #383838; stroke-width: 1.0;\"/><ellipse cx=\"539.5364\" cy=\"163.6721\" fill=\"#383838\" rx=\"2\" ry=\"2\" style=\"stroke: #383838; stroke-width: 1.0;\"/><ellipse cx=\"549.0823\" cy=\"166.6516\" fill=\"#383838\" rx=\"2\" ry=\"2\" style=\"stroke: #383838; stroke-width: 1.0;\"/></a><!--MD5=[2351f337d6de0f557b50152ba70847b5]\n",
       "link E6 to E2--><a href=\"psysml:035f6493-28ba-4968-b761-0ab46a395f55\" target=\"_top\" title=\"psysml:035f6493-28ba-4968-b761-0ab46a395f55\" xlink:actuate=\"onRequest\" xlink:href=\"psysml:035f6493-28ba-4968-b761-0ab46a395f55\" xlink:show=\"new\" xlink:title=\"psysml:035f6493-28ba-4968-b761-0ab46a395f55\" xlink:type=\"simple\"><path d=\"M498.71,108.06 C503.86,125 511.12,148.89 517.35,169.39 \" fill=\"none\" id=\"E6-&gt;E2\" style=\"stroke: #383838; stroke-width: 1.0;\"/><polygon fill=\"#FFFFFF\" points=\"523.23,188.74,511.007,172.597,524.4019,168.5255,523.23,188.74\" style=\"stroke: #383838; stroke-width: 1.0;\"/><ellipse cx=\"511.2628\" cy=\"166.5617\" fill=\"#383838\" rx=\"2\" ry=\"2\" style=\"stroke: #383838; stroke-width: 1.0;\"/><ellipse cx=\"520.8306\" cy=\"163.6535\" fill=\"#383838\" rx=\"2\" ry=\"2\" style=\"stroke: #383838; stroke-width: 1.0;\"/></a><!--MD5=[c501701a7da642442a7783a179883a46]\n",
       "@startuml\r\n",
       " skinparam monochrome true\r\n",
       "skinparam classbackgroundcolor white\r\n",
       "skinparam shadowing false\r\n",
       "skinparam wrapWidth 300\r\n",
       "hide circle\r\n",
       "\r\n",
       "package \"MultiplicityTest\" as E1  [[psysml:d21f1d33-c8d8-4d7e-915c-a1dc21839292 ]]  {\r\n",
       "comp def \"P\" as E2  <<(T,blue) part def>> [[psysml:cfcc0fdc-4985-4a7c-8ed0-df1ec6a07f40 ]] {\r\n",
       "}\r\n",
       "comp usage \"n: Integer\" as E3  <<(T,blue) attribute>> [[psysml:6504cd03-3352-435e-8e5a-44d60f096993 ]] {\r\n",
       "}\r\n",
       "comp usage \"a\" as E4  <<(T,blue) part>> [[psysml:69df1372-c4de-42e4-b97b-1df20a9e4637 ]] {\r\n",
       "}\r\n",
       "comp usage \"b: P\" as E5  <<(T,blue) part>> [[psysml:ce135ed3-5db8-4159-aade-37d21406abf2 ]] {\r\n",
       "}\r\n",
       "comp usage \"c: P\" as E6  <<(T,blue) part>> [[psysml:7c20260d-33cb-4904-8feb-6f2059c0b9de ]] {\r\n",
       "}\r\n",
       "comp usage \"d\" as E7  <<(T,blue) part>> [[psysml:a788bf26-d852-4daf-8a66-fd926f14abf3 ]] {\r\n",
       "}\r\n",
       "comp usage \"e\" as E8  <<(T,blue) part>> [[psysml:8ca44daa-798d-42ea-8082-fded64fdb257 ]] {\r\n",
       "}\r\n",
       "comp usage \"f\" as E9  <<(T,blue) part>> [[psysml:94368454-840d-4091-abdb-e19ae5322c54 ]] {\r\n",
       "}\r\n",
       "comp usage \"g\" as E10  <<(T,blue) part>> [[psysml:8f8b3cba-ab00-4478-b69f-246a2e072be5 ]] {\r\n",
       "}\r\n",
       "comp def \"A\" as E11  <<(T,blue) attribute def>> [[psysml:2c45c451-c8b5-4e48-8592-55fa30d535c5 ]] {\r\n",
       "- - attributes - -\r\n",
       "i: Integer\r\n",
       "x: A\r\n",
       "}\r\n",
       "E5 - -:|> E2 [[psysml:99c2055f-0301-4891-b65d-9e517e6365b1 ]] \r\n",
       "E6 - -:|> E2 [[psysml:035f6493-28ba-4968-b761-0ab46a395f55 ]] \r\n",
       "}\r\n",
       "@enduml\r\n",
       "\n",
       "PlantUML version 1.2020.13(Sat Jun 13 12:26:38 UTC 2020)\n",
       "(EPL source distribution)\n",
       "Java Runtime: OpenJDK Runtime Environment\n",
       "JVM: OpenJDK 64-Bit Server VM\n",
       "Default Encoding: UTF-8\n",
       "Language: en\n",
       "Country: null\n",
       "--></g></svg>"
      ]
     },
     "execution_count": 2,
     "metadata": {},
     "output_type": "execute_result"
    }
   ],
   "source": [
    "%viz --style=\"COMPTREE\" --view=\"Default\" \"MultiplicityTest\""
   ]
  },
  {
   "cell_type": "code",
   "execution_count": 3,
   "id": "1eeab5a4",
   "metadata": {
    "execution": {
     "iopub.execute_input": "2021-06-30T09:24:29.559408Z",
     "iopub.status.busy": "2021-06-30T09:24:29.558982Z",
     "iopub.status.idle": "2021-06-30T09:24:29.682068Z",
     "shell.execute_reply": "2021-06-30T09:24:29.681468Z"
    }
   },
   "outputs": [
    {
     "data": {
      "image/svg+xml": [
       "<?xml version=\"1.0\" encoding=\"UTF-8\" standalone=\"no\"?><svg xmlns=\"http://www.w3.org/2000/svg\" xmlns:xlink=\"http://www.w3.org/1999/xlink\" contentScriptType=\"application/ecmascript\" contentStyleType=\"text/css\" height=\"263px\" preserveAspectRatio=\"none\" style=\"width:812px;height:263px;\" version=\"1.1\" viewBox=\"0 0 812 263\" width=\"812px\" zoomAndPan=\"magnify\"><defs/><g><!--MD5=[fbc87193dbaf4d95561dea2c320d4a47]\n",
       "cluster E1--><a href=\"psysml:d21f1d33-c8d8-4d7e-915c-a1dc21839292\" target=\"_top\" title=\"psysml:d21f1d33-c8d8-4d7e-915c-a1dc21839292\" xlink:actuate=\"onRequest\" xlink:href=\"psysml:d21f1d33-c8d8-4d7e-915c-a1dc21839292\" xlink:show=\"new\" xlink:title=\"psysml:d21f1d33-c8d8-4d7e-915c-a1dc21839292\" xlink:type=\"simple\"><polygon fill=\"#FFFFFF\" points=\"16,6,140,6,147,28.2969,790,28.2969,790,251,16,251,16,6\" style=\"stroke: #000000; stroke-width: 1.5;\"/><line style=\"stroke: #000000; stroke-width: 1.5;\" x1=\"16\" x2=\"147\" y1=\"28.2969\" y2=\"28.2969\"/><text fill=\"#000000\" font-family=\"sans-serif\" font-size=\"14\" font-weight=\"bold\" lengthAdjust=\"spacingAndGlyphs\" textLength=\"118\" x=\"20\" y=\"20.9951\">MultiplicityTest</text></a><!--MD5=[b4997ac47864f28c2f74865a473b2911]\n",
       "class E2--><a href=\"psysml:cfcc0fdc-4985-4a7c-8ed0-df1ec6a07f40\" target=\"_top\" title=\"psysml:cfcc0fdc-4985-4a7c-8ed0-df1ec6a07f40\" xlink:actuate=\"onRequest\" xlink:href=\"psysml:cfcc0fdc-4985-4a7c-8ed0-df1ec6a07f40\" xlink:show=\"new\" xlink:title=\"psysml:cfcc0fdc-4985-4a7c-8ed0-df1ec6a07f40\" xlink:type=\"simple\"><rect fill=\"#FFFFFF\" height=\"45.9375\" id=\"E2\" style=\"stroke: #383838; stroke-width: 1.5;\" width=\"66\" x=\"497\" y=\"189\"/><text fill=\"#000000\" font-family=\"sans-serif\" font-size=\"12\" font-style=\"italic\" lengthAdjust=\"spacingAndGlyphs\" textLength=\"64\" x=\"498\" y=\"205.1387\">«part def»</text><text fill=\"#000000\" font-family=\"sans-serif\" font-size=\"12\" lengthAdjust=\"spacingAndGlyphs\" textLength=\"8\" x=\"526\" y=\"219.1074\">P</text><line style=\"stroke: #383838; stroke-width: 1.5;\" x1=\"498\" x2=\"562\" y1=\"226.9375\" y2=\"226.9375\"/></a><!--MD5=[09b614a08d8cba4a07c9adeb5e0fee81]\n",
       "class E3--><a href=\"psysml:6504cd03-3352-435e-8e5a-44d60f096993\" target=\"_top\" title=\"psysml:6504cd03-3352-435e-8e5a-44d60f096993\" xlink:actuate=\"onRequest\" xlink:href=\"psysml:6504cd03-3352-435e-8e5a-44d60f096993\" xlink:show=\"new\" xlink:title=\"psysml:6504cd03-3352-435e-8e5a-44d60f096993\" xlink:type=\"simple\"><rect fill=\"#FFFFFF\" height=\"45.9375\" id=\"E3\" rx=\"10\" ry=\"10\" style=\"stroke: #383838; stroke-width: 1.5;\" width=\"71\" x=\"702.5\" y=\"62\"/><text fill=\"#000000\" font-family=\"sans-serif\" font-size=\"12\" font-style=\"italic\" lengthAdjust=\"spacingAndGlyphs\" textLength=\"69\" x=\"703.5\" y=\"78.1387\">«attribute»</text><text fill=\"#000000\" font-family=\"sans-serif\" font-size=\"12\" lengthAdjust=\"spacingAndGlyphs\" textLength=\"61\" x=\"707.5\" y=\"92.1074\">n: Integer</text><line style=\"stroke: #383838; stroke-width: 1.5;\" x1=\"703.5\" x2=\"772.5\" y1=\"99.9375\" y2=\"99.9375\"/></a><!--MD5=[ebbe1d658d1005bcc118a6aa81145e00]\n",
       "class E4--><a href=\"psysml:69df1372-c4de-42e4-b97b-1df20a9e4637\" target=\"_top\" title=\"psysml:69df1372-c4de-42e4-b97b-1df20a9e4637\" xlink:actuate=\"onRequest\" xlink:href=\"psysml:69df1372-c4de-42e4-b97b-1df20a9e4637\" xlink:show=\"new\" xlink:title=\"psysml:69df1372-c4de-42e4-b97b-1df20a9e4637\" xlink:type=\"simple\"><rect fill=\"#FFFFFF\" height=\"45.9375\" id=\"E4\" rx=\"10\" ry=\"10\" style=\"stroke: #383838; stroke-width: 1.5;\" width=\"42\" x=\"625\" y=\"62\"/><text fill=\"#000000\" font-family=\"sans-serif\" font-size=\"12\" font-style=\"italic\" lengthAdjust=\"spacingAndGlyphs\" textLength=\"40\" x=\"626\" y=\"78.1387\">«part»</text><text fill=\"#000000\" font-family=\"sans-serif\" font-size=\"12\" lengthAdjust=\"spacingAndGlyphs\" textLength=\"8\" x=\"642\" y=\"92.1074\">a</text><line style=\"stroke: #383838; stroke-width: 1.5;\" x1=\"626\" x2=\"666\" y1=\"99.9375\" y2=\"99.9375\"/></a><!--MD5=[270fce915f116d4de14055a7c1d9a0f3]\n",
       "class E5--><a href=\"psysml:ce135ed3-5db8-4159-aade-37d21406abf2\" target=\"_top\" title=\"psysml:ce135ed3-5db8-4159-aade-37d21406abf2\" xlink:actuate=\"onRequest\" xlink:href=\"psysml:ce135ed3-5db8-4159-aade-37d21406abf2\" xlink:show=\"new\" xlink:title=\"psysml:ce135ed3-5db8-4159-aade-37d21406abf2\" xlink:type=\"simple\"><rect fill=\"#FFFFFF\" height=\"45.9375\" id=\"E5\" rx=\"10\" ry=\"10\" style=\"stroke: #383838; stroke-width: 1.5;\" width=\"42\" x=\"548\" y=\"62\"/><text fill=\"#000000\" font-family=\"sans-serif\" font-size=\"12\" font-style=\"italic\" lengthAdjust=\"spacingAndGlyphs\" textLength=\"40\" x=\"549\" y=\"78.1387\">«part»</text><text fill=\"#000000\" font-family=\"sans-serif\" font-size=\"12\" lengthAdjust=\"spacingAndGlyphs\" textLength=\"24\" x=\"557\" y=\"92.1074\">b: P</text><line style=\"stroke: #383838; stroke-width: 1.5;\" x1=\"549\" x2=\"589\" y1=\"99.9375\" y2=\"99.9375\"/></a><!--MD5=[60a26617385b1d2d0262a64233df1f8d]\n",
       "class E6--><a href=\"psysml:7c20260d-33cb-4904-8feb-6f2059c0b9de\" target=\"_top\" title=\"psysml:7c20260d-33cb-4904-8feb-6f2059c0b9de\" xlink:actuate=\"onRequest\" xlink:href=\"psysml:7c20260d-33cb-4904-8feb-6f2059c0b9de\" xlink:show=\"new\" xlink:title=\"psysml:7c20260d-33cb-4904-8feb-6f2059c0b9de\" xlink:type=\"simple\"><rect fill=\"#FFFFFF\" height=\"45.9375\" id=\"E6\" rx=\"10\" ry=\"10\" style=\"stroke: #383838; stroke-width: 1.5;\" width=\"42\" x=\"471\" y=\"62\"/><text fill=\"#000000\" font-family=\"sans-serif\" font-size=\"12\" font-style=\"italic\" lengthAdjust=\"spacingAndGlyphs\" textLength=\"40\" x=\"472\" y=\"78.1387\">«part»</text><text fill=\"#000000\" font-family=\"sans-serif\" font-size=\"12\" lengthAdjust=\"spacingAndGlyphs\" textLength=\"23\" x=\"480.5\" y=\"92.1074\">c: P</text><line style=\"stroke: #383838; stroke-width: 1.5;\" x1=\"472\" x2=\"512\" y1=\"99.9375\" y2=\"99.9375\"/></a><!--MD5=[2156ba9850f5573cc1fc38a6a4b2f02b]\n",
       "class E7--><a href=\"psysml:a788bf26-d852-4daf-8a66-fd926f14abf3\" target=\"_top\" title=\"psysml:a788bf26-d852-4daf-8a66-fd926f14abf3\" xlink:actuate=\"onRequest\" xlink:href=\"psysml:a788bf26-d852-4daf-8a66-fd926f14abf3\" xlink:show=\"new\" xlink:title=\"psysml:a788bf26-d852-4daf-8a66-fd926f14abf3\" xlink:type=\"simple\"><rect fill=\"#FFFFFF\" height=\"45.9375\" id=\"E7\" rx=\"10\" ry=\"10\" style=\"stroke: #383838; stroke-width: 1.5;\" width=\"42\" x=\"394\" y=\"62\"/><text fill=\"#000000\" font-family=\"sans-serif\" font-size=\"12\" font-style=\"italic\" lengthAdjust=\"spacingAndGlyphs\" textLength=\"40\" x=\"395\" y=\"78.1387\">«part»</text><text fill=\"#000000\" font-family=\"sans-serif\" font-size=\"12\" lengthAdjust=\"spacingAndGlyphs\" textLength=\"8\" x=\"411\" y=\"92.1074\">d</text><line style=\"stroke: #383838; stroke-width: 1.5;\" x1=\"395\" x2=\"435\" y1=\"99.9375\" y2=\"99.9375\"/></a><!--MD5=[b9389687b975829384b498ac4b7476b2]\n",
       "class E8--><a href=\"psysml:8ca44daa-798d-42ea-8082-fded64fdb257\" target=\"_top\" title=\"psysml:8ca44daa-798d-42ea-8082-fded64fdb257\" xlink:actuate=\"onRequest\" xlink:href=\"psysml:8ca44daa-798d-42ea-8082-fded64fdb257\" xlink:show=\"new\" xlink:title=\"psysml:8ca44daa-798d-42ea-8082-fded64fdb257\" xlink:type=\"simple\"><rect fill=\"#FFFFFF\" height=\"45.9375\" id=\"E8\" rx=\"10\" ry=\"10\" style=\"stroke: #383838; stroke-width: 1.5;\" width=\"42\" x=\"317\" y=\"62\"/><text fill=\"#000000\" font-family=\"sans-serif\" font-size=\"12\" font-style=\"italic\" lengthAdjust=\"spacingAndGlyphs\" textLength=\"40\" x=\"318\" y=\"78.1387\">«part»</text><text fill=\"#000000\" font-family=\"sans-serif\" font-size=\"12\" lengthAdjust=\"spacingAndGlyphs\" textLength=\"8\" x=\"334\" y=\"92.1074\">e</text><line style=\"stroke: #383838; stroke-width: 1.5;\" x1=\"318\" x2=\"358\" y1=\"99.9375\" y2=\"99.9375\"/></a><!--MD5=[fd4143e9d270a159db93a4ea2a975926]\n",
       "class E9--><a href=\"psysml:94368454-840d-4091-abdb-e19ae5322c54\" target=\"_top\" title=\"psysml:94368454-840d-4091-abdb-e19ae5322c54\" xlink:actuate=\"onRequest\" xlink:href=\"psysml:94368454-840d-4091-abdb-e19ae5322c54\" xlink:show=\"new\" xlink:title=\"psysml:94368454-840d-4091-abdb-e19ae5322c54\" xlink:type=\"simple\"><rect fill=\"#FFFFFF\" height=\"45.9375\" id=\"E9\" rx=\"10\" ry=\"10\" style=\"stroke: #383838; stroke-width: 1.5;\" width=\"42\" x=\"240\" y=\"62\"/><text fill=\"#000000\" font-family=\"sans-serif\" font-size=\"12\" font-style=\"italic\" lengthAdjust=\"spacingAndGlyphs\" textLength=\"40\" x=\"241\" y=\"78.1387\">«part»</text><text fill=\"#000000\" font-family=\"sans-serif\" font-size=\"12\" lengthAdjust=\"spacingAndGlyphs\" textLength=\"4\" x=\"259\" y=\"92.1074\">f</text><line style=\"stroke: #383838; stroke-width: 1.5;\" x1=\"241\" x2=\"281\" y1=\"99.9375\" y2=\"99.9375\"/></a><!--MD5=[96f4274e9e20536e775497830990834d]\n",
       "class E10--><a href=\"psysml:8f8b3cba-ab00-4478-b69f-246a2e072be5\" target=\"_top\" title=\"psysml:8f8b3cba-ab00-4478-b69f-246a2e072be5\" xlink:actuate=\"onRequest\" xlink:href=\"psysml:8f8b3cba-ab00-4478-b69f-246a2e072be5\" xlink:show=\"new\" xlink:title=\"psysml:8f8b3cba-ab00-4478-b69f-246a2e072be5\" xlink:type=\"simple\"><rect fill=\"#FFFFFF\" height=\"45.9375\" id=\"E10\" rx=\"10\" ry=\"10\" style=\"stroke: #383838; stroke-width: 1.5;\" width=\"42\" x=\"163\" y=\"62\"/><text fill=\"#000000\" font-family=\"sans-serif\" font-size=\"12\" font-style=\"italic\" lengthAdjust=\"spacingAndGlyphs\" textLength=\"40\" x=\"164\" y=\"78.1387\">«part»</text><text fill=\"#000000\" font-family=\"sans-serif\" font-size=\"12\" lengthAdjust=\"spacingAndGlyphs\" textLength=\"8\" x=\"180\" y=\"92.1074\">g</text><line style=\"stroke: #383838; stroke-width: 1.5;\" x1=\"164\" x2=\"204\" y1=\"99.9375\" y2=\"99.9375\"/></a><!--MD5=[1dd1bfd58a279cf63c5f349dbc8fc6a1]\n",
       "class E11--><a href=\"psysml:2c45c451-c8b5-4e48-8592-55fa30d535c5\" target=\"_top\" title=\"psysml:2c45c451-c8b5-4e48-8592-55fa30d535c5\" xlink:actuate=\"onRequest\" xlink:href=\"psysml:2c45c451-c8b5-4e48-8592-55fa30d535c5\" xlink:show=\"new\" xlink:title=\"psysml:2c45c451-c8b5-4e48-8592-55fa30d535c5\" xlink:type=\"simple\"><rect fill=\"#FFFFFF\" height=\"88.3516\" id=\"E11\" style=\"stroke: #383838; stroke-width: 1.5;\" width=\"95\" x=\"32.5\" y=\"41\"/><text fill=\"#000000\" font-family=\"sans-serif\" font-size=\"12\" font-style=\"italic\" lengthAdjust=\"spacingAndGlyphs\" textLength=\"93\" x=\"33.5\" y=\"57.1387\">«attribute def»</text><text fill=\"#000000\" font-family=\"sans-serif\" font-size=\"12\" lengthAdjust=\"spacingAndGlyphs\" textLength=\"8\" x=\"76\" y=\"71.1074\">A</text><line style=\"stroke: #383838; stroke-width: 1.5;\" x1=\"33.5\" x2=\"126.5\" y1=\"78.9375\" y2=\"78.9375\"/><text fill=\"#000000\" font-family=\"sans-serif\" font-size=\"11\" lengthAdjust=\"spacingAndGlyphs\" textLength=\"51\" x=\"38.5\" y=\"109.9526\">i: Integer</text><text fill=\"#000000\" font-family=\"sans-serif\" font-size=\"11\" lengthAdjust=\"spacingAndGlyphs\" textLength=\"21\" x=\"38.5\" y=\"122.7573\">x: A</text><line style=\"stroke: #383838; stroke-width: 1.0;\" x1=\"33.5\" x2=\"52.5\" y1=\"93.3398\" y2=\"93.3398\"/><text fill=\"#000000\" font-family=\"sans-serif\" font-size=\"11\" lengthAdjust=\"spacingAndGlyphs\" textLength=\"55\" x=\"52.5\" y=\"96.6479\">attributes</text><line style=\"stroke: #383838; stroke-width: 1.0;\" x1=\"107.5\" x2=\"126.5\" y1=\"93.3398\" y2=\"93.3398\"/></a><!--MD5=[15ebcb19ae302d9b601edb458606d402]\n",
       "link E5 to E2--><a href=\"psysml:99c2055f-0301-4891-b65d-9e517e6365b1\" target=\"_top\" title=\"psysml:99c2055f-0301-4891-b65d-9e517e6365b1\" xlink:actuate=\"onRequest\" xlink:href=\"psysml:99c2055f-0301-4891-b65d-9e517e6365b1\" xlink:show=\"new\" xlink:title=\"psysml:99c2055f-0301-4891-b65d-9e517e6365b1\" xlink:type=\"simple\"><path d=\"M562.12,108.06 C556.83,125 549.38,148.89 542.98,169.39 \" fill=\"none\" id=\"E5-&gt;E2\" style=\"stroke: #383838; stroke-width: 1.0;\"/><polygon fill=\"#FFFFFF\" points=\"536.95,188.74,535.929,168.5173,549.2931,172.6886,536.95,188.74\" style=\"stroke: #383838; stroke-width: 1.0;\"/><ellipse cx=\"539.5364\" cy=\"163.6721\" fill=\"#383838\" rx=\"2\" ry=\"2\" style=\"stroke: #383838; stroke-width: 1.0;\"/><ellipse cx=\"549.0823\" cy=\"166.6516\" fill=\"#383838\" rx=\"2\" ry=\"2\" style=\"stroke: #383838; stroke-width: 1.0;\"/></a><!--MD5=[2351f337d6de0f557b50152ba70847b5]\n",
       "link E6 to E2--><a href=\"psysml:035f6493-28ba-4968-b761-0ab46a395f55\" target=\"_top\" title=\"psysml:035f6493-28ba-4968-b761-0ab46a395f55\" xlink:actuate=\"onRequest\" xlink:href=\"psysml:035f6493-28ba-4968-b761-0ab46a395f55\" xlink:show=\"new\" xlink:title=\"psysml:035f6493-28ba-4968-b761-0ab46a395f55\" xlink:type=\"simple\"><path d=\"M498.71,108.06 C503.86,125 511.12,148.89 517.35,169.39 \" fill=\"none\" id=\"E6-&gt;E2\" style=\"stroke: #383838; stroke-width: 1.0;\"/><polygon fill=\"#FFFFFF\" points=\"523.23,188.74,511.007,172.597,524.4019,168.5255,523.23,188.74\" style=\"stroke: #383838; stroke-width: 1.0;\"/><ellipse cx=\"511.2628\" cy=\"166.5617\" fill=\"#383838\" rx=\"2\" ry=\"2\" style=\"stroke: #383838; stroke-width: 1.0;\"/><ellipse cx=\"520.8306\" cy=\"163.6535\" fill=\"#383838\" rx=\"2\" ry=\"2\" style=\"stroke: #383838; stroke-width: 1.0;\"/></a><!--MD5=[c501701a7da642442a7783a179883a46]\n",
       "@startuml\r\n",
       " skinparam monochrome true\r\n",
       "skinparam classbackgroundcolor white\r\n",
       "skinparam shadowing false\r\n",
       "skinparam wrapWidth 300\r\n",
       "hide circle\r\n",
       "\r\n",
       "package \"MultiplicityTest\" as E1  [[psysml:d21f1d33-c8d8-4d7e-915c-a1dc21839292 ]]  {\r\n",
       "comp def \"P\" as E2  <<(T,blue) part def>> [[psysml:cfcc0fdc-4985-4a7c-8ed0-df1ec6a07f40 ]] {\r\n",
       "}\r\n",
       "comp usage \"n: Integer\" as E3  <<(T,blue) attribute>> [[psysml:6504cd03-3352-435e-8e5a-44d60f096993 ]] {\r\n",
       "}\r\n",
       "comp usage \"a\" as E4  <<(T,blue) part>> [[psysml:69df1372-c4de-42e4-b97b-1df20a9e4637 ]] {\r\n",
       "}\r\n",
       "comp usage \"b: P\" as E5  <<(T,blue) part>> [[psysml:ce135ed3-5db8-4159-aade-37d21406abf2 ]] {\r\n",
       "}\r\n",
       "comp usage \"c: P\" as E6  <<(T,blue) part>> [[psysml:7c20260d-33cb-4904-8feb-6f2059c0b9de ]] {\r\n",
       "}\r\n",
       "comp usage \"d\" as E7  <<(T,blue) part>> [[psysml:a788bf26-d852-4daf-8a66-fd926f14abf3 ]] {\r\n",
       "}\r\n",
       "comp usage \"e\" as E8  <<(T,blue) part>> [[psysml:8ca44daa-798d-42ea-8082-fded64fdb257 ]] {\r\n",
       "}\r\n",
       "comp usage \"f\" as E9  <<(T,blue) part>> [[psysml:94368454-840d-4091-abdb-e19ae5322c54 ]] {\r\n",
       "}\r\n",
       "comp usage \"g\" as E10  <<(T,blue) part>> [[psysml:8f8b3cba-ab00-4478-b69f-246a2e072be5 ]] {\r\n",
       "}\r\n",
       "comp def \"A\" as E11  <<(T,blue) attribute def>> [[psysml:2c45c451-c8b5-4e48-8592-55fa30d535c5 ]] {\r\n",
       "- - attributes - -\r\n",
       "i: Integer\r\n",
       "x: A\r\n",
       "}\r\n",
       "E5 - -:|> E2 [[psysml:99c2055f-0301-4891-b65d-9e517e6365b1 ]] \r\n",
       "E6 - -:|> E2 [[psysml:035f6493-28ba-4968-b761-0ab46a395f55 ]] \r\n",
       "}\r\n",
       "@enduml\r\n",
       "\n",
       "PlantUML version 1.2020.13(Sat Jun 13 12:26:38 UTC 2020)\n",
       "(EPL source distribution)\n",
       "Java Runtime: OpenJDK Runtime Environment\n",
       "JVM: OpenJDK 64-Bit Server VM\n",
       "Default Encoding: UTF-8\n",
       "Language: en\n",
       "Country: null\n",
       "--></g></svg>"
      ]
     },
     "execution_count": 3,
     "metadata": {},
     "output_type": "execute_result"
    }
   ],
   "source": [
    "%viz --style=\"COMPTREE\" --view=\"Tree\" \"MultiplicityTest\""
   ]
  },
  {
   "cell_type": "code",
   "execution_count": 4,
   "id": "058fd0b3",
   "metadata": {
    "execution": {
     "iopub.execute_input": "2021-06-30T09:24:29.732386Z",
     "iopub.status.busy": "2021-06-30T09:24:29.731740Z",
     "iopub.status.idle": "2021-06-30T09:24:29.740191Z",
     "shell.execute_reply": "2021-06-30T09:24:29.740485Z"
    }
   },
   "outputs": [
    {
     "data": {
      "image/svg+xml": [
       "<?xml version=\"1.0\" encoding=\"UTF-8\" standalone=\"no\"?><svg xmlns=\"http://www.w3.org/2000/svg\" xmlns:xlink=\"http://www.w3.org/1999/xlink\" contentScriptType=\"application/ecmascript\" contentStyleType=\"text/css\" height=\"12px\" preserveAspectRatio=\"none\" style=\"width:12px;height:12px;\" version=\"1.1\" viewBox=\"0 0 12 12\" width=\"12px\" zoomAndPan=\"magnify\"><defs/><g><!--MD5=[f19188ef49e11757b5c46753f95d9edc]\n",
       "@startuml\r\n",
       " skinparam monochrome true\r\n",
       "skinparam classbackgroundcolor white\r\n",
       "skinparam shadowing false\r\n",
       "skinparam wrapWidth 300\r\n",
       "hide circle\r\n",
       "\r\n",
       "@enduml\r\n",
       "\n",
       "PlantUML version 1.2020.13(Sat Jun 13 12:26:38 UTC 2020)\n",
       "(EPL source distribution)\n",
       "Java Runtime: OpenJDK Runtime Environment\n",
       "JVM: OpenJDK 64-Bit Server VM\n",
       "Default Encoding: UTF-8\n",
       "Language: en\n",
       "Country: null\n",
       "--></g></svg>"
      ]
     },
     "execution_count": 4,
     "metadata": {},
     "output_type": "execute_result"
    }
   ],
   "source": [
    "%viz --style=\"COMPTREE\" --view=\"State\" \"MultiplicityTest\""
   ]
  },
  {
   "cell_type": "code",
   "execution_count": 5,
   "id": "0d1b3206",
   "metadata": {
    "execution": {
     "iopub.execute_input": "2021-06-30T09:24:29.791960Z",
     "iopub.status.busy": "2021-06-30T09:24:29.791471Z",
     "iopub.status.idle": "2021-06-30T09:24:29.851869Z",
     "shell.execute_reply": "2021-06-30T09:24:29.851514Z"
    }
   },
   "outputs": [
    {
     "data": {
      "image/svg+xml": [
       "<?xml version=\"1.0\" encoding=\"UTF-8\" standalone=\"no\"?><svg xmlns=\"http://www.w3.org/2000/svg\" xmlns:xlink=\"http://www.w3.org/1999/xlink\" contentScriptType=\"application/ecmascript\" contentStyleType=\"text/css\" height=\"115px\" preserveAspectRatio=\"none\" style=\"width:979px;height:115px;\" version=\"1.1\" viewBox=\"0 0 979 115\" width=\"979px\" zoomAndPan=\"magnify\"><defs/><g><!--MD5=[fbc87193dbaf4d95561dea2c320d4a47]\n",
       "cluster E1--><a href=\"psysml:d21f1d33-c8d8-4d7e-915c-a1dc21839292\" target=\"_top\" title=\"psysml:d21f1d33-c8d8-4d7e-915c-a1dc21839292\" xlink:actuate=\"onRequest\" xlink:href=\"psysml:d21f1d33-c8d8-4d7e-915c-a1dc21839292\" xlink:show=\"new\" xlink:title=\"psysml:d21f1d33-c8d8-4d7e-915c-a1dc21839292\" xlink:type=\"simple\"><polygon fill=\"#FFFFFF\" points=\"16,6,140,6,147,28.2969,957,28.2969,957,103,16,103,16,6\" style=\"stroke: #000000; stroke-width: 1.5;\"/><line style=\"stroke: #000000; stroke-width: 1.5;\" x1=\"16\" x2=\"147\" y1=\"28.2969\" y2=\"28.2969\"/><text fill=\"#000000\" font-family=\"sans-serif\" font-size=\"14\" font-weight=\"bold\" lengthAdjust=\"spacingAndGlyphs\" textLength=\"118\" x=\"20\" y=\"20.9951\">MultiplicityTest</text></a><!--MD5=[09b614a08d8cba4a07c9adeb5e0fee81]\n",
       "class E3--><a href=\"psysml:6504cd03-3352-435e-8e5a-44d60f096993\" target=\"_top\" title=\"psysml:6504cd03-3352-435e-8e5a-44d60f096993\" xlink:actuate=\"onRequest\" xlink:href=\"psysml:6504cd03-3352-435e-8e5a-44d60f096993\" xlink:show=\"new\" xlink:title=\"psysml:6504cd03-3352-435e-8e5a-44d60f096993\" xlink:type=\"simple\"><rect fill=\"#FFFFFF\" height=\"45.9375\" id=\"E3\" rx=\"10\" ry=\"10\" style=\"stroke: #383838; stroke-width: 1.5;\" width=\"71\" x=\"869.5\" y=\"41\"/><text fill=\"#000000\" font-family=\"sans-serif\" font-size=\"12\" font-style=\"italic\" lengthAdjust=\"spacingAndGlyphs\" textLength=\"69\" x=\"870.5\" y=\"57.1387\">«attribute»</text><text fill=\"#000000\" font-family=\"sans-serif\" font-size=\"12\" lengthAdjust=\"spacingAndGlyphs\" textLength=\"61\" x=\"874.5\" y=\"71.1074\">n: Integer</text><line style=\"stroke: #383838; stroke-width: 1.5;\" x1=\"870.5\" x2=\"939.5\" y1=\"78.9375\" y2=\"78.9375\"/></a><g id=\"E1.E11\"><a href=\"psysml:2c45c451-c8b5-4e48-8592-55fa30d535c5\" target=\"_top\" title=\"psysml:2c45c451-c8b5-4e48-8592-55fa30d535c5\" xlink:actuate=\"onRequest\" xlink:href=\"psysml:2c45c451-c8b5-4e48-8592-55fa30d535c5\" xlink:show=\"new\" xlink:title=\"psysml:2c45c451-c8b5-4e48-8592-55fa30d535c5\" xlink:type=\"simple\"><rect fill=\"#FFFFFF\" height=\"42.9375\" id=\"E11\" style=\"stroke: #383838; stroke-width: 1.5;\" width=\"100\" x=\"734\" y=\"42.5\"/><rect fill=\"#F8F8F8\" height=\"37.9375\" style=\"stroke: #383838; stroke-width: 1.5;\" width=\"100\" x=\"734\" y=\"42.5\"/><text fill=\"#000000\" font-family=\"sans-serif\" font-size=\"12\" font-style=\"italic\" lengthAdjust=\"spacingAndGlyphs\" textLength=\"93\" x=\"737.5\" y=\"58.6387\">«attribute def»</text><text fill=\"#000000\" font-family=\"sans-serif\" font-size=\"12\" lengthAdjust=\"spacingAndGlyphs\" textLength=\"8\" x=\"780\" y=\"72.6074\">A</text></a></g><g id=\"E1.E2\"><a href=\"psysml:cfcc0fdc-4985-4a7c-8ed0-df1ec6a07f40\" target=\"_top\" title=\"psysml:cfcc0fdc-4985-4a7c-8ed0-df1ec6a07f40\" xlink:actuate=\"onRequest\" xlink:href=\"psysml:cfcc0fdc-4985-4a7c-8ed0-df1ec6a07f40\" xlink:show=\"new\" xlink:title=\"psysml:cfcc0fdc-4985-4a7c-8ed0-df1ec6a07f40\" xlink:type=\"simple\"><rect fill=\"#FFFFFF\" height=\"42.9375\" id=\"E2\" style=\"stroke: #383838; stroke-width: 1.5;\" width=\"71\" x=\"627.5\" y=\"42.5\"/><rect fill=\"#F8F8F8\" height=\"37.9375\" style=\"stroke: #383838; stroke-width: 1.5;\" width=\"71\" x=\"627.5\" y=\"42.5\"/><text fill=\"#000000\" font-family=\"sans-serif\" font-size=\"12\" font-style=\"italic\" lengthAdjust=\"spacingAndGlyphs\" textLength=\"64\" x=\"631\" y=\"58.6387\">«part def»</text><text fill=\"#000000\" font-family=\"sans-serif\" font-size=\"12\" lengthAdjust=\"spacingAndGlyphs\" textLength=\"8\" x=\"659\" y=\"72.6074\">P</text></a></g><g id=\"E1.E4\"><a href=\"psysml:69df1372-c4de-42e4-b97b-1df20a9e4637\" target=\"_top\" title=\"psysml:69df1372-c4de-42e4-b97b-1df20a9e4637\" xlink:actuate=\"onRequest\" xlink:href=\"psysml:69df1372-c4de-42e4-b97b-1df20a9e4637\" xlink:show=\"new\" xlink:title=\"psysml:69df1372-c4de-42e4-b97b-1df20a9e4637\" xlink:type=\"simple\"><rect fill=\"#FFFFFF\" height=\"40\" id=\"E4\" rx=\"10\" ry=\"10\" style=\"stroke: #383838; stroke-width: 1.5;\" width=\"50\" x=\"542\" y=\"44\"/><rect fill=\"#F8F8F8\" height=\"23.9688\" rx=\"10\" ry=\"10\" style=\"stroke: #F8F8F8; stroke-width: 1.5;\" width=\"50\" x=\"542\" y=\"44\"/><rect fill=\"#F8F8F8\" height=\"10\" style=\"stroke: #F8F8F8; stroke-width: 1.5;\" width=\"50\" x=\"542\" y=\"57.9688\"/><rect fill=\"none\" height=\"40\" id=\"E4\" rx=\"10\" ry=\"10\" style=\"stroke: #383838; stroke-width: 1.5;\" width=\"50\" x=\"542\" y=\"44\"/><text fill=\"#000000\" font-family=\"sans-serif\" font-size=\"12\" lengthAdjust=\"spacingAndGlyphs\" textLength=\"8\" x=\"563\" y=\"60.1387\">a</text></a></g><g id=\"E1.E5\"><a href=\"psysml:ce135ed3-5db8-4159-aade-37d21406abf2\" target=\"_top\" title=\"psysml:ce135ed3-5db8-4159-aade-37d21406abf2\" xlink:actuate=\"onRequest\" xlink:href=\"psysml:ce135ed3-5db8-4159-aade-37d21406abf2\" xlink:show=\"new\" xlink:title=\"psysml:ce135ed3-5db8-4159-aade-37d21406abf2\" xlink:type=\"simple\"><rect fill=\"#FFFFFF\" height=\"40\" id=\"E5\" rx=\"10\" ry=\"10\" style=\"stroke: #383838; stroke-width: 1.5;\" width=\"50\" x=\"457\" y=\"44\"/><rect fill=\"#F8F8F8\" height=\"23.9688\" rx=\"10\" ry=\"10\" style=\"stroke: #F8F8F8; stroke-width: 1.5;\" width=\"50\" x=\"457\" y=\"44\"/><rect fill=\"#F8F8F8\" height=\"10\" style=\"stroke: #F8F8F8; stroke-width: 1.5;\" width=\"50\" x=\"457\" y=\"57.9688\"/><rect fill=\"none\" height=\"40\" id=\"E5\" rx=\"10\" ry=\"10\" style=\"stroke: #383838; stroke-width: 1.5;\" width=\"50\" x=\"457\" y=\"44\"/><text fill=\"#000000\" font-family=\"sans-serif\" font-size=\"12\" lengthAdjust=\"spacingAndGlyphs\" textLength=\"24\" x=\"470\" y=\"60.1387\">b: P</text></a></g><g id=\"E1.E6\"><a href=\"psysml:7c20260d-33cb-4904-8feb-6f2059c0b9de\" target=\"_top\" title=\"psysml:7c20260d-33cb-4904-8feb-6f2059c0b9de\" xlink:actuate=\"onRequest\" xlink:href=\"psysml:7c20260d-33cb-4904-8feb-6f2059c0b9de\" xlink:show=\"new\" xlink:title=\"psysml:7c20260d-33cb-4904-8feb-6f2059c0b9de\" xlink:type=\"simple\"><rect fill=\"#FFFFFF\" height=\"40\" id=\"E6\" rx=\"10\" ry=\"10\" style=\"stroke: #383838; stroke-width: 1.5;\" width=\"50\" x=\"372\" y=\"44\"/><rect fill=\"#F8F8F8\" height=\"23.9688\" rx=\"10\" ry=\"10\" style=\"stroke: #F8F8F8; stroke-width: 1.5;\" width=\"50\" x=\"372\" y=\"44\"/><rect fill=\"#F8F8F8\" height=\"10\" style=\"stroke: #F8F8F8; stroke-width: 1.5;\" width=\"50\" x=\"372\" y=\"57.9688\"/><rect fill=\"none\" height=\"40\" id=\"E6\" rx=\"10\" ry=\"10\" style=\"stroke: #383838; stroke-width: 1.5;\" width=\"50\" x=\"372\" y=\"44\"/><text fill=\"#000000\" font-family=\"sans-serif\" font-size=\"12\" lengthAdjust=\"spacingAndGlyphs\" textLength=\"23\" x=\"385.5\" y=\"60.1387\">c: P</text></a></g><g id=\"E1.E7\"><a href=\"psysml:a788bf26-d852-4daf-8a66-fd926f14abf3\" target=\"_top\" title=\"psysml:a788bf26-d852-4daf-8a66-fd926f14abf3\" xlink:actuate=\"onRequest\" xlink:href=\"psysml:a788bf26-d852-4daf-8a66-fd926f14abf3\" xlink:show=\"new\" xlink:title=\"psysml:a788bf26-d852-4daf-8a66-fd926f14abf3\" xlink:type=\"simple\"><rect fill=\"#FFFFFF\" height=\"40\" id=\"E7\" rx=\"10\" ry=\"10\" style=\"stroke: #383838; stroke-width: 1.5;\" width=\"50\" x=\"287\" y=\"44\"/><rect fill=\"#F8F8F8\" height=\"23.9688\" rx=\"10\" ry=\"10\" style=\"stroke: #F8F8F8; stroke-width: 1.5;\" width=\"50\" x=\"287\" y=\"44\"/><rect fill=\"#F8F8F8\" height=\"10\" style=\"stroke: #F8F8F8; stroke-width: 1.5;\" width=\"50\" x=\"287\" y=\"57.9688\"/><rect fill=\"none\" height=\"40\" id=\"E7\" rx=\"10\" ry=\"10\" style=\"stroke: #383838; stroke-width: 1.5;\" width=\"50\" x=\"287\" y=\"44\"/><text fill=\"#000000\" font-family=\"sans-serif\" font-size=\"12\" lengthAdjust=\"spacingAndGlyphs\" textLength=\"8\" x=\"308\" y=\"60.1387\">d</text></a></g><g id=\"E1.E8\"><a href=\"psysml:8ca44daa-798d-42ea-8082-fded64fdb257\" target=\"_top\" title=\"psysml:8ca44daa-798d-42ea-8082-fded64fdb257\" xlink:actuate=\"onRequest\" xlink:href=\"psysml:8ca44daa-798d-42ea-8082-fded64fdb257\" xlink:show=\"new\" xlink:title=\"psysml:8ca44daa-798d-42ea-8082-fded64fdb257\" xlink:type=\"simple\"><rect fill=\"#FFFFFF\" height=\"40\" id=\"E8\" rx=\"10\" ry=\"10\" style=\"stroke: #383838; stroke-width: 1.5;\" width=\"50\" x=\"202\" y=\"44\"/><rect fill=\"#F8F8F8\" height=\"23.9688\" rx=\"10\" ry=\"10\" style=\"stroke: #F8F8F8; stroke-width: 1.5;\" width=\"50\" x=\"202\" y=\"44\"/><rect fill=\"#F8F8F8\" height=\"10\" style=\"stroke: #F8F8F8; stroke-width: 1.5;\" width=\"50\" x=\"202\" y=\"57.9688\"/><rect fill=\"none\" height=\"40\" id=\"E8\" rx=\"10\" ry=\"10\" style=\"stroke: #383838; stroke-width: 1.5;\" width=\"50\" x=\"202\" y=\"44\"/><text fill=\"#000000\" font-family=\"sans-serif\" font-size=\"12\" lengthAdjust=\"spacingAndGlyphs\" textLength=\"8\" x=\"223\" y=\"60.1387\">e</text></a></g><g id=\"E1.E9\"><a href=\"psysml:94368454-840d-4091-abdb-e19ae5322c54\" target=\"_top\" title=\"psysml:94368454-840d-4091-abdb-e19ae5322c54\" xlink:actuate=\"onRequest\" xlink:href=\"psysml:94368454-840d-4091-abdb-e19ae5322c54\" xlink:show=\"new\" xlink:title=\"psysml:94368454-840d-4091-abdb-e19ae5322c54\" xlink:type=\"simple\"><rect fill=\"#FFFFFF\" height=\"40\" id=\"E9\" rx=\"10\" ry=\"10\" style=\"stroke: #383838; stroke-width: 1.5;\" width=\"50\" x=\"117\" y=\"44\"/><rect fill=\"#F8F8F8\" height=\"23.9688\" rx=\"10\" ry=\"10\" style=\"stroke: #F8F8F8; stroke-width: 1.5;\" width=\"50\" x=\"117\" y=\"44\"/><rect fill=\"#F8F8F8\" height=\"10\" style=\"stroke: #F8F8F8; stroke-width: 1.5;\" width=\"50\" x=\"117\" y=\"57.9688\"/><rect fill=\"none\" height=\"40\" id=\"E9\" rx=\"10\" ry=\"10\" style=\"stroke: #383838; stroke-width: 1.5;\" width=\"50\" x=\"117\" y=\"44\"/><text fill=\"#000000\" font-family=\"sans-serif\" font-size=\"12\" lengthAdjust=\"spacingAndGlyphs\" textLength=\"4\" x=\"140\" y=\"60.1387\">f</text></a></g><g id=\"E1.E10\"><a href=\"psysml:8f8b3cba-ab00-4478-b69f-246a2e072be5\" target=\"_top\" title=\"psysml:8f8b3cba-ab00-4478-b69f-246a2e072be5\" xlink:actuate=\"onRequest\" xlink:href=\"psysml:8f8b3cba-ab00-4478-b69f-246a2e072be5\" xlink:show=\"new\" xlink:title=\"psysml:8f8b3cba-ab00-4478-b69f-246a2e072be5\" xlink:type=\"simple\"><rect fill=\"#FFFFFF\" height=\"40\" id=\"E10\" rx=\"10\" ry=\"10\" style=\"stroke: #383838; stroke-width: 1.5;\" width=\"50\" x=\"32\" y=\"44\"/><rect fill=\"#F8F8F8\" height=\"23.9688\" rx=\"10\" ry=\"10\" style=\"stroke: #F8F8F8; stroke-width: 1.5;\" width=\"50\" x=\"32\" y=\"44\"/><rect fill=\"#F8F8F8\" height=\"10\" style=\"stroke: #F8F8F8; stroke-width: 1.5;\" width=\"50\" x=\"32\" y=\"57.9688\"/><rect fill=\"none\" height=\"40\" id=\"E10\" rx=\"10\" ry=\"10\" style=\"stroke: #383838; stroke-width: 1.5;\" width=\"50\" x=\"32\" y=\"44\"/><text fill=\"#000000\" font-family=\"sans-serif\" font-size=\"12\" lengthAdjust=\"spacingAndGlyphs\" textLength=\"8\" x=\"53\" y=\"60.1387\">g</text></a></g><!--MD5=[85c6b0da7aa2e625d0f4d41e8ccde842]\n",
       "@startuml\r\n",
       "skinparam ranksep 10\r\n",
       "skinparam rectangle {\r\n",
       " backgroundColor<<block>> LightGreen\r\n",
       "}\r\n",
       " skinparam monochrome true\r\n",
       "skinparam classbackgroundcolor white\r\n",
       "skinparam shadowing false\r\n",
       "skinparam wrapWidth 300\r\n",
       "hide circle\r\n",
       "\r\n",
       "package \"MultiplicityTest\" as E1  [[psysml:d21f1d33-c8d8-4d7e-915c-a1dc21839292 ]]  {\r\n",
       "rec def \"P\" as E2  <<(T,blue) part def>> [[psysml:cfcc0fdc-4985-4a7c-8ed0-df1ec6a07f40 ]] {\r\n",
       "}\r\n",
       "comp usage \"n: Integer\" as E3  <<(T,blue) attribute>> [[psysml:6504cd03-3352-435e-8e5a-44d60f096993 ]] {\r\n",
       "}\r\n",
       "rec usage \"a\" as E4  [[psysml:69df1372-c4de-42e4-b97b-1df20a9e4637 ]] {\r\n",
       "}\r\n",
       "rec usage \"b: P\" as E5  [[psysml:ce135ed3-5db8-4159-aade-37d21406abf2 ]] {\r\n",
       "}\r\n",
       "rec usage \"c: P\" as E6  [[psysml:7c20260d-33cb-4904-8feb-6f2059c0b9de ]] {\r\n",
       "}\r\n",
       "rec usage \"d\" as E7  [[psysml:a788bf26-d852-4daf-8a66-fd926f14abf3 ]] {\r\n",
       "}\r\n",
       "rec usage \"e\" as E8  [[psysml:8ca44daa-798d-42ea-8082-fded64fdb257 ]] {\r\n",
       "}\r\n",
       "rec usage \"f\" as E9  [[psysml:94368454-840d-4091-abdb-e19ae5322c54 ]] {\r\n",
       "}\r\n",
       "rec usage \"g\" as E10  [[psysml:8f8b3cba-ab00-4478-b69f-246a2e072be5 ]] {\r\n",
       "}\r\n",
       "def \"A\" as E11  <<(T,blue) attribute def>> [[psysml:2c45c451-c8b5-4e48-8592-55fa30d535c5 ]] \r\n",
       "}\r\n",
       "@enduml\r\n",
       "\n",
       "PlantUML version 1.2020.13(Sat Jun 13 12:26:38 UTC 2020)\n",
       "(EPL source distribution)\n",
       "Java Runtime: OpenJDK Runtime Environment\n",
       "JVM: OpenJDK 64-Bit Server VM\n",
       "Default Encoding: UTF-8\n",
       "Language: en\n",
       "Country: null\n",
       "--></g></svg>"
      ]
     },
     "execution_count": 5,
     "metadata": {},
     "output_type": "execute_result"
    }
   ],
   "source": [
    "%viz --style=\"COMPTREE\" --view=\"Interconnection\" \"MultiplicityTest\""
   ]
  },
  {
   "cell_type": "code",
   "execution_count": 6,
   "id": "801047f7",
   "metadata": {
    "execution": {
     "iopub.execute_input": "2021-06-30T09:24:29.903793Z",
     "iopub.status.busy": "2021-06-30T09:24:29.903220Z",
     "iopub.status.idle": "2021-06-30T09:24:29.911584Z",
     "shell.execute_reply": "2021-06-30T09:24:29.911263Z"
    }
   },
   "outputs": [
    {
     "data": {
      "image/svg+xml": [
       "<?xml version=\"1.0\" encoding=\"UTF-8\" standalone=\"no\"?><svg xmlns=\"http://www.w3.org/2000/svg\" xmlns:xlink=\"http://www.w3.org/1999/xlink\" contentScriptType=\"application/ecmascript\" contentStyleType=\"text/css\" height=\"12px\" preserveAspectRatio=\"none\" style=\"width:12px;height:12px;\" version=\"1.1\" viewBox=\"0 0 12 12\" width=\"12px\" zoomAndPan=\"magnify\"><defs/><g><!--MD5=[655b888544ca4751ea36af1068543f84]\n",
       "@startuml\r\n",
       "skinparam ranksep 8\r\n",
       " skinparam monochrome true\r\n",
       "skinparam classbackgroundcolor white\r\n",
       "skinparam shadowing false\r\n",
       "skinparam wrapWidth 300\r\n",
       "hide circle\r\n",
       "\r\n",
       "@enduml\r\n",
       "\n",
       "PlantUML version 1.2020.13(Sat Jun 13 12:26:38 UTC 2020)\n",
       "(EPL source distribution)\n",
       "Java Runtime: OpenJDK Runtime Environment\n",
       "JVM: OpenJDK 64-Bit Server VM\n",
       "Default Encoding: UTF-8\n",
       "Language: en\n",
       "Country: null\n",
       "--></g></svg>"
      ]
     },
     "execution_count": 6,
     "metadata": {},
     "output_type": "execute_result"
    }
   ],
   "source": [
    "%viz --style=\"COMPTREE\" --view=\"Action\" \"MultiplicityTest\""
   ]
  },
  {
   "cell_type": "code",
   "execution_count": 7,
   "id": "51d50428",
   "metadata": {
    "execution": {
     "iopub.execute_input": "2021-06-30T09:24:29.966194Z",
     "iopub.status.busy": "2021-06-30T09:24:29.965782Z",
     "iopub.status.idle": "2021-06-30T09:24:30.054336Z",
     "shell.execute_reply": "2021-06-30T09:24:30.053909Z"
    }
   },
   "outputs": [
    {
     "data": {
      "image/svg+xml": [
       "<?xml version=\"1.0\" encoding=\"UTF-8\" standalone=\"no\"?><svg xmlns=\"http://www.w3.org/2000/svg\" xmlns:xlink=\"http://www.w3.org/1999/xlink\" contentScriptType=\"application/ecmascript\" contentStyleType=\"text/css\" height=\"263px\" preserveAspectRatio=\"none\" style=\"width:812px;height:263px;\" version=\"1.1\" viewBox=\"0 0 812 263\" width=\"812px\" zoomAndPan=\"magnify\"><defs/><g><!--MD5=[fbc87193dbaf4d95561dea2c320d4a47]\n",
       "cluster E1--><a href=\"psysml:d21f1d33-c8d8-4d7e-915c-a1dc21839292\" target=\"_top\" title=\"psysml:d21f1d33-c8d8-4d7e-915c-a1dc21839292\" xlink:actuate=\"onRequest\" xlink:href=\"psysml:d21f1d33-c8d8-4d7e-915c-a1dc21839292\" xlink:show=\"new\" xlink:title=\"psysml:d21f1d33-c8d8-4d7e-915c-a1dc21839292\" xlink:type=\"simple\"><polygon fill=\"#FFFFFF\" points=\"16,6,140,6,147,28.2969,790,28.2969,790,251,16,251,16,6\" style=\"stroke: #000000; stroke-width: 1.5;\"/><line style=\"stroke: #000000; stroke-width: 1.5;\" x1=\"16\" x2=\"147\" y1=\"28.2969\" y2=\"28.2969\"/><text fill=\"#000000\" font-family=\"sans-serif\" font-size=\"14\" font-weight=\"bold\" lengthAdjust=\"spacingAndGlyphs\" textLength=\"118\" x=\"20\" y=\"20.9951\">MultiplicityTest</text></a><!--MD5=[b4997ac47864f28c2f74865a473b2911]\n",
       "class E2--><a href=\"psysml:cfcc0fdc-4985-4a7c-8ed0-df1ec6a07f40\" target=\"_top\" title=\"psysml:cfcc0fdc-4985-4a7c-8ed0-df1ec6a07f40\" xlink:actuate=\"onRequest\" xlink:href=\"psysml:cfcc0fdc-4985-4a7c-8ed0-df1ec6a07f40\" xlink:show=\"new\" xlink:title=\"psysml:cfcc0fdc-4985-4a7c-8ed0-df1ec6a07f40\" xlink:type=\"simple\"><rect fill=\"#FFFFFF\" height=\"45.9375\" id=\"E2\" style=\"stroke: #383838; stroke-width: 1.5;\" width=\"66\" x=\"497\" y=\"189\"/><text fill=\"#000000\" font-family=\"sans-serif\" font-size=\"12\" font-style=\"italic\" lengthAdjust=\"spacingAndGlyphs\" textLength=\"64\" x=\"498\" y=\"205.1387\">«part def»</text><text fill=\"#000000\" font-family=\"sans-serif\" font-size=\"12\" lengthAdjust=\"spacingAndGlyphs\" textLength=\"8\" x=\"526\" y=\"219.1074\">P</text><line style=\"stroke: #383838; stroke-width: 1.5;\" x1=\"498\" x2=\"562\" y1=\"226.9375\" y2=\"226.9375\"/></a><!--MD5=[09b614a08d8cba4a07c9adeb5e0fee81]\n",
       "class E3--><a href=\"psysml:6504cd03-3352-435e-8e5a-44d60f096993\" target=\"_top\" title=\"psysml:6504cd03-3352-435e-8e5a-44d60f096993\" xlink:actuate=\"onRequest\" xlink:href=\"psysml:6504cd03-3352-435e-8e5a-44d60f096993\" xlink:show=\"new\" xlink:title=\"psysml:6504cd03-3352-435e-8e5a-44d60f096993\" xlink:type=\"simple\"><rect fill=\"#FFFFFF\" height=\"45.9375\" id=\"E3\" rx=\"10\" ry=\"10\" style=\"stroke: #383838; stroke-width: 1.5;\" width=\"71\" x=\"702.5\" y=\"62\"/><text fill=\"#000000\" font-family=\"sans-serif\" font-size=\"12\" font-style=\"italic\" lengthAdjust=\"spacingAndGlyphs\" textLength=\"69\" x=\"703.5\" y=\"78.1387\">«attribute»</text><text fill=\"#000000\" font-family=\"sans-serif\" font-size=\"12\" lengthAdjust=\"spacingAndGlyphs\" textLength=\"61\" x=\"707.5\" y=\"92.1074\">n: Integer</text><line style=\"stroke: #383838; stroke-width: 1.5;\" x1=\"703.5\" x2=\"772.5\" y1=\"99.9375\" y2=\"99.9375\"/></a><!--MD5=[ebbe1d658d1005bcc118a6aa81145e00]\n",
       "class E4--><a href=\"psysml:69df1372-c4de-42e4-b97b-1df20a9e4637\" target=\"_top\" title=\"psysml:69df1372-c4de-42e4-b97b-1df20a9e4637\" xlink:actuate=\"onRequest\" xlink:href=\"psysml:69df1372-c4de-42e4-b97b-1df20a9e4637\" xlink:show=\"new\" xlink:title=\"psysml:69df1372-c4de-42e4-b97b-1df20a9e4637\" xlink:type=\"simple\"><rect fill=\"#FFFFFF\" height=\"45.9375\" id=\"E4\" rx=\"10\" ry=\"10\" style=\"stroke: #383838; stroke-width: 1.5;\" width=\"42\" x=\"625\" y=\"62\"/><text fill=\"#000000\" font-family=\"sans-serif\" font-size=\"12\" font-style=\"italic\" lengthAdjust=\"spacingAndGlyphs\" textLength=\"40\" x=\"626\" y=\"78.1387\">«part»</text><text fill=\"#000000\" font-family=\"sans-serif\" font-size=\"12\" lengthAdjust=\"spacingAndGlyphs\" textLength=\"8\" x=\"642\" y=\"92.1074\">a</text><line style=\"stroke: #383838; stroke-width: 1.5;\" x1=\"626\" x2=\"666\" y1=\"99.9375\" y2=\"99.9375\"/></a><!--MD5=[270fce915f116d4de14055a7c1d9a0f3]\n",
       "class E5--><a href=\"psysml:ce135ed3-5db8-4159-aade-37d21406abf2\" target=\"_top\" title=\"psysml:ce135ed3-5db8-4159-aade-37d21406abf2\" xlink:actuate=\"onRequest\" xlink:href=\"psysml:ce135ed3-5db8-4159-aade-37d21406abf2\" xlink:show=\"new\" xlink:title=\"psysml:ce135ed3-5db8-4159-aade-37d21406abf2\" xlink:type=\"simple\"><rect fill=\"#FFFFFF\" height=\"45.9375\" id=\"E5\" rx=\"10\" ry=\"10\" style=\"stroke: #383838; stroke-width: 1.5;\" width=\"42\" x=\"548\" y=\"62\"/><text fill=\"#000000\" font-family=\"sans-serif\" font-size=\"12\" font-style=\"italic\" lengthAdjust=\"spacingAndGlyphs\" textLength=\"40\" x=\"549\" y=\"78.1387\">«part»</text><text fill=\"#000000\" font-family=\"sans-serif\" font-size=\"12\" lengthAdjust=\"spacingAndGlyphs\" textLength=\"24\" x=\"557\" y=\"92.1074\">b: P</text><line style=\"stroke: #383838; stroke-width: 1.5;\" x1=\"549\" x2=\"589\" y1=\"99.9375\" y2=\"99.9375\"/></a><!--MD5=[60a26617385b1d2d0262a64233df1f8d]\n",
       "class E6--><a href=\"psysml:7c20260d-33cb-4904-8feb-6f2059c0b9de\" target=\"_top\" title=\"psysml:7c20260d-33cb-4904-8feb-6f2059c0b9de\" xlink:actuate=\"onRequest\" xlink:href=\"psysml:7c20260d-33cb-4904-8feb-6f2059c0b9de\" xlink:show=\"new\" xlink:title=\"psysml:7c20260d-33cb-4904-8feb-6f2059c0b9de\" xlink:type=\"simple\"><rect fill=\"#FFFFFF\" height=\"45.9375\" id=\"E6\" rx=\"10\" ry=\"10\" style=\"stroke: #383838; stroke-width: 1.5;\" width=\"42\" x=\"471\" y=\"62\"/><text fill=\"#000000\" font-family=\"sans-serif\" font-size=\"12\" font-style=\"italic\" lengthAdjust=\"spacingAndGlyphs\" textLength=\"40\" x=\"472\" y=\"78.1387\">«part»</text><text fill=\"#000000\" font-family=\"sans-serif\" font-size=\"12\" lengthAdjust=\"spacingAndGlyphs\" textLength=\"23\" x=\"480.5\" y=\"92.1074\">c: P</text><line style=\"stroke: #383838; stroke-width: 1.5;\" x1=\"472\" x2=\"512\" y1=\"99.9375\" y2=\"99.9375\"/></a><!--MD5=[2156ba9850f5573cc1fc38a6a4b2f02b]\n",
       "class E7--><a href=\"psysml:a788bf26-d852-4daf-8a66-fd926f14abf3\" target=\"_top\" title=\"psysml:a788bf26-d852-4daf-8a66-fd926f14abf3\" xlink:actuate=\"onRequest\" xlink:href=\"psysml:a788bf26-d852-4daf-8a66-fd926f14abf3\" xlink:show=\"new\" xlink:title=\"psysml:a788bf26-d852-4daf-8a66-fd926f14abf3\" xlink:type=\"simple\"><rect fill=\"#FFFFFF\" height=\"45.9375\" id=\"E7\" rx=\"10\" ry=\"10\" style=\"stroke: #383838; stroke-width: 1.5;\" width=\"42\" x=\"394\" y=\"62\"/><text fill=\"#000000\" font-family=\"sans-serif\" font-size=\"12\" font-style=\"italic\" lengthAdjust=\"spacingAndGlyphs\" textLength=\"40\" x=\"395\" y=\"78.1387\">«part»</text><text fill=\"#000000\" font-family=\"sans-serif\" font-size=\"12\" lengthAdjust=\"spacingAndGlyphs\" textLength=\"8\" x=\"411\" y=\"92.1074\">d</text><line style=\"stroke: #383838; stroke-width: 1.5;\" x1=\"395\" x2=\"435\" y1=\"99.9375\" y2=\"99.9375\"/></a><!--MD5=[b9389687b975829384b498ac4b7476b2]\n",
       "class E8--><a href=\"psysml:8ca44daa-798d-42ea-8082-fded64fdb257\" target=\"_top\" title=\"psysml:8ca44daa-798d-42ea-8082-fded64fdb257\" xlink:actuate=\"onRequest\" xlink:href=\"psysml:8ca44daa-798d-42ea-8082-fded64fdb257\" xlink:show=\"new\" xlink:title=\"psysml:8ca44daa-798d-42ea-8082-fded64fdb257\" xlink:type=\"simple\"><rect fill=\"#FFFFFF\" height=\"45.9375\" id=\"E8\" rx=\"10\" ry=\"10\" style=\"stroke: #383838; stroke-width: 1.5;\" width=\"42\" x=\"317\" y=\"62\"/><text fill=\"#000000\" font-family=\"sans-serif\" font-size=\"12\" font-style=\"italic\" lengthAdjust=\"spacingAndGlyphs\" textLength=\"40\" x=\"318\" y=\"78.1387\">«part»</text><text fill=\"#000000\" font-family=\"sans-serif\" font-size=\"12\" lengthAdjust=\"spacingAndGlyphs\" textLength=\"8\" x=\"334\" y=\"92.1074\">e</text><line style=\"stroke: #383838; stroke-width: 1.5;\" x1=\"318\" x2=\"358\" y1=\"99.9375\" y2=\"99.9375\"/></a><!--MD5=[fd4143e9d270a159db93a4ea2a975926]\n",
       "class E9--><a href=\"psysml:94368454-840d-4091-abdb-e19ae5322c54\" target=\"_top\" title=\"psysml:94368454-840d-4091-abdb-e19ae5322c54\" xlink:actuate=\"onRequest\" xlink:href=\"psysml:94368454-840d-4091-abdb-e19ae5322c54\" xlink:show=\"new\" xlink:title=\"psysml:94368454-840d-4091-abdb-e19ae5322c54\" xlink:type=\"simple\"><rect fill=\"#FFFFFF\" height=\"45.9375\" id=\"E9\" rx=\"10\" ry=\"10\" style=\"stroke: #383838; stroke-width: 1.5;\" width=\"42\" x=\"240\" y=\"62\"/><text fill=\"#000000\" font-family=\"sans-serif\" font-size=\"12\" font-style=\"italic\" lengthAdjust=\"spacingAndGlyphs\" textLength=\"40\" x=\"241\" y=\"78.1387\">«part»</text><text fill=\"#000000\" font-family=\"sans-serif\" font-size=\"12\" lengthAdjust=\"spacingAndGlyphs\" textLength=\"4\" x=\"259\" y=\"92.1074\">f</text><line style=\"stroke: #383838; stroke-width: 1.5;\" x1=\"241\" x2=\"281\" y1=\"99.9375\" y2=\"99.9375\"/></a><!--MD5=[96f4274e9e20536e775497830990834d]\n",
       "class E10--><a href=\"psysml:8f8b3cba-ab00-4478-b69f-246a2e072be5\" target=\"_top\" title=\"psysml:8f8b3cba-ab00-4478-b69f-246a2e072be5\" xlink:actuate=\"onRequest\" xlink:href=\"psysml:8f8b3cba-ab00-4478-b69f-246a2e072be5\" xlink:show=\"new\" xlink:title=\"psysml:8f8b3cba-ab00-4478-b69f-246a2e072be5\" xlink:type=\"simple\"><rect fill=\"#FFFFFF\" height=\"45.9375\" id=\"E10\" rx=\"10\" ry=\"10\" style=\"stroke: #383838; stroke-width: 1.5;\" width=\"42\" x=\"163\" y=\"62\"/><text fill=\"#000000\" font-family=\"sans-serif\" font-size=\"12\" font-style=\"italic\" lengthAdjust=\"spacingAndGlyphs\" textLength=\"40\" x=\"164\" y=\"78.1387\">«part»</text><text fill=\"#000000\" font-family=\"sans-serif\" font-size=\"12\" lengthAdjust=\"spacingAndGlyphs\" textLength=\"8\" x=\"180\" y=\"92.1074\">g</text><line style=\"stroke: #383838; stroke-width: 1.5;\" x1=\"164\" x2=\"204\" y1=\"99.9375\" y2=\"99.9375\"/></a><!--MD5=[1dd1bfd58a279cf63c5f349dbc8fc6a1]\n",
       "class E11--><a href=\"psysml:2c45c451-c8b5-4e48-8592-55fa30d535c5\" target=\"_top\" title=\"psysml:2c45c451-c8b5-4e48-8592-55fa30d535c5\" xlink:actuate=\"onRequest\" xlink:href=\"psysml:2c45c451-c8b5-4e48-8592-55fa30d535c5\" xlink:show=\"new\" xlink:title=\"psysml:2c45c451-c8b5-4e48-8592-55fa30d535c5\" xlink:type=\"simple\"><rect fill=\"#FFFFFF\" height=\"88.3516\" id=\"E11\" style=\"stroke: #383838; stroke-width: 1.5;\" width=\"95\" x=\"32.5\" y=\"41\"/><text fill=\"#000000\" font-family=\"sans-serif\" font-size=\"12\" font-style=\"italic\" lengthAdjust=\"spacingAndGlyphs\" textLength=\"93\" x=\"33.5\" y=\"57.1387\">«attribute def»</text><text fill=\"#000000\" font-family=\"sans-serif\" font-size=\"12\" lengthAdjust=\"spacingAndGlyphs\" textLength=\"8\" x=\"76\" y=\"71.1074\">A</text><line style=\"stroke: #383838; stroke-width: 1.5;\" x1=\"33.5\" x2=\"126.5\" y1=\"78.9375\" y2=\"78.9375\"/><text fill=\"#000000\" font-family=\"sans-serif\" font-size=\"11\" lengthAdjust=\"spacingAndGlyphs\" textLength=\"51\" x=\"38.5\" y=\"109.9526\">i: Integer</text><text fill=\"#000000\" font-family=\"sans-serif\" font-size=\"11\" lengthAdjust=\"spacingAndGlyphs\" textLength=\"21\" x=\"38.5\" y=\"122.7573\">x: A</text><line style=\"stroke: #383838; stroke-width: 1.0;\" x1=\"33.5\" x2=\"52.5\" y1=\"93.3398\" y2=\"93.3398\"/><text fill=\"#000000\" font-family=\"sans-serif\" font-size=\"11\" lengthAdjust=\"spacingAndGlyphs\" textLength=\"55\" x=\"52.5\" y=\"96.6479\">attributes</text><line style=\"stroke: #383838; stroke-width: 1.0;\" x1=\"107.5\" x2=\"126.5\" y1=\"93.3398\" y2=\"93.3398\"/></a><!--MD5=[15ebcb19ae302d9b601edb458606d402]\n",
       "link E5 to E2--><a href=\"psysml:99c2055f-0301-4891-b65d-9e517e6365b1\" target=\"_top\" title=\"psysml:99c2055f-0301-4891-b65d-9e517e6365b1\" xlink:actuate=\"onRequest\" xlink:href=\"psysml:99c2055f-0301-4891-b65d-9e517e6365b1\" xlink:show=\"new\" xlink:title=\"psysml:99c2055f-0301-4891-b65d-9e517e6365b1\" xlink:type=\"simple\"><path d=\"M562.12,108.06 C556.83,125 549.38,148.89 542.98,169.39 \" fill=\"none\" id=\"E5-&gt;E2\" style=\"stroke: #383838; stroke-width: 1.0;\"/><polygon fill=\"#FFFFFF\" points=\"536.95,188.74,535.929,168.5173,549.2931,172.6886,536.95,188.74\" style=\"stroke: #383838; stroke-width: 1.0;\"/><ellipse cx=\"539.5364\" cy=\"163.6721\" fill=\"#383838\" rx=\"2\" ry=\"2\" style=\"stroke: #383838; stroke-width: 1.0;\"/><ellipse cx=\"549.0823\" cy=\"166.6516\" fill=\"#383838\" rx=\"2\" ry=\"2\" style=\"stroke: #383838; stroke-width: 1.0;\"/></a><!--MD5=[2351f337d6de0f557b50152ba70847b5]\n",
       "link E6 to E2--><a href=\"psysml:035f6493-28ba-4968-b761-0ab46a395f55\" target=\"_top\" title=\"psysml:035f6493-28ba-4968-b761-0ab46a395f55\" xlink:actuate=\"onRequest\" xlink:href=\"psysml:035f6493-28ba-4968-b761-0ab46a395f55\" xlink:show=\"new\" xlink:title=\"psysml:035f6493-28ba-4968-b761-0ab46a395f55\" xlink:type=\"simple\"><path d=\"M498.71,108.06 C503.86,125 511.12,148.89 517.35,169.39 \" fill=\"none\" id=\"E6-&gt;E2\" style=\"stroke: #383838; stroke-width: 1.0;\"/><polygon fill=\"#FFFFFF\" points=\"523.23,188.74,511.007,172.597,524.4019,168.5255,523.23,188.74\" style=\"stroke: #383838; stroke-width: 1.0;\"/><ellipse cx=\"511.2628\" cy=\"166.5617\" fill=\"#383838\" rx=\"2\" ry=\"2\" style=\"stroke: #383838; stroke-width: 1.0;\"/><ellipse cx=\"520.8306\" cy=\"163.6535\" fill=\"#383838\" rx=\"2\" ry=\"2\" style=\"stroke: #383838; stroke-width: 1.0;\"/></a><!--MD5=[c501701a7da642442a7783a179883a46]\n",
       "@startuml\r\n",
       " skinparam monochrome true\r\n",
       "skinparam classbackgroundcolor white\r\n",
       "skinparam shadowing false\r\n",
       "skinparam wrapWidth 300\r\n",
       "hide circle\r\n",
       "\r\n",
       "package \"MultiplicityTest\" as E1  [[psysml:d21f1d33-c8d8-4d7e-915c-a1dc21839292 ]]  {\r\n",
       "comp def \"P\" as E2  <<(T,blue) part def>> [[psysml:cfcc0fdc-4985-4a7c-8ed0-df1ec6a07f40 ]] {\r\n",
       "}\r\n",
       "comp usage \"n: Integer\" as E3  <<(T,blue) attribute>> [[psysml:6504cd03-3352-435e-8e5a-44d60f096993 ]] {\r\n",
       "}\r\n",
       "comp usage \"a\" as E4  <<(T,blue) part>> [[psysml:69df1372-c4de-42e4-b97b-1df20a9e4637 ]] {\r\n",
       "}\r\n",
       "comp usage \"b: P\" as E5  <<(T,blue) part>> [[psysml:ce135ed3-5db8-4159-aade-37d21406abf2 ]] {\r\n",
       "}\r\n",
       "comp usage \"c: P\" as E6  <<(T,blue) part>> [[psysml:7c20260d-33cb-4904-8feb-6f2059c0b9de ]] {\r\n",
       "}\r\n",
       "comp usage \"d\" as E7  <<(T,blue) part>> [[psysml:a788bf26-d852-4daf-8a66-fd926f14abf3 ]] {\r\n",
       "}\r\n",
       "comp usage \"e\" as E8  <<(T,blue) part>> [[psysml:8ca44daa-798d-42ea-8082-fded64fdb257 ]] {\r\n",
       "}\r\n",
       "comp usage \"f\" as E9  <<(T,blue) part>> [[psysml:94368454-840d-4091-abdb-e19ae5322c54 ]] {\r\n",
       "}\r\n",
       "comp usage \"g\" as E10  <<(T,blue) part>> [[psysml:8f8b3cba-ab00-4478-b69f-246a2e072be5 ]] {\r\n",
       "}\r\n",
       "comp def \"A\" as E11  <<(T,blue) attribute def>> [[psysml:2c45c451-c8b5-4e48-8592-55fa30d535c5 ]] {\r\n",
       "- - attributes - -\r\n",
       "i: Integer\r\n",
       "x: A\r\n",
       "}\r\n",
       "E5 - -:|> E2 [[psysml:99c2055f-0301-4891-b65d-9e517e6365b1 ]] \r\n",
       "E6 - -:|> E2 [[psysml:035f6493-28ba-4968-b761-0ab46a395f55 ]] \r\n",
       "}\r\n",
       "@enduml\r\n",
       "\n",
       "PlantUML version 1.2020.13(Sat Jun 13 12:26:38 UTC 2020)\n",
       "(EPL source distribution)\n",
       "Java Runtime: OpenJDK Runtime Environment\n",
       "JVM: OpenJDK 64-Bit Server VM\n",
       "Default Encoding: UTF-8\n",
       "Language: en\n",
       "Country: null\n",
       "--></g></svg>"
      ]
     },
     "execution_count": 7,
     "metadata": {},
     "output_type": "execute_result"
    }
   ],
   "source": [
    "%viz --style=\"COMPTREE\" --view=\"Sequence\" \"MultiplicityTest\""
   ]
  },
  {
   "cell_type": "code",
   "execution_count": 8,
   "id": "c442b5a7",
   "metadata": {
    "execution": {
     "iopub.execute_input": "2021-06-30T09:24:30.110056Z",
     "iopub.status.busy": "2021-06-30T09:24:30.109624Z",
     "iopub.status.idle": "2021-06-30T09:24:30.197014Z",
     "shell.execute_reply": "2021-06-30T09:24:30.195266Z"
    }
   },
   "outputs": [
    {
     "data": {
      "image/svg+xml": [
       "<?xml version=\"1.0\" encoding=\"UTF-8\" standalone=\"no\"?><svg xmlns=\"http://www.w3.org/2000/svg\" xmlns:xlink=\"http://www.w3.org/1999/xlink\" contentScriptType=\"application/ecmascript\" contentStyleType=\"text/css\" height=\"263px\" preserveAspectRatio=\"none\" style=\"width:812px;height:263px;\" version=\"1.1\" viewBox=\"0 0 812 263\" width=\"812px\" zoomAndPan=\"magnify\"><defs/><g><!--MD5=[fbc87193dbaf4d95561dea2c320d4a47]\n",
       "cluster E1--><a href=\"psysml:d21f1d33-c8d8-4d7e-915c-a1dc21839292\" target=\"_top\" title=\"psysml:d21f1d33-c8d8-4d7e-915c-a1dc21839292\" xlink:actuate=\"onRequest\" xlink:href=\"psysml:d21f1d33-c8d8-4d7e-915c-a1dc21839292\" xlink:show=\"new\" xlink:title=\"psysml:d21f1d33-c8d8-4d7e-915c-a1dc21839292\" xlink:type=\"simple\"><polygon fill=\"#FFFFFF\" points=\"16,6,140,6,147,28.2969,790,28.2969,790,251,16,251,16,6\" style=\"stroke: #000000; stroke-width: 1.5;\"/><line style=\"stroke: #000000; stroke-width: 1.5;\" x1=\"16\" x2=\"147\" y1=\"28.2969\" y2=\"28.2969\"/><text fill=\"#000000\" font-family=\"sans-serif\" font-size=\"14\" font-weight=\"bold\" lengthAdjust=\"spacingAndGlyphs\" textLength=\"118\" x=\"20\" y=\"20.9951\">MultiplicityTest</text></a><!--MD5=[b4997ac47864f28c2f74865a473b2911]\n",
       "class E2--><a href=\"psysml:cfcc0fdc-4985-4a7c-8ed0-df1ec6a07f40\" target=\"_top\" title=\"psysml:cfcc0fdc-4985-4a7c-8ed0-df1ec6a07f40\" xlink:actuate=\"onRequest\" xlink:href=\"psysml:cfcc0fdc-4985-4a7c-8ed0-df1ec6a07f40\" xlink:show=\"new\" xlink:title=\"psysml:cfcc0fdc-4985-4a7c-8ed0-df1ec6a07f40\" xlink:type=\"simple\"><rect fill=\"#FFFFFF\" height=\"45.9375\" id=\"E2\" style=\"stroke: #383838; stroke-width: 1.5;\" width=\"66\" x=\"497\" y=\"189\"/><text fill=\"#000000\" font-family=\"sans-serif\" font-size=\"12\" font-style=\"italic\" lengthAdjust=\"spacingAndGlyphs\" textLength=\"64\" x=\"498\" y=\"205.1387\">«part def»</text><text fill=\"#000000\" font-family=\"sans-serif\" font-size=\"12\" lengthAdjust=\"spacingAndGlyphs\" textLength=\"8\" x=\"526\" y=\"219.1074\">P</text><line style=\"stroke: #383838; stroke-width: 1.5;\" x1=\"498\" x2=\"562\" y1=\"226.9375\" y2=\"226.9375\"/></a><!--MD5=[09b614a08d8cba4a07c9adeb5e0fee81]\n",
       "class E3--><a href=\"psysml:6504cd03-3352-435e-8e5a-44d60f096993\" target=\"_top\" title=\"psysml:6504cd03-3352-435e-8e5a-44d60f096993\" xlink:actuate=\"onRequest\" xlink:href=\"psysml:6504cd03-3352-435e-8e5a-44d60f096993\" xlink:show=\"new\" xlink:title=\"psysml:6504cd03-3352-435e-8e5a-44d60f096993\" xlink:type=\"simple\"><rect fill=\"#FFFFFF\" height=\"45.9375\" id=\"E3\" rx=\"10\" ry=\"10\" style=\"stroke: #383838; stroke-width: 1.5;\" width=\"71\" x=\"702.5\" y=\"62\"/><text fill=\"#000000\" font-family=\"sans-serif\" font-size=\"12\" font-style=\"italic\" lengthAdjust=\"spacingAndGlyphs\" textLength=\"69\" x=\"703.5\" y=\"78.1387\">«attribute»</text><text fill=\"#000000\" font-family=\"sans-serif\" font-size=\"12\" lengthAdjust=\"spacingAndGlyphs\" textLength=\"61\" x=\"707.5\" y=\"92.1074\">n: Integer</text><line style=\"stroke: #383838; stroke-width: 1.5;\" x1=\"703.5\" x2=\"772.5\" y1=\"99.9375\" y2=\"99.9375\"/></a><!--MD5=[ebbe1d658d1005bcc118a6aa81145e00]\n",
       "class E4--><a href=\"psysml:69df1372-c4de-42e4-b97b-1df20a9e4637\" target=\"_top\" title=\"psysml:69df1372-c4de-42e4-b97b-1df20a9e4637\" xlink:actuate=\"onRequest\" xlink:href=\"psysml:69df1372-c4de-42e4-b97b-1df20a9e4637\" xlink:show=\"new\" xlink:title=\"psysml:69df1372-c4de-42e4-b97b-1df20a9e4637\" xlink:type=\"simple\"><rect fill=\"#FFFFFF\" height=\"45.9375\" id=\"E4\" rx=\"10\" ry=\"10\" style=\"stroke: #383838; stroke-width: 1.5;\" width=\"42\" x=\"625\" y=\"62\"/><text fill=\"#000000\" font-family=\"sans-serif\" font-size=\"12\" font-style=\"italic\" lengthAdjust=\"spacingAndGlyphs\" textLength=\"40\" x=\"626\" y=\"78.1387\">«part»</text><text fill=\"#000000\" font-family=\"sans-serif\" font-size=\"12\" lengthAdjust=\"spacingAndGlyphs\" textLength=\"8\" x=\"642\" y=\"92.1074\">a</text><line style=\"stroke: #383838; stroke-width: 1.5;\" x1=\"626\" x2=\"666\" y1=\"99.9375\" y2=\"99.9375\"/></a><!--MD5=[270fce915f116d4de14055a7c1d9a0f3]\n",
       "class E5--><a href=\"psysml:ce135ed3-5db8-4159-aade-37d21406abf2\" target=\"_top\" title=\"psysml:ce135ed3-5db8-4159-aade-37d21406abf2\" xlink:actuate=\"onRequest\" xlink:href=\"psysml:ce135ed3-5db8-4159-aade-37d21406abf2\" xlink:show=\"new\" xlink:title=\"psysml:ce135ed3-5db8-4159-aade-37d21406abf2\" xlink:type=\"simple\"><rect fill=\"#FFFFFF\" height=\"45.9375\" id=\"E5\" rx=\"10\" ry=\"10\" style=\"stroke: #383838; stroke-width: 1.5;\" width=\"42\" x=\"548\" y=\"62\"/><text fill=\"#000000\" font-family=\"sans-serif\" font-size=\"12\" font-style=\"italic\" lengthAdjust=\"spacingAndGlyphs\" textLength=\"40\" x=\"549\" y=\"78.1387\">«part»</text><text fill=\"#000000\" font-family=\"sans-serif\" font-size=\"12\" lengthAdjust=\"spacingAndGlyphs\" textLength=\"24\" x=\"557\" y=\"92.1074\">b: P</text><line style=\"stroke: #383838; stroke-width: 1.5;\" x1=\"549\" x2=\"589\" y1=\"99.9375\" y2=\"99.9375\"/></a><!--MD5=[60a26617385b1d2d0262a64233df1f8d]\n",
       "class E6--><a href=\"psysml:7c20260d-33cb-4904-8feb-6f2059c0b9de\" target=\"_top\" title=\"psysml:7c20260d-33cb-4904-8feb-6f2059c0b9de\" xlink:actuate=\"onRequest\" xlink:href=\"psysml:7c20260d-33cb-4904-8feb-6f2059c0b9de\" xlink:show=\"new\" xlink:title=\"psysml:7c20260d-33cb-4904-8feb-6f2059c0b9de\" xlink:type=\"simple\"><rect fill=\"#FFFFFF\" height=\"45.9375\" id=\"E6\" rx=\"10\" ry=\"10\" style=\"stroke: #383838; stroke-width: 1.5;\" width=\"42\" x=\"471\" y=\"62\"/><text fill=\"#000000\" font-family=\"sans-serif\" font-size=\"12\" font-style=\"italic\" lengthAdjust=\"spacingAndGlyphs\" textLength=\"40\" x=\"472\" y=\"78.1387\">«part»</text><text fill=\"#000000\" font-family=\"sans-serif\" font-size=\"12\" lengthAdjust=\"spacingAndGlyphs\" textLength=\"23\" x=\"480.5\" y=\"92.1074\">c: P</text><line style=\"stroke: #383838; stroke-width: 1.5;\" x1=\"472\" x2=\"512\" y1=\"99.9375\" y2=\"99.9375\"/></a><!--MD5=[2156ba9850f5573cc1fc38a6a4b2f02b]\n",
       "class E7--><a href=\"psysml:a788bf26-d852-4daf-8a66-fd926f14abf3\" target=\"_top\" title=\"psysml:a788bf26-d852-4daf-8a66-fd926f14abf3\" xlink:actuate=\"onRequest\" xlink:href=\"psysml:a788bf26-d852-4daf-8a66-fd926f14abf3\" xlink:show=\"new\" xlink:title=\"psysml:a788bf26-d852-4daf-8a66-fd926f14abf3\" xlink:type=\"simple\"><rect fill=\"#FFFFFF\" height=\"45.9375\" id=\"E7\" rx=\"10\" ry=\"10\" style=\"stroke: #383838; stroke-width: 1.5;\" width=\"42\" x=\"394\" y=\"62\"/><text fill=\"#000000\" font-family=\"sans-serif\" font-size=\"12\" font-style=\"italic\" lengthAdjust=\"spacingAndGlyphs\" textLength=\"40\" x=\"395\" y=\"78.1387\">«part»</text><text fill=\"#000000\" font-family=\"sans-serif\" font-size=\"12\" lengthAdjust=\"spacingAndGlyphs\" textLength=\"8\" x=\"411\" y=\"92.1074\">d</text><line style=\"stroke: #383838; stroke-width: 1.5;\" x1=\"395\" x2=\"435\" y1=\"99.9375\" y2=\"99.9375\"/></a><!--MD5=[b9389687b975829384b498ac4b7476b2]\n",
       "class E8--><a href=\"psysml:8ca44daa-798d-42ea-8082-fded64fdb257\" target=\"_top\" title=\"psysml:8ca44daa-798d-42ea-8082-fded64fdb257\" xlink:actuate=\"onRequest\" xlink:href=\"psysml:8ca44daa-798d-42ea-8082-fded64fdb257\" xlink:show=\"new\" xlink:title=\"psysml:8ca44daa-798d-42ea-8082-fded64fdb257\" xlink:type=\"simple\"><rect fill=\"#FFFFFF\" height=\"45.9375\" id=\"E8\" rx=\"10\" ry=\"10\" style=\"stroke: #383838; stroke-width: 1.5;\" width=\"42\" x=\"317\" y=\"62\"/><text fill=\"#000000\" font-family=\"sans-serif\" font-size=\"12\" font-style=\"italic\" lengthAdjust=\"spacingAndGlyphs\" textLength=\"40\" x=\"318\" y=\"78.1387\">«part»</text><text fill=\"#000000\" font-family=\"sans-serif\" font-size=\"12\" lengthAdjust=\"spacingAndGlyphs\" textLength=\"8\" x=\"334\" y=\"92.1074\">e</text><line style=\"stroke: #383838; stroke-width: 1.5;\" x1=\"318\" x2=\"358\" y1=\"99.9375\" y2=\"99.9375\"/></a><!--MD5=[fd4143e9d270a159db93a4ea2a975926]\n",
       "class E9--><a href=\"psysml:94368454-840d-4091-abdb-e19ae5322c54\" target=\"_top\" title=\"psysml:94368454-840d-4091-abdb-e19ae5322c54\" xlink:actuate=\"onRequest\" xlink:href=\"psysml:94368454-840d-4091-abdb-e19ae5322c54\" xlink:show=\"new\" xlink:title=\"psysml:94368454-840d-4091-abdb-e19ae5322c54\" xlink:type=\"simple\"><rect fill=\"#FFFFFF\" height=\"45.9375\" id=\"E9\" rx=\"10\" ry=\"10\" style=\"stroke: #383838; stroke-width: 1.5;\" width=\"42\" x=\"240\" y=\"62\"/><text fill=\"#000000\" font-family=\"sans-serif\" font-size=\"12\" font-style=\"italic\" lengthAdjust=\"spacingAndGlyphs\" textLength=\"40\" x=\"241\" y=\"78.1387\">«part»</text><text fill=\"#000000\" font-family=\"sans-serif\" font-size=\"12\" lengthAdjust=\"spacingAndGlyphs\" textLength=\"4\" x=\"259\" y=\"92.1074\">f</text><line style=\"stroke: #383838; stroke-width: 1.5;\" x1=\"241\" x2=\"281\" y1=\"99.9375\" y2=\"99.9375\"/></a><!--MD5=[96f4274e9e20536e775497830990834d]\n",
       "class E10--><a href=\"psysml:8f8b3cba-ab00-4478-b69f-246a2e072be5\" target=\"_top\" title=\"psysml:8f8b3cba-ab00-4478-b69f-246a2e072be5\" xlink:actuate=\"onRequest\" xlink:href=\"psysml:8f8b3cba-ab00-4478-b69f-246a2e072be5\" xlink:show=\"new\" xlink:title=\"psysml:8f8b3cba-ab00-4478-b69f-246a2e072be5\" xlink:type=\"simple\"><rect fill=\"#FFFFFF\" height=\"45.9375\" id=\"E10\" rx=\"10\" ry=\"10\" style=\"stroke: #383838; stroke-width: 1.5;\" width=\"42\" x=\"163\" y=\"62\"/><text fill=\"#000000\" font-family=\"sans-serif\" font-size=\"12\" font-style=\"italic\" lengthAdjust=\"spacingAndGlyphs\" textLength=\"40\" x=\"164\" y=\"78.1387\">«part»</text><text fill=\"#000000\" font-family=\"sans-serif\" font-size=\"12\" lengthAdjust=\"spacingAndGlyphs\" textLength=\"8\" x=\"180\" y=\"92.1074\">g</text><line style=\"stroke: #383838; stroke-width: 1.5;\" x1=\"164\" x2=\"204\" y1=\"99.9375\" y2=\"99.9375\"/></a><!--MD5=[1dd1bfd58a279cf63c5f349dbc8fc6a1]\n",
       "class E11--><a href=\"psysml:2c45c451-c8b5-4e48-8592-55fa30d535c5\" target=\"_top\" title=\"psysml:2c45c451-c8b5-4e48-8592-55fa30d535c5\" xlink:actuate=\"onRequest\" xlink:href=\"psysml:2c45c451-c8b5-4e48-8592-55fa30d535c5\" xlink:show=\"new\" xlink:title=\"psysml:2c45c451-c8b5-4e48-8592-55fa30d535c5\" xlink:type=\"simple\"><rect fill=\"#FFFFFF\" height=\"88.3516\" id=\"E11\" style=\"stroke: #383838; stroke-width: 1.5;\" width=\"95\" x=\"32.5\" y=\"41\"/><text fill=\"#000000\" font-family=\"sans-serif\" font-size=\"12\" font-style=\"italic\" lengthAdjust=\"spacingAndGlyphs\" textLength=\"93\" x=\"33.5\" y=\"57.1387\">«attribute def»</text><text fill=\"#000000\" font-family=\"sans-serif\" font-size=\"12\" lengthAdjust=\"spacingAndGlyphs\" textLength=\"8\" x=\"76\" y=\"71.1074\">A</text><line style=\"stroke: #383838; stroke-width: 1.5;\" x1=\"33.5\" x2=\"126.5\" y1=\"78.9375\" y2=\"78.9375\"/><text fill=\"#000000\" font-family=\"sans-serif\" font-size=\"11\" lengthAdjust=\"spacingAndGlyphs\" textLength=\"51\" x=\"38.5\" y=\"109.9526\">i: Integer</text><text fill=\"#000000\" font-family=\"sans-serif\" font-size=\"11\" lengthAdjust=\"spacingAndGlyphs\" textLength=\"21\" x=\"38.5\" y=\"122.7573\">x: A</text><line style=\"stroke: #383838; stroke-width: 1.0;\" x1=\"33.5\" x2=\"52.5\" y1=\"93.3398\" y2=\"93.3398\"/><text fill=\"#000000\" font-family=\"sans-serif\" font-size=\"11\" lengthAdjust=\"spacingAndGlyphs\" textLength=\"55\" x=\"52.5\" y=\"96.6479\">attributes</text><line style=\"stroke: #383838; stroke-width: 1.0;\" x1=\"107.5\" x2=\"126.5\" y1=\"93.3398\" y2=\"93.3398\"/></a><!--MD5=[15ebcb19ae302d9b601edb458606d402]\n",
       "link E5 to E2--><a href=\"psysml:99c2055f-0301-4891-b65d-9e517e6365b1\" target=\"_top\" title=\"psysml:99c2055f-0301-4891-b65d-9e517e6365b1\" xlink:actuate=\"onRequest\" xlink:href=\"psysml:99c2055f-0301-4891-b65d-9e517e6365b1\" xlink:show=\"new\" xlink:title=\"psysml:99c2055f-0301-4891-b65d-9e517e6365b1\" xlink:type=\"simple\"><path d=\"M562.12,108.06 C556.83,125 549.38,148.89 542.98,169.39 \" fill=\"none\" id=\"E5-&gt;E2\" style=\"stroke: #383838; stroke-width: 1.0;\"/><polygon fill=\"#FFFFFF\" points=\"536.95,188.74,535.929,168.5173,549.2931,172.6886,536.95,188.74\" style=\"stroke: #383838; stroke-width: 1.0;\"/><ellipse cx=\"539.5364\" cy=\"163.6721\" fill=\"#383838\" rx=\"2\" ry=\"2\" style=\"stroke: #383838; stroke-width: 1.0;\"/><ellipse cx=\"549.0823\" cy=\"166.6516\" fill=\"#383838\" rx=\"2\" ry=\"2\" style=\"stroke: #383838; stroke-width: 1.0;\"/></a><!--MD5=[2351f337d6de0f557b50152ba70847b5]\n",
       "link E6 to E2--><a href=\"psysml:035f6493-28ba-4968-b761-0ab46a395f55\" target=\"_top\" title=\"psysml:035f6493-28ba-4968-b761-0ab46a395f55\" xlink:actuate=\"onRequest\" xlink:href=\"psysml:035f6493-28ba-4968-b761-0ab46a395f55\" xlink:show=\"new\" xlink:title=\"psysml:035f6493-28ba-4968-b761-0ab46a395f55\" xlink:type=\"simple\"><path d=\"M498.71,108.06 C503.86,125 511.12,148.89 517.35,169.39 \" fill=\"none\" id=\"E6-&gt;E2\" style=\"stroke: #383838; stroke-width: 1.0;\"/><polygon fill=\"#FFFFFF\" points=\"523.23,188.74,511.007,172.597,524.4019,168.5255,523.23,188.74\" style=\"stroke: #383838; stroke-width: 1.0;\"/><ellipse cx=\"511.2628\" cy=\"166.5617\" fill=\"#383838\" rx=\"2\" ry=\"2\" style=\"stroke: #383838; stroke-width: 1.0;\"/><ellipse cx=\"520.8306\" cy=\"163.6535\" fill=\"#383838\" rx=\"2\" ry=\"2\" style=\"stroke: #383838; stroke-width: 1.0;\"/></a><!--MD5=[c501701a7da642442a7783a179883a46]\n",
       "@startuml\r\n",
       " skinparam monochrome true\r\n",
       "skinparam classbackgroundcolor white\r\n",
       "skinparam shadowing false\r\n",
       "skinparam wrapWidth 300\r\n",
       "hide circle\r\n",
       "\r\n",
       "package \"MultiplicityTest\" as E1  [[psysml:d21f1d33-c8d8-4d7e-915c-a1dc21839292 ]]  {\r\n",
       "comp def \"P\" as E2  <<(T,blue) part def>> [[psysml:cfcc0fdc-4985-4a7c-8ed0-df1ec6a07f40 ]] {\r\n",
       "}\r\n",
       "comp usage \"n: Integer\" as E3  <<(T,blue) attribute>> [[psysml:6504cd03-3352-435e-8e5a-44d60f096993 ]] {\r\n",
       "}\r\n",
       "comp usage \"a\" as E4  <<(T,blue) part>> [[psysml:69df1372-c4de-42e4-b97b-1df20a9e4637 ]] {\r\n",
       "}\r\n",
       "comp usage \"b: P\" as E5  <<(T,blue) part>> [[psysml:ce135ed3-5db8-4159-aade-37d21406abf2 ]] {\r\n",
       "}\r\n",
       "comp usage \"c: P\" as E6  <<(T,blue) part>> [[psysml:7c20260d-33cb-4904-8feb-6f2059c0b9de ]] {\r\n",
       "}\r\n",
       "comp usage \"d\" as E7  <<(T,blue) part>> [[psysml:a788bf26-d852-4daf-8a66-fd926f14abf3 ]] {\r\n",
       "}\r\n",
       "comp usage \"e\" as E8  <<(T,blue) part>> [[psysml:8ca44daa-798d-42ea-8082-fded64fdb257 ]] {\r\n",
       "}\r\n",
       "comp usage \"f\" as E9  <<(T,blue) part>> [[psysml:94368454-840d-4091-abdb-e19ae5322c54 ]] {\r\n",
       "}\r\n",
       "comp usage \"g\" as E10  <<(T,blue) part>> [[psysml:8f8b3cba-ab00-4478-b69f-246a2e072be5 ]] {\r\n",
       "}\r\n",
       "comp def \"A\" as E11  <<(T,blue) attribute def>> [[psysml:2c45c451-c8b5-4e48-8592-55fa30d535c5 ]] {\r\n",
       "- - attributes - -\r\n",
       "i: Integer\r\n",
       "x: A\r\n",
       "}\r\n",
       "E5 - -:|> E2 [[psysml:99c2055f-0301-4891-b65d-9e517e6365b1 ]] \r\n",
       "E6 - -:|> E2 [[psysml:035f6493-28ba-4968-b761-0ab46a395f55 ]] \r\n",
       "}\r\n",
       "@enduml\r\n",
       "\n",
       "PlantUML version 1.2020.13(Sat Jun 13 12:26:38 UTC 2020)\n",
       "(EPL source distribution)\n",
       "Java Runtime: OpenJDK Runtime Environment\n",
       "JVM: OpenJDK 64-Bit Server VM\n",
       "Default Encoding: UTF-8\n",
       "Language: en\n",
       "Country: null\n",
       "--></g></svg>"
      ]
     },
     "execution_count": 8,
     "metadata": {},
     "output_type": "execute_result"
    }
   ],
   "source": [
    "%viz --style=\"COMPTREE\" --view=\"MIXED\" \"MultiplicityTest\""
   ]
  },
  {
   "cell_type": "code",
   "execution_count": 9,
   "id": "006af466",
   "metadata": {
    "execution": {
     "iopub.execute_input": "2021-06-30T09:24:30.249659Z",
     "iopub.status.busy": "2021-06-30T09:24:30.248875Z",
     "iopub.status.idle": "2021-06-30T09:24:30.319314Z",
     "shell.execute_reply": "2021-06-30T09:24:30.318954Z"
    }
   },
   "outputs": [
    {
     "data": {
      "image/svg+xml": [
       "<?xml version=\"1.0\" encoding=\"UTF-8\" standalone=\"no\"?><svg xmlns=\"http://www.w3.org/2000/svg\" xmlns:xlink=\"http://www.w3.org/1999/xlink\" contentScriptType=\"application/ecmascript\" contentStyleType=\"text/css\" height=\"263px\" preserveAspectRatio=\"none\" style=\"width:812px;height:263px;\" version=\"1.1\" viewBox=\"0 0 812 263\" width=\"812px\" zoomAndPan=\"magnify\"><defs/><g><!--MD5=[fbc87193dbaf4d95561dea2c320d4a47]\n",
       "cluster E1--><a href=\"psysml:d21f1d33-c8d8-4d7e-915c-a1dc21839292\" target=\"_top\" title=\"psysml:d21f1d33-c8d8-4d7e-915c-a1dc21839292\" xlink:actuate=\"onRequest\" xlink:href=\"psysml:d21f1d33-c8d8-4d7e-915c-a1dc21839292\" xlink:show=\"new\" xlink:title=\"psysml:d21f1d33-c8d8-4d7e-915c-a1dc21839292\" xlink:type=\"simple\"><polygon fill=\"#FFFFFF\" points=\"16,6,140,6,147,28.2969,790,28.2969,790,251,16,251,16,6\" style=\"stroke: #000000; stroke-width: 1.5;\"/><line style=\"stroke: #000000; stroke-width: 1.5;\" x1=\"16\" x2=\"147\" y1=\"28.2969\" y2=\"28.2969\"/><text fill=\"#000000\" font-family=\"sans-serif\" font-size=\"14\" font-weight=\"bold\" lengthAdjust=\"spacingAndGlyphs\" textLength=\"118\" x=\"20\" y=\"20.9951\">MultiplicityTest</text></a><!--MD5=[b4997ac47864f28c2f74865a473b2911]\n",
       "class E2--><a href=\"psysml:cfcc0fdc-4985-4a7c-8ed0-df1ec6a07f40\" target=\"_top\" title=\"psysml:cfcc0fdc-4985-4a7c-8ed0-df1ec6a07f40\" xlink:actuate=\"onRequest\" xlink:href=\"psysml:cfcc0fdc-4985-4a7c-8ed0-df1ec6a07f40\" xlink:show=\"new\" xlink:title=\"psysml:cfcc0fdc-4985-4a7c-8ed0-df1ec6a07f40\" xlink:type=\"simple\"><rect fill=\"#FFFFFF\" height=\"45.9375\" id=\"E2\" style=\"stroke: #383838; stroke-width: 1.5;\" width=\"66\" x=\"497\" y=\"189\"/><text fill=\"#000000\" font-family=\"sans-serif\" font-size=\"12\" font-style=\"italic\" lengthAdjust=\"spacingAndGlyphs\" textLength=\"64\" x=\"498\" y=\"205.1387\">«part def»</text><text fill=\"#000000\" font-family=\"sans-serif\" font-size=\"12\" lengthAdjust=\"spacingAndGlyphs\" textLength=\"8\" x=\"526\" y=\"219.1074\">P</text><line style=\"stroke: #383838; stroke-width: 1.5;\" x1=\"498\" x2=\"562\" y1=\"226.9375\" y2=\"226.9375\"/></a><!--MD5=[09b614a08d8cba4a07c9adeb5e0fee81]\n",
       "class E3--><a href=\"psysml:6504cd03-3352-435e-8e5a-44d60f096993\" target=\"_top\" title=\"psysml:6504cd03-3352-435e-8e5a-44d60f096993\" xlink:actuate=\"onRequest\" xlink:href=\"psysml:6504cd03-3352-435e-8e5a-44d60f096993\" xlink:show=\"new\" xlink:title=\"psysml:6504cd03-3352-435e-8e5a-44d60f096993\" xlink:type=\"simple\"><rect fill=\"#FFFFFF\" height=\"45.9375\" id=\"E3\" rx=\"10\" ry=\"10\" style=\"stroke: #383838; stroke-width: 1.5;\" width=\"71\" x=\"702.5\" y=\"62\"/><text fill=\"#000000\" font-family=\"sans-serif\" font-size=\"12\" font-style=\"italic\" lengthAdjust=\"spacingAndGlyphs\" textLength=\"69\" x=\"703.5\" y=\"78.1387\">«attribute»</text><text fill=\"#000000\" font-family=\"sans-serif\" font-size=\"12\" lengthAdjust=\"spacingAndGlyphs\" textLength=\"61\" x=\"707.5\" y=\"92.1074\">n: Integer</text><line style=\"stroke: #383838; stroke-width: 1.5;\" x1=\"703.5\" x2=\"772.5\" y1=\"99.9375\" y2=\"99.9375\"/></a><!--MD5=[ebbe1d658d1005bcc118a6aa81145e00]\n",
       "class E4--><a href=\"psysml:69df1372-c4de-42e4-b97b-1df20a9e4637\" target=\"_top\" title=\"psysml:69df1372-c4de-42e4-b97b-1df20a9e4637\" xlink:actuate=\"onRequest\" xlink:href=\"psysml:69df1372-c4de-42e4-b97b-1df20a9e4637\" xlink:show=\"new\" xlink:title=\"psysml:69df1372-c4de-42e4-b97b-1df20a9e4637\" xlink:type=\"simple\"><rect fill=\"#FFFFFF\" height=\"45.9375\" id=\"E4\" rx=\"10\" ry=\"10\" style=\"stroke: #383838; stroke-width: 1.5;\" width=\"42\" x=\"625\" y=\"62\"/><text fill=\"#000000\" font-family=\"sans-serif\" font-size=\"12\" font-style=\"italic\" lengthAdjust=\"spacingAndGlyphs\" textLength=\"40\" x=\"626\" y=\"78.1387\">«part»</text><text fill=\"#000000\" font-family=\"sans-serif\" font-size=\"12\" lengthAdjust=\"spacingAndGlyphs\" textLength=\"8\" x=\"642\" y=\"92.1074\">a</text><line style=\"stroke: #383838; stroke-width: 1.5;\" x1=\"626\" x2=\"666\" y1=\"99.9375\" y2=\"99.9375\"/></a><!--MD5=[270fce915f116d4de14055a7c1d9a0f3]\n",
       "class E5--><a href=\"psysml:ce135ed3-5db8-4159-aade-37d21406abf2\" target=\"_top\" title=\"psysml:ce135ed3-5db8-4159-aade-37d21406abf2\" xlink:actuate=\"onRequest\" xlink:href=\"psysml:ce135ed3-5db8-4159-aade-37d21406abf2\" xlink:show=\"new\" xlink:title=\"psysml:ce135ed3-5db8-4159-aade-37d21406abf2\" xlink:type=\"simple\"><rect fill=\"#FFFFFF\" height=\"45.9375\" id=\"E5\" rx=\"10\" ry=\"10\" style=\"stroke: #383838; stroke-width: 1.5;\" width=\"42\" x=\"548\" y=\"62\"/><text fill=\"#000000\" font-family=\"sans-serif\" font-size=\"12\" font-style=\"italic\" lengthAdjust=\"spacingAndGlyphs\" textLength=\"40\" x=\"549\" y=\"78.1387\">«part»</text><text fill=\"#000000\" font-family=\"sans-serif\" font-size=\"12\" lengthAdjust=\"spacingAndGlyphs\" textLength=\"24\" x=\"557\" y=\"92.1074\">b: P</text><line style=\"stroke: #383838; stroke-width: 1.5;\" x1=\"549\" x2=\"589\" y1=\"99.9375\" y2=\"99.9375\"/></a><!--MD5=[60a26617385b1d2d0262a64233df1f8d]\n",
       "class E6--><a href=\"psysml:7c20260d-33cb-4904-8feb-6f2059c0b9de\" target=\"_top\" title=\"psysml:7c20260d-33cb-4904-8feb-6f2059c0b9de\" xlink:actuate=\"onRequest\" xlink:href=\"psysml:7c20260d-33cb-4904-8feb-6f2059c0b9de\" xlink:show=\"new\" xlink:title=\"psysml:7c20260d-33cb-4904-8feb-6f2059c0b9de\" xlink:type=\"simple\"><rect fill=\"#FFFFFF\" height=\"45.9375\" id=\"E6\" rx=\"10\" ry=\"10\" style=\"stroke: #383838; stroke-width: 1.5;\" width=\"42\" x=\"471\" y=\"62\"/><text fill=\"#000000\" font-family=\"sans-serif\" font-size=\"12\" font-style=\"italic\" lengthAdjust=\"spacingAndGlyphs\" textLength=\"40\" x=\"472\" y=\"78.1387\">«part»</text><text fill=\"#000000\" font-family=\"sans-serif\" font-size=\"12\" lengthAdjust=\"spacingAndGlyphs\" textLength=\"23\" x=\"480.5\" y=\"92.1074\">c: P</text><line style=\"stroke: #383838; stroke-width: 1.5;\" x1=\"472\" x2=\"512\" y1=\"99.9375\" y2=\"99.9375\"/></a><!--MD5=[2156ba9850f5573cc1fc38a6a4b2f02b]\n",
       "class E7--><a href=\"psysml:a788bf26-d852-4daf-8a66-fd926f14abf3\" target=\"_top\" title=\"psysml:a788bf26-d852-4daf-8a66-fd926f14abf3\" xlink:actuate=\"onRequest\" xlink:href=\"psysml:a788bf26-d852-4daf-8a66-fd926f14abf3\" xlink:show=\"new\" xlink:title=\"psysml:a788bf26-d852-4daf-8a66-fd926f14abf3\" xlink:type=\"simple\"><rect fill=\"#FFFFFF\" height=\"45.9375\" id=\"E7\" rx=\"10\" ry=\"10\" style=\"stroke: #383838; stroke-width: 1.5;\" width=\"42\" x=\"394\" y=\"62\"/><text fill=\"#000000\" font-family=\"sans-serif\" font-size=\"12\" font-style=\"italic\" lengthAdjust=\"spacingAndGlyphs\" textLength=\"40\" x=\"395\" y=\"78.1387\">«part»</text><text fill=\"#000000\" font-family=\"sans-serif\" font-size=\"12\" lengthAdjust=\"spacingAndGlyphs\" textLength=\"8\" x=\"411\" y=\"92.1074\">d</text><line style=\"stroke: #383838; stroke-width: 1.5;\" x1=\"395\" x2=\"435\" y1=\"99.9375\" y2=\"99.9375\"/></a><!--MD5=[b9389687b975829384b498ac4b7476b2]\n",
       "class E8--><a href=\"psysml:8ca44daa-798d-42ea-8082-fded64fdb257\" target=\"_top\" title=\"psysml:8ca44daa-798d-42ea-8082-fded64fdb257\" xlink:actuate=\"onRequest\" xlink:href=\"psysml:8ca44daa-798d-42ea-8082-fded64fdb257\" xlink:show=\"new\" xlink:title=\"psysml:8ca44daa-798d-42ea-8082-fded64fdb257\" xlink:type=\"simple\"><rect fill=\"#FFFFFF\" height=\"45.9375\" id=\"E8\" rx=\"10\" ry=\"10\" style=\"stroke: #383838; stroke-width: 1.5;\" width=\"42\" x=\"317\" y=\"62\"/><text fill=\"#000000\" font-family=\"sans-serif\" font-size=\"12\" font-style=\"italic\" lengthAdjust=\"spacingAndGlyphs\" textLength=\"40\" x=\"318\" y=\"78.1387\">«part»</text><text fill=\"#000000\" font-family=\"sans-serif\" font-size=\"12\" lengthAdjust=\"spacingAndGlyphs\" textLength=\"8\" x=\"334\" y=\"92.1074\">e</text><line style=\"stroke: #383838; stroke-width: 1.5;\" x1=\"318\" x2=\"358\" y1=\"99.9375\" y2=\"99.9375\"/></a><!--MD5=[fd4143e9d270a159db93a4ea2a975926]\n",
       "class E9--><a href=\"psysml:94368454-840d-4091-abdb-e19ae5322c54\" target=\"_top\" title=\"psysml:94368454-840d-4091-abdb-e19ae5322c54\" xlink:actuate=\"onRequest\" xlink:href=\"psysml:94368454-840d-4091-abdb-e19ae5322c54\" xlink:show=\"new\" xlink:title=\"psysml:94368454-840d-4091-abdb-e19ae5322c54\" xlink:type=\"simple\"><rect fill=\"#FFFFFF\" height=\"45.9375\" id=\"E9\" rx=\"10\" ry=\"10\" style=\"stroke: #383838; stroke-width: 1.5;\" width=\"42\" x=\"240\" y=\"62\"/><text fill=\"#000000\" font-family=\"sans-serif\" font-size=\"12\" font-style=\"italic\" lengthAdjust=\"spacingAndGlyphs\" textLength=\"40\" x=\"241\" y=\"78.1387\">«part»</text><text fill=\"#000000\" font-family=\"sans-serif\" font-size=\"12\" lengthAdjust=\"spacingAndGlyphs\" textLength=\"4\" x=\"259\" y=\"92.1074\">f</text><line style=\"stroke: #383838; stroke-width: 1.5;\" x1=\"241\" x2=\"281\" y1=\"99.9375\" y2=\"99.9375\"/></a><!--MD5=[96f4274e9e20536e775497830990834d]\n",
       "class E10--><a href=\"psysml:8f8b3cba-ab00-4478-b69f-246a2e072be5\" target=\"_top\" title=\"psysml:8f8b3cba-ab00-4478-b69f-246a2e072be5\" xlink:actuate=\"onRequest\" xlink:href=\"psysml:8f8b3cba-ab00-4478-b69f-246a2e072be5\" xlink:show=\"new\" xlink:title=\"psysml:8f8b3cba-ab00-4478-b69f-246a2e072be5\" xlink:type=\"simple\"><rect fill=\"#FFFFFF\" height=\"45.9375\" id=\"E10\" rx=\"10\" ry=\"10\" style=\"stroke: #383838; stroke-width: 1.5;\" width=\"42\" x=\"163\" y=\"62\"/><text fill=\"#000000\" font-family=\"sans-serif\" font-size=\"12\" font-style=\"italic\" lengthAdjust=\"spacingAndGlyphs\" textLength=\"40\" x=\"164\" y=\"78.1387\">«part»</text><text fill=\"#000000\" font-family=\"sans-serif\" font-size=\"12\" lengthAdjust=\"spacingAndGlyphs\" textLength=\"8\" x=\"180\" y=\"92.1074\">g</text><line style=\"stroke: #383838; stroke-width: 1.5;\" x1=\"164\" x2=\"204\" y1=\"99.9375\" y2=\"99.9375\"/></a><!--MD5=[1dd1bfd58a279cf63c5f349dbc8fc6a1]\n",
       "class E11--><a href=\"psysml:2c45c451-c8b5-4e48-8592-55fa30d535c5\" target=\"_top\" title=\"psysml:2c45c451-c8b5-4e48-8592-55fa30d535c5\" xlink:actuate=\"onRequest\" xlink:href=\"psysml:2c45c451-c8b5-4e48-8592-55fa30d535c5\" xlink:show=\"new\" xlink:title=\"psysml:2c45c451-c8b5-4e48-8592-55fa30d535c5\" xlink:type=\"simple\"><rect fill=\"#FFFFFF\" height=\"88.3516\" id=\"E11\" style=\"stroke: #383838; stroke-width: 1.5;\" width=\"95\" x=\"32.5\" y=\"41\"/><text fill=\"#000000\" font-family=\"sans-serif\" font-size=\"12\" font-style=\"italic\" lengthAdjust=\"spacingAndGlyphs\" textLength=\"93\" x=\"33.5\" y=\"57.1387\">«attribute def»</text><text fill=\"#000000\" font-family=\"sans-serif\" font-size=\"12\" lengthAdjust=\"spacingAndGlyphs\" textLength=\"8\" x=\"76\" y=\"71.1074\">A</text><line style=\"stroke: #383838; stroke-width: 1.5;\" x1=\"33.5\" x2=\"126.5\" y1=\"78.9375\" y2=\"78.9375\"/><text fill=\"#000000\" font-family=\"sans-serif\" font-size=\"11\" lengthAdjust=\"spacingAndGlyphs\" textLength=\"51\" x=\"38.5\" y=\"109.9526\">i: Integer</text><text fill=\"#000000\" font-family=\"sans-serif\" font-size=\"11\" lengthAdjust=\"spacingAndGlyphs\" textLength=\"21\" x=\"38.5\" y=\"122.7573\">x: A</text><line style=\"stroke: #383838; stroke-width: 1.0;\" x1=\"33.5\" x2=\"52.5\" y1=\"93.3398\" y2=\"93.3398\"/><text fill=\"#000000\" font-family=\"sans-serif\" font-size=\"11\" lengthAdjust=\"spacingAndGlyphs\" textLength=\"55\" x=\"52.5\" y=\"96.6479\">attributes</text><line style=\"stroke: #383838; stroke-width: 1.0;\" x1=\"107.5\" x2=\"126.5\" y1=\"93.3398\" y2=\"93.3398\"/></a><!--MD5=[15ebcb19ae302d9b601edb458606d402]\n",
       "link E5 to E2--><a href=\"psysml:99c2055f-0301-4891-b65d-9e517e6365b1\" target=\"_top\" title=\"psysml:99c2055f-0301-4891-b65d-9e517e6365b1\" xlink:actuate=\"onRequest\" xlink:href=\"psysml:99c2055f-0301-4891-b65d-9e517e6365b1\" xlink:show=\"new\" xlink:title=\"psysml:99c2055f-0301-4891-b65d-9e517e6365b1\" xlink:type=\"simple\"><path d=\"M562.12,108.06 C556.83,125 549.38,148.89 542.98,169.39 \" fill=\"none\" id=\"E5-&gt;E2\" style=\"stroke: #383838; stroke-width: 1.0;\"/><polygon fill=\"#FFFFFF\" points=\"536.95,188.74,535.929,168.5173,549.2931,172.6886,536.95,188.74\" style=\"stroke: #383838; stroke-width: 1.0;\"/><ellipse cx=\"539.5364\" cy=\"163.6721\" fill=\"#383838\" rx=\"2\" ry=\"2\" style=\"stroke: #383838; stroke-width: 1.0;\"/><ellipse cx=\"549.0823\" cy=\"166.6516\" fill=\"#383838\" rx=\"2\" ry=\"2\" style=\"stroke: #383838; stroke-width: 1.0;\"/></a><!--MD5=[2351f337d6de0f557b50152ba70847b5]\n",
       "link E6 to E2--><a href=\"psysml:035f6493-28ba-4968-b761-0ab46a395f55\" target=\"_top\" title=\"psysml:035f6493-28ba-4968-b761-0ab46a395f55\" xlink:actuate=\"onRequest\" xlink:href=\"psysml:035f6493-28ba-4968-b761-0ab46a395f55\" xlink:show=\"new\" xlink:title=\"psysml:035f6493-28ba-4968-b761-0ab46a395f55\" xlink:type=\"simple\"><path d=\"M498.71,108.06 C503.86,125 511.12,148.89 517.35,169.39 \" fill=\"none\" id=\"E6-&gt;E2\" style=\"stroke: #383838; stroke-width: 1.0;\"/><polygon fill=\"#FFFFFF\" points=\"523.23,188.74,511.007,172.597,524.4019,168.5255,523.23,188.74\" style=\"stroke: #383838; stroke-width: 1.0;\"/><ellipse cx=\"511.2628\" cy=\"166.5617\" fill=\"#383838\" rx=\"2\" ry=\"2\" style=\"stroke: #383838; stroke-width: 1.0;\"/><ellipse cx=\"520.8306\" cy=\"163.6535\" fill=\"#383838\" rx=\"2\" ry=\"2\" style=\"stroke: #383838; stroke-width: 1.0;\"/></a><!--MD5=[3792cb7f260d8e1e03a4ae4b035ec976]\n",
       "@startuml\r\n",
       "skinparam linetype polyline\r\n",
       "skinparam monochrome true\r\n",
       "skinparam classbackgroundcolor white\r\n",
       "skinparam shadowing false\r\n",
       "skinparam wrapWidth 300\r\n",
       "hide circle\r\n",
       "\r\n",
       "package \"MultiplicityTest\" as E1  [[psysml:d21f1d33-c8d8-4d7e-915c-a1dc21839292 ]]  {\r\n",
       "comp def \"P\" as E2  <<(T,blue) part def>> [[psysml:cfcc0fdc-4985-4a7c-8ed0-df1ec6a07f40 ]] {\r\n",
       "}\r\n",
       "comp usage \"n: Integer\" as E3  <<(T,blue) attribute>> [[psysml:6504cd03-3352-435e-8e5a-44d60f096993 ]] {\r\n",
       "}\r\n",
       "comp usage \"a\" as E4  <<(T,blue) part>> [[psysml:69df1372-c4de-42e4-b97b-1df20a9e4637 ]] {\r\n",
       "}\r\n",
       "comp usage \"b: P\" as E5  <<(T,blue) part>> [[psysml:ce135ed3-5db8-4159-aade-37d21406abf2 ]] {\r\n",
       "}\r\n",
       "comp usage \"c: P\" as E6  <<(T,blue) part>> [[psysml:7c20260d-33cb-4904-8feb-6f2059c0b9de ]] {\r\n",
       "}\r\n",
       "comp usage \"d\" as E7  <<(T,blue) part>> [[psysml:a788bf26-d852-4daf-8a66-fd926f14abf3 ]] {\r\n",
       "}\r\n",
       "comp usage \"e\" as E8  <<(T,blue) part>> [[psysml:8ca44daa-798d-42ea-8082-fded64fdb257 ]] {\r\n",
       "}\r\n",
       "comp usage \"f\" as E9  <<(T,blue) part>> [[psysml:94368454-840d-4091-abdb-e19ae5322c54 ]] {\r\n",
       "}\r\n",
       "comp usage \"g\" as E10  <<(T,blue) part>> [[psysml:8f8b3cba-ab00-4478-b69f-246a2e072be5 ]] {\r\n",
       "}\r\n",
       "comp def \"A\" as E11  <<(T,blue) attribute def>> [[psysml:2c45c451-c8b5-4e48-8592-55fa30d535c5 ]] {\r\n",
       "- - attributes - -\r\n",
       "i: Integer\r\n",
       "x: A\r\n",
       "}\r\n",
       "E5 - -:|> E2 [[psysml:99c2055f-0301-4891-b65d-9e517e6365b1 ]] \r\n",
       "E6 - -:|> E2 [[psysml:035f6493-28ba-4968-b761-0ab46a395f55 ]] \r\n",
       "}\r\n",
       "@enduml\r\n",
       "\n",
       "PlantUML version 1.2020.13(Sat Jun 13 12:26:38 UTC 2020)\n",
       "(EPL source distribution)\n",
       "Java Runtime: OpenJDK Runtime Environment\n",
       "JVM: OpenJDK 64-Bit Server VM\n",
       "Default Encoding: UTF-8\n",
       "Language: en\n",
       "Country: null\n",
       "--></g></svg>"
      ]
     },
     "execution_count": 9,
     "metadata": {},
     "output_type": "execute_result"
    }
   ],
   "source": [
    "%viz --style=\"POLYLINE\" --view=\"Default\" \"MultiplicityTest\""
   ]
  },
  {
   "cell_type": "code",
   "execution_count": 10,
   "id": "92686cae",
   "metadata": {
    "execution": {
     "iopub.execute_input": "2021-06-30T09:24:30.371697Z",
     "iopub.status.busy": "2021-06-30T09:24:30.371100Z",
     "iopub.status.idle": "2021-06-30T09:24:30.444161Z",
     "shell.execute_reply": "2021-06-30T09:24:30.443780Z"
    }
   },
   "outputs": [
    {
     "data": {
      "image/svg+xml": [
       "<?xml version=\"1.0\" encoding=\"UTF-8\" standalone=\"no\"?><svg xmlns=\"http://www.w3.org/2000/svg\" xmlns:xlink=\"http://www.w3.org/1999/xlink\" contentScriptType=\"application/ecmascript\" contentStyleType=\"text/css\" height=\"263px\" preserveAspectRatio=\"none\" style=\"width:812px;height:263px;\" version=\"1.1\" viewBox=\"0 0 812 263\" width=\"812px\" zoomAndPan=\"magnify\"><defs/><g><!--MD5=[fbc87193dbaf4d95561dea2c320d4a47]\n",
       "cluster E1--><a href=\"psysml:d21f1d33-c8d8-4d7e-915c-a1dc21839292\" target=\"_top\" title=\"psysml:d21f1d33-c8d8-4d7e-915c-a1dc21839292\" xlink:actuate=\"onRequest\" xlink:href=\"psysml:d21f1d33-c8d8-4d7e-915c-a1dc21839292\" xlink:show=\"new\" xlink:title=\"psysml:d21f1d33-c8d8-4d7e-915c-a1dc21839292\" xlink:type=\"simple\"><polygon fill=\"#FFFFFF\" points=\"16,6,140,6,147,28.2969,790,28.2969,790,251,16,251,16,6\" style=\"stroke: #000000; stroke-width: 1.5;\"/><line style=\"stroke: #000000; stroke-width: 1.5;\" x1=\"16\" x2=\"147\" y1=\"28.2969\" y2=\"28.2969\"/><text fill=\"#000000\" font-family=\"sans-serif\" font-size=\"14\" font-weight=\"bold\" lengthAdjust=\"spacingAndGlyphs\" textLength=\"118\" x=\"20\" y=\"20.9951\">MultiplicityTest</text></a><!--MD5=[b4997ac47864f28c2f74865a473b2911]\n",
       "class E2--><a href=\"psysml:cfcc0fdc-4985-4a7c-8ed0-df1ec6a07f40\" target=\"_top\" title=\"psysml:cfcc0fdc-4985-4a7c-8ed0-df1ec6a07f40\" xlink:actuate=\"onRequest\" xlink:href=\"psysml:cfcc0fdc-4985-4a7c-8ed0-df1ec6a07f40\" xlink:show=\"new\" xlink:title=\"psysml:cfcc0fdc-4985-4a7c-8ed0-df1ec6a07f40\" xlink:type=\"simple\"><rect fill=\"#FFFFFF\" height=\"45.9375\" id=\"E2\" style=\"stroke: #383838; stroke-width: 1.5;\" width=\"66\" x=\"497\" y=\"189\"/><text fill=\"#000000\" font-family=\"sans-serif\" font-size=\"12\" font-style=\"italic\" lengthAdjust=\"spacingAndGlyphs\" textLength=\"64\" x=\"498\" y=\"205.1387\">«part def»</text><text fill=\"#000000\" font-family=\"sans-serif\" font-size=\"12\" lengthAdjust=\"spacingAndGlyphs\" textLength=\"8\" x=\"526\" y=\"219.1074\">P</text><line style=\"stroke: #383838; stroke-width: 1.5;\" x1=\"498\" x2=\"562\" y1=\"226.9375\" y2=\"226.9375\"/></a><!--MD5=[09b614a08d8cba4a07c9adeb5e0fee81]\n",
       "class E3--><a href=\"psysml:6504cd03-3352-435e-8e5a-44d60f096993\" target=\"_top\" title=\"psysml:6504cd03-3352-435e-8e5a-44d60f096993\" xlink:actuate=\"onRequest\" xlink:href=\"psysml:6504cd03-3352-435e-8e5a-44d60f096993\" xlink:show=\"new\" xlink:title=\"psysml:6504cd03-3352-435e-8e5a-44d60f096993\" xlink:type=\"simple\"><rect fill=\"#FFFFFF\" height=\"45.9375\" id=\"E3\" rx=\"10\" ry=\"10\" style=\"stroke: #383838; stroke-width: 1.5;\" width=\"71\" x=\"702.5\" y=\"62\"/><text fill=\"#000000\" font-family=\"sans-serif\" font-size=\"12\" font-style=\"italic\" lengthAdjust=\"spacingAndGlyphs\" textLength=\"69\" x=\"703.5\" y=\"78.1387\">«attribute»</text><text fill=\"#000000\" font-family=\"sans-serif\" font-size=\"12\" lengthAdjust=\"spacingAndGlyphs\" textLength=\"61\" x=\"707.5\" y=\"92.1074\">n: Integer</text><line style=\"stroke: #383838; stroke-width: 1.5;\" x1=\"703.5\" x2=\"772.5\" y1=\"99.9375\" y2=\"99.9375\"/></a><!--MD5=[ebbe1d658d1005bcc118a6aa81145e00]\n",
       "class E4--><a href=\"psysml:69df1372-c4de-42e4-b97b-1df20a9e4637\" target=\"_top\" title=\"psysml:69df1372-c4de-42e4-b97b-1df20a9e4637\" xlink:actuate=\"onRequest\" xlink:href=\"psysml:69df1372-c4de-42e4-b97b-1df20a9e4637\" xlink:show=\"new\" xlink:title=\"psysml:69df1372-c4de-42e4-b97b-1df20a9e4637\" xlink:type=\"simple\"><rect fill=\"#FFFFFF\" height=\"45.9375\" id=\"E4\" rx=\"10\" ry=\"10\" style=\"stroke: #383838; stroke-width: 1.5;\" width=\"42\" x=\"625\" y=\"62\"/><text fill=\"#000000\" font-family=\"sans-serif\" font-size=\"12\" font-style=\"italic\" lengthAdjust=\"spacingAndGlyphs\" textLength=\"40\" x=\"626\" y=\"78.1387\">«part»</text><text fill=\"#000000\" font-family=\"sans-serif\" font-size=\"12\" lengthAdjust=\"spacingAndGlyphs\" textLength=\"8\" x=\"642\" y=\"92.1074\">a</text><line style=\"stroke: #383838; stroke-width: 1.5;\" x1=\"626\" x2=\"666\" y1=\"99.9375\" y2=\"99.9375\"/></a><!--MD5=[270fce915f116d4de14055a7c1d9a0f3]\n",
       "class E5--><a href=\"psysml:ce135ed3-5db8-4159-aade-37d21406abf2\" target=\"_top\" title=\"psysml:ce135ed3-5db8-4159-aade-37d21406abf2\" xlink:actuate=\"onRequest\" xlink:href=\"psysml:ce135ed3-5db8-4159-aade-37d21406abf2\" xlink:show=\"new\" xlink:title=\"psysml:ce135ed3-5db8-4159-aade-37d21406abf2\" xlink:type=\"simple\"><rect fill=\"#FFFFFF\" height=\"45.9375\" id=\"E5\" rx=\"10\" ry=\"10\" style=\"stroke: #383838; stroke-width: 1.5;\" width=\"42\" x=\"548\" y=\"62\"/><text fill=\"#000000\" font-family=\"sans-serif\" font-size=\"12\" font-style=\"italic\" lengthAdjust=\"spacingAndGlyphs\" textLength=\"40\" x=\"549\" y=\"78.1387\">«part»</text><text fill=\"#000000\" font-family=\"sans-serif\" font-size=\"12\" lengthAdjust=\"spacingAndGlyphs\" textLength=\"24\" x=\"557\" y=\"92.1074\">b: P</text><line style=\"stroke: #383838; stroke-width: 1.5;\" x1=\"549\" x2=\"589\" y1=\"99.9375\" y2=\"99.9375\"/></a><!--MD5=[60a26617385b1d2d0262a64233df1f8d]\n",
       "class E6--><a href=\"psysml:7c20260d-33cb-4904-8feb-6f2059c0b9de\" target=\"_top\" title=\"psysml:7c20260d-33cb-4904-8feb-6f2059c0b9de\" xlink:actuate=\"onRequest\" xlink:href=\"psysml:7c20260d-33cb-4904-8feb-6f2059c0b9de\" xlink:show=\"new\" xlink:title=\"psysml:7c20260d-33cb-4904-8feb-6f2059c0b9de\" xlink:type=\"simple\"><rect fill=\"#FFFFFF\" height=\"45.9375\" id=\"E6\" rx=\"10\" ry=\"10\" style=\"stroke: #383838; stroke-width: 1.5;\" width=\"42\" x=\"471\" y=\"62\"/><text fill=\"#000000\" font-family=\"sans-serif\" font-size=\"12\" font-style=\"italic\" lengthAdjust=\"spacingAndGlyphs\" textLength=\"40\" x=\"472\" y=\"78.1387\">«part»</text><text fill=\"#000000\" font-family=\"sans-serif\" font-size=\"12\" lengthAdjust=\"spacingAndGlyphs\" textLength=\"23\" x=\"480.5\" y=\"92.1074\">c: P</text><line style=\"stroke: #383838; stroke-width: 1.5;\" x1=\"472\" x2=\"512\" y1=\"99.9375\" y2=\"99.9375\"/></a><!--MD5=[2156ba9850f5573cc1fc38a6a4b2f02b]\n",
       "class E7--><a href=\"psysml:a788bf26-d852-4daf-8a66-fd926f14abf3\" target=\"_top\" title=\"psysml:a788bf26-d852-4daf-8a66-fd926f14abf3\" xlink:actuate=\"onRequest\" xlink:href=\"psysml:a788bf26-d852-4daf-8a66-fd926f14abf3\" xlink:show=\"new\" xlink:title=\"psysml:a788bf26-d852-4daf-8a66-fd926f14abf3\" xlink:type=\"simple\"><rect fill=\"#FFFFFF\" height=\"45.9375\" id=\"E7\" rx=\"10\" ry=\"10\" style=\"stroke: #383838; stroke-width: 1.5;\" width=\"42\" x=\"394\" y=\"62\"/><text fill=\"#000000\" font-family=\"sans-serif\" font-size=\"12\" font-style=\"italic\" lengthAdjust=\"spacingAndGlyphs\" textLength=\"40\" x=\"395\" y=\"78.1387\">«part»</text><text fill=\"#000000\" font-family=\"sans-serif\" font-size=\"12\" lengthAdjust=\"spacingAndGlyphs\" textLength=\"8\" x=\"411\" y=\"92.1074\">d</text><line style=\"stroke: #383838; stroke-width: 1.5;\" x1=\"395\" x2=\"435\" y1=\"99.9375\" y2=\"99.9375\"/></a><!--MD5=[b9389687b975829384b498ac4b7476b2]\n",
       "class E8--><a href=\"psysml:8ca44daa-798d-42ea-8082-fded64fdb257\" target=\"_top\" title=\"psysml:8ca44daa-798d-42ea-8082-fded64fdb257\" xlink:actuate=\"onRequest\" xlink:href=\"psysml:8ca44daa-798d-42ea-8082-fded64fdb257\" xlink:show=\"new\" xlink:title=\"psysml:8ca44daa-798d-42ea-8082-fded64fdb257\" xlink:type=\"simple\"><rect fill=\"#FFFFFF\" height=\"45.9375\" id=\"E8\" rx=\"10\" ry=\"10\" style=\"stroke: #383838; stroke-width: 1.5;\" width=\"42\" x=\"317\" y=\"62\"/><text fill=\"#000000\" font-family=\"sans-serif\" font-size=\"12\" font-style=\"italic\" lengthAdjust=\"spacingAndGlyphs\" textLength=\"40\" x=\"318\" y=\"78.1387\">«part»</text><text fill=\"#000000\" font-family=\"sans-serif\" font-size=\"12\" lengthAdjust=\"spacingAndGlyphs\" textLength=\"8\" x=\"334\" y=\"92.1074\">e</text><line style=\"stroke: #383838; stroke-width: 1.5;\" x1=\"318\" x2=\"358\" y1=\"99.9375\" y2=\"99.9375\"/></a><!--MD5=[fd4143e9d270a159db93a4ea2a975926]\n",
       "class E9--><a href=\"psysml:94368454-840d-4091-abdb-e19ae5322c54\" target=\"_top\" title=\"psysml:94368454-840d-4091-abdb-e19ae5322c54\" xlink:actuate=\"onRequest\" xlink:href=\"psysml:94368454-840d-4091-abdb-e19ae5322c54\" xlink:show=\"new\" xlink:title=\"psysml:94368454-840d-4091-abdb-e19ae5322c54\" xlink:type=\"simple\"><rect fill=\"#FFFFFF\" height=\"45.9375\" id=\"E9\" rx=\"10\" ry=\"10\" style=\"stroke: #383838; stroke-width: 1.5;\" width=\"42\" x=\"240\" y=\"62\"/><text fill=\"#000000\" font-family=\"sans-serif\" font-size=\"12\" font-style=\"italic\" lengthAdjust=\"spacingAndGlyphs\" textLength=\"40\" x=\"241\" y=\"78.1387\">«part»</text><text fill=\"#000000\" font-family=\"sans-serif\" font-size=\"12\" lengthAdjust=\"spacingAndGlyphs\" textLength=\"4\" x=\"259\" y=\"92.1074\">f</text><line style=\"stroke: #383838; stroke-width: 1.5;\" x1=\"241\" x2=\"281\" y1=\"99.9375\" y2=\"99.9375\"/></a><!--MD5=[96f4274e9e20536e775497830990834d]\n",
       "class E10--><a href=\"psysml:8f8b3cba-ab00-4478-b69f-246a2e072be5\" target=\"_top\" title=\"psysml:8f8b3cba-ab00-4478-b69f-246a2e072be5\" xlink:actuate=\"onRequest\" xlink:href=\"psysml:8f8b3cba-ab00-4478-b69f-246a2e072be5\" xlink:show=\"new\" xlink:title=\"psysml:8f8b3cba-ab00-4478-b69f-246a2e072be5\" xlink:type=\"simple\"><rect fill=\"#FFFFFF\" height=\"45.9375\" id=\"E10\" rx=\"10\" ry=\"10\" style=\"stroke: #383838; stroke-width: 1.5;\" width=\"42\" x=\"163\" y=\"62\"/><text fill=\"#000000\" font-family=\"sans-serif\" font-size=\"12\" font-style=\"italic\" lengthAdjust=\"spacingAndGlyphs\" textLength=\"40\" x=\"164\" y=\"78.1387\">«part»</text><text fill=\"#000000\" font-family=\"sans-serif\" font-size=\"12\" lengthAdjust=\"spacingAndGlyphs\" textLength=\"8\" x=\"180\" y=\"92.1074\">g</text><line style=\"stroke: #383838; stroke-width: 1.5;\" x1=\"164\" x2=\"204\" y1=\"99.9375\" y2=\"99.9375\"/></a><!--MD5=[1dd1bfd58a279cf63c5f349dbc8fc6a1]\n",
       "class E11--><a href=\"psysml:2c45c451-c8b5-4e48-8592-55fa30d535c5\" target=\"_top\" title=\"psysml:2c45c451-c8b5-4e48-8592-55fa30d535c5\" xlink:actuate=\"onRequest\" xlink:href=\"psysml:2c45c451-c8b5-4e48-8592-55fa30d535c5\" xlink:show=\"new\" xlink:title=\"psysml:2c45c451-c8b5-4e48-8592-55fa30d535c5\" xlink:type=\"simple\"><rect fill=\"#FFFFFF\" height=\"88.3516\" id=\"E11\" style=\"stroke: #383838; stroke-width: 1.5;\" width=\"95\" x=\"32.5\" y=\"41\"/><text fill=\"#000000\" font-family=\"sans-serif\" font-size=\"12\" font-style=\"italic\" lengthAdjust=\"spacingAndGlyphs\" textLength=\"93\" x=\"33.5\" y=\"57.1387\">«attribute def»</text><text fill=\"#000000\" font-family=\"sans-serif\" font-size=\"12\" lengthAdjust=\"spacingAndGlyphs\" textLength=\"8\" x=\"76\" y=\"71.1074\">A</text><line style=\"stroke: #383838; stroke-width: 1.5;\" x1=\"33.5\" x2=\"126.5\" y1=\"78.9375\" y2=\"78.9375\"/><text fill=\"#000000\" font-family=\"sans-serif\" font-size=\"11\" lengthAdjust=\"spacingAndGlyphs\" textLength=\"51\" x=\"38.5\" y=\"109.9526\">i: Integer</text><text fill=\"#000000\" font-family=\"sans-serif\" font-size=\"11\" lengthAdjust=\"spacingAndGlyphs\" textLength=\"21\" x=\"38.5\" y=\"122.7573\">x: A</text><line style=\"stroke: #383838; stroke-width: 1.0;\" x1=\"33.5\" x2=\"52.5\" y1=\"93.3398\" y2=\"93.3398\"/><text fill=\"#000000\" font-family=\"sans-serif\" font-size=\"11\" lengthAdjust=\"spacingAndGlyphs\" textLength=\"55\" x=\"52.5\" y=\"96.6479\">attributes</text><line style=\"stroke: #383838; stroke-width: 1.0;\" x1=\"107.5\" x2=\"126.5\" y1=\"93.3398\" y2=\"93.3398\"/></a><!--MD5=[15ebcb19ae302d9b601edb458606d402]\n",
       "link E5 to E2--><a href=\"psysml:99c2055f-0301-4891-b65d-9e517e6365b1\" target=\"_top\" title=\"psysml:99c2055f-0301-4891-b65d-9e517e6365b1\" xlink:actuate=\"onRequest\" xlink:href=\"psysml:99c2055f-0301-4891-b65d-9e517e6365b1\" xlink:show=\"new\" xlink:title=\"psysml:99c2055f-0301-4891-b65d-9e517e6365b1\" xlink:type=\"simple\"><path d=\"M562.12,108.06 C556.83,125 549.38,148.89 542.98,169.39 \" fill=\"none\" id=\"E5-&gt;E2\" style=\"stroke: #383838; stroke-width: 1.0;\"/><polygon fill=\"#FFFFFF\" points=\"536.95,188.74,535.929,168.5173,549.2931,172.6886,536.95,188.74\" style=\"stroke: #383838; stroke-width: 1.0;\"/><ellipse cx=\"539.5364\" cy=\"163.6721\" fill=\"#383838\" rx=\"2\" ry=\"2\" style=\"stroke: #383838; stroke-width: 1.0;\"/><ellipse cx=\"549.0823\" cy=\"166.6516\" fill=\"#383838\" rx=\"2\" ry=\"2\" style=\"stroke: #383838; stroke-width: 1.0;\"/></a><!--MD5=[2351f337d6de0f557b50152ba70847b5]\n",
       "link E6 to E2--><a href=\"psysml:035f6493-28ba-4968-b761-0ab46a395f55\" target=\"_top\" title=\"psysml:035f6493-28ba-4968-b761-0ab46a395f55\" xlink:actuate=\"onRequest\" xlink:href=\"psysml:035f6493-28ba-4968-b761-0ab46a395f55\" xlink:show=\"new\" xlink:title=\"psysml:035f6493-28ba-4968-b761-0ab46a395f55\" xlink:type=\"simple\"><path d=\"M498.71,108.06 C503.86,125 511.12,148.89 517.35,169.39 \" fill=\"none\" id=\"E6-&gt;E2\" style=\"stroke: #383838; stroke-width: 1.0;\"/><polygon fill=\"#FFFFFF\" points=\"523.23,188.74,511.007,172.597,524.4019,168.5255,523.23,188.74\" style=\"stroke: #383838; stroke-width: 1.0;\"/><ellipse cx=\"511.2628\" cy=\"166.5617\" fill=\"#383838\" rx=\"2\" ry=\"2\" style=\"stroke: #383838; stroke-width: 1.0;\"/><ellipse cx=\"520.8306\" cy=\"163.6535\" fill=\"#383838\" rx=\"2\" ry=\"2\" style=\"stroke: #383838; stroke-width: 1.0;\"/></a><!--MD5=[3792cb7f260d8e1e03a4ae4b035ec976]\n",
       "@startuml\r\n",
       "skinparam linetype polyline\r\n",
       "skinparam monochrome true\r\n",
       "skinparam classbackgroundcolor white\r\n",
       "skinparam shadowing false\r\n",
       "skinparam wrapWidth 300\r\n",
       "hide circle\r\n",
       "\r\n",
       "package \"MultiplicityTest\" as E1  [[psysml:d21f1d33-c8d8-4d7e-915c-a1dc21839292 ]]  {\r\n",
       "comp def \"P\" as E2  <<(T,blue) part def>> [[psysml:cfcc0fdc-4985-4a7c-8ed0-df1ec6a07f40 ]] {\r\n",
       "}\r\n",
       "comp usage \"n: Integer\" as E3  <<(T,blue) attribute>> [[psysml:6504cd03-3352-435e-8e5a-44d60f096993 ]] {\r\n",
       "}\r\n",
       "comp usage \"a\" as E4  <<(T,blue) part>> [[psysml:69df1372-c4de-42e4-b97b-1df20a9e4637 ]] {\r\n",
       "}\r\n",
       "comp usage \"b: P\" as E5  <<(T,blue) part>> [[psysml:ce135ed3-5db8-4159-aade-37d21406abf2 ]] {\r\n",
       "}\r\n",
       "comp usage \"c: P\" as E6  <<(T,blue) part>> [[psysml:7c20260d-33cb-4904-8feb-6f2059c0b9de ]] {\r\n",
       "}\r\n",
       "comp usage \"d\" as E7  <<(T,blue) part>> [[psysml:a788bf26-d852-4daf-8a66-fd926f14abf3 ]] {\r\n",
       "}\r\n",
       "comp usage \"e\" as E8  <<(T,blue) part>> [[psysml:8ca44daa-798d-42ea-8082-fded64fdb257 ]] {\r\n",
       "}\r\n",
       "comp usage \"f\" as E9  <<(T,blue) part>> [[psysml:94368454-840d-4091-abdb-e19ae5322c54 ]] {\r\n",
       "}\r\n",
       "comp usage \"g\" as E10  <<(T,blue) part>> [[psysml:8f8b3cba-ab00-4478-b69f-246a2e072be5 ]] {\r\n",
       "}\r\n",
       "comp def \"A\" as E11  <<(T,blue) attribute def>> [[psysml:2c45c451-c8b5-4e48-8592-55fa30d535c5 ]] {\r\n",
       "- - attributes - -\r\n",
       "i: Integer\r\n",
       "x: A\r\n",
       "}\r\n",
       "E5 - -:|> E2 [[psysml:99c2055f-0301-4891-b65d-9e517e6365b1 ]] \r\n",
       "E6 - -:|> E2 [[psysml:035f6493-28ba-4968-b761-0ab46a395f55 ]] \r\n",
       "}\r\n",
       "@enduml\r\n",
       "\n",
       "PlantUML version 1.2020.13(Sat Jun 13 12:26:38 UTC 2020)\n",
       "(EPL source distribution)\n",
       "Java Runtime: OpenJDK Runtime Environment\n",
       "JVM: OpenJDK 64-Bit Server VM\n",
       "Default Encoding: UTF-8\n",
       "Language: en\n",
       "Country: null\n",
       "--></g></svg>"
      ]
     },
     "execution_count": 10,
     "metadata": {},
     "output_type": "execute_result"
    }
   ],
   "source": [
    "%viz --style=\"POLYLINE\" --view=\"Tree\" \"MultiplicityTest\""
   ]
  },
  {
   "cell_type": "code",
   "execution_count": 11,
   "id": "2b8959c9",
   "metadata": {
    "execution": {
     "iopub.execute_input": "2021-06-30T09:24:30.497047Z",
     "iopub.status.busy": "2021-06-30T09:24:30.496069Z",
     "iopub.status.idle": "2021-06-30T09:24:30.506148Z",
     "shell.execute_reply": "2021-06-30T09:24:30.505686Z"
    }
   },
   "outputs": [
    {
     "data": {
      "image/svg+xml": [
       "<?xml version=\"1.0\" encoding=\"UTF-8\" standalone=\"no\"?><svg xmlns=\"http://www.w3.org/2000/svg\" xmlns:xlink=\"http://www.w3.org/1999/xlink\" contentScriptType=\"application/ecmascript\" contentStyleType=\"text/css\" height=\"12px\" preserveAspectRatio=\"none\" style=\"width:12px;height:12px;\" version=\"1.1\" viewBox=\"0 0 12 12\" width=\"12px\" zoomAndPan=\"magnify\"><defs/><g><!--MD5=[896ac0e7a515d8dd7765a661cb4ee08b]\n",
       "@startuml\r\n",
       "skinparam linetype polyline\r\n",
       "skinparam monochrome true\r\n",
       "skinparam classbackgroundcolor white\r\n",
       "skinparam shadowing false\r\n",
       "skinparam wrapWidth 300\r\n",
       "hide circle\r\n",
       "\r\n",
       "@enduml\r\n",
       "\n",
       "PlantUML version 1.2020.13(Sat Jun 13 12:26:38 UTC 2020)\n",
       "(EPL source distribution)\n",
       "Java Runtime: OpenJDK Runtime Environment\n",
       "JVM: OpenJDK 64-Bit Server VM\n",
       "Default Encoding: UTF-8\n",
       "Language: en\n",
       "Country: null\n",
       "--></g></svg>"
      ]
     },
     "execution_count": 11,
     "metadata": {},
     "output_type": "execute_result"
    }
   ],
   "source": [
    "%viz --style=\"POLYLINE\" --view=\"State\" \"MultiplicityTest\""
   ]
  },
  {
   "cell_type": "code",
   "execution_count": 12,
   "id": "69ef5ac7",
   "metadata": {
    "execution": {
     "iopub.execute_input": "2021-06-30T09:24:30.558456Z",
     "iopub.status.busy": "2021-06-30T09:24:30.557507Z",
     "iopub.status.idle": "2021-06-30T09:24:30.635463Z",
     "shell.execute_reply": "2021-06-30T09:24:30.633377Z"
    }
   },
   "outputs": [
    {
     "data": {
      "image/svg+xml": [
       "<?xml version=\"1.0\" encoding=\"UTF-8\" standalone=\"no\"?><svg xmlns=\"http://www.w3.org/2000/svg\" xmlns:xlink=\"http://www.w3.org/1999/xlink\" contentScriptType=\"application/ecmascript\" contentStyleType=\"text/css\" height=\"115px\" preserveAspectRatio=\"none\" style=\"width:979px;height:115px;\" version=\"1.1\" viewBox=\"0 0 979 115\" width=\"979px\" zoomAndPan=\"magnify\"><defs/><g><!--MD5=[fbc87193dbaf4d95561dea2c320d4a47]\n",
       "cluster E1--><a href=\"psysml:d21f1d33-c8d8-4d7e-915c-a1dc21839292\" target=\"_top\" title=\"psysml:d21f1d33-c8d8-4d7e-915c-a1dc21839292\" xlink:actuate=\"onRequest\" xlink:href=\"psysml:d21f1d33-c8d8-4d7e-915c-a1dc21839292\" xlink:show=\"new\" xlink:title=\"psysml:d21f1d33-c8d8-4d7e-915c-a1dc21839292\" xlink:type=\"simple\"><polygon fill=\"#FFFFFF\" points=\"16,6,140,6,147,28.2969,957,28.2969,957,103,16,103,16,6\" style=\"stroke: #000000; stroke-width: 1.5;\"/><line style=\"stroke: #000000; stroke-width: 1.5;\" x1=\"16\" x2=\"147\" y1=\"28.2969\" y2=\"28.2969\"/><text fill=\"#000000\" font-family=\"sans-serif\" font-size=\"14\" font-weight=\"bold\" lengthAdjust=\"spacingAndGlyphs\" textLength=\"118\" x=\"20\" y=\"20.9951\">MultiplicityTest</text></a><!--MD5=[09b614a08d8cba4a07c9adeb5e0fee81]\n",
       "class E3--><a href=\"psysml:6504cd03-3352-435e-8e5a-44d60f096993\" target=\"_top\" title=\"psysml:6504cd03-3352-435e-8e5a-44d60f096993\" xlink:actuate=\"onRequest\" xlink:href=\"psysml:6504cd03-3352-435e-8e5a-44d60f096993\" xlink:show=\"new\" xlink:title=\"psysml:6504cd03-3352-435e-8e5a-44d60f096993\" xlink:type=\"simple\"><rect fill=\"#FFFFFF\" height=\"45.9375\" id=\"E3\" rx=\"10\" ry=\"10\" style=\"stroke: #383838; stroke-width: 1.5;\" width=\"71\" x=\"869.5\" y=\"41\"/><text fill=\"#000000\" font-family=\"sans-serif\" font-size=\"12\" font-style=\"italic\" lengthAdjust=\"spacingAndGlyphs\" textLength=\"69\" x=\"870.5\" y=\"57.1387\">«attribute»</text><text fill=\"#000000\" font-family=\"sans-serif\" font-size=\"12\" lengthAdjust=\"spacingAndGlyphs\" textLength=\"61\" x=\"874.5\" y=\"71.1074\">n: Integer</text><line style=\"stroke: #383838; stroke-width: 1.5;\" x1=\"870.5\" x2=\"939.5\" y1=\"78.9375\" y2=\"78.9375\"/></a><g id=\"E1.E11\"><a href=\"psysml:2c45c451-c8b5-4e48-8592-55fa30d535c5\" target=\"_top\" title=\"psysml:2c45c451-c8b5-4e48-8592-55fa30d535c5\" xlink:actuate=\"onRequest\" xlink:href=\"psysml:2c45c451-c8b5-4e48-8592-55fa30d535c5\" xlink:show=\"new\" xlink:title=\"psysml:2c45c451-c8b5-4e48-8592-55fa30d535c5\" xlink:type=\"simple\"><rect fill=\"#FFFFFF\" height=\"42.9375\" id=\"E11\" style=\"stroke: #383838; stroke-width: 1.5;\" width=\"100\" x=\"734\" y=\"42.5\"/><rect fill=\"#F8F8F8\" height=\"37.9375\" style=\"stroke: #383838; stroke-width: 1.5;\" width=\"100\" x=\"734\" y=\"42.5\"/><text fill=\"#000000\" font-family=\"sans-serif\" font-size=\"12\" font-style=\"italic\" lengthAdjust=\"spacingAndGlyphs\" textLength=\"93\" x=\"737.5\" y=\"58.6387\">«attribute def»</text><text fill=\"#000000\" font-family=\"sans-serif\" font-size=\"12\" lengthAdjust=\"spacingAndGlyphs\" textLength=\"8\" x=\"780\" y=\"72.6074\">A</text></a></g><g id=\"E1.E2\"><a href=\"psysml:cfcc0fdc-4985-4a7c-8ed0-df1ec6a07f40\" target=\"_top\" title=\"psysml:cfcc0fdc-4985-4a7c-8ed0-df1ec6a07f40\" xlink:actuate=\"onRequest\" xlink:href=\"psysml:cfcc0fdc-4985-4a7c-8ed0-df1ec6a07f40\" xlink:show=\"new\" xlink:title=\"psysml:cfcc0fdc-4985-4a7c-8ed0-df1ec6a07f40\" xlink:type=\"simple\"><rect fill=\"#FFFFFF\" height=\"42.9375\" id=\"E2\" style=\"stroke: #383838; stroke-width: 1.5;\" width=\"71\" x=\"627.5\" y=\"42.5\"/><rect fill=\"#F8F8F8\" height=\"37.9375\" style=\"stroke: #383838; stroke-width: 1.5;\" width=\"71\" x=\"627.5\" y=\"42.5\"/><text fill=\"#000000\" font-family=\"sans-serif\" font-size=\"12\" font-style=\"italic\" lengthAdjust=\"spacingAndGlyphs\" textLength=\"64\" x=\"631\" y=\"58.6387\">«part def»</text><text fill=\"#000000\" font-family=\"sans-serif\" font-size=\"12\" lengthAdjust=\"spacingAndGlyphs\" textLength=\"8\" x=\"659\" y=\"72.6074\">P</text></a></g><g id=\"E1.E4\"><a href=\"psysml:69df1372-c4de-42e4-b97b-1df20a9e4637\" target=\"_top\" title=\"psysml:69df1372-c4de-42e4-b97b-1df20a9e4637\" xlink:actuate=\"onRequest\" xlink:href=\"psysml:69df1372-c4de-42e4-b97b-1df20a9e4637\" xlink:show=\"new\" xlink:title=\"psysml:69df1372-c4de-42e4-b97b-1df20a9e4637\" xlink:type=\"simple\"><rect fill=\"#FFFFFF\" height=\"40\" id=\"E4\" rx=\"10\" ry=\"10\" style=\"stroke: #383838; stroke-width: 1.5;\" width=\"50\" x=\"542\" y=\"44\"/><rect fill=\"#F8F8F8\" height=\"23.9688\" rx=\"10\" ry=\"10\" style=\"stroke: #F8F8F8; stroke-width: 1.5;\" width=\"50\" x=\"542\" y=\"44\"/><rect fill=\"#F8F8F8\" height=\"10\" style=\"stroke: #F8F8F8; stroke-width: 1.5;\" width=\"50\" x=\"542\" y=\"57.9688\"/><rect fill=\"none\" height=\"40\" id=\"E4\" rx=\"10\" ry=\"10\" style=\"stroke: #383838; stroke-width: 1.5;\" width=\"50\" x=\"542\" y=\"44\"/><text fill=\"#000000\" font-family=\"sans-serif\" font-size=\"12\" lengthAdjust=\"spacingAndGlyphs\" textLength=\"8\" x=\"563\" y=\"60.1387\">a</text></a></g><g id=\"E1.E5\"><a href=\"psysml:ce135ed3-5db8-4159-aade-37d21406abf2\" target=\"_top\" title=\"psysml:ce135ed3-5db8-4159-aade-37d21406abf2\" xlink:actuate=\"onRequest\" xlink:href=\"psysml:ce135ed3-5db8-4159-aade-37d21406abf2\" xlink:show=\"new\" xlink:title=\"psysml:ce135ed3-5db8-4159-aade-37d21406abf2\" xlink:type=\"simple\"><rect fill=\"#FFFFFF\" height=\"40\" id=\"E5\" rx=\"10\" ry=\"10\" style=\"stroke: #383838; stroke-width: 1.5;\" width=\"50\" x=\"457\" y=\"44\"/><rect fill=\"#F8F8F8\" height=\"23.9688\" rx=\"10\" ry=\"10\" style=\"stroke: #F8F8F8; stroke-width: 1.5;\" width=\"50\" x=\"457\" y=\"44\"/><rect fill=\"#F8F8F8\" height=\"10\" style=\"stroke: #F8F8F8; stroke-width: 1.5;\" width=\"50\" x=\"457\" y=\"57.9688\"/><rect fill=\"none\" height=\"40\" id=\"E5\" rx=\"10\" ry=\"10\" style=\"stroke: #383838; stroke-width: 1.5;\" width=\"50\" x=\"457\" y=\"44\"/><text fill=\"#000000\" font-family=\"sans-serif\" font-size=\"12\" lengthAdjust=\"spacingAndGlyphs\" textLength=\"24\" x=\"470\" y=\"60.1387\">b: P</text></a></g><g id=\"E1.E6\"><a href=\"psysml:7c20260d-33cb-4904-8feb-6f2059c0b9de\" target=\"_top\" title=\"psysml:7c20260d-33cb-4904-8feb-6f2059c0b9de\" xlink:actuate=\"onRequest\" xlink:href=\"psysml:7c20260d-33cb-4904-8feb-6f2059c0b9de\" xlink:show=\"new\" xlink:title=\"psysml:7c20260d-33cb-4904-8feb-6f2059c0b9de\" xlink:type=\"simple\"><rect fill=\"#FFFFFF\" height=\"40\" id=\"E6\" rx=\"10\" ry=\"10\" style=\"stroke: #383838; stroke-width: 1.5;\" width=\"50\" x=\"372\" y=\"44\"/><rect fill=\"#F8F8F8\" height=\"23.9688\" rx=\"10\" ry=\"10\" style=\"stroke: #F8F8F8; stroke-width: 1.5;\" width=\"50\" x=\"372\" y=\"44\"/><rect fill=\"#F8F8F8\" height=\"10\" style=\"stroke: #F8F8F8; stroke-width: 1.5;\" width=\"50\" x=\"372\" y=\"57.9688\"/><rect fill=\"none\" height=\"40\" id=\"E6\" rx=\"10\" ry=\"10\" style=\"stroke: #383838; stroke-width: 1.5;\" width=\"50\" x=\"372\" y=\"44\"/><text fill=\"#000000\" font-family=\"sans-serif\" font-size=\"12\" lengthAdjust=\"spacingAndGlyphs\" textLength=\"23\" x=\"385.5\" y=\"60.1387\">c: P</text></a></g><g id=\"E1.E7\"><a href=\"psysml:a788bf26-d852-4daf-8a66-fd926f14abf3\" target=\"_top\" title=\"psysml:a788bf26-d852-4daf-8a66-fd926f14abf3\" xlink:actuate=\"onRequest\" xlink:href=\"psysml:a788bf26-d852-4daf-8a66-fd926f14abf3\" xlink:show=\"new\" xlink:title=\"psysml:a788bf26-d852-4daf-8a66-fd926f14abf3\" xlink:type=\"simple\"><rect fill=\"#FFFFFF\" height=\"40\" id=\"E7\" rx=\"10\" ry=\"10\" style=\"stroke: #383838; stroke-width: 1.5;\" width=\"50\" x=\"287\" y=\"44\"/><rect fill=\"#F8F8F8\" height=\"23.9688\" rx=\"10\" ry=\"10\" style=\"stroke: #F8F8F8; stroke-width: 1.5;\" width=\"50\" x=\"287\" y=\"44\"/><rect fill=\"#F8F8F8\" height=\"10\" style=\"stroke: #F8F8F8; stroke-width: 1.5;\" width=\"50\" x=\"287\" y=\"57.9688\"/><rect fill=\"none\" height=\"40\" id=\"E7\" rx=\"10\" ry=\"10\" style=\"stroke: #383838; stroke-width: 1.5;\" width=\"50\" x=\"287\" y=\"44\"/><text fill=\"#000000\" font-family=\"sans-serif\" font-size=\"12\" lengthAdjust=\"spacingAndGlyphs\" textLength=\"8\" x=\"308\" y=\"60.1387\">d</text></a></g><g id=\"E1.E8\"><a href=\"psysml:8ca44daa-798d-42ea-8082-fded64fdb257\" target=\"_top\" title=\"psysml:8ca44daa-798d-42ea-8082-fded64fdb257\" xlink:actuate=\"onRequest\" xlink:href=\"psysml:8ca44daa-798d-42ea-8082-fded64fdb257\" xlink:show=\"new\" xlink:title=\"psysml:8ca44daa-798d-42ea-8082-fded64fdb257\" xlink:type=\"simple\"><rect fill=\"#FFFFFF\" height=\"40\" id=\"E8\" rx=\"10\" ry=\"10\" style=\"stroke: #383838; stroke-width: 1.5;\" width=\"50\" x=\"202\" y=\"44\"/><rect fill=\"#F8F8F8\" height=\"23.9688\" rx=\"10\" ry=\"10\" style=\"stroke: #F8F8F8; stroke-width: 1.5;\" width=\"50\" x=\"202\" y=\"44\"/><rect fill=\"#F8F8F8\" height=\"10\" style=\"stroke: #F8F8F8; stroke-width: 1.5;\" width=\"50\" x=\"202\" y=\"57.9688\"/><rect fill=\"none\" height=\"40\" id=\"E8\" rx=\"10\" ry=\"10\" style=\"stroke: #383838; stroke-width: 1.5;\" width=\"50\" x=\"202\" y=\"44\"/><text fill=\"#000000\" font-family=\"sans-serif\" font-size=\"12\" lengthAdjust=\"spacingAndGlyphs\" textLength=\"8\" x=\"223\" y=\"60.1387\">e</text></a></g><g id=\"E1.E9\"><a href=\"psysml:94368454-840d-4091-abdb-e19ae5322c54\" target=\"_top\" title=\"psysml:94368454-840d-4091-abdb-e19ae5322c54\" xlink:actuate=\"onRequest\" xlink:href=\"psysml:94368454-840d-4091-abdb-e19ae5322c54\" xlink:show=\"new\" xlink:title=\"psysml:94368454-840d-4091-abdb-e19ae5322c54\" xlink:type=\"simple\"><rect fill=\"#FFFFFF\" height=\"40\" id=\"E9\" rx=\"10\" ry=\"10\" style=\"stroke: #383838; stroke-width: 1.5;\" width=\"50\" x=\"117\" y=\"44\"/><rect fill=\"#F8F8F8\" height=\"23.9688\" rx=\"10\" ry=\"10\" style=\"stroke: #F8F8F8; stroke-width: 1.5;\" width=\"50\" x=\"117\" y=\"44\"/><rect fill=\"#F8F8F8\" height=\"10\" style=\"stroke: #F8F8F8; stroke-width: 1.5;\" width=\"50\" x=\"117\" y=\"57.9688\"/><rect fill=\"none\" height=\"40\" id=\"E9\" rx=\"10\" ry=\"10\" style=\"stroke: #383838; stroke-width: 1.5;\" width=\"50\" x=\"117\" y=\"44\"/><text fill=\"#000000\" font-family=\"sans-serif\" font-size=\"12\" lengthAdjust=\"spacingAndGlyphs\" textLength=\"4\" x=\"140\" y=\"60.1387\">f</text></a></g><g id=\"E1.E10\"><a href=\"psysml:8f8b3cba-ab00-4478-b69f-246a2e072be5\" target=\"_top\" title=\"psysml:8f8b3cba-ab00-4478-b69f-246a2e072be5\" xlink:actuate=\"onRequest\" xlink:href=\"psysml:8f8b3cba-ab00-4478-b69f-246a2e072be5\" xlink:show=\"new\" xlink:title=\"psysml:8f8b3cba-ab00-4478-b69f-246a2e072be5\" xlink:type=\"simple\"><rect fill=\"#FFFFFF\" height=\"40\" id=\"E10\" rx=\"10\" ry=\"10\" style=\"stroke: #383838; stroke-width: 1.5;\" width=\"50\" x=\"32\" y=\"44\"/><rect fill=\"#F8F8F8\" height=\"23.9688\" rx=\"10\" ry=\"10\" style=\"stroke: #F8F8F8; stroke-width: 1.5;\" width=\"50\" x=\"32\" y=\"44\"/><rect fill=\"#F8F8F8\" height=\"10\" style=\"stroke: #F8F8F8; stroke-width: 1.5;\" width=\"50\" x=\"32\" y=\"57.9688\"/><rect fill=\"none\" height=\"40\" id=\"E10\" rx=\"10\" ry=\"10\" style=\"stroke: #383838; stroke-width: 1.5;\" width=\"50\" x=\"32\" y=\"44\"/><text fill=\"#000000\" font-family=\"sans-serif\" font-size=\"12\" lengthAdjust=\"spacingAndGlyphs\" textLength=\"8\" x=\"53\" y=\"60.1387\">g</text></a></g><!--MD5=[dc0c9081a0c5329fe90fed650418e0d4]\n",
       "@startuml\r\n",
       "skinparam ranksep 10\r\n",
       "skinparam rectangle {\r\n",
       " backgroundColor<<block>> LightGreen\r\n",
       "}\r\n",
       "skinparam linetype polyline\r\n",
       "skinparam monochrome true\r\n",
       "skinparam classbackgroundcolor white\r\n",
       "skinparam shadowing false\r\n",
       "skinparam wrapWidth 300\r\n",
       "hide circle\r\n",
       "\r\n",
       "package \"MultiplicityTest\" as E1  [[psysml:d21f1d33-c8d8-4d7e-915c-a1dc21839292 ]]  {\r\n",
       "rec def \"P\" as E2  <<(T,blue) part def>> [[psysml:cfcc0fdc-4985-4a7c-8ed0-df1ec6a07f40 ]] {\r\n",
       "}\r\n",
       "comp usage \"n: Integer\" as E3  <<(T,blue) attribute>> [[psysml:6504cd03-3352-435e-8e5a-44d60f096993 ]] {\r\n",
       "}\r\n",
       "rec usage \"a\" as E4  [[psysml:69df1372-c4de-42e4-b97b-1df20a9e4637 ]] {\r\n",
       "}\r\n",
       "rec usage \"b: P\" as E5  [[psysml:ce135ed3-5db8-4159-aade-37d21406abf2 ]] {\r\n",
       "}\r\n",
       "rec usage \"c: P\" as E6  [[psysml:7c20260d-33cb-4904-8feb-6f2059c0b9de ]] {\r\n",
       "}\r\n",
       "rec usage \"d\" as E7  [[psysml:a788bf26-d852-4daf-8a66-fd926f14abf3 ]] {\r\n",
       "}\r\n",
       "rec usage \"e\" as E8  [[psysml:8ca44daa-798d-42ea-8082-fded64fdb257 ]] {\r\n",
       "}\r\n",
       "rec usage \"f\" as E9  [[psysml:94368454-840d-4091-abdb-e19ae5322c54 ]] {\r\n",
       "}\r\n",
       "rec usage \"g\" as E10  [[psysml:8f8b3cba-ab00-4478-b69f-246a2e072be5 ]] {\r\n",
       "}\r\n",
       "def \"A\" as E11  <<(T,blue) attribute def>> [[psysml:2c45c451-c8b5-4e48-8592-55fa30d535c5 ]] \r\n",
       "}\r\n",
       "@enduml\r\n",
       "\n",
       "PlantUML version 1.2020.13(Sat Jun 13 12:26:38 UTC 2020)\n",
       "(EPL source distribution)\n",
       "Java Runtime: OpenJDK Runtime Environment\n",
       "JVM: OpenJDK 64-Bit Server VM\n",
       "Default Encoding: UTF-8\n",
       "Language: en\n",
       "Country: null\n",
       "--></g></svg>"
      ]
     },
     "execution_count": 12,
     "metadata": {},
     "output_type": "execute_result"
    }
   ],
   "source": [
    "%viz --style=\"POLYLINE\" --view=\"Interconnection\" \"MultiplicityTest\""
   ]
  },
  {
   "cell_type": "code",
   "execution_count": 13,
   "id": "faed5a86",
   "metadata": {
    "execution": {
     "iopub.execute_input": "2021-06-30T09:24:30.686164Z",
     "iopub.status.busy": "2021-06-30T09:24:30.685509Z",
     "iopub.status.idle": "2021-06-30T09:24:30.692702Z",
     "shell.execute_reply": "2021-06-30T09:24:30.692962Z"
    }
   },
   "outputs": [
    {
     "data": {
      "image/svg+xml": [
       "<?xml version=\"1.0\" encoding=\"UTF-8\" standalone=\"no\"?><svg xmlns=\"http://www.w3.org/2000/svg\" xmlns:xlink=\"http://www.w3.org/1999/xlink\" contentScriptType=\"application/ecmascript\" contentStyleType=\"text/css\" height=\"12px\" preserveAspectRatio=\"none\" style=\"width:12px;height:12px;\" version=\"1.1\" viewBox=\"0 0 12 12\" width=\"12px\" zoomAndPan=\"magnify\"><defs/><g><!--MD5=[97bbf32f66ccd50cbc40d92ea8f5a65e]\n",
       "@startuml\r\n",
       "skinparam ranksep 8\r\n",
       "skinparam linetype polyline\r\n",
       "skinparam monochrome true\r\n",
       "skinparam classbackgroundcolor white\r\n",
       "skinparam shadowing false\r\n",
       "skinparam wrapWidth 300\r\n",
       "hide circle\r\n",
       "\r\n",
       "@enduml\r\n",
       "\n",
       "PlantUML version 1.2020.13(Sat Jun 13 12:26:38 UTC 2020)\n",
       "(EPL source distribution)\n",
       "Java Runtime: OpenJDK Runtime Environment\n",
       "JVM: OpenJDK 64-Bit Server VM\n",
       "Default Encoding: UTF-8\n",
       "Language: en\n",
       "Country: null\n",
       "--></g></svg>"
      ]
     },
     "execution_count": 13,
     "metadata": {},
     "output_type": "execute_result"
    }
   ],
   "source": [
    "%viz --style=\"POLYLINE\" --view=\"Action\" \"MultiplicityTest\""
   ]
  },
  {
   "cell_type": "code",
   "execution_count": 14,
   "id": "e920660f",
   "metadata": {
    "execution": {
     "iopub.execute_input": "2021-06-30T09:24:30.744465Z",
     "iopub.status.busy": "2021-06-30T09:24:30.743973Z",
     "iopub.status.idle": "2021-06-30T09:24:30.800086Z",
     "shell.execute_reply": "2021-06-30T09:24:30.799747Z"
    }
   },
   "outputs": [
    {
     "data": {
      "image/svg+xml": [
       "<?xml version=\"1.0\" encoding=\"UTF-8\" standalone=\"no\"?><svg xmlns=\"http://www.w3.org/2000/svg\" xmlns:xlink=\"http://www.w3.org/1999/xlink\" contentScriptType=\"application/ecmascript\" contentStyleType=\"text/css\" height=\"263px\" preserveAspectRatio=\"none\" style=\"width:812px;height:263px;\" version=\"1.1\" viewBox=\"0 0 812 263\" width=\"812px\" zoomAndPan=\"magnify\"><defs/><g><!--MD5=[fbc87193dbaf4d95561dea2c320d4a47]\n",
       "cluster E1--><a href=\"psysml:d21f1d33-c8d8-4d7e-915c-a1dc21839292\" target=\"_top\" title=\"psysml:d21f1d33-c8d8-4d7e-915c-a1dc21839292\" xlink:actuate=\"onRequest\" xlink:href=\"psysml:d21f1d33-c8d8-4d7e-915c-a1dc21839292\" xlink:show=\"new\" xlink:title=\"psysml:d21f1d33-c8d8-4d7e-915c-a1dc21839292\" xlink:type=\"simple\"><polygon fill=\"#FFFFFF\" points=\"16,6,140,6,147,28.2969,790,28.2969,790,251,16,251,16,6\" style=\"stroke: #000000; stroke-width: 1.5;\"/><line style=\"stroke: #000000; stroke-width: 1.5;\" x1=\"16\" x2=\"147\" y1=\"28.2969\" y2=\"28.2969\"/><text fill=\"#000000\" font-family=\"sans-serif\" font-size=\"14\" font-weight=\"bold\" lengthAdjust=\"spacingAndGlyphs\" textLength=\"118\" x=\"20\" y=\"20.9951\">MultiplicityTest</text></a><!--MD5=[b4997ac47864f28c2f74865a473b2911]\n",
       "class E2--><a href=\"psysml:cfcc0fdc-4985-4a7c-8ed0-df1ec6a07f40\" target=\"_top\" title=\"psysml:cfcc0fdc-4985-4a7c-8ed0-df1ec6a07f40\" xlink:actuate=\"onRequest\" xlink:href=\"psysml:cfcc0fdc-4985-4a7c-8ed0-df1ec6a07f40\" xlink:show=\"new\" xlink:title=\"psysml:cfcc0fdc-4985-4a7c-8ed0-df1ec6a07f40\" xlink:type=\"simple\"><rect fill=\"#FFFFFF\" height=\"45.9375\" id=\"E2\" style=\"stroke: #383838; stroke-width: 1.5;\" width=\"66\" x=\"497\" y=\"189\"/><text fill=\"#000000\" font-family=\"sans-serif\" font-size=\"12\" font-style=\"italic\" lengthAdjust=\"spacingAndGlyphs\" textLength=\"64\" x=\"498\" y=\"205.1387\">«part def»</text><text fill=\"#000000\" font-family=\"sans-serif\" font-size=\"12\" lengthAdjust=\"spacingAndGlyphs\" textLength=\"8\" x=\"526\" y=\"219.1074\">P</text><line style=\"stroke: #383838; stroke-width: 1.5;\" x1=\"498\" x2=\"562\" y1=\"226.9375\" y2=\"226.9375\"/></a><!--MD5=[09b614a08d8cba4a07c9adeb5e0fee81]\n",
       "class E3--><a href=\"psysml:6504cd03-3352-435e-8e5a-44d60f096993\" target=\"_top\" title=\"psysml:6504cd03-3352-435e-8e5a-44d60f096993\" xlink:actuate=\"onRequest\" xlink:href=\"psysml:6504cd03-3352-435e-8e5a-44d60f096993\" xlink:show=\"new\" xlink:title=\"psysml:6504cd03-3352-435e-8e5a-44d60f096993\" xlink:type=\"simple\"><rect fill=\"#FFFFFF\" height=\"45.9375\" id=\"E3\" rx=\"10\" ry=\"10\" style=\"stroke: #383838; stroke-width: 1.5;\" width=\"71\" x=\"702.5\" y=\"62\"/><text fill=\"#000000\" font-family=\"sans-serif\" font-size=\"12\" font-style=\"italic\" lengthAdjust=\"spacingAndGlyphs\" textLength=\"69\" x=\"703.5\" y=\"78.1387\">«attribute»</text><text fill=\"#000000\" font-family=\"sans-serif\" font-size=\"12\" lengthAdjust=\"spacingAndGlyphs\" textLength=\"61\" x=\"707.5\" y=\"92.1074\">n: Integer</text><line style=\"stroke: #383838; stroke-width: 1.5;\" x1=\"703.5\" x2=\"772.5\" y1=\"99.9375\" y2=\"99.9375\"/></a><!--MD5=[ebbe1d658d1005bcc118a6aa81145e00]\n",
       "class E4--><a href=\"psysml:69df1372-c4de-42e4-b97b-1df20a9e4637\" target=\"_top\" title=\"psysml:69df1372-c4de-42e4-b97b-1df20a9e4637\" xlink:actuate=\"onRequest\" xlink:href=\"psysml:69df1372-c4de-42e4-b97b-1df20a9e4637\" xlink:show=\"new\" xlink:title=\"psysml:69df1372-c4de-42e4-b97b-1df20a9e4637\" xlink:type=\"simple\"><rect fill=\"#FFFFFF\" height=\"45.9375\" id=\"E4\" rx=\"10\" ry=\"10\" style=\"stroke: #383838; stroke-width: 1.5;\" width=\"42\" x=\"625\" y=\"62\"/><text fill=\"#000000\" font-family=\"sans-serif\" font-size=\"12\" font-style=\"italic\" lengthAdjust=\"spacingAndGlyphs\" textLength=\"40\" x=\"626\" y=\"78.1387\">«part»</text><text fill=\"#000000\" font-family=\"sans-serif\" font-size=\"12\" lengthAdjust=\"spacingAndGlyphs\" textLength=\"8\" x=\"642\" y=\"92.1074\">a</text><line style=\"stroke: #383838; stroke-width: 1.5;\" x1=\"626\" x2=\"666\" y1=\"99.9375\" y2=\"99.9375\"/></a><!--MD5=[270fce915f116d4de14055a7c1d9a0f3]\n",
       "class E5--><a href=\"psysml:ce135ed3-5db8-4159-aade-37d21406abf2\" target=\"_top\" title=\"psysml:ce135ed3-5db8-4159-aade-37d21406abf2\" xlink:actuate=\"onRequest\" xlink:href=\"psysml:ce135ed3-5db8-4159-aade-37d21406abf2\" xlink:show=\"new\" xlink:title=\"psysml:ce135ed3-5db8-4159-aade-37d21406abf2\" xlink:type=\"simple\"><rect fill=\"#FFFFFF\" height=\"45.9375\" id=\"E5\" rx=\"10\" ry=\"10\" style=\"stroke: #383838; stroke-width: 1.5;\" width=\"42\" x=\"548\" y=\"62\"/><text fill=\"#000000\" font-family=\"sans-serif\" font-size=\"12\" font-style=\"italic\" lengthAdjust=\"spacingAndGlyphs\" textLength=\"40\" x=\"549\" y=\"78.1387\">«part»</text><text fill=\"#000000\" font-family=\"sans-serif\" font-size=\"12\" lengthAdjust=\"spacingAndGlyphs\" textLength=\"24\" x=\"557\" y=\"92.1074\">b: P</text><line style=\"stroke: #383838; stroke-width: 1.5;\" x1=\"549\" x2=\"589\" y1=\"99.9375\" y2=\"99.9375\"/></a><!--MD5=[60a26617385b1d2d0262a64233df1f8d]\n",
       "class E6--><a href=\"psysml:7c20260d-33cb-4904-8feb-6f2059c0b9de\" target=\"_top\" title=\"psysml:7c20260d-33cb-4904-8feb-6f2059c0b9de\" xlink:actuate=\"onRequest\" xlink:href=\"psysml:7c20260d-33cb-4904-8feb-6f2059c0b9de\" xlink:show=\"new\" xlink:title=\"psysml:7c20260d-33cb-4904-8feb-6f2059c0b9de\" xlink:type=\"simple\"><rect fill=\"#FFFFFF\" height=\"45.9375\" id=\"E6\" rx=\"10\" ry=\"10\" style=\"stroke: #383838; stroke-width: 1.5;\" width=\"42\" x=\"471\" y=\"62\"/><text fill=\"#000000\" font-family=\"sans-serif\" font-size=\"12\" font-style=\"italic\" lengthAdjust=\"spacingAndGlyphs\" textLength=\"40\" x=\"472\" y=\"78.1387\">«part»</text><text fill=\"#000000\" font-family=\"sans-serif\" font-size=\"12\" lengthAdjust=\"spacingAndGlyphs\" textLength=\"23\" x=\"480.5\" y=\"92.1074\">c: P</text><line style=\"stroke: #383838; stroke-width: 1.5;\" x1=\"472\" x2=\"512\" y1=\"99.9375\" y2=\"99.9375\"/></a><!--MD5=[2156ba9850f5573cc1fc38a6a4b2f02b]\n",
       "class E7--><a href=\"psysml:a788bf26-d852-4daf-8a66-fd926f14abf3\" target=\"_top\" title=\"psysml:a788bf26-d852-4daf-8a66-fd926f14abf3\" xlink:actuate=\"onRequest\" xlink:href=\"psysml:a788bf26-d852-4daf-8a66-fd926f14abf3\" xlink:show=\"new\" xlink:title=\"psysml:a788bf26-d852-4daf-8a66-fd926f14abf3\" xlink:type=\"simple\"><rect fill=\"#FFFFFF\" height=\"45.9375\" id=\"E7\" rx=\"10\" ry=\"10\" style=\"stroke: #383838; stroke-width: 1.5;\" width=\"42\" x=\"394\" y=\"62\"/><text fill=\"#000000\" font-family=\"sans-serif\" font-size=\"12\" font-style=\"italic\" lengthAdjust=\"spacingAndGlyphs\" textLength=\"40\" x=\"395\" y=\"78.1387\">«part»</text><text fill=\"#000000\" font-family=\"sans-serif\" font-size=\"12\" lengthAdjust=\"spacingAndGlyphs\" textLength=\"8\" x=\"411\" y=\"92.1074\">d</text><line style=\"stroke: #383838; stroke-width: 1.5;\" x1=\"395\" x2=\"435\" y1=\"99.9375\" y2=\"99.9375\"/></a><!--MD5=[b9389687b975829384b498ac4b7476b2]\n",
       "class E8--><a href=\"psysml:8ca44daa-798d-42ea-8082-fded64fdb257\" target=\"_top\" title=\"psysml:8ca44daa-798d-42ea-8082-fded64fdb257\" xlink:actuate=\"onRequest\" xlink:href=\"psysml:8ca44daa-798d-42ea-8082-fded64fdb257\" xlink:show=\"new\" xlink:title=\"psysml:8ca44daa-798d-42ea-8082-fded64fdb257\" xlink:type=\"simple\"><rect fill=\"#FFFFFF\" height=\"45.9375\" id=\"E8\" rx=\"10\" ry=\"10\" style=\"stroke: #383838; stroke-width: 1.5;\" width=\"42\" x=\"317\" y=\"62\"/><text fill=\"#000000\" font-family=\"sans-serif\" font-size=\"12\" font-style=\"italic\" lengthAdjust=\"spacingAndGlyphs\" textLength=\"40\" x=\"318\" y=\"78.1387\">«part»</text><text fill=\"#000000\" font-family=\"sans-serif\" font-size=\"12\" lengthAdjust=\"spacingAndGlyphs\" textLength=\"8\" x=\"334\" y=\"92.1074\">e</text><line style=\"stroke: #383838; stroke-width: 1.5;\" x1=\"318\" x2=\"358\" y1=\"99.9375\" y2=\"99.9375\"/></a><!--MD5=[fd4143e9d270a159db93a4ea2a975926]\n",
       "class E9--><a href=\"psysml:94368454-840d-4091-abdb-e19ae5322c54\" target=\"_top\" title=\"psysml:94368454-840d-4091-abdb-e19ae5322c54\" xlink:actuate=\"onRequest\" xlink:href=\"psysml:94368454-840d-4091-abdb-e19ae5322c54\" xlink:show=\"new\" xlink:title=\"psysml:94368454-840d-4091-abdb-e19ae5322c54\" xlink:type=\"simple\"><rect fill=\"#FFFFFF\" height=\"45.9375\" id=\"E9\" rx=\"10\" ry=\"10\" style=\"stroke: #383838; stroke-width: 1.5;\" width=\"42\" x=\"240\" y=\"62\"/><text fill=\"#000000\" font-family=\"sans-serif\" font-size=\"12\" font-style=\"italic\" lengthAdjust=\"spacingAndGlyphs\" textLength=\"40\" x=\"241\" y=\"78.1387\">«part»</text><text fill=\"#000000\" font-family=\"sans-serif\" font-size=\"12\" lengthAdjust=\"spacingAndGlyphs\" textLength=\"4\" x=\"259\" y=\"92.1074\">f</text><line style=\"stroke: #383838; stroke-width: 1.5;\" x1=\"241\" x2=\"281\" y1=\"99.9375\" y2=\"99.9375\"/></a><!--MD5=[96f4274e9e20536e775497830990834d]\n",
       "class E10--><a href=\"psysml:8f8b3cba-ab00-4478-b69f-246a2e072be5\" target=\"_top\" title=\"psysml:8f8b3cba-ab00-4478-b69f-246a2e072be5\" xlink:actuate=\"onRequest\" xlink:href=\"psysml:8f8b3cba-ab00-4478-b69f-246a2e072be5\" xlink:show=\"new\" xlink:title=\"psysml:8f8b3cba-ab00-4478-b69f-246a2e072be5\" xlink:type=\"simple\"><rect fill=\"#FFFFFF\" height=\"45.9375\" id=\"E10\" rx=\"10\" ry=\"10\" style=\"stroke: #383838; stroke-width: 1.5;\" width=\"42\" x=\"163\" y=\"62\"/><text fill=\"#000000\" font-family=\"sans-serif\" font-size=\"12\" font-style=\"italic\" lengthAdjust=\"spacingAndGlyphs\" textLength=\"40\" x=\"164\" y=\"78.1387\">«part»</text><text fill=\"#000000\" font-family=\"sans-serif\" font-size=\"12\" lengthAdjust=\"spacingAndGlyphs\" textLength=\"8\" x=\"180\" y=\"92.1074\">g</text><line style=\"stroke: #383838; stroke-width: 1.5;\" x1=\"164\" x2=\"204\" y1=\"99.9375\" y2=\"99.9375\"/></a><!--MD5=[1dd1bfd58a279cf63c5f349dbc8fc6a1]\n",
       "class E11--><a href=\"psysml:2c45c451-c8b5-4e48-8592-55fa30d535c5\" target=\"_top\" title=\"psysml:2c45c451-c8b5-4e48-8592-55fa30d535c5\" xlink:actuate=\"onRequest\" xlink:href=\"psysml:2c45c451-c8b5-4e48-8592-55fa30d535c5\" xlink:show=\"new\" xlink:title=\"psysml:2c45c451-c8b5-4e48-8592-55fa30d535c5\" xlink:type=\"simple\"><rect fill=\"#FFFFFF\" height=\"88.3516\" id=\"E11\" style=\"stroke: #383838; stroke-width: 1.5;\" width=\"95\" x=\"32.5\" y=\"41\"/><text fill=\"#000000\" font-family=\"sans-serif\" font-size=\"12\" font-style=\"italic\" lengthAdjust=\"spacingAndGlyphs\" textLength=\"93\" x=\"33.5\" y=\"57.1387\">«attribute def»</text><text fill=\"#000000\" font-family=\"sans-serif\" font-size=\"12\" lengthAdjust=\"spacingAndGlyphs\" textLength=\"8\" x=\"76\" y=\"71.1074\">A</text><line style=\"stroke: #383838; stroke-width: 1.5;\" x1=\"33.5\" x2=\"126.5\" y1=\"78.9375\" y2=\"78.9375\"/><text fill=\"#000000\" font-family=\"sans-serif\" font-size=\"11\" lengthAdjust=\"spacingAndGlyphs\" textLength=\"51\" x=\"38.5\" y=\"109.9526\">i: Integer</text><text fill=\"#000000\" font-family=\"sans-serif\" font-size=\"11\" lengthAdjust=\"spacingAndGlyphs\" textLength=\"21\" x=\"38.5\" y=\"122.7573\">x: A</text><line style=\"stroke: #383838; stroke-width: 1.0;\" x1=\"33.5\" x2=\"52.5\" y1=\"93.3398\" y2=\"93.3398\"/><text fill=\"#000000\" font-family=\"sans-serif\" font-size=\"11\" lengthAdjust=\"spacingAndGlyphs\" textLength=\"55\" x=\"52.5\" y=\"96.6479\">attributes</text><line style=\"stroke: #383838; stroke-width: 1.0;\" x1=\"107.5\" x2=\"126.5\" y1=\"93.3398\" y2=\"93.3398\"/></a><!--MD5=[15ebcb19ae302d9b601edb458606d402]\n",
       "link E5 to E2--><a href=\"psysml:99c2055f-0301-4891-b65d-9e517e6365b1\" target=\"_top\" title=\"psysml:99c2055f-0301-4891-b65d-9e517e6365b1\" xlink:actuate=\"onRequest\" xlink:href=\"psysml:99c2055f-0301-4891-b65d-9e517e6365b1\" xlink:show=\"new\" xlink:title=\"psysml:99c2055f-0301-4891-b65d-9e517e6365b1\" xlink:type=\"simple\"><path d=\"M562.12,108.06 C556.83,125 549.38,148.89 542.98,169.39 \" fill=\"none\" id=\"E5-&gt;E2\" style=\"stroke: #383838; stroke-width: 1.0;\"/><polygon fill=\"#FFFFFF\" points=\"536.95,188.74,535.929,168.5173,549.2931,172.6886,536.95,188.74\" style=\"stroke: #383838; stroke-width: 1.0;\"/><ellipse cx=\"539.5364\" cy=\"163.6721\" fill=\"#383838\" rx=\"2\" ry=\"2\" style=\"stroke: #383838; stroke-width: 1.0;\"/><ellipse cx=\"549.0823\" cy=\"166.6516\" fill=\"#383838\" rx=\"2\" ry=\"2\" style=\"stroke: #383838; stroke-width: 1.0;\"/></a><!--MD5=[2351f337d6de0f557b50152ba70847b5]\n",
       "link E6 to E2--><a href=\"psysml:035f6493-28ba-4968-b761-0ab46a395f55\" target=\"_top\" title=\"psysml:035f6493-28ba-4968-b761-0ab46a395f55\" xlink:actuate=\"onRequest\" xlink:href=\"psysml:035f6493-28ba-4968-b761-0ab46a395f55\" xlink:show=\"new\" xlink:title=\"psysml:035f6493-28ba-4968-b761-0ab46a395f55\" xlink:type=\"simple\"><path d=\"M498.71,108.06 C503.86,125 511.12,148.89 517.35,169.39 \" fill=\"none\" id=\"E6-&gt;E2\" style=\"stroke: #383838; stroke-width: 1.0;\"/><polygon fill=\"#FFFFFF\" points=\"523.23,188.74,511.007,172.597,524.4019,168.5255,523.23,188.74\" style=\"stroke: #383838; stroke-width: 1.0;\"/><ellipse cx=\"511.2628\" cy=\"166.5617\" fill=\"#383838\" rx=\"2\" ry=\"2\" style=\"stroke: #383838; stroke-width: 1.0;\"/><ellipse cx=\"520.8306\" cy=\"163.6535\" fill=\"#383838\" rx=\"2\" ry=\"2\" style=\"stroke: #383838; stroke-width: 1.0;\"/></a><!--MD5=[3792cb7f260d8e1e03a4ae4b035ec976]\n",
       "@startuml\r\n",
       "skinparam linetype polyline\r\n",
       "skinparam monochrome true\r\n",
       "skinparam classbackgroundcolor white\r\n",
       "skinparam shadowing false\r\n",
       "skinparam wrapWidth 300\r\n",
       "hide circle\r\n",
       "\r\n",
       "package \"MultiplicityTest\" as E1  [[psysml:d21f1d33-c8d8-4d7e-915c-a1dc21839292 ]]  {\r\n",
       "comp def \"P\" as E2  <<(T,blue) part def>> [[psysml:cfcc0fdc-4985-4a7c-8ed0-df1ec6a07f40 ]] {\r\n",
       "}\r\n",
       "comp usage \"n: Integer\" as E3  <<(T,blue) attribute>> [[psysml:6504cd03-3352-435e-8e5a-44d60f096993 ]] {\r\n",
       "}\r\n",
       "comp usage \"a\" as E4  <<(T,blue) part>> [[psysml:69df1372-c4de-42e4-b97b-1df20a9e4637 ]] {\r\n",
       "}\r\n",
       "comp usage \"b: P\" as E5  <<(T,blue) part>> [[psysml:ce135ed3-5db8-4159-aade-37d21406abf2 ]] {\r\n",
       "}\r\n",
       "comp usage \"c: P\" as E6  <<(T,blue) part>> [[psysml:7c20260d-33cb-4904-8feb-6f2059c0b9de ]] {\r\n",
       "}\r\n",
       "comp usage \"d\" as E7  <<(T,blue) part>> [[psysml:a788bf26-d852-4daf-8a66-fd926f14abf3 ]] {\r\n",
       "}\r\n",
       "comp usage \"e\" as E8  <<(T,blue) part>> [[psysml:8ca44daa-798d-42ea-8082-fded64fdb257 ]] {\r\n",
       "}\r\n",
       "comp usage \"f\" as E9  <<(T,blue) part>> [[psysml:94368454-840d-4091-abdb-e19ae5322c54 ]] {\r\n",
       "}\r\n",
       "comp usage \"g\" as E10  <<(T,blue) part>> [[psysml:8f8b3cba-ab00-4478-b69f-246a2e072be5 ]] {\r\n",
       "}\r\n",
       "comp def \"A\" as E11  <<(T,blue) attribute def>> [[psysml:2c45c451-c8b5-4e48-8592-55fa30d535c5 ]] {\r\n",
       "- - attributes - -\r\n",
       "i: Integer\r\n",
       "x: A\r\n",
       "}\r\n",
       "E5 - -:|> E2 [[psysml:99c2055f-0301-4891-b65d-9e517e6365b1 ]] \r\n",
       "E6 - -:|> E2 [[psysml:035f6493-28ba-4968-b761-0ab46a395f55 ]] \r\n",
       "}\r\n",
       "@enduml\r\n",
       "\n",
       "PlantUML version 1.2020.13(Sat Jun 13 12:26:38 UTC 2020)\n",
       "(EPL source distribution)\n",
       "Java Runtime: OpenJDK Runtime Environment\n",
       "JVM: OpenJDK 64-Bit Server VM\n",
       "Default Encoding: UTF-8\n",
       "Language: en\n",
       "Country: null\n",
       "--></g></svg>"
      ]
     },
     "execution_count": 14,
     "metadata": {},
     "output_type": "execute_result"
    }
   ],
   "source": [
    "%viz --style=\"POLYLINE\" --view=\"Sequence\" \"MultiplicityTest\""
   ]
  },
  {
   "cell_type": "code",
   "execution_count": 15,
   "id": "b14ed440",
   "metadata": {
    "execution": {
     "iopub.execute_input": "2021-06-30T09:24:30.851183Z",
     "iopub.status.busy": "2021-06-30T09:24:30.850608Z",
     "iopub.status.idle": "2021-06-30T09:24:30.907751Z",
     "shell.execute_reply": "2021-06-30T09:24:30.907291Z"
    }
   },
   "outputs": [
    {
     "data": {
      "image/svg+xml": [
       "<?xml version=\"1.0\" encoding=\"UTF-8\" standalone=\"no\"?><svg xmlns=\"http://www.w3.org/2000/svg\" xmlns:xlink=\"http://www.w3.org/1999/xlink\" contentScriptType=\"application/ecmascript\" contentStyleType=\"text/css\" height=\"263px\" preserveAspectRatio=\"none\" style=\"width:812px;height:263px;\" version=\"1.1\" viewBox=\"0 0 812 263\" width=\"812px\" zoomAndPan=\"magnify\"><defs/><g><!--MD5=[fbc87193dbaf4d95561dea2c320d4a47]\n",
       "cluster E1--><a href=\"psysml:d21f1d33-c8d8-4d7e-915c-a1dc21839292\" target=\"_top\" title=\"psysml:d21f1d33-c8d8-4d7e-915c-a1dc21839292\" xlink:actuate=\"onRequest\" xlink:href=\"psysml:d21f1d33-c8d8-4d7e-915c-a1dc21839292\" xlink:show=\"new\" xlink:title=\"psysml:d21f1d33-c8d8-4d7e-915c-a1dc21839292\" xlink:type=\"simple\"><polygon fill=\"#FFFFFF\" points=\"16,6,140,6,147,28.2969,790,28.2969,790,251,16,251,16,6\" style=\"stroke: #000000; stroke-width: 1.5;\"/><line style=\"stroke: #000000; stroke-width: 1.5;\" x1=\"16\" x2=\"147\" y1=\"28.2969\" y2=\"28.2969\"/><text fill=\"#000000\" font-family=\"sans-serif\" font-size=\"14\" font-weight=\"bold\" lengthAdjust=\"spacingAndGlyphs\" textLength=\"118\" x=\"20\" y=\"20.9951\">MultiplicityTest</text></a><!--MD5=[b4997ac47864f28c2f74865a473b2911]\n",
       "class E2--><a href=\"psysml:cfcc0fdc-4985-4a7c-8ed0-df1ec6a07f40\" target=\"_top\" title=\"psysml:cfcc0fdc-4985-4a7c-8ed0-df1ec6a07f40\" xlink:actuate=\"onRequest\" xlink:href=\"psysml:cfcc0fdc-4985-4a7c-8ed0-df1ec6a07f40\" xlink:show=\"new\" xlink:title=\"psysml:cfcc0fdc-4985-4a7c-8ed0-df1ec6a07f40\" xlink:type=\"simple\"><rect fill=\"#FFFFFF\" height=\"45.9375\" id=\"E2\" style=\"stroke: #383838; stroke-width: 1.5;\" width=\"66\" x=\"497\" y=\"189\"/><text fill=\"#000000\" font-family=\"sans-serif\" font-size=\"12\" font-style=\"italic\" lengthAdjust=\"spacingAndGlyphs\" textLength=\"64\" x=\"498\" y=\"205.1387\">«part def»</text><text fill=\"#000000\" font-family=\"sans-serif\" font-size=\"12\" lengthAdjust=\"spacingAndGlyphs\" textLength=\"8\" x=\"526\" y=\"219.1074\">P</text><line style=\"stroke: #383838; stroke-width: 1.5;\" x1=\"498\" x2=\"562\" y1=\"226.9375\" y2=\"226.9375\"/></a><!--MD5=[09b614a08d8cba4a07c9adeb5e0fee81]\n",
       "class E3--><a href=\"psysml:6504cd03-3352-435e-8e5a-44d60f096993\" target=\"_top\" title=\"psysml:6504cd03-3352-435e-8e5a-44d60f096993\" xlink:actuate=\"onRequest\" xlink:href=\"psysml:6504cd03-3352-435e-8e5a-44d60f096993\" xlink:show=\"new\" xlink:title=\"psysml:6504cd03-3352-435e-8e5a-44d60f096993\" xlink:type=\"simple\"><rect fill=\"#FFFFFF\" height=\"45.9375\" id=\"E3\" rx=\"10\" ry=\"10\" style=\"stroke: #383838; stroke-width: 1.5;\" width=\"71\" x=\"702.5\" y=\"62\"/><text fill=\"#000000\" font-family=\"sans-serif\" font-size=\"12\" font-style=\"italic\" lengthAdjust=\"spacingAndGlyphs\" textLength=\"69\" x=\"703.5\" y=\"78.1387\">«attribute»</text><text fill=\"#000000\" font-family=\"sans-serif\" font-size=\"12\" lengthAdjust=\"spacingAndGlyphs\" textLength=\"61\" x=\"707.5\" y=\"92.1074\">n: Integer</text><line style=\"stroke: #383838; stroke-width: 1.5;\" x1=\"703.5\" x2=\"772.5\" y1=\"99.9375\" y2=\"99.9375\"/></a><!--MD5=[ebbe1d658d1005bcc118a6aa81145e00]\n",
       "class E4--><a href=\"psysml:69df1372-c4de-42e4-b97b-1df20a9e4637\" target=\"_top\" title=\"psysml:69df1372-c4de-42e4-b97b-1df20a9e4637\" xlink:actuate=\"onRequest\" xlink:href=\"psysml:69df1372-c4de-42e4-b97b-1df20a9e4637\" xlink:show=\"new\" xlink:title=\"psysml:69df1372-c4de-42e4-b97b-1df20a9e4637\" xlink:type=\"simple\"><rect fill=\"#FFFFFF\" height=\"45.9375\" id=\"E4\" rx=\"10\" ry=\"10\" style=\"stroke: #383838; stroke-width: 1.5;\" width=\"42\" x=\"625\" y=\"62\"/><text fill=\"#000000\" font-family=\"sans-serif\" font-size=\"12\" font-style=\"italic\" lengthAdjust=\"spacingAndGlyphs\" textLength=\"40\" x=\"626\" y=\"78.1387\">«part»</text><text fill=\"#000000\" font-family=\"sans-serif\" font-size=\"12\" lengthAdjust=\"spacingAndGlyphs\" textLength=\"8\" x=\"642\" y=\"92.1074\">a</text><line style=\"stroke: #383838; stroke-width: 1.5;\" x1=\"626\" x2=\"666\" y1=\"99.9375\" y2=\"99.9375\"/></a><!--MD5=[270fce915f116d4de14055a7c1d9a0f3]\n",
       "class E5--><a href=\"psysml:ce135ed3-5db8-4159-aade-37d21406abf2\" target=\"_top\" title=\"psysml:ce135ed3-5db8-4159-aade-37d21406abf2\" xlink:actuate=\"onRequest\" xlink:href=\"psysml:ce135ed3-5db8-4159-aade-37d21406abf2\" xlink:show=\"new\" xlink:title=\"psysml:ce135ed3-5db8-4159-aade-37d21406abf2\" xlink:type=\"simple\"><rect fill=\"#FFFFFF\" height=\"45.9375\" id=\"E5\" rx=\"10\" ry=\"10\" style=\"stroke: #383838; stroke-width: 1.5;\" width=\"42\" x=\"548\" y=\"62\"/><text fill=\"#000000\" font-family=\"sans-serif\" font-size=\"12\" font-style=\"italic\" lengthAdjust=\"spacingAndGlyphs\" textLength=\"40\" x=\"549\" y=\"78.1387\">«part»</text><text fill=\"#000000\" font-family=\"sans-serif\" font-size=\"12\" lengthAdjust=\"spacingAndGlyphs\" textLength=\"24\" x=\"557\" y=\"92.1074\">b: P</text><line style=\"stroke: #383838; stroke-width: 1.5;\" x1=\"549\" x2=\"589\" y1=\"99.9375\" y2=\"99.9375\"/></a><!--MD5=[60a26617385b1d2d0262a64233df1f8d]\n",
       "class E6--><a href=\"psysml:7c20260d-33cb-4904-8feb-6f2059c0b9de\" target=\"_top\" title=\"psysml:7c20260d-33cb-4904-8feb-6f2059c0b9de\" xlink:actuate=\"onRequest\" xlink:href=\"psysml:7c20260d-33cb-4904-8feb-6f2059c0b9de\" xlink:show=\"new\" xlink:title=\"psysml:7c20260d-33cb-4904-8feb-6f2059c0b9de\" xlink:type=\"simple\"><rect fill=\"#FFFFFF\" height=\"45.9375\" id=\"E6\" rx=\"10\" ry=\"10\" style=\"stroke: #383838; stroke-width: 1.5;\" width=\"42\" x=\"471\" y=\"62\"/><text fill=\"#000000\" font-family=\"sans-serif\" font-size=\"12\" font-style=\"italic\" lengthAdjust=\"spacingAndGlyphs\" textLength=\"40\" x=\"472\" y=\"78.1387\">«part»</text><text fill=\"#000000\" font-family=\"sans-serif\" font-size=\"12\" lengthAdjust=\"spacingAndGlyphs\" textLength=\"23\" x=\"480.5\" y=\"92.1074\">c: P</text><line style=\"stroke: #383838; stroke-width: 1.5;\" x1=\"472\" x2=\"512\" y1=\"99.9375\" y2=\"99.9375\"/></a><!--MD5=[2156ba9850f5573cc1fc38a6a4b2f02b]\n",
       "class E7--><a href=\"psysml:a788bf26-d852-4daf-8a66-fd926f14abf3\" target=\"_top\" title=\"psysml:a788bf26-d852-4daf-8a66-fd926f14abf3\" xlink:actuate=\"onRequest\" xlink:href=\"psysml:a788bf26-d852-4daf-8a66-fd926f14abf3\" xlink:show=\"new\" xlink:title=\"psysml:a788bf26-d852-4daf-8a66-fd926f14abf3\" xlink:type=\"simple\"><rect fill=\"#FFFFFF\" height=\"45.9375\" id=\"E7\" rx=\"10\" ry=\"10\" style=\"stroke: #383838; stroke-width: 1.5;\" width=\"42\" x=\"394\" y=\"62\"/><text fill=\"#000000\" font-family=\"sans-serif\" font-size=\"12\" font-style=\"italic\" lengthAdjust=\"spacingAndGlyphs\" textLength=\"40\" x=\"395\" y=\"78.1387\">«part»</text><text fill=\"#000000\" font-family=\"sans-serif\" font-size=\"12\" lengthAdjust=\"spacingAndGlyphs\" textLength=\"8\" x=\"411\" y=\"92.1074\">d</text><line style=\"stroke: #383838; stroke-width: 1.5;\" x1=\"395\" x2=\"435\" y1=\"99.9375\" y2=\"99.9375\"/></a><!--MD5=[b9389687b975829384b498ac4b7476b2]\n",
       "class E8--><a href=\"psysml:8ca44daa-798d-42ea-8082-fded64fdb257\" target=\"_top\" title=\"psysml:8ca44daa-798d-42ea-8082-fded64fdb257\" xlink:actuate=\"onRequest\" xlink:href=\"psysml:8ca44daa-798d-42ea-8082-fded64fdb257\" xlink:show=\"new\" xlink:title=\"psysml:8ca44daa-798d-42ea-8082-fded64fdb257\" xlink:type=\"simple\"><rect fill=\"#FFFFFF\" height=\"45.9375\" id=\"E8\" rx=\"10\" ry=\"10\" style=\"stroke: #383838; stroke-width: 1.5;\" width=\"42\" x=\"317\" y=\"62\"/><text fill=\"#000000\" font-family=\"sans-serif\" font-size=\"12\" font-style=\"italic\" lengthAdjust=\"spacingAndGlyphs\" textLength=\"40\" x=\"318\" y=\"78.1387\">«part»</text><text fill=\"#000000\" font-family=\"sans-serif\" font-size=\"12\" lengthAdjust=\"spacingAndGlyphs\" textLength=\"8\" x=\"334\" y=\"92.1074\">e</text><line style=\"stroke: #383838; stroke-width: 1.5;\" x1=\"318\" x2=\"358\" y1=\"99.9375\" y2=\"99.9375\"/></a><!--MD5=[fd4143e9d270a159db93a4ea2a975926]\n",
       "class E9--><a href=\"psysml:94368454-840d-4091-abdb-e19ae5322c54\" target=\"_top\" title=\"psysml:94368454-840d-4091-abdb-e19ae5322c54\" xlink:actuate=\"onRequest\" xlink:href=\"psysml:94368454-840d-4091-abdb-e19ae5322c54\" xlink:show=\"new\" xlink:title=\"psysml:94368454-840d-4091-abdb-e19ae5322c54\" xlink:type=\"simple\"><rect fill=\"#FFFFFF\" height=\"45.9375\" id=\"E9\" rx=\"10\" ry=\"10\" style=\"stroke: #383838; stroke-width: 1.5;\" width=\"42\" x=\"240\" y=\"62\"/><text fill=\"#000000\" font-family=\"sans-serif\" font-size=\"12\" font-style=\"italic\" lengthAdjust=\"spacingAndGlyphs\" textLength=\"40\" x=\"241\" y=\"78.1387\">«part»</text><text fill=\"#000000\" font-family=\"sans-serif\" font-size=\"12\" lengthAdjust=\"spacingAndGlyphs\" textLength=\"4\" x=\"259\" y=\"92.1074\">f</text><line style=\"stroke: #383838; stroke-width: 1.5;\" x1=\"241\" x2=\"281\" y1=\"99.9375\" y2=\"99.9375\"/></a><!--MD5=[96f4274e9e20536e775497830990834d]\n",
       "class E10--><a href=\"psysml:8f8b3cba-ab00-4478-b69f-246a2e072be5\" target=\"_top\" title=\"psysml:8f8b3cba-ab00-4478-b69f-246a2e072be5\" xlink:actuate=\"onRequest\" xlink:href=\"psysml:8f8b3cba-ab00-4478-b69f-246a2e072be5\" xlink:show=\"new\" xlink:title=\"psysml:8f8b3cba-ab00-4478-b69f-246a2e072be5\" xlink:type=\"simple\"><rect fill=\"#FFFFFF\" height=\"45.9375\" id=\"E10\" rx=\"10\" ry=\"10\" style=\"stroke: #383838; stroke-width: 1.5;\" width=\"42\" x=\"163\" y=\"62\"/><text fill=\"#000000\" font-family=\"sans-serif\" font-size=\"12\" font-style=\"italic\" lengthAdjust=\"spacingAndGlyphs\" textLength=\"40\" x=\"164\" y=\"78.1387\">«part»</text><text fill=\"#000000\" font-family=\"sans-serif\" font-size=\"12\" lengthAdjust=\"spacingAndGlyphs\" textLength=\"8\" x=\"180\" y=\"92.1074\">g</text><line style=\"stroke: #383838; stroke-width: 1.5;\" x1=\"164\" x2=\"204\" y1=\"99.9375\" y2=\"99.9375\"/></a><!--MD5=[1dd1bfd58a279cf63c5f349dbc8fc6a1]\n",
       "class E11--><a href=\"psysml:2c45c451-c8b5-4e48-8592-55fa30d535c5\" target=\"_top\" title=\"psysml:2c45c451-c8b5-4e48-8592-55fa30d535c5\" xlink:actuate=\"onRequest\" xlink:href=\"psysml:2c45c451-c8b5-4e48-8592-55fa30d535c5\" xlink:show=\"new\" xlink:title=\"psysml:2c45c451-c8b5-4e48-8592-55fa30d535c5\" xlink:type=\"simple\"><rect fill=\"#FFFFFF\" height=\"88.3516\" id=\"E11\" style=\"stroke: #383838; stroke-width: 1.5;\" width=\"95\" x=\"32.5\" y=\"41\"/><text fill=\"#000000\" font-family=\"sans-serif\" font-size=\"12\" font-style=\"italic\" lengthAdjust=\"spacingAndGlyphs\" textLength=\"93\" x=\"33.5\" y=\"57.1387\">«attribute def»</text><text fill=\"#000000\" font-family=\"sans-serif\" font-size=\"12\" lengthAdjust=\"spacingAndGlyphs\" textLength=\"8\" x=\"76\" y=\"71.1074\">A</text><line style=\"stroke: #383838; stroke-width: 1.5;\" x1=\"33.5\" x2=\"126.5\" y1=\"78.9375\" y2=\"78.9375\"/><text fill=\"#000000\" font-family=\"sans-serif\" font-size=\"11\" lengthAdjust=\"spacingAndGlyphs\" textLength=\"51\" x=\"38.5\" y=\"109.9526\">i: Integer</text><text fill=\"#000000\" font-family=\"sans-serif\" font-size=\"11\" lengthAdjust=\"spacingAndGlyphs\" textLength=\"21\" x=\"38.5\" y=\"122.7573\">x: A</text><line style=\"stroke: #383838; stroke-width: 1.0;\" x1=\"33.5\" x2=\"52.5\" y1=\"93.3398\" y2=\"93.3398\"/><text fill=\"#000000\" font-family=\"sans-serif\" font-size=\"11\" lengthAdjust=\"spacingAndGlyphs\" textLength=\"55\" x=\"52.5\" y=\"96.6479\">attributes</text><line style=\"stroke: #383838; stroke-width: 1.0;\" x1=\"107.5\" x2=\"126.5\" y1=\"93.3398\" y2=\"93.3398\"/></a><!--MD5=[15ebcb19ae302d9b601edb458606d402]\n",
       "link E5 to E2--><a href=\"psysml:99c2055f-0301-4891-b65d-9e517e6365b1\" target=\"_top\" title=\"psysml:99c2055f-0301-4891-b65d-9e517e6365b1\" xlink:actuate=\"onRequest\" xlink:href=\"psysml:99c2055f-0301-4891-b65d-9e517e6365b1\" xlink:show=\"new\" xlink:title=\"psysml:99c2055f-0301-4891-b65d-9e517e6365b1\" xlink:type=\"simple\"><path d=\"M562.12,108.06 C556.83,125 549.38,148.89 542.98,169.39 \" fill=\"none\" id=\"E5-&gt;E2\" style=\"stroke: #383838; stroke-width: 1.0;\"/><polygon fill=\"#FFFFFF\" points=\"536.95,188.74,535.929,168.5173,549.2931,172.6886,536.95,188.74\" style=\"stroke: #383838; stroke-width: 1.0;\"/><ellipse cx=\"539.5364\" cy=\"163.6721\" fill=\"#383838\" rx=\"2\" ry=\"2\" style=\"stroke: #383838; stroke-width: 1.0;\"/><ellipse cx=\"549.0823\" cy=\"166.6516\" fill=\"#383838\" rx=\"2\" ry=\"2\" style=\"stroke: #383838; stroke-width: 1.0;\"/></a><!--MD5=[2351f337d6de0f557b50152ba70847b5]\n",
       "link E6 to E2--><a href=\"psysml:035f6493-28ba-4968-b761-0ab46a395f55\" target=\"_top\" title=\"psysml:035f6493-28ba-4968-b761-0ab46a395f55\" xlink:actuate=\"onRequest\" xlink:href=\"psysml:035f6493-28ba-4968-b761-0ab46a395f55\" xlink:show=\"new\" xlink:title=\"psysml:035f6493-28ba-4968-b761-0ab46a395f55\" xlink:type=\"simple\"><path d=\"M498.71,108.06 C503.86,125 511.12,148.89 517.35,169.39 \" fill=\"none\" id=\"E6-&gt;E2\" style=\"stroke: #383838; stroke-width: 1.0;\"/><polygon fill=\"#FFFFFF\" points=\"523.23,188.74,511.007,172.597,524.4019,168.5255,523.23,188.74\" style=\"stroke: #383838; stroke-width: 1.0;\"/><ellipse cx=\"511.2628\" cy=\"166.5617\" fill=\"#383838\" rx=\"2\" ry=\"2\" style=\"stroke: #383838; stroke-width: 1.0;\"/><ellipse cx=\"520.8306\" cy=\"163.6535\" fill=\"#383838\" rx=\"2\" ry=\"2\" style=\"stroke: #383838; stroke-width: 1.0;\"/></a><!--MD5=[3792cb7f260d8e1e03a4ae4b035ec976]\n",
       "@startuml\r\n",
       "skinparam linetype polyline\r\n",
       "skinparam monochrome true\r\n",
       "skinparam classbackgroundcolor white\r\n",
       "skinparam shadowing false\r\n",
       "skinparam wrapWidth 300\r\n",
       "hide circle\r\n",
       "\r\n",
       "package \"MultiplicityTest\" as E1  [[psysml:d21f1d33-c8d8-4d7e-915c-a1dc21839292 ]]  {\r\n",
       "comp def \"P\" as E2  <<(T,blue) part def>> [[psysml:cfcc0fdc-4985-4a7c-8ed0-df1ec6a07f40 ]] {\r\n",
       "}\r\n",
       "comp usage \"n: Integer\" as E3  <<(T,blue) attribute>> [[psysml:6504cd03-3352-435e-8e5a-44d60f096993 ]] {\r\n",
       "}\r\n",
       "comp usage \"a\" as E4  <<(T,blue) part>> [[psysml:69df1372-c4de-42e4-b97b-1df20a9e4637 ]] {\r\n",
       "}\r\n",
       "comp usage \"b: P\" as E5  <<(T,blue) part>> [[psysml:ce135ed3-5db8-4159-aade-37d21406abf2 ]] {\r\n",
       "}\r\n",
       "comp usage \"c: P\" as E6  <<(T,blue) part>> [[psysml:7c20260d-33cb-4904-8feb-6f2059c0b9de ]] {\r\n",
       "}\r\n",
       "comp usage \"d\" as E7  <<(T,blue) part>> [[psysml:a788bf26-d852-4daf-8a66-fd926f14abf3 ]] {\r\n",
       "}\r\n",
       "comp usage \"e\" as E8  <<(T,blue) part>> [[psysml:8ca44daa-798d-42ea-8082-fded64fdb257 ]] {\r\n",
       "}\r\n",
       "comp usage \"f\" as E9  <<(T,blue) part>> [[psysml:94368454-840d-4091-abdb-e19ae5322c54 ]] {\r\n",
       "}\r\n",
       "comp usage \"g\" as E10  <<(T,blue) part>> [[psysml:8f8b3cba-ab00-4478-b69f-246a2e072be5 ]] {\r\n",
       "}\r\n",
       "comp def \"A\" as E11  <<(T,blue) attribute def>> [[psysml:2c45c451-c8b5-4e48-8592-55fa30d535c5 ]] {\r\n",
       "- - attributes - -\r\n",
       "i: Integer\r\n",
       "x: A\r\n",
       "}\r\n",
       "E5 - -:|> E2 [[psysml:99c2055f-0301-4891-b65d-9e517e6365b1 ]] \r\n",
       "E6 - -:|> E2 [[psysml:035f6493-28ba-4968-b761-0ab46a395f55 ]] \r\n",
       "}\r\n",
       "@enduml\r\n",
       "\n",
       "PlantUML version 1.2020.13(Sat Jun 13 12:26:38 UTC 2020)\n",
       "(EPL source distribution)\n",
       "Java Runtime: OpenJDK Runtime Environment\n",
       "JVM: OpenJDK 64-Bit Server VM\n",
       "Default Encoding: UTF-8\n",
       "Language: en\n",
       "Country: null\n",
       "--></g></svg>"
      ]
     },
     "execution_count": 15,
     "metadata": {},
     "output_type": "execute_result"
    }
   ],
   "source": [
    "%viz --style=\"POLYLINE\" --view=\"MIXED\" \"MultiplicityTest\""
   ]
  },
  {
   "cell_type": "code",
   "execution_count": 16,
   "id": "4877b3fa",
   "metadata": {
    "execution": {
     "iopub.execute_input": "2021-06-30T09:24:30.961144Z",
     "iopub.status.busy": "2021-06-30T09:24:30.960488Z",
     "iopub.status.idle": "2021-06-30T09:24:31.028532Z",
     "shell.execute_reply": "2021-06-30T09:24:31.028158Z"
    }
   },
   "outputs": [
    {
     "data": {
      "image/svg+xml": [
       "<?xml version=\"1.0\" encoding=\"UTF-8\" standalone=\"no\"?><svg xmlns=\"http://www.w3.org/2000/svg\" xmlns:xlink=\"http://www.w3.org/1999/xlink\" contentScriptType=\"application/ecmascript\" contentStyleType=\"text/css\" height=\"805px\" preserveAspectRatio=\"none\" style=\"width:291px;height:805px;\" version=\"1.1\" viewBox=\"0 0 291 805\" width=\"291px\" zoomAndPan=\"magnify\"><defs/><g><!--MD5=[fbc87193dbaf4d95561dea2c320d4a47]\n",
       "cluster E1--><a href=\"psysml:d21f1d33-c8d8-4d7e-915c-a1dc21839292\" target=\"_top\" title=\"psysml:d21f1d33-c8d8-4d7e-915c-a1dc21839292\" xlink:actuate=\"onRequest\" xlink:href=\"psysml:d21f1d33-c8d8-4d7e-915c-a1dc21839292\" xlink:show=\"new\" xlink:title=\"psysml:d21f1d33-c8d8-4d7e-915c-a1dc21839292\" xlink:type=\"simple\"><polygon fill=\"#FFFFFF\" points=\"16,6,140,6,147,28.2969,269,28.2969,269,793,16,793,16,6\" style=\"stroke: #000000; stroke-width: 1.5;\"/><line style=\"stroke: #000000; stroke-width: 1.5;\" x1=\"16\" x2=\"147\" y1=\"28.2969\" y2=\"28.2969\"/><text fill=\"#000000\" font-family=\"sans-serif\" font-size=\"14\" font-weight=\"bold\" lengthAdjust=\"spacingAndGlyphs\" textLength=\"118\" x=\"20\" y=\"20.9951\">MultiplicityTest</text></a><!--MD5=[b4997ac47864f28c2f74865a473b2911]\n",
       "class E2--><a href=\"psysml:cfcc0fdc-4985-4a7c-8ed0-df1ec6a07f40\" target=\"_top\" title=\"psysml:cfcc0fdc-4985-4a7c-8ed0-df1ec6a07f40\" xlink:actuate=\"onRequest\" xlink:href=\"psysml:cfcc0fdc-4985-4a7c-8ed0-df1ec6a07f40\" xlink:show=\"new\" xlink:title=\"psysml:cfcc0fdc-4985-4a7c-8ed0-df1ec6a07f40\" xlink:type=\"simple\"><rect fill=\"#FFFFFF\" height=\"45.9375\" id=\"E2\" style=\"stroke: #383838; stroke-width: 1.5;\" width=\"66\" x=\"187\" y=\"244\"/><text fill=\"#000000\" font-family=\"sans-serif\" font-size=\"12\" font-style=\"italic\" lengthAdjust=\"spacingAndGlyphs\" textLength=\"64\" x=\"188\" y=\"260.1387\">«part def»</text><text fill=\"#000000\" font-family=\"sans-serif\" font-size=\"12\" lengthAdjust=\"spacingAndGlyphs\" textLength=\"8\" x=\"216\" y=\"274.1074\">P</text><line style=\"stroke: #383838; stroke-width: 1.5;\" x1=\"188\" x2=\"252\" y1=\"281.9375\" y2=\"281.9375\"/></a><!--MD5=[09b614a08d8cba4a07c9adeb5e0fee81]\n",
       "class E3--><a href=\"psysml:6504cd03-3352-435e-8e5a-44d60f096993\" target=\"_top\" title=\"psysml:6504cd03-3352-435e-8e5a-44d60f096993\" xlink:actuate=\"onRequest\" xlink:href=\"psysml:6504cd03-3352-435e-8e5a-44d60f096993\" xlink:show=\"new\" xlink:title=\"psysml:6504cd03-3352-435e-8e5a-44d60f096993\" xlink:type=\"simple\"><rect fill=\"#FFFFFF\" height=\"45.9375\" id=\"E3\" rx=\"10\" ry=\"10\" style=\"stroke: #383838; stroke-width: 1.5;\" width=\"71\" x=\"44\" y=\"41\"/><text fill=\"#000000\" font-family=\"sans-serif\" font-size=\"12\" font-style=\"italic\" lengthAdjust=\"spacingAndGlyphs\" textLength=\"69\" x=\"45\" y=\"57.1387\">«attribute»</text><text fill=\"#000000\" font-family=\"sans-serif\" font-size=\"12\" lengthAdjust=\"spacingAndGlyphs\" textLength=\"61\" x=\"49\" y=\"71.1074\">n: Integer</text><line style=\"stroke: #383838; stroke-width: 1.5;\" x1=\"45\" x2=\"114\" y1=\"78.9375\" y2=\"78.9375\"/></a><!--MD5=[ebbe1d658d1005bcc118a6aa81145e00]\n",
       "class E4--><a href=\"psysml:69df1372-c4de-42e4-b97b-1df20a9e4637\" target=\"_top\" title=\"psysml:69df1372-c4de-42e4-b97b-1df20a9e4637\" xlink:actuate=\"onRequest\" xlink:href=\"psysml:69df1372-c4de-42e4-b97b-1df20a9e4637\" xlink:show=\"new\" xlink:title=\"psysml:69df1372-c4de-42e4-b97b-1df20a9e4637\" xlink:type=\"simple\"><rect fill=\"#FFFFFF\" height=\"45.9375\" id=\"E4\" rx=\"10\" ry=\"10\" style=\"stroke: #383838; stroke-width: 1.5;\" width=\"42\" x=\"58.5\" y=\"122\"/><text fill=\"#000000\" font-family=\"sans-serif\" font-size=\"12\" font-style=\"italic\" lengthAdjust=\"spacingAndGlyphs\" textLength=\"40\" x=\"59.5\" y=\"138.1387\">«part»</text><text fill=\"#000000\" font-family=\"sans-serif\" font-size=\"12\" lengthAdjust=\"spacingAndGlyphs\" textLength=\"8\" x=\"75.5\" y=\"152.1074\">a</text><line style=\"stroke: #383838; stroke-width: 1.5;\" x1=\"59.5\" x2=\"99.5\" y1=\"159.9375\" y2=\"159.9375\"/></a><!--MD5=[270fce915f116d4de14055a7c1d9a0f3]\n",
       "class E5--><a href=\"psysml:ce135ed3-5db8-4159-aade-37d21406abf2\" target=\"_top\" title=\"psysml:ce135ed3-5db8-4159-aade-37d21406abf2\" xlink:actuate=\"onRequest\" xlink:href=\"psysml:ce135ed3-5db8-4159-aade-37d21406abf2\" xlink:show=\"new\" xlink:title=\"psysml:ce135ed3-5db8-4159-aade-37d21406abf2\" xlink:type=\"simple\"><rect fill=\"#FFFFFF\" height=\"45.9375\" id=\"E5\" rx=\"10\" ry=\"10\" style=\"stroke: #383838; stroke-width: 1.5;\" width=\"42\" x=\"58.5\" y=\"203\"/><text fill=\"#000000\" font-family=\"sans-serif\" font-size=\"12\" font-style=\"italic\" lengthAdjust=\"spacingAndGlyphs\" textLength=\"40\" x=\"59.5\" y=\"219.1387\">«part»</text><text fill=\"#000000\" font-family=\"sans-serif\" font-size=\"12\" lengthAdjust=\"spacingAndGlyphs\" textLength=\"24\" x=\"67.5\" y=\"233.1074\">b: P</text><line style=\"stroke: #383838; stroke-width: 1.5;\" x1=\"59.5\" x2=\"99.5\" y1=\"240.9375\" y2=\"240.9375\"/></a><!--MD5=[60a26617385b1d2d0262a64233df1f8d]\n",
       "class E6--><a href=\"psysml:7c20260d-33cb-4904-8feb-6f2059c0b9de\" target=\"_top\" title=\"psysml:7c20260d-33cb-4904-8feb-6f2059c0b9de\" xlink:actuate=\"onRequest\" xlink:href=\"psysml:7c20260d-33cb-4904-8feb-6f2059c0b9de\" xlink:show=\"new\" xlink:title=\"psysml:7c20260d-33cb-4904-8feb-6f2059c0b9de\" xlink:type=\"simple\"><rect fill=\"#FFFFFF\" height=\"45.9375\" id=\"E6\" rx=\"10\" ry=\"10\" style=\"stroke: #383838; stroke-width: 1.5;\" width=\"42\" x=\"58.5\" y=\"284\"/><text fill=\"#000000\" font-family=\"sans-serif\" font-size=\"12\" font-style=\"italic\" lengthAdjust=\"spacingAndGlyphs\" textLength=\"40\" x=\"59.5\" y=\"300.1387\">«part»</text><text fill=\"#000000\" font-family=\"sans-serif\" font-size=\"12\" lengthAdjust=\"spacingAndGlyphs\" textLength=\"23\" x=\"68\" y=\"314.1074\">c: P</text><line style=\"stroke: #383838; stroke-width: 1.5;\" x1=\"59.5\" x2=\"99.5\" y1=\"321.9375\" y2=\"321.9375\"/></a><!--MD5=[2156ba9850f5573cc1fc38a6a4b2f02b]\n",
       "class E7--><a href=\"psysml:a788bf26-d852-4daf-8a66-fd926f14abf3\" target=\"_top\" title=\"psysml:a788bf26-d852-4daf-8a66-fd926f14abf3\" xlink:actuate=\"onRequest\" xlink:href=\"psysml:a788bf26-d852-4daf-8a66-fd926f14abf3\" xlink:show=\"new\" xlink:title=\"psysml:a788bf26-d852-4daf-8a66-fd926f14abf3\" xlink:type=\"simple\"><rect fill=\"#FFFFFF\" height=\"45.9375\" id=\"E7\" rx=\"10\" ry=\"10\" style=\"stroke: #383838; stroke-width: 1.5;\" width=\"42\" x=\"58.5\" y=\"365\"/><text fill=\"#000000\" font-family=\"sans-serif\" font-size=\"12\" font-style=\"italic\" lengthAdjust=\"spacingAndGlyphs\" textLength=\"40\" x=\"59.5\" y=\"381.1387\">«part»</text><text fill=\"#000000\" font-family=\"sans-serif\" font-size=\"12\" lengthAdjust=\"spacingAndGlyphs\" textLength=\"8\" x=\"75.5\" y=\"395.1074\">d</text><line style=\"stroke: #383838; stroke-width: 1.5;\" x1=\"59.5\" x2=\"99.5\" y1=\"402.9375\" y2=\"402.9375\"/></a><!--MD5=[b9389687b975829384b498ac4b7476b2]\n",
       "class E8--><a href=\"psysml:8ca44daa-798d-42ea-8082-fded64fdb257\" target=\"_top\" title=\"psysml:8ca44daa-798d-42ea-8082-fded64fdb257\" xlink:actuate=\"onRequest\" xlink:href=\"psysml:8ca44daa-798d-42ea-8082-fded64fdb257\" xlink:show=\"new\" xlink:title=\"psysml:8ca44daa-798d-42ea-8082-fded64fdb257\" xlink:type=\"simple\"><rect fill=\"#FFFFFF\" height=\"45.9375\" id=\"E8\" rx=\"10\" ry=\"10\" style=\"stroke: #383838; stroke-width: 1.5;\" width=\"42\" x=\"58.5\" y=\"446\"/><text fill=\"#000000\" font-family=\"sans-serif\" font-size=\"12\" font-style=\"italic\" lengthAdjust=\"spacingAndGlyphs\" textLength=\"40\" x=\"59.5\" y=\"462.1387\">«part»</text><text fill=\"#000000\" font-family=\"sans-serif\" font-size=\"12\" lengthAdjust=\"spacingAndGlyphs\" textLength=\"8\" x=\"75.5\" y=\"476.1074\">e</text><line style=\"stroke: #383838; stroke-width: 1.5;\" x1=\"59.5\" x2=\"99.5\" y1=\"483.9375\" y2=\"483.9375\"/></a><!--MD5=[fd4143e9d270a159db93a4ea2a975926]\n",
       "class E9--><a href=\"psysml:94368454-840d-4091-abdb-e19ae5322c54\" target=\"_top\" title=\"psysml:94368454-840d-4091-abdb-e19ae5322c54\" xlink:actuate=\"onRequest\" xlink:href=\"psysml:94368454-840d-4091-abdb-e19ae5322c54\" xlink:show=\"new\" xlink:title=\"psysml:94368454-840d-4091-abdb-e19ae5322c54\" xlink:type=\"simple\"><rect fill=\"#FFFFFF\" height=\"45.9375\" id=\"E9\" rx=\"10\" ry=\"10\" style=\"stroke: #383838; stroke-width: 1.5;\" width=\"42\" x=\"58.5\" y=\"527\"/><text fill=\"#000000\" font-family=\"sans-serif\" font-size=\"12\" font-style=\"italic\" lengthAdjust=\"spacingAndGlyphs\" textLength=\"40\" x=\"59.5\" y=\"543.1387\">«part»</text><text fill=\"#000000\" font-family=\"sans-serif\" font-size=\"12\" lengthAdjust=\"spacingAndGlyphs\" textLength=\"4\" x=\"77.5\" y=\"557.1074\">f</text><line style=\"stroke: #383838; stroke-width: 1.5;\" x1=\"59.5\" x2=\"99.5\" y1=\"564.9375\" y2=\"564.9375\"/></a><!--MD5=[96f4274e9e20536e775497830990834d]\n",
       "class E10--><a href=\"psysml:8f8b3cba-ab00-4478-b69f-246a2e072be5\" target=\"_top\" title=\"psysml:8f8b3cba-ab00-4478-b69f-246a2e072be5\" xlink:actuate=\"onRequest\" xlink:href=\"psysml:8f8b3cba-ab00-4478-b69f-246a2e072be5\" xlink:show=\"new\" xlink:title=\"psysml:8f8b3cba-ab00-4478-b69f-246a2e072be5\" xlink:type=\"simple\"><rect fill=\"#FFFFFF\" height=\"45.9375\" id=\"E10\" rx=\"10\" ry=\"10\" style=\"stroke: #383838; stroke-width: 1.5;\" width=\"42\" x=\"58.5\" y=\"608\"/><text fill=\"#000000\" font-family=\"sans-serif\" font-size=\"12\" font-style=\"italic\" lengthAdjust=\"spacingAndGlyphs\" textLength=\"40\" x=\"59.5\" y=\"624.1387\">«part»</text><text fill=\"#000000\" font-family=\"sans-serif\" font-size=\"12\" lengthAdjust=\"spacingAndGlyphs\" textLength=\"8\" x=\"75.5\" y=\"638.1074\">g</text><line style=\"stroke: #383838; stroke-width: 1.5;\" x1=\"59.5\" x2=\"99.5\" y1=\"645.9375\" y2=\"645.9375\"/></a><!--MD5=[1dd1bfd58a279cf63c5f349dbc8fc6a1]\n",
       "class E11--><a href=\"psysml:2c45c451-c8b5-4e48-8592-55fa30d535c5\" target=\"_top\" title=\"psysml:2c45c451-c8b5-4e48-8592-55fa30d535c5\" xlink:actuate=\"onRequest\" xlink:href=\"psysml:2c45c451-c8b5-4e48-8592-55fa30d535c5\" xlink:show=\"new\" xlink:title=\"psysml:2c45c451-c8b5-4e48-8592-55fa30d535c5\" xlink:type=\"simple\"><rect fill=\"#FFFFFF\" height=\"88.3516\" id=\"E11\" style=\"stroke: #383838; stroke-width: 1.5;\" width=\"95\" x=\"32\" y=\"689\"/><text fill=\"#000000\" font-family=\"sans-serif\" font-size=\"12\" font-style=\"italic\" lengthAdjust=\"spacingAndGlyphs\" textLength=\"93\" x=\"33\" y=\"705.1387\">«attribute def»</text><text fill=\"#000000\" font-family=\"sans-serif\" font-size=\"12\" lengthAdjust=\"spacingAndGlyphs\" textLength=\"8\" x=\"75.5\" y=\"719.1074\">A</text><line style=\"stroke: #383838; stroke-width: 1.5;\" x1=\"33\" x2=\"126\" y1=\"726.9375\" y2=\"726.9375\"/><text fill=\"#000000\" font-family=\"sans-serif\" font-size=\"11\" lengthAdjust=\"spacingAndGlyphs\" textLength=\"51\" x=\"38\" y=\"757.9526\">i: Integer</text><text fill=\"#000000\" font-family=\"sans-serif\" font-size=\"11\" lengthAdjust=\"spacingAndGlyphs\" textLength=\"21\" x=\"38\" y=\"770.7573\">x: A</text><line style=\"stroke: #383838; stroke-width: 1.0;\" x1=\"33\" x2=\"52\" y1=\"741.3398\" y2=\"741.3398\"/><text fill=\"#000000\" font-family=\"sans-serif\" font-size=\"11\" lengthAdjust=\"spacingAndGlyphs\" textLength=\"55\" x=\"52\" y=\"744.6479\">attributes</text><line style=\"stroke: #383838; stroke-width: 1.0;\" x1=\"107\" x2=\"126\" y1=\"741.3398\" y2=\"741.3398\"/></a><!--MD5=[15ebcb19ae302d9b601edb458606d402]\n",
       "link E5 to E2--><a href=\"psysml:99c2055f-0301-4891-b65d-9e517e6365b1\" target=\"_top\" title=\"psysml:99c2055f-0301-4891-b65d-9e517e6365b1\" xlink:actuate=\"onRequest\" xlink:href=\"psysml:99c2055f-0301-4891-b65d-9e517e6365b1\" xlink:show=\"new\" xlink:title=\"psysml:99c2055f-0301-4891-b65d-9e517e6365b1\" xlink:type=\"simple\"><path d=\"M100.64,231.96 C118.11,237.13 144.16,244.84 167.38,251.72 \" fill=\"none\" id=\"E5-&gt;E2\" style=\"stroke: #383838; stroke-width: 1.0;\"/><polygon fill=\"#FFFFFF\" points=\"186.77,257.46,166.5639,258.7688,170.5445,245.3466,186.77,257.46\" style=\"stroke: #383838; stroke-width: 1.0;\"/><ellipse cx=\"161.6678\" cy=\"255.2306\" fill=\"#383838\" rx=\"2\" ry=\"2\" style=\"stroke: #383838; stroke-width: 1.0;\"/><ellipse cx=\"164.5111\" cy=\"245.6434\" fill=\"#383838\" rx=\"2\" ry=\"2\" style=\"stroke: #383838; stroke-width: 1.0;\"/></a><!--MD5=[2351f337d6de0f557b50152ba70847b5]\n",
       "link E6 to E2--><a href=\"psysml:035f6493-28ba-4968-b761-0ab46a395f55\" target=\"_top\" title=\"psysml:035f6493-28ba-4968-b761-0ab46a395f55\" xlink:actuate=\"onRequest\" xlink:href=\"psysml:035f6493-28ba-4968-b761-0ab46a395f55\" xlink:show=\"new\" xlink:title=\"psysml:035f6493-28ba-4968-b761-0ab46a395f55\" xlink:type=\"simple\"><path d=\"M100.64,301.18 C118.11,296.14 144.16,288.61 167.38,281.91 \" fill=\"none\" id=\"E6-&gt;E2\" style=\"stroke: #383838; stroke-width: 1.0;\"/><polygon fill=\"#FFFFFF\" points=\"186.77,276.31,170.4629,288.3132,166.5732,274.8644,186.77,276.31\" style=\"stroke: #383838; stroke-width: 1.0;\"/><ellipse cx=\"164.4316\" cy=\"287.9756\" fill=\"#383838\" rx=\"2\" ry=\"2\" style=\"stroke: #383838; stroke-width: 1.0;\"/><ellipse cx=\"161.6533\" cy=\"278.3693\" fill=\"#383838\" rx=\"2\" ry=\"2\" style=\"stroke: #383838; stroke-width: 1.0;\"/></a><!--MD5=[8e635a45f612384d82ab2cfb1e890934]\n",
       "@startuml\r\n",
       "left to right direction\r\n",
       "skinparam monochrome true\r\n",
       "skinparam classbackgroundcolor white\r\n",
       "skinparam shadowing false\r\n",
       "skinparam wrapWidth 300\r\n",
       "hide circle\r\n",
       "\r\n",
       "package \"MultiplicityTest\" as E1  [[psysml:d21f1d33-c8d8-4d7e-915c-a1dc21839292 ]]  {\r\n",
       "comp def \"P\" as E2  <<(T,blue) part def>> [[psysml:cfcc0fdc-4985-4a7c-8ed0-df1ec6a07f40 ]] {\r\n",
       "}\r\n",
       "comp usage \"n: Integer\" as E3  <<(T,blue) attribute>> [[psysml:6504cd03-3352-435e-8e5a-44d60f096993 ]] {\r\n",
       "}\r\n",
       "comp usage \"a\" as E4  <<(T,blue) part>> [[psysml:69df1372-c4de-42e4-b97b-1df20a9e4637 ]] {\r\n",
       "}\r\n",
       "comp usage \"b: P\" as E5  <<(T,blue) part>> [[psysml:ce135ed3-5db8-4159-aade-37d21406abf2 ]] {\r\n",
       "}\r\n",
       "comp usage \"c: P\" as E6  <<(T,blue) part>> [[psysml:7c20260d-33cb-4904-8feb-6f2059c0b9de ]] {\r\n",
       "}\r\n",
       "comp usage \"d\" as E7  <<(T,blue) part>> [[psysml:a788bf26-d852-4daf-8a66-fd926f14abf3 ]] {\r\n",
       "}\r\n",
       "comp usage \"e\" as E8  <<(T,blue) part>> [[psysml:8ca44daa-798d-42ea-8082-fded64fdb257 ]] {\r\n",
       "}\r\n",
       "comp usage \"f\" as E9  <<(T,blue) part>> [[psysml:94368454-840d-4091-abdb-e19ae5322c54 ]] {\r\n",
       "}\r\n",
       "comp usage \"g\" as E10  <<(T,blue) part>> [[psysml:8f8b3cba-ab00-4478-b69f-246a2e072be5 ]] {\r\n",
       "}\r\n",
       "comp def \"A\" as E11  <<(T,blue) attribute def>> [[psysml:2c45c451-c8b5-4e48-8592-55fa30d535c5 ]] {\r\n",
       "- - attributes - -\r\n",
       "i: Integer\r\n",
       "x: A\r\n",
       "}\r\n",
       "E5 - -:|> E2 [[psysml:99c2055f-0301-4891-b65d-9e517e6365b1 ]] \r\n",
       "E6 - -:|> E2 [[psysml:035f6493-28ba-4968-b761-0ab46a395f55 ]] \r\n",
       "}\r\n",
       "@enduml\r\n",
       "\n",
       "PlantUML version 1.2020.13(Sat Jun 13 12:26:38 UTC 2020)\n",
       "(EPL source distribution)\n",
       "Java Runtime: OpenJDK Runtime Environment\n",
       "JVM: OpenJDK 64-Bit Server VM\n",
       "Default Encoding: UTF-8\n",
       "Language: en\n",
       "Country: null\n",
       "--></g></svg>"
      ]
     },
     "execution_count": 16,
     "metadata": {},
     "output_type": "execute_result"
    }
   ],
   "source": [
    "%viz --style=\"LR\" --view=\"Default\" \"MultiplicityTest\""
   ]
  },
  {
   "cell_type": "code",
   "execution_count": 17,
   "id": "199ed177",
   "metadata": {
    "execution": {
     "iopub.execute_input": "2021-06-30T09:24:31.081602Z",
     "iopub.status.busy": "2021-06-30T09:24:31.080755Z",
     "iopub.status.idle": "2021-06-30T09:24:31.138916Z",
     "shell.execute_reply": "2021-06-30T09:24:31.138565Z"
    }
   },
   "outputs": [
    {
     "data": {
      "image/svg+xml": [
       "<?xml version=\"1.0\" encoding=\"UTF-8\" standalone=\"no\"?><svg xmlns=\"http://www.w3.org/2000/svg\" xmlns:xlink=\"http://www.w3.org/1999/xlink\" contentScriptType=\"application/ecmascript\" contentStyleType=\"text/css\" height=\"805px\" preserveAspectRatio=\"none\" style=\"width:291px;height:805px;\" version=\"1.1\" viewBox=\"0 0 291 805\" width=\"291px\" zoomAndPan=\"magnify\"><defs/><g><!--MD5=[fbc87193dbaf4d95561dea2c320d4a47]\n",
       "cluster E1--><a href=\"psysml:d21f1d33-c8d8-4d7e-915c-a1dc21839292\" target=\"_top\" title=\"psysml:d21f1d33-c8d8-4d7e-915c-a1dc21839292\" xlink:actuate=\"onRequest\" xlink:href=\"psysml:d21f1d33-c8d8-4d7e-915c-a1dc21839292\" xlink:show=\"new\" xlink:title=\"psysml:d21f1d33-c8d8-4d7e-915c-a1dc21839292\" xlink:type=\"simple\"><polygon fill=\"#FFFFFF\" points=\"16,6,140,6,147,28.2969,269,28.2969,269,793,16,793,16,6\" style=\"stroke: #000000; stroke-width: 1.5;\"/><line style=\"stroke: #000000; stroke-width: 1.5;\" x1=\"16\" x2=\"147\" y1=\"28.2969\" y2=\"28.2969\"/><text fill=\"#000000\" font-family=\"sans-serif\" font-size=\"14\" font-weight=\"bold\" lengthAdjust=\"spacingAndGlyphs\" textLength=\"118\" x=\"20\" y=\"20.9951\">MultiplicityTest</text></a><!--MD5=[b4997ac47864f28c2f74865a473b2911]\n",
       "class E2--><a href=\"psysml:cfcc0fdc-4985-4a7c-8ed0-df1ec6a07f40\" target=\"_top\" title=\"psysml:cfcc0fdc-4985-4a7c-8ed0-df1ec6a07f40\" xlink:actuate=\"onRequest\" xlink:href=\"psysml:cfcc0fdc-4985-4a7c-8ed0-df1ec6a07f40\" xlink:show=\"new\" xlink:title=\"psysml:cfcc0fdc-4985-4a7c-8ed0-df1ec6a07f40\" xlink:type=\"simple\"><rect fill=\"#FFFFFF\" height=\"45.9375\" id=\"E2\" style=\"stroke: #383838; stroke-width: 1.5;\" width=\"66\" x=\"187\" y=\"244\"/><text fill=\"#000000\" font-family=\"sans-serif\" font-size=\"12\" font-style=\"italic\" lengthAdjust=\"spacingAndGlyphs\" textLength=\"64\" x=\"188\" y=\"260.1387\">«part def»</text><text fill=\"#000000\" font-family=\"sans-serif\" font-size=\"12\" lengthAdjust=\"spacingAndGlyphs\" textLength=\"8\" x=\"216\" y=\"274.1074\">P</text><line style=\"stroke: #383838; stroke-width: 1.5;\" x1=\"188\" x2=\"252\" y1=\"281.9375\" y2=\"281.9375\"/></a><!--MD5=[09b614a08d8cba4a07c9adeb5e0fee81]\n",
       "class E3--><a href=\"psysml:6504cd03-3352-435e-8e5a-44d60f096993\" target=\"_top\" title=\"psysml:6504cd03-3352-435e-8e5a-44d60f096993\" xlink:actuate=\"onRequest\" xlink:href=\"psysml:6504cd03-3352-435e-8e5a-44d60f096993\" xlink:show=\"new\" xlink:title=\"psysml:6504cd03-3352-435e-8e5a-44d60f096993\" xlink:type=\"simple\"><rect fill=\"#FFFFFF\" height=\"45.9375\" id=\"E3\" rx=\"10\" ry=\"10\" style=\"stroke: #383838; stroke-width: 1.5;\" width=\"71\" x=\"44\" y=\"41\"/><text fill=\"#000000\" font-family=\"sans-serif\" font-size=\"12\" font-style=\"italic\" lengthAdjust=\"spacingAndGlyphs\" textLength=\"69\" x=\"45\" y=\"57.1387\">«attribute»</text><text fill=\"#000000\" font-family=\"sans-serif\" font-size=\"12\" lengthAdjust=\"spacingAndGlyphs\" textLength=\"61\" x=\"49\" y=\"71.1074\">n: Integer</text><line style=\"stroke: #383838; stroke-width: 1.5;\" x1=\"45\" x2=\"114\" y1=\"78.9375\" y2=\"78.9375\"/></a><!--MD5=[ebbe1d658d1005bcc118a6aa81145e00]\n",
       "class E4--><a href=\"psysml:69df1372-c4de-42e4-b97b-1df20a9e4637\" target=\"_top\" title=\"psysml:69df1372-c4de-42e4-b97b-1df20a9e4637\" xlink:actuate=\"onRequest\" xlink:href=\"psysml:69df1372-c4de-42e4-b97b-1df20a9e4637\" xlink:show=\"new\" xlink:title=\"psysml:69df1372-c4de-42e4-b97b-1df20a9e4637\" xlink:type=\"simple\"><rect fill=\"#FFFFFF\" height=\"45.9375\" id=\"E4\" rx=\"10\" ry=\"10\" style=\"stroke: #383838; stroke-width: 1.5;\" width=\"42\" x=\"58.5\" y=\"122\"/><text fill=\"#000000\" font-family=\"sans-serif\" font-size=\"12\" font-style=\"italic\" lengthAdjust=\"spacingAndGlyphs\" textLength=\"40\" x=\"59.5\" y=\"138.1387\">«part»</text><text fill=\"#000000\" font-family=\"sans-serif\" font-size=\"12\" lengthAdjust=\"spacingAndGlyphs\" textLength=\"8\" x=\"75.5\" y=\"152.1074\">a</text><line style=\"stroke: #383838; stroke-width: 1.5;\" x1=\"59.5\" x2=\"99.5\" y1=\"159.9375\" y2=\"159.9375\"/></a><!--MD5=[270fce915f116d4de14055a7c1d9a0f3]\n",
       "class E5--><a href=\"psysml:ce135ed3-5db8-4159-aade-37d21406abf2\" target=\"_top\" title=\"psysml:ce135ed3-5db8-4159-aade-37d21406abf2\" xlink:actuate=\"onRequest\" xlink:href=\"psysml:ce135ed3-5db8-4159-aade-37d21406abf2\" xlink:show=\"new\" xlink:title=\"psysml:ce135ed3-5db8-4159-aade-37d21406abf2\" xlink:type=\"simple\"><rect fill=\"#FFFFFF\" height=\"45.9375\" id=\"E5\" rx=\"10\" ry=\"10\" style=\"stroke: #383838; stroke-width: 1.5;\" width=\"42\" x=\"58.5\" y=\"203\"/><text fill=\"#000000\" font-family=\"sans-serif\" font-size=\"12\" font-style=\"italic\" lengthAdjust=\"spacingAndGlyphs\" textLength=\"40\" x=\"59.5\" y=\"219.1387\">«part»</text><text fill=\"#000000\" font-family=\"sans-serif\" font-size=\"12\" lengthAdjust=\"spacingAndGlyphs\" textLength=\"24\" x=\"67.5\" y=\"233.1074\">b: P</text><line style=\"stroke: #383838; stroke-width: 1.5;\" x1=\"59.5\" x2=\"99.5\" y1=\"240.9375\" y2=\"240.9375\"/></a><!--MD5=[60a26617385b1d2d0262a64233df1f8d]\n",
       "class E6--><a href=\"psysml:7c20260d-33cb-4904-8feb-6f2059c0b9de\" target=\"_top\" title=\"psysml:7c20260d-33cb-4904-8feb-6f2059c0b9de\" xlink:actuate=\"onRequest\" xlink:href=\"psysml:7c20260d-33cb-4904-8feb-6f2059c0b9de\" xlink:show=\"new\" xlink:title=\"psysml:7c20260d-33cb-4904-8feb-6f2059c0b9de\" xlink:type=\"simple\"><rect fill=\"#FFFFFF\" height=\"45.9375\" id=\"E6\" rx=\"10\" ry=\"10\" style=\"stroke: #383838; stroke-width: 1.5;\" width=\"42\" x=\"58.5\" y=\"284\"/><text fill=\"#000000\" font-family=\"sans-serif\" font-size=\"12\" font-style=\"italic\" lengthAdjust=\"spacingAndGlyphs\" textLength=\"40\" x=\"59.5\" y=\"300.1387\">«part»</text><text fill=\"#000000\" font-family=\"sans-serif\" font-size=\"12\" lengthAdjust=\"spacingAndGlyphs\" textLength=\"23\" x=\"68\" y=\"314.1074\">c: P</text><line style=\"stroke: #383838; stroke-width: 1.5;\" x1=\"59.5\" x2=\"99.5\" y1=\"321.9375\" y2=\"321.9375\"/></a><!--MD5=[2156ba9850f5573cc1fc38a6a4b2f02b]\n",
       "class E7--><a href=\"psysml:a788bf26-d852-4daf-8a66-fd926f14abf3\" target=\"_top\" title=\"psysml:a788bf26-d852-4daf-8a66-fd926f14abf3\" xlink:actuate=\"onRequest\" xlink:href=\"psysml:a788bf26-d852-4daf-8a66-fd926f14abf3\" xlink:show=\"new\" xlink:title=\"psysml:a788bf26-d852-4daf-8a66-fd926f14abf3\" xlink:type=\"simple\"><rect fill=\"#FFFFFF\" height=\"45.9375\" id=\"E7\" rx=\"10\" ry=\"10\" style=\"stroke: #383838; stroke-width: 1.5;\" width=\"42\" x=\"58.5\" y=\"365\"/><text fill=\"#000000\" font-family=\"sans-serif\" font-size=\"12\" font-style=\"italic\" lengthAdjust=\"spacingAndGlyphs\" textLength=\"40\" x=\"59.5\" y=\"381.1387\">«part»</text><text fill=\"#000000\" font-family=\"sans-serif\" font-size=\"12\" lengthAdjust=\"spacingAndGlyphs\" textLength=\"8\" x=\"75.5\" y=\"395.1074\">d</text><line style=\"stroke: #383838; stroke-width: 1.5;\" x1=\"59.5\" x2=\"99.5\" y1=\"402.9375\" y2=\"402.9375\"/></a><!--MD5=[b9389687b975829384b498ac4b7476b2]\n",
       "class E8--><a href=\"psysml:8ca44daa-798d-42ea-8082-fded64fdb257\" target=\"_top\" title=\"psysml:8ca44daa-798d-42ea-8082-fded64fdb257\" xlink:actuate=\"onRequest\" xlink:href=\"psysml:8ca44daa-798d-42ea-8082-fded64fdb257\" xlink:show=\"new\" xlink:title=\"psysml:8ca44daa-798d-42ea-8082-fded64fdb257\" xlink:type=\"simple\"><rect fill=\"#FFFFFF\" height=\"45.9375\" id=\"E8\" rx=\"10\" ry=\"10\" style=\"stroke: #383838; stroke-width: 1.5;\" width=\"42\" x=\"58.5\" y=\"446\"/><text fill=\"#000000\" font-family=\"sans-serif\" font-size=\"12\" font-style=\"italic\" lengthAdjust=\"spacingAndGlyphs\" textLength=\"40\" x=\"59.5\" y=\"462.1387\">«part»</text><text fill=\"#000000\" font-family=\"sans-serif\" font-size=\"12\" lengthAdjust=\"spacingAndGlyphs\" textLength=\"8\" x=\"75.5\" y=\"476.1074\">e</text><line style=\"stroke: #383838; stroke-width: 1.5;\" x1=\"59.5\" x2=\"99.5\" y1=\"483.9375\" y2=\"483.9375\"/></a><!--MD5=[fd4143e9d270a159db93a4ea2a975926]\n",
       "class E9--><a href=\"psysml:94368454-840d-4091-abdb-e19ae5322c54\" target=\"_top\" title=\"psysml:94368454-840d-4091-abdb-e19ae5322c54\" xlink:actuate=\"onRequest\" xlink:href=\"psysml:94368454-840d-4091-abdb-e19ae5322c54\" xlink:show=\"new\" xlink:title=\"psysml:94368454-840d-4091-abdb-e19ae5322c54\" xlink:type=\"simple\"><rect fill=\"#FFFFFF\" height=\"45.9375\" id=\"E9\" rx=\"10\" ry=\"10\" style=\"stroke: #383838; stroke-width: 1.5;\" width=\"42\" x=\"58.5\" y=\"527\"/><text fill=\"#000000\" font-family=\"sans-serif\" font-size=\"12\" font-style=\"italic\" lengthAdjust=\"spacingAndGlyphs\" textLength=\"40\" x=\"59.5\" y=\"543.1387\">«part»</text><text fill=\"#000000\" font-family=\"sans-serif\" font-size=\"12\" lengthAdjust=\"spacingAndGlyphs\" textLength=\"4\" x=\"77.5\" y=\"557.1074\">f</text><line style=\"stroke: #383838; stroke-width: 1.5;\" x1=\"59.5\" x2=\"99.5\" y1=\"564.9375\" y2=\"564.9375\"/></a><!--MD5=[96f4274e9e20536e775497830990834d]\n",
       "class E10--><a href=\"psysml:8f8b3cba-ab00-4478-b69f-246a2e072be5\" target=\"_top\" title=\"psysml:8f8b3cba-ab00-4478-b69f-246a2e072be5\" xlink:actuate=\"onRequest\" xlink:href=\"psysml:8f8b3cba-ab00-4478-b69f-246a2e072be5\" xlink:show=\"new\" xlink:title=\"psysml:8f8b3cba-ab00-4478-b69f-246a2e072be5\" xlink:type=\"simple\"><rect fill=\"#FFFFFF\" height=\"45.9375\" id=\"E10\" rx=\"10\" ry=\"10\" style=\"stroke: #383838; stroke-width: 1.5;\" width=\"42\" x=\"58.5\" y=\"608\"/><text fill=\"#000000\" font-family=\"sans-serif\" font-size=\"12\" font-style=\"italic\" lengthAdjust=\"spacingAndGlyphs\" textLength=\"40\" x=\"59.5\" y=\"624.1387\">«part»</text><text fill=\"#000000\" font-family=\"sans-serif\" font-size=\"12\" lengthAdjust=\"spacingAndGlyphs\" textLength=\"8\" x=\"75.5\" y=\"638.1074\">g</text><line style=\"stroke: #383838; stroke-width: 1.5;\" x1=\"59.5\" x2=\"99.5\" y1=\"645.9375\" y2=\"645.9375\"/></a><!--MD5=[1dd1bfd58a279cf63c5f349dbc8fc6a1]\n",
       "class E11--><a href=\"psysml:2c45c451-c8b5-4e48-8592-55fa30d535c5\" target=\"_top\" title=\"psysml:2c45c451-c8b5-4e48-8592-55fa30d535c5\" xlink:actuate=\"onRequest\" xlink:href=\"psysml:2c45c451-c8b5-4e48-8592-55fa30d535c5\" xlink:show=\"new\" xlink:title=\"psysml:2c45c451-c8b5-4e48-8592-55fa30d535c5\" xlink:type=\"simple\"><rect fill=\"#FFFFFF\" height=\"88.3516\" id=\"E11\" style=\"stroke: #383838; stroke-width: 1.5;\" width=\"95\" x=\"32\" y=\"689\"/><text fill=\"#000000\" font-family=\"sans-serif\" font-size=\"12\" font-style=\"italic\" lengthAdjust=\"spacingAndGlyphs\" textLength=\"93\" x=\"33\" y=\"705.1387\">«attribute def»</text><text fill=\"#000000\" font-family=\"sans-serif\" font-size=\"12\" lengthAdjust=\"spacingAndGlyphs\" textLength=\"8\" x=\"75.5\" y=\"719.1074\">A</text><line style=\"stroke: #383838; stroke-width: 1.5;\" x1=\"33\" x2=\"126\" y1=\"726.9375\" y2=\"726.9375\"/><text fill=\"#000000\" font-family=\"sans-serif\" font-size=\"11\" lengthAdjust=\"spacingAndGlyphs\" textLength=\"51\" x=\"38\" y=\"757.9526\">i: Integer</text><text fill=\"#000000\" font-family=\"sans-serif\" font-size=\"11\" lengthAdjust=\"spacingAndGlyphs\" textLength=\"21\" x=\"38\" y=\"770.7573\">x: A</text><line style=\"stroke: #383838; stroke-width: 1.0;\" x1=\"33\" x2=\"52\" y1=\"741.3398\" y2=\"741.3398\"/><text fill=\"#000000\" font-family=\"sans-serif\" font-size=\"11\" lengthAdjust=\"spacingAndGlyphs\" textLength=\"55\" x=\"52\" y=\"744.6479\">attributes</text><line style=\"stroke: #383838; stroke-width: 1.0;\" x1=\"107\" x2=\"126\" y1=\"741.3398\" y2=\"741.3398\"/></a><!--MD5=[15ebcb19ae302d9b601edb458606d402]\n",
       "link E5 to E2--><a href=\"psysml:99c2055f-0301-4891-b65d-9e517e6365b1\" target=\"_top\" title=\"psysml:99c2055f-0301-4891-b65d-9e517e6365b1\" xlink:actuate=\"onRequest\" xlink:href=\"psysml:99c2055f-0301-4891-b65d-9e517e6365b1\" xlink:show=\"new\" xlink:title=\"psysml:99c2055f-0301-4891-b65d-9e517e6365b1\" xlink:type=\"simple\"><path d=\"M100.64,231.96 C118.11,237.13 144.16,244.84 167.38,251.72 \" fill=\"none\" id=\"E5-&gt;E2\" style=\"stroke: #383838; stroke-width: 1.0;\"/><polygon fill=\"#FFFFFF\" points=\"186.77,257.46,166.5639,258.7688,170.5445,245.3466,186.77,257.46\" style=\"stroke: #383838; stroke-width: 1.0;\"/><ellipse cx=\"161.6678\" cy=\"255.2306\" fill=\"#383838\" rx=\"2\" ry=\"2\" style=\"stroke: #383838; stroke-width: 1.0;\"/><ellipse cx=\"164.5111\" cy=\"245.6434\" fill=\"#383838\" rx=\"2\" ry=\"2\" style=\"stroke: #383838; stroke-width: 1.0;\"/></a><!--MD5=[2351f337d6de0f557b50152ba70847b5]\n",
       "link E6 to E2--><a href=\"psysml:035f6493-28ba-4968-b761-0ab46a395f55\" target=\"_top\" title=\"psysml:035f6493-28ba-4968-b761-0ab46a395f55\" xlink:actuate=\"onRequest\" xlink:href=\"psysml:035f6493-28ba-4968-b761-0ab46a395f55\" xlink:show=\"new\" xlink:title=\"psysml:035f6493-28ba-4968-b761-0ab46a395f55\" xlink:type=\"simple\"><path d=\"M100.64,301.18 C118.11,296.14 144.16,288.61 167.38,281.91 \" fill=\"none\" id=\"E6-&gt;E2\" style=\"stroke: #383838; stroke-width: 1.0;\"/><polygon fill=\"#FFFFFF\" points=\"186.77,276.31,170.4629,288.3132,166.5732,274.8644,186.77,276.31\" style=\"stroke: #383838; stroke-width: 1.0;\"/><ellipse cx=\"164.4316\" cy=\"287.9756\" fill=\"#383838\" rx=\"2\" ry=\"2\" style=\"stroke: #383838; stroke-width: 1.0;\"/><ellipse cx=\"161.6533\" cy=\"278.3693\" fill=\"#383838\" rx=\"2\" ry=\"2\" style=\"stroke: #383838; stroke-width: 1.0;\"/></a><!--MD5=[8e635a45f612384d82ab2cfb1e890934]\n",
       "@startuml\r\n",
       "left to right direction\r\n",
       "skinparam monochrome true\r\n",
       "skinparam classbackgroundcolor white\r\n",
       "skinparam shadowing false\r\n",
       "skinparam wrapWidth 300\r\n",
       "hide circle\r\n",
       "\r\n",
       "package \"MultiplicityTest\" as E1  [[psysml:d21f1d33-c8d8-4d7e-915c-a1dc21839292 ]]  {\r\n",
       "comp def \"P\" as E2  <<(T,blue) part def>> [[psysml:cfcc0fdc-4985-4a7c-8ed0-df1ec6a07f40 ]] {\r\n",
       "}\r\n",
       "comp usage \"n: Integer\" as E3  <<(T,blue) attribute>> [[psysml:6504cd03-3352-435e-8e5a-44d60f096993 ]] {\r\n",
       "}\r\n",
       "comp usage \"a\" as E4  <<(T,blue) part>> [[psysml:69df1372-c4de-42e4-b97b-1df20a9e4637 ]] {\r\n",
       "}\r\n",
       "comp usage \"b: P\" as E5  <<(T,blue) part>> [[psysml:ce135ed3-5db8-4159-aade-37d21406abf2 ]] {\r\n",
       "}\r\n",
       "comp usage \"c: P\" as E6  <<(T,blue) part>> [[psysml:7c20260d-33cb-4904-8feb-6f2059c0b9de ]] {\r\n",
       "}\r\n",
       "comp usage \"d\" as E7  <<(T,blue) part>> [[psysml:a788bf26-d852-4daf-8a66-fd926f14abf3 ]] {\r\n",
       "}\r\n",
       "comp usage \"e\" as E8  <<(T,blue) part>> [[psysml:8ca44daa-798d-42ea-8082-fded64fdb257 ]] {\r\n",
       "}\r\n",
       "comp usage \"f\" as E9  <<(T,blue) part>> [[psysml:94368454-840d-4091-abdb-e19ae5322c54 ]] {\r\n",
       "}\r\n",
       "comp usage \"g\" as E10  <<(T,blue) part>> [[psysml:8f8b3cba-ab00-4478-b69f-246a2e072be5 ]] {\r\n",
       "}\r\n",
       "comp def \"A\" as E11  <<(T,blue) attribute def>> [[psysml:2c45c451-c8b5-4e48-8592-55fa30d535c5 ]] {\r\n",
       "- - attributes - -\r\n",
       "i: Integer\r\n",
       "x: A\r\n",
       "}\r\n",
       "E5 - -:|> E2 [[psysml:99c2055f-0301-4891-b65d-9e517e6365b1 ]] \r\n",
       "E6 - -:|> E2 [[psysml:035f6493-28ba-4968-b761-0ab46a395f55 ]] \r\n",
       "}\r\n",
       "@enduml\r\n",
       "\n",
       "PlantUML version 1.2020.13(Sat Jun 13 12:26:38 UTC 2020)\n",
       "(EPL source distribution)\n",
       "Java Runtime: OpenJDK Runtime Environment\n",
       "JVM: OpenJDK 64-Bit Server VM\n",
       "Default Encoding: UTF-8\n",
       "Language: en\n",
       "Country: null\n",
       "--></g></svg>"
      ]
     },
     "execution_count": 17,
     "metadata": {},
     "output_type": "execute_result"
    }
   ],
   "source": [
    "%viz --style=\"LR\" --view=\"Tree\" \"MultiplicityTest\""
   ]
  },
  {
   "cell_type": "code",
   "execution_count": 18,
   "id": "0c69f914",
   "metadata": {
    "execution": {
     "iopub.execute_input": "2021-06-30T09:24:31.190374Z",
     "iopub.status.busy": "2021-06-30T09:24:31.189876Z",
     "iopub.status.idle": "2021-06-30T09:24:31.197599Z",
     "shell.execute_reply": "2021-06-30T09:24:31.197995Z"
    }
   },
   "outputs": [
    {
     "data": {
      "image/svg+xml": [
       "<?xml version=\"1.0\" encoding=\"UTF-8\" standalone=\"no\"?><svg xmlns=\"http://www.w3.org/2000/svg\" xmlns:xlink=\"http://www.w3.org/1999/xlink\" contentScriptType=\"application/ecmascript\" contentStyleType=\"text/css\" height=\"12px\" preserveAspectRatio=\"none\" style=\"width:12px;height:12px;\" version=\"1.1\" viewBox=\"0 0 12 12\" width=\"12px\" zoomAndPan=\"magnify\"><defs/><g><!--MD5=[19d285c9d72a204eba4e2cd117d745e8]\n",
       "@startuml\r\n",
       "left to right direction\r\n",
       "skinparam monochrome true\r\n",
       "skinparam classbackgroundcolor white\r\n",
       "skinparam shadowing false\r\n",
       "skinparam wrapWidth 300\r\n",
       "hide circle\r\n",
       "\r\n",
       "@enduml\r\n",
       "\n",
       "PlantUML version 1.2020.13(Sat Jun 13 12:26:38 UTC 2020)\n",
       "(EPL source distribution)\n",
       "Java Runtime: OpenJDK Runtime Environment\n",
       "JVM: OpenJDK 64-Bit Server VM\n",
       "Default Encoding: UTF-8\n",
       "Language: en\n",
       "Country: null\n",
       "--></g></svg>"
      ]
     },
     "execution_count": 18,
     "metadata": {},
     "output_type": "execute_result"
    }
   ],
   "source": [
    "%viz --style=\"LR\" --view=\"State\" \"MultiplicityTest\""
   ]
  },
  {
   "cell_type": "code",
   "execution_count": 19,
   "id": "8bf63c16",
   "metadata": {
    "execution": {
     "iopub.execute_input": "2021-06-30T09:24:31.248020Z",
     "iopub.status.busy": "2021-06-30T09:24:31.247528Z",
     "iopub.status.idle": "2021-06-30T09:24:31.282592Z",
     "shell.execute_reply": "2021-06-30T09:24:31.281204Z"
    }
   },
   "outputs": [
    {
     "data": {
      "image/svg+xml": [
       "<?xml version=\"1.0\" encoding=\"UTF-8\" standalone=\"no\"?><svg xmlns=\"http://www.w3.org/2000/svg\" xmlns:xlink=\"http://www.w3.org/1999/xlink\" contentScriptType=\"application/ecmascript\" contentStyleType=\"text/css\" height=\"797px\" preserveAspectRatio=\"none\" style=\"width:172px;height:797px;\" version=\"1.1\" viewBox=\"0 0 172 797\" width=\"172px\" zoomAndPan=\"magnify\"><defs/><g><!--MD5=[fbc87193dbaf4d95561dea2c320d4a47]\n",
       "cluster E1--><a href=\"psysml:d21f1d33-c8d8-4d7e-915c-a1dc21839292\" target=\"_top\" title=\"psysml:d21f1d33-c8d8-4d7e-915c-a1dc21839292\" xlink:actuate=\"onRequest\" xlink:href=\"psysml:d21f1d33-c8d8-4d7e-915c-a1dc21839292\" xlink:show=\"new\" xlink:title=\"psysml:d21f1d33-c8d8-4d7e-915c-a1dc21839292\" xlink:type=\"simple\"><polygon fill=\"#FFFFFF\" points=\"16,6,140,6,147,28.2969,150,28.2969,150,785,16,785,16,6\" style=\"stroke: #000000; stroke-width: 1.5;\"/><line style=\"stroke: #000000; stroke-width: 1.5;\" x1=\"16\" x2=\"147\" y1=\"28.2969\" y2=\"28.2969\"/><text fill=\"#000000\" font-family=\"sans-serif\" font-size=\"14\" font-weight=\"bold\" lengthAdjust=\"spacingAndGlyphs\" textLength=\"118\" x=\"20\" y=\"20.9951\">MultiplicityTest</text></a><!--MD5=[09b614a08d8cba4a07c9adeb5e0fee81]\n",
       "class E3--><a href=\"psysml:6504cd03-3352-435e-8e5a-44d60f096993\" target=\"_top\" title=\"psysml:6504cd03-3352-435e-8e5a-44d60f096993\" xlink:actuate=\"onRequest\" xlink:href=\"psysml:6504cd03-3352-435e-8e5a-44d60f096993\" xlink:show=\"new\" xlink:title=\"psysml:6504cd03-3352-435e-8e5a-44d60f096993\" xlink:type=\"simple\"><rect fill=\"#FFFFFF\" height=\"45.9375\" id=\"E3\" rx=\"10\" ry=\"10\" style=\"stroke: #383838; stroke-width: 1.5;\" width=\"71\" x=\"47.5\" y=\"41\"/><text fill=\"#000000\" font-family=\"sans-serif\" font-size=\"12\" font-style=\"italic\" lengthAdjust=\"spacingAndGlyphs\" textLength=\"69\" x=\"48.5\" y=\"57.1387\">«attribute»</text><text fill=\"#000000\" font-family=\"sans-serif\" font-size=\"12\" lengthAdjust=\"spacingAndGlyphs\" textLength=\"61\" x=\"52.5\" y=\"71.1074\">n: Integer</text><line style=\"stroke: #383838; stroke-width: 1.5;\" x1=\"48.5\" x2=\"117.5\" y1=\"78.9375\" y2=\"78.9375\"/></a><g id=\"E1.E11\"><a href=\"psysml:2c45c451-c8b5-4e48-8592-55fa30d535c5\" target=\"_top\" title=\"psysml:2c45c451-c8b5-4e48-8592-55fa30d535c5\" xlink:actuate=\"onRequest\" xlink:href=\"psysml:2c45c451-c8b5-4e48-8592-55fa30d535c5\" xlink:show=\"new\" xlink:title=\"psysml:2c45c451-c8b5-4e48-8592-55fa30d535c5\" xlink:type=\"simple\"><rect fill=\"#FFFFFF\" height=\"42.9375\" id=\"E11\" style=\"stroke: #383838; stroke-width: 1.5;\" width=\"100\" x=\"33\" y=\"122.5\"/><rect fill=\"#F8F8F8\" height=\"37.9375\" style=\"stroke: #383838; stroke-width: 1.5;\" width=\"100\" x=\"33\" y=\"122.5\"/><text fill=\"#000000\" font-family=\"sans-serif\" font-size=\"12\" font-style=\"italic\" lengthAdjust=\"spacingAndGlyphs\" textLength=\"93\" x=\"36.5\" y=\"138.6387\">«attribute def»</text><text fill=\"#000000\" font-family=\"sans-serif\" font-size=\"12\" lengthAdjust=\"spacingAndGlyphs\" textLength=\"8\" x=\"79\" y=\"152.6074\">A</text></a></g><g id=\"E1.E2\"><a href=\"psysml:cfcc0fdc-4985-4a7c-8ed0-df1ec6a07f40\" target=\"_top\" title=\"psysml:cfcc0fdc-4985-4a7c-8ed0-df1ec6a07f40\" xlink:actuate=\"onRequest\" xlink:href=\"psysml:cfcc0fdc-4985-4a7c-8ed0-df1ec6a07f40\" xlink:show=\"new\" xlink:title=\"psysml:cfcc0fdc-4985-4a7c-8ed0-df1ec6a07f40\" xlink:type=\"simple\"><rect fill=\"#FFFFFF\" height=\"42.9375\" id=\"E2\" style=\"stroke: #383838; stroke-width: 1.5;\" width=\"71\" x=\"47.5\" y=\"200.5\"/><rect fill=\"#F8F8F8\" height=\"37.9375\" style=\"stroke: #383838; stroke-width: 1.5;\" width=\"71\" x=\"47.5\" y=\"200.5\"/><text fill=\"#000000\" font-family=\"sans-serif\" font-size=\"12\" font-style=\"italic\" lengthAdjust=\"spacingAndGlyphs\" textLength=\"64\" x=\"51\" y=\"216.6387\">«part def»</text><text fill=\"#000000\" font-family=\"sans-serif\" font-size=\"12\" lengthAdjust=\"spacingAndGlyphs\" textLength=\"8\" x=\"79\" y=\"230.6074\">P</text></a></g><g id=\"E1.E4\"><a href=\"psysml:69df1372-c4de-42e4-b97b-1df20a9e4637\" target=\"_top\" title=\"psysml:69df1372-c4de-42e4-b97b-1df20a9e4637\" xlink:actuate=\"onRequest\" xlink:href=\"psysml:69df1372-c4de-42e4-b97b-1df20a9e4637\" xlink:show=\"new\" xlink:title=\"psysml:69df1372-c4de-42e4-b97b-1df20a9e4637\" xlink:type=\"simple\"><rect fill=\"#FFFFFF\" height=\"40\" id=\"E4\" rx=\"10\" ry=\"10\" style=\"stroke: #383838; stroke-width: 1.5;\" width=\"50\" x=\"58\" y=\"279\"/><rect fill=\"#F8F8F8\" height=\"23.9688\" rx=\"10\" ry=\"10\" style=\"stroke: #F8F8F8; stroke-width: 1.5;\" width=\"50\" x=\"58\" y=\"279\"/><rect fill=\"#F8F8F8\" height=\"10\" style=\"stroke: #F8F8F8; stroke-width: 1.5;\" width=\"50\" x=\"58\" y=\"292.9688\"/><rect fill=\"none\" height=\"40\" id=\"E4\" rx=\"10\" ry=\"10\" style=\"stroke: #383838; stroke-width: 1.5;\" width=\"50\" x=\"58\" y=\"279\"/><text fill=\"#000000\" font-family=\"sans-serif\" font-size=\"12\" lengthAdjust=\"spacingAndGlyphs\" textLength=\"8\" x=\"79\" y=\"295.1387\">a</text></a></g><g id=\"E1.E5\"><a href=\"psysml:ce135ed3-5db8-4159-aade-37d21406abf2\" target=\"_top\" title=\"psysml:ce135ed3-5db8-4159-aade-37d21406abf2\" xlink:actuate=\"onRequest\" xlink:href=\"psysml:ce135ed3-5db8-4159-aade-37d21406abf2\" xlink:show=\"new\" xlink:title=\"psysml:ce135ed3-5db8-4159-aade-37d21406abf2\" xlink:type=\"simple\"><rect fill=\"#FFFFFF\" height=\"40\" id=\"E5\" rx=\"10\" ry=\"10\" style=\"stroke: #383838; stroke-width: 1.5;\" width=\"50\" x=\"58\" y=\"354\"/><rect fill=\"#F8F8F8\" height=\"23.9688\" rx=\"10\" ry=\"10\" style=\"stroke: #F8F8F8; stroke-width: 1.5;\" width=\"50\" x=\"58\" y=\"354\"/><rect fill=\"#F8F8F8\" height=\"10\" style=\"stroke: #F8F8F8; stroke-width: 1.5;\" width=\"50\" x=\"58\" y=\"367.9688\"/><rect fill=\"none\" height=\"40\" id=\"E5\" rx=\"10\" ry=\"10\" style=\"stroke: #383838; stroke-width: 1.5;\" width=\"50\" x=\"58\" y=\"354\"/><text fill=\"#000000\" font-family=\"sans-serif\" font-size=\"12\" lengthAdjust=\"spacingAndGlyphs\" textLength=\"24\" x=\"71\" y=\"370.1387\">b: P</text></a></g><g id=\"E1.E6\"><a href=\"psysml:7c20260d-33cb-4904-8feb-6f2059c0b9de\" target=\"_top\" title=\"psysml:7c20260d-33cb-4904-8feb-6f2059c0b9de\" xlink:actuate=\"onRequest\" xlink:href=\"psysml:7c20260d-33cb-4904-8feb-6f2059c0b9de\" xlink:show=\"new\" xlink:title=\"psysml:7c20260d-33cb-4904-8feb-6f2059c0b9de\" xlink:type=\"simple\"><rect fill=\"#FFFFFF\" height=\"40\" id=\"E6\" rx=\"10\" ry=\"10\" style=\"stroke: #383838; stroke-width: 1.5;\" width=\"50\" x=\"58\" y=\"429\"/><rect fill=\"#F8F8F8\" height=\"23.9688\" rx=\"10\" ry=\"10\" style=\"stroke: #F8F8F8; stroke-width: 1.5;\" width=\"50\" x=\"58\" y=\"429\"/><rect fill=\"#F8F8F8\" height=\"10\" style=\"stroke: #F8F8F8; stroke-width: 1.5;\" width=\"50\" x=\"58\" y=\"442.9688\"/><rect fill=\"none\" height=\"40\" id=\"E6\" rx=\"10\" ry=\"10\" style=\"stroke: #383838; stroke-width: 1.5;\" width=\"50\" x=\"58\" y=\"429\"/><text fill=\"#000000\" font-family=\"sans-serif\" font-size=\"12\" lengthAdjust=\"spacingAndGlyphs\" textLength=\"23\" x=\"71.5\" y=\"445.1387\">c: P</text></a></g><g id=\"E1.E7\"><a href=\"psysml:a788bf26-d852-4daf-8a66-fd926f14abf3\" target=\"_top\" title=\"psysml:a788bf26-d852-4daf-8a66-fd926f14abf3\" xlink:actuate=\"onRequest\" xlink:href=\"psysml:a788bf26-d852-4daf-8a66-fd926f14abf3\" xlink:show=\"new\" xlink:title=\"psysml:a788bf26-d852-4daf-8a66-fd926f14abf3\" xlink:type=\"simple\"><rect fill=\"#FFFFFF\" height=\"40\" id=\"E7\" rx=\"10\" ry=\"10\" style=\"stroke: #383838; stroke-width: 1.5;\" width=\"50\" x=\"58\" y=\"504\"/><rect fill=\"#F8F8F8\" height=\"23.9688\" rx=\"10\" ry=\"10\" style=\"stroke: #F8F8F8; stroke-width: 1.5;\" width=\"50\" x=\"58\" y=\"504\"/><rect fill=\"#F8F8F8\" height=\"10\" style=\"stroke: #F8F8F8; stroke-width: 1.5;\" width=\"50\" x=\"58\" y=\"517.9688\"/><rect fill=\"none\" height=\"40\" id=\"E7\" rx=\"10\" ry=\"10\" style=\"stroke: #383838; stroke-width: 1.5;\" width=\"50\" x=\"58\" y=\"504\"/><text fill=\"#000000\" font-family=\"sans-serif\" font-size=\"12\" lengthAdjust=\"spacingAndGlyphs\" textLength=\"8\" x=\"79\" y=\"520.1387\">d</text></a></g><g id=\"E1.E8\"><a href=\"psysml:8ca44daa-798d-42ea-8082-fded64fdb257\" target=\"_top\" title=\"psysml:8ca44daa-798d-42ea-8082-fded64fdb257\" xlink:actuate=\"onRequest\" xlink:href=\"psysml:8ca44daa-798d-42ea-8082-fded64fdb257\" xlink:show=\"new\" xlink:title=\"psysml:8ca44daa-798d-42ea-8082-fded64fdb257\" xlink:type=\"simple\"><rect fill=\"#FFFFFF\" height=\"40\" id=\"E8\" rx=\"10\" ry=\"10\" style=\"stroke: #383838; stroke-width: 1.5;\" width=\"50\" x=\"58\" y=\"579\"/><rect fill=\"#F8F8F8\" height=\"23.9688\" rx=\"10\" ry=\"10\" style=\"stroke: #F8F8F8; stroke-width: 1.5;\" width=\"50\" x=\"58\" y=\"579\"/><rect fill=\"#F8F8F8\" height=\"10\" style=\"stroke: #F8F8F8; stroke-width: 1.5;\" width=\"50\" x=\"58\" y=\"592.9688\"/><rect fill=\"none\" height=\"40\" id=\"E8\" rx=\"10\" ry=\"10\" style=\"stroke: #383838; stroke-width: 1.5;\" width=\"50\" x=\"58\" y=\"579\"/><text fill=\"#000000\" font-family=\"sans-serif\" font-size=\"12\" lengthAdjust=\"spacingAndGlyphs\" textLength=\"8\" x=\"79\" y=\"595.1387\">e</text></a></g><g id=\"E1.E9\"><a href=\"psysml:94368454-840d-4091-abdb-e19ae5322c54\" target=\"_top\" title=\"psysml:94368454-840d-4091-abdb-e19ae5322c54\" xlink:actuate=\"onRequest\" xlink:href=\"psysml:94368454-840d-4091-abdb-e19ae5322c54\" xlink:show=\"new\" xlink:title=\"psysml:94368454-840d-4091-abdb-e19ae5322c54\" xlink:type=\"simple\"><rect fill=\"#FFFFFF\" height=\"40\" id=\"E9\" rx=\"10\" ry=\"10\" style=\"stroke: #383838; stroke-width: 1.5;\" width=\"50\" x=\"58\" y=\"654\"/><rect fill=\"#F8F8F8\" height=\"23.9688\" rx=\"10\" ry=\"10\" style=\"stroke: #F8F8F8; stroke-width: 1.5;\" width=\"50\" x=\"58\" y=\"654\"/><rect fill=\"#F8F8F8\" height=\"10\" style=\"stroke: #F8F8F8; stroke-width: 1.5;\" width=\"50\" x=\"58\" y=\"667.9688\"/><rect fill=\"none\" height=\"40\" id=\"E9\" rx=\"10\" ry=\"10\" style=\"stroke: #383838; stroke-width: 1.5;\" width=\"50\" x=\"58\" y=\"654\"/><text fill=\"#000000\" font-family=\"sans-serif\" font-size=\"12\" lengthAdjust=\"spacingAndGlyphs\" textLength=\"4\" x=\"81\" y=\"670.1387\">f</text></a></g><g id=\"E1.E10\"><a href=\"psysml:8f8b3cba-ab00-4478-b69f-246a2e072be5\" target=\"_top\" title=\"psysml:8f8b3cba-ab00-4478-b69f-246a2e072be5\" xlink:actuate=\"onRequest\" xlink:href=\"psysml:8f8b3cba-ab00-4478-b69f-246a2e072be5\" xlink:show=\"new\" xlink:title=\"psysml:8f8b3cba-ab00-4478-b69f-246a2e072be5\" xlink:type=\"simple\"><rect fill=\"#FFFFFF\" height=\"40\" id=\"E10\" rx=\"10\" ry=\"10\" style=\"stroke: #383838; stroke-width: 1.5;\" width=\"50\" x=\"58\" y=\"729\"/><rect fill=\"#F8F8F8\" height=\"23.9688\" rx=\"10\" ry=\"10\" style=\"stroke: #F8F8F8; stroke-width: 1.5;\" width=\"50\" x=\"58\" y=\"729\"/><rect fill=\"#F8F8F8\" height=\"10\" style=\"stroke: #F8F8F8; stroke-width: 1.5;\" width=\"50\" x=\"58\" y=\"742.9688\"/><rect fill=\"none\" height=\"40\" id=\"E10\" rx=\"10\" ry=\"10\" style=\"stroke: #383838; stroke-width: 1.5;\" width=\"50\" x=\"58\" y=\"729\"/><text fill=\"#000000\" font-family=\"sans-serif\" font-size=\"12\" lengthAdjust=\"spacingAndGlyphs\" textLength=\"8\" x=\"79\" y=\"745.1387\">g</text></a></g><!--MD5=[042928382aac8550f21151502ffd0bd7]\n",
       "@startuml\r\n",
       "skinparam ranksep 10\r\n",
       "skinparam rectangle {\r\n",
       " backgroundColor<<block>> LightGreen\r\n",
       "}\r\n",
       "left to right direction\r\n",
       "skinparam monochrome true\r\n",
       "skinparam classbackgroundcolor white\r\n",
       "skinparam shadowing false\r\n",
       "skinparam wrapWidth 300\r\n",
       "hide circle\r\n",
       "\r\n",
       "package \"MultiplicityTest\" as E1  [[psysml:d21f1d33-c8d8-4d7e-915c-a1dc21839292 ]]  {\r\n",
       "rec def \"P\" as E2  <<(T,blue) part def>> [[psysml:cfcc0fdc-4985-4a7c-8ed0-df1ec6a07f40 ]] {\r\n",
       "}\r\n",
       "comp usage \"n: Integer\" as E3  <<(T,blue) attribute>> [[psysml:6504cd03-3352-435e-8e5a-44d60f096993 ]] {\r\n",
       "}\r\n",
       "rec usage \"a\" as E4  [[psysml:69df1372-c4de-42e4-b97b-1df20a9e4637 ]] {\r\n",
       "}\r\n",
       "rec usage \"b: P\" as E5  [[psysml:ce135ed3-5db8-4159-aade-37d21406abf2 ]] {\r\n",
       "}\r\n",
       "rec usage \"c: P\" as E6  [[psysml:7c20260d-33cb-4904-8feb-6f2059c0b9de ]] {\r\n",
       "}\r\n",
       "rec usage \"d\" as E7  [[psysml:a788bf26-d852-4daf-8a66-fd926f14abf3 ]] {\r\n",
       "}\r\n",
       "rec usage \"e\" as E8  [[psysml:8ca44daa-798d-42ea-8082-fded64fdb257 ]] {\r\n",
       "}\r\n",
       "rec usage \"f\" as E9  [[psysml:94368454-840d-4091-abdb-e19ae5322c54 ]] {\r\n",
       "}\r\n",
       "rec usage \"g\" as E10  [[psysml:8f8b3cba-ab00-4478-b69f-246a2e072be5 ]] {\r\n",
       "}\r\n",
       "def \"A\" as E11  <<(T,blue) attribute def>> [[psysml:2c45c451-c8b5-4e48-8592-55fa30d535c5 ]] \r\n",
       "}\r\n",
       "@enduml\r\n",
       "\n",
       "PlantUML version 1.2020.13(Sat Jun 13 12:26:38 UTC 2020)\n",
       "(EPL source distribution)\n",
       "Java Runtime: OpenJDK Runtime Environment\n",
       "JVM: OpenJDK 64-Bit Server VM\n",
       "Default Encoding: UTF-8\n",
       "Language: en\n",
       "Country: null\n",
       "--></g></svg>"
      ]
     },
     "execution_count": 19,
     "metadata": {},
     "output_type": "execute_result"
    }
   ],
   "source": [
    "%viz --style=\"LR\" --view=\"Interconnection\" \"MultiplicityTest\""
   ]
  },
  {
   "cell_type": "code",
   "execution_count": 20,
   "id": "0c3772c5",
   "metadata": {
    "execution": {
     "iopub.execute_input": "2021-06-30T09:24:31.331583Z",
     "iopub.status.busy": "2021-06-30T09:24:31.330896Z",
     "iopub.status.idle": "2021-06-30T09:24:31.337598Z",
     "shell.execute_reply": "2021-06-30T09:24:31.337105Z"
    }
   },
   "outputs": [
    {
     "data": {
      "image/svg+xml": [
       "<?xml version=\"1.0\" encoding=\"UTF-8\" standalone=\"no\"?><svg xmlns=\"http://www.w3.org/2000/svg\" xmlns:xlink=\"http://www.w3.org/1999/xlink\" contentScriptType=\"application/ecmascript\" contentStyleType=\"text/css\" height=\"12px\" preserveAspectRatio=\"none\" style=\"width:12px;height:12px;\" version=\"1.1\" viewBox=\"0 0 12 12\" width=\"12px\" zoomAndPan=\"magnify\"><defs/><g><!--MD5=[7aeb398939421629f6affaa4a1a7b125]\n",
       "@startuml\r\n",
       "skinparam ranksep 8\r\n",
       "left to right direction\r\n",
       "skinparam monochrome true\r\n",
       "skinparam classbackgroundcolor white\r\n",
       "skinparam shadowing false\r\n",
       "skinparam wrapWidth 300\r\n",
       "hide circle\r\n",
       "\r\n",
       "@enduml\r\n",
       "\n",
       "PlantUML version 1.2020.13(Sat Jun 13 12:26:38 UTC 2020)\n",
       "(EPL source distribution)\n",
       "Java Runtime: OpenJDK Runtime Environment\n",
       "JVM: OpenJDK 64-Bit Server VM\n",
       "Default Encoding: UTF-8\n",
       "Language: en\n",
       "Country: null\n",
       "--></g></svg>"
      ]
     },
     "execution_count": 20,
     "metadata": {},
     "output_type": "execute_result"
    }
   ],
   "source": [
    "%viz --style=\"LR\" --view=\"Action\" \"MultiplicityTest\""
   ]
  },
  {
   "cell_type": "code",
   "execution_count": 21,
   "id": "12a98c9f",
   "metadata": {
    "execution": {
     "iopub.execute_input": "2021-06-30T09:24:31.388629Z",
     "iopub.status.busy": "2021-06-30T09:24:31.388164Z",
     "iopub.status.idle": "2021-06-30T09:24:31.444810Z",
     "shell.execute_reply": "2021-06-30T09:24:31.445129Z"
    }
   },
   "outputs": [
    {
     "data": {
      "image/svg+xml": [
       "<?xml version=\"1.0\" encoding=\"UTF-8\" standalone=\"no\"?><svg xmlns=\"http://www.w3.org/2000/svg\" xmlns:xlink=\"http://www.w3.org/1999/xlink\" contentScriptType=\"application/ecmascript\" contentStyleType=\"text/css\" height=\"805px\" preserveAspectRatio=\"none\" style=\"width:291px;height:805px;\" version=\"1.1\" viewBox=\"0 0 291 805\" width=\"291px\" zoomAndPan=\"magnify\"><defs/><g><!--MD5=[fbc87193dbaf4d95561dea2c320d4a47]\n",
       "cluster E1--><a href=\"psysml:d21f1d33-c8d8-4d7e-915c-a1dc21839292\" target=\"_top\" title=\"psysml:d21f1d33-c8d8-4d7e-915c-a1dc21839292\" xlink:actuate=\"onRequest\" xlink:href=\"psysml:d21f1d33-c8d8-4d7e-915c-a1dc21839292\" xlink:show=\"new\" xlink:title=\"psysml:d21f1d33-c8d8-4d7e-915c-a1dc21839292\" xlink:type=\"simple\"><polygon fill=\"#FFFFFF\" points=\"16,6,140,6,147,28.2969,269,28.2969,269,793,16,793,16,6\" style=\"stroke: #000000; stroke-width: 1.5;\"/><line style=\"stroke: #000000; stroke-width: 1.5;\" x1=\"16\" x2=\"147\" y1=\"28.2969\" y2=\"28.2969\"/><text fill=\"#000000\" font-family=\"sans-serif\" font-size=\"14\" font-weight=\"bold\" lengthAdjust=\"spacingAndGlyphs\" textLength=\"118\" x=\"20\" y=\"20.9951\">MultiplicityTest</text></a><!--MD5=[b4997ac47864f28c2f74865a473b2911]\n",
       "class E2--><a href=\"psysml:cfcc0fdc-4985-4a7c-8ed0-df1ec6a07f40\" target=\"_top\" title=\"psysml:cfcc0fdc-4985-4a7c-8ed0-df1ec6a07f40\" xlink:actuate=\"onRequest\" xlink:href=\"psysml:cfcc0fdc-4985-4a7c-8ed0-df1ec6a07f40\" xlink:show=\"new\" xlink:title=\"psysml:cfcc0fdc-4985-4a7c-8ed0-df1ec6a07f40\" xlink:type=\"simple\"><rect fill=\"#FFFFFF\" height=\"45.9375\" id=\"E2\" style=\"stroke: #383838; stroke-width: 1.5;\" width=\"66\" x=\"187\" y=\"244\"/><text fill=\"#000000\" font-family=\"sans-serif\" font-size=\"12\" font-style=\"italic\" lengthAdjust=\"spacingAndGlyphs\" textLength=\"64\" x=\"188\" y=\"260.1387\">«part def»</text><text fill=\"#000000\" font-family=\"sans-serif\" font-size=\"12\" lengthAdjust=\"spacingAndGlyphs\" textLength=\"8\" x=\"216\" y=\"274.1074\">P</text><line style=\"stroke: #383838; stroke-width: 1.5;\" x1=\"188\" x2=\"252\" y1=\"281.9375\" y2=\"281.9375\"/></a><!--MD5=[09b614a08d8cba4a07c9adeb5e0fee81]\n",
       "class E3--><a href=\"psysml:6504cd03-3352-435e-8e5a-44d60f096993\" target=\"_top\" title=\"psysml:6504cd03-3352-435e-8e5a-44d60f096993\" xlink:actuate=\"onRequest\" xlink:href=\"psysml:6504cd03-3352-435e-8e5a-44d60f096993\" xlink:show=\"new\" xlink:title=\"psysml:6504cd03-3352-435e-8e5a-44d60f096993\" xlink:type=\"simple\"><rect fill=\"#FFFFFF\" height=\"45.9375\" id=\"E3\" rx=\"10\" ry=\"10\" style=\"stroke: #383838; stroke-width: 1.5;\" width=\"71\" x=\"44\" y=\"41\"/><text fill=\"#000000\" font-family=\"sans-serif\" font-size=\"12\" font-style=\"italic\" lengthAdjust=\"spacingAndGlyphs\" textLength=\"69\" x=\"45\" y=\"57.1387\">«attribute»</text><text fill=\"#000000\" font-family=\"sans-serif\" font-size=\"12\" lengthAdjust=\"spacingAndGlyphs\" textLength=\"61\" x=\"49\" y=\"71.1074\">n: Integer</text><line style=\"stroke: #383838; stroke-width: 1.5;\" x1=\"45\" x2=\"114\" y1=\"78.9375\" y2=\"78.9375\"/></a><!--MD5=[ebbe1d658d1005bcc118a6aa81145e00]\n",
       "class E4--><a href=\"psysml:69df1372-c4de-42e4-b97b-1df20a9e4637\" target=\"_top\" title=\"psysml:69df1372-c4de-42e4-b97b-1df20a9e4637\" xlink:actuate=\"onRequest\" xlink:href=\"psysml:69df1372-c4de-42e4-b97b-1df20a9e4637\" xlink:show=\"new\" xlink:title=\"psysml:69df1372-c4de-42e4-b97b-1df20a9e4637\" xlink:type=\"simple\"><rect fill=\"#FFFFFF\" height=\"45.9375\" id=\"E4\" rx=\"10\" ry=\"10\" style=\"stroke: #383838; stroke-width: 1.5;\" width=\"42\" x=\"58.5\" y=\"122\"/><text fill=\"#000000\" font-family=\"sans-serif\" font-size=\"12\" font-style=\"italic\" lengthAdjust=\"spacingAndGlyphs\" textLength=\"40\" x=\"59.5\" y=\"138.1387\">«part»</text><text fill=\"#000000\" font-family=\"sans-serif\" font-size=\"12\" lengthAdjust=\"spacingAndGlyphs\" textLength=\"8\" x=\"75.5\" y=\"152.1074\">a</text><line style=\"stroke: #383838; stroke-width: 1.5;\" x1=\"59.5\" x2=\"99.5\" y1=\"159.9375\" y2=\"159.9375\"/></a><!--MD5=[270fce915f116d4de14055a7c1d9a0f3]\n",
       "class E5--><a href=\"psysml:ce135ed3-5db8-4159-aade-37d21406abf2\" target=\"_top\" title=\"psysml:ce135ed3-5db8-4159-aade-37d21406abf2\" xlink:actuate=\"onRequest\" xlink:href=\"psysml:ce135ed3-5db8-4159-aade-37d21406abf2\" xlink:show=\"new\" xlink:title=\"psysml:ce135ed3-5db8-4159-aade-37d21406abf2\" xlink:type=\"simple\"><rect fill=\"#FFFFFF\" height=\"45.9375\" id=\"E5\" rx=\"10\" ry=\"10\" style=\"stroke: #383838; stroke-width: 1.5;\" width=\"42\" x=\"58.5\" y=\"203\"/><text fill=\"#000000\" font-family=\"sans-serif\" font-size=\"12\" font-style=\"italic\" lengthAdjust=\"spacingAndGlyphs\" textLength=\"40\" x=\"59.5\" y=\"219.1387\">«part»</text><text fill=\"#000000\" font-family=\"sans-serif\" font-size=\"12\" lengthAdjust=\"spacingAndGlyphs\" textLength=\"24\" x=\"67.5\" y=\"233.1074\">b: P</text><line style=\"stroke: #383838; stroke-width: 1.5;\" x1=\"59.5\" x2=\"99.5\" y1=\"240.9375\" y2=\"240.9375\"/></a><!--MD5=[60a26617385b1d2d0262a64233df1f8d]\n",
       "class E6--><a href=\"psysml:7c20260d-33cb-4904-8feb-6f2059c0b9de\" target=\"_top\" title=\"psysml:7c20260d-33cb-4904-8feb-6f2059c0b9de\" xlink:actuate=\"onRequest\" xlink:href=\"psysml:7c20260d-33cb-4904-8feb-6f2059c0b9de\" xlink:show=\"new\" xlink:title=\"psysml:7c20260d-33cb-4904-8feb-6f2059c0b9de\" xlink:type=\"simple\"><rect fill=\"#FFFFFF\" height=\"45.9375\" id=\"E6\" rx=\"10\" ry=\"10\" style=\"stroke: #383838; stroke-width: 1.5;\" width=\"42\" x=\"58.5\" y=\"284\"/><text fill=\"#000000\" font-family=\"sans-serif\" font-size=\"12\" font-style=\"italic\" lengthAdjust=\"spacingAndGlyphs\" textLength=\"40\" x=\"59.5\" y=\"300.1387\">«part»</text><text fill=\"#000000\" font-family=\"sans-serif\" font-size=\"12\" lengthAdjust=\"spacingAndGlyphs\" textLength=\"23\" x=\"68\" y=\"314.1074\">c: P</text><line style=\"stroke: #383838; stroke-width: 1.5;\" x1=\"59.5\" x2=\"99.5\" y1=\"321.9375\" y2=\"321.9375\"/></a><!--MD5=[2156ba9850f5573cc1fc38a6a4b2f02b]\n",
       "class E7--><a href=\"psysml:a788bf26-d852-4daf-8a66-fd926f14abf3\" target=\"_top\" title=\"psysml:a788bf26-d852-4daf-8a66-fd926f14abf3\" xlink:actuate=\"onRequest\" xlink:href=\"psysml:a788bf26-d852-4daf-8a66-fd926f14abf3\" xlink:show=\"new\" xlink:title=\"psysml:a788bf26-d852-4daf-8a66-fd926f14abf3\" xlink:type=\"simple\"><rect fill=\"#FFFFFF\" height=\"45.9375\" id=\"E7\" rx=\"10\" ry=\"10\" style=\"stroke: #383838; stroke-width: 1.5;\" width=\"42\" x=\"58.5\" y=\"365\"/><text fill=\"#000000\" font-family=\"sans-serif\" font-size=\"12\" font-style=\"italic\" lengthAdjust=\"spacingAndGlyphs\" textLength=\"40\" x=\"59.5\" y=\"381.1387\">«part»</text><text fill=\"#000000\" font-family=\"sans-serif\" font-size=\"12\" lengthAdjust=\"spacingAndGlyphs\" textLength=\"8\" x=\"75.5\" y=\"395.1074\">d</text><line style=\"stroke: #383838; stroke-width: 1.5;\" x1=\"59.5\" x2=\"99.5\" y1=\"402.9375\" y2=\"402.9375\"/></a><!--MD5=[b9389687b975829384b498ac4b7476b2]\n",
       "class E8--><a href=\"psysml:8ca44daa-798d-42ea-8082-fded64fdb257\" target=\"_top\" title=\"psysml:8ca44daa-798d-42ea-8082-fded64fdb257\" xlink:actuate=\"onRequest\" xlink:href=\"psysml:8ca44daa-798d-42ea-8082-fded64fdb257\" xlink:show=\"new\" xlink:title=\"psysml:8ca44daa-798d-42ea-8082-fded64fdb257\" xlink:type=\"simple\"><rect fill=\"#FFFFFF\" height=\"45.9375\" id=\"E8\" rx=\"10\" ry=\"10\" style=\"stroke: #383838; stroke-width: 1.5;\" width=\"42\" x=\"58.5\" y=\"446\"/><text fill=\"#000000\" font-family=\"sans-serif\" font-size=\"12\" font-style=\"italic\" lengthAdjust=\"spacingAndGlyphs\" textLength=\"40\" x=\"59.5\" y=\"462.1387\">«part»</text><text fill=\"#000000\" font-family=\"sans-serif\" font-size=\"12\" lengthAdjust=\"spacingAndGlyphs\" textLength=\"8\" x=\"75.5\" y=\"476.1074\">e</text><line style=\"stroke: #383838; stroke-width: 1.5;\" x1=\"59.5\" x2=\"99.5\" y1=\"483.9375\" y2=\"483.9375\"/></a><!--MD5=[fd4143e9d270a159db93a4ea2a975926]\n",
       "class E9--><a href=\"psysml:94368454-840d-4091-abdb-e19ae5322c54\" target=\"_top\" title=\"psysml:94368454-840d-4091-abdb-e19ae5322c54\" xlink:actuate=\"onRequest\" xlink:href=\"psysml:94368454-840d-4091-abdb-e19ae5322c54\" xlink:show=\"new\" xlink:title=\"psysml:94368454-840d-4091-abdb-e19ae5322c54\" xlink:type=\"simple\"><rect fill=\"#FFFFFF\" height=\"45.9375\" id=\"E9\" rx=\"10\" ry=\"10\" style=\"stroke: #383838; stroke-width: 1.5;\" width=\"42\" x=\"58.5\" y=\"527\"/><text fill=\"#000000\" font-family=\"sans-serif\" font-size=\"12\" font-style=\"italic\" lengthAdjust=\"spacingAndGlyphs\" textLength=\"40\" x=\"59.5\" y=\"543.1387\">«part»</text><text fill=\"#000000\" font-family=\"sans-serif\" font-size=\"12\" lengthAdjust=\"spacingAndGlyphs\" textLength=\"4\" x=\"77.5\" y=\"557.1074\">f</text><line style=\"stroke: #383838; stroke-width: 1.5;\" x1=\"59.5\" x2=\"99.5\" y1=\"564.9375\" y2=\"564.9375\"/></a><!--MD5=[96f4274e9e20536e775497830990834d]\n",
       "class E10--><a href=\"psysml:8f8b3cba-ab00-4478-b69f-246a2e072be5\" target=\"_top\" title=\"psysml:8f8b3cba-ab00-4478-b69f-246a2e072be5\" xlink:actuate=\"onRequest\" xlink:href=\"psysml:8f8b3cba-ab00-4478-b69f-246a2e072be5\" xlink:show=\"new\" xlink:title=\"psysml:8f8b3cba-ab00-4478-b69f-246a2e072be5\" xlink:type=\"simple\"><rect fill=\"#FFFFFF\" height=\"45.9375\" id=\"E10\" rx=\"10\" ry=\"10\" style=\"stroke: #383838; stroke-width: 1.5;\" width=\"42\" x=\"58.5\" y=\"608\"/><text fill=\"#000000\" font-family=\"sans-serif\" font-size=\"12\" font-style=\"italic\" lengthAdjust=\"spacingAndGlyphs\" textLength=\"40\" x=\"59.5\" y=\"624.1387\">«part»</text><text fill=\"#000000\" font-family=\"sans-serif\" font-size=\"12\" lengthAdjust=\"spacingAndGlyphs\" textLength=\"8\" x=\"75.5\" y=\"638.1074\">g</text><line style=\"stroke: #383838; stroke-width: 1.5;\" x1=\"59.5\" x2=\"99.5\" y1=\"645.9375\" y2=\"645.9375\"/></a><!--MD5=[1dd1bfd58a279cf63c5f349dbc8fc6a1]\n",
       "class E11--><a href=\"psysml:2c45c451-c8b5-4e48-8592-55fa30d535c5\" target=\"_top\" title=\"psysml:2c45c451-c8b5-4e48-8592-55fa30d535c5\" xlink:actuate=\"onRequest\" xlink:href=\"psysml:2c45c451-c8b5-4e48-8592-55fa30d535c5\" xlink:show=\"new\" xlink:title=\"psysml:2c45c451-c8b5-4e48-8592-55fa30d535c5\" xlink:type=\"simple\"><rect fill=\"#FFFFFF\" height=\"88.3516\" id=\"E11\" style=\"stroke: #383838; stroke-width: 1.5;\" width=\"95\" x=\"32\" y=\"689\"/><text fill=\"#000000\" font-family=\"sans-serif\" font-size=\"12\" font-style=\"italic\" lengthAdjust=\"spacingAndGlyphs\" textLength=\"93\" x=\"33\" y=\"705.1387\">«attribute def»</text><text fill=\"#000000\" font-family=\"sans-serif\" font-size=\"12\" lengthAdjust=\"spacingAndGlyphs\" textLength=\"8\" x=\"75.5\" y=\"719.1074\">A</text><line style=\"stroke: #383838; stroke-width: 1.5;\" x1=\"33\" x2=\"126\" y1=\"726.9375\" y2=\"726.9375\"/><text fill=\"#000000\" font-family=\"sans-serif\" font-size=\"11\" lengthAdjust=\"spacingAndGlyphs\" textLength=\"51\" x=\"38\" y=\"757.9526\">i: Integer</text><text fill=\"#000000\" font-family=\"sans-serif\" font-size=\"11\" lengthAdjust=\"spacingAndGlyphs\" textLength=\"21\" x=\"38\" y=\"770.7573\">x: A</text><line style=\"stroke: #383838; stroke-width: 1.0;\" x1=\"33\" x2=\"52\" y1=\"741.3398\" y2=\"741.3398\"/><text fill=\"#000000\" font-family=\"sans-serif\" font-size=\"11\" lengthAdjust=\"spacingAndGlyphs\" textLength=\"55\" x=\"52\" y=\"744.6479\">attributes</text><line style=\"stroke: #383838; stroke-width: 1.0;\" x1=\"107\" x2=\"126\" y1=\"741.3398\" y2=\"741.3398\"/></a><!--MD5=[15ebcb19ae302d9b601edb458606d402]\n",
       "link E5 to E2--><a href=\"psysml:99c2055f-0301-4891-b65d-9e517e6365b1\" target=\"_top\" title=\"psysml:99c2055f-0301-4891-b65d-9e517e6365b1\" xlink:actuate=\"onRequest\" xlink:href=\"psysml:99c2055f-0301-4891-b65d-9e517e6365b1\" xlink:show=\"new\" xlink:title=\"psysml:99c2055f-0301-4891-b65d-9e517e6365b1\" xlink:type=\"simple\"><path d=\"M100.64,231.96 C118.11,237.13 144.16,244.84 167.38,251.72 \" fill=\"none\" id=\"E5-&gt;E2\" style=\"stroke: #383838; stroke-width: 1.0;\"/><polygon fill=\"#FFFFFF\" points=\"186.77,257.46,166.5639,258.7688,170.5445,245.3466,186.77,257.46\" style=\"stroke: #383838; stroke-width: 1.0;\"/><ellipse cx=\"161.6678\" cy=\"255.2306\" fill=\"#383838\" rx=\"2\" ry=\"2\" style=\"stroke: #383838; stroke-width: 1.0;\"/><ellipse cx=\"164.5111\" cy=\"245.6434\" fill=\"#383838\" rx=\"2\" ry=\"2\" style=\"stroke: #383838; stroke-width: 1.0;\"/></a><!--MD5=[2351f337d6de0f557b50152ba70847b5]\n",
       "link E6 to E2--><a href=\"psysml:035f6493-28ba-4968-b761-0ab46a395f55\" target=\"_top\" title=\"psysml:035f6493-28ba-4968-b761-0ab46a395f55\" xlink:actuate=\"onRequest\" xlink:href=\"psysml:035f6493-28ba-4968-b761-0ab46a395f55\" xlink:show=\"new\" xlink:title=\"psysml:035f6493-28ba-4968-b761-0ab46a395f55\" xlink:type=\"simple\"><path d=\"M100.64,301.18 C118.11,296.14 144.16,288.61 167.38,281.91 \" fill=\"none\" id=\"E6-&gt;E2\" style=\"stroke: #383838; stroke-width: 1.0;\"/><polygon fill=\"#FFFFFF\" points=\"186.77,276.31,170.4629,288.3132,166.5732,274.8644,186.77,276.31\" style=\"stroke: #383838; stroke-width: 1.0;\"/><ellipse cx=\"164.4316\" cy=\"287.9756\" fill=\"#383838\" rx=\"2\" ry=\"2\" style=\"stroke: #383838; stroke-width: 1.0;\"/><ellipse cx=\"161.6533\" cy=\"278.3693\" fill=\"#383838\" rx=\"2\" ry=\"2\" style=\"stroke: #383838; stroke-width: 1.0;\"/></a><!--MD5=[8e635a45f612384d82ab2cfb1e890934]\n",
       "@startuml\r\n",
       "left to right direction\r\n",
       "skinparam monochrome true\r\n",
       "skinparam classbackgroundcolor white\r\n",
       "skinparam shadowing false\r\n",
       "skinparam wrapWidth 300\r\n",
       "hide circle\r\n",
       "\r\n",
       "package \"MultiplicityTest\" as E1  [[psysml:d21f1d33-c8d8-4d7e-915c-a1dc21839292 ]]  {\r\n",
       "comp def \"P\" as E2  <<(T,blue) part def>> [[psysml:cfcc0fdc-4985-4a7c-8ed0-df1ec6a07f40 ]] {\r\n",
       "}\r\n",
       "comp usage \"n: Integer\" as E3  <<(T,blue) attribute>> [[psysml:6504cd03-3352-435e-8e5a-44d60f096993 ]] {\r\n",
       "}\r\n",
       "comp usage \"a\" as E4  <<(T,blue) part>> [[psysml:69df1372-c4de-42e4-b97b-1df20a9e4637 ]] {\r\n",
       "}\r\n",
       "comp usage \"b: P\" as E5  <<(T,blue) part>> [[psysml:ce135ed3-5db8-4159-aade-37d21406abf2 ]] {\r\n",
       "}\r\n",
       "comp usage \"c: P\" as E6  <<(T,blue) part>> [[psysml:7c20260d-33cb-4904-8feb-6f2059c0b9de ]] {\r\n",
       "}\r\n",
       "comp usage \"d\" as E7  <<(T,blue) part>> [[psysml:a788bf26-d852-4daf-8a66-fd926f14abf3 ]] {\r\n",
       "}\r\n",
       "comp usage \"e\" as E8  <<(T,blue) part>> [[psysml:8ca44daa-798d-42ea-8082-fded64fdb257 ]] {\r\n",
       "}\r\n",
       "comp usage \"f\" as E9  <<(T,blue) part>> [[psysml:94368454-840d-4091-abdb-e19ae5322c54 ]] {\r\n",
       "}\r\n",
       "comp usage \"g\" as E10  <<(T,blue) part>> [[psysml:8f8b3cba-ab00-4478-b69f-246a2e072be5 ]] {\r\n",
       "}\r\n",
       "comp def \"A\" as E11  <<(T,blue) attribute def>> [[psysml:2c45c451-c8b5-4e48-8592-55fa30d535c5 ]] {\r\n",
       "- - attributes - -\r\n",
       "i: Integer\r\n",
       "x: A\r\n",
       "}\r\n",
       "E5 - -:|> E2 [[psysml:99c2055f-0301-4891-b65d-9e517e6365b1 ]] \r\n",
       "E6 - -:|> E2 [[psysml:035f6493-28ba-4968-b761-0ab46a395f55 ]] \r\n",
       "}\r\n",
       "@enduml\r\n",
       "\n",
       "PlantUML version 1.2020.13(Sat Jun 13 12:26:38 UTC 2020)\n",
       "(EPL source distribution)\n",
       "Java Runtime: OpenJDK Runtime Environment\n",
       "JVM: OpenJDK 64-Bit Server VM\n",
       "Default Encoding: UTF-8\n",
       "Language: en\n",
       "Country: null\n",
       "--></g></svg>"
      ]
     },
     "execution_count": 21,
     "metadata": {},
     "output_type": "execute_result"
    }
   ],
   "source": [
    "%viz --style=\"LR\" --view=\"Sequence\" \"MultiplicityTest\""
   ]
  },
  {
   "cell_type": "code",
   "execution_count": 22,
   "id": "f79a7eb5",
   "metadata": {
    "execution": {
     "iopub.execute_input": "2021-06-30T09:24:31.501735Z",
     "iopub.status.busy": "2021-06-30T09:24:31.500624Z",
     "iopub.status.idle": "2021-06-30T09:24:31.600074Z",
     "shell.execute_reply": "2021-06-30T09:24:31.596635Z"
    }
   },
   "outputs": [
    {
     "data": {
      "image/svg+xml": [
       "<?xml version=\"1.0\" encoding=\"UTF-8\" standalone=\"no\"?><svg xmlns=\"http://www.w3.org/2000/svg\" xmlns:xlink=\"http://www.w3.org/1999/xlink\" contentScriptType=\"application/ecmascript\" contentStyleType=\"text/css\" height=\"805px\" preserveAspectRatio=\"none\" style=\"width:291px;height:805px;\" version=\"1.1\" viewBox=\"0 0 291 805\" width=\"291px\" zoomAndPan=\"magnify\"><defs/><g><!--MD5=[fbc87193dbaf4d95561dea2c320d4a47]\n",
       "cluster E1--><a href=\"psysml:d21f1d33-c8d8-4d7e-915c-a1dc21839292\" target=\"_top\" title=\"psysml:d21f1d33-c8d8-4d7e-915c-a1dc21839292\" xlink:actuate=\"onRequest\" xlink:href=\"psysml:d21f1d33-c8d8-4d7e-915c-a1dc21839292\" xlink:show=\"new\" xlink:title=\"psysml:d21f1d33-c8d8-4d7e-915c-a1dc21839292\" xlink:type=\"simple\"><polygon fill=\"#FFFFFF\" points=\"16,6,140,6,147,28.2969,269,28.2969,269,793,16,793,16,6\" style=\"stroke: #000000; stroke-width: 1.5;\"/><line style=\"stroke: #000000; stroke-width: 1.5;\" x1=\"16\" x2=\"147\" y1=\"28.2969\" y2=\"28.2969\"/><text fill=\"#000000\" font-family=\"sans-serif\" font-size=\"14\" font-weight=\"bold\" lengthAdjust=\"spacingAndGlyphs\" textLength=\"118\" x=\"20\" y=\"20.9951\">MultiplicityTest</text></a><!--MD5=[b4997ac47864f28c2f74865a473b2911]\n",
       "class E2--><a href=\"psysml:cfcc0fdc-4985-4a7c-8ed0-df1ec6a07f40\" target=\"_top\" title=\"psysml:cfcc0fdc-4985-4a7c-8ed0-df1ec6a07f40\" xlink:actuate=\"onRequest\" xlink:href=\"psysml:cfcc0fdc-4985-4a7c-8ed0-df1ec6a07f40\" xlink:show=\"new\" xlink:title=\"psysml:cfcc0fdc-4985-4a7c-8ed0-df1ec6a07f40\" xlink:type=\"simple\"><rect fill=\"#FFFFFF\" height=\"45.9375\" id=\"E2\" style=\"stroke: #383838; stroke-width: 1.5;\" width=\"66\" x=\"187\" y=\"244\"/><text fill=\"#000000\" font-family=\"sans-serif\" font-size=\"12\" font-style=\"italic\" lengthAdjust=\"spacingAndGlyphs\" textLength=\"64\" x=\"188\" y=\"260.1387\">«part def»</text><text fill=\"#000000\" font-family=\"sans-serif\" font-size=\"12\" lengthAdjust=\"spacingAndGlyphs\" textLength=\"8\" x=\"216\" y=\"274.1074\">P</text><line style=\"stroke: #383838; stroke-width: 1.5;\" x1=\"188\" x2=\"252\" y1=\"281.9375\" y2=\"281.9375\"/></a><!--MD5=[09b614a08d8cba4a07c9adeb5e0fee81]\n",
       "class E3--><a href=\"psysml:6504cd03-3352-435e-8e5a-44d60f096993\" target=\"_top\" title=\"psysml:6504cd03-3352-435e-8e5a-44d60f096993\" xlink:actuate=\"onRequest\" xlink:href=\"psysml:6504cd03-3352-435e-8e5a-44d60f096993\" xlink:show=\"new\" xlink:title=\"psysml:6504cd03-3352-435e-8e5a-44d60f096993\" xlink:type=\"simple\"><rect fill=\"#FFFFFF\" height=\"45.9375\" id=\"E3\" rx=\"10\" ry=\"10\" style=\"stroke: #383838; stroke-width: 1.5;\" width=\"71\" x=\"44\" y=\"41\"/><text fill=\"#000000\" font-family=\"sans-serif\" font-size=\"12\" font-style=\"italic\" lengthAdjust=\"spacingAndGlyphs\" textLength=\"69\" x=\"45\" y=\"57.1387\">«attribute»</text><text fill=\"#000000\" font-family=\"sans-serif\" font-size=\"12\" lengthAdjust=\"spacingAndGlyphs\" textLength=\"61\" x=\"49\" y=\"71.1074\">n: Integer</text><line style=\"stroke: #383838; stroke-width: 1.5;\" x1=\"45\" x2=\"114\" y1=\"78.9375\" y2=\"78.9375\"/></a><!--MD5=[ebbe1d658d1005bcc118a6aa81145e00]\n",
       "class E4--><a href=\"psysml:69df1372-c4de-42e4-b97b-1df20a9e4637\" target=\"_top\" title=\"psysml:69df1372-c4de-42e4-b97b-1df20a9e4637\" xlink:actuate=\"onRequest\" xlink:href=\"psysml:69df1372-c4de-42e4-b97b-1df20a9e4637\" xlink:show=\"new\" xlink:title=\"psysml:69df1372-c4de-42e4-b97b-1df20a9e4637\" xlink:type=\"simple\"><rect fill=\"#FFFFFF\" height=\"45.9375\" id=\"E4\" rx=\"10\" ry=\"10\" style=\"stroke: #383838; stroke-width: 1.5;\" width=\"42\" x=\"58.5\" y=\"122\"/><text fill=\"#000000\" font-family=\"sans-serif\" font-size=\"12\" font-style=\"italic\" lengthAdjust=\"spacingAndGlyphs\" textLength=\"40\" x=\"59.5\" y=\"138.1387\">«part»</text><text fill=\"#000000\" font-family=\"sans-serif\" font-size=\"12\" lengthAdjust=\"spacingAndGlyphs\" textLength=\"8\" x=\"75.5\" y=\"152.1074\">a</text><line style=\"stroke: #383838; stroke-width: 1.5;\" x1=\"59.5\" x2=\"99.5\" y1=\"159.9375\" y2=\"159.9375\"/></a><!--MD5=[270fce915f116d4de14055a7c1d9a0f3]\n",
       "class E5--><a href=\"psysml:ce135ed3-5db8-4159-aade-37d21406abf2\" target=\"_top\" title=\"psysml:ce135ed3-5db8-4159-aade-37d21406abf2\" xlink:actuate=\"onRequest\" xlink:href=\"psysml:ce135ed3-5db8-4159-aade-37d21406abf2\" xlink:show=\"new\" xlink:title=\"psysml:ce135ed3-5db8-4159-aade-37d21406abf2\" xlink:type=\"simple\"><rect fill=\"#FFFFFF\" height=\"45.9375\" id=\"E5\" rx=\"10\" ry=\"10\" style=\"stroke: #383838; stroke-width: 1.5;\" width=\"42\" x=\"58.5\" y=\"203\"/><text fill=\"#000000\" font-family=\"sans-serif\" font-size=\"12\" font-style=\"italic\" lengthAdjust=\"spacingAndGlyphs\" textLength=\"40\" x=\"59.5\" y=\"219.1387\">«part»</text><text fill=\"#000000\" font-family=\"sans-serif\" font-size=\"12\" lengthAdjust=\"spacingAndGlyphs\" textLength=\"24\" x=\"67.5\" y=\"233.1074\">b: P</text><line style=\"stroke: #383838; stroke-width: 1.5;\" x1=\"59.5\" x2=\"99.5\" y1=\"240.9375\" y2=\"240.9375\"/></a><!--MD5=[60a26617385b1d2d0262a64233df1f8d]\n",
       "class E6--><a href=\"psysml:7c20260d-33cb-4904-8feb-6f2059c0b9de\" target=\"_top\" title=\"psysml:7c20260d-33cb-4904-8feb-6f2059c0b9de\" xlink:actuate=\"onRequest\" xlink:href=\"psysml:7c20260d-33cb-4904-8feb-6f2059c0b9de\" xlink:show=\"new\" xlink:title=\"psysml:7c20260d-33cb-4904-8feb-6f2059c0b9de\" xlink:type=\"simple\"><rect fill=\"#FFFFFF\" height=\"45.9375\" id=\"E6\" rx=\"10\" ry=\"10\" style=\"stroke: #383838; stroke-width: 1.5;\" width=\"42\" x=\"58.5\" y=\"284\"/><text fill=\"#000000\" font-family=\"sans-serif\" font-size=\"12\" font-style=\"italic\" lengthAdjust=\"spacingAndGlyphs\" textLength=\"40\" x=\"59.5\" y=\"300.1387\">«part»</text><text fill=\"#000000\" font-family=\"sans-serif\" font-size=\"12\" lengthAdjust=\"spacingAndGlyphs\" textLength=\"23\" x=\"68\" y=\"314.1074\">c: P</text><line style=\"stroke: #383838; stroke-width: 1.5;\" x1=\"59.5\" x2=\"99.5\" y1=\"321.9375\" y2=\"321.9375\"/></a><!--MD5=[2156ba9850f5573cc1fc38a6a4b2f02b]\n",
       "class E7--><a href=\"psysml:a788bf26-d852-4daf-8a66-fd926f14abf3\" target=\"_top\" title=\"psysml:a788bf26-d852-4daf-8a66-fd926f14abf3\" xlink:actuate=\"onRequest\" xlink:href=\"psysml:a788bf26-d852-4daf-8a66-fd926f14abf3\" xlink:show=\"new\" xlink:title=\"psysml:a788bf26-d852-4daf-8a66-fd926f14abf3\" xlink:type=\"simple\"><rect fill=\"#FFFFFF\" height=\"45.9375\" id=\"E7\" rx=\"10\" ry=\"10\" style=\"stroke: #383838; stroke-width: 1.5;\" width=\"42\" x=\"58.5\" y=\"365\"/><text fill=\"#000000\" font-family=\"sans-serif\" font-size=\"12\" font-style=\"italic\" lengthAdjust=\"spacingAndGlyphs\" textLength=\"40\" x=\"59.5\" y=\"381.1387\">«part»</text><text fill=\"#000000\" font-family=\"sans-serif\" font-size=\"12\" lengthAdjust=\"spacingAndGlyphs\" textLength=\"8\" x=\"75.5\" y=\"395.1074\">d</text><line style=\"stroke: #383838; stroke-width: 1.5;\" x1=\"59.5\" x2=\"99.5\" y1=\"402.9375\" y2=\"402.9375\"/></a><!--MD5=[b9389687b975829384b498ac4b7476b2]\n",
       "class E8--><a href=\"psysml:8ca44daa-798d-42ea-8082-fded64fdb257\" target=\"_top\" title=\"psysml:8ca44daa-798d-42ea-8082-fded64fdb257\" xlink:actuate=\"onRequest\" xlink:href=\"psysml:8ca44daa-798d-42ea-8082-fded64fdb257\" xlink:show=\"new\" xlink:title=\"psysml:8ca44daa-798d-42ea-8082-fded64fdb257\" xlink:type=\"simple\"><rect fill=\"#FFFFFF\" height=\"45.9375\" id=\"E8\" rx=\"10\" ry=\"10\" style=\"stroke: #383838; stroke-width: 1.5;\" width=\"42\" x=\"58.5\" y=\"446\"/><text fill=\"#000000\" font-family=\"sans-serif\" font-size=\"12\" font-style=\"italic\" lengthAdjust=\"spacingAndGlyphs\" textLength=\"40\" x=\"59.5\" y=\"462.1387\">«part»</text><text fill=\"#000000\" font-family=\"sans-serif\" font-size=\"12\" lengthAdjust=\"spacingAndGlyphs\" textLength=\"8\" x=\"75.5\" y=\"476.1074\">e</text><line style=\"stroke: #383838; stroke-width: 1.5;\" x1=\"59.5\" x2=\"99.5\" y1=\"483.9375\" y2=\"483.9375\"/></a><!--MD5=[fd4143e9d270a159db93a4ea2a975926]\n",
       "class E9--><a href=\"psysml:94368454-840d-4091-abdb-e19ae5322c54\" target=\"_top\" title=\"psysml:94368454-840d-4091-abdb-e19ae5322c54\" xlink:actuate=\"onRequest\" xlink:href=\"psysml:94368454-840d-4091-abdb-e19ae5322c54\" xlink:show=\"new\" xlink:title=\"psysml:94368454-840d-4091-abdb-e19ae5322c54\" xlink:type=\"simple\"><rect fill=\"#FFFFFF\" height=\"45.9375\" id=\"E9\" rx=\"10\" ry=\"10\" style=\"stroke: #383838; stroke-width: 1.5;\" width=\"42\" x=\"58.5\" y=\"527\"/><text fill=\"#000000\" font-family=\"sans-serif\" font-size=\"12\" font-style=\"italic\" lengthAdjust=\"spacingAndGlyphs\" textLength=\"40\" x=\"59.5\" y=\"543.1387\">«part»</text><text fill=\"#000000\" font-family=\"sans-serif\" font-size=\"12\" lengthAdjust=\"spacingAndGlyphs\" textLength=\"4\" x=\"77.5\" y=\"557.1074\">f</text><line style=\"stroke: #383838; stroke-width: 1.5;\" x1=\"59.5\" x2=\"99.5\" y1=\"564.9375\" y2=\"564.9375\"/></a><!--MD5=[96f4274e9e20536e775497830990834d]\n",
       "class E10--><a href=\"psysml:8f8b3cba-ab00-4478-b69f-246a2e072be5\" target=\"_top\" title=\"psysml:8f8b3cba-ab00-4478-b69f-246a2e072be5\" xlink:actuate=\"onRequest\" xlink:href=\"psysml:8f8b3cba-ab00-4478-b69f-246a2e072be5\" xlink:show=\"new\" xlink:title=\"psysml:8f8b3cba-ab00-4478-b69f-246a2e072be5\" xlink:type=\"simple\"><rect fill=\"#FFFFFF\" height=\"45.9375\" id=\"E10\" rx=\"10\" ry=\"10\" style=\"stroke: #383838; stroke-width: 1.5;\" width=\"42\" x=\"58.5\" y=\"608\"/><text fill=\"#000000\" font-family=\"sans-serif\" font-size=\"12\" font-style=\"italic\" lengthAdjust=\"spacingAndGlyphs\" textLength=\"40\" x=\"59.5\" y=\"624.1387\">«part»</text><text fill=\"#000000\" font-family=\"sans-serif\" font-size=\"12\" lengthAdjust=\"spacingAndGlyphs\" textLength=\"8\" x=\"75.5\" y=\"638.1074\">g</text><line style=\"stroke: #383838; stroke-width: 1.5;\" x1=\"59.5\" x2=\"99.5\" y1=\"645.9375\" y2=\"645.9375\"/></a><!--MD5=[1dd1bfd58a279cf63c5f349dbc8fc6a1]\n",
       "class E11--><a href=\"psysml:2c45c451-c8b5-4e48-8592-55fa30d535c5\" target=\"_top\" title=\"psysml:2c45c451-c8b5-4e48-8592-55fa30d535c5\" xlink:actuate=\"onRequest\" xlink:href=\"psysml:2c45c451-c8b5-4e48-8592-55fa30d535c5\" xlink:show=\"new\" xlink:title=\"psysml:2c45c451-c8b5-4e48-8592-55fa30d535c5\" xlink:type=\"simple\"><rect fill=\"#FFFFFF\" height=\"88.3516\" id=\"E11\" style=\"stroke: #383838; stroke-width: 1.5;\" width=\"95\" x=\"32\" y=\"689\"/><text fill=\"#000000\" font-family=\"sans-serif\" font-size=\"12\" font-style=\"italic\" lengthAdjust=\"spacingAndGlyphs\" textLength=\"93\" x=\"33\" y=\"705.1387\">«attribute def»</text><text fill=\"#000000\" font-family=\"sans-serif\" font-size=\"12\" lengthAdjust=\"spacingAndGlyphs\" textLength=\"8\" x=\"75.5\" y=\"719.1074\">A</text><line style=\"stroke: #383838; stroke-width: 1.5;\" x1=\"33\" x2=\"126\" y1=\"726.9375\" y2=\"726.9375\"/><text fill=\"#000000\" font-family=\"sans-serif\" font-size=\"11\" lengthAdjust=\"spacingAndGlyphs\" textLength=\"51\" x=\"38\" y=\"757.9526\">i: Integer</text><text fill=\"#000000\" font-family=\"sans-serif\" font-size=\"11\" lengthAdjust=\"spacingAndGlyphs\" textLength=\"21\" x=\"38\" y=\"770.7573\">x: A</text><line style=\"stroke: #383838; stroke-width: 1.0;\" x1=\"33\" x2=\"52\" y1=\"741.3398\" y2=\"741.3398\"/><text fill=\"#000000\" font-family=\"sans-serif\" font-size=\"11\" lengthAdjust=\"spacingAndGlyphs\" textLength=\"55\" x=\"52\" y=\"744.6479\">attributes</text><line style=\"stroke: #383838; stroke-width: 1.0;\" x1=\"107\" x2=\"126\" y1=\"741.3398\" y2=\"741.3398\"/></a><!--MD5=[15ebcb19ae302d9b601edb458606d402]\n",
       "link E5 to E2--><a href=\"psysml:99c2055f-0301-4891-b65d-9e517e6365b1\" target=\"_top\" title=\"psysml:99c2055f-0301-4891-b65d-9e517e6365b1\" xlink:actuate=\"onRequest\" xlink:href=\"psysml:99c2055f-0301-4891-b65d-9e517e6365b1\" xlink:show=\"new\" xlink:title=\"psysml:99c2055f-0301-4891-b65d-9e517e6365b1\" xlink:type=\"simple\"><path d=\"M100.64,231.96 C118.11,237.13 144.16,244.84 167.38,251.72 \" fill=\"none\" id=\"E5-&gt;E2\" style=\"stroke: #383838; stroke-width: 1.0;\"/><polygon fill=\"#FFFFFF\" points=\"186.77,257.46,166.5639,258.7688,170.5445,245.3466,186.77,257.46\" style=\"stroke: #383838; stroke-width: 1.0;\"/><ellipse cx=\"161.6678\" cy=\"255.2306\" fill=\"#383838\" rx=\"2\" ry=\"2\" style=\"stroke: #383838; stroke-width: 1.0;\"/><ellipse cx=\"164.5111\" cy=\"245.6434\" fill=\"#383838\" rx=\"2\" ry=\"2\" style=\"stroke: #383838; stroke-width: 1.0;\"/></a><!--MD5=[2351f337d6de0f557b50152ba70847b5]\n",
       "link E6 to E2--><a href=\"psysml:035f6493-28ba-4968-b761-0ab46a395f55\" target=\"_top\" title=\"psysml:035f6493-28ba-4968-b761-0ab46a395f55\" xlink:actuate=\"onRequest\" xlink:href=\"psysml:035f6493-28ba-4968-b761-0ab46a395f55\" xlink:show=\"new\" xlink:title=\"psysml:035f6493-28ba-4968-b761-0ab46a395f55\" xlink:type=\"simple\"><path d=\"M100.64,301.18 C118.11,296.14 144.16,288.61 167.38,281.91 \" fill=\"none\" id=\"E6-&gt;E2\" style=\"stroke: #383838; stroke-width: 1.0;\"/><polygon fill=\"#FFFFFF\" points=\"186.77,276.31,170.4629,288.3132,166.5732,274.8644,186.77,276.31\" style=\"stroke: #383838; stroke-width: 1.0;\"/><ellipse cx=\"164.4316\" cy=\"287.9756\" fill=\"#383838\" rx=\"2\" ry=\"2\" style=\"stroke: #383838; stroke-width: 1.0;\"/><ellipse cx=\"161.6533\" cy=\"278.3693\" fill=\"#383838\" rx=\"2\" ry=\"2\" style=\"stroke: #383838; stroke-width: 1.0;\"/></a><!--MD5=[8e635a45f612384d82ab2cfb1e890934]\n",
       "@startuml\r\n",
       "left to right direction\r\n",
       "skinparam monochrome true\r\n",
       "skinparam classbackgroundcolor white\r\n",
       "skinparam shadowing false\r\n",
       "skinparam wrapWidth 300\r\n",
       "hide circle\r\n",
       "\r\n",
       "package \"MultiplicityTest\" as E1  [[psysml:d21f1d33-c8d8-4d7e-915c-a1dc21839292 ]]  {\r\n",
       "comp def \"P\" as E2  <<(T,blue) part def>> [[psysml:cfcc0fdc-4985-4a7c-8ed0-df1ec6a07f40 ]] {\r\n",
       "}\r\n",
       "comp usage \"n: Integer\" as E3  <<(T,blue) attribute>> [[psysml:6504cd03-3352-435e-8e5a-44d60f096993 ]] {\r\n",
       "}\r\n",
       "comp usage \"a\" as E4  <<(T,blue) part>> [[psysml:69df1372-c4de-42e4-b97b-1df20a9e4637 ]] {\r\n",
       "}\r\n",
       "comp usage \"b: P\" as E5  <<(T,blue) part>> [[psysml:ce135ed3-5db8-4159-aade-37d21406abf2 ]] {\r\n",
       "}\r\n",
       "comp usage \"c: P\" as E6  <<(T,blue) part>> [[psysml:7c20260d-33cb-4904-8feb-6f2059c0b9de ]] {\r\n",
       "}\r\n",
       "comp usage \"d\" as E7  <<(T,blue) part>> [[psysml:a788bf26-d852-4daf-8a66-fd926f14abf3 ]] {\r\n",
       "}\r\n",
       "comp usage \"e\" as E8  <<(T,blue) part>> [[psysml:8ca44daa-798d-42ea-8082-fded64fdb257 ]] {\r\n",
       "}\r\n",
       "comp usage \"f\" as E9  <<(T,blue) part>> [[psysml:94368454-840d-4091-abdb-e19ae5322c54 ]] {\r\n",
       "}\r\n",
       "comp usage \"g\" as E10  <<(T,blue) part>> [[psysml:8f8b3cba-ab00-4478-b69f-246a2e072be5 ]] {\r\n",
       "}\r\n",
       "comp def \"A\" as E11  <<(T,blue) attribute def>> [[psysml:2c45c451-c8b5-4e48-8592-55fa30d535c5 ]] {\r\n",
       "- - attributes - -\r\n",
       "i: Integer\r\n",
       "x: A\r\n",
       "}\r\n",
       "E5 - -:|> E2 [[psysml:99c2055f-0301-4891-b65d-9e517e6365b1 ]] \r\n",
       "E6 - -:|> E2 [[psysml:035f6493-28ba-4968-b761-0ab46a395f55 ]] \r\n",
       "}\r\n",
       "@enduml\r\n",
       "\n",
       "PlantUML version 1.2020.13(Sat Jun 13 12:26:38 UTC 2020)\n",
       "(EPL source distribution)\n",
       "Java Runtime: OpenJDK Runtime Environment\n",
       "JVM: OpenJDK 64-Bit Server VM\n",
       "Default Encoding: UTF-8\n",
       "Language: en\n",
       "Country: null\n",
       "--></g></svg>"
      ]
     },
     "execution_count": 22,
     "metadata": {},
     "output_type": "execute_result"
    }
   ],
   "source": [
    "%viz --style=\"LR\" --view=\"MIXED\" \"MultiplicityTest\""
   ]
  },
  {
   "cell_type": "code",
   "execution_count": 23,
   "id": "d8c64aab",
   "metadata": {
    "execution": {
     "iopub.execute_input": "2021-06-30T09:24:31.647622Z",
     "iopub.status.busy": "2021-06-30T09:24:31.647221Z",
     "iopub.status.idle": "2021-06-30T09:24:31.692340Z",
     "shell.execute_reply": "2021-06-30T09:24:31.690844Z"
    }
   },
   "outputs": [
    {
     "data": {
      "image/svg+xml": [
       "<?xml version=\"1.0\" encoding=\"UTF-8\" standalone=\"no\"?><svg xmlns=\"http://www.w3.org/2000/svg\" xmlns:xlink=\"http://www.w3.org/1999/xlink\" contentScriptType=\"application/ecmascript\" contentStyleType=\"text/css\" height=\"247px\" preserveAspectRatio=\"none\" style=\"width:812px;height:247px;\" version=\"1.1\" viewBox=\"0 0 812 247\" width=\"812px\" zoomAndPan=\"magnify\"><defs><filter height=\"300%\" id=\"fuwit4akiwtdr\" width=\"300%\" x=\"-1\" y=\"-1\"><feGaussianBlur result=\"blurOut\" stdDeviation=\"2.0\"/><feColorMatrix in=\"blurOut\" result=\"blurOut2\" type=\"matrix\" values=\"0 0 0 0 0 0 0 0 0 0 0 0 0 0 0 0 0 0 .4 0\"/><feOffset dx=\"4.0\" dy=\"4.0\" in=\"blurOut2\" result=\"blurOut3\"/><feBlend in=\"SourceGraphic\" in2=\"blurOut3\" mode=\"normal\"/></filter></defs><g><!--MD5=[fbc87193dbaf4d95561dea2c320d4a47]\n",
       "cluster E1--><a href=\"psysml:d21f1d33-c8d8-4d7e-915c-a1dc21839292\" target=\"_top\" title=\"psysml:d21f1d33-c8d8-4d7e-915c-a1dc21839292\" xlink:actuate=\"onRequest\" xlink:href=\"psysml:d21f1d33-c8d8-4d7e-915c-a1dc21839292\" xlink:show=\"new\" xlink:title=\"psysml:d21f1d33-c8d8-4d7e-915c-a1dc21839292\" xlink:type=\"simple\"><polygon fill=\"#FFFFFF\" filter=\"url(#fuwit4akiwtdr)\" points=\"16,6,140,6,147,28.2969,790,28.2969,790,235,16,235,16,6\" style=\"stroke: #000000; stroke-width: 1.5;\"/><line style=\"stroke: #000000; stroke-width: 1.5;\" x1=\"16\" x2=\"147\" y1=\"28.2969\" y2=\"28.2969\"/><text fill=\"#000000\" font-family=\"sans-serif\" font-size=\"14\" font-weight=\"bold\" lengthAdjust=\"spacingAndGlyphs\" textLength=\"118\" x=\"20\" y=\"20.9951\">MultiplicityTest</text></a><!--MD5=[b4997ac47864f28c2f74865a473b2911]\n",
       "class E2--><a href=\"psysml:cfcc0fdc-4985-4a7c-8ed0-df1ec6a07f40\" target=\"_top\" title=\"psysml:cfcc0fdc-4985-4a7c-8ed0-df1ec6a07f40\" xlink:actuate=\"onRequest\" xlink:href=\"psysml:cfcc0fdc-4985-4a7c-8ed0-df1ec6a07f40\" xlink:show=\"new\" xlink:title=\"psysml:cfcc0fdc-4985-4a7c-8ed0-df1ec6a07f40\" xlink:type=\"simple\"><rect fill=\"#FEFECE\" filter=\"url(#fuwit4akiwtdr)\" height=\"45.9375\" id=\"E2\" style=\"stroke: #A80036; stroke-width: 1.5;\" width=\"66\" x=\"497\" y=\"173\"/><text fill=\"#000000\" font-family=\"sans-serif\" font-size=\"12\" font-style=\"italic\" lengthAdjust=\"spacingAndGlyphs\" textLength=\"64\" x=\"498\" y=\"189.1387\">«part def»</text><text fill=\"#000000\" font-family=\"sans-serif\" font-size=\"12\" lengthAdjust=\"spacingAndGlyphs\" textLength=\"8\" x=\"526\" y=\"203.1074\">P</text><line style=\"stroke: #A80036; stroke-width: 1.5;\" x1=\"498\" x2=\"562\" y1=\"210.9375\" y2=\"210.9375\"/></a><!--MD5=[09b614a08d8cba4a07c9adeb5e0fee81]\n",
       "class E3--><a href=\"psysml:6504cd03-3352-435e-8e5a-44d60f096993\" target=\"_top\" title=\"psysml:6504cd03-3352-435e-8e5a-44d60f096993\" xlink:actuate=\"onRequest\" xlink:href=\"psysml:6504cd03-3352-435e-8e5a-44d60f096993\" xlink:show=\"new\" xlink:title=\"psysml:6504cd03-3352-435e-8e5a-44d60f096993\" xlink:type=\"simple\"><rect fill=\"#FEFECE\" filter=\"url(#fuwit4akiwtdr)\" height=\"45.9375\" id=\"E3\" rx=\"10\" ry=\"10\" style=\"stroke: #A80036; stroke-width: 1.5;\" width=\"71\" x=\"702.5\" y=\"54\"/><text fill=\"#000000\" font-family=\"sans-serif\" font-size=\"12\" font-style=\"italic\" lengthAdjust=\"spacingAndGlyphs\" textLength=\"69\" x=\"703.5\" y=\"70.1387\">«attribute»</text><text fill=\"#000000\" font-family=\"sans-serif\" font-size=\"12\" lengthAdjust=\"spacingAndGlyphs\" textLength=\"61\" x=\"707.5\" y=\"84.1074\">n: Integer</text><line style=\"stroke: #A80036; stroke-width: 1.5;\" x1=\"703.5\" x2=\"772.5\" y1=\"91.9375\" y2=\"91.9375\"/></a><!--MD5=[ebbe1d658d1005bcc118a6aa81145e00]\n",
       "class E4--><a href=\"psysml:69df1372-c4de-42e4-b97b-1df20a9e4637\" target=\"_top\" title=\"psysml:69df1372-c4de-42e4-b97b-1df20a9e4637\" xlink:actuate=\"onRequest\" xlink:href=\"psysml:69df1372-c4de-42e4-b97b-1df20a9e4637\" xlink:show=\"new\" xlink:title=\"psysml:69df1372-c4de-42e4-b97b-1df20a9e4637\" xlink:type=\"simple\"><rect fill=\"#FEFECE\" filter=\"url(#fuwit4akiwtdr)\" height=\"45.9375\" id=\"E4\" rx=\"10\" ry=\"10\" style=\"stroke: #A80036; stroke-width: 1.5;\" width=\"42\" x=\"625\" y=\"54\"/><text fill=\"#000000\" font-family=\"sans-serif\" font-size=\"12\" font-style=\"italic\" lengthAdjust=\"spacingAndGlyphs\" textLength=\"40\" x=\"626\" y=\"70.1387\">«part»</text><text fill=\"#000000\" font-family=\"sans-serif\" font-size=\"12\" lengthAdjust=\"spacingAndGlyphs\" textLength=\"8\" x=\"642\" y=\"84.1074\">a</text><line style=\"stroke: #A80036; stroke-width: 1.5;\" x1=\"626\" x2=\"666\" y1=\"91.9375\" y2=\"91.9375\"/></a><!--MD5=[270fce915f116d4de14055a7c1d9a0f3]\n",
       "class E5--><a href=\"psysml:ce135ed3-5db8-4159-aade-37d21406abf2\" target=\"_top\" title=\"psysml:ce135ed3-5db8-4159-aade-37d21406abf2\" xlink:actuate=\"onRequest\" xlink:href=\"psysml:ce135ed3-5db8-4159-aade-37d21406abf2\" xlink:show=\"new\" xlink:title=\"psysml:ce135ed3-5db8-4159-aade-37d21406abf2\" xlink:type=\"simple\"><rect fill=\"#FEFECE\" filter=\"url(#fuwit4akiwtdr)\" height=\"45.9375\" id=\"E5\" rx=\"10\" ry=\"10\" style=\"stroke: #A80036; stroke-width: 1.5;\" width=\"42\" x=\"548\" y=\"54\"/><text fill=\"#000000\" font-family=\"sans-serif\" font-size=\"12\" font-style=\"italic\" lengthAdjust=\"spacingAndGlyphs\" textLength=\"40\" x=\"549\" y=\"70.1387\">«part»</text><text fill=\"#000000\" font-family=\"sans-serif\" font-size=\"12\" lengthAdjust=\"spacingAndGlyphs\" textLength=\"24\" x=\"557\" y=\"84.1074\">b: P</text><line style=\"stroke: #A80036; stroke-width: 1.5;\" x1=\"549\" x2=\"589\" y1=\"91.9375\" y2=\"91.9375\"/></a><!--MD5=[60a26617385b1d2d0262a64233df1f8d]\n",
       "class E6--><a href=\"psysml:7c20260d-33cb-4904-8feb-6f2059c0b9de\" target=\"_top\" title=\"psysml:7c20260d-33cb-4904-8feb-6f2059c0b9de\" xlink:actuate=\"onRequest\" xlink:href=\"psysml:7c20260d-33cb-4904-8feb-6f2059c0b9de\" xlink:show=\"new\" xlink:title=\"psysml:7c20260d-33cb-4904-8feb-6f2059c0b9de\" xlink:type=\"simple\"><rect fill=\"#FEFECE\" filter=\"url(#fuwit4akiwtdr)\" height=\"45.9375\" id=\"E6\" rx=\"10\" ry=\"10\" style=\"stroke: #A80036; stroke-width: 1.5;\" width=\"42\" x=\"471\" y=\"54\"/><text fill=\"#000000\" font-family=\"sans-serif\" font-size=\"12\" font-style=\"italic\" lengthAdjust=\"spacingAndGlyphs\" textLength=\"40\" x=\"472\" y=\"70.1387\">«part»</text><text fill=\"#000000\" font-family=\"sans-serif\" font-size=\"12\" lengthAdjust=\"spacingAndGlyphs\" textLength=\"23\" x=\"480.5\" y=\"84.1074\">c: P</text><line style=\"stroke: #A80036; stroke-width: 1.5;\" x1=\"472\" x2=\"512\" y1=\"91.9375\" y2=\"91.9375\"/></a><!--MD5=[2156ba9850f5573cc1fc38a6a4b2f02b]\n",
       "class E7--><a href=\"psysml:a788bf26-d852-4daf-8a66-fd926f14abf3\" target=\"_top\" title=\"psysml:a788bf26-d852-4daf-8a66-fd926f14abf3\" xlink:actuate=\"onRequest\" xlink:href=\"psysml:a788bf26-d852-4daf-8a66-fd926f14abf3\" xlink:show=\"new\" xlink:title=\"psysml:a788bf26-d852-4daf-8a66-fd926f14abf3\" xlink:type=\"simple\"><rect fill=\"#FEFECE\" filter=\"url(#fuwit4akiwtdr)\" height=\"45.9375\" id=\"E7\" rx=\"10\" ry=\"10\" style=\"stroke: #A80036; stroke-width: 1.5;\" width=\"42\" x=\"394\" y=\"54\"/><text fill=\"#000000\" font-family=\"sans-serif\" font-size=\"12\" font-style=\"italic\" lengthAdjust=\"spacingAndGlyphs\" textLength=\"40\" x=\"395\" y=\"70.1387\">«part»</text><text fill=\"#000000\" font-family=\"sans-serif\" font-size=\"12\" lengthAdjust=\"spacingAndGlyphs\" textLength=\"8\" x=\"411\" y=\"84.1074\">d</text><line style=\"stroke: #A80036; stroke-width: 1.5;\" x1=\"395\" x2=\"435\" y1=\"91.9375\" y2=\"91.9375\"/></a><!--MD5=[b9389687b975829384b498ac4b7476b2]\n",
       "class E8--><a href=\"psysml:8ca44daa-798d-42ea-8082-fded64fdb257\" target=\"_top\" title=\"psysml:8ca44daa-798d-42ea-8082-fded64fdb257\" xlink:actuate=\"onRequest\" xlink:href=\"psysml:8ca44daa-798d-42ea-8082-fded64fdb257\" xlink:show=\"new\" xlink:title=\"psysml:8ca44daa-798d-42ea-8082-fded64fdb257\" xlink:type=\"simple\"><rect fill=\"#FEFECE\" filter=\"url(#fuwit4akiwtdr)\" height=\"45.9375\" id=\"E8\" rx=\"10\" ry=\"10\" style=\"stroke: #A80036; stroke-width: 1.5;\" width=\"42\" x=\"317\" y=\"54\"/><text fill=\"#000000\" font-family=\"sans-serif\" font-size=\"12\" font-style=\"italic\" lengthAdjust=\"spacingAndGlyphs\" textLength=\"40\" x=\"318\" y=\"70.1387\">«part»</text><text fill=\"#000000\" font-family=\"sans-serif\" font-size=\"12\" lengthAdjust=\"spacingAndGlyphs\" textLength=\"8\" x=\"334\" y=\"84.1074\">e</text><line style=\"stroke: #A80036; stroke-width: 1.5;\" x1=\"318\" x2=\"358\" y1=\"91.9375\" y2=\"91.9375\"/></a><!--MD5=[fd4143e9d270a159db93a4ea2a975926]\n",
       "class E9--><a href=\"psysml:94368454-840d-4091-abdb-e19ae5322c54\" target=\"_top\" title=\"psysml:94368454-840d-4091-abdb-e19ae5322c54\" xlink:actuate=\"onRequest\" xlink:href=\"psysml:94368454-840d-4091-abdb-e19ae5322c54\" xlink:show=\"new\" xlink:title=\"psysml:94368454-840d-4091-abdb-e19ae5322c54\" xlink:type=\"simple\"><rect fill=\"#FEFECE\" filter=\"url(#fuwit4akiwtdr)\" height=\"45.9375\" id=\"E9\" rx=\"10\" ry=\"10\" style=\"stroke: #A80036; stroke-width: 1.5;\" width=\"42\" x=\"240\" y=\"54\"/><text fill=\"#000000\" font-family=\"sans-serif\" font-size=\"12\" font-style=\"italic\" lengthAdjust=\"spacingAndGlyphs\" textLength=\"40\" x=\"241\" y=\"70.1387\">«part»</text><text fill=\"#000000\" font-family=\"sans-serif\" font-size=\"12\" lengthAdjust=\"spacingAndGlyphs\" textLength=\"4\" x=\"259\" y=\"84.1074\">f</text><line style=\"stroke: #A80036; stroke-width: 1.5;\" x1=\"241\" x2=\"281\" y1=\"91.9375\" y2=\"91.9375\"/></a><!--MD5=[96f4274e9e20536e775497830990834d]\n",
       "class E10--><a href=\"psysml:8f8b3cba-ab00-4478-b69f-246a2e072be5\" target=\"_top\" title=\"psysml:8f8b3cba-ab00-4478-b69f-246a2e072be5\" xlink:actuate=\"onRequest\" xlink:href=\"psysml:8f8b3cba-ab00-4478-b69f-246a2e072be5\" xlink:show=\"new\" xlink:title=\"psysml:8f8b3cba-ab00-4478-b69f-246a2e072be5\" xlink:type=\"simple\"><rect fill=\"#FEFECE\" filter=\"url(#fuwit4akiwtdr)\" height=\"45.9375\" id=\"E10\" rx=\"10\" ry=\"10\" style=\"stroke: #A80036; stroke-width: 1.5;\" width=\"42\" x=\"163\" y=\"54\"/><text fill=\"#000000\" font-family=\"sans-serif\" font-size=\"12\" font-style=\"italic\" lengthAdjust=\"spacingAndGlyphs\" textLength=\"40\" x=\"164\" y=\"70.1387\">«part»</text><text fill=\"#000000\" font-family=\"sans-serif\" font-size=\"12\" lengthAdjust=\"spacingAndGlyphs\" textLength=\"8\" x=\"180\" y=\"84.1074\">g</text><line style=\"stroke: #A80036; stroke-width: 1.5;\" x1=\"164\" x2=\"204\" y1=\"91.9375\" y2=\"91.9375\"/></a><!--MD5=[1dd1bfd58a279cf63c5f349dbc8fc6a1]\n",
       "class E11--><a href=\"psysml:2c45c451-c8b5-4e48-8592-55fa30d535c5\" target=\"_top\" title=\"psysml:2c45c451-c8b5-4e48-8592-55fa30d535c5\" xlink:actuate=\"onRequest\" xlink:href=\"psysml:2c45c451-c8b5-4e48-8592-55fa30d535c5\" xlink:show=\"new\" xlink:title=\"psysml:2c45c451-c8b5-4e48-8592-55fa30d535c5\" xlink:type=\"simple\"><rect fill=\"#FEFECE\" filter=\"url(#fuwit4akiwtdr)\" height=\"71.5469\" id=\"E11\" style=\"stroke: #A80036; stroke-width: 1.5;\" width=\"95\" x=\"32.5\" y=\"41\"/><text fill=\"#000000\" font-family=\"sans-serif\" font-size=\"12\" font-style=\"italic\" lengthAdjust=\"spacingAndGlyphs\" textLength=\"93\" x=\"33.5\" y=\"57.1387\">«attribute def»</text><text fill=\"#000000\" font-family=\"sans-serif\" font-size=\"12\" lengthAdjust=\"spacingAndGlyphs\" textLength=\"8\" x=\"76\" y=\"71.1074\">A</text><line style=\"stroke: #A80036; stroke-width: 1.5;\" x1=\"33.5\" x2=\"126.5\" y1=\"78.9375\" y2=\"78.9375\"/><text fill=\"#000000\" font-family=\"sans-serif\" font-size=\"11\" lengthAdjust=\"spacingAndGlyphs\" textLength=\"51\" x=\"38.5\" y=\"93.1479\">i: Integer</text><text fill=\"#000000\" font-family=\"sans-serif\" font-size=\"11\" lengthAdjust=\"spacingAndGlyphs\" textLength=\"21\" x=\"38.5\" y=\"105.9526\">x: A</text></a><!--MD5=[15ebcb19ae302d9b601edb458606d402]\n",
       "link E5 to E2--><a href=\"psysml:99c2055f-0301-4891-b65d-9e517e6365b1\" target=\"_top\" title=\"psysml:99c2055f-0301-4891-b65d-9e517e6365b1\" xlink:actuate=\"onRequest\" xlink:href=\"psysml:99c2055f-0301-4891-b65d-9e517e6365b1\" xlink:show=\"new\" xlink:title=\"psysml:99c2055f-0301-4891-b65d-9e517e6365b1\" xlink:type=\"simple\"><path d=\"M561.66,100.01 C556.63,115.11 549.8,135.61 543.76,153.71 \" fill=\"none\" id=\"E5-&gt;E2\" style=\"stroke: #A80036; stroke-width: 1.0;\"/><polygon fill=\"#FFFFFF\" points=\"537.44,172.69,536.7984,152.4517,550.082,156.8729,537.44,172.69\" style=\"stroke: #A80036; stroke-width: 1.0;\"/><ellipse cx=\"540.4961\" cy=\"147.675\" fill=\"#A80036\" rx=\"2\" ry=\"2\" style=\"stroke: #A80036; stroke-width: 1.0;\"/><ellipse cx=\"549.9844\" cy=\"150.833\" fill=\"#A80036\" rx=\"2\" ry=\"2\" style=\"stroke: #A80036; stroke-width: 1.0;\"/></a><!--MD5=[2351f337d6de0f557b50152ba70847b5]\n",
       "link E6 to E2--><a href=\"psysml:035f6493-28ba-4968-b761-0ab46a395f55\" target=\"_top\" title=\"psysml:035f6493-28ba-4968-b761-0ab46a395f55\" xlink:actuate=\"onRequest\" xlink:href=\"psysml:035f6493-28ba-4968-b761-0ab46a395f55\" xlink:show=\"new\" xlink:title=\"psysml:035f6493-28ba-4968-b761-0ab46a395f55\" xlink:type=\"simple\"><path d=\"M499.15,100.01 C504.03,115.03 510.64,135.39 516.49,153.41 \" fill=\"none\" id=\"E6-&gt;E2\" style=\"stroke: #A80036; stroke-width: 1.0;\"/><polygon fill=\"#FFFFFF\" points=\"522.76,172.69,510.2363,156.7791,523.5525,152.4571,522.76,172.69\" style=\"stroke: #A80036; stroke-width: 1.0;\"/><ellipse cx=\"510.379\" cy=\"150.74\" fill=\"#A80036\" rx=\"2\" ry=\"2\" style=\"stroke: #A80036; stroke-width: 1.0;\"/><ellipse cx=\"519.8905\" cy=\"147.6529\" fill=\"#A80036\" rx=\"2\" ry=\"2\" style=\"stroke: #A80036; stroke-width: 1.0;\"/></a><!--MD5=[d0f8f2eb079551b7398fed44cbada128]\n",
       "@startuml\r\n",
       "skinparam wrapWidth 300\r\n",
       "hide circle\r\n",
       "\r\n",
       "package \"MultiplicityTest\" as E1  [[psysml:d21f1d33-c8d8-4d7e-915c-a1dc21839292 ]]  {\r\n",
       "comp def \"P\" as E2  <<(T,blue) part def>> [[psysml:cfcc0fdc-4985-4a7c-8ed0-df1ec6a07f40 ]] {\r\n",
       "}\r\n",
       "comp usage \"n: Integer\" as E3  <<(T,blue) attribute>> [[psysml:6504cd03-3352-435e-8e5a-44d60f096993 ]] {\r\n",
       "}\r\n",
       "comp usage \"a\" as E4  <<(T,blue) part>> [[psysml:69df1372-c4de-42e4-b97b-1df20a9e4637 ]] {\r\n",
       "}\r\n",
       "comp usage \"b: P\" as E5  <<(T,blue) part>> [[psysml:ce135ed3-5db8-4159-aade-37d21406abf2 ]] {\r\n",
       "}\r\n",
       "comp usage \"c: P\" as E6  <<(T,blue) part>> [[psysml:7c20260d-33cb-4904-8feb-6f2059c0b9de ]] {\r\n",
       "}\r\n",
       "comp usage \"d\" as E7  <<(T,blue) part>> [[psysml:a788bf26-d852-4daf-8a66-fd926f14abf3 ]] {\r\n",
       "}\r\n",
       "comp usage \"e\" as E8  <<(T,blue) part>> [[psysml:8ca44daa-798d-42ea-8082-fded64fdb257 ]] {\r\n",
       "}\r\n",
       "comp usage \"f\" as E9  <<(T,blue) part>> [[psysml:94368454-840d-4091-abdb-e19ae5322c54 ]] {\r\n",
       "}\r\n",
       "comp usage \"g\" as E10  <<(T,blue) part>> [[psysml:8f8b3cba-ab00-4478-b69f-246a2e072be5 ]] {\r\n",
       "}\r\n",
       "comp def \"A\" as E11  <<(T,blue) attribute def>> [[psysml:2c45c451-c8b5-4e48-8592-55fa30d535c5 ]] {\r\n",
       "i: Integer\r\n",
       "x: A\r\n",
       "}\r\n",
       "E5 - -:|> E2 [[psysml:99c2055f-0301-4891-b65d-9e517e6365b1 ]] \r\n",
       "E6 - -:|> E2 [[psysml:035f6493-28ba-4968-b761-0ab46a395f55 ]] \r\n",
       "}\r\n",
       "@enduml\r\n",
       "\n",
       "PlantUML version 1.2020.13(Sat Jun 13 12:26:38 UTC 2020)\n",
       "(EPL source distribution)\n",
       "Java Runtime: OpenJDK Runtime Environment\n",
       "JVM: OpenJDK 64-Bit Server VM\n",
       "Default Encoding: UTF-8\n",
       "Language: en\n",
       "Country: null\n",
       "--></g></svg>"
      ]
     },
     "execution_count": 23,
     "metadata": {},
     "output_type": "execute_result"
    }
   ],
   "source": [
    "%viz --style=\"STDCOLOR\" --view=\"Default\" \"MultiplicityTest\""
   ]
  },
  {
   "cell_type": "code",
   "execution_count": 24,
   "id": "27ddb21a",
   "metadata": {
    "execution": {
     "iopub.execute_input": "2021-06-30T09:24:31.742614Z",
     "iopub.status.busy": "2021-06-30T09:24:31.742175Z",
     "iopub.status.idle": "2021-06-30T09:24:31.781866Z",
     "shell.execute_reply": "2021-06-30T09:24:31.780336Z"
    }
   },
   "outputs": [
    {
     "data": {
      "image/svg+xml": [
       "<?xml version=\"1.0\" encoding=\"UTF-8\" standalone=\"no\"?><svg xmlns=\"http://www.w3.org/2000/svg\" xmlns:xlink=\"http://www.w3.org/1999/xlink\" contentScriptType=\"application/ecmascript\" contentStyleType=\"text/css\" height=\"247px\" preserveAspectRatio=\"none\" style=\"width:812px;height:247px;\" version=\"1.1\" viewBox=\"0 0 812 247\" width=\"812px\" zoomAndPan=\"magnify\"><defs><filter height=\"300%\" id=\"fuwit4akiwtdr\" width=\"300%\" x=\"-1\" y=\"-1\"><feGaussianBlur result=\"blurOut\" stdDeviation=\"2.0\"/><feColorMatrix in=\"blurOut\" result=\"blurOut2\" type=\"matrix\" values=\"0 0 0 0 0 0 0 0 0 0 0 0 0 0 0 0 0 0 .4 0\"/><feOffset dx=\"4.0\" dy=\"4.0\" in=\"blurOut2\" result=\"blurOut3\"/><feBlend in=\"SourceGraphic\" in2=\"blurOut3\" mode=\"normal\"/></filter></defs><g><!--MD5=[fbc87193dbaf4d95561dea2c320d4a47]\n",
       "cluster E1--><a href=\"psysml:d21f1d33-c8d8-4d7e-915c-a1dc21839292\" target=\"_top\" title=\"psysml:d21f1d33-c8d8-4d7e-915c-a1dc21839292\" xlink:actuate=\"onRequest\" xlink:href=\"psysml:d21f1d33-c8d8-4d7e-915c-a1dc21839292\" xlink:show=\"new\" xlink:title=\"psysml:d21f1d33-c8d8-4d7e-915c-a1dc21839292\" xlink:type=\"simple\"><polygon fill=\"#FFFFFF\" filter=\"url(#fuwit4akiwtdr)\" points=\"16,6,140,6,147,28.2969,790,28.2969,790,235,16,235,16,6\" style=\"stroke: #000000; stroke-width: 1.5;\"/><line style=\"stroke: #000000; stroke-width: 1.5;\" x1=\"16\" x2=\"147\" y1=\"28.2969\" y2=\"28.2969\"/><text fill=\"#000000\" font-family=\"sans-serif\" font-size=\"14\" font-weight=\"bold\" lengthAdjust=\"spacingAndGlyphs\" textLength=\"118\" x=\"20\" y=\"20.9951\">MultiplicityTest</text></a><!--MD5=[b4997ac47864f28c2f74865a473b2911]\n",
       "class E2--><a href=\"psysml:cfcc0fdc-4985-4a7c-8ed0-df1ec6a07f40\" target=\"_top\" title=\"psysml:cfcc0fdc-4985-4a7c-8ed0-df1ec6a07f40\" xlink:actuate=\"onRequest\" xlink:href=\"psysml:cfcc0fdc-4985-4a7c-8ed0-df1ec6a07f40\" xlink:show=\"new\" xlink:title=\"psysml:cfcc0fdc-4985-4a7c-8ed0-df1ec6a07f40\" xlink:type=\"simple\"><rect fill=\"#FEFECE\" filter=\"url(#fuwit4akiwtdr)\" height=\"45.9375\" id=\"E2\" style=\"stroke: #A80036; stroke-width: 1.5;\" width=\"66\" x=\"497\" y=\"173\"/><text fill=\"#000000\" font-family=\"sans-serif\" font-size=\"12\" font-style=\"italic\" lengthAdjust=\"spacingAndGlyphs\" textLength=\"64\" x=\"498\" y=\"189.1387\">«part def»</text><text fill=\"#000000\" font-family=\"sans-serif\" font-size=\"12\" lengthAdjust=\"spacingAndGlyphs\" textLength=\"8\" x=\"526\" y=\"203.1074\">P</text><line style=\"stroke: #A80036; stroke-width: 1.5;\" x1=\"498\" x2=\"562\" y1=\"210.9375\" y2=\"210.9375\"/></a><!--MD5=[09b614a08d8cba4a07c9adeb5e0fee81]\n",
       "class E3--><a href=\"psysml:6504cd03-3352-435e-8e5a-44d60f096993\" target=\"_top\" title=\"psysml:6504cd03-3352-435e-8e5a-44d60f096993\" xlink:actuate=\"onRequest\" xlink:href=\"psysml:6504cd03-3352-435e-8e5a-44d60f096993\" xlink:show=\"new\" xlink:title=\"psysml:6504cd03-3352-435e-8e5a-44d60f096993\" xlink:type=\"simple\"><rect fill=\"#FEFECE\" filter=\"url(#fuwit4akiwtdr)\" height=\"45.9375\" id=\"E3\" rx=\"10\" ry=\"10\" style=\"stroke: #A80036; stroke-width: 1.5;\" width=\"71\" x=\"702.5\" y=\"54\"/><text fill=\"#000000\" font-family=\"sans-serif\" font-size=\"12\" font-style=\"italic\" lengthAdjust=\"spacingAndGlyphs\" textLength=\"69\" x=\"703.5\" y=\"70.1387\">«attribute»</text><text fill=\"#000000\" font-family=\"sans-serif\" font-size=\"12\" lengthAdjust=\"spacingAndGlyphs\" textLength=\"61\" x=\"707.5\" y=\"84.1074\">n: Integer</text><line style=\"stroke: #A80036; stroke-width: 1.5;\" x1=\"703.5\" x2=\"772.5\" y1=\"91.9375\" y2=\"91.9375\"/></a><!--MD5=[ebbe1d658d1005bcc118a6aa81145e00]\n",
       "class E4--><a href=\"psysml:69df1372-c4de-42e4-b97b-1df20a9e4637\" target=\"_top\" title=\"psysml:69df1372-c4de-42e4-b97b-1df20a9e4637\" xlink:actuate=\"onRequest\" xlink:href=\"psysml:69df1372-c4de-42e4-b97b-1df20a9e4637\" xlink:show=\"new\" xlink:title=\"psysml:69df1372-c4de-42e4-b97b-1df20a9e4637\" xlink:type=\"simple\"><rect fill=\"#FEFECE\" filter=\"url(#fuwit4akiwtdr)\" height=\"45.9375\" id=\"E4\" rx=\"10\" ry=\"10\" style=\"stroke: #A80036; stroke-width: 1.5;\" width=\"42\" x=\"625\" y=\"54\"/><text fill=\"#000000\" font-family=\"sans-serif\" font-size=\"12\" font-style=\"italic\" lengthAdjust=\"spacingAndGlyphs\" textLength=\"40\" x=\"626\" y=\"70.1387\">«part»</text><text fill=\"#000000\" font-family=\"sans-serif\" font-size=\"12\" lengthAdjust=\"spacingAndGlyphs\" textLength=\"8\" x=\"642\" y=\"84.1074\">a</text><line style=\"stroke: #A80036; stroke-width: 1.5;\" x1=\"626\" x2=\"666\" y1=\"91.9375\" y2=\"91.9375\"/></a><!--MD5=[270fce915f116d4de14055a7c1d9a0f3]\n",
       "class E5--><a href=\"psysml:ce135ed3-5db8-4159-aade-37d21406abf2\" target=\"_top\" title=\"psysml:ce135ed3-5db8-4159-aade-37d21406abf2\" xlink:actuate=\"onRequest\" xlink:href=\"psysml:ce135ed3-5db8-4159-aade-37d21406abf2\" xlink:show=\"new\" xlink:title=\"psysml:ce135ed3-5db8-4159-aade-37d21406abf2\" xlink:type=\"simple\"><rect fill=\"#FEFECE\" filter=\"url(#fuwit4akiwtdr)\" height=\"45.9375\" id=\"E5\" rx=\"10\" ry=\"10\" style=\"stroke: #A80036; stroke-width: 1.5;\" width=\"42\" x=\"548\" y=\"54\"/><text fill=\"#000000\" font-family=\"sans-serif\" font-size=\"12\" font-style=\"italic\" lengthAdjust=\"spacingAndGlyphs\" textLength=\"40\" x=\"549\" y=\"70.1387\">«part»</text><text fill=\"#000000\" font-family=\"sans-serif\" font-size=\"12\" lengthAdjust=\"spacingAndGlyphs\" textLength=\"24\" x=\"557\" y=\"84.1074\">b: P</text><line style=\"stroke: #A80036; stroke-width: 1.5;\" x1=\"549\" x2=\"589\" y1=\"91.9375\" y2=\"91.9375\"/></a><!--MD5=[60a26617385b1d2d0262a64233df1f8d]\n",
       "class E6--><a href=\"psysml:7c20260d-33cb-4904-8feb-6f2059c0b9de\" target=\"_top\" title=\"psysml:7c20260d-33cb-4904-8feb-6f2059c0b9de\" xlink:actuate=\"onRequest\" xlink:href=\"psysml:7c20260d-33cb-4904-8feb-6f2059c0b9de\" xlink:show=\"new\" xlink:title=\"psysml:7c20260d-33cb-4904-8feb-6f2059c0b9de\" xlink:type=\"simple\"><rect fill=\"#FEFECE\" filter=\"url(#fuwit4akiwtdr)\" height=\"45.9375\" id=\"E6\" rx=\"10\" ry=\"10\" style=\"stroke: #A80036; stroke-width: 1.5;\" width=\"42\" x=\"471\" y=\"54\"/><text fill=\"#000000\" font-family=\"sans-serif\" font-size=\"12\" font-style=\"italic\" lengthAdjust=\"spacingAndGlyphs\" textLength=\"40\" x=\"472\" y=\"70.1387\">«part»</text><text fill=\"#000000\" font-family=\"sans-serif\" font-size=\"12\" lengthAdjust=\"spacingAndGlyphs\" textLength=\"23\" x=\"480.5\" y=\"84.1074\">c: P</text><line style=\"stroke: #A80036; stroke-width: 1.5;\" x1=\"472\" x2=\"512\" y1=\"91.9375\" y2=\"91.9375\"/></a><!--MD5=[2156ba9850f5573cc1fc38a6a4b2f02b]\n",
       "class E7--><a href=\"psysml:a788bf26-d852-4daf-8a66-fd926f14abf3\" target=\"_top\" title=\"psysml:a788bf26-d852-4daf-8a66-fd926f14abf3\" xlink:actuate=\"onRequest\" xlink:href=\"psysml:a788bf26-d852-4daf-8a66-fd926f14abf3\" xlink:show=\"new\" xlink:title=\"psysml:a788bf26-d852-4daf-8a66-fd926f14abf3\" xlink:type=\"simple\"><rect fill=\"#FEFECE\" filter=\"url(#fuwit4akiwtdr)\" height=\"45.9375\" id=\"E7\" rx=\"10\" ry=\"10\" style=\"stroke: #A80036; stroke-width: 1.5;\" width=\"42\" x=\"394\" y=\"54\"/><text fill=\"#000000\" font-family=\"sans-serif\" font-size=\"12\" font-style=\"italic\" lengthAdjust=\"spacingAndGlyphs\" textLength=\"40\" x=\"395\" y=\"70.1387\">«part»</text><text fill=\"#000000\" font-family=\"sans-serif\" font-size=\"12\" lengthAdjust=\"spacingAndGlyphs\" textLength=\"8\" x=\"411\" y=\"84.1074\">d</text><line style=\"stroke: #A80036; stroke-width: 1.5;\" x1=\"395\" x2=\"435\" y1=\"91.9375\" y2=\"91.9375\"/></a><!--MD5=[b9389687b975829384b498ac4b7476b2]\n",
       "class E8--><a href=\"psysml:8ca44daa-798d-42ea-8082-fded64fdb257\" target=\"_top\" title=\"psysml:8ca44daa-798d-42ea-8082-fded64fdb257\" xlink:actuate=\"onRequest\" xlink:href=\"psysml:8ca44daa-798d-42ea-8082-fded64fdb257\" xlink:show=\"new\" xlink:title=\"psysml:8ca44daa-798d-42ea-8082-fded64fdb257\" xlink:type=\"simple\"><rect fill=\"#FEFECE\" filter=\"url(#fuwit4akiwtdr)\" height=\"45.9375\" id=\"E8\" rx=\"10\" ry=\"10\" style=\"stroke: #A80036; stroke-width: 1.5;\" width=\"42\" x=\"317\" y=\"54\"/><text fill=\"#000000\" font-family=\"sans-serif\" font-size=\"12\" font-style=\"italic\" lengthAdjust=\"spacingAndGlyphs\" textLength=\"40\" x=\"318\" y=\"70.1387\">«part»</text><text fill=\"#000000\" font-family=\"sans-serif\" font-size=\"12\" lengthAdjust=\"spacingAndGlyphs\" textLength=\"8\" x=\"334\" y=\"84.1074\">e</text><line style=\"stroke: #A80036; stroke-width: 1.5;\" x1=\"318\" x2=\"358\" y1=\"91.9375\" y2=\"91.9375\"/></a><!--MD5=[fd4143e9d270a159db93a4ea2a975926]\n",
       "class E9--><a href=\"psysml:94368454-840d-4091-abdb-e19ae5322c54\" target=\"_top\" title=\"psysml:94368454-840d-4091-abdb-e19ae5322c54\" xlink:actuate=\"onRequest\" xlink:href=\"psysml:94368454-840d-4091-abdb-e19ae5322c54\" xlink:show=\"new\" xlink:title=\"psysml:94368454-840d-4091-abdb-e19ae5322c54\" xlink:type=\"simple\"><rect fill=\"#FEFECE\" filter=\"url(#fuwit4akiwtdr)\" height=\"45.9375\" id=\"E9\" rx=\"10\" ry=\"10\" style=\"stroke: #A80036; stroke-width: 1.5;\" width=\"42\" x=\"240\" y=\"54\"/><text fill=\"#000000\" font-family=\"sans-serif\" font-size=\"12\" font-style=\"italic\" lengthAdjust=\"spacingAndGlyphs\" textLength=\"40\" x=\"241\" y=\"70.1387\">«part»</text><text fill=\"#000000\" font-family=\"sans-serif\" font-size=\"12\" lengthAdjust=\"spacingAndGlyphs\" textLength=\"4\" x=\"259\" y=\"84.1074\">f</text><line style=\"stroke: #A80036; stroke-width: 1.5;\" x1=\"241\" x2=\"281\" y1=\"91.9375\" y2=\"91.9375\"/></a><!--MD5=[96f4274e9e20536e775497830990834d]\n",
       "class E10--><a href=\"psysml:8f8b3cba-ab00-4478-b69f-246a2e072be5\" target=\"_top\" title=\"psysml:8f8b3cba-ab00-4478-b69f-246a2e072be5\" xlink:actuate=\"onRequest\" xlink:href=\"psysml:8f8b3cba-ab00-4478-b69f-246a2e072be5\" xlink:show=\"new\" xlink:title=\"psysml:8f8b3cba-ab00-4478-b69f-246a2e072be5\" xlink:type=\"simple\"><rect fill=\"#FEFECE\" filter=\"url(#fuwit4akiwtdr)\" height=\"45.9375\" id=\"E10\" rx=\"10\" ry=\"10\" style=\"stroke: #A80036; stroke-width: 1.5;\" width=\"42\" x=\"163\" y=\"54\"/><text fill=\"#000000\" font-family=\"sans-serif\" font-size=\"12\" font-style=\"italic\" lengthAdjust=\"spacingAndGlyphs\" textLength=\"40\" x=\"164\" y=\"70.1387\">«part»</text><text fill=\"#000000\" font-family=\"sans-serif\" font-size=\"12\" lengthAdjust=\"spacingAndGlyphs\" textLength=\"8\" x=\"180\" y=\"84.1074\">g</text><line style=\"stroke: #A80036; stroke-width: 1.5;\" x1=\"164\" x2=\"204\" y1=\"91.9375\" y2=\"91.9375\"/></a><!--MD5=[1dd1bfd58a279cf63c5f349dbc8fc6a1]\n",
       "class E11--><a href=\"psysml:2c45c451-c8b5-4e48-8592-55fa30d535c5\" target=\"_top\" title=\"psysml:2c45c451-c8b5-4e48-8592-55fa30d535c5\" xlink:actuate=\"onRequest\" xlink:href=\"psysml:2c45c451-c8b5-4e48-8592-55fa30d535c5\" xlink:show=\"new\" xlink:title=\"psysml:2c45c451-c8b5-4e48-8592-55fa30d535c5\" xlink:type=\"simple\"><rect fill=\"#FEFECE\" filter=\"url(#fuwit4akiwtdr)\" height=\"71.5469\" id=\"E11\" style=\"stroke: #A80036; stroke-width: 1.5;\" width=\"95\" x=\"32.5\" y=\"41\"/><text fill=\"#000000\" font-family=\"sans-serif\" font-size=\"12\" font-style=\"italic\" lengthAdjust=\"spacingAndGlyphs\" textLength=\"93\" x=\"33.5\" y=\"57.1387\">«attribute def»</text><text fill=\"#000000\" font-family=\"sans-serif\" font-size=\"12\" lengthAdjust=\"spacingAndGlyphs\" textLength=\"8\" x=\"76\" y=\"71.1074\">A</text><line style=\"stroke: #A80036; stroke-width: 1.5;\" x1=\"33.5\" x2=\"126.5\" y1=\"78.9375\" y2=\"78.9375\"/><text fill=\"#000000\" font-family=\"sans-serif\" font-size=\"11\" lengthAdjust=\"spacingAndGlyphs\" textLength=\"51\" x=\"38.5\" y=\"93.1479\">i: Integer</text><text fill=\"#000000\" font-family=\"sans-serif\" font-size=\"11\" lengthAdjust=\"spacingAndGlyphs\" textLength=\"21\" x=\"38.5\" y=\"105.9526\">x: A</text></a><!--MD5=[15ebcb19ae302d9b601edb458606d402]\n",
       "link E5 to E2--><a href=\"psysml:99c2055f-0301-4891-b65d-9e517e6365b1\" target=\"_top\" title=\"psysml:99c2055f-0301-4891-b65d-9e517e6365b1\" xlink:actuate=\"onRequest\" xlink:href=\"psysml:99c2055f-0301-4891-b65d-9e517e6365b1\" xlink:show=\"new\" xlink:title=\"psysml:99c2055f-0301-4891-b65d-9e517e6365b1\" xlink:type=\"simple\"><path d=\"M561.66,100.01 C556.63,115.11 549.8,135.61 543.76,153.71 \" fill=\"none\" id=\"E5-&gt;E2\" style=\"stroke: #A80036; stroke-width: 1.0;\"/><polygon fill=\"#FFFFFF\" points=\"537.44,172.69,536.7984,152.4517,550.082,156.8729,537.44,172.69\" style=\"stroke: #A80036; stroke-width: 1.0;\"/><ellipse cx=\"540.4961\" cy=\"147.675\" fill=\"#A80036\" rx=\"2\" ry=\"2\" style=\"stroke: #A80036; stroke-width: 1.0;\"/><ellipse cx=\"549.9844\" cy=\"150.833\" fill=\"#A80036\" rx=\"2\" ry=\"2\" style=\"stroke: #A80036; stroke-width: 1.0;\"/></a><!--MD5=[2351f337d6de0f557b50152ba70847b5]\n",
       "link E6 to E2--><a href=\"psysml:035f6493-28ba-4968-b761-0ab46a395f55\" target=\"_top\" title=\"psysml:035f6493-28ba-4968-b761-0ab46a395f55\" xlink:actuate=\"onRequest\" xlink:href=\"psysml:035f6493-28ba-4968-b761-0ab46a395f55\" xlink:show=\"new\" xlink:title=\"psysml:035f6493-28ba-4968-b761-0ab46a395f55\" xlink:type=\"simple\"><path d=\"M499.15,100.01 C504.03,115.03 510.64,135.39 516.49,153.41 \" fill=\"none\" id=\"E6-&gt;E2\" style=\"stroke: #A80036; stroke-width: 1.0;\"/><polygon fill=\"#FFFFFF\" points=\"522.76,172.69,510.2363,156.7791,523.5525,152.4571,522.76,172.69\" style=\"stroke: #A80036; stroke-width: 1.0;\"/><ellipse cx=\"510.379\" cy=\"150.74\" fill=\"#A80036\" rx=\"2\" ry=\"2\" style=\"stroke: #A80036; stroke-width: 1.0;\"/><ellipse cx=\"519.8905\" cy=\"147.6529\" fill=\"#A80036\" rx=\"2\" ry=\"2\" style=\"stroke: #A80036; stroke-width: 1.0;\"/></a><!--MD5=[d0f8f2eb079551b7398fed44cbada128]\n",
       "@startuml\r\n",
       "skinparam wrapWidth 300\r\n",
       "hide circle\r\n",
       "\r\n",
       "package \"MultiplicityTest\" as E1  [[psysml:d21f1d33-c8d8-4d7e-915c-a1dc21839292 ]]  {\r\n",
       "comp def \"P\" as E2  <<(T,blue) part def>> [[psysml:cfcc0fdc-4985-4a7c-8ed0-df1ec6a07f40 ]] {\r\n",
       "}\r\n",
       "comp usage \"n: Integer\" as E3  <<(T,blue) attribute>> [[psysml:6504cd03-3352-435e-8e5a-44d60f096993 ]] {\r\n",
       "}\r\n",
       "comp usage \"a\" as E4  <<(T,blue) part>> [[psysml:69df1372-c4de-42e4-b97b-1df20a9e4637 ]] {\r\n",
       "}\r\n",
       "comp usage \"b: P\" as E5  <<(T,blue) part>> [[psysml:ce135ed3-5db8-4159-aade-37d21406abf2 ]] {\r\n",
       "}\r\n",
       "comp usage \"c: P\" as E6  <<(T,blue) part>> [[psysml:7c20260d-33cb-4904-8feb-6f2059c0b9de ]] {\r\n",
       "}\r\n",
       "comp usage \"d\" as E7  <<(T,blue) part>> [[psysml:a788bf26-d852-4daf-8a66-fd926f14abf3 ]] {\r\n",
       "}\r\n",
       "comp usage \"e\" as E8  <<(T,blue) part>> [[psysml:8ca44daa-798d-42ea-8082-fded64fdb257 ]] {\r\n",
       "}\r\n",
       "comp usage \"f\" as E9  <<(T,blue) part>> [[psysml:94368454-840d-4091-abdb-e19ae5322c54 ]] {\r\n",
       "}\r\n",
       "comp usage \"g\" as E10  <<(T,blue) part>> [[psysml:8f8b3cba-ab00-4478-b69f-246a2e072be5 ]] {\r\n",
       "}\r\n",
       "comp def \"A\" as E11  <<(T,blue) attribute def>> [[psysml:2c45c451-c8b5-4e48-8592-55fa30d535c5 ]] {\r\n",
       "i: Integer\r\n",
       "x: A\r\n",
       "}\r\n",
       "E5 - -:|> E2 [[psysml:99c2055f-0301-4891-b65d-9e517e6365b1 ]] \r\n",
       "E6 - -:|> E2 [[psysml:035f6493-28ba-4968-b761-0ab46a395f55 ]] \r\n",
       "}\r\n",
       "@enduml\r\n",
       "\n",
       "PlantUML version 1.2020.13(Sat Jun 13 12:26:38 UTC 2020)\n",
       "(EPL source distribution)\n",
       "Java Runtime: OpenJDK Runtime Environment\n",
       "JVM: OpenJDK 64-Bit Server VM\n",
       "Default Encoding: UTF-8\n",
       "Language: en\n",
       "Country: null\n",
       "--></g></svg>"
      ]
     },
     "execution_count": 24,
     "metadata": {},
     "output_type": "execute_result"
    }
   ],
   "source": [
    "%viz --style=\"STDCOLOR\" --view=\"Tree\" \"MultiplicityTest\""
   ]
  },
  {
   "cell_type": "code",
   "execution_count": 25,
   "id": "10c91575",
   "metadata": {
    "execution": {
     "iopub.execute_input": "2021-06-30T09:24:31.832266Z",
     "iopub.status.busy": "2021-06-30T09:24:31.831805Z",
     "iopub.status.idle": "2021-06-30T09:24:31.838339Z",
     "shell.execute_reply": "2021-06-30T09:24:31.837676Z"
    }
   },
   "outputs": [
    {
     "data": {
      "image/svg+xml": [
       "<?xml version=\"1.0\" encoding=\"UTF-8\" standalone=\"no\"?><svg xmlns=\"http://www.w3.org/2000/svg\" xmlns:xlink=\"http://www.w3.org/1999/xlink\" contentScriptType=\"application/ecmascript\" contentStyleType=\"text/css\" height=\"12px\" preserveAspectRatio=\"none\" style=\"width:12px;height:12px;\" version=\"1.1\" viewBox=\"0 0 12 12\" width=\"12px\" zoomAndPan=\"magnify\"><defs/><g><!--MD5=[aeeef50f102b80d730deb6443d14f702]\n",
       "@startuml\r\n",
       "skinparam wrapWidth 300\r\n",
       "hide circle\r\n",
       "\r\n",
       "@enduml\r\n",
       "\n",
       "PlantUML version 1.2020.13(Sat Jun 13 12:26:38 UTC 2020)\n",
       "(EPL source distribution)\n",
       "Java Runtime: OpenJDK Runtime Environment\n",
       "JVM: OpenJDK 64-Bit Server VM\n",
       "Default Encoding: UTF-8\n",
       "Language: en\n",
       "Country: null\n",
       "--></g></svg>"
      ]
     },
     "execution_count": 25,
     "metadata": {},
     "output_type": "execute_result"
    }
   ],
   "source": [
    "%viz --style=\"STDCOLOR\" --view=\"State\" \"MultiplicityTest\""
   ]
  },
  {
   "cell_type": "code",
   "execution_count": 26,
   "id": "fb597d56",
   "metadata": {
    "execution": {
     "iopub.execute_input": "2021-06-30T09:24:31.888312Z",
     "iopub.status.busy": "2021-06-30T09:24:31.887960Z",
     "iopub.status.idle": "2021-06-30T09:24:31.920376Z",
     "shell.execute_reply": "2021-06-30T09:24:31.920054Z"
    }
   },
   "outputs": [
    {
     "data": {
      "image/svg+xml": [
       "<?xml version=\"1.0\" encoding=\"UTF-8\" standalone=\"no\"?><svg xmlns=\"http://www.w3.org/2000/svg\" xmlns:xlink=\"http://www.w3.org/1999/xlink\" contentScriptType=\"application/ecmascript\" contentStyleType=\"text/css\" height=\"115px\" preserveAspectRatio=\"none\" style=\"width:979px;height:115px;\" version=\"1.1\" viewBox=\"0 0 979 115\" width=\"979px\" zoomAndPan=\"magnify\"><defs><filter height=\"300%\" id=\"f4bhxuomn3l4r\" width=\"300%\" x=\"-1\" y=\"-1\"><feGaussianBlur result=\"blurOut\" stdDeviation=\"2.0\"/><feColorMatrix in=\"blurOut\" result=\"blurOut2\" type=\"matrix\" values=\"0 0 0 0 0 0 0 0 0 0 0 0 0 0 0 0 0 0 .4 0\"/><feOffset dx=\"4.0\" dy=\"4.0\" in=\"blurOut2\" result=\"blurOut3\"/><feBlend in=\"SourceGraphic\" in2=\"blurOut3\" mode=\"normal\"/></filter></defs><g><!--MD5=[fbc87193dbaf4d95561dea2c320d4a47]\n",
       "cluster E1--><a href=\"psysml:d21f1d33-c8d8-4d7e-915c-a1dc21839292\" target=\"_top\" title=\"psysml:d21f1d33-c8d8-4d7e-915c-a1dc21839292\" xlink:actuate=\"onRequest\" xlink:href=\"psysml:d21f1d33-c8d8-4d7e-915c-a1dc21839292\" xlink:show=\"new\" xlink:title=\"psysml:d21f1d33-c8d8-4d7e-915c-a1dc21839292\" xlink:type=\"simple\"><polygon fill=\"#FFFFFF\" filter=\"url(#f4bhxuomn3l4r)\" points=\"16,6,140,6,147,28.2969,957,28.2969,957,103,16,103,16,6\" style=\"stroke: #000000; stroke-width: 1.5;\"/><line style=\"stroke: #000000; stroke-width: 1.5;\" x1=\"16\" x2=\"147\" y1=\"28.2969\" y2=\"28.2969\"/><text fill=\"#000000\" font-family=\"sans-serif\" font-size=\"14\" font-weight=\"bold\" lengthAdjust=\"spacingAndGlyphs\" textLength=\"118\" x=\"20\" y=\"20.9951\">MultiplicityTest</text></a><!--MD5=[09b614a08d8cba4a07c9adeb5e0fee81]\n",
       "class E3--><a href=\"psysml:6504cd03-3352-435e-8e5a-44d60f096993\" target=\"_top\" title=\"psysml:6504cd03-3352-435e-8e5a-44d60f096993\" xlink:actuate=\"onRequest\" xlink:href=\"psysml:6504cd03-3352-435e-8e5a-44d60f096993\" xlink:show=\"new\" xlink:title=\"psysml:6504cd03-3352-435e-8e5a-44d60f096993\" xlink:type=\"simple\"><rect fill=\"#FEFECE\" filter=\"url(#f4bhxuomn3l4r)\" height=\"45.9375\" id=\"E3\" rx=\"10\" ry=\"10\" style=\"stroke: #A80036; stroke-width: 1.5;\" width=\"71\" x=\"869.5\" y=\"41\"/><text fill=\"#000000\" font-family=\"sans-serif\" font-size=\"12\" font-style=\"italic\" lengthAdjust=\"spacingAndGlyphs\" textLength=\"69\" x=\"870.5\" y=\"57.1387\">«attribute»</text><text fill=\"#000000\" font-family=\"sans-serif\" font-size=\"12\" lengthAdjust=\"spacingAndGlyphs\" textLength=\"61\" x=\"874.5\" y=\"71.1074\">n: Integer</text><line style=\"stroke: #A80036; stroke-width: 1.5;\" x1=\"870.5\" x2=\"939.5\" y1=\"78.9375\" y2=\"78.9375\"/></a><g id=\"E1.E11\"><a href=\"psysml:2c45c451-c8b5-4e48-8592-55fa30d535c5\" target=\"_top\" title=\"psysml:2c45c451-c8b5-4e48-8592-55fa30d535c5\" xlink:actuate=\"onRequest\" xlink:href=\"psysml:2c45c451-c8b5-4e48-8592-55fa30d535c5\" xlink:show=\"new\" xlink:title=\"psysml:2c45c451-c8b5-4e48-8592-55fa30d535c5\" xlink:type=\"simple\"><rect fill=\"#FEFECE\" filter=\"url(#f4bhxuomn3l4r)\" height=\"42.9375\" id=\"E11\" style=\"stroke: #A80036; stroke-width: 1.5;\" width=\"100\" x=\"734\" y=\"42.5\"/><text fill=\"#000000\" font-family=\"sans-serif\" font-size=\"12\" font-style=\"italic\" lengthAdjust=\"spacingAndGlyphs\" textLength=\"93\" x=\"737.5\" y=\"58.6387\">«attribute def»</text><text fill=\"#000000\" font-family=\"sans-serif\" font-size=\"12\" lengthAdjust=\"spacingAndGlyphs\" textLength=\"8\" x=\"780\" y=\"72.6074\">A</text></a></g><g id=\"E1.E2\"><a href=\"psysml:cfcc0fdc-4985-4a7c-8ed0-df1ec6a07f40\" target=\"_top\" title=\"psysml:cfcc0fdc-4985-4a7c-8ed0-df1ec6a07f40\" xlink:actuate=\"onRequest\" xlink:href=\"psysml:cfcc0fdc-4985-4a7c-8ed0-df1ec6a07f40\" xlink:show=\"new\" xlink:title=\"psysml:cfcc0fdc-4985-4a7c-8ed0-df1ec6a07f40\" xlink:type=\"simple\"><rect fill=\"#FEFECE\" filter=\"url(#f4bhxuomn3l4r)\" height=\"42.9375\" id=\"E2\" style=\"stroke: #A80036; stroke-width: 1.5;\" width=\"71\" x=\"627.5\" y=\"42.5\"/><text fill=\"#000000\" font-family=\"sans-serif\" font-size=\"12\" font-style=\"italic\" lengthAdjust=\"spacingAndGlyphs\" textLength=\"64\" x=\"631\" y=\"58.6387\">«part def»</text><text fill=\"#000000\" font-family=\"sans-serif\" font-size=\"12\" lengthAdjust=\"spacingAndGlyphs\" textLength=\"8\" x=\"659\" y=\"72.6074\">P</text></a></g><g id=\"E1.E4\"><a href=\"psysml:69df1372-c4de-42e4-b97b-1df20a9e4637\" target=\"_top\" title=\"psysml:69df1372-c4de-42e4-b97b-1df20a9e4637\" xlink:actuate=\"onRequest\" xlink:href=\"psysml:69df1372-c4de-42e4-b97b-1df20a9e4637\" xlink:show=\"new\" xlink:title=\"psysml:69df1372-c4de-42e4-b97b-1df20a9e4637\" xlink:type=\"simple\"><rect fill=\"#FEFECE\" filter=\"url(#f4bhxuomn3l4r)\" height=\"40\" id=\"E4\" rx=\"10\" ry=\"10\" style=\"stroke: #A80036; stroke-width: 1.5;\" width=\"50\" x=\"542\" y=\"44\"/><text fill=\"#000000\" font-family=\"sans-serif\" font-size=\"12\" lengthAdjust=\"spacingAndGlyphs\" textLength=\"8\" x=\"563\" y=\"60.1387\">a</text></a></g><g id=\"E1.E5\"><a href=\"psysml:ce135ed3-5db8-4159-aade-37d21406abf2\" target=\"_top\" title=\"psysml:ce135ed3-5db8-4159-aade-37d21406abf2\" xlink:actuate=\"onRequest\" xlink:href=\"psysml:ce135ed3-5db8-4159-aade-37d21406abf2\" xlink:show=\"new\" xlink:title=\"psysml:ce135ed3-5db8-4159-aade-37d21406abf2\" xlink:type=\"simple\"><rect fill=\"#FEFECE\" filter=\"url(#f4bhxuomn3l4r)\" height=\"40\" id=\"E5\" rx=\"10\" ry=\"10\" style=\"stroke: #A80036; stroke-width: 1.5;\" width=\"50\" x=\"457\" y=\"44\"/><text fill=\"#000000\" font-family=\"sans-serif\" font-size=\"12\" lengthAdjust=\"spacingAndGlyphs\" textLength=\"24\" x=\"470\" y=\"60.1387\">b: P</text></a></g><g id=\"E1.E6\"><a href=\"psysml:7c20260d-33cb-4904-8feb-6f2059c0b9de\" target=\"_top\" title=\"psysml:7c20260d-33cb-4904-8feb-6f2059c0b9de\" xlink:actuate=\"onRequest\" xlink:href=\"psysml:7c20260d-33cb-4904-8feb-6f2059c0b9de\" xlink:show=\"new\" xlink:title=\"psysml:7c20260d-33cb-4904-8feb-6f2059c0b9de\" xlink:type=\"simple\"><rect fill=\"#FEFECE\" filter=\"url(#f4bhxuomn3l4r)\" height=\"40\" id=\"E6\" rx=\"10\" ry=\"10\" style=\"stroke: #A80036; stroke-width: 1.5;\" width=\"50\" x=\"372\" y=\"44\"/><text fill=\"#000000\" font-family=\"sans-serif\" font-size=\"12\" lengthAdjust=\"spacingAndGlyphs\" textLength=\"23\" x=\"385.5\" y=\"60.1387\">c: P</text></a></g><g id=\"E1.E7\"><a href=\"psysml:a788bf26-d852-4daf-8a66-fd926f14abf3\" target=\"_top\" title=\"psysml:a788bf26-d852-4daf-8a66-fd926f14abf3\" xlink:actuate=\"onRequest\" xlink:href=\"psysml:a788bf26-d852-4daf-8a66-fd926f14abf3\" xlink:show=\"new\" xlink:title=\"psysml:a788bf26-d852-4daf-8a66-fd926f14abf3\" xlink:type=\"simple\"><rect fill=\"#FEFECE\" filter=\"url(#f4bhxuomn3l4r)\" height=\"40\" id=\"E7\" rx=\"10\" ry=\"10\" style=\"stroke: #A80036; stroke-width: 1.5;\" width=\"50\" x=\"287\" y=\"44\"/><text fill=\"#000000\" font-family=\"sans-serif\" font-size=\"12\" lengthAdjust=\"spacingAndGlyphs\" textLength=\"8\" x=\"308\" y=\"60.1387\">d</text></a></g><g id=\"E1.E8\"><a href=\"psysml:8ca44daa-798d-42ea-8082-fded64fdb257\" target=\"_top\" title=\"psysml:8ca44daa-798d-42ea-8082-fded64fdb257\" xlink:actuate=\"onRequest\" xlink:href=\"psysml:8ca44daa-798d-42ea-8082-fded64fdb257\" xlink:show=\"new\" xlink:title=\"psysml:8ca44daa-798d-42ea-8082-fded64fdb257\" xlink:type=\"simple\"><rect fill=\"#FEFECE\" filter=\"url(#f4bhxuomn3l4r)\" height=\"40\" id=\"E8\" rx=\"10\" ry=\"10\" style=\"stroke: #A80036; stroke-width: 1.5;\" width=\"50\" x=\"202\" y=\"44\"/><text fill=\"#000000\" font-family=\"sans-serif\" font-size=\"12\" lengthAdjust=\"spacingAndGlyphs\" textLength=\"8\" x=\"223\" y=\"60.1387\">e</text></a></g><g id=\"E1.E9\"><a href=\"psysml:94368454-840d-4091-abdb-e19ae5322c54\" target=\"_top\" title=\"psysml:94368454-840d-4091-abdb-e19ae5322c54\" xlink:actuate=\"onRequest\" xlink:href=\"psysml:94368454-840d-4091-abdb-e19ae5322c54\" xlink:show=\"new\" xlink:title=\"psysml:94368454-840d-4091-abdb-e19ae5322c54\" xlink:type=\"simple\"><rect fill=\"#FEFECE\" filter=\"url(#f4bhxuomn3l4r)\" height=\"40\" id=\"E9\" rx=\"10\" ry=\"10\" style=\"stroke: #A80036; stroke-width: 1.5;\" width=\"50\" x=\"117\" y=\"44\"/><text fill=\"#000000\" font-family=\"sans-serif\" font-size=\"12\" lengthAdjust=\"spacingAndGlyphs\" textLength=\"4\" x=\"140\" y=\"60.1387\">f</text></a></g><g id=\"E1.E10\"><a href=\"psysml:8f8b3cba-ab00-4478-b69f-246a2e072be5\" target=\"_top\" title=\"psysml:8f8b3cba-ab00-4478-b69f-246a2e072be5\" xlink:actuate=\"onRequest\" xlink:href=\"psysml:8f8b3cba-ab00-4478-b69f-246a2e072be5\" xlink:show=\"new\" xlink:title=\"psysml:8f8b3cba-ab00-4478-b69f-246a2e072be5\" xlink:type=\"simple\"><rect fill=\"#FEFECE\" filter=\"url(#f4bhxuomn3l4r)\" height=\"40\" id=\"E10\" rx=\"10\" ry=\"10\" style=\"stroke: #A80036; stroke-width: 1.5;\" width=\"50\" x=\"32\" y=\"44\"/><text fill=\"#000000\" font-family=\"sans-serif\" font-size=\"12\" lengthAdjust=\"spacingAndGlyphs\" textLength=\"8\" x=\"53\" y=\"60.1387\">g</text></a></g><!--MD5=[4fa5dd076fdddf20c01d56d70f9ec4e5]\n",
       "@startuml\r\n",
       "skinparam ranksep 10\r\n",
       "skinparam rectangle {\r\n",
       " backgroundColor<<block>> LightGreen\r\n",
       "}\r\n",
       "skinparam wrapWidth 300\r\n",
       "hide circle\r\n",
       "\r\n",
       "package \"MultiplicityTest\" as E1  [[psysml:d21f1d33-c8d8-4d7e-915c-a1dc21839292 ]]  {\r\n",
       "rec def \"P\" as E2  <<(T,blue) part def>> [[psysml:cfcc0fdc-4985-4a7c-8ed0-df1ec6a07f40 ]] {\r\n",
       "}\r\n",
       "comp usage \"n: Integer\" as E3  <<(T,blue) attribute>> [[psysml:6504cd03-3352-435e-8e5a-44d60f096993 ]] {\r\n",
       "}\r\n",
       "rec usage \"a\" as E4  [[psysml:69df1372-c4de-42e4-b97b-1df20a9e4637 ]] {\r\n",
       "}\r\n",
       "rec usage \"b: P\" as E5  [[psysml:ce135ed3-5db8-4159-aade-37d21406abf2 ]] {\r\n",
       "}\r\n",
       "rec usage \"c: P\" as E6  [[psysml:7c20260d-33cb-4904-8feb-6f2059c0b9de ]] {\r\n",
       "}\r\n",
       "rec usage \"d\" as E7  [[psysml:a788bf26-d852-4daf-8a66-fd926f14abf3 ]] {\r\n",
       "}\r\n",
       "rec usage \"e\" as E8  [[psysml:8ca44daa-798d-42ea-8082-fded64fdb257 ]] {\r\n",
       "}\r\n",
       "rec usage \"f\" as E9  [[psysml:94368454-840d-4091-abdb-e19ae5322c54 ]] {\r\n",
       "}\r\n",
       "rec usage \"g\" as E10  [[psysml:8f8b3cba-ab00-4478-b69f-246a2e072be5 ]] {\r\n",
       "}\r\n",
       "def \"A\" as E11  <<(T,blue) attribute def>> [[psysml:2c45c451-c8b5-4e48-8592-55fa30d535c5 ]] \r\n",
       "}\r\n",
       "@enduml\r\n",
       "\n",
       "PlantUML version 1.2020.13(Sat Jun 13 12:26:38 UTC 2020)\n",
       "(EPL source distribution)\n",
       "Java Runtime: OpenJDK Runtime Environment\n",
       "JVM: OpenJDK 64-Bit Server VM\n",
       "Default Encoding: UTF-8\n",
       "Language: en\n",
       "Country: null\n",
       "--></g></svg>"
      ]
     },
     "execution_count": 26,
     "metadata": {},
     "output_type": "execute_result"
    }
   ],
   "source": [
    "%viz --style=\"STDCOLOR\" --view=\"Interconnection\" \"MultiplicityTest\""
   ]
  },
  {
   "cell_type": "code",
   "execution_count": 27,
   "id": "ced489ea",
   "metadata": {
    "execution": {
     "iopub.execute_input": "2021-06-30T09:24:31.971356Z",
     "iopub.status.busy": "2021-06-30T09:24:31.970774Z",
     "iopub.status.idle": "2021-06-30T09:24:31.976310Z",
     "shell.execute_reply": "2021-06-30T09:24:31.975886Z"
    }
   },
   "outputs": [
    {
     "data": {
      "image/svg+xml": [
       "<?xml version=\"1.0\" encoding=\"UTF-8\" standalone=\"no\"?><svg xmlns=\"http://www.w3.org/2000/svg\" xmlns:xlink=\"http://www.w3.org/1999/xlink\" contentScriptType=\"application/ecmascript\" contentStyleType=\"text/css\" height=\"12px\" preserveAspectRatio=\"none\" style=\"width:12px;height:12px;\" version=\"1.1\" viewBox=\"0 0 12 12\" width=\"12px\" zoomAndPan=\"magnify\"><defs/><g><!--MD5=[9863325348a96a77dacc89509d8ee65e]\n",
       "@startuml\r\n",
       "skinparam ranksep 8\r\n",
       "skinparam wrapWidth 300\r\n",
       "hide circle\r\n",
       "\r\n",
       "@enduml\r\n",
       "\n",
       "PlantUML version 1.2020.13(Sat Jun 13 12:26:38 UTC 2020)\n",
       "(EPL source distribution)\n",
       "Java Runtime: OpenJDK Runtime Environment\n",
       "JVM: OpenJDK 64-Bit Server VM\n",
       "Default Encoding: UTF-8\n",
       "Language: en\n",
       "Country: null\n",
       "--></g></svg>"
      ]
     },
     "execution_count": 27,
     "metadata": {},
     "output_type": "execute_result"
    }
   ],
   "source": [
    "%viz --style=\"STDCOLOR\" --view=\"Action\" \"MultiplicityTest\""
   ]
  },
  {
   "cell_type": "code",
   "execution_count": 28,
   "id": "c4c8261b",
   "metadata": {
    "execution": {
     "iopub.execute_input": "2021-06-30T09:24:32.026667Z",
     "iopub.status.busy": "2021-06-30T09:24:32.026189Z",
     "iopub.status.idle": "2021-06-30T09:24:32.072037Z",
     "shell.execute_reply": "2021-06-30T09:24:32.070430Z"
    }
   },
   "outputs": [
    {
     "data": {
      "image/svg+xml": [
       "<?xml version=\"1.0\" encoding=\"UTF-8\" standalone=\"no\"?><svg xmlns=\"http://www.w3.org/2000/svg\" xmlns:xlink=\"http://www.w3.org/1999/xlink\" contentScriptType=\"application/ecmascript\" contentStyleType=\"text/css\" height=\"247px\" preserveAspectRatio=\"none\" style=\"width:812px;height:247px;\" version=\"1.1\" viewBox=\"0 0 812 247\" width=\"812px\" zoomAndPan=\"magnify\"><defs><filter height=\"300%\" id=\"fuwit4akiwtdr\" width=\"300%\" x=\"-1\" y=\"-1\"><feGaussianBlur result=\"blurOut\" stdDeviation=\"2.0\"/><feColorMatrix in=\"blurOut\" result=\"blurOut2\" type=\"matrix\" values=\"0 0 0 0 0 0 0 0 0 0 0 0 0 0 0 0 0 0 .4 0\"/><feOffset dx=\"4.0\" dy=\"4.0\" in=\"blurOut2\" result=\"blurOut3\"/><feBlend in=\"SourceGraphic\" in2=\"blurOut3\" mode=\"normal\"/></filter></defs><g><!--MD5=[fbc87193dbaf4d95561dea2c320d4a47]\n",
       "cluster E1--><a href=\"psysml:d21f1d33-c8d8-4d7e-915c-a1dc21839292\" target=\"_top\" title=\"psysml:d21f1d33-c8d8-4d7e-915c-a1dc21839292\" xlink:actuate=\"onRequest\" xlink:href=\"psysml:d21f1d33-c8d8-4d7e-915c-a1dc21839292\" xlink:show=\"new\" xlink:title=\"psysml:d21f1d33-c8d8-4d7e-915c-a1dc21839292\" xlink:type=\"simple\"><polygon fill=\"#FFFFFF\" filter=\"url(#fuwit4akiwtdr)\" points=\"16,6,140,6,147,28.2969,790,28.2969,790,235,16,235,16,6\" style=\"stroke: #000000; stroke-width: 1.5;\"/><line style=\"stroke: #000000; stroke-width: 1.5;\" x1=\"16\" x2=\"147\" y1=\"28.2969\" y2=\"28.2969\"/><text fill=\"#000000\" font-family=\"sans-serif\" font-size=\"14\" font-weight=\"bold\" lengthAdjust=\"spacingAndGlyphs\" textLength=\"118\" x=\"20\" y=\"20.9951\">MultiplicityTest</text></a><!--MD5=[b4997ac47864f28c2f74865a473b2911]\n",
       "class E2--><a href=\"psysml:cfcc0fdc-4985-4a7c-8ed0-df1ec6a07f40\" target=\"_top\" title=\"psysml:cfcc0fdc-4985-4a7c-8ed0-df1ec6a07f40\" xlink:actuate=\"onRequest\" xlink:href=\"psysml:cfcc0fdc-4985-4a7c-8ed0-df1ec6a07f40\" xlink:show=\"new\" xlink:title=\"psysml:cfcc0fdc-4985-4a7c-8ed0-df1ec6a07f40\" xlink:type=\"simple\"><rect fill=\"#FEFECE\" filter=\"url(#fuwit4akiwtdr)\" height=\"45.9375\" id=\"E2\" style=\"stroke: #A80036; stroke-width: 1.5;\" width=\"66\" x=\"497\" y=\"173\"/><text fill=\"#000000\" font-family=\"sans-serif\" font-size=\"12\" font-style=\"italic\" lengthAdjust=\"spacingAndGlyphs\" textLength=\"64\" x=\"498\" y=\"189.1387\">«part def»</text><text fill=\"#000000\" font-family=\"sans-serif\" font-size=\"12\" lengthAdjust=\"spacingAndGlyphs\" textLength=\"8\" x=\"526\" y=\"203.1074\">P</text><line style=\"stroke: #A80036; stroke-width: 1.5;\" x1=\"498\" x2=\"562\" y1=\"210.9375\" y2=\"210.9375\"/></a><!--MD5=[09b614a08d8cba4a07c9adeb5e0fee81]\n",
       "class E3--><a href=\"psysml:6504cd03-3352-435e-8e5a-44d60f096993\" target=\"_top\" title=\"psysml:6504cd03-3352-435e-8e5a-44d60f096993\" xlink:actuate=\"onRequest\" xlink:href=\"psysml:6504cd03-3352-435e-8e5a-44d60f096993\" xlink:show=\"new\" xlink:title=\"psysml:6504cd03-3352-435e-8e5a-44d60f096993\" xlink:type=\"simple\"><rect fill=\"#FEFECE\" filter=\"url(#fuwit4akiwtdr)\" height=\"45.9375\" id=\"E3\" rx=\"10\" ry=\"10\" style=\"stroke: #A80036; stroke-width: 1.5;\" width=\"71\" x=\"702.5\" y=\"54\"/><text fill=\"#000000\" font-family=\"sans-serif\" font-size=\"12\" font-style=\"italic\" lengthAdjust=\"spacingAndGlyphs\" textLength=\"69\" x=\"703.5\" y=\"70.1387\">«attribute»</text><text fill=\"#000000\" font-family=\"sans-serif\" font-size=\"12\" lengthAdjust=\"spacingAndGlyphs\" textLength=\"61\" x=\"707.5\" y=\"84.1074\">n: Integer</text><line style=\"stroke: #A80036; stroke-width: 1.5;\" x1=\"703.5\" x2=\"772.5\" y1=\"91.9375\" y2=\"91.9375\"/></a><!--MD5=[ebbe1d658d1005bcc118a6aa81145e00]\n",
       "class E4--><a href=\"psysml:69df1372-c4de-42e4-b97b-1df20a9e4637\" target=\"_top\" title=\"psysml:69df1372-c4de-42e4-b97b-1df20a9e4637\" xlink:actuate=\"onRequest\" xlink:href=\"psysml:69df1372-c4de-42e4-b97b-1df20a9e4637\" xlink:show=\"new\" xlink:title=\"psysml:69df1372-c4de-42e4-b97b-1df20a9e4637\" xlink:type=\"simple\"><rect fill=\"#FEFECE\" filter=\"url(#fuwit4akiwtdr)\" height=\"45.9375\" id=\"E4\" rx=\"10\" ry=\"10\" style=\"stroke: #A80036; stroke-width: 1.5;\" width=\"42\" x=\"625\" y=\"54\"/><text fill=\"#000000\" font-family=\"sans-serif\" font-size=\"12\" font-style=\"italic\" lengthAdjust=\"spacingAndGlyphs\" textLength=\"40\" x=\"626\" y=\"70.1387\">«part»</text><text fill=\"#000000\" font-family=\"sans-serif\" font-size=\"12\" lengthAdjust=\"spacingAndGlyphs\" textLength=\"8\" x=\"642\" y=\"84.1074\">a</text><line style=\"stroke: #A80036; stroke-width: 1.5;\" x1=\"626\" x2=\"666\" y1=\"91.9375\" y2=\"91.9375\"/></a><!--MD5=[270fce915f116d4de14055a7c1d9a0f3]\n",
       "class E5--><a href=\"psysml:ce135ed3-5db8-4159-aade-37d21406abf2\" target=\"_top\" title=\"psysml:ce135ed3-5db8-4159-aade-37d21406abf2\" xlink:actuate=\"onRequest\" xlink:href=\"psysml:ce135ed3-5db8-4159-aade-37d21406abf2\" xlink:show=\"new\" xlink:title=\"psysml:ce135ed3-5db8-4159-aade-37d21406abf2\" xlink:type=\"simple\"><rect fill=\"#FEFECE\" filter=\"url(#fuwit4akiwtdr)\" height=\"45.9375\" id=\"E5\" rx=\"10\" ry=\"10\" style=\"stroke: #A80036; stroke-width: 1.5;\" width=\"42\" x=\"548\" y=\"54\"/><text fill=\"#000000\" font-family=\"sans-serif\" font-size=\"12\" font-style=\"italic\" lengthAdjust=\"spacingAndGlyphs\" textLength=\"40\" x=\"549\" y=\"70.1387\">«part»</text><text fill=\"#000000\" font-family=\"sans-serif\" font-size=\"12\" lengthAdjust=\"spacingAndGlyphs\" textLength=\"24\" x=\"557\" y=\"84.1074\">b: P</text><line style=\"stroke: #A80036; stroke-width: 1.5;\" x1=\"549\" x2=\"589\" y1=\"91.9375\" y2=\"91.9375\"/></a><!--MD5=[60a26617385b1d2d0262a64233df1f8d]\n",
       "class E6--><a href=\"psysml:7c20260d-33cb-4904-8feb-6f2059c0b9de\" target=\"_top\" title=\"psysml:7c20260d-33cb-4904-8feb-6f2059c0b9de\" xlink:actuate=\"onRequest\" xlink:href=\"psysml:7c20260d-33cb-4904-8feb-6f2059c0b9de\" xlink:show=\"new\" xlink:title=\"psysml:7c20260d-33cb-4904-8feb-6f2059c0b9de\" xlink:type=\"simple\"><rect fill=\"#FEFECE\" filter=\"url(#fuwit4akiwtdr)\" height=\"45.9375\" id=\"E6\" rx=\"10\" ry=\"10\" style=\"stroke: #A80036; stroke-width: 1.5;\" width=\"42\" x=\"471\" y=\"54\"/><text fill=\"#000000\" font-family=\"sans-serif\" font-size=\"12\" font-style=\"italic\" lengthAdjust=\"spacingAndGlyphs\" textLength=\"40\" x=\"472\" y=\"70.1387\">«part»</text><text fill=\"#000000\" font-family=\"sans-serif\" font-size=\"12\" lengthAdjust=\"spacingAndGlyphs\" textLength=\"23\" x=\"480.5\" y=\"84.1074\">c: P</text><line style=\"stroke: #A80036; stroke-width: 1.5;\" x1=\"472\" x2=\"512\" y1=\"91.9375\" y2=\"91.9375\"/></a><!--MD5=[2156ba9850f5573cc1fc38a6a4b2f02b]\n",
       "class E7--><a href=\"psysml:a788bf26-d852-4daf-8a66-fd926f14abf3\" target=\"_top\" title=\"psysml:a788bf26-d852-4daf-8a66-fd926f14abf3\" xlink:actuate=\"onRequest\" xlink:href=\"psysml:a788bf26-d852-4daf-8a66-fd926f14abf3\" xlink:show=\"new\" xlink:title=\"psysml:a788bf26-d852-4daf-8a66-fd926f14abf3\" xlink:type=\"simple\"><rect fill=\"#FEFECE\" filter=\"url(#fuwit4akiwtdr)\" height=\"45.9375\" id=\"E7\" rx=\"10\" ry=\"10\" style=\"stroke: #A80036; stroke-width: 1.5;\" width=\"42\" x=\"394\" y=\"54\"/><text fill=\"#000000\" font-family=\"sans-serif\" font-size=\"12\" font-style=\"italic\" lengthAdjust=\"spacingAndGlyphs\" textLength=\"40\" x=\"395\" y=\"70.1387\">«part»</text><text fill=\"#000000\" font-family=\"sans-serif\" font-size=\"12\" lengthAdjust=\"spacingAndGlyphs\" textLength=\"8\" x=\"411\" y=\"84.1074\">d</text><line style=\"stroke: #A80036; stroke-width: 1.5;\" x1=\"395\" x2=\"435\" y1=\"91.9375\" y2=\"91.9375\"/></a><!--MD5=[b9389687b975829384b498ac4b7476b2]\n",
       "class E8--><a href=\"psysml:8ca44daa-798d-42ea-8082-fded64fdb257\" target=\"_top\" title=\"psysml:8ca44daa-798d-42ea-8082-fded64fdb257\" xlink:actuate=\"onRequest\" xlink:href=\"psysml:8ca44daa-798d-42ea-8082-fded64fdb257\" xlink:show=\"new\" xlink:title=\"psysml:8ca44daa-798d-42ea-8082-fded64fdb257\" xlink:type=\"simple\"><rect fill=\"#FEFECE\" filter=\"url(#fuwit4akiwtdr)\" height=\"45.9375\" id=\"E8\" rx=\"10\" ry=\"10\" style=\"stroke: #A80036; stroke-width: 1.5;\" width=\"42\" x=\"317\" y=\"54\"/><text fill=\"#000000\" font-family=\"sans-serif\" font-size=\"12\" font-style=\"italic\" lengthAdjust=\"spacingAndGlyphs\" textLength=\"40\" x=\"318\" y=\"70.1387\">«part»</text><text fill=\"#000000\" font-family=\"sans-serif\" font-size=\"12\" lengthAdjust=\"spacingAndGlyphs\" textLength=\"8\" x=\"334\" y=\"84.1074\">e</text><line style=\"stroke: #A80036; stroke-width: 1.5;\" x1=\"318\" x2=\"358\" y1=\"91.9375\" y2=\"91.9375\"/></a><!--MD5=[fd4143e9d270a159db93a4ea2a975926]\n",
       "class E9--><a href=\"psysml:94368454-840d-4091-abdb-e19ae5322c54\" target=\"_top\" title=\"psysml:94368454-840d-4091-abdb-e19ae5322c54\" xlink:actuate=\"onRequest\" xlink:href=\"psysml:94368454-840d-4091-abdb-e19ae5322c54\" xlink:show=\"new\" xlink:title=\"psysml:94368454-840d-4091-abdb-e19ae5322c54\" xlink:type=\"simple\"><rect fill=\"#FEFECE\" filter=\"url(#fuwit4akiwtdr)\" height=\"45.9375\" id=\"E9\" rx=\"10\" ry=\"10\" style=\"stroke: #A80036; stroke-width: 1.5;\" width=\"42\" x=\"240\" y=\"54\"/><text fill=\"#000000\" font-family=\"sans-serif\" font-size=\"12\" font-style=\"italic\" lengthAdjust=\"spacingAndGlyphs\" textLength=\"40\" x=\"241\" y=\"70.1387\">«part»</text><text fill=\"#000000\" font-family=\"sans-serif\" font-size=\"12\" lengthAdjust=\"spacingAndGlyphs\" textLength=\"4\" x=\"259\" y=\"84.1074\">f</text><line style=\"stroke: #A80036; stroke-width: 1.5;\" x1=\"241\" x2=\"281\" y1=\"91.9375\" y2=\"91.9375\"/></a><!--MD5=[96f4274e9e20536e775497830990834d]\n",
       "class E10--><a href=\"psysml:8f8b3cba-ab00-4478-b69f-246a2e072be5\" target=\"_top\" title=\"psysml:8f8b3cba-ab00-4478-b69f-246a2e072be5\" xlink:actuate=\"onRequest\" xlink:href=\"psysml:8f8b3cba-ab00-4478-b69f-246a2e072be5\" xlink:show=\"new\" xlink:title=\"psysml:8f8b3cba-ab00-4478-b69f-246a2e072be5\" xlink:type=\"simple\"><rect fill=\"#FEFECE\" filter=\"url(#fuwit4akiwtdr)\" height=\"45.9375\" id=\"E10\" rx=\"10\" ry=\"10\" style=\"stroke: #A80036; stroke-width: 1.5;\" width=\"42\" x=\"163\" y=\"54\"/><text fill=\"#000000\" font-family=\"sans-serif\" font-size=\"12\" font-style=\"italic\" lengthAdjust=\"spacingAndGlyphs\" textLength=\"40\" x=\"164\" y=\"70.1387\">«part»</text><text fill=\"#000000\" font-family=\"sans-serif\" font-size=\"12\" lengthAdjust=\"spacingAndGlyphs\" textLength=\"8\" x=\"180\" y=\"84.1074\">g</text><line style=\"stroke: #A80036; stroke-width: 1.5;\" x1=\"164\" x2=\"204\" y1=\"91.9375\" y2=\"91.9375\"/></a><!--MD5=[1dd1bfd58a279cf63c5f349dbc8fc6a1]\n",
       "class E11--><a href=\"psysml:2c45c451-c8b5-4e48-8592-55fa30d535c5\" target=\"_top\" title=\"psysml:2c45c451-c8b5-4e48-8592-55fa30d535c5\" xlink:actuate=\"onRequest\" xlink:href=\"psysml:2c45c451-c8b5-4e48-8592-55fa30d535c5\" xlink:show=\"new\" xlink:title=\"psysml:2c45c451-c8b5-4e48-8592-55fa30d535c5\" xlink:type=\"simple\"><rect fill=\"#FEFECE\" filter=\"url(#fuwit4akiwtdr)\" height=\"71.5469\" id=\"E11\" style=\"stroke: #A80036; stroke-width: 1.5;\" width=\"95\" x=\"32.5\" y=\"41\"/><text fill=\"#000000\" font-family=\"sans-serif\" font-size=\"12\" font-style=\"italic\" lengthAdjust=\"spacingAndGlyphs\" textLength=\"93\" x=\"33.5\" y=\"57.1387\">«attribute def»</text><text fill=\"#000000\" font-family=\"sans-serif\" font-size=\"12\" lengthAdjust=\"spacingAndGlyphs\" textLength=\"8\" x=\"76\" y=\"71.1074\">A</text><line style=\"stroke: #A80036; stroke-width: 1.5;\" x1=\"33.5\" x2=\"126.5\" y1=\"78.9375\" y2=\"78.9375\"/><text fill=\"#000000\" font-family=\"sans-serif\" font-size=\"11\" lengthAdjust=\"spacingAndGlyphs\" textLength=\"51\" x=\"38.5\" y=\"93.1479\">i: Integer</text><text fill=\"#000000\" font-family=\"sans-serif\" font-size=\"11\" lengthAdjust=\"spacingAndGlyphs\" textLength=\"21\" x=\"38.5\" y=\"105.9526\">x: A</text></a><!--MD5=[15ebcb19ae302d9b601edb458606d402]\n",
       "link E5 to E2--><a href=\"psysml:99c2055f-0301-4891-b65d-9e517e6365b1\" target=\"_top\" title=\"psysml:99c2055f-0301-4891-b65d-9e517e6365b1\" xlink:actuate=\"onRequest\" xlink:href=\"psysml:99c2055f-0301-4891-b65d-9e517e6365b1\" xlink:show=\"new\" xlink:title=\"psysml:99c2055f-0301-4891-b65d-9e517e6365b1\" xlink:type=\"simple\"><path d=\"M561.66,100.01 C556.63,115.11 549.8,135.61 543.76,153.71 \" fill=\"none\" id=\"E5-&gt;E2\" style=\"stroke: #A80036; stroke-width: 1.0;\"/><polygon fill=\"#FFFFFF\" points=\"537.44,172.69,536.7984,152.4517,550.082,156.8729,537.44,172.69\" style=\"stroke: #A80036; stroke-width: 1.0;\"/><ellipse cx=\"540.4961\" cy=\"147.675\" fill=\"#A80036\" rx=\"2\" ry=\"2\" style=\"stroke: #A80036; stroke-width: 1.0;\"/><ellipse cx=\"549.9844\" cy=\"150.833\" fill=\"#A80036\" rx=\"2\" ry=\"2\" style=\"stroke: #A80036; stroke-width: 1.0;\"/></a><!--MD5=[2351f337d6de0f557b50152ba70847b5]\n",
       "link E6 to E2--><a href=\"psysml:035f6493-28ba-4968-b761-0ab46a395f55\" target=\"_top\" title=\"psysml:035f6493-28ba-4968-b761-0ab46a395f55\" xlink:actuate=\"onRequest\" xlink:href=\"psysml:035f6493-28ba-4968-b761-0ab46a395f55\" xlink:show=\"new\" xlink:title=\"psysml:035f6493-28ba-4968-b761-0ab46a395f55\" xlink:type=\"simple\"><path d=\"M499.15,100.01 C504.03,115.03 510.64,135.39 516.49,153.41 \" fill=\"none\" id=\"E6-&gt;E2\" style=\"stroke: #A80036; stroke-width: 1.0;\"/><polygon fill=\"#FFFFFF\" points=\"522.76,172.69,510.2363,156.7791,523.5525,152.4571,522.76,172.69\" style=\"stroke: #A80036; stroke-width: 1.0;\"/><ellipse cx=\"510.379\" cy=\"150.74\" fill=\"#A80036\" rx=\"2\" ry=\"2\" style=\"stroke: #A80036; stroke-width: 1.0;\"/><ellipse cx=\"519.8905\" cy=\"147.6529\" fill=\"#A80036\" rx=\"2\" ry=\"2\" style=\"stroke: #A80036; stroke-width: 1.0;\"/></a><!--MD5=[d0f8f2eb079551b7398fed44cbada128]\n",
       "@startuml\r\n",
       "skinparam wrapWidth 300\r\n",
       "hide circle\r\n",
       "\r\n",
       "package \"MultiplicityTest\" as E1  [[psysml:d21f1d33-c8d8-4d7e-915c-a1dc21839292 ]]  {\r\n",
       "comp def \"P\" as E2  <<(T,blue) part def>> [[psysml:cfcc0fdc-4985-4a7c-8ed0-df1ec6a07f40 ]] {\r\n",
       "}\r\n",
       "comp usage \"n: Integer\" as E3  <<(T,blue) attribute>> [[psysml:6504cd03-3352-435e-8e5a-44d60f096993 ]] {\r\n",
       "}\r\n",
       "comp usage \"a\" as E4  <<(T,blue) part>> [[psysml:69df1372-c4de-42e4-b97b-1df20a9e4637 ]] {\r\n",
       "}\r\n",
       "comp usage \"b: P\" as E5  <<(T,blue) part>> [[psysml:ce135ed3-5db8-4159-aade-37d21406abf2 ]] {\r\n",
       "}\r\n",
       "comp usage \"c: P\" as E6  <<(T,blue) part>> [[psysml:7c20260d-33cb-4904-8feb-6f2059c0b9de ]] {\r\n",
       "}\r\n",
       "comp usage \"d\" as E7  <<(T,blue) part>> [[psysml:a788bf26-d852-4daf-8a66-fd926f14abf3 ]] {\r\n",
       "}\r\n",
       "comp usage \"e\" as E8  <<(T,blue) part>> [[psysml:8ca44daa-798d-42ea-8082-fded64fdb257 ]] {\r\n",
       "}\r\n",
       "comp usage \"f\" as E9  <<(T,blue) part>> [[psysml:94368454-840d-4091-abdb-e19ae5322c54 ]] {\r\n",
       "}\r\n",
       "comp usage \"g\" as E10  <<(T,blue) part>> [[psysml:8f8b3cba-ab00-4478-b69f-246a2e072be5 ]] {\r\n",
       "}\r\n",
       "comp def \"A\" as E11  <<(T,blue) attribute def>> [[psysml:2c45c451-c8b5-4e48-8592-55fa30d535c5 ]] {\r\n",
       "i: Integer\r\n",
       "x: A\r\n",
       "}\r\n",
       "E5 - -:|> E2 [[psysml:99c2055f-0301-4891-b65d-9e517e6365b1 ]] \r\n",
       "E6 - -:|> E2 [[psysml:035f6493-28ba-4968-b761-0ab46a395f55 ]] \r\n",
       "}\r\n",
       "@enduml\r\n",
       "\n",
       "PlantUML version 1.2020.13(Sat Jun 13 12:26:38 UTC 2020)\n",
       "(EPL source distribution)\n",
       "Java Runtime: OpenJDK Runtime Environment\n",
       "JVM: OpenJDK 64-Bit Server VM\n",
       "Default Encoding: UTF-8\n",
       "Language: en\n",
       "Country: null\n",
       "--></g></svg>"
      ]
     },
     "execution_count": 28,
     "metadata": {},
     "output_type": "execute_result"
    }
   ],
   "source": [
    "%viz --style=\"STDCOLOR\" --view=\"Sequence\" \"MultiplicityTest\""
   ]
  },
  {
   "cell_type": "code",
   "execution_count": 29,
   "id": "262d636f",
   "metadata": {
    "execution": {
     "iopub.execute_input": "2021-06-30T09:24:32.122196Z",
     "iopub.status.busy": "2021-06-30T09:24:32.121733Z",
     "iopub.status.idle": "2021-06-30T09:24:32.164272Z",
     "shell.execute_reply": "2021-06-30T09:24:32.163827Z"
    }
   },
   "outputs": [
    {
     "data": {
      "image/svg+xml": [
       "<?xml version=\"1.0\" encoding=\"UTF-8\" standalone=\"no\"?><svg xmlns=\"http://www.w3.org/2000/svg\" xmlns:xlink=\"http://www.w3.org/1999/xlink\" contentScriptType=\"application/ecmascript\" contentStyleType=\"text/css\" height=\"247px\" preserveAspectRatio=\"none\" style=\"width:812px;height:247px;\" version=\"1.1\" viewBox=\"0 0 812 247\" width=\"812px\" zoomAndPan=\"magnify\"><defs><filter height=\"300%\" id=\"fuwit4akiwtdr\" width=\"300%\" x=\"-1\" y=\"-1\"><feGaussianBlur result=\"blurOut\" stdDeviation=\"2.0\"/><feColorMatrix in=\"blurOut\" result=\"blurOut2\" type=\"matrix\" values=\"0 0 0 0 0 0 0 0 0 0 0 0 0 0 0 0 0 0 .4 0\"/><feOffset dx=\"4.0\" dy=\"4.0\" in=\"blurOut2\" result=\"blurOut3\"/><feBlend in=\"SourceGraphic\" in2=\"blurOut3\" mode=\"normal\"/></filter></defs><g><!--MD5=[fbc87193dbaf4d95561dea2c320d4a47]\n",
       "cluster E1--><a href=\"psysml:d21f1d33-c8d8-4d7e-915c-a1dc21839292\" target=\"_top\" title=\"psysml:d21f1d33-c8d8-4d7e-915c-a1dc21839292\" xlink:actuate=\"onRequest\" xlink:href=\"psysml:d21f1d33-c8d8-4d7e-915c-a1dc21839292\" xlink:show=\"new\" xlink:title=\"psysml:d21f1d33-c8d8-4d7e-915c-a1dc21839292\" xlink:type=\"simple\"><polygon fill=\"#FFFFFF\" filter=\"url(#fuwit4akiwtdr)\" points=\"16,6,140,6,147,28.2969,790,28.2969,790,235,16,235,16,6\" style=\"stroke: #000000; stroke-width: 1.5;\"/><line style=\"stroke: #000000; stroke-width: 1.5;\" x1=\"16\" x2=\"147\" y1=\"28.2969\" y2=\"28.2969\"/><text fill=\"#000000\" font-family=\"sans-serif\" font-size=\"14\" font-weight=\"bold\" lengthAdjust=\"spacingAndGlyphs\" textLength=\"118\" x=\"20\" y=\"20.9951\">MultiplicityTest</text></a><!--MD5=[b4997ac47864f28c2f74865a473b2911]\n",
       "class E2--><a href=\"psysml:cfcc0fdc-4985-4a7c-8ed0-df1ec6a07f40\" target=\"_top\" title=\"psysml:cfcc0fdc-4985-4a7c-8ed0-df1ec6a07f40\" xlink:actuate=\"onRequest\" xlink:href=\"psysml:cfcc0fdc-4985-4a7c-8ed0-df1ec6a07f40\" xlink:show=\"new\" xlink:title=\"psysml:cfcc0fdc-4985-4a7c-8ed0-df1ec6a07f40\" xlink:type=\"simple\"><rect fill=\"#FEFECE\" filter=\"url(#fuwit4akiwtdr)\" height=\"45.9375\" id=\"E2\" style=\"stroke: #A80036; stroke-width: 1.5;\" width=\"66\" x=\"497\" y=\"173\"/><text fill=\"#000000\" font-family=\"sans-serif\" font-size=\"12\" font-style=\"italic\" lengthAdjust=\"spacingAndGlyphs\" textLength=\"64\" x=\"498\" y=\"189.1387\">«part def»</text><text fill=\"#000000\" font-family=\"sans-serif\" font-size=\"12\" lengthAdjust=\"spacingAndGlyphs\" textLength=\"8\" x=\"526\" y=\"203.1074\">P</text><line style=\"stroke: #A80036; stroke-width: 1.5;\" x1=\"498\" x2=\"562\" y1=\"210.9375\" y2=\"210.9375\"/></a><!--MD5=[09b614a08d8cba4a07c9adeb5e0fee81]\n",
       "class E3--><a href=\"psysml:6504cd03-3352-435e-8e5a-44d60f096993\" target=\"_top\" title=\"psysml:6504cd03-3352-435e-8e5a-44d60f096993\" xlink:actuate=\"onRequest\" xlink:href=\"psysml:6504cd03-3352-435e-8e5a-44d60f096993\" xlink:show=\"new\" xlink:title=\"psysml:6504cd03-3352-435e-8e5a-44d60f096993\" xlink:type=\"simple\"><rect fill=\"#FEFECE\" filter=\"url(#fuwit4akiwtdr)\" height=\"45.9375\" id=\"E3\" rx=\"10\" ry=\"10\" style=\"stroke: #A80036; stroke-width: 1.5;\" width=\"71\" x=\"702.5\" y=\"54\"/><text fill=\"#000000\" font-family=\"sans-serif\" font-size=\"12\" font-style=\"italic\" lengthAdjust=\"spacingAndGlyphs\" textLength=\"69\" x=\"703.5\" y=\"70.1387\">«attribute»</text><text fill=\"#000000\" font-family=\"sans-serif\" font-size=\"12\" lengthAdjust=\"spacingAndGlyphs\" textLength=\"61\" x=\"707.5\" y=\"84.1074\">n: Integer</text><line style=\"stroke: #A80036; stroke-width: 1.5;\" x1=\"703.5\" x2=\"772.5\" y1=\"91.9375\" y2=\"91.9375\"/></a><!--MD5=[ebbe1d658d1005bcc118a6aa81145e00]\n",
       "class E4--><a href=\"psysml:69df1372-c4de-42e4-b97b-1df20a9e4637\" target=\"_top\" title=\"psysml:69df1372-c4de-42e4-b97b-1df20a9e4637\" xlink:actuate=\"onRequest\" xlink:href=\"psysml:69df1372-c4de-42e4-b97b-1df20a9e4637\" xlink:show=\"new\" xlink:title=\"psysml:69df1372-c4de-42e4-b97b-1df20a9e4637\" xlink:type=\"simple\"><rect fill=\"#FEFECE\" filter=\"url(#fuwit4akiwtdr)\" height=\"45.9375\" id=\"E4\" rx=\"10\" ry=\"10\" style=\"stroke: #A80036; stroke-width: 1.5;\" width=\"42\" x=\"625\" y=\"54\"/><text fill=\"#000000\" font-family=\"sans-serif\" font-size=\"12\" font-style=\"italic\" lengthAdjust=\"spacingAndGlyphs\" textLength=\"40\" x=\"626\" y=\"70.1387\">«part»</text><text fill=\"#000000\" font-family=\"sans-serif\" font-size=\"12\" lengthAdjust=\"spacingAndGlyphs\" textLength=\"8\" x=\"642\" y=\"84.1074\">a</text><line style=\"stroke: #A80036; stroke-width: 1.5;\" x1=\"626\" x2=\"666\" y1=\"91.9375\" y2=\"91.9375\"/></a><!--MD5=[270fce915f116d4de14055a7c1d9a0f3]\n",
       "class E5--><a href=\"psysml:ce135ed3-5db8-4159-aade-37d21406abf2\" target=\"_top\" title=\"psysml:ce135ed3-5db8-4159-aade-37d21406abf2\" xlink:actuate=\"onRequest\" xlink:href=\"psysml:ce135ed3-5db8-4159-aade-37d21406abf2\" xlink:show=\"new\" xlink:title=\"psysml:ce135ed3-5db8-4159-aade-37d21406abf2\" xlink:type=\"simple\"><rect fill=\"#FEFECE\" filter=\"url(#fuwit4akiwtdr)\" height=\"45.9375\" id=\"E5\" rx=\"10\" ry=\"10\" style=\"stroke: #A80036; stroke-width: 1.5;\" width=\"42\" x=\"548\" y=\"54\"/><text fill=\"#000000\" font-family=\"sans-serif\" font-size=\"12\" font-style=\"italic\" lengthAdjust=\"spacingAndGlyphs\" textLength=\"40\" x=\"549\" y=\"70.1387\">«part»</text><text fill=\"#000000\" font-family=\"sans-serif\" font-size=\"12\" lengthAdjust=\"spacingAndGlyphs\" textLength=\"24\" x=\"557\" y=\"84.1074\">b: P</text><line style=\"stroke: #A80036; stroke-width: 1.5;\" x1=\"549\" x2=\"589\" y1=\"91.9375\" y2=\"91.9375\"/></a><!--MD5=[60a26617385b1d2d0262a64233df1f8d]\n",
       "class E6--><a href=\"psysml:7c20260d-33cb-4904-8feb-6f2059c0b9de\" target=\"_top\" title=\"psysml:7c20260d-33cb-4904-8feb-6f2059c0b9de\" xlink:actuate=\"onRequest\" xlink:href=\"psysml:7c20260d-33cb-4904-8feb-6f2059c0b9de\" xlink:show=\"new\" xlink:title=\"psysml:7c20260d-33cb-4904-8feb-6f2059c0b9de\" xlink:type=\"simple\"><rect fill=\"#FEFECE\" filter=\"url(#fuwit4akiwtdr)\" height=\"45.9375\" id=\"E6\" rx=\"10\" ry=\"10\" style=\"stroke: #A80036; stroke-width: 1.5;\" width=\"42\" x=\"471\" y=\"54\"/><text fill=\"#000000\" font-family=\"sans-serif\" font-size=\"12\" font-style=\"italic\" lengthAdjust=\"spacingAndGlyphs\" textLength=\"40\" x=\"472\" y=\"70.1387\">«part»</text><text fill=\"#000000\" font-family=\"sans-serif\" font-size=\"12\" lengthAdjust=\"spacingAndGlyphs\" textLength=\"23\" x=\"480.5\" y=\"84.1074\">c: P</text><line style=\"stroke: #A80036; stroke-width: 1.5;\" x1=\"472\" x2=\"512\" y1=\"91.9375\" y2=\"91.9375\"/></a><!--MD5=[2156ba9850f5573cc1fc38a6a4b2f02b]\n",
       "class E7--><a href=\"psysml:a788bf26-d852-4daf-8a66-fd926f14abf3\" target=\"_top\" title=\"psysml:a788bf26-d852-4daf-8a66-fd926f14abf3\" xlink:actuate=\"onRequest\" xlink:href=\"psysml:a788bf26-d852-4daf-8a66-fd926f14abf3\" xlink:show=\"new\" xlink:title=\"psysml:a788bf26-d852-4daf-8a66-fd926f14abf3\" xlink:type=\"simple\"><rect fill=\"#FEFECE\" filter=\"url(#fuwit4akiwtdr)\" height=\"45.9375\" id=\"E7\" rx=\"10\" ry=\"10\" style=\"stroke: #A80036; stroke-width: 1.5;\" width=\"42\" x=\"394\" y=\"54\"/><text fill=\"#000000\" font-family=\"sans-serif\" font-size=\"12\" font-style=\"italic\" lengthAdjust=\"spacingAndGlyphs\" textLength=\"40\" x=\"395\" y=\"70.1387\">«part»</text><text fill=\"#000000\" font-family=\"sans-serif\" font-size=\"12\" lengthAdjust=\"spacingAndGlyphs\" textLength=\"8\" x=\"411\" y=\"84.1074\">d</text><line style=\"stroke: #A80036; stroke-width: 1.5;\" x1=\"395\" x2=\"435\" y1=\"91.9375\" y2=\"91.9375\"/></a><!--MD5=[b9389687b975829384b498ac4b7476b2]\n",
       "class E8--><a href=\"psysml:8ca44daa-798d-42ea-8082-fded64fdb257\" target=\"_top\" title=\"psysml:8ca44daa-798d-42ea-8082-fded64fdb257\" xlink:actuate=\"onRequest\" xlink:href=\"psysml:8ca44daa-798d-42ea-8082-fded64fdb257\" xlink:show=\"new\" xlink:title=\"psysml:8ca44daa-798d-42ea-8082-fded64fdb257\" xlink:type=\"simple\"><rect fill=\"#FEFECE\" filter=\"url(#fuwit4akiwtdr)\" height=\"45.9375\" id=\"E8\" rx=\"10\" ry=\"10\" style=\"stroke: #A80036; stroke-width: 1.5;\" width=\"42\" x=\"317\" y=\"54\"/><text fill=\"#000000\" font-family=\"sans-serif\" font-size=\"12\" font-style=\"italic\" lengthAdjust=\"spacingAndGlyphs\" textLength=\"40\" x=\"318\" y=\"70.1387\">«part»</text><text fill=\"#000000\" font-family=\"sans-serif\" font-size=\"12\" lengthAdjust=\"spacingAndGlyphs\" textLength=\"8\" x=\"334\" y=\"84.1074\">e</text><line style=\"stroke: #A80036; stroke-width: 1.5;\" x1=\"318\" x2=\"358\" y1=\"91.9375\" y2=\"91.9375\"/></a><!--MD5=[fd4143e9d270a159db93a4ea2a975926]\n",
       "class E9--><a href=\"psysml:94368454-840d-4091-abdb-e19ae5322c54\" target=\"_top\" title=\"psysml:94368454-840d-4091-abdb-e19ae5322c54\" xlink:actuate=\"onRequest\" xlink:href=\"psysml:94368454-840d-4091-abdb-e19ae5322c54\" xlink:show=\"new\" xlink:title=\"psysml:94368454-840d-4091-abdb-e19ae5322c54\" xlink:type=\"simple\"><rect fill=\"#FEFECE\" filter=\"url(#fuwit4akiwtdr)\" height=\"45.9375\" id=\"E9\" rx=\"10\" ry=\"10\" style=\"stroke: #A80036; stroke-width: 1.5;\" width=\"42\" x=\"240\" y=\"54\"/><text fill=\"#000000\" font-family=\"sans-serif\" font-size=\"12\" font-style=\"italic\" lengthAdjust=\"spacingAndGlyphs\" textLength=\"40\" x=\"241\" y=\"70.1387\">«part»</text><text fill=\"#000000\" font-family=\"sans-serif\" font-size=\"12\" lengthAdjust=\"spacingAndGlyphs\" textLength=\"4\" x=\"259\" y=\"84.1074\">f</text><line style=\"stroke: #A80036; stroke-width: 1.5;\" x1=\"241\" x2=\"281\" y1=\"91.9375\" y2=\"91.9375\"/></a><!--MD5=[96f4274e9e20536e775497830990834d]\n",
       "class E10--><a href=\"psysml:8f8b3cba-ab00-4478-b69f-246a2e072be5\" target=\"_top\" title=\"psysml:8f8b3cba-ab00-4478-b69f-246a2e072be5\" xlink:actuate=\"onRequest\" xlink:href=\"psysml:8f8b3cba-ab00-4478-b69f-246a2e072be5\" xlink:show=\"new\" xlink:title=\"psysml:8f8b3cba-ab00-4478-b69f-246a2e072be5\" xlink:type=\"simple\"><rect fill=\"#FEFECE\" filter=\"url(#fuwit4akiwtdr)\" height=\"45.9375\" id=\"E10\" rx=\"10\" ry=\"10\" style=\"stroke: #A80036; stroke-width: 1.5;\" width=\"42\" x=\"163\" y=\"54\"/><text fill=\"#000000\" font-family=\"sans-serif\" font-size=\"12\" font-style=\"italic\" lengthAdjust=\"spacingAndGlyphs\" textLength=\"40\" x=\"164\" y=\"70.1387\">«part»</text><text fill=\"#000000\" font-family=\"sans-serif\" font-size=\"12\" lengthAdjust=\"spacingAndGlyphs\" textLength=\"8\" x=\"180\" y=\"84.1074\">g</text><line style=\"stroke: #A80036; stroke-width: 1.5;\" x1=\"164\" x2=\"204\" y1=\"91.9375\" y2=\"91.9375\"/></a><!--MD5=[1dd1bfd58a279cf63c5f349dbc8fc6a1]\n",
       "class E11--><a href=\"psysml:2c45c451-c8b5-4e48-8592-55fa30d535c5\" target=\"_top\" title=\"psysml:2c45c451-c8b5-4e48-8592-55fa30d535c5\" xlink:actuate=\"onRequest\" xlink:href=\"psysml:2c45c451-c8b5-4e48-8592-55fa30d535c5\" xlink:show=\"new\" xlink:title=\"psysml:2c45c451-c8b5-4e48-8592-55fa30d535c5\" xlink:type=\"simple\"><rect fill=\"#FEFECE\" filter=\"url(#fuwit4akiwtdr)\" height=\"71.5469\" id=\"E11\" style=\"stroke: #A80036; stroke-width: 1.5;\" width=\"95\" x=\"32.5\" y=\"41\"/><text fill=\"#000000\" font-family=\"sans-serif\" font-size=\"12\" font-style=\"italic\" lengthAdjust=\"spacingAndGlyphs\" textLength=\"93\" x=\"33.5\" y=\"57.1387\">«attribute def»</text><text fill=\"#000000\" font-family=\"sans-serif\" font-size=\"12\" lengthAdjust=\"spacingAndGlyphs\" textLength=\"8\" x=\"76\" y=\"71.1074\">A</text><line style=\"stroke: #A80036; stroke-width: 1.5;\" x1=\"33.5\" x2=\"126.5\" y1=\"78.9375\" y2=\"78.9375\"/><text fill=\"#000000\" font-family=\"sans-serif\" font-size=\"11\" lengthAdjust=\"spacingAndGlyphs\" textLength=\"51\" x=\"38.5\" y=\"93.1479\">i: Integer</text><text fill=\"#000000\" font-family=\"sans-serif\" font-size=\"11\" lengthAdjust=\"spacingAndGlyphs\" textLength=\"21\" x=\"38.5\" y=\"105.9526\">x: A</text></a><!--MD5=[15ebcb19ae302d9b601edb458606d402]\n",
       "link E5 to E2--><a href=\"psysml:99c2055f-0301-4891-b65d-9e517e6365b1\" target=\"_top\" title=\"psysml:99c2055f-0301-4891-b65d-9e517e6365b1\" xlink:actuate=\"onRequest\" xlink:href=\"psysml:99c2055f-0301-4891-b65d-9e517e6365b1\" xlink:show=\"new\" xlink:title=\"psysml:99c2055f-0301-4891-b65d-9e517e6365b1\" xlink:type=\"simple\"><path d=\"M561.66,100.01 C556.63,115.11 549.8,135.61 543.76,153.71 \" fill=\"none\" id=\"E5-&gt;E2\" style=\"stroke: #A80036; stroke-width: 1.0;\"/><polygon fill=\"#FFFFFF\" points=\"537.44,172.69,536.7984,152.4517,550.082,156.8729,537.44,172.69\" style=\"stroke: #A80036; stroke-width: 1.0;\"/><ellipse cx=\"540.4961\" cy=\"147.675\" fill=\"#A80036\" rx=\"2\" ry=\"2\" style=\"stroke: #A80036; stroke-width: 1.0;\"/><ellipse cx=\"549.9844\" cy=\"150.833\" fill=\"#A80036\" rx=\"2\" ry=\"2\" style=\"stroke: #A80036; stroke-width: 1.0;\"/></a><!--MD5=[2351f337d6de0f557b50152ba70847b5]\n",
       "link E6 to E2--><a href=\"psysml:035f6493-28ba-4968-b761-0ab46a395f55\" target=\"_top\" title=\"psysml:035f6493-28ba-4968-b761-0ab46a395f55\" xlink:actuate=\"onRequest\" xlink:href=\"psysml:035f6493-28ba-4968-b761-0ab46a395f55\" xlink:show=\"new\" xlink:title=\"psysml:035f6493-28ba-4968-b761-0ab46a395f55\" xlink:type=\"simple\"><path d=\"M499.15,100.01 C504.03,115.03 510.64,135.39 516.49,153.41 \" fill=\"none\" id=\"E6-&gt;E2\" style=\"stroke: #A80036; stroke-width: 1.0;\"/><polygon fill=\"#FFFFFF\" points=\"522.76,172.69,510.2363,156.7791,523.5525,152.4571,522.76,172.69\" style=\"stroke: #A80036; stroke-width: 1.0;\"/><ellipse cx=\"510.379\" cy=\"150.74\" fill=\"#A80036\" rx=\"2\" ry=\"2\" style=\"stroke: #A80036; stroke-width: 1.0;\"/><ellipse cx=\"519.8905\" cy=\"147.6529\" fill=\"#A80036\" rx=\"2\" ry=\"2\" style=\"stroke: #A80036; stroke-width: 1.0;\"/></a><!--MD5=[d0f8f2eb079551b7398fed44cbada128]\n",
       "@startuml\r\n",
       "skinparam wrapWidth 300\r\n",
       "hide circle\r\n",
       "\r\n",
       "package \"MultiplicityTest\" as E1  [[psysml:d21f1d33-c8d8-4d7e-915c-a1dc21839292 ]]  {\r\n",
       "comp def \"P\" as E2  <<(T,blue) part def>> [[psysml:cfcc0fdc-4985-4a7c-8ed0-df1ec6a07f40 ]] {\r\n",
       "}\r\n",
       "comp usage \"n: Integer\" as E3  <<(T,blue) attribute>> [[psysml:6504cd03-3352-435e-8e5a-44d60f096993 ]] {\r\n",
       "}\r\n",
       "comp usage \"a\" as E4  <<(T,blue) part>> [[psysml:69df1372-c4de-42e4-b97b-1df20a9e4637 ]] {\r\n",
       "}\r\n",
       "comp usage \"b: P\" as E5  <<(T,blue) part>> [[psysml:ce135ed3-5db8-4159-aade-37d21406abf2 ]] {\r\n",
       "}\r\n",
       "comp usage \"c: P\" as E6  <<(T,blue) part>> [[psysml:7c20260d-33cb-4904-8feb-6f2059c0b9de ]] {\r\n",
       "}\r\n",
       "comp usage \"d\" as E7  <<(T,blue) part>> [[psysml:a788bf26-d852-4daf-8a66-fd926f14abf3 ]] {\r\n",
       "}\r\n",
       "comp usage \"e\" as E8  <<(T,blue) part>> [[psysml:8ca44daa-798d-42ea-8082-fded64fdb257 ]] {\r\n",
       "}\r\n",
       "comp usage \"f\" as E9  <<(T,blue) part>> [[psysml:94368454-840d-4091-abdb-e19ae5322c54 ]] {\r\n",
       "}\r\n",
       "comp usage \"g\" as E10  <<(T,blue) part>> [[psysml:8f8b3cba-ab00-4478-b69f-246a2e072be5 ]] {\r\n",
       "}\r\n",
       "comp def \"A\" as E11  <<(T,blue) attribute def>> [[psysml:2c45c451-c8b5-4e48-8592-55fa30d535c5 ]] {\r\n",
       "i: Integer\r\n",
       "x: A\r\n",
       "}\r\n",
       "E5 - -:|> E2 [[psysml:99c2055f-0301-4891-b65d-9e517e6365b1 ]] \r\n",
       "E6 - -:|> E2 [[psysml:035f6493-28ba-4968-b761-0ab46a395f55 ]] \r\n",
       "}\r\n",
       "@enduml\r\n",
       "\n",
       "PlantUML version 1.2020.13(Sat Jun 13 12:26:38 UTC 2020)\n",
       "(EPL source distribution)\n",
       "Java Runtime: OpenJDK Runtime Environment\n",
       "JVM: OpenJDK 64-Bit Server VM\n",
       "Default Encoding: UTF-8\n",
       "Language: en\n",
       "Country: null\n",
       "--></g></svg>"
      ]
     },
     "execution_count": 29,
     "metadata": {},
     "output_type": "execute_result"
    }
   ],
   "source": [
    "%viz --style=\"STDCOLOR\" --view=\"MIXED\" \"MultiplicityTest\""
   ]
  },
  {
   "cell_type": "code",
   "execution_count": 30,
   "id": "114e149d",
   "metadata": {
    "execution": {
     "iopub.execute_input": "2021-06-30T09:24:32.214351Z",
     "iopub.status.busy": "2021-06-30T09:24:32.213798Z",
     "iopub.status.idle": "2021-06-30T09:24:32.288708Z",
     "shell.execute_reply": "2021-06-30T09:24:32.286733Z"
    }
   },
   "outputs": [
    {
     "data": {
      "image/svg+xml": [
       "<?xml version=\"1.0\" encoding=\"UTF-8\" standalone=\"no\"?><svg xmlns=\"http://www.w3.org/2000/svg\" xmlns:xlink=\"http://www.w3.org/1999/xlink\" contentScriptType=\"application/ecmascript\" contentStyleType=\"text/css\" height=\"241px\" preserveAspectRatio=\"none\" style=\"width:1045px;height:241px;\" version=\"1.1\" viewBox=\"0 0 1045 241\" width=\"1045px\" zoomAndPan=\"magnify\"><defs><filter height=\"300%\" id=\"fgjk01w0r6uza\" width=\"300%\" x=\"-1\" y=\"-1\"><feGaussianBlur result=\"blurOut\" stdDeviation=\"2.0\"/><feColorMatrix in=\"blurOut\" result=\"blurOut2\" type=\"matrix\" values=\"0 0 0 0 0 0 0 0 0 0 0 0 0 0 0 0 0 0 .4 0\"/><feOffset dx=\"4.0\" dy=\"4.0\" in=\"blurOut2\" result=\"blurOut3\"/><feBlend in=\"SourceGraphic\" in2=\"blurOut3\" mode=\"normal\"/></filter></defs><g><!--MD5=[fbc87193dbaf4d95561dea2c320d4a47]\n",
       "cluster E1--><a href=\"psysml:d21f1d33-c8d8-4d7e-915c-a1dc21839292\" target=\"_top\" title=\"psysml:d21f1d33-c8d8-4d7e-915c-a1dc21839292\" xlink:actuate=\"onRequest\" xlink:href=\"psysml:d21f1d33-c8d8-4d7e-915c-a1dc21839292\" xlink:show=\"new\" xlink:title=\"psysml:d21f1d33-c8d8-4d7e-915c-a1dc21839292\" xlink:type=\"simple\"><polygon fill=\"#FFFFFF\" filter=\"url(#fgjk01w0r6uza)\" points=\"16,6,140,6,147,28.2969,1023,28.2969,1023,229,16,229,16,6\" style=\"stroke: #000000; stroke-width: 1.5;\"/><line style=\"stroke: #000000; stroke-width: 1.5;\" x1=\"16\" x2=\"147\" y1=\"28.2969\" y2=\"28.2969\"/><text fill=\"#000000\" font-family=\"sans-serif\" font-size=\"14\" font-weight=\"bold\" lengthAdjust=\"spacingAndGlyphs\" textLength=\"118\" x=\"20\" y=\"20.9951\">MultiplicityTest</text></a><!--MD5=[b4997ac47864f28c2f74865a473b2911]\n",
       "class E2--><a href=\"psysml:cfcc0fdc-4985-4a7c-8ed0-df1ec6a07f40\" target=\"_top\" title=\"psysml:cfcc0fdc-4985-4a7c-8ed0-df1ec6a07f40\" xlink:actuate=\"onRequest\" xlink:href=\"psysml:cfcc0fdc-4985-4a7c-8ed0-df1ec6a07f40\" xlink:show=\"new\" xlink:title=\"psysml:cfcc0fdc-4985-4a7c-8ed0-df1ec6a07f40\" xlink:type=\"simple\"><rect fill=\"#FEFECE\" filter=\"url(#fgjk01w0r6uza)\" height=\"40\" id=\"E2\" style=\"stroke: #A80036; stroke-width: 1.5;\" width=\"40\" x=\"666\" y=\"173\"/><ellipse cx=\"681\" cy=\"189\" fill=\"#008000\" rx=\"11\" ry=\"11\" style=\"stroke: #A80036; stroke-width: 1.0;\"/><path d=\"M679.9063,189.375 L679.9063,193.0469 L681.5313,193.0469 Q682.7031,193.0469 683.1719,192.6563 Q683.6406,192.25 683.6406,191.25 Q683.6406,190.25 683.1406,189.8125 Q682.6563,189.375 681.5313,189.375 L679.9063,189.375 Z M679.9063,184.5469 L679.9063,187.4219 L681.5313,187.4219 Q682.4531,187.4219 682.8438,187.0938 Q683.25,186.75 683.25,186 Q683.25,185.2344 682.8438,184.8906 Q682.4375,184.5469 681.5313,184.5469 L679.9063,184.5469 Z M677.5313,182.5938 L681.5313,182.5938 Q683.5938,182.5938 684.6406,183.375 Q685.6875,184.1563 685.6875,185.7188 Q685.6875,186.9219 685.0625,187.5938 Q684.4531,188.2656 683.2656,188.375 Q684.6875,188.5156 685.4063,189.3281 Q686.125,190.1406 686.125,191.5938 Q686.125,193.3906 685.0469,194.2031 Q683.9688,195 681.5313,195 L677.5313,195 L677.5313,182.5938 Z \"/><text fill=\"#000000\" font-family=\"sans-serif\" font-size=\"12\" lengthAdjust=\"spacingAndGlyphs\" textLength=\"8\" x=\"695\" y=\"193.1543\">P</text><line style=\"stroke: #A80036; stroke-width: 1.5;\" x1=\"667\" x2=\"705\" y1=\"205\" y2=\"205\"/></a><!--MD5=[09b614a08d8cba4a07c9adeb5e0fee81]\n",
       "class E3--><a href=\"psysml:6504cd03-3352-435e-8e5a-44d60f096993\" target=\"_top\" title=\"psysml:6504cd03-3352-435e-8e5a-44d60f096993\" xlink:actuate=\"onRequest\" xlink:href=\"psysml:6504cd03-3352-435e-8e5a-44d60f096993\" xlink:show=\"new\" xlink:title=\"psysml:6504cd03-3352-435e-8e5a-44d60f096993\" xlink:type=\"simple\"><rect fill=\"#FEFECE\" filter=\"url(#fgjk01w0r6uza)\" height=\"45.9375\" id=\"E3\" rx=\"10\" ry=\"10\" style=\"stroke: #A80036; stroke-width: 1.5;\" width=\"97\" x=\"910.5\" y=\"54\"/><ellipse cx=\"925.5\" cy=\"72.9688\" fill=\"#FFA500\" rx=\"11\" ry=\"11\" style=\"stroke: #A80036; stroke-width: 1.0;\"/><path d=\"M921.375,74.8906 L921.375,67.0781 L923.8281,67.0781 L923.8281,75.5156 Q923.8281,76.4375 924.2969,76.9688 Q924.7813,77.5 925.6094,77.5 Q926.4531,77.5 926.9219,76.9688 Q927.3906,76.4375 927.3906,75.5156 L927.3906,67.0781 L929.8438,67.0781 L929.8438,74.8906 Q929.8438,77.4219 928.8438,78.5625 Q927.8438,79.7031 925.6094,79.7031 Q923.3906,79.7031 922.375,78.5625 Q921.375,77.4219 921.375,74.8906 Z \"/><text fill=\"#000000\" font-family=\"sans-serif\" font-size=\"12\" font-style=\"italic\" lengthAdjust=\"spacingAndGlyphs\" textLength=\"69\" x=\"937.5\" y=\"70.1387\">«attribute»</text><text fill=\"#000000\" font-family=\"sans-serif\" font-size=\"12\" lengthAdjust=\"spacingAndGlyphs\" textLength=\"61\" x=\"941.5\" y=\"84.1074\">n: Integer</text><line style=\"stroke: #A80036; stroke-width: 1.5;\" x1=\"911.5\" x2=\"1006.5\" y1=\"91.9375\" y2=\"91.9375\"/></a><!--MD5=[ebbe1d658d1005bcc118a6aa81145e00]\n",
       "class E4--><a href=\"psysml:69df1372-c4de-42e4-b97b-1df20a9e4637\" target=\"_top\" title=\"psysml:69df1372-c4de-42e4-b97b-1df20a9e4637\" xlink:actuate=\"onRequest\" xlink:href=\"psysml:69df1372-c4de-42e4-b97b-1df20a9e4637\" xlink:show=\"new\" xlink:title=\"psysml:69df1372-c4de-42e4-b97b-1df20a9e4637\" xlink:type=\"simple\"><rect fill=\"#FEFECE\" filter=\"url(#fgjk01w0r6uza)\" height=\"45.9375\" id=\"E4\" rx=\"10\" ry=\"10\" style=\"stroke: #A80036; stroke-width: 1.5;\" width=\"68\" x=\"807\" y=\"54\"/><ellipse cx=\"822\" cy=\"72.9688\" fill=\"#32CD32\" rx=\"11\" ry=\"11\" style=\"stroke: #A80036; stroke-width: 1.0;\"/><path d=\"M821.7969,68.6406 L821.7969,72.2656 L822.7969,72.2656 Q824,72.2656 824.4844,71.8594 Q824.9688,71.4531 824.9688,70.4531 Q824.9688,69.4531 824.4844,69.0469 Q824,68.6406 822.7969,68.6406 L821.7969,68.6406 Z M819.3438,66.5781 L822.7031,66.5781 Q825.2656,66.5781 826.3906,67.5 Q827.5156,68.4063 827.5156,70.4531 Q827.5156,72.5 826.3906,73.4219 Q825.2656,74.3281 822.7031,74.3281 L821.7969,74.3281 L821.7969,78.9688 L819.3438,78.9688 L819.3438,66.5781 Z \"/><text fill=\"#000000\" font-family=\"sans-serif\" font-size=\"12\" font-style=\"italic\" lengthAdjust=\"spacingAndGlyphs\" textLength=\"40\" x=\"834\" y=\"70.1387\">«part»</text><text fill=\"#000000\" font-family=\"sans-serif\" font-size=\"12\" lengthAdjust=\"spacingAndGlyphs\" textLength=\"8\" x=\"850\" y=\"84.1074\">a</text><line style=\"stroke: #A80036; stroke-width: 1.5;\" x1=\"808\" x2=\"874\" y1=\"91.9375\" y2=\"91.9375\"/></a><!--MD5=[270fce915f116d4de14055a7c1d9a0f3]\n",
       "class E5--><a href=\"psysml:ce135ed3-5db8-4159-aade-37d21406abf2\" target=\"_top\" title=\"psysml:ce135ed3-5db8-4159-aade-37d21406abf2\" xlink:actuate=\"onRequest\" xlink:href=\"psysml:ce135ed3-5db8-4159-aade-37d21406abf2\" xlink:show=\"new\" xlink:title=\"psysml:ce135ed3-5db8-4159-aade-37d21406abf2\" xlink:type=\"simple\"><rect fill=\"#FEFECE\" filter=\"url(#fgjk01w0r6uza)\" height=\"45.9375\" id=\"E5\" rx=\"10\" ry=\"10\" style=\"stroke: #A80036; stroke-width: 1.5;\" width=\"68\" x=\"704\" y=\"54\"/><ellipse cx=\"719\" cy=\"72.9688\" fill=\"#32CD32\" rx=\"11\" ry=\"11\" style=\"stroke: #A80036; stroke-width: 1.0;\"/><path d=\"M718.7969,68.6406 L718.7969,72.2656 L719.7969,72.2656 Q721,72.2656 721.4844,71.8594 Q721.9688,71.4531 721.9688,70.4531 Q721.9688,69.4531 721.4844,69.0469 Q721,68.6406 719.7969,68.6406 L718.7969,68.6406 Z M716.3438,66.5781 L719.7031,66.5781 Q722.2656,66.5781 723.3906,67.5 Q724.5156,68.4063 724.5156,70.4531 Q724.5156,72.5 723.3906,73.4219 Q722.2656,74.3281 719.7031,74.3281 L718.7969,74.3281 L718.7969,78.9688 L716.3438,78.9688 L716.3438,66.5781 Z \"/><text fill=\"#000000\" font-family=\"sans-serif\" font-size=\"12\" font-style=\"italic\" lengthAdjust=\"spacingAndGlyphs\" textLength=\"40\" x=\"731\" y=\"70.1387\">«part»</text><text fill=\"#000000\" font-family=\"sans-serif\" font-size=\"12\" lengthAdjust=\"spacingAndGlyphs\" textLength=\"24\" x=\"739\" y=\"84.1074\">b: P</text><line style=\"stroke: #A80036; stroke-width: 1.5;\" x1=\"705\" x2=\"771\" y1=\"91.9375\" y2=\"91.9375\"/></a><!--MD5=[60a26617385b1d2d0262a64233df1f8d]\n",
       "class E6--><a href=\"psysml:7c20260d-33cb-4904-8feb-6f2059c0b9de\" target=\"_top\" title=\"psysml:7c20260d-33cb-4904-8feb-6f2059c0b9de\" xlink:actuate=\"onRequest\" xlink:href=\"psysml:7c20260d-33cb-4904-8feb-6f2059c0b9de\" xlink:show=\"new\" xlink:title=\"psysml:7c20260d-33cb-4904-8feb-6f2059c0b9de\" xlink:type=\"simple\"><rect fill=\"#FEFECE\" filter=\"url(#fgjk01w0r6uza)\" height=\"45.9375\" id=\"E6\" rx=\"10\" ry=\"10\" style=\"stroke: #A80036; stroke-width: 1.5;\" width=\"68\" x=\"601\" y=\"54\"/><ellipse cx=\"616\" cy=\"72.9688\" fill=\"#32CD32\" rx=\"11\" ry=\"11\" style=\"stroke: #A80036; stroke-width: 1.0;\"/><path d=\"M615.7969,68.6406 L615.7969,72.2656 L616.7969,72.2656 Q618,72.2656 618.4844,71.8594 Q618.9688,71.4531 618.9688,70.4531 Q618.9688,69.4531 618.4844,69.0469 Q618,68.6406 616.7969,68.6406 L615.7969,68.6406 Z M613.3438,66.5781 L616.7031,66.5781 Q619.2656,66.5781 620.3906,67.5 Q621.5156,68.4063 621.5156,70.4531 Q621.5156,72.5 620.3906,73.4219 Q619.2656,74.3281 616.7031,74.3281 L615.7969,74.3281 L615.7969,78.9688 L613.3438,78.9688 L613.3438,66.5781 Z \"/><text fill=\"#000000\" font-family=\"sans-serif\" font-size=\"12\" font-style=\"italic\" lengthAdjust=\"spacingAndGlyphs\" textLength=\"40\" x=\"628\" y=\"70.1387\">«part»</text><text fill=\"#000000\" font-family=\"sans-serif\" font-size=\"12\" lengthAdjust=\"spacingAndGlyphs\" textLength=\"23\" x=\"636.5\" y=\"84.1074\">c: P</text><line style=\"stroke: #A80036; stroke-width: 1.5;\" x1=\"602\" x2=\"668\" y1=\"91.9375\" y2=\"91.9375\"/></a><!--MD5=[2156ba9850f5573cc1fc38a6a4b2f02b]\n",
       "class E7--><a href=\"psysml:a788bf26-d852-4daf-8a66-fd926f14abf3\" target=\"_top\" title=\"psysml:a788bf26-d852-4daf-8a66-fd926f14abf3\" xlink:actuate=\"onRequest\" xlink:href=\"psysml:a788bf26-d852-4daf-8a66-fd926f14abf3\" xlink:show=\"new\" xlink:title=\"psysml:a788bf26-d852-4daf-8a66-fd926f14abf3\" xlink:type=\"simple\"><rect fill=\"#FEFECE\" filter=\"url(#fgjk01w0r6uza)\" height=\"45.9375\" id=\"E7\" rx=\"10\" ry=\"10\" style=\"stroke: #A80036; stroke-width: 1.5;\" width=\"68\" x=\"498\" y=\"54\"/><ellipse cx=\"513\" cy=\"72.9688\" fill=\"#32CD32\" rx=\"11\" ry=\"11\" style=\"stroke: #A80036; stroke-width: 1.0;\"/><path d=\"M512.7969,68.6406 L512.7969,72.2656 L513.7969,72.2656 Q515,72.2656 515.4844,71.8594 Q515.9688,71.4531 515.9688,70.4531 Q515.9688,69.4531 515.4844,69.0469 Q515,68.6406 513.7969,68.6406 L512.7969,68.6406 Z M510.3438,66.5781 L513.7031,66.5781 Q516.2656,66.5781 517.3906,67.5 Q518.5156,68.4063 518.5156,70.4531 Q518.5156,72.5 517.3906,73.4219 Q516.2656,74.3281 513.7031,74.3281 L512.7969,74.3281 L512.7969,78.9688 L510.3438,78.9688 L510.3438,66.5781 Z \"/><text fill=\"#000000\" font-family=\"sans-serif\" font-size=\"12\" font-style=\"italic\" lengthAdjust=\"spacingAndGlyphs\" textLength=\"40\" x=\"525\" y=\"70.1387\">«part»</text><text fill=\"#000000\" font-family=\"sans-serif\" font-size=\"12\" lengthAdjust=\"spacingAndGlyphs\" textLength=\"8\" x=\"541\" y=\"84.1074\">d</text><line style=\"stroke: #A80036; stroke-width: 1.5;\" x1=\"499\" x2=\"565\" y1=\"91.9375\" y2=\"91.9375\"/></a><!--MD5=[b9389687b975829384b498ac4b7476b2]\n",
       "class E8--><a href=\"psysml:8ca44daa-798d-42ea-8082-fded64fdb257\" target=\"_top\" title=\"psysml:8ca44daa-798d-42ea-8082-fded64fdb257\" xlink:actuate=\"onRequest\" xlink:href=\"psysml:8ca44daa-798d-42ea-8082-fded64fdb257\" xlink:show=\"new\" xlink:title=\"psysml:8ca44daa-798d-42ea-8082-fded64fdb257\" xlink:type=\"simple\"><rect fill=\"#FEFECE\" filter=\"url(#fgjk01w0r6uza)\" height=\"45.9375\" id=\"E8\" rx=\"10\" ry=\"10\" style=\"stroke: #A80036; stroke-width: 1.5;\" width=\"68\" x=\"395\" y=\"54\"/><ellipse cx=\"410\" cy=\"72.9688\" fill=\"#32CD32\" rx=\"11\" ry=\"11\" style=\"stroke: #A80036; stroke-width: 1.0;\"/><path d=\"M409.7969,68.6406 L409.7969,72.2656 L410.7969,72.2656 Q412,72.2656 412.4844,71.8594 Q412.9688,71.4531 412.9688,70.4531 Q412.9688,69.4531 412.4844,69.0469 Q412,68.6406 410.7969,68.6406 L409.7969,68.6406 Z M407.3438,66.5781 L410.7031,66.5781 Q413.2656,66.5781 414.3906,67.5 Q415.5156,68.4063 415.5156,70.4531 Q415.5156,72.5 414.3906,73.4219 Q413.2656,74.3281 410.7031,74.3281 L409.7969,74.3281 L409.7969,78.9688 L407.3438,78.9688 L407.3438,66.5781 Z \"/><text fill=\"#000000\" font-family=\"sans-serif\" font-size=\"12\" font-style=\"italic\" lengthAdjust=\"spacingAndGlyphs\" textLength=\"40\" x=\"422\" y=\"70.1387\">«part»</text><text fill=\"#000000\" font-family=\"sans-serif\" font-size=\"12\" lengthAdjust=\"spacingAndGlyphs\" textLength=\"8\" x=\"438\" y=\"84.1074\">e</text><line style=\"stroke: #A80036; stroke-width: 1.5;\" x1=\"396\" x2=\"462\" y1=\"91.9375\" y2=\"91.9375\"/></a><!--MD5=[fd4143e9d270a159db93a4ea2a975926]\n",
       "class E9--><a href=\"psysml:94368454-840d-4091-abdb-e19ae5322c54\" target=\"_top\" title=\"psysml:94368454-840d-4091-abdb-e19ae5322c54\" xlink:actuate=\"onRequest\" xlink:href=\"psysml:94368454-840d-4091-abdb-e19ae5322c54\" xlink:show=\"new\" xlink:title=\"psysml:94368454-840d-4091-abdb-e19ae5322c54\" xlink:type=\"simple\"><rect fill=\"#FEFECE\" filter=\"url(#fgjk01w0r6uza)\" height=\"45.9375\" id=\"E9\" rx=\"10\" ry=\"10\" style=\"stroke: #A80036; stroke-width: 1.5;\" width=\"68\" x=\"292\" y=\"54\"/><ellipse cx=\"307\" cy=\"72.9688\" fill=\"#32CD32\" rx=\"11\" ry=\"11\" style=\"stroke: #A80036; stroke-width: 1.0;\"/><path d=\"M306.7969,68.6406 L306.7969,72.2656 L307.7969,72.2656 Q309,72.2656 309.4844,71.8594 Q309.9688,71.4531 309.9688,70.4531 Q309.9688,69.4531 309.4844,69.0469 Q309,68.6406 307.7969,68.6406 L306.7969,68.6406 Z M304.3438,66.5781 L307.7031,66.5781 Q310.2656,66.5781 311.3906,67.5 Q312.5156,68.4063 312.5156,70.4531 Q312.5156,72.5 311.3906,73.4219 Q310.2656,74.3281 307.7031,74.3281 L306.7969,74.3281 L306.7969,78.9688 L304.3438,78.9688 L304.3438,66.5781 Z \"/><text fill=\"#000000\" font-family=\"sans-serif\" font-size=\"12\" font-style=\"italic\" lengthAdjust=\"spacingAndGlyphs\" textLength=\"40\" x=\"319\" y=\"70.1387\">«part»</text><text fill=\"#000000\" font-family=\"sans-serif\" font-size=\"12\" lengthAdjust=\"spacingAndGlyphs\" textLength=\"4\" x=\"337\" y=\"84.1074\">f</text><line style=\"stroke: #A80036; stroke-width: 1.5;\" x1=\"293\" x2=\"359\" y1=\"91.9375\" y2=\"91.9375\"/></a><!--MD5=[96f4274e9e20536e775497830990834d]\n",
       "class E10--><a href=\"psysml:8f8b3cba-ab00-4478-b69f-246a2e072be5\" target=\"_top\" title=\"psysml:8f8b3cba-ab00-4478-b69f-246a2e072be5\" xlink:actuate=\"onRequest\" xlink:href=\"psysml:8f8b3cba-ab00-4478-b69f-246a2e072be5\" xlink:show=\"new\" xlink:title=\"psysml:8f8b3cba-ab00-4478-b69f-246a2e072be5\" xlink:type=\"simple\"><rect fill=\"#FEFECE\" filter=\"url(#fgjk01w0r6uza)\" height=\"45.9375\" id=\"E10\" rx=\"10\" ry=\"10\" style=\"stroke: #A80036; stroke-width: 1.5;\" width=\"68\" x=\"189\" y=\"54\"/><ellipse cx=\"204\" cy=\"72.9688\" fill=\"#32CD32\" rx=\"11\" ry=\"11\" style=\"stroke: #A80036; stroke-width: 1.0;\"/><path d=\"M203.7969,68.6406 L203.7969,72.2656 L204.7969,72.2656 Q206,72.2656 206.4844,71.8594 Q206.9688,71.4531 206.9688,70.4531 Q206.9688,69.4531 206.4844,69.0469 Q206,68.6406 204.7969,68.6406 L203.7969,68.6406 Z M201.3438,66.5781 L204.7031,66.5781 Q207.2656,66.5781 208.3906,67.5 Q209.5156,68.4063 209.5156,70.4531 Q209.5156,72.5 208.3906,73.4219 Q207.2656,74.3281 204.7031,74.3281 L203.7969,74.3281 L203.7969,78.9688 L201.3438,78.9688 L201.3438,66.5781 Z \"/><text fill=\"#000000\" font-family=\"sans-serif\" font-size=\"12\" font-style=\"italic\" lengthAdjust=\"spacingAndGlyphs\" textLength=\"40\" x=\"216\" y=\"70.1387\">«part»</text><text fill=\"#000000\" font-family=\"sans-serif\" font-size=\"12\" lengthAdjust=\"spacingAndGlyphs\" textLength=\"8\" x=\"232\" y=\"84.1074\">g</text><line style=\"stroke: #A80036; stroke-width: 1.5;\" x1=\"190\" x2=\"256\" y1=\"91.9375\" y2=\"91.9375\"/></a><!--MD5=[1dd1bfd58a279cf63c5f349dbc8fc6a1]\n",
       "class E11--><a href=\"psysml:2c45c451-c8b5-4e48-8592-55fa30d535c5\" target=\"_top\" title=\"psysml:2c45c451-c8b5-4e48-8592-55fa30d535c5\" xlink:actuate=\"onRequest\" xlink:href=\"psysml:2c45c451-c8b5-4e48-8592-55fa30d535c5\" xlink:show=\"new\" xlink:title=\"psysml:2c45c451-c8b5-4e48-8592-55fa30d535c5\" xlink:type=\"simple\"><rect fill=\"#FEFECE\" filter=\"url(#fgjk01w0r6uza)\" height=\"71.5469\" id=\"E11\" style=\"stroke: #A80036; stroke-width: 1.5;\" width=\"121\" x=\"32.5\" y=\"41\"/><ellipse cx=\"47.5\" cy=\"59.9688\" fill=\"#A52A2A\" rx=\"11\" ry=\"11\" style=\"stroke: #A80036; stroke-width: 1.0;\"/><path d=\"M47.0938,55.7813 L47.0938,63.7656 L47.75,63.7656 Q49.1875,63.7656 49.7969,62.8594 Q50.4219,61.9375 50.4219,59.7656 Q50.4219,57.5938 49.7969,56.6875 Q49.1875,55.7813 47.75,55.7813 L47.0938,55.7813 Z M44.6406,53.5781 L47.2656,53.5781 Q50.2969,53.5781 51.625,55.0313 Q52.9688,56.4688 52.9688,59.7656 Q52.9688,63.0625 51.625,64.5156 Q50.2969,65.9688 47.2656,65.9688 L44.6406,65.9688 L44.6406,53.5781 Z \"/><text fill=\"#000000\" font-family=\"sans-serif\" font-size=\"12\" font-style=\"italic\" lengthAdjust=\"spacingAndGlyphs\" textLength=\"93\" x=\"59.5\" y=\"57.1387\">«attribute def»</text><text fill=\"#000000\" font-family=\"sans-serif\" font-size=\"12\" lengthAdjust=\"spacingAndGlyphs\" textLength=\"8\" x=\"102\" y=\"71.1074\">A</text><line style=\"stroke: #A80036; stroke-width: 1.5;\" x1=\"33.5\" x2=\"152.5\" y1=\"78.9375\" y2=\"78.9375\"/><text fill=\"#000000\" font-family=\"sans-serif\" font-size=\"11\" lengthAdjust=\"spacingAndGlyphs\" textLength=\"51\" x=\"38.5\" y=\"93.1479\">i: Integer</text><text fill=\"#000000\" font-family=\"sans-serif\" font-size=\"11\" lengthAdjust=\"spacingAndGlyphs\" textLength=\"21\" x=\"38.5\" y=\"105.9526\">x: A</text></a><!--MD5=[15ebcb19ae302d9b601edb458606d402]\n",
       "link E5 to E2--><a href=\"psysml:99c2055f-0301-4891-b65d-9e517e6365b1\" target=\"_top\" title=\"psysml:99c2055f-0301-4891-b65d-9e517e6365b1\" xlink:actuate=\"onRequest\" xlink:href=\"psysml:99c2055f-0301-4891-b65d-9e517e6365b1\" xlink:show=\"new\" xlink:title=\"psysml:99c2055f-0301-4891-b65d-9e517e6365b1\" xlink:type=\"simple\"><path d=\"M727.85,100.25 C720.81,115.68 711.27,136.61 703.07,154.58 \" fill=\"none\" id=\"E5-&gt;E2\" style=\"stroke: #A80036; stroke-width: 1.0;\"/><polygon fill=\"#FFFFFF\" points=\"694.74,172.84,696.2548,152.6483,708.9927,158.4573,694.74,172.84\" style=\"stroke: #A80036; stroke-width: 1.0;\"/><ellipse cx=\"700.4396\" cy=\"148.292\" fill=\"#A80036\" rx=\"2\" ry=\"2\" style=\"stroke: #A80036; stroke-width: 1.0;\"/><ellipse cx=\"709.5381\" cy=\"152.4413\" fill=\"#A80036\" rx=\"2\" ry=\"2\" style=\"stroke: #A80036; stroke-width: 1.0;\"/></a><!--MD5=[2351f337d6de0f557b50152ba70847b5]\n",
       "link E6 to E2--><a href=\"psysml:035f6493-28ba-4968-b761-0ab46a395f55\" target=\"_top\" title=\"psysml:035f6493-28ba-4968-b761-0ab46a395f55\" xlink:actuate=\"onRequest\" xlink:href=\"psysml:035f6493-28ba-4968-b761-0ab46a395f55\" xlink:show=\"new\" xlink:title=\"psysml:035f6493-28ba-4968-b761-0ab46a395f55\" xlink:type=\"simple\"><path d=\"M644.95,100.25 C651.86,115.68 661.22,136.61 669.26,154.58 \" fill=\"none\" id=\"E6-&gt;E2\" style=\"stroke: #A80036; stroke-width: 1.0;\"/><polygon fill=\"#FFFFFF\" points=\"677.43,172.84,663.2788,158.3574,676.0573,152.6381,677.43,172.84\" style=\"stroke: #A80036; stroke-width: 1.0;\"/><ellipse cx=\"662.7757\" cy=\"152.3377\" fill=\"#A80036\" rx=\"2\" ry=\"2\" style=\"stroke: #A80036; stroke-width: 1.0;\"/><ellipse cx=\"671.9032\" cy=\"148.2525\" fill=\"#A80036\" rx=\"2\" ry=\"2\" style=\"stroke: #A80036; stroke-width: 1.0;\"/></a><!--MD5=[87b0454f3c157444a722d78779101a7e]\n",
       "@startuml\r\n",
       " \r\n",
       "package \"MultiplicityTest\" as E1  [[psysml:d21f1d33-c8d8-4d7e-915c-a1dc21839292 ]]  {\r\n",
       "comp def \"P\" as E2 << << (B,green) >> [[psysml:cfcc0fdc-4985-4a7c-8ed0-df1ec6a07f40 ]] {\r\n",
       "}\r\n",
       "comp usage \"n: Integer\" as E3 << <<(U,orange) attribute>> [[psysml:6504cd03-3352-435e-8e5a-44d60f096993 ]] {\r\n",
       "}\r\n",
       "comp usage \"a\" as E4 << << (P,limegreen) part>> [[psysml:69df1372-c4de-42e4-b97b-1df20a9e4637 ]] {\r\n",
       "}\r\n",
       "comp usage \"b: P\" as E5 << << (P,limegreen) part>> [[psysml:ce135ed3-5db8-4159-aade-37d21406abf2 ]] {\r\n",
       "}\r\n",
       "comp usage \"c: P\" as E6 << << (P,limegreen) part>> [[psysml:7c20260d-33cb-4904-8feb-6f2059c0b9de ]] {\r\n",
       "}\r\n",
       "comp usage \"d\" as E7 << << (P,limegreen) part>> [[psysml:a788bf26-d852-4daf-8a66-fd926f14abf3 ]] {\r\n",
       "}\r\n",
       "comp usage \"e\" as E8 << << (P,limegreen) part>> [[psysml:8ca44daa-798d-42ea-8082-fded64fdb257 ]] {\r\n",
       "}\r\n",
       "comp usage \"f\" as E9 << << (P,limegreen) part>> [[psysml:94368454-840d-4091-abdb-e19ae5322c54 ]] {\r\n",
       "}\r\n",
       "comp usage \"g\" as E10 << << (P,limegreen) part>> [[psysml:8f8b3cba-ab00-4478-b69f-246a2e072be5 ]] {\r\n",
       "}\r\n",
       "comp def \"A\" as E11 << <<(D,brown) attribute def>> [[psysml:2c45c451-c8b5-4e48-8592-55fa30d535c5 ]] {\r\n",
       "i: Integer\r\n",
       "x: A\r\n",
       "}\r\n",
       "E5 - -:|> E2 [[psysml:99c2055f-0301-4891-b65d-9e517e6365b1 ]] \r\n",
       "E6 - -:|> E2 [[psysml:035f6493-28ba-4968-b761-0ab46a395f55 ]] \r\n",
       "}\r\n",
       "@enduml\r\n",
       "\n",
       "PlantUML version 1.2020.13(Sat Jun 13 12:26:38 UTC 2020)\n",
       "(EPL source distribution)\n",
       "Java Runtime: OpenJDK Runtime Environment\n",
       "JVM: OpenJDK 64-Bit Server VM\n",
       "Default Encoding: UTF-8\n",
       "Language: en\n",
       "Country: null\n",
       "--></g></svg>"
      ]
     },
     "execution_count": 30,
     "metadata": {},
     "output_type": "execute_result"
    }
   ],
   "source": [
    "%viz --style=\"PLANTUML\" --view=\"Default\" \"MultiplicityTest\""
   ]
  },
  {
   "cell_type": "code",
   "execution_count": 31,
   "id": "40397afb",
   "metadata": {
    "execution": {
     "iopub.execute_input": "2021-06-30T09:24:32.340199Z",
     "iopub.status.busy": "2021-06-30T09:24:32.339463Z",
     "iopub.status.idle": "2021-06-30T09:24:32.392094Z",
     "shell.execute_reply": "2021-06-30T09:24:32.390460Z"
    }
   },
   "outputs": [
    {
     "data": {
      "image/svg+xml": [
       "<?xml version=\"1.0\" encoding=\"UTF-8\" standalone=\"no\"?><svg xmlns=\"http://www.w3.org/2000/svg\" xmlns:xlink=\"http://www.w3.org/1999/xlink\" contentScriptType=\"application/ecmascript\" contentStyleType=\"text/css\" height=\"241px\" preserveAspectRatio=\"none\" style=\"width:1045px;height:241px;\" version=\"1.1\" viewBox=\"0 0 1045 241\" width=\"1045px\" zoomAndPan=\"magnify\"><defs><filter height=\"300%\" id=\"fgjk01w0r6uza\" width=\"300%\" x=\"-1\" y=\"-1\"><feGaussianBlur result=\"blurOut\" stdDeviation=\"2.0\"/><feColorMatrix in=\"blurOut\" result=\"blurOut2\" type=\"matrix\" values=\"0 0 0 0 0 0 0 0 0 0 0 0 0 0 0 0 0 0 .4 0\"/><feOffset dx=\"4.0\" dy=\"4.0\" in=\"blurOut2\" result=\"blurOut3\"/><feBlend in=\"SourceGraphic\" in2=\"blurOut3\" mode=\"normal\"/></filter></defs><g><!--MD5=[fbc87193dbaf4d95561dea2c320d4a47]\n",
       "cluster E1--><a href=\"psysml:d21f1d33-c8d8-4d7e-915c-a1dc21839292\" target=\"_top\" title=\"psysml:d21f1d33-c8d8-4d7e-915c-a1dc21839292\" xlink:actuate=\"onRequest\" xlink:href=\"psysml:d21f1d33-c8d8-4d7e-915c-a1dc21839292\" xlink:show=\"new\" xlink:title=\"psysml:d21f1d33-c8d8-4d7e-915c-a1dc21839292\" xlink:type=\"simple\"><polygon fill=\"#FFFFFF\" filter=\"url(#fgjk01w0r6uza)\" points=\"16,6,140,6,147,28.2969,1023,28.2969,1023,229,16,229,16,6\" style=\"stroke: #000000; stroke-width: 1.5;\"/><line style=\"stroke: #000000; stroke-width: 1.5;\" x1=\"16\" x2=\"147\" y1=\"28.2969\" y2=\"28.2969\"/><text fill=\"#000000\" font-family=\"sans-serif\" font-size=\"14\" font-weight=\"bold\" lengthAdjust=\"spacingAndGlyphs\" textLength=\"118\" x=\"20\" y=\"20.9951\">MultiplicityTest</text></a><!--MD5=[b4997ac47864f28c2f74865a473b2911]\n",
       "class E2--><a href=\"psysml:cfcc0fdc-4985-4a7c-8ed0-df1ec6a07f40\" target=\"_top\" title=\"psysml:cfcc0fdc-4985-4a7c-8ed0-df1ec6a07f40\" xlink:actuate=\"onRequest\" xlink:href=\"psysml:cfcc0fdc-4985-4a7c-8ed0-df1ec6a07f40\" xlink:show=\"new\" xlink:title=\"psysml:cfcc0fdc-4985-4a7c-8ed0-df1ec6a07f40\" xlink:type=\"simple\"><rect fill=\"#FEFECE\" filter=\"url(#fgjk01w0r6uza)\" height=\"40\" id=\"E2\" style=\"stroke: #A80036; stroke-width: 1.5;\" width=\"40\" x=\"666\" y=\"173\"/><ellipse cx=\"681\" cy=\"189\" fill=\"#008000\" rx=\"11\" ry=\"11\" style=\"stroke: #A80036; stroke-width: 1.0;\"/><path d=\"M679.9063,189.375 L679.9063,193.0469 L681.5313,193.0469 Q682.7031,193.0469 683.1719,192.6563 Q683.6406,192.25 683.6406,191.25 Q683.6406,190.25 683.1406,189.8125 Q682.6563,189.375 681.5313,189.375 L679.9063,189.375 Z M679.9063,184.5469 L679.9063,187.4219 L681.5313,187.4219 Q682.4531,187.4219 682.8438,187.0938 Q683.25,186.75 683.25,186 Q683.25,185.2344 682.8438,184.8906 Q682.4375,184.5469 681.5313,184.5469 L679.9063,184.5469 Z M677.5313,182.5938 L681.5313,182.5938 Q683.5938,182.5938 684.6406,183.375 Q685.6875,184.1563 685.6875,185.7188 Q685.6875,186.9219 685.0625,187.5938 Q684.4531,188.2656 683.2656,188.375 Q684.6875,188.5156 685.4063,189.3281 Q686.125,190.1406 686.125,191.5938 Q686.125,193.3906 685.0469,194.2031 Q683.9688,195 681.5313,195 L677.5313,195 L677.5313,182.5938 Z \"/><text fill=\"#000000\" font-family=\"sans-serif\" font-size=\"12\" lengthAdjust=\"spacingAndGlyphs\" textLength=\"8\" x=\"695\" y=\"193.1543\">P</text><line style=\"stroke: #A80036; stroke-width: 1.5;\" x1=\"667\" x2=\"705\" y1=\"205\" y2=\"205\"/></a><!--MD5=[09b614a08d8cba4a07c9adeb5e0fee81]\n",
       "class E3--><a href=\"psysml:6504cd03-3352-435e-8e5a-44d60f096993\" target=\"_top\" title=\"psysml:6504cd03-3352-435e-8e5a-44d60f096993\" xlink:actuate=\"onRequest\" xlink:href=\"psysml:6504cd03-3352-435e-8e5a-44d60f096993\" xlink:show=\"new\" xlink:title=\"psysml:6504cd03-3352-435e-8e5a-44d60f096993\" xlink:type=\"simple\"><rect fill=\"#FEFECE\" filter=\"url(#fgjk01w0r6uza)\" height=\"45.9375\" id=\"E3\" rx=\"10\" ry=\"10\" style=\"stroke: #A80036; stroke-width: 1.5;\" width=\"97\" x=\"910.5\" y=\"54\"/><ellipse cx=\"925.5\" cy=\"72.9688\" fill=\"#FFA500\" rx=\"11\" ry=\"11\" style=\"stroke: #A80036; stroke-width: 1.0;\"/><path d=\"M921.375,74.8906 L921.375,67.0781 L923.8281,67.0781 L923.8281,75.5156 Q923.8281,76.4375 924.2969,76.9688 Q924.7813,77.5 925.6094,77.5 Q926.4531,77.5 926.9219,76.9688 Q927.3906,76.4375 927.3906,75.5156 L927.3906,67.0781 L929.8438,67.0781 L929.8438,74.8906 Q929.8438,77.4219 928.8438,78.5625 Q927.8438,79.7031 925.6094,79.7031 Q923.3906,79.7031 922.375,78.5625 Q921.375,77.4219 921.375,74.8906 Z \"/><text fill=\"#000000\" font-family=\"sans-serif\" font-size=\"12\" font-style=\"italic\" lengthAdjust=\"spacingAndGlyphs\" textLength=\"69\" x=\"937.5\" y=\"70.1387\">«attribute»</text><text fill=\"#000000\" font-family=\"sans-serif\" font-size=\"12\" lengthAdjust=\"spacingAndGlyphs\" textLength=\"61\" x=\"941.5\" y=\"84.1074\">n: Integer</text><line style=\"stroke: #A80036; stroke-width: 1.5;\" x1=\"911.5\" x2=\"1006.5\" y1=\"91.9375\" y2=\"91.9375\"/></a><!--MD5=[ebbe1d658d1005bcc118a6aa81145e00]\n",
       "class E4--><a href=\"psysml:69df1372-c4de-42e4-b97b-1df20a9e4637\" target=\"_top\" title=\"psysml:69df1372-c4de-42e4-b97b-1df20a9e4637\" xlink:actuate=\"onRequest\" xlink:href=\"psysml:69df1372-c4de-42e4-b97b-1df20a9e4637\" xlink:show=\"new\" xlink:title=\"psysml:69df1372-c4de-42e4-b97b-1df20a9e4637\" xlink:type=\"simple\"><rect fill=\"#FEFECE\" filter=\"url(#fgjk01w0r6uza)\" height=\"45.9375\" id=\"E4\" rx=\"10\" ry=\"10\" style=\"stroke: #A80036; stroke-width: 1.5;\" width=\"68\" x=\"807\" y=\"54\"/><ellipse cx=\"822\" cy=\"72.9688\" fill=\"#32CD32\" rx=\"11\" ry=\"11\" style=\"stroke: #A80036; stroke-width: 1.0;\"/><path d=\"M821.7969,68.6406 L821.7969,72.2656 L822.7969,72.2656 Q824,72.2656 824.4844,71.8594 Q824.9688,71.4531 824.9688,70.4531 Q824.9688,69.4531 824.4844,69.0469 Q824,68.6406 822.7969,68.6406 L821.7969,68.6406 Z M819.3438,66.5781 L822.7031,66.5781 Q825.2656,66.5781 826.3906,67.5 Q827.5156,68.4063 827.5156,70.4531 Q827.5156,72.5 826.3906,73.4219 Q825.2656,74.3281 822.7031,74.3281 L821.7969,74.3281 L821.7969,78.9688 L819.3438,78.9688 L819.3438,66.5781 Z \"/><text fill=\"#000000\" font-family=\"sans-serif\" font-size=\"12\" font-style=\"italic\" lengthAdjust=\"spacingAndGlyphs\" textLength=\"40\" x=\"834\" y=\"70.1387\">«part»</text><text fill=\"#000000\" font-family=\"sans-serif\" font-size=\"12\" lengthAdjust=\"spacingAndGlyphs\" textLength=\"8\" x=\"850\" y=\"84.1074\">a</text><line style=\"stroke: #A80036; stroke-width: 1.5;\" x1=\"808\" x2=\"874\" y1=\"91.9375\" y2=\"91.9375\"/></a><!--MD5=[270fce915f116d4de14055a7c1d9a0f3]\n",
       "class E5--><a href=\"psysml:ce135ed3-5db8-4159-aade-37d21406abf2\" target=\"_top\" title=\"psysml:ce135ed3-5db8-4159-aade-37d21406abf2\" xlink:actuate=\"onRequest\" xlink:href=\"psysml:ce135ed3-5db8-4159-aade-37d21406abf2\" xlink:show=\"new\" xlink:title=\"psysml:ce135ed3-5db8-4159-aade-37d21406abf2\" xlink:type=\"simple\"><rect fill=\"#FEFECE\" filter=\"url(#fgjk01w0r6uza)\" height=\"45.9375\" id=\"E5\" rx=\"10\" ry=\"10\" style=\"stroke: #A80036; stroke-width: 1.5;\" width=\"68\" x=\"704\" y=\"54\"/><ellipse cx=\"719\" cy=\"72.9688\" fill=\"#32CD32\" rx=\"11\" ry=\"11\" style=\"stroke: #A80036; stroke-width: 1.0;\"/><path d=\"M718.7969,68.6406 L718.7969,72.2656 L719.7969,72.2656 Q721,72.2656 721.4844,71.8594 Q721.9688,71.4531 721.9688,70.4531 Q721.9688,69.4531 721.4844,69.0469 Q721,68.6406 719.7969,68.6406 L718.7969,68.6406 Z M716.3438,66.5781 L719.7031,66.5781 Q722.2656,66.5781 723.3906,67.5 Q724.5156,68.4063 724.5156,70.4531 Q724.5156,72.5 723.3906,73.4219 Q722.2656,74.3281 719.7031,74.3281 L718.7969,74.3281 L718.7969,78.9688 L716.3438,78.9688 L716.3438,66.5781 Z \"/><text fill=\"#000000\" font-family=\"sans-serif\" font-size=\"12\" font-style=\"italic\" lengthAdjust=\"spacingAndGlyphs\" textLength=\"40\" x=\"731\" y=\"70.1387\">«part»</text><text fill=\"#000000\" font-family=\"sans-serif\" font-size=\"12\" lengthAdjust=\"spacingAndGlyphs\" textLength=\"24\" x=\"739\" y=\"84.1074\">b: P</text><line style=\"stroke: #A80036; stroke-width: 1.5;\" x1=\"705\" x2=\"771\" y1=\"91.9375\" y2=\"91.9375\"/></a><!--MD5=[60a26617385b1d2d0262a64233df1f8d]\n",
       "class E6--><a href=\"psysml:7c20260d-33cb-4904-8feb-6f2059c0b9de\" target=\"_top\" title=\"psysml:7c20260d-33cb-4904-8feb-6f2059c0b9de\" xlink:actuate=\"onRequest\" xlink:href=\"psysml:7c20260d-33cb-4904-8feb-6f2059c0b9de\" xlink:show=\"new\" xlink:title=\"psysml:7c20260d-33cb-4904-8feb-6f2059c0b9de\" xlink:type=\"simple\"><rect fill=\"#FEFECE\" filter=\"url(#fgjk01w0r6uza)\" height=\"45.9375\" id=\"E6\" rx=\"10\" ry=\"10\" style=\"stroke: #A80036; stroke-width: 1.5;\" width=\"68\" x=\"601\" y=\"54\"/><ellipse cx=\"616\" cy=\"72.9688\" fill=\"#32CD32\" rx=\"11\" ry=\"11\" style=\"stroke: #A80036; stroke-width: 1.0;\"/><path d=\"M615.7969,68.6406 L615.7969,72.2656 L616.7969,72.2656 Q618,72.2656 618.4844,71.8594 Q618.9688,71.4531 618.9688,70.4531 Q618.9688,69.4531 618.4844,69.0469 Q618,68.6406 616.7969,68.6406 L615.7969,68.6406 Z M613.3438,66.5781 L616.7031,66.5781 Q619.2656,66.5781 620.3906,67.5 Q621.5156,68.4063 621.5156,70.4531 Q621.5156,72.5 620.3906,73.4219 Q619.2656,74.3281 616.7031,74.3281 L615.7969,74.3281 L615.7969,78.9688 L613.3438,78.9688 L613.3438,66.5781 Z \"/><text fill=\"#000000\" font-family=\"sans-serif\" font-size=\"12\" font-style=\"italic\" lengthAdjust=\"spacingAndGlyphs\" textLength=\"40\" x=\"628\" y=\"70.1387\">«part»</text><text fill=\"#000000\" font-family=\"sans-serif\" font-size=\"12\" lengthAdjust=\"spacingAndGlyphs\" textLength=\"23\" x=\"636.5\" y=\"84.1074\">c: P</text><line style=\"stroke: #A80036; stroke-width: 1.5;\" x1=\"602\" x2=\"668\" y1=\"91.9375\" y2=\"91.9375\"/></a><!--MD5=[2156ba9850f5573cc1fc38a6a4b2f02b]\n",
       "class E7--><a href=\"psysml:a788bf26-d852-4daf-8a66-fd926f14abf3\" target=\"_top\" title=\"psysml:a788bf26-d852-4daf-8a66-fd926f14abf3\" xlink:actuate=\"onRequest\" xlink:href=\"psysml:a788bf26-d852-4daf-8a66-fd926f14abf3\" xlink:show=\"new\" xlink:title=\"psysml:a788bf26-d852-4daf-8a66-fd926f14abf3\" xlink:type=\"simple\"><rect fill=\"#FEFECE\" filter=\"url(#fgjk01w0r6uza)\" height=\"45.9375\" id=\"E7\" rx=\"10\" ry=\"10\" style=\"stroke: #A80036; stroke-width: 1.5;\" width=\"68\" x=\"498\" y=\"54\"/><ellipse cx=\"513\" cy=\"72.9688\" fill=\"#32CD32\" rx=\"11\" ry=\"11\" style=\"stroke: #A80036; stroke-width: 1.0;\"/><path d=\"M512.7969,68.6406 L512.7969,72.2656 L513.7969,72.2656 Q515,72.2656 515.4844,71.8594 Q515.9688,71.4531 515.9688,70.4531 Q515.9688,69.4531 515.4844,69.0469 Q515,68.6406 513.7969,68.6406 L512.7969,68.6406 Z M510.3438,66.5781 L513.7031,66.5781 Q516.2656,66.5781 517.3906,67.5 Q518.5156,68.4063 518.5156,70.4531 Q518.5156,72.5 517.3906,73.4219 Q516.2656,74.3281 513.7031,74.3281 L512.7969,74.3281 L512.7969,78.9688 L510.3438,78.9688 L510.3438,66.5781 Z \"/><text fill=\"#000000\" font-family=\"sans-serif\" font-size=\"12\" font-style=\"italic\" lengthAdjust=\"spacingAndGlyphs\" textLength=\"40\" x=\"525\" y=\"70.1387\">«part»</text><text fill=\"#000000\" font-family=\"sans-serif\" font-size=\"12\" lengthAdjust=\"spacingAndGlyphs\" textLength=\"8\" x=\"541\" y=\"84.1074\">d</text><line style=\"stroke: #A80036; stroke-width: 1.5;\" x1=\"499\" x2=\"565\" y1=\"91.9375\" y2=\"91.9375\"/></a><!--MD5=[b9389687b975829384b498ac4b7476b2]\n",
       "class E8--><a href=\"psysml:8ca44daa-798d-42ea-8082-fded64fdb257\" target=\"_top\" title=\"psysml:8ca44daa-798d-42ea-8082-fded64fdb257\" xlink:actuate=\"onRequest\" xlink:href=\"psysml:8ca44daa-798d-42ea-8082-fded64fdb257\" xlink:show=\"new\" xlink:title=\"psysml:8ca44daa-798d-42ea-8082-fded64fdb257\" xlink:type=\"simple\"><rect fill=\"#FEFECE\" filter=\"url(#fgjk01w0r6uza)\" height=\"45.9375\" id=\"E8\" rx=\"10\" ry=\"10\" style=\"stroke: #A80036; stroke-width: 1.5;\" width=\"68\" x=\"395\" y=\"54\"/><ellipse cx=\"410\" cy=\"72.9688\" fill=\"#32CD32\" rx=\"11\" ry=\"11\" style=\"stroke: #A80036; stroke-width: 1.0;\"/><path d=\"M409.7969,68.6406 L409.7969,72.2656 L410.7969,72.2656 Q412,72.2656 412.4844,71.8594 Q412.9688,71.4531 412.9688,70.4531 Q412.9688,69.4531 412.4844,69.0469 Q412,68.6406 410.7969,68.6406 L409.7969,68.6406 Z M407.3438,66.5781 L410.7031,66.5781 Q413.2656,66.5781 414.3906,67.5 Q415.5156,68.4063 415.5156,70.4531 Q415.5156,72.5 414.3906,73.4219 Q413.2656,74.3281 410.7031,74.3281 L409.7969,74.3281 L409.7969,78.9688 L407.3438,78.9688 L407.3438,66.5781 Z \"/><text fill=\"#000000\" font-family=\"sans-serif\" font-size=\"12\" font-style=\"italic\" lengthAdjust=\"spacingAndGlyphs\" textLength=\"40\" x=\"422\" y=\"70.1387\">«part»</text><text fill=\"#000000\" font-family=\"sans-serif\" font-size=\"12\" lengthAdjust=\"spacingAndGlyphs\" textLength=\"8\" x=\"438\" y=\"84.1074\">e</text><line style=\"stroke: #A80036; stroke-width: 1.5;\" x1=\"396\" x2=\"462\" y1=\"91.9375\" y2=\"91.9375\"/></a><!--MD5=[fd4143e9d270a159db93a4ea2a975926]\n",
       "class E9--><a href=\"psysml:94368454-840d-4091-abdb-e19ae5322c54\" target=\"_top\" title=\"psysml:94368454-840d-4091-abdb-e19ae5322c54\" xlink:actuate=\"onRequest\" xlink:href=\"psysml:94368454-840d-4091-abdb-e19ae5322c54\" xlink:show=\"new\" xlink:title=\"psysml:94368454-840d-4091-abdb-e19ae5322c54\" xlink:type=\"simple\"><rect fill=\"#FEFECE\" filter=\"url(#fgjk01w0r6uza)\" height=\"45.9375\" id=\"E9\" rx=\"10\" ry=\"10\" style=\"stroke: #A80036; stroke-width: 1.5;\" width=\"68\" x=\"292\" y=\"54\"/><ellipse cx=\"307\" cy=\"72.9688\" fill=\"#32CD32\" rx=\"11\" ry=\"11\" style=\"stroke: #A80036; stroke-width: 1.0;\"/><path d=\"M306.7969,68.6406 L306.7969,72.2656 L307.7969,72.2656 Q309,72.2656 309.4844,71.8594 Q309.9688,71.4531 309.9688,70.4531 Q309.9688,69.4531 309.4844,69.0469 Q309,68.6406 307.7969,68.6406 L306.7969,68.6406 Z M304.3438,66.5781 L307.7031,66.5781 Q310.2656,66.5781 311.3906,67.5 Q312.5156,68.4063 312.5156,70.4531 Q312.5156,72.5 311.3906,73.4219 Q310.2656,74.3281 307.7031,74.3281 L306.7969,74.3281 L306.7969,78.9688 L304.3438,78.9688 L304.3438,66.5781 Z \"/><text fill=\"#000000\" font-family=\"sans-serif\" font-size=\"12\" font-style=\"italic\" lengthAdjust=\"spacingAndGlyphs\" textLength=\"40\" x=\"319\" y=\"70.1387\">«part»</text><text fill=\"#000000\" font-family=\"sans-serif\" font-size=\"12\" lengthAdjust=\"spacingAndGlyphs\" textLength=\"4\" x=\"337\" y=\"84.1074\">f</text><line style=\"stroke: #A80036; stroke-width: 1.5;\" x1=\"293\" x2=\"359\" y1=\"91.9375\" y2=\"91.9375\"/></a><!--MD5=[96f4274e9e20536e775497830990834d]\n",
       "class E10--><a href=\"psysml:8f8b3cba-ab00-4478-b69f-246a2e072be5\" target=\"_top\" title=\"psysml:8f8b3cba-ab00-4478-b69f-246a2e072be5\" xlink:actuate=\"onRequest\" xlink:href=\"psysml:8f8b3cba-ab00-4478-b69f-246a2e072be5\" xlink:show=\"new\" xlink:title=\"psysml:8f8b3cba-ab00-4478-b69f-246a2e072be5\" xlink:type=\"simple\"><rect fill=\"#FEFECE\" filter=\"url(#fgjk01w0r6uza)\" height=\"45.9375\" id=\"E10\" rx=\"10\" ry=\"10\" style=\"stroke: #A80036; stroke-width: 1.5;\" width=\"68\" x=\"189\" y=\"54\"/><ellipse cx=\"204\" cy=\"72.9688\" fill=\"#32CD32\" rx=\"11\" ry=\"11\" style=\"stroke: #A80036; stroke-width: 1.0;\"/><path d=\"M203.7969,68.6406 L203.7969,72.2656 L204.7969,72.2656 Q206,72.2656 206.4844,71.8594 Q206.9688,71.4531 206.9688,70.4531 Q206.9688,69.4531 206.4844,69.0469 Q206,68.6406 204.7969,68.6406 L203.7969,68.6406 Z M201.3438,66.5781 L204.7031,66.5781 Q207.2656,66.5781 208.3906,67.5 Q209.5156,68.4063 209.5156,70.4531 Q209.5156,72.5 208.3906,73.4219 Q207.2656,74.3281 204.7031,74.3281 L203.7969,74.3281 L203.7969,78.9688 L201.3438,78.9688 L201.3438,66.5781 Z \"/><text fill=\"#000000\" font-family=\"sans-serif\" font-size=\"12\" font-style=\"italic\" lengthAdjust=\"spacingAndGlyphs\" textLength=\"40\" x=\"216\" y=\"70.1387\">«part»</text><text fill=\"#000000\" font-family=\"sans-serif\" font-size=\"12\" lengthAdjust=\"spacingAndGlyphs\" textLength=\"8\" x=\"232\" y=\"84.1074\">g</text><line style=\"stroke: #A80036; stroke-width: 1.5;\" x1=\"190\" x2=\"256\" y1=\"91.9375\" y2=\"91.9375\"/></a><!--MD5=[1dd1bfd58a279cf63c5f349dbc8fc6a1]\n",
       "class E11--><a href=\"psysml:2c45c451-c8b5-4e48-8592-55fa30d535c5\" target=\"_top\" title=\"psysml:2c45c451-c8b5-4e48-8592-55fa30d535c5\" xlink:actuate=\"onRequest\" xlink:href=\"psysml:2c45c451-c8b5-4e48-8592-55fa30d535c5\" xlink:show=\"new\" xlink:title=\"psysml:2c45c451-c8b5-4e48-8592-55fa30d535c5\" xlink:type=\"simple\"><rect fill=\"#FEFECE\" filter=\"url(#fgjk01w0r6uza)\" height=\"71.5469\" id=\"E11\" style=\"stroke: #A80036; stroke-width: 1.5;\" width=\"121\" x=\"32.5\" y=\"41\"/><ellipse cx=\"47.5\" cy=\"59.9688\" fill=\"#A52A2A\" rx=\"11\" ry=\"11\" style=\"stroke: #A80036; stroke-width: 1.0;\"/><path d=\"M47.0938,55.7813 L47.0938,63.7656 L47.75,63.7656 Q49.1875,63.7656 49.7969,62.8594 Q50.4219,61.9375 50.4219,59.7656 Q50.4219,57.5938 49.7969,56.6875 Q49.1875,55.7813 47.75,55.7813 L47.0938,55.7813 Z M44.6406,53.5781 L47.2656,53.5781 Q50.2969,53.5781 51.625,55.0313 Q52.9688,56.4688 52.9688,59.7656 Q52.9688,63.0625 51.625,64.5156 Q50.2969,65.9688 47.2656,65.9688 L44.6406,65.9688 L44.6406,53.5781 Z \"/><text fill=\"#000000\" font-family=\"sans-serif\" font-size=\"12\" font-style=\"italic\" lengthAdjust=\"spacingAndGlyphs\" textLength=\"93\" x=\"59.5\" y=\"57.1387\">«attribute def»</text><text fill=\"#000000\" font-family=\"sans-serif\" font-size=\"12\" lengthAdjust=\"spacingAndGlyphs\" textLength=\"8\" x=\"102\" y=\"71.1074\">A</text><line style=\"stroke: #A80036; stroke-width: 1.5;\" x1=\"33.5\" x2=\"152.5\" y1=\"78.9375\" y2=\"78.9375\"/><text fill=\"#000000\" font-family=\"sans-serif\" font-size=\"11\" lengthAdjust=\"spacingAndGlyphs\" textLength=\"51\" x=\"38.5\" y=\"93.1479\">i: Integer</text><text fill=\"#000000\" font-family=\"sans-serif\" font-size=\"11\" lengthAdjust=\"spacingAndGlyphs\" textLength=\"21\" x=\"38.5\" y=\"105.9526\">x: A</text></a><!--MD5=[15ebcb19ae302d9b601edb458606d402]\n",
       "link E5 to E2--><a href=\"psysml:99c2055f-0301-4891-b65d-9e517e6365b1\" target=\"_top\" title=\"psysml:99c2055f-0301-4891-b65d-9e517e6365b1\" xlink:actuate=\"onRequest\" xlink:href=\"psysml:99c2055f-0301-4891-b65d-9e517e6365b1\" xlink:show=\"new\" xlink:title=\"psysml:99c2055f-0301-4891-b65d-9e517e6365b1\" xlink:type=\"simple\"><path d=\"M727.85,100.25 C720.81,115.68 711.27,136.61 703.07,154.58 \" fill=\"none\" id=\"E5-&gt;E2\" style=\"stroke: #A80036; stroke-width: 1.0;\"/><polygon fill=\"#FFFFFF\" points=\"694.74,172.84,696.2548,152.6483,708.9927,158.4573,694.74,172.84\" style=\"stroke: #A80036; stroke-width: 1.0;\"/><ellipse cx=\"700.4396\" cy=\"148.292\" fill=\"#A80036\" rx=\"2\" ry=\"2\" style=\"stroke: #A80036; stroke-width: 1.0;\"/><ellipse cx=\"709.5381\" cy=\"152.4413\" fill=\"#A80036\" rx=\"2\" ry=\"2\" style=\"stroke: #A80036; stroke-width: 1.0;\"/></a><!--MD5=[2351f337d6de0f557b50152ba70847b5]\n",
       "link E6 to E2--><a href=\"psysml:035f6493-28ba-4968-b761-0ab46a395f55\" target=\"_top\" title=\"psysml:035f6493-28ba-4968-b761-0ab46a395f55\" xlink:actuate=\"onRequest\" xlink:href=\"psysml:035f6493-28ba-4968-b761-0ab46a395f55\" xlink:show=\"new\" xlink:title=\"psysml:035f6493-28ba-4968-b761-0ab46a395f55\" xlink:type=\"simple\"><path d=\"M644.95,100.25 C651.86,115.68 661.22,136.61 669.26,154.58 \" fill=\"none\" id=\"E6-&gt;E2\" style=\"stroke: #A80036; stroke-width: 1.0;\"/><polygon fill=\"#FFFFFF\" points=\"677.43,172.84,663.2788,158.3574,676.0573,152.6381,677.43,172.84\" style=\"stroke: #A80036; stroke-width: 1.0;\"/><ellipse cx=\"662.7757\" cy=\"152.3377\" fill=\"#A80036\" rx=\"2\" ry=\"2\" style=\"stroke: #A80036; stroke-width: 1.0;\"/><ellipse cx=\"671.9032\" cy=\"148.2525\" fill=\"#A80036\" rx=\"2\" ry=\"2\" style=\"stroke: #A80036; stroke-width: 1.0;\"/></a><!--MD5=[87b0454f3c157444a722d78779101a7e]\n",
       "@startuml\r\n",
       " \r\n",
       "package \"MultiplicityTest\" as E1  [[psysml:d21f1d33-c8d8-4d7e-915c-a1dc21839292 ]]  {\r\n",
       "comp def \"P\" as E2 << << (B,green) >> [[psysml:cfcc0fdc-4985-4a7c-8ed0-df1ec6a07f40 ]] {\r\n",
       "}\r\n",
       "comp usage \"n: Integer\" as E3 << <<(U,orange) attribute>> [[psysml:6504cd03-3352-435e-8e5a-44d60f096993 ]] {\r\n",
       "}\r\n",
       "comp usage \"a\" as E4 << << (P,limegreen) part>> [[psysml:69df1372-c4de-42e4-b97b-1df20a9e4637 ]] {\r\n",
       "}\r\n",
       "comp usage \"b: P\" as E5 << << (P,limegreen) part>> [[psysml:ce135ed3-5db8-4159-aade-37d21406abf2 ]] {\r\n",
       "}\r\n",
       "comp usage \"c: P\" as E6 << << (P,limegreen) part>> [[psysml:7c20260d-33cb-4904-8feb-6f2059c0b9de ]] {\r\n",
       "}\r\n",
       "comp usage \"d\" as E7 << << (P,limegreen) part>> [[psysml:a788bf26-d852-4daf-8a66-fd926f14abf3 ]] {\r\n",
       "}\r\n",
       "comp usage \"e\" as E8 << << (P,limegreen) part>> [[psysml:8ca44daa-798d-42ea-8082-fded64fdb257 ]] {\r\n",
       "}\r\n",
       "comp usage \"f\" as E9 << << (P,limegreen) part>> [[psysml:94368454-840d-4091-abdb-e19ae5322c54 ]] {\r\n",
       "}\r\n",
       "comp usage \"g\" as E10 << << (P,limegreen) part>> [[psysml:8f8b3cba-ab00-4478-b69f-246a2e072be5 ]] {\r\n",
       "}\r\n",
       "comp def \"A\" as E11 << <<(D,brown) attribute def>> [[psysml:2c45c451-c8b5-4e48-8592-55fa30d535c5 ]] {\r\n",
       "i: Integer\r\n",
       "x: A\r\n",
       "}\r\n",
       "E5 - -:|> E2 [[psysml:99c2055f-0301-4891-b65d-9e517e6365b1 ]] \r\n",
       "E6 - -:|> E2 [[psysml:035f6493-28ba-4968-b761-0ab46a395f55 ]] \r\n",
       "}\r\n",
       "@enduml\r\n",
       "\n",
       "PlantUML version 1.2020.13(Sat Jun 13 12:26:38 UTC 2020)\n",
       "(EPL source distribution)\n",
       "Java Runtime: OpenJDK Runtime Environment\n",
       "JVM: OpenJDK 64-Bit Server VM\n",
       "Default Encoding: UTF-8\n",
       "Language: en\n",
       "Country: null\n",
       "--></g></svg>"
      ]
     },
     "execution_count": 31,
     "metadata": {},
     "output_type": "execute_result"
    }
   ],
   "source": [
    "%viz --style=\"PLANTUML\" --view=\"Tree\" \"MultiplicityTest\""
   ]
  },
  {
   "cell_type": "code",
   "execution_count": 32,
   "id": "30fb2060",
   "metadata": {
    "execution": {
     "iopub.execute_input": "2021-06-30T09:24:32.444212Z",
     "iopub.status.busy": "2021-06-30T09:24:32.443243Z",
     "iopub.status.idle": "2021-06-30T09:24:32.538127Z",
     "shell.execute_reply": "2021-06-30T09:24:32.537693Z"
    }
   },
   "outputs": [
    {
     "data": {
      "image/svg+xml": [
       "<?xml version=\"1.0\" encoding=\"UTF-8\" standalone=\"no\"?><svg xmlns=\"http://www.w3.org/2000/svg\" xmlns:xlink=\"http://www.w3.org/1999/xlink\" contentScriptType=\"application/ecmascript\" contentStyleType=\"text/css\" height=\"303px\" preserveAspectRatio=\"none\" style=\"width:603px;height:303px;background:#000000;\" version=\"1.1\" viewBox=\"0 0 603 303\" width=\"603px\" zoomAndPan=\"magnify\"><defs/><g><rect fill=\"#021B0E\" height=\"1\" style=\"stroke: #021B0E; stroke-width: 1.0;\" width=\"1\" x=\"0\" y=\"0\"/><rect fill=\"#FFFFFF\" height=\"205.5625\" style=\"stroke: #FFFFFF; stroke-width: 1.0;\" width=\"602\" x=\"0\" y=\"0\"/><text fill=\"#000000\" font-family=\"sans-serif\" font-size=\"12\" font-weight=\"bold\" lengthAdjust=\"spacingAndGlyphs\" textLength=\"159\" x=\"5\" y=\"16.1387\">Welcome to PlantUML!</text><text fill=\"#000000\" font-family=\"sans-serif\" font-size=\"12\" lengthAdjust=\"spacingAndGlyphs\" textLength=\"0\" x=\"9\" y=\"30.1074\"/><text fill=\"#000000\" font-family=\"sans-serif\" font-size=\"12\" lengthAdjust=\"spacingAndGlyphs\" textLength=\"293\" x=\"5\" y=\"44.0762\">If you use this software, you accept its license.</text><text fill=\"#000000\" font-family=\"sans-serif\" font-size=\"12\" lengthAdjust=\"spacingAndGlyphs\" textLength=\"107\" x=\"5\" y=\"58.0449\">(details by typing</text><text fill=\"#000000\" font-family=\"monospace\" font-size=\"12\" lengthAdjust=\"spacingAndGlyphs\" textLength=\"49\" x=\"116\" y=\"58.0449\">license</text><text fill=\"#000000\" font-family=\"sans-serif\" font-size=\"12\" lengthAdjust=\"spacingAndGlyphs\" textLength=\"56\" x=\"169\" y=\"58.0449\">keyword)</text><text fill=\"#000000\" font-family=\"sans-serif\" font-size=\"12\" lengthAdjust=\"spacingAndGlyphs\" textLength=\"0\" x=\"9\" y=\"72.0137\"/><text fill=\"#000000\" font-family=\"sans-serif\" font-size=\"12\" lengthAdjust=\"spacingAndGlyphs\" textLength=\"283\" x=\"5\" y=\"85.9824\">You can start with a simple UML Diagram like:</text><text fill=\"#000000\" font-family=\"sans-serif\" font-size=\"12\" lengthAdjust=\"spacingAndGlyphs\" textLength=\"0\" x=\"9\" y=\"99.9512\"/><text fill=\"#000000\" font-family=\"monospace\" font-size=\"12\" lengthAdjust=\"spacingAndGlyphs\" textLength=\"119\" x=\"5\" y=\"113.9199\">Bob-&gt;Alice: Hello</text><text fill=\"#000000\" font-family=\"sans-serif\" font-size=\"12\" lengthAdjust=\"spacingAndGlyphs\" textLength=\"0\" x=\"9\" y=\"127.8887\"/><text fill=\"#000000\" font-family=\"sans-serif\" font-size=\"12\" lengthAdjust=\"spacingAndGlyphs\" textLength=\"14\" x=\"5\" y=\"141.8574\">Or</text><text fill=\"#000000\" font-family=\"sans-serif\" font-size=\"12\" lengthAdjust=\"spacingAndGlyphs\" textLength=\"0\" x=\"9\" y=\"155.8262\"/><text fill=\"#000000\" font-family=\"monospace\" font-size=\"12\" lengthAdjust=\"spacingAndGlyphs\" textLength=\"91\" x=\"5\" y=\"169.7949\">class Example</text><text fill=\"#000000\" font-family=\"sans-serif\" font-size=\"12\" lengthAdjust=\"spacingAndGlyphs\" textLength=\"0\" x=\"9\" y=\"183.7637\"/><text fill=\"#000000\" font-family=\"sans-serif\" font-size=\"12\" lengthAdjust=\"spacingAndGlyphs\" textLength=\"349\" x=\"5\" y=\"197.7324\">You will find more information about PlantUML syntax on</text><text fill=\"#000000\" font-family=\"sans-serif\" font-size=\"12\" lengthAdjust=\"spacingAndGlyphs\" text-decoration=\"underline\" textLength=\"129\" x=\"358\" y=\"197.7324\">https://plantuml.com</text><image height=\"71\" width=\"80\" x=\"516\" xlink:href=\"data:image/png;base64,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\" y=\"6\"/><rect fill=\"#000000\" height=\"96.4844\" style=\"stroke: #000000; stroke-width: 1.0;\" width=\"602\" x=\"0\" y=\"205.5625\"/><rect fill=\"#33FF02\" height=\"21.2969\" style=\"stroke: #33FF02; stroke-width: 1.0;\" width=\"170\" x=\"5\" y=\"210.5625\"/><text fill=\"#000000\" font-family=\"sans-serif\" font-size=\"14\" font-weight=\"bold\" lengthAdjust=\"spacingAndGlyphs\" textLength=\"168\" x=\"6\" y=\"225.5625\">[From string (line 2) ]</text><text fill=\"#33FF02\" font-family=\"sans-serif\" font-size=\"14\" font-weight=\"bold\" lengthAdjust=\"spacingAndGlyphs\" textLength=\"0\" x=\"10\" y=\"245.8594\"/><text fill=\"#33FF02\" font-family=\"sans-serif\" font-size=\"14\" font-weight=\"bold\" lengthAdjust=\"spacingAndGlyphs\" textLength=\"79\" x=\"5\" y=\"262.1563\">@startuml</text><text fill=\"#33FF02\" font-family=\"sans-serif\" font-size=\"14\" font-weight=\"bold\" lengthAdjust=\"spacingAndGlyphs\" textLength=\"0\" x=\"10\" y=\"278.4531\"/><text fill=\"#FF0000\" font-family=\"sans-serif\" font-size=\"14\" font-weight=\"bold\" lengthAdjust=\"spacingAndGlyphs\" textLength=\"142\" x=\"10\" y=\"294.75\">Empty description</text><!--MD5=[f59edd8218d337f74d0c332fc6737304]\n",
       "@startuml\r\n",
       " \r\n",
       "@enduml\r\n",
       "\n",
       "PlantUML version 1.2020.13(Sat Jun 13 12:26:38 UTC 2020)\n",
       "(EPL source distribution)\n",
       "Java Runtime: OpenJDK Runtime Environment\n",
       "JVM: OpenJDK 64-Bit Server VM\n",
       "Default Encoding: UTF-8\n",
       "Language: en\n",
       "Country: null\n",
       "--></g></svg>"
      ]
     },
     "execution_count": 32,
     "metadata": {},
     "output_type": "execute_result"
    }
   ],
   "source": [
    "%viz --style=\"PLANTUML\" --view=\"State\" \"MultiplicityTest\""
   ]
  },
  {
   "cell_type": "code",
   "execution_count": 33,
   "id": "22886f24",
   "metadata": {
    "execution": {
     "iopub.execute_input": "2021-06-30T09:24:32.591320Z",
     "iopub.status.busy": "2021-06-30T09:24:32.590499Z",
     "iopub.status.idle": "2021-06-30T09:24:32.625323Z",
     "shell.execute_reply": "2021-06-30T09:24:32.623747Z"
    }
   },
   "outputs": [
    {
     "data": {
      "image/svg+xml": [
       "<?xml version=\"1.0\" encoding=\"UTF-8\" standalone=\"no\"?><svg xmlns=\"http://www.w3.org/2000/svg\" xmlns:xlink=\"http://www.w3.org/1999/xlink\" contentScriptType=\"application/ecmascript\" contentStyleType=\"text/css\" height=\"115px\" preserveAspectRatio=\"none\" style=\"width:1030px;height:115px;\" version=\"1.1\" viewBox=\"0 0 1030 115\" width=\"1030px\" zoomAndPan=\"magnify\"><defs><filter height=\"300%\" id=\"fqazx6cc4u2aw\" width=\"300%\" x=\"-1\" y=\"-1\"><feGaussianBlur result=\"blurOut\" stdDeviation=\"2.0\"/><feColorMatrix in=\"blurOut\" result=\"blurOut2\" type=\"matrix\" values=\"0 0 0 0 0 0 0 0 0 0 0 0 0 0 0 0 0 0 .4 0\"/><feOffset dx=\"4.0\" dy=\"4.0\" in=\"blurOut2\" result=\"blurOut3\"/><feBlend in=\"SourceGraphic\" in2=\"blurOut3\" mode=\"normal\"/></filter></defs><g><!--MD5=[fbc87193dbaf4d95561dea2c320d4a47]\n",
       "cluster E1--><a href=\"psysml:d21f1d33-c8d8-4d7e-915c-a1dc21839292\" target=\"_top\" title=\"psysml:d21f1d33-c8d8-4d7e-915c-a1dc21839292\" xlink:actuate=\"onRequest\" xlink:href=\"psysml:d21f1d33-c8d8-4d7e-915c-a1dc21839292\" xlink:show=\"new\" xlink:title=\"psysml:d21f1d33-c8d8-4d7e-915c-a1dc21839292\" xlink:type=\"simple\"><polygon fill=\"#FFFFFF\" filter=\"url(#fqazx6cc4u2aw)\" points=\"16,6,140,6,147,28.2969,1008,28.2969,1008,103,16,103,16,6\" style=\"stroke: #000000; stroke-width: 1.5;\"/><line style=\"stroke: #000000; stroke-width: 1.5;\" x1=\"16\" x2=\"147\" y1=\"28.2969\" y2=\"28.2969\"/><text fill=\"#000000\" font-family=\"sans-serif\" font-size=\"14\" font-weight=\"bold\" lengthAdjust=\"spacingAndGlyphs\" textLength=\"118\" x=\"20\" y=\"20.9951\">MultiplicityTest</text></a><!--MD5=[09b614a08d8cba4a07c9adeb5e0fee81]\n",
       "class E3--><a href=\"psysml:6504cd03-3352-435e-8e5a-44d60f096993\" target=\"_top\" title=\"psysml:6504cd03-3352-435e-8e5a-44d60f096993\" xlink:actuate=\"onRequest\" xlink:href=\"psysml:6504cd03-3352-435e-8e5a-44d60f096993\" xlink:show=\"new\" xlink:title=\"psysml:6504cd03-3352-435e-8e5a-44d60f096993\" xlink:type=\"simple\"><rect fill=\"#FEFECE\" filter=\"url(#fqazx6cc4u2aw)\" height=\"45.9375\" id=\"E3\" rx=\"10\" ry=\"10\" style=\"stroke: #A80036; stroke-width: 1.5;\" width=\"97\" x=\"895.5\" y=\"41\"/><ellipse cx=\"910.5\" cy=\"59.9688\" fill=\"#FFA500\" rx=\"11\" ry=\"11\" style=\"stroke: #A80036; stroke-width: 1.0;\"/><path d=\"M906.375,61.8906 L906.375,54.0781 L908.8281,54.0781 L908.8281,62.5156 Q908.8281,63.4375 909.2969,63.9688 Q909.7813,64.5 910.6094,64.5 Q911.4531,64.5 911.9219,63.9688 Q912.3906,63.4375 912.3906,62.5156 L912.3906,54.0781 L914.8438,54.0781 L914.8438,61.8906 Q914.8438,64.4219 913.8438,65.5625 Q912.8438,66.7031 910.6094,66.7031 Q908.3906,66.7031 907.375,65.5625 Q906.375,64.4219 906.375,61.8906 Z \"/><text fill=\"#000000\" font-family=\"sans-serif\" font-size=\"12\" font-style=\"italic\" lengthAdjust=\"spacingAndGlyphs\" textLength=\"69\" x=\"922.5\" y=\"57.1387\">«attribute»</text><text fill=\"#000000\" font-family=\"sans-serif\" font-size=\"12\" lengthAdjust=\"spacingAndGlyphs\" textLength=\"61\" x=\"926.5\" y=\"71.1074\">n: Integer</text><line style=\"stroke: #A80036; stroke-width: 1.5;\" x1=\"896.5\" x2=\"991.5\" y1=\"78.9375\" y2=\"78.9375\"/></a><g id=\"E1.E11\"><a href=\"psysml:2c45c451-c8b5-4e48-8592-55fa30d535c5\" target=\"_top\" title=\"psysml:2c45c451-c8b5-4e48-8592-55fa30d535c5\" xlink:actuate=\"onRequest\" xlink:href=\"psysml:2c45c451-c8b5-4e48-8592-55fa30d535c5\" xlink:show=\"new\" xlink:title=\"psysml:2c45c451-c8b5-4e48-8592-55fa30d535c5\" xlink:type=\"simple\"><rect fill=\"#FEFECE\" filter=\"url(#fqazx6cc4u2aw)\" height=\"42.9375\" id=\"E11\" style=\"stroke: #A80036; stroke-width: 1.5;\" width=\"126\" x=\"734\" y=\"42.5\"/><ellipse cx=\"751.25\" cy=\"61.4688\" fill=\"#A52A2A\" rx=\"11\" ry=\"11\" style=\"stroke: #A80036; stroke-width: 1.0;\"/><path d=\"M750.8438,57.2813 L750.8438,65.2656 L751.5,65.2656 Q752.9375,65.2656 753.5469,64.3594 Q754.1719,63.4375 754.1719,61.2656 Q754.1719,59.0938 753.5469,58.1875 Q752.9375,57.2813 751.5,57.2813 L750.8438,57.2813 Z M748.3906,55.0781 L751.0156,55.0781 Q754.0469,55.0781 755.375,56.5313 Q756.7188,57.9688 756.7188,61.2656 Q756.7188,64.5625 755.375,66.0156 Q754.0469,67.4688 751.0156,67.4688 L748.3906,67.4688 L748.3906,55.0781 Z \"/><text fill=\"#000000\" font-family=\"sans-serif\" font-size=\"12\" font-style=\"italic\" lengthAdjust=\"spacingAndGlyphs\" textLength=\"93\" x=\"763.75\" y=\"58.6387\">«attribute def»</text><text fill=\"#000000\" font-family=\"sans-serif\" font-size=\"12\" lengthAdjust=\"spacingAndGlyphs\" textLength=\"8\" x=\"806.25\" y=\"72.6074\">A</text></a></g><g id=\"E1.E2\"><a href=\"psysml:cfcc0fdc-4985-4a7c-8ed0-df1ec6a07f40\" target=\"_top\" title=\"psysml:cfcc0fdc-4985-4a7c-8ed0-df1ec6a07f40\" xlink:actuate=\"onRequest\" xlink:href=\"psysml:cfcc0fdc-4985-4a7c-8ed0-df1ec6a07f40\" xlink:show=\"new\" xlink:title=\"psysml:cfcc0fdc-4985-4a7c-8ed0-df1ec6a07f40\" xlink:type=\"simple\"><rect fill=\"#FEFECE\" filter=\"url(#fqazx6cc4u2aw)\" height=\"40\" id=\"E2\" style=\"stroke: #A80036; stroke-width: 1.5;\" width=\"50\" x=\"649\" y=\"44\"/><ellipse cx=\"668.5\" cy=\"60\" fill=\"#008000\" rx=\"11\" ry=\"11\" style=\"stroke: #A80036; stroke-width: 1.0;\"/><path d=\"M667.4063,60.375 L667.4063,64.0469 L669.0313,64.0469 Q670.2031,64.0469 670.6719,63.6563 Q671.1406,63.25 671.1406,62.25 Q671.1406,61.25 670.6406,60.8125 Q670.1563,60.375 669.0313,60.375 L667.4063,60.375 Z M667.4063,55.5469 L667.4063,58.4219 L669.0313,58.4219 Q669.9531,58.4219 670.3438,58.0938 Q670.75,57.75 670.75,57 Q670.75,56.2344 670.3438,55.8906 Q669.9375,55.5469 669.0313,55.5469 L667.4063,55.5469 Z M665.0313,53.5938 L669.0313,53.5938 Q671.0938,53.5938 672.1406,54.375 Q673.1875,55.1563 673.1875,56.7188 Q673.1875,57.9219 672.5625,58.5938 Q671.9531,59.2656 670.7656,59.375 Q672.1875,59.5156 672.9063,60.3281 Q673.625,61.1406 673.625,62.5938 Q673.625,64.3906 672.5469,65.2031 Q671.4688,66 669.0313,66 L665.0313,66 L665.0313,53.5938 Z \"/><text fill=\"#000000\" font-family=\"sans-serif\" font-size=\"12\" lengthAdjust=\"spacingAndGlyphs\" textLength=\"8\" x=\"683.5\" y=\"64.1543\">P</text></a></g><g id=\"E1.E4\"><a href=\"psysml:69df1372-c4de-42e4-b97b-1df20a9e4637\" target=\"_top\" title=\"psysml:69df1372-c4de-42e4-b97b-1df20a9e4637\" xlink:actuate=\"onRequest\" xlink:href=\"psysml:69df1372-c4de-42e4-b97b-1df20a9e4637\" xlink:show=\"new\" xlink:title=\"psysml:69df1372-c4de-42e4-b97b-1df20a9e4637\" xlink:type=\"simple\"><rect fill=\"#FEFECE\" filter=\"url(#fqazx6cc4u2aw)\" height=\"40\" id=\"E4\" rx=\"10\" ry=\"10\" style=\"stroke: #A80036; stroke-width: 1.5;\" width=\"50\" x=\"564\" y=\"44\"/><ellipse cx=\"583.5\" cy=\"60\" fill=\"#B6DBBB\" rx=\"11\" ry=\"11\" style=\"stroke: #A80036; stroke-width: 1.0;\"/><path d=\"M579.375,61.9219 L579.375,54.1094 L581.8281,54.1094 L581.8281,62.5469 Q581.8281,63.4688 582.2969,64 Q582.7813,64.5313 583.6094,64.5313 Q584.4531,64.5313 584.9219,64 Q585.3906,63.4688 585.3906,62.5469 L585.3906,54.1094 L587.8438,54.1094 L587.8438,61.9219 Q587.8438,64.4531 586.8438,65.5938 Q585.8438,66.7344 583.6094,66.7344 Q581.3906,66.7344 580.375,65.5938 Q579.375,64.4531 579.375,61.9219 Z \"/><text fill=\"#000000\" font-family=\"sans-serif\" font-size=\"12\" lengthAdjust=\"spacingAndGlyphs\" textLength=\"8\" x=\"598.5\" y=\"64.1543\">a</text></a></g><g id=\"E1.E5\"><a href=\"psysml:ce135ed3-5db8-4159-aade-37d21406abf2\" target=\"_top\" title=\"psysml:ce135ed3-5db8-4159-aade-37d21406abf2\" xlink:actuate=\"onRequest\" xlink:href=\"psysml:ce135ed3-5db8-4159-aade-37d21406abf2\" xlink:show=\"new\" xlink:title=\"psysml:ce135ed3-5db8-4159-aade-37d21406abf2\" xlink:type=\"simple\"><rect fill=\"#FEFECE\" filter=\"url(#fqazx6cc4u2aw)\" height=\"40\" id=\"E5\" rx=\"10\" ry=\"10\" style=\"stroke: #A80036; stroke-width: 1.5;\" width=\"61\" x=\"467.5\" y=\"44\"/><ellipse cx=\"484.75\" cy=\"60\" fill=\"#B6DBBB\" rx=\"11\" ry=\"11\" style=\"stroke: #A80036; stroke-width: 1.0;\"/><path d=\"M480.625,61.9219 L480.625,54.1094 L483.0781,54.1094 L483.0781,62.5469 Q483.0781,63.4688 483.5469,64 Q484.0313,64.5313 484.8594,64.5313 Q485.7031,64.5313 486.1719,64 Q486.6406,63.4688 486.6406,62.5469 L486.6406,54.1094 L489.0938,54.1094 L489.0938,61.9219 Q489.0938,64.4531 488.0938,65.5938 Q487.0938,66.7344 484.8594,66.7344 Q482.6406,66.7344 481.625,65.5938 Q480.625,64.4531 480.625,61.9219 Z \"/><text fill=\"#000000\" font-family=\"sans-serif\" font-size=\"12\" lengthAdjust=\"spacingAndGlyphs\" textLength=\"24\" x=\"499.25\" y=\"64.1543\">b: P</text></a></g><g id=\"E1.E6\"><a href=\"psysml:7c20260d-33cb-4904-8feb-6f2059c0b9de\" target=\"_top\" title=\"psysml:7c20260d-33cb-4904-8feb-6f2059c0b9de\" xlink:actuate=\"onRequest\" xlink:href=\"psysml:7c20260d-33cb-4904-8feb-6f2059c0b9de\" xlink:show=\"new\" xlink:title=\"psysml:7c20260d-33cb-4904-8feb-6f2059c0b9de\" xlink:type=\"simple\"><rect fill=\"#FEFECE\" filter=\"url(#fqazx6cc4u2aw)\" height=\"40\" id=\"E6\" rx=\"10\" ry=\"10\" style=\"stroke: #A80036; stroke-width: 1.5;\" width=\"60\" x=\"372\" y=\"44\"/><ellipse cx=\"389.25\" cy=\"60\" fill=\"#B6DBBB\" rx=\"11\" ry=\"11\" style=\"stroke: #A80036; stroke-width: 1.0;\"/><path d=\"M385.125,61.9219 L385.125,54.1094 L387.5781,54.1094 L387.5781,62.5469 Q387.5781,63.4688 388.0469,64 Q388.5313,64.5313 389.3594,64.5313 Q390.2031,64.5313 390.6719,64 Q391.1406,63.4688 391.1406,62.5469 L391.1406,54.1094 L393.5938,54.1094 L393.5938,61.9219 Q393.5938,64.4531 392.5938,65.5938 Q391.5938,66.7344 389.3594,66.7344 Q387.1406,66.7344 386.125,65.5938 Q385.125,64.4531 385.125,61.9219 Z \"/><text fill=\"#000000\" font-family=\"sans-serif\" font-size=\"12\" lengthAdjust=\"spacingAndGlyphs\" textLength=\"23\" x=\"403.75\" y=\"64.1543\">c: P</text></a></g><g id=\"E1.E7\"><a href=\"psysml:a788bf26-d852-4daf-8a66-fd926f14abf3\" target=\"_top\" title=\"psysml:a788bf26-d852-4daf-8a66-fd926f14abf3\" xlink:actuate=\"onRequest\" xlink:href=\"psysml:a788bf26-d852-4daf-8a66-fd926f14abf3\" xlink:show=\"new\" xlink:title=\"psysml:a788bf26-d852-4daf-8a66-fd926f14abf3\" xlink:type=\"simple\"><rect fill=\"#FEFECE\" filter=\"url(#fqazx6cc4u2aw)\" height=\"40\" id=\"E7\" rx=\"10\" ry=\"10\" style=\"stroke: #A80036; stroke-width: 1.5;\" width=\"50\" x=\"287\" y=\"44\"/><ellipse cx=\"306.5\" cy=\"60\" fill=\"#B6DBBB\" rx=\"11\" ry=\"11\" style=\"stroke: #A80036; stroke-width: 1.0;\"/><path d=\"M302.375,61.9219 L302.375,54.1094 L304.8281,54.1094 L304.8281,62.5469 Q304.8281,63.4688 305.2969,64 Q305.7813,64.5313 306.6094,64.5313 Q307.4531,64.5313 307.9219,64 Q308.3906,63.4688 308.3906,62.5469 L308.3906,54.1094 L310.8438,54.1094 L310.8438,61.9219 Q310.8438,64.4531 309.8438,65.5938 Q308.8438,66.7344 306.6094,66.7344 Q304.3906,66.7344 303.375,65.5938 Q302.375,64.4531 302.375,61.9219 Z \"/><text fill=\"#000000\" font-family=\"sans-serif\" font-size=\"12\" lengthAdjust=\"spacingAndGlyphs\" textLength=\"8\" x=\"321.5\" y=\"64.1543\">d</text></a></g><g id=\"E1.E8\"><a href=\"psysml:8ca44daa-798d-42ea-8082-fded64fdb257\" target=\"_top\" title=\"psysml:8ca44daa-798d-42ea-8082-fded64fdb257\" xlink:actuate=\"onRequest\" xlink:href=\"psysml:8ca44daa-798d-42ea-8082-fded64fdb257\" xlink:show=\"new\" xlink:title=\"psysml:8ca44daa-798d-42ea-8082-fded64fdb257\" xlink:type=\"simple\"><rect fill=\"#FEFECE\" filter=\"url(#fqazx6cc4u2aw)\" height=\"40\" id=\"E8\" rx=\"10\" ry=\"10\" style=\"stroke: #A80036; stroke-width: 1.5;\" width=\"50\" x=\"202\" y=\"44\"/><ellipse cx=\"221.5\" cy=\"60\" fill=\"#B6DBBB\" rx=\"11\" ry=\"11\" style=\"stroke: #A80036; stroke-width: 1.0;\"/><path d=\"M217.375,61.9219 L217.375,54.1094 L219.8281,54.1094 L219.8281,62.5469 Q219.8281,63.4688 220.2969,64 Q220.7813,64.5313 221.6094,64.5313 Q222.4531,64.5313 222.9219,64 Q223.3906,63.4688 223.3906,62.5469 L223.3906,54.1094 L225.8438,54.1094 L225.8438,61.9219 Q225.8438,64.4531 224.8438,65.5938 Q223.8438,66.7344 221.6094,66.7344 Q219.3906,66.7344 218.375,65.5938 Q217.375,64.4531 217.375,61.9219 Z \"/><text fill=\"#000000\" font-family=\"sans-serif\" font-size=\"12\" lengthAdjust=\"spacingAndGlyphs\" textLength=\"8\" x=\"236.5\" y=\"64.1543\">e</text></a></g><g id=\"E1.E9\"><a href=\"psysml:94368454-840d-4091-abdb-e19ae5322c54\" target=\"_top\" title=\"psysml:94368454-840d-4091-abdb-e19ae5322c54\" xlink:actuate=\"onRequest\" xlink:href=\"psysml:94368454-840d-4091-abdb-e19ae5322c54\" xlink:show=\"new\" xlink:title=\"psysml:94368454-840d-4091-abdb-e19ae5322c54\" xlink:type=\"simple\"><rect fill=\"#FEFECE\" filter=\"url(#fqazx6cc4u2aw)\" height=\"40\" id=\"E9\" rx=\"10\" ry=\"10\" style=\"stroke: #A80036; stroke-width: 1.5;\" width=\"50\" x=\"117\" y=\"44\"/><ellipse cx=\"138.3\" cy=\"60\" fill=\"#B6DBBB\" rx=\"11\" ry=\"11\" style=\"stroke: #A80036; stroke-width: 1.0;\"/><path d=\"M134.175,61.9219 L134.175,54.1094 L136.6281,54.1094 L136.6281,62.5469 Q136.6281,63.4688 137.0969,64 Q137.5813,64.5313 138.4094,64.5313 Q139.2531,64.5313 139.7219,64 Q140.1906,63.4688 140.1906,62.5469 L140.1906,54.1094 L142.6438,54.1094 L142.6438,61.9219 Q142.6438,64.4531 141.6438,65.5938 Q140.6438,66.7344 138.4094,66.7344 Q136.1906,66.7344 135.175,65.5938 Q134.175,64.4531 134.175,61.9219 Z \"/><text fill=\"#000000\" font-family=\"sans-serif\" font-size=\"12\" lengthAdjust=\"spacingAndGlyphs\" textLength=\"4\" x=\"153.7\" y=\"64.1543\">f</text></a></g><g id=\"E1.E10\"><a href=\"psysml:8f8b3cba-ab00-4478-b69f-246a2e072be5\" target=\"_top\" title=\"psysml:8f8b3cba-ab00-4478-b69f-246a2e072be5\" xlink:actuate=\"onRequest\" xlink:href=\"psysml:8f8b3cba-ab00-4478-b69f-246a2e072be5\" xlink:show=\"new\" xlink:title=\"psysml:8f8b3cba-ab00-4478-b69f-246a2e072be5\" xlink:type=\"simple\"><rect fill=\"#FEFECE\" filter=\"url(#fqazx6cc4u2aw)\" height=\"40\" id=\"E10\" rx=\"10\" ry=\"10\" style=\"stroke: #A80036; stroke-width: 1.5;\" width=\"50\" x=\"32\" y=\"44\"/><ellipse cx=\"51.5\" cy=\"60\" fill=\"#B6DBBB\" rx=\"11\" ry=\"11\" style=\"stroke: #A80036; stroke-width: 1.0;\"/><path d=\"M47.375,61.9219 L47.375,54.1094 L49.8281,54.1094 L49.8281,62.5469 Q49.8281,63.4688 50.2969,64 Q50.7813,64.5313 51.6094,64.5313 Q52.4531,64.5313 52.9219,64 Q53.3906,63.4688 53.3906,62.5469 L53.3906,54.1094 L55.8438,54.1094 L55.8438,61.9219 Q55.8438,64.4531 54.8438,65.5938 Q53.8438,66.7344 51.6094,66.7344 Q49.3906,66.7344 48.375,65.5938 Q47.375,64.4531 47.375,61.9219 Z \"/><text fill=\"#000000\" font-family=\"sans-serif\" font-size=\"12\" lengthAdjust=\"spacingAndGlyphs\" textLength=\"8\" x=\"66.5\" y=\"64.1543\">g</text></a></g><!--MD5=[75aaeaea1a001b5d62a2ec979275aa33]\n",
       "@startuml\r\n",
       "skinparam ranksep 10\r\n",
       "skinparam rectangle {\r\n",
       " backgroundColor<<block>> LightGreen\r\n",
       "}\r\n",
       " \r\n",
       "package \"MultiplicityTest\" as E1  [[psysml:d21f1d33-c8d8-4d7e-915c-a1dc21839292 ]]  {\r\n",
       "rec def \"P\" as E2 << << (B,green) >> [[psysml:cfcc0fdc-4985-4a7c-8ed0-df1ec6a07f40 ]] {\r\n",
       "}\r\n",
       "comp usage \"n: Integer\" as E3 << <<(U,orange) attribute>> [[psysml:6504cd03-3352-435e-8e5a-44d60f096993 ]] {\r\n",
       "}\r\n",
       "rec usage \"a\" as E4  [[psysml:69df1372-c4de-42e4-b97b-1df20a9e4637 ]] {\r\n",
       "}\r\n",
       "rec usage \"b: P\" as E5  [[psysml:ce135ed3-5db8-4159-aade-37d21406abf2 ]] {\r\n",
       "}\r\n",
       "rec usage \"c: P\" as E6  [[psysml:7c20260d-33cb-4904-8feb-6f2059c0b9de ]] {\r\n",
       "}\r\n",
       "rec usage \"d\" as E7  [[psysml:a788bf26-d852-4daf-8a66-fd926f14abf3 ]] {\r\n",
       "}\r\n",
       "rec usage \"e\" as E8  [[psysml:8ca44daa-798d-42ea-8082-fded64fdb257 ]] {\r\n",
       "}\r\n",
       "rec usage \"f\" as E9  [[psysml:94368454-840d-4091-abdb-e19ae5322c54 ]] {\r\n",
       "}\r\n",
       "rec usage \"g\" as E10  [[psysml:8f8b3cba-ab00-4478-b69f-246a2e072be5 ]] {\r\n",
       "}\r\n",
       "def \"A\" as E11 << <<(D,brown) attribute def>> [[psysml:2c45c451-c8b5-4e48-8592-55fa30d535c5 ]] \r\n",
       "}\r\n",
       "@enduml\r\n",
       "\n",
       "PlantUML version 1.2020.13(Sat Jun 13 12:26:38 UTC 2020)\n",
       "(EPL source distribution)\n",
       "Java Runtime: OpenJDK Runtime Environment\n",
       "JVM: OpenJDK 64-Bit Server VM\n",
       "Default Encoding: UTF-8\n",
       "Language: en\n",
       "Country: null\n",
       "--></g></svg>"
      ]
     },
     "execution_count": 33,
     "metadata": {},
     "output_type": "execute_result"
    }
   ],
   "source": [
    "%viz --style=\"PLANTUML\" --view=\"Interconnection\" \"MultiplicityTest\""
   ]
  },
  {
   "cell_type": "code",
   "execution_count": 34,
   "id": "697cb144",
   "metadata": {
    "execution": {
     "iopub.execute_input": "2021-06-30T09:24:32.675624Z",
     "iopub.status.busy": "2021-06-30T09:24:32.675136Z",
     "iopub.status.idle": "2021-06-30T09:24:32.680908Z",
     "shell.execute_reply": "2021-06-30T09:24:32.680583Z"
    }
   },
   "outputs": [
    {
     "data": {
      "image/svg+xml": [
       "<?xml version=\"1.0\" encoding=\"UTF-8\" standalone=\"no\"?><svg xmlns=\"http://www.w3.org/2000/svg\" xmlns:xlink=\"http://www.w3.org/1999/xlink\" contentScriptType=\"application/ecmascript\" contentStyleType=\"text/css\" height=\"12px\" preserveAspectRatio=\"none\" style=\"width:12px;height:12px;\" version=\"1.1\" viewBox=\"0 0 12 12\" width=\"12px\" zoomAndPan=\"magnify\"><defs/><g><!--MD5=[6a4cb978cab31700e1ce5529f947a75d]\n",
       "@startuml\r\n",
       "skinparam ranksep 8\r\n",
       " \r\n",
       "@enduml\r\n",
       "\n",
       "PlantUML version 1.2020.13(Sat Jun 13 12:26:38 UTC 2020)\n",
       "(EPL source distribution)\n",
       "Java Runtime: OpenJDK Runtime Environment\n",
       "JVM: OpenJDK 64-Bit Server VM\n",
       "Default Encoding: UTF-8\n",
       "Language: en\n",
       "Country: null\n",
       "--></g></svg>"
      ]
     },
     "execution_count": 34,
     "metadata": {},
     "output_type": "execute_result"
    }
   ],
   "source": [
    "%viz --style=\"PLANTUML\" --view=\"Action\" \"MultiplicityTest\""
   ]
  },
  {
   "cell_type": "code",
   "execution_count": 35,
   "id": "46833e87",
   "metadata": {
    "execution": {
     "iopub.execute_input": "2021-06-30T09:24:32.731102Z",
     "iopub.status.busy": "2021-06-30T09:24:32.730693Z",
     "iopub.status.idle": "2021-06-30T09:24:32.770203Z",
     "shell.execute_reply": "2021-06-30T09:24:32.769859Z"
    }
   },
   "outputs": [
    {
     "data": {
      "image/svg+xml": [
       "<?xml version=\"1.0\" encoding=\"UTF-8\" standalone=\"no\"?><svg xmlns=\"http://www.w3.org/2000/svg\" xmlns:xlink=\"http://www.w3.org/1999/xlink\" contentScriptType=\"application/ecmascript\" contentStyleType=\"text/css\" height=\"241px\" preserveAspectRatio=\"none\" style=\"width:1045px;height:241px;\" version=\"1.1\" viewBox=\"0 0 1045 241\" width=\"1045px\" zoomAndPan=\"magnify\"><defs><filter height=\"300%\" id=\"fgjk01w0r6uza\" width=\"300%\" x=\"-1\" y=\"-1\"><feGaussianBlur result=\"blurOut\" stdDeviation=\"2.0\"/><feColorMatrix in=\"blurOut\" result=\"blurOut2\" type=\"matrix\" values=\"0 0 0 0 0 0 0 0 0 0 0 0 0 0 0 0 0 0 .4 0\"/><feOffset dx=\"4.0\" dy=\"4.0\" in=\"blurOut2\" result=\"blurOut3\"/><feBlend in=\"SourceGraphic\" in2=\"blurOut3\" mode=\"normal\"/></filter></defs><g><!--MD5=[fbc87193dbaf4d95561dea2c320d4a47]\n",
       "cluster E1--><a href=\"psysml:d21f1d33-c8d8-4d7e-915c-a1dc21839292\" target=\"_top\" title=\"psysml:d21f1d33-c8d8-4d7e-915c-a1dc21839292\" xlink:actuate=\"onRequest\" xlink:href=\"psysml:d21f1d33-c8d8-4d7e-915c-a1dc21839292\" xlink:show=\"new\" xlink:title=\"psysml:d21f1d33-c8d8-4d7e-915c-a1dc21839292\" xlink:type=\"simple\"><polygon fill=\"#FFFFFF\" filter=\"url(#fgjk01w0r6uza)\" points=\"16,6,140,6,147,28.2969,1023,28.2969,1023,229,16,229,16,6\" style=\"stroke: #000000; stroke-width: 1.5;\"/><line style=\"stroke: #000000; stroke-width: 1.5;\" x1=\"16\" x2=\"147\" y1=\"28.2969\" y2=\"28.2969\"/><text fill=\"#000000\" font-family=\"sans-serif\" font-size=\"14\" font-weight=\"bold\" lengthAdjust=\"spacingAndGlyphs\" textLength=\"118\" x=\"20\" y=\"20.9951\">MultiplicityTest</text></a><!--MD5=[b4997ac47864f28c2f74865a473b2911]\n",
       "class E2--><a href=\"psysml:cfcc0fdc-4985-4a7c-8ed0-df1ec6a07f40\" target=\"_top\" title=\"psysml:cfcc0fdc-4985-4a7c-8ed0-df1ec6a07f40\" xlink:actuate=\"onRequest\" xlink:href=\"psysml:cfcc0fdc-4985-4a7c-8ed0-df1ec6a07f40\" xlink:show=\"new\" xlink:title=\"psysml:cfcc0fdc-4985-4a7c-8ed0-df1ec6a07f40\" xlink:type=\"simple\"><rect fill=\"#FEFECE\" filter=\"url(#fgjk01w0r6uza)\" height=\"40\" id=\"E2\" style=\"stroke: #A80036; stroke-width: 1.5;\" width=\"40\" x=\"666\" y=\"173\"/><ellipse cx=\"681\" cy=\"189\" fill=\"#008000\" rx=\"11\" ry=\"11\" style=\"stroke: #A80036; stroke-width: 1.0;\"/><path d=\"M679.9063,189.375 L679.9063,193.0469 L681.5313,193.0469 Q682.7031,193.0469 683.1719,192.6563 Q683.6406,192.25 683.6406,191.25 Q683.6406,190.25 683.1406,189.8125 Q682.6563,189.375 681.5313,189.375 L679.9063,189.375 Z M679.9063,184.5469 L679.9063,187.4219 L681.5313,187.4219 Q682.4531,187.4219 682.8438,187.0938 Q683.25,186.75 683.25,186 Q683.25,185.2344 682.8438,184.8906 Q682.4375,184.5469 681.5313,184.5469 L679.9063,184.5469 Z M677.5313,182.5938 L681.5313,182.5938 Q683.5938,182.5938 684.6406,183.375 Q685.6875,184.1563 685.6875,185.7188 Q685.6875,186.9219 685.0625,187.5938 Q684.4531,188.2656 683.2656,188.375 Q684.6875,188.5156 685.4063,189.3281 Q686.125,190.1406 686.125,191.5938 Q686.125,193.3906 685.0469,194.2031 Q683.9688,195 681.5313,195 L677.5313,195 L677.5313,182.5938 Z \"/><text fill=\"#000000\" font-family=\"sans-serif\" font-size=\"12\" lengthAdjust=\"spacingAndGlyphs\" textLength=\"8\" x=\"695\" y=\"193.1543\">P</text><line style=\"stroke: #A80036; stroke-width: 1.5;\" x1=\"667\" x2=\"705\" y1=\"205\" y2=\"205\"/></a><!--MD5=[09b614a08d8cba4a07c9adeb5e0fee81]\n",
       "class E3--><a href=\"psysml:6504cd03-3352-435e-8e5a-44d60f096993\" target=\"_top\" title=\"psysml:6504cd03-3352-435e-8e5a-44d60f096993\" xlink:actuate=\"onRequest\" xlink:href=\"psysml:6504cd03-3352-435e-8e5a-44d60f096993\" xlink:show=\"new\" xlink:title=\"psysml:6504cd03-3352-435e-8e5a-44d60f096993\" xlink:type=\"simple\"><rect fill=\"#FEFECE\" filter=\"url(#fgjk01w0r6uza)\" height=\"45.9375\" id=\"E3\" rx=\"10\" ry=\"10\" style=\"stroke: #A80036; stroke-width: 1.5;\" width=\"97\" x=\"910.5\" y=\"54\"/><ellipse cx=\"925.5\" cy=\"72.9688\" fill=\"#FFA500\" rx=\"11\" ry=\"11\" style=\"stroke: #A80036; stroke-width: 1.0;\"/><path d=\"M921.375,74.8906 L921.375,67.0781 L923.8281,67.0781 L923.8281,75.5156 Q923.8281,76.4375 924.2969,76.9688 Q924.7813,77.5 925.6094,77.5 Q926.4531,77.5 926.9219,76.9688 Q927.3906,76.4375 927.3906,75.5156 L927.3906,67.0781 L929.8438,67.0781 L929.8438,74.8906 Q929.8438,77.4219 928.8438,78.5625 Q927.8438,79.7031 925.6094,79.7031 Q923.3906,79.7031 922.375,78.5625 Q921.375,77.4219 921.375,74.8906 Z \"/><text fill=\"#000000\" font-family=\"sans-serif\" font-size=\"12\" font-style=\"italic\" lengthAdjust=\"spacingAndGlyphs\" textLength=\"69\" x=\"937.5\" y=\"70.1387\">«attribute»</text><text fill=\"#000000\" font-family=\"sans-serif\" font-size=\"12\" lengthAdjust=\"spacingAndGlyphs\" textLength=\"61\" x=\"941.5\" y=\"84.1074\">n: Integer</text><line style=\"stroke: #A80036; stroke-width: 1.5;\" x1=\"911.5\" x2=\"1006.5\" y1=\"91.9375\" y2=\"91.9375\"/></a><!--MD5=[ebbe1d658d1005bcc118a6aa81145e00]\n",
       "class E4--><a href=\"psysml:69df1372-c4de-42e4-b97b-1df20a9e4637\" target=\"_top\" title=\"psysml:69df1372-c4de-42e4-b97b-1df20a9e4637\" xlink:actuate=\"onRequest\" xlink:href=\"psysml:69df1372-c4de-42e4-b97b-1df20a9e4637\" xlink:show=\"new\" xlink:title=\"psysml:69df1372-c4de-42e4-b97b-1df20a9e4637\" xlink:type=\"simple\"><rect fill=\"#FEFECE\" filter=\"url(#fgjk01w0r6uza)\" height=\"45.9375\" id=\"E4\" rx=\"10\" ry=\"10\" style=\"stroke: #A80036; stroke-width: 1.5;\" width=\"68\" x=\"807\" y=\"54\"/><ellipse cx=\"822\" cy=\"72.9688\" fill=\"#32CD32\" rx=\"11\" ry=\"11\" style=\"stroke: #A80036; stroke-width: 1.0;\"/><path d=\"M821.7969,68.6406 L821.7969,72.2656 L822.7969,72.2656 Q824,72.2656 824.4844,71.8594 Q824.9688,71.4531 824.9688,70.4531 Q824.9688,69.4531 824.4844,69.0469 Q824,68.6406 822.7969,68.6406 L821.7969,68.6406 Z M819.3438,66.5781 L822.7031,66.5781 Q825.2656,66.5781 826.3906,67.5 Q827.5156,68.4063 827.5156,70.4531 Q827.5156,72.5 826.3906,73.4219 Q825.2656,74.3281 822.7031,74.3281 L821.7969,74.3281 L821.7969,78.9688 L819.3438,78.9688 L819.3438,66.5781 Z \"/><text fill=\"#000000\" font-family=\"sans-serif\" font-size=\"12\" font-style=\"italic\" lengthAdjust=\"spacingAndGlyphs\" textLength=\"40\" x=\"834\" y=\"70.1387\">«part»</text><text fill=\"#000000\" font-family=\"sans-serif\" font-size=\"12\" lengthAdjust=\"spacingAndGlyphs\" textLength=\"8\" x=\"850\" y=\"84.1074\">a</text><line style=\"stroke: #A80036; stroke-width: 1.5;\" x1=\"808\" x2=\"874\" y1=\"91.9375\" y2=\"91.9375\"/></a><!--MD5=[270fce915f116d4de14055a7c1d9a0f3]\n",
       "class E5--><a href=\"psysml:ce135ed3-5db8-4159-aade-37d21406abf2\" target=\"_top\" title=\"psysml:ce135ed3-5db8-4159-aade-37d21406abf2\" xlink:actuate=\"onRequest\" xlink:href=\"psysml:ce135ed3-5db8-4159-aade-37d21406abf2\" xlink:show=\"new\" xlink:title=\"psysml:ce135ed3-5db8-4159-aade-37d21406abf2\" xlink:type=\"simple\"><rect fill=\"#FEFECE\" filter=\"url(#fgjk01w0r6uza)\" height=\"45.9375\" id=\"E5\" rx=\"10\" ry=\"10\" style=\"stroke: #A80036; stroke-width: 1.5;\" width=\"68\" x=\"704\" y=\"54\"/><ellipse cx=\"719\" cy=\"72.9688\" fill=\"#32CD32\" rx=\"11\" ry=\"11\" style=\"stroke: #A80036; stroke-width: 1.0;\"/><path d=\"M718.7969,68.6406 L718.7969,72.2656 L719.7969,72.2656 Q721,72.2656 721.4844,71.8594 Q721.9688,71.4531 721.9688,70.4531 Q721.9688,69.4531 721.4844,69.0469 Q721,68.6406 719.7969,68.6406 L718.7969,68.6406 Z M716.3438,66.5781 L719.7031,66.5781 Q722.2656,66.5781 723.3906,67.5 Q724.5156,68.4063 724.5156,70.4531 Q724.5156,72.5 723.3906,73.4219 Q722.2656,74.3281 719.7031,74.3281 L718.7969,74.3281 L718.7969,78.9688 L716.3438,78.9688 L716.3438,66.5781 Z \"/><text fill=\"#000000\" font-family=\"sans-serif\" font-size=\"12\" font-style=\"italic\" lengthAdjust=\"spacingAndGlyphs\" textLength=\"40\" x=\"731\" y=\"70.1387\">«part»</text><text fill=\"#000000\" font-family=\"sans-serif\" font-size=\"12\" lengthAdjust=\"spacingAndGlyphs\" textLength=\"24\" x=\"739\" y=\"84.1074\">b: P</text><line style=\"stroke: #A80036; stroke-width: 1.5;\" x1=\"705\" x2=\"771\" y1=\"91.9375\" y2=\"91.9375\"/></a><!--MD5=[60a26617385b1d2d0262a64233df1f8d]\n",
       "class E6--><a href=\"psysml:7c20260d-33cb-4904-8feb-6f2059c0b9de\" target=\"_top\" title=\"psysml:7c20260d-33cb-4904-8feb-6f2059c0b9de\" xlink:actuate=\"onRequest\" xlink:href=\"psysml:7c20260d-33cb-4904-8feb-6f2059c0b9de\" xlink:show=\"new\" xlink:title=\"psysml:7c20260d-33cb-4904-8feb-6f2059c0b9de\" xlink:type=\"simple\"><rect fill=\"#FEFECE\" filter=\"url(#fgjk01w0r6uza)\" height=\"45.9375\" id=\"E6\" rx=\"10\" ry=\"10\" style=\"stroke: #A80036; stroke-width: 1.5;\" width=\"68\" x=\"601\" y=\"54\"/><ellipse cx=\"616\" cy=\"72.9688\" fill=\"#32CD32\" rx=\"11\" ry=\"11\" style=\"stroke: #A80036; stroke-width: 1.0;\"/><path d=\"M615.7969,68.6406 L615.7969,72.2656 L616.7969,72.2656 Q618,72.2656 618.4844,71.8594 Q618.9688,71.4531 618.9688,70.4531 Q618.9688,69.4531 618.4844,69.0469 Q618,68.6406 616.7969,68.6406 L615.7969,68.6406 Z M613.3438,66.5781 L616.7031,66.5781 Q619.2656,66.5781 620.3906,67.5 Q621.5156,68.4063 621.5156,70.4531 Q621.5156,72.5 620.3906,73.4219 Q619.2656,74.3281 616.7031,74.3281 L615.7969,74.3281 L615.7969,78.9688 L613.3438,78.9688 L613.3438,66.5781 Z \"/><text fill=\"#000000\" font-family=\"sans-serif\" font-size=\"12\" font-style=\"italic\" lengthAdjust=\"spacingAndGlyphs\" textLength=\"40\" x=\"628\" y=\"70.1387\">«part»</text><text fill=\"#000000\" font-family=\"sans-serif\" font-size=\"12\" lengthAdjust=\"spacingAndGlyphs\" textLength=\"23\" x=\"636.5\" y=\"84.1074\">c: P</text><line style=\"stroke: #A80036; stroke-width: 1.5;\" x1=\"602\" x2=\"668\" y1=\"91.9375\" y2=\"91.9375\"/></a><!--MD5=[2156ba9850f5573cc1fc38a6a4b2f02b]\n",
       "class E7--><a href=\"psysml:a788bf26-d852-4daf-8a66-fd926f14abf3\" target=\"_top\" title=\"psysml:a788bf26-d852-4daf-8a66-fd926f14abf3\" xlink:actuate=\"onRequest\" xlink:href=\"psysml:a788bf26-d852-4daf-8a66-fd926f14abf3\" xlink:show=\"new\" xlink:title=\"psysml:a788bf26-d852-4daf-8a66-fd926f14abf3\" xlink:type=\"simple\"><rect fill=\"#FEFECE\" filter=\"url(#fgjk01w0r6uza)\" height=\"45.9375\" id=\"E7\" rx=\"10\" ry=\"10\" style=\"stroke: #A80036; stroke-width: 1.5;\" width=\"68\" x=\"498\" y=\"54\"/><ellipse cx=\"513\" cy=\"72.9688\" fill=\"#32CD32\" rx=\"11\" ry=\"11\" style=\"stroke: #A80036; stroke-width: 1.0;\"/><path d=\"M512.7969,68.6406 L512.7969,72.2656 L513.7969,72.2656 Q515,72.2656 515.4844,71.8594 Q515.9688,71.4531 515.9688,70.4531 Q515.9688,69.4531 515.4844,69.0469 Q515,68.6406 513.7969,68.6406 L512.7969,68.6406 Z M510.3438,66.5781 L513.7031,66.5781 Q516.2656,66.5781 517.3906,67.5 Q518.5156,68.4063 518.5156,70.4531 Q518.5156,72.5 517.3906,73.4219 Q516.2656,74.3281 513.7031,74.3281 L512.7969,74.3281 L512.7969,78.9688 L510.3438,78.9688 L510.3438,66.5781 Z \"/><text fill=\"#000000\" font-family=\"sans-serif\" font-size=\"12\" font-style=\"italic\" lengthAdjust=\"spacingAndGlyphs\" textLength=\"40\" x=\"525\" y=\"70.1387\">«part»</text><text fill=\"#000000\" font-family=\"sans-serif\" font-size=\"12\" lengthAdjust=\"spacingAndGlyphs\" textLength=\"8\" x=\"541\" y=\"84.1074\">d</text><line style=\"stroke: #A80036; stroke-width: 1.5;\" x1=\"499\" x2=\"565\" y1=\"91.9375\" y2=\"91.9375\"/></a><!--MD5=[b9389687b975829384b498ac4b7476b2]\n",
       "class E8--><a href=\"psysml:8ca44daa-798d-42ea-8082-fded64fdb257\" target=\"_top\" title=\"psysml:8ca44daa-798d-42ea-8082-fded64fdb257\" xlink:actuate=\"onRequest\" xlink:href=\"psysml:8ca44daa-798d-42ea-8082-fded64fdb257\" xlink:show=\"new\" xlink:title=\"psysml:8ca44daa-798d-42ea-8082-fded64fdb257\" xlink:type=\"simple\"><rect fill=\"#FEFECE\" filter=\"url(#fgjk01w0r6uza)\" height=\"45.9375\" id=\"E8\" rx=\"10\" ry=\"10\" style=\"stroke: #A80036; stroke-width: 1.5;\" width=\"68\" x=\"395\" y=\"54\"/><ellipse cx=\"410\" cy=\"72.9688\" fill=\"#32CD32\" rx=\"11\" ry=\"11\" style=\"stroke: #A80036; stroke-width: 1.0;\"/><path d=\"M409.7969,68.6406 L409.7969,72.2656 L410.7969,72.2656 Q412,72.2656 412.4844,71.8594 Q412.9688,71.4531 412.9688,70.4531 Q412.9688,69.4531 412.4844,69.0469 Q412,68.6406 410.7969,68.6406 L409.7969,68.6406 Z M407.3438,66.5781 L410.7031,66.5781 Q413.2656,66.5781 414.3906,67.5 Q415.5156,68.4063 415.5156,70.4531 Q415.5156,72.5 414.3906,73.4219 Q413.2656,74.3281 410.7031,74.3281 L409.7969,74.3281 L409.7969,78.9688 L407.3438,78.9688 L407.3438,66.5781 Z \"/><text fill=\"#000000\" font-family=\"sans-serif\" font-size=\"12\" font-style=\"italic\" lengthAdjust=\"spacingAndGlyphs\" textLength=\"40\" x=\"422\" y=\"70.1387\">«part»</text><text fill=\"#000000\" font-family=\"sans-serif\" font-size=\"12\" lengthAdjust=\"spacingAndGlyphs\" textLength=\"8\" x=\"438\" y=\"84.1074\">e</text><line style=\"stroke: #A80036; stroke-width: 1.5;\" x1=\"396\" x2=\"462\" y1=\"91.9375\" y2=\"91.9375\"/></a><!--MD5=[fd4143e9d270a159db93a4ea2a975926]\n",
       "class E9--><a href=\"psysml:94368454-840d-4091-abdb-e19ae5322c54\" target=\"_top\" title=\"psysml:94368454-840d-4091-abdb-e19ae5322c54\" xlink:actuate=\"onRequest\" xlink:href=\"psysml:94368454-840d-4091-abdb-e19ae5322c54\" xlink:show=\"new\" xlink:title=\"psysml:94368454-840d-4091-abdb-e19ae5322c54\" xlink:type=\"simple\"><rect fill=\"#FEFECE\" filter=\"url(#fgjk01w0r6uza)\" height=\"45.9375\" id=\"E9\" rx=\"10\" ry=\"10\" style=\"stroke: #A80036; stroke-width: 1.5;\" width=\"68\" x=\"292\" y=\"54\"/><ellipse cx=\"307\" cy=\"72.9688\" fill=\"#32CD32\" rx=\"11\" ry=\"11\" style=\"stroke: #A80036; stroke-width: 1.0;\"/><path d=\"M306.7969,68.6406 L306.7969,72.2656 L307.7969,72.2656 Q309,72.2656 309.4844,71.8594 Q309.9688,71.4531 309.9688,70.4531 Q309.9688,69.4531 309.4844,69.0469 Q309,68.6406 307.7969,68.6406 L306.7969,68.6406 Z M304.3438,66.5781 L307.7031,66.5781 Q310.2656,66.5781 311.3906,67.5 Q312.5156,68.4063 312.5156,70.4531 Q312.5156,72.5 311.3906,73.4219 Q310.2656,74.3281 307.7031,74.3281 L306.7969,74.3281 L306.7969,78.9688 L304.3438,78.9688 L304.3438,66.5781 Z \"/><text fill=\"#000000\" font-family=\"sans-serif\" font-size=\"12\" font-style=\"italic\" lengthAdjust=\"spacingAndGlyphs\" textLength=\"40\" x=\"319\" y=\"70.1387\">«part»</text><text fill=\"#000000\" font-family=\"sans-serif\" font-size=\"12\" lengthAdjust=\"spacingAndGlyphs\" textLength=\"4\" x=\"337\" y=\"84.1074\">f</text><line style=\"stroke: #A80036; stroke-width: 1.5;\" x1=\"293\" x2=\"359\" y1=\"91.9375\" y2=\"91.9375\"/></a><!--MD5=[96f4274e9e20536e775497830990834d]\n",
       "class E10--><a href=\"psysml:8f8b3cba-ab00-4478-b69f-246a2e072be5\" target=\"_top\" title=\"psysml:8f8b3cba-ab00-4478-b69f-246a2e072be5\" xlink:actuate=\"onRequest\" xlink:href=\"psysml:8f8b3cba-ab00-4478-b69f-246a2e072be5\" xlink:show=\"new\" xlink:title=\"psysml:8f8b3cba-ab00-4478-b69f-246a2e072be5\" xlink:type=\"simple\"><rect fill=\"#FEFECE\" filter=\"url(#fgjk01w0r6uza)\" height=\"45.9375\" id=\"E10\" rx=\"10\" ry=\"10\" style=\"stroke: #A80036; stroke-width: 1.5;\" width=\"68\" x=\"189\" y=\"54\"/><ellipse cx=\"204\" cy=\"72.9688\" fill=\"#32CD32\" rx=\"11\" ry=\"11\" style=\"stroke: #A80036; stroke-width: 1.0;\"/><path d=\"M203.7969,68.6406 L203.7969,72.2656 L204.7969,72.2656 Q206,72.2656 206.4844,71.8594 Q206.9688,71.4531 206.9688,70.4531 Q206.9688,69.4531 206.4844,69.0469 Q206,68.6406 204.7969,68.6406 L203.7969,68.6406 Z M201.3438,66.5781 L204.7031,66.5781 Q207.2656,66.5781 208.3906,67.5 Q209.5156,68.4063 209.5156,70.4531 Q209.5156,72.5 208.3906,73.4219 Q207.2656,74.3281 204.7031,74.3281 L203.7969,74.3281 L203.7969,78.9688 L201.3438,78.9688 L201.3438,66.5781 Z \"/><text fill=\"#000000\" font-family=\"sans-serif\" font-size=\"12\" font-style=\"italic\" lengthAdjust=\"spacingAndGlyphs\" textLength=\"40\" x=\"216\" y=\"70.1387\">«part»</text><text fill=\"#000000\" font-family=\"sans-serif\" font-size=\"12\" lengthAdjust=\"spacingAndGlyphs\" textLength=\"8\" x=\"232\" y=\"84.1074\">g</text><line style=\"stroke: #A80036; stroke-width: 1.5;\" x1=\"190\" x2=\"256\" y1=\"91.9375\" y2=\"91.9375\"/></a><!--MD5=[1dd1bfd58a279cf63c5f349dbc8fc6a1]\n",
       "class E11--><a href=\"psysml:2c45c451-c8b5-4e48-8592-55fa30d535c5\" target=\"_top\" title=\"psysml:2c45c451-c8b5-4e48-8592-55fa30d535c5\" xlink:actuate=\"onRequest\" xlink:href=\"psysml:2c45c451-c8b5-4e48-8592-55fa30d535c5\" xlink:show=\"new\" xlink:title=\"psysml:2c45c451-c8b5-4e48-8592-55fa30d535c5\" xlink:type=\"simple\"><rect fill=\"#FEFECE\" filter=\"url(#fgjk01w0r6uza)\" height=\"71.5469\" id=\"E11\" style=\"stroke: #A80036; stroke-width: 1.5;\" width=\"121\" x=\"32.5\" y=\"41\"/><ellipse cx=\"47.5\" cy=\"59.9688\" fill=\"#A52A2A\" rx=\"11\" ry=\"11\" style=\"stroke: #A80036; stroke-width: 1.0;\"/><path d=\"M47.0938,55.7813 L47.0938,63.7656 L47.75,63.7656 Q49.1875,63.7656 49.7969,62.8594 Q50.4219,61.9375 50.4219,59.7656 Q50.4219,57.5938 49.7969,56.6875 Q49.1875,55.7813 47.75,55.7813 L47.0938,55.7813 Z M44.6406,53.5781 L47.2656,53.5781 Q50.2969,53.5781 51.625,55.0313 Q52.9688,56.4688 52.9688,59.7656 Q52.9688,63.0625 51.625,64.5156 Q50.2969,65.9688 47.2656,65.9688 L44.6406,65.9688 L44.6406,53.5781 Z \"/><text fill=\"#000000\" font-family=\"sans-serif\" font-size=\"12\" font-style=\"italic\" lengthAdjust=\"spacingAndGlyphs\" textLength=\"93\" x=\"59.5\" y=\"57.1387\">«attribute def»</text><text fill=\"#000000\" font-family=\"sans-serif\" font-size=\"12\" lengthAdjust=\"spacingAndGlyphs\" textLength=\"8\" x=\"102\" y=\"71.1074\">A</text><line style=\"stroke: #A80036; stroke-width: 1.5;\" x1=\"33.5\" x2=\"152.5\" y1=\"78.9375\" y2=\"78.9375\"/><text fill=\"#000000\" font-family=\"sans-serif\" font-size=\"11\" lengthAdjust=\"spacingAndGlyphs\" textLength=\"51\" x=\"38.5\" y=\"93.1479\">i: Integer</text><text fill=\"#000000\" font-family=\"sans-serif\" font-size=\"11\" lengthAdjust=\"spacingAndGlyphs\" textLength=\"21\" x=\"38.5\" y=\"105.9526\">x: A</text></a><!--MD5=[15ebcb19ae302d9b601edb458606d402]\n",
       "link E5 to E2--><a href=\"psysml:99c2055f-0301-4891-b65d-9e517e6365b1\" target=\"_top\" title=\"psysml:99c2055f-0301-4891-b65d-9e517e6365b1\" xlink:actuate=\"onRequest\" xlink:href=\"psysml:99c2055f-0301-4891-b65d-9e517e6365b1\" xlink:show=\"new\" xlink:title=\"psysml:99c2055f-0301-4891-b65d-9e517e6365b1\" xlink:type=\"simple\"><path d=\"M727.85,100.25 C720.81,115.68 711.27,136.61 703.07,154.58 \" fill=\"none\" id=\"E5-&gt;E2\" style=\"stroke: #A80036; stroke-width: 1.0;\"/><polygon fill=\"#FFFFFF\" points=\"694.74,172.84,696.2548,152.6483,708.9927,158.4573,694.74,172.84\" style=\"stroke: #A80036; stroke-width: 1.0;\"/><ellipse cx=\"700.4396\" cy=\"148.292\" fill=\"#A80036\" rx=\"2\" ry=\"2\" style=\"stroke: #A80036; stroke-width: 1.0;\"/><ellipse cx=\"709.5381\" cy=\"152.4413\" fill=\"#A80036\" rx=\"2\" ry=\"2\" style=\"stroke: #A80036; stroke-width: 1.0;\"/></a><!--MD5=[2351f337d6de0f557b50152ba70847b5]\n",
       "link E6 to E2--><a href=\"psysml:035f6493-28ba-4968-b761-0ab46a395f55\" target=\"_top\" title=\"psysml:035f6493-28ba-4968-b761-0ab46a395f55\" xlink:actuate=\"onRequest\" xlink:href=\"psysml:035f6493-28ba-4968-b761-0ab46a395f55\" xlink:show=\"new\" xlink:title=\"psysml:035f6493-28ba-4968-b761-0ab46a395f55\" xlink:type=\"simple\"><path d=\"M644.95,100.25 C651.86,115.68 661.22,136.61 669.26,154.58 \" fill=\"none\" id=\"E6-&gt;E2\" style=\"stroke: #A80036; stroke-width: 1.0;\"/><polygon fill=\"#FFFFFF\" points=\"677.43,172.84,663.2788,158.3574,676.0573,152.6381,677.43,172.84\" style=\"stroke: #A80036; stroke-width: 1.0;\"/><ellipse cx=\"662.7757\" cy=\"152.3377\" fill=\"#A80036\" rx=\"2\" ry=\"2\" style=\"stroke: #A80036; stroke-width: 1.0;\"/><ellipse cx=\"671.9032\" cy=\"148.2525\" fill=\"#A80036\" rx=\"2\" ry=\"2\" style=\"stroke: #A80036; stroke-width: 1.0;\"/></a><!--MD5=[87b0454f3c157444a722d78779101a7e]\n",
       "@startuml\r\n",
       " \r\n",
       "package \"MultiplicityTest\" as E1  [[psysml:d21f1d33-c8d8-4d7e-915c-a1dc21839292 ]]  {\r\n",
       "comp def \"P\" as E2 << << (B,green) >> [[psysml:cfcc0fdc-4985-4a7c-8ed0-df1ec6a07f40 ]] {\r\n",
       "}\r\n",
       "comp usage \"n: Integer\" as E3 << <<(U,orange) attribute>> [[psysml:6504cd03-3352-435e-8e5a-44d60f096993 ]] {\r\n",
       "}\r\n",
       "comp usage \"a\" as E4 << << (P,limegreen) part>> [[psysml:69df1372-c4de-42e4-b97b-1df20a9e4637 ]] {\r\n",
       "}\r\n",
       "comp usage \"b: P\" as E5 << << (P,limegreen) part>> [[psysml:ce135ed3-5db8-4159-aade-37d21406abf2 ]] {\r\n",
       "}\r\n",
       "comp usage \"c: P\" as E6 << << (P,limegreen) part>> [[psysml:7c20260d-33cb-4904-8feb-6f2059c0b9de ]] {\r\n",
       "}\r\n",
       "comp usage \"d\" as E7 << << (P,limegreen) part>> [[psysml:a788bf26-d852-4daf-8a66-fd926f14abf3 ]] {\r\n",
       "}\r\n",
       "comp usage \"e\" as E8 << << (P,limegreen) part>> [[psysml:8ca44daa-798d-42ea-8082-fded64fdb257 ]] {\r\n",
       "}\r\n",
       "comp usage \"f\" as E9 << << (P,limegreen) part>> [[psysml:94368454-840d-4091-abdb-e19ae5322c54 ]] {\r\n",
       "}\r\n",
       "comp usage \"g\" as E10 << << (P,limegreen) part>> [[psysml:8f8b3cba-ab00-4478-b69f-246a2e072be5 ]] {\r\n",
       "}\r\n",
       "comp def \"A\" as E11 << <<(D,brown) attribute def>> [[psysml:2c45c451-c8b5-4e48-8592-55fa30d535c5 ]] {\r\n",
       "i: Integer\r\n",
       "x: A\r\n",
       "}\r\n",
       "E5 - -:|> E2 [[psysml:99c2055f-0301-4891-b65d-9e517e6365b1 ]] \r\n",
       "E6 - -:|> E2 [[psysml:035f6493-28ba-4968-b761-0ab46a395f55 ]] \r\n",
       "}\r\n",
       "@enduml\r\n",
       "\n",
       "PlantUML version 1.2020.13(Sat Jun 13 12:26:38 UTC 2020)\n",
       "(EPL source distribution)\n",
       "Java Runtime: OpenJDK Runtime Environment\n",
       "JVM: OpenJDK 64-Bit Server VM\n",
       "Default Encoding: UTF-8\n",
       "Language: en\n",
       "Country: null\n",
       "--></g></svg>"
      ]
     },
     "execution_count": 35,
     "metadata": {},
     "output_type": "execute_result"
    }
   ],
   "source": [
    "%viz --style=\"PLANTUML\" --view=\"Sequence\" \"MultiplicityTest\""
   ]
  },
  {
   "cell_type": "code",
   "execution_count": 36,
   "id": "77d73b3d",
   "metadata": {
    "execution": {
     "iopub.execute_input": "2021-06-30T09:24:32.820863Z",
     "iopub.status.busy": "2021-06-30T09:24:32.820248Z",
     "iopub.status.idle": "2021-06-30T09:24:32.868425Z",
     "shell.execute_reply": "2021-06-30T09:24:32.867986Z"
    }
   },
   "outputs": [
    {
     "data": {
      "image/svg+xml": [
       "<?xml version=\"1.0\" encoding=\"UTF-8\" standalone=\"no\"?><svg xmlns=\"http://www.w3.org/2000/svg\" xmlns:xlink=\"http://www.w3.org/1999/xlink\" contentScriptType=\"application/ecmascript\" contentStyleType=\"text/css\" height=\"241px\" preserveAspectRatio=\"none\" style=\"width:1045px;height:241px;\" version=\"1.1\" viewBox=\"0 0 1045 241\" width=\"1045px\" zoomAndPan=\"magnify\"><defs><filter height=\"300%\" id=\"fgjk01w0r6uza\" width=\"300%\" x=\"-1\" y=\"-1\"><feGaussianBlur result=\"blurOut\" stdDeviation=\"2.0\"/><feColorMatrix in=\"blurOut\" result=\"blurOut2\" type=\"matrix\" values=\"0 0 0 0 0 0 0 0 0 0 0 0 0 0 0 0 0 0 .4 0\"/><feOffset dx=\"4.0\" dy=\"4.0\" in=\"blurOut2\" result=\"blurOut3\"/><feBlend in=\"SourceGraphic\" in2=\"blurOut3\" mode=\"normal\"/></filter></defs><g><!--MD5=[fbc87193dbaf4d95561dea2c320d4a47]\n",
       "cluster E1--><a href=\"psysml:d21f1d33-c8d8-4d7e-915c-a1dc21839292\" target=\"_top\" title=\"psysml:d21f1d33-c8d8-4d7e-915c-a1dc21839292\" xlink:actuate=\"onRequest\" xlink:href=\"psysml:d21f1d33-c8d8-4d7e-915c-a1dc21839292\" xlink:show=\"new\" xlink:title=\"psysml:d21f1d33-c8d8-4d7e-915c-a1dc21839292\" xlink:type=\"simple\"><polygon fill=\"#FFFFFF\" filter=\"url(#fgjk01w0r6uza)\" points=\"16,6,140,6,147,28.2969,1023,28.2969,1023,229,16,229,16,6\" style=\"stroke: #000000; stroke-width: 1.5;\"/><line style=\"stroke: #000000; stroke-width: 1.5;\" x1=\"16\" x2=\"147\" y1=\"28.2969\" y2=\"28.2969\"/><text fill=\"#000000\" font-family=\"sans-serif\" font-size=\"14\" font-weight=\"bold\" lengthAdjust=\"spacingAndGlyphs\" textLength=\"118\" x=\"20\" y=\"20.9951\">MultiplicityTest</text></a><!--MD5=[b4997ac47864f28c2f74865a473b2911]\n",
       "class E2--><a href=\"psysml:cfcc0fdc-4985-4a7c-8ed0-df1ec6a07f40\" target=\"_top\" title=\"psysml:cfcc0fdc-4985-4a7c-8ed0-df1ec6a07f40\" xlink:actuate=\"onRequest\" xlink:href=\"psysml:cfcc0fdc-4985-4a7c-8ed0-df1ec6a07f40\" xlink:show=\"new\" xlink:title=\"psysml:cfcc0fdc-4985-4a7c-8ed0-df1ec6a07f40\" xlink:type=\"simple\"><rect fill=\"#FEFECE\" filter=\"url(#fgjk01w0r6uza)\" height=\"40\" id=\"E2\" style=\"stroke: #A80036; stroke-width: 1.5;\" width=\"40\" x=\"666\" y=\"173\"/><ellipse cx=\"681\" cy=\"189\" fill=\"#008000\" rx=\"11\" ry=\"11\" style=\"stroke: #A80036; stroke-width: 1.0;\"/><path d=\"M679.9063,189.375 L679.9063,193.0469 L681.5313,193.0469 Q682.7031,193.0469 683.1719,192.6563 Q683.6406,192.25 683.6406,191.25 Q683.6406,190.25 683.1406,189.8125 Q682.6563,189.375 681.5313,189.375 L679.9063,189.375 Z M679.9063,184.5469 L679.9063,187.4219 L681.5313,187.4219 Q682.4531,187.4219 682.8438,187.0938 Q683.25,186.75 683.25,186 Q683.25,185.2344 682.8438,184.8906 Q682.4375,184.5469 681.5313,184.5469 L679.9063,184.5469 Z M677.5313,182.5938 L681.5313,182.5938 Q683.5938,182.5938 684.6406,183.375 Q685.6875,184.1563 685.6875,185.7188 Q685.6875,186.9219 685.0625,187.5938 Q684.4531,188.2656 683.2656,188.375 Q684.6875,188.5156 685.4063,189.3281 Q686.125,190.1406 686.125,191.5938 Q686.125,193.3906 685.0469,194.2031 Q683.9688,195 681.5313,195 L677.5313,195 L677.5313,182.5938 Z \"/><text fill=\"#000000\" font-family=\"sans-serif\" font-size=\"12\" lengthAdjust=\"spacingAndGlyphs\" textLength=\"8\" x=\"695\" y=\"193.1543\">P</text><line style=\"stroke: #A80036; stroke-width: 1.5;\" x1=\"667\" x2=\"705\" y1=\"205\" y2=\"205\"/></a><!--MD5=[09b614a08d8cba4a07c9adeb5e0fee81]\n",
       "class E3--><a href=\"psysml:6504cd03-3352-435e-8e5a-44d60f096993\" target=\"_top\" title=\"psysml:6504cd03-3352-435e-8e5a-44d60f096993\" xlink:actuate=\"onRequest\" xlink:href=\"psysml:6504cd03-3352-435e-8e5a-44d60f096993\" xlink:show=\"new\" xlink:title=\"psysml:6504cd03-3352-435e-8e5a-44d60f096993\" xlink:type=\"simple\"><rect fill=\"#FEFECE\" filter=\"url(#fgjk01w0r6uza)\" height=\"45.9375\" id=\"E3\" rx=\"10\" ry=\"10\" style=\"stroke: #A80036; stroke-width: 1.5;\" width=\"97\" x=\"910.5\" y=\"54\"/><ellipse cx=\"925.5\" cy=\"72.9688\" fill=\"#FFA500\" rx=\"11\" ry=\"11\" style=\"stroke: #A80036; stroke-width: 1.0;\"/><path d=\"M921.375,74.8906 L921.375,67.0781 L923.8281,67.0781 L923.8281,75.5156 Q923.8281,76.4375 924.2969,76.9688 Q924.7813,77.5 925.6094,77.5 Q926.4531,77.5 926.9219,76.9688 Q927.3906,76.4375 927.3906,75.5156 L927.3906,67.0781 L929.8438,67.0781 L929.8438,74.8906 Q929.8438,77.4219 928.8438,78.5625 Q927.8438,79.7031 925.6094,79.7031 Q923.3906,79.7031 922.375,78.5625 Q921.375,77.4219 921.375,74.8906 Z \"/><text fill=\"#000000\" font-family=\"sans-serif\" font-size=\"12\" font-style=\"italic\" lengthAdjust=\"spacingAndGlyphs\" textLength=\"69\" x=\"937.5\" y=\"70.1387\">«attribute»</text><text fill=\"#000000\" font-family=\"sans-serif\" font-size=\"12\" lengthAdjust=\"spacingAndGlyphs\" textLength=\"61\" x=\"941.5\" y=\"84.1074\">n: Integer</text><line style=\"stroke: #A80036; stroke-width: 1.5;\" x1=\"911.5\" x2=\"1006.5\" y1=\"91.9375\" y2=\"91.9375\"/></a><!--MD5=[ebbe1d658d1005bcc118a6aa81145e00]\n",
       "class E4--><a href=\"psysml:69df1372-c4de-42e4-b97b-1df20a9e4637\" target=\"_top\" title=\"psysml:69df1372-c4de-42e4-b97b-1df20a9e4637\" xlink:actuate=\"onRequest\" xlink:href=\"psysml:69df1372-c4de-42e4-b97b-1df20a9e4637\" xlink:show=\"new\" xlink:title=\"psysml:69df1372-c4de-42e4-b97b-1df20a9e4637\" xlink:type=\"simple\"><rect fill=\"#FEFECE\" filter=\"url(#fgjk01w0r6uza)\" height=\"45.9375\" id=\"E4\" rx=\"10\" ry=\"10\" style=\"stroke: #A80036; stroke-width: 1.5;\" width=\"68\" x=\"807\" y=\"54\"/><ellipse cx=\"822\" cy=\"72.9688\" fill=\"#32CD32\" rx=\"11\" ry=\"11\" style=\"stroke: #A80036; stroke-width: 1.0;\"/><path d=\"M821.7969,68.6406 L821.7969,72.2656 L822.7969,72.2656 Q824,72.2656 824.4844,71.8594 Q824.9688,71.4531 824.9688,70.4531 Q824.9688,69.4531 824.4844,69.0469 Q824,68.6406 822.7969,68.6406 L821.7969,68.6406 Z M819.3438,66.5781 L822.7031,66.5781 Q825.2656,66.5781 826.3906,67.5 Q827.5156,68.4063 827.5156,70.4531 Q827.5156,72.5 826.3906,73.4219 Q825.2656,74.3281 822.7031,74.3281 L821.7969,74.3281 L821.7969,78.9688 L819.3438,78.9688 L819.3438,66.5781 Z \"/><text fill=\"#000000\" font-family=\"sans-serif\" font-size=\"12\" font-style=\"italic\" lengthAdjust=\"spacingAndGlyphs\" textLength=\"40\" x=\"834\" y=\"70.1387\">«part»</text><text fill=\"#000000\" font-family=\"sans-serif\" font-size=\"12\" lengthAdjust=\"spacingAndGlyphs\" textLength=\"8\" x=\"850\" y=\"84.1074\">a</text><line style=\"stroke: #A80036; stroke-width: 1.5;\" x1=\"808\" x2=\"874\" y1=\"91.9375\" y2=\"91.9375\"/></a><!--MD5=[270fce915f116d4de14055a7c1d9a0f3]\n",
       "class E5--><a href=\"psysml:ce135ed3-5db8-4159-aade-37d21406abf2\" target=\"_top\" title=\"psysml:ce135ed3-5db8-4159-aade-37d21406abf2\" xlink:actuate=\"onRequest\" xlink:href=\"psysml:ce135ed3-5db8-4159-aade-37d21406abf2\" xlink:show=\"new\" xlink:title=\"psysml:ce135ed3-5db8-4159-aade-37d21406abf2\" xlink:type=\"simple\"><rect fill=\"#FEFECE\" filter=\"url(#fgjk01w0r6uza)\" height=\"45.9375\" id=\"E5\" rx=\"10\" ry=\"10\" style=\"stroke: #A80036; stroke-width: 1.5;\" width=\"68\" x=\"704\" y=\"54\"/><ellipse cx=\"719\" cy=\"72.9688\" fill=\"#32CD32\" rx=\"11\" ry=\"11\" style=\"stroke: #A80036; stroke-width: 1.0;\"/><path d=\"M718.7969,68.6406 L718.7969,72.2656 L719.7969,72.2656 Q721,72.2656 721.4844,71.8594 Q721.9688,71.4531 721.9688,70.4531 Q721.9688,69.4531 721.4844,69.0469 Q721,68.6406 719.7969,68.6406 L718.7969,68.6406 Z M716.3438,66.5781 L719.7031,66.5781 Q722.2656,66.5781 723.3906,67.5 Q724.5156,68.4063 724.5156,70.4531 Q724.5156,72.5 723.3906,73.4219 Q722.2656,74.3281 719.7031,74.3281 L718.7969,74.3281 L718.7969,78.9688 L716.3438,78.9688 L716.3438,66.5781 Z \"/><text fill=\"#000000\" font-family=\"sans-serif\" font-size=\"12\" font-style=\"italic\" lengthAdjust=\"spacingAndGlyphs\" textLength=\"40\" x=\"731\" y=\"70.1387\">«part»</text><text fill=\"#000000\" font-family=\"sans-serif\" font-size=\"12\" lengthAdjust=\"spacingAndGlyphs\" textLength=\"24\" x=\"739\" y=\"84.1074\">b: P</text><line style=\"stroke: #A80036; stroke-width: 1.5;\" x1=\"705\" x2=\"771\" y1=\"91.9375\" y2=\"91.9375\"/></a><!--MD5=[60a26617385b1d2d0262a64233df1f8d]\n",
       "class E6--><a href=\"psysml:7c20260d-33cb-4904-8feb-6f2059c0b9de\" target=\"_top\" title=\"psysml:7c20260d-33cb-4904-8feb-6f2059c0b9de\" xlink:actuate=\"onRequest\" xlink:href=\"psysml:7c20260d-33cb-4904-8feb-6f2059c0b9de\" xlink:show=\"new\" xlink:title=\"psysml:7c20260d-33cb-4904-8feb-6f2059c0b9de\" xlink:type=\"simple\"><rect fill=\"#FEFECE\" filter=\"url(#fgjk01w0r6uza)\" height=\"45.9375\" id=\"E6\" rx=\"10\" ry=\"10\" style=\"stroke: #A80036; stroke-width: 1.5;\" width=\"68\" x=\"601\" y=\"54\"/><ellipse cx=\"616\" cy=\"72.9688\" fill=\"#32CD32\" rx=\"11\" ry=\"11\" style=\"stroke: #A80036; stroke-width: 1.0;\"/><path d=\"M615.7969,68.6406 L615.7969,72.2656 L616.7969,72.2656 Q618,72.2656 618.4844,71.8594 Q618.9688,71.4531 618.9688,70.4531 Q618.9688,69.4531 618.4844,69.0469 Q618,68.6406 616.7969,68.6406 L615.7969,68.6406 Z M613.3438,66.5781 L616.7031,66.5781 Q619.2656,66.5781 620.3906,67.5 Q621.5156,68.4063 621.5156,70.4531 Q621.5156,72.5 620.3906,73.4219 Q619.2656,74.3281 616.7031,74.3281 L615.7969,74.3281 L615.7969,78.9688 L613.3438,78.9688 L613.3438,66.5781 Z \"/><text fill=\"#000000\" font-family=\"sans-serif\" font-size=\"12\" font-style=\"italic\" lengthAdjust=\"spacingAndGlyphs\" textLength=\"40\" x=\"628\" y=\"70.1387\">«part»</text><text fill=\"#000000\" font-family=\"sans-serif\" font-size=\"12\" lengthAdjust=\"spacingAndGlyphs\" textLength=\"23\" x=\"636.5\" y=\"84.1074\">c: P</text><line style=\"stroke: #A80036; stroke-width: 1.5;\" x1=\"602\" x2=\"668\" y1=\"91.9375\" y2=\"91.9375\"/></a><!--MD5=[2156ba9850f5573cc1fc38a6a4b2f02b]\n",
       "class E7--><a href=\"psysml:a788bf26-d852-4daf-8a66-fd926f14abf3\" target=\"_top\" title=\"psysml:a788bf26-d852-4daf-8a66-fd926f14abf3\" xlink:actuate=\"onRequest\" xlink:href=\"psysml:a788bf26-d852-4daf-8a66-fd926f14abf3\" xlink:show=\"new\" xlink:title=\"psysml:a788bf26-d852-4daf-8a66-fd926f14abf3\" xlink:type=\"simple\"><rect fill=\"#FEFECE\" filter=\"url(#fgjk01w0r6uza)\" height=\"45.9375\" id=\"E7\" rx=\"10\" ry=\"10\" style=\"stroke: #A80036; stroke-width: 1.5;\" width=\"68\" x=\"498\" y=\"54\"/><ellipse cx=\"513\" cy=\"72.9688\" fill=\"#32CD32\" rx=\"11\" ry=\"11\" style=\"stroke: #A80036; stroke-width: 1.0;\"/><path d=\"M512.7969,68.6406 L512.7969,72.2656 L513.7969,72.2656 Q515,72.2656 515.4844,71.8594 Q515.9688,71.4531 515.9688,70.4531 Q515.9688,69.4531 515.4844,69.0469 Q515,68.6406 513.7969,68.6406 L512.7969,68.6406 Z M510.3438,66.5781 L513.7031,66.5781 Q516.2656,66.5781 517.3906,67.5 Q518.5156,68.4063 518.5156,70.4531 Q518.5156,72.5 517.3906,73.4219 Q516.2656,74.3281 513.7031,74.3281 L512.7969,74.3281 L512.7969,78.9688 L510.3438,78.9688 L510.3438,66.5781 Z \"/><text fill=\"#000000\" font-family=\"sans-serif\" font-size=\"12\" font-style=\"italic\" lengthAdjust=\"spacingAndGlyphs\" textLength=\"40\" x=\"525\" y=\"70.1387\">«part»</text><text fill=\"#000000\" font-family=\"sans-serif\" font-size=\"12\" lengthAdjust=\"spacingAndGlyphs\" textLength=\"8\" x=\"541\" y=\"84.1074\">d</text><line style=\"stroke: #A80036; stroke-width: 1.5;\" x1=\"499\" x2=\"565\" y1=\"91.9375\" y2=\"91.9375\"/></a><!--MD5=[b9389687b975829384b498ac4b7476b2]\n",
       "class E8--><a href=\"psysml:8ca44daa-798d-42ea-8082-fded64fdb257\" target=\"_top\" title=\"psysml:8ca44daa-798d-42ea-8082-fded64fdb257\" xlink:actuate=\"onRequest\" xlink:href=\"psysml:8ca44daa-798d-42ea-8082-fded64fdb257\" xlink:show=\"new\" xlink:title=\"psysml:8ca44daa-798d-42ea-8082-fded64fdb257\" xlink:type=\"simple\"><rect fill=\"#FEFECE\" filter=\"url(#fgjk01w0r6uza)\" height=\"45.9375\" id=\"E8\" rx=\"10\" ry=\"10\" style=\"stroke: #A80036; stroke-width: 1.5;\" width=\"68\" x=\"395\" y=\"54\"/><ellipse cx=\"410\" cy=\"72.9688\" fill=\"#32CD32\" rx=\"11\" ry=\"11\" style=\"stroke: #A80036; stroke-width: 1.0;\"/><path d=\"M409.7969,68.6406 L409.7969,72.2656 L410.7969,72.2656 Q412,72.2656 412.4844,71.8594 Q412.9688,71.4531 412.9688,70.4531 Q412.9688,69.4531 412.4844,69.0469 Q412,68.6406 410.7969,68.6406 L409.7969,68.6406 Z M407.3438,66.5781 L410.7031,66.5781 Q413.2656,66.5781 414.3906,67.5 Q415.5156,68.4063 415.5156,70.4531 Q415.5156,72.5 414.3906,73.4219 Q413.2656,74.3281 410.7031,74.3281 L409.7969,74.3281 L409.7969,78.9688 L407.3438,78.9688 L407.3438,66.5781 Z \"/><text fill=\"#000000\" font-family=\"sans-serif\" font-size=\"12\" font-style=\"italic\" lengthAdjust=\"spacingAndGlyphs\" textLength=\"40\" x=\"422\" y=\"70.1387\">«part»</text><text fill=\"#000000\" font-family=\"sans-serif\" font-size=\"12\" lengthAdjust=\"spacingAndGlyphs\" textLength=\"8\" x=\"438\" y=\"84.1074\">e</text><line style=\"stroke: #A80036; stroke-width: 1.5;\" x1=\"396\" x2=\"462\" y1=\"91.9375\" y2=\"91.9375\"/></a><!--MD5=[fd4143e9d270a159db93a4ea2a975926]\n",
       "class E9--><a href=\"psysml:94368454-840d-4091-abdb-e19ae5322c54\" target=\"_top\" title=\"psysml:94368454-840d-4091-abdb-e19ae5322c54\" xlink:actuate=\"onRequest\" xlink:href=\"psysml:94368454-840d-4091-abdb-e19ae5322c54\" xlink:show=\"new\" xlink:title=\"psysml:94368454-840d-4091-abdb-e19ae5322c54\" xlink:type=\"simple\"><rect fill=\"#FEFECE\" filter=\"url(#fgjk01w0r6uza)\" height=\"45.9375\" id=\"E9\" rx=\"10\" ry=\"10\" style=\"stroke: #A80036; stroke-width: 1.5;\" width=\"68\" x=\"292\" y=\"54\"/><ellipse cx=\"307\" cy=\"72.9688\" fill=\"#32CD32\" rx=\"11\" ry=\"11\" style=\"stroke: #A80036; stroke-width: 1.0;\"/><path d=\"M306.7969,68.6406 L306.7969,72.2656 L307.7969,72.2656 Q309,72.2656 309.4844,71.8594 Q309.9688,71.4531 309.9688,70.4531 Q309.9688,69.4531 309.4844,69.0469 Q309,68.6406 307.7969,68.6406 L306.7969,68.6406 Z M304.3438,66.5781 L307.7031,66.5781 Q310.2656,66.5781 311.3906,67.5 Q312.5156,68.4063 312.5156,70.4531 Q312.5156,72.5 311.3906,73.4219 Q310.2656,74.3281 307.7031,74.3281 L306.7969,74.3281 L306.7969,78.9688 L304.3438,78.9688 L304.3438,66.5781 Z \"/><text fill=\"#000000\" font-family=\"sans-serif\" font-size=\"12\" font-style=\"italic\" lengthAdjust=\"spacingAndGlyphs\" textLength=\"40\" x=\"319\" y=\"70.1387\">«part»</text><text fill=\"#000000\" font-family=\"sans-serif\" font-size=\"12\" lengthAdjust=\"spacingAndGlyphs\" textLength=\"4\" x=\"337\" y=\"84.1074\">f</text><line style=\"stroke: #A80036; stroke-width: 1.5;\" x1=\"293\" x2=\"359\" y1=\"91.9375\" y2=\"91.9375\"/></a><!--MD5=[96f4274e9e20536e775497830990834d]\n",
       "class E10--><a href=\"psysml:8f8b3cba-ab00-4478-b69f-246a2e072be5\" target=\"_top\" title=\"psysml:8f8b3cba-ab00-4478-b69f-246a2e072be5\" xlink:actuate=\"onRequest\" xlink:href=\"psysml:8f8b3cba-ab00-4478-b69f-246a2e072be5\" xlink:show=\"new\" xlink:title=\"psysml:8f8b3cba-ab00-4478-b69f-246a2e072be5\" xlink:type=\"simple\"><rect fill=\"#FEFECE\" filter=\"url(#fgjk01w0r6uza)\" height=\"45.9375\" id=\"E10\" rx=\"10\" ry=\"10\" style=\"stroke: #A80036; stroke-width: 1.5;\" width=\"68\" x=\"189\" y=\"54\"/><ellipse cx=\"204\" cy=\"72.9688\" fill=\"#32CD32\" rx=\"11\" ry=\"11\" style=\"stroke: #A80036; stroke-width: 1.0;\"/><path d=\"M203.7969,68.6406 L203.7969,72.2656 L204.7969,72.2656 Q206,72.2656 206.4844,71.8594 Q206.9688,71.4531 206.9688,70.4531 Q206.9688,69.4531 206.4844,69.0469 Q206,68.6406 204.7969,68.6406 L203.7969,68.6406 Z M201.3438,66.5781 L204.7031,66.5781 Q207.2656,66.5781 208.3906,67.5 Q209.5156,68.4063 209.5156,70.4531 Q209.5156,72.5 208.3906,73.4219 Q207.2656,74.3281 204.7031,74.3281 L203.7969,74.3281 L203.7969,78.9688 L201.3438,78.9688 L201.3438,66.5781 Z \"/><text fill=\"#000000\" font-family=\"sans-serif\" font-size=\"12\" font-style=\"italic\" lengthAdjust=\"spacingAndGlyphs\" textLength=\"40\" x=\"216\" y=\"70.1387\">«part»</text><text fill=\"#000000\" font-family=\"sans-serif\" font-size=\"12\" lengthAdjust=\"spacingAndGlyphs\" textLength=\"8\" x=\"232\" y=\"84.1074\">g</text><line style=\"stroke: #A80036; stroke-width: 1.5;\" x1=\"190\" x2=\"256\" y1=\"91.9375\" y2=\"91.9375\"/></a><!--MD5=[1dd1bfd58a279cf63c5f349dbc8fc6a1]\n",
       "class E11--><a href=\"psysml:2c45c451-c8b5-4e48-8592-55fa30d535c5\" target=\"_top\" title=\"psysml:2c45c451-c8b5-4e48-8592-55fa30d535c5\" xlink:actuate=\"onRequest\" xlink:href=\"psysml:2c45c451-c8b5-4e48-8592-55fa30d535c5\" xlink:show=\"new\" xlink:title=\"psysml:2c45c451-c8b5-4e48-8592-55fa30d535c5\" xlink:type=\"simple\"><rect fill=\"#FEFECE\" filter=\"url(#fgjk01w0r6uza)\" height=\"71.5469\" id=\"E11\" style=\"stroke: #A80036; stroke-width: 1.5;\" width=\"121\" x=\"32.5\" y=\"41\"/><ellipse cx=\"47.5\" cy=\"59.9688\" fill=\"#A52A2A\" rx=\"11\" ry=\"11\" style=\"stroke: #A80036; stroke-width: 1.0;\"/><path d=\"M47.0938,55.7813 L47.0938,63.7656 L47.75,63.7656 Q49.1875,63.7656 49.7969,62.8594 Q50.4219,61.9375 50.4219,59.7656 Q50.4219,57.5938 49.7969,56.6875 Q49.1875,55.7813 47.75,55.7813 L47.0938,55.7813 Z M44.6406,53.5781 L47.2656,53.5781 Q50.2969,53.5781 51.625,55.0313 Q52.9688,56.4688 52.9688,59.7656 Q52.9688,63.0625 51.625,64.5156 Q50.2969,65.9688 47.2656,65.9688 L44.6406,65.9688 L44.6406,53.5781 Z \"/><text fill=\"#000000\" font-family=\"sans-serif\" font-size=\"12\" font-style=\"italic\" lengthAdjust=\"spacingAndGlyphs\" textLength=\"93\" x=\"59.5\" y=\"57.1387\">«attribute def»</text><text fill=\"#000000\" font-family=\"sans-serif\" font-size=\"12\" lengthAdjust=\"spacingAndGlyphs\" textLength=\"8\" x=\"102\" y=\"71.1074\">A</text><line style=\"stroke: #A80036; stroke-width: 1.5;\" x1=\"33.5\" x2=\"152.5\" y1=\"78.9375\" y2=\"78.9375\"/><text fill=\"#000000\" font-family=\"sans-serif\" font-size=\"11\" lengthAdjust=\"spacingAndGlyphs\" textLength=\"51\" x=\"38.5\" y=\"93.1479\">i: Integer</text><text fill=\"#000000\" font-family=\"sans-serif\" font-size=\"11\" lengthAdjust=\"spacingAndGlyphs\" textLength=\"21\" x=\"38.5\" y=\"105.9526\">x: A</text></a><!--MD5=[15ebcb19ae302d9b601edb458606d402]\n",
       "link E5 to E2--><a href=\"psysml:99c2055f-0301-4891-b65d-9e517e6365b1\" target=\"_top\" title=\"psysml:99c2055f-0301-4891-b65d-9e517e6365b1\" xlink:actuate=\"onRequest\" xlink:href=\"psysml:99c2055f-0301-4891-b65d-9e517e6365b1\" xlink:show=\"new\" xlink:title=\"psysml:99c2055f-0301-4891-b65d-9e517e6365b1\" xlink:type=\"simple\"><path d=\"M727.85,100.25 C720.81,115.68 711.27,136.61 703.07,154.58 \" fill=\"none\" id=\"E5-&gt;E2\" style=\"stroke: #A80036; stroke-width: 1.0;\"/><polygon fill=\"#FFFFFF\" points=\"694.74,172.84,696.2548,152.6483,708.9927,158.4573,694.74,172.84\" style=\"stroke: #A80036; stroke-width: 1.0;\"/><ellipse cx=\"700.4396\" cy=\"148.292\" fill=\"#A80036\" rx=\"2\" ry=\"2\" style=\"stroke: #A80036; stroke-width: 1.0;\"/><ellipse cx=\"709.5381\" cy=\"152.4413\" fill=\"#A80036\" rx=\"2\" ry=\"2\" style=\"stroke: #A80036; stroke-width: 1.0;\"/></a><!--MD5=[2351f337d6de0f557b50152ba70847b5]\n",
       "link E6 to E2--><a href=\"psysml:035f6493-28ba-4968-b761-0ab46a395f55\" target=\"_top\" title=\"psysml:035f6493-28ba-4968-b761-0ab46a395f55\" xlink:actuate=\"onRequest\" xlink:href=\"psysml:035f6493-28ba-4968-b761-0ab46a395f55\" xlink:show=\"new\" xlink:title=\"psysml:035f6493-28ba-4968-b761-0ab46a395f55\" xlink:type=\"simple\"><path d=\"M644.95,100.25 C651.86,115.68 661.22,136.61 669.26,154.58 \" fill=\"none\" id=\"E6-&gt;E2\" style=\"stroke: #A80036; stroke-width: 1.0;\"/><polygon fill=\"#FFFFFF\" points=\"677.43,172.84,663.2788,158.3574,676.0573,152.6381,677.43,172.84\" style=\"stroke: #A80036; stroke-width: 1.0;\"/><ellipse cx=\"662.7757\" cy=\"152.3377\" fill=\"#A80036\" rx=\"2\" ry=\"2\" style=\"stroke: #A80036; stroke-width: 1.0;\"/><ellipse cx=\"671.9032\" cy=\"148.2525\" fill=\"#A80036\" rx=\"2\" ry=\"2\" style=\"stroke: #A80036; stroke-width: 1.0;\"/></a><!--MD5=[87b0454f3c157444a722d78779101a7e]\n",
       "@startuml\r\n",
       " \r\n",
       "package \"MultiplicityTest\" as E1  [[psysml:d21f1d33-c8d8-4d7e-915c-a1dc21839292 ]]  {\r\n",
       "comp def \"P\" as E2 << << (B,green) >> [[psysml:cfcc0fdc-4985-4a7c-8ed0-df1ec6a07f40 ]] {\r\n",
       "}\r\n",
       "comp usage \"n: Integer\" as E3 << <<(U,orange) attribute>> [[psysml:6504cd03-3352-435e-8e5a-44d60f096993 ]] {\r\n",
       "}\r\n",
       "comp usage \"a\" as E4 << << (P,limegreen) part>> [[psysml:69df1372-c4de-42e4-b97b-1df20a9e4637 ]] {\r\n",
       "}\r\n",
       "comp usage \"b: P\" as E5 << << (P,limegreen) part>> [[psysml:ce135ed3-5db8-4159-aade-37d21406abf2 ]] {\r\n",
       "}\r\n",
       "comp usage \"c: P\" as E6 << << (P,limegreen) part>> [[psysml:7c20260d-33cb-4904-8feb-6f2059c0b9de ]] {\r\n",
       "}\r\n",
       "comp usage \"d\" as E7 << << (P,limegreen) part>> [[psysml:a788bf26-d852-4daf-8a66-fd926f14abf3 ]] {\r\n",
       "}\r\n",
       "comp usage \"e\" as E8 << << (P,limegreen) part>> [[psysml:8ca44daa-798d-42ea-8082-fded64fdb257 ]] {\r\n",
       "}\r\n",
       "comp usage \"f\" as E9 << << (P,limegreen) part>> [[psysml:94368454-840d-4091-abdb-e19ae5322c54 ]] {\r\n",
       "}\r\n",
       "comp usage \"g\" as E10 << << (P,limegreen) part>> [[psysml:8f8b3cba-ab00-4478-b69f-246a2e072be5 ]] {\r\n",
       "}\r\n",
       "comp def \"A\" as E11 << <<(D,brown) attribute def>> [[psysml:2c45c451-c8b5-4e48-8592-55fa30d535c5 ]] {\r\n",
       "i: Integer\r\n",
       "x: A\r\n",
       "}\r\n",
       "E5 - -:|> E2 [[psysml:99c2055f-0301-4891-b65d-9e517e6365b1 ]] \r\n",
       "E6 - -:|> E2 [[psysml:035f6493-28ba-4968-b761-0ab46a395f55 ]] \r\n",
       "}\r\n",
       "@enduml\r\n",
       "\n",
       "PlantUML version 1.2020.13(Sat Jun 13 12:26:38 UTC 2020)\n",
       "(EPL source distribution)\n",
       "Java Runtime: OpenJDK Runtime Environment\n",
       "JVM: OpenJDK 64-Bit Server VM\n",
       "Default Encoding: UTF-8\n",
       "Language: en\n",
       "Country: null\n",
       "--></g></svg>"
      ]
     },
     "execution_count": 36,
     "metadata": {},
     "output_type": "execute_result"
    }
   ],
   "source": [
    "%viz --style=\"PLANTUML\" --view=\"MIXED\" \"MultiplicityTest\""
   ]
  },
  {
   "cell_type": "code",
   "execution_count": 37,
   "id": "07858d8b",
   "metadata": {
    "execution": {
     "iopub.execute_input": "2021-06-30T09:24:32.916542Z",
     "iopub.status.busy": "2021-06-30T09:24:32.916107Z",
     "iopub.status.idle": "2021-06-30T09:24:32.971424Z",
     "shell.execute_reply": "2021-06-30T09:24:32.969872Z"
    }
   },
   "outputs": [
    {
     "data": {
      "image/svg+xml": [
       "<?xml version=\"1.0\" encoding=\"UTF-8\" standalone=\"no\"?><svg xmlns=\"http://www.w3.org/2000/svg\" xmlns:xlink=\"http://www.w3.org/1999/xlink\" contentScriptType=\"application/ecmascript\" contentStyleType=\"text/css\" height=\"263px\" preserveAspectRatio=\"none\" style=\"width:812px;height:263px;\" version=\"1.1\" viewBox=\"0 0 812 263\" width=\"812px\" zoomAndPan=\"magnify\"><defs/><g><!--MD5=[fbc87193dbaf4d95561dea2c320d4a47]\n",
       "cluster E1--><a href=\"psysml:d21f1d33-c8d8-4d7e-915c-a1dc21839292\" target=\"_top\" title=\"psysml:d21f1d33-c8d8-4d7e-915c-a1dc21839292\" xlink:actuate=\"onRequest\" xlink:href=\"psysml:d21f1d33-c8d8-4d7e-915c-a1dc21839292\" xlink:show=\"new\" xlink:title=\"psysml:d21f1d33-c8d8-4d7e-915c-a1dc21839292\" xlink:type=\"simple\"><polygon fill=\"#FFFFFF\" points=\"16,6,140,6,147,28.2969,790,28.2969,790,251,16,251,16,6\" style=\"stroke: #000000; stroke-width: 1.5;\"/><line style=\"stroke: #000000; stroke-width: 1.5;\" x1=\"16\" x2=\"147\" y1=\"28.2969\" y2=\"28.2969\"/><text fill=\"#000000\" font-family=\"sans-serif\" font-size=\"14\" font-weight=\"bold\" lengthAdjust=\"spacingAndGlyphs\" textLength=\"118\" x=\"20\" y=\"20.9951\">MultiplicityTest</text></a><!--MD5=[b4997ac47864f28c2f74865a473b2911]\n",
       "class E2--><a href=\"psysml:cfcc0fdc-4985-4a7c-8ed0-df1ec6a07f40\" target=\"_top\" title=\"psysml:cfcc0fdc-4985-4a7c-8ed0-df1ec6a07f40\" xlink:actuate=\"onRequest\" xlink:href=\"psysml:cfcc0fdc-4985-4a7c-8ed0-df1ec6a07f40\" xlink:show=\"new\" xlink:title=\"psysml:cfcc0fdc-4985-4a7c-8ed0-df1ec6a07f40\" xlink:type=\"simple\"><rect fill=\"#FFFFFF\" height=\"45.9375\" id=\"E2\" style=\"stroke: #383838; stroke-width: 1.5;\" width=\"66\" x=\"497\" y=\"189\"/><text fill=\"#000000\" font-family=\"sans-serif\" font-size=\"12\" font-style=\"italic\" lengthAdjust=\"spacingAndGlyphs\" textLength=\"64\" x=\"498\" y=\"205.1387\">«part def»</text><text fill=\"#000000\" font-family=\"sans-serif\" font-size=\"12\" lengthAdjust=\"spacingAndGlyphs\" textLength=\"8\" x=\"526\" y=\"219.1074\">P</text><line style=\"stroke: #383838; stroke-width: 1.5;\" x1=\"498\" x2=\"562\" y1=\"226.9375\" y2=\"226.9375\"/></a><!--MD5=[09b614a08d8cba4a07c9adeb5e0fee81]\n",
       "class E3--><a href=\"psysml:6504cd03-3352-435e-8e5a-44d60f096993\" target=\"_top\" title=\"psysml:6504cd03-3352-435e-8e5a-44d60f096993\" xlink:actuate=\"onRequest\" xlink:href=\"psysml:6504cd03-3352-435e-8e5a-44d60f096993\" xlink:show=\"new\" xlink:title=\"psysml:6504cd03-3352-435e-8e5a-44d60f096993\" xlink:type=\"simple\"><rect fill=\"#FFFFFF\" height=\"45.9375\" id=\"E3\" rx=\"10\" ry=\"10\" style=\"stroke: #383838; stroke-width: 1.5;\" width=\"71\" x=\"702.5\" y=\"62\"/><text fill=\"#000000\" font-family=\"sans-serif\" font-size=\"12\" font-style=\"italic\" lengthAdjust=\"spacingAndGlyphs\" textLength=\"69\" x=\"703.5\" y=\"78.1387\">«attribute»</text><text fill=\"#000000\" font-family=\"sans-serif\" font-size=\"12\" lengthAdjust=\"spacingAndGlyphs\" textLength=\"61\" x=\"707.5\" y=\"92.1074\">n: Integer</text><line style=\"stroke: #383838; stroke-width: 1.5;\" x1=\"703.5\" x2=\"772.5\" y1=\"99.9375\" y2=\"99.9375\"/></a><!--MD5=[ebbe1d658d1005bcc118a6aa81145e00]\n",
       "class E4--><a href=\"psysml:69df1372-c4de-42e4-b97b-1df20a9e4637\" target=\"_top\" title=\"psysml:69df1372-c4de-42e4-b97b-1df20a9e4637\" xlink:actuate=\"onRequest\" xlink:href=\"psysml:69df1372-c4de-42e4-b97b-1df20a9e4637\" xlink:show=\"new\" xlink:title=\"psysml:69df1372-c4de-42e4-b97b-1df20a9e4637\" xlink:type=\"simple\"><rect fill=\"#FFFFFF\" height=\"45.9375\" id=\"E4\" rx=\"10\" ry=\"10\" style=\"stroke: #383838; stroke-width: 1.5;\" width=\"42\" x=\"625\" y=\"62\"/><text fill=\"#000000\" font-family=\"sans-serif\" font-size=\"12\" font-style=\"italic\" lengthAdjust=\"spacingAndGlyphs\" textLength=\"40\" x=\"626\" y=\"78.1387\">«part»</text><text fill=\"#000000\" font-family=\"sans-serif\" font-size=\"12\" lengthAdjust=\"spacingAndGlyphs\" textLength=\"8\" x=\"642\" y=\"92.1074\">a</text><line style=\"stroke: #383838; stroke-width: 1.5;\" x1=\"626\" x2=\"666\" y1=\"99.9375\" y2=\"99.9375\"/></a><!--MD5=[270fce915f116d4de14055a7c1d9a0f3]\n",
       "class E5--><a href=\"psysml:ce135ed3-5db8-4159-aade-37d21406abf2\" target=\"_top\" title=\"psysml:ce135ed3-5db8-4159-aade-37d21406abf2\" xlink:actuate=\"onRequest\" xlink:href=\"psysml:ce135ed3-5db8-4159-aade-37d21406abf2\" xlink:show=\"new\" xlink:title=\"psysml:ce135ed3-5db8-4159-aade-37d21406abf2\" xlink:type=\"simple\"><rect fill=\"#FFFFFF\" height=\"45.9375\" id=\"E5\" rx=\"10\" ry=\"10\" style=\"stroke: #383838; stroke-width: 1.5;\" width=\"42\" x=\"548\" y=\"62\"/><text fill=\"#000000\" font-family=\"sans-serif\" font-size=\"12\" font-style=\"italic\" lengthAdjust=\"spacingAndGlyphs\" textLength=\"40\" x=\"549\" y=\"78.1387\">«part»</text><text fill=\"#000000\" font-family=\"sans-serif\" font-size=\"12\" lengthAdjust=\"spacingAndGlyphs\" textLength=\"24\" x=\"557\" y=\"92.1074\">b: P</text><line style=\"stroke: #383838; stroke-width: 1.5;\" x1=\"549\" x2=\"589\" y1=\"99.9375\" y2=\"99.9375\"/></a><!--MD5=[60a26617385b1d2d0262a64233df1f8d]\n",
       "class E6--><a href=\"psysml:7c20260d-33cb-4904-8feb-6f2059c0b9de\" target=\"_top\" title=\"psysml:7c20260d-33cb-4904-8feb-6f2059c0b9de\" xlink:actuate=\"onRequest\" xlink:href=\"psysml:7c20260d-33cb-4904-8feb-6f2059c0b9de\" xlink:show=\"new\" xlink:title=\"psysml:7c20260d-33cb-4904-8feb-6f2059c0b9de\" xlink:type=\"simple\"><rect fill=\"#FFFFFF\" height=\"45.9375\" id=\"E6\" rx=\"10\" ry=\"10\" style=\"stroke: #383838; stroke-width: 1.5;\" width=\"42\" x=\"471\" y=\"62\"/><text fill=\"#000000\" font-family=\"sans-serif\" font-size=\"12\" font-style=\"italic\" lengthAdjust=\"spacingAndGlyphs\" textLength=\"40\" x=\"472\" y=\"78.1387\">«part»</text><text fill=\"#000000\" font-family=\"sans-serif\" font-size=\"12\" lengthAdjust=\"spacingAndGlyphs\" textLength=\"23\" x=\"480.5\" y=\"92.1074\">c: P</text><line style=\"stroke: #383838; stroke-width: 1.5;\" x1=\"472\" x2=\"512\" y1=\"99.9375\" y2=\"99.9375\"/></a><!--MD5=[2156ba9850f5573cc1fc38a6a4b2f02b]\n",
       "class E7--><a href=\"psysml:a788bf26-d852-4daf-8a66-fd926f14abf3\" target=\"_top\" title=\"psysml:a788bf26-d852-4daf-8a66-fd926f14abf3\" xlink:actuate=\"onRequest\" xlink:href=\"psysml:a788bf26-d852-4daf-8a66-fd926f14abf3\" xlink:show=\"new\" xlink:title=\"psysml:a788bf26-d852-4daf-8a66-fd926f14abf3\" xlink:type=\"simple\"><rect fill=\"#FFFFFF\" height=\"45.9375\" id=\"E7\" rx=\"10\" ry=\"10\" style=\"stroke: #383838; stroke-width: 1.5;\" width=\"42\" x=\"394\" y=\"62\"/><text fill=\"#000000\" font-family=\"sans-serif\" font-size=\"12\" font-style=\"italic\" lengthAdjust=\"spacingAndGlyphs\" textLength=\"40\" x=\"395\" y=\"78.1387\">«part»</text><text fill=\"#000000\" font-family=\"sans-serif\" font-size=\"12\" lengthAdjust=\"spacingAndGlyphs\" textLength=\"8\" x=\"411\" y=\"92.1074\">d</text><line style=\"stroke: #383838; stroke-width: 1.5;\" x1=\"395\" x2=\"435\" y1=\"99.9375\" y2=\"99.9375\"/></a><!--MD5=[b9389687b975829384b498ac4b7476b2]\n",
       "class E8--><a href=\"psysml:8ca44daa-798d-42ea-8082-fded64fdb257\" target=\"_top\" title=\"psysml:8ca44daa-798d-42ea-8082-fded64fdb257\" xlink:actuate=\"onRequest\" xlink:href=\"psysml:8ca44daa-798d-42ea-8082-fded64fdb257\" xlink:show=\"new\" xlink:title=\"psysml:8ca44daa-798d-42ea-8082-fded64fdb257\" xlink:type=\"simple\"><rect fill=\"#FFFFFF\" height=\"45.9375\" id=\"E8\" rx=\"10\" ry=\"10\" style=\"stroke: #383838; stroke-width: 1.5;\" width=\"42\" x=\"317\" y=\"62\"/><text fill=\"#000000\" font-family=\"sans-serif\" font-size=\"12\" font-style=\"italic\" lengthAdjust=\"spacingAndGlyphs\" textLength=\"40\" x=\"318\" y=\"78.1387\">«part»</text><text fill=\"#000000\" font-family=\"sans-serif\" font-size=\"12\" lengthAdjust=\"spacingAndGlyphs\" textLength=\"8\" x=\"334\" y=\"92.1074\">e</text><line style=\"stroke: #383838; stroke-width: 1.5;\" x1=\"318\" x2=\"358\" y1=\"99.9375\" y2=\"99.9375\"/></a><!--MD5=[fd4143e9d270a159db93a4ea2a975926]\n",
       "class E9--><a href=\"psysml:94368454-840d-4091-abdb-e19ae5322c54\" target=\"_top\" title=\"psysml:94368454-840d-4091-abdb-e19ae5322c54\" xlink:actuate=\"onRequest\" xlink:href=\"psysml:94368454-840d-4091-abdb-e19ae5322c54\" xlink:show=\"new\" xlink:title=\"psysml:94368454-840d-4091-abdb-e19ae5322c54\" xlink:type=\"simple\"><rect fill=\"#FFFFFF\" height=\"45.9375\" id=\"E9\" rx=\"10\" ry=\"10\" style=\"stroke: #383838; stroke-width: 1.5;\" width=\"42\" x=\"240\" y=\"62\"/><text fill=\"#000000\" font-family=\"sans-serif\" font-size=\"12\" font-style=\"italic\" lengthAdjust=\"spacingAndGlyphs\" textLength=\"40\" x=\"241\" y=\"78.1387\">«part»</text><text fill=\"#000000\" font-family=\"sans-serif\" font-size=\"12\" lengthAdjust=\"spacingAndGlyphs\" textLength=\"4\" x=\"259\" y=\"92.1074\">f</text><line style=\"stroke: #383838; stroke-width: 1.5;\" x1=\"241\" x2=\"281\" y1=\"99.9375\" y2=\"99.9375\"/></a><!--MD5=[96f4274e9e20536e775497830990834d]\n",
       "class E10--><a href=\"psysml:8f8b3cba-ab00-4478-b69f-246a2e072be5\" target=\"_top\" title=\"psysml:8f8b3cba-ab00-4478-b69f-246a2e072be5\" xlink:actuate=\"onRequest\" xlink:href=\"psysml:8f8b3cba-ab00-4478-b69f-246a2e072be5\" xlink:show=\"new\" xlink:title=\"psysml:8f8b3cba-ab00-4478-b69f-246a2e072be5\" xlink:type=\"simple\"><rect fill=\"#FFFFFF\" height=\"45.9375\" id=\"E10\" rx=\"10\" ry=\"10\" style=\"stroke: #383838; stroke-width: 1.5;\" width=\"42\" x=\"163\" y=\"62\"/><text fill=\"#000000\" font-family=\"sans-serif\" font-size=\"12\" font-style=\"italic\" lengthAdjust=\"spacingAndGlyphs\" textLength=\"40\" x=\"164\" y=\"78.1387\">«part»</text><text fill=\"#000000\" font-family=\"sans-serif\" font-size=\"12\" lengthAdjust=\"spacingAndGlyphs\" textLength=\"8\" x=\"180\" y=\"92.1074\">g</text><line style=\"stroke: #383838; stroke-width: 1.5;\" x1=\"164\" x2=\"204\" y1=\"99.9375\" y2=\"99.9375\"/></a><!--MD5=[1dd1bfd58a279cf63c5f349dbc8fc6a1]\n",
       "class E11--><a href=\"psysml:2c45c451-c8b5-4e48-8592-55fa30d535c5\" target=\"_top\" title=\"psysml:2c45c451-c8b5-4e48-8592-55fa30d535c5\" xlink:actuate=\"onRequest\" xlink:href=\"psysml:2c45c451-c8b5-4e48-8592-55fa30d535c5\" xlink:show=\"new\" xlink:title=\"psysml:2c45c451-c8b5-4e48-8592-55fa30d535c5\" xlink:type=\"simple\"><rect fill=\"#FFFFFF\" height=\"88.3516\" id=\"E11\" style=\"stroke: #383838; stroke-width: 1.5;\" width=\"95\" x=\"32.5\" y=\"41\"/><text fill=\"#000000\" font-family=\"sans-serif\" font-size=\"12\" font-style=\"italic\" lengthAdjust=\"spacingAndGlyphs\" textLength=\"93\" x=\"33.5\" y=\"57.1387\">«attribute def»</text><text fill=\"#000000\" font-family=\"sans-serif\" font-size=\"12\" lengthAdjust=\"spacingAndGlyphs\" textLength=\"8\" x=\"76\" y=\"71.1074\">A</text><line style=\"stroke: #383838; stroke-width: 1.5;\" x1=\"33.5\" x2=\"126.5\" y1=\"78.9375\" y2=\"78.9375\"/><text fill=\"#000000\" font-family=\"sans-serif\" font-size=\"11\" lengthAdjust=\"spacingAndGlyphs\" textLength=\"51\" x=\"38.5\" y=\"109.9526\">i: Integer</text><text fill=\"#000000\" font-family=\"sans-serif\" font-size=\"11\" lengthAdjust=\"spacingAndGlyphs\" textLength=\"21\" x=\"38.5\" y=\"122.7573\">x: A</text><line style=\"stroke: #383838; stroke-width: 1.0;\" x1=\"33.5\" x2=\"52.5\" y1=\"93.3398\" y2=\"93.3398\"/><text fill=\"#000000\" font-family=\"sans-serif\" font-size=\"11\" lengthAdjust=\"spacingAndGlyphs\" textLength=\"55\" x=\"52.5\" y=\"96.6479\">attributes</text><line style=\"stroke: #383838; stroke-width: 1.0;\" x1=\"107.5\" x2=\"126.5\" y1=\"93.3398\" y2=\"93.3398\"/></a><!--MD5=[15ebcb19ae302d9b601edb458606d402]\n",
       "link E5 to E2--><a href=\"psysml:99c2055f-0301-4891-b65d-9e517e6365b1\" target=\"_top\" title=\"psysml:99c2055f-0301-4891-b65d-9e517e6365b1\" xlink:actuate=\"onRequest\" xlink:href=\"psysml:99c2055f-0301-4891-b65d-9e517e6365b1\" xlink:show=\"new\" xlink:title=\"psysml:99c2055f-0301-4891-b65d-9e517e6365b1\" xlink:type=\"simple\"><path d=\"M562.12,108.06 C556.83,125 549.38,148.89 542.98,169.39 \" fill=\"none\" id=\"E5-&gt;E2\" style=\"stroke: #383838; stroke-width: 1.0;\"/><polygon fill=\"#FFFFFF\" points=\"536.95,188.74,535.929,168.5173,549.2931,172.6886,536.95,188.74\" style=\"stroke: #383838; stroke-width: 1.0;\"/><ellipse cx=\"539.5364\" cy=\"163.6721\" fill=\"#383838\" rx=\"2\" ry=\"2\" style=\"stroke: #383838; stroke-width: 1.0;\"/><ellipse cx=\"549.0823\" cy=\"166.6516\" fill=\"#383838\" rx=\"2\" ry=\"2\" style=\"stroke: #383838; stroke-width: 1.0;\"/></a><!--MD5=[2351f337d6de0f557b50152ba70847b5]\n",
       "link E6 to E2--><a href=\"psysml:035f6493-28ba-4968-b761-0ab46a395f55\" target=\"_top\" title=\"psysml:035f6493-28ba-4968-b761-0ab46a395f55\" xlink:actuate=\"onRequest\" xlink:href=\"psysml:035f6493-28ba-4968-b761-0ab46a395f55\" xlink:show=\"new\" xlink:title=\"psysml:035f6493-28ba-4968-b761-0ab46a395f55\" xlink:type=\"simple\"><path d=\"M498.71,108.06 C503.86,125 511.12,148.89 517.35,169.39 \" fill=\"none\" id=\"E6-&gt;E2\" style=\"stroke: #383838; stroke-width: 1.0;\"/><polygon fill=\"#FFFFFF\" points=\"523.23,188.74,511.007,172.597,524.4019,168.5255,523.23,188.74\" style=\"stroke: #383838; stroke-width: 1.0;\"/><ellipse cx=\"511.2628\" cy=\"166.5617\" fill=\"#383838\" rx=\"2\" ry=\"2\" style=\"stroke: #383838; stroke-width: 1.0;\"/><ellipse cx=\"520.8306\" cy=\"163.6535\" fill=\"#383838\" rx=\"2\" ry=\"2\" style=\"stroke: #383838; stroke-width: 1.0;\"/></a><!--MD5=[bb7a68c243a002d8f7da24fac17c1953]\n",
       "@startuml\r\n",
       "skinparam monochrome true\r\n",
       "skinparam classbackgroundcolor white\r\n",
       "skinparam shadowing false\r\n",
       "skinparam wrapWidth 300\r\n",
       "hide circle\r\n",
       "\r\n",
       "package \"MultiplicityTest\" as E1  [[psysml:d21f1d33-c8d8-4d7e-915c-a1dc21839292 ]]  {\r\n",
       "comp def \"P\" as E2  <<(T,blue) part def>> [[psysml:cfcc0fdc-4985-4a7c-8ed0-df1ec6a07f40 ]] {\r\n",
       "}\r\n",
       "comp usage \"n: Integer\" as E3  <<(T,blue) attribute>> [[psysml:6504cd03-3352-435e-8e5a-44d60f096993 ]] {\r\n",
       "}\r\n",
       "comp usage \"a\" as E4  <<(T,blue) part>> [[psysml:69df1372-c4de-42e4-b97b-1df20a9e4637 ]] {\r\n",
       "}\r\n",
       "comp usage \"b: P\" as E5  <<(T,blue) part>> [[psysml:ce135ed3-5db8-4159-aade-37d21406abf2 ]] {\r\n",
       "}\r\n",
       "comp usage \"c: P\" as E6  <<(T,blue) part>> [[psysml:7c20260d-33cb-4904-8feb-6f2059c0b9de ]] {\r\n",
       "}\r\n",
       "comp usage \"d\" as E7  <<(T,blue) part>> [[psysml:a788bf26-d852-4daf-8a66-fd926f14abf3 ]] {\r\n",
       "}\r\n",
       "comp usage \"e\" as E8  <<(T,blue) part>> [[psysml:8ca44daa-798d-42ea-8082-fded64fdb257 ]] {\r\n",
       "}\r\n",
       "comp usage \"f\" as E9  <<(T,blue) part>> [[psysml:94368454-840d-4091-abdb-e19ae5322c54 ]] {\r\n",
       "}\r\n",
       "comp usage \"g\" as E10  <<(T,blue) part>> [[psysml:8f8b3cba-ab00-4478-b69f-246a2e072be5 ]] {\r\n",
       "}\r\n",
       "comp def \"A\" as E11  <<(T,blue) attribute def>> [[psysml:2c45c451-c8b5-4e48-8592-55fa30d535c5 ]] {\r\n",
       "- - attributes - -\r\n",
       "i: Integer\r\n",
       "x: A\r\n",
       "}\r\n",
       "E5 - -:|> E2 [[psysml:99c2055f-0301-4891-b65d-9e517e6365b1 ]] \r\n",
       "E6 - -:|> E2 [[psysml:035f6493-28ba-4968-b761-0ab46a395f55 ]] \r\n",
       "}\r\n",
       "@enduml\r\n",
       "\n",
       "PlantUML version 1.2020.13(Sat Jun 13 12:26:38 UTC 2020)\n",
       "(EPL source distribution)\n",
       "Java Runtime: OpenJDK Runtime Environment\n",
       "JVM: OpenJDK 64-Bit Server VM\n",
       "Default Encoding: UTF-8\n",
       "Language: en\n",
       "Country: null\n",
       "--></g></svg>"
      ]
     },
     "execution_count": 37,
     "metadata": {},
     "output_type": "execute_result"
    }
   ],
   "source": [
    "%viz --style=\"DEFAULT\" --view=\"Default\" \"MultiplicityTest\""
   ]
  },
  {
   "cell_type": "code",
   "execution_count": 38,
   "id": "3985e2f2",
   "metadata": {
    "execution": {
     "iopub.execute_input": "2021-06-30T09:24:33.022725Z",
     "iopub.status.busy": "2021-06-30T09:24:33.022202Z",
     "iopub.status.idle": "2021-06-30T09:24:33.076476Z",
     "shell.execute_reply": "2021-06-30T09:24:33.076174Z"
    }
   },
   "outputs": [
    {
     "data": {
      "image/svg+xml": [
       "<?xml version=\"1.0\" encoding=\"UTF-8\" standalone=\"no\"?><svg xmlns=\"http://www.w3.org/2000/svg\" xmlns:xlink=\"http://www.w3.org/1999/xlink\" contentScriptType=\"application/ecmascript\" contentStyleType=\"text/css\" height=\"263px\" preserveAspectRatio=\"none\" style=\"width:812px;height:263px;\" version=\"1.1\" viewBox=\"0 0 812 263\" width=\"812px\" zoomAndPan=\"magnify\"><defs/><g><!--MD5=[fbc87193dbaf4d95561dea2c320d4a47]\n",
       "cluster E1--><a href=\"psysml:d21f1d33-c8d8-4d7e-915c-a1dc21839292\" target=\"_top\" title=\"psysml:d21f1d33-c8d8-4d7e-915c-a1dc21839292\" xlink:actuate=\"onRequest\" xlink:href=\"psysml:d21f1d33-c8d8-4d7e-915c-a1dc21839292\" xlink:show=\"new\" xlink:title=\"psysml:d21f1d33-c8d8-4d7e-915c-a1dc21839292\" xlink:type=\"simple\"><polygon fill=\"#FFFFFF\" points=\"16,6,140,6,147,28.2969,790,28.2969,790,251,16,251,16,6\" style=\"stroke: #000000; stroke-width: 1.5;\"/><line style=\"stroke: #000000; stroke-width: 1.5;\" x1=\"16\" x2=\"147\" y1=\"28.2969\" y2=\"28.2969\"/><text fill=\"#000000\" font-family=\"sans-serif\" font-size=\"14\" font-weight=\"bold\" lengthAdjust=\"spacingAndGlyphs\" textLength=\"118\" x=\"20\" y=\"20.9951\">MultiplicityTest</text></a><!--MD5=[b4997ac47864f28c2f74865a473b2911]\n",
       "class E2--><a href=\"psysml:cfcc0fdc-4985-4a7c-8ed0-df1ec6a07f40\" target=\"_top\" title=\"psysml:cfcc0fdc-4985-4a7c-8ed0-df1ec6a07f40\" xlink:actuate=\"onRequest\" xlink:href=\"psysml:cfcc0fdc-4985-4a7c-8ed0-df1ec6a07f40\" xlink:show=\"new\" xlink:title=\"psysml:cfcc0fdc-4985-4a7c-8ed0-df1ec6a07f40\" xlink:type=\"simple\"><rect fill=\"#FFFFFF\" height=\"45.9375\" id=\"E2\" style=\"stroke: #383838; stroke-width: 1.5;\" width=\"66\" x=\"497\" y=\"189\"/><text fill=\"#000000\" font-family=\"sans-serif\" font-size=\"12\" font-style=\"italic\" lengthAdjust=\"spacingAndGlyphs\" textLength=\"64\" x=\"498\" y=\"205.1387\">«part def»</text><text fill=\"#000000\" font-family=\"sans-serif\" font-size=\"12\" lengthAdjust=\"spacingAndGlyphs\" textLength=\"8\" x=\"526\" y=\"219.1074\">P</text><line style=\"stroke: #383838; stroke-width: 1.5;\" x1=\"498\" x2=\"562\" y1=\"226.9375\" y2=\"226.9375\"/></a><!--MD5=[09b614a08d8cba4a07c9adeb5e0fee81]\n",
       "class E3--><a href=\"psysml:6504cd03-3352-435e-8e5a-44d60f096993\" target=\"_top\" title=\"psysml:6504cd03-3352-435e-8e5a-44d60f096993\" xlink:actuate=\"onRequest\" xlink:href=\"psysml:6504cd03-3352-435e-8e5a-44d60f096993\" xlink:show=\"new\" xlink:title=\"psysml:6504cd03-3352-435e-8e5a-44d60f096993\" xlink:type=\"simple\"><rect fill=\"#FFFFFF\" height=\"45.9375\" id=\"E3\" rx=\"10\" ry=\"10\" style=\"stroke: #383838; stroke-width: 1.5;\" width=\"71\" x=\"702.5\" y=\"62\"/><text fill=\"#000000\" font-family=\"sans-serif\" font-size=\"12\" font-style=\"italic\" lengthAdjust=\"spacingAndGlyphs\" textLength=\"69\" x=\"703.5\" y=\"78.1387\">«attribute»</text><text fill=\"#000000\" font-family=\"sans-serif\" font-size=\"12\" lengthAdjust=\"spacingAndGlyphs\" textLength=\"61\" x=\"707.5\" y=\"92.1074\">n: Integer</text><line style=\"stroke: #383838; stroke-width: 1.5;\" x1=\"703.5\" x2=\"772.5\" y1=\"99.9375\" y2=\"99.9375\"/></a><!--MD5=[ebbe1d658d1005bcc118a6aa81145e00]\n",
       "class E4--><a href=\"psysml:69df1372-c4de-42e4-b97b-1df20a9e4637\" target=\"_top\" title=\"psysml:69df1372-c4de-42e4-b97b-1df20a9e4637\" xlink:actuate=\"onRequest\" xlink:href=\"psysml:69df1372-c4de-42e4-b97b-1df20a9e4637\" xlink:show=\"new\" xlink:title=\"psysml:69df1372-c4de-42e4-b97b-1df20a9e4637\" xlink:type=\"simple\"><rect fill=\"#FFFFFF\" height=\"45.9375\" id=\"E4\" rx=\"10\" ry=\"10\" style=\"stroke: #383838; stroke-width: 1.5;\" width=\"42\" x=\"625\" y=\"62\"/><text fill=\"#000000\" font-family=\"sans-serif\" font-size=\"12\" font-style=\"italic\" lengthAdjust=\"spacingAndGlyphs\" textLength=\"40\" x=\"626\" y=\"78.1387\">«part»</text><text fill=\"#000000\" font-family=\"sans-serif\" font-size=\"12\" lengthAdjust=\"spacingAndGlyphs\" textLength=\"8\" x=\"642\" y=\"92.1074\">a</text><line style=\"stroke: #383838; stroke-width: 1.5;\" x1=\"626\" x2=\"666\" y1=\"99.9375\" y2=\"99.9375\"/></a><!--MD5=[270fce915f116d4de14055a7c1d9a0f3]\n",
       "class E5--><a href=\"psysml:ce135ed3-5db8-4159-aade-37d21406abf2\" target=\"_top\" title=\"psysml:ce135ed3-5db8-4159-aade-37d21406abf2\" xlink:actuate=\"onRequest\" xlink:href=\"psysml:ce135ed3-5db8-4159-aade-37d21406abf2\" xlink:show=\"new\" xlink:title=\"psysml:ce135ed3-5db8-4159-aade-37d21406abf2\" xlink:type=\"simple\"><rect fill=\"#FFFFFF\" height=\"45.9375\" id=\"E5\" rx=\"10\" ry=\"10\" style=\"stroke: #383838; stroke-width: 1.5;\" width=\"42\" x=\"548\" y=\"62\"/><text fill=\"#000000\" font-family=\"sans-serif\" font-size=\"12\" font-style=\"italic\" lengthAdjust=\"spacingAndGlyphs\" textLength=\"40\" x=\"549\" y=\"78.1387\">«part»</text><text fill=\"#000000\" font-family=\"sans-serif\" font-size=\"12\" lengthAdjust=\"spacingAndGlyphs\" textLength=\"24\" x=\"557\" y=\"92.1074\">b: P</text><line style=\"stroke: #383838; stroke-width: 1.5;\" x1=\"549\" x2=\"589\" y1=\"99.9375\" y2=\"99.9375\"/></a><!--MD5=[60a26617385b1d2d0262a64233df1f8d]\n",
       "class E6--><a href=\"psysml:7c20260d-33cb-4904-8feb-6f2059c0b9de\" target=\"_top\" title=\"psysml:7c20260d-33cb-4904-8feb-6f2059c0b9de\" xlink:actuate=\"onRequest\" xlink:href=\"psysml:7c20260d-33cb-4904-8feb-6f2059c0b9de\" xlink:show=\"new\" xlink:title=\"psysml:7c20260d-33cb-4904-8feb-6f2059c0b9de\" xlink:type=\"simple\"><rect fill=\"#FFFFFF\" height=\"45.9375\" id=\"E6\" rx=\"10\" ry=\"10\" style=\"stroke: #383838; stroke-width: 1.5;\" width=\"42\" x=\"471\" y=\"62\"/><text fill=\"#000000\" font-family=\"sans-serif\" font-size=\"12\" font-style=\"italic\" lengthAdjust=\"spacingAndGlyphs\" textLength=\"40\" x=\"472\" y=\"78.1387\">«part»</text><text fill=\"#000000\" font-family=\"sans-serif\" font-size=\"12\" lengthAdjust=\"spacingAndGlyphs\" textLength=\"23\" x=\"480.5\" y=\"92.1074\">c: P</text><line style=\"stroke: #383838; stroke-width: 1.5;\" x1=\"472\" x2=\"512\" y1=\"99.9375\" y2=\"99.9375\"/></a><!--MD5=[2156ba9850f5573cc1fc38a6a4b2f02b]\n",
       "class E7--><a href=\"psysml:a788bf26-d852-4daf-8a66-fd926f14abf3\" target=\"_top\" title=\"psysml:a788bf26-d852-4daf-8a66-fd926f14abf3\" xlink:actuate=\"onRequest\" xlink:href=\"psysml:a788bf26-d852-4daf-8a66-fd926f14abf3\" xlink:show=\"new\" xlink:title=\"psysml:a788bf26-d852-4daf-8a66-fd926f14abf3\" xlink:type=\"simple\"><rect fill=\"#FFFFFF\" height=\"45.9375\" id=\"E7\" rx=\"10\" ry=\"10\" style=\"stroke: #383838; stroke-width: 1.5;\" width=\"42\" x=\"394\" y=\"62\"/><text fill=\"#000000\" font-family=\"sans-serif\" font-size=\"12\" font-style=\"italic\" lengthAdjust=\"spacingAndGlyphs\" textLength=\"40\" x=\"395\" y=\"78.1387\">«part»</text><text fill=\"#000000\" font-family=\"sans-serif\" font-size=\"12\" lengthAdjust=\"spacingAndGlyphs\" textLength=\"8\" x=\"411\" y=\"92.1074\">d</text><line style=\"stroke: #383838; stroke-width: 1.5;\" x1=\"395\" x2=\"435\" y1=\"99.9375\" y2=\"99.9375\"/></a><!--MD5=[b9389687b975829384b498ac4b7476b2]\n",
       "class E8--><a href=\"psysml:8ca44daa-798d-42ea-8082-fded64fdb257\" target=\"_top\" title=\"psysml:8ca44daa-798d-42ea-8082-fded64fdb257\" xlink:actuate=\"onRequest\" xlink:href=\"psysml:8ca44daa-798d-42ea-8082-fded64fdb257\" xlink:show=\"new\" xlink:title=\"psysml:8ca44daa-798d-42ea-8082-fded64fdb257\" xlink:type=\"simple\"><rect fill=\"#FFFFFF\" height=\"45.9375\" id=\"E8\" rx=\"10\" ry=\"10\" style=\"stroke: #383838; stroke-width: 1.5;\" width=\"42\" x=\"317\" y=\"62\"/><text fill=\"#000000\" font-family=\"sans-serif\" font-size=\"12\" font-style=\"italic\" lengthAdjust=\"spacingAndGlyphs\" textLength=\"40\" x=\"318\" y=\"78.1387\">«part»</text><text fill=\"#000000\" font-family=\"sans-serif\" font-size=\"12\" lengthAdjust=\"spacingAndGlyphs\" textLength=\"8\" x=\"334\" y=\"92.1074\">e</text><line style=\"stroke: #383838; stroke-width: 1.5;\" x1=\"318\" x2=\"358\" y1=\"99.9375\" y2=\"99.9375\"/></a><!--MD5=[fd4143e9d270a159db93a4ea2a975926]\n",
       "class E9--><a href=\"psysml:94368454-840d-4091-abdb-e19ae5322c54\" target=\"_top\" title=\"psysml:94368454-840d-4091-abdb-e19ae5322c54\" xlink:actuate=\"onRequest\" xlink:href=\"psysml:94368454-840d-4091-abdb-e19ae5322c54\" xlink:show=\"new\" xlink:title=\"psysml:94368454-840d-4091-abdb-e19ae5322c54\" xlink:type=\"simple\"><rect fill=\"#FFFFFF\" height=\"45.9375\" id=\"E9\" rx=\"10\" ry=\"10\" style=\"stroke: #383838; stroke-width: 1.5;\" width=\"42\" x=\"240\" y=\"62\"/><text fill=\"#000000\" font-family=\"sans-serif\" font-size=\"12\" font-style=\"italic\" lengthAdjust=\"spacingAndGlyphs\" textLength=\"40\" x=\"241\" y=\"78.1387\">«part»</text><text fill=\"#000000\" font-family=\"sans-serif\" font-size=\"12\" lengthAdjust=\"spacingAndGlyphs\" textLength=\"4\" x=\"259\" y=\"92.1074\">f</text><line style=\"stroke: #383838; stroke-width: 1.5;\" x1=\"241\" x2=\"281\" y1=\"99.9375\" y2=\"99.9375\"/></a><!--MD5=[96f4274e9e20536e775497830990834d]\n",
       "class E10--><a href=\"psysml:8f8b3cba-ab00-4478-b69f-246a2e072be5\" target=\"_top\" title=\"psysml:8f8b3cba-ab00-4478-b69f-246a2e072be5\" xlink:actuate=\"onRequest\" xlink:href=\"psysml:8f8b3cba-ab00-4478-b69f-246a2e072be5\" xlink:show=\"new\" xlink:title=\"psysml:8f8b3cba-ab00-4478-b69f-246a2e072be5\" xlink:type=\"simple\"><rect fill=\"#FFFFFF\" height=\"45.9375\" id=\"E10\" rx=\"10\" ry=\"10\" style=\"stroke: #383838; stroke-width: 1.5;\" width=\"42\" x=\"163\" y=\"62\"/><text fill=\"#000000\" font-family=\"sans-serif\" font-size=\"12\" font-style=\"italic\" lengthAdjust=\"spacingAndGlyphs\" textLength=\"40\" x=\"164\" y=\"78.1387\">«part»</text><text fill=\"#000000\" font-family=\"sans-serif\" font-size=\"12\" lengthAdjust=\"spacingAndGlyphs\" textLength=\"8\" x=\"180\" y=\"92.1074\">g</text><line style=\"stroke: #383838; stroke-width: 1.5;\" x1=\"164\" x2=\"204\" y1=\"99.9375\" y2=\"99.9375\"/></a><!--MD5=[1dd1bfd58a279cf63c5f349dbc8fc6a1]\n",
       "class E11--><a href=\"psysml:2c45c451-c8b5-4e48-8592-55fa30d535c5\" target=\"_top\" title=\"psysml:2c45c451-c8b5-4e48-8592-55fa30d535c5\" xlink:actuate=\"onRequest\" xlink:href=\"psysml:2c45c451-c8b5-4e48-8592-55fa30d535c5\" xlink:show=\"new\" xlink:title=\"psysml:2c45c451-c8b5-4e48-8592-55fa30d535c5\" xlink:type=\"simple\"><rect fill=\"#FFFFFF\" height=\"88.3516\" id=\"E11\" style=\"stroke: #383838; stroke-width: 1.5;\" width=\"95\" x=\"32.5\" y=\"41\"/><text fill=\"#000000\" font-family=\"sans-serif\" font-size=\"12\" font-style=\"italic\" lengthAdjust=\"spacingAndGlyphs\" textLength=\"93\" x=\"33.5\" y=\"57.1387\">«attribute def»</text><text fill=\"#000000\" font-family=\"sans-serif\" font-size=\"12\" lengthAdjust=\"spacingAndGlyphs\" textLength=\"8\" x=\"76\" y=\"71.1074\">A</text><line style=\"stroke: #383838; stroke-width: 1.5;\" x1=\"33.5\" x2=\"126.5\" y1=\"78.9375\" y2=\"78.9375\"/><text fill=\"#000000\" font-family=\"sans-serif\" font-size=\"11\" lengthAdjust=\"spacingAndGlyphs\" textLength=\"51\" x=\"38.5\" y=\"109.9526\">i: Integer</text><text fill=\"#000000\" font-family=\"sans-serif\" font-size=\"11\" lengthAdjust=\"spacingAndGlyphs\" textLength=\"21\" x=\"38.5\" y=\"122.7573\">x: A</text><line style=\"stroke: #383838; stroke-width: 1.0;\" x1=\"33.5\" x2=\"52.5\" y1=\"93.3398\" y2=\"93.3398\"/><text fill=\"#000000\" font-family=\"sans-serif\" font-size=\"11\" lengthAdjust=\"spacingAndGlyphs\" textLength=\"55\" x=\"52.5\" y=\"96.6479\">attributes</text><line style=\"stroke: #383838; stroke-width: 1.0;\" x1=\"107.5\" x2=\"126.5\" y1=\"93.3398\" y2=\"93.3398\"/></a><!--MD5=[15ebcb19ae302d9b601edb458606d402]\n",
       "link E5 to E2--><a href=\"psysml:99c2055f-0301-4891-b65d-9e517e6365b1\" target=\"_top\" title=\"psysml:99c2055f-0301-4891-b65d-9e517e6365b1\" xlink:actuate=\"onRequest\" xlink:href=\"psysml:99c2055f-0301-4891-b65d-9e517e6365b1\" xlink:show=\"new\" xlink:title=\"psysml:99c2055f-0301-4891-b65d-9e517e6365b1\" xlink:type=\"simple\"><path d=\"M562.12,108.06 C556.83,125 549.38,148.89 542.98,169.39 \" fill=\"none\" id=\"E5-&gt;E2\" style=\"stroke: #383838; stroke-width: 1.0;\"/><polygon fill=\"#FFFFFF\" points=\"536.95,188.74,535.929,168.5173,549.2931,172.6886,536.95,188.74\" style=\"stroke: #383838; stroke-width: 1.0;\"/><ellipse cx=\"539.5364\" cy=\"163.6721\" fill=\"#383838\" rx=\"2\" ry=\"2\" style=\"stroke: #383838; stroke-width: 1.0;\"/><ellipse cx=\"549.0823\" cy=\"166.6516\" fill=\"#383838\" rx=\"2\" ry=\"2\" style=\"stroke: #383838; stroke-width: 1.0;\"/></a><!--MD5=[2351f337d6de0f557b50152ba70847b5]\n",
       "link E6 to E2--><a href=\"psysml:035f6493-28ba-4968-b761-0ab46a395f55\" target=\"_top\" title=\"psysml:035f6493-28ba-4968-b761-0ab46a395f55\" xlink:actuate=\"onRequest\" xlink:href=\"psysml:035f6493-28ba-4968-b761-0ab46a395f55\" xlink:show=\"new\" xlink:title=\"psysml:035f6493-28ba-4968-b761-0ab46a395f55\" xlink:type=\"simple\"><path d=\"M498.71,108.06 C503.86,125 511.12,148.89 517.35,169.39 \" fill=\"none\" id=\"E6-&gt;E2\" style=\"stroke: #383838; stroke-width: 1.0;\"/><polygon fill=\"#FFFFFF\" points=\"523.23,188.74,511.007,172.597,524.4019,168.5255,523.23,188.74\" style=\"stroke: #383838; stroke-width: 1.0;\"/><ellipse cx=\"511.2628\" cy=\"166.5617\" fill=\"#383838\" rx=\"2\" ry=\"2\" style=\"stroke: #383838; stroke-width: 1.0;\"/><ellipse cx=\"520.8306\" cy=\"163.6535\" fill=\"#383838\" rx=\"2\" ry=\"2\" style=\"stroke: #383838; stroke-width: 1.0;\"/></a><!--MD5=[bb7a68c243a002d8f7da24fac17c1953]\n",
       "@startuml\r\n",
       "skinparam monochrome true\r\n",
       "skinparam classbackgroundcolor white\r\n",
       "skinparam shadowing false\r\n",
       "skinparam wrapWidth 300\r\n",
       "hide circle\r\n",
       "\r\n",
       "package \"MultiplicityTest\" as E1  [[psysml:d21f1d33-c8d8-4d7e-915c-a1dc21839292 ]]  {\r\n",
       "comp def \"P\" as E2  <<(T,blue) part def>> [[psysml:cfcc0fdc-4985-4a7c-8ed0-df1ec6a07f40 ]] {\r\n",
       "}\r\n",
       "comp usage \"n: Integer\" as E3  <<(T,blue) attribute>> [[psysml:6504cd03-3352-435e-8e5a-44d60f096993 ]] {\r\n",
       "}\r\n",
       "comp usage \"a\" as E4  <<(T,blue) part>> [[psysml:69df1372-c4de-42e4-b97b-1df20a9e4637 ]] {\r\n",
       "}\r\n",
       "comp usage \"b: P\" as E5  <<(T,blue) part>> [[psysml:ce135ed3-5db8-4159-aade-37d21406abf2 ]] {\r\n",
       "}\r\n",
       "comp usage \"c: P\" as E6  <<(T,blue) part>> [[psysml:7c20260d-33cb-4904-8feb-6f2059c0b9de ]] {\r\n",
       "}\r\n",
       "comp usage \"d\" as E7  <<(T,blue) part>> [[psysml:a788bf26-d852-4daf-8a66-fd926f14abf3 ]] {\r\n",
       "}\r\n",
       "comp usage \"e\" as E8  <<(T,blue) part>> [[psysml:8ca44daa-798d-42ea-8082-fded64fdb257 ]] {\r\n",
       "}\r\n",
       "comp usage \"f\" as E9  <<(T,blue) part>> [[psysml:94368454-840d-4091-abdb-e19ae5322c54 ]] {\r\n",
       "}\r\n",
       "comp usage \"g\" as E10  <<(T,blue) part>> [[psysml:8f8b3cba-ab00-4478-b69f-246a2e072be5 ]] {\r\n",
       "}\r\n",
       "comp def \"A\" as E11  <<(T,blue) attribute def>> [[psysml:2c45c451-c8b5-4e48-8592-55fa30d535c5 ]] {\r\n",
       "- - attributes - -\r\n",
       "i: Integer\r\n",
       "x: A\r\n",
       "}\r\n",
       "E5 - -:|> E2 [[psysml:99c2055f-0301-4891-b65d-9e517e6365b1 ]] \r\n",
       "E6 - -:|> E2 [[psysml:035f6493-28ba-4968-b761-0ab46a395f55 ]] \r\n",
       "}\r\n",
       "@enduml\r\n",
       "\n",
       "PlantUML version 1.2020.13(Sat Jun 13 12:26:38 UTC 2020)\n",
       "(EPL source distribution)\n",
       "Java Runtime: OpenJDK Runtime Environment\n",
       "JVM: OpenJDK 64-Bit Server VM\n",
       "Default Encoding: UTF-8\n",
       "Language: en\n",
       "Country: null\n",
       "--></g></svg>"
      ]
     },
     "execution_count": 38,
     "metadata": {},
     "output_type": "execute_result"
    }
   ],
   "source": [
    "%viz --style=\"DEFAULT\" --view=\"Tree\" \"MultiplicityTest\""
   ]
  },
  {
   "cell_type": "code",
   "execution_count": 39,
   "id": "a8ad0065",
   "metadata": {
    "execution": {
     "iopub.execute_input": "2021-06-30T09:24:33.128031Z",
     "iopub.status.busy": "2021-06-30T09:24:33.127479Z",
     "iopub.status.idle": "2021-06-30T09:24:33.132460Z",
     "shell.execute_reply": "2021-06-30T09:24:33.132142Z"
    }
   },
   "outputs": [
    {
     "data": {
      "image/svg+xml": [
       "<?xml version=\"1.0\" encoding=\"UTF-8\" standalone=\"no\"?><svg xmlns=\"http://www.w3.org/2000/svg\" xmlns:xlink=\"http://www.w3.org/1999/xlink\" contentScriptType=\"application/ecmascript\" contentStyleType=\"text/css\" height=\"12px\" preserveAspectRatio=\"none\" style=\"width:12px;height:12px;\" version=\"1.1\" viewBox=\"0 0 12 12\" width=\"12px\" zoomAndPan=\"magnify\"><defs/><g><!--MD5=[c5f280e076d0d61ccf4b0f27871bda1d]\n",
       "@startuml\r\n",
       "skinparam monochrome true\r\n",
       "skinparam classbackgroundcolor white\r\n",
       "skinparam shadowing false\r\n",
       "skinparam wrapWidth 300\r\n",
       "hide circle\r\n",
       "\r\n",
       "@enduml\r\n",
       "\n",
       "PlantUML version 1.2020.13(Sat Jun 13 12:26:38 UTC 2020)\n",
       "(EPL source distribution)\n",
       "Java Runtime: OpenJDK Runtime Environment\n",
       "JVM: OpenJDK 64-Bit Server VM\n",
       "Default Encoding: UTF-8\n",
       "Language: en\n",
       "Country: null\n",
       "--></g></svg>"
      ]
     },
     "execution_count": 39,
     "metadata": {},
     "output_type": "execute_result"
    }
   ],
   "source": [
    "%viz --style=\"DEFAULT\" --view=\"State\" \"MultiplicityTest\""
   ]
  },
  {
   "cell_type": "code",
   "execution_count": 40,
   "id": "058956e4",
   "metadata": {
    "execution": {
     "iopub.execute_input": "2021-06-30T09:24:33.185520Z",
     "iopub.status.busy": "2021-06-30T09:24:33.184475Z",
     "iopub.status.idle": "2021-06-30T09:24:33.212682Z",
     "shell.execute_reply": "2021-06-30T09:24:33.211187Z"
    }
   },
   "outputs": [
    {
     "data": {
      "image/svg+xml": [
       "<?xml version=\"1.0\" encoding=\"UTF-8\" standalone=\"no\"?><svg xmlns=\"http://www.w3.org/2000/svg\" xmlns:xlink=\"http://www.w3.org/1999/xlink\" contentScriptType=\"application/ecmascript\" contentStyleType=\"text/css\" height=\"115px\" preserveAspectRatio=\"none\" style=\"width:979px;height:115px;\" version=\"1.1\" viewBox=\"0 0 979 115\" width=\"979px\" zoomAndPan=\"magnify\"><defs/><g><!--MD5=[fbc87193dbaf4d95561dea2c320d4a47]\n",
       "cluster E1--><a href=\"psysml:d21f1d33-c8d8-4d7e-915c-a1dc21839292\" target=\"_top\" title=\"psysml:d21f1d33-c8d8-4d7e-915c-a1dc21839292\" xlink:actuate=\"onRequest\" xlink:href=\"psysml:d21f1d33-c8d8-4d7e-915c-a1dc21839292\" xlink:show=\"new\" xlink:title=\"psysml:d21f1d33-c8d8-4d7e-915c-a1dc21839292\" xlink:type=\"simple\"><polygon fill=\"#FFFFFF\" points=\"16,6,140,6,147,28.2969,957,28.2969,957,103,16,103,16,6\" style=\"stroke: #000000; stroke-width: 1.5;\"/><line style=\"stroke: #000000; stroke-width: 1.5;\" x1=\"16\" x2=\"147\" y1=\"28.2969\" y2=\"28.2969\"/><text fill=\"#000000\" font-family=\"sans-serif\" font-size=\"14\" font-weight=\"bold\" lengthAdjust=\"spacingAndGlyphs\" textLength=\"118\" x=\"20\" y=\"20.9951\">MultiplicityTest</text></a><!--MD5=[09b614a08d8cba4a07c9adeb5e0fee81]\n",
       "class E3--><a href=\"psysml:6504cd03-3352-435e-8e5a-44d60f096993\" target=\"_top\" title=\"psysml:6504cd03-3352-435e-8e5a-44d60f096993\" xlink:actuate=\"onRequest\" xlink:href=\"psysml:6504cd03-3352-435e-8e5a-44d60f096993\" xlink:show=\"new\" xlink:title=\"psysml:6504cd03-3352-435e-8e5a-44d60f096993\" xlink:type=\"simple\"><rect fill=\"#FFFFFF\" height=\"45.9375\" id=\"E3\" rx=\"10\" ry=\"10\" style=\"stroke: #383838; stroke-width: 1.5;\" width=\"71\" x=\"869.5\" y=\"41\"/><text fill=\"#000000\" font-family=\"sans-serif\" font-size=\"12\" font-style=\"italic\" lengthAdjust=\"spacingAndGlyphs\" textLength=\"69\" x=\"870.5\" y=\"57.1387\">«attribute»</text><text fill=\"#000000\" font-family=\"sans-serif\" font-size=\"12\" lengthAdjust=\"spacingAndGlyphs\" textLength=\"61\" x=\"874.5\" y=\"71.1074\">n: Integer</text><line style=\"stroke: #383838; stroke-width: 1.5;\" x1=\"870.5\" x2=\"939.5\" y1=\"78.9375\" y2=\"78.9375\"/></a><g id=\"E1.E11\"><a href=\"psysml:2c45c451-c8b5-4e48-8592-55fa30d535c5\" target=\"_top\" title=\"psysml:2c45c451-c8b5-4e48-8592-55fa30d535c5\" xlink:actuate=\"onRequest\" xlink:href=\"psysml:2c45c451-c8b5-4e48-8592-55fa30d535c5\" xlink:show=\"new\" xlink:title=\"psysml:2c45c451-c8b5-4e48-8592-55fa30d535c5\" xlink:type=\"simple\"><rect fill=\"#FFFFFF\" height=\"42.9375\" id=\"E11\" style=\"stroke: #383838; stroke-width: 1.5;\" width=\"100\" x=\"734\" y=\"42.5\"/><rect fill=\"#F8F8F8\" height=\"37.9375\" style=\"stroke: #383838; stroke-width: 1.5;\" width=\"100\" x=\"734\" y=\"42.5\"/><text fill=\"#000000\" font-family=\"sans-serif\" font-size=\"12\" font-style=\"italic\" lengthAdjust=\"spacingAndGlyphs\" textLength=\"93\" x=\"737.5\" y=\"58.6387\">«attribute def»</text><text fill=\"#000000\" font-family=\"sans-serif\" font-size=\"12\" lengthAdjust=\"spacingAndGlyphs\" textLength=\"8\" x=\"780\" y=\"72.6074\">A</text></a></g><g id=\"E1.E2\"><a href=\"psysml:cfcc0fdc-4985-4a7c-8ed0-df1ec6a07f40\" target=\"_top\" title=\"psysml:cfcc0fdc-4985-4a7c-8ed0-df1ec6a07f40\" xlink:actuate=\"onRequest\" xlink:href=\"psysml:cfcc0fdc-4985-4a7c-8ed0-df1ec6a07f40\" xlink:show=\"new\" xlink:title=\"psysml:cfcc0fdc-4985-4a7c-8ed0-df1ec6a07f40\" xlink:type=\"simple\"><rect fill=\"#FFFFFF\" height=\"42.9375\" id=\"E2\" style=\"stroke: #383838; stroke-width: 1.5;\" width=\"71\" x=\"627.5\" y=\"42.5\"/><rect fill=\"#F8F8F8\" height=\"37.9375\" style=\"stroke: #383838; stroke-width: 1.5;\" width=\"71\" x=\"627.5\" y=\"42.5\"/><text fill=\"#000000\" font-family=\"sans-serif\" font-size=\"12\" font-style=\"italic\" lengthAdjust=\"spacingAndGlyphs\" textLength=\"64\" x=\"631\" y=\"58.6387\">«part def»</text><text fill=\"#000000\" font-family=\"sans-serif\" font-size=\"12\" lengthAdjust=\"spacingAndGlyphs\" textLength=\"8\" x=\"659\" y=\"72.6074\">P</text></a></g><g id=\"E1.E4\"><a href=\"psysml:69df1372-c4de-42e4-b97b-1df20a9e4637\" target=\"_top\" title=\"psysml:69df1372-c4de-42e4-b97b-1df20a9e4637\" xlink:actuate=\"onRequest\" xlink:href=\"psysml:69df1372-c4de-42e4-b97b-1df20a9e4637\" xlink:show=\"new\" xlink:title=\"psysml:69df1372-c4de-42e4-b97b-1df20a9e4637\" xlink:type=\"simple\"><rect fill=\"#FFFFFF\" height=\"40\" id=\"E4\" rx=\"10\" ry=\"10\" style=\"stroke: #383838; stroke-width: 1.5;\" width=\"50\" x=\"542\" y=\"44\"/><rect fill=\"#F8F8F8\" height=\"23.9688\" rx=\"10\" ry=\"10\" style=\"stroke: #F8F8F8; stroke-width: 1.5;\" width=\"50\" x=\"542\" y=\"44\"/><rect fill=\"#F8F8F8\" height=\"10\" style=\"stroke: #F8F8F8; stroke-width: 1.5;\" width=\"50\" x=\"542\" y=\"57.9688\"/><rect fill=\"none\" height=\"40\" id=\"E4\" rx=\"10\" ry=\"10\" style=\"stroke: #383838; stroke-width: 1.5;\" width=\"50\" x=\"542\" y=\"44\"/><text fill=\"#000000\" font-family=\"sans-serif\" font-size=\"12\" lengthAdjust=\"spacingAndGlyphs\" textLength=\"8\" x=\"563\" y=\"60.1387\">a</text></a></g><g id=\"E1.E5\"><a href=\"psysml:ce135ed3-5db8-4159-aade-37d21406abf2\" target=\"_top\" title=\"psysml:ce135ed3-5db8-4159-aade-37d21406abf2\" xlink:actuate=\"onRequest\" xlink:href=\"psysml:ce135ed3-5db8-4159-aade-37d21406abf2\" xlink:show=\"new\" xlink:title=\"psysml:ce135ed3-5db8-4159-aade-37d21406abf2\" xlink:type=\"simple\"><rect fill=\"#FFFFFF\" height=\"40\" id=\"E5\" rx=\"10\" ry=\"10\" style=\"stroke: #383838; stroke-width: 1.5;\" width=\"50\" x=\"457\" y=\"44\"/><rect fill=\"#F8F8F8\" height=\"23.9688\" rx=\"10\" ry=\"10\" style=\"stroke: #F8F8F8; stroke-width: 1.5;\" width=\"50\" x=\"457\" y=\"44\"/><rect fill=\"#F8F8F8\" height=\"10\" style=\"stroke: #F8F8F8; stroke-width: 1.5;\" width=\"50\" x=\"457\" y=\"57.9688\"/><rect fill=\"none\" height=\"40\" id=\"E5\" rx=\"10\" ry=\"10\" style=\"stroke: #383838; stroke-width: 1.5;\" width=\"50\" x=\"457\" y=\"44\"/><text fill=\"#000000\" font-family=\"sans-serif\" font-size=\"12\" lengthAdjust=\"spacingAndGlyphs\" textLength=\"24\" x=\"470\" y=\"60.1387\">b: P</text></a></g><g id=\"E1.E6\"><a href=\"psysml:7c20260d-33cb-4904-8feb-6f2059c0b9de\" target=\"_top\" title=\"psysml:7c20260d-33cb-4904-8feb-6f2059c0b9de\" xlink:actuate=\"onRequest\" xlink:href=\"psysml:7c20260d-33cb-4904-8feb-6f2059c0b9de\" xlink:show=\"new\" xlink:title=\"psysml:7c20260d-33cb-4904-8feb-6f2059c0b9de\" xlink:type=\"simple\"><rect fill=\"#FFFFFF\" height=\"40\" id=\"E6\" rx=\"10\" ry=\"10\" style=\"stroke: #383838; stroke-width: 1.5;\" width=\"50\" x=\"372\" y=\"44\"/><rect fill=\"#F8F8F8\" height=\"23.9688\" rx=\"10\" ry=\"10\" style=\"stroke: #F8F8F8; stroke-width: 1.5;\" width=\"50\" x=\"372\" y=\"44\"/><rect fill=\"#F8F8F8\" height=\"10\" style=\"stroke: #F8F8F8; stroke-width: 1.5;\" width=\"50\" x=\"372\" y=\"57.9688\"/><rect fill=\"none\" height=\"40\" id=\"E6\" rx=\"10\" ry=\"10\" style=\"stroke: #383838; stroke-width: 1.5;\" width=\"50\" x=\"372\" y=\"44\"/><text fill=\"#000000\" font-family=\"sans-serif\" font-size=\"12\" lengthAdjust=\"spacingAndGlyphs\" textLength=\"23\" x=\"385.5\" y=\"60.1387\">c: P</text></a></g><g id=\"E1.E7\"><a href=\"psysml:a788bf26-d852-4daf-8a66-fd926f14abf3\" target=\"_top\" title=\"psysml:a788bf26-d852-4daf-8a66-fd926f14abf3\" xlink:actuate=\"onRequest\" xlink:href=\"psysml:a788bf26-d852-4daf-8a66-fd926f14abf3\" xlink:show=\"new\" xlink:title=\"psysml:a788bf26-d852-4daf-8a66-fd926f14abf3\" xlink:type=\"simple\"><rect fill=\"#FFFFFF\" height=\"40\" id=\"E7\" rx=\"10\" ry=\"10\" style=\"stroke: #383838; stroke-width: 1.5;\" width=\"50\" x=\"287\" y=\"44\"/><rect fill=\"#F8F8F8\" height=\"23.9688\" rx=\"10\" ry=\"10\" style=\"stroke: #F8F8F8; stroke-width: 1.5;\" width=\"50\" x=\"287\" y=\"44\"/><rect fill=\"#F8F8F8\" height=\"10\" style=\"stroke: #F8F8F8; stroke-width: 1.5;\" width=\"50\" x=\"287\" y=\"57.9688\"/><rect fill=\"none\" height=\"40\" id=\"E7\" rx=\"10\" ry=\"10\" style=\"stroke: #383838; stroke-width: 1.5;\" width=\"50\" x=\"287\" y=\"44\"/><text fill=\"#000000\" font-family=\"sans-serif\" font-size=\"12\" lengthAdjust=\"spacingAndGlyphs\" textLength=\"8\" x=\"308\" y=\"60.1387\">d</text></a></g><g id=\"E1.E8\"><a href=\"psysml:8ca44daa-798d-42ea-8082-fded64fdb257\" target=\"_top\" title=\"psysml:8ca44daa-798d-42ea-8082-fded64fdb257\" xlink:actuate=\"onRequest\" xlink:href=\"psysml:8ca44daa-798d-42ea-8082-fded64fdb257\" xlink:show=\"new\" xlink:title=\"psysml:8ca44daa-798d-42ea-8082-fded64fdb257\" xlink:type=\"simple\"><rect fill=\"#FFFFFF\" height=\"40\" id=\"E8\" rx=\"10\" ry=\"10\" style=\"stroke: #383838; stroke-width: 1.5;\" width=\"50\" x=\"202\" y=\"44\"/><rect fill=\"#F8F8F8\" height=\"23.9688\" rx=\"10\" ry=\"10\" style=\"stroke: #F8F8F8; stroke-width: 1.5;\" width=\"50\" x=\"202\" y=\"44\"/><rect fill=\"#F8F8F8\" height=\"10\" style=\"stroke: #F8F8F8; stroke-width: 1.5;\" width=\"50\" x=\"202\" y=\"57.9688\"/><rect fill=\"none\" height=\"40\" id=\"E8\" rx=\"10\" ry=\"10\" style=\"stroke: #383838; stroke-width: 1.5;\" width=\"50\" x=\"202\" y=\"44\"/><text fill=\"#000000\" font-family=\"sans-serif\" font-size=\"12\" lengthAdjust=\"spacingAndGlyphs\" textLength=\"8\" x=\"223\" y=\"60.1387\">e</text></a></g><g id=\"E1.E9\"><a href=\"psysml:94368454-840d-4091-abdb-e19ae5322c54\" target=\"_top\" title=\"psysml:94368454-840d-4091-abdb-e19ae5322c54\" xlink:actuate=\"onRequest\" xlink:href=\"psysml:94368454-840d-4091-abdb-e19ae5322c54\" xlink:show=\"new\" xlink:title=\"psysml:94368454-840d-4091-abdb-e19ae5322c54\" xlink:type=\"simple\"><rect fill=\"#FFFFFF\" height=\"40\" id=\"E9\" rx=\"10\" ry=\"10\" style=\"stroke: #383838; stroke-width: 1.5;\" width=\"50\" x=\"117\" y=\"44\"/><rect fill=\"#F8F8F8\" height=\"23.9688\" rx=\"10\" ry=\"10\" style=\"stroke: #F8F8F8; stroke-width: 1.5;\" width=\"50\" x=\"117\" y=\"44\"/><rect fill=\"#F8F8F8\" height=\"10\" style=\"stroke: #F8F8F8; stroke-width: 1.5;\" width=\"50\" x=\"117\" y=\"57.9688\"/><rect fill=\"none\" height=\"40\" id=\"E9\" rx=\"10\" ry=\"10\" style=\"stroke: #383838; stroke-width: 1.5;\" width=\"50\" x=\"117\" y=\"44\"/><text fill=\"#000000\" font-family=\"sans-serif\" font-size=\"12\" lengthAdjust=\"spacingAndGlyphs\" textLength=\"4\" x=\"140\" y=\"60.1387\">f</text></a></g><g id=\"E1.E10\"><a href=\"psysml:8f8b3cba-ab00-4478-b69f-246a2e072be5\" target=\"_top\" title=\"psysml:8f8b3cba-ab00-4478-b69f-246a2e072be5\" xlink:actuate=\"onRequest\" xlink:href=\"psysml:8f8b3cba-ab00-4478-b69f-246a2e072be5\" xlink:show=\"new\" xlink:title=\"psysml:8f8b3cba-ab00-4478-b69f-246a2e072be5\" xlink:type=\"simple\"><rect fill=\"#FFFFFF\" height=\"40\" id=\"E10\" rx=\"10\" ry=\"10\" style=\"stroke: #383838; stroke-width: 1.5;\" width=\"50\" x=\"32\" y=\"44\"/><rect fill=\"#F8F8F8\" height=\"23.9688\" rx=\"10\" ry=\"10\" style=\"stroke: #F8F8F8; stroke-width: 1.5;\" width=\"50\" x=\"32\" y=\"44\"/><rect fill=\"#F8F8F8\" height=\"10\" style=\"stroke: #F8F8F8; stroke-width: 1.5;\" width=\"50\" x=\"32\" y=\"57.9688\"/><rect fill=\"none\" height=\"40\" id=\"E10\" rx=\"10\" ry=\"10\" style=\"stroke: #383838; stroke-width: 1.5;\" width=\"50\" x=\"32\" y=\"44\"/><text fill=\"#000000\" font-family=\"sans-serif\" font-size=\"12\" lengthAdjust=\"spacingAndGlyphs\" textLength=\"8\" x=\"53\" y=\"60.1387\">g</text></a></g><!--MD5=[7d6ca9b8831685a899133d8da3f225ec]\n",
       "@startuml\r\n",
       "skinparam ranksep 10\r\n",
       "skinparam rectangle {\r\n",
       " backgroundColor<<block>> LightGreen\r\n",
       "}\r\n",
       "skinparam monochrome true\r\n",
       "skinparam classbackgroundcolor white\r\n",
       "skinparam shadowing false\r\n",
       "skinparam wrapWidth 300\r\n",
       "hide circle\r\n",
       "\r\n",
       "package \"MultiplicityTest\" as E1  [[psysml:d21f1d33-c8d8-4d7e-915c-a1dc21839292 ]]  {\r\n",
       "rec def \"P\" as E2  <<(T,blue) part def>> [[psysml:cfcc0fdc-4985-4a7c-8ed0-df1ec6a07f40 ]] {\r\n",
       "}\r\n",
       "comp usage \"n: Integer\" as E3  <<(T,blue) attribute>> [[psysml:6504cd03-3352-435e-8e5a-44d60f096993 ]] {\r\n",
       "}\r\n",
       "rec usage \"a\" as E4  [[psysml:69df1372-c4de-42e4-b97b-1df20a9e4637 ]] {\r\n",
       "}\r\n",
       "rec usage \"b: P\" as E5  [[psysml:ce135ed3-5db8-4159-aade-37d21406abf2 ]] {\r\n",
       "}\r\n",
       "rec usage \"c: P\" as E6  [[psysml:7c20260d-33cb-4904-8feb-6f2059c0b9de ]] {\r\n",
       "}\r\n",
       "rec usage \"d\" as E7  [[psysml:a788bf26-d852-4daf-8a66-fd926f14abf3 ]] {\r\n",
       "}\r\n",
       "rec usage \"e\" as E8  [[psysml:8ca44daa-798d-42ea-8082-fded64fdb257 ]] {\r\n",
       "}\r\n",
       "rec usage \"f\" as E9  [[psysml:94368454-840d-4091-abdb-e19ae5322c54 ]] {\r\n",
       "}\r\n",
       "rec usage \"g\" as E10  [[psysml:8f8b3cba-ab00-4478-b69f-246a2e072be5 ]] {\r\n",
       "}\r\n",
       "def \"A\" as E11  <<(T,blue) attribute def>> [[psysml:2c45c451-c8b5-4e48-8592-55fa30d535c5 ]] \r\n",
       "}\r\n",
       "@enduml\r\n",
       "\n",
       "PlantUML version 1.2020.13(Sat Jun 13 12:26:38 UTC 2020)\n",
       "(EPL source distribution)\n",
       "Java Runtime: OpenJDK Runtime Environment\n",
       "JVM: OpenJDK 64-Bit Server VM\n",
       "Default Encoding: UTF-8\n",
       "Language: en\n",
       "Country: null\n",
       "--></g></svg>"
      ]
     },
     "execution_count": 40,
     "metadata": {},
     "output_type": "execute_result"
    }
   ],
   "source": [
    "%viz --style=\"DEFAULT\" --view=\"Interconnection\" \"MultiplicityTest\""
   ]
  },
  {
   "cell_type": "code",
   "execution_count": 41,
   "id": "54c57bcd",
   "metadata": {
    "execution": {
     "iopub.execute_input": "2021-06-30T09:24:33.264822Z",
     "iopub.status.busy": "2021-06-30T09:24:33.263451Z",
     "iopub.status.idle": "2021-06-30T09:24:33.272369Z",
     "shell.execute_reply": "2021-06-30T09:24:33.272005Z"
    }
   },
   "outputs": [
    {
     "data": {
      "image/svg+xml": [
       "<?xml version=\"1.0\" encoding=\"UTF-8\" standalone=\"no\"?><svg xmlns=\"http://www.w3.org/2000/svg\" xmlns:xlink=\"http://www.w3.org/1999/xlink\" contentScriptType=\"application/ecmascript\" contentStyleType=\"text/css\" height=\"12px\" preserveAspectRatio=\"none\" style=\"width:12px;height:12px;\" version=\"1.1\" viewBox=\"0 0 12 12\" width=\"12px\" zoomAndPan=\"magnify\"><defs/><g><!--MD5=[388f21188e31bfdd97050473b19af356]\n",
       "@startuml\r\n",
       "skinparam ranksep 8\r\n",
       "skinparam monochrome true\r\n",
       "skinparam classbackgroundcolor white\r\n",
       "skinparam shadowing false\r\n",
       "skinparam wrapWidth 300\r\n",
       "hide circle\r\n",
       "\r\n",
       "@enduml\r\n",
       "\n",
       "PlantUML version 1.2020.13(Sat Jun 13 12:26:38 UTC 2020)\n",
       "(EPL source distribution)\n",
       "Java Runtime: OpenJDK Runtime Environment\n",
       "JVM: OpenJDK 64-Bit Server VM\n",
       "Default Encoding: UTF-8\n",
       "Language: en\n",
       "Country: null\n",
       "--></g></svg>"
      ]
     },
     "execution_count": 41,
     "metadata": {},
     "output_type": "execute_result"
    }
   ],
   "source": [
    "%viz --style=\"DEFAULT\" --view=\"Action\" \"MultiplicityTest\""
   ]
  },
  {
   "cell_type": "code",
   "execution_count": 42,
   "id": "e45dee2f",
   "metadata": {
    "execution": {
     "iopub.execute_input": "2021-06-30T09:24:33.322028Z",
     "iopub.status.busy": "2021-06-30T09:24:33.321343Z",
     "iopub.status.idle": "2021-06-30T09:24:33.377725Z",
     "shell.execute_reply": "2021-06-30T09:24:33.377465Z"
    }
   },
   "outputs": [
    {
     "data": {
      "image/svg+xml": [
       "<?xml version=\"1.0\" encoding=\"UTF-8\" standalone=\"no\"?><svg xmlns=\"http://www.w3.org/2000/svg\" xmlns:xlink=\"http://www.w3.org/1999/xlink\" contentScriptType=\"application/ecmascript\" contentStyleType=\"text/css\" height=\"263px\" preserveAspectRatio=\"none\" style=\"width:812px;height:263px;\" version=\"1.1\" viewBox=\"0 0 812 263\" width=\"812px\" zoomAndPan=\"magnify\"><defs/><g><!--MD5=[fbc87193dbaf4d95561dea2c320d4a47]\n",
       "cluster E1--><a href=\"psysml:d21f1d33-c8d8-4d7e-915c-a1dc21839292\" target=\"_top\" title=\"psysml:d21f1d33-c8d8-4d7e-915c-a1dc21839292\" xlink:actuate=\"onRequest\" xlink:href=\"psysml:d21f1d33-c8d8-4d7e-915c-a1dc21839292\" xlink:show=\"new\" xlink:title=\"psysml:d21f1d33-c8d8-4d7e-915c-a1dc21839292\" xlink:type=\"simple\"><polygon fill=\"#FFFFFF\" points=\"16,6,140,6,147,28.2969,790,28.2969,790,251,16,251,16,6\" style=\"stroke: #000000; stroke-width: 1.5;\"/><line style=\"stroke: #000000; stroke-width: 1.5;\" x1=\"16\" x2=\"147\" y1=\"28.2969\" y2=\"28.2969\"/><text fill=\"#000000\" font-family=\"sans-serif\" font-size=\"14\" font-weight=\"bold\" lengthAdjust=\"spacingAndGlyphs\" textLength=\"118\" x=\"20\" y=\"20.9951\">MultiplicityTest</text></a><!--MD5=[b4997ac47864f28c2f74865a473b2911]\n",
       "class E2--><a href=\"psysml:cfcc0fdc-4985-4a7c-8ed0-df1ec6a07f40\" target=\"_top\" title=\"psysml:cfcc0fdc-4985-4a7c-8ed0-df1ec6a07f40\" xlink:actuate=\"onRequest\" xlink:href=\"psysml:cfcc0fdc-4985-4a7c-8ed0-df1ec6a07f40\" xlink:show=\"new\" xlink:title=\"psysml:cfcc0fdc-4985-4a7c-8ed0-df1ec6a07f40\" xlink:type=\"simple\"><rect fill=\"#FFFFFF\" height=\"45.9375\" id=\"E2\" style=\"stroke: #383838; stroke-width: 1.5;\" width=\"66\" x=\"497\" y=\"189\"/><text fill=\"#000000\" font-family=\"sans-serif\" font-size=\"12\" font-style=\"italic\" lengthAdjust=\"spacingAndGlyphs\" textLength=\"64\" x=\"498\" y=\"205.1387\">«part def»</text><text fill=\"#000000\" font-family=\"sans-serif\" font-size=\"12\" lengthAdjust=\"spacingAndGlyphs\" textLength=\"8\" x=\"526\" y=\"219.1074\">P</text><line style=\"stroke: #383838; stroke-width: 1.5;\" x1=\"498\" x2=\"562\" y1=\"226.9375\" y2=\"226.9375\"/></a><!--MD5=[09b614a08d8cba4a07c9adeb5e0fee81]\n",
       "class E3--><a href=\"psysml:6504cd03-3352-435e-8e5a-44d60f096993\" target=\"_top\" title=\"psysml:6504cd03-3352-435e-8e5a-44d60f096993\" xlink:actuate=\"onRequest\" xlink:href=\"psysml:6504cd03-3352-435e-8e5a-44d60f096993\" xlink:show=\"new\" xlink:title=\"psysml:6504cd03-3352-435e-8e5a-44d60f096993\" xlink:type=\"simple\"><rect fill=\"#FFFFFF\" height=\"45.9375\" id=\"E3\" rx=\"10\" ry=\"10\" style=\"stroke: #383838; stroke-width: 1.5;\" width=\"71\" x=\"702.5\" y=\"62\"/><text fill=\"#000000\" font-family=\"sans-serif\" font-size=\"12\" font-style=\"italic\" lengthAdjust=\"spacingAndGlyphs\" textLength=\"69\" x=\"703.5\" y=\"78.1387\">«attribute»</text><text fill=\"#000000\" font-family=\"sans-serif\" font-size=\"12\" lengthAdjust=\"spacingAndGlyphs\" textLength=\"61\" x=\"707.5\" y=\"92.1074\">n: Integer</text><line style=\"stroke: #383838; stroke-width: 1.5;\" x1=\"703.5\" x2=\"772.5\" y1=\"99.9375\" y2=\"99.9375\"/></a><!--MD5=[ebbe1d658d1005bcc118a6aa81145e00]\n",
       "class E4--><a href=\"psysml:69df1372-c4de-42e4-b97b-1df20a9e4637\" target=\"_top\" title=\"psysml:69df1372-c4de-42e4-b97b-1df20a9e4637\" xlink:actuate=\"onRequest\" xlink:href=\"psysml:69df1372-c4de-42e4-b97b-1df20a9e4637\" xlink:show=\"new\" xlink:title=\"psysml:69df1372-c4de-42e4-b97b-1df20a9e4637\" xlink:type=\"simple\"><rect fill=\"#FFFFFF\" height=\"45.9375\" id=\"E4\" rx=\"10\" ry=\"10\" style=\"stroke: #383838; stroke-width: 1.5;\" width=\"42\" x=\"625\" y=\"62\"/><text fill=\"#000000\" font-family=\"sans-serif\" font-size=\"12\" font-style=\"italic\" lengthAdjust=\"spacingAndGlyphs\" textLength=\"40\" x=\"626\" y=\"78.1387\">«part»</text><text fill=\"#000000\" font-family=\"sans-serif\" font-size=\"12\" lengthAdjust=\"spacingAndGlyphs\" textLength=\"8\" x=\"642\" y=\"92.1074\">a</text><line style=\"stroke: #383838; stroke-width: 1.5;\" x1=\"626\" x2=\"666\" y1=\"99.9375\" y2=\"99.9375\"/></a><!--MD5=[270fce915f116d4de14055a7c1d9a0f3]\n",
       "class E5--><a href=\"psysml:ce135ed3-5db8-4159-aade-37d21406abf2\" target=\"_top\" title=\"psysml:ce135ed3-5db8-4159-aade-37d21406abf2\" xlink:actuate=\"onRequest\" xlink:href=\"psysml:ce135ed3-5db8-4159-aade-37d21406abf2\" xlink:show=\"new\" xlink:title=\"psysml:ce135ed3-5db8-4159-aade-37d21406abf2\" xlink:type=\"simple\"><rect fill=\"#FFFFFF\" height=\"45.9375\" id=\"E5\" rx=\"10\" ry=\"10\" style=\"stroke: #383838; stroke-width: 1.5;\" width=\"42\" x=\"548\" y=\"62\"/><text fill=\"#000000\" font-family=\"sans-serif\" font-size=\"12\" font-style=\"italic\" lengthAdjust=\"spacingAndGlyphs\" textLength=\"40\" x=\"549\" y=\"78.1387\">«part»</text><text fill=\"#000000\" font-family=\"sans-serif\" font-size=\"12\" lengthAdjust=\"spacingAndGlyphs\" textLength=\"24\" x=\"557\" y=\"92.1074\">b: P</text><line style=\"stroke: #383838; stroke-width: 1.5;\" x1=\"549\" x2=\"589\" y1=\"99.9375\" y2=\"99.9375\"/></a><!--MD5=[60a26617385b1d2d0262a64233df1f8d]\n",
       "class E6--><a href=\"psysml:7c20260d-33cb-4904-8feb-6f2059c0b9de\" target=\"_top\" title=\"psysml:7c20260d-33cb-4904-8feb-6f2059c0b9de\" xlink:actuate=\"onRequest\" xlink:href=\"psysml:7c20260d-33cb-4904-8feb-6f2059c0b9de\" xlink:show=\"new\" xlink:title=\"psysml:7c20260d-33cb-4904-8feb-6f2059c0b9de\" xlink:type=\"simple\"><rect fill=\"#FFFFFF\" height=\"45.9375\" id=\"E6\" rx=\"10\" ry=\"10\" style=\"stroke: #383838; stroke-width: 1.5;\" width=\"42\" x=\"471\" y=\"62\"/><text fill=\"#000000\" font-family=\"sans-serif\" font-size=\"12\" font-style=\"italic\" lengthAdjust=\"spacingAndGlyphs\" textLength=\"40\" x=\"472\" y=\"78.1387\">«part»</text><text fill=\"#000000\" font-family=\"sans-serif\" font-size=\"12\" lengthAdjust=\"spacingAndGlyphs\" textLength=\"23\" x=\"480.5\" y=\"92.1074\">c: P</text><line style=\"stroke: #383838; stroke-width: 1.5;\" x1=\"472\" x2=\"512\" y1=\"99.9375\" y2=\"99.9375\"/></a><!--MD5=[2156ba9850f5573cc1fc38a6a4b2f02b]\n",
       "class E7--><a href=\"psysml:a788bf26-d852-4daf-8a66-fd926f14abf3\" target=\"_top\" title=\"psysml:a788bf26-d852-4daf-8a66-fd926f14abf3\" xlink:actuate=\"onRequest\" xlink:href=\"psysml:a788bf26-d852-4daf-8a66-fd926f14abf3\" xlink:show=\"new\" xlink:title=\"psysml:a788bf26-d852-4daf-8a66-fd926f14abf3\" xlink:type=\"simple\"><rect fill=\"#FFFFFF\" height=\"45.9375\" id=\"E7\" rx=\"10\" ry=\"10\" style=\"stroke: #383838; stroke-width: 1.5;\" width=\"42\" x=\"394\" y=\"62\"/><text fill=\"#000000\" font-family=\"sans-serif\" font-size=\"12\" font-style=\"italic\" lengthAdjust=\"spacingAndGlyphs\" textLength=\"40\" x=\"395\" y=\"78.1387\">«part»</text><text fill=\"#000000\" font-family=\"sans-serif\" font-size=\"12\" lengthAdjust=\"spacingAndGlyphs\" textLength=\"8\" x=\"411\" y=\"92.1074\">d</text><line style=\"stroke: #383838; stroke-width: 1.5;\" x1=\"395\" x2=\"435\" y1=\"99.9375\" y2=\"99.9375\"/></a><!--MD5=[b9389687b975829384b498ac4b7476b2]\n",
       "class E8--><a href=\"psysml:8ca44daa-798d-42ea-8082-fded64fdb257\" target=\"_top\" title=\"psysml:8ca44daa-798d-42ea-8082-fded64fdb257\" xlink:actuate=\"onRequest\" xlink:href=\"psysml:8ca44daa-798d-42ea-8082-fded64fdb257\" xlink:show=\"new\" xlink:title=\"psysml:8ca44daa-798d-42ea-8082-fded64fdb257\" xlink:type=\"simple\"><rect fill=\"#FFFFFF\" height=\"45.9375\" id=\"E8\" rx=\"10\" ry=\"10\" style=\"stroke: #383838; stroke-width: 1.5;\" width=\"42\" x=\"317\" y=\"62\"/><text fill=\"#000000\" font-family=\"sans-serif\" font-size=\"12\" font-style=\"italic\" lengthAdjust=\"spacingAndGlyphs\" textLength=\"40\" x=\"318\" y=\"78.1387\">«part»</text><text fill=\"#000000\" font-family=\"sans-serif\" font-size=\"12\" lengthAdjust=\"spacingAndGlyphs\" textLength=\"8\" x=\"334\" y=\"92.1074\">e</text><line style=\"stroke: #383838; stroke-width: 1.5;\" x1=\"318\" x2=\"358\" y1=\"99.9375\" y2=\"99.9375\"/></a><!--MD5=[fd4143e9d270a159db93a4ea2a975926]\n",
       "class E9--><a href=\"psysml:94368454-840d-4091-abdb-e19ae5322c54\" target=\"_top\" title=\"psysml:94368454-840d-4091-abdb-e19ae5322c54\" xlink:actuate=\"onRequest\" xlink:href=\"psysml:94368454-840d-4091-abdb-e19ae5322c54\" xlink:show=\"new\" xlink:title=\"psysml:94368454-840d-4091-abdb-e19ae5322c54\" xlink:type=\"simple\"><rect fill=\"#FFFFFF\" height=\"45.9375\" id=\"E9\" rx=\"10\" ry=\"10\" style=\"stroke: #383838; stroke-width: 1.5;\" width=\"42\" x=\"240\" y=\"62\"/><text fill=\"#000000\" font-family=\"sans-serif\" font-size=\"12\" font-style=\"italic\" lengthAdjust=\"spacingAndGlyphs\" textLength=\"40\" x=\"241\" y=\"78.1387\">«part»</text><text fill=\"#000000\" font-family=\"sans-serif\" font-size=\"12\" lengthAdjust=\"spacingAndGlyphs\" textLength=\"4\" x=\"259\" y=\"92.1074\">f</text><line style=\"stroke: #383838; stroke-width: 1.5;\" x1=\"241\" x2=\"281\" y1=\"99.9375\" y2=\"99.9375\"/></a><!--MD5=[96f4274e9e20536e775497830990834d]\n",
       "class E10--><a href=\"psysml:8f8b3cba-ab00-4478-b69f-246a2e072be5\" target=\"_top\" title=\"psysml:8f8b3cba-ab00-4478-b69f-246a2e072be5\" xlink:actuate=\"onRequest\" xlink:href=\"psysml:8f8b3cba-ab00-4478-b69f-246a2e072be5\" xlink:show=\"new\" xlink:title=\"psysml:8f8b3cba-ab00-4478-b69f-246a2e072be5\" xlink:type=\"simple\"><rect fill=\"#FFFFFF\" height=\"45.9375\" id=\"E10\" rx=\"10\" ry=\"10\" style=\"stroke: #383838; stroke-width: 1.5;\" width=\"42\" x=\"163\" y=\"62\"/><text fill=\"#000000\" font-family=\"sans-serif\" font-size=\"12\" font-style=\"italic\" lengthAdjust=\"spacingAndGlyphs\" textLength=\"40\" x=\"164\" y=\"78.1387\">«part»</text><text fill=\"#000000\" font-family=\"sans-serif\" font-size=\"12\" lengthAdjust=\"spacingAndGlyphs\" textLength=\"8\" x=\"180\" y=\"92.1074\">g</text><line style=\"stroke: #383838; stroke-width: 1.5;\" x1=\"164\" x2=\"204\" y1=\"99.9375\" y2=\"99.9375\"/></a><!--MD5=[1dd1bfd58a279cf63c5f349dbc8fc6a1]\n",
       "class E11--><a href=\"psysml:2c45c451-c8b5-4e48-8592-55fa30d535c5\" target=\"_top\" title=\"psysml:2c45c451-c8b5-4e48-8592-55fa30d535c5\" xlink:actuate=\"onRequest\" xlink:href=\"psysml:2c45c451-c8b5-4e48-8592-55fa30d535c5\" xlink:show=\"new\" xlink:title=\"psysml:2c45c451-c8b5-4e48-8592-55fa30d535c5\" xlink:type=\"simple\"><rect fill=\"#FFFFFF\" height=\"88.3516\" id=\"E11\" style=\"stroke: #383838; stroke-width: 1.5;\" width=\"95\" x=\"32.5\" y=\"41\"/><text fill=\"#000000\" font-family=\"sans-serif\" font-size=\"12\" font-style=\"italic\" lengthAdjust=\"spacingAndGlyphs\" textLength=\"93\" x=\"33.5\" y=\"57.1387\">«attribute def»</text><text fill=\"#000000\" font-family=\"sans-serif\" font-size=\"12\" lengthAdjust=\"spacingAndGlyphs\" textLength=\"8\" x=\"76\" y=\"71.1074\">A</text><line style=\"stroke: #383838; stroke-width: 1.5;\" x1=\"33.5\" x2=\"126.5\" y1=\"78.9375\" y2=\"78.9375\"/><text fill=\"#000000\" font-family=\"sans-serif\" font-size=\"11\" lengthAdjust=\"spacingAndGlyphs\" textLength=\"51\" x=\"38.5\" y=\"109.9526\">i: Integer</text><text fill=\"#000000\" font-family=\"sans-serif\" font-size=\"11\" lengthAdjust=\"spacingAndGlyphs\" textLength=\"21\" x=\"38.5\" y=\"122.7573\">x: A</text><line style=\"stroke: #383838; stroke-width: 1.0;\" x1=\"33.5\" x2=\"52.5\" y1=\"93.3398\" y2=\"93.3398\"/><text fill=\"#000000\" font-family=\"sans-serif\" font-size=\"11\" lengthAdjust=\"spacingAndGlyphs\" textLength=\"55\" x=\"52.5\" y=\"96.6479\">attributes</text><line style=\"stroke: #383838; stroke-width: 1.0;\" x1=\"107.5\" x2=\"126.5\" y1=\"93.3398\" y2=\"93.3398\"/></a><!--MD5=[15ebcb19ae302d9b601edb458606d402]\n",
       "link E5 to E2--><a href=\"psysml:99c2055f-0301-4891-b65d-9e517e6365b1\" target=\"_top\" title=\"psysml:99c2055f-0301-4891-b65d-9e517e6365b1\" xlink:actuate=\"onRequest\" xlink:href=\"psysml:99c2055f-0301-4891-b65d-9e517e6365b1\" xlink:show=\"new\" xlink:title=\"psysml:99c2055f-0301-4891-b65d-9e517e6365b1\" xlink:type=\"simple\"><path d=\"M562.12,108.06 C556.83,125 549.38,148.89 542.98,169.39 \" fill=\"none\" id=\"E5-&gt;E2\" style=\"stroke: #383838; stroke-width: 1.0;\"/><polygon fill=\"#FFFFFF\" points=\"536.95,188.74,535.929,168.5173,549.2931,172.6886,536.95,188.74\" style=\"stroke: #383838; stroke-width: 1.0;\"/><ellipse cx=\"539.5364\" cy=\"163.6721\" fill=\"#383838\" rx=\"2\" ry=\"2\" style=\"stroke: #383838; stroke-width: 1.0;\"/><ellipse cx=\"549.0823\" cy=\"166.6516\" fill=\"#383838\" rx=\"2\" ry=\"2\" style=\"stroke: #383838; stroke-width: 1.0;\"/></a><!--MD5=[2351f337d6de0f557b50152ba70847b5]\n",
       "link E6 to E2--><a href=\"psysml:035f6493-28ba-4968-b761-0ab46a395f55\" target=\"_top\" title=\"psysml:035f6493-28ba-4968-b761-0ab46a395f55\" xlink:actuate=\"onRequest\" xlink:href=\"psysml:035f6493-28ba-4968-b761-0ab46a395f55\" xlink:show=\"new\" xlink:title=\"psysml:035f6493-28ba-4968-b761-0ab46a395f55\" xlink:type=\"simple\"><path d=\"M498.71,108.06 C503.86,125 511.12,148.89 517.35,169.39 \" fill=\"none\" id=\"E6-&gt;E2\" style=\"stroke: #383838; stroke-width: 1.0;\"/><polygon fill=\"#FFFFFF\" points=\"523.23,188.74,511.007,172.597,524.4019,168.5255,523.23,188.74\" style=\"stroke: #383838; stroke-width: 1.0;\"/><ellipse cx=\"511.2628\" cy=\"166.5617\" fill=\"#383838\" rx=\"2\" ry=\"2\" style=\"stroke: #383838; stroke-width: 1.0;\"/><ellipse cx=\"520.8306\" cy=\"163.6535\" fill=\"#383838\" rx=\"2\" ry=\"2\" style=\"stroke: #383838; stroke-width: 1.0;\"/></a><!--MD5=[bb7a68c243a002d8f7da24fac17c1953]\n",
       "@startuml\r\n",
       "skinparam monochrome true\r\n",
       "skinparam classbackgroundcolor white\r\n",
       "skinparam shadowing false\r\n",
       "skinparam wrapWidth 300\r\n",
       "hide circle\r\n",
       "\r\n",
       "package \"MultiplicityTest\" as E1  [[psysml:d21f1d33-c8d8-4d7e-915c-a1dc21839292 ]]  {\r\n",
       "comp def \"P\" as E2  <<(T,blue) part def>> [[psysml:cfcc0fdc-4985-4a7c-8ed0-df1ec6a07f40 ]] {\r\n",
       "}\r\n",
       "comp usage \"n: Integer\" as E3  <<(T,blue) attribute>> [[psysml:6504cd03-3352-435e-8e5a-44d60f096993 ]] {\r\n",
       "}\r\n",
       "comp usage \"a\" as E4  <<(T,blue) part>> [[psysml:69df1372-c4de-42e4-b97b-1df20a9e4637 ]] {\r\n",
       "}\r\n",
       "comp usage \"b: P\" as E5  <<(T,blue) part>> [[psysml:ce135ed3-5db8-4159-aade-37d21406abf2 ]] {\r\n",
       "}\r\n",
       "comp usage \"c: P\" as E6  <<(T,blue) part>> [[psysml:7c20260d-33cb-4904-8feb-6f2059c0b9de ]] {\r\n",
       "}\r\n",
       "comp usage \"d\" as E7  <<(T,blue) part>> [[psysml:a788bf26-d852-4daf-8a66-fd926f14abf3 ]] {\r\n",
       "}\r\n",
       "comp usage \"e\" as E8  <<(T,blue) part>> [[psysml:8ca44daa-798d-42ea-8082-fded64fdb257 ]] {\r\n",
       "}\r\n",
       "comp usage \"f\" as E9  <<(T,blue) part>> [[psysml:94368454-840d-4091-abdb-e19ae5322c54 ]] {\r\n",
       "}\r\n",
       "comp usage \"g\" as E10  <<(T,blue) part>> [[psysml:8f8b3cba-ab00-4478-b69f-246a2e072be5 ]] {\r\n",
       "}\r\n",
       "comp def \"A\" as E11  <<(T,blue) attribute def>> [[psysml:2c45c451-c8b5-4e48-8592-55fa30d535c5 ]] {\r\n",
       "- - attributes - -\r\n",
       "i: Integer\r\n",
       "x: A\r\n",
       "}\r\n",
       "E5 - -:|> E2 [[psysml:99c2055f-0301-4891-b65d-9e517e6365b1 ]] \r\n",
       "E6 - -:|> E2 [[psysml:035f6493-28ba-4968-b761-0ab46a395f55 ]] \r\n",
       "}\r\n",
       "@enduml\r\n",
       "\n",
       "PlantUML version 1.2020.13(Sat Jun 13 12:26:38 UTC 2020)\n",
       "(EPL source distribution)\n",
       "Java Runtime: OpenJDK Runtime Environment\n",
       "JVM: OpenJDK 64-Bit Server VM\n",
       "Default Encoding: UTF-8\n",
       "Language: en\n",
       "Country: null\n",
       "--></g></svg>"
      ]
     },
     "execution_count": 42,
     "metadata": {},
     "output_type": "execute_result"
    }
   ],
   "source": [
    "%viz --style=\"DEFAULT\" --view=\"Sequence\" \"MultiplicityTest\""
   ]
  },
  {
   "cell_type": "code",
   "execution_count": 43,
   "id": "748b4144",
   "metadata": {
    "execution": {
     "iopub.execute_input": "2021-06-30T09:24:33.429489Z",
     "iopub.status.busy": "2021-06-30T09:24:33.428899Z",
     "iopub.status.idle": "2021-06-30T09:24:33.481804Z",
     "shell.execute_reply": "2021-06-30T09:24:33.480382Z"
    }
   },
   "outputs": [
    {
     "data": {
      "image/svg+xml": [
       "<?xml version=\"1.0\" encoding=\"UTF-8\" standalone=\"no\"?><svg xmlns=\"http://www.w3.org/2000/svg\" xmlns:xlink=\"http://www.w3.org/1999/xlink\" contentScriptType=\"application/ecmascript\" contentStyleType=\"text/css\" height=\"263px\" preserveAspectRatio=\"none\" style=\"width:812px;height:263px;\" version=\"1.1\" viewBox=\"0 0 812 263\" width=\"812px\" zoomAndPan=\"magnify\"><defs/><g><!--MD5=[fbc87193dbaf4d95561dea2c320d4a47]\n",
       "cluster E1--><a href=\"psysml:d21f1d33-c8d8-4d7e-915c-a1dc21839292\" target=\"_top\" title=\"psysml:d21f1d33-c8d8-4d7e-915c-a1dc21839292\" xlink:actuate=\"onRequest\" xlink:href=\"psysml:d21f1d33-c8d8-4d7e-915c-a1dc21839292\" xlink:show=\"new\" xlink:title=\"psysml:d21f1d33-c8d8-4d7e-915c-a1dc21839292\" xlink:type=\"simple\"><polygon fill=\"#FFFFFF\" points=\"16,6,140,6,147,28.2969,790,28.2969,790,251,16,251,16,6\" style=\"stroke: #000000; stroke-width: 1.5;\"/><line style=\"stroke: #000000; stroke-width: 1.5;\" x1=\"16\" x2=\"147\" y1=\"28.2969\" y2=\"28.2969\"/><text fill=\"#000000\" font-family=\"sans-serif\" font-size=\"14\" font-weight=\"bold\" lengthAdjust=\"spacingAndGlyphs\" textLength=\"118\" x=\"20\" y=\"20.9951\">MultiplicityTest</text></a><!--MD5=[b4997ac47864f28c2f74865a473b2911]\n",
       "class E2--><a href=\"psysml:cfcc0fdc-4985-4a7c-8ed0-df1ec6a07f40\" target=\"_top\" title=\"psysml:cfcc0fdc-4985-4a7c-8ed0-df1ec6a07f40\" xlink:actuate=\"onRequest\" xlink:href=\"psysml:cfcc0fdc-4985-4a7c-8ed0-df1ec6a07f40\" xlink:show=\"new\" xlink:title=\"psysml:cfcc0fdc-4985-4a7c-8ed0-df1ec6a07f40\" xlink:type=\"simple\"><rect fill=\"#FFFFFF\" height=\"45.9375\" id=\"E2\" style=\"stroke: #383838; stroke-width: 1.5;\" width=\"66\" x=\"497\" y=\"189\"/><text fill=\"#000000\" font-family=\"sans-serif\" font-size=\"12\" font-style=\"italic\" lengthAdjust=\"spacingAndGlyphs\" textLength=\"64\" x=\"498\" y=\"205.1387\">«part def»</text><text fill=\"#000000\" font-family=\"sans-serif\" font-size=\"12\" lengthAdjust=\"spacingAndGlyphs\" textLength=\"8\" x=\"526\" y=\"219.1074\">P</text><line style=\"stroke: #383838; stroke-width: 1.5;\" x1=\"498\" x2=\"562\" y1=\"226.9375\" y2=\"226.9375\"/></a><!--MD5=[09b614a08d8cba4a07c9adeb5e0fee81]\n",
       "class E3--><a href=\"psysml:6504cd03-3352-435e-8e5a-44d60f096993\" target=\"_top\" title=\"psysml:6504cd03-3352-435e-8e5a-44d60f096993\" xlink:actuate=\"onRequest\" xlink:href=\"psysml:6504cd03-3352-435e-8e5a-44d60f096993\" xlink:show=\"new\" xlink:title=\"psysml:6504cd03-3352-435e-8e5a-44d60f096993\" xlink:type=\"simple\"><rect fill=\"#FFFFFF\" height=\"45.9375\" id=\"E3\" rx=\"10\" ry=\"10\" style=\"stroke: #383838; stroke-width: 1.5;\" width=\"71\" x=\"702.5\" y=\"62\"/><text fill=\"#000000\" font-family=\"sans-serif\" font-size=\"12\" font-style=\"italic\" lengthAdjust=\"spacingAndGlyphs\" textLength=\"69\" x=\"703.5\" y=\"78.1387\">«attribute»</text><text fill=\"#000000\" font-family=\"sans-serif\" font-size=\"12\" lengthAdjust=\"spacingAndGlyphs\" textLength=\"61\" x=\"707.5\" y=\"92.1074\">n: Integer</text><line style=\"stroke: #383838; stroke-width: 1.5;\" x1=\"703.5\" x2=\"772.5\" y1=\"99.9375\" y2=\"99.9375\"/></a><!--MD5=[ebbe1d658d1005bcc118a6aa81145e00]\n",
       "class E4--><a href=\"psysml:69df1372-c4de-42e4-b97b-1df20a9e4637\" target=\"_top\" title=\"psysml:69df1372-c4de-42e4-b97b-1df20a9e4637\" xlink:actuate=\"onRequest\" xlink:href=\"psysml:69df1372-c4de-42e4-b97b-1df20a9e4637\" xlink:show=\"new\" xlink:title=\"psysml:69df1372-c4de-42e4-b97b-1df20a9e4637\" xlink:type=\"simple\"><rect fill=\"#FFFFFF\" height=\"45.9375\" id=\"E4\" rx=\"10\" ry=\"10\" style=\"stroke: #383838; stroke-width: 1.5;\" width=\"42\" x=\"625\" y=\"62\"/><text fill=\"#000000\" font-family=\"sans-serif\" font-size=\"12\" font-style=\"italic\" lengthAdjust=\"spacingAndGlyphs\" textLength=\"40\" x=\"626\" y=\"78.1387\">«part»</text><text fill=\"#000000\" font-family=\"sans-serif\" font-size=\"12\" lengthAdjust=\"spacingAndGlyphs\" textLength=\"8\" x=\"642\" y=\"92.1074\">a</text><line style=\"stroke: #383838; stroke-width: 1.5;\" x1=\"626\" x2=\"666\" y1=\"99.9375\" y2=\"99.9375\"/></a><!--MD5=[270fce915f116d4de14055a7c1d9a0f3]\n",
       "class E5--><a href=\"psysml:ce135ed3-5db8-4159-aade-37d21406abf2\" target=\"_top\" title=\"psysml:ce135ed3-5db8-4159-aade-37d21406abf2\" xlink:actuate=\"onRequest\" xlink:href=\"psysml:ce135ed3-5db8-4159-aade-37d21406abf2\" xlink:show=\"new\" xlink:title=\"psysml:ce135ed3-5db8-4159-aade-37d21406abf2\" xlink:type=\"simple\"><rect fill=\"#FFFFFF\" height=\"45.9375\" id=\"E5\" rx=\"10\" ry=\"10\" style=\"stroke: #383838; stroke-width: 1.5;\" width=\"42\" x=\"548\" y=\"62\"/><text fill=\"#000000\" font-family=\"sans-serif\" font-size=\"12\" font-style=\"italic\" lengthAdjust=\"spacingAndGlyphs\" textLength=\"40\" x=\"549\" y=\"78.1387\">«part»</text><text fill=\"#000000\" font-family=\"sans-serif\" font-size=\"12\" lengthAdjust=\"spacingAndGlyphs\" textLength=\"24\" x=\"557\" y=\"92.1074\">b: P</text><line style=\"stroke: #383838; stroke-width: 1.5;\" x1=\"549\" x2=\"589\" y1=\"99.9375\" y2=\"99.9375\"/></a><!--MD5=[60a26617385b1d2d0262a64233df1f8d]\n",
       "class E6--><a href=\"psysml:7c20260d-33cb-4904-8feb-6f2059c0b9de\" target=\"_top\" title=\"psysml:7c20260d-33cb-4904-8feb-6f2059c0b9de\" xlink:actuate=\"onRequest\" xlink:href=\"psysml:7c20260d-33cb-4904-8feb-6f2059c0b9de\" xlink:show=\"new\" xlink:title=\"psysml:7c20260d-33cb-4904-8feb-6f2059c0b9de\" xlink:type=\"simple\"><rect fill=\"#FFFFFF\" height=\"45.9375\" id=\"E6\" rx=\"10\" ry=\"10\" style=\"stroke: #383838; stroke-width: 1.5;\" width=\"42\" x=\"471\" y=\"62\"/><text fill=\"#000000\" font-family=\"sans-serif\" font-size=\"12\" font-style=\"italic\" lengthAdjust=\"spacingAndGlyphs\" textLength=\"40\" x=\"472\" y=\"78.1387\">«part»</text><text fill=\"#000000\" font-family=\"sans-serif\" font-size=\"12\" lengthAdjust=\"spacingAndGlyphs\" textLength=\"23\" x=\"480.5\" y=\"92.1074\">c: P</text><line style=\"stroke: #383838; stroke-width: 1.5;\" x1=\"472\" x2=\"512\" y1=\"99.9375\" y2=\"99.9375\"/></a><!--MD5=[2156ba9850f5573cc1fc38a6a4b2f02b]\n",
       "class E7--><a href=\"psysml:a788bf26-d852-4daf-8a66-fd926f14abf3\" target=\"_top\" title=\"psysml:a788bf26-d852-4daf-8a66-fd926f14abf3\" xlink:actuate=\"onRequest\" xlink:href=\"psysml:a788bf26-d852-4daf-8a66-fd926f14abf3\" xlink:show=\"new\" xlink:title=\"psysml:a788bf26-d852-4daf-8a66-fd926f14abf3\" xlink:type=\"simple\"><rect fill=\"#FFFFFF\" height=\"45.9375\" id=\"E7\" rx=\"10\" ry=\"10\" style=\"stroke: #383838; stroke-width: 1.5;\" width=\"42\" x=\"394\" y=\"62\"/><text fill=\"#000000\" font-family=\"sans-serif\" font-size=\"12\" font-style=\"italic\" lengthAdjust=\"spacingAndGlyphs\" textLength=\"40\" x=\"395\" y=\"78.1387\">«part»</text><text fill=\"#000000\" font-family=\"sans-serif\" font-size=\"12\" lengthAdjust=\"spacingAndGlyphs\" textLength=\"8\" x=\"411\" y=\"92.1074\">d</text><line style=\"stroke: #383838; stroke-width: 1.5;\" x1=\"395\" x2=\"435\" y1=\"99.9375\" y2=\"99.9375\"/></a><!--MD5=[b9389687b975829384b498ac4b7476b2]\n",
       "class E8--><a href=\"psysml:8ca44daa-798d-42ea-8082-fded64fdb257\" target=\"_top\" title=\"psysml:8ca44daa-798d-42ea-8082-fded64fdb257\" xlink:actuate=\"onRequest\" xlink:href=\"psysml:8ca44daa-798d-42ea-8082-fded64fdb257\" xlink:show=\"new\" xlink:title=\"psysml:8ca44daa-798d-42ea-8082-fded64fdb257\" xlink:type=\"simple\"><rect fill=\"#FFFFFF\" height=\"45.9375\" id=\"E8\" rx=\"10\" ry=\"10\" style=\"stroke: #383838; stroke-width: 1.5;\" width=\"42\" x=\"317\" y=\"62\"/><text fill=\"#000000\" font-family=\"sans-serif\" font-size=\"12\" font-style=\"italic\" lengthAdjust=\"spacingAndGlyphs\" textLength=\"40\" x=\"318\" y=\"78.1387\">«part»</text><text fill=\"#000000\" font-family=\"sans-serif\" font-size=\"12\" lengthAdjust=\"spacingAndGlyphs\" textLength=\"8\" x=\"334\" y=\"92.1074\">e</text><line style=\"stroke: #383838; stroke-width: 1.5;\" x1=\"318\" x2=\"358\" y1=\"99.9375\" y2=\"99.9375\"/></a><!--MD5=[fd4143e9d270a159db93a4ea2a975926]\n",
       "class E9--><a href=\"psysml:94368454-840d-4091-abdb-e19ae5322c54\" target=\"_top\" title=\"psysml:94368454-840d-4091-abdb-e19ae5322c54\" xlink:actuate=\"onRequest\" xlink:href=\"psysml:94368454-840d-4091-abdb-e19ae5322c54\" xlink:show=\"new\" xlink:title=\"psysml:94368454-840d-4091-abdb-e19ae5322c54\" xlink:type=\"simple\"><rect fill=\"#FFFFFF\" height=\"45.9375\" id=\"E9\" rx=\"10\" ry=\"10\" style=\"stroke: #383838; stroke-width: 1.5;\" width=\"42\" x=\"240\" y=\"62\"/><text fill=\"#000000\" font-family=\"sans-serif\" font-size=\"12\" font-style=\"italic\" lengthAdjust=\"spacingAndGlyphs\" textLength=\"40\" x=\"241\" y=\"78.1387\">«part»</text><text fill=\"#000000\" font-family=\"sans-serif\" font-size=\"12\" lengthAdjust=\"spacingAndGlyphs\" textLength=\"4\" x=\"259\" y=\"92.1074\">f</text><line style=\"stroke: #383838; stroke-width: 1.5;\" x1=\"241\" x2=\"281\" y1=\"99.9375\" y2=\"99.9375\"/></a><!--MD5=[96f4274e9e20536e775497830990834d]\n",
       "class E10--><a href=\"psysml:8f8b3cba-ab00-4478-b69f-246a2e072be5\" target=\"_top\" title=\"psysml:8f8b3cba-ab00-4478-b69f-246a2e072be5\" xlink:actuate=\"onRequest\" xlink:href=\"psysml:8f8b3cba-ab00-4478-b69f-246a2e072be5\" xlink:show=\"new\" xlink:title=\"psysml:8f8b3cba-ab00-4478-b69f-246a2e072be5\" xlink:type=\"simple\"><rect fill=\"#FFFFFF\" height=\"45.9375\" id=\"E10\" rx=\"10\" ry=\"10\" style=\"stroke: #383838; stroke-width: 1.5;\" width=\"42\" x=\"163\" y=\"62\"/><text fill=\"#000000\" font-family=\"sans-serif\" font-size=\"12\" font-style=\"italic\" lengthAdjust=\"spacingAndGlyphs\" textLength=\"40\" x=\"164\" y=\"78.1387\">«part»</text><text fill=\"#000000\" font-family=\"sans-serif\" font-size=\"12\" lengthAdjust=\"spacingAndGlyphs\" textLength=\"8\" x=\"180\" y=\"92.1074\">g</text><line style=\"stroke: #383838; stroke-width: 1.5;\" x1=\"164\" x2=\"204\" y1=\"99.9375\" y2=\"99.9375\"/></a><!--MD5=[1dd1bfd58a279cf63c5f349dbc8fc6a1]\n",
       "class E11--><a href=\"psysml:2c45c451-c8b5-4e48-8592-55fa30d535c5\" target=\"_top\" title=\"psysml:2c45c451-c8b5-4e48-8592-55fa30d535c5\" xlink:actuate=\"onRequest\" xlink:href=\"psysml:2c45c451-c8b5-4e48-8592-55fa30d535c5\" xlink:show=\"new\" xlink:title=\"psysml:2c45c451-c8b5-4e48-8592-55fa30d535c5\" xlink:type=\"simple\"><rect fill=\"#FFFFFF\" height=\"88.3516\" id=\"E11\" style=\"stroke: #383838; stroke-width: 1.5;\" width=\"95\" x=\"32.5\" y=\"41\"/><text fill=\"#000000\" font-family=\"sans-serif\" font-size=\"12\" font-style=\"italic\" lengthAdjust=\"spacingAndGlyphs\" textLength=\"93\" x=\"33.5\" y=\"57.1387\">«attribute def»</text><text fill=\"#000000\" font-family=\"sans-serif\" font-size=\"12\" lengthAdjust=\"spacingAndGlyphs\" textLength=\"8\" x=\"76\" y=\"71.1074\">A</text><line style=\"stroke: #383838; stroke-width: 1.5;\" x1=\"33.5\" x2=\"126.5\" y1=\"78.9375\" y2=\"78.9375\"/><text fill=\"#000000\" font-family=\"sans-serif\" font-size=\"11\" lengthAdjust=\"spacingAndGlyphs\" textLength=\"51\" x=\"38.5\" y=\"109.9526\">i: Integer</text><text fill=\"#000000\" font-family=\"sans-serif\" font-size=\"11\" lengthAdjust=\"spacingAndGlyphs\" textLength=\"21\" x=\"38.5\" y=\"122.7573\">x: A</text><line style=\"stroke: #383838; stroke-width: 1.0;\" x1=\"33.5\" x2=\"52.5\" y1=\"93.3398\" y2=\"93.3398\"/><text fill=\"#000000\" font-family=\"sans-serif\" font-size=\"11\" lengthAdjust=\"spacingAndGlyphs\" textLength=\"55\" x=\"52.5\" y=\"96.6479\">attributes</text><line style=\"stroke: #383838; stroke-width: 1.0;\" x1=\"107.5\" x2=\"126.5\" y1=\"93.3398\" y2=\"93.3398\"/></a><!--MD5=[15ebcb19ae302d9b601edb458606d402]\n",
       "link E5 to E2--><a href=\"psysml:99c2055f-0301-4891-b65d-9e517e6365b1\" target=\"_top\" title=\"psysml:99c2055f-0301-4891-b65d-9e517e6365b1\" xlink:actuate=\"onRequest\" xlink:href=\"psysml:99c2055f-0301-4891-b65d-9e517e6365b1\" xlink:show=\"new\" xlink:title=\"psysml:99c2055f-0301-4891-b65d-9e517e6365b1\" xlink:type=\"simple\"><path d=\"M562.12,108.06 C556.83,125 549.38,148.89 542.98,169.39 \" fill=\"none\" id=\"E5-&gt;E2\" style=\"stroke: #383838; stroke-width: 1.0;\"/><polygon fill=\"#FFFFFF\" points=\"536.95,188.74,535.929,168.5173,549.2931,172.6886,536.95,188.74\" style=\"stroke: #383838; stroke-width: 1.0;\"/><ellipse cx=\"539.5364\" cy=\"163.6721\" fill=\"#383838\" rx=\"2\" ry=\"2\" style=\"stroke: #383838; stroke-width: 1.0;\"/><ellipse cx=\"549.0823\" cy=\"166.6516\" fill=\"#383838\" rx=\"2\" ry=\"2\" style=\"stroke: #383838; stroke-width: 1.0;\"/></a><!--MD5=[2351f337d6de0f557b50152ba70847b5]\n",
       "link E6 to E2--><a href=\"psysml:035f6493-28ba-4968-b761-0ab46a395f55\" target=\"_top\" title=\"psysml:035f6493-28ba-4968-b761-0ab46a395f55\" xlink:actuate=\"onRequest\" xlink:href=\"psysml:035f6493-28ba-4968-b761-0ab46a395f55\" xlink:show=\"new\" xlink:title=\"psysml:035f6493-28ba-4968-b761-0ab46a395f55\" xlink:type=\"simple\"><path d=\"M498.71,108.06 C503.86,125 511.12,148.89 517.35,169.39 \" fill=\"none\" id=\"E6-&gt;E2\" style=\"stroke: #383838; stroke-width: 1.0;\"/><polygon fill=\"#FFFFFF\" points=\"523.23,188.74,511.007,172.597,524.4019,168.5255,523.23,188.74\" style=\"stroke: #383838; stroke-width: 1.0;\"/><ellipse cx=\"511.2628\" cy=\"166.5617\" fill=\"#383838\" rx=\"2\" ry=\"2\" style=\"stroke: #383838; stroke-width: 1.0;\"/><ellipse cx=\"520.8306\" cy=\"163.6535\" fill=\"#383838\" rx=\"2\" ry=\"2\" style=\"stroke: #383838; stroke-width: 1.0;\"/></a><!--MD5=[bb7a68c243a002d8f7da24fac17c1953]\n",
       "@startuml\r\n",
       "skinparam monochrome true\r\n",
       "skinparam classbackgroundcolor white\r\n",
       "skinparam shadowing false\r\n",
       "skinparam wrapWidth 300\r\n",
       "hide circle\r\n",
       "\r\n",
       "package \"MultiplicityTest\" as E1  [[psysml:d21f1d33-c8d8-4d7e-915c-a1dc21839292 ]]  {\r\n",
       "comp def \"P\" as E2  <<(T,blue) part def>> [[psysml:cfcc0fdc-4985-4a7c-8ed0-df1ec6a07f40 ]] {\r\n",
       "}\r\n",
       "comp usage \"n: Integer\" as E3  <<(T,blue) attribute>> [[psysml:6504cd03-3352-435e-8e5a-44d60f096993 ]] {\r\n",
       "}\r\n",
       "comp usage \"a\" as E4  <<(T,blue) part>> [[psysml:69df1372-c4de-42e4-b97b-1df20a9e4637 ]] {\r\n",
       "}\r\n",
       "comp usage \"b: P\" as E5  <<(T,blue) part>> [[psysml:ce135ed3-5db8-4159-aade-37d21406abf2 ]] {\r\n",
       "}\r\n",
       "comp usage \"c: P\" as E6  <<(T,blue) part>> [[psysml:7c20260d-33cb-4904-8feb-6f2059c0b9de ]] {\r\n",
       "}\r\n",
       "comp usage \"d\" as E7  <<(T,blue) part>> [[psysml:a788bf26-d852-4daf-8a66-fd926f14abf3 ]] {\r\n",
       "}\r\n",
       "comp usage \"e\" as E8  <<(T,blue) part>> [[psysml:8ca44daa-798d-42ea-8082-fded64fdb257 ]] {\r\n",
       "}\r\n",
       "comp usage \"f\" as E9  <<(T,blue) part>> [[psysml:94368454-840d-4091-abdb-e19ae5322c54 ]] {\r\n",
       "}\r\n",
       "comp usage \"g\" as E10  <<(T,blue) part>> [[psysml:8f8b3cba-ab00-4478-b69f-246a2e072be5 ]] {\r\n",
       "}\r\n",
       "comp def \"A\" as E11  <<(T,blue) attribute def>> [[psysml:2c45c451-c8b5-4e48-8592-55fa30d535c5 ]] {\r\n",
       "- - attributes - -\r\n",
       "i: Integer\r\n",
       "x: A\r\n",
       "}\r\n",
       "E5 - -:|> E2 [[psysml:99c2055f-0301-4891-b65d-9e517e6365b1 ]] \r\n",
       "E6 - -:|> E2 [[psysml:035f6493-28ba-4968-b761-0ab46a395f55 ]] \r\n",
       "}\r\n",
       "@enduml\r\n",
       "\n",
       "PlantUML version 1.2020.13(Sat Jun 13 12:26:38 UTC 2020)\n",
       "(EPL source distribution)\n",
       "Java Runtime: OpenJDK Runtime Environment\n",
       "JVM: OpenJDK 64-Bit Server VM\n",
       "Default Encoding: UTF-8\n",
       "Language: en\n",
       "Country: null\n",
       "--></g></svg>"
      ]
     },
     "execution_count": 43,
     "metadata": {},
     "output_type": "execute_result"
    }
   ],
   "source": [
    "%viz --style=\"DEFAULT\" --view=\"MIXED\" \"MultiplicityTest\""
   ]
  },
  {
   "cell_type": "code",
   "execution_count": 44,
   "id": "8ed86e57",
   "metadata": {
    "execution": {
     "iopub.execute_input": "2021-06-30T09:24:33.532565Z",
     "iopub.status.busy": "2021-06-30T09:24:33.531885Z",
     "iopub.status.idle": "2021-06-30T09:24:33.585260Z",
     "shell.execute_reply": "2021-06-30T09:24:33.584856Z"
    }
   },
   "outputs": [
    {
     "data": {
      "image/svg+xml": [
       "<?xml version=\"1.0\" encoding=\"UTF-8\" standalone=\"no\"?><svg xmlns=\"http://www.w3.org/2000/svg\" xmlns:xlink=\"http://www.w3.org/1999/xlink\" contentScriptType=\"application/ecmascript\" contentStyleType=\"text/css\" height=\"263px\" preserveAspectRatio=\"none\" style=\"width:812px;height:263px;\" version=\"1.1\" viewBox=\"0 0 812 263\" width=\"812px\" zoomAndPan=\"magnify\"><defs/><g><!--MD5=[fbc87193dbaf4d95561dea2c320d4a47]\n",
       "cluster E1--><a href=\"psysml:d21f1d33-c8d8-4d7e-915c-a1dc21839292\" target=\"_top\" title=\"psysml:d21f1d33-c8d8-4d7e-915c-a1dc21839292\" xlink:actuate=\"onRequest\" xlink:href=\"psysml:d21f1d33-c8d8-4d7e-915c-a1dc21839292\" xlink:show=\"new\" xlink:title=\"psysml:d21f1d33-c8d8-4d7e-915c-a1dc21839292\" xlink:type=\"simple\"><polygon fill=\"#FFFFFF\" points=\"16,6,140,6,147,28.2969,790,28.2969,790,251,16,251,16,6\" style=\"stroke: #000000; stroke-width: 1.5;\"/><line style=\"stroke: #000000; stroke-width: 1.5;\" x1=\"16\" x2=\"147\" y1=\"28.2969\" y2=\"28.2969\"/><text fill=\"#000000\" font-family=\"sans-serif\" font-size=\"14\" font-weight=\"bold\" lengthAdjust=\"spacingAndGlyphs\" textLength=\"118\" x=\"20\" y=\"20.9951\">MultiplicityTest</text></a><!--MD5=[b4997ac47864f28c2f74865a473b2911]\n",
       "class E2--><a href=\"psysml:cfcc0fdc-4985-4a7c-8ed0-df1ec6a07f40\" target=\"_top\" title=\"psysml:cfcc0fdc-4985-4a7c-8ed0-df1ec6a07f40\" xlink:actuate=\"onRequest\" xlink:href=\"psysml:cfcc0fdc-4985-4a7c-8ed0-df1ec6a07f40\" xlink:show=\"new\" xlink:title=\"psysml:cfcc0fdc-4985-4a7c-8ed0-df1ec6a07f40\" xlink:type=\"simple\"><rect fill=\"#FFFFFF\" height=\"45.9375\" id=\"E2\" style=\"stroke: #383838; stroke-width: 1.5;\" width=\"66\" x=\"497\" y=\"189\"/><text fill=\"#000000\" font-family=\"sans-serif\" font-size=\"12\" font-style=\"italic\" lengthAdjust=\"spacingAndGlyphs\" textLength=\"64\" x=\"498\" y=\"205.1387\">«part def»</text><text fill=\"#000000\" font-family=\"sans-serif\" font-size=\"12\" lengthAdjust=\"spacingAndGlyphs\" textLength=\"8\" x=\"526\" y=\"219.1074\">P</text><line style=\"stroke: #383838; stroke-width: 1.5;\" x1=\"498\" x2=\"562\" y1=\"226.9375\" y2=\"226.9375\"/></a><!--MD5=[09b614a08d8cba4a07c9adeb5e0fee81]\n",
       "class E3--><a href=\"psysml:6504cd03-3352-435e-8e5a-44d60f096993\" target=\"_top\" title=\"psysml:6504cd03-3352-435e-8e5a-44d60f096993\" xlink:actuate=\"onRequest\" xlink:href=\"psysml:6504cd03-3352-435e-8e5a-44d60f096993\" xlink:show=\"new\" xlink:title=\"psysml:6504cd03-3352-435e-8e5a-44d60f096993\" xlink:type=\"simple\"><rect fill=\"#FFFFFF\" height=\"45.9375\" id=\"E3\" rx=\"10\" ry=\"10\" style=\"stroke: #383838; stroke-width: 1.5;\" width=\"71\" x=\"702.5\" y=\"62\"/><text fill=\"#000000\" font-family=\"sans-serif\" font-size=\"12\" font-style=\"italic\" lengthAdjust=\"spacingAndGlyphs\" textLength=\"69\" x=\"703.5\" y=\"78.1387\">«attribute»</text><text fill=\"#000000\" font-family=\"sans-serif\" font-size=\"12\" lengthAdjust=\"spacingAndGlyphs\" textLength=\"61\" x=\"707.5\" y=\"92.1074\">n: Integer</text><line style=\"stroke: #383838; stroke-width: 1.5;\" x1=\"703.5\" x2=\"772.5\" y1=\"99.9375\" y2=\"99.9375\"/></a><!--MD5=[ebbe1d658d1005bcc118a6aa81145e00]\n",
       "class E4--><a href=\"psysml:69df1372-c4de-42e4-b97b-1df20a9e4637\" target=\"_top\" title=\"psysml:69df1372-c4de-42e4-b97b-1df20a9e4637\" xlink:actuate=\"onRequest\" xlink:href=\"psysml:69df1372-c4de-42e4-b97b-1df20a9e4637\" xlink:show=\"new\" xlink:title=\"psysml:69df1372-c4de-42e4-b97b-1df20a9e4637\" xlink:type=\"simple\"><rect fill=\"#FFFFFF\" height=\"45.9375\" id=\"E4\" rx=\"10\" ry=\"10\" style=\"stroke: #383838; stroke-width: 1.5;\" width=\"42\" x=\"625\" y=\"62\"/><text fill=\"#000000\" font-family=\"sans-serif\" font-size=\"12\" font-style=\"italic\" lengthAdjust=\"spacingAndGlyphs\" textLength=\"40\" x=\"626\" y=\"78.1387\">«part»</text><text fill=\"#000000\" font-family=\"sans-serif\" font-size=\"12\" lengthAdjust=\"spacingAndGlyphs\" textLength=\"8\" x=\"642\" y=\"92.1074\">a</text><line style=\"stroke: #383838; stroke-width: 1.5;\" x1=\"626\" x2=\"666\" y1=\"99.9375\" y2=\"99.9375\"/></a><!--MD5=[270fce915f116d4de14055a7c1d9a0f3]\n",
       "class E5--><a href=\"psysml:ce135ed3-5db8-4159-aade-37d21406abf2\" target=\"_top\" title=\"psysml:ce135ed3-5db8-4159-aade-37d21406abf2\" xlink:actuate=\"onRequest\" xlink:href=\"psysml:ce135ed3-5db8-4159-aade-37d21406abf2\" xlink:show=\"new\" xlink:title=\"psysml:ce135ed3-5db8-4159-aade-37d21406abf2\" xlink:type=\"simple\"><rect fill=\"#FFFFFF\" height=\"45.9375\" id=\"E5\" rx=\"10\" ry=\"10\" style=\"stroke: #383838; stroke-width: 1.5;\" width=\"42\" x=\"548\" y=\"62\"/><text fill=\"#000000\" font-family=\"sans-serif\" font-size=\"12\" font-style=\"italic\" lengthAdjust=\"spacingAndGlyphs\" textLength=\"40\" x=\"549\" y=\"78.1387\">«part»</text><text fill=\"#000000\" font-family=\"sans-serif\" font-size=\"12\" lengthAdjust=\"spacingAndGlyphs\" textLength=\"24\" x=\"557\" y=\"92.1074\">b: P</text><line style=\"stroke: #383838; stroke-width: 1.5;\" x1=\"549\" x2=\"589\" y1=\"99.9375\" y2=\"99.9375\"/></a><!--MD5=[60a26617385b1d2d0262a64233df1f8d]\n",
       "class E6--><a href=\"psysml:7c20260d-33cb-4904-8feb-6f2059c0b9de\" target=\"_top\" title=\"psysml:7c20260d-33cb-4904-8feb-6f2059c0b9de\" xlink:actuate=\"onRequest\" xlink:href=\"psysml:7c20260d-33cb-4904-8feb-6f2059c0b9de\" xlink:show=\"new\" xlink:title=\"psysml:7c20260d-33cb-4904-8feb-6f2059c0b9de\" xlink:type=\"simple\"><rect fill=\"#FFFFFF\" height=\"45.9375\" id=\"E6\" rx=\"10\" ry=\"10\" style=\"stroke: #383838; stroke-width: 1.5;\" width=\"42\" x=\"471\" y=\"62\"/><text fill=\"#000000\" font-family=\"sans-serif\" font-size=\"12\" font-style=\"italic\" lengthAdjust=\"spacingAndGlyphs\" textLength=\"40\" x=\"472\" y=\"78.1387\">«part»</text><text fill=\"#000000\" font-family=\"sans-serif\" font-size=\"12\" lengthAdjust=\"spacingAndGlyphs\" textLength=\"23\" x=\"480.5\" y=\"92.1074\">c: P</text><line style=\"stroke: #383838; stroke-width: 1.5;\" x1=\"472\" x2=\"512\" y1=\"99.9375\" y2=\"99.9375\"/></a><!--MD5=[2156ba9850f5573cc1fc38a6a4b2f02b]\n",
       "class E7--><a href=\"psysml:a788bf26-d852-4daf-8a66-fd926f14abf3\" target=\"_top\" title=\"psysml:a788bf26-d852-4daf-8a66-fd926f14abf3\" xlink:actuate=\"onRequest\" xlink:href=\"psysml:a788bf26-d852-4daf-8a66-fd926f14abf3\" xlink:show=\"new\" xlink:title=\"psysml:a788bf26-d852-4daf-8a66-fd926f14abf3\" xlink:type=\"simple\"><rect fill=\"#FFFFFF\" height=\"45.9375\" id=\"E7\" rx=\"10\" ry=\"10\" style=\"stroke: #383838; stroke-width: 1.5;\" width=\"42\" x=\"394\" y=\"62\"/><text fill=\"#000000\" font-family=\"sans-serif\" font-size=\"12\" font-style=\"italic\" lengthAdjust=\"spacingAndGlyphs\" textLength=\"40\" x=\"395\" y=\"78.1387\">«part»</text><text fill=\"#000000\" font-family=\"sans-serif\" font-size=\"12\" lengthAdjust=\"spacingAndGlyphs\" textLength=\"8\" x=\"411\" y=\"92.1074\">d</text><line style=\"stroke: #383838; stroke-width: 1.5;\" x1=\"395\" x2=\"435\" y1=\"99.9375\" y2=\"99.9375\"/></a><!--MD5=[b9389687b975829384b498ac4b7476b2]\n",
       "class E8--><a href=\"psysml:8ca44daa-798d-42ea-8082-fded64fdb257\" target=\"_top\" title=\"psysml:8ca44daa-798d-42ea-8082-fded64fdb257\" xlink:actuate=\"onRequest\" xlink:href=\"psysml:8ca44daa-798d-42ea-8082-fded64fdb257\" xlink:show=\"new\" xlink:title=\"psysml:8ca44daa-798d-42ea-8082-fded64fdb257\" xlink:type=\"simple\"><rect fill=\"#FFFFFF\" height=\"45.9375\" id=\"E8\" rx=\"10\" ry=\"10\" style=\"stroke: #383838; stroke-width: 1.5;\" width=\"42\" x=\"317\" y=\"62\"/><text fill=\"#000000\" font-family=\"sans-serif\" font-size=\"12\" font-style=\"italic\" lengthAdjust=\"spacingAndGlyphs\" textLength=\"40\" x=\"318\" y=\"78.1387\">«part»</text><text fill=\"#000000\" font-family=\"sans-serif\" font-size=\"12\" lengthAdjust=\"spacingAndGlyphs\" textLength=\"8\" x=\"334\" y=\"92.1074\">e</text><line style=\"stroke: #383838; stroke-width: 1.5;\" x1=\"318\" x2=\"358\" y1=\"99.9375\" y2=\"99.9375\"/></a><!--MD5=[fd4143e9d270a159db93a4ea2a975926]\n",
       "class E9--><a href=\"psysml:94368454-840d-4091-abdb-e19ae5322c54\" target=\"_top\" title=\"psysml:94368454-840d-4091-abdb-e19ae5322c54\" xlink:actuate=\"onRequest\" xlink:href=\"psysml:94368454-840d-4091-abdb-e19ae5322c54\" xlink:show=\"new\" xlink:title=\"psysml:94368454-840d-4091-abdb-e19ae5322c54\" xlink:type=\"simple\"><rect fill=\"#FFFFFF\" height=\"45.9375\" id=\"E9\" rx=\"10\" ry=\"10\" style=\"stroke: #383838; stroke-width: 1.5;\" width=\"42\" x=\"240\" y=\"62\"/><text fill=\"#000000\" font-family=\"sans-serif\" font-size=\"12\" font-style=\"italic\" lengthAdjust=\"spacingAndGlyphs\" textLength=\"40\" x=\"241\" y=\"78.1387\">«part»</text><text fill=\"#000000\" font-family=\"sans-serif\" font-size=\"12\" lengthAdjust=\"spacingAndGlyphs\" textLength=\"4\" x=\"259\" y=\"92.1074\">f</text><line style=\"stroke: #383838; stroke-width: 1.5;\" x1=\"241\" x2=\"281\" y1=\"99.9375\" y2=\"99.9375\"/></a><!--MD5=[96f4274e9e20536e775497830990834d]\n",
       "class E10--><a href=\"psysml:8f8b3cba-ab00-4478-b69f-246a2e072be5\" target=\"_top\" title=\"psysml:8f8b3cba-ab00-4478-b69f-246a2e072be5\" xlink:actuate=\"onRequest\" xlink:href=\"psysml:8f8b3cba-ab00-4478-b69f-246a2e072be5\" xlink:show=\"new\" xlink:title=\"psysml:8f8b3cba-ab00-4478-b69f-246a2e072be5\" xlink:type=\"simple\"><rect fill=\"#FFFFFF\" height=\"45.9375\" id=\"E10\" rx=\"10\" ry=\"10\" style=\"stroke: #383838; stroke-width: 1.5;\" width=\"42\" x=\"163\" y=\"62\"/><text fill=\"#000000\" font-family=\"sans-serif\" font-size=\"12\" font-style=\"italic\" lengthAdjust=\"spacingAndGlyphs\" textLength=\"40\" x=\"164\" y=\"78.1387\">«part»</text><text fill=\"#000000\" font-family=\"sans-serif\" font-size=\"12\" lengthAdjust=\"spacingAndGlyphs\" textLength=\"8\" x=\"180\" y=\"92.1074\">g</text><line style=\"stroke: #383838; stroke-width: 1.5;\" x1=\"164\" x2=\"204\" y1=\"99.9375\" y2=\"99.9375\"/></a><!--MD5=[1dd1bfd58a279cf63c5f349dbc8fc6a1]\n",
       "class E11--><a href=\"psysml:2c45c451-c8b5-4e48-8592-55fa30d535c5\" target=\"_top\" title=\"psysml:2c45c451-c8b5-4e48-8592-55fa30d535c5\" xlink:actuate=\"onRequest\" xlink:href=\"psysml:2c45c451-c8b5-4e48-8592-55fa30d535c5\" xlink:show=\"new\" xlink:title=\"psysml:2c45c451-c8b5-4e48-8592-55fa30d535c5\" xlink:type=\"simple\"><rect fill=\"#FFFFFF\" height=\"88.3516\" id=\"E11\" style=\"stroke: #383838; stroke-width: 1.5;\" width=\"95\" x=\"32.5\" y=\"41\"/><text fill=\"#000000\" font-family=\"sans-serif\" font-size=\"12\" font-style=\"italic\" lengthAdjust=\"spacingAndGlyphs\" textLength=\"93\" x=\"33.5\" y=\"57.1387\">«attribute def»</text><text fill=\"#000000\" font-family=\"sans-serif\" font-size=\"12\" lengthAdjust=\"spacingAndGlyphs\" textLength=\"8\" x=\"76\" y=\"71.1074\">A</text><line style=\"stroke: #383838; stroke-width: 1.5;\" x1=\"33.5\" x2=\"126.5\" y1=\"78.9375\" y2=\"78.9375\"/><text fill=\"#000000\" font-family=\"sans-serif\" font-size=\"11\" lengthAdjust=\"spacingAndGlyphs\" textLength=\"51\" x=\"38.5\" y=\"109.9526\">i: Integer</text><text fill=\"#000000\" font-family=\"sans-serif\" font-size=\"11\" lengthAdjust=\"spacingAndGlyphs\" textLength=\"21\" x=\"38.5\" y=\"122.7573\">x: A</text><line style=\"stroke: #383838; stroke-width: 1.0;\" x1=\"33.5\" x2=\"52.5\" y1=\"93.3398\" y2=\"93.3398\"/><text fill=\"#000000\" font-family=\"sans-serif\" font-size=\"11\" lengthAdjust=\"spacingAndGlyphs\" textLength=\"55\" x=\"52.5\" y=\"96.6479\">attributes</text><line style=\"stroke: #383838; stroke-width: 1.0;\" x1=\"107.5\" x2=\"126.5\" y1=\"93.3398\" y2=\"93.3398\"/></a><!--MD5=[15ebcb19ae302d9b601edb458606d402]\n",
       "link E5 to E2--><a href=\"psysml:99c2055f-0301-4891-b65d-9e517e6365b1\" target=\"_top\" title=\"psysml:99c2055f-0301-4891-b65d-9e517e6365b1\" xlink:actuate=\"onRequest\" xlink:href=\"psysml:99c2055f-0301-4891-b65d-9e517e6365b1\" xlink:show=\"new\" xlink:title=\"psysml:99c2055f-0301-4891-b65d-9e517e6365b1\" xlink:type=\"simple\"><path d=\"M562.12,108.06 C556.83,125 549.38,148.89 542.98,169.39 \" fill=\"none\" id=\"E5-&gt;E2\" style=\"stroke: #383838; stroke-width: 1.0;\"/><polygon fill=\"#FFFFFF\" points=\"536.95,188.74,535.929,168.5173,549.2931,172.6886,536.95,188.74\" style=\"stroke: #383838; stroke-width: 1.0;\"/><ellipse cx=\"539.5364\" cy=\"163.6721\" fill=\"#383838\" rx=\"2\" ry=\"2\" style=\"stroke: #383838; stroke-width: 1.0;\"/><ellipse cx=\"549.0823\" cy=\"166.6516\" fill=\"#383838\" rx=\"2\" ry=\"2\" style=\"stroke: #383838; stroke-width: 1.0;\"/></a><!--MD5=[2351f337d6de0f557b50152ba70847b5]\n",
       "link E6 to E2--><a href=\"psysml:035f6493-28ba-4968-b761-0ab46a395f55\" target=\"_top\" title=\"psysml:035f6493-28ba-4968-b761-0ab46a395f55\" xlink:actuate=\"onRequest\" xlink:href=\"psysml:035f6493-28ba-4968-b761-0ab46a395f55\" xlink:show=\"new\" xlink:title=\"psysml:035f6493-28ba-4968-b761-0ab46a395f55\" xlink:type=\"simple\"><path d=\"M498.71,108.06 C503.86,125 511.12,148.89 517.35,169.39 \" fill=\"none\" id=\"E6-&gt;E2\" style=\"stroke: #383838; stroke-width: 1.0;\"/><polygon fill=\"#FFFFFF\" points=\"523.23,188.74,511.007,172.597,524.4019,168.5255,523.23,188.74\" style=\"stroke: #383838; stroke-width: 1.0;\"/><ellipse cx=\"511.2628\" cy=\"166.5617\" fill=\"#383838\" rx=\"2\" ry=\"2\" style=\"stroke: #383838; stroke-width: 1.0;\"/><ellipse cx=\"520.8306\" cy=\"163.6535\" fill=\"#383838\" rx=\"2\" ry=\"2\" style=\"stroke: #383838; stroke-width: 1.0;\"/></a><!--MD5=[e81d728826aa635105d5a8aa2a7bfe41]\n",
       "@startuml\r\n",
       "top to bottom direction\r\n",
       "skinparam monochrome true\r\n",
       "skinparam classbackgroundcolor white\r\n",
       "skinparam shadowing false\r\n",
       "skinparam wrapWidth 300\r\n",
       "hide circle\r\n",
       "\r\n",
       "package \"MultiplicityTest\" as E1  [[psysml:d21f1d33-c8d8-4d7e-915c-a1dc21839292 ]]  {\r\n",
       "comp def \"P\" as E2  <<(T,blue) part def>> [[psysml:cfcc0fdc-4985-4a7c-8ed0-df1ec6a07f40 ]] {\r\n",
       "}\r\n",
       "comp usage \"n: Integer\" as E3  <<(T,blue) attribute>> [[psysml:6504cd03-3352-435e-8e5a-44d60f096993 ]] {\r\n",
       "}\r\n",
       "comp usage \"a\" as E4  <<(T,blue) part>> [[psysml:69df1372-c4de-42e4-b97b-1df20a9e4637 ]] {\r\n",
       "}\r\n",
       "comp usage \"b: P\" as E5  <<(T,blue) part>> [[psysml:ce135ed3-5db8-4159-aade-37d21406abf2 ]] {\r\n",
       "}\r\n",
       "comp usage \"c: P\" as E6  <<(T,blue) part>> [[psysml:7c20260d-33cb-4904-8feb-6f2059c0b9de ]] {\r\n",
       "}\r\n",
       "comp usage \"d\" as E7  <<(T,blue) part>> [[psysml:a788bf26-d852-4daf-8a66-fd926f14abf3 ]] {\r\n",
       "}\r\n",
       "comp usage \"e\" as E8  <<(T,blue) part>> [[psysml:8ca44daa-798d-42ea-8082-fded64fdb257 ]] {\r\n",
       "}\r\n",
       "comp usage \"f\" as E9  <<(T,blue) part>> [[psysml:94368454-840d-4091-abdb-e19ae5322c54 ]] {\r\n",
       "}\r\n",
       "comp usage \"g\" as E10  <<(T,blue) part>> [[psysml:8f8b3cba-ab00-4478-b69f-246a2e072be5 ]] {\r\n",
       "}\r\n",
       "comp def \"A\" as E11  <<(T,blue) attribute def>> [[psysml:2c45c451-c8b5-4e48-8592-55fa30d535c5 ]] {\r\n",
       "- - attributes - -\r\n",
       "i: Integer\r\n",
       "x: A\r\n",
       "}\r\n",
       "E5 - -:|> E2 [[psysml:99c2055f-0301-4891-b65d-9e517e6365b1 ]] \r\n",
       "E6 - -:|> E2 [[psysml:035f6493-28ba-4968-b761-0ab46a395f55 ]] \r\n",
       "}\r\n",
       "@enduml\r\n",
       "\n",
       "PlantUML version 1.2020.13(Sat Jun 13 12:26:38 UTC 2020)\n",
       "(EPL source distribution)\n",
       "Java Runtime: OpenJDK Runtime Environment\n",
       "JVM: OpenJDK 64-Bit Server VM\n",
       "Default Encoding: UTF-8\n",
       "Language: en\n",
       "Country: null\n",
       "--></g></svg>"
      ]
     },
     "execution_count": 44,
     "metadata": {},
     "output_type": "execute_result"
    }
   ],
   "source": [
    "%viz --style=\"TB\" --view=\"Default\" \"MultiplicityTest\""
   ]
  },
  {
   "cell_type": "code",
   "execution_count": 45,
   "id": "a0ce0d5a",
   "metadata": {
    "execution": {
     "iopub.execute_input": "2021-06-30T09:24:33.636878Z",
     "iopub.status.busy": "2021-06-30T09:24:33.636454Z",
     "iopub.status.idle": "2021-06-30T09:24:33.683438Z",
     "shell.execute_reply": "2021-06-30T09:24:33.681851Z"
    }
   },
   "outputs": [
    {
     "data": {
      "image/svg+xml": [
       "<?xml version=\"1.0\" encoding=\"UTF-8\" standalone=\"no\"?><svg xmlns=\"http://www.w3.org/2000/svg\" xmlns:xlink=\"http://www.w3.org/1999/xlink\" contentScriptType=\"application/ecmascript\" contentStyleType=\"text/css\" height=\"263px\" preserveAspectRatio=\"none\" style=\"width:812px;height:263px;\" version=\"1.1\" viewBox=\"0 0 812 263\" width=\"812px\" zoomAndPan=\"magnify\"><defs/><g><!--MD5=[fbc87193dbaf4d95561dea2c320d4a47]\n",
       "cluster E1--><a href=\"psysml:d21f1d33-c8d8-4d7e-915c-a1dc21839292\" target=\"_top\" title=\"psysml:d21f1d33-c8d8-4d7e-915c-a1dc21839292\" xlink:actuate=\"onRequest\" xlink:href=\"psysml:d21f1d33-c8d8-4d7e-915c-a1dc21839292\" xlink:show=\"new\" xlink:title=\"psysml:d21f1d33-c8d8-4d7e-915c-a1dc21839292\" xlink:type=\"simple\"><polygon fill=\"#FFFFFF\" points=\"16,6,140,6,147,28.2969,790,28.2969,790,251,16,251,16,6\" style=\"stroke: #000000; stroke-width: 1.5;\"/><line style=\"stroke: #000000; stroke-width: 1.5;\" x1=\"16\" x2=\"147\" y1=\"28.2969\" y2=\"28.2969\"/><text fill=\"#000000\" font-family=\"sans-serif\" font-size=\"14\" font-weight=\"bold\" lengthAdjust=\"spacingAndGlyphs\" textLength=\"118\" x=\"20\" y=\"20.9951\">MultiplicityTest</text></a><!--MD5=[b4997ac47864f28c2f74865a473b2911]\n",
       "class E2--><a href=\"psysml:cfcc0fdc-4985-4a7c-8ed0-df1ec6a07f40\" target=\"_top\" title=\"psysml:cfcc0fdc-4985-4a7c-8ed0-df1ec6a07f40\" xlink:actuate=\"onRequest\" xlink:href=\"psysml:cfcc0fdc-4985-4a7c-8ed0-df1ec6a07f40\" xlink:show=\"new\" xlink:title=\"psysml:cfcc0fdc-4985-4a7c-8ed0-df1ec6a07f40\" xlink:type=\"simple\"><rect fill=\"#FFFFFF\" height=\"45.9375\" id=\"E2\" style=\"stroke: #383838; stroke-width: 1.5;\" width=\"66\" x=\"497\" y=\"189\"/><text fill=\"#000000\" font-family=\"sans-serif\" font-size=\"12\" font-style=\"italic\" lengthAdjust=\"spacingAndGlyphs\" textLength=\"64\" x=\"498\" y=\"205.1387\">«part def»</text><text fill=\"#000000\" font-family=\"sans-serif\" font-size=\"12\" lengthAdjust=\"spacingAndGlyphs\" textLength=\"8\" x=\"526\" y=\"219.1074\">P</text><line style=\"stroke: #383838; stroke-width: 1.5;\" x1=\"498\" x2=\"562\" y1=\"226.9375\" y2=\"226.9375\"/></a><!--MD5=[09b614a08d8cba4a07c9adeb5e0fee81]\n",
       "class E3--><a href=\"psysml:6504cd03-3352-435e-8e5a-44d60f096993\" target=\"_top\" title=\"psysml:6504cd03-3352-435e-8e5a-44d60f096993\" xlink:actuate=\"onRequest\" xlink:href=\"psysml:6504cd03-3352-435e-8e5a-44d60f096993\" xlink:show=\"new\" xlink:title=\"psysml:6504cd03-3352-435e-8e5a-44d60f096993\" xlink:type=\"simple\"><rect fill=\"#FFFFFF\" height=\"45.9375\" id=\"E3\" rx=\"10\" ry=\"10\" style=\"stroke: #383838; stroke-width: 1.5;\" width=\"71\" x=\"702.5\" y=\"62\"/><text fill=\"#000000\" font-family=\"sans-serif\" font-size=\"12\" font-style=\"italic\" lengthAdjust=\"spacingAndGlyphs\" textLength=\"69\" x=\"703.5\" y=\"78.1387\">«attribute»</text><text fill=\"#000000\" font-family=\"sans-serif\" font-size=\"12\" lengthAdjust=\"spacingAndGlyphs\" textLength=\"61\" x=\"707.5\" y=\"92.1074\">n: Integer</text><line style=\"stroke: #383838; stroke-width: 1.5;\" x1=\"703.5\" x2=\"772.5\" y1=\"99.9375\" y2=\"99.9375\"/></a><!--MD5=[ebbe1d658d1005bcc118a6aa81145e00]\n",
       "class E4--><a href=\"psysml:69df1372-c4de-42e4-b97b-1df20a9e4637\" target=\"_top\" title=\"psysml:69df1372-c4de-42e4-b97b-1df20a9e4637\" xlink:actuate=\"onRequest\" xlink:href=\"psysml:69df1372-c4de-42e4-b97b-1df20a9e4637\" xlink:show=\"new\" xlink:title=\"psysml:69df1372-c4de-42e4-b97b-1df20a9e4637\" xlink:type=\"simple\"><rect fill=\"#FFFFFF\" height=\"45.9375\" id=\"E4\" rx=\"10\" ry=\"10\" style=\"stroke: #383838; stroke-width: 1.5;\" width=\"42\" x=\"625\" y=\"62\"/><text fill=\"#000000\" font-family=\"sans-serif\" font-size=\"12\" font-style=\"italic\" lengthAdjust=\"spacingAndGlyphs\" textLength=\"40\" x=\"626\" y=\"78.1387\">«part»</text><text fill=\"#000000\" font-family=\"sans-serif\" font-size=\"12\" lengthAdjust=\"spacingAndGlyphs\" textLength=\"8\" x=\"642\" y=\"92.1074\">a</text><line style=\"stroke: #383838; stroke-width: 1.5;\" x1=\"626\" x2=\"666\" y1=\"99.9375\" y2=\"99.9375\"/></a><!--MD5=[270fce915f116d4de14055a7c1d9a0f3]\n",
       "class E5--><a href=\"psysml:ce135ed3-5db8-4159-aade-37d21406abf2\" target=\"_top\" title=\"psysml:ce135ed3-5db8-4159-aade-37d21406abf2\" xlink:actuate=\"onRequest\" xlink:href=\"psysml:ce135ed3-5db8-4159-aade-37d21406abf2\" xlink:show=\"new\" xlink:title=\"psysml:ce135ed3-5db8-4159-aade-37d21406abf2\" xlink:type=\"simple\"><rect fill=\"#FFFFFF\" height=\"45.9375\" id=\"E5\" rx=\"10\" ry=\"10\" style=\"stroke: #383838; stroke-width: 1.5;\" width=\"42\" x=\"548\" y=\"62\"/><text fill=\"#000000\" font-family=\"sans-serif\" font-size=\"12\" font-style=\"italic\" lengthAdjust=\"spacingAndGlyphs\" textLength=\"40\" x=\"549\" y=\"78.1387\">«part»</text><text fill=\"#000000\" font-family=\"sans-serif\" font-size=\"12\" lengthAdjust=\"spacingAndGlyphs\" textLength=\"24\" x=\"557\" y=\"92.1074\">b: P</text><line style=\"stroke: #383838; stroke-width: 1.5;\" x1=\"549\" x2=\"589\" y1=\"99.9375\" y2=\"99.9375\"/></a><!--MD5=[60a26617385b1d2d0262a64233df1f8d]\n",
       "class E6--><a href=\"psysml:7c20260d-33cb-4904-8feb-6f2059c0b9de\" target=\"_top\" title=\"psysml:7c20260d-33cb-4904-8feb-6f2059c0b9de\" xlink:actuate=\"onRequest\" xlink:href=\"psysml:7c20260d-33cb-4904-8feb-6f2059c0b9de\" xlink:show=\"new\" xlink:title=\"psysml:7c20260d-33cb-4904-8feb-6f2059c0b9de\" xlink:type=\"simple\"><rect fill=\"#FFFFFF\" height=\"45.9375\" id=\"E6\" rx=\"10\" ry=\"10\" style=\"stroke: #383838; stroke-width: 1.5;\" width=\"42\" x=\"471\" y=\"62\"/><text fill=\"#000000\" font-family=\"sans-serif\" font-size=\"12\" font-style=\"italic\" lengthAdjust=\"spacingAndGlyphs\" textLength=\"40\" x=\"472\" y=\"78.1387\">«part»</text><text fill=\"#000000\" font-family=\"sans-serif\" font-size=\"12\" lengthAdjust=\"spacingAndGlyphs\" textLength=\"23\" x=\"480.5\" y=\"92.1074\">c: P</text><line style=\"stroke: #383838; stroke-width: 1.5;\" x1=\"472\" x2=\"512\" y1=\"99.9375\" y2=\"99.9375\"/></a><!--MD5=[2156ba9850f5573cc1fc38a6a4b2f02b]\n",
       "class E7--><a href=\"psysml:a788bf26-d852-4daf-8a66-fd926f14abf3\" target=\"_top\" title=\"psysml:a788bf26-d852-4daf-8a66-fd926f14abf3\" xlink:actuate=\"onRequest\" xlink:href=\"psysml:a788bf26-d852-4daf-8a66-fd926f14abf3\" xlink:show=\"new\" xlink:title=\"psysml:a788bf26-d852-4daf-8a66-fd926f14abf3\" xlink:type=\"simple\"><rect fill=\"#FFFFFF\" height=\"45.9375\" id=\"E7\" rx=\"10\" ry=\"10\" style=\"stroke: #383838; stroke-width: 1.5;\" width=\"42\" x=\"394\" y=\"62\"/><text fill=\"#000000\" font-family=\"sans-serif\" font-size=\"12\" font-style=\"italic\" lengthAdjust=\"spacingAndGlyphs\" textLength=\"40\" x=\"395\" y=\"78.1387\">«part»</text><text fill=\"#000000\" font-family=\"sans-serif\" font-size=\"12\" lengthAdjust=\"spacingAndGlyphs\" textLength=\"8\" x=\"411\" y=\"92.1074\">d</text><line style=\"stroke: #383838; stroke-width: 1.5;\" x1=\"395\" x2=\"435\" y1=\"99.9375\" y2=\"99.9375\"/></a><!--MD5=[b9389687b975829384b498ac4b7476b2]\n",
       "class E8--><a href=\"psysml:8ca44daa-798d-42ea-8082-fded64fdb257\" target=\"_top\" title=\"psysml:8ca44daa-798d-42ea-8082-fded64fdb257\" xlink:actuate=\"onRequest\" xlink:href=\"psysml:8ca44daa-798d-42ea-8082-fded64fdb257\" xlink:show=\"new\" xlink:title=\"psysml:8ca44daa-798d-42ea-8082-fded64fdb257\" xlink:type=\"simple\"><rect fill=\"#FFFFFF\" height=\"45.9375\" id=\"E8\" rx=\"10\" ry=\"10\" style=\"stroke: #383838; stroke-width: 1.5;\" width=\"42\" x=\"317\" y=\"62\"/><text fill=\"#000000\" font-family=\"sans-serif\" font-size=\"12\" font-style=\"italic\" lengthAdjust=\"spacingAndGlyphs\" textLength=\"40\" x=\"318\" y=\"78.1387\">«part»</text><text fill=\"#000000\" font-family=\"sans-serif\" font-size=\"12\" lengthAdjust=\"spacingAndGlyphs\" textLength=\"8\" x=\"334\" y=\"92.1074\">e</text><line style=\"stroke: #383838; stroke-width: 1.5;\" x1=\"318\" x2=\"358\" y1=\"99.9375\" y2=\"99.9375\"/></a><!--MD5=[fd4143e9d270a159db93a4ea2a975926]\n",
       "class E9--><a href=\"psysml:94368454-840d-4091-abdb-e19ae5322c54\" target=\"_top\" title=\"psysml:94368454-840d-4091-abdb-e19ae5322c54\" xlink:actuate=\"onRequest\" xlink:href=\"psysml:94368454-840d-4091-abdb-e19ae5322c54\" xlink:show=\"new\" xlink:title=\"psysml:94368454-840d-4091-abdb-e19ae5322c54\" xlink:type=\"simple\"><rect fill=\"#FFFFFF\" height=\"45.9375\" id=\"E9\" rx=\"10\" ry=\"10\" style=\"stroke: #383838; stroke-width: 1.5;\" width=\"42\" x=\"240\" y=\"62\"/><text fill=\"#000000\" font-family=\"sans-serif\" font-size=\"12\" font-style=\"italic\" lengthAdjust=\"spacingAndGlyphs\" textLength=\"40\" x=\"241\" y=\"78.1387\">«part»</text><text fill=\"#000000\" font-family=\"sans-serif\" font-size=\"12\" lengthAdjust=\"spacingAndGlyphs\" textLength=\"4\" x=\"259\" y=\"92.1074\">f</text><line style=\"stroke: #383838; stroke-width: 1.5;\" x1=\"241\" x2=\"281\" y1=\"99.9375\" y2=\"99.9375\"/></a><!--MD5=[96f4274e9e20536e775497830990834d]\n",
       "class E10--><a href=\"psysml:8f8b3cba-ab00-4478-b69f-246a2e072be5\" target=\"_top\" title=\"psysml:8f8b3cba-ab00-4478-b69f-246a2e072be5\" xlink:actuate=\"onRequest\" xlink:href=\"psysml:8f8b3cba-ab00-4478-b69f-246a2e072be5\" xlink:show=\"new\" xlink:title=\"psysml:8f8b3cba-ab00-4478-b69f-246a2e072be5\" xlink:type=\"simple\"><rect fill=\"#FFFFFF\" height=\"45.9375\" id=\"E10\" rx=\"10\" ry=\"10\" style=\"stroke: #383838; stroke-width: 1.5;\" width=\"42\" x=\"163\" y=\"62\"/><text fill=\"#000000\" font-family=\"sans-serif\" font-size=\"12\" font-style=\"italic\" lengthAdjust=\"spacingAndGlyphs\" textLength=\"40\" x=\"164\" y=\"78.1387\">«part»</text><text fill=\"#000000\" font-family=\"sans-serif\" font-size=\"12\" lengthAdjust=\"spacingAndGlyphs\" textLength=\"8\" x=\"180\" y=\"92.1074\">g</text><line style=\"stroke: #383838; stroke-width: 1.5;\" x1=\"164\" x2=\"204\" y1=\"99.9375\" y2=\"99.9375\"/></a><!--MD5=[1dd1bfd58a279cf63c5f349dbc8fc6a1]\n",
       "class E11--><a href=\"psysml:2c45c451-c8b5-4e48-8592-55fa30d535c5\" target=\"_top\" title=\"psysml:2c45c451-c8b5-4e48-8592-55fa30d535c5\" xlink:actuate=\"onRequest\" xlink:href=\"psysml:2c45c451-c8b5-4e48-8592-55fa30d535c5\" xlink:show=\"new\" xlink:title=\"psysml:2c45c451-c8b5-4e48-8592-55fa30d535c5\" xlink:type=\"simple\"><rect fill=\"#FFFFFF\" height=\"88.3516\" id=\"E11\" style=\"stroke: #383838; stroke-width: 1.5;\" width=\"95\" x=\"32.5\" y=\"41\"/><text fill=\"#000000\" font-family=\"sans-serif\" font-size=\"12\" font-style=\"italic\" lengthAdjust=\"spacingAndGlyphs\" textLength=\"93\" x=\"33.5\" y=\"57.1387\">«attribute def»</text><text fill=\"#000000\" font-family=\"sans-serif\" font-size=\"12\" lengthAdjust=\"spacingAndGlyphs\" textLength=\"8\" x=\"76\" y=\"71.1074\">A</text><line style=\"stroke: #383838; stroke-width: 1.5;\" x1=\"33.5\" x2=\"126.5\" y1=\"78.9375\" y2=\"78.9375\"/><text fill=\"#000000\" font-family=\"sans-serif\" font-size=\"11\" lengthAdjust=\"spacingAndGlyphs\" textLength=\"51\" x=\"38.5\" y=\"109.9526\">i: Integer</text><text fill=\"#000000\" font-family=\"sans-serif\" font-size=\"11\" lengthAdjust=\"spacingAndGlyphs\" textLength=\"21\" x=\"38.5\" y=\"122.7573\">x: A</text><line style=\"stroke: #383838; stroke-width: 1.0;\" x1=\"33.5\" x2=\"52.5\" y1=\"93.3398\" y2=\"93.3398\"/><text fill=\"#000000\" font-family=\"sans-serif\" font-size=\"11\" lengthAdjust=\"spacingAndGlyphs\" textLength=\"55\" x=\"52.5\" y=\"96.6479\">attributes</text><line style=\"stroke: #383838; stroke-width: 1.0;\" x1=\"107.5\" x2=\"126.5\" y1=\"93.3398\" y2=\"93.3398\"/></a><!--MD5=[15ebcb19ae302d9b601edb458606d402]\n",
       "link E5 to E2--><a href=\"psysml:99c2055f-0301-4891-b65d-9e517e6365b1\" target=\"_top\" title=\"psysml:99c2055f-0301-4891-b65d-9e517e6365b1\" xlink:actuate=\"onRequest\" xlink:href=\"psysml:99c2055f-0301-4891-b65d-9e517e6365b1\" xlink:show=\"new\" xlink:title=\"psysml:99c2055f-0301-4891-b65d-9e517e6365b1\" xlink:type=\"simple\"><path d=\"M562.12,108.06 C556.83,125 549.38,148.89 542.98,169.39 \" fill=\"none\" id=\"E5-&gt;E2\" style=\"stroke: #383838; stroke-width: 1.0;\"/><polygon fill=\"#FFFFFF\" points=\"536.95,188.74,535.929,168.5173,549.2931,172.6886,536.95,188.74\" style=\"stroke: #383838; stroke-width: 1.0;\"/><ellipse cx=\"539.5364\" cy=\"163.6721\" fill=\"#383838\" rx=\"2\" ry=\"2\" style=\"stroke: #383838; stroke-width: 1.0;\"/><ellipse cx=\"549.0823\" cy=\"166.6516\" fill=\"#383838\" rx=\"2\" ry=\"2\" style=\"stroke: #383838; stroke-width: 1.0;\"/></a><!--MD5=[2351f337d6de0f557b50152ba70847b5]\n",
       "link E6 to E2--><a href=\"psysml:035f6493-28ba-4968-b761-0ab46a395f55\" target=\"_top\" title=\"psysml:035f6493-28ba-4968-b761-0ab46a395f55\" xlink:actuate=\"onRequest\" xlink:href=\"psysml:035f6493-28ba-4968-b761-0ab46a395f55\" xlink:show=\"new\" xlink:title=\"psysml:035f6493-28ba-4968-b761-0ab46a395f55\" xlink:type=\"simple\"><path d=\"M498.71,108.06 C503.86,125 511.12,148.89 517.35,169.39 \" fill=\"none\" id=\"E6-&gt;E2\" style=\"stroke: #383838; stroke-width: 1.0;\"/><polygon fill=\"#FFFFFF\" points=\"523.23,188.74,511.007,172.597,524.4019,168.5255,523.23,188.74\" style=\"stroke: #383838; stroke-width: 1.0;\"/><ellipse cx=\"511.2628\" cy=\"166.5617\" fill=\"#383838\" rx=\"2\" ry=\"2\" style=\"stroke: #383838; stroke-width: 1.0;\"/><ellipse cx=\"520.8306\" cy=\"163.6535\" fill=\"#383838\" rx=\"2\" ry=\"2\" style=\"stroke: #383838; stroke-width: 1.0;\"/></a><!--MD5=[e81d728826aa635105d5a8aa2a7bfe41]\n",
       "@startuml\r\n",
       "top to bottom direction\r\n",
       "skinparam monochrome true\r\n",
       "skinparam classbackgroundcolor white\r\n",
       "skinparam shadowing false\r\n",
       "skinparam wrapWidth 300\r\n",
       "hide circle\r\n",
       "\r\n",
       "package \"MultiplicityTest\" as E1  [[psysml:d21f1d33-c8d8-4d7e-915c-a1dc21839292 ]]  {\r\n",
       "comp def \"P\" as E2  <<(T,blue) part def>> [[psysml:cfcc0fdc-4985-4a7c-8ed0-df1ec6a07f40 ]] {\r\n",
       "}\r\n",
       "comp usage \"n: Integer\" as E3  <<(T,blue) attribute>> [[psysml:6504cd03-3352-435e-8e5a-44d60f096993 ]] {\r\n",
       "}\r\n",
       "comp usage \"a\" as E4  <<(T,blue) part>> [[psysml:69df1372-c4de-42e4-b97b-1df20a9e4637 ]] {\r\n",
       "}\r\n",
       "comp usage \"b: P\" as E5  <<(T,blue) part>> [[psysml:ce135ed3-5db8-4159-aade-37d21406abf2 ]] {\r\n",
       "}\r\n",
       "comp usage \"c: P\" as E6  <<(T,blue) part>> [[psysml:7c20260d-33cb-4904-8feb-6f2059c0b9de ]] {\r\n",
       "}\r\n",
       "comp usage \"d\" as E7  <<(T,blue) part>> [[psysml:a788bf26-d852-4daf-8a66-fd926f14abf3 ]] {\r\n",
       "}\r\n",
       "comp usage \"e\" as E8  <<(T,blue) part>> [[psysml:8ca44daa-798d-42ea-8082-fded64fdb257 ]] {\r\n",
       "}\r\n",
       "comp usage \"f\" as E9  <<(T,blue) part>> [[psysml:94368454-840d-4091-abdb-e19ae5322c54 ]] {\r\n",
       "}\r\n",
       "comp usage \"g\" as E10  <<(T,blue) part>> [[psysml:8f8b3cba-ab00-4478-b69f-246a2e072be5 ]] {\r\n",
       "}\r\n",
       "comp def \"A\" as E11  <<(T,blue) attribute def>> [[psysml:2c45c451-c8b5-4e48-8592-55fa30d535c5 ]] {\r\n",
       "- - attributes - -\r\n",
       "i: Integer\r\n",
       "x: A\r\n",
       "}\r\n",
       "E5 - -:|> E2 [[psysml:99c2055f-0301-4891-b65d-9e517e6365b1 ]] \r\n",
       "E6 - -:|> E2 [[psysml:035f6493-28ba-4968-b761-0ab46a395f55 ]] \r\n",
       "}\r\n",
       "@enduml\r\n",
       "\n",
       "PlantUML version 1.2020.13(Sat Jun 13 12:26:38 UTC 2020)\n",
       "(EPL source distribution)\n",
       "Java Runtime: OpenJDK Runtime Environment\n",
       "JVM: OpenJDK 64-Bit Server VM\n",
       "Default Encoding: UTF-8\n",
       "Language: en\n",
       "Country: null\n",
       "--></g></svg>"
      ]
     },
     "execution_count": 45,
     "metadata": {},
     "output_type": "execute_result"
    }
   ],
   "source": [
    "%viz --style=\"TB\" --view=\"Tree\" \"MultiplicityTest\""
   ]
  },
  {
   "cell_type": "code",
   "execution_count": 46,
   "id": "ff3c41f2",
   "metadata": {
    "execution": {
     "iopub.execute_input": "2021-06-30T09:24:33.734966Z",
     "iopub.status.busy": "2021-06-30T09:24:33.734270Z",
     "iopub.status.idle": "2021-06-30T09:24:33.745720Z",
     "shell.execute_reply": "2021-06-30T09:24:33.745426Z"
    }
   },
   "outputs": [
    {
     "data": {
      "image/svg+xml": [
       "<?xml version=\"1.0\" encoding=\"UTF-8\" standalone=\"no\"?><svg xmlns=\"http://www.w3.org/2000/svg\" xmlns:xlink=\"http://www.w3.org/1999/xlink\" contentScriptType=\"application/ecmascript\" contentStyleType=\"text/css\" height=\"12px\" preserveAspectRatio=\"none\" style=\"width:12px;height:12px;\" version=\"1.1\" viewBox=\"0 0 12 12\" width=\"12px\" zoomAndPan=\"magnify\"><defs/><g><!--MD5=[f4ee21bc66e489b5061b7c3e9601fdef]\n",
       "@startuml\r\n",
       "top to bottom direction\r\n",
       "skinparam monochrome true\r\n",
       "skinparam classbackgroundcolor white\r\n",
       "skinparam shadowing false\r\n",
       "skinparam wrapWidth 300\r\n",
       "hide circle\r\n",
       "\r\n",
       "@enduml\r\n",
       "\n",
       "PlantUML version 1.2020.13(Sat Jun 13 12:26:38 UTC 2020)\n",
       "(EPL source distribution)\n",
       "Java Runtime: OpenJDK Runtime Environment\n",
       "JVM: OpenJDK 64-Bit Server VM\n",
       "Default Encoding: UTF-8\n",
       "Language: en\n",
       "Country: null\n",
       "--></g></svg>"
      ]
     },
     "execution_count": 46,
     "metadata": {},
     "output_type": "execute_result"
    }
   ],
   "source": [
    "%viz --style=\"TB\" --view=\"State\" \"MultiplicityTest\""
   ]
  },
  {
   "cell_type": "code",
   "execution_count": 47,
   "id": "89b46fbf",
   "metadata": {
    "execution": {
     "iopub.execute_input": "2021-06-30T09:24:33.802159Z",
     "iopub.status.busy": "2021-06-30T09:24:33.801248Z",
     "iopub.status.idle": "2021-06-30T09:24:33.851762Z",
     "shell.execute_reply": "2021-06-30T09:24:33.851028Z"
    }
   },
   "outputs": [
    {
     "data": {
      "image/svg+xml": [
       "<?xml version=\"1.0\" encoding=\"UTF-8\" standalone=\"no\"?><svg xmlns=\"http://www.w3.org/2000/svg\" xmlns:xlink=\"http://www.w3.org/1999/xlink\" contentScriptType=\"application/ecmascript\" contentStyleType=\"text/css\" height=\"115px\" preserveAspectRatio=\"none\" style=\"width:979px;height:115px;\" version=\"1.1\" viewBox=\"0 0 979 115\" width=\"979px\" zoomAndPan=\"magnify\"><defs/><g><!--MD5=[fbc87193dbaf4d95561dea2c320d4a47]\n",
       "cluster E1--><a href=\"psysml:d21f1d33-c8d8-4d7e-915c-a1dc21839292\" target=\"_top\" title=\"psysml:d21f1d33-c8d8-4d7e-915c-a1dc21839292\" xlink:actuate=\"onRequest\" xlink:href=\"psysml:d21f1d33-c8d8-4d7e-915c-a1dc21839292\" xlink:show=\"new\" xlink:title=\"psysml:d21f1d33-c8d8-4d7e-915c-a1dc21839292\" xlink:type=\"simple\"><polygon fill=\"#FFFFFF\" points=\"16,6,140,6,147,28.2969,957,28.2969,957,103,16,103,16,6\" style=\"stroke: #000000; stroke-width: 1.5;\"/><line style=\"stroke: #000000; stroke-width: 1.5;\" x1=\"16\" x2=\"147\" y1=\"28.2969\" y2=\"28.2969\"/><text fill=\"#000000\" font-family=\"sans-serif\" font-size=\"14\" font-weight=\"bold\" lengthAdjust=\"spacingAndGlyphs\" textLength=\"118\" x=\"20\" y=\"20.9951\">MultiplicityTest</text></a><!--MD5=[09b614a08d8cba4a07c9adeb5e0fee81]\n",
       "class E3--><a href=\"psysml:6504cd03-3352-435e-8e5a-44d60f096993\" target=\"_top\" title=\"psysml:6504cd03-3352-435e-8e5a-44d60f096993\" xlink:actuate=\"onRequest\" xlink:href=\"psysml:6504cd03-3352-435e-8e5a-44d60f096993\" xlink:show=\"new\" xlink:title=\"psysml:6504cd03-3352-435e-8e5a-44d60f096993\" xlink:type=\"simple\"><rect fill=\"#FFFFFF\" height=\"45.9375\" id=\"E3\" rx=\"10\" ry=\"10\" style=\"stroke: #383838; stroke-width: 1.5;\" width=\"71\" x=\"869.5\" y=\"41\"/><text fill=\"#000000\" font-family=\"sans-serif\" font-size=\"12\" font-style=\"italic\" lengthAdjust=\"spacingAndGlyphs\" textLength=\"69\" x=\"870.5\" y=\"57.1387\">«attribute»</text><text fill=\"#000000\" font-family=\"sans-serif\" font-size=\"12\" lengthAdjust=\"spacingAndGlyphs\" textLength=\"61\" x=\"874.5\" y=\"71.1074\">n: Integer</text><line style=\"stroke: #383838; stroke-width: 1.5;\" x1=\"870.5\" x2=\"939.5\" y1=\"78.9375\" y2=\"78.9375\"/></a><g id=\"E1.E11\"><a href=\"psysml:2c45c451-c8b5-4e48-8592-55fa30d535c5\" target=\"_top\" title=\"psysml:2c45c451-c8b5-4e48-8592-55fa30d535c5\" xlink:actuate=\"onRequest\" xlink:href=\"psysml:2c45c451-c8b5-4e48-8592-55fa30d535c5\" xlink:show=\"new\" xlink:title=\"psysml:2c45c451-c8b5-4e48-8592-55fa30d535c5\" xlink:type=\"simple\"><rect fill=\"#FFFFFF\" height=\"42.9375\" id=\"E11\" style=\"stroke: #383838; stroke-width: 1.5;\" width=\"100\" x=\"734\" y=\"42.5\"/><rect fill=\"#F8F8F8\" height=\"37.9375\" style=\"stroke: #383838; stroke-width: 1.5;\" width=\"100\" x=\"734\" y=\"42.5\"/><text fill=\"#000000\" font-family=\"sans-serif\" font-size=\"12\" font-style=\"italic\" lengthAdjust=\"spacingAndGlyphs\" textLength=\"93\" x=\"737.5\" y=\"58.6387\">«attribute def»</text><text fill=\"#000000\" font-family=\"sans-serif\" font-size=\"12\" lengthAdjust=\"spacingAndGlyphs\" textLength=\"8\" x=\"780\" y=\"72.6074\">A</text></a></g><g id=\"E1.E2\"><a href=\"psysml:cfcc0fdc-4985-4a7c-8ed0-df1ec6a07f40\" target=\"_top\" title=\"psysml:cfcc0fdc-4985-4a7c-8ed0-df1ec6a07f40\" xlink:actuate=\"onRequest\" xlink:href=\"psysml:cfcc0fdc-4985-4a7c-8ed0-df1ec6a07f40\" xlink:show=\"new\" xlink:title=\"psysml:cfcc0fdc-4985-4a7c-8ed0-df1ec6a07f40\" xlink:type=\"simple\"><rect fill=\"#FFFFFF\" height=\"42.9375\" id=\"E2\" style=\"stroke: #383838; stroke-width: 1.5;\" width=\"71\" x=\"627.5\" y=\"42.5\"/><rect fill=\"#F8F8F8\" height=\"37.9375\" style=\"stroke: #383838; stroke-width: 1.5;\" width=\"71\" x=\"627.5\" y=\"42.5\"/><text fill=\"#000000\" font-family=\"sans-serif\" font-size=\"12\" font-style=\"italic\" lengthAdjust=\"spacingAndGlyphs\" textLength=\"64\" x=\"631\" y=\"58.6387\">«part def»</text><text fill=\"#000000\" font-family=\"sans-serif\" font-size=\"12\" lengthAdjust=\"spacingAndGlyphs\" textLength=\"8\" x=\"659\" y=\"72.6074\">P</text></a></g><g id=\"E1.E4\"><a href=\"psysml:69df1372-c4de-42e4-b97b-1df20a9e4637\" target=\"_top\" title=\"psysml:69df1372-c4de-42e4-b97b-1df20a9e4637\" xlink:actuate=\"onRequest\" xlink:href=\"psysml:69df1372-c4de-42e4-b97b-1df20a9e4637\" xlink:show=\"new\" xlink:title=\"psysml:69df1372-c4de-42e4-b97b-1df20a9e4637\" xlink:type=\"simple\"><rect fill=\"#FFFFFF\" height=\"40\" id=\"E4\" rx=\"10\" ry=\"10\" style=\"stroke: #383838; stroke-width: 1.5;\" width=\"50\" x=\"542\" y=\"44\"/><rect fill=\"#F8F8F8\" height=\"23.9688\" rx=\"10\" ry=\"10\" style=\"stroke: #F8F8F8; stroke-width: 1.5;\" width=\"50\" x=\"542\" y=\"44\"/><rect fill=\"#F8F8F8\" height=\"10\" style=\"stroke: #F8F8F8; stroke-width: 1.5;\" width=\"50\" x=\"542\" y=\"57.9688\"/><rect fill=\"none\" height=\"40\" id=\"E4\" rx=\"10\" ry=\"10\" style=\"stroke: #383838; stroke-width: 1.5;\" width=\"50\" x=\"542\" y=\"44\"/><text fill=\"#000000\" font-family=\"sans-serif\" font-size=\"12\" lengthAdjust=\"spacingAndGlyphs\" textLength=\"8\" x=\"563\" y=\"60.1387\">a</text></a></g><g id=\"E1.E5\"><a href=\"psysml:ce135ed3-5db8-4159-aade-37d21406abf2\" target=\"_top\" title=\"psysml:ce135ed3-5db8-4159-aade-37d21406abf2\" xlink:actuate=\"onRequest\" xlink:href=\"psysml:ce135ed3-5db8-4159-aade-37d21406abf2\" xlink:show=\"new\" xlink:title=\"psysml:ce135ed3-5db8-4159-aade-37d21406abf2\" xlink:type=\"simple\"><rect fill=\"#FFFFFF\" height=\"40\" id=\"E5\" rx=\"10\" ry=\"10\" style=\"stroke: #383838; stroke-width: 1.5;\" width=\"50\" x=\"457\" y=\"44\"/><rect fill=\"#F8F8F8\" height=\"23.9688\" rx=\"10\" ry=\"10\" style=\"stroke: #F8F8F8; stroke-width: 1.5;\" width=\"50\" x=\"457\" y=\"44\"/><rect fill=\"#F8F8F8\" height=\"10\" style=\"stroke: #F8F8F8; stroke-width: 1.5;\" width=\"50\" x=\"457\" y=\"57.9688\"/><rect fill=\"none\" height=\"40\" id=\"E5\" rx=\"10\" ry=\"10\" style=\"stroke: #383838; stroke-width: 1.5;\" width=\"50\" x=\"457\" y=\"44\"/><text fill=\"#000000\" font-family=\"sans-serif\" font-size=\"12\" lengthAdjust=\"spacingAndGlyphs\" textLength=\"24\" x=\"470\" y=\"60.1387\">b: P</text></a></g><g id=\"E1.E6\"><a href=\"psysml:7c20260d-33cb-4904-8feb-6f2059c0b9de\" target=\"_top\" title=\"psysml:7c20260d-33cb-4904-8feb-6f2059c0b9de\" xlink:actuate=\"onRequest\" xlink:href=\"psysml:7c20260d-33cb-4904-8feb-6f2059c0b9de\" xlink:show=\"new\" xlink:title=\"psysml:7c20260d-33cb-4904-8feb-6f2059c0b9de\" xlink:type=\"simple\"><rect fill=\"#FFFFFF\" height=\"40\" id=\"E6\" rx=\"10\" ry=\"10\" style=\"stroke: #383838; stroke-width: 1.5;\" width=\"50\" x=\"372\" y=\"44\"/><rect fill=\"#F8F8F8\" height=\"23.9688\" rx=\"10\" ry=\"10\" style=\"stroke: #F8F8F8; stroke-width: 1.5;\" width=\"50\" x=\"372\" y=\"44\"/><rect fill=\"#F8F8F8\" height=\"10\" style=\"stroke: #F8F8F8; stroke-width: 1.5;\" width=\"50\" x=\"372\" y=\"57.9688\"/><rect fill=\"none\" height=\"40\" id=\"E6\" rx=\"10\" ry=\"10\" style=\"stroke: #383838; stroke-width: 1.5;\" width=\"50\" x=\"372\" y=\"44\"/><text fill=\"#000000\" font-family=\"sans-serif\" font-size=\"12\" lengthAdjust=\"spacingAndGlyphs\" textLength=\"23\" x=\"385.5\" y=\"60.1387\">c: P</text></a></g><g id=\"E1.E7\"><a href=\"psysml:a788bf26-d852-4daf-8a66-fd926f14abf3\" target=\"_top\" title=\"psysml:a788bf26-d852-4daf-8a66-fd926f14abf3\" xlink:actuate=\"onRequest\" xlink:href=\"psysml:a788bf26-d852-4daf-8a66-fd926f14abf3\" xlink:show=\"new\" xlink:title=\"psysml:a788bf26-d852-4daf-8a66-fd926f14abf3\" xlink:type=\"simple\"><rect fill=\"#FFFFFF\" height=\"40\" id=\"E7\" rx=\"10\" ry=\"10\" style=\"stroke: #383838; stroke-width: 1.5;\" width=\"50\" x=\"287\" y=\"44\"/><rect fill=\"#F8F8F8\" height=\"23.9688\" rx=\"10\" ry=\"10\" style=\"stroke: #F8F8F8; stroke-width: 1.5;\" width=\"50\" x=\"287\" y=\"44\"/><rect fill=\"#F8F8F8\" height=\"10\" style=\"stroke: #F8F8F8; stroke-width: 1.5;\" width=\"50\" x=\"287\" y=\"57.9688\"/><rect fill=\"none\" height=\"40\" id=\"E7\" rx=\"10\" ry=\"10\" style=\"stroke: #383838; stroke-width: 1.5;\" width=\"50\" x=\"287\" y=\"44\"/><text fill=\"#000000\" font-family=\"sans-serif\" font-size=\"12\" lengthAdjust=\"spacingAndGlyphs\" textLength=\"8\" x=\"308\" y=\"60.1387\">d</text></a></g><g id=\"E1.E8\"><a href=\"psysml:8ca44daa-798d-42ea-8082-fded64fdb257\" target=\"_top\" title=\"psysml:8ca44daa-798d-42ea-8082-fded64fdb257\" xlink:actuate=\"onRequest\" xlink:href=\"psysml:8ca44daa-798d-42ea-8082-fded64fdb257\" xlink:show=\"new\" xlink:title=\"psysml:8ca44daa-798d-42ea-8082-fded64fdb257\" xlink:type=\"simple\"><rect fill=\"#FFFFFF\" height=\"40\" id=\"E8\" rx=\"10\" ry=\"10\" style=\"stroke: #383838; stroke-width: 1.5;\" width=\"50\" x=\"202\" y=\"44\"/><rect fill=\"#F8F8F8\" height=\"23.9688\" rx=\"10\" ry=\"10\" style=\"stroke: #F8F8F8; stroke-width: 1.5;\" width=\"50\" x=\"202\" y=\"44\"/><rect fill=\"#F8F8F8\" height=\"10\" style=\"stroke: #F8F8F8; stroke-width: 1.5;\" width=\"50\" x=\"202\" y=\"57.9688\"/><rect fill=\"none\" height=\"40\" id=\"E8\" rx=\"10\" ry=\"10\" style=\"stroke: #383838; stroke-width: 1.5;\" width=\"50\" x=\"202\" y=\"44\"/><text fill=\"#000000\" font-family=\"sans-serif\" font-size=\"12\" lengthAdjust=\"spacingAndGlyphs\" textLength=\"8\" x=\"223\" y=\"60.1387\">e</text></a></g><g id=\"E1.E9\"><a href=\"psysml:94368454-840d-4091-abdb-e19ae5322c54\" target=\"_top\" title=\"psysml:94368454-840d-4091-abdb-e19ae5322c54\" xlink:actuate=\"onRequest\" xlink:href=\"psysml:94368454-840d-4091-abdb-e19ae5322c54\" xlink:show=\"new\" xlink:title=\"psysml:94368454-840d-4091-abdb-e19ae5322c54\" xlink:type=\"simple\"><rect fill=\"#FFFFFF\" height=\"40\" id=\"E9\" rx=\"10\" ry=\"10\" style=\"stroke: #383838; stroke-width: 1.5;\" width=\"50\" x=\"117\" y=\"44\"/><rect fill=\"#F8F8F8\" height=\"23.9688\" rx=\"10\" ry=\"10\" style=\"stroke: #F8F8F8; stroke-width: 1.5;\" width=\"50\" x=\"117\" y=\"44\"/><rect fill=\"#F8F8F8\" height=\"10\" style=\"stroke: #F8F8F8; stroke-width: 1.5;\" width=\"50\" x=\"117\" y=\"57.9688\"/><rect fill=\"none\" height=\"40\" id=\"E9\" rx=\"10\" ry=\"10\" style=\"stroke: #383838; stroke-width: 1.5;\" width=\"50\" x=\"117\" y=\"44\"/><text fill=\"#000000\" font-family=\"sans-serif\" font-size=\"12\" lengthAdjust=\"spacingAndGlyphs\" textLength=\"4\" x=\"140\" y=\"60.1387\">f</text></a></g><g id=\"E1.E10\"><a href=\"psysml:8f8b3cba-ab00-4478-b69f-246a2e072be5\" target=\"_top\" title=\"psysml:8f8b3cba-ab00-4478-b69f-246a2e072be5\" xlink:actuate=\"onRequest\" xlink:href=\"psysml:8f8b3cba-ab00-4478-b69f-246a2e072be5\" xlink:show=\"new\" xlink:title=\"psysml:8f8b3cba-ab00-4478-b69f-246a2e072be5\" xlink:type=\"simple\"><rect fill=\"#FFFFFF\" height=\"40\" id=\"E10\" rx=\"10\" ry=\"10\" style=\"stroke: #383838; stroke-width: 1.5;\" width=\"50\" x=\"32\" y=\"44\"/><rect fill=\"#F8F8F8\" height=\"23.9688\" rx=\"10\" ry=\"10\" style=\"stroke: #F8F8F8; stroke-width: 1.5;\" width=\"50\" x=\"32\" y=\"44\"/><rect fill=\"#F8F8F8\" height=\"10\" style=\"stroke: #F8F8F8; stroke-width: 1.5;\" width=\"50\" x=\"32\" y=\"57.9688\"/><rect fill=\"none\" height=\"40\" id=\"E10\" rx=\"10\" ry=\"10\" style=\"stroke: #383838; stroke-width: 1.5;\" width=\"50\" x=\"32\" y=\"44\"/><text fill=\"#000000\" font-family=\"sans-serif\" font-size=\"12\" lengthAdjust=\"spacingAndGlyphs\" textLength=\"8\" x=\"53\" y=\"60.1387\">g</text></a></g><!--MD5=[e640c404c07fb3b604c8db5bedac00f8]\n",
       "@startuml\r\n",
       "skinparam ranksep 10\r\n",
       "skinparam rectangle {\r\n",
       " backgroundColor<<block>> LightGreen\r\n",
       "}\r\n",
       "top to bottom direction\r\n",
       "skinparam monochrome true\r\n",
       "skinparam classbackgroundcolor white\r\n",
       "skinparam shadowing false\r\n",
       "skinparam wrapWidth 300\r\n",
       "hide circle\r\n",
       "\r\n",
       "package \"MultiplicityTest\" as E1  [[psysml:d21f1d33-c8d8-4d7e-915c-a1dc21839292 ]]  {\r\n",
       "rec def \"P\" as E2  <<(T,blue) part def>> [[psysml:cfcc0fdc-4985-4a7c-8ed0-df1ec6a07f40 ]] {\r\n",
       "}\r\n",
       "comp usage \"n: Integer\" as E3  <<(T,blue) attribute>> [[psysml:6504cd03-3352-435e-8e5a-44d60f096993 ]] {\r\n",
       "}\r\n",
       "rec usage \"a\" as E4  [[psysml:69df1372-c4de-42e4-b97b-1df20a9e4637 ]] {\r\n",
       "}\r\n",
       "rec usage \"b: P\" as E5  [[psysml:ce135ed3-5db8-4159-aade-37d21406abf2 ]] {\r\n",
       "}\r\n",
       "rec usage \"c: P\" as E6  [[psysml:7c20260d-33cb-4904-8feb-6f2059c0b9de ]] {\r\n",
       "}\r\n",
       "rec usage \"d\" as E7  [[psysml:a788bf26-d852-4daf-8a66-fd926f14abf3 ]] {\r\n",
       "}\r\n",
       "rec usage \"e\" as E8  [[psysml:8ca44daa-798d-42ea-8082-fded64fdb257 ]] {\r\n",
       "}\r\n",
       "rec usage \"f\" as E9  [[psysml:94368454-840d-4091-abdb-e19ae5322c54 ]] {\r\n",
       "}\r\n",
       "rec usage \"g\" as E10  [[psysml:8f8b3cba-ab00-4478-b69f-246a2e072be5 ]] {\r\n",
       "}\r\n",
       "def \"A\" as E11  <<(T,blue) attribute def>> [[psysml:2c45c451-c8b5-4e48-8592-55fa30d535c5 ]] \r\n",
       "}\r\n",
       "@enduml\r\n",
       "\n",
       "PlantUML version 1.2020.13(Sat Jun 13 12:26:38 UTC 2020)\n",
       "(EPL source distribution)\n",
       "Java Runtime: OpenJDK Runtime Environment\n",
       "JVM: OpenJDK 64-Bit Server VM\n",
       "Default Encoding: UTF-8\n",
       "Language: en\n",
       "Country: null\n",
       "--></g></svg>"
      ]
     },
     "execution_count": 47,
     "metadata": {},
     "output_type": "execute_result"
    }
   ],
   "source": [
    "%viz --style=\"TB\" --view=\"Interconnection\" \"MultiplicityTest\""
   ]
  },
  {
   "cell_type": "code",
   "execution_count": 48,
   "id": "9eb9198f",
   "metadata": {
    "execution": {
     "iopub.execute_input": "2021-06-30T09:24:33.900700Z",
     "iopub.status.busy": "2021-06-30T09:24:33.899861Z",
     "iopub.status.idle": "2021-06-30T09:24:33.905659Z",
     "shell.execute_reply": "2021-06-30T09:24:33.905138Z"
    }
   },
   "outputs": [
    {
     "data": {
      "image/svg+xml": [
       "<?xml version=\"1.0\" encoding=\"UTF-8\" standalone=\"no\"?><svg xmlns=\"http://www.w3.org/2000/svg\" xmlns:xlink=\"http://www.w3.org/1999/xlink\" contentScriptType=\"application/ecmascript\" contentStyleType=\"text/css\" height=\"12px\" preserveAspectRatio=\"none\" style=\"width:12px;height:12px;\" version=\"1.1\" viewBox=\"0 0 12 12\" width=\"12px\" zoomAndPan=\"magnify\"><defs/><g><!--MD5=[06afc254b03ac5e9d9fb7773b07d0800]\n",
       "@startuml\r\n",
       "skinparam ranksep 8\r\n",
       "top to bottom direction\r\n",
       "skinparam monochrome true\r\n",
       "skinparam classbackgroundcolor white\r\n",
       "skinparam shadowing false\r\n",
       "skinparam wrapWidth 300\r\n",
       "hide circle\r\n",
       "\r\n",
       "@enduml\r\n",
       "\n",
       "PlantUML version 1.2020.13(Sat Jun 13 12:26:38 UTC 2020)\n",
       "(EPL source distribution)\n",
       "Java Runtime: OpenJDK Runtime Environment\n",
       "JVM: OpenJDK 64-Bit Server VM\n",
       "Default Encoding: UTF-8\n",
       "Language: en\n",
       "Country: null\n",
       "--></g></svg>"
      ]
     },
     "execution_count": 48,
     "metadata": {},
     "output_type": "execute_result"
    }
   ],
   "source": [
    "%viz --style=\"TB\" --view=\"Action\" \"MultiplicityTest\""
   ]
  },
  {
   "cell_type": "code",
   "execution_count": 49,
   "id": "6c068093",
   "metadata": {
    "execution": {
     "iopub.execute_input": "2021-06-30T09:24:33.960024Z",
     "iopub.status.busy": "2021-06-30T09:24:33.958813Z",
     "iopub.status.idle": "2021-06-30T09:24:34.020075Z",
     "shell.execute_reply": "2021-06-30T09:24:34.018166Z"
    }
   },
   "outputs": [
    {
     "data": {
      "image/svg+xml": [
       "<?xml version=\"1.0\" encoding=\"UTF-8\" standalone=\"no\"?><svg xmlns=\"http://www.w3.org/2000/svg\" xmlns:xlink=\"http://www.w3.org/1999/xlink\" contentScriptType=\"application/ecmascript\" contentStyleType=\"text/css\" height=\"263px\" preserveAspectRatio=\"none\" style=\"width:812px;height:263px;\" version=\"1.1\" viewBox=\"0 0 812 263\" width=\"812px\" zoomAndPan=\"magnify\"><defs/><g><!--MD5=[fbc87193dbaf4d95561dea2c320d4a47]\n",
       "cluster E1--><a href=\"psysml:d21f1d33-c8d8-4d7e-915c-a1dc21839292\" target=\"_top\" title=\"psysml:d21f1d33-c8d8-4d7e-915c-a1dc21839292\" xlink:actuate=\"onRequest\" xlink:href=\"psysml:d21f1d33-c8d8-4d7e-915c-a1dc21839292\" xlink:show=\"new\" xlink:title=\"psysml:d21f1d33-c8d8-4d7e-915c-a1dc21839292\" xlink:type=\"simple\"><polygon fill=\"#FFFFFF\" points=\"16,6,140,6,147,28.2969,790,28.2969,790,251,16,251,16,6\" style=\"stroke: #000000; stroke-width: 1.5;\"/><line style=\"stroke: #000000; stroke-width: 1.5;\" x1=\"16\" x2=\"147\" y1=\"28.2969\" y2=\"28.2969\"/><text fill=\"#000000\" font-family=\"sans-serif\" font-size=\"14\" font-weight=\"bold\" lengthAdjust=\"spacingAndGlyphs\" textLength=\"118\" x=\"20\" y=\"20.9951\">MultiplicityTest</text></a><!--MD5=[b4997ac47864f28c2f74865a473b2911]\n",
       "class E2--><a href=\"psysml:cfcc0fdc-4985-4a7c-8ed0-df1ec6a07f40\" target=\"_top\" title=\"psysml:cfcc0fdc-4985-4a7c-8ed0-df1ec6a07f40\" xlink:actuate=\"onRequest\" xlink:href=\"psysml:cfcc0fdc-4985-4a7c-8ed0-df1ec6a07f40\" xlink:show=\"new\" xlink:title=\"psysml:cfcc0fdc-4985-4a7c-8ed0-df1ec6a07f40\" xlink:type=\"simple\"><rect fill=\"#FFFFFF\" height=\"45.9375\" id=\"E2\" style=\"stroke: #383838; stroke-width: 1.5;\" width=\"66\" x=\"497\" y=\"189\"/><text fill=\"#000000\" font-family=\"sans-serif\" font-size=\"12\" font-style=\"italic\" lengthAdjust=\"spacingAndGlyphs\" textLength=\"64\" x=\"498\" y=\"205.1387\">«part def»</text><text fill=\"#000000\" font-family=\"sans-serif\" font-size=\"12\" lengthAdjust=\"spacingAndGlyphs\" textLength=\"8\" x=\"526\" y=\"219.1074\">P</text><line style=\"stroke: #383838; stroke-width: 1.5;\" x1=\"498\" x2=\"562\" y1=\"226.9375\" y2=\"226.9375\"/></a><!--MD5=[09b614a08d8cba4a07c9adeb5e0fee81]\n",
       "class E3--><a href=\"psysml:6504cd03-3352-435e-8e5a-44d60f096993\" target=\"_top\" title=\"psysml:6504cd03-3352-435e-8e5a-44d60f096993\" xlink:actuate=\"onRequest\" xlink:href=\"psysml:6504cd03-3352-435e-8e5a-44d60f096993\" xlink:show=\"new\" xlink:title=\"psysml:6504cd03-3352-435e-8e5a-44d60f096993\" xlink:type=\"simple\"><rect fill=\"#FFFFFF\" height=\"45.9375\" id=\"E3\" rx=\"10\" ry=\"10\" style=\"stroke: #383838; stroke-width: 1.5;\" width=\"71\" x=\"702.5\" y=\"62\"/><text fill=\"#000000\" font-family=\"sans-serif\" font-size=\"12\" font-style=\"italic\" lengthAdjust=\"spacingAndGlyphs\" textLength=\"69\" x=\"703.5\" y=\"78.1387\">«attribute»</text><text fill=\"#000000\" font-family=\"sans-serif\" font-size=\"12\" lengthAdjust=\"spacingAndGlyphs\" textLength=\"61\" x=\"707.5\" y=\"92.1074\">n: Integer</text><line style=\"stroke: #383838; stroke-width: 1.5;\" x1=\"703.5\" x2=\"772.5\" y1=\"99.9375\" y2=\"99.9375\"/></a><!--MD5=[ebbe1d658d1005bcc118a6aa81145e00]\n",
       "class E4--><a href=\"psysml:69df1372-c4de-42e4-b97b-1df20a9e4637\" target=\"_top\" title=\"psysml:69df1372-c4de-42e4-b97b-1df20a9e4637\" xlink:actuate=\"onRequest\" xlink:href=\"psysml:69df1372-c4de-42e4-b97b-1df20a9e4637\" xlink:show=\"new\" xlink:title=\"psysml:69df1372-c4de-42e4-b97b-1df20a9e4637\" xlink:type=\"simple\"><rect fill=\"#FFFFFF\" height=\"45.9375\" id=\"E4\" rx=\"10\" ry=\"10\" style=\"stroke: #383838; stroke-width: 1.5;\" width=\"42\" x=\"625\" y=\"62\"/><text fill=\"#000000\" font-family=\"sans-serif\" font-size=\"12\" font-style=\"italic\" lengthAdjust=\"spacingAndGlyphs\" textLength=\"40\" x=\"626\" y=\"78.1387\">«part»</text><text fill=\"#000000\" font-family=\"sans-serif\" font-size=\"12\" lengthAdjust=\"spacingAndGlyphs\" textLength=\"8\" x=\"642\" y=\"92.1074\">a</text><line style=\"stroke: #383838; stroke-width: 1.5;\" x1=\"626\" x2=\"666\" y1=\"99.9375\" y2=\"99.9375\"/></a><!--MD5=[270fce915f116d4de14055a7c1d9a0f3]\n",
       "class E5--><a href=\"psysml:ce135ed3-5db8-4159-aade-37d21406abf2\" target=\"_top\" title=\"psysml:ce135ed3-5db8-4159-aade-37d21406abf2\" xlink:actuate=\"onRequest\" xlink:href=\"psysml:ce135ed3-5db8-4159-aade-37d21406abf2\" xlink:show=\"new\" xlink:title=\"psysml:ce135ed3-5db8-4159-aade-37d21406abf2\" xlink:type=\"simple\"><rect fill=\"#FFFFFF\" height=\"45.9375\" id=\"E5\" rx=\"10\" ry=\"10\" style=\"stroke: #383838; stroke-width: 1.5;\" width=\"42\" x=\"548\" y=\"62\"/><text fill=\"#000000\" font-family=\"sans-serif\" font-size=\"12\" font-style=\"italic\" lengthAdjust=\"spacingAndGlyphs\" textLength=\"40\" x=\"549\" y=\"78.1387\">«part»</text><text fill=\"#000000\" font-family=\"sans-serif\" font-size=\"12\" lengthAdjust=\"spacingAndGlyphs\" textLength=\"24\" x=\"557\" y=\"92.1074\">b: P</text><line style=\"stroke: #383838; stroke-width: 1.5;\" x1=\"549\" x2=\"589\" y1=\"99.9375\" y2=\"99.9375\"/></a><!--MD5=[60a26617385b1d2d0262a64233df1f8d]\n",
       "class E6--><a href=\"psysml:7c20260d-33cb-4904-8feb-6f2059c0b9de\" target=\"_top\" title=\"psysml:7c20260d-33cb-4904-8feb-6f2059c0b9de\" xlink:actuate=\"onRequest\" xlink:href=\"psysml:7c20260d-33cb-4904-8feb-6f2059c0b9de\" xlink:show=\"new\" xlink:title=\"psysml:7c20260d-33cb-4904-8feb-6f2059c0b9de\" xlink:type=\"simple\"><rect fill=\"#FFFFFF\" height=\"45.9375\" id=\"E6\" rx=\"10\" ry=\"10\" style=\"stroke: #383838; stroke-width: 1.5;\" width=\"42\" x=\"471\" y=\"62\"/><text fill=\"#000000\" font-family=\"sans-serif\" font-size=\"12\" font-style=\"italic\" lengthAdjust=\"spacingAndGlyphs\" textLength=\"40\" x=\"472\" y=\"78.1387\">«part»</text><text fill=\"#000000\" font-family=\"sans-serif\" font-size=\"12\" lengthAdjust=\"spacingAndGlyphs\" textLength=\"23\" x=\"480.5\" y=\"92.1074\">c: P</text><line style=\"stroke: #383838; stroke-width: 1.5;\" x1=\"472\" x2=\"512\" y1=\"99.9375\" y2=\"99.9375\"/></a><!--MD5=[2156ba9850f5573cc1fc38a6a4b2f02b]\n",
       "class E7--><a href=\"psysml:a788bf26-d852-4daf-8a66-fd926f14abf3\" target=\"_top\" title=\"psysml:a788bf26-d852-4daf-8a66-fd926f14abf3\" xlink:actuate=\"onRequest\" xlink:href=\"psysml:a788bf26-d852-4daf-8a66-fd926f14abf3\" xlink:show=\"new\" xlink:title=\"psysml:a788bf26-d852-4daf-8a66-fd926f14abf3\" xlink:type=\"simple\"><rect fill=\"#FFFFFF\" height=\"45.9375\" id=\"E7\" rx=\"10\" ry=\"10\" style=\"stroke: #383838; stroke-width: 1.5;\" width=\"42\" x=\"394\" y=\"62\"/><text fill=\"#000000\" font-family=\"sans-serif\" font-size=\"12\" font-style=\"italic\" lengthAdjust=\"spacingAndGlyphs\" textLength=\"40\" x=\"395\" y=\"78.1387\">«part»</text><text fill=\"#000000\" font-family=\"sans-serif\" font-size=\"12\" lengthAdjust=\"spacingAndGlyphs\" textLength=\"8\" x=\"411\" y=\"92.1074\">d</text><line style=\"stroke: #383838; stroke-width: 1.5;\" x1=\"395\" x2=\"435\" y1=\"99.9375\" y2=\"99.9375\"/></a><!--MD5=[b9389687b975829384b498ac4b7476b2]\n",
       "class E8--><a href=\"psysml:8ca44daa-798d-42ea-8082-fded64fdb257\" target=\"_top\" title=\"psysml:8ca44daa-798d-42ea-8082-fded64fdb257\" xlink:actuate=\"onRequest\" xlink:href=\"psysml:8ca44daa-798d-42ea-8082-fded64fdb257\" xlink:show=\"new\" xlink:title=\"psysml:8ca44daa-798d-42ea-8082-fded64fdb257\" xlink:type=\"simple\"><rect fill=\"#FFFFFF\" height=\"45.9375\" id=\"E8\" rx=\"10\" ry=\"10\" style=\"stroke: #383838; stroke-width: 1.5;\" width=\"42\" x=\"317\" y=\"62\"/><text fill=\"#000000\" font-family=\"sans-serif\" font-size=\"12\" font-style=\"italic\" lengthAdjust=\"spacingAndGlyphs\" textLength=\"40\" x=\"318\" y=\"78.1387\">«part»</text><text fill=\"#000000\" font-family=\"sans-serif\" font-size=\"12\" lengthAdjust=\"spacingAndGlyphs\" textLength=\"8\" x=\"334\" y=\"92.1074\">e</text><line style=\"stroke: #383838; stroke-width: 1.5;\" x1=\"318\" x2=\"358\" y1=\"99.9375\" y2=\"99.9375\"/></a><!--MD5=[fd4143e9d270a159db93a4ea2a975926]\n",
       "class E9--><a href=\"psysml:94368454-840d-4091-abdb-e19ae5322c54\" target=\"_top\" title=\"psysml:94368454-840d-4091-abdb-e19ae5322c54\" xlink:actuate=\"onRequest\" xlink:href=\"psysml:94368454-840d-4091-abdb-e19ae5322c54\" xlink:show=\"new\" xlink:title=\"psysml:94368454-840d-4091-abdb-e19ae5322c54\" xlink:type=\"simple\"><rect fill=\"#FFFFFF\" height=\"45.9375\" id=\"E9\" rx=\"10\" ry=\"10\" style=\"stroke: #383838; stroke-width: 1.5;\" width=\"42\" x=\"240\" y=\"62\"/><text fill=\"#000000\" font-family=\"sans-serif\" font-size=\"12\" font-style=\"italic\" lengthAdjust=\"spacingAndGlyphs\" textLength=\"40\" x=\"241\" y=\"78.1387\">«part»</text><text fill=\"#000000\" font-family=\"sans-serif\" font-size=\"12\" lengthAdjust=\"spacingAndGlyphs\" textLength=\"4\" x=\"259\" y=\"92.1074\">f</text><line style=\"stroke: #383838; stroke-width: 1.5;\" x1=\"241\" x2=\"281\" y1=\"99.9375\" y2=\"99.9375\"/></a><!--MD5=[96f4274e9e20536e775497830990834d]\n",
       "class E10--><a href=\"psysml:8f8b3cba-ab00-4478-b69f-246a2e072be5\" target=\"_top\" title=\"psysml:8f8b3cba-ab00-4478-b69f-246a2e072be5\" xlink:actuate=\"onRequest\" xlink:href=\"psysml:8f8b3cba-ab00-4478-b69f-246a2e072be5\" xlink:show=\"new\" xlink:title=\"psysml:8f8b3cba-ab00-4478-b69f-246a2e072be5\" xlink:type=\"simple\"><rect fill=\"#FFFFFF\" height=\"45.9375\" id=\"E10\" rx=\"10\" ry=\"10\" style=\"stroke: #383838; stroke-width: 1.5;\" width=\"42\" x=\"163\" y=\"62\"/><text fill=\"#000000\" font-family=\"sans-serif\" font-size=\"12\" font-style=\"italic\" lengthAdjust=\"spacingAndGlyphs\" textLength=\"40\" x=\"164\" y=\"78.1387\">«part»</text><text fill=\"#000000\" font-family=\"sans-serif\" font-size=\"12\" lengthAdjust=\"spacingAndGlyphs\" textLength=\"8\" x=\"180\" y=\"92.1074\">g</text><line style=\"stroke: #383838; stroke-width: 1.5;\" x1=\"164\" x2=\"204\" y1=\"99.9375\" y2=\"99.9375\"/></a><!--MD5=[1dd1bfd58a279cf63c5f349dbc8fc6a1]\n",
       "class E11--><a href=\"psysml:2c45c451-c8b5-4e48-8592-55fa30d535c5\" target=\"_top\" title=\"psysml:2c45c451-c8b5-4e48-8592-55fa30d535c5\" xlink:actuate=\"onRequest\" xlink:href=\"psysml:2c45c451-c8b5-4e48-8592-55fa30d535c5\" xlink:show=\"new\" xlink:title=\"psysml:2c45c451-c8b5-4e48-8592-55fa30d535c5\" xlink:type=\"simple\"><rect fill=\"#FFFFFF\" height=\"88.3516\" id=\"E11\" style=\"stroke: #383838; stroke-width: 1.5;\" width=\"95\" x=\"32.5\" y=\"41\"/><text fill=\"#000000\" font-family=\"sans-serif\" font-size=\"12\" font-style=\"italic\" lengthAdjust=\"spacingAndGlyphs\" textLength=\"93\" x=\"33.5\" y=\"57.1387\">«attribute def»</text><text fill=\"#000000\" font-family=\"sans-serif\" font-size=\"12\" lengthAdjust=\"spacingAndGlyphs\" textLength=\"8\" x=\"76\" y=\"71.1074\">A</text><line style=\"stroke: #383838; stroke-width: 1.5;\" x1=\"33.5\" x2=\"126.5\" y1=\"78.9375\" y2=\"78.9375\"/><text fill=\"#000000\" font-family=\"sans-serif\" font-size=\"11\" lengthAdjust=\"spacingAndGlyphs\" textLength=\"51\" x=\"38.5\" y=\"109.9526\">i: Integer</text><text fill=\"#000000\" font-family=\"sans-serif\" font-size=\"11\" lengthAdjust=\"spacingAndGlyphs\" textLength=\"21\" x=\"38.5\" y=\"122.7573\">x: A</text><line style=\"stroke: #383838; stroke-width: 1.0;\" x1=\"33.5\" x2=\"52.5\" y1=\"93.3398\" y2=\"93.3398\"/><text fill=\"#000000\" font-family=\"sans-serif\" font-size=\"11\" lengthAdjust=\"spacingAndGlyphs\" textLength=\"55\" x=\"52.5\" y=\"96.6479\">attributes</text><line style=\"stroke: #383838; stroke-width: 1.0;\" x1=\"107.5\" x2=\"126.5\" y1=\"93.3398\" y2=\"93.3398\"/></a><!--MD5=[15ebcb19ae302d9b601edb458606d402]\n",
       "link E5 to E2--><a href=\"psysml:99c2055f-0301-4891-b65d-9e517e6365b1\" target=\"_top\" title=\"psysml:99c2055f-0301-4891-b65d-9e517e6365b1\" xlink:actuate=\"onRequest\" xlink:href=\"psysml:99c2055f-0301-4891-b65d-9e517e6365b1\" xlink:show=\"new\" xlink:title=\"psysml:99c2055f-0301-4891-b65d-9e517e6365b1\" xlink:type=\"simple\"><path d=\"M562.12,108.06 C556.83,125 549.38,148.89 542.98,169.39 \" fill=\"none\" id=\"E5-&gt;E2\" style=\"stroke: #383838; stroke-width: 1.0;\"/><polygon fill=\"#FFFFFF\" points=\"536.95,188.74,535.929,168.5173,549.2931,172.6886,536.95,188.74\" style=\"stroke: #383838; stroke-width: 1.0;\"/><ellipse cx=\"539.5364\" cy=\"163.6721\" fill=\"#383838\" rx=\"2\" ry=\"2\" style=\"stroke: #383838; stroke-width: 1.0;\"/><ellipse cx=\"549.0823\" cy=\"166.6516\" fill=\"#383838\" rx=\"2\" ry=\"2\" style=\"stroke: #383838; stroke-width: 1.0;\"/></a><!--MD5=[2351f337d6de0f557b50152ba70847b5]\n",
       "link E6 to E2--><a href=\"psysml:035f6493-28ba-4968-b761-0ab46a395f55\" target=\"_top\" title=\"psysml:035f6493-28ba-4968-b761-0ab46a395f55\" xlink:actuate=\"onRequest\" xlink:href=\"psysml:035f6493-28ba-4968-b761-0ab46a395f55\" xlink:show=\"new\" xlink:title=\"psysml:035f6493-28ba-4968-b761-0ab46a395f55\" xlink:type=\"simple\"><path d=\"M498.71,108.06 C503.86,125 511.12,148.89 517.35,169.39 \" fill=\"none\" id=\"E6-&gt;E2\" style=\"stroke: #383838; stroke-width: 1.0;\"/><polygon fill=\"#FFFFFF\" points=\"523.23,188.74,511.007,172.597,524.4019,168.5255,523.23,188.74\" style=\"stroke: #383838; stroke-width: 1.0;\"/><ellipse cx=\"511.2628\" cy=\"166.5617\" fill=\"#383838\" rx=\"2\" ry=\"2\" style=\"stroke: #383838; stroke-width: 1.0;\"/><ellipse cx=\"520.8306\" cy=\"163.6535\" fill=\"#383838\" rx=\"2\" ry=\"2\" style=\"stroke: #383838; stroke-width: 1.0;\"/></a><!--MD5=[e81d728826aa635105d5a8aa2a7bfe41]\n",
       "@startuml\r\n",
       "top to bottom direction\r\n",
       "skinparam monochrome true\r\n",
       "skinparam classbackgroundcolor white\r\n",
       "skinparam shadowing false\r\n",
       "skinparam wrapWidth 300\r\n",
       "hide circle\r\n",
       "\r\n",
       "package \"MultiplicityTest\" as E1  [[psysml:d21f1d33-c8d8-4d7e-915c-a1dc21839292 ]]  {\r\n",
       "comp def \"P\" as E2  <<(T,blue) part def>> [[psysml:cfcc0fdc-4985-4a7c-8ed0-df1ec6a07f40 ]] {\r\n",
       "}\r\n",
       "comp usage \"n: Integer\" as E3  <<(T,blue) attribute>> [[psysml:6504cd03-3352-435e-8e5a-44d60f096993 ]] {\r\n",
       "}\r\n",
       "comp usage \"a\" as E4  <<(T,blue) part>> [[psysml:69df1372-c4de-42e4-b97b-1df20a9e4637 ]] {\r\n",
       "}\r\n",
       "comp usage \"b: P\" as E5  <<(T,blue) part>> [[psysml:ce135ed3-5db8-4159-aade-37d21406abf2 ]] {\r\n",
       "}\r\n",
       "comp usage \"c: P\" as E6  <<(T,blue) part>> [[psysml:7c20260d-33cb-4904-8feb-6f2059c0b9de ]] {\r\n",
       "}\r\n",
       "comp usage \"d\" as E7  <<(T,blue) part>> [[psysml:a788bf26-d852-4daf-8a66-fd926f14abf3 ]] {\r\n",
       "}\r\n",
       "comp usage \"e\" as E8  <<(T,blue) part>> [[psysml:8ca44daa-798d-42ea-8082-fded64fdb257 ]] {\r\n",
       "}\r\n",
       "comp usage \"f\" as E9  <<(T,blue) part>> [[psysml:94368454-840d-4091-abdb-e19ae5322c54 ]] {\r\n",
       "}\r\n",
       "comp usage \"g\" as E10  <<(T,blue) part>> [[psysml:8f8b3cba-ab00-4478-b69f-246a2e072be5 ]] {\r\n",
       "}\r\n",
       "comp def \"A\" as E11  <<(T,blue) attribute def>> [[psysml:2c45c451-c8b5-4e48-8592-55fa30d535c5 ]] {\r\n",
       "- - attributes - -\r\n",
       "i: Integer\r\n",
       "x: A\r\n",
       "}\r\n",
       "E5 - -:|> E2 [[psysml:99c2055f-0301-4891-b65d-9e517e6365b1 ]] \r\n",
       "E6 - -:|> E2 [[psysml:035f6493-28ba-4968-b761-0ab46a395f55 ]] \r\n",
       "}\r\n",
       "@enduml\r\n",
       "\n",
       "PlantUML version 1.2020.13(Sat Jun 13 12:26:38 UTC 2020)\n",
       "(EPL source distribution)\n",
       "Java Runtime: OpenJDK Runtime Environment\n",
       "JVM: OpenJDK 64-Bit Server VM\n",
       "Default Encoding: UTF-8\n",
       "Language: en\n",
       "Country: null\n",
       "--></g></svg>"
      ]
     },
     "execution_count": 49,
     "metadata": {},
     "output_type": "execute_result"
    }
   ],
   "source": [
    "%viz --style=\"TB\" --view=\"Sequence\" \"MultiplicityTest\""
   ]
  },
  {
   "cell_type": "code",
   "execution_count": 50,
   "id": "b81bb568",
   "metadata": {
    "execution": {
     "iopub.execute_input": "2021-06-30T09:24:34.068600Z",
     "iopub.status.busy": "2021-06-30T09:24:34.068249Z",
     "iopub.status.idle": "2021-06-30T09:24:34.122362Z",
     "shell.execute_reply": "2021-06-30T09:24:34.120598Z"
    }
   },
   "outputs": [
    {
     "data": {
      "image/svg+xml": [
       "<?xml version=\"1.0\" encoding=\"UTF-8\" standalone=\"no\"?><svg xmlns=\"http://www.w3.org/2000/svg\" xmlns:xlink=\"http://www.w3.org/1999/xlink\" contentScriptType=\"application/ecmascript\" contentStyleType=\"text/css\" height=\"263px\" preserveAspectRatio=\"none\" style=\"width:812px;height:263px;\" version=\"1.1\" viewBox=\"0 0 812 263\" width=\"812px\" zoomAndPan=\"magnify\"><defs/><g><!--MD5=[fbc87193dbaf4d95561dea2c320d4a47]\n",
       "cluster E1--><a href=\"psysml:d21f1d33-c8d8-4d7e-915c-a1dc21839292\" target=\"_top\" title=\"psysml:d21f1d33-c8d8-4d7e-915c-a1dc21839292\" xlink:actuate=\"onRequest\" xlink:href=\"psysml:d21f1d33-c8d8-4d7e-915c-a1dc21839292\" xlink:show=\"new\" xlink:title=\"psysml:d21f1d33-c8d8-4d7e-915c-a1dc21839292\" xlink:type=\"simple\"><polygon fill=\"#FFFFFF\" points=\"16,6,140,6,147,28.2969,790,28.2969,790,251,16,251,16,6\" style=\"stroke: #000000; stroke-width: 1.5;\"/><line style=\"stroke: #000000; stroke-width: 1.5;\" x1=\"16\" x2=\"147\" y1=\"28.2969\" y2=\"28.2969\"/><text fill=\"#000000\" font-family=\"sans-serif\" font-size=\"14\" font-weight=\"bold\" lengthAdjust=\"spacingAndGlyphs\" textLength=\"118\" x=\"20\" y=\"20.9951\">MultiplicityTest</text></a><!--MD5=[b4997ac47864f28c2f74865a473b2911]\n",
       "class E2--><a href=\"psysml:cfcc0fdc-4985-4a7c-8ed0-df1ec6a07f40\" target=\"_top\" title=\"psysml:cfcc0fdc-4985-4a7c-8ed0-df1ec6a07f40\" xlink:actuate=\"onRequest\" xlink:href=\"psysml:cfcc0fdc-4985-4a7c-8ed0-df1ec6a07f40\" xlink:show=\"new\" xlink:title=\"psysml:cfcc0fdc-4985-4a7c-8ed0-df1ec6a07f40\" xlink:type=\"simple\"><rect fill=\"#FFFFFF\" height=\"45.9375\" id=\"E2\" style=\"stroke: #383838; stroke-width: 1.5;\" width=\"66\" x=\"497\" y=\"189\"/><text fill=\"#000000\" font-family=\"sans-serif\" font-size=\"12\" font-style=\"italic\" lengthAdjust=\"spacingAndGlyphs\" textLength=\"64\" x=\"498\" y=\"205.1387\">«part def»</text><text fill=\"#000000\" font-family=\"sans-serif\" font-size=\"12\" lengthAdjust=\"spacingAndGlyphs\" textLength=\"8\" x=\"526\" y=\"219.1074\">P</text><line style=\"stroke: #383838; stroke-width: 1.5;\" x1=\"498\" x2=\"562\" y1=\"226.9375\" y2=\"226.9375\"/></a><!--MD5=[09b614a08d8cba4a07c9adeb5e0fee81]\n",
       "class E3--><a href=\"psysml:6504cd03-3352-435e-8e5a-44d60f096993\" target=\"_top\" title=\"psysml:6504cd03-3352-435e-8e5a-44d60f096993\" xlink:actuate=\"onRequest\" xlink:href=\"psysml:6504cd03-3352-435e-8e5a-44d60f096993\" xlink:show=\"new\" xlink:title=\"psysml:6504cd03-3352-435e-8e5a-44d60f096993\" xlink:type=\"simple\"><rect fill=\"#FFFFFF\" height=\"45.9375\" id=\"E3\" rx=\"10\" ry=\"10\" style=\"stroke: #383838; stroke-width: 1.5;\" width=\"71\" x=\"702.5\" y=\"62\"/><text fill=\"#000000\" font-family=\"sans-serif\" font-size=\"12\" font-style=\"italic\" lengthAdjust=\"spacingAndGlyphs\" textLength=\"69\" x=\"703.5\" y=\"78.1387\">«attribute»</text><text fill=\"#000000\" font-family=\"sans-serif\" font-size=\"12\" lengthAdjust=\"spacingAndGlyphs\" textLength=\"61\" x=\"707.5\" y=\"92.1074\">n: Integer</text><line style=\"stroke: #383838; stroke-width: 1.5;\" x1=\"703.5\" x2=\"772.5\" y1=\"99.9375\" y2=\"99.9375\"/></a><!--MD5=[ebbe1d658d1005bcc118a6aa81145e00]\n",
       "class E4--><a href=\"psysml:69df1372-c4de-42e4-b97b-1df20a9e4637\" target=\"_top\" title=\"psysml:69df1372-c4de-42e4-b97b-1df20a9e4637\" xlink:actuate=\"onRequest\" xlink:href=\"psysml:69df1372-c4de-42e4-b97b-1df20a9e4637\" xlink:show=\"new\" xlink:title=\"psysml:69df1372-c4de-42e4-b97b-1df20a9e4637\" xlink:type=\"simple\"><rect fill=\"#FFFFFF\" height=\"45.9375\" id=\"E4\" rx=\"10\" ry=\"10\" style=\"stroke: #383838; stroke-width: 1.5;\" width=\"42\" x=\"625\" y=\"62\"/><text fill=\"#000000\" font-family=\"sans-serif\" font-size=\"12\" font-style=\"italic\" lengthAdjust=\"spacingAndGlyphs\" textLength=\"40\" x=\"626\" y=\"78.1387\">«part»</text><text fill=\"#000000\" font-family=\"sans-serif\" font-size=\"12\" lengthAdjust=\"spacingAndGlyphs\" textLength=\"8\" x=\"642\" y=\"92.1074\">a</text><line style=\"stroke: #383838; stroke-width: 1.5;\" x1=\"626\" x2=\"666\" y1=\"99.9375\" y2=\"99.9375\"/></a><!--MD5=[270fce915f116d4de14055a7c1d9a0f3]\n",
       "class E5--><a href=\"psysml:ce135ed3-5db8-4159-aade-37d21406abf2\" target=\"_top\" title=\"psysml:ce135ed3-5db8-4159-aade-37d21406abf2\" xlink:actuate=\"onRequest\" xlink:href=\"psysml:ce135ed3-5db8-4159-aade-37d21406abf2\" xlink:show=\"new\" xlink:title=\"psysml:ce135ed3-5db8-4159-aade-37d21406abf2\" xlink:type=\"simple\"><rect fill=\"#FFFFFF\" height=\"45.9375\" id=\"E5\" rx=\"10\" ry=\"10\" style=\"stroke: #383838; stroke-width: 1.5;\" width=\"42\" x=\"548\" y=\"62\"/><text fill=\"#000000\" font-family=\"sans-serif\" font-size=\"12\" font-style=\"italic\" lengthAdjust=\"spacingAndGlyphs\" textLength=\"40\" x=\"549\" y=\"78.1387\">«part»</text><text fill=\"#000000\" font-family=\"sans-serif\" font-size=\"12\" lengthAdjust=\"spacingAndGlyphs\" textLength=\"24\" x=\"557\" y=\"92.1074\">b: P</text><line style=\"stroke: #383838; stroke-width: 1.5;\" x1=\"549\" x2=\"589\" y1=\"99.9375\" y2=\"99.9375\"/></a><!--MD5=[60a26617385b1d2d0262a64233df1f8d]\n",
       "class E6--><a href=\"psysml:7c20260d-33cb-4904-8feb-6f2059c0b9de\" target=\"_top\" title=\"psysml:7c20260d-33cb-4904-8feb-6f2059c0b9de\" xlink:actuate=\"onRequest\" xlink:href=\"psysml:7c20260d-33cb-4904-8feb-6f2059c0b9de\" xlink:show=\"new\" xlink:title=\"psysml:7c20260d-33cb-4904-8feb-6f2059c0b9de\" xlink:type=\"simple\"><rect fill=\"#FFFFFF\" height=\"45.9375\" id=\"E6\" rx=\"10\" ry=\"10\" style=\"stroke: #383838; stroke-width: 1.5;\" width=\"42\" x=\"471\" y=\"62\"/><text fill=\"#000000\" font-family=\"sans-serif\" font-size=\"12\" font-style=\"italic\" lengthAdjust=\"spacingAndGlyphs\" textLength=\"40\" x=\"472\" y=\"78.1387\">«part»</text><text fill=\"#000000\" font-family=\"sans-serif\" font-size=\"12\" lengthAdjust=\"spacingAndGlyphs\" textLength=\"23\" x=\"480.5\" y=\"92.1074\">c: P</text><line style=\"stroke: #383838; stroke-width: 1.5;\" x1=\"472\" x2=\"512\" y1=\"99.9375\" y2=\"99.9375\"/></a><!--MD5=[2156ba9850f5573cc1fc38a6a4b2f02b]\n",
       "class E7--><a href=\"psysml:a788bf26-d852-4daf-8a66-fd926f14abf3\" target=\"_top\" title=\"psysml:a788bf26-d852-4daf-8a66-fd926f14abf3\" xlink:actuate=\"onRequest\" xlink:href=\"psysml:a788bf26-d852-4daf-8a66-fd926f14abf3\" xlink:show=\"new\" xlink:title=\"psysml:a788bf26-d852-4daf-8a66-fd926f14abf3\" xlink:type=\"simple\"><rect fill=\"#FFFFFF\" height=\"45.9375\" id=\"E7\" rx=\"10\" ry=\"10\" style=\"stroke: #383838; stroke-width: 1.5;\" width=\"42\" x=\"394\" y=\"62\"/><text fill=\"#000000\" font-family=\"sans-serif\" font-size=\"12\" font-style=\"italic\" lengthAdjust=\"spacingAndGlyphs\" textLength=\"40\" x=\"395\" y=\"78.1387\">«part»</text><text fill=\"#000000\" font-family=\"sans-serif\" font-size=\"12\" lengthAdjust=\"spacingAndGlyphs\" textLength=\"8\" x=\"411\" y=\"92.1074\">d</text><line style=\"stroke: #383838; stroke-width: 1.5;\" x1=\"395\" x2=\"435\" y1=\"99.9375\" y2=\"99.9375\"/></a><!--MD5=[b9389687b975829384b498ac4b7476b2]\n",
       "class E8--><a href=\"psysml:8ca44daa-798d-42ea-8082-fded64fdb257\" target=\"_top\" title=\"psysml:8ca44daa-798d-42ea-8082-fded64fdb257\" xlink:actuate=\"onRequest\" xlink:href=\"psysml:8ca44daa-798d-42ea-8082-fded64fdb257\" xlink:show=\"new\" xlink:title=\"psysml:8ca44daa-798d-42ea-8082-fded64fdb257\" xlink:type=\"simple\"><rect fill=\"#FFFFFF\" height=\"45.9375\" id=\"E8\" rx=\"10\" ry=\"10\" style=\"stroke: #383838; stroke-width: 1.5;\" width=\"42\" x=\"317\" y=\"62\"/><text fill=\"#000000\" font-family=\"sans-serif\" font-size=\"12\" font-style=\"italic\" lengthAdjust=\"spacingAndGlyphs\" textLength=\"40\" x=\"318\" y=\"78.1387\">«part»</text><text fill=\"#000000\" font-family=\"sans-serif\" font-size=\"12\" lengthAdjust=\"spacingAndGlyphs\" textLength=\"8\" x=\"334\" y=\"92.1074\">e</text><line style=\"stroke: #383838; stroke-width: 1.5;\" x1=\"318\" x2=\"358\" y1=\"99.9375\" y2=\"99.9375\"/></a><!--MD5=[fd4143e9d270a159db93a4ea2a975926]\n",
       "class E9--><a href=\"psysml:94368454-840d-4091-abdb-e19ae5322c54\" target=\"_top\" title=\"psysml:94368454-840d-4091-abdb-e19ae5322c54\" xlink:actuate=\"onRequest\" xlink:href=\"psysml:94368454-840d-4091-abdb-e19ae5322c54\" xlink:show=\"new\" xlink:title=\"psysml:94368454-840d-4091-abdb-e19ae5322c54\" xlink:type=\"simple\"><rect fill=\"#FFFFFF\" height=\"45.9375\" id=\"E9\" rx=\"10\" ry=\"10\" style=\"stroke: #383838; stroke-width: 1.5;\" width=\"42\" x=\"240\" y=\"62\"/><text fill=\"#000000\" font-family=\"sans-serif\" font-size=\"12\" font-style=\"italic\" lengthAdjust=\"spacingAndGlyphs\" textLength=\"40\" x=\"241\" y=\"78.1387\">«part»</text><text fill=\"#000000\" font-family=\"sans-serif\" font-size=\"12\" lengthAdjust=\"spacingAndGlyphs\" textLength=\"4\" x=\"259\" y=\"92.1074\">f</text><line style=\"stroke: #383838; stroke-width: 1.5;\" x1=\"241\" x2=\"281\" y1=\"99.9375\" y2=\"99.9375\"/></a><!--MD5=[96f4274e9e20536e775497830990834d]\n",
       "class E10--><a href=\"psysml:8f8b3cba-ab00-4478-b69f-246a2e072be5\" target=\"_top\" title=\"psysml:8f8b3cba-ab00-4478-b69f-246a2e072be5\" xlink:actuate=\"onRequest\" xlink:href=\"psysml:8f8b3cba-ab00-4478-b69f-246a2e072be5\" xlink:show=\"new\" xlink:title=\"psysml:8f8b3cba-ab00-4478-b69f-246a2e072be5\" xlink:type=\"simple\"><rect fill=\"#FFFFFF\" height=\"45.9375\" id=\"E10\" rx=\"10\" ry=\"10\" style=\"stroke: #383838; stroke-width: 1.5;\" width=\"42\" x=\"163\" y=\"62\"/><text fill=\"#000000\" font-family=\"sans-serif\" font-size=\"12\" font-style=\"italic\" lengthAdjust=\"spacingAndGlyphs\" textLength=\"40\" x=\"164\" y=\"78.1387\">«part»</text><text fill=\"#000000\" font-family=\"sans-serif\" font-size=\"12\" lengthAdjust=\"spacingAndGlyphs\" textLength=\"8\" x=\"180\" y=\"92.1074\">g</text><line style=\"stroke: #383838; stroke-width: 1.5;\" x1=\"164\" x2=\"204\" y1=\"99.9375\" y2=\"99.9375\"/></a><!--MD5=[1dd1bfd58a279cf63c5f349dbc8fc6a1]\n",
       "class E11--><a href=\"psysml:2c45c451-c8b5-4e48-8592-55fa30d535c5\" target=\"_top\" title=\"psysml:2c45c451-c8b5-4e48-8592-55fa30d535c5\" xlink:actuate=\"onRequest\" xlink:href=\"psysml:2c45c451-c8b5-4e48-8592-55fa30d535c5\" xlink:show=\"new\" xlink:title=\"psysml:2c45c451-c8b5-4e48-8592-55fa30d535c5\" xlink:type=\"simple\"><rect fill=\"#FFFFFF\" height=\"88.3516\" id=\"E11\" style=\"stroke: #383838; stroke-width: 1.5;\" width=\"95\" x=\"32.5\" y=\"41\"/><text fill=\"#000000\" font-family=\"sans-serif\" font-size=\"12\" font-style=\"italic\" lengthAdjust=\"spacingAndGlyphs\" textLength=\"93\" x=\"33.5\" y=\"57.1387\">«attribute def»</text><text fill=\"#000000\" font-family=\"sans-serif\" font-size=\"12\" lengthAdjust=\"spacingAndGlyphs\" textLength=\"8\" x=\"76\" y=\"71.1074\">A</text><line style=\"stroke: #383838; stroke-width: 1.5;\" x1=\"33.5\" x2=\"126.5\" y1=\"78.9375\" y2=\"78.9375\"/><text fill=\"#000000\" font-family=\"sans-serif\" font-size=\"11\" lengthAdjust=\"spacingAndGlyphs\" textLength=\"51\" x=\"38.5\" y=\"109.9526\">i: Integer</text><text fill=\"#000000\" font-family=\"sans-serif\" font-size=\"11\" lengthAdjust=\"spacingAndGlyphs\" textLength=\"21\" x=\"38.5\" y=\"122.7573\">x: A</text><line style=\"stroke: #383838; stroke-width: 1.0;\" x1=\"33.5\" x2=\"52.5\" y1=\"93.3398\" y2=\"93.3398\"/><text fill=\"#000000\" font-family=\"sans-serif\" font-size=\"11\" lengthAdjust=\"spacingAndGlyphs\" textLength=\"55\" x=\"52.5\" y=\"96.6479\">attributes</text><line style=\"stroke: #383838; stroke-width: 1.0;\" x1=\"107.5\" x2=\"126.5\" y1=\"93.3398\" y2=\"93.3398\"/></a><!--MD5=[15ebcb19ae302d9b601edb458606d402]\n",
       "link E5 to E2--><a href=\"psysml:99c2055f-0301-4891-b65d-9e517e6365b1\" target=\"_top\" title=\"psysml:99c2055f-0301-4891-b65d-9e517e6365b1\" xlink:actuate=\"onRequest\" xlink:href=\"psysml:99c2055f-0301-4891-b65d-9e517e6365b1\" xlink:show=\"new\" xlink:title=\"psysml:99c2055f-0301-4891-b65d-9e517e6365b1\" xlink:type=\"simple\"><path d=\"M562.12,108.06 C556.83,125 549.38,148.89 542.98,169.39 \" fill=\"none\" id=\"E5-&gt;E2\" style=\"stroke: #383838; stroke-width: 1.0;\"/><polygon fill=\"#FFFFFF\" points=\"536.95,188.74,535.929,168.5173,549.2931,172.6886,536.95,188.74\" style=\"stroke: #383838; stroke-width: 1.0;\"/><ellipse cx=\"539.5364\" cy=\"163.6721\" fill=\"#383838\" rx=\"2\" ry=\"2\" style=\"stroke: #383838; stroke-width: 1.0;\"/><ellipse cx=\"549.0823\" cy=\"166.6516\" fill=\"#383838\" rx=\"2\" ry=\"2\" style=\"stroke: #383838; stroke-width: 1.0;\"/></a><!--MD5=[2351f337d6de0f557b50152ba70847b5]\n",
       "link E6 to E2--><a href=\"psysml:035f6493-28ba-4968-b761-0ab46a395f55\" target=\"_top\" title=\"psysml:035f6493-28ba-4968-b761-0ab46a395f55\" xlink:actuate=\"onRequest\" xlink:href=\"psysml:035f6493-28ba-4968-b761-0ab46a395f55\" xlink:show=\"new\" xlink:title=\"psysml:035f6493-28ba-4968-b761-0ab46a395f55\" xlink:type=\"simple\"><path d=\"M498.71,108.06 C503.86,125 511.12,148.89 517.35,169.39 \" fill=\"none\" id=\"E6-&gt;E2\" style=\"stroke: #383838; stroke-width: 1.0;\"/><polygon fill=\"#FFFFFF\" points=\"523.23,188.74,511.007,172.597,524.4019,168.5255,523.23,188.74\" style=\"stroke: #383838; stroke-width: 1.0;\"/><ellipse cx=\"511.2628\" cy=\"166.5617\" fill=\"#383838\" rx=\"2\" ry=\"2\" style=\"stroke: #383838; stroke-width: 1.0;\"/><ellipse cx=\"520.8306\" cy=\"163.6535\" fill=\"#383838\" rx=\"2\" ry=\"2\" style=\"stroke: #383838; stroke-width: 1.0;\"/></a><!--MD5=[e81d728826aa635105d5a8aa2a7bfe41]\n",
       "@startuml\r\n",
       "top to bottom direction\r\n",
       "skinparam monochrome true\r\n",
       "skinparam classbackgroundcolor white\r\n",
       "skinparam shadowing false\r\n",
       "skinparam wrapWidth 300\r\n",
       "hide circle\r\n",
       "\r\n",
       "package \"MultiplicityTest\" as E1  [[psysml:d21f1d33-c8d8-4d7e-915c-a1dc21839292 ]]  {\r\n",
       "comp def \"P\" as E2  <<(T,blue) part def>> [[psysml:cfcc0fdc-4985-4a7c-8ed0-df1ec6a07f40 ]] {\r\n",
       "}\r\n",
       "comp usage \"n: Integer\" as E3  <<(T,blue) attribute>> [[psysml:6504cd03-3352-435e-8e5a-44d60f096993 ]] {\r\n",
       "}\r\n",
       "comp usage \"a\" as E4  <<(T,blue) part>> [[psysml:69df1372-c4de-42e4-b97b-1df20a9e4637 ]] {\r\n",
       "}\r\n",
       "comp usage \"b: P\" as E5  <<(T,blue) part>> [[psysml:ce135ed3-5db8-4159-aade-37d21406abf2 ]] {\r\n",
       "}\r\n",
       "comp usage \"c: P\" as E6  <<(T,blue) part>> [[psysml:7c20260d-33cb-4904-8feb-6f2059c0b9de ]] {\r\n",
       "}\r\n",
       "comp usage \"d\" as E7  <<(T,blue) part>> [[psysml:a788bf26-d852-4daf-8a66-fd926f14abf3 ]] {\r\n",
       "}\r\n",
       "comp usage \"e\" as E8  <<(T,blue) part>> [[psysml:8ca44daa-798d-42ea-8082-fded64fdb257 ]] {\r\n",
       "}\r\n",
       "comp usage \"f\" as E9  <<(T,blue) part>> [[psysml:94368454-840d-4091-abdb-e19ae5322c54 ]] {\r\n",
       "}\r\n",
       "comp usage \"g\" as E10  <<(T,blue) part>> [[psysml:8f8b3cba-ab00-4478-b69f-246a2e072be5 ]] {\r\n",
       "}\r\n",
       "comp def \"A\" as E11  <<(T,blue) attribute def>> [[psysml:2c45c451-c8b5-4e48-8592-55fa30d535c5 ]] {\r\n",
       "- - attributes - -\r\n",
       "i: Integer\r\n",
       "x: A\r\n",
       "}\r\n",
       "E5 - -:|> E2 [[psysml:99c2055f-0301-4891-b65d-9e517e6365b1 ]] \r\n",
       "E6 - -:|> E2 [[psysml:035f6493-28ba-4968-b761-0ab46a395f55 ]] \r\n",
       "}\r\n",
       "@enduml\r\n",
       "\n",
       "PlantUML version 1.2020.13(Sat Jun 13 12:26:38 UTC 2020)\n",
       "(EPL source distribution)\n",
       "Java Runtime: OpenJDK Runtime Environment\n",
       "JVM: OpenJDK 64-Bit Server VM\n",
       "Default Encoding: UTF-8\n",
       "Language: en\n",
       "Country: null\n",
       "--></g></svg>"
      ]
     },
     "execution_count": 50,
     "metadata": {},
     "output_type": "execute_result"
    }
   ],
   "source": [
    "%viz --style=\"TB\" --view=\"MIXED\" \"MultiplicityTest\""
   ]
  },
  {
   "cell_type": "code",
   "execution_count": 51,
   "id": "c3913f87",
   "metadata": {
    "execution": {
     "iopub.execute_input": "2021-06-30T09:24:34.173125Z",
     "iopub.status.busy": "2021-06-30T09:24:34.172247Z",
     "iopub.status.idle": "2021-06-30T09:24:34.242050Z",
     "shell.execute_reply": "2021-06-30T09:24:34.241660Z"
    }
   },
   "outputs": [
    {
     "data": {
      "image/svg+xml": [
       "<?xml version=\"1.0\" encoding=\"UTF-8\" standalone=\"no\"?><svg xmlns=\"http://www.w3.org/2000/svg\" xmlns:xlink=\"http://www.w3.org/1999/xlink\" contentScriptType=\"application/ecmascript\" contentStyleType=\"text/css\" height=\"263px\" preserveAspectRatio=\"none\" style=\"width:812px;height:263px;\" version=\"1.1\" viewBox=\"0 0 812 263\" width=\"812px\" zoomAndPan=\"magnify\"><defs/><g><!--MD5=[fbc87193dbaf4d95561dea2c320d4a47]\n",
       "cluster E1--><a href=\"psysml:d21f1d33-c8d8-4d7e-915c-a1dc21839292\" target=\"_top\" title=\"psysml:d21f1d33-c8d8-4d7e-915c-a1dc21839292\" xlink:actuate=\"onRequest\" xlink:href=\"psysml:d21f1d33-c8d8-4d7e-915c-a1dc21839292\" xlink:show=\"new\" xlink:title=\"psysml:d21f1d33-c8d8-4d7e-915c-a1dc21839292\" xlink:type=\"simple\"><polygon fill=\"#FFFFFF\" points=\"16,6,140,6,147,28.2969,790,28.2969,790,251,16,251,16,6\" style=\"stroke: #000000; stroke-width: 1.5;\"/><line style=\"stroke: #000000; stroke-width: 1.5;\" x1=\"16\" x2=\"147\" y1=\"28.2969\" y2=\"28.2969\"/><text fill=\"#000000\" font-family=\"sans-serif\" font-size=\"14\" font-weight=\"bold\" lengthAdjust=\"spacingAndGlyphs\" textLength=\"118\" x=\"20\" y=\"20.9951\">MultiplicityTest</text></a><!--MD5=[b4997ac47864f28c2f74865a473b2911]\n",
       "class E2--><a href=\"psysml:cfcc0fdc-4985-4a7c-8ed0-df1ec6a07f40\" target=\"_top\" title=\"psysml:cfcc0fdc-4985-4a7c-8ed0-df1ec6a07f40\" xlink:actuate=\"onRequest\" xlink:href=\"psysml:cfcc0fdc-4985-4a7c-8ed0-df1ec6a07f40\" xlink:show=\"new\" xlink:title=\"psysml:cfcc0fdc-4985-4a7c-8ed0-df1ec6a07f40\" xlink:type=\"simple\"><rect fill=\"#FFFFFF\" height=\"45.9375\" id=\"E2\" style=\"stroke: #383838; stroke-width: 1.5;\" width=\"66\" x=\"497\" y=\"189\"/><text fill=\"#000000\" font-family=\"sans-serif\" font-size=\"12\" font-style=\"italic\" lengthAdjust=\"spacingAndGlyphs\" textLength=\"64\" x=\"498\" y=\"205.1387\">«part def»</text><text fill=\"#000000\" font-family=\"sans-serif\" font-size=\"12\" lengthAdjust=\"spacingAndGlyphs\" textLength=\"8\" x=\"526\" y=\"219.1074\">P</text><line style=\"stroke: #383838; stroke-width: 1.5;\" x1=\"498\" x2=\"562\" y1=\"226.9375\" y2=\"226.9375\"/></a><!--MD5=[09b614a08d8cba4a07c9adeb5e0fee81]\n",
       "class E3--><a href=\"psysml:6504cd03-3352-435e-8e5a-44d60f096993\" target=\"_top\" title=\"psysml:6504cd03-3352-435e-8e5a-44d60f096993\" xlink:actuate=\"onRequest\" xlink:href=\"psysml:6504cd03-3352-435e-8e5a-44d60f096993\" xlink:show=\"new\" xlink:title=\"psysml:6504cd03-3352-435e-8e5a-44d60f096993\" xlink:type=\"simple\"><rect fill=\"#FFFFFF\" height=\"45.9375\" id=\"E3\" rx=\"10\" ry=\"10\" style=\"stroke: #383838; stroke-width: 1.5;\" width=\"71\" x=\"702.5\" y=\"62\"/><text fill=\"#000000\" font-family=\"sans-serif\" font-size=\"12\" font-style=\"italic\" lengthAdjust=\"spacingAndGlyphs\" textLength=\"69\" x=\"703.5\" y=\"78.1387\">«attribute»</text><text fill=\"#000000\" font-family=\"sans-serif\" font-size=\"12\" lengthAdjust=\"spacingAndGlyphs\" textLength=\"61\" x=\"707.5\" y=\"92.1074\">n: Integer</text><line style=\"stroke: #383838; stroke-width: 1.5;\" x1=\"703.5\" x2=\"772.5\" y1=\"99.9375\" y2=\"99.9375\"/></a><!--MD5=[ebbe1d658d1005bcc118a6aa81145e00]\n",
       "class E4--><a href=\"psysml:69df1372-c4de-42e4-b97b-1df20a9e4637\" target=\"_top\" title=\"psysml:69df1372-c4de-42e4-b97b-1df20a9e4637\" xlink:actuate=\"onRequest\" xlink:href=\"psysml:69df1372-c4de-42e4-b97b-1df20a9e4637\" xlink:show=\"new\" xlink:title=\"psysml:69df1372-c4de-42e4-b97b-1df20a9e4637\" xlink:type=\"simple\"><rect fill=\"#FFFFFF\" height=\"45.9375\" id=\"E4\" rx=\"10\" ry=\"10\" style=\"stroke: #383838; stroke-width: 1.5;\" width=\"42\" x=\"625\" y=\"62\"/><text fill=\"#000000\" font-family=\"sans-serif\" font-size=\"12\" font-style=\"italic\" lengthAdjust=\"spacingAndGlyphs\" textLength=\"40\" x=\"626\" y=\"78.1387\">«part»</text><text fill=\"#000000\" font-family=\"sans-serif\" font-size=\"12\" lengthAdjust=\"spacingAndGlyphs\" textLength=\"8\" x=\"642\" y=\"92.1074\">a</text><line style=\"stroke: #383838; stroke-width: 1.5;\" x1=\"626\" x2=\"666\" y1=\"99.9375\" y2=\"99.9375\"/></a><!--MD5=[270fce915f116d4de14055a7c1d9a0f3]\n",
       "class E5--><a href=\"psysml:ce135ed3-5db8-4159-aade-37d21406abf2\" target=\"_top\" title=\"psysml:ce135ed3-5db8-4159-aade-37d21406abf2\" xlink:actuate=\"onRequest\" xlink:href=\"psysml:ce135ed3-5db8-4159-aade-37d21406abf2\" xlink:show=\"new\" xlink:title=\"psysml:ce135ed3-5db8-4159-aade-37d21406abf2\" xlink:type=\"simple\"><rect fill=\"#FFFFFF\" height=\"45.9375\" id=\"E5\" rx=\"10\" ry=\"10\" style=\"stroke: #383838; stroke-width: 1.5;\" width=\"42\" x=\"548\" y=\"62\"/><text fill=\"#000000\" font-family=\"sans-serif\" font-size=\"12\" font-style=\"italic\" lengthAdjust=\"spacingAndGlyphs\" textLength=\"40\" x=\"549\" y=\"78.1387\">«part»</text><text fill=\"#000000\" font-family=\"sans-serif\" font-size=\"12\" lengthAdjust=\"spacingAndGlyphs\" textLength=\"24\" x=\"557\" y=\"92.1074\">b: P</text><line style=\"stroke: #383838; stroke-width: 1.5;\" x1=\"549\" x2=\"589\" y1=\"99.9375\" y2=\"99.9375\"/></a><!--MD5=[60a26617385b1d2d0262a64233df1f8d]\n",
       "class E6--><a href=\"psysml:7c20260d-33cb-4904-8feb-6f2059c0b9de\" target=\"_top\" title=\"psysml:7c20260d-33cb-4904-8feb-6f2059c0b9de\" xlink:actuate=\"onRequest\" xlink:href=\"psysml:7c20260d-33cb-4904-8feb-6f2059c0b9de\" xlink:show=\"new\" xlink:title=\"psysml:7c20260d-33cb-4904-8feb-6f2059c0b9de\" xlink:type=\"simple\"><rect fill=\"#FFFFFF\" height=\"45.9375\" id=\"E6\" rx=\"10\" ry=\"10\" style=\"stroke: #383838; stroke-width: 1.5;\" width=\"42\" x=\"471\" y=\"62\"/><text fill=\"#000000\" font-family=\"sans-serif\" font-size=\"12\" font-style=\"italic\" lengthAdjust=\"spacingAndGlyphs\" textLength=\"40\" x=\"472\" y=\"78.1387\">«part»</text><text fill=\"#000000\" font-family=\"sans-serif\" font-size=\"12\" lengthAdjust=\"spacingAndGlyphs\" textLength=\"23\" x=\"480.5\" y=\"92.1074\">c: P</text><line style=\"stroke: #383838; stroke-width: 1.5;\" x1=\"472\" x2=\"512\" y1=\"99.9375\" y2=\"99.9375\"/></a><!--MD5=[2156ba9850f5573cc1fc38a6a4b2f02b]\n",
       "class E7--><a href=\"psysml:a788bf26-d852-4daf-8a66-fd926f14abf3\" target=\"_top\" title=\"psysml:a788bf26-d852-4daf-8a66-fd926f14abf3\" xlink:actuate=\"onRequest\" xlink:href=\"psysml:a788bf26-d852-4daf-8a66-fd926f14abf3\" xlink:show=\"new\" xlink:title=\"psysml:a788bf26-d852-4daf-8a66-fd926f14abf3\" xlink:type=\"simple\"><rect fill=\"#FFFFFF\" height=\"45.9375\" id=\"E7\" rx=\"10\" ry=\"10\" style=\"stroke: #383838; stroke-width: 1.5;\" width=\"42\" x=\"394\" y=\"62\"/><text fill=\"#000000\" font-family=\"sans-serif\" font-size=\"12\" font-style=\"italic\" lengthAdjust=\"spacingAndGlyphs\" textLength=\"40\" x=\"395\" y=\"78.1387\">«part»</text><text fill=\"#000000\" font-family=\"sans-serif\" font-size=\"12\" lengthAdjust=\"spacingAndGlyphs\" textLength=\"8\" x=\"411\" y=\"92.1074\">d</text><line style=\"stroke: #383838; stroke-width: 1.5;\" x1=\"395\" x2=\"435\" y1=\"99.9375\" y2=\"99.9375\"/></a><!--MD5=[b9389687b975829384b498ac4b7476b2]\n",
       "class E8--><a href=\"psysml:8ca44daa-798d-42ea-8082-fded64fdb257\" target=\"_top\" title=\"psysml:8ca44daa-798d-42ea-8082-fded64fdb257\" xlink:actuate=\"onRequest\" xlink:href=\"psysml:8ca44daa-798d-42ea-8082-fded64fdb257\" xlink:show=\"new\" xlink:title=\"psysml:8ca44daa-798d-42ea-8082-fded64fdb257\" xlink:type=\"simple\"><rect fill=\"#FFFFFF\" height=\"45.9375\" id=\"E8\" rx=\"10\" ry=\"10\" style=\"stroke: #383838; stroke-width: 1.5;\" width=\"42\" x=\"317\" y=\"62\"/><text fill=\"#000000\" font-family=\"sans-serif\" font-size=\"12\" font-style=\"italic\" lengthAdjust=\"spacingAndGlyphs\" textLength=\"40\" x=\"318\" y=\"78.1387\">«part»</text><text fill=\"#000000\" font-family=\"sans-serif\" font-size=\"12\" lengthAdjust=\"spacingAndGlyphs\" textLength=\"8\" x=\"334\" y=\"92.1074\">e</text><line style=\"stroke: #383838; stroke-width: 1.5;\" x1=\"318\" x2=\"358\" y1=\"99.9375\" y2=\"99.9375\"/></a><!--MD5=[fd4143e9d270a159db93a4ea2a975926]\n",
       "class E9--><a href=\"psysml:94368454-840d-4091-abdb-e19ae5322c54\" target=\"_top\" title=\"psysml:94368454-840d-4091-abdb-e19ae5322c54\" xlink:actuate=\"onRequest\" xlink:href=\"psysml:94368454-840d-4091-abdb-e19ae5322c54\" xlink:show=\"new\" xlink:title=\"psysml:94368454-840d-4091-abdb-e19ae5322c54\" xlink:type=\"simple\"><rect fill=\"#FFFFFF\" height=\"45.9375\" id=\"E9\" rx=\"10\" ry=\"10\" style=\"stroke: #383838; stroke-width: 1.5;\" width=\"42\" x=\"240\" y=\"62\"/><text fill=\"#000000\" font-family=\"sans-serif\" font-size=\"12\" font-style=\"italic\" lengthAdjust=\"spacingAndGlyphs\" textLength=\"40\" x=\"241\" y=\"78.1387\">«part»</text><text fill=\"#000000\" font-family=\"sans-serif\" font-size=\"12\" lengthAdjust=\"spacingAndGlyphs\" textLength=\"4\" x=\"259\" y=\"92.1074\">f</text><line style=\"stroke: #383838; stroke-width: 1.5;\" x1=\"241\" x2=\"281\" y1=\"99.9375\" y2=\"99.9375\"/></a><!--MD5=[96f4274e9e20536e775497830990834d]\n",
       "class E10--><a href=\"psysml:8f8b3cba-ab00-4478-b69f-246a2e072be5\" target=\"_top\" title=\"psysml:8f8b3cba-ab00-4478-b69f-246a2e072be5\" xlink:actuate=\"onRequest\" xlink:href=\"psysml:8f8b3cba-ab00-4478-b69f-246a2e072be5\" xlink:show=\"new\" xlink:title=\"psysml:8f8b3cba-ab00-4478-b69f-246a2e072be5\" xlink:type=\"simple\"><rect fill=\"#FFFFFF\" height=\"45.9375\" id=\"E10\" rx=\"10\" ry=\"10\" style=\"stroke: #383838; stroke-width: 1.5;\" width=\"42\" x=\"163\" y=\"62\"/><text fill=\"#000000\" font-family=\"sans-serif\" font-size=\"12\" font-style=\"italic\" lengthAdjust=\"spacingAndGlyphs\" textLength=\"40\" x=\"164\" y=\"78.1387\">«part»</text><text fill=\"#000000\" font-family=\"sans-serif\" font-size=\"12\" lengthAdjust=\"spacingAndGlyphs\" textLength=\"8\" x=\"180\" y=\"92.1074\">g</text><line style=\"stroke: #383838; stroke-width: 1.5;\" x1=\"164\" x2=\"204\" y1=\"99.9375\" y2=\"99.9375\"/></a><!--MD5=[1dd1bfd58a279cf63c5f349dbc8fc6a1]\n",
       "class E11--><a href=\"psysml:2c45c451-c8b5-4e48-8592-55fa30d535c5\" target=\"_top\" title=\"psysml:2c45c451-c8b5-4e48-8592-55fa30d535c5\" xlink:actuate=\"onRequest\" xlink:href=\"psysml:2c45c451-c8b5-4e48-8592-55fa30d535c5\" xlink:show=\"new\" xlink:title=\"psysml:2c45c451-c8b5-4e48-8592-55fa30d535c5\" xlink:type=\"simple\"><rect fill=\"#FFFFFF\" height=\"88.3516\" id=\"E11\" style=\"stroke: #383838; stroke-width: 1.5;\" width=\"95\" x=\"32.5\" y=\"41\"/><text fill=\"#000000\" font-family=\"sans-serif\" font-size=\"12\" font-style=\"italic\" lengthAdjust=\"spacingAndGlyphs\" textLength=\"93\" x=\"33.5\" y=\"57.1387\">«attribute def»</text><text fill=\"#000000\" font-family=\"sans-serif\" font-size=\"12\" lengthAdjust=\"spacingAndGlyphs\" textLength=\"8\" x=\"76\" y=\"71.1074\">A</text><line style=\"stroke: #383838; stroke-width: 1.5;\" x1=\"33.5\" x2=\"126.5\" y1=\"78.9375\" y2=\"78.9375\"/><text fill=\"#000000\" font-family=\"sans-serif\" font-size=\"11\" lengthAdjust=\"spacingAndGlyphs\" textLength=\"51\" x=\"38.5\" y=\"109.9526\">i: Integer</text><text fill=\"#000000\" font-family=\"sans-serif\" font-size=\"11\" lengthAdjust=\"spacingAndGlyphs\" textLength=\"21\" x=\"38.5\" y=\"122.7573\">x: A</text><line style=\"stroke: #383838; stroke-width: 1.0;\" x1=\"33.5\" x2=\"52.5\" y1=\"93.3398\" y2=\"93.3398\"/><text fill=\"#000000\" font-family=\"sans-serif\" font-size=\"11\" lengthAdjust=\"spacingAndGlyphs\" textLength=\"55\" x=\"52.5\" y=\"96.6479\">attributes</text><line style=\"stroke: #383838; stroke-width: 1.0;\" x1=\"107.5\" x2=\"126.5\" y1=\"93.3398\" y2=\"93.3398\"/></a><!--MD5=[15ebcb19ae302d9b601edb458606d402]\n",
       "link E5 to E2--><a href=\"psysml:99c2055f-0301-4891-b65d-9e517e6365b1\" target=\"_top\" title=\"psysml:99c2055f-0301-4891-b65d-9e517e6365b1\" xlink:actuate=\"onRequest\" xlink:href=\"psysml:99c2055f-0301-4891-b65d-9e517e6365b1\" xlink:show=\"new\" xlink:title=\"psysml:99c2055f-0301-4891-b65d-9e517e6365b1\" xlink:type=\"simple\"><path d=\"M555.5,108.29 C555.5,108.29 555.5,168.85 555.5,168.85 \" fill=\"none\" id=\"E5-&gt;E2\" style=\"stroke: #383838; stroke-width: 1.0;\"/><polygon fill=\"#FFFFFF\" points=\"555.5,188.85,548.5,169.85,562.5,169.85,555.5,188.85\" style=\"stroke: #383838; stroke-width: 1.0;\"/><ellipse cx=\"550.5\" cy=\"164.15\" fill=\"#383838\" rx=\"2\" ry=\"2\" style=\"stroke: #383838; stroke-width: 1.0;\"/><ellipse cx=\"560.5\" cy=\"164.15\" fill=\"#383838\" rx=\"2\" ry=\"2\" style=\"stroke: #383838; stroke-width: 1.0;\"/></a><!--MD5=[2351f337d6de0f557b50152ba70847b5]\n",
       "link E6 to E2--><a href=\"psysml:035f6493-28ba-4968-b761-0ab46a395f55\" target=\"_top\" title=\"psysml:035f6493-28ba-4968-b761-0ab46a395f55\" xlink:actuate=\"onRequest\" xlink:href=\"psysml:035f6493-28ba-4968-b761-0ab46a395f55\" xlink:show=\"new\" xlink:title=\"psysml:035f6493-28ba-4968-b761-0ab46a395f55\" xlink:type=\"simple\"><path d=\"M505,108.29 C505,108.29 505,168.85 505,168.85 \" fill=\"none\" id=\"E6-&gt;E2\" style=\"stroke: #383838; stroke-width: 1.0;\"/><polygon fill=\"#FFFFFF\" points=\"505,188.85,498,169.85,512,169.85,505,188.85\" style=\"stroke: #383838; stroke-width: 1.0;\"/><ellipse cx=\"500\" cy=\"164.15\" fill=\"#383838\" rx=\"2\" ry=\"2\" style=\"stroke: #383838; stroke-width: 1.0;\"/><ellipse cx=\"510\" cy=\"164.15\" fill=\"#383838\" rx=\"2\" ry=\"2\" style=\"stroke: #383838; stroke-width: 1.0;\"/></a><!--MD5=[047fbb243451142322f41885016ae8fe]\n",
       "@startuml\r\n",
       "skinparam linetype ortho\r\n",
       "skinparam monochrome true\r\n",
       "skinparam classbackgroundcolor white\r\n",
       "skinparam shadowing false\r\n",
       "skinparam wrapWidth 300\r\n",
       "hide circle\r\n",
       "\r\n",
       "package \"MultiplicityTest\" as E1  [[psysml:d21f1d33-c8d8-4d7e-915c-a1dc21839292 ]]  {\r\n",
       "comp def \"P\" as E2  <<(T,blue) part def>> [[psysml:cfcc0fdc-4985-4a7c-8ed0-df1ec6a07f40 ]] {\r\n",
       "}\r\n",
       "comp usage \"n: Integer\" as E3  <<(T,blue) attribute>> [[psysml:6504cd03-3352-435e-8e5a-44d60f096993 ]] {\r\n",
       "}\r\n",
       "comp usage \"a\" as E4  <<(T,blue) part>> [[psysml:69df1372-c4de-42e4-b97b-1df20a9e4637 ]] {\r\n",
       "}\r\n",
       "comp usage \"b: P\" as E5  <<(T,blue) part>> [[psysml:ce135ed3-5db8-4159-aade-37d21406abf2 ]] {\r\n",
       "}\r\n",
       "comp usage \"c: P\" as E6  <<(T,blue) part>> [[psysml:7c20260d-33cb-4904-8feb-6f2059c0b9de ]] {\r\n",
       "}\r\n",
       "comp usage \"d\" as E7  <<(T,blue) part>> [[psysml:a788bf26-d852-4daf-8a66-fd926f14abf3 ]] {\r\n",
       "}\r\n",
       "comp usage \"e\" as E8  <<(T,blue) part>> [[psysml:8ca44daa-798d-42ea-8082-fded64fdb257 ]] {\r\n",
       "}\r\n",
       "comp usage \"f\" as E9  <<(T,blue) part>> [[psysml:94368454-840d-4091-abdb-e19ae5322c54 ]] {\r\n",
       "}\r\n",
       "comp usage \"g\" as E10  <<(T,blue) part>> [[psysml:8f8b3cba-ab00-4478-b69f-246a2e072be5 ]] {\r\n",
       "}\r\n",
       "comp def \"A\" as E11  <<(T,blue) attribute def>> [[psysml:2c45c451-c8b5-4e48-8592-55fa30d535c5 ]] {\r\n",
       "- - attributes - -\r\n",
       "i: Integer\r\n",
       "x: A\r\n",
       "}\r\n",
       "E5 - -:|> E2 [[psysml:99c2055f-0301-4891-b65d-9e517e6365b1 ]] \r\n",
       "E6 - -:|> E2 [[psysml:035f6493-28ba-4968-b761-0ab46a395f55 ]] \r\n",
       "}\r\n",
       "@enduml\r\n",
       "\n",
       "PlantUML version 1.2020.13(Sat Jun 13 12:26:38 UTC 2020)\n",
       "(EPL source distribution)\n",
       "Java Runtime: OpenJDK Runtime Environment\n",
       "JVM: OpenJDK 64-Bit Server VM\n",
       "Default Encoding: UTF-8\n",
       "Language: en\n",
       "Country: null\n",
       "--></g></svg>"
      ]
     },
     "execution_count": 51,
     "metadata": {},
     "output_type": "execute_result"
    }
   ],
   "source": [
    "%viz --style=\"ORTHOLINE\" --view=\"Default\" \"MultiplicityTest\""
   ]
  },
  {
   "cell_type": "code",
   "execution_count": 52,
   "id": "23af693c",
   "metadata": {
    "execution": {
     "iopub.execute_input": "2021-06-30T09:24:34.292153Z",
     "iopub.status.busy": "2021-06-30T09:24:34.291687Z",
     "iopub.status.idle": "2021-06-30T09:24:34.354473Z",
     "shell.execute_reply": "2021-06-30T09:24:34.352988Z"
    }
   },
   "outputs": [
    {
     "data": {
      "image/svg+xml": [
       "<?xml version=\"1.0\" encoding=\"UTF-8\" standalone=\"no\"?><svg xmlns=\"http://www.w3.org/2000/svg\" xmlns:xlink=\"http://www.w3.org/1999/xlink\" contentScriptType=\"application/ecmascript\" contentStyleType=\"text/css\" height=\"263px\" preserveAspectRatio=\"none\" style=\"width:812px;height:263px;\" version=\"1.1\" viewBox=\"0 0 812 263\" width=\"812px\" zoomAndPan=\"magnify\"><defs/><g><!--MD5=[fbc87193dbaf4d95561dea2c320d4a47]\n",
       "cluster E1--><a href=\"psysml:d21f1d33-c8d8-4d7e-915c-a1dc21839292\" target=\"_top\" title=\"psysml:d21f1d33-c8d8-4d7e-915c-a1dc21839292\" xlink:actuate=\"onRequest\" xlink:href=\"psysml:d21f1d33-c8d8-4d7e-915c-a1dc21839292\" xlink:show=\"new\" xlink:title=\"psysml:d21f1d33-c8d8-4d7e-915c-a1dc21839292\" xlink:type=\"simple\"><polygon fill=\"#FFFFFF\" points=\"16,6,140,6,147,28.2969,790,28.2969,790,251,16,251,16,6\" style=\"stroke: #000000; stroke-width: 1.5;\"/><line style=\"stroke: #000000; stroke-width: 1.5;\" x1=\"16\" x2=\"147\" y1=\"28.2969\" y2=\"28.2969\"/><text fill=\"#000000\" font-family=\"sans-serif\" font-size=\"14\" font-weight=\"bold\" lengthAdjust=\"spacingAndGlyphs\" textLength=\"118\" x=\"20\" y=\"20.9951\">MultiplicityTest</text></a><!--MD5=[b4997ac47864f28c2f74865a473b2911]\n",
       "class E2--><a href=\"psysml:cfcc0fdc-4985-4a7c-8ed0-df1ec6a07f40\" target=\"_top\" title=\"psysml:cfcc0fdc-4985-4a7c-8ed0-df1ec6a07f40\" xlink:actuate=\"onRequest\" xlink:href=\"psysml:cfcc0fdc-4985-4a7c-8ed0-df1ec6a07f40\" xlink:show=\"new\" xlink:title=\"psysml:cfcc0fdc-4985-4a7c-8ed0-df1ec6a07f40\" xlink:type=\"simple\"><rect fill=\"#FFFFFF\" height=\"45.9375\" id=\"E2\" style=\"stroke: #383838; stroke-width: 1.5;\" width=\"66\" x=\"497\" y=\"189\"/><text fill=\"#000000\" font-family=\"sans-serif\" font-size=\"12\" font-style=\"italic\" lengthAdjust=\"spacingAndGlyphs\" textLength=\"64\" x=\"498\" y=\"205.1387\">«part def»</text><text fill=\"#000000\" font-family=\"sans-serif\" font-size=\"12\" lengthAdjust=\"spacingAndGlyphs\" textLength=\"8\" x=\"526\" y=\"219.1074\">P</text><line style=\"stroke: #383838; stroke-width: 1.5;\" x1=\"498\" x2=\"562\" y1=\"226.9375\" y2=\"226.9375\"/></a><!--MD5=[09b614a08d8cba4a07c9adeb5e0fee81]\n",
       "class E3--><a href=\"psysml:6504cd03-3352-435e-8e5a-44d60f096993\" target=\"_top\" title=\"psysml:6504cd03-3352-435e-8e5a-44d60f096993\" xlink:actuate=\"onRequest\" xlink:href=\"psysml:6504cd03-3352-435e-8e5a-44d60f096993\" xlink:show=\"new\" xlink:title=\"psysml:6504cd03-3352-435e-8e5a-44d60f096993\" xlink:type=\"simple\"><rect fill=\"#FFFFFF\" height=\"45.9375\" id=\"E3\" rx=\"10\" ry=\"10\" style=\"stroke: #383838; stroke-width: 1.5;\" width=\"71\" x=\"702.5\" y=\"62\"/><text fill=\"#000000\" font-family=\"sans-serif\" font-size=\"12\" font-style=\"italic\" lengthAdjust=\"spacingAndGlyphs\" textLength=\"69\" x=\"703.5\" y=\"78.1387\">«attribute»</text><text fill=\"#000000\" font-family=\"sans-serif\" font-size=\"12\" lengthAdjust=\"spacingAndGlyphs\" textLength=\"61\" x=\"707.5\" y=\"92.1074\">n: Integer</text><line style=\"stroke: #383838; stroke-width: 1.5;\" x1=\"703.5\" x2=\"772.5\" y1=\"99.9375\" y2=\"99.9375\"/></a><!--MD5=[ebbe1d658d1005bcc118a6aa81145e00]\n",
       "class E4--><a href=\"psysml:69df1372-c4de-42e4-b97b-1df20a9e4637\" target=\"_top\" title=\"psysml:69df1372-c4de-42e4-b97b-1df20a9e4637\" xlink:actuate=\"onRequest\" xlink:href=\"psysml:69df1372-c4de-42e4-b97b-1df20a9e4637\" xlink:show=\"new\" xlink:title=\"psysml:69df1372-c4de-42e4-b97b-1df20a9e4637\" xlink:type=\"simple\"><rect fill=\"#FFFFFF\" height=\"45.9375\" id=\"E4\" rx=\"10\" ry=\"10\" style=\"stroke: #383838; stroke-width: 1.5;\" width=\"42\" x=\"625\" y=\"62\"/><text fill=\"#000000\" font-family=\"sans-serif\" font-size=\"12\" font-style=\"italic\" lengthAdjust=\"spacingAndGlyphs\" textLength=\"40\" x=\"626\" y=\"78.1387\">«part»</text><text fill=\"#000000\" font-family=\"sans-serif\" font-size=\"12\" lengthAdjust=\"spacingAndGlyphs\" textLength=\"8\" x=\"642\" y=\"92.1074\">a</text><line style=\"stroke: #383838; stroke-width: 1.5;\" x1=\"626\" x2=\"666\" y1=\"99.9375\" y2=\"99.9375\"/></a><!--MD5=[270fce915f116d4de14055a7c1d9a0f3]\n",
       "class E5--><a href=\"psysml:ce135ed3-5db8-4159-aade-37d21406abf2\" target=\"_top\" title=\"psysml:ce135ed3-5db8-4159-aade-37d21406abf2\" xlink:actuate=\"onRequest\" xlink:href=\"psysml:ce135ed3-5db8-4159-aade-37d21406abf2\" xlink:show=\"new\" xlink:title=\"psysml:ce135ed3-5db8-4159-aade-37d21406abf2\" xlink:type=\"simple\"><rect fill=\"#FFFFFF\" height=\"45.9375\" id=\"E5\" rx=\"10\" ry=\"10\" style=\"stroke: #383838; stroke-width: 1.5;\" width=\"42\" x=\"548\" y=\"62\"/><text fill=\"#000000\" font-family=\"sans-serif\" font-size=\"12\" font-style=\"italic\" lengthAdjust=\"spacingAndGlyphs\" textLength=\"40\" x=\"549\" y=\"78.1387\">«part»</text><text fill=\"#000000\" font-family=\"sans-serif\" font-size=\"12\" lengthAdjust=\"spacingAndGlyphs\" textLength=\"24\" x=\"557\" y=\"92.1074\">b: P</text><line style=\"stroke: #383838; stroke-width: 1.5;\" x1=\"549\" x2=\"589\" y1=\"99.9375\" y2=\"99.9375\"/></a><!--MD5=[60a26617385b1d2d0262a64233df1f8d]\n",
       "class E6--><a href=\"psysml:7c20260d-33cb-4904-8feb-6f2059c0b9de\" target=\"_top\" title=\"psysml:7c20260d-33cb-4904-8feb-6f2059c0b9de\" xlink:actuate=\"onRequest\" xlink:href=\"psysml:7c20260d-33cb-4904-8feb-6f2059c0b9de\" xlink:show=\"new\" xlink:title=\"psysml:7c20260d-33cb-4904-8feb-6f2059c0b9de\" xlink:type=\"simple\"><rect fill=\"#FFFFFF\" height=\"45.9375\" id=\"E6\" rx=\"10\" ry=\"10\" style=\"stroke: #383838; stroke-width: 1.5;\" width=\"42\" x=\"471\" y=\"62\"/><text fill=\"#000000\" font-family=\"sans-serif\" font-size=\"12\" font-style=\"italic\" lengthAdjust=\"spacingAndGlyphs\" textLength=\"40\" x=\"472\" y=\"78.1387\">«part»</text><text fill=\"#000000\" font-family=\"sans-serif\" font-size=\"12\" lengthAdjust=\"spacingAndGlyphs\" textLength=\"23\" x=\"480.5\" y=\"92.1074\">c: P</text><line style=\"stroke: #383838; stroke-width: 1.5;\" x1=\"472\" x2=\"512\" y1=\"99.9375\" y2=\"99.9375\"/></a><!--MD5=[2156ba9850f5573cc1fc38a6a4b2f02b]\n",
       "class E7--><a href=\"psysml:a788bf26-d852-4daf-8a66-fd926f14abf3\" target=\"_top\" title=\"psysml:a788bf26-d852-4daf-8a66-fd926f14abf3\" xlink:actuate=\"onRequest\" xlink:href=\"psysml:a788bf26-d852-4daf-8a66-fd926f14abf3\" xlink:show=\"new\" xlink:title=\"psysml:a788bf26-d852-4daf-8a66-fd926f14abf3\" xlink:type=\"simple\"><rect fill=\"#FFFFFF\" height=\"45.9375\" id=\"E7\" rx=\"10\" ry=\"10\" style=\"stroke: #383838; stroke-width: 1.5;\" width=\"42\" x=\"394\" y=\"62\"/><text fill=\"#000000\" font-family=\"sans-serif\" font-size=\"12\" font-style=\"italic\" lengthAdjust=\"spacingAndGlyphs\" textLength=\"40\" x=\"395\" y=\"78.1387\">«part»</text><text fill=\"#000000\" font-family=\"sans-serif\" font-size=\"12\" lengthAdjust=\"spacingAndGlyphs\" textLength=\"8\" x=\"411\" y=\"92.1074\">d</text><line style=\"stroke: #383838; stroke-width: 1.5;\" x1=\"395\" x2=\"435\" y1=\"99.9375\" y2=\"99.9375\"/></a><!--MD5=[b9389687b975829384b498ac4b7476b2]\n",
       "class E8--><a href=\"psysml:8ca44daa-798d-42ea-8082-fded64fdb257\" target=\"_top\" title=\"psysml:8ca44daa-798d-42ea-8082-fded64fdb257\" xlink:actuate=\"onRequest\" xlink:href=\"psysml:8ca44daa-798d-42ea-8082-fded64fdb257\" xlink:show=\"new\" xlink:title=\"psysml:8ca44daa-798d-42ea-8082-fded64fdb257\" xlink:type=\"simple\"><rect fill=\"#FFFFFF\" height=\"45.9375\" id=\"E8\" rx=\"10\" ry=\"10\" style=\"stroke: #383838; stroke-width: 1.5;\" width=\"42\" x=\"317\" y=\"62\"/><text fill=\"#000000\" font-family=\"sans-serif\" font-size=\"12\" font-style=\"italic\" lengthAdjust=\"spacingAndGlyphs\" textLength=\"40\" x=\"318\" y=\"78.1387\">«part»</text><text fill=\"#000000\" font-family=\"sans-serif\" font-size=\"12\" lengthAdjust=\"spacingAndGlyphs\" textLength=\"8\" x=\"334\" y=\"92.1074\">e</text><line style=\"stroke: #383838; stroke-width: 1.5;\" x1=\"318\" x2=\"358\" y1=\"99.9375\" y2=\"99.9375\"/></a><!--MD5=[fd4143e9d270a159db93a4ea2a975926]\n",
       "class E9--><a href=\"psysml:94368454-840d-4091-abdb-e19ae5322c54\" target=\"_top\" title=\"psysml:94368454-840d-4091-abdb-e19ae5322c54\" xlink:actuate=\"onRequest\" xlink:href=\"psysml:94368454-840d-4091-abdb-e19ae5322c54\" xlink:show=\"new\" xlink:title=\"psysml:94368454-840d-4091-abdb-e19ae5322c54\" xlink:type=\"simple\"><rect fill=\"#FFFFFF\" height=\"45.9375\" id=\"E9\" rx=\"10\" ry=\"10\" style=\"stroke: #383838; stroke-width: 1.5;\" width=\"42\" x=\"240\" y=\"62\"/><text fill=\"#000000\" font-family=\"sans-serif\" font-size=\"12\" font-style=\"italic\" lengthAdjust=\"spacingAndGlyphs\" textLength=\"40\" x=\"241\" y=\"78.1387\">«part»</text><text fill=\"#000000\" font-family=\"sans-serif\" font-size=\"12\" lengthAdjust=\"spacingAndGlyphs\" textLength=\"4\" x=\"259\" y=\"92.1074\">f</text><line style=\"stroke: #383838; stroke-width: 1.5;\" x1=\"241\" x2=\"281\" y1=\"99.9375\" y2=\"99.9375\"/></a><!--MD5=[96f4274e9e20536e775497830990834d]\n",
       "class E10--><a href=\"psysml:8f8b3cba-ab00-4478-b69f-246a2e072be5\" target=\"_top\" title=\"psysml:8f8b3cba-ab00-4478-b69f-246a2e072be5\" xlink:actuate=\"onRequest\" xlink:href=\"psysml:8f8b3cba-ab00-4478-b69f-246a2e072be5\" xlink:show=\"new\" xlink:title=\"psysml:8f8b3cba-ab00-4478-b69f-246a2e072be5\" xlink:type=\"simple\"><rect fill=\"#FFFFFF\" height=\"45.9375\" id=\"E10\" rx=\"10\" ry=\"10\" style=\"stroke: #383838; stroke-width: 1.5;\" width=\"42\" x=\"163\" y=\"62\"/><text fill=\"#000000\" font-family=\"sans-serif\" font-size=\"12\" font-style=\"italic\" lengthAdjust=\"spacingAndGlyphs\" textLength=\"40\" x=\"164\" y=\"78.1387\">«part»</text><text fill=\"#000000\" font-family=\"sans-serif\" font-size=\"12\" lengthAdjust=\"spacingAndGlyphs\" textLength=\"8\" x=\"180\" y=\"92.1074\">g</text><line style=\"stroke: #383838; stroke-width: 1.5;\" x1=\"164\" x2=\"204\" y1=\"99.9375\" y2=\"99.9375\"/></a><!--MD5=[1dd1bfd58a279cf63c5f349dbc8fc6a1]\n",
       "class E11--><a href=\"psysml:2c45c451-c8b5-4e48-8592-55fa30d535c5\" target=\"_top\" title=\"psysml:2c45c451-c8b5-4e48-8592-55fa30d535c5\" xlink:actuate=\"onRequest\" xlink:href=\"psysml:2c45c451-c8b5-4e48-8592-55fa30d535c5\" xlink:show=\"new\" xlink:title=\"psysml:2c45c451-c8b5-4e48-8592-55fa30d535c5\" xlink:type=\"simple\"><rect fill=\"#FFFFFF\" height=\"88.3516\" id=\"E11\" style=\"stroke: #383838; stroke-width: 1.5;\" width=\"95\" x=\"32.5\" y=\"41\"/><text fill=\"#000000\" font-family=\"sans-serif\" font-size=\"12\" font-style=\"italic\" lengthAdjust=\"spacingAndGlyphs\" textLength=\"93\" x=\"33.5\" y=\"57.1387\">«attribute def»</text><text fill=\"#000000\" font-family=\"sans-serif\" font-size=\"12\" lengthAdjust=\"spacingAndGlyphs\" textLength=\"8\" x=\"76\" y=\"71.1074\">A</text><line style=\"stroke: #383838; stroke-width: 1.5;\" x1=\"33.5\" x2=\"126.5\" y1=\"78.9375\" y2=\"78.9375\"/><text fill=\"#000000\" font-family=\"sans-serif\" font-size=\"11\" lengthAdjust=\"spacingAndGlyphs\" textLength=\"51\" x=\"38.5\" y=\"109.9526\">i: Integer</text><text fill=\"#000000\" font-family=\"sans-serif\" font-size=\"11\" lengthAdjust=\"spacingAndGlyphs\" textLength=\"21\" x=\"38.5\" y=\"122.7573\">x: A</text><line style=\"stroke: #383838; stroke-width: 1.0;\" x1=\"33.5\" x2=\"52.5\" y1=\"93.3398\" y2=\"93.3398\"/><text fill=\"#000000\" font-family=\"sans-serif\" font-size=\"11\" lengthAdjust=\"spacingAndGlyphs\" textLength=\"55\" x=\"52.5\" y=\"96.6479\">attributes</text><line style=\"stroke: #383838; stroke-width: 1.0;\" x1=\"107.5\" x2=\"126.5\" y1=\"93.3398\" y2=\"93.3398\"/></a><!--MD5=[15ebcb19ae302d9b601edb458606d402]\n",
       "link E5 to E2--><a href=\"psysml:99c2055f-0301-4891-b65d-9e517e6365b1\" target=\"_top\" title=\"psysml:99c2055f-0301-4891-b65d-9e517e6365b1\" xlink:actuate=\"onRequest\" xlink:href=\"psysml:99c2055f-0301-4891-b65d-9e517e6365b1\" xlink:show=\"new\" xlink:title=\"psysml:99c2055f-0301-4891-b65d-9e517e6365b1\" xlink:type=\"simple\"><path d=\"M555.5,108.29 C555.5,108.29 555.5,168.85 555.5,168.85 \" fill=\"none\" id=\"E5-&gt;E2\" style=\"stroke: #383838; stroke-width: 1.0;\"/><polygon fill=\"#FFFFFF\" points=\"555.5,188.85,548.5,169.85,562.5,169.85,555.5,188.85\" style=\"stroke: #383838; stroke-width: 1.0;\"/><ellipse cx=\"550.5\" cy=\"164.15\" fill=\"#383838\" rx=\"2\" ry=\"2\" style=\"stroke: #383838; stroke-width: 1.0;\"/><ellipse cx=\"560.5\" cy=\"164.15\" fill=\"#383838\" rx=\"2\" ry=\"2\" style=\"stroke: #383838; stroke-width: 1.0;\"/></a><!--MD5=[2351f337d6de0f557b50152ba70847b5]\n",
       "link E6 to E2--><a href=\"psysml:035f6493-28ba-4968-b761-0ab46a395f55\" target=\"_top\" title=\"psysml:035f6493-28ba-4968-b761-0ab46a395f55\" xlink:actuate=\"onRequest\" xlink:href=\"psysml:035f6493-28ba-4968-b761-0ab46a395f55\" xlink:show=\"new\" xlink:title=\"psysml:035f6493-28ba-4968-b761-0ab46a395f55\" xlink:type=\"simple\"><path d=\"M505,108.29 C505,108.29 505,168.85 505,168.85 \" fill=\"none\" id=\"E6-&gt;E2\" style=\"stroke: #383838; stroke-width: 1.0;\"/><polygon fill=\"#FFFFFF\" points=\"505,188.85,498,169.85,512,169.85,505,188.85\" style=\"stroke: #383838; stroke-width: 1.0;\"/><ellipse cx=\"500\" cy=\"164.15\" fill=\"#383838\" rx=\"2\" ry=\"2\" style=\"stroke: #383838; stroke-width: 1.0;\"/><ellipse cx=\"510\" cy=\"164.15\" fill=\"#383838\" rx=\"2\" ry=\"2\" style=\"stroke: #383838; stroke-width: 1.0;\"/></a><!--MD5=[047fbb243451142322f41885016ae8fe]\n",
       "@startuml\r\n",
       "skinparam linetype ortho\r\n",
       "skinparam monochrome true\r\n",
       "skinparam classbackgroundcolor white\r\n",
       "skinparam shadowing false\r\n",
       "skinparam wrapWidth 300\r\n",
       "hide circle\r\n",
       "\r\n",
       "package \"MultiplicityTest\" as E1  [[psysml:d21f1d33-c8d8-4d7e-915c-a1dc21839292 ]]  {\r\n",
       "comp def \"P\" as E2  <<(T,blue) part def>> [[psysml:cfcc0fdc-4985-4a7c-8ed0-df1ec6a07f40 ]] {\r\n",
       "}\r\n",
       "comp usage \"n: Integer\" as E3  <<(T,blue) attribute>> [[psysml:6504cd03-3352-435e-8e5a-44d60f096993 ]] {\r\n",
       "}\r\n",
       "comp usage \"a\" as E4  <<(T,blue) part>> [[psysml:69df1372-c4de-42e4-b97b-1df20a9e4637 ]] {\r\n",
       "}\r\n",
       "comp usage \"b: P\" as E5  <<(T,blue) part>> [[psysml:ce135ed3-5db8-4159-aade-37d21406abf2 ]] {\r\n",
       "}\r\n",
       "comp usage \"c: P\" as E6  <<(T,blue) part>> [[psysml:7c20260d-33cb-4904-8feb-6f2059c0b9de ]] {\r\n",
       "}\r\n",
       "comp usage \"d\" as E7  <<(T,blue) part>> [[psysml:a788bf26-d852-4daf-8a66-fd926f14abf3 ]] {\r\n",
       "}\r\n",
       "comp usage \"e\" as E8  <<(T,blue) part>> [[psysml:8ca44daa-798d-42ea-8082-fded64fdb257 ]] {\r\n",
       "}\r\n",
       "comp usage \"f\" as E9  <<(T,blue) part>> [[psysml:94368454-840d-4091-abdb-e19ae5322c54 ]] {\r\n",
       "}\r\n",
       "comp usage \"g\" as E10  <<(T,blue) part>> [[psysml:8f8b3cba-ab00-4478-b69f-246a2e072be5 ]] {\r\n",
       "}\r\n",
       "comp def \"A\" as E11  <<(T,blue) attribute def>> [[psysml:2c45c451-c8b5-4e48-8592-55fa30d535c5 ]] {\r\n",
       "- - attributes - -\r\n",
       "i: Integer\r\n",
       "x: A\r\n",
       "}\r\n",
       "E5 - -:|> E2 [[psysml:99c2055f-0301-4891-b65d-9e517e6365b1 ]] \r\n",
       "E6 - -:|> E2 [[psysml:035f6493-28ba-4968-b761-0ab46a395f55 ]] \r\n",
       "}\r\n",
       "@enduml\r\n",
       "\n",
       "PlantUML version 1.2020.13(Sat Jun 13 12:26:38 UTC 2020)\n",
       "(EPL source distribution)\n",
       "Java Runtime: OpenJDK Runtime Environment\n",
       "JVM: OpenJDK 64-Bit Server VM\n",
       "Default Encoding: UTF-8\n",
       "Language: en\n",
       "Country: null\n",
       "--></g></svg>"
      ]
     },
     "execution_count": 52,
     "metadata": {},
     "output_type": "execute_result"
    }
   ],
   "source": [
    "%viz --style=\"ORTHOLINE\" --view=\"Tree\" \"MultiplicityTest\""
   ]
  },
  {
   "cell_type": "code",
   "execution_count": 53,
   "id": "588a98c6",
   "metadata": {
    "execution": {
     "iopub.execute_input": "2021-06-30T09:24:34.404414Z",
     "iopub.status.busy": "2021-06-30T09:24:34.404050Z",
     "iopub.status.idle": "2021-06-30T09:24:34.409049Z",
     "shell.execute_reply": "2021-06-30T09:24:34.408621Z"
    }
   },
   "outputs": [
    {
     "data": {
      "image/svg+xml": [
       "<?xml version=\"1.0\" encoding=\"UTF-8\" standalone=\"no\"?><svg xmlns=\"http://www.w3.org/2000/svg\" xmlns:xlink=\"http://www.w3.org/1999/xlink\" contentScriptType=\"application/ecmascript\" contentStyleType=\"text/css\" height=\"12px\" preserveAspectRatio=\"none\" style=\"width:12px;height:12px;\" version=\"1.1\" viewBox=\"0 0 12 12\" width=\"12px\" zoomAndPan=\"magnify\"><defs/><g><!--MD5=[97d6f38768b311333d388e66b2b27985]\n",
       "@startuml\r\n",
       "skinparam linetype ortho\r\n",
       "skinparam monochrome true\r\n",
       "skinparam classbackgroundcolor white\r\n",
       "skinparam shadowing false\r\n",
       "skinparam wrapWidth 300\r\n",
       "hide circle\r\n",
       "\r\n",
       "@enduml\r\n",
       "\n",
       "PlantUML version 1.2020.13(Sat Jun 13 12:26:38 UTC 2020)\n",
       "(EPL source distribution)\n",
       "Java Runtime: OpenJDK Runtime Environment\n",
       "JVM: OpenJDK 64-Bit Server VM\n",
       "Default Encoding: UTF-8\n",
       "Language: en\n",
       "Country: null\n",
       "--></g></svg>"
      ]
     },
     "execution_count": 53,
     "metadata": {},
     "output_type": "execute_result"
    }
   ],
   "source": [
    "%viz --style=\"ORTHOLINE\" --view=\"State\" \"MultiplicityTest\""
   ]
  },
  {
   "cell_type": "code",
   "execution_count": 54,
   "id": "193a631f",
   "metadata": {
    "execution": {
     "iopub.execute_input": "2021-06-30T09:24:34.460430Z",
     "iopub.status.busy": "2021-06-30T09:24:34.459538Z",
     "iopub.status.idle": "2021-06-30T09:24:34.489397Z",
     "shell.execute_reply": "2021-06-30T09:24:34.487779Z"
    }
   },
   "outputs": [
    {
     "data": {
      "image/svg+xml": [
       "<?xml version=\"1.0\" encoding=\"UTF-8\" standalone=\"no\"?><svg xmlns=\"http://www.w3.org/2000/svg\" xmlns:xlink=\"http://www.w3.org/1999/xlink\" contentScriptType=\"application/ecmascript\" contentStyleType=\"text/css\" height=\"115px\" preserveAspectRatio=\"none\" style=\"width:979px;height:115px;\" version=\"1.1\" viewBox=\"0 0 979 115\" width=\"979px\" zoomAndPan=\"magnify\"><defs/><g><!--MD5=[fbc87193dbaf4d95561dea2c320d4a47]\n",
       "cluster E1--><a href=\"psysml:d21f1d33-c8d8-4d7e-915c-a1dc21839292\" target=\"_top\" title=\"psysml:d21f1d33-c8d8-4d7e-915c-a1dc21839292\" xlink:actuate=\"onRequest\" xlink:href=\"psysml:d21f1d33-c8d8-4d7e-915c-a1dc21839292\" xlink:show=\"new\" xlink:title=\"psysml:d21f1d33-c8d8-4d7e-915c-a1dc21839292\" xlink:type=\"simple\"><polygon fill=\"#FFFFFF\" points=\"16,6,140,6,147,28.2969,957,28.2969,957,103,16,103,16,6\" style=\"stroke: #000000; stroke-width: 1.5;\"/><line style=\"stroke: #000000; stroke-width: 1.5;\" x1=\"16\" x2=\"147\" y1=\"28.2969\" y2=\"28.2969\"/><text fill=\"#000000\" font-family=\"sans-serif\" font-size=\"14\" font-weight=\"bold\" lengthAdjust=\"spacingAndGlyphs\" textLength=\"118\" x=\"20\" y=\"20.9951\">MultiplicityTest</text></a><!--MD5=[09b614a08d8cba4a07c9adeb5e0fee81]\n",
       "class E3--><a href=\"psysml:6504cd03-3352-435e-8e5a-44d60f096993\" target=\"_top\" title=\"psysml:6504cd03-3352-435e-8e5a-44d60f096993\" xlink:actuate=\"onRequest\" xlink:href=\"psysml:6504cd03-3352-435e-8e5a-44d60f096993\" xlink:show=\"new\" xlink:title=\"psysml:6504cd03-3352-435e-8e5a-44d60f096993\" xlink:type=\"simple\"><rect fill=\"#FFFFFF\" height=\"45.9375\" id=\"E3\" rx=\"10\" ry=\"10\" style=\"stroke: #383838; stroke-width: 1.5;\" width=\"71\" x=\"869.5\" y=\"41\"/><text fill=\"#000000\" font-family=\"sans-serif\" font-size=\"12\" font-style=\"italic\" lengthAdjust=\"spacingAndGlyphs\" textLength=\"69\" x=\"870.5\" y=\"57.1387\">«attribute»</text><text fill=\"#000000\" font-family=\"sans-serif\" font-size=\"12\" lengthAdjust=\"spacingAndGlyphs\" textLength=\"61\" x=\"874.5\" y=\"71.1074\">n: Integer</text><line style=\"stroke: #383838; stroke-width: 1.5;\" x1=\"870.5\" x2=\"939.5\" y1=\"78.9375\" y2=\"78.9375\"/></a><g id=\"E1.E11\"><a href=\"psysml:2c45c451-c8b5-4e48-8592-55fa30d535c5\" target=\"_top\" title=\"psysml:2c45c451-c8b5-4e48-8592-55fa30d535c5\" xlink:actuate=\"onRequest\" xlink:href=\"psysml:2c45c451-c8b5-4e48-8592-55fa30d535c5\" xlink:show=\"new\" xlink:title=\"psysml:2c45c451-c8b5-4e48-8592-55fa30d535c5\" xlink:type=\"simple\"><rect fill=\"#FFFFFF\" height=\"42.9375\" id=\"E11\" style=\"stroke: #383838; stroke-width: 1.5;\" width=\"100\" x=\"734\" y=\"42.5\"/><rect fill=\"#F8F8F8\" height=\"37.9375\" style=\"stroke: #383838; stroke-width: 1.5;\" width=\"100\" x=\"734\" y=\"42.5\"/><text fill=\"#000000\" font-family=\"sans-serif\" font-size=\"12\" font-style=\"italic\" lengthAdjust=\"spacingAndGlyphs\" textLength=\"93\" x=\"737.5\" y=\"58.6387\">«attribute def»</text><text fill=\"#000000\" font-family=\"sans-serif\" font-size=\"12\" lengthAdjust=\"spacingAndGlyphs\" textLength=\"8\" x=\"780\" y=\"72.6074\">A</text></a></g><g id=\"E1.E2\"><a href=\"psysml:cfcc0fdc-4985-4a7c-8ed0-df1ec6a07f40\" target=\"_top\" title=\"psysml:cfcc0fdc-4985-4a7c-8ed0-df1ec6a07f40\" xlink:actuate=\"onRequest\" xlink:href=\"psysml:cfcc0fdc-4985-4a7c-8ed0-df1ec6a07f40\" xlink:show=\"new\" xlink:title=\"psysml:cfcc0fdc-4985-4a7c-8ed0-df1ec6a07f40\" xlink:type=\"simple\"><rect fill=\"#FFFFFF\" height=\"42.9375\" id=\"E2\" style=\"stroke: #383838; stroke-width: 1.5;\" width=\"71\" x=\"627.5\" y=\"42.5\"/><rect fill=\"#F8F8F8\" height=\"37.9375\" style=\"stroke: #383838; stroke-width: 1.5;\" width=\"71\" x=\"627.5\" y=\"42.5\"/><text fill=\"#000000\" font-family=\"sans-serif\" font-size=\"12\" font-style=\"italic\" lengthAdjust=\"spacingAndGlyphs\" textLength=\"64\" x=\"631\" y=\"58.6387\">«part def»</text><text fill=\"#000000\" font-family=\"sans-serif\" font-size=\"12\" lengthAdjust=\"spacingAndGlyphs\" textLength=\"8\" x=\"659\" y=\"72.6074\">P</text></a></g><g id=\"E1.E4\"><a href=\"psysml:69df1372-c4de-42e4-b97b-1df20a9e4637\" target=\"_top\" title=\"psysml:69df1372-c4de-42e4-b97b-1df20a9e4637\" xlink:actuate=\"onRequest\" xlink:href=\"psysml:69df1372-c4de-42e4-b97b-1df20a9e4637\" xlink:show=\"new\" xlink:title=\"psysml:69df1372-c4de-42e4-b97b-1df20a9e4637\" xlink:type=\"simple\"><rect fill=\"#FFFFFF\" height=\"40\" id=\"E4\" rx=\"10\" ry=\"10\" style=\"stroke: #383838; stroke-width: 1.5;\" width=\"50\" x=\"542\" y=\"44\"/><rect fill=\"#F8F8F8\" height=\"23.9688\" rx=\"10\" ry=\"10\" style=\"stroke: #F8F8F8; stroke-width: 1.5;\" width=\"50\" x=\"542\" y=\"44\"/><rect fill=\"#F8F8F8\" height=\"10\" style=\"stroke: #F8F8F8; stroke-width: 1.5;\" width=\"50\" x=\"542\" y=\"57.9688\"/><rect fill=\"none\" height=\"40\" id=\"E4\" rx=\"10\" ry=\"10\" style=\"stroke: #383838; stroke-width: 1.5;\" width=\"50\" x=\"542\" y=\"44\"/><text fill=\"#000000\" font-family=\"sans-serif\" font-size=\"12\" lengthAdjust=\"spacingAndGlyphs\" textLength=\"8\" x=\"563\" y=\"60.1387\">a</text></a></g><g id=\"E1.E5\"><a href=\"psysml:ce135ed3-5db8-4159-aade-37d21406abf2\" target=\"_top\" title=\"psysml:ce135ed3-5db8-4159-aade-37d21406abf2\" xlink:actuate=\"onRequest\" xlink:href=\"psysml:ce135ed3-5db8-4159-aade-37d21406abf2\" xlink:show=\"new\" xlink:title=\"psysml:ce135ed3-5db8-4159-aade-37d21406abf2\" xlink:type=\"simple\"><rect fill=\"#FFFFFF\" height=\"40\" id=\"E5\" rx=\"10\" ry=\"10\" style=\"stroke: #383838; stroke-width: 1.5;\" width=\"50\" x=\"457\" y=\"44\"/><rect fill=\"#F8F8F8\" height=\"23.9688\" rx=\"10\" ry=\"10\" style=\"stroke: #F8F8F8; stroke-width: 1.5;\" width=\"50\" x=\"457\" y=\"44\"/><rect fill=\"#F8F8F8\" height=\"10\" style=\"stroke: #F8F8F8; stroke-width: 1.5;\" width=\"50\" x=\"457\" y=\"57.9688\"/><rect fill=\"none\" height=\"40\" id=\"E5\" rx=\"10\" ry=\"10\" style=\"stroke: #383838; stroke-width: 1.5;\" width=\"50\" x=\"457\" y=\"44\"/><text fill=\"#000000\" font-family=\"sans-serif\" font-size=\"12\" lengthAdjust=\"spacingAndGlyphs\" textLength=\"24\" x=\"470\" y=\"60.1387\">b: P</text></a></g><g id=\"E1.E6\"><a href=\"psysml:7c20260d-33cb-4904-8feb-6f2059c0b9de\" target=\"_top\" title=\"psysml:7c20260d-33cb-4904-8feb-6f2059c0b9de\" xlink:actuate=\"onRequest\" xlink:href=\"psysml:7c20260d-33cb-4904-8feb-6f2059c0b9de\" xlink:show=\"new\" xlink:title=\"psysml:7c20260d-33cb-4904-8feb-6f2059c0b9de\" xlink:type=\"simple\"><rect fill=\"#FFFFFF\" height=\"40\" id=\"E6\" rx=\"10\" ry=\"10\" style=\"stroke: #383838; stroke-width: 1.5;\" width=\"50\" x=\"372\" y=\"44\"/><rect fill=\"#F8F8F8\" height=\"23.9688\" rx=\"10\" ry=\"10\" style=\"stroke: #F8F8F8; stroke-width: 1.5;\" width=\"50\" x=\"372\" y=\"44\"/><rect fill=\"#F8F8F8\" height=\"10\" style=\"stroke: #F8F8F8; stroke-width: 1.5;\" width=\"50\" x=\"372\" y=\"57.9688\"/><rect fill=\"none\" height=\"40\" id=\"E6\" rx=\"10\" ry=\"10\" style=\"stroke: #383838; stroke-width: 1.5;\" width=\"50\" x=\"372\" y=\"44\"/><text fill=\"#000000\" font-family=\"sans-serif\" font-size=\"12\" lengthAdjust=\"spacingAndGlyphs\" textLength=\"23\" x=\"385.5\" y=\"60.1387\">c: P</text></a></g><g id=\"E1.E7\"><a href=\"psysml:a788bf26-d852-4daf-8a66-fd926f14abf3\" target=\"_top\" title=\"psysml:a788bf26-d852-4daf-8a66-fd926f14abf3\" xlink:actuate=\"onRequest\" xlink:href=\"psysml:a788bf26-d852-4daf-8a66-fd926f14abf3\" xlink:show=\"new\" xlink:title=\"psysml:a788bf26-d852-4daf-8a66-fd926f14abf3\" xlink:type=\"simple\"><rect fill=\"#FFFFFF\" height=\"40\" id=\"E7\" rx=\"10\" ry=\"10\" style=\"stroke: #383838; stroke-width: 1.5;\" width=\"50\" x=\"287\" y=\"44\"/><rect fill=\"#F8F8F8\" height=\"23.9688\" rx=\"10\" ry=\"10\" style=\"stroke: #F8F8F8; stroke-width: 1.5;\" width=\"50\" x=\"287\" y=\"44\"/><rect fill=\"#F8F8F8\" height=\"10\" style=\"stroke: #F8F8F8; stroke-width: 1.5;\" width=\"50\" x=\"287\" y=\"57.9688\"/><rect fill=\"none\" height=\"40\" id=\"E7\" rx=\"10\" ry=\"10\" style=\"stroke: #383838; stroke-width: 1.5;\" width=\"50\" x=\"287\" y=\"44\"/><text fill=\"#000000\" font-family=\"sans-serif\" font-size=\"12\" lengthAdjust=\"spacingAndGlyphs\" textLength=\"8\" x=\"308\" y=\"60.1387\">d</text></a></g><g id=\"E1.E8\"><a href=\"psysml:8ca44daa-798d-42ea-8082-fded64fdb257\" target=\"_top\" title=\"psysml:8ca44daa-798d-42ea-8082-fded64fdb257\" xlink:actuate=\"onRequest\" xlink:href=\"psysml:8ca44daa-798d-42ea-8082-fded64fdb257\" xlink:show=\"new\" xlink:title=\"psysml:8ca44daa-798d-42ea-8082-fded64fdb257\" xlink:type=\"simple\"><rect fill=\"#FFFFFF\" height=\"40\" id=\"E8\" rx=\"10\" ry=\"10\" style=\"stroke: #383838; stroke-width: 1.5;\" width=\"50\" x=\"202\" y=\"44\"/><rect fill=\"#F8F8F8\" height=\"23.9688\" rx=\"10\" ry=\"10\" style=\"stroke: #F8F8F8; stroke-width: 1.5;\" width=\"50\" x=\"202\" y=\"44\"/><rect fill=\"#F8F8F8\" height=\"10\" style=\"stroke: #F8F8F8; stroke-width: 1.5;\" width=\"50\" x=\"202\" y=\"57.9688\"/><rect fill=\"none\" height=\"40\" id=\"E8\" rx=\"10\" ry=\"10\" style=\"stroke: #383838; stroke-width: 1.5;\" width=\"50\" x=\"202\" y=\"44\"/><text fill=\"#000000\" font-family=\"sans-serif\" font-size=\"12\" lengthAdjust=\"spacingAndGlyphs\" textLength=\"8\" x=\"223\" y=\"60.1387\">e</text></a></g><g id=\"E1.E9\"><a href=\"psysml:94368454-840d-4091-abdb-e19ae5322c54\" target=\"_top\" title=\"psysml:94368454-840d-4091-abdb-e19ae5322c54\" xlink:actuate=\"onRequest\" xlink:href=\"psysml:94368454-840d-4091-abdb-e19ae5322c54\" xlink:show=\"new\" xlink:title=\"psysml:94368454-840d-4091-abdb-e19ae5322c54\" xlink:type=\"simple\"><rect fill=\"#FFFFFF\" height=\"40\" id=\"E9\" rx=\"10\" ry=\"10\" style=\"stroke: #383838; stroke-width: 1.5;\" width=\"50\" x=\"117\" y=\"44\"/><rect fill=\"#F8F8F8\" height=\"23.9688\" rx=\"10\" ry=\"10\" style=\"stroke: #F8F8F8; stroke-width: 1.5;\" width=\"50\" x=\"117\" y=\"44\"/><rect fill=\"#F8F8F8\" height=\"10\" style=\"stroke: #F8F8F8; stroke-width: 1.5;\" width=\"50\" x=\"117\" y=\"57.9688\"/><rect fill=\"none\" height=\"40\" id=\"E9\" rx=\"10\" ry=\"10\" style=\"stroke: #383838; stroke-width: 1.5;\" width=\"50\" x=\"117\" y=\"44\"/><text fill=\"#000000\" font-family=\"sans-serif\" font-size=\"12\" lengthAdjust=\"spacingAndGlyphs\" textLength=\"4\" x=\"140\" y=\"60.1387\">f</text></a></g><g id=\"E1.E10\"><a href=\"psysml:8f8b3cba-ab00-4478-b69f-246a2e072be5\" target=\"_top\" title=\"psysml:8f8b3cba-ab00-4478-b69f-246a2e072be5\" xlink:actuate=\"onRequest\" xlink:href=\"psysml:8f8b3cba-ab00-4478-b69f-246a2e072be5\" xlink:show=\"new\" xlink:title=\"psysml:8f8b3cba-ab00-4478-b69f-246a2e072be5\" xlink:type=\"simple\"><rect fill=\"#FFFFFF\" height=\"40\" id=\"E10\" rx=\"10\" ry=\"10\" style=\"stroke: #383838; stroke-width: 1.5;\" width=\"50\" x=\"32\" y=\"44\"/><rect fill=\"#F8F8F8\" height=\"23.9688\" rx=\"10\" ry=\"10\" style=\"stroke: #F8F8F8; stroke-width: 1.5;\" width=\"50\" x=\"32\" y=\"44\"/><rect fill=\"#F8F8F8\" height=\"10\" style=\"stroke: #F8F8F8; stroke-width: 1.5;\" width=\"50\" x=\"32\" y=\"57.9688\"/><rect fill=\"none\" height=\"40\" id=\"E10\" rx=\"10\" ry=\"10\" style=\"stroke: #383838; stroke-width: 1.5;\" width=\"50\" x=\"32\" y=\"44\"/><text fill=\"#000000\" font-family=\"sans-serif\" font-size=\"12\" lengthAdjust=\"spacingAndGlyphs\" textLength=\"8\" x=\"53\" y=\"60.1387\">g</text></a></g><!--MD5=[d4e5d7ea9a059d705d1ff127d2c606df]\n",
       "@startuml\r\n",
       "skinparam ranksep 10\r\n",
       "skinparam rectangle {\r\n",
       " backgroundColor<<block>> LightGreen\r\n",
       "}\r\n",
       "skinparam linetype ortho\r\n",
       "skinparam monochrome true\r\n",
       "skinparam classbackgroundcolor white\r\n",
       "skinparam shadowing false\r\n",
       "skinparam wrapWidth 300\r\n",
       "hide circle\r\n",
       "\r\n",
       "package \"MultiplicityTest\" as E1  [[psysml:d21f1d33-c8d8-4d7e-915c-a1dc21839292 ]]  {\r\n",
       "rec def \"P\" as E2  <<(T,blue) part def>> [[psysml:cfcc0fdc-4985-4a7c-8ed0-df1ec6a07f40 ]] {\r\n",
       "}\r\n",
       "comp usage \"n: Integer\" as E3  <<(T,blue) attribute>> [[psysml:6504cd03-3352-435e-8e5a-44d60f096993 ]] {\r\n",
       "}\r\n",
       "rec usage \"a\" as E4  [[psysml:69df1372-c4de-42e4-b97b-1df20a9e4637 ]] {\r\n",
       "}\r\n",
       "rec usage \"b: P\" as E5  [[psysml:ce135ed3-5db8-4159-aade-37d21406abf2 ]] {\r\n",
       "}\r\n",
       "rec usage \"c: P\" as E6  [[psysml:7c20260d-33cb-4904-8feb-6f2059c0b9de ]] {\r\n",
       "}\r\n",
       "rec usage \"d\" as E7  [[psysml:a788bf26-d852-4daf-8a66-fd926f14abf3 ]] {\r\n",
       "}\r\n",
       "rec usage \"e\" as E8  [[psysml:8ca44daa-798d-42ea-8082-fded64fdb257 ]] {\r\n",
       "}\r\n",
       "rec usage \"f\" as E9  [[psysml:94368454-840d-4091-abdb-e19ae5322c54 ]] {\r\n",
       "}\r\n",
       "rec usage \"g\" as E10  [[psysml:8f8b3cba-ab00-4478-b69f-246a2e072be5 ]] {\r\n",
       "}\r\n",
       "def \"A\" as E11  <<(T,blue) attribute def>> [[psysml:2c45c451-c8b5-4e48-8592-55fa30d535c5 ]] \r\n",
       "}\r\n",
       "@enduml\r\n",
       "\n",
       "PlantUML version 1.2020.13(Sat Jun 13 12:26:38 UTC 2020)\n",
       "(EPL source distribution)\n",
       "Java Runtime: OpenJDK Runtime Environment\n",
       "JVM: OpenJDK 64-Bit Server VM\n",
       "Default Encoding: UTF-8\n",
       "Language: en\n",
       "Country: null\n",
       "--></g></svg>"
      ]
     },
     "execution_count": 54,
     "metadata": {},
     "output_type": "execute_result"
    }
   ],
   "source": [
    "%viz --style=\"ORTHOLINE\" --view=\"Interconnection\" \"MultiplicityTest\""
   ]
  },
  {
   "cell_type": "code",
   "execution_count": 55,
   "id": "14b67bf5",
   "metadata": {
    "execution": {
     "iopub.execute_input": "2021-06-30T09:24:34.539351Z",
     "iopub.status.busy": "2021-06-30T09:24:34.538987Z",
     "iopub.status.idle": "2021-06-30T09:24:34.544626Z",
     "shell.execute_reply": "2021-06-30T09:24:34.544267Z"
    }
   },
   "outputs": [
    {
     "data": {
      "image/svg+xml": [
       "<?xml version=\"1.0\" encoding=\"UTF-8\" standalone=\"no\"?><svg xmlns=\"http://www.w3.org/2000/svg\" xmlns:xlink=\"http://www.w3.org/1999/xlink\" contentScriptType=\"application/ecmascript\" contentStyleType=\"text/css\" height=\"12px\" preserveAspectRatio=\"none\" style=\"width:12px;height:12px;\" version=\"1.1\" viewBox=\"0 0 12 12\" width=\"12px\" zoomAndPan=\"magnify\"><defs/><g><!--MD5=[72934c63077099a26744516a776b4749]\n",
       "@startuml\r\n",
       "skinparam ranksep 8\r\n",
       "skinparam linetype ortho\r\n",
       "skinparam monochrome true\r\n",
       "skinparam classbackgroundcolor white\r\n",
       "skinparam shadowing false\r\n",
       "skinparam wrapWidth 300\r\n",
       "hide circle\r\n",
       "\r\n",
       "@enduml\r\n",
       "\n",
       "PlantUML version 1.2020.13(Sat Jun 13 12:26:38 UTC 2020)\n",
       "(EPL source distribution)\n",
       "Java Runtime: OpenJDK Runtime Environment\n",
       "JVM: OpenJDK 64-Bit Server VM\n",
       "Default Encoding: UTF-8\n",
       "Language: en\n",
       "Country: null\n",
       "--></g></svg>"
      ]
     },
     "execution_count": 55,
     "metadata": {},
     "output_type": "execute_result"
    }
   ],
   "source": [
    "%viz --style=\"ORTHOLINE\" --view=\"Action\" \"MultiplicityTest\""
   ]
  },
  {
   "cell_type": "code",
   "execution_count": 56,
   "id": "5db66ac0",
   "metadata": {
    "execution": {
     "iopub.execute_input": "2021-06-30T09:24:34.595337Z",
     "iopub.status.busy": "2021-06-30T09:24:34.594872Z",
     "iopub.status.idle": "2021-06-30T09:24:34.647478Z",
     "shell.execute_reply": "2021-06-30T09:24:34.647098Z"
    }
   },
   "outputs": [
    {
     "data": {
      "image/svg+xml": [
       "<?xml version=\"1.0\" encoding=\"UTF-8\" standalone=\"no\"?><svg xmlns=\"http://www.w3.org/2000/svg\" xmlns:xlink=\"http://www.w3.org/1999/xlink\" contentScriptType=\"application/ecmascript\" contentStyleType=\"text/css\" height=\"263px\" preserveAspectRatio=\"none\" style=\"width:812px;height:263px;\" version=\"1.1\" viewBox=\"0 0 812 263\" width=\"812px\" zoomAndPan=\"magnify\"><defs/><g><!--MD5=[fbc87193dbaf4d95561dea2c320d4a47]\n",
       "cluster E1--><a href=\"psysml:d21f1d33-c8d8-4d7e-915c-a1dc21839292\" target=\"_top\" title=\"psysml:d21f1d33-c8d8-4d7e-915c-a1dc21839292\" xlink:actuate=\"onRequest\" xlink:href=\"psysml:d21f1d33-c8d8-4d7e-915c-a1dc21839292\" xlink:show=\"new\" xlink:title=\"psysml:d21f1d33-c8d8-4d7e-915c-a1dc21839292\" xlink:type=\"simple\"><polygon fill=\"#FFFFFF\" points=\"16,6,140,6,147,28.2969,790,28.2969,790,251,16,251,16,6\" style=\"stroke: #000000; stroke-width: 1.5;\"/><line style=\"stroke: #000000; stroke-width: 1.5;\" x1=\"16\" x2=\"147\" y1=\"28.2969\" y2=\"28.2969\"/><text fill=\"#000000\" font-family=\"sans-serif\" font-size=\"14\" font-weight=\"bold\" lengthAdjust=\"spacingAndGlyphs\" textLength=\"118\" x=\"20\" y=\"20.9951\">MultiplicityTest</text></a><!--MD5=[b4997ac47864f28c2f74865a473b2911]\n",
       "class E2--><a href=\"psysml:cfcc0fdc-4985-4a7c-8ed0-df1ec6a07f40\" target=\"_top\" title=\"psysml:cfcc0fdc-4985-4a7c-8ed0-df1ec6a07f40\" xlink:actuate=\"onRequest\" xlink:href=\"psysml:cfcc0fdc-4985-4a7c-8ed0-df1ec6a07f40\" xlink:show=\"new\" xlink:title=\"psysml:cfcc0fdc-4985-4a7c-8ed0-df1ec6a07f40\" xlink:type=\"simple\"><rect fill=\"#FFFFFF\" height=\"45.9375\" id=\"E2\" style=\"stroke: #383838; stroke-width: 1.5;\" width=\"66\" x=\"497\" y=\"189\"/><text fill=\"#000000\" font-family=\"sans-serif\" font-size=\"12\" font-style=\"italic\" lengthAdjust=\"spacingAndGlyphs\" textLength=\"64\" x=\"498\" y=\"205.1387\">«part def»</text><text fill=\"#000000\" font-family=\"sans-serif\" font-size=\"12\" lengthAdjust=\"spacingAndGlyphs\" textLength=\"8\" x=\"526\" y=\"219.1074\">P</text><line style=\"stroke: #383838; stroke-width: 1.5;\" x1=\"498\" x2=\"562\" y1=\"226.9375\" y2=\"226.9375\"/></a><!--MD5=[09b614a08d8cba4a07c9adeb5e0fee81]\n",
       "class E3--><a href=\"psysml:6504cd03-3352-435e-8e5a-44d60f096993\" target=\"_top\" title=\"psysml:6504cd03-3352-435e-8e5a-44d60f096993\" xlink:actuate=\"onRequest\" xlink:href=\"psysml:6504cd03-3352-435e-8e5a-44d60f096993\" xlink:show=\"new\" xlink:title=\"psysml:6504cd03-3352-435e-8e5a-44d60f096993\" xlink:type=\"simple\"><rect fill=\"#FFFFFF\" height=\"45.9375\" id=\"E3\" rx=\"10\" ry=\"10\" style=\"stroke: #383838; stroke-width: 1.5;\" width=\"71\" x=\"702.5\" y=\"62\"/><text fill=\"#000000\" font-family=\"sans-serif\" font-size=\"12\" font-style=\"italic\" lengthAdjust=\"spacingAndGlyphs\" textLength=\"69\" x=\"703.5\" y=\"78.1387\">«attribute»</text><text fill=\"#000000\" font-family=\"sans-serif\" font-size=\"12\" lengthAdjust=\"spacingAndGlyphs\" textLength=\"61\" x=\"707.5\" y=\"92.1074\">n: Integer</text><line style=\"stroke: #383838; stroke-width: 1.5;\" x1=\"703.5\" x2=\"772.5\" y1=\"99.9375\" y2=\"99.9375\"/></a><!--MD5=[ebbe1d658d1005bcc118a6aa81145e00]\n",
       "class E4--><a href=\"psysml:69df1372-c4de-42e4-b97b-1df20a9e4637\" target=\"_top\" title=\"psysml:69df1372-c4de-42e4-b97b-1df20a9e4637\" xlink:actuate=\"onRequest\" xlink:href=\"psysml:69df1372-c4de-42e4-b97b-1df20a9e4637\" xlink:show=\"new\" xlink:title=\"psysml:69df1372-c4de-42e4-b97b-1df20a9e4637\" xlink:type=\"simple\"><rect fill=\"#FFFFFF\" height=\"45.9375\" id=\"E4\" rx=\"10\" ry=\"10\" style=\"stroke: #383838; stroke-width: 1.5;\" width=\"42\" x=\"625\" y=\"62\"/><text fill=\"#000000\" font-family=\"sans-serif\" font-size=\"12\" font-style=\"italic\" lengthAdjust=\"spacingAndGlyphs\" textLength=\"40\" x=\"626\" y=\"78.1387\">«part»</text><text fill=\"#000000\" font-family=\"sans-serif\" font-size=\"12\" lengthAdjust=\"spacingAndGlyphs\" textLength=\"8\" x=\"642\" y=\"92.1074\">a</text><line style=\"stroke: #383838; stroke-width: 1.5;\" x1=\"626\" x2=\"666\" y1=\"99.9375\" y2=\"99.9375\"/></a><!--MD5=[270fce915f116d4de14055a7c1d9a0f3]\n",
       "class E5--><a href=\"psysml:ce135ed3-5db8-4159-aade-37d21406abf2\" target=\"_top\" title=\"psysml:ce135ed3-5db8-4159-aade-37d21406abf2\" xlink:actuate=\"onRequest\" xlink:href=\"psysml:ce135ed3-5db8-4159-aade-37d21406abf2\" xlink:show=\"new\" xlink:title=\"psysml:ce135ed3-5db8-4159-aade-37d21406abf2\" xlink:type=\"simple\"><rect fill=\"#FFFFFF\" height=\"45.9375\" id=\"E5\" rx=\"10\" ry=\"10\" style=\"stroke: #383838; stroke-width: 1.5;\" width=\"42\" x=\"548\" y=\"62\"/><text fill=\"#000000\" font-family=\"sans-serif\" font-size=\"12\" font-style=\"italic\" lengthAdjust=\"spacingAndGlyphs\" textLength=\"40\" x=\"549\" y=\"78.1387\">«part»</text><text fill=\"#000000\" font-family=\"sans-serif\" font-size=\"12\" lengthAdjust=\"spacingAndGlyphs\" textLength=\"24\" x=\"557\" y=\"92.1074\">b: P</text><line style=\"stroke: #383838; stroke-width: 1.5;\" x1=\"549\" x2=\"589\" y1=\"99.9375\" y2=\"99.9375\"/></a><!--MD5=[60a26617385b1d2d0262a64233df1f8d]\n",
       "class E6--><a href=\"psysml:7c20260d-33cb-4904-8feb-6f2059c0b9de\" target=\"_top\" title=\"psysml:7c20260d-33cb-4904-8feb-6f2059c0b9de\" xlink:actuate=\"onRequest\" xlink:href=\"psysml:7c20260d-33cb-4904-8feb-6f2059c0b9de\" xlink:show=\"new\" xlink:title=\"psysml:7c20260d-33cb-4904-8feb-6f2059c0b9de\" xlink:type=\"simple\"><rect fill=\"#FFFFFF\" height=\"45.9375\" id=\"E6\" rx=\"10\" ry=\"10\" style=\"stroke: #383838; stroke-width: 1.5;\" width=\"42\" x=\"471\" y=\"62\"/><text fill=\"#000000\" font-family=\"sans-serif\" font-size=\"12\" font-style=\"italic\" lengthAdjust=\"spacingAndGlyphs\" textLength=\"40\" x=\"472\" y=\"78.1387\">«part»</text><text fill=\"#000000\" font-family=\"sans-serif\" font-size=\"12\" lengthAdjust=\"spacingAndGlyphs\" textLength=\"23\" x=\"480.5\" y=\"92.1074\">c: P</text><line style=\"stroke: #383838; stroke-width: 1.5;\" x1=\"472\" x2=\"512\" y1=\"99.9375\" y2=\"99.9375\"/></a><!--MD5=[2156ba9850f5573cc1fc38a6a4b2f02b]\n",
       "class E7--><a href=\"psysml:a788bf26-d852-4daf-8a66-fd926f14abf3\" target=\"_top\" title=\"psysml:a788bf26-d852-4daf-8a66-fd926f14abf3\" xlink:actuate=\"onRequest\" xlink:href=\"psysml:a788bf26-d852-4daf-8a66-fd926f14abf3\" xlink:show=\"new\" xlink:title=\"psysml:a788bf26-d852-4daf-8a66-fd926f14abf3\" xlink:type=\"simple\"><rect fill=\"#FFFFFF\" height=\"45.9375\" id=\"E7\" rx=\"10\" ry=\"10\" style=\"stroke: #383838; stroke-width: 1.5;\" width=\"42\" x=\"394\" y=\"62\"/><text fill=\"#000000\" font-family=\"sans-serif\" font-size=\"12\" font-style=\"italic\" lengthAdjust=\"spacingAndGlyphs\" textLength=\"40\" x=\"395\" y=\"78.1387\">«part»</text><text fill=\"#000000\" font-family=\"sans-serif\" font-size=\"12\" lengthAdjust=\"spacingAndGlyphs\" textLength=\"8\" x=\"411\" y=\"92.1074\">d</text><line style=\"stroke: #383838; stroke-width: 1.5;\" x1=\"395\" x2=\"435\" y1=\"99.9375\" y2=\"99.9375\"/></a><!--MD5=[b9389687b975829384b498ac4b7476b2]\n",
       "class E8--><a href=\"psysml:8ca44daa-798d-42ea-8082-fded64fdb257\" target=\"_top\" title=\"psysml:8ca44daa-798d-42ea-8082-fded64fdb257\" xlink:actuate=\"onRequest\" xlink:href=\"psysml:8ca44daa-798d-42ea-8082-fded64fdb257\" xlink:show=\"new\" xlink:title=\"psysml:8ca44daa-798d-42ea-8082-fded64fdb257\" xlink:type=\"simple\"><rect fill=\"#FFFFFF\" height=\"45.9375\" id=\"E8\" rx=\"10\" ry=\"10\" style=\"stroke: #383838; stroke-width: 1.5;\" width=\"42\" x=\"317\" y=\"62\"/><text fill=\"#000000\" font-family=\"sans-serif\" font-size=\"12\" font-style=\"italic\" lengthAdjust=\"spacingAndGlyphs\" textLength=\"40\" x=\"318\" y=\"78.1387\">«part»</text><text fill=\"#000000\" font-family=\"sans-serif\" font-size=\"12\" lengthAdjust=\"spacingAndGlyphs\" textLength=\"8\" x=\"334\" y=\"92.1074\">e</text><line style=\"stroke: #383838; stroke-width: 1.5;\" x1=\"318\" x2=\"358\" y1=\"99.9375\" y2=\"99.9375\"/></a><!--MD5=[fd4143e9d270a159db93a4ea2a975926]\n",
       "class E9--><a href=\"psysml:94368454-840d-4091-abdb-e19ae5322c54\" target=\"_top\" title=\"psysml:94368454-840d-4091-abdb-e19ae5322c54\" xlink:actuate=\"onRequest\" xlink:href=\"psysml:94368454-840d-4091-abdb-e19ae5322c54\" xlink:show=\"new\" xlink:title=\"psysml:94368454-840d-4091-abdb-e19ae5322c54\" xlink:type=\"simple\"><rect fill=\"#FFFFFF\" height=\"45.9375\" id=\"E9\" rx=\"10\" ry=\"10\" style=\"stroke: #383838; stroke-width: 1.5;\" width=\"42\" x=\"240\" y=\"62\"/><text fill=\"#000000\" font-family=\"sans-serif\" font-size=\"12\" font-style=\"italic\" lengthAdjust=\"spacingAndGlyphs\" textLength=\"40\" x=\"241\" y=\"78.1387\">«part»</text><text fill=\"#000000\" font-family=\"sans-serif\" font-size=\"12\" lengthAdjust=\"spacingAndGlyphs\" textLength=\"4\" x=\"259\" y=\"92.1074\">f</text><line style=\"stroke: #383838; stroke-width: 1.5;\" x1=\"241\" x2=\"281\" y1=\"99.9375\" y2=\"99.9375\"/></a><!--MD5=[96f4274e9e20536e775497830990834d]\n",
       "class E10--><a href=\"psysml:8f8b3cba-ab00-4478-b69f-246a2e072be5\" target=\"_top\" title=\"psysml:8f8b3cba-ab00-4478-b69f-246a2e072be5\" xlink:actuate=\"onRequest\" xlink:href=\"psysml:8f8b3cba-ab00-4478-b69f-246a2e072be5\" xlink:show=\"new\" xlink:title=\"psysml:8f8b3cba-ab00-4478-b69f-246a2e072be5\" xlink:type=\"simple\"><rect fill=\"#FFFFFF\" height=\"45.9375\" id=\"E10\" rx=\"10\" ry=\"10\" style=\"stroke: #383838; stroke-width: 1.5;\" width=\"42\" x=\"163\" y=\"62\"/><text fill=\"#000000\" font-family=\"sans-serif\" font-size=\"12\" font-style=\"italic\" lengthAdjust=\"spacingAndGlyphs\" textLength=\"40\" x=\"164\" y=\"78.1387\">«part»</text><text fill=\"#000000\" font-family=\"sans-serif\" font-size=\"12\" lengthAdjust=\"spacingAndGlyphs\" textLength=\"8\" x=\"180\" y=\"92.1074\">g</text><line style=\"stroke: #383838; stroke-width: 1.5;\" x1=\"164\" x2=\"204\" y1=\"99.9375\" y2=\"99.9375\"/></a><!--MD5=[1dd1bfd58a279cf63c5f349dbc8fc6a1]\n",
       "class E11--><a href=\"psysml:2c45c451-c8b5-4e48-8592-55fa30d535c5\" target=\"_top\" title=\"psysml:2c45c451-c8b5-4e48-8592-55fa30d535c5\" xlink:actuate=\"onRequest\" xlink:href=\"psysml:2c45c451-c8b5-4e48-8592-55fa30d535c5\" xlink:show=\"new\" xlink:title=\"psysml:2c45c451-c8b5-4e48-8592-55fa30d535c5\" xlink:type=\"simple\"><rect fill=\"#FFFFFF\" height=\"88.3516\" id=\"E11\" style=\"stroke: #383838; stroke-width: 1.5;\" width=\"95\" x=\"32.5\" y=\"41\"/><text fill=\"#000000\" font-family=\"sans-serif\" font-size=\"12\" font-style=\"italic\" lengthAdjust=\"spacingAndGlyphs\" textLength=\"93\" x=\"33.5\" y=\"57.1387\">«attribute def»</text><text fill=\"#000000\" font-family=\"sans-serif\" font-size=\"12\" lengthAdjust=\"spacingAndGlyphs\" textLength=\"8\" x=\"76\" y=\"71.1074\">A</text><line style=\"stroke: #383838; stroke-width: 1.5;\" x1=\"33.5\" x2=\"126.5\" y1=\"78.9375\" y2=\"78.9375\"/><text fill=\"#000000\" font-family=\"sans-serif\" font-size=\"11\" lengthAdjust=\"spacingAndGlyphs\" textLength=\"51\" x=\"38.5\" y=\"109.9526\">i: Integer</text><text fill=\"#000000\" font-family=\"sans-serif\" font-size=\"11\" lengthAdjust=\"spacingAndGlyphs\" textLength=\"21\" x=\"38.5\" y=\"122.7573\">x: A</text><line style=\"stroke: #383838; stroke-width: 1.0;\" x1=\"33.5\" x2=\"52.5\" y1=\"93.3398\" y2=\"93.3398\"/><text fill=\"#000000\" font-family=\"sans-serif\" font-size=\"11\" lengthAdjust=\"spacingAndGlyphs\" textLength=\"55\" x=\"52.5\" y=\"96.6479\">attributes</text><line style=\"stroke: #383838; stroke-width: 1.0;\" x1=\"107.5\" x2=\"126.5\" y1=\"93.3398\" y2=\"93.3398\"/></a><!--MD5=[15ebcb19ae302d9b601edb458606d402]\n",
       "link E5 to E2--><a href=\"psysml:99c2055f-0301-4891-b65d-9e517e6365b1\" target=\"_top\" title=\"psysml:99c2055f-0301-4891-b65d-9e517e6365b1\" xlink:actuate=\"onRequest\" xlink:href=\"psysml:99c2055f-0301-4891-b65d-9e517e6365b1\" xlink:show=\"new\" xlink:title=\"psysml:99c2055f-0301-4891-b65d-9e517e6365b1\" xlink:type=\"simple\"><path d=\"M555.5,108.29 C555.5,108.29 555.5,168.85 555.5,168.85 \" fill=\"none\" id=\"E5-&gt;E2\" style=\"stroke: #383838; stroke-width: 1.0;\"/><polygon fill=\"#FFFFFF\" points=\"555.5,188.85,548.5,169.85,562.5,169.85,555.5,188.85\" style=\"stroke: #383838; stroke-width: 1.0;\"/><ellipse cx=\"550.5\" cy=\"164.15\" fill=\"#383838\" rx=\"2\" ry=\"2\" style=\"stroke: #383838; stroke-width: 1.0;\"/><ellipse cx=\"560.5\" cy=\"164.15\" fill=\"#383838\" rx=\"2\" ry=\"2\" style=\"stroke: #383838; stroke-width: 1.0;\"/></a><!--MD5=[2351f337d6de0f557b50152ba70847b5]\n",
       "link E6 to E2--><a href=\"psysml:035f6493-28ba-4968-b761-0ab46a395f55\" target=\"_top\" title=\"psysml:035f6493-28ba-4968-b761-0ab46a395f55\" xlink:actuate=\"onRequest\" xlink:href=\"psysml:035f6493-28ba-4968-b761-0ab46a395f55\" xlink:show=\"new\" xlink:title=\"psysml:035f6493-28ba-4968-b761-0ab46a395f55\" xlink:type=\"simple\"><path d=\"M505,108.29 C505,108.29 505,168.85 505,168.85 \" fill=\"none\" id=\"E6-&gt;E2\" style=\"stroke: #383838; stroke-width: 1.0;\"/><polygon fill=\"#FFFFFF\" points=\"505,188.85,498,169.85,512,169.85,505,188.85\" style=\"stroke: #383838; stroke-width: 1.0;\"/><ellipse cx=\"500\" cy=\"164.15\" fill=\"#383838\" rx=\"2\" ry=\"2\" style=\"stroke: #383838; stroke-width: 1.0;\"/><ellipse cx=\"510\" cy=\"164.15\" fill=\"#383838\" rx=\"2\" ry=\"2\" style=\"stroke: #383838; stroke-width: 1.0;\"/></a><!--MD5=[047fbb243451142322f41885016ae8fe]\n",
       "@startuml\r\n",
       "skinparam linetype ortho\r\n",
       "skinparam monochrome true\r\n",
       "skinparam classbackgroundcolor white\r\n",
       "skinparam shadowing false\r\n",
       "skinparam wrapWidth 300\r\n",
       "hide circle\r\n",
       "\r\n",
       "package \"MultiplicityTest\" as E1  [[psysml:d21f1d33-c8d8-4d7e-915c-a1dc21839292 ]]  {\r\n",
       "comp def \"P\" as E2  <<(T,blue) part def>> [[psysml:cfcc0fdc-4985-4a7c-8ed0-df1ec6a07f40 ]] {\r\n",
       "}\r\n",
       "comp usage \"n: Integer\" as E3  <<(T,blue) attribute>> [[psysml:6504cd03-3352-435e-8e5a-44d60f096993 ]] {\r\n",
       "}\r\n",
       "comp usage \"a\" as E4  <<(T,blue) part>> [[psysml:69df1372-c4de-42e4-b97b-1df20a9e4637 ]] {\r\n",
       "}\r\n",
       "comp usage \"b: P\" as E5  <<(T,blue) part>> [[psysml:ce135ed3-5db8-4159-aade-37d21406abf2 ]] {\r\n",
       "}\r\n",
       "comp usage \"c: P\" as E6  <<(T,blue) part>> [[psysml:7c20260d-33cb-4904-8feb-6f2059c0b9de ]] {\r\n",
       "}\r\n",
       "comp usage \"d\" as E7  <<(T,blue) part>> [[psysml:a788bf26-d852-4daf-8a66-fd926f14abf3 ]] {\r\n",
       "}\r\n",
       "comp usage \"e\" as E8  <<(T,blue) part>> [[psysml:8ca44daa-798d-42ea-8082-fded64fdb257 ]] {\r\n",
       "}\r\n",
       "comp usage \"f\" as E9  <<(T,blue) part>> [[psysml:94368454-840d-4091-abdb-e19ae5322c54 ]] {\r\n",
       "}\r\n",
       "comp usage \"g\" as E10  <<(T,blue) part>> [[psysml:8f8b3cba-ab00-4478-b69f-246a2e072be5 ]] {\r\n",
       "}\r\n",
       "comp def \"A\" as E11  <<(T,blue) attribute def>> [[psysml:2c45c451-c8b5-4e48-8592-55fa30d535c5 ]] {\r\n",
       "- - attributes - -\r\n",
       "i: Integer\r\n",
       "x: A\r\n",
       "}\r\n",
       "E5 - -:|> E2 [[psysml:99c2055f-0301-4891-b65d-9e517e6365b1 ]] \r\n",
       "E6 - -:|> E2 [[psysml:035f6493-28ba-4968-b761-0ab46a395f55 ]] \r\n",
       "}\r\n",
       "@enduml\r\n",
       "\n",
       "PlantUML version 1.2020.13(Sat Jun 13 12:26:38 UTC 2020)\n",
       "(EPL source distribution)\n",
       "Java Runtime: OpenJDK Runtime Environment\n",
       "JVM: OpenJDK 64-Bit Server VM\n",
       "Default Encoding: UTF-8\n",
       "Language: en\n",
       "Country: null\n",
       "--></g></svg>"
      ]
     },
     "execution_count": 56,
     "metadata": {},
     "output_type": "execute_result"
    }
   ],
   "source": [
    "%viz --style=\"ORTHOLINE\" --view=\"Sequence\" \"MultiplicityTest\""
   ]
  },
  {
   "cell_type": "code",
   "execution_count": 57,
   "id": "dd94d245",
   "metadata": {
    "execution": {
     "iopub.execute_input": "2021-06-30T09:24:34.697363Z",
     "iopub.status.busy": "2021-06-30T09:24:34.696970Z",
     "iopub.status.idle": "2021-06-30T09:24:34.753804Z",
     "shell.execute_reply": "2021-06-30T09:24:34.752130Z"
    }
   },
   "outputs": [
    {
     "data": {
      "image/svg+xml": [
       "<?xml version=\"1.0\" encoding=\"UTF-8\" standalone=\"no\"?><svg xmlns=\"http://www.w3.org/2000/svg\" xmlns:xlink=\"http://www.w3.org/1999/xlink\" contentScriptType=\"application/ecmascript\" contentStyleType=\"text/css\" height=\"263px\" preserveAspectRatio=\"none\" style=\"width:812px;height:263px;\" version=\"1.1\" viewBox=\"0 0 812 263\" width=\"812px\" zoomAndPan=\"magnify\"><defs/><g><!--MD5=[fbc87193dbaf4d95561dea2c320d4a47]\n",
       "cluster E1--><a href=\"psysml:d21f1d33-c8d8-4d7e-915c-a1dc21839292\" target=\"_top\" title=\"psysml:d21f1d33-c8d8-4d7e-915c-a1dc21839292\" xlink:actuate=\"onRequest\" xlink:href=\"psysml:d21f1d33-c8d8-4d7e-915c-a1dc21839292\" xlink:show=\"new\" xlink:title=\"psysml:d21f1d33-c8d8-4d7e-915c-a1dc21839292\" xlink:type=\"simple\"><polygon fill=\"#FFFFFF\" points=\"16,6,140,6,147,28.2969,790,28.2969,790,251,16,251,16,6\" style=\"stroke: #000000; stroke-width: 1.5;\"/><line style=\"stroke: #000000; stroke-width: 1.5;\" x1=\"16\" x2=\"147\" y1=\"28.2969\" y2=\"28.2969\"/><text fill=\"#000000\" font-family=\"sans-serif\" font-size=\"14\" font-weight=\"bold\" lengthAdjust=\"spacingAndGlyphs\" textLength=\"118\" x=\"20\" y=\"20.9951\">MultiplicityTest</text></a><!--MD5=[b4997ac47864f28c2f74865a473b2911]\n",
       "class E2--><a href=\"psysml:cfcc0fdc-4985-4a7c-8ed0-df1ec6a07f40\" target=\"_top\" title=\"psysml:cfcc0fdc-4985-4a7c-8ed0-df1ec6a07f40\" xlink:actuate=\"onRequest\" xlink:href=\"psysml:cfcc0fdc-4985-4a7c-8ed0-df1ec6a07f40\" xlink:show=\"new\" xlink:title=\"psysml:cfcc0fdc-4985-4a7c-8ed0-df1ec6a07f40\" xlink:type=\"simple\"><rect fill=\"#FFFFFF\" height=\"45.9375\" id=\"E2\" style=\"stroke: #383838; stroke-width: 1.5;\" width=\"66\" x=\"497\" y=\"189\"/><text fill=\"#000000\" font-family=\"sans-serif\" font-size=\"12\" font-style=\"italic\" lengthAdjust=\"spacingAndGlyphs\" textLength=\"64\" x=\"498\" y=\"205.1387\">«part def»</text><text fill=\"#000000\" font-family=\"sans-serif\" font-size=\"12\" lengthAdjust=\"spacingAndGlyphs\" textLength=\"8\" x=\"526\" y=\"219.1074\">P</text><line style=\"stroke: #383838; stroke-width: 1.5;\" x1=\"498\" x2=\"562\" y1=\"226.9375\" y2=\"226.9375\"/></a><!--MD5=[09b614a08d8cba4a07c9adeb5e0fee81]\n",
       "class E3--><a href=\"psysml:6504cd03-3352-435e-8e5a-44d60f096993\" target=\"_top\" title=\"psysml:6504cd03-3352-435e-8e5a-44d60f096993\" xlink:actuate=\"onRequest\" xlink:href=\"psysml:6504cd03-3352-435e-8e5a-44d60f096993\" xlink:show=\"new\" xlink:title=\"psysml:6504cd03-3352-435e-8e5a-44d60f096993\" xlink:type=\"simple\"><rect fill=\"#FFFFFF\" height=\"45.9375\" id=\"E3\" rx=\"10\" ry=\"10\" style=\"stroke: #383838; stroke-width: 1.5;\" width=\"71\" x=\"702.5\" y=\"62\"/><text fill=\"#000000\" font-family=\"sans-serif\" font-size=\"12\" font-style=\"italic\" lengthAdjust=\"spacingAndGlyphs\" textLength=\"69\" x=\"703.5\" y=\"78.1387\">«attribute»</text><text fill=\"#000000\" font-family=\"sans-serif\" font-size=\"12\" lengthAdjust=\"spacingAndGlyphs\" textLength=\"61\" x=\"707.5\" y=\"92.1074\">n: Integer</text><line style=\"stroke: #383838; stroke-width: 1.5;\" x1=\"703.5\" x2=\"772.5\" y1=\"99.9375\" y2=\"99.9375\"/></a><!--MD5=[ebbe1d658d1005bcc118a6aa81145e00]\n",
       "class E4--><a href=\"psysml:69df1372-c4de-42e4-b97b-1df20a9e4637\" target=\"_top\" title=\"psysml:69df1372-c4de-42e4-b97b-1df20a9e4637\" xlink:actuate=\"onRequest\" xlink:href=\"psysml:69df1372-c4de-42e4-b97b-1df20a9e4637\" xlink:show=\"new\" xlink:title=\"psysml:69df1372-c4de-42e4-b97b-1df20a9e4637\" xlink:type=\"simple\"><rect fill=\"#FFFFFF\" height=\"45.9375\" id=\"E4\" rx=\"10\" ry=\"10\" style=\"stroke: #383838; stroke-width: 1.5;\" width=\"42\" x=\"625\" y=\"62\"/><text fill=\"#000000\" font-family=\"sans-serif\" font-size=\"12\" font-style=\"italic\" lengthAdjust=\"spacingAndGlyphs\" textLength=\"40\" x=\"626\" y=\"78.1387\">«part»</text><text fill=\"#000000\" font-family=\"sans-serif\" font-size=\"12\" lengthAdjust=\"spacingAndGlyphs\" textLength=\"8\" x=\"642\" y=\"92.1074\">a</text><line style=\"stroke: #383838; stroke-width: 1.5;\" x1=\"626\" x2=\"666\" y1=\"99.9375\" y2=\"99.9375\"/></a><!--MD5=[270fce915f116d4de14055a7c1d9a0f3]\n",
       "class E5--><a href=\"psysml:ce135ed3-5db8-4159-aade-37d21406abf2\" target=\"_top\" title=\"psysml:ce135ed3-5db8-4159-aade-37d21406abf2\" xlink:actuate=\"onRequest\" xlink:href=\"psysml:ce135ed3-5db8-4159-aade-37d21406abf2\" xlink:show=\"new\" xlink:title=\"psysml:ce135ed3-5db8-4159-aade-37d21406abf2\" xlink:type=\"simple\"><rect fill=\"#FFFFFF\" height=\"45.9375\" id=\"E5\" rx=\"10\" ry=\"10\" style=\"stroke: #383838; stroke-width: 1.5;\" width=\"42\" x=\"548\" y=\"62\"/><text fill=\"#000000\" font-family=\"sans-serif\" font-size=\"12\" font-style=\"italic\" lengthAdjust=\"spacingAndGlyphs\" textLength=\"40\" x=\"549\" y=\"78.1387\">«part»</text><text fill=\"#000000\" font-family=\"sans-serif\" font-size=\"12\" lengthAdjust=\"spacingAndGlyphs\" textLength=\"24\" x=\"557\" y=\"92.1074\">b: P</text><line style=\"stroke: #383838; stroke-width: 1.5;\" x1=\"549\" x2=\"589\" y1=\"99.9375\" y2=\"99.9375\"/></a><!--MD5=[60a26617385b1d2d0262a64233df1f8d]\n",
       "class E6--><a href=\"psysml:7c20260d-33cb-4904-8feb-6f2059c0b9de\" target=\"_top\" title=\"psysml:7c20260d-33cb-4904-8feb-6f2059c0b9de\" xlink:actuate=\"onRequest\" xlink:href=\"psysml:7c20260d-33cb-4904-8feb-6f2059c0b9de\" xlink:show=\"new\" xlink:title=\"psysml:7c20260d-33cb-4904-8feb-6f2059c0b9de\" xlink:type=\"simple\"><rect fill=\"#FFFFFF\" height=\"45.9375\" id=\"E6\" rx=\"10\" ry=\"10\" style=\"stroke: #383838; stroke-width: 1.5;\" width=\"42\" x=\"471\" y=\"62\"/><text fill=\"#000000\" font-family=\"sans-serif\" font-size=\"12\" font-style=\"italic\" lengthAdjust=\"spacingAndGlyphs\" textLength=\"40\" x=\"472\" y=\"78.1387\">«part»</text><text fill=\"#000000\" font-family=\"sans-serif\" font-size=\"12\" lengthAdjust=\"spacingAndGlyphs\" textLength=\"23\" x=\"480.5\" y=\"92.1074\">c: P</text><line style=\"stroke: #383838; stroke-width: 1.5;\" x1=\"472\" x2=\"512\" y1=\"99.9375\" y2=\"99.9375\"/></a><!--MD5=[2156ba9850f5573cc1fc38a6a4b2f02b]\n",
       "class E7--><a href=\"psysml:a788bf26-d852-4daf-8a66-fd926f14abf3\" target=\"_top\" title=\"psysml:a788bf26-d852-4daf-8a66-fd926f14abf3\" xlink:actuate=\"onRequest\" xlink:href=\"psysml:a788bf26-d852-4daf-8a66-fd926f14abf3\" xlink:show=\"new\" xlink:title=\"psysml:a788bf26-d852-4daf-8a66-fd926f14abf3\" xlink:type=\"simple\"><rect fill=\"#FFFFFF\" height=\"45.9375\" id=\"E7\" rx=\"10\" ry=\"10\" style=\"stroke: #383838; stroke-width: 1.5;\" width=\"42\" x=\"394\" y=\"62\"/><text fill=\"#000000\" font-family=\"sans-serif\" font-size=\"12\" font-style=\"italic\" lengthAdjust=\"spacingAndGlyphs\" textLength=\"40\" x=\"395\" y=\"78.1387\">«part»</text><text fill=\"#000000\" font-family=\"sans-serif\" font-size=\"12\" lengthAdjust=\"spacingAndGlyphs\" textLength=\"8\" x=\"411\" y=\"92.1074\">d</text><line style=\"stroke: #383838; stroke-width: 1.5;\" x1=\"395\" x2=\"435\" y1=\"99.9375\" y2=\"99.9375\"/></a><!--MD5=[b9389687b975829384b498ac4b7476b2]\n",
       "class E8--><a href=\"psysml:8ca44daa-798d-42ea-8082-fded64fdb257\" target=\"_top\" title=\"psysml:8ca44daa-798d-42ea-8082-fded64fdb257\" xlink:actuate=\"onRequest\" xlink:href=\"psysml:8ca44daa-798d-42ea-8082-fded64fdb257\" xlink:show=\"new\" xlink:title=\"psysml:8ca44daa-798d-42ea-8082-fded64fdb257\" xlink:type=\"simple\"><rect fill=\"#FFFFFF\" height=\"45.9375\" id=\"E8\" rx=\"10\" ry=\"10\" style=\"stroke: #383838; stroke-width: 1.5;\" width=\"42\" x=\"317\" y=\"62\"/><text fill=\"#000000\" font-family=\"sans-serif\" font-size=\"12\" font-style=\"italic\" lengthAdjust=\"spacingAndGlyphs\" textLength=\"40\" x=\"318\" y=\"78.1387\">«part»</text><text fill=\"#000000\" font-family=\"sans-serif\" font-size=\"12\" lengthAdjust=\"spacingAndGlyphs\" textLength=\"8\" x=\"334\" y=\"92.1074\">e</text><line style=\"stroke: #383838; stroke-width: 1.5;\" x1=\"318\" x2=\"358\" y1=\"99.9375\" y2=\"99.9375\"/></a><!--MD5=[fd4143e9d270a159db93a4ea2a975926]\n",
       "class E9--><a href=\"psysml:94368454-840d-4091-abdb-e19ae5322c54\" target=\"_top\" title=\"psysml:94368454-840d-4091-abdb-e19ae5322c54\" xlink:actuate=\"onRequest\" xlink:href=\"psysml:94368454-840d-4091-abdb-e19ae5322c54\" xlink:show=\"new\" xlink:title=\"psysml:94368454-840d-4091-abdb-e19ae5322c54\" xlink:type=\"simple\"><rect fill=\"#FFFFFF\" height=\"45.9375\" id=\"E9\" rx=\"10\" ry=\"10\" style=\"stroke: #383838; stroke-width: 1.5;\" width=\"42\" x=\"240\" y=\"62\"/><text fill=\"#000000\" font-family=\"sans-serif\" font-size=\"12\" font-style=\"italic\" lengthAdjust=\"spacingAndGlyphs\" textLength=\"40\" x=\"241\" y=\"78.1387\">«part»</text><text fill=\"#000000\" font-family=\"sans-serif\" font-size=\"12\" lengthAdjust=\"spacingAndGlyphs\" textLength=\"4\" x=\"259\" y=\"92.1074\">f</text><line style=\"stroke: #383838; stroke-width: 1.5;\" x1=\"241\" x2=\"281\" y1=\"99.9375\" y2=\"99.9375\"/></a><!--MD5=[96f4274e9e20536e775497830990834d]\n",
       "class E10--><a href=\"psysml:8f8b3cba-ab00-4478-b69f-246a2e072be5\" target=\"_top\" title=\"psysml:8f8b3cba-ab00-4478-b69f-246a2e072be5\" xlink:actuate=\"onRequest\" xlink:href=\"psysml:8f8b3cba-ab00-4478-b69f-246a2e072be5\" xlink:show=\"new\" xlink:title=\"psysml:8f8b3cba-ab00-4478-b69f-246a2e072be5\" xlink:type=\"simple\"><rect fill=\"#FFFFFF\" height=\"45.9375\" id=\"E10\" rx=\"10\" ry=\"10\" style=\"stroke: #383838; stroke-width: 1.5;\" width=\"42\" x=\"163\" y=\"62\"/><text fill=\"#000000\" font-family=\"sans-serif\" font-size=\"12\" font-style=\"italic\" lengthAdjust=\"spacingAndGlyphs\" textLength=\"40\" x=\"164\" y=\"78.1387\">«part»</text><text fill=\"#000000\" font-family=\"sans-serif\" font-size=\"12\" lengthAdjust=\"spacingAndGlyphs\" textLength=\"8\" x=\"180\" y=\"92.1074\">g</text><line style=\"stroke: #383838; stroke-width: 1.5;\" x1=\"164\" x2=\"204\" y1=\"99.9375\" y2=\"99.9375\"/></a><!--MD5=[1dd1bfd58a279cf63c5f349dbc8fc6a1]\n",
       "class E11--><a href=\"psysml:2c45c451-c8b5-4e48-8592-55fa30d535c5\" target=\"_top\" title=\"psysml:2c45c451-c8b5-4e48-8592-55fa30d535c5\" xlink:actuate=\"onRequest\" xlink:href=\"psysml:2c45c451-c8b5-4e48-8592-55fa30d535c5\" xlink:show=\"new\" xlink:title=\"psysml:2c45c451-c8b5-4e48-8592-55fa30d535c5\" xlink:type=\"simple\"><rect fill=\"#FFFFFF\" height=\"88.3516\" id=\"E11\" style=\"stroke: #383838; stroke-width: 1.5;\" width=\"95\" x=\"32.5\" y=\"41\"/><text fill=\"#000000\" font-family=\"sans-serif\" font-size=\"12\" font-style=\"italic\" lengthAdjust=\"spacingAndGlyphs\" textLength=\"93\" x=\"33.5\" y=\"57.1387\">«attribute def»</text><text fill=\"#000000\" font-family=\"sans-serif\" font-size=\"12\" lengthAdjust=\"spacingAndGlyphs\" textLength=\"8\" x=\"76\" y=\"71.1074\">A</text><line style=\"stroke: #383838; stroke-width: 1.5;\" x1=\"33.5\" x2=\"126.5\" y1=\"78.9375\" y2=\"78.9375\"/><text fill=\"#000000\" font-family=\"sans-serif\" font-size=\"11\" lengthAdjust=\"spacingAndGlyphs\" textLength=\"51\" x=\"38.5\" y=\"109.9526\">i: Integer</text><text fill=\"#000000\" font-family=\"sans-serif\" font-size=\"11\" lengthAdjust=\"spacingAndGlyphs\" textLength=\"21\" x=\"38.5\" y=\"122.7573\">x: A</text><line style=\"stroke: #383838; stroke-width: 1.0;\" x1=\"33.5\" x2=\"52.5\" y1=\"93.3398\" y2=\"93.3398\"/><text fill=\"#000000\" font-family=\"sans-serif\" font-size=\"11\" lengthAdjust=\"spacingAndGlyphs\" textLength=\"55\" x=\"52.5\" y=\"96.6479\">attributes</text><line style=\"stroke: #383838; stroke-width: 1.0;\" x1=\"107.5\" x2=\"126.5\" y1=\"93.3398\" y2=\"93.3398\"/></a><!--MD5=[15ebcb19ae302d9b601edb458606d402]\n",
       "link E5 to E2--><a href=\"psysml:99c2055f-0301-4891-b65d-9e517e6365b1\" target=\"_top\" title=\"psysml:99c2055f-0301-4891-b65d-9e517e6365b1\" xlink:actuate=\"onRequest\" xlink:href=\"psysml:99c2055f-0301-4891-b65d-9e517e6365b1\" xlink:show=\"new\" xlink:title=\"psysml:99c2055f-0301-4891-b65d-9e517e6365b1\" xlink:type=\"simple\"><path d=\"M555.5,108.29 C555.5,108.29 555.5,168.85 555.5,168.85 \" fill=\"none\" id=\"E5-&gt;E2\" style=\"stroke: #383838; stroke-width: 1.0;\"/><polygon fill=\"#FFFFFF\" points=\"555.5,188.85,548.5,169.85,562.5,169.85,555.5,188.85\" style=\"stroke: #383838; stroke-width: 1.0;\"/><ellipse cx=\"550.5\" cy=\"164.15\" fill=\"#383838\" rx=\"2\" ry=\"2\" style=\"stroke: #383838; stroke-width: 1.0;\"/><ellipse cx=\"560.5\" cy=\"164.15\" fill=\"#383838\" rx=\"2\" ry=\"2\" style=\"stroke: #383838; stroke-width: 1.0;\"/></a><!--MD5=[2351f337d6de0f557b50152ba70847b5]\n",
       "link E6 to E2--><a href=\"psysml:035f6493-28ba-4968-b761-0ab46a395f55\" target=\"_top\" title=\"psysml:035f6493-28ba-4968-b761-0ab46a395f55\" xlink:actuate=\"onRequest\" xlink:href=\"psysml:035f6493-28ba-4968-b761-0ab46a395f55\" xlink:show=\"new\" xlink:title=\"psysml:035f6493-28ba-4968-b761-0ab46a395f55\" xlink:type=\"simple\"><path d=\"M505,108.29 C505,108.29 505,168.85 505,168.85 \" fill=\"none\" id=\"E6-&gt;E2\" style=\"stroke: #383838; stroke-width: 1.0;\"/><polygon fill=\"#FFFFFF\" points=\"505,188.85,498,169.85,512,169.85,505,188.85\" style=\"stroke: #383838; stroke-width: 1.0;\"/><ellipse cx=\"500\" cy=\"164.15\" fill=\"#383838\" rx=\"2\" ry=\"2\" style=\"stroke: #383838; stroke-width: 1.0;\"/><ellipse cx=\"510\" cy=\"164.15\" fill=\"#383838\" rx=\"2\" ry=\"2\" style=\"stroke: #383838; stroke-width: 1.0;\"/></a><!--MD5=[047fbb243451142322f41885016ae8fe]\n",
       "@startuml\r\n",
       "skinparam linetype ortho\r\n",
       "skinparam monochrome true\r\n",
       "skinparam classbackgroundcolor white\r\n",
       "skinparam shadowing false\r\n",
       "skinparam wrapWidth 300\r\n",
       "hide circle\r\n",
       "\r\n",
       "package \"MultiplicityTest\" as E1  [[psysml:d21f1d33-c8d8-4d7e-915c-a1dc21839292 ]]  {\r\n",
       "comp def \"P\" as E2  <<(T,blue) part def>> [[psysml:cfcc0fdc-4985-4a7c-8ed0-df1ec6a07f40 ]] {\r\n",
       "}\r\n",
       "comp usage \"n: Integer\" as E3  <<(T,blue) attribute>> [[psysml:6504cd03-3352-435e-8e5a-44d60f096993 ]] {\r\n",
       "}\r\n",
       "comp usage \"a\" as E4  <<(T,blue) part>> [[psysml:69df1372-c4de-42e4-b97b-1df20a9e4637 ]] {\r\n",
       "}\r\n",
       "comp usage \"b: P\" as E5  <<(T,blue) part>> [[psysml:ce135ed3-5db8-4159-aade-37d21406abf2 ]] {\r\n",
       "}\r\n",
       "comp usage \"c: P\" as E6  <<(T,blue) part>> [[psysml:7c20260d-33cb-4904-8feb-6f2059c0b9de ]] {\r\n",
       "}\r\n",
       "comp usage \"d\" as E7  <<(T,blue) part>> [[psysml:a788bf26-d852-4daf-8a66-fd926f14abf3 ]] {\r\n",
       "}\r\n",
       "comp usage \"e\" as E8  <<(T,blue) part>> [[psysml:8ca44daa-798d-42ea-8082-fded64fdb257 ]] {\r\n",
       "}\r\n",
       "comp usage \"f\" as E9  <<(T,blue) part>> [[psysml:94368454-840d-4091-abdb-e19ae5322c54 ]] {\r\n",
       "}\r\n",
       "comp usage \"g\" as E10  <<(T,blue) part>> [[psysml:8f8b3cba-ab00-4478-b69f-246a2e072be5 ]] {\r\n",
       "}\r\n",
       "comp def \"A\" as E11  <<(T,blue) attribute def>> [[psysml:2c45c451-c8b5-4e48-8592-55fa30d535c5 ]] {\r\n",
       "- - attributes - -\r\n",
       "i: Integer\r\n",
       "x: A\r\n",
       "}\r\n",
       "E5 - -:|> E2 [[psysml:99c2055f-0301-4891-b65d-9e517e6365b1 ]] \r\n",
       "E6 - -:|> E2 [[psysml:035f6493-28ba-4968-b761-0ab46a395f55 ]] \r\n",
       "}\r\n",
       "@enduml\r\n",
       "\n",
       "PlantUML version 1.2020.13(Sat Jun 13 12:26:38 UTC 2020)\n",
       "(EPL source distribution)\n",
       "Java Runtime: OpenJDK Runtime Environment\n",
       "JVM: OpenJDK 64-Bit Server VM\n",
       "Default Encoding: UTF-8\n",
       "Language: en\n",
       "Country: null\n",
       "--></g></svg>"
      ]
     },
     "execution_count": 57,
     "metadata": {},
     "output_type": "execute_result"
    }
   ],
   "source": [
    "%viz --style=\"ORTHOLINE\" --view=\"MIXED\" \"MultiplicityTest\""
   ]
  }
 ],
 "metadata": {
  "kernelspec": {
   "display_name": "SysML",
   "language": "sysml",
   "name": "sysml"
  },
  "language_info": {
   "codemirror_mode": "sysml",
   "file_extension": ".sysml",
   "mimetype": "text/x-sysml",
   "name": "SysML",
   "pygments_lexer": "java",
   "version": "1.0.0"
  }
 },
 "nbformat": 4,
 "nbformat_minor": 5
}
