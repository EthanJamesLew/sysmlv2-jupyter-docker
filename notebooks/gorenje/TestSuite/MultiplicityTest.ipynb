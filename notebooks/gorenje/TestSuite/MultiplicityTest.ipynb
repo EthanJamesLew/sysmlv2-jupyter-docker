{
 "cells": [
  {
   "cell_type": "markdown",
   "id": "6417694d",
   "metadata": {},
   "source": [
    "# SysML v2 Test Suite\n",
    "\n",
    "This can notebook can be cleared using menu `Edit --> Clear All Outputs` and then all cells can be\n",
    "run using menu `Run --> Run All Cells`.\n",
    "\n",
    "**WARNING**: This file is generated, all modifications here will be ignored.\n"
   ]
  },
  {
   "cell_type": "markdown",
   "id": "bb7d8210",
   "metadata": {},
   "source": [
    "## File: ../../sysml/src/examples/Simple Tests/MultiplicityTest.sysml"
   ]
  },
  {
   "cell_type": "code",
   "execution_count": 1,
   "id": "dc160f55",
   "metadata": {
    "execution": {
     "iopub.execute_input": "2021-10-03T08:30:17.644011Z",
     "iopub.status.busy": "2021-10-03T08:30:17.642598Z",
     "iopub.status.idle": "2021-10-03T08:30:17.914508Z",
     "shell.execute_reply": "2021-10-03T08:30:17.914842Z"
    }
   },
   "outputs": [
    {
     "data": {
      "text/plain": [
       "Package MultiplicityTest (5ca681dd-ee33-4a99-aaee-9be1a4633ca6)\n"
      ]
     },
     "execution_count": 1,
     "metadata": {},
     "output_type": "execute_result"
    }
   ],
   "source": [
    "package MultiplicityTest {\n",
    "\t\n",
    "\tpart def P;\n",
    "\tattribute n : ScalarValues::Integer = 5;\n",
    "\t\n",
    "\tpart a[1];\n",
    "\tpart b[0..2] : P;\n",
    "\tpart c : P[2..*];\n",
    "\tpart d[*];\n",
    "\t\n",
    "\tpart e[n];\n",
    "\tpart f[n..*];\n",
    "\tpart g[1..n];\n",
    "\n",
    "\tattribute def A {\n",
    "\t\tattribute i :ScalarValues::Integer;\n",
    "\t\tattribute x : A[i];\n",
    "\t}\n",
    "}"
   ]
  },
  {
   "cell_type": "code",
   "execution_count": 2,
   "id": "cb215f3f",
   "metadata": {
    "execution": {
     "iopub.execute_input": "2021-10-03T08:30:17.964923Z",
     "iopub.status.busy": "2021-10-03T08:30:17.964492Z",
     "iopub.status.idle": "2021-10-03T08:30:18.426489Z",
     "shell.execute_reply": "2021-10-03T08:30:18.424501Z"
    }
   },
   "outputs": [
    {
     "data": {
      "image/svg+xml": [
       "<?xml version=\"1.0\" encoding=\"UTF-8\" standalone=\"no\"?><svg xmlns=\"http://www.w3.org/2000/svg\" xmlns:xlink=\"http://www.w3.org/1999/xlink\" contentScriptType=\"application/ecmascript\" contentStyleType=\"text/css\" height=\"263px\" preserveAspectRatio=\"none\" style=\"width:812px;height:263px;\" version=\"1.1\" viewBox=\"0 0 812 263\" width=\"812px\" zoomAndPan=\"magnify\"><defs/><g><!--MD5=[fbc87193dbaf4d95561dea2c320d4a47]\n",
       "cluster E1--><a href=\"psysml:917c8e98-308c-4a57-bedc-72bb13927275\" target=\"_top\" title=\"psysml:917c8e98-308c-4a57-bedc-72bb13927275\" xlink:actuate=\"onRequest\" xlink:href=\"psysml:917c8e98-308c-4a57-bedc-72bb13927275\" xlink:show=\"new\" xlink:title=\"psysml:917c8e98-308c-4a57-bedc-72bb13927275\" xlink:type=\"simple\"><polygon fill=\"#FFFFFF\" points=\"16,6,123,6,130,28.2969,790,28.2969,790,251,16,251,16,6\" style=\"stroke: #000000; stroke-width: 1.5;\"/><line style=\"stroke: #000000; stroke-width: 1.5;\" x1=\"16\" x2=\"130\" y1=\"28.2969\" y2=\"28.2969\"/><text fill=\"#000000\" font-family=\"sans-serif\" font-size=\"14\" font-weight=\"bold\" lengthAdjust=\"spacingAndGlyphs\" textLength=\"101\" x=\"20\" y=\"20.9951\">MultiplicityTest</text></a><!--MD5=[b4997ac47864f28c2f74865a473b2911]\n",
       "class E2--><a href=\"psysml:1b8e2ab6-001b-4483-8406-5463ddd95a77\" target=\"_top\" title=\"psysml:1b8e2ab6-001b-4483-8406-5463ddd95a77\" xlink:actuate=\"onRequest\" xlink:href=\"psysml:1b8e2ab6-001b-4483-8406-5463ddd95a77\" xlink:show=\"new\" xlink:title=\"psysml:1b8e2ab6-001b-4483-8406-5463ddd95a77\" xlink:type=\"simple\"><rect fill=\"#FFFFFF\" height=\"45.9375\" id=\"E2\" style=\"stroke: #383838; stroke-width: 1.5;\" width=\"66\" x=\"497\" y=\"189\"/><text fill=\"#000000\" font-family=\"sans-serif\" font-size=\"12\" font-style=\"italic\" lengthAdjust=\"spacingAndGlyphs\" textLength=\"64\" x=\"498\" y=\"205.1387\">«part def»</text><text fill=\"#000000\" font-family=\"sans-serif\" font-size=\"12\" lengthAdjust=\"spacingAndGlyphs\" textLength=\"8\" x=\"526\" y=\"219.1074\">P</text><line style=\"stroke: #383838; stroke-width: 1.5;\" x1=\"498\" x2=\"562\" y1=\"226.9375\" y2=\"226.9375\"/></a><!--MD5=[09b614a08d8cba4a07c9adeb5e0fee81]\n",
       "class E3--><a href=\"psysml:d0e8f829-c575-44a2-9ede-b108238de40c\" target=\"_top\" title=\"psysml:d0e8f829-c575-44a2-9ede-b108238de40c\" xlink:actuate=\"onRequest\" xlink:href=\"psysml:d0e8f829-c575-44a2-9ede-b108238de40c\" xlink:show=\"new\" xlink:title=\"psysml:d0e8f829-c575-44a2-9ede-b108238de40c\" xlink:type=\"simple\"><rect fill=\"#FFFFFF\" height=\"45.9375\" id=\"E3\" rx=\"10\" ry=\"10\" style=\"stroke: #383838; stroke-width: 1.5;\" width=\"71\" x=\"702.5\" y=\"62\"/><text fill=\"#000000\" font-family=\"sans-serif\" font-size=\"12\" font-style=\"italic\" lengthAdjust=\"spacingAndGlyphs\" textLength=\"69\" x=\"703.5\" y=\"78.1387\">«attribute»</text><text fill=\"#000000\" font-family=\"sans-serif\" font-size=\"12\" lengthAdjust=\"spacingAndGlyphs\" textLength=\"61\" x=\"707.5\" y=\"92.1074\">n: Integer</text><line style=\"stroke: #383838; stroke-width: 1.5;\" x1=\"703.5\" x2=\"772.5\" y1=\"99.9375\" y2=\"99.9375\"/></a><!--MD5=[ebbe1d658d1005bcc118a6aa81145e00]\n",
       "class E4--><a href=\"psysml:2de2cbdc-62e6-485a-a7d2-bee7f587f60d\" target=\"_top\" title=\"psysml:2de2cbdc-62e6-485a-a7d2-bee7f587f60d\" xlink:actuate=\"onRequest\" xlink:href=\"psysml:2de2cbdc-62e6-485a-a7d2-bee7f587f60d\" xlink:show=\"new\" xlink:title=\"psysml:2de2cbdc-62e6-485a-a7d2-bee7f587f60d\" xlink:type=\"simple\"><rect fill=\"#FFFFFF\" height=\"45.9375\" id=\"E4\" rx=\"10\" ry=\"10\" style=\"stroke: #383838; stroke-width: 1.5;\" width=\"42\" x=\"625\" y=\"62\"/><text fill=\"#000000\" font-family=\"sans-serif\" font-size=\"12\" font-style=\"italic\" lengthAdjust=\"spacingAndGlyphs\" textLength=\"40\" x=\"626\" y=\"78.1387\">«part»</text><text fill=\"#000000\" font-family=\"sans-serif\" font-size=\"12\" lengthAdjust=\"spacingAndGlyphs\" textLength=\"8\" x=\"642\" y=\"92.1074\">a</text><line style=\"stroke: #383838; stroke-width: 1.5;\" x1=\"626\" x2=\"666\" y1=\"99.9375\" y2=\"99.9375\"/></a><!--MD5=[270fce915f116d4de14055a7c1d9a0f3]\n",
       "class E5--><a href=\"psysml:a47b2c6e-81dd-4a7f-97e2-f2f751620c17\" target=\"_top\" title=\"psysml:a47b2c6e-81dd-4a7f-97e2-f2f751620c17\" xlink:actuate=\"onRequest\" xlink:href=\"psysml:a47b2c6e-81dd-4a7f-97e2-f2f751620c17\" xlink:show=\"new\" xlink:title=\"psysml:a47b2c6e-81dd-4a7f-97e2-f2f751620c17\" xlink:type=\"simple\"><rect fill=\"#FFFFFF\" height=\"45.9375\" id=\"E5\" rx=\"10\" ry=\"10\" style=\"stroke: #383838; stroke-width: 1.5;\" width=\"42\" x=\"548\" y=\"62\"/><text fill=\"#000000\" font-family=\"sans-serif\" font-size=\"12\" font-style=\"italic\" lengthAdjust=\"spacingAndGlyphs\" textLength=\"40\" x=\"549\" y=\"78.1387\">«part»</text><text fill=\"#000000\" font-family=\"sans-serif\" font-size=\"12\" lengthAdjust=\"spacingAndGlyphs\" textLength=\"24\" x=\"557\" y=\"92.1074\">b: P</text><line style=\"stroke: #383838; stroke-width: 1.5;\" x1=\"549\" x2=\"589\" y1=\"99.9375\" y2=\"99.9375\"/></a><!--MD5=[60a26617385b1d2d0262a64233df1f8d]\n",
       "class E6--><a href=\"psysml:46e4b238-da26-40c7-b1f6-d3a4f2631481\" target=\"_top\" title=\"psysml:46e4b238-da26-40c7-b1f6-d3a4f2631481\" xlink:actuate=\"onRequest\" xlink:href=\"psysml:46e4b238-da26-40c7-b1f6-d3a4f2631481\" xlink:show=\"new\" xlink:title=\"psysml:46e4b238-da26-40c7-b1f6-d3a4f2631481\" xlink:type=\"simple\"><rect fill=\"#FFFFFF\" height=\"45.9375\" id=\"E6\" rx=\"10\" ry=\"10\" style=\"stroke: #383838; stroke-width: 1.5;\" width=\"42\" x=\"471\" y=\"62\"/><text fill=\"#000000\" font-family=\"sans-serif\" font-size=\"12\" font-style=\"italic\" lengthAdjust=\"spacingAndGlyphs\" textLength=\"40\" x=\"472\" y=\"78.1387\">«part»</text><text fill=\"#000000\" font-family=\"sans-serif\" font-size=\"12\" lengthAdjust=\"spacingAndGlyphs\" textLength=\"23\" x=\"480.5\" y=\"92.1074\">c: P</text><line style=\"stroke: #383838; stroke-width: 1.5;\" x1=\"472\" x2=\"512\" y1=\"99.9375\" y2=\"99.9375\"/></a><!--MD5=[2156ba9850f5573cc1fc38a6a4b2f02b]\n",
       "class E7--><a href=\"psysml:862abcb1-d094-4d1f-a90d-b0af915cd2bb\" target=\"_top\" title=\"psysml:862abcb1-d094-4d1f-a90d-b0af915cd2bb\" xlink:actuate=\"onRequest\" xlink:href=\"psysml:862abcb1-d094-4d1f-a90d-b0af915cd2bb\" xlink:show=\"new\" xlink:title=\"psysml:862abcb1-d094-4d1f-a90d-b0af915cd2bb\" xlink:type=\"simple\"><rect fill=\"#FFFFFF\" height=\"45.9375\" id=\"E7\" rx=\"10\" ry=\"10\" style=\"stroke: #383838; stroke-width: 1.5;\" width=\"42\" x=\"394\" y=\"62\"/><text fill=\"#000000\" font-family=\"sans-serif\" font-size=\"12\" font-style=\"italic\" lengthAdjust=\"spacingAndGlyphs\" textLength=\"40\" x=\"395\" y=\"78.1387\">«part»</text><text fill=\"#000000\" font-family=\"sans-serif\" font-size=\"12\" lengthAdjust=\"spacingAndGlyphs\" textLength=\"8\" x=\"411\" y=\"92.1074\">d</text><line style=\"stroke: #383838; stroke-width: 1.5;\" x1=\"395\" x2=\"435\" y1=\"99.9375\" y2=\"99.9375\"/></a><!--MD5=[b9389687b975829384b498ac4b7476b2]\n",
       "class E8--><a href=\"psysml:0f8b0aa8-e59b-4cfe-b590-8672d08a4434\" target=\"_top\" title=\"psysml:0f8b0aa8-e59b-4cfe-b590-8672d08a4434\" xlink:actuate=\"onRequest\" xlink:href=\"psysml:0f8b0aa8-e59b-4cfe-b590-8672d08a4434\" xlink:show=\"new\" xlink:title=\"psysml:0f8b0aa8-e59b-4cfe-b590-8672d08a4434\" xlink:type=\"simple\"><rect fill=\"#FFFFFF\" height=\"45.9375\" id=\"E8\" rx=\"10\" ry=\"10\" style=\"stroke: #383838; stroke-width: 1.5;\" width=\"42\" x=\"317\" y=\"62\"/><text fill=\"#000000\" font-family=\"sans-serif\" font-size=\"12\" font-style=\"italic\" lengthAdjust=\"spacingAndGlyphs\" textLength=\"40\" x=\"318\" y=\"78.1387\">«part»</text><text fill=\"#000000\" font-family=\"sans-serif\" font-size=\"12\" lengthAdjust=\"spacingAndGlyphs\" textLength=\"8\" x=\"334\" y=\"92.1074\">e</text><line style=\"stroke: #383838; stroke-width: 1.5;\" x1=\"318\" x2=\"358\" y1=\"99.9375\" y2=\"99.9375\"/></a><!--MD5=[fd4143e9d270a159db93a4ea2a975926]\n",
       "class E9--><a href=\"psysml:07bb6063-49af-4acb-bb76-a6a51f542bf8\" target=\"_top\" title=\"psysml:07bb6063-49af-4acb-bb76-a6a51f542bf8\" xlink:actuate=\"onRequest\" xlink:href=\"psysml:07bb6063-49af-4acb-bb76-a6a51f542bf8\" xlink:show=\"new\" xlink:title=\"psysml:07bb6063-49af-4acb-bb76-a6a51f542bf8\" xlink:type=\"simple\"><rect fill=\"#FFFFFF\" height=\"45.9375\" id=\"E9\" rx=\"10\" ry=\"10\" style=\"stroke: #383838; stroke-width: 1.5;\" width=\"42\" x=\"240\" y=\"62\"/><text fill=\"#000000\" font-family=\"sans-serif\" font-size=\"12\" font-style=\"italic\" lengthAdjust=\"spacingAndGlyphs\" textLength=\"40\" x=\"241\" y=\"78.1387\">«part»</text><text fill=\"#000000\" font-family=\"sans-serif\" font-size=\"12\" lengthAdjust=\"spacingAndGlyphs\" textLength=\"4\" x=\"259\" y=\"92.1074\">f</text><line style=\"stroke: #383838; stroke-width: 1.5;\" x1=\"241\" x2=\"281\" y1=\"99.9375\" y2=\"99.9375\"/></a><!--MD5=[96f4274e9e20536e775497830990834d]\n",
       "class E10--><a href=\"psysml:87a6ec87-e214-496f-a09f-1f6dfd597ed3\" target=\"_top\" title=\"psysml:87a6ec87-e214-496f-a09f-1f6dfd597ed3\" xlink:actuate=\"onRequest\" xlink:href=\"psysml:87a6ec87-e214-496f-a09f-1f6dfd597ed3\" xlink:show=\"new\" xlink:title=\"psysml:87a6ec87-e214-496f-a09f-1f6dfd597ed3\" xlink:type=\"simple\"><rect fill=\"#FFFFFF\" height=\"45.9375\" id=\"E10\" rx=\"10\" ry=\"10\" style=\"stroke: #383838; stroke-width: 1.5;\" width=\"42\" x=\"163\" y=\"62\"/><text fill=\"#000000\" font-family=\"sans-serif\" font-size=\"12\" font-style=\"italic\" lengthAdjust=\"spacingAndGlyphs\" textLength=\"40\" x=\"164\" y=\"78.1387\">«part»</text><text fill=\"#000000\" font-family=\"sans-serif\" font-size=\"12\" lengthAdjust=\"spacingAndGlyphs\" textLength=\"8\" x=\"180\" y=\"92.1074\">g</text><line style=\"stroke: #383838; stroke-width: 1.5;\" x1=\"164\" x2=\"204\" y1=\"99.9375\" y2=\"99.9375\"/></a><!--MD5=[1dd1bfd58a279cf63c5f349dbc8fc6a1]\n",
       "class E11--><a href=\"psysml:423769db-1814-486c-a3b1-3214b1eae655\" target=\"_top\" title=\"psysml:423769db-1814-486c-a3b1-3214b1eae655\" xlink:actuate=\"onRequest\" xlink:href=\"psysml:423769db-1814-486c-a3b1-3214b1eae655\" xlink:show=\"new\" xlink:title=\"psysml:423769db-1814-486c-a3b1-3214b1eae655\" xlink:type=\"simple\"><rect fill=\"#FFFFFF\" height=\"88.3516\" id=\"E11\" style=\"stroke: #383838; stroke-width: 1.5;\" width=\"95\" x=\"32.5\" y=\"41\"/><text fill=\"#000000\" font-family=\"sans-serif\" font-size=\"12\" font-style=\"italic\" lengthAdjust=\"spacingAndGlyphs\" textLength=\"93\" x=\"33.5\" y=\"57.1387\">«attribute def»</text><text fill=\"#000000\" font-family=\"sans-serif\" font-size=\"12\" lengthAdjust=\"spacingAndGlyphs\" textLength=\"8\" x=\"76\" y=\"71.1074\">A</text><line style=\"stroke: #383838; stroke-width: 1.5;\" x1=\"33.5\" x2=\"126.5\" y1=\"78.9375\" y2=\"78.9375\"/><text fill=\"#000000\" font-family=\"sans-serif\" font-size=\"11\" lengthAdjust=\"spacingAndGlyphs\" textLength=\"51\" x=\"38.5\" y=\"109.9526\">i: Integer</text><text fill=\"#000000\" font-family=\"sans-serif\" font-size=\"11\" lengthAdjust=\"spacingAndGlyphs\" textLength=\"21\" x=\"38.5\" y=\"122.7573\">x: A</text><line style=\"stroke: #383838; stroke-width: 1.0;\" x1=\"33.5\" x2=\"52.5\" y1=\"93.3398\" y2=\"93.3398\"/><text fill=\"#000000\" font-family=\"sans-serif\" font-size=\"11\" lengthAdjust=\"spacingAndGlyphs\" textLength=\"55\" x=\"52.5\" y=\"96.6479\">attributes</text><line style=\"stroke: #383838; stroke-width: 1.0;\" x1=\"107.5\" x2=\"126.5\" y1=\"93.3398\" y2=\"93.3398\"/></a><!--MD5=[15ebcb19ae302d9b601edb458606d402]\n",
       "link E5 to E2--><a href=\"psysml:56ee8f03-05cc-4672-92a5-af5f15d564f5\" target=\"_top\" title=\"psysml:56ee8f03-05cc-4672-92a5-af5f15d564f5\" xlink:actuate=\"onRequest\" xlink:href=\"psysml:56ee8f03-05cc-4672-92a5-af5f15d564f5\" xlink:show=\"new\" xlink:title=\"psysml:56ee8f03-05cc-4672-92a5-af5f15d564f5\" xlink:type=\"simple\"><path d=\"M562.12,108.06 C556.83,125 549.38,148.89 542.98,169.39 \" fill=\"none\" id=\"E5-&gt;E2\" style=\"stroke: #383838; stroke-width: 1.0;\"/><polygon fill=\"#FFFFFF\" points=\"536.95,188.74,535.929,168.5173,549.2931,172.6886,536.95,188.74\" style=\"stroke: #383838; stroke-width: 1.0;\"/><ellipse cx=\"539.5364\" cy=\"163.6721\" fill=\"#383838\" rx=\"2\" ry=\"2\" style=\"stroke: #383838; stroke-width: 1.0;\"/><ellipse cx=\"549.0823\" cy=\"166.6516\" fill=\"#383838\" rx=\"2\" ry=\"2\" style=\"stroke: #383838; stroke-width: 1.0;\"/></a><!--MD5=[2351f337d6de0f557b50152ba70847b5]\n",
       "link E6 to E2--><a href=\"psysml:34caeea3-9e32-4456-be5b-df49f4f1b3a4\" target=\"_top\" title=\"psysml:34caeea3-9e32-4456-be5b-df49f4f1b3a4\" xlink:actuate=\"onRequest\" xlink:href=\"psysml:34caeea3-9e32-4456-be5b-df49f4f1b3a4\" xlink:show=\"new\" xlink:title=\"psysml:34caeea3-9e32-4456-be5b-df49f4f1b3a4\" xlink:type=\"simple\"><path d=\"M498.71,108.06 C503.86,125 511.12,148.89 517.35,169.39 \" fill=\"none\" id=\"E6-&gt;E2\" style=\"stroke: #383838; stroke-width: 1.0;\"/><polygon fill=\"#FFFFFF\" points=\"523.23,188.74,511.007,172.597,524.4019,168.5255,523.23,188.74\" style=\"stroke: #383838; stroke-width: 1.0;\"/><ellipse cx=\"511.2628\" cy=\"166.5617\" fill=\"#383838\" rx=\"2\" ry=\"2\" style=\"stroke: #383838; stroke-width: 1.0;\"/><ellipse cx=\"520.8306\" cy=\"163.6535\" fill=\"#383838\" rx=\"2\" ry=\"2\" style=\"stroke: #383838; stroke-width: 1.0;\"/></a><!--MD5=[188deefd7b0271217c10aaf7a82a64c3]\n",
       "@startuml\r\n",
       " skinparam monochrome true\r\n",
       "skinparam classbackgroundcolor white\r\n",
       "skinparam shadowing false\r\n",
       "skinparam wrapWidth 300\r\n",
       "hide circle\r\n",
       "\r\n",
       "package \"MultiplicityTest\" as E1  [[psysml:917c8e98-308c-4a57-bedc-72bb13927275 ]]  {\r\n",
       "comp def \"P\" as E2  <<(T,blue) part def>> [[psysml:1b8e2ab6-001b-4483-8406-5463ddd95a77 ]] {\r\n",
       "}\r\n",
       "comp usage \"n: Integer\" as E3  <<(T,blue) attribute>> [[psysml:d0e8f829-c575-44a2-9ede-b108238de40c ]] {\r\n",
       "}\r\n",
       "comp usage \"a\" as E4  <<(T,blue) part>> [[psysml:2de2cbdc-62e6-485a-a7d2-bee7f587f60d ]] {\r\n",
       "}\r\n",
       "comp usage \"b: P\" as E5  <<(T,blue) part>> [[psysml:a47b2c6e-81dd-4a7f-97e2-f2f751620c17 ]] {\r\n",
       "}\r\n",
       "comp usage \"c: P\" as E6  <<(T,blue) part>> [[psysml:46e4b238-da26-40c7-b1f6-d3a4f2631481 ]] {\r\n",
       "}\r\n",
       "comp usage \"d\" as E7  <<(T,blue) part>> [[psysml:862abcb1-d094-4d1f-a90d-b0af915cd2bb ]] {\r\n",
       "}\r\n",
       "comp usage \"e\" as E8  <<(T,blue) part>> [[psysml:0f8b0aa8-e59b-4cfe-b590-8672d08a4434 ]] {\r\n",
       "}\r\n",
       "comp usage \"f\" as E9  <<(T,blue) part>> [[psysml:07bb6063-49af-4acb-bb76-a6a51f542bf8 ]] {\r\n",
       "}\r\n",
       "comp usage \"g\" as E10  <<(T,blue) part>> [[psysml:87a6ec87-e214-496f-a09f-1f6dfd597ed3 ]] {\r\n",
       "}\r\n",
       "comp def \"A\" as E11  <<(T,blue) attribute def>> [[psysml:423769db-1814-486c-a3b1-3214b1eae655 ]] {\r\n",
       "- - attributes - -\r\n",
       "i: Integer\r\n",
       "x: A\r\n",
       "}\r\n",
       "}\r\n",
       "E5 - -:|> E2 [[psysml:56ee8f03-05cc-4672-92a5-af5f15d564f5 ]] \r\n",
       "E6 - -:|> E2 [[psysml:34caeea3-9e32-4456-be5b-df49f4f1b3a4 ]] \r\n",
       "@enduml\r\n",
       "\n",
       "PlantUML version 1.2020.13(Sat Jun 13 12:26:38 UTC 2020)\n",
       "(EPL source distribution)\n",
       "Java Runtime: OpenJDK Runtime Environment\n",
       "JVM: OpenJDK 64-Bit Server VM\n",
       "Default Encoding: UTF-8\n",
       "Language: en\n",
       "Country: null\n",
       "--></g></svg>"
      ]
     },
     "execution_count": 2,
     "metadata": {},
     "output_type": "execute_result"
    }
   ],
   "source": [
    "%viz --style=\"COMPTREE\" --view=\"Default\" \"MultiplicityTest\""
   ]
  },
  {
   "cell_type": "code",
   "execution_count": 3,
   "id": "7c1da689",
   "metadata": {
    "execution": {
     "iopub.execute_input": "2021-10-03T08:30:18.475411Z",
     "iopub.status.busy": "2021-10-03T08:30:18.474973Z",
     "iopub.status.idle": "2021-10-03T08:30:18.563514Z",
     "shell.execute_reply": "2021-10-03T08:30:18.563162Z"
    }
   },
   "outputs": [
    {
     "data": {
      "image/svg+xml": [
       "<?xml version=\"1.0\" encoding=\"UTF-8\" standalone=\"no\"?><svg xmlns=\"http://www.w3.org/2000/svg\" xmlns:xlink=\"http://www.w3.org/1999/xlink\" contentScriptType=\"application/ecmascript\" contentStyleType=\"text/css\" height=\"263px\" preserveAspectRatio=\"none\" style=\"width:812px;height:263px;\" version=\"1.1\" viewBox=\"0 0 812 263\" width=\"812px\" zoomAndPan=\"magnify\"><defs/><g><!--MD5=[fbc87193dbaf4d95561dea2c320d4a47]\n",
       "cluster E1--><a href=\"psysml:917c8e98-308c-4a57-bedc-72bb13927275\" target=\"_top\" title=\"psysml:917c8e98-308c-4a57-bedc-72bb13927275\" xlink:actuate=\"onRequest\" xlink:href=\"psysml:917c8e98-308c-4a57-bedc-72bb13927275\" xlink:show=\"new\" xlink:title=\"psysml:917c8e98-308c-4a57-bedc-72bb13927275\" xlink:type=\"simple\"><polygon fill=\"#FFFFFF\" points=\"16,6,123,6,130,28.2969,790,28.2969,790,251,16,251,16,6\" style=\"stroke: #000000; stroke-width: 1.5;\"/><line style=\"stroke: #000000; stroke-width: 1.5;\" x1=\"16\" x2=\"130\" y1=\"28.2969\" y2=\"28.2969\"/><text fill=\"#000000\" font-family=\"sans-serif\" font-size=\"14\" font-weight=\"bold\" lengthAdjust=\"spacingAndGlyphs\" textLength=\"101\" x=\"20\" y=\"20.9951\">MultiplicityTest</text></a><!--MD5=[b4997ac47864f28c2f74865a473b2911]\n",
       "class E2--><a href=\"psysml:1b8e2ab6-001b-4483-8406-5463ddd95a77\" target=\"_top\" title=\"psysml:1b8e2ab6-001b-4483-8406-5463ddd95a77\" xlink:actuate=\"onRequest\" xlink:href=\"psysml:1b8e2ab6-001b-4483-8406-5463ddd95a77\" xlink:show=\"new\" xlink:title=\"psysml:1b8e2ab6-001b-4483-8406-5463ddd95a77\" xlink:type=\"simple\"><rect fill=\"#FFFFFF\" height=\"45.9375\" id=\"E2\" style=\"stroke: #383838; stroke-width: 1.5;\" width=\"66\" x=\"497\" y=\"189\"/><text fill=\"#000000\" font-family=\"sans-serif\" font-size=\"12\" font-style=\"italic\" lengthAdjust=\"spacingAndGlyphs\" textLength=\"64\" x=\"498\" y=\"205.1387\">«part def»</text><text fill=\"#000000\" font-family=\"sans-serif\" font-size=\"12\" lengthAdjust=\"spacingAndGlyphs\" textLength=\"8\" x=\"526\" y=\"219.1074\">P</text><line style=\"stroke: #383838; stroke-width: 1.5;\" x1=\"498\" x2=\"562\" y1=\"226.9375\" y2=\"226.9375\"/></a><!--MD5=[09b614a08d8cba4a07c9adeb5e0fee81]\n",
       "class E3--><a href=\"psysml:d0e8f829-c575-44a2-9ede-b108238de40c\" target=\"_top\" title=\"psysml:d0e8f829-c575-44a2-9ede-b108238de40c\" xlink:actuate=\"onRequest\" xlink:href=\"psysml:d0e8f829-c575-44a2-9ede-b108238de40c\" xlink:show=\"new\" xlink:title=\"psysml:d0e8f829-c575-44a2-9ede-b108238de40c\" xlink:type=\"simple\"><rect fill=\"#FFFFFF\" height=\"45.9375\" id=\"E3\" rx=\"10\" ry=\"10\" style=\"stroke: #383838; stroke-width: 1.5;\" width=\"71\" x=\"702.5\" y=\"62\"/><text fill=\"#000000\" font-family=\"sans-serif\" font-size=\"12\" font-style=\"italic\" lengthAdjust=\"spacingAndGlyphs\" textLength=\"69\" x=\"703.5\" y=\"78.1387\">«attribute»</text><text fill=\"#000000\" font-family=\"sans-serif\" font-size=\"12\" lengthAdjust=\"spacingAndGlyphs\" textLength=\"61\" x=\"707.5\" y=\"92.1074\">n: Integer</text><line style=\"stroke: #383838; stroke-width: 1.5;\" x1=\"703.5\" x2=\"772.5\" y1=\"99.9375\" y2=\"99.9375\"/></a><!--MD5=[ebbe1d658d1005bcc118a6aa81145e00]\n",
       "class E4--><a href=\"psysml:2de2cbdc-62e6-485a-a7d2-bee7f587f60d\" target=\"_top\" title=\"psysml:2de2cbdc-62e6-485a-a7d2-bee7f587f60d\" xlink:actuate=\"onRequest\" xlink:href=\"psysml:2de2cbdc-62e6-485a-a7d2-bee7f587f60d\" xlink:show=\"new\" xlink:title=\"psysml:2de2cbdc-62e6-485a-a7d2-bee7f587f60d\" xlink:type=\"simple\"><rect fill=\"#FFFFFF\" height=\"45.9375\" id=\"E4\" rx=\"10\" ry=\"10\" style=\"stroke: #383838; stroke-width: 1.5;\" width=\"42\" x=\"625\" y=\"62\"/><text fill=\"#000000\" font-family=\"sans-serif\" font-size=\"12\" font-style=\"italic\" lengthAdjust=\"spacingAndGlyphs\" textLength=\"40\" x=\"626\" y=\"78.1387\">«part»</text><text fill=\"#000000\" font-family=\"sans-serif\" font-size=\"12\" lengthAdjust=\"spacingAndGlyphs\" textLength=\"8\" x=\"642\" y=\"92.1074\">a</text><line style=\"stroke: #383838; stroke-width: 1.5;\" x1=\"626\" x2=\"666\" y1=\"99.9375\" y2=\"99.9375\"/></a><!--MD5=[270fce915f116d4de14055a7c1d9a0f3]\n",
       "class E5--><a href=\"psysml:a47b2c6e-81dd-4a7f-97e2-f2f751620c17\" target=\"_top\" title=\"psysml:a47b2c6e-81dd-4a7f-97e2-f2f751620c17\" xlink:actuate=\"onRequest\" xlink:href=\"psysml:a47b2c6e-81dd-4a7f-97e2-f2f751620c17\" xlink:show=\"new\" xlink:title=\"psysml:a47b2c6e-81dd-4a7f-97e2-f2f751620c17\" xlink:type=\"simple\"><rect fill=\"#FFFFFF\" height=\"45.9375\" id=\"E5\" rx=\"10\" ry=\"10\" style=\"stroke: #383838; stroke-width: 1.5;\" width=\"42\" x=\"548\" y=\"62\"/><text fill=\"#000000\" font-family=\"sans-serif\" font-size=\"12\" font-style=\"italic\" lengthAdjust=\"spacingAndGlyphs\" textLength=\"40\" x=\"549\" y=\"78.1387\">«part»</text><text fill=\"#000000\" font-family=\"sans-serif\" font-size=\"12\" lengthAdjust=\"spacingAndGlyphs\" textLength=\"24\" x=\"557\" y=\"92.1074\">b: P</text><line style=\"stroke: #383838; stroke-width: 1.5;\" x1=\"549\" x2=\"589\" y1=\"99.9375\" y2=\"99.9375\"/></a><!--MD5=[60a26617385b1d2d0262a64233df1f8d]\n",
       "class E6--><a href=\"psysml:46e4b238-da26-40c7-b1f6-d3a4f2631481\" target=\"_top\" title=\"psysml:46e4b238-da26-40c7-b1f6-d3a4f2631481\" xlink:actuate=\"onRequest\" xlink:href=\"psysml:46e4b238-da26-40c7-b1f6-d3a4f2631481\" xlink:show=\"new\" xlink:title=\"psysml:46e4b238-da26-40c7-b1f6-d3a4f2631481\" xlink:type=\"simple\"><rect fill=\"#FFFFFF\" height=\"45.9375\" id=\"E6\" rx=\"10\" ry=\"10\" style=\"stroke: #383838; stroke-width: 1.5;\" width=\"42\" x=\"471\" y=\"62\"/><text fill=\"#000000\" font-family=\"sans-serif\" font-size=\"12\" font-style=\"italic\" lengthAdjust=\"spacingAndGlyphs\" textLength=\"40\" x=\"472\" y=\"78.1387\">«part»</text><text fill=\"#000000\" font-family=\"sans-serif\" font-size=\"12\" lengthAdjust=\"spacingAndGlyphs\" textLength=\"23\" x=\"480.5\" y=\"92.1074\">c: P</text><line style=\"stroke: #383838; stroke-width: 1.5;\" x1=\"472\" x2=\"512\" y1=\"99.9375\" y2=\"99.9375\"/></a><!--MD5=[2156ba9850f5573cc1fc38a6a4b2f02b]\n",
       "class E7--><a href=\"psysml:862abcb1-d094-4d1f-a90d-b0af915cd2bb\" target=\"_top\" title=\"psysml:862abcb1-d094-4d1f-a90d-b0af915cd2bb\" xlink:actuate=\"onRequest\" xlink:href=\"psysml:862abcb1-d094-4d1f-a90d-b0af915cd2bb\" xlink:show=\"new\" xlink:title=\"psysml:862abcb1-d094-4d1f-a90d-b0af915cd2bb\" xlink:type=\"simple\"><rect fill=\"#FFFFFF\" height=\"45.9375\" id=\"E7\" rx=\"10\" ry=\"10\" style=\"stroke: #383838; stroke-width: 1.5;\" width=\"42\" x=\"394\" y=\"62\"/><text fill=\"#000000\" font-family=\"sans-serif\" font-size=\"12\" font-style=\"italic\" lengthAdjust=\"spacingAndGlyphs\" textLength=\"40\" x=\"395\" y=\"78.1387\">«part»</text><text fill=\"#000000\" font-family=\"sans-serif\" font-size=\"12\" lengthAdjust=\"spacingAndGlyphs\" textLength=\"8\" x=\"411\" y=\"92.1074\">d</text><line style=\"stroke: #383838; stroke-width: 1.5;\" x1=\"395\" x2=\"435\" y1=\"99.9375\" y2=\"99.9375\"/></a><!--MD5=[b9389687b975829384b498ac4b7476b2]\n",
       "class E8--><a href=\"psysml:0f8b0aa8-e59b-4cfe-b590-8672d08a4434\" target=\"_top\" title=\"psysml:0f8b0aa8-e59b-4cfe-b590-8672d08a4434\" xlink:actuate=\"onRequest\" xlink:href=\"psysml:0f8b0aa8-e59b-4cfe-b590-8672d08a4434\" xlink:show=\"new\" xlink:title=\"psysml:0f8b0aa8-e59b-4cfe-b590-8672d08a4434\" xlink:type=\"simple\"><rect fill=\"#FFFFFF\" height=\"45.9375\" id=\"E8\" rx=\"10\" ry=\"10\" style=\"stroke: #383838; stroke-width: 1.5;\" width=\"42\" x=\"317\" y=\"62\"/><text fill=\"#000000\" font-family=\"sans-serif\" font-size=\"12\" font-style=\"italic\" lengthAdjust=\"spacingAndGlyphs\" textLength=\"40\" x=\"318\" y=\"78.1387\">«part»</text><text fill=\"#000000\" font-family=\"sans-serif\" font-size=\"12\" lengthAdjust=\"spacingAndGlyphs\" textLength=\"8\" x=\"334\" y=\"92.1074\">e</text><line style=\"stroke: #383838; stroke-width: 1.5;\" x1=\"318\" x2=\"358\" y1=\"99.9375\" y2=\"99.9375\"/></a><!--MD5=[fd4143e9d270a159db93a4ea2a975926]\n",
       "class E9--><a href=\"psysml:07bb6063-49af-4acb-bb76-a6a51f542bf8\" target=\"_top\" title=\"psysml:07bb6063-49af-4acb-bb76-a6a51f542bf8\" xlink:actuate=\"onRequest\" xlink:href=\"psysml:07bb6063-49af-4acb-bb76-a6a51f542bf8\" xlink:show=\"new\" xlink:title=\"psysml:07bb6063-49af-4acb-bb76-a6a51f542bf8\" xlink:type=\"simple\"><rect fill=\"#FFFFFF\" height=\"45.9375\" id=\"E9\" rx=\"10\" ry=\"10\" style=\"stroke: #383838; stroke-width: 1.5;\" width=\"42\" x=\"240\" y=\"62\"/><text fill=\"#000000\" font-family=\"sans-serif\" font-size=\"12\" font-style=\"italic\" lengthAdjust=\"spacingAndGlyphs\" textLength=\"40\" x=\"241\" y=\"78.1387\">«part»</text><text fill=\"#000000\" font-family=\"sans-serif\" font-size=\"12\" lengthAdjust=\"spacingAndGlyphs\" textLength=\"4\" x=\"259\" y=\"92.1074\">f</text><line style=\"stroke: #383838; stroke-width: 1.5;\" x1=\"241\" x2=\"281\" y1=\"99.9375\" y2=\"99.9375\"/></a><!--MD5=[96f4274e9e20536e775497830990834d]\n",
       "class E10--><a href=\"psysml:87a6ec87-e214-496f-a09f-1f6dfd597ed3\" target=\"_top\" title=\"psysml:87a6ec87-e214-496f-a09f-1f6dfd597ed3\" xlink:actuate=\"onRequest\" xlink:href=\"psysml:87a6ec87-e214-496f-a09f-1f6dfd597ed3\" xlink:show=\"new\" xlink:title=\"psysml:87a6ec87-e214-496f-a09f-1f6dfd597ed3\" xlink:type=\"simple\"><rect fill=\"#FFFFFF\" height=\"45.9375\" id=\"E10\" rx=\"10\" ry=\"10\" style=\"stroke: #383838; stroke-width: 1.5;\" width=\"42\" x=\"163\" y=\"62\"/><text fill=\"#000000\" font-family=\"sans-serif\" font-size=\"12\" font-style=\"italic\" lengthAdjust=\"spacingAndGlyphs\" textLength=\"40\" x=\"164\" y=\"78.1387\">«part»</text><text fill=\"#000000\" font-family=\"sans-serif\" font-size=\"12\" lengthAdjust=\"spacingAndGlyphs\" textLength=\"8\" x=\"180\" y=\"92.1074\">g</text><line style=\"stroke: #383838; stroke-width: 1.5;\" x1=\"164\" x2=\"204\" y1=\"99.9375\" y2=\"99.9375\"/></a><!--MD5=[1dd1bfd58a279cf63c5f349dbc8fc6a1]\n",
       "class E11--><a href=\"psysml:423769db-1814-486c-a3b1-3214b1eae655\" target=\"_top\" title=\"psysml:423769db-1814-486c-a3b1-3214b1eae655\" xlink:actuate=\"onRequest\" xlink:href=\"psysml:423769db-1814-486c-a3b1-3214b1eae655\" xlink:show=\"new\" xlink:title=\"psysml:423769db-1814-486c-a3b1-3214b1eae655\" xlink:type=\"simple\"><rect fill=\"#FFFFFF\" height=\"88.3516\" id=\"E11\" style=\"stroke: #383838; stroke-width: 1.5;\" width=\"95\" x=\"32.5\" y=\"41\"/><text fill=\"#000000\" font-family=\"sans-serif\" font-size=\"12\" font-style=\"italic\" lengthAdjust=\"spacingAndGlyphs\" textLength=\"93\" x=\"33.5\" y=\"57.1387\">«attribute def»</text><text fill=\"#000000\" font-family=\"sans-serif\" font-size=\"12\" lengthAdjust=\"spacingAndGlyphs\" textLength=\"8\" x=\"76\" y=\"71.1074\">A</text><line style=\"stroke: #383838; stroke-width: 1.5;\" x1=\"33.5\" x2=\"126.5\" y1=\"78.9375\" y2=\"78.9375\"/><text fill=\"#000000\" font-family=\"sans-serif\" font-size=\"11\" lengthAdjust=\"spacingAndGlyphs\" textLength=\"51\" x=\"38.5\" y=\"109.9526\">i: Integer</text><text fill=\"#000000\" font-family=\"sans-serif\" font-size=\"11\" lengthAdjust=\"spacingAndGlyphs\" textLength=\"21\" x=\"38.5\" y=\"122.7573\">x: A</text><line style=\"stroke: #383838; stroke-width: 1.0;\" x1=\"33.5\" x2=\"52.5\" y1=\"93.3398\" y2=\"93.3398\"/><text fill=\"#000000\" font-family=\"sans-serif\" font-size=\"11\" lengthAdjust=\"spacingAndGlyphs\" textLength=\"55\" x=\"52.5\" y=\"96.6479\">attributes</text><line style=\"stroke: #383838; stroke-width: 1.0;\" x1=\"107.5\" x2=\"126.5\" y1=\"93.3398\" y2=\"93.3398\"/></a><!--MD5=[15ebcb19ae302d9b601edb458606d402]\n",
       "link E5 to E2--><a href=\"psysml:56ee8f03-05cc-4672-92a5-af5f15d564f5\" target=\"_top\" title=\"psysml:56ee8f03-05cc-4672-92a5-af5f15d564f5\" xlink:actuate=\"onRequest\" xlink:href=\"psysml:56ee8f03-05cc-4672-92a5-af5f15d564f5\" xlink:show=\"new\" xlink:title=\"psysml:56ee8f03-05cc-4672-92a5-af5f15d564f5\" xlink:type=\"simple\"><path d=\"M562.12,108.06 C556.83,125 549.38,148.89 542.98,169.39 \" fill=\"none\" id=\"E5-&gt;E2\" style=\"stroke: #383838; stroke-width: 1.0;\"/><polygon fill=\"#FFFFFF\" points=\"536.95,188.74,535.929,168.5173,549.2931,172.6886,536.95,188.74\" style=\"stroke: #383838; stroke-width: 1.0;\"/><ellipse cx=\"539.5364\" cy=\"163.6721\" fill=\"#383838\" rx=\"2\" ry=\"2\" style=\"stroke: #383838; stroke-width: 1.0;\"/><ellipse cx=\"549.0823\" cy=\"166.6516\" fill=\"#383838\" rx=\"2\" ry=\"2\" style=\"stroke: #383838; stroke-width: 1.0;\"/></a><!--MD5=[2351f337d6de0f557b50152ba70847b5]\n",
       "link E6 to E2--><a href=\"psysml:34caeea3-9e32-4456-be5b-df49f4f1b3a4\" target=\"_top\" title=\"psysml:34caeea3-9e32-4456-be5b-df49f4f1b3a4\" xlink:actuate=\"onRequest\" xlink:href=\"psysml:34caeea3-9e32-4456-be5b-df49f4f1b3a4\" xlink:show=\"new\" xlink:title=\"psysml:34caeea3-9e32-4456-be5b-df49f4f1b3a4\" xlink:type=\"simple\"><path d=\"M498.71,108.06 C503.86,125 511.12,148.89 517.35,169.39 \" fill=\"none\" id=\"E6-&gt;E2\" style=\"stroke: #383838; stroke-width: 1.0;\"/><polygon fill=\"#FFFFFF\" points=\"523.23,188.74,511.007,172.597,524.4019,168.5255,523.23,188.74\" style=\"stroke: #383838; stroke-width: 1.0;\"/><ellipse cx=\"511.2628\" cy=\"166.5617\" fill=\"#383838\" rx=\"2\" ry=\"2\" style=\"stroke: #383838; stroke-width: 1.0;\"/><ellipse cx=\"520.8306\" cy=\"163.6535\" fill=\"#383838\" rx=\"2\" ry=\"2\" style=\"stroke: #383838; stroke-width: 1.0;\"/></a><!--MD5=[188deefd7b0271217c10aaf7a82a64c3]\n",
       "@startuml\r\n",
       " skinparam monochrome true\r\n",
       "skinparam classbackgroundcolor white\r\n",
       "skinparam shadowing false\r\n",
       "skinparam wrapWidth 300\r\n",
       "hide circle\r\n",
       "\r\n",
       "package \"MultiplicityTest\" as E1  [[psysml:917c8e98-308c-4a57-bedc-72bb13927275 ]]  {\r\n",
       "comp def \"P\" as E2  <<(T,blue) part def>> [[psysml:1b8e2ab6-001b-4483-8406-5463ddd95a77 ]] {\r\n",
       "}\r\n",
       "comp usage \"n: Integer\" as E3  <<(T,blue) attribute>> [[psysml:d0e8f829-c575-44a2-9ede-b108238de40c ]] {\r\n",
       "}\r\n",
       "comp usage \"a\" as E4  <<(T,blue) part>> [[psysml:2de2cbdc-62e6-485a-a7d2-bee7f587f60d ]] {\r\n",
       "}\r\n",
       "comp usage \"b: P\" as E5  <<(T,blue) part>> [[psysml:a47b2c6e-81dd-4a7f-97e2-f2f751620c17 ]] {\r\n",
       "}\r\n",
       "comp usage \"c: P\" as E6  <<(T,blue) part>> [[psysml:46e4b238-da26-40c7-b1f6-d3a4f2631481 ]] {\r\n",
       "}\r\n",
       "comp usage \"d\" as E7  <<(T,blue) part>> [[psysml:862abcb1-d094-4d1f-a90d-b0af915cd2bb ]] {\r\n",
       "}\r\n",
       "comp usage \"e\" as E8  <<(T,blue) part>> [[psysml:0f8b0aa8-e59b-4cfe-b590-8672d08a4434 ]] {\r\n",
       "}\r\n",
       "comp usage \"f\" as E9  <<(T,blue) part>> [[psysml:07bb6063-49af-4acb-bb76-a6a51f542bf8 ]] {\r\n",
       "}\r\n",
       "comp usage \"g\" as E10  <<(T,blue) part>> [[psysml:87a6ec87-e214-496f-a09f-1f6dfd597ed3 ]] {\r\n",
       "}\r\n",
       "comp def \"A\" as E11  <<(T,blue) attribute def>> [[psysml:423769db-1814-486c-a3b1-3214b1eae655 ]] {\r\n",
       "- - attributes - -\r\n",
       "i: Integer\r\n",
       "x: A\r\n",
       "}\r\n",
       "}\r\n",
       "E5 - -:|> E2 [[psysml:56ee8f03-05cc-4672-92a5-af5f15d564f5 ]] \r\n",
       "E6 - -:|> E2 [[psysml:34caeea3-9e32-4456-be5b-df49f4f1b3a4 ]] \r\n",
       "@enduml\r\n",
       "\n",
       "PlantUML version 1.2020.13(Sat Jun 13 12:26:38 UTC 2020)\n",
       "(EPL source distribution)\n",
       "Java Runtime: OpenJDK Runtime Environment\n",
       "JVM: OpenJDK 64-Bit Server VM\n",
       "Default Encoding: UTF-8\n",
       "Language: en\n",
       "Country: null\n",
       "--></g></svg>"
      ]
     },
     "execution_count": 3,
     "metadata": {},
     "output_type": "execute_result"
    }
   ],
   "source": [
    "%viz --style=\"COMPTREE\" --view=\"Tree\" \"MultiplicityTest\""
   ]
  },
  {
   "cell_type": "code",
   "execution_count": 4,
   "id": "09669744",
   "metadata": {
    "execution": {
     "iopub.execute_input": "2021-10-03T08:30:18.612699Z",
     "iopub.status.busy": "2021-10-03T08:30:18.612282Z",
     "iopub.status.idle": "2021-10-03T08:30:18.617913Z",
     "shell.execute_reply": "2021-10-03T08:30:18.617563Z"
    }
   },
   "outputs": [
    {
     "data": {
      "image/svg+xml": [
       "<?xml version=\"1.0\" encoding=\"UTF-8\" standalone=\"no\"?><svg xmlns=\"http://www.w3.org/2000/svg\" xmlns:xlink=\"http://www.w3.org/1999/xlink\" contentScriptType=\"application/ecmascript\" contentStyleType=\"text/css\" height=\"12px\" preserveAspectRatio=\"none\" style=\"width:12px;height:12px;\" version=\"1.1\" viewBox=\"0 0 12 12\" width=\"12px\" zoomAndPan=\"magnify\"><defs/><g><!--MD5=[f19188ef49e11757b5c46753f95d9edc]\n",
       "@startuml\r\n",
       " skinparam monochrome true\r\n",
       "skinparam classbackgroundcolor white\r\n",
       "skinparam shadowing false\r\n",
       "skinparam wrapWidth 300\r\n",
       "hide circle\r\n",
       "\r\n",
       "@enduml\r\n",
       "\n",
       "PlantUML version 1.2020.13(Sat Jun 13 12:26:38 UTC 2020)\n",
       "(EPL source distribution)\n",
       "Java Runtime: OpenJDK Runtime Environment\n",
       "JVM: OpenJDK 64-Bit Server VM\n",
       "Default Encoding: UTF-8\n",
       "Language: en\n",
       "Country: null\n",
       "--></g></svg>"
      ]
     },
     "execution_count": 4,
     "metadata": {},
     "output_type": "execute_result"
    }
   ],
   "source": [
    "%viz --style=\"COMPTREE\" --view=\"State\" \"MultiplicityTest\""
   ]
  },
  {
   "cell_type": "code",
   "execution_count": 5,
   "id": "99129fab",
   "metadata": {
    "execution": {
     "iopub.execute_input": "2021-10-03T08:30:18.667596Z",
     "iopub.status.busy": "2021-10-03T08:30:18.667179Z",
     "iopub.status.idle": "2021-10-03T08:30:18.715500Z",
     "shell.execute_reply": "2021-10-03T08:30:18.715831Z"
    }
   },
   "outputs": [
    {
     "data": {
      "image/svg+xml": [
       "<?xml version=\"1.0\" encoding=\"UTF-8\" standalone=\"no\"?><svg xmlns=\"http://www.w3.org/2000/svg\" xmlns:xlink=\"http://www.w3.org/1999/xlink\" contentScriptType=\"application/ecmascript\" contentStyleType=\"text/css\" height=\"115px\" preserveAspectRatio=\"none\" style=\"width:979px;height:115px;\" version=\"1.1\" viewBox=\"0 0 979 115\" width=\"979px\" zoomAndPan=\"magnify\"><defs/><g><!--MD5=[fbc87193dbaf4d95561dea2c320d4a47]\n",
       "cluster E1--><a href=\"psysml:917c8e98-308c-4a57-bedc-72bb13927275\" target=\"_top\" title=\"psysml:917c8e98-308c-4a57-bedc-72bb13927275\" xlink:actuate=\"onRequest\" xlink:href=\"psysml:917c8e98-308c-4a57-bedc-72bb13927275\" xlink:show=\"new\" xlink:title=\"psysml:917c8e98-308c-4a57-bedc-72bb13927275\" xlink:type=\"simple\"><polygon fill=\"#FFFFFF\" points=\"16,6,123,6,130,28.2969,957,28.2969,957,103,16,103,16,6\" style=\"stroke: #000000; stroke-width: 1.5;\"/><line style=\"stroke: #000000; stroke-width: 1.5;\" x1=\"16\" x2=\"130\" y1=\"28.2969\" y2=\"28.2969\"/><text fill=\"#000000\" font-family=\"sans-serif\" font-size=\"14\" font-weight=\"bold\" lengthAdjust=\"spacingAndGlyphs\" textLength=\"101\" x=\"20\" y=\"20.9951\">MultiplicityTest</text></a><!--MD5=[09b614a08d8cba4a07c9adeb5e0fee81]\n",
       "class E3--><a href=\"psysml:d0e8f829-c575-44a2-9ede-b108238de40c\" target=\"_top\" title=\"psysml:d0e8f829-c575-44a2-9ede-b108238de40c\" xlink:actuate=\"onRequest\" xlink:href=\"psysml:d0e8f829-c575-44a2-9ede-b108238de40c\" xlink:show=\"new\" xlink:title=\"psysml:d0e8f829-c575-44a2-9ede-b108238de40c\" xlink:type=\"simple\"><rect fill=\"#FFFFFF\" height=\"45.9375\" id=\"E3\" rx=\"10\" ry=\"10\" style=\"stroke: #383838; stroke-width: 1.5;\" width=\"71\" x=\"869.5\" y=\"41\"/><text fill=\"#000000\" font-family=\"sans-serif\" font-size=\"12\" font-style=\"italic\" lengthAdjust=\"spacingAndGlyphs\" textLength=\"69\" x=\"870.5\" y=\"57.1387\">«attribute»</text><text fill=\"#000000\" font-family=\"sans-serif\" font-size=\"12\" lengthAdjust=\"spacingAndGlyphs\" textLength=\"61\" x=\"874.5\" y=\"71.1074\">n: Integer</text><line style=\"stroke: #383838; stroke-width: 1.5;\" x1=\"870.5\" x2=\"939.5\" y1=\"78.9375\" y2=\"78.9375\"/></a><g id=\"E1.E11\"><a href=\"psysml:423769db-1814-486c-a3b1-3214b1eae655\" target=\"_top\" title=\"psysml:423769db-1814-486c-a3b1-3214b1eae655\" xlink:actuate=\"onRequest\" xlink:href=\"psysml:423769db-1814-486c-a3b1-3214b1eae655\" xlink:show=\"new\" xlink:title=\"psysml:423769db-1814-486c-a3b1-3214b1eae655\" xlink:type=\"simple\"><rect fill=\"#FFFFFF\" height=\"42.9375\" id=\"E11\" style=\"stroke: #383838; stroke-width: 1.5;\" width=\"100\" x=\"734\" y=\"42.5\"/><rect fill=\"#F8F8F8\" height=\"37.9375\" style=\"stroke: #383838; stroke-width: 1.5;\" width=\"100\" x=\"734\" y=\"42.5\"/><text fill=\"#000000\" font-family=\"sans-serif\" font-size=\"12\" font-style=\"italic\" lengthAdjust=\"spacingAndGlyphs\" textLength=\"93\" x=\"737.5\" y=\"58.6387\">«attribute def»</text><text fill=\"#000000\" font-family=\"sans-serif\" font-size=\"12\" lengthAdjust=\"spacingAndGlyphs\" textLength=\"8\" x=\"780\" y=\"72.6074\">A</text></a></g><g id=\"E1.E2\"><a href=\"psysml:1b8e2ab6-001b-4483-8406-5463ddd95a77\" target=\"_top\" title=\"psysml:1b8e2ab6-001b-4483-8406-5463ddd95a77\" xlink:actuate=\"onRequest\" xlink:href=\"psysml:1b8e2ab6-001b-4483-8406-5463ddd95a77\" xlink:show=\"new\" xlink:title=\"psysml:1b8e2ab6-001b-4483-8406-5463ddd95a77\" xlink:type=\"simple\"><rect fill=\"#FFFFFF\" height=\"42.9375\" id=\"E2\" style=\"stroke: #383838; stroke-width: 1.5;\" width=\"71\" x=\"627.5\" y=\"42.5\"/><rect fill=\"#F8F8F8\" height=\"37.9375\" style=\"stroke: #383838; stroke-width: 1.5;\" width=\"71\" x=\"627.5\" y=\"42.5\"/><text fill=\"#000000\" font-family=\"sans-serif\" font-size=\"12\" font-style=\"italic\" lengthAdjust=\"spacingAndGlyphs\" textLength=\"64\" x=\"631\" y=\"58.6387\">«part def»</text><text fill=\"#000000\" font-family=\"sans-serif\" font-size=\"12\" lengthAdjust=\"spacingAndGlyphs\" textLength=\"8\" x=\"659\" y=\"72.6074\">P</text></a></g><g id=\"E1.E4\"><a href=\"psysml:2de2cbdc-62e6-485a-a7d2-bee7f587f60d\" target=\"_top\" title=\"psysml:2de2cbdc-62e6-485a-a7d2-bee7f587f60d\" xlink:actuate=\"onRequest\" xlink:href=\"psysml:2de2cbdc-62e6-485a-a7d2-bee7f587f60d\" xlink:show=\"new\" xlink:title=\"psysml:2de2cbdc-62e6-485a-a7d2-bee7f587f60d\" xlink:type=\"simple\"><rect fill=\"#FFFFFF\" height=\"40\" id=\"E4\" rx=\"10\" ry=\"10\" style=\"stroke: #383838; stroke-width: 1.5;\" width=\"50\" x=\"542\" y=\"44\"/><rect fill=\"#F8F8F8\" height=\"23.9688\" rx=\"10\" ry=\"10\" style=\"stroke: #F8F8F8; stroke-width: 1.5;\" width=\"50\" x=\"542\" y=\"44\"/><rect fill=\"#F8F8F8\" height=\"10\" style=\"stroke: #F8F8F8; stroke-width: 1.5;\" width=\"50\" x=\"542\" y=\"57.9688\"/><rect fill=\"none\" height=\"40\" id=\"E4\" rx=\"10\" ry=\"10\" style=\"stroke: #383838; stroke-width: 1.5;\" width=\"50\" x=\"542\" y=\"44\"/><text fill=\"#000000\" font-family=\"sans-serif\" font-size=\"12\" lengthAdjust=\"spacingAndGlyphs\" textLength=\"8\" x=\"563\" y=\"60.1387\">a</text></a></g><g id=\"E1.E5\"><a href=\"psysml:a47b2c6e-81dd-4a7f-97e2-f2f751620c17\" target=\"_top\" title=\"psysml:a47b2c6e-81dd-4a7f-97e2-f2f751620c17\" xlink:actuate=\"onRequest\" xlink:href=\"psysml:a47b2c6e-81dd-4a7f-97e2-f2f751620c17\" xlink:show=\"new\" xlink:title=\"psysml:a47b2c6e-81dd-4a7f-97e2-f2f751620c17\" xlink:type=\"simple\"><rect fill=\"#FFFFFF\" height=\"40\" id=\"E5\" rx=\"10\" ry=\"10\" style=\"stroke: #383838; stroke-width: 1.5;\" width=\"50\" x=\"457\" y=\"44\"/><rect fill=\"#F8F8F8\" height=\"23.9688\" rx=\"10\" ry=\"10\" style=\"stroke: #F8F8F8; stroke-width: 1.5;\" width=\"50\" x=\"457\" y=\"44\"/><rect fill=\"#F8F8F8\" height=\"10\" style=\"stroke: #F8F8F8; stroke-width: 1.5;\" width=\"50\" x=\"457\" y=\"57.9688\"/><rect fill=\"none\" height=\"40\" id=\"E5\" rx=\"10\" ry=\"10\" style=\"stroke: #383838; stroke-width: 1.5;\" width=\"50\" x=\"457\" y=\"44\"/><text fill=\"#000000\" font-family=\"sans-serif\" font-size=\"12\" lengthAdjust=\"spacingAndGlyphs\" textLength=\"24\" x=\"470\" y=\"60.1387\">b: P</text></a></g><g id=\"E1.E6\"><a href=\"psysml:46e4b238-da26-40c7-b1f6-d3a4f2631481\" target=\"_top\" title=\"psysml:46e4b238-da26-40c7-b1f6-d3a4f2631481\" xlink:actuate=\"onRequest\" xlink:href=\"psysml:46e4b238-da26-40c7-b1f6-d3a4f2631481\" xlink:show=\"new\" xlink:title=\"psysml:46e4b238-da26-40c7-b1f6-d3a4f2631481\" xlink:type=\"simple\"><rect fill=\"#FFFFFF\" height=\"40\" id=\"E6\" rx=\"10\" ry=\"10\" style=\"stroke: #383838; stroke-width: 1.5;\" width=\"50\" x=\"372\" y=\"44\"/><rect fill=\"#F8F8F8\" height=\"23.9688\" rx=\"10\" ry=\"10\" style=\"stroke: #F8F8F8; stroke-width: 1.5;\" width=\"50\" x=\"372\" y=\"44\"/><rect fill=\"#F8F8F8\" height=\"10\" style=\"stroke: #F8F8F8; stroke-width: 1.5;\" width=\"50\" x=\"372\" y=\"57.9688\"/><rect fill=\"none\" height=\"40\" id=\"E6\" rx=\"10\" ry=\"10\" style=\"stroke: #383838; stroke-width: 1.5;\" width=\"50\" x=\"372\" y=\"44\"/><text fill=\"#000000\" font-family=\"sans-serif\" font-size=\"12\" lengthAdjust=\"spacingAndGlyphs\" textLength=\"23\" x=\"385.5\" y=\"60.1387\">c: P</text></a></g><g id=\"E1.E7\"><a href=\"psysml:862abcb1-d094-4d1f-a90d-b0af915cd2bb\" target=\"_top\" title=\"psysml:862abcb1-d094-4d1f-a90d-b0af915cd2bb\" xlink:actuate=\"onRequest\" xlink:href=\"psysml:862abcb1-d094-4d1f-a90d-b0af915cd2bb\" xlink:show=\"new\" xlink:title=\"psysml:862abcb1-d094-4d1f-a90d-b0af915cd2bb\" xlink:type=\"simple\"><rect fill=\"#FFFFFF\" height=\"40\" id=\"E7\" rx=\"10\" ry=\"10\" style=\"stroke: #383838; stroke-width: 1.5;\" width=\"50\" x=\"287\" y=\"44\"/><rect fill=\"#F8F8F8\" height=\"23.9688\" rx=\"10\" ry=\"10\" style=\"stroke: #F8F8F8; stroke-width: 1.5;\" width=\"50\" x=\"287\" y=\"44\"/><rect fill=\"#F8F8F8\" height=\"10\" style=\"stroke: #F8F8F8; stroke-width: 1.5;\" width=\"50\" x=\"287\" y=\"57.9688\"/><rect fill=\"none\" height=\"40\" id=\"E7\" rx=\"10\" ry=\"10\" style=\"stroke: #383838; stroke-width: 1.5;\" width=\"50\" x=\"287\" y=\"44\"/><text fill=\"#000000\" font-family=\"sans-serif\" font-size=\"12\" lengthAdjust=\"spacingAndGlyphs\" textLength=\"8\" x=\"308\" y=\"60.1387\">d</text></a></g><g id=\"E1.E8\"><a href=\"psysml:0f8b0aa8-e59b-4cfe-b590-8672d08a4434\" target=\"_top\" title=\"psysml:0f8b0aa8-e59b-4cfe-b590-8672d08a4434\" xlink:actuate=\"onRequest\" xlink:href=\"psysml:0f8b0aa8-e59b-4cfe-b590-8672d08a4434\" xlink:show=\"new\" xlink:title=\"psysml:0f8b0aa8-e59b-4cfe-b590-8672d08a4434\" xlink:type=\"simple\"><rect fill=\"#FFFFFF\" height=\"40\" id=\"E8\" rx=\"10\" ry=\"10\" style=\"stroke: #383838; stroke-width: 1.5;\" width=\"50\" x=\"202\" y=\"44\"/><rect fill=\"#F8F8F8\" height=\"23.9688\" rx=\"10\" ry=\"10\" style=\"stroke: #F8F8F8; stroke-width: 1.5;\" width=\"50\" x=\"202\" y=\"44\"/><rect fill=\"#F8F8F8\" height=\"10\" style=\"stroke: #F8F8F8; stroke-width: 1.5;\" width=\"50\" x=\"202\" y=\"57.9688\"/><rect fill=\"none\" height=\"40\" id=\"E8\" rx=\"10\" ry=\"10\" style=\"stroke: #383838; stroke-width: 1.5;\" width=\"50\" x=\"202\" y=\"44\"/><text fill=\"#000000\" font-family=\"sans-serif\" font-size=\"12\" lengthAdjust=\"spacingAndGlyphs\" textLength=\"8\" x=\"223\" y=\"60.1387\">e</text></a></g><g id=\"E1.E9\"><a href=\"psysml:07bb6063-49af-4acb-bb76-a6a51f542bf8\" target=\"_top\" title=\"psysml:07bb6063-49af-4acb-bb76-a6a51f542bf8\" xlink:actuate=\"onRequest\" xlink:href=\"psysml:07bb6063-49af-4acb-bb76-a6a51f542bf8\" xlink:show=\"new\" xlink:title=\"psysml:07bb6063-49af-4acb-bb76-a6a51f542bf8\" xlink:type=\"simple\"><rect fill=\"#FFFFFF\" height=\"40\" id=\"E9\" rx=\"10\" ry=\"10\" style=\"stroke: #383838; stroke-width: 1.5;\" width=\"50\" x=\"117\" y=\"44\"/><rect fill=\"#F8F8F8\" height=\"23.9688\" rx=\"10\" ry=\"10\" style=\"stroke: #F8F8F8; stroke-width: 1.5;\" width=\"50\" x=\"117\" y=\"44\"/><rect fill=\"#F8F8F8\" height=\"10\" style=\"stroke: #F8F8F8; stroke-width: 1.5;\" width=\"50\" x=\"117\" y=\"57.9688\"/><rect fill=\"none\" height=\"40\" id=\"E9\" rx=\"10\" ry=\"10\" style=\"stroke: #383838; stroke-width: 1.5;\" width=\"50\" x=\"117\" y=\"44\"/><text fill=\"#000000\" font-family=\"sans-serif\" font-size=\"12\" lengthAdjust=\"spacingAndGlyphs\" textLength=\"4\" x=\"140\" y=\"60.1387\">f</text></a></g><g id=\"E1.E10\"><a href=\"psysml:87a6ec87-e214-496f-a09f-1f6dfd597ed3\" target=\"_top\" title=\"psysml:87a6ec87-e214-496f-a09f-1f6dfd597ed3\" xlink:actuate=\"onRequest\" xlink:href=\"psysml:87a6ec87-e214-496f-a09f-1f6dfd597ed3\" xlink:show=\"new\" xlink:title=\"psysml:87a6ec87-e214-496f-a09f-1f6dfd597ed3\" xlink:type=\"simple\"><rect fill=\"#FFFFFF\" height=\"40\" id=\"E10\" rx=\"10\" ry=\"10\" style=\"stroke: #383838; stroke-width: 1.5;\" width=\"50\" x=\"32\" y=\"44\"/><rect fill=\"#F8F8F8\" height=\"23.9688\" rx=\"10\" ry=\"10\" style=\"stroke: #F8F8F8; stroke-width: 1.5;\" width=\"50\" x=\"32\" y=\"44\"/><rect fill=\"#F8F8F8\" height=\"10\" style=\"stroke: #F8F8F8; stroke-width: 1.5;\" width=\"50\" x=\"32\" y=\"57.9688\"/><rect fill=\"none\" height=\"40\" id=\"E10\" rx=\"10\" ry=\"10\" style=\"stroke: #383838; stroke-width: 1.5;\" width=\"50\" x=\"32\" y=\"44\"/><text fill=\"#000000\" font-family=\"sans-serif\" font-size=\"12\" lengthAdjust=\"spacingAndGlyphs\" textLength=\"8\" x=\"53\" y=\"60.1387\">g</text></a></g><!--MD5=[9441ae777cf8bcc8f251ca60ab8b9c77]\n",
       "@startuml\r\n",
       "skinparam ranksep 10\r\n",
       "skinparam rectangle {\r\n",
       " backgroundColor<<block>> LightGreen\r\n",
       "}\r\n",
       " skinparam monochrome true\r\n",
       "skinparam classbackgroundcolor white\r\n",
       "skinparam shadowing false\r\n",
       "skinparam wrapWidth 300\r\n",
       "hide circle\r\n",
       "\r\n",
       "package \"MultiplicityTest\" as E1  [[psysml:917c8e98-308c-4a57-bedc-72bb13927275 ]]  {\r\n",
       "rec def \"P\" as E2  <<(T,blue) part def>> [[psysml:1b8e2ab6-001b-4483-8406-5463ddd95a77 ]] {\r\n",
       "}\r\n",
       "comp usage \"n: Integer\" as E3  <<(T,blue) attribute>> [[psysml:d0e8f829-c575-44a2-9ede-b108238de40c ]] {\r\n",
       "}\r\n",
       "rec usage \"a\" as E4  [[psysml:2de2cbdc-62e6-485a-a7d2-bee7f587f60d ]] {\r\n",
       "}\r\n",
       "rec usage \"b: P\" as E5  [[psysml:a47b2c6e-81dd-4a7f-97e2-f2f751620c17 ]] {\r\n",
       "}\r\n",
       "rec usage \"c: P\" as E6  [[psysml:46e4b238-da26-40c7-b1f6-d3a4f2631481 ]] {\r\n",
       "}\r\n",
       "rec usage \"d\" as E7  [[psysml:862abcb1-d094-4d1f-a90d-b0af915cd2bb ]] {\r\n",
       "}\r\n",
       "rec usage \"e\" as E8  [[psysml:0f8b0aa8-e59b-4cfe-b590-8672d08a4434 ]] {\r\n",
       "}\r\n",
       "rec usage \"f\" as E9  [[psysml:07bb6063-49af-4acb-bb76-a6a51f542bf8 ]] {\r\n",
       "}\r\n",
       "rec usage \"g\" as E10  [[psysml:87a6ec87-e214-496f-a09f-1f6dfd597ed3 ]] {\r\n",
       "}\r\n",
       "def \"A\" as E11  <<(T,blue) attribute def>> [[psysml:423769db-1814-486c-a3b1-3214b1eae655 ]] \r\n",
       "}\r\n",
       "@enduml\r\n",
       "\n",
       "PlantUML version 1.2020.13(Sat Jun 13 12:26:38 UTC 2020)\n",
       "(EPL source distribution)\n",
       "Java Runtime: OpenJDK Runtime Environment\n",
       "JVM: OpenJDK 64-Bit Server VM\n",
       "Default Encoding: UTF-8\n",
       "Language: en\n",
       "Country: null\n",
       "--></g></svg>"
      ]
     },
     "execution_count": 5,
     "metadata": {},
     "output_type": "execute_result"
    }
   ],
   "source": [
    "%viz --style=\"COMPTREE\" --view=\"Interconnection\" \"MultiplicityTest\""
   ]
  },
  {
   "cell_type": "code",
   "execution_count": 6,
   "id": "0c6d7d3e",
   "metadata": {
    "execution": {
     "iopub.execute_input": "2021-10-03T08:30:18.765525Z",
     "iopub.status.busy": "2021-10-03T08:30:18.765108Z",
     "iopub.status.idle": "2021-10-03T08:30:18.772812Z",
     "shell.execute_reply": "2021-10-03T08:30:18.773128Z"
    }
   },
   "outputs": [
    {
     "data": {
      "image/svg+xml": [
       "<?xml version=\"1.0\" encoding=\"UTF-8\" standalone=\"no\"?><svg xmlns=\"http://www.w3.org/2000/svg\" xmlns:xlink=\"http://www.w3.org/1999/xlink\" contentScriptType=\"application/ecmascript\" contentStyleType=\"text/css\" height=\"12px\" preserveAspectRatio=\"none\" style=\"width:12px;height:12px;\" version=\"1.1\" viewBox=\"0 0 12 12\" width=\"12px\" zoomAndPan=\"magnify\"><defs/><g><!--MD5=[655b888544ca4751ea36af1068543f84]\n",
       "@startuml\r\n",
       "skinparam ranksep 8\r\n",
       " skinparam monochrome true\r\n",
       "skinparam classbackgroundcolor white\r\n",
       "skinparam shadowing false\r\n",
       "skinparam wrapWidth 300\r\n",
       "hide circle\r\n",
       "\r\n",
       "@enduml\r\n",
       "\n",
       "PlantUML version 1.2020.13(Sat Jun 13 12:26:38 UTC 2020)\n",
       "(EPL source distribution)\n",
       "Java Runtime: OpenJDK Runtime Environment\n",
       "JVM: OpenJDK 64-Bit Server VM\n",
       "Default Encoding: UTF-8\n",
       "Language: en\n",
       "Country: null\n",
       "--></g></svg>"
      ]
     },
     "execution_count": 6,
     "metadata": {},
     "output_type": "execute_result"
    }
   ],
   "source": [
    "%viz --style=\"COMPTREE\" --view=\"Action\" \"MultiplicityTest\""
   ]
  },
  {
   "cell_type": "code",
   "execution_count": 7,
   "id": "1223b313",
   "metadata": {
    "execution": {
     "iopub.execute_input": "2021-10-03T08:30:18.823176Z",
     "iopub.status.busy": "2021-10-03T08:30:18.822773Z",
     "iopub.status.idle": "2021-10-03T08:30:18.835146Z",
     "shell.execute_reply": "2021-10-03T08:30:18.835457Z"
    }
   },
   "outputs": [
    {
     "data": {
      "image/svg+xml": [
       "<?xml version=\"1.0\" encoding=\"UTF-8\" standalone=\"no\"?><svg xmlns=\"http://www.w3.org/2000/svg\" xmlns:xlink=\"http://www.w3.org/1999/xlink\" contentScriptType=\"application/ecmascript\" contentStyleType=\"text/css\" height=\"12px\" preserveAspectRatio=\"none\" style=\"width:12px;height:12px;\" version=\"1.1\" viewBox=\"0 0 12 12\" width=\"12px\" zoomAndPan=\"magnify\"><defs/><g><!--MD5=[803fc46c337be7a5c8a9831e35356779]\n",
       "@startuml\r\n",
       "skinparam roundcorner 20\r\n",
       "skinparam BoxPadding 20\r\n",
       "skinparam SequenceBoxBackgroundColor #white\r\n",
       "skinparam style strictuml\r\n",
       "skinparam maxMessageSize 100\r\n",
       " skinparam monochrome true\r\n",
       "skinparam classbackgroundcolor white\r\n",
       "skinparam shadowing false\r\n",
       "skinparam wrapWidth 300\r\n",
       "hide circle\r\n",
       "\r\n",
       "@enduml\r\n",
       "\n",
       "PlantUML version 1.2020.13(Sat Jun 13 12:26:38 UTC 2020)\n",
       "(EPL source distribution)\n",
       "Java Runtime: OpenJDK Runtime Environment\n",
       "JVM: OpenJDK 64-Bit Server VM\n",
       "Default Encoding: UTF-8\n",
       "Language: en\n",
       "Country: null\n",
       "--></g></svg>"
      ]
     },
     "execution_count": 7,
     "metadata": {},
     "output_type": "execute_result"
    }
   ],
   "source": [
    "%viz --style=\"COMPTREE\" --view=\"Sequence\" \"MultiplicityTest\""
   ]
  },
  {
   "cell_type": "code",
   "execution_count": 8,
   "id": "41244506",
   "metadata": {
    "execution": {
     "iopub.execute_input": "2021-10-03T08:30:18.885707Z",
     "iopub.status.busy": "2021-10-03T08:30:18.885298Z",
     "iopub.status.idle": "2021-10-03T08:30:18.966855Z",
     "shell.execute_reply": "2021-10-03T08:30:18.966475Z"
    }
   },
   "outputs": [
    {
     "data": {
      "image/svg+xml": [
       "<?xml version=\"1.0\" encoding=\"UTF-8\" standalone=\"no\"?><svg xmlns=\"http://www.w3.org/2000/svg\" xmlns:xlink=\"http://www.w3.org/1999/xlink\" contentScriptType=\"application/ecmascript\" contentStyleType=\"text/css\" height=\"263px\" preserveAspectRatio=\"none\" style=\"width:812px;height:263px;\" version=\"1.1\" viewBox=\"0 0 812 263\" width=\"812px\" zoomAndPan=\"magnify\"><defs/><g><!--MD5=[fbc87193dbaf4d95561dea2c320d4a47]\n",
       "cluster E1--><a href=\"psysml:917c8e98-308c-4a57-bedc-72bb13927275\" target=\"_top\" title=\"psysml:917c8e98-308c-4a57-bedc-72bb13927275\" xlink:actuate=\"onRequest\" xlink:href=\"psysml:917c8e98-308c-4a57-bedc-72bb13927275\" xlink:show=\"new\" xlink:title=\"psysml:917c8e98-308c-4a57-bedc-72bb13927275\" xlink:type=\"simple\"><polygon fill=\"#FFFFFF\" points=\"16,6,123,6,130,28.2969,790,28.2969,790,251,16,251,16,6\" style=\"stroke: #000000; stroke-width: 1.5;\"/><line style=\"stroke: #000000; stroke-width: 1.5;\" x1=\"16\" x2=\"130\" y1=\"28.2969\" y2=\"28.2969\"/><text fill=\"#000000\" font-family=\"sans-serif\" font-size=\"14\" font-weight=\"bold\" lengthAdjust=\"spacingAndGlyphs\" textLength=\"101\" x=\"20\" y=\"20.9951\">MultiplicityTest</text></a><!--MD5=[b4997ac47864f28c2f74865a473b2911]\n",
       "class E2--><a href=\"psysml:1b8e2ab6-001b-4483-8406-5463ddd95a77\" target=\"_top\" title=\"psysml:1b8e2ab6-001b-4483-8406-5463ddd95a77\" xlink:actuate=\"onRequest\" xlink:href=\"psysml:1b8e2ab6-001b-4483-8406-5463ddd95a77\" xlink:show=\"new\" xlink:title=\"psysml:1b8e2ab6-001b-4483-8406-5463ddd95a77\" xlink:type=\"simple\"><rect fill=\"#FFFFFF\" height=\"45.9375\" id=\"E2\" style=\"stroke: #383838; stroke-width: 1.5;\" width=\"66\" x=\"497\" y=\"189\"/><text fill=\"#000000\" font-family=\"sans-serif\" font-size=\"12\" font-style=\"italic\" lengthAdjust=\"spacingAndGlyphs\" textLength=\"64\" x=\"498\" y=\"205.1387\">«part def»</text><text fill=\"#000000\" font-family=\"sans-serif\" font-size=\"12\" lengthAdjust=\"spacingAndGlyphs\" textLength=\"8\" x=\"526\" y=\"219.1074\">P</text><line style=\"stroke: #383838; stroke-width: 1.5;\" x1=\"498\" x2=\"562\" y1=\"226.9375\" y2=\"226.9375\"/></a><!--MD5=[09b614a08d8cba4a07c9adeb5e0fee81]\n",
       "class E3--><a href=\"psysml:d0e8f829-c575-44a2-9ede-b108238de40c\" target=\"_top\" title=\"psysml:d0e8f829-c575-44a2-9ede-b108238de40c\" xlink:actuate=\"onRequest\" xlink:href=\"psysml:d0e8f829-c575-44a2-9ede-b108238de40c\" xlink:show=\"new\" xlink:title=\"psysml:d0e8f829-c575-44a2-9ede-b108238de40c\" xlink:type=\"simple\"><rect fill=\"#FFFFFF\" height=\"45.9375\" id=\"E3\" rx=\"10\" ry=\"10\" style=\"stroke: #383838; stroke-width: 1.5;\" width=\"71\" x=\"702.5\" y=\"62\"/><text fill=\"#000000\" font-family=\"sans-serif\" font-size=\"12\" font-style=\"italic\" lengthAdjust=\"spacingAndGlyphs\" textLength=\"69\" x=\"703.5\" y=\"78.1387\">«attribute»</text><text fill=\"#000000\" font-family=\"sans-serif\" font-size=\"12\" lengthAdjust=\"spacingAndGlyphs\" textLength=\"61\" x=\"707.5\" y=\"92.1074\">n: Integer</text><line style=\"stroke: #383838; stroke-width: 1.5;\" x1=\"703.5\" x2=\"772.5\" y1=\"99.9375\" y2=\"99.9375\"/></a><!--MD5=[ebbe1d658d1005bcc118a6aa81145e00]\n",
       "class E4--><a href=\"psysml:2de2cbdc-62e6-485a-a7d2-bee7f587f60d\" target=\"_top\" title=\"psysml:2de2cbdc-62e6-485a-a7d2-bee7f587f60d\" xlink:actuate=\"onRequest\" xlink:href=\"psysml:2de2cbdc-62e6-485a-a7d2-bee7f587f60d\" xlink:show=\"new\" xlink:title=\"psysml:2de2cbdc-62e6-485a-a7d2-bee7f587f60d\" xlink:type=\"simple\"><rect fill=\"#FFFFFF\" height=\"45.9375\" id=\"E4\" rx=\"10\" ry=\"10\" style=\"stroke: #383838; stroke-width: 1.5;\" width=\"42\" x=\"625\" y=\"62\"/><text fill=\"#000000\" font-family=\"sans-serif\" font-size=\"12\" font-style=\"italic\" lengthAdjust=\"spacingAndGlyphs\" textLength=\"40\" x=\"626\" y=\"78.1387\">«part»</text><text fill=\"#000000\" font-family=\"sans-serif\" font-size=\"12\" lengthAdjust=\"spacingAndGlyphs\" textLength=\"8\" x=\"642\" y=\"92.1074\">a</text><line style=\"stroke: #383838; stroke-width: 1.5;\" x1=\"626\" x2=\"666\" y1=\"99.9375\" y2=\"99.9375\"/></a><!--MD5=[270fce915f116d4de14055a7c1d9a0f3]\n",
       "class E5--><a href=\"psysml:a47b2c6e-81dd-4a7f-97e2-f2f751620c17\" target=\"_top\" title=\"psysml:a47b2c6e-81dd-4a7f-97e2-f2f751620c17\" xlink:actuate=\"onRequest\" xlink:href=\"psysml:a47b2c6e-81dd-4a7f-97e2-f2f751620c17\" xlink:show=\"new\" xlink:title=\"psysml:a47b2c6e-81dd-4a7f-97e2-f2f751620c17\" xlink:type=\"simple\"><rect fill=\"#FFFFFF\" height=\"45.9375\" id=\"E5\" rx=\"10\" ry=\"10\" style=\"stroke: #383838; stroke-width: 1.5;\" width=\"42\" x=\"548\" y=\"62\"/><text fill=\"#000000\" font-family=\"sans-serif\" font-size=\"12\" font-style=\"italic\" lengthAdjust=\"spacingAndGlyphs\" textLength=\"40\" x=\"549\" y=\"78.1387\">«part»</text><text fill=\"#000000\" font-family=\"sans-serif\" font-size=\"12\" lengthAdjust=\"spacingAndGlyphs\" textLength=\"24\" x=\"557\" y=\"92.1074\">b: P</text><line style=\"stroke: #383838; stroke-width: 1.5;\" x1=\"549\" x2=\"589\" y1=\"99.9375\" y2=\"99.9375\"/></a><!--MD5=[60a26617385b1d2d0262a64233df1f8d]\n",
       "class E6--><a href=\"psysml:46e4b238-da26-40c7-b1f6-d3a4f2631481\" target=\"_top\" title=\"psysml:46e4b238-da26-40c7-b1f6-d3a4f2631481\" xlink:actuate=\"onRequest\" xlink:href=\"psysml:46e4b238-da26-40c7-b1f6-d3a4f2631481\" xlink:show=\"new\" xlink:title=\"psysml:46e4b238-da26-40c7-b1f6-d3a4f2631481\" xlink:type=\"simple\"><rect fill=\"#FFFFFF\" height=\"45.9375\" id=\"E6\" rx=\"10\" ry=\"10\" style=\"stroke: #383838; stroke-width: 1.5;\" width=\"42\" x=\"471\" y=\"62\"/><text fill=\"#000000\" font-family=\"sans-serif\" font-size=\"12\" font-style=\"italic\" lengthAdjust=\"spacingAndGlyphs\" textLength=\"40\" x=\"472\" y=\"78.1387\">«part»</text><text fill=\"#000000\" font-family=\"sans-serif\" font-size=\"12\" lengthAdjust=\"spacingAndGlyphs\" textLength=\"23\" x=\"480.5\" y=\"92.1074\">c: P</text><line style=\"stroke: #383838; stroke-width: 1.5;\" x1=\"472\" x2=\"512\" y1=\"99.9375\" y2=\"99.9375\"/></a><!--MD5=[2156ba9850f5573cc1fc38a6a4b2f02b]\n",
       "class E7--><a href=\"psysml:862abcb1-d094-4d1f-a90d-b0af915cd2bb\" target=\"_top\" title=\"psysml:862abcb1-d094-4d1f-a90d-b0af915cd2bb\" xlink:actuate=\"onRequest\" xlink:href=\"psysml:862abcb1-d094-4d1f-a90d-b0af915cd2bb\" xlink:show=\"new\" xlink:title=\"psysml:862abcb1-d094-4d1f-a90d-b0af915cd2bb\" xlink:type=\"simple\"><rect fill=\"#FFFFFF\" height=\"45.9375\" id=\"E7\" rx=\"10\" ry=\"10\" style=\"stroke: #383838; stroke-width: 1.5;\" width=\"42\" x=\"394\" y=\"62\"/><text fill=\"#000000\" font-family=\"sans-serif\" font-size=\"12\" font-style=\"italic\" lengthAdjust=\"spacingAndGlyphs\" textLength=\"40\" x=\"395\" y=\"78.1387\">«part»</text><text fill=\"#000000\" font-family=\"sans-serif\" font-size=\"12\" lengthAdjust=\"spacingAndGlyphs\" textLength=\"8\" x=\"411\" y=\"92.1074\">d</text><line style=\"stroke: #383838; stroke-width: 1.5;\" x1=\"395\" x2=\"435\" y1=\"99.9375\" y2=\"99.9375\"/></a><!--MD5=[b9389687b975829384b498ac4b7476b2]\n",
       "class E8--><a href=\"psysml:0f8b0aa8-e59b-4cfe-b590-8672d08a4434\" target=\"_top\" title=\"psysml:0f8b0aa8-e59b-4cfe-b590-8672d08a4434\" xlink:actuate=\"onRequest\" xlink:href=\"psysml:0f8b0aa8-e59b-4cfe-b590-8672d08a4434\" xlink:show=\"new\" xlink:title=\"psysml:0f8b0aa8-e59b-4cfe-b590-8672d08a4434\" xlink:type=\"simple\"><rect fill=\"#FFFFFF\" height=\"45.9375\" id=\"E8\" rx=\"10\" ry=\"10\" style=\"stroke: #383838; stroke-width: 1.5;\" width=\"42\" x=\"317\" y=\"62\"/><text fill=\"#000000\" font-family=\"sans-serif\" font-size=\"12\" font-style=\"italic\" lengthAdjust=\"spacingAndGlyphs\" textLength=\"40\" x=\"318\" y=\"78.1387\">«part»</text><text fill=\"#000000\" font-family=\"sans-serif\" font-size=\"12\" lengthAdjust=\"spacingAndGlyphs\" textLength=\"8\" x=\"334\" y=\"92.1074\">e</text><line style=\"stroke: #383838; stroke-width: 1.5;\" x1=\"318\" x2=\"358\" y1=\"99.9375\" y2=\"99.9375\"/></a><!--MD5=[fd4143e9d270a159db93a4ea2a975926]\n",
       "class E9--><a href=\"psysml:07bb6063-49af-4acb-bb76-a6a51f542bf8\" target=\"_top\" title=\"psysml:07bb6063-49af-4acb-bb76-a6a51f542bf8\" xlink:actuate=\"onRequest\" xlink:href=\"psysml:07bb6063-49af-4acb-bb76-a6a51f542bf8\" xlink:show=\"new\" xlink:title=\"psysml:07bb6063-49af-4acb-bb76-a6a51f542bf8\" xlink:type=\"simple\"><rect fill=\"#FFFFFF\" height=\"45.9375\" id=\"E9\" rx=\"10\" ry=\"10\" style=\"stroke: #383838; stroke-width: 1.5;\" width=\"42\" x=\"240\" y=\"62\"/><text fill=\"#000000\" font-family=\"sans-serif\" font-size=\"12\" font-style=\"italic\" lengthAdjust=\"spacingAndGlyphs\" textLength=\"40\" x=\"241\" y=\"78.1387\">«part»</text><text fill=\"#000000\" font-family=\"sans-serif\" font-size=\"12\" lengthAdjust=\"spacingAndGlyphs\" textLength=\"4\" x=\"259\" y=\"92.1074\">f</text><line style=\"stroke: #383838; stroke-width: 1.5;\" x1=\"241\" x2=\"281\" y1=\"99.9375\" y2=\"99.9375\"/></a><!--MD5=[96f4274e9e20536e775497830990834d]\n",
       "class E10--><a href=\"psysml:87a6ec87-e214-496f-a09f-1f6dfd597ed3\" target=\"_top\" title=\"psysml:87a6ec87-e214-496f-a09f-1f6dfd597ed3\" xlink:actuate=\"onRequest\" xlink:href=\"psysml:87a6ec87-e214-496f-a09f-1f6dfd597ed3\" xlink:show=\"new\" xlink:title=\"psysml:87a6ec87-e214-496f-a09f-1f6dfd597ed3\" xlink:type=\"simple\"><rect fill=\"#FFFFFF\" height=\"45.9375\" id=\"E10\" rx=\"10\" ry=\"10\" style=\"stroke: #383838; stroke-width: 1.5;\" width=\"42\" x=\"163\" y=\"62\"/><text fill=\"#000000\" font-family=\"sans-serif\" font-size=\"12\" font-style=\"italic\" lengthAdjust=\"spacingAndGlyphs\" textLength=\"40\" x=\"164\" y=\"78.1387\">«part»</text><text fill=\"#000000\" font-family=\"sans-serif\" font-size=\"12\" lengthAdjust=\"spacingAndGlyphs\" textLength=\"8\" x=\"180\" y=\"92.1074\">g</text><line style=\"stroke: #383838; stroke-width: 1.5;\" x1=\"164\" x2=\"204\" y1=\"99.9375\" y2=\"99.9375\"/></a><!--MD5=[1dd1bfd58a279cf63c5f349dbc8fc6a1]\n",
       "class E11--><a href=\"psysml:423769db-1814-486c-a3b1-3214b1eae655\" target=\"_top\" title=\"psysml:423769db-1814-486c-a3b1-3214b1eae655\" xlink:actuate=\"onRequest\" xlink:href=\"psysml:423769db-1814-486c-a3b1-3214b1eae655\" xlink:show=\"new\" xlink:title=\"psysml:423769db-1814-486c-a3b1-3214b1eae655\" xlink:type=\"simple\"><rect fill=\"#FFFFFF\" height=\"88.3516\" id=\"E11\" style=\"stroke: #383838; stroke-width: 1.5;\" width=\"95\" x=\"32.5\" y=\"41\"/><text fill=\"#000000\" font-family=\"sans-serif\" font-size=\"12\" font-style=\"italic\" lengthAdjust=\"spacingAndGlyphs\" textLength=\"93\" x=\"33.5\" y=\"57.1387\">«attribute def»</text><text fill=\"#000000\" font-family=\"sans-serif\" font-size=\"12\" lengthAdjust=\"spacingAndGlyphs\" textLength=\"8\" x=\"76\" y=\"71.1074\">A</text><line style=\"stroke: #383838; stroke-width: 1.5;\" x1=\"33.5\" x2=\"126.5\" y1=\"78.9375\" y2=\"78.9375\"/><text fill=\"#000000\" font-family=\"sans-serif\" font-size=\"11\" lengthAdjust=\"spacingAndGlyphs\" textLength=\"51\" x=\"38.5\" y=\"109.9526\">i: Integer</text><text fill=\"#000000\" font-family=\"sans-serif\" font-size=\"11\" lengthAdjust=\"spacingAndGlyphs\" textLength=\"21\" x=\"38.5\" y=\"122.7573\">x: A</text><line style=\"stroke: #383838; stroke-width: 1.0;\" x1=\"33.5\" x2=\"52.5\" y1=\"93.3398\" y2=\"93.3398\"/><text fill=\"#000000\" font-family=\"sans-serif\" font-size=\"11\" lengthAdjust=\"spacingAndGlyphs\" textLength=\"55\" x=\"52.5\" y=\"96.6479\">attributes</text><line style=\"stroke: #383838; stroke-width: 1.0;\" x1=\"107.5\" x2=\"126.5\" y1=\"93.3398\" y2=\"93.3398\"/></a><!--MD5=[15ebcb19ae302d9b601edb458606d402]\n",
       "link E5 to E2--><a href=\"psysml:56ee8f03-05cc-4672-92a5-af5f15d564f5\" target=\"_top\" title=\"psysml:56ee8f03-05cc-4672-92a5-af5f15d564f5\" xlink:actuate=\"onRequest\" xlink:href=\"psysml:56ee8f03-05cc-4672-92a5-af5f15d564f5\" xlink:show=\"new\" xlink:title=\"psysml:56ee8f03-05cc-4672-92a5-af5f15d564f5\" xlink:type=\"simple\"><path d=\"M562.12,108.06 C556.83,125 549.38,148.89 542.98,169.39 \" fill=\"none\" id=\"E5-&gt;E2\" style=\"stroke: #383838; stroke-width: 1.0;\"/><polygon fill=\"#FFFFFF\" points=\"536.95,188.74,535.929,168.5173,549.2931,172.6886,536.95,188.74\" style=\"stroke: #383838; stroke-width: 1.0;\"/><ellipse cx=\"539.5364\" cy=\"163.6721\" fill=\"#383838\" rx=\"2\" ry=\"2\" style=\"stroke: #383838; stroke-width: 1.0;\"/><ellipse cx=\"549.0823\" cy=\"166.6516\" fill=\"#383838\" rx=\"2\" ry=\"2\" style=\"stroke: #383838; stroke-width: 1.0;\"/></a><!--MD5=[2351f337d6de0f557b50152ba70847b5]\n",
       "link E6 to E2--><a href=\"psysml:34caeea3-9e32-4456-be5b-df49f4f1b3a4\" target=\"_top\" title=\"psysml:34caeea3-9e32-4456-be5b-df49f4f1b3a4\" xlink:actuate=\"onRequest\" xlink:href=\"psysml:34caeea3-9e32-4456-be5b-df49f4f1b3a4\" xlink:show=\"new\" xlink:title=\"psysml:34caeea3-9e32-4456-be5b-df49f4f1b3a4\" xlink:type=\"simple\"><path d=\"M498.71,108.06 C503.86,125 511.12,148.89 517.35,169.39 \" fill=\"none\" id=\"E6-&gt;E2\" style=\"stroke: #383838; stroke-width: 1.0;\"/><polygon fill=\"#FFFFFF\" points=\"523.23,188.74,511.007,172.597,524.4019,168.5255,523.23,188.74\" style=\"stroke: #383838; stroke-width: 1.0;\"/><ellipse cx=\"511.2628\" cy=\"166.5617\" fill=\"#383838\" rx=\"2\" ry=\"2\" style=\"stroke: #383838; stroke-width: 1.0;\"/><ellipse cx=\"520.8306\" cy=\"163.6535\" fill=\"#383838\" rx=\"2\" ry=\"2\" style=\"stroke: #383838; stroke-width: 1.0;\"/></a><!--MD5=[188deefd7b0271217c10aaf7a82a64c3]\n",
       "@startuml\r\n",
       " skinparam monochrome true\r\n",
       "skinparam classbackgroundcolor white\r\n",
       "skinparam shadowing false\r\n",
       "skinparam wrapWidth 300\r\n",
       "hide circle\r\n",
       "\r\n",
       "package \"MultiplicityTest\" as E1  [[psysml:917c8e98-308c-4a57-bedc-72bb13927275 ]]  {\r\n",
       "comp def \"P\" as E2  <<(T,blue) part def>> [[psysml:1b8e2ab6-001b-4483-8406-5463ddd95a77 ]] {\r\n",
       "}\r\n",
       "comp usage \"n: Integer\" as E3  <<(T,blue) attribute>> [[psysml:d0e8f829-c575-44a2-9ede-b108238de40c ]] {\r\n",
       "}\r\n",
       "comp usage \"a\" as E4  <<(T,blue) part>> [[psysml:2de2cbdc-62e6-485a-a7d2-bee7f587f60d ]] {\r\n",
       "}\r\n",
       "comp usage \"b: P\" as E5  <<(T,blue) part>> [[psysml:a47b2c6e-81dd-4a7f-97e2-f2f751620c17 ]] {\r\n",
       "}\r\n",
       "comp usage \"c: P\" as E6  <<(T,blue) part>> [[psysml:46e4b238-da26-40c7-b1f6-d3a4f2631481 ]] {\r\n",
       "}\r\n",
       "comp usage \"d\" as E7  <<(T,blue) part>> [[psysml:862abcb1-d094-4d1f-a90d-b0af915cd2bb ]] {\r\n",
       "}\r\n",
       "comp usage \"e\" as E8  <<(T,blue) part>> [[psysml:0f8b0aa8-e59b-4cfe-b590-8672d08a4434 ]] {\r\n",
       "}\r\n",
       "comp usage \"f\" as E9  <<(T,blue) part>> [[psysml:07bb6063-49af-4acb-bb76-a6a51f542bf8 ]] {\r\n",
       "}\r\n",
       "comp usage \"g\" as E10  <<(T,blue) part>> [[psysml:87a6ec87-e214-496f-a09f-1f6dfd597ed3 ]] {\r\n",
       "}\r\n",
       "comp def \"A\" as E11  <<(T,blue) attribute def>> [[psysml:423769db-1814-486c-a3b1-3214b1eae655 ]] {\r\n",
       "- - attributes - -\r\n",
       "i: Integer\r\n",
       "x: A\r\n",
       "}\r\n",
       "}\r\n",
       "E5 - -:|> E2 [[psysml:56ee8f03-05cc-4672-92a5-af5f15d564f5 ]] \r\n",
       "E6 - -:|> E2 [[psysml:34caeea3-9e32-4456-be5b-df49f4f1b3a4 ]] \r\n",
       "@enduml\r\n",
       "\n",
       "PlantUML version 1.2020.13(Sat Jun 13 12:26:38 UTC 2020)\n",
       "(EPL source distribution)\n",
       "Java Runtime: OpenJDK Runtime Environment\n",
       "JVM: OpenJDK 64-Bit Server VM\n",
       "Default Encoding: UTF-8\n",
       "Language: en\n",
       "Country: null\n",
       "--></g></svg>"
      ]
     },
     "execution_count": 8,
     "metadata": {},
     "output_type": "execute_result"
    }
   ],
   "source": [
    "%viz --style=\"COMPTREE\" --view=\"MIXED\" \"MultiplicityTest\""
   ]
  },
  {
   "cell_type": "code",
   "execution_count": 9,
   "id": "f1a50f64",
   "metadata": {
    "execution": {
     "iopub.execute_input": "2021-10-03T08:30:19.016079Z",
     "iopub.status.busy": "2021-10-03T08:30:19.015643Z",
     "iopub.status.idle": "2021-10-03T08:30:19.118298Z",
     "shell.execute_reply": "2021-10-03T08:30:19.117832Z"
    }
   },
   "outputs": [
    {
     "data": {
      "image/svg+xml": [
       "<?xml version=\"1.0\" encoding=\"UTF-8\" standalone=\"no\"?><svg xmlns=\"http://www.w3.org/2000/svg\" xmlns:xlink=\"http://www.w3.org/1999/xlink\" contentScriptType=\"application/ecmascript\" contentStyleType=\"text/css\" height=\"263px\" preserveAspectRatio=\"none\" style=\"width:812px;height:263px;\" version=\"1.1\" viewBox=\"0 0 812 263\" width=\"812px\" zoomAndPan=\"magnify\"><defs/><g><!--MD5=[fbc87193dbaf4d95561dea2c320d4a47]\n",
       "cluster E1--><a href=\"psysml:917c8e98-308c-4a57-bedc-72bb13927275\" target=\"_top\" title=\"psysml:917c8e98-308c-4a57-bedc-72bb13927275\" xlink:actuate=\"onRequest\" xlink:href=\"psysml:917c8e98-308c-4a57-bedc-72bb13927275\" xlink:show=\"new\" xlink:title=\"psysml:917c8e98-308c-4a57-bedc-72bb13927275\" xlink:type=\"simple\"><polygon fill=\"#FFFFFF\" points=\"16,6,123,6,130,28.2969,790,28.2969,790,251,16,251,16,6\" style=\"stroke: #000000; stroke-width: 1.5;\"/><line style=\"stroke: #000000; stroke-width: 1.5;\" x1=\"16\" x2=\"130\" y1=\"28.2969\" y2=\"28.2969\"/><text fill=\"#000000\" font-family=\"sans-serif\" font-size=\"14\" font-weight=\"bold\" lengthAdjust=\"spacingAndGlyphs\" textLength=\"101\" x=\"20\" y=\"20.9951\">MultiplicityTest</text></a><!--MD5=[b4997ac47864f28c2f74865a473b2911]\n",
       "class E2--><a href=\"psysml:1b8e2ab6-001b-4483-8406-5463ddd95a77\" target=\"_top\" title=\"psysml:1b8e2ab6-001b-4483-8406-5463ddd95a77\" xlink:actuate=\"onRequest\" xlink:href=\"psysml:1b8e2ab6-001b-4483-8406-5463ddd95a77\" xlink:show=\"new\" xlink:title=\"psysml:1b8e2ab6-001b-4483-8406-5463ddd95a77\" xlink:type=\"simple\"><rect fill=\"#FFFFFF\" height=\"45.9375\" id=\"E2\" style=\"stroke: #383838; stroke-width: 1.5;\" width=\"66\" x=\"497\" y=\"189\"/><text fill=\"#000000\" font-family=\"sans-serif\" font-size=\"12\" font-style=\"italic\" lengthAdjust=\"spacingAndGlyphs\" textLength=\"64\" x=\"498\" y=\"205.1387\">«part def»</text><text fill=\"#000000\" font-family=\"sans-serif\" font-size=\"12\" lengthAdjust=\"spacingAndGlyphs\" textLength=\"8\" x=\"526\" y=\"219.1074\">P</text><line style=\"stroke: #383838; stroke-width: 1.5;\" x1=\"498\" x2=\"562\" y1=\"226.9375\" y2=\"226.9375\"/></a><!--MD5=[09b614a08d8cba4a07c9adeb5e0fee81]\n",
       "class E3--><a href=\"psysml:d0e8f829-c575-44a2-9ede-b108238de40c\" target=\"_top\" title=\"psysml:d0e8f829-c575-44a2-9ede-b108238de40c\" xlink:actuate=\"onRequest\" xlink:href=\"psysml:d0e8f829-c575-44a2-9ede-b108238de40c\" xlink:show=\"new\" xlink:title=\"psysml:d0e8f829-c575-44a2-9ede-b108238de40c\" xlink:type=\"simple\"><rect fill=\"#FFFFFF\" height=\"45.9375\" id=\"E3\" rx=\"10\" ry=\"10\" style=\"stroke: #383838; stroke-width: 1.5;\" width=\"71\" x=\"702.5\" y=\"62\"/><text fill=\"#000000\" font-family=\"sans-serif\" font-size=\"12\" font-style=\"italic\" lengthAdjust=\"spacingAndGlyphs\" textLength=\"69\" x=\"703.5\" y=\"78.1387\">«attribute»</text><text fill=\"#000000\" font-family=\"sans-serif\" font-size=\"12\" lengthAdjust=\"spacingAndGlyphs\" textLength=\"61\" x=\"707.5\" y=\"92.1074\">n: Integer</text><line style=\"stroke: #383838; stroke-width: 1.5;\" x1=\"703.5\" x2=\"772.5\" y1=\"99.9375\" y2=\"99.9375\"/></a><!--MD5=[ebbe1d658d1005bcc118a6aa81145e00]\n",
       "class E4--><a href=\"psysml:2de2cbdc-62e6-485a-a7d2-bee7f587f60d\" target=\"_top\" title=\"psysml:2de2cbdc-62e6-485a-a7d2-bee7f587f60d\" xlink:actuate=\"onRequest\" xlink:href=\"psysml:2de2cbdc-62e6-485a-a7d2-bee7f587f60d\" xlink:show=\"new\" xlink:title=\"psysml:2de2cbdc-62e6-485a-a7d2-bee7f587f60d\" xlink:type=\"simple\"><rect fill=\"#FFFFFF\" height=\"45.9375\" id=\"E4\" rx=\"10\" ry=\"10\" style=\"stroke: #383838; stroke-width: 1.5;\" width=\"42\" x=\"625\" y=\"62\"/><text fill=\"#000000\" font-family=\"sans-serif\" font-size=\"12\" font-style=\"italic\" lengthAdjust=\"spacingAndGlyphs\" textLength=\"40\" x=\"626\" y=\"78.1387\">«part»</text><text fill=\"#000000\" font-family=\"sans-serif\" font-size=\"12\" lengthAdjust=\"spacingAndGlyphs\" textLength=\"8\" x=\"642\" y=\"92.1074\">a</text><line style=\"stroke: #383838; stroke-width: 1.5;\" x1=\"626\" x2=\"666\" y1=\"99.9375\" y2=\"99.9375\"/></a><!--MD5=[270fce915f116d4de14055a7c1d9a0f3]\n",
       "class E5--><a href=\"psysml:a47b2c6e-81dd-4a7f-97e2-f2f751620c17\" target=\"_top\" title=\"psysml:a47b2c6e-81dd-4a7f-97e2-f2f751620c17\" xlink:actuate=\"onRequest\" xlink:href=\"psysml:a47b2c6e-81dd-4a7f-97e2-f2f751620c17\" xlink:show=\"new\" xlink:title=\"psysml:a47b2c6e-81dd-4a7f-97e2-f2f751620c17\" xlink:type=\"simple\"><rect fill=\"#FFFFFF\" height=\"45.9375\" id=\"E5\" rx=\"10\" ry=\"10\" style=\"stroke: #383838; stroke-width: 1.5;\" width=\"42\" x=\"548\" y=\"62\"/><text fill=\"#000000\" font-family=\"sans-serif\" font-size=\"12\" font-style=\"italic\" lengthAdjust=\"spacingAndGlyphs\" textLength=\"40\" x=\"549\" y=\"78.1387\">«part»</text><text fill=\"#000000\" font-family=\"sans-serif\" font-size=\"12\" lengthAdjust=\"spacingAndGlyphs\" textLength=\"24\" x=\"557\" y=\"92.1074\">b: P</text><line style=\"stroke: #383838; stroke-width: 1.5;\" x1=\"549\" x2=\"589\" y1=\"99.9375\" y2=\"99.9375\"/></a><!--MD5=[60a26617385b1d2d0262a64233df1f8d]\n",
       "class E6--><a href=\"psysml:46e4b238-da26-40c7-b1f6-d3a4f2631481\" target=\"_top\" title=\"psysml:46e4b238-da26-40c7-b1f6-d3a4f2631481\" xlink:actuate=\"onRequest\" xlink:href=\"psysml:46e4b238-da26-40c7-b1f6-d3a4f2631481\" xlink:show=\"new\" xlink:title=\"psysml:46e4b238-da26-40c7-b1f6-d3a4f2631481\" xlink:type=\"simple\"><rect fill=\"#FFFFFF\" height=\"45.9375\" id=\"E6\" rx=\"10\" ry=\"10\" style=\"stroke: #383838; stroke-width: 1.5;\" width=\"42\" x=\"471\" y=\"62\"/><text fill=\"#000000\" font-family=\"sans-serif\" font-size=\"12\" font-style=\"italic\" lengthAdjust=\"spacingAndGlyphs\" textLength=\"40\" x=\"472\" y=\"78.1387\">«part»</text><text fill=\"#000000\" font-family=\"sans-serif\" font-size=\"12\" lengthAdjust=\"spacingAndGlyphs\" textLength=\"23\" x=\"480.5\" y=\"92.1074\">c: P</text><line style=\"stroke: #383838; stroke-width: 1.5;\" x1=\"472\" x2=\"512\" y1=\"99.9375\" y2=\"99.9375\"/></a><!--MD5=[2156ba9850f5573cc1fc38a6a4b2f02b]\n",
       "class E7--><a href=\"psysml:862abcb1-d094-4d1f-a90d-b0af915cd2bb\" target=\"_top\" title=\"psysml:862abcb1-d094-4d1f-a90d-b0af915cd2bb\" xlink:actuate=\"onRequest\" xlink:href=\"psysml:862abcb1-d094-4d1f-a90d-b0af915cd2bb\" xlink:show=\"new\" xlink:title=\"psysml:862abcb1-d094-4d1f-a90d-b0af915cd2bb\" xlink:type=\"simple\"><rect fill=\"#FFFFFF\" height=\"45.9375\" id=\"E7\" rx=\"10\" ry=\"10\" style=\"stroke: #383838; stroke-width: 1.5;\" width=\"42\" x=\"394\" y=\"62\"/><text fill=\"#000000\" font-family=\"sans-serif\" font-size=\"12\" font-style=\"italic\" lengthAdjust=\"spacingAndGlyphs\" textLength=\"40\" x=\"395\" y=\"78.1387\">«part»</text><text fill=\"#000000\" font-family=\"sans-serif\" font-size=\"12\" lengthAdjust=\"spacingAndGlyphs\" textLength=\"8\" x=\"411\" y=\"92.1074\">d</text><line style=\"stroke: #383838; stroke-width: 1.5;\" x1=\"395\" x2=\"435\" y1=\"99.9375\" y2=\"99.9375\"/></a><!--MD5=[b9389687b975829384b498ac4b7476b2]\n",
       "class E8--><a href=\"psysml:0f8b0aa8-e59b-4cfe-b590-8672d08a4434\" target=\"_top\" title=\"psysml:0f8b0aa8-e59b-4cfe-b590-8672d08a4434\" xlink:actuate=\"onRequest\" xlink:href=\"psysml:0f8b0aa8-e59b-4cfe-b590-8672d08a4434\" xlink:show=\"new\" xlink:title=\"psysml:0f8b0aa8-e59b-4cfe-b590-8672d08a4434\" xlink:type=\"simple\"><rect fill=\"#FFFFFF\" height=\"45.9375\" id=\"E8\" rx=\"10\" ry=\"10\" style=\"stroke: #383838; stroke-width: 1.5;\" width=\"42\" x=\"317\" y=\"62\"/><text fill=\"#000000\" font-family=\"sans-serif\" font-size=\"12\" font-style=\"italic\" lengthAdjust=\"spacingAndGlyphs\" textLength=\"40\" x=\"318\" y=\"78.1387\">«part»</text><text fill=\"#000000\" font-family=\"sans-serif\" font-size=\"12\" lengthAdjust=\"spacingAndGlyphs\" textLength=\"8\" x=\"334\" y=\"92.1074\">e</text><line style=\"stroke: #383838; stroke-width: 1.5;\" x1=\"318\" x2=\"358\" y1=\"99.9375\" y2=\"99.9375\"/></a><!--MD5=[fd4143e9d270a159db93a4ea2a975926]\n",
       "class E9--><a href=\"psysml:07bb6063-49af-4acb-bb76-a6a51f542bf8\" target=\"_top\" title=\"psysml:07bb6063-49af-4acb-bb76-a6a51f542bf8\" xlink:actuate=\"onRequest\" xlink:href=\"psysml:07bb6063-49af-4acb-bb76-a6a51f542bf8\" xlink:show=\"new\" xlink:title=\"psysml:07bb6063-49af-4acb-bb76-a6a51f542bf8\" xlink:type=\"simple\"><rect fill=\"#FFFFFF\" height=\"45.9375\" id=\"E9\" rx=\"10\" ry=\"10\" style=\"stroke: #383838; stroke-width: 1.5;\" width=\"42\" x=\"240\" y=\"62\"/><text fill=\"#000000\" font-family=\"sans-serif\" font-size=\"12\" font-style=\"italic\" lengthAdjust=\"spacingAndGlyphs\" textLength=\"40\" x=\"241\" y=\"78.1387\">«part»</text><text fill=\"#000000\" font-family=\"sans-serif\" font-size=\"12\" lengthAdjust=\"spacingAndGlyphs\" textLength=\"4\" x=\"259\" y=\"92.1074\">f</text><line style=\"stroke: #383838; stroke-width: 1.5;\" x1=\"241\" x2=\"281\" y1=\"99.9375\" y2=\"99.9375\"/></a><!--MD5=[96f4274e9e20536e775497830990834d]\n",
       "class E10--><a href=\"psysml:87a6ec87-e214-496f-a09f-1f6dfd597ed3\" target=\"_top\" title=\"psysml:87a6ec87-e214-496f-a09f-1f6dfd597ed3\" xlink:actuate=\"onRequest\" xlink:href=\"psysml:87a6ec87-e214-496f-a09f-1f6dfd597ed3\" xlink:show=\"new\" xlink:title=\"psysml:87a6ec87-e214-496f-a09f-1f6dfd597ed3\" xlink:type=\"simple\"><rect fill=\"#FFFFFF\" height=\"45.9375\" id=\"E10\" rx=\"10\" ry=\"10\" style=\"stroke: #383838; stroke-width: 1.5;\" width=\"42\" x=\"163\" y=\"62\"/><text fill=\"#000000\" font-family=\"sans-serif\" font-size=\"12\" font-style=\"italic\" lengthAdjust=\"spacingAndGlyphs\" textLength=\"40\" x=\"164\" y=\"78.1387\">«part»</text><text fill=\"#000000\" font-family=\"sans-serif\" font-size=\"12\" lengthAdjust=\"spacingAndGlyphs\" textLength=\"8\" x=\"180\" y=\"92.1074\">g</text><line style=\"stroke: #383838; stroke-width: 1.5;\" x1=\"164\" x2=\"204\" y1=\"99.9375\" y2=\"99.9375\"/></a><!--MD5=[1dd1bfd58a279cf63c5f349dbc8fc6a1]\n",
       "class E11--><a href=\"psysml:423769db-1814-486c-a3b1-3214b1eae655\" target=\"_top\" title=\"psysml:423769db-1814-486c-a3b1-3214b1eae655\" xlink:actuate=\"onRequest\" xlink:href=\"psysml:423769db-1814-486c-a3b1-3214b1eae655\" xlink:show=\"new\" xlink:title=\"psysml:423769db-1814-486c-a3b1-3214b1eae655\" xlink:type=\"simple\"><rect fill=\"#FFFFFF\" height=\"88.3516\" id=\"E11\" style=\"stroke: #383838; stroke-width: 1.5;\" width=\"95\" x=\"32.5\" y=\"41\"/><text fill=\"#000000\" font-family=\"sans-serif\" font-size=\"12\" font-style=\"italic\" lengthAdjust=\"spacingAndGlyphs\" textLength=\"93\" x=\"33.5\" y=\"57.1387\">«attribute def»</text><text fill=\"#000000\" font-family=\"sans-serif\" font-size=\"12\" lengthAdjust=\"spacingAndGlyphs\" textLength=\"8\" x=\"76\" y=\"71.1074\">A</text><line style=\"stroke: #383838; stroke-width: 1.5;\" x1=\"33.5\" x2=\"126.5\" y1=\"78.9375\" y2=\"78.9375\"/><text fill=\"#000000\" font-family=\"sans-serif\" font-size=\"11\" lengthAdjust=\"spacingAndGlyphs\" textLength=\"51\" x=\"38.5\" y=\"109.9526\">i: Integer</text><text fill=\"#000000\" font-family=\"sans-serif\" font-size=\"11\" lengthAdjust=\"spacingAndGlyphs\" textLength=\"21\" x=\"38.5\" y=\"122.7573\">x: A</text><line style=\"stroke: #383838; stroke-width: 1.0;\" x1=\"33.5\" x2=\"52.5\" y1=\"93.3398\" y2=\"93.3398\"/><text fill=\"#000000\" font-family=\"sans-serif\" font-size=\"11\" lengthAdjust=\"spacingAndGlyphs\" textLength=\"55\" x=\"52.5\" y=\"96.6479\">attributes</text><line style=\"stroke: #383838; stroke-width: 1.0;\" x1=\"107.5\" x2=\"126.5\" y1=\"93.3398\" y2=\"93.3398\"/></a><!--MD5=[15ebcb19ae302d9b601edb458606d402]\n",
       "link E5 to E2--><a href=\"psysml:56ee8f03-05cc-4672-92a5-af5f15d564f5\" target=\"_top\" title=\"psysml:56ee8f03-05cc-4672-92a5-af5f15d564f5\" xlink:actuate=\"onRequest\" xlink:href=\"psysml:56ee8f03-05cc-4672-92a5-af5f15d564f5\" xlink:show=\"new\" xlink:title=\"psysml:56ee8f03-05cc-4672-92a5-af5f15d564f5\" xlink:type=\"simple\"><path d=\"M562.12,108.06 C556.83,125 549.38,148.89 542.98,169.39 \" fill=\"none\" id=\"E5-&gt;E2\" style=\"stroke: #383838; stroke-width: 1.0;\"/><polygon fill=\"#FFFFFF\" points=\"536.95,188.74,535.929,168.5173,549.2931,172.6886,536.95,188.74\" style=\"stroke: #383838; stroke-width: 1.0;\"/><ellipse cx=\"539.5364\" cy=\"163.6721\" fill=\"#383838\" rx=\"2\" ry=\"2\" style=\"stroke: #383838; stroke-width: 1.0;\"/><ellipse cx=\"549.0823\" cy=\"166.6516\" fill=\"#383838\" rx=\"2\" ry=\"2\" style=\"stroke: #383838; stroke-width: 1.0;\"/></a><!--MD5=[2351f337d6de0f557b50152ba70847b5]\n",
       "link E6 to E2--><a href=\"psysml:34caeea3-9e32-4456-be5b-df49f4f1b3a4\" target=\"_top\" title=\"psysml:34caeea3-9e32-4456-be5b-df49f4f1b3a4\" xlink:actuate=\"onRequest\" xlink:href=\"psysml:34caeea3-9e32-4456-be5b-df49f4f1b3a4\" xlink:show=\"new\" xlink:title=\"psysml:34caeea3-9e32-4456-be5b-df49f4f1b3a4\" xlink:type=\"simple\"><path d=\"M498.71,108.06 C503.86,125 511.12,148.89 517.35,169.39 \" fill=\"none\" id=\"E6-&gt;E2\" style=\"stroke: #383838; stroke-width: 1.0;\"/><polygon fill=\"#FFFFFF\" points=\"523.23,188.74,511.007,172.597,524.4019,168.5255,523.23,188.74\" style=\"stroke: #383838; stroke-width: 1.0;\"/><ellipse cx=\"511.2628\" cy=\"166.5617\" fill=\"#383838\" rx=\"2\" ry=\"2\" style=\"stroke: #383838; stroke-width: 1.0;\"/><ellipse cx=\"520.8306\" cy=\"163.6535\" fill=\"#383838\" rx=\"2\" ry=\"2\" style=\"stroke: #383838; stroke-width: 1.0;\"/></a><!--MD5=[91030909152ee7dfe3ed586d3fd7695a]\n",
       "@startuml\r\n",
       "skinparam linetype polyline\r\n",
       "skinparam monochrome true\r\n",
       "skinparam classbackgroundcolor white\r\n",
       "skinparam shadowing false\r\n",
       "skinparam wrapWidth 300\r\n",
       "hide circle\r\n",
       "\r\n",
       "package \"MultiplicityTest\" as E1  [[psysml:917c8e98-308c-4a57-bedc-72bb13927275 ]]  {\r\n",
       "comp def \"P\" as E2  <<(T,blue) part def>> [[psysml:1b8e2ab6-001b-4483-8406-5463ddd95a77 ]] {\r\n",
       "}\r\n",
       "comp usage \"n: Integer\" as E3  <<(T,blue) attribute>> [[psysml:d0e8f829-c575-44a2-9ede-b108238de40c ]] {\r\n",
       "}\r\n",
       "comp usage \"a\" as E4  <<(T,blue) part>> [[psysml:2de2cbdc-62e6-485a-a7d2-bee7f587f60d ]] {\r\n",
       "}\r\n",
       "comp usage \"b: P\" as E5  <<(T,blue) part>> [[psysml:a47b2c6e-81dd-4a7f-97e2-f2f751620c17 ]] {\r\n",
       "}\r\n",
       "comp usage \"c: P\" as E6  <<(T,blue) part>> [[psysml:46e4b238-da26-40c7-b1f6-d3a4f2631481 ]] {\r\n",
       "}\r\n",
       "comp usage \"d\" as E7  <<(T,blue) part>> [[psysml:862abcb1-d094-4d1f-a90d-b0af915cd2bb ]] {\r\n",
       "}\r\n",
       "comp usage \"e\" as E8  <<(T,blue) part>> [[psysml:0f8b0aa8-e59b-4cfe-b590-8672d08a4434 ]] {\r\n",
       "}\r\n",
       "comp usage \"f\" as E9  <<(T,blue) part>> [[psysml:07bb6063-49af-4acb-bb76-a6a51f542bf8 ]] {\r\n",
       "}\r\n",
       "comp usage \"g\" as E10  <<(T,blue) part>> [[psysml:87a6ec87-e214-496f-a09f-1f6dfd597ed3 ]] {\r\n",
       "}\r\n",
       "comp def \"A\" as E11  <<(T,blue) attribute def>> [[psysml:423769db-1814-486c-a3b1-3214b1eae655 ]] {\r\n",
       "- - attributes - -\r\n",
       "i: Integer\r\n",
       "x: A\r\n",
       "}\r\n",
       "}\r\n",
       "E5 - -:|> E2 [[psysml:56ee8f03-05cc-4672-92a5-af5f15d564f5 ]] \r\n",
       "E6 - -:|> E2 [[psysml:34caeea3-9e32-4456-be5b-df49f4f1b3a4 ]] \r\n",
       "@enduml\r\n",
       "\n",
       "PlantUML version 1.2020.13(Sat Jun 13 12:26:38 UTC 2020)\n",
       "(EPL source distribution)\n",
       "Java Runtime: OpenJDK Runtime Environment\n",
       "JVM: OpenJDK 64-Bit Server VM\n",
       "Default Encoding: UTF-8\n",
       "Language: en\n",
       "Country: null\n",
       "--></g></svg>"
      ]
     },
     "execution_count": 9,
     "metadata": {},
     "output_type": "execute_result"
    }
   ],
   "source": [
    "%viz --style=\"POLYLINE\" --view=\"Default\" \"MultiplicityTest\""
   ]
  },
  {
   "cell_type": "code",
   "execution_count": 10,
   "id": "4b096769",
   "metadata": {
    "execution": {
     "iopub.execute_input": "2021-10-03T08:30:19.167302Z",
     "iopub.status.busy": "2021-10-03T08:30:19.166865Z",
     "iopub.status.idle": "2021-10-03T08:30:19.234356Z",
     "shell.execute_reply": "2021-10-03T08:30:19.233984Z"
    }
   },
   "outputs": [
    {
     "data": {
      "image/svg+xml": [
       "<?xml version=\"1.0\" encoding=\"UTF-8\" standalone=\"no\"?><svg xmlns=\"http://www.w3.org/2000/svg\" xmlns:xlink=\"http://www.w3.org/1999/xlink\" contentScriptType=\"application/ecmascript\" contentStyleType=\"text/css\" height=\"263px\" preserveAspectRatio=\"none\" style=\"width:812px;height:263px;\" version=\"1.1\" viewBox=\"0 0 812 263\" width=\"812px\" zoomAndPan=\"magnify\"><defs/><g><!--MD5=[fbc87193dbaf4d95561dea2c320d4a47]\n",
       "cluster E1--><a href=\"psysml:917c8e98-308c-4a57-bedc-72bb13927275\" target=\"_top\" title=\"psysml:917c8e98-308c-4a57-bedc-72bb13927275\" xlink:actuate=\"onRequest\" xlink:href=\"psysml:917c8e98-308c-4a57-bedc-72bb13927275\" xlink:show=\"new\" xlink:title=\"psysml:917c8e98-308c-4a57-bedc-72bb13927275\" xlink:type=\"simple\"><polygon fill=\"#FFFFFF\" points=\"16,6,123,6,130,28.2969,790,28.2969,790,251,16,251,16,6\" style=\"stroke: #000000; stroke-width: 1.5;\"/><line style=\"stroke: #000000; stroke-width: 1.5;\" x1=\"16\" x2=\"130\" y1=\"28.2969\" y2=\"28.2969\"/><text fill=\"#000000\" font-family=\"sans-serif\" font-size=\"14\" font-weight=\"bold\" lengthAdjust=\"spacingAndGlyphs\" textLength=\"101\" x=\"20\" y=\"20.9951\">MultiplicityTest</text></a><!--MD5=[b4997ac47864f28c2f74865a473b2911]\n",
       "class E2--><a href=\"psysml:1b8e2ab6-001b-4483-8406-5463ddd95a77\" target=\"_top\" title=\"psysml:1b8e2ab6-001b-4483-8406-5463ddd95a77\" xlink:actuate=\"onRequest\" xlink:href=\"psysml:1b8e2ab6-001b-4483-8406-5463ddd95a77\" xlink:show=\"new\" xlink:title=\"psysml:1b8e2ab6-001b-4483-8406-5463ddd95a77\" xlink:type=\"simple\"><rect fill=\"#FFFFFF\" height=\"45.9375\" id=\"E2\" style=\"stroke: #383838; stroke-width: 1.5;\" width=\"66\" x=\"497\" y=\"189\"/><text fill=\"#000000\" font-family=\"sans-serif\" font-size=\"12\" font-style=\"italic\" lengthAdjust=\"spacingAndGlyphs\" textLength=\"64\" x=\"498\" y=\"205.1387\">«part def»</text><text fill=\"#000000\" font-family=\"sans-serif\" font-size=\"12\" lengthAdjust=\"spacingAndGlyphs\" textLength=\"8\" x=\"526\" y=\"219.1074\">P</text><line style=\"stroke: #383838; stroke-width: 1.5;\" x1=\"498\" x2=\"562\" y1=\"226.9375\" y2=\"226.9375\"/></a><!--MD5=[09b614a08d8cba4a07c9adeb5e0fee81]\n",
       "class E3--><a href=\"psysml:d0e8f829-c575-44a2-9ede-b108238de40c\" target=\"_top\" title=\"psysml:d0e8f829-c575-44a2-9ede-b108238de40c\" xlink:actuate=\"onRequest\" xlink:href=\"psysml:d0e8f829-c575-44a2-9ede-b108238de40c\" xlink:show=\"new\" xlink:title=\"psysml:d0e8f829-c575-44a2-9ede-b108238de40c\" xlink:type=\"simple\"><rect fill=\"#FFFFFF\" height=\"45.9375\" id=\"E3\" rx=\"10\" ry=\"10\" style=\"stroke: #383838; stroke-width: 1.5;\" width=\"71\" x=\"702.5\" y=\"62\"/><text fill=\"#000000\" font-family=\"sans-serif\" font-size=\"12\" font-style=\"italic\" lengthAdjust=\"spacingAndGlyphs\" textLength=\"69\" x=\"703.5\" y=\"78.1387\">«attribute»</text><text fill=\"#000000\" font-family=\"sans-serif\" font-size=\"12\" lengthAdjust=\"spacingAndGlyphs\" textLength=\"61\" x=\"707.5\" y=\"92.1074\">n: Integer</text><line style=\"stroke: #383838; stroke-width: 1.5;\" x1=\"703.5\" x2=\"772.5\" y1=\"99.9375\" y2=\"99.9375\"/></a><!--MD5=[ebbe1d658d1005bcc118a6aa81145e00]\n",
       "class E4--><a href=\"psysml:2de2cbdc-62e6-485a-a7d2-bee7f587f60d\" target=\"_top\" title=\"psysml:2de2cbdc-62e6-485a-a7d2-bee7f587f60d\" xlink:actuate=\"onRequest\" xlink:href=\"psysml:2de2cbdc-62e6-485a-a7d2-bee7f587f60d\" xlink:show=\"new\" xlink:title=\"psysml:2de2cbdc-62e6-485a-a7d2-bee7f587f60d\" xlink:type=\"simple\"><rect fill=\"#FFFFFF\" height=\"45.9375\" id=\"E4\" rx=\"10\" ry=\"10\" style=\"stroke: #383838; stroke-width: 1.5;\" width=\"42\" x=\"625\" y=\"62\"/><text fill=\"#000000\" font-family=\"sans-serif\" font-size=\"12\" font-style=\"italic\" lengthAdjust=\"spacingAndGlyphs\" textLength=\"40\" x=\"626\" y=\"78.1387\">«part»</text><text fill=\"#000000\" font-family=\"sans-serif\" font-size=\"12\" lengthAdjust=\"spacingAndGlyphs\" textLength=\"8\" x=\"642\" y=\"92.1074\">a</text><line style=\"stroke: #383838; stroke-width: 1.5;\" x1=\"626\" x2=\"666\" y1=\"99.9375\" y2=\"99.9375\"/></a><!--MD5=[270fce915f116d4de14055a7c1d9a0f3]\n",
       "class E5--><a href=\"psysml:a47b2c6e-81dd-4a7f-97e2-f2f751620c17\" target=\"_top\" title=\"psysml:a47b2c6e-81dd-4a7f-97e2-f2f751620c17\" xlink:actuate=\"onRequest\" xlink:href=\"psysml:a47b2c6e-81dd-4a7f-97e2-f2f751620c17\" xlink:show=\"new\" xlink:title=\"psysml:a47b2c6e-81dd-4a7f-97e2-f2f751620c17\" xlink:type=\"simple\"><rect fill=\"#FFFFFF\" height=\"45.9375\" id=\"E5\" rx=\"10\" ry=\"10\" style=\"stroke: #383838; stroke-width: 1.5;\" width=\"42\" x=\"548\" y=\"62\"/><text fill=\"#000000\" font-family=\"sans-serif\" font-size=\"12\" font-style=\"italic\" lengthAdjust=\"spacingAndGlyphs\" textLength=\"40\" x=\"549\" y=\"78.1387\">«part»</text><text fill=\"#000000\" font-family=\"sans-serif\" font-size=\"12\" lengthAdjust=\"spacingAndGlyphs\" textLength=\"24\" x=\"557\" y=\"92.1074\">b: P</text><line style=\"stroke: #383838; stroke-width: 1.5;\" x1=\"549\" x2=\"589\" y1=\"99.9375\" y2=\"99.9375\"/></a><!--MD5=[60a26617385b1d2d0262a64233df1f8d]\n",
       "class E6--><a href=\"psysml:46e4b238-da26-40c7-b1f6-d3a4f2631481\" target=\"_top\" title=\"psysml:46e4b238-da26-40c7-b1f6-d3a4f2631481\" xlink:actuate=\"onRequest\" xlink:href=\"psysml:46e4b238-da26-40c7-b1f6-d3a4f2631481\" xlink:show=\"new\" xlink:title=\"psysml:46e4b238-da26-40c7-b1f6-d3a4f2631481\" xlink:type=\"simple\"><rect fill=\"#FFFFFF\" height=\"45.9375\" id=\"E6\" rx=\"10\" ry=\"10\" style=\"stroke: #383838; stroke-width: 1.5;\" width=\"42\" x=\"471\" y=\"62\"/><text fill=\"#000000\" font-family=\"sans-serif\" font-size=\"12\" font-style=\"italic\" lengthAdjust=\"spacingAndGlyphs\" textLength=\"40\" x=\"472\" y=\"78.1387\">«part»</text><text fill=\"#000000\" font-family=\"sans-serif\" font-size=\"12\" lengthAdjust=\"spacingAndGlyphs\" textLength=\"23\" x=\"480.5\" y=\"92.1074\">c: P</text><line style=\"stroke: #383838; stroke-width: 1.5;\" x1=\"472\" x2=\"512\" y1=\"99.9375\" y2=\"99.9375\"/></a><!--MD5=[2156ba9850f5573cc1fc38a6a4b2f02b]\n",
       "class E7--><a href=\"psysml:862abcb1-d094-4d1f-a90d-b0af915cd2bb\" target=\"_top\" title=\"psysml:862abcb1-d094-4d1f-a90d-b0af915cd2bb\" xlink:actuate=\"onRequest\" xlink:href=\"psysml:862abcb1-d094-4d1f-a90d-b0af915cd2bb\" xlink:show=\"new\" xlink:title=\"psysml:862abcb1-d094-4d1f-a90d-b0af915cd2bb\" xlink:type=\"simple\"><rect fill=\"#FFFFFF\" height=\"45.9375\" id=\"E7\" rx=\"10\" ry=\"10\" style=\"stroke: #383838; stroke-width: 1.5;\" width=\"42\" x=\"394\" y=\"62\"/><text fill=\"#000000\" font-family=\"sans-serif\" font-size=\"12\" font-style=\"italic\" lengthAdjust=\"spacingAndGlyphs\" textLength=\"40\" x=\"395\" y=\"78.1387\">«part»</text><text fill=\"#000000\" font-family=\"sans-serif\" font-size=\"12\" lengthAdjust=\"spacingAndGlyphs\" textLength=\"8\" x=\"411\" y=\"92.1074\">d</text><line style=\"stroke: #383838; stroke-width: 1.5;\" x1=\"395\" x2=\"435\" y1=\"99.9375\" y2=\"99.9375\"/></a><!--MD5=[b9389687b975829384b498ac4b7476b2]\n",
       "class E8--><a href=\"psysml:0f8b0aa8-e59b-4cfe-b590-8672d08a4434\" target=\"_top\" title=\"psysml:0f8b0aa8-e59b-4cfe-b590-8672d08a4434\" xlink:actuate=\"onRequest\" xlink:href=\"psysml:0f8b0aa8-e59b-4cfe-b590-8672d08a4434\" xlink:show=\"new\" xlink:title=\"psysml:0f8b0aa8-e59b-4cfe-b590-8672d08a4434\" xlink:type=\"simple\"><rect fill=\"#FFFFFF\" height=\"45.9375\" id=\"E8\" rx=\"10\" ry=\"10\" style=\"stroke: #383838; stroke-width: 1.5;\" width=\"42\" x=\"317\" y=\"62\"/><text fill=\"#000000\" font-family=\"sans-serif\" font-size=\"12\" font-style=\"italic\" lengthAdjust=\"spacingAndGlyphs\" textLength=\"40\" x=\"318\" y=\"78.1387\">«part»</text><text fill=\"#000000\" font-family=\"sans-serif\" font-size=\"12\" lengthAdjust=\"spacingAndGlyphs\" textLength=\"8\" x=\"334\" y=\"92.1074\">e</text><line style=\"stroke: #383838; stroke-width: 1.5;\" x1=\"318\" x2=\"358\" y1=\"99.9375\" y2=\"99.9375\"/></a><!--MD5=[fd4143e9d270a159db93a4ea2a975926]\n",
       "class E9--><a href=\"psysml:07bb6063-49af-4acb-bb76-a6a51f542bf8\" target=\"_top\" title=\"psysml:07bb6063-49af-4acb-bb76-a6a51f542bf8\" xlink:actuate=\"onRequest\" xlink:href=\"psysml:07bb6063-49af-4acb-bb76-a6a51f542bf8\" xlink:show=\"new\" xlink:title=\"psysml:07bb6063-49af-4acb-bb76-a6a51f542bf8\" xlink:type=\"simple\"><rect fill=\"#FFFFFF\" height=\"45.9375\" id=\"E9\" rx=\"10\" ry=\"10\" style=\"stroke: #383838; stroke-width: 1.5;\" width=\"42\" x=\"240\" y=\"62\"/><text fill=\"#000000\" font-family=\"sans-serif\" font-size=\"12\" font-style=\"italic\" lengthAdjust=\"spacingAndGlyphs\" textLength=\"40\" x=\"241\" y=\"78.1387\">«part»</text><text fill=\"#000000\" font-family=\"sans-serif\" font-size=\"12\" lengthAdjust=\"spacingAndGlyphs\" textLength=\"4\" x=\"259\" y=\"92.1074\">f</text><line style=\"stroke: #383838; stroke-width: 1.5;\" x1=\"241\" x2=\"281\" y1=\"99.9375\" y2=\"99.9375\"/></a><!--MD5=[96f4274e9e20536e775497830990834d]\n",
       "class E10--><a href=\"psysml:87a6ec87-e214-496f-a09f-1f6dfd597ed3\" target=\"_top\" title=\"psysml:87a6ec87-e214-496f-a09f-1f6dfd597ed3\" xlink:actuate=\"onRequest\" xlink:href=\"psysml:87a6ec87-e214-496f-a09f-1f6dfd597ed3\" xlink:show=\"new\" xlink:title=\"psysml:87a6ec87-e214-496f-a09f-1f6dfd597ed3\" xlink:type=\"simple\"><rect fill=\"#FFFFFF\" height=\"45.9375\" id=\"E10\" rx=\"10\" ry=\"10\" style=\"stroke: #383838; stroke-width: 1.5;\" width=\"42\" x=\"163\" y=\"62\"/><text fill=\"#000000\" font-family=\"sans-serif\" font-size=\"12\" font-style=\"italic\" lengthAdjust=\"spacingAndGlyphs\" textLength=\"40\" x=\"164\" y=\"78.1387\">«part»</text><text fill=\"#000000\" font-family=\"sans-serif\" font-size=\"12\" lengthAdjust=\"spacingAndGlyphs\" textLength=\"8\" x=\"180\" y=\"92.1074\">g</text><line style=\"stroke: #383838; stroke-width: 1.5;\" x1=\"164\" x2=\"204\" y1=\"99.9375\" y2=\"99.9375\"/></a><!--MD5=[1dd1bfd58a279cf63c5f349dbc8fc6a1]\n",
       "class E11--><a href=\"psysml:423769db-1814-486c-a3b1-3214b1eae655\" target=\"_top\" title=\"psysml:423769db-1814-486c-a3b1-3214b1eae655\" xlink:actuate=\"onRequest\" xlink:href=\"psysml:423769db-1814-486c-a3b1-3214b1eae655\" xlink:show=\"new\" xlink:title=\"psysml:423769db-1814-486c-a3b1-3214b1eae655\" xlink:type=\"simple\"><rect fill=\"#FFFFFF\" height=\"88.3516\" id=\"E11\" style=\"stroke: #383838; stroke-width: 1.5;\" width=\"95\" x=\"32.5\" y=\"41\"/><text fill=\"#000000\" font-family=\"sans-serif\" font-size=\"12\" font-style=\"italic\" lengthAdjust=\"spacingAndGlyphs\" textLength=\"93\" x=\"33.5\" y=\"57.1387\">«attribute def»</text><text fill=\"#000000\" font-family=\"sans-serif\" font-size=\"12\" lengthAdjust=\"spacingAndGlyphs\" textLength=\"8\" x=\"76\" y=\"71.1074\">A</text><line style=\"stroke: #383838; stroke-width: 1.5;\" x1=\"33.5\" x2=\"126.5\" y1=\"78.9375\" y2=\"78.9375\"/><text fill=\"#000000\" font-family=\"sans-serif\" font-size=\"11\" lengthAdjust=\"spacingAndGlyphs\" textLength=\"51\" x=\"38.5\" y=\"109.9526\">i: Integer</text><text fill=\"#000000\" font-family=\"sans-serif\" font-size=\"11\" lengthAdjust=\"spacingAndGlyphs\" textLength=\"21\" x=\"38.5\" y=\"122.7573\">x: A</text><line style=\"stroke: #383838; stroke-width: 1.0;\" x1=\"33.5\" x2=\"52.5\" y1=\"93.3398\" y2=\"93.3398\"/><text fill=\"#000000\" font-family=\"sans-serif\" font-size=\"11\" lengthAdjust=\"spacingAndGlyphs\" textLength=\"55\" x=\"52.5\" y=\"96.6479\">attributes</text><line style=\"stroke: #383838; stroke-width: 1.0;\" x1=\"107.5\" x2=\"126.5\" y1=\"93.3398\" y2=\"93.3398\"/></a><!--MD5=[15ebcb19ae302d9b601edb458606d402]\n",
       "link E5 to E2--><a href=\"psysml:56ee8f03-05cc-4672-92a5-af5f15d564f5\" target=\"_top\" title=\"psysml:56ee8f03-05cc-4672-92a5-af5f15d564f5\" xlink:actuate=\"onRequest\" xlink:href=\"psysml:56ee8f03-05cc-4672-92a5-af5f15d564f5\" xlink:show=\"new\" xlink:title=\"psysml:56ee8f03-05cc-4672-92a5-af5f15d564f5\" xlink:type=\"simple\"><path d=\"M562.12,108.06 C556.83,125 549.38,148.89 542.98,169.39 \" fill=\"none\" id=\"E5-&gt;E2\" style=\"stroke: #383838; stroke-width: 1.0;\"/><polygon fill=\"#FFFFFF\" points=\"536.95,188.74,535.929,168.5173,549.2931,172.6886,536.95,188.74\" style=\"stroke: #383838; stroke-width: 1.0;\"/><ellipse cx=\"539.5364\" cy=\"163.6721\" fill=\"#383838\" rx=\"2\" ry=\"2\" style=\"stroke: #383838; stroke-width: 1.0;\"/><ellipse cx=\"549.0823\" cy=\"166.6516\" fill=\"#383838\" rx=\"2\" ry=\"2\" style=\"stroke: #383838; stroke-width: 1.0;\"/></a><!--MD5=[2351f337d6de0f557b50152ba70847b5]\n",
       "link E6 to E2--><a href=\"psysml:34caeea3-9e32-4456-be5b-df49f4f1b3a4\" target=\"_top\" title=\"psysml:34caeea3-9e32-4456-be5b-df49f4f1b3a4\" xlink:actuate=\"onRequest\" xlink:href=\"psysml:34caeea3-9e32-4456-be5b-df49f4f1b3a4\" xlink:show=\"new\" xlink:title=\"psysml:34caeea3-9e32-4456-be5b-df49f4f1b3a4\" xlink:type=\"simple\"><path d=\"M498.71,108.06 C503.86,125 511.12,148.89 517.35,169.39 \" fill=\"none\" id=\"E6-&gt;E2\" style=\"stroke: #383838; stroke-width: 1.0;\"/><polygon fill=\"#FFFFFF\" points=\"523.23,188.74,511.007,172.597,524.4019,168.5255,523.23,188.74\" style=\"stroke: #383838; stroke-width: 1.0;\"/><ellipse cx=\"511.2628\" cy=\"166.5617\" fill=\"#383838\" rx=\"2\" ry=\"2\" style=\"stroke: #383838; stroke-width: 1.0;\"/><ellipse cx=\"520.8306\" cy=\"163.6535\" fill=\"#383838\" rx=\"2\" ry=\"2\" style=\"stroke: #383838; stroke-width: 1.0;\"/></a><!--MD5=[91030909152ee7dfe3ed586d3fd7695a]\n",
       "@startuml\r\n",
       "skinparam linetype polyline\r\n",
       "skinparam monochrome true\r\n",
       "skinparam classbackgroundcolor white\r\n",
       "skinparam shadowing false\r\n",
       "skinparam wrapWidth 300\r\n",
       "hide circle\r\n",
       "\r\n",
       "package \"MultiplicityTest\" as E1  [[psysml:917c8e98-308c-4a57-bedc-72bb13927275 ]]  {\r\n",
       "comp def \"P\" as E2  <<(T,blue) part def>> [[psysml:1b8e2ab6-001b-4483-8406-5463ddd95a77 ]] {\r\n",
       "}\r\n",
       "comp usage \"n: Integer\" as E3  <<(T,blue) attribute>> [[psysml:d0e8f829-c575-44a2-9ede-b108238de40c ]] {\r\n",
       "}\r\n",
       "comp usage \"a\" as E4  <<(T,blue) part>> [[psysml:2de2cbdc-62e6-485a-a7d2-bee7f587f60d ]] {\r\n",
       "}\r\n",
       "comp usage \"b: P\" as E5  <<(T,blue) part>> [[psysml:a47b2c6e-81dd-4a7f-97e2-f2f751620c17 ]] {\r\n",
       "}\r\n",
       "comp usage \"c: P\" as E6  <<(T,blue) part>> [[psysml:46e4b238-da26-40c7-b1f6-d3a4f2631481 ]] {\r\n",
       "}\r\n",
       "comp usage \"d\" as E7  <<(T,blue) part>> [[psysml:862abcb1-d094-4d1f-a90d-b0af915cd2bb ]] {\r\n",
       "}\r\n",
       "comp usage \"e\" as E8  <<(T,blue) part>> [[psysml:0f8b0aa8-e59b-4cfe-b590-8672d08a4434 ]] {\r\n",
       "}\r\n",
       "comp usage \"f\" as E9  <<(T,blue) part>> [[psysml:07bb6063-49af-4acb-bb76-a6a51f542bf8 ]] {\r\n",
       "}\r\n",
       "comp usage \"g\" as E10  <<(T,blue) part>> [[psysml:87a6ec87-e214-496f-a09f-1f6dfd597ed3 ]] {\r\n",
       "}\r\n",
       "comp def \"A\" as E11  <<(T,blue) attribute def>> [[psysml:423769db-1814-486c-a3b1-3214b1eae655 ]] {\r\n",
       "- - attributes - -\r\n",
       "i: Integer\r\n",
       "x: A\r\n",
       "}\r\n",
       "}\r\n",
       "E5 - -:|> E2 [[psysml:56ee8f03-05cc-4672-92a5-af5f15d564f5 ]] \r\n",
       "E6 - -:|> E2 [[psysml:34caeea3-9e32-4456-be5b-df49f4f1b3a4 ]] \r\n",
       "@enduml\r\n",
       "\n",
       "PlantUML version 1.2020.13(Sat Jun 13 12:26:38 UTC 2020)\n",
       "(EPL source distribution)\n",
       "Java Runtime: OpenJDK Runtime Environment\n",
       "JVM: OpenJDK 64-Bit Server VM\n",
       "Default Encoding: UTF-8\n",
       "Language: en\n",
       "Country: null\n",
       "--></g></svg>"
      ]
     },
     "execution_count": 10,
     "metadata": {},
     "output_type": "execute_result"
    }
   ],
   "source": [
    "%viz --style=\"POLYLINE\" --view=\"Tree\" \"MultiplicityTest\""
   ]
  },
  {
   "cell_type": "code",
   "execution_count": 11,
   "id": "4b048876",
   "metadata": {
    "execution": {
     "iopub.execute_input": "2021-10-03T08:30:19.283632Z",
     "iopub.status.busy": "2021-10-03T08:30:19.283208Z",
     "iopub.status.idle": "2021-10-03T08:30:19.289344Z",
     "shell.execute_reply": "2021-10-03T08:30:19.289662Z"
    }
   },
   "outputs": [
    {
     "data": {
      "image/svg+xml": [
       "<?xml version=\"1.0\" encoding=\"UTF-8\" standalone=\"no\"?><svg xmlns=\"http://www.w3.org/2000/svg\" xmlns:xlink=\"http://www.w3.org/1999/xlink\" contentScriptType=\"application/ecmascript\" contentStyleType=\"text/css\" height=\"12px\" preserveAspectRatio=\"none\" style=\"width:12px;height:12px;\" version=\"1.1\" viewBox=\"0 0 12 12\" width=\"12px\" zoomAndPan=\"magnify\"><defs/><g><!--MD5=[896ac0e7a515d8dd7765a661cb4ee08b]\n",
       "@startuml\r\n",
       "skinparam linetype polyline\r\n",
       "skinparam monochrome true\r\n",
       "skinparam classbackgroundcolor white\r\n",
       "skinparam shadowing false\r\n",
       "skinparam wrapWidth 300\r\n",
       "hide circle\r\n",
       "\r\n",
       "@enduml\r\n",
       "\n",
       "PlantUML version 1.2020.13(Sat Jun 13 12:26:38 UTC 2020)\n",
       "(EPL source distribution)\n",
       "Java Runtime: OpenJDK Runtime Environment\n",
       "JVM: OpenJDK 64-Bit Server VM\n",
       "Default Encoding: UTF-8\n",
       "Language: en\n",
       "Country: null\n",
       "--></g></svg>"
      ]
     },
     "execution_count": 11,
     "metadata": {},
     "output_type": "execute_result"
    }
   ],
   "source": [
    "%viz --style=\"POLYLINE\" --view=\"State\" \"MultiplicityTest\""
   ]
  },
  {
   "cell_type": "code",
   "execution_count": 12,
   "id": "63e4baec",
   "metadata": {
    "execution": {
     "iopub.execute_input": "2021-10-03T08:30:19.339488Z",
     "iopub.status.busy": "2021-10-03T08:30:19.339085Z",
     "iopub.status.idle": "2021-10-03T08:30:19.375663Z",
     "shell.execute_reply": "2021-10-03T08:30:19.375989Z"
    }
   },
   "outputs": [
    {
     "data": {
      "image/svg+xml": [
       "<?xml version=\"1.0\" encoding=\"UTF-8\" standalone=\"no\"?><svg xmlns=\"http://www.w3.org/2000/svg\" xmlns:xlink=\"http://www.w3.org/1999/xlink\" contentScriptType=\"application/ecmascript\" contentStyleType=\"text/css\" height=\"115px\" preserveAspectRatio=\"none\" style=\"width:979px;height:115px;\" version=\"1.1\" viewBox=\"0 0 979 115\" width=\"979px\" zoomAndPan=\"magnify\"><defs/><g><!--MD5=[fbc87193dbaf4d95561dea2c320d4a47]\n",
       "cluster E1--><a href=\"psysml:917c8e98-308c-4a57-bedc-72bb13927275\" target=\"_top\" title=\"psysml:917c8e98-308c-4a57-bedc-72bb13927275\" xlink:actuate=\"onRequest\" xlink:href=\"psysml:917c8e98-308c-4a57-bedc-72bb13927275\" xlink:show=\"new\" xlink:title=\"psysml:917c8e98-308c-4a57-bedc-72bb13927275\" xlink:type=\"simple\"><polygon fill=\"#FFFFFF\" points=\"16,6,123,6,130,28.2969,957,28.2969,957,103,16,103,16,6\" style=\"stroke: #000000; stroke-width: 1.5;\"/><line style=\"stroke: #000000; stroke-width: 1.5;\" x1=\"16\" x2=\"130\" y1=\"28.2969\" y2=\"28.2969\"/><text fill=\"#000000\" font-family=\"sans-serif\" font-size=\"14\" font-weight=\"bold\" lengthAdjust=\"spacingAndGlyphs\" textLength=\"101\" x=\"20\" y=\"20.9951\">MultiplicityTest</text></a><!--MD5=[09b614a08d8cba4a07c9adeb5e0fee81]\n",
       "class E3--><a href=\"psysml:d0e8f829-c575-44a2-9ede-b108238de40c\" target=\"_top\" title=\"psysml:d0e8f829-c575-44a2-9ede-b108238de40c\" xlink:actuate=\"onRequest\" xlink:href=\"psysml:d0e8f829-c575-44a2-9ede-b108238de40c\" xlink:show=\"new\" xlink:title=\"psysml:d0e8f829-c575-44a2-9ede-b108238de40c\" xlink:type=\"simple\"><rect fill=\"#FFFFFF\" height=\"45.9375\" id=\"E3\" rx=\"10\" ry=\"10\" style=\"stroke: #383838; stroke-width: 1.5;\" width=\"71\" x=\"869.5\" y=\"41\"/><text fill=\"#000000\" font-family=\"sans-serif\" font-size=\"12\" font-style=\"italic\" lengthAdjust=\"spacingAndGlyphs\" textLength=\"69\" x=\"870.5\" y=\"57.1387\">«attribute»</text><text fill=\"#000000\" font-family=\"sans-serif\" font-size=\"12\" lengthAdjust=\"spacingAndGlyphs\" textLength=\"61\" x=\"874.5\" y=\"71.1074\">n: Integer</text><line style=\"stroke: #383838; stroke-width: 1.5;\" x1=\"870.5\" x2=\"939.5\" y1=\"78.9375\" y2=\"78.9375\"/></a><g id=\"E1.E11\"><a href=\"psysml:423769db-1814-486c-a3b1-3214b1eae655\" target=\"_top\" title=\"psysml:423769db-1814-486c-a3b1-3214b1eae655\" xlink:actuate=\"onRequest\" xlink:href=\"psysml:423769db-1814-486c-a3b1-3214b1eae655\" xlink:show=\"new\" xlink:title=\"psysml:423769db-1814-486c-a3b1-3214b1eae655\" xlink:type=\"simple\"><rect fill=\"#FFFFFF\" height=\"42.9375\" id=\"E11\" style=\"stroke: #383838; stroke-width: 1.5;\" width=\"100\" x=\"734\" y=\"42.5\"/><rect fill=\"#F8F8F8\" height=\"37.9375\" style=\"stroke: #383838; stroke-width: 1.5;\" width=\"100\" x=\"734\" y=\"42.5\"/><text fill=\"#000000\" font-family=\"sans-serif\" font-size=\"12\" font-style=\"italic\" lengthAdjust=\"spacingAndGlyphs\" textLength=\"93\" x=\"737.5\" y=\"58.6387\">«attribute def»</text><text fill=\"#000000\" font-family=\"sans-serif\" font-size=\"12\" lengthAdjust=\"spacingAndGlyphs\" textLength=\"8\" x=\"780\" y=\"72.6074\">A</text></a></g><g id=\"E1.E2\"><a href=\"psysml:1b8e2ab6-001b-4483-8406-5463ddd95a77\" target=\"_top\" title=\"psysml:1b8e2ab6-001b-4483-8406-5463ddd95a77\" xlink:actuate=\"onRequest\" xlink:href=\"psysml:1b8e2ab6-001b-4483-8406-5463ddd95a77\" xlink:show=\"new\" xlink:title=\"psysml:1b8e2ab6-001b-4483-8406-5463ddd95a77\" xlink:type=\"simple\"><rect fill=\"#FFFFFF\" height=\"42.9375\" id=\"E2\" style=\"stroke: #383838; stroke-width: 1.5;\" width=\"71\" x=\"627.5\" y=\"42.5\"/><rect fill=\"#F8F8F8\" height=\"37.9375\" style=\"stroke: #383838; stroke-width: 1.5;\" width=\"71\" x=\"627.5\" y=\"42.5\"/><text fill=\"#000000\" font-family=\"sans-serif\" font-size=\"12\" font-style=\"italic\" lengthAdjust=\"spacingAndGlyphs\" textLength=\"64\" x=\"631\" y=\"58.6387\">«part def»</text><text fill=\"#000000\" font-family=\"sans-serif\" font-size=\"12\" lengthAdjust=\"spacingAndGlyphs\" textLength=\"8\" x=\"659\" y=\"72.6074\">P</text></a></g><g id=\"E1.E4\"><a href=\"psysml:2de2cbdc-62e6-485a-a7d2-bee7f587f60d\" target=\"_top\" title=\"psysml:2de2cbdc-62e6-485a-a7d2-bee7f587f60d\" xlink:actuate=\"onRequest\" xlink:href=\"psysml:2de2cbdc-62e6-485a-a7d2-bee7f587f60d\" xlink:show=\"new\" xlink:title=\"psysml:2de2cbdc-62e6-485a-a7d2-bee7f587f60d\" xlink:type=\"simple\"><rect fill=\"#FFFFFF\" height=\"40\" id=\"E4\" rx=\"10\" ry=\"10\" style=\"stroke: #383838; stroke-width: 1.5;\" width=\"50\" x=\"542\" y=\"44\"/><rect fill=\"#F8F8F8\" height=\"23.9688\" rx=\"10\" ry=\"10\" style=\"stroke: #F8F8F8; stroke-width: 1.5;\" width=\"50\" x=\"542\" y=\"44\"/><rect fill=\"#F8F8F8\" height=\"10\" style=\"stroke: #F8F8F8; stroke-width: 1.5;\" width=\"50\" x=\"542\" y=\"57.9688\"/><rect fill=\"none\" height=\"40\" id=\"E4\" rx=\"10\" ry=\"10\" style=\"stroke: #383838; stroke-width: 1.5;\" width=\"50\" x=\"542\" y=\"44\"/><text fill=\"#000000\" font-family=\"sans-serif\" font-size=\"12\" lengthAdjust=\"spacingAndGlyphs\" textLength=\"8\" x=\"563\" y=\"60.1387\">a</text></a></g><g id=\"E1.E5\"><a href=\"psysml:a47b2c6e-81dd-4a7f-97e2-f2f751620c17\" target=\"_top\" title=\"psysml:a47b2c6e-81dd-4a7f-97e2-f2f751620c17\" xlink:actuate=\"onRequest\" xlink:href=\"psysml:a47b2c6e-81dd-4a7f-97e2-f2f751620c17\" xlink:show=\"new\" xlink:title=\"psysml:a47b2c6e-81dd-4a7f-97e2-f2f751620c17\" xlink:type=\"simple\"><rect fill=\"#FFFFFF\" height=\"40\" id=\"E5\" rx=\"10\" ry=\"10\" style=\"stroke: #383838; stroke-width: 1.5;\" width=\"50\" x=\"457\" y=\"44\"/><rect fill=\"#F8F8F8\" height=\"23.9688\" rx=\"10\" ry=\"10\" style=\"stroke: #F8F8F8; stroke-width: 1.5;\" width=\"50\" x=\"457\" y=\"44\"/><rect fill=\"#F8F8F8\" height=\"10\" style=\"stroke: #F8F8F8; stroke-width: 1.5;\" width=\"50\" x=\"457\" y=\"57.9688\"/><rect fill=\"none\" height=\"40\" id=\"E5\" rx=\"10\" ry=\"10\" style=\"stroke: #383838; stroke-width: 1.5;\" width=\"50\" x=\"457\" y=\"44\"/><text fill=\"#000000\" font-family=\"sans-serif\" font-size=\"12\" lengthAdjust=\"spacingAndGlyphs\" textLength=\"24\" x=\"470\" y=\"60.1387\">b: P</text></a></g><g id=\"E1.E6\"><a href=\"psysml:46e4b238-da26-40c7-b1f6-d3a4f2631481\" target=\"_top\" title=\"psysml:46e4b238-da26-40c7-b1f6-d3a4f2631481\" xlink:actuate=\"onRequest\" xlink:href=\"psysml:46e4b238-da26-40c7-b1f6-d3a4f2631481\" xlink:show=\"new\" xlink:title=\"psysml:46e4b238-da26-40c7-b1f6-d3a4f2631481\" xlink:type=\"simple\"><rect fill=\"#FFFFFF\" height=\"40\" id=\"E6\" rx=\"10\" ry=\"10\" style=\"stroke: #383838; stroke-width: 1.5;\" width=\"50\" x=\"372\" y=\"44\"/><rect fill=\"#F8F8F8\" height=\"23.9688\" rx=\"10\" ry=\"10\" style=\"stroke: #F8F8F8; stroke-width: 1.5;\" width=\"50\" x=\"372\" y=\"44\"/><rect fill=\"#F8F8F8\" height=\"10\" style=\"stroke: #F8F8F8; stroke-width: 1.5;\" width=\"50\" x=\"372\" y=\"57.9688\"/><rect fill=\"none\" height=\"40\" id=\"E6\" rx=\"10\" ry=\"10\" style=\"stroke: #383838; stroke-width: 1.5;\" width=\"50\" x=\"372\" y=\"44\"/><text fill=\"#000000\" font-family=\"sans-serif\" font-size=\"12\" lengthAdjust=\"spacingAndGlyphs\" textLength=\"23\" x=\"385.5\" y=\"60.1387\">c: P</text></a></g><g id=\"E1.E7\"><a href=\"psysml:862abcb1-d094-4d1f-a90d-b0af915cd2bb\" target=\"_top\" title=\"psysml:862abcb1-d094-4d1f-a90d-b0af915cd2bb\" xlink:actuate=\"onRequest\" xlink:href=\"psysml:862abcb1-d094-4d1f-a90d-b0af915cd2bb\" xlink:show=\"new\" xlink:title=\"psysml:862abcb1-d094-4d1f-a90d-b0af915cd2bb\" xlink:type=\"simple\"><rect fill=\"#FFFFFF\" height=\"40\" id=\"E7\" rx=\"10\" ry=\"10\" style=\"stroke: #383838; stroke-width: 1.5;\" width=\"50\" x=\"287\" y=\"44\"/><rect fill=\"#F8F8F8\" height=\"23.9688\" rx=\"10\" ry=\"10\" style=\"stroke: #F8F8F8; stroke-width: 1.5;\" width=\"50\" x=\"287\" y=\"44\"/><rect fill=\"#F8F8F8\" height=\"10\" style=\"stroke: #F8F8F8; stroke-width: 1.5;\" width=\"50\" x=\"287\" y=\"57.9688\"/><rect fill=\"none\" height=\"40\" id=\"E7\" rx=\"10\" ry=\"10\" style=\"stroke: #383838; stroke-width: 1.5;\" width=\"50\" x=\"287\" y=\"44\"/><text fill=\"#000000\" font-family=\"sans-serif\" font-size=\"12\" lengthAdjust=\"spacingAndGlyphs\" textLength=\"8\" x=\"308\" y=\"60.1387\">d</text></a></g><g id=\"E1.E8\"><a href=\"psysml:0f8b0aa8-e59b-4cfe-b590-8672d08a4434\" target=\"_top\" title=\"psysml:0f8b0aa8-e59b-4cfe-b590-8672d08a4434\" xlink:actuate=\"onRequest\" xlink:href=\"psysml:0f8b0aa8-e59b-4cfe-b590-8672d08a4434\" xlink:show=\"new\" xlink:title=\"psysml:0f8b0aa8-e59b-4cfe-b590-8672d08a4434\" xlink:type=\"simple\"><rect fill=\"#FFFFFF\" height=\"40\" id=\"E8\" rx=\"10\" ry=\"10\" style=\"stroke: #383838; stroke-width: 1.5;\" width=\"50\" x=\"202\" y=\"44\"/><rect fill=\"#F8F8F8\" height=\"23.9688\" rx=\"10\" ry=\"10\" style=\"stroke: #F8F8F8; stroke-width: 1.5;\" width=\"50\" x=\"202\" y=\"44\"/><rect fill=\"#F8F8F8\" height=\"10\" style=\"stroke: #F8F8F8; stroke-width: 1.5;\" width=\"50\" x=\"202\" y=\"57.9688\"/><rect fill=\"none\" height=\"40\" id=\"E8\" rx=\"10\" ry=\"10\" style=\"stroke: #383838; stroke-width: 1.5;\" width=\"50\" x=\"202\" y=\"44\"/><text fill=\"#000000\" font-family=\"sans-serif\" font-size=\"12\" lengthAdjust=\"spacingAndGlyphs\" textLength=\"8\" x=\"223\" y=\"60.1387\">e</text></a></g><g id=\"E1.E9\"><a href=\"psysml:07bb6063-49af-4acb-bb76-a6a51f542bf8\" target=\"_top\" title=\"psysml:07bb6063-49af-4acb-bb76-a6a51f542bf8\" xlink:actuate=\"onRequest\" xlink:href=\"psysml:07bb6063-49af-4acb-bb76-a6a51f542bf8\" xlink:show=\"new\" xlink:title=\"psysml:07bb6063-49af-4acb-bb76-a6a51f542bf8\" xlink:type=\"simple\"><rect fill=\"#FFFFFF\" height=\"40\" id=\"E9\" rx=\"10\" ry=\"10\" style=\"stroke: #383838; stroke-width: 1.5;\" width=\"50\" x=\"117\" y=\"44\"/><rect fill=\"#F8F8F8\" height=\"23.9688\" rx=\"10\" ry=\"10\" style=\"stroke: #F8F8F8; stroke-width: 1.5;\" width=\"50\" x=\"117\" y=\"44\"/><rect fill=\"#F8F8F8\" height=\"10\" style=\"stroke: #F8F8F8; stroke-width: 1.5;\" width=\"50\" x=\"117\" y=\"57.9688\"/><rect fill=\"none\" height=\"40\" id=\"E9\" rx=\"10\" ry=\"10\" style=\"stroke: #383838; stroke-width: 1.5;\" width=\"50\" x=\"117\" y=\"44\"/><text fill=\"#000000\" font-family=\"sans-serif\" font-size=\"12\" lengthAdjust=\"spacingAndGlyphs\" textLength=\"4\" x=\"140\" y=\"60.1387\">f</text></a></g><g id=\"E1.E10\"><a href=\"psysml:87a6ec87-e214-496f-a09f-1f6dfd597ed3\" target=\"_top\" title=\"psysml:87a6ec87-e214-496f-a09f-1f6dfd597ed3\" xlink:actuate=\"onRequest\" xlink:href=\"psysml:87a6ec87-e214-496f-a09f-1f6dfd597ed3\" xlink:show=\"new\" xlink:title=\"psysml:87a6ec87-e214-496f-a09f-1f6dfd597ed3\" xlink:type=\"simple\"><rect fill=\"#FFFFFF\" height=\"40\" id=\"E10\" rx=\"10\" ry=\"10\" style=\"stroke: #383838; stroke-width: 1.5;\" width=\"50\" x=\"32\" y=\"44\"/><rect fill=\"#F8F8F8\" height=\"23.9688\" rx=\"10\" ry=\"10\" style=\"stroke: #F8F8F8; stroke-width: 1.5;\" width=\"50\" x=\"32\" y=\"44\"/><rect fill=\"#F8F8F8\" height=\"10\" style=\"stroke: #F8F8F8; stroke-width: 1.5;\" width=\"50\" x=\"32\" y=\"57.9688\"/><rect fill=\"none\" height=\"40\" id=\"E10\" rx=\"10\" ry=\"10\" style=\"stroke: #383838; stroke-width: 1.5;\" width=\"50\" x=\"32\" y=\"44\"/><text fill=\"#000000\" font-family=\"sans-serif\" font-size=\"12\" lengthAdjust=\"spacingAndGlyphs\" textLength=\"8\" x=\"53\" y=\"60.1387\">g</text></a></g><!--MD5=[eb7aad2b2d3203a5da39894e28c184db]\n",
       "@startuml\r\n",
       "skinparam ranksep 10\r\n",
       "skinparam rectangle {\r\n",
       " backgroundColor<<block>> LightGreen\r\n",
       "}\r\n",
       "skinparam linetype polyline\r\n",
       "skinparam monochrome true\r\n",
       "skinparam classbackgroundcolor white\r\n",
       "skinparam shadowing false\r\n",
       "skinparam wrapWidth 300\r\n",
       "hide circle\r\n",
       "\r\n",
       "package \"MultiplicityTest\" as E1  [[psysml:917c8e98-308c-4a57-bedc-72bb13927275 ]]  {\r\n",
       "rec def \"P\" as E2  <<(T,blue) part def>> [[psysml:1b8e2ab6-001b-4483-8406-5463ddd95a77 ]] {\r\n",
       "}\r\n",
       "comp usage \"n: Integer\" as E3  <<(T,blue) attribute>> [[psysml:d0e8f829-c575-44a2-9ede-b108238de40c ]] {\r\n",
       "}\r\n",
       "rec usage \"a\" as E4  [[psysml:2de2cbdc-62e6-485a-a7d2-bee7f587f60d ]] {\r\n",
       "}\r\n",
       "rec usage \"b: P\" as E5  [[psysml:a47b2c6e-81dd-4a7f-97e2-f2f751620c17 ]] {\r\n",
       "}\r\n",
       "rec usage \"c: P\" as E6  [[psysml:46e4b238-da26-40c7-b1f6-d3a4f2631481 ]] {\r\n",
       "}\r\n",
       "rec usage \"d\" as E7  [[psysml:862abcb1-d094-4d1f-a90d-b0af915cd2bb ]] {\r\n",
       "}\r\n",
       "rec usage \"e\" as E8  [[psysml:0f8b0aa8-e59b-4cfe-b590-8672d08a4434 ]] {\r\n",
       "}\r\n",
       "rec usage \"f\" as E9  [[psysml:07bb6063-49af-4acb-bb76-a6a51f542bf8 ]] {\r\n",
       "}\r\n",
       "rec usage \"g\" as E10  [[psysml:87a6ec87-e214-496f-a09f-1f6dfd597ed3 ]] {\r\n",
       "}\r\n",
       "def \"A\" as E11  <<(T,blue) attribute def>> [[psysml:423769db-1814-486c-a3b1-3214b1eae655 ]] \r\n",
       "}\r\n",
       "@enduml\r\n",
       "\n",
       "PlantUML version 1.2020.13(Sat Jun 13 12:26:38 UTC 2020)\n",
       "(EPL source distribution)\n",
       "Java Runtime: OpenJDK Runtime Environment\n",
       "JVM: OpenJDK 64-Bit Server VM\n",
       "Default Encoding: UTF-8\n",
       "Language: en\n",
       "Country: null\n",
       "--></g></svg>"
      ]
     },
     "execution_count": 12,
     "metadata": {},
     "output_type": "execute_result"
    }
   ],
   "source": [
    "%viz --style=\"POLYLINE\" --view=\"Interconnection\" \"MultiplicityTest\""
   ]
  },
  {
   "cell_type": "code",
   "execution_count": 13,
   "id": "3ab6308c",
   "metadata": {
    "execution": {
     "iopub.execute_input": "2021-10-03T08:30:19.425626Z",
     "iopub.status.busy": "2021-10-03T08:30:19.425224Z",
     "iopub.status.idle": "2021-10-03T08:30:19.430850Z",
     "shell.execute_reply": "2021-10-03T08:30:19.431167Z"
    }
   },
   "outputs": [
    {
     "data": {
      "image/svg+xml": [
       "<?xml version=\"1.0\" encoding=\"UTF-8\" standalone=\"no\"?><svg xmlns=\"http://www.w3.org/2000/svg\" xmlns:xlink=\"http://www.w3.org/1999/xlink\" contentScriptType=\"application/ecmascript\" contentStyleType=\"text/css\" height=\"12px\" preserveAspectRatio=\"none\" style=\"width:12px;height:12px;\" version=\"1.1\" viewBox=\"0 0 12 12\" width=\"12px\" zoomAndPan=\"magnify\"><defs/><g><!--MD5=[97bbf32f66ccd50cbc40d92ea8f5a65e]\n",
       "@startuml\r\n",
       "skinparam ranksep 8\r\n",
       "skinparam linetype polyline\r\n",
       "skinparam monochrome true\r\n",
       "skinparam classbackgroundcolor white\r\n",
       "skinparam shadowing false\r\n",
       "skinparam wrapWidth 300\r\n",
       "hide circle\r\n",
       "\r\n",
       "@enduml\r\n",
       "\n",
       "PlantUML version 1.2020.13(Sat Jun 13 12:26:38 UTC 2020)\n",
       "(EPL source distribution)\n",
       "Java Runtime: OpenJDK Runtime Environment\n",
       "JVM: OpenJDK 64-Bit Server VM\n",
       "Default Encoding: UTF-8\n",
       "Language: en\n",
       "Country: null\n",
       "--></g></svg>"
      ]
     },
     "execution_count": 13,
     "metadata": {},
     "output_type": "execute_result"
    }
   ],
   "source": [
    "%viz --style=\"POLYLINE\" --view=\"Action\" \"MultiplicityTest\""
   ]
  },
  {
   "cell_type": "code",
   "execution_count": 14,
   "id": "573c3aef",
   "metadata": {
    "execution": {
     "iopub.execute_input": "2021-10-03T08:30:19.480952Z",
     "iopub.status.busy": "2021-10-03T08:30:19.480556Z",
     "iopub.status.idle": "2021-10-03T08:30:19.486953Z",
     "shell.execute_reply": "2021-10-03T08:30:19.487261Z"
    }
   },
   "outputs": [
    {
     "data": {
      "image/svg+xml": [
       "<?xml version=\"1.0\" encoding=\"UTF-8\" standalone=\"no\"?><svg xmlns=\"http://www.w3.org/2000/svg\" xmlns:xlink=\"http://www.w3.org/1999/xlink\" contentScriptType=\"application/ecmascript\" contentStyleType=\"text/css\" height=\"12px\" preserveAspectRatio=\"none\" style=\"width:12px;height:12px;\" version=\"1.1\" viewBox=\"0 0 12 12\" width=\"12px\" zoomAndPan=\"magnify\"><defs/><g><!--MD5=[dc938048236c351797870c36b62f92ad]\n",
       "@startuml\r\n",
       "skinparam roundcorner 20\r\n",
       "skinparam BoxPadding 20\r\n",
       "skinparam SequenceBoxBackgroundColor #white\r\n",
       "skinparam style strictuml\r\n",
       "skinparam maxMessageSize 100\r\n",
       "skinparam linetype polyline\r\n",
       "skinparam monochrome true\r\n",
       "skinparam classbackgroundcolor white\r\n",
       "skinparam shadowing false\r\n",
       "skinparam wrapWidth 300\r\n",
       "hide circle\r\n",
       "\r\n",
       "@enduml\r\n",
       "\n",
       "PlantUML version 1.2020.13(Sat Jun 13 12:26:38 UTC 2020)\n",
       "(EPL source distribution)\n",
       "Java Runtime: OpenJDK Runtime Environment\n",
       "JVM: OpenJDK 64-Bit Server VM\n",
       "Default Encoding: UTF-8\n",
       "Language: en\n",
       "Country: null\n",
       "--></g></svg>"
      ]
     },
     "execution_count": 14,
     "metadata": {},
     "output_type": "execute_result"
    }
   ],
   "source": [
    "%viz --style=\"POLYLINE\" --view=\"Sequence\" \"MultiplicityTest\""
   ]
  },
  {
   "cell_type": "code",
   "execution_count": 15,
   "id": "77a125fe",
   "metadata": {
    "execution": {
     "iopub.execute_input": "2021-10-03T08:30:19.536995Z",
     "iopub.status.busy": "2021-10-03T08:30:19.536596Z",
     "iopub.status.idle": "2021-10-03T08:30:19.599171Z",
     "shell.execute_reply": "2021-10-03T08:30:19.598814Z"
    }
   },
   "outputs": [
    {
     "data": {
      "image/svg+xml": [
       "<?xml version=\"1.0\" encoding=\"UTF-8\" standalone=\"no\"?><svg xmlns=\"http://www.w3.org/2000/svg\" xmlns:xlink=\"http://www.w3.org/1999/xlink\" contentScriptType=\"application/ecmascript\" contentStyleType=\"text/css\" height=\"263px\" preserveAspectRatio=\"none\" style=\"width:812px;height:263px;\" version=\"1.1\" viewBox=\"0 0 812 263\" width=\"812px\" zoomAndPan=\"magnify\"><defs/><g><!--MD5=[fbc87193dbaf4d95561dea2c320d4a47]\n",
       "cluster E1--><a href=\"psysml:917c8e98-308c-4a57-bedc-72bb13927275\" target=\"_top\" title=\"psysml:917c8e98-308c-4a57-bedc-72bb13927275\" xlink:actuate=\"onRequest\" xlink:href=\"psysml:917c8e98-308c-4a57-bedc-72bb13927275\" xlink:show=\"new\" xlink:title=\"psysml:917c8e98-308c-4a57-bedc-72bb13927275\" xlink:type=\"simple\"><polygon fill=\"#FFFFFF\" points=\"16,6,123,6,130,28.2969,790,28.2969,790,251,16,251,16,6\" style=\"stroke: #000000; stroke-width: 1.5;\"/><line style=\"stroke: #000000; stroke-width: 1.5;\" x1=\"16\" x2=\"130\" y1=\"28.2969\" y2=\"28.2969\"/><text fill=\"#000000\" font-family=\"sans-serif\" font-size=\"14\" font-weight=\"bold\" lengthAdjust=\"spacingAndGlyphs\" textLength=\"101\" x=\"20\" y=\"20.9951\">MultiplicityTest</text></a><!--MD5=[b4997ac47864f28c2f74865a473b2911]\n",
       "class E2--><a href=\"psysml:1b8e2ab6-001b-4483-8406-5463ddd95a77\" target=\"_top\" title=\"psysml:1b8e2ab6-001b-4483-8406-5463ddd95a77\" xlink:actuate=\"onRequest\" xlink:href=\"psysml:1b8e2ab6-001b-4483-8406-5463ddd95a77\" xlink:show=\"new\" xlink:title=\"psysml:1b8e2ab6-001b-4483-8406-5463ddd95a77\" xlink:type=\"simple\"><rect fill=\"#FFFFFF\" height=\"45.9375\" id=\"E2\" style=\"stroke: #383838; stroke-width: 1.5;\" width=\"66\" x=\"497\" y=\"189\"/><text fill=\"#000000\" font-family=\"sans-serif\" font-size=\"12\" font-style=\"italic\" lengthAdjust=\"spacingAndGlyphs\" textLength=\"64\" x=\"498\" y=\"205.1387\">«part def»</text><text fill=\"#000000\" font-family=\"sans-serif\" font-size=\"12\" lengthAdjust=\"spacingAndGlyphs\" textLength=\"8\" x=\"526\" y=\"219.1074\">P</text><line style=\"stroke: #383838; stroke-width: 1.5;\" x1=\"498\" x2=\"562\" y1=\"226.9375\" y2=\"226.9375\"/></a><!--MD5=[09b614a08d8cba4a07c9adeb5e0fee81]\n",
       "class E3--><a href=\"psysml:d0e8f829-c575-44a2-9ede-b108238de40c\" target=\"_top\" title=\"psysml:d0e8f829-c575-44a2-9ede-b108238de40c\" xlink:actuate=\"onRequest\" xlink:href=\"psysml:d0e8f829-c575-44a2-9ede-b108238de40c\" xlink:show=\"new\" xlink:title=\"psysml:d0e8f829-c575-44a2-9ede-b108238de40c\" xlink:type=\"simple\"><rect fill=\"#FFFFFF\" height=\"45.9375\" id=\"E3\" rx=\"10\" ry=\"10\" style=\"stroke: #383838; stroke-width: 1.5;\" width=\"71\" x=\"702.5\" y=\"62\"/><text fill=\"#000000\" font-family=\"sans-serif\" font-size=\"12\" font-style=\"italic\" lengthAdjust=\"spacingAndGlyphs\" textLength=\"69\" x=\"703.5\" y=\"78.1387\">«attribute»</text><text fill=\"#000000\" font-family=\"sans-serif\" font-size=\"12\" lengthAdjust=\"spacingAndGlyphs\" textLength=\"61\" x=\"707.5\" y=\"92.1074\">n: Integer</text><line style=\"stroke: #383838; stroke-width: 1.5;\" x1=\"703.5\" x2=\"772.5\" y1=\"99.9375\" y2=\"99.9375\"/></a><!--MD5=[ebbe1d658d1005bcc118a6aa81145e00]\n",
       "class E4--><a href=\"psysml:2de2cbdc-62e6-485a-a7d2-bee7f587f60d\" target=\"_top\" title=\"psysml:2de2cbdc-62e6-485a-a7d2-bee7f587f60d\" xlink:actuate=\"onRequest\" xlink:href=\"psysml:2de2cbdc-62e6-485a-a7d2-bee7f587f60d\" xlink:show=\"new\" xlink:title=\"psysml:2de2cbdc-62e6-485a-a7d2-bee7f587f60d\" xlink:type=\"simple\"><rect fill=\"#FFFFFF\" height=\"45.9375\" id=\"E4\" rx=\"10\" ry=\"10\" style=\"stroke: #383838; stroke-width: 1.5;\" width=\"42\" x=\"625\" y=\"62\"/><text fill=\"#000000\" font-family=\"sans-serif\" font-size=\"12\" font-style=\"italic\" lengthAdjust=\"spacingAndGlyphs\" textLength=\"40\" x=\"626\" y=\"78.1387\">«part»</text><text fill=\"#000000\" font-family=\"sans-serif\" font-size=\"12\" lengthAdjust=\"spacingAndGlyphs\" textLength=\"8\" x=\"642\" y=\"92.1074\">a</text><line style=\"stroke: #383838; stroke-width: 1.5;\" x1=\"626\" x2=\"666\" y1=\"99.9375\" y2=\"99.9375\"/></a><!--MD5=[270fce915f116d4de14055a7c1d9a0f3]\n",
       "class E5--><a href=\"psysml:a47b2c6e-81dd-4a7f-97e2-f2f751620c17\" target=\"_top\" title=\"psysml:a47b2c6e-81dd-4a7f-97e2-f2f751620c17\" xlink:actuate=\"onRequest\" xlink:href=\"psysml:a47b2c6e-81dd-4a7f-97e2-f2f751620c17\" xlink:show=\"new\" xlink:title=\"psysml:a47b2c6e-81dd-4a7f-97e2-f2f751620c17\" xlink:type=\"simple\"><rect fill=\"#FFFFFF\" height=\"45.9375\" id=\"E5\" rx=\"10\" ry=\"10\" style=\"stroke: #383838; stroke-width: 1.5;\" width=\"42\" x=\"548\" y=\"62\"/><text fill=\"#000000\" font-family=\"sans-serif\" font-size=\"12\" font-style=\"italic\" lengthAdjust=\"spacingAndGlyphs\" textLength=\"40\" x=\"549\" y=\"78.1387\">«part»</text><text fill=\"#000000\" font-family=\"sans-serif\" font-size=\"12\" lengthAdjust=\"spacingAndGlyphs\" textLength=\"24\" x=\"557\" y=\"92.1074\">b: P</text><line style=\"stroke: #383838; stroke-width: 1.5;\" x1=\"549\" x2=\"589\" y1=\"99.9375\" y2=\"99.9375\"/></a><!--MD5=[60a26617385b1d2d0262a64233df1f8d]\n",
       "class E6--><a href=\"psysml:46e4b238-da26-40c7-b1f6-d3a4f2631481\" target=\"_top\" title=\"psysml:46e4b238-da26-40c7-b1f6-d3a4f2631481\" xlink:actuate=\"onRequest\" xlink:href=\"psysml:46e4b238-da26-40c7-b1f6-d3a4f2631481\" xlink:show=\"new\" xlink:title=\"psysml:46e4b238-da26-40c7-b1f6-d3a4f2631481\" xlink:type=\"simple\"><rect fill=\"#FFFFFF\" height=\"45.9375\" id=\"E6\" rx=\"10\" ry=\"10\" style=\"stroke: #383838; stroke-width: 1.5;\" width=\"42\" x=\"471\" y=\"62\"/><text fill=\"#000000\" font-family=\"sans-serif\" font-size=\"12\" font-style=\"italic\" lengthAdjust=\"spacingAndGlyphs\" textLength=\"40\" x=\"472\" y=\"78.1387\">«part»</text><text fill=\"#000000\" font-family=\"sans-serif\" font-size=\"12\" lengthAdjust=\"spacingAndGlyphs\" textLength=\"23\" x=\"480.5\" y=\"92.1074\">c: P</text><line style=\"stroke: #383838; stroke-width: 1.5;\" x1=\"472\" x2=\"512\" y1=\"99.9375\" y2=\"99.9375\"/></a><!--MD5=[2156ba9850f5573cc1fc38a6a4b2f02b]\n",
       "class E7--><a href=\"psysml:862abcb1-d094-4d1f-a90d-b0af915cd2bb\" target=\"_top\" title=\"psysml:862abcb1-d094-4d1f-a90d-b0af915cd2bb\" xlink:actuate=\"onRequest\" xlink:href=\"psysml:862abcb1-d094-4d1f-a90d-b0af915cd2bb\" xlink:show=\"new\" xlink:title=\"psysml:862abcb1-d094-4d1f-a90d-b0af915cd2bb\" xlink:type=\"simple\"><rect fill=\"#FFFFFF\" height=\"45.9375\" id=\"E7\" rx=\"10\" ry=\"10\" style=\"stroke: #383838; stroke-width: 1.5;\" width=\"42\" x=\"394\" y=\"62\"/><text fill=\"#000000\" font-family=\"sans-serif\" font-size=\"12\" font-style=\"italic\" lengthAdjust=\"spacingAndGlyphs\" textLength=\"40\" x=\"395\" y=\"78.1387\">«part»</text><text fill=\"#000000\" font-family=\"sans-serif\" font-size=\"12\" lengthAdjust=\"spacingAndGlyphs\" textLength=\"8\" x=\"411\" y=\"92.1074\">d</text><line style=\"stroke: #383838; stroke-width: 1.5;\" x1=\"395\" x2=\"435\" y1=\"99.9375\" y2=\"99.9375\"/></a><!--MD5=[b9389687b975829384b498ac4b7476b2]\n",
       "class E8--><a href=\"psysml:0f8b0aa8-e59b-4cfe-b590-8672d08a4434\" target=\"_top\" title=\"psysml:0f8b0aa8-e59b-4cfe-b590-8672d08a4434\" xlink:actuate=\"onRequest\" xlink:href=\"psysml:0f8b0aa8-e59b-4cfe-b590-8672d08a4434\" xlink:show=\"new\" xlink:title=\"psysml:0f8b0aa8-e59b-4cfe-b590-8672d08a4434\" xlink:type=\"simple\"><rect fill=\"#FFFFFF\" height=\"45.9375\" id=\"E8\" rx=\"10\" ry=\"10\" style=\"stroke: #383838; stroke-width: 1.5;\" width=\"42\" x=\"317\" y=\"62\"/><text fill=\"#000000\" font-family=\"sans-serif\" font-size=\"12\" font-style=\"italic\" lengthAdjust=\"spacingAndGlyphs\" textLength=\"40\" x=\"318\" y=\"78.1387\">«part»</text><text fill=\"#000000\" font-family=\"sans-serif\" font-size=\"12\" lengthAdjust=\"spacingAndGlyphs\" textLength=\"8\" x=\"334\" y=\"92.1074\">e</text><line style=\"stroke: #383838; stroke-width: 1.5;\" x1=\"318\" x2=\"358\" y1=\"99.9375\" y2=\"99.9375\"/></a><!--MD5=[fd4143e9d270a159db93a4ea2a975926]\n",
       "class E9--><a href=\"psysml:07bb6063-49af-4acb-bb76-a6a51f542bf8\" target=\"_top\" title=\"psysml:07bb6063-49af-4acb-bb76-a6a51f542bf8\" xlink:actuate=\"onRequest\" xlink:href=\"psysml:07bb6063-49af-4acb-bb76-a6a51f542bf8\" xlink:show=\"new\" xlink:title=\"psysml:07bb6063-49af-4acb-bb76-a6a51f542bf8\" xlink:type=\"simple\"><rect fill=\"#FFFFFF\" height=\"45.9375\" id=\"E9\" rx=\"10\" ry=\"10\" style=\"stroke: #383838; stroke-width: 1.5;\" width=\"42\" x=\"240\" y=\"62\"/><text fill=\"#000000\" font-family=\"sans-serif\" font-size=\"12\" font-style=\"italic\" lengthAdjust=\"spacingAndGlyphs\" textLength=\"40\" x=\"241\" y=\"78.1387\">«part»</text><text fill=\"#000000\" font-family=\"sans-serif\" font-size=\"12\" lengthAdjust=\"spacingAndGlyphs\" textLength=\"4\" x=\"259\" y=\"92.1074\">f</text><line style=\"stroke: #383838; stroke-width: 1.5;\" x1=\"241\" x2=\"281\" y1=\"99.9375\" y2=\"99.9375\"/></a><!--MD5=[96f4274e9e20536e775497830990834d]\n",
       "class E10--><a href=\"psysml:87a6ec87-e214-496f-a09f-1f6dfd597ed3\" target=\"_top\" title=\"psysml:87a6ec87-e214-496f-a09f-1f6dfd597ed3\" xlink:actuate=\"onRequest\" xlink:href=\"psysml:87a6ec87-e214-496f-a09f-1f6dfd597ed3\" xlink:show=\"new\" xlink:title=\"psysml:87a6ec87-e214-496f-a09f-1f6dfd597ed3\" xlink:type=\"simple\"><rect fill=\"#FFFFFF\" height=\"45.9375\" id=\"E10\" rx=\"10\" ry=\"10\" style=\"stroke: #383838; stroke-width: 1.5;\" width=\"42\" x=\"163\" y=\"62\"/><text fill=\"#000000\" font-family=\"sans-serif\" font-size=\"12\" font-style=\"italic\" lengthAdjust=\"spacingAndGlyphs\" textLength=\"40\" x=\"164\" y=\"78.1387\">«part»</text><text fill=\"#000000\" font-family=\"sans-serif\" font-size=\"12\" lengthAdjust=\"spacingAndGlyphs\" textLength=\"8\" x=\"180\" y=\"92.1074\">g</text><line style=\"stroke: #383838; stroke-width: 1.5;\" x1=\"164\" x2=\"204\" y1=\"99.9375\" y2=\"99.9375\"/></a><!--MD5=[1dd1bfd58a279cf63c5f349dbc8fc6a1]\n",
       "class E11--><a href=\"psysml:423769db-1814-486c-a3b1-3214b1eae655\" target=\"_top\" title=\"psysml:423769db-1814-486c-a3b1-3214b1eae655\" xlink:actuate=\"onRequest\" xlink:href=\"psysml:423769db-1814-486c-a3b1-3214b1eae655\" xlink:show=\"new\" xlink:title=\"psysml:423769db-1814-486c-a3b1-3214b1eae655\" xlink:type=\"simple\"><rect fill=\"#FFFFFF\" height=\"88.3516\" id=\"E11\" style=\"stroke: #383838; stroke-width: 1.5;\" width=\"95\" x=\"32.5\" y=\"41\"/><text fill=\"#000000\" font-family=\"sans-serif\" font-size=\"12\" font-style=\"italic\" lengthAdjust=\"spacingAndGlyphs\" textLength=\"93\" x=\"33.5\" y=\"57.1387\">«attribute def»</text><text fill=\"#000000\" font-family=\"sans-serif\" font-size=\"12\" lengthAdjust=\"spacingAndGlyphs\" textLength=\"8\" x=\"76\" y=\"71.1074\">A</text><line style=\"stroke: #383838; stroke-width: 1.5;\" x1=\"33.5\" x2=\"126.5\" y1=\"78.9375\" y2=\"78.9375\"/><text fill=\"#000000\" font-family=\"sans-serif\" font-size=\"11\" lengthAdjust=\"spacingAndGlyphs\" textLength=\"51\" x=\"38.5\" y=\"109.9526\">i: Integer</text><text fill=\"#000000\" font-family=\"sans-serif\" font-size=\"11\" lengthAdjust=\"spacingAndGlyphs\" textLength=\"21\" x=\"38.5\" y=\"122.7573\">x: A</text><line style=\"stroke: #383838; stroke-width: 1.0;\" x1=\"33.5\" x2=\"52.5\" y1=\"93.3398\" y2=\"93.3398\"/><text fill=\"#000000\" font-family=\"sans-serif\" font-size=\"11\" lengthAdjust=\"spacingAndGlyphs\" textLength=\"55\" x=\"52.5\" y=\"96.6479\">attributes</text><line style=\"stroke: #383838; stroke-width: 1.0;\" x1=\"107.5\" x2=\"126.5\" y1=\"93.3398\" y2=\"93.3398\"/></a><!--MD5=[15ebcb19ae302d9b601edb458606d402]\n",
       "link E5 to E2--><a href=\"psysml:56ee8f03-05cc-4672-92a5-af5f15d564f5\" target=\"_top\" title=\"psysml:56ee8f03-05cc-4672-92a5-af5f15d564f5\" xlink:actuate=\"onRequest\" xlink:href=\"psysml:56ee8f03-05cc-4672-92a5-af5f15d564f5\" xlink:show=\"new\" xlink:title=\"psysml:56ee8f03-05cc-4672-92a5-af5f15d564f5\" xlink:type=\"simple\"><path d=\"M562.12,108.06 C556.83,125 549.38,148.89 542.98,169.39 \" fill=\"none\" id=\"E5-&gt;E2\" style=\"stroke: #383838; stroke-width: 1.0;\"/><polygon fill=\"#FFFFFF\" points=\"536.95,188.74,535.929,168.5173,549.2931,172.6886,536.95,188.74\" style=\"stroke: #383838; stroke-width: 1.0;\"/><ellipse cx=\"539.5364\" cy=\"163.6721\" fill=\"#383838\" rx=\"2\" ry=\"2\" style=\"stroke: #383838; stroke-width: 1.0;\"/><ellipse cx=\"549.0823\" cy=\"166.6516\" fill=\"#383838\" rx=\"2\" ry=\"2\" style=\"stroke: #383838; stroke-width: 1.0;\"/></a><!--MD5=[2351f337d6de0f557b50152ba70847b5]\n",
       "link E6 to E2--><a href=\"psysml:34caeea3-9e32-4456-be5b-df49f4f1b3a4\" target=\"_top\" title=\"psysml:34caeea3-9e32-4456-be5b-df49f4f1b3a4\" xlink:actuate=\"onRequest\" xlink:href=\"psysml:34caeea3-9e32-4456-be5b-df49f4f1b3a4\" xlink:show=\"new\" xlink:title=\"psysml:34caeea3-9e32-4456-be5b-df49f4f1b3a4\" xlink:type=\"simple\"><path d=\"M498.71,108.06 C503.86,125 511.12,148.89 517.35,169.39 \" fill=\"none\" id=\"E6-&gt;E2\" style=\"stroke: #383838; stroke-width: 1.0;\"/><polygon fill=\"#FFFFFF\" points=\"523.23,188.74,511.007,172.597,524.4019,168.5255,523.23,188.74\" style=\"stroke: #383838; stroke-width: 1.0;\"/><ellipse cx=\"511.2628\" cy=\"166.5617\" fill=\"#383838\" rx=\"2\" ry=\"2\" style=\"stroke: #383838; stroke-width: 1.0;\"/><ellipse cx=\"520.8306\" cy=\"163.6535\" fill=\"#383838\" rx=\"2\" ry=\"2\" style=\"stroke: #383838; stroke-width: 1.0;\"/></a><!--MD5=[91030909152ee7dfe3ed586d3fd7695a]\n",
       "@startuml\r\n",
       "skinparam linetype polyline\r\n",
       "skinparam monochrome true\r\n",
       "skinparam classbackgroundcolor white\r\n",
       "skinparam shadowing false\r\n",
       "skinparam wrapWidth 300\r\n",
       "hide circle\r\n",
       "\r\n",
       "package \"MultiplicityTest\" as E1  [[psysml:917c8e98-308c-4a57-bedc-72bb13927275 ]]  {\r\n",
       "comp def \"P\" as E2  <<(T,blue) part def>> [[psysml:1b8e2ab6-001b-4483-8406-5463ddd95a77 ]] {\r\n",
       "}\r\n",
       "comp usage \"n: Integer\" as E3  <<(T,blue) attribute>> [[psysml:d0e8f829-c575-44a2-9ede-b108238de40c ]] {\r\n",
       "}\r\n",
       "comp usage \"a\" as E4  <<(T,blue) part>> [[psysml:2de2cbdc-62e6-485a-a7d2-bee7f587f60d ]] {\r\n",
       "}\r\n",
       "comp usage \"b: P\" as E5  <<(T,blue) part>> [[psysml:a47b2c6e-81dd-4a7f-97e2-f2f751620c17 ]] {\r\n",
       "}\r\n",
       "comp usage \"c: P\" as E6  <<(T,blue) part>> [[psysml:46e4b238-da26-40c7-b1f6-d3a4f2631481 ]] {\r\n",
       "}\r\n",
       "comp usage \"d\" as E7  <<(T,blue) part>> [[psysml:862abcb1-d094-4d1f-a90d-b0af915cd2bb ]] {\r\n",
       "}\r\n",
       "comp usage \"e\" as E8  <<(T,blue) part>> [[psysml:0f8b0aa8-e59b-4cfe-b590-8672d08a4434 ]] {\r\n",
       "}\r\n",
       "comp usage \"f\" as E9  <<(T,blue) part>> [[psysml:07bb6063-49af-4acb-bb76-a6a51f542bf8 ]] {\r\n",
       "}\r\n",
       "comp usage \"g\" as E10  <<(T,blue) part>> [[psysml:87a6ec87-e214-496f-a09f-1f6dfd597ed3 ]] {\r\n",
       "}\r\n",
       "comp def \"A\" as E11  <<(T,blue) attribute def>> [[psysml:423769db-1814-486c-a3b1-3214b1eae655 ]] {\r\n",
       "- - attributes - -\r\n",
       "i: Integer\r\n",
       "x: A\r\n",
       "}\r\n",
       "}\r\n",
       "E5 - -:|> E2 [[psysml:56ee8f03-05cc-4672-92a5-af5f15d564f5 ]] \r\n",
       "E6 - -:|> E2 [[psysml:34caeea3-9e32-4456-be5b-df49f4f1b3a4 ]] \r\n",
       "@enduml\r\n",
       "\n",
       "PlantUML version 1.2020.13(Sat Jun 13 12:26:38 UTC 2020)\n",
       "(EPL source distribution)\n",
       "Java Runtime: OpenJDK Runtime Environment\n",
       "JVM: OpenJDK 64-Bit Server VM\n",
       "Default Encoding: UTF-8\n",
       "Language: en\n",
       "Country: null\n",
       "--></g></svg>"
      ]
     },
     "execution_count": 15,
     "metadata": {},
     "output_type": "execute_result"
    }
   ],
   "source": [
    "%viz --style=\"POLYLINE\" --view=\"MIXED\" \"MultiplicityTest\""
   ]
  },
  {
   "cell_type": "code",
   "execution_count": 16,
   "id": "2dd1d634",
   "metadata": {
    "execution": {
     "iopub.execute_input": "2021-10-03T08:30:19.648863Z",
     "iopub.status.busy": "2021-10-03T08:30:19.648462Z",
     "iopub.status.idle": "2021-10-03T08:30:19.710155Z",
     "shell.execute_reply": "2021-10-03T08:30:19.709791Z"
    }
   },
   "outputs": [
    {
     "data": {
      "image/svg+xml": [
       "<?xml version=\"1.0\" encoding=\"UTF-8\" standalone=\"no\"?><svg xmlns=\"http://www.w3.org/2000/svg\" xmlns:xlink=\"http://www.w3.org/1999/xlink\" contentScriptType=\"application/ecmascript\" contentStyleType=\"text/css\" height=\"805px\" preserveAspectRatio=\"none\" style=\"width:291px;height:805px;\" version=\"1.1\" viewBox=\"0 0 291 805\" width=\"291px\" zoomAndPan=\"magnify\"><defs/><g><!--MD5=[fbc87193dbaf4d95561dea2c320d4a47]\n",
       "cluster E1--><a href=\"psysml:917c8e98-308c-4a57-bedc-72bb13927275\" target=\"_top\" title=\"psysml:917c8e98-308c-4a57-bedc-72bb13927275\" xlink:actuate=\"onRequest\" xlink:href=\"psysml:917c8e98-308c-4a57-bedc-72bb13927275\" xlink:show=\"new\" xlink:title=\"psysml:917c8e98-308c-4a57-bedc-72bb13927275\" xlink:type=\"simple\"><polygon fill=\"#FFFFFF\" points=\"16,6,123,6,130,28.2969,269,28.2969,269,793,16,793,16,6\" style=\"stroke: #000000; stroke-width: 1.5;\"/><line style=\"stroke: #000000; stroke-width: 1.5;\" x1=\"16\" x2=\"130\" y1=\"28.2969\" y2=\"28.2969\"/><text fill=\"#000000\" font-family=\"sans-serif\" font-size=\"14\" font-weight=\"bold\" lengthAdjust=\"spacingAndGlyphs\" textLength=\"101\" x=\"20\" y=\"20.9951\">MultiplicityTest</text></a><!--MD5=[b4997ac47864f28c2f74865a473b2911]\n",
       "class E2--><a href=\"psysml:1b8e2ab6-001b-4483-8406-5463ddd95a77\" target=\"_top\" title=\"psysml:1b8e2ab6-001b-4483-8406-5463ddd95a77\" xlink:actuate=\"onRequest\" xlink:href=\"psysml:1b8e2ab6-001b-4483-8406-5463ddd95a77\" xlink:show=\"new\" xlink:title=\"psysml:1b8e2ab6-001b-4483-8406-5463ddd95a77\" xlink:type=\"simple\"><rect fill=\"#FFFFFF\" height=\"45.9375\" id=\"E2\" style=\"stroke: #383838; stroke-width: 1.5;\" width=\"66\" x=\"187\" y=\"244\"/><text fill=\"#000000\" font-family=\"sans-serif\" font-size=\"12\" font-style=\"italic\" lengthAdjust=\"spacingAndGlyphs\" textLength=\"64\" x=\"188\" y=\"260.1387\">«part def»</text><text fill=\"#000000\" font-family=\"sans-serif\" font-size=\"12\" lengthAdjust=\"spacingAndGlyphs\" textLength=\"8\" x=\"216\" y=\"274.1074\">P</text><line style=\"stroke: #383838; stroke-width: 1.5;\" x1=\"188\" x2=\"252\" y1=\"281.9375\" y2=\"281.9375\"/></a><!--MD5=[09b614a08d8cba4a07c9adeb5e0fee81]\n",
       "class E3--><a href=\"psysml:d0e8f829-c575-44a2-9ede-b108238de40c\" target=\"_top\" title=\"psysml:d0e8f829-c575-44a2-9ede-b108238de40c\" xlink:actuate=\"onRequest\" xlink:href=\"psysml:d0e8f829-c575-44a2-9ede-b108238de40c\" xlink:show=\"new\" xlink:title=\"psysml:d0e8f829-c575-44a2-9ede-b108238de40c\" xlink:type=\"simple\"><rect fill=\"#FFFFFF\" height=\"45.9375\" id=\"E3\" rx=\"10\" ry=\"10\" style=\"stroke: #383838; stroke-width: 1.5;\" width=\"71\" x=\"44\" y=\"41\"/><text fill=\"#000000\" font-family=\"sans-serif\" font-size=\"12\" font-style=\"italic\" lengthAdjust=\"spacingAndGlyphs\" textLength=\"69\" x=\"45\" y=\"57.1387\">«attribute»</text><text fill=\"#000000\" font-family=\"sans-serif\" font-size=\"12\" lengthAdjust=\"spacingAndGlyphs\" textLength=\"61\" x=\"49\" y=\"71.1074\">n: Integer</text><line style=\"stroke: #383838; stroke-width: 1.5;\" x1=\"45\" x2=\"114\" y1=\"78.9375\" y2=\"78.9375\"/></a><!--MD5=[ebbe1d658d1005bcc118a6aa81145e00]\n",
       "class E4--><a href=\"psysml:2de2cbdc-62e6-485a-a7d2-bee7f587f60d\" target=\"_top\" title=\"psysml:2de2cbdc-62e6-485a-a7d2-bee7f587f60d\" xlink:actuate=\"onRequest\" xlink:href=\"psysml:2de2cbdc-62e6-485a-a7d2-bee7f587f60d\" xlink:show=\"new\" xlink:title=\"psysml:2de2cbdc-62e6-485a-a7d2-bee7f587f60d\" xlink:type=\"simple\"><rect fill=\"#FFFFFF\" height=\"45.9375\" id=\"E4\" rx=\"10\" ry=\"10\" style=\"stroke: #383838; stroke-width: 1.5;\" width=\"42\" x=\"58.5\" y=\"122\"/><text fill=\"#000000\" font-family=\"sans-serif\" font-size=\"12\" font-style=\"italic\" lengthAdjust=\"spacingAndGlyphs\" textLength=\"40\" x=\"59.5\" y=\"138.1387\">«part»</text><text fill=\"#000000\" font-family=\"sans-serif\" font-size=\"12\" lengthAdjust=\"spacingAndGlyphs\" textLength=\"8\" x=\"75.5\" y=\"152.1074\">a</text><line style=\"stroke: #383838; stroke-width: 1.5;\" x1=\"59.5\" x2=\"99.5\" y1=\"159.9375\" y2=\"159.9375\"/></a><!--MD5=[270fce915f116d4de14055a7c1d9a0f3]\n",
       "class E5--><a href=\"psysml:a47b2c6e-81dd-4a7f-97e2-f2f751620c17\" target=\"_top\" title=\"psysml:a47b2c6e-81dd-4a7f-97e2-f2f751620c17\" xlink:actuate=\"onRequest\" xlink:href=\"psysml:a47b2c6e-81dd-4a7f-97e2-f2f751620c17\" xlink:show=\"new\" xlink:title=\"psysml:a47b2c6e-81dd-4a7f-97e2-f2f751620c17\" xlink:type=\"simple\"><rect fill=\"#FFFFFF\" height=\"45.9375\" id=\"E5\" rx=\"10\" ry=\"10\" style=\"stroke: #383838; stroke-width: 1.5;\" width=\"42\" x=\"58.5\" y=\"203\"/><text fill=\"#000000\" font-family=\"sans-serif\" font-size=\"12\" font-style=\"italic\" lengthAdjust=\"spacingAndGlyphs\" textLength=\"40\" x=\"59.5\" y=\"219.1387\">«part»</text><text fill=\"#000000\" font-family=\"sans-serif\" font-size=\"12\" lengthAdjust=\"spacingAndGlyphs\" textLength=\"24\" x=\"67.5\" y=\"233.1074\">b: P</text><line style=\"stroke: #383838; stroke-width: 1.5;\" x1=\"59.5\" x2=\"99.5\" y1=\"240.9375\" y2=\"240.9375\"/></a><!--MD5=[60a26617385b1d2d0262a64233df1f8d]\n",
       "class E6--><a href=\"psysml:46e4b238-da26-40c7-b1f6-d3a4f2631481\" target=\"_top\" title=\"psysml:46e4b238-da26-40c7-b1f6-d3a4f2631481\" xlink:actuate=\"onRequest\" xlink:href=\"psysml:46e4b238-da26-40c7-b1f6-d3a4f2631481\" xlink:show=\"new\" xlink:title=\"psysml:46e4b238-da26-40c7-b1f6-d3a4f2631481\" xlink:type=\"simple\"><rect fill=\"#FFFFFF\" height=\"45.9375\" id=\"E6\" rx=\"10\" ry=\"10\" style=\"stroke: #383838; stroke-width: 1.5;\" width=\"42\" x=\"58.5\" y=\"284\"/><text fill=\"#000000\" font-family=\"sans-serif\" font-size=\"12\" font-style=\"italic\" lengthAdjust=\"spacingAndGlyphs\" textLength=\"40\" x=\"59.5\" y=\"300.1387\">«part»</text><text fill=\"#000000\" font-family=\"sans-serif\" font-size=\"12\" lengthAdjust=\"spacingAndGlyphs\" textLength=\"23\" x=\"68\" y=\"314.1074\">c: P</text><line style=\"stroke: #383838; stroke-width: 1.5;\" x1=\"59.5\" x2=\"99.5\" y1=\"321.9375\" y2=\"321.9375\"/></a><!--MD5=[2156ba9850f5573cc1fc38a6a4b2f02b]\n",
       "class E7--><a href=\"psysml:862abcb1-d094-4d1f-a90d-b0af915cd2bb\" target=\"_top\" title=\"psysml:862abcb1-d094-4d1f-a90d-b0af915cd2bb\" xlink:actuate=\"onRequest\" xlink:href=\"psysml:862abcb1-d094-4d1f-a90d-b0af915cd2bb\" xlink:show=\"new\" xlink:title=\"psysml:862abcb1-d094-4d1f-a90d-b0af915cd2bb\" xlink:type=\"simple\"><rect fill=\"#FFFFFF\" height=\"45.9375\" id=\"E7\" rx=\"10\" ry=\"10\" style=\"stroke: #383838; stroke-width: 1.5;\" width=\"42\" x=\"58.5\" y=\"365\"/><text fill=\"#000000\" font-family=\"sans-serif\" font-size=\"12\" font-style=\"italic\" lengthAdjust=\"spacingAndGlyphs\" textLength=\"40\" x=\"59.5\" y=\"381.1387\">«part»</text><text fill=\"#000000\" font-family=\"sans-serif\" font-size=\"12\" lengthAdjust=\"spacingAndGlyphs\" textLength=\"8\" x=\"75.5\" y=\"395.1074\">d</text><line style=\"stroke: #383838; stroke-width: 1.5;\" x1=\"59.5\" x2=\"99.5\" y1=\"402.9375\" y2=\"402.9375\"/></a><!--MD5=[b9389687b975829384b498ac4b7476b2]\n",
       "class E8--><a href=\"psysml:0f8b0aa8-e59b-4cfe-b590-8672d08a4434\" target=\"_top\" title=\"psysml:0f8b0aa8-e59b-4cfe-b590-8672d08a4434\" xlink:actuate=\"onRequest\" xlink:href=\"psysml:0f8b0aa8-e59b-4cfe-b590-8672d08a4434\" xlink:show=\"new\" xlink:title=\"psysml:0f8b0aa8-e59b-4cfe-b590-8672d08a4434\" xlink:type=\"simple\"><rect fill=\"#FFFFFF\" height=\"45.9375\" id=\"E8\" rx=\"10\" ry=\"10\" style=\"stroke: #383838; stroke-width: 1.5;\" width=\"42\" x=\"58.5\" y=\"446\"/><text fill=\"#000000\" font-family=\"sans-serif\" font-size=\"12\" font-style=\"italic\" lengthAdjust=\"spacingAndGlyphs\" textLength=\"40\" x=\"59.5\" y=\"462.1387\">«part»</text><text fill=\"#000000\" font-family=\"sans-serif\" font-size=\"12\" lengthAdjust=\"spacingAndGlyphs\" textLength=\"8\" x=\"75.5\" y=\"476.1074\">e</text><line style=\"stroke: #383838; stroke-width: 1.5;\" x1=\"59.5\" x2=\"99.5\" y1=\"483.9375\" y2=\"483.9375\"/></a><!--MD5=[fd4143e9d270a159db93a4ea2a975926]\n",
       "class E9--><a href=\"psysml:07bb6063-49af-4acb-bb76-a6a51f542bf8\" target=\"_top\" title=\"psysml:07bb6063-49af-4acb-bb76-a6a51f542bf8\" xlink:actuate=\"onRequest\" xlink:href=\"psysml:07bb6063-49af-4acb-bb76-a6a51f542bf8\" xlink:show=\"new\" xlink:title=\"psysml:07bb6063-49af-4acb-bb76-a6a51f542bf8\" xlink:type=\"simple\"><rect fill=\"#FFFFFF\" height=\"45.9375\" id=\"E9\" rx=\"10\" ry=\"10\" style=\"stroke: #383838; stroke-width: 1.5;\" width=\"42\" x=\"58.5\" y=\"527\"/><text fill=\"#000000\" font-family=\"sans-serif\" font-size=\"12\" font-style=\"italic\" lengthAdjust=\"spacingAndGlyphs\" textLength=\"40\" x=\"59.5\" y=\"543.1387\">«part»</text><text fill=\"#000000\" font-family=\"sans-serif\" font-size=\"12\" lengthAdjust=\"spacingAndGlyphs\" textLength=\"4\" x=\"77.5\" y=\"557.1074\">f</text><line style=\"stroke: #383838; stroke-width: 1.5;\" x1=\"59.5\" x2=\"99.5\" y1=\"564.9375\" y2=\"564.9375\"/></a><!--MD5=[96f4274e9e20536e775497830990834d]\n",
       "class E10--><a href=\"psysml:87a6ec87-e214-496f-a09f-1f6dfd597ed3\" target=\"_top\" title=\"psysml:87a6ec87-e214-496f-a09f-1f6dfd597ed3\" xlink:actuate=\"onRequest\" xlink:href=\"psysml:87a6ec87-e214-496f-a09f-1f6dfd597ed3\" xlink:show=\"new\" xlink:title=\"psysml:87a6ec87-e214-496f-a09f-1f6dfd597ed3\" xlink:type=\"simple\"><rect fill=\"#FFFFFF\" height=\"45.9375\" id=\"E10\" rx=\"10\" ry=\"10\" style=\"stroke: #383838; stroke-width: 1.5;\" width=\"42\" x=\"58.5\" y=\"608\"/><text fill=\"#000000\" font-family=\"sans-serif\" font-size=\"12\" font-style=\"italic\" lengthAdjust=\"spacingAndGlyphs\" textLength=\"40\" x=\"59.5\" y=\"624.1387\">«part»</text><text fill=\"#000000\" font-family=\"sans-serif\" font-size=\"12\" lengthAdjust=\"spacingAndGlyphs\" textLength=\"8\" x=\"75.5\" y=\"638.1074\">g</text><line style=\"stroke: #383838; stroke-width: 1.5;\" x1=\"59.5\" x2=\"99.5\" y1=\"645.9375\" y2=\"645.9375\"/></a><!--MD5=[1dd1bfd58a279cf63c5f349dbc8fc6a1]\n",
       "class E11--><a href=\"psysml:423769db-1814-486c-a3b1-3214b1eae655\" target=\"_top\" title=\"psysml:423769db-1814-486c-a3b1-3214b1eae655\" xlink:actuate=\"onRequest\" xlink:href=\"psysml:423769db-1814-486c-a3b1-3214b1eae655\" xlink:show=\"new\" xlink:title=\"psysml:423769db-1814-486c-a3b1-3214b1eae655\" xlink:type=\"simple\"><rect fill=\"#FFFFFF\" height=\"88.3516\" id=\"E11\" style=\"stroke: #383838; stroke-width: 1.5;\" width=\"95\" x=\"32\" y=\"689\"/><text fill=\"#000000\" font-family=\"sans-serif\" font-size=\"12\" font-style=\"italic\" lengthAdjust=\"spacingAndGlyphs\" textLength=\"93\" x=\"33\" y=\"705.1387\">«attribute def»</text><text fill=\"#000000\" font-family=\"sans-serif\" font-size=\"12\" lengthAdjust=\"spacingAndGlyphs\" textLength=\"8\" x=\"75.5\" y=\"719.1074\">A</text><line style=\"stroke: #383838; stroke-width: 1.5;\" x1=\"33\" x2=\"126\" y1=\"726.9375\" y2=\"726.9375\"/><text fill=\"#000000\" font-family=\"sans-serif\" font-size=\"11\" lengthAdjust=\"spacingAndGlyphs\" textLength=\"51\" x=\"38\" y=\"757.9526\">i: Integer</text><text fill=\"#000000\" font-family=\"sans-serif\" font-size=\"11\" lengthAdjust=\"spacingAndGlyphs\" textLength=\"21\" x=\"38\" y=\"770.7573\">x: A</text><line style=\"stroke: #383838; stroke-width: 1.0;\" x1=\"33\" x2=\"52\" y1=\"741.3398\" y2=\"741.3398\"/><text fill=\"#000000\" font-family=\"sans-serif\" font-size=\"11\" lengthAdjust=\"spacingAndGlyphs\" textLength=\"55\" x=\"52\" y=\"744.6479\">attributes</text><line style=\"stroke: #383838; stroke-width: 1.0;\" x1=\"107\" x2=\"126\" y1=\"741.3398\" y2=\"741.3398\"/></a><!--MD5=[15ebcb19ae302d9b601edb458606d402]\n",
       "link E5 to E2--><a href=\"psysml:56ee8f03-05cc-4672-92a5-af5f15d564f5\" target=\"_top\" title=\"psysml:56ee8f03-05cc-4672-92a5-af5f15d564f5\" xlink:actuate=\"onRequest\" xlink:href=\"psysml:56ee8f03-05cc-4672-92a5-af5f15d564f5\" xlink:show=\"new\" xlink:title=\"psysml:56ee8f03-05cc-4672-92a5-af5f15d564f5\" xlink:type=\"simple\"><path d=\"M100.64,231.96 C118.11,237.13 144.16,244.84 167.38,251.72 \" fill=\"none\" id=\"E5-&gt;E2\" style=\"stroke: #383838; stroke-width: 1.0;\"/><polygon fill=\"#FFFFFF\" points=\"186.77,257.46,166.5639,258.7688,170.5445,245.3466,186.77,257.46\" style=\"stroke: #383838; stroke-width: 1.0;\"/><ellipse cx=\"161.6678\" cy=\"255.2306\" fill=\"#383838\" rx=\"2\" ry=\"2\" style=\"stroke: #383838; stroke-width: 1.0;\"/><ellipse cx=\"164.5111\" cy=\"245.6434\" fill=\"#383838\" rx=\"2\" ry=\"2\" style=\"stroke: #383838; stroke-width: 1.0;\"/></a><!--MD5=[2351f337d6de0f557b50152ba70847b5]\n",
       "link E6 to E2--><a href=\"psysml:34caeea3-9e32-4456-be5b-df49f4f1b3a4\" target=\"_top\" title=\"psysml:34caeea3-9e32-4456-be5b-df49f4f1b3a4\" xlink:actuate=\"onRequest\" xlink:href=\"psysml:34caeea3-9e32-4456-be5b-df49f4f1b3a4\" xlink:show=\"new\" xlink:title=\"psysml:34caeea3-9e32-4456-be5b-df49f4f1b3a4\" xlink:type=\"simple\"><path d=\"M100.64,301.18 C118.11,296.14 144.16,288.61 167.38,281.91 \" fill=\"none\" id=\"E6-&gt;E2\" style=\"stroke: #383838; stroke-width: 1.0;\"/><polygon fill=\"#FFFFFF\" points=\"186.77,276.31,170.4629,288.3132,166.5732,274.8644,186.77,276.31\" style=\"stroke: #383838; stroke-width: 1.0;\"/><ellipse cx=\"164.4316\" cy=\"287.9756\" fill=\"#383838\" rx=\"2\" ry=\"2\" style=\"stroke: #383838; stroke-width: 1.0;\"/><ellipse cx=\"161.6533\" cy=\"278.3693\" fill=\"#383838\" rx=\"2\" ry=\"2\" style=\"stroke: #383838; stroke-width: 1.0;\"/></a><!--MD5=[29d99a2cf23e83b73deb9845a6f688a0]\n",
       "@startuml\r\n",
       "left to right direction\r\n",
       "skinparam monochrome true\r\n",
       "skinparam classbackgroundcolor white\r\n",
       "skinparam shadowing false\r\n",
       "skinparam wrapWidth 300\r\n",
       "hide circle\r\n",
       "\r\n",
       "package \"MultiplicityTest\" as E1  [[psysml:917c8e98-308c-4a57-bedc-72bb13927275 ]]  {\r\n",
       "comp def \"P\" as E2  <<(T,blue) part def>> [[psysml:1b8e2ab6-001b-4483-8406-5463ddd95a77 ]] {\r\n",
       "}\r\n",
       "comp usage \"n: Integer\" as E3  <<(T,blue) attribute>> [[psysml:d0e8f829-c575-44a2-9ede-b108238de40c ]] {\r\n",
       "}\r\n",
       "comp usage \"a\" as E4  <<(T,blue) part>> [[psysml:2de2cbdc-62e6-485a-a7d2-bee7f587f60d ]] {\r\n",
       "}\r\n",
       "comp usage \"b: P\" as E5  <<(T,blue) part>> [[psysml:a47b2c6e-81dd-4a7f-97e2-f2f751620c17 ]] {\r\n",
       "}\r\n",
       "comp usage \"c: P\" as E6  <<(T,blue) part>> [[psysml:46e4b238-da26-40c7-b1f6-d3a4f2631481 ]] {\r\n",
       "}\r\n",
       "comp usage \"d\" as E7  <<(T,blue) part>> [[psysml:862abcb1-d094-4d1f-a90d-b0af915cd2bb ]] {\r\n",
       "}\r\n",
       "comp usage \"e\" as E8  <<(T,blue) part>> [[psysml:0f8b0aa8-e59b-4cfe-b590-8672d08a4434 ]] {\r\n",
       "}\r\n",
       "comp usage \"f\" as E9  <<(T,blue) part>> [[psysml:07bb6063-49af-4acb-bb76-a6a51f542bf8 ]] {\r\n",
       "}\r\n",
       "comp usage \"g\" as E10  <<(T,blue) part>> [[psysml:87a6ec87-e214-496f-a09f-1f6dfd597ed3 ]] {\r\n",
       "}\r\n",
       "comp def \"A\" as E11  <<(T,blue) attribute def>> [[psysml:423769db-1814-486c-a3b1-3214b1eae655 ]] {\r\n",
       "- - attributes - -\r\n",
       "i: Integer\r\n",
       "x: A\r\n",
       "}\r\n",
       "}\r\n",
       "E5 - -:|> E2 [[psysml:56ee8f03-05cc-4672-92a5-af5f15d564f5 ]] \r\n",
       "E6 - -:|> E2 [[psysml:34caeea3-9e32-4456-be5b-df49f4f1b3a4 ]] \r\n",
       "@enduml\r\n",
       "\n",
       "PlantUML version 1.2020.13(Sat Jun 13 12:26:38 UTC 2020)\n",
       "(EPL source distribution)\n",
       "Java Runtime: OpenJDK Runtime Environment\n",
       "JVM: OpenJDK 64-Bit Server VM\n",
       "Default Encoding: UTF-8\n",
       "Language: en\n",
       "Country: null\n",
       "--></g></svg>"
      ]
     },
     "execution_count": 16,
     "metadata": {},
     "output_type": "execute_result"
    }
   ],
   "source": [
    "%viz --style=\"LR\" --view=\"Default\" \"MultiplicityTest\""
   ]
  },
  {
   "cell_type": "code",
   "execution_count": 17,
   "id": "cb5381f5",
   "metadata": {
    "execution": {
     "iopub.execute_input": "2021-10-03T08:30:19.759481Z",
     "iopub.status.busy": "2021-10-03T08:30:19.759079Z",
     "iopub.status.idle": "2021-10-03T08:30:19.820311Z",
     "shell.execute_reply": "2021-10-03T08:30:19.819952Z"
    }
   },
   "outputs": [
    {
     "data": {
      "image/svg+xml": [
       "<?xml version=\"1.0\" encoding=\"UTF-8\" standalone=\"no\"?><svg xmlns=\"http://www.w3.org/2000/svg\" xmlns:xlink=\"http://www.w3.org/1999/xlink\" contentScriptType=\"application/ecmascript\" contentStyleType=\"text/css\" height=\"805px\" preserveAspectRatio=\"none\" style=\"width:291px;height:805px;\" version=\"1.1\" viewBox=\"0 0 291 805\" width=\"291px\" zoomAndPan=\"magnify\"><defs/><g><!--MD5=[fbc87193dbaf4d95561dea2c320d4a47]\n",
       "cluster E1--><a href=\"psysml:917c8e98-308c-4a57-bedc-72bb13927275\" target=\"_top\" title=\"psysml:917c8e98-308c-4a57-bedc-72bb13927275\" xlink:actuate=\"onRequest\" xlink:href=\"psysml:917c8e98-308c-4a57-bedc-72bb13927275\" xlink:show=\"new\" xlink:title=\"psysml:917c8e98-308c-4a57-bedc-72bb13927275\" xlink:type=\"simple\"><polygon fill=\"#FFFFFF\" points=\"16,6,123,6,130,28.2969,269,28.2969,269,793,16,793,16,6\" style=\"stroke: #000000; stroke-width: 1.5;\"/><line style=\"stroke: #000000; stroke-width: 1.5;\" x1=\"16\" x2=\"130\" y1=\"28.2969\" y2=\"28.2969\"/><text fill=\"#000000\" font-family=\"sans-serif\" font-size=\"14\" font-weight=\"bold\" lengthAdjust=\"spacingAndGlyphs\" textLength=\"101\" x=\"20\" y=\"20.9951\">MultiplicityTest</text></a><!--MD5=[b4997ac47864f28c2f74865a473b2911]\n",
       "class E2--><a href=\"psysml:1b8e2ab6-001b-4483-8406-5463ddd95a77\" target=\"_top\" title=\"psysml:1b8e2ab6-001b-4483-8406-5463ddd95a77\" xlink:actuate=\"onRequest\" xlink:href=\"psysml:1b8e2ab6-001b-4483-8406-5463ddd95a77\" xlink:show=\"new\" xlink:title=\"psysml:1b8e2ab6-001b-4483-8406-5463ddd95a77\" xlink:type=\"simple\"><rect fill=\"#FFFFFF\" height=\"45.9375\" id=\"E2\" style=\"stroke: #383838; stroke-width: 1.5;\" width=\"66\" x=\"187\" y=\"244\"/><text fill=\"#000000\" font-family=\"sans-serif\" font-size=\"12\" font-style=\"italic\" lengthAdjust=\"spacingAndGlyphs\" textLength=\"64\" x=\"188\" y=\"260.1387\">«part def»</text><text fill=\"#000000\" font-family=\"sans-serif\" font-size=\"12\" lengthAdjust=\"spacingAndGlyphs\" textLength=\"8\" x=\"216\" y=\"274.1074\">P</text><line style=\"stroke: #383838; stroke-width: 1.5;\" x1=\"188\" x2=\"252\" y1=\"281.9375\" y2=\"281.9375\"/></a><!--MD5=[09b614a08d8cba4a07c9adeb5e0fee81]\n",
       "class E3--><a href=\"psysml:d0e8f829-c575-44a2-9ede-b108238de40c\" target=\"_top\" title=\"psysml:d0e8f829-c575-44a2-9ede-b108238de40c\" xlink:actuate=\"onRequest\" xlink:href=\"psysml:d0e8f829-c575-44a2-9ede-b108238de40c\" xlink:show=\"new\" xlink:title=\"psysml:d0e8f829-c575-44a2-9ede-b108238de40c\" xlink:type=\"simple\"><rect fill=\"#FFFFFF\" height=\"45.9375\" id=\"E3\" rx=\"10\" ry=\"10\" style=\"stroke: #383838; stroke-width: 1.5;\" width=\"71\" x=\"44\" y=\"41\"/><text fill=\"#000000\" font-family=\"sans-serif\" font-size=\"12\" font-style=\"italic\" lengthAdjust=\"spacingAndGlyphs\" textLength=\"69\" x=\"45\" y=\"57.1387\">«attribute»</text><text fill=\"#000000\" font-family=\"sans-serif\" font-size=\"12\" lengthAdjust=\"spacingAndGlyphs\" textLength=\"61\" x=\"49\" y=\"71.1074\">n: Integer</text><line style=\"stroke: #383838; stroke-width: 1.5;\" x1=\"45\" x2=\"114\" y1=\"78.9375\" y2=\"78.9375\"/></a><!--MD5=[ebbe1d658d1005bcc118a6aa81145e00]\n",
       "class E4--><a href=\"psysml:2de2cbdc-62e6-485a-a7d2-bee7f587f60d\" target=\"_top\" title=\"psysml:2de2cbdc-62e6-485a-a7d2-bee7f587f60d\" xlink:actuate=\"onRequest\" xlink:href=\"psysml:2de2cbdc-62e6-485a-a7d2-bee7f587f60d\" xlink:show=\"new\" xlink:title=\"psysml:2de2cbdc-62e6-485a-a7d2-bee7f587f60d\" xlink:type=\"simple\"><rect fill=\"#FFFFFF\" height=\"45.9375\" id=\"E4\" rx=\"10\" ry=\"10\" style=\"stroke: #383838; stroke-width: 1.5;\" width=\"42\" x=\"58.5\" y=\"122\"/><text fill=\"#000000\" font-family=\"sans-serif\" font-size=\"12\" font-style=\"italic\" lengthAdjust=\"spacingAndGlyphs\" textLength=\"40\" x=\"59.5\" y=\"138.1387\">«part»</text><text fill=\"#000000\" font-family=\"sans-serif\" font-size=\"12\" lengthAdjust=\"spacingAndGlyphs\" textLength=\"8\" x=\"75.5\" y=\"152.1074\">a</text><line style=\"stroke: #383838; stroke-width: 1.5;\" x1=\"59.5\" x2=\"99.5\" y1=\"159.9375\" y2=\"159.9375\"/></a><!--MD5=[270fce915f116d4de14055a7c1d9a0f3]\n",
       "class E5--><a href=\"psysml:a47b2c6e-81dd-4a7f-97e2-f2f751620c17\" target=\"_top\" title=\"psysml:a47b2c6e-81dd-4a7f-97e2-f2f751620c17\" xlink:actuate=\"onRequest\" xlink:href=\"psysml:a47b2c6e-81dd-4a7f-97e2-f2f751620c17\" xlink:show=\"new\" xlink:title=\"psysml:a47b2c6e-81dd-4a7f-97e2-f2f751620c17\" xlink:type=\"simple\"><rect fill=\"#FFFFFF\" height=\"45.9375\" id=\"E5\" rx=\"10\" ry=\"10\" style=\"stroke: #383838; stroke-width: 1.5;\" width=\"42\" x=\"58.5\" y=\"203\"/><text fill=\"#000000\" font-family=\"sans-serif\" font-size=\"12\" font-style=\"italic\" lengthAdjust=\"spacingAndGlyphs\" textLength=\"40\" x=\"59.5\" y=\"219.1387\">«part»</text><text fill=\"#000000\" font-family=\"sans-serif\" font-size=\"12\" lengthAdjust=\"spacingAndGlyphs\" textLength=\"24\" x=\"67.5\" y=\"233.1074\">b: P</text><line style=\"stroke: #383838; stroke-width: 1.5;\" x1=\"59.5\" x2=\"99.5\" y1=\"240.9375\" y2=\"240.9375\"/></a><!--MD5=[60a26617385b1d2d0262a64233df1f8d]\n",
       "class E6--><a href=\"psysml:46e4b238-da26-40c7-b1f6-d3a4f2631481\" target=\"_top\" title=\"psysml:46e4b238-da26-40c7-b1f6-d3a4f2631481\" xlink:actuate=\"onRequest\" xlink:href=\"psysml:46e4b238-da26-40c7-b1f6-d3a4f2631481\" xlink:show=\"new\" xlink:title=\"psysml:46e4b238-da26-40c7-b1f6-d3a4f2631481\" xlink:type=\"simple\"><rect fill=\"#FFFFFF\" height=\"45.9375\" id=\"E6\" rx=\"10\" ry=\"10\" style=\"stroke: #383838; stroke-width: 1.5;\" width=\"42\" x=\"58.5\" y=\"284\"/><text fill=\"#000000\" font-family=\"sans-serif\" font-size=\"12\" font-style=\"italic\" lengthAdjust=\"spacingAndGlyphs\" textLength=\"40\" x=\"59.5\" y=\"300.1387\">«part»</text><text fill=\"#000000\" font-family=\"sans-serif\" font-size=\"12\" lengthAdjust=\"spacingAndGlyphs\" textLength=\"23\" x=\"68\" y=\"314.1074\">c: P</text><line style=\"stroke: #383838; stroke-width: 1.5;\" x1=\"59.5\" x2=\"99.5\" y1=\"321.9375\" y2=\"321.9375\"/></a><!--MD5=[2156ba9850f5573cc1fc38a6a4b2f02b]\n",
       "class E7--><a href=\"psysml:862abcb1-d094-4d1f-a90d-b0af915cd2bb\" target=\"_top\" title=\"psysml:862abcb1-d094-4d1f-a90d-b0af915cd2bb\" xlink:actuate=\"onRequest\" xlink:href=\"psysml:862abcb1-d094-4d1f-a90d-b0af915cd2bb\" xlink:show=\"new\" xlink:title=\"psysml:862abcb1-d094-4d1f-a90d-b0af915cd2bb\" xlink:type=\"simple\"><rect fill=\"#FFFFFF\" height=\"45.9375\" id=\"E7\" rx=\"10\" ry=\"10\" style=\"stroke: #383838; stroke-width: 1.5;\" width=\"42\" x=\"58.5\" y=\"365\"/><text fill=\"#000000\" font-family=\"sans-serif\" font-size=\"12\" font-style=\"italic\" lengthAdjust=\"spacingAndGlyphs\" textLength=\"40\" x=\"59.5\" y=\"381.1387\">«part»</text><text fill=\"#000000\" font-family=\"sans-serif\" font-size=\"12\" lengthAdjust=\"spacingAndGlyphs\" textLength=\"8\" x=\"75.5\" y=\"395.1074\">d</text><line style=\"stroke: #383838; stroke-width: 1.5;\" x1=\"59.5\" x2=\"99.5\" y1=\"402.9375\" y2=\"402.9375\"/></a><!--MD5=[b9389687b975829384b498ac4b7476b2]\n",
       "class E8--><a href=\"psysml:0f8b0aa8-e59b-4cfe-b590-8672d08a4434\" target=\"_top\" title=\"psysml:0f8b0aa8-e59b-4cfe-b590-8672d08a4434\" xlink:actuate=\"onRequest\" xlink:href=\"psysml:0f8b0aa8-e59b-4cfe-b590-8672d08a4434\" xlink:show=\"new\" xlink:title=\"psysml:0f8b0aa8-e59b-4cfe-b590-8672d08a4434\" xlink:type=\"simple\"><rect fill=\"#FFFFFF\" height=\"45.9375\" id=\"E8\" rx=\"10\" ry=\"10\" style=\"stroke: #383838; stroke-width: 1.5;\" width=\"42\" x=\"58.5\" y=\"446\"/><text fill=\"#000000\" font-family=\"sans-serif\" font-size=\"12\" font-style=\"italic\" lengthAdjust=\"spacingAndGlyphs\" textLength=\"40\" x=\"59.5\" y=\"462.1387\">«part»</text><text fill=\"#000000\" font-family=\"sans-serif\" font-size=\"12\" lengthAdjust=\"spacingAndGlyphs\" textLength=\"8\" x=\"75.5\" y=\"476.1074\">e</text><line style=\"stroke: #383838; stroke-width: 1.5;\" x1=\"59.5\" x2=\"99.5\" y1=\"483.9375\" y2=\"483.9375\"/></a><!--MD5=[fd4143e9d270a159db93a4ea2a975926]\n",
       "class E9--><a href=\"psysml:07bb6063-49af-4acb-bb76-a6a51f542bf8\" target=\"_top\" title=\"psysml:07bb6063-49af-4acb-bb76-a6a51f542bf8\" xlink:actuate=\"onRequest\" xlink:href=\"psysml:07bb6063-49af-4acb-bb76-a6a51f542bf8\" xlink:show=\"new\" xlink:title=\"psysml:07bb6063-49af-4acb-bb76-a6a51f542bf8\" xlink:type=\"simple\"><rect fill=\"#FFFFFF\" height=\"45.9375\" id=\"E9\" rx=\"10\" ry=\"10\" style=\"stroke: #383838; stroke-width: 1.5;\" width=\"42\" x=\"58.5\" y=\"527\"/><text fill=\"#000000\" font-family=\"sans-serif\" font-size=\"12\" font-style=\"italic\" lengthAdjust=\"spacingAndGlyphs\" textLength=\"40\" x=\"59.5\" y=\"543.1387\">«part»</text><text fill=\"#000000\" font-family=\"sans-serif\" font-size=\"12\" lengthAdjust=\"spacingAndGlyphs\" textLength=\"4\" x=\"77.5\" y=\"557.1074\">f</text><line style=\"stroke: #383838; stroke-width: 1.5;\" x1=\"59.5\" x2=\"99.5\" y1=\"564.9375\" y2=\"564.9375\"/></a><!--MD5=[96f4274e9e20536e775497830990834d]\n",
       "class E10--><a href=\"psysml:87a6ec87-e214-496f-a09f-1f6dfd597ed3\" target=\"_top\" title=\"psysml:87a6ec87-e214-496f-a09f-1f6dfd597ed3\" xlink:actuate=\"onRequest\" xlink:href=\"psysml:87a6ec87-e214-496f-a09f-1f6dfd597ed3\" xlink:show=\"new\" xlink:title=\"psysml:87a6ec87-e214-496f-a09f-1f6dfd597ed3\" xlink:type=\"simple\"><rect fill=\"#FFFFFF\" height=\"45.9375\" id=\"E10\" rx=\"10\" ry=\"10\" style=\"stroke: #383838; stroke-width: 1.5;\" width=\"42\" x=\"58.5\" y=\"608\"/><text fill=\"#000000\" font-family=\"sans-serif\" font-size=\"12\" font-style=\"italic\" lengthAdjust=\"spacingAndGlyphs\" textLength=\"40\" x=\"59.5\" y=\"624.1387\">«part»</text><text fill=\"#000000\" font-family=\"sans-serif\" font-size=\"12\" lengthAdjust=\"spacingAndGlyphs\" textLength=\"8\" x=\"75.5\" y=\"638.1074\">g</text><line style=\"stroke: #383838; stroke-width: 1.5;\" x1=\"59.5\" x2=\"99.5\" y1=\"645.9375\" y2=\"645.9375\"/></a><!--MD5=[1dd1bfd58a279cf63c5f349dbc8fc6a1]\n",
       "class E11--><a href=\"psysml:423769db-1814-486c-a3b1-3214b1eae655\" target=\"_top\" title=\"psysml:423769db-1814-486c-a3b1-3214b1eae655\" xlink:actuate=\"onRequest\" xlink:href=\"psysml:423769db-1814-486c-a3b1-3214b1eae655\" xlink:show=\"new\" xlink:title=\"psysml:423769db-1814-486c-a3b1-3214b1eae655\" xlink:type=\"simple\"><rect fill=\"#FFFFFF\" height=\"88.3516\" id=\"E11\" style=\"stroke: #383838; stroke-width: 1.5;\" width=\"95\" x=\"32\" y=\"689\"/><text fill=\"#000000\" font-family=\"sans-serif\" font-size=\"12\" font-style=\"italic\" lengthAdjust=\"spacingAndGlyphs\" textLength=\"93\" x=\"33\" y=\"705.1387\">«attribute def»</text><text fill=\"#000000\" font-family=\"sans-serif\" font-size=\"12\" lengthAdjust=\"spacingAndGlyphs\" textLength=\"8\" x=\"75.5\" y=\"719.1074\">A</text><line style=\"stroke: #383838; stroke-width: 1.5;\" x1=\"33\" x2=\"126\" y1=\"726.9375\" y2=\"726.9375\"/><text fill=\"#000000\" font-family=\"sans-serif\" font-size=\"11\" lengthAdjust=\"spacingAndGlyphs\" textLength=\"51\" x=\"38\" y=\"757.9526\">i: Integer</text><text fill=\"#000000\" font-family=\"sans-serif\" font-size=\"11\" lengthAdjust=\"spacingAndGlyphs\" textLength=\"21\" x=\"38\" y=\"770.7573\">x: A</text><line style=\"stroke: #383838; stroke-width: 1.0;\" x1=\"33\" x2=\"52\" y1=\"741.3398\" y2=\"741.3398\"/><text fill=\"#000000\" font-family=\"sans-serif\" font-size=\"11\" lengthAdjust=\"spacingAndGlyphs\" textLength=\"55\" x=\"52\" y=\"744.6479\">attributes</text><line style=\"stroke: #383838; stroke-width: 1.0;\" x1=\"107\" x2=\"126\" y1=\"741.3398\" y2=\"741.3398\"/></a><!--MD5=[15ebcb19ae302d9b601edb458606d402]\n",
       "link E5 to E2--><a href=\"psysml:56ee8f03-05cc-4672-92a5-af5f15d564f5\" target=\"_top\" title=\"psysml:56ee8f03-05cc-4672-92a5-af5f15d564f5\" xlink:actuate=\"onRequest\" xlink:href=\"psysml:56ee8f03-05cc-4672-92a5-af5f15d564f5\" xlink:show=\"new\" xlink:title=\"psysml:56ee8f03-05cc-4672-92a5-af5f15d564f5\" xlink:type=\"simple\"><path d=\"M100.64,231.96 C118.11,237.13 144.16,244.84 167.38,251.72 \" fill=\"none\" id=\"E5-&gt;E2\" style=\"stroke: #383838; stroke-width: 1.0;\"/><polygon fill=\"#FFFFFF\" points=\"186.77,257.46,166.5639,258.7688,170.5445,245.3466,186.77,257.46\" style=\"stroke: #383838; stroke-width: 1.0;\"/><ellipse cx=\"161.6678\" cy=\"255.2306\" fill=\"#383838\" rx=\"2\" ry=\"2\" style=\"stroke: #383838; stroke-width: 1.0;\"/><ellipse cx=\"164.5111\" cy=\"245.6434\" fill=\"#383838\" rx=\"2\" ry=\"2\" style=\"stroke: #383838; stroke-width: 1.0;\"/></a><!--MD5=[2351f337d6de0f557b50152ba70847b5]\n",
       "link E6 to E2--><a href=\"psysml:34caeea3-9e32-4456-be5b-df49f4f1b3a4\" target=\"_top\" title=\"psysml:34caeea3-9e32-4456-be5b-df49f4f1b3a4\" xlink:actuate=\"onRequest\" xlink:href=\"psysml:34caeea3-9e32-4456-be5b-df49f4f1b3a4\" xlink:show=\"new\" xlink:title=\"psysml:34caeea3-9e32-4456-be5b-df49f4f1b3a4\" xlink:type=\"simple\"><path d=\"M100.64,301.18 C118.11,296.14 144.16,288.61 167.38,281.91 \" fill=\"none\" id=\"E6-&gt;E2\" style=\"stroke: #383838; stroke-width: 1.0;\"/><polygon fill=\"#FFFFFF\" points=\"186.77,276.31,170.4629,288.3132,166.5732,274.8644,186.77,276.31\" style=\"stroke: #383838; stroke-width: 1.0;\"/><ellipse cx=\"164.4316\" cy=\"287.9756\" fill=\"#383838\" rx=\"2\" ry=\"2\" style=\"stroke: #383838; stroke-width: 1.0;\"/><ellipse cx=\"161.6533\" cy=\"278.3693\" fill=\"#383838\" rx=\"2\" ry=\"2\" style=\"stroke: #383838; stroke-width: 1.0;\"/></a><!--MD5=[29d99a2cf23e83b73deb9845a6f688a0]\n",
       "@startuml\r\n",
       "left to right direction\r\n",
       "skinparam monochrome true\r\n",
       "skinparam classbackgroundcolor white\r\n",
       "skinparam shadowing false\r\n",
       "skinparam wrapWidth 300\r\n",
       "hide circle\r\n",
       "\r\n",
       "package \"MultiplicityTest\" as E1  [[psysml:917c8e98-308c-4a57-bedc-72bb13927275 ]]  {\r\n",
       "comp def \"P\" as E2  <<(T,blue) part def>> [[psysml:1b8e2ab6-001b-4483-8406-5463ddd95a77 ]] {\r\n",
       "}\r\n",
       "comp usage \"n: Integer\" as E3  <<(T,blue) attribute>> [[psysml:d0e8f829-c575-44a2-9ede-b108238de40c ]] {\r\n",
       "}\r\n",
       "comp usage \"a\" as E4  <<(T,blue) part>> [[psysml:2de2cbdc-62e6-485a-a7d2-bee7f587f60d ]] {\r\n",
       "}\r\n",
       "comp usage \"b: P\" as E5  <<(T,blue) part>> [[psysml:a47b2c6e-81dd-4a7f-97e2-f2f751620c17 ]] {\r\n",
       "}\r\n",
       "comp usage \"c: P\" as E6  <<(T,blue) part>> [[psysml:46e4b238-da26-40c7-b1f6-d3a4f2631481 ]] {\r\n",
       "}\r\n",
       "comp usage \"d\" as E7  <<(T,blue) part>> [[psysml:862abcb1-d094-4d1f-a90d-b0af915cd2bb ]] {\r\n",
       "}\r\n",
       "comp usage \"e\" as E8  <<(T,blue) part>> [[psysml:0f8b0aa8-e59b-4cfe-b590-8672d08a4434 ]] {\r\n",
       "}\r\n",
       "comp usage \"f\" as E9  <<(T,blue) part>> [[psysml:07bb6063-49af-4acb-bb76-a6a51f542bf8 ]] {\r\n",
       "}\r\n",
       "comp usage \"g\" as E10  <<(T,blue) part>> [[psysml:87a6ec87-e214-496f-a09f-1f6dfd597ed3 ]] {\r\n",
       "}\r\n",
       "comp def \"A\" as E11  <<(T,blue) attribute def>> [[psysml:423769db-1814-486c-a3b1-3214b1eae655 ]] {\r\n",
       "- - attributes - -\r\n",
       "i: Integer\r\n",
       "x: A\r\n",
       "}\r\n",
       "}\r\n",
       "E5 - -:|> E2 [[psysml:56ee8f03-05cc-4672-92a5-af5f15d564f5 ]] \r\n",
       "E6 - -:|> E2 [[psysml:34caeea3-9e32-4456-be5b-df49f4f1b3a4 ]] \r\n",
       "@enduml\r\n",
       "\n",
       "PlantUML version 1.2020.13(Sat Jun 13 12:26:38 UTC 2020)\n",
       "(EPL source distribution)\n",
       "Java Runtime: OpenJDK Runtime Environment\n",
       "JVM: OpenJDK 64-Bit Server VM\n",
       "Default Encoding: UTF-8\n",
       "Language: en\n",
       "Country: null\n",
       "--></g></svg>"
      ]
     },
     "execution_count": 17,
     "metadata": {},
     "output_type": "execute_result"
    }
   ],
   "source": [
    "%viz --style=\"LR\" --view=\"Tree\" \"MultiplicityTest\""
   ]
  },
  {
   "cell_type": "code",
   "execution_count": 18,
   "id": "360af518",
   "metadata": {
    "execution": {
     "iopub.execute_input": "2021-10-03T08:30:19.869723Z",
     "iopub.status.busy": "2021-10-03T08:30:19.869310Z",
     "iopub.status.idle": "2021-10-03T08:30:19.874904Z",
     "shell.execute_reply": "2021-10-03T08:30:19.875223Z"
    }
   },
   "outputs": [
    {
     "data": {
      "image/svg+xml": [
       "<?xml version=\"1.0\" encoding=\"UTF-8\" standalone=\"no\"?><svg xmlns=\"http://www.w3.org/2000/svg\" xmlns:xlink=\"http://www.w3.org/1999/xlink\" contentScriptType=\"application/ecmascript\" contentStyleType=\"text/css\" height=\"12px\" preserveAspectRatio=\"none\" style=\"width:12px;height:12px;\" version=\"1.1\" viewBox=\"0 0 12 12\" width=\"12px\" zoomAndPan=\"magnify\"><defs/><g><!--MD5=[19d285c9d72a204eba4e2cd117d745e8]\n",
       "@startuml\r\n",
       "left to right direction\r\n",
       "skinparam monochrome true\r\n",
       "skinparam classbackgroundcolor white\r\n",
       "skinparam shadowing false\r\n",
       "skinparam wrapWidth 300\r\n",
       "hide circle\r\n",
       "\r\n",
       "@enduml\r\n",
       "\n",
       "PlantUML version 1.2020.13(Sat Jun 13 12:26:38 UTC 2020)\n",
       "(EPL source distribution)\n",
       "Java Runtime: OpenJDK Runtime Environment\n",
       "JVM: OpenJDK 64-Bit Server VM\n",
       "Default Encoding: UTF-8\n",
       "Language: en\n",
       "Country: null\n",
       "--></g></svg>"
      ]
     },
     "execution_count": 18,
     "metadata": {},
     "output_type": "execute_result"
    }
   ],
   "source": [
    "%viz --style=\"LR\" --view=\"State\" \"MultiplicityTest\""
   ]
  },
  {
   "cell_type": "code",
   "execution_count": 19,
   "id": "e0895201",
   "metadata": {
    "execution": {
     "iopub.execute_input": "2021-10-03T08:30:19.924982Z",
     "iopub.status.busy": "2021-10-03T08:30:19.924582Z",
     "iopub.status.idle": "2021-10-03T08:30:19.959114Z",
     "shell.execute_reply": "2021-10-03T08:30:19.958756Z"
    }
   },
   "outputs": [
    {
     "data": {
      "image/svg+xml": [
       "<?xml version=\"1.0\" encoding=\"UTF-8\" standalone=\"no\"?><svg xmlns=\"http://www.w3.org/2000/svg\" xmlns:xlink=\"http://www.w3.org/1999/xlink\" contentScriptType=\"application/ecmascript\" contentStyleType=\"text/css\" height=\"797px\" preserveAspectRatio=\"none\" style=\"width:170px;height:797px;\" version=\"1.1\" viewBox=\"0 0 170 797\" width=\"170px\" zoomAndPan=\"magnify\"><defs/><g><!--MD5=[fbc87193dbaf4d95561dea2c320d4a47]\n",
       "cluster E1--><a href=\"psysml:917c8e98-308c-4a57-bedc-72bb13927275\" target=\"_top\" title=\"psysml:917c8e98-308c-4a57-bedc-72bb13927275\" xlink:actuate=\"onRequest\" xlink:href=\"psysml:917c8e98-308c-4a57-bedc-72bb13927275\" xlink:show=\"new\" xlink:title=\"psysml:917c8e98-308c-4a57-bedc-72bb13927275\" xlink:type=\"simple\"><polygon fill=\"#FFFFFF\" points=\"16,6,123,6,130,28.2969,148,28.2969,148,785,16,785,16,6\" style=\"stroke: #000000; stroke-width: 1.5;\"/><line style=\"stroke: #000000; stroke-width: 1.5;\" x1=\"16\" x2=\"130\" y1=\"28.2969\" y2=\"28.2969\"/><text fill=\"#000000\" font-family=\"sans-serif\" font-size=\"14\" font-weight=\"bold\" lengthAdjust=\"spacingAndGlyphs\" textLength=\"101\" x=\"20\" y=\"20.9951\">MultiplicityTest</text></a><!--MD5=[09b614a08d8cba4a07c9adeb5e0fee81]\n",
       "class E3--><a href=\"psysml:d0e8f829-c575-44a2-9ede-b108238de40c\" target=\"_top\" title=\"psysml:d0e8f829-c575-44a2-9ede-b108238de40c\" xlink:actuate=\"onRequest\" xlink:href=\"psysml:d0e8f829-c575-44a2-9ede-b108238de40c\" xlink:show=\"new\" xlink:title=\"psysml:d0e8f829-c575-44a2-9ede-b108238de40c\" xlink:type=\"simple\"><rect fill=\"#FFFFFF\" height=\"45.9375\" id=\"E3\" rx=\"10\" ry=\"10\" style=\"stroke: #383838; stroke-width: 1.5;\" width=\"71\" x=\"46.5\" y=\"41\"/><text fill=\"#000000\" font-family=\"sans-serif\" font-size=\"12\" font-style=\"italic\" lengthAdjust=\"spacingAndGlyphs\" textLength=\"69\" x=\"47.5\" y=\"57.1387\">«attribute»</text><text fill=\"#000000\" font-family=\"sans-serif\" font-size=\"12\" lengthAdjust=\"spacingAndGlyphs\" textLength=\"61\" x=\"51.5\" y=\"71.1074\">n: Integer</text><line style=\"stroke: #383838; stroke-width: 1.5;\" x1=\"47.5\" x2=\"116.5\" y1=\"78.9375\" y2=\"78.9375\"/></a><g id=\"E1.E11\"><a href=\"psysml:423769db-1814-486c-a3b1-3214b1eae655\" target=\"_top\" title=\"psysml:423769db-1814-486c-a3b1-3214b1eae655\" xlink:actuate=\"onRequest\" xlink:href=\"psysml:423769db-1814-486c-a3b1-3214b1eae655\" xlink:show=\"new\" xlink:title=\"psysml:423769db-1814-486c-a3b1-3214b1eae655\" xlink:type=\"simple\"><rect fill=\"#FFFFFF\" height=\"42.9375\" id=\"E11\" style=\"stroke: #383838; stroke-width: 1.5;\" width=\"100\" x=\"32\" y=\"122.5\"/><rect fill=\"#F8F8F8\" height=\"37.9375\" style=\"stroke: #383838; stroke-width: 1.5;\" width=\"100\" x=\"32\" y=\"122.5\"/><text fill=\"#000000\" font-family=\"sans-serif\" font-size=\"12\" font-style=\"italic\" lengthAdjust=\"spacingAndGlyphs\" textLength=\"93\" x=\"35.5\" y=\"138.6387\">«attribute def»</text><text fill=\"#000000\" font-family=\"sans-serif\" font-size=\"12\" lengthAdjust=\"spacingAndGlyphs\" textLength=\"8\" x=\"78\" y=\"152.6074\">A</text></a></g><g id=\"E1.E2\"><a href=\"psysml:1b8e2ab6-001b-4483-8406-5463ddd95a77\" target=\"_top\" title=\"psysml:1b8e2ab6-001b-4483-8406-5463ddd95a77\" xlink:actuate=\"onRequest\" xlink:href=\"psysml:1b8e2ab6-001b-4483-8406-5463ddd95a77\" xlink:show=\"new\" xlink:title=\"psysml:1b8e2ab6-001b-4483-8406-5463ddd95a77\" xlink:type=\"simple\"><rect fill=\"#FFFFFF\" height=\"42.9375\" id=\"E2\" style=\"stroke: #383838; stroke-width: 1.5;\" width=\"71\" x=\"46.5\" y=\"200.5\"/><rect fill=\"#F8F8F8\" height=\"37.9375\" style=\"stroke: #383838; stroke-width: 1.5;\" width=\"71\" x=\"46.5\" y=\"200.5\"/><text fill=\"#000000\" font-family=\"sans-serif\" font-size=\"12\" font-style=\"italic\" lengthAdjust=\"spacingAndGlyphs\" textLength=\"64\" x=\"50\" y=\"216.6387\">«part def»</text><text fill=\"#000000\" font-family=\"sans-serif\" font-size=\"12\" lengthAdjust=\"spacingAndGlyphs\" textLength=\"8\" x=\"78\" y=\"230.6074\">P</text></a></g><g id=\"E1.E4\"><a href=\"psysml:2de2cbdc-62e6-485a-a7d2-bee7f587f60d\" target=\"_top\" title=\"psysml:2de2cbdc-62e6-485a-a7d2-bee7f587f60d\" xlink:actuate=\"onRequest\" xlink:href=\"psysml:2de2cbdc-62e6-485a-a7d2-bee7f587f60d\" xlink:show=\"new\" xlink:title=\"psysml:2de2cbdc-62e6-485a-a7d2-bee7f587f60d\" xlink:type=\"simple\"><rect fill=\"#FFFFFF\" height=\"40\" id=\"E4\" rx=\"10\" ry=\"10\" style=\"stroke: #383838; stroke-width: 1.5;\" width=\"50\" x=\"57\" y=\"279\"/><rect fill=\"#F8F8F8\" height=\"23.9688\" rx=\"10\" ry=\"10\" style=\"stroke: #F8F8F8; stroke-width: 1.5;\" width=\"50\" x=\"57\" y=\"279\"/><rect fill=\"#F8F8F8\" height=\"10\" style=\"stroke: #F8F8F8; stroke-width: 1.5;\" width=\"50\" x=\"57\" y=\"292.9688\"/><rect fill=\"none\" height=\"40\" id=\"E4\" rx=\"10\" ry=\"10\" style=\"stroke: #383838; stroke-width: 1.5;\" width=\"50\" x=\"57\" y=\"279\"/><text fill=\"#000000\" font-family=\"sans-serif\" font-size=\"12\" lengthAdjust=\"spacingAndGlyphs\" textLength=\"8\" x=\"78\" y=\"295.1387\">a</text></a></g><g id=\"E1.E5\"><a href=\"psysml:a47b2c6e-81dd-4a7f-97e2-f2f751620c17\" target=\"_top\" title=\"psysml:a47b2c6e-81dd-4a7f-97e2-f2f751620c17\" xlink:actuate=\"onRequest\" xlink:href=\"psysml:a47b2c6e-81dd-4a7f-97e2-f2f751620c17\" xlink:show=\"new\" xlink:title=\"psysml:a47b2c6e-81dd-4a7f-97e2-f2f751620c17\" xlink:type=\"simple\"><rect fill=\"#FFFFFF\" height=\"40\" id=\"E5\" rx=\"10\" ry=\"10\" style=\"stroke: #383838; stroke-width: 1.5;\" width=\"50\" x=\"57\" y=\"354\"/><rect fill=\"#F8F8F8\" height=\"23.9688\" rx=\"10\" ry=\"10\" style=\"stroke: #F8F8F8; stroke-width: 1.5;\" width=\"50\" x=\"57\" y=\"354\"/><rect fill=\"#F8F8F8\" height=\"10\" style=\"stroke: #F8F8F8; stroke-width: 1.5;\" width=\"50\" x=\"57\" y=\"367.9688\"/><rect fill=\"none\" height=\"40\" id=\"E5\" rx=\"10\" ry=\"10\" style=\"stroke: #383838; stroke-width: 1.5;\" width=\"50\" x=\"57\" y=\"354\"/><text fill=\"#000000\" font-family=\"sans-serif\" font-size=\"12\" lengthAdjust=\"spacingAndGlyphs\" textLength=\"24\" x=\"70\" y=\"370.1387\">b: P</text></a></g><g id=\"E1.E6\"><a href=\"psysml:46e4b238-da26-40c7-b1f6-d3a4f2631481\" target=\"_top\" title=\"psysml:46e4b238-da26-40c7-b1f6-d3a4f2631481\" xlink:actuate=\"onRequest\" xlink:href=\"psysml:46e4b238-da26-40c7-b1f6-d3a4f2631481\" xlink:show=\"new\" xlink:title=\"psysml:46e4b238-da26-40c7-b1f6-d3a4f2631481\" xlink:type=\"simple\"><rect fill=\"#FFFFFF\" height=\"40\" id=\"E6\" rx=\"10\" ry=\"10\" style=\"stroke: #383838; stroke-width: 1.5;\" width=\"50\" x=\"57\" y=\"429\"/><rect fill=\"#F8F8F8\" height=\"23.9688\" rx=\"10\" ry=\"10\" style=\"stroke: #F8F8F8; stroke-width: 1.5;\" width=\"50\" x=\"57\" y=\"429\"/><rect fill=\"#F8F8F8\" height=\"10\" style=\"stroke: #F8F8F8; stroke-width: 1.5;\" width=\"50\" x=\"57\" y=\"442.9688\"/><rect fill=\"none\" height=\"40\" id=\"E6\" rx=\"10\" ry=\"10\" style=\"stroke: #383838; stroke-width: 1.5;\" width=\"50\" x=\"57\" y=\"429\"/><text fill=\"#000000\" font-family=\"sans-serif\" font-size=\"12\" lengthAdjust=\"spacingAndGlyphs\" textLength=\"23\" x=\"70.5\" y=\"445.1387\">c: P</text></a></g><g id=\"E1.E7\"><a href=\"psysml:862abcb1-d094-4d1f-a90d-b0af915cd2bb\" target=\"_top\" title=\"psysml:862abcb1-d094-4d1f-a90d-b0af915cd2bb\" xlink:actuate=\"onRequest\" xlink:href=\"psysml:862abcb1-d094-4d1f-a90d-b0af915cd2bb\" xlink:show=\"new\" xlink:title=\"psysml:862abcb1-d094-4d1f-a90d-b0af915cd2bb\" xlink:type=\"simple\"><rect fill=\"#FFFFFF\" height=\"40\" id=\"E7\" rx=\"10\" ry=\"10\" style=\"stroke: #383838; stroke-width: 1.5;\" width=\"50\" x=\"57\" y=\"504\"/><rect fill=\"#F8F8F8\" height=\"23.9688\" rx=\"10\" ry=\"10\" style=\"stroke: #F8F8F8; stroke-width: 1.5;\" width=\"50\" x=\"57\" y=\"504\"/><rect fill=\"#F8F8F8\" height=\"10\" style=\"stroke: #F8F8F8; stroke-width: 1.5;\" width=\"50\" x=\"57\" y=\"517.9688\"/><rect fill=\"none\" height=\"40\" id=\"E7\" rx=\"10\" ry=\"10\" style=\"stroke: #383838; stroke-width: 1.5;\" width=\"50\" x=\"57\" y=\"504\"/><text fill=\"#000000\" font-family=\"sans-serif\" font-size=\"12\" lengthAdjust=\"spacingAndGlyphs\" textLength=\"8\" x=\"78\" y=\"520.1387\">d</text></a></g><g id=\"E1.E8\"><a href=\"psysml:0f8b0aa8-e59b-4cfe-b590-8672d08a4434\" target=\"_top\" title=\"psysml:0f8b0aa8-e59b-4cfe-b590-8672d08a4434\" xlink:actuate=\"onRequest\" xlink:href=\"psysml:0f8b0aa8-e59b-4cfe-b590-8672d08a4434\" xlink:show=\"new\" xlink:title=\"psysml:0f8b0aa8-e59b-4cfe-b590-8672d08a4434\" xlink:type=\"simple\"><rect fill=\"#FFFFFF\" height=\"40\" id=\"E8\" rx=\"10\" ry=\"10\" style=\"stroke: #383838; stroke-width: 1.5;\" width=\"50\" x=\"57\" y=\"579\"/><rect fill=\"#F8F8F8\" height=\"23.9688\" rx=\"10\" ry=\"10\" style=\"stroke: #F8F8F8; stroke-width: 1.5;\" width=\"50\" x=\"57\" y=\"579\"/><rect fill=\"#F8F8F8\" height=\"10\" style=\"stroke: #F8F8F8; stroke-width: 1.5;\" width=\"50\" x=\"57\" y=\"592.9688\"/><rect fill=\"none\" height=\"40\" id=\"E8\" rx=\"10\" ry=\"10\" style=\"stroke: #383838; stroke-width: 1.5;\" width=\"50\" x=\"57\" y=\"579\"/><text fill=\"#000000\" font-family=\"sans-serif\" font-size=\"12\" lengthAdjust=\"spacingAndGlyphs\" textLength=\"8\" x=\"78\" y=\"595.1387\">e</text></a></g><g id=\"E1.E9\"><a href=\"psysml:07bb6063-49af-4acb-bb76-a6a51f542bf8\" target=\"_top\" title=\"psysml:07bb6063-49af-4acb-bb76-a6a51f542bf8\" xlink:actuate=\"onRequest\" xlink:href=\"psysml:07bb6063-49af-4acb-bb76-a6a51f542bf8\" xlink:show=\"new\" xlink:title=\"psysml:07bb6063-49af-4acb-bb76-a6a51f542bf8\" xlink:type=\"simple\"><rect fill=\"#FFFFFF\" height=\"40\" id=\"E9\" rx=\"10\" ry=\"10\" style=\"stroke: #383838; stroke-width: 1.5;\" width=\"50\" x=\"57\" y=\"654\"/><rect fill=\"#F8F8F8\" height=\"23.9688\" rx=\"10\" ry=\"10\" style=\"stroke: #F8F8F8; stroke-width: 1.5;\" width=\"50\" x=\"57\" y=\"654\"/><rect fill=\"#F8F8F8\" height=\"10\" style=\"stroke: #F8F8F8; stroke-width: 1.5;\" width=\"50\" x=\"57\" y=\"667.9688\"/><rect fill=\"none\" height=\"40\" id=\"E9\" rx=\"10\" ry=\"10\" style=\"stroke: #383838; stroke-width: 1.5;\" width=\"50\" x=\"57\" y=\"654\"/><text fill=\"#000000\" font-family=\"sans-serif\" font-size=\"12\" lengthAdjust=\"spacingAndGlyphs\" textLength=\"4\" x=\"80\" y=\"670.1387\">f</text></a></g><g id=\"E1.E10\"><a href=\"psysml:87a6ec87-e214-496f-a09f-1f6dfd597ed3\" target=\"_top\" title=\"psysml:87a6ec87-e214-496f-a09f-1f6dfd597ed3\" xlink:actuate=\"onRequest\" xlink:href=\"psysml:87a6ec87-e214-496f-a09f-1f6dfd597ed3\" xlink:show=\"new\" xlink:title=\"psysml:87a6ec87-e214-496f-a09f-1f6dfd597ed3\" xlink:type=\"simple\"><rect fill=\"#FFFFFF\" height=\"40\" id=\"E10\" rx=\"10\" ry=\"10\" style=\"stroke: #383838; stroke-width: 1.5;\" width=\"50\" x=\"57\" y=\"729\"/><rect fill=\"#F8F8F8\" height=\"23.9688\" rx=\"10\" ry=\"10\" style=\"stroke: #F8F8F8; stroke-width: 1.5;\" width=\"50\" x=\"57\" y=\"729\"/><rect fill=\"#F8F8F8\" height=\"10\" style=\"stroke: #F8F8F8; stroke-width: 1.5;\" width=\"50\" x=\"57\" y=\"742.9688\"/><rect fill=\"none\" height=\"40\" id=\"E10\" rx=\"10\" ry=\"10\" style=\"stroke: #383838; stroke-width: 1.5;\" width=\"50\" x=\"57\" y=\"729\"/><text fill=\"#000000\" font-family=\"sans-serif\" font-size=\"12\" lengthAdjust=\"spacingAndGlyphs\" textLength=\"8\" x=\"78\" y=\"745.1387\">g</text></a></g><!--MD5=[4b4394a67e567625849dd97214f3f784]\n",
       "@startuml\r\n",
       "skinparam ranksep 10\r\n",
       "skinparam rectangle {\r\n",
       " backgroundColor<<block>> LightGreen\r\n",
       "}\r\n",
       "left to right direction\r\n",
       "skinparam monochrome true\r\n",
       "skinparam classbackgroundcolor white\r\n",
       "skinparam shadowing false\r\n",
       "skinparam wrapWidth 300\r\n",
       "hide circle\r\n",
       "\r\n",
       "package \"MultiplicityTest\" as E1  [[psysml:917c8e98-308c-4a57-bedc-72bb13927275 ]]  {\r\n",
       "rec def \"P\" as E2  <<(T,blue) part def>> [[psysml:1b8e2ab6-001b-4483-8406-5463ddd95a77 ]] {\r\n",
       "}\r\n",
       "comp usage \"n: Integer\" as E3  <<(T,blue) attribute>> [[psysml:d0e8f829-c575-44a2-9ede-b108238de40c ]] {\r\n",
       "}\r\n",
       "rec usage \"a\" as E4  [[psysml:2de2cbdc-62e6-485a-a7d2-bee7f587f60d ]] {\r\n",
       "}\r\n",
       "rec usage \"b: P\" as E5  [[psysml:a47b2c6e-81dd-4a7f-97e2-f2f751620c17 ]] {\r\n",
       "}\r\n",
       "rec usage \"c: P\" as E6  [[psysml:46e4b238-da26-40c7-b1f6-d3a4f2631481 ]] {\r\n",
       "}\r\n",
       "rec usage \"d\" as E7  [[psysml:862abcb1-d094-4d1f-a90d-b0af915cd2bb ]] {\r\n",
       "}\r\n",
       "rec usage \"e\" as E8  [[psysml:0f8b0aa8-e59b-4cfe-b590-8672d08a4434 ]] {\r\n",
       "}\r\n",
       "rec usage \"f\" as E9  [[psysml:07bb6063-49af-4acb-bb76-a6a51f542bf8 ]] {\r\n",
       "}\r\n",
       "rec usage \"g\" as E10  [[psysml:87a6ec87-e214-496f-a09f-1f6dfd597ed3 ]] {\r\n",
       "}\r\n",
       "def \"A\" as E11  <<(T,blue) attribute def>> [[psysml:423769db-1814-486c-a3b1-3214b1eae655 ]] \r\n",
       "}\r\n",
       "@enduml\r\n",
       "\n",
       "PlantUML version 1.2020.13(Sat Jun 13 12:26:38 UTC 2020)\n",
       "(EPL source distribution)\n",
       "Java Runtime: OpenJDK Runtime Environment\n",
       "JVM: OpenJDK 64-Bit Server VM\n",
       "Default Encoding: UTF-8\n",
       "Language: en\n",
       "Country: null\n",
       "--></g></svg>"
      ]
     },
     "execution_count": 19,
     "metadata": {},
     "output_type": "execute_result"
    }
   ],
   "source": [
    "%viz --style=\"LR\" --view=\"Interconnection\" \"MultiplicityTest\""
   ]
  },
  {
   "cell_type": "code",
   "execution_count": 20,
   "id": "d8fd8c7a",
   "metadata": {
    "execution": {
     "iopub.execute_input": "2021-10-03T08:30:20.008353Z",
     "iopub.status.busy": "2021-10-03T08:30:20.007954Z",
     "iopub.status.idle": "2021-10-03T08:30:20.013535Z",
     "shell.execute_reply": "2021-10-03T08:30:20.013845Z"
    }
   },
   "outputs": [
    {
     "data": {
      "image/svg+xml": [
       "<?xml version=\"1.0\" encoding=\"UTF-8\" standalone=\"no\"?><svg xmlns=\"http://www.w3.org/2000/svg\" xmlns:xlink=\"http://www.w3.org/1999/xlink\" contentScriptType=\"application/ecmascript\" contentStyleType=\"text/css\" height=\"12px\" preserveAspectRatio=\"none\" style=\"width:12px;height:12px;\" version=\"1.1\" viewBox=\"0 0 12 12\" width=\"12px\" zoomAndPan=\"magnify\"><defs/><g><!--MD5=[7aeb398939421629f6affaa4a1a7b125]\n",
       "@startuml\r\n",
       "skinparam ranksep 8\r\n",
       "left to right direction\r\n",
       "skinparam monochrome true\r\n",
       "skinparam classbackgroundcolor white\r\n",
       "skinparam shadowing false\r\n",
       "skinparam wrapWidth 300\r\n",
       "hide circle\r\n",
       "\r\n",
       "@enduml\r\n",
       "\n",
       "PlantUML version 1.2020.13(Sat Jun 13 12:26:38 UTC 2020)\n",
       "(EPL source distribution)\n",
       "Java Runtime: OpenJDK Runtime Environment\n",
       "JVM: OpenJDK 64-Bit Server VM\n",
       "Default Encoding: UTF-8\n",
       "Language: en\n",
       "Country: null\n",
       "--></g></svg>"
      ]
     },
     "execution_count": 20,
     "metadata": {},
     "output_type": "execute_result"
    }
   ],
   "source": [
    "%viz --style=\"LR\" --view=\"Action\" \"MultiplicityTest\""
   ]
  },
  {
   "cell_type": "code",
   "execution_count": 21,
   "id": "994aef30",
   "metadata": {
    "execution": {
     "iopub.execute_input": "2021-10-03T08:30:20.063470Z",
     "iopub.status.busy": "2021-10-03T08:30:20.063081Z",
     "iopub.status.idle": "2021-10-03T08:30:20.068569Z",
     "shell.execute_reply": "2021-10-03T08:30:20.068877Z"
    }
   },
   "outputs": [
    {
     "data": {
      "image/svg+xml": [
       "<?xml version=\"1.0\" encoding=\"UTF-8\" standalone=\"no\"?><svg xmlns=\"http://www.w3.org/2000/svg\" xmlns:xlink=\"http://www.w3.org/1999/xlink\" contentScriptType=\"application/ecmascript\" contentStyleType=\"text/css\" height=\"12px\" preserveAspectRatio=\"none\" style=\"width:12px;height:12px;\" version=\"1.1\" viewBox=\"0 0 12 12\" width=\"12px\" zoomAndPan=\"magnify\"><defs/><g><!--MD5=[238c11ea2002f03115ad6b49a457d50e]\n",
       "@startuml\r\n",
       "skinparam roundcorner 20\r\n",
       "skinparam BoxPadding 20\r\n",
       "skinparam SequenceBoxBackgroundColor #white\r\n",
       "skinparam style strictuml\r\n",
       "skinparam maxMessageSize 100\r\n",
       "left to right direction\r\n",
       "skinparam monochrome true\r\n",
       "skinparam classbackgroundcolor white\r\n",
       "skinparam shadowing false\r\n",
       "skinparam wrapWidth 300\r\n",
       "hide circle\r\n",
       "\r\n",
       "@enduml\r\n",
       "\n",
       "PlantUML version 1.2020.13(Sat Jun 13 12:26:38 UTC 2020)\n",
       "(EPL source distribution)\n",
       "Java Runtime: OpenJDK Runtime Environment\n",
       "JVM: OpenJDK 64-Bit Server VM\n",
       "Default Encoding: UTF-8\n",
       "Language: en\n",
       "Country: null\n",
       "--></g></svg>"
      ]
     },
     "execution_count": 21,
     "metadata": {},
     "output_type": "execute_result"
    }
   ],
   "source": [
    "%viz --style=\"LR\" --view=\"Sequence\" \"MultiplicityTest\""
   ]
  },
  {
   "cell_type": "code",
   "execution_count": 22,
   "id": "a1ddbc8d",
   "metadata": {
    "execution": {
     "iopub.execute_input": "2021-10-03T08:30:20.118508Z",
     "iopub.status.busy": "2021-10-03T08:30:20.118116Z",
     "iopub.status.idle": "2021-10-03T08:30:20.175393Z",
     "shell.execute_reply": "2021-10-03T08:30:20.175680Z"
    }
   },
   "outputs": [
    {
     "data": {
      "image/svg+xml": [
       "<?xml version=\"1.0\" encoding=\"UTF-8\" standalone=\"no\"?><svg xmlns=\"http://www.w3.org/2000/svg\" xmlns:xlink=\"http://www.w3.org/1999/xlink\" contentScriptType=\"application/ecmascript\" contentStyleType=\"text/css\" height=\"805px\" preserveAspectRatio=\"none\" style=\"width:291px;height:805px;\" version=\"1.1\" viewBox=\"0 0 291 805\" width=\"291px\" zoomAndPan=\"magnify\"><defs/><g><!--MD5=[fbc87193dbaf4d95561dea2c320d4a47]\n",
       "cluster E1--><a href=\"psysml:917c8e98-308c-4a57-bedc-72bb13927275\" target=\"_top\" title=\"psysml:917c8e98-308c-4a57-bedc-72bb13927275\" xlink:actuate=\"onRequest\" xlink:href=\"psysml:917c8e98-308c-4a57-bedc-72bb13927275\" xlink:show=\"new\" xlink:title=\"psysml:917c8e98-308c-4a57-bedc-72bb13927275\" xlink:type=\"simple\"><polygon fill=\"#FFFFFF\" points=\"16,6,123,6,130,28.2969,269,28.2969,269,793,16,793,16,6\" style=\"stroke: #000000; stroke-width: 1.5;\"/><line style=\"stroke: #000000; stroke-width: 1.5;\" x1=\"16\" x2=\"130\" y1=\"28.2969\" y2=\"28.2969\"/><text fill=\"#000000\" font-family=\"sans-serif\" font-size=\"14\" font-weight=\"bold\" lengthAdjust=\"spacingAndGlyphs\" textLength=\"101\" x=\"20\" y=\"20.9951\">MultiplicityTest</text></a><!--MD5=[b4997ac47864f28c2f74865a473b2911]\n",
       "class E2--><a href=\"psysml:1b8e2ab6-001b-4483-8406-5463ddd95a77\" target=\"_top\" title=\"psysml:1b8e2ab6-001b-4483-8406-5463ddd95a77\" xlink:actuate=\"onRequest\" xlink:href=\"psysml:1b8e2ab6-001b-4483-8406-5463ddd95a77\" xlink:show=\"new\" xlink:title=\"psysml:1b8e2ab6-001b-4483-8406-5463ddd95a77\" xlink:type=\"simple\"><rect fill=\"#FFFFFF\" height=\"45.9375\" id=\"E2\" style=\"stroke: #383838; stroke-width: 1.5;\" width=\"66\" x=\"187\" y=\"244\"/><text fill=\"#000000\" font-family=\"sans-serif\" font-size=\"12\" font-style=\"italic\" lengthAdjust=\"spacingAndGlyphs\" textLength=\"64\" x=\"188\" y=\"260.1387\">«part def»</text><text fill=\"#000000\" font-family=\"sans-serif\" font-size=\"12\" lengthAdjust=\"spacingAndGlyphs\" textLength=\"8\" x=\"216\" y=\"274.1074\">P</text><line style=\"stroke: #383838; stroke-width: 1.5;\" x1=\"188\" x2=\"252\" y1=\"281.9375\" y2=\"281.9375\"/></a><!--MD5=[09b614a08d8cba4a07c9adeb5e0fee81]\n",
       "class E3--><a href=\"psysml:d0e8f829-c575-44a2-9ede-b108238de40c\" target=\"_top\" title=\"psysml:d0e8f829-c575-44a2-9ede-b108238de40c\" xlink:actuate=\"onRequest\" xlink:href=\"psysml:d0e8f829-c575-44a2-9ede-b108238de40c\" xlink:show=\"new\" xlink:title=\"psysml:d0e8f829-c575-44a2-9ede-b108238de40c\" xlink:type=\"simple\"><rect fill=\"#FFFFFF\" height=\"45.9375\" id=\"E3\" rx=\"10\" ry=\"10\" style=\"stroke: #383838; stroke-width: 1.5;\" width=\"71\" x=\"44\" y=\"41\"/><text fill=\"#000000\" font-family=\"sans-serif\" font-size=\"12\" font-style=\"italic\" lengthAdjust=\"spacingAndGlyphs\" textLength=\"69\" x=\"45\" y=\"57.1387\">«attribute»</text><text fill=\"#000000\" font-family=\"sans-serif\" font-size=\"12\" lengthAdjust=\"spacingAndGlyphs\" textLength=\"61\" x=\"49\" y=\"71.1074\">n: Integer</text><line style=\"stroke: #383838; stroke-width: 1.5;\" x1=\"45\" x2=\"114\" y1=\"78.9375\" y2=\"78.9375\"/></a><!--MD5=[ebbe1d658d1005bcc118a6aa81145e00]\n",
       "class E4--><a href=\"psysml:2de2cbdc-62e6-485a-a7d2-bee7f587f60d\" target=\"_top\" title=\"psysml:2de2cbdc-62e6-485a-a7d2-bee7f587f60d\" xlink:actuate=\"onRequest\" xlink:href=\"psysml:2de2cbdc-62e6-485a-a7d2-bee7f587f60d\" xlink:show=\"new\" xlink:title=\"psysml:2de2cbdc-62e6-485a-a7d2-bee7f587f60d\" xlink:type=\"simple\"><rect fill=\"#FFFFFF\" height=\"45.9375\" id=\"E4\" rx=\"10\" ry=\"10\" style=\"stroke: #383838; stroke-width: 1.5;\" width=\"42\" x=\"58.5\" y=\"122\"/><text fill=\"#000000\" font-family=\"sans-serif\" font-size=\"12\" font-style=\"italic\" lengthAdjust=\"spacingAndGlyphs\" textLength=\"40\" x=\"59.5\" y=\"138.1387\">«part»</text><text fill=\"#000000\" font-family=\"sans-serif\" font-size=\"12\" lengthAdjust=\"spacingAndGlyphs\" textLength=\"8\" x=\"75.5\" y=\"152.1074\">a</text><line style=\"stroke: #383838; stroke-width: 1.5;\" x1=\"59.5\" x2=\"99.5\" y1=\"159.9375\" y2=\"159.9375\"/></a><!--MD5=[270fce915f116d4de14055a7c1d9a0f3]\n",
       "class E5--><a href=\"psysml:a47b2c6e-81dd-4a7f-97e2-f2f751620c17\" target=\"_top\" title=\"psysml:a47b2c6e-81dd-4a7f-97e2-f2f751620c17\" xlink:actuate=\"onRequest\" xlink:href=\"psysml:a47b2c6e-81dd-4a7f-97e2-f2f751620c17\" xlink:show=\"new\" xlink:title=\"psysml:a47b2c6e-81dd-4a7f-97e2-f2f751620c17\" xlink:type=\"simple\"><rect fill=\"#FFFFFF\" height=\"45.9375\" id=\"E5\" rx=\"10\" ry=\"10\" style=\"stroke: #383838; stroke-width: 1.5;\" width=\"42\" x=\"58.5\" y=\"203\"/><text fill=\"#000000\" font-family=\"sans-serif\" font-size=\"12\" font-style=\"italic\" lengthAdjust=\"spacingAndGlyphs\" textLength=\"40\" x=\"59.5\" y=\"219.1387\">«part»</text><text fill=\"#000000\" font-family=\"sans-serif\" font-size=\"12\" lengthAdjust=\"spacingAndGlyphs\" textLength=\"24\" x=\"67.5\" y=\"233.1074\">b: P</text><line style=\"stroke: #383838; stroke-width: 1.5;\" x1=\"59.5\" x2=\"99.5\" y1=\"240.9375\" y2=\"240.9375\"/></a><!--MD5=[60a26617385b1d2d0262a64233df1f8d]\n",
       "class E6--><a href=\"psysml:46e4b238-da26-40c7-b1f6-d3a4f2631481\" target=\"_top\" title=\"psysml:46e4b238-da26-40c7-b1f6-d3a4f2631481\" xlink:actuate=\"onRequest\" xlink:href=\"psysml:46e4b238-da26-40c7-b1f6-d3a4f2631481\" xlink:show=\"new\" xlink:title=\"psysml:46e4b238-da26-40c7-b1f6-d3a4f2631481\" xlink:type=\"simple\"><rect fill=\"#FFFFFF\" height=\"45.9375\" id=\"E6\" rx=\"10\" ry=\"10\" style=\"stroke: #383838; stroke-width: 1.5;\" width=\"42\" x=\"58.5\" y=\"284\"/><text fill=\"#000000\" font-family=\"sans-serif\" font-size=\"12\" font-style=\"italic\" lengthAdjust=\"spacingAndGlyphs\" textLength=\"40\" x=\"59.5\" y=\"300.1387\">«part»</text><text fill=\"#000000\" font-family=\"sans-serif\" font-size=\"12\" lengthAdjust=\"spacingAndGlyphs\" textLength=\"23\" x=\"68\" y=\"314.1074\">c: P</text><line style=\"stroke: #383838; stroke-width: 1.5;\" x1=\"59.5\" x2=\"99.5\" y1=\"321.9375\" y2=\"321.9375\"/></a><!--MD5=[2156ba9850f5573cc1fc38a6a4b2f02b]\n",
       "class E7--><a href=\"psysml:862abcb1-d094-4d1f-a90d-b0af915cd2bb\" target=\"_top\" title=\"psysml:862abcb1-d094-4d1f-a90d-b0af915cd2bb\" xlink:actuate=\"onRequest\" xlink:href=\"psysml:862abcb1-d094-4d1f-a90d-b0af915cd2bb\" xlink:show=\"new\" xlink:title=\"psysml:862abcb1-d094-4d1f-a90d-b0af915cd2bb\" xlink:type=\"simple\"><rect fill=\"#FFFFFF\" height=\"45.9375\" id=\"E7\" rx=\"10\" ry=\"10\" style=\"stroke: #383838; stroke-width: 1.5;\" width=\"42\" x=\"58.5\" y=\"365\"/><text fill=\"#000000\" font-family=\"sans-serif\" font-size=\"12\" font-style=\"italic\" lengthAdjust=\"spacingAndGlyphs\" textLength=\"40\" x=\"59.5\" y=\"381.1387\">«part»</text><text fill=\"#000000\" font-family=\"sans-serif\" font-size=\"12\" lengthAdjust=\"spacingAndGlyphs\" textLength=\"8\" x=\"75.5\" y=\"395.1074\">d</text><line style=\"stroke: #383838; stroke-width: 1.5;\" x1=\"59.5\" x2=\"99.5\" y1=\"402.9375\" y2=\"402.9375\"/></a><!--MD5=[b9389687b975829384b498ac4b7476b2]\n",
       "class E8--><a href=\"psysml:0f8b0aa8-e59b-4cfe-b590-8672d08a4434\" target=\"_top\" title=\"psysml:0f8b0aa8-e59b-4cfe-b590-8672d08a4434\" xlink:actuate=\"onRequest\" xlink:href=\"psysml:0f8b0aa8-e59b-4cfe-b590-8672d08a4434\" xlink:show=\"new\" xlink:title=\"psysml:0f8b0aa8-e59b-4cfe-b590-8672d08a4434\" xlink:type=\"simple\"><rect fill=\"#FFFFFF\" height=\"45.9375\" id=\"E8\" rx=\"10\" ry=\"10\" style=\"stroke: #383838; stroke-width: 1.5;\" width=\"42\" x=\"58.5\" y=\"446\"/><text fill=\"#000000\" font-family=\"sans-serif\" font-size=\"12\" font-style=\"italic\" lengthAdjust=\"spacingAndGlyphs\" textLength=\"40\" x=\"59.5\" y=\"462.1387\">«part»</text><text fill=\"#000000\" font-family=\"sans-serif\" font-size=\"12\" lengthAdjust=\"spacingAndGlyphs\" textLength=\"8\" x=\"75.5\" y=\"476.1074\">e</text><line style=\"stroke: #383838; stroke-width: 1.5;\" x1=\"59.5\" x2=\"99.5\" y1=\"483.9375\" y2=\"483.9375\"/></a><!--MD5=[fd4143e9d270a159db93a4ea2a975926]\n",
       "class E9--><a href=\"psysml:07bb6063-49af-4acb-bb76-a6a51f542bf8\" target=\"_top\" title=\"psysml:07bb6063-49af-4acb-bb76-a6a51f542bf8\" xlink:actuate=\"onRequest\" xlink:href=\"psysml:07bb6063-49af-4acb-bb76-a6a51f542bf8\" xlink:show=\"new\" xlink:title=\"psysml:07bb6063-49af-4acb-bb76-a6a51f542bf8\" xlink:type=\"simple\"><rect fill=\"#FFFFFF\" height=\"45.9375\" id=\"E9\" rx=\"10\" ry=\"10\" style=\"stroke: #383838; stroke-width: 1.5;\" width=\"42\" x=\"58.5\" y=\"527\"/><text fill=\"#000000\" font-family=\"sans-serif\" font-size=\"12\" font-style=\"italic\" lengthAdjust=\"spacingAndGlyphs\" textLength=\"40\" x=\"59.5\" y=\"543.1387\">«part»</text><text fill=\"#000000\" font-family=\"sans-serif\" font-size=\"12\" lengthAdjust=\"spacingAndGlyphs\" textLength=\"4\" x=\"77.5\" y=\"557.1074\">f</text><line style=\"stroke: #383838; stroke-width: 1.5;\" x1=\"59.5\" x2=\"99.5\" y1=\"564.9375\" y2=\"564.9375\"/></a><!--MD5=[96f4274e9e20536e775497830990834d]\n",
       "class E10--><a href=\"psysml:87a6ec87-e214-496f-a09f-1f6dfd597ed3\" target=\"_top\" title=\"psysml:87a6ec87-e214-496f-a09f-1f6dfd597ed3\" xlink:actuate=\"onRequest\" xlink:href=\"psysml:87a6ec87-e214-496f-a09f-1f6dfd597ed3\" xlink:show=\"new\" xlink:title=\"psysml:87a6ec87-e214-496f-a09f-1f6dfd597ed3\" xlink:type=\"simple\"><rect fill=\"#FFFFFF\" height=\"45.9375\" id=\"E10\" rx=\"10\" ry=\"10\" style=\"stroke: #383838; stroke-width: 1.5;\" width=\"42\" x=\"58.5\" y=\"608\"/><text fill=\"#000000\" font-family=\"sans-serif\" font-size=\"12\" font-style=\"italic\" lengthAdjust=\"spacingAndGlyphs\" textLength=\"40\" x=\"59.5\" y=\"624.1387\">«part»</text><text fill=\"#000000\" font-family=\"sans-serif\" font-size=\"12\" lengthAdjust=\"spacingAndGlyphs\" textLength=\"8\" x=\"75.5\" y=\"638.1074\">g</text><line style=\"stroke: #383838; stroke-width: 1.5;\" x1=\"59.5\" x2=\"99.5\" y1=\"645.9375\" y2=\"645.9375\"/></a><!--MD5=[1dd1bfd58a279cf63c5f349dbc8fc6a1]\n",
       "class E11--><a href=\"psysml:423769db-1814-486c-a3b1-3214b1eae655\" target=\"_top\" title=\"psysml:423769db-1814-486c-a3b1-3214b1eae655\" xlink:actuate=\"onRequest\" xlink:href=\"psysml:423769db-1814-486c-a3b1-3214b1eae655\" xlink:show=\"new\" xlink:title=\"psysml:423769db-1814-486c-a3b1-3214b1eae655\" xlink:type=\"simple\"><rect fill=\"#FFFFFF\" height=\"88.3516\" id=\"E11\" style=\"stroke: #383838; stroke-width: 1.5;\" width=\"95\" x=\"32\" y=\"689\"/><text fill=\"#000000\" font-family=\"sans-serif\" font-size=\"12\" font-style=\"italic\" lengthAdjust=\"spacingAndGlyphs\" textLength=\"93\" x=\"33\" y=\"705.1387\">«attribute def»</text><text fill=\"#000000\" font-family=\"sans-serif\" font-size=\"12\" lengthAdjust=\"spacingAndGlyphs\" textLength=\"8\" x=\"75.5\" y=\"719.1074\">A</text><line style=\"stroke: #383838; stroke-width: 1.5;\" x1=\"33\" x2=\"126\" y1=\"726.9375\" y2=\"726.9375\"/><text fill=\"#000000\" font-family=\"sans-serif\" font-size=\"11\" lengthAdjust=\"spacingAndGlyphs\" textLength=\"51\" x=\"38\" y=\"757.9526\">i: Integer</text><text fill=\"#000000\" font-family=\"sans-serif\" font-size=\"11\" lengthAdjust=\"spacingAndGlyphs\" textLength=\"21\" x=\"38\" y=\"770.7573\">x: A</text><line style=\"stroke: #383838; stroke-width: 1.0;\" x1=\"33\" x2=\"52\" y1=\"741.3398\" y2=\"741.3398\"/><text fill=\"#000000\" font-family=\"sans-serif\" font-size=\"11\" lengthAdjust=\"spacingAndGlyphs\" textLength=\"55\" x=\"52\" y=\"744.6479\">attributes</text><line style=\"stroke: #383838; stroke-width: 1.0;\" x1=\"107\" x2=\"126\" y1=\"741.3398\" y2=\"741.3398\"/></a><!--MD5=[15ebcb19ae302d9b601edb458606d402]\n",
       "link E5 to E2--><a href=\"psysml:56ee8f03-05cc-4672-92a5-af5f15d564f5\" target=\"_top\" title=\"psysml:56ee8f03-05cc-4672-92a5-af5f15d564f5\" xlink:actuate=\"onRequest\" xlink:href=\"psysml:56ee8f03-05cc-4672-92a5-af5f15d564f5\" xlink:show=\"new\" xlink:title=\"psysml:56ee8f03-05cc-4672-92a5-af5f15d564f5\" xlink:type=\"simple\"><path d=\"M100.64,231.96 C118.11,237.13 144.16,244.84 167.38,251.72 \" fill=\"none\" id=\"E5-&gt;E2\" style=\"stroke: #383838; stroke-width: 1.0;\"/><polygon fill=\"#FFFFFF\" points=\"186.77,257.46,166.5639,258.7688,170.5445,245.3466,186.77,257.46\" style=\"stroke: #383838; stroke-width: 1.0;\"/><ellipse cx=\"161.6678\" cy=\"255.2306\" fill=\"#383838\" rx=\"2\" ry=\"2\" style=\"stroke: #383838; stroke-width: 1.0;\"/><ellipse cx=\"164.5111\" cy=\"245.6434\" fill=\"#383838\" rx=\"2\" ry=\"2\" style=\"stroke: #383838; stroke-width: 1.0;\"/></a><!--MD5=[2351f337d6de0f557b50152ba70847b5]\n",
       "link E6 to E2--><a href=\"psysml:34caeea3-9e32-4456-be5b-df49f4f1b3a4\" target=\"_top\" title=\"psysml:34caeea3-9e32-4456-be5b-df49f4f1b3a4\" xlink:actuate=\"onRequest\" xlink:href=\"psysml:34caeea3-9e32-4456-be5b-df49f4f1b3a4\" xlink:show=\"new\" xlink:title=\"psysml:34caeea3-9e32-4456-be5b-df49f4f1b3a4\" xlink:type=\"simple\"><path d=\"M100.64,301.18 C118.11,296.14 144.16,288.61 167.38,281.91 \" fill=\"none\" id=\"E6-&gt;E2\" style=\"stroke: #383838; stroke-width: 1.0;\"/><polygon fill=\"#FFFFFF\" points=\"186.77,276.31,170.4629,288.3132,166.5732,274.8644,186.77,276.31\" style=\"stroke: #383838; stroke-width: 1.0;\"/><ellipse cx=\"164.4316\" cy=\"287.9756\" fill=\"#383838\" rx=\"2\" ry=\"2\" style=\"stroke: #383838; stroke-width: 1.0;\"/><ellipse cx=\"161.6533\" cy=\"278.3693\" fill=\"#383838\" rx=\"2\" ry=\"2\" style=\"stroke: #383838; stroke-width: 1.0;\"/></a><!--MD5=[29d99a2cf23e83b73deb9845a6f688a0]\n",
       "@startuml\r\n",
       "left to right direction\r\n",
       "skinparam monochrome true\r\n",
       "skinparam classbackgroundcolor white\r\n",
       "skinparam shadowing false\r\n",
       "skinparam wrapWidth 300\r\n",
       "hide circle\r\n",
       "\r\n",
       "package \"MultiplicityTest\" as E1  [[psysml:917c8e98-308c-4a57-bedc-72bb13927275 ]]  {\r\n",
       "comp def \"P\" as E2  <<(T,blue) part def>> [[psysml:1b8e2ab6-001b-4483-8406-5463ddd95a77 ]] {\r\n",
       "}\r\n",
       "comp usage \"n: Integer\" as E3  <<(T,blue) attribute>> [[psysml:d0e8f829-c575-44a2-9ede-b108238de40c ]] {\r\n",
       "}\r\n",
       "comp usage \"a\" as E4  <<(T,blue) part>> [[psysml:2de2cbdc-62e6-485a-a7d2-bee7f587f60d ]] {\r\n",
       "}\r\n",
       "comp usage \"b: P\" as E5  <<(T,blue) part>> [[psysml:a47b2c6e-81dd-4a7f-97e2-f2f751620c17 ]] {\r\n",
       "}\r\n",
       "comp usage \"c: P\" as E6  <<(T,blue) part>> [[psysml:46e4b238-da26-40c7-b1f6-d3a4f2631481 ]] {\r\n",
       "}\r\n",
       "comp usage \"d\" as E7  <<(T,blue) part>> [[psysml:862abcb1-d094-4d1f-a90d-b0af915cd2bb ]] {\r\n",
       "}\r\n",
       "comp usage \"e\" as E8  <<(T,blue) part>> [[psysml:0f8b0aa8-e59b-4cfe-b590-8672d08a4434 ]] {\r\n",
       "}\r\n",
       "comp usage \"f\" as E9  <<(T,blue) part>> [[psysml:07bb6063-49af-4acb-bb76-a6a51f542bf8 ]] {\r\n",
       "}\r\n",
       "comp usage \"g\" as E10  <<(T,blue) part>> [[psysml:87a6ec87-e214-496f-a09f-1f6dfd597ed3 ]] {\r\n",
       "}\r\n",
       "comp def \"A\" as E11  <<(T,blue) attribute def>> [[psysml:423769db-1814-486c-a3b1-3214b1eae655 ]] {\r\n",
       "- - attributes - -\r\n",
       "i: Integer\r\n",
       "x: A\r\n",
       "}\r\n",
       "}\r\n",
       "E5 - -:|> E2 [[psysml:56ee8f03-05cc-4672-92a5-af5f15d564f5 ]] \r\n",
       "E6 - -:|> E2 [[psysml:34caeea3-9e32-4456-be5b-df49f4f1b3a4 ]] \r\n",
       "@enduml\r\n",
       "\n",
       "PlantUML version 1.2020.13(Sat Jun 13 12:26:38 UTC 2020)\n",
       "(EPL source distribution)\n",
       "Java Runtime: OpenJDK Runtime Environment\n",
       "JVM: OpenJDK 64-Bit Server VM\n",
       "Default Encoding: UTF-8\n",
       "Language: en\n",
       "Country: null\n",
       "--></g></svg>"
      ]
     },
     "execution_count": 22,
     "metadata": {},
     "output_type": "execute_result"
    }
   ],
   "source": [
    "%viz --style=\"LR\" --view=\"MIXED\" \"MultiplicityTest\""
   ]
  },
  {
   "cell_type": "code",
   "execution_count": 23,
   "id": "81ba5b56",
   "metadata": {
    "execution": {
     "iopub.execute_input": "2021-10-03T08:30:20.225112Z",
     "iopub.status.busy": "2021-10-03T08:30:20.224721Z",
     "iopub.status.idle": "2021-10-03T08:30:20.270509Z",
     "shell.execute_reply": "2021-10-03T08:30:20.270159Z"
    }
   },
   "outputs": [
    {
     "data": {
      "image/svg+xml": [
       "<?xml version=\"1.0\" encoding=\"UTF-8\" standalone=\"no\"?><svg xmlns=\"http://www.w3.org/2000/svg\" xmlns:xlink=\"http://www.w3.org/1999/xlink\" contentScriptType=\"application/ecmascript\" contentStyleType=\"text/css\" height=\"247px\" preserveAspectRatio=\"none\" style=\"width:812px;height:247px;\" version=\"1.1\" viewBox=\"0 0 812 247\" width=\"812px\" zoomAndPan=\"magnify\"><defs><filter height=\"300%\" id=\"fe8b8raazkebl\" width=\"300%\" x=\"-1\" y=\"-1\"><feGaussianBlur result=\"blurOut\" stdDeviation=\"2.0\"/><feColorMatrix in=\"blurOut\" result=\"blurOut2\" type=\"matrix\" values=\"0 0 0 0 0 0 0 0 0 0 0 0 0 0 0 0 0 0 .4 0\"/><feOffset dx=\"4.0\" dy=\"4.0\" in=\"blurOut2\" result=\"blurOut3\"/><feBlend in=\"SourceGraphic\" in2=\"blurOut3\" mode=\"normal\"/></filter></defs><g><!--MD5=[fbc87193dbaf4d95561dea2c320d4a47]\n",
       "cluster E1--><a href=\"psysml:917c8e98-308c-4a57-bedc-72bb13927275\" target=\"_top\" title=\"psysml:917c8e98-308c-4a57-bedc-72bb13927275\" xlink:actuate=\"onRequest\" xlink:href=\"psysml:917c8e98-308c-4a57-bedc-72bb13927275\" xlink:show=\"new\" xlink:title=\"psysml:917c8e98-308c-4a57-bedc-72bb13927275\" xlink:type=\"simple\"><polygon fill=\"#FFFFFF\" filter=\"url(#fe8b8raazkebl)\" points=\"16,6,123,6,130,28.2969,790,28.2969,790,235,16,235,16,6\" style=\"stroke: #000000; stroke-width: 1.5;\"/><line style=\"stroke: #000000; stroke-width: 1.5;\" x1=\"16\" x2=\"130\" y1=\"28.2969\" y2=\"28.2969\"/><text fill=\"#000000\" font-family=\"sans-serif\" font-size=\"14\" font-weight=\"bold\" lengthAdjust=\"spacingAndGlyphs\" textLength=\"101\" x=\"20\" y=\"20.9951\">MultiplicityTest</text></a><!--MD5=[b4997ac47864f28c2f74865a473b2911]\n",
       "class E2--><a href=\"psysml:1b8e2ab6-001b-4483-8406-5463ddd95a77\" target=\"_top\" title=\"psysml:1b8e2ab6-001b-4483-8406-5463ddd95a77\" xlink:actuate=\"onRequest\" xlink:href=\"psysml:1b8e2ab6-001b-4483-8406-5463ddd95a77\" xlink:show=\"new\" xlink:title=\"psysml:1b8e2ab6-001b-4483-8406-5463ddd95a77\" xlink:type=\"simple\"><rect fill=\"#FEFECE\" filter=\"url(#fe8b8raazkebl)\" height=\"45.9375\" id=\"E2\" style=\"stroke: #A80036; stroke-width: 1.5;\" width=\"66\" x=\"497\" y=\"173\"/><text fill=\"#000000\" font-family=\"sans-serif\" font-size=\"12\" font-style=\"italic\" lengthAdjust=\"spacingAndGlyphs\" textLength=\"64\" x=\"498\" y=\"189.1387\">«part def»</text><text fill=\"#000000\" font-family=\"sans-serif\" font-size=\"12\" lengthAdjust=\"spacingAndGlyphs\" textLength=\"8\" x=\"526\" y=\"203.1074\">P</text><line style=\"stroke: #A80036; stroke-width: 1.5;\" x1=\"498\" x2=\"562\" y1=\"210.9375\" y2=\"210.9375\"/></a><!--MD5=[09b614a08d8cba4a07c9adeb5e0fee81]\n",
       "class E3--><a href=\"psysml:d0e8f829-c575-44a2-9ede-b108238de40c\" target=\"_top\" title=\"psysml:d0e8f829-c575-44a2-9ede-b108238de40c\" xlink:actuate=\"onRequest\" xlink:href=\"psysml:d0e8f829-c575-44a2-9ede-b108238de40c\" xlink:show=\"new\" xlink:title=\"psysml:d0e8f829-c575-44a2-9ede-b108238de40c\" xlink:type=\"simple\"><rect fill=\"#FEFECE\" filter=\"url(#fe8b8raazkebl)\" height=\"45.9375\" id=\"E3\" rx=\"10\" ry=\"10\" style=\"stroke: #A80036; stroke-width: 1.5;\" width=\"71\" x=\"702.5\" y=\"54\"/><text fill=\"#000000\" font-family=\"sans-serif\" font-size=\"12\" font-style=\"italic\" lengthAdjust=\"spacingAndGlyphs\" textLength=\"69\" x=\"703.5\" y=\"70.1387\">«attribute»</text><text fill=\"#000000\" font-family=\"sans-serif\" font-size=\"12\" lengthAdjust=\"spacingAndGlyphs\" textLength=\"61\" x=\"707.5\" y=\"84.1074\">n: Integer</text><line style=\"stroke: #A80036; stroke-width: 1.5;\" x1=\"703.5\" x2=\"772.5\" y1=\"91.9375\" y2=\"91.9375\"/></a><!--MD5=[ebbe1d658d1005bcc118a6aa81145e00]\n",
       "class E4--><a href=\"psysml:2de2cbdc-62e6-485a-a7d2-bee7f587f60d\" target=\"_top\" title=\"psysml:2de2cbdc-62e6-485a-a7d2-bee7f587f60d\" xlink:actuate=\"onRequest\" xlink:href=\"psysml:2de2cbdc-62e6-485a-a7d2-bee7f587f60d\" xlink:show=\"new\" xlink:title=\"psysml:2de2cbdc-62e6-485a-a7d2-bee7f587f60d\" xlink:type=\"simple\"><rect fill=\"#FEFECE\" filter=\"url(#fe8b8raazkebl)\" height=\"45.9375\" id=\"E4\" rx=\"10\" ry=\"10\" style=\"stroke: #A80036; stroke-width: 1.5;\" width=\"42\" x=\"625\" y=\"54\"/><text fill=\"#000000\" font-family=\"sans-serif\" font-size=\"12\" font-style=\"italic\" lengthAdjust=\"spacingAndGlyphs\" textLength=\"40\" x=\"626\" y=\"70.1387\">«part»</text><text fill=\"#000000\" font-family=\"sans-serif\" font-size=\"12\" lengthAdjust=\"spacingAndGlyphs\" textLength=\"8\" x=\"642\" y=\"84.1074\">a</text><line style=\"stroke: #A80036; stroke-width: 1.5;\" x1=\"626\" x2=\"666\" y1=\"91.9375\" y2=\"91.9375\"/></a><!--MD5=[270fce915f116d4de14055a7c1d9a0f3]\n",
       "class E5--><a href=\"psysml:a47b2c6e-81dd-4a7f-97e2-f2f751620c17\" target=\"_top\" title=\"psysml:a47b2c6e-81dd-4a7f-97e2-f2f751620c17\" xlink:actuate=\"onRequest\" xlink:href=\"psysml:a47b2c6e-81dd-4a7f-97e2-f2f751620c17\" xlink:show=\"new\" xlink:title=\"psysml:a47b2c6e-81dd-4a7f-97e2-f2f751620c17\" xlink:type=\"simple\"><rect fill=\"#FEFECE\" filter=\"url(#fe8b8raazkebl)\" height=\"45.9375\" id=\"E5\" rx=\"10\" ry=\"10\" style=\"stroke: #A80036; stroke-width: 1.5;\" width=\"42\" x=\"548\" y=\"54\"/><text fill=\"#000000\" font-family=\"sans-serif\" font-size=\"12\" font-style=\"italic\" lengthAdjust=\"spacingAndGlyphs\" textLength=\"40\" x=\"549\" y=\"70.1387\">«part»</text><text fill=\"#000000\" font-family=\"sans-serif\" font-size=\"12\" lengthAdjust=\"spacingAndGlyphs\" textLength=\"24\" x=\"557\" y=\"84.1074\">b: P</text><line style=\"stroke: #A80036; stroke-width: 1.5;\" x1=\"549\" x2=\"589\" y1=\"91.9375\" y2=\"91.9375\"/></a><!--MD5=[60a26617385b1d2d0262a64233df1f8d]\n",
       "class E6--><a href=\"psysml:46e4b238-da26-40c7-b1f6-d3a4f2631481\" target=\"_top\" title=\"psysml:46e4b238-da26-40c7-b1f6-d3a4f2631481\" xlink:actuate=\"onRequest\" xlink:href=\"psysml:46e4b238-da26-40c7-b1f6-d3a4f2631481\" xlink:show=\"new\" xlink:title=\"psysml:46e4b238-da26-40c7-b1f6-d3a4f2631481\" xlink:type=\"simple\"><rect fill=\"#FEFECE\" filter=\"url(#fe8b8raazkebl)\" height=\"45.9375\" id=\"E6\" rx=\"10\" ry=\"10\" style=\"stroke: #A80036; stroke-width: 1.5;\" width=\"42\" x=\"471\" y=\"54\"/><text fill=\"#000000\" font-family=\"sans-serif\" font-size=\"12\" font-style=\"italic\" lengthAdjust=\"spacingAndGlyphs\" textLength=\"40\" x=\"472\" y=\"70.1387\">«part»</text><text fill=\"#000000\" font-family=\"sans-serif\" font-size=\"12\" lengthAdjust=\"spacingAndGlyphs\" textLength=\"23\" x=\"480.5\" y=\"84.1074\">c: P</text><line style=\"stroke: #A80036; stroke-width: 1.5;\" x1=\"472\" x2=\"512\" y1=\"91.9375\" y2=\"91.9375\"/></a><!--MD5=[2156ba9850f5573cc1fc38a6a4b2f02b]\n",
       "class E7--><a href=\"psysml:862abcb1-d094-4d1f-a90d-b0af915cd2bb\" target=\"_top\" title=\"psysml:862abcb1-d094-4d1f-a90d-b0af915cd2bb\" xlink:actuate=\"onRequest\" xlink:href=\"psysml:862abcb1-d094-4d1f-a90d-b0af915cd2bb\" xlink:show=\"new\" xlink:title=\"psysml:862abcb1-d094-4d1f-a90d-b0af915cd2bb\" xlink:type=\"simple\"><rect fill=\"#FEFECE\" filter=\"url(#fe8b8raazkebl)\" height=\"45.9375\" id=\"E7\" rx=\"10\" ry=\"10\" style=\"stroke: #A80036; stroke-width: 1.5;\" width=\"42\" x=\"394\" y=\"54\"/><text fill=\"#000000\" font-family=\"sans-serif\" font-size=\"12\" font-style=\"italic\" lengthAdjust=\"spacingAndGlyphs\" textLength=\"40\" x=\"395\" y=\"70.1387\">«part»</text><text fill=\"#000000\" font-family=\"sans-serif\" font-size=\"12\" lengthAdjust=\"spacingAndGlyphs\" textLength=\"8\" x=\"411\" y=\"84.1074\">d</text><line style=\"stroke: #A80036; stroke-width: 1.5;\" x1=\"395\" x2=\"435\" y1=\"91.9375\" y2=\"91.9375\"/></a><!--MD5=[b9389687b975829384b498ac4b7476b2]\n",
       "class E8--><a href=\"psysml:0f8b0aa8-e59b-4cfe-b590-8672d08a4434\" target=\"_top\" title=\"psysml:0f8b0aa8-e59b-4cfe-b590-8672d08a4434\" xlink:actuate=\"onRequest\" xlink:href=\"psysml:0f8b0aa8-e59b-4cfe-b590-8672d08a4434\" xlink:show=\"new\" xlink:title=\"psysml:0f8b0aa8-e59b-4cfe-b590-8672d08a4434\" xlink:type=\"simple\"><rect fill=\"#FEFECE\" filter=\"url(#fe8b8raazkebl)\" height=\"45.9375\" id=\"E8\" rx=\"10\" ry=\"10\" style=\"stroke: #A80036; stroke-width: 1.5;\" width=\"42\" x=\"317\" y=\"54\"/><text fill=\"#000000\" font-family=\"sans-serif\" font-size=\"12\" font-style=\"italic\" lengthAdjust=\"spacingAndGlyphs\" textLength=\"40\" x=\"318\" y=\"70.1387\">«part»</text><text fill=\"#000000\" font-family=\"sans-serif\" font-size=\"12\" lengthAdjust=\"spacingAndGlyphs\" textLength=\"8\" x=\"334\" y=\"84.1074\">e</text><line style=\"stroke: #A80036; stroke-width: 1.5;\" x1=\"318\" x2=\"358\" y1=\"91.9375\" y2=\"91.9375\"/></a><!--MD5=[fd4143e9d270a159db93a4ea2a975926]\n",
       "class E9--><a href=\"psysml:07bb6063-49af-4acb-bb76-a6a51f542bf8\" target=\"_top\" title=\"psysml:07bb6063-49af-4acb-bb76-a6a51f542bf8\" xlink:actuate=\"onRequest\" xlink:href=\"psysml:07bb6063-49af-4acb-bb76-a6a51f542bf8\" xlink:show=\"new\" xlink:title=\"psysml:07bb6063-49af-4acb-bb76-a6a51f542bf8\" xlink:type=\"simple\"><rect fill=\"#FEFECE\" filter=\"url(#fe8b8raazkebl)\" height=\"45.9375\" id=\"E9\" rx=\"10\" ry=\"10\" style=\"stroke: #A80036; stroke-width: 1.5;\" width=\"42\" x=\"240\" y=\"54\"/><text fill=\"#000000\" font-family=\"sans-serif\" font-size=\"12\" font-style=\"italic\" lengthAdjust=\"spacingAndGlyphs\" textLength=\"40\" x=\"241\" y=\"70.1387\">«part»</text><text fill=\"#000000\" font-family=\"sans-serif\" font-size=\"12\" lengthAdjust=\"spacingAndGlyphs\" textLength=\"4\" x=\"259\" y=\"84.1074\">f</text><line style=\"stroke: #A80036; stroke-width: 1.5;\" x1=\"241\" x2=\"281\" y1=\"91.9375\" y2=\"91.9375\"/></a><!--MD5=[96f4274e9e20536e775497830990834d]\n",
       "class E10--><a href=\"psysml:87a6ec87-e214-496f-a09f-1f6dfd597ed3\" target=\"_top\" title=\"psysml:87a6ec87-e214-496f-a09f-1f6dfd597ed3\" xlink:actuate=\"onRequest\" xlink:href=\"psysml:87a6ec87-e214-496f-a09f-1f6dfd597ed3\" xlink:show=\"new\" xlink:title=\"psysml:87a6ec87-e214-496f-a09f-1f6dfd597ed3\" xlink:type=\"simple\"><rect fill=\"#FEFECE\" filter=\"url(#fe8b8raazkebl)\" height=\"45.9375\" id=\"E10\" rx=\"10\" ry=\"10\" style=\"stroke: #A80036; stroke-width: 1.5;\" width=\"42\" x=\"163\" y=\"54\"/><text fill=\"#000000\" font-family=\"sans-serif\" font-size=\"12\" font-style=\"italic\" lengthAdjust=\"spacingAndGlyphs\" textLength=\"40\" x=\"164\" y=\"70.1387\">«part»</text><text fill=\"#000000\" font-family=\"sans-serif\" font-size=\"12\" lengthAdjust=\"spacingAndGlyphs\" textLength=\"8\" x=\"180\" y=\"84.1074\">g</text><line style=\"stroke: #A80036; stroke-width: 1.5;\" x1=\"164\" x2=\"204\" y1=\"91.9375\" y2=\"91.9375\"/></a><!--MD5=[1dd1bfd58a279cf63c5f349dbc8fc6a1]\n",
       "class E11--><a href=\"psysml:423769db-1814-486c-a3b1-3214b1eae655\" target=\"_top\" title=\"psysml:423769db-1814-486c-a3b1-3214b1eae655\" xlink:actuate=\"onRequest\" xlink:href=\"psysml:423769db-1814-486c-a3b1-3214b1eae655\" xlink:show=\"new\" xlink:title=\"psysml:423769db-1814-486c-a3b1-3214b1eae655\" xlink:type=\"simple\"><rect fill=\"#FEFECE\" filter=\"url(#fe8b8raazkebl)\" height=\"71.5469\" id=\"E11\" style=\"stroke: #A80036; stroke-width: 1.5;\" width=\"95\" x=\"32.5\" y=\"41\"/><text fill=\"#000000\" font-family=\"sans-serif\" font-size=\"12\" font-style=\"italic\" lengthAdjust=\"spacingAndGlyphs\" textLength=\"93\" x=\"33.5\" y=\"57.1387\">«attribute def»</text><text fill=\"#000000\" font-family=\"sans-serif\" font-size=\"12\" lengthAdjust=\"spacingAndGlyphs\" textLength=\"8\" x=\"76\" y=\"71.1074\">A</text><line style=\"stroke: #A80036; stroke-width: 1.5;\" x1=\"33.5\" x2=\"126.5\" y1=\"78.9375\" y2=\"78.9375\"/><text fill=\"#000000\" font-family=\"sans-serif\" font-size=\"11\" lengthAdjust=\"spacingAndGlyphs\" textLength=\"51\" x=\"38.5\" y=\"93.1479\">i: Integer</text><text fill=\"#000000\" font-family=\"sans-serif\" font-size=\"11\" lengthAdjust=\"spacingAndGlyphs\" textLength=\"21\" x=\"38.5\" y=\"105.9526\">x: A</text></a><!--MD5=[15ebcb19ae302d9b601edb458606d402]\n",
       "link E5 to E2--><a href=\"psysml:56ee8f03-05cc-4672-92a5-af5f15d564f5\" target=\"_top\" title=\"psysml:56ee8f03-05cc-4672-92a5-af5f15d564f5\" xlink:actuate=\"onRequest\" xlink:href=\"psysml:56ee8f03-05cc-4672-92a5-af5f15d564f5\" xlink:show=\"new\" xlink:title=\"psysml:56ee8f03-05cc-4672-92a5-af5f15d564f5\" xlink:type=\"simple\"><path d=\"M561.66,100.01 C556.63,115.11 549.8,135.61 543.76,153.71 \" fill=\"none\" id=\"E5-&gt;E2\" style=\"stroke: #A80036; stroke-width: 1.0;\"/><polygon fill=\"#FFFFFF\" points=\"537.44,172.69,536.7984,152.4517,550.082,156.8729,537.44,172.69\" style=\"stroke: #A80036; stroke-width: 1.0;\"/><ellipse cx=\"540.4961\" cy=\"147.675\" fill=\"#A80036\" rx=\"2\" ry=\"2\" style=\"stroke: #A80036; stroke-width: 1.0;\"/><ellipse cx=\"549.9844\" cy=\"150.833\" fill=\"#A80036\" rx=\"2\" ry=\"2\" style=\"stroke: #A80036; stroke-width: 1.0;\"/></a><!--MD5=[2351f337d6de0f557b50152ba70847b5]\n",
       "link E6 to E2--><a href=\"psysml:34caeea3-9e32-4456-be5b-df49f4f1b3a4\" target=\"_top\" title=\"psysml:34caeea3-9e32-4456-be5b-df49f4f1b3a4\" xlink:actuate=\"onRequest\" xlink:href=\"psysml:34caeea3-9e32-4456-be5b-df49f4f1b3a4\" xlink:show=\"new\" xlink:title=\"psysml:34caeea3-9e32-4456-be5b-df49f4f1b3a4\" xlink:type=\"simple\"><path d=\"M499.15,100.01 C504.03,115.03 510.64,135.39 516.49,153.41 \" fill=\"none\" id=\"E6-&gt;E2\" style=\"stroke: #A80036; stroke-width: 1.0;\"/><polygon fill=\"#FFFFFF\" points=\"522.76,172.69,510.2363,156.7791,523.5525,152.4571,522.76,172.69\" style=\"stroke: #A80036; stroke-width: 1.0;\"/><ellipse cx=\"510.379\" cy=\"150.74\" fill=\"#A80036\" rx=\"2\" ry=\"2\" style=\"stroke: #A80036; stroke-width: 1.0;\"/><ellipse cx=\"519.8905\" cy=\"147.6529\" fill=\"#A80036\" rx=\"2\" ry=\"2\" style=\"stroke: #A80036; stroke-width: 1.0;\"/></a><!--MD5=[40bf91ae04bcd4c268790d27d7a5addc]\n",
       "@startuml\r\n",
       "skinparam wrapWidth 300\r\n",
       "hide circle\r\n",
       "\r\n",
       "package \"MultiplicityTest\" as E1  [[psysml:917c8e98-308c-4a57-bedc-72bb13927275 ]]  {\r\n",
       "comp def \"P\" as E2  <<(T,blue) part def>> [[psysml:1b8e2ab6-001b-4483-8406-5463ddd95a77 ]] {\r\n",
       "}\r\n",
       "comp usage \"n: Integer\" as E3  <<(T,blue) attribute>> [[psysml:d0e8f829-c575-44a2-9ede-b108238de40c ]] {\r\n",
       "}\r\n",
       "comp usage \"a\" as E4  <<(T,blue) part>> [[psysml:2de2cbdc-62e6-485a-a7d2-bee7f587f60d ]] {\r\n",
       "}\r\n",
       "comp usage \"b: P\" as E5  <<(T,blue) part>> [[psysml:a47b2c6e-81dd-4a7f-97e2-f2f751620c17 ]] {\r\n",
       "}\r\n",
       "comp usage \"c: P\" as E6  <<(T,blue) part>> [[psysml:46e4b238-da26-40c7-b1f6-d3a4f2631481 ]] {\r\n",
       "}\r\n",
       "comp usage \"d\" as E7  <<(T,blue) part>> [[psysml:862abcb1-d094-4d1f-a90d-b0af915cd2bb ]] {\r\n",
       "}\r\n",
       "comp usage \"e\" as E8  <<(T,blue) part>> [[psysml:0f8b0aa8-e59b-4cfe-b590-8672d08a4434 ]] {\r\n",
       "}\r\n",
       "comp usage \"f\" as E9  <<(T,blue) part>> [[psysml:07bb6063-49af-4acb-bb76-a6a51f542bf8 ]] {\r\n",
       "}\r\n",
       "comp usage \"g\" as E10  <<(T,blue) part>> [[psysml:87a6ec87-e214-496f-a09f-1f6dfd597ed3 ]] {\r\n",
       "}\r\n",
       "comp def \"A\" as E11  <<(T,blue) attribute def>> [[psysml:423769db-1814-486c-a3b1-3214b1eae655 ]] {\r\n",
       "i: Integer\r\n",
       "x: A\r\n",
       "}\r\n",
       "}\r\n",
       "E5 - -:|> E2 [[psysml:56ee8f03-05cc-4672-92a5-af5f15d564f5 ]] \r\n",
       "E6 - -:|> E2 [[psysml:34caeea3-9e32-4456-be5b-df49f4f1b3a4 ]] \r\n",
       "@enduml\r\n",
       "\n",
       "PlantUML version 1.2020.13(Sat Jun 13 12:26:38 UTC 2020)\n",
       "(EPL source distribution)\n",
       "Java Runtime: OpenJDK Runtime Environment\n",
       "JVM: OpenJDK 64-Bit Server VM\n",
       "Default Encoding: UTF-8\n",
       "Language: en\n",
       "Country: null\n",
       "--></g></svg>"
      ]
     },
     "execution_count": 23,
     "metadata": {},
     "output_type": "execute_result"
    }
   ],
   "source": [
    "%viz --style=\"STDCOLOR\" --view=\"Default\" \"MultiplicityTest\""
   ]
  },
  {
   "cell_type": "code",
   "execution_count": 24,
   "id": "d9551559",
   "metadata": {
    "execution": {
     "iopub.execute_input": "2021-10-03T08:30:20.319965Z",
     "iopub.status.busy": "2021-10-03T08:30:20.319564Z",
     "iopub.status.idle": "2021-10-03T08:30:20.368308Z",
     "shell.execute_reply": "2021-10-03T08:30:20.367969Z"
    }
   },
   "outputs": [
    {
     "data": {
      "image/svg+xml": [
       "<?xml version=\"1.0\" encoding=\"UTF-8\" standalone=\"no\"?><svg xmlns=\"http://www.w3.org/2000/svg\" xmlns:xlink=\"http://www.w3.org/1999/xlink\" contentScriptType=\"application/ecmascript\" contentStyleType=\"text/css\" height=\"247px\" preserveAspectRatio=\"none\" style=\"width:812px;height:247px;\" version=\"1.1\" viewBox=\"0 0 812 247\" width=\"812px\" zoomAndPan=\"magnify\"><defs><filter height=\"300%\" id=\"fe8b8raazkebl\" width=\"300%\" x=\"-1\" y=\"-1\"><feGaussianBlur result=\"blurOut\" stdDeviation=\"2.0\"/><feColorMatrix in=\"blurOut\" result=\"blurOut2\" type=\"matrix\" values=\"0 0 0 0 0 0 0 0 0 0 0 0 0 0 0 0 0 0 .4 0\"/><feOffset dx=\"4.0\" dy=\"4.0\" in=\"blurOut2\" result=\"blurOut3\"/><feBlend in=\"SourceGraphic\" in2=\"blurOut3\" mode=\"normal\"/></filter></defs><g><!--MD5=[fbc87193dbaf4d95561dea2c320d4a47]\n",
       "cluster E1--><a href=\"psysml:917c8e98-308c-4a57-bedc-72bb13927275\" target=\"_top\" title=\"psysml:917c8e98-308c-4a57-bedc-72bb13927275\" xlink:actuate=\"onRequest\" xlink:href=\"psysml:917c8e98-308c-4a57-bedc-72bb13927275\" xlink:show=\"new\" xlink:title=\"psysml:917c8e98-308c-4a57-bedc-72bb13927275\" xlink:type=\"simple\"><polygon fill=\"#FFFFFF\" filter=\"url(#fe8b8raazkebl)\" points=\"16,6,123,6,130,28.2969,790,28.2969,790,235,16,235,16,6\" style=\"stroke: #000000; stroke-width: 1.5;\"/><line style=\"stroke: #000000; stroke-width: 1.5;\" x1=\"16\" x2=\"130\" y1=\"28.2969\" y2=\"28.2969\"/><text fill=\"#000000\" font-family=\"sans-serif\" font-size=\"14\" font-weight=\"bold\" lengthAdjust=\"spacingAndGlyphs\" textLength=\"101\" x=\"20\" y=\"20.9951\">MultiplicityTest</text></a><!--MD5=[b4997ac47864f28c2f74865a473b2911]\n",
       "class E2--><a href=\"psysml:1b8e2ab6-001b-4483-8406-5463ddd95a77\" target=\"_top\" title=\"psysml:1b8e2ab6-001b-4483-8406-5463ddd95a77\" xlink:actuate=\"onRequest\" xlink:href=\"psysml:1b8e2ab6-001b-4483-8406-5463ddd95a77\" xlink:show=\"new\" xlink:title=\"psysml:1b8e2ab6-001b-4483-8406-5463ddd95a77\" xlink:type=\"simple\"><rect fill=\"#FEFECE\" filter=\"url(#fe8b8raazkebl)\" height=\"45.9375\" id=\"E2\" style=\"stroke: #A80036; stroke-width: 1.5;\" width=\"66\" x=\"497\" y=\"173\"/><text fill=\"#000000\" font-family=\"sans-serif\" font-size=\"12\" font-style=\"italic\" lengthAdjust=\"spacingAndGlyphs\" textLength=\"64\" x=\"498\" y=\"189.1387\">«part def»</text><text fill=\"#000000\" font-family=\"sans-serif\" font-size=\"12\" lengthAdjust=\"spacingAndGlyphs\" textLength=\"8\" x=\"526\" y=\"203.1074\">P</text><line style=\"stroke: #A80036; stroke-width: 1.5;\" x1=\"498\" x2=\"562\" y1=\"210.9375\" y2=\"210.9375\"/></a><!--MD5=[09b614a08d8cba4a07c9adeb5e0fee81]\n",
       "class E3--><a href=\"psysml:d0e8f829-c575-44a2-9ede-b108238de40c\" target=\"_top\" title=\"psysml:d0e8f829-c575-44a2-9ede-b108238de40c\" xlink:actuate=\"onRequest\" xlink:href=\"psysml:d0e8f829-c575-44a2-9ede-b108238de40c\" xlink:show=\"new\" xlink:title=\"psysml:d0e8f829-c575-44a2-9ede-b108238de40c\" xlink:type=\"simple\"><rect fill=\"#FEFECE\" filter=\"url(#fe8b8raazkebl)\" height=\"45.9375\" id=\"E3\" rx=\"10\" ry=\"10\" style=\"stroke: #A80036; stroke-width: 1.5;\" width=\"71\" x=\"702.5\" y=\"54\"/><text fill=\"#000000\" font-family=\"sans-serif\" font-size=\"12\" font-style=\"italic\" lengthAdjust=\"spacingAndGlyphs\" textLength=\"69\" x=\"703.5\" y=\"70.1387\">«attribute»</text><text fill=\"#000000\" font-family=\"sans-serif\" font-size=\"12\" lengthAdjust=\"spacingAndGlyphs\" textLength=\"61\" x=\"707.5\" y=\"84.1074\">n: Integer</text><line style=\"stroke: #A80036; stroke-width: 1.5;\" x1=\"703.5\" x2=\"772.5\" y1=\"91.9375\" y2=\"91.9375\"/></a><!--MD5=[ebbe1d658d1005bcc118a6aa81145e00]\n",
       "class E4--><a href=\"psysml:2de2cbdc-62e6-485a-a7d2-bee7f587f60d\" target=\"_top\" title=\"psysml:2de2cbdc-62e6-485a-a7d2-bee7f587f60d\" xlink:actuate=\"onRequest\" xlink:href=\"psysml:2de2cbdc-62e6-485a-a7d2-bee7f587f60d\" xlink:show=\"new\" xlink:title=\"psysml:2de2cbdc-62e6-485a-a7d2-bee7f587f60d\" xlink:type=\"simple\"><rect fill=\"#FEFECE\" filter=\"url(#fe8b8raazkebl)\" height=\"45.9375\" id=\"E4\" rx=\"10\" ry=\"10\" style=\"stroke: #A80036; stroke-width: 1.5;\" width=\"42\" x=\"625\" y=\"54\"/><text fill=\"#000000\" font-family=\"sans-serif\" font-size=\"12\" font-style=\"italic\" lengthAdjust=\"spacingAndGlyphs\" textLength=\"40\" x=\"626\" y=\"70.1387\">«part»</text><text fill=\"#000000\" font-family=\"sans-serif\" font-size=\"12\" lengthAdjust=\"spacingAndGlyphs\" textLength=\"8\" x=\"642\" y=\"84.1074\">a</text><line style=\"stroke: #A80036; stroke-width: 1.5;\" x1=\"626\" x2=\"666\" y1=\"91.9375\" y2=\"91.9375\"/></a><!--MD5=[270fce915f116d4de14055a7c1d9a0f3]\n",
       "class E5--><a href=\"psysml:a47b2c6e-81dd-4a7f-97e2-f2f751620c17\" target=\"_top\" title=\"psysml:a47b2c6e-81dd-4a7f-97e2-f2f751620c17\" xlink:actuate=\"onRequest\" xlink:href=\"psysml:a47b2c6e-81dd-4a7f-97e2-f2f751620c17\" xlink:show=\"new\" xlink:title=\"psysml:a47b2c6e-81dd-4a7f-97e2-f2f751620c17\" xlink:type=\"simple\"><rect fill=\"#FEFECE\" filter=\"url(#fe8b8raazkebl)\" height=\"45.9375\" id=\"E5\" rx=\"10\" ry=\"10\" style=\"stroke: #A80036; stroke-width: 1.5;\" width=\"42\" x=\"548\" y=\"54\"/><text fill=\"#000000\" font-family=\"sans-serif\" font-size=\"12\" font-style=\"italic\" lengthAdjust=\"spacingAndGlyphs\" textLength=\"40\" x=\"549\" y=\"70.1387\">«part»</text><text fill=\"#000000\" font-family=\"sans-serif\" font-size=\"12\" lengthAdjust=\"spacingAndGlyphs\" textLength=\"24\" x=\"557\" y=\"84.1074\">b: P</text><line style=\"stroke: #A80036; stroke-width: 1.5;\" x1=\"549\" x2=\"589\" y1=\"91.9375\" y2=\"91.9375\"/></a><!--MD5=[60a26617385b1d2d0262a64233df1f8d]\n",
       "class E6--><a href=\"psysml:46e4b238-da26-40c7-b1f6-d3a4f2631481\" target=\"_top\" title=\"psysml:46e4b238-da26-40c7-b1f6-d3a4f2631481\" xlink:actuate=\"onRequest\" xlink:href=\"psysml:46e4b238-da26-40c7-b1f6-d3a4f2631481\" xlink:show=\"new\" xlink:title=\"psysml:46e4b238-da26-40c7-b1f6-d3a4f2631481\" xlink:type=\"simple\"><rect fill=\"#FEFECE\" filter=\"url(#fe8b8raazkebl)\" height=\"45.9375\" id=\"E6\" rx=\"10\" ry=\"10\" style=\"stroke: #A80036; stroke-width: 1.5;\" width=\"42\" x=\"471\" y=\"54\"/><text fill=\"#000000\" font-family=\"sans-serif\" font-size=\"12\" font-style=\"italic\" lengthAdjust=\"spacingAndGlyphs\" textLength=\"40\" x=\"472\" y=\"70.1387\">«part»</text><text fill=\"#000000\" font-family=\"sans-serif\" font-size=\"12\" lengthAdjust=\"spacingAndGlyphs\" textLength=\"23\" x=\"480.5\" y=\"84.1074\">c: P</text><line style=\"stroke: #A80036; stroke-width: 1.5;\" x1=\"472\" x2=\"512\" y1=\"91.9375\" y2=\"91.9375\"/></a><!--MD5=[2156ba9850f5573cc1fc38a6a4b2f02b]\n",
       "class E7--><a href=\"psysml:862abcb1-d094-4d1f-a90d-b0af915cd2bb\" target=\"_top\" title=\"psysml:862abcb1-d094-4d1f-a90d-b0af915cd2bb\" xlink:actuate=\"onRequest\" xlink:href=\"psysml:862abcb1-d094-4d1f-a90d-b0af915cd2bb\" xlink:show=\"new\" xlink:title=\"psysml:862abcb1-d094-4d1f-a90d-b0af915cd2bb\" xlink:type=\"simple\"><rect fill=\"#FEFECE\" filter=\"url(#fe8b8raazkebl)\" height=\"45.9375\" id=\"E7\" rx=\"10\" ry=\"10\" style=\"stroke: #A80036; stroke-width: 1.5;\" width=\"42\" x=\"394\" y=\"54\"/><text fill=\"#000000\" font-family=\"sans-serif\" font-size=\"12\" font-style=\"italic\" lengthAdjust=\"spacingAndGlyphs\" textLength=\"40\" x=\"395\" y=\"70.1387\">«part»</text><text fill=\"#000000\" font-family=\"sans-serif\" font-size=\"12\" lengthAdjust=\"spacingAndGlyphs\" textLength=\"8\" x=\"411\" y=\"84.1074\">d</text><line style=\"stroke: #A80036; stroke-width: 1.5;\" x1=\"395\" x2=\"435\" y1=\"91.9375\" y2=\"91.9375\"/></a><!--MD5=[b9389687b975829384b498ac4b7476b2]\n",
       "class E8--><a href=\"psysml:0f8b0aa8-e59b-4cfe-b590-8672d08a4434\" target=\"_top\" title=\"psysml:0f8b0aa8-e59b-4cfe-b590-8672d08a4434\" xlink:actuate=\"onRequest\" xlink:href=\"psysml:0f8b0aa8-e59b-4cfe-b590-8672d08a4434\" xlink:show=\"new\" xlink:title=\"psysml:0f8b0aa8-e59b-4cfe-b590-8672d08a4434\" xlink:type=\"simple\"><rect fill=\"#FEFECE\" filter=\"url(#fe8b8raazkebl)\" height=\"45.9375\" id=\"E8\" rx=\"10\" ry=\"10\" style=\"stroke: #A80036; stroke-width: 1.5;\" width=\"42\" x=\"317\" y=\"54\"/><text fill=\"#000000\" font-family=\"sans-serif\" font-size=\"12\" font-style=\"italic\" lengthAdjust=\"spacingAndGlyphs\" textLength=\"40\" x=\"318\" y=\"70.1387\">«part»</text><text fill=\"#000000\" font-family=\"sans-serif\" font-size=\"12\" lengthAdjust=\"spacingAndGlyphs\" textLength=\"8\" x=\"334\" y=\"84.1074\">e</text><line style=\"stroke: #A80036; stroke-width: 1.5;\" x1=\"318\" x2=\"358\" y1=\"91.9375\" y2=\"91.9375\"/></a><!--MD5=[fd4143e9d270a159db93a4ea2a975926]\n",
       "class E9--><a href=\"psysml:07bb6063-49af-4acb-bb76-a6a51f542bf8\" target=\"_top\" title=\"psysml:07bb6063-49af-4acb-bb76-a6a51f542bf8\" xlink:actuate=\"onRequest\" xlink:href=\"psysml:07bb6063-49af-4acb-bb76-a6a51f542bf8\" xlink:show=\"new\" xlink:title=\"psysml:07bb6063-49af-4acb-bb76-a6a51f542bf8\" xlink:type=\"simple\"><rect fill=\"#FEFECE\" filter=\"url(#fe8b8raazkebl)\" height=\"45.9375\" id=\"E9\" rx=\"10\" ry=\"10\" style=\"stroke: #A80036; stroke-width: 1.5;\" width=\"42\" x=\"240\" y=\"54\"/><text fill=\"#000000\" font-family=\"sans-serif\" font-size=\"12\" font-style=\"italic\" lengthAdjust=\"spacingAndGlyphs\" textLength=\"40\" x=\"241\" y=\"70.1387\">«part»</text><text fill=\"#000000\" font-family=\"sans-serif\" font-size=\"12\" lengthAdjust=\"spacingAndGlyphs\" textLength=\"4\" x=\"259\" y=\"84.1074\">f</text><line style=\"stroke: #A80036; stroke-width: 1.5;\" x1=\"241\" x2=\"281\" y1=\"91.9375\" y2=\"91.9375\"/></a><!--MD5=[96f4274e9e20536e775497830990834d]\n",
       "class E10--><a href=\"psysml:87a6ec87-e214-496f-a09f-1f6dfd597ed3\" target=\"_top\" title=\"psysml:87a6ec87-e214-496f-a09f-1f6dfd597ed3\" xlink:actuate=\"onRequest\" xlink:href=\"psysml:87a6ec87-e214-496f-a09f-1f6dfd597ed3\" xlink:show=\"new\" xlink:title=\"psysml:87a6ec87-e214-496f-a09f-1f6dfd597ed3\" xlink:type=\"simple\"><rect fill=\"#FEFECE\" filter=\"url(#fe8b8raazkebl)\" height=\"45.9375\" id=\"E10\" rx=\"10\" ry=\"10\" style=\"stroke: #A80036; stroke-width: 1.5;\" width=\"42\" x=\"163\" y=\"54\"/><text fill=\"#000000\" font-family=\"sans-serif\" font-size=\"12\" font-style=\"italic\" lengthAdjust=\"spacingAndGlyphs\" textLength=\"40\" x=\"164\" y=\"70.1387\">«part»</text><text fill=\"#000000\" font-family=\"sans-serif\" font-size=\"12\" lengthAdjust=\"spacingAndGlyphs\" textLength=\"8\" x=\"180\" y=\"84.1074\">g</text><line style=\"stroke: #A80036; stroke-width: 1.5;\" x1=\"164\" x2=\"204\" y1=\"91.9375\" y2=\"91.9375\"/></a><!--MD5=[1dd1bfd58a279cf63c5f349dbc8fc6a1]\n",
       "class E11--><a href=\"psysml:423769db-1814-486c-a3b1-3214b1eae655\" target=\"_top\" title=\"psysml:423769db-1814-486c-a3b1-3214b1eae655\" xlink:actuate=\"onRequest\" xlink:href=\"psysml:423769db-1814-486c-a3b1-3214b1eae655\" xlink:show=\"new\" xlink:title=\"psysml:423769db-1814-486c-a3b1-3214b1eae655\" xlink:type=\"simple\"><rect fill=\"#FEFECE\" filter=\"url(#fe8b8raazkebl)\" height=\"71.5469\" id=\"E11\" style=\"stroke: #A80036; stroke-width: 1.5;\" width=\"95\" x=\"32.5\" y=\"41\"/><text fill=\"#000000\" font-family=\"sans-serif\" font-size=\"12\" font-style=\"italic\" lengthAdjust=\"spacingAndGlyphs\" textLength=\"93\" x=\"33.5\" y=\"57.1387\">«attribute def»</text><text fill=\"#000000\" font-family=\"sans-serif\" font-size=\"12\" lengthAdjust=\"spacingAndGlyphs\" textLength=\"8\" x=\"76\" y=\"71.1074\">A</text><line style=\"stroke: #A80036; stroke-width: 1.5;\" x1=\"33.5\" x2=\"126.5\" y1=\"78.9375\" y2=\"78.9375\"/><text fill=\"#000000\" font-family=\"sans-serif\" font-size=\"11\" lengthAdjust=\"spacingAndGlyphs\" textLength=\"51\" x=\"38.5\" y=\"93.1479\">i: Integer</text><text fill=\"#000000\" font-family=\"sans-serif\" font-size=\"11\" lengthAdjust=\"spacingAndGlyphs\" textLength=\"21\" x=\"38.5\" y=\"105.9526\">x: A</text></a><!--MD5=[15ebcb19ae302d9b601edb458606d402]\n",
       "link E5 to E2--><a href=\"psysml:56ee8f03-05cc-4672-92a5-af5f15d564f5\" target=\"_top\" title=\"psysml:56ee8f03-05cc-4672-92a5-af5f15d564f5\" xlink:actuate=\"onRequest\" xlink:href=\"psysml:56ee8f03-05cc-4672-92a5-af5f15d564f5\" xlink:show=\"new\" xlink:title=\"psysml:56ee8f03-05cc-4672-92a5-af5f15d564f5\" xlink:type=\"simple\"><path d=\"M561.66,100.01 C556.63,115.11 549.8,135.61 543.76,153.71 \" fill=\"none\" id=\"E5-&gt;E2\" style=\"stroke: #A80036; stroke-width: 1.0;\"/><polygon fill=\"#FFFFFF\" points=\"537.44,172.69,536.7984,152.4517,550.082,156.8729,537.44,172.69\" style=\"stroke: #A80036; stroke-width: 1.0;\"/><ellipse cx=\"540.4961\" cy=\"147.675\" fill=\"#A80036\" rx=\"2\" ry=\"2\" style=\"stroke: #A80036; stroke-width: 1.0;\"/><ellipse cx=\"549.9844\" cy=\"150.833\" fill=\"#A80036\" rx=\"2\" ry=\"2\" style=\"stroke: #A80036; stroke-width: 1.0;\"/></a><!--MD5=[2351f337d6de0f557b50152ba70847b5]\n",
       "link E6 to E2--><a href=\"psysml:34caeea3-9e32-4456-be5b-df49f4f1b3a4\" target=\"_top\" title=\"psysml:34caeea3-9e32-4456-be5b-df49f4f1b3a4\" xlink:actuate=\"onRequest\" xlink:href=\"psysml:34caeea3-9e32-4456-be5b-df49f4f1b3a4\" xlink:show=\"new\" xlink:title=\"psysml:34caeea3-9e32-4456-be5b-df49f4f1b3a4\" xlink:type=\"simple\"><path d=\"M499.15,100.01 C504.03,115.03 510.64,135.39 516.49,153.41 \" fill=\"none\" id=\"E6-&gt;E2\" style=\"stroke: #A80036; stroke-width: 1.0;\"/><polygon fill=\"#FFFFFF\" points=\"522.76,172.69,510.2363,156.7791,523.5525,152.4571,522.76,172.69\" style=\"stroke: #A80036; stroke-width: 1.0;\"/><ellipse cx=\"510.379\" cy=\"150.74\" fill=\"#A80036\" rx=\"2\" ry=\"2\" style=\"stroke: #A80036; stroke-width: 1.0;\"/><ellipse cx=\"519.8905\" cy=\"147.6529\" fill=\"#A80036\" rx=\"2\" ry=\"2\" style=\"stroke: #A80036; stroke-width: 1.0;\"/></a><!--MD5=[40bf91ae04bcd4c268790d27d7a5addc]\n",
       "@startuml\r\n",
       "skinparam wrapWidth 300\r\n",
       "hide circle\r\n",
       "\r\n",
       "package \"MultiplicityTest\" as E1  [[psysml:917c8e98-308c-4a57-bedc-72bb13927275 ]]  {\r\n",
       "comp def \"P\" as E2  <<(T,blue) part def>> [[psysml:1b8e2ab6-001b-4483-8406-5463ddd95a77 ]] {\r\n",
       "}\r\n",
       "comp usage \"n: Integer\" as E3  <<(T,blue) attribute>> [[psysml:d0e8f829-c575-44a2-9ede-b108238de40c ]] {\r\n",
       "}\r\n",
       "comp usage \"a\" as E4  <<(T,blue) part>> [[psysml:2de2cbdc-62e6-485a-a7d2-bee7f587f60d ]] {\r\n",
       "}\r\n",
       "comp usage \"b: P\" as E5  <<(T,blue) part>> [[psysml:a47b2c6e-81dd-4a7f-97e2-f2f751620c17 ]] {\r\n",
       "}\r\n",
       "comp usage \"c: P\" as E6  <<(T,blue) part>> [[psysml:46e4b238-da26-40c7-b1f6-d3a4f2631481 ]] {\r\n",
       "}\r\n",
       "comp usage \"d\" as E7  <<(T,blue) part>> [[psysml:862abcb1-d094-4d1f-a90d-b0af915cd2bb ]] {\r\n",
       "}\r\n",
       "comp usage \"e\" as E8  <<(T,blue) part>> [[psysml:0f8b0aa8-e59b-4cfe-b590-8672d08a4434 ]] {\r\n",
       "}\r\n",
       "comp usage \"f\" as E9  <<(T,blue) part>> [[psysml:07bb6063-49af-4acb-bb76-a6a51f542bf8 ]] {\r\n",
       "}\r\n",
       "comp usage \"g\" as E10  <<(T,blue) part>> [[psysml:87a6ec87-e214-496f-a09f-1f6dfd597ed3 ]] {\r\n",
       "}\r\n",
       "comp def \"A\" as E11  <<(T,blue) attribute def>> [[psysml:423769db-1814-486c-a3b1-3214b1eae655 ]] {\r\n",
       "i: Integer\r\n",
       "x: A\r\n",
       "}\r\n",
       "}\r\n",
       "E5 - -:|> E2 [[psysml:56ee8f03-05cc-4672-92a5-af5f15d564f5 ]] \r\n",
       "E6 - -:|> E2 [[psysml:34caeea3-9e32-4456-be5b-df49f4f1b3a4 ]] \r\n",
       "@enduml\r\n",
       "\n",
       "PlantUML version 1.2020.13(Sat Jun 13 12:26:38 UTC 2020)\n",
       "(EPL source distribution)\n",
       "Java Runtime: OpenJDK Runtime Environment\n",
       "JVM: OpenJDK 64-Bit Server VM\n",
       "Default Encoding: UTF-8\n",
       "Language: en\n",
       "Country: null\n",
       "--></g></svg>"
      ]
     },
     "execution_count": 24,
     "metadata": {},
     "output_type": "execute_result"
    }
   ],
   "source": [
    "%viz --style=\"STDCOLOR\" --view=\"Tree\" \"MultiplicityTest\""
   ]
  },
  {
   "cell_type": "code",
   "execution_count": 25,
   "id": "257f7de4",
   "metadata": {
    "execution": {
     "iopub.execute_input": "2021-10-03T08:30:20.417800Z",
     "iopub.status.busy": "2021-10-03T08:30:20.417389Z",
     "iopub.status.idle": "2021-10-03T08:30:20.422290Z",
     "shell.execute_reply": "2021-10-03T08:30:20.422607Z"
    }
   },
   "outputs": [
    {
     "data": {
      "image/svg+xml": [
       "<?xml version=\"1.0\" encoding=\"UTF-8\" standalone=\"no\"?><svg xmlns=\"http://www.w3.org/2000/svg\" xmlns:xlink=\"http://www.w3.org/1999/xlink\" contentScriptType=\"application/ecmascript\" contentStyleType=\"text/css\" height=\"12px\" preserveAspectRatio=\"none\" style=\"width:12px;height:12px;\" version=\"1.1\" viewBox=\"0 0 12 12\" width=\"12px\" zoomAndPan=\"magnify\"><defs/><g><!--MD5=[aeeef50f102b80d730deb6443d14f702]\n",
       "@startuml\r\n",
       "skinparam wrapWidth 300\r\n",
       "hide circle\r\n",
       "\r\n",
       "@enduml\r\n",
       "\n",
       "PlantUML version 1.2020.13(Sat Jun 13 12:26:38 UTC 2020)\n",
       "(EPL source distribution)\n",
       "Java Runtime: OpenJDK Runtime Environment\n",
       "JVM: OpenJDK 64-Bit Server VM\n",
       "Default Encoding: UTF-8\n",
       "Language: en\n",
       "Country: null\n",
       "--></g></svg>"
      ]
     },
     "execution_count": 25,
     "metadata": {},
     "output_type": "execute_result"
    }
   ],
   "source": [
    "%viz --style=\"STDCOLOR\" --view=\"State\" \"MultiplicityTest\""
   ]
  },
  {
   "cell_type": "code",
   "execution_count": 26,
   "id": "ac687a61",
   "metadata": {
    "execution": {
     "iopub.execute_input": "2021-10-03T08:30:20.472330Z",
     "iopub.status.busy": "2021-10-03T08:30:20.471926Z",
     "iopub.status.idle": "2021-10-03T08:30:20.501090Z",
     "shell.execute_reply": "2021-10-03T08:30:20.500729Z"
    }
   },
   "outputs": [
    {
     "data": {
      "image/svg+xml": [
       "<?xml version=\"1.0\" encoding=\"UTF-8\" standalone=\"no\"?><svg xmlns=\"http://www.w3.org/2000/svg\" xmlns:xlink=\"http://www.w3.org/1999/xlink\" contentScriptType=\"application/ecmascript\" contentStyleType=\"text/css\" height=\"115px\" preserveAspectRatio=\"none\" style=\"width:979px;height:115px;\" version=\"1.1\" viewBox=\"0 0 979 115\" width=\"979px\" zoomAndPan=\"magnify\"><defs><filter height=\"300%\" id=\"fv6am4dyyrk0r\" width=\"300%\" x=\"-1\" y=\"-1\"><feGaussianBlur result=\"blurOut\" stdDeviation=\"2.0\"/><feColorMatrix in=\"blurOut\" result=\"blurOut2\" type=\"matrix\" values=\"0 0 0 0 0 0 0 0 0 0 0 0 0 0 0 0 0 0 .4 0\"/><feOffset dx=\"4.0\" dy=\"4.0\" in=\"blurOut2\" result=\"blurOut3\"/><feBlend in=\"SourceGraphic\" in2=\"blurOut3\" mode=\"normal\"/></filter></defs><g><!--MD5=[fbc87193dbaf4d95561dea2c320d4a47]\n",
       "cluster E1--><a href=\"psysml:917c8e98-308c-4a57-bedc-72bb13927275\" target=\"_top\" title=\"psysml:917c8e98-308c-4a57-bedc-72bb13927275\" xlink:actuate=\"onRequest\" xlink:href=\"psysml:917c8e98-308c-4a57-bedc-72bb13927275\" xlink:show=\"new\" xlink:title=\"psysml:917c8e98-308c-4a57-bedc-72bb13927275\" xlink:type=\"simple\"><polygon fill=\"#FFFFFF\" filter=\"url(#fv6am4dyyrk0r)\" points=\"16,6,123,6,130,28.2969,957,28.2969,957,103,16,103,16,6\" style=\"stroke: #000000; stroke-width: 1.5;\"/><line style=\"stroke: #000000; stroke-width: 1.5;\" x1=\"16\" x2=\"130\" y1=\"28.2969\" y2=\"28.2969\"/><text fill=\"#000000\" font-family=\"sans-serif\" font-size=\"14\" font-weight=\"bold\" lengthAdjust=\"spacingAndGlyphs\" textLength=\"101\" x=\"20\" y=\"20.9951\">MultiplicityTest</text></a><!--MD5=[09b614a08d8cba4a07c9adeb5e0fee81]\n",
       "class E3--><a href=\"psysml:d0e8f829-c575-44a2-9ede-b108238de40c\" target=\"_top\" title=\"psysml:d0e8f829-c575-44a2-9ede-b108238de40c\" xlink:actuate=\"onRequest\" xlink:href=\"psysml:d0e8f829-c575-44a2-9ede-b108238de40c\" xlink:show=\"new\" xlink:title=\"psysml:d0e8f829-c575-44a2-9ede-b108238de40c\" xlink:type=\"simple\"><rect fill=\"#FEFECE\" filter=\"url(#fv6am4dyyrk0r)\" height=\"45.9375\" id=\"E3\" rx=\"10\" ry=\"10\" style=\"stroke: #A80036; stroke-width: 1.5;\" width=\"71\" x=\"869.5\" y=\"41\"/><text fill=\"#000000\" font-family=\"sans-serif\" font-size=\"12\" font-style=\"italic\" lengthAdjust=\"spacingAndGlyphs\" textLength=\"69\" x=\"870.5\" y=\"57.1387\">«attribute»</text><text fill=\"#000000\" font-family=\"sans-serif\" font-size=\"12\" lengthAdjust=\"spacingAndGlyphs\" textLength=\"61\" x=\"874.5\" y=\"71.1074\">n: Integer</text><line style=\"stroke: #A80036; stroke-width: 1.5;\" x1=\"870.5\" x2=\"939.5\" y1=\"78.9375\" y2=\"78.9375\"/></a><g id=\"E1.E11\"><a href=\"psysml:423769db-1814-486c-a3b1-3214b1eae655\" target=\"_top\" title=\"psysml:423769db-1814-486c-a3b1-3214b1eae655\" xlink:actuate=\"onRequest\" xlink:href=\"psysml:423769db-1814-486c-a3b1-3214b1eae655\" xlink:show=\"new\" xlink:title=\"psysml:423769db-1814-486c-a3b1-3214b1eae655\" xlink:type=\"simple\"><rect fill=\"#FEFECE\" filter=\"url(#fv6am4dyyrk0r)\" height=\"42.9375\" id=\"E11\" style=\"stroke: #A80036; stroke-width: 1.5;\" width=\"100\" x=\"734\" y=\"42.5\"/><text fill=\"#000000\" font-family=\"sans-serif\" font-size=\"12\" font-style=\"italic\" lengthAdjust=\"spacingAndGlyphs\" textLength=\"93\" x=\"737.5\" y=\"58.6387\">«attribute def»</text><text fill=\"#000000\" font-family=\"sans-serif\" font-size=\"12\" lengthAdjust=\"spacingAndGlyphs\" textLength=\"8\" x=\"780\" y=\"72.6074\">A</text></a></g><g id=\"E1.E2\"><a href=\"psysml:1b8e2ab6-001b-4483-8406-5463ddd95a77\" target=\"_top\" title=\"psysml:1b8e2ab6-001b-4483-8406-5463ddd95a77\" xlink:actuate=\"onRequest\" xlink:href=\"psysml:1b8e2ab6-001b-4483-8406-5463ddd95a77\" xlink:show=\"new\" xlink:title=\"psysml:1b8e2ab6-001b-4483-8406-5463ddd95a77\" xlink:type=\"simple\"><rect fill=\"#FEFECE\" filter=\"url(#fv6am4dyyrk0r)\" height=\"42.9375\" id=\"E2\" style=\"stroke: #A80036; stroke-width: 1.5;\" width=\"71\" x=\"627.5\" y=\"42.5\"/><text fill=\"#000000\" font-family=\"sans-serif\" font-size=\"12\" font-style=\"italic\" lengthAdjust=\"spacingAndGlyphs\" textLength=\"64\" x=\"631\" y=\"58.6387\">«part def»</text><text fill=\"#000000\" font-family=\"sans-serif\" font-size=\"12\" lengthAdjust=\"spacingAndGlyphs\" textLength=\"8\" x=\"659\" y=\"72.6074\">P</text></a></g><g id=\"E1.E4\"><a href=\"psysml:2de2cbdc-62e6-485a-a7d2-bee7f587f60d\" target=\"_top\" title=\"psysml:2de2cbdc-62e6-485a-a7d2-bee7f587f60d\" xlink:actuate=\"onRequest\" xlink:href=\"psysml:2de2cbdc-62e6-485a-a7d2-bee7f587f60d\" xlink:show=\"new\" xlink:title=\"psysml:2de2cbdc-62e6-485a-a7d2-bee7f587f60d\" xlink:type=\"simple\"><rect fill=\"#FEFECE\" filter=\"url(#fv6am4dyyrk0r)\" height=\"40\" id=\"E4\" rx=\"10\" ry=\"10\" style=\"stroke: #A80036; stroke-width: 1.5;\" width=\"50\" x=\"542\" y=\"44\"/><text fill=\"#000000\" font-family=\"sans-serif\" font-size=\"12\" lengthAdjust=\"spacingAndGlyphs\" textLength=\"8\" x=\"563\" y=\"60.1387\">a</text></a></g><g id=\"E1.E5\"><a href=\"psysml:a47b2c6e-81dd-4a7f-97e2-f2f751620c17\" target=\"_top\" title=\"psysml:a47b2c6e-81dd-4a7f-97e2-f2f751620c17\" xlink:actuate=\"onRequest\" xlink:href=\"psysml:a47b2c6e-81dd-4a7f-97e2-f2f751620c17\" xlink:show=\"new\" xlink:title=\"psysml:a47b2c6e-81dd-4a7f-97e2-f2f751620c17\" xlink:type=\"simple\"><rect fill=\"#FEFECE\" filter=\"url(#fv6am4dyyrk0r)\" height=\"40\" id=\"E5\" rx=\"10\" ry=\"10\" style=\"stroke: #A80036; stroke-width: 1.5;\" width=\"50\" x=\"457\" y=\"44\"/><text fill=\"#000000\" font-family=\"sans-serif\" font-size=\"12\" lengthAdjust=\"spacingAndGlyphs\" textLength=\"24\" x=\"470\" y=\"60.1387\">b: P</text></a></g><g id=\"E1.E6\"><a href=\"psysml:46e4b238-da26-40c7-b1f6-d3a4f2631481\" target=\"_top\" title=\"psysml:46e4b238-da26-40c7-b1f6-d3a4f2631481\" xlink:actuate=\"onRequest\" xlink:href=\"psysml:46e4b238-da26-40c7-b1f6-d3a4f2631481\" xlink:show=\"new\" xlink:title=\"psysml:46e4b238-da26-40c7-b1f6-d3a4f2631481\" xlink:type=\"simple\"><rect fill=\"#FEFECE\" filter=\"url(#fv6am4dyyrk0r)\" height=\"40\" id=\"E6\" rx=\"10\" ry=\"10\" style=\"stroke: #A80036; stroke-width: 1.5;\" width=\"50\" x=\"372\" y=\"44\"/><text fill=\"#000000\" font-family=\"sans-serif\" font-size=\"12\" lengthAdjust=\"spacingAndGlyphs\" textLength=\"23\" x=\"385.5\" y=\"60.1387\">c: P</text></a></g><g id=\"E1.E7\"><a href=\"psysml:862abcb1-d094-4d1f-a90d-b0af915cd2bb\" target=\"_top\" title=\"psysml:862abcb1-d094-4d1f-a90d-b0af915cd2bb\" xlink:actuate=\"onRequest\" xlink:href=\"psysml:862abcb1-d094-4d1f-a90d-b0af915cd2bb\" xlink:show=\"new\" xlink:title=\"psysml:862abcb1-d094-4d1f-a90d-b0af915cd2bb\" xlink:type=\"simple\"><rect fill=\"#FEFECE\" filter=\"url(#fv6am4dyyrk0r)\" height=\"40\" id=\"E7\" rx=\"10\" ry=\"10\" style=\"stroke: #A80036; stroke-width: 1.5;\" width=\"50\" x=\"287\" y=\"44\"/><text fill=\"#000000\" font-family=\"sans-serif\" font-size=\"12\" lengthAdjust=\"spacingAndGlyphs\" textLength=\"8\" x=\"308\" y=\"60.1387\">d</text></a></g><g id=\"E1.E8\"><a href=\"psysml:0f8b0aa8-e59b-4cfe-b590-8672d08a4434\" target=\"_top\" title=\"psysml:0f8b0aa8-e59b-4cfe-b590-8672d08a4434\" xlink:actuate=\"onRequest\" xlink:href=\"psysml:0f8b0aa8-e59b-4cfe-b590-8672d08a4434\" xlink:show=\"new\" xlink:title=\"psysml:0f8b0aa8-e59b-4cfe-b590-8672d08a4434\" xlink:type=\"simple\"><rect fill=\"#FEFECE\" filter=\"url(#fv6am4dyyrk0r)\" height=\"40\" id=\"E8\" rx=\"10\" ry=\"10\" style=\"stroke: #A80036; stroke-width: 1.5;\" width=\"50\" x=\"202\" y=\"44\"/><text fill=\"#000000\" font-family=\"sans-serif\" font-size=\"12\" lengthAdjust=\"spacingAndGlyphs\" textLength=\"8\" x=\"223\" y=\"60.1387\">e</text></a></g><g id=\"E1.E9\"><a href=\"psysml:07bb6063-49af-4acb-bb76-a6a51f542bf8\" target=\"_top\" title=\"psysml:07bb6063-49af-4acb-bb76-a6a51f542bf8\" xlink:actuate=\"onRequest\" xlink:href=\"psysml:07bb6063-49af-4acb-bb76-a6a51f542bf8\" xlink:show=\"new\" xlink:title=\"psysml:07bb6063-49af-4acb-bb76-a6a51f542bf8\" xlink:type=\"simple\"><rect fill=\"#FEFECE\" filter=\"url(#fv6am4dyyrk0r)\" height=\"40\" id=\"E9\" rx=\"10\" ry=\"10\" style=\"stroke: #A80036; stroke-width: 1.5;\" width=\"50\" x=\"117\" y=\"44\"/><text fill=\"#000000\" font-family=\"sans-serif\" font-size=\"12\" lengthAdjust=\"spacingAndGlyphs\" textLength=\"4\" x=\"140\" y=\"60.1387\">f</text></a></g><g id=\"E1.E10\"><a href=\"psysml:87a6ec87-e214-496f-a09f-1f6dfd597ed3\" target=\"_top\" title=\"psysml:87a6ec87-e214-496f-a09f-1f6dfd597ed3\" xlink:actuate=\"onRequest\" xlink:href=\"psysml:87a6ec87-e214-496f-a09f-1f6dfd597ed3\" xlink:show=\"new\" xlink:title=\"psysml:87a6ec87-e214-496f-a09f-1f6dfd597ed3\" xlink:type=\"simple\"><rect fill=\"#FEFECE\" filter=\"url(#fv6am4dyyrk0r)\" height=\"40\" id=\"E10\" rx=\"10\" ry=\"10\" style=\"stroke: #A80036; stroke-width: 1.5;\" width=\"50\" x=\"32\" y=\"44\"/><text fill=\"#000000\" font-family=\"sans-serif\" font-size=\"12\" lengthAdjust=\"spacingAndGlyphs\" textLength=\"8\" x=\"53\" y=\"60.1387\">g</text></a></g><!--MD5=[8e662d3fcbff172cae680a7417223a7c]\n",
       "@startuml\r\n",
       "skinparam ranksep 10\r\n",
       "skinparam rectangle {\r\n",
       " backgroundColor<<block>> LightGreen\r\n",
       "}\r\n",
       "skinparam wrapWidth 300\r\n",
       "hide circle\r\n",
       "\r\n",
       "package \"MultiplicityTest\" as E1  [[psysml:917c8e98-308c-4a57-bedc-72bb13927275 ]]  {\r\n",
       "rec def \"P\" as E2  <<(T,blue) part def>> [[psysml:1b8e2ab6-001b-4483-8406-5463ddd95a77 ]] {\r\n",
       "}\r\n",
       "comp usage \"n: Integer\" as E3  <<(T,blue) attribute>> [[psysml:d0e8f829-c575-44a2-9ede-b108238de40c ]] {\r\n",
       "}\r\n",
       "rec usage \"a\" as E4  [[psysml:2de2cbdc-62e6-485a-a7d2-bee7f587f60d ]] {\r\n",
       "}\r\n",
       "rec usage \"b: P\" as E5  [[psysml:a47b2c6e-81dd-4a7f-97e2-f2f751620c17 ]] {\r\n",
       "}\r\n",
       "rec usage \"c: P\" as E6  [[psysml:46e4b238-da26-40c7-b1f6-d3a4f2631481 ]] {\r\n",
       "}\r\n",
       "rec usage \"d\" as E7  [[psysml:862abcb1-d094-4d1f-a90d-b0af915cd2bb ]] {\r\n",
       "}\r\n",
       "rec usage \"e\" as E8  [[psysml:0f8b0aa8-e59b-4cfe-b590-8672d08a4434 ]] {\r\n",
       "}\r\n",
       "rec usage \"f\" as E9  [[psysml:07bb6063-49af-4acb-bb76-a6a51f542bf8 ]] {\r\n",
       "}\r\n",
       "rec usage \"g\" as E10  [[psysml:87a6ec87-e214-496f-a09f-1f6dfd597ed3 ]] {\r\n",
       "}\r\n",
       "def \"A\" as E11  <<(T,blue) attribute def>> [[psysml:423769db-1814-486c-a3b1-3214b1eae655 ]] \r\n",
       "}\r\n",
       "@enduml\r\n",
       "\n",
       "PlantUML version 1.2020.13(Sat Jun 13 12:26:38 UTC 2020)\n",
       "(EPL source distribution)\n",
       "Java Runtime: OpenJDK Runtime Environment\n",
       "JVM: OpenJDK 64-Bit Server VM\n",
       "Default Encoding: UTF-8\n",
       "Language: en\n",
       "Country: null\n",
       "--></g></svg>"
      ]
     },
     "execution_count": 26,
     "metadata": {},
     "output_type": "execute_result"
    }
   ],
   "source": [
    "%viz --style=\"STDCOLOR\" --view=\"Interconnection\" \"MultiplicityTest\""
   ]
  },
  {
   "cell_type": "code",
   "execution_count": 27,
   "id": "ae5c2e48",
   "metadata": {
    "execution": {
     "iopub.execute_input": "2021-10-03T08:30:20.550286Z",
     "iopub.status.busy": "2021-10-03T08:30:20.549876Z",
     "iopub.status.idle": "2021-10-03T08:30:20.554762Z",
     "shell.execute_reply": "2021-10-03T08:30:20.555073Z"
    }
   },
   "outputs": [
    {
     "data": {
      "image/svg+xml": [
       "<?xml version=\"1.0\" encoding=\"UTF-8\" standalone=\"no\"?><svg xmlns=\"http://www.w3.org/2000/svg\" xmlns:xlink=\"http://www.w3.org/1999/xlink\" contentScriptType=\"application/ecmascript\" contentStyleType=\"text/css\" height=\"12px\" preserveAspectRatio=\"none\" style=\"width:12px;height:12px;\" version=\"1.1\" viewBox=\"0 0 12 12\" width=\"12px\" zoomAndPan=\"magnify\"><defs/><g><!--MD5=[9863325348a96a77dacc89509d8ee65e]\n",
       "@startuml\r\n",
       "skinparam ranksep 8\r\n",
       "skinparam wrapWidth 300\r\n",
       "hide circle\r\n",
       "\r\n",
       "@enduml\r\n",
       "\n",
       "PlantUML version 1.2020.13(Sat Jun 13 12:26:38 UTC 2020)\n",
       "(EPL source distribution)\n",
       "Java Runtime: OpenJDK Runtime Environment\n",
       "JVM: OpenJDK 64-Bit Server VM\n",
       "Default Encoding: UTF-8\n",
       "Language: en\n",
       "Country: null\n",
       "--></g></svg>"
      ]
     },
     "execution_count": 27,
     "metadata": {},
     "output_type": "execute_result"
    }
   ],
   "source": [
    "%viz --style=\"STDCOLOR\" --view=\"Action\" \"MultiplicityTest\""
   ]
  },
  {
   "cell_type": "code",
   "execution_count": 28,
   "id": "381cfbef",
   "metadata": {
    "execution": {
     "iopub.execute_input": "2021-10-03T08:30:20.604662Z",
     "iopub.status.busy": "2021-10-03T08:30:20.604273Z",
     "iopub.status.idle": "2021-10-03T08:30:20.609336Z",
     "shell.execute_reply": "2021-10-03T08:30:20.609644Z"
    }
   },
   "outputs": [
    {
     "data": {
      "image/svg+xml": [
       "<?xml version=\"1.0\" encoding=\"UTF-8\" standalone=\"no\"?><svg xmlns=\"http://www.w3.org/2000/svg\" xmlns:xlink=\"http://www.w3.org/1999/xlink\" contentScriptType=\"application/ecmascript\" contentStyleType=\"text/css\" height=\"12px\" preserveAspectRatio=\"none\" style=\"width:12px;height:12px;\" version=\"1.1\" viewBox=\"0 0 12 12\" width=\"12px\" zoomAndPan=\"magnify\"><defs/><g><!--MD5=[6c4bca67b4d71758159a5a7f1f1e1fc2]\n",
       "@startuml\r\n",
       "skinparam roundcorner 20\r\n",
       "skinparam BoxPadding 20\r\n",
       "skinparam SequenceBoxBackgroundColor #white\r\n",
       "skinparam style strictuml\r\n",
       "skinparam maxMessageSize 100\r\n",
       "skinparam wrapWidth 300\r\n",
       "hide circle\r\n",
       "\r\n",
       "@enduml\r\n",
       "\n",
       "PlantUML version 1.2020.13(Sat Jun 13 12:26:38 UTC 2020)\n",
       "(EPL source distribution)\n",
       "Java Runtime: OpenJDK Runtime Environment\n",
       "JVM: OpenJDK 64-Bit Server VM\n",
       "Default Encoding: UTF-8\n",
       "Language: en\n",
       "Country: null\n",
       "--></g></svg>"
      ]
     },
     "execution_count": 28,
     "metadata": {},
     "output_type": "execute_result"
    }
   ],
   "source": [
    "%viz --style=\"STDCOLOR\" --view=\"Sequence\" \"MultiplicityTest\""
   ]
  },
  {
   "cell_type": "code",
   "execution_count": 29,
   "id": "35bbda3c",
   "metadata": {
    "execution": {
     "iopub.execute_input": "2021-10-03T08:30:20.659290Z",
     "iopub.status.busy": "2021-10-03T08:30:20.658894Z",
     "iopub.status.idle": "2021-10-03T08:30:20.703739Z",
     "shell.execute_reply": "2021-10-03T08:30:20.703380Z"
    }
   },
   "outputs": [
    {
     "data": {
      "image/svg+xml": [
       "<?xml version=\"1.0\" encoding=\"UTF-8\" standalone=\"no\"?><svg xmlns=\"http://www.w3.org/2000/svg\" xmlns:xlink=\"http://www.w3.org/1999/xlink\" contentScriptType=\"application/ecmascript\" contentStyleType=\"text/css\" height=\"247px\" preserveAspectRatio=\"none\" style=\"width:812px;height:247px;\" version=\"1.1\" viewBox=\"0 0 812 247\" width=\"812px\" zoomAndPan=\"magnify\"><defs><filter height=\"300%\" id=\"fe8b8raazkebl\" width=\"300%\" x=\"-1\" y=\"-1\"><feGaussianBlur result=\"blurOut\" stdDeviation=\"2.0\"/><feColorMatrix in=\"blurOut\" result=\"blurOut2\" type=\"matrix\" values=\"0 0 0 0 0 0 0 0 0 0 0 0 0 0 0 0 0 0 .4 0\"/><feOffset dx=\"4.0\" dy=\"4.0\" in=\"blurOut2\" result=\"blurOut3\"/><feBlend in=\"SourceGraphic\" in2=\"blurOut3\" mode=\"normal\"/></filter></defs><g><!--MD5=[fbc87193dbaf4d95561dea2c320d4a47]\n",
       "cluster E1--><a href=\"psysml:917c8e98-308c-4a57-bedc-72bb13927275\" target=\"_top\" title=\"psysml:917c8e98-308c-4a57-bedc-72bb13927275\" xlink:actuate=\"onRequest\" xlink:href=\"psysml:917c8e98-308c-4a57-bedc-72bb13927275\" xlink:show=\"new\" xlink:title=\"psysml:917c8e98-308c-4a57-bedc-72bb13927275\" xlink:type=\"simple\"><polygon fill=\"#FFFFFF\" filter=\"url(#fe8b8raazkebl)\" points=\"16,6,123,6,130,28.2969,790,28.2969,790,235,16,235,16,6\" style=\"stroke: #000000; stroke-width: 1.5;\"/><line style=\"stroke: #000000; stroke-width: 1.5;\" x1=\"16\" x2=\"130\" y1=\"28.2969\" y2=\"28.2969\"/><text fill=\"#000000\" font-family=\"sans-serif\" font-size=\"14\" font-weight=\"bold\" lengthAdjust=\"spacingAndGlyphs\" textLength=\"101\" x=\"20\" y=\"20.9951\">MultiplicityTest</text></a><!--MD5=[b4997ac47864f28c2f74865a473b2911]\n",
       "class E2--><a href=\"psysml:1b8e2ab6-001b-4483-8406-5463ddd95a77\" target=\"_top\" title=\"psysml:1b8e2ab6-001b-4483-8406-5463ddd95a77\" xlink:actuate=\"onRequest\" xlink:href=\"psysml:1b8e2ab6-001b-4483-8406-5463ddd95a77\" xlink:show=\"new\" xlink:title=\"psysml:1b8e2ab6-001b-4483-8406-5463ddd95a77\" xlink:type=\"simple\"><rect fill=\"#FEFECE\" filter=\"url(#fe8b8raazkebl)\" height=\"45.9375\" id=\"E2\" style=\"stroke: #A80036; stroke-width: 1.5;\" width=\"66\" x=\"497\" y=\"173\"/><text fill=\"#000000\" font-family=\"sans-serif\" font-size=\"12\" font-style=\"italic\" lengthAdjust=\"spacingAndGlyphs\" textLength=\"64\" x=\"498\" y=\"189.1387\">«part def»</text><text fill=\"#000000\" font-family=\"sans-serif\" font-size=\"12\" lengthAdjust=\"spacingAndGlyphs\" textLength=\"8\" x=\"526\" y=\"203.1074\">P</text><line style=\"stroke: #A80036; stroke-width: 1.5;\" x1=\"498\" x2=\"562\" y1=\"210.9375\" y2=\"210.9375\"/></a><!--MD5=[09b614a08d8cba4a07c9adeb5e0fee81]\n",
       "class E3--><a href=\"psysml:d0e8f829-c575-44a2-9ede-b108238de40c\" target=\"_top\" title=\"psysml:d0e8f829-c575-44a2-9ede-b108238de40c\" xlink:actuate=\"onRequest\" xlink:href=\"psysml:d0e8f829-c575-44a2-9ede-b108238de40c\" xlink:show=\"new\" xlink:title=\"psysml:d0e8f829-c575-44a2-9ede-b108238de40c\" xlink:type=\"simple\"><rect fill=\"#FEFECE\" filter=\"url(#fe8b8raazkebl)\" height=\"45.9375\" id=\"E3\" rx=\"10\" ry=\"10\" style=\"stroke: #A80036; stroke-width: 1.5;\" width=\"71\" x=\"702.5\" y=\"54\"/><text fill=\"#000000\" font-family=\"sans-serif\" font-size=\"12\" font-style=\"italic\" lengthAdjust=\"spacingAndGlyphs\" textLength=\"69\" x=\"703.5\" y=\"70.1387\">«attribute»</text><text fill=\"#000000\" font-family=\"sans-serif\" font-size=\"12\" lengthAdjust=\"spacingAndGlyphs\" textLength=\"61\" x=\"707.5\" y=\"84.1074\">n: Integer</text><line style=\"stroke: #A80036; stroke-width: 1.5;\" x1=\"703.5\" x2=\"772.5\" y1=\"91.9375\" y2=\"91.9375\"/></a><!--MD5=[ebbe1d658d1005bcc118a6aa81145e00]\n",
       "class E4--><a href=\"psysml:2de2cbdc-62e6-485a-a7d2-bee7f587f60d\" target=\"_top\" title=\"psysml:2de2cbdc-62e6-485a-a7d2-bee7f587f60d\" xlink:actuate=\"onRequest\" xlink:href=\"psysml:2de2cbdc-62e6-485a-a7d2-bee7f587f60d\" xlink:show=\"new\" xlink:title=\"psysml:2de2cbdc-62e6-485a-a7d2-bee7f587f60d\" xlink:type=\"simple\"><rect fill=\"#FEFECE\" filter=\"url(#fe8b8raazkebl)\" height=\"45.9375\" id=\"E4\" rx=\"10\" ry=\"10\" style=\"stroke: #A80036; stroke-width: 1.5;\" width=\"42\" x=\"625\" y=\"54\"/><text fill=\"#000000\" font-family=\"sans-serif\" font-size=\"12\" font-style=\"italic\" lengthAdjust=\"spacingAndGlyphs\" textLength=\"40\" x=\"626\" y=\"70.1387\">«part»</text><text fill=\"#000000\" font-family=\"sans-serif\" font-size=\"12\" lengthAdjust=\"spacingAndGlyphs\" textLength=\"8\" x=\"642\" y=\"84.1074\">a</text><line style=\"stroke: #A80036; stroke-width: 1.5;\" x1=\"626\" x2=\"666\" y1=\"91.9375\" y2=\"91.9375\"/></a><!--MD5=[270fce915f116d4de14055a7c1d9a0f3]\n",
       "class E5--><a href=\"psysml:a47b2c6e-81dd-4a7f-97e2-f2f751620c17\" target=\"_top\" title=\"psysml:a47b2c6e-81dd-4a7f-97e2-f2f751620c17\" xlink:actuate=\"onRequest\" xlink:href=\"psysml:a47b2c6e-81dd-4a7f-97e2-f2f751620c17\" xlink:show=\"new\" xlink:title=\"psysml:a47b2c6e-81dd-4a7f-97e2-f2f751620c17\" xlink:type=\"simple\"><rect fill=\"#FEFECE\" filter=\"url(#fe8b8raazkebl)\" height=\"45.9375\" id=\"E5\" rx=\"10\" ry=\"10\" style=\"stroke: #A80036; stroke-width: 1.5;\" width=\"42\" x=\"548\" y=\"54\"/><text fill=\"#000000\" font-family=\"sans-serif\" font-size=\"12\" font-style=\"italic\" lengthAdjust=\"spacingAndGlyphs\" textLength=\"40\" x=\"549\" y=\"70.1387\">«part»</text><text fill=\"#000000\" font-family=\"sans-serif\" font-size=\"12\" lengthAdjust=\"spacingAndGlyphs\" textLength=\"24\" x=\"557\" y=\"84.1074\">b: P</text><line style=\"stroke: #A80036; stroke-width: 1.5;\" x1=\"549\" x2=\"589\" y1=\"91.9375\" y2=\"91.9375\"/></a><!--MD5=[60a26617385b1d2d0262a64233df1f8d]\n",
       "class E6--><a href=\"psysml:46e4b238-da26-40c7-b1f6-d3a4f2631481\" target=\"_top\" title=\"psysml:46e4b238-da26-40c7-b1f6-d3a4f2631481\" xlink:actuate=\"onRequest\" xlink:href=\"psysml:46e4b238-da26-40c7-b1f6-d3a4f2631481\" xlink:show=\"new\" xlink:title=\"psysml:46e4b238-da26-40c7-b1f6-d3a4f2631481\" xlink:type=\"simple\"><rect fill=\"#FEFECE\" filter=\"url(#fe8b8raazkebl)\" height=\"45.9375\" id=\"E6\" rx=\"10\" ry=\"10\" style=\"stroke: #A80036; stroke-width: 1.5;\" width=\"42\" x=\"471\" y=\"54\"/><text fill=\"#000000\" font-family=\"sans-serif\" font-size=\"12\" font-style=\"italic\" lengthAdjust=\"spacingAndGlyphs\" textLength=\"40\" x=\"472\" y=\"70.1387\">«part»</text><text fill=\"#000000\" font-family=\"sans-serif\" font-size=\"12\" lengthAdjust=\"spacingAndGlyphs\" textLength=\"23\" x=\"480.5\" y=\"84.1074\">c: P</text><line style=\"stroke: #A80036; stroke-width: 1.5;\" x1=\"472\" x2=\"512\" y1=\"91.9375\" y2=\"91.9375\"/></a><!--MD5=[2156ba9850f5573cc1fc38a6a4b2f02b]\n",
       "class E7--><a href=\"psysml:862abcb1-d094-4d1f-a90d-b0af915cd2bb\" target=\"_top\" title=\"psysml:862abcb1-d094-4d1f-a90d-b0af915cd2bb\" xlink:actuate=\"onRequest\" xlink:href=\"psysml:862abcb1-d094-4d1f-a90d-b0af915cd2bb\" xlink:show=\"new\" xlink:title=\"psysml:862abcb1-d094-4d1f-a90d-b0af915cd2bb\" xlink:type=\"simple\"><rect fill=\"#FEFECE\" filter=\"url(#fe8b8raazkebl)\" height=\"45.9375\" id=\"E7\" rx=\"10\" ry=\"10\" style=\"stroke: #A80036; stroke-width: 1.5;\" width=\"42\" x=\"394\" y=\"54\"/><text fill=\"#000000\" font-family=\"sans-serif\" font-size=\"12\" font-style=\"italic\" lengthAdjust=\"spacingAndGlyphs\" textLength=\"40\" x=\"395\" y=\"70.1387\">«part»</text><text fill=\"#000000\" font-family=\"sans-serif\" font-size=\"12\" lengthAdjust=\"spacingAndGlyphs\" textLength=\"8\" x=\"411\" y=\"84.1074\">d</text><line style=\"stroke: #A80036; stroke-width: 1.5;\" x1=\"395\" x2=\"435\" y1=\"91.9375\" y2=\"91.9375\"/></a><!--MD5=[b9389687b975829384b498ac4b7476b2]\n",
       "class E8--><a href=\"psysml:0f8b0aa8-e59b-4cfe-b590-8672d08a4434\" target=\"_top\" title=\"psysml:0f8b0aa8-e59b-4cfe-b590-8672d08a4434\" xlink:actuate=\"onRequest\" xlink:href=\"psysml:0f8b0aa8-e59b-4cfe-b590-8672d08a4434\" xlink:show=\"new\" xlink:title=\"psysml:0f8b0aa8-e59b-4cfe-b590-8672d08a4434\" xlink:type=\"simple\"><rect fill=\"#FEFECE\" filter=\"url(#fe8b8raazkebl)\" height=\"45.9375\" id=\"E8\" rx=\"10\" ry=\"10\" style=\"stroke: #A80036; stroke-width: 1.5;\" width=\"42\" x=\"317\" y=\"54\"/><text fill=\"#000000\" font-family=\"sans-serif\" font-size=\"12\" font-style=\"italic\" lengthAdjust=\"spacingAndGlyphs\" textLength=\"40\" x=\"318\" y=\"70.1387\">«part»</text><text fill=\"#000000\" font-family=\"sans-serif\" font-size=\"12\" lengthAdjust=\"spacingAndGlyphs\" textLength=\"8\" x=\"334\" y=\"84.1074\">e</text><line style=\"stroke: #A80036; stroke-width: 1.5;\" x1=\"318\" x2=\"358\" y1=\"91.9375\" y2=\"91.9375\"/></a><!--MD5=[fd4143e9d270a159db93a4ea2a975926]\n",
       "class E9--><a href=\"psysml:07bb6063-49af-4acb-bb76-a6a51f542bf8\" target=\"_top\" title=\"psysml:07bb6063-49af-4acb-bb76-a6a51f542bf8\" xlink:actuate=\"onRequest\" xlink:href=\"psysml:07bb6063-49af-4acb-bb76-a6a51f542bf8\" xlink:show=\"new\" xlink:title=\"psysml:07bb6063-49af-4acb-bb76-a6a51f542bf8\" xlink:type=\"simple\"><rect fill=\"#FEFECE\" filter=\"url(#fe8b8raazkebl)\" height=\"45.9375\" id=\"E9\" rx=\"10\" ry=\"10\" style=\"stroke: #A80036; stroke-width: 1.5;\" width=\"42\" x=\"240\" y=\"54\"/><text fill=\"#000000\" font-family=\"sans-serif\" font-size=\"12\" font-style=\"italic\" lengthAdjust=\"spacingAndGlyphs\" textLength=\"40\" x=\"241\" y=\"70.1387\">«part»</text><text fill=\"#000000\" font-family=\"sans-serif\" font-size=\"12\" lengthAdjust=\"spacingAndGlyphs\" textLength=\"4\" x=\"259\" y=\"84.1074\">f</text><line style=\"stroke: #A80036; stroke-width: 1.5;\" x1=\"241\" x2=\"281\" y1=\"91.9375\" y2=\"91.9375\"/></a><!--MD5=[96f4274e9e20536e775497830990834d]\n",
       "class E10--><a href=\"psysml:87a6ec87-e214-496f-a09f-1f6dfd597ed3\" target=\"_top\" title=\"psysml:87a6ec87-e214-496f-a09f-1f6dfd597ed3\" xlink:actuate=\"onRequest\" xlink:href=\"psysml:87a6ec87-e214-496f-a09f-1f6dfd597ed3\" xlink:show=\"new\" xlink:title=\"psysml:87a6ec87-e214-496f-a09f-1f6dfd597ed3\" xlink:type=\"simple\"><rect fill=\"#FEFECE\" filter=\"url(#fe8b8raazkebl)\" height=\"45.9375\" id=\"E10\" rx=\"10\" ry=\"10\" style=\"stroke: #A80036; stroke-width: 1.5;\" width=\"42\" x=\"163\" y=\"54\"/><text fill=\"#000000\" font-family=\"sans-serif\" font-size=\"12\" font-style=\"italic\" lengthAdjust=\"spacingAndGlyphs\" textLength=\"40\" x=\"164\" y=\"70.1387\">«part»</text><text fill=\"#000000\" font-family=\"sans-serif\" font-size=\"12\" lengthAdjust=\"spacingAndGlyphs\" textLength=\"8\" x=\"180\" y=\"84.1074\">g</text><line style=\"stroke: #A80036; stroke-width: 1.5;\" x1=\"164\" x2=\"204\" y1=\"91.9375\" y2=\"91.9375\"/></a><!--MD5=[1dd1bfd58a279cf63c5f349dbc8fc6a1]\n",
       "class E11--><a href=\"psysml:423769db-1814-486c-a3b1-3214b1eae655\" target=\"_top\" title=\"psysml:423769db-1814-486c-a3b1-3214b1eae655\" xlink:actuate=\"onRequest\" xlink:href=\"psysml:423769db-1814-486c-a3b1-3214b1eae655\" xlink:show=\"new\" xlink:title=\"psysml:423769db-1814-486c-a3b1-3214b1eae655\" xlink:type=\"simple\"><rect fill=\"#FEFECE\" filter=\"url(#fe8b8raazkebl)\" height=\"71.5469\" id=\"E11\" style=\"stroke: #A80036; stroke-width: 1.5;\" width=\"95\" x=\"32.5\" y=\"41\"/><text fill=\"#000000\" font-family=\"sans-serif\" font-size=\"12\" font-style=\"italic\" lengthAdjust=\"spacingAndGlyphs\" textLength=\"93\" x=\"33.5\" y=\"57.1387\">«attribute def»</text><text fill=\"#000000\" font-family=\"sans-serif\" font-size=\"12\" lengthAdjust=\"spacingAndGlyphs\" textLength=\"8\" x=\"76\" y=\"71.1074\">A</text><line style=\"stroke: #A80036; stroke-width: 1.5;\" x1=\"33.5\" x2=\"126.5\" y1=\"78.9375\" y2=\"78.9375\"/><text fill=\"#000000\" font-family=\"sans-serif\" font-size=\"11\" lengthAdjust=\"spacingAndGlyphs\" textLength=\"51\" x=\"38.5\" y=\"93.1479\">i: Integer</text><text fill=\"#000000\" font-family=\"sans-serif\" font-size=\"11\" lengthAdjust=\"spacingAndGlyphs\" textLength=\"21\" x=\"38.5\" y=\"105.9526\">x: A</text></a><!--MD5=[15ebcb19ae302d9b601edb458606d402]\n",
       "link E5 to E2--><a href=\"psysml:56ee8f03-05cc-4672-92a5-af5f15d564f5\" target=\"_top\" title=\"psysml:56ee8f03-05cc-4672-92a5-af5f15d564f5\" xlink:actuate=\"onRequest\" xlink:href=\"psysml:56ee8f03-05cc-4672-92a5-af5f15d564f5\" xlink:show=\"new\" xlink:title=\"psysml:56ee8f03-05cc-4672-92a5-af5f15d564f5\" xlink:type=\"simple\"><path d=\"M561.66,100.01 C556.63,115.11 549.8,135.61 543.76,153.71 \" fill=\"none\" id=\"E5-&gt;E2\" style=\"stroke: #A80036; stroke-width: 1.0;\"/><polygon fill=\"#FFFFFF\" points=\"537.44,172.69,536.7984,152.4517,550.082,156.8729,537.44,172.69\" style=\"stroke: #A80036; stroke-width: 1.0;\"/><ellipse cx=\"540.4961\" cy=\"147.675\" fill=\"#A80036\" rx=\"2\" ry=\"2\" style=\"stroke: #A80036; stroke-width: 1.0;\"/><ellipse cx=\"549.9844\" cy=\"150.833\" fill=\"#A80036\" rx=\"2\" ry=\"2\" style=\"stroke: #A80036; stroke-width: 1.0;\"/></a><!--MD5=[2351f337d6de0f557b50152ba70847b5]\n",
       "link E6 to E2--><a href=\"psysml:34caeea3-9e32-4456-be5b-df49f4f1b3a4\" target=\"_top\" title=\"psysml:34caeea3-9e32-4456-be5b-df49f4f1b3a4\" xlink:actuate=\"onRequest\" xlink:href=\"psysml:34caeea3-9e32-4456-be5b-df49f4f1b3a4\" xlink:show=\"new\" xlink:title=\"psysml:34caeea3-9e32-4456-be5b-df49f4f1b3a4\" xlink:type=\"simple\"><path d=\"M499.15,100.01 C504.03,115.03 510.64,135.39 516.49,153.41 \" fill=\"none\" id=\"E6-&gt;E2\" style=\"stroke: #A80036; stroke-width: 1.0;\"/><polygon fill=\"#FFFFFF\" points=\"522.76,172.69,510.2363,156.7791,523.5525,152.4571,522.76,172.69\" style=\"stroke: #A80036; stroke-width: 1.0;\"/><ellipse cx=\"510.379\" cy=\"150.74\" fill=\"#A80036\" rx=\"2\" ry=\"2\" style=\"stroke: #A80036; stroke-width: 1.0;\"/><ellipse cx=\"519.8905\" cy=\"147.6529\" fill=\"#A80036\" rx=\"2\" ry=\"2\" style=\"stroke: #A80036; stroke-width: 1.0;\"/></a><!--MD5=[40bf91ae04bcd4c268790d27d7a5addc]\n",
       "@startuml\r\n",
       "skinparam wrapWidth 300\r\n",
       "hide circle\r\n",
       "\r\n",
       "package \"MultiplicityTest\" as E1  [[psysml:917c8e98-308c-4a57-bedc-72bb13927275 ]]  {\r\n",
       "comp def \"P\" as E2  <<(T,blue) part def>> [[psysml:1b8e2ab6-001b-4483-8406-5463ddd95a77 ]] {\r\n",
       "}\r\n",
       "comp usage \"n: Integer\" as E3  <<(T,blue) attribute>> [[psysml:d0e8f829-c575-44a2-9ede-b108238de40c ]] {\r\n",
       "}\r\n",
       "comp usage \"a\" as E4  <<(T,blue) part>> [[psysml:2de2cbdc-62e6-485a-a7d2-bee7f587f60d ]] {\r\n",
       "}\r\n",
       "comp usage \"b: P\" as E5  <<(T,blue) part>> [[psysml:a47b2c6e-81dd-4a7f-97e2-f2f751620c17 ]] {\r\n",
       "}\r\n",
       "comp usage \"c: P\" as E6  <<(T,blue) part>> [[psysml:46e4b238-da26-40c7-b1f6-d3a4f2631481 ]] {\r\n",
       "}\r\n",
       "comp usage \"d\" as E7  <<(T,blue) part>> [[psysml:862abcb1-d094-4d1f-a90d-b0af915cd2bb ]] {\r\n",
       "}\r\n",
       "comp usage \"e\" as E8  <<(T,blue) part>> [[psysml:0f8b0aa8-e59b-4cfe-b590-8672d08a4434 ]] {\r\n",
       "}\r\n",
       "comp usage \"f\" as E9  <<(T,blue) part>> [[psysml:07bb6063-49af-4acb-bb76-a6a51f542bf8 ]] {\r\n",
       "}\r\n",
       "comp usage \"g\" as E10  <<(T,blue) part>> [[psysml:87a6ec87-e214-496f-a09f-1f6dfd597ed3 ]] {\r\n",
       "}\r\n",
       "comp def \"A\" as E11  <<(T,blue) attribute def>> [[psysml:423769db-1814-486c-a3b1-3214b1eae655 ]] {\r\n",
       "i: Integer\r\n",
       "x: A\r\n",
       "}\r\n",
       "}\r\n",
       "E5 - -:|> E2 [[psysml:56ee8f03-05cc-4672-92a5-af5f15d564f5 ]] \r\n",
       "E6 - -:|> E2 [[psysml:34caeea3-9e32-4456-be5b-df49f4f1b3a4 ]] \r\n",
       "@enduml\r\n",
       "\n",
       "PlantUML version 1.2020.13(Sat Jun 13 12:26:38 UTC 2020)\n",
       "(EPL source distribution)\n",
       "Java Runtime: OpenJDK Runtime Environment\n",
       "JVM: OpenJDK 64-Bit Server VM\n",
       "Default Encoding: UTF-8\n",
       "Language: en\n",
       "Country: null\n",
       "--></g></svg>"
      ]
     },
     "execution_count": 29,
     "metadata": {},
     "output_type": "execute_result"
    }
   ],
   "source": [
    "%viz --style=\"STDCOLOR\" --view=\"MIXED\" \"MultiplicityTest\""
   ]
  },
  {
   "cell_type": "code",
   "execution_count": 30,
   "id": "f1f942de",
   "metadata": {
    "execution": {
     "iopub.execute_input": "2021-10-03T08:30:20.752821Z",
     "iopub.status.busy": "2021-10-03T08:30:20.752429Z",
     "iopub.status.idle": "2021-10-03T08:30:20.822201Z",
     "shell.execute_reply": "2021-10-03T08:30:20.821852Z"
    }
   },
   "outputs": [
    {
     "data": {
      "image/svg+xml": [
       "<?xml version=\"1.0\" encoding=\"UTF-8\" standalone=\"no\"?><svg xmlns=\"http://www.w3.org/2000/svg\" xmlns:xlink=\"http://www.w3.org/1999/xlink\" contentScriptType=\"application/ecmascript\" contentStyleType=\"text/css\" height=\"241px\" preserveAspectRatio=\"none\" style=\"width:1045px;height:241px;\" version=\"1.1\" viewBox=\"0 0 1045 241\" width=\"1045px\" zoomAndPan=\"magnify\"><defs><filter height=\"300%\" id=\"f1aag2xcrl8juw\" width=\"300%\" x=\"-1\" y=\"-1\"><feGaussianBlur result=\"blurOut\" stdDeviation=\"2.0\"/><feColorMatrix in=\"blurOut\" result=\"blurOut2\" type=\"matrix\" values=\"0 0 0 0 0 0 0 0 0 0 0 0 0 0 0 0 0 0 .4 0\"/><feOffset dx=\"4.0\" dy=\"4.0\" in=\"blurOut2\" result=\"blurOut3\"/><feBlend in=\"SourceGraphic\" in2=\"blurOut3\" mode=\"normal\"/></filter></defs><g><!--MD5=[fbc87193dbaf4d95561dea2c320d4a47]\n",
       "cluster E1--><a href=\"psysml:917c8e98-308c-4a57-bedc-72bb13927275\" target=\"_top\" title=\"psysml:917c8e98-308c-4a57-bedc-72bb13927275\" xlink:actuate=\"onRequest\" xlink:href=\"psysml:917c8e98-308c-4a57-bedc-72bb13927275\" xlink:show=\"new\" xlink:title=\"psysml:917c8e98-308c-4a57-bedc-72bb13927275\" xlink:type=\"simple\"><polygon fill=\"#FFFFFF\" filter=\"url(#f1aag2xcrl8juw)\" points=\"16,6,123,6,130,28.2969,1023,28.2969,1023,229,16,229,16,6\" style=\"stroke: #000000; stroke-width: 1.5;\"/><line style=\"stroke: #000000; stroke-width: 1.5;\" x1=\"16\" x2=\"130\" y1=\"28.2969\" y2=\"28.2969\"/><text fill=\"#000000\" font-family=\"sans-serif\" font-size=\"14\" font-weight=\"bold\" lengthAdjust=\"spacingAndGlyphs\" textLength=\"101\" x=\"20\" y=\"20.9951\">MultiplicityTest</text></a><!--MD5=[b4997ac47864f28c2f74865a473b2911]\n",
       "class E2--><a href=\"psysml:1b8e2ab6-001b-4483-8406-5463ddd95a77\" target=\"_top\" title=\"psysml:1b8e2ab6-001b-4483-8406-5463ddd95a77\" xlink:actuate=\"onRequest\" xlink:href=\"psysml:1b8e2ab6-001b-4483-8406-5463ddd95a77\" xlink:show=\"new\" xlink:title=\"psysml:1b8e2ab6-001b-4483-8406-5463ddd95a77\" xlink:type=\"simple\"><rect fill=\"#FEFECE\" filter=\"url(#f1aag2xcrl8juw)\" height=\"40\" id=\"E2\" style=\"stroke: #A80036; stroke-width: 1.5;\" width=\"40\" x=\"666\" y=\"173\"/><ellipse cx=\"681\" cy=\"189\" fill=\"#008000\" rx=\"11\" ry=\"11\" style=\"stroke: #A80036; stroke-width: 1.0;\"/><path d=\"M677.875,194 L677.875,183.4063 L681.1094,183.4063 Q683.0156,183.4063 683.9219,184.1563 Q684.8438,184.9063 684.8438,186.0781 Q684.8438,186.7656 684.4531,187.4219 Q684.0781,188.0781 683.3594,188.375 Q684.2188,188.75 684.7344,189.4375 Q685.25,190.125 685.25,190.9375 Q685.25,192.3125 684.2188,193.1563 Q683.2031,194 681.0938,194 L677.875,194 Z M679.7969,187.6406 L680.9531,187.6406 Q682.0781,187.6406 682.4844,187.2656 Q682.9063,186.875 682.9063,186.25 Q682.9063,185.6719 682.4844,185.3125 Q682.0625,184.9531 681.125,184.9531 L679.7969,184.9531 L679.7969,187.6406 Z M679.7969,192.4219 L681.2969,192.4219 Q682.2031,192.4219 682.7344,192.0313 Q683.2656,191.6406 683.2656,190.8906 Q683.2656,190.125 682.7656,189.6563 Q682.2656,189.1719 681,189.1719 L679.7969,189.1719 L679.7969,192.4219 Z \"/><text fill=\"#000000\" font-family=\"sans-serif\" font-size=\"12\" lengthAdjust=\"spacingAndGlyphs\" textLength=\"8\" x=\"695\" y=\"193.1543\">P</text><line style=\"stroke: #A80036; stroke-width: 1.5;\" x1=\"667\" x2=\"705\" y1=\"205\" y2=\"205\"/></a><!--MD5=[09b614a08d8cba4a07c9adeb5e0fee81]\n",
       "class E3--><a href=\"psysml:d0e8f829-c575-44a2-9ede-b108238de40c\" target=\"_top\" title=\"psysml:d0e8f829-c575-44a2-9ede-b108238de40c\" xlink:actuate=\"onRequest\" xlink:href=\"psysml:d0e8f829-c575-44a2-9ede-b108238de40c\" xlink:show=\"new\" xlink:title=\"psysml:d0e8f829-c575-44a2-9ede-b108238de40c\" xlink:type=\"simple\"><rect fill=\"#FEFECE\" filter=\"url(#f1aag2xcrl8juw)\" height=\"45.9375\" id=\"E3\" rx=\"10\" ry=\"10\" style=\"stroke: #A80036; stroke-width: 1.5;\" width=\"97\" x=\"910.5\" y=\"54\"/><ellipse cx=\"925.5\" cy=\"72.9688\" fill=\"#FFA500\" rx=\"11\" ry=\"11\" style=\"stroke: #A80036; stroke-width: 1.0;\"/><path d=\"M925.25,78.4375 Q923.5,78.4375 922.5469,77.4063 Q921.6094,76.3594 921.6094,74.5156 L921.6094,67.625 L923.6719,67.625 L923.6719,67.7813 Q923.5781,67.875 923.5469,68.0156 Q923.5313,68.1406 923.5313,68.4063 L923.5313,74.5313 Q923.5313,75.625 923.9063,76.25 Q924.2813,76.875 925.2656,76.875 Q926.25,76.875 926.6406,76.25 Q927.0313,75.625 927.0313,74.4844 L927.0313,67.625 L928.9063,67.625 L928.9063,74.4688 Q928.9063,76.5 927.875,77.4688 Q926.8594,78.4375 925.25,78.4375 Z \"/><text fill=\"#000000\" font-family=\"sans-serif\" font-size=\"12\" font-style=\"italic\" lengthAdjust=\"spacingAndGlyphs\" textLength=\"69\" x=\"937.5\" y=\"70.1387\">«attribute»</text><text fill=\"#000000\" font-family=\"sans-serif\" font-size=\"12\" lengthAdjust=\"spacingAndGlyphs\" textLength=\"61\" x=\"941.5\" y=\"84.1074\">n: Integer</text><line style=\"stroke: #A80036; stroke-width: 1.5;\" x1=\"911.5\" x2=\"1006.5\" y1=\"91.9375\" y2=\"91.9375\"/></a><!--MD5=[ebbe1d658d1005bcc118a6aa81145e00]\n",
       "class E4--><a href=\"psysml:2de2cbdc-62e6-485a-a7d2-bee7f587f60d\" target=\"_top\" title=\"psysml:2de2cbdc-62e6-485a-a7d2-bee7f587f60d\" xlink:actuate=\"onRequest\" xlink:href=\"psysml:2de2cbdc-62e6-485a-a7d2-bee7f587f60d\" xlink:show=\"new\" xlink:title=\"psysml:2de2cbdc-62e6-485a-a7d2-bee7f587f60d\" xlink:type=\"simple\"><rect fill=\"#FEFECE\" filter=\"url(#f1aag2xcrl8juw)\" height=\"45.9375\" id=\"E4\" rx=\"10\" ry=\"10\" style=\"stroke: #A80036; stroke-width: 1.5;\" width=\"68\" x=\"807\" y=\"54\"/><ellipse cx=\"822\" cy=\"72.9688\" fill=\"#32CD32\" rx=\"11\" ry=\"11\" style=\"stroke: #A80036; stroke-width: 1.0;\"/><path d=\"M818.8125,77.9688 L818.8125,67.375 L822.4219,67.375 Q823.6406,67.375 824.4375,67.8125 Q825.2344,68.2344 825.6094,68.9375 Q826,69.6406 826,70.4844 Q826,71.3281 825.625,72.0156 Q825.2656,72.7031 824.4688,73.125 Q823.6875,73.5313 822.5,73.5313 L820.7656,73.5313 L820.7656,77.9688 L818.8125,77.9688 Z M820.7656,71.9375 L822.375,71.9375 Q823.1875,71.9375 823.6094,71.5313 Q824.0313,71.125 824.0313,70.4844 Q824.0313,69.8594 823.6094,69.4531 Q823.1875,69.0469 822.3906,69.0469 L820.7656,69.0469 L820.7656,71.9375 Z \"/><text fill=\"#000000\" font-family=\"sans-serif\" font-size=\"12\" font-style=\"italic\" lengthAdjust=\"spacingAndGlyphs\" textLength=\"40\" x=\"834\" y=\"70.1387\">«part»</text><text fill=\"#000000\" font-family=\"sans-serif\" font-size=\"12\" lengthAdjust=\"spacingAndGlyphs\" textLength=\"8\" x=\"850\" y=\"84.1074\">a</text><line style=\"stroke: #A80036; stroke-width: 1.5;\" x1=\"808\" x2=\"874\" y1=\"91.9375\" y2=\"91.9375\"/></a><!--MD5=[270fce915f116d4de14055a7c1d9a0f3]\n",
       "class E5--><a href=\"psysml:a47b2c6e-81dd-4a7f-97e2-f2f751620c17\" target=\"_top\" title=\"psysml:a47b2c6e-81dd-4a7f-97e2-f2f751620c17\" xlink:actuate=\"onRequest\" xlink:href=\"psysml:a47b2c6e-81dd-4a7f-97e2-f2f751620c17\" xlink:show=\"new\" xlink:title=\"psysml:a47b2c6e-81dd-4a7f-97e2-f2f751620c17\" xlink:type=\"simple\"><rect fill=\"#FEFECE\" filter=\"url(#f1aag2xcrl8juw)\" height=\"45.9375\" id=\"E5\" rx=\"10\" ry=\"10\" style=\"stroke: #A80036; stroke-width: 1.5;\" width=\"68\" x=\"704\" y=\"54\"/><ellipse cx=\"719\" cy=\"72.9688\" fill=\"#32CD32\" rx=\"11\" ry=\"11\" style=\"stroke: #A80036; stroke-width: 1.0;\"/><path d=\"M715.8125,77.9688 L715.8125,67.375 L719.4219,67.375 Q720.6406,67.375 721.4375,67.8125 Q722.2344,68.2344 722.6094,68.9375 Q723,69.6406 723,70.4844 Q723,71.3281 722.625,72.0156 Q722.2656,72.7031 721.4688,73.125 Q720.6875,73.5313 719.5,73.5313 L717.7656,73.5313 L717.7656,77.9688 L715.8125,77.9688 Z M717.7656,71.9375 L719.375,71.9375 Q720.1875,71.9375 720.6094,71.5313 Q721.0313,71.125 721.0313,70.4844 Q721.0313,69.8594 720.6094,69.4531 Q720.1875,69.0469 719.3906,69.0469 L717.7656,69.0469 L717.7656,71.9375 Z \"/><text fill=\"#000000\" font-family=\"sans-serif\" font-size=\"12\" font-style=\"italic\" lengthAdjust=\"spacingAndGlyphs\" textLength=\"40\" x=\"731\" y=\"70.1387\">«part»</text><text fill=\"#000000\" font-family=\"sans-serif\" font-size=\"12\" lengthAdjust=\"spacingAndGlyphs\" textLength=\"24\" x=\"739\" y=\"84.1074\">b: P</text><line style=\"stroke: #A80036; stroke-width: 1.5;\" x1=\"705\" x2=\"771\" y1=\"91.9375\" y2=\"91.9375\"/></a><!--MD5=[60a26617385b1d2d0262a64233df1f8d]\n",
       "class E6--><a href=\"psysml:46e4b238-da26-40c7-b1f6-d3a4f2631481\" target=\"_top\" title=\"psysml:46e4b238-da26-40c7-b1f6-d3a4f2631481\" xlink:actuate=\"onRequest\" xlink:href=\"psysml:46e4b238-da26-40c7-b1f6-d3a4f2631481\" xlink:show=\"new\" xlink:title=\"psysml:46e4b238-da26-40c7-b1f6-d3a4f2631481\" xlink:type=\"simple\"><rect fill=\"#FEFECE\" filter=\"url(#f1aag2xcrl8juw)\" height=\"45.9375\" id=\"E6\" rx=\"10\" ry=\"10\" style=\"stroke: #A80036; stroke-width: 1.5;\" width=\"68\" x=\"601\" y=\"54\"/><ellipse cx=\"616\" cy=\"72.9688\" fill=\"#32CD32\" rx=\"11\" ry=\"11\" style=\"stroke: #A80036; stroke-width: 1.0;\"/><path d=\"M612.8125,77.9688 L612.8125,67.375 L616.4219,67.375 Q617.6406,67.375 618.4375,67.8125 Q619.2344,68.2344 619.6094,68.9375 Q620,69.6406 620,70.4844 Q620,71.3281 619.625,72.0156 Q619.2656,72.7031 618.4688,73.125 Q617.6875,73.5313 616.5,73.5313 L614.7656,73.5313 L614.7656,77.9688 L612.8125,77.9688 Z M614.7656,71.9375 L616.375,71.9375 Q617.1875,71.9375 617.6094,71.5313 Q618.0313,71.125 618.0313,70.4844 Q618.0313,69.8594 617.6094,69.4531 Q617.1875,69.0469 616.3906,69.0469 L614.7656,69.0469 L614.7656,71.9375 Z \"/><text fill=\"#000000\" font-family=\"sans-serif\" font-size=\"12\" font-style=\"italic\" lengthAdjust=\"spacingAndGlyphs\" textLength=\"40\" x=\"628\" y=\"70.1387\">«part»</text><text fill=\"#000000\" font-family=\"sans-serif\" font-size=\"12\" lengthAdjust=\"spacingAndGlyphs\" textLength=\"23\" x=\"636.5\" y=\"84.1074\">c: P</text><line style=\"stroke: #A80036; stroke-width: 1.5;\" x1=\"602\" x2=\"668\" y1=\"91.9375\" y2=\"91.9375\"/></a><!--MD5=[2156ba9850f5573cc1fc38a6a4b2f02b]\n",
       "class E7--><a href=\"psysml:862abcb1-d094-4d1f-a90d-b0af915cd2bb\" target=\"_top\" title=\"psysml:862abcb1-d094-4d1f-a90d-b0af915cd2bb\" xlink:actuate=\"onRequest\" xlink:href=\"psysml:862abcb1-d094-4d1f-a90d-b0af915cd2bb\" xlink:show=\"new\" xlink:title=\"psysml:862abcb1-d094-4d1f-a90d-b0af915cd2bb\" xlink:type=\"simple\"><rect fill=\"#FEFECE\" filter=\"url(#f1aag2xcrl8juw)\" height=\"45.9375\" id=\"E7\" rx=\"10\" ry=\"10\" style=\"stroke: #A80036; stroke-width: 1.5;\" width=\"68\" x=\"498\" y=\"54\"/><ellipse cx=\"513\" cy=\"72.9688\" fill=\"#32CD32\" rx=\"11\" ry=\"11\" style=\"stroke: #A80036; stroke-width: 1.0;\"/><path d=\"M509.8125,77.9688 L509.8125,67.375 L513.4219,67.375 Q514.6406,67.375 515.4375,67.8125 Q516.2344,68.2344 516.6094,68.9375 Q517,69.6406 517,70.4844 Q517,71.3281 516.625,72.0156 Q516.2656,72.7031 515.4688,73.125 Q514.6875,73.5313 513.5,73.5313 L511.7656,73.5313 L511.7656,77.9688 L509.8125,77.9688 Z M511.7656,71.9375 L513.375,71.9375 Q514.1875,71.9375 514.6094,71.5313 Q515.0313,71.125 515.0313,70.4844 Q515.0313,69.8594 514.6094,69.4531 Q514.1875,69.0469 513.3906,69.0469 L511.7656,69.0469 L511.7656,71.9375 Z \"/><text fill=\"#000000\" font-family=\"sans-serif\" font-size=\"12\" font-style=\"italic\" lengthAdjust=\"spacingAndGlyphs\" textLength=\"40\" x=\"525\" y=\"70.1387\">«part»</text><text fill=\"#000000\" font-family=\"sans-serif\" font-size=\"12\" lengthAdjust=\"spacingAndGlyphs\" textLength=\"8\" x=\"541\" y=\"84.1074\">d</text><line style=\"stroke: #A80036; stroke-width: 1.5;\" x1=\"499\" x2=\"565\" y1=\"91.9375\" y2=\"91.9375\"/></a><!--MD5=[b9389687b975829384b498ac4b7476b2]\n",
       "class E8--><a href=\"psysml:0f8b0aa8-e59b-4cfe-b590-8672d08a4434\" target=\"_top\" title=\"psysml:0f8b0aa8-e59b-4cfe-b590-8672d08a4434\" xlink:actuate=\"onRequest\" xlink:href=\"psysml:0f8b0aa8-e59b-4cfe-b590-8672d08a4434\" xlink:show=\"new\" xlink:title=\"psysml:0f8b0aa8-e59b-4cfe-b590-8672d08a4434\" xlink:type=\"simple\"><rect fill=\"#FEFECE\" filter=\"url(#f1aag2xcrl8juw)\" height=\"45.9375\" id=\"E8\" rx=\"10\" ry=\"10\" style=\"stroke: #A80036; stroke-width: 1.5;\" width=\"68\" x=\"395\" y=\"54\"/><ellipse cx=\"410\" cy=\"72.9688\" fill=\"#32CD32\" rx=\"11\" ry=\"11\" style=\"stroke: #A80036; stroke-width: 1.0;\"/><path d=\"M406.8125,77.9688 L406.8125,67.375 L410.4219,67.375 Q411.6406,67.375 412.4375,67.8125 Q413.2344,68.2344 413.6094,68.9375 Q414,69.6406 414,70.4844 Q414,71.3281 413.625,72.0156 Q413.2656,72.7031 412.4688,73.125 Q411.6875,73.5313 410.5,73.5313 L408.7656,73.5313 L408.7656,77.9688 L406.8125,77.9688 Z M408.7656,71.9375 L410.375,71.9375 Q411.1875,71.9375 411.6094,71.5313 Q412.0313,71.125 412.0313,70.4844 Q412.0313,69.8594 411.6094,69.4531 Q411.1875,69.0469 410.3906,69.0469 L408.7656,69.0469 L408.7656,71.9375 Z \"/><text fill=\"#000000\" font-family=\"sans-serif\" font-size=\"12\" font-style=\"italic\" lengthAdjust=\"spacingAndGlyphs\" textLength=\"40\" x=\"422\" y=\"70.1387\">«part»</text><text fill=\"#000000\" font-family=\"sans-serif\" font-size=\"12\" lengthAdjust=\"spacingAndGlyphs\" textLength=\"8\" x=\"438\" y=\"84.1074\">e</text><line style=\"stroke: #A80036; stroke-width: 1.5;\" x1=\"396\" x2=\"462\" y1=\"91.9375\" y2=\"91.9375\"/></a><!--MD5=[fd4143e9d270a159db93a4ea2a975926]\n",
       "class E9--><a href=\"psysml:07bb6063-49af-4acb-bb76-a6a51f542bf8\" target=\"_top\" title=\"psysml:07bb6063-49af-4acb-bb76-a6a51f542bf8\" xlink:actuate=\"onRequest\" xlink:href=\"psysml:07bb6063-49af-4acb-bb76-a6a51f542bf8\" xlink:show=\"new\" xlink:title=\"psysml:07bb6063-49af-4acb-bb76-a6a51f542bf8\" xlink:type=\"simple\"><rect fill=\"#FEFECE\" filter=\"url(#f1aag2xcrl8juw)\" height=\"45.9375\" id=\"E9\" rx=\"10\" ry=\"10\" style=\"stroke: #A80036; stroke-width: 1.5;\" width=\"68\" x=\"292\" y=\"54\"/><ellipse cx=\"307\" cy=\"72.9688\" fill=\"#32CD32\" rx=\"11\" ry=\"11\" style=\"stroke: #A80036; stroke-width: 1.0;\"/><path d=\"M303.8125,77.9688 L303.8125,67.375 L307.4219,67.375 Q308.6406,67.375 309.4375,67.8125 Q310.2344,68.2344 310.6094,68.9375 Q311,69.6406 311,70.4844 Q311,71.3281 310.625,72.0156 Q310.2656,72.7031 309.4688,73.125 Q308.6875,73.5313 307.5,73.5313 L305.7656,73.5313 L305.7656,77.9688 L303.8125,77.9688 Z M305.7656,71.9375 L307.375,71.9375 Q308.1875,71.9375 308.6094,71.5313 Q309.0313,71.125 309.0313,70.4844 Q309.0313,69.8594 308.6094,69.4531 Q308.1875,69.0469 307.3906,69.0469 L305.7656,69.0469 L305.7656,71.9375 Z \"/><text fill=\"#000000\" font-family=\"sans-serif\" font-size=\"12\" font-style=\"italic\" lengthAdjust=\"spacingAndGlyphs\" textLength=\"40\" x=\"319\" y=\"70.1387\">«part»</text><text fill=\"#000000\" font-family=\"sans-serif\" font-size=\"12\" lengthAdjust=\"spacingAndGlyphs\" textLength=\"4\" x=\"337\" y=\"84.1074\">f</text><line style=\"stroke: #A80036; stroke-width: 1.5;\" x1=\"293\" x2=\"359\" y1=\"91.9375\" y2=\"91.9375\"/></a><!--MD5=[96f4274e9e20536e775497830990834d]\n",
       "class E10--><a href=\"psysml:87a6ec87-e214-496f-a09f-1f6dfd597ed3\" target=\"_top\" title=\"psysml:87a6ec87-e214-496f-a09f-1f6dfd597ed3\" xlink:actuate=\"onRequest\" xlink:href=\"psysml:87a6ec87-e214-496f-a09f-1f6dfd597ed3\" xlink:show=\"new\" xlink:title=\"psysml:87a6ec87-e214-496f-a09f-1f6dfd597ed3\" xlink:type=\"simple\"><rect fill=\"#FEFECE\" filter=\"url(#f1aag2xcrl8juw)\" height=\"45.9375\" id=\"E10\" rx=\"10\" ry=\"10\" style=\"stroke: #A80036; stroke-width: 1.5;\" width=\"68\" x=\"189\" y=\"54\"/><ellipse cx=\"204\" cy=\"72.9688\" fill=\"#32CD32\" rx=\"11\" ry=\"11\" style=\"stroke: #A80036; stroke-width: 1.0;\"/><path d=\"M200.8125,77.9688 L200.8125,67.375 L204.4219,67.375 Q205.6406,67.375 206.4375,67.8125 Q207.2344,68.2344 207.6094,68.9375 Q208,69.6406 208,70.4844 Q208,71.3281 207.625,72.0156 Q207.2656,72.7031 206.4688,73.125 Q205.6875,73.5313 204.5,73.5313 L202.7656,73.5313 L202.7656,77.9688 L200.8125,77.9688 Z M202.7656,71.9375 L204.375,71.9375 Q205.1875,71.9375 205.6094,71.5313 Q206.0313,71.125 206.0313,70.4844 Q206.0313,69.8594 205.6094,69.4531 Q205.1875,69.0469 204.3906,69.0469 L202.7656,69.0469 L202.7656,71.9375 Z \"/><text fill=\"#000000\" font-family=\"sans-serif\" font-size=\"12\" font-style=\"italic\" lengthAdjust=\"spacingAndGlyphs\" textLength=\"40\" x=\"216\" y=\"70.1387\">«part»</text><text fill=\"#000000\" font-family=\"sans-serif\" font-size=\"12\" lengthAdjust=\"spacingAndGlyphs\" textLength=\"8\" x=\"232\" y=\"84.1074\">g</text><line style=\"stroke: #A80036; stroke-width: 1.5;\" x1=\"190\" x2=\"256\" y1=\"91.9375\" y2=\"91.9375\"/></a><!--MD5=[1dd1bfd58a279cf63c5f349dbc8fc6a1]\n",
       "class E11--><a href=\"psysml:423769db-1814-486c-a3b1-3214b1eae655\" target=\"_top\" title=\"psysml:423769db-1814-486c-a3b1-3214b1eae655\" xlink:actuate=\"onRequest\" xlink:href=\"psysml:423769db-1814-486c-a3b1-3214b1eae655\" xlink:show=\"new\" xlink:title=\"psysml:423769db-1814-486c-a3b1-3214b1eae655\" xlink:type=\"simple\"><rect fill=\"#FEFECE\" filter=\"url(#f1aag2xcrl8juw)\" height=\"71.5469\" id=\"E11\" style=\"stroke: #A80036; stroke-width: 1.5;\" width=\"121\" x=\"32.5\" y=\"41\"/><ellipse cx=\"47.5\" cy=\"59.9688\" fill=\"#A52A2A\" rx=\"11\" ry=\"11\" style=\"stroke: #A80036; stroke-width: 1.0;\"/><path d=\"M44.7188,64.9688 L44.7188,54.375 L47.4531,54.375 Q48.8438,54.375 49.6094,54.7656 Q50.3906,55.1406 50.9219,55.8438 Q51.4531,56.5469 51.75,57.5469 Q52.0469,58.5313 52.0469,59.75 Q52,61.3438 51.5,62.5313 Q51.0156,63.7031 49.9688,64.3438 Q48.9375,64.9688 47.25,64.9688 L44.7188,64.9688 Z M46.5781,63.4688 L47.2031,63.4688 Q48.2813,63.4688 48.9375,63.0156 Q49.5938,62.5625 49.875,61.7344 Q50.1719,60.8906 50.1563,59.7656 Q50.1563,58.5938 49.9063,57.7344 Q49.6563,56.8594 49.0469,56.3906 Q48.4375,55.9063 47.3906,55.9063 L46.5781,55.9063 L46.5781,63.4688 Z \"/><text fill=\"#000000\" font-family=\"sans-serif\" font-size=\"12\" font-style=\"italic\" lengthAdjust=\"spacingAndGlyphs\" textLength=\"93\" x=\"59.5\" y=\"57.1387\">«attribute def»</text><text fill=\"#000000\" font-family=\"sans-serif\" font-size=\"12\" lengthAdjust=\"spacingAndGlyphs\" textLength=\"8\" x=\"102\" y=\"71.1074\">A</text><line style=\"stroke: #A80036; stroke-width: 1.5;\" x1=\"33.5\" x2=\"152.5\" y1=\"78.9375\" y2=\"78.9375\"/><text fill=\"#000000\" font-family=\"sans-serif\" font-size=\"11\" lengthAdjust=\"spacingAndGlyphs\" textLength=\"51\" x=\"38.5\" y=\"93.1479\">i: Integer</text><text fill=\"#000000\" font-family=\"sans-serif\" font-size=\"11\" lengthAdjust=\"spacingAndGlyphs\" textLength=\"21\" x=\"38.5\" y=\"105.9526\">x: A</text></a><!--MD5=[15ebcb19ae302d9b601edb458606d402]\n",
       "link E5 to E2--><a href=\"psysml:56ee8f03-05cc-4672-92a5-af5f15d564f5\" target=\"_top\" title=\"psysml:56ee8f03-05cc-4672-92a5-af5f15d564f5\" xlink:actuate=\"onRequest\" xlink:href=\"psysml:56ee8f03-05cc-4672-92a5-af5f15d564f5\" xlink:show=\"new\" xlink:title=\"psysml:56ee8f03-05cc-4672-92a5-af5f15d564f5\" xlink:type=\"simple\"><path d=\"M727.85,100.25 C720.81,115.68 711.27,136.61 703.07,154.58 \" fill=\"none\" id=\"E5-&gt;E2\" style=\"stroke: #A80036; stroke-width: 1.0;\"/><polygon fill=\"#FFFFFF\" points=\"694.74,172.84,696.2548,152.6483,708.9927,158.4573,694.74,172.84\" style=\"stroke: #A80036; stroke-width: 1.0;\"/><ellipse cx=\"700.4396\" cy=\"148.292\" fill=\"#A80036\" rx=\"2\" ry=\"2\" style=\"stroke: #A80036; stroke-width: 1.0;\"/><ellipse cx=\"709.5381\" cy=\"152.4413\" fill=\"#A80036\" rx=\"2\" ry=\"2\" style=\"stroke: #A80036; stroke-width: 1.0;\"/></a><!--MD5=[2351f337d6de0f557b50152ba70847b5]\n",
       "link E6 to E2--><a href=\"psysml:34caeea3-9e32-4456-be5b-df49f4f1b3a4\" target=\"_top\" title=\"psysml:34caeea3-9e32-4456-be5b-df49f4f1b3a4\" xlink:actuate=\"onRequest\" xlink:href=\"psysml:34caeea3-9e32-4456-be5b-df49f4f1b3a4\" xlink:show=\"new\" xlink:title=\"psysml:34caeea3-9e32-4456-be5b-df49f4f1b3a4\" xlink:type=\"simple\"><path d=\"M644.95,100.25 C651.86,115.68 661.22,136.61 669.26,154.58 \" fill=\"none\" id=\"E6-&gt;E2\" style=\"stroke: #A80036; stroke-width: 1.0;\"/><polygon fill=\"#FFFFFF\" points=\"677.43,172.84,663.2788,158.3574,676.0573,152.6381,677.43,172.84\" style=\"stroke: #A80036; stroke-width: 1.0;\"/><ellipse cx=\"662.7757\" cy=\"152.3377\" fill=\"#A80036\" rx=\"2\" ry=\"2\" style=\"stroke: #A80036; stroke-width: 1.0;\"/><ellipse cx=\"671.9032\" cy=\"148.2525\" fill=\"#A80036\" rx=\"2\" ry=\"2\" style=\"stroke: #A80036; stroke-width: 1.0;\"/></a><!--MD5=[bc6f5b74851d9892c2ad069ea36f36b7]\n",
       "@startuml\r\n",
       " \r\n",
       "package \"MultiplicityTest\" as E1  [[psysml:917c8e98-308c-4a57-bedc-72bb13927275 ]]  {\r\n",
       "comp def \"P\" as E2 << << (B,green) >> [[psysml:1b8e2ab6-001b-4483-8406-5463ddd95a77 ]] {\r\n",
       "}\r\n",
       "comp usage \"n: Integer\" as E3 << <<(U,orange) attribute>> [[psysml:d0e8f829-c575-44a2-9ede-b108238de40c ]] {\r\n",
       "}\r\n",
       "comp usage \"a\" as E4 << << (P,limegreen) part>> [[psysml:2de2cbdc-62e6-485a-a7d2-bee7f587f60d ]] {\r\n",
       "}\r\n",
       "comp usage \"b: P\" as E5 << << (P,limegreen) part>> [[psysml:a47b2c6e-81dd-4a7f-97e2-f2f751620c17 ]] {\r\n",
       "}\r\n",
       "comp usage \"c: P\" as E6 << << (P,limegreen) part>> [[psysml:46e4b238-da26-40c7-b1f6-d3a4f2631481 ]] {\r\n",
       "}\r\n",
       "comp usage \"d\" as E7 << << (P,limegreen) part>> [[psysml:862abcb1-d094-4d1f-a90d-b0af915cd2bb ]] {\r\n",
       "}\r\n",
       "comp usage \"e\" as E8 << << (P,limegreen) part>> [[psysml:0f8b0aa8-e59b-4cfe-b590-8672d08a4434 ]] {\r\n",
       "}\r\n",
       "comp usage \"f\" as E9 << << (P,limegreen) part>> [[psysml:07bb6063-49af-4acb-bb76-a6a51f542bf8 ]] {\r\n",
       "}\r\n",
       "comp usage \"g\" as E10 << << (P,limegreen) part>> [[psysml:87a6ec87-e214-496f-a09f-1f6dfd597ed3 ]] {\r\n",
       "}\r\n",
       "comp def \"A\" as E11 << <<(D,brown) attribute def>> [[psysml:423769db-1814-486c-a3b1-3214b1eae655 ]] {\r\n",
       "i: Integer\r\n",
       "x: A\r\n",
       "}\r\n",
       "}\r\n",
       "E5 - -:|> E2 [[psysml:56ee8f03-05cc-4672-92a5-af5f15d564f5 ]] \r\n",
       "E6 - -:|> E2 [[psysml:34caeea3-9e32-4456-be5b-df49f4f1b3a4 ]] \r\n",
       "@enduml\r\n",
       "\n",
       "PlantUML version 1.2020.13(Sat Jun 13 12:26:38 UTC 2020)\n",
       "(EPL source distribution)\n",
       "Java Runtime: OpenJDK Runtime Environment\n",
       "JVM: OpenJDK 64-Bit Server VM\n",
       "Default Encoding: UTF-8\n",
       "Language: en\n",
       "Country: null\n",
       "--></g></svg>"
      ]
     },
     "execution_count": 30,
     "metadata": {},
     "output_type": "execute_result"
    }
   ],
   "source": [
    "%viz --style=\"PLANTUML\" --view=\"Default\" \"MultiplicityTest\""
   ]
  },
  {
   "cell_type": "code",
   "execution_count": 31,
   "id": "279fd06c",
   "metadata": {
    "execution": {
     "iopub.execute_input": "2021-10-03T08:30:20.871350Z",
     "iopub.status.busy": "2021-10-03T08:30:20.870958Z",
     "iopub.status.idle": "2021-10-03T08:30:20.928771Z",
     "shell.execute_reply": "2021-10-03T08:30:20.926833Z"
    }
   },
   "outputs": [
    {
     "data": {
      "image/svg+xml": [
       "<?xml version=\"1.0\" encoding=\"UTF-8\" standalone=\"no\"?><svg xmlns=\"http://www.w3.org/2000/svg\" xmlns:xlink=\"http://www.w3.org/1999/xlink\" contentScriptType=\"application/ecmascript\" contentStyleType=\"text/css\" height=\"241px\" preserveAspectRatio=\"none\" style=\"width:1045px;height:241px;\" version=\"1.1\" viewBox=\"0 0 1045 241\" width=\"1045px\" zoomAndPan=\"magnify\"><defs><filter height=\"300%\" id=\"f1aag2xcrl8juw\" width=\"300%\" x=\"-1\" y=\"-1\"><feGaussianBlur result=\"blurOut\" stdDeviation=\"2.0\"/><feColorMatrix in=\"blurOut\" result=\"blurOut2\" type=\"matrix\" values=\"0 0 0 0 0 0 0 0 0 0 0 0 0 0 0 0 0 0 .4 0\"/><feOffset dx=\"4.0\" dy=\"4.0\" in=\"blurOut2\" result=\"blurOut3\"/><feBlend in=\"SourceGraphic\" in2=\"blurOut3\" mode=\"normal\"/></filter></defs><g><!--MD5=[fbc87193dbaf4d95561dea2c320d4a47]\n",
       "cluster E1--><a href=\"psysml:917c8e98-308c-4a57-bedc-72bb13927275\" target=\"_top\" title=\"psysml:917c8e98-308c-4a57-bedc-72bb13927275\" xlink:actuate=\"onRequest\" xlink:href=\"psysml:917c8e98-308c-4a57-bedc-72bb13927275\" xlink:show=\"new\" xlink:title=\"psysml:917c8e98-308c-4a57-bedc-72bb13927275\" xlink:type=\"simple\"><polygon fill=\"#FFFFFF\" filter=\"url(#f1aag2xcrl8juw)\" points=\"16,6,123,6,130,28.2969,1023,28.2969,1023,229,16,229,16,6\" style=\"stroke: #000000; stroke-width: 1.5;\"/><line style=\"stroke: #000000; stroke-width: 1.5;\" x1=\"16\" x2=\"130\" y1=\"28.2969\" y2=\"28.2969\"/><text fill=\"#000000\" font-family=\"sans-serif\" font-size=\"14\" font-weight=\"bold\" lengthAdjust=\"spacingAndGlyphs\" textLength=\"101\" x=\"20\" y=\"20.9951\">MultiplicityTest</text></a><!--MD5=[b4997ac47864f28c2f74865a473b2911]\n",
       "class E2--><a href=\"psysml:1b8e2ab6-001b-4483-8406-5463ddd95a77\" target=\"_top\" title=\"psysml:1b8e2ab6-001b-4483-8406-5463ddd95a77\" xlink:actuate=\"onRequest\" xlink:href=\"psysml:1b8e2ab6-001b-4483-8406-5463ddd95a77\" xlink:show=\"new\" xlink:title=\"psysml:1b8e2ab6-001b-4483-8406-5463ddd95a77\" xlink:type=\"simple\"><rect fill=\"#FEFECE\" filter=\"url(#f1aag2xcrl8juw)\" height=\"40\" id=\"E2\" style=\"stroke: #A80036; stroke-width: 1.5;\" width=\"40\" x=\"666\" y=\"173\"/><ellipse cx=\"681\" cy=\"189\" fill=\"#008000\" rx=\"11\" ry=\"11\" style=\"stroke: #A80036; stroke-width: 1.0;\"/><path d=\"M677.875,194 L677.875,183.4063 L681.1094,183.4063 Q683.0156,183.4063 683.9219,184.1563 Q684.8438,184.9063 684.8438,186.0781 Q684.8438,186.7656 684.4531,187.4219 Q684.0781,188.0781 683.3594,188.375 Q684.2188,188.75 684.7344,189.4375 Q685.25,190.125 685.25,190.9375 Q685.25,192.3125 684.2188,193.1563 Q683.2031,194 681.0938,194 L677.875,194 Z M679.7969,187.6406 L680.9531,187.6406 Q682.0781,187.6406 682.4844,187.2656 Q682.9063,186.875 682.9063,186.25 Q682.9063,185.6719 682.4844,185.3125 Q682.0625,184.9531 681.125,184.9531 L679.7969,184.9531 L679.7969,187.6406 Z M679.7969,192.4219 L681.2969,192.4219 Q682.2031,192.4219 682.7344,192.0313 Q683.2656,191.6406 683.2656,190.8906 Q683.2656,190.125 682.7656,189.6563 Q682.2656,189.1719 681,189.1719 L679.7969,189.1719 L679.7969,192.4219 Z \"/><text fill=\"#000000\" font-family=\"sans-serif\" font-size=\"12\" lengthAdjust=\"spacingAndGlyphs\" textLength=\"8\" x=\"695\" y=\"193.1543\">P</text><line style=\"stroke: #A80036; stroke-width: 1.5;\" x1=\"667\" x2=\"705\" y1=\"205\" y2=\"205\"/></a><!--MD5=[09b614a08d8cba4a07c9adeb5e0fee81]\n",
       "class E3--><a href=\"psysml:d0e8f829-c575-44a2-9ede-b108238de40c\" target=\"_top\" title=\"psysml:d0e8f829-c575-44a2-9ede-b108238de40c\" xlink:actuate=\"onRequest\" xlink:href=\"psysml:d0e8f829-c575-44a2-9ede-b108238de40c\" xlink:show=\"new\" xlink:title=\"psysml:d0e8f829-c575-44a2-9ede-b108238de40c\" xlink:type=\"simple\"><rect fill=\"#FEFECE\" filter=\"url(#f1aag2xcrl8juw)\" height=\"45.9375\" id=\"E3\" rx=\"10\" ry=\"10\" style=\"stroke: #A80036; stroke-width: 1.5;\" width=\"97\" x=\"910.5\" y=\"54\"/><ellipse cx=\"925.5\" cy=\"72.9688\" fill=\"#FFA500\" rx=\"11\" ry=\"11\" style=\"stroke: #A80036; stroke-width: 1.0;\"/><path d=\"M925.25,78.4375 Q923.5,78.4375 922.5469,77.4063 Q921.6094,76.3594 921.6094,74.5156 L921.6094,67.625 L923.6719,67.625 L923.6719,67.7813 Q923.5781,67.875 923.5469,68.0156 Q923.5313,68.1406 923.5313,68.4063 L923.5313,74.5313 Q923.5313,75.625 923.9063,76.25 Q924.2813,76.875 925.2656,76.875 Q926.25,76.875 926.6406,76.25 Q927.0313,75.625 927.0313,74.4844 L927.0313,67.625 L928.9063,67.625 L928.9063,74.4688 Q928.9063,76.5 927.875,77.4688 Q926.8594,78.4375 925.25,78.4375 Z \"/><text fill=\"#000000\" font-family=\"sans-serif\" font-size=\"12\" font-style=\"italic\" lengthAdjust=\"spacingAndGlyphs\" textLength=\"69\" x=\"937.5\" y=\"70.1387\">«attribute»</text><text fill=\"#000000\" font-family=\"sans-serif\" font-size=\"12\" lengthAdjust=\"spacingAndGlyphs\" textLength=\"61\" x=\"941.5\" y=\"84.1074\">n: Integer</text><line style=\"stroke: #A80036; stroke-width: 1.5;\" x1=\"911.5\" x2=\"1006.5\" y1=\"91.9375\" y2=\"91.9375\"/></a><!--MD5=[ebbe1d658d1005bcc118a6aa81145e00]\n",
       "class E4--><a href=\"psysml:2de2cbdc-62e6-485a-a7d2-bee7f587f60d\" target=\"_top\" title=\"psysml:2de2cbdc-62e6-485a-a7d2-bee7f587f60d\" xlink:actuate=\"onRequest\" xlink:href=\"psysml:2de2cbdc-62e6-485a-a7d2-bee7f587f60d\" xlink:show=\"new\" xlink:title=\"psysml:2de2cbdc-62e6-485a-a7d2-bee7f587f60d\" xlink:type=\"simple\"><rect fill=\"#FEFECE\" filter=\"url(#f1aag2xcrl8juw)\" height=\"45.9375\" id=\"E4\" rx=\"10\" ry=\"10\" style=\"stroke: #A80036; stroke-width: 1.5;\" width=\"68\" x=\"807\" y=\"54\"/><ellipse cx=\"822\" cy=\"72.9688\" fill=\"#32CD32\" rx=\"11\" ry=\"11\" style=\"stroke: #A80036; stroke-width: 1.0;\"/><path d=\"M818.8125,77.9688 L818.8125,67.375 L822.4219,67.375 Q823.6406,67.375 824.4375,67.8125 Q825.2344,68.2344 825.6094,68.9375 Q826,69.6406 826,70.4844 Q826,71.3281 825.625,72.0156 Q825.2656,72.7031 824.4688,73.125 Q823.6875,73.5313 822.5,73.5313 L820.7656,73.5313 L820.7656,77.9688 L818.8125,77.9688 Z M820.7656,71.9375 L822.375,71.9375 Q823.1875,71.9375 823.6094,71.5313 Q824.0313,71.125 824.0313,70.4844 Q824.0313,69.8594 823.6094,69.4531 Q823.1875,69.0469 822.3906,69.0469 L820.7656,69.0469 L820.7656,71.9375 Z \"/><text fill=\"#000000\" font-family=\"sans-serif\" font-size=\"12\" font-style=\"italic\" lengthAdjust=\"spacingAndGlyphs\" textLength=\"40\" x=\"834\" y=\"70.1387\">«part»</text><text fill=\"#000000\" font-family=\"sans-serif\" font-size=\"12\" lengthAdjust=\"spacingAndGlyphs\" textLength=\"8\" x=\"850\" y=\"84.1074\">a</text><line style=\"stroke: #A80036; stroke-width: 1.5;\" x1=\"808\" x2=\"874\" y1=\"91.9375\" y2=\"91.9375\"/></a><!--MD5=[270fce915f116d4de14055a7c1d9a0f3]\n",
       "class E5--><a href=\"psysml:a47b2c6e-81dd-4a7f-97e2-f2f751620c17\" target=\"_top\" title=\"psysml:a47b2c6e-81dd-4a7f-97e2-f2f751620c17\" xlink:actuate=\"onRequest\" xlink:href=\"psysml:a47b2c6e-81dd-4a7f-97e2-f2f751620c17\" xlink:show=\"new\" xlink:title=\"psysml:a47b2c6e-81dd-4a7f-97e2-f2f751620c17\" xlink:type=\"simple\"><rect fill=\"#FEFECE\" filter=\"url(#f1aag2xcrl8juw)\" height=\"45.9375\" id=\"E5\" rx=\"10\" ry=\"10\" style=\"stroke: #A80036; stroke-width: 1.5;\" width=\"68\" x=\"704\" y=\"54\"/><ellipse cx=\"719\" cy=\"72.9688\" fill=\"#32CD32\" rx=\"11\" ry=\"11\" style=\"stroke: #A80036; stroke-width: 1.0;\"/><path d=\"M715.8125,77.9688 L715.8125,67.375 L719.4219,67.375 Q720.6406,67.375 721.4375,67.8125 Q722.2344,68.2344 722.6094,68.9375 Q723,69.6406 723,70.4844 Q723,71.3281 722.625,72.0156 Q722.2656,72.7031 721.4688,73.125 Q720.6875,73.5313 719.5,73.5313 L717.7656,73.5313 L717.7656,77.9688 L715.8125,77.9688 Z M717.7656,71.9375 L719.375,71.9375 Q720.1875,71.9375 720.6094,71.5313 Q721.0313,71.125 721.0313,70.4844 Q721.0313,69.8594 720.6094,69.4531 Q720.1875,69.0469 719.3906,69.0469 L717.7656,69.0469 L717.7656,71.9375 Z \"/><text fill=\"#000000\" font-family=\"sans-serif\" font-size=\"12\" font-style=\"italic\" lengthAdjust=\"spacingAndGlyphs\" textLength=\"40\" x=\"731\" y=\"70.1387\">«part»</text><text fill=\"#000000\" font-family=\"sans-serif\" font-size=\"12\" lengthAdjust=\"spacingAndGlyphs\" textLength=\"24\" x=\"739\" y=\"84.1074\">b: P</text><line style=\"stroke: #A80036; stroke-width: 1.5;\" x1=\"705\" x2=\"771\" y1=\"91.9375\" y2=\"91.9375\"/></a><!--MD5=[60a26617385b1d2d0262a64233df1f8d]\n",
       "class E6--><a href=\"psysml:46e4b238-da26-40c7-b1f6-d3a4f2631481\" target=\"_top\" title=\"psysml:46e4b238-da26-40c7-b1f6-d3a4f2631481\" xlink:actuate=\"onRequest\" xlink:href=\"psysml:46e4b238-da26-40c7-b1f6-d3a4f2631481\" xlink:show=\"new\" xlink:title=\"psysml:46e4b238-da26-40c7-b1f6-d3a4f2631481\" xlink:type=\"simple\"><rect fill=\"#FEFECE\" filter=\"url(#f1aag2xcrl8juw)\" height=\"45.9375\" id=\"E6\" rx=\"10\" ry=\"10\" style=\"stroke: #A80036; stroke-width: 1.5;\" width=\"68\" x=\"601\" y=\"54\"/><ellipse cx=\"616\" cy=\"72.9688\" fill=\"#32CD32\" rx=\"11\" ry=\"11\" style=\"stroke: #A80036; stroke-width: 1.0;\"/><path d=\"M612.8125,77.9688 L612.8125,67.375 L616.4219,67.375 Q617.6406,67.375 618.4375,67.8125 Q619.2344,68.2344 619.6094,68.9375 Q620,69.6406 620,70.4844 Q620,71.3281 619.625,72.0156 Q619.2656,72.7031 618.4688,73.125 Q617.6875,73.5313 616.5,73.5313 L614.7656,73.5313 L614.7656,77.9688 L612.8125,77.9688 Z M614.7656,71.9375 L616.375,71.9375 Q617.1875,71.9375 617.6094,71.5313 Q618.0313,71.125 618.0313,70.4844 Q618.0313,69.8594 617.6094,69.4531 Q617.1875,69.0469 616.3906,69.0469 L614.7656,69.0469 L614.7656,71.9375 Z \"/><text fill=\"#000000\" font-family=\"sans-serif\" font-size=\"12\" font-style=\"italic\" lengthAdjust=\"spacingAndGlyphs\" textLength=\"40\" x=\"628\" y=\"70.1387\">«part»</text><text fill=\"#000000\" font-family=\"sans-serif\" font-size=\"12\" lengthAdjust=\"spacingAndGlyphs\" textLength=\"23\" x=\"636.5\" y=\"84.1074\">c: P</text><line style=\"stroke: #A80036; stroke-width: 1.5;\" x1=\"602\" x2=\"668\" y1=\"91.9375\" y2=\"91.9375\"/></a><!--MD5=[2156ba9850f5573cc1fc38a6a4b2f02b]\n",
       "class E7--><a href=\"psysml:862abcb1-d094-4d1f-a90d-b0af915cd2bb\" target=\"_top\" title=\"psysml:862abcb1-d094-4d1f-a90d-b0af915cd2bb\" xlink:actuate=\"onRequest\" xlink:href=\"psysml:862abcb1-d094-4d1f-a90d-b0af915cd2bb\" xlink:show=\"new\" xlink:title=\"psysml:862abcb1-d094-4d1f-a90d-b0af915cd2bb\" xlink:type=\"simple\"><rect fill=\"#FEFECE\" filter=\"url(#f1aag2xcrl8juw)\" height=\"45.9375\" id=\"E7\" rx=\"10\" ry=\"10\" style=\"stroke: #A80036; stroke-width: 1.5;\" width=\"68\" x=\"498\" y=\"54\"/><ellipse cx=\"513\" cy=\"72.9688\" fill=\"#32CD32\" rx=\"11\" ry=\"11\" style=\"stroke: #A80036; stroke-width: 1.0;\"/><path d=\"M509.8125,77.9688 L509.8125,67.375 L513.4219,67.375 Q514.6406,67.375 515.4375,67.8125 Q516.2344,68.2344 516.6094,68.9375 Q517,69.6406 517,70.4844 Q517,71.3281 516.625,72.0156 Q516.2656,72.7031 515.4688,73.125 Q514.6875,73.5313 513.5,73.5313 L511.7656,73.5313 L511.7656,77.9688 L509.8125,77.9688 Z M511.7656,71.9375 L513.375,71.9375 Q514.1875,71.9375 514.6094,71.5313 Q515.0313,71.125 515.0313,70.4844 Q515.0313,69.8594 514.6094,69.4531 Q514.1875,69.0469 513.3906,69.0469 L511.7656,69.0469 L511.7656,71.9375 Z \"/><text fill=\"#000000\" font-family=\"sans-serif\" font-size=\"12\" font-style=\"italic\" lengthAdjust=\"spacingAndGlyphs\" textLength=\"40\" x=\"525\" y=\"70.1387\">«part»</text><text fill=\"#000000\" font-family=\"sans-serif\" font-size=\"12\" lengthAdjust=\"spacingAndGlyphs\" textLength=\"8\" x=\"541\" y=\"84.1074\">d</text><line style=\"stroke: #A80036; stroke-width: 1.5;\" x1=\"499\" x2=\"565\" y1=\"91.9375\" y2=\"91.9375\"/></a><!--MD5=[b9389687b975829384b498ac4b7476b2]\n",
       "class E8--><a href=\"psysml:0f8b0aa8-e59b-4cfe-b590-8672d08a4434\" target=\"_top\" title=\"psysml:0f8b0aa8-e59b-4cfe-b590-8672d08a4434\" xlink:actuate=\"onRequest\" xlink:href=\"psysml:0f8b0aa8-e59b-4cfe-b590-8672d08a4434\" xlink:show=\"new\" xlink:title=\"psysml:0f8b0aa8-e59b-4cfe-b590-8672d08a4434\" xlink:type=\"simple\"><rect fill=\"#FEFECE\" filter=\"url(#f1aag2xcrl8juw)\" height=\"45.9375\" id=\"E8\" rx=\"10\" ry=\"10\" style=\"stroke: #A80036; stroke-width: 1.5;\" width=\"68\" x=\"395\" y=\"54\"/><ellipse cx=\"410\" cy=\"72.9688\" fill=\"#32CD32\" rx=\"11\" ry=\"11\" style=\"stroke: #A80036; stroke-width: 1.0;\"/><path d=\"M406.8125,77.9688 L406.8125,67.375 L410.4219,67.375 Q411.6406,67.375 412.4375,67.8125 Q413.2344,68.2344 413.6094,68.9375 Q414,69.6406 414,70.4844 Q414,71.3281 413.625,72.0156 Q413.2656,72.7031 412.4688,73.125 Q411.6875,73.5313 410.5,73.5313 L408.7656,73.5313 L408.7656,77.9688 L406.8125,77.9688 Z M408.7656,71.9375 L410.375,71.9375 Q411.1875,71.9375 411.6094,71.5313 Q412.0313,71.125 412.0313,70.4844 Q412.0313,69.8594 411.6094,69.4531 Q411.1875,69.0469 410.3906,69.0469 L408.7656,69.0469 L408.7656,71.9375 Z \"/><text fill=\"#000000\" font-family=\"sans-serif\" font-size=\"12\" font-style=\"italic\" lengthAdjust=\"spacingAndGlyphs\" textLength=\"40\" x=\"422\" y=\"70.1387\">«part»</text><text fill=\"#000000\" font-family=\"sans-serif\" font-size=\"12\" lengthAdjust=\"spacingAndGlyphs\" textLength=\"8\" x=\"438\" y=\"84.1074\">e</text><line style=\"stroke: #A80036; stroke-width: 1.5;\" x1=\"396\" x2=\"462\" y1=\"91.9375\" y2=\"91.9375\"/></a><!--MD5=[fd4143e9d270a159db93a4ea2a975926]\n",
       "class E9--><a href=\"psysml:07bb6063-49af-4acb-bb76-a6a51f542bf8\" target=\"_top\" title=\"psysml:07bb6063-49af-4acb-bb76-a6a51f542bf8\" xlink:actuate=\"onRequest\" xlink:href=\"psysml:07bb6063-49af-4acb-bb76-a6a51f542bf8\" xlink:show=\"new\" xlink:title=\"psysml:07bb6063-49af-4acb-bb76-a6a51f542bf8\" xlink:type=\"simple\"><rect fill=\"#FEFECE\" filter=\"url(#f1aag2xcrl8juw)\" height=\"45.9375\" id=\"E9\" rx=\"10\" ry=\"10\" style=\"stroke: #A80036; stroke-width: 1.5;\" width=\"68\" x=\"292\" y=\"54\"/><ellipse cx=\"307\" cy=\"72.9688\" fill=\"#32CD32\" rx=\"11\" ry=\"11\" style=\"stroke: #A80036; stroke-width: 1.0;\"/><path d=\"M303.8125,77.9688 L303.8125,67.375 L307.4219,67.375 Q308.6406,67.375 309.4375,67.8125 Q310.2344,68.2344 310.6094,68.9375 Q311,69.6406 311,70.4844 Q311,71.3281 310.625,72.0156 Q310.2656,72.7031 309.4688,73.125 Q308.6875,73.5313 307.5,73.5313 L305.7656,73.5313 L305.7656,77.9688 L303.8125,77.9688 Z M305.7656,71.9375 L307.375,71.9375 Q308.1875,71.9375 308.6094,71.5313 Q309.0313,71.125 309.0313,70.4844 Q309.0313,69.8594 308.6094,69.4531 Q308.1875,69.0469 307.3906,69.0469 L305.7656,69.0469 L305.7656,71.9375 Z \"/><text fill=\"#000000\" font-family=\"sans-serif\" font-size=\"12\" font-style=\"italic\" lengthAdjust=\"spacingAndGlyphs\" textLength=\"40\" x=\"319\" y=\"70.1387\">«part»</text><text fill=\"#000000\" font-family=\"sans-serif\" font-size=\"12\" lengthAdjust=\"spacingAndGlyphs\" textLength=\"4\" x=\"337\" y=\"84.1074\">f</text><line style=\"stroke: #A80036; stroke-width: 1.5;\" x1=\"293\" x2=\"359\" y1=\"91.9375\" y2=\"91.9375\"/></a><!--MD5=[96f4274e9e20536e775497830990834d]\n",
       "class E10--><a href=\"psysml:87a6ec87-e214-496f-a09f-1f6dfd597ed3\" target=\"_top\" title=\"psysml:87a6ec87-e214-496f-a09f-1f6dfd597ed3\" xlink:actuate=\"onRequest\" xlink:href=\"psysml:87a6ec87-e214-496f-a09f-1f6dfd597ed3\" xlink:show=\"new\" xlink:title=\"psysml:87a6ec87-e214-496f-a09f-1f6dfd597ed3\" xlink:type=\"simple\"><rect fill=\"#FEFECE\" filter=\"url(#f1aag2xcrl8juw)\" height=\"45.9375\" id=\"E10\" rx=\"10\" ry=\"10\" style=\"stroke: #A80036; stroke-width: 1.5;\" width=\"68\" x=\"189\" y=\"54\"/><ellipse cx=\"204\" cy=\"72.9688\" fill=\"#32CD32\" rx=\"11\" ry=\"11\" style=\"stroke: #A80036; stroke-width: 1.0;\"/><path d=\"M200.8125,77.9688 L200.8125,67.375 L204.4219,67.375 Q205.6406,67.375 206.4375,67.8125 Q207.2344,68.2344 207.6094,68.9375 Q208,69.6406 208,70.4844 Q208,71.3281 207.625,72.0156 Q207.2656,72.7031 206.4688,73.125 Q205.6875,73.5313 204.5,73.5313 L202.7656,73.5313 L202.7656,77.9688 L200.8125,77.9688 Z M202.7656,71.9375 L204.375,71.9375 Q205.1875,71.9375 205.6094,71.5313 Q206.0313,71.125 206.0313,70.4844 Q206.0313,69.8594 205.6094,69.4531 Q205.1875,69.0469 204.3906,69.0469 L202.7656,69.0469 L202.7656,71.9375 Z \"/><text fill=\"#000000\" font-family=\"sans-serif\" font-size=\"12\" font-style=\"italic\" lengthAdjust=\"spacingAndGlyphs\" textLength=\"40\" x=\"216\" y=\"70.1387\">«part»</text><text fill=\"#000000\" font-family=\"sans-serif\" font-size=\"12\" lengthAdjust=\"spacingAndGlyphs\" textLength=\"8\" x=\"232\" y=\"84.1074\">g</text><line style=\"stroke: #A80036; stroke-width: 1.5;\" x1=\"190\" x2=\"256\" y1=\"91.9375\" y2=\"91.9375\"/></a><!--MD5=[1dd1bfd58a279cf63c5f349dbc8fc6a1]\n",
       "class E11--><a href=\"psysml:423769db-1814-486c-a3b1-3214b1eae655\" target=\"_top\" title=\"psysml:423769db-1814-486c-a3b1-3214b1eae655\" xlink:actuate=\"onRequest\" xlink:href=\"psysml:423769db-1814-486c-a3b1-3214b1eae655\" xlink:show=\"new\" xlink:title=\"psysml:423769db-1814-486c-a3b1-3214b1eae655\" xlink:type=\"simple\"><rect fill=\"#FEFECE\" filter=\"url(#f1aag2xcrl8juw)\" height=\"71.5469\" id=\"E11\" style=\"stroke: #A80036; stroke-width: 1.5;\" width=\"121\" x=\"32.5\" y=\"41\"/><ellipse cx=\"47.5\" cy=\"59.9688\" fill=\"#A52A2A\" rx=\"11\" ry=\"11\" style=\"stroke: #A80036; stroke-width: 1.0;\"/><path d=\"M44.7188,64.9688 L44.7188,54.375 L47.4531,54.375 Q48.8438,54.375 49.6094,54.7656 Q50.3906,55.1406 50.9219,55.8438 Q51.4531,56.5469 51.75,57.5469 Q52.0469,58.5313 52.0469,59.75 Q52,61.3438 51.5,62.5313 Q51.0156,63.7031 49.9688,64.3438 Q48.9375,64.9688 47.25,64.9688 L44.7188,64.9688 Z M46.5781,63.4688 L47.2031,63.4688 Q48.2813,63.4688 48.9375,63.0156 Q49.5938,62.5625 49.875,61.7344 Q50.1719,60.8906 50.1563,59.7656 Q50.1563,58.5938 49.9063,57.7344 Q49.6563,56.8594 49.0469,56.3906 Q48.4375,55.9063 47.3906,55.9063 L46.5781,55.9063 L46.5781,63.4688 Z \"/><text fill=\"#000000\" font-family=\"sans-serif\" font-size=\"12\" font-style=\"italic\" lengthAdjust=\"spacingAndGlyphs\" textLength=\"93\" x=\"59.5\" y=\"57.1387\">«attribute def»</text><text fill=\"#000000\" font-family=\"sans-serif\" font-size=\"12\" lengthAdjust=\"spacingAndGlyphs\" textLength=\"8\" x=\"102\" y=\"71.1074\">A</text><line style=\"stroke: #A80036; stroke-width: 1.5;\" x1=\"33.5\" x2=\"152.5\" y1=\"78.9375\" y2=\"78.9375\"/><text fill=\"#000000\" font-family=\"sans-serif\" font-size=\"11\" lengthAdjust=\"spacingAndGlyphs\" textLength=\"51\" x=\"38.5\" y=\"93.1479\">i: Integer</text><text fill=\"#000000\" font-family=\"sans-serif\" font-size=\"11\" lengthAdjust=\"spacingAndGlyphs\" textLength=\"21\" x=\"38.5\" y=\"105.9526\">x: A</text></a><!--MD5=[15ebcb19ae302d9b601edb458606d402]\n",
       "link E5 to E2--><a href=\"psysml:56ee8f03-05cc-4672-92a5-af5f15d564f5\" target=\"_top\" title=\"psysml:56ee8f03-05cc-4672-92a5-af5f15d564f5\" xlink:actuate=\"onRequest\" xlink:href=\"psysml:56ee8f03-05cc-4672-92a5-af5f15d564f5\" xlink:show=\"new\" xlink:title=\"psysml:56ee8f03-05cc-4672-92a5-af5f15d564f5\" xlink:type=\"simple\"><path d=\"M727.85,100.25 C720.81,115.68 711.27,136.61 703.07,154.58 \" fill=\"none\" id=\"E5-&gt;E2\" style=\"stroke: #A80036; stroke-width: 1.0;\"/><polygon fill=\"#FFFFFF\" points=\"694.74,172.84,696.2548,152.6483,708.9927,158.4573,694.74,172.84\" style=\"stroke: #A80036; stroke-width: 1.0;\"/><ellipse cx=\"700.4396\" cy=\"148.292\" fill=\"#A80036\" rx=\"2\" ry=\"2\" style=\"stroke: #A80036; stroke-width: 1.0;\"/><ellipse cx=\"709.5381\" cy=\"152.4413\" fill=\"#A80036\" rx=\"2\" ry=\"2\" style=\"stroke: #A80036; stroke-width: 1.0;\"/></a><!--MD5=[2351f337d6de0f557b50152ba70847b5]\n",
       "link E6 to E2--><a href=\"psysml:34caeea3-9e32-4456-be5b-df49f4f1b3a4\" target=\"_top\" title=\"psysml:34caeea3-9e32-4456-be5b-df49f4f1b3a4\" xlink:actuate=\"onRequest\" xlink:href=\"psysml:34caeea3-9e32-4456-be5b-df49f4f1b3a4\" xlink:show=\"new\" xlink:title=\"psysml:34caeea3-9e32-4456-be5b-df49f4f1b3a4\" xlink:type=\"simple\"><path d=\"M644.95,100.25 C651.86,115.68 661.22,136.61 669.26,154.58 \" fill=\"none\" id=\"E6-&gt;E2\" style=\"stroke: #A80036; stroke-width: 1.0;\"/><polygon fill=\"#FFFFFF\" points=\"677.43,172.84,663.2788,158.3574,676.0573,152.6381,677.43,172.84\" style=\"stroke: #A80036; stroke-width: 1.0;\"/><ellipse cx=\"662.7757\" cy=\"152.3377\" fill=\"#A80036\" rx=\"2\" ry=\"2\" style=\"stroke: #A80036; stroke-width: 1.0;\"/><ellipse cx=\"671.9032\" cy=\"148.2525\" fill=\"#A80036\" rx=\"2\" ry=\"2\" style=\"stroke: #A80036; stroke-width: 1.0;\"/></a><!--MD5=[bc6f5b74851d9892c2ad069ea36f36b7]\n",
       "@startuml\r\n",
       " \r\n",
       "package \"MultiplicityTest\" as E1  [[psysml:917c8e98-308c-4a57-bedc-72bb13927275 ]]  {\r\n",
       "comp def \"P\" as E2 << << (B,green) >> [[psysml:1b8e2ab6-001b-4483-8406-5463ddd95a77 ]] {\r\n",
       "}\r\n",
       "comp usage \"n: Integer\" as E3 << <<(U,orange) attribute>> [[psysml:d0e8f829-c575-44a2-9ede-b108238de40c ]] {\r\n",
       "}\r\n",
       "comp usage \"a\" as E4 << << (P,limegreen) part>> [[psysml:2de2cbdc-62e6-485a-a7d2-bee7f587f60d ]] {\r\n",
       "}\r\n",
       "comp usage \"b: P\" as E5 << << (P,limegreen) part>> [[psysml:a47b2c6e-81dd-4a7f-97e2-f2f751620c17 ]] {\r\n",
       "}\r\n",
       "comp usage \"c: P\" as E6 << << (P,limegreen) part>> [[psysml:46e4b238-da26-40c7-b1f6-d3a4f2631481 ]] {\r\n",
       "}\r\n",
       "comp usage \"d\" as E7 << << (P,limegreen) part>> [[psysml:862abcb1-d094-4d1f-a90d-b0af915cd2bb ]] {\r\n",
       "}\r\n",
       "comp usage \"e\" as E8 << << (P,limegreen) part>> [[psysml:0f8b0aa8-e59b-4cfe-b590-8672d08a4434 ]] {\r\n",
       "}\r\n",
       "comp usage \"f\" as E9 << << (P,limegreen) part>> [[psysml:07bb6063-49af-4acb-bb76-a6a51f542bf8 ]] {\r\n",
       "}\r\n",
       "comp usage \"g\" as E10 << << (P,limegreen) part>> [[psysml:87a6ec87-e214-496f-a09f-1f6dfd597ed3 ]] {\r\n",
       "}\r\n",
       "comp def \"A\" as E11 << <<(D,brown) attribute def>> [[psysml:423769db-1814-486c-a3b1-3214b1eae655 ]] {\r\n",
       "i: Integer\r\n",
       "x: A\r\n",
       "}\r\n",
       "}\r\n",
       "E5 - -:|> E2 [[psysml:56ee8f03-05cc-4672-92a5-af5f15d564f5 ]] \r\n",
       "E6 - -:|> E2 [[psysml:34caeea3-9e32-4456-be5b-df49f4f1b3a4 ]] \r\n",
       "@enduml\r\n",
       "\n",
       "PlantUML version 1.2020.13(Sat Jun 13 12:26:38 UTC 2020)\n",
       "(EPL source distribution)\n",
       "Java Runtime: OpenJDK Runtime Environment\n",
       "JVM: OpenJDK 64-Bit Server VM\n",
       "Default Encoding: UTF-8\n",
       "Language: en\n",
       "Country: null\n",
       "--></g></svg>"
      ]
     },
     "execution_count": 31,
     "metadata": {},
     "output_type": "execute_result"
    }
   ],
   "source": [
    "%viz --style=\"PLANTUML\" --view=\"Tree\" \"MultiplicityTest\""
   ]
  },
  {
   "cell_type": "code",
   "execution_count": 32,
   "id": "efee5650",
   "metadata": {
    "execution": {
     "iopub.execute_input": "2021-10-03T08:30:20.977465Z",
     "iopub.status.busy": "2021-10-03T08:30:20.977072Z",
     "iopub.status.idle": "2021-10-03T08:30:21.090705Z",
     "shell.execute_reply": "2021-10-03T08:30:21.089109Z"
    }
   },
   "outputs": [
    {
     "data": {
      "image/svg+xml": [
       "<?xml version=\"1.0\" encoding=\"UTF-8\" standalone=\"no\"?><svg xmlns=\"http://www.w3.org/2000/svg\" xmlns:xlink=\"http://www.w3.org/1999/xlink\" contentScriptType=\"application/ecmascript\" contentStyleType=\"text/css\" height=\"365px\" preserveAspectRatio=\"none\" style=\"width:603px;height:365px;background:#000000;\" version=\"1.1\" viewBox=\"0 0 603 365\" width=\"603px\" zoomAndPan=\"magnify\"><defs/><g><rect fill=\"#0B1617\" height=\"1\" style=\"stroke: #0B1617; stroke-width: 1.0;\" width=\"1\" x=\"0\" y=\"0\"/><rect fill=\"#EAE2C9\" height=\"65.1875\" style=\"stroke: #EAE2C9; stroke-width: 1.0;\" width=\"602\" x=\"0\" y=\"0\"/><text fill=\"#000000\" font-family=\"sans-serif\" font-size=\"14\" font-weight=\"bold\" lengthAdjust=\"spacingAndGlyphs\" textLength=\"267\" x=\"10\" y=\"12.9951\">Add your own dedication into PlantUML</text><text fill=\"#000000\" font-family=\"sans-serif\" font-size=\"14\" lengthAdjust=\"spacingAndGlyphs\" textLength=\"0\" x=\"14\" y=\"29.292\"/><text fill=\"#000000\" font-family=\"sans-serif\" font-size=\"14\" lengthAdjust=\"spacingAndGlyphs\" textLength=\"154\" x=\"10\" y=\"45.5889\">For just $5 per month!</text><text fill=\"#000000\" font-family=\"sans-serif\" font-size=\"14\" lengthAdjust=\"spacingAndGlyphs\" textLength=\"69\" x=\"10\" y=\"61.8857\">Details on</text><a href=\"http://plantuml.com/dedication\" target=\"_top\" title=\"http://plantuml.com/dedication\" xlink:actuate=\"onRequest\" xlink:href=\"http://plantuml.com/dedication\" xlink:show=\"new\" xlink:title=\"http://plantuml.com/dedication\" xlink:type=\"simple\"><text fill=\"#000000\" font-family=\"sans-serif\" font-size=\"14\" font-style=\"italic\" lengthAdjust=\"spacingAndGlyphs\" textLength=\"213\" x=\"83\" y=\"61.8857\">http://plantuml.com/dedication</text></a><rect fill=\"#FFFFFF\" height=\"202.8012\" style=\"stroke: #FFFFFF; stroke-width: 1.0;\" width=\"602\" x=\"0\" y=\"65.1875\"/><text fill=\"#000000\" font-family=\"sans-serif\" font-size=\"12\" font-weight=\"bold\" lengthAdjust=\"spacingAndGlyphs\" textLength=\"139\" x=\"5\" y=\"81.3262\">Welcome to PlantUML!</text><text fill=\"#000000\" font-family=\"sans-serif\" font-size=\"12\" lengthAdjust=\"spacingAndGlyphs\" textLength=\"0\" x=\"9\" y=\"95.2949\"/><text fill=\"#000000\" font-family=\"sans-serif\" font-size=\"12\" lengthAdjust=\"spacingAndGlyphs\" textLength=\"293\" x=\"5\" y=\"109.2637\">If you use this software, you accept its license.</text><text fill=\"#000000\" font-family=\"sans-serif\" font-size=\"12\" lengthAdjust=\"spacingAndGlyphs\" textLength=\"107\" x=\"5\" y=\"123.2324\">(details by typing</text><text fill=\"#000000\" font-family=\"monospace\" font-size=\"12\" lengthAdjust=\"spacingAndGlyphs\" textLength=\"42\" x=\"116\" y=\"123.7825\">license</text><text fill=\"#000000\" font-family=\"sans-serif\" font-size=\"12\" lengthAdjust=\"spacingAndGlyphs\" textLength=\"56\" x=\"162\" y=\"123.2324\">keyword)</text><text fill=\"#000000\" font-family=\"sans-serif\" font-size=\"12\" lengthAdjust=\"spacingAndGlyphs\" textLength=\"0\" x=\"9\" y=\"137.2012\"/><text fill=\"#000000\" font-family=\"sans-serif\" font-size=\"12\" lengthAdjust=\"spacingAndGlyphs\" textLength=\"283\" x=\"5\" y=\"151.1699\">You can start with a simple UML Diagram like:</text><text fill=\"#000000\" font-family=\"sans-serif\" font-size=\"12\" lengthAdjust=\"spacingAndGlyphs\" textLength=\"0\" x=\"9\" y=\"165.1387\"/><text fill=\"#000000\" font-family=\"monospace\" font-size=\"12\" lengthAdjust=\"spacingAndGlyphs\" textLength=\"102\" x=\"5\" y=\"178.2768\">Bob-&gt;Alice: Hello</text><text fill=\"#000000\" font-family=\"sans-serif\" font-size=\"12\" lengthAdjust=\"spacingAndGlyphs\" textLength=\"0\" x=\"9\" y=\"191.6955\"/><text fill=\"#000000\" font-family=\"sans-serif\" font-size=\"12\" lengthAdjust=\"spacingAndGlyphs\" textLength=\"14\" x=\"5\" y=\"205.6643\">Or</text><text fill=\"#000000\" font-family=\"sans-serif\" font-size=\"12\" lengthAdjust=\"spacingAndGlyphs\" textLength=\"0\" x=\"9\" y=\"219.633\"/><text fill=\"#000000\" font-family=\"monospace\" font-size=\"12\" lengthAdjust=\"spacingAndGlyphs\" textLength=\"78\" x=\"5\" y=\"232.7712\">class Example</text><text fill=\"#000000\" font-family=\"sans-serif\" font-size=\"12\" lengthAdjust=\"spacingAndGlyphs\" textLength=\"0\" x=\"9\" y=\"246.1898\"/><text fill=\"#000000\" font-family=\"sans-serif\" font-size=\"12\" lengthAdjust=\"spacingAndGlyphs\" textLength=\"349\" x=\"5\" y=\"260.1586\">You will find more information about PlantUML syntax on</text><text fill=\"#000000\" font-family=\"sans-serif\" font-size=\"12\" lengthAdjust=\"spacingAndGlyphs\" text-decoration=\"underline\" textLength=\"129\" x=\"358\" y=\"260.1586\">https://plantuml.com</text><image height=\"71\" width=\"80\" x=\"516\" xlink:href=\"data:image/png;base64,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\" y=\"71.1875\"/><rect fill=\"#000000\" height=\"96.4844\" style=\"stroke: #000000; stroke-width: 1.0;\" width=\"602\" x=\"0\" y=\"267.9887\"/><rect fill=\"#33FF02\" height=\"21.2969\" style=\"stroke: #33FF02; stroke-width: 1.0;\" width=\"145\" x=\"5\" y=\"272.9887\"/><text fill=\"#000000\" font-family=\"sans-serif\" font-size=\"14\" font-weight=\"bold\" lengthAdjust=\"spacingAndGlyphs\" textLength=\"143\" x=\"6\" y=\"287.9887\">[From string (line 2) ]</text><text fill=\"#33FF02\" font-family=\"sans-serif\" font-size=\"14\" font-weight=\"bold\" lengthAdjust=\"spacingAndGlyphs\" textLength=\"0\" x=\"9\" y=\"308.2856\"/><text fill=\"#33FF02\" font-family=\"sans-serif\" font-size=\"14\" font-weight=\"bold\" lengthAdjust=\"spacingAndGlyphs\" textLength=\"70\" x=\"5\" y=\"324.5824\">@startuml</text><text fill=\"#33FF02\" font-family=\"sans-serif\" font-size=\"14\" font-weight=\"bold\" lengthAdjust=\"spacingAndGlyphs\" textLength=\"0\" x=\"9\" y=\"340.8793\"/><text fill=\"#FF0000\" font-family=\"sans-serif\" font-size=\"14\" font-weight=\"bold\" lengthAdjust=\"spacingAndGlyphs\" textLength=\"124\" x=\"9\" y=\"357.1762\">Empty description</text><!--MD5=[f59edd8218d337f74d0c332fc6737304]\n",
       "@startuml\r\n",
       " \r\n",
       "@enduml\r\n",
       "\n",
       "PlantUML version 1.2020.13(Sat Jun 13 12:26:38 UTC 2020)\n",
       "(EPL source distribution)\n",
       "Java Runtime: OpenJDK Runtime Environment\n",
       "JVM: OpenJDK 64-Bit Server VM\n",
       "Default Encoding: UTF-8\n",
       "Language: en\n",
       "Country: null\n",
       "--></g></svg>"
      ]
     },
     "execution_count": 32,
     "metadata": {},
     "output_type": "execute_result"
    }
   ],
   "source": [
    "%viz --style=\"PLANTUML\" --view=\"State\" \"MultiplicityTest\""
   ]
  },
  {
   "cell_type": "code",
   "execution_count": 33,
   "id": "793e8f15",
   "metadata": {
    "execution": {
     "iopub.execute_input": "2021-10-03T08:30:21.139859Z",
     "iopub.status.busy": "2021-10-03T08:30:21.139457Z",
     "iopub.status.idle": "2021-10-03T08:30:21.169356Z",
     "shell.execute_reply": "2021-10-03T08:30:21.169002Z"
    }
   },
   "outputs": [
    {
     "data": {
      "image/svg+xml": [
       "<?xml version=\"1.0\" encoding=\"UTF-8\" standalone=\"no\"?><svg xmlns=\"http://www.w3.org/2000/svg\" xmlns:xlink=\"http://www.w3.org/1999/xlink\" contentScriptType=\"application/ecmascript\" contentStyleType=\"text/css\" height=\"115px\" preserveAspectRatio=\"none\" style=\"width:1030px;height:115px;\" version=\"1.1\" viewBox=\"0 0 1030 115\" width=\"1030px\" zoomAndPan=\"magnify\"><defs><filter height=\"300%\" id=\"f199r1e8t6ut7k\" width=\"300%\" x=\"-1\" y=\"-1\"><feGaussianBlur result=\"blurOut\" stdDeviation=\"2.0\"/><feColorMatrix in=\"blurOut\" result=\"blurOut2\" type=\"matrix\" values=\"0 0 0 0 0 0 0 0 0 0 0 0 0 0 0 0 0 0 .4 0\"/><feOffset dx=\"4.0\" dy=\"4.0\" in=\"blurOut2\" result=\"blurOut3\"/><feBlend in=\"SourceGraphic\" in2=\"blurOut3\" mode=\"normal\"/></filter></defs><g><!--MD5=[fbc87193dbaf4d95561dea2c320d4a47]\n",
       "cluster E1--><a href=\"psysml:917c8e98-308c-4a57-bedc-72bb13927275\" target=\"_top\" title=\"psysml:917c8e98-308c-4a57-bedc-72bb13927275\" xlink:actuate=\"onRequest\" xlink:href=\"psysml:917c8e98-308c-4a57-bedc-72bb13927275\" xlink:show=\"new\" xlink:title=\"psysml:917c8e98-308c-4a57-bedc-72bb13927275\" xlink:type=\"simple\"><polygon fill=\"#FFFFFF\" filter=\"url(#f199r1e8t6ut7k)\" points=\"16,6,123,6,130,28.2969,1008,28.2969,1008,103,16,103,16,6\" style=\"stroke: #000000; stroke-width: 1.5;\"/><line style=\"stroke: #000000; stroke-width: 1.5;\" x1=\"16\" x2=\"130\" y1=\"28.2969\" y2=\"28.2969\"/><text fill=\"#000000\" font-family=\"sans-serif\" font-size=\"14\" font-weight=\"bold\" lengthAdjust=\"spacingAndGlyphs\" textLength=\"101\" x=\"20\" y=\"20.9951\">MultiplicityTest</text></a><!--MD5=[09b614a08d8cba4a07c9adeb5e0fee81]\n",
       "class E3--><a href=\"psysml:d0e8f829-c575-44a2-9ede-b108238de40c\" target=\"_top\" title=\"psysml:d0e8f829-c575-44a2-9ede-b108238de40c\" xlink:actuate=\"onRequest\" xlink:href=\"psysml:d0e8f829-c575-44a2-9ede-b108238de40c\" xlink:show=\"new\" xlink:title=\"psysml:d0e8f829-c575-44a2-9ede-b108238de40c\" xlink:type=\"simple\"><rect fill=\"#FEFECE\" filter=\"url(#f199r1e8t6ut7k)\" height=\"45.9375\" id=\"E3\" rx=\"10\" ry=\"10\" style=\"stroke: #A80036; stroke-width: 1.5;\" width=\"97\" x=\"895.5\" y=\"41\"/><ellipse cx=\"910.5\" cy=\"59.9688\" fill=\"#FFA500\" rx=\"11\" ry=\"11\" style=\"stroke: #A80036; stroke-width: 1.0;\"/><path d=\"M910.25,65.4375 Q908.5,65.4375 907.5469,64.4063 Q906.6094,63.3594 906.6094,61.5156 L906.6094,54.625 L908.6719,54.625 L908.6719,54.7813 Q908.5781,54.875 908.5469,55.0156 Q908.5313,55.1406 908.5313,55.4063 L908.5313,61.5313 Q908.5313,62.625 908.9063,63.25 Q909.2813,63.875 910.2656,63.875 Q911.25,63.875 911.6406,63.25 Q912.0313,62.625 912.0313,61.4844 L912.0313,54.625 L913.9063,54.625 L913.9063,61.4688 Q913.9063,63.5 912.875,64.4688 Q911.8594,65.4375 910.25,65.4375 Z \"/><text fill=\"#000000\" font-family=\"sans-serif\" font-size=\"12\" font-style=\"italic\" lengthAdjust=\"spacingAndGlyphs\" textLength=\"69\" x=\"922.5\" y=\"57.1387\">«attribute»</text><text fill=\"#000000\" font-family=\"sans-serif\" font-size=\"12\" lengthAdjust=\"spacingAndGlyphs\" textLength=\"61\" x=\"926.5\" y=\"71.1074\">n: Integer</text><line style=\"stroke: #A80036; stroke-width: 1.5;\" x1=\"896.5\" x2=\"991.5\" y1=\"78.9375\" y2=\"78.9375\"/></a><g id=\"E1.E11\"><a href=\"psysml:423769db-1814-486c-a3b1-3214b1eae655\" target=\"_top\" title=\"psysml:423769db-1814-486c-a3b1-3214b1eae655\" xlink:actuate=\"onRequest\" xlink:href=\"psysml:423769db-1814-486c-a3b1-3214b1eae655\" xlink:show=\"new\" xlink:title=\"psysml:423769db-1814-486c-a3b1-3214b1eae655\" xlink:type=\"simple\"><rect fill=\"#FEFECE\" filter=\"url(#f199r1e8t6ut7k)\" height=\"42.9375\" id=\"E11\" style=\"stroke: #A80036; stroke-width: 1.5;\" width=\"126\" x=\"734\" y=\"42.5\"/><ellipse cx=\"751.25\" cy=\"61.4688\" fill=\"#A52A2A\" rx=\"11\" ry=\"11\" style=\"stroke: #A80036; stroke-width: 1.0;\"/><path d=\"M748.4688,66.4688 L748.4688,55.875 L751.2031,55.875 Q752.5938,55.875 753.3594,56.2656 Q754.1406,56.6406 754.6719,57.3438 Q755.2031,58.0469 755.5,59.0469 Q755.7969,60.0313 755.7969,61.25 Q755.75,62.8438 755.25,64.0313 Q754.7656,65.2031 753.7188,65.8438 Q752.6875,66.4688 751,66.4688 L748.4688,66.4688 Z M750.3281,64.9688 L750.9531,64.9688 Q752.0313,64.9688 752.6875,64.5156 Q753.3438,64.0625 753.625,63.2344 Q753.9219,62.3906 753.9063,61.2656 Q753.9063,60.0938 753.6563,59.2344 Q753.4063,58.3594 752.7969,57.8906 Q752.1875,57.4063 751.1406,57.4063 L750.3281,57.4063 L750.3281,64.9688 Z \"/><text fill=\"#000000\" font-family=\"sans-serif\" font-size=\"12\" font-style=\"italic\" lengthAdjust=\"spacingAndGlyphs\" textLength=\"93\" x=\"763.75\" y=\"58.6387\">«attribute def»</text><text fill=\"#000000\" font-family=\"sans-serif\" font-size=\"12\" lengthAdjust=\"spacingAndGlyphs\" textLength=\"8\" x=\"806.25\" y=\"72.6074\">A</text></a></g><g id=\"E1.E2\"><a href=\"psysml:1b8e2ab6-001b-4483-8406-5463ddd95a77\" target=\"_top\" title=\"psysml:1b8e2ab6-001b-4483-8406-5463ddd95a77\" xlink:actuate=\"onRequest\" xlink:href=\"psysml:1b8e2ab6-001b-4483-8406-5463ddd95a77\" xlink:show=\"new\" xlink:title=\"psysml:1b8e2ab6-001b-4483-8406-5463ddd95a77\" xlink:type=\"simple\"><rect fill=\"#FEFECE\" filter=\"url(#f199r1e8t6ut7k)\" height=\"40\" id=\"E2\" style=\"stroke: #A80036; stroke-width: 1.5;\" width=\"50\" x=\"649\" y=\"44\"/><ellipse cx=\"668.5\" cy=\"60\" fill=\"#008000\" rx=\"11\" ry=\"11\" style=\"stroke: #A80036; stroke-width: 1.0;\"/><path d=\"M665.375,65 L665.375,54.4063 L668.6094,54.4063 Q670.5156,54.4063 671.4219,55.1563 Q672.3438,55.9063 672.3438,57.0781 Q672.3438,57.7656 671.9531,58.4219 Q671.5781,59.0781 670.8594,59.375 Q671.7188,59.75 672.2344,60.4375 Q672.75,61.125 672.75,61.9375 Q672.75,63.3125 671.7188,64.1563 Q670.7031,65 668.5938,65 L665.375,65 Z M667.2969,58.6406 L668.4531,58.6406 Q669.5781,58.6406 669.9844,58.2656 Q670.4063,57.875 670.4063,57.25 Q670.4063,56.6719 669.9844,56.3125 Q669.5625,55.9531 668.625,55.9531 L667.2969,55.9531 L667.2969,58.6406 Z M667.2969,63.4219 L668.7969,63.4219 Q669.7031,63.4219 670.2344,63.0313 Q670.7656,62.6406 670.7656,61.8906 Q670.7656,61.125 670.2656,60.6563 Q669.7656,60.1719 668.5,60.1719 L667.2969,60.1719 L667.2969,63.4219 Z \"/><text fill=\"#000000\" font-family=\"sans-serif\" font-size=\"12\" lengthAdjust=\"spacingAndGlyphs\" textLength=\"8\" x=\"683.5\" y=\"64.1543\">P</text></a></g><g id=\"E1.E4\"><a href=\"psysml:2de2cbdc-62e6-485a-a7d2-bee7f587f60d\" target=\"_top\" title=\"psysml:2de2cbdc-62e6-485a-a7d2-bee7f587f60d\" xlink:actuate=\"onRequest\" xlink:href=\"psysml:2de2cbdc-62e6-485a-a7d2-bee7f587f60d\" xlink:show=\"new\" xlink:title=\"psysml:2de2cbdc-62e6-485a-a7d2-bee7f587f60d\" xlink:type=\"simple\"><rect fill=\"#FEFECE\" filter=\"url(#f199r1e8t6ut7k)\" height=\"40\" id=\"E4\" rx=\"10\" ry=\"10\" style=\"stroke: #A80036; stroke-width: 1.5;\" width=\"50\" x=\"564\" y=\"44\"/><ellipse cx=\"583.5\" cy=\"60\" fill=\"#B6DBBB\" rx=\"11\" ry=\"11\" style=\"stroke: #A80036; stroke-width: 1.0;\"/><path d=\"M583.25,65.4688 Q581.5,65.4688 580.5469,64.4375 Q579.6094,63.3906 579.6094,61.5469 L579.6094,54.6563 L581.6719,54.6563 L581.6719,54.8125 Q581.5781,54.9063 581.5469,55.0469 Q581.5313,55.1719 581.5313,55.4375 L581.5313,61.5625 Q581.5313,62.6563 581.9063,63.2813 Q582.2813,63.9063 583.2656,63.9063 Q584.25,63.9063 584.6406,63.2813 Q585.0313,62.6563 585.0313,61.5156 L585.0313,54.6563 L586.9063,54.6563 L586.9063,61.5 Q586.9063,63.5313 585.875,64.5 Q584.8594,65.4688 583.25,65.4688 Z \"/><text fill=\"#000000\" font-family=\"sans-serif\" font-size=\"12\" lengthAdjust=\"spacingAndGlyphs\" textLength=\"8\" x=\"598.5\" y=\"64.1543\">a</text></a></g><g id=\"E1.E5\"><a href=\"psysml:a47b2c6e-81dd-4a7f-97e2-f2f751620c17\" target=\"_top\" title=\"psysml:a47b2c6e-81dd-4a7f-97e2-f2f751620c17\" xlink:actuate=\"onRequest\" xlink:href=\"psysml:a47b2c6e-81dd-4a7f-97e2-f2f751620c17\" xlink:show=\"new\" xlink:title=\"psysml:a47b2c6e-81dd-4a7f-97e2-f2f751620c17\" xlink:type=\"simple\"><rect fill=\"#FEFECE\" filter=\"url(#f199r1e8t6ut7k)\" height=\"40\" id=\"E5\" rx=\"10\" ry=\"10\" style=\"stroke: #A80036; stroke-width: 1.5;\" width=\"61\" x=\"467.5\" y=\"44\"/><ellipse cx=\"484.75\" cy=\"60\" fill=\"#B6DBBB\" rx=\"11\" ry=\"11\" style=\"stroke: #A80036; stroke-width: 1.0;\"/><path d=\"M484.5,65.4688 Q482.75,65.4688 481.7969,64.4375 Q480.8594,63.3906 480.8594,61.5469 L480.8594,54.6563 L482.9219,54.6563 L482.9219,54.8125 Q482.8281,54.9063 482.7969,55.0469 Q482.7813,55.1719 482.7813,55.4375 L482.7813,61.5625 Q482.7813,62.6563 483.1563,63.2813 Q483.5313,63.9063 484.5156,63.9063 Q485.5,63.9063 485.8906,63.2813 Q486.2813,62.6563 486.2813,61.5156 L486.2813,54.6563 L488.1563,54.6563 L488.1563,61.5 Q488.1563,63.5313 487.125,64.5 Q486.1094,65.4688 484.5,65.4688 Z \"/><text fill=\"#000000\" font-family=\"sans-serif\" font-size=\"12\" lengthAdjust=\"spacingAndGlyphs\" textLength=\"24\" x=\"499.25\" y=\"64.1543\">b: P</text></a></g><g id=\"E1.E6\"><a href=\"psysml:46e4b238-da26-40c7-b1f6-d3a4f2631481\" target=\"_top\" title=\"psysml:46e4b238-da26-40c7-b1f6-d3a4f2631481\" xlink:actuate=\"onRequest\" xlink:href=\"psysml:46e4b238-da26-40c7-b1f6-d3a4f2631481\" xlink:show=\"new\" xlink:title=\"psysml:46e4b238-da26-40c7-b1f6-d3a4f2631481\" xlink:type=\"simple\"><rect fill=\"#FEFECE\" filter=\"url(#f199r1e8t6ut7k)\" height=\"40\" id=\"E6\" rx=\"10\" ry=\"10\" style=\"stroke: #A80036; stroke-width: 1.5;\" width=\"60\" x=\"372\" y=\"44\"/><ellipse cx=\"389.25\" cy=\"60\" fill=\"#B6DBBB\" rx=\"11\" ry=\"11\" style=\"stroke: #A80036; stroke-width: 1.0;\"/><path d=\"M389,65.4688 Q387.25,65.4688 386.2969,64.4375 Q385.3594,63.3906 385.3594,61.5469 L385.3594,54.6563 L387.4219,54.6563 L387.4219,54.8125 Q387.3281,54.9063 387.2969,55.0469 Q387.2813,55.1719 387.2813,55.4375 L387.2813,61.5625 Q387.2813,62.6563 387.6563,63.2813 Q388.0313,63.9063 389.0156,63.9063 Q390,63.9063 390.3906,63.2813 Q390.7813,62.6563 390.7813,61.5156 L390.7813,54.6563 L392.6563,54.6563 L392.6563,61.5 Q392.6563,63.5313 391.625,64.5 Q390.6094,65.4688 389,65.4688 Z \"/><text fill=\"#000000\" font-family=\"sans-serif\" font-size=\"12\" lengthAdjust=\"spacingAndGlyphs\" textLength=\"23\" x=\"403.75\" y=\"64.1543\">c: P</text></a></g><g id=\"E1.E7\"><a href=\"psysml:862abcb1-d094-4d1f-a90d-b0af915cd2bb\" target=\"_top\" title=\"psysml:862abcb1-d094-4d1f-a90d-b0af915cd2bb\" xlink:actuate=\"onRequest\" xlink:href=\"psysml:862abcb1-d094-4d1f-a90d-b0af915cd2bb\" xlink:show=\"new\" xlink:title=\"psysml:862abcb1-d094-4d1f-a90d-b0af915cd2bb\" xlink:type=\"simple\"><rect fill=\"#FEFECE\" filter=\"url(#f199r1e8t6ut7k)\" height=\"40\" id=\"E7\" rx=\"10\" ry=\"10\" style=\"stroke: #A80036; stroke-width: 1.5;\" width=\"50\" x=\"287\" y=\"44\"/><ellipse cx=\"306.5\" cy=\"60\" fill=\"#B6DBBB\" rx=\"11\" ry=\"11\" style=\"stroke: #A80036; stroke-width: 1.0;\"/><path d=\"M306.25,65.4688 Q304.5,65.4688 303.5469,64.4375 Q302.6094,63.3906 302.6094,61.5469 L302.6094,54.6563 L304.6719,54.6563 L304.6719,54.8125 Q304.5781,54.9063 304.5469,55.0469 Q304.5313,55.1719 304.5313,55.4375 L304.5313,61.5625 Q304.5313,62.6563 304.9063,63.2813 Q305.2813,63.9063 306.2656,63.9063 Q307.25,63.9063 307.6406,63.2813 Q308.0313,62.6563 308.0313,61.5156 L308.0313,54.6563 L309.9063,54.6563 L309.9063,61.5 Q309.9063,63.5313 308.875,64.5 Q307.8594,65.4688 306.25,65.4688 Z \"/><text fill=\"#000000\" font-family=\"sans-serif\" font-size=\"12\" lengthAdjust=\"spacingAndGlyphs\" textLength=\"8\" x=\"321.5\" y=\"64.1543\">d</text></a></g><g id=\"E1.E8\"><a href=\"psysml:0f8b0aa8-e59b-4cfe-b590-8672d08a4434\" target=\"_top\" title=\"psysml:0f8b0aa8-e59b-4cfe-b590-8672d08a4434\" xlink:actuate=\"onRequest\" xlink:href=\"psysml:0f8b0aa8-e59b-4cfe-b590-8672d08a4434\" xlink:show=\"new\" xlink:title=\"psysml:0f8b0aa8-e59b-4cfe-b590-8672d08a4434\" xlink:type=\"simple\"><rect fill=\"#FEFECE\" filter=\"url(#f199r1e8t6ut7k)\" height=\"40\" id=\"E8\" rx=\"10\" ry=\"10\" style=\"stroke: #A80036; stroke-width: 1.5;\" width=\"50\" x=\"202\" y=\"44\"/><ellipse cx=\"221.5\" cy=\"60\" fill=\"#B6DBBB\" rx=\"11\" ry=\"11\" style=\"stroke: #A80036; stroke-width: 1.0;\"/><path d=\"M221.25,65.4688 Q219.5,65.4688 218.5469,64.4375 Q217.6094,63.3906 217.6094,61.5469 L217.6094,54.6563 L219.6719,54.6563 L219.6719,54.8125 Q219.5781,54.9063 219.5469,55.0469 Q219.5313,55.1719 219.5313,55.4375 L219.5313,61.5625 Q219.5313,62.6563 219.9063,63.2813 Q220.2813,63.9063 221.2656,63.9063 Q222.25,63.9063 222.6406,63.2813 Q223.0313,62.6563 223.0313,61.5156 L223.0313,54.6563 L224.9063,54.6563 L224.9063,61.5 Q224.9063,63.5313 223.875,64.5 Q222.8594,65.4688 221.25,65.4688 Z \"/><text fill=\"#000000\" font-family=\"sans-serif\" font-size=\"12\" lengthAdjust=\"spacingAndGlyphs\" textLength=\"8\" x=\"236.5\" y=\"64.1543\">e</text></a></g><g id=\"E1.E9\"><a href=\"psysml:07bb6063-49af-4acb-bb76-a6a51f542bf8\" target=\"_top\" title=\"psysml:07bb6063-49af-4acb-bb76-a6a51f542bf8\" xlink:actuate=\"onRequest\" xlink:href=\"psysml:07bb6063-49af-4acb-bb76-a6a51f542bf8\" xlink:show=\"new\" xlink:title=\"psysml:07bb6063-49af-4acb-bb76-a6a51f542bf8\" xlink:type=\"simple\"><rect fill=\"#FEFECE\" filter=\"url(#f199r1e8t6ut7k)\" height=\"40\" id=\"E9\" rx=\"10\" ry=\"10\" style=\"stroke: #A80036; stroke-width: 1.5;\" width=\"50\" x=\"117\" y=\"44\"/><ellipse cx=\"138.3\" cy=\"60\" fill=\"#B6DBBB\" rx=\"11\" ry=\"11\" style=\"stroke: #A80036; stroke-width: 1.0;\"/><path d=\"M138.05,65.4688 Q136.3,65.4688 135.3469,64.4375 Q134.4094,63.3906 134.4094,61.5469 L134.4094,54.6563 L136.4719,54.6563 L136.4719,54.8125 Q136.3781,54.9063 136.3469,55.0469 Q136.3313,55.1719 136.3313,55.4375 L136.3313,61.5625 Q136.3313,62.6563 136.7063,63.2813 Q137.0813,63.9063 138.0656,63.9063 Q139.05,63.9063 139.4406,63.2813 Q139.8313,62.6563 139.8313,61.5156 L139.8313,54.6563 L141.7063,54.6563 L141.7063,61.5 Q141.7063,63.5313 140.675,64.5 Q139.6594,65.4688 138.05,65.4688 Z \"/><text fill=\"#000000\" font-family=\"sans-serif\" font-size=\"12\" lengthAdjust=\"spacingAndGlyphs\" textLength=\"4\" x=\"153.7\" y=\"64.1543\">f</text></a></g><g id=\"E1.E10\"><a href=\"psysml:87a6ec87-e214-496f-a09f-1f6dfd597ed3\" target=\"_top\" title=\"psysml:87a6ec87-e214-496f-a09f-1f6dfd597ed3\" xlink:actuate=\"onRequest\" xlink:href=\"psysml:87a6ec87-e214-496f-a09f-1f6dfd597ed3\" xlink:show=\"new\" xlink:title=\"psysml:87a6ec87-e214-496f-a09f-1f6dfd597ed3\" xlink:type=\"simple\"><rect fill=\"#FEFECE\" filter=\"url(#f199r1e8t6ut7k)\" height=\"40\" id=\"E10\" rx=\"10\" ry=\"10\" style=\"stroke: #A80036; stroke-width: 1.5;\" width=\"50\" x=\"32\" y=\"44\"/><ellipse cx=\"51.5\" cy=\"60\" fill=\"#B6DBBB\" rx=\"11\" ry=\"11\" style=\"stroke: #A80036; stroke-width: 1.0;\"/><path d=\"M51.25,65.4688 Q49.5,65.4688 48.5469,64.4375 Q47.6094,63.3906 47.6094,61.5469 L47.6094,54.6563 L49.6719,54.6563 L49.6719,54.8125 Q49.5781,54.9063 49.5469,55.0469 Q49.5313,55.1719 49.5313,55.4375 L49.5313,61.5625 Q49.5313,62.6563 49.9063,63.2813 Q50.2813,63.9063 51.2656,63.9063 Q52.25,63.9063 52.6406,63.2813 Q53.0313,62.6563 53.0313,61.5156 L53.0313,54.6563 L54.9063,54.6563 L54.9063,61.5 Q54.9063,63.5313 53.875,64.5 Q52.8594,65.4688 51.25,65.4688 Z \"/><text fill=\"#000000\" font-family=\"sans-serif\" font-size=\"12\" lengthAdjust=\"spacingAndGlyphs\" textLength=\"8\" x=\"66.5\" y=\"64.1543\">g</text></a></g><!--MD5=[a3f709c2acfa28cdac1011a05b03528b]\n",
       "@startuml\r\n",
       "skinparam ranksep 10\r\n",
       "skinparam rectangle {\r\n",
       " backgroundColor<<block>> LightGreen\r\n",
       "}\r\n",
       " \r\n",
       "package \"MultiplicityTest\" as E1  [[psysml:917c8e98-308c-4a57-bedc-72bb13927275 ]]  {\r\n",
       "rec def \"P\" as E2 << << (B,green) >> [[psysml:1b8e2ab6-001b-4483-8406-5463ddd95a77 ]] {\r\n",
       "}\r\n",
       "comp usage \"n: Integer\" as E3 << <<(U,orange) attribute>> [[psysml:d0e8f829-c575-44a2-9ede-b108238de40c ]] {\r\n",
       "}\r\n",
       "rec usage \"a\" as E4  [[psysml:2de2cbdc-62e6-485a-a7d2-bee7f587f60d ]] {\r\n",
       "}\r\n",
       "rec usage \"b: P\" as E5  [[psysml:a47b2c6e-81dd-4a7f-97e2-f2f751620c17 ]] {\r\n",
       "}\r\n",
       "rec usage \"c: P\" as E6  [[psysml:46e4b238-da26-40c7-b1f6-d3a4f2631481 ]] {\r\n",
       "}\r\n",
       "rec usage \"d\" as E7  [[psysml:862abcb1-d094-4d1f-a90d-b0af915cd2bb ]] {\r\n",
       "}\r\n",
       "rec usage \"e\" as E8  [[psysml:0f8b0aa8-e59b-4cfe-b590-8672d08a4434 ]] {\r\n",
       "}\r\n",
       "rec usage \"f\" as E9  [[psysml:07bb6063-49af-4acb-bb76-a6a51f542bf8 ]] {\r\n",
       "}\r\n",
       "rec usage \"g\" as E10  [[psysml:87a6ec87-e214-496f-a09f-1f6dfd597ed3 ]] {\r\n",
       "}\r\n",
       "def \"A\" as E11 << <<(D,brown) attribute def>> [[psysml:423769db-1814-486c-a3b1-3214b1eae655 ]] \r\n",
       "}\r\n",
       "@enduml\r\n",
       "\n",
       "PlantUML version 1.2020.13(Sat Jun 13 12:26:38 UTC 2020)\n",
       "(EPL source distribution)\n",
       "Java Runtime: OpenJDK Runtime Environment\n",
       "JVM: OpenJDK 64-Bit Server VM\n",
       "Default Encoding: UTF-8\n",
       "Language: en\n",
       "Country: null\n",
       "--></g></svg>"
      ]
     },
     "execution_count": 33,
     "metadata": {},
     "output_type": "execute_result"
    }
   ],
   "source": [
    "%viz --style=\"PLANTUML\" --view=\"Interconnection\" \"MultiplicityTest\""
   ]
  },
  {
   "cell_type": "code",
   "execution_count": 34,
   "id": "f01dc624",
   "metadata": {
    "execution": {
     "iopub.execute_input": "2021-10-03T08:30:21.218436Z",
     "iopub.status.busy": "2021-10-03T08:30:21.218037Z",
     "iopub.status.idle": "2021-10-03T08:30:21.222517Z",
     "shell.execute_reply": "2021-10-03T08:30:21.222827Z"
    }
   },
   "outputs": [
    {
     "data": {
      "image/svg+xml": [
       "<?xml version=\"1.0\" encoding=\"UTF-8\" standalone=\"no\"?><svg xmlns=\"http://www.w3.org/2000/svg\" xmlns:xlink=\"http://www.w3.org/1999/xlink\" contentScriptType=\"application/ecmascript\" contentStyleType=\"text/css\" height=\"12px\" preserveAspectRatio=\"none\" style=\"width:12px;height:12px;\" version=\"1.1\" viewBox=\"0 0 12 12\" width=\"12px\" zoomAndPan=\"magnify\"><defs/><g><!--MD5=[6a4cb978cab31700e1ce5529f947a75d]\n",
       "@startuml\r\n",
       "skinparam ranksep 8\r\n",
       " \r\n",
       "@enduml\r\n",
       "\n",
       "PlantUML version 1.2020.13(Sat Jun 13 12:26:38 UTC 2020)\n",
       "(EPL source distribution)\n",
       "Java Runtime: OpenJDK Runtime Environment\n",
       "JVM: OpenJDK 64-Bit Server VM\n",
       "Default Encoding: UTF-8\n",
       "Language: en\n",
       "Country: null\n",
       "--></g></svg>"
      ]
     },
     "execution_count": 34,
     "metadata": {},
     "output_type": "execute_result"
    }
   ],
   "source": [
    "%viz --style=\"PLANTUML\" --view=\"Action\" \"MultiplicityTest\""
   ]
  },
  {
   "cell_type": "code",
   "execution_count": 35,
   "id": "6ceb92ec",
   "metadata": {
    "execution": {
     "iopub.execute_input": "2021-10-03T08:30:21.272321Z",
     "iopub.status.busy": "2021-10-03T08:30:21.271928Z",
     "iopub.status.idle": "2021-10-03T08:30:21.276307Z",
     "shell.execute_reply": "2021-10-03T08:30:21.276616Z"
    }
   },
   "outputs": [
    {
     "data": {
      "image/svg+xml": [
       "<?xml version=\"1.0\" encoding=\"UTF-8\" standalone=\"no\"?><svg xmlns=\"http://www.w3.org/2000/svg\" xmlns:xlink=\"http://www.w3.org/1999/xlink\" contentScriptType=\"application/ecmascript\" contentStyleType=\"text/css\" height=\"12px\" preserveAspectRatio=\"none\" style=\"width:12px;height:12px;\" version=\"1.1\" viewBox=\"0 0 12 12\" width=\"12px\" zoomAndPan=\"magnify\"><defs/><g><!--MD5=[ca4faa0b02def275ea33c14ea7a1a98d]\n",
       "@startuml\r\n",
       "skinparam roundcorner 20\r\n",
       "skinparam BoxPadding 20\r\n",
       "skinparam SequenceBoxBackgroundColor #white\r\n",
       "skinparam style strictuml\r\n",
       "skinparam maxMessageSize 100\r\n",
       " \r\n",
       "@enduml\r\n",
       "\n",
       "PlantUML version 1.2020.13(Sat Jun 13 12:26:38 UTC 2020)\n",
       "(EPL source distribution)\n",
       "Java Runtime: OpenJDK Runtime Environment\n",
       "JVM: OpenJDK 64-Bit Server VM\n",
       "Default Encoding: UTF-8\n",
       "Language: en\n",
       "Country: null\n",
       "--></g></svg>"
      ]
     },
     "execution_count": 35,
     "metadata": {},
     "output_type": "execute_result"
    }
   ],
   "source": [
    "%viz --style=\"PLANTUML\" --view=\"Sequence\" \"MultiplicityTest\""
   ]
  },
  {
   "cell_type": "code",
   "execution_count": 36,
   "id": "28b84799",
   "metadata": {
    "execution": {
     "iopub.execute_input": "2021-10-03T08:30:21.326144Z",
     "iopub.status.busy": "2021-10-03T08:30:21.325751Z",
     "iopub.status.idle": "2021-10-03T08:30:21.371694Z",
     "shell.execute_reply": "2021-10-03T08:30:21.371345Z"
    }
   },
   "outputs": [
    {
     "data": {
      "image/svg+xml": [
       "<?xml version=\"1.0\" encoding=\"UTF-8\" standalone=\"no\"?><svg xmlns=\"http://www.w3.org/2000/svg\" xmlns:xlink=\"http://www.w3.org/1999/xlink\" contentScriptType=\"application/ecmascript\" contentStyleType=\"text/css\" height=\"241px\" preserveAspectRatio=\"none\" style=\"width:1045px;height:241px;\" version=\"1.1\" viewBox=\"0 0 1045 241\" width=\"1045px\" zoomAndPan=\"magnify\"><defs><filter height=\"300%\" id=\"f1aag2xcrl8juw\" width=\"300%\" x=\"-1\" y=\"-1\"><feGaussianBlur result=\"blurOut\" stdDeviation=\"2.0\"/><feColorMatrix in=\"blurOut\" result=\"blurOut2\" type=\"matrix\" values=\"0 0 0 0 0 0 0 0 0 0 0 0 0 0 0 0 0 0 .4 0\"/><feOffset dx=\"4.0\" dy=\"4.0\" in=\"blurOut2\" result=\"blurOut3\"/><feBlend in=\"SourceGraphic\" in2=\"blurOut3\" mode=\"normal\"/></filter></defs><g><!--MD5=[fbc87193dbaf4d95561dea2c320d4a47]\n",
       "cluster E1--><a href=\"psysml:917c8e98-308c-4a57-bedc-72bb13927275\" target=\"_top\" title=\"psysml:917c8e98-308c-4a57-bedc-72bb13927275\" xlink:actuate=\"onRequest\" xlink:href=\"psysml:917c8e98-308c-4a57-bedc-72bb13927275\" xlink:show=\"new\" xlink:title=\"psysml:917c8e98-308c-4a57-bedc-72bb13927275\" xlink:type=\"simple\"><polygon fill=\"#FFFFFF\" filter=\"url(#f1aag2xcrl8juw)\" points=\"16,6,123,6,130,28.2969,1023,28.2969,1023,229,16,229,16,6\" style=\"stroke: #000000; stroke-width: 1.5;\"/><line style=\"stroke: #000000; stroke-width: 1.5;\" x1=\"16\" x2=\"130\" y1=\"28.2969\" y2=\"28.2969\"/><text fill=\"#000000\" font-family=\"sans-serif\" font-size=\"14\" font-weight=\"bold\" lengthAdjust=\"spacingAndGlyphs\" textLength=\"101\" x=\"20\" y=\"20.9951\">MultiplicityTest</text></a><!--MD5=[b4997ac47864f28c2f74865a473b2911]\n",
       "class E2--><a href=\"psysml:1b8e2ab6-001b-4483-8406-5463ddd95a77\" target=\"_top\" title=\"psysml:1b8e2ab6-001b-4483-8406-5463ddd95a77\" xlink:actuate=\"onRequest\" xlink:href=\"psysml:1b8e2ab6-001b-4483-8406-5463ddd95a77\" xlink:show=\"new\" xlink:title=\"psysml:1b8e2ab6-001b-4483-8406-5463ddd95a77\" xlink:type=\"simple\"><rect fill=\"#FEFECE\" filter=\"url(#f1aag2xcrl8juw)\" height=\"40\" id=\"E2\" style=\"stroke: #A80036; stroke-width: 1.5;\" width=\"40\" x=\"666\" y=\"173\"/><ellipse cx=\"681\" cy=\"189\" fill=\"#008000\" rx=\"11\" ry=\"11\" style=\"stroke: #A80036; stroke-width: 1.0;\"/><path d=\"M677.875,194 L677.875,183.4063 L681.1094,183.4063 Q683.0156,183.4063 683.9219,184.1563 Q684.8438,184.9063 684.8438,186.0781 Q684.8438,186.7656 684.4531,187.4219 Q684.0781,188.0781 683.3594,188.375 Q684.2188,188.75 684.7344,189.4375 Q685.25,190.125 685.25,190.9375 Q685.25,192.3125 684.2188,193.1563 Q683.2031,194 681.0938,194 L677.875,194 Z M679.7969,187.6406 L680.9531,187.6406 Q682.0781,187.6406 682.4844,187.2656 Q682.9063,186.875 682.9063,186.25 Q682.9063,185.6719 682.4844,185.3125 Q682.0625,184.9531 681.125,184.9531 L679.7969,184.9531 L679.7969,187.6406 Z M679.7969,192.4219 L681.2969,192.4219 Q682.2031,192.4219 682.7344,192.0313 Q683.2656,191.6406 683.2656,190.8906 Q683.2656,190.125 682.7656,189.6563 Q682.2656,189.1719 681,189.1719 L679.7969,189.1719 L679.7969,192.4219 Z \"/><text fill=\"#000000\" font-family=\"sans-serif\" font-size=\"12\" lengthAdjust=\"spacingAndGlyphs\" textLength=\"8\" x=\"695\" y=\"193.1543\">P</text><line style=\"stroke: #A80036; stroke-width: 1.5;\" x1=\"667\" x2=\"705\" y1=\"205\" y2=\"205\"/></a><!--MD5=[09b614a08d8cba4a07c9adeb5e0fee81]\n",
       "class E3--><a href=\"psysml:d0e8f829-c575-44a2-9ede-b108238de40c\" target=\"_top\" title=\"psysml:d0e8f829-c575-44a2-9ede-b108238de40c\" xlink:actuate=\"onRequest\" xlink:href=\"psysml:d0e8f829-c575-44a2-9ede-b108238de40c\" xlink:show=\"new\" xlink:title=\"psysml:d0e8f829-c575-44a2-9ede-b108238de40c\" xlink:type=\"simple\"><rect fill=\"#FEFECE\" filter=\"url(#f1aag2xcrl8juw)\" height=\"45.9375\" id=\"E3\" rx=\"10\" ry=\"10\" style=\"stroke: #A80036; stroke-width: 1.5;\" width=\"97\" x=\"910.5\" y=\"54\"/><ellipse cx=\"925.5\" cy=\"72.9688\" fill=\"#FFA500\" rx=\"11\" ry=\"11\" style=\"stroke: #A80036; stroke-width: 1.0;\"/><path d=\"M925.25,78.4375 Q923.5,78.4375 922.5469,77.4063 Q921.6094,76.3594 921.6094,74.5156 L921.6094,67.625 L923.6719,67.625 L923.6719,67.7813 Q923.5781,67.875 923.5469,68.0156 Q923.5313,68.1406 923.5313,68.4063 L923.5313,74.5313 Q923.5313,75.625 923.9063,76.25 Q924.2813,76.875 925.2656,76.875 Q926.25,76.875 926.6406,76.25 Q927.0313,75.625 927.0313,74.4844 L927.0313,67.625 L928.9063,67.625 L928.9063,74.4688 Q928.9063,76.5 927.875,77.4688 Q926.8594,78.4375 925.25,78.4375 Z \"/><text fill=\"#000000\" font-family=\"sans-serif\" font-size=\"12\" font-style=\"italic\" lengthAdjust=\"spacingAndGlyphs\" textLength=\"69\" x=\"937.5\" y=\"70.1387\">«attribute»</text><text fill=\"#000000\" font-family=\"sans-serif\" font-size=\"12\" lengthAdjust=\"spacingAndGlyphs\" textLength=\"61\" x=\"941.5\" y=\"84.1074\">n: Integer</text><line style=\"stroke: #A80036; stroke-width: 1.5;\" x1=\"911.5\" x2=\"1006.5\" y1=\"91.9375\" y2=\"91.9375\"/></a><!--MD5=[ebbe1d658d1005bcc118a6aa81145e00]\n",
       "class E4--><a href=\"psysml:2de2cbdc-62e6-485a-a7d2-bee7f587f60d\" target=\"_top\" title=\"psysml:2de2cbdc-62e6-485a-a7d2-bee7f587f60d\" xlink:actuate=\"onRequest\" xlink:href=\"psysml:2de2cbdc-62e6-485a-a7d2-bee7f587f60d\" xlink:show=\"new\" xlink:title=\"psysml:2de2cbdc-62e6-485a-a7d2-bee7f587f60d\" xlink:type=\"simple\"><rect fill=\"#FEFECE\" filter=\"url(#f1aag2xcrl8juw)\" height=\"45.9375\" id=\"E4\" rx=\"10\" ry=\"10\" style=\"stroke: #A80036; stroke-width: 1.5;\" width=\"68\" x=\"807\" y=\"54\"/><ellipse cx=\"822\" cy=\"72.9688\" fill=\"#32CD32\" rx=\"11\" ry=\"11\" style=\"stroke: #A80036; stroke-width: 1.0;\"/><path d=\"M818.8125,77.9688 L818.8125,67.375 L822.4219,67.375 Q823.6406,67.375 824.4375,67.8125 Q825.2344,68.2344 825.6094,68.9375 Q826,69.6406 826,70.4844 Q826,71.3281 825.625,72.0156 Q825.2656,72.7031 824.4688,73.125 Q823.6875,73.5313 822.5,73.5313 L820.7656,73.5313 L820.7656,77.9688 L818.8125,77.9688 Z M820.7656,71.9375 L822.375,71.9375 Q823.1875,71.9375 823.6094,71.5313 Q824.0313,71.125 824.0313,70.4844 Q824.0313,69.8594 823.6094,69.4531 Q823.1875,69.0469 822.3906,69.0469 L820.7656,69.0469 L820.7656,71.9375 Z \"/><text fill=\"#000000\" font-family=\"sans-serif\" font-size=\"12\" font-style=\"italic\" lengthAdjust=\"spacingAndGlyphs\" textLength=\"40\" x=\"834\" y=\"70.1387\">«part»</text><text fill=\"#000000\" font-family=\"sans-serif\" font-size=\"12\" lengthAdjust=\"spacingAndGlyphs\" textLength=\"8\" x=\"850\" y=\"84.1074\">a</text><line style=\"stroke: #A80036; stroke-width: 1.5;\" x1=\"808\" x2=\"874\" y1=\"91.9375\" y2=\"91.9375\"/></a><!--MD5=[270fce915f116d4de14055a7c1d9a0f3]\n",
       "class E5--><a href=\"psysml:a47b2c6e-81dd-4a7f-97e2-f2f751620c17\" target=\"_top\" title=\"psysml:a47b2c6e-81dd-4a7f-97e2-f2f751620c17\" xlink:actuate=\"onRequest\" xlink:href=\"psysml:a47b2c6e-81dd-4a7f-97e2-f2f751620c17\" xlink:show=\"new\" xlink:title=\"psysml:a47b2c6e-81dd-4a7f-97e2-f2f751620c17\" xlink:type=\"simple\"><rect fill=\"#FEFECE\" filter=\"url(#f1aag2xcrl8juw)\" height=\"45.9375\" id=\"E5\" rx=\"10\" ry=\"10\" style=\"stroke: #A80036; stroke-width: 1.5;\" width=\"68\" x=\"704\" y=\"54\"/><ellipse cx=\"719\" cy=\"72.9688\" fill=\"#32CD32\" rx=\"11\" ry=\"11\" style=\"stroke: #A80036; stroke-width: 1.0;\"/><path d=\"M715.8125,77.9688 L715.8125,67.375 L719.4219,67.375 Q720.6406,67.375 721.4375,67.8125 Q722.2344,68.2344 722.6094,68.9375 Q723,69.6406 723,70.4844 Q723,71.3281 722.625,72.0156 Q722.2656,72.7031 721.4688,73.125 Q720.6875,73.5313 719.5,73.5313 L717.7656,73.5313 L717.7656,77.9688 L715.8125,77.9688 Z M717.7656,71.9375 L719.375,71.9375 Q720.1875,71.9375 720.6094,71.5313 Q721.0313,71.125 721.0313,70.4844 Q721.0313,69.8594 720.6094,69.4531 Q720.1875,69.0469 719.3906,69.0469 L717.7656,69.0469 L717.7656,71.9375 Z \"/><text fill=\"#000000\" font-family=\"sans-serif\" font-size=\"12\" font-style=\"italic\" lengthAdjust=\"spacingAndGlyphs\" textLength=\"40\" x=\"731\" y=\"70.1387\">«part»</text><text fill=\"#000000\" font-family=\"sans-serif\" font-size=\"12\" lengthAdjust=\"spacingAndGlyphs\" textLength=\"24\" x=\"739\" y=\"84.1074\">b: P</text><line style=\"stroke: #A80036; stroke-width: 1.5;\" x1=\"705\" x2=\"771\" y1=\"91.9375\" y2=\"91.9375\"/></a><!--MD5=[60a26617385b1d2d0262a64233df1f8d]\n",
       "class E6--><a href=\"psysml:46e4b238-da26-40c7-b1f6-d3a4f2631481\" target=\"_top\" title=\"psysml:46e4b238-da26-40c7-b1f6-d3a4f2631481\" xlink:actuate=\"onRequest\" xlink:href=\"psysml:46e4b238-da26-40c7-b1f6-d3a4f2631481\" xlink:show=\"new\" xlink:title=\"psysml:46e4b238-da26-40c7-b1f6-d3a4f2631481\" xlink:type=\"simple\"><rect fill=\"#FEFECE\" filter=\"url(#f1aag2xcrl8juw)\" height=\"45.9375\" id=\"E6\" rx=\"10\" ry=\"10\" style=\"stroke: #A80036; stroke-width: 1.5;\" width=\"68\" x=\"601\" y=\"54\"/><ellipse cx=\"616\" cy=\"72.9688\" fill=\"#32CD32\" rx=\"11\" ry=\"11\" style=\"stroke: #A80036; stroke-width: 1.0;\"/><path d=\"M612.8125,77.9688 L612.8125,67.375 L616.4219,67.375 Q617.6406,67.375 618.4375,67.8125 Q619.2344,68.2344 619.6094,68.9375 Q620,69.6406 620,70.4844 Q620,71.3281 619.625,72.0156 Q619.2656,72.7031 618.4688,73.125 Q617.6875,73.5313 616.5,73.5313 L614.7656,73.5313 L614.7656,77.9688 L612.8125,77.9688 Z M614.7656,71.9375 L616.375,71.9375 Q617.1875,71.9375 617.6094,71.5313 Q618.0313,71.125 618.0313,70.4844 Q618.0313,69.8594 617.6094,69.4531 Q617.1875,69.0469 616.3906,69.0469 L614.7656,69.0469 L614.7656,71.9375 Z \"/><text fill=\"#000000\" font-family=\"sans-serif\" font-size=\"12\" font-style=\"italic\" lengthAdjust=\"spacingAndGlyphs\" textLength=\"40\" x=\"628\" y=\"70.1387\">«part»</text><text fill=\"#000000\" font-family=\"sans-serif\" font-size=\"12\" lengthAdjust=\"spacingAndGlyphs\" textLength=\"23\" x=\"636.5\" y=\"84.1074\">c: P</text><line style=\"stroke: #A80036; stroke-width: 1.5;\" x1=\"602\" x2=\"668\" y1=\"91.9375\" y2=\"91.9375\"/></a><!--MD5=[2156ba9850f5573cc1fc38a6a4b2f02b]\n",
       "class E7--><a href=\"psysml:862abcb1-d094-4d1f-a90d-b0af915cd2bb\" target=\"_top\" title=\"psysml:862abcb1-d094-4d1f-a90d-b0af915cd2bb\" xlink:actuate=\"onRequest\" xlink:href=\"psysml:862abcb1-d094-4d1f-a90d-b0af915cd2bb\" xlink:show=\"new\" xlink:title=\"psysml:862abcb1-d094-4d1f-a90d-b0af915cd2bb\" xlink:type=\"simple\"><rect fill=\"#FEFECE\" filter=\"url(#f1aag2xcrl8juw)\" height=\"45.9375\" id=\"E7\" rx=\"10\" ry=\"10\" style=\"stroke: #A80036; stroke-width: 1.5;\" width=\"68\" x=\"498\" y=\"54\"/><ellipse cx=\"513\" cy=\"72.9688\" fill=\"#32CD32\" rx=\"11\" ry=\"11\" style=\"stroke: #A80036; stroke-width: 1.0;\"/><path d=\"M509.8125,77.9688 L509.8125,67.375 L513.4219,67.375 Q514.6406,67.375 515.4375,67.8125 Q516.2344,68.2344 516.6094,68.9375 Q517,69.6406 517,70.4844 Q517,71.3281 516.625,72.0156 Q516.2656,72.7031 515.4688,73.125 Q514.6875,73.5313 513.5,73.5313 L511.7656,73.5313 L511.7656,77.9688 L509.8125,77.9688 Z M511.7656,71.9375 L513.375,71.9375 Q514.1875,71.9375 514.6094,71.5313 Q515.0313,71.125 515.0313,70.4844 Q515.0313,69.8594 514.6094,69.4531 Q514.1875,69.0469 513.3906,69.0469 L511.7656,69.0469 L511.7656,71.9375 Z \"/><text fill=\"#000000\" font-family=\"sans-serif\" font-size=\"12\" font-style=\"italic\" lengthAdjust=\"spacingAndGlyphs\" textLength=\"40\" x=\"525\" y=\"70.1387\">«part»</text><text fill=\"#000000\" font-family=\"sans-serif\" font-size=\"12\" lengthAdjust=\"spacingAndGlyphs\" textLength=\"8\" x=\"541\" y=\"84.1074\">d</text><line style=\"stroke: #A80036; stroke-width: 1.5;\" x1=\"499\" x2=\"565\" y1=\"91.9375\" y2=\"91.9375\"/></a><!--MD5=[b9389687b975829384b498ac4b7476b2]\n",
       "class E8--><a href=\"psysml:0f8b0aa8-e59b-4cfe-b590-8672d08a4434\" target=\"_top\" title=\"psysml:0f8b0aa8-e59b-4cfe-b590-8672d08a4434\" xlink:actuate=\"onRequest\" xlink:href=\"psysml:0f8b0aa8-e59b-4cfe-b590-8672d08a4434\" xlink:show=\"new\" xlink:title=\"psysml:0f8b0aa8-e59b-4cfe-b590-8672d08a4434\" xlink:type=\"simple\"><rect fill=\"#FEFECE\" filter=\"url(#f1aag2xcrl8juw)\" height=\"45.9375\" id=\"E8\" rx=\"10\" ry=\"10\" style=\"stroke: #A80036; stroke-width: 1.5;\" width=\"68\" x=\"395\" y=\"54\"/><ellipse cx=\"410\" cy=\"72.9688\" fill=\"#32CD32\" rx=\"11\" ry=\"11\" style=\"stroke: #A80036; stroke-width: 1.0;\"/><path d=\"M406.8125,77.9688 L406.8125,67.375 L410.4219,67.375 Q411.6406,67.375 412.4375,67.8125 Q413.2344,68.2344 413.6094,68.9375 Q414,69.6406 414,70.4844 Q414,71.3281 413.625,72.0156 Q413.2656,72.7031 412.4688,73.125 Q411.6875,73.5313 410.5,73.5313 L408.7656,73.5313 L408.7656,77.9688 L406.8125,77.9688 Z M408.7656,71.9375 L410.375,71.9375 Q411.1875,71.9375 411.6094,71.5313 Q412.0313,71.125 412.0313,70.4844 Q412.0313,69.8594 411.6094,69.4531 Q411.1875,69.0469 410.3906,69.0469 L408.7656,69.0469 L408.7656,71.9375 Z \"/><text fill=\"#000000\" font-family=\"sans-serif\" font-size=\"12\" font-style=\"italic\" lengthAdjust=\"spacingAndGlyphs\" textLength=\"40\" x=\"422\" y=\"70.1387\">«part»</text><text fill=\"#000000\" font-family=\"sans-serif\" font-size=\"12\" lengthAdjust=\"spacingAndGlyphs\" textLength=\"8\" x=\"438\" y=\"84.1074\">e</text><line style=\"stroke: #A80036; stroke-width: 1.5;\" x1=\"396\" x2=\"462\" y1=\"91.9375\" y2=\"91.9375\"/></a><!--MD5=[fd4143e9d270a159db93a4ea2a975926]\n",
       "class E9--><a href=\"psysml:07bb6063-49af-4acb-bb76-a6a51f542bf8\" target=\"_top\" title=\"psysml:07bb6063-49af-4acb-bb76-a6a51f542bf8\" xlink:actuate=\"onRequest\" xlink:href=\"psysml:07bb6063-49af-4acb-bb76-a6a51f542bf8\" xlink:show=\"new\" xlink:title=\"psysml:07bb6063-49af-4acb-bb76-a6a51f542bf8\" xlink:type=\"simple\"><rect fill=\"#FEFECE\" filter=\"url(#f1aag2xcrl8juw)\" height=\"45.9375\" id=\"E9\" rx=\"10\" ry=\"10\" style=\"stroke: #A80036; stroke-width: 1.5;\" width=\"68\" x=\"292\" y=\"54\"/><ellipse cx=\"307\" cy=\"72.9688\" fill=\"#32CD32\" rx=\"11\" ry=\"11\" style=\"stroke: #A80036; stroke-width: 1.0;\"/><path d=\"M303.8125,77.9688 L303.8125,67.375 L307.4219,67.375 Q308.6406,67.375 309.4375,67.8125 Q310.2344,68.2344 310.6094,68.9375 Q311,69.6406 311,70.4844 Q311,71.3281 310.625,72.0156 Q310.2656,72.7031 309.4688,73.125 Q308.6875,73.5313 307.5,73.5313 L305.7656,73.5313 L305.7656,77.9688 L303.8125,77.9688 Z M305.7656,71.9375 L307.375,71.9375 Q308.1875,71.9375 308.6094,71.5313 Q309.0313,71.125 309.0313,70.4844 Q309.0313,69.8594 308.6094,69.4531 Q308.1875,69.0469 307.3906,69.0469 L305.7656,69.0469 L305.7656,71.9375 Z \"/><text fill=\"#000000\" font-family=\"sans-serif\" font-size=\"12\" font-style=\"italic\" lengthAdjust=\"spacingAndGlyphs\" textLength=\"40\" x=\"319\" y=\"70.1387\">«part»</text><text fill=\"#000000\" font-family=\"sans-serif\" font-size=\"12\" lengthAdjust=\"spacingAndGlyphs\" textLength=\"4\" x=\"337\" y=\"84.1074\">f</text><line style=\"stroke: #A80036; stroke-width: 1.5;\" x1=\"293\" x2=\"359\" y1=\"91.9375\" y2=\"91.9375\"/></a><!--MD5=[96f4274e9e20536e775497830990834d]\n",
       "class E10--><a href=\"psysml:87a6ec87-e214-496f-a09f-1f6dfd597ed3\" target=\"_top\" title=\"psysml:87a6ec87-e214-496f-a09f-1f6dfd597ed3\" xlink:actuate=\"onRequest\" xlink:href=\"psysml:87a6ec87-e214-496f-a09f-1f6dfd597ed3\" xlink:show=\"new\" xlink:title=\"psysml:87a6ec87-e214-496f-a09f-1f6dfd597ed3\" xlink:type=\"simple\"><rect fill=\"#FEFECE\" filter=\"url(#f1aag2xcrl8juw)\" height=\"45.9375\" id=\"E10\" rx=\"10\" ry=\"10\" style=\"stroke: #A80036; stroke-width: 1.5;\" width=\"68\" x=\"189\" y=\"54\"/><ellipse cx=\"204\" cy=\"72.9688\" fill=\"#32CD32\" rx=\"11\" ry=\"11\" style=\"stroke: #A80036; stroke-width: 1.0;\"/><path d=\"M200.8125,77.9688 L200.8125,67.375 L204.4219,67.375 Q205.6406,67.375 206.4375,67.8125 Q207.2344,68.2344 207.6094,68.9375 Q208,69.6406 208,70.4844 Q208,71.3281 207.625,72.0156 Q207.2656,72.7031 206.4688,73.125 Q205.6875,73.5313 204.5,73.5313 L202.7656,73.5313 L202.7656,77.9688 L200.8125,77.9688 Z M202.7656,71.9375 L204.375,71.9375 Q205.1875,71.9375 205.6094,71.5313 Q206.0313,71.125 206.0313,70.4844 Q206.0313,69.8594 205.6094,69.4531 Q205.1875,69.0469 204.3906,69.0469 L202.7656,69.0469 L202.7656,71.9375 Z \"/><text fill=\"#000000\" font-family=\"sans-serif\" font-size=\"12\" font-style=\"italic\" lengthAdjust=\"spacingAndGlyphs\" textLength=\"40\" x=\"216\" y=\"70.1387\">«part»</text><text fill=\"#000000\" font-family=\"sans-serif\" font-size=\"12\" lengthAdjust=\"spacingAndGlyphs\" textLength=\"8\" x=\"232\" y=\"84.1074\">g</text><line style=\"stroke: #A80036; stroke-width: 1.5;\" x1=\"190\" x2=\"256\" y1=\"91.9375\" y2=\"91.9375\"/></a><!--MD5=[1dd1bfd58a279cf63c5f349dbc8fc6a1]\n",
       "class E11--><a href=\"psysml:423769db-1814-486c-a3b1-3214b1eae655\" target=\"_top\" title=\"psysml:423769db-1814-486c-a3b1-3214b1eae655\" xlink:actuate=\"onRequest\" xlink:href=\"psysml:423769db-1814-486c-a3b1-3214b1eae655\" xlink:show=\"new\" xlink:title=\"psysml:423769db-1814-486c-a3b1-3214b1eae655\" xlink:type=\"simple\"><rect fill=\"#FEFECE\" filter=\"url(#f1aag2xcrl8juw)\" height=\"71.5469\" id=\"E11\" style=\"stroke: #A80036; stroke-width: 1.5;\" width=\"121\" x=\"32.5\" y=\"41\"/><ellipse cx=\"47.5\" cy=\"59.9688\" fill=\"#A52A2A\" rx=\"11\" ry=\"11\" style=\"stroke: #A80036; stroke-width: 1.0;\"/><path d=\"M44.7188,64.9688 L44.7188,54.375 L47.4531,54.375 Q48.8438,54.375 49.6094,54.7656 Q50.3906,55.1406 50.9219,55.8438 Q51.4531,56.5469 51.75,57.5469 Q52.0469,58.5313 52.0469,59.75 Q52,61.3438 51.5,62.5313 Q51.0156,63.7031 49.9688,64.3438 Q48.9375,64.9688 47.25,64.9688 L44.7188,64.9688 Z M46.5781,63.4688 L47.2031,63.4688 Q48.2813,63.4688 48.9375,63.0156 Q49.5938,62.5625 49.875,61.7344 Q50.1719,60.8906 50.1563,59.7656 Q50.1563,58.5938 49.9063,57.7344 Q49.6563,56.8594 49.0469,56.3906 Q48.4375,55.9063 47.3906,55.9063 L46.5781,55.9063 L46.5781,63.4688 Z \"/><text fill=\"#000000\" font-family=\"sans-serif\" font-size=\"12\" font-style=\"italic\" lengthAdjust=\"spacingAndGlyphs\" textLength=\"93\" x=\"59.5\" y=\"57.1387\">«attribute def»</text><text fill=\"#000000\" font-family=\"sans-serif\" font-size=\"12\" lengthAdjust=\"spacingAndGlyphs\" textLength=\"8\" x=\"102\" y=\"71.1074\">A</text><line style=\"stroke: #A80036; stroke-width: 1.5;\" x1=\"33.5\" x2=\"152.5\" y1=\"78.9375\" y2=\"78.9375\"/><text fill=\"#000000\" font-family=\"sans-serif\" font-size=\"11\" lengthAdjust=\"spacingAndGlyphs\" textLength=\"51\" x=\"38.5\" y=\"93.1479\">i: Integer</text><text fill=\"#000000\" font-family=\"sans-serif\" font-size=\"11\" lengthAdjust=\"spacingAndGlyphs\" textLength=\"21\" x=\"38.5\" y=\"105.9526\">x: A</text></a><!--MD5=[15ebcb19ae302d9b601edb458606d402]\n",
       "link E5 to E2--><a href=\"psysml:56ee8f03-05cc-4672-92a5-af5f15d564f5\" target=\"_top\" title=\"psysml:56ee8f03-05cc-4672-92a5-af5f15d564f5\" xlink:actuate=\"onRequest\" xlink:href=\"psysml:56ee8f03-05cc-4672-92a5-af5f15d564f5\" xlink:show=\"new\" xlink:title=\"psysml:56ee8f03-05cc-4672-92a5-af5f15d564f5\" xlink:type=\"simple\"><path d=\"M727.85,100.25 C720.81,115.68 711.27,136.61 703.07,154.58 \" fill=\"none\" id=\"E5-&gt;E2\" style=\"stroke: #A80036; stroke-width: 1.0;\"/><polygon fill=\"#FFFFFF\" points=\"694.74,172.84,696.2548,152.6483,708.9927,158.4573,694.74,172.84\" style=\"stroke: #A80036; stroke-width: 1.0;\"/><ellipse cx=\"700.4396\" cy=\"148.292\" fill=\"#A80036\" rx=\"2\" ry=\"2\" style=\"stroke: #A80036; stroke-width: 1.0;\"/><ellipse cx=\"709.5381\" cy=\"152.4413\" fill=\"#A80036\" rx=\"2\" ry=\"2\" style=\"stroke: #A80036; stroke-width: 1.0;\"/></a><!--MD5=[2351f337d6de0f557b50152ba70847b5]\n",
       "link E6 to E2--><a href=\"psysml:34caeea3-9e32-4456-be5b-df49f4f1b3a4\" target=\"_top\" title=\"psysml:34caeea3-9e32-4456-be5b-df49f4f1b3a4\" xlink:actuate=\"onRequest\" xlink:href=\"psysml:34caeea3-9e32-4456-be5b-df49f4f1b3a4\" xlink:show=\"new\" xlink:title=\"psysml:34caeea3-9e32-4456-be5b-df49f4f1b3a4\" xlink:type=\"simple\"><path d=\"M644.95,100.25 C651.86,115.68 661.22,136.61 669.26,154.58 \" fill=\"none\" id=\"E6-&gt;E2\" style=\"stroke: #A80036; stroke-width: 1.0;\"/><polygon fill=\"#FFFFFF\" points=\"677.43,172.84,663.2788,158.3574,676.0573,152.6381,677.43,172.84\" style=\"stroke: #A80036; stroke-width: 1.0;\"/><ellipse cx=\"662.7757\" cy=\"152.3377\" fill=\"#A80036\" rx=\"2\" ry=\"2\" style=\"stroke: #A80036; stroke-width: 1.0;\"/><ellipse cx=\"671.9032\" cy=\"148.2525\" fill=\"#A80036\" rx=\"2\" ry=\"2\" style=\"stroke: #A80036; stroke-width: 1.0;\"/></a><!--MD5=[bc6f5b74851d9892c2ad069ea36f36b7]\n",
       "@startuml\r\n",
       " \r\n",
       "package \"MultiplicityTest\" as E1  [[psysml:917c8e98-308c-4a57-bedc-72bb13927275 ]]  {\r\n",
       "comp def \"P\" as E2 << << (B,green) >> [[psysml:1b8e2ab6-001b-4483-8406-5463ddd95a77 ]] {\r\n",
       "}\r\n",
       "comp usage \"n: Integer\" as E3 << <<(U,orange) attribute>> [[psysml:d0e8f829-c575-44a2-9ede-b108238de40c ]] {\r\n",
       "}\r\n",
       "comp usage \"a\" as E4 << << (P,limegreen) part>> [[psysml:2de2cbdc-62e6-485a-a7d2-bee7f587f60d ]] {\r\n",
       "}\r\n",
       "comp usage \"b: P\" as E5 << << (P,limegreen) part>> [[psysml:a47b2c6e-81dd-4a7f-97e2-f2f751620c17 ]] {\r\n",
       "}\r\n",
       "comp usage \"c: P\" as E6 << << (P,limegreen) part>> [[psysml:46e4b238-da26-40c7-b1f6-d3a4f2631481 ]] {\r\n",
       "}\r\n",
       "comp usage \"d\" as E7 << << (P,limegreen) part>> [[psysml:862abcb1-d094-4d1f-a90d-b0af915cd2bb ]] {\r\n",
       "}\r\n",
       "comp usage \"e\" as E8 << << (P,limegreen) part>> [[psysml:0f8b0aa8-e59b-4cfe-b590-8672d08a4434 ]] {\r\n",
       "}\r\n",
       "comp usage \"f\" as E9 << << (P,limegreen) part>> [[psysml:07bb6063-49af-4acb-bb76-a6a51f542bf8 ]] {\r\n",
       "}\r\n",
       "comp usage \"g\" as E10 << << (P,limegreen) part>> [[psysml:87a6ec87-e214-496f-a09f-1f6dfd597ed3 ]] {\r\n",
       "}\r\n",
       "comp def \"A\" as E11 << <<(D,brown) attribute def>> [[psysml:423769db-1814-486c-a3b1-3214b1eae655 ]] {\r\n",
       "i: Integer\r\n",
       "x: A\r\n",
       "}\r\n",
       "}\r\n",
       "E5 - -:|> E2 [[psysml:56ee8f03-05cc-4672-92a5-af5f15d564f5 ]] \r\n",
       "E6 - -:|> E2 [[psysml:34caeea3-9e32-4456-be5b-df49f4f1b3a4 ]] \r\n",
       "@enduml\r\n",
       "\n",
       "PlantUML version 1.2020.13(Sat Jun 13 12:26:38 UTC 2020)\n",
       "(EPL source distribution)\n",
       "Java Runtime: OpenJDK Runtime Environment\n",
       "JVM: OpenJDK 64-Bit Server VM\n",
       "Default Encoding: UTF-8\n",
       "Language: en\n",
       "Country: null\n",
       "--></g></svg>"
      ]
     },
     "execution_count": 36,
     "metadata": {},
     "output_type": "execute_result"
    }
   ],
   "source": [
    "%viz --style=\"PLANTUML\" --view=\"MIXED\" \"MultiplicityTest\""
   ]
  },
  {
   "cell_type": "code",
   "execution_count": 37,
   "id": "d37a0037",
   "metadata": {
    "execution": {
     "iopub.execute_input": "2021-10-03T08:30:21.420591Z",
     "iopub.status.busy": "2021-10-03T08:30:21.420194Z",
     "iopub.status.idle": "2021-10-03T08:30:21.474230Z",
     "shell.execute_reply": "2021-10-03T08:30:21.473883Z"
    }
   },
   "outputs": [
    {
     "data": {
      "image/svg+xml": [
       "<?xml version=\"1.0\" encoding=\"UTF-8\" standalone=\"no\"?><svg xmlns=\"http://www.w3.org/2000/svg\" xmlns:xlink=\"http://www.w3.org/1999/xlink\" contentScriptType=\"application/ecmascript\" contentStyleType=\"text/css\" height=\"263px\" preserveAspectRatio=\"none\" style=\"width:812px;height:263px;\" version=\"1.1\" viewBox=\"0 0 812 263\" width=\"812px\" zoomAndPan=\"magnify\"><defs/><g><!--MD5=[fbc87193dbaf4d95561dea2c320d4a47]\n",
       "cluster E1--><a href=\"psysml:917c8e98-308c-4a57-bedc-72bb13927275\" target=\"_top\" title=\"psysml:917c8e98-308c-4a57-bedc-72bb13927275\" xlink:actuate=\"onRequest\" xlink:href=\"psysml:917c8e98-308c-4a57-bedc-72bb13927275\" xlink:show=\"new\" xlink:title=\"psysml:917c8e98-308c-4a57-bedc-72bb13927275\" xlink:type=\"simple\"><polygon fill=\"#FFFFFF\" points=\"16,6,123,6,130,28.2969,790,28.2969,790,251,16,251,16,6\" style=\"stroke: #000000; stroke-width: 1.5;\"/><line style=\"stroke: #000000; stroke-width: 1.5;\" x1=\"16\" x2=\"130\" y1=\"28.2969\" y2=\"28.2969\"/><text fill=\"#000000\" font-family=\"sans-serif\" font-size=\"14\" font-weight=\"bold\" lengthAdjust=\"spacingAndGlyphs\" textLength=\"101\" x=\"20\" y=\"20.9951\">MultiplicityTest</text></a><!--MD5=[b4997ac47864f28c2f74865a473b2911]\n",
       "class E2--><a href=\"psysml:1b8e2ab6-001b-4483-8406-5463ddd95a77\" target=\"_top\" title=\"psysml:1b8e2ab6-001b-4483-8406-5463ddd95a77\" xlink:actuate=\"onRequest\" xlink:href=\"psysml:1b8e2ab6-001b-4483-8406-5463ddd95a77\" xlink:show=\"new\" xlink:title=\"psysml:1b8e2ab6-001b-4483-8406-5463ddd95a77\" xlink:type=\"simple\"><rect fill=\"#FFFFFF\" height=\"45.9375\" id=\"E2\" style=\"stroke: #383838; stroke-width: 1.5;\" width=\"66\" x=\"497\" y=\"189\"/><text fill=\"#000000\" font-family=\"sans-serif\" font-size=\"12\" font-style=\"italic\" lengthAdjust=\"spacingAndGlyphs\" textLength=\"64\" x=\"498\" y=\"205.1387\">«part def»</text><text fill=\"#000000\" font-family=\"sans-serif\" font-size=\"12\" lengthAdjust=\"spacingAndGlyphs\" textLength=\"8\" x=\"526\" y=\"219.1074\">P</text><line style=\"stroke: #383838; stroke-width: 1.5;\" x1=\"498\" x2=\"562\" y1=\"226.9375\" y2=\"226.9375\"/></a><!--MD5=[09b614a08d8cba4a07c9adeb5e0fee81]\n",
       "class E3--><a href=\"psysml:d0e8f829-c575-44a2-9ede-b108238de40c\" target=\"_top\" title=\"psysml:d0e8f829-c575-44a2-9ede-b108238de40c\" xlink:actuate=\"onRequest\" xlink:href=\"psysml:d0e8f829-c575-44a2-9ede-b108238de40c\" xlink:show=\"new\" xlink:title=\"psysml:d0e8f829-c575-44a2-9ede-b108238de40c\" xlink:type=\"simple\"><rect fill=\"#FFFFFF\" height=\"45.9375\" id=\"E3\" rx=\"10\" ry=\"10\" style=\"stroke: #383838; stroke-width: 1.5;\" width=\"71\" x=\"702.5\" y=\"62\"/><text fill=\"#000000\" font-family=\"sans-serif\" font-size=\"12\" font-style=\"italic\" lengthAdjust=\"spacingAndGlyphs\" textLength=\"69\" x=\"703.5\" y=\"78.1387\">«attribute»</text><text fill=\"#000000\" font-family=\"sans-serif\" font-size=\"12\" lengthAdjust=\"spacingAndGlyphs\" textLength=\"61\" x=\"707.5\" y=\"92.1074\">n: Integer</text><line style=\"stroke: #383838; stroke-width: 1.5;\" x1=\"703.5\" x2=\"772.5\" y1=\"99.9375\" y2=\"99.9375\"/></a><!--MD5=[ebbe1d658d1005bcc118a6aa81145e00]\n",
       "class E4--><a href=\"psysml:2de2cbdc-62e6-485a-a7d2-bee7f587f60d\" target=\"_top\" title=\"psysml:2de2cbdc-62e6-485a-a7d2-bee7f587f60d\" xlink:actuate=\"onRequest\" xlink:href=\"psysml:2de2cbdc-62e6-485a-a7d2-bee7f587f60d\" xlink:show=\"new\" xlink:title=\"psysml:2de2cbdc-62e6-485a-a7d2-bee7f587f60d\" xlink:type=\"simple\"><rect fill=\"#FFFFFF\" height=\"45.9375\" id=\"E4\" rx=\"10\" ry=\"10\" style=\"stroke: #383838; stroke-width: 1.5;\" width=\"42\" x=\"625\" y=\"62\"/><text fill=\"#000000\" font-family=\"sans-serif\" font-size=\"12\" font-style=\"italic\" lengthAdjust=\"spacingAndGlyphs\" textLength=\"40\" x=\"626\" y=\"78.1387\">«part»</text><text fill=\"#000000\" font-family=\"sans-serif\" font-size=\"12\" lengthAdjust=\"spacingAndGlyphs\" textLength=\"8\" x=\"642\" y=\"92.1074\">a</text><line style=\"stroke: #383838; stroke-width: 1.5;\" x1=\"626\" x2=\"666\" y1=\"99.9375\" y2=\"99.9375\"/></a><!--MD5=[270fce915f116d4de14055a7c1d9a0f3]\n",
       "class E5--><a href=\"psysml:a47b2c6e-81dd-4a7f-97e2-f2f751620c17\" target=\"_top\" title=\"psysml:a47b2c6e-81dd-4a7f-97e2-f2f751620c17\" xlink:actuate=\"onRequest\" xlink:href=\"psysml:a47b2c6e-81dd-4a7f-97e2-f2f751620c17\" xlink:show=\"new\" xlink:title=\"psysml:a47b2c6e-81dd-4a7f-97e2-f2f751620c17\" xlink:type=\"simple\"><rect fill=\"#FFFFFF\" height=\"45.9375\" id=\"E5\" rx=\"10\" ry=\"10\" style=\"stroke: #383838; stroke-width: 1.5;\" width=\"42\" x=\"548\" y=\"62\"/><text fill=\"#000000\" font-family=\"sans-serif\" font-size=\"12\" font-style=\"italic\" lengthAdjust=\"spacingAndGlyphs\" textLength=\"40\" x=\"549\" y=\"78.1387\">«part»</text><text fill=\"#000000\" font-family=\"sans-serif\" font-size=\"12\" lengthAdjust=\"spacingAndGlyphs\" textLength=\"24\" x=\"557\" y=\"92.1074\">b: P</text><line style=\"stroke: #383838; stroke-width: 1.5;\" x1=\"549\" x2=\"589\" y1=\"99.9375\" y2=\"99.9375\"/></a><!--MD5=[60a26617385b1d2d0262a64233df1f8d]\n",
       "class E6--><a href=\"psysml:46e4b238-da26-40c7-b1f6-d3a4f2631481\" target=\"_top\" title=\"psysml:46e4b238-da26-40c7-b1f6-d3a4f2631481\" xlink:actuate=\"onRequest\" xlink:href=\"psysml:46e4b238-da26-40c7-b1f6-d3a4f2631481\" xlink:show=\"new\" xlink:title=\"psysml:46e4b238-da26-40c7-b1f6-d3a4f2631481\" xlink:type=\"simple\"><rect fill=\"#FFFFFF\" height=\"45.9375\" id=\"E6\" rx=\"10\" ry=\"10\" style=\"stroke: #383838; stroke-width: 1.5;\" width=\"42\" x=\"471\" y=\"62\"/><text fill=\"#000000\" font-family=\"sans-serif\" font-size=\"12\" font-style=\"italic\" lengthAdjust=\"spacingAndGlyphs\" textLength=\"40\" x=\"472\" y=\"78.1387\">«part»</text><text fill=\"#000000\" font-family=\"sans-serif\" font-size=\"12\" lengthAdjust=\"spacingAndGlyphs\" textLength=\"23\" x=\"480.5\" y=\"92.1074\">c: P</text><line style=\"stroke: #383838; stroke-width: 1.5;\" x1=\"472\" x2=\"512\" y1=\"99.9375\" y2=\"99.9375\"/></a><!--MD5=[2156ba9850f5573cc1fc38a6a4b2f02b]\n",
       "class E7--><a href=\"psysml:862abcb1-d094-4d1f-a90d-b0af915cd2bb\" target=\"_top\" title=\"psysml:862abcb1-d094-4d1f-a90d-b0af915cd2bb\" xlink:actuate=\"onRequest\" xlink:href=\"psysml:862abcb1-d094-4d1f-a90d-b0af915cd2bb\" xlink:show=\"new\" xlink:title=\"psysml:862abcb1-d094-4d1f-a90d-b0af915cd2bb\" xlink:type=\"simple\"><rect fill=\"#FFFFFF\" height=\"45.9375\" id=\"E7\" rx=\"10\" ry=\"10\" style=\"stroke: #383838; stroke-width: 1.5;\" width=\"42\" x=\"394\" y=\"62\"/><text fill=\"#000000\" font-family=\"sans-serif\" font-size=\"12\" font-style=\"italic\" lengthAdjust=\"spacingAndGlyphs\" textLength=\"40\" x=\"395\" y=\"78.1387\">«part»</text><text fill=\"#000000\" font-family=\"sans-serif\" font-size=\"12\" lengthAdjust=\"spacingAndGlyphs\" textLength=\"8\" x=\"411\" y=\"92.1074\">d</text><line style=\"stroke: #383838; stroke-width: 1.5;\" x1=\"395\" x2=\"435\" y1=\"99.9375\" y2=\"99.9375\"/></a><!--MD5=[b9389687b975829384b498ac4b7476b2]\n",
       "class E8--><a href=\"psysml:0f8b0aa8-e59b-4cfe-b590-8672d08a4434\" target=\"_top\" title=\"psysml:0f8b0aa8-e59b-4cfe-b590-8672d08a4434\" xlink:actuate=\"onRequest\" xlink:href=\"psysml:0f8b0aa8-e59b-4cfe-b590-8672d08a4434\" xlink:show=\"new\" xlink:title=\"psysml:0f8b0aa8-e59b-4cfe-b590-8672d08a4434\" xlink:type=\"simple\"><rect fill=\"#FFFFFF\" height=\"45.9375\" id=\"E8\" rx=\"10\" ry=\"10\" style=\"stroke: #383838; stroke-width: 1.5;\" width=\"42\" x=\"317\" y=\"62\"/><text fill=\"#000000\" font-family=\"sans-serif\" font-size=\"12\" font-style=\"italic\" lengthAdjust=\"spacingAndGlyphs\" textLength=\"40\" x=\"318\" y=\"78.1387\">«part»</text><text fill=\"#000000\" font-family=\"sans-serif\" font-size=\"12\" lengthAdjust=\"spacingAndGlyphs\" textLength=\"8\" x=\"334\" y=\"92.1074\">e</text><line style=\"stroke: #383838; stroke-width: 1.5;\" x1=\"318\" x2=\"358\" y1=\"99.9375\" y2=\"99.9375\"/></a><!--MD5=[fd4143e9d270a159db93a4ea2a975926]\n",
       "class E9--><a href=\"psysml:07bb6063-49af-4acb-bb76-a6a51f542bf8\" target=\"_top\" title=\"psysml:07bb6063-49af-4acb-bb76-a6a51f542bf8\" xlink:actuate=\"onRequest\" xlink:href=\"psysml:07bb6063-49af-4acb-bb76-a6a51f542bf8\" xlink:show=\"new\" xlink:title=\"psysml:07bb6063-49af-4acb-bb76-a6a51f542bf8\" xlink:type=\"simple\"><rect fill=\"#FFFFFF\" height=\"45.9375\" id=\"E9\" rx=\"10\" ry=\"10\" style=\"stroke: #383838; stroke-width: 1.5;\" width=\"42\" x=\"240\" y=\"62\"/><text fill=\"#000000\" font-family=\"sans-serif\" font-size=\"12\" font-style=\"italic\" lengthAdjust=\"spacingAndGlyphs\" textLength=\"40\" x=\"241\" y=\"78.1387\">«part»</text><text fill=\"#000000\" font-family=\"sans-serif\" font-size=\"12\" lengthAdjust=\"spacingAndGlyphs\" textLength=\"4\" x=\"259\" y=\"92.1074\">f</text><line style=\"stroke: #383838; stroke-width: 1.5;\" x1=\"241\" x2=\"281\" y1=\"99.9375\" y2=\"99.9375\"/></a><!--MD5=[96f4274e9e20536e775497830990834d]\n",
       "class E10--><a href=\"psysml:87a6ec87-e214-496f-a09f-1f6dfd597ed3\" target=\"_top\" title=\"psysml:87a6ec87-e214-496f-a09f-1f6dfd597ed3\" xlink:actuate=\"onRequest\" xlink:href=\"psysml:87a6ec87-e214-496f-a09f-1f6dfd597ed3\" xlink:show=\"new\" xlink:title=\"psysml:87a6ec87-e214-496f-a09f-1f6dfd597ed3\" xlink:type=\"simple\"><rect fill=\"#FFFFFF\" height=\"45.9375\" id=\"E10\" rx=\"10\" ry=\"10\" style=\"stroke: #383838; stroke-width: 1.5;\" width=\"42\" x=\"163\" y=\"62\"/><text fill=\"#000000\" font-family=\"sans-serif\" font-size=\"12\" font-style=\"italic\" lengthAdjust=\"spacingAndGlyphs\" textLength=\"40\" x=\"164\" y=\"78.1387\">«part»</text><text fill=\"#000000\" font-family=\"sans-serif\" font-size=\"12\" lengthAdjust=\"spacingAndGlyphs\" textLength=\"8\" x=\"180\" y=\"92.1074\">g</text><line style=\"stroke: #383838; stroke-width: 1.5;\" x1=\"164\" x2=\"204\" y1=\"99.9375\" y2=\"99.9375\"/></a><!--MD5=[1dd1bfd58a279cf63c5f349dbc8fc6a1]\n",
       "class E11--><a href=\"psysml:423769db-1814-486c-a3b1-3214b1eae655\" target=\"_top\" title=\"psysml:423769db-1814-486c-a3b1-3214b1eae655\" xlink:actuate=\"onRequest\" xlink:href=\"psysml:423769db-1814-486c-a3b1-3214b1eae655\" xlink:show=\"new\" xlink:title=\"psysml:423769db-1814-486c-a3b1-3214b1eae655\" xlink:type=\"simple\"><rect fill=\"#FFFFFF\" height=\"88.3516\" id=\"E11\" style=\"stroke: #383838; stroke-width: 1.5;\" width=\"95\" x=\"32.5\" y=\"41\"/><text fill=\"#000000\" font-family=\"sans-serif\" font-size=\"12\" font-style=\"italic\" lengthAdjust=\"spacingAndGlyphs\" textLength=\"93\" x=\"33.5\" y=\"57.1387\">«attribute def»</text><text fill=\"#000000\" font-family=\"sans-serif\" font-size=\"12\" lengthAdjust=\"spacingAndGlyphs\" textLength=\"8\" x=\"76\" y=\"71.1074\">A</text><line style=\"stroke: #383838; stroke-width: 1.5;\" x1=\"33.5\" x2=\"126.5\" y1=\"78.9375\" y2=\"78.9375\"/><text fill=\"#000000\" font-family=\"sans-serif\" font-size=\"11\" lengthAdjust=\"spacingAndGlyphs\" textLength=\"51\" x=\"38.5\" y=\"109.9526\">i: Integer</text><text fill=\"#000000\" font-family=\"sans-serif\" font-size=\"11\" lengthAdjust=\"spacingAndGlyphs\" textLength=\"21\" x=\"38.5\" y=\"122.7573\">x: A</text><line style=\"stroke: #383838; stroke-width: 1.0;\" x1=\"33.5\" x2=\"52.5\" y1=\"93.3398\" y2=\"93.3398\"/><text fill=\"#000000\" font-family=\"sans-serif\" font-size=\"11\" lengthAdjust=\"spacingAndGlyphs\" textLength=\"55\" x=\"52.5\" y=\"96.6479\">attributes</text><line style=\"stroke: #383838; stroke-width: 1.0;\" x1=\"107.5\" x2=\"126.5\" y1=\"93.3398\" y2=\"93.3398\"/></a><!--MD5=[15ebcb19ae302d9b601edb458606d402]\n",
       "link E5 to E2--><a href=\"psysml:56ee8f03-05cc-4672-92a5-af5f15d564f5\" target=\"_top\" title=\"psysml:56ee8f03-05cc-4672-92a5-af5f15d564f5\" xlink:actuate=\"onRequest\" xlink:href=\"psysml:56ee8f03-05cc-4672-92a5-af5f15d564f5\" xlink:show=\"new\" xlink:title=\"psysml:56ee8f03-05cc-4672-92a5-af5f15d564f5\" xlink:type=\"simple\"><path d=\"M562.12,108.06 C556.83,125 549.38,148.89 542.98,169.39 \" fill=\"none\" id=\"E5-&gt;E2\" style=\"stroke: #383838; stroke-width: 1.0;\"/><polygon fill=\"#FFFFFF\" points=\"536.95,188.74,535.929,168.5173,549.2931,172.6886,536.95,188.74\" style=\"stroke: #383838; stroke-width: 1.0;\"/><ellipse cx=\"539.5364\" cy=\"163.6721\" fill=\"#383838\" rx=\"2\" ry=\"2\" style=\"stroke: #383838; stroke-width: 1.0;\"/><ellipse cx=\"549.0823\" cy=\"166.6516\" fill=\"#383838\" rx=\"2\" ry=\"2\" style=\"stroke: #383838; stroke-width: 1.0;\"/></a><!--MD5=[2351f337d6de0f557b50152ba70847b5]\n",
       "link E6 to E2--><a href=\"psysml:34caeea3-9e32-4456-be5b-df49f4f1b3a4\" target=\"_top\" title=\"psysml:34caeea3-9e32-4456-be5b-df49f4f1b3a4\" xlink:actuate=\"onRequest\" xlink:href=\"psysml:34caeea3-9e32-4456-be5b-df49f4f1b3a4\" xlink:show=\"new\" xlink:title=\"psysml:34caeea3-9e32-4456-be5b-df49f4f1b3a4\" xlink:type=\"simple\"><path d=\"M498.71,108.06 C503.86,125 511.12,148.89 517.35,169.39 \" fill=\"none\" id=\"E6-&gt;E2\" style=\"stroke: #383838; stroke-width: 1.0;\"/><polygon fill=\"#FFFFFF\" points=\"523.23,188.74,511.007,172.597,524.4019,168.5255,523.23,188.74\" style=\"stroke: #383838; stroke-width: 1.0;\"/><ellipse cx=\"511.2628\" cy=\"166.5617\" fill=\"#383838\" rx=\"2\" ry=\"2\" style=\"stroke: #383838; stroke-width: 1.0;\"/><ellipse cx=\"520.8306\" cy=\"163.6535\" fill=\"#383838\" rx=\"2\" ry=\"2\" style=\"stroke: #383838; stroke-width: 1.0;\"/></a><!--MD5=[1605524240e273df0c243b46d7971531]\n",
       "@startuml\r\n",
       "skinparam monochrome true\r\n",
       "skinparam classbackgroundcolor white\r\n",
       "skinparam shadowing false\r\n",
       "skinparam wrapWidth 300\r\n",
       "hide circle\r\n",
       "\r\n",
       "package \"MultiplicityTest\" as E1  [[psysml:917c8e98-308c-4a57-bedc-72bb13927275 ]]  {\r\n",
       "comp def \"P\" as E2  <<(T,blue) part def>> [[psysml:1b8e2ab6-001b-4483-8406-5463ddd95a77 ]] {\r\n",
       "}\r\n",
       "comp usage \"n: Integer\" as E3  <<(T,blue) attribute>> [[psysml:d0e8f829-c575-44a2-9ede-b108238de40c ]] {\r\n",
       "}\r\n",
       "comp usage \"a\" as E4  <<(T,blue) part>> [[psysml:2de2cbdc-62e6-485a-a7d2-bee7f587f60d ]] {\r\n",
       "}\r\n",
       "comp usage \"b: P\" as E5  <<(T,blue) part>> [[psysml:a47b2c6e-81dd-4a7f-97e2-f2f751620c17 ]] {\r\n",
       "}\r\n",
       "comp usage \"c: P\" as E6  <<(T,blue) part>> [[psysml:46e4b238-da26-40c7-b1f6-d3a4f2631481 ]] {\r\n",
       "}\r\n",
       "comp usage \"d\" as E7  <<(T,blue) part>> [[psysml:862abcb1-d094-4d1f-a90d-b0af915cd2bb ]] {\r\n",
       "}\r\n",
       "comp usage \"e\" as E8  <<(T,blue) part>> [[psysml:0f8b0aa8-e59b-4cfe-b590-8672d08a4434 ]] {\r\n",
       "}\r\n",
       "comp usage \"f\" as E9  <<(T,blue) part>> [[psysml:07bb6063-49af-4acb-bb76-a6a51f542bf8 ]] {\r\n",
       "}\r\n",
       "comp usage \"g\" as E10  <<(T,blue) part>> [[psysml:87a6ec87-e214-496f-a09f-1f6dfd597ed3 ]] {\r\n",
       "}\r\n",
       "comp def \"A\" as E11  <<(T,blue) attribute def>> [[psysml:423769db-1814-486c-a3b1-3214b1eae655 ]] {\r\n",
       "- - attributes - -\r\n",
       "i: Integer\r\n",
       "x: A\r\n",
       "}\r\n",
       "}\r\n",
       "E5 - -:|> E2 [[psysml:56ee8f03-05cc-4672-92a5-af5f15d564f5 ]] \r\n",
       "E6 - -:|> E2 [[psysml:34caeea3-9e32-4456-be5b-df49f4f1b3a4 ]] \r\n",
       "@enduml\r\n",
       "\n",
       "PlantUML version 1.2020.13(Sat Jun 13 12:26:38 UTC 2020)\n",
       "(EPL source distribution)\n",
       "Java Runtime: OpenJDK Runtime Environment\n",
       "JVM: OpenJDK 64-Bit Server VM\n",
       "Default Encoding: UTF-8\n",
       "Language: en\n",
       "Country: null\n",
       "--></g></svg>"
      ]
     },
     "execution_count": 37,
     "metadata": {},
     "output_type": "execute_result"
    }
   ],
   "source": [
    "%viz --style=\"DEFAULT\" --view=\"Default\" \"MultiplicityTest\""
   ]
  },
  {
   "cell_type": "code",
   "execution_count": 38,
   "id": "a6bb073d",
   "metadata": {
    "execution": {
     "iopub.execute_input": "2021-10-03T08:30:21.523494Z",
     "iopub.status.busy": "2021-10-03T08:30:21.523103Z",
     "iopub.status.idle": "2021-10-03T08:30:21.576467Z",
     "shell.execute_reply": "2021-10-03T08:30:21.576139Z"
    }
   },
   "outputs": [
    {
     "data": {
      "image/svg+xml": [
       "<?xml version=\"1.0\" encoding=\"UTF-8\" standalone=\"no\"?><svg xmlns=\"http://www.w3.org/2000/svg\" xmlns:xlink=\"http://www.w3.org/1999/xlink\" contentScriptType=\"application/ecmascript\" contentStyleType=\"text/css\" height=\"263px\" preserveAspectRatio=\"none\" style=\"width:812px;height:263px;\" version=\"1.1\" viewBox=\"0 0 812 263\" width=\"812px\" zoomAndPan=\"magnify\"><defs/><g><!--MD5=[fbc87193dbaf4d95561dea2c320d4a47]\n",
       "cluster E1--><a href=\"psysml:917c8e98-308c-4a57-bedc-72bb13927275\" target=\"_top\" title=\"psysml:917c8e98-308c-4a57-bedc-72bb13927275\" xlink:actuate=\"onRequest\" xlink:href=\"psysml:917c8e98-308c-4a57-bedc-72bb13927275\" xlink:show=\"new\" xlink:title=\"psysml:917c8e98-308c-4a57-bedc-72bb13927275\" xlink:type=\"simple\"><polygon fill=\"#FFFFFF\" points=\"16,6,123,6,130,28.2969,790,28.2969,790,251,16,251,16,6\" style=\"stroke: #000000; stroke-width: 1.5;\"/><line style=\"stroke: #000000; stroke-width: 1.5;\" x1=\"16\" x2=\"130\" y1=\"28.2969\" y2=\"28.2969\"/><text fill=\"#000000\" font-family=\"sans-serif\" font-size=\"14\" font-weight=\"bold\" lengthAdjust=\"spacingAndGlyphs\" textLength=\"101\" x=\"20\" y=\"20.9951\">MultiplicityTest</text></a><!--MD5=[b4997ac47864f28c2f74865a473b2911]\n",
       "class E2--><a href=\"psysml:1b8e2ab6-001b-4483-8406-5463ddd95a77\" target=\"_top\" title=\"psysml:1b8e2ab6-001b-4483-8406-5463ddd95a77\" xlink:actuate=\"onRequest\" xlink:href=\"psysml:1b8e2ab6-001b-4483-8406-5463ddd95a77\" xlink:show=\"new\" xlink:title=\"psysml:1b8e2ab6-001b-4483-8406-5463ddd95a77\" xlink:type=\"simple\"><rect fill=\"#FFFFFF\" height=\"45.9375\" id=\"E2\" style=\"stroke: #383838; stroke-width: 1.5;\" width=\"66\" x=\"497\" y=\"189\"/><text fill=\"#000000\" font-family=\"sans-serif\" font-size=\"12\" font-style=\"italic\" lengthAdjust=\"spacingAndGlyphs\" textLength=\"64\" x=\"498\" y=\"205.1387\">«part def»</text><text fill=\"#000000\" font-family=\"sans-serif\" font-size=\"12\" lengthAdjust=\"spacingAndGlyphs\" textLength=\"8\" x=\"526\" y=\"219.1074\">P</text><line style=\"stroke: #383838; stroke-width: 1.5;\" x1=\"498\" x2=\"562\" y1=\"226.9375\" y2=\"226.9375\"/></a><!--MD5=[09b614a08d8cba4a07c9adeb5e0fee81]\n",
       "class E3--><a href=\"psysml:d0e8f829-c575-44a2-9ede-b108238de40c\" target=\"_top\" title=\"psysml:d0e8f829-c575-44a2-9ede-b108238de40c\" xlink:actuate=\"onRequest\" xlink:href=\"psysml:d0e8f829-c575-44a2-9ede-b108238de40c\" xlink:show=\"new\" xlink:title=\"psysml:d0e8f829-c575-44a2-9ede-b108238de40c\" xlink:type=\"simple\"><rect fill=\"#FFFFFF\" height=\"45.9375\" id=\"E3\" rx=\"10\" ry=\"10\" style=\"stroke: #383838; stroke-width: 1.5;\" width=\"71\" x=\"702.5\" y=\"62\"/><text fill=\"#000000\" font-family=\"sans-serif\" font-size=\"12\" font-style=\"italic\" lengthAdjust=\"spacingAndGlyphs\" textLength=\"69\" x=\"703.5\" y=\"78.1387\">«attribute»</text><text fill=\"#000000\" font-family=\"sans-serif\" font-size=\"12\" lengthAdjust=\"spacingAndGlyphs\" textLength=\"61\" x=\"707.5\" y=\"92.1074\">n: Integer</text><line style=\"stroke: #383838; stroke-width: 1.5;\" x1=\"703.5\" x2=\"772.5\" y1=\"99.9375\" y2=\"99.9375\"/></a><!--MD5=[ebbe1d658d1005bcc118a6aa81145e00]\n",
       "class E4--><a href=\"psysml:2de2cbdc-62e6-485a-a7d2-bee7f587f60d\" target=\"_top\" title=\"psysml:2de2cbdc-62e6-485a-a7d2-bee7f587f60d\" xlink:actuate=\"onRequest\" xlink:href=\"psysml:2de2cbdc-62e6-485a-a7d2-bee7f587f60d\" xlink:show=\"new\" xlink:title=\"psysml:2de2cbdc-62e6-485a-a7d2-bee7f587f60d\" xlink:type=\"simple\"><rect fill=\"#FFFFFF\" height=\"45.9375\" id=\"E4\" rx=\"10\" ry=\"10\" style=\"stroke: #383838; stroke-width: 1.5;\" width=\"42\" x=\"625\" y=\"62\"/><text fill=\"#000000\" font-family=\"sans-serif\" font-size=\"12\" font-style=\"italic\" lengthAdjust=\"spacingAndGlyphs\" textLength=\"40\" x=\"626\" y=\"78.1387\">«part»</text><text fill=\"#000000\" font-family=\"sans-serif\" font-size=\"12\" lengthAdjust=\"spacingAndGlyphs\" textLength=\"8\" x=\"642\" y=\"92.1074\">a</text><line style=\"stroke: #383838; stroke-width: 1.5;\" x1=\"626\" x2=\"666\" y1=\"99.9375\" y2=\"99.9375\"/></a><!--MD5=[270fce915f116d4de14055a7c1d9a0f3]\n",
       "class E5--><a href=\"psysml:a47b2c6e-81dd-4a7f-97e2-f2f751620c17\" target=\"_top\" title=\"psysml:a47b2c6e-81dd-4a7f-97e2-f2f751620c17\" xlink:actuate=\"onRequest\" xlink:href=\"psysml:a47b2c6e-81dd-4a7f-97e2-f2f751620c17\" xlink:show=\"new\" xlink:title=\"psysml:a47b2c6e-81dd-4a7f-97e2-f2f751620c17\" xlink:type=\"simple\"><rect fill=\"#FFFFFF\" height=\"45.9375\" id=\"E5\" rx=\"10\" ry=\"10\" style=\"stroke: #383838; stroke-width: 1.5;\" width=\"42\" x=\"548\" y=\"62\"/><text fill=\"#000000\" font-family=\"sans-serif\" font-size=\"12\" font-style=\"italic\" lengthAdjust=\"spacingAndGlyphs\" textLength=\"40\" x=\"549\" y=\"78.1387\">«part»</text><text fill=\"#000000\" font-family=\"sans-serif\" font-size=\"12\" lengthAdjust=\"spacingAndGlyphs\" textLength=\"24\" x=\"557\" y=\"92.1074\">b: P</text><line style=\"stroke: #383838; stroke-width: 1.5;\" x1=\"549\" x2=\"589\" y1=\"99.9375\" y2=\"99.9375\"/></a><!--MD5=[60a26617385b1d2d0262a64233df1f8d]\n",
       "class E6--><a href=\"psysml:46e4b238-da26-40c7-b1f6-d3a4f2631481\" target=\"_top\" title=\"psysml:46e4b238-da26-40c7-b1f6-d3a4f2631481\" xlink:actuate=\"onRequest\" xlink:href=\"psysml:46e4b238-da26-40c7-b1f6-d3a4f2631481\" xlink:show=\"new\" xlink:title=\"psysml:46e4b238-da26-40c7-b1f6-d3a4f2631481\" xlink:type=\"simple\"><rect fill=\"#FFFFFF\" height=\"45.9375\" id=\"E6\" rx=\"10\" ry=\"10\" style=\"stroke: #383838; stroke-width: 1.5;\" width=\"42\" x=\"471\" y=\"62\"/><text fill=\"#000000\" font-family=\"sans-serif\" font-size=\"12\" font-style=\"italic\" lengthAdjust=\"spacingAndGlyphs\" textLength=\"40\" x=\"472\" y=\"78.1387\">«part»</text><text fill=\"#000000\" font-family=\"sans-serif\" font-size=\"12\" lengthAdjust=\"spacingAndGlyphs\" textLength=\"23\" x=\"480.5\" y=\"92.1074\">c: P</text><line style=\"stroke: #383838; stroke-width: 1.5;\" x1=\"472\" x2=\"512\" y1=\"99.9375\" y2=\"99.9375\"/></a><!--MD5=[2156ba9850f5573cc1fc38a6a4b2f02b]\n",
       "class E7--><a href=\"psysml:862abcb1-d094-4d1f-a90d-b0af915cd2bb\" target=\"_top\" title=\"psysml:862abcb1-d094-4d1f-a90d-b0af915cd2bb\" xlink:actuate=\"onRequest\" xlink:href=\"psysml:862abcb1-d094-4d1f-a90d-b0af915cd2bb\" xlink:show=\"new\" xlink:title=\"psysml:862abcb1-d094-4d1f-a90d-b0af915cd2bb\" xlink:type=\"simple\"><rect fill=\"#FFFFFF\" height=\"45.9375\" id=\"E7\" rx=\"10\" ry=\"10\" style=\"stroke: #383838; stroke-width: 1.5;\" width=\"42\" x=\"394\" y=\"62\"/><text fill=\"#000000\" font-family=\"sans-serif\" font-size=\"12\" font-style=\"italic\" lengthAdjust=\"spacingAndGlyphs\" textLength=\"40\" x=\"395\" y=\"78.1387\">«part»</text><text fill=\"#000000\" font-family=\"sans-serif\" font-size=\"12\" lengthAdjust=\"spacingAndGlyphs\" textLength=\"8\" x=\"411\" y=\"92.1074\">d</text><line style=\"stroke: #383838; stroke-width: 1.5;\" x1=\"395\" x2=\"435\" y1=\"99.9375\" y2=\"99.9375\"/></a><!--MD5=[b9389687b975829384b498ac4b7476b2]\n",
       "class E8--><a href=\"psysml:0f8b0aa8-e59b-4cfe-b590-8672d08a4434\" target=\"_top\" title=\"psysml:0f8b0aa8-e59b-4cfe-b590-8672d08a4434\" xlink:actuate=\"onRequest\" xlink:href=\"psysml:0f8b0aa8-e59b-4cfe-b590-8672d08a4434\" xlink:show=\"new\" xlink:title=\"psysml:0f8b0aa8-e59b-4cfe-b590-8672d08a4434\" xlink:type=\"simple\"><rect fill=\"#FFFFFF\" height=\"45.9375\" id=\"E8\" rx=\"10\" ry=\"10\" style=\"stroke: #383838; stroke-width: 1.5;\" width=\"42\" x=\"317\" y=\"62\"/><text fill=\"#000000\" font-family=\"sans-serif\" font-size=\"12\" font-style=\"italic\" lengthAdjust=\"spacingAndGlyphs\" textLength=\"40\" x=\"318\" y=\"78.1387\">«part»</text><text fill=\"#000000\" font-family=\"sans-serif\" font-size=\"12\" lengthAdjust=\"spacingAndGlyphs\" textLength=\"8\" x=\"334\" y=\"92.1074\">e</text><line style=\"stroke: #383838; stroke-width: 1.5;\" x1=\"318\" x2=\"358\" y1=\"99.9375\" y2=\"99.9375\"/></a><!--MD5=[fd4143e9d270a159db93a4ea2a975926]\n",
       "class E9--><a href=\"psysml:07bb6063-49af-4acb-bb76-a6a51f542bf8\" target=\"_top\" title=\"psysml:07bb6063-49af-4acb-bb76-a6a51f542bf8\" xlink:actuate=\"onRequest\" xlink:href=\"psysml:07bb6063-49af-4acb-bb76-a6a51f542bf8\" xlink:show=\"new\" xlink:title=\"psysml:07bb6063-49af-4acb-bb76-a6a51f542bf8\" xlink:type=\"simple\"><rect fill=\"#FFFFFF\" height=\"45.9375\" id=\"E9\" rx=\"10\" ry=\"10\" style=\"stroke: #383838; stroke-width: 1.5;\" width=\"42\" x=\"240\" y=\"62\"/><text fill=\"#000000\" font-family=\"sans-serif\" font-size=\"12\" font-style=\"italic\" lengthAdjust=\"spacingAndGlyphs\" textLength=\"40\" x=\"241\" y=\"78.1387\">«part»</text><text fill=\"#000000\" font-family=\"sans-serif\" font-size=\"12\" lengthAdjust=\"spacingAndGlyphs\" textLength=\"4\" x=\"259\" y=\"92.1074\">f</text><line style=\"stroke: #383838; stroke-width: 1.5;\" x1=\"241\" x2=\"281\" y1=\"99.9375\" y2=\"99.9375\"/></a><!--MD5=[96f4274e9e20536e775497830990834d]\n",
       "class E10--><a href=\"psysml:87a6ec87-e214-496f-a09f-1f6dfd597ed3\" target=\"_top\" title=\"psysml:87a6ec87-e214-496f-a09f-1f6dfd597ed3\" xlink:actuate=\"onRequest\" xlink:href=\"psysml:87a6ec87-e214-496f-a09f-1f6dfd597ed3\" xlink:show=\"new\" xlink:title=\"psysml:87a6ec87-e214-496f-a09f-1f6dfd597ed3\" xlink:type=\"simple\"><rect fill=\"#FFFFFF\" height=\"45.9375\" id=\"E10\" rx=\"10\" ry=\"10\" style=\"stroke: #383838; stroke-width: 1.5;\" width=\"42\" x=\"163\" y=\"62\"/><text fill=\"#000000\" font-family=\"sans-serif\" font-size=\"12\" font-style=\"italic\" lengthAdjust=\"spacingAndGlyphs\" textLength=\"40\" x=\"164\" y=\"78.1387\">«part»</text><text fill=\"#000000\" font-family=\"sans-serif\" font-size=\"12\" lengthAdjust=\"spacingAndGlyphs\" textLength=\"8\" x=\"180\" y=\"92.1074\">g</text><line style=\"stroke: #383838; stroke-width: 1.5;\" x1=\"164\" x2=\"204\" y1=\"99.9375\" y2=\"99.9375\"/></a><!--MD5=[1dd1bfd58a279cf63c5f349dbc8fc6a1]\n",
       "class E11--><a href=\"psysml:423769db-1814-486c-a3b1-3214b1eae655\" target=\"_top\" title=\"psysml:423769db-1814-486c-a3b1-3214b1eae655\" xlink:actuate=\"onRequest\" xlink:href=\"psysml:423769db-1814-486c-a3b1-3214b1eae655\" xlink:show=\"new\" xlink:title=\"psysml:423769db-1814-486c-a3b1-3214b1eae655\" xlink:type=\"simple\"><rect fill=\"#FFFFFF\" height=\"88.3516\" id=\"E11\" style=\"stroke: #383838; stroke-width: 1.5;\" width=\"95\" x=\"32.5\" y=\"41\"/><text fill=\"#000000\" font-family=\"sans-serif\" font-size=\"12\" font-style=\"italic\" lengthAdjust=\"spacingAndGlyphs\" textLength=\"93\" x=\"33.5\" y=\"57.1387\">«attribute def»</text><text fill=\"#000000\" font-family=\"sans-serif\" font-size=\"12\" lengthAdjust=\"spacingAndGlyphs\" textLength=\"8\" x=\"76\" y=\"71.1074\">A</text><line style=\"stroke: #383838; stroke-width: 1.5;\" x1=\"33.5\" x2=\"126.5\" y1=\"78.9375\" y2=\"78.9375\"/><text fill=\"#000000\" font-family=\"sans-serif\" font-size=\"11\" lengthAdjust=\"spacingAndGlyphs\" textLength=\"51\" x=\"38.5\" y=\"109.9526\">i: Integer</text><text fill=\"#000000\" font-family=\"sans-serif\" font-size=\"11\" lengthAdjust=\"spacingAndGlyphs\" textLength=\"21\" x=\"38.5\" y=\"122.7573\">x: A</text><line style=\"stroke: #383838; stroke-width: 1.0;\" x1=\"33.5\" x2=\"52.5\" y1=\"93.3398\" y2=\"93.3398\"/><text fill=\"#000000\" font-family=\"sans-serif\" font-size=\"11\" lengthAdjust=\"spacingAndGlyphs\" textLength=\"55\" x=\"52.5\" y=\"96.6479\">attributes</text><line style=\"stroke: #383838; stroke-width: 1.0;\" x1=\"107.5\" x2=\"126.5\" y1=\"93.3398\" y2=\"93.3398\"/></a><!--MD5=[15ebcb19ae302d9b601edb458606d402]\n",
       "link E5 to E2--><a href=\"psysml:56ee8f03-05cc-4672-92a5-af5f15d564f5\" target=\"_top\" title=\"psysml:56ee8f03-05cc-4672-92a5-af5f15d564f5\" xlink:actuate=\"onRequest\" xlink:href=\"psysml:56ee8f03-05cc-4672-92a5-af5f15d564f5\" xlink:show=\"new\" xlink:title=\"psysml:56ee8f03-05cc-4672-92a5-af5f15d564f5\" xlink:type=\"simple\"><path d=\"M562.12,108.06 C556.83,125 549.38,148.89 542.98,169.39 \" fill=\"none\" id=\"E5-&gt;E2\" style=\"stroke: #383838; stroke-width: 1.0;\"/><polygon fill=\"#FFFFFF\" points=\"536.95,188.74,535.929,168.5173,549.2931,172.6886,536.95,188.74\" style=\"stroke: #383838; stroke-width: 1.0;\"/><ellipse cx=\"539.5364\" cy=\"163.6721\" fill=\"#383838\" rx=\"2\" ry=\"2\" style=\"stroke: #383838; stroke-width: 1.0;\"/><ellipse cx=\"549.0823\" cy=\"166.6516\" fill=\"#383838\" rx=\"2\" ry=\"2\" style=\"stroke: #383838; stroke-width: 1.0;\"/></a><!--MD5=[2351f337d6de0f557b50152ba70847b5]\n",
       "link E6 to E2--><a href=\"psysml:34caeea3-9e32-4456-be5b-df49f4f1b3a4\" target=\"_top\" title=\"psysml:34caeea3-9e32-4456-be5b-df49f4f1b3a4\" xlink:actuate=\"onRequest\" xlink:href=\"psysml:34caeea3-9e32-4456-be5b-df49f4f1b3a4\" xlink:show=\"new\" xlink:title=\"psysml:34caeea3-9e32-4456-be5b-df49f4f1b3a4\" xlink:type=\"simple\"><path d=\"M498.71,108.06 C503.86,125 511.12,148.89 517.35,169.39 \" fill=\"none\" id=\"E6-&gt;E2\" style=\"stroke: #383838; stroke-width: 1.0;\"/><polygon fill=\"#FFFFFF\" points=\"523.23,188.74,511.007,172.597,524.4019,168.5255,523.23,188.74\" style=\"stroke: #383838; stroke-width: 1.0;\"/><ellipse cx=\"511.2628\" cy=\"166.5617\" fill=\"#383838\" rx=\"2\" ry=\"2\" style=\"stroke: #383838; stroke-width: 1.0;\"/><ellipse cx=\"520.8306\" cy=\"163.6535\" fill=\"#383838\" rx=\"2\" ry=\"2\" style=\"stroke: #383838; stroke-width: 1.0;\"/></a><!--MD5=[1605524240e273df0c243b46d7971531]\n",
       "@startuml\r\n",
       "skinparam monochrome true\r\n",
       "skinparam classbackgroundcolor white\r\n",
       "skinparam shadowing false\r\n",
       "skinparam wrapWidth 300\r\n",
       "hide circle\r\n",
       "\r\n",
       "package \"MultiplicityTest\" as E1  [[psysml:917c8e98-308c-4a57-bedc-72bb13927275 ]]  {\r\n",
       "comp def \"P\" as E2  <<(T,blue) part def>> [[psysml:1b8e2ab6-001b-4483-8406-5463ddd95a77 ]] {\r\n",
       "}\r\n",
       "comp usage \"n: Integer\" as E3  <<(T,blue) attribute>> [[psysml:d0e8f829-c575-44a2-9ede-b108238de40c ]] {\r\n",
       "}\r\n",
       "comp usage \"a\" as E4  <<(T,blue) part>> [[psysml:2de2cbdc-62e6-485a-a7d2-bee7f587f60d ]] {\r\n",
       "}\r\n",
       "comp usage \"b: P\" as E5  <<(T,blue) part>> [[psysml:a47b2c6e-81dd-4a7f-97e2-f2f751620c17 ]] {\r\n",
       "}\r\n",
       "comp usage \"c: P\" as E6  <<(T,blue) part>> [[psysml:46e4b238-da26-40c7-b1f6-d3a4f2631481 ]] {\r\n",
       "}\r\n",
       "comp usage \"d\" as E7  <<(T,blue) part>> [[psysml:862abcb1-d094-4d1f-a90d-b0af915cd2bb ]] {\r\n",
       "}\r\n",
       "comp usage \"e\" as E8  <<(T,blue) part>> [[psysml:0f8b0aa8-e59b-4cfe-b590-8672d08a4434 ]] {\r\n",
       "}\r\n",
       "comp usage \"f\" as E9  <<(T,blue) part>> [[psysml:07bb6063-49af-4acb-bb76-a6a51f542bf8 ]] {\r\n",
       "}\r\n",
       "comp usage \"g\" as E10  <<(T,blue) part>> [[psysml:87a6ec87-e214-496f-a09f-1f6dfd597ed3 ]] {\r\n",
       "}\r\n",
       "comp def \"A\" as E11  <<(T,blue) attribute def>> [[psysml:423769db-1814-486c-a3b1-3214b1eae655 ]] {\r\n",
       "- - attributes - -\r\n",
       "i: Integer\r\n",
       "x: A\r\n",
       "}\r\n",
       "}\r\n",
       "E5 - -:|> E2 [[psysml:56ee8f03-05cc-4672-92a5-af5f15d564f5 ]] \r\n",
       "E6 - -:|> E2 [[psysml:34caeea3-9e32-4456-be5b-df49f4f1b3a4 ]] \r\n",
       "@enduml\r\n",
       "\n",
       "PlantUML version 1.2020.13(Sat Jun 13 12:26:38 UTC 2020)\n",
       "(EPL source distribution)\n",
       "Java Runtime: OpenJDK Runtime Environment\n",
       "JVM: OpenJDK 64-Bit Server VM\n",
       "Default Encoding: UTF-8\n",
       "Language: en\n",
       "Country: null\n",
       "--></g></svg>"
      ]
     },
     "execution_count": 38,
     "metadata": {},
     "output_type": "execute_result"
    }
   ],
   "source": [
    "%viz --style=\"DEFAULT\" --view=\"Tree\" \"MultiplicityTest\""
   ]
  },
  {
   "cell_type": "code",
   "execution_count": 39,
   "id": "c1213a80",
   "metadata": {
    "execution": {
     "iopub.execute_input": "2021-10-03T08:30:21.625833Z",
     "iopub.status.busy": "2021-10-03T08:30:21.625439Z",
     "iopub.status.idle": "2021-10-03T08:30:21.629993Z",
     "shell.execute_reply": "2021-10-03T08:30:21.630303Z"
    }
   },
   "outputs": [
    {
     "data": {
      "image/svg+xml": [
       "<?xml version=\"1.0\" encoding=\"UTF-8\" standalone=\"no\"?><svg xmlns=\"http://www.w3.org/2000/svg\" xmlns:xlink=\"http://www.w3.org/1999/xlink\" contentScriptType=\"application/ecmascript\" contentStyleType=\"text/css\" height=\"12px\" preserveAspectRatio=\"none\" style=\"width:12px;height:12px;\" version=\"1.1\" viewBox=\"0 0 12 12\" width=\"12px\" zoomAndPan=\"magnify\"><defs/><g><!--MD5=[c5f280e076d0d61ccf4b0f27871bda1d]\n",
       "@startuml\r\n",
       "skinparam monochrome true\r\n",
       "skinparam classbackgroundcolor white\r\n",
       "skinparam shadowing false\r\n",
       "skinparam wrapWidth 300\r\n",
       "hide circle\r\n",
       "\r\n",
       "@enduml\r\n",
       "\n",
       "PlantUML version 1.2020.13(Sat Jun 13 12:26:38 UTC 2020)\n",
       "(EPL source distribution)\n",
       "Java Runtime: OpenJDK Runtime Environment\n",
       "JVM: OpenJDK 64-Bit Server VM\n",
       "Default Encoding: UTF-8\n",
       "Language: en\n",
       "Country: null\n",
       "--></g></svg>"
      ]
     },
     "execution_count": 39,
     "metadata": {},
     "output_type": "execute_result"
    }
   ],
   "source": [
    "%viz --style=\"DEFAULT\" --view=\"State\" \"MultiplicityTest\""
   ]
  },
  {
   "cell_type": "code",
   "execution_count": 40,
   "id": "8bcee944",
   "metadata": {
    "execution": {
     "iopub.execute_input": "2021-10-03T08:30:21.679811Z",
     "iopub.status.busy": "2021-10-03T08:30:21.679406Z",
     "iopub.status.idle": "2021-10-03T08:30:21.708028Z",
     "shell.execute_reply": "2021-10-03T08:30:21.708339Z"
    }
   },
   "outputs": [
    {
     "data": {
      "image/svg+xml": [
       "<?xml version=\"1.0\" encoding=\"UTF-8\" standalone=\"no\"?><svg xmlns=\"http://www.w3.org/2000/svg\" xmlns:xlink=\"http://www.w3.org/1999/xlink\" contentScriptType=\"application/ecmascript\" contentStyleType=\"text/css\" height=\"115px\" preserveAspectRatio=\"none\" style=\"width:979px;height:115px;\" version=\"1.1\" viewBox=\"0 0 979 115\" width=\"979px\" zoomAndPan=\"magnify\"><defs/><g><!--MD5=[fbc87193dbaf4d95561dea2c320d4a47]\n",
       "cluster E1--><a href=\"psysml:917c8e98-308c-4a57-bedc-72bb13927275\" target=\"_top\" title=\"psysml:917c8e98-308c-4a57-bedc-72bb13927275\" xlink:actuate=\"onRequest\" xlink:href=\"psysml:917c8e98-308c-4a57-bedc-72bb13927275\" xlink:show=\"new\" xlink:title=\"psysml:917c8e98-308c-4a57-bedc-72bb13927275\" xlink:type=\"simple\"><polygon fill=\"#FFFFFF\" points=\"16,6,123,6,130,28.2969,957,28.2969,957,103,16,103,16,6\" style=\"stroke: #000000; stroke-width: 1.5;\"/><line style=\"stroke: #000000; stroke-width: 1.5;\" x1=\"16\" x2=\"130\" y1=\"28.2969\" y2=\"28.2969\"/><text fill=\"#000000\" font-family=\"sans-serif\" font-size=\"14\" font-weight=\"bold\" lengthAdjust=\"spacingAndGlyphs\" textLength=\"101\" x=\"20\" y=\"20.9951\">MultiplicityTest</text></a><!--MD5=[09b614a08d8cba4a07c9adeb5e0fee81]\n",
       "class E3--><a href=\"psysml:d0e8f829-c575-44a2-9ede-b108238de40c\" target=\"_top\" title=\"psysml:d0e8f829-c575-44a2-9ede-b108238de40c\" xlink:actuate=\"onRequest\" xlink:href=\"psysml:d0e8f829-c575-44a2-9ede-b108238de40c\" xlink:show=\"new\" xlink:title=\"psysml:d0e8f829-c575-44a2-9ede-b108238de40c\" xlink:type=\"simple\"><rect fill=\"#FFFFFF\" height=\"45.9375\" id=\"E3\" rx=\"10\" ry=\"10\" style=\"stroke: #383838; stroke-width: 1.5;\" width=\"71\" x=\"869.5\" y=\"41\"/><text fill=\"#000000\" font-family=\"sans-serif\" font-size=\"12\" font-style=\"italic\" lengthAdjust=\"spacingAndGlyphs\" textLength=\"69\" x=\"870.5\" y=\"57.1387\">«attribute»</text><text fill=\"#000000\" font-family=\"sans-serif\" font-size=\"12\" lengthAdjust=\"spacingAndGlyphs\" textLength=\"61\" x=\"874.5\" y=\"71.1074\">n: Integer</text><line style=\"stroke: #383838; stroke-width: 1.5;\" x1=\"870.5\" x2=\"939.5\" y1=\"78.9375\" y2=\"78.9375\"/></a><g id=\"E1.E11\"><a href=\"psysml:423769db-1814-486c-a3b1-3214b1eae655\" target=\"_top\" title=\"psysml:423769db-1814-486c-a3b1-3214b1eae655\" xlink:actuate=\"onRequest\" xlink:href=\"psysml:423769db-1814-486c-a3b1-3214b1eae655\" xlink:show=\"new\" xlink:title=\"psysml:423769db-1814-486c-a3b1-3214b1eae655\" xlink:type=\"simple\"><rect fill=\"#FFFFFF\" height=\"42.9375\" id=\"E11\" style=\"stroke: #383838; stroke-width: 1.5;\" width=\"100\" x=\"734\" y=\"42.5\"/><rect fill=\"#F8F8F8\" height=\"37.9375\" style=\"stroke: #383838; stroke-width: 1.5;\" width=\"100\" x=\"734\" y=\"42.5\"/><text fill=\"#000000\" font-family=\"sans-serif\" font-size=\"12\" font-style=\"italic\" lengthAdjust=\"spacingAndGlyphs\" textLength=\"93\" x=\"737.5\" y=\"58.6387\">«attribute def»</text><text fill=\"#000000\" font-family=\"sans-serif\" font-size=\"12\" lengthAdjust=\"spacingAndGlyphs\" textLength=\"8\" x=\"780\" y=\"72.6074\">A</text></a></g><g id=\"E1.E2\"><a href=\"psysml:1b8e2ab6-001b-4483-8406-5463ddd95a77\" target=\"_top\" title=\"psysml:1b8e2ab6-001b-4483-8406-5463ddd95a77\" xlink:actuate=\"onRequest\" xlink:href=\"psysml:1b8e2ab6-001b-4483-8406-5463ddd95a77\" xlink:show=\"new\" xlink:title=\"psysml:1b8e2ab6-001b-4483-8406-5463ddd95a77\" xlink:type=\"simple\"><rect fill=\"#FFFFFF\" height=\"42.9375\" id=\"E2\" style=\"stroke: #383838; stroke-width: 1.5;\" width=\"71\" x=\"627.5\" y=\"42.5\"/><rect fill=\"#F8F8F8\" height=\"37.9375\" style=\"stroke: #383838; stroke-width: 1.5;\" width=\"71\" x=\"627.5\" y=\"42.5\"/><text fill=\"#000000\" font-family=\"sans-serif\" font-size=\"12\" font-style=\"italic\" lengthAdjust=\"spacingAndGlyphs\" textLength=\"64\" x=\"631\" y=\"58.6387\">«part def»</text><text fill=\"#000000\" font-family=\"sans-serif\" font-size=\"12\" lengthAdjust=\"spacingAndGlyphs\" textLength=\"8\" x=\"659\" y=\"72.6074\">P</text></a></g><g id=\"E1.E4\"><a href=\"psysml:2de2cbdc-62e6-485a-a7d2-bee7f587f60d\" target=\"_top\" title=\"psysml:2de2cbdc-62e6-485a-a7d2-bee7f587f60d\" xlink:actuate=\"onRequest\" xlink:href=\"psysml:2de2cbdc-62e6-485a-a7d2-bee7f587f60d\" xlink:show=\"new\" xlink:title=\"psysml:2de2cbdc-62e6-485a-a7d2-bee7f587f60d\" xlink:type=\"simple\"><rect fill=\"#FFFFFF\" height=\"40\" id=\"E4\" rx=\"10\" ry=\"10\" style=\"stroke: #383838; stroke-width: 1.5;\" width=\"50\" x=\"542\" y=\"44\"/><rect fill=\"#F8F8F8\" height=\"23.9688\" rx=\"10\" ry=\"10\" style=\"stroke: #F8F8F8; stroke-width: 1.5;\" width=\"50\" x=\"542\" y=\"44\"/><rect fill=\"#F8F8F8\" height=\"10\" style=\"stroke: #F8F8F8; stroke-width: 1.5;\" width=\"50\" x=\"542\" y=\"57.9688\"/><rect fill=\"none\" height=\"40\" id=\"E4\" rx=\"10\" ry=\"10\" style=\"stroke: #383838; stroke-width: 1.5;\" width=\"50\" x=\"542\" y=\"44\"/><text fill=\"#000000\" font-family=\"sans-serif\" font-size=\"12\" lengthAdjust=\"spacingAndGlyphs\" textLength=\"8\" x=\"563\" y=\"60.1387\">a</text></a></g><g id=\"E1.E5\"><a href=\"psysml:a47b2c6e-81dd-4a7f-97e2-f2f751620c17\" target=\"_top\" title=\"psysml:a47b2c6e-81dd-4a7f-97e2-f2f751620c17\" xlink:actuate=\"onRequest\" xlink:href=\"psysml:a47b2c6e-81dd-4a7f-97e2-f2f751620c17\" xlink:show=\"new\" xlink:title=\"psysml:a47b2c6e-81dd-4a7f-97e2-f2f751620c17\" xlink:type=\"simple\"><rect fill=\"#FFFFFF\" height=\"40\" id=\"E5\" rx=\"10\" ry=\"10\" style=\"stroke: #383838; stroke-width: 1.5;\" width=\"50\" x=\"457\" y=\"44\"/><rect fill=\"#F8F8F8\" height=\"23.9688\" rx=\"10\" ry=\"10\" style=\"stroke: #F8F8F8; stroke-width: 1.5;\" width=\"50\" x=\"457\" y=\"44\"/><rect fill=\"#F8F8F8\" height=\"10\" style=\"stroke: #F8F8F8; stroke-width: 1.5;\" width=\"50\" x=\"457\" y=\"57.9688\"/><rect fill=\"none\" height=\"40\" id=\"E5\" rx=\"10\" ry=\"10\" style=\"stroke: #383838; stroke-width: 1.5;\" width=\"50\" x=\"457\" y=\"44\"/><text fill=\"#000000\" font-family=\"sans-serif\" font-size=\"12\" lengthAdjust=\"spacingAndGlyphs\" textLength=\"24\" x=\"470\" y=\"60.1387\">b: P</text></a></g><g id=\"E1.E6\"><a href=\"psysml:46e4b238-da26-40c7-b1f6-d3a4f2631481\" target=\"_top\" title=\"psysml:46e4b238-da26-40c7-b1f6-d3a4f2631481\" xlink:actuate=\"onRequest\" xlink:href=\"psysml:46e4b238-da26-40c7-b1f6-d3a4f2631481\" xlink:show=\"new\" xlink:title=\"psysml:46e4b238-da26-40c7-b1f6-d3a4f2631481\" xlink:type=\"simple\"><rect fill=\"#FFFFFF\" height=\"40\" id=\"E6\" rx=\"10\" ry=\"10\" style=\"stroke: #383838; stroke-width: 1.5;\" width=\"50\" x=\"372\" y=\"44\"/><rect fill=\"#F8F8F8\" height=\"23.9688\" rx=\"10\" ry=\"10\" style=\"stroke: #F8F8F8; stroke-width: 1.5;\" width=\"50\" x=\"372\" y=\"44\"/><rect fill=\"#F8F8F8\" height=\"10\" style=\"stroke: #F8F8F8; stroke-width: 1.5;\" width=\"50\" x=\"372\" y=\"57.9688\"/><rect fill=\"none\" height=\"40\" id=\"E6\" rx=\"10\" ry=\"10\" style=\"stroke: #383838; stroke-width: 1.5;\" width=\"50\" x=\"372\" y=\"44\"/><text fill=\"#000000\" font-family=\"sans-serif\" font-size=\"12\" lengthAdjust=\"spacingAndGlyphs\" textLength=\"23\" x=\"385.5\" y=\"60.1387\">c: P</text></a></g><g id=\"E1.E7\"><a href=\"psysml:862abcb1-d094-4d1f-a90d-b0af915cd2bb\" target=\"_top\" title=\"psysml:862abcb1-d094-4d1f-a90d-b0af915cd2bb\" xlink:actuate=\"onRequest\" xlink:href=\"psysml:862abcb1-d094-4d1f-a90d-b0af915cd2bb\" xlink:show=\"new\" xlink:title=\"psysml:862abcb1-d094-4d1f-a90d-b0af915cd2bb\" xlink:type=\"simple\"><rect fill=\"#FFFFFF\" height=\"40\" id=\"E7\" rx=\"10\" ry=\"10\" style=\"stroke: #383838; stroke-width: 1.5;\" width=\"50\" x=\"287\" y=\"44\"/><rect fill=\"#F8F8F8\" height=\"23.9688\" rx=\"10\" ry=\"10\" style=\"stroke: #F8F8F8; stroke-width: 1.5;\" width=\"50\" x=\"287\" y=\"44\"/><rect fill=\"#F8F8F8\" height=\"10\" style=\"stroke: #F8F8F8; stroke-width: 1.5;\" width=\"50\" x=\"287\" y=\"57.9688\"/><rect fill=\"none\" height=\"40\" id=\"E7\" rx=\"10\" ry=\"10\" style=\"stroke: #383838; stroke-width: 1.5;\" width=\"50\" x=\"287\" y=\"44\"/><text fill=\"#000000\" font-family=\"sans-serif\" font-size=\"12\" lengthAdjust=\"spacingAndGlyphs\" textLength=\"8\" x=\"308\" y=\"60.1387\">d</text></a></g><g id=\"E1.E8\"><a href=\"psysml:0f8b0aa8-e59b-4cfe-b590-8672d08a4434\" target=\"_top\" title=\"psysml:0f8b0aa8-e59b-4cfe-b590-8672d08a4434\" xlink:actuate=\"onRequest\" xlink:href=\"psysml:0f8b0aa8-e59b-4cfe-b590-8672d08a4434\" xlink:show=\"new\" xlink:title=\"psysml:0f8b0aa8-e59b-4cfe-b590-8672d08a4434\" xlink:type=\"simple\"><rect fill=\"#FFFFFF\" height=\"40\" id=\"E8\" rx=\"10\" ry=\"10\" style=\"stroke: #383838; stroke-width: 1.5;\" width=\"50\" x=\"202\" y=\"44\"/><rect fill=\"#F8F8F8\" height=\"23.9688\" rx=\"10\" ry=\"10\" style=\"stroke: #F8F8F8; stroke-width: 1.5;\" width=\"50\" x=\"202\" y=\"44\"/><rect fill=\"#F8F8F8\" height=\"10\" style=\"stroke: #F8F8F8; stroke-width: 1.5;\" width=\"50\" x=\"202\" y=\"57.9688\"/><rect fill=\"none\" height=\"40\" id=\"E8\" rx=\"10\" ry=\"10\" style=\"stroke: #383838; stroke-width: 1.5;\" width=\"50\" x=\"202\" y=\"44\"/><text fill=\"#000000\" font-family=\"sans-serif\" font-size=\"12\" lengthAdjust=\"spacingAndGlyphs\" textLength=\"8\" x=\"223\" y=\"60.1387\">e</text></a></g><g id=\"E1.E9\"><a href=\"psysml:07bb6063-49af-4acb-bb76-a6a51f542bf8\" target=\"_top\" title=\"psysml:07bb6063-49af-4acb-bb76-a6a51f542bf8\" xlink:actuate=\"onRequest\" xlink:href=\"psysml:07bb6063-49af-4acb-bb76-a6a51f542bf8\" xlink:show=\"new\" xlink:title=\"psysml:07bb6063-49af-4acb-bb76-a6a51f542bf8\" xlink:type=\"simple\"><rect fill=\"#FFFFFF\" height=\"40\" id=\"E9\" rx=\"10\" ry=\"10\" style=\"stroke: #383838; stroke-width: 1.5;\" width=\"50\" x=\"117\" y=\"44\"/><rect fill=\"#F8F8F8\" height=\"23.9688\" rx=\"10\" ry=\"10\" style=\"stroke: #F8F8F8; stroke-width: 1.5;\" width=\"50\" x=\"117\" y=\"44\"/><rect fill=\"#F8F8F8\" height=\"10\" style=\"stroke: #F8F8F8; stroke-width: 1.5;\" width=\"50\" x=\"117\" y=\"57.9688\"/><rect fill=\"none\" height=\"40\" id=\"E9\" rx=\"10\" ry=\"10\" style=\"stroke: #383838; stroke-width: 1.5;\" width=\"50\" x=\"117\" y=\"44\"/><text fill=\"#000000\" font-family=\"sans-serif\" font-size=\"12\" lengthAdjust=\"spacingAndGlyphs\" textLength=\"4\" x=\"140\" y=\"60.1387\">f</text></a></g><g id=\"E1.E10\"><a href=\"psysml:87a6ec87-e214-496f-a09f-1f6dfd597ed3\" target=\"_top\" title=\"psysml:87a6ec87-e214-496f-a09f-1f6dfd597ed3\" xlink:actuate=\"onRequest\" xlink:href=\"psysml:87a6ec87-e214-496f-a09f-1f6dfd597ed3\" xlink:show=\"new\" xlink:title=\"psysml:87a6ec87-e214-496f-a09f-1f6dfd597ed3\" xlink:type=\"simple\"><rect fill=\"#FFFFFF\" height=\"40\" id=\"E10\" rx=\"10\" ry=\"10\" style=\"stroke: #383838; stroke-width: 1.5;\" width=\"50\" x=\"32\" y=\"44\"/><rect fill=\"#F8F8F8\" height=\"23.9688\" rx=\"10\" ry=\"10\" style=\"stroke: #F8F8F8; stroke-width: 1.5;\" width=\"50\" x=\"32\" y=\"44\"/><rect fill=\"#F8F8F8\" height=\"10\" style=\"stroke: #F8F8F8; stroke-width: 1.5;\" width=\"50\" x=\"32\" y=\"57.9688\"/><rect fill=\"none\" height=\"40\" id=\"E10\" rx=\"10\" ry=\"10\" style=\"stroke: #383838; stroke-width: 1.5;\" width=\"50\" x=\"32\" y=\"44\"/><text fill=\"#000000\" font-family=\"sans-serif\" font-size=\"12\" lengthAdjust=\"spacingAndGlyphs\" textLength=\"8\" x=\"53\" y=\"60.1387\">g</text></a></g><!--MD5=[e2b8431e6e1e5ff463608e0cddc3af8e]\n",
       "@startuml\r\n",
       "skinparam ranksep 10\r\n",
       "skinparam rectangle {\r\n",
       " backgroundColor<<block>> LightGreen\r\n",
       "}\r\n",
       "skinparam monochrome true\r\n",
       "skinparam classbackgroundcolor white\r\n",
       "skinparam shadowing false\r\n",
       "skinparam wrapWidth 300\r\n",
       "hide circle\r\n",
       "\r\n",
       "package \"MultiplicityTest\" as E1  [[psysml:917c8e98-308c-4a57-bedc-72bb13927275 ]]  {\r\n",
       "rec def \"P\" as E2  <<(T,blue) part def>> [[psysml:1b8e2ab6-001b-4483-8406-5463ddd95a77 ]] {\r\n",
       "}\r\n",
       "comp usage \"n: Integer\" as E3  <<(T,blue) attribute>> [[psysml:d0e8f829-c575-44a2-9ede-b108238de40c ]] {\r\n",
       "}\r\n",
       "rec usage \"a\" as E4  [[psysml:2de2cbdc-62e6-485a-a7d2-bee7f587f60d ]] {\r\n",
       "}\r\n",
       "rec usage \"b: P\" as E5  [[psysml:a47b2c6e-81dd-4a7f-97e2-f2f751620c17 ]] {\r\n",
       "}\r\n",
       "rec usage \"c: P\" as E6  [[psysml:46e4b238-da26-40c7-b1f6-d3a4f2631481 ]] {\r\n",
       "}\r\n",
       "rec usage \"d\" as E7  [[psysml:862abcb1-d094-4d1f-a90d-b0af915cd2bb ]] {\r\n",
       "}\r\n",
       "rec usage \"e\" as E8  [[psysml:0f8b0aa8-e59b-4cfe-b590-8672d08a4434 ]] {\r\n",
       "}\r\n",
       "rec usage \"f\" as E9  [[psysml:07bb6063-49af-4acb-bb76-a6a51f542bf8 ]] {\r\n",
       "}\r\n",
       "rec usage \"g\" as E10  [[psysml:87a6ec87-e214-496f-a09f-1f6dfd597ed3 ]] {\r\n",
       "}\r\n",
       "def \"A\" as E11  <<(T,blue) attribute def>> [[psysml:423769db-1814-486c-a3b1-3214b1eae655 ]] \r\n",
       "}\r\n",
       "@enduml\r\n",
       "\n",
       "PlantUML version 1.2020.13(Sat Jun 13 12:26:38 UTC 2020)\n",
       "(EPL source distribution)\n",
       "Java Runtime: OpenJDK Runtime Environment\n",
       "JVM: OpenJDK 64-Bit Server VM\n",
       "Default Encoding: UTF-8\n",
       "Language: en\n",
       "Country: null\n",
       "--></g></svg>"
      ]
     },
     "execution_count": 40,
     "metadata": {},
     "output_type": "execute_result"
    }
   ],
   "source": [
    "%viz --style=\"DEFAULT\" --view=\"Interconnection\" \"MultiplicityTest\""
   ]
  },
  {
   "cell_type": "code",
   "execution_count": 41,
   "id": "e8b7d550",
   "metadata": {
    "execution": {
     "iopub.execute_input": "2021-10-03T08:30:21.757742Z",
     "iopub.status.busy": "2021-10-03T08:30:21.757348Z",
     "iopub.status.idle": "2021-10-03T08:30:21.761827Z",
     "shell.execute_reply": "2021-10-03T08:30:21.762134Z"
    }
   },
   "outputs": [
    {
     "data": {
      "image/svg+xml": [
       "<?xml version=\"1.0\" encoding=\"UTF-8\" standalone=\"no\"?><svg xmlns=\"http://www.w3.org/2000/svg\" xmlns:xlink=\"http://www.w3.org/1999/xlink\" contentScriptType=\"application/ecmascript\" contentStyleType=\"text/css\" height=\"12px\" preserveAspectRatio=\"none\" style=\"width:12px;height:12px;\" version=\"1.1\" viewBox=\"0 0 12 12\" width=\"12px\" zoomAndPan=\"magnify\"><defs/><g><!--MD5=[388f21188e31bfdd97050473b19af356]\n",
       "@startuml\r\n",
       "skinparam ranksep 8\r\n",
       "skinparam monochrome true\r\n",
       "skinparam classbackgroundcolor white\r\n",
       "skinparam shadowing false\r\n",
       "skinparam wrapWidth 300\r\n",
       "hide circle\r\n",
       "\r\n",
       "@enduml\r\n",
       "\n",
       "PlantUML version 1.2020.13(Sat Jun 13 12:26:38 UTC 2020)\n",
       "(EPL source distribution)\n",
       "Java Runtime: OpenJDK Runtime Environment\n",
       "JVM: OpenJDK 64-Bit Server VM\n",
       "Default Encoding: UTF-8\n",
       "Language: en\n",
       "Country: null\n",
       "--></g></svg>"
      ]
     },
     "execution_count": 41,
     "metadata": {},
     "output_type": "execute_result"
    }
   ],
   "source": [
    "%viz --style=\"DEFAULT\" --view=\"Action\" \"MultiplicityTest\""
   ]
  },
  {
   "cell_type": "code",
   "execution_count": 42,
   "id": "ac0546a8",
   "metadata": {
    "execution": {
     "iopub.execute_input": "2021-10-03T08:30:21.811678Z",
     "iopub.status.busy": "2021-10-03T08:30:21.811289Z",
     "iopub.status.idle": "2021-10-03T08:30:21.816212Z",
     "shell.execute_reply": "2021-10-03T08:30:21.815885Z"
    }
   },
   "outputs": [
    {
     "data": {
      "image/svg+xml": [
       "<?xml version=\"1.0\" encoding=\"UTF-8\" standalone=\"no\"?><svg xmlns=\"http://www.w3.org/2000/svg\" xmlns:xlink=\"http://www.w3.org/1999/xlink\" contentScriptType=\"application/ecmascript\" contentStyleType=\"text/css\" height=\"12px\" preserveAspectRatio=\"none\" style=\"width:12px;height:12px;\" version=\"1.1\" viewBox=\"0 0 12 12\" width=\"12px\" zoomAndPan=\"magnify\"><defs/><g><!--MD5=[0b72472770326784bf6c2b53246e1e64]\n",
       "@startuml\r\n",
       "skinparam roundcorner 20\r\n",
       "skinparam BoxPadding 20\r\n",
       "skinparam SequenceBoxBackgroundColor #white\r\n",
       "skinparam style strictuml\r\n",
       "skinparam maxMessageSize 100\r\n",
       "skinparam monochrome true\r\n",
       "skinparam classbackgroundcolor white\r\n",
       "skinparam shadowing false\r\n",
       "skinparam wrapWidth 300\r\n",
       "hide circle\r\n",
       "\r\n",
       "@enduml\r\n",
       "\n",
       "PlantUML version 1.2020.13(Sat Jun 13 12:26:38 UTC 2020)\n",
       "(EPL source distribution)\n",
       "Java Runtime: OpenJDK Runtime Environment\n",
       "JVM: OpenJDK 64-Bit Server VM\n",
       "Default Encoding: UTF-8\n",
       "Language: en\n",
       "Country: null\n",
       "--></g></svg>"
      ]
     },
     "execution_count": 42,
     "metadata": {},
     "output_type": "execute_result"
    }
   ],
   "source": [
    "%viz --style=\"DEFAULT\" --view=\"Sequence\" \"MultiplicityTest\""
   ]
  },
  {
   "cell_type": "code",
   "execution_count": 43,
   "id": "9b5b874f",
   "metadata": {
    "execution": {
     "iopub.execute_input": "2021-10-03T08:30:21.865629Z",
     "iopub.status.busy": "2021-10-03T08:30:21.865234Z",
     "iopub.status.idle": "2021-10-03T08:30:21.916836Z",
     "shell.execute_reply": "2021-10-03T08:30:21.916494Z"
    }
   },
   "outputs": [
    {
     "data": {
      "image/svg+xml": [
       "<?xml version=\"1.0\" encoding=\"UTF-8\" standalone=\"no\"?><svg xmlns=\"http://www.w3.org/2000/svg\" xmlns:xlink=\"http://www.w3.org/1999/xlink\" contentScriptType=\"application/ecmascript\" contentStyleType=\"text/css\" height=\"263px\" preserveAspectRatio=\"none\" style=\"width:812px;height:263px;\" version=\"1.1\" viewBox=\"0 0 812 263\" width=\"812px\" zoomAndPan=\"magnify\"><defs/><g><!--MD5=[fbc87193dbaf4d95561dea2c320d4a47]\n",
       "cluster E1--><a href=\"psysml:917c8e98-308c-4a57-bedc-72bb13927275\" target=\"_top\" title=\"psysml:917c8e98-308c-4a57-bedc-72bb13927275\" xlink:actuate=\"onRequest\" xlink:href=\"psysml:917c8e98-308c-4a57-bedc-72bb13927275\" xlink:show=\"new\" xlink:title=\"psysml:917c8e98-308c-4a57-bedc-72bb13927275\" xlink:type=\"simple\"><polygon fill=\"#FFFFFF\" points=\"16,6,123,6,130,28.2969,790,28.2969,790,251,16,251,16,6\" style=\"stroke: #000000; stroke-width: 1.5;\"/><line style=\"stroke: #000000; stroke-width: 1.5;\" x1=\"16\" x2=\"130\" y1=\"28.2969\" y2=\"28.2969\"/><text fill=\"#000000\" font-family=\"sans-serif\" font-size=\"14\" font-weight=\"bold\" lengthAdjust=\"spacingAndGlyphs\" textLength=\"101\" x=\"20\" y=\"20.9951\">MultiplicityTest</text></a><!--MD5=[b4997ac47864f28c2f74865a473b2911]\n",
       "class E2--><a href=\"psysml:1b8e2ab6-001b-4483-8406-5463ddd95a77\" target=\"_top\" title=\"psysml:1b8e2ab6-001b-4483-8406-5463ddd95a77\" xlink:actuate=\"onRequest\" xlink:href=\"psysml:1b8e2ab6-001b-4483-8406-5463ddd95a77\" xlink:show=\"new\" xlink:title=\"psysml:1b8e2ab6-001b-4483-8406-5463ddd95a77\" xlink:type=\"simple\"><rect fill=\"#FFFFFF\" height=\"45.9375\" id=\"E2\" style=\"stroke: #383838; stroke-width: 1.5;\" width=\"66\" x=\"497\" y=\"189\"/><text fill=\"#000000\" font-family=\"sans-serif\" font-size=\"12\" font-style=\"italic\" lengthAdjust=\"spacingAndGlyphs\" textLength=\"64\" x=\"498\" y=\"205.1387\">«part def»</text><text fill=\"#000000\" font-family=\"sans-serif\" font-size=\"12\" lengthAdjust=\"spacingAndGlyphs\" textLength=\"8\" x=\"526\" y=\"219.1074\">P</text><line style=\"stroke: #383838; stroke-width: 1.5;\" x1=\"498\" x2=\"562\" y1=\"226.9375\" y2=\"226.9375\"/></a><!--MD5=[09b614a08d8cba4a07c9adeb5e0fee81]\n",
       "class E3--><a href=\"psysml:d0e8f829-c575-44a2-9ede-b108238de40c\" target=\"_top\" title=\"psysml:d0e8f829-c575-44a2-9ede-b108238de40c\" xlink:actuate=\"onRequest\" xlink:href=\"psysml:d0e8f829-c575-44a2-9ede-b108238de40c\" xlink:show=\"new\" xlink:title=\"psysml:d0e8f829-c575-44a2-9ede-b108238de40c\" xlink:type=\"simple\"><rect fill=\"#FFFFFF\" height=\"45.9375\" id=\"E3\" rx=\"10\" ry=\"10\" style=\"stroke: #383838; stroke-width: 1.5;\" width=\"71\" x=\"702.5\" y=\"62\"/><text fill=\"#000000\" font-family=\"sans-serif\" font-size=\"12\" font-style=\"italic\" lengthAdjust=\"spacingAndGlyphs\" textLength=\"69\" x=\"703.5\" y=\"78.1387\">«attribute»</text><text fill=\"#000000\" font-family=\"sans-serif\" font-size=\"12\" lengthAdjust=\"spacingAndGlyphs\" textLength=\"61\" x=\"707.5\" y=\"92.1074\">n: Integer</text><line style=\"stroke: #383838; stroke-width: 1.5;\" x1=\"703.5\" x2=\"772.5\" y1=\"99.9375\" y2=\"99.9375\"/></a><!--MD5=[ebbe1d658d1005bcc118a6aa81145e00]\n",
       "class E4--><a href=\"psysml:2de2cbdc-62e6-485a-a7d2-bee7f587f60d\" target=\"_top\" title=\"psysml:2de2cbdc-62e6-485a-a7d2-bee7f587f60d\" xlink:actuate=\"onRequest\" xlink:href=\"psysml:2de2cbdc-62e6-485a-a7d2-bee7f587f60d\" xlink:show=\"new\" xlink:title=\"psysml:2de2cbdc-62e6-485a-a7d2-bee7f587f60d\" xlink:type=\"simple\"><rect fill=\"#FFFFFF\" height=\"45.9375\" id=\"E4\" rx=\"10\" ry=\"10\" style=\"stroke: #383838; stroke-width: 1.5;\" width=\"42\" x=\"625\" y=\"62\"/><text fill=\"#000000\" font-family=\"sans-serif\" font-size=\"12\" font-style=\"italic\" lengthAdjust=\"spacingAndGlyphs\" textLength=\"40\" x=\"626\" y=\"78.1387\">«part»</text><text fill=\"#000000\" font-family=\"sans-serif\" font-size=\"12\" lengthAdjust=\"spacingAndGlyphs\" textLength=\"8\" x=\"642\" y=\"92.1074\">a</text><line style=\"stroke: #383838; stroke-width: 1.5;\" x1=\"626\" x2=\"666\" y1=\"99.9375\" y2=\"99.9375\"/></a><!--MD5=[270fce915f116d4de14055a7c1d9a0f3]\n",
       "class E5--><a href=\"psysml:a47b2c6e-81dd-4a7f-97e2-f2f751620c17\" target=\"_top\" title=\"psysml:a47b2c6e-81dd-4a7f-97e2-f2f751620c17\" xlink:actuate=\"onRequest\" xlink:href=\"psysml:a47b2c6e-81dd-4a7f-97e2-f2f751620c17\" xlink:show=\"new\" xlink:title=\"psysml:a47b2c6e-81dd-4a7f-97e2-f2f751620c17\" xlink:type=\"simple\"><rect fill=\"#FFFFFF\" height=\"45.9375\" id=\"E5\" rx=\"10\" ry=\"10\" style=\"stroke: #383838; stroke-width: 1.5;\" width=\"42\" x=\"548\" y=\"62\"/><text fill=\"#000000\" font-family=\"sans-serif\" font-size=\"12\" font-style=\"italic\" lengthAdjust=\"spacingAndGlyphs\" textLength=\"40\" x=\"549\" y=\"78.1387\">«part»</text><text fill=\"#000000\" font-family=\"sans-serif\" font-size=\"12\" lengthAdjust=\"spacingAndGlyphs\" textLength=\"24\" x=\"557\" y=\"92.1074\">b: P</text><line style=\"stroke: #383838; stroke-width: 1.5;\" x1=\"549\" x2=\"589\" y1=\"99.9375\" y2=\"99.9375\"/></a><!--MD5=[60a26617385b1d2d0262a64233df1f8d]\n",
       "class E6--><a href=\"psysml:46e4b238-da26-40c7-b1f6-d3a4f2631481\" target=\"_top\" title=\"psysml:46e4b238-da26-40c7-b1f6-d3a4f2631481\" xlink:actuate=\"onRequest\" xlink:href=\"psysml:46e4b238-da26-40c7-b1f6-d3a4f2631481\" xlink:show=\"new\" xlink:title=\"psysml:46e4b238-da26-40c7-b1f6-d3a4f2631481\" xlink:type=\"simple\"><rect fill=\"#FFFFFF\" height=\"45.9375\" id=\"E6\" rx=\"10\" ry=\"10\" style=\"stroke: #383838; stroke-width: 1.5;\" width=\"42\" x=\"471\" y=\"62\"/><text fill=\"#000000\" font-family=\"sans-serif\" font-size=\"12\" font-style=\"italic\" lengthAdjust=\"spacingAndGlyphs\" textLength=\"40\" x=\"472\" y=\"78.1387\">«part»</text><text fill=\"#000000\" font-family=\"sans-serif\" font-size=\"12\" lengthAdjust=\"spacingAndGlyphs\" textLength=\"23\" x=\"480.5\" y=\"92.1074\">c: P</text><line style=\"stroke: #383838; stroke-width: 1.5;\" x1=\"472\" x2=\"512\" y1=\"99.9375\" y2=\"99.9375\"/></a><!--MD5=[2156ba9850f5573cc1fc38a6a4b2f02b]\n",
       "class E7--><a href=\"psysml:862abcb1-d094-4d1f-a90d-b0af915cd2bb\" target=\"_top\" title=\"psysml:862abcb1-d094-4d1f-a90d-b0af915cd2bb\" xlink:actuate=\"onRequest\" xlink:href=\"psysml:862abcb1-d094-4d1f-a90d-b0af915cd2bb\" xlink:show=\"new\" xlink:title=\"psysml:862abcb1-d094-4d1f-a90d-b0af915cd2bb\" xlink:type=\"simple\"><rect fill=\"#FFFFFF\" height=\"45.9375\" id=\"E7\" rx=\"10\" ry=\"10\" style=\"stroke: #383838; stroke-width: 1.5;\" width=\"42\" x=\"394\" y=\"62\"/><text fill=\"#000000\" font-family=\"sans-serif\" font-size=\"12\" font-style=\"italic\" lengthAdjust=\"spacingAndGlyphs\" textLength=\"40\" x=\"395\" y=\"78.1387\">«part»</text><text fill=\"#000000\" font-family=\"sans-serif\" font-size=\"12\" lengthAdjust=\"spacingAndGlyphs\" textLength=\"8\" x=\"411\" y=\"92.1074\">d</text><line style=\"stroke: #383838; stroke-width: 1.5;\" x1=\"395\" x2=\"435\" y1=\"99.9375\" y2=\"99.9375\"/></a><!--MD5=[b9389687b975829384b498ac4b7476b2]\n",
       "class E8--><a href=\"psysml:0f8b0aa8-e59b-4cfe-b590-8672d08a4434\" target=\"_top\" title=\"psysml:0f8b0aa8-e59b-4cfe-b590-8672d08a4434\" xlink:actuate=\"onRequest\" xlink:href=\"psysml:0f8b0aa8-e59b-4cfe-b590-8672d08a4434\" xlink:show=\"new\" xlink:title=\"psysml:0f8b0aa8-e59b-4cfe-b590-8672d08a4434\" xlink:type=\"simple\"><rect fill=\"#FFFFFF\" height=\"45.9375\" id=\"E8\" rx=\"10\" ry=\"10\" style=\"stroke: #383838; stroke-width: 1.5;\" width=\"42\" x=\"317\" y=\"62\"/><text fill=\"#000000\" font-family=\"sans-serif\" font-size=\"12\" font-style=\"italic\" lengthAdjust=\"spacingAndGlyphs\" textLength=\"40\" x=\"318\" y=\"78.1387\">«part»</text><text fill=\"#000000\" font-family=\"sans-serif\" font-size=\"12\" lengthAdjust=\"spacingAndGlyphs\" textLength=\"8\" x=\"334\" y=\"92.1074\">e</text><line style=\"stroke: #383838; stroke-width: 1.5;\" x1=\"318\" x2=\"358\" y1=\"99.9375\" y2=\"99.9375\"/></a><!--MD5=[fd4143e9d270a159db93a4ea2a975926]\n",
       "class E9--><a href=\"psysml:07bb6063-49af-4acb-bb76-a6a51f542bf8\" target=\"_top\" title=\"psysml:07bb6063-49af-4acb-bb76-a6a51f542bf8\" xlink:actuate=\"onRequest\" xlink:href=\"psysml:07bb6063-49af-4acb-bb76-a6a51f542bf8\" xlink:show=\"new\" xlink:title=\"psysml:07bb6063-49af-4acb-bb76-a6a51f542bf8\" xlink:type=\"simple\"><rect fill=\"#FFFFFF\" height=\"45.9375\" id=\"E9\" rx=\"10\" ry=\"10\" style=\"stroke: #383838; stroke-width: 1.5;\" width=\"42\" x=\"240\" y=\"62\"/><text fill=\"#000000\" font-family=\"sans-serif\" font-size=\"12\" font-style=\"italic\" lengthAdjust=\"spacingAndGlyphs\" textLength=\"40\" x=\"241\" y=\"78.1387\">«part»</text><text fill=\"#000000\" font-family=\"sans-serif\" font-size=\"12\" lengthAdjust=\"spacingAndGlyphs\" textLength=\"4\" x=\"259\" y=\"92.1074\">f</text><line style=\"stroke: #383838; stroke-width: 1.5;\" x1=\"241\" x2=\"281\" y1=\"99.9375\" y2=\"99.9375\"/></a><!--MD5=[96f4274e9e20536e775497830990834d]\n",
       "class E10--><a href=\"psysml:87a6ec87-e214-496f-a09f-1f6dfd597ed3\" target=\"_top\" title=\"psysml:87a6ec87-e214-496f-a09f-1f6dfd597ed3\" xlink:actuate=\"onRequest\" xlink:href=\"psysml:87a6ec87-e214-496f-a09f-1f6dfd597ed3\" xlink:show=\"new\" xlink:title=\"psysml:87a6ec87-e214-496f-a09f-1f6dfd597ed3\" xlink:type=\"simple\"><rect fill=\"#FFFFFF\" height=\"45.9375\" id=\"E10\" rx=\"10\" ry=\"10\" style=\"stroke: #383838; stroke-width: 1.5;\" width=\"42\" x=\"163\" y=\"62\"/><text fill=\"#000000\" font-family=\"sans-serif\" font-size=\"12\" font-style=\"italic\" lengthAdjust=\"spacingAndGlyphs\" textLength=\"40\" x=\"164\" y=\"78.1387\">«part»</text><text fill=\"#000000\" font-family=\"sans-serif\" font-size=\"12\" lengthAdjust=\"spacingAndGlyphs\" textLength=\"8\" x=\"180\" y=\"92.1074\">g</text><line style=\"stroke: #383838; stroke-width: 1.5;\" x1=\"164\" x2=\"204\" y1=\"99.9375\" y2=\"99.9375\"/></a><!--MD5=[1dd1bfd58a279cf63c5f349dbc8fc6a1]\n",
       "class E11--><a href=\"psysml:423769db-1814-486c-a3b1-3214b1eae655\" target=\"_top\" title=\"psysml:423769db-1814-486c-a3b1-3214b1eae655\" xlink:actuate=\"onRequest\" xlink:href=\"psysml:423769db-1814-486c-a3b1-3214b1eae655\" xlink:show=\"new\" xlink:title=\"psysml:423769db-1814-486c-a3b1-3214b1eae655\" xlink:type=\"simple\"><rect fill=\"#FFFFFF\" height=\"88.3516\" id=\"E11\" style=\"stroke: #383838; stroke-width: 1.5;\" width=\"95\" x=\"32.5\" y=\"41\"/><text fill=\"#000000\" font-family=\"sans-serif\" font-size=\"12\" font-style=\"italic\" lengthAdjust=\"spacingAndGlyphs\" textLength=\"93\" x=\"33.5\" y=\"57.1387\">«attribute def»</text><text fill=\"#000000\" font-family=\"sans-serif\" font-size=\"12\" lengthAdjust=\"spacingAndGlyphs\" textLength=\"8\" x=\"76\" y=\"71.1074\">A</text><line style=\"stroke: #383838; stroke-width: 1.5;\" x1=\"33.5\" x2=\"126.5\" y1=\"78.9375\" y2=\"78.9375\"/><text fill=\"#000000\" font-family=\"sans-serif\" font-size=\"11\" lengthAdjust=\"spacingAndGlyphs\" textLength=\"51\" x=\"38.5\" y=\"109.9526\">i: Integer</text><text fill=\"#000000\" font-family=\"sans-serif\" font-size=\"11\" lengthAdjust=\"spacingAndGlyphs\" textLength=\"21\" x=\"38.5\" y=\"122.7573\">x: A</text><line style=\"stroke: #383838; stroke-width: 1.0;\" x1=\"33.5\" x2=\"52.5\" y1=\"93.3398\" y2=\"93.3398\"/><text fill=\"#000000\" font-family=\"sans-serif\" font-size=\"11\" lengthAdjust=\"spacingAndGlyphs\" textLength=\"55\" x=\"52.5\" y=\"96.6479\">attributes</text><line style=\"stroke: #383838; stroke-width: 1.0;\" x1=\"107.5\" x2=\"126.5\" y1=\"93.3398\" y2=\"93.3398\"/></a><!--MD5=[15ebcb19ae302d9b601edb458606d402]\n",
       "link E5 to E2--><a href=\"psysml:56ee8f03-05cc-4672-92a5-af5f15d564f5\" target=\"_top\" title=\"psysml:56ee8f03-05cc-4672-92a5-af5f15d564f5\" xlink:actuate=\"onRequest\" xlink:href=\"psysml:56ee8f03-05cc-4672-92a5-af5f15d564f5\" xlink:show=\"new\" xlink:title=\"psysml:56ee8f03-05cc-4672-92a5-af5f15d564f5\" xlink:type=\"simple\"><path d=\"M562.12,108.06 C556.83,125 549.38,148.89 542.98,169.39 \" fill=\"none\" id=\"E5-&gt;E2\" style=\"stroke: #383838; stroke-width: 1.0;\"/><polygon fill=\"#FFFFFF\" points=\"536.95,188.74,535.929,168.5173,549.2931,172.6886,536.95,188.74\" style=\"stroke: #383838; stroke-width: 1.0;\"/><ellipse cx=\"539.5364\" cy=\"163.6721\" fill=\"#383838\" rx=\"2\" ry=\"2\" style=\"stroke: #383838; stroke-width: 1.0;\"/><ellipse cx=\"549.0823\" cy=\"166.6516\" fill=\"#383838\" rx=\"2\" ry=\"2\" style=\"stroke: #383838; stroke-width: 1.0;\"/></a><!--MD5=[2351f337d6de0f557b50152ba70847b5]\n",
       "link E6 to E2--><a href=\"psysml:34caeea3-9e32-4456-be5b-df49f4f1b3a4\" target=\"_top\" title=\"psysml:34caeea3-9e32-4456-be5b-df49f4f1b3a4\" xlink:actuate=\"onRequest\" xlink:href=\"psysml:34caeea3-9e32-4456-be5b-df49f4f1b3a4\" xlink:show=\"new\" xlink:title=\"psysml:34caeea3-9e32-4456-be5b-df49f4f1b3a4\" xlink:type=\"simple\"><path d=\"M498.71,108.06 C503.86,125 511.12,148.89 517.35,169.39 \" fill=\"none\" id=\"E6-&gt;E2\" style=\"stroke: #383838; stroke-width: 1.0;\"/><polygon fill=\"#FFFFFF\" points=\"523.23,188.74,511.007,172.597,524.4019,168.5255,523.23,188.74\" style=\"stroke: #383838; stroke-width: 1.0;\"/><ellipse cx=\"511.2628\" cy=\"166.5617\" fill=\"#383838\" rx=\"2\" ry=\"2\" style=\"stroke: #383838; stroke-width: 1.0;\"/><ellipse cx=\"520.8306\" cy=\"163.6535\" fill=\"#383838\" rx=\"2\" ry=\"2\" style=\"stroke: #383838; stroke-width: 1.0;\"/></a><!--MD5=[1605524240e273df0c243b46d7971531]\n",
       "@startuml\r\n",
       "skinparam monochrome true\r\n",
       "skinparam classbackgroundcolor white\r\n",
       "skinparam shadowing false\r\n",
       "skinparam wrapWidth 300\r\n",
       "hide circle\r\n",
       "\r\n",
       "package \"MultiplicityTest\" as E1  [[psysml:917c8e98-308c-4a57-bedc-72bb13927275 ]]  {\r\n",
       "comp def \"P\" as E2  <<(T,blue) part def>> [[psysml:1b8e2ab6-001b-4483-8406-5463ddd95a77 ]] {\r\n",
       "}\r\n",
       "comp usage \"n: Integer\" as E3  <<(T,blue) attribute>> [[psysml:d0e8f829-c575-44a2-9ede-b108238de40c ]] {\r\n",
       "}\r\n",
       "comp usage \"a\" as E4  <<(T,blue) part>> [[psysml:2de2cbdc-62e6-485a-a7d2-bee7f587f60d ]] {\r\n",
       "}\r\n",
       "comp usage \"b: P\" as E5  <<(T,blue) part>> [[psysml:a47b2c6e-81dd-4a7f-97e2-f2f751620c17 ]] {\r\n",
       "}\r\n",
       "comp usage \"c: P\" as E6  <<(T,blue) part>> [[psysml:46e4b238-da26-40c7-b1f6-d3a4f2631481 ]] {\r\n",
       "}\r\n",
       "comp usage \"d\" as E7  <<(T,blue) part>> [[psysml:862abcb1-d094-4d1f-a90d-b0af915cd2bb ]] {\r\n",
       "}\r\n",
       "comp usage \"e\" as E8  <<(T,blue) part>> [[psysml:0f8b0aa8-e59b-4cfe-b590-8672d08a4434 ]] {\r\n",
       "}\r\n",
       "comp usage \"f\" as E9  <<(T,blue) part>> [[psysml:07bb6063-49af-4acb-bb76-a6a51f542bf8 ]] {\r\n",
       "}\r\n",
       "comp usage \"g\" as E10  <<(T,blue) part>> [[psysml:87a6ec87-e214-496f-a09f-1f6dfd597ed3 ]] {\r\n",
       "}\r\n",
       "comp def \"A\" as E11  <<(T,blue) attribute def>> [[psysml:423769db-1814-486c-a3b1-3214b1eae655 ]] {\r\n",
       "- - attributes - -\r\n",
       "i: Integer\r\n",
       "x: A\r\n",
       "}\r\n",
       "}\r\n",
       "E5 - -:|> E2 [[psysml:56ee8f03-05cc-4672-92a5-af5f15d564f5 ]] \r\n",
       "E6 - -:|> E2 [[psysml:34caeea3-9e32-4456-be5b-df49f4f1b3a4 ]] \r\n",
       "@enduml\r\n",
       "\n",
       "PlantUML version 1.2020.13(Sat Jun 13 12:26:38 UTC 2020)\n",
       "(EPL source distribution)\n",
       "Java Runtime: OpenJDK Runtime Environment\n",
       "JVM: OpenJDK 64-Bit Server VM\n",
       "Default Encoding: UTF-8\n",
       "Language: en\n",
       "Country: null\n",
       "--></g></svg>"
      ]
     },
     "execution_count": 43,
     "metadata": {},
     "output_type": "execute_result"
    }
   ],
   "source": [
    "%viz --style=\"DEFAULT\" --view=\"MIXED\" \"MultiplicityTest\""
   ]
  },
  {
   "cell_type": "code",
   "execution_count": 44,
   "id": "d2c14bdb",
   "metadata": {
    "execution": {
     "iopub.execute_input": "2021-10-03T08:30:21.965985Z",
     "iopub.status.busy": "2021-10-03T08:30:21.965593Z",
     "iopub.status.idle": "2021-10-03T08:30:22.017236Z",
     "shell.execute_reply": "2021-10-03T08:30:22.016893Z"
    }
   },
   "outputs": [
    {
     "data": {
      "image/svg+xml": [
       "<?xml version=\"1.0\" encoding=\"UTF-8\" standalone=\"no\"?><svg xmlns=\"http://www.w3.org/2000/svg\" xmlns:xlink=\"http://www.w3.org/1999/xlink\" contentScriptType=\"application/ecmascript\" contentStyleType=\"text/css\" height=\"263px\" preserveAspectRatio=\"none\" style=\"width:812px;height:263px;\" version=\"1.1\" viewBox=\"0 0 812 263\" width=\"812px\" zoomAndPan=\"magnify\"><defs/><g><!--MD5=[fbc87193dbaf4d95561dea2c320d4a47]\n",
       "cluster E1--><a href=\"psysml:917c8e98-308c-4a57-bedc-72bb13927275\" target=\"_top\" title=\"psysml:917c8e98-308c-4a57-bedc-72bb13927275\" xlink:actuate=\"onRequest\" xlink:href=\"psysml:917c8e98-308c-4a57-bedc-72bb13927275\" xlink:show=\"new\" xlink:title=\"psysml:917c8e98-308c-4a57-bedc-72bb13927275\" xlink:type=\"simple\"><polygon fill=\"#FFFFFF\" points=\"16,6,123,6,130,28.2969,790,28.2969,790,251,16,251,16,6\" style=\"stroke: #000000; stroke-width: 1.5;\"/><line style=\"stroke: #000000; stroke-width: 1.5;\" x1=\"16\" x2=\"130\" y1=\"28.2969\" y2=\"28.2969\"/><text fill=\"#000000\" font-family=\"sans-serif\" font-size=\"14\" font-weight=\"bold\" lengthAdjust=\"spacingAndGlyphs\" textLength=\"101\" x=\"20\" y=\"20.9951\">MultiplicityTest</text></a><!--MD5=[b4997ac47864f28c2f74865a473b2911]\n",
       "class E2--><a href=\"psysml:1b8e2ab6-001b-4483-8406-5463ddd95a77\" target=\"_top\" title=\"psysml:1b8e2ab6-001b-4483-8406-5463ddd95a77\" xlink:actuate=\"onRequest\" xlink:href=\"psysml:1b8e2ab6-001b-4483-8406-5463ddd95a77\" xlink:show=\"new\" xlink:title=\"psysml:1b8e2ab6-001b-4483-8406-5463ddd95a77\" xlink:type=\"simple\"><rect fill=\"#FFFFFF\" height=\"45.9375\" id=\"E2\" style=\"stroke: #383838; stroke-width: 1.5;\" width=\"66\" x=\"497\" y=\"189\"/><text fill=\"#000000\" font-family=\"sans-serif\" font-size=\"12\" font-style=\"italic\" lengthAdjust=\"spacingAndGlyphs\" textLength=\"64\" x=\"498\" y=\"205.1387\">«part def»</text><text fill=\"#000000\" font-family=\"sans-serif\" font-size=\"12\" lengthAdjust=\"spacingAndGlyphs\" textLength=\"8\" x=\"526\" y=\"219.1074\">P</text><line style=\"stroke: #383838; stroke-width: 1.5;\" x1=\"498\" x2=\"562\" y1=\"226.9375\" y2=\"226.9375\"/></a><!--MD5=[09b614a08d8cba4a07c9adeb5e0fee81]\n",
       "class E3--><a href=\"psysml:d0e8f829-c575-44a2-9ede-b108238de40c\" target=\"_top\" title=\"psysml:d0e8f829-c575-44a2-9ede-b108238de40c\" xlink:actuate=\"onRequest\" xlink:href=\"psysml:d0e8f829-c575-44a2-9ede-b108238de40c\" xlink:show=\"new\" xlink:title=\"psysml:d0e8f829-c575-44a2-9ede-b108238de40c\" xlink:type=\"simple\"><rect fill=\"#FFFFFF\" height=\"45.9375\" id=\"E3\" rx=\"10\" ry=\"10\" style=\"stroke: #383838; stroke-width: 1.5;\" width=\"71\" x=\"702.5\" y=\"62\"/><text fill=\"#000000\" font-family=\"sans-serif\" font-size=\"12\" font-style=\"italic\" lengthAdjust=\"spacingAndGlyphs\" textLength=\"69\" x=\"703.5\" y=\"78.1387\">«attribute»</text><text fill=\"#000000\" font-family=\"sans-serif\" font-size=\"12\" lengthAdjust=\"spacingAndGlyphs\" textLength=\"61\" x=\"707.5\" y=\"92.1074\">n: Integer</text><line style=\"stroke: #383838; stroke-width: 1.5;\" x1=\"703.5\" x2=\"772.5\" y1=\"99.9375\" y2=\"99.9375\"/></a><!--MD5=[ebbe1d658d1005bcc118a6aa81145e00]\n",
       "class E4--><a href=\"psysml:2de2cbdc-62e6-485a-a7d2-bee7f587f60d\" target=\"_top\" title=\"psysml:2de2cbdc-62e6-485a-a7d2-bee7f587f60d\" xlink:actuate=\"onRequest\" xlink:href=\"psysml:2de2cbdc-62e6-485a-a7d2-bee7f587f60d\" xlink:show=\"new\" xlink:title=\"psysml:2de2cbdc-62e6-485a-a7d2-bee7f587f60d\" xlink:type=\"simple\"><rect fill=\"#FFFFFF\" height=\"45.9375\" id=\"E4\" rx=\"10\" ry=\"10\" style=\"stroke: #383838; stroke-width: 1.5;\" width=\"42\" x=\"625\" y=\"62\"/><text fill=\"#000000\" font-family=\"sans-serif\" font-size=\"12\" font-style=\"italic\" lengthAdjust=\"spacingAndGlyphs\" textLength=\"40\" x=\"626\" y=\"78.1387\">«part»</text><text fill=\"#000000\" font-family=\"sans-serif\" font-size=\"12\" lengthAdjust=\"spacingAndGlyphs\" textLength=\"8\" x=\"642\" y=\"92.1074\">a</text><line style=\"stroke: #383838; stroke-width: 1.5;\" x1=\"626\" x2=\"666\" y1=\"99.9375\" y2=\"99.9375\"/></a><!--MD5=[270fce915f116d4de14055a7c1d9a0f3]\n",
       "class E5--><a href=\"psysml:a47b2c6e-81dd-4a7f-97e2-f2f751620c17\" target=\"_top\" title=\"psysml:a47b2c6e-81dd-4a7f-97e2-f2f751620c17\" xlink:actuate=\"onRequest\" xlink:href=\"psysml:a47b2c6e-81dd-4a7f-97e2-f2f751620c17\" xlink:show=\"new\" xlink:title=\"psysml:a47b2c6e-81dd-4a7f-97e2-f2f751620c17\" xlink:type=\"simple\"><rect fill=\"#FFFFFF\" height=\"45.9375\" id=\"E5\" rx=\"10\" ry=\"10\" style=\"stroke: #383838; stroke-width: 1.5;\" width=\"42\" x=\"548\" y=\"62\"/><text fill=\"#000000\" font-family=\"sans-serif\" font-size=\"12\" font-style=\"italic\" lengthAdjust=\"spacingAndGlyphs\" textLength=\"40\" x=\"549\" y=\"78.1387\">«part»</text><text fill=\"#000000\" font-family=\"sans-serif\" font-size=\"12\" lengthAdjust=\"spacingAndGlyphs\" textLength=\"24\" x=\"557\" y=\"92.1074\">b: P</text><line style=\"stroke: #383838; stroke-width: 1.5;\" x1=\"549\" x2=\"589\" y1=\"99.9375\" y2=\"99.9375\"/></a><!--MD5=[60a26617385b1d2d0262a64233df1f8d]\n",
       "class E6--><a href=\"psysml:46e4b238-da26-40c7-b1f6-d3a4f2631481\" target=\"_top\" title=\"psysml:46e4b238-da26-40c7-b1f6-d3a4f2631481\" xlink:actuate=\"onRequest\" xlink:href=\"psysml:46e4b238-da26-40c7-b1f6-d3a4f2631481\" xlink:show=\"new\" xlink:title=\"psysml:46e4b238-da26-40c7-b1f6-d3a4f2631481\" xlink:type=\"simple\"><rect fill=\"#FFFFFF\" height=\"45.9375\" id=\"E6\" rx=\"10\" ry=\"10\" style=\"stroke: #383838; stroke-width: 1.5;\" width=\"42\" x=\"471\" y=\"62\"/><text fill=\"#000000\" font-family=\"sans-serif\" font-size=\"12\" font-style=\"italic\" lengthAdjust=\"spacingAndGlyphs\" textLength=\"40\" x=\"472\" y=\"78.1387\">«part»</text><text fill=\"#000000\" font-family=\"sans-serif\" font-size=\"12\" lengthAdjust=\"spacingAndGlyphs\" textLength=\"23\" x=\"480.5\" y=\"92.1074\">c: P</text><line style=\"stroke: #383838; stroke-width: 1.5;\" x1=\"472\" x2=\"512\" y1=\"99.9375\" y2=\"99.9375\"/></a><!--MD5=[2156ba9850f5573cc1fc38a6a4b2f02b]\n",
       "class E7--><a href=\"psysml:862abcb1-d094-4d1f-a90d-b0af915cd2bb\" target=\"_top\" title=\"psysml:862abcb1-d094-4d1f-a90d-b0af915cd2bb\" xlink:actuate=\"onRequest\" xlink:href=\"psysml:862abcb1-d094-4d1f-a90d-b0af915cd2bb\" xlink:show=\"new\" xlink:title=\"psysml:862abcb1-d094-4d1f-a90d-b0af915cd2bb\" xlink:type=\"simple\"><rect fill=\"#FFFFFF\" height=\"45.9375\" id=\"E7\" rx=\"10\" ry=\"10\" style=\"stroke: #383838; stroke-width: 1.5;\" width=\"42\" x=\"394\" y=\"62\"/><text fill=\"#000000\" font-family=\"sans-serif\" font-size=\"12\" font-style=\"italic\" lengthAdjust=\"spacingAndGlyphs\" textLength=\"40\" x=\"395\" y=\"78.1387\">«part»</text><text fill=\"#000000\" font-family=\"sans-serif\" font-size=\"12\" lengthAdjust=\"spacingAndGlyphs\" textLength=\"8\" x=\"411\" y=\"92.1074\">d</text><line style=\"stroke: #383838; stroke-width: 1.5;\" x1=\"395\" x2=\"435\" y1=\"99.9375\" y2=\"99.9375\"/></a><!--MD5=[b9389687b975829384b498ac4b7476b2]\n",
       "class E8--><a href=\"psysml:0f8b0aa8-e59b-4cfe-b590-8672d08a4434\" target=\"_top\" title=\"psysml:0f8b0aa8-e59b-4cfe-b590-8672d08a4434\" xlink:actuate=\"onRequest\" xlink:href=\"psysml:0f8b0aa8-e59b-4cfe-b590-8672d08a4434\" xlink:show=\"new\" xlink:title=\"psysml:0f8b0aa8-e59b-4cfe-b590-8672d08a4434\" xlink:type=\"simple\"><rect fill=\"#FFFFFF\" height=\"45.9375\" id=\"E8\" rx=\"10\" ry=\"10\" style=\"stroke: #383838; stroke-width: 1.5;\" width=\"42\" x=\"317\" y=\"62\"/><text fill=\"#000000\" font-family=\"sans-serif\" font-size=\"12\" font-style=\"italic\" lengthAdjust=\"spacingAndGlyphs\" textLength=\"40\" x=\"318\" y=\"78.1387\">«part»</text><text fill=\"#000000\" font-family=\"sans-serif\" font-size=\"12\" lengthAdjust=\"spacingAndGlyphs\" textLength=\"8\" x=\"334\" y=\"92.1074\">e</text><line style=\"stroke: #383838; stroke-width: 1.5;\" x1=\"318\" x2=\"358\" y1=\"99.9375\" y2=\"99.9375\"/></a><!--MD5=[fd4143e9d270a159db93a4ea2a975926]\n",
       "class E9--><a href=\"psysml:07bb6063-49af-4acb-bb76-a6a51f542bf8\" target=\"_top\" title=\"psysml:07bb6063-49af-4acb-bb76-a6a51f542bf8\" xlink:actuate=\"onRequest\" xlink:href=\"psysml:07bb6063-49af-4acb-bb76-a6a51f542bf8\" xlink:show=\"new\" xlink:title=\"psysml:07bb6063-49af-4acb-bb76-a6a51f542bf8\" xlink:type=\"simple\"><rect fill=\"#FFFFFF\" height=\"45.9375\" id=\"E9\" rx=\"10\" ry=\"10\" style=\"stroke: #383838; stroke-width: 1.5;\" width=\"42\" x=\"240\" y=\"62\"/><text fill=\"#000000\" font-family=\"sans-serif\" font-size=\"12\" font-style=\"italic\" lengthAdjust=\"spacingAndGlyphs\" textLength=\"40\" x=\"241\" y=\"78.1387\">«part»</text><text fill=\"#000000\" font-family=\"sans-serif\" font-size=\"12\" lengthAdjust=\"spacingAndGlyphs\" textLength=\"4\" x=\"259\" y=\"92.1074\">f</text><line style=\"stroke: #383838; stroke-width: 1.5;\" x1=\"241\" x2=\"281\" y1=\"99.9375\" y2=\"99.9375\"/></a><!--MD5=[96f4274e9e20536e775497830990834d]\n",
       "class E10--><a href=\"psysml:87a6ec87-e214-496f-a09f-1f6dfd597ed3\" target=\"_top\" title=\"psysml:87a6ec87-e214-496f-a09f-1f6dfd597ed3\" xlink:actuate=\"onRequest\" xlink:href=\"psysml:87a6ec87-e214-496f-a09f-1f6dfd597ed3\" xlink:show=\"new\" xlink:title=\"psysml:87a6ec87-e214-496f-a09f-1f6dfd597ed3\" xlink:type=\"simple\"><rect fill=\"#FFFFFF\" height=\"45.9375\" id=\"E10\" rx=\"10\" ry=\"10\" style=\"stroke: #383838; stroke-width: 1.5;\" width=\"42\" x=\"163\" y=\"62\"/><text fill=\"#000000\" font-family=\"sans-serif\" font-size=\"12\" font-style=\"italic\" lengthAdjust=\"spacingAndGlyphs\" textLength=\"40\" x=\"164\" y=\"78.1387\">«part»</text><text fill=\"#000000\" font-family=\"sans-serif\" font-size=\"12\" lengthAdjust=\"spacingAndGlyphs\" textLength=\"8\" x=\"180\" y=\"92.1074\">g</text><line style=\"stroke: #383838; stroke-width: 1.5;\" x1=\"164\" x2=\"204\" y1=\"99.9375\" y2=\"99.9375\"/></a><!--MD5=[1dd1bfd58a279cf63c5f349dbc8fc6a1]\n",
       "class E11--><a href=\"psysml:423769db-1814-486c-a3b1-3214b1eae655\" target=\"_top\" title=\"psysml:423769db-1814-486c-a3b1-3214b1eae655\" xlink:actuate=\"onRequest\" xlink:href=\"psysml:423769db-1814-486c-a3b1-3214b1eae655\" xlink:show=\"new\" xlink:title=\"psysml:423769db-1814-486c-a3b1-3214b1eae655\" xlink:type=\"simple\"><rect fill=\"#FFFFFF\" height=\"88.3516\" id=\"E11\" style=\"stroke: #383838; stroke-width: 1.5;\" width=\"95\" x=\"32.5\" y=\"41\"/><text fill=\"#000000\" font-family=\"sans-serif\" font-size=\"12\" font-style=\"italic\" lengthAdjust=\"spacingAndGlyphs\" textLength=\"93\" x=\"33.5\" y=\"57.1387\">«attribute def»</text><text fill=\"#000000\" font-family=\"sans-serif\" font-size=\"12\" lengthAdjust=\"spacingAndGlyphs\" textLength=\"8\" x=\"76\" y=\"71.1074\">A</text><line style=\"stroke: #383838; stroke-width: 1.5;\" x1=\"33.5\" x2=\"126.5\" y1=\"78.9375\" y2=\"78.9375\"/><text fill=\"#000000\" font-family=\"sans-serif\" font-size=\"11\" lengthAdjust=\"spacingAndGlyphs\" textLength=\"51\" x=\"38.5\" y=\"109.9526\">i: Integer</text><text fill=\"#000000\" font-family=\"sans-serif\" font-size=\"11\" lengthAdjust=\"spacingAndGlyphs\" textLength=\"21\" x=\"38.5\" y=\"122.7573\">x: A</text><line style=\"stroke: #383838; stroke-width: 1.0;\" x1=\"33.5\" x2=\"52.5\" y1=\"93.3398\" y2=\"93.3398\"/><text fill=\"#000000\" font-family=\"sans-serif\" font-size=\"11\" lengthAdjust=\"spacingAndGlyphs\" textLength=\"55\" x=\"52.5\" y=\"96.6479\">attributes</text><line style=\"stroke: #383838; stroke-width: 1.0;\" x1=\"107.5\" x2=\"126.5\" y1=\"93.3398\" y2=\"93.3398\"/></a><!--MD5=[15ebcb19ae302d9b601edb458606d402]\n",
       "link E5 to E2--><a href=\"psysml:56ee8f03-05cc-4672-92a5-af5f15d564f5\" target=\"_top\" title=\"psysml:56ee8f03-05cc-4672-92a5-af5f15d564f5\" xlink:actuate=\"onRequest\" xlink:href=\"psysml:56ee8f03-05cc-4672-92a5-af5f15d564f5\" xlink:show=\"new\" xlink:title=\"psysml:56ee8f03-05cc-4672-92a5-af5f15d564f5\" xlink:type=\"simple\"><path d=\"M562.12,108.06 C556.83,125 549.38,148.89 542.98,169.39 \" fill=\"none\" id=\"E5-&gt;E2\" style=\"stroke: #383838; stroke-width: 1.0;\"/><polygon fill=\"#FFFFFF\" points=\"536.95,188.74,535.929,168.5173,549.2931,172.6886,536.95,188.74\" style=\"stroke: #383838; stroke-width: 1.0;\"/><ellipse cx=\"539.5364\" cy=\"163.6721\" fill=\"#383838\" rx=\"2\" ry=\"2\" style=\"stroke: #383838; stroke-width: 1.0;\"/><ellipse cx=\"549.0823\" cy=\"166.6516\" fill=\"#383838\" rx=\"2\" ry=\"2\" style=\"stroke: #383838; stroke-width: 1.0;\"/></a><!--MD5=[2351f337d6de0f557b50152ba70847b5]\n",
       "link E6 to E2--><a href=\"psysml:34caeea3-9e32-4456-be5b-df49f4f1b3a4\" target=\"_top\" title=\"psysml:34caeea3-9e32-4456-be5b-df49f4f1b3a4\" xlink:actuate=\"onRequest\" xlink:href=\"psysml:34caeea3-9e32-4456-be5b-df49f4f1b3a4\" xlink:show=\"new\" xlink:title=\"psysml:34caeea3-9e32-4456-be5b-df49f4f1b3a4\" xlink:type=\"simple\"><path d=\"M498.71,108.06 C503.86,125 511.12,148.89 517.35,169.39 \" fill=\"none\" id=\"E6-&gt;E2\" style=\"stroke: #383838; stroke-width: 1.0;\"/><polygon fill=\"#FFFFFF\" points=\"523.23,188.74,511.007,172.597,524.4019,168.5255,523.23,188.74\" style=\"stroke: #383838; stroke-width: 1.0;\"/><ellipse cx=\"511.2628\" cy=\"166.5617\" fill=\"#383838\" rx=\"2\" ry=\"2\" style=\"stroke: #383838; stroke-width: 1.0;\"/><ellipse cx=\"520.8306\" cy=\"163.6535\" fill=\"#383838\" rx=\"2\" ry=\"2\" style=\"stroke: #383838; stroke-width: 1.0;\"/></a><!--MD5=[4ce8658428e42aef02634f4a3e8520da]\n",
       "@startuml\r\n",
       "top to bottom direction\r\n",
       "skinparam monochrome true\r\n",
       "skinparam classbackgroundcolor white\r\n",
       "skinparam shadowing false\r\n",
       "skinparam wrapWidth 300\r\n",
       "hide circle\r\n",
       "\r\n",
       "package \"MultiplicityTest\" as E1  [[psysml:917c8e98-308c-4a57-bedc-72bb13927275 ]]  {\r\n",
       "comp def \"P\" as E2  <<(T,blue) part def>> [[psysml:1b8e2ab6-001b-4483-8406-5463ddd95a77 ]] {\r\n",
       "}\r\n",
       "comp usage \"n: Integer\" as E3  <<(T,blue) attribute>> [[psysml:d0e8f829-c575-44a2-9ede-b108238de40c ]] {\r\n",
       "}\r\n",
       "comp usage \"a\" as E4  <<(T,blue) part>> [[psysml:2de2cbdc-62e6-485a-a7d2-bee7f587f60d ]] {\r\n",
       "}\r\n",
       "comp usage \"b: P\" as E5  <<(T,blue) part>> [[psysml:a47b2c6e-81dd-4a7f-97e2-f2f751620c17 ]] {\r\n",
       "}\r\n",
       "comp usage \"c: P\" as E6  <<(T,blue) part>> [[psysml:46e4b238-da26-40c7-b1f6-d3a4f2631481 ]] {\r\n",
       "}\r\n",
       "comp usage \"d\" as E7  <<(T,blue) part>> [[psysml:862abcb1-d094-4d1f-a90d-b0af915cd2bb ]] {\r\n",
       "}\r\n",
       "comp usage \"e\" as E8  <<(T,blue) part>> [[psysml:0f8b0aa8-e59b-4cfe-b590-8672d08a4434 ]] {\r\n",
       "}\r\n",
       "comp usage \"f\" as E9  <<(T,blue) part>> [[psysml:07bb6063-49af-4acb-bb76-a6a51f542bf8 ]] {\r\n",
       "}\r\n",
       "comp usage \"g\" as E10  <<(T,blue) part>> [[psysml:87a6ec87-e214-496f-a09f-1f6dfd597ed3 ]] {\r\n",
       "}\r\n",
       "comp def \"A\" as E11  <<(T,blue) attribute def>> [[psysml:423769db-1814-486c-a3b1-3214b1eae655 ]] {\r\n",
       "- - attributes - -\r\n",
       "i: Integer\r\n",
       "x: A\r\n",
       "}\r\n",
       "}\r\n",
       "E5 - -:|> E2 [[psysml:56ee8f03-05cc-4672-92a5-af5f15d564f5 ]] \r\n",
       "E6 - -:|> E2 [[psysml:34caeea3-9e32-4456-be5b-df49f4f1b3a4 ]] \r\n",
       "@enduml\r\n",
       "\n",
       "PlantUML version 1.2020.13(Sat Jun 13 12:26:38 UTC 2020)\n",
       "(EPL source distribution)\n",
       "Java Runtime: OpenJDK Runtime Environment\n",
       "JVM: OpenJDK 64-Bit Server VM\n",
       "Default Encoding: UTF-8\n",
       "Language: en\n",
       "Country: null\n",
       "--></g></svg>"
      ]
     },
     "execution_count": 44,
     "metadata": {},
     "output_type": "execute_result"
    }
   ],
   "source": [
    "%viz --style=\"TB\" --view=\"Default\" \"MultiplicityTest\""
   ]
  },
  {
   "cell_type": "code",
   "execution_count": 45,
   "id": "fdd3edbb",
   "metadata": {
    "execution": {
     "iopub.execute_input": "2021-10-03T08:30:22.066481Z",
     "iopub.status.busy": "2021-10-03T08:30:22.066091Z",
     "iopub.status.idle": "2021-10-03T08:30:22.118053Z",
     "shell.execute_reply": "2021-10-03T08:30:22.117711Z"
    }
   },
   "outputs": [
    {
     "data": {
      "image/svg+xml": [
       "<?xml version=\"1.0\" encoding=\"UTF-8\" standalone=\"no\"?><svg xmlns=\"http://www.w3.org/2000/svg\" xmlns:xlink=\"http://www.w3.org/1999/xlink\" contentScriptType=\"application/ecmascript\" contentStyleType=\"text/css\" height=\"263px\" preserveAspectRatio=\"none\" style=\"width:812px;height:263px;\" version=\"1.1\" viewBox=\"0 0 812 263\" width=\"812px\" zoomAndPan=\"magnify\"><defs/><g><!--MD5=[fbc87193dbaf4d95561dea2c320d4a47]\n",
       "cluster E1--><a href=\"psysml:917c8e98-308c-4a57-bedc-72bb13927275\" target=\"_top\" title=\"psysml:917c8e98-308c-4a57-bedc-72bb13927275\" xlink:actuate=\"onRequest\" xlink:href=\"psysml:917c8e98-308c-4a57-bedc-72bb13927275\" xlink:show=\"new\" xlink:title=\"psysml:917c8e98-308c-4a57-bedc-72bb13927275\" xlink:type=\"simple\"><polygon fill=\"#FFFFFF\" points=\"16,6,123,6,130,28.2969,790,28.2969,790,251,16,251,16,6\" style=\"stroke: #000000; stroke-width: 1.5;\"/><line style=\"stroke: #000000; stroke-width: 1.5;\" x1=\"16\" x2=\"130\" y1=\"28.2969\" y2=\"28.2969\"/><text fill=\"#000000\" font-family=\"sans-serif\" font-size=\"14\" font-weight=\"bold\" lengthAdjust=\"spacingAndGlyphs\" textLength=\"101\" x=\"20\" y=\"20.9951\">MultiplicityTest</text></a><!--MD5=[b4997ac47864f28c2f74865a473b2911]\n",
       "class E2--><a href=\"psysml:1b8e2ab6-001b-4483-8406-5463ddd95a77\" target=\"_top\" title=\"psysml:1b8e2ab6-001b-4483-8406-5463ddd95a77\" xlink:actuate=\"onRequest\" xlink:href=\"psysml:1b8e2ab6-001b-4483-8406-5463ddd95a77\" xlink:show=\"new\" xlink:title=\"psysml:1b8e2ab6-001b-4483-8406-5463ddd95a77\" xlink:type=\"simple\"><rect fill=\"#FFFFFF\" height=\"45.9375\" id=\"E2\" style=\"stroke: #383838; stroke-width: 1.5;\" width=\"66\" x=\"497\" y=\"189\"/><text fill=\"#000000\" font-family=\"sans-serif\" font-size=\"12\" font-style=\"italic\" lengthAdjust=\"spacingAndGlyphs\" textLength=\"64\" x=\"498\" y=\"205.1387\">«part def»</text><text fill=\"#000000\" font-family=\"sans-serif\" font-size=\"12\" lengthAdjust=\"spacingAndGlyphs\" textLength=\"8\" x=\"526\" y=\"219.1074\">P</text><line style=\"stroke: #383838; stroke-width: 1.5;\" x1=\"498\" x2=\"562\" y1=\"226.9375\" y2=\"226.9375\"/></a><!--MD5=[09b614a08d8cba4a07c9adeb5e0fee81]\n",
       "class E3--><a href=\"psysml:d0e8f829-c575-44a2-9ede-b108238de40c\" target=\"_top\" title=\"psysml:d0e8f829-c575-44a2-9ede-b108238de40c\" xlink:actuate=\"onRequest\" xlink:href=\"psysml:d0e8f829-c575-44a2-9ede-b108238de40c\" xlink:show=\"new\" xlink:title=\"psysml:d0e8f829-c575-44a2-9ede-b108238de40c\" xlink:type=\"simple\"><rect fill=\"#FFFFFF\" height=\"45.9375\" id=\"E3\" rx=\"10\" ry=\"10\" style=\"stroke: #383838; stroke-width: 1.5;\" width=\"71\" x=\"702.5\" y=\"62\"/><text fill=\"#000000\" font-family=\"sans-serif\" font-size=\"12\" font-style=\"italic\" lengthAdjust=\"spacingAndGlyphs\" textLength=\"69\" x=\"703.5\" y=\"78.1387\">«attribute»</text><text fill=\"#000000\" font-family=\"sans-serif\" font-size=\"12\" lengthAdjust=\"spacingAndGlyphs\" textLength=\"61\" x=\"707.5\" y=\"92.1074\">n: Integer</text><line style=\"stroke: #383838; stroke-width: 1.5;\" x1=\"703.5\" x2=\"772.5\" y1=\"99.9375\" y2=\"99.9375\"/></a><!--MD5=[ebbe1d658d1005bcc118a6aa81145e00]\n",
       "class E4--><a href=\"psysml:2de2cbdc-62e6-485a-a7d2-bee7f587f60d\" target=\"_top\" title=\"psysml:2de2cbdc-62e6-485a-a7d2-bee7f587f60d\" xlink:actuate=\"onRequest\" xlink:href=\"psysml:2de2cbdc-62e6-485a-a7d2-bee7f587f60d\" xlink:show=\"new\" xlink:title=\"psysml:2de2cbdc-62e6-485a-a7d2-bee7f587f60d\" xlink:type=\"simple\"><rect fill=\"#FFFFFF\" height=\"45.9375\" id=\"E4\" rx=\"10\" ry=\"10\" style=\"stroke: #383838; stroke-width: 1.5;\" width=\"42\" x=\"625\" y=\"62\"/><text fill=\"#000000\" font-family=\"sans-serif\" font-size=\"12\" font-style=\"italic\" lengthAdjust=\"spacingAndGlyphs\" textLength=\"40\" x=\"626\" y=\"78.1387\">«part»</text><text fill=\"#000000\" font-family=\"sans-serif\" font-size=\"12\" lengthAdjust=\"spacingAndGlyphs\" textLength=\"8\" x=\"642\" y=\"92.1074\">a</text><line style=\"stroke: #383838; stroke-width: 1.5;\" x1=\"626\" x2=\"666\" y1=\"99.9375\" y2=\"99.9375\"/></a><!--MD5=[270fce915f116d4de14055a7c1d9a0f3]\n",
       "class E5--><a href=\"psysml:a47b2c6e-81dd-4a7f-97e2-f2f751620c17\" target=\"_top\" title=\"psysml:a47b2c6e-81dd-4a7f-97e2-f2f751620c17\" xlink:actuate=\"onRequest\" xlink:href=\"psysml:a47b2c6e-81dd-4a7f-97e2-f2f751620c17\" xlink:show=\"new\" xlink:title=\"psysml:a47b2c6e-81dd-4a7f-97e2-f2f751620c17\" xlink:type=\"simple\"><rect fill=\"#FFFFFF\" height=\"45.9375\" id=\"E5\" rx=\"10\" ry=\"10\" style=\"stroke: #383838; stroke-width: 1.5;\" width=\"42\" x=\"548\" y=\"62\"/><text fill=\"#000000\" font-family=\"sans-serif\" font-size=\"12\" font-style=\"italic\" lengthAdjust=\"spacingAndGlyphs\" textLength=\"40\" x=\"549\" y=\"78.1387\">«part»</text><text fill=\"#000000\" font-family=\"sans-serif\" font-size=\"12\" lengthAdjust=\"spacingAndGlyphs\" textLength=\"24\" x=\"557\" y=\"92.1074\">b: P</text><line style=\"stroke: #383838; stroke-width: 1.5;\" x1=\"549\" x2=\"589\" y1=\"99.9375\" y2=\"99.9375\"/></a><!--MD5=[60a26617385b1d2d0262a64233df1f8d]\n",
       "class E6--><a href=\"psysml:46e4b238-da26-40c7-b1f6-d3a4f2631481\" target=\"_top\" title=\"psysml:46e4b238-da26-40c7-b1f6-d3a4f2631481\" xlink:actuate=\"onRequest\" xlink:href=\"psysml:46e4b238-da26-40c7-b1f6-d3a4f2631481\" xlink:show=\"new\" xlink:title=\"psysml:46e4b238-da26-40c7-b1f6-d3a4f2631481\" xlink:type=\"simple\"><rect fill=\"#FFFFFF\" height=\"45.9375\" id=\"E6\" rx=\"10\" ry=\"10\" style=\"stroke: #383838; stroke-width: 1.5;\" width=\"42\" x=\"471\" y=\"62\"/><text fill=\"#000000\" font-family=\"sans-serif\" font-size=\"12\" font-style=\"italic\" lengthAdjust=\"spacingAndGlyphs\" textLength=\"40\" x=\"472\" y=\"78.1387\">«part»</text><text fill=\"#000000\" font-family=\"sans-serif\" font-size=\"12\" lengthAdjust=\"spacingAndGlyphs\" textLength=\"23\" x=\"480.5\" y=\"92.1074\">c: P</text><line style=\"stroke: #383838; stroke-width: 1.5;\" x1=\"472\" x2=\"512\" y1=\"99.9375\" y2=\"99.9375\"/></a><!--MD5=[2156ba9850f5573cc1fc38a6a4b2f02b]\n",
       "class E7--><a href=\"psysml:862abcb1-d094-4d1f-a90d-b0af915cd2bb\" target=\"_top\" title=\"psysml:862abcb1-d094-4d1f-a90d-b0af915cd2bb\" xlink:actuate=\"onRequest\" xlink:href=\"psysml:862abcb1-d094-4d1f-a90d-b0af915cd2bb\" xlink:show=\"new\" xlink:title=\"psysml:862abcb1-d094-4d1f-a90d-b0af915cd2bb\" xlink:type=\"simple\"><rect fill=\"#FFFFFF\" height=\"45.9375\" id=\"E7\" rx=\"10\" ry=\"10\" style=\"stroke: #383838; stroke-width: 1.5;\" width=\"42\" x=\"394\" y=\"62\"/><text fill=\"#000000\" font-family=\"sans-serif\" font-size=\"12\" font-style=\"italic\" lengthAdjust=\"spacingAndGlyphs\" textLength=\"40\" x=\"395\" y=\"78.1387\">«part»</text><text fill=\"#000000\" font-family=\"sans-serif\" font-size=\"12\" lengthAdjust=\"spacingAndGlyphs\" textLength=\"8\" x=\"411\" y=\"92.1074\">d</text><line style=\"stroke: #383838; stroke-width: 1.5;\" x1=\"395\" x2=\"435\" y1=\"99.9375\" y2=\"99.9375\"/></a><!--MD5=[b9389687b975829384b498ac4b7476b2]\n",
       "class E8--><a href=\"psysml:0f8b0aa8-e59b-4cfe-b590-8672d08a4434\" target=\"_top\" title=\"psysml:0f8b0aa8-e59b-4cfe-b590-8672d08a4434\" xlink:actuate=\"onRequest\" xlink:href=\"psysml:0f8b0aa8-e59b-4cfe-b590-8672d08a4434\" xlink:show=\"new\" xlink:title=\"psysml:0f8b0aa8-e59b-4cfe-b590-8672d08a4434\" xlink:type=\"simple\"><rect fill=\"#FFFFFF\" height=\"45.9375\" id=\"E8\" rx=\"10\" ry=\"10\" style=\"stroke: #383838; stroke-width: 1.5;\" width=\"42\" x=\"317\" y=\"62\"/><text fill=\"#000000\" font-family=\"sans-serif\" font-size=\"12\" font-style=\"italic\" lengthAdjust=\"spacingAndGlyphs\" textLength=\"40\" x=\"318\" y=\"78.1387\">«part»</text><text fill=\"#000000\" font-family=\"sans-serif\" font-size=\"12\" lengthAdjust=\"spacingAndGlyphs\" textLength=\"8\" x=\"334\" y=\"92.1074\">e</text><line style=\"stroke: #383838; stroke-width: 1.5;\" x1=\"318\" x2=\"358\" y1=\"99.9375\" y2=\"99.9375\"/></a><!--MD5=[fd4143e9d270a159db93a4ea2a975926]\n",
       "class E9--><a href=\"psysml:07bb6063-49af-4acb-bb76-a6a51f542bf8\" target=\"_top\" title=\"psysml:07bb6063-49af-4acb-bb76-a6a51f542bf8\" xlink:actuate=\"onRequest\" xlink:href=\"psysml:07bb6063-49af-4acb-bb76-a6a51f542bf8\" xlink:show=\"new\" xlink:title=\"psysml:07bb6063-49af-4acb-bb76-a6a51f542bf8\" xlink:type=\"simple\"><rect fill=\"#FFFFFF\" height=\"45.9375\" id=\"E9\" rx=\"10\" ry=\"10\" style=\"stroke: #383838; stroke-width: 1.5;\" width=\"42\" x=\"240\" y=\"62\"/><text fill=\"#000000\" font-family=\"sans-serif\" font-size=\"12\" font-style=\"italic\" lengthAdjust=\"spacingAndGlyphs\" textLength=\"40\" x=\"241\" y=\"78.1387\">«part»</text><text fill=\"#000000\" font-family=\"sans-serif\" font-size=\"12\" lengthAdjust=\"spacingAndGlyphs\" textLength=\"4\" x=\"259\" y=\"92.1074\">f</text><line style=\"stroke: #383838; stroke-width: 1.5;\" x1=\"241\" x2=\"281\" y1=\"99.9375\" y2=\"99.9375\"/></a><!--MD5=[96f4274e9e20536e775497830990834d]\n",
       "class E10--><a href=\"psysml:87a6ec87-e214-496f-a09f-1f6dfd597ed3\" target=\"_top\" title=\"psysml:87a6ec87-e214-496f-a09f-1f6dfd597ed3\" xlink:actuate=\"onRequest\" xlink:href=\"psysml:87a6ec87-e214-496f-a09f-1f6dfd597ed3\" xlink:show=\"new\" xlink:title=\"psysml:87a6ec87-e214-496f-a09f-1f6dfd597ed3\" xlink:type=\"simple\"><rect fill=\"#FFFFFF\" height=\"45.9375\" id=\"E10\" rx=\"10\" ry=\"10\" style=\"stroke: #383838; stroke-width: 1.5;\" width=\"42\" x=\"163\" y=\"62\"/><text fill=\"#000000\" font-family=\"sans-serif\" font-size=\"12\" font-style=\"italic\" lengthAdjust=\"spacingAndGlyphs\" textLength=\"40\" x=\"164\" y=\"78.1387\">«part»</text><text fill=\"#000000\" font-family=\"sans-serif\" font-size=\"12\" lengthAdjust=\"spacingAndGlyphs\" textLength=\"8\" x=\"180\" y=\"92.1074\">g</text><line style=\"stroke: #383838; stroke-width: 1.5;\" x1=\"164\" x2=\"204\" y1=\"99.9375\" y2=\"99.9375\"/></a><!--MD5=[1dd1bfd58a279cf63c5f349dbc8fc6a1]\n",
       "class E11--><a href=\"psysml:423769db-1814-486c-a3b1-3214b1eae655\" target=\"_top\" title=\"psysml:423769db-1814-486c-a3b1-3214b1eae655\" xlink:actuate=\"onRequest\" xlink:href=\"psysml:423769db-1814-486c-a3b1-3214b1eae655\" xlink:show=\"new\" xlink:title=\"psysml:423769db-1814-486c-a3b1-3214b1eae655\" xlink:type=\"simple\"><rect fill=\"#FFFFFF\" height=\"88.3516\" id=\"E11\" style=\"stroke: #383838; stroke-width: 1.5;\" width=\"95\" x=\"32.5\" y=\"41\"/><text fill=\"#000000\" font-family=\"sans-serif\" font-size=\"12\" font-style=\"italic\" lengthAdjust=\"spacingAndGlyphs\" textLength=\"93\" x=\"33.5\" y=\"57.1387\">«attribute def»</text><text fill=\"#000000\" font-family=\"sans-serif\" font-size=\"12\" lengthAdjust=\"spacingAndGlyphs\" textLength=\"8\" x=\"76\" y=\"71.1074\">A</text><line style=\"stroke: #383838; stroke-width: 1.5;\" x1=\"33.5\" x2=\"126.5\" y1=\"78.9375\" y2=\"78.9375\"/><text fill=\"#000000\" font-family=\"sans-serif\" font-size=\"11\" lengthAdjust=\"spacingAndGlyphs\" textLength=\"51\" x=\"38.5\" y=\"109.9526\">i: Integer</text><text fill=\"#000000\" font-family=\"sans-serif\" font-size=\"11\" lengthAdjust=\"spacingAndGlyphs\" textLength=\"21\" x=\"38.5\" y=\"122.7573\">x: A</text><line style=\"stroke: #383838; stroke-width: 1.0;\" x1=\"33.5\" x2=\"52.5\" y1=\"93.3398\" y2=\"93.3398\"/><text fill=\"#000000\" font-family=\"sans-serif\" font-size=\"11\" lengthAdjust=\"spacingAndGlyphs\" textLength=\"55\" x=\"52.5\" y=\"96.6479\">attributes</text><line style=\"stroke: #383838; stroke-width: 1.0;\" x1=\"107.5\" x2=\"126.5\" y1=\"93.3398\" y2=\"93.3398\"/></a><!--MD5=[15ebcb19ae302d9b601edb458606d402]\n",
       "link E5 to E2--><a href=\"psysml:56ee8f03-05cc-4672-92a5-af5f15d564f5\" target=\"_top\" title=\"psysml:56ee8f03-05cc-4672-92a5-af5f15d564f5\" xlink:actuate=\"onRequest\" xlink:href=\"psysml:56ee8f03-05cc-4672-92a5-af5f15d564f5\" xlink:show=\"new\" xlink:title=\"psysml:56ee8f03-05cc-4672-92a5-af5f15d564f5\" xlink:type=\"simple\"><path d=\"M562.12,108.06 C556.83,125 549.38,148.89 542.98,169.39 \" fill=\"none\" id=\"E5-&gt;E2\" style=\"stroke: #383838; stroke-width: 1.0;\"/><polygon fill=\"#FFFFFF\" points=\"536.95,188.74,535.929,168.5173,549.2931,172.6886,536.95,188.74\" style=\"stroke: #383838; stroke-width: 1.0;\"/><ellipse cx=\"539.5364\" cy=\"163.6721\" fill=\"#383838\" rx=\"2\" ry=\"2\" style=\"stroke: #383838; stroke-width: 1.0;\"/><ellipse cx=\"549.0823\" cy=\"166.6516\" fill=\"#383838\" rx=\"2\" ry=\"2\" style=\"stroke: #383838; stroke-width: 1.0;\"/></a><!--MD5=[2351f337d6de0f557b50152ba70847b5]\n",
       "link E6 to E2--><a href=\"psysml:34caeea3-9e32-4456-be5b-df49f4f1b3a4\" target=\"_top\" title=\"psysml:34caeea3-9e32-4456-be5b-df49f4f1b3a4\" xlink:actuate=\"onRequest\" xlink:href=\"psysml:34caeea3-9e32-4456-be5b-df49f4f1b3a4\" xlink:show=\"new\" xlink:title=\"psysml:34caeea3-9e32-4456-be5b-df49f4f1b3a4\" xlink:type=\"simple\"><path d=\"M498.71,108.06 C503.86,125 511.12,148.89 517.35,169.39 \" fill=\"none\" id=\"E6-&gt;E2\" style=\"stroke: #383838; stroke-width: 1.0;\"/><polygon fill=\"#FFFFFF\" points=\"523.23,188.74,511.007,172.597,524.4019,168.5255,523.23,188.74\" style=\"stroke: #383838; stroke-width: 1.0;\"/><ellipse cx=\"511.2628\" cy=\"166.5617\" fill=\"#383838\" rx=\"2\" ry=\"2\" style=\"stroke: #383838; stroke-width: 1.0;\"/><ellipse cx=\"520.8306\" cy=\"163.6535\" fill=\"#383838\" rx=\"2\" ry=\"2\" style=\"stroke: #383838; stroke-width: 1.0;\"/></a><!--MD5=[4ce8658428e42aef02634f4a3e8520da]\n",
       "@startuml\r\n",
       "top to bottom direction\r\n",
       "skinparam monochrome true\r\n",
       "skinparam classbackgroundcolor white\r\n",
       "skinparam shadowing false\r\n",
       "skinparam wrapWidth 300\r\n",
       "hide circle\r\n",
       "\r\n",
       "package \"MultiplicityTest\" as E1  [[psysml:917c8e98-308c-4a57-bedc-72bb13927275 ]]  {\r\n",
       "comp def \"P\" as E2  <<(T,blue) part def>> [[psysml:1b8e2ab6-001b-4483-8406-5463ddd95a77 ]] {\r\n",
       "}\r\n",
       "comp usage \"n: Integer\" as E3  <<(T,blue) attribute>> [[psysml:d0e8f829-c575-44a2-9ede-b108238de40c ]] {\r\n",
       "}\r\n",
       "comp usage \"a\" as E4  <<(T,blue) part>> [[psysml:2de2cbdc-62e6-485a-a7d2-bee7f587f60d ]] {\r\n",
       "}\r\n",
       "comp usage \"b: P\" as E5  <<(T,blue) part>> [[psysml:a47b2c6e-81dd-4a7f-97e2-f2f751620c17 ]] {\r\n",
       "}\r\n",
       "comp usage \"c: P\" as E6  <<(T,blue) part>> [[psysml:46e4b238-da26-40c7-b1f6-d3a4f2631481 ]] {\r\n",
       "}\r\n",
       "comp usage \"d\" as E7  <<(T,blue) part>> [[psysml:862abcb1-d094-4d1f-a90d-b0af915cd2bb ]] {\r\n",
       "}\r\n",
       "comp usage \"e\" as E8  <<(T,blue) part>> [[psysml:0f8b0aa8-e59b-4cfe-b590-8672d08a4434 ]] {\r\n",
       "}\r\n",
       "comp usage \"f\" as E9  <<(T,blue) part>> [[psysml:07bb6063-49af-4acb-bb76-a6a51f542bf8 ]] {\r\n",
       "}\r\n",
       "comp usage \"g\" as E10  <<(T,blue) part>> [[psysml:87a6ec87-e214-496f-a09f-1f6dfd597ed3 ]] {\r\n",
       "}\r\n",
       "comp def \"A\" as E11  <<(T,blue) attribute def>> [[psysml:423769db-1814-486c-a3b1-3214b1eae655 ]] {\r\n",
       "- - attributes - -\r\n",
       "i: Integer\r\n",
       "x: A\r\n",
       "}\r\n",
       "}\r\n",
       "E5 - -:|> E2 [[psysml:56ee8f03-05cc-4672-92a5-af5f15d564f5 ]] \r\n",
       "E6 - -:|> E2 [[psysml:34caeea3-9e32-4456-be5b-df49f4f1b3a4 ]] \r\n",
       "@enduml\r\n",
       "\n",
       "PlantUML version 1.2020.13(Sat Jun 13 12:26:38 UTC 2020)\n",
       "(EPL source distribution)\n",
       "Java Runtime: OpenJDK Runtime Environment\n",
       "JVM: OpenJDK 64-Bit Server VM\n",
       "Default Encoding: UTF-8\n",
       "Language: en\n",
       "Country: null\n",
       "--></g></svg>"
      ]
     },
     "execution_count": 45,
     "metadata": {},
     "output_type": "execute_result"
    }
   ],
   "source": [
    "%viz --style=\"TB\" --view=\"Tree\" \"MultiplicityTest\""
   ]
  },
  {
   "cell_type": "code",
   "execution_count": 46,
   "id": "b17a6d31",
   "metadata": {
    "execution": {
     "iopub.execute_input": "2021-10-03T08:30:22.167222Z",
     "iopub.status.busy": "2021-10-03T08:30:22.166833Z",
     "iopub.status.idle": "2021-10-03T08:30:22.171311Z",
     "shell.execute_reply": "2021-10-03T08:30:22.171598Z"
    }
   },
   "outputs": [
    {
     "data": {
      "image/svg+xml": [
       "<?xml version=\"1.0\" encoding=\"UTF-8\" standalone=\"no\"?><svg xmlns=\"http://www.w3.org/2000/svg\" xmlns:xlink=\"http://www.w3.org/1999/xlink\" contentScriptType=\"application/ecmascript\" contentStyleType=\"text/css\" height=\"12px\" preserveAspectRatio=\"none\" style=\"width:12px;height:12px;\" version=\"1.1\" viewBox=\"0 0 12 12\" width=\"12px\" zoomAndPan=\"magnify\"><defs/><g><!--MD5=[f4ee21bc66e489b5061b7c3e9601fdef]\n",
       "@startuml\r\n",
       "top to bottom direction\r\n",
       "skinparam monochrome true\r\n",
       "skinparam classbackgroundcolor white\r\n",
       "skinparam shadowing false\r\n",
       "skinparam wrapWidth 300\r\n",
       "hide circle\r\n",
       "\r\n",
       "@enduml\r\n",
       "\n",
       "PlantUML version 1.2020.13(Sat Jun 13 12:26:38 UTC 2020)\n",
       "(EPL source distribution)\n",
       "Java Runtime: OpenJDK Runtime Environment\n",
       "JVM: OpenJDK 64-Bit Server VM\n",
       "Default Encoding: UTF-8\n",
       "Language: en\n",
       "Country: null\n",
       "--></g></svg>"
      ]
     },
     "execution_count": 46,
     "metadata": {},
     "output_type": "execute_result"
    }
   ],
   "source": [
    "%viz --style=\"TB\" --view=\"State\" \"MultiplicityTest\""
   ]
  },
  {
   "cell_type": "code",
   "execution_count": 47,
   "id": "267e3918",
   "metadata": {
    "execution": {
     "iopub.execute_input": "2021-10-03T08:30:22.221093Z",
     "iopub.status.busy": "2021-10-03T08:30:22.220707Z",
     "iopub.status.idle": "2021-10-03T08:30:22.249696Z",
     "shell.execute_reply": "2021-10-03T08:30:22.249350Z"
    }
   },
   "outputs": [
    {
     "data": {
      "image/svg+xml": [
       "<?xml version=\"1.0\" encoding=\"UTF-8\" standalone=\"no\"?><svg xmlns=\"http://www.w3.org/2000/svg\" xmlns:xlink=\"http://www.w3.org/1999/xlink\" contentScriptType=\"application/ecmascript\" contentStyleType=\"text/css\" height=\"115px\" preserveAspectRatio=\"none\" style=\"width:979px;height:115px;\" version=\"1.1\" viewBox=\"0 0 979 115\" width=\"979px\" zoomAndPan=\"magnify\"><defs/><g><!--MD5=[fbc87193dbaf4d95561dea2c320d4a47]\n",
       "cluster E1--><a href=\"psysml:917c8e98-308c-4a57-bedc-72bb13927275\" target=\"_top\" title=\"psysml:917c8e98-308c-4a57-bedc-72bb13927275\" xlink:actuate=\"onRequest\" xlink:href=\"psysml:917c8e98-308c-4a57-bedc-72bb13927275\" xlink:show=\"new\" xlink:title=\"psysml:917c8e98-308c-4a57-bedc-72bb13927275\" xlink:type=\"simple\"><polygon fill=\"#FFFFFF\" points=\"16,6,123,6,130,28.2969,957,28.2969,957,103,16,103,16,6\" style=\"stroke: #000000; stroke-width: 1.5;\"/><line style=\"stroke: #000000; stroke-width: 1.5;\" x1=\"16\" x2=\"130\" y1=\"28.2969\" y2=\"28.2969\"/><text fill=\"#000000\" font-family=\"sans-serif\" font-size=\"14\" font-weight=\"bold\" lengthAdjust=\"spacingAndGlyphs\" textLength=\"101\" x=\"20\" y=\"20.9951\">MultiplicityTest</text></a><!--MD5=[09b614a08d8cba4a07c9adeb5e0fee81]\n",
       "class E3--><a href=\"psysml:d0e8f829-c575-44a2-9ede-b108238de40c\" target=\"_top\" title=\"psysml:d0e8f829-c575-44a2-9ede-b108238de40c\" xlink:actuate=\"onRequest\" xlink:href=\"psysml:d0e8f829-c575-44a2-9ede-b108238de40c\" xlink:show=\"new\" xlink:title=\"psysml:d0e8f829-c575-44a2-9ede-b108238de40c\" xlink:type=\"simple\"><rect fill=\"#FFFFFF\" height=\"45.9375\" id=\"E3\" rx=\"10\" ry=\"10\" style=\"stroke: #383838; stroke-width: 1.5;\" width=\"71\" x=\"869.5\" y=\"41\"/><text fill=\"#000000\" font-family=\"sans-serif\" font-size=\"12\" font-style=\"italic\" lengthAdjust=\"spacingAndGlyphs\" textLength=\"69\" x=\"870.5\" y=\"57.1387\">«attribute»</text><text fill=\"#000000\" font-family=\"sans-serif\" font-size=\"12\" lengthAdjust=\"spacingAndGlyphs\" textLength=\"61\" x=\"874.5\" y=\"71.1074\">n: Integer</text><line style=\"stroke: #383838; stroke-width: 1.5;\" x1=\"870.5\" x2=\"939.5\" y1=\"78.9375\" y2=\"78.9375\"/></a><g id=\"E1.E11\"><a href=\"psysml:423769db-1814-486c-a3b1-3214b1eae655\" target=\"_top\" title=\"psysml:423769db-1814-486c-a3b1-3214b1eae655\" xlink:actuate=\"onRequest\" xlink:href=\"psysml:423769db-1814-486c-a3b1-3214b1eae655\" xlink:show=\"new\" xlink:title=\"psysml:423769db-1814-486c-a3b1-3214b1eae655\" xlink:type=\"simple\"><rect fill=\"#FFFFFF\" height=\"42.9375\" id=\"E11\" style=\"stroke: #383838; stroke-width: 1.5;\" width=\"100\" x=\"734\" y=\"42.5\"/><rect fill=\"#F8F8F8\" height=\"37.9375\" style=\"stroke: #383838; stroke-width: 1.5;\" width=\"100\" x=\"734\" y=\"42.5\"/><text fill=\"#000000\" font-family=\"sans-serif\" font-size=\"12\" font-style=\"italic\" lengthAdjust=\"spacingAndGlyphs\" textLength=\"93\" x=\"737.5\" y=\"58.6387\">«attribute def»</text><text fill=\"#000000\" font-family=\"sans-serif\" font-size=\"12\" lengthAdjust=\"spacingAndGlyphs\" textLength=\"8\" x=\"780\" y=\"72.6074\">A</text></a></g><g id=\"E1.E2\"><a href=\"psysml:1b8e2ab6-001b-4483-8406-5463ddd95a77\" target=\"_top\" title=\"psysml:1b8e2ab6-001b-4483-8406-5463ddd95a77\" xlink:actuate=\"onRequest\" xlink:href=\"psysml:1b8e2ab6-001b-4483-8406-5463ddd95a77\" xlink:show=\"new\" xlink:title=\"psysml:1b8e2ab6-001b-4483-8406-5463ddd95a77\" xlink:type=\"simple\"><rect fill=\"#FFFFFF\" height=\"42.9375\" id=\"E2\" style=\"stroke: #383838; stroke-width: 1.5;\" width=\"71\" x=\"627.5\" y=\"42.5\"/><rect fill=\"#F8F8F8\" height=\"37.9375\" style=\"stroke: #383838; stroke-width: 1.5;\" width=\"71\" x=\"627.5\" y=\"42.5\"/><text fill=\"#000000\" font-family=\"sans-serif\" font-size=\"12\" font-style=\"italic\" lengthAdjust=\"spacingAndGlyphs\" textLength=\"64\" x=\"631\" y=\"58.6387\">«part def»</text><text fill=\"#000000\" font-family=\"sans-serif\" font-size=\"12\" lengthAdjust=\"spacingAndGlyphs\" textLength=\"8\" x=\"659\" y=\"72.6074\">P</text></a></g><g id=\"E1.E4\"><a href=\"psysml:2de2cbdc-62e6-485a-a7d2-bee7f587f60d\" target=\"_top\" title=\"psysml:2de2cbdc-62e6-485a-a7d2-bee7f587f60d\" xlink:actuate=\"onRequest\" xlink:href=\"psysml:2de2cbdc-62e6-485a-a7d2-bee7f587f60d\" xlink:show=\"new\" xlink:title=\"psysml:2de2cbdc-62e6-485a-a7d2-bee7f587f60d\" xlink:type=\"simple\"><rect fill=\"#FFFFFF\" height=\"40\" id=\"E4\" rx=\"10\" ry=\"10\" style=\"stroke: #383838; stroke-width: 1.5;\" width=\"50\" x=\"542\" y=\"44\"/><rect fill=\"#F8F8F8\" height=\"23.9688\" rx=\"10\" ry=\"10\" style=\"stroke: #F8F8F8; stroke-width: 1.5;\" width=\"50\" x=\"542\" y=\"44\"/><rect fill=\"#F8F8F8\" height=\"10\" style=\"stroke: #F8F8F8; stroke-width: 1.5;\" width=\"50\" x=\"542\" y=\"57.9688\"/><rect fill=\"none\" height=\"40\" id=\"E4\" rx=\"10\" ry=\"10\" style=\"stroke: #383838; stroke-width: 1.5;\" width=\"50\" x=\"542\" y=\"44\"/><text fill=\"#000000\" font-family=\"sans-serif\" font-size=\"12\" lengthAdjust=\"spacingAndGlyphs\" textLength=\"8\" x=\"563\" y=\"60.1387\">a</text></a></g><g id=\"E1.E5\"><a href=\"psysml:a47b2c6e-81dd-4a7f-97e2-f2f751620c17\" target=\"_top\" title=\"psysml:a47b2c6e-81dd-4a7f-97e2-f2f751620c17\" xlink:actuate=\"onRequest\" xlink:href=\"psysml:a47b2c6e-81dd-4a7f-97e2-f2f751620c17\" xlink:show=\"new\" xlink:title=\"psysml:a47b2c6e-81dd-4a7f-97e2-f2f751620c17\" xlink:type=\"simple\"><rect fill=\"#FFFFFF\" height=\"40\" id=\"E5\" rx=\"10\" ry=\"10\" style=\"stroke: #383838; stroke-width: 1.5;\" width=\"50\" x=\"457\" y=\"44\"/><rect fill=\"#F8F8F8\" height=\"23.9688\" rx=\"10\" ry=\"10\" style=\"stroke: #F8F8F8; stroke-width: 1.5;\" width=\"50\" x=\"457\" y=\"44\"/><rect fill=\"#F8F8F8\" height=\"10\" style=\"stroke: #F8F8F8; stroke-width: 1.5;\" width=\"50\" x=\"457\" y=\"57.9688\"/><rect fill=\"none\" height=\"40\" id=\"E5\" rx=\"10\" ry=\"10\" style=\"stroke: #383838; stroke-width: 1.5;\" width=\"50\" x=\"457\" y=\"44\"/><text fill=\"#000000\" font-family=\"sans-serif\" font-size=\"12\" lengthAdjust=\"spacingAndGlyphs\" textLength=\"24\" x=\"470\" y=\"60.1387\">b: P</text></a></g><g id=\"E1.E6\"><a href=\"psysml:46e4b238-da26-40c7-b1f6-d3a4f2631481\" target=\"_top\" title=\"psysml:46e4b238-da26-40c7-b1f6-d3a4f2631481\" xlink:actuate=\"onRequest\" xlink:href=\"psysml:46e4b238-da26-40c7-b1f6-d3a4f2631481\" xlink:show=\"new\" xlink:title=\"psysml:46e4b238-da26-40c7-b1f6-d3a4f2631481\" xlink:type=\"simple\"><rect fill=\"#FFFFFF\" height=\"40\" id=\"E6\" rx=\"10\" ry=\"10\" style=\"stroke: #383838; stroke-width: 1.5;\" width=\"50\" x=\"372\" y=\"44\"/><rect fill=\"#F8F8F8\" height=\"23.9688\" rx=\"10\" ry=\"10\" style=\"stroke: #F8F8F8; stroke-width: 1.5;\" width=\"50\" x=\"372\" y=\"44\"/><rect fill=\"#F8F8F8\" height=\"10\" style=\"stroke: #F8F8F8; stroke-width: 1.5;\" width=\"50\" x=\"372\" y=\"57.9688\"/><rect fill=\"none\" height=\"40\" id=\"E6\" rx=\"10\" ry=\"10\" style=\"stroke: #383838; stroke-width: 1.5;\" width=\"50\" x=\"372\" y=\"44\"/><text fill=\"#000000\" font-family=\"sans-serif\" font-size=\"12\" lengthAdjust=\"spacingAndGlyphs\" textLength=\"23\" x=\"385.5\" y=\"60.1387\">c: P</text></a></g><g id=\"E1.E7\"><a href=\"psysml:862abcb1-d094-4d1f-a90d-b0af915cd2bb\" target=\"_top\" title=\"psysml:862abcb1-d094-4d1f-a90d-b0af915cd2bb\" xlink:actuate=\"onRequest\" xlink:href=\"psysml:862abcb1-d094-4d1f-a90d-b0af915cd2bb\" xlink:show=\"new\" xlink:title=\"psysml:862abcb1-d094-4d1f-a90d-b0af915cd2bb\" xlink:type=\"simple\"><rect fill=\"#FFFFFF\" height=\"40\" id=\"E7\" rx=\"10\" ry=\"10\" style=\"stroke: #383838; stroke-width: 1.5;\" width=\"50\" x=\"287\" y=\"44\"/><rect fill=\"#F8F8F8\" height=\"23.9688\" rx=\"10\" ry=\"10\" style=\"stroke: #F8F8F8; stroke-width: 1.5;\" width=\"50\" x=\"287\" y=\"44\"/><rect fill=\"#F8F8F8\" height=\"10\" style=\"stroke: #F8F8F8; stroke-width: 1.5;\" width=\"50\" x=\"287\" y=\"57.9688\"/><rect fill=\"none\" height=\"40\" id=\"E7\" rx=\"10\" ry=\"10\" style=\"stroke: #383838; stroke-width: 1.5;\" width=\"50\" x=\"287\" y=\"44\"/><text fill=\"#000000\" font-family=\"sans-serif\" font-size=\"12\" lengthAdjust=\"spacingAndGlyphs\" textLength=\"8\" x=\"308\" y=\"60.1387\">d</text></a></g><g id=\"E1.E8\"><a href=\"psysml:0f8b0aa8-e59b-4cfe-b590-8672d08a4434\" target=\"_top\" title=\"psysml:0f8b0aa8-e59b-4cfe-b590-8672d08a4434\" xlink:actuate=\"onRequest\" xlink:href=\"psysml:0f8b0aa8-e59b-4cfe-b590-8672d08a4434\" xlink:show=\"new\" xlink:title=\"psysml:0f8b0aa8-e59b-4cfe-b590-8672d08a4434\" xlink:type=\"simple\"><rect fill=\"#FFFFFF\" height=\"40\" id=\"E8\" rx=\"10\" ry=\"10\" style=\"stroke: #383838; stroke-width: 1.5;\" width=\"50\" x=\"202\" y=\"44\"/><rect fill=\"#F8F8F8\" height=\"23.9688\" rx=\"10\" ry=\"10\" style=\"stroke: #F8F8F8; stroke-width: 1.5;\" width=\"50\" x=\"202\" y=\"44\"/><rect fill=\"#F8F8F8\" height=\"10\" style=\"stroke: #F8F8F8; stroke-width: 1.5;\" width=\"50\" x=\"202\" y=\"57.9688\"/><rect fill=\"none\" height=\"40\" id=\"E8\" rx=\"10\" ry=\"10\" style=\"stroke: #383838; stroke-width: 1.5;\" width=\"50\" x=\"202\" y=\"44\"/><text fill=\"#000000\" font-family=\"sans-serif\" font-size=\"12\" lengthAdjust=\"spacingAndGlyphs\" textLength=\"8\" x=\"223\" y=\"60.1387\">e</text></a></g><g id=\"E1.E9\"><a href=\"psysml:07bb6063-49af-4acb-bb76-a6a51f542bf8\" target=\"_top\" title=\"psysml:07bb6063-49af-4acb-bb76-a6a51f542bf8\" xlink:actuate=\"onRequest\" xlink:href=\"psysml:07bb6063-49af-4acb-bb76-a6a51f542bf8\" xlink:show=\"new\" xlink:title=\"psysml:07bb6063-49af-4acb-bb76-a6a51f542bf8\" xlink:type=\"simple\"><rect fill=\"#FFFFFF\" height=\"40\" id=\"E9\" rx=\"10\" ry=\"10\" style=\"stroke: #383838; stroke-width: 1.5;\" width=\"50\" x=\"117\" y=\"44\"/><rect fill=\"#F8F8F8\" height=\"23.9688\" rx=\"10\" ry=\"10\" style=\"stroke: #F8F8F8; stroke-width: 1.5;\" width=\"50\" x=\"117\" y=\"44\"/><rect fill=\"#F8F8F8\" height=\"10\" style=\"stroke: #F8F8F8; stroke-width: 1.5;\" width=\"50\" x=\"117\" y=\"57.9688\"/><rect fill=\"none\" height=\"40\" id=\"E9\" rx=\"10\" ry=\"10\" style=\"stroke: #383838; stroke-width: 1.5;\" width=\"50\" x=\"117\" y=\"44\"/><text fill=\"#000000\" font-family=\"sans-serif\" font-size=\"12\" lengthAdjust=\"spacingAndGlyphs\" textLength=\"4\" x=\"140\" y=\"60.1387\">f</text></a></g><g id=\"E1.E10\"><a href=\"psysml:87a6ec87-e214-496f-a09f-1f6dfd597ed3\" target=\"_top\" title=\"psysml:87a6ec87-e214-496f-a09f-1f6dfd597ed3\" xlink:actuate=\"onRequest\" xlink:href=\"psysml:87a6ec87-e214-496f-a09f-1f6dfd597ed3\" xlink:show=\"new\" xlink:title=\"psysml:87a6ec87-e214-496f-a09f-1f6dfd597ed3\" xlink:type=\"simple\"><rect fill=\"#FFFFFF\" height=\"40\" id=\"E10\" rx=\"10\" ry=\"10\" style=\"stroke: #383838; stroke-width: 1.5;\" width=\"50\" x=\"32\" y=\"44\"/><rect fill=\"#F8F8F8\" height=\"23.9688\" rx=\"10\" ry=\"10\" style=\"stroke: #F8F8F8; stroke-width: 1.5;\" width=\"50\" x=\"32\" y=\"44\"/><rect fill=\"#F8F8F8\" height=\"10\" style=\"stroke: #F8F8F8; stroke-width: 1.5;\" width=\"50\" x=\"32\" y=\"57.9688\"/><rect fill=\"none\" height=\"40\" id=\"E10\" rx=\"10\" ry=\"10\" style=\"stroke: #383838; stroke-width: 1.5;\" width=\"50\" x=\"32\" y=\"44\"/><text fill=\"#000000\" font-family=\"sans-serif\" font-size=\"12\" lengthAdjust=\"spacingAndGlyphs\" textLength=\"8\" x=\"53\" y=\"60.1387\">g</text></a></g><!--MD5=[fdbdc0b04b58056ca243e0ab6a7b6474]\n",
       "@startuml\r\n",
       "skinparam ranksep 10\r\n",
       "skinparam rectangle {\r\n",
       " backgroundColor<<block>> LightGreen\r\n",
       "}\r\n",
       "top to bottom direction\r\n",
       "skinparam monochrome true\r\n",
       "skinparam classbackgroundcolor white\r\n",
       "skinparam shadowing false\r\n",
       "skinparam wrapWidth 300\r\n",
       "hide circle\r\n",
       "\r\n",
       "package \"MultiplicityTest\" as E1  [[psysml:917c8e98-308c-4a57-bedc-72bb13927275 ]]  {\r\n",
       "rec def \"P\" as E2  <<(T,blue) part def>> [[psysml:1b8e2ab6-001b-4483-8406-5463ddd95a77 ]] {\r\n",
       "}\r\n",
       "comp usage \"n: Integer\" as E3  <<(T,blue) attribute>> [[psysml:d0e8f829-c575-44a2-9ede-b108238de40c ]] {\r\n",
       "}\r\n",
       "rec usage \"a\" as E4  [[psysml:2de2cbdc-62e6-485a-a7d2-bee7f587f60d ]] {\r\n",
       "}\r\n",
       "rec usage \"b: P\" as E5  [[psysml:a47b2c6e-81dd-4a7f-97e2-f2f751620c17 ]] {\r\n",
       "}\r\n",
       "rec usage \"c: P\" as E6  [[psysml:46e4b238-da26-40c7-b1f6-d3a4f2631481 ]] {\r\n",
       "}\r\n",
       "rec usage \"d\" as E7  [[psysml:862abcb1-d094-4d1f-a90d-b0af915cd2bb ]] {\r\n",
       "}\r\n",
       "rec usage \"e\" as E8  [[psysml:0f8b0aa8-e59b-4cfe-b590-8672d08a4434 ]] {\r\n",
       "}\r\n",
       "rec usage \"f\" as E9  [[psysml:07bb6063-49af-4acb-bb76-a6a51f542bf8 ]] {\r\n",
       "}\r\n",
       "rec usage \"g\" as E10  [[psysml:87a6ec87-e214-496f-a09f-1f6dfd597ed3 ]] {\r\n",
       "}\r\n",
       "def \"A\" as E11  <<(T,blue) attribute def>> [[psysml:423769db-1814-486c-a3b1-3214b1eae655 ]] \r\n",
       "}\r\n",
       "@enduml\r\n",
       "\n",
       "PlantUML version 1.2020.13(Sat Jun 13 12:26:38 UTC 2020)\n",
       "(EPL source distribution)\n",
       "Java Runtime: OpenJDK Runtime Environment\n",
       "JVM: OpenJDK 64-Bit Server VM\n",
       "Default Encoding: UTF-8\n",
       "Language: en\n",
       "Country: null\n",
       "--></g></svg>"
      ]
     },
     "execution_count": 47,
     "metadata": {},
     "output_type": "execute_result"
    }
   ],
   "source": [
    "%viz --style=\"TB\" --view=\"Interconnection\" \"MultiplicityTest\""
   ]
  },
  {
   "cell_type": "code",
   "execution_count": 48,
   "id": "b7d24808",
   "metadata": {
    "execution": {
     "iopub.execute_input": "2021-10-03T08:30:22.299016Z",
     "iopub.status.busy": "2021-10-03T08:30:22.298623Z",
     "iopub.status.idle": "2021-10-03T08:30:22.303890Z",
     "shell.execute_reply": "2021-10-03T08:30:22.303537Z"
    }
   },
   "outputs": [
    {
     "data": {
      "image/svg+xml": [
       "<?xml version=\"1.0\" encoding=\"UTF-8\" standalone=\"no\"?><svg xmlns=\"http://www.w3.org/2000/svg\" xmlns:xlink=\"http://www.w3.org/1999/xlink\" contentScriptType=\"application/ecmascript\" contentStyleType=\"text/css\" height=\"12px\" preserveAspectRatio=\"none\" style=\"width:12px;height:12px;\" version=\"1.1\" viewBox=\"0 0 12 12\" width=\"12px\" zoomAndPan=\"magnify\"><defs/><g><!--MD5=[06afc254b03ac5e9d9fb7773b07d0800]\n",
       "@startuml\r\n",
       "skinparam ranksep 8\r\n",
       "top to bottom direction\r\n",
       "skinparam monochrome true\r\n",
       "skinparam classbackgroundcolor white\r\n",
       "skinparam shadowing false\r\n",
       "skinparam wrapWidth 300\r\n",
       "hide circle\r\n",
       "\r\n",
       "@enduml\r\n",
       "\n",
       "PlantUML version 1.2020.13(Sat Jun 13 12:26:38 UTC 2020)\n",
       "(EPL source distribution)\n",
       "Java Runtime: OpenJDK Runtime Environment\n",
       "JVM: OpenJDK 64-Bit Server VM\n",
       "Default Encoding: UTF-8\n",
       "Language: en\n",
       "Country: null\n",
       "--></g></svg>"
      ]
     },
     "execution_count": 48,
     "metadata": {},
     "output_type": "execute_result"
    }
   ],
   "source": [
    "%viz --style=\"TB\" --view=\"Action\" \"MultiplicityTest\""
   ]
  },
  {
   "cell_type": "code",
   "execution_count": 49,
   "id": "e720bea8",
   "metadata": {
    "execution": {
     "iopub.execute_input": "2021-10-03T08:30:22.353294Z",
     "iopub.status.busy": "2021-10-03T08:30:22.352910Z",
     "iopub.status.idle": "2021-10-03T08:30:22.357583Z",
     "shell.execute_reply": "2021-10-03T08:30:22.357888Z"
    }
   },
   "outputs": [
    {
     "data": {
      "image/svg+xml": [
       "<?xml version=\"1.0\" encoding=\"UTF-8\" standalone=\"no\"?><svg xmlns=\"http://www.w3.org/2000/svg\" xmlns:xlink=\"http://www.w3.org/1999/xlink\" contentScriptType=\"application/ecmascript\" contentStyleType=\"text/css\" height=\"12px\" preserveAspectRatio=\"none\" style=\"width:12px;height:12px;\" version=\"1.1\" viewBox=\"0 0 12 12\" width=\"12px\" zoomAndPan=\"magnify\"><defs/><g><!--MD5=[e1ab0c84c44d2fef8bf5f140f2689906]\n",
       "@startuml\r\n",
       "skinparam roundcorner 20\r\n",
       "skinparam BoxPadding 20\r\n",
       "skinparam SequenceBoxBackgroundColor #white\r\n",
       "skinparam style strictuml\r\n",
       "skinparam maxMessageSize 100\r\n",
       "top to bottom direction\r\n",
       "skinparam monochrome true\r\n",
       "skinparam classbackgroundcolor white\r\n",
       "skinparam shadowing false\r\n",
       "skinparam wrapWidth 300\r\n",
       "hide circle\r\n",
       "\r\n",
       "@enduml\r\n",
       "\n",
       "PlantUML version 1.2020.13(Sat Jun 13 12:26:38 UTC 2020)\n",
       "(EPL source distribution)\n",
       "Java Runtime: OpenJDK Runtime Environment\n",
       "JVM: OpenJDK 64-Bit Server VM\n",
       "Default Encoding: UTF-8\n",
       "Language: en\n",
       "Country: null\n",
       "--></g></svg>"
      ]
     },
     "execution_count": 49,
     "metadata": {},
     "output_type": "execute_result"
    }
   ],
   "source": [
    "%viz --style=\"TB\" --view=\"Sequence\" \"MultiplicityTest\""
   ]
  },
  {
   "cell_type": "code",
   "execution_count": 50,
   "id": "21e71d52",
   "metadata": {
    "execution": {
     "iopub.execute_input": "2021-10-03T08:30:22.407539Z",
     "iopub.status.busy": "2021-10-03T08:30:22.407151Z",
     "iopub.status.idle": "2021-10-03T08:30:22.457661Z",
     "shell.execute_reply": "2021-10-03T08:30:22.457323Z"
    }
   },
   "outputs": [
    {
     "data": {
      "image/svg+xml": [
       "<?xml version=\"1.0\" encoding=\"UTF-8\" standalone=\"no\"?><svg xmlns=\"http://www.w3.org/2000/svg\" xmlns:xlink=\"http://www.w3.org/1999/xlink\" contentScriptType=\"application/ecmascript\" contentStyleType=\"text/css\" height=\"263px\" preserveAspectRatio=\"none\" style=\"width:812px;height:263px;\" version=\"1.1\" viewBox=\"0 0 812 263\" width=\"812px\" zoomAndPan=\"magnify\"><defs/><g><!--MD5=[fbc87193dbaf4d95561dea2c320d4a47]\n",
       "cluster E1--><a href=\"psysml:917c8e98-308c-4a57-bedc-72bb13927275\" target=\"_top\" title=\"psysml:917c8e98-308c-4a57-bedc-72bb13927275\" xlink:actuate=\"onRequest\" xlink:href=\"psysml:917c8e98-308c-4a57-bedc-72bb13927275\" xlink:show=\"new\" xlink:title=\"psysml:917c8e98-308c-4a57-bedc-72bb13927275\" xlink:type=\"simple\"><polygon fill=\"#FFFFFF\" points=\"16,6,123,6,130,28.2969,790,28.2969,790,251,16,251,16,6\" style=\"stroke: #000000; stroke-width: 1.5;\"/><line style=\"stroke: #000000; stroke-width: 1.5;\" x1=\"16\" x2=\"130\" y1=\"28.2969\" y2=\"28.2969\"/><text fill=\"#000000\" font-family=\"sans-serif\" font-size=\"14\" font-weight=\"bold\" lengthAdjust=\"spacingAndGlyphs\" textLength=\"101\" x=\"20\" y=\"20.9951\">MultiplicityTest</text></a><!--MD5=[b4997ac47864f28c2f74865a473b2911]\n",
       "class E2--><a href=\"psysml:1b8e2ab6-001b-4483-8406-5463ddd95a77\" target=\"_top\" title=\"psysml:1b8e2ab6-001b-4483-8406-5463ddd95a77\" xlink:actuate=\"onRequest\" xlink:href=\"psysml:1b8e2ab6-001b-4483-8406-5463ddd95a77\" xlink:show=\"new\" xlink:title=\"psysml:1b8e2ab6-001b-4483-8406-5463ddd95a77\" xlink:type=\"simple\"><rect fill=\"#FFFFFF\" height=\"45.9375\" id=\"E2\" style=\"stroke: #383838; stroke-width: 1.5;\" width=\"66\" x=\"497\" y=\"189\"/><text fill=\"#000000\" font-family=\"sans-serif\" font-size=\"12\" font-style=\"italic\" lengthAdjust=\"spacingAndGlyphs\" textLength=\"64\" x=\"498\" y=\"205.1387\">«part def»</text><text fill=\"#000000\" font-family=\"sans-serif\" font-size=\"12\" lengthAdjust=\"spacingAndGlyphs\" textLength=\"8\" x=\"526\" y=\"219.1074\">P</text><line style=\"stroke: #383838; stroke-width: 1.5;\" x1=\"498\" x2=\"562\" y1=\"226.9375\" y2=\"226.9375\"/></a><!--MD5=[09b614a08d8cba4a07c9adeb5e0fee81]\n",
       "class E3--><a href=\"psysml:d0e8f829-c575-44a2-9ede-b108238de40c\" target=\"_top\" title=\"psysml:d0e8f829-c575-44a2-9ede-b108238de40c\" xlink:actuate=\"onRequest\" xlink:href=\"psysml:d0e8f829-c575-44a2-9ede-b108238de40c\" xlink:show=\"new\" xlink:title=\"psysml:d0e8f829-c575-44a2-9ede-b108238de40c\" xlink:type=\"simple\"><rect fill=\"#FFFFFF\" height=\"45.9375\" id=\"E3\" rx=\"10\" ry=\"10\" style=\"stroke: #383838; stroke-width: 1.5;\" width=\"71\" x=\"702.5\" y=\"62\"/><text fill=\"#000000\" font-family=\"sans-serif\" font-size=\"12\" font-style=\"italic\" lengthAdjust=\"spacingAndGlyphs\" textLength=\"69\" x=\"703.5\" y=\"78.1387\">«attribute»</text><text fill=\"#000000\" font-family=\"sans-serif\" font-size=\"12\" lengthAdjust=\"spacingAndGlyphs\" textLength=\"61\" x=\"707.5\" y=\"92.1074\">n: Integer</text><line style=\"stroke: #383838; stroke-width: 1.5;\" x1=\"703.5\" x2=\"772.5\" y1=\"99.9375\" y2=\"99.9375\"/></a><!--MD5=[ebbe1d658d1005bcc118a6aa81145e00]\n",
       "class E4--><a href=\"psysml:2de2cbdc-62e6-485a-a7d2-bee7f587f60d\" target=\"_top\" title=\"psysml:2de2cbdc-62e6-485a-a7d2-bee7f587f60d\" xlink:actuate=\"onRequest\" xlink:href=\"psysml:2de2cbdc-62e6-485a-a7d2-bee7f587f60d\" xlink:show=\"new\" xlink:title=\"psysml:2de2cbdc-62e6-485a-a7d2-bee7f587f60d\" xlink:type=\"simple\"><rect fill=\"#FFFFFF\" height=\"45.9375\" id=\"E4\" rx=\"10\" ry=\"10\" style=\"stroke: #383838; stroke-width: 1.5;\" width=\"42\" x=\"625\" y=\"62\"/><text fill=\"#000000\" font-family=\"sans-serif\" font-size=\"12\" font-style=\"italic\" lengthAdjust=\"spacingAndGlyphs\" textLength=\"40\" x=\"626\" y=\"78.1387\">«part»</text><text fill=\"#000000\" font-family=\"sans-serif\" font-size=\"12\" lengthAdjust=\"spacingAndGlyphs\" textLength=\"8\" x=\"642\" y=\"92.1074\">a</text><line style=\"stroke: #383838; stroke-width: 1.5;\" x1=\"626\" x2=\"666\" y1=\"99.9375\" y2=\"99.9375\"/></a><!--MD5=[270fce915f116d4de14055a7c1d9a0f3]\n",
       "class E5--><a href=\"psysml:a47b2c6e-81dd-4a7f-97e2-f2f751620c17\" target=\"_top\" title=\"psysml:a47b2c6e-81dd-4a7f-97e2-f2f751620c17\" xlink:actuate=\"onRequest\" xlink:href=\"psysml:a47b2c6e-81dd-4a7f-97e2-f2f751620c17\" xlink:show=\"new\" xlink:title=\"psysml:a47b2c6e-81dd-4a7f-97e2-f2f751620c17\" xlink:type=\"simple\"><rect fill=\"#FFFFFF\" height=\"45.9375\" id=\"E5\" rx=\"10\" ry=\"10\" style=\"stroke: #383838; stroke-width: 1.5;\" width=\"42\" x=\"548\" y=\"62\"/><text fill=\"#000000\" font-family=\"sans-serif\" font-size=\"12\" font-style=\"italic\" lengthAdjust=\"spacingAndGlyphs\" textLength=\"40\" x=\"549\" y=\"78.1387\">«part»</text><text fill=\"#000000\" font-family=\"sans-serif\" font-size=\"12\" lengthAdjust=\"spacingAndGlyphs\" textLength=\"24\" x=\"557\" y=\"92.1074\">b: P</text><line style=\"stroke: #383838; stroke-width: 1.5;\" x1=\"549\" x2=\"589\" y1=\"99.9375\" y2=\"99.9375\"/></a><!--MD5=[60a26617385b1d2d0262a64233df1f8d]\n",
       "class E6--><a href=\"psysml:46e4b238-da26-40c7-b1f6-d3a4f2631481\" target=\"_top\" title=\"psysml:46e4b238-da26-40c7-b1f6-d3a4f2631481\" xlink:actuate=\"onRequest\" xlink:href=\"psysml:46e4b238-da26-40c7-b1f6-d3a4f2631481\" xlink:show=\"new\" xlink:title=\"psysml:46e4b238-da26-40c7-b1f6-d3a4f2631481\" xlink:type=\"simple\"><rect fill=\"#FFFFFF\" height=\"45.9375\" id=\"E6\" rx=\"10\" ry=\"10\" style=\"stroke: #383838; stroke-width: 1.5;\" width=\"42\" x=\"471\" y=\"62\"/><text fill=\"#000000\" font-family=\"sans-serif\" font-size=\"12\" font-style=\"italic\" lengthAdjust=\"spacingAndGlyphs\" textLength=\"40\" x=\"472\" y=\"78.1387\">«part»</text><text fill=\"#000000\" font-family=\"sans-serif\" font-size=\"12\" lengthAdjust=\"spacingAndGlyphs\" textLength=\"23\" x=\"480.5\" y=\"92.1074\">c: P</text><line style=\"stroke: #383838; stroke-width: 1.5;\" x1=\"472\" x2=\"512\" y1=\"99.9375\" y2=\"99.9375\"/></a><!--MD5=[2156ba9850f5573cc1fc38a6a4b2f02b]\n",
       "class E7--><a href=\"psysml:862abcb1-d094-4d1f-a90d-b0af915cd2bb\" target=\"_top\" title=\"psysml:862abcb1-d094-4d1f-a90d-b0af915cd2bb\" xlink:actuate=\"onRequest\" xlink:href=\"psysml:862abcb1-d094-4d1f-a90d-b0af915cd2bb\" xlink:show=\"new\" xlink:title=\"psysml:862abcb1-d094-4d1f-a90d-b0af915cd2bb\" xlink:type=\"simple\"><rect fill=\"#FFFFFF\" height=\"45.9375\" id=\"E7\" rx=\"10\" ry=\"10\" style=\"stroke: #383838; stroke-width: 1.5;\" width=\"42\" x=\"394\" y=\"62\"/><text fill=\"#000000\" font-family=\"sans-serif\" font-size=\"12\" font-style=\"italic\" lengthAdjust=\"spacingAndGlyphs\" textLength=\"40\" x=\"395\" y=\"78.1387\">«part»</text><text fill=\"#000000\" font-family=\"sans-serif\" font-size=\"12\" lengthAdjust=\"spacingAndGlyphs\" textLength=\"8\" x=\"411\" y=\"92.1074\">d</text><line style=\"stroke: #383838; stroke-width: 1.5;\" x1=\"395\" x2=\"435\" y1=\"99.9375\" y2=\"99.9375\"/></a><!--MD5=[b9389687b975829384b498ac4b7476b2]\n",
       "class E8--><a href=\"psysml:0f8b0aa8-e59b-4cfe-b590-8672d08a4434\" target=\"_top\" title=\"psysml:0f8b0aa8-e59b-4cfe-b590-8672d08a4434\" xlink:actuate=\"onRequest\" xlink:href=\"psysml:0f8b0aa8-e59b-4cfe-b590-8672d08a4434\" xlink:show=\"new\" xlink:title=\"psysml:0f8b0aa8-e59b-4cfe-b590-8672d08a4434\" xlink:type=\"simple\"><rect fill=\"#FFFFFF\" height=\"45.9375\" id=\"E8\" rx=\"10\" ry=\"10\" style=\"stroke: #383838; stroke-width: 1.5;\" width=\"42\" x=\"317\" y=\"62\"/><text fill=\"#000000\" font-family=\"sans-serif\" font-size=\"12\" font-style=\"italic\" lengthAdjust=\"spacingAndGlyphs\" textLength=\"40\" x=\"318\" y=\"78.1387\">«part»</text><text fill=\"#000000\" font-family=\"sans-serif\" font-size=\"12\" lengthAdjust=\"spacingAndGlyphs\" textLength=\"8\" x=\"334\" y=\"92.1074\">e</text><line style=\"stroke: #383838; stroke-width: 1.5;\" x1=\"318\" x2=\"358\" y1=\"99.9375\" y2=\"99.9375\"/></a><!--MD5=[fd4143e9d270a159db93a4ea2a975926]\n",
       "class E9--><a href=\"psysml:07bb6063-49af-4acb-bb76-a6a51f542bf8\" target=\"_top\" title=\"psysml:07bb6063-49af-4acb-bb76-a6a51f542bf8\" xlink:actuate=\"onRequest\" xlink:href=\"psysml:07bb6063-49af-4acb-bb76-a6a51f542bf8\" xlink:show=\"new\" xlink:title=\"psysml:07bb6063-49af-4acb-bb76-a6a51f542bf8\" xlink:type=\"simple\"><rect fill=\"#FFFFFF\" height=\"45.9375\" id=\"E9\" rx=\"10\" ry=\"10\" style=\"stroke: #383838; stroke-width: 1.5;\" width=\"42\" x=\"240\" y=\"62\"/><text fill=\"#000000\" font-family=\"sans-serif\" font-size=\"12\" font-style=\"italic\" lengthAdjust=\"spacingAndGlyphs\" textLength=\"40\" x=\"241\" y=\"78.1387\">«part»</text><text fill=\"#000000\" font-family=\"sans-serif\" font-size=\"12\" lengthAdjust=\"spacingAndGlyphs\" textLength=\"4\" x=\"259\" y=\"92.1074\">f</text><line style=\"stroke: #383838; stroke-width: 1.5;\" x1=\"241\" x2=\"281\" y1=\"99.9375\" y2=\"99.9375\"/></a><!--MD5=[96f4274e9e20536e775497830990834d]\n",
       "class E10--><a href=\"psysml:87a6ec87-e214-496f-a09f-1f6dfd597ed3\" target=\"_top\" title=\"psysml:87a6ec87-e214-496f-a09f-1f6dfd597ed3\" xlink:actuate=\"onRequest\" xlink:href=\"psysml:87a6ec87-e214-496f-a09f-1f6dfd597ed3\" xlink:show=\"new\" xlink:title=\"psysml:87a6ec87-e214-496f-a09f-1f6dfd597ed3\" xlink:type=\"simple\"><rect fill=\"#FFFFFF\" height=\"45.9375\" id=\"E10\" rx=\"10\" ry=\"10\" style=\"stroke: #383838; stroke-width: 1.5;\" width=\"42\" x=\"163\" y=\"62\"/><text fill=\"#000000\" font-family=\"sans-serif\" font-size=\"12\" font-style=\"italic\" lengthAdjust=\"spacingAndGlyphs\" textLength=\"40\" x=\"164\" y=\"78.1387\">«part»</text><text fill=\"#000000\" font-family=\"sans-serif\" font-size=\"12\" lengthAdjust=\"spacingAndGlyphs\" textLength=\"8\" x=\"180\" y=\"92.1074\">g</text><line style=\"stroke: #383838; stroke-width: 1.5;\" x1=\"164\" x2=\"204\" y1=\"99.9375\" y2=\"99.9375\"/></a><!--MD5=[1dd1bfd58a279cf63c5f349dbc8fc6a1]\n",
       "class E11--><a href=\"psysml:423769db-1814-486c-a3b1-3214b1eae655\" target=\"_top\" title=\"psysml:423769db-1814-486c-a3b1-3214b1eae655\" xlink:actuate=\"onRequest\" xlink:href=\"psysml:423769db-1814-486c-a3b1-3214b1eae655\" xlink:show=\"new\" xlink:title=\"psysml:423769db-1814-486c-a3b1-3214b1eae655\" xlink:type=\"simple\"><rect fill=\"#FFFFFF\" height=\"88.3516\" id=\"E11\" style=\"stroke: #383838; stroke-width: 1.5;\" width=\"95\" x=\"32.5\" y=\"41\"/><text fill=\"#000000\" font-family=\"sans-serif\" font-size=\"12\" font-style=\"italic\" lengthAdjust=\"spacingAndGlyphs\" textLength=\"93\" x=\"33.5\" y=\"57.1387\">«attribute def»</text><text fill=\"#000000\" font-family=\"sans-serif\" font-size=\"12\" lengthAdjust=\"spacingAndGlyphs\" textLength=\"8\" x=\"76\" y=\"71.1074\">A</text><line style=\"stroke: #383838; stroke-width: 1.5;\" x1=\"33.5\" x2=\"126.5\" y1=\"78.9375\" y2=\"78.9375\"/><text fill=\"#000000\" font-family=\"sans-serif\" font-size=\"11\" lengthAdjust=\"spacingAndGlyphs\" textLength=\"51\" x=\"38.5\" y=\"109.9526\">i: Integer</text><text fill=\"#000000\" font-family=\"sans-serif\" font-size=\"11\" lengthAdjust=\"spacingAndGlyphs\" textLength=\"21\" x=\"38.5\" y=\"122.7573\">x: A</text><line style=\"stroke: #383838; stroke-width: 1.0;\" x1=\"33.5\" x2=\"52.5\" y1=\"93.3398\" y2=\"93.3398\"/><text fill=\"#000000\" font-family=\"sans-serif\" font-size=\"11\" lengthAdjust=\"spacingAndGlyphs\" textLength=\"55\" x=\"52.5\" y=\"96.6479\">attributes</text><line style=\"stroke: #383838; stroke-width: 1.0;\" x1=\"107.5\" x2=\"126.5\" y1=\"93.3398\" y2=\"93.3398\"/></a><!--MD5=[15ebcb19ae302d9b601edb458606d402]\n",
       "link E5 to E2--><a href=\"psysml:56ee8f03-05cc-4672-92a5-af5f15d564f5\" target=\"_top\" title=\"psysml:56ee8f03-05cc-4672-92a5-af5f15d564f5\" xlink:actuate=\"onRequest\" xlink:href=\"psysml:56ee8f03-05cc-4672-92a5-af5f15d564f5\" xlink:show=\"new\" xlink:title=\"psysml:56ee8f03-05cc-4672-92a5-af5f15d564f5\" xlink:type=\"simple\"><path d=\"M562.12,108.06 C556.83,125 549.38,148.89 542.98,169.39 \" fill=\"none\" id=\"E5-&gt;E2\" style=\"stroke: #383838; stroke-width: 1.0;\"/><polygon fill=\"#FFFFFF\" points=\"536.95,188.74,535.929,168.5173,549.2931,172.6886,536.95,188.74\" style=\"stroke: #383838; stroke-width: 1.0;\"/><ellipse cx=\"539.5364\" cy=\"163.6721\" fill=\"#383838\" rx=\"2\" ry=\"2\" style=\"stroke: #383838; stroke-width: 1.0;\"/><ellipse cx=\"549.0823\" cy=\"166.6516\" fill=\"#383838\" rx=\"2\" ry=\"2\" style=\"stroke: #383838; stroke-width: 1.0;\"/></a><!--MD5=[2351f337d6de0f557b50152ba70847b5]\n",
       "link E6 to E2--><a href=\"psysml:34caeea3-9e32-4456-be5b-df49f4f1b3a4\" target=\"_top\" title=\"psysml:34caeea3-9e32-4456-be5b-df49f4f1b3a4\" xlink:actuate=\"onRequest\" xlink:href=\"psysml:34caeea3-9e32-4456-be5b-df49f4f1b3a4\" xlink:show=\"new\" xlink:title=\"psysml:34caeea3-9e32-4456-be5b-df49f4f1b3a4\" xlink:type=\"simple\"><path d=\"M498.71,108.06 C503.86,125 511.12,148.89 517.35,169.39 \" fill=\"none\" id=\"E6-&gt;E2\" style=\"stroke: #383838; stroke-width: 1.0;\"/><polygon fill=\"#FFFFFF\" points=\"523.23,188.74,511.007,172.597,524.4019,168.5255,523.23,188.74\" style=\"stroke: #383838; stroke-width: 1.0;\"/><ellipse cx=\"511.2628\" cy=\"166.5617\" fill=\"#383838\" rx=\"2\" ry=\"2\" style=\"stroke: #383838; stroke-width: 1.0;\"/><ellipse cx=\"520.8306\" cy=\"163.6535\" fill=\"#383838\" rx=\"2\" ry=\"2\" style=\"stroke: #383838; stroke-width: 1.0;\"/></a><!--MD5=[4ce8658428e42aef02634f4a3e8520da]\n",
       "@startuml\r\n",
       "top to bottom direction\r\n",
       "skinparam monochrome true\r\n",
       "skinparam classbackgroundcolor white\r\n",
       "skinparam shadowing false\r\n",
       "skinparam wrapWidth 300\r\n",
       "hide circle\r\n",
       "\r\n",
       "package \"MultiplicityTest\" as E1  [[psysml:917c8e98-308c-4a57-bedc-72bb13927275 ]]  {\r\n",
       "comp def \"P\" as E2  <<(T,blue) part def>> [[psysml:1b8e2ab6-001b-4483-8406-5463ddd95a77 ]] {\r\n",
       "}\r\n",
       "comp usage \"n: Integer\" as E3  <<(T,blue) attribute>> [[psysml:d0e8f829-c575-44a2-9ede-b108238de40c ]] {\r\n",
       "}\r\n",
       "comp usage \"a\" as E4  <<(T,blue) part>> [[psysml:2de2cbdc-62e6-485a-a7d2-bee7f587f60d ]] {\r\n",
       "}\r\n",
       "comp usage \"b: P\" as E5  <<(T,blue) part>> [[psysml:a47b2c6e-81dd-4a7f-97e2-f2f751620c17 ]] {\r\n",
       "}\r\n",
       "comp usage \"c: P\" as E6  <<(T,blue) part>> [[psysml:46e4b238-da26-40c7-b1f6-d3a4f2631481 ]] {\r\n",
       "}\r\n",
       "comp usage \"d\" as E7  <<(T,blue) part>> [[psysml:862abcb1-d094-4d1f-a90d-b0af915cd2bb ]] {\r\n",
       "}\r\n",
       "comp usage \"e\" as E8  <<(T,blue) part>> [[psysml:0f8b0aa8-e59b-4cfe-b590-8672d08a4434 ]] {\r\n",
       "}\r\n",
       "comp usage \"f\" as E9  <<(T,blue) part>> [[psysml:07bb6063-49af-4acb-bb76-a6a51f542bf8 ]] {\r\n",
       "}\r\n",
       "comp usage \"g\" as E10  <<(T,blue) part>> [[psysml:87a6ec87-e214-496f-a09f-1f6dfd597ed3 ]] {\r\n",
       "}\r\n",
       "comp def \"A\" as E11  <<(T,blue) attribute def>> [[psysml:423769db-1814-486c-a3b1-3214b1eae655 ]] {\r\n",
       "- - attributes - -\r\n",
       "i: Integer\r\n",
       "x: A\r\n",
       "}\r\n",
       "}\r\n",
       "E5 - -:|> E2 [[psysml:56ee8f03-05cc-4672-92a5-af5f15d564f5 ]] \r\n",
       "E6 - -:|> E2 [[psysml:34caeea3-9e32-4456-be5b-df49f4f1b3a4 ]] \r\n",
       "@enduml\r\n",
       "\n",
       "PlantUML version 1.2020.13(Sat Jun 13 12:26:38 UTC 2020)\n",
       "(EPL source distribution)\n",
       "Java Runtime: OpenJDK Runtime Environment\n",
       "JVM: OpenJDK 64-Bit Server VM\n",
       "Default Encoding: UTF-8\n",
       "Language: en\n",
       "Country: null\n",
       "--></g></svg>"
      ]
     },
     "execution_count": 50,
     "metadata": {},
     "output_type": "execute_result"
    }
   ],
   "source": [
    "%viz --style=\"TB\" --view=\"MIXED\" \"MultiplicityTest\""
   ]
  },
  {
   "cell_type": "code",
   "execution_count": 51,
   "id": "06ba69e5",
   "metadata": {
    "execution": {
     "iopub.execute_input": "2021-10-03T08:30:22.506768Z",
     "iopub.status.busy": "2021-10-03T08:30:22.506381Z",
     "iopub.status.idle": "2021-10-03T08:30:22.557334Z",
     "shell.execute_reply": "2021-10-03T08:30:22.556993Z"
    }
   },
   "outputs": [
    {
     "data": {
      "image/svg+xml": [
       "<?xml version=\"1.0\" encoding=\"UTF-8\" standalone=\"no\"?><svg xmlns=\"http://www.w3.org/2000/svg\" xmlns:xlink=\"http://www.w3.org/1999/xlink\" contentScriptType=\"application/ecmascript\" contentStyleType=\"text/css\" height=\"263px\" preserveAspectRatio=\"none\" style=\"width:812px;height:263px;\" version=\"1.1\" viewBox=\"0 0 812 263\" width=\"812px\" zoomAndPan=\"magnify\"><defs/><g><!--MD5=[fbc87193dbaf4d95561dea2c320d4a47]\n",
       "cluster E1--><a href=\"psysml:917c8e98-308c-4a57-bedc-72bb13927275\" target=\"_top\" title=\"psysml:917c8e98-308c-4a57-bedc-72bb13927275\" xlink:actuate=\"onRequest\" xlink:href=\"psysml:917c8e98-308c-4a57-bedc-72bb13927275\" xlink:show=\"new\" xlink:title=\"psysml:917c8e98-308c-4a57-bedc-72bb13927275\" xlink:type=\"simple\"><polygon fill=\"#FFFFFF\" points=\"16,6,123,6,130,28.2969,790,28.2969,790,251,16,251,16,6\" style=\"stroke: #000000; stroke-width: 1.5;\"/><line style=\"stroke: #000000; stroke-width: 1.5;\" x1=\"16\" x2=\"130\" y1=\"28.2969\" y2=\"28.2969\"/><text fill=\"#000000\" font-family=\"sans-serif\" font-size=\"14\" font-weight=\"bold\" lengthAdjust=\"spacingAndGlyphs\" textLength=\"101\" x=\"20\" y=\"20.9951\">MultiplicityTest</text></a><!--MD5=[b4997ac47864f28c2f74865a473b2911]\n",
       "class E2--><a href=\"psysml:1b8e2ab6-001b-4483-8406-5463ddd95a77\" target=\"_top\" title=\"psysml:1b8e2ab6-001b-4483-8406-5463ddd95a77\" xlink:actuate=\"onRequest\" xlink:href=\"psysml:1b8e2ab6-001b-4483-8406-5463ddd95a77\" xlink:show=\"new\" xlink:title=\"psysml:1b8e2ab6-001b-4483-8406-5463ddd95a77\" xlink:type=\"simple\"><rect fill=\"#FFFFFF\" height=\"45.9375\" id=\"E2\" style=\"stroke: #383838; stroke-width: 1.5;\" width=\"66\" x=\"497\" y=\"189\"/><text fill=\"#000000\" font-family=\"sans-serif\" font-size=\"12\" font-style=\"italic\" lengthAdjust=\"spacingAndGlyphs\" textLength=\"64\" x=\"498\" y=\"205.1387\">«part def»</text><text fill=\"#000000\" font-family=\"sans-serif\" font-size=\"12\" lengthAdjust=\"spacingAndGlyphs\" textLength=\"8\" x=\"526\" y=\"219.1074\">P</text><line style=\"stroke: #383838; stroke-width: 1.5;\" x1=\"498\" x2=\"562\" y1=\"226.9375\" y2=\"226.9375\"/></a><!--MD5=[09b614a08d8cba4a07c9adeb5e0fee81]\n",
       "class E3--><a href=\"psysml:d0e8f829-c575-44a2-9ede-b108238de40c\" target=\"_top\" title=\"psysml:d0e8f829-c575-44a2-9ede-b108238de40c\" xlink:actuate=\"onRequest\" xlink:href=\"psysml:d0e8f829-c575-44a2-9ede-b108238de40c\" xlink:show=\"new\" xlink:title=\"psysml:d0e8f829-c575-44a2-9ede-b108238de40c\" xlink:type=\"simple\"><rect fill=\"#FFFFFF\" height=\"45.9375\" id=\"E3\" rx=\"10\" ry=\"10\" style=\"stroke: #383838; stroke-width: 1.5;\" width=\"71\" x=\"702.5\" y=\"62\"/><text fill=\"#000000\" font-family=\"sans-serif\" font-size=\"12\" font-style=\"italic\" lengthAdjust=\"spacingAndGlyphs\" textLength=\"69\" x=\"703.5\" y=\"78.1387\">«attribute»</text><text fill=\"#000000\" font-family=\"sans-serif\" font-size=\"12\" lengthAdjust=\"spacingAndGlyphs\" textLength=\"61\" x=\"707.5\" y=\"92.1074\">n: Integer</text><line style=\"stroke: #383838; stroke-width: 1.5;\" x1=\"703.5\" x2=\"772.5\" y1=\"99.9375\" y2=\"99.9375\"/></a><!--MD5=[ebbe1d658d1005bcc118a6aa81145e00]\n",
       "class E4--><a href=\"psysml:2de2cbdc-62e6-485a-a7d2-bee7f587f60d\" target=\"_top\" title=\"psysml:2de2cbdc-62e6-485a-a7d2-bee7f587f60d\" xlink:actuate=\"onRequest\" xlink:href=\"psysml:2de2cbdc-62e6-485a-a7d2-bee7f587f60d\" xlink:show=\"new\" xlink:title=\"psysml:2de2cbdc-62e6-485a-a7d2-bee7f587f60d\" xlink:type=\"simple\"><rect fill=\"#FFFFFF\" height=\"45.9375\" id=\"E4\" rx=\"10\" ry=\"10\" style=\"stroke: #383838; stroke-width: 1.5;\" width=\"42\" x=\"625\" y=\"62\"/><text fill=\"#000000\" font-family=\"sans-serif\" font-size=\"12\" font-style=\"italic\" lengthAdjust=\"spacingAndGlyphs\" textLength=\"40\" x=\"626\" y=\"78.1387\">«part»</text><text fill=\"#000000\" font-family=\"sans-serif\" font-size=\"12\" lengthAdjust=\"spacingAndGlyphs\" textLength=\"8\" x=\"642\" y=\"92.1074\">a</text><line style=\"stroke: #383838; stroke-width: 1.5;\" x1=\"626\" x2=\"666\" y1=\"99.9375\" y2=\"99.9375\"/></a><!--MD5=[270fce915f116d4de14055a7c1d9a0f3]\n",
       "class E5--><a href=\"psysml:a47b2c6e-81dd-4a7f-97e2-f2f751620c17\" target=\"_top\" title=\"psysml:a47b2c6e-81dd-4a7f-97e2-f2f751620c17\" xlink:actuate=\"onRequest\" xlink:href=\"psysml:a47b2c6e-81dd-4a7f-97e2-f2f751620c17\" xlink:show=\"new\" xlink:title=\"psysml:a47b2c6e-81dd-4a7f-97e2-f2f751620c17\" xlink:type=\"simple\"><rect fill=\"#FFFFFF\" height=\"45.9375\" id=\"E5\" rx=\"10\" ry=\"10\" style=\"stroke: #383838; stroke-width: 1.5;\" width=\"42\" x=\"548\" y=\"62\"/><text fill=\"#000000\" font-family=\"sans-serif\" font-size=\"12\" font-style=\"italic\" lengthAdjust=\"spacingAndGlyphs\" textLength=\"40\" x=\"549\" y=\"78.1387\">«part»</text><text fill=\"#000000\" font-family=\"sans-serif\" font-size=\"12\" lengthAdjust=\"spacingAndGlyphs\" textLength=\"24\" x=\"557\" y=\"92.1074\">b: P</text><line style=\"stroke: #383838; stroke-width: 1.5;\" x1=\"549\" x2=\"589\" y1=\"99.9375\" y2=\"99.9375\"/></a><!--MD5=[60a26617385b1d2d0262a64233df1f8d]\n",
       "class E6--><a href=\"psysml:46e4b238-da26-40c7-b1f6-d3a4f2631481\" target=\"_top\" title=\"psysml:46e4b238-da26-40c7-b1f6-d3a4f2631481\" xlink:actuate=\"onRequest\" xlink:href=\"psysml:46e4b238-da26-40c7-b1f6-d3a4f2631481\" xlink:show=\"new\" xlink:title=\"psysml:46e4b238-da26-40c7-b1f6-d3a4f2631481\" xlink:type=\"simple\"><rect fill=\"#FFFFFF\" height=\"45.9375\" id=\"E6\" rx=\"10\" ry=\"10\" style=\"stroke: #383838; stroke-width: 1.5;\" width=\"42\" x=\"471\" y=\"62\"/><text fill=\"#000000\" font-family=\"sans-serif\" font-size=\"12\" font-style=\"italic\" lengthAdjust=\"spacingAndGlyphs\" textLength=\"40\" x=\"472\" y=\"78.1387\">«part»</text><text fill=\"#000000\" font-family=\"sans-serif\" font-size=\"12\" lengthAdjust=\"spacingAndGlyphs\" textLength=\"23\" x=\"480.5\" y=\"92.1074\">c: P</text><line style=\"stroke: #383838; stroke-width: 1.5;\" x1=\"472\" x2=\"512\" y1=\"99.9375\" y2=\"99.9375\"/></a><!--MD5=[2156ba9850f5573cc1fc38a6a4b2f02b]\n",
       "class E7--><a href=\"psysml:862abcb1-d094-4d1f-a90d-b0af915cd2bb\" target=\"_top\" title=\"psysml:862abcb1-d094-4d1f-a90d-b0af915cd2bb\" xlink:actuate=\"onRequest\" xlink:href=\"psysml:862abcb1-d094-4d1f-a90d-b0af915cd2bb\" xlink:show=\"new\" xlink:title=\"psysml:862abcb1-d094-4d1f-a90d-b0af915cd2bb\" xlink:type=\"simple\"><rect fill=\"#FFFFFF\" height=\"45.9375\" id=\"E7\" rx=\"10\" ry=\"10\" style=\"stroke: #383838; stroke-width: 1.5;\" width=\"42\" x=\"394\" y=\"62\"/><text fill=\"#000000\" font-family=\"sans-serif\" font-size=\"12\" font-style=\"italic\" lengthAdjust=\"spacingAndGlyphs\" textLength=\"40\" x=\"395\" y=\"78.1387\">«part»</text><text fill=\"#000000\" font-family=\"sans-serif\" font-size=\"12\" lengthAdjust=\"spacingAndGlyphs\" textLength=\"8\" x=\"411\" y=\"92.1074\">d</text><line style=\"stroke: #383838; stroke-width: 1.5;\" x1=\"395\" x2=\"435\" y1=\"99.9375\" y2=\"99.9375\"/></a><!--MD5=[b9389687b975829384b498ac4b7476b2]\n",
       "class E8--><a href=\"psysml:0f8b0aa8-e59b-4cfe-b590-8672d08a4434\" target=\"_top\" title=\"psysml:0f8b0aa8-e59b-4cfe-b590-8672d08a4434\" xlink:actuate=\"onRequest\" xlink:href=\"psysml:0f8b0aa8-e59b-4cfe-b590-8672d08a4434\" xlink:show=\"new\" xlink:title=\"psysml:0f8b0aa8-e59b-4cfe-b590-8672d08a4434\" xlink:type=\"simple\"><rect fill=\"#FFFFFF\" height=\"45.9375\" id=\"E8\" rx=\"10\" ry=\"10\" style=\"stroke: #383838; stroke-width: 1.5;\" width=\"42\" x=\"317\" y=\"62\"/><text fill=\"#000000\" font-family=\"sans-serif\" font-size=\"12\" font-style=\"italic\" lengthAdjust=\"spacingAndGlyphs\" textLength=\"40\" x=\"318\" y=\"78.1387\">«part»</text><text fill=\"#000000\" font-family=\"sans-serif\" font-size=\"12\" lengthAdjust=\"spacingAndGlyphs\" textLength=\"8\" x=\"334\" y=\"92.1074\">e</text><line style=\"stroke: #383838; stroke-width: 1.5;\" x1=\"318\" x2=\"358\" y1=\"99.9375\" y2=\"99.9375\"/></a><!--MD5=[fd4143e9d270a159db93a4ea2a975926]\n",
       "class E9--><a href=\"psysml:07bb6063-49af-4acb-bb76-a6a51f542bf8\" target=\"_top\" title=\"psysml:07bb6063-49af-4acb-bb76-a6a51f542bf8\" xlink:actuate=\"onRequest\" xlink:href=\"psysml:07bb6063-49af-4acb-bb76-a6a51f542bf8\" xlink:show=\"new\" xlink:title=\"psysml:07bb6063-49af-4acb-bb76-a6a51f542bf8\" xlink:type=\"simple\"><rect fill=\"#FFFFFF\" height=\"45.9375\" id=\"E9\" rx=\"10\" ry=\"10\" style=\"stroke: #383838; stroke-width: 1.5;\" width=\"42\" x=\"240\" y=\"62\"/><text fill=\"#000000\" font-family=\"sans-serif\" font-size=\"12\" font-style=\"italic\" lengthAdjust=\"spacingAndGlyphs\" textLength=\"40\" x=\"241\" y=\"78.1387\">«part»</text><text fill=\"#000000\" font-family=\"sans-serif\" font-size=\"12\" lengthAdjust=\"spacingAndGlyphs\" textLength=\"4\" x=\"259\" y=\"92.1074\">f</text><line style=\"stroke: #383838; stroke-width: 1.5;\" x1=\"241\" x2=\"281\" y1=\"99.9375\" y2=\"99.9375\"/></a><!--MD5=[96f4274e9e20536e775497830990834d]\n",
       "class E10--><a href=\"psysml:87a6ec87-e214-496f-a09f-1f6dfd597ed3\" target=\"_top\" title=\"psysml:87a6ec87-e214-496f-a09f-1f6dfd597ed3\" xlink:actuate=\"onRequest\" xlink:href=\"psysml:87a6ec87-e214-496f-a09f-1f6dfd597ed3\" xlink:show=\"new\" xlink:title=\"psysml:87a6ec87-e214-496f-a09f-1f6dfd597ed3\" xlink:type=\"simple\"><rect fill=\"#FFFFFF\" height=\"45.9375\" id=\"E10\" rx=\"10\" ry=\"10\" style=\"stroke: #383838; stroke-width: 1.5;\" width=\"42\" x=\"163\" y=\"62\"/><text fill=\"#000000\" font-family=\"sans-serif\" font-size=\"12\" font-style=\"italic\" lengthAdjust=\"spacingAndGlyphs\" textLength=\"40\" x=\"164\" y=\"78.1387\">«part»</text><text fill=\"#000000\" font-family=\"sans-serif\" font-size=\"12\" lengthAdjust=\"spacingAndGlyphs\" textLength=\"8\" x=\"180\" y=\"92.1074\">g</text><line style=\"stroke: #383838; stroke-width: 1.5;\" x1=\"164\" x2=\"204\" y1=\"99.9375\" y2=\"99.9375\"/></a><!--MD5=[1dd1bfd58a279cf63c5f349dbc8fc6a1]\n",
       "class E11--><a href=\"psysml:423769db-1814-486c-a3b1-3214b1eae655\" target=\"_top\" title=\"psysml:423769db-1814-486c-a3b1-3214b1eae655\" xlink:actuate=\"onRequest\" xlink:href=\"psysml:423769db-1814-486c-a3b1-3214b1eae655\" xlink:show=\"new\" xlink:title=\"psysml:423769db-1814-486c-a3b1-3214b1eae655\" xlink:type=\"simple\"><rect fill=\"#FFFFFF\" height=\"88.3516\" id=\"E11\" style=\"stroke: #383838; stroke-width: 1.5;\" width=\"95\" x=\"32.5\" y=\"41\"/><text fill=\"#000000\" font-family=\"sans-serif\" font-size=\"12\" font-style=\"italic\" lengthAdjust=\"spacingAndGlyphs\" textLength=\"93\" x=\"33.5\" y=\"57.1387\">«attribute def»</text><text fill=\"#000000\" font-family=\"sans-serif\" font-size=\"12\" lengthAdjust=\"spacingAndGlyphs\" textLength=\"8\" x=\"76\" y=\"71.1074\">A</text><line style=\"stroke: #383838; stroke-width: 1.5;\" x1=\"33.5\" x2=\"126.5\" y1=\"78.9375\" y2=\"78.9375\"/><text fill=\"#000000\" font-family=\"sans-serif\" font-size=\"11\" lengthAdjust=\"spacingAndGlyphs\" textLength=\"51\" x=\"38.5\" y=\"109.9526\">i: Integer</text><text fill=\"#000000\" font-family=\"sans-serif\" font-size=\"11\" lengthAdjust=\"spacingAndGlyphs\" textLength=\"21\" x=\"38.5\" y=\"122.7573\">x: A</text><line style=\"stroke: #383838; stroke-width: 1.0;\" x1=\"33.5\" x2=\"52.5\" y1=\"93.3398\" y2=\"93.3398\"/><text fill=\"#000000\" font-family=\"sans-serif\" font-size=\"11\" lengthAdjust=\"spacingAndGlyphs\" textLength=\"55\" x=\"52.5\" y=\"96.6479\">attributes</text><line style=\"stroke: #383838; stroke-width: 1.0;\" x1=\"107.5\" x2=\"126.5\" y1=\"93.3398\" y2=\"93.3398\"/></a><!--MD5=[15ebcb19ae302d9b601edb458606d402]\n",
       "link E5 to E2--><a href=\"psysml:56ee8f03-05cc-4672-92a5-af5f15d564f5\" target=\"_top\" title=\"psysml:56ee8f03-05cc-4672-92a5-af5f15d564f5\" xlink:actuate=\"onRequest\" xlink:href=\"psysml:56ee8f03-05cc-4672-92a5-af5f15d564f5\" xlink:show=\"new\" xlink:title=\"psysml:56ee8f03-05cc-4672-92a5-af5f15d564f5\" xlink:type=\"simple\"><path d=\"M555.5,108.29 C555.5,108.29 555.5,168.85 555.5,168.85 \" fill=\"none\" id=\"E5-&gt;E2\" style=\"stroke: #383838; stroke-width: 1.0;\"/><polygon fill=\"#FFFFFF\" points=\"555.5,188.85,548.5,169.85,562.5,169.85,555.5,188.85\" style=\"stroke: #383838; stroke-width: 1.0;\"/><ellipse cx=\"550.5\" cy=\"164.15\" fill=\"#383838\" rx=\"2\" ry=\"2\" style=\"stroke: #383838; stroke-width: 1.0;\"/><ellipse cx=\"560.5\" cy=\"164.15\" fill=\"#383838\" rx=\"2\" ry=\"2\" style=\"stroke: #383838; stroke-width: 1.0;\"/></a><!--MD5=[2351f337d6de0f557b50152ba70847b5]\n",
       "link E6 to E2--><a href=\"psysml:34caeea3-9e32-4456-be5b-df49f4f1b3a4\" target=\"_top\" title=\"psysml:34caeea3-9e32-4456-be5b-df49f4f1b3a4\" xlink:actuate=\"onRequest\" xlink:href=\"psysml:34caeea3-9e32-4456-be5b-df49f4f1b3a4\" xlink:show=\"new\" xlink:title=\"psysml:34caeea3-9e32-4456-be5b-df49f4f1b3a4\" xlink:type=\"simple\"><path d=\"M505,108.29 C505,108.29 505,168.85 505,168.85 \" fill=\"none\" id=\"E6-&gt;E2\" style=\"stroke: #383838; stroke-width: 1.0;\"/><polygon fill=\"#FFFFFF\" points=\"505,188.85,498,169.85,512,169.85,505,188.85\" style=\"stroke: #383838; stroke-width: 1.0;\"/><ellipse cx=\"500\" cy=\"164.15\" fill=\"#383838\" rx=\"2\" ry=\"2\" style=\"stroke: #383838; stroke-width: 1.0;\"/><ellipse cx=\"510\" cy=\"164.15\" fill=\"#383838\" rx=\"2\" ry=\"2\" style=\"stroke: #383838; stroke-width: 1.0;\"/></a><!--MD5=[5fadc96ebb3322cd799a6b7305a4e34e]\n",
       "@startuml\r\n",
       "skinparam linetype ortho\r\n",
       "skinparam monochrome true\r\n",
       "skinparam classbackgroundcolor white\r\n",
       "skinparam shadowing false\r\n",
       "skinparam wrapWidth 300\r\n",
       "hide circle\r\n",
       "\r\n",
       "package \"MultiplicityTest\" as E1  [[psysml:917c8e98-308c-4a57-bedc-72bb13927275 ]]  {\r\n",
       "comp def \"P\" as E2  <<(T,blue) part def>> [[psysml:1b8e2ab6-001b-4483-8406-5463ddd95a77 ]] {\r\n",
       "}\r\n",
       "comp usage \"n: Integer\" as E3  <<(T,blue) attribute>> [[psysml:d0e8f829-c575-44a2-9ede-b108238de40c ]] {\r\n",
       "}\r\n",
       "comp usage \"a\" as E4  <<(T,blue) part>> [[psysml:2de2cbdc-62e6-485a-a7d2-bee7f587f60d ]] {\r\n",
       "}\r\n",
       "comp usage \"b: P\" as E5  <<(T,blue) part>> [[psysml:a47b2c6e-81dd-4a7f-97e2-f2f751620c17 ]] {\r\n",
       "}\r\n",
       "comp usage \"c: P\" as E6  <<(T,blue) part>> [[psysml:46e4b238-da26-40c7-b1f6-d3a4f2631481 ]] {\r\n",
       "}\r\n",
       "comp usage \"d\" as E7  <<(T,blue) part>> [[psysml:862abcb1-d094-4d1f-a90d-b0af915cd2bb ]] {\r\n",
       "}\r\n",
       "comp usage \"e\" as E8  <<(T,blue) part>> [[psysml:0f8b0aa8-e59b-4cfe-b590-8672d08a4434 ]] {\r\n",
       "}\r\n",
       "comp usage \"f\" as E9  <<(T,blue) part>> [[psysml:07bb6063-49af-4acb-bb76-a6a51f542bf8 ]] {\r\n",
       "}\r\n",
       "comp usage \"g\" as E10  <<(T,blue) part>> [[psysml:87a6ec87-e214-496f-a09f-1f6dfd597ed3 ]] {\r\n",
       "}\r\n",
       "comp def \"A\" as E11  <<(T,blue) attribute def>> [[psysml:423769db-1814-486c-a3b1-3214b1eae655 ]] {\r\n",
       "- - attributes - -\r\n",
       "i: Integer\r\n",
       "x: A\r\n",
       "}\r\n",
       "}\r\n",
       "E5 - -:|> E2 [[psysml:56ee8f03-05cc-4672-92a5-af5f15d564f5 ]] \r\n",
       "E6 - -:|> E2 [[psysml:34caeea3-9e32-4456-be5b-df49f4f1b3a4 ]] \r\n",
       "@enduml\r\n",
       "\n",
       "PlantUML version 1.2020.13(Sat Jun 13 12:26:38 UTC 2020)\n",
       "(EPL source distribution)\n",
       "Java Runtime: OpenJDK Runtime Environment\n",
       "JVM: OpenJDK 64-Bit Server VM\n",
       "Default Encoding: UTF-8\n",
       "Language: en\n",
       "Country: null\n",
       "--></g></svg>"
      ]
     },
     "execution_count": 51,
     "metadata": {},
     "output_type": "execute_result"
    }
   ],
   "source": [
    "%viz --style=\"ORTHOLINE\" --view=\"Default\" \"MultiplicityTest\""
   ]
  },
  {
   "cell_type": "code",
   "execution_count": 52,
   "id": "8c80527b",
   "metadata": {
    "execution": {
     "iopub.execute_input": "2021-10-03T08:30:22.606461Z",
     "iopub.status.busy": "2021-10-03T08:30:22.606074Z",
     "iopub.status.idle": "2021-10-03T08:30:22.667226Z",
     "shell.execute_reply": "2021-10-03T08:30:22.665421Z"
    }
   },
   "outputs": [
    {
     "data": {
      "image/svg+xml": [
       "<?xml version=\"1.0\" encoding=\"UTF-8\" standalone=\"no\"?><svg xmlns=\"http://www.w3.org/2000/svg\" xmlns:xlink=\"http://www.w3.org/1999/xlink\" contentScriptType=\"application/ecmascript\" contentStyleType=\"text/css\" height=\"263px\" preserveAspectRatio=\"none\" style=\"width:812px;height:263px;\" version=\"1.1\" viewBox=\"0 0 812 263\" width=\"812px\" zoomAndPan=\"magnify\"><defs/><g><!--MD5=[fbc87193dbaf4d95561dea2c320d4a47]\n",
       "cluster E1--><a href=\"psysml:917c8e98-308c-4a57-bedc-72bb13927275\" target=\"_top\" title=\"psysml:917c8e98-308c-4a57-bedc-72bb13927275\" xlink:actuate=\"onRequest\" xlink:href=\"psysml:917c8e98-308c-4a57-bedc-72bb13927275\" xlink:show=\"new\" xlink:title=\"psysml:917c8e98-308c-4a57-bedc-72bb13927275\" xlink:type=\"simple\"><polygon fill=\"#FFFFFF\" points=\"16,6,123,6,130,28.2969,790,28.2969,790,251,16,251,16,6\" style=\"stroke: #000000; stroke-width: 1.5;\"/><line style=\"stroke: #000000; stroke-width: 1.5;\" x1=\"16\" x2=\"130\" y1=\"28.2969\" y2=\"28.2969\"/><text fill=\"#000000\" font-family=\"sans-serif\" font-size=\"14\" font-weight=\"bold\" lengthAdjust=\"spacingAndGlyphs\" textLength=\"101\" x=\"20\" y=\"20.9951\">MultiplicityTest</text></a><!--MD5=[b4997ac47864f28c2f74865a473b2911]\n",
       "class E2--><a href=\"psysml:1b8e2ab6-001b-4483-8406-5463ddd95a77\" target=\"_top\" title=\"psysml:1b8e2ab6-001b-4483-8406-5463ddd95a77\" xlink:actuate=\"onRequest\" xlink:href=\"psysml:1b8e2ab6-001b-4483-8406-5463ddd95a77\" xlink:show=\"new\" xlink:title=\"psysml:1b8e2ab6-001b-4483-8406-5463ddd95a77\" xlink:type=\"simple\"><rect fill=\"#FFFFFF\" height=\"45.9375\" id=\"E2\" style=\"stroke: #383838; stroke-width: 1.5;\" width=\"66\" x=\"497\" y=\"189\"/><text fill=\"#000000\" font-family=\"sans-serif\" font-size=\"12\" font-style=\"italic\" lengthAdjust=\"spacingAndGlyphs\" textLength=\"64\" x=\"498\" y=\"205.1387\">«part def»</text><text fill=\"#000000\" font-family=\"sans-serif\" font-size=\"12\" lengthAdjust=\"spacingAndGlyphs\" textLength=\"8\" x=\"526\" y=\"219.1074\">P</text><line style=\"stroke: #383838; stroke-width: 1.5;\" x1=\"498\" x2=\"562\" y1=\"226.9375\" y2=\"226.9375\"/></a><!--MD5=[09b614a08d8cba4a07c9adeb5e0fee81]\n",
       "class E3--><a href=\"psysml:d0e8f829-c575-44a2-9ede-b108238de40c\" target=\"_top\" title=\"psysml:d0e8f829-c575-44a2-9ede-b108238de40c\" xlink:actuate=\"onRequest\" xlink:href=\"psysml:d0e8f829-c575-44a2-9ede-b108238de40c\" xlink:show=\"new\" xlink:title=\"psysml:d0e8f829-c575-44a2-9ede-b108238de40c\" xlink:type=\"simple\"><rect fill=\"#FFFFFF\" height=\"45.9375\" id=\"E3\" rx=\"10\" ry=\"10\" style=\"stroke: #383838; stroke-width: 1.5;\" width=\"71\" x=\"702.5\" y=\"62\"/><text fill=\"#000000\" font-family=\"sans-serif\" font-size=\"12\" font-style=\"italic\" lengthAdjust=\"spacingAndGlyphs\" textLength=\"69\" x=\"703.5\" y=\"78.1387\">«attribute»</text><text fill=\"#000000\" font-family=\"sans-serif\" font-size=\"12\" lengthAdjust=\"spacingAndGlyphs\" textLength=\"61\" x=\"707.5\" y=\"92.1074\">n: Integer</text><line style=\"stroke: #383838; stroke-width: 1.5;\" x1=\"703.5\" x2=\"772.5\" y1=\"99.9375\" y2=\"99.9375\"/></a><!--MD5=[ebbe1d658d1005bcc118a6aa81145e00]\n",
       "class E4--><a href=\"psysml:2de2cbdc-62e6-485a-a7d2-bee7f587f60d\" target=\"_top\" title=\"psysml:2de2cbdc-62e6-485a-a7d2-bee7f587f60d\" xlink:actuate=\"onRequest\" xlink:href=\"psysml:2de2cbdc-62e6-485a-a7d2-bee7f587f60d\" xlink:show=\"new\" xlink:title=\"psysml:2de2cbdc-62e6-485a-a7d2-bee7f587f60d\" xlink:type=\"simple\"><rect fill=\"#FFFFFF\" height=\"45.9375\" id=\"E4\" rx=\"10\" ry=\"10\" style=\"stroke: #383838; stroke-width: 1.5;\" width=\"42\" x=\"625\" y=\"62\"/><text fill=\"#000000\" font-family=\"sans-serif\" font-size=\"12\" font-style=\"italic\" lengthAdjust=\"spacingAndGlyphs\" textLength=\"40\" x=\"626\" y=\"78.1387\">«part»</text><text fill=\"#000000\" font-family=\"sans-serif\" font-size=\"12\" lengthAdjust=\"spacingAndGlyphs\" textLength=\"8\" x=\"642\" y=\"92.1074\">a</text><line style=\"stroke: #383838; stroke-width: 1.5;\" x1=\"626\" x2=\"666\" y1=\"99.9375\" y2=\"99.9375\"/></a><!--MD5=[270fce915f116d4de14055a7c1d9a0f3]\n",
       "class E5--><a href=\"psysml:a47b2c6e-81dd-4a7f-97e2-f2f751620c17\" target=\"_top\" title=\"psysml:a47b2c6e-81dd-4a7f-97e2-f2f751620c17\" xlink:actuate=\"onRequest\" xlink:href=\"psysml:a47b2c6e-81dd-4a7f-97e2-f2f751620c17\" xlink:show=\"new\" xlink:title=\"psysml:a47b2c6e-81dd-4a7f-97e2-f2f751620c17\" xlink:type=\"simple\"><rect fill=\"#FFFFFF\" height=\"45.9375\" id=\"E5\" rx=\"10\" ry=\"10\" style=\"stroke: #383838; stroke-width: 1.5;\" width=\"42\" x=\"548\" y=\"62\"/><text fill=\"#000000\" font-family=\"sans-serif\" font-size=\"12\" font-style=\"italic\" lengthAdjust=\"spacingAndGlyphs\" textLength=\"40\" x=\"549\" y=\"78.1387\">«part»</text><text fill=\"#000000\" font-family=\"sans-serif\" font-size=\"12\" lengthAdjust=\"spacingAndGlyphs\" textLength=\"24\" x=\"557\" y=\"92.1074\">b: P</text><line style=\"stroke: #383838; stroke-width: 1.5;\" x1=\"549\" x2=\"589\" y1=\"99.9375\" y2=\"99.9375\"/></a><!--MD5=[60a26617385b1d2d0262a64233df1f8d]\n",
       "class E6--><a href=\"psysml:46e4b238-da26-40c7-b1f6-d3a4f2631481\" target=\"_top\" title=\"psysml:46e4b238-da26-40c7-b1f6-d3a4f2631481\" xlink:actuate=\"onRequest\" xlink:href=\"psysml:46e4b238-da26-40c7-b1f6-d3a4f2631481\" xlink:show=\"new\" xlink:title=\"psysml:46e4b238-da26-40c7-b1f6-d3a4f2631481\" xlink:type=\"simple\"><rect fill=\"#FFFFFF\" height=\"45.9375\" id=\"E6\" rx=\"10\" ry=\"10\" style=\"stroke: #383838; stroke-width: 1.5;\" width=\"42\" x=\"471\" y=\"62\"/><text fill=\"#000000\" font-family=\"sans-serif\" font-size=\"12\" font-style=\"italic\" lengthAdjust=\"spacingAndGlyphs\" textLength=\"40\" x=\"472\" y=\"78.1387\">«part»</text><text fill=\"#000000\" font-family=\"sans-serif\" font-size=\"12\" lengthAdjust=\"spacingAndGlyphs\" textLength=\"23\" x=\"480.5\" y=\"92.1074\">c: P</text><line style=\"stroke: #383838; stroke-width: 1.5;\" x1=\"472\" x2=\"512\" y1=\"99.9375\" y2=\"99.9375\"/></a><!--MD5=[2156ba9850f5573cc1fc38a6a4b2f02b]\n",
       "class E7--><a href=\"psysml:862abcb1-d094-4d1f-a90d-b0af915cd2bb\" target=\"_top\" title=\"psysml:862abcb1-d094-4d1f-a90d-b0af915cd2bb\" xlink:actuate=\"onRequest\" xlink:href=\"psysml:862abcb1-d094-4d1f-a90d-b0af915cd2bb\" xlink:show=\"new\" xlink:title=\"psysml:862abcb1-d094-4d1f-a90d-b0af915cd2bb\" xlink:type=\"simple\"><rect fill=\"#FFFFFF\" height=\"45.9375\" id=\"E7\" rx=\"10\" ry=\"10\" style=\"stroke: #383838; stroke-width: 1.5;\" width=\"42\" x=\"394\" y=\"62\"/><text fill=\"#000000\" font-family=\"sans-serif\" font-size=\"12\" font-style=\"italic\" lengthAdjust=\"spacingAndGlyphs\" textLength=\"40\" x=\"395\" y=\"78.1387\">«part»</text><text fill=\"#000000\" font-family=\"sans-serif\" font-size=\"12\" lengthAdjust=\"spacingAndGlyphs\" textLength=\"8\" x=\"411\" y=\"92.1074\">d</text><line style=\"stroke: #383838; stroke-width: 1.5;\" x1=\"395\" x2=\"435\" y1=\"99.9375\" y2=\"99.9375\"/></a><!--MD5=[b9389687b975829384b498ac4b7476b2]\n",
       "class E8--><a href=\"psysml:0f8b0aa8-e59b-4cfe-b590-8672d08a4434\" target=\"_top\" title=\"psysml:0f8b0aa8-e59b-4cfe-b590-8672d08a4434\" xlink:actuate=\"onRequest\" xlink:href=\"psysml:0f8b0aa8-e59b-4cfe-b590-8672d08a4434\" xlink:show=\"new\" xlink:title=\"psysml:0f8b0aa8-e59b-4cfe-b590-8672d08a4434\" xlink:type=\"simple\"><rect fill=\"#FFFFFF\" height=\"45.9375\" id=\"E8\" rx=\"10\" ry=\"10\" style=\"stroke: #383838; stroke-width: 1.5;\" width=\"42\" x=\"317\" y=\"62\"/><text fill=\"#000000\" font-family=\"sans-serif\" font-size=\"12\" font-style=\"italic\" lengthAdjust=\"spacingAndGlyphs\" textLength=\"40\" x=\"318\" y=\"78.1387\">«part»</text><text fill=\"#000000\" font-family=\"sans-serif\" font-size=\"12\" lengthAdjust=\"spacingAndGlyphs\" textLength=\"8\" x=\"334\" y=\"92.1074\">e</text><line style=\"stroke: #383838; stroke-width: 1.5;\" x1=\"318\" x2=\"358\" y1=\"99.9375\" y2=\"99.9375\"/></a><!--MD5=[fd4143e9d270a159db93a4ea2a975926]\n",
       "class E9--><a href=\"psysml:07bb6063-49af-4acb-bb76-a6a51f542bf8\" target=\"_top\" title=\"psysml:07bb6063-49af-4acb-bb76-a6a51f542bf8\" xlink:actuate=\"onRequest\" xlink:href=\"psysml:07bb6063-49af-4acb-bb76-a6a51f542bf8\" xlink:show=\"new\" xlink:title=\"psysml:07bb6063-49af-4acb-bb76-a6a51f542bf8\" xlink:type=\"simple\"><rect fill=\"#FFFFFF\" height=\"45.9375\" id=\"E9\" rx=\"10\" ry=\"10\" style=\"stroke: #383838; stroke-width: 1.5;\" width=\"42\" x=\"240\" y=\"62\"/><text fill=\"#000000\" font-family=\"sans-serif\" font-size=\"12\" font-style=\"italic\" lengthAdjust=\"spacingAndGlyphs\" textLength=\"40\" x=\"241\" y=\"78.1387\">«part»</text><text fill=\"#000000\" font-family=\"sans-serif\" font-size=\"12\" lengthAdjust=\"spacingAndGlyphs\" textLength=\"4\" x=\"259\" y=\"92.1074\">f</text><line style=\"stroke: #383838; stroke-width: 1.5;\" x1=\"241\" x2=\"281\" y1=\"99.9375\" y2=\"99.9375\"/></a><!--MD5=[96f4274e9e20536e775497830990834d]\n",
       "class E10--><a href=\"psysml:87a6ec87-e214-496f-a09f-1f6dfd597ed3\" target=\"_top\" title=\"psysml:87a6ec87-e214-496f-a09f-1f6dfd597ed3\" xlink:actuate=\"onRequest\" xlink:href=\"psysml:87a6ec87-e214-496f-a09f-1f6dfd597ed3\" xlink:show=\"new\" xlink:title=\"psysml:87a6ec87-e214-496f-a09f-1f6dfd597ed3\" xlink:type=\"simple\"><rect fill=\"#FFFFFF\" height=\"45.9375\" id=\"E10\" rx=\"10\" ry=\"10\" style=\"stroke: #383838; stroke-width: 1.5;\" width=\"42\" x=\"163\" y=\"62\"/><text fill=\"#000000\" font-family=\"sans-serif\" font-size=\"12\" font-style=\"italic\" lengthAdjust=\"spacingAndGlyphs\" textLength=\"40\" x=\"164\" y=\"78.1387\">«part»</text><text fill=\"#000000\" font-family=\"sans-serif\" font-size=\"12\" lengthAdjust=\"spacingAndGlyphs\" textLength=\"8\" x=\"180\" y=\"92.1074\">g</text><line style=\"stroke: #383838; stroke-width: 1.5;\" x1=\"164\" x2=\"204\" y1=\"99.9375\" y2=\"99.9375\"/></a><!--MD5=[1dd1bfd58a279cf63c5f349dbc8fc6a1]\n",
       "class E11--><a href=\"psysml:423769db-1814-486c-a3b1-3214b1eae655\" target=\"_top\" title=\"psysml:423769db-1814-486c-a3b1-3214b1eae655\" xlink:actuate=\"onRequest\" xlink:href=\"psysml:423769db-1814-486c-a3b1-3214b1eae655\" xlink:show=\"new\" xlink:title=\"psysml:423769db-1814-486c-a3b1-3214b1eae655\" xlink:type=\"simple\"><rect fill=\"#FFFFFF\" height=\"88.3516\" id=\"E11\" style=\"stroke: #383838; stroke-width: 1.5;\" width=\"95\" x=\"32.5\" y=\"41\"/><text fill=\"#000000\" font-family=\"sans-serif\" font-size=\"12\" font-style=\"italic\" lengthAdjust=\"spacingAndGlyphs\" textLength=\"93\" x=\"33.5\" y=\"57.1387\">«attribute def»</text><text fill=\"#000000\" font-family=\"sans-serif\" font-size=\"12\" lengthAdjust=\"spacingAndGlyphs\" textLength=\"8\" x=\"76\" y=\"71.1074\">A</text><line style=\"stroke: #383838; stroke-width: 1.5;\" x1=\"33.5\" x2=\"126.5\" y1=\"78.9375\" y2=\"78.9375\"/><text fill=\"#000000\" font-family=\"sans-serif\" font-size=\"11\" lengthAdjust=\"spacingAndGlyphs\" textLength=\"51\" x=\"38.5\" y=\"109.9526\">i: Integer</text><text fill=\"#000000\" font-family=\"sans-serif\" font-size=\"11\" lengthAdjust=\"spacingAndGlyphs\" textLength=\"21\" x=\"38.5\" y=\"122.7573\">x: A</text><line style=\"stroke: #383838; stroke-width: 1.0;\" x1=\"33.5\" x2=\"52.5\" y1=\"93.3398\" y2=\"93.3398\"/><text fill=\"#000000\" font-family=\"sans-serif\" font-size=\"11\" lengthAdjust=\"spacingAndGlyphs\" textLength=\"55\" x=\"52.5\" y=\"96.6479\">attributes</text><line style=\"stroke: #383838; stroke-width: 1.0;\" x1=\"107.5\" x2=\"126.5\" y1=\"93.3398\" y2=\"93.3398\"/></a><!--MD5=[15ebcb19ae302d9b601edb458606d402]\n",
       "link E5 to E2--><a href=\"psysml:56ee8f03-05cc-4672-92a5-af5f15d564f5\" target=\"_top\" title=\"psysml:56ee8f03-05cc-4672-92a5-af5f15d564f5\" xlink:actuate=\"onRequest\" xlink:href=\"psysml:56ee8f03-05cc-4672-92a5-af5f15d564f5\" xlink:show=\"new\" xlink:title=\"psysml:56ee8f03-05cc-4672-92a5-af5f15d564f5\" xlink:type=\"simple\"><path d=\"M555.5,108.29 C555.5,108.29 555.5,168.85 555.5,168.85 \" fill=\"none\" id=\"E5-&gt;E2\" style=\"stroke: #383838; stroke-width: 1.0;\"/><polygon fill=\"#FFFFFF\" points=\"555.5,188.85,548.5,169.85,562.5,169.85,555.5,188.85\" style=\"stroke: #383838; stroke-width: 1.0;\"/><ellipse cx=\"550.5\" cy=\"164.15\" fill=\"#383838\" rx=\"2\" ry=\"2\" style=\"stroke: #383838; stroke-width: 1.0;\"/><ellipse cx=\"560.5\" cy=\"164.15\" fill=\"#383838\" rx=\"2\" ry=\"2\" style=\"stroke: #383838; stroke-width: 1.0;\"/></a><!--MD5=[2351f337d6de0f557b50152ba70847b5]\n",
       "link E6 to E2--><a href=\"psysml:34caeea3-9e32-4456-be5b-df49f4f1b3a4\" target=\"_top\" title=\"psysml:34caeea3-9e32-4456-be5b-df49f4f1b3a4\" xlink:actuate=\"onRequest\" xlink:href=\"psysml:34caeea3-9e32-4456-be5b-df49f4f1b3a4\" xlink:show=\"new\" xlink:title=\"psysml:34caeea3-9e32-4456-be5b-df49f4f1b3a4\" xlink:type=\"simple\"><path d=\"M505,108.29 C505,108.29 505,168.85 505,168.85 \" fill=\"none\" id=\"E6-&gt;E2\" style=\"stroke: #383838; stroke-width: 1.0;\"/><polygon fill=\"#FFFFFF\" points=\"505,188.85,498,169.85,512,169.85,505,188.85\" style=\"stroke: #383838; stroke-width: 1.0;\"/><ellipse cx=\"500\" cy=\"164.15\" fill=\"#383838\" rx=\"2\" ry=\"2\" style=\"stroke: #383838; stroke-width: 1.0;\"/><ellipse cx=\"510\" cy=\"164.15\" fill=\"#383838\" rx=\"2\" ry=\"2\" style=\"stroke: #383838; stroke-width: 1.0;\"/></a><!--MD5=[5fadc96ebb3322cd799a6b7305a4e34e]\n",
       "@startuml\r\n",
       "skinparam linetype ortho\r\n",
       "skinparam monochrome true\r\n",
       "skinparam classbackgroundcolor white\r\n",
       "skinparam shadowing false\r\n",
       "skinparam wrapWidth 300\r\n",
       "hide circle\r\n",
       "\r\n",
       "package \"MultiplicityTest\" as E1  [[psysml:917c8e98-308c-4a57-bedc-72bb13927275 ]]  {\r\n",
       "comp def \"P\" as E2  <<(T,blue) part def>> [[psysml:1b8e2ab6-001b-4483-8406-5463ddd95a77 ]] {\r\n",
       "}\r\n",
       "comp usage \"n: Integer\" as E3  <<(T,blue) attribute>> [[psysml:d0e8f829-c575-44a2-9ede-b108238de40c ]] {\r\n",
       "}\r\n",
       "comp usage \"a\" as E4  <<(T,blue) part>> [[psysml:2de2cbdc-62e6-485a-a7d2-bee7f587f60d ]] {\r\n",
       "}\r\n",
       "comp usage \"b: P\" as E5  <<(T,blue) part>> [[psysml:a47b2c6e-81dd-4a7f-97e2-f2f751620c17 ]] {\r\n",
       "}\r\n",
       "comp usage \"c: P\" as E6  <<(T,blue) part>> [[psysml:46e4b238-da26-40c7-b1f6-d3a4f2631481 ]] {\r\n",
       "}\r\n",
       "comp usage \"d\" as E7  <<(T,blue) part>> [[psysml:862abcb1-d094-4d1f-a90d-b0af915cd2bb ]] {\r\n",
       "}\r\n",
       "comp usage \"e\" as E8  <<(T,blue) part>> [[psysml:0f8b0aa8-e59b-4cfe-b590-8672d08a4434 ]] {\r\n",
       "}\r\n",
       "comp usage \"f\" as E9  <<(T,blue) part>> [[psysml:07bb6063-49af-4acb-bb76-a6a51f542bf8 ]] {\r\n",
       "}\r\n",
       "comp usage \"g\" as E10  <<(T,blue) part>> [[psysml:87a6ec87-e214-496f-a09f-1f6dfd597ed3 ]] {\r\n",
       "}\r\n",
       "comp def \"A\" as E11  <<(T,blue) attribute def>> [[psysml:423769db-1814-486c-a3b1-3214b1eae655 ]] {\r\n",
       "- - attributes - -\r\n",
       "i: Integer\r\n",
       "x: A\r\n",
       "}\r\n",
       "}\r\n",
       "E5 - -:|> E2 [[psysml:56ee8f03-05cc-4672-92a5-af5f15d564f5 ]] \r\n",
       "E6 - -:|> E2 [[psysml:34caeea3-9e32-4456-be5b-df49f4f1b3a4 ]] \r\n",
       "@enduml\r\n",
       "\n",
       "PlantUML version 1.2020.13(Sat Jun 13 12:26:38 UTC 2020)\n",
       "(EPL source distribution)\n",
       "Java Runtime: OpenJDK Runtime Environment\n",
       "JVM: OpenJDK 64-Bit Server VM\n",
       "Default Encoding: UTF-8\n",
       "Language: en\n",
       "Country: null\n",
       "--></g></svg>"
      ]
     },
     "execution_count": 52,
     "metadata": {},
     "output_type": "execute_result"
    }
   ],
   "source": [
    "%viz --style=\"ORTHOLINE\" --view=\"Tree\" \"MultiplicityTest\""
   ]
  },
  {
   "cell_type": "code",
   "execution_count": 53,
   "id": "e962f1d9",
   "metadata": {
    "execution": {
     "iopub.execute_input": "2021-10-03T08:30:22.716010Z",
     "iopub.status.busy": "2021-10-03T08:30:22.715610Z",
     "iopub.status.idle": "2021-10-03T08:30:22.720589Z",
     "shell.execute_reply": "2021-10-03T08:30:22.720264Z"
    }
   },
   "outputs": [
    {
     "data": {
      "image/svg+xml": [
       "<?xml version=\"1.0\" encoding=\"UTF-8\" standalone=\"no\"?><svg xmlns=\"http://www.w3.org/2000/svg\" xmlns:xlink=\"http://www.w3.org/1999/xlink\" contentScriptType=\"application/ecmascript\" contentStyleType=\"text/css\" height=\"12px\" preserveAspectRatio=\"none\" style=\"width:12px;height:12px;\" version=\"1.1\" viewBox=\"0 0 12 12\" width=\"12px\" zoomAndPan=\"magnify\"><defs/><g><!--MD5=[97d6f38768b311333d388e66b2b27985]\n",
       "@startuml\r\n",
       "skinparam linetype ortho\r\n",
       "skinparam monochrome true\r\n",
       "skinparam classbackgroundcolor white\r\n",
       "skinparam shadowing false\r\n",
       "skinparam wrapWidth 300\r\n",
       "hide circle\r\n",
       "\r\n",
       "@enduml\r\n",
       "\n",
       "PlantUML version 1.2020.13(Sat Jun 13 12:26:38 UTC 2020)\n",
       "(EPL source distribution)\n",
       "Java Runtime: OpenJDK Runtime Environment\n",
       "JVM: OpenJDK 64-Bit Server VM\n",
       "Default Encoding: UTF-8\n",
       "Language: en\n",
       "Country: null\n",
       "--></g></svg>"
      ]
     },
     "execution_count": 53,
     "metadata": {},
     "output_type": "execute_result"
    }
   ],
   "source": [
    "%viz --style=\"ORTHOLINE\" --view=\"State\" \"MultiplicityTest\""
   ]
  },
  {
   "cell_type": "code",
   "execution_count": 54,
   "id": "e76c791a",
   "metadata": {
    "execution": {
     "iopub.execute_input": "2021-10-03T08:30:22.769932Z",
     "iopub.status.busy": "2021-10-03T08:30:22.769543Z",
     "iopub.status.idle": "2021-10-03T08:30:22.799240Z",
     "shell.execute_reply": "2021-10-03T08:30:22.797272Z"
    }
   },
   "outputs": [
    {
     "data": {
      "image/svg+xml": [
       "<?xml version=\"1.0\" encoding=\"UTF-8\" standalone=\"no\"?><svg xmlns=\"http://www.w3.org/2000/svg\" xmlns:xlink=\"http://www.w3.org/1999/xlink\" contentScriptType=\"application/ecmascript\" contentStyleType=\"text/css\" height=\"115px\" preserveAspectRatio=\"none\" style=\"width:979px;height:115px;\" version=\"1.1\" viewBox=\"0 0 979 115\" width=\"979px\" zoomAndPan=\"magnify\"><defs/><g><!--MD5=[fbc87193dbaf4d95561dea2c320d4a47]\n",
       "cluster E1--><a href=\"psysml:917c8e98-308c-4a57-bedc-72bb13927275\" target=\"_top\" title=\"psysml:917c8e98-308c-4a57-bedc-72bb13927275\" xlink:actuate=\"onRequest\" xlink:href=\"psysml:917c8e98-308c-4a57-bedc-72bb13927275\" xlink:show=\"new\" xlink:title=\"psysml:917c8e98-308c-4a57-bedc-72bb13927275\" xlink:type=\"simple\"><polygon fill=\"#FFFFFF\" points=\"16,6,123,6,130,28.2969,957,28.2969,957,103,16,103,16,6\" style=\"stroke: #000000; stroke-width: 1.5;\"/><line style=\"stroke: #000000; stroke-width: 1.5;\" x1=\"16\" x2=\"130\" y1=\"28.2969\" y2=\"28.2969\"/><text fill=\"#000000\" font-family=\"sans-serif\" font-size=\"14\" font-weight=\"bold\" lengthAdjust=\"spacingAndGlyphs\" textLength=\"101\" x=\"20\" y=\"20.9951\">MultiplicityTest</text></a><!--MD5=[09b614a08d8cba4a07c9adeb5e0fee81]\n",
       "class E3--><a href=\"psysml:d0e8f829-c575-44a2-9ede-b108238de40c\" target=\"_top\" title=\"psysml:d0e8f829-c575-44a2-9ede-b108238de40c\" xlink:actuate=\"onRequest\" xlink:href=\"psysml:d0e8f829-c575-44a2-9ede-b108238de40c\" xlink:show=\"new\" xlink:title=\"psysml:d0e8f829-c575-44a2-9ede-b108238de40c\" xlink:type=\"simple\"><rect fill=\"#FFFFFF\" height=\"45.9375\" id=\"E3\" rx=\"10\" ry=\"10\" style=\"stroke: #383838; stroke-width: 1.5;\" width=\"71\" x=\"869.5\" y=\"41\"/><text fill=\"#000000\" font-family=\"sans-serif\" font-size=\"12\" font-style=\"italic\" lengthAdjust=\"spacingAndGlyphs\" textLength=\"69\" x=\"870.5\" y=\"57.1387\">«attribute»</text><text fill=\"#000000\" font-family=\"sans-serif\" font-size=\"12\" lengthAdjust=\"spacingAndGlyphs\" textLength=\"61\" x=\"874.5\" y=\"71.1074\">n: Integer</text><line style=\"stroke: #383838; stroke-width: 1.5;\" x1=\"870.5\" x2=\"939.5\" y1=\"78.9375\" y2=\"78.9375\"/></a><g id=\"E1.E11\"><a href=\"psysml:423769db-1814-486c-a3b1-3214b1eae655\" target=\"_top\" title=\"psysml:423769db-1814-486c-a3b1-3214b1eae655\" xlink:actuate=\"onRequest\" xlink:href=\"psysml:423769db-1814-486c-a3b1-3214b1eae655\" xlink:show=\"new\" xlink:title=\"psysml:423769db-1814-486c-a3b1-3214b1eae655\" xlink:type=\"simple\"><rect fill=\"#FFFFFF\" height=\"42.9375\" id=\"E11\" style=\"stroke: #383838; stroke-width: 1.5;\" width=\"100\" x=\"734\" y=\"42.5\"/><rect fill=\"#F8F8F8\" height=\"37.9375\" style=\"stroke: #383838; stroke-width: 1.5;\" width=\"100\" x=\"734\" y=\"42.5\"/><text fill=\"#000000\" font-family=\"sans-serif\" font-size=\"12\" font-style=\"italic\" lengthAdjust=\"spacingAndGlyphs\" textLength=\"93\" x=\"737.5\" y=\"58.6387\">«attribute def»</text><text fill=\"#000000\" font-family=\"sans-serif\" font-size=\"12\" lengthAdjust=\"spacingAndGlyphs\" textLength=\"8\" x=\"780\" y=\"72.6074\">A</text></a></g><g id=\"E1.E2\"><a href=\"psysml:1b8e2ab6-001b-4483-8406-5463ddd95a77\" target=\"_top\" title=\"psysml:1b8e2ab6-001b-4483-8406-5463ddd95a77\" xlink:actuate=\"onRequest\" xlink:href=\"psysml:1b8e2ab6-001b-4483-8406-5463ddd95a77\" xlink:show=\"new\" xlink:title=\"psysml:1b8e2ab6-001b-4483-8406-5463ddd95a77\" xlink:type=\"simple\"><rect fill=\"#FFFFFF\" height=\"42.9375\" id=\"E2\" style=\"stroke: #383838; stroke-width: 1.5;\" width=\"71\" x=\"627.5\" y=\"42.5\"/><rect fill=\"#F8F8F8\" height=\"37.9375\" style=\"stroke: #383838; stroke-width: 1.5;\" width=\"71\" x=\"627.5\" y=\"42.5\"/><text fill=\"#000000\" font-family=\"sans-serif\" font-size=\"12\" font-style=\"italic\" lengthAdjust=\"spacingAndGlyphs\" textLength=\"64\" x=\"631\" y=\"58.6387\">«part def»</text><text fill=\"#000000\" font-family=\"sans-serif\" font-size=\"12\" lengthAdjust=\"spacingAndGlyphs\" textLength=\"8\" x=\"659\" y=\"72.6074\">P</text></a></g><g id=\"E1.E4\"><a href=\"psysml:2de2cbdc-62e6-485a-a7d2-bee7f587f60d\" target=\"_top\" title=\"psysml:2de2cbdc-62e6-485a-a7d2-bee7f587f60d\" xlink:actuate=\"onRequest\" xlink:href=\"psysml:2de2cbdc-62e6-485a-a7d2-bee7f587f60d\" xlink:show=\"new\" xlink:title=\"psysml:2de2cbdc-62e6-485a-a7d2-bee7f587f60d\" xlink:type=\"simple\"><rect fill=\"#FFFFFF\" height=\"40\" id=\"E4\" rx=\"10\" ry=\"10\" style=\"stroke: #383838; stroke-width: 1.5;\" width=\"50\" x=\"542\" y=\"44\"/><rect fill=\"#F8F8F8\" height=\"23.9688\" rx=\"10\" ry=\"10\" style=\"stroke: #F8F8F8; stroke-width: 1.5;\" width=\"50\" x=\"542\" y=\"44\"/><rect fill=\"#F8F8F8\" height=\"10\" style=\"stroke: #F8F8F8; stroke-width: 1.5;\" width=\"50\" x=\"542\" y=\"57.9688\"/><rect fill=\"none\" height=\"40\" id=\"E4\" rx=\"10\" ry=\"10\" style=\"stroke: #383838; stroke-width: 1.5;\" width=\"50\" x=\"542\" y=\"44\"/><text fill=\"#000000\" font-family=\"sans-serif\" font-size=\"12\" lengthAdjust=\"spacingAndGlyphs\" textLength=\"8\" x=\"563\" y=\"60.1387\">a</text></a></g><g id=\"E1.E5\"><a href=\"psysml:a47b2c6e-81dd-4a7f-97e2-f2f751620c17\" target=\"_top\" title=\"psysml:a47b2c6e-81dd-4a7f-97e2-f2f751620c17\" xlink:actuate=\"onRequest\" xlink:href=\"psysml:a47b2c6e-81dd-4a7f-97e2-f2f751620c17\" xlink:show=\"new\" xlink:title=\"psysml:a47b2c6e-81dd-4a7f-97e2-f2f751620c17\" xlink:type=\"simple\"><rect fill=\"#FFFFFF\" height=\"40\" id=\"E5\" rx=\"10\" ry=\"10\" style=\"stroke: #383838; stroke-width: 1.5;\" width=\"50\" x=\"457\" y=\"44\"/><rect fill=\"#F8F8F8\" height=\"23.9688\" rx=\"10\" ry=\"10\" style=\"stroke: #F8F8F8; stroke-width: 1.5;\" width=\"50\" x=\"457\" y=\"44\"/><rect fill=\"#F8F8F8\" height=\"10\" style=\"stroke: #F8F8F8; stroke-width: 1.5;\" width=\"50\" x=\"457\" y=\"57.9688\"/><rect fill=\"none\" height=\"40\" id=\"E5\" rx=\"10\" ry=\"10\" style=\"stroke: #383838; stroke-width: 1.5;\" width=\"50\" x=\"457\" y=\"44\"/><text fill=\"#000000\" font-family=\"sans-serif\" font-size=\"12\" lengthAdjust=\"spacingAndGlyphs\" textLength=\"24\" x=\"470\" y=\"60.1387\">b: P</text></a></g><g id=\"E1.E6\"><a href=\"psysml:46e4b238-da26-40c7-b1f6-d3a4f2631481\" target=\"_top\" title=\"psysml:46e4b238-da26-40c7-b1f6-d3a4f2631481\" xlink:actuate=\"onRequest\" xlink:href=\"psysml:46e4b238-da26-40c7-b1f6-d3a4f2631481\" xlink:show=\"new\" xlink:title=\"psysml:46e4b238-da26-40c7-b1f6-d3a4f2631481\" xlink:type=\"simple\"><rect fill=\"#FFFFFF\" height=\"40\" id=\"E6\" rx=\"10\" ry=\"10\" style=\"stroke: #383838; stroke-width: 1.5;\" width=\"50\" x=\"372\" y=\"44\"/><rect fill=\"#F8F8F8\" height=\"23.9688\" rx=\"10\" ry=\"10\" style=\"stroke: #F8F8F8; stroke-width: 1.5;\" width=\"50\" x=\"372\" y=\"44\"/><rect fill=\"#F8F8F8\" height=\"10\" style=\"stroke: #F8F8F8; stroke-width: 1.5;\" width=\"50\" x=\"372\" y=\"57.9688\"/><rect fill=\"none\" height=\"40\" id=\"E6\" rx=\"10\" ry=\"10\" style=\"stroke: #383838; stroke-width: 1.5;\" width=\"50\" x=\"372\" y=\"44\"/><text fill=\"#000000\" font-family=\"sans-serif\" font-size=\"12\" lengthAdjust=\"spacingAndGlyphs\" textLength=\"23\" x=\"385.5\" y=\"60.1387\">c: P</text></a></g><g id=\"E1.E7\"><a href=\"psysml:862abcb1-d094-4d1f-a90d-b0af915cd2bb\" target=\"_top\" title=\"psysml:862abcb1-d094-4d1f-a90d-b0af915cd2bb\" xlink:actuate=\"onRequest\" xlink:href=\"psysml:862abcb1-d094-4d1f-a90d-b0af915cd2bb\" xlink:show=\"new\" xlink:title=\"psysml:862abcb1-d094-4d1f-a90d-b0af915cd2bb\" xlink:type=\"simple\"><rect fill=\"#FFFFFF\" height=\"40\" id=\"E7\" rx=\"10\" ry=\"10\" style=\"stroke: #383838; stroke-width: 1.5;\" width=\"50\" x=\"287\" y=\"44\"/><rect fill=\"#F8F8F8\" height=\"23.9688\" rx=\"10\" ry=\"10\" style=\"stroke: #F8F8F8; stroke-width: 1.5;\" width=\"50\" x=\"287\" y=\"44\"/><rect fill=\"#F8F8F8\" height=\"10\" style=\"stroke: #F8F8F8; stroke-width: 1.5;\" width=\"50\" x=\"287\" y=\"57.9688\"/><rect fill=\"none\" height=\"40\" id=\"E7\" rx=\"10\" ry=\"10\" style=\"stroke: #383838; stroke-width: 1.5;\" width=\"50\" x=\"287\" y=\"44\"/><text fill=\"#000000\" font-family=\"sans-serif\" font-size=\"12\" lengthAdjust=\"spacingAndGlyphs\" textLength=\"8\" x=\"308\" y=\"60.1387\">d</text></a></g><g id=\"E1.E8\"><a href=\"psysml:0f8b0aa8-e59b-4cfe-b590-8672d08a4434\" target=\"_top\" title=\"psysml:0f8b0aa8-e59b-4cfe-b590-8672d08a4434\" xlink:actuate=\"onRequest\" xlink:href=\"psysml:0f8b0aa8-e59b-4cfe-b590-8672d08a4434\" xlink:show=\"new\" xlink:title=\"psysml:0f8b0aa8-e59b-4cfe-b590-8672d08a4434\" xlink:type=\"simple\"><rect fill=\"#FFFFFF\" height=\"40\" id=\"E8\" rx=\"10\" ry=\"10\" style=\"stroke: #383838; stroke-width: 1.5;\" width=\"50\" x=\"202\" y=\"44\"/><rect fill=\"#F8F8F8\" height=\"23.9688\" rx=\"10\" ry=\"10\" style=\"stroke: #F8F8F8; stroke-width: 1.5;\" width=\"50\" x=\"202\" y=\"44\"/><rect fill=\"#F8F8F8\" height=\"10\" style=\"stroke: #F8F8F8; stroke-width: 1.5;\" width=\"50\" x=\"202\" y=\"57.9688\"/><rect fill=\"none\" height=\"40\" id=\"E8\" rx=\"10\" ry=\"10\" style=\"stroke: #383838; stroke-width: 1.5;\" width=\"50\" x=\"202\" y=\"44\"/><text fill=\"#000000\" font-family=\"sans-serif\" font-size=\"12\" lengthAdjust=\"spacingAndGlyphs\" textLength=\"8\" x=\"223\" y=\"60.1387\">e</text></a></g><g id=\"E1.E9\"><a href=\"psysml:07bb6063-49af-4acb-bb76-a6a51f542bf8\" target=\"_top\" title=\"psysml:07bb6063-49af-4acb-bb76-a6a51f542bf8\" xlink:actuate=\"onRequest\" xlink:href=\"psysml:07bb6063-49af-4acb-bb76-a6a51f542bf8\" xlink:show=\"new\" xlink:title=\"psysml:07bb6063-49af-4acb-bb76-a6a51f542bf8\" xlink:type=\"simple\"><rect fill=\"#FFFFFF\" height=\"40\" id=\"E9\" rx=\"10\" ry=\"10\" style=\"stroke: #383838; stroke-width: 1.5;\" width=\"50\" x=\"117\" y=\"44\"/><rect fill=\"#F8F8F8\" height=\"23.9688\" rx=\"10\" ry=\"10\" style=\"stroke: #F8F8F8; stroke-width: 1.5;\" width=\"50\" x=\"117\" y=\"44\"/><rect fill=\"#F8F8F8\" height=\"10\" style=\"stroke: #F8F8F8; stroke-width: 1.5;\" width=\"50\" x=\"117\" y=\"57.9688\"/><rect fill=\"none\" height=\"40\" id=\"E9\" rx=\"10\" ry=\"10\" style=\"stroke: #383838; stroke-width: 1.5;\" width=\"50\" x=\"117\" y=\"44\"/><text fill=\"#000000\" font-family=\"sans-serif\" font-size=\"12\" lengthAdjust=\"spacingAndGlyphs\" textLength=\"4\" x=\"140\" y=\"60.1387\">f</text></a></g><g id=\"E1.E10\"><a href=\"psysml:87a6ec87-e214-496f-a09f-1f6dfd597ed3\" target=\"_top\" title=\"psysml:87a6ec87-e214-496f-a09f-1f6dfd597ed3\" xlink:actuate=\"onRequest\" xlink:href=\"psysml:87a6ec87-e214-496f-a09f-1f6dfd597ed3\" xlink:show=\"new\" xlink:title=\"psysml:87a6ec87-e214-496f-a09f-1f6dfd597ed3\" xlink:type=\"simple\"><rect fill=\"#FFFFFF\" height=\"40\" id=\"E10\" rx=\"10\" ry=\"10\" style=\"stroke: #383838; stroke-width: 1.5;\" width=\"50\" x=\"32\" y=\"44\"/><rect fill=\"#F8F8F8\" height=\"23.9688\" rx=\"10\" ry=\"10\" style=\"stroke: #F8F8F8; stroke-width: 1.5;\" width=\"50\" x=\"32\" y=\"44\"/><rect fill=\"#F8F8F8\" height=\"10\" style=\"stroke: #F8F8F8; stroke-width: 1.5;\" width=\"50\" x=\"32\" y=\"57.9688\"/><rect fill=\"none\" height=\"40\" id=\"E10\" rx=\"10\" ry=\"10\" style=\"stroke: #383838; stroke-width: 1.5;\" width=\"50\" x=\"32\" y=\"44\"/><text fill=\"#000000\" font-family=\"sans-serif\" font-size=\"12\" lengthAdjust=\"spacingAndGlyphs\" textLength=\"8\" x=\"53\" y=\"60.1387\">g</text></a></g><!--MD5=[fc348d5df166f21f118cd312f8d4b3ba]\n",
       "@startuml\r\n",
       "skinparam ranksep 10\r\n",
       "skinparam rectangle {\r\n",
       " backgroundColor<<block>> LightGreen\r\n",
       "}\r\n",
       "skinparam linetype ortho\r\n",
       "skinparam monochrome true\r\n",
       "skinparam classbackgroundcolor white\r\n",
       "skinparam shadowing false\r\n",
       "skinparam wrapWidth 300\r\n",
       "hide circle\r\n",
       "\r\n",
       "package \"MultiplicityTest\" as E1  [[psysml:917c8e98-308c-4a57-bedc-72bb13927275 ]]  {\r\n",
       "rec def \"P\" as E2  <<(T,blue) part def>> [[psysml:1b8e2ab6-001b-4483-8406-5463ddd95a77 ]] {\r\n",
       "}\r\n",
       "comp usage \"n: Integer\" as E3  <<(T,blue) attribute>> [[psysml:d0e8f829-c575-44a2-9ede-b108238de40c ]] {\r\n",
       "}\r\n",
       "rec usage \"a\" as E4  [[psysml:2de2cbdc-62e6-485a-a7d2-bee7f587f60d ]] {\r\n",
       "}\r\n",
       "rec usage \"b: P\" as E5  [[psysml:a47b2c6e-81dd-4a7f-97e2-f2f751620c17 ]] {\r\n",
       "}\r\n",
       "rec usage \"c: P\" as E6  [[psysml:46e4b238-da26-40c7-b1f6-d3a4f2631481 ]] {\r\n",
       "}\r\n",
       "rec usage \"d\" as E7  [[psysml:862abcb1-d094-4d1f-a90d-b0af915cd2bb ]] {\r\n",
       "}\r\n",
       "rec usage \"e\" as E8  [[psysml:0f8b0aa8-e59b-4cfe-b590-8672d08a4434 ]] {\r\n",
       "}\r\n",
       "rec usage \"f\" as E9  [[psysml:07bb6063-49af-4acb-bb76-a6a51f542bf8 ]] {\r\n",
       "}\r\n",
       "rec usage \"g\" as E10  [[psysml:87a6ec87-e214-496f-a09f-1f6dfd597ed3 ]] {\r\n",
       "}\r\n",
       "def \"A\" as E11  <<(T,blue) attribute def>> [[psysml:423769db-1814-486c-a3b1-3214b1eae655 ]] \r\n",
       "}\r\n",
       "@enduml\r\n",
       "\n",
       "PlantUML version 1.2020.13(Sat Jun 13 12:26:38 UTC 2020)\n",
       "(EPL source distribution)\n",
       "Java Runtime: OpenJDK Runtime Environment\n",
       "JVM: OpenJDK 64-Bit Server VM\n",
       "Default Encoding: UTF-8\n",
       "Language: en\n",
       "Country: null\n",
       "--></g></svg>"
      ]
     },
     "execution_count": 54,
     "metadata": {},
     "output_type": "execute_result"
    }
   ],
   "source": [
    "%viz --style=\"ORTHOLINE\" --view=\"Interconnection\" \"MultiplicityTest\""
   ]
  },
  {
   "cell_type": "code",
   "execution_count": 55,
   "id": "3bdb957f",
   "metadata": {
    "execution": {
     "iopub.execute_input": "2021-10-03T08:30:22.848076Z",
     "iopub.status.busy": "2021-10-03T08:30:22.847672Z",
     "iopub.status.idle": "2021-10-03T08:30:22.852542Z",
     "shell.execute_reply": "2021-10-03T08:30:22.852200Z"
    }
   },
   "outputs": [
    {
     "data": {
      "image/svg+xml": [
       "<?xml version=\"1.0\" encoding=\"UTF-8\" standalone=\"no\"?><svg xmlns=\"http://www.w3.org/2000/svg\" xmlns:xlink=\"http://www.w3.org/1999/xlink\" contentScriptType=\"application/ecmascript\" contentStyleType=\"text/css\" height=\"12px\" preserveAspectRatio=\"none\" style=\"width:12px;height:12px;\" version=\"1.1\" viewBox=\"0 0 12 12\" width=\"12px\" zoomAndPan=\"magnify\"><defs/><g><!--MD5=[72934c63077099a26744516a776b4749]\n",
       "@startuml\r\n",
       "skinparam ranksep 8\r\n",
       "skinparam linetype ortho\r\n",
       "skinparam monochrome true\r\n",
       "skinparam classbackgroundcolor white\r\n",
       "skinparam shadowing false\r\n",
       "skinparam wrapWidth 300\r\n",
       "hide circle\r\n",
       "\r\n",
       "@enduml\r\n",
       "\n",
       "PlantUML version 1.2020.13(Sat Jun 13 12:26:38 UTC 2020)\n",
       "(EPL source distribution)\n",
       "Java Runtime: OpenJDK Runtime Environment\n",
       "JVM: OpenJDK 64-Bit Server VM\n",
       "Default Encoding: UTF-8\n",
       "Language: en\n",
       "Country: null\n",
       "--></g></svg>"
      ]
     },
     "execution_count": 55,
     "metadata": {},
     "output_type": "execute_result"
    }
   ],
   "source": [
    "%viz --style=\"ORTHOLINE\" --view=\"Action\" \"MultiplicityTest\""
   ]
  },
  {
   "cell_type": "code",
   "execution_count": 56,
   "id": "f1b1dd73",
   "metadata": {
    "execution": {
     "iopub.execute_input": "2021-10-03T08:30:22.901916Z",
     "iopub.status.busy": "2021-10-03T08:30:22.901521Z",
     "iopub.status.idle": "2021-10-03T08:30:22.906348Z",
     "shell.execute_reply": "2021-10-03T08:30:22.906003Z"
    }
   },
   "outputs": [
    {
     "data": {
      "image/svg+xml": [
       "<?xml version=\"1.0\" encoding=\"UTF-8\" standalone=\"no\"?><svg xmlns=\"http://www.w3.org/2000/svg\" xmlns:xlink=\"http://www.w3.org/1999/xlink\" contentScriptType=\"application/ecmascript\" contentStyleType=\"text/css\" height=\"12px\" preserveAspectRatio=\"none\" style=\"width:12px;height:12px;\" version=\"1.1\" viewBox=\"0 0 12 12\" width=\"12px\" zoomAndPan=\"magnify\"><defs/><g><!--MD5=[30fc1de5121c5abddedd55b44417fde8]\n",
       "@startuml\r\n",
       "skinparam roundcorner 20\r\n",
       "skinparam BoxPadding 20\r\n",
       "skinparam SequenceBoxBackgroundColor #white\r\n",
       "skinparam style strictuml\r\n",
       "skinparam maxMessageSize 100\r\n",
       "skinparam linetype ortho\r\n",
       "skinparam monochrome true\r\n",
       "skinparam classbackgroundcolor white\r\n",
       "skinparam shadowing false\r\n",
       "skinparam wrapWidth 300\r\n",
       "hide circle\r\n",
       "\r\n",
       "@enduml\r\n",
       "\n",
       "PlantUML version 1.2020.13(Sat Jun 13 12:26:38 UTC 2020)\n",
       "(EPL source distribution)\n",
       "Java Runtime: OpenJDK Runtime Environment\n",
       "JVM: OpenJDK 64-Bit Server VM\n",
       "Default Encoding: UTF-8\n",
       "Language: en\n",
       "Country: null\n",
       "--></g></svg>"
      ]
     },
     "execution_count": 56,
     "metadata": {},
     "output_type": "execute_result"
    }
   ],
   "source": [
    "%viz --style=\"ORTHOLINE\" --view=\"Sequence\" \"MultiplicityTest\""
   ]
  },
  {
   "cell_type": "code",
   "execution_count": 57,
   "id": "087cecf2",
   "metadata": {
    "execution": {
     "iopub.execute_input": "2021-10-03T08:30:22.955662Z",
     "iopub.status.busy": "2021-10-03T08:30:22.955270Z",
     "iopub.status.idle": "2021-10-03T08:30:23.008969Z",
     "shell.execute_reply": "2021-10-03T08:30:23.007272Z"
    }
   },
   "outputs": [
    {
     "data": {
      "image/svg+xml": [
       "<?xml version=\"1.0\" encoding=\"UTF-8\" standalone=\"no\"?><svg xmlns=\"http://www.w3.org/2000/svg\" xmlns:xlink=\"http://www.w3.org/1999/xlink\" contentScriptType=\"application/ecmascript\" contentStyleType=\"text/css\" height=\"263px\" preserveAspectRatio=\"none\" style=\"width:812px;height:263px;\" version=\"1.1\" viewBox=\"0 0 812 263\" width=\"812px\" zoomAndPan=\"magnify\"><defs/><g><!--MD5=[fbc87193dbaf4d95561dea2c320d4a47]\n",
       "cluster E1--><a href=\"psysml:917c8e98-308c-4a57-bedc-72bb13927275\" target=\"_top\" title=\"psysml:917c8e98-308c-4a57-bedc-72bb13927275\" xlink:actuate=\"onRequest\" xlink:href=\"psysml:917c8e98-308c-4a57-bedc-72bb13927275\" xlink:show=\"new\" xlink:title=\"psysml:917c8e98-308c-4a57-bedc-72bb13927275\" xlink:type=\"simple\"><polygon fill=\"#FFFFFF\" points=\"16,6,123,6,130,28.2969,790,28.2969,790,251,16,251,16,6\" style=\"stroke: #000000; stroke-width: 1.5;\"/><line style=\"stroke: #000000; stroke-width: 1.5;\" x1=\"16\" x2=\"130\" y1=\"28.2969\" y2=\"28.2969\"/><text fill=\"#000000\" font-family=\"sans-serif\" font-size=\"14\" font-weight=\"bold\" lengthAdjust=\"spacingAndGlyphs\" textLength=\"101\" x=\"20\" y=\"20.9951\">MultiplicityTest</text></a><!--MD5=[b4997ac47864f28c2f74865a473b2911]\n",
       "class E2--><a href=\"psysml:1b8e2ab6-001b-4483-8406-5463ddd95a77\" target=\"_top\" title=\"psysml:1b8e2ab6-001b-4483-8406-5463ddd95a77\" xlink:actuate=\"onRequest\" xlink:href=\"psysml:1b8e2ab6-001b-4483-8406-5463ddd95a77\" xlink:show=\"new\" xlink:title=\"psysml:1b8e2ab6-001b-4483-8406-5463ddd95a77\" xlink:type=\"simple\"><rect fill=\"#FFFFFF\" height=\"45.9375\" id=\"E2\" style=\"stroke: #383838; stroke-width: 1.5;\" width=\"66\" x=\"497\" y=\"189\"/><text fill=\"#000000\" font-family=\"sans-serif\" font-size=\"12\" font-style=\"italic\" lengthAdjust=\"spacingAndGlyphs\" textLength=\"64\" x=\"498\" y=\"205.1387\">«part def»</text><text fill=\"#000000\" font-family=\"sans-serif\" font-size=\"12\" lengthAdjust=\"spacingAndGlyphs\" textLength=\"8\" x=\"526\" y=\"219.1074\">P</text><line style=\"stroke: #383838; stroke-width: 1.5;\" x1=\"498\" x2=\"562\" y1=\"226.9375\" y2=\"226.9375\"/></a><!--MD5=[09b614a08d8cba4a07c9adeb5e0fee81]\n",
       "class E3--><a href=\"psysml:d0e8f829-c575-44a2-9ede-b108238de40c\" target=\"_top\" title=\"psysml:d0e8f829-c575-44a2-9ede-b108238de40c\" xlink:actuate=\"onRequest\" xlink:href=\"psysml:d0e8f829-c575-44a2-9ede-b108238de40c\" xlink:show=\"new\" xlink:title=\"psysml:d0e8f829-c575-44a2-9ede-b108238de40c\" xlink:type=\"simple\"><rect fill=\"#FFFFFF\" height=\"45.9375\" id=\"E3\" rx=\"10\" ry=\"10\" style=\"stroke: #383838; stroke-width: 1.5;\" width=\"71\" x=\"702.5\" y=\"62\"/><text fill=\"#000000\" font-family=\"sans-serif\" font-size=\"12\" font-style=\"italic\" lengthAdjust=\"spacingAndGlyphs\" textLength=\"69\" x=\"703.5\" y=\"78.1387\">«attribute»</text><text fill=\"#000000\" font-family=\"sans-serif\" font-size=\"12\" lengthAdjust=\"spacingAndGlyphs\" textLength=\"61\" x=\"707.5\" y=\"92.1074\">n: Integer</text><line style=\"stroke: #383838; stroke-width: 1.5;\" x1=\"703.5\" x2=\"772.5\" y1=\"99.9375\" y2=\"99.9375\"/></a><!--MD5=[ebbe1d658d1005bcc118a6aa81145e00]\n",
       "class E4--><a href=\"psysml:2de2cbdc-62e6-485a-a7d2-bee7f587f60d\" target=\"_top\" title=\"psysml:2de2cbdc-62e6-485a-a7d2-bee7f587f60d\" xlink:actuate=\"onRequest\" xlink:href=\"psysml:2de2cbdc-62e6-485a-a7d2-bee7f587f60d\" xlink:show=\"new\" xlink:title=\"psysml:2de2cbdc-62e6-485a-a7d2-bee7f587f60d\" xlink:type=\"simple\"><rect fill=\"#FFFFFF\" height=\"45.9375\" id=\"E4\" rx=\"10\" ry=\"10\" style=\"stroke: #383838; stroke-width: 1.5;\" width=\"42\" x=\"625\" y=\"62\"/><text fill=\"#000000\" font-family=\"sans-serif\" font-size=\"12\" font-style=\"italic\" lengthAdjust=\"spacingAndGlyphs\" textLength=\"40\" x=\"626\" y=\"78.1387\">«part»</text><text fill=\"#000000\" font-family=\"sans-serif\" font-size=\"12\" lengthAdjust=\"spacingAndGlyphs\" textLength=\"8\" x=\"642\" y=\"92.1074\">a</text><line style=\"stroke: #383838; stroke-width: 1.5;\" x1=\"626\" x2=\"666\" y1=\"99.9375\" y2=\"99.9375\"/></a><!--MD5=[270fce915f116d4de14055a7c1d9a0f3]\n",
       "class E5--><a href=\"psysml:a47b2c6e-81dd-4a7f-97e2-f2f751620c17\" target=\"_top\" title=\"psysml:a47b2c6e-81dd-4a7f-97e2-f2f751620c17\" xlink:actuate=\"onRequest\" xlink:href=\"psysml:a47b2c6e-81dd-4a7f-97e2-f2f751620c17\" xlink:show=\"new\" xlink:title=\"psysml:a47b2c6e-81dd-4a7f-97e2-f2f751620c17\" xlink:type=\"simple\"><rect fill=\"#FFFFFF\" height=\"45.9375\" id=\"E5\" rx=\"10\" ry=\"10\" style=\"stroke: #383838; stroke-width: 1.5;\" width=\"42\" x=\"548\" y=\"62\"/><text fill=\"#000000\" font-family=\"sans-serif\" font-size=\"12\" font-style=\"italic\" lengthAdjust=\"spacingAndGlyphs\" textLength=\"40\" x=\"549\" y=\"78.1387\">«part»</text><text fill=\"#000000\" font-family=\"sans-serif\" font-size=\"12\" lengthAdjust=\"spacingAndGlyphs\" textLength=\"24\" x=\"557\" y=\"92.1074\">b: P</text><line style=\"stroke: #383838; stroke-width: 1.5;\" x1=\"549\" x2=\"589\" y1=\"99.9375\" y2=\"99.9375\"/></a><!--MD5=[60a26617385b1d2d0262a64233df1f8d]\n",
       "class E6--><a href=\"psysml:46e4b238-da26-40c7-b1f6-d3a4f2631481\" target=\"_top\" title=\"psysml:46e4b238-da26-40c7-b1f6-d3a4f2631481\" xlink:actuate=\"onRequest\" xlink:href=\"psysml:46e4b238-da26-40c7-b1f6-d3a4f2631481\" xlink:show=\"new\" xlink:title=\"psysml:46e4b238-da26-40c7-b1f6-d3a4f2631481\" xlink:type=\"simple\"><rect fill=\"#FFFFFF\" height=\"45.9375\" id=\"E6\" rx=\"10\" ry=\"10\" style=\"stroke: #383838; stroke-width: 1.5;\" width=\"42\" x=\"471\" y=\"62\"/><text fill=\"#000000\" font-family=\"sans-serif\" font-size=\"12\" font-style=\"italic\" lengthAdjust=\"spacingAndGlyphs\" textLength=\"40\" x=\"472\" y=\"78.1387\">«part»</text><text fill=\"#000000\" font-family=\"sans-serif\" font-size=\"12\" lengthAdjust=\"spacingAndGlyphs\" textLength=\"23\" x=\"480.5\" y=\"92.1074\">c: P</text><line style=\"stroke: #383838; stroke-width: 1.5;\" x1=\"472\" x2=\"512\" y1=\"99.9375\" y2=\"99.9375\"/></a><!--MD5=[2156ba9850f5573cc1fc38a6a4b2f02b]\n",
       "class E7--><a href=\"psysml:862abcb1-d094-4d1f-a90d-b0af915cd2bb\" target=\"_top\" title=\"psysml:862abcb1-d094-4d1f-a90d-b0af915cd2bb\" xlink:actuate=\"onRequest\" xlink:href=\"psysml:862abcb1-d094-4d1f-a90d-b0af915cd2bb\" xlink:show=\"new\" xlink:title=\"psysml:862abcb1-d094-4d1f-a90d-b0af915cd2bb\" xlink:type=\"simple\"><rect fill=\"#FFFFFF\" height=\"45.9375\" id=\"E7\" rx=\"10\" ry=\"10\" style=\"stroke: #383838; stroke-width: 1.5;\" width=\"42\" x=\"394\" y=\"62\"/><text fill=\"#000000\" font-family=\"sans-serif\" font-size=\"12\" font-style=\"italic\" lengthAdjust=\"spacingAndGlyphs\" textLength=\"40\" x=\"395\" y=\"78.1387\">«part»</text><text fill=\"#000000\" font-family=\"sans-serif\" font-size=\"12\" lengthAdjust=\"spacingAndGlyphs\" textLength=\"8\" x=\"411\" y=\"92.1074\">d</text><line style=\"stroke: #383838; stroke-width: 1.5;\" x1=\"395\" x2=\"435\" y1=\"99.9375\" y2=\"99.9375\"/></a><!--MD5=[b9389687b975829384b498ac4b7476b2]\n",
       "class E8--><a href=\"psysml:0f8b0aa8-e59b-4cfe-b590-8672d08a4434\" target=\"_top\" title=\"psysml:0f8b0aa8-e59b-4cfe-b590-8672d08a4434\" xlink:actuate=\"onRequest\" xlink:href=\"psysml:0f8b0aa8-e59b-4cfe-b590-8672d08a4434\" xlink:show=\"new\" xlink:title=\"psysml:0f8b0aa8-e59b-4cfe-b590-8672d08a4434\" xlink:type=\"simple\"><rect fill=\"#FFFFFF\" height=\"45.9375\" id=\"E8\" rx=\"10\" ry=\"10\" style=\"stroke: #383838; stroke-width: 1.5;\" width=\"42\" x=\"317\" y=\"62\"/><text fill=\"#000000\" font-family=\"sans-serif\" font-size=\"12\" font-style=\"italic\" lengthAdjust=\"spacingAndGlyphs\" textLength=\"40\" x=\"318\" y=\"78.1387\">«part»</text><text fill=\"#000000\" font-family=\"sans-serif\" font-size=\"12\" lengthAdjust=\"spacingAndGlyphs\" textLength=\"8\" x=\"334\" y=\"92.1074\">e</text><line style=\"stroke: #383838; stroke-width: 1.5;\" x1=\"318\" x2=\"358\" y1=\"99.9375\" y2=\"99.9375\"/></a><!--MD5=[fd4143e9d270a159db93a4ea2a975926]\n",
       "class E9--><a href=\"psysml:07bb6063-49af-4acb-bb76-a6a51f542bf8\" target=\"_top\" title=\"psysml:07bb6063-49af-4acb-bb76-a6a51f542bf8\" xlink:actuate=\"onRequest\" xlink:href=\"psysml:07bb6063-49af-4acb-bb76-a6a51f542bf8\" xlink:show=\"new\" xlink:title=\"psysml:07bb6063-49af-4acb-bb76-a6a51f542bf8\" xlink:type=\"simple\"><rect fill=\"#FFFFFF\" height=\"45.9375\" id=\"E9\" rx=\"10\" ry=\"10\" style=\"stroke: #383838; stroke-width: 1.5;\" width=\"42\" x=\"240\" y=\"62\"/><text fill=\"#000000\" font-family=\"sans-serif\" font-size=\"12\" font-style=\"italic\" lengthAdjust=\"spacingAndGlyphs\" textLength=\"40\" x=\"241\" y=\"78.1387\">«part»</text><text fill=\"#000000\" font-family=\"sans-serif\" font-size=\"12\" lengthAdjust=\"spacingAndGlyphs\" textLength=\"4\" x=\"259\" y=\"92.1074\">f</text><line style=\"stroke: #383838; stroke-width: 1.5;\" x1=\"241\" x2=\"281\" y1=\"99.9375\" y2=\"99.9375\"/></a><!--MD5=[96f4274e9e20536e775497830990834d]\n",
       "class E10--><a href=\"psysml:87a6ec87-e214-496f-a09f-1f6dfd597ed3\" target=\"_top\" title=\"psysml:87a6ec87-e214-496f-a09f-1f6dfd597ed3\" xlink:actuate=\"onRequest\" xlink:href=\"psysml:87a6ec87-e214-496f-a09f-1f6dfd597ed3\" xlink:show=\"new\" xlink:title=\"psysml:87a6ec87-e214-496f-a09f-1f6dfd597ed3\" xlink:type=\"simple\"><rect fill=\"#FFFFFF\" height=\"45.9375\" id=\"E10\" rx=\"10\" ry=\"10\" style=\"stroke: #383838; stroke-width: 1.5;\" width=\"42\" x=\"163\" y=\"62\"/><text fill=\"#000000\" font-family=\"sans-serif\" font-size=\"12\" font-style=\"italic\" lengthAdjust=\"spacingAndGlyphs\" textLength=\"40\" x=\"164\" y=\"78.1387\">«part»</text><text fill=\"#000000\" font-family=\"sans-serif\" font-size=\"12\" lengthAdjust=\"spacingAndGlyphs\" textLength=\"8\" x=\"180\" y=\"92.1074\">g</text><line style=\"stroke: #383838; stroke-width: 1.5;\" x1=\"164\" x2=\"204\" y1=\"99.9375\" y2=\"99.9375\"/></a><!--MD5=[1dd1bfd58a279cf63c5f349dbc8fc6a1]\n",
       "class E11--><a href=\"psysml:423769db-1814-486c-a3b1-3214b1eae655\" target=\"_top\" title=\"psysml:423769db-1814-486c-a3b1-3214b1eae655\" xlink:actuate=\"onRequest\" xlink:href=\"psysml:423769db-1814-486c-a3b1-3214b1eae655\" xlink:show=\"new\" xlink:title=\"psysml:423769db-1814-486c-a3b1-3214b1eae655\" xlink:type=\"simple\"><rect fill=\"#FFFFFF\" height=\"88.3516\" id=\"E11\" style=\"stroke: #383838; stroke-width: 1.5;\" width=\"95\" x=\"32.5\" y=\"41\"/><text fill=\"#000000\" font-family=\"sans-serif\" font-size=\"12\" font-style=\"italic\" lengthAdjust=\"spacingAndGlyphs\" textLength=\"93\" x=\"33.5\" y=\"57.1387\">«attribute def»</text><text fill=\"#000000\" font-family=\"sans-serif\" font-size=\"12\" lengthAdjust=\"spacingAndGlyphs\" textLength=\"8\" x=\"76\" y=\"71.1074\">A</text><line style=\"stroke: #383838; stroke-width: 1.5;\" x1=\"33.5\" x2=\"126.5\" y1=\"78.9375\" y2=\"78.9375\"/><text fill=\"#000000\" font-family=\"sans-serif\" font-size=\"11\" lengthAdjust=\"spacingAndGlyphs\" textLength=\"51\" x=\"38.5\" y=\"109.9526\">i: Integer</text><text fill=\"#000000\" font-family=\"sans-serif\" font-size=\"11\" lengthAdjust=\"spacingAndGlyphs\" textLength=\"21\" x=\"38.5\" y=\"122.7573\">x: A</text><line style=\"stroke: #383838; stroke-width: 1.0;\" x1=\"33.5\" x2=\"52.5\" y1=\"93.3398\" y2=\"93.3398\"/><text fill=\"#000000\" font-family=\"sans-serif\" font-size=\"11\" lengthAdjust=\"spacingAndGlyphs\" textLength=\"55\" x=\"52.5\" y=\"96.6479\">attributes</text><line style=\"stroke: #383838; stroke-width: 1.0;\" x1=\"107.5\" x2=\"126.5\" y1=\"93.3398\" y2=\"93.3398\"/></a><!--MD5=[15ebcb19ae302d9b601edb458606d402]\n",
       "link E5 to E2--><a href=\"psysml:56ee8f03-05cc-4672-92a5-af5f15d564f5\" target=\"_top\" title=\"psysml:56ee8f03-05cc-4672-92a5-af5f15d564f5\" xlink:actuate=\"onRequest\" xlink:href=\"psysml:56ee8f03-05cc-4672-92a5-af5f15d564f5\" xlink:show=\"new\" xlink:title=\"psysml:56ee8f03-05cc-4672-92a5-af5f15d564f5\" xlink:type=\"simple\"><path d=\"M555.5,108.29 C555.5,108.29 555.5,168.85 555.5,168.85 \" fill=\"none\" id=\"E5-&gt;E2\" style=\"stroke: #383838; stroke-width: 1.0;\"/><polygon fill=\"#FFFFFF\" points=\"555.5,188.85,548.5,169.85,562.5,169.85,555.5,188.85\" style=\"stroke: #383838; stroke-width: 1.0;\"/><ellipse cx=\"550.5\" cy=\"164.15\" fill=\"#383838\" rx=\"2\" ry=\"2\" style=\"stroke: #383838; stroke-width: 1.0;\"/><ellipse cx=\"560.5\" cy=\"164.15\" fill=\"#383838\" rx=\"2\" ry=\"2\" style=\"stroke: #383838; stroke-width: 1.0;\"/></a><!--MD5=[2351f337d6de0f557b50152ba70847b5]\n",
       "link E6 to E2--><a href=\"psysml:34caeea3-9e32-4456-be5b-df49f4f1b3a4\" target=\"_top\" title=\"psysml:34caeea3-9e32-4456-be5b-df49f4f1b3a4\" xlink:actuate=\"onRequest\" xlink:href=\"psysml:34caeea3-9e32-4456-be5b-df49f4f1b3a4\" xlink:show=\"new\" xlink:title=\"psysml:34caeea3-9e32-4456-be5b-df49f4f1b3a4\" xlink:type=\"simple\"><path d=\"M505,108.29 C505,108.29 505,168.85 505,168.85 \" fill=\"none\" id=\"E6-&gt;E2\" style=\"stroke: #383838; stroke-width: 1.0;\"/><polygon fill=\"#FFFFFF\" points=\"505,188.85,498,169.85,512,169.85,505,188.85\" style=\"stroke: #383838; stroke-width: 1.0;\"/><ellipse cx=\"500\" cy=\"164.15\" fill=\"#383838\" rx=\"2\" ry=\"2\" style=\"stroke: #383838; stroke-width: 1.0;\"/><ellipse cx=\"510\" cy=\"164.15\" fill=\"#383838\" rx=\"2\" ry=\"2\" style=\"stroke: #383838; stroke-width: 1.0;\"/></a><!--MD5=[5fadc96ebb3322cd799a6b7305a4e34e]\n",
       "@startuml\r\n",
       "skinparam linetype ortho\r\n",
       "skinparam monochrome true\r\n",
       "skinparam classbackgroundcolor white\r\n",
       "skinparam shadowing false\r\n",
       "skinparam wrapWidth 300\r\n",
       "hide circle\r\n",
       "\r\n",
       "package \"MultiplicityTest\" as E1  [[psysml:917c8e98-308c-4a57-bedc-72bb13927275 ]]  {\r\n",
       "comp def \"P\" as E2  <<(T,blue) part def>> [[psysml:1b8e2ab6-001b-4483-8406-5463ddd95a77 ]] {\r\n",
       "}\r\n",
       "comp usage \"n: Integer\" as E3  <<(T,blue) attribute>> [[psysml:d0e8f829-c575-44a2-9ede-b108238de40c ]] {\r\n",
       "}\r\n",
       "comp usage \"a\" as E4  <<(T,blue) part>> [[psysml:2de2cbdc-62e6-485a-a7d2-bee7f587f60d ]] {\r\n",
       "}\r\n",
       "comp usage \"b: P\" as E5  <<(T,blue) part>> [[psysml:a47b2c6e-81dd-4a7f-97e2-f2f751620c17 ]] {\r\n",
       "}\r\n",
       "comp usage \"c: P\" as E6  <<(T,blue) part>> [[psysml:46e4b238-da26-40c7-b1f6-d3a4f2631481 ]] {\r\n",
       "}\r\n",
       "comp usage \"d\" as E7  <<(T,blue) part>> [[psysml:862abcb1-d094-4d1f-a90d-b0af915cd2bb ]] {\r\n",
       "}\r\n",
       "comp usage \"e\" as E8  <<(T,blue) part>> [[psysml:0f8b0aa8-e59b-4cfe-b590-8672d08a4434 ]] {\r\n",
       "}\r\n",
       "comp usage \"f\" as E9  <<(T,blue) part>> [[psysml:07bb6063-49af-4acb-bb76-a6a51f542bf8 ]] {\r\n",
       "}\r\n",
       "comp usage \"g\" as E10  <<(T,blue) part>> [[psysml:87a6ec87-e214-496f-a09f-1f6dfd597ed3 ]] {\r\n",
       "}\r\n",
       "comp def \"A\" as E11  <<(T,blue) attribute def>> [[psysml:423769db-1814-486c-a3b1-3214b1eae655 ]] {\r\n",
       "- - attributes - -\r\n",
       "i: Integer\r\n",
       "x: A\r\n",
       "}\r\n",
       "}\r\n",
       "E5 - -:|> E2 [[psysml:56ee8f03-05cc-4672-92a5-af5f15d564f5 ]] \r\n",
       "E6 - -:|> E2 [[psysml:34caeea3-9e32-4456-be5b-df49f4f1b3a4 ]] \r\n",
       "@enduml\r\n",
       "\n",
       "PlantUML version 1.2020.13(Sat Jun 13 12:26:38 UTC 2020)\n",
       "(EPL source distribution)\n",
       "Java Runtime: OpenJDK Runtime Environment\n",
       "JVM: OpenJDK 64-Bit Server VM\n",
       "Default Encoding: UTF-8\n",
       "Language: en\n",
       "Country: null\n",
       "--></g></svg>"
      ]
     },
     "execution_count": 57,
     "metadata": {},
     "output_type": "execute_result"
    }
   ],
   "source": [
    "%viz --style=\"ORTHOLINE\" --view=\"MIXED\" \"MultiplicityTest\""
   ]
  }
 ],
 "metadata": {
  "kernelspec": {
   "display_name": "SysML",
   "language": "sysml",
   "name": "sysml"
  },
  "language_info": {
   "codemirror_mode": "sysml",
   "file_extension": ".sysml",
   "mimetype": "text/x-sysml",
   "name": "SysML",
   "pygments_lexer": "java",
   "version": "1.0.0"
  }
 },
 "nbformat": 4,
 "nbformat_minor": 5
}
