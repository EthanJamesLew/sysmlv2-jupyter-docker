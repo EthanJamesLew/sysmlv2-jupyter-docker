{
 "cells": [
  {
   "cell_type": "markdown",
   "id": "61158b27",
   "metadata": {},
   "source": [
    "# SysML v2 Test Suite\n",
    "\n",
    "This can notebook can be cleared using menu `Edit --> Clear All Outputs` and then all cells can be\n",
    "run using menu `Run --> Run All Cells`.\n",
    "\n",
    "**WARNING**: This file is generated, all modifications here will be ignored.\n"
   ]
  },
  {
   "cell_type": "markdown",
   "id": "32b84bc0",
   "metadata": {},
   "source": [
    "## File: ../../sysml/src/examples/Simple Tests/MultiplicityTest.sysml"
   ]
  },
  {
   "cell_type": "code",
   "execution_count": 1,
   "id": "ae3d2fb2",
   "metadata": {
    "execution": {
     "iopub.execute_input": "2022-02-05T16:56:07.176204Z",
     "iopub.status.busy": "2022-02-05T16:56:07.174668Z",
     "iopub.status.idle": "2022-02-05T16:56:07.408772Z",
     "shell.execute_reply": "2022-02-05T16:56:07.409117Z"
    }
   },
   "outputs": [
    {
     "data": {
      "text/plain": [
       "Package MultiplicityTest (f63247fb-c9d4-42e4-9efa-908068d4532e)\n"
      ]
     },
     "execution_count": 1,
     "metadata": {},
     "output_type": "execute_result"
    }
   ],
   "source": [
    "package MultiplicityTest {\n",
    "\t\n",
    "\tpart def P;\n",
    "\tattribute n : ScalarValues::Integer = 5;\n",
    "\t\n",
    "\tpart a[1];\n",
    "\tpart b[0..2] : P;\n",
    "\tpart c : P[2..*];\n",
    "\tpart d[*];\n",
    "\t\n",
    "\tpart e[n];\n",
    "\tpart f[n..*];\n",
    "\tpart g[1..n];\n",
    "\n",
    "\tattribute def A {\n",
    "\t\tattribute i :ScalarValues::Integer;\n",
    "\t\tattribute x : A[i];\n",
    "\t}\n",
    "}"
   ]
  },
  {
   "cell_type": "code",
   "execution_count": 2,
   "id": "32bfac7d",
   "metadata": {
    "execution": {
     "iopub.execute_input": "2022-02-05T16:56:07.459575Z",
     "iopub.status.busy": "2022-02-05T16:56:07.459102Z",
     "iopub.status.idle": "2022-02-05T16:56:07.937966Z",
     "shell.execute_reply": "2022-02-05T16:56:07.936411Z"
    }
   },
   "outputs": [
    {
     "data": {
      "image/svg+xml": [
       "<?xml version=\"1.0\" encoding=\"UTF-8\" standalone=\"no\"?><svg xmlns=\"http://www.w3.org/2000/svg\" xmlns:xlink=\"http://www.w3.org/1999/xlink\" contentScriptType=\"application/ecmascript\" contentStyleType=\"text/css\" height=\"263px\" preserveAspectRatio=\"none\" style=\"width:816px;height:263px;\" version=\"1.1\" viewBox=\"0 0 816 263\" width=\"816px\" zoomAndPan=\"magnify\"><defs/><g><!--MD5=[fbc87193dbaf4d95561dea2c320d4a47]\n",
       "cluster E1--><a href=\"psysml:e445ccd1-d7b4-46a5-bbe0-1ba908b830dd\" target=\"_top\" title=\"psysml:e445ccd1-d7b4-46a5-bbe0-1ba908b830dd\" xlink:actuate=\"onRequest\" xlink:href=\"psysml:e445ccd1-d7b4-46a5-bbe0-1ba908b830dd\" xlink:show=\"new\" xlink:title=\"psysml:e445ccd1-d7b4-46a5-bbe0-1ba908b830dd\" xlink:type=\"simple\"><polygon fill=\"#FFFFFF\" points=\"16,6,123,6,130,28.2969,794,28.2969,794,251,16,251,16,6\" style=\"stroke: #000000; stroke-width: 1.5;\"/><line style=\"stroke: #000000; stroke-width: 1.5;\" x1=\"16\" x2=\"130\" y1=\"28.2969\" y2=\"28.2969\"/><text fill=\"#000000\" font-family=\"sans-serif\" font-size=\"14\" font-weight=\"bold\" lengthAdjust=\"spacingAndGlyphs\" textLength=\"101\" x=\"20\" y=\"20.9951\">MultiplicityTest</text></a><!--MD5=[b4997ac47864f28c2f74865a473b2911]\n",
       "class E2--><a href=\"psysml:7d5bba99-ceb9-4796-b455-cbfdc331a9aa\" target=\"_top\" title=\"psysml:7d5bba99-ceb9-4796-b455-cbfdc331a9aa\" xlink:actuate=\"onRequest\" xlink:href=\"psysml:7d5bba99-ceb9-4796-b455-cbfdc331a9aa\" xlink:show=\"new\" xlink:title=\"psysml:7d5bba99-ceb9-4796-b455-cbfdc331a9aa\" xlink:type=\"simple\"><rect fill=\"#FFFFFF\" height=\"45.9375\" id=\"E2\" style=\"stroke: #383838; stroke-width: 1.5;\" width=\"70\" x=\"499\" y=\"189\"/><text fill=\"#000000\" font-family=\"sans-serif\" font-size=\"12\" font-style=\"italic\" lengthAdjust=\"spacingAndGlyphs\" textLength=\"68\" x=\"500\" y=\"205.1387\">«part  def»</text><text fill=\"#000000\" font-family=\"sans-serif\" font-size=\"12\" lengthAdjust=\"spacingAndGlyphs\" textLength=\"8\" x=\"530\" y=\"219.1074\">P</text><line style=\"stroke: #383838; stroke-width: 1.5;\" x1=\"500\" x2=\"568\" y1=\"226.9375\" y2=\"226.9375\"/></a><!--MD5=[09b614a08d8cba4a07c9adeb5e0fee81]\n",
       "class E3--><a href=\"psysml:ec541e3b-6371-48bf-8290-c0b2a0f88f52\" target=\"_top\" title=\"psysml:ec541e3b-6371-48bf-8290-c0b2a0f88f52\" xlink:actuate=\"onRequest\" xlink:href=\"psysml:ec541e3b-6371-48bf-8290-c0b2a0f88f52\" xlink:show=\"new\" xlink:title=\"psysml:ec541e3b-6371-48bf-8290-c0b2a0f88f52\" xlink:type=\"simple\"><rect fill=\"#FFFFFF\" height=\"45.9375\" id=\"E3\" rx=\"10\" ry=\"10\" style=\"stroke: #383838; stroke-width: 1.5;\" width=\"71\" x=\"706.5\" y=\"62\"/><text fill=\"#000000\" font-family=\"sans-serif\" font-size=\"12\" font-style=\"italic\" lengthAdjust=\"spacingAndGlyphs\" textLength=\"69\" x=\"707.5\" y=\"78.1387\">«attribute»</text><text fill=\"#000000\" font-family=\"sans-serif\" font-size=\"12\" lengthAdjust=\"spacingAndGlyphs\" textLength=\"61\" x=\"709.5\" y=\"92.1074\">n: Integer</text><line style=\"stroke: #383838; stroke-width: 1.5;\" x1=\"707.5\" x2=\"776.5\" y1=\"99.9375\" y2=\"99.9375\"/></a><!--MD5=[ebbe1d658d1005bcc118a6aa81145e00]\n",
       "class E4--><a href=\"psysml:0bccd947-b2f6-485e-9c27-5cc482a56716\" target=\"_top\" title=\"psysml:0bccd947-b2f6-485e-9c27-5cc482a56716\" xlink:actuate=\"onRequest\" xlink:href=\"psysml:0bccd947-b2f6-485e-9c27-5cc482a56716\" xlink:show=\"new\" xlink:title=\"psysml:0bccd947-b2f6-485e-9c27-5cc482a56716\" xlink:type=\"simple\"><rect fill=\"#FFFFFF\" height=\"45.9375\" id=\"E4\" rx=\"10\" ry=\"10\" style=\"stroke: #383838; stroke-width: 1.5;\" width=\"42\" x=\"629\" y=\"62\"/><text fill=\"#000000\" font-family=\"sans-serif\" font-size=\"12\" font-style=\"italic\" lengthAdjust=\"spacingAndGlyphs\" textLength=\"40\" x=\"630\" y=\"78.1387\">«part»</text><text fill=\"#000000\" font-family=\"sans-serif\" font-size=\"12\" lengthAdjust=\"spacingAndGlyphs\" textLength=\"8\" x=\"644\" y=\"92.1074\">a</text><line style=\"stroke: #383838; stroke-width: 1.5;\" x1=\"630\" x2=\"670\" y1=\"99.9375\" y2=\"99.9375\"/></a><!--MD5=[270fce915f116d4de14055a7c1d9a0f3]\n",
       "class E5--><a href=\"psysml:3563b5dd-e50a-438e-94ba-a5b38ab6df54\" target=\"_top\" title=\"psysml:3563b5dd-e50a-438e-94ba-a5b38ab6df54\" xlink:actuate=\"onRequest\" xlink:href=\"psysml:3563b5dd-e50a-438e-94ba-a5b38ab6df54\" xlink:show=\"new\" xlink:title=\"psysml:3563b5dd-e50a-438e-94ba-a5b38ab6df54\" xlink:type=\"simple\"><rect fill=\"#FFFFFF\" height=\"45.9375\" id=\"E5\" rx=\"10\" ry=\"10\" style=\"stroke: #383838; stroke-width: 1.5;\" width=\"42\" x=\"552\" y=\"62\"/><text fill=\"#000000\" font-family=\"sans-serif\" font-size=\"12\" font-style=\"italic\" lengthAdjust=\"spacingAndGlyphs\" textLength=\"40\" x=\"553\" y=\"78.1387\">«part»</text><text fill=\"#000000\" font-family=\"sans-serif\" font-size=\"12\" lengthAdjust=\"spacingAndGlyphs\" textLength=\"24\" x=\"559\" y=\"92.1074\">b: P</text><line style=\"stroke: #383838; stroke-width: 1.5;\" x1=\"553\" x2=\"593\" y1=\"99.9375\" y2=\"99.9375\"/></a><!--MD5=[60a26617385b1d2d0262a64233df1f8d]\n",
       "class E6--><a href=\"psysml:61a7c4a1-1480-402d-a8df-76594b39497b\" target=\"_top\" title=\"psysml:61a7c4a1-1480-402d-a8df-76594b39497b\" xlink:actuate=\"onRequest\" xlink:href=\"psysml:61a7c4a1-1480-402d-a8df-76594b39497b\" xlink:show=\"new\" xlink:title=\"psysml:61a7c4a1-1480-402d-a8df-76594b39497b\" xlink:type=\"simple\"><rect fill=\"#FFFFFF\" height=\"45.9375\" id=\"E6\" rx=\"10\" ry=\"10\" style=\"stroke: #383838; stroke-width: 1.5;\" width=\"42\" x=\"475\" y=\"62\"/><text fill=\"#000000\" font-family=\"sans-serif\" font-size=\"12\" font-style=\"italic\" lengthAdjust=\"spacingAndGlyphs\" textLength=\"40\" x=\"476\" y=\"78.1387\">«part»</text><text fill=\"#000000\" font-family=\"sans-serif\" font-size=\"12\" lengthAdjust=\"spacingAndGlyphs\" textLength=\"23\" x=\"482.5\" y=\"92.1074\">c: P</text><line style=\"stroke: #383838; stroke-width: 1.5;\" x1=\"476\" x2=\"516\" y1=\"99.9375\" y2=\"99.9375\"/></a><!--MD5=[2156ba9850f5573cc1fc38a6a4b2f02b]\n",
       "class E7--><a href=\"psysml:f3d0dfc0-0dbb-4454-830c-43cee9c0f8af\" target=\"_top\" title=\"psysml:f3d0dfc0-0dbb-4454-830c-43cee9c0f8af\" xlink:actuate=\"onRequest\" xlink:href=\"psysml:f3d0dfc0-0dbb-4454-830c-43cee9c0f8af\" xlink:show=\"new\" xlink:title=\"psysml:f3d0dfc0-0dbb-4454-830c-43cee9c0f8af\" xlink:type=\"simple\"><rect fill=\"#FFFFFF\" height=\"45.9375\" id=\"E7\" rx=\"10\" ry=\"10\" style=\"stroke: #383838; stroke-width: 1.5;\" width=\"42\" x=\"398\" y=\"62\"/><text fill=\"#000000\" font-family=\"sans-serif\" font-size=\"12\" font-style=\"italic\" lengthAdjust=\"spacingAndGlyphs\" textLength=\"40\" x=\"399\" y=\"78.1387\">«part»</text><text fill=\"#000000\" font-family=\"sans-serif\" font-size=\"12\" lengthAdjust=\"spacingAndGlyphs\" textLength=\"8\" x=\"413\" y=\"92.1074\">d</text><line style=\"stroke: #383838; stroke-width: 1.5;\" x1=\"399\" x2=\"439\" y1=\"99.9375\" y2=\"99.9375\"/></a><!--MD5=[b9389687b975829384b498ac4b7476b2]\n",
       "class E8--><a href=\"psysml:470ebeae-9c21-45dc-92b7-3ec0bcac92c0\" target=\"_top\" title=\"psysml:470ebeae-9c21-45dc-92b7-3ec0bcac92c0\" xlink:actuate=\"onRequest\" xlink:href=\"psysml:470ebeae-9c21-45dc-92b7-3ec0bcac92c0\" xlink:show=\"new\" xlink:title=\"psysml:470ebeae-9c21-45dc-92b7-3ec0bcac92c0\" xlink:type=\"simple\"><rect fill=\"#FFFFFF\" height=\"45.9375\" id=\"E8\" rx=\"10\" ry=\"10\" style=\"stroke: #383838; stroke-width: 1.5;\" width=\"42\" x=\"321\" y=\"62\"/><text fill=\"#000000\" font-family=\"sans-serif\" font-size=\"12\" font-style=\"italic\" lengthAdjust=\"spacingAndGlyphs\" textLength=\"40\" x=\"322\" y=\"78.1387\">«part»</text><text fill=\"#000000\" font-family=\"sans-serif\" font-size=\"12\" lengthAdjust=\"spacingAndGlyphs\" textLength=\"8\" x=\"336\" y=\"92.1074\">e</text><line style=\"stroke: #383838; stroke-width: 1.5;\" x1=\"322\" x2=\"362\" y1=\"99.9375\" y2=\"99.9375\"/></a><!--MD5=[fd4143e9d270a159db93a4ea2a975926]\n",
       "class E9--><a href=\"psysml:e3b105f8-a02a-4959-8fa9-8da786795f1e\" target=\"_top\" title=\"psysml:e3b105f8-a02a-4959-8fa9-8da786795f1e\" xlink:actuate=\"onRequest\" xlink:href=\"psysml:e3b105f8-a02a-4959-8fa9-8da786795f1e\" xlink:show=\"new\" xlink:title=\"psysml:e3b105f8-a02a-4959-8fa9-8da786795f1e\" xlink:type=\"simple\"><rect fill=\"#FFFFFF\" height=\"45.9375\" id=\"E9\" rx=\"10\" ry=\"10\" style=\"stroke: #383838; stroke-width: 1.5;\" width=\"42\" x=\"244\" y=\"62\"/><text fill=\"#000000\" font-family=\"sans-serif\" font-size=\"12\" font-style=\"italic\" lengthAdjust=\"spacingAndGlyphs\" textLength=\"40\" x=\"245\" y=\"78.1387\">«part»</text><text fill=\"#000000\" font-family=\"sans-serif\" font-size=\"12\" lengthAdjust=\"spacingAndGlyphs\" textLength=\"4\" x=\"261\" y=\"92.1074\">f</text><line style=\"stroke: #383838; stroke-width: 1.5;\" x1=\"245\" x2=\"285\" y1=\"99.9375\" y2=\"99.9375\"/></a><!--MD5=[96f4274e9e20536e775497830990834d]\n",
       "class E10--><a href=\"psysml:0b08e64f-1d74-4a65-b189-b5a78b2f5a03\" target=\"_top\" title=\"psysml:0b08e64f-1d74-4a65-b189-b5a78b2f5a03\" xlink:actuate=\"onRequest\" xlink:href=\"psysml:0b08e64f-1d74-4a65-b189-b5a78b2f5a03\" xlink:show=\"new\" xlink:title=\"psysml:0b08e64f-1d74-4a65-b189-b5a78b2f5a03\" xlink:type=\"simple\"><rect fill=\"#FFFFFF\" height=\"45.9375\" id=\"E10\" rx=\"10\" ry=\"10\" style=\"stroke: #383838; stroke-width: 1.5;\" width=\"42\" x=\"167\" y=\"62\"/><text fill=\"#000000\" font-family=\"sans-serif\" font-size=\"12\" font-style=\"italic\" lengthAdjust=\"spacingAndGlyphs\" textLength=\"40\" x=\"168\" y=\"78.1387\">«part»</text><text fill=\"#000000\" font-family=\"sans-serif\" font-size=\"12\" lengthAdjust=\"spacingAndGlyphs\" textLength=\"8\" x=\"182\" y=\"92.1074\">g</text><line style=\"stroke: #383838; stroke-width: 1.5;\" x1=\"168\" x2=\"208\" y1=\"99.9375\" y2=\"99.9375\"/></a><!--MD5=[1dd1bfd58a279cf63c5f349dbc8fc6a1]\n",
       "class E11--><a href=\"psysml:d2ba3396-0b46-40b3-bbf4-49972d7872ff\" target=\"_top\" title=\"psysml:d2ba3396-0b46-40b3-bbf4-49972d7872ff\" xlink:actuate=\"onRequest\" xlink:href=\"psysml:d2ba3396-0b46-40b3-bbf4-49972d7872ff\" xlink:show=\"new\" xlink:title=\"psysml:d2ba3396-0b46-40b3-bbf4-49972d7872ff\" xlink:type=\"simple\"><rect fill=\"#FFFFFF\" height=\"88.3516\" id=\"E11\" style=\"stroke: #383838; stroke-width: 1.5;\" width=\"99\" x=\"32.5\" y=\"41\"/><text fill=\"#000000\" font-family=\"sans-serif\" font-size=\"12\" font-style=\"italic\" lengthAdjust=\"spacingAndGlyphs\" textLength=\"97\" x=\"33.5\" y=\"57.1387\">«attribute  def»</text><text fill=\"#000000\" font-family=\"sans-serif\" font-size=\"12\" lengthAdjust=\"spacingAndGlyphs\" textLength=\"8\" x=\"78\" y=\"71.1074\">A</text><line style=\"stroke: #383838; stroke-width: 1.5;\" x1=\"33.5\" x2=\"130.5\" y1=\"78.9375\" y2=\"78.9375\"/><text fill=\"#000000\" font-family=\"sans-serif\" font-size=\"11\" lengthAdjust=\"spacingAndGlyphs\" textLength=\"51\" x=\"38.5\" y=\"109.9526\">i: Integer</text><text fill=\"#000000\" font-family=\"sans-serif\" font-size=\"11\" lengthAdjust=\"spacingAndGlyphs\" textLength=\"21\" x=\"38.5\" y=\"122.7573\">x: A</text><line style=\"stroke: #383838; stroke-width: 1.0;\" x1=\"33.5\" x2=\"54.5\" y1=\"93.3398\" y2=\"93.3398\"/><text fill=\"#000000\" font-family=\"sans-serif\" font-size=\"11\" lengthAdjust=\"spacingAndGlyphs\" textLength=\"55\" x=\"54.5\" y=\"96.6479\">attributes</text><line style=\"stroke: #383838; stroke-width: 1.0;\" x1=\"109.5\" x2=\"130.5\" y1=\"93.3398\" y2=\"93.3398\"/></a><!--MD5=[15ebcb19ae302d9b601edb458606d402]\n",
       "link E5 to E2--><a href=\"psysml:b362769d-1260-4065-9b83-621f0da47e8d\" target=\"_top\" title=\"psysml:b362769d-1260-4065-9b83-621f0da47e8d\" xlink:actuate=\"onRequest\" xlink:href=\"psysml:b362769d-1260-4065-9b83-621f0da47e8d\" xlink:show=\"new\" xlink:title=\"psysml:b362769d-1260-4065-9b83-621f0da47e8d\" xlink:type=\"simple\"><path d=\"M566.12,108.06 C560.83,125 553.38,148.89 546.98,169.39 \" fill=\"none\" id=\"E5-&gt;E2\" style=\"stroke: #383838; stroke-width: 1.0;\"/><polygon fill=\"#FFFFFF\" points=\"540.95,188.74,539.929,168.5173,553.2931,172.6886,540.95,188.74\" style=\"stroke: #383838; stroke-width: 1.0;\"/><ellipse cx=\"543.5364\" cy=\"163.6721\" fill=\"#383838\" rx=\"2\" ry=\"2\" style=\"stroke: #383838; stroke-width: 1.0;\"/><ellipse cx=\"553.0823\" cy=\"166.6516\" fill=\"#383838\" rx=\"2\" ry=\"2\" style=\"stroke: #383838; stroke-width: 1.0;\"/></a><!--MD5=[2351f337d6de0f557b50152ba70847b5]\n",
       "link E6 to E2--><a href=\"psysml:03080077-3284-4bc2-8ec3-31a93274162e\" target=\"_top\" title=\"psysml:03080077-3284-4bc2-8ec3-31a93274162e\" xlink:actuate=\"onRequest\" xlink:href=\"psysml:03080077-3284-4bc2-8ec3-31a93274162e\" xlink:show=\"new\" xlink:title=\"psysml:03080077-3284-4bc2-8ec3-31a93274162e\" xlink:type=\"simple\"><path d=\"M502.71,108.06 C507.86,125 515.12,148.89 521.35,169.39 \" fill=\"none\" id=\"E6-&gt;E2\" style=\"stroke: #383838; stroke-width: 1.0;\"/><polygon fill=\"#FFFFFF\" points=\"527.23,188.74,515.007,172.597,528.4019,168.5255,527.23,188.74\" style=\"stroke: #383838; stroke-width: 1.0;\"/><ellipse cx=\"515.2628\" cy=\"166.5617\" fill=\"#383838\" rx=\"2\" ry=\"2\" style=\"stroke: #383838; stroke-width: 1.0;\"/><ellipse cx=\"524.8306\" cy=\"163.6535\" fill=\"#383838\" rx=\"2\" ry=\"2\" style=\"stroke: #383838; stroke-width: 1.0;\"/></a><!--MD5=[aa071b9acaca251f809b09db05f4bed5]\n",
       "@startuml\r\n",
       " skinparam monochrome true\r\n",
       "skinparam classbackgroundcolor white\r\n",
       "skinparam shadowing false\r\n",
       "skinparam wrapWidth 300\r\n",
       "hide circle\r\n",
       "\r\n",
       "package \"MultiplicityTest\" as E1  [[psysml:e445ccd1-d7b4-46a5-bbe0-1ba908b830dd ]]  {\r\n",
       "comp def \"P\" as E2  <<(T,blue) part  def>> [[psysml:7d5bba99-ceb9-4796-b455-cbfdc331a9aa ]] {\r\n",
       "}\r\n",
       "comp usage \"n: Integer \" as E3  <<(T,blue) attribute>> [[psysml:ec541e3b-6371-48bf-8290-c0b2a0f88f52 ]] {\r\n",
       "}\r\n",
       "comp usage \"a \" as E4  <<(T,blue) part>> [[psysml:0bccd947-b2f6-485e-9c27-5cc482a56716 ]] {\r\n",
       "}\r\n",
       "comp usage \"b: P \" as E5  <<(T,blue) part>> [[psysml:3563b5dd-e50a-438e-94ba-a5b38ab6df54 ]] {\r\n",
       "}\r\n",
       "comp usage \"c: P \" as E6  <<(T,blue) part>> [[psysml:61a7c4a1-1480-402d-a8df-76594b39497b ]] {\r\n",
       "}\r\n",
       "comp usage \"d \" as E7  <<(T,blue) part>> [[psysml:f3d0dfc0-0dbb-4454-830c-43cee9c0f8af ]] {\r\n",
       "}\r\n",
       "comp usage \"e \" as E8  <<(T,blue) part>> [[psysml:470ebeae-9c21-45dc-92b7-3ec0bcac92c0 ]] {\r\n",
       "}\r\n",
       "comp usage \"f \" as E9  <<(T,blue) part>> [[psysml:e3b105f8-a02a-4959-8fa9-8da786795f1e ]] {\r\n",
       "}\r\n",
       "comp usage \"g \" as E10  <<(T,blue) part>> [[psysml:0b08e64f-1d74-4a65-b189-b5a78b2f5a03 ]] {\r\n",
       "}\r\n",
       "comp def \"A\" as E11  <<(T,blue) attribute  def>> [[psysml:d2ba3396-0b46-40b3-bbf4-49972d7872ff ]] {\r\n",
       "- - attributes - -\r\n",
       "i: Integer\r\n",
       "x: A\r\n",
       "}\r\n",
       "}\r\n",
       "E5 - -:|> E2 [[psysml:b362769d-1260-4065-9b83-621f0da47e8d ]] \r\n",
       "E6 - -:|> E2 [[psysml:03080077-3284-4bc2-8ec3-31a93274162e ]] \r\n",
       "@enduml\r\n",
       "\n",
       "PlantUML version 1.2020.13(Sat Jun 13 12:26:38 UTC 2020)\n",
       "(EPL source distribution)\n",
       "Java Runtime: OpenJDK Runtime Environment\n",
       "JVM: OpenJDK 64-Bit Server VM\n",
       "Default Encoding: UTF-8\n",
       "Language: en\n",
       "Country: null\n",
       "--></g></svg>"
      ]
     },
     "execution_count": 2,
     "metadata": {},
     "output_type": "execute_result"
    }
   ],
   "source": [
    "%viz --style=\"COMPTREE\" --view=\"Default\" \"MultiplicityTest\""
   ]
  },
  {
   "cell_type": "code",
   "execution_count": 3,
   "id": "6f29f6b2",
   "metadata": {
    "execution": {
     "iopub.execute_input": "2022-02-05T16:56:07.988054Z",
     "iopub.status.busy": "2022-02-05T16:56:07.987596Z",
     "iopub.status.idle": "2022-02-05T16:56:08.101409Z",
     "shell.execute_reply": "2022-02-05T16:56:08.101036Z"
    }
   },
   "outputs": [
    {
     "data": {
      "image/svg+xml": [
       "<?xml version=\"1.0\" encoding=\"UTF-8\" standalone=\"no\"?><svg xmlns=\"http://www.w3.org/2000/svg\" xmlns:xlink=\"http://www.w3.org/1999/xlink\" contentScriptType=\"application/ecmascript\" contentStyleType=\"text/css\" height=\"263px\" preserveAspectRatio=\"none\" style=\"width:816px;height:263px;\" version=\"1.1\" viewBox=\"0 0 816 263\" width=\"816px\" zoomAndPan=\"magnify\"><defs/><g><!--MD5=[fbc87193dbaf4d95561dea2c320d4a47]\n",
       "cluster E1--><a href=\"psysml:e445ccd1-d7b4-46a5-bbe0-1ba908b830dd\" target=\"_top\" title=\"psysml:e445ccd1-d7b4-46a5-bbe0-1ba908b830dd\" xlink:actuate=\"onRequest\" xlink:href=\"psysml:e445ccd1-d7b4-46a5-bbe0-1ba908b830dd\" xlink:show=\"new\" xlink:title=\"psysml:e445ccd1-d7b4-46a5-bbe0-1ba908b830dd\" xlink:type=\"simple\"><polygon fill=\"#FFFFFF\" points=\"16,6,123,6,130,28.2969,794,28.2969,794,251,16,251,16,6\" style=\"stroke: #000000; stroke-width: 1.5;\"/><line style=\"stroke: #000000; stroke-width: 1.5;\" x1=\"16\" x2=\"130\" y1=\"28.2969\" y2=\"28.2969\"/><text fill=\"#000000\" font-family=\"sans-serif\" font-size=\"14\" font-weight=\"bold\" lengthAdjust=\"spacingAndGlyphs\" textLength=\"101\" x=\"20\" y=\"20.9951\">MultiplicityTest</text></a><!--MD5=[b4997ac47864f28c2f74865a473b2911]\n",
       "class E2--><a href=\"psysml:7d5bba99-ceb9-4796-b455-cbfdc331a9aa\" target=\"_top\" title=\"psysml:7d5bba99-ceb9-4796-b455-cbfdc331a9aa\" xlink:actuate=\"onRequest\" xlink:href=\"psysml:7d5bba99-ceb9-4796-b455-cbfdc331a9aa\" xlink:show=\"new\" xlink:title=\"psysml:7d5bba99-ceb9-4796-b455-cbfdc331a9aa\" xlink:type=\"simple\"><rect fill=\"#FFFFFF\" height=\"45.9375\" id=\"E2\" style=\"stroke: #383838; stroke-width: 1.5;\" width=\"70\" x=\"499\" y=\"189\"/><text fill=\"#000000\" font-family=\"sans-serif\" font-size=\"12\" font-style=\"italic\" lengthAdjust=\"spacingAndGlyphs\" textLength=\"68\" x=\"500\" y=\"205.1387\">«part  def»</text><text fill=\"#000000\" font-family=\"sans-serif\" font-size=\"12\" lengthAdjust=\"spacingAndGlyphs\" textLength=\"8\" x=\"530\" y=\"219.1074\">P</text><line style=\"stroke: #383838; stroke-width: 1.5;\" x1=\"500\" x2=\"568\" y1=\"226.9375\" y2=\"226.9375\"/></a><!--MD5=[09b614a08d8cba4a07c9adeb5e0fee81]\n",
       "class E3--><a href=\"psysml:ec541e3b-6371-48bf-8290-c0b2a0f88f52\" target=\"_top\" title=\"psysml:ec541e3b-6371-48bf-8290-c0b2a0f88f52\" xlink:actuate=\"onRequest\" xlink:href=\"psysml:ec541e3b-6371-48bf-8290-c0b2a0f88f52\" xlink:show=\"new\" xlink:title=\"psysml:ec541e3b-6371-48bf-8290-c0b2a0f88f52\" xlink:type=\"simple\"><rect fill=\"#FFFFFF\" height=\"45.9375\" id=\"E3\" rx=\"10\" ry=\"10\" style=\"stroke: #383838; stroke-width: 1.5;\" width=\"71\" x=\"706.5\" y=\"62\"/><text fill=\"#000000\" font-family=\"sans-serif\" font-size=\"12\" font-style=\"italic\" lengthAdjust=\"spacingAndGlyphs\" textLength=\"69\" x=\"707.5\" y=\"78.1387\">«attribute»</text><text fill=\"#000000\" font-family=\"sans-serif\" font-size=\"12\" lengthAdjust=\"spacingAndGlyphs\" textLength=\"61\" x=\"709.5\" y=\"92.1074\">n: Integer</text><line style=\"stroke: #383838; stroke-width: 1.5;\" x1=\"707.5\" x2=\"776.5\" y1=\"99.9375\" y2=\"99.9375\"/></a><!--MD5=[ebbe1d658d1005bcc118a6aa81145e00]\n",
       "class E4--><a href=\"psysml:0bccd947-b2f6-485e-9c27-5cc482a56716\" target=\"_top\" title=\"psysml:0bccd947-b2f6-485e-9c27-5cc482a56716\" xlink:actuate=\"onRequest\" xlink:href=\"psysml:0bccd947-b2f6-485e-9c27-5cc482a56716\" xlink:show=\"new\" xlink:title=\"psysml:0bccd947-b2f6-485e-9c27-5cc482a56716\" xlink:type=\"simple\"><rect fill=\"#FFFFFF\" height=\"45.9375\" id=\"E4\" rx=\"10\" ry=\"10\" style=\"stroke: #383838; stroke-width: 1.5;\" width=\"42\" x=\"629\" y=\"62\"/><text fill=\"#000000\" font-family=\"sans-serif\" font-size=\"12\" font-style=\"italic\" lengthAdjust=\"spacingAndGlyphs\" textLength=\"40\" x=\"630\" y=\"78.1387\">«part»</text><text fill=\"#000000\" font-family=\"sans-serif\" font-size=\"12\" lengthAdjust=\"spacingAndGlyphs\" textLength=\"8\" x=\"644\" y=\"92.1074\">a</text><line style=\"stroke: #383838; stroke-width: 1.5;\" x1=\"630\" x2=\"670\" y1=\"99.9375\" y2=\"99.9375\"/></a><!--MD5=[270fce915f116d4de14055a7c1d9a0f3]\n",
       "class E5--><a href=\"psysml:3563b5dd-e50a-438e-94ba-a5b38ab6df54\" target=\"_top\" title=\"psysml:3563b5dd-e50a-438e-94ba-a5b38ab6df54\" xlink:actuate=\"onRequest\" xlink:href=\"psysml:3563b5dd-e50a-438e-94ba-a5b38ab6df54\" xlink:show=\"new\" xlink:title=\"psysml:3563b5dd-e50a-438e-94ba-a5b38ab6df54\" xlink:type=\"simple\"><rect fill=\"#FFFFFF\" height=\"45.9375\" id=\"E5\" rx=\"10\" ry=\"10\" style=\"stroke: #383838; stroke-width: 1.5;\" width=\"42\" x=\"552\" y=\"62\"/><text fill=\"#000000\" font-family=\"sans-serif\" font-size=\"12\" font-style=\"italic\" lengthAdjust=\"spacingAndGlyphs\" textLength=\"40\" x=\"553\" y=\"78.1387\">«part»</text><text fill=\"#000000\" font-family=\"sans-serif\" font-size=\"12\" lengthAdjust=\"spacingAndGlyphs\" textLength=\"24\" x=\"559\" y=\"92.1074\">b: P</text><line style=\"stroke: #383838; stroke-width: 1.5;\" x1=\"553\" x2=\"593\" y1=\"99.9375\" y2=\"99.9375\"/></a><!--MD5=[60a26617385b1d2d0262a64233df1f8d]\n",
       "class E6--><a href=\"psysml:61a7c4a1-1480-402d-a8df-76594b39497b\" target=\"_top\" title=\"psysml:61a7c4a1-1480-402d-a8df-76594b39497b\" xlink:actuate=\"onRequest\" xlink:href=\"psysml:61a7c4a1-1480-402d-a8df-76594b39497b\" xlink:show=\"new\" xlink:title=\"psysml:61a7c4a1-1480-402d-a8df-76594b39497b\" xlink:type=\"simple\"><rect fill=\"#FFFFFF\" height=\"45.9375\" id=\"E6\" rx=\"10\" ry=\"10\" style=\"stroke: #383838; stroke-width: 1.5;\" width=\"42\" x=\"475\" y=\"62\"/><text fill=\"#000000\" font-family=\"sans-serif\" font-size=\"12\" font-style=\"italic\" lengthAdjust=\"spacingAndGlyphs\" textLength=\"40\" x=\"476\" y=\"78.1387\">«part»</text><text fill=\"#000000\" font-family=\"sans-serif\" font-size=\"12\" lengthAdjust=\"spacingAndGlyphs\" textLength=\"23\" x=\"482.5\" y=\"92.1074\">c: P</text><line style=\"stroke: #383838; stroke-width: 1.5;\" x1=\"476\" x2=\"516\" y1=\"99.9375\" y2=\"99.9375\"/></a><!--MD5=[2156ba9850f5573cc1fc38a6a4b2f02b]\n",
       "class E7--><a href=\"psysml:f3d0dfc0-0dbb-4454-830c-43cee9c0f8af\" target=\"_top\" title=\"psysml:f3d0dfc0-0dbb-4454-830c-43cee9c0f8af\" xlink:actuate=\"onRequest\" xlink:href=\"psysml:f3d0dfc0-0dbb-4454-830c-43cee9c0f8af\" xlink:show=\"new\" xlink:title=\"psysml:f3d0dfc0-0dbb-4454-830c-43cee9c0f8af\" xlink:type=\"simple\"><rect fill=\"#FFFFFF\" height=\"45.9375\" id=\"E7\" rx=\"10\" ry=\"10\" style=\"stroke: #383838; stroke-width: 1.5;\" width=\"42\" x=\"398\" y=\"62\"/><text fill=\"#000000\" font-family=\"sans-serif\" font-size=\"12\" font-style=\"italic\" lengthAdjust=\"spacingAndGlyphs\" textLength=\"40\" x=\"399\" y=\"78.1387\">«part»</text><text fill=\"#000000\" font-family=\"sans-serif\" font-size=\"12\" lengthAdjust=\"spacingAndGlyphs\" textLength=\"8\" x=\"413\" y=\"92.1074\">d</text><line style=\"stroke: #383838; stroke-width: 1.5;\" x1=\"399\" x2=\"439\" y1=\"99.9375\" y2=\"99.9375\"/></a><!--MD5=[b9389687b975829384b498ac4b7476b2]\n",
       "class E8--><a href=\"psysml:470ebeae-9c21-45dc-92b7-3ec0bcac92c0\" target=\"_top\" title=\"psysml:470ebeae-9c21-45dc-92b7-3ec0bcac92c0\" xlink:actuate=\"onRequest\" xlink:href=\"psysml:470ebeae-9c21-45dc-92b7-3ec0bcac92c0\" xlink:show=\"new\" xlink:title=\"psysml:470ebeae-9c21-45dc-92b7-3ec0bcac92c0\" xlink:type=\"simple\"><rect fill=\"#FFFFFF\" height=\"45.9375\" id=\"E8\" rx=\"10\" ry=\"10\" style=\"stroke: #383838; stroke-width: 1.5;\" width=\"42\" x=\"321\" y=\"62\"/><text fill=\"#000000\" font-family=\"sans-serif\" font-size=\"12\" font-style=\"italic\" lengthAdjust=\"spacingAndGlyphs\" textLength=\"40\" x=\"322\" y=\"78.1387\">«part»</text><text fill=\"#000000\" font-family=\"sans-serif\" font-size=\"12\" lengthAdjust=\"spacingAndGlyphs\" textLength=\"8\" x=\"336\" y=\"92.1074\">e</text><line style=\"stroke: #383838; stroke-width: 1.5;\" x1=\"322\" x2=\"362\" y1=\"99.9375\" y2=\"99.9375\"/></a><!--MD5=[fd4143e9d270a159db93a4ea2a975926]\n",
       "class E9--><a href=\"psysml:e3b105f8-a02a-4959-8fa9-8da786795f1e\" target=\"_top\" title=\"psysml:e3b105f8-a02a-4959-8fa9-8da786795f1e\" xlink:actuate=\"onRequest\" xlink:href=\"psysml:e3b105f8-a02a-4959-8fa9-8da786795f1e\" xlink:show=\"new\" xlink:title=\"psysml:e3b105f8-a02a-4959-8fa9-8da786795f1e\" xlink:type=\"simple\"><rect fill=\"#FFFFFF\" height=\"45.9375\" id=\"E9\" rx=\"10\" ry=\"10\" style=\"stroke: #383838; stroke-width: 1.5;\" width=\"42\" x=\"244\" y=\"62\"/><text fill=\"#000000\" font-family=\"sans-serif\" font-size=\"12\" font-style=\"italic\" lengthAdjust=\"spacingAndGlyphs\" textLength=\"40\" x=\"245\" y=\"78.1387\">«part»</text><text fill=\"#000000\" font-family=\"sans-serif\" font-size=\"12\" lengthAdjust=\"spacingAndGlyphs\" textLength=\"4\" x=\"261\" y=\"92.1074\">f</text><line style=\"stroke: #383838; stroke-width: 1.5;\" x1=\"245\" x2=\"285\" y1=\"99.9375\" y2=\"99.9375\"/></a><!--MD5=[96f4274e9e20536e775497830990834d]\n",
       "class E10--><a href=\"psysml:0b08e64f-1d74-4a65-b189-b5a78b2f5a03\" target=\"_top\" title=\"psysml:0b08e64f-1d74-4a65-b189-b5a78b2f5a03\" xlink:actuate=\"onRequest\" xlink:href=\"psysml:0b08e64f-1d74-4a65-b189-b5a78b2f5a03\" xlink:show=\"new\" xlink:title=\"psysml:0b08e64f-1d74-4a65-b189-b5a78b2f5a03\" xlink:type=\"simple\"><rect fill=\"#FFFFFF\" height=\"45.9375\" id=\"E10\" rx=\"10\" ry=\"10\" style=\"stroke: #383838; stroke-width: 1.5;\" width=\"42\" x=\"167\" y=\"62\"/><text fill=\"#000000\" font-family=\"sans-serif\" font-size=\"12\" font-style=\"italic\" lengthAdjust=\"spacingAndGlyphs\" textLength=\"40\" x=\"168\" y=\"78.1387\">«part»</text><text fill=\"#000000\" font-family=\"sans-serif\" font-size=\"12\" lengthAdjust=\"spacingAndGlyphs\" textLength=\"8\" x=\"182\" y=\"92.1074\">g</text><line style=\"stroke: #383838; stroke-width: 1.5;\" x1=\"168\" x2=\"208\" y1=\"99.9375\" y2=\"99.9375\"/></a><!--MD5=[1dd1bfd58a279cf63c5f349dbc8fc6a1]\n",
       "class E11--><a href=\"psysml:d2ba3396-0b46-40b3-bbf4-49972d7872ff\" target=\"_top\" title=\"psysml:d2ba3396-0b46-40b3-bbf4-49972d7872ff\" xlink:actuate=\"onRequest\" xlink:href=\"psysml:d2ba3396-0b46-40b3-bbf4-49972d7872ff\" xlink:show=\"new\" xlink:title=\"psysml:d2ba3396-0b46-40b3-bbf4-49972d7872ff\" xlink:type=\"simple\"><rect fill=\"#FFFFFF\" height=\"88.3516\" id=\"E11\" style=\"stroke: #383838; stroke-width: 1.5;\" width=\"99\" x=\"32.5\" y=\"41\"/><text fill=\"#000000\" font-family=\"sans-serif\" font-size=\"12\" font-style=\"italic\" lengthAdjust=\"spacingAndGlyphs\" textLength=\"97\" x=\"33.5\" y=\"57.1387\">«attribute  def»</text><text fill=\"#000000\" font-family=\"sans-serif\" font-size=\"12\" lengthAdjust=\"spacingAndGlyphs\" textLength=\"8\" x=\"78\" y=\"71.1074\">A</text><line style=\"stroke: #383838; stroke-width: 1.5;\" x1=\"33.5\" x2=\"130.5\" y1=\"78.9375\" y2=\"78.9375\"/><text fill=\"#000000\" font-family=\"sans-serif\" font-size=\"11\" lengthAdjust=\"spacingAndGlyphs\" textLength=\"51\" x=\"38.5\" y=\"109.9526\">i: Integer</text><text fill=\"#000000\" font-family=\"sans-serif\" font-size=\"11\" lengthAdjust=\"spacingAndGlyphs\" textLength=\"21\" x=\"38.5\" y=\"122.7573\">x: A</text><line style=\"stroke: #383838; stroke-width: 1.0;\" x1=\"33.5\" x2=\"54.5\" y1=\"93.3398\" y2=\"93.3398\"/><text fill=\"#000000\" font-family=\"sans-serif\" font-size=\"11\" lengthAdjust=\"spacingAndGlyphs\" textLength=\"55\" x=\"54.5\" y=\"96.6479\">attributes</text><line style=\"stroke: #383838; stroke-width: 1.0;\" x1=\"109.5\" x2=\"130.5\" y1=\"93.3398\" y2=\"93.3398\"/></a><!--MD5=[15ebcb19ae302d9b601edb458606d402]\n",
       "link E5 to E2--><a href=\"psysml:b362769d-1260-4065-9b83-621f0da47e8d\" target=\"_top\" title=\"psysml:b362769d-1260-4065-9b83-621f0da47e8d\" xlink:actuate=\"onRequest\" xlink:href=\"psysml:b362769d-1260-4065-9b83-621f0da47e8d\" xlink:show=\"new\" xlink:title=\"psysml:b362769d-1260-4065-9b83-621f0da47e8d\" xlink:type=\"simple\"><path d=\"M566.12,108.06 C560.83,125 553.38,148.89 546.98,169.39 \" fill=\"none\" id=\"E5-&gt;E2\" style=\"stroke: #383838; stroke-width: 1.0;\"/><polygon fill=\"#FFFFFF\" points=\"540.95,188.74,539.929,168.5173,553.2931,172.6886,540.95,188.74\" style=\"stroke: #383838; stroke-width: 1.0;\"/><ellipse cx=\"543.5364\" cy=\"163.6721\" fill=\"#383838\" rx=\"2\" ry=\"2\" style=\"stroke: #383838; stroke-width: 1.0;\"/><ellipse cx=\"553.0823\" cy=\"166.6516\" fill=\"#383838\" rx=\"2\" ry=\"2\" style=\"stroke: #383838; stroke-width: 1.0;\"/></a><!--MD5=[2351f337d6de0f557b50152ba70847b5]\n",
       "link E6 to E2--><a href=\"psysml:03080077-3284-4bc2-8ec3-31a93274162e\" target=\"_top\" title=\"psysml:03080077-3284-4bc2-8ec3-31a93274162e\" xlink:actuate=\"onRequest\" xlink:href=\"psysml:03080077-3284-4bc2-8ec3-31a93274162e\" xlink:show=\"new\" xlink:title=\"psysml:03080077-3284-4bc2-8ec3-31a93274162e\" xlink:type=\"simple\"><path d=\"M502.71,108.06 C507.86,125 515.12,148.89 521.35,169.39 \" fill=\"none\" id=\"E6-&gt;E2\" style=\"stroke: #383838; stroke-width: 1.0;\"/><polygon fill=\"#FFFFFF\" points=\"527.23,188.74,515.007,172.597,528.4019,168.5255,527.23,188.74\" style=\"stroke: #383838; stroke-width: 1.0;\"/><ellipse cx=\"515.2628\" cy=\"166.5617\" fill=\"#383838\" rx=\"2\" ry=\"2\" style=\"stroke: #383838; stroke-width: 1.0;\"/><ellipse cx=\"524.8306\" cy=\"163.6535\" fill=\"#383838\" rx=\"2\" ry=\"2\" style=\"stroke: #383838; stroke-width: 1.0;\"/></a><!--MD5=[aa071b9acaca251f809b09db05f4bed5]\n",
       "@startuml\r\n",
       " skinparam monochrome true\r\n",
       "skinparam classbackgroundcolor white\r\n",
       "skinparam shadowing false\r\n",
       "skinparam wrapWidth 300\r\n",
       "hide circle\r\n",
       "\r\n",
       "package \"MultiplicityTest\" as E1  [[psysml:e445ccd1-d7b4-46a5-bbe0-1ba908b830dd ]]  {\r\n",
       "comp def \"P\" as E2  <<(T,blue) part  def>> [[psysml:7d5bba99-ceb9-4796-b455-cbfdc331a9aa ]] {\r\n",
       "}\r\n",
       "comp usage \"n: Integer \" as E3  <<(T,blue) attribute>> [[psysml:ec541e3b-6371-48bf-8290-c0b2a0f88f52 ]] {\r\n",
       "}\r\n",
       "comp usage \"a \" as E4  <<(T,blue) part>> [[psysml:0bccd947-b2f6-485e-9c27-5cc482a56716 ]] {\r\n",
       "}\r\n",
       "comp usage \"b: P \" as E5  <<(T,blue) part>> [[psysml:3563b5dd-e50a-438e-94ba-a5b38ab6df54 ]] {\r\n",
       "}\r\n",
       "comp usage \"c: P \" as E6  <<(T,blue) part>> [[psysml:61a7c4a1-1480-402d-a8df-76594b39497b ]] {\r\n",
       "}\r\n",
       "comp usage \"d \" as E7  <<(T,blue) part>> [[psysml:f3d0dfc0-0dbb-4454-830c-43cee9c0f8af ]] {\r\n",
       "}\r\n",
       "comp usage \"e \" as E8  <<(T,blue) part>> [[psysml:470ebeae-9c21-45dc-92b7-3ec0bcac92c0 ]] {\r\n",
       "}\r\n",
       "comp usage \"f \" as E9  <<(T,blue) part>> [[psysml:e3b105f8-a02a-4959-8fa9-8da786795f1e ]] {\r\n",
       "}\r\n",
       "comp usage \"g \" as E10  <<(T,blue) part>> [[psysml:0b08e64f-1d74-4a65-b189-b5a78b2f5a03 ]] {\r\n",
       "}\r\n",
       "comp def \"A\" as E11  <<(T,blue) attribute  def>> [[psysml:d2ba3396-0b46-40b3-bbf4-49972d7872ff ]] {\r\n",
       "- - attributes - -\r\n",
       "i: Integer\r\n",
       "x: A\r\n",
       "}\r\n",
       "}\r\n",
       "E5 - -:|> E2 [[psysml:b362769d-1260-4065-9b83-621f0da47e8d ]] \r\n",
       "E6 - -:|> E2 [[psysml:03080077-3284-4bc2-8ec3-31a93274162e ]] \r\n",
       "@enduml\r\n",
       "\n",
       "PlantUML version 1.2020.13(Sat Jun 13 12:26:38 UTC 2020)\n",
       "(EPL source distribution)\n",
       "Java Runtime: OpenJDK Runtime Environment\n",
       "JVM: OpenJDK 64-Bit Server VM\n",
       "Default Encoding: UTF-8\n",
       "Language: en\n",
       "Country: null\n",
       "--></g></svg>"
      ]
     },
     "execution_count": 3,
     "metadata": {},
     "output_type": "execute_result"
    }
   ],
   "source": [
    "%viz --style=\"COMPTREE\" --view=\"Tree\" \"MultiplicityTest\""
   ]
  },
  {
   "cell_type": "code",
   "execution_count": 4,
   "id": "c9140df0",
   "metadata": {
    "execution": {
     "iopub.execute_input": "2022-02-05T16:56:08.151467Z",
     "iopub.status.busy": "2022-02-05T16:56:08.151040Z",
     "iopub.status.idle": "2022-02-05T16:56:08.160643Z",
     "shell.execute_reply": "2022-02-05T16:56:08.160960Z"
    }
   },
   "outputs": [
    {
     "data": {
      "image/svg+xml": [
       "<?xml version=\"1.0\" encoding=\"UTF-8\" standalone=\"no\"?><svg xmlns=\"http://www.w3.org/2000/svg\" xmlns:xlink=\"http://www.w3.org/1999/xlink\" contentScriptType=\"application/ecmascript\" contentStyleType=\"text/css\" height=\"12px\" preserveAspectRatio=\"none\" style=\"width:12px;height:12px;\" version=\"1.1\" viewBox=\"0 0 12 12\" width=\"12px\" zoomAndPan=\"magnify\"><defs/><g><!--MD5=[f19188ef49e11757b5c46753f95d9edc]\n",
       "@startuml\r\n",
       " skinparam monochrome true\r\n",
       "skinparam classbackgroundcolor white\r\n",
       "skinparam shadowing false\r\n",
       "skinparam wrapWidth 300\r\n",
       "hide circle\r\n",
       "\r\n",
       "@enduml\r\n",
       "\n",
       "PlantUML version 1.2020.13(Sat Jun 13 12:26:38 UTC 2020)\n",
       "(EPL source distribution)\n",
       "Java Runtime: OpenJDK Runtime Environment\n",
       "JVM: OpenJDK 64-Bit Server VM\n",
       "Default Encoding: UTF-8\n",
       "Language: en\n",
       "Country: null\n",
       "--></g></svg>"
      ]
     },
     "execution_count": 4,
     "metadata": {},
     "output_type": "execute_result"
    }
   ],
   "source": [
    "%viz --style=\"COMPTREE\" --view=\"State\" \"MultiplicityTest\""
   ]
  },
  {
   "cell_type": "code",
   "execution_count": 5,
   "id": "f9f09706",
   "metadata": {
    "execution": {
     "iopub.execute_input": "2022-02-05T16:56:08.211637Z",
     "iopub.status.busy": "2022-02-05T16:56:08.211209Z",
     "iopub.status.idle": "2022-02-05T16:56:08.264419Z",
     "shell.execute_reply": "2022-02-05T16:56:08.264737Z"
    }
   },
   "outputs": [
    {
     "data": {
      "image/svg+xml": [
       "<?xml version=\"1.0\" encoding=\"UTF-8\" standalone=\"no\"?><svg xmlns=\"http://www.w3.org/2000/svg\" xmlns:xlink=\"http://www.w3.org/1999/xlink\" contentScriptType=\"application/ecmascript\" contentStyleType=\"text/css\" height=\"115px\" preserveAspectRatio=\"none\" style=\"width:987px;height:115px;\" version=\"1.1\" viewBox=\"0 0 987 115\" width=\"987px\" zoomAndPan=\"magnify\"><defs/><g><!--MD5=[fbc87193dbaf4d95561dea2c320d4a47]\n",
       "cluster E1--><a href=\"psysml:e445ccd1-d7b4-46a5-bbe0-1ba908b830dd\" target=\"_top\" title=\"psysml:e445ccd1-d7b4-46a5-bbe0-1ba908b830dd\" xlink:actuate=\"onRequest\" xlink:href=\"psysml:e445ccd1-d7b4-46a5-bbe0-1ba908b830dd\" xlink:show=\"new\" xlink:title=\"psysml:e445ccd1-d7b4-46a5-bbe0-1ba908b830dd\" xlink:type=\"simple\"><polygon fill=\"#FFFFFF\" points=\"16,6,123,6,130,28.2969,965,28.2969,965,103,16,103,16,6\" style=\"stroke: #000000; stroke-width: 1.5;\"/><line style=\"stroke: #000000; stroke-width: 1.5;\" x1=\"16\" x2=\"130\" y1=\"28.2969\" y2=\"28.2969\"/><text fill=\"#000000\" font-family=\"sans-serif\" font-size=\"14\" font-weight=\"bold\" lengthAdjust=\"spacingAndGlyphs\" textLength=\"101\" x=\"20\" y=\"20.9951\">MultiplicityTest</text></a><!--MD5=[09b614a08d8cba4a07c9adeb5e0fee81]\n",
       "class E3--><a href=\"psysml:ec541e3b-6371-48bf-8290-c0b2a0f88f52\" target=\"_top\" title=\"psysml:ec541e3b-6371-48bf-8290-c0b2a0f88f52\" xlink:actuate=\"onRequest\" xlink:href=\"psysml:ec541e3b-6371-48bf-8290-c0b2a0f88f52\" xlink:show=\"new\" xlink:title=\"psysml:ec541e3b-6371-48bf-8290-c0b2a0f88f52\" xlink:type=\"simple\"><rect fill=\"#FFFFFF\" height=\"45.9375\" id=\"E3\" rx=\"10\" ry=\"10\" style=\"stroke: #383838; stroke-width: 1.5;\" width=\"71\" x=\"877.5\" y=\"41\"/><text fill=\"#000000\" font-family=\"sans-serif\" font-size=\"12\" font-style=\"italic\" lengthAdjust=\"spacingAndGlyphs\" textLength=\"69\" x=\"878.5\" y=\"57.1387\">«attribute»</text><text fill=\"#000000\" font-family=\"sans-serif\" font-size=\"12\" lengthAdjust=\"spacingAndGlyphs\" textLength=\"61\" x=\"880.5\" y=\"71.1074\">n: Integer</text><line style=\"stroke: #383838; stroke-width: 1.5;\" x1=\"878.5\" x2=\"947.5\" y1=\"78.9375\" y2=\"78.9375\"/></a><g id=\"E1.E11\"><a href=\"psysml:d2ba3396-0b46-40b3-bbf4-49972d7872ff\" target=\"_top\" title=\"psysml:d2ba3396-0b46-40b3-bbf4-49972d7872ff\" xlink:actuate=\"onRequest\" xlink:href=\"psysml:d2ba3396-0b46-40b3-bbf4-49972d7872ff\" xlink:show=\"new\" xlink:title=\"psysml:d2ba3396-0b46-40b3-bbf4-49972d7872ff\" xlink:type=\"simple\"><rect fill=\"#FFFFFF\" height=\"42.9375\" id=\"E11\" style=\"stroke: #383838; stroke-width: 1.5;\" width=\"104\" x=\"738\" y=\"42.5\"/><rect fill=\"#F8F8F8\" height=\"37.9375\" style=\"stroke: #383838; stroke-width: 1.5;\" width=\"104\" x=\"738\" y=\"42.5\"/><text fill=\"#000000\" font-family=\"sans-serif\" font-size=\"12\" font-style=\"italic\" lengthAdjust=\"spacingAndGlyphs\" textLength=\"97\" x=\"741.5\" y=\"58.6387\">«attribute  def»</text><text fill=\"#000000\" font-family=\"sans-serif\" font-size=\"12\" lengthAdjust=\"spacingAndGlyphs\" textLength=\"8\" x=\"786\" y=\"72.6074\">A</text></a></g><g id=\"E1.E2\"><a href=\"psysml:7d5bba99-ceb9-4796-b455-cbfdc331a9aa\" target=\"_top\" title=\"psysml:7d5bba99-ceb9-4796-b455-cbfdc331a9aa\" xlink:actuate=\"onRequest\" xlink:href=\"psysml:7d5bba99-ceb9-4796-b455-cbfdc331a9aa\" xlink:show=\"new\" xlink:title=\"psysml:7d5bba99-ceb9-4796-b455-cbfdc331a9aa\" xlink:type=\"simple\"><rect fill=\"#FFFFFF\" height=\"42.9375\" id=\"E2\" style=\"stroke: #383838; stroke-width: 1.5;\" width=\"75\" x=\"627.5\" y=\"42.5\"/><rect fill=\"#F8F8F8\" height=\"37.9375\" style=\"stroke: #383838; stroke-width: 1.5;\" width=\"75\" x=\"627.5\" y=\"42.5\"/><text fill=\"#000000\" font-family=\"sans-serif\" font-size=\"12\" font-style=\"italic\" lengthAdjust=\"spacingAndGlyphs\" textLength=\"68\" x=\"631\" y=\"58.6387\">«part  def»</text><text fill=\"#000000\" font-family=\"sans-serif\" font-size=\"12\" lengthAdjust=\"spacingAndGlyphs\" textLength=\"8\" x=\"661\" y=\"72.6074\">P</text></a></g><g id=\"E1.E4\"><a href=\"psysml:0bccd947-b2f6-485e-9c27-5cc482a56716\" target=\"_top\" title=\"psysml:0bccd947-b2f6-485e-9c27-5cc482a56716\" xlink:actuate=\"onRequest\" xlink:href=\"psysml:0bccd947-b2f6-485e-9c27-5cc482a56716\" xlink:show=\"new\" xlink:title=\"psysml:0bccd947-b2f6-485e-9c27-5cc482a56716\" xlink:type=\"simple\"><rect fill=\"#FFFFFF\" height=\"40\" id=\"E4\" rx=\"10\" ry=\"10\" style=\"stroke: #383838; stroke-width: 1.5;\" width=\"50\" x=\"542\" y=\"44\"/><rect fill=\"#F8F8F8\" height=\"23.9688\" rx=\"10\" ry=\"10\" style=\"stroke: #F8F8F8; stroke-width: 1.5;\" width=\"50\" x=\"542\" y=\"44\"/><rect fill=\"#F8F8F8\" height=\"10\" style=\"stroke: #F8F8F8; stroke-width: 1.5;\" width=\"50\" x=\"542\" y=\"57.9688\"/><rect fill=\"none\" height=\"40\" id=\"E4\" rx=\"10\" ry=\"10\" style=\"stroke: #383838; stroke-width: 1.5;\" width=\"50\" x=\"542\" y=\"44\"/><text fill=\"#000000\" font-family=\"sans-serif\" font-size=\"12\" lengthAdjust=\"spacingAndGlyphs\" textLength=\"8\" x=\"563\" y=\"60.1387\">a</text></a></g><g id=\"E1.E5\"><a href=\"psysml:3563b5dd-e50a-438e-94ba-a5b38ab6df54\" target=\"_top\" title=\"psysml:3563b5dd-e50a-438e-94ba-a5b38ab6df54\" xlink:actuate=\"onRequest\" xlink:href=\"psysml:3563b5dd-e50a-438e-94ba-a5b38ab6df54\" xlink:show=\"new\" xlink:title=\"psysml:3563b5dd-e50a-438e-94ba-a5b38ab6df54\" xlink:type=\"simple\"><rect fill=\"#FFFFFF\" height=\"40\" id=\"E5\" rx=\"10\" ry=\"10\" style=\"stroke: #383838; stroke-width: 1.5;\" width=\"50\" x=\"457\" y=\"44\"/><rect fill=\"#F8F8F8\" height=\"23.9688\" rx=\"10\" ry=\"10\" style=\"stroke: #F8F8F8; stroke-width: 1.5;\" width=\"50\" x=\"457\" y=\"44\"/><rect fill=\"#F8F8F8\" height=\"10\" style=\"stroke: #F8F8F8; stroke-width: 1.5;\" width=\"50\" x=\"457\" y=\"57.9688\"/><rect fill=\"none\" height=\"40\" id=\"E5\" rx=\"10\" ry=\"10\" style=\"stroke: #383838; stroke-width: 1.5;\" width=\"50\" x=\"457\" y=\"44\"/><text fill=\"#000000\" font-family=\"sans-serif\" font-size=\"12\" lengthAdjust=\"spacingAndGlyphs\" textLength=\"24\" x=\"470\" y=\"60.1387\">b: P</text></a></g><g id=\"E1.E6\"><a href=\"psysml:61a7c4a1-1480-402d-a8df-76594b39497b\" target=\"_top\" title=\"psysml:61a7c4a1-1480-402d-a8df-76594b39497b\" xlink:actuate=\"onRequest\" xlink:href=\"psysml:61a7c4a1-1480-402d-a8df-76594b39497b\" xlink:show=\"new\" xlink:title=\"psysml:61a7c4a1-1480-402d-a8df-76594b39497b\" xlink:type=\"simple\"><rect fill=\"#FFFFFF\" height=\"40\" id=\"E6\" rx=\"10\" ry=\"10\" style=\"stroke: #383838; stroke-width: 1.5;\" width=\"50\" x=\"372\" y=\"44\"/><rect fill=\"#F8F8F8\" height=\"23.9688\" rx=\"10\" ry=\"10\" style=\"stroke: #F8F8F8; stroke-width: 1.5;\" width=\"50\" x=\"372\" y=\"44\"/><rect fill=\"#F8F8F8\" height=\"10\" style=\"stroke: #F8F8F8; stroke-width: 1.5;\" width=\"50\" x=\"372\" y=\"57.9688\"/><rect fill=\"none\" height=\"40\" id=\"E6\" rx=\"10\" ry=\"10\" style=\"stroke: #383838; stroke-width: 1.5;\" width=\"50\" x=\"372\" y=\"44\"/><text fill=\"#000000\" font-family=\"sans-serif\" font-size=\"12\" lengthAdjust=\"spacingAndGlyphs\" textLength=\"23\" x=\"385.5\" y=\"60.1387\">c: P</text></a></g><g id=\"E1.E7\"><a href=\"psysml:f3d0dfc0-0dbb-4454-830c-43cee9c0f8af\" target=\"_top\" title=\"psysml:f3d0dfc0-0dbb-4454-830c-43cee9c0f8af\" xlink:actuate=\"onRequest\" xlink:href=\"psysml:f3d0dfc0-0dbb-4454-830c-43cee9c0f8af\" xlink:show=\"new\" xlink:title=\"psysml:f3d0dfc0-0dbb-4454-830c-43cee9c0f8af\" xlink:type=\"simple\"><rect fill=\"#FFFFFF\" height=\"40\" id=\"E7\" rx=\"10\" ry=\"10\" style=\"stroke: #383838; stroke-width: 1.5;\" width=\"50\" x=\"287\" y=\"44\"/><rect fill=\"#F8F8F8\" height=\"23.9688\" rx=\"10\" ry=\"10\" style=\"stroke: #F8F8F8; stroke-width: 1.5;\" width=\"50\" x=\"287\" y=\"44\"/><rect fill=\"#F8F8F8\" height=\"10\" style=\"stroke: #F8F8F8; stroke-width: 1.5;\" width=\"50\" x=\"287\" y=\"57.9688\"/><rect fill=\"none\" height=\"40\" id=\"E7\" rx=\"10\" ry=\"10\" style=\"stroke: #383838; stroke-width: 1.5;\" width=\"50\" x=\"287\" y=\"44\"/><text fill=\"#000000\" font-family=\"sans-serif\" font-size=\"12\" lengthAdjust=\"spacingAndGlyphs\" textLength=\"8\" x=\"308\" y=\"60.1387\">d</text></a></g><g id=\"E1.E8\"><a href=\"psysml:470ebeae-9c21-45dc-92b7-3ec0bcac92c0\" target=\"_top\" title=\"psysml:470ebeae-9c21-45dc-92b7-3ec0bcac92c0\" xlink:actuate=\"onRequest\" xlink:href=\"psysml:470ebeae-9c21-45dc-92b7-3ec0bcac92c0\" xlink:show=\"new\" xlink:title=\"psysml:470ebeae-9c21-45dc-92b7-3ec0bcac92c0\" xlink:type=\"simple\"><rect fill=\"#FFFFFF\" height=\"40\" id=\"E8\" rx=\"10\" ry=\"10\" style=\"stroke: #383838; stroke-width: 1.5;\" width=\"50\" x=\"202\" y=\"44\"/><rect fill=\"#F8F8F8\" height=\"23.9688\" rx=\"10\" ry=\"10\" style=\"stroke: #F8F8F8; stroke-width: 1.5;\" width=\"50\" x=\"202\" y=\"44\"/><rect fill=\"#F8F8F8\" height=\"10\" style=\"stroke: #F8F8F8; stroke-width: 1.5;\" width=\"50\" x=\"202\" y=\"57.9688\"/><rect fill=\"none\" height=\"40\" id=\"E8\" rx=\"10\" ry=\"10\" style=\"stroke: #383838; stroke-width: 1.5;\" width=\"50\" x=\"202\" y=\"44\"/><text fill=\"#000000\" font-family=\"sans-serif\" font-size=\"12\" lengthAdjust=\"spacingAndGlyphs\" textLength=\"8\" x=\"223\" y=\"60.1387\">e</text></a></g><g id=\"E1.E9\"><a href=\"psysml:e3b105f8-a02a-4959-8fa9-8da786795f1e\" target=\"_top\" title=\"psysml:e3b105f8-a02a-4959-8fa9-8da786795f1e\" xlink:actuate=\"onRequest\" xlink:href=\"psysml:e3b105f8-a02a-4959-8fa9-8da786795f1e\" xlink:show=\"new\" xlink:title=\"psysml:e3b105f8-a02a-4959-8fa9-8da786795f1e\" xlink:type=\"simple\"><rect fill=\"#FFFFFF\" height=\"40\" id=\"E9\" rx=\"10\" ry=\"10\" style=\"stroke: #383838; stroke-width: 1.5;\" width=\"50\" x=\"117\" y=\"44\"/><rect fill=\"#F8F8F8\" height=\"23.9688\" rx=\"10\" ry=\"10\" style=\"stroke: #F8F8F8; stroke-width: 1.5;\" width=\"50\" x=\"117\" y=\"44\"/><rect fill=\"#F8F8F8\" height=\"10\" style=\"stroke: #F8F8F8; stroke-width: 1.5;\" width=\"50\" x=\"117\" y=\"57.9688\"/><rect fill=\"none\" height=\"40\" id=\"E9\" rx=\"10\" ry=\"10\" style=\"stroke: #383838; stroke-width: 1.5;\" width=\"50\" x=\"117\" y=\"44\"/><text fill=\"#000000\" font-family=\"sans-serif\" font-size=\"12\" lengthAdjust=\"spacingAndGlyphs\" textLength=\"4\" x=\"140\" y=\"60.1387\">f</text></a></g><g id=\"E1.E10\"><a href=\"psysml:0b08e64f-1d74-4a65-b189-b5a78b2f5a03\" target=\"_top\" title=\"psysml:0b08e64f-1d74-4a65-b189-b5a78b2f5a03\" xlink:actuate=\"onRequest\" xlink:href=\"psysml:0b08e64f-1d74-4a65-b189-b5a78b2f5a03\" xlink:show=\"new\" xlink:title=\"psysml:0b08e64f-1d74-4a65-b189-b5a78b2f5a03\" xlink:type=\"simple\"><rect fill=\"#FFFFFF\" height=\"40\" id=\"E10\" rx=\"10\" ry=\"10\" style=\"stroke: #383838; stroke-width: 1.5;\" width=\"50\" x=\"32\" y=\"44\"/><rect fill=\"#F8F8F8\" height=\"23.9688\" rx=\"10\" ry=\"10\" style=\"stroke: #F8F8F8; stroke-width: 1.5;\" width=\"50\" x=\"32\" y=\"44\"/><rect fill=\"#F8F8F8\" height=\"10\" style=\"stroke: #F8F8F8; stroke-width: 1.5;\" width=\"50\" x=\"32\" y=\"57.9688\"/><rect fill=\"none\" height=\"40\" id=\"E10\" rx=\"10\" ry=\"10\" style=\"stroke: #383838; stroke-width: 1.5;\" width=\"50\" x=\"32\" y=\"44\"/><text fill=\"#000000\" font-family=\"sans-serif\" font-size=\"12\" lengthAdjust=\"spacingAndGlyphs\" textLength=\"8\" x=\"53\" y=\"60.1387\">g</text></a></g><!--MD5=[d637db4eeea08ed16195c7e1aaaac3d6]\n",
       "@startuml\r\n",
       "skinparam ranksep 10\r\n",
       "skinparam rectangle {\r\n",
       " backgroundColor<<block>> LightGreen\r\n",
       "}\r\n",
       " skinparam monochrome true\r\n",
       "skinparam classbackgroundcolor white\r\n",
       "skinparam shadowing false\r\n",
       "skinparam wrapWidth 300\r\n",
       "hide circle\r\n",
       "\r\n",
       "package \"MultiplicityTest\" as E1  [[psysml:e445ccd1-d7b4-46a5-bbe0-1ba908b830dd ]]  {\r\n",
       "rec def \"P\" as E2  <<(T,blue) part  def>> [[psysml:7d5bba99-ceb9-4796-b455-cbfdc331a9aa ]] {\r\n",
       "}\r\n",
       "comp usage \"n: Integer \" as E3  <<(T,blue) attribute>> [[psysml:ec541e3b-6371-48bf-8290-c0b2a0f88f52 ]] {\r\n",
       "}\r\n",
       "rec usage \"a\" as E4  [[psysml:0bccd947-b2f6-485e-9c27-5cc482a56716 ]] {\r\n",
       "}\r\n",
       "rec usage \"b: P\" as E5  [[psysml:3563b5dd-e50a-438e-94ba-a5b38ab6df54 ]] {\r\n",
       "}\r\n",
       "rec usage \"c: P\" as E6  [[psysml:61a7c4a1-1480-402d-a8df-76594b39497b ]] {\r\n",
       "}\r\n",
       "rec usage \"d\" as E7  [[psysml:f3d0dfc0-0dbb-4454-830c-43cee9c0f8af ]] {\r\n",
       "}\r\n",
       "rec usage \"e\" as E8  [[psysml:470ebeae-9c21-45dc-92b7-3ec0bcac92c0 ]] {\r\n",
       "}\r\n",
       "rec usage \"f\" as E9  [[psysml:e3b105f8-a02a-4959-8fa9-8da786795f1e ]] {\r\n",
       "}\r\n",
       "rec usage \"g\" as E10  [[psysml:0b08e64f-1d74-4a65-b189-b5a78b2f5a03 ]] {\r\n",
       "}\r\n",
       "def \"A\" as E11  <<(T,blue) attribute  def>> [[psysml:d2ba3396-0b46-40b3-bbf4-49972d7872ff ]] \r\n",
       "}\r\n",
       "@enduml\r\n",
       "\n",
       "PlantUML version 1.2020.13(Sat Jun 13 12:26:38 UTC 2020)\n",
       "(EPL source distribution)\n",
       "Java Runtime: OpenJDK Runtime Environment\n",
       "JVM: OpenJDK 64-Bit Server VM\n",
       "Default Encoding: UTF-8\n",
       "Language: en\n",
       "Country: null\n",
       "--></g></svg>"
      ]
     },
     "execution_count": 5,
     "metadata": {},
     "output_type": "execute_result"
    }
   ],
   "source": [
    "%viz --style=\"COMPTREE\" --view=\"Interconnection\" \"MultiplicityTest\""
   ]
  },
  {
   "cell_type": "code",
   "execution_count": 6,
   "id": "f92a772d",
   "metadata": {
    "execution": {
     "iopub.execute_input": "2022-02-05T16:56:08.315022Z",
     "iopub.status.busy": "2022-02-05T16:56:08.314612Z",
     "iopub.status.idle": "2022-02-05T16:56:08.322009Z",
     "shell.execute_reply": "2022-02-05T16:56:08.322325Z"
    }
   },
   "outputs": [
    {
     "data": {
      "image/svg+xml": [
       "<?xml version=\"1.0\" encoding=\"UTF-8\" standalone=\"no\"?><svg xmlns=\"http://www.w3.org/2000/svg\" xmlns:xlink=\"http://www.w3.org/1999/xlink\" contentScriptType=\"application/ecmascript\" contentStyleType=\"text/css\" height=\"12px\" preserveAspectRatio=\"none\" style=\"width:12px;height:12px;\" version=\"1.1\" viewBox=\"0 0 12 12\" width=\"12px\" zoomAndPan=\"magnify\"><defs/><g><!--MD5=[655b888544ca4751ea36af1068543f84]\n",
       "@startuml\r\n",
       "skinparam ranksep 8\r\n",
       " skinparam monochrome true\r\n",
       "skinparam classbackgroundcolor white\r\n",
       "skinparam shadowing false\r\n",
       "skinparam wrapWidth 300\r\n",
       "hide circle\r\n",
       "\r\n",
       "@enduml\r\n",
       "\n",
       "PlantUML version 1.2020.13(Sat Jun 13 12:26:38 UTC 2020)\n",
       "(EPL source distribution)\n",
       "Java Runtime: OpenJDK Runtime Environment\n",
       "JVM: OpenJDK 64-Bit Server VM\n",
       "Default Encoding: UTF-8\n",
       "Language: en\n",
       "Country: null\n",
       "--></g></svg>"
      ]
     },
     "execution_count": 6,
     "metadata": {},
     "output_type": "execute_result"
    }
   ],
   "source": [
    "%viz --style=\"COMPTREE\" --view=\"Action\" \"MultiplicityTest\""
   ]
  },
  {
   "cell_type": "code",
   "execution_count": 7,
   "id": "68eb4954",
   "metadata": {
    "execution": {
     "iopub.execute_input": "2022-02-05T16:56:08.372954Z",
     "iopub.status.busy": "2022-02-05T16:56:08.372543Z",
     "iopub.status.idle": "2022-02-05T16:56:08.385497Z",
     "shell.execute_reply": "2022-02-05T16:56:08.385811Z"
    }
   },
   "outputs": [
    {
     "data": {
      "image/svg+xml": [
       "<?xml version=\"1.0\" encoding=\"UTF-8\" standalone=\"no\"?><svg xmlns=\"http://www.w3.org/2000/svg\" xmlns:xlink=\"http://www.w3.org/1999/xlink\" contentScriptType=\"application/ecmascript\" contentStyleType=\"text/css\" height=\"12px\" preserveAspectRatio=\"none\" style=\"width:12px;height:12px;\" version=\"1.1\" viewBox=\"0 0 12 12\" width=\"12px\" zoomAndPan=\"magnify\"><defs/><g><!--MD5=[803fc46c337be7a5c8a9831e35356779]\n",
       "@startuml\r\n",
       "skinparam roundcorner 20\r\n",
       "skinparam BoxPadding 20\r\n",
       "skinparam SequenceBoxBackgroundColor #white\r\n",
       "skinparam style strictuml\r\n",
       "skinparam maxMessageSize 100\r\n",
       " skinparam monochrome true\r\n",
       "skinparam classbackgroundcolor white\r\n",
       "skinparam shadowing false\r\n",
       "skinparam wrapWidth 300\r\n",
       "hide circle\r\n",
       "\r\n",
       "@enduml\r\n",
       "\n",
       "PlantUML version 1.2020.13(Sat Jun 13 12:26:38 UTC 2020)\n",
       "(EPL source distribution)\n",
       "Java Runtime: OpenJDK Runtime Environment\n",
       "JVM: OpenJDK 64-Bit Server VM\n",
       "Default Encoding: UTF-8\n",
       "Language: en\n",
       "Country: null\n",
       "--></g></svg>"
      ]
     },
     "execution_count": 7,
     "metadata": {},
     "output_type": "execute_result"
    }
   ],
   "source": [
    "%viz --style=\"COMPTREE\" --view=\"Sequence\" \"MultiplicityTest\""
   ]
  },
  {
   "cell_type": "code",
   "execution_count": 8,
   "id": "efbb3186",
   "metadata": {
    "execution": {
     "iopub.execute_input": "2022-02-05T16:56:08.436385Z",
     "iopub.status.busy": "2022-02-05T16:56:08.435971Z",
     "iopub.status.idle": "2022-02-05T16:56:08.520279Z",
     "shell.execute_reply": "2022-02-05T16:56:08.519902Z"
    }
   },
   "outputs": [
    {
     "data": {
      "image/svg+xml": [
       "<?xml version=\"1.0\" encoding=\"UTF-8\" standalone=\"no\"?><svg xmlns=\"http://www.w3.org/2000/svg\" xmlns:xlink=\"http://www.w3.org/1999/xlink\" contentScriptType=\"application/ecmascript\" contentStyleType=\"text/css\" height=\"263px\" preserveAspectRatio=\"none\" style=\"width:816px;height:263px;\" version=\"1.1\" viewBox=\"0 0 816 263\" width=\"816px\" zoomAndPan=\"magnify\"><defs/><g><!--MD5=[fbc87193dbaf4d95561dea2c320d4a47]\n",
       "cluster E1--><a href=\"psysml:e445ccd1-d7b4-46a5-bbe0-1ba908b830dd\" target=\"_top\" title=\"psysml:e445ccd1-d7b4-46a5-bbe0-1ba908b830dd\" xlink:actuate=\"onRequest\" xlink:href=\"psysml:e445ccd1-d7b4-46a5-bbe0-1ba908b830dd\" xlink:show=\"new\" xlink:title=\"psysml:e445ccd1-d7b4-46a5-bbe0-1ba908b830dd\" xlink:type=\"simple\"><polygon fill=\"#FFFFFF\" points=\"16,6,123,6,130,28.2969,794,28.2969,794,251,16,251,16,6\" style=\"stroke: #000000; stroke-width: 1.5;\"/><line style=\"stroke: #000000; stroke-width: 1.5;\" x1=\"16\" x2=\"130\" y1=\"28.2969\" y2=\"28.2969\"/><text fill=\"#000000\" font-family=\"sans-serif\" font-size=\"14\" font-weight=\"bold\" lengthAdjust=\"spacingAndGlyphs\" textLength=\"101\" x=\"20\" y=\"20.9951\">MultiplicityTest</text></a><!--MD5=[b4997ac47864f28c2f74865a473b2911]\n",
       "class E2--><a href=\"psysml:7d5bba99-ceb9-4796-b455-cbfdc331a9aa\" target=\"_top\" title=\"psysml:7d5bba99-ceb9-4796-b455-cbfdc331a9aa\" xlink:actuate=\"onRequest\" xlink:href=\"psysml:7d5bba99-ceb9-4796-b455-cbfdc331a9aa\" xlink:show=\"new\" xlink:title=\"psysml:7d5bba99-ceb9-4796-b455-cbfdc331a9aa\" xlink:type=\"simple\"><rect fill=\"#FFFFFF\" height=\"45.9375\" id=\"E2\" style=\"stroke: #383838; stroke-width: 1.5;\" width=\"70\" x=\"499\" y=\"189\"/><text fill=\"#000000\" font-family=\"sans-serif\" font-size=\"12\" font-style=\"italic\" lengthAdjust=\"spacingAndGlyphs\" textLength=\"68\" x=\"500\" y=\"205.1387\">«part  def»</text><text fill=\"#000000\" font-family=\"sans-serif\" font-size=\"12\" lengthAdjust=\"spacingAndGlyphs\" textLength=\"8\" x=\"530\" y=\"219.1074\">P</text><line style=\"stroke: #383838; stroke-width: 1.5;\" x1=\"500\" x2=\"568\" y1=\"226.9375\" y2=\"226.9375\"/></a><!--MD5=[09b614a08d8cba4a07c9adeb5e0fee81]\n",
       "class E3--><a href=\"psysml:ec541e3b-6371-48bf-8290-c0b2a0f88f52\" target=\"_top\" title=\"psysml:ec541e3b-6371-48bf-8290-c0b2a0f88f52\" xlink:actuate=\"onRequest\" xlink:href=\"psysml:ec541e3b-6371-48bf-8290-c0b2a0f88f52\" xlink:show=\"new\" xlink:title=\"psysml:ec541e3b-6371-48bf-8290-c0b2a0f88f52\" xlink:type=\"simple\"><rect fill=\"#FFFFFF\" height=\"45.9375\" id=\"E3\" rx=\"10\" ry=\"10\" style=\"stroke: #383838; stroke-width: 1.5;\" width=\"71\" x=\"706.5\" y=\"62\"/><text fill=\"#000000\" font-family=\"sans-serif\" font-size=\"12\" font-style=\"italic\" lengthAdjust=\"spacingAndGlyphs\" textLength=\"69\" x=\"707.5\" y=\"78.1387\">«attribute»</text><text fill=\"#000000\" font-family=\"sans-serif\" font-size=\"12\" lengthAdjust=\"spacingAndGlyphs\" textLength=\"61\" x=\"709.5\" y=\"92.1074\">n: Integer</text><line style=\"stroke: #383838; stroke-width: 1.5;\" x1=\"707.5\" x2=\"776.5\" y1=\"99.9375\" y2=\"99.9375\"/></a><!--MD5=[ebbe1d658d1005bcc118a6aa81145e00]\n",
       "class E4--><a href=\"psysml:0bccd947-b2f6-485e-9c27-5cc482a56716\" target=\"_top\" title=\"psysml:0bccd947-b2f6-485e-9c27-5cc482a56716\" xlink:actuate=\"onRequest\" xlink:href=\"psysml:0bccd947-b2f6-485e-9c27-5cc482a56716\" xlink:show=\"new\" xlink:title=\"psysml:0bccd947-b2f6-485e-9c27-5cc482a56716\" xlink:type=\"simple\"><rect fill=\"#FFFFFF\" height=\"45.9375\" id=\"E4\" rx=\"10\" ry=\"10\" style=\"stroke: #383838; stroke-width: 1.5;\" width=\"42\" x=\"629\" y=\"62\"/><text fill=\"#000000\" font-family=\"sans-serif\" font-size=\"12\" font-style=\"italic\" lengthAdjust=\"spacingAndGlyphs\" textLength=\"40\" x=\"630\" y=\"78.1387\">«part»</text><text fill=\"#000000\" font-family=\"sans-serif\" font-size=\"12\" lengthAdjust=\"spacingAndGlyphs\" textLength=\"8\" x=\"644\" y=\"92.1074\">a</text><line style=\"stroke: #383838; stroke-width: 1.5;\" x1=\"630\" x2=\"670\" y1=\"99.9375\" y2=\"99.9375\"/></a><!--MD5=[270fce915f116d4de14055a7c1d9a0f3]\n",
       "class E5--><a href=\"psysml:3563b5dd-e50a-438e-94ba-a5b38ab6df54\" target=\"_top\" title=\"psysml:3563b5dd-e50a-438e-94ba-a5b38ab6df54\" xlink:actuate=\"onRequest\" xlink:href=\"psysml:3563b5dd-e50a-438e-94ba-a5b38ab6df54\" xlink:show=\"new\" xlink:title=\"psysml:3563b5dd-e50a-438e-94ba-a5b38ab6df54\" xlink:type=\"simple\"><rect fill=\"#FFFFFF\" height=\"45.9375\" id=\"E5\" rx=\"10\" ry=\"10\" style=\"stroke: #383838; stroke-width: 1.5;\" width=\"42\" x=\"552\" y=\"62\"/><text fill=\"#000000\" font-family=\"sans-serif\" font-size=\"12\" font-style=\"italic\" lengthAdjust=\"spacingAndGlyphs\" textLength=\"40\" x=\"553\" y=\"78.1387\">«part»</text><text fill=\"#000000\" font-family=\"sans-serif\" font-size=\"12\" lengthAdjust=\"spacingAndGlyphs\" textLength=\"24\" x=\"559\" y=\"92.1074\">b: P</text><line style=\"stroke: #383838; stroke-width: 1.5;\" x1=\"553\" x2=\"593\" y1=\"99.9375\" y2=\"99.9375\"/></a><!--MD5=[60a26617385b1d2d0262a64233df1f8d]\n",
       "class E6--><a href=\"psysml:61a7c4a1-1480-402d-a8df-76594b39497b\" target=\"_top\" title=\"psysml:61a7c4a1-1480-402d-a8df-76594b39497b\" xlink:actuate=\"onRequest\" xlink:href=\"psysml:61a7c4a1-1480-402d-a8df-76594b39497b\" xlink:show=\"new\" xlink:title=\"psysml:61a7c4a1-1480-402d-a8df-76594b39497b\" xlink:type=\"simple\"><rect fill=\"#FFFFFF\" height=\"45.9375\" id=\"E6\" rx=\"10\" ry=\"10\" style=\"stroke: #383838; stroke-width: 1.5;\" width=\"42\" x=\"475\" y=\"62\"/><text fill=\"#000000\" font-family=\"sans-serif\" font-size=\"12\" font-style=\"italic\" lengthAdjust=\"spacingAndGlyphs\" textLength=\"40\" x=\"476\" y=\"78.1387\">«part»</text><text fill=\"#000000\" font-family=\"sans-serif\" font-size=\"12\" lengthAdjust=\"spacingAndGlyphs\" textLength=\"23\" x=\"482.5\" y=\"92.1074\">c: P</text><line style=\"stroke: #383838; stroke-width: 1.5;\" x1=\"476\" x2=\"516\" y1=\"99.9375\" y2=\"99.9375\"/></a><!--MD5=[2156ba9850f5573cc1fc38a6a4b2f02b]\n",
       "class E7--><a href=\"psysml:f3d0dfc0-0dbb-4454-830c-43cee9c0f8af\" target=\"_top\" title=\"psysml:f3d0dfc0-0dbb-4454-830c-43cee9c0f8af\" xlink:actuate=\"onRequest\" xlink:href=\"psysml:f3d0dfc0-0dbb-4454-830c-43cee9c0f8af\" xlink:show=\"new\" xlink:title=\"psysml:f3d0dfc0-0dbb-4454-830c-43cee9c0f8af\" xlink:type=\"simple\"><rect fill=\"#FFFFFF\" height=\"45.9375\" id=\"E7\" rx=\"10\" ry=\"10\" style=\"stroke: #383838; stroke-width: 1.5;\" width=\"42\" x=\"398\" y=\"62\"/><text fill=\"#000000\" font-family=\"sans-serif\" font-size=\"12\" font-style=\"italic\" lengthAdjust=\"spacingAndGlyphs\" textLength=\"40\" x=\"399\" y=\"78.1387\">«part»</text><text fill=\"#000000\" font-family=\"sans-serif\" font-size=\"12\" lengthAdjust=\"spacingAndGlyphs\" textLength=\"8\" x=\"413\" y=\"92.1074\">d</text><line style=\"stroke: #383838; stroke-width: 1.5;\" x1=\"399\" x2=\"439\" y1=\"99.9375\" y2=\"99.9375\"/></a><!--MD5=[b9389687b975829384b498ac4b7476b2]\n",
       "class E8--><a href=\"psysml:470ebeae-9c21-45dc-92b7-3ec0bcac92c0\" target=\"_top\" title=\"psysml:470ebeae-9c21-45dc-92b7-3ec0bcac92c0\" xlink:actuate=\"onRequest\" xlink:href=\"psysml:470ebeae-9c21-45dc-92b7-3ec0bcac92c0\" xlink:show=\"new\" xlink:title=\"psysml:470ebeae-9c21-45dc-92b7-3ec0bcac92c0\" xlink:type=\"simple\"><rect fill=\"#FFFFFF\" height=\"45.9375\" id=\"E8\" rx=\"10\" ry=\"10\" style=\"stroke: #383838; stroke-width: 1.5;\" width=\"42\" x=\"321\" y=\"62\"/><text fill=\"#000000\" font-family=\"sans-serif\" font-size=\"12\" font-style=\"italic\" lengthAdjust=\"spacingAndGlyphs\" textLength=\"40\" x=\"322\" y=\"78.1387\">«part»</text><text fill=\"#000000\" font-family=\"sans-serif\" font-size=\"12\" lengthAdjust=\"spacingAndGlyphs\" textLength=\"8\" x=\"336\" y=\"92.1074\">e</text><line style=\"stroke: #383838; stroke-width: 1.5;\" x1=\"322\" x2=\"362\" y1=\"99.9375\" y2=\"99.9375\"/></a><!--MD5=[fd4143e9d270a159db93a4ea2a975926]\n",
       "class E9--><a href=\"psysml:e3b105f8-a02a-4959-8fa9-8da786795f1e\" target=\"_top\" title=\"psysml:e3b105f8-a02a-4959-8fa9-8da786795f1e\" xlink:actuate=\"onRequest\" xlink:href=\"psysml:e3b105f8-a02a-4959-8fa9-8da786795f1e\" xlink:show=\"new\" xlink:title=\"psysml:e3b105f8-a02a-4959-8fa9-8da786795f1e\" xlink:type=\"simple\"><rect fill=\"#FFFFFF\" height=\"45.9375\" id=\"E9\" rx=\"10\" ry=\"10\" style=\"stroke: #383838; stroke-width: 1.5;\" width=\"42\" x=\"244\" y=\"62\"/><text fill=\"#000000\" font-family=\"sans-serif\" font-size=\"12\" font-style=\"italic\" lengthAdjust=\"spacingAndGlyphs\" textLength=\"40\" x=\"245\" y=\"78.1387\">«part»</text><text fill=\"#000000\" font-family=\"sans-serif\" font-size=\"12\" lengthAdjust=\"spacingAndGlyphs\" textLength=\"4\" x=\"261\" y=\"92.1074\">f</text><line style=\"stroke: #383838; stroke-width: 1.5;\" x1=\"245\" x2=\"285\" y1=\"99.9375\" y2=\"99.9375\"/></a><!--MD5=[96f4274e9e20536e775497830990834d]\n",
       "class E10--><a href=\"psysml:0b08e64f-1d74-4a65-b189-b5a78b2f5a03\" target=\"_top\" title=\"psysml:0b08e64f-1d74-4a65-b189-b5a78b2f5a03\" xlink:actuate=\"onRequest\" xlink:href=\"psysml:0b08e64f-1d74-4a65-b189-b5a78b2f5a03\" xlink:show=\"new\" xlink:title=\"psysml:0b08e64f-1d74-4a65-b189-b5a78b2f5a03\" xlink:type=\"simple\"><rect fill=\"#FFFFFF\" height=\"45.9375\" id=\"E10\" rx=\"10\" ry=\"10\" style=\"stroke: #383838; stroke-width: 1.5;\" width=\"42\" x=\"167\" y=\"62\"/><text fill=\"#000000\" font-family=\"sans-serif\" font-size=\"12\" font-style=\"italic\" lengthAdjust=\"spacingAndGlyphs\" textLength=\"40\" x=\"168\" y=\"78.1387\">«part»</text><text fill=\"#000000\" font-family=\"sans-serif\" font-size=\"12\" lengthAdjust=\"spacingAndGlyphs\" textLength=\"8\" x=\"182\" y=\"92.1074\">g</text><line style=\"stroke: #383838; stroke-width: 1.5;\" x1=\"168\" x2=\"208\" y1=\"99.9375\" y2=\"99.9375\"/></a><!--MD5=[1dd1bfd58a279cf63c5f349dbc8fc6a1]\n",
       "class E11--><a href=\"psysml:d2ba3396-0b46-40b3-bbf4-49972d7872ff\" target=\"_top\" title=\"psysml:d2ba3396-0b46-40b3-bbf4-49972d7872ff\" xlink:actuate=\"onRequest\" xlink:href=\"psysml:d2ba3396-0b46-40b3-bbf4-49972d7872ff\" xlink:show=\"new\" xlink:title=\"psysml:d2ba3396-0b46-40b3-bbf4-49972d7872ff\" xlink:type=\"simple\"><rect fill=\"#FFFFFF\" height=\"88.3516\" id=\"E11\" style=\"stroke: #383838; stroke-width: 1.5;\" width=\"99\" x=\"32.5\" y=\"41\"/><text fill=\"#000000\" font-family=\"sans-serif\" font-size=\"12\" font-style=\"italic\" lengthAdjust=\"spacingAndGlyphs\" textLength=\"97\" x=\"33.5\" y=\"57.1387\">«attribute  def»</text><text fill=\"#000000\" font-family=\"sans-serif\" font-size=\"12\" lengthAdjust=\"spacingAndGlyphs\" textLength=\"8\" x=\"78\" y=\"71.1074\">A</text><line style=\"stroke: #383838; stroke-width: 1.5;\" x1=\"33.5\" x2=\"130.5\" y1=\"78.9375\" y2=\"78.9375\"/><text fill=\"#000000\" font-family=\"sans-serif\" font-size=\"11\" lengthAdjust=\"spacingAndGlyphs\" textLength=\"51\" x=\"38.5\" y=\"109.9526\">i: Integer</text><text fill=\"#000000\" font-family=\"sans-serif\" font-size=\"11\" lengthAdjust=\"spacingAndGlyphs\" textLength=\"21\" x=\"38.5\" y=\"122.7573\">x: A</text><line style=\"stroke: #383838; stroke-width: 1.0;\" x1=\"33.5\" x2=\"54.5\" y1=\"93.3398\" y2=\"93.3398\"/><text fill=\"#000000\" font-family=\"sans-serif\" font-size=\"11\" lengthAdjust=\"spacingAndGlyphs\" textLength=\"55\" x=\"54.5\" y=\"96.6479\">attributes</text><line style=\"stroke: #383838; stroke-width: 1.0;\" x1=\"109.5\" x2=\"130.5\" y1=\"93.3398\" y2=\"93.3398\"/></a><!--MD5=[15ebcb19ae302d9b601edb458606d402]\n",
       "link E5 to E2--><a href=\"psysml:b362769d-1260-4065-9b83-621f0da47e8d\" target=\"_top\" title=\"psysml:b362769d-1260-4065-9b83-621f0da47e8d\" xlink:actuate=\"onRequest\" xlink:href=\"psysml:b362769d-1260-4065-9b83-621f0da47e8d\" xlink:show=\"new\" xlink:title=\"psysml:b362769d-1260-4065-9b83-621f0da47e8d\" xlink:type=\"simple\"><path d=\"M566.12,108.06 C560.83,125 553.38,148.89 546.98,169.39 \" fill=\"none\" id=\"E5-&gt;E2\" style=\"stroke: #383838; stroke-width: 1.0;\"/><polygon fill=\"#FFFFFF\" points=\"540.95,188.74,539.929,168.5173,553.2931,172.6886,540.95,188.74\" style=\"stroke: #383838; stroke-width: 1.0;\"/><ellipse cx=\"543.5364\" cy=\"163.6721\" fill=\"#383838\" rx=\"2\" ry=\"2\" style=\"stroke: #383838; stroke-width: 1.0;\"/><ellipse cx=\"553.0823\" cy=\"166.6516\" fill=\"#383838\" rx=\"2\" ry=\"2\" style=\"stroke: #383838; stroke-width: 1.0;\"/></a><!--MD5=[2351f337d6de0f557b50152ba70847b5]\n",
       "link E6 to E2--><a href=\"psysml:03080077-3284-4bc2-8ec3-31a93274162e\" target=\"_top\" title=\"psysml:03080077-3284-4bc2-8ec3-31a93274162e\" xlink:actuate=\"onRequest\" xlink:href=\"psysml:03080077-3284-4bc2-8ec3-31a93274162e\" xlink:show=\"new\" xlink:title=\"psysml:03080077-3284-4bc2-8ec3-31a93274162e\" xlink:type=\"simple\"><path d=\"M502.71,108.06 C507.86,125 515.12,148.89 521.35,169.39 \" fill=\"none\" id=\"E6-&gt;E2\" style=\"stroke: #383838; stroke-width: 1.0;\"/><polygon fill=\"#FFFFFF\" points=\"527.23,188.74,515.007,172.597,528.4019,168.5255,527.23,188.74\" style=\"stroke: #383838; stroke-width: 1.0;\"/><ellipse cx=\"515.2628\" cy=\"166.5617\" fill=\"#383838\" rx=\"2\" ry=\"2\" style=\"stroke: #383838; stroke-width: 1.0;\"/><ellipse cx=\"524.8306\" cy=\"163.6535\" fill=\"#383838\" rx=\"2\" ry=\"2\" style=\"stroke: #383838; stroke-width: 1.0;\"/></a><!--MD5=[aa071b9acaca251f809b09db05f4bed5]\n",
       "@startuml\r\n",
       " skinparam monochrome true\r\n",
       "skinparam classbackgroundcolor white\r\n",
       "skinparam shadowing false\r\n",
       "skinparam wrapWidth 300\r\n",
       "hide circle\r\n",
       "\r\n",
       "package \"MultiplicityTest\" as E1  [[psysml:e445ccd1-d7b4-46a5-bbe0-1ba908b830dd ]]  {\r\n",
       "comp def \"P\" as E2  <<(T,blue) part  def>> [[psysml:7d5bba99-ceb9-4796-b455-cbfdc331a9aa ]] {\r\n",
       "}\r\n",
       "comp usage \"n: Integer \" as E3  <<(T,blue) attribute>> [[psysml:ec541e3b-6371-48bf-8290-c0b2a0f88f52 ]] {\r\n",
       "}\r\n",
       "comp usage \"a \" as E4  <<(T,blue) part>> [[psysml:0bccd947-b2f6-485e-9c27-5cc482a56716 ]] {\r\n",
       "}\r\n",
       "comp usage \"b: P \" as E5  <<(T,blue) part>> [[psysml:3563b5dd-e50a-438e-94ba-a5b38ab6df54 ]] {\r\n",
       "}\r\n",
       "comp usage \"c: P \" as E6  <<(T,blue) part>> [[psysml:61a7c4a1-1480-402d-a8df-76594b39497b ]] {\r\n",
       "}\r\n",
       "comp usage \"d \" as E7  <<(T,blue) part>> [[psysml:f3d0dfc0-0dbb-4454-830c-43cee9c0f8af ]] {\r\n",
       "}\r\n",
       "comp usage \"e \" as E8  <<(T,blue) part>> [[psysml:470ebeae-9c21-45dc-92b7-3ec0bcac92c0 ]] {\r\n",
       "}\r\n",
       "comp usage \"f \" as E9  <<(T,blue) part>> [[psysml:e3b105f8-a02a-4959-8fa9-8da786795f1e ]] {\r\n",
       "}\r\n",
       "comp usage \"g \" as E10  <<(T,blue) part>> [[psysml:0b08e64f-1d74-4a65-b189-b5a78b2f5a03 ]] {\r\n",
       "}\r\n",
       "comp def \"A\" as E11  <<(T,blue) attribute  def>> [[psysml:d2ba3396-0b46-40b3-bbf4-49972d7872ff ]] {\r\n",
       "- - attributes - -\r\n",
       "i: Integer\r\n",
       "x: A\r\n",
       "}\r\n",
       "}\r\n",
       "E5 - -:|> E2 [[psysml:b362769d-1260-4065-9b83-621f0da47e8d ]] \r\n",
       "E6 - -:|> E2 [[psysml:03080077-3284-4bc2-8ec3-31a93274162e ]] \r\n",
       "@enduml\r\n",
       "\n",
       "PlantUML version 1.2020.13(Sat Jun 13 12:26:38 UTC 2020)\n",
       "(EPL source distribution)\n",
       "Java Runtime: OpenJDK Runtime Environment\n",
       "JVM: OpenJDK 64-Bit Server VM\n",
       "Default Encoding: UTF-8\n",
       "Language: en\n",
       "Country: null\n",
       "--></g></svg>"
      ]
     },
     "execution_count": 8,
     "metadata": {},
     "output_type": "execute_result"
    }
   ],
   "source": [
    "%viz --style=\"COMPTREE\" --view=\"MIXED\" \"MultiplicityTest\""
   ]
  },
  {
   "cell_type": "code",
   "execution_count": 9,
   "id": "78ddb634",
   "metadata": {
    "execution": {
     "iopub.execute_input": "2022-02-05T16:56:08.570010Z",
     "iopub.status.busy": "2022-02-05T16:56:08.569607Z",
     "iopub.status.idle": "2022-02-05T16:56:08.648877Z",
     "shell.execute_reply": "2022-02-05T16:56:08.648513Z"
    }
   },
   "outputs": [
    {
     "data": {
      "image/svg+xml": [
       "<?xml version=\"1.0\" encoding=\"UTF-8\" standalone=\"no\"?><svg xmlns=\"http://www.w3.org/2000/svg\" xmlns:xlink=\"http://www.w3.org/1999/xlink\" contentScriptType=\"application/ecmascript\" contentStyleType=\"text/css\" height=\"263px\" preserveAspectRatio=\"none\" style=\"width:816px;height:263px;\" version=\"1.1\" viewBox=\"0 0 816 263\" width=\"816px\" zoomAndPan=\"magnify\"><defs/><g><!--MD5=[fbc87193dbaf4d95561dea2c320d4a47]\n",
       "cluster E1--><a href=\"psysml:e445ccd1-d7b4-46a5-bbe0-1ba908b830dd\" target=\"_top\" title=\"psysml:e445ccd1-d7b4-46a5-bbe0-1ba908b830dd\" xlink:actuate=\"onRequest\" xlink:href=\"psysml:e445ccd1-d7b4-46a5-bbe0-1ba908b830dd\" xlink:show=\"new\" xlink:title=\"psysml:e445ccd1-d7b4-46a5-bbe0-1ba908b830dd\" xlink:type=\"simple\"><polygon fill=\"#FFFFFF\" points=\"16,6,123,6,130,28.2969,794,28.2969,794,251,16,251,16,6\" style=\"stroke: #000000; stroke-width: 1.5;\"/><line style=\"stroke: #000000; stroke-width: 1.5;\" x1=\"16\" x2=\"130\" y1=\"28.2969\" y2=\"28.2969\"/><text fill=\"#000000\" font-family=\"sans-serif\" font-size=\"14\" font-weight=\"bold\" lengthAdjust=\"spacingAndGlyphs\" textLength=\"101\" x=\"20\" y=\"20.9951\">MultiplicityTest</text></a><!--MD5=[b4997ac47864f28c2f74865a473b2911]\n",
       "class E2--><a href=\"psysml:7d5bba99-ceb9-4796-b455-cbfdc331a9aa\" target=\"_top\" title=\"psysml:7d5bba99-ceb9-4796-b455-cbfdc331a9aa\" xlink:actuate=\"onRequest\" xlink:href=\"psysml:7d5bba99-ceb9-4796-b455-cbfdc331a9aa\" xlink:show=\"new\" xlink:title=\"psysml:7d5bba99-ceb9-4796-b455-cbfdc331a9aa\" xlink:type=\"simple\"><rect fill=\"#FFFFFF\" height=\"45.9375\" id=\"E2\" style=\"stroke: #383838; stroke-width: 1.5;\" width=\"70\" x=\"499\" y=\"189\"/><text fill=\"#000000\" font-family=\"sans-serif\" font-size=\"12\" font-style=\"italic\" lengthAdjust=\"spacingAndGlyphs\" textLength=\"68\" x=\"500\" y=\"205.1387\">«part  def»</text><text fill=\"#000000\" font-family=\"sans-serif\" font-size=\"12\" lengthAdjust=\"spacingAndGlyphs\" textLength=\"8\" x=\"530\" y=\"219.1074\">P</text><line style=\"stroke: #383838; stroke-width: 1.5;\" x1=\"500\" x2=\"568\" y1=\"226.9375\" y2=\"226.9375\"/></a><!--MD5=[09b614a08d8cba4a07c9adeb5e0fee81]\n",
       "class E3--><a href=\"psysml:ec541e3b-6371-48bf-8290-c0b2a0f88f52\" target=\"_top\" title=\"psysml:ec541e3b-6371-48bf-8290-c0b2a0f88f52\" xlink:actuate=\"onRequest\" xlink:href=\"psysml:ec541e3b-6371-48bf-8290-c0b2a0f88f52\" xlink:show=\"new\" xlink:title=\"psysml:ec541e3b-6371-48bf-8290-c0b2a0f88f52\" xlink:type=\"simple\"><rect fill=\"#FFFFFF\" height=\"45.9375\" id=\"E3\" rx=\"10\" ry=\"10\" style=\"stroke: #383838; stroke-width: 1.5;\" width=\"71\" x=\"706.5\" y=\"62\"/><text fill=\"#000000\" font-family=\"sans-serif\" font-size=\"12\" font-style=\"italic\" lengthAdjust=\"spacingAndGlyphs\" textLength=\"69\" x=\"707.5\" y=\"78.1387\">«attribute»</text><text fill=\"#000000\" font-family=\"sans-serif\" font-size=\"12\" lengthAdjust=\"spacingAndGlyphs\" textLength=\"61\" x=\"709.5\" y=\"92.1074\">n: Integer</text><line style=\"stroke: #383838; stroke-width: 1.5;\" x1=\"707.5\" x2=\"776.5\" y1=\"99.9375\" y2=\"99.9375\"/></a><!--MD5=[ebbe1d658d1005bcc118a6aa81145e00]\n",
       "class E4--><a href=\"psysml:0bccd947-b2f6-485e-9c27-5cc482a56716\" target=\"_top\" title=\"psysml:0bccd947-b2f6-485e-9c27-5cc482a56716\" xlink:actuate=\"onRequest\" xlink:href=\"psysml:0bccd947-b2f6-485e-9c27-5cc482a56716\" xlink:show=\"new\" xlink:title=\"psysml:0bccd947-b2f6-485e-9c27-5cc482a56716\" xlink:type=\"simple\"><rect fill=\"#FFFFFF\" height=\"45.9375\" id=\"E4\" rx=\"10\" ry=\"10\" style=\"stroke: #383838; stroke-width: 1.5;\" width=\"42\" x=\"629\" y=\"62\"/><text fill=\"#000000\" font-family=\"sans-serif\" font-size=\"12\" font-style=\"italic\" lengthAdjust=\"spacingAndGlyphs\" textLength=\"40\" x=\"630\" y=\"78.1387\">«part»</text><text fill=\"#000000\" font-family=\"sans-serif\" font-size=\"12\" lengthAdjust=\"spacingAndGlyphs\" textLength=\"8\" x=\"644\" y=\"92.1074\">a</text><line style=\"stroke: #383838; stroke-width: 1.5;\" x1=\"630\" x2=\"670\" y1=\"99.9375\" y2=\"99.9375\"/></a><!--MD5=[270fce915f116d4de14055a7c1d9a0f3]\n",
       "class E5--><a href=\"psysml:3563b5dd-e50a-438e-94ba-a5b38ab6df54\" target=\"_top\" title=\"psysml:3563b5dd-e50a-438e-94ba-a5b38ab6df54\" xlink:actuate=\"onRequest\" xlink:href=\"psysml:3563b5dd-e50a-438e-94ba-a5b38ab6df54\" xlink:show=\"new\" xlink:title=\"psysml:3563b5dd-e50a-438e-94ba-a5b38ab6df54\" xlink:type=\"simple\"><rect fill=\"#FFFFFF\" height=\"45.9375\" id=\"E5\" rx=\"10\" ry=\"10\" style=\"stroke: #383838; stroke-width: 1.5;\" width=\"42\" x=\"552\" y=\"62\"/><text fill=\"#000000\" font-family=\"sans-serif\" font-size=\"12\" font-style=\"italic\" lengthAdjust=\"spacingAndGlyphs\" textLength=\"40\" x=\"553\" y=\"78.1387\">«part»</text><text fill=\"#000000\" font-family=\"sans-serif\" font-size=\"12\" lengthAdjust=\"spacingAndGlyphs\" textLength=\"24\" x=\"559\" y=\"92.1074\">b: P</text><line style=\"stroke: #383838; stroke-width: 1.5;\" x1=\"553\" x2=\"593\" y1=\"99.9375\" y2=\"99.9375\"/></a><!--MD5=[60a26617385b1d2d0262a64233df1f8d]\n",
       "class E6--><a href=\"psysml:61a7c4a1-1480-402d-a8df-76594b39497b\" target=\"_top\" title=\"psysml:61a7c4a1-1480-402d-a8df-76594b39497b\" xlink:actuate=\"onRequest\" xlink:href=\"psysml:61a7c4a1-1480-402d-a8df-76594b39497b\" xlink:show=\"new\" xlink:title=\"psysml:61a7c4a1-1480-402d-a8df-76594b39497b\" xlink:type=\"simple\"><rect fill=\"#FFFFFF\" height=\"45.9375\" id=\"E6\" rx=\"10\" ry=\"10\" style=\"stroke: #383838; stroke-width: 1.5;\" width=\"42\" x=\"475\" y=\"62\"/><text fill=\"#000000\" font-family=\"sans-serif\" font-size=\"12\" font-style=\"italic\" lengthAdjust=\"spacingAndGlyphs\" textLength=\"40\" x=\"476\" y=\"78.1387\">«part»</text><text fill=\"#000000\" font-family=\"sans-serif\" font-size=\"12\" lengthAdjust=\"spacingAndGlyphs\" textLength=\"23\" x=\"482.5\" y=\"92.1074\">c: P</text><line style=\"stroke: #383838; stroke-width: 1.5;\" x1=\"476\" x2=\"516\" y1=\"99.9375\" y2=\"99.9375\"/></a><!--MD5=[2156ba9850f5573cc1fc38a6a4b2f02b]\n",
       "class E7--><a href=\"psysml:f3d0dfc0-0dbb-4454-830c-43cee9c0f8af\" target=\"_top\" title=\"psysml:f3d0dfc0-0dbb-4454-830c-43cee9c0f8af\" xlink:actuate=\"onRequest\" xlink:href=\"psysml:f3d0dfc0-0dbb-4454-830c-43cee9c0f8af\" xlink:show=\"new\" xlink:title=\"psysml:f3d0dfc0-0dbb-4454-830c-43cee9c0f8af\" xlink:type=\"simple\"><rect fill=\"#FFFFFF\" height=\"45.9375\" id=\"E7\" rx=\"10\" ry=\"10\" style=\"stroke: #383838; stroke-width: 1.5;\" width=\"42\" x=\"398\" y=\"62\"/><text fill=\"#000000\" font-family=\"sans-serif\" font-size=\"12\" font-style=\"italic\" lengthAdjust=\"spacingAndGlyphs\" textLength=\"40\" x=\"399\" y=\"78.1387\">«part»</text><text fill=\"#000000\" font-family=\"sans-serif\" font-size=\"12\" lengthAdjust=\"spacingAndGlyphs\" textLength=\"8\" x=\"413\" y=\"92.1074\">d</text><line style=\"stroke: #383838; stroke-width: 1.5;\" x1=\"399\" x2=\"439\" y1=\"99.9375\" y2=\"99.9375\"/></a><!--MD5=[b9389687b975829384b498ac4b7476b2]\n",
       "class E8--><a href=\"psysml:470ebeae-9c21-45dc-92b7-3ec0bcac92c0\" target=\"_top\" title=\"psysml:470ebeae-9c21-45dc-92b7-3ec0bcac92c0\" xlink:actuate=\"onRequest\" xlink:href=\"psysml:470ebeae-9c21-45dc-92b7-3ec0bcac92c0\" xlink:show=\"new\" xlink:title=\"psysml:470ebeae-9c21-45dc-92b7-3ec0bcac92c0\" xlink:type=\"simple\"><rect fill=\"#FFFFFF\" height=\"45.9375\" id=\"E8\" rx=\"10\" ry=\"10\" style=\"stroke: #383838; stroke-width: 1.5;\" width=\"42\" x=\"321\" y=\"62\"/><text fill=\"#000000\" font-family=\"sans-serif\" font-size=\"12\" font-style=\"italic\" lengthAdjust=\"spacingAndGlyphs\" textLength=\"40\" x=\"322\" y=\"78.1387\">«part»</text><text fill=\"#000000\" font-family=\"sans-serif\" font-size=\"12\" lengthAdjust=\"spacingAndGlyphs\" textLength=\"8\" x=\"336\" y=\"92.1074\">e</text><line style=\"stroke: #383838; stroke-width: 1.5;\" x1=\"322\" x2=\"362\" y1=\"99.9375\" y2=\"99.9375\"/></a><!--MD5=[fd4143e9d270a159db93a4ea2a975926]\n",
       "class E9--><a href=\"psysml:e3b105f8-a02a-4959-8fa9-8da786795f1e\" target=\"_top\" title=\"psysml:e3b105f8-a02a-4959-8fa9-8da786795f1e\" xlink:actuate=\"onRequest\" xlink:href=\"psysml:e3b105f8-a02a-4959-8fa9-8da786795f1e\" xlink:show=\"new\" xlink:title=\"psysml:e3b105f8-a02a-4959-8fa9-8da786795f1e\" xlink:type=\"simple\"><rect fill=\"#FFFFFF\" height=\"45.9375\" id=\"E9\" rx=\"10\" ry=\"10\" style=\"stroke: #383838; stroke-width: 1.5;\" width=\"42\" x=\"244\" y=\"62\"/><text fill=\"#000000\" font-family=\"sans-serif\" font-size=\"12\" font-style=\"italic\" lengthAdjust=\"spacingAndGlyphs\" textLength=\"40\" x=\"245\" y=\"78.1387\">«part»</text><text fill=\"#000000\" font-family=\"sans-serif\" font-size=\"12\" lengthAdjust=\"spacingAndGlyphs\" textLength=\"4\" x=\"261\" y=\"92.1074\">f</text><line style=\"stroke: #383838; stroke-width: 1.5;\" x1=\"245\" x2=\"285\" y1=\"99.9375\" y2=\"99.9375\"/></a><!--MD5=[96f4274e9e20536e775497830990834d]\n",
       "class E10--><a href=\"psysml:0b08e64f-1d74-4a65-b189-b5a78b2f5a03\" target=\"_top\" title=\"psysml:0b08e64f-1d74-4a65-b189-b5a78b2f5a03\" xlink:actuate=\"onRequest\" xlink:href=\"psysml:0b08e64f-1d74-4a65-b189-b5a78b2f5a03\" xlink:show=\"new\" xlink:title=\"psysml:0b08e64f-1d74-4a65-b189-b5a78b2f5a03\" xlink:type=\"simple\"><rect fill=\"#FFFFFF\" height=\"45.9375\" id=\"E10\" rx=\"10\" ry=\"10\" style=\"stroke: #383838; stroke-width: 1.5;\" width=\"42\" x=\"167\" y=\"62\"/><text fill=\"#000000\" font-family=\"sans-serif\" font-size=\"12\" font-style=\"italic\" lengthAdjust=\"spacingAndGlyphs\" textLength=\"40\" x=\"168\" y=\"78.1387\">«part»</text><text fill=\"#000000\" font-family=\"sans-serif\" font-size=\"12\" lengthAdjust=\"spacingAndGlyphs\" textLength=\"8\" x=\"182\" y=\"92.1074\">g</text><line style=\"stroke: #383838; stroke-width: 1.5;\" x1=\"168\" x2=\"208\" y1=\"99.9375\" y2=\"99.9375\"/></a><!--MD5=[1dd1bfd58a279cf63c5f349dbc8fc6a1]\n",
       "class E11--><a href=\"psysml:d2ba3396-0b46-40b3-bbf4-49972d7872ff\" target=\"_top\" title=\"psysml:d2ba3396-0b46-40b3-bbf4-49972d7872ff\" xlink:actuate=\"onRequest\" xlink:href=\"psysml:d2ba3396-0b46-40b3-bbf4-49972d7872ff\" xlink:show=\"new\" xlink:title=\"psysml:d2ba3396-0b46-40b3-bbf4-49972d7872ff\" xlink:type=\"simple\"><rect fill=\"#FFFFFF\" height=\"88.3516\" id=\"E11\" style=\"stroke: #383838; stroke-width: 1.5;\" width=\"99\" x=\"32.5\" y=\"41\"/><text fill=\"#000000\" font-family=\"sans-serif\" font-size=\"12\" font-style=\"italic\" lengthAdjust=\"spacingAndGlyphs\" textLength=\"97\" x=\"33.5\" y=\"57.1387\">«attribute  def»</text><text fill=\"#000000\" font-family=\"sans-serif\" font-size=\"12\" lengthAdjust=\"spacingAndGlyphs\" textLength=\"8\" x=\"78\" y=\"71.1074\">A</text><line style=\"stroke: #383838; stroke-width: 1.5;\" x1=\"33.5\" x2=\"130.5\" y1=\"78.9375\" y2=\"78.9375\"/><text fill=\"#000000\" font-family=\"sans-serif\" font-size=\"11\" lengthAdjust=\"spacingAndGlyphs\" textLength=\"51\" x=\"38.5\" y=\"109.9526\">i: Integer</text><text fill=\"#000000\" font-family=\"sans-serif\" font-size=\"11\" lengthAdjust=\"spacingAndGlyphs\" textLength=\"21\" x=\"38.5\" y=\"122.7573\">x: A</text><line style=\"stroke: #383838; stroke-width: 1.0;\" x1=\"33.5\" x2=\"54.5\" y1=\"93.3398\" y2=\"93.3398\"/><text fill=\"#000000\" font-family=\"sans-serif\" font-size=\"11\" lengthAdjust=\"spacingAndGlyphs\" textLength=\"55\" x=\"54.5\" y=\"96.6479\">attributes</text><line style=\"stroke: #383838; stroke-width: 1.0;\" x1=\"109.5\" x2=\"130.5\" y1=\"93.3398\" y2=\"93.3398\"/></a><!--MD5=[15ebcb19ae302d9b601edb458606d402]\n",
       "link E5 to E2--><a href=\"psysml:b362769d-1260-4065-9b83-621f0da47e8d\" target=\"_top\" title=\"psysml:b362769d-1260-4065-9b83-621f0da47e8d\" xlink:actuate=\"onRequest\" xlink:href=\"psysml:b362769d-1260-4065-9b83-621f0da47e8d\" xlink:show=\"new\" xlink:title=\"psysml:b362769d-1260-4065-9b83-621f0da47e8d\" xlink:type=\"simple\"><path d=\"M566.12,108.06 C560.83,125 553.38,148.89 546.98,169.39 \" fill=\"none\" id=\"E5-&gt;E2\" style=\"stroke: #383838; stroke-width: 1.0;\"/><polygon fill=\"#FFFFFF\" points=\"540.95,188.74,539.929,168.5173,553.2931,172.6886,540.95,188.74\" style=\"stroke: #383838; stroke-width: 1.0;\"/><ellipse cx=\"543.5364\" cy=\"163.6721\" fill=\"#383838\" rx=\"2\" ry=\"2\" style=\"stroke: #383838; stroke-width: 1.0;\"/><ellipse cx=\"553.0823\" cy=\"166.6516\" fill=\"#383838\" rx=\"2\" ry=\"2\" style=\"stroke: #383838; stroke-width: 1.0;\"/></a><!--MD5=[2351f337d6de0f557b50152ba70847b5]\n",
       "link E6 to E2--><a href=\"psysml:03080077-3284-4bc2-8ec3-31a93274162e\" target=\"_top\" title=\"psysml:03080077-3284-4bc2-8ec3-31a93274162e\" xlink:actuate=\"onRequest\" xlink:href=\"psysml:03080077-3284-4bc2-8ec3-31a93274162e\" xlink:show=\"new\" xlink:title=\"psysml:03080077-3284-4bc2-8ec3-31a93274162e\" xlink:type=\"simple\"><path d=\"M502.71,108.06 C507.86,125 515.12,148.89 521.35,169.39 \" fill=\"none\" id=\"E6-&gt;E2\" style=\"stroke: #383838; stroke-width: 1.0;\"/><polygon fill=\"#FFFFFF\" points=\"527.23,188.74,515.007,172.597,528.4019,168.5255,527.23,188.74\" style=\"stroke: #383838; stroke-width: 1.0;\"/><ellipse cx=\"515.2628\" cy=\"166.5617\" fill=\"#383838\" rx=\"2\" ry=\"2\" style=\"stroke: #383838; stroke-width: 1.0;\"/><ellipse cx=\"524.8306\" cy=\"163.6535\" fill=\"#383838\" rx=\"2\" ry=\"2\" style=\"stroke: #383838; stroke-width: 1.0;\"/></a><!--MD5=[51f7f14a28ef3d632db1ff0a3e0211a2]\n",
       "@startuml\r\n",
       "skinparam linetype polyline\r\n",
       "skinparam monochrome true\r\n",
       "skinparam classbackgroundcolor white\r\n",
       "skinparam shadowing false\r\n",
       "skinparam wrapWidth 300\r\n",
       "hide circle\r\n",
       "\r\n",
       "package \"MultiplicityTest\" as E1  [[psysml:e445ccd1-d7b4-46a5-bbe0-1ba908b830dd ]]  {\r\n",
       "comp def \"P\" as E2  <<(T,blue) part  def>> [[psysml:7d5bba99-ceb9-4796-b455-cbfdc331a9aa ]] {\r\n",
       "}\r\n",
       "comp usage \"n: Integer \" as E3  <<(T,blue) attribute>> [[psysml:ec541e3b-6371-48bf-8290-c0b2a0f88f52 ]] {\r\n",
       "}\r\n",
       "comp usage \"a \" as E4  <<(T,blue) part>> [[psysml:0bccd947-b2f6-485e-9c27-5cc482a56716 ]] {\r\n",
       "}\r\n",
       "comp usage \"b: P \" as E5  <<(T,blue) part>> [[psysml:3563b5dd-e50a-438e-94ba-a5b38ab6df54 ]] {\r\n",
       "}\r\n",
       "comp usage \"c: P \" as E6  <<(T,blue) part>> [[psysml:61a7c4a1-1480-402d-a8df-76594b39497b ]] {\r\n",
       "}\r\n",
       "comp usage \"d \" as E7  <<(T,blue) part>> [[psysml:f3d0dfc0-0dbb-4454-830c-43cee9c0f8af ]] {\r\n",
       "}\r\n",
       "comp usage \"e \" as E8  <<(T,blue) part>> [[psysml:470ebeae-9c21-45dc-92b7-3ec0bcac92c0 ]] {\r\n",
       "}\r\n",
       "comp usage \"f \" as E9  <<(T,blue) part>> [[psysml:e3b105f8-a02a-4959-8fa9-8da786795f1e ]] {\r\n",
       "}\r\n",
       "comp usage \"g \" as E10  <<(T,blue) part>> [[psysml:0b08e64f-1d74-4a65-b189-b5a78b2f5a03 ]] {\r\n",
       "}\r\n",
       "comp def \"A\" as E11  <<(T,blue) attribute  def>> [[psysml:d2ba3396-0b46-40b3-bbf4-49972d7872ff ]] {\r\n",
       "- - attributes - -\r\n",
       "i: Integer\r\n",
       "x: A\r\n",
       "}\r\n",
       "}\r\n",
       "E5 - -:|> E2 [[psysml:b362769d-1260-4065-9b83-621f0da47e8d ]] \r\n",
       "E6 - -:|> E2 [[psysml:03080077-3284-4bc2-8ec3-31a93274162e ]] \r\n",
       "@enduml\r\n",
       "\n",
       "PlantUML version 1.2020.13(Sat Jun 13 12:26:38 UTC 2020)\n",
       "(EPL source distribution)\n",
       "Java Runtime: OpenJDK Runtime Environment\n",
       "JVM: OpenJDK 64-Bit Server VM\n",
       "Default Encoding: UTF-8\n",
       "Language: en\n",
       "Country: null\n",
       "--></g></svg>"
      ]
     },
     "execution_count": 9,
     "metadata": {},
     "output_type": "execute_result"
    }
   ],
   "source": [
    "%viz --style=\"POLYLINE\" --view=\"Default\" \"MultiplicityTest\""
   ]
  },
  {
   "cell_type": "code",
   "execution_count": 10,
   "id": "a93350e5",
   "metadata": {
    "execution": {
     "iopub.execute_input": "2022-02-05T16:56:08.698693Z",
     "iopub.status.busy": "2022-02-05T16:56:08.698289Z",
     "iopub.status.idle": "2022-02-05T16:56:08.775973Z",
     "shell.execute_reply": "2022-02-05T16:56:08.776291Z"
    }
   },
   "outputs": [
    {
     "data": {
      "image/svg+xml": [
       "<?xml version=\"1.0\" encoding=\"UTF-8\" standalone=\"no\"?><svg xmlns=\"http://www.w3.org/2000/svg\" xmlns:xlink=\"http://www.w3.org/1999/xlink\" contentScriptType=\"application/ecmascript\" contentStyleType=\"text/css\" height=\"263px\" preserveAspectRatio=\"none\" style=\"width:816px;height:263px;\" version=\"1.1\" viewBox=\"0 0 816 263\" width=\"816px\" zoomAndPan=\"magnify\"><defs/><g><!--MD5=[fbc87193dbaf4d95561dea2c320d4a47]\n",
       "cluster E1--><a href=\"psysml:e445ccd1-d7b4-46a5-bbe0-1ba908b830dd\" target=\"_top\" title=\"psysml:e445ccd1-d7b4-46a5-bbe0-1ba908b830dd\" xlink:actuate=\"onRequest\" xlink:href=\"psysml:e445ccd1-d7b4-46a5-bbe0-1ba908b830dd\" xlink:show=\"new\" xlink:title=\"psysml:e445ccd1-d7b4-46a5-bbe0-1ba908b830dd\" xlink:type=\"simple\"><polygon fill=\"#FFFFFF\" points=\"16,6,123,6,130,28.2969,794,28.2969,794,251,16,251,16,6\" style=\"stroke: #000000; stroke-width: 1.5;\"/><line style=\"stroke: #000000; stroke-width: 1.5;\" x1=\"16\" x2=\"130\" y1=\"28.2969\" y2=\"28.2969\"/><text fill=\"#000000\" font-family=\"sans-serif\" font-size=\"14\" font-weight=\"bold\" lengthAdjust=\"spacingAndGlyphs\" textLength=\"101\" x=\"20\" y=\"20.9951\">MultiplicityTest</text></a><!--MD5=[b4997ac47864f28c2f74865a473b2911]\n",
       "class E2--><a href=\"psysml:7d5bba99-ceb9-4796-b455-cbfdc331a9aa\" target=\"_top\" title=\"psysml:7d5bba99-ceb9-4796-b455-cbfdc331a9aa\" xlink:actuate=\"onRequest\" xlink:href=\"psysml:7d5bba99-ceb9-4796-b455-cbfdc331a9aa\" xlink:show=\"new\" xlink:title=\"psysml:7d5bba99-ceb9-4796-b455-cbfdc331a9aa\" xlink:type=\"simple\"><rect fill=\"#FFFFFF\" height=\"45.9375\" id=\"E2\" style=\"stroke: #383838; stroke-width: 1.5;\" width=\"70\" x=\"499\" y=\"189\"/><text fill=\"#000000\" font-family=\"sans-serif\" font-size=\"12\" font-style=\"italic\" lengthAdjust=\"spacingAndGlyphs\" textLength=\"68\" x=\"500\" y=\"205.1387\">«part  def»</text><text fill=\"#000000\" font-family=\"sans-serif\" font-size=\"12\" lengthAdjust=\"spacingAndGlyphs\" textLength=\"8\" x=\"530\" y=\"219.1074\">P</text><line style=\"stroke: #383838; stroke-width: 1.5;\" x1=\"500\" x2=\"568\" y1=\"226.9375\" y2=\"226.9375\"/></a><!--MD5=[09b614a08d8cba4a07c9adeb5e0fee81]\n",
       "class E3--><a href=\"psysml:ec541e3b-6371-48bf-8290-c0b2a0f88f52\" target=\"_top\" title=\"psysml:ec541e3b-6371-48bf-8290-c0b2a0f88f52\" xlink:actuate=\"onRequest\" xlink:href=\"psysml:ec541e3b-6371-48bf-8290-c0b2a0f88f52\" xlink:show=\"new\" xlink:title=\"psysml:ec541e3b-6371-48bf-8290-c0b2a0f88f52\" xlink:type=\"simple\"><rect fill=\"#FFFFFF\" height=\"45.9375\" id=\"E3\" rx=\"10\" ry=\"10\" style=\"stroke: #383838; stroke-width: 1.5;\" width=\"71\" x=\"706.5\" y=\"62\"/><text fill=\"#000000\" font-family=\"sans-serif\" font-size=\"12\" font-style=\"italic\" lengthAdjust=\"spacingAndGlyphs\" textLength=\"69\" x=\"707.5\" y=\"78.1387\">«attribute»</text><text fill=\"#000000\" font-family=\"sans-serif\" font-size=\"12\" lengthAdjust=\"spacingAndGlyphs\" textLength=\"61\" x=\"709.5\" y=\"92.1074\">n: Integer</text><line style=\"stroke: #383838; stroke-width: 1.5;\" x1=\"707.5\" x2=\"776.5\" y1=\"99.9375\" y2=\"99.9375\"/></a><!--MD5=[ebbe1d658d1005bcc118a6aa81145e00]\n",
       "class E4--><a href=\"psysml:0bccd947-b2f6-485e-9c27-5cc482a56716\" target=\"_top\" title=\"psysml:0bccd947-b2f6-485e-9c27-5cc482a56716\" xlink:actuate=\"onRequest\" xlink:href=\"psysml:0bccd947-b2f6-485e-9c27-5cc482a56716\" xlink:show=\"new\" xlink:title=\"psysml:0bccd947-b2f6-485e-9c27-5cc482a56716\" xlink:type=\"simple\"><rect fill=\"#FFFFFF\" height=\"45.9375\" id=\"E4\" rx=\"10\" ry=\"10\" style=\"stroke: #383838; stroke-width: 1.5;\" width=\"42\" x=\"629\" y=\"62\"/><text fill=\"#000000\" font-family=\"sans-serif\" font-size=\"12\" font-style=\"italic\" lengthAdjust=\"spacingAndGlyphs\" textLength=\"40\" x=\"630\" y=\"78.1387\">«part»</text><text fill=\"#000000\" font-family=\"sans-serif\" font-size=\"12\" lengthAdjust=\"spacingAndGlyphs\" textLength=\"8\" x=\"644\" y=\"92.1074\">a</text><line style=\"stroke: #383838; stroke-width: 1.5;\" x1=\"630\" x2=\"670\" y1=\"99.9375\" y2=\"99.9375\"/></a><!--MD5=[270fce915f116d4de14055a7c1d9a0f3]\n",
       "class E5--><a href=\"psysml:3563b5dd-e50a-438e-94ba-a5b38ab6df54\" target=\"_top\" title=\"psysml:3563b5dd-e50a-438e-94ba-a5b38ab6df54\" xlink:actuate=\"onRequest\" xlink:href=\"psysml:3563b5dd-e50a-438e-94ba-a5b38ab6df54\" xlink:show=\"new\" xlink:title=\"psysml:3563b5dd-e50a-438e-94ba-a5b38ab6df54\" xlink:type=\"simple\"><rect fill=\"#FFFFFF\" height=\"45.9375\" id=\"E5\" rx=\"10\" ry=\"10\" style=\"stroke: #383838; stroke-width: 1.5;\" width=\"42\" x=\"552\" y=\"62\"/><text fill=\"#000000\" font-family=\"sans-serif\" font-size=\"12\" font-style=\"italic\" lengthAdjust=\"spacingAndGlyphs\" textLength=\"40\" x=\"553\" y=\"78.1387\">«part»</text><text fill=\"#000000\" font-family=\"sans-serif\" font-size=\"12\" lengthAdjust=\"spacingAndGlyphs\" textLength=\"24\" x=\"559\" y=\"92.1074\">b: P</text><line style=\"stroke: #383838; stroke-width: 1.5;\" x1=\"553\" x2=\"593\" y1=\"99.9375\" y2=\"99.9375\"/></a><!--MD5=[60a26617385b1d2d0262a64233df1f8d]\n",
       "class E6--><a href=\"psysml:61a7c4a1-1480-402d-a8df-76594b39497b\" target=\"_top\" title=\"psysml:61a7c4a1-1480-402d-a8df-76594b39497b\" xlink:actuate=\"onRequest\" xlink:href=\"psysml:61a7c4a1-1480-402d-a8df-76594b39497b\" xlink:show=\"new\" xlink:title=\"psysml:61a7c4a1-1480-402d-a8df-76594b39497b\" xlink:type=\"simple\"><rect fill=\"#FFFFFF\" height=\"45.9375\" id=\"E6\" rx=\"10\" ry=\"10\" style=\"stroke: #383838; stroke-width: 1.5;\" width=\"42\" x=\"475\" y=\"62\"/><text fill=\"#000000\" font-family=\"sans-serif\" font-size=\"12\" font-style=\"italic\" lengthAdjust=\"spacingAndGlyphs\" textLength=\"40\" x=\"476\" y=\"78.1387\">«part»</text><text fill=\"#000000\" font-family=\"sans-serif\" font-size=\"12\" lengthAdjust=\"spacingAndGlyphs\" textLength=\"23\" x=\"482.5\" y=\"92.1074\">c: P</text><line style=\"stroke: #383838; stroke-width: 1.5;\" x1=\"476\" x2=\"516\" y1=\"99.9375\" y2=\"99.9375\"/></a><!--MD5=[2156ba9850f5573cc1fc38a6a4b2f02b]\n",
       "class E7--><a href=\"psysml:f3d0dfc0-0dbb-4454-830c-43cee9c0f8af\" target=\"_top\" title=\"psysml:f3d0dfc0-0dbb-4454-830c-43cee9c0f8af\" xlink:actuate=\"onRequest\" xlink:href=\"psysml:f3d0dfc0-0dbb-4454-830c-43cee9c0f8af\" xlink:show=\"new\" xlink:title=\"psysml:f3d0dfc0-0dbb-4454-830c-43cee9c0f8af\" xlink:type=\"simple\"><rect fill=\"#FFFFFF\" height=\"45.9375\" id=\"E7\" rx=\"10\" ry=\"10\" style=\"stroke: #383838; stroke-width: 1.5;\" width=\"42\" x=\"398\" y=\"62\"/><text fill=\"#000000\" font-family=\"sans-serif\" font-size=\"12\" font-style=\"italic\" lengthAdjust=\"spacingAndGlyphs\" textLength=\"40\" x=\"399\" y=\"78.1387\">«part»</text><text fill=\"#000000\" font-family=\"sans-serif\" font-size=\"12\" lengthAdjust=\"spacingAndGlyphs\" textLength=\"8\" x=\"413\" y=\"92.1074\">d</text><line style=\"stroke: #383838; stroke-width: 1.5;\" x1=\"399\" x2=\"439\" y1=\"99.9375\" y2=\"99.9375\"/></a><!--MD5=[b9389687b975829384b498ac4b7476b2]\n",
       "class E8--><a href=\"psysml:470ebeae-9c21-45dc-92b7-3ec0bcac92c0\" target=\"_top\" title=\"psysml:470ebeae-9c21-45dc-92b7-3ec0bcac92c0\" xlink:actuate=\"onRequest\" xlink:href=\"psysml:470ebeae-9c21-45dc-92b7-3ec0bcac92c0\" xlink:show=\"new\" xlink:title=\"psysml:470ebeae-9c21-45dc-92b7-3ec0bcac92c0\" xlink:type=\"simple\"><rect fill=\"#FFFFFF\" height=\"45.9375\" id=\"E8\" rx=\"10\" ry=\"10\" style=\"stroke: #383838; stroke-width: 1.5;\" width=\"42\" x=\"321\" y=\"62\"/><text fill=\"#000000\" font-family=\"sans-serif\" font-size=\"12\" font-style=\"italic\" lengthAdjust=\"spacingAndGlyphs\" textLength=\"40\" x=\"322\" y=\"78.1387\">«part»</text><text fill=\"#000000\" font-family=\"sans-serif\" font-size=\"12\" lengthAdjust=\"spacingAndGlyphs\" textLength=\"8\" x=\"336\" y=\"92.1074\">e</text><line style=\"stroke: #383838; stroke-width: 1.5;\" x1=\"322\" x2=\"362\" y1=\"99.9375\" y2=\"99.9375\"/></a><!--MD5=[fd4143e9d270a159db93a4ea2a975926]\n",
       "class E9--><a href=\"psysml:e3b105f8-a02a-4959-8fa9-8da786795f1e\" target=\"_top\" title=\"psysml:e3b105f8-a02a-4959-8fa9-8da786795f1e\" xlink:actuate=\"onRequest\" xlink:href=\"psysml:e3b105f8-a02a-4959-8fa9-8da786795f1e\" xlink:show=\"new\" xlink:title=\"psysml:e3b105f8-a02a-4959-8fa9-8da786795f1e\" xlink:type=\"simple\"><rect fill=\"#FFFFFF\" height=\"45.9375\" id=\"E9\" rx=\"10\" ry=\"10\" style=\"stroke: #383838; stroke-width: 1.5;\" width=\"42\" x=\"244\" y=\"62\"/><text fill=\"#000000\" font-family=\"sans-serif\" font-size=\"12\" font-style=\"italic\" lengthAdjust=\"spacingAndGlyphs\" textLength=\"40\" x=\"245\" y=\"78.1387\">«part»</text><text fill=\"#000000\" font-family=\"sans-serif\" font-size=\"12\" lengthAdjust=\"spacingAndGlyphs\" textLength=\"4\" x=\"261\" y=\"92.1074\">f</text><line style=\"stroke: #383838; stroke-width: 1.5;\" x1=\"245\" x2=\"285\" y1=\"99.9375\" y2=\"99.9375\"/></a><!--MD5=[96f4274e9e20536e775497830990834d]\n",
       "class E10--><a href=\"psysml:0b08e64f-1d74-4a65-b189-b5a78b2f5a03\" target=\"_top\" title=\"psysml:0b08e64f-1d74-4a65-b189-b5a78b2f5a03\" xlink:actuate=\"onRequest\" xlink:href=\"psysml:0b08e64f-1d74-4a65-b189-b5a78b2f5a03\" xlink:show=\"new\" xlink:title=\"psysml:0b08e64f-1d74-4a65-b189-b5a78b2f5a03\" xlink:type=\"simple\"><rect fill=\"#FFFFFF\" height=\"45.9375\" id=\"E10\" rx=\"10\" ry=\"10\" style=\"stroke: #383838; stroke-width: 1.5;\" width=\"42\" x=\"167\" y=\"62\"/><text fill=\"#000000\" font-family=\"sans-serif\" font-size=\"12\" font-style=\"italic\" lengthAdjust=\"spacingAndGlyphs\" textLength=\"40\" x=\"168\" y=\"78.1387\">«part»</text><text fill=\"#000000\" font-family=\"sans-serif\" font-size=\"12\" lengthAdjust=\"spacingAndGlyphs\" textLength=\"8\" x=\"182\" y=\"92.1074\">g</text><line style=\"stroke: #383838; stroke-width: 1.5;\" x1=\"168\" x2=\"208\" y1=\"99.9375\" y2=\"99.9375\"/></a><!--MD5=[1dd1bfd58a279cf63c5f349dbc8fc6a1]\n",
       "class E11--><a href=\"psysml:d2ba3396-0b46-40b3-bbf4-49972d7872ff\" target=\"_top\" title=\"psysml:d2ba3396-0b46-40b3-bbf4-49972d7872ff\" xlink:actuate=\"onRequest\" xlink:href=\"psysml:d2ba3396-0b46-40b3-bbf4-49972d7872ff\" xlink:show=\"new\" xlink:title=\"psysml:d2ba3396-0b46-40b3-bbf4-49972d7872ff\" xlink:type=\"simple\"><rect fill=\"#FFFFFF\" height=\"88.3516\" id=\"E11\" style=\"stroke: #383838; stroke-width: 1.5;\" width=\"99\" x=\"32.5\" y=\"41\"/><text fill=\"#000000\" font-family=\"sans-serif\" font-size=\"12\" font-style=\"italic\" lengthAdjust=\"spacingAndGlyphs\" textLength=\"97\" x=\"33.5\" y=\"57.1387\">«attribute  def»</text><text fill=\"#000000\" font-family=\"sans-serif\" font-size=\"12\" lengthAdjust=\"spacingAndGlyphs\" textLength=\"8\" x=\"78\" y=\"71.1074\">A</text><line style=\"stroke: #383838; stroke-width: 1.5;\" x1=\"33.5\" x2=\"130.5\" y1=\"78.9375\" y2=\"78.9375\"/><text fill=\"#000000\" font-family=\"sans-serif\" font-size=\"11\" lengthAdjust=\"spacingAndGlyphs\" textLength=\"51\" x=\"38.5\" y=\"109.9526\">i: Integer</text><text fill=\"#000000\" font-family=\"sans-serif\" font-size=\"11\" lengthAdjust=\"spacingAndGlyphs\" textLength=\"21\" x=\"38.5\" y=\"122.7573\">x: A</text><line style=\"stroke: #383838; stroke-width: 1.0;\" x1=\"33.5\" x2=\"54.5\" y1=\"93.3398\" y2=\"93.3398\"/><text fill=\"#000000\" font-family=\"sans-serif\" font-size=\"11\" lengthAdjust=\"spacingAndGlyphs\" textLength=\"55\" x=\"54.5\" y=\"96.6479\">attributes</text><line style=\"stroke: #383838; stroke-width: 1.0;\" x1=\"109.5\" x2=\"130.5\" y1=\"93.3398\" y2=\"93.3398\"/></a><!--MD5=[15ebcb19ae302d9b601edb458606d402]\n",
       "link E5 to E2--><a href=\"psysml:b362769d-1260-4065-9b83-621f0da47e8d\" target=\"_top\" title=\"psysml:b362769d-1260-4065-9b83-621f0da47e8d\" xlink:actuate=\"onRequest\" xlink:href=\"psysml:b362769d-1260-4065-9b83-621f0da47e8d\" xlink:show=\"new\" xlink:title=\"psysml:b362769d-1260-4065-9b83-621f0da47e8d\" xlink:type=\"simple\"><path d=\"M566.12,108.06 C560.83,125 553.38,148.89 546.98,169.39 \" fill=\"none\" id=\"E5-&gt;E2\" style=\"stroke: #383838; stroke-width: 1.0;\"/><polygon fill=\"#FFFFFF\" points=\"540.95,188.74,539.929,168.5173,553.2931,172.6886,540.95,188.74\" style=\"stroke: #383838; stroke-width: 1.0;\"/><ellipse cx=\"543.5364\" cy=\"163.6721\" fill=\"#383838\" rx=\"2\" ry=\"2\" style=\"stroke: #383838; stroke-width: 1.0;\"/><ellipse cx=\"553.0823\" cy=\"166.6516\" fill=\"#383838\" rx=\"2\" ry=\"2\" style=\"stroke: #383838; stroke-width: 1.0;\"/></a><!--MD5=[2351f337d6de0f557b50152ba70847b5]\n",
       "link E6 to E2--><a href=\"psysml:03080077-3284-4bc2-8ec3-31a93274162e\" target=\"_top\" title=\"psysml:03080077-3284-4bc2-8ec3-31a93274162e\" xlink:actuate=\"onRequest\" xlink:href=\"psysml:03080077-3284-4bc2-8ec3-31a93274162e\" xlink:show=\"new\" xlink:title=\"psysml:03080077-3284-4bc2-8ec3-31a93274162e\" xlink:type=\"simple\"><path d=\"M502.71,108.06 C507.86,125 515.12,148.89 521.35,169.39 \" fill=\"none\" id=\"E6-&gt;E2\" style=\"stroke: #383838; stroke-width: 1.0;\"/><polygon fill=\"#FFFFFF\" points=\"527.23,188.74,515.007,172.597,528.4019,168.5255,527.23,188.74\" style=\"stroke: #383838; stroke-width: 1.0;\"/><ellipse cx=\"515.2628\" cy=\"166.5617\" fill=\"#383838\" rx=\"2\" ry=\"2\" style=\"stroke: #383838; stroke-width: 1.0;\"/><ellipse cx=\"524.8306\" cy=\"163.6535\" fill=\"#383838\" rx=\"2\" ry=\"2\" style=\"stroke: #383838; stroke-width: 1.0;\"/></a><!--MD5=[51f7f14a28ef3d632db1ff0a3e0211a2]\n",
       "@startuml\r\n",
       "skinparam linetype polyline\r\n",
       "skinparam monochrome true\r\n",
       "skinparam classbackgroundcolor white\r\n",
       "skinparam shadowing false\r\n",
       "skinparam wrapWidth 300\r\n",
       "hide circle\r\n",
       "\r\n",
       "package \"MultiplicityTest\" as E1  [[psysml:e445ccd1-d7b4-46a5-bbe0-1ba908b830dd ]]  {\r\n",
       "comp def \"P\" as E2  <<(T,blue) part  def>> [[psysml:7d5bba99-ceb9-4796-b455-cbfdc331a9aa ]] {\r\n",
       "}\r\n",
       "comp usage \"n: Integer \" as E3  <<(T,blue) attribute>> [[psysml:ec541e3b-6371-48bf-8290-c0b2a0f88f52 ]] {\r\n",
       "}\r\n",
       "comp usage \"a \" as E4  <<(T,blue) part>> [[psysml:0bccd947-b2f6-485e-9c27-5cc482a56716 ]] {\r\n",
       "}\r\n",
       "comp usage \"b: P \" as E5  <<(T,blue) part>> [[psysml:3563b5dd-e50a-438e-94ba-a5b38ab6df54 ]] {\r\n",
       "}\r\n",
       "comp usage \"c: P \" as E6  <<(T,blue) part>> [[psysml:61a7c4a1-1480-402d-a8df-76594b39497b ]] {\r\n",
       "}\r\n",
       "comp usage \"d \" as E7  <<(T,blue) part>> [[psysml:f3d0dfc0-0dbb-4454-830c-43cee9c0f8af ]] {\r\n",
       "}\r\n",
       "comp usage \"e \" as E8  <<(T,blue) part>> [[psysml:470ebeae-9c21-45dc-92b7-3ec0bcac92c0 ]] {\r\n",
       "}\r\n",
       "comp usage \"f \" as E9  <<(T,blue) part>> [[psysml:e3b105f8-a02a-4959-8fa9-8da786795f1e ]] {\r\n",
       "}\r\n",
       "comp usage \"g \" as E10  <<(T,blue) part>> [[psysml:0b08e64f-1d74-4a65-b189-b5a78b2f5a03 ]] {\r\n",
       "}\r\n",
       "comp def \"A\" as E11  <<(T,blue) attribute  def>> [[psysml:d2ba3396-0b46-40b3-bbf4-49972d7872ff ]] {\r\n",
       "- - attributes - -\r\n",
       "i: Integer\r\n",
       "x: A\r\n",
       "}\r\n",
       "}\r\n",
       "E5 - -:|> E2 [[psysml:b362769d-1260-4065-9b83-621f0da47e8d ]] \r\n",
       "E6 - -:|> E2 [[psysml:03080077-3284-4bc2-8ec3-31a93274162e ]] \r\n",
       "@enduml\r\n",
       "\n",
       "PlantUML version 1.2020.13(Sat Jun 13 12:26:38 UTC 2020)\n",
       "(EPL source distribution)\n",
       "Java Runtime: OpenJDK Runtime Environment\n",
       "JVM: OpenJDK 64-Bit Server VM\n",
       "Default Encoding: UTF-8\n",
       "Language: en\n",
       "Country: null\n",
       "--></g></svg>"
      ]
     },
     "execution_count": 10,
     "metadata": {},
     "output_type": "execute_result"
    }
   ],
   "source": [
    "%viz --style=\"POLYLINE\" --view=\"Tree\" \"MultiplicityTest\""
   ]
  },
  {
   "cell_type": "code",
   "execution_count": 11,
   "id": "d7d168c2",
   "metadata": {
    "execution": {
     "iopub.execute_input": "2022-02-05T16:56:08.826412Z",
     "iopub.status.busy": "2022-02-05T16:56:08.826000Z",
     "iopub.status.idle": "2022-02-05T16:56:08.833912Z",
     "shell.execute_reply": "2022-02-05T16:56:08.834224Z"
    }
   },
   "outputs": [
    {
     "data": {
      "image/svg+xml": [
       "<?xml version=\"1.0\" encoding=\"UTF-8\" standalone=\"no\"?><svg xmlns=\"http://www.w3.org/2000/svg\" xmlns:xlink=\"http://www.w3.org/1999/xlink\" contentScriptType=\"application/ecmascript\" contentStyleType=\"text/css\" height=\"12px\" preserveAspectRatio=\"none\" style=\"width:12px;height:12px;\" version=\"1.1\" viewBox=\"0 0 12 12\" width=\"12px\" zoomAndPan=\"magnify\"><defs/><g><!--MD5=[896ac0e7a515d8dd7765a661cb4ee08b]\n",
       "@startuml\r\n",
       "skinparam linetype polyline\r\n",
       "skinparam monochrome true\r\n",
       "skinparam classbackgroundcolor white\r\n",
       "skinparam shadowing false\r\n",
       "skinparam wrapWidth 300\r\n",
       "hide circle\r\n",
       "\r\n",
       "@enduml\r\n",
       "\n",
       "PlantUML version 1.2020.13(Sat Jun 13 12:26:38 UTC 2020)\n",
       "(EPL source distribution)\n",
       "Java Runtime: OpenJDK Runtime Environment\n",
       "JVM: OpenJDK 64-Bit Server VM\n",
       "Default Encoding: UTF-8\n",
       "Language: en\n",
       "Country: null\n",
       "--></g></svg>"
      ]
     },
     "execution_count": 11,
     "metadata": {},
     "output_type": "execute_result"
    }
   ],
   "source": [
    "%viz --style=\"POLYLINE\" --view=\"State\" \"MultiplicityTest\""
   ]
  },
  {
   "cell_type": "code",
   "execution_count": 12,
   "id": "8edab6a0",
   "metadata": {
    "execution": {
     "iopub.execute_input": "2022-02-05T16:56:08.884821Z",
     "iopub.status.busy": "2022-02-05T16:56:08.884409Z",
     "iopub.status.idle": "2022-02-05T16:56:08.925965Z",
     "shell.execute_reply": "2022-02-05T16:56:08.925587Z"
    }
   },
   "outputs": [
    {
     "data": {
      "image/svg+xml": [
       "<?xml version=\"1.0\" encoding=\"UTF-8\" standalone=\"no\"?><svg xmlns=\"http://www.w3.org/2000/svg\" xmlns:xlink=\"http://www.w3.org/1999/xlink\" contentScriptType=\"application/ecmascript\" contentStyleType=\"text/css\" height=\"115px\" preserveAspectRatio=\"none\" style=\"width:987px;height:115px;\" version=\"1.1\" viewBox=\"0 0 987 115\" width=\"987px\" zoomAndPan=\"magnify\"><defs/><g><!--MD5=[fbc87193dbaf4d95561dea2c320d4a47]\n",
       "cluster E1--><a href=\"psysml:e445ccd1-d7b4-46a5-bbe0-1ba908b830dd\" target=\"_top\" title=\"psysml:e445ccd1-d7b4-46a5-bbe0-1ba908b830dd\" xlink:actuate=\"onRequest\" xlink:href=\"psysml:e445ccd1-d7b4-46a5-bbe0-1ba908b830dd\" xlink:show=\"new\" xlink:title=\"psysml:e445ccd1-d7b4-46a5-bbe0-1ba908b830dd\" xlink:type=\"simple\"><polygon fill=\"#FFFFFF\" points=\"16,6,123,6,130,28.2969,965,28.2969,965,103,16,103,16,6\" style=\"stroke: #000000; stroke-width: 1.5;\"/><line style=\"stroke: #000000; stroke-width: 1.5;\" x1=\"16\" x2=\"130\" y1=\"28.2969\" y2=\"28.2969\"/><text fill=\"#000000\" font-family=\"sans-serif\" font-size=\"14\" font-weight=\"bold\" lengthAdjust=\"spacingAndGlyphs\" textLength=\"101\" x=\"20\" y=\"20.9951\">MultiplicityTest</text></a><!--MD5=[09b614a08d8cba4a07c9adeb5e0fee81]\n",
       "class E3--><a href=\"psysml:ec541e3b-6371-48bf-8290-c0b2a0f88f52\" target=\"_top\" title=\"psysml:ec541e3b-6371-48bf-8290-c0b2a0f88f52\" xlink:actuate=\"onRequest\" xlink:href=\"psysml:ec541e3b-6371-48bf-8290-c0b2a0f88f52\" xlink:show=\"new\" xlink:title=\"psysml:ec541e3b-6371-48bf-8290-c0b2a0f88f52\" xlink:type=\"simple\"><rect fill=\"#FFFFFF\" height=\"45.9375\" id=\"E3\" rx=\"10\" ry=\"10\" style=\"stroke: #383838; stroke-width: 1.5;\" width=\"71\" x=\"877.5\" y=\"41\"/><text fill=\"#000000\" font-family=\"sans-serif\" font-size=\"12\" font-style=\"italic\" lengthAdjust=\"spacingAndGlyphs\" textLength=\"69\" x=\"878.5\" y=\"57.1387\">«attribute»</text><text fill=\"#000000\" font-family=\"sans-serif\" font-size=\"12\" lengthAdjust=\"spacingAndGlyphs\" textLength=\"61\" x=\"880.5\" y=\"71.1074\">n: Integer</text><line style=\"stroke: #383838; stroke-width: 1.5;\" x1=\"878.5\" x2=\"947.5\" y1=\"78.9375\" y2=\"78.9375\"/></a><g id=\"E1.E11\"><a href=\"psysml:d2ba3396-0b46-40b3-bbf4-49972d7872ff\" target=\"_top\" title=\"psysml:d2ba3396-0b46-40b3-bbf4-49972d7872ff\" xlink:actuate=\"onRequest\" xlink:href=\"psysml:d2ba3396-0b46-40b3-bbf4-49972d7872ff\" xlink:show=\"new\" xlink:title=\"psysml:d2ba3396-0b46-40b3-bbf4-49972d7872ff\" xlink:type=\"simple\"><rect fill=\"#FFFFFF\" height=\"42.9375\" id=\"E11\" style=\"stroke: #383838; stroke-width: 1.5;\" width=\"104\" x=\"738\" y=\"42.5\"/><rect fill=\"#F8F8F8\" height=\"37.9375\" style=\"stroke: #383838; stroke-width: 1.5;\" width=\"104\" x=\"738\" y=\"42.5\"/><text fill=\"#000000\" font-family=\"sans-serif\" font-size=\"12\" font-style=\"italic\" lengthAdjust=\"spacingAndGlyphs\" textLength=\"97\" x=\"741.5\" y=\"58.6387\">«attribute  def»</text><text fill=\"#000000\" font-family=\"sans-serif\" font-size=\"12\" lengthAdjust=\"spacingAndGlyphs\" textLength=\"8\" x=\"786\" y=\"72.6074\">A</text></a></g><g id=\"E1.E2\"><a href=\"psysml:7d5bba99-ceb9-4796-b455-cbfdc331a9aa\" target=\"_top\" title=\"psysml:7d5bba99-ceb9-4796-b455-cbfdc331a9aa\" xlink:actuate=\"onRequest\" xlink:href=\"psysml:7d5bba99-ceb9-4796-b455-cbfdc331a9aa\" xlink:show=\"new\" xlink:title=\"psysml:7d5bba99-ceb9-4796-b455-cbfdc331a9aa\" xlink:type=\"simple\"><rect fill=\"#FFFFFF\" height=\"42.9375\" id=\"E2\" style=\"stroke: #383838; stroke-width: 1.5;\" width=\"75\" x=\"627.5\" y=\"42.5\"/><rect fill=\"#F8F8F8\" height=\"37.9375\" style=\"stroke: #383838; stroke-width: 1.5;\" width=\"75\" x=\"627.5\" y=\"42.5\"/><text fill=\"#000000\" font-family=\"sans-serif\" font-size=\"12\" font-style=\"italic\" lengthAdjust=\"spacingAndGlyphs\" textLength=\"68\" x=\"631\" y=\"58.6387\">«part  def»</text><text fill=\"#000000\" font-family=\"sans-serif\" font-size=\"12\" lengthAdjust=\"spacingAndGlyphs\" textLength=\"8\" x=\"661\" y=\"72.6074\">P</text></a></g><g id=\"E1.E4\"><a href=\"psysml:0bccd947-b2f6-485e-9c27-5cc482a56716\" target=\"_top\" title=\"psysml:0bccd947-b2f6-485e-9c27-5cc482a56716\" xlink:actuate=\"onRequest\" xlink:href=\"psysml:0bccd947-b2f6-485e-9c27-5cc482a56716\" xlink:show=\"new\" xlink:title=\"psysml:0bccd947-b2f6-485e-9c27-5cc482a56716\" xlink:type=\"simple\"><rect fill=\"#FFFFFF\" height=\"40\" id=\"E4\" rx=\"10\" ry=\"10\" style=\"stroke: #383838; stroke-width: 1.5;\" width=\"50\" x=\"542\" y=\"44\"/><rect fill=\"#F8F8F8\" height=\"23.9688\" rx=\"10\" ry=\"10\" style=\"stroke: #F8F8F8; stroke-width: 1.5;\" width=\"50\" x=\"542\" y=\"44\"/><rect fill=\"#F8F8F8\" height=\"10\" style=\"stroke: #F8F8F8; stroke-width: 1.5;\" width=\"50\" x=\"542\" y=\"57.9688\"/><rect fill=\"none\" height=\"40\" id=\"E4\" rx=\"10\" ry=\"10\" style=\"stroke: #383838; stroke-width: 1.5;\" width=\"50\" x=\"542\" y=\"44\"/><text fill=\"#000000\" font-family=\"sans-serif\" font-size=\"12\" lengthAdjust=\"spacingAndGlyphs\" textLength=\"8\" x=\"563\" y=\"60.1387\">a</text></a></g><g id=\"E1.E5\"><a href=\"psysml:3563b5dd-e50a-438e-94ba-a5b38ab6df54\" target=\"_top\" title=\"psysml:3563b5dd-e50a-438e-94ba-a5b38ab6df54\" xlink:actuate=\"onRequest\" xlink:href=\"psysml:3563b5dd-e50a-438e-94ba-a5b38ab6df54\" xlink:show=\"new\" xlink:title=\"psysml:3563b5dd-e50a-438e-94ba-a5b38ab6df54\" xlink:type=\"simple\"><rect fill=\"#FFFFFF\" height=\"40\" id=\"E5\" rx=\"10\" ry=\"10\" style=\"stroke: #383838; stroke-width: 1.5;\" width=\"50\" x=\"457\" y=\"44\"/><rect fill=\"#F8F8F8\" height=\"23.9688\" rx=\"10\" ry=\"10\" style=\"stroke: #F8F8F8; stroke-width: 1.5;\" width=\"50\" x=\"457\" y=\"44\"/><rect fill=\"#F8F8F8\" height=\"10\" style=\"stroke: #F8F8F8; stroke-width: 1.5;\" width=\"50\" x=\"457\" y=\"57.9688\"/><rect fill=\"none\" height=\"40\" id=\"E5\" rx=\"10\" ry=\"10\" style=\"stroke: #383838; stroke-width: 1.5;\" width=\"50\" x=\"457\" y=\"44\"/><text fill=\"#000000\" font-family=\"sans-serif\" font-size=\"12\" lengthAdjust=\"spacingAndGlyphs\" textLength=\"24\" x=\"470\" y=\"60.1387\">b: P</text></a></g><g id=\"E1.E6\"><a href=\"psysml:61a7c4a1-1480-402d-a8df-76594b39497b\" target=\"_top\" title=\"psysml:61a7c4a1-1480-402d-a8df-76594b39497b\" xlink:actuate=\"onRequest\" xlink:href=\"psysml:61a7c4a1-1480-402d-a8df-76594b39497b\" xlink:show=\"new\" xlink:title=\"psysml:61a7c4a1-1480-402d-a8df-76594b39497b\" xlink:type=\"simple\"><rect fill=\"#FFFFFF\" height=\"40\" id=\"E6\" rx=\"10\" ry=\"10\" style=\"stroke: #383838; stroke-width: 1.5;\" width=\"50\" x=\"372\" y=\"44\"/><rect fill=\"#F8F8F8\" height=\"23.9688\" rx=\"10\" ry=\"10\" style=\"stroke: #F8F8F8; stroke-width: 1.5;\" width=\"50\" x=\"372\" y=\"44\"/><rect fill=\"#F8F8F8\" height=\"10\" style=\"stroke: #F8F8F8; stroke-width: 1.5;\" width=\"50\" x=\"372\" y=\"57.9688\"/><rect fill=\"none\" height=\"40\" id=\"E6\" rx=\"10\" ry=\"10\" style=\"stroke: #383838; stroke-width: 1.5;\" width=\"50\" x=\"372\" y=\"44\"/><text fill=\"#000000\" font-family=\"sans-serif\" font-size=\"12\" lengthAdjust=\"spacingAndGlyphs\" textLength=\"23\" x=\"385.5\" y=\"60.1387\">c: P</text></a></g><g id=\"E1.E7\"><a href=\"psysml:f3d0dfc0-0dbb-4454-830c-43cee9c0f8af\" target=\"_top\" title=\"psysml:f3d0dfc0-0dbb-4454-830c-43cee9c0f8af\" xlink:actuate=\"onRequest\" xlink:href=\"psysml:f3d0dfc0-0dbb-4454-830c-43cee9c0f8af\" xlink:show=\"new\" xlink:title=\"psysml:f3d0dfc0-0dbb-4454-830c-43cee9c0f8af\" xlink:type=\"simple\"><rect fill=\"#FFFFFF\" height=\"40\" id=\"E7\" rx=\"10\" ry=\"10\" style=\"stroke: #383838; stroke-width: 1.5;\" width=\"50\" x=\"287\" y=\"44\"/><rect fill=\"#F8F8F8\" height=\"23.9688\" rx=\"10\" ry=\"10\" style=\"stroke: #F8F8F8; stroke-width: 1.5;\" width=\"50\" x=\"287\" y=\"44\"/><rect fill=\"#F8F8F8\" height=\"10\" style=\"stroke: #F8F8F8; stroke-width: 1.5;\" width=\"50\" x=\"287\" y=\"57.9688\"/><rect fill=\"none\" height=\"40\" id=\"E7\" rx=\"10\" ry=\"10\" style=\"stroke: #383838; stroke-width: 1.5;\" width=\"50\" x=\"287\" y=\"44\"/><text fill=\"#000000\" font-family=\"sans-serif\" font-size=\"12\" lengthAdjust=\"spacingAndGlyphs\" textLength=\"8\" x=\"308\" y=\"60.1387\">d</text></a></g><g id=\"E1.E8\"><a href=\"psysml:470ebeae-9c21-45dc-92b7-3ec0bcac92c0\" target=\"_top\" title=\"psysml:470ebeae-9c21-45dc-92b7-3ec0bcac92c0\" xlink:actuate=\"onRequest\" xlink:href=\"psysml:470ebeae-9c21-45dc-92b7-3ec0bcac92c0\" xlink:show=\"new\" xlink:title=\"psysml:470ebeae-9c21-45dc-92b7-3ec0bcac92c0\" xlink:type=\"simple\"><rect fill=\"#FFFFFF\" height=\"40\" id=\"E8\" rx=\"10\" ry=\"10\" style=\"stroke: #383838; stroke-width: 1.5;\" width=\"50\" x=\"202\" y=\"44\"/><rect fill=\"#F8F8F8\" height=\"23.9688\" rx=\"10\" ry=\"10\" style=\"stroke: #F8F8F8; stroke-width: 1.5;\" width=\"50\" x=\"202\" y=\"44\"/><rect fill=\"#F8F8F8\" height=\"10\" style=\"stroke: #F8F8F8; stroke-width: 1.5;\" width=\"50\" x=\"202\" y=\"57.9688\"/><rect fill=\"none\" height=\"40\" id=\"E8\" rx=\"10\" ry=\"10\" style=\"stroke: #383838; stroke-width: 1.5;\" width=\"50\" x=\"202\" y=\"44\"/><text fill=\"#000000\" font-family=\"sans-serif\" font-size=\"12\" lengthAdjust=\"spacingAndGlyphs\" textLength=\"8\" x=\"223\" y=\"60.1387\">e</text></a></g><g id=\"E1.E9\"><a href=\"psysml:e3b105f8-a02a-4959-8fa9-8da786795f1e\" target=\"_top\" title=\"psysml:e3b105f8-a02a-4959-8fa9-8da786795f1e\" xlink:actuate=\"onRequest\" xlink:href=\"psysml:e3b105f8-a02a-4959-8fa9-8da786795f1e\" xlink:show=\"new\" xlink:title=\"psysml:e3b105f8-a02a-4959-8fa9-8da786795f1e\" xlink:type=\"simple\"><rect fill=\"#FFFFFF\" height=\"40\" id=\"E9\" rx=\"10\" ry=\"10\" style=\"stroke: #383838; stroke-width: 1.5;\" width=\"50\" x=\"117\" y=\"44\"/><rect fill=\"#F8F8F8\" height=\"23.9688\" rx=\"10\" ry=\"10\" style=\"stroke: #F8F8F8; stroke-width: 1.5;\" width=\"50\" x=\"117\" y=\"44\"/><rect fill=\"#F8F8F8\" height=\"10\" style=\"stroke: #F8F8F8; stroke-width: 1.5;\" width=\"50\" x=\"117\" y=\"57.9688\"/><rect fill=\"none\" height=\"40\" id=\"E9\" rx=\"10\" ry=\"10\" style=\"stroke: #383838; stroke-width: 1.5;\" width=\"50\" x=\"117\" y=\"44\"/><text fill=\"#000000\" font-family=\"sans-serif\" font-size=\"12\" lengthAdjust=\"spacingAndGlyphs\" textLength=\"4\" x=\"140\" y=\"60.1387\">f</text></a></g><g id=\"E1.E10\"><a href=\"psysml:0b08e64f-1d74-4a65-b189-b5a78b2f5a03\" target=\"_top\" title=\"psysml:0b08e64f-1d74-4a65-b189-b5a78b2f5a03\" xlink:actuate=\"onRequest\" xlink:href=\"psysml:0b08e64f-1d74-4a65-b189-b5a78b2f5a03\" xlink:show=\"new\" xlink:title=\"psysml:0b08e64f-1d74-4a65-b189-b5a78b2f5a03\" xlink:type=\"simple\"><rect fill=\"#FFFFFF\" height=\"40\" id=\"E10\" rx=\"10\" ry=\"10\" style=\"stroke: #383838; stroke-width: 1.5;\" width=\"50\" x=\"32\" y=\"44\"/><rect fill=\"#F8F8F8\" height=\"23.9688\" rx=\"10\" ry=\"10\" style=\"stroke: #F8F8F8; stroke-width: 1.5;\" width=\"50\" x=\"32\" y=\"44\"/><rect fill=\"#F8F8F8\" height=\"10\" style=\"stroke: #F8F8F8; stroke-width: 1.5;\" width=\"50\" x=\"32\" y=\"57.9688\"/><rect fill=\"none\" height=\"40\" id=\"E10\" rx=\"10\" ry=\"10\" style=\"stroke: #383838; stroke-width: 1.5;\" width=\"50\" x=\"32\" y=\"44\"/><text fill=\"#000000\" font-family=\"sans-serif\" font-size=\"12\" lengthAdjust=\"spacingAndGlyphs\" textLength=\"8\" x=\"53\" y=\"60.1387\">g</text></a></g><!--MD5=[c42d753f3d36494f42e9113fa749f009]\n",
       "@startuml\r\n",
       "skinparam ranksep 10\r\n",
       "skinparam rectangle {\r\n",
       " backgroundColor<<block>> LightGreen\r\n",
       "}\r\n",
       "skinparam linetype polyline\r\n",
       "skinparam monochrome true\r\n",
       "skinparam classbackgroundcolor white\r\n",
       "skinparam shadowing false\r\n",
       "skinparam wrapWidth 300\r\n",
       "hide circle\r\n",
       "\r\n",
       "package \"MultiplicityTest\" as E1  [[psysml:e445ccd1-d7b4-46a5-bbe0-1ba908b830dd ]]  {\r\n",
       "rec def \"P\" as E2  <<(T,blue) part  def>> [[psysml:7d5bba99-ceb9-4796-b455-cbfdc331a9aa ]] {\r\n",
       "}\r\n",
       "comp usage \"n: Integer \" as E3  <<(T,blue) attribute>> [[psysml:ec541e3b-6371-48bf-8290-c0b2a0f88f52 ]] {\r\n",
       "}\r\n",
       "rec usage \"a\" as E4  [[psysml:0bccd947-b2f6-485e-9c27-5cc482a56716 ]] {\r\n",
       "}\r\n",
       "rec usage \"b: P\" as E5  [[psysml:3563b5dd-e50a-438e-94ba-a5b38ab6df54 ]] {\r\n",
       "}\r\n",
       "rec usage \"c: P\" as E6  [[psysml:61a7c4a1-1480-402d-a8df-76594b39497b ]] {\r\n",
       "}\r\n",
       "rec usage \"d\" as E7  [[psysml:f3d0dfc0-0dbb-4454-830c-43cee9c0f8af ]] {\r\n",
       "}\r\n",
       "rec usage \"e\" as E8  [[psysml:470ebeae-9c21-45dc-92b7-3ec0bcac92c0 ]] {\r\n",
       "}\r\n",
       "rec usage \"f\" as E9  [[psysml:e3b105f8-a02a-4959-8fa9-8da786795f1e ]] {\r\n",
       "}\r\n",
       "rec usage \"g\" as E10  [[psysml:0b08e64f-1d74-4a65-b189-b5a78b2f5a03 ]] {\r\n",
       "}\r\n",
       "def \"A\" as E11  <<(T,blue) attribute  def>> [[psysml:d2ba3396-0b46-40b3-bbf4-49972d7872ff ]] \r\n",
       "}\r\n",
       "@enduml\r\n",
       "\n",
       "PlantUML version 1.2020.13(Sat Jun 13 12:26:38 UTC 2020)\n",
       "(EPL source distribution)\n",
       "Java Runtime: OpenJDK Runtime Environment\n",
       "JVM: OpenJDK 64-Bit Server VM\n",
       "Default Encoding: UTF-8\n",
       "Language: en\n",
       "Country: null\n",
       "--></g></svg>"
      ]
     },
     "execution_count": 12,
     "metadata": {},
     "output_type": "execute_result"
    }
   ],
   "source": [
    "%viz --style=\"POLYLINE\" --view=\"Interconnection\" \"MultiplicityTest\""
   ]
  },
  {
   "cell_type": "code",
   "execution_count": 13,
   "id": "bace5e15",
   "metadata": {
    "execution": {
     "iopub.execute_input": "2022-02-05T16:56:08.976184Z",
     "iopub.status.busy": "2022-02-05T16:56:08.975545Z",
     "iopub.status.idle": "2022-02-05T16:56:08.982023Z",
     "shell.execute_reply": "2022-02-05T16:56:08.982348Z"
    }
   },
   "outputs": [
    {
     "data": {
      "image/svg+xml": [
       "<?xml version=\"1.0\" encoding=\"UTF-8\" standalone=\"no\"?><svg xmlns=\"http://www.w3.org/2000/svg\" xmlns:xlink=\"http://www.w3.org/1999/xlink\" contentScriptType=\"application/ecmascript\" contentStyleType=\"text/css\" height=\"12px\" preserveAspectRatio=\"none\" style=\"width:12px;height:12px;\" version=\"1.1\" viewBox=\"0 0 12 12\" width=\"12px\" zoomAndPan=\"magnify\"><defs/><g><!--MD5=[97bbf32f66ccd50cbc40d92ea8f5a65e]\n",
       "@startuml\r\n",
       "skinparam ranksep 8\r\n",
       "skinparam linetype polyline\r\n",
       "skinparam monochrome true\r\n",
       "skinparam classbackgroundcolor white\r\n",
       "skinparam shadowing false\r\n",
       "skinparam wrapWidth 300\r\n",
       "hide circle\r\n",
       "\r\n",
       "@enduml\r\n",
       "\n",
       "PlantUML version 1.2020.13(Sat Jun 13 12:26:38 UTC 2020)\n",
       "(EPL source distribution)\n",
       "Java Runtime: OpenJDK Runtime Environment\n",
       "JVM: OpenJDK 64-Bit Server VM\n",
       "Default Encoding: UTF-8\n",
       "Language: en\n",
       "Country: null\n",
       "--></g></svg>"
      ]
     },
     "execution_count": 13,
     "metadata": {},
     "output_type": "execute_result"
    }
   ],
   "source": [
    "%viz --style=\"POLYLINE\" --view=\"Action\" \"MultiplicityTest\""
   ]
  },
  {
   "cell_type": "code",
   "execution_count": 14,
   "id": "4f4472b1",
   "metadata": {
    "execution": {
     "iopub.execute_input": "2022-02-05T16:56:09.032991Z",
     "iopub.status.busy": "2022-02-05T16:56:09.032351Z",
     "iopub.status.idle": "2022-02-05T16:56:09.040142Z",
     "shell.execute_reply": "2022-02-05T16:56:09.039785Z"
    }
   },
   "outputs": [
    {
     "data": {
      "image/svg+xml": [
       "<?xml version=\"1.0\" encoding=\"UTF-8\" standalone=\"no\"?><svg xmlns=\"http://www.w3.org/2000/svg\" xmlns:xlink=\"http://www.w3.org/1999/xlink\" contentScriptType=\"application/ecmascript\" contentStyleType=\"text/css\" height=\"12px\" preserveAspectRatio=\"none\" style=\"width:12px;height:12px;\" version=\"1.1\" viewBox=\"0 0 12 12\" width=\"12px\" zoomAndPan=\"magnify\"><defs/><g><!--MD5=[dc938048236c351797870c36b62f92ad]\n",
       "@startuml\r\n",
       "skinparam roundcorner 20\r\n",
       "skinparam BoxPadding 20\r\n",
       "skinparam SequenceBoxBackgroundColor #white\r\n",
       "skinparam style strictuml\r\n",
       "skinparam maxMessageSize 100\r\n",
       "skinparam linetype polyline\r\n",
       "skinparam monochrome true\r\n",
       "skinparam classbackgroundcolor white\r\n",
       "skinparam shadowing false\r\n",
       "skinparam wrapWidth 300\r\n",
       "hide circle\r\n",
       "\r\n",
       "@enduml\r\n",
       "\n",
       "PlantUML version 1.2020.13(Sat Jun 13 12:26:38 UTC 2020)\n",
       "(EPL source distribution)\n",
       "Java Runtime: OpenJDK Runtime Environment\n",
       "JVM: OpenJDK 64-Bit Server VM\n",
       "Default Encoding: UTF-8\n",
       "Language: en\n",
       "Country: null\n",
       "--></g></svg>"
      ]
     },
     "execution_count": 14,
     "metadata": {},
     "output_type": "execute_result"
    }
   ],
   "source": [
    "%viz --style=\"POLYLINE\" --view=\"Sequence\" \"MultiplicityTest\""
   ]
  },
  {
   "cell_type": "code",
   "execution_count": 15,
   "id": "c28ce3ed",
   "metadata": {
    "execution": {
     "iopub.execute_input": "2022-02-05T16:56:09.090571Z",
     "iopub.status.busy": "2022-02-05T16:56:09.089928Z",
     "iopub.status.idle": "2022-02-05T16:56:09.162314Z",
     "shell.execute_reply": "2022-02-05T16:56:09.162114Z"
    }
   },
   "outputs": [
    {
     "data": {
      "image/svg+xml": [
       "<?xml version=\"1.0\" encoding=\"UTF-8\" standalone=\"no\"?><svg xmlns=\"http://www.w3.org/2000/svg\" xmlns:xlink=\"http://www.w3.org/1999/xlink\" contentScriptType=\"application/ecmascript\" contentStyleType=\"text/css\" height=\"263px\" preserveAspectRatio=\"none\" style=\"width:816px;height:263px;\" version=\"1.1\" viewBox=\"0 0 816 263\" width=\"816px\" zoomAndPan=\"magnify\"><defs/><g><!--MD5=[fbc87193dbaf4d95561dea2c320d4a47]\n",
       "cluster E1--><a href=\"psysml:e445ccd1-d7b4-46a5-bbe0-1ba908b830dd\" target=\"_top\" title=\"psysml:e445ccd1-d7b4-46a5-bbe0-1ba908b830dd\" xlink:actuate=\"onRequest\" xlink:href=\"psysml:e445ccd1-d7b4-46a5-bbe0-1ba908b830dd\" xlink:show=\"new\" xlink:title=\"psysml:e445ccd1-d7b4-46a5-bbe0-1ba908b830dd\" xlink:type=\"simple\"><polygon fill=\"#FFFFFF\" points=\"16,6,123,6,130,28.2969,794,28.2969,794,251,16,251,16,6\" style=\"stroke: #000000; stroke-width: 1.5;\"/><line style=\"stroke: #000000; stroke-width: 1.5;\" x1=\"16\" x2=\"130\" y1=\"28.2969\" y2=\"28.2969\"/><text fill=\"#000000\" font-family=\"sans-serif\" font-size=\"14\" font-weight=\"bold\" lengthAdjust=\"spacingAndGlyphs\" textLength=\"101\" x=\"20\" y=\"20.9951\">MultiplicityTest</text></a><!--MD5=[b4997ac47864f28c2f74865a473b2911]\n",
       "class E2--><a href=\"psysml:7d5bba99-ceb9-4796-b455-cbfdc331a9aa\" target=\"_top\" title=\"psysml:7d5bba99-ceb9-4796-b455-cbfdc331a9aa\" xlink:actuate=\"onRequest\" xlink:href=\"psysml:7d5bba99-ceb9-4796-b455-cbfdc331a9aa\" xlink:show=\"new\" xlink:title=\"psysml:7d5bba99-ceb9-4796-b455-cbfdc331a9aa\" xlink:type=\"simple\"><rect fill=\"#FFFFFF\" height=\"45.9375\" id=\"E2\" style=\"stroke: #383838; stroke-width: 1.5;\" width=\"70\" x=\"499\" y=\"189\"/><text fill=\"#000000\" font-family=\"sans-serif\" font-size=\"12\" font-style=\"italic\" lengthAdjust=\"spacingAndGlyphs\" textLength=\"68\" x=\"500\" y=\"205.1387\">«part  def»</text><text fill=\"#000000\" font-family=\"sans-serif\" font-size=\"12\" lengthAdjust=\"spacingAndGlyphs\" textLength=\"8\" x=\"530\" y=\"219.1074\">P</text><line style=\"stroke: #383838; stroke-width: 1.5;\" x1=\"500\" x2=\"568\" y1=\"226.9375\" y2=\"226.9375\"/></a><!--MD5=[09b614a08d8cba4a07c9adeb5e0fee81]\n",
       "class E3--><a href=\"psysml:ec541e3b-6371-48bf-8290-c0b2a0f88f52\" target=\"_top\" title=\"psysml:ec541e3b-6371-48bf-8290-c0b2a0f88f52\" xlink:actuate=\"onRequest\" xlink:href=\"psysml:ec541e3b-6371-48bf-8290-c0b2a0f88f52\" xlink:show=\"new\" xlink:title=\"psysml:ec541e3b-6371-48bf-8290-c0b2a0f88f52\" xlink:type=\"simple\"><rect fill=\"#FFFFFF\" height=\"45.9375\" id=\"E3\" rx=\"10\" ry=\"10\" style=\"stroke: #383838; stroke-width: 1.5;\" width=\"71\" x=\"706.5\" y=\"62\"/><text fill=\"#000000\" font-family=\"sans-serif\" font-size=\"12\" font-style=\"italic\" lengthAdjust=\"spacingAndGlyphs\" textLength=\"69\" x=\"707.5\" y=\"78.1387\">«attribute»</text><text fill=\"#000000\" font-family=\"sans-serif\" font-size=\"12\" lengthAdjust=\"spacingAndGlyphs\" textLength=\"61\" x=\"709.5\" y=\"92.1074\">n: Integer</text><line style=\"stroke: #383838; stroke-width: 1.5;\" x1=\"707.5\" x2=\"776.5\" y1=\"99.9375\" y2=\"99.9375\"/></a><!--MD5=[ebbe1d658d1005bcc118a6aa81145e00]\n",
       "class E4--><a href=\"psysml:0bccd947-b2f6-485e-9c27-5cc482a56716\" target=\"_top\" title=\"psysml:0bccd947-b2f6-485e-9c27-5cc482a56716\" xlink:actuate=\"onRequest\" xlink:href=\"psysml:0bccd947-b2f6-485e-9c27-5cc482a56716\" xlink:show=\"new\" xlink:title=\"psysml:0bccd947-b2f6-485e-9c27-5cc482a56716\" xlink:type=\"simple\"><rect fill=\"#FFFFFF\" height=\"45.9375\" id=\"E4\" rx=\"10\" ry=\"10\" style=\"stroke: #383838; stroke-width: 1.5;\" width=\"42\" x=\"629\" y=\"62\"/><text fill=\"#000000\" font-family=\"sans-serif\" font-size=\"12\" font-style=\"italic\" lengthAdjust=\"spacingAndGlyphs\" textLength=\"40\" x=\"630\" y=\"78.1387\">«part»</text><text fill=\"#000000\" font-family=\"sans-serif\" font-size=\"12\" lengthAdjust=\"spacingAndGlyphs\" textLength=\"8\" x=\"644\" y=\"92.1074\">a</text><line style=\"stroke: #383838; stroke-width: 1.5;\" x1=\"630\" x2=\"670\" y1=\"99.9375\" y2=\"99.9375\"/></a><!--MD5=[270fce915f116d4de14055a7c1d9a0f3]\n",
       "class E5--><a href=\"psysml:3563b5dd-e50a-438e-94ba-a5b38ab6df54\" target=\"_top\" title=\"psysml:3563b5dd-e50a-438e-94ba-a5b38ab6df54\" xlink:actuate=\"onRequest\" xlink:href=\"psysml:3563b5dd-e50a-438e-94ba-a5b38ab6df54\" xlink:show=\"new\" xlink:title=\"psysml:3563b5dd-e50a-438e-94ba-a5b38ab6df54\" xlink:type=\"simple\"><rect fill=\"#FFFFFF\" height=\"45.9375\" id=\"E5\" rx=\"10\" ry=\"10\" style=\"stroke: #383838; stroke-width: 1.5;\" width=\"42\" x=\"552\" y=\"62\"/><text fill=\"#000000\" font-family=\"sans-serif\" font-size=\"12\" font-style=\"italic\" lengthAdjust=\"spacingAndGlyphs\" textLength=\"40\" x=\"553\" y=\"78.1387\">«part»</text><text fill=\"#000000\" font-family=\"sans-serif\" font-size=\"12\" lengthAdjust=\"spacingAndGlyphs\" textLength=\"24\" x=\"559\" y=\"92.1074\">b: P</text><line style=\"stroke: #383838; stroke-width: 1.5;\" x1=\"553\" x2=\"593\" y1=\"99.9375\" y2=\"99.9375\"/></a><!--MD5=[60a26617385b1d2d0262a64233df1f8d]\n",
       "class E6--><a href=\"psysml:61a7c4a1-1480-402d-a8df-76594b39497b\" target=\"_top\" title=\"psysml:61a7c4a1-1480-402d-a8df-76594b39497b\" xlink:actuate=\"onRequest\" xlink:href=\"psysml:61a7c4a1-1480-402d-a8df-76594b39497b\" xlink:show=\"new\" xlink:title=\"psysml:61a7c4a1-1480-402d-a8df-76594b39497b\" xlink:type=\"simple\"><rect fill=\"#FFFFFF\" height=\"45.9375\" id=\"E6\" rx=\"10\" ry=\"10\" style=\"stroke: #383838; stroke-width: 1.5;\" width=\"42\" x=\"475\" y=\"62\"/><text fill=\"#000000\" font-family=\"sans-serif\" font-size=\"12\" font-style=\"italic\" lengthAdjust=\"spacingAndGlyphs\" textLength=\"40\" x=\"476\" y=\"78.1387\">«part»</text><text fill=\"#000000\" font-family=\"sans-serif\" font-size=\"12\" lengthAdjust=\"spacingAndGlyphs\" textLength=\"23\" x=\"482.5\" y=\"92.1074\">c: P</text><line style=\"stroke: #383838; stroke-width: 1.5;\" x1=\"476\" x2=\"516\" y1=\"99.9375\" y2=\"99.9375\"/></a><!--MD5=[2156ba9850f5573cc1fc38a6a4b2f02b]\n",
       "class E7--><a href=\"psysml:f3d0dfc0-0dbb-4454-830c-43cee9c0f8af\" target=\"_top\" title=\"psysml:f3d0dfc0-0dbb-4454-830c-43cee9c0f8af\" xlink:actuate=\"onRequest\" xlink:href=\"psysml:f3d0dfc0-0dbb-4454-830c-43cee9c0f8af\" xlink:show=\"new\" xlink:title=\"psysml:f3d0dfc0-0dbb-4454-830c-43cee9c0f8af\" xlink:type=\"simple\"><rect fill=\"#FFFFFF\" height=\"45.9375\" id=\"E7\" rx=\"10\" ry=\"10\" style=\"stroke: #383838; stroke-width: 1.5;\" width=\"42\" x=\"398\" y=\"62\"/><text fill=\"#000000\" font-family=\"sans-serif\" font-size=\"12\" font-style=\"italic\" lengthAdjust=\"spacingAndGlyphs\" textLength=\"40\" x=\"399\" y=\"78.1387\">«part»</text><text fill=\"#000000\" font-family=\"sans-serif\" font-size=\"12\" lengthAdjust=\"spacingAndGlyphs\" textLength=\"8\" x=\"413\" y=\"92.1074\">d</text><line style=\"stroke: #383838; stroke-width: 1.5;\" x1=\"399\" x2=\"439\" y1=\"99.9375\" y2=\"99.9375\"/></a><!--MD5=[b9389687b975829384b498ac4b7476b2]\n",
       "class E8--><a href=\"psysml:470ebeae-9c21-45dc-92b7-3ec0bcac92c0\" target=\"_top\" title=\"psysml:470ebeae-9c21-45dc-92b7-3ec0bcac92c0\" xlink:actuate=\"onRequest\" xlink:href=\"psysml:470ebeae-9c21-45dc-92b7-3ec0bcac92c0\" xlink:show=\"new\" xlink:title=\"psysml:470ebeae-9c21-45dc-92b7-3ec0bcac92c0\" xlink:type=\"simple\"><rect fill=\"#FFFFFF\" height=\"45.9375\" id=\"E8\" rx=\"10\" ry=\"10\" style=\"stroke: #383838; stroke-width: 1.5;\" width=\"42\" x=\"321\" y=\"62\"/><text fill=\"#000000\" font-family=\"sans-serif\" font-size=\"12\" font-style=\"italic\" lengthAdjust=\"spacingAndGlyphs\" textLength=\"40\" x=\"322\" y=\"78.1387\">«part»</text><text fill=\"#000000\" font-family=\"sans-serif\" font-size=\"12\" lengthAdjust=\"spacingAndGlyphs\" textLength=\"8\" x=\"336\" y=\"92.1074\">e</text><line style=\"stroke: #383838; stroke-width: 1.5;\" x1=\"322\" x2=\"362\" y1=\"99.9375\" y2=\"99.9375\"/></a><!--MD5=[fd4143e9d270a159db93a4ea2a975926]\n",
       "class E9--><a href=\"psysml:e3b105f8-a02a-4959-8fa9-8da786795f1e\" target=\"_top\" title=\"psysml:e3b105f8-a02a-4959-8fa9-8da786795f1e\" xlink:actuate=\"onRequest\" xlink:href=\"psysml:e3b105f8-a02a-4959-8fa9-8da786795f1e\" xlink:show=\"new\" xlink:title=\"psysml:e3b105f8-a02a-4959-8fa9-8da786795f1e\" xlink:type=\"simple\"><rect fill=\"#FFFFFF\" height=\"45.9375\" id=\"E9\" rx=\"10\" ry=\"10\" style=\"stroke: #383838; stroke-width: 1.5;\" width=\"42\" x=\"244\" y=\"62\"/><text fill=\"#000000\" font-family=\"sans-serif\" font-size=\"12\" font-style=\"italic\" lengthAdjust=\"spacingAndGlyphs\" textLength=\"40\" x=\"245\" y=\"78.1387\">«part»</text><text fill=\"#000000\" font-family=\"sans-serif\" font-size=\"12\" lengthAdjust=\"spacingAndGlyphs\" textLength=\"4\" x=\"261\" y=\"92.1074\">f</text><line style=\"stroke: #383838; stroke-width: 1.5;\" x1=\"245\" x2=\"285\" y1=\"99.9375\" y2=\"99.9375\"/></a><!--MD5=[96f4274e9e20536e775497830990834d]\n",
       "class E10--><a href=\"psysml:0b08e64f-1d74-4a65-b189-b5a78b2f5a03\" target=\"_top\" title=\"psysml:0b08e64f-1d74-4a65-b189-b5a78b2f5a03\" xlink:actuate=\"onRequest\" xlink:href=\"psysml:0b08e64f-1d74-4a65-b189-b5a78b2f5a03\" xlink:show=\"new\" xlink:title=\"psysml:0b08e64f-1d74-4a65-b189-b5a78b2f5a03\" xlink:type=\"simple\"><rect fill=\"#FFFFFF\" height=\"45.9375\" id=\"E10\" rx=\"10\" ry=\"10\" style=\"stroke: #383838; stroke-width: 1.5;\" width=\"42\" x=\"167\" y=\"62\"/><text fill=\"#000000\" font-family=\"sans-serif\" font-size=\"12\" font-style=\"italic\" lengthAdjust=\"spacingAndGlyphs\" textLength=\"40\" x=\"168\" y=\"78.1387\">«part»</text><text fill=\"#000000\" font-family=\"sans-serif\" font-size=\"12\" lengthAdjust=\"spacingAndGlyphs\" textLength=\"8\" x=\"182\" y=\"92.1074\">g</text><line style=\"stroke: #383838; stroke-width: 1.5;\" x1=\"168\" x2=\"208\" y1=\"99.9375\" y2=\"99.9375\"/></a><!--MD5=[1dd1bfd58a279cf63c5f349dbc8fc6a1]\n",
       "class E11--><a href=\"psysml:d2ba3396-0b46-40b3-bbf4-49972d7872ff\" target=\"_top\" title=\"psysml:d2ba3396-0b46-40b3-bbf4-49972d7872ff\" xlink:actuate=\"onRequest\" xlink:href=\"psysml:d2ba3396-0b46-40b3-bbf4-49972d7872ff\" xlink:show=\"new\" xlink:title=\"psysml:d2ba3396-0b46-40b3-bbf4-49972d7872ff\" xlink:type=\"simple\"><rect fill=\"#FFFFFF\" height=\"88.3516\" id=\"E11\" style=\"stroke: #383838; stroke-width: 1.5;\" width=\"99\" x=\"32.5\" y=\"41\"/><text fill=\"#000000\" font-family=\"sans-serif\" font-size=\"12\" font-style=\"italic\" lengthAdjust=\"spacingAndGlyphs\" textLength=\"97\" x=\"33.5\" y=\"57.1387\">«attribute  def»</text><text fill=\"#000000\" font-family=\"sans-serif\" font-size=\"12\" lengthAdjust=\"spacingAndGlyphs\" textLength=\"8\" x=\"78\" y=\"71.1074\">A</text><line style=\"stroke: #383838; stroke-width: 1.5;\" x1=\"33.5\" x2=\"130.5\" y1=\"78.9375\" y2=\"78.9375\"/><text fill=\"#000000\" font-family=\"sans-serif\" font-size=\"11\" lengthAdjust=\"spacingAndGlyphs\" textLength=\"51\" x=\"38.5\" y=\"109.9526\">i: Integer</text><text fill=\"#000000\" font-family=\"sans-serif\" font-size=\"11\" lengthAdjust=\"spacingAndGlyphs\" textLength=\"21\" x=\"38.5\" y=\"122.7573\">x: A</text><line style=\"stroke: #383838; stroke-width: 1.0;\" x1=\"33.5\" x2=\"54.5\" y1=\"93.3398\" y2=\"93.3398\"/><text fill=\"#000000\" font-family=\"sans-serif\" font-size=\"11\" lengthAdjust=\"spacingAndGlyphs\" textLength=\"55\" x=\"54.5\" y=\"96.6479\">attributes</text><line style=\"stroke: #383838; stroke-width: 1.0;\" x1=\"109.5\" x2=\"130.5\" y1=\"93.3398\" y2=\"93.3398\"/></a><!--MD5=[15ebcb19ae302d9b601edb458606d402]\n",
       "link E5 to E2--><a href=\"psysml:b362769d-1260-4065-9b83-621f0da47e8d\" target=\"_top\" title=\"psysml:b362769d-1260-4065-9b83-621f0da47e8d\" xlink:actuate=\"onRequest\" xlink:href=\"psysml:b362769d-1260-4065-9b83-621f0da47e8d\" xlink:show=\"new\" xlink:title=\"psysml:b362769d-1260-4065-9b83-621f0da47e8d\" xlink:type=\"simple\"><path d=\"M566.12,108.06 C560.83,125 553.38,148.89 546.98,169.39 \" fill=\"none\" id=\"E5-&gt;E2\" style=\"stroke: #383838; stroke-width: 1.0;\"/><polygon fill=\"#FFFFFF\" points=\"540.95,188.74,539.929,168.5173,553.2931,172.6886,540.95,188.74\" style=\"stroke: #383838; stroke-width: 1.0;\"/><ellipse cx=\"543.5364\" cy=\"163.6721\" fill=\"#383838\" rx=\"2\" ry=\"2\" style=\"stroke: #383838; stroke-width: 1.0;\"/><ellipse cx=\"553.0823\" cy=\"166.6516\" fill=\"#383838\" rx=\"2\" ry=\"2\" style=\"stroke: #383838; stroke-width: 1.0;\"/></a><!--MD5=[2351f337d6de0f557b50152ba70847b5]\n",
       "link E6 to E2--><a href=\"psysml:03080077-3284-4bc2-8ec3-31a93274162e\" target=\"_top\" title=\"psysml:03080077-3284-4bc2-8ec3-31a93274162e\" xlink:actuate=\"onRequest\" xlink:href=\"psysml:03080077-3284-4bc2-8ec3-31a93274162e\" xlink:show=\"new\" xlink:title=\"psysml:03080077-3284-4bc2-8ec3-31a93274162e\" xlink:type=\"simple\"><path d=\"M502.71,108.06 C507.86,125 515.12,148.89 521.35,169.39 \" fill=\"none\" id=\"E6-&gt;E2\" style=\"stroke: #383838; stroke-width: 1.0;\"/><polygon fill=\"#FFFFFF\" points=\"527.23,188.74,515.007,172.597,528.4019,168.5255,527.23,188.74\" style=\"stroke: #383838; stroke-width: 1.0;\"/><ellipse cx=\"515.2628\" cy=\"166.5617\" fill=\"#383838\" rx=\"2\" ry=\"2\" style=\"stroke: #383838; stroke-width: 1.0;\"/><ellipse cx=\"524.8306\" cy=\"163.6535\" fill=\"#383838\" rx=\"2\" ry=\"2\" style=\"stroke: #383838; stroke-width: 1.0;\"/></a><!--MD5=[51f7f14a28ef3d632db1ff0a3e0211a2]\n",
       "@startuml\r\n",
       "skinparam linetype polyline\r\n",
       "skinparam monochrome true\r\n",
       "skinparam classbackgroundcolor white\r\n",
       "skinparam shadowing false\r\n",
       "skinparam wrapWidth 300\r\n",
       "hide circle\r\n",
       "\r\n",
       "package \"MultiplicityTest\" as E1  [[psysml:e445ccd1-d7b4-46a5-bbe0-1ba908b830dd ]]  {\r\n",
       "comp def \"P\" as E2  <<(T,blue) part  def>> [[psysml:7d5bba99-ceb9-4796-b455-cbfdc331a9aa ]] {\r\n",
       "}\r\n",
       "comp usage \"n: Integer \" as E3  <<(T,blue) attribute>> [[psysml:ec541e3b-6371-48bf-8290-c0b2a0f88f52 ]] {\r\n",
       "}\r\n",
       "comp usage \"a \" as E4  <<(T,blue) part>> [[psysml:0bccd947-b2f6-485e-9c27-5cc482a56716 ]] {\r\n",
       "}\r\n",
       "comp usage \"b: P \" as E5  <<(T,blue) part>> [[psysml:3563b5dd-e50a-438e-94ba-a5b38ab6df54 ]] {\r\n",
       "}\r\n",
       "comp usage \"c: P \" as E6  <<(T,blue) part>> [[psysml:61a7c4a1-1480-402d-a8df-76594b39497b ]] {\r\n",
       "}\r\n",
       "comp usage \"d \" as E7  <<(T,blue) part>> [[psysml:f3d0dfc0-0dbb-4454-830c-43cee9c0f8af ]] {\r\n",
       "}\r\n",
       "comp usage \"e \" as E8  <<(T,blue) part>> [[psysml:470ebeae-9c21-45dc-92b7-3ec0bcac92c0 ]] {\r\n",
       "}\r\n",
       "comp usage \"f \" as E9  <<(T,blue) part>> [[psysml:e3b105f8-a02a-4959-8fa9-8da786795f1e ]] {\r\n",
       "}\r\n",
       "comp usage \"g \" as E10  <<(T,blue) part>> [[psysml:0b08e64f-1d74-4a65-b189-b5a78b2f5a03 ]] {\r\n",
       "}\r\n",
       "comp def \"A\" as E11  <<(T,blue) attribute  def>> [[psysml:d2ba3396-0b46-40b3-bbf4-49972d7872ff ]] {\r\n",
       "- - attributes - -\r\n",
       "i: Integer\r\n",
       "x: A\r\n",
       "}\r\n",
       "}\r\n",
       "E5 - -:|> E2 [[psysml:b362769d-1260-4065-9b83-621f0da47e8d ]] \r\n",
       "E6 - -:|> E2 [[psysml:03080077-3284-4bc2-8ec3-31a93274162e ]] \r\n",
       "@enduml\r\n",
       "\n",
       "PlantUML version 1.2020.13(Sat Jun 13 12:26:38 UTC 2020)\n",
       "(EPL source distribution)\n",
       "Java Runtime: OpenJDK Runtime Environment\n",
       "JVM: OpenJDK 64-Bit Server VM\n",
       "Default Encoding: UTF-8\n",
       "Language: en\n",
       "Country: null\n",
       "--></g></svg>"
      ]
     },
     "execution_count": 15,
     "metadata": {},
     "output_type": "execute_result"
    }
   ],
   "source": [
    "%viz --style=\"POLYLINE\" --view=\"MIXED\" \"MultiplicityTest\""
   ]
  },
  {
   "cell_type": "code",
   "execution_count": 16,
   "id": "05a2b2e1",
   "metadata": {
    "execution": {
     "iopub.execute_input": "2022-02-05T16:56:09.213019Z",
     "iopub.status.busy": "2022-02-05T16:56:09.212607Z",
     "iopub.status.idle": "2022-02-05T16:56:09.281743Z",
     "shell.execute_reply": "2022-02-05T16:56:09.282041Z"
    }
   },
   "outputs": [
    {
     "data": {
      "image/svg+xml": [
       "<?xml version=\"1.0\" encoding=\"UTF-8\" standalone=\"no\"?><svg xmlns=\"http://www.w3.org/2000/svg\" xmlns:xlink=\"http://www.w3.org/1999/xlink\" contentScriptType=\"application/ecmascript\" contentStyleType=\"text/css\" height=\"805px\" preserveAspectRatio=\"none\" style=\"width:299px;height:805px;\" version=\"1.1\" viewBox=\"0 0 299 805\" width=\"299px\" zoomAndPan=\"magnify\"><defs/><g><!--MD5=[fbc87193dbaf4d95561dea2c320d4a47]\n",
       "cluster E1--><a href=\"psysml:e445ccd1-d7b4-46a5-bbe0-1ba908b830dd\" target=\"_top\" title=\"psysml:e445ccd1-d7b4-46a5-bbe0-1ba908b830dd\" xlink:actuate=\"onRequest\" xlink:href=\"psysml:e445ccd1-d7b4-46a5-bbe0-1ba908b830dd\" xlink:show=\"new\" xlink:title=\"psysml:e445ccd1-d7b4-46a5-bbe0-1ba908b830dd\" xlink:type=\"simple\"><polygon fill=\"#FFFFFF\" points=\"16,6,123,6,130,28.2969,277,28.2969,277,793,16,793,16,6\" style=\"stroke: #000000; stroke-width: 1.5;\"/><line style=\"stroke: #000000; stroke-width: 1.5;\" x1=\"16\" x2=\"130\" y1=\"28.2969\" y2=\"28.2969\"/><text fill=\"#000000\" font-family=\"sans-serif\" font-size=\"14\" font-weight=\"bold\" lengthAdjust=\"spacingAndGlyphs\" textLength=\"101\" x=\"20\" y=\"20.9951\">MultiplicityTest</text></a><!--MD5=[b4997ac47864f28c2f74865a473b2911]\n",
       "class E2--><a href=\"psysml:7d5bba99-ceb9-4796-b455-cbfdc331a9aa\" target=\"_top\" title=\"psysml:7d5bba99-ceb9-4796-b455-cbfdc331a9aa\" xlink:actuate=\"onRequest\" xlink:href=\"psysml:7d5bba99-ceb9-4796-b455-cbfdc331a9aa\" xlink:show=\"new\" xlink:title=\"psysml:7d5bba99-ceb9-4796-b455-cbfdc331a9aa\" xlink:type=\"simple\"><rect fill=\"#FFFFFF\" height=\"45.9375\" id=\"E2\" style=\"stroke: #383838; stroke-width: 1.5;\" width=\"70\" x=\"191\" y=\"244\"/><text fill=\"#000000\" font-family=\"sans-serif\" font-size=\"12\" font-style=\"italic\" lengthAdjust=\"spacingAndGlyphs\" textLength=\"68\" x=\"192\" y=\"260.1387\">«part  def»</text><text fill=\"#000000\" font-family=\"sans-serif\" font-size=\"12\" lengthAdjust=\"spacingAndGlyphs\" textLength=\"8\" x=\"222\" y=\"274.1074\">P</text><line style=\"stroke: #383838; stroke-width: 1.5;\" x1=\"192\" x2=\"260\" y1=\"281.9375\" y2=\"281.9375\"/></a><!--MD5=[09b614a08d8cba4a07c9adeb5e0fee81]\n",
       "class E3--><a href=\"psysml:ec541e3b-6371-48bf-8290-c0b2a0f88f52\" target=\"_top\" title=\"psysml:ec541e3b-6371-48bf-8290-c0b2a0f88f52\" xlink:actuate=\"onRequest\" xlink:href=\"psysml:ec541e3b-6371-48bf-8290-c0b2a0f88f52\" xlink:show=\"new\" xlink:title=\"psysml:ec541e3b-6371-48bf-8290-c0b2a0f88f52\" xlink:type=\"simple\"><rect fill=\"#FFFFFF\" height=\"45.9375\" id=\"E3\" rx=\"10\" ry=\"10\" style=\"stroke: #383838; stroke-width: 1.5;\" width=\"71\" x=\"46\" y=\"41\"/><text fill=\"#000000\" font-family=\"sans-serif\" font-size=\"12\" font-style=\"italic\" lengthAdjust=\"spacingAndGlyphs\" textLength=\"69\" x=\"47\" y=\"57.1387\">«attribute»</text><text fill=\"#000000\" font-family=\"sans-serif\" font-size=\"12\" lengthAdjust=\"spacingAndGlyphs\" textLength=\"61\" x=\"49\" y=\"71.1074\">n: Integer</text><line style=\"stroke: #383838; stroke-width: 1.5;\" x1=\"47\" x2=\"116\" y1=\"78.9375\" y2=\"78.9375\"/></a><!--MD5=[ebbe1d658d1005bcc118a6aa81145e00]\n",
       "class E4--><a href=\"psysml:0bccd947-b2f6-485e-9c27-5cc482a56716\" target=\"_top\" title=\"psysml:0bccd947-b2f6-485e-9c27-5cc482a56716\" xlink:actuate=\"onRequest\" xlink:href=\"psysml:0bccd947-b2f6-485e-9c27-5cc482a56716\" xlink:show=\"new\" xlink:title=\"psysml:0bccd947-b2f6-485e-9c27-5cc482a56716\" xlink:type=\"simple\"><rect fill=\"#FFFFFF\" height=\"45.9375\" id=\"E4\" rx=\"10\" ry=\"10\" style=\"stroke: #383838; stroke-width: 1.5;\" width=\"42\" x=\"60.5\" y=\"122\"/><text fill=\"#000000\" font-family=\"sans-serif\" font-size=\"12\" font-style=\"italic\" lengthAdjust=\"spacingAndGlyphs\" textLength=\"40\" x=\"61.5\" y=\"138.1387\">«part»</text><text fill=\"#000000\" font-family=\"sans-serif\" font-size=\"12\" lengthAdjust=\"spacingAndGlyphs\" textLength=\"8\" x=\"75.5\" y=\"152.1074\">a</text><line style=\"stroke: #383838; stroke-width: 1.5;\" x1=\"61.5\" x2=\"101.5\" y1=\"159.9375\" y2=\"159.9375\"/></a><!--MD5=[270fce915f116d4de14055a7c1d9a0f3]\n",
       "class E5--><a href=\"psysml:3563b5dd-e50a-438e-94ba-a5b38ab6df54\" target=\"_top\" title=\"psysml:3563b5dd-e50a-438e-94ba-a5b38ab6df54\" xlink:actuate=\"onRequest\" xlink:href=\"psysml:3563b5dd-e50a-438e-94ba-a5b38ab6df54\" xlink:show=\"new\" xlink:title=\"psysml:3563b5dd-e50a-438e-94ba-a5b38ab6df54\" xlink:type=\"simple\"><rect fill=\"#FFFFFF\" height=\"45.9375\" id=\"E5\" rx=\"10\" ry=\"10\" style=\"stroke: #383838; stroke-width: 1.5;\" width=\"42\" x=\"60.5\" y=\"203\"/><text fill=\"#000000\" font-family=\"sans-serif\" font-size=\"12\" font-style=\"italic\" lengthAdjust=\"spacingAndGlyphs\" textLength=\"40\" x=\"61.5\" y=\"219.1387\">«part»</text><text fill=\"#000000\" font-family=\"sans-serif\" font-size=\"12\" lengthAdjust=\"spacingAndGlyphs\" textLength=\"24\" x=\"67.5\" y=\"233.1074\">b: P</text><line style=\"stroke: #383838; stroke-width: 1.5;\" x1=\"61.5\" x2=\"101.5\" y1=\"240.9375\" y2=\"240.9375\"/></a><!--MD5=[60a26617385b1d2d0262a64233df1f8d]\n",
       "class E6--><a href=\"psysml:61a7c4a1-1480-402d-a8df-76594b39497b\" target=\"_top\" title=\"psysml:61a7c4a1-1480-402d-a8df-76594b39497b\" xlink:actuate=\"onRequest\" xlink:href=\"psysml:61a7c4a1-1480-402d-a8df-76594b39497b\" xlink:show=\"new\" xlink:title=\"psysml:61a7c4a1-1480-402d-a8df-76594b39497b\" xlink:type=\"simple\"><rect fill=\"#FFFFFF\" height=\"45.9375\" id=\"E6\" rx=\"10\" ry=\"10\" style=\"stroke: #383838; stroke-width: 1.5;\" width=\"42\" x=\"60.5\" y=\"284\"/><text fill=\"#000000\" font-family=\"sans-serif\" font-size=\"12\" font-style=\"italic\" lengthAdjust=\"spacingAndGlyphs\" textLength=\"40\" x=\"61.5\" y=\"300.1387\">«part»</text><text fill=\"#000000\" font-family=\"sans-serif\" font-size=\"12\" lengthAdjust=\"spacingAndGlyphs\" textLength=\"23\" x=\"68\" y=\"314.1074\">c: P</text><line style=\"stroke: #383838; stroke-width: 1.5;\" x1=\"61.5\" x2=\"101.5\" y1=\"321.9375\" y2=\"321.9375\"/></a><!--MD5=[2156ba9850f5573cc1fc38a6a4b2f02b]\n",
       "class E7--><a href=\"psysml:f3d0dfc0-0dbb-4454-830c-43cee9c0f8af\" target=\"_top\" title=\"psysml:f3d0dfc0-0dbb-4454-830c-43cee9c0f8af\" xlink:actuate=\"onRequest\" xlink:href=\"psysml:f3d0dfc0-0dbb-4454-830c-43cee9c0f8af\" xlink:show=\"new\" xlink:title=\"psysml:f3d0dfc0-0dbb-4454-830c-43cee9c0f8af\" xlink:type=\"simple\"><rect fill=\"#FFFFFF\" height=\"45.9375\" id=\"E7\" rx=\"10\" ry=\"10\" style=\"stroke: #383838; stroke-width: 1.5;\" width=\"42\" x=\"60.5\" y=\"365\"/><text fill=\"#000000\" font-family=\"sans-serif\" font-size=\"12\" font-style=\"italic\" lengthAdjust=\"spacingAndGlyphs\" textLength=\"40\" x=\"61.5\" y=\"381.1387\">«part»</text><text fill=\"#000000\" font-family=\"sans-serif\" font-size=\"12\" lengthAdjust=\"spacingAndGlyphs\" textLength=\"8\" x=\"75.5\" y=\"395.1074\">d</text><line style=\"stroke: #383838; stroke-width: 1.5;\" x1=\"61.5\" x2=\"101.5\" y1=\"402.9375\" y2=\"402.9375\"/></a><!--MD5=[b9389687b975829384b498ac4b7476b2]\n",
       "class E8--><a href=\"psysml:470ebeae-9c21-45dc-92b7-3ec0bcac92c0\" target=\"_top\" title=\"psysml:470ebeae-9c21-45dc-92b7-3ec0bcac92c0\" xlink:actuate=\"onRequest\" xlink:href=\"psysml:470ebeae-9c21-45dc-92b7-3ec0bcac92c0\" xlink:show=\"new\" xlink:title=\"psysml:470ebeae-9c21-45dc-92b7-3ec0bcac92c0\" xlink:type=\"simple\"><rect fill=\"#FFFFFF\" height=\"45.9375\" id=\"E8\" rx=\"10\" ry=\"10\" style=\"stroke: #383838; stroke-width: 1.5;\" width=\"42\" x=\"60.5\" y=\"446\"/><text fill=\"#000000\" font-family=\"sans-serif\" font-size=\"12\" font-style=\"italic\" lengthAdjust=\"spacingAndGlyphs\" textLength=\"40\" x=\"61.5\" y=\"462.1387\">«part»</text><text fill=\"#000000\" font-family=\"sans-serif\" font-size=\"12\" lengthAdjust=\"spacingAndGlyphs\" textLength=\"8\" x=\"75.5\" y=\"476.1074\">e</text><line style=\"stroke: #383838; stroke-width: 1.5;\" x1=\"61.5\" x2=\"101.5\" y1=\"483.9375\" y2=\"483.9375\"/></a><!--MD5=[fd4143e9d270a159db93a4ea2a975926]\n",
       "class E9--><a href=\"psysml:e3b105f8-a02a-4959-8fa9-8da786795f1e\" target=\"_top\" title=\"psysml:e3b105f8-a02a-4959-8fa9-8da786795f1e\" xlink:actuate=\"onRequest\" xlink:href=\"psysml:e3b105f8-a02a-4959-8fa9-8da786795f1e\" xlink:show=\"new\" xlink:title=\"psysml:e3b105f8-a02a-4959-8fa9-8da786795f1e\" xlink:type=\"simple\"><rect fill=\"#FFFFFF\" height=\"45.9375\" id=\"E9\" rx=\"10\" ry=\"10\" style=\"stroke: #383838; stroke-width: 1.5;\" width=\"42\" x=\"60.5\" y=\"527\"/><text fill=\"#000000\" font-family=\"sans-serif\" font-size=\"12\" font-style=\"italic\" lengthAdjust=\"spacingAndGlyphs\" textLength=\"40\" x=\"61.5\" y=\"543.1387\">«part»</text><text fill=\"#000000\" font-family=\"sans-serif\" font-size=\"12\" lengthAdjust=\"spacingAndGlyphs\" textLength=\"4\" x=\"77.5\" y=\"557.1074\">f</text><line style=\"stroke: #383838; stroke-width: 1.5;\" x1=\"61.5\" x2=\"101.5\" y1=\"564.9375\" y2=\"564.9375\"/></a><!--MD5=[96f4274e9e20536e775497830990834d]\n",
       "class E10--><a href=\"psysml:0b08e64f-1d74-4a65-b189-b5a78b2f5a03\" target=\"_top\" title=\"psysml:0b08e64f-1d74-4a65-b189-b5a78b2f5a03\" xlink:actuate=\"onRequest\" xlink:href=\"psysml:0b08e64f-1d74-4a65-b189-b5a78b2f5a03\" xlink:show=\"new\" xlink:title=\"psysml:0b08e64f-1d74-4a65-b189-b5a78b2f5a03\" xlink:type=\"simple\"><rect fill=\"#FFFFFF\" height=\"45.9375\" id=\"E10\" rx=\"10\" ry=\"10\" style=\"stroke: #383838; stroke-width: 1.5;\" width=\"42\" x=\"60.5\" y=\"608\"/><text fill=\"#000000\" font-family=\"sans-serif\" font-size=\"12\" font-style=\"italic\" lengthAdjust=\"spacingAndGlyphs\" textLength=\"40\" x=\"61.5\" y=\"624.1387\">«part»</text><text fill=\"#000000\" font-family=\"sans-serif\" font-size=\"12\" lengthAdjust=\"spacingAndGlyphs\" textLength=\"8\" x=\"75.5\" y=\"638.1074\">g</text><line style=\"stroke: #383838; stroke-width: 1.5;\" x1=\"61.5\" x2=\"101.5\" y1=\"645.9375\" y2=\"645.9375\"/></a><!--MD5=[1dd1bfd58a279cf63c5f349dbc8fc6a1]\n",
       "class E11--><a href=\"psysml:d2ba3396-0b46-40b3-bbf4-49972d7872ff\" target=\"_top\" title=\"psysml:d2ba3396-0b46-40b3-bbf4-49972d7872ff\" xlink:actuate=\"onRequest\" xlink:href=\"psysml:d2ba3396-0b46-40b3-bbf4-49972d7872ff\" xlink:show=\"new\" xlink:title=\"psysml:d2ba3396-0b46-40b3-bbf4-49972d7872ff\" xlink:type=\"simple\"><rect fill=\"#FFFFFF\" height=\"88.3516\" id=\"E11\" style=\"stroke: #383838; stroke-width: 1.5;\" width=\"99\" x=\"32\" y=\"689\"/><text fill=\"#000000\" font-family=\"sans-serif\" font-size=\"12\" font-style=\"italic\" lengthAdjust=\"spacingAndGlyphs\" textLength=\"97\" x=\"33\" y=\"705.1387\">«attribute  def»</text><text fill=\"#000000\" font-family=\"sans-serif\" font-size=\"12\" lengthAdjust=\"spacingAndGlyphs\" textLength=\"8\" x=\"77.5\" y=\"719.1074\">A</text><line style=\"stroke: #383838; stroke-width: 1.5;\" x1=\"33\" x2=\"130\" y1=\"726.9375\" y2=\"726.9375\"/><text fill=\"#000000\" font-family=\"sans-serif\" font-size=\"11\" lengthAdjust=\"spacingAndGlyphs\" textLength=\"51\" x=\"38\" y=\"757.9526\">i: Integer</text><text fill=\"#000000\" font-family=\"sans-serif\" font-size=\"11\" lengthAdjust=\"spacingAndGlyphs\" textLength=\"21\" x=\"38\" y=\"770.7573\">x: A</text><line style=\"stroke: #383838; stroke-width: 1.0;\" x1=\"33\" x2=\"54\" y1=\"741.3398\" y2=\"741.3398\"/><text fill=\"#000000\" font-family=\"sans-serif\" font-size=\"11\" lengthAdjust=\"spacingAndGlyphs\" textLength=\"55\" x=\"54\" y=\"744.6479\">attributes</text><line style=\"stroke: #383838; stroke-width: 1.0;\" x1=\"109\" x2=\"130\" y1=\"741.3398\" y2=\"741.3398\"/></a><!--MD5=[15ebcb19ae302d9b601edb458606d402]\n",
       "link E5 to E2--><a href=\"psysml:b362769d-1260-4065-9b83-621f0da47e8d\" target=\"_top\" title=\"psysml:b362769d-1260-4065-9b83-621f0da47e8d\" xlink:actuate=\"onRequest\" xlink:href=\"psysml:b362769d-1260-4065-9b83-621f0da47e8d\" xlink:show=\"new\" xlink:title=\"psysml:b362769d-1260-4065-9b83-621f0da47e8d\" xlink:type=\"simple\"><path d=\"M102.61,231.79 C120.54,236.94 147.58,244.72 171.69,251.66 \" fill=\"none\" id=\"E5-&gt;E2\" style=\"stroke: #383838; stroke-width: 1.0;\"/><polygon fill=\"#FFFFFF\" points=\"190.99,257.21,170.7942,258.6694,174.6746,245.218,190.99,257.21\" style=\"stroke: #383838; stroke-width: 1.0;\"/><ellipse cx=\"165.8719\" cy=\"255.1679\" fill=\"#383838\" rx=\"2\" ry=\"2\" style=\"stroke: #383838; stroke-width: 1.0;\"/><ellipse cx=\"168.6436\" cy=\"245.5597\" fill=\"#383838\" rx=\"2\" ry=\"2\" style=\"stroke: #383838; stroke-width: 1.0;\"/></a><!--MD5=[2351f337d6de0f557b50152ba70847b5]\n",
       "link E6 to E2--><a href=\"psysml:03080077-3284-4bc2-8ec3-31a93274162e\" target=\"_top\" title=\"psysml:03080077-3284-4bc2-8ec3-31a93274162e\" xlink:actuate=\"onRequest\" xlink:href=\"psysml:03080077-3284-4bc2-8ec3-31a93274162e\" xlink:show=\"new\" xlink:title=\"psysml:03080077-3284-4bc2-8ec3-31a93274162e\" xlink:type=\"simple\"><path d=\"M102.61,301.35 C120.54,296.32 147.58,288.73 171.69,281.96 \" fill=\"none\" id=\"E6-&gt;E2\" style=\"stroke: #383838; stroke-width: 1.0;\"/><polygon fill=\"#FFFFFF\" points=\"190.99,276.55,174.5938,288.4313,170.8046,274.9539,190.99,276.55\" style=\"stroke: #383838; stroke-width: 1.0;\"/><ellipse cx=\"168.5653\" cy=\"288.0487\" fill=\"#383838\" rx=\"2\" ry=\"2\" style=\"stroke: #383838; stroke-width: 1.0;\"/><ellipse cx=\"165.8586\" cy=\"278.422\" fill=\"#383838\" rx=\"2\" ry=\"2\" style=\"stroke: #383838; stroke-width: 1.0;\"/></a><!--MD5=[8c3a004a0d2d5b3adeb261135100c49d]\n",
       "@startuml\r\n",
       "left to right direction\r\n",
       "skinparam monochrome true\r\n",
       "skinparam classbackgroundcolor white\r\n",
       "skinparam shadowing false\r\n",
       "skinparam wrapWidth 300\r\n",
       "hide circle\r\n",
       "\r\n",
       "package \"MultiplicityTest\" as E1  [[psysml:e445ccd1-d7b4-46a5-bbe0-1ba908b830dd ]]  {\r\n",
       "comp def \"P\" as E2  <<(T,blue) part  def>> [[psysml:7d5bba99-ceb9-4796-b455-cbfdc331a9aa ]] {\r\n",
       "}\r\n",
       "comp usage \"n: Integer \" as E3  <<(T,blue) attribute>> [[psysml:ec541e3b-6371-48bf-8290-c0b2a0f88f52 ]] {\r\n",
       "}\r\n",
       "comp usage \"a \" as E4  <<(T,blue) part>> [[psysml:0bccd947-b2f6-485e-9c27-5cc482a56716 ]] {\r\n",
       "}\r\n",
       "comp usage \"b: P \" as E5  <<(T,blue) part>> [[psysml:3563b5dd-e50a-438e-94ba-a5b38ab6df54 ]] {\r\n",
       "}\r\n",
       "comp usage \"c: P \" as E6  <<(T,blue) part>> [[psysml:61a7c4a1-1480-402d-a8df-76594b39497b ]] {\r\n",
       "}\r\n",
       "comp usage \"d \" as E7  <<(T,blue) part>> [[psysml:f3d0dfc0-0dbb-4454-830c-43cee9c0f8af ]] {\r\n",
       "}\r\n",
       "comp usage \"e \" as E8  <<(T,blue) part>> [[psysml:470ebeae-9c21-45dc-92b7-3ec0bcac92c0 ]] {\r\n",
       "}\r\n",
       "comp usage \"f \" as E9  <<(T,blue) part>> [[psysml:e3b105f8-a02a-4959-8fa9-8da786795f1e ]] {\r\n",
       "}\r\n",
       "comp usage \"g \" as E10  <<(T,blue) part>> [[psysml:0b08e64f-1d74-4a65-b189-b5a78b2f5a03 ]] {\r\n",
       "}\r\n",
       "comp def \"A\" as E11  <<(T,blue) attribute  def>> [[psysml:d2ba3396-0b46-40b3-bbf4-49972d7872ff ]] {\r\n",
       "- - attributes - -\r\n",
       "i: Integer\r\n",
       "x: A\r\n",
       "}\r\n",
       "}\r\n",
       "E5 - -:|> E2 [[psysml:b362769d-1260-4065-9b83-621f0da47e8d ]] \r\n",
       "E6 - -:|> E2 [[psysml:03080077-3284-4bc2-8ec3-31a93274162e ]] \r\n",
       "@enduml\r\n",
       "\n",
       "PlantUML version 1.2020.13(Sat Jun 13 12:26:38 UTC 2020)\n",
       "(EPL source distribution)\n",
       "Java Runtime: OpenJDK Runtime Environment\n",
       "JVM: OpenJDK 64-Bit Server VM\n",
       "Default Encoding: UTF-8\n",
       "Language: en\n",
       "Country: null\n",
       "--></g></svg>"
      ]
     },
     "execution_count": 16,
     "metadata": {},
     "output_type": "execute_result"
    }
   ],
   "source": [
    "%viz --style=\"LR\" --view=\"Default\" \"MultiplicityTest\""
   ]
  },
  {
   "cell_type": "code",
   "execution_count": 17,
   "id": "5cf77f91",
   "metadata": {
    "execution": {
     "iopub.execute_input": "2022-02-05T16:56:09.332148Z",
     "iopub.status.busy": "2022-02-05T16:56:09.331737Z",
     "iopub.status.idle": "2022-02-05T16:56:09.395968Z",
     "shell.execute_reply": "2022-02-05T16:56:09.395629Z"
    }
   },
   "outputs": [
    {
     "data": {
      "image/svg+xml": [
       "<?xml version=\"1.0\" encoding=\"UTF-8\" standalone=\"no\"?><svg xmlns=\"http://www.w3.org/2000/svg\" xmlns:xlink=\"http://www.w3.org/1999/xlink\" contentScriptType=\"application/ecmascript\" contentStyleType=\"text/css\" height=\"805px\" preserveAspectRatio=\"none\" style=\"width:299px;height:805px;\" version=\"1.1\" viewBox=\"0 0 299 805\" width=\"299px\" zoomAndPan=\"magnify\"><defs/><g><!--MD5=[fbc87193dbaf4d95561dea2c320d4a47]\n",
       "cluster E1--><a href=\"psysml:e445ccd1-d7b4-46a5-bbe0-1ba908b830dd\" target=\"_top\" title=\"psysml:e445ccd1-d7b4-46a5-bbe0-1ba908b830dd\" xlink:actuate=\"onRequest\" xlink:href=\"psysml:e445ccd1-d7b4-46a5-bbe0-1ba908b830dd\" xlink:show=\"new\" xlink:title=\"psysml:e445ccd1-d7b4-46a5-bbe0-1ba908b830dd\" xlink:type=\"simple\"><polygon fill=\"#FFFFFF\" points=\"16,6,123,6,130,28.2969,277,28.2969,277,793,16,793,16,6\" style=\"stroke: #000000; stroke-width: 1.5;\"/><line style=\"stroke: #000000; stroke-width: 1.5;\" x1=\"16\" x2=\"130\" y1=\"28.2969\" y2=\"28.2969\"/><text fill=\"#000000\" font-family=\"sans-serif\" font-size=\"14\" font-weight=\"bold\" lengthAdjust=\"spacingAndGlyphs\" textLength=\"101\" x=\"20\" y=\"20.9951\">MultiplicityTest</text></a><!--MD5=[b4997ac47864f28c2f74865a473b2911]\n",
       "class E2--><a href=\"psysml:7d5bba99-ceb9-4796-b455-cbfdc331a9aa\" target=\"_top\" title=\"psysml:7d5bba99-ceb9-4796-b455-cbfdc331a9aa\" xlink:actuate=\"onRequest\" xlink:href=\"psysml:7d5bba99-ceb9-4796-b455-cbfdc331a9aa\" xlink:show=\"new\" xlink:title=\"psysml:7d5bba99-ceb9-4796-b455-cbfdc331a9aa\" xlink:type=\"simple\"><rect fill=\"#FFFFFF\" height=\"45.9375\" id=\"E2\" style=\"stroke: #383838; stroke-width: 1.5;\" width=\"70\" x=\"191\" y=\"244\"/><text fill=\"#000000\" font-family=\"sans-serif\" font-size=\"12\" font-style=\"italic\" lengthAdjust=\"spacingAndGlyphs\" textLength=\"68\" x=\"192\" y=\"260.1387\">«part  def»</text><text fill=\"#000000\" font-family=\"sans-serif\" font-size=\"12\" lengthAdjust=\"spacingAndGlyphs\" textLength=\"8\" x=\"222\" y=\"274.1074\">P</text><line style=\"stroke: #383838; stroke-width: 1.5;\" x1=\"192\" x2=\"260\" y1=\"281.9375\" y2=\"281.9375\"/></a><!--MD5=[09b614a08d8cba4a07c9adeb5e0fee81]\n",
       "class E3--><a href=\"psysml:ec541e3b-6371-48bf-8290-c0b2a0f88f52\" target=\"_top\" title=\"psysml:ec541e3b-6371-48bf-8290-c0b2a0f88f52\" xlink:actuate=\"onRequest\" xlink:href=\"psysml:ec541e3b-6371-48bf-8290-c0b2a0f88f52\" xlink:show=\"new\" xlink:title=\"psysml:ec541e3b-6371-48bf-8290-c0b2a0f88f52\" xlink:type=\"simple\"><rect fill=\"#FFFFFF\" height=\"45.9375\" id=\"E3\" rx=\"10\" ry=\"10\" style=\"stroke: #383838; stroke-width: 1.5;\" width=\"71\" x=\"46\" y=\"41\"/><text fill=\"#000000\" font-family=\"sans-serif\" font-size=\"12\" font-style=\"italic\" lengthAdjust=\"spacingAndGlyphs\" textLength=\"69\" x=\"47\" y=\"57.1387\">«attribute»</text><text fill=\"#000000\" font-family=\"sans-serif\" font-size=\"12\" lengthAdjust=\"spacingAndGlyphs\" textLength=\"61\" x=\"49\" y=\"71.1074\">n: Integer</text><line style=\"stroke: #383838; stroke-width: 1.5;\" x1=\"47\" x2=\"116\" y1=\"78.9375\" y2=\"78.9375\"/></a><!--MD5=[ebbe1d658d1005bcc118a6aa81145e00]\n",
       "class E4--><a href=\"psysml:0bccd947-b2f6-485e-9c27-5cc482a56716\" target=\"_top\" title=\"psysml:0bccd947-b2f6-485e-9c27-5cc482a56716\" xlink:actuate=\"onRequest\" xlink:href=\"psysml:0bccd947-b2f6-485e-9c27-5cc482a56716\" xlink:show=\"new\" xlink:title=\"psysml:0bccd947-b2f6-485e-9c27-5cc482a56716\" xlink:type=\"simple\"><rect fill=\"#FFFFFF\" height=\"45.9375\" id=\"E4\" rx=\"10\" ry=\"10\" style=\"stroke: #383838; stroke-width: 1.5;\" width=\"42\" x=\"60.5\" y=\"122\"/><text fill=\"#000000\" font-family=\"sans-serif\" font-size=\"12\" font-style=\"italic\" lengthAdjust=\"spacingAndGlyphs\" textLength=\"40\" x=\"61.5\" y=\"138.1387\">«part»</text><text fill=\"#000000\" font-family=\"sans-serif\" font-size=\"12\" lengthAdjust=\"spacingAndGlyphs\" textLength=\"8\" x=\"75.5\" y=\"152.1074\">a</text><line style=\"stroke: #383838; stroke-width: 1.5;\" x1=\"61.5\" x2=\"101.5\" y1=\"159.9375\" y2=\"159.9375\"/></a><!--MD5=[270fce915f116d4de14055a7c1d9a0f3]\n",
       "class E5--><a href=\"psysml:3563b5dd-e50a-438e-94ba-a5b38ab6df54\" target=\"_top\" title=\"psysml:3563b5dd-e50a-438e-94ba-a5b38ab6df54\" xlink:actuate=\"onRequest\" xlink:href=\"psysml:3563b5dd-e50a-438e-94ba-a5b38ab6df54\" xlink:show=\"new\" xlink:title=\"psysml:3563b5dd-e50a-438e-94ba-a5b38ab6df54\" xlink:type=\"simple\"><rect fill=\"#FFFFFF\" height=\"45.9375\" id=\"E5\" rx=\"10\" ry=\"10\" style=\"stroke: #383838; stroke-width: 1.5;\" width=\"42\" x=\"60.5\" y=\"203\"/><text fill=\"#000000\" font-family=\"sans-serif\" font-size=\"12\" font-style=\"italic\" lengthAdjust=\"spacingAndGlyphs\" textLength=\"40\" x=\"61.5\" y=\"219.1387\">«part»</text><text fill=\"#000000\" font-family=\"sans-serif\" font-size=\"12\" lengthAdjust=\"spacingAndGlyphs\" textLength=\"24\" x=\"67.5\" y=\"233.1074\">b: P</text><line style=\"stroke: #383838; stroke-width: 1.5;\" x1=\"61.5\" x2=\"101.5\" y1=\"240.9375\" y2=\"240.9375\"/></a><!--MD5=[60a26617385b1d2d0262a64233df1f8d]\n",
       "class E6--><a href=\"psysml:61a7c4a1-1480-402d-a8df-76594b39497b\" target=\"_top\" title=\"psysml:61a7c4a1-1480-402d-a8df-76594b39497b\" xlink:actuate=\"onRequest\" xlink:href=\"psysml:61a7c4a1-1480-402d-a8df-76594b39497b\" xlink:show=\"new\" xlink:title=\"psysml:61a7c4a1-1480-402d-a8df-76594b39497b\" xlink:type=\"simple\"><rect fill=\"#FFFFFF\" height=\"45.9375\" id=\"E6\" rx=\"10\" ry=\"10\" style=\"stroke: #383838; stroke-width: 1.5;\" width=\"42\" x=\"60.5\" y=\"284\"/><text fill=\"#000000\" font-family=\"sans-serif\" font-size=\"12\" font-style=\"italic\" lengthAdjust=\"spacingAndGlyphs\" textLength=\"40\" x=\"61.5\" y=\"300.1387\">«part»</text><text fill=\"#000000\" font-family=\"sans-serif\" font-size=\"12\" lengthAdjust=\"spacingAndGlyphs\" textLength=\"23\" x=\"68\" y=\"314.1074\">c: P</text><line style=\"stroke: #383838; stroke-width: 1.5;\" x1=\"61.5\" x2=\"101.5\" y1=\"321.9375\" y2=\"321.9375\"/></a><!--MD5=[2156ba9850f5573cc1fc38a6a4b2f02b]\n",
       "class E7--><a href=\"psysml:f3d0dfc0-0dbb-4454-830c-43cee9c0f8af\" target=\"_top\" title=\"psysml:f3d0dfc0-0dbb-4454-830c-43cee9c0f8af\" xlink:actuate=\"onRequest\" xlink:href=\"psysml:f3d0dfc0-0dbb-4454-830c-43cee9c0f8af\" xlink:show=\"new\" xlink:title=\"psysml:f3d0dfc0-0dbb-4454-830c-43cee9c0f8af\" xlink:type=\"simple\"><rect fill=\"#FFFFFF\" height=\"45.9375\" id=\"E7\" rx=\"10\" ry=\"10\" style=\"stroke: #383838; stroke-width: 1.5;\" width=\"42\" x=\"60.5\" y=\"365\"/><text fill=\"#000000\" font-family=\"sans-serif\" font-size=\"12\" font-style=\"italic\" lengthAdjust=\"spacingAndGlyphs\" textLength=\"40\" x=\"61.5\" y=\"381.1387\">«part»</text><text fill=\"#000000\" font-family=\"sans-serif\" font-size=\"12\" lengthAdjust=\"spacingAndGlyphs\" textLength=\"8\" x=\"75.5\" y=\"395.1074\">d</text><line style=\"stroke: #383838; stroke-width: 1.5;\" x1=\"61.5\" x2=\"101.5\" y1=\"402.9375\" y2=\"402.9375\"/></a><!--MD5=[b9389687b975829384b498ac4b7476b2]\n",
       "class E8--><a href=\"psysml:470ebeae-9c21-45dc-92b7-3ec0bcac92c0\" target=\"_top\" title=\"psysml:470ebeae-9c21-45dc-92b7-3ec0bcac92c0\" xlink:actuate=\"onRequest\" xlink:href=\"psysml:470ebeae-9c21-45dc-92b7-3ec0bcac92c0\" xlink:show=\"new\" xlink:title=\"psysml:470ebeae-9c21-45dc-92b7-3ec0bcac92c0\" xlink:type=\"simple\"><rect fill=\"#FFFFFF\" height=\"45.9375\" id=\"E8\" rx=\"10\" ry=\"10\" style=\"stroke: #383838; stroke-width: 1.5;\" width=\"42\" x=\"60.5\" y=\"446\"/><text fill=\"#000000\" font-family=\"sans-serif\" font-size=\"12\" font-style=\"italic\" lengthAdjust=\"spacingAndGlyphs\" textLength=\"40\" x=\"61.5\" y=\"462.1387\">«part»</text><text fill=\"#000000\" font-family=\"sans-serif\" font-size=\"12\" lengthAdjust=\"spacingAndGlyphs\" textLength=\"8\" x=\"75.5\" y=\"476.1074\">e</text><line style=\"stroke: #383838; stroke-width: 1.5;\" x1=\"61.5\" x2=\"101.5\" y1=\"483.9375\" y2=\"483.9375\"/></a><!--MD5=[fd4143e9d270a159db93a4ea2a975926]\n",
       "class E9--><a href=\"psysml:e3b105f8-a02a-4959-8fa9-8da786795f1e\" target=\"_top\" title=\"psysml:e3b105f8-a02a-4959-8fa9-8da786795f1e\" xlink:actuate=\"onRequest\" xlink:href=\"psysml:e3b105f8-a02a-4959-8fa9-8da786795f1e\" xlink:show=\"new\" xlink:title=\"psysml:e3b105f8-a02a-4959-8fa9-8da786795f1e\" xlink:type=\"simple\"><rect fill=\"#FFFFFF\" height=\"45.9375\" id=\"E9\" rx=\"10\" ry=\"10\" style=\"stroke: #383838; stroke-width: 1.5;\" width=\"42\" x=\"60.5\" y=\"527\"/><text fill=\"#000000\" font-family=\"sans-serif\" font-size=\"12\" font-style=\"italic\" lengthAdjust=\"spacingAndGlyphs\" textLength=\"40\" x=\"61.5\" y=\"543.1387\">«part»</text><text fill=\"#000000\" font-family=\"sans-serif\" font-size=\"12\" lengthAdjust=\"spacingAndGlyphs\" textLength=\"4\" x=\"77.5\" y=\"557.1074\">f</text><line style=\"stroke: #383838; stroke-width: 1.5;\" x1=\"61.5\" x2=\"101.5\" y1=\"564.9375\" y2=\"564.9375\"/></a><!--MD5=[96f4274e9e20536e775497830990834d]\n",
       "class E10--><a href=\"psysml:0b08e64f-1d74-4a65-b189-b5a78b2f5a03\" target=\"_top\" title=\"psysml:0b08e64f-1d74-4a65-b189-b5a78b2f5a03\" xlink:actuate=\"onRequest\" xlink:href=\"psysml:0b08e64f-1d74-4a65-b189-b5a78b2f5a03\" xlink:show=\"new\" xlink:title=\"psysml:0b08e64f-1d74-4a65-b189-b5a78b2f5a03\" xlink:type=\"simple\"><rect fill=\"#FFFFFF\" height=\"45.9375\" id=\"E10\" rx=\"10\" ry=\"10\" style=\"stroke: #383838; stroke-width: 1.5;\" width=\"42\" x=\"60.5\" y=\"608\"/><text fill=\"#000000\" font-family=\"sans-serif\" font-size=\"12\" font-style=\"italic\" lengthAdjust=\"spacingAndGlyphs\" textLength=\"40\" x=\"61.5\" y=\"624.1387\">«part»</text><text fill=\"#000000\" font-family=\"sans-serif\" font-size=\"12\" lengthAdjust=\"spacingAndGlyphs\" textLength=\"8\" x=\"75.5\" y=\"638.1074\">g</text><line style=\"stroke: #383838; stroke-width: 1.5;\" x1=\"61.5\" x2=\"101.5\" y1=\"645.9375\" y2=\"645.9375\"/></a><!--MD5=[1dd1bfd58a279cf63c5f349dbc8fc6a1]\n",
       "class E11--><a href=\"psysml:d2ba3396-0b46-40b3-bbf4-49972d7872ff\" target=\"_top\" title=\"psysml:d2ba3396-0b46-40b3-bbf4-49972d7872ff\" xlink:actuate=\"onRequest\" xlink:href=\"psysml:d2ba3396-0b46-40b3-bbf4-49972d7872ff\" xlink:show=\"new\" xlink:title=\"psysml:d2ba3396-0b46-40b3-bbf4-49972d7872ff\" xlink:type=\"simple\"><rect fill=\"#FFFFFF\" height=\"88.3516\" id=\"E11\" style=\"stroke: #383838; stroke-width: 1.5;\" width=\"99\" x=\"32\" y=\"689\"/><text fill=\"#000000\" font-family=\"sans-serif\" font-size=\"12\" font-style=\"italic\" lengthAdjust=\"spacingAndGlyphs\" textLength=\"97\" x=\"33\" y=\"705.1387\">«attribute  def»</text><text fill=\"#000000\" font-family=\"sans-serif\" font-size=\"12\" lengthAdjust=\"spacingAndGlyphs\" textLength=\"8\" x=\"77.5\" y=\"719.1074\">A</text><line style=\"stroke: #383838; stroke-width: 1.5;\" x1=\"33\" x2=\"130\" y1=\"726.9375\" y2=\"726.9375\"/><text fill=\"#000000\" font-family=\"sans-serif\" font-size=\"11\" lengthAdjust=\"spacingAndGlyphs\" textLength=\"51\" x=\"38\" y=\"757.9526\">i: Integer</text><text fill=\"#000000\" font-family=\"sans-serif\" font-size=\"11\" lengthAdjust=\"spacingAndGlyphs\" textLength=\"21\" x=\"38\" y=\"770.7573\">x: A</text><line style=\"stroke: #383838; stroke-width: 1.0;\" x1=\"33\" x2=\"54\" y1=\"741.3398\" y2=\"741.3398\"/><text fill=\"#000000\" font-family=\"sans-serif\" font-size=\"11\" lengthAdjust=\"spacingAndGlyphs\" textLength=\"55\" x=\"54\" y=\"744.6479\">attributes</text><line style=\"stroke: #383838; stroke-width: 1.0;\" x1=\"109\" x2=\"130\" y1=\"741.3398\" y2=\"741.3398\"/></a><!--MD5=[15ebcb19ae302d9b601edb458606d402]\n",
       "link E5 to E2--><a href=\"psysml:b362769d-1260-4065-9b83-621f0da47e8d\" target=\"_top\" title=\"psysml:b362769d-1260-4065-9b83-621f0da47e8d\" xlink:actuate=\"onRequest\" xlink:href=\"psysml:b362769d-1260-4065-9b83-621f0da47e8d\" xlink:show=\"new\" xlink:title=\"psysml:b362769d-1260-4065-9b83-621f0da47e8d\" xlink:type=\"simple\"><path d=\"M102.61,231.79 C120.54,236.94 147.58,244.72 171.69,251.66 \" fill=\"none\" id=\"E5-&gt;E2\" style=\"stroke: #383838; stroke-width: 1.0;\"/><polygon fill=\"#FFFFFF\" points=\"190.99,257.21,170.7942,258.6694,174.6746,245.218,190.99,257.21\" style=\"stroke: #383838; stroke-width: 1.0;\"/><ellipse cx=\"165.8719\" cy=\"255.1679\" fill=\"#383838\" rx=\"2\" ry=\"2\" style=\"stroke: #383838; stroke-width: 1.0;\"/><ellipse cx=\"168.6436\" cy=\"245.5597\" fill=\"#383838\" rx=\"2\" ry=\"2\" style=\"stroke: #383838; stroke-width: 1.0;\"/></a><!--MD5=[2351f337d6de0f557b50152ba70847b5]\n",
       "link E6 to E2--><a href=\"psysml:03080077-3284-4bc2-8ec3-31a93274162e\" target=\"_top\" title=\"psysml:03080077-3284-4bc2-8ec3-31a93274162e\" xlink:actuate=\"onRequest\" xlink:href=\"psysml:03080077-3284-4bc2-8ec3-31a93274162e\" xlink:show=\"new\" xlink:title=\"psysml:03080077-3284-4bc2-8ec3-31a93274162e\" xlink:type=\"simple\"><path d=\"M102.61,301.35 C120.54,296.32 147.58,288.73 171.69,281.96 \" fill=\"none\" id=\"E6-&gt;E2\" style=\"stroke: #383838; stroke-width: 1.0;\"/><polygon fill=\"#FFFFFF\" points=\"190.99,276.55,174.5938,288.4313,170.8046,274.9539,190.99,276.55\" style=\"stroke: #383838; stroke-width: 1.0;\"/><ellipse cx=\"168.5653\" cy=\"288.0487\" fill=\"#383838\" rx=\"2\" ry=\"2\" style=\"stroke: #383838; stroke-width: 1.0;\"/><ellipse cx=\"165.8586\" cy=\"278.422\" fill=\"#383838\" rx=\"2\" ry=\"2\" style=\"stroke: #383838; stroke-width: 1.0;\"/></a><!--MD5=[8c3a004a0d2d5b3adeb261135100c49d]\n",
       "@startuml\r\n",
       "left to right direction\r\n",
       "skinparam monochrome true\r\n",
       "skinparam classbackgroundcolor white\r\n",
       "skinparam shadowing false\r\n",
       "skinparam wrapWidth 300\r\n",
       "hide circle\r\n",
       "\r\n",
       "package \"MultiplicityTest\" as E1  [[psysml:e445ccd1-d7b4-46a5-bbe0-1ba908b830dd ]]  {\r\n",
       "comp def \"P\" as E2  <<(T,blue) part  def>> [[psysml:7d5bba99-ceb9-4796-b455-cbfdc331a9aa ]] {\r\n",
       "}\r\n",
       "comp usage \"n: Integer \" as E3  <<(T,blue) attribute>> [[psysml:ec541e3b-6371-48bf-8290-c0b2a0f88f52 ]] {\r\n",
       "}\r\n",
       "comp usage \"a \" as E4  <<(T,blue) part>> [[psysml:0bccd947-b2f6-485e-9c27-5cc482a56716 ]] {\r\n",
       "}\r\n",
       "comp usage \"b: P \" as E5  <<(T,blue) part>> [[psysml:3563b5dd-e50a-438e-94ba-a5b38ab6df54 ]] {\r\n",
       "}\r\n",
       "comp usage \"c: P \" as E6  <<(T,blue) part>> [[psysml:61a7c4a1-1480-402d-a8df-76594b39497b ]] {\r\n",
       "}\r\n",
       "comp usage \"d \" as E7  <<(T,blue) part>> [[psysml:f3d0dfc0-0dbb-4454-830c-43cee9c0f8af ]] {\r\n",
       "}\r\n",
       "comp usage \"e \" as E8  <<(T,blue) part>> [[psysml:470ebeae-9c21-45dc-92b7-3ec0bcac92c0 ]] {\r\n",
       "}\r\n",
       "comp usage \"f \" as E9  <<(T,blue) part>> [[psysml:e3b105f8-a02a-4959-8fa9-8da786795f1e ]] {\r\n",
       "}\r\n",
       "comp usage \"g \" as E10  <<(T,blue) part>> [[psysml:0b08e64f-1d74-4a65-b189-b5a78b2f5a03 ]] {\r\n",
       "}\r\n",
       "comp def \"A\" as E11  <<(T,blue) attribute  def>> [[psysml:d2ba3396-0b46-40b3-bbf4-49972d7872ff ]] {\r\n",
       "- - attributes - -\r\n",
       "i: Integer\r\n",
       "x: A\r\n",
       "}\r\n",
       "}\r\n",
       "E5 - -:|> E2 [[psysml:b362769d-1260-4065-9b83-621f0da47e8d ]] \r\n",
       "E6 - -:|> E2 [[psysml:03080077-3284-4bc2-8ec3-31a93274162e ]] \r\n",
       "@enduml\r\n",
       "\n",
       "PlantUML version 1.2020.13(Sat Jun 13 12:26:38 UTC 2020)\n",
       "(EPL source distribution)\n",
       "Java Runtime: OpenJDK Runtime Environment\n",
       "JVM: OpenJDK 64-Bit Server VM\n",
       "Default Encoding: UTF-8\n",
       "Language: en\n",
       "Country: null\n",
       "--></g></svg>"
      ]
     },
     "execution_count": 17,
     "metadata": {},
     "output_type": "execute_result"
    }
   ],
   "source": [
    "%viz --style=\"LR\" --view=\"Tree\" \"MultiplicityTest\""
   ]
  },
  {
   "cell_type": "code",
   "execution_count": 18,
   "id": "3d6d981c",
   "metadata": {
    "execution": {
     "iopub.execute_input": "2022-02-05T16:56:09.445491Z",
     "iopub.status.busy": "2022-02-05T16:56:09.445082Z",
     "iopub.status.idle": "2022-02-05T16:56:09.450105Z",
     "shell.execute_reply": "2022-02-05T16:56:09.450424Z"
    }
   },
   "outputs": [
    {
     "data": {
      "image/svg+xml": [
       "<?xml version=\"1.0\" encoding=\"UTF-8\" standalone=\"no\"?><svg xmlns=\"http://www.w3.org/2000/svg\" xmlns:xlink=\"http://www.w3.org/1999/xlink\" contentScriptType=\"application/ecmascript\" contentStyleType=\"text/css\" height=\"12px\" preserveAspectRatio=\"none\" style=\"width:12px;height:12px;\" version=\"1.1\" viewBox=\"0 0 12 12\" width=\"12px\" zoomAndPan=\"magnify\"><defs/><g><!--MD5=[19d285c9d72a204eba4e2cd117d745e8]\n",
       "@startuml\r\n",
       "left to right direction\r\n",
       "skinparam monochrome true\r\n",
       "skinparam classbackgroundcolor white\r\n",
       "skinparam shadowing false\r\n",
       "skinparam wrapWidth 300\r\n",
       "hide circle\r\n",
       "\r\n",
       "@enduml\r\n",
       "\n",
       "PlantUML version 1.2020.13(Sat Jun 13 12:26:38 UTC 2020)\n",
       "(EPL source distribution)\n",
       "Java Runtime: OpenJDK Runtime Environment\n",
       "JVM: OpenJDK 64-Bit Server VM\n",
       "Default Encoding: UTF-8\n",
       "Language: en\n",
       "Country: null\n",
       "--></g></svg>"
      ]
     },
     "execution_count": 18,
     "metadata": {},
     "output_type": "execute_result"
    }
   ],
   "source": [
    "%viz --style=\"LR\" --view=\"State\" \"MultiplicityTest\""
   ]
  },
  {
   "cell_type": "code",
   "execution_count": 19,
   "id": "cc0d40b3",
   "metadata": {
    "execution": {
     "iopub.execute_input": "2022-02-05T16:56:09.500947Z",
     "iopub.status.busy": "2022-02-05T16:56:09.500541Z",
     "iopub.status.idle": "2022-02-05T16:56:09.538855Z",
     "shell.execute_reply": "2022-02-05T16:56:09.538469Z"
    }
   },
   "outputs": [
    {
     "data": {
      "image/svg+xml": [
       "<?xml version=\"1.0\" encoding=\"UTF-8\" standalone=\"no\"?><svg xmlns=\"http://www.w3.org/2000/svg\" xmlns:xlink=\"http://www.w3.org/1999/xlink\" contentScriptType=\"application/ecmascript\" contentStyleType=\"text/css\" height=\"797px\" preserveAspectRatio=\"none\" style=\"width:174px;height:797px;\" version=\"1.1\" viewBox=\"0 0 174 797\" width=\"174px\" zoomAndPan=\"magnify\"><defs/><g><!--MD5=[fbc87193dbaf4d95561dea2c320d4a47]\n",
       "cluster E1--><a href=\"psysml:e445ccd1-d7b4-46a5-bbe0-1ba908b830dd\" target=\"_top\" title=\"psysml:e445ccd1-d7b4-46a5-bbe0-1ba908b830dd\" xlink:actuate=\"onRequest\" xlink:href=\"psysml:e445ccd1-d7b4-46a5-bbe0-1ba908b830dd\" xlink:show=\"new\" xlink:title=\"psysml:e445ccd1-d7b4-46a5-bbe0-1ba908b830dd\" xlink:type=\"simple\"><polygon fill=\"#FFFFFF\" points=\"16,6,123,6,130,28.2969,152,28.2969,152,785,16,785,16,6\" style=\"stroke: #000000; stroke-width: 1.5;\"/><line style=\"stroke: #000000; stroke-width: 1.5;\" x1=\"16\" x2=\"130\" y1=\"28.2969\" y2=\"28.2969\"/><text fill=\"#000000\" font-family=\"sans-serif\" font-size=\"14\" font-weight=\"bold\" lengthAdjust=\"spacingAndGlyphs\" textLength=\"101\" x=\"20\" y=\"20.9951\">MultiplicityTest</text></a><!--MD5=[09b614a08d8cba4a07c9adeb5e0fee81]\n",
       "class E3--><a href=\"psysml:ec541e3b-6371-48bf-8290-c0b2a0f88f52\" target=\"_top\" title=\"psysml:ec541e3b-6371-48bf-8290-c0b2a0f88f52\" xlink:actuate=\"onRequest\" xlink:href=\"psysml:ec541e3b-6371-48bf-8290-c0b2a0f88f52\" xlink:show=\"new\" xlink:title=\"psysml:ec541e3b-6371-48bf-8290-c0b2a0f88f52\" xlink:type=\"simple\"><rect fill=\"#FFFFFF\" height=\"45.9375\" id=\"E3\" rx=\"10\" ry=\"10\" style=\"stroke: #383838; stroke-width: 1.5;\" width=\"71\" x=\"48.5\" y=\"41\"/><text fill=\"#000000\" font-family=\"sans-serif\" font-size=\"12\" font-style=\"italic\" lengthAdjust=\"spacingAndGlyphs\" textLength=\"69\" x=\"49.5\" y=\"57.1387\">«attribute»</text><text fill=\"#000000\" font-family=\"sans-serif\" font-size=\"12\" lengthAdjust=\"spacingAndGlyphs\" textLength=\"61\" x=\"51.5\" y=\"71.1074\">n: Integer</text><line style=\"stroke: #383838; stroke-width: 1.5;\" x1=\"49.5\" x2=\"118.5\" y1=\"78.9375\" y2=\"78.9375\"/></a><g id=\"E1.E11\"><a href=\"psysml:d2ba3396-0b46-40b3-bbf4-49972d7872ff\" target=\"_top\" title=\"psysml:d2ba3396-0b46-40b3-bbf4-49972d7872ff\" xlink:actuate=\"onRequest\" xlink:href=\"psysml:d2ba3396-0b46-40b3-bbf4-49972d7872ff\" xlink:show=\"new\" xlink:title=\"psysml:d2ba3396-0b46-40b3-bbf4-49972d7872ff\" xlink:type=\"simple\"><rect fill=\"#FFFFFF\" height=\"42.9375\" id=\"E11\" style=\"stroke: #383838; stroke-width: 1.5;\" width=\"104\" x=\"32\" y=\"122.5\"/><rect fill=\"#F8F8F8\" height=\"37.9375\" style=\"stroke: #383838; stroke-width: 1.5;\" width=\"104\" x=\"32\" y=\"122.5\"/><text fill=\"#000000\" font-family=\"sans-serif\" font-size=\"12\" font-style=\"italic\" lengthAdjust=\"spacingAndGlyphs\" textLength=\"97\" x=\"35.5\" y=\"138.6387\">«attribute  def»</text><text fill=\"#000000\" font-family=\"sans-serif\" font-size=\"12\" lengthAdjust=\"spacingAndGlyphs\" textLength=\"8\" x=\"80\" y=\"152.6074\">A</text></a></g><g id=\"E1.E2\"><a href=\"psysml:7d5bba99-ceb9-4796-b455-cbfdc331a9aa\" target=\"_top\" title=\"psysml:7d5bba99-ceb9-4796-b455-cbfdc331a9aa\" xlink:actuate=\"onRequest\" xlink:href=\"psysml:7d5bba99-ceb9-4796-b455-cbfdc331a9aa\" xlink:show=\"new\" xlink:title=\"psysml:7d5bba99-ceb9-4796-b455-cbfdc331a9aa\" xlink:type=\"simple\"><rect fill=\"#FFFFFF\" height=\"42.9375\" id=\"E2\" style=\"stroke: #383838; stroke-width: 1.5;\" width=\"75\" x=\"46.5\" y=\"200.5\"/><rect fill=\"#F8F8F8\" height=\"37.9375\" style=\"stroke: #383838; stroke-width: 1.5;\" width=\"75\" x=\"46.5\" y=\"200.5\"/><text fill=\"#000000\" font-family=\"sans-serif\" font-size=\"12\" font-style=\"italic\" lengthAdjust=\"spacingAndGlyphs\" textLength=\"68\" x=\"50\" y=\"216.6387\">«part  def»</text><text fill=\"#000000\" font-family=\"sans-serif\" font-size=\"12\" lengthAdjust=\"spacingAndGlyphs\" textLength=\"8\" x=\"80\" y=\"230.6074\">P</text></a></g><g id=\"E1.E4\"><a href=\"psysml:0bccd947-b2f6-485e-9c27-5cc482a56716\" target=\"_top\" title=\"psysml:0bccd947-b2f6-485e-9c27-5cc482a56716\" xlink:actuate=\"onRequest\" xlink:href=\"psysml:0bccd947-b2f6-485e-9c27-5cc482a56716\" xlink:show=\"new\" xlink:title=\"psysml:0bccd947-b2f6-485e-9c27-5cc482a56716\" xlink:type=\"simple\"><rect fill=\"#FFFFFF\" height=\"40\" id=\"E4\" rx=\"10\" ry=\"10\" style=\"stroke: #383838; stroke-width: 1.5;\" width=\"50\" x=\"59\" y=\"279\"/><rect fill=\"#F8F8F8\" height=\"23.9688\" rx=\"10\" ry=\"10\" style=\"stroke: #F8F8F8; stroke-width: 1.5;\" width=\"50\" x=\"59\" y=\"279\"/><rect fill=\"#F8F8F8\" height=\"10\" style=\"stroke: #F8F8F8; stroke-width: 1.5;\" width=\"50\" x=\"59\" y=\"292.9688\"/><rect fill=\"none\" height=\"40\" id=\"E4\" rx=\"10\" ry=\"10\" style=\"stroke: #383838; stroke-width: 1.5;\" width=\"50\" x=\"59\" y=\"279\"/><text fill=\"#000000\" font-family=\"sans-serif\" font-size=\"12\" lengthAdjust=\"spacingAndGlyphs\" textLength=\"8\" x=\"80\" y=\"295.1387\">a</text></a></g><g id=\"E1.E5\"><a href=\"psysml:3563b5dd-e50a-438e-94ba-a5b38ab6df54\" target=\"_top\" title=\"psysml:3563b5dd-e50a-438e-94ba-a5b38ab6df54\" xlink:actuate=\"onRequest\" xlink:href=\"psysml:3563b5dd-e50a-438e-94ba-a5b38ab6df54\" xlink:show=\"new\" xlink:title=\"psysml:3563b5dd-e50a-438e-94ba-a5b38ab6df54\" xlink:type=\"simple\"><rect fill=\"#FFFFFF\" height=\"40\" id=\"E5\" rx=\"10\" ry=\"10\" style=\"stroke: #383838; stroke-width: 1.5;\" width=\"50\" x=\"59\" y=\"354\"/><rect fill=\"#F8F8F8\" height=\"23.9688\" rx=\"10\" ry=\"10\" style=\"stroke: #F8F8F8; stroke-width: 1.5;\" width=\"50\" x=\"59\" y=\"354\"/><rect fill=\"#F8F8F8\" height=\"10\" style=\"stroke: #F8F8F8; stroke-width: 1.5;\" width=\"50\" x=\"59\" y=\"367.9688\"/><rect fill=\"none\" height=\"40\" id=\"E5\" rx=\"10\" ry=\"10\" style=\"stroke: #383838; stroke-width: 1.5;\" width=\"50\" x=\"59\" y=\"354\"/><text fill=\"#000000\" font-family=\"sans-serif\" font-size=\"12\" lengthAdjust=\"spacingAndGlyphs\" textLength=\"24\" x=\"72\" y=\"370.1387\">b: P</text></a></g><g id=\"E1.E6\"><a href=\"psysml:61a7c4a1-1480-402d-a8df-76594b39497b\" target=\"_top\" title=\"psysml:61a7c4a1-1480-402d-a8df-76594b39497b\" xlink:actuate=\"onRequest\" xlink:href=\"psysml:61a7c4a1-1480-402d-a8df-76594b39497b\" xlink:show=\"new\" xlink:title=\"psysml:61a7c4a1-1480-402d-a8df-76594b39497b\" xlink:type=\"simple\"><rect fill=\"#FFFFFF\" height=\"40\" id=\"E6\" rx=\"10\" ry=\"10\" style=\"stroke: #383838; stroke-width: 1.5;\" width=\"50\" x=\"59\" y=\"429\"/><rect fill=\"#F8F8F8\" height=\"23.9688\" rx=\"10\" ry=\"10\" style=\"stroke: #F8F8F8; stroke-width: 1.5;\" width=\"50\" x=\"59\" y=\"429\"/><rect fill=\"#F8F8F8\" height=\"10\" style=\"stroke: #F8F8F8; stroke-width: 1.5;\" width=\"50\" x=\"59\" y=\"442.9688\"/><rect fill=\"none\" height=\"40\" id=\"E6\" rx=\"10\" ry=\"10\" style=\"stroke: #383838; stroke-width: 1.5;\" width=\"50\" x=\"59\" y=\"429\"/><text fill=\"#000000\" font-family=\"sans-serif\" font-size=\"12\" lengthAdjust=\"spacingAndGlyphs\" textLength=\"23\" x=\"72.5\" y=\"445.1387\">c: P</text></a></g><g id=\"E1.E7\"><a href=\"psysml:f3d0dfc0-0dbb-4454-830c-43cee9c0f8af\" target=\"_top\" title=\"psysml:f3d0dfc0-0dbb-4454-830c-43cee9c0f8af\" xlink:actuate=\"onRequest\" xlink:href=\"psysml:f3d0dfc0-0dbb-4454-830c-43cee9c0f8af\" xlink:show=\"new\" xlink:title=\"psysml:f3d0dfc0-0dbb-4454-830c-43cee9c0f8af\" xlink:type=\"simple\"><rect fill=\"#FFFFFF\" height=\"40\" id=\"E7\" rx=\"10\" ry=\"10\" style=\"stroke: #383838; stroke-width: 1.5;\" width=\"50\" x=\"59\" y=\"504\"/><rect fill=\"#F8F8F8\" height=\"23.9688\" rx=\"10\" ry=\"10\" style=\"stroke: #F8F8F8; stroke-width: 1.5;\" width=\"50\" x=\"59\" y=\"504\"/><rect fill=\"#F8F8F8\" height=\"10\" style=\"stroke: #F8F8F8; stroke-width: 1.5;\" width=\"50\" x=\"59\" y=\"517.9688\"/><rect fill=\"none\" height=\"40\" id=\"E7\" rx=\"10\" ry=\"10\" style=\"stroke: #383838; stroke-width: 1.5;\" width=\"50\" x=\"59\" y=\"504\"/><text fill=\"#000000\" font-family=\"sans-serif\" font-size=\"12\" lengthAdjust=\"spacingAndGlyphs\" textLength=\"8\" x=\"80\" y=\"520.1387\">d</text></a></g><g id=\"E1.E8\"><a href=\"psysml:470ebeae-9c21-45dc-92b7-3ec0bcac92c0\" target=\"_top\" title=\"psysml:470ebeae-9c21-45dc-92b7-3ec0bcac92c0\" xlink:actuate=\"onRequest\" xlink:href=\"psysml:470ebeae-9c21-45dc-92b7-3ec0bcac92c0\" xlink:show=\"new\" xlink:title=\"psysml:470ebeae-9c21-45dc-92b7-3ec0bcac92c0\" xlink:type=\"simple\"><rect fill=\"#FFFFFF\" height=\"40\" id=\"E8\" rx=\"10\" ry=\"10\" style=\"stroke: #383838; stroke-width: 1.5;\" width=\"50\" x=\"59\" y=\"579\"/><rect fill=\"#F8F8F8\" height=\"23.9688\" rx=\"10\" ry=\"10\" style=\"stroke: #F8F8F8; stroke-width: 1.5;\" width=\"50\" x=\"59\" y=\"579\"/><rect fill=\"#F8F8F8\" height=\"10\" style=\"stroke: #F8F8F8; stroke-width: 1.5;\" width=\"50\" x=\"59\" y=\"592.9688\"/><rect fill=\"none\" height=\"40\" id=\"E8\" rx=\"10\" ry=\"10\" style=\"stroke: #383838; stroke-width: 1.5;\" width=\"50\" x=\"59\" y=\"579\"/><text fill=\"#000000\" font-family=\"sans-serif\" font-size=\"12\" lengthAdjust=\"spacingAndGlyphs\" textLength=\"8\" x=\"80\" y=\"595.1387\">e</text></a></g><g id=\"E1.E9\"><a href=\"psysml:e3b105f8-a02a-4959-8fa9-8da786795f1e\" target=\"_top\" title=\"psysml:e3b105f8-a02a-4959-8fa9-8da786795f1e\" xlink:actuate=\"onRequest\" xlink:href=\"psysml:e3b105f8-a02a-4959-8fa9-8da786795f1e\" xlink:show=\"new\" xlink:title=\"psysml:e3b105f8-a02a-4959-8fa9-8da786795f1e\" xlink:type=\"simple\"><rect fill=\"#FFFFFF\" height=\"40\" id=\"E9\" rx=\"10\" ry=\"10\" style=\"stroke: #383838; stroke-width: 1.5;\" width=\"50\" x=\"59\" y=\"654\"/><rect fill=\"#F8F8F8\" height=\"23.9688\" rx=\"10\" ry=\"10\" style=\"stroke: #F8F8F8; stroke-width: 1.5;\" width=\"50\" x=\"59\" y=\"654\"/><rect fill=\"#F8F8F8\" height=\"10\" style=\"stroke: #F8F8F8; stroke-width: 1.5;\" width=\"50\" x=\"59\" y=\"667.9688\"/><rect fill=\"none\" height=\"40\" id=\"E9\" rx=\"10\" ry=\"10\" style=\"stroke: #383838; stroke-width: 1.5;\" width=\"50\" x=\"59\" y=\"654\"/><text fill=\"#000000\" font-family=\"sans-serif\" font-size=\"12\" lengthAdjust=\"spacingAndGlyphs\" textLength=\"4\" x=\"82\" y=\"670.1387\">f</text></a></g><g id=\"E1.E10\"><a href=\"psysml:0b08e64f-1d74-4a65-b189-b5a78b2f5a03\" target=\"_top\" title=\"psysml:0b08e64f-1d74-4a65-b189-b5a78b2f5a03\" xlink:actuate=\"onRequest\" xlink:href=\"psysml:0b08e64f-1d74-4a65-b189-b5a78b2f5a03\" xlink:show=\"new\" xlink:title=\"psysml:0b08e64f-1d74-4a65-b189-b5a78b2f5a03\" xlink:type=\"simple\"><rect fill=\"#FFFFFF\" height=\"40\" id=\"E10\" rx=\"10\" ry=\"10\" style=\"stroke: #383838; stroke-width: 1.5;\" width=\"50\" x=\"59\" y=\"729\"/><rect fill=\"#F8F8F8\" height=\"23.9688\" rx=\"10\" ry=\"10\" style=\"stroke: #F8F8F8; stroke-width: 1.5;\" width=\"50\" x=\"59\" y=\"729\"/><rect fill=\"#F8F8F8\" height=\"10\" style=\"stroke: #F8F8F8; stroke-width: 1.5;\" width=\"50\" x=\"59\" y=\"742.9688\"/><rect fill=\"none\" height=\"40\" id=\"E10\" rx=\"10\" ry=\"10\" style=\"stroke: #383838; stroke-width: 1.5;\" width=\"50\" x=\"59\" y=\"729\"/><text fill=\"#000000\" font-family=\"sans-serif\" font-size=\"12\" lengthAdjust=\"spacingAndGlyphs\" textLength=\"8\" x=\"80\" y=\"745.1387\">g</text></a></g><!--MD5=[61cd1f74f7bdfbbe29011391dd11809c]\n",
       "@startuml\r\n",
       "skinparam ranksep 10\r\n",
       "skinparam rectangle {\r\n",
       " backgroundColor<<block>> LightGreen\r\n",
       "}\r\n",
       "left to right direction\r\n",
       "skinparam monochrome true\r\n",
       "skinparam classbackgroundcolor white\r\n",
       "skinparam shadowing false\r\n",
       "skinparam wrapWidth 300\r\n",
       "hide circle\r\n",
       "\r\n",
       "package \"MultiplicityTest\" as E1  [[psysml:e445ccd1-d7b4-46a5-bbe0-1ba908b830dd ]]  {\r\n",
       "rec def \"P\" as E2  <<(T,blue) part  def>> [[psysml:7d5bba99-ceb9-4796-b455-cbfdc331a9aa ]] {\r\n",
       "}\r\n",
       "comp usage \"n: Integer \" as E3  <<(T,blue) attribute>> [[psysml:ec541e3b-6371-48bf-8290-c0b2a0f88f52 ]] {\r\n",
       "}\r\n",
       "rec usage \"a\" as E4  [[psysml:0bccd947-b2f6-485e-9c27-5cc482a56716 ]] {\r\n",
       "}\r\n",
       "rec usage \"b: P\" as E5  [[psysml:3563b5dd-e50a-438e-94ba-a5b38ab6df54 ]] {\r\n",
       "}\r\n",
       "rec usage \"c: P\" as E6  [[psysml:61a7c4a1-1480-402d-a8df-76594b39497b ]] {\r\n",
       "}\r\n",
       "rec usage \"d\" as E7  [[psysml:f3d0dfc0-0dbb-4454-830c-43cee9c0f8af ]] {\r\n",
       "}\r\n",
       "rec usage \"e\" as E8  [[psysml:470ebeae-9c21-45dc-92b7-3ec0bcac92c0 ]] {\r\n",
       "}\r\n",
       "rec usage \"f\" as E9  [[psysml:e3b105f8-a02a-4959-8fa9-8da786795f1e ]] {\r\n",
       "}\r\n",
       "rec usage \"g\" as E10  [[psysml:0b08e64f-1d74-4a65-b189-b5a78b2f5a03 ]] {\r\n",
       "}\r\n",
       "def \"A\" as E11  <<(T,blue) attribute  def>> [[psysml:d2ba3396-0b46-40b3-bbf4-49972d7872ff ]] \r\n",
       "}\r\n",
       "@enduml\r\n",
       "\n",
       "PlantUML version 1.2020.13(Sat Jun 13 12:26:38 UTC 2020)\n",
       "(EPL source distribution)\n",
       "Java Runtime: OpenJDK Runtime Environment\n",
       "JVM: OpenJDK 64-Bit Server VM\n",
       "Default Encoding: UTF-8\n",
       "Language: en\n",
       "Country: null\n",
       "--></g></svg>"
      ]
     },
     "execution_count": 19,
     "metadata": {},
     "output_type": "execute_result"
    }
   ],
   "source": [
    "%viz --style=\"LR\" --view=\"Interconnection\" \"MultiplicityTest\""
   ]
  },
  {
   "cell_type": "code",
   "execution_count": 20,
   "id": "9d308497",
   "metadata": {
    "execution": {
     "iopub.execute_input": "2022-02-05T16:56:09.588695Z",
     "iopub.status.busy": "2022-02-05T16:56:09.588268Z",
     "iopub.status.idle": "2022-02-05T16:56:09.593257Z",
     "shell.execute_reply": "2022-02-05T16:56:09.593572Z"
    }
   },
   "outputs": [
    {
     "data": {
      "image/svg+xml": [
       "<?xml version=\"1.0\" encoding=\"UTF-8\" standalone=\"no\"?><svg xmlns=\"http://www.w3.org/2000/svg\" xmlns:xlink=\"http://www.w3.org/1999/xlink\" contentScriptType=\"application/ecmascript\" contentStyleType=\"text/css\" height=\"12px\" preserveAspectRatio=\"none\" style=\"width:12px;height:12px;\" version=\"1.1\" viewBox=\"0 0 12 12\" width=\"12px\" zoomAndPan=\"magnify\"><defs/><g><!--MD5=[7aeb398939421629f6affaa4a1a7b125]\n",
       "@startuml\r\n",
       "skinparam ranksep 8\r\n",
       "left to right direction\r\n",
       "skinparam monochrome true\r\n",
       "skinparam classbackgroundcolor white\r\n",
       "skinparam shadowing false\r\n",
       "skinparam wrapWidth 300\r\n",
       "hide circle\r\n",
       "\r\n",
       "@enduml\r\n",
       "\n",
       "PlantUML version 1.2020.13(Sat Jun 13 12:26:38 UTC 2020)\n",
       "(EPL source distribution)\n",
       "Java Runtime: OpenJDK Runtime Environment\n",
       "JVM: OpenJDK 64-Bit Server VM\n",
       "Default Encoding: UTF-8\n",
       "Language: en\n",
       "Country: null\n",
       "--></g></svg>"
      ]
     },
     "execution_count": 20,
     "metadata": {},
     "output_type": "execute_result"
    }
   ],
   "source": [
    "%viz --style=\"LR\" --view=\"Action\" \"MultiplicityTest\""
   ]
  },
  {
   "cell_type": "code",
   "execution_count": 21,
   "id": "bef02cd0",
   "metadata": {
    "execution": {
     "iopub.execute_input": "2022-02-05T16:56:09.643745Z",
     "iopub.status.busy": "2022-02-05T16:56:09.643340Z",
     "iopub.status.idle": "2022-02-05T16:56:09.648300Z",
     "shell.execute_reply": "2022-02-05T16:56:09.648615Z"
    }
   },
   "outputs": [
    {
     "data": {
      "image/svg+xml": [
       "<?xml version=\"1.0\" encoding=\"UTF-8\" standalone=\"no\"?><svg xmlns=\"http://www.w3.org/2000/svg\" xmlns:xlink=\"http://www.w3.org/1999/xlink\" contentScriptType=\"application/ecmascript\" contentStyleType=\"text/css\" height=\"12px\" preserveAspectRatio=\"none\" style=\"width:12px;height:12px;\" version=\"1.1\" viewBox=\"0 0 12 12\" width=\"12px\" zoomAndPan=\"magnify\"><defs/><g><!--MD5=[238c11ea2002f03115ad6b49a457d50e]\n",
       "@startuml\r\n",
       "skinparam roundcorner 20\r\n",
       "skinparam BoxPadding 20\r\n",
       "skinparam SequenceBoxBackgroundColor #white\r\n",
       "skinparam style strictuml\r\n",
       "skinparam maxMessageSize 100\r\n",
       "left to right direction\r\n",
       "skinparam monochrome true\r\n",
       "skinparam classbackgroundcolor white\r\n",
       "skinparam shadowing false\r\n",
       "skinparam wrapWidth 300\r\n",
       "hide circle\r\n",
       "\r\n",
       "@enduml\r\n",
       "\n",
       "PlantUML version 1.2020.13(Sat Jun 13 12:26:38 UTC 2020)\n",
       "(EPL source distribution)\n",
       "Java Runtime: OpenJDK Runtime Environment\n",
       "JVM: OpenJDK 64-Bit Server VM\n",
       "Default Encoding: UTF-8\n",
       "Language: en\n",
       "Country: null\n",
       "--></g></svg>"
      ]
     },
     "execution_count": 21,
     "metadata": {},
     "output_type": "execute_result"
    }
   ],
   "source": [
    "%viz --style=\"LR\" --view=\"Sequence\" \"MultiplicityTest\""
   ]
  },
  {
   "cell_type": "code",
   "execution_count": 22,
   "id": "bcbf4e25",
   "metadata": {
    "execution": {
     "iopub.execute_input": "2022-02-05T16:56:09.698855Z",
     "iopub.status.busy": "2022-02-05T16:56:09.698455Z",
     "iopub.status.idle": "2022-02-05T16:56:09.757799Z",
     "shell.execute_reply": "2022-02-05T16:56:09.757437Z"
    }
   },
   "outputs": [
    {
     "data": {
      "image/svg+xml": [
       "<?xml version=\"1.0\" encoding=\"UTF-8\" standalone=\"no\"?><svg xmlns=\"http://www.w3.org/2000/svg\" xmlns:xlink=\"http://www.w3.org/1999/xlink\" contentScriptType=\"application/ecmascript\" contentStyleType=\"text/css\" height=\"805px\" preserveAspectRatio=\"none\" style=\"width:299px;height:805px;\" version=\"1.1\" viewBox=\"0 0 299 805\" width=\"299px\" zoomAndPan=\"magnify\"><defs/><g><!--MD5=[fbc87193dbaf4d95561dea2c320d4a47]\n",
       "cluster E1--><a href=\"psysml:e445ccd1-d7b4-46a5-bbe0-1ba908b830dd\" target=\"_top\" title=\"psysml:e445ccd1-d7b4-46a5-bbe0-1ba908b830dd\" xlink:actuate=\"onRequest\" xlink:href=\"psysml:e445ccd1-d7b4-46a5-bbe0-1ba908b830dd\" xlink:show=\"new\" xlink:title=\"psysml:e445ccd1-d7b4-46a5-bbe0-1ba908b830dd\" xlink:type=\"simple\"><polygon fill=\"#FFFFFF\" points=\"16,6,123,6,130,28.2969,277,28.2969,277,793,16,793,16,6\" style=\"stroke: #000000; stroke-width: 1.5;\"/><line style=\"stroke: #000000; stroke-width: 1.5;\" x1=\"16\" x2=\"130\" y1=\"28.2969\" y2=\"28.2969\"/><text fill=\"#000000\" font-family=\"sans-serif\" font-size=\"14\" font-weight=\"bold\" lengthAdjust=\"spacingAndGlyphs\" textLength=\"101\" x=\"20\" y=\"20.9951\">MultiplicityTest</text></a><!--MD5=[b4997ac47864f28c2f74865a473b2911]\n",
       "class E2--><a href=\"psysml:7d5bba99-ceb9-4796-b455-cbfdc331a9aa\" target=\"_top\" title=\"psysml:7d5bba99-ceb9-4796-b455-cbfdc331a9aa\" xlink:actuate=\"onRequest\" xlink:href=\"psysml:7d5bba99-ceb9-4796-b455-cbfdc331a9aa\" xlink:show=\"new\" xlink:title=\"psysml:7d5bba99-ceb9-4796-b455-cbfdc331a9aa\" xlink:type=\"simple\"><rect fill=\"#FFFFFF\" height=\"45.9375\" id=\"E2\" style=\"stroke: #383838; stroke-width: 1.5;\" width=\"70\" x=\"191\" y=\"244\"/><text fill=\"#000000\" font-family=\"sans-serif\" font-size=\"12\" font-style=\"italic\" lengthAdjust=\"spacingAndGlyphs\" textLength=\"68\" x=\"192\" y=\"260.1387\">«part  def»</text><text fill=\"#000000\" font-family=\"sans-serif\" font-size=\"12\" lengthAdjust=\"spacingAndGlyphs\" textLength=\"8\" x=\"222\" y=\"274.1074\">P</text><line style=\"stroke: #383838; stroke-width: 1.5;\" x1=\"192\" x2=\"260\" y1=\"281.9375\" y2=\"281.9375\"/></a><!--MD5=[09b614a08d8cba4a07c9adeb5e0fee81]\n",
       "class E3--><a href=\"psysml:ec541e3b-6371-48bf-8290-c0b2a0f88f52\" target=\"_top\" title=\"psysml:ec541e3b-6371-48bf-8290-c0b2a0f88f52\" xlink:actuate=\"onRequest\" xlink:href=\"psysml:ec541e3b-6371-48bf-8290-c0b2a0f88f52\" xlink:show=\"new\" xlink:title=\"psysml:ec541e3b-6371-48bf-8290-c0b2a0f88f52\" xlink:type=\"simple\"><rect fill=\"#FFFFFF\" height=\"45.9375\" id=\"E3\" rx=\"10\" ry=\"10\" style=\"stroke: #383838; stroke-width: 1.5;\" width=\"71\" x=\"46\" y=\"41\"/><text fill=\"#000000\" font-family=\"sans-serif\" font-size=\"12\" font-style=\"italic\" lengthAdjust=\"spacingAndGlyphs\" textLength=\"69\" x=\"47\" y=\"57.1387\">«attribute»</text><text fill=\"#000000\" font-family=\"sans-serif\" font-size=\"12\" lengthAdjust=\"spacingAndGlyphs\" textLength=\"61\" x=\"49\" y=\"71.1074\">n: Integer</text><line style=\"stroke: #383838; stroke-width: 1.5;\" x1=\"47\" x2=\"116\" y1=\"78.9375\" y2=\"78.9375\"/></a><!--MD5=[ebbe1d658d1005bcc118a6aa81145e00]\n",
       "class E4--><a href=\"psysml:0bccd947-b2f6-485e-9c27-5cc482a56716\" target=\"_top\" title=\"psysml:0bccd947-b2f6-485e-9c27-5cc482a56716\" xlink:actuate=\"onRequest\" xlink:href=\"psysml:0bccd947-b2f6-485e-9c27-5cc482a56716\" xlink:show=\"new\" xlink:title=\"psysml:0bccd947-b2f6-485e-9c27-5cc482a56716\" xlink:type=\"simple\"><rect fill=\"#FFFFFF\" height=\"45.9375\" id=\"E4\" rx=\"10\" ry=\"10\" style=\"stroke: #383838; stroke-width: 1.5;\" width=\"42\" x=\"60.5\" y=\"122\"/><text fill=\"#000000\" font-family=\"sans-serif\" font-size=\"12\" font-style=\"italic\" lengthAdjust=\"spacingAndGlyphs\" textLength=\"40\" x=\"61.5\" y=\"138.1387\">«part»</text><text fill=\"#000000\" font-family=\"sans-serif\" font-size=\"12\" lengthAdjust=\"spacingAndGlyphs\" textLength=\"8\" x=\"75.5\" y=\"152.1074\">a</text><line style=\"stroke: #383838; stroke-width: 1.5;\" x1=\"61.5\" x2=\"101.5\" y1=\"159.9375\" y2=\"159.9375\"/></a><!--MD5=[270fce915f116d4de14055a7c1d9a0f3]\n",
       "class E5--><a href=\"psysml:3563b5dd-e50a-438e-94ba-a5b38ab6df54\" target=\"_top\" title=\"psysml:3563b5dd-e50a-438e-94ba-a5b38ab6df54\" xlink:actuate=\"onRequest\" xlink:href=\"psysml:3563b5dd-e50a-438e-94ba-a5b38ab6df54\" xlink:show=\"new\" xlink:title=\"psysml:3563b5dd-e50a-438e-94ba-a5b38ab6df54\" xlink:type=\"simple\"><rect fill=\"#FFFFFF\" height=\"45.9375\" id=\"E5\" rx=\"10\" ry=\"10\" style=\"stroke: #383838; stroke-width: 1.5;\" width=\"42\" x=\"60.5\" y=\"203\"/><text fill=\"#000000\" font-family=\"sans-serif\" font-size=\"12\" font-style=\"italic\" lengthAdjust=\"spacingAndGlyphs\" textLength=\"40\" x=\"61.5\" y=\"219.1387\">«part»</text><text fill=\"#000000\" font-family=\"sans-serif\" font-size=\"12\" lengthAdjust=\"spacingAndGlyphs\" textLength=\"24\" x=\"67.5\" y=\"233.1074\">b: P</text><line style=\"stroke: #383838; stroke-width: 1.5;\" x1=\"61.5\" x2=\"101.5\" y1=\"240.9375\" y2=\"240.9375\"/></a><!--MD5=[60a26617385b1d2d0262a64233df1f8d]\n",
       "class E6--><a href=\"psysml:61a7c4a1-1480-402d-a8df-76594b39497b\" target=\"_top\" title=\"psysml:61a7c4a1-1480-402d-a8df-76594b39497b\" xlink:actuate=\"onRequest\" xlink:href=\"psysml:61a7c4a1-1480-402d-a8df-76594b39497b\" xlink:show=\"new\" xlink:title=\"psysml:61a7c4a1-1480-402d-a8df-76594b39497b\" xlink:type=\"simple\"><rect fill=\"#FFFFFF\" height=\"45.9375\" id=\"E6\" rx=\"10\" ry=\"10\" style=\"stroke: #383838; stroke-width: 1.5;\" width=\"42\" x=\"60.5\" y=\"284\"/><text fill=\"#000000\" font-family=\"sans-serif\" font-size=\"12\" font-style=\"italic\" lengthAdjust=\"spacingAndGlyphs\" textLength=\"40\" x=\"61.5\" y=\"300.1387\">«part»</text><text fill=\"#000000\" font-family=\"sans-serif\" font-size=\"12\" lengthAdjust=\"spacingAndGlyphs\" textLength=\"23\" x=\"68\" y=\"314.1074\">c: P</text><line style=\"stroke: #383838; stroke-width: 1.5;\" x1=\"61.5\" x2=\"101.5\" y1=\"321.9375\" y2=\"321.9375\"/></a><!--MD5=[2156ba9850f5573cc1fc38a6a4b2f02b]\n",
       "class E7--><a href=\"psysml:f3d0dfc0-0dbb-4454-830c-43cee9c0f8af\" target=\"_top\" title=\"psysml:f3d0dfc0-0dbb-4454-830c-43cee9c0f8af\" xlink:actuate=\"onRequest\" xlink:href=\"psysml:f3d0dfc0-0dbb-4454-830c-43cee9c0f8af\" xlink:show=\"new\" xlink:title=\"psysml:f3d0dfc0-0dbb-4454-830c-43cee9c0f8af\" xlink:type=\"simple\"><rect fill=\"#FFFFFF\" height=\"45.9375\" id=\"E7\" rx=\"10\" ry=\"10\" style=\"stroke: #383838; stroke-width: 1.5;\" width=\"42\" x=\"60.5\" y=\"365\"/><text fill=\"#000000\" font-family=\"sans-serif\" font-size=\"12\" font-style=\"italic\" lengthAdjust=\"spacingAndGlyphs\" textLength=\"40\" x=\"61.5\" y=\"381.1387\">«part»</text><text fill=\"#000000\" font-family=\"sans-serif\" font-size=\"12\" lengthAdjust=\"spacingAndGlyphs\" textLength=\"8\" x=\"75.5\" y=\"395.1074\">d</text><line style=\"stroke: #383838; stroke-width: 1.5;\" x1=\"61.5\" x2=\"101.5\" y1=\"402.9375\" y2=\"402.9375\"/></a><!--MD5=[b9389687b975829384b498ac4b7476b2]\n",
       "class E8--><a href=\"psysml:470ebeae-9c21-45dc-92b7-3ec0bcac92c0\" target=\"_top\" title=\"psysml:470ebeae-9c21-45dc-92b7-3ec0bcac92c0\" xlink:actuate=\"onRequest\" xlink:href=\"psysml:470ebeae-9c21-45dc-92b7-3ec0bcac92c0\" xlink:show=\"new\" xlink:title=\"psysml:470ebeae-9c21-45dc-92b7-3ec0bcac92c0\" xlink:type=\"simple\"><rect fill=\"#FFFFFF\" height=\"45.9375\" id=\"E8\" rx=\"10\" ry=\"10\" style=\"stroke: #383838; stroke-width: 1.5;\" width=\"42\" x=\"60.5\" y=\"446\"/><text fill=\"#000000\" font-family=\"sans-serif\" font-size=\"12\" font-style=\"italic\" lengthAdjust=\"spacingAndGlyphs\" textLength=\"40\" x=\"61.5\" y=\"462.1387\">«part»</text><text fill=\"#000000\" font-family=\"sans-serif\" font-size=\"12\" lengthAdjust=\"spacingAndGlyphs\" textLength=\"8\" x=\"75.5\" y=\"476.1074\">e</text><line style=\"stroke: #383838; stroke-width: 1.5;\" x1=\"61.5\" x2=\"101.5\" y1=\"483.9375\" y2=\"483.9375\"/></a><!--MD5=[fd4143e9d270a159db93a4ea2a975926]\n",
       "class E9--><a href=\"psysml:e3b105f8-a02a-4959-8fa9-8da786795f1e\" target=\"_top\" title=\"psysml:e3b105f8-a02a-4959-8fa9-8da786795f1e\" xlink:actuate=\"onRequest\" xlink:href=\"psysml:e3b105f8-a02a-4959-8fa9-8da786795f1e\" xlink:show=\"new\" xlink:title=\"psysml:e3b105f8-a02a-4959-8fa9-8da786795f1e\" xlink:type=\"simple\"><rect fill=\"#FFFFFF\" height=\"45.9375\" id=\"E9\" rx=\"10\" ry=\"10\" style=\"stroke: #383838; stroke-width: 1.5;\" width=\"42\" x=\"60.5\" y=\"527\"/><text fill=\"#000000\" font-family=\"sans-serif\" font-size=\"12\" font-style=\"italic\" lengthAdjust=\"spacingAndGlyphs\" textLength=\"40\" x=\"61.5\" y=\"543.1387\">«part»</text><text fill=\"#000000\" font-family=\"sans-serif\" font-size=\"12\" lengthAdjust=\"spacingAndGlyphs\" textLength=\"4\" x=\"77.5\" y=\"557.1074\">f</text><line style=\"stroke: #383838; stroke-width: 1.5;\" x1=\"61.5\" x2=\"101.5\" y1=\"564.9375\" y2=\"564.9375\"/></a><!--MD5=[96f4274e9e20536e775497830990834d]\n",
       "class E10--><a href=\"psysml:0b08e64f-1d74-4a65-b189-b5a78b2f5a03\" target=\"_top\" title=\"psysml:0b08e64f-1d74-4a65-b189-b5a78b2f5a03\" xlink:actuate=\"onRequest\" xlink:href=\"psysml:0b08e64f-1d74-4a65-b189-b5a78b2f5a03\" xlink:show=\"new\" xlink:title=\"psysml:0b08e64f-1d74-4a65-b189-b5a78b2f5a03\" xlink:type=\"simple\"><rect fill=\"#FFFFFF\" height=\"45.9375\" id=\"E10\" rx=\"10\" ry=\"10\" style=\"stroke: #383838; stroke-width: 1.5;\" width=\"42\" x=\"60.5\" y=\"608\"/><text fill=\"#000000\" font-family=\"sans-serif\" font-size=\"12\" font-style=\"italic\" lengthAdjust=\"spacingAndGlyphs\" textLength=\"40\" x=\"61.5\" y=\"624.1387\">«part»</text><text fill=\"#000000\" font-family=\"sans-serif\" font-size=\"12\" lengthAdjust=\"spacingAndGlyphs\" textLength=\"8\" x=\"75.5\" y=\"638.1074\">g</text><line style=\"stroke: #383838; stroke-width: 1.5;\" x1=\"61.5\" x2=\"101.5\" y1=\"645.9375\" y2=\"645.9375\"/></a><!--MD5=[1dd1bfd58a279cf63c5f349dbc8fc6a1]\n",
       "class E11--><a href=\"psysml:d2ba3396-0b46-40b3-bbf4-49972d7872ff\" target=\"_top\" title=\"psysml:d2ba3396-0b46-40b3-bbf4-49972d7872ff\" xlink:actuate=\"onRequest\" xlink:href=\"psysml:d2ba3396-0b46-40b3-bbf4-49972d7872ff\" xlink:show=\"new\" xlink:title=\"psysml:d2ba3396-0b46-40b3-bbf4-49972d7872ff\" xlink:type=\"simple\"><rect fill=\"#FFFFFF\" height=\"88.3516\" id=\"E11\" style=\"stroke: #383838; stroke-width: 1.5;\" width=\"99\" x=\"32\" y=\"689\"/><text fill=\"#000000\" font-family=\"sans-serif\" font-size=\"12\" font-style=\"italic\" lengthAdjust=\"spacingAndGlyphs\" textLength=\"97\" x=\"33\" y=\"705.1387\">«attribute  def»</text><text fill=\"#000000\" font-family=\"sans-serif\" font-size=\"12\" lengthAdjust=\"spacingAndGlyphs\" textLength=\"8\" x=\"77.5\" y=\"719.1074\">A</text><line style=\"stroke: #383838; stroke-width: 1.5;\" x1=\"33\" x2=\"130\" y1=\"726.9375\" y2=\"726.9375\"/><text fill=\"#000000\" font-family=\"sans-serif\" font-size=\"11\" lengthAdjust=\"spacingAndGlyphs\" textLength=\"51\" x=\"38\" y=\"757.9526\">i: Integer</text><text fill=\"#000000\" font-family=\"sans-serif\" font-size=\"11\" lengthAdjust=\"spacingAndGlyphs\" textLength=\"21\" x=\"38\" y=\"770.7573\">x: A</text><line style=\"stroke: #383838; stroke-width: 1.0;\" x1=\"33\" x2=\"54\" y1=\"741.3398\" y2=\"741.3398\"/><text fill=\"#000000\" font-family=\"sans-serif\" font-size=\"11\" lengthAdjust=\"spacingAndGlyphs\" textLength=\"55\" x=\"54\" y=\"744.6479\">attributes</text><line style=\"stroke: #383838; stroke-width: 1.0;\" x1=\"109\" x2=\"130\" y1=\"741.3398\" y2=\"741.3398\"/></a><!--MD5=[15ebcb19ae302d9b601edb458606d402]\n",
       "link E5 to E2--><a href=\"psysml:b362769d-1260-4065-9b83-621f0da47e8d\" target=\"_top\" title=\"psysml:b362769d-1260-4065-9b83-621f0da47e8d\" xlink:actuate=\"onRequest\" xlink:href=\"psysml:b362769d-1260-4065-9b83-621f0da47e8d\" xlink:show=\"new\" xlink:title=\"psysml:b362769d-1260-4065-9b83-621f0da47e8d\" xlink:type=\"simple\"><path d=\"M102.61,231.79 C120.54,236.94 147.58,244.72 171.69,251.66 \" fill=\"none\" id=\"E5-&gt;E2\" style=\"stroke: #383838; stroke-width: 1.0;\"/><polygon fill=\"#FFFFFF\" points=\"190.99,257.21,170.7942,258.6694,174.6746,245.218,190.99,257.21\" style=\"stroke: #383838; stroke-width: 1.0;\"/><ellipse cx=\"165.8719\" cy=\"255.1679\" fill=\"#383838\" rx=\"2\" ry=\"2\" style=\"stroke: #383838; stroke-width: 1.0;\"/><ellipse cx=\"168.6436\" cy=\"245.5597\" fill=\"#383838\" rx=\"2\" ry=\"2\" style=\"stroke: #383838; stroke-width: 1.0;\"/></a><!--MD5=[2351f337d6de0f557b50152ba70847b5]\n",
       "link E6 to E2--><a href=\"psysml:03080077-3284-4bc2-8ec3-31a93274162e\" target=\"_top\" title=\"psysml:03080077-3284-4bc2-8ec3-31a93274162e\" xlink:actuate=\"onRequest\" xlink:href=\"psysml:03080077-3284-4bc2-8ec3-31a93274162e\" xlink:show=\"new\" xlink:title=\"psysml:03080077-3284-4bc2-8ec3-31a93274162e\" xlink:type=\"simple\"><path d=\"M102.61,301.35 C120.54,296.32 147.58,288.73 171.69,281.96 \" fill=\"none\" id=\"E6-&gt;E2\" style=\"stroke: #383838; stroke-width: 1.0;\"/><polygon fill=\"#FFFFFF\" points=\"190.99,276.55,174.5938,288.4313,170.8046,274.9539,190.99,276.55\" style=\"stroke: #383838; stroke-width: 1.0;\"/><ellipse cx=\"168.5653\" cy=\"288.0487\" fill=\"#383838\" rx=\"2\" ry=\"2\" style=\"stroke: #383838; stroke-width: 1.0;\"/><ellipse cx=\"165.8586\" cy=\"278.422\" fill=\"#383838\" rx=\"2\" ry=\"2\" style=\"stroke: #383838; stroke-width: 1.0;\"/></a><!--MD5=[8c3a004a0d2d5b3adeb261135100c49d]\n",
       "@startuml\r\n",
       "left to right direction\r\n",
       "skinparam monochrome true\r\n",
       "skinparam classbackgroundcolor white\r\n",
       "skinparam shadowing false\r\n",
       "skinparam wrapWidth 300\r\n",
       "hide circle\r\n",
       "\r\n",
       "package \"MultiplicityTest\" as E1  [[psysml:e445ccd1-d7b4-46a5-bbe0-1ba908b830dd ]]  {\r\n",
       "comp def \"P\" as E2  <<(T,blue) part  def>> [[psysml:7d5bba99-ceb9-4796-b455-cbfdc331a9aa ]] {\r\n",
       "}\r\n",
       "comp usage \"n: Integer \" as E3  <<(T,blue) attribute>> [[psysml:ec541e3b-6371-48bf-8290-c0b2a0f88f52 ]] {\r\n",
       "}\r\n",
       "comp usage \"a \" as E4  <<(T,blue) part>> [[psysml:0bccd947-b2f6-485e-9c27-5cc482a56716 ]] {\r\n",
       "}\r\n",
       "comp usage \"b: P \" as E5  <<(T,blue) part>> [[psysml:3563b5dd-e50a-438e-94ba-a5b38ab6df54 ]] {\r\n",
       "}\r\n",
       "comp usage \"c: P \" as E6  <<(T,blue) part>> [[psysml:61a7c4a1-1480-402d-a8df-76594b39497b ]] {\r\n",
       "}\r\n",
       "comp usage \"d \" as E7  <<(T,blue) part>> [[psysml:f3d0dfc0-0dbb-4454-830c-43cee9c0f8af ]] {\r\n",
       "}\r\n",
       "comp usage \"e \" as E8  <<(T,blue) part>> [[psysml:470ebeae-9c21-45dc-92b7-3ec0bcac92c0 ]] {\r\n",
       "}\r\n",
       "comp usage \"f \" as E9  <<(T,blue) part>> [[psysml:e3b105f8-a02a-4959-8fa9-8da786795f1e ]] {\r\n",
       "}\r\n",
       "comp usage \"g \" as E10  <<(T,blue) part>> [[psysml:0b08e64f-1d74-4a65-b189-b5a78b2f5a03 ]] {\r\n",
       "}\r\n",
       "comp def \"A\" as E11  <<(T,blue) attribute  def>> [[psysml:d2ba3396-0b46-40b3-bbf4-49972d7872ff ]] {\r\n",
       "- - attributes - -\r\n",
       "i: Integer\r\n",
       "x: A\r\n",
       "}\r\n",
       "}\r\n",
       "E5 - -:|> E2 [[psysml:b362769d-1260-4065-9b83-621f0da47e8d ]] \r\n",
       "E6 - -:|> E2 [[psysml:03080077-3284-4bc2-8ec3-31a93274162e ]] \r\n",
       "@enduml\r\n",
       "\n",
       "PlantUML version 1.2020.13(Sat Jun 13 12:26:38 UTC 2020)\n",
       "(EPL source distribution)\n",
       "Java Runtime: OpenJDK Runtime Environment\n",
       "JVM: OpenJDK 64-Bit Server VM\n",
       "Default Encoding: UTF-8\n",
       "Language: en\n",
       "Country: null\n",
       "--></g></svg>"
      ]
     },
     "execution_count": 22,
     "metadata": {},
     "output_type": "execute_result"
    }
   ],
   "source": [
    "%viz --style=\"LR\" --view=\"MIXED\" \"MultiplicityTest\""
   ]
  },
  {
   "cell_type": "code",
   "execution_count": 23,
   "id": "2f1ea5ef",
   "metadata": {
    "execution": {
     "iopub.execute_input": "2022-02-05T16:56:09.807389Z",
     "iopub.status.busy": "2022-02-05T16:56:09.806972Z",
     "iopub.status.idle": "2022-02-05T16:56:09.864265Z",
     "shell.execute_reply": "2022-02-05T16:56:09.863908Z"
    }
   },
   "outputs": [
    {
     "data": {
      "image/svg+xml": [
       "<?xml version=\"1.0\" encoding=\"UTF-8\" standalone=\"no\"?><svg xmlns=\"http://www.w3.org/2000/svg\" xmlns:xlink=\"http://www.w3.org/1999/xlink\" contentScriptType=\"application/ecmascript\" contentStyleType=\"text/css\" height=\"263px\" preserveAspectRatio=\"none\" style=\"width:816px;height:263px;\" version=\"1.1\" viewBox=\"0 0 816 263\" width=\"816px\" zoomAndPan=\"magnify\"><defs><filter height=\"300%\" id=\"f18bioo7glojd6\" width=\"300%\" x=\"-1\" y=\"-1\"><feGaussianBlur result=\"blurOut\" stdDeviation=\"2.0\"/><feColorMatrix in=\"blurOut\" result=\"blurOut2\" type=\"matrix\" values=\"0 0 0 0 0 0 0 0 0 0 0 0 0 0 0 0 0 0 .4 0\"/><feOffset dx=\"4.0\" dy=\"4.0\" in=\"blurOut2\" result=\"blurOut3\"/><feBlend in=\"SourceGraphic\" in2=\"blurOut3\" mode=\"normal\"/></filter></defs><g><!--MD5=[fbc87193dbaf4d95561dea2c320d4a47]\n",
       "cluster E1--><a href=\"psysml:e445ccd1-d7b4-46a5-bbe0-1ba908b830dd\" target=\"_top\" title=\"psysml:e445ccd1-d7b4-46a5-bbe0-1ba908b830dd\" xlink:actuate=\"onRequest\" xlink:href=\"psysml:e445ccd1-d7b4-46a5-bbe0-1ba908b830dd\" xlink:show=\"new\" xlink:title=\"psysml:e445ccd1-d7b4-46a5-bbe0-1ba908b830dd\" xlink:type=\"simple\"><polygon fill=\"#FFFFFF\" filter=\"url(#f18bioo7glojd6)\" points=\"16,6,123,6,130,28.2969,794,28.2969,794,251,16,251,16,6\" style=\"stroke: #000000; stroke-width: 1.5;\"/><line style=\"stroke: #000000; stroke-width: 1.5;\" x1=\"16\" x2=\"130\" y1=\"28.2969\" y2=\"28.2969\"/><text fill=\"#000000\" font-family=\"sans-serif\" font-size=\"14\" font-weight=\"bold\" lengthAdjust=\"spacingAndGlyphs\" textLength=\"101\" x=\"20\" y=\"20.9951\">MultiplicityTest</text></a><!--MD5=[b4997ac47864f28c2f74865a473b2911]\n",
       "class E2--><a href=\"psysml:7d5bba99-ceb9-4796-b455-cbfdc331a9aa\" target=\"_top\" title=\"psysml:7d5bba99-ceb9-4796-b455-cbfdc331a9aa\" xlink:actuate=\"onRequest\" xlink:href=\"psysml:7d5bba99-ceb9-4796-b455-cbfdc331a9aa\" xlink:show=\"new\" xlink:title=\"psysml:7d5bba99-ceb9-4796-b455-cbfdc331a9aa\" xlink:type=\"simple\"><rect fill=\"#FEFECE\" filter=\"url(#f18bioo7glojd6)\" height=\"45.9375\" id=\"E2\" style=\"stroke: #A80036; stroke-width: 1.5;\" width=\"70\" x=\"499\" y=\"189\"/><text fill=\"#000000\" font-family=\"sans-serif\" font-size=\"12\" font-style=\"italic\" lengthAdjust=\"spacingAndGlyphs\" textLength=\"68\" x=\"500\" y=\"205.1387\">«part  def»</text><text fill=\"#000000\" font-family=\"sans-serif\" font-size=\"12\" lengthAdjust=\"spacingAndGlyphs\" textLength=\"8\" x=\"530\" y=\"219.1074\">P</text><line style=\"stroke: #A80036; stroke-width: 1.5;\" x1=\"500\" x2=\"568\" y1=\"226.9375\" y2=\"226.9375\"/></a><!--MD5=[09b614a08d8cba4a07c9adeb5e0fee81]\n",
       "class E3--><a href=\"psysml:ec541e3b-6371-48bf-8290-c0b2a0f88f52\" target=\"_top\" title=\"psysml:ec541e3b-6371-48bf-8290-c0b2a0f88f52\" xlink:actuate=\"onRequest\" xlink:href=\"psysml:ec541e3b-6371-48bf-8290-c0b2a0f88f52\" xlink:show=\"new\" xlink:title=\"psysml:ec541e3b-6371-48bf-8290-c0b2a0f88f52\" xlink:type=\"simple\"><rect fill=\"#FEFECE\" filter=\"url(#f18bioo7glojd6)\" height=\"45.9375\" id=\"E3\" rx=\"10\" ry=\"10\" style=\"stroke: #A80036; stroke-width: 1.5;\" width=\"71\" x=\"706.5\" y=\"62\"/><text fill=\"#000000\" font-family=\"sans-serif\" font-size=\"12\" font-style=\"italic\" lengthAdjust=\"spacingAndGlyphs\" textLength=\"69\" x=\"707.5\" y=\"78.1387\">«attribute»</text><text fill=\"#000000\" font-family=\"sans-serif\" font-size=\"12\" lengthAdjust=\"spacingAndGlyphs\" textLength=\"61\" x=\"709.5\" y=\"92.1074\">n: Integer</text><line style=\"stroke: #A80036; stroke-width: 1.5;\" x1=\"707.5\" x2=\"776.5\" y1=\"99.9375\" y2=\"99.9375\"/></a><!--MD5=[ebbe1d658d1005bcc118a6aa81145e00]\n",
       "class E4--><a href=\"psysml:0bccd947-b2f6-485e-9c27-5cc482a56716\" target=\"_top\" title=\"psysml:0bccd947-b2f6-485e-9c27-5cc482a56716\" xlink:actuate=\"onRequest\" xlink:href=\"psysml:0bccd947-b2f6-485e-9c27-5cc482a56716\" xlink:show=\"new\" xlink:title=\"psysml:0bccd947-b2f6-485e-9c27-5cc482a56716\" xlink:type=\"simple\"><rect fill=\"#FEFECE\" filter=\"url(#f18bioo7glojd6)\" height=\"45.9375\" id=\"E4\" rx=\"10\" ry=\"10\" style=\"stroke: #A80036; stroke-width: 1.5;\" width=\"42\" x=\"629\" y=\"62\"/><text fill=\"#000000\" font-family=\"sans-serif\" font-size=\"12\" font-style=\"italic\" lengthAdjust=\"spacingAndGlyphs\" textLength=\"40\" x=\"630\" y=\"78.1387\">«part»</text><text fill=\"#000000\" font-family=\"sans-serif\" font-size=\"12\" lengthAdjust=\"spacingAndGlyphs\" textLength=\"8\" x=\"644\" y=\"92.1074\">a</text><line style=\"stroke: #A80036; stroke-width: 1.5;\" x1=\"630\" x2=\"670\" y1=\"99.9375\" y2=\"99.9375\"/></a><!--MD5=[270fce915f116d4de14055a7c1d9a0f3]\n",
       "class E5--><a href=\"psysml:3563b5dd-e50a-438e-94ba-a5b38ab6df54\" target=\"_top\" title=\"psysml:3563b5dd-e50a-438e-94ba-a5b38ab6df54\" xlink:actuate=\"onRequest\" xlink:href=\"psysml:3563b5dd-e50a-438e-94ba-a5b38ab6df54\" xlink:show=\"new\" xlink:title=\"psysml:3563b5dd-e50a-438e-94ba-a5b38ab6df54\" xlink:type=\"simple\"><rect fill=\"#FEFECE\" filter=\"url(#f18bioo7glojd6)\" height=\"45.9375\" id=\"E5\" rx=\"10\" ry=\"10\" style=\"stroke: #A80036; stroke-width: 1.5;\" width=\"42\" x=\"552\" y=\"62\"/><text fill=\"#000000\" font-family=\"sans-serif\" font-size=\"12\" font-style=\"italic\" lengthAdjust=\"spacingAndGlyphs\" textLength=\"40\" x=\"553\" y=\"78.1387\">«part»</text><text fill=\"#000000\" font-family=\"sans-serif\" font-size=\"12\" lengthAdjust=\"spacingAndGlyphs\" textLength=\"24\" x=\"559\" y=\"92.1074\">b: P</text><line style=\"stroke: #A80036; stroke-width: 1.5;\" x1=\"553\" x2=\"593\" y1=\"99.9375\" y2=\"99.9375\"/></a><!--MD5=[60a26617385b1d2d0262a64233df1f8d]\n",
       "class E6--><a href=\"psysml:61a7c4a1-1480-402d-a8df-76594b39497b\" target=\"_top\" title=\"psysml:61a7c4a1-1480-402d-a8df-76594b39497b\" xlink:actuate=\"onRequest\" xlink:href=\"psysml:61a7c4a1-1480-402d-a8df-76594b39497b\" xlink:show=\"new\" xlink:title=\"psysml:61a7c4a1-1480-402d-a8df-76594b39497b\" xlink:type=\"simple\"><rect fill=\"#FEFECE\" filter=\"url(#f18bioo7glojd6)\" height=\"45.9375\" id=\"E6\" rx=\"10\" ry=\"10\" style=\"stroke: #A80036; stroke-width: 1.5;\" width=\"42\" x=\"475\" y=\"62\"/><text fill=\"#000000\" font-family=\"sans-serif\" font-size=\"12\" font-style=\"italic\" lengthAdjust=\"spacingAndGlyphs\" textLength=\"40\" x=\"476\" y=\"78.1387\">«part»</text><text fill=\"#000000\" font-family=\"sans-serif\" font-size=\"12\" lengthAdjust=\"spacingAndGlyphs\" textLength=\"23\" x=\"482.5\" y=\"92.1074\">c: P</text><line style=\"stroke: #A80036; stroke-width: 1.5;\" x1=\"476\" x2=\"516\" y1=\"99.9375\" y2=\"99.9375\"/></a><!--MD5=[2156ba9850f5573cc1fc38a6a4b2f02b]\n",
       "class E7--><a href=\"psysml:f3d0dfc0-0dbb-4454-830c-43cee9c0f8af\" target=\"_top\" title=\"psysml:f3d0dfc0-0dbb-4454-830c-43cee9c0f8af\" xlink:actuate=\"onRequest\" xlink:href=\"psysml:f3d0dfc0-0dbb-4454-830c-43cee9c0f8af\" xlink:show=\"new\" xlink:title=\"psysml:f3d0dfc0-0dbb-4454-830c-43cee9c0f8af\" xlink:type=\"simple\"><rect fill=\"#FEFECE\" filter=\"url(#f18bioo7glojd6)\" height=\"45.9375\" id=\"E7\" rx=\"10\" ry=\"10\" style=\"stroke: #A80036; stroke-width: 1.5;\" width=\"42\" x=\"398\" y=\"62\"/><text fill=\"#000000\" font-family=\"sans-serif\" font-size=\"12\" font-style=\"italic\" lengthAdjust=\"spacingAndGlyphs\" textLength=\"40\" x=\"399\" y=\"78.1387\">«part»</text><text fill=\"#000000\" font-family=\"sans-serif\" font-size=\"12\" lengthAdjust=\"spacingAndGlyphs\" textLength=\"8\" x=\"413\" y=\"92.1074\">d</text><line style=\"stroke: #A80036; stroke-width: 1.5;\" x1=\"399\" x2=\"439\" y1=\"99.9375\" y2=\"99.9375\"/></a><!--MD5=[b9389687b975829384b498ac4b7476b2]\n",
       "class E8--><a href=\"psysml:470ebeae-9c21-45dc-92b7-3ec0bcac92c0\" target=\"_top\" title=\"psysml:470ebeae-9c21-45dc-92b7-3ec0bcac92c0\" xlink:actuate=\"onRequest\" xlink:href=\"psysml:470ebeae-9c21-45dc-92b7-3ec0bcac92c0\" xlink:show=\"new\" xlink:title=\"psysml:470ebeae-9c21-45dc-92b7-3ec0bcac92c0\" xlink:type=\"simple\"><rect fill=\"#FEFECE\" filter=\"url(#f18bioo7glojd6)\" height=\"45.9375\" id=\"E8\" rx=\"10\" ry=\"10\" style=\"stroke: #A80036; stroke-width: 1.5;\" width=\"42\" x=\"321\" y=\"62\"/><text fill=\"#000000\" font-family=\"sans-serif\" font-size=\"12\" font-style=\"italic\" lengthAdjust=\"spacingAndGlyphs\" textLength=\"40\" x=\"322\" y=\"78.1387\">«part»</text><text fill=\"#000000\" font-family=\"sans-serif\" font-size=\"12\" lengthAdjust=\"spacingAndGlyphs\" textLength=\"8\" x=\"336\" y=\"92.1074\">e</text><line style=\"stroke: #A80036; stroke-width: 1.5;\" x1=\"322\" x2=\"362\" y1=\"99.9375\" y2=\"99.9375\"/></a><!--MD5=[fd4143e9d270a159db93a4ea2a975926]\n",
       "class E9--><a href=\"psysml:e3b105f8-a02a-4959-8fa9-8da786795f1e\" target=\"_top\" title=\"psysml:e3b105f8-a02a-4959-8fa9-8da786795f1e\" xlink:actuate=\"onRequest\" xlink:href=\"psysml:e3b105f8-a02a-4959-8fa9-8da786795f1e\" xlink:show=\"new\" xlink:title=\"psysml:e3b105f8-a02a-4959-8fa9-8da786795f1e\" xlink:type=\"simple\"><rect fill=\"#FEFECE\" filter=\"url(#f18bioo7glojd6)\" height=\"45.9375\" id=\"E9\" rx=\"10\" ry=\"10\" style=\"stroke: #A80036; stroke-width: 1.5;\" width=\"42\" x=\"244\" y=\"62\"/><text fill=\"#000000\" font-family=\"sans-serif\" font-size=\"12\" font-style=\"italic\" lengthAdjust=\"spacingAndGlyphs\" textLength=\"40\" x=\"245\" y=\"78.1387\">«part»</text><text fill=\"#000000\" font-family=\"sans-serif\" font-size=\"12\" lengthAdjust=\"spacingAndGlyphs\" textLength=\"4\" x=\"261\" y=\"92.1074\">f</text><line style=\"stroke: #A80036; stroke-width: 1.5;\" x1=\"245\" x2=\"285\" y1=\"99.9375\" y2=\"99.9375\"/></a><!--MD5=[96f4274e9e20536e775497830990834d]\n",
       "class E10--><a href=\"psysml:0b08e64f-1d74-4a65-b189-b5a78b2f5a03\" target=\"_top\" title=\"psysml:0b08e64f-1d74-4a65-b189-b5a78b2f5a03\" xlink:actuate=\"onRequest\" xlink:href=\"psysml:0b08e64f-1d74-4a65-b189-b5a78b2f5a03\" xlink:show=\"new\" xlink:title=\"psysml:0b08e64f-1d74-4a65-b189-b5a78b2f5a03\" xlink:type=\"simple\"><rect fill=\"#FEFECE\" filter=\"url(#f18bioo7glojd6)\" height=\"45.9375\" id=\"E10\" rx=\"10\" ry=\"10\" style=\"stroke: #A80036; stroke-width: 1.5;\" width=\"42\" x=\"167\" y=\"62\"/><text fill=\"#000000\" font-family=\"sans-serif\" font-size=\"12\" font-style=\"italic\" lengthAdjust=\"spacingAndGlyphs\" textLength=\"40\" x=\"168\" y=\"78.1387\">«part»</text><text fill=\"#000000\" font-family=\"sans-serif\" font-size=\"12\" lengthAdjust=\"spacingAndGlyphs\" textLength=\"8\" x=\"182\" y=\"92.1074\">g</text><line style=\"stroke: #A80036; stroke-width: 1.5;\" x1=\"168\" x2=\"208\" y1=\"99.9375\" y2=\"99.9375\"/></a><!--MD5=[1dd1bfd58a279cf63c5f349dbc8fc6a1]\n",
       "class E11--><a href=\"psysml:d2ba3396-0b46-40b3-bbf4-49972d7872ff\" target=\"_top\" title=\"psysml:d2ba3396-0b46-40b3-bbf4-49972d7872ff\" xlink:actuate=\"onRequest\" xlink:href=\"psysml:d2ba3396-0b46-40b3-bbf4-49972d7872ff\" xlink:show=\"new\" xlink:title=\"psysml:d2ba3396-0b46-40b3-bbf4-49972d7872ff\" xlink:type=\"simple\"><rect fill=\"#FEFECE\" filter=\"url(#f18bioo7glojd6)\" height=\"88.3516\" id=\"E11\" style=\"stroke: #A80036; stroke-width: 1.5;\" width=\"99\" x=\"32.5\" y=\"41\"/><text fill=\"#000000\" font-family=\"sans-serif\" font-size=\"12\" font-style=\"italic\" lengthAdjust=\"spacingAndGlyphs\" textLength=\"97\" x=\"33.5\" y=\"57.1387\">«attribute  def»</text><text fill=\"#000000\" font-family=\"sans-serif\" font-size=\"12\" lengthAdjust=\"spacingAndGlyphs\" textLength=\"8\" x=\"78\" y=\"71.1074\">A</text><line style=\"stroke: #A80036; stroke-width: 1.5;\" x1=\"33.5\" x2=\"130.5\" y1=\"78.9375\" y2=\"78.9375\"/><text fill=\"#000000\" font-family=\"sans-serif\" font-size=\"11\" lengthAdjust=\"spacingAndGlyphs\" textLength=\"51\" x=\"38.5\" y=\"109.9526\">i: Integer</text><text fill=\"#000000\" font-family=\"sans-serif\" font-size=\"11\" lengthAdjust=\"spacingAndGlyphs\" textLength=\"21\" x=\"38.5\" y=\"122.7573\">x: A</text><line style=\"stroke: #A80036; stroke-width: 1.0;\" x1=\"33.5\" x2=\"54.5\" y1=\"93.3398\" y2=\"93.3398\"/><text fill=\"#000000\" font-family=\"sans-serif\" font-size=\"11\" lengthAdjust=\"spacingAndGlyphs\" textLength=\"55\" x=\"54.5\" y=\"96.6479\">attributes</text><line style=\"stroke: #A80036; stroke-width: 1.0;\" x1=\"109.5\" x2=\"130.5\" y1=\"93.3398\" y2=\"93.3398\"/></a><!--MD5=[15ebcb19ae302d9b601edb458606d402]\n",
       "link E5 to E2--><a href=\"psysml:b362769d-1260-4065-9b83-621f0da47e8d\" target=\"_top\" title=\"psysml:b362769d-1260-4065-9b83-621f0da47e8d\" xlink:actuate=\"onRequest\" xlink:href=\"psysml:b362769d-1260-4065-9b83-621f0da47e8d\" xlink:show=\"new\" xlink:title=\"psysml:b362769d-1260-4065-9b83-621f0da47e8d\" xlink:type=\"simple\"><path d=\"M566.12,108.06 C560.83,125 553.38,148.89 546.98,169.39 \" fill=\"none\" id=\"E5-&gt;E2\" style=\"stroke: #A80036; stroke-width: 1.0;\"/><polygon fill=\"#FFFFFF\" points=\"540.95,188.74,539.929,168.5173,553.2931,172.6886,540.95,188.74\" style=\"stroke: #A80036; stroke-width: 1.0;\"/><ellipse cx=\"543.5364\" cy=\"163.6721\" fill=\"#A80036\" rx=\"2\" ry=\"2\" style=\"stroke: #A80036; stroke-width: 1.0;\"/><ellipse cx=\"553.0823\" cy=\"166.6516\" fill=\"#A80036\" rx=\"2\" ry=\"2\" style=\"stroke: #A80036; stroke-width: 1.0;\"/></a><!--MD5=[2351f337d6de0f557b50152ba70847b5]\n",
       "link E6 to E2--><a href=\"psysml:03080077-3284-4bc2-8ec3-31a93274162e\" target=\"_top\" title=\"psysml:03080077-3284-4bc2-8ec3-31a93274162e\" xlink:actuate=\"onRequest\" xlink:href=\"psysml:03080077-3284-4bc2-8ec3-31a93274162e\" xlink:show=\"new\" xlink:title=\"psysml:03080077-3284-4bc2-8ec3-31a93274162e\" xlink:type=\"simple\"><path d=\"M502.71,108.06 C507.86,125 515.12,148.89 521.35,169.39 \" fill=\"none\" id=\"E6-&gt;E2\" style=\"stroke: #A80036; stroke-width: 1.0;\"/><polygon fill=\"#FFFFFF\" points=\"527.23,188.74,515.007,172.597,528.4019,168.5255,527.23,188.74\" style=\"stroke: #A80036; stroke-width: 1.0;\"/><ellipse cx=\"515.2628\" cy=\"166.5617\" fill=\"#A80036\" rx=\"2\" ry=\"2\" style=\"stroke: #A80036; stroke-width: 1.0;\"/><ellipse cx=\"524.8306\" cy=\"163.6535\" fill=\"#A80036\" rx=\"2\" ry=\"2\" style=\"stroke: #A80036; stroke-width: 1.0;\"/></a><!--MD5=[6b6859213223fe5ecaaba04af92fb4a7]\n",
       "@startuml\r\n",
       "skinparam wrapWidth 300\r\n",
       "hide circle\r\n",
       "\r\n",
       "package \"MultiplicityTest\" as E1  [[psysml:e445ccd1-d7b4-46a5-bbe0-1ba908b830dd ]]  {\r\n",
       "comp def \"P\" as E2  <<(T,blue) part  def>> [[psysml:7d5bba99-ceb9-4796-b455-cbfdc331a9aa ]] {\r\n",
       "}\r\n",
       "comp usage \"n: Integer \" as E3  <<(T,blue) attribute>> [[psysml:ec541e3b-6371-48bf-8290-c0b2a0f88f52 ]] {\r\n",
       "}\r\n",
       "comp usage \"a \" as E4  <<(T,blue) part>> [[psysml:0bccd947-b2f6-485e-9c27-5cc482a56716 ]] {\r\n",
       "}\r\n",
       "comp usage \"b: P \" as E5  <<(T,blue) part>> [[psysml:3563b5dd-e50a-438e-94ba-a5b38ab6df54 ]] {\r\n",
       "}\r\n",
       "comp usage \"c: P \" as E6  <<(T,blue) part>> [[psysml:61a7c4a1-1480-402d-a8df-76594b39497b ]] {\r\n",
       "}\r\n",
       "comp usage \"d \" as E7  <<(T,blue) part>> [[psysml:f3d0dfc0-0dbb-4454-830c-43cee9c0f8af ]] {\r\n",
       "}\r\n",
       "comp usage \"e \" as E8  <<(T,blue) part>> [[psysml:470ebeae-9c21-45dc-92b7-3ec0bcac92c0 ]] {\r\n",
       "}\r\n",
       "comp usage \"f \" as E9  <<(T,blue) part>> [[psysml:e3b105f8-a02a-4959-8fa9-8da786795f1e ]] {\r\n",
       "}\r\n",
       "comp usage \"g \" as E10  <<(T,blue) part>> [[psysml:0b08e64f-1d74-4a65-b189-b5a78b2f5a03 ]] {\r\n",
       "}\r\n",
       "comp def \"A\" as E11  <<(T,blue) attribute  def>> [[psysml:d2ba3396-0b46-40b3-bbf4-49972d7872ff ]] {\r\n",
       "- - attributes - -\r\n",
       "i: Integer\r\n",
       "x: A\r\n",
       "}\r\n",
       "}\r\n",
       "E5 - -:|> E2 [[psysml:b362769d-1260-4065-9b83-621f0da47e8d ]] \r\n",
       "E6 - -:|> E2 [[psysml:03080077-3284-4bc2-8ec3-31a93274162e ]] \r\n",
       "@enduml\r\n",
       "\n",
       "PlantUML version 1.2020.13(Sat Jun 13 12:26:38 UTC 2020)\n",
       "(EPL source distribution)\n",
       "Java Runtime: OpenJDK Runtime Environment\n",
       "JVM: OpenJDK 64-Bit Server VM\n",
       "Default Encoding: UTF-8\n",
       "Language: en\n",
       "Country: null\n",
       "--></g></svg>"
      ]
     },
     "execution_count": 23,
     "metadata": {},
     "output_type": "execute_result"
    }
   ],
   "source": [
    "%viz --style=\"STDCOLOR\" --view=\"Default\" \"MultiplicityTest\""
   ]
  },
  {
   "cell_type": "code",
   "execution_count": 24,
   "id": "4ed463aa",
   "metadata": {
    "execution": {
     "iopub.execute_input": "2022-02-05T16:56:09.913777Z",
     "iopub.status.busy": "2022-02-05T16:56:09.913381Z",
     "iopub.status.idle": "2022-02-05T16:56:09.980953Z",
     "shell.execute_reply": "2022-02-05T16:56:09.980601Z"
    }
   },
   "outputs": [
    {
     "data": {
      "image/svg+xml": [
       "<?xml version=\"1.0\" encoding=\"UTF-8\" standalone=\"no\"?><svg xmlns=\"http://www.w3.org/2000/svg\" xmlns:xlink=\"http://www.w3.org/1999/xlink\" contentScriptType=\"application/ecmascript\" contentStyleType=\"text/css\" height=\"263px\" preserveAspectRatio=\"none\" style=\"width:816px;height:263px;\" version=\"1.1\" viewBox=\"0 0 816 263\" width=\"816px\" zoomAndPan=\"magnify\"><defs><filter height=\"300%\" id=\"f18bioo7glojd6\" width=\"300%\" x=\"-1\" y=\"-1\"><feGaussianBlur result=\"blurOut\" stdDeviation=\"2.0\"/><feColorMatrix in=\"blurOut\" result=\"blurOut2\" type=\"matrix\" values=\"0 0 0 0 0 0 0 0 0 0 0 0 0 0 0 0 0 0 .4 0\"/><feOffset dx=\"4.0\" dy=\"4.0\" in=\"blurOut2\" result=\"blurOut3\"/><feBlend in=\"SourceGraphic\" in2=\"blurOut3\" mode=\"normal\"/></filter></defs><g><!--MD5=[fbc87193dbaf4d95561dea2c320d4a47]\n",
       "cluster E1--><a href=\"psysml:e445ccd1-d7b4-46a5-bbe0-1ba908b830dd\" target=\"_top\" title=\"psysml:e445ccd1-d7b4-46a5-bbe0-1ba908b830dd\" xlink:actuate=\"onRequest\" xlink:href=\"psysml:e445ccd1-d7b4-46a5-bbe0-1ba908b830dd\" xlink:show=\"new\" xlink:title=\"psysml:e445ccd1-d7b4-46a5-bbe0-1ba908b830dd\" xlink:type=\"simple\"><polygon fill=\"#FFFFFF\" filter=\"url(#f18bioo7glojd6)\" points=\"16,6,123,6,130,28.2969,794,28.2969,794,251,16,251,16,6\" style=\"stroke: #000000; stroke-width: 1.5;\"/><line style=\"stroke: #000000; stroke-width: 1.5;\" x1=\"16\" x2=\"130\" y1=\"28.2969\" y2=\"28.2969\"/><text fill=\"#000000\" font-family=\"sans-serif\" font-size=\"14\" font-weight=\"bold\" lengthAdjust=\"spacingAndGlyphs\" textLength=\"101\" x=\"20\" y=\"20.9951\">MultiplicityTest</text></a><!--MD5=[b4997ac47864f28c2f74865a473b2911]\n",
       "class E2--><a href=\"psysml:7d5bba99-ceb9-4796-b455-cbfdc331a9aa\" target=\"_top\" title=\"psysml:7d5bba99-ceb9-4796-b455-cbfdc331a9aa\" xlink:actuate=\"onRequest\" xlink:href=\"psysml:7d5bba99-ceb9-4796-b455-cbfdc331a9aa\" xlink:show=\"new\" xlink:title=\"psysml:7d5bba99-ceb9-4796-b455-cbfdc331a9aa\" xlink:type=\"simple\"><rect fill=\"#FEFECE\" filter=\"url(#f18bioo7glojd6)\" height=\"45.9375\" id=\"E2\" style=\"stroke: #A80036; stroke-width: 1.5;\" width=\"70\" x=\"499\" y=\"189\"/><text fill=\"#000000\" font-family=\"sans-serif\" font-size=\"12\" font-style=\"italic\" lengthAdjust=\"spacingAndGlyphs\" textLength=\"68\" x=\"500\" y=\"205.1387\">«part  def»</text><text fill=\"#000000\" font-family=\"sans-serif\" font-size=\"12\" lengthAdjust=\"spacingAndGlyphs\" textLength=\"8\" x=\"530\" y=\"219.1074\">P</text><line style=\"stroke: #A80036; stroke-width: 1.5;\" x1=\"500\" x2=\"568\" y1=\"226.9375\" y2=\"226.9375\"/></a><!--MD5=[09b614a08d8cba4a07c9adeb5e0fee81]\n",
       "class E3--><a href=\"psysml:ec541e3b-6371-48bf-8290-c0b2a0f88f52\" target=\"_top\" title=\"psysml:ec541e3b-6371-48bf-8290-c0b2a0f88f52\" xlink:actuate=\"onRequest\" xlink:href=\"psysml:ec541e3b-6371-48bf-8290-c0b2a0f88f52\" xlink:show=\"new\" xlink:title=\"psysml:ec541e3b-6371-48bf-8290-c0b2a0f88f52\" xlink:type=\"simple\"><rect fill=\"#FEFECE\" filter=\"url(#f18bioo7glojd6)\" height=\"45.9375\" id=\"E3\" rx=\"10\" ry=\"10\" style=\"stroke: #A80036; stroke-width: 1.5;\" width=\"71\" x=\"706.5\" y=\"62\"/><text fill=\"#000000\" font-family=\"sans-serif\" font-size=\"12\" font-style=\"italic\" lengthAdjust=\"spacingAndGlyphs\" textLength=\"69\" x=\"707.5\" y=\"78.1387\">«attribute»</text><text fill=\"#000000\" font-family=\"sans-serif\" font-size=\"12\" lengthAdjust=\"spacingAndGlyphs\" textLength=\"61\" x=\"709.5\" y=\"92.1074\">n: Integer</text><line style=\"stroke: #A80036; stroke-width: 1.5;\" x1=\"707.5\" x2=\"776.5\" y1=\"99.9375\" y2=\"99.9375\"/></a><!--MD5=[ebbe1d658d1005bcc118a6aa81145e00]\n",
       "class E4--><a href=\"psysml:0bccd947-b2f6-485e-9c27-5cc482a56716\" target=\"_top\" title=\"psysml:0bccd947-b2f6-485e-9c27-5cc482a56716\" xlink:actuate=\"onRequest\" xlink:href=\"psysml:0bccd947-b2f6-485e-9c27-5cc482a56716\" xlink:show=\"new\" xlink:title=\"psysml:0bccd947-b2f6-485e-9c27-5cc482a56716\" xlink:type=\"simple\"><rect fill=\"#FEFECE\" filter=\"url(#f18bioo7glojd6)\" height=\"45.9375\" id=\"E4\" rx=\"10\" ry=\"10\" style=\"stroke: #A80036; stroke-width: 1.5;\" width=\"42\" x=\"629\" y=\"62\"/><text fill=\"#000000\" font-family=\"sans-serif\" font-size=\"12\" font-style=\"italic\" lengthAdjust=\"spacingAndGlyphs\" textLength=\"40\" x=\"630\" y=\"78.1387\">«part»</text><text fill=\"#000000\" font-family=\"sans-serif\" font-size=\"12\" lengthAdjust=\"spacingAndGlyphs\" textLength=\"8\" x=\"644\" y=\"92.1074\">a</text><line style=\"stroke: #A80036; stroke-width: 1.5;\" x1=\"630\" x2=\"670\" y1=\"99.9375\" y2=\"99.9375\"/></a><!--MD5=[270fce915f116d4de14055a7c1d9a0f3]\n",
       "class E5--><a href=\"psysml:3563b5dd-e50a-438e-94ba-a5b38ab6df54\" target=\"_top\" title=\"psysml:3563b5dd-e50a-438e-94ba-a5b38ab6df54\" xlink:actuate=\"onRequest\" xlink:href=\"psysml:3563b5dd-e50a-438e-94ba-a5b38ab6df54\" xlink:show=\"new\" xlink:title=\"psysml:3563b5dd-e50a-438e-94ba-a5b38ab6df54\" xlink:type=\"simple\"><rect fill=\"#FEFECE\" filter=\"url(#f18bioo7glojd6)\" height=\"45.9375\" id=\"E5\" rx=\"10\" ry=\"10\" style=\"stroke: #A80036; stroke-width: 1.5;\" width=\"42\" x=\"552\" y=\"62\"/><text fill=\"#000000\" font-family=\"sans-serif\" font-size=\"12\" font-style=\"italic\" lengthAdjust=\"spacingAndGlyphs\" textLength=\"40\" x=\"553\" y=\"78.1387\">«part»</text><text fill=\"#000000\" font-family=\"sans-serif\" font-size=\"12\" lengthAdjust=\"spacingAndGlyphs\" textLength=\"24\" x=\"559\" y=\"92.1074\">b: P</text><line style=\"stroke: #A80036; stroke-width: 1.5;\" x1=\"553\" x2=\"593\" y1=\"99.9375\" y2=\"99.9375\"/></a><!--MD5=[60a26617385b1d2d0262a64233df1f8d]\n",
       "class E6--><a href=\"psysml:61a7c4a1-1480-402d-a8df-76594b39497b\" target=\"_top\" title=\"psysml:61a7c4a1-1480-402d-a8df-76594b39497b\" xlink:actuate=\"onRequest\" xlink:href=\"psysml:61a7c4a1-1480-402d-a8df-76594b39497b\" xlink:show=\"new\" xlink:title=\"psysml:61a7c4a1-1480-402d-a8df-76594b39497b\" xlink:type=\"simple\"><rect fill=\"#FEFECE\" filter=\"url(#f18bioo7glojd6)\" height=\"45.9375\" id=\"E6\" rx=\"10\" ry=\"10\" style=\"stroke: #A80036; stroke-width: 1.5;\" width=\"42\" x=\"475\" y=\"62\"/><text fill=\"#000000\" font-family=\"sans-serif\" font-size=\"12\" font-style=\"italic\" lengthAdjust=\"spacingAndGlyphs\" textLength=\"40\" x=\"476\" y=\"78.1387\">«part»</text><text fill=\"#000000\" font-family=\"sans-serif\" font-size=\"12\" lengthAdjust=\"spacingAndGlyphs\" textLength=\"23\" x=\"482.5\" y=\"92.1074\">c: P</text><line style=\"stroke: #A80036; stroke-width: 1.5;\" x1=\"476\" x2=\"516\" y1=\"99.9375\" y2=\"99.9375\"/></a><!--MD5=[2156ba9850f5573cc1fc38a6a4b2f02b]\n",
       "class E7--><a href=\"psysml:f3d0dfc0-0dbb-4454-830c-43cee9c0f8af\" target=\"_top\" title=\"psysml:f3d0dfc0-0dbb-4454-830c-43cee9c0f8af\" xlink:actuate=\"onRequest\" xlink:href=\"psysml:f3d0dfc0-0dbb-4454-830c-43cee9c0f8af\" xlink:show=\"new\" xlink:title=\"psysml:f3d0dfc0-0dbb-4454-830c-43cee9c0f8af\" xlink:type=\"simple\"><rect fill=\"#FEFECE\" filter=\"url(#f18bioo7glojd6)\" height=\"45.9375\" id=\"E7\" rx=\"10\" ry=\"10\" style=\"stroke: #A80036; stroke-width: 1.5;\" width=\"42\" x=\"398\" y=\"62\"/><text fill=\"#000000\" font-family=\"sans-serif\" font-size=\"12\" font-style=\"italic\" lengthAdjust=\"spacingAndGlyphs\" textLength=\"40\" x=\"399\" y=\"78.1387\">«part»</text><text fill=\"#000000\" font-family=\"sans-serif\" font-size=\"12\" lengthAdjust=\"spacingAndGlyphs\" textLength=\"8\" x=\"413\" y=\"92.1074\">d</text><line style=\"stroke: #A80036; stroke-width: 1.5;\" x1=\"399\" x2=\"439\" y1=\"99.9375\" y2=\"99.9375\"/></a><!--MD5=[b9389687b975829384b498ac4b7476b2]\n",
       "class E8--><a href=\"psysml:470ebeae-9c21-45dc-92b7-3ec0bcac92c0\" target=\"_top\" title=\"psysml:470ebeae-9c21-45dc-92b7-3ec0bcac92c0\" xlink:actuate=\"onRequest\" xlink:href=\"psysml:470ebeae-9c21-45dc-92b7-3ec0bcac92c0\" xlink:show=\"new\" xlink:title=\"psysml:470ebeae-9c21-45dc-92b7-3ec0bcac92c0\" xlink:type=\"simple\"><rect fill=\"#FEFECE\" filter=\"url(#f18bioo7glojd6)\" height=\"45.9375\" id=\"E8\" rx=\"10\" ry=\"10\" style=\"stroke: #A80036; stroke-width: 1.5;\" width=\"42\" x=\"321\" y=\"62\"/><text fill=\"#000000\" font-family=\"sans-serif\" font-size=\"12\" font-style=\"italic\" lengthAdjust=\"spacingAndGlyphs\" textLength=\"40\" x=\"322\" y=\"78.1387\">«part»</text><text fill=\"#000000\" font-family=\"sans-serif\" font-size=\"12\" lengthAdjust=\"spacingAndGlyphs\" textLength=\"8\" x=\"336\" y=\"92.1074\">e</text><line style=\"stroke: #A80036; stroke-width: 1.5;\" x1=\"322\" x2=\"362\" y1=\"99.9375\" y2=\"99.9375\"/></a><!--MD5=[fd4143e9d270a159db93a4ea2a975926]\n",
       "class E9--><a href=\"psysml:e3b105f8-a02a-4959-8fa9-8da786795f1e\" target=\"_top\" title=\"psysml:e3b105f8-a02a-4959-8fa9-8da786795f1e\" xlink:actuate=\"onRequest\" xlink:href=\"psysml:e3b105f8-a02a-4959-8fa9-8da786795f1e\" xlink:show=\"new\" xlink:title=\"psysml:e3b105f8-a02a-4959-8fa9-8da786795f1e\" xlink:type=\"simple\"><rect fill=\"#FEFECE\" filter=\"url(#f18bioo7glojd6)\" height=\"45.9375\" id=\"E9\" rx=\"10\" ry=\"10\" style=\"stroke: #A80036; stroke-width: 1.5;\" width=\"42\" x=\"244\" y=\"62\"/><text fill=\"#000000\" font-family=\"sans-serif\" font-size=\"12\" font-style=\"italic\" lengthAdjust=\"spacingAndGlyphs\" textLength=\"40\" x=\"245\" y=\"78.1387\">«part»</text><text fill=\"#000000\" font-family=\"sans-serif\" font-size=\"12\" lengthAdjust=\"spacingAndGlyphs\" textLength=\"4\" x=\"261\" y=\"92.1074\">f</text><line style=\"stroke: #A80036; stroke-width: 1.5;\" x1=\"245\" x2=\"285\" y1=\"99.9375\" y2=\"99.9375\"/></a><!--MD5=[96f4274e9e20536e775497830990834d]\n",
       "class E10--><a href=\"psysml:0b08e64f-1d74-4a65-b189-b5a78b2f5a03\" target=\"_top\" title=\"psysml:0b08e64f-1d74-4a65-b189-b5a78b2f5a03\" xlink:actuate=\"onRequest\" xlink:href=\"psysml:0b08e64f-1d74-4a65-b189-b5a78b2f5a03\" xlink:show=\"new\" xlink:title=\"psysml:0b08e64f-1d74-4a65-b189-b5a78b2f5a03\" xlink:type=\"simple\"><rect fill=\"#FEFECE\" filter=\"url(#f18bioo7glojd6)\" height=\"45.9375\" id=\"E10\" rx=\"10\" ry=\"10\" style=\"stroke: #A80036; stroke-width: 1.5;\" width=\"42\" x=\"167\" y=\"62\"/><text fill=\"#000000\" font-family=\"sans-serif\" font-size=\"12\" font-style=\"italic\" lengthAdjust=\"spacingAndGlyphs\" textLength=\"40\" x=\"168\" y=\"78.1387\">«part»</text><text fill=\"#000000\" font-family=\"sans-serif\" font-size=\"12\" lengthAdjust=\"spacingAndGlyphs\" textLength=\"8\" x=\"182\" y=\"92.1074\">g</text><line style=\"stroke: #A80036; stroke-width: 1.5;\" x1=\"168\" x2=\"208\" y1=\"99.9375\" y2=\"99.9375\"/></a><!--MD5=[1dd1bfd58a279cf63c5f349dbc8fc6a1]\n",
       "class E11--><a href=\"psysml:d2ba3396-0b46-40b3-bbf4-49972d7872ff\" target=\"_top\" title=\"psysml:d2ba3396-0b46-40b3-bbf4-49972d7872ff\" xlink:actuate=\"onRequest\" xlink:href=\"psysml:d2ba3396-0b46-40b3-bbf4-49972d7872ff\" xlink:show=\"new\" xlink:title=\"psysml:d2ba3396-0b46-40b3-bbf4-49972d7872ff\" xlink:type=\"simple\"><rect fill=\"#FEFECE\" filter=\"url(#f18bioo7glojd6)\" height=\"88.3516\" id=\"E11\" style=\"stroke: #A80036; stroke-width: 1.5;\" width=\"99\" x=\"32.5\" y=\"41\"/><text fill=\"#000000\" font-family=\"sans-serif\" font-size=\"12\" font-style=\"italic\" lengthAdjust=\"spacingAndGlyphs\" textLength=\"97\" x=\"33.5\" y=\"57.1387\">«attribute  def»</text><text fill=\"#000000\" font-family=\"sans-serif\" font-size=\"12\" lengthAdjust=\"spacingAndGlyphs\" textLength=\"8\" x=\"78\" y=\"71.1074\">A</text><line style=\"stroke: #A80036; stroke-width: 1.5;\" x1=\"33.5\" x2=\"130.5\" y1=\"78.9375\" y2=\"78.9375\"/><text fill=\"#000000\" font-family=\"sans-serif\" font-size=\"11\" lengthAdjust=\"spacingAndGlyphs\" textLength=\"51\" x=\"38.5\" y=\"109.9526\">i: Integer</text><text fill=\"#000000\" font-family=\"sans-serif\" font-size=\"11\" lengthAdjust=\"spacingAndGlyphs\" textLength=\"21\" x=\"38.5\" y=\"122.7573\">x: A</text><line style=\"stroke: #A80036; stroke-width: 1.0;\" x1=\"33.5\" x2=\"54.5\" y1=\"93.3398\" y2=\"93.3398\"/><text fill=\"#000000\" font-family=\"sans-serif\" font-size=\"11\" lengthAdjust=\"spacingAndGlyphs\" textLength=\"55\" x=\"54.5\" y=\"96.6479\">attributes</text><line style=\"stroke: #A80036; stroke-width: 1.0;\" x1=\"109.5\" x2=\"130.5\" y1=\"93.3398\" y2=\"93.3398\"/></a><!--MD5=[15ebcb19ae302d9b601edb458606d402]\n",
       "link E5 to E2--><a href=\"psysml:b362769d-1260-4065-9b83-621f0da47e8d\" target=\"_top\" title=\"psysml:b362769d-1260-4065-9b83-621f0da47e8d\" xlink:actuate=\"onRequest\" xlink:href=\"psysml:b362769d-1260-4065-9b83-621f0da47e8d\" xlink:show=\"new\" xlink:title=\"psysml:b362769d-1260-4065-9b83-621f0da47e8d\" xlink:type=\"simple\"><path d=\"M566.12,108.06 C560.83,125 553.38,148.89 546.98,169.39 \" fill=\"none\" id=\"E5-&gt;E2\" style=\"stroke: #A80036; stroke-width: 1.0;\"/><polygon fill=\"#FFFFFF\" points=\"540.95,188.74,539.929,168.5173,553.2931,172.6886,540.95,188.74\" style=\"stroke: #A80036; stroke-width: 1.0;\"/><ellipse cx=\"543.5364\" cy=\"163.6721\" fill=\"#A80036\" rx=\"2\" ry=\"2\" style=\"stroke: #A80036; stroke-width: 1.0;\"/><ellipse cx=\"553.0823\" cy=\"166.6516\" fill=\"#A80036\" rx=\"2\" ry=\"2\" style=\"stroke: #A80036; stroke-width: 1.0;\"/></a><!--MD5=[2351f337d6de0f557b50152ba70847b5]\n",
       "link E6 to E2--><a href=\"psysml:03080077-3284-4bc2-8ec3-31a93274162e\" target=\"_top\" title=\"psysml:03080077-3284-4bc2-8ec3-31a93274162e\" xlink:actuate=\"onRequest\" xlink:href=\"psysml:03080077-3284-4bc2-8ec3-31a93274162e\" xlink:show=\"new\" xlink:title=\"psysml:03080077-3284-4bc2-8ec3-31a93274162e\" xlink:type=\"simple\"><path d=\"M502.71,108.06 C507.86,125 515.12,148.89 521.35,169.39 \" fill=\"none\" id=\"E6-&gt;E2\" style=\"stroke: #A80036; stroke-width: 1.0;\"/><polygon fill=\"#FFFFFF\" points=\"527.23,188.74,515.007,172.597,528.4019,168.5255,527.23,188.74\" style=\"stroke: #A80036; stroke-width: 1.0;\"/><ellipse cx=\"515.2628\" cy=\"166.5617\" fill=\"#A80036\" rx=\"2\" ry=\"2\" style=\"stroke: #A80036; stroke-width: 1.0;\"/><ellipse cx=\"524.8306\" cy=\"163.6535\" fill=\"#A80036\" rx=\"2\" ry=\"2\" style=\"stroke: #A80036; stroke-width: 1.0;\"/></a><!--MD5=[6b6859213223fe5ecaaba04af92fb4a7]\n",
       "@startuml\r\n",
       "skinparam wrapWidth 300\r\n",
       "hide circle\r\n",
       "\r\n",
       "package \"MultiplicityTest\" as E1  [[psysml:e445ccd1-d7b4-46a5-bbe0-1ba908b830dd ]]  {\r\n",
       "comp def \"P\" as E2  <<(T,blue) part  def>> [[psysml:7d5bba99-ceb9-4796-b455-cbfdc331a9aa ]] {\r\n",
       "}\r\n",
       "comp usage \"n: Integer \" as E3  <<(T,blue) attribute>> [[psysml:ec541e3b-6371-48bf-8290-c0b2a0f88f52 ]] {\r\n",
       "}\r\n",
       "comp usage \"a \" as E4  <<(T,blue) part>> [[psysml:0bccd947-b2f6-485e-9c27-5cc482a56716 ]] {\r\n",
       "}\r\n",
       "comp usage \"b: P \" as E5  <<(T,blue) part>> [[psysml:3563b5dd-e50a-438e-94ba-a5b38ab6df54 ]] {\r\n",
       "}\r\n",
       "comp usage \"c: P \" as E6  <<(T,blue) part>> [[psysml:61a7c4a1-1480-402d-a8df-76594b39497b ]] {\r\n",
       "}\r\n",
       "comp usage \"d \" as E7  <<(T,blue) part>> [[psysml:f3d0dfc0-0dbb-4454-830c-43cee9c0f8af ]] {\r\n",
       "}\r\n",
       "comp usage \"e \" as E8  <<(T,blue) part>> [[psysml:470ebeae-9c21-45dc-92b7-3ec0bcac92c0 ]] {\r\n",
       "}\r\n",
       "comp usage \"f \" as E9  <<(T,blue) part>> [[psysml:e3b105f8-a02a-4959-8fa9-8da786795f1e ]] {\r\n",
       "}\r\n",
       "comp usage \"g \" as E10  <<(T,blue) part>> [[psysml:0b08e64f-1d74-4a65-b189-b5a78b2f5a03 ]] {\r\n",
       "}\r\n",
       "comp def \"A\" as E11  <<(T,blue) attribute  def>> [[psysml:d2ba3396-0b46-40b3-bbf4-49972d7872ff ]] {\r\n",
       "- - attributes - -\r\n",
       "i: Integer\r\n",
       "x: A\r\n",
       "}\r\n",
       "}\r\n",
       "E5 - -:|> E2 [[psysml:b362769d-1260-4065-9b83-621f0da47e8d ]] \r\n",
       "E6 - -:|> E2 [[psysml:03080077-3284-4bc2-8ec3-31a93274162e ]] \r\n",
       "@enduml\r\n",
       "\n",
       "PlantUML version 1.2020.13(Sat Jun 13 12:26:38 UTC 2020)\n",
       "(EPL source distribution)\n",
       "Java Runtime: OpenJDK Runtime Environment\n",
       "JVM: OpenJDK 64-Bit Server VM\n",
       "Default Encoding: UTF-8\n",
       "Language: en\n",
       "Country: null\n",
       "--></g></svg>"
      ]
     },
     "execution_count": 24,
     "metadata": {},
     "output_type": "execute_result"
    }
   ],
   "source": [
    "%viz --style=\"STDCOLOR\" --view=\"Tree\" \"MultiplicityTest\""
   ]
  },
  {
   "cell_type": "code",
   "execution_count": 25,
   "id": "5278b6b3",
   "metadata": {
    "execution": {
     "iopub.execute_input": "2022-02-05T16:56:10.030577Z",
     "iopub.status.busy": "2022-02-05T16:56:10.030179Z",
     "iopub.status.idle": "2022-02-05T16:56:10.034403Z",
     "shell.execute_reply": "2022-02-05T16:56:10.034713Z"
    }
   },
   "outputs": [
    {
     "data": {
      "image/svg+xml": [
       "<?xml version=\"1.0\" encoding=\"UTF-8\" standalone=\"no\"?><svg xmlns=\"http://www.w3.org/2000/svg\" xmlns:xlink=\"http://www.w3.org/1999/xlink\" contentScriptType=\"application/ecmascript\" contentStyleType=\"text/css\" height=\"12px\" preserveAspectRatio=\"none\" style=\"width:12px;height:12px;\" version=\"1.1\" viewBox=\"0 0 12 12\" width=\"12px\" zoomAndPan=\"magnify\"><defs/><g><!--MD5=[aeeef50f102b80d730deb6443d14f702]\n",
       "@startuml\r\n",
       "skinparam wrapWidth 300\r\n",
       "hide circle\r\n",
       "\r\n",
       "@enduml\r\n",
       "\n",
       "PlantUML version 1.2020.13(Sat Jun 13 12:26:38 UTC 2020)\n",
       "(EPL source distribution)\n",
       "Java Runtime: OpenJDK Runtime Environment\n",
       "JVM: OpenJDK 64-Bit Server VM\n",
       "Default Encoding: UTF-8\n",
       "Language: en\n",
       "Country: null\n",
       "--></g></svg>"
      ]
     },
     "execution_count": 25,
     "metadata": {},
     "output_type": "execute_result"
    }
   ],
   "source": [
    "%viz --style=\"STDCOLOR\" --view=\"State\" \"MultiplicityTest\""
   ]
  },
  {
   "cell_type": "code",
   "execution_count": 26,
   "id": "0e3fcbb2",
   "metadata": {
    "execution": {
     "iopub.execute_input": "2022-02-05T16:56:10.084825Z",
     "iopub.status.busy": "2022-02-05T16:56:10.084426Z",
     "iopub.status.idle": "2022-02-05T16:56:10.116033Z",
     "shell.execute_reply": "2022-02-05T16:56:10.115668Z"
    }
   },
   "outputs": [
    {
     "data": {
      "image/svg+xml": [
       "<?xml version=\"1.0\" encoding=\"UTF-8\" standalone=\"no\"?><svg xmlns=\"http://www.w3.org/2000/svg\" xmlns:xlink=\"http://www.w3.org/1999/xlink\" contentScriptType=\"application/ecmascript\" contentStyleType=\"text/css\" height=\"115px\" preserveAspectRatio=\"none\" style=\"width:987px;height:115px;\" version=\"1.1\" viewBox=\"0 0 987 115\" width=\"987px\" zoomAndPan=\"magnify\"><defs><filter height=\"300%\" id=\"fi37igbjzne1f\" width=\"300%\" x=\"-1\" y=\"-1\"><feGaussianBlur result=\"blurOut\" stdDeviation=\"2.0\"/><feColorMatrix in=\"blurOut\" result=\"blurOut2\" type=\"matrix\" values=\"0 0 0 0 0 0 0 0 0 0 0 0 0 0 0 0 0 0 .4 0\"/><feOffset dx=\"4.0\" dy=\"4.0\" in=\"blurOut2\" result=\"blurOut3\"/><feBlend in=\"SourceGraphic\" in2=\"blurOut3\" mode=\"normal\"/></filter></defs><g><!--MD5=[fbc87193dbaf4d95561dea2c320d4a47]\n",
       "cluster E1--><a href=\"psysml:e445ccd1-d7b4-46a5-bbe0-1ba908b830dd\" target=\"_top\" title=\"psysml:e445ccd1-d7b4-46a5-bbe0-1ba908b830dd\" xlink:actuate=\"onRequest\" xlink:href=\"psysml:e445ccd1-d7b4-46a5-bbe0-1ba908b830dd\" xlink:show=\"new\" xlink:title=\"psysml:e445ccd1-d7b4-46a5-bbe0-1ba908b830dd\" xlink:type=\"simple\"><polygon fill=\"#FFFFFF\" filter=\"url(#fi37igbjzne1f)\" points=\"16,6,123,6,130,28.2969,965,28.2969,965,103,16,103,16,6\" style=\"stroke: #000000; stroke-width: 1.5;\"/><line style=\"stroke: #000000; stroke-width: 1.5;\" x1=\"16\" x2=\"130\" y1=\"28.2969\" y2=\"28.2969\"/><text fill=\"#000000\" font-family=\"sans-serif\" font-size=\"14\" font-weight=\"bold\" lengthAdjust=\"spacingAndGlyphs\" textLength=\"101\" x=\"20\" y=\"20.9951\">MultiplicityTest</text></a><!--MD5=[09b614a08d8cba4a07c9adeb5e0fee81]\n",
       "class E3--><a href=\"psysml:ec541e3b-6371-48bf-8290-c0b2a0f88f52\" target=\"_top\" title=\"psysml:ec541e3b-6371-48bf-8290-c0b2a0f88f52\" xlink:actuate=\"onRequest\" xlink:href=\"psysml:ec541e3b-6371-48bf-8290-c0b2a0f88f52\" xlink:show=\"new\" xlink:title=\"psysml:ec541e3b-6371-48bf-8290-c0b2a0f88f52\" xlink:type=\"simple\"><rect fill=\"#FEFECE\" filter=\"url(#fi37igbjzne1f)\" height=\"45.9375\" id=\"E3\" rx=\"10\" ry=\"10\" style=\"stroke: #A80036; stroke-width: 1.5;\" width=\"71\" x=\"877.5\" y=\"41\"/><text fill=\"#000000\" font-family=\"sans-serif\" font-size=\"12\" font-style=\"italic\" lengthAdjust=\"spacingAndGlyphs\" textLength=\"69\" x=\"878.5\" y=\"57.1387\">«attribute»</text><text fill=\"#000000\" font-family=\"sans-serif\" font-size=\"12\" lengthAdjust=\"spacingAndGlyphs\" textLength=\"61\" x=\"880.5\" y=\"71.1074\">n: Integer</text><line style=\"stroke: #A80036; stroke-width: 1.5;\" x1=\"878.5\" x2=\"947.5\" y1=\"78.9375\" y2=\"78.9375\"/></a><g id=\"E1.E11\"><a href=\"psysml:d2ba3396-0b46-40b3-bbf4-49972d7872ff\" target=\"_top\" title=\"psysml:d2ba3396-0b46-40b3-bbf4-49972d7872ff\" xlink:actuate=\"onRequest\" xlink:href=\"psysml:d2ba3396-0b46-40b3-bbf4-49972d7872ff\" xlink:show=\"new\" xlink:title=\"psysml:d2ba3396-0b46-40b3-bbf4-49972d7872ff\" xlink:type=\"simple\"><rect fill=\"#FEFECE\" filter=\"url(#fi37igbjzne1f)\" height=\"42.9375\" id=\"E11\" style=\"stroke: #A80036; stroke-width: 1.5;\" width=\"104\" x=\"738\" y=\"42.5\"/><text fill=\"#000000\" font-family=\"sans-serif\" font-size=\"12\" font-style=\"italic\" lengthAdjust=\"spacingAndGlyphs\" textLength=\"97\" x=\"741.5\" y=\"58.6387\">«attribute  def»</text><text fill=\"#000000\" font-family=\"sans-serif\" font-size=\"12\" lengthAdjust=\"spacingAndGlyphs\" textLength=\"8\" x=\"786\" y=\"72.6074\">A</text></a></g><g id=\"E1.E2\"><a href=\"psysml:7d5bba99-ceb9-4796-b455-cbfdc331a9aa\" target=\"_top\" title=\"psysml:7d5bba99-ceb9-4796-b455-cbfdc331a9aa\" xlink:actuate=\"onRequest\" xlink:href=\"psysml:7d5bba99-ceb9-4796-b455-cbfdc331a9aa\" xlink:show=\"new\" xlink:title=\"psysml:7d5bba99-ceb9-4796-b455-cbfdc331a9aa\" xlink:type=\"simple\"><rect fill=\"#FEFECE\" filter=\"url(#fi37igbjzne1f)\" height=\"42.9375\" id=\"E2\" style=\"stroke: #A80036; stroke-width: 1.5;\" width=\"75\" x=\"627.5\" y=\"42.5\"/><text fill=\"#000000\" font-family=\"sans-serif\" font-size=\"12\" font-style=\"italic\" lengthAdjust=\"spacingAndGlyphs\" textLength=\"68\" x=\"631\" y=\"58.6387\">«part  def»</text><text fill=\"#000000\" font-family=\"sans-serif\" font-size=\"12\" lengthAdjust=\"spacingAndGlyphs\" textLength=\"8\" x=\"661\" y=\"72.6074\">P</text></a></g><g id=\"E1.E4\"><a href=\"psysml:0bccd947-b2f6-485e-9c27-5cc482a56716\" target=\"_top\" title=\"psysml:0bccd947-b2f6-485e-9c27-5cc482a56716\" xlink:actuate=\"onRequest\" xlink:href=\"psysml:0bccd947-b2f6-485e-9c27-5cc482a56716\" xlink:show=\"new\" xlink:title=\"psysml:0bccd947-b2f6-485e-9c27-5cc482a56716\" xlink:type=\"simple\"><rect fill=\"#FEFECE\" filter=\"url(#fi37igbjzne1f)\" height=\"40\" id=\"E4\" rx=\"10\" ry=\"10\" style=\"stroke: #A80036; stroke-width: 1.5;\" width=\"50\" x=\"542\" y=\"44\"/><text fill=\"#000000\" font-family=\"sans-serif\" font-size=\"12\" lengthAdjust=\"spacingAndGlyphs\" textLength=\"8\" x=\"563\" y=\"60.1387\">a</text></a></g><g id=\"E1.E5\"><a href=\"psysml:3563b5dd-e50a-438e-94ba-a5b38ab6df54\" target=\"_top\" title=\"psysml:3563b5dd-e50a-438e-94ba-a5b38ab6df54\" xlink:actuate=\"onRequest\" xlink:href=\"psysml:3563b5dd-e50a-438e-94ba-a5b38ab6df54\" xlink:show=\"new\" xlink:title=\"psysml:3563b5dd-e50a-438e-94ba-a5b38ab6df54\" xlink:type=\"simple\"><rect fill=\"#FEFECE\" filter=\"url(#fi37igbjzne1f)\" height=\"40\" id=\"E5\" rx=\"10\" ry=\"10\" style=\"stroke: #A80036; stroke-width: 1.5;\" width=\"50\" x=\"457\" y=\"44\"/><text fill=\"#000000\" font-family=\"sans-serif\" font-size=\"12\" lengthAdjust=\"spacingAndGlyphs\" textLength=\"24\" x=\"470\" y=\"60.1387\">b: P</text></a></g><g id=\"E1.E6\"><a href=\"psysml:61a7c4a1-1480-402d-a8df-76594b39497b\" target=\"_top\" title=\"psysml:61a7c4a1-1480-402d-a8df-76594b39497b\" xlink:actuate=\"onRequest\" xlink:href=\"psysml:61a7c4a1-1480-402d-a8df-76594b39497b\" xlink:show=\"new\" xlink:title=\"psysml:61a7c4a1-1480-402d-a8df-76594b39497b\" xlink:type=\"simple\"><rect fill=\"#FEFECE\" filter=\"url(#fi37igbjzne1f)\" height=\"40\" id=\"E6\" rx=\"10\" ry=\"10\" style=\"stroke: #A80036; stroke-width: 1.5;\" width=\"50\" x=\"372\" y=\"44\"/><text fill=\"#000000\" font-family=\"sans-serif\" font-size=\"12\" lengthAdjust=\"spacingAndGlyphs\" textLength=\"23\" x=\"385.5\" y=\"60.1387\">c: P</text></a></g><g id=\"E1.E7\"><a href=\"psysml:f3d0dfc0-0dbb-4454-830c-43cee9c0f8af\" target=\"_top\" title=\"psysml:f3d0dfc0-0dbb-4454-830c-43cee9c0f8af\" xlink:actuate=\"onRequest\" xlink:href=\"psysml:f3d0dfc0-0dbb-4454-830c-43cee9c0f8af\" xlink:show=\"new\" xlink:title=\"psysml:f3d0dfc0-0dbb-4454-830c-43cee9c0f8af\" xlink:type=\"simple\"><rect fill=\"#FEFECE\" filter=\"url(#fi37igbjzne1f)\" height=\"40\" id=\"E7\" rx=\"10\" ry=\"10\" style=\"stroke: #A80036; stroke-width: 1.5;\" width=\"50\" x=\"287\" y=\"44\"/><text fill=\"#000000\" font-family=\"sans-serif\" font-size=\"12\" lengthAdjust=\"spacingAndGlyphs\" textLength=\"8\" x=\"308\" y=\"60.1387\">d</text></a></g><g id=\"E1.E8\"><a href=\"psysml:470ebeae-9c21-45dc-92b7-3ec0bcac92c0\" target=\"_top\" title=\"psysml:470ebeae-9c21-45dc-92b7-3ec0bcac92c0\" xlink:actuate=\"onRequest\" xlink:href=\"psysml:470ebeae-9c21-45dc-92b7-3ec0bcac92c0\" xlink:show=\"new\" xlink:title=\"psysml:470ebeae-9c21-45dc-92b7-3ec0bcac92c0\" xlink:type=\"simple\"><rect fill=\"#FEFECE\" filter=\"url(#fi37igbjzne1f)\" height=\"40\" id=\"E8\" rx=\"10\" ry=\"10\" style=\"stroke: #A80036; stroke-width: 1.5;\" width=\"50\" x=\"202\" y=\"44\"/><text fill=\"#000000\" font-family=\"sans-serif\" font-size=\"12\" lengthAdjust=\"spacingAndGlyphs\" textLength=\"8\" x=\"223\" y=\"60.1387\">e</text></a></g><g id=\"E1.E9\"><a href=\"psysml:e3b105f8-a02a-4959-8fa9-8da786795f1e\" target=\"_top\" title=\"psysml:e3b105f8-a02a-4959-8fa9-8da786795f1e\" xlink:actuate=\"onRequest\" xlink:href=\"psysml:e3b105f8-a02a-4959-8fa9-8da786795f1e\" xlink:show=\"new\" xlink:title=\"psysml:e3b105f8-a02a-4959-8fa9-8da786795f1e\" xlink:type=\"simple\"><rect fill=\"#FEFECE\" filter=\"url(#fi37igbjzne1f)\" height=\"40\" id=\"E9\" rx=\"10\" ry=\"10\" style=\"stroke: #A80036; stroke-width: 1.5;\" width=\"50\" x=\"117\" y=\"44\"/><text fill=\"#000000\" font-family=\"sans-serif\" font-size=\"12\" lengthAdjust=\"spacingAndGlyphs\" textLength=\"4\" x=\"140\" y=\"60.1387\">f</text></a></g><g id=\"E1.E10\"><a href=\"psysml:0b08e64f-1d74-4a65-b189-b5a78b2f5a03\" target=\"_top\" title=\"psysml:0b08e64f-1d74-4a65-b189-b5a78b2f5a03\" xlink:actuate=\"onRequest\" xlink:href=\"psysml:0b08e64f-1d74-4a65-b189-b5a78b2f5a03\" xlink:show=\"new\" xlink:title=\"psysml:0b08e64f-1d74-4a65-b189-b5a78b2f5a03\" xlink:type=\"simple\"><rect fill=\"#FEFECE\" filter=\"url(#fi37igbjzne1f)\" height=\"40\" id=\"E10\" rx=\"10\" ry=\"10\" style=\"stroke: #A80036; stroke-width: 1.5;\" width=\"50\" x=\"32\" y=\"44\"/><text fill=\"#000000\" font-family=\"sans-serif\" font-size=\"12\" lengthAdjust=\"spacingAndGlyphs\" textLength=\"8\" x=\"53\" y=\"60.1387\">g</text></a></g><!--MD5=[9823ea015956355359d93a5fa9d7bfbd]\n",
       "@startuml\r\n",
       "skinparam ranksep 10\r\n",
       "skinparam rectangle {\r\n",
       " backgroundColor<<block>> LightGreen\r\n",
       "}\r\n",
       "skinparam wrapWidth 300\r\n",
       "hide circle\r\n",
       "\r\n",
       "package \"MultiplicityTest\" as E1  [[psysml:e445ccd1-d7b4-46a5-bbe0-1ba908b830dd ]]  {\r\n",
       "rec def \"P\" as E2  <<(T,blue) part  def>> [[psysml:7d5bba99-ceb9-4796-b455-cbfdc331a9aa ]] {\r\n",
       "}\r\n",
       "comp usage \"n: Integer \" as E3  <<(T,blue) attribute>> [[psysml:ec541e3b-6371-48bf-8290-c0b2a0f88f52 ]] {\r\n",
       "}\r\n",
       "rec usage \"a\" as E4  [[psysml:0bccd947-b2f6-485e-9c27-5cc482a56716 ]] {\r\n",
       "}\r\n",
       "rec usage \"b: P\" as E5  [[psysml:3563b5dd-e50a-438e-94ba-a5b38ab6df54 ]] {\r\n",
       "}\r\n",
       "rec usage \"c: P\" as E6  [[psysml:61a7c4a1-1480-402d-a8df-76594b39497b ]] {\r\n",
       "}\r\n",
       "rec usage \"d\" as E7  [[psysml:f3d0dfc0-0dbb-4454-830c-43cee9c0f8af ]] {\r\n",
       "}\r\n",
       "rec usage \"e\" as E8  [[psysml:470ebeae-9c21-45dc-92b7-3ec0bcac92c0 ]] {\r\n",
       "}\r\n",
       "rec usage \"f\" as E9  [[psysml:e3b105f8-a02a-4959-8fa9-8da786795f1e ]] {\r\n",
       "}\r\n",
       "rec usage \"g\" as E10  [[psysml:0b08e64f-1d74-4a65-b189-b5a78b2f5a03 ]] {\r\n",
       "}\r\n",
       "def \"A\" as E11  <<(T,blue) attribute  def>> [[psysml:d2ba3396-0b46-40b3-bbf4-49972d7872ff ]] \r\n",
       "}\r\n",
       "@enduml\r\n",
       "\n",
       "PlantUML version 1.2020.13(Sat Jun 13 12:26:38 UTC 2020)\n",
       "(EPL source distribution)\n",
       "Java Runtime: OpenJDK Runtime Environment\n",
       "JVM: OpenJDK 64-Bit Server VM\n",
       "Default Encoding: UTF-8\n",
       "Language: en\n",
       "Country: null\n",
       "--></g></svg>"
      ]
     },
     "execution_count": 26,
     "metadata": {},
     "output_type": "execute_result"
    }
   ],
   "source": [
    "%viz --style=\"STDCOLOR\" --view=\"Interconnection\" \"MultiplicityTest\""
   ]
  },
  {
   "cell_type": "code",
   "execution_count": 27,
   "id": "513597de",
   "metadata": {
    "execution": {
     "iopub.execute_input": "2022-02-05T16:56:10.165717Z",
     "iopub.status.busy": "2022-02-05T16:56:10.165312Z",
     "iopub.status.idle": "2022-02-05T16:56:10.170011Z",
     "shell.execute_reply": "2022-02-05T16:56:10.170324Z"
    }
   },
   "outputs": [
    {
     "data": {
      "image/svg+xml": [
       "<?xml version=\"1.0\" encoding=\"UTF-8\" standalone=\"no\"?><svg xmlns=\"http://www.w3.org/2000/svg\" xmlns:xlink=\"http://www.w3.org/1999/xlink\" contentScriptType=\"application/ecmascript\" contentStyleType=\"text/css\" height=\"12px\" preserveAspectRatio=\"none\" style=\"width:12px;height:12px;\" version=\"1.1\" viewBox=\"0 0 12 12\" width=\"12px\" zoomAndPan=\"magnify\"><defs/><g><!--MD5=[9863325348a96a77dacc89509d8ee65e]\n",
       "@startuml\r\n",
       "skinparam ranksep 8\r\n",
       "skinparam wrapWidth 300\r\n",
       "hide circle\r\n",
       "\r\n",
       "@enduml\r\n",
       "\n",
       "PlantUML version 1.2020.13(Sat Jun 13 12:26:38 UTC 2020)\n",
       "(EPL source distribution)\n",
       "Java Runtime: OpenJDK Runtime Environment\n",
       "JVM: OpenJDK 64-Bit Server VM\n",
       "Default Encoding: UTF-8\n",
       "Language: en\n",
       "Country: null\n",
       "--></g></svg>"
      ]
     },
     "execution_count": 27,
     "metadata": {},
     "output_type": "execute_result"
    }
   ],
   "source": [
    "%viz --style=\"STDCOLOR\" --view=\"Action\" \"MultiplicityTest\""
   ]
  },
  {
   "cell_type": "code",
   "execution_count": 28,
   "id": "605d50b4",
   "metadata": {
    "execution": {
     "iopub.execute_input": "2022-02-05T16:56:10.220479Z",
     "iopub.status.busy": "2022-02-05T16:56:10.220072Z",
     "iopub.status.idle": "2022-02-05T16:56:10.225605Z",
     "shell.execute_reply": "2022-02-05T16:56:10.225900Z"
    }
   },
   "outputs": [
    {
     "data": {
      "image/svg+xml": [
       "<?xml version=\"1.0\" encoding=\"UTF-8\" standalone=\"no\"?><svg xmlns=\"http://www.w3.org/2000/svg\" xmlns:xlink=\"http://www.w3.org/1999/xlink\" contentScriptType=\"application/ecmascript\" contentStyleType=\"text/css\" height=\"12px\" preserveAspectRatio=\"none\" style=\"width:12px;height:12px;\" version=\"1.1\" viewBox=\"0 0 12 12\" width=\"12px\" zoomAndPan=\"magnify\"><defs/><g><!--MD5=[6c4bca67b4d71758159a5a7f1f1e1fc2]\n",
       "@startuml\r\n",
       "skinparam roundcorner 20\r\n",
       "skinparam BoxPadding 20\r\n",
       "skinparam SequenceBoxBackgroundColor #white\r\n",
       "skinparam style strictuml\r\n",
       "skinparam maxMessageSize 100\r\n",
       "skinparam wrapWidth 300\r\n",
       "hide circle\r\n",
       "\r\n",
       "@enduml\r\n",
       "\n",
       "PlantUML version 1.2020.13(Sat Jun 13 12:26:38 UTC 2020)\n",
       "(EPL source distribution)\n",
       "Java Runtime: OpenJDK Runtime Environment\n",
       "JVM: OpenJDK 64-Bit Server VM\n",
       "Default Encoding: UTF-8\n",
       "Language: en\n",
       "Country: null\n",
       "--></g></svg>"
      ]
     },
     "execution_count": 28,
     "metadata": {},
     "output_type": "execute_result"
    }
   ],
   "source": [
    "%viz --style=\"STDCOLOR\" --view=\"Sequence\" \"MultiplicityTest\""
   ]
  },
  {
   "cell_type": "code",
   "execution_count": 29,
   "id": "71b99cc8",
   "metadata": {
    "execution": {
     "iopub.execute_input": "2022-02-05T16:56:10.275839Z",
     "iopub.status.busy": "2022-02-05T16:56:10.275434Z",
     "iopub.status.idle": "2022-02-05T16:56:10.329840Z",
     "shell.execute_reply": "2022-02-05T16:56:10.328436Z"
    }
   },
   "outputs": [
    {
     "data": {
      "image/svg+xml": [
       "<?xml version=\"1.0\" encoding=\"UTF-8\" standalone=\"no\"?><svg xmlns=\"http://www.w3.org/2000/svg\" xmlns:xlink=\"http://www.w3.org/1999/xlink\" contentScriptType=\"application/ecmascript\" contentStyleType=\"text/css\" height=\"263px\" preserveAspectRatio=\"none\" style=\"width:816px;height:263px;\" version=\"1.1\" viewBox=\"0 0 816 263\" width=\"816px\" zoomAndPan=\"magnify\"><defs><filter height=\"300%\" id=\"f18bioo7glojd6\" width=\"300%\" x=\"-1\" y=\"-1\"><feGaussianBlur result=\"blurOut\" stdDeviation=\"2.0\"/><feColorMatrix in=\"blurOut\" result=\"blurOut2\" type=\"matrix\" values=\"0 0 0 0 0 0 0 0 0 0 0 0 0 0 0 0 0 0 .4 0\"/><feOffset dx=\"4.0\" dy=\"4.0\" in=\"blurOut2\" result=\"blurOut3\"/><feBlend in=\"SourceGraphic\" in2=\"blurOut3\" mode=\"normal\"/></filter></defs><g><!--MD5=[fbc87193dbaf4d95561dea2c320d4a47]\n",
       "cluster E1--><a href=\"psysml:e445ccd1-d7b4-46a5-bbe0-1ba908b830dd\" target=\"_top\" title=\"psysml:e445ccd1-d7b4-46a5-bbe0-1ba908b830dd\" xlink:actuate=\"onRequest\" xlink:href=\"psysml:e445ccd1-d7b4-46a5-bbe0-1ba908b830dd\" xlink:show=\"new\" xlink:title=\"psysml:e445ccd1-d7b4-46a5-bbe0-1ba908b830dd\" xlink:type=\"simple\"><polygon fill=\"#FFFFFF\" filter=\"url(#f18bioo7glojd6)\" points=\"16,6,123,6,130,28.2969,794,28.2969,794,251,16,251,16,6\" style=\"stroke: #000000; stroke-width: 1.5;\"/><line style=\"stroke: #000000; stroke-width: 1.5;\" x1=\"16\" x2=\"130\" y1=\"28.2969\" y2=\"28.2969\"/><text fill=\"#000000\" font-family=\"sans-serif\" font-size=\"14\" font-weight=\"bold\" lengthAdjust=\"spacingAndGlyphs\" textLength=\"101\" x=\"20\" y=\"20.9951\">MultiplicityTest</text></a><!--MD5=[b4997ac47864f28c2f74865a473b2911]\n",
       "class E2--><a href=\"psysml:7d5bba99-ceb9-4796-b455-cbfdc331a9aa\" target=\"_top\" title=\"psysml:7d5bba99-ceb9-4796-b455-cbfdc331a9aa\" xlink:actuate=\"onRequest\" xlink:href=\"psysml:7d5bba99-ceb9-4796-b455-cbfdc331a9aa\" xlink:show=\"new\" xlink:title=\"psysml:7d5bba99-ceb9-4796-b455-cbfdc331a9aa\" xlink:type=\"simple\"><rect fill=\"#FEFECE\" filter=\"url(#f18bioo7glojd6)\" height=\"45.9375\" id=\"E2\" style=\"stroke: #A80036; stroke-width: 1.5;\" width=\"70\" x=\"499\" y=\"189\"/><text fill=\"#000000\" font-family=\"sans-serif\" font-size=\"12\" font-style=\"italic\" lengthAdjust=\"spacingAndGlyphs\" textLength=\"68\" x=\"500\" y=\"205.1387\">«part  def»</text><text fill=\"#000000\" font-family=\"sans-serif\" font-size=\"12\" lengthAdjust=\"spacingAndGlyphs\" textLength=\"8\" x=\"530\" y=\"219.1074\">P</text><line style=\"stroke: #A80036; stroke-width: 1.5;\" x1=\"500\" x2=\"568\" y1=\"226.9375\" y2=\"226.9375\"/></a><!--MD5=[09b614a08d8cba4a07c9adeb5e0fee81]\n",
       "class E3--><a href=\"psysml:ec541e3b-6371-48bf-8290-c0b2a0f88f52\" target=\"_top\" title=\"psysml:ec541e3b-6371-48bf-8290-c0b2a0f88f52\" xlink:actuate=\"onRequest\" xlink:href=\"psysml:ec541e3b-6371-48bf-8290-c0b2a0f88f52\" xlink:show=\"new\" xlink:title=\"psysml:ec541e3b-6371-48bf-8290-c0b2a0f88f52\" xlink:type=\"simple\"><rect fill=\"#FEFECE\" filter=\"url(#f18bioo7glojd6)\" height=\"45.9375\" id=\"E3\" rx=\"10\" ry=\"10\" style=\"stroke: #A80036; stroke-width: 1.5;\" width=\"71\" x=\"706.5\" y=\"62\"/><text fill=\"#000000\" font-family=\"sans-serif\" font-size=\"12\" font-style=\"italic\" lengthAdjust=\"spacingAndGlyphs\" textLength=\"69\" x=\"707.5\" y=\"78.1387\">«attribute»</text><text fill=\"#000000\" font-family=\"sans-serif\" font-size=\"12\" lengthAdjust=\"spacingAndGlyphs\" textLength=\"61\" x=\"709.5\" y=\"92.1074\">n: Integer</text><line style=\"stroke: #A80036; stroke-width: 1.5;\" x1=\"707.5\" x2=\"776.5\" y1=\"99.9375\" y2=\"99.9375\"/></a><!--MD5=[ebbe1d658d1005bcc118a6aa81145e00]\n",
       "class E4--><a href=\"psysml:0bccd947-b2f6-485e-9c27-5cc482a56716\" target=\"_top\" title=\"psysml:0bccd947-b2f6-485e-9c27-5cc482a56716\" xlink:actuate=\"onRequest\" xlink:href=\"psysml:0bccd947-b2f6-485e-9c27-5cc482a56716\" xlink:show=\"new\" xlink:title=\"psysml:0bccd947-b2f6-485e-9c27-5cc482a56716\" xlink:type=\"simple\"><rect fill=\"#FEFECE\" filter=\"url(#f18bioo7glojd6)\" height=\"45.9375\" id=\"E4\" rx=\"10\" ry=\"10\" style=\"stroke: #A80036; stroke-width: 1.5;\" width=\"42\" x=\"629\" y=\"62\"/><text fill=\"#000000\" font-family=\"sans-serif\" font-size=\"12\" font-style=\"italic\" lengthAdjust=\"spacingAndGlyphs\" textLength=\"40\" x=\"630\" y=\"78.1387\">«part»</text><text fill=\"#000000\" font-family=\"sans-serif\" font-size=\"12\" lengthAdjust=\"spacingAndGlyphs\" textLength=\"8\" x=\"644\" y=\"92.1074\">a</text><line style=\"stroke: #A80036; stroke-width: 1.5;\" x1=\"630\" x2=\"670\" y1=\"99.9375\" y2=\"99.9375\"/></a><!--MD5=[270fce915f116d4de14055a7c1d9a0f3]\n",
       "class E5--><a href=\"psysml:3563b5dd-e50a-438e-94ba-a5b38ab6df54\" target=\"_top\" title=\"psysml:3563b5dd-e50a-438e-94ba-a5b38ab6df54\" xlink:actuate=\"onRequest\" xlink:href=\"psysml:3563b5dd-e50a-438e-94ba-a5b38ab6df54\" xlink:show=\"new\" xlink:title=\"psysml:3563b5dd-e50a-438e-94ba-a5b38ab6df54\" xlink:type=\"simple\"><rect fill=\"#FEFECE\" filter=\"url(#f18bioo7glojd6)\" height=\"45.9375\" id=\"E5\" rx=\"10\" ry=\"10\" style=\"stroke: #A80036; stroke-width: 1.5;\" width=\"42\" x=\"552\" y=\"62\"/><text fill=\"#000000\" font-family=\"sans-serif\" font-size=\"12\" font-style=\"italic\" lengthAdjust=\"spacingAndGlyphs\" textLength=\"40\" x=\"553\" y=\"78.1387\">«part»</text><text fill=\"#000000\" font-family=\"sans-serif\" font-size=\"12\" lengthAdjust=\"spacingAndGlyphs\" textLength=\"24\" x=\"559\" y=\"92.1074\">b: P</text><line style=\"stroke: #A80036; stroke-width: 1.5;\" x1=\"553\" x2=\"593\" y1=\"99.9375\" y2=\"99.9375\"/></a><!--MD5=[60a26617385b1d2d0262a64233df1f8d]\n",
       "class E6--><a href=\"psysml:61a7c4a1-1480-402d-a8df-76594b39497b\" target=\"_top\" title=\"psysml:61a7c4a1-1480-402d-a8df-76594b39497b\" xlink:actuate=\"onRequest\" xlink:href=\"psysml:61a7c4a1-1480-402d-a8df-76594b39497b\" xlink:show=\"new\" xlink:title=\"psysml:61a7c4a1-1480-402d-a8df-76594b39497b\" xlink:type=\"simple\"><rect fill=\"#FEFECE\" filter=\"url(#f18bioo7glojd6)\" height=\"45.9375\" id=\"E6\" rx=\"10\" ry=\"10\" style=\"stroke: #A80036; stroke-width: 1.5;\" width=\"42\" x=\"475\" y=\"62\"/><text fill=\"#000000\" font-family=\"sans-serif\" font-size=\"12\" font-style=\"italic\" lengthAdjust=\"spacingAndGlyphs\" textLength=\"40\" x=\"476\" y=\"78.1387\">«part»</text><text fill=\"#000000\" font-family=\"sans-serif\" font-size=\"12\" lengthAdjust=\"spacingAndGlyphs\" textLength=\"23\" x=\"482.5\" y=\"92.1074\">c: P</text><line style=\"stroke: #A80036; stroke-width: 1.5;\" x1=\"476\" x2=\"516\" y1=\"99.9375\" y2=\"99.9375\"/></a><!--MD5=[2156ba9850f5573cc1fc38a6a4b2f02b]\n",
       "class E7--><a href=\"psysml:f3d0dfc0-0dbb-4454-830c-43cee9c0f8af\" target=\"_top\" title=\"psysml:f3d0dfc0-0dbb-4454-830c-43cee9c0f8af\" xlink:actuate=\"onRequest\" xlink:href=\"psysml:f3d0dfc0-0dbb-4454-830c-43cee9c0f8af\" xlink:show=\"new\" xlink:title=\"psysml:f3d0dfc0-0dbb-4454-830c-43cee9c0f8af\" xlink:type=\"simple\"><rect fill=\"#FEFECE\" filter=\"url(#f18bioo7glojd6)\" height=\"45.9375\" id=\"E7\" rx=\"10\" ry=\"10\" style=\"stroke: #A80036; stroke-width: 1.5;\" width=\"42\" x=\"398\" y=\"62\"/><text fill=\"#000000\" font-family=\"sans-serif\" font-size=\"12\" font-style=\"italic\" lengthAdjust=\"spacingAndGlyphs\" textLength=\"40\" x=\"399\" y=\"78.1387\">«part»</text><text fill=\"#000000\" font-family=\"sans-serif\" font-size=\"12\" lengthAdjust=\"spacingAndGlyphs\" textLength=\"8\" x=\"413\" y=\"92.1074\">d</text><line style=\"stroke: #A80036; stroke-width: 1.5;\" x1=\"399\" x2=\"439\" y1=\"99.9375\" y2=\"99.9375\"/></a><!--MD5=[b9389687b975829384b498ac4b7476b2]\n",
       "class E8--><a href=\"psysml:470ebeae-9c21-45dc-92b7-3ec0bcac92c0\" target=\"_top\" title=\"psysml:470ebeae-9c21-45dc-92b7-3ec0bcac92c0\" xlink:actuate=\"onRequest\" xlink:href=\"psysml:470ebeae-9c21-45dc-92b7-3ec0bcac92c0\" xlink:show=\"new\" xlink:title=\"psysml:470ebeae-9c21-45dc-92b7-3ec0bcac92c0\" xlink:type=\"simple\"><rect fill=\"#FEFECE\" filter=\"url(#f18bioo7glojd6)\" height=\"45.9375\" id=\"E8\" rx=\"10\" ry=\"10\" style=\"stroke: #A80036; stroke-width: 1.5;\" width=\"42\" x=\"321\" y=\"62\"/><text fill=\"#000000\" font-family=\"sans-serif\" font-size=\"12\" font-style=\"italic\" lengthAdjust=\"spacingAndGlyphs\" textLength=\"40\" x=\"322\" y=\"78.1387\">«part»</text><text fill=\"#000000\" font-family=\"sans-serif\" font-size=\"12\" lengthAdjust=\"spacingAndGlyphs\" textLength=\"8\" x=\"336\" y=\"92.1074\">e</text><line style=\"stroke: #A80036; stroke-width: 1.5;\" x1=\"322\" x2=\"362\" y1=\"99.9375\" y2=\"99.9375\"/></a><!--MD5=[fd4143e9d270a159db93a4ea2a975926]\n",
       "class E9--><a href=\"psysml:e3b105f8-a02a-4959-8fa9-8da786795f1e\" target=\"_top\" title=\"psysml:e3b105f8-a02a-4959-8fa9-8da786795f1e\" xlink:actuate=\"onRequest\" xlink:href=\"psysml:e3b105f8-a02a-4959-8fa9-8da786795f1e\" xlink:show=\"new\" xlink:title=\"psysml:e3b105f8-a02a-4959-8fa9-8da786795f1e\" xlink:type=\"simple\"><rect fill=\"#FEFECE\" filter=\"url(#f18bioo7glojd6)\" height=\"45.9375\" id=\"E9\" rx=\"10\" ry=\"10\" style=\"stroke: #A80036; stroke-width: 1.5;\" width=\"42\" x=\"244\" y=\"62\"/><text fill=\"#000000\" font-family=\"sans-serif\" font-size=\"12\" font-style=\"italic\" lengthAdjust=\"spacingAndGlyphs\" textLength=\"40\" x=\"245\" y=\"78.1387\">«part»</text><text fill=\"#000000\" font-family=\"sans-serif\" font-size=\"12\" lengthAdjust=\"spacingAndGlyphs\" textLength=\"4\" x=\"261\" y=\"92.1074\">f</text><line style=\"stroke: #A80036; stroke-width: 1.5;\" x1=\"245\" x2=\"285\" y1=\"99.9375\" y2=\"99.9375\"/></a><!--MD5=[96f4274e9e20536e775497830990834d]\n",
       "class E10--><a href=\"psysml:0b08e64f-1d74-4a65-b189-b5a78b2f5a03\" target=\"_top\" title=\"psysml:0b08e64f-1d74-4a65-b189-b5a78b2f5a03\" xlink:actuate=\"onRequest\" xlink:href=\"psysml:0b08e64f-1d74-4a65-b189-b5a78b2f5a03\" xlink:show=\"new\" xlink:title=\"psysml:0b08e64f-1d74-4a65-b189-b5a78b2f5a03\" xlink:type=\"simple\"><rect fill=\"#FEFECE\" filter=\"url(#f18bioo7glojd6)\" height=\"45.9375\" id=\"E10\" rx=\"10\" ry=\"10\" style=\"stroke: #A80036; stroke-width: 1.5;\" width=\"42\" x=\"167\" y=\"62\"/><text fill=\"#000000\" font-family=\"sans-serif\" font-size=\"12\" font-style=\"italic\" lengthAdjust=\"spacingAndGlyphs\" textLength=\"40\" x=\"168\" y=\"78.1387\">«part»</text><text fill=\"#000000\" font-family=\"sans-serif\" font-size=\"12\" lengthAdjust=\"spacingAndGlyphs\" textLength=\"8\" x=\"182\" y=\"92.1074\">g</text><line style=\"stroke: #A80036; stroke-width: 1.5;\" x1=\"168\" x2=\"208\" y1=\"99.9375\" y2=\"99.9375\"/></a><!--MD5=[1dd1bfd58a279cf63c5f349dbc8fc6a1]\n",
       "class E11--><a href=\"psysml:d2ba3396-0b46-40b3-bbf4-49972d7872ff\" target=\"_top\" title=\"psysml:d2ba3396-0b46-40b3-bbf4-49972d7872ff\" xlink:actuate=\"onRequest\" xlink:href=\"psysml:d2ba3396-0b46-40b3-bbf4-49972d7872ff\" xlink:show=\"new\" xlink:title=\"psysml:d2ba3396-0b46-40b3-bbf4-49972d7872ff\" xlink:type=\"simple\"><rect fill=\"#FEFECE\" filter=\"url(#f18bioo7glojd6)\" height=\"88.3516\" id=\"E11\" style=\"stroke: #A80036; stroke-width: 1.5;\" width=\"99\" x=\"32.5\" y=\"41\"/><text fill=\"#000000\" font-family=\"sans-serif\" font-size=\"12\" font-style=\"italic\" lengthAdjust=\"spacingAndGlyphs\" textLength=\"97\" x=\"33.5\" y=\"57.1387\">«attribute  def»</text><text fill=\"#000000\" font-family=\"sans-serif\" font-size=\"12\" lengthAdjust=\"spacingAndGlyphs\" textLength=\"8\" x=\"78\" y=\"71.1074\">A</text><line style=\"stroke: #A80036; stroke-width: 1.5;\" x1=\"33.5\" x2=\"130.5\" y1=\"78.9375\" y2=\"78.9375\"/><text fill=\"#000000\" font-family=\"sans-serif\" font-size=\"11\" lengthAdjust=\"spacingAndGlyphs\" textLength=\"51\" x=\"38.5\" y=\"109.9526\">i: Integer</text><text fill=\"#000000\" font-family=\"sans-serif\" font-size=\"11\" lengthAdjust=\"spacingAndGlyphs\" textLength=\"21\" x=\"38.5\" y=\"122.7573\">x: A</text><line style=\"stroke: #A80036; stroke-width: 1.0;\" x1=\"33.5\" x2=\"54.5\" y1=\"93.3398\" y2=\"93.3398\"/><text fill=\"#000000\" font-family=\"sans-serif\" font-size=\"11\" lengthAdjust=\"spacingAndGlyphs\" textLength=\"55\" x=\"54.5\" y=\"96.6479\">attributes</text><line style=\"stroke: #A80036; stroke-width: 1.0;\" x1=\"109.5\" x2=\"130.5\" y1=\"93.3398\" y2=\"93.3398\"/></a><!--MD5=[15ebcb19ae302d9b601edb458606d402]\n",
       "link E5 to E2--><a href=\"psysml:b362769d-1260-4065-9b83-621f0da47e8d\" target=\"_top\" title=\"psysml:b362769d-1260-4065-9b83-621f0da47e8d\" xlink:actuate=\"onRequest\" xlink:href=\"psysml:b362769d-1260-4065-9b83-621f0da47e8d\" xlink:show=\"new\" xlink:title=\"psysml:b362769d-1260-4065-9b83-621f0da47e8d\" xlink:type=\"simple\"><path d=\"M566.12,108.06 C560.83,125 553.38,148.89 546.98,169.39 \" fill=\"none\" id=\"E5-&gt;E2\" style=\"stroke: #A80036; stroke-width: 1.0;\"/><polygon fill=\"#FFFFFF\" points=\"540.95,188.74,539.929,168.5173,553.2931,172.6886,540.95,188.74\" style=\"stroke: #A80036; stroke-width: 1.0;\"/><ellipse cx=\"543.5364\" cy=\"163.6721\" fill=\"#A80036\" rx=\"2\" ry=\"2\" style=\"stroke: #A80036; stroke-width: 1.0;\"/><ellipse cx=\"553.0823\" cy=\"166.6516\" fill=\"#A80036\" rx=\"2\" ry=\"2\" style=\"stroke: #A80036; stroke-width: 1.0;\"/></a><!--MD5=[2351f337d6de0f557b50152ba70847b5]\n",
       "link E6 to E2--><a href=\"psysml:03080077-3284-4bc2-8ec3-31a93274162e\" target=\"_top\" title=\"psysml:03080077-3284-4bc2-8ec3-31a93274162e\" xlink:actuate=\"onRequest\" xlink:href=\"psysml:03080077-3284-4bc2-8ec3-31a93274162e\" xlink:show=\"new\" xlink:title=\"psysml:03080077-3284-4bc2-8ec3-31a93274162e\" xlink:type=\"simple\"><path d=\"M502.71,108.06 C507.86,125 515.12,148.89 521.35,169.39 \" fill=\"none\" id=\"E6-&gt;E2\" style=\"stroke: #A80036; stroke-width: 1.0;\"/><polygon fill=\"#FFFFFF\" points=\"527.23,188.74,515.007,172.597,528.4019,168.5255,527.23,188.74\" style=\"stroke: #A80036; stroke-width: 1.0;\"/><ellipse cx=\"515.2628\" cy=\"166.5617\" fill=\"#A80036\" rx=\"2\" ry=\"2\" style=\"stroke: #A80036; stroke-width: 1.0;\"/><ellipse cx=\"524.8306\" cy=\"163.6535\" fill=\"#A80036\" rx=\"2\" ry=\"2\" style=\"stroke: #A80036; stroke-width: 1.0;\"/></a><!--MD5=[6b6859213223fe5ecaaba04af92fb4a7]\n",
       "@startuml\r\n",
       "skinparam wrapWidth 300\r\n",
       "hide circle\r\n",
       "\r\n",
       "package \"MultiplicityTest\" as E1  [[psysml:e445ccd1-d7b4-46a5-bbe0-1ba908b830dd ]]  {\r\n",
       "comp def \"P\" as E2  <<(T,blue) part  def>> [[psysml:7d5bba99-ceb9-4796-b455-cbfdc331a9aa ]] {\r\n",
       "}\r\n",
       "comp usage \"n: Integer \" as E3  <<(T,blue) attribute>> [[psysml:ec541e3b-6371-48bf-8290-c0b2a0f88f52 ]] {\r\n",
       "}\r\n",
       "comp usage \"a \" as E4  <<(T,blue) part>> [[psysml:0bccd947-b2f6-485e-9c27-5cc482a56716 ]] {\r\n",
       "}\r\n",
       "comp usage \"b: P \" as E5  <<(T,blue) part>> [[psysml:3563b5dd-e50a-438e-94ba-a5b38ab6df54 ]] {\r\n",
       "}\r\n",
       "comp usage \"c: P \" as E6  <<(T,blue) part>> [[psysml:61a7c4a1-1480-402d-a8df-76594b39497b ]] {\r\n",
       "}\r\n",
       "comp usage \"d \" as E7  <<(T,blue) part>> [[psysml:f3d0dfc0-0dbb-4454-830c-43cee9c0f8af ]] {\r\n",
       "}\r\n",
       "comp usage \"e \" as E8  <<(T,blue) part>> [[psysml:470ebeae-9c21-45dc-92b7-3ec0bcac92c0 ]] {\r\n",
       "}\r\n",
       "comp usage \"f \" as E9  <<(T,blue) part>> [[psysml:e3b105f8-a02a-4959-8fa9-8da786795f1e ]] {\r\n",
       "}\r\n",
       "comp usage \"g \" as E10  <<(T,blue) part>> [[psysml:0b08e64f-1d74-4a65-b189-b5a78b2f5a03 ]] {\r\n",
       "}\r\n",
       "comp def \"A\" as E11  <<(T,blue) attribute  def>> [[psysml:d2ba3396-0b46-40b3-bbf4-49972d7872ff ]] {\r\n",
       "- - attributes - -\r\n",
       "i: Integer\r\n",
       "x: A\r\n",
       "}\r\n",
       "}\r\n",
       "E5 - -:|> E2 [[psysml:b362769d-1260-4065-9b83-621f0da47e8d ]] \r\n",
       "E6 - -:|> E2 [[psysml:03080077-3284-4bc2-8ec3-31a93274162e ]] \r\n",
       "@enduml\r\n",
       "\n",
       "PlantUML version 1.2020.13(Sat Jun 13 12:26:38 UTC 2020)\n",
       "(EPL source distribution)\n",
       "Java Runtime: OpenJDK Runtime Environment\n",
       "JVM: OpenJDK 64-Bit Server VM\n",
       "Default Encoding: UTF-8\n",
       "Language: en\n",
       "Country: null\n",
       "--></g></svg>"
      ]
     },
     "execution_count": 29,
     "metadata": {},
     "output_type": "execute_result"
    }
   ],
   "source": [
    "%viz --style=\"STDCOLOR\" --view=\"MIXED\" \"MultiplicityTest\""
   ]
  },
  {
   "cell_type": "code",
   "execution_count": 30,
   "id": "f66d94c9",
   "metadata": {
    "execution": {
     "iopub.execute_input": "2022-02-05T16:56:10.379147Z",
     "iopub.status.busy": "2022-02-05T16:56:10.378748Z",
     "iopub.status.idle": "2022-02-05T16:56:10.457053Z",
     "shell.execute_reply": "2022-02-05T16:56:10.456652Z"
    }
   },
   "outputs": [
    {
     "data": {
      "image/svg+xml": [
       "<?xml version=\"1.0\" encoding=\"UTF-8\" standalone=\"no\"?><svg xmlns=\"http://www.w3.org/2000/svg\" xmlns:xlink=\"http://www.w3.org/1999/xlink\" contentScriptType=\"application/ecmascript\" contentStyleType=\"text/css\" height=\"257px\" preserveAspectRatio=\"none\" style=\"width:1049px;height:257px;\" version=\"1.1\" viewBox=\"0 0 1049 257\" width=\"1049px\" zoomAndPan=\"magnify\"><defs><filter height=\"300%\" id=\"f14d2nm8ag54r9\" width=\"300%\" x=\"-1\" y=\"-1\"><feGaussianBlur result=\"blurOut\" stdDeviation=\"2.0\"/><feColorMatrix in=\"blurOut\" result=\"blurOut2\" type=\"matrix\" values=\"0 0 0 0 0 0 0 0 0 0 0 0 0 0 0 0 0 0 .4 0\"/><feOffset dx=\"4.0\" dy=\"4.0\" in=\"blurOut2\" result=\"blurOut3\"/><feBlend in=\"SourceGraphic\" in2=\"blurOut3\" mode=\"normal\"/></filter></defs><g><!--MD5=[fbc87193dbaf4d95561dea2c320d4a47]\n",
       "cluster E1--><a href=\"psysml:e445ccd1-d7b4-46a5-bbe0-1ba908b830dd\" target=\"_top\" title=\"psysml:e445ccd1-d7b4-46a5-bbe0-1ba908b830dd\" xlink:actuate=\"onRequest\" xlink:href=\"psysml:e445ccd1-d7b4-46a5-bbe0-1ba908b830dd\" xlink:show=\"new\" xlink:title=\"psysml:e445ccd1-d7b4-46a5-bbe0-1ba908b830dd\" xlink:type=\"simple\"><polygon fill=\"#FFFFFF\" filter=\"url(#f14d2nm8ag54r9)\" points=\"16,6,123,6,130,28.2969,1027,28.2969,1027,245,16,245,16,6\" style=\"stroke: #000000; stroke-width: 1.5;\"/><line style=\"stroke: #000000; stroke-width: 1.5;\" x1=\"16\" x2=\"130\" y1=\"28.2969\" y2=\"28.2969\"/><text fill=\"#000000\" font-family=\"sans-serif\" font-size=\"14\" font-weight=\"bold\" lengthAdjust=\"spacingAndGlyphs\" textLength=\"101\" x=\"20\" y=\"20.9951\">MultiplicityTest</text></a><!--MD5=[b4997ac47864f28c2f74865a473b2911]\n",
       "class E2--><a href=\"psysml:7d5bba99-ceb9-4796-b455-cbfdc331a9aa\" target=\"_top\" title=\"psysml:7d5bba99-ceb9-4796-b455-cbfdc331a9aa\" xlink:actuate=\"onRequest\" xlink:href=\"psysml:7d5bba99-ceb9-4796-b455-cbfdc331a9aa\" xlink:show=\"new\" xlink:title=\"psysml:7d5bba99-ceb9-4796-b455-cbfdc331a9aa\" xlink:type=\"simple\"><rect fill=\"#FEFECE\" filter=\"url(#f14d2nm8ag54r9)\" height=\"40\" id=\"E2\" style=\"stroke: #A80036; stroke-width: 1.5;\" width=\"40\" x=\"670\" y=\"189\"/><ellipse cx=\"685\" cy=\"205\" fill=\"#008000\" rx=\"11\" ry=\"11\" style=\"stroke: #A80036; stroke-width: 1.0;\"/><path d=\"M681.875,210 L681.875,199.4063 L685.1094,199.4063 Q687.0156,199.4063 687.9219,200.1563 Q688.8438,200.9063 688.8438,202.0781 Q688.8438,202.7656 688.4531,203.4219 Q688.0781,204.0781 687.3594,204.375 Q688.2188,204.75 688.7344,205.4375 Q689.25,206.125 689.25,206.9375 Q689.25,208.3125 688.2188,209.1563 Q687.2031,210 685.0938,210 L681.875,210 Z M683.7969,203.6406 L684.9531,203.6406 Q686.0781,203.6406 686.4844,203.2656 Q686.9063,202.875 686.9063,202.25 Q686.9063,201.6719 686.4844,201.3125 Q686.0625,200.9531 685.125,200.9531 L683.7969,200.9531 L683.7969,203.6406 Z M683.7969,208.4219 L685.2969,208.4219 Q686.2031,208.4219 686.7344,208.0313 Q687.2656,207.6406 687.2656,206.8906 Q687.2656,206.125 686.7656,205.6563 Q686.2656,205.1719 685,205.1719 L683.7969,205.1719 L683.7969,208.4219 Z \"/><text fill=\"#000000\" font-family=\"sans-serif\" font-size=\"12\" lengthAdjust=\"spacingAndGlyphs\" textLength=\"8\" x=\"699\" y=\"209.1543\">P</text><line style=\"stroke: #A80036; stroke-width: 1.5;\" x1=\"671\" x2=\"709\" y1=\"221\" y2=\"221\"/></a><!--MD5=[09b614a08d8cba4a07c9adeb5e0fee81]\n",
       "class E3--><a href=\"psysml:ec541e3b-6371-48bf-8290-c0b2a0f88f52\" target=\"_top\" title=\"psysml:ec541e3b-6371-48bf-8290-c0b2a0f88f52\" xlink:actuate=\"onRequest\" xlink:href=\"psysml:ec541e3b-6371-48bf-8290-c0b2a0f88f52\" xlink:show=\"new\" xlink:title=\"psysml:ec541e3b-6371-48bf-8290-c0b2a0f88f52\" xlink:type=\"simple\"><rect fill=\"#FEFECE\" filter=\"url(#f14d2nm8ag54r9)\" height=\"45.9375\" id=\"E3\" rx=\"10\" ry=\"10\" style=\"stroke: #A80036; stroke-width: 1.5;\" width=\"97\" x=\"914.5\" y=\"62\"/><ellipse cx=\"929.5\" cy=\"80.9688\" fill=\"#FFA500\" rx=\"11\" ry=\"11\" style=\"stroke: #A80036; stroke-width: 1.0;\"/><path d=\"M929.25,86.4375 Q927.5,86.4375 926.5469,85.4063 Q925.6094,84.3594 925.6094,82.5156 L925.6094,75.625 L927.6719,75.625 L927.6719,75.7813 Q927.5781,75.875 927.5469,76.0156 Q927.5313,76.1406 927.5313,76.4063 L927.5313,82.5313 Q927.5313,83.625 927.9063,84.25 Q928.2813,84.875 929.2656,84.875 Q930.25,84.875 930.6406,84.25 Q931.0313,83.625 931.0313,82.4844 L931.0313,75.625 L932.9063,75.625 L932.9063,82.4688 Q932.9063,84.5 931.875,85.4688 Q930.8594,86.4375 929.25,86.4375 Z \"/><text fill=\"#000000\" font-family=\"sans-serif\" font-size=\"12\" font-style=\"italic\" lengthAdjust=\"spacingAndGlyphs\" textLength=\"69\" x=\"941.5\" y=\"78.1387\">«attribute»</text><text fill=\"#000000\" font-family=\"sans-serif\" font-size=\"12\" lengthAdjust=\"spacingAndGlyphs\" textLength=\"61\" x=\"943.5\" y=\"92.1074\">n: Integer</text><line style=\"stroke: #A80036; stroke-width: 1.5;\" x1=\"915.5\" x2=\"1010.5\" y1=\"99.9375\" y2=\"99.9375\"/></a><!--MD5=[ebbe1d658d1005bcc118a6aa81145e00]\n",
       "class E4--><a href=\"psysml:0bccd947-b2f6-485e-9c27-5cc482a56716\" target=\"_top\" title=\"psysml:0bccd947-b2f6-485e-9c27-5cc482a56716\" xlink:actuate=\"onRequest\" xlink:href=\"psysml:0bccd947-b2f6-485e-9c27-5cc482a56716\" xlink:show=\"new\" xlink:title=\"psysml:0bccd947-b2f6-485e-9c27-5cc482a56716\" xlink:type=\"simple\"><rect fill=\"#FEFECE\" filter=\"url(#f14d2nm8ag54r9)\" height=\"45.9375\" id=\"E4\" rx=\"10\" ry=\"10\" style=\"stroke: #A80036; stroke-width: 1.5;\" width=\"68\" x=\"811\" y=\"62\"/><ellipse cx=\"826\" cy=\"80.9688\" fill=\"#32CD32\" rx=\"11\" ry=\"11\" style=\"stroke: #A80036; stroke-width: 1.0;\"/><path d=\"M822.8125,85.9688 L822.8125,75.375 L826.4219,75.375 Q827.6406,75.375 828.4375,75.8125 Q829.2344,76.2344 829.6094,76.9375 Q830,77.6406 830,78.4844 Q830,79.3281 829.625,80.0156 Q829.2656,80.7031 828.4688,81.125 Q827.6875,81.5313 826.5,81.5313 L824.7656,81.5313 L824.7656,85.9688 L822.8125,85.9688 Z M824.7656,79.9375 L826.375,79.9375 Q827.1875,79.9375 827.6094,79.5313 Q828.0313,79.125 828.0313,78.4844 Q828.0313,77.8594 827.6094,77.4531 Q827.1875,77.0469 826.3906,77.0469 L824.7656,77.0469 L824.7656,79.9375 Z \"/><text fill=\"#000000\" font-family=\"sans-serif\" font-size=\"12\" font-style=\"italic\" lengthAdjust=\"spacingAndGlyphs\" textLength=\"40\" x=\"838\" y=\"78.1387\">«part»</text><text fill=\"#000000\" font-family=\"sans-serif\" font-size=\"12\" lengthAdjust=\"spacingAndGlyphs\" textLength=\"8\" x=\"852\" y=\"92.1074\">a</text><line style=\"stroke: #A80036; stroke-width: 1.5;\" x1=\"812\" x2=\"878\" y1=\"99.9375\" y2=\"99.9375\"/></a><!--MD5=[270fce915f116d4de14055a7c1d9a0f3]\n",
       "class E5--><a href=\"psysml:3563b5dd-e50a-438e-94ba-a5b38ab6df54\" target=\"_top\" title=\"psysml:3563b5dd-e50a-438e-94ba-a5b38ab6df54\" xlink:actuate=\"onRequest\" xlink:href=\"psysml:3563b5dd-e50a-438e-94ba-a5b38ab6df54\" xlink:show=\"new\" xlink:title=\"psysml:3563b5dd-e50a-438e-94ba-a5b38ab6df54\" xlink:type=\"simple\"><rect fill=\"#FEFECE\" filter=\"url(#f14d2nm8ag54r9)\" height=\"45.9375\" id=\"E5\" rx=\"10\" ry=\"10\" style=\"stroke: #A80036; stroke-width: 1.5;\" width=\"68\" x=\"708\" y=\"62\"/><ellipse cx=\"723\" cy=\"80.9688\" fill=\"#32CD32\" rx=\"11\" ry=\"11\" style=\"stroke: #A80036; stroke-width: 1.0;\"/><path d=\"M719.8125,85.9688 L719.8125,75.375 L723.4219,75.375 Q724.6406,75.375 725.4375,75.8125 Q726.2344,76.2344 726.6094,76.9375 Q727,77.6406 727,78.4844 Q727,79.3281 726.625,80.0156 Q726.2656,80.7031 725.4688,81.125 Q724.6875,81.5313 723.5,81.5313 L721.7656,81.5313 L721.7656,85.9688 L719.8125,85.9688 Z M721.7656,79.9375 L723.375,79.9375 Q724.1875,79.9375 724.6094,79.5313 Q725.0313,79.125 725.0313,78.4844 Q725.0313,77.8594 724.6094,77.4531 Q724.1875,77.0469 723.3906,77.0469 L721.7656,77.0469 L721.7656,79.9375 Z \"/><text fill=\"#000000\" font-family=\"sans-serif\" font-size=\"12\" font-style=\"italic\" lengthAdjust=\"spacingAndGlyphs\" textLength=\"40\" x=\"735\" y=\"78.1387\">«part»</text><text fill=\"#000000\" font-family=\"sans-serif\" font-size=\"12\" lengthAdjust=\"spacingAndGlyphs\" textLength=\"24\" x=\"741\" y=\"92.1074\">b: P</text><line style=\"stroke: #A80036; stroke-width: 1.5;\" x1=\"709\" x2=\"775\" y1=\"99.9375\" y2=\"99.9375\"/></a><!--MD5=[60a26617385b1d2d0262a64233df1f8d]\n",
       "class E6--><a href=\"psysml:61a7c4a1-1480-402d-a8df-76594b39497b\" target=\"_top\" title=\"psysml:61a7c4a1-1480-402d-a8df-76594b39497b\" xlink:actuate=\"onRequest\" xlink:href=\"psysml:61a7c4a1-1480-402d-a8df-76594b39497b\" xlink:show=\"new\" xlink:title=\"psysml:61a7c4a1-1480-402d-a8df-76594b39497b\" xlink:type=\"simple\"><rect fill=\"#FEFECE\" filter=\"url(#f14d2nm8ag54r9)\" height=\"45.9375\" id=\"E6\" rx=\"10\" ry=\"10\" style=\"stroke: #A80036; stroke-width: 1.5;\" width=\"68\" x=\"605\" y=\"62\"/><ellipse cx=\"620\" cy=\"80.9688\" fill=\"#32CD32\" rx=\"11\" ry=\"11\" style=\"stroke: #A80036; stroke-width: 1.0;\"/><path d=\"M616.8125,85.9688 L616.8125,75.375 L620.4219,75.375 Q621.6406,75.375 622.4375,75.8125 Q623.2344,76.2344 623.6094,76.9375 Q624,77.6406 624,78.4844 Q624,79.3281 623.625,80.0156 Q623.2656,80.7031 622.4688,81.125 Q621.6875,81.5313 620.5,81.5313 L618.7656,81.5313 L618.7656,85.9688 L616.8125,85.9688 Z M618.7656,79.9375 L620.375,79.9375 Q621.1875,79.9375 621.6094,79.5313 Q622.0313,79.125 622.0313,78.4844 Q622.0313,77.8594 621.6094,77.4531 Q621.1875,77.0469 620.3906,77.0469 L618.7656,77.0469 L618.7656,79.9375 Z \"/><text fill=\"#000000\" font-family=\"sans-serif\" font-size=\"12\" font-style=\"italic\" lengthAdjust=\"spacingAndGlyphs\" textLength=\"40\" x=\"632\" y=\"78.1387\">«part»</text><text fill=\"#000000\" font-family=\"sans-serif\" font-size=\"12\" lengthAdjust=\"spacingAndGlyphs\" textLength=\"23\" x=\"638.5\" y=\"92.1074\">c: P</text><line style=\"stroke: #A80036; stroke-width: 1.5;\" x1=\"606\" x2=\"672\" y1=\"99.9375\" y2=\"99.9375\"/></a><!--MD5=[2156ba9850f5573cc1fc38a6a4b2f02b]\n",
       "class E7--><a href=\"psysml:f3d0dfc0-0dbb-4454-830c-43cee9c0f8af\" target=\"_top\" title=\"psysml:f3d0dfc0-0dbb-4454-830c-43cee9c0f8af\" xlink:actuate=\"onRequest\" xlink:href=\"psysml:f3d0dfc0-0dbb-4454-830c-43cee9c0f8af\" xlink:show=\"new\" xlink:title=\"psysml:f3d0dfc0-0dbb-4454-830c-43cee9c0f8af\" xlink:type=\"simple\"><rect fill=\"#FEFECE\" filter=\"url(#f14d2nm8ag54r9)\" height=\"45.9375\" id=\"E7\" rx=\"10\" ry=\"10\" style=\"stroke: #A80036; stroke-width: 1.5;\" width=\"68\" x=\"502\" y=\"62\"/><ellipse cx=\"517\" cy=\"80.9688\" fill=\"#32CD32\" rx=\"11\" ry=\"11\" style=\"stroke: #A80036; stroke-width: 1.0;\"/><path d=\"M513.8125,85.9688 L513.8125,75.375 L517.4219,75.375 Q518.6406,75.375 519.4375,75.8125 Q520.2344,76.2344 520.6094,76.9375 Q521,77.6406 521,78.4844 Q521,79.3281 520.625,80.0156 Q520.2656,80.7031 519.4688,81.125 Q518.6875,81.5313 517.5,81.5313 L515.7656,81.5313 L515.7656,85.9688 L513.8125,85.9688 Z M515.7656,79.9375 L517.375,79.9375 Q518.1875,79.9375 518.6094,79.5313 Q519.0313,79.125 519.0313,78.4844 Q519.0313,77.8594 518.6094,77.4531 Q518.1875,77.0469 517.3906,77.0469 L515.7656,77.0469 L515.7656,79.9375 Z \"/><text fill=\"#000000\" font-family=\"sans-serif\" font-size=\"12\" font-style=\"italic\" lengthAdjust=\"spacingAndGlyphs\" textLength=\"40\" x=\"529\" y=\"78.1387\">«part»</text><text fill=\"#000000\" font-family=\"sans-serif\" font-size=\"12\" lengthAdjust=\"spacingAndGlyphs\" textLength=\"8\" x=\"543\" y=\"92.1074\">d</text><line style=\"stroke: #A80036; stroke-width: 1.5;\" x1=\"503\" x2=\"569\" y1=\"99.9375\" y2=\"99.9375\"/></a><!--MD5=[b9389687b975829384b498ac4b7476b2]\n",
       "class E8--><a href=\"psysml:470ebeae-9c21-45dc-92b7-3ec0bcac92c0\" target=\"_top\" title=\"psysml:470ebeae-9c21-45dc-92b7-3ec0bcac92c0\" xlink:actuate=\"onRequest\" xlink:href=\"psysml:470ebeae-9c21-45dc-92b7-3ec0bcac92c0\" xlink:show=\"new\" xlink:title=\"psysml:470ebeae-9c21-45dc-92b7-3ec0bcac92c0\" xlink:type=\"simple\"><rect fill=\"#FEFECE\" filter=\"url(#f14d2nm8ag54r9)\" height=\"45.9375\" id=\"E8\" rx=\"10\" ry=\"10\" style=\"stroke: #A80036; stroke-width: 1.5;\" width=\"68\" x=\"399\" y=\"62\"/><ellipse cx=\"414\" cy=\"80.9688\" fill=\"#32CD32\" rx=\"11\" ry=\"11\" style=\"stroke: #A80036; stroke-width: 1.0;\"/><path d=\"M410.8125,85.9688 L410.8125,75.375 L414.4219,75.375 Q415.6406,75.375 416.4375,75.8125 Q417.2344,76.2344 417.6094,76.9375 Q418,77.6406 418,78.4844 Q418,79.3281 417.625,80.0156 Q417.2656,80.7031 416.4688,81.125 Q415.6875,81.5313 414.5,81.5313 L412.7656,81.5313 L412.7656,85.9688 L410.8125,85.9688 Z M412.7656,79.9375 L414.375,79.9375 Q415.1875,79.9375 415.6094,79.5313 Q416.0313,79.125 416.0313,78.4844 Q416.0313,77.8594 415.6094,77.4531 Q415.1875,77.0469 414.3906,77.0469 L412.7656,77.0469 L412.7656,79.9375 Z \"/><text fill=\"#000000\" font-family=\"sans-serif\" font-size=\"12\" font-style=\"italic\" lengthAdjust=\"spacingAndGlyphs\" textLength=\"40\" x=\"426\" y=\"78.1387\">«part»</text><text fill=\"#000000\" font-family=\"sans-serif\" font-size=\"12\" lengthAdjust=\"spacingAndGlyphs\" textLength=\"8\" x=\"440\" y=\"92.1074\">e</text><line style=\"stroke: #A80036; stroke-width: 1.5;\" x1=\"400\" x2=\"466\" y1=\"99.9375\" y2=\"99.9375\"/></a><!--MD5=[fd4143e9d270a159db93a4ea2a975926]\n",
       "class E9--><a href=\"psysml:e3b105f8-a02a-4959-8fa9-8da786795f1e\" target=\"_top\" title=\"psysml:e3b105f8-a02a-4959-8fa9-8da786795f1e\" xlink:actuate=\"onRequest\" xlink:href=\"psysml:e3b105f8-a02a-4959-8fa9-8da786795f1e\" xlink:show=\"new\" xlink:title=\"psysml:e3b105f8-a02a-4959-8fa9-8da786795f1e\" xlink:type=\"simple\"><rect fill=\"#FEFECE\" filter=\"url(#f14d2nm8ag54r9)\" height=\"45.9375\" id=\"E9\" rx=\"10\" ry=\"10\" style=\"stroke: #A80036; stroke-width: 1.5;\" width=\"68\" x=\"296\" y=\"62\"/><ellipse cx=\"311\" cy=\"80.9688\" fill=\"#32CD32\" rx=\"11\" ry=\"11\" style=\"stroke: #A80036; stroke-width: 1.0;\"/><path d=\"M307.8125,85.9688 L307.8125,75.375 L311.4219,75.375 Q312.6406,75.375 313.4375,75.8125 Q314.2344,76.2344 314.6094,76.9375 Q315,77.6406 315,78.4844 Q315,79.3281 314.625,80.0156 Q314.2656,80.7031 313.4688,81.125 Q312.6875,81.5313 311.5,81.5313 L309.7656,81.5313 L309.7656,85.9688 L307.8125,85.9688 Z M309.7656,79.9375 L311.375,79.9375 Q312.1875,79.9375 312.6094,79.5313 Q313.0313,79.125 313.0313,78.4844 Q313.0313,77.8594 312.6094,77.4531 Q312.1875,77.0469 311.3906,77.0469 L309.7656,77.0469 L309.7656,79.9375 Z \"/><text fill=\"#000000\" font-family=\"sans-serif\" font-size=\"12\" font-style=\"italic\" lengthAdjust=\"spacingAndGlyphs\" textLength=\"40\" x=\"323\" y=\"78.1387\">«part»</text><text fill=\"#000000\" font-family=\"sans-serif\" font-size=\"12\" lengthAdjust=\"spacingAndGlyphs\" textLength=\"4\" x=\"339\" y=\"92.1074\">f</text><line style=\"stroke: #A80036; stroke-width: 1.5;\" x1=\"297\" x2=\"363\" y1=\"99.9375\" y2=\"99.9375\"/></a><!--MD5=[96f4274e9e20536e775497830990834d]\n",
       "class E10--><a href=\"psysml:0b08e64f-1d74-4a65-b189-b5a78b2f5a03\" target=\"_top\" title=\"psysml:0b08e64f-1d74-4a65-b189-b5a78b2f5a03\" xlink:actuate=\"onRequest\" xlink:href=\"psysml:0b08e64f-1d74-4a65-b189-b5a78b2f5a03\" xlink:show=\"new\" xlink:title=\"psysml:0b08e64f-1d74-4a65-b189-b5a78b2f5a03\" xlink:type=\"simple\"><rect fill=\"#FEFECE\" filter=\"url(#f14d2nm8ag54r9)\" height=\"45.9375\" id=\"E10\" rx=\"10\" ry=\"10\" style=\"stroke: #A80036; stroke-width: 1.5;\" width=\"68\" x=\"193\" y=\"62\"/><ellipse cx=\"208\" cy=\"80.9688\" fill=\"#32CD32\" rx=\"11\" ry=\"11\" style=\"stroke: #A80036; stroke-width: 1.0;\"/><path d=\"M204.8125,85.9688 L204.8125,75.375 L208.4219,75.375 Q209.6406,75.375 210.4375,75.8125 Q211.2344,76.2344 211.6094,76.9375 Q212,77.6406 212,78.4844 Q212,79.3281 211.625,80.0156 Q211.2656,80.7031 210.4688,81.125 Q209.6875,81.5313 208.5,81.5313 L206.7656,81.5313 L206.7656,85.9688 L204.8125,85.9688 Z M206.7656,79.9375 L208.375,79.9375 Q209.1875,79.9375 209.6094,79.5313 Q210.0313,79.125 210.0313,78.4844 Q210.0313,77.8594 209.6094,77.4531 Q209.1875,77.0469 208.3906,77.0469 L206.7656,77.0469 L206.7656,79.9375 Z \"/><text fill=\"#000000\" font-family=\"sans-serif\" font-size=\"12\" font-style=\"italic\" lengthAdjust=\"spacingAndGlyphs\" textLength=\"40\" x=\"220\" y=\"78.1387\">«part»</text><text fill=\"#000000\" font-family=\"sans-serif\" font-size=\"12\" lengthAdjust=\"spacingAndGlyphs\" textLength=\"8\" x=\"234\" y=\"92.1074\">g</text><line style=\"stroke: #A80036; stroke-width: 1.5;\" x1=\"194\" x2=\"260\" y1=\"99.9375\" y2=\"99.9375\"/></a><!--MD5=[1dd1bfd58a279cf63c5f349dbc8fc6a1]\n",
       "class E11--><a href=\"psysml:d2ba3396-0b46-40b3-bbf4-49972d7872ff\" target=\"_top\" title=\"psysml:d2ba3396-0b46-40b3-bbf4-49972d7872ff\" xlink:actuate=\"onRequest\" xlink:href=\"psysml:d2ba3396-0b46-40b3-bbf4-49972d7872ff\" xlink:show=\"new\" xlink:title=\"psysml:d2ba3396-0b46-40b3-bbf4-49972d7872ff\" xlink:type=\"simple\"><rect fill=\"#FEFECE\" filter=\"url(#f14d2nm8ag54r9)\" height=\"88.3516\" id=\"E11\" style=\"stroke: #A80036; stroke-width: 1.5;\" width=\"125\" x=\"32.5\" y=\"41\"/><ellipse cx=\"47.5\" cy=\"59.9688\" fill=\"#A52A2A\" rx=\"11\" ry=\"11\" style=\"stroke: #A80036; stroke-width: 1.0;\"/><path d=\"M44.7188,64.9688 L44.7188,54.375 L47.4531,54.375 Q48.8438,54.375 49.6094,54.7656 Q50.3906,55.1406 50.9219,55.8438 Q51.4531,56.5469 51.75,57.5469 Q52.0469,58.5313 52.0469,59.75 Q52,61.3438 51.5,62.5313 Q51.0156,63.7031 49.9688,64.3438 Q48.9375,64.9688 47.25,64.9688 L44.7188,64.9688 Z M46.5781,63.4688 L47.2031,63.4688 Q48.2813,63.4688 48.9375,63.0156 Q49.5938,62.5625 49.875,61.7344 Q50.1719,60.8906 50.1563,59.7656 Q50.1563,58.5938 49.9063,57.7344 Q49.6563,56.8594 49.0469,56.3906 Q48.4375,55.9063 47.3906,55.9063 L46.5781,55.9063 L46.5781,63.4688 Z \"/><text fill=\"#000000\" font-family=\"sans-serif\" font-size=\"12\" font-style=\"italic\" lengthAdjust=\"spacingAndGlyphs\" textLength=\"97\" x=\"59.5\" y=\"57.1387\">«attribute  def»</text><text fill=\"#000000\" font-family=\"sans-serif\" font-size=\"12\" lengthAdjust=\"spacingAndGlyphs\" textLength=\"8\" x=\"104\" y=\"71.1074\">A</text><line style=\"stroke: #A80036; stroke-width: 1.5;\" x1=\"33.5\" x2=\"156.5\" y1=\"78.9375\" y2=\"78.9375\"/><text fill=\"#000000\" font-family=\"sans-serif\" font-size=\"11\" lengthAdjust=\"spacingAndGlyphs\" textLength=\"51\" x=\"38.5\" y=\"109.9526\">i: Integer</text><text fill=\"#000000\" font-family=\"sans-serif\" font-size=\"11\" lengthAdjust=\"spacingAndGlyphs\" textLength=\"21\" x=\"38.5\" y=\"122.7573\">x: A</text><line style=\"stroke: #A80036; stroke-width: 1.0;\" x1=\"33.5\" x2=\"67.5\" y1=\"93.3398\" y2=\"93.3398\"/><text fill=\"#000000\" font-family=\"sans-serif\" font-size=\"11\" lengthAdjust=\"spacingAndGlyphs\" textLength=\"55\" x=\"67.5\" y=\"96.6479\">attributes</text><line style=\"stroke: #A80036; stroke-width: 1.0;\" x1=\"122.5\" x2=\"156.5\" y1=\"93.3398\" y2=\"93.3398\"/></a><!--MD5=[15ebcb19ae302d9b601edb458606d402]\n",
       "link E5 to E2--><a href=\"psysml:b362769d-1260-4065-9b83-621f0da47e8d\" target=\"_top\" title=\"psysml:b362769d-1260-4065-9b83-621f0da47e8d\" xlink:actuate=\"onRequest\" xlink:href=\"psysml:b362769d-1260-4065-9b83-621f0da47e8d\" xlink:show=\"new\" xlink:title=\"psysml:b362769d-1260-4065-9b83-621f0da47e8d\" xlink:type=\"simple\"><path d=\"M732.58,108.09 C725.21,125.4 714.78,149.87 706.08,170.26 \" fill=\"none\" id=\"E5-&gt;E2\" style=\"stroke: #A80036; stroke-width: 1.0;\"/><polygon fill=\"#FFFFFF\" points=\"698.15,188.88,699.1606,168.6568,712.0395,174.1463,698.15,188.88\" style=\"stroke: #A80036; stroke-width: 1.0;\"/><ellipse cx=\"703.2355\" cy=\"164.1975\" fill=\"#A80036\" rx=\"2\" ry=\"2\" style=\"stroke: #A80036; stroke-width: 1.0;\"/><ellipse cx=\"712.4347\" cy=\"168.1185\" fill=\"#A80036\" rx=\"2\" ry=\"2\" style=\"stroke: #A80036; stroke-width: 1.0;\"/></a><!--MD5=[2351f337d6de0f557b50152ba70847b5]\n",
       "link E6 to E2--><a href=\"psysml:03080077-3284-4bc2-8ec3-31a93274162e\" target=\"_top\" title=\"psysml:03080077-3284-4bc2-8ec3-31a93274162e\" xlink:actuate=\"onRequest\" xlink:href=\"psysml:03080077-3284-4bc2-8ec3-31a93274162e\" xlink:show=\"new\" xlink:title=\"psysml:03080077-3284-4bc2-8ec3-31a93274162e\" xlink:type=\"simple\"><path d=\"M648.24,108.09 C655.47,125.4 665.7,149.87 674.22,170.26 \" fill=\"none\" id=\"E6-&gt;E2\" style=\"stroke: #A80036; stroke-width: 1.0;\"/><polygon fill=\"#FFFFFF\" points=\"682.01,188.88,668.2245,174.049,681.1416,168.6502,682.01,188.88\" style=\"stroke: #A80036; stroke-width: 1.0;\"/><ellipse cx=\"667.8717\" cy=\"168.0186\" fill=\"#A80036\" rx=\"2\" ry=\"2\" style=\"stroke: #A80036; stroke-width: 1.0;\"/><ellipse cx=\"677.0982\" cy=\"164.1623\" fill=\"#A80036\" rx=\"2\" ry=\"2\" style=\"stroke: #A80036; stroke-width: 1.0;\"/></a><!--MD5=[f0b53918b45105b6de75ab554b4fa138]\n",
       "@startuml\r\n",
       " \r\n",
       "package \"MultiplicityTest\" as E1  [[psysml:e445ccd1-d7b4-46a5-bbe0-1ba908b830dd ]]  {\r\n",
       "comp def \"P\" as E2 << << (B,green) >> [[psysml:7d5bba99-ceb9-4796-b455-cbfdc331a9aa ]] {\r\n",
       "}\r\n",
       "comp usage \"n: Integer \" as E3 << <<(U,orange) attribute>> [[psysml:ec541e3b-6371-48bf-8290-c0b2a0f88f52 ]] {\r\n",
       "}\r\n",
       "comp usage \"a \" as E4 << << (P,limegreen) part>> [[psysml:0bccd947-b2f6-485e-9c27-5cc482a56716 ]] {\r\n",
       "}\r\n",
       "comp usage \"b: P \" as E5 << << (P,limegreen) part>> [[psysml:3563b5dd-e50a-438e-94ba-a5b38ab6df54 ]] {\r\n",
       "}\r\n",
       "comp usage \"c: P \" as E6 << << (P,limegreen) part>> [[psysml:61a7c4a1-1480-402d-a8df-76594b39497b ]] {\r\n",
       "}\r\n",
       "comp usage \"d \" as E7 << << (P,limegreen) part>> [[psysml:f3d0dfc0-0dbb-4454-830c-43cee9c0f8af ]] {\r\n",
       "}\r\n",
       "comp usage \"e \" as E8 << << (P,limegreen) part>> [[psysml:470ebeae-9c21-45dc-92b7-3ec0bcac92c0 ]] {\r\n",
       "}\r\n",
       "comp usage \"f \" as E9 << << (P,limegreen) part>> [[psysml:e3b105f8-a02a-4959-8fa9-8da786795f1e ]] {\r\n",
       "}\r\n",
       "comp usage \"g \" as E10 << << (P,limegreen) part>> [[psysml:0b08e64f-1d74-4a65-b189-b5a78b2f5a03 ]] {\r\n",
       "}\r\n",
       "comp def \"A\" as E11 << <<(D,brown) attribute  def>> [[psysml:d2ba3396-0b46-40b3-bbf4-49972d7872ff ]] {\r\n",
       "- - attributes - -\r\n",
       "i: Integer\r\n",
       "x: A\r\n",
       "}\r\n",
       "}\r\n",
       "E5 - -:|> E2 [[psysml:b362769d-1260-4065-9b83-621f0da47e8d ]] \r\n",
       "E6 - -:|> E2 [[psysml:03080077-3284-4bc2-8ec3-31a93274162e ]] \r\n",
       "@enduml\r\n",
       "\n",
       "PlantUML version 1.2020.13(Sat Jun 13 12:26:38 UTC 2020)\n",
       "(EPL source distribution)\n",
       "Java Runtime: OpenJDK Runtime Environment\n",
       "JVM: OpenJDK 64-Bit Server VM\n",
       "Default Encoding: UTF-8\n",
       "Language: en\n",
       "Country: null\n",
       "--></g></svg>"
      ]
     },
     "execution_count": 30,
     "metadata": {},
     "output_type": "execute_result"
    }
   ],
   "source": [
    "%viz --style=\"PLANTUML\" --view=\"Default\" \"MultiplicityTest\""
   ]
  },
  {
   "cell_type": "code",
   "execution_count": 31,
   "id": "da8f05eb",
   "metadata": {
    "execution": {
     "iopub.execute_input": "2022-02-05T16:56:10.506507Z",
     "iopub.status.busy": "2022-02-05T16:56:10.506072Z",
     "iopub.status.idle": "2022-02-05T16:56:10.573885Z",
     "shell.execute_reply": "2022-02-05T16:56:10.573512Z"
    }
   },
   "outputs": [
    {
     "data": {
      "image/svg+xml": [
       "<?xml version=\"1.0\" encoding=\"UTF-8\" standalone=\"no\"?><svg xmlns=\"http://www.w3.org/2000/svg\" xmlns:xlink=\"http://www.w3.org/1999/xlink\" contentScriptType=\"application/ecmascript\" contentStyleType=\"text/css\" height=\"257px\" preserveAspectRatio=\"none\" style=\"width:1049px;height:257px;\" version=\"1.1\" viewBox=\"0 0 1049 257\" width=\"1049px\" zoomAndPan=\"magnify\"><defs><filter height=\"300%\" id=\"f14d2nm8ag54r9\" width=\"300%\" x=\"-1\" y=\"-1\"><feGaussianBlur result=\"blurOut\" stdDeviation=\"2.0\"/><feColorMatrix in=\"blurOut\" result=\"blurOut2\" type=\"matrix\" values=\"0 0 0 0 0 0 0 0 0 0 0 0 0 0 0 0 0 0 .4 0\"/><feOffset dx=\"4.0\" dy=\"4.0\" in=\"blurOut2\" result=\"blurOut3\"/><feBlend in=\"SourceGraphic\" in2=\"blurOut3\" mode=\"normal\"/></filter></defs><g><!--MD5=[fbc87193dbaf4d95561dea2c320d4a47]\n",
       "cluster E1--><a href=\"psysml:e445ccd1-d7b4-46a5-bbe0-1ba908b830dd\" target=\"_top\" title=\"psysml:e445ccd1-d7b4-46a5-bbe0-1ba908b830dd\" xlink:actuate=\"onRequest\" xlink:href=\"psysml:e445ccd1-d7b4-46a5-bbe0-1ba908b830dd\" xlink:show=\"new\" xlink:title=\"psysml:e445ccd1-d7b4-46a5-bbe0-1ba908b830dd\" xlink:type=\"simple\"><polygon fill=\"#FFFFFF\" filter=\"url(#f14d2nm8ag54r9)\" points=\"16,6,123,6,130,28.2969,1027,28.2969,1027,245,16,245,16,6\" style=\"stroke: #000000; stroke-width: 1.5;\"/><line style=\"stroke: #000000; stroke-width: 1.5;\" x1=\"16\" x2=\"130\" y1=\"28.2969\" y2=\"28.2969\"/><text fill=\"#000000\" font-family=\"sans-serif\" font-size=\"14\" font-weight=\"bold\" lengthAdjust=\"spacingAndGlyphs\" textLength=\"101\" x=\"20\" y=\"20.9951\">MultiplicityTest</text></a><!--MD5=[b4997ac47864f28c2f74865a473b2911]\n",
       "class E2--><a href=\"psysml:7d5bba99-ceb9-4796-b455-cbfdc331a9aa\" target=\"_top\" title=\"psysml:7d5bba99-ceb9-4796-b455-cbfdc331a9aa\" xlink:actuate=\"onRequest\" xlink:href=\"psysml:7d5bba99-ceb9-4796-b455-cbfdc331a9aa\" xlink:show=\"new\" xlink:title=\"psysml:7d5bba99-ceb9-4796-b455-cbfdc331a9aa\" xlink:type=\"simple\"><rect fill=\"#FEFECE\" filter=\"url(#f14d2nm8ag54r9)\" height=\"40\" id=\"E2\" style=\"stroke: #A80036; stroke-width: 1.5;\" width=\"40\" x=\"670\" y=\"189\"/><ellipse cx=\"685\" cy=\"205\" fill=\"#008000\" rx=\"11\" ry=\"11\" style=\"stroke: #A80036; stroke-width: 1.0;\"/><path d=\"M681.875,210 L681.875,199.4063 L685.1094,199.4063 Q687.0156,199.4063 687.9219,200.1563 Q688.8438,200.9063 688.8438,202.0781 Q688.8438,202.7656 688.4531,203.4219 Q688.0781,204.0781 687.3594,204.375 Q688.2188,204.75 688.7344,205.4375 Q689.25,206.125 689.25,206.9375 Q689.25,208.3125 688.2188,209.1563 Q687.2031,210 685.0938,210 L681.875,210 Z M683.7969,203.6406 L684.9531,203.6406 Q686.0781,203.6406 686.4844,203.2656 Q686.9063,202.875 686.9063,202.25 Q686.9063,201.6719 686.4844,201.3125 Q686.0625,200.9531 685.125,200.9531 L683.7969,200.9531 L683.7969,203.6406 Z M683.7969,208.4219 L685.2969,208.4219 Q686.2031,208.4219 686.7344,208.0313 Q687.2656,207.6406 687.2656,206.8906 Q687.2656,206.125 686.7656,205.6563 Q686.2656,205.1719 685,205.1719 L683.7969,205.1719 L683.7969,208.4219 Z \"/><text fill=\"#000000\" font-family=\"sans-serif\" font-size=\"12\" lengthAdjust=\"spacingAndGlyphs\" textLength=\"8\" x=\"699\" y=\"209.1543\">P</text><line style=\"stroke: #A80036; stroke-width: 1.5;\" x1=\"671\" x2=\"709\" y1=\"221\" y2=\"221\"/></a><!--MD5=[09b614a08d8cba4a07c9adeb5e0fee81]\n",
       "class E3--><a href=\"psysml:ec541e3b-6371-48bf-8290-c0b2a0f88f52\" target=\"_top\" title=\"psysml:ec541e3b-6371-48bf-8290-c0b2a0f88f52\" xlink:actuate=\"onRequest\" xlink:href=\"psysml:ec541e3b-6371-48bf-8290-c0b2a0f88f52\" xlink:show=\"new\" xlink:title=\"psysml:ec541e3b-6371-48bf-8290-c0b2a0f88f52\" xlink:type=\"simple\"><rect fill=\"#FEFECE\" filter=\"url(#f14d2nm8ag54r9)\" height=\"45.9375\" id=\"E3\" rx=\"10\" ry=\"10\" style=\"stroke: #A80036; stroke-width: 1.5;\" width=\"97\" x=\"914.5\" y=\"62\"/><ellipse cx=\"929.5\" cy=\"80.9688\" fill=\"#FFA500\" rx=\"11\" ry=\"11\" style=\"stroke: #A80036; stroke-width: 1.0;\"/><path d=\"M929.25,86.4375 Q927.5,86.4375 926.5469,85.4063 Q925.6094,84.3594 925.6094,82.5156 L925.6094,75.625 L927.6719,75.625 L927.6719,75.7813 Q927.5781,75.875 927.5469,76.0156 Q927.5313,76.1406 927.5313,76.4063 L927.5313,82.5313 Q927.5313,83.625 927.9063,84.25 Q928.2813,84.875 929.2656,84.875 Q930.25,84.875 930.6406,84.25 Q931.0313,83.625 931.0313,82.4844 L931.0313,75.625 L932.9063,75.625 L932.9063,82.4688 Q932.9063,84.5 931.875,85.4688 Q930.8594,86.4375 929.25,86.4375 Z \"/><text fill=\"#000000\" font-family=\"sans-serif\" font-size=\"12\" font-style=\"italic\" lengthAdjust=\"spacingAndGlyphs\" textLength=\"69\" x=\"941.5\" y=\"78.1387\">«attribute»</text><text fill=\"#000000\" font-family=\"sans-serif\" font-size=\"12\" lengthAdjust=\"spacingAndGlyphs\" textLength=\"61\" x=\"943.5\" y=\"92.1074\">n: Integer</text><line style=\"stroke: #A80036; stroke-width: 1.5;\" x1=\"915.5\" x2=\"1010.5\" y1=\"99.9375\" y2=\"99.9375\"/></a><!--MD5=[ebbe1d658d1005bcc118a6aa81145e00]\n",
       "class E4--><a href=\"psysml:0bccd947-b2f6-485e-9c27-5cc482a56716\" target=\"_top\" title=\"psysml:0bccd947-b2f6-485e-9c27-5cc482a56716\" xlink:actuate=\"onRequest\" xlink:href=\"psysml:0bccd947-b2f6-485e-9c27-5cc482a56716\" xlink:show=\"new\" xlink:title=\"psysml:0bccd947-b2f6-485e-9c27-5cc482a56716\" xlink:type=\"simple\"><rect fill=\"#FEFECE\" filter=\"url(#f14d2nm8ag54r9)\" height=\"45.9375\" id=\"E4\" rx=\"10\" ry=\"10\" style=\"stroke: #A80036; stroke-width: 1.5;\" width=\"68\" x=\"811\" y=\"62\"/><ellipse cx=\"826\" cy=\"80.9688\" fill=\"#32CD32\" rx=\"11\" ry=\"11\" style=\"stroke: #A80036; stroke-width: 1.0;\"/><path d=\"M822.8125,85.9688 L822.8125,75.375 L826.4219,75.375 Q827.6406,75.375 828.4375,75.8125 Q829.2344,76.2344 829.6094,76.9375 Q830,77.6406 830,78.4844 Q830,79.3281 829.625,80.0156 Q829.2656,80.7031 828.4688,81.125 Q827.6875,81.5313 826.5,81.5313 L824.7656,81.5313 L824.7656,85.9688 L822.8125,85.9688 Z M824.7656,79.9375 L826.375,79.9375 Q827.1875,79.9375 827.6094,79.5313 Q828.0313,79.125 828.0313,78.4844 Q828.0313,77.8594 827.6094,77.4531 Q827.1875,77.0469 826.3906,77.0469 L824.7656,77.0469 L824.7656,79.9375 Z \"/><text fill=\"#000000\" font-family=\"sans-serif\" font-size=\"12\" font-style=\"italic\" lengthAdjust=\"spacingAndGlyphs\" textLength=\"40\" x=\"838\" y=\"78.1387\">«part»</text><text fill=\"#000000\" font-family=\"sans-serif\" font-size=\"12\" lengthAdjust=\"spacingAndGlyphs\" textLength=\"8\" x=\"852\" y=\"92.1074\">a</text><line style=\"stroke: #A80036; stroke-width: 1.5;\" x1=\"812\" x2=\"878\" y1=\"99.9375\" y2=\"99.9375\"/></a><!--MD5=[270fce915f116d4de14055a7c1d9a0f3]\n",
       "class E5--><a href=\"psysml:3563b5dd-e50a-438e-94ba-a5b38ab6df54\" target=\"_top\" title=\"psysml:3563b5dd-e50a-438e-94ba-a5b38ab6df54\" xlink:actuate=\"onRequest\" xlink:href=\"psysml:3563b5dd-e50a-438e-94ba-a5b38ab6df54\" xlink:show=\"new\" xlink:title=\"psysml:3563b5dd-e50a-438e-94ba-a5b38ab6df54\" xlink:type=\"simple\"><rect fill=\"#FEFECE\" filter=\"url(#f14d2nm8ag54r9)\" height=\"45.9375\" id=\"E5\" rx=\"10\" ry=\"10\" style=\"stroke: #A80036; stroke-width: 1.5;\" width=\"68\" x=\"708\" y=\"62\"/><ellipse cx=\"723\" cy=\"80.9688\" fill=\"#32CD32\" rx=\"11\" ry=\"11\" style=\"stroke: #A80036; stroke-width: 1.0;\"/><path d=\"M719.8125,85.9688 L719.8125,75.375 L723.4219,75.375 Q724.6406,75.375 725.4375,75.8125 Q726.2344,76.2344 726.6094,76.9375 Q727,77.6406 727,78.4844 Q727,79.3281 726.625,80.0156 Q726.2656,80.7031 725.4688,81.125 Q724.6875,81.5313 723.5,81.5313 L721.7656,81.5313 L721.7656,85.9688 L719.8125,85.9688 Z M721.7656,79.9375 L723.375,79.9375 Q724.1875,79.9375 724.6094,79.5313 Q725.0313,79.125 725.0313,78.4844 Q725.0313,77.8594 724.6094,77.4531 Q724.1875,77.0469 723.3906,77.0469 L721.7656,77.0469 L721.7656,79.9375 Z \"/><text fill=\"#000000\" font-family=\"sans-serif\" font-size=\"12\" font-style=\"italic\" lengthAdjust=\"spacingAndGlyphs\" textLength=\"40\" x=\"735\" y=\"78.1387\">«part»</text><text fill=\"#000000\" font-family=\"sans-serif\" font-size=\"12\" lengthAdjust=\"spacingAndGlyphs\" textLength=\"24\" x=\"741\" y=\"92.1074\">b: P</text><line style=\"stroke: #A80036; stroke-width: 1.5;\" x1=\"709\" x2=\"775\" y1=\"99.9375\" y2=\"99.9375\"/></a><!--MD5=[60a26617385b1d2d0262a64233df1f8d]\n",
       "class E6--><a href=\"psysml:61a7c4a1-1480-402d-a8df-76594b39497b\" target=\"_top\" title=\"psysml:61a7c4a1-1480-402d-a8df-76594b39497b\" xlink:actuate=\"onRequest\" xlink:href=\"psysml:61a7c4a1-1480-402d-a8df-76594b39497b\" xlink:show=\"new\" xlink:title=\"psysml:61a7c4a1-1480-402d-a8df-76594b39497b\" xlink:type=\"simple\"><rect fill=\"#FEFECE\" filter=\"url(#f14d2nm8ag54r9)\" height=\"45.9375\" id=\"E6\" rx=\"10\" ry=\"10\" style=\"stroke: #A80036; stroke-width: 1.5;\" width=\"68\" x=\"605\" y=\"62\"/><ellipse cx=\"620\" cy=\"80.9688\" fill=\"#32CD32\" rx=\"11\" ry=\"11\" style=\"stroke: #A80036; stroke-width: 1.0;\"/><path d=\"M616.8125,85.9688 L616.8125,75.375 L620.4219,75.375 Q621.6406,75.375 622.4375,75.8125 Q623.2344,76.2344 623.6094,76.9375 Q624,77.6406 624,78.4844 Q624,79.3281 623.625,80.0156 Q623.2656,80.7031 622.4688,81.125 Q621.6875,81.5313 620.5,81.5313 L618.7656,81.5313 L618.7656,85.9688 L616.8125,85.9688 Z M618.7656,79.9375 L620.375,79.9375 Q621.1875,79.9375 621.6094,79.5313 Q622.0313,79.125 622.0313,78.4844 Q622.0313,77.8594 621.6094,77.4531 Q621.1875,77.0469 620.3906,77.0469 L618.7656,77.0469 L618.7656,79.9375 Z \"/><text fill=\"#000000\" font-family=\"sans-serif\" font-size=\"12\" font-style=\"italic\" lengthAdjust=\"spacingAndGlyphs\" textLength=\"40\" x=\"632\" y=\"78.1387\">«part»</text><text fill=\"#000000\" font-family=\"sans-serif\" font-size=\"12\" lengthAdjust=\"spacingAndGlyphs\" textLength=\"23\" x=\"638.5\" y=\"92.1074\">c: P</text><line style=\"stroke: #A80036; stroke-width: 1.5;\" x1=\"606\" x2=\"672\" y1=\"99.9375\" y2=\"99.9375\"/></a><!--MD5=[2156ba9850f5573cc1fc38a6a4b2f02b]\n",
       "class E7--><a href=\"psysml:f3d0dfc0-0dbb-4454-830c-43cee9c0f8af\" target=\"_top\" title=\"psysml:f3d0dfc0-0dbb-4454-830c-43cee9c0f8af\" xlink:actuate=\"onRequest\" xlink:href=\"psysml:f3d0dfc0-0dbb-4454-830c-43cee9c0f8af\" xlink:show=\"new\" xlink:title=\"psysml:f3d0dfc0-0dbb-4454-830c-43cee9c0f8af\" xlink:type=\"simple\"><rect fill=\"#FEFECE\" filter=\"url(#f14d2nm8ag54r9)\" height=\"45.9375\" id=\"E7\" rx=\"10\" ry=\"10\" style=\"stroke: #A80036; stroke-width: 1.5;\" width=\"68\" x=\"502\" y=\"62\"/><ellipse cx=\"517\" cy=\"80.9688\" fill=\"#32CD32\" rx=\"11\" ry=\"11\" style=\"stroke: #A80036; stroke-width: 1.0;\"/><path d=\"M513.8125,85.9688 L513.8125,75.375 L517.4219,75.375 Q518.6406,75.375 519.4375,75.8125 Q520.2344,76.2344 520.6094,76.9375 Q521,77.6406 521,78.4844 Q521,79.3281 520.625,80.0156 Q520.2656,80.7031 519.4688,81.125 Q518.6875,81.5313 517.5,81.5313 L515.7656,81.5313 L515.7656,85.9688 L513.8125,85.9688 Z M515.7656,79.9375 L517.375,79.9375 Q518.1875,79.9375 518.6094,79.5313 Q519.0313,79.125 519.0313,78.4844 Q519.0313,77.8594 518.6094,77.4531 Q518.1875,77.0469 517.3906,77.0469 L515.7656,77.0469 L515.7656,79.9375 Z \"/><text fill=\"#000000\" font-family=\"sans-serif\" font-size=\"12\" font-style=\"italic\" lengthAdjust=\"spacingAndGlyphs\" textLength=\"40\" x=\"529\" y=\"78.1387\">«part»</text><text fill=\"#000000\" font-family=\"sans-serif\" font-size=\"12\" lengthAdjust=\"spacingAndGlyphs\" textLength=\"8\" x=\"543\" y=\"92.1074\">d</text><line style=\"stroke: #A80036; stroke-width: 1.5;\" x1=\"503\" x2=\"569\" y1=\"99.9375\" y2=\"99.9375\"/></a><!--MD5=[b9389687b975829384b498ac4b7476b2]\n",
       "class E8--><a href=\"psysml:470ebeae-9c21-45dc-92b7-3ec0bcac92c0\" target=\"_top\" title=\"psysml:470ebeae-9c21-45dc-92b7-3ec0bcac92c0\" xlink:actuate=\"onRequest\" xlink:href=\"psysml:470ebeae-9c21-45dc-92b7-3ec0bcac92c0\" xlink:show=\"new\" xlink:title=\"psysml:470ebeae-9c21-45dc-92b7-3ec0bcac92c0\" xlink:type=\"simple\"><rect fill=\"#FEFECE\" filter=\"url(#f14d2nm8ag54r9)\" height=\"45.9375\" id=\"E8\" rx=\"10\" ry=\"10\" style=\"stroke: #A80036; stroke-width: 1.5;\" width=\"68\" x=\"399\" y=\"62\"/><ellipse cx=\"414\" cy=\"80.9688\" fill=\"#32CD32\" rx=\"11\" ry=\"11\" style=\"stroke: #A80036; stroke-width: 1.0;\"/><path d=\"M410.8125,85.9688 L410.8125,75.375 L414.4219,75.375 Q415.6406,75.375 416.4375,75.8125 Q417.2344,76.2344 417.6094,76.9375 Q418,77.6406 418,78.4844 Q418,79.3281 417.625,80.0156 Q417.2656,80.7031 416.4688,81.125 Q415.6875,81.5313 414.5,81.5313 L412.7656,81.5313 L412.7656,85.9688 L410.8125,85.9688 Z M412.7656,79.9375 L414.375,79.9375 Q415.1875,79.9375 415.6094,79.5313 Q416.0313,79.125 416.0313,78.4844 Q416.0313,77.8594 415.6094,77.4531 Q415.1875,77.0469 414.3906,77.0469 L412.7656,77.0469 L412.7656,79.9375 Z \"/><text fill=\"#000000\" font-family=\"sans-serif\" font-size=\"12\" font-style=\"italic\" lengthAdjust=\"spacingAndGlyphs\" textLength=\"40\" x=\"426\" y=\"78.1387\">«part»</text><text fill=\"#000000\" font-family=\"sans-serif\" font-size=\"12\" lengthAdjust=\"spacingAndGlyphs\" textLength=\"8\" x=\"440\" y=\"92.1074\">e</text><line style=\"stroke: #A80036; stroke-width: 1.5;\" x1=\"400\" x2=\"466\" y1=\"99.9375\" y2=\"99.9375\"/></a><!--MD5=[fd4143e9d270a159db93a4ea2a975926]\n",
       "class E9--><a href=\"psysml:e3b105f8-a02a-4959-8fa9-8da786795f1e\" target=\"_top\" title=\"psysml:e3b105f8-a02a-4959-8fa9-8da786795f1e\" xlink:actuate=\"onRequest\" xlink:href=\"psysml:e3b105f8-a02a-4959-8fa9-8da786795f1e\" xlink:show=\"new\" xlink:title=\"psysml:e3b105f8-a02a-4959-8fa9-8da786795f1e\" xlink:type=\"simple\"><rect fill=\"#FEFECE\" filter=\"url(#f14d2nm8ag54r9)\" height=\"45.9375\" id=\"E9\" rx=\"10\" ry=\"10\" style=\"stroke: #A80036; stroke-width: 1.5;\" width=\"68\" x=\"296\" y=\"62\"/><ellipse cx=\"311\" cy=\"80.9688\" fill=\"#32CD32\" rx=\"11\" ry=\"11\" style=\"stroke: #A80036; stroke-width: 1.0;\"/><path d=\"M307.8125,85.9688 L307.8125,75.375 L311.4219,75.375 Q312.6406,75.375 313.4375,75.8125 Q314.2344,76.2344 314.6094,76.9375 Q315,77.6406 315,78.4844 Q315,79.3281 314.625,80.0156 Q314.2656,80.7031 313.4688,81.125 Q312.6875,81.5313 311.5,81.5313 L309.7656,81.5313 L309.7656,85.9688 L307.8125,85.9688 Z M309.7656,79.9375 L311.375,79.9375 Q312.1875,79.9375 312.6094,79.5313 Q313.0313,79.125 313.0313,78.4844 Q313.0313,77.8594 312.6094,77.4531 Q312.1875,77.0469 311.3906,77.0469 L309.7656,77.0469 L309.7656,79.9375 Z \"/><text fill=\"#000000\" font-family=\"sans-serif\" font-size=\"12\" font-style=\"italic\" lengthAdjust=\"spacingAndGlyphs\" textLength=\"40\" x=\"323\" y=\"78.1387\">«part»</text><text fill=\"#000000\" font-family=\"sans-serif\" font-size=\"12\" lengthAdjust=\"spacingAndGlyphs\" textLength=\"4\" x=\"339\" y=\"92.1074\">f</text><line style=\"stroke: #A80036; stroke-width: 1.5;\" x1=\"297\" x2=\"363\" y1=\"99.9375\" y2=\"99.9375\"/></a><!--MD5=[96f4274e9e20536e775497830990834d]\n",
       "class E10--><a href=\"psysml:0b08e64f-1d74-4a65-b189-b5a78b2f5a03\" target=\"_top\" title=\"psysml:0b08e64f-1d74-4a65-b189-b5a78b2f5a03\" xlink:actuate=\"onRequest\" xlink:href=\"psysml:0b08e64f-1d74-4a65-b189-b5a78b2f5a03\" xlink:show=\"new\" xlink:title=\"psysml:0b08e64f-1d74-4a65-b189-b5a78b2f5a03\" xlink:type=\"simple\"><rect fill=\"#FEFECE\" filter=\"url(#f14d2nm8ag54r9)\" height=\"45.9375\" id=\"E10\" rx=\"10\" ry=\"10\" style=\"stroke: #A80036; stroke-width: 1.5;\" width=\"68\" x=\"193\" y=\"62\"/><ellipse cx=\"208\" cy=\"80.9688\" fill=\"#32CD32\" rx=\"11\" ry=\"11\" style=\"stroke: #A80036; stroke-width: 1.0;\"/><path d=\"M204.8125,85.9688 L204.8125,75.375 L208.4219,75.375 Q209.6406,75.375 210.4375,75.8125 Q211.2344,76.2344 211.6094,76.9375 Q212,77.6406 212,78.4844 Q212,79.3281 211.625,80.0156 Q211.2656,80.7031 210.4688,81.125 Q209.6875,81.5313 208.5,81.5313 L206.7656,81.5313 L206.7656,85.9688 L204.8125,85.9688 Z M206.7656,79.9375 L208.375,79.9375 Q209.1875,79.9375 209.6094,79.5313 Q210.0313,79.125 210.0313,78.4844 Q210.0313,77.8594 209.6094,77.4531 Q209.1875,77.0469 208.3906,77.0469 L206.7656,77.0469 L206.7656,79.9375 Z \"/><text fill=\"#000000\" font-family=\"sans-serif\" font-size=\"12\" font-style=\"italic\" lengthAdjust=\"spacingAndGlyphs\" textLength=\"40\" x=\"220\" y=\"78.1387\">«part»</text><text fill=\"#000000\" font-family=\"sans-serif\" font-size=\"12\" lengthAdjust=\"spacingAndGlyphs\" textLength=\"8\" x=\"234\" y=\"92.1074\">g</text><line style=\"stroke: #A80036; stroke-width: 1.5;\" x1=\"194\" x2=\"260\" y1=\"99.9375\" y2=\"99.9375\"/></a><!--MD5=[1dd1bfd58a279cf63c5f349dbc8fc6a1]\n",
       "class E11--><a href=\"psysml:d2ba3396-0b46-40b3-bbf4-49972d7872ff\" target=\"_top\" title=\"psysml:d2ba3396-0b46-40b3-bbf4-49972d7872ff\" xlink:actuate=\"onRequest\" xlink:href=\"psysml:d2ba3396-0b46-40b3-bbf4-49972d7872ff\" xlink:show=\"new\" xlink:title=\"psysml:d2ba3396-0b46-40b3-bbf4-49972d7872ff\" xlink:type=\"simple\"><rect fill=\"#FEFECE\" filter=\"url(#f14d2nm8ag54r9)\" height=\"88.3516\" id=\"E11\" style=\"stroke: #A80036; stroke-width: 1.5;\" width=\"125\" x=\"32.5\" y=\"41\"/><ellipse cx=\"47.5\" cy=\"59.9688\" fill=\"#A52A2A\" rx=\"11\" ry=\"11\" style=\"stroke: #A80036; stroke-width: 1.0;\"/><path d=\"M44.7188,64.9688 L44.7188,54.375 L47.4531,54.375 Q48.8438,54.375 49.6094,54.7656 Q50.3906,55.1406 50.9219,55.8438 Q51.4531,56.5469 51.75,57.5469 Q52.0469,58.5313 52.0469,59.75 Q52,61.3438 51.5,62.5313 Q51.0156,63.7031 49.9688,64.3438 Q48.9375,64.9688 47.25,64.9688 L44.7188,64.9688 Z M46.5781,63.4688 L47.2031,63.4688 Q48.2813,63.4688 48.9375,63.0156 Q49.5938,62.5625 49.875,61.7344 Q50.1719,60.8906 50.1563,59.7656 Q50.1563,58.5938 49.9063,57.7344 Q49.6563,56.8594 49.0469,56.3906 Q48.4375,55.9063 47.3906,55.9063 L46.5781,55.9063 L46.5781,63.4688 Z \"/><text fill=\"#000000\" font-family=\"sans-serif\" font-size=\"12\" font-style=\"italic\" lengthAdjust=\"spacingAndGlyphs\" textLength=\"97\" x=\"59.5\" y=\"57.1387\">«attribute  def»</text><text fill=\"#000000\" font-family=\"sans-serif\" font-size=\"12\" lengthAdjust=\"spacingAndGlyphs\" textLength=\"8\" x=\"104\" y=\"71.1074\">A</text><line style=\"stroke: #A80036; stroke-width: 1.5;\" x1=\"33.5\" x2=\"156.5\" y1=\"78.9375\" y2=\"78.9375\"/><text fill=\"#000000\" font-family=\"sans-serif\" font-size=\"11\" lengthAdjust=\"spacingAndGlyphs\" textLength=\"51\" x=\"38.5\" y=\"109.9526\">i: Integer</text><text fill=\"#000000\" font-family=\"sans-serif\" font-size=\"11\" lengthAdjust=\"spacingAndGlyphs\" textLength=\"21\" x=\"38.5\" y=\"122.7573\">x: A</text><line style=\"stroke: #A80036; stroke-width: 1.0;\" x1=\"33.5\" x2=\"67.5\" y1=\"93.3398\" y2=\"93.3398\"/><text fill=\"#000000\" font-family=\"sans-serif\" font-size=\"11\" lengthAdjust=\"spacingAndGlyphs\" textLength=\"55\" x=\"67.5\" y=\"96.6479\">attributes</text><line style=\"stroke: #A80036; stroke-width: 1.0;\" x1=\"122.5\" x2=\"156.5\" y1=\"93.3398\" y2=\"93.3398\"/></a><!--MD5=[15ebcb19ae302d9b601edb458606d402]\n",
       "link E5 to E2--><a href=\"psysml:b362769d-1260-4065-9b83-621f0da47e8d\" target=\"_top\" title=\"psysml:b362769d-1260-4065-9b83-621f0da47e8d\" xlink:actuate=\"onRequest\" xlink:href=\"psysml:b362769d-1260-4065-9b83-621f0da47e8d\" xlink:show=\"new\" xlink:title=\"psysml:b362769d-1260-4065-9b83-621f0da47e8d\" xlink:type=\"simple\"><path d=\"M732.58,108.09 C725.21,125.4 714.78,149.87 706.08,170.26 \" fill=\"none\" id=\"E5-&gt;E2\" style=\"stroke: #A80036; stroke-width: 1.0;\"/><polygon fill=\"#FFFFFF\" points=\"698.15,188.88,699.1606,168.6568,712.0395,174.1463,698.15,188.88\" style=\"stroke: #A80036; stroke-width: 1.0;\"/><ellipse cx=\"703.2355\" cy=\"164.1975\" fill=\"#A80036\" rx=\"2\" ry=\"2\" style=\"stroke: #A80036; stroke-width: 1.0;\"/><ellipse cx=\"712.4347\" cy=\"168.1185\" fill=\"#A80036\" rx=\"2\" ry=\"2\" style=\"stroke: #A80036; stroke-width: 1.0;\"/></a><!--MD5=[2351f337d6de0f557b50152ba70847b5]\n",
       "link E6 to E2--><a href=\"psysml:03080077-3284-4bc2-8ec3-31a93274162e\" target=\"_top\" title=\"psysml:03080077-3284-4bc2-8ec3-31a93274162e\" xlink:actuate=\"onRequest\" xlink:href=\"psysml:03080077-3284-4bc2-8ec3-31a93274162e\" xlink:show=\"new\" xlink:title=\"psysml:03080077-3284-4bc2-8ec3-31a93274162e\" xlink:type=\"simple\"><path d=\"M648.24,108.09 C655.47,125.4 665.7,149.87 674.22,170.26 \" fill=\"none\" id=\"E6-&gt;E2\" style=\"stroke: #A80036; stroke-width: 1.0;\"/><polygon fill=\"#FFFFFF\" points=\"682.01,188.88,668.2245,174.049,681.1416,168.6502,682.01,188.88\" style=\"stroke: #A80036; stroke-width: 1.0;\"/><ellipse cx=\"667.8717\" cy=\"168.0186\" fill=\"#A80036\" rx=\"2\" ry=\"2\" style=\"stroke: #A80036; stroke-width: 1.0;\"/><ellipse cx=\"677.0982\" cy=\"164.1623\" fill=\"#A80036\" rx=\"2\" ry=\"2\" style=\"stroke: #A80036; stroke-width: 1.0;\"/></a><!--MD5=[f0b53918b45105b6de75ab554b4fa138]\n",
       "@startuml\r\n",
       " \r\n",
       "package \"MultiplicityTest\" as E1  [[psysml:e445ccd1-d7b4-46a5-bbe0-1ba908b830dd ]]  {\r\n",
       "comp def \"P\" as E2 << << (B,green) >> [[psysml:7d5bba99-ceb9-4796-b455-cbfdc331a9aa ]] {\r\n",
       "}\r\n",
       "comp usage \"n: Integer \" as E3 << <<(U,orange) attribute>> [[psysml:ec541e3b-6371-48bf-8290-c0b2a0f88f52 ]] {\r\n",
       "}\r\n",
       "comp usage \"a \" as E4 << << (P,limegreen) part>> [[psysml:0bccd947-b2f6-485e-9c27-5cc482a56716 ]] {\r\n",
       "}\r\n",
       "comp usage \"b: P \" as E5 << << (P,limegreen) part>> [[psysml:3563b5dd-e50a-438e-94ba-a5b38ab6df54 ]] {\r\n",
       "}\r\n",
       "comp usage \"c: P \" as E6 << << (P,limegreen) part>> [[psysml:61a7c4a1-1480-402d-a8df-76594b39497b ]] {\r\n",
       "}\r\n",
       "comp usage \"d \" as E7 << << (P,limegreen) part>> [[psysml:f3d0dfc0-0dbb-4454-830c-43cee9c0f8af ]] {\r\n",
       "}\r\n",
       "comp usage \"e \" as E8 << << (P,limegreen) part>> [[psysml:470ebeae-9c21-45dc-92b7-3ec0bcac92c0 ]] {\r\n",
       "}\r\n",
       "comp usage \"f \" as E9 << << (P,limegreen) part>> [[psysml:e3b105f8-a02a-4959-8fa9-8da786795f1e ]] {\r\n",
       "}\r\n",
       "comp usage \"g \" as E10 << << (P,limegreen) part>> [[psysml:0b08e64f-1d74-4a65-b189-b5a78b2f5a03 ]] {\r\n",
       "}\r\n",
       "comp def \"A\" as E11 << <<(D,brown) attribute  def>> [[psysml:d2ba3396-0b46-40b3-bbf4-49972d7872ff ]] {\r\n",
       "- - attributes - -\r\n",
       "i: Integer\r\n",
       "x: A\r\n",
       "}\r\n",
       "}\r\n",
       "E5 - -:|> E2 [[psysml:b362769d-1260-4065-9b83-621f0da47e8d ]] \r\n",
       "E6 - -:|> E2 [[psysml:03080077-3284-4bc2-8ec3-31a93274162e ]] \r\n",
       "@enduml\r\n",
       "\n",
       "PlantUML version 1.2020.13(Sat Jun 13 12:26:38 UTC 2020)\n",
       "(EPL source distribution)\n",
       "Java Runtime: OpenJDK Runtime Environment\n",
       "JVM: OpenJDK 64-Bit Server VM\n",
       "Default Encoding: UTF-8\n",
       "Language: en\n",
       "Country: null\n",
       "--></g></svg>"
      ]
     },
     "execution_count": 31,
     "metadata": {},
     "output_type": "execute_result"
    }
   ],
   "source": [
    "%viz --style=\"PLANTUML\" --view=\"Tree\" \"MultiplicityTest\""
   ]
  },
  {
   "cell_type": "code",
   "execution_count": 32,
   "id": "3751388c",
   "metadata": {
    "execution": {
     "iopub.execute_input": "2022-02-05T16:56:10.623360Z",
     "iopub.status.busy": "2022-02-05T16:56:10.622918Z",
     "iopub.status.idle": "2022-02-05T16:56:10.708656Z",
     "shell.execute_reply": "2022-02-05T16:56:10.707473Z"
    }
   },
   "outputs": [
    {
     "data": {
      "image/svg+xml": [
       "<?xml version=\"1.0\" encoding=\"UTF-8\" standalone=\"no\"?><svg xmlns=\"http://www.w3.org/2000/svg\" xmlns:xlink=\"http://www.w3.org/1999/xlink\" contentScriptType=\"application/ecmascript\" contentStyleType=\"text/css\" height=\"300px\" preserveAspectRatio=\"none\" style=\"width:603px;height:300px;background:#000000;\" version=\"1.1\" viewBox=\"0 0 603 300\" width=\"603px\" zoomAndPan=\"magnify\"><defs/><g><rect fill=\"#0F1826\" height=\"1\" style=\"stroke: #0F1826; stroke-width: 1.0;\" width=\"1\" x=\"0\" y=\"0\"/><rect fill=\"#FFFFFF\" height=\"202.8012\" style=\"stroke: #FFFFFF; stroke-width: 1.0;\" width=\"602\" x=\"0\" y=\"0\"/><text fill=\"#000000\" font-family=\"sans-serif\" font-size=\"12\" font-weight=\"bold\" lengthAdjust=\"spacingAndGlyphs\" textLength=\"139\" x=\"5\" y=\"16.1387\">Welcome to PlantUML!</text><text fill=\"#000000\" font-family=\"sans-serif\" font-size=\"12\" lengthAdjust=\"spacingAndGlyphs\" textLength=\"0\" x=\"9\" y=\"30.1074\"/><text fill=\"#000000\" font-family=\"sans-serif\" font-size=\"12\" lengthAdjust=\"spacingAndGlyphs\" textLength=\"293\" x=\"5\" y=\"44.0762\">If you use this software, you accept its license.</text><text fill=\"#000000\" font-family=\"sans-serif\" font-size=\"12\" lengthAdjust=\"spacingAndGlyphs\" textLength=\"107\" x=\"5\" y=\"58.0449\">(details by typing</text><text fill=\"#000000\" font-family=\"monospace\" font-size=\"12\" lengthAdjust=\"spacingAndGlyphs\" textLength=\"42\" x=\"116\" y=\"58.595\">license</text><text fill=\"#000000\" font-family=\"sans-serif\" font-size=\"12\" lengthAdjust=\"spacingAndGlyphs\" textLength=\"56\" x=\"162\" y=\"58.0449\">keyword)</text><text fill=\"#000000\" font-family=\"sans-serif\" font-size=\"12\" lengthAdjust=\"spacingAndGlyphs\" textLength=\"0\" x=\"9\" y=\"72.0137\"/><text fill=\"#000000\" font-family=\"sans-serif\" font-size=\"12\" lengthAdjust=\"spacingAndGlyphs\" textLength=\"283\" x=\"5\" y=\"85.9824\">You can start with a simple UML Diagram like:</text><text fill=\"#000000\" font-family=\"sans-serif\" font-size=\"12\" lengthAdjust=\"spacingAndGlyphs\" textLength=\"0\" x=\"9\" y=\"99.9512\"/><text fill=\"#000000\" font-family=\"monospace\" font-size=\"12\" lengthAdjust=\"spacingAndGlyphs\" textLength=\"102\" x=\"5\" y=\"113.0893\">Bob-&gt;Alice: Hello</text><text fill=\"#000000\" font-family=\"sans-serif\" font-size=\"12\" lengthAdjust=\"spacingAndGlyphs\" textLength=\"0\" x=\"9\" y=\"126.508\"/><text fill=\"#000000\" font-family=\"sans-serif\" font-size=\"12\" lengthAdjust=\"spacingAndGlyphs\" textLength=\"14\" x=\"5\" y=\"140.4768\">Or</text><text fill=\"#000000\" font-family=\"sans-serif\" font-size=\"12\" lengthAdjust=\"spacingAndGlyphs\" textLength=\"0\" x=\"9\" y=\"154.4455\"/><text fill=\"#000000\" font-family=\"monospace\" font-size=\"12\" lengthAdjust=\"spacingAndGlyphs\" textLength=\"78\" x=\"5\" y=\"167.5837\">class Example</text><text fill=\"#000000\" font-family=\"sans-serif\" font-size=\"12\" lengthAdjust=\"spacingAndGlyphs\" textLength=\"0\" x=\"9\" y=\"181.0023\"/><text fill=\"#000000\" font-family=\"sans-serif\" font-size=\"12\" lengthAdjust=\"spacingAndGlyphs\" textLength=\"349\" x=\"5\" y=\"194.9711\">You will find more information about PlantUML syntax on</text><text fill=\"#000000\" font-family=\"sans-serif\" font-size=\"12\" lengthAdjust=\"spacingAndGlyphs\" text-decoration=\"underline\" textLength=\"129\" x=\"358\" y=\"194.9711\">https://plantuml.com</text><image height=\"71\" width=\"80\" x=\"516\" xlink:href=\"data:image/png;base64,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\" y=\"6\"/><rect fill=\"#000000\" height=\"96.4844\" style=\"stroke: #000000; stroke-width: 1.0;\" width=\"602\" x=\"0\" y=\"202.8012\"/><rect fill=\"#33FF02\" height=\"21.2969\" style=\"stroke: #33FF02; stroke-width: 1.0;\" width=\"145\" x=\"5\" y=\"207.8012\"/><text fill=\"#000000\" font-family=\"sans-serif\" font-size=\"14\" font-weight=\"bold\" lengthAdjust=\"spacingAndGlyphs\" textLength=\"143\" x=\"6\" y=\"222.8012\">[From string (line 2) ]</text><text fill=\"#33FF02\" font-family=\"sans-serif\" font-size=\"14\" font-weight=\"bold\" lengthAdjust=\"spacingAndGlyphs\" textLength=\"0\" x=\"9\" y=\"243.0981\"/><text fill=\"#33FF02\" font-family=\"sans-serif\" font-size=\"14\" font-weight=\"bold\" lengthAdjust=\"spacingAndGlyphs\" textLength=\"70\" x=\"5\" y=\"259.3949\">@startuml</text><text fill=\"#33FF02\" font-family=\"sans-serif\" font-size=\"14\" font-weight=\"bold\" lengthAdjust=\"spacingAndGlyphs\" textLength=\"0\" x=\"9\" y=\"275.6918\"/><text fill=\"#FF0000\" font-family=\"sans-serif\" font-size=\"14\" font-weight=\"bold\" lengthAdjust=\"spacingAndGlyphs\" textLength=\"124\" x=\"9\" y=\"291.9887\">Empty description</text><!--MD5=[f59edd8218d337f74d0c332fc6737304]\n",
       "@startuml\r\n",
       " \r\n",
       "@enduml\r\n",
       "\n",
       "PlantUML version 1.2020.13(Sat Jun 13 12:26:38 UTC 2020)\n",
       "(EPL source distribution)\n",
       "Java Runtime: OpenJDK Runtime Environment\n",
       "JVM: OpenJDK 64-Bit Server VM\n",
       "Default Encoding: UTF-8\n",
       "Language: en\n",
       "Country: null\n",
       "--></g></svg>"
      ]
     },
     "execution_count": 32,
     "metadata": {},
     "output_type": "execute_result"
    }
   ],
   "source": [
    "%viz --style=\"PLANTUML\" --view=\"State\" \"MultiplicityTest\""
   ]
  },
  {
   "cell_type": "code",
   "execution_count": 33,
   "id": "84330864",
   "metadata": {
    "execution": {
     "iopub.execute_input": "2022-02-05T16:56:10.758259Z",
     "iopub.status.busy": "2022-02-05T16:56:10.757861Z",
     "iopub.status.idle": "2022-02-05T16:56:10.783082Z",
     "shell.execute_reply": "2022-02-05T16:56:10.781694Z"
    }
   },
   "outputs": [
    {
     "data": {
      "image/svg+xml": [
       "<?xml version=\"1.0\" encoding=\"UTF-8\" standalone=\"no\"?><svg xmlns=\"http://www.w3.org/2000/svg\" xmlns:xlink=\"http://www.w3.org/1999/xlink\" contentScriptType=\"application/ecmascript\" contentStyleType=\"text/css\" height=\"115px\" preserveAspectRatio=\"none\" style=\"width:1034px;height:115px;\" version=\"1.1\" viewBox=\"0 0 1034 115\" width=\"1034px\" zoomAndPan=\"magnify\"><defs><filter height=\"300%\" id=\"fpjwpwnysbkc0\" width=\"300%\" x=\"-1\" y=\"-1\"><feGaussianBlur result=\"blurOut\" stdDeviation=\"2.0\"/><feColorMatrix in=\"blurOut\" result=\"blurOut2\" type=\"matrix\" values=\"0 0 0 0 0 0 0 0 0 0 0 0 0 0 0 0 0 0 .4 0\"/><feOffset dx=\"4.0\" dy=\"4.0\" in=\"blurOut2\" result=\"blurOut3\"/><feBlend in=\"SourceGraphic\" in2=\"blurOut3\" mode=\"normal\"/></filter></defs><g><!--MD5=[fbc87193dbaf4d95561dea2c320d4a47]\n",
       "cluster E1--><a href=\"psysml:e445ccd1-d7b4-46a5-bbe0-1ba908b830dd\" target=\"_top\" title=\"psysml:e445ccd1-d7b4-46a5-bbe0-1ba908b830dd\" xlink:actuate=\"onRequest\" xlink:href=\"psysml:e445ccd1-d7b4-46a5-bbe0-1ba908b830dd\" xlink:show=\"new\" xlink:title=\"psysml:e445ccd1-d7b4-46a5-bbe0-1ba908b830dd\" xlink:type=\"simple\"><polygon fill=\"#FFFFFF\" filter=\"url(#fpjwpwnysbkc0)\" points=\"16,6,123,6,130,28.2969,1012,28.2969,1012,103,16,103,16,6\" style=\"stroke: #000000; stroke-width: 1.5;\"/><line style=\"stroke: #000000; stroke-width: 1.5;\" x1=\"16\" x2=\"130\" y1=\"28.2969\" y2=\"28.2969\"/><text fill=\"#000000\" font-family=\"sans-serif\" font-size=\"14\" font-weight=\"bold\" lengthAdjust=\"spacingAndGlyphs\" textLength=\"101\" x=\"20\" y=\"20.9951\">MultiplicityTest</text></a><!--MD5=[09b614a08d8cba4a07c9adeb5e0fee81]\n",
       "class E3--><a href=\"psysml:ec541e3b-6371-48bf-8290-c0b2a0f88f52\" target=\"_top\" title=\"psysml:ec541e3b-6371-48bf-8290-c0b2a0f88f52\" xlink:actuate=\"onRequest\" xlink:href=\"psysml:ec541e3b-6371-48bf-8290-c0b2a0f88f52\" xlink:show=\"new\" xlink:title=\"psysml:ec541e3b-6371-48bf-8290-c0b2a0f88f52\" xlink:type=\"simple\"><rect fill=\"#FEFECE\" filter=\"url(#fpjwpwnysbkc0)\" height=\"45.9375\" id=\"E3\" rx=\"10\" ry=\"10\" style=\"stroke: #A80036; stroke-width: 1.5;\" width=\"97\" x=\"899.5\" y=\"41\"/><ellipse cx=\"914.5\" cy=\"59.9688\" fill=\"#FFA500\" rx=\"11\" ry=\"11\" style=\"stroke: #A80036; stroke-width: 1.0;\"/><path d=\"M914.25,65.4375 Q912.5,65.4375 911.5469,64.4063 Q910.6094,63.3594 910.6094,61.5156 L910.6094,54.625 L912.6719,54.625 L912.6719,54.7813 Q912.5781,54.875 912.5469,55.0156 Q912.5313,55.1406 912.5313,55.4063 L912.5313,61.5313 Q912.5313,62.625 912.9063,63.25 Q913.2813,63.875 914.2656,63.875 Q915.25,63.875 915.6406,63.25 Q916.0313,62.625 916.0313,61.4844 L916.0313,54.625 L917.9063,54.625 L917.9063,61.4688 Q917.9063,63.5 916.875,64.4688 Q915.8594,65.4375 914.25,65.4375 Z \"/><text fill=\"#000000\" font-family=\"sans-serif\" font-size=\"12\" font-style=\"italic\" lengthAdjust=\"spacingAndGlyphs\" textLength=\"69\" x=\"926.5\" y=\"57.1387\">«attribute»</text><text fill=\"#000000\" font-family=\"sans-serif\" font-size=\"12\" lengthAdjust=\"spacingAndGlyphs\" textLength=\"61\" x=\"928.5\" y=\"71.1074\">n: Integer</text><line style=\"stroke: #A80036; stroke-width: 1.5;\" x1=\"900.5\" x2=\"995.5\" y1=\"78.9375\" y2=\"78.9375\"/></a><g id=\"E1.E11\"><a href=\"psysml:d2ba3396-0b46-40b3-bbf4-49972d7872ff\" target=\"_top\" title=\"psysml:d2ba3396-0b46-40b3-bbf4-49972d7872ff\" xlink:actuate=\"onRequest\" xlink:href=\"psysml:d2ba3396-0b46-40b3-bbf4-49972d7872ff\" xlink:show=\"new\" xlink:title=\"psysml:d2ba3396-0b46-40b3-bbf4-49972d7872ff\" xlink:type=\"simple\"><rect fill=\"#FEFECE\" filter=\"url(#fpjwpwnysbkc0)\" height=\"42.9375\" id=\"E11\" style=\"stroke: #A80036; stroke-width: 1.5;\" width=\"130\" x=\"734\" y=\"42.5\"/><ellipse cx=\"751.25\" cy=\"61.4688\" fill=\"#A52A2A\" rx=\"11\" ry=\"11\" style=\"stroke: #A80036; stroke-width: 1.0;\"/><path d=\"M748.4688,66.4688 L748.4688,55.875 L751.2031,55.875 Q752.5938,55.875 753.3594,56.2656 Q754.1406,56.6406 754.6719,57.3438 Q755.2031,58.0469 755.5,59.0469 Q755.7969,60.0313 755.7969,61.25 Q755.75,62.8438 755.25,64.0313 Q754.7656,65.2031 753.7188,65.8438 Q752.6875,66.4688 751,66.4688 L748.4688,66.4688 Z M750.3281,64.9688 L750.9531,64.9688 Q752.0313,64.9688 752.6875,64.5156 Q753.3438,64.0625 753.625,63.2344 Q753.9219,62.3906 753.9063,61.2656 Q753.9063,60.0938 753.6563,59.2344 Q753.4063,58.3594 752.7969,57.8906 Q752.1875,57.4063 751.1406,57.4063 L750.3281,57.4063 L750.3281,64.9688 Z \"/><text fill=\"#000000\" font-family=\"sans-serif\" font-size=\"12\" font-style=\"italic\" lengthAdjust=\"spacingAndGlyphs\" textLength=\"97\" x=\"763.75\" y=\"58.6387\">«attribute  def»</text><text fill=\"#000000\" font-family=\"sans-serif\" font-size=\"12\" lengthAdjust=\"spacingAndGlyphs\" textLength=\"8\" x=\"808.25\" y=\"72.6074\">A</text></a></g><g id=\"E1.E2\"><a href=\"psysml:7d5bba99-ceb9-4796-b455-cbfdc331a9aa\" target=\"_top\" title=\"psysml:7d5bba99-ceb9-4796-b455-cbfdc331a9aa\" xlink:actuate=\"onRequest\" xlink:href=\"psysml:7d5bba99-ceb9-4796-b455-cbfdc331a9aa\" xlink:show=\"new\" xlink:title=\"psysml:7d5bba99-ceb9-4796-b455-cbfdc331a9aa\" xlink:type=\"simple\"><rect fill=\"#FEFECE\" filter=\"url(#fpjwpwnysbkc0)\" height=\"40\" id=\"E2\" style=\"stroke: #A80036; stroke-width: 1.5;\" width=\"50\" x=\"649\" y=\"44\"/><ellipse cx=\"668.5\" cy=\"60\" fill=\"#008000\" rx=\"11\" ry=\"11\" style=\"stroke: #A80036; stroke-width: 1.0;\"/><path d=\"M665.375,65 L665.375,54.4063 L668.6094,54.4063 Q670.5156,54.4063 671.4219,55.1563 Q672.3438,55.9063 672.3438,57.0781 Q672.3438,57.7656 671.9531,58.4219 Q671.5781,59.0781 670.8594,59.375 Q671.7188,59.75 672.2344,60.4375 Q672.75,61.125 672.75,61.9375 Q672.75,63.3125 671.7188,64.1563 Q670.7031,65 668.5938,65 L665.375,65 Z M667.2969,58.6406 L668.4531,58.6406 Q669.5781,58.6406 669.9844,58.2656 Q670.4063,57.875 670.4063,57.25 Q670.4063,56.6719 669.9844,56.3125 Q669.5625,55.9531 668.625,55.9531 L667.2969,55.9531 L667.2969,58.6406 Z M667.2969,63.4219 L668.7969,63.4219 Q669.7031,63.4219 670.2344,63.0313 Q670.7656,62.6406 670.7656,61.8906 Q670.7656,61.125 670.2656,60.6563 Q669.7656,60.1719 668.5,60.1719 L667.2969,60.1719 L667.2969,63.4219 Z \"/><text fill=\"#000000\" font-family=\"sans-serif\" font-size=\"12\" lengthAdjust=\"spacingAndGlyphs\" textLength=\"8\" x=\"683.5\" y=\"64.1543\">P</text></a></g><g id=\"E1.E4\"><a href=\"psysml:0bccd947-b2f6-485e-9c27-5cc482a56716\" target=\"_top\" title=\"psysml:0bccd947-b2f6-485e-9c27-5cc482a56716\" xlink:actuate=\"onRequest\" xlink:href=\"psysml:0bccd947-b2f6-485e-9c27-5cc482a56716\" xlink:show=\"new\" xlink:title=\"psysml:0bccd947-b2f6-485e-9c27-5cc482a56716\" xlink:type=\"simple\"><rect fill=\"#FEFECE\" filter=\"url(#fpjwpwnysbkc0)\" height=\"40\" id=\"E4\" rx=\"10\" ry=\"10\" style=\"stroke: #A80036; stroke-width: 1.5;\" width=\"50\" x=\"564\" y=\"44\"/><ellipse cx=\"583.5\" cy=\"60\" fill=\"#B6DBBB\" rx=\"11\" ry=\"11\" style=\"stroke: #A80036; stroke-width: 1.0;\"/><path d=\"M583.25,65.4688 Q581.5,65.4688 580.5469,64.4375 Q579.6094,63.3906 579.6094,61.5469 L579.6094,54.6563 L581.6719,54.6563 L581.6719,54.8125 Q581.5781,54.9063 581.5469,55.0469 Q581.5313,55.1719 581.5313,55.4375 L581.5313,61.5625 Q581.5313,62.6563 581.9063,63.2813 Q582.2813,63.9063 583.2656,63.9063 Q584.25,63.9063 584.6406,63.2813 Q585.0313,62.6563 585.0313,61.5156 L585.0313,54.6563 L586.9063,54.6563 L586.9063,61.5 Q586.9063,63.5313 585.875,64.5 Q584.8594,65.4688 583.25,65.4688 Z \"/><text fill=\"#000000\" font-family=\"sans-serif\" font-size=\"12\" lengthAdjust=\"spacingAndGlyphs\" textLength=\"8\" x=\"598.5\" y=\"64.1543\">a</text></a></g><g id=\"E1.E5\"><a href=\"psysml:3563b5dd-e50a-438e-94ba-a5b38ab6df54\" target=\"_top\" title=\"psysml:3563b5dd-e50a-438e-94ba-a5b38ab6df54\" xlink:actuate=\"onRequest\" xlink:href=\"psysml:3563b5dd-e50a-438e-94ba-a5b38ab6df54\" xlink:show=\"new\" xlink:title=\"psysml:3563b5dd-e50a-438e-94ba-a5b38ab6df54\" xlink:type=\"simple\"><rect fill=\"#FEFECE\" filter=\"url(#fpjwpwnysbkc0)\" height=\"40\" id=\"E5\" rx=\"10\" ry=\"10\" style=\"stroke: #A80036; stroke-width: 1.5;\" width=\"61\" x=\"467.5\" y=\"44\"/><ellipse cx=\"484.75\" cy=\"60\" fill=\"#B6DBBB\" rx=\"11\" ry=\"11\" style=\"stroke: #A80036; stroke-width: 1.0;\"/><path d=\"M484.5,65.4688 Q482.75,65.4688 481.7969,64.4375 Q480.8594,63.3906 480.8594,61.5469 L480.8594,54.6563 L482.9219,54.6563 L482.9219,54.8125 Q482.8281,54.9063 482.7969,55.0469 Q482.7813,55.1719 482.7813,55.4375 L482.7813,61.5625 Q482.7813,62.6563 483.1563,63.2813 Q483.5313,63.9063 484.5156,63.9063 Q485.5,63.9063 485.8906,63.2813 Q486.2813,62.6563 486.2813,61.5156 L486.2813,54.6563 L488.1563,54.6563 L488.1563,61.5 Q488.1563,63.5313 487.125,64.5 Q486.1094,65.4688 484.5,65.4688 Z \"/><text fill=\"#000000\" font-family=\"sans-serif\" font-size=\"12\" lengthAdjust=\"spacingAndGlyphs\" textLength=\"24\" x=\"499.25\" y=\"64.1543\">b: P</text></a></g><g id=\"E1.E6\"><a href=\"psysml:61a7c4a1-1480-402d-a8df-76594b39497b\" target=\"_top\" title=\"psysml:61a7c4a1-1480-402d-a8df-76594b39497b\" xlink:actuate=\"onRequest\" xlink:href=\"psysml:61a7c4a1-1480-402d-a8df-76594b39497b\" xlink:show=\"new\" xlink:title=\"psysml:61a7c4a1-1480-402d-a8df-76594b39497b\" xlink:type=\"simple\"><rect fill=\"#FEFECE\" filter=\"url(#fpjwpwnysbkc0)\" height=\"40\" id=\"E6\" rx=\"10\" ry=\"10\" style=\"stroke: #A80036; stroke-width: 1.5;\" width=\"60\" x=\"372\" y=\"44\"/><ellipse cx=\"389.25\" cy=\"60\" fill=\"#B6DBBB\" rx=\"11\" ry=\"11\" style=\"stroke: #A80036; stroke-width: 1.0;\"/><path d=\"M389,65.4688 Q387.25,65.4688 386.2969,64.4375 Q385.3594,63.3906 385.3594,61.5469 L385.3594,54.6563 L387.4219,54.6563 L387.4219,54.8125 Q387.3281,54.9063 387.2969,55.0469 Q387.2813,55.1719 387.2813,55.4375 L387.2813,61.5625 Q387.2813,62.6563 387.6563,63.2813 Q388.0313,63.9063 389.0156,63.9063 Q390,63.9063 390.3906,63.2813 Q390.7813,62.6563 390.7813,61.5156 L390.7813,54.6563 L392.6563,54.6563 L392.6563,61.5 Q392.6563,63.5313 391.625,64.5 Q390.6094,65.4688 389,65.4688 Z \"/><text fill=\"#000000\" font-family=\"sans-serif\" font-size=\"12\" lengthAdjust=\"spacingAndGlyphs\" textLength=\"23\" x=\"403.75\" y=\"64.1543\">c: P</text></a></g><g id=\"E1.E7\"><a href=\"psysml:f3d0dfc0-0dbb-4454-830c-43cee9c0f8af\" target=\"_top\" title=\"psysml:f3d0dfc0-0dbb-4454-830c-43cee9c0f8af\" xlink:actuate=\"onRequest\" xlink:href=\"psysml:f3d0dfc0-0dbb-4454-830c-43cee9c0f8af\" xlink:show=\"new\" xlink:title=\"psysml:f3d0dfc0-0dbb-4454-830c-43cee9c0f8af\" xlink:type=\"simple\"><rect fill=\"#FEFECE\" filter=\"url(#fpjwpwnysbkc0)\" height=\"40\" id=\"E7\" rx=\"10\" ry=\"10\" style=\"stroke: #A80036; stroke-width: 1.5;\" width=\"50\" x=\"287\" y=\"44\"/><ellipse cx=\"306.5\" cy=\"60\" fill=\"#B6DBBB\" rx=\"11\" ry=\"11\" style=\"stroke: #A80036; stroke-width: 1.0;\"/><path d=\"M306.25,65.4688 Q304.5,65.4688 303.5469,64.4375 Q302.6094,63.3906 302.6094,61.5469 L302.6094,54.6563 L304.6719,54.6563 L304.6719,54.8125 Q304.5781,54.9063 304.5469,55.0469 Q304.5313,55.1719 304.5313,55.4375 L304.5313,61.5625 Q304.5313,62.6563 304.9063,63.2813 Q305.2813,63.9063 306.2656,63.9063 Q307.25,63.9063 307.6406,63.2813 Q308.0313,62.6563 308.0313,61.5156 L308.0313,54.6563 L309.9063,54.6563 L309.9063,61.5 Q309.9063,63.5313 308.875,64.5 Q307.8594,65.4688 306.25,65.4688 Z \"/><text fill=\"#000000\" font-family=\"sans-serif\" font-size=\"12\" lengthAdjust=\"spacingAndGlyphs\" textLength=\"8\" x=\"321.5\" y=\"64.1543\">d</text></a></g><g id=\"E1.E8\"><a href=\"psysml:470ebeae-9c21-45dc-92b7-3ec0bcac92c0\" target=\"_top\" title=\"psysml:470ebeae-9c21-45dc-92b7-3ec0bcac92c0\" xlink:actuate=\"onRequest\" xlink:href=\"psysml:470ebeae-9c21-45dc-92b7-3ec0bcac92c0\" xlink:show=\"new\" xlink:title=\"psysml:470ebeae-9c21-45dc-92b7-3ec0bcac92c0\" xlink:type=\"simple\"><rect fill=\"#FEFECE\" filter=\"url(#fpjwpwnysbkc0)\" height=\"40\" id=\"E8\" rx=\"10\" ry=\"10\" style=\"stroke: #A80036; stroke-width: 1.5;\" width=\"50\" x=\"202\" y=\"44\"/><ellipse cx=\"221.5\" cy=\"60\" fill=\"#B6DBBB\" rx=\"11\" ry=\"11\" style=\"stroke: #A80036; stroke-width: 1.0;\"/><path d=\"M221.25,65.4688 Q219.5,65.4688 218.5469,64.4375 Q217.6094,63.3906 217.6094,61.5469 L217.6094,54.6563 L219.6719,54.6563 L219.6719,54.8125 Q219.5781,54.9063 219.5469,55.0469 Q219.5313,55.1719 219.5313,55.4375 L219.5313,61.5625 Q219.5313,62.6563 219.9063,63.2813 Q220.2813,63.9063 221.2656,63.9063 Q222.25,63.9063 222.6406,63.2813 Q223.0313,62.6563 223.0313,61.5156 L223.0313,54.6563 L224.9063,54.6563 L224.9063,61.5 Q224.9063,63.5313 223.875,64.5 Q222.8594,65.4688 221.25,65.4688 Z \"/><text fill=\"#000000\" font-family=\"sans-serif\" font-size=\"12\" lengthAdjust=\"spacingAndGlyphs\" textLength=\"8\" x=\"236.5\" y=\"64.1543\">e</text></a></g><g id=\"E1.E9\"><a href=\"psysml:e3b105f8-a02a-4959-8fa9-8da786795f1e\" target=\"_top\" title=\"psysml:e3b105f8-a02a-4959-8fa9-8da786795f1e\" xlink:actuate=\"onRequest\" xlink:href=\"psysml:e3b105f8-a02a-4959-8fa9-8da786795f1e\" xlink:show=\"new\" xlink:title=\"psysml:e3b105f8-a02a-4959-8fa9-8da786795f1e\" xlink:type=\"simple\"><rect fill=\"#FEFECE\" filter=\"url(#fpjwpwnysbkc0)\" height=\"40\" id=\"E9\" rx=\"10\" ry=\"10\" style=\"stroke: #A80036; stroke-width: 1.5;\" width=\"50\" x=\"117\" y=\"44\"/><ellipse cx=\"138.3\" cy=\"60\" fill=\"#B6DBBB\" rx=\"11\" ry=\"11\" style=\"stroke: #A80036; stroke-width: 1.0;\"/><path d=\"M138.05,65.4688 Q136.3,65.4688 135.3469,64.4375 Q134.4094,63.3906 134.4094,61.5469 L134.4094,54.6563 L136.4719,54.6563 L136.4719,54.8125 Q136.3781,54.9063 136.3469,55.0469 Q136.3313,55.1719 136.3313,55.4375 L136.3313,61.5625 Q136.3313,62.6563 136.7063,63.2813 Q137.0813,63.9063 138.0656,63.9063 Q139.05,63.9063 139.4406,63.2813 Q139.8313,62.6563 139.8313,61.5156 L139.8313,54.6563 L141.7063,54.6563 L141.7063,61.5 Q141.7063,63.5313 140.675,64.5 Q139.6594,65.4688 138.05,65.4688 Z \"/><text fill=\"#000000\" font-family=\"sans-serif\" font-size=\"12\" lengthAdjust=\"spacingAndGlyphs\" textLength=\"4\" x=\"153.7\" y=\"64.1543\">f</text></a></g><g id=\"E1.E10\"><a href=\"psysml:0b08e64f-1d74-4a65-b189-b5a78b2f5a03\" target=\"_top\" title=\"psysml:0b08e64f-1d74-4a65-b189-b5a78b2f5a03\" xlink:actuate=\"onRequest\" xlink:href=\"psysml:0b08e64f-1d74-4a65-b189-b5a78b2f5a03\" xlink:show=\"new\" xlink:title=\"psysml:0b08e64f-1d74-4a65-b189-b5a78b2f5a03\" xlink:type=\"simple\"><rect fill=\"#FEFECE\" filter=\"url(#fpjwpwnysbkc0)\" height=\"40\" id=\"E10\" rx=\"10\" ry=\"10\" style=\"stroke: #A80036; stroke-width: 1.5;\" width=\"50\" x=\"32\" y=\"44\"/><ellipse cx=\"51.5\" cy=\"60\" fill=\"#B6DBBB\" rx=\"11\" ry=\"11\" style=\"stroke: #A80036; stroke-width: 1.0;\"/><path d=\"M51.25,65.4688 Q49.5,65.4688 48.5469,64.4375 Q47.6094,63.3906 47.6094,61.5469 L47.6094,54.6563 L49.6719,54.6563 L49.6719,54.8125 Q49.5781,54.9063 49.5469,55.0469 Q49.5313,55.1719 49.5313,55.4375 L49.5313,61.5625 Q49.5313,62.6563 49.9063,63.2813 Q50.2813,63.9063 51.2656,63.9063 Q52.25,63.9063 52.6406,63.2813 Q53.0313,62.6563 53.0313,61.5156 L53.0313,54.6563 L54.9063,54.6563 L54.9063,61.5 Q54.9063,63.5313 53.875,64.5 Q52.8594,65.4688 51.25,65.4688 Z \"/><text fill=\"#000000\" font-family=\"sans-serif\" font-size=\"12\" lengthAdjust=\"spacingAndGlyphs\" textLength=\"8\" x=\"66.5\" y=\"64.1543\">g</text></a></g><!--MD5=[4dadb38a6df4497d5606e0d994f8e508]\n",
       "@startuml\r\n",
       "skinparam ranksep 10\r\n",
       "skinparam rectangle {\r\n",
       " backgroundColor<<block>> LightGreen\r\n",
       "}\r\n",
       " \r\n",
       "package \"MultiplicityTest\" as E1  [[psysml:e445ccd1-d7b4-46a5-bbe0-1ba908b830dd ]]  {\r\n",
       "rec def \"P\" as E2 << << (B,green) >> [[psysml:7d5bba99-ceb9-4796-b455-cbfdc331a9aa ]] {\r\n",
       "}\r\n",
       "comp usage \"n: Integer \" as E3 << <<(U,orange) attribute>> [[psysml:ec541e3b-6371-48bf-8290-c0b2a0f88f52 ]] {\r\n",
       "}\r\n",
       "rec usage \"a\" as E4  [[psysml:0bccd947-b2f6-485e-9c27-5cc482a56716 ]] {\r\n",
       "}\r\n",
       "rec usage \"b: P\" as E5  [[psysml:3563b5dd-e50a-438e-94ba-a5b38ab6df54 ]] {\r\n",
       "}\r\n",
       "rec usage \"c: P\" as E6  [[psysml:61a7c4a1-1480-402d-a8df-76594b39497b ]] {\r\n",
       "}\r\n",
       "rec usage \"d\" as E7  [[psysml:f3d0dfc0-0dbb-4454-830c-43cee9c0f8af ]] {\r\n",
       "}\r\n",
       "rec usage \"e\" as E8  [[psysml:470ebeae-9c21-45dc-92b7-3ec0bcac92c0 ]] {\r\n",
       "}\r\n",
       "rec usage \"f\" as E9  [[psysml:e3b105f8-a02a-4959-8fa9-8da786795f1e ]] {\r\n",
       "}\r\n",
       "rec usage \"g\" as E10  [[psysml:0b08e64f-1d74-4a65-b189-b5a78b2f5a03 ]] {\r\n",
       "}\r\n",
       "def \"A\" as E11 << <<(D,brown) attribute  def>> [[psysml:d2ba3396-0b46-40b3-bbf4-49972d7872ff ]] \r\n",
       "}\r\n",
       "@enduml\r\n",
       "\n",
       "PlantUML version 1.2020.13(Sat Jun 13 12:26:38 UTC 2020)\n",
       "(EPL source distribution)\n",
       "Java Runtime: OpenJDK Runtime Environment\n",
       "JVM: OpenJDK 64-Bit Server VM\n",
       "Default Encoding: UTF-8\n",
       "Language: en\n",
       "Country: null\n",
       "--></g></svg>"
      ]
     },
     "execution_count": 33,
     "metadata": {},
     "output_type": "execute_result"
    }
   ],
   "source": [
    "%viz --style=\"PLANTUML\" --view=\"Interconnection\" \"MultiplicityTest\""
   ]
  },
  {
   "cell_type": "code",
   "execution_count": 34,
   "id": "55ec1139",
   "metadata": {
    "execution": {
     "iopub.execute_input": "2022-02-05T16:56:10.832398Z",
     "iopub.status.busy": "2022-02-05T16:56:10.831997Z",
     "iopub.status.idle": "2022-02-05T16:56:10.835350Z",
     "shell.execute_reply": "2022-02-05T16:56:10.834986Z"
    }
   },
   "outputs": [
    {
     "data": {
      "image/svg+xml": [
       "<?xml version=\"1.0\" encoding=\"UTF-8\" standalone=\"no\"?><svg xmlns=\"http://www.w3.org/2000/svg\" xmlns:xlink=\"http://www.w3.org/1999/xlink\" contentScriptType=\"application/ecmascript\" contentStyleType=\"text/css\" height=\"12px\" preserveAspectRatio=\"none\" style=\"width:12px;height:12px;\" version=\"1.1\" viewBox=\"0 0 12 12\" width=\"12px\" zoomAndPan=\"magnify\"><defs/><g><!--MD5=[6a4cb978cab31700e1ce5529f947a75d]\n",
       "@startuml\r\n",
       "skinparam ranksep 8\r\n",
       " \r\n",
       "@enduml\r\n",
       "\n",
       "PlantUML version 1.2020.13(Sat Jun 13 12:26:38 UTC 2020)\n",
       "(EPL source distribution)\n",
       "Java Runtime: OpenJDK Runtime Environment\n",
       "JVM: OpenJDK 64-Bit Server VM\n",
       "Default Encoding: UTF-8\n",
       "Language: en\n",
       "Country: null\n",
       "--></g></svg>"
      ]
     },
     "execution_count": 34,
     "metadata": {},
     "output_type": "execute_result"
    }
   ],
   "source": [
    "%viz --style=\"PLANTUML\" --view=\"Action\" \"MultiplicityTest\""
   ]
  },
  {
   "cell_type": "code",
   "execution_count": 35,
   "id": "b87ad381",
   "metadata": {
    "execution": {
     "iopub.execute_input": "2022-02-05T16:56:10.885138Z",
     "iopub.status.busy": "2022-02-05T16:56:10.884741Z",
     "iopub.status.idle": "2022-02-05T16:56:10.889474Z",
     "shell.execute_reply": "2022-02-05T16:56:10.889146Z"
    }
   },
   "outputs": [
    {
     "data": {
      "image/svg+xml": [
       "<?xml version=\"1.0\" encoding=\"UTF-8\" standalone=\"no\"?><svg xmlns=\"http://www.w3.org/2000/svg\" xmlns:xlink=\"http://www.w3.org/1999/xlink\" contentScriptType=\"application/ecmascript\" contentStyleType=\"text/css\" height=\"12px\" preserveAspectRatio=\"none\" style=\"width:12px;height:12px;\" version=\"1.1\" viewBox=\"0 0 12 12\" width=\"12px\" zoomAndPan=\"magnify\"><defs/><g><!--MD5=[ca4faa0b02def275ea33c14ea7a1a98d]\n",
       "@startuml\r\n",
       "skinparam roundcorner 20\r\n",
       "skinparam BoxPadding 20\r\n",
       "skinparam SequenceBoxBackgroundColor #white\r\n",
       "skinparam style strictuml\r\n",
       "skinparam maxMessageSize 100\r\n",
       " \r\n",
       "@enduml\r\n",
       "\n",
       "PlantUML version 1.2020.13(Sat Jun 13 12:26:38 UTC 2020)\n",
       "(EPL source distribution)\n",
       "Java Runtime: OpenJDK Runtime Environment\n",
       "JVM: OpenJDK 64-Bit Server VM\n",
       "Default Encoding: UTF-8\n",
       "Language: en\n",
       "Country: null\n",
       "--></g></svg>"
      ]
     },
     "execution_count": 35,
     "metadata": {},
     "output_type": "execute_result"
    }
   ],
   "source": [
    "%viz --style=\"PLANTUML\" --view=\"Sequence\" \"MultiplicityTest\""
   ]
  },
  {
   "cell_type": "code",
   "execution_count": 36,
   "id": "f3f24119",
   "metadata": {
    "execution": {
     "iopub.execute_input": "2022-02-05T16:56:10.938950Z",
     "iopub.status.busy": "2022-02-05T16:56:10.938551Z",
     "iopub.status.idle": "2022-02-05T16:56:10.987353Z",
     "shell.execute_reply": "2022-02-05T16:56:10.985876Z"
    }
   },
   "outputs": [
    {
     "data": {
      "image/svg+xml": [
       "<?xml version=\"1.0\" encoding=\"UTF-8\" standalone=\"no\"?><svg xmlns=\"http://www.w3.org/2000/svg\" xmlns:xlink=\"http://www.w3.org/1999/xlink\" contentScriptType=\"application/ecmascript\" contentStyleType=\"text/css\" height=\"257px\" preserveAspectRatio=\"none\" style=\"width:1049px;height:257px;\" version=\"1.1\" viewBox=\"0 0 1049 257\" width=\"1049px\" zoomAndPan=\"magnify\"><defs><filter height=\"300%\" id=\"f14d2nm8ag54r9\" width=\"300%\" x=\"-1\" y=\"-1\"><feGaussianBlur result=\"blurOut\" stdDeviation=\"2.0\"/><feColorMatrix in=\"blurOut\" result=\"blurOut2\" type=\"matrix\" values=\"0 0 0 0 0 0 0 0 0 0 0 0 0 0 0 0 0 0 .4 0\"/><feOffset dx=\"4.0\" dy=\"4.0\" in=\"blurOut2\" result=\"blurOut3\"/><feBlend in=\"SourceGraphic\" in2=\"blurOut3\" mode=\"normal\"/></filter></defs><g><!--MD5=[fbc87193dbaf4d95561dea2c320d4a47]\n",
       "cluster E1--><a href=\"psysml:e445ccd1-d7b4-46a5-bbe0-1ba908b830dd\" target=\"_top\" title=\"psysml:e445ccd1-d7b4-46a5-bbe0-1ba908b830dd\" xlink:actuate=\"onRequest\" xlink:href=\"psysml:e445ccd1-d7b4-46a5-bbe0-1ba908b830dd\" xlink:show=\"new\" xlink:title=\"psysml:e445ccd1-d7b4-46a5-bbe0-1ba908b830dd\" xlink:type=\"simple\"><polygon fill=\"#FFFFFF\" filter=\"url(#f14d2nm8ag54r9)\" points=\"16,6,123,6,130,28.2969,1027,28.2969,1027,245,16,245,16,6\" style=\"stroke: #000000; stroke-width: 1.5;\"/><line style=\"stroke: #000000; stroke-width: 1.5;\" x1=\"16\" x2=\"130\" y1=\"28.2969\" y2=\"28.2969\"/><text fill=\"#000000\" font-family=\"sans-serif\" font-size=\"14\" font-weight=\"bold\" lengthAdjust=\"spacingAndGlyphs\" textLength=\"101\" x=\"20\" y=\"20.9951\">MultiplicityTest</text></a><!--MD5=[b4997ac47864f28c2f74865a473b2911]\n",
       "class E2--><a href=\"psysml:7d5bba99-ceb9-4796-b455-cbfdc331a9aa\" target=\"_top\" title=\"psysml:7d5bba99-ceb9-4796-b455-cbfdc331a9aa\" xlink:actuate=\"onRequest\" xlink:href=\"psysml:7d5bba99-ceb9-4796-b455-cbfdc331a9aa\" xlink:show=\"new\" xlink:title=\"psysml:7d5bba99-ceb9-4796-b455-cbfdc331a9aa\" xlink:type=\"simple\"><rect fill=\"#FEFECE\" filter=\"url(#f14d2nm8ag54r9)\" height=\"40\" id=\"E2\" style=\"stroke: #A80036; stroke-width: 1.5;\" width=\"40\" x=\"670\" y=\"189\"/><ellipse cx=\"685\" cy=\"205\" fill=\"#008000\" rx=\"11\" ry=\"11\" style=\"stroke: #A80036; stroke-width: 1.0;\"/><path d=\"M681.875,210 L681.875,199.4063 L685.1094,199.4063 Q687.0156,199.4063 687.9219,200.1563 Q688.8438,200.9063 688.8438,202.0781 Q688.8438,202.7656 688.4531,203.4219 Q688.0781,204.0781 687.3594,204.375 Q688.2188,204.75 688.7344,205.4375 Q689.25,206.125 689.25,206.9375 Q689.25,208.3125 688.2188,209.1563 Q687.2031,210 685.0938,210 L681.875,210 Z M683.7969,203.6406 L684.9531,203.6406 Q686.0781,203.6406 686.4844,203.2656 Q686.9063,202.875 686.9063,202.25 Q686.9063,201.6719 686.4844,201.3125 Q686.0625,200.9531 685.125,200.9531 L683.7969,200.9531 L683.7969,203.6406 Z M683.7969,208.4219 L685.2969,208.4219 Q686.2031,208.4219 686.7344,208.0313 Q687.2656,207.6406 687.2656,206.8906 Q687.2656,206.125 686.7656,205.6563 Q686.2656,205.1719 685,205.1719 L683.7969,205.1719 L683.7969,208.4219 Z \"/><text fill=\"#000000\" font-family=\"sans-serif\" font-size=\"12\" lengthAdjust=\"spacingAndGlyphs\" textLength=\"8\" x=\"699\" y=\"209.1543\">P</text><line style=\"stroke: #A80036; stroke-width: 1.5;\" x1=\"671\" x2=\"709\" y1=\"221\" y2=\"221\"/></a><!--MD5=[09b614a08d8cba4a07c9adeb5e0fee81]\n",
       "class E3--><a href=\"psysml:ec541e3b-6371-48bf-8290-c0b2a0f88f52\" target=\"_top\" title=\"psysml:ec541e3b-6371-48bf-8290-c0b2a0f88f52\" xlink:actuate=\"onRequest\" xlink:href=\"psysml:ec541e3b-6371-48bf-8290-c0b2a0f88f52\" xlink:show=\"new\" xlink:title=\"psysml:ec541e3b-6371-48bf-8290-c0b2a0f88f52\" xlink:type=\"simple\"><rect fill=\"#FEFECE\" filter=\"url(#f14d2nm8ag54r9)\" height=\"45.9375\" id=\"E3\" rx=\"10\" ry=\"10\" style=\"stroke: #A80036; stroke-width: 1.5;\" width=\"97\" x=\"914.5\" y=\"62\"/><ellipse cx=\"929.5\" cy=\"80.9688\" fill=\"#FFA500\" rx=\"11\" ry=\"11\" style=\"stroke: #A80036; stroke-width: 1.0;\"/><path d=\"M929.25,86.4375 Q927.5,86.4375 926.5469,85.4063 Q925.6094,84.3594 925.6094,82.5156 L925.6094,75.625 L927.6719,75.625 L927.6719,75.7813 Q927.5781,75.875 927.5469,76.0156 Q927.5313,76.1406 927.5313,76.4063 L927.5313,82.5313 Q927.5313,83.625 927.9063,84.25 Q928.2813,84.875 929.2656,84.875 Q930.25,84.875 930.6406,84.25 Q931.0313,83.625 931.0313,82.4844 L931.0313,75.625 L932.9063,75.625 L932.9063,82.4688 Q932.9063,84.5 931.875,85.4688 Q930.8594,86.4375 929.25,86.4375 Z \"/><text fill=\"#000000\" font-family=\"sans-serif\" font-size=\"12\" font-style=\"italic\" lengthAdjust=\"spacingAndGlyphs\" textLength=\"69\" x=\"941.5\" y=\"78.1387\">«attribute»</text><text fill=\"#000000\" font-family=\"sans-serif\" font-size=\"12\" lengthAdjust=\"spacingAndGlyphs\" textLength=\"61\" x=\"943.5\" y=\"92.1074\">n: Integer</text><line style=\"stroke: #A80036; stroke-width: 1.5;\" x1=\"915.5\" x2=\"1010.5\" y1=\"99.9375\" y2=\"99.9375\"/></a><!--MD5=[ebbe1d658d1005bcc118a6aa81145e00]\n",
       "class E4--><a href=\"psysml:0bccd947-b2f6-485e-9c27-5cc482a56716\" target=\"_top\" title=\"psysml:0bccd947-b2f6-485e-9c27-5cc482a56716\" xlink:actuate=\"onRequest\" xlink:href=\"psysml:0bccd947-b2f6-485e-9c27-5cc482a56716\" xlink:show=\"new\" xlink:title=\"psysml:0bccd947-b2f6-485e-9c27-5cc482a56716\" xlink:type=\"simple\"><rect fill=\"#FEFECE\" filter=\"url(#f14d2nm8ag54r9)\" height=\"45.9375\" id=\"E4\" rx=\"10\" ry=\"10\" style=\"stroke: #A80036; stroke-width: 1.5;\" width=\"68\" x=\"811\" y=\"62\"/><ellipse cx=\"826\" cy=\"80.9688\" fill=\"#32CD32\" rx=\"11\" ry=\"11\" style=\"stroke: #A80036; stroke-width: 1.0;\"/><path d=\"M822.8125,85.9688 L822.8125,75.375 L826.4219,75.375 Q827.6406,75.375 828.4375,75.8125 Q829.2344,76.2344 829.6094,76.9375 Q830,77.6406 830,78.4844 Q830,79.3281 829.625,80.0156 Q829.2656,80.7031 828.4688,81.125 Q827.6875,81.5313 826.5,81.5313 L824.7656,81.5313 L824.7656,85.9688 L822.8125,85.9688 Z M824.7656,79.9375 L826.375,79.9375 Q827.1875,79.9375 827.6094,79.5313 Q828.0313,79.125 828.0313,78.4844 Q828.0313,77.8594 827.6094,77.4531 Q827.1875,77.0469 826.3906,77.0469 L824.7656,77.0469 L824.7656,79.9375 Z \"/><text fill=\"#000000\" font-family=\"sans-serif\" font-size=\"12\" font-style=\"italic\" lengthAdjust=\"spacingAndGlyphs\" textLength=\"40\" x=\"838\" y=\"78.1387\">«part»</text><text fill=\"#000000\" font-family=\"sans-serif\" font-size=\"12\" lengthAdjust=\"spacingAndGlyphs\" textLength=\"8\" x=\"852\" y=\"92.1074\">a</text><line style=\"stroke: #A80036; stroke-width: 1.5;\" x1=\"812\" x2=\"878\" y1=\"99.9375\" y2=\"99.9375\"/></a><!--MD5=[270fce915f116d4de14055a7c1d9a0f3]\n",
       "class E5--><a href=\"psysml:3563b5dd-e50a-438e-94ba-a5b38ab6df54\" target=\"_top\" title=\"psysml:3563b5dd-e50a-438e-94ba-a5b38ab6df54\" xlink:actuate=\"onRequest\" xlink:href=\"psysml:3563b5dd-e50a-438e-94ba-a5b38ab6df54\" xlink:show=\"new\" xlink:title=\"psysml:3563b5dd-e50a-438e-94ba-a5b38ab6df54\" xlink:type=\"simple\"><rect fill=\"#FEFECE\" filter=\"url(#f14d2nm8ag54r9)\" height=\"45.9375\" id=\"E5\" rx=\"10\" ry=\"10\" style=\"stroke: #A80036; stroke-width: 1.5;\" width=\"68\" x=\"708\" y=\"62\"/><ellipse cx=\"723\" cy=\"80.9688\" fill=\"#32CD32\" rx=\"11\" ry=\"11\" style=\"stroke: #A80036; stroke-width: 1.0;\"/><path d=\"M719.8125,85.9688 L719.8125,75.375 L723.4219,75.375 Q724.6406,75.375 725.4375,75.8125 Q726.2344,76.2344 726.6094,76.9375 Q727,77.6406 727,78.4844 Q727,79.3281 726.625,80.0156 Q726.2656,80.7031 725.4688,81.125 Q724.6875,81.5313 723.5,81.5313 L721.7656,81.5313 L721.7656,85.9688 L719.8125,85.9688 Z M721.7656,79.9375 L723.375,79.9375 Q724.1875,79.9375 724.6094,79.5313 Q725.0313,79.125 725.0313,78.4844 Q725.0313,77.8594 724.6094,77.4531 Q724.1875,77.0469 723.3906,77.0469 L721.7656,77.0469 L721.7656,79.9375 Z \"/><text fill=\"#000000\" font-family=\"sans-serif\" font-size=\"12\" font-style=\"italic\" lengthAdjust=\"spacingAndGlyphs\" textLength=\"40\" x=\"735\" y=\"78.1387\">«part»</text><text fill=\"#000000\" font-family=\"sans-serif\" font-size=\"12\" lengthAdjust=\"spacingAndGlyphs\" textLength=\"24\" x=\"741\" y=\"92.1074\">b: P</text><line style=\"stroke: #A80036; stroke-width: 1.5;\" x1=\"709\" x2=\"775\" y1=\"99.9375\" y2=\"99.9375\"/></a><!--MD5=[60a26617385b1d2d0262a64233df1f8d]\n",
       "class E6--><a href=\"psysml:61a7c4a1-1480-402d-a8df-76594b39497b\" target=\"_top\" title=\"psysml:61a7c4a1-1480-402d-a8df-76594b39497b\" xlink:actuate=\"onRequest\" xlink:href=\"psysml:61a7c4a1-1480-402d-a8df-76594b39497b\" xlink:show=\"new\" xlink:title=\"psysml:61a7c4a1-1480-402d-a8df-76594b39497b\" xlink:type=\"simple\"><rect fill=\"#FEFECE\" filter=\"url(#f14d2nm8ag54r9)\" height=\"45.9375\" id=\"E6\" rx=\"10\" ry=\"10\" style=\"stroke: #A80036; stroke-width: 1.5;\" width=\"68\" x=\"605\" y=\"62\"/><ellipse cx=\"620\" cy=\"80.9688\" fill=\"#32CD32\" rx=\"11\" ry=\"11\" style=\"stroke: #A80036; stroke-width: 1.0;\"/><path d=\"M616.8125,85.9688 L616.8125,75.375 L620.4219,75.375 Q621.6406,75.375 622.4375,75.8125 Q623.2344,76.2344 623.6094,76.9375 Q624,77.6406 624,78.4844 Q624,79.3281 623.625,80.0156 Q623.2656,80.7031 622.4688,81.125 Q621.6875,81.5313 620.5,81.5313 L618.7656,81.5313 L618.7656,85.9688 L616.8125,85.9688 Z M618.7656,79.9375 L620.375,79.9375 Q621.1875,79.9375 621.6094,79.5313 Q622.0313,79.125 622.0313,78.4844 Q622.0313,77.8594 621.6094,77.4531 Q621.1875,77.0469 620.3906,77.0469 L618.7656,77.0469 L618.7656,79.9375 Z \"/><text fill=\"#000000\" font-family=\"sans-serif\" font-size=\"12\" font-style=\"italic\" lengthAdjust=\"spacingAndGlyphs\" textLength=\"40\" x=\"632\" y=\"78.1387\">«part»</text><text fill=\"#000000\" font-family=\"sans-serif\" font-size=\"12\" lengthAdjust=\"spacingAndGlyphs\" textLength=\"23\" x=\"638.5\" y=\"92.1074\">c: P</text><line style=\"stroke: #A80036; stroke-width: 1.5;\" x1=\"606\" x2=\"672\" y1=\"99.9375\" y2=\"99.9375\"/></a><!--MD5=[2156ba9850f5573cc1fc38a6a4b2f02b]\n",
       "class E7--><a href=\"psysml:f3d0dfc0-0dbb-4454-830c-43cee9c0f8af\" target=\"_top\" title=\"psysml:f3d0dfc0-0dbb-4454-830c-43cee9c0f8af\" xlink:actuate=\"onRequest\" xlink:href=\"psysml:f3d0dfc0-0dbb-4454-830c-43cee9c0f8af\" xlink:show=\"new\" xlink:title=\"psysml:f3d0dfc0-0dbb-4454-830c-43cee9c0f8af\" xlink:type=\"simple\"><rect fill=\"#FEFECE\" filter=\"url(#f14d2nm8ag54r9)\" height=\"45.9375\" id=\"E7\" rx=\"10\" ry=\"10\" style=\"stroke: #A80036; stroke-width: 1.5;\" width=\"68\" x=\"502\" y=\"62\"/><ellipse cx=\"517\" cy=\"80.9688\" fill=\"#32CD32\" rx=\"11\" ry=\"11\" style=\"stroke: #A80036; stroke-width: 1.0;\"/><path d=\"M513.8125,85.9688 L513.8125,75.375 L517.4219,75.375 Q518.6406,75.375 519.4375,75.8125 Q520.2344,76.2344 520.6094,76.9375 Q521,77.6406 521,78.4844 Q521,79.3281 520.625,80.0156 Q520.2656,80.7031 519.4688,81.125 Q518.6875,81.5313 517.5,81.5313 L515.7656,81.5313 L515.7656,85.9688 L513.8125,85.9688 Z M515.7656,79.9375 L517.375,79.9375 Q518.1875,79.9375 518.6094,79.5313 Q519.0313,79.125 519.0313,78.4844 Q519.0313,77.8594 518.6094,77.4531 Q518.1875,77.0469 517.3906,77.0469 L515.7656,77.0469 L515.7656,79.9375 Z \"/><text fill=\"#000000\" font-family=\"sans-serif\" font-size=\"12\" font-style=\"italic\" lengthAdjust=\"spacingAndGlyphs\" textLength=\"40\" x=\"529\" y=\"78.1387\">«part»</text><text fill=\"#000000\" font-family=\"sans-serif\" font-size=\"12\" lengthAdjust=\"spacingAndGlyphs\" textLength=\"8\" x=\"543\" y=\"92.1074\">d</text><line style=\"stroke: #A80036; stroke-width: 1.5;\" x1=\"503\" x2=\"569\" y1=\"99.9375\" y2=\"99.9375\"/></a><!--MD5=[b9389687b975829384b498ac4b7476b2]\n",
       "class E8--><a href=\"psysml:470ebeae-9c21-45dc-92b7-3ec0bcac92c0\" target=\"_top\" title=\"psysml:470ebeae-9c21-45dc-92b7-3ec0bcac92c0\" xlink:actuate=\"onRequest\" xlink:href=\"psysml:470ebeae-9c21-45dc-92b7-3ec0bcac92c0\" xlink:show=\"new\" xlink:title=\"psysml:470ebeae-9c21-45dc-92b7-3ec0bcac92c0\" xlink:type=\"simple\"><rect fill=\"#FEFECE\" filter=\"url(#f14d2nm8ag54r9)\" height=\"45.9375\" id=\"E8\" rx=\"10\" ry=\"10\" style=\"stroke: #A80036; stroke-width: 1.5;\" width=\"68\" x=\"399\" y=\"62\"/><ellipse cx=\"414\" cy=\"80.9688\" fill=\"#32CD32\" rx=\"11\" ry=\"11\" style=\"stroke: #A80036; stroke-width: 1.0;\"/><path d=\"M410.8125,85.9688 L410.8125,75.375 L414.4219,75.375 Q415.6406,75.375 416.4375,75.8125 Q417.2344,76.2344 417.6094,76.9375 Q418,77.6406 418,78.4844 Q418,79.3281 417.625,80.0156 Q417.2656,80.7031 416.4688,81.125 Q415.6875,81.5313 414.5,81.5313 L412.7656,81.5313 L412.7656,85.9688 L410.8125,85.9688 Z M412.7656,79.9375 L414.375,79.9375 Q415.1875,79.9375 415.6094,79.5313 Q416.0313,79.125 416.0313,78.4844 Q416.0313,77.8594 415.6094,77.4531 Q415.1875,77.0469 414.3906,77.0469 L412.7656,77.0469 L412.7656,79.9375 Z \"/><text fill=\"#000000\" font-family=\"sans-serif\" font-size=\"12\" font-style=\"italic\" lengthAdjust=\"spacingAndGlyphs\" textLength=\"40\" x=\"426\" y=\"78.1387\">«part»</text><text fill=\"#000000\" font-family=\"sans-serif\" font-size=\"12\" lengthAdjust=\"spacingAndGlyphs\" textLength=\"8\" x=\"440\" y=\"92.1074\">e</text><line style=\"stroke: #A80036; stroke-width: 1.5;\" x1=\"400\" x2=\"466\" y1=\"99.9375\" y2=\"99.9375\"/></a><!--MD5=[fd4143e9d270a159db93a4ea2a975926]\n",
       "class E9--><a href=\"psysml:e3b105f8-a02a-4959-8fa9-8da786795f1e\" target=\"_top\" title=\"psysml:e3b105f8-a02a-4959-8fa9-8da786795f1e\" xlink:actuate=\"onRequest\" xlink:href=\"psysml:e3b105f8-a02a-4959-8fa9-8da786795f1e\" xlink:show=\"new\" xlink:title=\"psysml:e3b105f8-a02a-4959-8fa9-8da786795f1e\" xlink:type=\"simple\"><rect fill=\"#FEFECE\" filter=\"url(#f14d2nm8ag54r9)\" height=\"45.9375\" id=\"E9\" rx=\"10\" ry=\"10\" style=\"stroke: #A80036; stroke-width: 1.5;\" width=\"68\" x=\"296\" y=\"62\"/><ellipse cx=\"311\" cy=\"80.9688\" fill=\"#32CD32\" rx=\"11\" ry=\"11\" style=\"stroke: #A80036; stroke-width: 1.0;\"/><path d=\"M307.8125,85.9688 L307.8125,75.375 L311.4219,75.375 Q312.6406,75.375 313.4375,75.8125 Q314.2344,76.2344 314.6094,76.9375 Q315,77.6406 315,78.4844 Q315,79.3281 314.625,80.0156 Q314.2656,80.7031 313.4688,81.125 Q312.6875,81.5313 311.5,81.5313 L309.7656,81.5313 L309.7656,85.9688 L307.8125,85.9688 Z M309.7656,79.9375 L311.375,79.9375 Q312.1875,79.9375 312.6094,79.5313 Q313.0313,79.125 313.0313,78.4844 Q313.0313,77.8594 312.6094,77.4531 Q312.1875,77.0469 311.3906,77.0469 L309.7656,77.0469 L309.7656,79.9375 Z \"/><text fill=\"#000000\" font-family=\"sans-serif\" font-size=\"12\" font-style=\"italic\" lengthAdjust=\"spacingAndGlyphs\" textLength=\"40\" x=\"323\" y=\"78.1387\">«part»</text><text fill=\"#000000\" font-family=\"sans-serif\" font-size=\"12\" lengthAdjust=\"spacingAndGlyphs\" textLength=\"4\" x=\"339\" y=\"92.1074\">f</text><line style=\"stroke: #A80036; stroke-width: 1.5;\" x1=\"297\" x2=\"363\" y1=\"99.9375\" y2=\"99.9375\"/></a><!--MD5=[96f4274e9e20536e775497830990834d]\n",
       "class E10--><a href=\"psysml:0b08e64f-1d74-4a65-b189-b5a78b2f5a03\" target=\"_top\" title=\"psysml:0b08e64f-1d74-4a65-b189-b5a78b2f5a03\" xlink:actuate=\"onRequest\" xlink:href=\"psysml:0b08e64f-1d74-4a65-b189-b5a78b2f5a03\" xlink:show=\"new\" xlink:title=\"psysml:0b08e64f-1d74-4a65-b189-b5a78b2f5a03\" xlink:type=\"simple\"><rect fill=\"#FEFECE\" filter=\"url(#f14d2nm8ag54r9)\" height=\"45.9375\" id=\"E10\" rx=\"10\" ry=\"10\" style=\"stroke: #A80036; stroke-width: 1.5;\" width=\"68\" x=\"193\" y=\"62\"/><ellipse cx=\"208\" cy=\"80.9688\" fill=\"#32CD32\" rx=\"11\" ry=\"11\" style=\"stroke: #A80036; stroke-width: 1.0;\"/><path d=\"M204.8125,85.9688 L204.8125,75.375 L208.4219,75.375 Q209.6406,75.375 210.4375,75.8125 Q211.2344,76.2344 211.6094,76.9375 Q212,77.6406 212,78.4844 Q212,79.3281 211.625,80.0156 Q211.2656,80.7031 210.4688,81.125 Q209.6875,81.5313 208.5,81.5313 L206.7656,81.5313 L206.7656,85.9688 L204.8125,85.9688 Z M206.7656,79.9375 L208.375,79.9375 Q209.1875,79.9375 209.6094,79.5313 Q210.0313,79.125 210.0313,78.4844 Q210.0313,77.8594 209.6094,77.4531 Q209.1875,77.0469 208.3906,77.0469 L206.7656,77.0469 L206.7656,79.9375 Z \"/><text fill=\"#000000\" font-family=\"sans-serif\" font-size=\"12\" font-style=\"italic\" lengthAdjust=\"spacingAndGlyphs\" textLength=\"40\" x=\"220\" y=\"78.1387\">«part»</text><text fill=\"#000000\" font-family=\"sans-serif\" font-size=\"12\" lengthAdjust=\"spacingAndGlyphs\" textLength=\"8\" x=\"234\" y=\"92.1074\">g</text><line style=\"stroke: #A80036; stroke-width: 1.5;\" x1=\"194\" x2=\"260\" y1=\"99.9375\" y2=\"99.9375\"/></a><!--MD5=[1dd1bfd58a279cf63c5f349dbc8fc6a1]\n",
       "class E11--><a href=\"psysml:d2ba3396-0b46-40b3-bbf4-49972d7872ff\" target=\"_top\" title=\"psysml:d2ba3396-0b46-40b3-bbf4-49972d7872ff\" xlink:actuate=\"onRequest\" xlink:href=\"psysml:d2ba3396-0b46-40b3-bbf4-49972d7872ff\" xlink:show=\"new\" xlink:title=\"psysml:d2ba3396-0b46-40b3-bbf4-49972d7872ff\" xlink:type=\"simple\"><rect fill=\"#FEFECE\" filter=\"url(#f14d2nm8ag54r9)\" height=\"88.3516\" id=\"E11\" style=\"stroke: #A80036; stroke-width: 1.5;\" width=\"125\" x=\"32.5\" y=\"41\"/><ellipse cx=\"47.5\" cy=\"59.9688\" fill=\"#A52A2A\" rx=\"11\" ry=\"11\" style=\"stroke: #A80036; stroke-width: 1.0;\"/><path d=\"M44.7188,64.9688 L44.7188,54.375 L47.4531,54.375 Q48.8438,54.375 49.6094,54.7656 Q50.3906,55.1406 50.9219,55.8438 Q51.4531,56.5469 51.75,57.5469 Q52.0469,58.5313 52.0469,59.75 Q52,61.3438 51.5,62.5313 Q51.0156,63.7031 49.9688,64.3438 Q48.9375,64.9688 47.25,64.9688 L44.7188,64.9688 Z M46.5781,63.4688 L47.2031,63.4688 Q48.2813,63.4688 48.9375,63.0156 Q49.5938,62.5625 49.875,61.7344 Q50.1719,60.8906 50.1563,59.7656 Q50.1563,58.5938 49.9063,57.7344 Q49.6563,56.8594 49.0469,56.3906 Q48.4375,55.9063 47.3906,55.9063 L46.5781,55.9063 L46.5781,63.4688 Z \"/><text fill=\"#000000\" font-family=\"sans-serif\" font-size=\"12\" font-style=\"italic\" lengthAdjust=\"spacingAndGlyphs\" textLength=\"97\" x=\"59.5\" y=\"57.1387\">«attribute  def»</text><text fill=\"#000000\" font-family=\"sans-serif\" font-size=\"12\" lengthAdjust=\"spacingAndGlyphs\" textLength=\"8\" x=\"104\" y=\"71.1074\">A</text><line style=\"stroke: #A80036; stroke-width: 1.5;\" x1=\"33.5\" x2=\"156.5\" y1=\"78.9375\" y2=\"78.9375\"/><text fill=\"#000000\" font-family=\"sans-serif\" font-size=\"11\" lengthAdjust=\"spacingAndGlyphs\" textLength=\"51\" x=\"38.5\" y=\"109.9526\">i: Integer</text><text fill=\"#000000\" font-family=\"sans-serif\" font-size=\"11\" lengthAdjust=\"spacingAndGlyphs\" textLength=\"21\" x=\"38.5\" y=\"122.7573\">x: A</text><line style=\"stroke: #A80036; stroke-width: 1.0;\" x1=\"33.5\" x2=\"67.5\" y1=\"93.3398\" y2=\"93.3398\"/><text fill=\"#000000\" font-family=\"sans-serif\" font-size=\"11\" lengthAdjust=\"spacingAndGlyphs\" textLength=\"55\" x=\"67.5\" y=\"96.6479\">attributes</text><line style=\"stroke: #A80036; stroke-width: 1.0;\" x1=\"122.5\" x2=\"156.5\" y1=\"93.3398\" y2=\"93.3398\"/></a><!--MD5=[15ebcb19ae302d9b601edb458606d402]\n",
       "link E5 to E2--><a href=\"psysml:b362769d-1260-4065-9b83-621f0da47e8d\" target=\"_top\" title=\"psysml:b362769d-1260-4065-9b83-621f0da47e8d\" xlink:actuate=\"onRequest\" xlink:href=\"psysml:b362769d-1260-4065-9b83-621f0da47e8d\" xlink:show=\"new\" xlink:title=\"psysml:b362769d-1260-4065-9b83-621f0da47e8d\" xlink:type=\"simple\"><path d=\"M732.58,108.09 C725.21,125.4 714.78,149.87 706.08,170.26 \" fill=\"none\" id=\"E5-&gt;E2\" style=\"stroke: #A80036; stroke-width: 1.0;\"/><polygon fill=\"#FFFFFF\" points=\"698.15,188.88,699.1606,168.6568,712.0395,174.1463,698.15,188.88\" style=\"stroke: #A80036; stroke-width: 1.0;\"/><ellipse cx=\"703.2355\" cy=\"164.1975\" fill=\"#A80036\" rx=\"2\" ry=\"2\" style=\"stroke: #A80036; stroke-width: 1.0;\"/><ellipse cx=\"712.4347\" cy=\"168.1185\" fill=\"#A80036\" rx=\"2\" ry=\"2\" style=\"stroke: #A80036; stroke-width: 1.0;\"/></a><!--MD5=[2351f337d6de0f557b50152ba70847b5]\n",
       "link E6 to E2--><a href=\"psysml:03080077-3284-4bc2-8ec3-31a93274162e\" target=\"_top\" title=\"psysml:03080077-3284-4bc2-8ec3-31a93274162e\" xlink:actuate=\"onRequest\" xlink:href=\"psysml:03080077-3284-4bc2-8ec3-31a93274162e\" xlink:show=\"new\" xlink:title=\"psysml:03080077-3284-4bc2-8ec3-31a93274162e\" xlink:type=\"simple\"><path d=\"M648.24,108.09 C655.47,125.4 665.7,149.87 674.22,170.26 \" fill=\"none\" id=\"E6-&gt;E2\" style=\"stroke: #A80036; stroke-width: 1.0;\"/><polygon fill=\"#FFFFFF\" points=\"682.01,188.88,668.2245,174.049,681.1416,168.6502,682.01,188.88\" style=\"stroke: #A80036; stroke-width: 1.0;\"/><ellipse cx=\"667.8717\" cy=\"168.0186\" fill=\"#A80036\" rx=\"2\" ry=\"2\" style=\"stroke: #A80036; stroke-width: 1.0;\"/><ellipse cx=\"677.0982\" cy=\"164.1623\" fill=\"#A80036\" rx=\"2\" ry=\"2\" style=\"stroke: #A80036; stroke-width: 1.0;\"/></a><!--MD5=[f0b53918b45105b6de75ab554b4fa138]\n",
       "@startuml\r\n",
       " \r\n",
       "package \"MultiplicityTest\" as E1  [[psysml:e445ccd1-d7b4-46a5-bbe0-1ba908b830dd ]]  {\r\n",
       "comp def \"P\" as E2 << << (B,green) >> [[psysml:7d5bba99-ceb9-4796-b455-cbfdc331a9aa ]] {\r\n",
       "}\r\n",
       "comp usage \"n: Integer \" as E3 << <<(U,orange) attribute>> [[psysml:ec541e3b-6371-48bf-8290-c0b2a0f88f52 ]] {\r\n",
       "}\r\n",
       "comp usage \"a \" as E4 << << (P,limegreen) part>> [[psysml:0bccd947-b2f6-485e-9c27-5cc482a56716 ]] {\r\n",
       "}\r\n",
       "comp usage \"b: P \" as E5 << << (P,limegreen) part>> [[psysml:3563b5dd-e50a-438e-94ba-a5b38ab6df54 ]] {\r\n",
       "}\r\n",
       "comp usage \"c: P \" as E6 << << (P,limegreen) part>> [[psysml:61a7c4a1-1480-402d-a8df-76594b39497b ]] {\r\n",
       "}\r\n",
       "comp usage \"d \" as E7 << << (P,limegreen) part>> [[psysml:f3d0dfc0-0dbb-4454-830c-43cee9c0f8af ]] {\r\n",
       "}\r\n",
       "comp usage \"e \" as E8 << << (P,limegreen) part>> [[psysml:470ebeae-9c21-45dc-92b7-3ec0bcac92c0 ]] {\r\n",
       "}\r\n",
       "comp usage \"f \" as E9 << << (P,limegreen) part>> [[psysml:e3b105f8-a02a-4959-8fa9-8da786795f1e ]] {\r\n",
       "}\r\n",
       "comp usage \"g \" as E10 << << (P,limegreen) part>> [[psysml:0b08e64f-1d74-4a65-b189-b5a78b2f5a03 ]] {\r\n",
       "}\r\n",
       "comp def \"A\" as E11 << <<(D,brown) attribute  def>> [[psysml:d2ba3396-0b46-40b3-bbf4-49972d7872ff ]] {\r\n",
       "- - attributes - -\r\n",
       "i: Integer\r\n",
       "x: A\r\n",
       "}\r\n",
       "}\r\n",
       "E5 - -:|> E2 [[psysml:b362769d-1260-4065-9b83-621f0da47e8d ]] \r\n",
       "E6 - -:|> E2 [[psysml:03080077-3284-4bc2-8ec3-31a93274162e ]] \r\n",
       "@enduml\r\n",
       "\n",
       "PlantUML version 1.2020.13(Sat Jun 13 12:26:38 UTC 2020)\n",
       "(EPL source distribution)\n",
       "Java Runtime: OpenJDK Runtime Environment\n",
       "JVM: OpenJDK 64-Bit Server VM\n",
       "Default Encoding: UTF-8\n",
       "Language: en\n",
       "Country: null\n",
       "--></g></svg>"
      ]
     },
     "execution_count": 36,
     "metadata": {},
     "output_type": "execute_result"
    }
   ],
   "source": [
    "%viz --style=\"PLANTUML\" --view=\"MIXED\" \"MultiplicityTest\""
   ]
  },
  {
   "cell_type": "code",
   "execution_count": 37,
   "id": "1a1174c8",
   "metadata": {
    "execution": {
     "iopub.execute_input": "2022-02-05T16:56:11.036480Z",
     "iopub.status.busy": "2022-02-05T16:56:11.036078Z",
     "iopub.status.idle": "2022-02-05T16:56:11.083214Z",
     "shell.execute_reply": "2022-02-05T16:56:11.081838Z"
    }
   },
   "outputs": [
    {
     "data": {
      "image/svg+xml": [
       "<?xml version=\"1.0\" encoding=\"UTF-8\" standalone=\"no\"?><svg xmlns=\"http://www.w3.org/2000/svg\" xmlns:xlink=\"http://www.w3.org/1999/xlink\" contentScriptType=\"application/ecmascript\" contentStyleType=\"text/css\" height=\"263px\" preserveAspectRatio=\"none\" style=\"width:816px;height:263px;\" version=\"1.1\" viewBox=\"0 0 816 263\" width=\"816px\" zoomAndPan=\"magnify\"><defs/><g><!--MD5=[fbc87193dbaf4d95561dea2c320d4a47]\n",
       "cluster E1--><a href=\"psysml:e445ccd1-d7b4-46a5-bbe0-1ba908b830dd\" target=\"_top\" title=\"psysml:e445ccd1-d7b4-46a5-bbe0-1ba908b830dd\" xlink:actuate=\"onRequest\" xlink:href=\"psysml:e445ccd1-d7b4-46a5-bbe0-1ba908b830dd\" xlink:show=\"new\" xlink:title=\"psysml:e445ccd1-d7b4-46a5-bbe0-1ba908b830dd\" xlink:type=\"simple\"><polygon fill=\"#FFFFFF\" points=\"16,6,123,6,130,28.2969,794,28.2969,794,251,16,251,16,6\" style=\"stroke: #000000; stroke-width: 1.5;\"/><line style=\"stroke: #000000; stroke-width: 1.5;\" x1=\"16\" x2=\"130\" y1=\"28.2969\" y2=\"28.2969\"/><text fill=\"#000000\" font-family=\"sans-serif\" font-size=\"14\" font-weight=\"bold\" lengthAdjust=\"spacingAndGlyphs\" textLength=\"101\" x=\"20\" y=\"20.9951\">MultiplicityTest</text></a><!--MD5=[b4997ac47864f28c2f74865a473b2911]\n",
       "class E2--><a href=\"psysml:7d5bba99-ceb9-4796-b455-cbfdc331a9aa\" target=\"_top\" title=\"psysml:7d5bba99-ceb9-4796-b455-cbfdc331a9aa\" xlink:actuate=\"onRequest\" xlink:href=\"psysml:7d5bba99-ceb9-4796-b455-cbfdc331a9aa\" xlink:show=\"new\" xlink:title=\"psysml:7d5bba99-ceb9-4796-b455-cbfdc331a9aa\" xlink:type=\"simple\"><rect fill=\"#FFFFFF\" height=\"45.9375\" id=\"E2\" style=\"stroke: #383838; stroke-width: 1.5;\" width=\"70\" x=\"499\" y=\"189\"/><text fill=\"#000000\" font-family=\"sans-serif\" font-size=\"12\" font-style=\"italic\" lengthAdjust=\"spacingAndGlyphs\" textLength=\"68\" x=\"500\" y=\"205.1387\">«part  def»</text><text fill=\"#000000\" font-family=\"sans-serif\" font-size=\"12\" lengthAdjust=\"spacingAndGlyphs\" textLength=\"8\" x=\"530\" y=\"219.1074\">P</text><line style=\"stroke: #383838; stroke-width: 1.5;\" x1=\"500\" x2=\"568\" y1=\"226.9375\" y2=\"226.9375\"/></a><!--MD5=[09b614a08d8cba4a07c9adeb5e0fee81]\n",
       "class E3--><a href=\"psysml:ec541e3b-6371-48bf-8290-c0b2a0f88f52\" target=\"_top\" title=\"psysml:ec541e3b-6371-48bf-8290-c0b2a0f88f52\" xlink:actuate=\"onRequest\" xlink:href=\"psysml:ec541e3b-6371-48bf-8290-c0b2a0f88f52\" xlink:show=\"new\" xlink:title=\"psysml:ec541e3b-6371-48bf-8290-c0b2a0f88f52\" xlink:type=\"simple\"><rect fill=\"#FFFFFF\" height=\"45.9375\" id=\"E3\" rx=\"10\" ry=\"10\" style=\"stroke: #383838; stroke-width: 1.5;\" width=\"71\" x=\"706.5\" y=\"62\"/><text fill=\"#000000\" font-family=\"sans-serif\" font-size=\"12\" font-style=\"italic\" lengthAdjust=\"spacingAndGlyphs\" textLength=\"69\" x=\"707.5\" y=\"78.1387\">«attribute»</text><text fill=\"#000000\" font-family=\"sans-serif\" font-size=\"12\" lengthAdjust=\"spacingAndGlyphs\" textLength=\"61\" x=\"709.5\" y=\"92.1074\">n: Integer</text><line style=\"stroke: #383838; stroke-width: 1.5;\" x1=\"707.5\" x2=\"776.5\" y1=\"99.9375\" y2=\"99.9375\"/></a><!--MD5=[ebbe1d658d1005bcc118a6aa81145e00]\n",
       "class E4--><a href=\"psysml:0bccd947-b2f6-485e-9c27-5cc482a56716\" target=\"_top\" title=\"psysml:0bccd947-b2f6-485e-9c27-5cc482a56716\" xlink:actuate=\"onRequest\" xlink:href=\"psysml:0bccd947-b2f6-485e-9c27-5cc482a56716\" xlink:show=\"new\" xlink:title=\"psysml:0bccd947-b2f6-485e-9c27-5cc482a56716\" xlink:type=\"simple\"><rect fill=\"#FFFFFF\" height=\"45.9375\" id=\"E4\" rx=\"10\" ry=\"10\" style=\"stroke: #383838; stroke-width: 1.5;\" width=\"42\" x=\"629\" y=\"62\"/><text fill=\"#000000\" font-family=\"sans-serif\" font-size=\"12\" font-style=\"italic\" lengthAdjust=\"spacingAndGlyphs\" textLength=\"40\" x=\"630\" y=\"78.1387\">«part»</text><text fill=\"#000000\" font-family=\"sans-serif\" font-size=\"12\" lengthAdjust=\"spacingAndGlyphs\" textLength=\"8\" x=\"644\" y=\"92.1074\">a</text><line style=\"stroke: #383838; stroke-width: 1.5;\" x1=\"630\" x2=\"670\" y1=\"99.9375\" y2=\"99.9375\"/></a><!--MD5=[270fce915f116d4de14055a7c1d9a0f3]\n",
       "class E5--><a href=\"psysml:3563b5dd-e50a-438e-94ba-a5b38ab6df54\" target=\"_top\" title=\"psysml:3563b5dd-e50a-438e-94ba-a5b38ab6df54\" xlink:actuate=\"onRequest\" xlink:href=\"psysml:3563b5dd-e50a-438e-94ba-a5b38ab6df54\" xlink:show=\"new\" xlink:title=\"psysml:3563b5dd-e50a-438e-94ba-a5b38ab6df54\" xlink:type=\"simple\"><rect fill=\"#FFFFFF\" height=\"45.9375\" id=\"E5\" rx=\"10\" ry=\"10\" style=\"stroke: #383838; stroke-width: 1.5;\" width=\"42\" x=\"552\" y=\"62\"/><text fill=\"#000000\" font-family=\"sans-serif\" font-size=\"12\" font-style=\"italic\" lengthAdjust=\"spacingAndGlyphs\" textLength=\"40\" x=\"553\" y=\"78.1387\">«part»</text><text fill=\"#000000\" font-family=\"sans-serif\" font-size=\"12\" lengthAdjust=\"spacingAndGlyphs\" textLength=\"24\" x=\"559\" y=\"92.1074\">b: P</text><line style=\"stroke: #383838; stroke-width: 1.5;\" x1=\"553\" x2=\"593\" y1=\"99.9375\" y2=\"99.9375\"/></a><!--MD5=[60a26617385b1d2d0262a64233df1f8d]\n",
       "class E6--><a href=\"psysml:61a7c4a1-1480-402d-a8df-76594b39497b\" target=\"_top\" title=\"psysml:61a7c4a1-1480-402d-a8df-76594b39497b\" xlink:actuate=\"onRequest\" xlink:href=\"psysml:61a7c4a1-1480-402d-a8df-76594b39497b\" xlink:show=\"new\" xlink:title=\"psysml:61a7c4a1-1480-402d-a8df-76594b39497b\" xlink:type=\"simple\"><rect fill=\"#FFFFFF\" height=\"45.9375\" id=\"E6\" rx=\"10\" ry=\"10\" style=\"stroke: #383838; stroke-width: 1.5;\" width=\"42\" x=\"475\" y=\"62\"/><text fill=\"#000000\" font-family=\"sans-serif\" font-size=\"12\" font-style=\"italic\" lengthAdjust=\"spacingAndGlyphs\" textLength=\"40\" x=\"476\" y=\"78.1387\">«part»</text><text fill=\"#000000\" font-family=\"sans-serif\" font-size=\"12\" lengthAdjust=\"spacingAndGlyphs\" textLength=\"23\" x=\"482.5\" y=\"92.1074\">c: P</text><line style=\"stroke: #383838; stroke-width: 1.5;\" x1=\"476\" x2=\"516\" y1=\"99.9375\" y2=\"99.9375\"/></a><!--MD5=[2156ba9850f5573cc1fc38a6a4b2f02b]\n",
       "class E7--><a href=\"psysml:f3d0dfc0-0dbb-4454-830c-43cee9c0f8af\" target=\"_top\" title=\"psysml:f3d0dfc0-0dbb-4454-830c-43cee9c0f8af\" xlink:actuate=\"onRequest\" xlink:href=\"psysml:f3d0dfc0-0dbb-4454-830c-43cee9c0f8af\" xlink:show=\"new\" xlink:title=\"psysml:f3d0dfc0-0dbb-4454-830c-43cee9c0f8af\" xlink:type=\"simple\"><rect fill=\"#FFFFFF\" height=\"45.9375\" id=\"E7\" rx=\"10\" ry=\"10\" style=\"stroke: #383838; stroke-width: 1.5;\" width=\"42\" x=\"398\" y=\"62\"/><text fill=\"#000000\" font-family=\"sans-serif\" font-size=\"12\" font-style=\"italic\" lengthAdjust=\"spacingAndGlyphs\" textLength=\"40\" x=\"399\" y=\"78.1387\">«part»</text><text fill=\"#000000\" font-family=\"sans-serif\" font-size=\"12\" lengthAdjust=\"spacingAndGlyphs\" textLength=\"8\" x=\"413\" y=\"92.1074\">d</text><line style=\"stroke: #383838; stroke-width: 1.5;\" x1=\"399\" x2=\"439\" y1=\"99.9375\" y2=\"99.9375\"/></a><!--MD5=[b9389687b975829384b498ac4b7476b2]\n",
       "class E8--><a href=\"psysml:470ebeae-9c21-45dc-92b7-3ec0bcac92c0\" target=\"_top\" title=\"psysml:470ebeae-9c21-45dc-92b7-3ec0bcac92c0\" xlink:actuate=\"onRequest\" xlink:href=\"psysml:470ebeae-9c21-45dc-92b7-3ec0bcac92c0\" xlink:show=\"new\" xlink:title=\"psysml:470ebeae-9c21-45dc-92b7-3ec0bcac92c0\" xlink:type=\"simple\"><rect fill=\"#FFFFFF\" height=\"45.9375\" id=\"E8\" rx=\"10\" ry=\"10\" style=\"stroke: #383838; stroke-width: 1.5;\" width=\"42\" x=\"321\" y=\"62\"/><text fill=\"#000000\" font-family=\"sans-serif\" font-size=\"12\" font-style=\"italic\" lengthAdjust=\"spacingAndGlyphs\" textLength=\"40\" x=\"322\" y=\"78.1387\">«part»</text><text fill=\"#000000\" font-family=\"sans-serif\" font-size=\"12\" lengthAdjust=\"spacingAndGlyphs\" textLength=\"8\" x=\"336\" y=\"92.1074\">e</text><line style=\"stroke: #383838; stroke-width: 1.5;\" x1=\"322\" x2=\"362\" y1=\"99.9375\" y2=\"99.9375\"/></a><!--MD5=[fd4143e9d270a159db93a4ea2a975926]\n",
       "class E9--><a href=\"psysml:e3b105f8-a02a-4959-8fa9-8da786795f1e\" target=\"_top\" title=\"psysml:e3b105f8-a02a-4959-8fa9-8da786795f1e\" xlink:actuate=\"onRequest\" xlink:href=\"psysml:e3b105f8-a02a-4959-8fa9-8da786795f1e\" xlink:show=\"new\" xlink:title=\"psysml:e3b105f8-a02a-4959-8fa9-8da786795f1e\" xlink:type=\"simple\"><rect fill=\"#FFFFFF\" height=\"45.9375\" id=\"E9\" rx=\"10\" ry=\"10\" style=\"stroke: #383838; stroke-width: 1.5;\" width=\"42\" x=\"244\" y=\"62\"/><text fill=\"#000000\" font-family=\"sans-serif\" font-size=\"12\" font-style=\"italic\" lengthAdjust=\"spacingAndGlyphs\" textLength=\"40\" x=\"245\" y=\"78.1387\">«part»</text><text fill=\"#000000\" font-family=\"sans-serif\" font-size=\"12\" lengthAdjust=\"spacingAndGlyphs\" textLength=\"4\" x=\"261\" y=\"92.1074\">f</text><line style=\"stroke: #383838; stroke-width: 1.5;\" x1=\"245\" x2=\"285\" y1=\"99.9375\" y2=\"99.9375\"/></a><!--MD5=[96f4274e9e20536e775497830990834d]\n",
       "class E10--><a href=\"psysml:0b08e64f-1d74-4a65-b189-b5a78b2f5a03\" target=\"_top\" title=\"psysml:0b08e64f-1d74-4a65-b189-b5a78b2f5a03\" xlink:actuate=\"onRequest\" xlink:href=\"psysml:0b08e64f-1d74-4a65-b189-b5a78b2f5a03\" xlink:show=\"new\" xlink:title=\"psysml:0b08e64f-1d74-4a65-b189-b5a78b2f5a03\" xlink:type=\"simple\"><rect fill=\"#FFFFFF\" height=\"45.9375\" id=\"E10\" rx=\"10\" ry=\"10\" style=\"stroke: #383838; stroke-width: 1.5;\" width=\"42\" x=\"167\" y=\"62\"/><text fill=\"#000000\" font-family=\"sans-serif\" font-size=\"12\" font-style=\"italic\" lengthAdjust=\"spacingAndGlyphs\" textLength=\"40\" x=\"168\" y=\"78.1387\">«part»</text><text fill=\"#000000\" font-family=\"sans-serif\" font-size=\"12\" lengthAdjust=\"spacingAndGlyphs\" textLength=\"8\" x=\"182\" y=\"92.1074\">g</text><line style=\"stroke: #383838; stroke-width: 1.5;\" x1=\"168\" x2=\"208\" y1=\"99.9375\" y2=\"99.9375\"/></a><!--MD5=[1dd1bfd58a279cf63c5f349dbc8fc6a1]\n",
       "class E11--><a href=\"psysml:d2ba3396-0b46-40b3-bbf4-49972d7872ff\" target=\"_top\" title=\"psysml:d2ba3396-0b46-40b3-bbf4-49972d7872ff\" xlink:actuate=\"onRequest\" xlink:href=\"psysml:d2ba3396-0b46-40b3-bbf4-49972d7872ff\" xlink:show=\"new\" xlink:title=\"psysml:d2ba3396-0b46-40b3-bbf4-49972d7872ff\" xlink:type=\"simple\"><rect fill=\"#FFFFFF\" height=\"88.3516\" id=\"E11\" style=\"stroke: #383838; stroke-width: 1.5;\" width=\"99\" x=\"32.5\" y=\"41\"/><text fill=\"#000000\" font-family=\"sans-serif\" font-size=\"12\" font-style=\"italic\" lengthAdjust=\"spacingAndGlyphs\" textLength=\"97\" x=\"33.5\" y=\"57.1387\">«attribute  def»</text><text fill=\"#000000\" font-family=\"sans-serif\" font-size=\"12\" lengthAdjust=\"spacingAndGlyphs\" textLength=\"8\" x=\"78\" y=\"71.1074\">A</text><line style=\"stroke: #383838; stroke-width: 1.5;\" x1=\"33.5\" x2=\"130.5\" y1=\"78.9375\" y2=\"78.9375\"/><text fill=\"#000000\" font-family=\"sans-serif\" font-size=\"11\" lengthAdjust=\"spacingAndGlyphs\" textLength=\"51\" x=\"38.5\" y=\"109.9526\">i: Integer</text><text fill=\"#000000\" font-family=\"sans-serif\" font-size=\"11\" lengthAdjust=\"spacingAndGlyphs\" textLength=\"21\" x=\"38.5\" y=\"122.7573\">x: A</text><line style=\"stroke: #383838; stroke-width: 1.0;\" x1=\"33.5\" x2=\"54.5\" y1=\"93.3398\" y2=\"93.3398\"/><text fill=\"#000000\" font-family=\"sans-serif\" font-size=\"11\" lengthAdjust=\"spacingAndGlyphs\" textLength=\"55\" x=\"54.5\" y=\"96.6479\">attributes</text><line style=\"stroke: #383838; stroke-width: 1.0;\" x1=\"109.5\" x2=\"130.5\" y1=\"93.3398\" y2=\"93.3398\"/></a><!--MD5=[15ebcb19ae302d9b601edb458606d402]\n",
       "link E5 to E2--><a href=\"psysml:b362769d-1260-4065-9b83-621f0da47e8d\" target=\"_top\" title=\"psysml:b362769d-1260-4065-9b83-621f0da47e8d\" xlink:actuate=\"onRequest\" xlink:href=\"psysml:b362769d-1260-4065-9b83-621f0da47e8d\" xlink:show=\"new\" xlink:title=\"psysml:b362769d-1260-4065-9b83-621f0da47e8d\" xlink:type=\"simple\"><path d=\"M566.12,108.06 C560.83,125 553.38,148.89 546.98,169.39 \" fill=\"none\" id=\"E5-&gt;E2\" style=\"stroke: #383838; stroke-width: 1.0;\"/><polygon fill=\"#FFFFFF\" points=\"540.95,188.74,539.929,168.5173,553.2931,172.6886,540.95,188.74\" style=\"stroke: #383838; stroke-width: 1.0;\"/><ellipse cx=\"543.5364\" cy=\"163.6721\" fill=\"#383838\" rx=\"2\" ry=\"2\" style=\"stroke: #383838; stroke-width: 1.0;\"/><ellipse cx=\"553.0823\" cy=\"166.6516\" fill=\"#383838\" rx=\"2\" ry=\"2\" style=\"stroke: #383838; stroke-width: 1.0;\"/></a><!--MD5=[2351f337d6de0f557b50152ba70847b5]\n",
       "link E6 to E2--><a href=\"psysml:03080077-3284-4bc2-8ec3-31a93274162e\" target=\"_top\" title=\"psysml:03080077-3284-4bc2-8ec3-31a93274162e\" xlink:actuate=\"onRequest\" xlink:href=\"psysml:03080077-3284-4bc2-8ec3-31a93274162e\" xlink:show=\"new\" xlink:title=\"psysml:03080077-3284-4bc2-8ec3-31a93274162e\" xlink:type=\"simple\"><path d=\"M502.71,108.06 C507.86,125 515.12,148.89 521.35,169.39 \" fill=\"none\" id=\"E6-&gt;E2\" style=\"stroke: #383838; stroke-width: 1.0;\"/><polygon fill=\"#FFFFFF\" points=\"527.23,188.74,515.007,172.597,528.4019,168.5255,527.23,188.74\" style=\"stroke: #383838; stroke-width: 1.0;\"/><ellipse cx=\"515.2628\" cy=\"166.5617\" fill=\"#383838\" rx=\"2\" ry=\"2\" style=\"stroke: #383838; stroke-width: 1.0;\"/><ellipse cx=\"524.8306\" cy=\"163.6535\" fill=\"#383838\" rx=\"2\" ry=\"2\" style=\"stroke: #383838; stroke-width: 1.0;\"/></a><!--MD5=[529da68d3360bd5b4974e6d126f9b95d]\n",
       "@startuml\r\n",
       "skinparam monochrome true\r\n",
       "skinparam classbackgroundcolor white\r\n",
       "skinparam shadowing false\r\n",
       "skinparam wrapWidth 300\r\n",
       "hide circle\r\n",
       "\r\n",
       "package \"MultiplicityTest\" as E1  [[psysml:e445ccd1-d7b4-46a5-bbe0-1ba908b830dd ]]  {\r\n",
       "comp def \"P\" as E2  <<(T,blue) part  def>> [[psysml:7d5bba99-ceb9-4796-b455-cbfdc331a9aa ]] {\r\n",
       "}\r\n",
       "comp usage \"n: Integer \" as E3  <<(T,blue) attribute>> [[psysml:ec541e3b-6371-48bf-8290-c0b2a0f88f52 ]] {\r\n",
       "}\r\n",
       "comp usage \"a \" as E4  <<(T,blue) part>> [[psysml:0bccd947-b2f6-485e-9c27-5cc482a56716 ]] {\r\n",
       "}\r\n",
       "comp usage \"b: P \" as E5  <<(T,blue) part>> [[psysml:3563b5dd-e50a-438e-94ba-a5b38ab6df54 ]] {\r\n",
       "}\r\n",
       "comp usage \"c: P \" as E6  <<(T,blue) part>> [[psysml:61a7c4a1-1480-402d-a8df-76594b39497b ]] {\r\n",
       "}\r\n",
       "comp usage \"d \" as E7  <<(T,blue) part>> [[psysml:f3d0dfc0-0dbb-4454-830c-43cee9c0f8af ]] {\r\n",
       "}\r\n",
       "comp usage \"e \" as E8  <<(T,blue) part>> [[psysml:470ebeae-9c21-45dc-92b7-3ec0bcac92c0 ]] {\r\n",
       "}\r\n",
       "comp usage \"f \" as E9  <<(T,blue) part>> [[psysml:e3b105f8-a02a-4959-8fa9-8da786795f1e ]] {\r\n",
       "}\r\n",
       "comp usage \"g \" as E10  <<(T,blue) part>> [[psysml:0b08e64f-1d74-4a65-b189-b5a78b2f5a03 ]] {\r\n",
       "}\r\n",
       "comp def \"A\" as E11  <<(T,blue) attribute  def>> [[psysml:d2ba3396-0b46-40b3-bbf4-49972d7872ff ]] {\r\n",
       "- - attributes - -\r\n",
       "i: Integer\r\n",
       "x: A\r\n",
       "}\r\n",
       "}\r\n",
       "E5 - -:|> E2 [[psysml:b362769d-1260-4065-9b83-621f0da47e8d ]] \r\n",
       "E6 - -:|> E2 [[psysml:03080077-3284-4bc2-8ec3-31a93274162e ]] \r\n",
       "@enduml\r\n",
       "\n",
       "PlantUML version 1.2020.13(Sat Jun 13 12:26:38 UTC 2020)\n",
       "(EPL source distribution)\n",
       "Java Runtime: OpenJDK Runtime Environment\n",
       "JVM: OpenJDK 64-Bit Server VM\n",
       "Default Encoding: UTF-8\n",
       "Language: en\n",
       "Country: null\n",
       "--></g></svg>"
      ]
     },
     "execution_count": 37,
     "metadata": {},
     "output_type": "execute_result"
    }
   ],
   "source": [
    "%viz --style=\"DEFAULT\" --view=\"Default\" \"MultiplicityTest\""
   ]
  },
  {
   "cell_type": "code",
   "execution_count": 38,
   "id": "fab59893",
   "metadata": {
    "execution": {
     "iopub.execute_input": "2022-02-05T16:56:11.132638Z",
     "iopub.status.busy": "2022-02-05T16:56:11.132237Z",
     "iopub.status.idle": "2022-02-05T16:56:11.184782Z",
     "shell.execute_reply": "2022-02-05T16:56:11.184452Z"
    }
   },
   "outputs": [
    {
     "data": {
      "image/svg+xml": [
       "<?xml version=\"1.0\" encoding=\"UTF-8\" standalone=\"no\"?><svg xmlns=\"http://www.w3.org/2000/svg\" xmlns:xlink=\"http://www.w3.org/1999/xlink\" contentScriptType=\"application/ecmascript\" contentStyleType=\"text/css\" height=\"263px\" preserveAspectRatio=\"none\" style=\"width:816px;height:263px;\" version=\"1.1\" viewBox=\"0 0 816 263\" width=\"816px\" zoomAndPan=\"magnify\"><defs/><g><!--MD5=[fbc87193dbaf4d95561dea2c320d4a47]\n",
       "cluster E1--><a href=\"psysml:e445ccd1-d7b4-46a5-bbe0-1ba908b830dd\" target=\"_top\" title=\"psysml:e445ccd1-d7b4-46a5-bbe0-1ba908b830dd\" xlink:actuate=\"onRequest\" xlink:href=\"psysml:e445ccd1-d7b4-46a5-bbe0-1ba908b830dd\" xlink:show=\"new\" xlink:title=\"psysml:e445ccd1-d7b4-46a5-bbe0-1ba908b830dd\" xlink:type=\"simple\"><polygon fill=\"#FFFFFF\" points=\"16,6,123,6,130,28.2969,794,28.2969,794,251,16,251,16,6\" style=\"stroke: #000000; stroke-width: 1.5;\"/><line style=\"stroke: #000000; stroke-width: 1.5;\" x1=\"16\" x2=\"130\" y1=\"28.2969\" y2=\"28.2969\"/><text fill=\"#000000\" font-family=\"sans-serif\" font-size=\"14\" font-weight=\"bold\" lengthAdjust=\"spacingAndGlyphs\" textLength=\"101\" x=\"20\" y=\"20.9951\">MultiplicityTest</text></a><!--MD5=[b4997ac47864f28c2f74865a473b2911]\n",
       "class E2--><a href=\"psysml:7d5bba99-ceb9-4796-b455-cbfdc331a9aa\" target=\"_top\" title=\"psysml:7d5bba99-ceb9-4796-b455-cbfdc331a9aa\" xlink:actuate=\"onRequest\" xlink:href=\"psysml:7d5bba99-ceb9-4796-b455-cbfdc331a9aa\" xlink:show=\"new\" xlink:title=\"psysml:7d5bba99-ceb9-4796-b455-cbfdc331a9aa\" xlink:type=\"simple\"><rect fill=\"#FFFFFF\" height=\"45.9375\" id=\"E2\" style=\"stroke: #383838; stroke-width: 1.5;\" width=\"70\" x=\"499\" y=\"189\"/><text fill=\"#000000\" font-family=\"sans-serif\" font-size=\"12\" font-style=\"italic\" lengthAdjust=\"spacingAndGlyphs\" textLength=\"68\" x=\"500\" y=\"205.1387\">«part  def»</text><text fill=\"#000000\" font-family=\"sans-serif\" font-size=\"12\" lengthAdjust=\"spacingAndGlyphs\" textLength=\"8\" x=\"530\" y=\"219.1074\">P</text><line style=\"stroke: #383838; stroke-width: 1.5;\" x1=\"500\" x2=\"568\" y1=\"226.9375\" y2=\"226.9375\"/></a><!--MD5=[09b614a08d8cba4a07c9adeb5e0fee81]\n",
       "class E3--><a href=\"psysml:ec541e3b-6371-48bf-8290-c0b2a0f88f52\" target=\"_top\" title=\"psysml:ec541e3b-6371-48bf-8290-c0b2a0f88f52\" xlink:actuate=\"onRequest\" xlink:href=\"psysml:ec541e3b-6371-48bf-8290-c0b2a0f88f52\" xlink:show=\"new\" xlink:title=\"psysml:ec541e3b-6371-48bf-8290-c0b2a0f88f52\" xlink:type=\"simple\"><rect fill=\"#FFFFFF\" height=\"45.9375\" id=\"E3\" rx=\"10\" ry=\"10\" style=\"stroke: #383838; stroke-width: 1.5;\" width=\"71\" x=\"706.5\" y=\"62\"/><text fill=\"#000000\" font-family=\"sans-serif\" font-size=\"12\" font-style=\"italic\" lengthAdjust=\"spacingAndGlyphs\" textLength=\"69\" x=\"707.5\" y=\"78.1387\">«attribute»</text><text fill=\"#000000\" font-family=\"sans-serif\" font-size=\"12\" lengthAdjust=\"spacingAndGlyphs\" textLength=\"61\" x=\"709.5\" y=\"92.1074\">n: Integer</text><line style=\"stroke: #383838; stroke-width: 1.5;\" x1=\"707.5\" x2=\"776.5\" y1=\"99.9375\" y2=\"99.9375\"/></a><!--MD5=[ebbe1d658d1005bcc118a6aa81145e00]\n",
       "class E4--><a href=\"psysml:0bccd947-b2f6-485e-9c27-5cc482a56716\" target=\"_top\" title=\"psysml:0bccd947-b2f6-485e-9c27-5cc482a56716\" xlink:actuate=\"onRequest\" xlink:href=\"psysml:0bccd947-b2f6-485e-9c27-5cc482a56716\" xlink:show=\"new\" xlink:title=\"psysml:0bccd947-b2f6-485e-9c27-5cc482a56716\" xlink:type=\"simple\"><rect fill=\"#FFFFFF\" height=\"45.9375\" id=\"E4\" rx=\"10\" ry=\"10\" style=\"stroke: #383838; stroke-width: 1.5;\" width=\"42\" x=\"629\" y=\"62\"/><text fill=\"#000000\" font-family=\"sans-serif\" font-size=\"12\" font-style=\"italic\" lengthAdjust=\"spacingAndGlyphs\" textLength=\"40\" x=\"630\" y=\"78.1387\">«part»</text><text fill=\"#000000\" font-family=\"sans-serif\" font-size=\"12\" lengthAdjust=\"spacingAndGlyphs\" textLength=\"8\" x=\"644\" y=\"92.1074\">a</text><line style=\"stroke: #383838; stroke-width: 1.5;\" x1=\"630\" x2=\"670\" y1=\"99.9375\" y2=\"99.9375\"/></a><!--MD5=[270fce915f116d4de14055a7c1d9a0f3]\n",
       "class E5--><a href=\"psysml:3563b5dd-e50a-438e-94ba-a5b38ab6df54\" target=\"_top\" title=\"psysml:3563b5dd-e50a-438e-94ba-a5b38ab6df54\" xlink:actuate=\"onRequest\" xlink:href=\"psysml:3563b5dd-e50a-438e-94ba-a5b38ab6df54\" xlink:show=\"new\" xlink:title=\"psysml:3563b5dd-e50a-438e-94ba-a5b38ab6df54\" xlink:type=\"simple\"><rect fill=\"#FFFFFF\" height=\"45.9375\" id=\"E5\" rx=\"10\" ry=\"10\" style=\"stroke: #383838; stroke-width: 1.5;\" width=\"42\" x=\"552\" y=\"62\"/><text fill=\"#000000\" font-family=\"sans-serif\" font-size=\"12\" font-style=\"italic\" lengthAdjust=\"spacingAndGlyphs\" textLength=\"40\" x=\"553\" y=\"78.1387\">«part»</text><text fill=\"#000000\" font-family=\"sans-serif\" font-size=\"12\" lengthAdjust=\"spacingAndGlyphs\" textLength=\"24\" x=\"559\" y=\"92.1074\">b: P</text><line style=\"stroke: #383838; stroke-width: 1.5;\" x1=\"553\" x2=\"593\" y1=\"99.9375\" y2=\"99.9375\"/></a><!--MD5=[60a26617385b1d2d0262a64233df1f8d]\n",
       "class E6--><a href=\"psysml:61a7c4a1-1480-402d-a8df-76594b39497b\" target=\"_top\" title=\"psysml:61a7c4a1-1480-402d-a8df-76594b39497b\" xlink:actuate=\"onRequest\" xlink:href=\"psysml:61a7c4a1-1480-402d-a8df-76594b39497b\" xlink:show=\"new\" xlink:title=\"psysml:61a7c4a1-1480-402d-a8df-76594b39497b\" xlink:type=\"simple\"><rect fill=\"#FFFFFF\" height=\"45.9375\" id=\"E6\" rx=\"10\" ry=\"10\" style=\"stroke: #383838; stroke-width: 1.5;\" width=\"42\" x=\"475\" y=\"62\"/><text fill=\"#000000\" font-family=\"sans-serif\" font-size=\"12\" font-style=\"italic\" lengthAdjust=\"spacingAndGlyphs\" textLength=\"40\" x=\"476\" y=\"78.1387\">«part»</text><text fill=\"#000000\" font-family=\"sans-serif\" font-size=\"12\" lengthAdjust=\"spacingAndGlyphs\" textLength=\"23\" x=\"482.5\" y=\"92.1074\">c: P</text><line style=\"stroke: #383838; stroke-width: 1.5;\" x1=\"476\" x2=\"516\" y1=\"99.9375\" y2=\"99.9375\"/></a><!--MD5=[2156ba9850f5573cc1fc38a6a4b2f02b]\n",
       "class E7--><a href=\"psysml:f3d0dfc0-0dbb-4454-830c-43cee9c0f8af\" target=\"_top\" title=\"psysml:f3d0dfc0-0dbb-4454-830c-43cee9c0f8af\" xlink:actuate=\"onRequest\" xlink:href=\"psysml:f3d0dfc0-0dbb-4454-830c-43cee9c0f8af\" xlink:show=\"new\" xlink:title=\"psysml:f3d0dfc0-0dbb-4454-830c-43cee9c0f8af\" xlink:type=\"simple\"><rect fill=\"#FFFFFF\" height=\"45.9375\" id=\"E7\" rx=\"10\" ry=\"10\" style=\"stroke: #383838; stroke-width: 1.5;\" width=\"42\" x=\"398\" y=\"62\"/><text fill=\"#000000\" font-family=\"sans-serif\" font-size=\"12\" font-style=\"italic\" lengthAdjust=\"spacingAndGlyphs\" textLength=\"40\" x=\"399\" y=\"78.1387\">«part»</text><text fill=\"#000000\" font-family=\"sans-serif\" font-size=\"12\" lengthAdjust=\"spacingAndGlyphs\" textLength=\"8\" x=\"413\" y=\"92.1074\">d</text><line style=\"stroke: #383838; stroke-width: 1.5;\" x1=\"399\" x2=\"439\" y1=\"99.9375\" y2=\"99.9375\"/></a><!--MD5=[b9389687b975829384b498ac4b7476b2]\n",
       "class E8--><a href=\"psysml:470ebeae-9c21-45dc-92b7-3ec0bcac92c0\" target=\"_top\" title=\"psysml:470ebeae-9c21-45dc-92b7-3ec0bcac92c0\" xlink:actuate=\"onRequest\" xlink:href=\"psysml:470ebeae-9c21-45dc-92b7-3ec0bcac92c0\" xlink:show=\"new\" xlink:title=\"psysml:470ebeae-9c21-45dc-92b7-3ec0bcac92c0\" xlink:type=\"simple\"><rect fill=\"#FFFFFF\" height=\"45.9375\" id=\"E8\" rx=\"10\" ry=\"10\" style=\"stroke: #383838; stroke-width: 1.5;\" width=\"42\" x=\"321\" y=\"62\"/><text fill=\"#000000\" font-family=\"sans-serif\" font-size=\"12\" font-style=\"italic\" lengthAdjust=\"spacingAndGlyphs\" textLength=\"40\" x=\"322\" y=\"78.1387\">«part»</text><text fill=\"#000000\" font-family=\"sans-serif\" font-size=\"12\" lengthAdjust=\"spacingAndGlyphs\" textLength=\"8\" x=\"336\" y=\"92.1074\">e</text><line style=\"stroke: #383838; stroke-width: 1.5;\" x1=\"322\" x2=\"362\" y1=\"99.9375\" y2=\"99.9375\"/></a><!--MD5=[fd4143e9d270a159db93a4ea2a975926]\n",
       "class E9--><a href=\"psysml:e3b105f8-a02a-4959-8fa9-8da786795f1e\" target=\"_top\" title=\"psysml:e3b105f8-a02a-4959-8fa9-8da786795f1e\" xlink:actuate=\"onRequest\" xlink:href=\"psysml:e3b105f8-a02a-4959-8fa9-8da786795f1e\" xlink:show=\"new\" xlink:title=\"psysml:e3b105f8-a02a-4959-8fa9-8da786795f1e\" xlink:type=\"simple\"><rect fill=\"#FFFFFF\" height=\"45.9375\" id=\"E9\" rx=\"10\" ry=\"10\" style=\"stroke: #383838; stroke-width: 1.5;\" width=\"42\" x=\"244\" y=\"62\"/><text fill=\"#000000\" font-family=\"sans-serif\" font-size=\"12\" font-style=\"italic\" lengthAdjust=\"spacingAndGlyphs\" textLength=\"40\" x=\"245\" y=\"78.1387\">«part»</text><text fill=\"#000000\" font-family=\"sans-serif\" font-size=\"12\" lengthAdjust=\"spacingAndGlyphs\" textLength=\"4\" x=\"261\" y=\"92.1074\">f</text><line style=\"stroke: #383838; stroke-width: 1.5;\" x1=\"245\" x2=\"285\" y1=\"99.9375\" y2=\"99.9375\"/></a><!--MD5=[96f4274e9e20536e775497830990834d]\n",
       "class E10--><a href=\"psysml:0b08e64f-1d74-4a65-b189-b5a78b2f5a03\" target=\"_top\" title=\"psysml:0b08e64f-1d74-4a65-b189-b5a78b2f5a03\" xlink:actuate=\"onRequest\" xlink:href=\"psysml:0b08e64f-1d74-4a65-b189-b5a78b2f5a03\" xlink:show=\"new\" xlink:title=\"psysml:0b08e64f-1d74-4a65-b189-b5a78b2f5a03\" xlink:type=\"simple\"><rect fill=\"#FFFFFF\" height=\"45.9375\" id=\"E10\" rx=\"10\" ry=\"10\" style=\"stroke: #383838; stroke-width: 1.5;\" width=\"42\" x=\"167\" y=\"62\"/><text fill=\"#000000\" font-family=\"sans-serif\" font-size=\"12\" font-style=\"italic\" lengthAdjust=\"spacingAndGlyphs\" textLength=\"40\" x=\"168\" y=\"78.1387\">«part»</text><text fill=\"#000000\" font-family=\"sans-serif\" font-size=\"12\" lengthAdjust=\"spacingAndGlyphs\" textLength=\"8\" x=\"182\" y=\"92.1074\">g</text><line style=\"stroke: #383838; stroke-width: 1.5;\" x1=\"168\" x2=\"208\" y1=\"99.9375\" y2=\"99.9375\"/></a><!--MD5=[1dd1bfd58a279cf63c5f349dbc8fc6a1]\n",
       "class E11--><a href=\"psysml:d2ba3396-0b46-40b3-bbf4-49972d7872ff\" target=\"_top\" title=\"psysml:d2ba3396-0b46-40b3-bbf4-49972d7872ff\" xlink:actuate=\"onRequest\" xlink:href=\"psysml:d2ba3396-0b46-40b3-bbf4-49972d7872ff\" xlink:show=\"new\" xlink:title=\"psysml:d2ba3396-0b46-40b3-bbf4-49972d7872ff\" xlink:type=\"simple\"><rect fill=\"#FFFFFF\" height=\"88.3516\" id=\"E11\" style=\"stroke: #383838; stroke-width: 1.5;\" width=\"99\" x=\"32.5\" y=\"41\"/><text fill=\"#000000\" font-family=\"sans-serif\" font-size=\"12\" font-style=\"italic\" lengthAdjust=\"spacingAndGlyphs\" textLength=\"97\" x=\"33.5\" y=\"57.1387\">«attribute  def»</text><text fill=\"#000000\" font-family=\"sans-serif\" font-size=\"12\" lengthAdjust=\"spacingAndGlyphs\" textLength=\"8\" x=\"78\" y=\"71.1074\">A</text><line style=\"stroke: #383838; stroke-width: 1.5;\" x1=\"33.5\" x2=\"130.5\" y1=\"78.9375\" y2=\"78.9375\"/><text fill=\"#000000\" font-family=\"sans-serif\" font-size=\"11\" lengthAdjust=\"spacingAndGlyphs\" textLength=\"51\" x=\"38.5\" y=\"109.9526\">i: Integer</text><text fill=\"#000000\" font-family=\"sans-serif\" font-size=\"11\" lengthAdjust=\"spacingAndGlyphs\" textLength=\"21\" x=\"38.5\" y=\"122.7573\">x: A</text><line style=\"stroke: #383838; stroke-width: 1.0;\" x1=\"33.5\" x2=\"54.5\" y1=\"93.3398\" y2=\"93.3398\"/><text fill=\"#000000\" font-family=\"sans-serif\" font-size=\"11\" lengthAdjust=\"spacingAndGlyphs\" textLength=\"55\" x=\"54.5\" y=\"96.6479\">attributes</text><line style=\"stroke: #383838; stroke-width: 1.0;\" x1=\"109.5\" x2=\"130.5\" y1=\"93.3398\" y2=\"93.3398\"/></a><!--MD5=[15ebcb19ae302d9b601edb458606d402]\n",
       "link E5 to E2--><a href=\"psysml:b362769d-1260-4065-9b83-621f0da47e8d\" target=\"_top\" title=\"psysml:b362769d-1260-4065-9b83-621f0da47e8d\" xlink:actuate=\"onRequest\" xlink:href=\"psysml:b362769d-1260-4065-9b83-621f0da47e8d\" xlink:show=\"new\" xlink:title=\"psysml:b362769d-1260-4065-9b83-621f0da47e8d\" xlink:type=\"simple\"><path d=\"M566.12,108.06 C560.83,125 553.38,148.89 546.98,169.39 \" fill=\"none\" id=\"E5-&gt;E2\" style=\"stroke: #383838; stroke-width: 1.0;\"/><polygon fill=\"#FFFFFF\" points=\"540.95,188.74,539.929,168.5173,553.2931,172.6886,540.95,188.74\" style=\"stroke: #383838; stroke-width: 1.0;\"/><ellipse cx=\"543.5364\" cy=\"163.6721\" fill=\"#383838\" rx=\"2\" ry=\"2\" style=\"stroke: #383838; stroke-width: 1.0;\"/><ellipse cx=\"553.0823\" cy=\"166.6516\" fill=\"#383838\" rx=\"2\" ry=\"2\" style=\"stroke: #383838; stroke-width: 1.0;\"/></a><!--MD5=[2351f337d6de0f557b50152ba70847b5]\n",
       "link E6 to E2--><a href=\"psysml:03080077-3284-4bc2-8ec3-31a93274162e\" target=\"_top\" title=\"psysml:03080077-3284-4bc2-8ec3-31a93274162e\" xlink:actuate=\"onRequest\" xlink:href=\"psysml:03080077-3284-4bc2-8ec3-31a93274162e\" xlink:show=\"new\" xlink:title=\"psysml:03080077-3284-4bc2-8ec3-31a93274162e\" xlink:type=\"simple\"><path d=\"M502.71,108.06 C507.86,125 515.12,148.89 521.35,169.39 \" fill=\"none\" id=\"E6-&gt;E2\" style=\"stroke: #383838; stroke-width: 1.0;\"/><polygon fill=\"#FFFFFF\" points=\"527.23,188.74,515.007,172.597,528.4019,168.5255,527.23,188.74\" style=\"stroke: #383838; stroke-width: 1.0;\"/><ellipse cx=\"515.2628\" cy=\"166.5617\" fill=\"#383838\" rx=\"2\" ry=\"2\" style=\"stroke: #383838; stroke-width: 1.0;\"/><ellipse cx=\"524.8306\" cy=\"163.6535\" fill=\"#383838\" rx=\"2\" ry=\"2\" style=\"stroke: #383838; stroke-width: 1.0;\"/></a><!--MD5=[529da68d3360bd5b4974e6d126f9b95d]\n",
       "@startuml\r\n",
       "skinparam monochrome true\r\n",
       "skinparam classbackgroundcolor white\r\n",
       "skinparam shadowing false\r\n",
       "skinparam wrapWidth 300\r\n",
       "hide circle\r\n",
       "\r\n",
       "package \"MultiplicityTest\" as E1  [[psysml:e445ccd1-d7b4-46a5-bbe0-1ba908b830dd ]]  {\r\n",
       "comp def \"P\" as E2  <<(T,blue) part  def>> [[psysml:7d5bba99-ceb9-4796-b455-cbfdc331a9aa ]] {\r\n",
       "}\r\n",
       "comp usage \"n: Integer \" as E3  <<(T,blue) attribute>> [[psysml:ec541e3b-6371-48bf-8290-c0b2a0f88f52 ]] {\r\n",
       "}\r\n",
       "comp usage \"a \" as E4  <<(T,blue) part>> [[psysml:0bccd947-b2f6-485e-9c27-5cc482a56716 ]] {\r\n",
       "}\r\n",
       "comp usage \"b: P \" as E5  <<(T,blue) part>> [[psysml:3563b5dd-e50a-438e-94ba-a5b38ab6df54 ]] {\r\n",
       "}\r\n",
       "comp usage \"c: P \" as E6  <<(T,blue) part>> [[psysml:61a7c4a1-1480-402d-a8df-76594b39497b ]] {\r\n",
       "}\r\n",
       "comp usage \"d \" as E7  <<(T,blue) part>> [[psysml:f3d0dfc0-0dbb-4454-830c-43cee9c0f8af ]] {\r\n",
       "}\r\n",
       "comp usage \"e \" as E8  <<(T,blue) part>> [[psysml:470ebeae-9c21-45dc-92b7-3ec0bcac92c0 ]] {\r\n",
       "}\r\n",
       "comp usage \"f \" as E9  <<(T,blue) part>> [[psysml:e3b105f8-a02a-4959-8fa9-8da786795f1e ]] {\r\n",
       "}\r\n",
       "comp usage \"g \" as E10  <<(T,blue) part>> [[psysml:0b08e64f-1d74-4a65-b189-b5a78b2f5a03 ]] {\r\n",
       "}\r\n",
       "comp def \"A\" as E11  <<(T,blue) attribute  def>> [[psysml:d2ba3396-0b46-40b3-bbf4-49972d7872ff ]] {\r\n",
       "- - attributes - -\r\n",
       "i: Integer\r\n",
       "x: A\r\n",
       "}\r\n",
       "}\r\n",
       "E5 - -:|> E2 [[psysml:b362769d-1260-4065-9b83-621f0da47e8d ]] \r\n",
       "E6 - -:|> E2 [[psysml:03080077-3284-4bc2-8ec3-31a93274162e ]] \r\n",
       "@enduml\r\n",
       "\n",
       "PlantUML version 1.2020.13(Sat Jun 13 12:26:38 UTC 2020)\n",
       "(EPL source distribution)\n",
       "Java Runtime: OpenJDK Runtime Environment\n",
       "JVM: OpenJDK 64-Bit Server VM\n",
       "Default Encoding: UTF-8\n",
       "Language: en\n",
       "Country: null\n",
       "--></g></svg>"
      ]
     },
     "execution_count": 38,
     "metadata": {},
     "output_type": "execute_result"
    }
   ],
   "source": [
    "%viz --style=\"DEFAULT\" --view=\"Tree\" \"MultiplicityTest\""
   ]
  },
  {
   "cell_type": "code",
   "execution_count": 39,
   "id": "69493ff1",
   "metadata": {
    "execution": {
     "iopub.execute_input": "2022-02-05T16:56:11.234691Z",
     "iopub.status.busy": "2022-02-05T16:56:11.234292Z",
     "iopub.status.idle": "2022-02-05T16:56:11.238634Z",
     "shell.execute_reply": "2022-02-05T16:56:11.238944Z"
    }
   },
   "outputs": [
    {
     "data": {
      "image/svg+xml": [
       "<?xml version=\"1.0\" encoding=\"UTF-8\" standalone=\"no\"?><svg xmlns=\"http://www.w3.org/2000/svg\" xmlns:xlink=\"http://www.w3.org/1999/xlink\" contentScriptType=\"application/ecmascript\" contentStyleType=\"text/css\" height=\"12px\" preserveAspectRatio=\"none\" style=\"width:12px;height:12px;\" version=\"1.1\" viewBox=\"0 0 12 12\" width=\"12px\" zoomAndPan=\"magnify\"><defs/><g><!--MD5=[c5f280e076d0d61ccf4b0f27871bda1d]\n",
       "@startuml\r\n",
       "skinparam monochrome true\r\n",
       "skinparam classbackgroundcolor white\r\n",
       "skinparam shadowing false\r\n",
       "skinparam wrapWidth 300\r\n",
       "hide circle\r\n",
       "\r\n",
       "@enduml\r\n",
       "\n",
       "PlantUML version 1.2020.13(Sat Jun 13 12:26:38 UTC 2020)\n",
       "(EPL source distribution)\n",
       "Java Runtime: OpenJDK Runtime Environment\n",
       "JVM: OpenJDK 64-Bit Server VM\n",
       "Default Encoding: UTF-8\n",
       "Language: en\n",
       "Country: null\n",
       "--></g></svg>"
      ]
     },
     "execution_count": 39,
     "metadata": {},
     "output_type": "execute_result"
    }
   ],
   "source": [
    "%viz --style=\"DEFAULT\" --view=\"State\" \"MultiplicityTest\""
   ]
  },
  {
   "cell_type": "code",
   "execution_count": 40,
   "id": "336f0bf3",
   "metadata": {
    "execution": {
     "iopub.execute_input": "2022-02-05T16:56:11.289043Z",
     "iopub.status.busy": "2022-02-05T16:56:11.288643Z",
     "iopub.status.idle": "2022-02-05T16:56:11.320187Z",
     "shell.execute_reply": "2022-02-05T16:56:11.319855Z"
    }
   },
   "outputs": [
    {
     "data": {
      "image/svg+xml": [
       "<?xml version=\"1.0\" encoding=\"UTF-8\" standalone=\"no\"?><svg xmlns=\"http://www.w3.org/2000/svg\" xmlns:xlink=\"http://www.w3.org/1999/xlink\" contentScriptType=\"application/ecmascript\" contentStyleType=\"text/css\" height=\"115px\" preserveAspectRatio=\"none\" style=\"width:987px;height:115px;\" version=\"1.1\" viewBox=\"0 0 987 115\" width=\"987px\" zoomAndPan=\"magnify\"><defs/><g><!--MD5=[fbc87193dbaf4d95561dea2c320d4a47]\n",
       "cluster E1--><a href=\"psysml:e445ccd1-d7b4-46a5-bbe0-1ba908b830dd\" target=\"_top\" title=\"psysml:e445ccd1-d7b4-46a5-bbe0-1ba908b830dd\" xlink:actuate=\"onRequest\" xlink:href=\"psysml:e445ccd1-d7b4-46a5-bbe0-1ba908b830dd\" xlink:show=\"new\" xlink:title=\"psysml:e445ccd1-d7b4-46a5-bbe0-1ba908b830dd\" xlink:type=\"simple\"><polygon fill=\"#FFFFFF\" points=\"16,6,123,6,130,28.2969,965,28.2969,965,103,16,103,16,6\" style=\"stroke: #000000; stroke-width: 1.5;\"/><line style=\"stroke: #000000; stroke-width: 1.5;\" x1=\"16\" x2=\"130\" y1=\"28.2969\" y2=\"28.2969\"/><text fill=\"#000000\" font-family=\"sans-serif\" font-size=\"14\" font-weight=\"bold\" lengthAdjust=\"spacingAndGlyphs\" textLength=\"101\" x=\"20\" y=\"20.9951\">MultiplicityTest</text></a><!--MD5=[09b614a08d8cba4a07c9adeb5e0fee81]\n",
       "class E3--><a href=\"psysml:ec541e3b-6371-48bf-8290-c0b2a0f88f52\" target=\"_top\" title=\"psysml:ec541e3b-6371-48bf-8290-c0b2a0f88f52\" xlink:actuate=\"onRequest\" xlink:href=\"psysml:ec541e3b-6371-48bf-8290-c0b2a0f88f52\" xlink:show=\"new\" xlink:title=\"psysml:ec541e3b-6371-48bf-8290-c0b2a0f88f52\" xlink:type=\"simple\"><rect fill=\"#FFFFFF\" height=\"45.9375\" id=\"E3\" rx=\"10\" ry=\"10\" style=\"stroke: #383838; stroke-width: 1.5;\" width=\"71\" x=\"877.5\" y=\"41\"/><text fill=\"#000000\" font-family=\"sans-serif\" font-size=\"12\" font-style=\"italic\" lengthAdjust=\"spacingAndGlyphs\" textLength=\"69\" x=\"878.5\" y=\"57.1387\">«attribute»</text><text fill=\"#000000\" font-family=\"sans-serif\" font-size=\"12\" lengthAdjust=\"spacingAndGlyphs\" textLength=\"61\" x=\"880.5\" y=\"71.1074\">n: Integer</text><line style=\"stroke: #383838; stroke-width: 1.5;\" x1=\"878.5\" x2=\"947.5\" y1=\"78.9375\" y2=\"78.9375\"/></a><g id=\"E1.E11\"><a href=\"psysml:d2ba3396-0b46-40b3-bbf4-49972d7872ff\" target=\"_top\" title=\"psysml:d2ba3396-0b46-40b3-bbf4-49972d7872ff\" xlink:actuate=\"onRequest\" xlink:href=\"psysml:d2ba3396-0b46-40b3-bbf4-49972d7872ff\" xlink:show=\"new\" xlink:title=\"psysml:d2ba3396-0b46-40b3-bbf4-49972d7872ff\" xlink:type=\"simple\"><rect fill=\"#FFFFFF\" height=\"42.9375\" id=\"E11\" style=\"stroke: #383838; stroke-width: 1.5;\" width=\"104\" x=\"738\" y=\"42.5\"/><rect fill=\"#F8F8F8\" height=\"37.9375\" style=\"stroke: #383838; stroke-width: 1.5;\" width=\"104\" x=\"738\" y=\"42.5\"/><text fill=\"#000000\" font-family=\"sans-serif\" font-size=\"12\" font-style=\"italic\" lengthAdjust=\"spacingAndGlyphs\" textLength=\"97\" x=\"741.5\" y=\"58.6387\">«attribute  def»</text><text fill=\"#000000\" font-family=\"sans-serif\" font-size=\"12\" lengthAdjust=\"spacingAndGlyphs\" textLength=\"8\" x=\"786\" y=\"72.6074\">A</text></a></g><g id=\"E1.E2\"><a href=\"psysml:7d5bba99-ceb9-4796-b455-cbfdc331a9aa\" target=\"_top\" title=\"psysml:7d5bba99-ceb9-4796-b455-cbfdc331a9aa\" xlink:actuate=\"onRequest\" xlink:href=\"psysml:7d5bba99-ceb9-4796-b455-cbfdc331a9aa\" xlink:show=\"new\" xlink:title=\"psysml:7d5bba99-ceb9-4796-b455-cbfdc331a9aa\" xlink:type=\"simple\"><rect fill=\"#FFFFFF\" height=\"42.9375\" id=\"E2\" style=\"stroke: #383838; stroke-width: 1.5;\" width=\"75\" x=\"627.5\" y=\"42.5\"/><rect fill=\"#F8F8F8\" height=\"37.9375\" style=\"stroke: #383838; stroke-width: 1.5;\" width=\"75\" x=\"627.5\" y=\"42.5\"/><text fill=\"#000000\" font-family=\"sans-serif\" font-size=\"12\" font-style=\"italic\" lengthAdjust=\"spacingAndGlyphs\" textLength=\"68\" x=\"631\" y=\"58.6387\">«part  def»</text><text fill=\"#000000\" font-family=\"sans-serif\" font-size=\"12\" lengthAdjust=\"spacingAndGlyphs\" textLength=\"8\" x=\"661\" y=\"72.6074\">P</text></a></g><g id=\"E1.E4\"><a href=\"psysml:0bccd947-b2f6-485e-9c27-5cc482a56716\" target=\"_top\" title=\"psysml:0bccd947-b2f6-485e-9c27-5cc482a56716\" xlink:actuate=\"onRequest\" xlink:href=\"psysml:0bccd947-b2f6-485e-9c27-5cc482a56716\" xlink:show=\"new\" xlink:title=\"psysml:0bccd947-b2f6-485e-9c27-5cc482a56716\" xlink:type=\"simple\"><rect fill=\"#FFFFFF\" height=\"40\" id=\"E4\" rx=\"10\" ry=\"10\" style=\"stroke: #383838; stroke-width: 1.5;\" width=\"50\" x=\"542\" y=\"44\"/><rect fill=\"#F8F8F8\" height=\"23.9688\" rx=\"10\" ry=\"10\" style=\"stroke: #F8F8F8; stroke-width: 1.5;\" width=\"50\" x=\"542\" y=\"44\"/><rect fill=\"#F8F8F8\" height=\"10\" style=\"stroke: #F8F8F8; stroke-width: 1.5;\" width=\"50\" x=\"542\" y=\"57.9688\"/><rect fill=\"none\" height=\"40\" id=\"E4\" rx=\"10\" ry=\"10\" style=\"stroke: #383838; stroke-width: 1.5;\" width=\"50\" x=\"542\" y=\"44\"/><text fill=\"#000000\" font-family=\"sans-serif\" font-size=\"12\" lengthAdjust=\"spacingAndGlyphs\" textLength=\"8\" x=\"563\" y=\"60.1387\">a</text></a></g><g id=\"E1.E5\"><a href=\"psysml:3563b5dd-e50a-438e-94ba-a5b38ab6df54\" target=\"_top\" title=\"psysml:3563b5dd-e50a-438e-94ba-a5b38ab6df54\" xlink:actuate=\"onRequest\" xlink:href=\"psysml:3563b5dd-e50a-438e-94ba-a5b38ab6df54\" xlink:show=\"new\" xlink:title=\"psysml:3563b5dd-e50a-438e-94ba-a5b38ab6df54\" xlink:type=\"simple\"><rect fill=\"#FFFFFF\" height=\"40\" id=\"E5\" rx=\"10\" ry=\"10\" style=\"stroke: #383838; stroke-width: 1.5;\" width=\"50\" x=\"457\" y=\"44\"/><rect fill=\"#F8F8F8\" height=\"23.9688\" rx=\"10\" ry=\"10\" style=\"stroke: #F8F8F8; stroke-width: 1.5;\" width=\"50\" x=\"457\" y=\"44\"/><rect fill=\"#F8F8F8\" height=\"10\" style=\"stroke: #F8F8F8; stroke-width: 1.5;\" width=\"50\" x=\"457\" y=\"57.9688\"/><rect fill=\"none\" height=\"40\" id=\"E5\" rx=\"10\" ry=\"10\" style=\"stroke: #383838; stroke-width: 1.5;\" width=\"50\" x=\"457\" y=\"44\"/><text fill=\"#000000\" font-family=\"sans-serif\" font-size=\"12\" lengthAdjust=\"spacingAndGlyphs\" textLength=\"24\" x=\"470\" y=\"60.1387\">b: P</text></a></g><g id=\"E1.E6\"><a href=\"psysml:61a7c4a1-1480-402d-a8df-76594b39497b\" target=\"_top\" title=\"psysml:61a7c4a1-1480-402d-a8df-76594b39497b\" xlink:actuate=\"onRequest\" xlink:href=\"psysml:61a7c4a1-1480-402d-a8df-76594b39497b\" xlink:show=\"new\" xlink:title=\"psysml:61a7c4a1-1480-402d-a8df-76594b39497b\" xlink:type=\"simple\"><rect fill=\"#FFFFFF\" height=\"40\" id=\"E6\" rx=\"10\" ry=\"10\" style=\"stroke: #383838; stroke-width: 1.5;\" width=\"50\" x=\"372\" y=\"44\"/><rect fill=\"#F8F8F8\" height=\"23.9688\" rx=\"10\" ry=\"10\" style=\"stroke: #F8F8F8; stroke-width: 1.5;\" width=\"50\" x=\"372\" y=\"44\"/><rect fill=\"#F8F8F8\" height=\"10\" style=\"stroke: #F8F8F8; stroke-width: 1.5;\" width=\"50\" x=\"372\" y=\"57.9688\"/><rect fill=\"none\" height=\"40\" id=\"E6\" rx=\"10\" ry=\"10\" style=\"stroke: #383838; stroke-width: 1.5;\" width=\"50\" x=\"372\" y=\"44\"/><text fill=\"#000000\" font-family=\"sans-serif\" font-size=\"12\" lengthAdjust=\"spacingAndGlyphs\" textLength=\"23\" x=\"385.5\" y=\"60.1387\">c: P</text></a></g><g id=\"E1.E7\"><a href=\"psysml:f3d0dfc0-0dbb-4454-830c-43cee9c0f8af\" target=\"_top\" title=\"psysml:f3d0dfc0-0dbb-4454-830c-43cee9c0f8af\" xlink:actuate=\"onRequest\" xlink:href=\"psysml:f3d0dfc0-0dbb-4454-830c-43cee9c0f8af\" xlink:show=\"new\" xlink:title=\"psysml:f3d0dfc0-0dbb-4454-830c-43cee9c0f8af\" xlink:type=\"simple\"><rect fill=\"#FFFFFF\" height=\"40\" id=\"E7\" rx=\"10\" ry=\"10\" style=\"stroke: #383838; stroke-width: 1.5;\" width=\"50\" x=\"287\" y=\"44\"/><rect fill=\"#F8F8F8\" height=\"23.9688\" rx=\"10\" ry=\"10\" style=\"stroke: #F8F8F8; stroke-width: 1.5;\" width=\"50\" x=\"287\" y=\"44\"/><rect fill=\"#F8F8F8\" height=\"10\" style=\"stroke: #F8F8F8; stroke-width: 1.5;\" width=\"50\" x=\"287\" y=\"57.9688\"/><rect fill=\"none\" height=\"40\" id=\"E7\" rx=\"10\" ry=\"10\" style=\"stroke: #383838; stroke-width: 1.5;\" width=\"50\" x=\"287\" y=\"44\"/><text fill=\"#000000\" font-family=\"sans-serif\" font-size=\"12\" lengthAdjust=\"spacingAndGlyphs\" textLength=\"8\" x=\"308\" y=\"60.1387\">d</text></a></g><g id=\"E1.E8\"><a href=\"psysml:470ebeae-9c21-45dc-92b7-3ec0bcac92c0\" target=\"_top\" title=\"psysml:470ebeae-9c21-45dc-92b7-3ec0bcac92c0\" xlink:actuate=\"onRequest\" xlink:href=\"psysml:470ebeae-9c21-45dc-92b7-3ec0bcac92c0\" xlink:show=\"new\" xlink:title=\"psysml:470ebeae-9c21-45dc-92b7-3ec0bcac92c0\" xlink:type=\"simple\"><rect fill=\"#FFFFFF\" height=\"40\" id=\"E8\" rx=\"10\" ry=\"10\" style=\"stroke: #383838; stroke-width: 1.5;\" width=\"50\" x=\"202\" y=\"44\"/><rect fill=\"#F8F8F8\" height=\"23.9688\" rx=\"10\" ry=\"10\" style=\"stroke: #F8F8F8; stroke-width: 1.5;\" width=\"50\" x=\"202\" y=\"44\"/><rect fill=\"#F8F8F8\" height=\"10\" style=\"stroke: #F8F8F8; stroke-width: 1.5;\" width=\"50\" x=\"202\" y=\"57.9688\"/><rect fill=\"none\" height=\"40\" id=\"E8\" rx=\"10\" ry=\"10\" style=\"stroke: #383838; stroke-width: 1.5;\" width=\"50\" x=\"202\" y=\"44\"/><text fill=\"#000000\" font-family=\"sans-serif\" font-size=\"12\" lengthAdjust=\"spacingAndGlyphs\" textLength=\"8\" x=\"223\" y=\"60.1387\">e</text></a></g><g id=\"E1.E9\"><a href=\"psysml:e3b105f8-a02a-4959-8fa9-8da786795f1e\" target=\"_top\" title=\"psysml:e3b105f8-a02a-4959-8fa9-8da786795f1e\" xlink:actuate=\"onRequest\" xlink:href=\"psysml:e3b105f8-a02a-4959-8fa9-8da786795f1e\" xlink:show=\"new\" xlink:title=\"psysml:e3b105f8-a02a-4959-8fa9-8da786795f1e\" xlink:type=\"simple\"><rect fill=\"#FFFFFF\" height=\"40\" id=\"E9\" rx=\"10\" ry=\"10\" style=\"stroke: #383838; stroke-width: 1.5;\" width=\"50\" x=\"117\" y=\"44\"/><rect fill=\"#F8F8F8\" height=\"23.9688\" rx=\"10\" ry=\"10\" style=\"stroke: #F8F8F8; stroke-width: 1.5;\" width=\"50\" x=\"117\" y=\"44\"/><rect fill=\"#F8F8F8\" height=\"10\" style=\"stroke: #F8F8F8; stroke-width: 1.5;\" width=\"50\" x=\"117\" y=\"57.9688\"/><rect fill=\"none\" height=\"40\" id=\"E9\" rx=\"10\" ry=\"10\" style=\"stroke: #383838; stroke-width: 1.5;\" width=\"50\" x=\"117\" y=\"44\"/><text fill=\"#000000\" font-family=\"sans-serif\" font-size=\"12\" lengthAdjust=\"spacingAndGlyphs\" textLength=\"4\" x=\"140\" y=\"60.1387\">f</text></a></g><g id=\"E1.E10\"><a href=\"psysml:0b08e64f-1d74-4a65-b189-b5a78b2f5a03\" target=\"_top\" title=\"psysml:0b08e64f-1d74-4a65-b189-b5a78b2f5a03\" xlink:actuate=\"onRequest\" xlink:href=\"psysml:0b08e64f-1d74-4a65-b189-b5a78b2f5a03\" xlink:show=\"new\" xlink:title=\"psysml:0b08e64f-1d74-4a65-b189-b5a78b2f5a03\" xlink:type=\"simple\"><rect fill=\"#FFFFFF\" height=\"40\" id=\"E10\" rx=\"10\" ry=\"10\" style=\"stroke: #383838; stroke-width: 1.5;\" width=\"50\" x=\"32\" y=\"44\"/><rect fill=\"#F8F8F8\" height=\"23.9688\" rx=\"10\" ry=\"10\" style=\"stroke: #F8F8F8; stroke-width: 1.5;\" width=\"50\" x=\"32\" y=\"44\"/><rect fill=\"#F8F8F8\" height=\"10\" style=\"stroke: #F8F8F8; stroke-width: 1.5;\" width=\"50\" x=\"32\" y=\"57.9688\"/><rect fill=\"none\" height=\"40\" id=\"E10\" rx=\"10\" ry=\"10\" style=\"stroke: #383838; stroke-width: 1.5;\" width=\"50\" x=\"32\" y=\"44\"/><text fill=\"#000000\" font-family=\"sans-serif\" font-size=\"12\" lengthAdjust=\"spacingAndGlyphs\" textLength=\"8\" x=\"53\" y=\"60.1387\">g</text></a></g><!--MD5=[abe90cd2d41cf00746caec49f50481c4]\n",
       "@startuml\r\n",
       "skinparam ranksep 10\r\n",
       "skinparam rectangle {\r\n",
       " backgroundColor<<block>> LightGreen\r\n",
       "}\r\n",
       "skinparam monochrome true\r\n",
       "skinparam classbackgroundcolor white\r\n",
       "skinparam shadowing false\r\n",
       "skinparam wrapWidth 300\r\n",
       "hide circle\r\n",
       "\r\n",
       "package \"MultiplicityTest\" as E1  [[psysml:e445ccd1-d7b4-46a5-bbe0-1ba908b830dd ]]  {\r\n",
       "rec def \"P\" as E2  <<(T,blue) part  def>> [[psysml:7d5bba99-ceb9-4796-b455-cbfdc331a9aa ]] {\r\n",
       "}\r\n",
       "comp usage \"n: Integer \" as E3  <<(T,blue) attribute>> [[psysml:ec541e3b-6371-48bf-8290-c0b2a0f88f52 ]] {\r\n",
       "}\r\n",
       "rec usage \"a\" as E4  [[psysml:0bccd947-b2f6-485e-9c27-5cc482a56716 ]] {\r\n",
       "}\r\n",
       "rec usage \"b: P\" as E5  [[psysml:3563b5dd-e50a-438e-94ba-a5b38ab6df54 ]] {\r\n",
       "}\r\n",
       "rec usage \"c: P\" as E6  [[psysml:61a7c4a1-1480-402d-a8df-76594b39497b ]] {\r\n",
       "}\r\n",
       "rec usage \"d\" as E7  [[psysml:f3d0dfc0-0dbb-4454-830c-43cee9c0f8af ]] {\r\n",
       "}\r\n",
       "rec usage \"e\" as E8  [[psysml:470ebeae-9c21-45dc-92b7-3ec0bcac92c0 ]] {\r\n",
       "}\r\n",
       "rec usage \"f\" as E9  [[psysml:e3b105f8-a02a-4959-8fa9-8da786795f1e ]] {\r\n",
       "}\r\n",
       "rec usage \"g\" as E10  [[psysml:0b08e64f-1d74-4a65-b189-b5a78b2f5a03 ]] {\r\n",
       "}\r\n",
       "def \"A\" as E11  <<(T,blue) attribute  def>> [[psysml:d2ba3396-0b46-40b3-bbf4-49972d7872ff ]] \r\n",
       "}\r\n",
       "@enduml\r\n",
       "\n",
       "PlantUML version 1.2020.13(Sat Jun 13 12:26:38 UTC 2020)\n",
       "(EPL source distribution)\n",
       "Java Runtime: OpenJDK Runtime Environment\n",
       "JVM: OpenJDK 64-Bit Server VM\n",
       "Default Encoding: UTF-8\n",
       "Language: en\n",
       "Country: null\n",
       "--></g></svg>"
      ]
     },
     "execution_count": 40,
     "metadata": {},
     "output_type": "execute_result"
    }
   ],
   "source": [
    "%viz --style=\"DEFAULT\" --view=\"Interconnection\" \"MultiplicityTest\""
   ]
  },
  {
   "cell_type": "code",
   "execution_count": 41,
   "id": "0a39cbca",
   "metadata": {
    "execution": {
     "iopub.execute_input": "2022-02-05T16:56:11.370054Z",
     "iopub.status.busy": "2022-02-05T16:56:11.369656Z",
     "iopub.status.idle": "2022-02-05T16:56:11.374229Z",
     "shell.execute_reply": "2022-02-05T16:56:11.374540Z"
    }
   },
   "outputs": [
    {
     "data": {
      "image/svg+xml": [
       "<?xml version=\"1.0\" encoding=\"UTF-8\" standalone=\"no\"?><svg xmlns=\"http://www.w3.org/2000/svg\" xmlns:xlink=\"http://www.w3.org/1999/xlink\" contentScriptType=\"application/ecmascript\" contentStyleType=\"text/css\" height=\"12px\" preserveAspectRatio=\"none\" style=\"width:12px;height:12px;\" version=\"1.1\" viewBox=\"0 0 12 12\" width=\"12px\" zoomAndPan=\"magnify\"><defs/><g><!--MD5=[388f21188e31bfdd97050473b19af356]\n",
       "@startuml\r\n",
       "skinparam ranksep 8\r\n",
       "skinparam monochrome true\r\n",
       "skinparam classbackgroundcolor white\r\n",
       "skinparam shadowing false\r\n",
       "skinparam wrapWidth 300\r\n",
       "hide circle\r\n",
       "\r\n",
       "@enduml\r\n",
       "\n",
       "PlantUML version 1.2020.13(Sat Jun 13 12:26:38 UTC 2020)\n",
       "(EPL source distribution)\n",
       "Java Runtime: OpenJDK Runtime Environment\n",
       "JVM: OpenJDK 64-Bit Server VM\n",
       "Default Encoding: UTF-8\n",
       "Language: en\n",
       "Country: null\n",
       "--></g></svg>"
      ]
     },
     "execution_count": 41,
     "metadata": {},
     "output_type": "execute_result"
    }
   ],
   "source": [
    "%viz --style=\"DEFAULT\" --view=\"Action\" \"MultiplicityTest\""
   ]
  },
  {
   "cell_type": "code",
   "execution_count": 42,
   "id": "fa7cc766",
   "metadata": {
    "execution": {
     "iopub.execute_input": "2022-02-05T16:56:11.424638Z",
     "iopub.status.busy": "2022-02-05T16:56:11.424240Z",
     "iopub.status.idle": "2022-02-05T16:56:11.429154Z",
     "shell.execute_reply": "2022-02-05T16:56:11.429465Z"
    }
   },
   "outputs": [
    {
     "data": {
      "image/svg+xml": [
       "<?xml version=\"1.0\" encoding=\"UTF-8\" standalone=\"no\"?><svg xmlns=\"http://www.w3.org/2000/svg\" xmlns:xlink=\"http://www.w3.org/1999/xlink\" contentScriptType=\"application/ecmascript\" contentStyleType=\"text/css\" height=\"12px\" preserveAspectRatio=\"none\" style=\"width:12px;height:12px;\" version=\"1.1\" viewBox=\"0 0 12 12\" width=\"12px\" zoomAndPan=\"magnify\"><defs/><g><!--MD5=[0b72472770326784bf6c2b53246e1e64]\n",
       "@startuml\r\n",
       "skinparam roundcorner 20\r\n",
       "skinparam BoxPadding 20\r\n",
       "skinparam SequenceBoxBackgroundColor #white\r\n",
       "skinparam style strictuml\r\n",
       "skinparam maxMessageSize 100\r\n",
       "skinparam monochrome true\r\n",
       "skinparam classbackgroundcolor white\r\n",
       "skinparam shadowing false\r\n",
       "skinparam wrapWidth 300\r\n",
       "hide circle\r\n",
       "\r\n",
       "@enduml\r\n",
       "\n",
       "PlantUML version 1.2020.13(Sat Jun 13 12:26:38 UTC 2020)\n",
       "(EPL source distribution)\n",
       "Java Runtime: OpenJDK Runtime Environment\n",
       "JVM: OpenJDK 64-Bit Server VM\n",
       "Default Encoding: UTF-8\n",
       "Language: en\n",
       "Country: null\n",
       "--></g></svg>"
      ]
     },
     "execution_count": 42,
     "metadata": {},
     "output_type": "execute_result"
    }
   ],
   "source": [
    "%viz --style=\"DEFAULT\" --view=\"Sequence\" \"MultiplicityTest\""
   ]
  },
  {
   "cell_type": "code",
   "execution_count": 43,
   "id": "446f131a",
   "metadata": {
    "execution": {
     "iopub.execute_input": "2022-02-05T16:56:11.479624Z",
     "iopub.status.busy": "2022-02-05T16:56:11.479210Z",
     "iopub.status.idle": "2022-02-05T16:56:11.532759Z",
     "shell.execute_reply": "2022-02-05T16:56:11.532396Z"
    }
   },
   "outputs": [
    {
     "data": {
      "image/svg+xml": [
       "<?xml version=\"1.0\" encoding=\"UTF-8\" standalone=\"no\"?><svg xmlns=\"http://www.w3.org/2000/svg\" xmlns:xlink=\"http://www.w3.org/1999/xlink\" contentScriptType=\"application/ecmascript\" contentStyleType=\"text/css\" height=\"263px\" preserveAspectRatio=\"none\" style=\"width:816px;height:263px;\" version=\"1.1\" viewBox=\"0 0 816 263\" width=\"816px\" zoomAndPan=\"magnify\"><defs/><g><!--MD5=[fbc87193dbaf4d95561dea2c320d4a47]\n",
       "cluster E1--><a href=\"psysml:e445ccd1-d7b4-46a5-bbe0-1ba908b830dd\" target=\"_top\" title=\"psysml:e445ccd1-d7b4-46a5-bbe0-1ba908b830dd\" xlink:actuate=\"onRequest\" xlink:href=\"psysml:e445ccd1-d7b4-46a5-bbe0-1ba908b830dd\" xlink:show=\"new\" xlink:title=\"psysml:e445ccd1-d7b4-46a5-bbe0-1ba908b830dd\" xlink:type=\"simple\"><polygon fill=\"#FFFFFF\" points=\"16,6,123,6,130,28.2969,794,28.2969,794,251,16,251,16,6\" style=\"stroke: #000000; stroke-width: 1.5;\"/><line style=\"stroke: #000000; stroke-width: 1.5;\" x1=\"16\" x2=\"130\" y1=\"28.2969\" y2=\"28.2969\"/><text fill=\"#000000\" font-family=\"sans-serif\" font-size=\"14\" font-weight=\"bold\" lengthAdjust=\"spacingAndGlyphs\" textLength=\"101\" x=\"20\" y=\"20.9951\">MultiplicityTest</text></a><!--MD5=[b4997ac47864f28c2f74865a473b2911]\n",
       "class E2--><a href=\"psysml:7d5bba99-ceb9-4796-b455-cbfdc331a9aa\" target=\"_top\" title=\"psysml:7d5bba99-ceb9-4796-b455-cbfdc331a9aa\" xlink:actuate=\"onRequest\" xlink:href=\"psysml:7d5bba99-ceb9-4796-b455-cbfdc331a9aa\" xlink:show=\"new\" xlink:title=\"psysml:7d5bba99-ceb9-4796-b455-cbfdc331a9aa\" xlink:type=\"simple\"><rect fill=\"#FFFFFF\" height=\"45.9375\" id=\"E2\" style=\"stroke: #383838; stroke-width: 1.5;\" width=\"70\" x=\"499\" y=\"189\"/><text fill=\"#000000\" font-family=\"sans-serif\" font-size=\"12\" font-style=\"italic\" lengthAdjust=\"spacingAndGlyphs\" textLength=\"68\" x=\"500\" y=\"205.1387\">«part  def»</text><text fill=\"#000000\" font-family=\"sans-serif\" font-size=\"12\" lengthAdjust=\"spacingAndGlyphs\" textLength=\"8\" x=\"530\" y=\"219.1074\">P</text><line style=\"stroke: #383838; stroke-width: 1.5;\" x1=\"500\" x2=\"568\" y1=\"226.9375\" y2=\"226.9375\"/></a><!--MD5=[09b614a08d8cba4a07c9adeb5e0fee81]\n",
       "class E3--><a href=\"psysml:ec541e3b-6371-48bf-8290-c0b2a0f88f52\" target=\"_top\" title=\"psysml:ec541e3b-6371-48bf-8290-c0b2a0f88f52\" xlink:actuate=\"onRequest\" xlink:href=\"psysml:ec541e3b-6371-48bf-8290-c0b2a0f88f52\" xlink:show=\"new\" xlink:title=\"psysml:ec541e3b-6371-48bf-8290-c0b2a0f88f52\" xlink:type=\"simple\"><rect fill=\"#FFFFFF\" height=\"45.9375\" id=\"E3\" rx=\"10\" ry=\"10\" style=\"stroke: #383838; stroke-width: 1.5;\" width=\"71\" x=\"706.5\" y=\"62\"/><text fill=\"#000000\" font-family=\"sans-serif\" font-size=\"12\" font-style=\"italic\" lengthAdjust=\"spacingAndGlyphs\" textLength=\"69\" x=\"707.5\" y=\"78.1387\">«attribute»</text><text fill=\"#000000\" font-family=\"sans-serif\" font-size=\"12\" lengthAdjust=\"spacingAndGlyphs\" textLength=\"61\" x=\"709.5\" y=\"92.1074\">n: Integer</text><line style=\"stroke: #383838; stroke-width: 1.5;\" x1=\"707.5\" x2=\"776.5\" y1=\"99.9375\" y2=\"99.9375\"/></a><!--MD5=[ebbe1d658d1005bcc118a6aa81145e00]\n",
       "class E4--><a href=\"psysml:0bccd947-b2f6-485e-9c27-5cc482a56716\" target=\"_top\" title=\"psysml:0bccd947-b2f6-485e-9c27-5cc482a56716\" xlink:actuate=\"onRequest\" xlink:href=\"psysml:0bccd947-b2f6-485e-9c27-5cc482a56716\" xlink:show=\"new\" xlink:title=\"psysml:0bccd947-b2f6-485e-9c27-5cc482a56716\" xlink:type=\"simple\"><rect fill=\"#FFFFFF\" height=\"45.9375\" id=\"E4\" rx=\"10\" ry=\"10\" style=\"stroke: #383838; stroke-width: 1.5;\" width=\"42\" x=\"629\" y=\"62\"/><text fill=\"#000000\" font-family=\"sans-serif\" font-size=\"12\" font-style=\"italic\" lengthAdjust=\"spacingAndGlyphs\" textLength=\"40\" x=\"630\" y=\"78.1387\">«part»</text><text fill=\"#000000\" font-family=\"sans-serif\" font-size=\"12\" lengthAdjust=\"spacingAndGlyphs\" textLength=\"8\" x=\"644\" y=\"92.1074\">a</text><line style=\"stroke: #383838; stroke-width: 1.5;\" x1=\"630\" x2=\"670\" y1=\"99.9375\" y2=\"99.9375\"/></a><!--MD5=[270fce915f116d4de14055a7c1d9a0f3]\n",
       "class E5--><a href=\"psysml:3563b5dd-e50a-438e-94ba-a5b38ab6df54\" target=\"_top\" title=\"psysml:3563b5dd-e50a-438e-94ba-a5b38ab6df54\" xlink:actuate=\"onRequest\" xlink:href=\"psysml:3563b5dd-e50a-438e-94ba-a5b38ab6df54\" xlink:show=\"new\" xlink:title=\"psysml:3563b5dd-e50a-438e-94ba-a5b38ab6df54\" xlink:type=\"simple\"><rect fill=\"#FFFFFF\" height=\"45.9375\" id=\"E5\" rx=\"10\" ry=\"10\" style=\"stroke: #383838; stroke-width: 1.5;\" width=\"42\" x=\"552\" y=\"62\"/><text fill=\"#000000\" font-family=\"sans-serif\" font-size=\"12\" font-style=\"italic\" lengthAdjust=\"spacingAndGlyphs\" textLength=\"40\" x=\"553\" y=\"78.1387\">«part»</text><text fill=\"#000000\" font-family=\"sans-serif\" font-size=\"12\" lengthAdjust=\"spacingAndGlyphs\" textLength=\"24\" x=\"559\" y=\"92.1074\">b: P</text><line style=\"stroke: #383838; stroke-width: 1.5;\" x1=\"553\" x2=\"593\" y1=\"99.9375\" y2=\"99.9375\"/></a><!--MD5=[60a26617385b1d2d0262a64233df1f8d]\n",
       "class E6--><a href=\"psysml:61a7c4a1-1480-402d-a8df-76594b39497b\" target=\"_top\" title=\"psysml:61a7c4a1-1480-402d-a8df-76594b39497b\" xlink:actuate=\"onRequest\" xlink:href=\"psysml:61a7c4a1-1480-402d-a8df-76594b39497b\" xlink:show=\"new\" xlink:title=\"psysml:61a7c4a1-1480-402d-a8df-76594b39497b\" xlink:type=\"simple\"><rect fill=\"#FFFFFF\" height=\"45.9375\" id=\"E6\" rx=\"10\" ry=\"10\" style=\"stroke: #383838; stroke-width: 1.5;\" width=\"42\" x=\"475\" y=\"62\"/><text fill=\"#000000\" font-family=\"sans-serif\" font-size=\"12\" font-style=\"italic\" lengthAdjust=\"spacingAndGlyphs\" textLength=\"40\" x=\"476\" y=\"78.1387\">«part»</text><text fill=\"#000000\" font-family=\"sans-serif\" font-size=\"12\" lengthAdjust=\"spacingAndGlyphs\" textLength=\"23\" x=\"482.5\" y=\"92.1074\">c: P</text><line style=\"stroke: #383838; stroke-width: 1.5;\" x1=\"476\" x2=\"516\" y1=\"99.9375\" y2=\"99.9375\"/></a><!--MD5=[2156ba9850f5573cc1fc38a6a4b2f02b]\n",
       "class E7--><a href=\"psysml:f3d0dfc0-0dbb-4454-830c-43cee9c0f8af\" target=\"_top\" title=\"psysml:f3d0dfc0-0dbb-4454-830c-43cee9c0f8af\" xlink:actuate=\"onRequest\" xlink:href=\"psysml:f3d0dfc0-0dbb-4454-830c-43cee9c0f8af\" xlink:show=\"new\" xlink:title=\"psysml:f3d0dfc0-0dbb-4454-830c-43cee9c0f8af\" xlink:type=\"simple\"><rect fill=\"#FFFFFF\" height=\"45.9375\" id=\"E7\" rx=\"10\" ry=\"10\" style=\"stroke: #383838; stroke-width: 1.5;\" width=\"42\" x=\"398\" y=\"62\"/><text fill=\"#000000\" font-family=\"sans-serif\" font-size=\"12\" font-style=\"italic\" lengthAdjust=\"spacingAndGlyphs\" textLength=\"40\" x=\"399\" y=\"78.1387\">«part»</text><text fill=\"#000000\" font-family=\"sans-serif\" font-size=\"12\" lengthAdjust=\"spacingAndGlyphs\" textLength=\"8\" x=\"413\" y=\"92.1074\">d</text><line style=\"stroke: #383838; stroke-width: 1.5;\" x1=\"399\" x2=\"439\" y1=\"99.9375\" y2=\"99.9375\"/></a><!--MD5=[b9389687b975829384b498ac4b7476b2]\n",
       "class E8--><a href=\"psysml:470ebeae-9c21-45dc-92b7-3ec0bcac92c0\" target=\"_top\" title=\"psysml:470ebeae-9c21-45dc-92b7-3ec0bcac92c0\" xlink:actuate=\"onRequest\" xlink:href=\"psysml:470ebeae-9c21-45dc-92b7-3ec0bcac92c0\" xlink:show=\"new\" xlink:title=\"psysml:470ebeae-9c21-45dc-92b7-3ec0bcac92c0\" xlink:type=\"simple\"><rect fill=\"#FFFFFF\" height=\"45.9375\" id=\"E8\" rx=\"10\" ry=\"10\" style=\"stroke: #383838; stroke-width: 1.5;\" width=\"42\" x=\"321\" y=\"62\"/><text fill=\"#000000\" font-family=\"sans-serif\" font-size=\"12\" font-style=\"italic\" lengthAdjust=\"spacingAndGlyphs\" textLength=\"40\" x=\"322\" y=\"78.1387\">«part»</text><text fill=\"#000000\" font-family=\"sans-serif\" font-size=\"12\" lengthAdjust=\"spacingAndGlyphs\" textLength=\"8\" x=\"336\" y=\"92.1074\">e</text><line style=\"stroke: #383838; stroke-width: 1.5;\" x1=\"322\" x2=\"362\" y1=\"99.9375\" y2=\"99.9375\"/></a><!--MD5=[fd4143e9d270a159db93a4ea2a975926]\n",
       "class E9--><a href=\"psysml:e3b105f8-a02a-4959-8fa9-8da786795f1e\" target=\"_top\" title=\"psysml:e3b105f8-a02a-4959-8fa9-8da786795f1e\" xlink:actuate=\"onRequest\" xlink:href=\"psysml:e3b105f8-a02a-4959-8fa9-8da786795f1e\" xlink:show=\"new\" xlink:title=\"psysml:e3b105f8-a02a-4959-8fa9-8da786795f1e\" xlink:type=\"simple\"><rect fill=\"#FFFFFF\" height=\"45.9375\" id=\"E9\" rx=\"10\" ry=\"10\" style=\"stroke: #383838; stroke-width: 1.5;\" width=\"42\" x=\"244\" y=\"62\"/><text fill=\"#000000\" font-family=\"sans-serif\" font-size=\"12\" font-style=\"italic\" lengthAdjust=\"spacingAndGlyphs\" textLength=\"40\" x=\"245\" y=\"78.1387\">«part»</text><text fill=\"#000000\" font-family=\"sans-serif\" font-size=\"12\" lengthAdjust=\"spacingAndGlyphs\" textLength=\"4\" x=\"261\" y=\"92.1074\">f</text><line style=\"stroke: #383838; stroke-width: 1.5;\" x1=\"245\" x2=\"285\" y1=\"99.9375\" y2=\"99.9375\"/></a><!--MD5=[96f4274e9e20536e775497830990834d]\n",
       "class E10--><a href=\"psysml:0b08e64f-1d74-4a65-b189-b5a78b2f5a03\" target=\"_top\" title=\"psysml:0b08e64f-1d74-4a65-b189-b5a78b2f5a03\" xlink:actuate=\"onRequest\" xlink:href=\"psysml:0b08e64f-1d74-4a65-b189-b5a78b2f5a03\" xlink:show=\"new\" xlink:title=\"psysml:0b08e64f-1d74-4a65-b189-b5a78b2f5a03\" xlink:type=\"simple\"><rect fill=\"#FFFFFF\" height=\"45.9375\" id=\"E10\" rx=\"10\" ry=\"10\" style=\"stroke: #383838; stroke-width: 1.5;\" width=\"42\" x=\"167\" y=\"62\"/><text fill=\"#000000\" font-family=\"sans-serif\" font-size=\"12\" font-style=\"italic\" lengthAdjust=\"spacingAndGlyphs\" textLength=\"40\" x=\"168\" y=\"78.1387\">«part»</text><text fill=\"#000000\" font-family=\"sans-serif\" font-size=\"12\" lengthAdjust=\"spacingAndGlyphs\" textLength=\"8\" x=\"182\" y=\"92.1074\">g</text><line style=\"stroke: #383838; stroke-width: 1.5;\" x1=\"168\" x2=\"208\" y1=\"99.9375\" y2=\"99.9375\"/></a><!--MD5=[1dd1bfd58a279cf63c5f349dbc8fc6a1]\n",
       "class E11--><a href=\"psysml:d2ba3396-0b46-40b3-bbf4-49972d7872ff\" target=\"_top\" title=\"psysml:d2ba3396-0b46-40b3-bbf4-49972d7872ff\" xlink:actuate=\"onRequest\" xlink:href=\"psysml:d2ba3396-0b46-40b3-bbf4-49972d7872ff\" xlink:show=\"new\" xlink:title=\"psysml:d2ba3396-0b46-40b3-bbf4-49972d7872ff\" xlink:type=\"simple\"><rect fill=\"#FFFFFF\" height=\"88.3516\" id=\"E11\" style=\"stroke: #383838; stroke-width: 1.5;\" width=\"99\" x=\"32.5\" y=\"41\"/><text fill=\"#000000\" font-family=\"sans-serif\" font-size=\"12\" font-style=\"italic\" lengthAdjust=\"spacingAndGlyphs\" textLength=\"97\" x=\"33.5\" y=\"57.1387\">«attribute  def»</text><text fill=\"#000000\" font-family=\"sans-serif\" font-size=\"12\" lengthAdjust=\"spacingAndGlyphs\" textLength=\"8\" x=\"78\" y=\"71.1074\">A</text><line style=\"stroke: #383838; stroke-width: 1.5;\" x1=\"33.5\" x2=\"130.5\" y1=\"78.9375\" y2=\"78.9375\"/><text fill=\"#000000\" font-family=\"sans-serif\" font-size=\"11\" lengthAdjust=\"spacingAndGlyphs\" textLength=\"51\" x=\"38.5\" y=\"109.9526\">i: Integer</text><text fill=\"#000000\" font-family=\"sans-serif\" font-size=\"11\" lengthAdjust=\"spacingAndGlyphs\" textLength=\"21\" x=\"38.5\" y=\"122.7573\">x: A</text><line style=\"stroke: #383838; stroke-width: 1.0;\" x1=\"33.5\" x2=\"54.5\" y1=\"93.3398\" y2=\"93.3398\"/><text fill=\"#000000\" font-family=\"sans-serif\" font-size=\"11\" lengthAdjust=\"spacingAndGlyphs\" textLength=\"55\" x=\"54.5\" y=\"96.6479\">attributes</text><line style=\"stroke: #383838; stroke-width: 1.0;\" x1=\"109.5\" x2=\"130.5\" y1=\"93.3398\" y2=\"93.3398\"/></a><!--MD5=[15ebcb19ae302d9b601edb458606d402]\n",
       "link E5 to E2--><a href=\"psysml:b362769d-1260-4065-9b83-621f0da47e8d\" target=\"_top\" title=\"psysml:b362769d-1260-4065-9b83-621f0da47e8d\" xlink:actuate=\"onRequest\" xlink:href=\"psysml:b362769d-1260-4065-9b83-621f0da47e8d\" xlink:show=\"new\" xlink:title=\"psysml:b362769d-1260-4065-9b83-621f0da47e8d\" xlink:type=\"simple\"><path d=\"M566.12,108.06 C560.83,125 553.38,148.89 546.98,169.39 \" fill=\"none\" id=\"E5-&gt;E2\" style=\"stroke: #383838; stroke-width: 1.0;\"/><polygon fill=\"#FFFFFF\" points=\"540.95,188.74,539.929,168.5173,553.2931,172.6886,540.95,188.74\" style=\"stroke: #383838; stroke-width: 1.0;\"/><ellipse cx=\"543.5364\" cy=\"163.6721\" fill=\"#383838\" rx=\"2\" ry=\"2\" style=\"stroke: #383838; stroke-width: 1.0;\"/><ellipse cx=\"553.0823\" cy=\"166.6516\" fill=\"#383838\" rx=\"2\" ry=\"2\" style=\"stroke: #383838; stroke-width: 1.0;\"/></a><!--MD5=[2351f337d6de0f557b50152ba70847b5]\n",
       "link E6 to E2--><a href=\"psysml:03080077-3284-4bc2-8ec3-31a93274162e\" target=\"_top\" title=\"psysml:03080077-3284-4bc2-8ec3-31a93274162e\" xlink:actuate=\"onRequest\" xlink:href=\"psysml:03080077-3284-4bc2-8ec3-31a93274162e\" xlink:show=\"new\" xlink:title=\"psysml:03080077-3284-4bc2-8ec3-31a93274162e\" xlink:type=\"simple\"><path d=\"M502.71,108.06 C507.86,125 515.12,148.89 521.35,169.39 \" fill=\"none\" id=\"E6-&gt;E2\" style=\"stroke: #383838; stroke-width: 1.0;\"/><polygon fill=\"#FFFFFF\" points=\"527.23,188.74,515.007,172.597,528.4019,168.5255,527.23,188.74\" style=\"stroke: #383838; stroke-width: 1.0;\"/><ellipse cx=\"515.2628\" cy=\"166.5617\" fill=\"#383838\" rx=\"2\" ry=\"2\" style=\"stroke: #383838; stroke-width: 1.0;\"/><ellipse cx=\"524.8306\" cy=\"163.6535\" fill=\"#383838\" rx=\"2\" ry=\"2\" style=\"stroke: #383838; stroke-width: 1.0;\"/></a><!--MD5=[529da68d3360bd5b4974e6d126f9b95d]\n",
       "@startuml\r\n",
       "skinparam monochrome true\r\n",
       "skinparam classbackgroundcolor white\r\n",
       "skinparam shadowing false\r\n",
       "skinparam wrapWidth 300\r\n",
       "hide circle\r\n",
       "\r\n",
       "package \"MultiplicityTest\" as E1  [[psysml:e445ccd1-d7b4-46a5-bbe0-1ba908b830dd ]]  {\r\n",
       "comp def \"P\" as E2  <<(T,blue) part  def>> [[psysml:7d5bba99-ceb9-4796-b455-cbfdc331a9aa ]] {\r\n",
       "}\r\n",
       "comp usage \"n: Integer \" as E3  <<(T,blue) attribute>> [[psysml:ec541e3b-6371-48bf-8290-c0b2a0f88f52 ]] {\r\n",
       "}\r\n",
       "comp usage \"a \" as E4  <<(T,blue) part>> [[psysml:0bccd947-b2f6-485e-9c27-5cc482a56716 ]] {\r\n",
       "}\r\n",
       "comp usage \"b: P \" as E5  <<(T,blue) part>> [[psysml:3563b5dd-e50a-438e-94ba-a5b38ab6df54 ]] {\r\n",
       "}\r\n",
       "comp usage \"c: P \" as E6  <<(T,blue) part>> [[psysml:61a7c4a1-1480-402d-a8df-76594b39497b ]] {\r\n",
       "}\r\n",
       "comp usage \"d \" as E7  <<(T,blue) part>> [[psysml:f3d0dfc0-0dbb-4454-830c-43cee9c0f8af ]] {\r\n",
       "}\r\n",
       "comp usage \"e \" as E8  <<(T,blue) part>> [[psysml:470ebeae-9c21-45dc-92b7-3ec0bcac92c0 ]] {\r\n",
       "}\r\n",
       "comp usage \"f \" as E9  <<(T,blue) part>> [[psysml:e3b105f8-a02a-4959-8fa9-8da786795f1e ]] {\r\n",
       "}\r\n",
       "comp usage \"g \" as E10  <<(T,blue) part>> [[psysml:0b08e64f-1d74-4a65-b189-b5a78b2f5a03 ]] {\r\n",
       "}\r\n",
       "comp def \"A\" as E11  <<(T,blue) attribute  def>> [[psysml:d2ba3396-0b46-40b3-bbf4-49972d7872ff ]] {\r\n",
       "- - attributes - -\r\n",
       "i: Integer\r\n",
       "x: A\r\n",
       "}\r\n",
       "}\r\n",
       "E5 - -:|> E2 [[psysml:b362769d-1260-4065-9b83-621f0da47e8d ]] \r\n",
       "E6 - -:|> E2 [[psysml:03080077-3284-4bc2-8ec3-31a93274162e ]] \r\n",
       "@enduml\r\n",
       "\n",
       "PlantUML version 1.2020.13(Sat Jun 13 12:26:38 UTC 2020)\n",
       "(EPL source distribution)\n",
       "Java Runtime: OpenJDK Runtime Environment\n",
       "JVM: OpenJDK 64-Bit Server VM\n",
       "Default Encoding: UTF-8\n",
       "Language: en\n",
       "Country: null\n",
       "--></g></svg>"
      ]
     },
     "execution_count": 43,
     "metadata": {},
     "output_type": "execute_result"
    }
   ],
   "source": [
    "%viz --style=\"DEFAULT\" --view=\"MIXED\" \"MultiplicityTest\""
   ]
  },
  {
   "cell_type": "code",
   "execution_count": 44,
   "id": "513ef133",
   "metadata": {
    "execution": {
     "iopub.execute_input": "2022-02-05T16:56:11.582094Z",
     "iopub.status.busy": "2022-02-05T16:56:11.581693Z",
     "iopub.status.idle": "2022-02-05T16:56:11.624858Z",
     "shell.execute_reply": "2022-02-05T16:56:11.623504Z"
    }
   },
   "outputs": [
    {
     "data": {
      "image/svg+xml": [
       "<?xml version=\"1.0\" encoding=\"UTF-8\" standalone=\"no\"?><svg xmlns=\"http://www.w3.org/2000/svg\" xmlns:xlink=\"http://www.w3.org/1999/xlink\" contentScriptType=\"application/ecmascript\" contentStyleType=\"text/css\" height=\"263px\" preserveAspectRatio=\"none\" style=\"width:816px;height:263px;\" version=\"1.1\" viewBox=\"0 0 816 263\" width=\"816px\" zoomAndPan=\"magnify\"><defs/><g><!--MD5=[fbc87193dbaf4d95561dea2c320d4a47]\n",
       "cluster E1--><a href=\"psysml:e445ccd1-d7b4-46a5-bbe0-1ba908b830dd\" target=\"_top\" title=\"psysml:e445ccd1-d7b4-46a5-bbe0-1ba908b830dd\" xlink:actuate=\"onRequest\" xlink:href=\"psysml:e445ccd1-d7b4-46a5-bbe0-1ba908b830dd\" xlink:show=\"new\" xlink:title=\"psysml:e445ccd1-d7b4-46a5-bbe0-1ba908b830dd\" xlink:type=\"simple\"><polygon fill=\"#FFFFFF\" points=\"16,6,123,6,130,28.2969,794,28.2969,794,251,16,251,16,6\" style=\"stroke: #000000; stroke-width: 1.5;\"/><line style=\"stroke: #000000; stroke-width: 1.5;\" x1=\"16\" x2=\"130\" y1=\"28.2969\" y2=\"28.2969\"/><text fill=\"#000000\" font-family=\"sans-serif\" font-size=\"14\" font-weight=\"bold\" lengthAdjust=\"spacingAndGlyphs\" textLength=\"101\" x=\"20\" y=\"20.9951\">MultiplicityTest</text></a><!--MD5=[b4997ac47864f28c2f74865a473b2911]\n",
       "class E2--><a href=\"psysml:7d5bba99-ceb9-4796-b455-cbfdc331a9aa\" target=\"_top\" title=\"psysml:7d5bba99-ceb9-4796-b455-cbfdc331a9aa\" xlink:actuate=\"onRequest\" xlink:href=\"psysml:7d5bba99-ceb9-4796-b455-cbfdc331a9aa\" xlink:show=\"new\" xlink:title=\"psysml:7d5bba99-ceb9-4796-b455-cbfdc331a9aa\" xlink:type=\"simple\"><rect fill=\"#FFFFFF\" height=\"45.9375\" id=\"E2\" style=\"stroke: #383838; stroke-width: 1.5;\" width=\"70\" x=\"499\" y=\"189\"/><text fill=\"#000000\" font-family=\"sans-serif\" font-size=\"12\" font-style=\"italic\" lengthAdjust=\"spacingAndGlyphs\" textLength=\"68\" x=\"500\" y=\"205.1387\">«part  def»</text><text fill=\"#000000\" font-family=\"sans-serif\" font-size=\"12\" lengthAdjust=\"spacingAndGlyphs\" textLength=\"8\" x=\"530\" y=\"219.1074\">P</text><line style=\"stroke: #383838; stroke-width: 1.5;\" x1=\"500\" x2=\"568\" y1=\"226.9375\" y2=\"226.9375\"/></a><!--MD5=[09b614a08d8cba4a07c9adeb5e0fee81]\n",
       "class E3--><a href=\"psysml:ec541e3b-6371-48bf-8290-c0b2a0f88f52\" target=\"_top\" title=\"psysml:ec541e3b-6371-48bf-8290-c0b2a0f88f52\" xlink:actuate=\"onRequest\" xlink:href=\"psysml:ec541e3b-6371-48bf-8290-c0b2a0f88f52\" xlink:show=\"new\" xlink:title=\"psysml:ec541e3b-6371-48bf-8290-c0b2a0f88f52\" xlink:type=\"simple\"><rect fill=\"#FFFFFF\" height=\"45.9375\" id=\"E3\" rx=\"10\" ry=\"10\" style=\"stroke: #383838; stroke-width: 1.5;\" width=\"71\" x=\"706.5\" y=\"62\"/><text fill=\"#000000\" font-family=\"sans-serif\" font-size=\"12\" font-style=\"italic\" lengthAdjust=\"spacingAndGlyphs\" textLength=\"69\" x=\"707.5\" y=\"78.1387\">«attribute»</text><text fill=\"#000000\" font-family=\"sans-serif\" font-size=\"12\" lengthAdjust=\"spacingAndGlyphs\" textLength=\"61\" x=\"709.5\" y=\"92.1074\">n: Integer</text><line style=\"stroke: #383838; stroke-width: 1.5;\" x1=\"707.5\" x2=\"776.5\" y1=\"99.9375\" y2=\"99.9375\"/></a><!--MD5=[ebbe1d658d1005bcc118a6aa81145e00]\n",
       "class E4--><a href=\"psysml:0bccd947-b2f6-485e-9c27-5cc482a56716\" target=\"_top\" title=\"psysml:0bccd947-b2f6-485e-9c27-5cc482a56716\" xlink:actuate=\"onRequest\" xlink:href=\"psysml:0bccd947-b2f6-485e-9c27-5cc482a56716\" xlink:show=\"new\" xlink:title=\"psysml:0bccd947-b2f6-485e-9c27-5cc482a56716\" xlink:type=\"simple\"><rect fill=\"#FFFFFF\" height=\"45.9375\" id=\"E4\" rx=\"10\" ry=\"10\" style=\"stroke: #383838; stroke-width: 1.5;\" width=\"42\" x=\"629\" y=\"62\"/><text fill=\"#000000\" font-family=\"sans-serif\" font-size=\"12\" font-style=\"italic\" lengthAdjust=\"spacingAndGlyphs\" textLength=\"40\" x=\"630\" y=\"78.1387\">«part»</text><text fill=\"#000000\" font-family=\"sans-serif\" font-size=\"12\" lengthAdjust=\"spacingAndGlyphs\" textLength=\"8\" x=\"644\" y=\"92.1074\">a</text><line style=\"stroke: #383838; stroke-width: 1.5;\" x1=\"630\" x2=\"670\" y1=\"99.9375\" y2=\"99.9375\"/></a><!--MD5=[270fce915f116d4de14055a7c1d9a0f3]\n",
       "class E5--><a href=\"psysml:3563b5dd-e50a-438e-94ba-a5b38ab6df54\" target=\"_top\" title=\"psysml:3563b5dd-e50a-438e-94ba-a5b38ab6df54\" xlink:actuate=\"onRequest\" xlink:href=\"psysml:3563b5dd-e50a-438e-94ba-a5b38ab6df54\" xlink:show=\"new\" xlink:title=\"psysml:3563b5dd-e50a-438e-94ba-a5b38ab6df54\" xlink:type=\"simple\"><rect fill=\"#FFFFFF\" height=\"45.9375\" id=\"E5\" rx=\"10\" ry=\"10\" style=\"stroke: #383838; stroke-width: 1.5;\" width=\"42\" x=\"552\" y=\"62\"/><text fill=\"#000000\" font-family=\"sans-serif\" font-size=\"12\" font-style=\"italic\" lengthAdjust=\"spacingAndGlyphs\" textLength=\"40\" x=\"553\" y=\"78.1387\">«part»</text><text fill=\"#000000\" font-family=\"sans-serif\" font-size=\"12\" lengthAdjust=\"spacingAndGlyphs\" textLength=\"24\" x=\"559\" y=\"92.1074\">b: P</text><line style=\"stroke: #383838; stroke-width: 1.5;\" x1=\"553\" x2=\"593\" y1=\"99.9375\" y2=\"99.9375\"/></a><!--MD5=[60a26617385b1d2d0262a64233df1f8d]\n",
       "class E6--><a href=\"psysml:61a7c4a1-1480-402d-a8df-76594b39497b\" target=\"_top\" title=\"psysml:61a7c4a1-1480-402d-a8df-76594b39497b\" xlink:actuate=\"onRequest\" xlink:href=\"psysml:61a7c4a1-1480-402d-a8df-76594b39497b\" xlink:show=\"new\" xlink:title=\"psysml:61a7c4a1-1480-402d-a8df-76594b39497b\" xlink:type=\"simple\"><rect fill=\"#FFFFFF\" height=\"45.9375\" id=\"E6\" rx=\"10\" ry=\"10\" style=\"stroke: #383838; stroke-width: 1.5;\" width=\"42\" x=\"475\" y=\"62\"/><text fill=\"#000000\" font-family=\"sans-serif\" font-size=\"12\" font-style=\"italic\" lengthAdjust=\"spacingAndGlyphs\" textLength=\"40\" x=\"476\" y=\"78.1387\">«part»</text><text fill=\"#000000\" font-family=\"sans-serif\" font-size=\"12\" lengthAdjust=\"spacingAndGlyphs\" textLength=\"23\" x=\"482.5\" y=\"92.1074\">c: P</text><line style=\"stroke: #383838; stroke-width: 1.5;\" x1=\"476\" x2=\"516\" y1=\"99.9375\" y2=\"99.9375\"/></a><!--MD5=[2156ba9850f5573cc1fc38a6a4b2f02b]\n",
       "class E7--><a href=\"psysml:f3d0dfc0-0dbb-4454-830c-43cee9c0f8af\" target=\"_top\" title=\"psysml:f3d0dfc0-0dbb-4454-830c-43cee9c0f8af\" xlink:actuate=\"onRequest\" xlink:href=\"psysml:f3d0dfc0-0dbb-4454-830c-43cee9c0f8af\" xlink:show=\"new\" xlink:title=\"psysml:f3d0dfc0-0dbb-4454-830c-43cee9c0f8af\" xlink:type=\"simple\"><rect fill=\"#FFFFFF\" height=\"45.9375\" id=\"E7\" rx=\"10\" ry=\"10\" style=\"stroke: #383838; stroke-width: 1.5;\" width=\"42\" x=\"398\" y=\"62\"/><text fill=\"#000000\" font-family=\"sans-serif\" font-size=\"12\" font-style=\"italic\" lengthAdjust=\"spacingAndGlyphs\" textLength=\"40\" x=\"399\" y=\"78.1387\">«part»</text><text fill=\"#000000\" font-family=\"sans-serif\" font-size=\"12\" lengthAdjust=\"spacingAndGlyphs\" textLength=\"8\" x=\"413\" y=\"92.1074\">d</text><line style=\"stroke: #383838; stroke-width: 1.5;\" x1=\"399\" x2=\"439\" y1=\"99.9375\" y2=\"99.9375\"/></a><!--MD5=[b9389687b975829384b498ac4b7476b2]\n",
       "class E8--><a href=\"psysml:470ebeae-9c21-45dc-92b7-3ec0bcac92c0\" target=\"_top\" title=\"psysml:470ebeae-9c21-45dc-92b7-3ec0bcac92c0\" xlink:actuate=\"onRequest\" xlink:href=\"psysml:470ebeae-9c21-45dc-92b7-3ec0bcac92c0\" xlink:show=\"new\" xlink:title=\"psysml:470ebeae-9c21-45dc-92b7-3ec0bcac92c0\" xlink:type=\"simple\"><rect fill=\"#FFFFFF\" height=\"45.9375\" id=\"E8\" rx=\"10\" ry=\"10\" style=\"stroke: #383838; stroke-width: 1.5;\" width=\"42\" x=\"321\" y=\"62\"/><text fill=\"#000000\" font-family=\"sans-serif\" font-size=\"12\" font-style=\"italic\" lengthAdjust=\"spacingAndGlyphs\" textLength=\"40\" x=\"322\" y=\"78.1387\">«part»</text><text fill=\"#000000\" font-family=\"sans-serif\" font-size=\"12\" lengthAdjust=\"spacingAndGlyphs\" textLength=\"8\" x=\"336\" y=\"92.1074\">e</text><line style=\"stroke: #383838; stroke-width: 1.5;\" x1=\"322\" x2=\"362\" y1=\"99.9375\" y2=\"99.9375\"/></a><!--MD5=[fd4143e9d270a159db93a4ea2a975926]\n",
       "class E9--><a href=\"psysml:e3b105f8-a02a-4959-8fa9-8da786795f1e\" target=\"_top\" title=\"psysml:e3b105f8-a02a-4959-8fa9-8da786795f1e\" xlink:actuate=\"onRequest\" xlink:href=\"psysml:e3b105f8-a02a-4959-8fa9-8da786795f1e\" xlink:show=\"new\" xlink:title=\"psysml:e3b105f8-a02a-4959-8fa9-8da786795f1e\" xlink:type=\"simple\"><rect fill=\"#FFFFFF\" height=\"45.9375\" id=\"E9\" rx=\"10\" ry=\"10\" style=\"stroke: #383838; stroke-width: 1.5;\" width=\"42\" x=\"244\" y=\"62\"/><text fill=\"#000000\" font-family=\"sans-serif\" font-size=\"12\" font-style=\"italic\" lengthAdjust=\"spacingAndGlyphs\" textLength=\"40\" x=\"245\" y=\"78.1387\">«part»</text><text fill=\"#000000\" font-family=\"sans-serif\" font-size=\"12\" lengthAdjust=\"spacingAndGlyphs\" textLength=\"4\" x=\"261\" y=\"92.1074\">f</text><line style=\"stroke: #383838; stroke-width: 1.5;\" x1=\"245\" x2=\"285\" y1=\"99.9375\" y2=\"99.9375\"/></a><!--MD5=[96f4274e9e20536e775497830990834d]\n",
       "class E10--><a href=\"psysml:0b08e64f-1d74-4a65-b189-b5a78b2f5a03\" target=\"_top\" title=\"psysml:0b08e64f-1d74-4a65-b189-b5a78b2f5a03\" xlink:actuate=\"onRequest\" xlink:href=\"psysml:0b08e64f-1d74-4a65-b189-b5a78b2f5a03\" xlink:show=\"new\" xlink:title=\"psysml:0b08e64f-1d74-4a65-b189-b5a78b2f5a03\" xlink:type=\"simple\"><rect fill=\"#FFFFFF\" height=\"45.9375\" id=\"E10\" rx=\"10\" ry=\"10\" style=\"stroke: #383838; stroke-width: 1.5;\" width=\"42\" x=\"167\" y=\"62\"/><text fill=\"#000000\" font-family=\"sans-serif\" font-size=\"12\" font-style=\"italic\" lengthAdjust=\"spacingAndGlyphs\" textLength=\"40\" x=\"168\" y=\"78.1387\">«part»</text><text fill=\"#000000\" font-family=\"sans-serif\" font-size=\"12\" lengthAdjust=\"spacingAndGlyphs\" textLength=\"8\" x=\"182\" y=\"92.1074\">g</text><line style=\"stroke: #383838; stroke-width: 1.5;\" x1=\"168\" x2=\"208\" y1=\"99.9375\" y2=\"99.9375\"/></a><!--MD5=[1dd1bfd58a279cf63c5f349dbc8fc6a1]\n",
       "class E11--><a href=\"psysml:d2ba3396-0b46-40b3-bbf4-49972d7872ff\" target=\"_top\" title=\"psysml:d2ba3396-0b46-40b3-bbf4-49972d7872ff\" xlink:actuate=\"onRequest\" xlink:href=\"psysml:d2ba3396-0b46-40b3-bbf4-49972d7872ff\" xlink:show=\"new\" xlink:title=\"psysml:d2ba3396-0b46-40b3-bbf4-49972d7872ff\" xlink:type=\"simple\"><rect fill=\"#FFFFFF\" height=\"88.3516\" id=\"E11\" style=\"stroke: #383838; stroke-width: 1.5;\" width=\"99\" x=\"32.5\" y=\"41\"/><text fill=\"#000000\" font-family=\"sans-serif\" font-size=\"12\" font-style=\"italic\" lengthAdjust=\"spacingAndGlyphs\" textLength=\"97\" x=\"33.5\" y=\"57.1387\">«attribute  def»</text><text fill=\"#000000\" font-family=\"sans-serif\" font-size=\"12\" lengthAdjust=\"spacingAndGlyphs\" textLength=\"8\" x=\"78\" y=\"71.1074\">A</text><line style=\"stroke: #383838; stroke-width: 1.5;\" x1=\"33.5\" x2=\"130.5\" y1=\"78.9375\" y2=\"78.9375\"/><text fill=\"#000000\" font-family=\"sans-serif\" font-size=\"11\" lengthAdjust=\"spacingAndGlyphs\" textLength=\"51\" x=\"38.5\" y=\"109.9526\">i: Integer</text><text fill=\"#000000\" font-family=\"sans-serif\" font-size=\"11\" lengthAdjust=\"spacingAndGlyphs\" textLength=\"21\" x=\"38.5\" y=\"122.7573\">x: A</text><line style=\"stroke: #383838; stroke-width: 1.0;\" x1=\"33.5\" x2=\"54.5\" y1=\"93.3398\" y2=\"93.3398\"/><text fill=\"#000000\" font-family=\"sans-serif\" font-size=\"11\" lengthAdjust=\"spacingAndGlyphs\" textLength=\"55\" x=\"54.5\" y=\"96.6479\">attributes</text><line style=\"stroke: #383838; stroke-width: 1.0;\" x1=\"109.5\" x2=\"130.5\" y1=\"93.3398\" y2=\"93.3398\"/></a><!--MD5=[15ebcb19ae302d9b601edb458606d402]\n",
       "link E5 to E2--><a href=\"psysml:b362769d-1260-4065-9b83-621f0da47e8d\" target=\"_top\" title=\"psysml:b362769d-1260-4065-9b83-621f0da47e8d\" xlink:actuate=\"onRequest\" xlink:href=\"psysml:b362769d-1260-4065-9b83-621f0da47e8d\" xlink:show=\"new\" xlink:title=\"psysml:b362769d-1260-4065-9b83-621f0da47e8d\" xlink:type=\"simple\"><path d=\"M566.12,108.06 C560.83,125 553.38,148.89 546.98,169.39 \" fill=\"none\" id=\"E5-&gt;E2\" style=\"stroke: #383838; stroke-width: 1.0;\"/><polygon fill=\"#FFFFFF\" points=\"540.95,188.74,539.929,168.5173,553.2931,172.6886,540.95,188.74\" style=\"stroke: #383838; stroke-width: 1.0;\"/><ellipse cx=\"543.5364\" cy=\"163.6721\" fill=\"#383838\" rx=\"2\" ry=\"2\" style=\"stroke: #383838; stroke-width: 1.0;\"/><ellipse cx=\"553.0823\" cy=\"166.6516\" fill=\"#383838\" rx=\"2\" ry=\"2\" style=\"stroke: #383838; stroke-width: 1.0;\"/></a><!--MD5=[2351f337d6de0f557b50152ba70847b5]\n",
       "link E6 to E2--><a href=\"psysml:03080077-3284-4bc2-8ec3-31a93274162e\" target=\"_top\" title=\"psysml:03080077-3284-4bc2-8ec3-31a93274162e\" xlink:actuate=\"onRequest\" xlink:href=\"psysml:03080077-3284-4bc2-8ec3-31a93274162e\" xlink:show=\"new\" xlink:title=\"psysml:03080077-3284-4bc2-8ec3-31a93274162e\" xlink:type=\"simple\"><path d=\"M502.71,108.06 C507.86,125 515.12,148.89 521.35,169.39 \" fill=\"none\" id=\"E6-&gt;E2\" style=\"stroke: #383838; stroke-width: 1.0;\"/><polygon fill=\"#FFFFFF\" points=\"527.23,188.74,515.007,172.597,528.4019,168.5255,527.23,188.74\" style=\"stroke: #383838; stroke-width: 1.0;\"/><ellipse cx=\"515.2628\" cy=\"166.5617\" fill=\"#383838\" rx=\"2\" ry=\"2\" style=\"stroke: #383838; stroke-width: 1.0;\"/><ellipse cx=\"524.8306\" cy=\"163.6535\" fill=\"#383838\" rx=\"2\" ry=\"2\" style=\"stroke: #383838; stroke-width: 1.0;\"/></a><!--MD5=[8559e8f34d044d32ecb1971c90183f48]\n",
       "@startuml\r\n",
       "top to bottom direction\r\n",
       "skinparam monochrome true\r\n",
       "skinparam classbackgroundcolor white\r\n",
       "skinparam shadowing false\r\n",
       "skinparam wrapWidth 300\r\n",
       "hide circle\r\n",
       "\r\n",
       "package \"MultiplicityTest\" as E1  [[psysml:e445ccd1-d7b4-46a5-bbe0-1ba908b830dd ]]  {\r\n",
       "comp def \"P\" as E2  <<(T,blue) part  def>> [[psysml:7d5bba99-ceb9-4796-b455-cbfdc331a9aa ]] {\r\n",
       "}\r\n",
       "comp usage \"n: Integer \" as E3  <<(T,blue) attribute>> [[psysml:ec541e3b-6371-48bf-8290-c0b2a0f88f52 ]] {\r\n",
       "}\r\n",
       "comp usage \"a \" as E4  <<(T,blue) part>> [[psysml:0bccd947-b2f6-485e-9c27-5cc482a56716 ]] {\r\n",
       "}\r\n",
       "comp usage \"b: P \" as E5  <<(T,blue) part>> [[psysml:3563b5dd-e50a-438e-94ba-a5b38ab6df54 ]] {\r\n",
       "}\r\n",
       "comp usage \"c: P \" as E6  <<(T,blue) part>> [[psysml:61a7c4a1-1480-402d-a8df-76594b39497b ]] {\r\n",
       "}\r\n",
       "comp usage \"d \" as E7  <<(T,blue) part>> [[psysml:f3d0dfc0-0dbb-4454-830c-43cee9c0f8af ]] {\r\n",
       "}\r\n",
       "comp usage \"e \" as E8  <<(T,blue) part>> [[psysml:470ebeae-9c21-45dc-92b7-3ec0bcac92c0 ]] {\r\n",
       "}\r\n",
       "comp usage \"f \" as E9  <<(T,blue) part>> [[psysml:e3b105f8-a02a-4959-8fa9-8da786795f1e ]] {\r\n",
       "}\r\n",
       "comp usage \"g \" as E10  <<(T,blue) part>> [[psysml:0b08e64f-1d74-4a65-b189-b5a78b2f5a03 ]] {\r\n",
       "}\r\n",
       "comp def \"A\" as E11  <<(T,blue) attribute  def>> [[psysml:d2ba3396-0b46-40b3-bbf4-49972d7872ff ]] {\r\n",
       "- - attributes - -\r\n",
       "i: Integer\r\n",
       "x: A\r\n",
       "}\r\n",
       "}\r\n",
       "E5 - -:|> E2 [[psysml:b362769d-1260-4065-9b83-621f0da47e8d ]] \r\n",
       "E6 - -:|> E2 [[psysml:03080077-3284-4bc2-8ec3-31a93274162e ]] \r\n",
       "@enduml\r\n",
       "\n",
       "PlantUML version 1.2020.13(Sat Jun 13 12:26:38 UTC 2020)\n",
       "(EPL source distribution)\n",
       "Java Runtime: OpenJDK Runtime Environment\n",
       "JVM: OpenJDK 64-Bit Server VM\n",
       "Default Encoding: UTF-8\n",
       "Language: en\n",
       "Country: null\n",
       "--></g></svg>"
      ]
     },
     "execution_count": 44,
     "metadata": {},
     "output_type": "execute_result"
    }
   ],
   "source": [
    "%viz --style=\"TB\" --view=\"Default\" \"MultiplicityTest\""
   ]
  },
  {
   "cell_type": "code",
   "execution_count": 45,
   "id": "be987637",
   "metadata": {
    "execution": {
     "iopub.execute_input": "2022-02-05T16:56:11.674285Z",
     "iopub.status.busy": "2022-02-05T16:56:11.673851Z",
     "iopub.status.idle": "2022-02-05T16:56:11.716164Z",
     "shell.execute_reply": "2022-02-05T16:56:11.714783Z"
    }
   },
   "outputs": [
    {
     "data": {
      "image/svg+xml": [
       "<?xml version=\"1.0\" encoding=\"UTF-8\" standalone=\"no\"?><svg xmlns=\"http://www.w3.org/2000/svg\" xmlns:xlink=\"http://www.w3.org/1999/xlink\" contentScriptType=\"application/ecmascript\" contentStyleType=\"text/css\" height=\"263px\" preserveAspectRatio=\"none\" style=\"width:816px;height:263px;\" version=\"1.1\" viewBox=\"0 0 816 263\" width=\"816px\" zoomAndPan=\"magnify\"><defs/><g><!--MD5=[fbc87193dbaf4d95561dea2c320d4a47]\n",
       "cluster E1--><a href=\"psysml:e445ccd1-d7b4-46a5-bbe0-1ba908b830dd\" target=\"_top\" title=\"psysml:e445ccd1-d7b4-46a5-bbe0-1ba908b830dd\" xlink:actuate=\"onRequest\" xlink:href=\"psysml:e445ccd1-d7b4-46a5-bbe0-1ba908b830dd\" xlink:show=\"new\" xlink:title=\"psysml:e445ccd1-d7b4-46a5-bbe0-1ba908b830dd\" xlink:type=\"simple\"><polygon fill=\"#FFFFFF\" points=\"16,6,123,6,130,28.2969,794,28.2969,794,251,16,251,16,6\" style=\"stroke: #000000; stroke-width: 1.5;\"/><line style=\"stroke: #000000; stroke-width: 1.5;\" x1=\"16\" x2=\"130\" y1=\"28.2969\" y2=\"28.2969\"/><text fill=\"#000000\" font-family=\"sans-serif\" font-size=\"14\" font-weight=\"bold\" lengthAdjust=\"spacingAndGlyphs\" textLength=\"101\" x=\"20\" y=\"20.9951\">MultiplicityTest</text></a><!--MD5=[b4997ac47864f28c2f74865a473b2911]\n",
       "class E2--><a href=\"psysml:7d5bba99-ceb9-4796-b455-cbfdc331a9aa\" target=\"_top\" title=\"psysml:7d5bba99-ceb9-4796-b455-cbfdc331a9aa\" xlink:actuate=\"onRequest\" xlink:href=\"psysml:7d5bba99-ceb9-4796-b455-cbfdc331a9aa\" xlink:show=\"new\" xlink:title=\"psysml:7d5bba99-ceb9-4796-b455-cbfdc331a9aa\" xlink:type=\"simple\"><rect fill=\"#FFFFFF\" height=\"45.9375\" id=\"E2\" style=\"stroke: #383838; stroke-width: 1.5;\" width=\"70\" x=\"499\" y=\"189\"/><text fill=\"#000000\" font-family=\"sans-serif\" font-size=\"12\" font-style=\"italic\" lengthAdjust=\"spacingAndGlyphs\" textLength=\"68\" x=\"500\" y=\"205.1387\">«part  def»</text><text fill=\"#000000\" font-family=\"sans-serif\" font-size=\"12\" lengthAdjust=\"spacingAndGlyphs\" textLength=\"8\" x=\"530\" y=\"219.1074\">P</text><line style=\"stroke: #383838; stroke-width: 1.5;\" x1=\"500\" x2=\"568\" y1=\"226.9375\" y2=\"226.9375\"/></a><!--MD5=[09b614a08d8cba4a07c9adeb5e0fee81]\n",
       "class E3--><a href=\"psysml:ec541e3b-6371-48bf-8290-c0b2a0f88f52\" target=\"_top\" title=\"psysml:ec541e3b-6371-48bf-8290-c0b2a0f88f52\" xlink:actuate=\"onRequest\" xlink:href=\"psysml:ec541e3b-6371-48bf-8290-c0b2a0f88f52\" xlink:show=\"new\" xlink:title=\"psysml:ec541e3b-6371-48bf-8290-c0b2a0f88f52\" xlink:type=\"simple\"><rect fill=\"#FFFFFF\" height=\"45.9375\" id=\"E3\" rx=\"10\" ry=\"10\" style=\"stroke: #383838; stroke-width: 1.5;\" width=\"71\" x=\"706.5\" y=\"62\"/><text fill=\"#000000\" font-family=\"sans-serif\" font-size=\"12\" font-style=\"italic\" lengthAdjust=\"spacingAndGlyphs\" textLength=\"69\" x=\"707.5\" y=\"78.1387\">«attribute»</text><text fill=\"#000000\" font-family=\"sans-serif\" font-size=\"12\" lengthAdjust=\"spacingAndGlyphs\" textLength=\"61\" x=\"709.5\" y=\"92.1074\">n: Integer</text><line style=\"stroke: #383838; stroke-width: 1.5;\" x1=\"707.5\" x2=\"776.5\" y1=\"99.9375\" y2=\"99.9375\"/></a><!--MD5=[ebbe1d658d1005bcc118a6aa81145e00]\n",
       "class E4--><a href=\"psysml:0bccd947-b2f6-485e-9c27-5cc482a56716\" target=\"_top\" title=\"psysml:0bccd947-b2f6-485e-9c27-5cc482a56716\" xlink:actuate=\"onRequest\" xlink:href=\"psysml:0bccd947-b2f6-485e-9c27-5cc482a56716\" xlink:show=\"new\" xlink:title=\"psysml:0bccd947-b2f6-485e-9c27-5cc482a56716\" xlink:type=\"simple\"><rect fill=\"#FFFFFF\" height=\"45.9375\" id=\"E4\" rx=\"10\" ry=\"10\" style=\"stroke: #383838; stroke-width: 1.5;\" width=\"42\" x=\"629\" y=\"62\"/><text fill=\"#000000\" font-family=\"sans-serif\" font-size=\"12\" font-style=\"italic\" lengthAdjust=\"spacingAndGlyphs\" textLength=\"40\" x=\"630\" y=\"78.1387\">«part»</text><text fill=\"#000000\" font-family=\"sans-serif\" font-size=\"12\" lengthAdjust=\"spacingAndGlyphs\" textLength=\"8\" x=\"644\" y=\"92.1074\">a</text><line style=\"stroke: #383838; stroke-width: 1.5;\" x1=\"630\" x2=\"670\" y1=\"99.9375\" y2=\"99.9375\"/></a><!--MD5=[270fce915f116d4de14055a7c1d9a0f3]\n",
       "class E5--><a href=\"psysml:3563b5dd-e50a-438e-94ba-a5b38ab6df54\" target=\"_top\" title=\"psysml:3563b5dd-e50a-438e-94ba-a5b38ab6df54\" xlink:actuate=\"onRequest\" xlink:href=\"psysml:3563b5dd-e50a-438e-94ba-a5b38ab6df54\" xlink:show=\"new\" xlink:title=\"psysml:3563b5dd-e50a-438e-94ba-a5b38ab6df54\" xlink:type=\"simple\"><rect fill=\"#FFFFFF\" height=\"45.9375\" id=\"E5\" rx=\"10\" ry=\"10\" style=\"stroke: #383838; stroke-width: 1.5;\" width=\"42\" x=\"552\" y=\"62\"/><text fill=\"#000000\" font-family=\"sans-serif\" font-size=\"12\" font-style=\"italic\" lengthAdjust=\"spacingAndGlyphs\" textLength=\"40\" x=\"553\" y=\"78.1387\">«part»</text><text fill=\"#000000\" font-family=\"sans-serif\" font-size=\"12\" lengthAdjust=\"spacingAndGlyphs\" textLength=\"24\" x=\"559\" y=\"92.1074\">b: P</text><line style=\"stroke: #383838; stroke-width: 1.5;\" x1=\"553\" x2=\"593\" y1=\"99.9375\" y2=\"99.9375\"/></a><!--MD5=[60a26617385b1d2d0262a64233df1f8d]\n",
       "class E6--><a href=\"psysml:61a7c4a1-1480-402d-a8df-76594b39497b\" target=\"_top\" title=\"psysml:61a7c4a1-1480-402d-a8df-76594b39497b\" xlink:actuate=\"onRequest\" xlink:href=\"psysml:61a7c4a1-1480-402d-a8df-76594b39497b\" xlink:show=\"new\" xlink:title=\"psysml:61a7c4a1-1480-402d-a8df-76594b39497b\" xlink:type=\"simple\"><rect fill=\"#FFFFFF\" height=\"45.9375\" id=\"E6\" rx=\"10\" ry=\"10\" style=\"stroke: #383838; stroke-width: 1.5;\" width=\"42\" x=\"475\" y=\"62\"/><text fill=\"#000000\" font-family=\"sans-serif\" font-size=\"12\" font-style=\"italic\" lengthAdjust=\"spacingAndGlyphs\" textLength=\"40\" x=\"476\" y=\"78.1387\">«part»</text><text fill=\"#000000\" font-family=\"sans-serif\" font-size=\"12\" lengthAdjust=\"spacingAndGlyphs\" textLength=\"23\" x=\"482.5\" y=\"92.1074\">c: P</text><line style=\"stroke: #383838; stroke-width: 1.5;\" x1=\"476\" x2=\"516\" y1=\"99.9375\" y2=\"99.9375\"/></a><!--MD5=[2156ba9850f5573cc1fc38a6a4b2f02b]\n",
       "class E7--><a href=\"psysml:f3d0dfc0-0dbb-4454-830c-43cee9c0f8af\" target=\"_top\" title=\"psysml:f3d0dfc0-0dbb-4454-830c-43cee9c0f8af\" xlink:actuate=\"onRequest\" xlink:href=\"psysml:f3d0dfc0-0dbb-4454-830c-43cee9c0f8af\" xlink:show=\"new\" xlink:title=\"psysml:f3d0dfc0-0dbb-4454-830c-43cee9c0f8af\" xlink:type=\"simple\"><rect fill=\"#FFFFFF\" height=\"45.9375\" id=\"E7\" rx=\"10\" ry=\"10\" style=\"stroke: #383838; stroke-width: 1.5;\" width=\"42\" x=\"398\" y=\"62\"/><text fill=\"#000000\" font-family=\"sans-serif\" font-size=\"12\" font-style=\"italic\" lengthAdjust=\"spacingAndGlyphs\" textLength=\"40\" x=\"399\" y=\"78.1387\">«part»</text><text fill=\"#000000\" font-family=\"sans-serif\" font-size=\"12\" lengthAdjust=\"spacingAndGlyphs\" textLength=\"8\" x=\"413\" y=\"92.1074\">d</text><line style=\"stroke: #383838; stroke-width: 1.5;\" x1=\"399\" x2=\"439\" y1=\"99.9375\" y2=\"99.9375\"/></a><!--MD5=[b9389687b975829384b498ac4b7476b2]\n",
       "class E8--><a href=\"psysml:470ebeae-9c21-45dc-92b7-3ec0bcac92c0\" target=\"_top\" title=\"psysml:470ebeae-9c21-45dc-92b7-3ec0bcac92c0\" xlink:actuate=\"onRequest\" xlink:href=\"psysml:470ebeae-9c21-45dc-92b7-3ec0bcac92c0\" xlink:show=\"new\" xlink:title=\"psysml:470ebeae-9c21-45dc-92b7-3ec0bcac92c0\" xlink:type=\"simple\"><rect fill=\"#FFFFFF\" height=\"45.9375\" id=\"E8\" rx=\"10\" ry=\"10\" style=\"stroke: #383838; stroke-width: 1.5;\" width=\"42\" x=\"321\" y=\"62\"/><text fill=\"#000000\" font-family=\"sans-serif\" font-size=\"12\" font-style=\"italic\" lengthAdjust=\"spacingAndGlyphs\" textLength=\"40\" x=\"322\" y=\"78.1387\">«part»</text><text fill=\"#000000\" font-family=\"sans-serif\" font-size=\"12\" lengthAdjust=\"spacingAndGlyphs\" textLength=\"8\" x=\"336\" y=\"92.1074\">e</text><line style=\"stroke: #383838; stroke-width: 1.5;\" x1=\"322\" x2=\"362\" y1=\"99.9375\" y2=\"99.9375\"/></a><!--MD5=[fd4143e9d270a159db93a4ea2a975926]\n",
       "class E9--><a href=\"psysml:e3b105f8-a02a-4959-8fa9-8da786795f1e\" target=\"_top\" title=\"psysml:e3b105f8-a02a-4959-8fa9-8da786795f1e\" xlink:actuate=\"onRequest\" xlink:href=\"psysml:e3b105f8-a02a-4959-8fa9-8da786795f1e\" xlink:show=\"new\" xlink:title=\"psysml:e3b105f8-a02a-4959-8fa9-8da786795f1e\" xlink:type=\"simple\"><rect fill=\"#FFFFFF\" height=\"45.9375\" id=\"E9\" rx=\"10\" ry=\"10\" style=\"stroke: #383838; stroke-width: 1.5;\" width=\"42\" x=\"244\" y=\"62\"/><text fill=\"#000000\" font-family=\"sans-serif\" font-size=\"12\" font-style=\"italic\" lengthAdjust=\"spacingAndGlyphs\" textLength=\"40\" x=\"245\" y=\"78.1387\">«part»</text><text fill=\"#000000\" font-family=\"sans-serif\" font-size=\"12\" lengthAdjust=\"spacingAndGlyphs\" textLength=\"4\" x=\"261\" y=\"92.1074\">f</text><line style=\"stroke: #383838; stroke-width: 1.5;\" x1=\"245\" x2=\"285\" y1=\"99.9375\" y2=\"99.9375\"/></a><!--MD5=[96f4274e9e20536e775497830990834d]\n",
       "class E10--><a href=\"psysml:0b08e64f-1d74-4a65-b189-b5a78b2f5a03\" target=\"_top\" title=\"psysml:0b08e64f-1d74-4a65-b189-b5a78b2f5a03\" xlink:actuate=\"onRequest\" xlink:href=\"psysml:0b08e64f-1d74-4a65-b189-b5a78b2f5a03\" xlink:show=\"new\" xlink:title=\"psysml:0b08e64f-1d74-4a65-b189-b5a78b2f5a03\" xlink:type=\"simple\"><rect fill=\"#FFFFFF\" height=\"45.9375\" id=\"E10\" rx=\"10\" ry=\"10\" style=\"stroke: #383838; stroke-width: 1.5;\" width=\"42\" x=\"167\" y=\"62\"/><text fill=\"#000000\" font-family=\"sans-serif\" font-size=\"12\" font-style=\"italic\" lengthAdjust=\"spacingAndGlyphs\" textLength=\"40\" x=\"168\" y=\"78.1387\">«part»</text><text fill=\"#000000\" font-family=\"sans-serif\" font-size=\"12\" lengthAdjust=\"spacingAndGlyphs\" textLength=\"8\" x=\"182\" y=\"92.1074\">g</text><line style=\"stroke: #383838; stroke-width: 1.5;\" x1=\"168\" x2=\"208\" y1=\"99.9375\" y2=\"99.9375\"/></a><!--MD5=[1dd1bfd58a279cf63c5f349dbc8fc6a1]\n",
       "class E11--><a href=\"psysml:d2ba3396-0b46-40b3-bbf4-49972d7872ff\" target=\"_top\" title=\"psysml:d2ba3396-0b46-40b3-bbf4-49972d7872ff\" xlink:actuate=\"onRequest\" xlink:href=\"psysml:d2ba3396-0b46-40b3-bbf4-49972d7872ff\" xlink:show=\"new\" xlink:title=\"psysml:d2ba3396-0b46-40b3-bbf4-49972d7872ff\" xlink:type=\"simple\"><rect fill=\"#FFFFFF\" height=\"88.3516\" id=\"E11\" style=\"stroke: #383838; stroke-width: 1.5;\" width=\"99\" x=\"32.5\" y=\"41\"/><text fill=\"#000000\" font-family=\"sans-serif\" font-size=\"12\" font-style=\"italic\" lengthAdjust=\"spacingAndGlyphs\" textLength=\"97\" x=\"33.5\" y=\"57.1387\">«attribute  def»</text><text fill=\"#000000\" font-family=\"sans-serif\" font-size=\"12\" lengthAdjust=\"spacingAndGlyphs\" textLength=\"8\" x=\"78\" y=\"71.1074\">A</text><line style=\"stroke: #383838; stroke-width: 1.5;\" x1=\"33.5\" x2=\"130.5\" y1=\"78.9375\" y2=\"78.9375\"/><text fill=\"#000000\" font-family=\"sans-serif\" font-size=\"11\" lengthAdjust=\"spacingAndGlyphs\" textLength=\"51\" x=\"38.5\" y=\"109.9526\">i: Integer</text><text fill=\"#000000\" font-family=\"sans-serif\" font-size=\"11\" lengthAdjust=\"spacingAndGlyphs\" textLength=\"21\" x=\"38.5\" y=\"122.7573\">x: A</text><line style=\"stroke: #383838; stroke-width: 1.0;\" x1=\"33.5\" x2=\"54.5\" y1=\"93.3398\" y2=\"93.3398\"/><text fill=\"#000000\" font-family=\"sans-serif\" font-size=\"11\" lengthAdjust=\"spacingAndGlyphs\" textLength=\"55\" x=\"54.5\" y=\"96.6479\">attributes</text><line style=\"stroke: #383838; stroke-width: 1.0;\" x1=\"109.5\" x2=\"130.5\" y1=\"93.3398\" y2=\"93.3398\"/></a><!--MD5=[15ebcb19ae302d9b601edb458606d402]\n",
       "link E5 to E2--><a href=\"psysml:b362769d-1260-4065-9b83-621f0da47e8d\" target=\"_top\" title=\"psysml:b362769d-1260-4065-9b83-621f0da47e8d\" xlink:actuate=\"onRequest\" xlink:href=\"psysml:b362769d-1260-4065-9b83-621f0da47e8d\" xlink:show=\"new\" xlink:title=\"psysml:b362769d-1260-4065-9b83-621f0da47e8d\" xlink:type=\"simple\"><path d=\"M566.12,108.06 C560.83,125 553.38,148.89 546.98,169.39 \" fill=\"none\" id=\"E5-&gt;E2\" style=\"stroke: #383838; stroke-width: 1.0;\"/><polygon fill=\"#FFFFFF\" points=\"540.95,188.74,539.929,168.5173,553.2931,172.6886,540.95,188.74\" style=\"stroke: #383838; stroke-width: 1.0;\"/><ellipse cx=\"543.5364\" cy=\"163.6721\" fill=\"#383838\" rx=\"2\" ry=\"2\" style=\"stroke: #383838; stroke-width: 1.0;\"/><ellipse cx=\"553.0823\" cy=\"166.6516\" fill=\"#383838\" rx=\"2\" ry=\"2\" style=\"stroke: #383838; stroke-width: 1.0;\"/></a><!--MD5=[2351f337d6de0f557b50152ba70847b5]\n",
       "link E6 to E2--><a href=\"psysml:03080077-3284-4bc2-8ec3-31a93274162e\" target=\"_top\" title=\"psysml:03080077-3284-4bc2-8ec3-31a93274162e\" xlink:actuate=\"onRequest\" xlink:href=\"psysml:03080077-3284-4bc2-8ec3-31a93274162e\" xlink:show=\"new\" xlink:title=\"psysml:03080077-3284-4bc2-8ec3-31a93274162e\" xlink:type=\"simple\"><path d=\"M502.71,108.06 C507.86,125 515.12,148.89 521.35,169.39 \" fill=\"none\" id=\"E6-&gt;E2\" style=\"stroke: #383838; stroke-width: 1.0;\"/><polygon fill=\"#FFFFFF\" points=\"527.23,188.74,515.007,172.597,528.4019,168.5255,527.23,188.74\" style=\"stroke: #383838; stroke-width: 1.0;\"/><ellipse cx=\"515.2628\" cy=\"166.5617\" fill=\"#383838\" rx=\"2\" ry=\"2\" style=\"stroke: #383838; stroke-width: 1.0;\"/><ellipse cx=\"524.8306\" cy=\"163.6535\" fill=\"#383838\" rx=\"2\" ry=\"2\" style=\"stroke: #383838; stroke-width: 1.0;\"/></a><!--MD5=[8559e8f34d044d32ecb1971c90183f48]\n",
       "@startuml\r\n",
       "top to bottom direction\r\n",
       "skinparam monochrome true\r\n",
       "skinparam classbackgroundcolor white\r\n",
       "skinparam shadowing false\r\n",
       "skinparam wrapWidth 300\r\n",
       "hide circle\r\n",
       "\r\n",
       "package \"MultiplicityTest\" as E1  [[psysml:e445ccd1-d7b4-46a5-bbe0-1ba908b830dd ]]  {\r\n",
       "comp def \"P\" as E2  <<(T,blue) part  def>> [[psysml:7d5bba99-ceb9-4796-b455-cbfdc331a9aa ]] {\r\n",
       "}\r\n",
       "comp usage \"n: Integer \" as E3  <<(T,blue) attribute>> [[psysml:ec541e3b-6371-48bf-8290-c0b2a0f88f52 ]] {\r\n",
       "}\r\n",
       "comp usage \"a \" as E4  <<(T,blue) part>> [[psysml:0bccd947-b2f6-485e-9c27-5cc482a56716 ]] {\r\n",
       "}\r\n",
       "comp usage \"b: P \" as E5  <<(T,blue) part>> [[psysml:3563b5dd-e50a-438e-94ba-a5b38ab6df54 ]] {\r\n",
       "}\r\n",
       "comp usage \"c: P \" as E6  <<(T,blue) part>> [[psysml:61a7c4a1-1480-402d-a8df-76594b39497b ]] {\r\n",
       "}\r\n",
       "comp usage \"d \" as E7  <<(T,blue) part>> [[psysml:f3d0dfc0-0dbb-4454-830c-43cee9c0f8af ]] {\r\n",
       "}\r\n",
       "comp usage \"e \" as E8  <<(T,blue) part>> [[psysml:470ebeae-9c21-45dc-92b7-3ec0bcac92c0 ]] {\r\n",
       "}\r\n",
       "comp usage \"f \" as E9  <<(T,blue) part>> [[psysml:e3b105f8-a02a-4959-8fa9-8da786795f1e ]] {\r\n",
       "}\r\n",
       "comp usage \"g \" as E10  <<(T,blue) part>> [[psysml:0b08e64f-1d74-4a65-b189-b5a78b2f5a03 ]] {\r\n",
       "}\r\n",
       "comp def \"A\" as E11  <<(T,blue) attribute  def>> [[psysml:d2ba3396-0b46-40b3-bbf4-49972d7872ff ]] {\r\n",
       "- - attributes - -\r\n",
       "i: Integer\r\n",
       "x: A\r\n",
       "}\r\n",
       "}\r\n",
       "E5 - -:|> E2 [[psysml:b362769d-1260-4065-9b83-621f0da47e8d ]] \r\n",
       "E6 - -:|> E2 [[psysml:03080077-3284-4bc2-8ec3-31a93274162e ]] \r\n",
       "@enduml\r\n",
       "\n",
       "PlantUML version 1.2020.13(Sat Jun 13 12:26:38 UTC 2020)\n",
       "(EPL source distribution)\n",
       "Java Runtime: OpenJDK Runtime Environment\n",
       "JVM: OpenJDK 64-Bit Server VM\n",
       "Default Encoding: UTF-8\n",
       "Language: en\n",
       "Country: null\n",
       "--></g></svg>"
      ]
     },
     "execution_count": 45,
     "metadata": {},
     "output_type": "execute_result"
    }
   ],
   "source": [
    "%viz --style=\"TB\" --view=\"Tree\" \"MultiplicityTest\""
   ]
  },
  {
   "cell_type": "code",
   "execution_count": 46,
   "id": "5f3204b7",
   "metadata": {
    "execution": {
     "iopub.execute_input": "2022-02-05T16:56:11.765385Z",
     "iopub.status.busy": "2022-02-05T16:56:11.764984Z",
     "iopub.status.idle": "2022-02-05T16:56:11.768795Z",
     "shell.execute_reply": "2022-02-05T16:56:11.768448Z"
    }
   },
   "outputs": [
    {
     "data": {
      "image/svg+xml": [
       "<?xml version=\"1.0\" encoding=\"UTF-8\" standalone=\"no\"?><svg xmlns=\"http://www.w3.org/2000/svg\" xmlns:xlink=\"http://www.w3.org/1999/xlink\" contentScriptType=\"application/ecmascript\" contentStyleType=\"text/css\" height=\"12px\" preserveAspectRatio=\"none\" style=\"width:12px;height:12px;\" version=\"1.1\" viewBox=\"0 0 12 12\" width=\"12px\" zoomAndPan=\"magnify\"><defs/><g><!--MD5=[f4ee21bc66e489b5061b7c3e9601fdef]\n",
       "@startuml\r\n",
       "top to bottom direction\r\n",
       "skinparam monochrome true\r\n",
       "skinparam classbackgroundcolor white\r\n",
       "skinparam shadowing false\r\n",
       "skinparam wrapWidth 300\r\n",
       "hide circle\r\n",
       "\r\n",
       "@enduml\r\n",
       "\n",
       "PlantUML version 1.2020.13(Sat Jun 13 12:26:38 UTC 2020)\n",
       "(EPL source distribution)\n",
       "Java Runtime: OpenJDK Runtime Environment\n",
       "JVM: OpenJDK 64-Bit Server VM\n",
       "Default Encoding: UTF-8\n",
       "Language: en\n",
       "Country: null\n",
       "--></g></svg>"
      ]
     },
     "execution_count": 46,
     "metadata": {},
     "output_type": "execute_result"
    }
   ],
   "source": [
    "%viz --style=\"TB\" --view=\"State\" \"MultiplicityTest\""
   ]
  },
  {
   "cell_type": "code",
   "execution_count": 47,
   "id": "bbd2adff",
   "metadata": {
    "execution": {
     "iopub.execute_input": "2022-02-05T16:56:11.818620Z",
     "iopub.status.busy": "2022-02-05T16:56:11.818223Z",
     "iopub.status.idle": "2022-02-05T16:56:11.842664Z",
     "shell.execute_reply": "2022-02-05T16:56:11.841395Z"
    }
   },
   "outputs": [
    {
     "data": {
      "image/svg+xml": [
       "<?xml version=\"1.0\" encoding=\"UTF-8\" standalone=\"no\"?><svg xmlns=\"http://www.w3.org/2000/svg\" xmlns:xlink=\"http://www.w3.org/1999/xlink\" contentScriptType=\"application/ecmascript\" contentStyleType=\"text/css\" height=\"115px\" preserveAspectRatio=\"none\" style=\"width:987px;height:115px;\" version=\"1.1\" viewBox=\"0 0 987 115\" width=\"987px\" zoomAndPan=\"magnify\"><defs/><g><!--MD5=[fbc87193dbaf4d95561dea2c320d4a47]\n",
       "cluster E1--><a href=\"psysml:e445ccd1-d7b4-46a5-bbe0-1ba908b830dd\" target=\"_top\" title=\"psysml:e445ccd1-d7b4-46a5-bbe0-1ba908b830dd\" xlink:actuate=\"onRequest\" xlink:href=\"psysml:e445ccd1-d7b4-46a5-bbe0-1ba908b830dd\" xlink:show=\"new\" xlink:title=\"psysml:e445ccd1-d7b4-46a5-bbe0-1ba908b830dd\" xlink:type=\"simple\"><polygon fill=\"#FFFFFF\" points=\"16,6,123,6,130,28.2969,965,28.2969,965,103,16,103,16,6\" style=\"stroke: #000000; stroke-width: 1.5;\"/><line style=\"stroke: #000000; stroke-width: 1.5;\" x1=\"16\" x2=\"130\" y1=\"28.2969\" y2=\"28.2969\"/><text fill=\"#000000\" font-family=\"sans-serif\" font-size=\"14\" font-weight=\"bold\" lengthAdjust=\"spacingAndGlyphs\" textLength=\"101\" x=\"20\" y=\"20.9951\">MultiplicityTest</text></a><!--MD5=[09b614a08d8cba4a07c9adeb5e0fee81]\n",
       "class E3--><a href=\"psysml:ec541e3b-6371-48bf-8290-c0b2a0f88f52\" target=\"_top\" title=\"psysml:ec541e3b-6371-48bf-8290-c0b2a0f88f52\" xlink:actuate=\"onRequest\" xlink:href=\"psysml:ec541e3b-6371-48bf-8290-c0b2a0f88f52\" xlink:show=\"new\" xlink:title=\"psysml:ec541e3b-6371-48bf-8290-c0b2a0f88f52\" xlink:type=\"simple\"><rect fill=\"#FFFFFF\" height=\"45.9375\" id=\"E3\" rx=\"10\" ry=\"10\" style=\"stroke: #383838; stroke-width: 1.5;\" width=\"71\" x=\"877.5\" y=\"41\"/><text fill=\"#000000\" font-family=\"sans-serif\" font-size=\"12\" font-style=\"italic\" lengthAdjust=\"spacingAndGlyphs\" textLength=\"69\" x=\"878.5\" y=\"57.1387\">«attribute»</text><text fill=\"#000000\" font-family=\"sans-serif\" font-size=\"12\" lengthAdjust=\"spacingAndGlyphs\" textLength=\"61\" x=\"880.5\" y=\"71.1074\">n: Integer</text><line style=\"stroke: #383838; stroke-width: 1.5;\" x1=\"878.5\" x2=\"947.5\" y1=\"78.9375\" y2=\"78.9375\"/></a><g id=\"E1.E11\"><a href=\"psysml:d2ba3396-0b46-40b3-bbf4-49972d7872ff\" target=\"_top\" title=\"psysml:d2ba3396-0b46-40b3-bbf4-49972d7872ff\" xlink:actuate=\"onRequest\" xlink:href=\"psysml:d2ba3396-0b46-40b3-bbf4-49972d7872ff\" xlink:show=\"new\" xlink:title=\"psysml:d2ba3396-0b46-40b3-bbf4-49972d7872ff\" xlink:type=\"simple\"><rect fill=\"#FFFFFF\" height=\"42.9375\" id=\"E11\" style=\"stroke: #383838; stroke-width: 1.5;\" width=\"104\" x=\"738\" y=\"42.5\"/><rect fill=\"#F8F8F8\" height=\"37.9375\" style=\"stroke: #383838; stroke-width: 1.5;\" width=\"104\" x=\"738\" y=\"42.5\"/><text fill=\"#000000\" font-family=\"sans-serif\" font-size=\"12\" font-style=\"italic\" lengthAdjust=\"spacingAndGlyphs\" textLength=\"97\" x=\"741.5\" y=\"58.6387\">«attribute  def»</text><text fill=\"#000000\" font-family=\"sans-serif\" font-size=\"12\" lengthAdjust=\"spacingAndGlyphs\" textLength=\"8\" x=\"786\" y=\"72.6074\">A</text></a></g><g id=\"E1.E2\"><a href=\"psysml:7d5bba99-ceb9-4796-b455-cbfdc331a9aa\" target=\"_top\" title=\"psysml:7d5bba99-ceb9-4796-b455-cbfdc331a9aa\" xlink:actuate=\"onRequest\" xlink:href=\"psysml:7d5bba99-ceb9-4796-b455-cbfdc331a9aa\" xlink:show=\"new\" xlink:title=\"psysml:7d5bba99-ceb9-4796-b455-cbfdc331a9aa\" xlink:type=\"simple\"><rect fill=\"#FFFFFF\" height=\"42.9375\" id=\"E2\" style=\"stroke: #383838; stroke-width: 1.5;\" width=\"75\" x=\"627.5\" y=\"42.5\"/><rect fill=\"#F8F8F8\" height=\"37.9375\" style=\"stroke: #383838; stroke-width: 1.5;\" width=\"75\" x=\"627.5\" y=\"42.5\"/><text fill=\"#000000\" font-family=\"sans-serif\" font-size=\"12\" font-style=\"italic\" lengthAdjust=\"spacingAndGlyphs\" textLength=\"68\" x=\"631\" y=\"58.6387\">«part  def»</text><text fill=\"#000000\" font-family=\"sans-serif\" font-size=\"12\" lengthAdjust=\"spacingAndGlyphs\" textLength=\"8\" x=\"661\" y=\"72.6074\">P</text></a></g><g id=\"E1.E4\"><a href=\"psysml:0bccd947-b2f6-485e-9c27-5cc482a56716\" target=\"_top\" title=\"psysml:0bccd947-b2f6-485e-9c27-5cc482a56716\" xlink:actuate=\"onRequest\" xlink:href=\"psysml:0bccd947-b2f6-485e-9c27-5cc482a56716\" xlink:show=\"new\" xlink:title=\"psysml:0bccd947-b2f6-485e-9c27-5cc482a56716\" xlink:type=\"simple\"><rect fill=\"#FFFFFF\" height=\"40\" id=\"E4\" rx=\"10\" ry=\"10\" style=\"stroke: #383838; stroke-width: 1.5;\" width=\"50\" x=\"542\" y=\"44\"/><rect fill=\"#F8F8F8\" height=\"23.9688\" rx=\"10\" ry=\"10\" style=\"stroke: #F8F8F8; stroke-width: 1.5;\" width=\"50\" x=\"542\" y=\"44\"/><rect fill=\"#F8F8F8\" height=\"10\" style=\"stroke: #F8F8F8; stroke-width: 1.5;\" width=\"50\" x=\"542\" y=\"57.9688\"/><rect fill=\"none\" height=\"40\" id=\"E4\" rx=\"10\" ry=\"10\" style=\"stroke: #383838; stroke-width: 1.5;\" width=\"50\" x=\"542\" y=\"44\"/><text fill=\"#000000\" font-family=\"sans-serif\" font-size=\"12\" lengthAdjust=\"spacingAndGlyphs\" textLength=\"8\" x=\"563\" y=\"60.1387\">a</text></a></g><g id=\"E1.E5\"><a href=\"psysml:3563b5dd-e50a-438e-94ba-a5b38ab6df54\" target=\"_top\" title=\"psysml:3563b5dd-e50a-438e-94ba-a5b38ab6df54\" xlink:actuate=\"onRequest\" xlink:href=\"psysml:3563b5dd-e50a-438e-94ba-a5b38ab6df54\" xlink:show=\"new\" xlink:title=\"psysml:3563b5dd-e50a-438e-94ba-a5b38ab6df54\" xlink:type=\"simple\"><rect fill=\"#FFFFFF\" height=\"40\" id=\"E5\" rx=\"10\" ry=\"10\" style=\"stroke: #383838; stroke-width: 1.5;\" width=\"50\" x=\"457\" y=\"44\"/><rect fill=\"#F8F8F8\" height=\"23.9688\" rx=\"10\" ry=\"10\" style=\"stroke: #F8F8F8; stroke-width: 1.5;\" width=\"50\" x=\"457\" y=\"44\"/><rect fill=\"#F8F8F8\" height=\"10\" style=\"stroke: #F8F8F8; stroke-width: 1.5;\" width=\"50\" x=\"457\" y=\"57.9688\"/><rect fill=\"none\" height=\"40\" id=\"E5\" rx=\"10\" ry=\"10\" style=\"stroke: #383838; stroke-width: 1.5;\" width=\"50\" x=\"457\" y=\"44\"/><text fill=\"#000000\" font-family=\"sans-serif\" font-size=\"12\" lengthAdjust=\"spacingAndGlyphs\" textLength=\"24\" x=\"470\" y=\"60.1387\">b: P</text></a></g><g id=\"E1.E6\"><a href=\"psysml:61a7c4a1-1480-402d-a8df-76594b39497b\" target=\"_top\" title=\"psysml:61a7c4a1-1480-402d-a8df-76594b39497b\" xlink:actuate=\"onRequest\" xlink:href=\"psysml:61a7c4a1-1480-402d-a8df-76594b39497b\" xlink:show=\"new\" xlink:title=\"psysml:61a7c4a1-1480-402d-a8df-76594b39497b\" xlink:type=\"simple\"><rect fill=\"#FFFFFF\" height=\"40\" id=\"E6\" rx=\"10\" ry=\"10\" style=\"stroke: #383838; stroke-width: 1.5;\" width=\"50\" x=\"372\" y=\"44\"/><rect fill=\"#F8F8F8\" height=\"23.9688\" rx=\"10\" ry=\"10\" style=\"stroke: #F8F8F8; stroke-width: 1.5;\" width=\"50\" x=\"372\" y=\"44\"/><rect fill=\"#F8F8F8\" height=\"10\" style=\"stroke: #F8F8F8; stroke-width: 1.5;\" width=\"50\" x=\"372\" y=\"57.9688\"/><rect fill=\"none\" height=\"40\" id=\"E6\" rx=\"10\" ry=\"10\" style=\"stroke: #383838; stroke-width: 1.5;\" width=\"50\" x=\"372\" y=\"44\"/><text fill=\"#000000\" font-family=\"sans-serif\" font-size=\"12\" lengthAdjust=\"spacingAndGlyphs\" textLength=\"23\" x=\"385.5\" y=\"60.1387\">c: P</text></a></g><g id=\"E1.E7\"><a href=\"psysml:f3d0dfc0-0dbb-4454-830c-43cee9c0f8af\" target=\"_top\" title=\"psysml:f3d0dfc0-0dbb-4454-830c-43cee9c0f8af\" xlink:actuate=\"onRequest\" xlink:href=\"psysml:f3d0dfc0-0dbb-4454-830c-43cee9c0f8af\" xlink:show=\"new\" xlink:title=\"psysml:f3d0dfc0-0dbb-4454-830c-43cee9c0f8af\" xlink:type=\"simple\"><rect fill=\"#FFFFFF\" height=\"40\" id=\"E7\" rx=\"10\" ry=\"10\" style=\"stroke: #383838; stroke-width: 1.5;\" width=\"50\" x=\"287\" y=\"44\"/><rect fill=\"#F8F8F8\" height=\"23.9688\" rx=\"10\" ry=\"10\" style=\"stroke: #F8F8F8; stroke-width: 1.5;\" width=\"50\" x=\"287\" y=\"44\"/><rect fill=\"#F8F8F8\" height=\"10\" style=\"stroke: #F8F8F8; stroke-width: 1.5;\" width=\"50\" x=\"287\" y=\"57.9688\"/><rect fill=\"none\" height=\"40\" id=\"E7\" rx=\"10\" ry=\"10\" style=\"stroke: #383838; stroke-width: 1.5;\" width=\"50\" x=\"287\" y=\"44\"/><text fill=\"#000000\" font-family=\"sans-serif\" font-size=\"12\" lengthAdjust=\"spacingAndGlyphs\" textLength=\"8\" x=\"308\" y=\"60.1387\">d</text></a></g><g id=\"E1.E8\"><a href=\"psysml:470ebeae-9c21-45dc-92b7-3ec0bcac92c0\" target=\"_top\" title=\"psysml:470ebeae-9c21-45dc-92b7-3ec0bcac92c0\" xlink:actuate=\"onRequest\" xlink:href=\"psysml:470ebeae-9c21-45dc-92b7-3ec0bcac92c0\" xlink:show=\"new\" xlink:title=\"psysml:470ebeae-9c21-45dc-92b7-3ec0bcac92c0\" xlink:type=\"simple\"><rect fill=\"#FFFFFF\" height=\"40\" id=\"E8\" rx=\"10\" ry=\"10\" style=\"stroke: #383838; stroke-width: 1.5;\" width=\"50\" x=\"202\" y=\"44\"/><rect fill=\"#F8F8F8\" height=\"23.9688\" rx=\"10\" ry=\"10\" style=\"stroke: #F8F8F8; stroke-width: 1.5;\" width=\"50\" x=\"202\" y=\"44\"/><rect fill=\"#F8F8F8\" height=\"10\" style=\"stroke: #F8F8F8; stroke-width: 1.5;\" width=\"50\" x=\"202\" y=\"57.9688\"/><rect fill=\"none\" height=\"40\" id=\"E8\" rx=\"10\" ry=\"10\" style=\"stroke: #383838; stroke-width: 1.5;\" width=\"50\" x=\"202\" y=\"44\"/><text fill=\"#000000\" font-family=\"sans-serif\" font-size=\"12\" lengthAdjust=\"spacingAndGlyphs\" textLength=\"8\" x=\"223\" y=\"60.1387\">e</text></a></g><g id=\"E1.E9\"><a href=\"psysml:e3b105f8-a02a-4959-8fa9-8da786795f1e\" target=\"_top\" title=\"psysml:e3b105f8-a02a-4959-8fa9-8da786795f1e\" xlink:actuate=\"onRequest\" xlink:href=\"psysml:e3b105f8-a02a-4959-8fa9-8da786795f1e\" xlink:show=\"new\" xlink:title=\"psysml:e3b105f8-a02a-4959-8fa9-8da786795f1e\" xlink:type=\"simple\"><rect fill=\"#FFFFFF\" height=\"40\" id=\"E9\" rx=\"10\" ry=\"10\" style=\"stroke: #383838; stroke-width: 1.5;\" width=\"50\" x=\"117\" y=\"44\"/><rect fill=\"#F8F8F8\" height=\"23.9688\" rx=\"10\" ry=\"10\" style=\"stroke: #F8F8F8; stroke-width: 1.5;\" width=\"50\" x=\"117\" y=\"44\"/><rect fill=\"#F8F8F8\" height=\"10\" style=\"stroke: #F8F8F8; stroke-width: 1.5;\" width=\"50\" x=\"117\" y=\"57.9688\"/><rect fill=\"none\" height=\"40\" id=\"E9\" rx=\"10\" ry=\"10\" style=\"stroke: #383838; stroke-width: 1.5;\" width=\"50\" x=\"117\" y=\"44\"/><text fill=\"#000000\" font-family=\"sans-serif\" font-size=\"12\" lengthAdjust=\"spacingAndGlyphs\" textLength=\"4\" x=\"140\" y=\"60.1387\">f</text></a></g><g id=\"E1.E10\"><a href=\"psysml:0b08e64f-1d74-4a65-b189-b5a78b2f5a03\" target=\"_top\" title=\"psysml:0b08e64f-1d74-4a65-b189-b5a78b2f5a03\" xlink:actuate=\"onRequest\" xlink:href=\"psysml:0b08e64f-1d74-4a65-b189-b5a78b2f5a03\" xlink:show=\"new\" xlink:title=\"psysml:0b08e64f-1d74-4a65-b189-b5a78b2f5a03\" xlink:type=\"simple\"><rect fill=\"#FFFFFF\" height=\"40\" id=\"E10\" rx=\"10\" ry=\"10\" style=\"stroke: #383838; stroke-width: 1.5;\" width=\"50\" x=\"32\" y=\"44\"/><rect fill=\"#F8F8F8\" height=\"23.9688\" rx=\"10\" ry=\"10\" style=\"stroke: #F8F8F8; stroke-width: 1.5;\" width=\"50\" x=\"32\" y=\"44\"/><rect fill=\"#F8F8F8\" height=\"10\" style=\"stroke: #F8F8F8; stroke-width: 1.5;\" width=\"50\" x=\"32\" y=\"57.9688\"/><rect fill=\"none\" height=\"40\" id=\"E10\" rx=\"10\" ry=\"10\" style=\"stroke: #383838; stroke-width: 1.5;\" width=\"50\" x=\"32\" y=\"44\"/><text fill=\"#000000\" font-family=\"sans-serif\" font-size=\"12\" lengthAdjust=\"spacingAndGlyphs\" textLength=\"8\" x=\"53\" y=\"60.1387\">g</text></a></g><!--MD5=[ac00abe02df88de8862a307157629a43]\n",
       "@startuml\r\n",
       "skinparam ranksep 10\r\n",
       "skinparam rectangle {\r\n",
       " backgroundColor<<block>> LightGreen\r\n",
       "}\r\n",
       "top to bottom direction\r\n",
       "skinparam monochrome true\r\n",
       "skinparam classbackgroundcolor white\r\n",
       "skinparam shadowing false\r\n",
       "skinparam wrapWidth 300\r\n",
       "hide circle\r\n",
       "\r\n",
       "package \"MultiplicityTest\" as E1  [[psysml:e445ccd1-d7b4-46a5-bbe0-1ba908b830dd ]]  {\r\n",
       "rec def \"P\" as E2  <<(T,blue) part  def>> [[psysml:7d5bba99-ceb9-4796-b455-cbfdc331a9aa ]] {\r\n",
       "}\r\n",
       "comp usage \"n: Integer \" as E3  <<(T,blue) attribute>> [[psysml:ec541e3b-6371-48bf-8290-c0b2a0f88f52 ]] {\r\n",
       "}\r\n",
       "rec usage \"a\" as E4  [[psysml:0bccd947-b2f6-485e-9c27-5cc482a56716 ]] {\r\n",
       "}\r\n",
       "rec usage \"b: P\" as E5  [[psysml:3563b5dd-e50a-438e-94ba-a5b38ab6df54 ]] {\r\n",
       "}\r\n",
       "rec usage \"c: P\" as E6  [[psysml:61a7c4a1-1480-402d-a8df-76594b39497b ]] {\r\n",
       "}\r\n",
       "rec usage \"d\" as E7  [[psysml:f3d0dfc0-0dbb-4454-830c-43cee9c0f8af ]] {\r\n",
       "}\r\n",
       "rec usage \"e\" as E8  [[psysml:470ebeae-9c21-45dc-92b7-3ec0bcac92c0 ]] {\r\n",
       "}\r\n",
       "rec usage \"f\" as E9  [[psysml:e3b105f8-a02a-4959-8fa9-8da786795f1e ]] {\r\n",
       "}\r\n",
       "rec usage \"g\" as E10  [[psysml:0b08e64f-1d74-4a65-b189-b5a78b2f5a03 ]] {\r\n",
       "}\r\n",
       "def \"A\" as E11  <<(T,blue) attribute  def>> [[psysml:d2ba3396-0b46-40b3-bbf4-49972d7872ff ]] \r\n",
       "}\r\n",
       "@enduml\r\n",
       "\n",
       "PlantUML version 1.2020.13(Sat Jun 13 12:26:38 UTC 2020)\n",
       "(EPL source distribution)\n",
       "Java Runtime: OpenJDK Runtime Environment\n",
       "JVM: OpenJDK 64-Bit Server VM\n",
       "Default Encoding: UTF-8\n",
       "Language: en\n",
       "Country: null\n",
       "--></g></svg>"
      ]
     },
     "execution_count": 47,
     "metadata": {},
     "output_type": "execute_result"
    }
   ],
   "source": [
    "%viz --style=\"TB\" --view=\"Interconnection\" \"MultiplicityTest\""
   ]
  },
  {
   "cell_type": "code",
   "execution_count": 48,
   "id": "cedfd599",
   "metadata": {
    "execution": {
     "iopub.execute_input": "2022-02-05T16:56:11.892212Z",
     "iopub.status.busy": "2022-02-05T16:56:11.891813Z",
     "iopub.status.idle": "2022-02-05T16:56:11.895608Z",
     "shell.execute_reply": "2022-02-05T16:56:11.895275Z"
    }
   },
   "outputs": [
    {
     "data": {
      "image/svg+xml": [
       "<?xml version=\"1.0\" encoding=\"UTF-8\" standalone=\"no\"?><svg xmlns=\"http://www.w3.org/2000/svg\" xmlns:xlink=\"http://www.w3.org/1999/xlink\" contentScriptType=\"application/ecmascript\" contentStyleType=\"text/css\" height=\"12px\" preserveAspectRatio=\"none\" style=\"width:12px;height:12px;\" version=\"1.1\" viewBox=\"0 0 12 12\" width=\"12px\" zoomAndPan=\"magnify\"><defs/><g><!--MD5=[06afc254b03ac5e9d9fb7773b07d0800]\n",
       "@startuml\r\n",
       "skinparam ranksep 8\r\n",
       "top to bottom direction\r\n",
       "skinparam monochrome true\r\n",
       "skinparam classbackgroundcolor white\r\n",
       "skinparam shadowing false\r\n",
       "skinparam wrapWidth 300\r\n",
       "hide circle\r\n",
       "\r\n",
       "@enduml\r\n",
       "\n",
       "PlantUML version 1.2020.13(Sat Jun 13 12:26:38 UTC 2020)\n",
       "(EPL source distribution)\n",
       "Java Runtime: OpenJDK Runtime Environment\n",
       "JVM: OpenJDK 64-Bit Server VM\n",
       "Default Encoding: UTF-8\n",
       "Language: en\n",
       "Country: null\n",
       "--></g></svg>"
      ]
     },
     "execution_count": 48,
     "metadata": {},
     "output_type": "execute_result"
    }
   ],
   "source": [
    "%viz --style=\"TB\" --view=\"Action\" \"MultiplicityTest\""
   ]
  },
  {
   "cell_type": "code",
   "execution_count": 49,
   "id": "0cef6317",
   "metadata": {
    "execution": {
     "iopub.execute_input": "2022-02-05T16:56:11.945557Z",
     "iopub.status.busy": "2022-02-05T16:56:11.945156Z",
     "iopub.status.idle": "2022-02-05T16:56:11.949917Z",
     "shell.execute_reply": "2022-02-05T16:56:11.950229Z"
    }
   },
   "outputs": [
    {
     "data": {
      "image/svg+xml": [
       "<?xml version=\"1.0\" encoding=\"UTF-8\" standalone=\"no\"?><svg xmlns=\"http://www.w3.org/2000/svg\" xmlns:xlink=\"http://www.w3.org/1999/xlink\" contentScriptType=\"application/ecmascript\" contentStyleType=\"text/css\" height=\"12px\" preserveAspectRatio=\"none\" style=\"width:12px;height:12px;\" version=\"1.1\" viewBox=\"0 0 12 12\" width=\"12px\" zoomAndPan=\"magnify\"><defs/><g><!--MD5=[e1ab0c84c44d2fef8bf5f140f2689906]\n",
       "@startuml\r\n",
       "skinparam roundcorner 20\r\n",
       "skinparam BoxPadding 20\r\n",
       "skinparam SequenceBoxBackgroundColor #white\r\n",
       "skinparam style strictuml\r\n",
       "skinparam maxMessageSize 100\r\n",
       "top to bottom direction\r\n",
       "skinparam monochrome true\r\n",
       "skinparam classbackgroundcolor white\r\n",
       "skinparam shadowing false\r\n",
       "skinparam wrapWidth 300\r\n",
       "hide circle\r\n",
       "\r\n",
       "@enduml\r\n",
       "\n",
       "PlantUML version 1.2020.13(Sat Jun 13 12:26:38 UTC 2020)\n",
       "(EPL source distribution)\n",
       "Java Runtime: OpenJDK Runtime Environment\n",
       "JVM: OpenJDK 64-Bit Server VM\n",
       "Default Encoding: UTF-8\n",
       "Language: en\n",
       "Country: null\n",
       "--></g></svg>"
      ]
     },
     "execution_count": 49,
     "metadata": {},
     "output_type": "execute_result"
    }
   ],
   "source": [
    "%viz --style=\"TB\" --view=\"Sequence\" \"MultiplicityTest\""
   ]
  },
  {
   "cell_type": "code",
   "execution_count": 50,
   "id": "68afd7f7",
   "metadata": {
    "execution": {
     "iopub.execute_input": "2022-02-05T16:56:12.000517Z",
     "iopub.status.busy": "2022-02-05T16:56:12.000116Z",
     "iopub.status.idle": "2022-02-05T16:56:12.047931Z",
     "shell.execute_reply": "2022-02-05T16:56:12.046548Z"
    }
   },
   "outputs": [
    {
     "data": {
      "image/svg+xml": [
       "<?xml version=\"1.0\" encoding=\"UTF-8\" standalone=\"no\"?><svg xmlns=\"http://www.w3.org/2000/svg\" xmlns:xlink=\"http://www.w3.org/1999/xlink\" contentScriptType=\"application/ecmascript\" contentStyleType=\"text/css\" height=\"263px\" preserveAspectRatio=\"none\" style=\"width:816px;height:263px;\" version=\"1.1\" viewBox=\"0 0 816 263\" width=\"816px\" zoomAndPan=\"magnify\"><defs/><g><!--MD5=[fbc87193dbaf4d95561dea2c320d4a47]\n",
       "cluster E1--><a href=\"psysml:e445ccd1-d7b4-46a5-bbe0-1ba908b830dd\" target=\"_top\" title=\"psysml:e445ccd1-d7b4-46a5-bbe0-1ba908b830dd\" xlink:actuate=\"onRequest\" xlink:href=\"psysml:e445ccd1-d7b4-46a5-bbe0-1ba908b830dd\" xlink:show=\"new\" xlink:title=\"psysml:e445ccd1-d7b4-46a5-bbe0-1ba908b830dd\" xlink:type=\"simple\"><polygon fill=\"#FFFFFF\" points=\"16,6,123,6,130,28.2969,794,28.2969,794,251,16,251,16,6\" style=\"stroke: #000000; stroke-width: 1.5;\"/><line style=\"stroke: #000000; stroke-width: 1.5;\" x1=\"16\" x2=\"130\" y1=\"28.2969\" y2=\"28.2969\"/><text fill=\"#000000\" font-family=\"sans-serif\" font-size=\"14\" font-weight=\"bold\" lengthAdjust=\"spacingAndGlyphs\" textLength=\"101\" x=\"20\" y=\"20.9951\">MultiplicityTest</text></a><!--MD5=[b4997ac47864f28c2f74865a473b2911]\n",
       "class E2--><a href=\"psysml:7d5bba99-ceb9-4796-b455-cbfdc331a9aa\" target=\"_top\" title=\"psysml:7d5bba99-ceb9-4796-b455-cbfdc331a9aa\" xlink:actuate=\"onRequest\" xlink:href=\"psysml:7d5bba99-ceb9-4796-b455-cbfdc331a9aa\" xlink:show=\"new\" xlink:title=\"psysml:7d5bba99-ceb9-4796-b455-cbfdc331a9aa\" xlink:type=\"simple\"><rect fill=\"#FFFFFF\" height=\"45.9375\" id=\"E2\" style=\"stroke: #383838; stroke-width: 1.5;\" width=\"70\" x=\"499\" y=\"189\"/><text fill=\"#000000\" font-family=\"sans-serif\" font-size=\"12\" font-style=\"italic\" lengthAdjust=\"spacingAndGlyphs\" textLength=\"68\" x=\"500\" y=\"205.1387\">«part  def»</text><text fill=\"#000000\" font-family=\"sans-serif\" font-size=\"12\" lengthAdjust=\"spacingAndGlyphs\" textLength=\"8\" x=\"530\" y=\"219.1074\">P</text><line style=\"stroke: #383838; stroke-width: 1.5;\" x1=\"500\" x2=\"568\" y1=\"226.9375\" y2=\"226.9375\"/></a><!--MD5=[09b614a08d8cba4a07c9adeb5e0fee81]\n",
       "class E3--><a href=\"psysml:ec541e3b-6371-48bf-8290-c0b2a0f88f52\" target=\"_top\" title=\"psysml:ec541e3b-6371-48bf-8290-c0b2a0f88f52\" xlink:actuate=\"onRequest\" xlink:href=\"psysml:ec541e3b-6371-48bf-8290-c0b2a0f88f52\" xlink:show=\"new\" xlink:title=\"psysml:ec541e3b-6371-48bf-8290-c0b2a0f88f52\" xlink:type=\"simple\"><rect fill=\"#FFFFFF\" height=\"45.9375\" id=\"E3\" rx=\"10\" ry=\"10\" style=\"stroke: #383838; stroke-width: 1.5;\" width=\"71\" x=\"706.5\" y=\"62\"/><text fill=\"#000000\" font-family=\"sans-serif\" font-size=\"12\" font-style=\"italic\" lengthAdjust=\"spacingAndGlyphs\" textLength=\"69\" x=\"707.5\" y=\"78.1387\">«attribute»</text><text fill=\"#000000\" font-family=\"sans-serif\" font-size=\"12\" lengthAdjust=\"spacingAndGlyphs\" textLength=\"61\" x=\"709.5\" y=\"92.1074\">n: Integer</text><line style=\"stroke: #383838; stroke-width: 1.5;\" x1=\"707.5\" x2=\"776.5\" y1=\"99.9375\" y2=\"99.9375\"/></a><!--MD5=[ebbe1d658d1005bcc118a6aa81145e00]\n",
       "class E4--><a href=\"psysml:0bccd947-b2f6-485e-9c27-5cc482a56716\" target=\"_top\" title=\"psysml:0bccd947-b2f6-485e-9c27-5cc482a56716\" xlink:actuate=\"onRequest\" xlink:href=\"psysml:0bccd947-b2f6-485e-9c27-5cc482a56716\" xlink:show=\"new\" xlink:title=\"psysml:0bccd947-b2f6-485e-9c27-5cc482a56716\" xlink:type=\"simple\"><rect fill=\"#FFFFFF\" height=\"45.9375\" id=\"E4\" rx=\"10\" ry=\"10\" style=\"stroke: #383838; stroke-width: 1.5;\" width=\"42\" x=\"629\" y=\"62\"/><text fill=\"#000000\" font-family=\"sans-serif\" font-size=\"12\" font-style=\"italic\" lengthAdjust=\"spacingAndGlyphs\" textLength=\"40\" x=\"630\" y=\"78.1387\">«part»</text><text fill=\"#000000\" font-family=\"sans-serif\" font-size=\"12\" lengthAdjust=\"spacingAndGlyphs\" textLength=\"8\" x=\"644\" y=\"92.1074\">a</text><line style=\"stroke: #383838; stroke-width: 1.5;\" x1=\"630\" x2=\"670\" y1=\"99.9375\" y2=\"99.9375\"/></a><!--MD5=[270fce915f116d4de14055a7c1d9a0f3]\n",
       "class E5--><a href=\"psysml:3563b5dd-e50a-438e-94ba-a5b38ab6df54\" target=\"_top\" title=\"psysml:3563b5dd-e50a-438e-94ba-a5b38ab6df54\" xlink:actuate=\"onRequest\" xlink:href=\"psysml:3563b5dd-e50a-438e-94ba-a5b38ab6df54\" xlink:show=\"new\" xlink:title=\"psysml:3563b5dd-e50a-438e-94ba-a5b38ab6df54\" xlink:type=\"simple\"><rect fill=\"#FFFFFF\" height=\"45.9375\" id=\"E5\" rx=\"10\" ry=\"10\" style=\"stroke: #383838; stroke-width: 1.5;\" width=\"42\" x=\"552\" y=\"62\"/><text fill=\"#000000\" font-family=\"sans-serif\" font-size=\"12\" font-style=\"italic\" lengthAdjust=\"spacingAndGlyphs\" textLength=\"40\" x=\"553\" y=\"78.1387\">«part»</text><text fill=\"#000000\" font-family=\"sans-serif\" font-size=\"12\" lengthAdjust=\"spacingAndGlyphs\" textLength=\"24\" x=\"559\" y=\"92.1074\">b: P</text><line style=\"stroke: #383838; stroke-width: 1.5;\" x1=\"553\" x2=\"593\" y1=\"99.9375\" y2=\"99.9375\"/></a><!--MD5=[60a26617385b1d2d0262a64233df1f8d]\n",
       "class E6--><a href=\"psysml:61a7c4a1-1480-402d-a8df-76594b39497b\" target=\"_top\" title=\"psysml:61a7c4a1-1480-402d-a8df-76594b39497b\" xlink:actuate=\"onRequest\" xlink:href=\"psysml:61a7c4a1-1480-402d-a8df-76594b39497b\" xlink:show=\"new\" xlink:title=\"psysml:61a7c4a1-1480-402d-a8df-76594b39497b\" xlink:type=\"simple\"><rect fill=\"#FFFFFF\" height=\"45.9375\" id=\"E6\" rx=\"10\" ry=\"10\" style=\"stroke: #383838; stroke-width: 1.5;\" width=\"42\" x=\"475\" y=\"62\"/><text fill=\"#000000\" font-family=\"sans-serif\" font-size=\"12\" font-style=\"italic\" lengthAdjust=\"spacingAndGlyphs\" textLength=\"40\" x=\"476\" y=\"78.1387\">«part»</text><text fill=\"#000000\" font-family=\"sans-serif\" font-size=\"12\" lengthAdjust=\"spacingAndGlyphs\" textLength=\"23\" x=\"482.5\" y=\"92.1074\">c: P</text><line style=\"stroke: #383838; stroke-width: 1.5;\" x1=\"476\" x2=\"516\" y1=\"99.9375\" y2=\"99.9375\"/></a><!--MD5=[2156ba9850f5573cc1fc38a6a4b2f02b]\n",
       "class E7--><a href=\"psysml:f3d0dfc0-0dbb-4454-830c-43cee9c0f8af\" target=\"_top\" title=\"psysml:f3d0dfc0-0dbb-4454-830c-43cee9c0f8af\" xlink:actuate=\"onRequest\" xlink:href=\"psysml:f3d0dfc0-0dbb-4454-830c-43cee9c0f8af\" xlink:show=\"new\" xlink:title=\"psysml:f3d0dfc0-0dbb-4454-830c-43cee9c0f8af\" xlink:type=\"simple\"><rect fill=\"#FFFFFF\" height=\"45.9375\" id=\"E7\" rx=\"10\" ry=\"10\" style=\"stroke: #383838; stroke-width: 1.5;\" width=\"42\" x=\"398\" y=\"62\"/><text fill=\"#000000\" font-family=\"sans-serif\" font-size=\"12\" font-style=\"italic\" lengthAdjust=\"spacingAndGlyphs\" textLength=\"40\" x=\"399\" y=\"78.1387\">«part»</text><text fill=\"#000000\" font-family=\"sans-serif\" font-size=\"12\" lengthAdjust=\"spacingAndGlyphs\" textLength=\"8\" x=\"413\" y=\"92.1074\">d</text><line style=\"stroke: #383838; stroke-width: 1.5;\" x1=\"399\" x2=\"439\" y1=\"99.9375\" y2=\"99.9375\"/></a><!--MD5=[b9389687b975829384b498ac4b7476b2]\n",
       "class E8--><a href=\"psysml:470ebeae-9c21-45dc-92b7-3ec0bcac92c0\" target=\"_top\" title=\"psysml:470ebeae-9c21-45dc-92b7-3ec0bcac92c0\" xlink:actuate=\"onRequest\" xlink:href=\"psysml:470ebeae-9c21-45dc-92b7-3ec0bcac92c0\" xlink:show=\"new\" xlink:title=\"psysml:470ebeae-9c21-45dc-92b7-3ec0bcac92c0\" xlink:type=\"simple\"><rect fill=\"#FFFFFF\" height=\"45.9375\" id=\"E8\" rx=\"10\" ry=\"10\" style=\"stroke: #383838; stroke-width: 1.5;\" width=\"42\" x=\"321\" y=\"62\"/><text fill=\"#000000\" font-family=\"sans-serif\" font-size=\"12\" font-style=\"italic\" lengthAdjust=\"spacingAndGlyphs\" textLength=\"40\" x=\"322\" y=\"78.1387\">«part»</text><text fill=\"#000000\" font-family=\"sans-serif\" font-size=\"12\" lengthAdjust=\"spacingAndGlyphs\" textLength=\"8\" x=\"336\" y=\"92.1074\">e</text><line style=\"stroke: #383838; stroke-width: 1.5;\" x1=\"322\" x2=\"362\" y1=\"99.9375\" y2=\"99.9375\"/></a><!--MD5=[fd4143e9d270a159db93a4ea2a975926]\n",
       "class E9--><a href=\"psysml:e3b105f8-a02a-4959-8fa9-8da786795f1e\" target=\"_top\" title=\"psysml:e3b105f8-a02a-4959-8fa9-8da786795f1e\" xlink:actuate=\"onRequest\" xlink:href=\"psysml:e3b105f8-a02a-4959-8fa9-8da786795f1e\" xlink:show=\"new\" xlink:title=\"psysml:e3b105f8-a02a-4959-8fa9-8da786795f1e\" xlink:type=\"simple\"><rect fill=\"#FFFFFF\" height=\"45.9375\" id=\"E9\" rx=\"10\" ry=\"10\" style=\"stroke: #383838; stroke-width: 1.5;\" width=\"42\" x=\"244\" y=\"62\"/><text fill=\"#000000\" font-family=\"sans-serif\" font-size=\"12\" font-style=\"italic\" lengthAdjust=\"spacingAndGlyphs\" textLength=\"40\" x=\"245\" y=\"78.1387\">«part»</text><text fill=\"#000000\" font-family=\"sans-serif\" font-size=\"12\" lengthAdjust=\"spacingAndGlyphs\" textLength=\"4\" x=\"261\" y=\"92.1074\">f</text><line style=\"stroke: #383838; stroke-width: 1.5;\" x1=\"245\" x2=\"285\" y1=\"99.9375\" y2=\"99.9375\"/></a><!--MD5=[96f4274e9e20536e775497830990834d]\n",
       "class E10--><a href=\"psysml:0b08e64f-1d74-4a65-b189-b5a78b2f5a03\" target=\"_top\" title=\"psysml:0b08e64f-1d74-4a65-b189-b5a78b2f5a03\" xlink:actuate=\"onRequest\" xlink:href=\"psysml:0b08e64f-1d74-4a65-b189-b5a78b2f5a03\" xlink:show=\"new\" xlink:title=\"psysml:0b08e64f-1d74-4a65-b189-b5a78b2f5a03\" xlink:type=\"simple\"><rect fill=\"#FFFFFF\" height=\"45.9375\" id=\"E10\" rx=\"10\" ry=\"10\" style=\"stroke: #383838; stroke-width: 1.5;\" width=\"42\" x=\"167\" y=\"62\"/><text fill=\"#000000\" font-family=\"sans-serif\" font-size=\"12\" font-style=\"italic\" lengthAdjust=\"spacingAndGlyphs\" textLength=\"40\" x=\"168\" y=\"78.1387\">«part»</text><text fill=\"#000000\" font-family=\"sans-serif\" font-size=\"12\" lengthAdjust=\"spacingAndGlyphs\" textLength=\"8\" x=\"182\" y=\"92.1074\">g</text><line style=\"stroke: #383838; stroke-width: 1.5;\" x1=\"168\" x2=\"208\" y1=\"99.9375\" y2=\"99.9375\"/></a><!--MD5=[1dd1bfd58a279cf63c5f349dbc8fc6a1]\n",
       "class E11--><a href=\"psysml:d2ba3396-0b46-40b3-bbf4-49972d7872ff\" target=\"_top\" title=\"psysml:d2ba3396-0b46-40b3-bbf4-49972d7872ff\" xlink:actuate=\"onRequest\" xlink:href=\"psysml:d2ba3396-0b46-40b3-bbf4-49972d7872ff\" xlink:show=\"new\" xlink:title=\"psysml:d2ba3396-0b46-40b3-bbf4-49972d7872ff\" xlink:type=\"simple\"><rect fill=\"#FFFFFF\" height=\"88.3516\" id=\"E11\" style=\"stroke: #383838; stroke-width: 1.5;\" width=\"99\" x=\"32.5\" y=\"41\"/><text fill=\"#000000\" font-family=\"sans-serif\" font-size=\"12\" font-style=\"italic\" lengthAdjust=\"spacingAndGlyphs\" textLength=\"97\" x=\"33.5\" y=\"57.1387\">«attribute  def»</text><text fill=\"#000000\" font-family=\"sans-serif\" font-size=\"12\" lengthAdjust=\"spacingAndGlyphs\" textLength=\"8\" x=\"78\" y=\"71.1074\">A</text><line style=\"stroke: #383838; stroke-width: 1.5;\" x1=\"33.5\" x2=\"130.5\" y1=\"78.9375\" y2=\"78.9375\"/><text fill=\"#000000\" font-family=\"sans-serif\" font-size=\"11\" lengthAdjust=\"spacingAndGlyphs\" textLength=\"51\" x=\"38.5\" y=\"109.9526\">i: Integer</text><text fill=\"#000000\" font-family=\"sans-serif\" font-size=\"11\" lengthAdjust=\"spacingAndGlyphs\" textLength=\"21\" x=\"38.5\" y=\"122.7573\">x: A</text><line style=\"stroke: #383838; stroke-width: 1.0;\" x1=\"33.5\" x2=\"54.5\" y1=\"93.3398\" y2=\"93.3398\"/><text fill=\"#000000\" font-family=\"sans-serif\" font-size=\"11\" lengthAdjust=\"spacingAndGlyphs\" textLength=\"55\" x=\"54.5\" y=\"96.6479\">attributes</text><line style=\"stroke: #383838; stroke-width: 1.0;\" x1=\"109.5\" x2=\"130.5\" y1=\"93.3398\" y2=\"93.3398\"/></a><!--MD5=[15ebcb19ae302d9b601edb458606d402]\n",
       "link E5 to E2--><a href=\"psysml:b362769d-1260-4065-9b83-621f0da47e8d\" target=\"_top\" title=\"psysml:b362769d-1260-4065-9b83-621f0da47e8d\" xlink:actuate=\"onRequest\" xlink:href=\"psysml:b362769d-1260-4065-9b83-621f0da47e8d\" xlink:show=\"new\" xlink:title=\"psysml:b362769d-1260-4065-9b83-621f0da47e8d\" xlink:type=\"simple\"><path d=\"M566.12,108.06 C560.83,125 553.38,148.89 546.98,169.39 \" fill=\"none\" id=\"E5-&gt;E2\" style=\"stroke: #383838; stroke-width: 1.0;\"/><polygon fill=\"#FFFFFF\" points=\"540.95,188.74,539.929,168.5173,553.2931,172.6886,540.95,188.74\" style=\"stroke: #383838; stroke-width: 1.0;\"/><ellipse cx=\"543.5364\" cy=\"163.6721\" fill=\"#383838\" rx=\"2\" ry=\"2\" style=\"stroke: #383838; stroke-width: 1.0;\"/><ellipse cx=\"553.0823\" cy=\"166.6516\" fill=\"#383838\" rx=\"2\" ry=\"2\" style=\"stroke: #383838; stroke-width: 1.0;\"/></a><!--MD5=[2351f337d6de0f557b50152ba70847b5]\n",
       "link E6 to E2--><a href=\"psysml:03080077-3284-4bc2-8ec3-31a93274162e\" target=\"_top\" title=\"psysml:03080077-3284-4bc2-8ec3-31a93274162e\" xlink:actuate=\"onRequest\" xlink:href=\"psysml:03080077-3284-4bc2-8ec3-31a93274162e\" xlink:show=\"new\" xlink:title=\"psysml:03080077-3284-4bc2-8ec3-31a93274162e\" xlink:type=\"simple\"><path d=\"M502.71,108.06 C507.86,125 515.12,148.89 521.35,169.39 \" fill=\"none\" id=\"E6-&gt;E2\" style=\"stroke: #383838; stroke-width: 1.0;\"/><polygon fill=\"#FFFFFF\" points=\"527.23,188.74,515.007,172.597,528.4019,168.5255,527.23,188.74\" style=\"stroke: #383838; stroke-width: 1.0;\"/><ellipse cx=\"515.2628\" cy=\"166.5617\" fill=\"#383838\" rx=\"2\" ry=\"2\" style=\"stroke: #383838; stroke-width: 1.0;\"/><ellipse cx=\"524.8306\" cy=\"163.6535\" fill=\"#383838\" rx=\"2\" ry=\"2\" style=\"stroke: #383838; stroke-width: 1.0;\"/></a><!--MD5=[8559e8f34d044d32ecb1971c90183f48]\n",
       "@startuml\r\n",
       "top to bottom direction\r\n",
       "skinparam monochrome true\r\n",
       "skinparam classbackgroundcolor white\r\n",
       "skinparam shadowing false\r\n",
       "skinparam wrapWidth 300\r\n",
       "hide circle\r\n",
       "\r\n",
       "package \"MultiplicityTest\" as E1  [[psysml:e445ccd1-d7b4-46a5-bbe0-1ba908b830dd ]]  {\r\n",
       "comp def \"P\" as E2  <<(T,blue) part  def>> [[psysml:7d5bba99-ceb9-4796-b455-cbfdc331a9aa ]] {\r\n",
       "}\r\n",
       "comp usage \"n: Integer \" as E3  <<(T,blue) attribute>> [[psysml:ec541e3b-6371-48bf-8290-c0b2a0f88f52 ]] {\r\n",
       "}\r\n",
       "comp usage \"a \" as E4  <<(T,blue) part>> [[psysml:0bccd947-b2f6-485e-9c27-5cc482a56716 ]] {\r\n",
       "}\r\n",
       "comp usage \"b: P \" as E5  <<(T,blue) part>> [[psysml:3563b5dd-e50a-438e-94ba-a5b38ab6df54 ]] {\r\n",
       "}\r\n",
       "comp usage \"c: P \" as E6  <<(T,blue) part>> [[psysml:61a7c4a1-1480-402d-a8df-76594b39497b ]] {\r\n",
       "}\r\n",
       "comp usage \"d \" as E7  <<(T,blue) part>> [[psysml:f3d0dfc0-0dbb-4454-830c-43cee9c0f8af ]] {\r\n",
       "}\r\n",
       "comp usage \"e \" as E8  <<(T,blue) part>> [[psysml:470ebeae-9c21-45dc-92b7-3ec0bcac92c0 ]] {\r\n",
       "}\r\n",
       "comp usage \"f \" as E9  <<(T,blue) part>> [[psysml:e3b105f8-a02a-4959-8fa9-8da786795f1e ]] {\r\n",
       "}\r\n",
       "comp usage \"g \" as E10  <<(T,blue) part>> [[psysml:0b08e64f-1d74-4a65-b189-b5a78b2f5a03 ]] {\r\n",
       "}\r\n",
       "comp def \"A\" as E11  <<(T,blue) attribute  def>> [[psysml:d2ba3396-0b46-40b3-bbf4-49972d7872ff ]] {\r\n",
       "- - attributes - -\r\n",
       "i: Integer\r\n",
       "x: A\r\n",
       "}\r\n",
       "}\r\n",
       "E5 - -:|> E2 [[psysml:b362769d-1260-4065-9b83-621f0da47e8d ]] \r\n",
       "E6 - -:|> E2 [[psysml:03080077-3284-4bc2-8ec3-31a93274162e ]] \r\n",
       "@enduml\r\n",
       "\n",
       "PlantUML version 1.2020.13(Sat Jun 13 12:26:38 UTC 2020)\n",
       "(EPL source distribution)\n",
       "Java Runtime: OpenJDK Runtime Environment\n",
       "JVM: OpenJDK 64-Bit Server VM\n",
       "Default Encoding: UTF-8\n",
       "Language: en\n",
       "Country: null\n",
       "--></g></svg>"
      ]
     },
     "execution_count": 50,
     "metadata": {},
     "output_type": "execute_result"
    }
   ],
   "source": [
    "%viz --style=\"TB\" --view=\"MIXED\" \"MultiplicityTest\""
   ]
  },
  {
   "cell_type": "code",
   "execution_count": 51,
   "id": "34519ad1",
   "metadata": {
    "execution": {
     "iopub.execute_input": "2022-02-05T16:56:12.097240Z",
     "iopub.status.busy": "2022-02-05T16:56:12.096843Z",
     "iopub.status.idle": "2022-02-05T16:56:12.151794Z",
     "shell.execute_reply": "2022-02-05T16:56:12.150254Z"
    }
   },
   "outputs": [
    {
     "data": {
      "image/svg+xml": [
       "<?xml version=\"1.0\" encoding=\"UTF-8\" standalone=\"no\"?><svg xmlns=\"http://www.w3.org/2000/svg\" xmlns:xlink=\"http://www.w3.org/1999/xlink\" contentScriptType=\"application/ecmascript\" contentStyleType=\"text/css\" height=\"263px\" preserveAspectRatio=\"none\" style=\"width:816px;height:263px;\" version=\"1.1\" viewBox=\"0 0 816 263\" width=\"816px\" zoomAndPan=\"magnify\"><defs/><g><!--MD5=[fbc87193dbaf4d95561dea2c320d4a47]\n",
       "cluster E1--><a href=\"psysml:e445ccd1-d7b4-46a5-bbe0-1ba908b830dd\" target=\"_top\" title=\"psysml:e445ccd1-d7b4-46a5-bbe0-1ba908b830dd\" xlink:actuate=\"onRequest\" xlink:href=\"psysml:e445ccd1-d7b4-46a5-bbe0-1ba908b830dd\" xlink:show=\"new\" xlink:title=\"psysml:e445ccd1-d7b4-46a5-bbe0-1ba908b830dd\" xlink:type=\"simple\"><polygon fill=\"#FFFFFF\" points=\"16,6,123,6,130,28.2969,794,28.2969,794,251,16,251,16,6\" style=\"stroke: #000000; stroke-width: 1.5;\"/><line style=\"stroke: #000000; stroke-width: 1.5;\" x1=\"16\" x2=\"130\" y1=\"28.2969\" y2=\"28.2969\"/><text fill=\"#000000\" font-family=\"sans-serif\" font-size=\"14\" font-weight=\"bold\" lengthAdjust=\"spacingAndGlyphs\" textLength=\"101\" x=\"20\" y=\"20.9951\">MultiplicityTest</text></a><!--MD5=[b4997ac47864f28c2f74865a473b2911]\n",
       "class E2--><a href=\"psysml:7d5bba99-ceb9-4796-b455-cbfdc331a9aa\" target=\"_top\" title=\"psysml:7d5bba99-ceb9-4796-b455-cbfdc331a9aa\" xlink:actuate=\"onRequest\" xlink:href=\"psysml:7d5bba99-ceb9-4796-b455-cbfdc331a9aa\" xlink:show=\"new\" xlink:title=\"psysml:7d5bba99-ceb9-4796-b455-cbfdc331a9aa\" xlink:type=\"simple\"><rect fill=\"#FFFFFF\" height=\"45.9375\" id=\"E2\" style=\"stroke: #383838; stroke-width: 1.5;\" width=\"70\" x=\"499\" y=\"189\"/><text fill=\"#000000\" font-family=\"sans-serif\" font-size=\"12\" font-style=\"italic\" lengthAdjust=\"spacingAndGlyphs\" textLength=\"68\" x=\"500\" y=\"205.1387\">«part  def»</text><text fill=\"#000000\" font-family=\"sans-serif\" font-size=\"12\" lengthAdjust=\"spacingAndGlyphs\" textLength=\"8\" x=\"530\" y=\"219.1074\">P</text><line style=\"stroke: #383838; stroke-width: 1.5;\" x1=\"500\" x2=\"568\" y1=\"226.9375\" y2=\"226.9375\"/></a><!--MD5=[09b614a08d8cba4a07c9adeb5e0fee81]\n",
       "class E3--><a href=\"psysml:ec541e3b-6371-48bf-8290-c0b2a0f88f52\" target=\"_top\" title=\"psysml:ec541e3b-6371-48bf-8290-c0b2a0f88f52\" xlink:actuate=\"onRequest\" xlink:href=\"psysml:ec541e3b-6371-48bf-8290-c0b2a0f88f52\" xlink:show=\"new\" xlink:title=\"psysml:ec541e3b-6371-48bf-8290-c0b2a0f88f52\" xlink:type=\"simple\"><rect fill=\"#FFFFFF\" height=\"45.9375\" id=\"E3\" rx=\"10\" ry=\"10\" style=\"stroke: #383838; stroke-width: 1.5;\" width=\"71\" x=\"706.5\" y=\"62\"/><text fill=\"#000000\" font-family=\"sans-serif\" font-size=\"12\" font-style=\"italic\" lengthAdjust=\"spacingAndGlyphs\" textLength=\"69\" x=\"707.5\" y=\"78.1387\">«attribute»</text><text fill=\"#000000\" font-family=\"sans-serif\" font-size=\"12\" lengthAdjust=\"spacingAndGlyphs\" textLength=\"61\" x=\"709.5\" y=\"92.1074\">n: Integer</text><line style=\"stroke: #383838; stroke-width: 1.5;\" x1=\"707.5\" x2=\"776.5\" y1=\"99.9375\" y2=\"99.9375\"/></a><!--MD5=[ebbe1d658d1005bcc118a6aa81145e00]\n",
       "class E4--><a href=\"psysml:0bccd947-b2f6-485e-9c27-5cc482a56716\" target=\"_top\" title=\"psysml:0bccd947-b2f6-485e-9c27-5cc482a56716\" xlink:actuate=\"onRequest\" xlink:href=\"psysml:0bccd947-b2f6-485e-9c27-5cc482a56716\" xlink:show=\"new\" xlink:title=\"psysml:0bccd947-b2f6-485e-9c27-5cc482a56716\" xlink:type=\"simple\"><rect fill=\"#FFFFFF\" height=\"45.9375\" id=\"E4\" rx=\"10\" ry=\"10\" style=\"stroke: #383838; stroke-width: 1.5;\" width=\"42\" x=\"629\" y=\"62\"/><text fill=\"#000000\" font-family=\"sans-serif\" font-size=\"12\" font-style=\"italic\" lengthAdjust=\"spacingAndGlyphs\" textLength=\"40\" x=\"630\" y=\"78.1387\">«part»</text><text fill=\"#000000\" font-family=\"sans-serif\" font-size=\"12\" lengthAdjust=\"spacingAndGlyphs\" textLength=\"8\" x=\"644\" y=\"92.1074\">a</text><line style=\"stroke: #383838; stroke-width: 1.5;\" x1=\"630\" x2=\"670\" y1=\"99.9375\" y2=\"99.9375\"/></a><!--MD5=[270fce915f116d4de14055a7c1d9a0f3]\n",
       "class E5--><a href=\"psysml:3563b5dd-e50a-438e-94ba-a5b38ab6df54\" target=\"_top\" title=\"psysml:3563b5dd-e50a-438e-94ba-a5b38ab6df54\" xlink:actuate=\"onRequest\" xlink:href=\"psysml:3563b5dd-e50a-438e-94ba-a5b38ab6df54\" xlink:show=\"new\" xlink:title=\"psysml:3563b5dd-e50a-438e-94ba-a5b38ab6df54\" xlink:type=\"simple\"><rect fill=\"#FFFFFF\" height=\"45.9375\" id=\"E5\" rx=\"10\" ry=\"10\" style=\"stroke: #383838; stroke-width: 1.5;\" width=\"42\" x=\"552\" y=\"62\"/><text fill=\"#000000\" font-family=\"sans-serif\" font-size=\"12\" font-style=\"italic\" lengthAdjust=\"spacingAndGlyphs\" textLength=\"40\" x=\"553\" y=\"78.1387\">«part»</text><text fill=\"#000000\" font-family=\"sans-serif\" font-size=\"12\" lengthAdjust=\"spacingAndGlyphs\" textLength=\"24\" x=\"559\" y=\"92.1074\">b: P</text><line style=\"stroke: #383838; stroke-width: 1.5;\" x1=\"553\" x2=\"593\" y1=\"99.9375\" y2=\"99.9375\"/></a><!--MD5=[60a26617385b1d2d0262a64233df1f8d]\n",
       "class E6--><a href=\"psysml:61a7c4a1-1480-402d-a8df-76594b39497b\" target=\"_top\" title=\"psysml:61a7c4a1-1480-402d-a8df-76594b39497b\" xlink:actuate=\"onRequest\" xlink:href=\"psysml:61a7c4a1-1480-402d-a8df-76594b39497b\" xlink:show=\"new\" xlink:title=\"psysml:61a7c4a1-1480-402d-a8df-76594b39497b\" xlink:type=\"simple\"><rect fill=\"#FFFFFF\" height=\"45.9375\" id=\"E6\" rx=\"10\" ry=\"10\" style=\"stroke: #383838; stroke-width: 1.5;\" width=\"42\" x=\"475\" y=\"62\"/><text fill=\"#000000\" font-family=\"sans-serif\" font-size=\"12\" font-style=\"italic\" lengthAdjust=\"spacingAndGlyphs\" textLength=\"40\" x=\"476\" y=\"78.1387\">«part»</text><text fill=\"#000000\" font-family=\"sans-serif\" font-size=\"12\" lengthAdjust=\"spacingAndGlyphs\" textLength=\"23\" x=\"482.5\" y=\"92.1074\">c: P</text><line style=\"stroke: #383838; stroke-width: 1.5;\" x1=\"476\" x2=\"516\" y1=\"99.9375\" y2=\"99.9375\"/></a><!--MD5=[2156ba9850f5573cc1fc38a6a4b2f02b]\n",
       "class E7--><a href=\"psysml:f3d0dfc0-0dbb-4454-830c-43cee9c0f8af\" target=\"_top\" title=\"psysml:f3d0dfc0-0dbb-4454-830c-43cee9c0f8af\" xlink:actuate=\"onRequest\" xlink:href=\"psysml:f3d0dfc0-0dbb-4454-830c-43cee9c0f8af\" xlink:show=\"new\" xlink:title=\"psysml:f3d0dfc0-0dbb-4454-830c-43cee9c0f8af\" xlink:type=\"simple\"><rect fill=\"#FFFFFF\" height=\"45.9375\" id=\"E7\" rx=\"10\" ry=\"10\" style=\"stroke: #383838; stroke-width: 1.5;\" width=\"42\" x=\"398\" y=\"62\"/><text fill=\"#000000\" font-family=\"sans-serif\" font-size=\"12\" font-style=\"italic\" lengthAdjust=\"spacingAndGlyphs\" textLength=\"40\" x=\"399\" y=\"78.1387\">«part»</text><text fill=\"#000000\" font-family=\"sans-serif\" font-size=\"12\" lengthAdjust=\"spacingAndGlyphs\" textLength=\"8\" x=\"413\" y=\"92.1074\">d</text><line style=\"stroke: #383838; stroke-width: 1.5;\" x1=\"399\" x2=\"439\" y1=\"99.9375\" y2=\"99.9375\"/></a><!--MD5=[b9389687b975829384b498ac4b7476b2]\n",
       "class E8--><a href=\"psysml:470ebeae-9c21-45dc-92b7-3ec0bcac92c0\" target=\"_top\" title=\"psysml:470ebeae-9c21-45dc-92b7-3ec0bcac92c0\" xlink:actuate=\"onRequest\" xlink:href=\"psysml:470ebeae-9c21-45dc-92b7-3ec0bcac92c0\" xlink:show=\"new\" xlink:title=\"psysml:470ebeae-9c21-45dc-92b7-3ec0bcac92c0\" xlink:type=\"simple\"><rect fill=\"#FFFFFF\" height=\"45.9375\" id=\"E8\" rx=\"10\" ry=\"10\" style=\"stroke: #383838; stroke-width: 1.5;\" width=\"42\" x=\"321\" y=\"62\"/><text fill=\"#000000\" font-family=\"sans-serif\" font-size=\"12\" font-style=\"italic\" lengthAdjust=\"spacingAndGlyphs\" textLength=\"40\" x=\"322\" y=\"78.1387\">«part»</text><text fill=\"#000000\" font-family=\"sans-serif\" font-size=\"12\" lengthAdjust=\"spacingAndGlyphs\" textLength=\"8\" x=\"336\" y=\"92.1074\">e</text><line style=\"stroke: #383838; stroke-width: 1.5;\" x1=\"322\" x2=\"362\" y1=\"99.9375\" y2=\"99.9375\"/></a><!--MD5=[fd4143e9d270a159db93a4ea2a975926]\n",
       "class E9--><a href=\"psysml:e3b105f8-a02a-4959-8fa9-8da786795f1e\" target=\"_top\" title=\"psysml:e3b105f8-a02a-4959-8fa9-8da786795f1e\" xlink:actuate=\"onRequest\" xlink:href=\"psysml:e3b105f8-a02a-4959-8fa9-8da786795f1e\" xlink:show=\"new\" xlink:title=\"psysml:e3b105f8-a02a-4959-8fa9-8da786795f1e\" xlink:type=\"simple\"><rect fill=\"#FFFFFF\" height=\"45.9375\" id=\"E9\" rx=\"10\" ry=\"10\" style=\"stroke: #383838; stroke-width: 1.5;\" width=\"42\" x=\"244\" y=\"62\"/><text fill=\"#000000\" font-family=\"sans-serif\" font-size=\"12\" font-style=\"italic\" lengthAdjust=\"spacingAndGlyphs\" textLength=\"40\" x=\"245\" y=\"78.1387\">«part»</text><text fill=\"#000000\" font-family=\"sans-serif\" font-size=\"12\" lengthAdjust=\"spacingAndGlyphs\" textLength=\"4\" x=\"261\" y=\"92.1074\">f</text><line style=\"stroke: #383838; stroke-width: 1.5;\" x1=\"245\" x2=\"285\" y1=\"99.9375\" y2=\"99.9375\"/></a><!--MD5=[96f4274e9e20536e775497830990834d]\n",
       "class E10--><a href=\"psysml:0b08e64f-1d74-4a65-b189-b5a78b2f5a03\" target=\"_top\" title=\"psysml:0b08e64f-1d74-4a65-b189-b5a78b2f5a03\" xlink:actuate=\"onRequest\" xlink:href=\"psysml:0b08e64f-1d74-4a65-b189-b5a78b2f5a03\" xlink:show=\"new\" xlink:title=\"psysml:0b08e64f-1d74-4a65-b189-b5a78b2f5a03\" xlink:type=\"simple\"><rect fill=\"#FFFFFF\" height=\"45.9375\" id=\"E10\" rx=\"10\" ry=\"10\" style=\"stroke: #383838; stroke-width: 1.5;\" width=\"42\" x=\"167\" y=\"62\"/><text fill=\"#000000\" font-family=\"sans-serif\" font-size=\"12\" font-style=\"italic\" lengthAdjust=\"spacingAndGlyphs\" textLength=\"40\" x=\"168\" y=\"78.1387\">«part»</text><text fill=\"#000000\" font-family=\"sans-serif\" font-size=\"12\" lengthAdjust=\"spacingAndGlyphs\" textLength=\"8\" x=\"182\" y=\"92.1074\">g</text><line style=\"stroke: #383838; stroke-width: 1.5;\" x1=\"168\" x2=\"208\" y1=\"99.9375\" y2=\"99.9375\"/></a><!--MD5=[1dd1bfd58a279cf63c5f349dbc8fc6a1]\n",
       "class E11--><a href=\"psysml:d2ba3396-0b46-40b3-bbf4-49972d7872ff\" target=\"_top\" title=\"psysml:d2ba3396-0b46-40b3-bbf4-49972d7872ff\" xlink:actuate=\"onRequest\" xlink:href=\"psysml:d2ba3396-0b46-40b3-bbf4-49972d7872ff\" xlink:show=\"new\" xlink:title=\"psysml:d2ba3396-0b46-40b3-bbf4-49972d7872ff\" xlink:type=\"simple\"><rect fill=\"#FFFFFF\" height=\"88.3516\" id=\"E11\" style=\"stroke: #383838; stroke-width: 1.5;\" width=\"99\" x=\"32.5\" y=\"41\"/><text fill=\"#000000\" font-family=\"sans-serif\" font-size=\"12\" font-style=\"italic\" lengthAdjust=\"spacingAndGlyphs\" textLength=\"97\" x=\"33.5\" y=\"57.1387\">«attribute  def»</text><text fill=\"#000000\" font-family=\"sans-serif\" font-size=\"12\" lengthAdjust=\"spacingAndGlyphs\" textLength=\"8\" x=\"78\" y=\"71.1074\">A</text><line style=\"stroke: #383838; stroke-width: 1.5;\" x1=\"33.5\" x2=\"130.5\" y1=\"78.9375\" y2=\"78.9375\"/><text fill=\"#000000\" font-family=\"sans-serif\" font-size=\"11\" lengthAdjust=\"spacingAndGlyphs\" textLength=\"51\" x=\"38.5\" y=\"109.9526\">i: Integer</text><text fill=\"#000000\" font-family=\"sans-serif\" font-size=\"11\" lengthAdjust=\"spacingAndGlyphs\" textLength=\"21\" x=\"38.5\" y=\"122.7573\">x: A</text><line style=\"stroke: #383838; stroke-width: 1.0;\" x1=\"33.5\" x2=\"54.5\" y1=\"93.3398\" y2=\"93.3398\"/><text fill=\"#000000\" font-family=\"sans-serif\" font-size=\"11\" lengthAdjust=\"spacingAndGlyphs\" textLength=\"55\" x=\"54.5\" y=\"96.6479\">attributes</text><line style=\"stroke: #383838; stroke-width: 1.0;\" x1=\"109.5\" x2=\"130.5\" y1=\"93.3398\" y2=\"93.3398\"/></a><!--MD5=[15ebcb19ae302d9b601edb458606d402]\n",
       "link E5 to E2--><a href=\"psysml:b362769d-1260-4065-9b83-621f0da47e8d\" target=\"_top\" title=\"psysml:b362769d-1260-4065-9b83-621f0da47e8d\" xlink:actuate=\"onRequest\" xlink:href=\"psysml:b362769d-1260-4065-9b83-621f0da47e8d\" xlink:show=\"new\" xlink:title=\"psysml:b362769d-1260-4065-9b83-621f0da47e8d\" xlink:type=\"simple\"><path d=\"M560.5,108.29 C560.5,108.29 560.5,168.85 560.5,168.85 \" fill=\"none\" id=\"E5-&gt;E2\" style=\"stroke: #383838; stroke-width: 1.0;\"/><polygon fill=\"#FFFFFF\" points=\"560.5,188.85,553.5,169.85,567.5,169.85,560.5,188.85\" style=\"stroke: #383838; stroke-width: 1.0;\"/><ellipse cx=\"555.5\" cy=\"164.15\" fill=\"#383838\" rx=\"2\" ry=\"2\" style=\"stroke: #383838; stroke-width: 1.0;\"/><ellipse cx=\"565.5\" cy=\"164.15\" fill=\"#383838\" rx=\"2\" ry=\"2\" style=\"stroke: #383838; stroke-width: 1.0;\"/></a><!--MD5=[2351f337d6de0f557b50152ba70847b5]\n",
       "link E6 to E2--><a href=\"psysml:03080077-3284-4bc2-8ec3-31a93274162e\" target=\"_top\" title=\"psysml:03080077-3284-4bc2-8ec3-31a93274162e\" xlink:actuate=\"onRequest\" xlink:href=\"psysml:03080077-3284-4bc2-8ec3-31a93274162e\" xlink:show=\"new\" xlink:title=\"psysml:03080077-3284-4bc2-8ec3-31a93274162e\" xlink:type=\"simple\"><path d=\"M508,108.29 C508,108.29 508,168.85 508,168.85 \" fill=\"none\" id=\"E6-&gt;E2\" style=\"stroke: #383838; stroke-width: 1.0;\"/><polygon fill=\"#FFFFFF\" points=\"508,188.85,501,169.85,515,169.85,508,188.85\" style=\"stroke: #383838; stroke-width: 1.0;\"/><ellipse cx=\"503\" cy=\"164.15\" fill=\"#383838\" rx=\"2\" ry=\"2\" style=\"stroke: #383838; stroke-width: 1.0;\"/><ellipse cx=\"513\" cy=\"164.15\" fill=\"#383838\" rx=\"2\" ry=\"2\" style=\"stroke: #383838; stroke-width: 1.0;\"/></a><!--MD5=[1c22a46442a8c6020f7a35fe5a3ce22d]\n",
       "@startuml\r\n",
       "skinparam linetype ortho\r\n",
       "skinparam monochrome true\r\n",
       "skinparam classbackgroundcolor white\r\n",
       "skinparam shadowing false\r\n",
       "skinparam wrapWidth 300\r\n",
       "hide circle\r\n",
       "\r\n",
       "package \"MultiplicityTest\" as E1  [[psysml:e445ccd1-d7b4-46a5-bbe0-1ba908b830dd ]]  {\r\n",
       "comp def \"P\" as E2  <<(T,blue) part  def>> [[psysml:7d5bba99-ceb9-4796-b455-cbfdc331a9aa ]] {\r\n",
       "}\r\n",
       "comp usage \"n: Integer \" as E3  <<(T,blue) attribute>> [[psysml:ec541e3b-6371-48bf-8290-c0b2a0f88f52 ]] {\r\n",
       "}\r\n",
       "comp usage \"a \" as E4  <<(T,blue) part>> [[psysml:0bccd947-b2f6-485e-9c27-5cc482a56716 ]] {\r\n",
       "}\r\n",
       "comp usage \"b: P \" as E5  <<(T,blue) part>> [[psysml:3563b5dd-e50a-438e-94ba-a5b38ab6df54 ]] {\r\n",
       "}\r\n",
       "comp usage \"c: P \" as E6  <<(T,blue) part>> [[psysml:61a7c4a1-1480-402d-a8df-76594b39497b ]] {\r\n",
       "}\r\n",
       "comp usage \"d \" as E7  <<(T,blue) part>> [[psysml:f3d0dfc0-0dbb-4454-830c-43cee9c0f8af ]] {\r\n",
       "}\r\n",
       "comp usage \"e \" as E8  <<(T,blue) part>> [[psysml:470ebeae-9c21-45dc-92b7-3ec0bcac92c0 ]] {\r\n",
       "}\r\n",
       "comp usage \"f \" as E9  <<(T,blue) part>> [[psysml:e3b105f8-a02a-4959-8fa9-8da786795f1e ]] {\r\n",
       "}\r\n",
       "comp usage \"g \" as E10  <<(T,blue) part>> [[psysml:0b08e64f-1d74-4a65-b189-b5a78b2f5a03 ]] {\r\n",
       "}\r\n",
       "comp def \"A\" as E11  <<(T,blue) attribute  def>> [[psysml:d2ba3396-0b46-40b3-bbf4-49972d7872ff ]] {\r\n",
       "- - attributes - -\r\n",
       "i: Integer\r\n",
       "x: A\r\n",
       "}\r\n",
       "}\r\n",
       "E5 - -:|> E2 [[psysml:b362769d-1260-4065-9b83-621f0da47e8d ]] \r\n",
       "E6 - -:|> E2 [[psysml:03080077-3284-4bc2-8ec3-31a93274162e ]] \r\n",
       "@enduml\r\n",
       "\n",
       "PlantUML version 1.2020.13(Sat Jun 13 12:26:38 UTC 2020)\n",
       "(EPL source distribution)\n",
       "Java Runtime: OpenJDK Runtime Environment\n",
       "JVM: OpenJDK 64-Bit Server VM\n",
       "Default Encoding: UTF-8\n",
       "Language: en\n",
       "Country: null\n",
       "--></g></svg>"
      ]
     },
     "execution_count": 51,
     "metadata": {},
     "output_type": "execute_result"
    }
   ],
   "source": [
    "%viz --style=\"ORTHOLINE\" --view=\"Default\" \"MultiplicityTest\""
   ]
  },
  {
   "cell_type": "code",
   "execution_count": 52,
   "id": "21d6cc43",
   "metadata": {
    "execution": {
     "iopub.execute_input": "2022-02-05T16:56:12.201064Z",
     "iopub.status.busy": "2022-02-05T16:56:12.200628Z",
     "iopub.status.idle": "2022-02-05T16:56:12.253601Z",
     "shell.execute_reply": "2022-02-05T16:56:12.252142Z"
    }
   },
   "outputs": [
    {
     "data": {
      "image/svg+xml": [
       "<?xml version=\"1.0\" encoding=\"UTF-8\" standalone=\"no\"?><svg xmlns=\"http://www.w3.org/2000/svg\" xmlns:xlink=\"http://www.w3.org/1999/xlink\" contentScriptType=\"application/ecmascript\" contentStyleType=\"text/css\" height=\"263px\" preserveAspectRatio=\"none\" style=\"width:816px;height:263px;\" version=\"1.1\" viewBox=\"0 0 816 263\" width=\"816px\" zoomAndPan=\"magnify\"><defs/><g><!--MD5=[fbc87193dbaf4d95561dea2c320d4a47]\n",
       "cluster E1--><a href=\"psysml:e445ccd1-d7b4-46a5-bbe0-1ba908b830dd\" target=\"_top\" title=\"psysml:e445ccd1-d7b4-46a5-bbe0-1ba908b830dd\" xlink:actuate=\"onRequest\" xlink:href=\"psysml:e445ccd1-d7b4-46a5-bbe0-1ba908b830dd\" xlink:show=\"new\" xlink:title=\"psysml:e445ccd1-d7b4-46a5-bbe0-1ba908b830dd\" xlink:type=\"simple\"><polygon fill=\"#FFFFFF\" points=\"16,6,123,6,130,28.2969,794,28.2969,794,251,16,251,16,6\" style=\"stroke: #000000; stroke-width: 1.5;\"/><line style=\"stroke: #000000; stroke-width: 1.5;\" x1=\"16\" x2=\"130\" y1=\"28.2969\" y2=\"28.2969\"/><text fill=\"#000000\" font-family=\"sans-serif\" font-size=\"14\" font-weight=\"bold\" lengthAdjust=\"spacingAndGlyphs\" textLength=\"101\" x=\"20\" y=\"20.9951\">MultiplicityTest</text></a><!--MD5=[b4997ac47864f28c2f74865a473b2911]\n",
       "class E2--><a href=\"psysml:7d5bba99-ceb9-4796-b455-cbfdc331a9aa\" target=\"_top\" title=\"psysml:7d5bba99-ceb9-4796-b455-cbfdc331a9aa\" xlink:actuate=\"onRequest\" xlink:href=\"psysml:7d5bba99-ceb9-4796-b455-cbfdc331a9aa\" xlink:show=\"new\" xlink:title=\"psysml:7d5bba99-ceb9-4796-b455-cbfdc331a9aa\" xlink:type=\"simple\"><rect fill=\"#FFFFFF\" height=\"45.9375\" id=\"E2\" style=\"stroke: #383838; stroke-width: 1.5;\" width=\"70\" x=\"499\" y=\"189\"/><text fill=\"#000000\" font-family=\"sans-serif\" font-size=\"12\" font-style=\"italic\" lengthAdjust=\"spacingAndGlyphs\" textLength=\"68\" x=\"500\" y=\"205.1387\">«part  def»</text><text fill=\"#000000\" font-family=\"sans-serif\" font-size=\"12\" lengthAdjust=\"spacingAndGlyphs\" textLength=\"8\" x=\"530\" y=\"219.1074\">P</text><line style=\"stroke: #383838; stroke-width: 1.5;\" x1=\"500\" x2=\"568\" y1=\"226.9375\" y2=\"226.9375\"/></a><!--MD5=[09b614a08d8cba4a07c9adeb5e0fee81]\n",
       "class E3--><a href=\"psysml:ec541e3b-6371-48bf-8290-c0b2a0f88f52\" target=\"_top\" title=\"psysml:ec541e3b-6371-48bf-8290-c0b2a0f88f52\" xlink:actuate=\"onRequest\" xlink:href=\"psysml:ec541e3b-6371-48bf-8290-c0b2a0f88f52\" xlink:show=\"new\" xlink:title=\"psysml:ec541e3b-6371-48bf-8290-c0b2a0f88f52\" xlink:type=\"simple\"><rect fill=\"#FFFFFF\" height=\"45.9375\" id=\"E3\" rx=\"10\" ry=\"10\" style=\"stroke: #383838; stroke-width: 1.5;\" width=\"71\" x=\"706.5\" y=\"62\"/><text fill=\"#000000\" font-family=\"sans-serif\" font-size=\"12\" font-style=\"italic\" lengthAdjust=\"spacingAndGlyphs\" textLength=\"69\" x=\"707.5\" y=\"78.1387\">«attribute»</text><text fill=\"#000000\" font-family=\"sans-serif\" font-size=\"12\" lengthAdjust=\"spacingAndGlyphs\" textLength=\"61\" x=\"709.5\" y=\"92.1074\">n: Integer</text><line style=\"stroke: #383838; stroke-width: 1.5;\" x1=\"707.5\" x2=\"776.5\" y1=\"99.9375\" y2=\"99.9375\"/></a><!--MD5=[ebbe1d658d1005bcc118a6aa81145e00]\n",
       "class E4--><a href=\"psysml:0bccd947-b2f6-485e-9c27-5cc482a56716\" target=\"_top\" title=\"psysml:0bccd947-b2f6-485e-9c27-5cc482a56716\" xlink:actuate=\"onRequest\" xlink:href=\"psysml:0bccd947-b2f6-485e-9c27-5cc482a56716\" xlink:show=\"new\" xlink:title=\"psysml:0bccd947-b2f6-485e-9c27-5cc482a56716\" xlink:type=\"simple\"><rect fill=\"#FFFFFF\" height=\"45.9375\" id=\"E4\" rx=\"10\" ry=\"10\" style=\"stroke: #383838; stroke-width: 1.5;\" width=\"42\" x=\"629\" y=\"62\"/><text fill=\"#000000\" font-family=\"sans-serif\" font-size=\"12\" font-style=\"italic\" lengthAdjust=\"spacingAndGlyphs\" textLength=\"40\" x=\"630\" y=\"78.1387\">«part»</text><text fill=\"#000000\" font-family=\"sans-serif\" font-size=\"12\" lengthAdjust=\"spacingAndGlyphs\" textLength=\"8\" x=\"644\" y=\"92.1074\">a</text><line style=\"stroke: #383838; stroke-width: 1.5;\" x1=\"630\" x2=\"670\" y1=\"99.9375\" y2=\"99.9375\"/></a><!--MD5=[270fce915f116d4de14055a7c1d9a0f3]\n",
       "class E5--><a href=\"psysml:3563b5dd-e50a-438e-94ba-a5b38ab6df54\" target=\"_top\" title=\"psysml:3563b5dd-e50a-438e-94ba-a5b38ab6df54\" xlink:actuate=\"onRequest\" xlink:href=\"psysml:3563b5dd-e50a-438e-94ba-a5b38ab6df54\" xlink:show=\"new\" xlink:title=\"psysml:3563b5dd-e50a-438e-94ba-a5b38ab6df54\" xlink:type=\"simple\"><rect fill=\"#FFFFFF\" height=\"45.9375\" id=\"E5\" rx=\"10\" ry=\"10\" style=\"stroke: #383838; stroke-width: 1.5;\" width=\"42\" x=\"552\" y=\"62\"/><text fill=\"#000000\" font-family=\"sans-serif\" font-size=\"12\" font-style=\"italic\" lengthAdjust=\"spacingAndGlyphs\" textLength=\"40\" x=\"553\" y=\"78.1387\">«part»</text><text fill=\"#000000\" font-family=\"sans-serif\" font-size=\"12\" lengthAdjust=\"spacingAndGlyphs\" textLength=\"24\" x=\"559\" y=\"92.1074\">b: P</text><line style=\"stroke: #383838; stroke-width: 1.5;\" x1=\"553\" x2=\"593\" y1=\"99.9375\" y2=\"99.9375\"/></a><!--MD5=[60a26617385b1d2d0262a64233df1f8d]\n",
       "class E6--><a href=\"psysml:61a7c4a1-1480-402d-a8df-76594b39497b\" target=\"_top\" title=\"psysml:61a7c4a1-1480-402d-a8df-76594b39497b\" xlink:actuate=\"onRequest\" xlink:href=\"psysml:61a7c4a1-1480-402d-a8df-76594b39497b\" xlink:show=\"new\" xlink:title=\"psysml:61a7c4a1-1480-402d-a8df-76594b39497b\" xlink:type=\"simple\"><rect fill=\"#FFFFFF\" height=\"45.9375\" id=\"E6\" rx=\"10\" ry=\"10\" style=\"stroke: #383838; stroke-width: 1.5;\" width=\"42\" x=\"475\" y=\"62\"/><text fill=\"#000000\" font-family=\"sans-serif\" font-size=\"12\" font-style=\"italic\" lengthAdjust=\"spacingAndGlyphs\" textLength=\"40\" x=\"476\" y=\"78.1387\">«part»</text><text fill=\"#000000\" font-family=\"sans-serif\" font-size=\"12\" lengthAdjust=\"spacingAndGlyphs\" textLength=\"23\" x=\"482.5\" y=\"92.1074\">c: P</text><line style=\"stroke: #383838; stroke-width: 1.5;\" x1=\"476\" x2=\"516\" y1=\"99.9375\" y2=\"99.9375\"/></a><!--MD5=[2156ba9850f5573cc1fc38a6a4b2f02b]\n",
       "class E7--><a href=\"psysml:f3d0dfc0-0dbb-4454-830c-43cee9c0f8af\" target=\"_top\" title=\"psysml:f3d0dfc0-0dbb-4454-830c-43cee9c0f8af\" xlink:actuate=\"onRequest\" xlink:href=\"psysml:f3d0dfc0-0dbb-4454-830c-43cee9c0f8af\" xlink:show=\"new\" xlink:title=\"psysml:f3d0dfc0-0dbb-4454-830c-43cee9c0f8af\" xlink:type=\"simple\"><rect fill=\"#FFFFFF\" height=\"45.9375\" id=\"E7\" rx=\"10\" ry=\"10\" style=\"stroke: #383838; stroke-width: 1.5;\" width=\"42\" x=\"398\" y=\"62\"/><text fill=\"#000000\" font-family=\"sans-serif\" font-size=\"12\" font-style=\"italic\" lengthAdjust=\"spacingAndGlyphs\" textLength=\"40\" x=\"399\" y=\"78.1387\">«part»</text><text fill=\"#000000\" font-family=\"sans-serif\" font-size=\"12\" lengthAdjust=\"spacingAndGlyphs\" textLength=\"8\" x=\"413\" y=\"92.1074\">d</text><line style=\"stroke: #383838; stroke-width: 1.5;\" x1=\"399\" x2=\"439\" y1=\"99.9375\" y2=\"99.9375\"/></a><!--MD5=[b9389687b975829384b498ac4b7476b2]\n",
       "class E8--><a href=\"psysml:470ebeae-9c21-45dc-92b7-3ec0bcac92c0\" target=\"_top\" title=\"psysml:470ebeae-9c21-45dc-92b7-3ec0bcac92c0\" xlink:actuate=\"onRequest\" xlink:href=\"psysml:470ebeae-9c21-45dc-92b7-3ec0bcac92c0\" xlink:show=\"new\" xlink:title=\"psysml:470ebeae-9c21-45dc-92b7-3ec0bcac92c0\" xlink:type=\"simple\"><rect fill=\"#FFFFFF\" height=\"45.9375\" id=\"E8\" rx=\"10\" ry=\"10\" style=\"stroke: #383838; stroke-width: 1.5;\" width=\"42\" x=\"321\" y=\"62\"/><text fill=\"#000000\" font-family=\"sans-serif\" font-size=\"12\" font-style=\"italic\" lengthAdjust=\"spacingAndGlyphs\" textLength=\"40\" x=\"322\" y=\"78.1387\">«part»</text><text fill=\"#000000\" font-family=\"sans-serif\" font-size=\"12\" lengthAdjust=\"spacingAndGlyphs\" textLength=\"8\" x=\"336\" y=\"92.1074\">e</text><line style=\"stroke: #383838; stroke-width: 1.5;\" x1=\"322\" x2=\"362\" y1=\"99.9375\" y2=\"99.9375\"/></a><!--MD5=[fd4143e9d270a159db93a4ea2a975926]\n",
       "class E9--><a href=\"psysml:e3b105f8-a02a-4959-8fa9-8da786795f1e\" target=\"_top\" title=\"psysml:e3b105f8-a02a-4959-8fa9-8da786795f1e\" xlink:actuate=\"onRequest\" xlink:href=\"psysml:e3b105f8-a02a-4959-8fa9-8da786795f1e\" xlink:show=\"new\" xlink:title=\"psysml:e3b105f8-a02a-4959-8fa9-8da786795f1e\" xlink:type=\"simple\"><rect fill=\"#FFFFFF\" height=\"45.9375\" id=\"E9\" rx=\"10\" ry=\"10\" style=\"stroke: #383838; stroke-width: 1.5;\" width=\"42\" x=\"244\" y=\"62\"/><text fill=\"#000000\" font-family=\"sans-serif\" font-size=\"12\" font-style=\"italic\" lengthAdjust=\"spacingAndGlyphs\" textLength=\"40\" x=\"245\" y=\"78.1387\">«part»</text><text fill=\"#000000\" font-family=\"sans-serif\" font-size=\"12\" lengthAdjust=\"spacingAndGlyphs\" textLength=\"4\" x=\"261\" y=\"92.1074\">f</text><line style=\"stroke: #383838; stroke-width: 1.5;\" x1=\"245\" x2=\"285\" y1=\"99.9375\" y2=\"99.9375\"/></a><!--MD5=[96f4274e9e20536e775497830990834d]\n",
       "class E10--><a href=\"psysml:0b08e64f-1d74-4a65-b189-b5a78b2f5a03\" target=\"_top\" title=\"psysml:0b08e64f-1d74-4a65-b189-b5a78b2f5a03\" xlink:actuate=\"onRequest\" xlink:href=\"psysml:0b08e64f-1d74-4a65-b189-b5a78b2f5a03\" xlink:show=\"new\" xlink:title=\"psysml:0b08e64f-1d74-4a65-b189-b5a78b2f5a03\" xlink:type=\"simple\"><rect fill=\"#FFFFFF\" height=\"45.9375\" id=\"E10\" rx=\"10\" ry=\"10\" style=\"stroke: #383838; stroke-width: 1.5;\" width=\"42\" x=\"167\" y=\"62\"/><text fill=\"#000000\" font-family=\"sans-serif\" font-size=\"12\" font-style=\"italic\" lengthAdjust=\"spacingAndGlyphs\" textLength=\"40\" x=\"168\" y=\"78.1387\">«part»</text><text fill=\"#000000\" font-family=\"sans-serif\" font-size=\"12\" lengthAdjust=\"spacingAndGlyphs\" textLength=\"8\" x=\"182\" y=\"92.1074\">g</text><line style=\"stroke: #383838; stroke-width: 1.5;\" x1=\"168\" x2=\"208\" y1=\"99.9375\" y2=\"99.9375\"/></a><!--MD5=[1dd1bfd58a279cf63c5f349dbc8fc6a1]\n",
       "class E11--><a href=\"psysml:d2ba3396-0b46-40b3-bbf4-49972d7872ff\" target=\"_top\" title=\"psysml:d2ba3396-0b46-40b3-bbf4-49972d7872ff\" xlink:actuate=\"onRequest\" xlink:href=\"psysml:d2ba3396-0b46-40b3-bbf4-49972d7872ff\" xlink:show=\"new\" xlink:title=\"psysml:d2ba3396-0b46-40b3-bbf4-49972d7872ff\" xlink:type=\"simple\"><rect fill=\"#FFFFFF\" height=\"88.3516\" id=\"E11\" style=\"stroke: #383838; stroke-width: 1.5;\" width=\"99\" x=\"32.5\" y=\"41\"/><text fill=\"#000000\" font-family=\"sans-serif\" font-size=\"12\" font-style=\"italic\" lengthAdjust=\"spacingAndGlyphs\" textLength=\"97\" x=\"33.5\" y=\"57.1387\">«attribute  def»</text><text fill=\"#000000\" font-family=\"sans-serif\" font-size=\"12\" lengthAdjust=\"spacingAndGlyphs\" textLength=\"8\" x=\"78\" y=\"71.1074\">A</text><line style=\"stroke: #383838; stroke-width: 1.5;\" x1=\"33.5\" x2=\"130.5\" y1=\"78.9375\" y2=\"78.9375\"/><text fill=\"#000000\" font-family=\"sans-serif\" font-size=\"11\" lengthAdjust=\"spacingAndGlyphs\" textLength=\"51\" x=\"38.5\" y=\"109.9526\">i: Integer</text><text fill=\"#000000\" font-family=\"sans-serif\" font-size=\"11\" lengthAdjust=\"spacingAndGlyphs\" textLength=\"21\" x=\"38.5\" y=\"122.7573\">x: A</text><line style=\"stroke: #383838; stroke-width: 1.0;\" x1=\"33.5\" x2=\"54.5\" y1=\"93.3398\" y2=\"93.3398\"/><text fill=\"#000000\" font-family=\"sans-serif\" font-size=\"11\" lengthAdjust=\"spacingAndGlyphs\" textLength=\"55\" x=\"54.5\" y=\"96.6479\">attributes</text><line style=\"stroke: #383838; stroke-width: 1.0;\" x1=\"109.5\" x2=\"130.5\" y1=\"93.3398\" y2=\"93.3398\"/></a><!--MD5=[15ebcb19ae302d9b601edb458606d402]\n",
       "link E5 to E2--><a href=\"psysml:b362769d-1260-4065-9b83-621f0da47e8d\" target=\"_top\" title=\"psysml:b362769d-1260-4065-9b83-621f0da47e8d\" xlink:actuate=\"onRequest\" xlink:href=\"psysml:b362769d-1260-4065-9b83-621f0da47e8d\" xlink:show=\"new\" xlink:title=\"psysml:b362769d-1260-4065-9b83-621f0da47e8d\" xlink:type=\"simple\"><path d=\"M560.5,108.29 C560.5,108.29 560.5,168.85 560.5,168.85 \" fill=\"none\" id=\"E5-&gt;E2\" style=\"stroke: #383838; stroke-width: 1.0;\"/><polygon fill=\"#FFFFFF\" points=\"560.5,188.85,553.5,169.85,567.5,169.85,560.5,188.85\" style=\"stroke: #383838; stroke-width: 1.0;\"/><ellipse cx=\"555.5\" cy=\"164.15\" fill=\"#383838\" rx=\"2\" ry=\"2\" style=\"stroke: #383838; stroke-width: 1.0;\"/><ellipse cx=\"565.5\" cy=\"164.15\" fill=\"#383838\" rx=\"2\" ry=\"2\" style=\"stroke: #383838; stroke-width: 1.0;\"/></a><!--MD5=[2351f337d6de0f557b50152ba70847b5]\n",
       "link E6 to E2--><a href=\"psysml:03080077-3284-4bc2-8ec3-31a93274162e\" target=\"_top\" title=\"psysml:03080077-3284-4bc2-8ec3-31a93274162e\" xlink:actuate=\"onRequest\" xlink:href=\"psysml:03080077-3284-4bc2-8ec3-31a93274162e\" xlink:show=\"new\" xlink:title=\"psysml:03080077-3284-4bc2-8ec3-31a93274162e\" xlink:type=\"simple\"><path d=\"M508,108.29 C508,108.29 508,168.85 508,168.85 \" fill=\"none\" id=\"E6-&gt;E2\" style=\"stroke: #383838; stroke-width: 1.0;\"/><polygon fill=\"#FFFFFF\" points=\"508,188.85,501,169.85,515,169.85,508,188.85\" style=\"stroke: #383838; stroke-width: 1.0;\"/><ellipse cx=\"503\" cy=\"164.15\" fill=\"#383838\" rx=\"2\" ry=\"2\" style=\"stroke: #383838; stroke-width: 1.0;\"/><ellipse cx=\"513\" cy=\"164.15\" fill=\"#383838\" rx=\"2\" ry=\"2\" style=\"stroke: #383838; stroke-width: 1.0;\"/></a><!--MD5=[1c22a46442a8c6020f7a35fe5a3ce22d]\n",
       "@startuml\r\n",
       "skinparam linetype ortho\r\n",
       "skinparam monochrome true\r\n",
       "skinparam classbackgroundcolor white\r\n",
       "skinparam shadowing false\r\n",
       "skinparam wrapWidth 300\r\n",
       "hide circle\r\n",
       "\r\n",
       "package \"MultiplicityTest\" as E1  [[psysml:e445ccd1-d7b4-46a5-bbe0-1ba908b830dd ]]  {\r\n",
       "comp def \"P\" as E2  <<(T,blue) part  def>> [[psysml:7d5bba99-ceb9-4796-b455-cbfdc331a9aa ]] {\r\n",
       "}\r\n",
       "comp usage \"n: Integer \" as E3  <<(T,blue) attribute>> [[psysml:ec541e3b-6371-48bf-8290-c0b2a0f88f52 ]] {\r\n",
       "}\r\n",
       "comp usage \"a \" as E4  <<(T,blue) part>> [[psysml:0bccd947-b2f6-485e-9c27-5cc482a56716 ]] {\r\n",
       "}\r\n",
       "comp usage \"b: P \" as E5  <<(T,blue) part>> [[psysml:3563b5dd-e50a-438e-94ba-a5b38ab6df54 ]] {\r\n",
       "}\r\n",
       "comp usage \"c: P \" as E6  <<(T,blue) part>> [[psysml:61a7c4a1-1480-402d-a8df-76594b39497b ]] {\r\n",
       "}\r\n",
       "comp usage \"d \" as E7  <<(T,blue) part>> [[psysml:f3d0dfc0-0dbb-4454-830c-43cee9c0f8af ]] {\r\n",
       "}\r\n",
       "comp usage \"e \" as E8  <<(T,blue) part>> [[psysml:470ebeae-9c21-45dc-92b7-3ec0bcac92c0 ]] {\r\n",
       "}\r\n",
       "comp usage \"f \" as E9  <<(T,blue) part>> [[psysml:e3b105f8-a02a-4959-8fa9-8da786795f1e ]] {\r\n",
       "}\r\n",
       "comp usage \"g \" as E10  <<(T,blue) part>> [[psysml:0b08e64f-1d74-4a65-b189-b5a78b2f5a03 ]] {\r\n",
       "}\r\n",
       "comp def \"A\" as E11  <<(T,blue) attribute  def>> [[psysml:d2ba3396-0b46-40b3-bbf4-49972d7872ff ]] {\r\n",
       "- - attributes - -\r\n",
       "i: Integer\r\n",
       "x: A\r\n",
       "}\r\n",
       "}\r\n",
       "E5 - -:|> E2 [[psysml:b362769d-1260-4065-9b83-621f0da47e8d ]] \r\n",
       "E6 - -:|> E2 [[psysml:03080077-3284-4bc2-8ec3-31a93274162e ]] \r\n",
       "@enduml\r\n",
       "\n",
       "PlantUML version 1.2020.13(Sat Jun 13 12:26:38 UTC 2020)\n",
       "(EPL source distribution)\n",
       "Java Runtime: OpenJDK Runtime Environment\n",
       "JVM: OpenJDK 64-Bit Server VM\n",
       "Default Encoding: UTF-8\n",
       "Language: en\n",
       "Country: null\n",
       "--></g></svg>"
      ]
     },
     "execution_count": 52,
     "metadata": {},
     "output_type": "execute_result"
    }
   ],
   "source": [
    "%viz --style=\"ORTHOLINE\" --view=\"Tree\" \"MultiplicityTest\""
   ]
  },
  {
   "cell_type": "code",
   "execution_count": 53,
   "id": "fd00f9ed",
   "metadata": {
    "execution": {
     "iopub.execute_input": "2022-02-05T16:56:12.303034Z",
     "iopub.status.busy": "2022-02-05T16:56:12.302600Z",
     "iopub.status.idle": "2022-02-05T16:56:12.307482Z",
     "shell.execute_reply": "2022-02-05T16:56:12.307046Z"
    }
   },
   "outputs": [
    {
     "data": {
      "image/svg+xml": [
       "<?xml version=\"1.0\" encoding=\"UTF-8\" standalone=\"no\"?><svg xmlns=\"http://www.w3.org/2000/svg\" xmlns:xlink=\"http://www.w3.org/1999/xlink\" contentScriptType=\"application/ecmascript\" contentStyleType=\"text/css\" height=\"12px\" preserveAspectRatio=\"none\" style=\"width:12px;height:12px;\" version=\"1.1\" viewBox=\"0 0 12 12\" width=\"12px\" zoomAndPan=\"magnify\"><defs/><g><!--MD5=[97d6f38768b311333d388e66b2b27985]\n",
       "@startuml\r\n",
       "skinparam linetype ortho\r\n",
       "skinparam monochrome true\r\n",
       "skinparam classbackgroundcolor white\r\n",
       "skinparam shadowing false\r\n",
       "skinparam wrapWidth 300\r\n",
       "hide circle\r\n",
       "\r\n",
       "@enduml\r\n",
       "\n",
       "PlantUML version 1.2020.13(Sat Jun 13 12:26:38 UTC 2020)\n",
       "(EPL source distribution)\n",
       "Java Runtime: OpenJDK Runtime Environment\n",
       "JVM: OpenJDK 64-Bit Server VM\n",
       "Default Encoding: UTF-8\n",
       "Language: en\n",
       "Country: null\n",
       "--></g></svg>"
      ]
     },
     "execution_count": 53,
     "metadata": {},
     "output_type": "execute_result"
    }
   ],
   "source": [
    "%viz --style=\"ORTHOLINE\" --view=\"State\" \"MultiplicityTest\""
   ]
  },
  {
   "cell_type": "code",
   "execution_count": 54,
   "id": "d8cd1cc0",
   "metadata": {
    "execution": {
     "iopub.execute_input": "2022-02-05T16:56:12.356713Z",
     "iopub.status.busy": "2022-02-05T16:56:12.356305Z",
     "iopub.status.idle": "2022-02-05T16:56:12.384555Z",
     "shell.execute_reply": "2022-02-05T16:56:12.384192Z"
    }
   },
   "outputs": [
    {
     "data": {
      "image/svg+xml": [
       "<?xml version=\"1.0\" encoding=\"UTF-8\" standalone=\"no\"?><svg xmlns=\"http://www.w3.org/2000/svg\" xmlns:xlink=\"http://www.w3.org/1999/xlink\" contentScriptType=\"application/ecmascript\" contentStyleType=\"text/css\" height=\"115px\" preserveAspectRatio=\"none\" style=\"width:987px;height:115px;\" version=\"1.1\" viewBox=\"0 0 987 115\" width=\"987px\" zoomAndPan=\"magnify\"><defs/><g><!--MD5=[fbc87193dbaf4d95561dea2c320d4a47]\n",
       "cluster E1--><a href=\"psysml:e445ccd1-d7b4-46a5-bbe0-1ba908b830dd\" target=\"_top\" title=\"psysml:e445ccd1-d7b4-46a5-bbe0-1ba908b830dd\" xlink:actuate=\"onRequest\" xlink:href=\"psysml:e445ccd1-d7b4-46a5-bbe0-1ba908b830dd\" xlink:show=\"new\" xlink:title=\"psysml:e445ccd1-d7b4-46a5-bbe0-1ba908b830dd\" xlink:type=\"simple\"><polygon fill=\"#FFFFFF\" points=\"16,6,123,6,130,28.2969,965,28.2969,965,103,16,103,16,6\" style=\"stroke: #000000; stroke-width: 1.5;\"/><line style=\"stroke: #000000; stroke-width: 1.5;\" x1=\"16\" x2=\"130\" y1=\"28.2969\" y2=\"28.2969\"/><text fill=\"#000000\" font-family=\"sans-serif\" font-size=\"14\" font-weight=\"bold\" lengthAdjust=\"spacingAndGlyphs\" textLength=\"101\" x=\"20\" y=\"20.9951\">MultiplicityTest</text></a><!--MD5=[09b614a08d8cba4a07c9adeb5e0fee81]\n",
       "class E3--><a href=\"psysml:ec541e3b-6371-48bf-8290-c0b2a0f88f52\" target=\"_top\" title=\"psysml:ec541e3b-6371-48bf-8290-c0b2a0f88f52\" xlink:actuate=\"onRequest\" xlink:href=\"psysml:ec541e3b-6371-48bf-8290-c0b2a0f88f52\" xlink:show=\"new\" xlink:title=\"psysml:ec541e3b-6371-48bf-8290-c0b2a0f88f52\" xlink:type=\"simple\"><rect fill=\"#FFFFFF\" height=\"45.9375\" id=\"E3\" rx=\"10\" ry=\"10\" style=\"stroke: #383838; stroke-width: 1.5;\" width=\"71\" x=\"877.5\" y=\"41\"/><text fill=\"#000000\" font-family=\"sans-serif\" font-size=\"12\" font-style=\"italic\" lengthAdjust=\"spacingAndGlyphs\" textLength=\"69\" x=\"878.5\" y=\"57.1387\">«attribute»</text><text fill=\"#000000\" font-family=\"sans-serif\" font-size=\"12\" lengthAdjust=\"spacingAndGlyphs\" textLength=\"61\" x=\"880.5\" y=\"71.1074\">n: Integer</text><line style=\"stroke: #383838; stroke-width: 1.5;\" x1=\"878.5\" x2=\"947.5\" y1=\"78.9375\" y2=\"78.9375\"/></a><g id=\"E1.E11\"><a href=\"psysml:d2ba3396-0b46-40b3-bbf4-49972d7872ff\" target=\"_top\" title=\"psysml:d2ba3396-0b46-40b3-bbf4-49972d7872ff\" xlink:actuate=\"onRequest\" xlink:href=\"psysml:d2ba3396-0b46-40b3-bbf4-49972d7872ff\" xlink:show=\"new\" xlink:title=\"psysml:d2ba3396-0b46-40b3-bbf4-49972d7872ff\" xlink:type=\"simple\"><rect fill=\"#FFFFFF\" height=\"42.9375\" id=\"E11\" style=\"stroke: #383838; stroke-width: 1.5;\" width=\"104\" x=\"738\" y=\"42.5\"/><rect fill=\"#F8F8F8\" height=\"37.9375\" style=\"stroke: #383838; stroke-width: 1.5;\" width=\"104\" x=\"738\" y=\"42.5\"/><text fill=\"#000000\" font-family=\"sans-serif\" font-size=\"12\" font-style=\"italic\" lengthAdjust=\"spacingAndGlyphs\" textLength=\"97\" x=\"741.5\" y=\"58.6387\">«attribute  def»</text><text fill=\"#000000\" font-family=\"sans-serif\" font-size=\"12\" lengthAdjust=\"spacingAndGlyphs\" textLength=\"8\" x=\"786\" y=\"72.6074\">A</text></a></g><g id=\"E1.E2\"><a href=\"psysml:7d5bba99-ceb9-4796-b455-cbfdc331a9aa\" target=\"_top\" title=\"psysml:7d5bba99-ceb9-4796-b455-cbfdc331a9aa\" xlink:actuate=\"onRequest\" xlink:href=\"psysml:7d5bba99-ceb9-4796-b455-cbfdc331a9aa\" xlink:show=\"new\" xlink:title=\"psysml:7d5bba99-ceb9-4796-b455-cbfdc331a9aa\" xlink:type=\"simple\"><rect fill=\"#FFFFFF\" height=\"42.9375\" id=\"E2\" style=\"stroke: #383838; stroke-width: 1.5;\" width=\"75\" x=\"627.5\" y=\"42.5\"/><rect fill=\"#F8F8F8\" height=\"37.9375\" style=\"stroke: #383838; stroke-width: 1.5;\" width=\"75\" x=\"627.5\" y=\"42.5\"/><text fill=\"#000000\" font-family=\"sans-serif\" font-size=\"12\" font-style=\"italic\" lengthAdjust=\"spacingAndGlyphs\" textLength=\"68\" x=\"631\" y=\"58.6387\">«part  def»</text><text fill=\"#000000\" font-family=\"sans-serif\" font-size=\"12\" lengthAdjust=\"spacingAndGlyphs\" textLength=\"8\" x=\"661\" y=\"72.6074\">P</text></a></g><g id=\"E1.E4\"><a href=\"psysml:0bccd947-b2f6-485e-9c27-5cc482a56716\" target=\"_top\" title=\"psysml:0bccd947-b2f6-485e-9c27-5cc482a56716\" xlink:actuate=\"onRequest\" xlink:href=\"psysml:0bccd947-b2f6-485e-9c27-5cc482a56716\" xlink:show=\"new\" xlink:title=\"psysml:0bccd947-b2f6-485e-9c27-5cc482a56716\" xlink:type=\"simple\"><rect fill=\"#FFFFFF\" height=\"40\" id=\"E4\" rx=\"10\" ry=\"10\" style=\"stroke: #383838; stroke-width: 1.5;\" width=\"50\" x=\"542\" y=\"44\"/><rect fill=\"#F8F8F8\" height=\"23.9688\" rx=\"10\" ry=\"10\" style=\"stroke: #F8F8F8; stroke-width: 1.5;\" width=\"50\" x=\"542\" y=\"44\"/><rect fill=\"#F8F8F8\" height=\"10\" style=\"stroke: #F8F8F8; stroke-width: 1.5;\" width=\"50\" x=\"542\" y=\"57.9688\"/><rect fill=\"none\" height=\"40\" id=\"E4\" rx=\"10\" ry=\"10\" style=\"stroke: #383838; stroke-width: 1.5;\" width=\"50\" x=\"542\" y=\"44\"/><text fill=\"#000000\" font-family=\"sans-serif\" font-size=\"12\" lengthAdjust=\"spacingAndGlyphs\" textLength=\"8\" x=\"563\" y=\"60.1387\">a</text></a></g><g id=\"E1.E5\"><a href=\"psysml:3563b5dd-e50a-438e-94ba-a5b38ab6df54\" target=\"_top\" title=\"psysml:3563b5dd-e50a-438e-94ba-a5b38ab6df54\" xlink:actuate=\"onRequest\" xlink:href=\"psysml:3563b5dd-e50a-438e-94ba-a5b38ab6df54\" xlink:show=\"new\" xlink:title=\"psysml:3563b5dd-e50a-438e-94ba-a5b38ab6df54\" xlink:type=\"simple\"><rect fill=\"#FFFFFF\" height=\"40\" id=\"E5\" rx=\"10\" ry=\"10\" style=\"stroke: #383838; stroke-width: 1.5;\" width=\"50\" x=\"457\" y=\"44\"/><rect fill=\"#F8F8F8\" height=\"23.9688\" rx=\"10\" ry=\"10\" style=\"stroke: #F8F8F8; stroke-width: 1.5;\" width=\"50\" x=\"457\" y=\"44\"/><rect fill=\"#F8F8F8\" height=\"10\" style=\"stroke: #F8F8F8; stroke-width: 1.5;\" width=\"50\" x=\"457\" y=\"57.9688\"/><rect fill=\"none\" height=\"40\" id=\"E5\" rx=\"10\" ry=\"10\" style=\"stroke: #383838; stroke-width: 1.5;\" width=\"50\" x=\"457\" y=\"44\"/><text fill=\"#000000\" font-family=\"sans-serif\" font-size=\"12\" lengthAdjust=\"spacingAndGlyphs\" textLength=\"24\" x=\"470\" y=\"60.1387\">b: P</text></a></g><g id=\"E1.E6\"><a href=\"psysml:61a7c4a1-1480-402d-a8df-76594b39497b\" target=\"_top\" title=\"psysml:61a7c4a1-1480-402d-a8df-76594b39497b\" xlink:actuate=\"onRequest\" xlink:href=\"psysml:61a7c4a1-1480-402d-a8df-76594b39497b\" xlink:show=\"new\" xlink:title=\"psysml:61a7c4a1-1480-402d-a8df-76594b39497b\" xlink:type=\"simple\"><rect fill=\"#FFFFFF\" height=\"40\" id=\"E6\" rx=\"10\" ry=\"10\" style=\"stroke: #383838; stroke-width: 1.5;\" width=\"50\" x=\"372\" y=\"44\"/><rect fill=\"#F8F8F8\" height=\"23.9688\" rx=\"10\" ry=\"10\" style=\"stroke: #F8F8F8; stroke-width: 1.5;\" width=\"50\" x=\"372\" y=\"44\"/><rect fill=\"#F8F8F8\" height=\"10\" style=\"stroke: #F8F8F8; stroke-width: 1.5;\" width=\"50\" x=\"372\" y=\"57.9688\"/><rect fill=\"none\" height=\"40\" id=\"E6\" rx=\"10\" ry=\"10\" style=\"stroke: #383838; stroke-width: 1.5;\" width=\"50\" x=\"372\" y=\"44\"/><text fill=\"#000000\" font-family=\"sans-serif\" font-size=\"12\" lengthAdjust=\"spacingAndGlyphs\" textLength=\"23\" x=\"385.5\" y=\"60.1387\">c: P</text></a></g><g id=\"E1.E7\"><a href=\"psysml:f3d0dfc0-0dbb-4454-830c-43cee9c0f8af\" target=\"_top\" title=\"psysml:f3d0dfc0-0dbb-4454-830c-43cee9c0f8af\" xlink:actuate=\"onRequest\" xlink:href=\"psysml:f3d0dfc0-0dbb-4454-830c-43cee9c0f8af\" xlink:show=\"new\" xlink:title=\"psysml:f3d0dfc0-0dbb-4454-830c-43cee9c0f8af\" xlink:type=\"simple\"><rect fill=\"#FFFFFF\" height=\"40\" id=\"E7\" rx=\"10\" ry=\"10\" style=\"stroke: #383838; stroke-width: 1.5;\" width=\"50\" x=\"287\" y=\"44\"/><rect fill=\"#F8F8F8\" height=\"23.9688\" rx=\"10\" ry=\"10\" style=\"stroke: #F8F8F8; stroke-width: 1.5;\" width=\"50\" x=\"287\" y=\"44\"/><rect fill=\"#F8F8F8\" height=\"10\" style=\"stroke: #F8F8F8; stroke-width: 1.5;\" width=\"50\" x=\"287\" y=\"57.9688\"/><rect fill=\"none\" height=\"40\" id=\"E7\" rx=\"10\" ry=\"10\" style=\"stroke: #383838; stroke-width: 1.5;\" width=\"50\" x=\"287\" y=\"44\"/><text fill=\"#000000\" font-family=\"sans-serif\" font-size=\"12\" lengthAdjust=\"spacingAndGlyphs\" textLength=\"8\" x=\"308\" y=\"60.1387\">d</text></a></g><g id=\"E1.E8\"><a href=\"psysml:470ebeae-9c21-45dc-92b7-3ec0bcac92c0\" target=\"_top\" title=\"psysml:470ebeae-9c21-45dc-92b7-3ec0bcac92c0\" xlink:actuate=\"onRequest\" xlink:href=\"psysml:470ebeae-9c21-45dc-92b7-3ec0bcac92c0\" xlink:show=\"new\" xlink:title=\"psysml:470ebeae-9c21-45dc-92b7-3ec0bcac92c0\" xlink:type=\"simple\"><rect fill=\"#FFFFFF\" height=\"40\" id=\"E8\" rx=\"10\" ry=\"10\" style=\"stroke: #383838; stroke-width: 1.5;\" width=\"50\" x=\"202\" y=\"44\"/><rect fill=\"#F8F8F8\" height=\"23.9688\" rx=\"10\" ry=\"10\" style=\"stroke: #F8F8F8; stroke-width: 1.5;\" width=\"50\" x=\"202\" y=\"44\"/><rect fill=\"#F8F8F8\" height=\"10\" style=\"stroke: #F8F8F8; stroke-width: 1.5;\" width=\"50\" x=\"202\" y=\"57.9688\"/><rect fill=\"none\" height=\"40\" id=\"E8\" rx=\"10\" ry=\"10\" style=\"stroke: #383838; stroke-width: 1.5;\" width=\"50\" x=\"202\" y=\"44\"/><text fill=\"#000000\" font-family=\"sans-serif\" font-size=\"12\" lengthAdjust=\"spacingAndGlyphs\" textLength=\"8\" x=\"223\" y=\"60.1387\">e</text></a></g><g id=\"E1.E9\"><a href=\"psysml:e3b105f8-a02a-4959-8fa9-8da786795f1e\" target=\"_top\" title=\"psysml:e3b105f8-a02a-4959-8fa9-8da786795f1e\" xlink:actuate=\"onRequest\" xlink:href=\"psysml:e3b105f8-a02a-4959-8fa9-8da786795f1e\" xlink:show=\"new\" xlink:title=\"psysml:e3b105f8-a02a-4959-8fa9-8da786795f1e\" xlink:type=\"simple\"><rect fill=\"#FFFFFF\" height=\"40\" id=\"E9\" rx=\"10\" ry=\"10\" style=\"stroke: #383838; stroke-width: 1.5;\" width=\"50\" x=\"117\" y=\"44\"/><rect fill=\"#F8F8F8\" height=\"23.9688\" rx=\"10\" ry=\"10\" style=\"stroke: #F8F8F8; stroke-width: 1.5;\" width=\"50\" x=\"117\" y=\"44\"/><rect fill=\"#F8F8F8\" height=\"10\" style=\"stroke: #F8F8F8; stroke-width: 1.5;\" width=\"50\" x=\"117\" y=\"57.9688\"/><rect fill=\"none\" height=\"40\" id=\"E9\" rx=\"10\" ry=\"10\" style=\"stroke: #383838; stroke-width: 1.5;\" width=\"50\" x=\"117\" y=\"44\"/><text fill=\"#000000\" font-family=\"sans-serif\" font-size=\"12\" lengthAdjust=\"spacingAndGlyphs\" textLength=\"4\" x=\"140\" y=\"60.1387\">f</text></a></g><g id=\"E1.E10\"><a href=\"psysml:0b08e64f-1d74-4a65-b189-b5a78b2f5a03\" target=\"_top\" title=\"psysml:0b08e64f-1d74-4a65-b189-b5a78b2f5a03\" xlink:actuate=\"onRequest\" xlink:href=\"psysml:0b08e64f-1d74-4a65-b189-b5a78b2f5a03\" xlink:show=\"new\" xlink:title=\"psysml:0b08e64f-1d74-4a65-b189-b5a78b2f5a03\" xlink:type=\"simple\"><rect fill=\"#FFFFFF\" height=\"40\" id=\"E10\" rx=\"10\" ry=\"10\" style=\"stroke: #383838; stroke-width: 1.5;\" width=\"50\" x=\"32\" y=\"44\"/><rect fill=\"#F8F8F8\" height=\"23.9688\" rx=\"10\" ry=\"10\" style=\"stroke: #F8F8F8; stroke-width: 1.5;\" width=\"50\" x=\"32\" y=\"44\"/><rect fill=\"#F8F8F8\" height=\"10\" style=\"stroke: #F8F8F8; stroke-width: 1.5;\" width=\"50\" x=\"32\" y=\"57.9688\"/><rect fill=\"none\" height=\"40\" id=\"E10\" rx=\"10\" ry=\"10\" style=\"stroke: #383838; stroke-width: 1.5;\" width=\"50\" x=\"32\" y=\"44\"/><text fill=\"#000000\" font-family=\"sans-serif\" font-size=\"12\" lengthAdjust=\"spacingAndGlyphs\" textLength=\"8\" x=\"53\" y=\"60.1387\">g</text></a></g><!--MD5=[f89c4589db27f447825c68ebe52beed8]\n",
       "@startuml\r\n",
       "skinparam ranksep 10\r\n",
       "skinparam rectangle {\r\n",
       " backgroundColor<<block>> LightGreen\r\n",
       "}\r\n",
       "skinparam linetype ortho\r\n",
       "skinparam monochrome true\r\n",
       "skinparam classbackgroundcolor white\r\n",
       "skinparam shadowing false\r\n",
       "skinparam wrapWidth 300\r\n",
       "hide circle\r\n",
       "\r\n",
       "package \"MultiplicityTest\" as E1  [[psysml:e445ccd1-d7b4-46a5-bbe0-1ba908b830dd ]]  {\r\n",
       "rec def \"P\" as E2  <<(T,blue) part  def>> [[psysml:7d5bba99-ceb9-4796-b455-cbfdc331a9aa ]] {\r\n",
       "}\r\n",
       "comp usage \"n: Integer \" as E3  <<(T,blue) attribute>> [[psysml:ec541e3b-6371-48bf-8290-c0b2a0f88f52 ]] {\r\n",
       "}\r\n",
       "rec usage \"a\" as E4  [[psysml:0bccd947-b2f6-485e-9c27-5cc482a56716 ]] {\r\n",
       "}\r\n",
       "rec usage \"b: P\" as E5  [[psysml:3563b5dd-e50a-438e-94ba-a5b38ab6df54 ]] {\r\n",
       "}\r\n",
       "rec usage \"c: P\" as E6  [[psysml:61a7c4a1-1480-402d-a8df-76594b39497b ]] {\r\n",
       "}\r\n",
       "rec usage \"d\" as E7  [[psysml:f3d0dfc0-0dbb-4454-830c-43cee9c0f8af ]] {\r\n",
       "}\r\n",
       "rec usage \"e\" as E8  [[psysml:470ebeae-9c21-45dc-92b7-3ec0bcac92c0 ]] {\r\n",
       "}\r\n",
       "rec usage \"f\" as E9  [[psysml:e3b105f8-a02a-4959-8fa9-8da786795f1e ]] {\r\n",
       "}\r\n",
       "rec usage \"g\" as E10  [[psysml:0b08e64f-1d74-4a65-b189-b5a78b2f5a03 ]] {\r\n",
       "}\r\n",
       "def \"A\" as E11  <<(T,blue) attribute  def>> [[psysml:d2ba3396-0b46-40b3-bbf4-49972d7872ff ]] \r\n",
       "}\r\n",
       "@enduml\r\n",
       "\n",
       "PlantUML version 1.2020.13(Sat Jun 13 12:26:38 UTC 2020)\n",
       "(EPL source distribution)\n",
       "Java Runtime: OpenJDK Runtime Environment\n",
       "JVM: OpenJDK 64-Bit Server VM\n",
       "Default Encoding: UTF-8\n",
       "Language: en\n",
       "Country: null\n",
       "--></g></svg>"
      ]
     },
     "execution_count": 54,
     "metadata": {},
     "output_type": "execute_result"
    }
   ],
   "source": [
    "%viz --style=\"ORTHOLINE\" --view=\"Interconnection\" \"MultiplicityTest\""
   ]
  },
  {
   "cell_type": "code",
   "execution_count": 55,
   "id": "982d08c8",
   "metadata": {
    "execution": {
     "iopub.execute_input": "2022-02-05T16:56:12.434047Z",
     "iopub.status.busy": "2022-02-05T16:56:12.433630Z",
     "iopub.status.idle": "2022-02-05T16:56:12.438108Z",
     "shell.execute_reply": "2022-02-05T16:56:12.437768Z"
    }
   },
   "outputs": [
    {
     "data": {
      "image/svg+xml": [
       "<?xml version=\"1.0\" encoding=\"UTF-8\" standalone=\"no\"?><svg xmlns=\"http://www.w3.org/2000/svg\" xmlns:xlink=\"http://www.w3.org/1999/xlink\" contentScriptType=\"application/ecmascript\" contentStyleType=\"text/css\" height=\"12px\" preserveAspectRatio=\"none\" style=\"width:12px;height:12px;\" version=\"1.1\" viewBox=\"0 0 12 12\" width=\"12px\" zoomAndPan=\"magnify\"><defs/><g><!--MD5=[72934c63077099a26744516a776b4749]\n",
       "@startuml\r\n",
       "skinparam ranksep 8\r\n",
       "skinparam linetype ortho\r\n",
       "skinparam monochrome true\r\n",
       "skinparam classbackgroundcolor white\r\n",
       "skinparam shadowing false\r\n",
       "skinparam wrapWidth 300\r\n",
       "hide circle\r\n",
       "\r\n",
       "@enduml\r\n",
       "\n",
       "PlantUML version 1.2020.13(Sat Jun 13 12:26:38 UTC 2020)\n",
       "(EPL source distribution)\n",
       "Java Runtime: OpenJDK Runtime Environment\n",
       "JVM: OpenJDK 64-Bit Server VM\n",
       "Default Encoding: UTF-8\n",
       "Language: en\n",
       "Country: null\n",
       "--></g></svg>"
      ]
     },
     "execution_count": 55,
     "metadata": {},
     "output_type": "execute_result"
    }
   ],
   "source": [
    "%viz --style=\"ORTHOLINE\" --view=\"Action\" \"MultiplicityTest\""
   ]
  },
  {
   "cell_type": "code",
   "execution_count": 56,
   "id": "ac7cab88",
   "metadata": {
    "execution": {
     "iopub.execute_input": "2022-02-05T16:56:12.487972Z",
     "iopub.status.busy": "2022-02-05T16:56:12.487562Z",
     "iopub.status.idle": "2022-02-05T16:56:12.492245Z",
     "shell.execute_reply": "2022-02-05T16:56:12.492566Z"
    }
   },
   "outputs": [
    {
     "data": {
      "image/svg+xml": [
       "<?xml version=\"1.0\" encoding=\"UTF-8\" standalone=\"no\"?><svg xmlns=\"http://www.w3.org/2000/svg\" xmlns:xlink=\"http://www.w3.org/1999/xlink\" contentScriptType=\"application/ecmascript\" contentStyleType=\"text/css\" height=\"12px\" preserveAspectRatio=\"none\" style=\"width:12px;height:12px;\" version=\"1.1\" viewBox=\"0 0 12 12\" width=\"12px\" zoomAndPan=\"magnify\"><defs/><g><!--MD5=[30fc1de5121c5abddedd55b44417fde8]\n",
       "@startuml\r\n",
       "skinparam roundcorner 20\r\n",
       "skinparam BoxPadding 20\r\n",
       "skinparam SequenceBoxBackgroundColor #white\r\n",
       "skinparam style strictuml\r\n",
       "skinparam maxMessageSize 100\r\n",
       "skinparam linetype ortho\r\n",
       "skinparam monochrome true\r\n",
       "skinparam classbackgroundcolor white\r\n",
       "skinparam shadowing false\r\n",
       "skinparam wrapWidth 300\r\n",
       "hide circle\r\n",
       "\r\n",
       "@enduml\r\n",
       "\n",
       "PlantUML version 1.2020.13(Sat Jun 13 12:26:38 UTC 2020)\n",
       "(EPL source distribution)\n",
       "Java Runtime: OpenJDK Runtime Environment\n",
       "JVM: OpenJDK 64-Bit Server VM\n",
       "Default Encoding: UTF-8\n",
       "Language: en\n",
       "Country: null\n",
       "--></g></svg>"
      ]
     },
     "execution_count": 56,
     "metadata": {},
     "output_type": "execute_result"
    }
   ],
   "source": [
    "%viz --style=\"ORTHOLINE\" --view=\"Sequence\" \"MultiplicityTest\""
   ]
  },
  {
   "cell_type": "code",
   "execution_count": 57,
   "id": "f738583d",
   "metadata": {
    "execution": {
     "iopub.execute_input": "2022-02-05T16:56:12.542428Z",
     "iopub.status.busy": "2022-02-05T16:56:12.542017Z",
     "iopub.status.idle": "2022-02-05T16:56:12.602487Z",
     "shell.execute_reply": "2022-02-05T16:56:12.601071Z"
    }
   },
   "outputs": [
    {
     "data": {
      "image/svg+xml": [
       "<?xml version=\"1.0\" encoding=\"UTF-8\" standalone=\"no\"?><svg xmlns=\"http://www.w3.org/2000/svg\" xmlns:xlink=\"http://www.w3.org/1999/xlink\" contentScriptType=\"application/ecmascript\" contentStyleType=\"text/css\" height=\"263px\" preserveAspectRatio=\"none\" style=\"width:816px;height:263px;\" version=\"1.1\" viewBox=\"0 0 816 263\" width=\"816px\" zoomAndPan=\"magnify\"><defs/><g><!--MD5=[fbc87193dbaf4d95561dea2c320d4a47]\n",
       "cluster E1--><a href=\"psysml:e445ccd1-d7b4-46a5-bbe0-1ba908b830dd\" target=\"_top\" title=\"psysml:e445ccd1-d7b4-46a5-bbe0-1ba908b830dd\" xlink:actuate=\"onRequest\" xlink:href=\"psysml:e445ccd1-d7b4-46a5-bbe0-1ba908b830dd\" xlink:show=\"new\" xlink:title=\"psysml:e445ccd1-d7b4-46a5-bbe0-1ba908b830dd\" xlink:type=\"simple\"><polygon fill=\"#FFFFFF\" points=\"16,6,123,6,130,28.2969,794,28.2969,794,251,16,251,16,6\" style=\"stroke: #000000; stroke-width: 1.5;\"/><line style=\"stroke: #000000; stroke-width: 1.5;\" x1=\"16\" x2=\"130\" y1=\"28.2969\" y2=\"28.2969\"/><text fill=\"#000000\" font-family=\"sans-serif\" font-size=\"14\" font-weight=\"bold\" lengthAdjust=\"spacingAndGlyphs\" textLength=\"101\" x=\"20\" y=\"20.9951\">MultiplicityTest</text></a><!--MD5=[b4997ac47864f28c2f74865a473b2911]\n",
       "class E2--><a href=\"psysml:7d5bba99-ceb9-4796-b455-cbfdc331a9aa\" target=\"_top\" title=\"psysml:7d5bba99-ceb9-4796-b455-cbfdc331a9aa\" xlink:actuate=\"onRequest\" xlink:href=\"psysml:7d5bba99-ceb9-4796-b455-cbfdc331a9aa\" xlink:show=\"new\" xlink:title=\"psysml:7d5bba99-ceb9-4796-b455-cbfdc331a9aa\" xlink:type=\"simple\"><rect fill=\"#FFFFFF\" height=\"45.9375\" id=\"E2\" style=\"stroke: #383838; stroke-width: 1.5;\" width=\"70\" x=\"499\" y=\"189\"/><text fill=\"#000000\" font-family=\"sans-serif\" font-size=\"12\" font-style=\"italic\" lengthAdjust=\"spacingAndGlyphs\" textLength=\"68\" x=\"500\" y=\"205.1387\">«part  def»</text><text fill=\"#000000\" font-family=\"sans-serif\" font-size=\"12\" lengthAdjust=\"spacingAndGlyphs\" textLength=\"8\" x=\"530\" y=\"219.1074\">P</text><line style=\"stroke: #383838; stroke-width: 1.5;\" x1=\"500\" x2=\"568\" y1=\"226.9375\" y2=\"226.9375\"/></a><!--MD5=[09b614a08d8cba4a07c9adeb5e0fee81]\n",
       "class E3--><a href=\"psysml:ec541e3b-6371-48bf-8290-c0b2a0f88f52\" target=\"_top\" title=\"psysml:ec541e3b-6371-48bf-8290-c0b2a0f88f52\" xlink:actuate=\"onRequest\" xlink:href=\"psysml:ec541e3b-6371-48bf-8290-c0b2a0f88f52\" xlink:show=\"new\" xlink:title=\"psysml:ec541e3b-6371-48bf-8290-c0b2a0f88f52\" xlink:type=\"simple\"><rect fill=\"#FFFFFF\" height=\"45.9375\" id=\"E3\" rx=\"10\" ry=\"10\" style=\"stroke: #383838; stroke-width: 1.5;\" width=\"71\" x=\"706.5\" y=\"62\"/><text fill=\"#000000\" font-family=\"sans-serif\" font-size=\"12\" font-style=\"italic\" lengthAdjust=\"spacingAndGlyphs\" textLength=\"69\" x=\"707.5\" y=\"78.1387\">«attribute»</text><text fill=\"#000000\" font-family=\"sans-serif\" font-size=\"12\" lengthAdjust=\"spacingAndGlyphs\" textLength=\"61\" x=\"709.5\" y=\"92.1074\">n: Integer</text><line style=\"stroke: #383838; stroke-width: 1.5;\" x1=\"707.5\" x2=\"776.5\" y1=\"99.9375\" y2=\"99.9375\"/></a><!--MD5=[ebbe1d658d1005bcc118a6aa81145e00]\n",
       "class E4--><a href=\"psysml:0bccd947-b2f6-485e-9c27-5cc482a56716\" target=\"_top\" title=\"psysml:0bccd947-b2f6-485e-9c27-5cc482a56716\" xlink:actuate=\"onRequest\" xlink:href=\"psysml:0bccd947-b2f6-485e-9c27-5cc482a56716\" xlink:show=\"new\" xlink:title=\"psysml:0bccd947-b2f6-485e-9c27-5cc482a56716\" xlink:type=\"simple\"><rect fill=\"#FFFFFF\" height=\"45.9375\" id=\"E4\" rx=\"10\" ry=\"10\" style=\"stroke: #383838; stroke-width: 1.5;\" width=\"42\" x=\"629\" y=\"62\"/><text fill=\"#000000\" font-family=\"sans-serif\" font-size=\"12\" font-style=\"italic\" lengthAdjust=\"spacingAndGlyphs\" textLength=\"40\" x=\"630\" y=\"78.1387\">«part»</text><text fill=\"#000000\" font-family=\"sans-serif\" font-size=\"12\" lengthAdjust=\"spacingAndGlyphs\" textLength=\"8\" x=\"644\" y=\"92.1074\">a</text><line style=\"stroke: #383838; stroke-width: 1.5;\" x1=\"630\" x2=\"670\" y1=\"99.9375\" y2=\"99.9375\"/></a><!--MD5=[270fce915f116d4de14055a7c1d9a0f3]\n",
       "class E5--><a href=\"psysml:3563b5dd-e50a-438e-94ba-a5b38ab6df54\" target=\"_top\" title=\"psysml:3563b5dd-e50a-438e-94ba-a5b38ab6df54\" xlink:actuate=\"onRequest\" xlink:href=\"psysml:3563b5dd-e50a-438e-94ba-a5b38ab6df54\" xlink:show=\"new\" xlink:title=\"psysml:3563b5dd-e50a-438e-94ba-a5b38ab6df54\" xlink:type=\"simple\"><rect fill=\"#FFFFFF\" height=\"45.9375\" id=\"E5\" rx=\"10\" ry=\"10\" style=\"stroke: #383838; stroke-width: 1.5;\" width=\"42\" x=\"552\" y=\"62\"/><text fill=\"#000000\" font-family=\"sans-serif\" font-size=\"12\" font-style=\"italic\" lengthAdjust=\"spacingAndGlyphs\" textLength=\"40\" x=\"553\" y=\"78.1387\">«part»</text><text fill=\"#000000\" font-family=\"sans-serif\" font-size=\"12\" lengthAdjust=\"spacingAndGlyphs\" textLength=\"24\" x=\"559\" y=\"92.1074\">b: P</text><line style=\"stroke: #383838; stroke-width: 1.5;\" x1=\"553\" x2=\"593\" y1=\"99.9375\" y2=\"99.9375\"/></a><!--MD5=[60a26617385b1d2d0262a64233df1f8d]\n",
       "class E6--><a href=\"psysml:61a7c4a1-1480-402d-a8df-76594b39497b\" target=\"_top\" title=\"psysml:61a7c4a1-1480-402d-a8df-76594b39497b\" xlink:actuate=\"onRequest\" xlink:href=\"psysml:61a7c4a1-1480-402d-a8df-76594b39497b\" xlink:show=\"new\" xlink:title=\"psysml:61a7c4a1-1480-402d-a8df-76594b39497b\" xlink:type=\"simple\"><rect fill=\"#FFFFFF\" height=\"45.9375\" id=\"E6\" rx=\"10\" ry=\"10\" style=\"stroke: #383838; stroke-width: 1.5;\" width=\"42\" x=\"475\" y=\"62\"/><text fill=\"#000000\" font-family=\"sans-serif\" font-size=\"12\" font-style=\"italic\" lengthAdjust=\"spacingAndGlyphs\" textLength=\"40\" x=\"476\" y=\"78.1387\">«part»</text><text fill=\"#000000\" font-family=\"sans-serif\" font-size=\"12\" lengthAdjust=\"spacingAndGlyphs\" textLength=\"23\" x=\"482.5\" y=\"92.1074\">c: P</text><line style=\"stroke: #383838; stroke-width: 1.5;\" x1=\"476\" x2=\"516\" y1=\"99.9375\" y2=\"99.9375\"/></a><!--MD5=[2156ba9850f5573cc1fc38a6a4b2f02b]\n",
       "class E7--><a href=\"psysml:f3d0dfc0-0dbb-4454-830c-43cee9c0f8af\" target=\"_top\" title=\"psysml:f3d0dfc0-0dbb-4454-830c-43cee9c0f8af\" xlink:actuate=\"onRequest\" xlink:href=\"psysml:f3d0dfc0-0dbb-4454-830c-43cee9c0f8af\" xlink:show=\"new\" xlink:title=\"psysml:f3d0dfc0-0dbb-4454-830c-43cee9c0f8af\" xlink:type=\"simple\"><rect fill=\"#FFFFFF\" height=\"45.9375\" id=\"E7\" rx=\"10\" ry=\"10\" style=\"stroke: #383838; stroke-width: 1.5;\" width=\"42\" x=\"398\" y=\"62\"/><text fill=\"#000000\" font-family=\"sans-serif\" font-size=\"12\" font-style=\"italic\" lengthAdjust=\"spacingAndGlyphs\" textLength=\"40\" x=\"399\" y=\"78.1387\">«part»</text><text fill=\"#000000\" font-family=\"sans-serif\" font-size=\"12\" lengthAdjust=\"spacingAndGlyphs\" textLength=\"8\" x=\"413\" y=\"92.1074\">d</text><line style=\"stroke: #383838; stroke-width: 1.5;\" x1=\"399\" x2=\"439\" y1=\"99.9375\" y2=\"99.9375\"/></a><!--MD5=[b9389687b975829384b498ac4b7476b2]\n",
       "class E8--><a href=\"psysml:470ebeae-9c21-45dc-92b7-3ec0bcac92c0\" target=\"_top\" title=\"psysml:470ebeae-9c21-45dc-92b7-3ec0bcac92c0\" xlink:actuate=\"onRequest\" xlink:href=\"psysml:470ebeae-9c21-45dc-92b7-3ec0bcac92c0\" xlink:show=\"new\" xlink:title=\"psysml:470ebeae-9c21-45dc-92b7-3ec0bcac92c0\" xlink:type=\"simple\"><rect fill=\"#FFFFFF\" height=\"45.9375\" id=\"E8\" rx=\"10\" ry=\"10\" style=\"stroke: #383838; stroke-width: 1.5;\" width=\"42\" x=\"321\" y=\"62\"/><text fill=\"#000000\" font-family=\"sans-serif\" font-size=\"12\" font-style=\"italic\" lengthAdjust=\"spacingAndGlyphs\" textLength=\"40\" x=\"322\" y=\"78.1387\">«part»</text><text fill=\"#000000\" font-family=\"sans-serif\" font-size=\"12\" lengthAdjust=\"spacingAndGlyphs\" textLength=\"8\" x=\"336\" y=\"92.1074\">e</text><line style=\"stroke: #383838; stroke-width: 1.5;\" x1=\"322\" x2=\"362\" y1=\"99.9375\" y2=\"99.9375\"/></a><!--MD5=[fd4143e9d270a159db93a4ea2a975926]\n",
       "class E9--><a href=\"psysml:e3b105f8-a02a-4959-8fa9-8da786795f1e\" target=\"_top\" title=\"psysml:e3b105f8-a02a-4959-8fa9-8da786795f1e\" xlink:actuate=\"onRequest\" xlink:href=\"psysml:e3b105f8-a02a-4959-8fa9-8da786795f1e\" xlink:show=\"new\" xlink:title=\"psysml:e3b105f8-a02a-4959-8fa9-8da786795f1e\" xlink:type=\"simple\"><rect fill=\"#FFFFFF\" height=\"45.9375\" id=\"E9\" rx=\"10\" ry=\"10\" style=\"stroke: #383838; stroke-width: 1.5;\" width=\"42\" x=\"244\" y=\"62\"/><text fill=\"#000000\" font-family=\"sans-serif\" font-size=\"12\" font-style=\"italic\" lengthAdjust=\"spacingAndGlyphs\" textLength=\"40\" x=\"245\" y=\"78.1387\">«part»</text><text fill=\"#000000\" font-family=\"sans-serif\" font-size=\"12\" lengthAdjust=\"spacingAndGlyphs\" textLength=\"4\" x=\"261\" y=\"92.1074\">f</text><line style=\"stroke: #383838; stroke-width: 1.5;\" x1=\"245\" x2=\"285\" y1=\"99.9375\" y2=\"99.9375\"/></a><!--MD5=[96f4274e9e20536e775497830990834d]\n",
       "class E10--><a href=\"psysml:0b08e64f-1d74-4a65-b189-b5a78b2f5a03\" target=\"_top\" title=\"psysml:0b08e64f-1d74-4a65-b189-b5a78b2f5a03\" xlink:actuate=\"onRequest\" xlink:href=\"psysml:0b08e64f-1d74-4a65-b189-b5a78b2f5a03\" xlink:show=\"new\" xlink:title=\"psysml:0b08e64f-1d74-4a65-b189-b5a78b2f5a03\" xlink:type=\"simple\"><rect fill=\"#FFFFFF\" height=\"45.9375\" id=\"E10\" rx=\"10\" ry=\"10\" style=\"stroke: #383838; stroke-width: 1.5;\" width=\"42\" x=\"167\" y=\"62\"/><text fill=\"#000000\" font-family=\"sans-serif\" font-size=\"12\" font-style=\"italic\" lengthAdjust=\"spacingAndGlyphs\" textLength=\"40\" x=\"168\" y=\"78.1387\">«part»</text><text fill=\"#000000\" font-family=\"sans-serif\" font-size=\"12\" lengthAdjust=\"spacingAndGlyphs\" textLength=\"8\" x=\"182\" y=\"92.1074\">g</text><line style=\"stroke: #383838; stroke-width: 1.5;\" x1=\"168\" x2=\"208\" y1=\"99.9375\" y2=\"99.9375\"/></a><!--MD5=[1dd1bfd58a279cf63c5f349dbc8fc6a1]\n",
       "class E11--><a href=\"psysml:d2ba3396-0b46-40b3-bbf4-49972d7872ff\" target=\"_top\" title=\"psysml:d2ba3396-0b46-40b3-bbf4-49972d7872ff\" xlink:actuate=\"onRequest\" xlink:href=\"psysml:d2ba3396-0b46-40b3-bbf4-49972d7872ff\" xlink:show=\"new\" xlink:title=\"psysml:d2ba3396-0b46-40b3-bbf4-49972d7872ff\" xlink:type=\"simple\"><rect fill=\"#FFFFFF\" height=\"88.3516\" id=\"E11\" style=\"stroke: #383838; stroke-width: 1.5;\" width=\"99\" x=\"32.5\" y=\"41\"/><text fill=\"#000000\" font-family=\"sans-serif\" font-size=\"12\" font-style=\"italic\" lengthAdjust=\"spacingAndGlyphs\" textLength=\"97\" x=\"33.5\" y=\"57.1387\">«attribute  def»</text><text fill=\"#000000\" font-family=\"sans-serif\" font-size=\"12\" lengthAdjust=\"spacingAndGlyphs\" textLength=\"8\" x=\"78\" y=\"71.1074\">A</text><line style=\"stroke: #383838; stroke-width: 1.5;\" x1=\"33.5\" x2=\"130.5\" y1=\"78.9375\" y2=\"78.9375\"/><text fill=\"#000000\" font-family=\"sans-serif\" font-size=\"11\" lengthAdjust=\"spacingAndGlyphs\" textLength=\"51\" x=\"38.5\" y=\"109.9526\">i: Integer</text><text fill=\"#000000\" font-family=\"sans-serif\" font-size=\"11\" lengthAdjust=\"spacingAndGlyphs\" textLength=\"21\" x=\"38.5\" y=\"122.7573\">x: A</text><line style=\"stroke: #383838; stroke-width: 1.0;\" x1=\"33.5\" x2=\"54.5\" y1=\"93.3398\" y2=\"93.3398\"/><text fill=\"#000000\" font-family=\"sans-serif\" font-size=\"11\" lengthAdjust=\"spacingAndGlyphs\" textLength=\"55\" x=\"54.5\" y=\"96.6479\">attributes</text><line style=\"stroke: #383838; stroke-width: 1.0;\" x1=\"109.5\" x2=\"130.5\" y1=\"93.3398\" y2=\"93.3398\"/></a><!--MD5=[15ebcb19ae302d9b601edb458606d402]\n",
       "link E5 to E2--><a href=\"psysml:b362769d-1260-4065-9b83-621f0da47e8d\" target=\"_top\" title=\"psysml:b362769d-1260-4065-9b83-621f0da47e8d\" xlink:actuate=\"onRequest\" xlink:href=\"psysml:b362769d-1260-4065-9b83-621f0da47e8d\" xlink:show=\"new\" xlink:title=\"psysml:b362769d-1260-4065-9b83-621f0da47e8d\" xlink:type=\"simple\"><path d=\"M560.5,108.29 C560.5,108.29 560.5,168.85 560.5,168.85 \" fill=\"none\" id=\"E5-&gt;E2\" style=\"stroke: #383838; stroke-width: 1.0;\"/><polygon fill=\"#FFFFFF\" points=\"560.5,188.85,553.5,169.85,567.5,169.85,560.5,188.85\" style=\"stroke: #383838; stroke-width: 1.0;\"/><ellipse cx=\"555.5\" cy=\"164.15\" fill=\"#383838\" rx=\"2\" ry=\"2\" style=\"stroke: #383838; stroke-width: 1.0;\"/><ellipse cx=\"565.5\" cy=\"164.15\" fill=\"#383838\" rx=\"2\" ry=\"2\" style=\"stroke: #383838; stroke-width: 1.0;\"/></a><!--MD5=[2351f337d6de0f557b50152ba70847b5]\n",
       "link E6 to E2--><a href=\"psysml:03080077-3284-4bc2-8ec3-31a93274162e\" target=\"_top\" title=\"psysml:03080077-3284-4bc2-8ec3-31a93274162e\" xlink:actuate=\"onRequest\" xlink:href=\"psysml:03080077-3284-4bc2-8ec3-31a93274162e\" xlink:show=\"new\" xlink:title=\"psysml:03080077-3284-4bc2-8ec3-31a93274162e\" xlink:type=\"simple\"><path d=\"M508,108.29 C508,108.29 508,168.85 508,168.85 \" fill=\"none\" id=\"E6-&gt;E2\" style=\"stroke: #383838; stroke-width: 1.0;\"/><polygon fill=\"#FFFFFF\" points=\"508,188.85,501,169.85,515,169.85,508,188.85\" style=\"stroke: #383838; stroke-width: 1.0;\"/><ellipse cx=\"503\" cy=\"164.15\" fill=\"#383838\" rx=\"2\" ry=\"2\" style=\"stroke: #383838; stroke-width: 1.0;\"/><ellipse cx=\"513\" cy=\"164.15\" fill=\"#383838\" rx=\"2\" ry=\"2\" style=\"stroke: #383838; stroke-width: 1.0;\"/></a><!--MD5=[1c22a46442a8c6020f7a35fe5a3ce22d]\n",
       "@startuml\r\n",
       "skinparam linetype ortho\r\n",
       "skinparam monochrome true\r\n",
       "skinparam classbackgroundcolor white\r\n",
       "skinparam shadowing false\r\n",
       "skinparam wrapWidth 300\r\n",
       "hide circle\r\n",
       "\r\n",
       "package \"MultiplicityTest\" as E1  [[psysml:e445ccd1-d7b4-46a5-bbe0-1ba908b830dd ]]  {\r\n",
       "comp def \"P\" as E2  <<(T,blue) part  def>> [[psysml:7d5bba99-ceb9-4796-b455-cbfdc331a9aa ]] {\r\n",
       "}\r\n",
       "comp usage \"n: Integer \" as E3  <<(T,blue) attribute>> [[psysml:ec541e3b-6371-48bf-8290-c0b2a0f88f52 ]] {\r\n",
       "}\r\n",
       "comp usage \"a \" as E4  <<(T,blue) part>> [[psysml:0bccd947-b2f6-485e-9c27-5cc482a56716 ]] {\r\n",
       "}\r\n",
       "comp usage \"b: P \" as E5  <<(T,blue) part>> [[psysml:3563b5dd-e50a-438e-94ba-a5b38ab6df54 ]] {\r\n",
       "}\r\n",
       "comp usage \"c: P \" as E6  <<(T,blue) part>> [[psysml:61a7c4a1-1480-402d-a8df-76594b39497b ]] {\r\n",
       "}\r\n",
       "comp usage \"d \" as E7  <<(T,blue) part>> [[psysml:f3d0dfc0-0dbb-4454-830c-43cee9c0f8af ]] {\r\n",
       "}\r\n",
       "comp usage \"e \" as E8  <<(T,blue) part>> [[psysml:470ebeae-9c21-45dc-92b7-3ec0bcac92c0 ]] {\r\n",
       "}\r\n",
       "comp usage \"f \" as E9  <<(T,blue) part>> [[psysml:e3b105f8-a02a-4959-8fa9-8da786795f1e ]] {\r\n",
       "}\r\n",
       "comp usage \"g \" as E10  <<(T,blue) part>> [[psysml:0b08e64f-1d74-4a65-b189-b5a78b2f5a03 ]] {\r\n",
       "}\r\n",
       "comp def \"A\" as E11  <<(T,blue) attribute  def>> [[psysml:d2ba3396-0b46-40b3-bbf4-49972d7872ff ]] {\r\n",
       "- - attributes - -\r\n",
       "i: Integer\r\n",
       "x: A\r\n",
       "}\r\n",
       "}\r\n",
       "E5 - -:|> E2 [[psysml:b362769d-1260-4065-9b83-621f0da47e8d ]] \r\n",
       "E6 - -:|> E2 [[psysml:03080077-3284-4bc2-8ec3-31a93274162e ]] \r\n",
       "@enduml\r\n",
       "\n",
       "PlantUML version 1.2020.13(Sat Jun 13 12:26:38 UTC 2020)\n",
       "(EPL source distribution)\n",
       "Java Runtime: OpenJDK Runtime Environment\n",
       "JVM: OpenJDK 64-Bit Server VM\n",
       "Default Encoding: UTF-8\n",
       "Language: en\n",
       "Country: null\n",
       "--></g></svg>"
      ]
     },
     "execution_count": 57,
     "metadata": {},
     "output_type": "execute_result"
    }
   ],
   "source": [
    "%viz --style=\"ORTHOLINE\" --view=\"MIXED\" \"MultiplicityTest\""
   ]
  }
 ],
 "metadata": {
  "kernelspec": {
   "display_name": "SysML",
   "language": "sysml",
   "name": "sysml"
  },
  "language_info": {
   "codemirror_mode": "sysml",
   "file_extension": ".sysml",
   "mimetype": "text/x-sysml",
   "name": "SysML",
   "pygments_lexer": "java",
   "version": "1.0.0"
  }
 },
 "nbformat": 4,
 "nbformat_minor": 5
}
