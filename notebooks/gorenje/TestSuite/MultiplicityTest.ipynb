{
 "cells": [
  {
   "cell_type": "markdown",
   "id": "7bd3fca6",
   "metadata": {},
   "source": [
    "# SysML v2 Test Suite\n",
    "\n",
    "This can notebook can be cleared using menu `Edit --> Clear All Outputs` and then all cells can be\n",
    "run using menu `Run --> Run All Cells`.\n",
    "\n",
    "**WARNING**: This file is generated, all modifications here will be ignored.\n"
   ]
  },
  {
   "cell_type": "markdown",
   "id": "b6b5dc48",
   "metadata": {},
   "source": [
    "## File: ../../sysml/src/examples/Simple Tests/MultiplicityTest.sysml"
   ]
  },
  {
   "cell_type": "code",
   "execution_count": 1,
   "id": "3f9a3d82",
   "metadata": {
    "execution": {
     "iopub.execute_input": "2021-08-04T06:29:48.628501Z",
     "iopub.status.busy": "2021-08-04T06:29:48.628032Z",
     "iopub.status.idle": "2021-08-04T06:29:48.837556Z",
     "shell.execute_reply": "2021-08-04T06:29:48.837892Z"
    }
   },
   "outputs": [
    {
     "data": {
      "text/plain": [
       "Package MultiplicityTest (21a19b0b-8b8b-499a-a9ef-f7098615e2f2)\n"
      ]
     },
     "execution_count": 1,
     "metadata": {},
     "output_type": "execute_result"
    }
   ],
   "source": [
    "package MultiplicityTest {\n",
    "\t\n",
    "\tpart def P;\n",
    "\tattribute n : ScalarValues::Integer = 5;\n",
    "\t\n",
    "\tpart a[1];\n",
    "\tpart b[0..2] : P;\n",
    "\tpart c : P[2..*];\n",
    "\tpart d[*];\n",
    "\t\n",
    "\tpart e[n];\n",
    "\tpart f[n..*];\n",
    "\tpart g[1..n];\n",
    "\n",
    "\tattribute def A {\n",
    "\t\tattribute i :ScalarValues::Integer;\n",
    "\t\tattribute x : A[i];\n",
    "\t}\n",
    "}"
   ]
  },
  {
   "cell_type": "code",
   "execution_count": 2,
   "id": "44f2da36",
   "metadata": {
    "execution": {
     "iopub.execute_input": "2021-08-04T06:29:48.888735Z",
     "iopub.status.busy": "2021-08-04T06:29:48.888294Z",
     "iopub.status.idle": "2021-08-04T06:29:49.318668Z",
     "shell.execute_reply": "2021-08-04T06:29:49.317813Z"
    }
   },
   "outputs": [
    {
     "data": {
      "image/svg+xml": [
       "<?xml version=\"1.0\" encoding=\"UTF-8\" standalone=\"no\"?><svg xmlns=\"http://www.w3.org/2000/svg\" xmlns:xlink=\"http://www.w3.org/1999/xlink\" contentScriptType=\"application/ecmascript\" contentStyleType=\"text/css\" height=\"263px\" preserveAspectRatio=\"none\" style=\"width:812px;height:263px;\" version=\"1.1\" viewBox=\"0 0 812 263\" width=\"812px\" zoomAndPan=\"magnify\"><defs/><g><!--MD5=[fbc87193dbaf4d95561dea2c320d4a47]\n",
       "cluster E1--><a href=\"psysml:04657276-263c-446b-8b63-b81fdc3bdb65\" target=\"_top\" title=\"psysml:04657276-263c-446b-8b63-b81fdc3bdb65\" xlink:actuate=\"onRequest\" xlink:href=\"psysml:04657276-263c-446b-8b63-b81fdc3bdb65\" xlink:show=\"new\" xlink:title=\"psysml:04657276-263c-446b-8b63-b81fdc3bdb65\" xlink:type=\"simple\"><polygon fill=\"#FFFFFF\" points=\"16,6,140,6,147,28.2969,790,28.2969,790,251,16,251,16,6\" style=\"stroke: #000000; stroke-width: 1.5;\"/><line style=\"stroke: #000000; stroke-width: 1.5;\" x1=\"16\" x2=\"147\" y1=\"28.2969\" y2=\"28.2969\"/><text fill=\"#000000\" font-family=\"sans-serif\" font-size=\"14\" font-weight=\"bold\" lengthAdjust=\"spacingAndGlyphs\" textLength=\"118\" x=\"20\" y=\"20.9951\">MultiplicityTest</text></a><!--MD5=[b4997ac47864f28c2f74865a473b2911]\n",
       "class E2--><a href=\"psysml:68eb8761-ff46-4523-ba58-41a062b6cb94\" target=\"_top\" title=\"psysml:68eb8761-ff46-4523-ba58-41a062b6cb94\" xlink:actuate=\"onRequest\" xlink:href=\"psysml:68eb8761-ff46-4523-ba58-41a062b6cb94\" xlink:show=\"new\" xlink:title=\"psysml:68eb8761-ff46-4523-ba58-41a062b6cb94\" xlink:type=\"simple\"><rect fill=\"#FFFFFF\" height=\"45.9375\" id=\"E2\" style=\"stroke: #383838; stroke-width: 1.5;\" width=\"66\" x=\"497\" y=\"189\"/><text fill=\"#000000\" font-family=\"sans-serif\" font-size=\"12\" font-style=\"italic\" lengthAdjust=\"spacingAndGlyphs\" textLength=\"64\" x=\"498\" y=\"205.1387\">«part def»</text><text fill=\"#000000\" font-family=\"sans-serif\" font-size=\"12\" lengthAdjust=\"spacingAndGlyphs\" textLength=\"8\" x=\"526\" y=\"219.1074\">P</text><line style=\"stroke: #383838; stroke-width: 1.5;\" x1=\"498\" x2=\"562\" y1=\"226.9375\" y2=\"226.9375\"/></a><!--MD5=[09b614a08d8cba4a07c9adeb5e0fee81]\n",
       "class E3--><a href=\"psysml:c2c67205-2617-478d-9839-9411bc2f8511\" target=\"_top\" title=\"psysml:c2c67205-2617-478d-9839-9411bc2f8511\" xlink:actuate=\"onRequest\" xlink:href=\"psysml:c2c67205-2617-478d-9839-9411bc2f8511\" xlink:show=\"new\" xlink:title=\"psysml:c2c67205-2617-478d-9839-9411bc2f8511\" xlink:type=\"simple\"><rect fill=\"#FFFFFF\" height=\"45.9375\" id=\"E3\" rx=\"10\" ry=\"10\" style=\"stroke: #383838; stroke-width: 1.5;\" width=\"71\" x=\"702.5\" y=\"62\"/><text fill=\"#000000\" font-family=\"sans-serif\" font-size=\"12\" font-style=\"italic\" lengthAdjust=\"spacingAndGlyphs\" textLength=\"69\" x=\"703.5\" y=\"78.1387\">«attribute»</text><text fill=\"#000000\" font-family=\"sans-serif\" font-size=\"12\" lengthAdjust=\"spacingAndGlyphs\" textLength=\"61\" x=\"707.5\" y=\"92.1074\">n: Integer</text><line style=\"stroke: #383838; stroke-width: 1.5;\" x1=\"703.5\" x2=\"772.5\" y1=\"99.9375\" y2=\"99.9375\"/></a><!--MD5=[ebbe1d658d1005bcc118a6aa81145e00]\n",
       "class E4--><a href=\"psysml:fbb3215b-67d9-4514-b40f-6d8c33165593\" target=\"_top\" title=\"psysml:fbb3215b-67d9-4514-b40f-6d8c33165593\" xlink:actuate=\"onRequest\" xlink:href=\"psysml:fbb3215b-67d9-4514-b40f-6d8c33165593\" xlink:show=\"new\" xlink:title=\"psysml:fbb3215b-67d9-4514-b40f-6d8c33165593\" xlink:type=\"simple\"><rect fill=\"#FFFFFF\" height=\"45.9375\" id=\"E4\" rx=\"10\" ry=\"10\" style=\"stroke: #383838; stroke-width: 1.5;\" width=\"42\" x=\"625\" y=\"62\"/><text fill=\"#000000\" font-family=\"sans-serif\" font-size=\"12\" font-style=\"italic\" lengthAdjust=\"spacingAndGlyphs\" textLength=\"40\" x=\"626\" y=\"78.1387\">«part»</text><text fill=\"#000000\" font-family=\"sans-serif\" font-size=\"12\" lengthAdjust=\"spacingAndGlyphs\" textLength=\"8\" x=\"642\" y=\"92.1074\">a</text><line style=\"stroke: #383838; stroke-width: 1.5;\" x1=\"626\" x2=\"666\" y1=\"99.9375\" y2=\"99.9375\"/></a><!--MD5=[270fce915f116d4de14055a7c1d9a0f3]\n",
       "class E5--><a href=\"psysml:d1ff5ca6-7417-4682-b046-127881647fcb\" target=\"_top\" title=\"psysml:d1ff5ca6-7417-4682-b046-127881647fcb\" xlink:actuate=\"onRequest\" xlink:href=\"psysml:d1ff5ca6-7417-4682-b046-127881647fcb\" xlink:show=\"new\" xlink:title=\"psysml:d1ff5ca6-7417-4682-b046-127881647fcb\" xlink:type=\"simple\"><rect fill=\"#FFFFFF\" height=\"45.9375\" id=\"E5\" rx=\"10\" ry=\"10\" style=\"stroke: #383838; stroke-width: 1.5;\" width=\"42\" x=\"548\" y=\"62\"/><text fill=\"#000000\" font-family=\"sans-serif\" font-size=\"12\" font-style=\"italic\" lengthAdjust=\"spacingAndGlyphs\" textLength=\"40\" x=\"549\" y=\"78.1387\">«part»</text><text fill=\"#000000\" font-family=\"sans-serif\" font-size=\"12\" lengthAdjust=\"spacingAndGlyphs\" textLength=\"24\" x=\"557\" y=\"92.1074\">b: P</text><line style=\"stroke: #383838; stroke-width: 1.5;\" x1=\"549\" x2=\"589\" y1=\"99.9375\" y2=\"99.9375\"/></a><!--MD5=[60a26617385b1d2d0262a64233df1f8d]\n",
       "class E6--><a href=\"psysml:20d627d7-8daa-4ea4-8c0c-0e67ee5e3616\" target=\"_top\" title=\"psysml:20d627d7-8daa-4ea4-8c0c-0e67ee5e3616\" xlink:actuate=\"onRequest\" xlink:href=\"psysml:20d627d7-8daa-4ea4-8c0c-0e67ee5e3616\" xlink:show=\"new\" xlink:title=\"psysml:20d627d7-8daa-4ea4-8c0c-0e67ee5e3616\" xlink:type=\"simple\"><rect fill=\"#FFFFFF\" height=\"45.9375\" id=\"E6\" rx=\"10\" ry=\"10\" style=\"stroke: #383838; stroke-width: 1.5;\" width=\"42\" x=\"471\" y=\"62\"/><text fill=\"#000000\" font-family=\"sans-serif\" font-size=\"12\" font-style=\"italic\" lengthAdjust=\"spacingAndGlyphs\" textLength=\"40\" x=\"472\" y=\"78.1387\">«part»</text><text fill=\"#000000\" font-family=\"sans-serif\" font-size=\"12\" lengthAdjust=\"spacingAndGlyphs\" textLength=\"23\" x=\"480.5\" y=\"92.1074\">c: P</text><line style=\"stroke: #383838; stroke-width: 1.5;\" x1=\"472\" x2=\"512\" y1=\"99.9375\" y2=\"99.9375\"/></a><!--MD5=[2156ba9850f5573cc1fc38a6a4b2f02b]\n",
       "class E7--><a href=\"psysml:4fc87a01-ac01-48e0-9821-1b5b80a637f1\" target=\"_top\" title=\"psysml:4fc87a01-ac01-48e0-9821-1b5b80a637f1\" xlink:actuate=\"onRequest\" xlink:href=\"psysml:4fc87a01-ac01-48e0-9821-1b5b80a637f1\" xlink:show=\"new\" xlink:title=\"psysml:4fc87a01-ac01-48e0-9821-1b5b80a637f1\" xlink:type=\"simple\"><rect fill=\"#FFFFFF\" height=\"45.9375\" id=\"E7\" rx=\"10\" ry=\"10\" style=\"stroke: #383838; stroke-width: 1.5;\" width=\"42\" x=\"394\" y=\"62\"/><text fill=\"#000000\" font-family=\"sans-serif\" font-size=\"12\" font-style=\"italic\" lengthAdjust=\"spacingAndGlyphs\" textLength=\"40\" x=\"395\" y=\"78.1387\">«part»</text><text fill=\"#000000\" font-family=\"sans-serif\" font-size=\"12\" lengthAdjust=\"spacingAndGlyphs\" textLength=\"8\" x=\"411\" y=\"92.1074\">d</text><line style=\"stroke: #383838; stroke-width: 1.5;\" x1=\"395\" x2=\"435\" y1=\"99.9375\" y2=\"99.9375\"/></a><!--MD5=[b9389687b975829384b498ac4b7476b2]\n",
       "class E8--><a href=\"psysml:e7c3b12c-9054-4127-bd5f-a31eeffec0a6\" target=\"_top\" title=\"psysml:e7c3b12c-9054-4127-bd5f-a31eeffec0a6\" xlink:actuate=\"onRequest\" xlink:href=\"psysml:e7c3b12c-9054-4127-bd5f-a31eeffec0a6\" xlink:show=\"new\" xlink:title=\"psysml:e7c3b12c-9054-4127-bd5f-a31eeffec0a6\" xlink:type=\"simple\"><rect fill=\"#FFFFFF\" height=\"45.9375\" id=\"E8\" rx=\"10\" ry=\"10\" style=\"stroke: #383838; stroke-width: 1.5;\" width=\"42\" x=\"317\" y=\"62\"/><text fill=\"#000000\" font-family=\"sans-serif\" font-size=\"12\" font-style=\"italic\" lengthAdjust=\"spacingAndGlyphs\" textLength=\"40\" x=\"318\" y=\"78.1387\">«part»</text><text fill=\"#000000\" font-family=\"sans-serif\" font-size=\"12\" lengthAdjust=\"spacingAndGlyphs\" textLength=\"8\" x=\"334\" y=\"92.1074\">e</text><line style=\"stroke: #383838; stroke-width: 1.5;\" x1=\"318\" x2=\"358\" y1=\"99.9375\" y2=\"99.9375\"/></a><!--MD5=[fd4143e9d270a159db93a4ea2a975926]\n",
       "class E9--><a href=\"psysml:49b700d2-d9c4-4257-84cb-c65bfac2aa08\" target=\"_top\" title=\"psysml:49b700d2-d9c4-4257-84cb-c65bfac2aa08\" xlink:actuate=\"onRequest\" xlink:href=\"psysml:49b700d2-d9c4-4257-84cb-c65bfac2aa08\" xlink:show=\"new\" xlink:title=\"psysml:49b700d2-d9c4-4257-84cb-c65bfac2aa08\" xlink:type=\"simple\"><rect fill=\"#FFFFFF\" height=\"45.9375\" id=\"E9\" rx=\"10\" ry=\"10\" style=\"stroke: #383838; stroke-width: 1.5;\" width=\"42\" x=\"240\" y=\"62\"/><text fill=\"#000000\" font-family=\"sans-serif\" font-size=\"12\" font-style=\"italic\" lengthAdjust=\"spacingAndGlyphs\" textLength=\"40\" x=\"241\" y=\"78.1387\">«part»</text><text fill=\"#000000\" font-family=\"sans-serif\" font-size=\"12\" lengthAdjust=\"spacingAndGlyphs\" textLength=\"4\" x=\"259\" y=\"92.1074\">f</text><line style=\"stroke: #383838; stroke-width: 1.5;\" x1=\"241\" x2=\"281\" y1=\"99.9375\" y2=\"99.9375\"/></a><!--MD5=[96f4274e9e20536e775497830990834d]\n",
       "class E10--><a href=\"psysml:20161f3e-4930-46fe-a17d-f79ec2a77aae\" target=\"_top\" title=\"psysml:20161f3e-4930-46fe-a17d-f79ec2a77aae\" xlink:actuate=\"onRequest\" xlink:href=\"psysml:20161f3e-4930-46fe-a17d-f79ec2a77aae\" xlink:show=\"new\" xlink:title=\"psysml:20161f3e-4930-46fe-a17d-f79ec2a77aae\" xlink:type=\"simple\"><rect fill=\"#FFFFFF\" height=\"45.9375\" id=\"E10\" rx=\"10\" ry=\"10\" style=\"stroke: #383838; stroke-width: 1.5;\" width=\"42\" x=\"163\" y=\"62\"/><text fill=\"#000000\" font-family=\"sans-serif\" font-size=\"12\" font-style=\"italic\" lengthAdjust=\"spacingAndGlyphs\" textLength=\"40\" x=\"164\" y=\"78.1387\">«part»</text><text fill=\"#000000\" font-family=\"sans-serif\" font-size=\"12\" lengthAdjust=\"spacingAndGlyphs\" textLength=\"8\" x=\"180\" y=\"92.1074\">g</text><line style=\"stroke: #383838; stroke-width: 1.5;\" x1=\"164\" x2=\"204\" y1=\"99.9375\" y2=\"99.9375\"/></a><!--MD5=[1dd1bfd58a279cf63c5f349dbc8fc6a1]\n",
       "class E11--><a href=\"psysml:958dabfe-3a24-44d8-9bca-d5e375f56ac2\" target=\"_top\" title=\"psysml:958dabfe-3a24-44d8-9bca-d5e375f56ac2\" xlink:actuate=\"onRequest\" xlink:href=\"psysml:958dabfe-3a24-44d8-9bca-d5e375f56ac2\" xlink:show=\"new\" xlink:title=\"psysml:958dabfe-3a24-44d8-9bca-d5e375f56ac2\" xlink:type=\"simple\"><rect fill=\"#FFFFFF\" height=\"88.3516\" id=\"E11\" style=\"stroke: #383838; stroke-width: 1.5;\" width=\"95\" x=\"32.5\" y=\"41\"/><text fill=\"#000000\" font-family=\"sans-serif\" font-size=\"12\" font-style=\"italic\" lengthAdjust=\"spacingAndGlyphs\" textLength=\"93\" x=\"33.5\" y=\"57.1387\">«attribute def»</text><text fill=\"#000000\" font-family=\"sans-serif\" font-size=\"12\" lengthAdjust=\"spacingAndGlyphs\" textLength=\"8\" x=\"76\" y=\"71.1074\">A</text><line style=\"stroke: #383838; stroke-width: 1.5;\" x1=\"33.5\" x2=\"126.5\" y1=\"78.9375\" y2=\"78.9375\"/><text fill=\"#000000\" font-family=\"sans-serif\" font-size=\"11\" lengthAdjust=\"spacingAndGlyphs\" textLength=\"51\" x=\"38.5\" y=\"109.9526\">i: Integer</text><text fill=\"#000000\" font-family=\"sans-serif\" font-size=\"11\" lengthAdjust=\"spacingAndGlyphs\" textLength=\"21\" x=\"38.5\" y=\"122.7573\">x: A</text><line style=\"stroke: #383838; stroke-width: 1.0;\" x1=\"33.5\" x2=\"52.5\" y1=\"93.3398\" y2=\"93.3398\"/><text fill=\"#000000\" font-family=\"sans-serif\" font-size=\"11\" lengthAdjust=\"spacingAndGlyphs\" textLength=\"55\" x=\"52.5\" y=\"96.6479\">attributes</text><line style=\"stroke: #383838; stroke-width: 1.0;\" x1=\"107.5\" x2=\"126.5\" y1=\"93.3398\" y2=\"93.3398\"/></a><!--MD5=[15ebcb19ae302d9b601edb458606d402]\n",
       "link E5 to E2--><a href=\"psysml:a788c1ae-8502-4aea-9d8b-5a5d865c76a9\" target=\"_top\" title=\"psysml:a788c1ae-8502-4aea-9d8b-5a5d865c76a9\" xlink:actuate=\"onRequest\" xlink:href=\"psysml:a788c1ae-8502-4aea-9d8b-5a5d865c76a9\" xlink:show=\"new\" xlink:title=\"psysml:a788c1ae-8502-4aea-9d8b-5a5d865c76a9\" xlink:type=\"simple\"><path d=\"M562.12,108.06 C556.83,125 549.38,148.89 542.98,169.39 \" fill=\"none\" id=\"E5-&gt;E2\" style=\"stroke: #383838; stroke-width: 1.0;\"/><polygon fill=\"#FFFFFF\" points=\"536.95,188.74,535.929,168.5173,549.2931,172.6886,536.95,188.74\" style=\"stroke: #383838; stroke-width: 1.0;\"/><ellipse cx=\"539.5364\" cy=\"163.6721\" fill=\"#383838\" rx=\"2\" ry=\"2\" style=\"stroke: #383838; stroke-width: 1.0;\"/><ellipse cx=\"549.0823\" cy=\"166.6516\" fill=\"#383838\" rx=\"2\" ry=\"2\" style=\"stroke: #383838; stroke-width: 1.0;\"/></a><!--MD5=[2351f337d6de0f557b50152ba70847b5]\n",
       "link E6 to E2--><a href=\"psysml:96c9e024-7b1d-4ba9-883a-860d4899a00e\" target=\"_top\" title=\"psysml:96c9e024-7b1d-4ba9-883a-860d4899a00e\" xlink:actuate=\"onRequest\" xlink:href=\"psysml:96c9e024-7b1d-4ba9-883a-860d4899a00e\" xlink:show=\"new\" xlink:title=\"psysml:96c9e024-7b1d-4ba9-883a-860d4899a00e\" xlink:type=\"simple\"><path d=\"M498.71,108.06 C503.86,125 511.12,148.89 517.35,169.39 \" fill=\"none\" id=\"E6-&gt;E2\" style=\"stroke: #383838; stroke-width: 1.0;\"/><polygon fill=\"#FFFFFF\" points=\"523.23,188.74,511.007,172.597,524.4019,168.5255,523.23,188.74\" style=\"stroke: #383838; stroke-width: 1.0;\"/><ellipse cx=\"511.2628\" cy=\"166.5617\" fill=\"#383838\" rx=\"2\" ry=\"2\" style=\"stroke: #383838; stroke-width: 1.0;\"/><ellipse cx=\"520.8306\" cy=\"163.6535\" fill=\"#383838\" rx=\"2\" ry=\"2\" style=\"stroke: #383838; stroke-width: 1.0;\"/></a><!--MD5=[5696ea0d19a2a708630082ad9221878e]\n",
       "@startuml\r\n",
       " skinparam monochrome true\r\n",
       "skinparam classbackgroundcolor white\r\n",
       "skinparam shadowing false\r\n",
       "skinparam wrapWidth 300\r\n",
       "hide circle\r\n",
       "\r\n",
       "package \"MultiplicityTest\" as E1  [[psysml:04657276-263c-446b-8b63-b81fdc3bdb65 ]]  {\r\n",
       "comp def \"P\" as E2  <<(T,blue) part def>> [[psysml:68eb8761-ff46-4523-ba58-41a062b6cb94 ]] {\r\n",
       "}\r\n",
       "comp usage \"n: Integer\" as E3  <<(T,blue) attribute>> [[psysml:c2c67205-2617-478d-9839-9411bc2f8511 ]] {\r\n",
       "}\r\n",
       "comp usage \"a\" as E4  <<(T,blue) part>> [[psysml:fbb3215b-67d9-4514-b40f-6d8c33165593 ]] {\r\n",
       "}\r\n",
       "comp usage \"b: P\" as E5  <<(T,blue) part>> [[psysml:d1ff5ca6-7417-4682-b046-127881647fcb ]] {\r\n",
       "}\r\n",
       "comp usage \"c: P\" as E6  <<(T,blue) part>> [[psysml:20d627d7-8daa-4ea4-8c0c-0e67ee5e3616 ]] {\r\n",
       "}\r\n",
       "comp usage \"d\" as E7  <<(T,blue) part>> [[psysml:4fc87a01-ac01-48e0-9821-1b5b80a637f1 ]] {\r\n",
       "}\r\n",
       "comp usage \"e\" as E8  <<(T,blue) part>> [[psysml:e7c3b12c-9054-4127-bd5f-a31eeffec0a6 ]] {\r\n",
       "}\r\n",
       "comp usage \"f\" as E9  <<(T,blue) part>> [[psysml:49b700d2-d9c4-4257-84cb-c65bfac2aa08 ]] {\r\n",
       "}\r\n",
       "comp usage \"g\" as E10  <<(T,blue) part>> [[psysml:20161f3e-4930-46fe-a17d-f79ec2a77aae ]] {\r\n",
       "}\r\n",
       "comp def \"A\" as E11  <<(T,blue) attribute def>> [[psysml:958dabfe-3a24-44d8-9bca-d5e375f56ac2 ]] {\r\n",
       "- - attributes - -\r\n",
       "i: Integer\r\n",
       "x: A\r\n",
       "}\r\n",
       "E5 - -:|> E2 [[psysml:a788c1ae-8502-4aea-9d8b-5a5d865c76a9 ]] \r\n",
       "E6 - -:|> E2 [[psysml:96c9e024-7b1d-4ba9-883a-860d4899a00e ]] \r\n",
       "}\r\n",
       "@enduml\r\n",
       "\n",
       "PlantUML version 1.2020.13(Sat Jun 13 12:26:38 UTC 2020)\n",
       "(EPL source distribution)\n",
       "Java Runtime: OpenJDK Runtime Environment\n",
       "JVM: OpenJDK 64-Bit Server VM\n",
       "Default Encoding: UTF-8\n",
       "Language: en\n",
       "Country: null\n",
       "--></g></svg>"
      ]
     },
     "execution_count": 2,
     "metadata": {},
     "output_type": "execute_result"
    }
   ],
   "source": [
    "%viz --style=\"COMPTREE\" --view=\"Default\" \"MultiplicityTest\""
   ]
  },
  {
   "cell_type": "code",
   "execution_count": 3,
   "id": "a4c84823",
   "metadata": {
    "execution": {
     "iopub.execute_input": "2021-08-04T06:29:49.372148Z",
     "iopub.status.busy": "2021-08-04T06:29:49.368676Z",
     "iopub.status.idle": "2021-08-04T06:29:49.439457Z",
     "shell.execute_reply": "2021-08-04T06:29:49.438655Z"
    }
   },
   "outputs": [
    {
     "data": {
      "image/svg+xml": [
       "<?xml version=\"1.0\" encoding=\"UTF-8\" standalone=\"no\"?><svg xmlns=\"http://www.w3.org/2000/svg\" xmlns:xlink=\"http://www.w3.org/1999/xlink\" contentScriptType=\"application/ecmascript\" contentStyleType=\"text/css\" height=\"263px\" preserveAspectRatio=\"none\" style=\"width:812px;height:263px;\" version=\"1.1\" viewBox=\"0 0 812 263\" width=\"812px\" zoomAndPan=\"magnify\"><defs/><g><!--MD5=[fbc87193dbaf4d95561dea2c320d4a47]\n",
       "cluster E1--><a href=\"psysml:04657276-263c-446b-8b63-b81fdc3bdb65\" target=\"_top\" title=\"psysml:04657276-263c-446b-8b63-b81fdc3bdb65\" xlink:actuate=\"onRequest\" xlink:href=\"psysml:04657276-263c-446b-8b63-b81fdc3bdb65\" xlink:show=\"new\" xlink:title=\"psysml:04657276-263c-446b-8b63-b81fdc3bdb65\" xlink:type=\"simple\"><polygon fill=\"#FFFFFF\" points=\"16,6,140,6,147,28.2969,790,28.2969,790,251,16,251,16,6\" style=\"stroke: #000000; stroke-width: 1.5;\"/><line style=\"stroke: #000000; stroke-width: 1.5;\" x1=\"16\" x2=\"147\" y1=\"28.2969\" y2=\"28.2969\"/><text fill=\"#000000\" font-family=\"sans-serif\" font-size=\"14\" font-weight=\"bold\" lengthAdjust=\"spacingAndGlyphs\" textLength=\"118\" x=\"20\" y=\"20.9951\">MultiplicityTest</text></a><!--MD5=[b4997ac47864f28c2f74865a473b2911]\n",
       "class E2--><a href=\"psysml:68eb8761-ff46-4523-ba58-41a062b6cb94\" target=\"_top\" title=\"psysml:68eb8761-ff46-4523-ba58-41a062b6cb94\" xlink:actuate=\"onRequest\" xlink:href=\"psysml:68eb8761-ff46-4523-ba58-41a062b6cb94\" xlink:show=\"new\" xlink:title=\"psysml:68eb8761-ff46-4523-ba58-41a062b6cb94\" xlink:type=\"simple\"><rect fill=\"#FFFFFF\" height=\"45.9375\" id=\"E2\" style=\"stroke: #383838; stroke-width: 1.5;\" width=\"66\" x=\"497\" y=\"189\"/><text fill=\"#000000\" font-family=\"sans-serif\" font-size=\"12\" font-style=\"italic\" lengthAdjust=\"spacingAndGlyphs\" textLength=\"64\" x=\"498\" y=\"205.1387\">«part def»</text><text fill=\"#000000\" font-family=\"sans-serif\" font-size=\"12\" lengthAdjust=\"spacingAndGlyphs\" textLength=\"8\" x=\"526\" y=\"219.1074\">P</text><line style=\"stroke: #383838; stroke-width: 1.5;\" x1=\"498\" x2=\"562\" y1=\"226.9375\" y2=\"226.9375\"/></a><!--MD5=[09b614a08d8cba4a07c9adeb5e0fee81]\n",
       "class E3--><a href=\"psysml:c2c67205-2617-478d-9839-9411bc2f8511\" target=\"_top\" title=\"psysml:c2c67205-2617-478d-9839-9411bc2f8511\" xlink:actuate=\"onRequest\" xlink:href=\"psysml:c2c67205-2617-478d-9839-9411bc2f8511\" xlink:show=\"new\" xlink:title=\"psysml:c2c67205-2617-478d-9839-9411bc2f8511\" xlink:type=\"simple\"><rect fill=\"#FFFFFF\" height=\"45.9375\" id=\"E3\" rx=\"10\" ry=\"10\" style=\"stroke: #383838; stroke-width: 1.5;\" width=\"71\" x=\"702.5\" y=\"62\"/><text fill=\"#000000\" font-family=\"sans-serif\" font-size=\"12\" font-style=\"italic\" lengthAdjust=\"spacingAndGlyphs\" textLength=\"69\" x=\"703.5\" y=\"78.1387\">«attribute»</text><text fill=\"#000000\" font-family=\"sans-serif\" font-size=\"12\" lengthAdjust=\"spacingAndGlyphs\" textLength=\"61\" x=\"707.5\" y=\"92.1074\">n: Integer</text><line style=\"stroke: #383838; stroke-width: 1.5;\" x1=\"703.5\" x2=\"772.5\" y1=\"99.9375\" y2=\"99.9375\"/></a><!--MD5=[ebbe1d658d1005bcc118a6aa81145e00]\n",
       "class E4--><a href=\"psysml:fbb3215b-67d9-4514-b40f-6d8c33165593\" target=\"_top\" title=\"psysml:fbb3215b-67d9-4514-b40f-6d8c33165593\" xlink:actuate=\"onRequest\" xlink:href=\"psysml:fbb3215b-67d9-4514-b40f-6d8c33165593\" xlink:show=\"new\" xlink:title=\"psysml:fbb3215b-67d9-4514-b40f-6d8c33165593\" xlink:type=\"simple\"><rect fill=\"#FFFFFF\" height=\"45.9375\" id=\"E4\" rx=\"10\" ry=\"10\" style=\"stroke: #383838; stroke-width: 1.5;\" width=\"42\" x=\"625\" y=\"62\"/><text fill=\"#000000\" font-family=\"sans-serif\" font-size=\"12\" font-style=\"italic\" lengthAdjust=\"spacingAndGlyphs\" textLength=\"40\" x=\"626\" y=\"78.1387\">«part»</text><text fill=\"#000000\" font-family=\"sans-serif\" font-size=\"12\" lengthAdjust=\"spacingAndGlyphs\" textLength=\"8\" x=\"642\" y=\"92.1074\">a</text><line style=\"stroke: #383838; stroke-width: 1.5;\" x1=\"626\" x2=\"666\" y1=\"99.9375\" y2=\"99.9375\"/></a><!--MD5=[270fce915f116d4de14055a7c1d9a0f3]\n",
       "class E5--><a href=\"psysml:d1ff5ca6-7417-4682-b046-127881647fcb\" target=\"_top\" title=\"psysml:d1ff5ca6-7417-4682-b046-127881647fcb\" xlink:actuate=\"onRequest\" xlink:href=\"psysml:d1ff5ca6-7417-4682-b046-127881647fcb\" xlink:show=\"new\" xlink:title=\"psysml:d1ff5ca6-7417-4682-b046-127881647fcb\" xlink:type=\"simple\"><rect fill=\"#FFFFFF\" height=\"45.9375\" id=\"E5\" rx=\"10\" ry=\"10\" style=\"stroke: #383838; stroke-width: 1.5;\" width=\"42\" x=\"548\" y=\"62\"/><text fill=\"#000000\" font-family=\"sans-serif\" font-size=\"12\" font-style=\"italic\" lengthAdjust=\"spacingAndGlyphs\" textLength=\"40\" x=\"549\" y=\"78.1387\">«part»</text><text fill=\"#000000\" font-family=\"sans-serif\" font-size=\"12\" lengthAdjust=\"spacingAndGlyphs\" textLength=\"24\" x=\"557\" y=\"92.1074\">b: P</text><line style=\"stroke: #383838; stroke-width: 1.5;\" x1=\"549\" x2=\"589\" y1=\"99.9375\" y2=\"99.9375\"/></a><!--MD5=[60a26617385b1d2d0262a64233df1f8d]\n",
       "class E6--><a href=\"psysml:20d627d7-8daa-4ea4-8c0c-0e67ee5e3616\" target=\"_top\" title=\"psysml:20d627d7-8daa-4ea4-8c0c-0e67ee5e3616\" xlink:actuate=\"onRequest\" xlink:href=\"psysml:20d627d7-8daa-4ea4-8c0c-0e67ee5e3616\" xlink:show=\"new\" xlink:title=\"psysml:20d627d7-8daa-4ea4-8c0c-0e67ee5e3616\" xlink:type=\"simple\"><rect fill=\"#FFFFFF\" height=\"45.9375\" id=\"E6\" rx=\"10\" ry=\"10\" style=\"stroke: #383838; stroke-width: 1.5;\" width=\"42\" x=\"471\" y=\"62\"/><text fill=\"#000000\" font-family=\"sans-serif\" font-size=\"12\" font-style=\"italic\" lengthAdjust=\"spacingAndGlyphs\" textLength=\"40\" x=\"472\" y=\"78.1387\">«part»</text><text fill=\"#000000\" font-family=\"sans-serif\" font-size=\"12\" lengthAdjust=\"spacingAndGlyphs\" textLength=\"23\" x=\"480.5\" y=\"92.1074\">c: P</text><line style=\"stroke: #383838; stroke-width: 1.5;\" x1=\"472\" x2=\"512\" y1=\"99.9375\" y2=\"99.9375\"/></a><!--MD5=[2156ba9850f5573cc1fc38a6a4b2f02b]\n",
       "class E7--><a href=\"psysml:4fc87a01-ac01-48e0-9821-1b5b80a637f1\" target=\"_top\" title=\"psysml:4fc87a01-ac01-48e0-9821-1b5b80a637f1\" xlink:actuate=\"onRequest\" xlink:href=\"psysml:4fc87a01-ac01-48e0-9821-1b5b80a637f1\" xlink:show=\"new\" xlink:title=\"psysml:4fc87a01-ac01-48e0-9821-1b5b80a637f1\" xlink:type=\"simple\"><rect fill=\"#FFFFFF\" height=\"45.9375\" id=\"E7\" rx=\"10\" ry=\"10\" style=\"stroke: #383838; stroke-width: 1.5;\" width=\"42\" x=\"394\" y=\"62\"/><text fill=\"#000000\" font-family=\"sans-serif\" font-size=\"12\" font-style=\"italic\" lengthAdjust=\"spacingAndGlyphs\" textLength=\"40\" x=\"395\" y=\"78.1387\">«part»</text><text fill=\"#000000\" font-family=\"sans-serif\" font-size=\"12\" lengthAdjust=\"spacingAndGlyphs\" textLength=\"8\" x=\"411\" y=\"92.1074\">d</text><line style=\"stroke: #383838; stroke-width: 1.5;\" x1=\"395\" x2=\"435\" y1=\"99.9375\" y2=\"99.9375\"/></a><!--MD5=[b9389687b975829384b498ac4b7476b2]\n",
       "class E8--><a href=\"psysml:e7c3b12c-9054-4127-bd5f-a31eeffec0a6\" target=\"_top\" title=\"psysml:e7c3b12c-9054-4127-bd5f-a31eeffec0a6\" xlink:actuate=\"onRequest\" xlink:href=\"psysml:e7c3b12c-9054-4127-bd5f-a31eeffec0a6\" xlink:show=\"new\" xlink:title=\"psysml:e7c3b12c-9054-4127-bd5f-a31eeffec0a6\" xlink:type=\"simple\"><rect fill=\"#FFFFFF\" height=\"45.9375\" id=\"E8\" rx=\"10\" ry=\"10\" style=\"stroke: #383838; stroke-width: 1.5;\" width=\"42\" x=\"317\" y=\"62\"/><text fill=\"#000000\" font-family=\"sans-serif\" font-size=\"12\" font-style=\"italic\" lengthAdjust=\"spacingAndGlyphs\" textLength=\"40\" x=\"318\" y=\"78.1387\">«part»</text><text fill=\"#000000\" font-family=\"sans-serif\" font-size=\"12\" lengthAdjust=\"spacingAndGlyphs\" textLength=\"8\" x=\"334\" y=\"92.1074\">e</text><line style=\"stroke: #383838; stroke-width: 1.5;\" x1=\"318\" x2=\"358\" y1=\"99.9375\" y2=\"99.9375\"/></a><!--MD5=[fd4143e9d270a159db93a4ea2a975926]\n",
       "class E9--><a href=\"psysml:49b700d2-d9c4-4257-84cb-c65bfac2aa08\" target=\"_top\" title=\"psysml:49b700d2-d9c4-4257-84cb-c65bfac2aa08\" xlink:actuate=\"onRequest\" xlink:href=\"psysml:49b700d2-d9c4-4257-84cb-c65bfac2aa08\" xlink:show=\"new\" xlink:title=\"psysml:49b700d2-d9c4-4257-84cb-c65bfac2aa08\" xlink:type=\"simple\"><rect fill=\"#FFFFFF\" height=\"45.9375\" id=\"E9\" rx=\"10\" ry=\"10\" style=\"stroke: #383838; stroke-width: 1.5;\" width=\"42\" x=\"240\" y=\"62\"/><text fill=\"#000000\" font-family=\"sans-serif\" font-size=\"12\" font-style=\"italic\" lengthAdjust=\"spacingAndGlyphs\" textLength=\"40\" x=\"241\" y=\"78.1387\">«part»</text><text fill=\"#000000\" font-family=\"sans-serif\" font-size=\"12\" lengthAdjust=\"spacingAndGlyphs\" textLength=\"4\" x=\"259\" y=\"92.1074\">f</text><line style=\"stroke: #383838; stroke-width: 1.5;\" x1=\"241\" x2=\"281\" y1=\"99.9375\" y2=\"99.9375\"/></a><!--MD5=[96f4274e9e20536e775497830990834d]\n",
       "class E10--><a href=\"psysml:20161f3e-4930-46fe-a17d-f79ec2a77aae\" target=\"_top\" title=\"psysml:20161f3e-4930-46fe-a17d-f79ec2a77aae\" xlink:actuate=\"onRequest\" xlink:href=\"psysml:20161f3e-4930-46fe-a17d-f79ec2a77aae\" xlink:show=\"new\" xlink:title=\"psysml:20161f3e-4930-46fe-a17d-f79ec2a77aae\" xlink:type=\"simple\"><rect fill=\"#FFFFFF\" height=\"45.9375\" id=\"E10\" rx=\"10\" ry=\"10\" style=\"stroke: #383838; stroke-width: 1.5;\" width=\"42\" x=\"163\" y=\"62\"/><text fill=\"#000000\" font-family=\"sans-serif\" font-size=\"12\" font-style=\"italic\" lengthAdjust=\"spacingAndGlyphs\" textLength=\"40\" x=\"164\" y=\"78.1387\">«part»</text><text fill=\"#000000\" font-family=\"sans-serif\" font-size=\"12\" lengthAdjust=\"spacingAndGlyphs\" textLength=\"8\" x=\"180\" y=\"92.1074\">g</text><line style=\"stroke: #383838; stroke-width: 1.5;\" x1=\"164\" x2=\"204\" y1=\"99.9375\" y2=\"99.9375\"/></a><!--MD5=[1dd1bfd58a279cf63c5f349dbc8fc6a1]\n",
       "class E11--><a href=\"psysml:958dabfe-3a24-44d8-9bca-d5e375f56ac2\" target=\"_top\" title=\"psysml:958dabfe-3a24-44d8-9bca-d5e375f56ac2\" xlink:actuate=\"onRequest\" xlink:href=\"psysml:958dabfe-3a24-44d8-9bca-d5e375f56ac2\" xlink:show=\"new\" xlink:title=\"psysml:958dabfe-3a24-44d8-9bca-d5e375f56ac2\" xlink:type=\"simple\"><rect fill=\"#FFFFFF\" height=\"88.3516\" id=\"E11\" style=\"stroke: #383838; stroke-width: 1.5;\" width=\"95\" x=\"32.5\" y=\"41\"/><text fill=\"#000000\" font-family=\"sans-serif\" font-size=\"12\" font-style=\"italic\" lengthAdjust=\"spacingAndGlyphs\" textLength=\"93\" x=\"33.5\" y=\"57.1387\">«attribute def»</text><text fill=\"#000000\" font-family=\"sans-serif\" font-size=\"12\" lengthAdjust=\"spacingAndGlyphs\" textLength=\"8\" x=\"76\" y=\"71.1074\">A</text><line style=\"stroke: #383838; stroke-width: 1.5;\" x1=\"33.5\" x2=\"126.5\" y1=\"78.9375\" y2=\"78.9375\"/><text fill=\"#000000\" font-family=\"sans-serif\" font-size=\"11\" lengthAdjust=\"spacingAndGlyphs\" textLength=\"51\" x=\"38.5\" y=\"109.9526\">i: Integer</text><text fill=\"#000000\" font-family=\"sans-serif\" font-size=\"11\" lengthAdjust=\"spacingAndGlyphs\" textLength=\"21\" x=\"38.5\" y=\"122.7573\">x: A</text><line style=\"stroke: #383838; stroke-width: 1.0;\" x1=\"33.5\" x2=\"52.5\" y1=\"93.3398\" y2=\"93.3398\"/><text fill=\"#000000\" font-family=\"sans-serif\" font-size=\"11\" lengthAdjust=\"spacingAndGlyphs\" textLength=\"55\" x=\"52.5\" y=\"96.6479\">attributes</text><line style=\"stroke: #383838; stroke-width: 1.0;\" x1=\"107.5\" x2=\"126.5\" y1=\"93.3398\" y2=\"93.3398\"/></a><!--MD5=[15ebcb19ae302d9b601edb458606d402]\n",
       "link E5 to E2--><a href=\"psysml:a788c1ae-8502-4aea-9d8b-5a5d865c76a9\" target=\"_top\" title=\"psysml:a788c1ae-8502-4aea-9d8b-5a5d865c76a9\" xlink:actuate=\"onRequest\" xlink:href=\"psysml:a788c1ae-8502-4aea-9d8b-5a5d865c76a9\" xlink:show=\"new\" xlink:title=\"psysml:a788c1ae-8502-4aea-9d8b-5a5d865c76a9\" xlink:type=\"simple\"><path d=\"M562.12,108.06 C556.83,125 549.38,148.89 542.98,169.39 \" fill=\"none\" id=\"E5-&gt;E2\" style=\"stroke: #383838; stroke-width: 1.0;\"/><polygon fill=\"#FFFFFF\" points=\"536.95,188.74,535.929,168.5173,549.2931,172.6886,536.95,188.74\" style=\"stroke: #383838; stroke-width: 1.0;\"/><ellipse cx=\"539.5364\" cy=\"163.6721\" fill=\"#383838\" rx=\"2\" ry=\"2\" style=\"stroke: #383838; stroke-width: 1.0;\"/><ellipse cx=\"549.0823\" cy=\"166.6516\" fill=\"#383838\" rx=\"2\" ry=\"2\" style=\"stroke: #383838; stroke-width: 1.0;\"/></a><!--MD5=[2351f337d6de0f557b50152ba70847b5]\n",
       "link E6 to E2--><a href=\"psysml:96c9e024-7b1d-4ba9-883a-860d4899a00e\" target=\"_top\" title=\"psysml:96c9e024-7b1d-4ba9-883a-860d4899a00e\" xlink:actuate=\"onRequest\" xlink:href=\"psysml:96c9e024-7b1d-4ba9-883a-860d4899a00e\" xlink:show=\"new\" xlink:title=\"psysml:96c9e024-7b1d-4ba9-883a-860d4899a00e\" xlink:type=\"simple\"><path d=\"M498.71,108.06 C503.86,125 511.12,148.89 517.35,169.39 \" fill=\"none\" id=\"E6-&gt;E2\" style=\"stroke: #383838; stroke-width: 1.0;\"/><polygon fill=\"#FFFFFF\" points=\"523.23,188.74,511.007,172.597,524.4019,168.5255,523.23,188.74\" style=\"stroke: #383838; stroke-width: 1.0;\"/><ellipse cx=\"511.2628\" cy=\"166.5617\" fill=\"#383838\" rx=\"2\" ry=\"2\" style=\"stroke: #383838; stroke-width: 1.0;\"/><ellipse cx=\"520.8306\" cy=\"163.6535\" fill=\"#383838\" rx=\"2\" ry=\"2\" style=\"stroke: #383838; stroke-width: 1.0;\"/></a><!--MD5=[5696ea0d19a2a708630082ad9221878e]\n",
       "@startuml\r\n",
       " skinparam monochrome true\r\n",
       "skinparam classbackgroundcolor white\r\n",
       "skinparam shadowing false\r\n",
       "skinparam wrapWidth 300\r\n",
       "hide circle\r\n",
       "\r\n",
       "package \"MultiplicityTest\" as E1  [[psysml:04657276-263c-446b-8b63-b81fdc3bdb65 ]]  {\r\n",
       "comp def \"P\" as E2  <<(T,blue) part def>> [[psysml:68eb8761-ff46-4523-ba58-41a062b6cb94 ]] {\r\n",
       "}\r\n",
       "comp usage \"n: Integer\" as E3  <<(T,blue) attribute>> [[psysml:c2c67205-2617-478d-9839-9411bc2f8511 ]] {\r\n",
       "}\r\n",
       "comp usage \"a\" as E4  <<(T,blue) part>> [[psysml:fbb3215b-67d9-4514-b40f-6d8c33165593 ]] {\r\n",
       "}\r\n",
       "comp usage \"b: P\" as E5  <<(T,blue) part>> [[psysml:d1ff5ca6-7417-4682-b046-127881647fcb ]] {\r\n",
       "}\r\n",
       "comp usage \"c: P\" as E6  <<(T,blue) part>> [[psysml:20d627d7-8daa-4ea4-8c0c-0e67ee5e3616 ]] {\r\n",
       "}\r\n",
       "comp usage \"d\" as E7  <<(T,blue) part>> [[psysml:4fc87a01-ac01-48e0-9821-1b5b80a637f1 ]] {\r\n",
       "}\r\n",
       "comp usage \"e\" as E8  <<(T,blue) part>> [[psysml:e7c3b12c-9054-4127-bd5f-a31eeffec0a6 ]] {\r\n",
       "}\r\n",
       "comp usage \"f\" as E9  <<(T,blue) part>> [[psysml:49b700d2-d9c4-4257-84cb-c65bfac2aa08 ]] {\r\n",
       "}\r\n",
       "comp usage \"g\" as E10  <<(T,blue) part>> [[psysml:20161f3e-4930-46fe-a17d-f79ec2a77aae ]] {\r\n",
       "}\r\n",
       "comp def \"A\" as E11  <<(T,blue) attribute def>> [[psysml:958dabfe-3a24-44d8-9bca-d5e375f56ac2 ]] {\r\n",
       "- - attributes - -\r\n",
       "i: Integer\r\n",
       "x: A\r\n",
       "}\r\n",
       "E5 - -:|> E2 [[psysml:a788c1ae-8502-4aea-9d8b-5a5d865c76a9 ]] \r\n",
       "E6 - -:|> E2 [[psysml:96c9e024-7b1d-4ba9-883a-860d4899a00e ]] \r\n",
       "}\r\n",
       "@enduml\r\n",
       "\n",
       "PlantUML version 1.2020.13(Sat Jun 13 12:26:38 UTC 2020)\n",
       "(EPL source distribution)\n",
       "Java Runtime: OpenJDK Runtime Environment\n",
       "JVM: OpenJDK 64-Bit Server VM\n",
       "Default Encoding: UTF-8\n",
       "Language: en\n",
       "Country: null\n",
       "--></g></svg>"
      ]
     },
     "execution_count": 3,
     "metadata": {},
     "output_type": "execute_result"
    }
   ],
   "source": [
    "%viz --style=\"COMPTREE\" --view=\"Tree\" \"MultiplicityTest\""
   ]
  },
  {
   "cell_type": "code",
   "execution_count": 4,
   "id": "666e2d7f",
   "metadata": {
    "execution": {
     "iopub.execute_input": "2021-08-04T06:29:49.490179Z",
     "iopub.status.busy": "2021-08-04T06:29:49.489664Z",
     "iopub.status.idle": "2021-08-04T06:29:49.498626Z",
     "shell.execute_reply": "2021-08-04T06:29:49.498256Z"
    }
   },
   "outputs": [
    {
     "data": {
      "image/svg+xml": [
       "<?xml version=\"1.0\" encoding=\"UTF-8\" standalone=\"no\"?><svg xmlns=\"http://www.w3.org/2000/svg\" xmlns:xlink=\"http://www.w3.org/1999/xlink\" contentScriptType=\"application/ecmascript\" contentStyleType=\"text/css\" height=\"12px\" preserveAspectRatio=\"none\" style=\"width:12px;height:12px;\" version=\"1.1\" viewBox=\"0 0 12 12\" width=\"12px\" zoomAndPan=\"magnify\"><defs/><g><!--MD5=[f19188ef49e11757b5c46753f95d9edc]\n",
       "@startuml\r\n",
       " skinparam monochrome true\r\n",
       "skinparam classbackgroundcolor white\r\n",
       "skinparam shadowing false\r\n",
       "skinparam wrapWidth 300\r\n",
       "hide circle\r\n",
       "\r\n",
       "@enduml\r\n",
       "\n",
       "PlantUML version 1.2020.13(Sat Jun 13 12:26:38 UTC 2020)\n",
       "(EPL source distribution)\n",
       "Java Runtime: OpenJDK Runtime Environment\n",
       "JVM: OpenJDK 64-Bit Server VM\n",
       "Default Encoding: UTF-8\n",
       "Language: en\n",
       "Country: null\n",
       "--></g></svg>"
      ]
     },
     "execution_count": 4,
     "metadata": {},
     "output_type": "execute_result"
    }
   ],
   "source": [
    "%viz --style=\"COMPTREE\" --view=\"State\" \"MultiplicityTest\""
   ]
  },
  {
   "cell_type": "code",
   "execution_count": 5,
   "id": "000b6c97",
   "metadata": {
    "execution": {
     "iopub.execute_input": "2021-08-04T06:29:49.549283Z",
     "iopub.status.busy": "2021-08-04T06:29:49.548779Z",
     "iopub.status.idle": "2021-08-04T06:29:49.586165Z",
     "shell.execute_reply": "2021-08-04T06:29:49.585784Z"
    }
   },
   "outputs": [
    {
     "data": {
      "image/svg+xml": [
       "<?xml version=\"1.0\" encoding=\"UTF-8\" standalone=\"no\"?><svg xmlns=\"http://www.w3.org/2000/svg\" xmlns:xlink=\"http://www.w3.org/1999/xlink\" contentScriptType=\"application/ecmascript\" contentStyleType=\"text/css\" height=\"115px\" preserveAspectRatio=\"none\" style=\"width:979px;height:115px;\" version=\"1.1\" viewBox=\"0 0 979 115\" width=\"979px\" zoomAndPan=\"magnify\"><defs/><g><!--MD5=[fbc87193dbaf4d95561dea2c320d4a47]\n",
       "cluster E1--><a href=\"psysml:04657276-263c-446b-8b63-b81fdc3bdb65\" target=\"_top\" title=\"psysml:04657276-263c-446b-8b63-b81fdc3bdb65\" xlink:actuate=\"onRequest\" xlink:href=\"psysml:04657276-263c-446b-8b63-b81fdc3bdb65\" xlink:show=\"new\" xlink:title=\"psysml:04657276-263c-446b-8b63-b81fdc3bdb65\" xlink:type=\"simple\"><polygon fill=\"#FFFFFF\" points=\"16,6,140,6,147,28.2969,957,28.2969,957,103,16,103,16,6\" style=\"stroke: #000000; stroke-width: 1.5;\"/><line style=\"stroke: #000000; stroke-width: 1.5;\" x1=\"16\" x2=\"147\" y1=\"28.2969\" y2=\"28.2969\"/><text fill=\"#000000\" font-family=\"sans-serif\" font-size=\"14\" font-weight=\"bold\" lengthAdjust=\"spacingAndGlyphs\" textLength=\"118\" x=\"20\" y=\"20.9951\">MultiplicityTest</text></a><!--MD5=[09b614a08d8cba4a07c9adeb5e0fee81]\n",
       "class E3--><a href=\"psysml:c2c67205-2617-478d-9839-9411bc2f8511\" target=\"_top\" title=\"psysml:c2c67205-2617-478d-9839-9411bc2f8511\" xlink:actuate=\"onRequest\" xlink:href=\"psysml:c2c67205-2617-478d-9839-9411bc2f8511\" xlink:show=\"new\" xlink:title=\"psysml:c2c67205-2617-478d-9839-9411bc2f8511\" xlink:type=\"simple\"><rect fill=\"#FFFFFF\" height=\"45.9375\" id=\"E3\" rx=\"10\" ry=\"10\" style=\"stroke: #383838; stroke-width: 1.5;\" width=\"71\" x=\"869.5\" y=\"41\"/><text fill=\"#000000\" font-family=\"sans-serif\" font-size=\"12\" font-style=\"italic\" lengthAdjust=\"spacingAndGlyphs\" textLength=\"69\" x=\"870.5\" y=\"57.1387\">«attribute»</text><text fill=\"#000000\" font-family=\"sans-serif\" font-size=\"12\" lengthAdjust=\"spacingAndGlyphs\" textLength=\"61\" x=\"874.5\" y=\"71.1074\">n: Integer</text><line style=\"stroke: #383838; stroke-width: 1.5;\" x1=\"870.5\" x2=\"939.5\" y1=\"78.9375\" y2=\"78.9375\"/></a><g id=\"E1.E11\"><a href=\"psysml:958dabfe-3a24-44d8-9bca-d5e375f56ac2\" target=\"_top\" title=\"psysml:958dabfe-3a24-44d8-9bca-d5e375f56ac2\" xlink:actuate=\"onRequest\" xlink:href=\"psysml:958dabfe-3a24-44d8-9bca-d5e375f56ac2\" xlink:show=\"new\" xlink:title=\"psysml:958dabfe-3a24-44d8-9bca-d5e375f56ac2\" xlink:type=\"simple\"><rect fill=\"#FFFFFF\" height=\"42.9375\" id=\"E11\" style=\"stroke: #383838; stroke-width: 1.5;\" width=\"100\" x=\"734\" y=\"42.5\"/><rect fill=\"#F8F8F8\" height=\"37.9375\" style=\"stroke: #383838; stroke-width: 1.5;\" width=\"100\" x=\"734\" y=\"42.5\"/><text fill=\"#000000\" font-family=\"sans-serif\" font-size=\"12\" font-style=\"italic\" lengthAdjust=\"spacingAndGlyphs\" textLength=\"93\" x=\"737.5\" y=\"58.6387\">«attribute def»</text><text fill=\"#000000\" font-family=\"sans-serif\" font-size=\"12\" lengthAdjust=\"spacingAndGlyphs\" textLength=\"8\" x=\"780\" y=\"72.6074\">A</text></a></g><g id=\"E1.E2\"><a href=\"psysml:68eb8761-ff46-4523-ba58-41a062b6cb94\" target=\"_top\" title=\"psysml:68eb8761-ff46-4523-ba58-41a062b6cb94\" xlink:actuate=\"onRequest\" xlink:href=\"psysml:68eb8761-ff46-4523-ba58-41a062b6cb94\" xlink:show=\"new\" xlink:title=\"psysml:68eb8761-ff46-4523-ba58-41a062b6cb94\" xlink:type=\"simple\"><rect fill=\"#FFFFFF\" height=\"42.9375\" id=\"E2\" style=\"stroke: #383838; stroke-width: 1.5;\" width=\"71\" x=\"627.5\" y=\"42.5\"/><rect fill=\"#F8F8F8\" height=\"37.9375\" style=\"stroke: #383838; stroke-width: 1.5;\" width=\"71\" x=\"627.5\" y=\"42.5\"/><text fill=\"#000000\" font-family=\"sans-serif\" font-size=\"12\" font-style=\"italic\" lengthAdjust=\"spacingAndGlyphs\" textLength=\"64\" x=\"631\" y=\"58.6387\">«part def»</text><text fill=\"#000000\" font-family=\"sans-serif\" font-size=\"12\" lengthAdjust=\"spacingAndGlyphs\" textLength=\"8\" x=\"659\" y=\"72.6074\">P</text></a></g><g id=\"E1.E4\"><a href=\"psysml:fbb3215b-67d9-4514-b40f-6d8c33165593\" target=\"_top\" title=\"psysml:fbb3215b-67d9-4514-b40f-6d8c33165593\" xlink:actuate=\"onRequest\" xlink:href=\"psysml:fbb3215b-67d9-4514-b40f-6d8c33165593\" xlink:show=\"new\" xlink:title=\"psysml:fbb3215b-67d9-4514-b40f-6d8c33165593\" xlink:type=\"simple\"><rect fill=\"#FFFFFF\" height=\"40\" id=\"E4\" rx=\"10\" ry=\"10\" style=\"stroke: #383838; stroke-width: 1.5;\" width=\"50\" x=\"542\" y=\"44\"/><rect fill=\"#F8F8F8\" height=\"23.9688\" rx=\"10\" ry=\"10\" style=\"stroke: #F8F8F8; stroke-width: 1.5;\" width=\"50\" x=\"542\" y=\"44\"/><rect fill=\"#F8F8F8\" height=\"10\" style=\"stroke: #F8F8F8; stroke-width: 1.5;\" width=\"50\" x=\"542\" y=\"57.9688\"/><rect fill=\"none\" height=\"40\" id=\"E4\" rx=\"10\" ry=\"10\" style=\"stroke: #383838; stroke-width: 1.5;\" width=\"50\" x=\"542\" y=\"44\"/><text fill=\"#000000\" font-family=\"sans-serif\" font-size=\"12\" lengthAdjust=\"spacingAndGlyphs\" textLength=\"8\" x=\"563\" y=\"60.1387\">a</text></a></g><g id=\"E1.E5\"><a href=\"psysml:d1ff5ca6-7417-4682-b046-127881647fcb\" target=\"_top\" title=\"psysml:d1ff5ca6-7417-4682-b046-127881647fcb\" xlink:actuate=\"onRequest\" xlink:href=\"psysml:d1ff5ca6-7417-4682-b046-127881647fcb\" xlink:show=\"new\" xlink:title=\"psysml:d1ff5ca6-7417-4682-b046-127881647fcb\" xlink:type=\"simple\"><rect fill=\"#FFFFFF\" height=\"40\" id=\"E5\" rx=\"10\" ry=\"10\" style=\"stroke: #383838; stroke-width: 1.5;\" width=\"50\" x=\"457\" y=\"44\"/><rect fill=\"#F8F8F8\" height=\"23.9688\" rx=\"10\" ry=\"10\" style=\"stroke: #F8F8F8; stroke-width: 1.5;\" width=\"50\" x=\"457\" y=\"44\"/><rect fill=\"#F8F8F8\" height=\"10\" style=\"stroke: #F8F8F8; stroke-width: 1.5;\" width=\"50\" x=\"457\" y=\"57.9688\"/><rect fill=\"none\" height=\"40\" id=\"E5\" rx=\"10\" ry=\"10\" style=\"stroke: #383838; stroke-width: 1.5;\" width=\"50\" x=\"457\" y=\"44\"/><text fill=\"#000000\" font-family=\"sans-serif\" font-size=\"12\" lengthAdjust=\"spacingAndGlyphs\" textLength=\"24\" x=\"470\" y=\"60.1387\">b: P</text></a></g><g id=\"E1.E6\"><a href=\"psysml:20d627d7-8daa-4ea4-8c0c-0e67ee5e3616\" target=\"_top\" title=\"psysml:20d627d7-8daa-4ea4-8c0c-0e67ee5e3616\" xlink:actuate=\"onRequest\" xlink:href=\"psysml:20d627d7-8daa-4ea4-8c0c-0e67ee5e3616\" xlink:show=\"new\" xlink:title=\"psysml:20d627d7-8daa-4ea4-8c0c-0e67ee5e3616\" xlink:type=\"simple\"><rect fill=\"#FFFFFF\" height=\"40\" id=\"E6\" rx=\"10\" ry=\"10\" style=\"stroke: #383838; stroke-width: 1.5;\" width=\"50\" x=\"372\" y=\"44\"/><rect fill=\"#F8F8F8\" height=\"23.9688\" rx=\"10\" ry=\"10\" style=\"stroke: #F8F8F8; stroke-width: 1.5;\" width=\"50\" x=\"372\" y=\"44\"/><rect fill=\"#F8F8F8\" height=\"10\" style=\"stroke: #F8F8F8; stroke-width: 1.5;\" width=\"50\" x=\"372\" y=\"57.9688\"/><rect fill=\"none\" height=\"40\" id=\"E6\" rx=\"10\" ry=\"10\" style=\"stroke: #383838; stroke-width: 1.5;\" width=\"50\" x=\"372\" y=\"44\"/><text fill=\"#000000\" font-family=\"sans-serif\" font-size=\"12\" lengthAdjust=\"spacingAndGlyphs\" textLength=\"23\" x=\"385.5\" y=\"60.1387\">c: P</text></a></g><g id=\"E1.E7\"><a href=\"psysml:4fc87a01-ac01-48e0-9821-1b5b80a637f1\" target=\"_top\" title=\"psysml:4fc87a01-ac01-48e0-9821-1b5b80a637f1\" xlink:actuate=\"onRequest\" xlink:href=\"psysml:4fc87a01-ac01-48e0-9821-1b5b80a637f1\" xlink:show=\"new\" xlink:title=\"psysml:4fc87a01-ac01-48e0-9821-1b5b80a637f1\" xlink:type=\"simple\"><rect fill=\"#FFFFFF\" height=\"40\" id=\"E7\" rx=\"10\" ry=\"10\" style=\"stroke: #383838; stroke-width: 1.5;\" width=\"50\" x=\"287\" y=\"44\"/><rect fill=\"#F8F8F8\" height=\"23.9688\" rx=\"10\" ry=\"10\" style=\"stroke: #F8F8F8; stroke-width: 1.5;\" width=\"50\" x=\"287\" y=\"44\"/><rect fill=\"#F8F8F8\" height=\"10\" style=\"stroke: #F8F8F8; stroke-width: 1.5;\" width=\"50\" x=\"287\" y=\"57.9688\"/><rect fill=\"none\" height=\"40\" id=\"E7\" rx=\"10\" ry=\"10\" style=\"stroke: #383838; stroke-width: 1.5;\" width=\"50\" x=\"287\" y=\"44\"/><text fill=\"#000000\" font-family=\"sans-serif\" font-size=\"12\" lengthAdjust=\"spacingAndGlyphs\" textLength=\"8\" x=\"308\" y=\"60.1387\">d</text></a></g><g id=\"E1.E8\"><a href=\"psysml:e7c3b12c-9054-4127-bd5f-a31eeffec0a6\" target=\"_top\" title=\"psysml:e7c3b12c-9054-4127-bd5f-a31eeffec0a6\" xlink:actuate=\"onRequest\" xlink:href=\"psysml:e7c3b12c-9054-4127-bd5f-a31eeffec0a6\" xlink:show=\"new\" xlink:title=\"psysml:e7c3b12c-9054-4127-bd5f-a31eeffec0a6\" xlink:type=\"simple\"><rect fill=\"#FFFFFF\" height=\"40\" id=\"E8\" rx=\"10\" ry=\"10\" style=\"stroke: #383838; stroke-width: 1.5;\" width=\"50\" x=\"202\" y=\"44\"/><rect fill=\"#F8F8F8\" height=\"23.9688\" rx=\"10\" ry=\"10\" style=\"stroke: #F8F8F8; stroke-width: 1.5;\" width=\"50\" x=\"202\" y=\"44\"/><rect fill=\"#F8F8F8\" height=\"10\" style=\"stroke: #F8F8F8; stroke-width: 1.5;\" width=\"50\" x=\"202\" y=\"57.9688\"/><rect fill=\"none\" height=\"40\" id=\"E8\" rx=\"10\" ry=\"10\" style=\"stroke: #383838; stroke-width: 1.5;\" width=\"50\" x=\"202\" y=\"44\"/><text fill=\"#000000\" font-family=\"sans-serif\" font-size=\"12\" lengthAdjust=\"spacingAndGlyphs\" textLength=\"8\" x=\"223\" y=\"60.1387\">e</text></a></g><g id=\"E1.E9\"><a href=\"psysml:49b700d2-d9c4-4257-84cb-c65bfac2aa08\" target=\"_top\" title=\"psysml:49b700d2-d9c4-4257-84cb-c65bfac2aa08\" xlink:actuate=\"onRequest\" xlink:href=\"psysml:49b700d2-d9c4-4257-84cb-c65bfac2aa08\" xlink:show=\"new\" xlink:title=\"psysml:49b700d2-d9c4-4257-84cb-c65bfac2aa08\" xlink:type=\"simple\"><rect fill=\"#FFFFFF\" height=\"40\" id=\"E9\" rx=\"10\" ry=\"10\" style=\"stroke: #383838; stroke-width: 1.5;\" width=\"50\" x=\"117\" y=\"44\"/><rect fill=\"#F8F8F8\" height=\"23.9688\" rx=\"10\" ry=\"10\" style=\"stroke: #F8F8F8; stroke-width: 1.5;\" width=\"50\" x=\"117\" y=\"44\"/><rect fill=\"#F8F8F8\" height=\"10\" style=\"stroke: #F8F8F8; stroke-width: 1.5;\" width=\"50\" x=\"117\" y=\"57.9688\"/><rect fill=\"none\" height=\"40\" id=\"E9\" rx=\"10\" ry=\"10\" style=\"stroke: #383838; stroke-width: 1.5;\" width=\"50\" x=\"117\" y=\"44\"/><text fill=\"#000000\" font-family=\"sans-serif\" font-size=\"12\" lengthAdjust=\"spacingAndGlyphs\" textLength=\"4\" x=\"140\" y=\"60.1387\">f</text></a></g><g id=\"E1.E10\"><a href=\"psysml:20161f3e-4930-46fe-a17d-f79ec2a77aae\" target=\"_top\" title=\"psysml:20161f3e-4930-46fe-a17d-f79ec2a77aae\" xlink:actuate=\"onRequest\" xlink:href=\"psysml:20161f3e-4930-46fe-a17d-f79ec2a77aae\" xlink:show=\"new\" xlink:title=\"psysml:20161f3e-4930-46fe-a17d-f79ec2a77aae\" xlink:type=\"simple\"><rect fill=\"#FFFFFF\" height=\"40\" id=\"E10\" rx=\"10\" ry=\"10\" style=\"stroke: #383838; stroke-width: 1.5;\" width=\"50\" x=\"32\" y=\"44\"/><rect fill=\"#F8F8F8\" height=\"23.9688\" rx=\"10\" ry=\"10\" style=\"stroke: #F8F8F8; stroke-width: 1.5;\" width=\"50\" x=\"32\" y=\"44\"/><rect fill=\"#F8F8F8\" height=\"10\" style=\"stroke: #F8F8F8; stroke-width: 1.5;\" width=\"50\" x=\"32\" y=\"57.9688\"/><rect fill=\"none\" height=\"40\" id=\"E10\" rx=\"10\" ry=\"10\" style=\"stroke: #383838; stroke-width: 1.5;\" width=\"50\" x=\"32\" y=\"44\"/><text fill=\"#000000\" font-family=\"sans-serif\" font-size=\"12\" lengthAdjust=\"spacingAndGlyphs\" textLength=\"8\" x=\"53\" y=\"60.1387\">g</text></a></g><!--MD5=[0eca9cf25ca04ed468835a35793ba2d3]\n",
       "@startuml\r\n",
       "skinparam ranksep 10\r\n",
       "skinparam rectangle {\r\n",
       " backgroundColor<<block>> LightGreen\r\n",
       "}\r\n",
       " skinparam monochrome true\r\n",
       "skinparam classbackgroundcolor white\r\n",
       "skinparam shadowing false\r\n",
       "skinparam wrapWidth 300\r\n",
       "hide circle\r\n",
       "\r\n",
       "package \"MultiplicityTest\" as E1  [[psysml:04657276-263c-446b-8b63-b81fdc3bdb65 ]]  {\r\n",
       "rec def \"P\" as E2  <<(T,blue) part def>> [[psysml:68eb8761-ff46-4523-ba58-41a062b6cb94 ]] {\r\n",
       "}\r\n",
       "comp usage \"n: Integer\" as E3  <<(T,blue) attribute>> [[psysml:c2c67205-2617-478d-9839-9411bc2f8511 ]] {\r\n",
       "}\r\n",
       "rec usage \"a\" as E4  [[psysml:fbb3215b-67d9-4514-b40f-6d8c33165593 ]] {\r\n",
       "}\r\n",
       "rec usage \"b: P\" as E5  [[psysml:d1ff5ca6-7417-4682-b046-127881647fcb ]] {\r\n",
       "}\r\n",
       "rec usage \"c: P\" as E6  [[psysml:20d627d7-8daa-4ea4-8c0c-0e67ee5e3616 ]] {\r\n",
       "}\r\n",
       "rec usage \"d\" as E7  [[psysml:4fc87a01-ac01-48e0-9821-1b5b80a637f1 ]] {\r\n",
       "}\r\n",
       "rec usage \"e\" as E8  [[psysml:e7c3b12c-9054-4127-bd5f-a31eeffec0a6 ]] {\r\n",
       "}\r\n",
       "rec usage \"f\" as E9  [[psysml:49b700d2-d9c4-4257-84cb-c65bfac2aa08 ]] {\r\n",
       "}\r\n",
       "rec usage \"g\" as E10  [[psysml:20161f3e-4930-46fe-a17d-f79ec2a77aae ]] {\r\n",
       "}\r\n",
       "def \"A\" as E11  <<(T,blue) attribute def>> [[psysml:958dabfe-3a24-44d8-9bca-d5e375f56ac2 ]] \r\n",
       "}\r\n",
       "@enduml\r\n",
       "\n",
       "PlantUML version 1.2020.13(Sat Jun 13 12:26:38 UTC 2020)\n",
       "(EPL source distribution)\n",
       "Java Runtime: OpenJDK Runtime Environment\n",
       "JVM: OpenJDK 64-Bit Server VM\n",
       "Default Encoding: UTF-8\n",
       "Language: en\n",
       "Country: null\n",
       "--></g></svg>"
      ]
     },
     "execution_count": 5,
     "metadata": {},
     "output_type": "execute_result"
    }
   ],
   "source": [
    "%viz --style=\"COMPTREE\" --view=\"Interconnection\" \"MultiplicityTest\""
   ]
  },
  {
   "cell_type": "code",
   "execution_count": 6,
   "id": "e2f3280c",
   "metadata": {
    "execution": {
     "iopub.execute_input": "2021-08-04T06:29:49.636231Z",
     "iopub.status.busy": "2021-08-04T06:29:49.635745Z",
     "iopub.status.idle": "2021-08-04T06:29:49.641505Z",
     "shell.execute_reply": "2021-08-04T06:29:49.641831Z"
    }
   },
   "outputs": [
    {
     "data": {
      "image/svg+xml": [
       "<?xml version=\"1.0\" encoding=\"UTF-8\" standalone=\"no\"?><svg xmlns=\"http://www.w3.org/2000/svg\" xmlns:xlink=\"http://www.w3.org/1999/xlink\" contentScriptType=\"application/ecmascript\" contentStyleType=\"text/css\" height=\"12px\" preserveAspectRatio=\"none\" style=\"width:12px;height:12px;\" version=\"1.1\" viewBox=\"0 0 12 12\" width=\"12px\" zoomAndPan=\"magnify\"><defs/><g><!--MD5=[655b888544ca4751ea36af1068543f84]\n",
       "@startuml\r\n",
       "skinparam ranksep 8\r\n",
       " skinparam monochrome true\r\n",
       "skinparam classbackgroundcolor white\r\n",
       "skinparam shadowing false\r\n",
       "skinparam wrapWidth 300\r\n",
       "hide circle\r\n",
       "\r\n",
       "@enduml\r\n",
       "\n",
       "PlantUML version 1.2020.13(Sat Jun 13 12:26:38 UTC 2020)\n",
       "(EPL source distribution)\n",
       "Java Runtime: OpenJDK Runtime Environment\n",
       "JVM: OpenJDK 64-Bit Server VM\n",
       "Default Encoding: UTF-8\n",
       "Language: en\n",
       "Country: null\n",
       "--></g></svg>"
      ]
     },
     "execution_count": 6,
     "metadata": {},
     "output_type": "execute_result"
    }
   ],
   "source": [
    "%viz --style=\"COMPTREE\" --view=\"Action\" \"MultiplicityTest\""
   ]
  },
  {
   "cell_type": "code",
   "execution_count": 7,
   "id": "2616da3e",
   "metadata": {
    "execution": {
     "iopub.execute_input": "2021-08-04T06:29:49.692279Z",
     "iopub.status.busy": "2021-08-04T06:29:49.691797Z",
     "iopub.status.idle": "2021-08-04T06:29:49.751448Z",
     "shell.execute_reply": "2021-08-04T06:29:49.750213Z"
    }
   },
   "outputs": [
    {
     "data": {
      "image/svg+xml": [
       "<?xml version=\"1.0\" encoding=\"UTF-8\" standalone=\"no\"?><svg xmlns=\"http://www.w3.org/2000/svg\" xmlns:xlink=\"http://www.w3.org/1999/xlink\" contentScriptType=\"application/ecmascript\" contentStyleType=\"text/css\" height=\"263px\" preserveAspectRatio=\"none\" style=\"width:812px;height:263px;\" version=\"1.1\" viewBox=\"0 0 812 263\" width=\"812px\" zoomAndPan=\"magnify\"><defs/><g><!--MD5=[fbc87193dbaf4d95561dea2c320d4a47]\n",
       "cluster E1--><a href=\"psysml:04657276-263c-446b-8b63-b81fdc3bdb65\" target=\"_top\" title=\"psysml:04657276-263c-446b-8b63-b81fdc3bdb65\" xlink:actuate=\"onRequest\" xlink:href=\"psysml:04657276-263c-446b-8b63-b81fdc3bdb65\" xlink:show=\"new\" xlink:title=\"psysml:04657276-263c-446b-8b63-b81fdc3bdb65\" xlink:type=\"simple\"><polygon fill=\"#FFFFFF\" points=\"16,6,140,6,147,28.2969,790,28.2969,790,251,16,251,16,6\" style=\"stroke: #000000; stroke-width: 1.5;\"/><line style=\"stroke: #000000; stroke-width: 1.5;\" x1=\"16\" x2=\"147\" y1=\"28.2969\" y2=\"28.2969\"/><text fill=\"#000000\" font-family=\"sans-serif\" font-size=\"14\" font-weight=\"bold\" lengthAdjust=\"spacingAndGlyphs\" textLength=\"118\" x=\"20\" y=\"20.9951\">MultiplicityTest</text></a><!--MD5=[b4997ac47864f28c2f74865a473b2911]\n",
       "class E2--><a href=\"psysml:68eb8761-ff46-4523-ba58-41a062b6cb94\" target=\"_top\" title=\"psysml:68eb8761-ff46-4523-ba58-41a062b6cb94\" xlink:actuate=\"onRequest\" xlink:href=\"psysml:68eb8761-ff46-4523-ba58-41a062b6cb94\" xlink:show=\"new\" xlink:title=\"psysml:68eb8761-ff46-4523-ba58-41a062b6cb94\" xlink:type=\"simple\"><rect fill=\"#FFFFFF\" height=\"45.9375\" id=\"E2\" style=\"stroke: #383838; stroke-width: 1.5;\" width=\"66\" x=\"497\" y=\"189\"/><text fill=\"#000000\" font-family=\"sans-serif\" font-size=\"12\" font-style=\"italic\" lengthAdjust=\"spacingAndGlyphs\" textLength=\"64\" x=\"498\" y=\"205.1387\">«part def»</text><text fill=\"#000000\" font-family=\"sans-serif\" font-size=\"12\" lengthAdjust=\"spacingAndGlyphs\" textLength=\"8\" x=\"526\" y=\"219.1074\">P</text><line style=\"stroke: #383838; stroke-width: 1.5;\" x1=\"498\" x2=\"562\" y1=\"226.9375\" y2=\"226.9375\"/></a><!--MD5=[09b614a08d8cba4a07c9adeb5e0fee81]\n",
       "class E3--><a href=\"psysml:c2c67205-2617-478d-9839-9411bc2f8511\" target=\"_top\" title=\"psysml:c2c67205-2617-478d-9839-9411bc2f8511\" xlink:actuate=\"onRequest\" xlink:href=\"psysml:c2c67205-2617-478d-9839-9411bc2f8511\" xlink:show=\"new\" xlink:title=\"psysml:c2c67205-2617-478d-9839-9411bc2f8511\" xlink:type=\"simple\"><rect fill=\"#FFFFFF\" height=\"45.9375\" id=\"E3\" rx=\"10\" ry=\"10\" style=\"stroke: #383838; stroke-width: 1.5;\" width=\"71\" x=\"702.5\" y=\"62\"/><text fill=\"#000000\" font-family=\"sans-serif\" font-size=\"12\" font-style=\"italic\" lengthAdjust=\"spacingAndGlyphs\" textLength=\"69\" x=\"703.5\" y=\"78.1387\">«attribute»</text><text fill=\"#000000\" font-family=\"sans-serif\" font-size=\"12\" lengthAdjust=\"spacingAndGlyphs\" textLength=\"61\" x=\"707.5\" y=\"92.1074\">n: Integer</text><line style=\"stroke: #383838; stroke-width: 1.5;\" x1=\"703.5\" x2=\"772.5\" y1=\"99.9375\" y2=\"99.9375\"/></a><!--MD5=[ebbe1d658d1005bcc118a6aa81145e00]\n",
       "class E4--><a href=\"psysml:fbb3215b-67d9-4514-b40f-6d8c33165593\" target=\"_top\" title=\"psysml:fbb3215b-67d9-4514-b40f-6d8c33165593\" xlink:actuate=\"onRequest\" xlink:href=\"psysml:fbb3215b-67d9-4514-b40f-6d8c33165593\" xlink:show=\"new\" xlink:title=\"psysml:fbb3215b-67d9-4514-b40f-6d8c33165593\" xlink:type=\"simple\"><rect fill=\"#FFFFFF\" height=\"45.9375\" id=\"E4\" rx=\"10\" ry=\"10\" style=\"stroke: #383838; stroke-width: 1.5;\" width=\"42\" x=\"625\" y=\"62\"/><text fill=\"#000000\" font-family=\"sans-serif\" font-size=\"12\" font-style=\"italic\" lengthAdjust=\"spacingAndGlyphs\" textLength=\"40\" x=\"626\" y=\"78.1387\">«part»</text><text fill=\"#000000\" font-family=\"sans-serif\" font-size=\"12\" lengthAdjust=\"spacingAndGlyphs\" textLength=\"8\" x=\"642\" y=\"92.1074\">a</text><line style=\"stroke: #383838; stroke-width: 1.5;\" x1=\"626\" x2=\"666\" y1=\"99.9375\" y2=\"99.9375\"/></a><!--MD5=[270fce915f116d4de14055a7c1d9a0f3]\n",
       "class E5--><a href=\"psysml:d1ff5ca6-7417-4682-b046-127881647fcb\" target=\"_top\" title=\"psysml:d1ff5ca6-7417-4682-b046-127881647fcb\" xlink:actuate=\"onRequest\" xlink:href=\"psysml:d1ff5ca6-7417-4682-b046-127881647fcb\" xlink:show=\"new\" xlink:title=\"psysml:d1ff5ca6-7417-4682-b046-127881647fcb\" xlink:type=\"simple\"><rect fill=\"#FFFFFF\" height=\"45.9375\" id=\"E5\" rx=\"10\" ry=\"10\" style=\"stroke: #383838; stroke-width: 1.5;\" width=\"42\" x=\"548\" y=\"62\"/><text fill=\"#000000\" font-family=\"sans-serif\" font-size=\"12\" font-style=\"italic\" lengthAdjust=\"spacingAndGlyphs\" textLength=\"40\" x=\"549\" y=\"78.1387\">«part»</text><text fill=\"#000000\" font-family=\"sans-serif\" font-size=\"12\" lengthAdjust=\"spacingAndGlyphs\" textLength=\"24\" x=\"557\" y=\"92.1074\">b: P</text><line style=\"stroke: #383838; stroke-width: 1.5;\" x1=\"549\" x2=\"589\" y1=\"99.9375\" y2=\"99.9375\"/></a><!--MD5=[60a26617385b1d2d0262a64233df1f8d]\n",
       "class E6--><a href=\"psysml:20d627d7-8daa-4ea4-8c0c-0e67ee5e3616\" target=\"_top\" title=\"psysml:20d627d7-8daa-4ea4-8c0c-0e67ee5e3616\" xlink:actuate=\"onRequest\" xlink:href=\"psysml:20d627d7-8daa-4ea4-8c0c-0e67ee5e3616\" xlink:show=\"new\" xlink:title=\"psysml:20d627d7-8daa-4ea4-8c0c-0e67ee5e3616\" xlink:type=\"simple\"><rect fill=\"#FFFFFF\" height=\"45.9375\" id=\"E6\" rx=\"10\" ry=\"10\" style=\"stroke: #383838; stroke-width: 1.5;\" width=\"42\" x=\"471\" y=\"62\"/><text fill=\"#000000\" font-family=\"sans-serif\" font-size=\"12\" font-style=\"italic\" lengthAdjust=\"spacingAndGlyphs\" textLength=\"40\" x=\"472\" y=\"78.1387\">«part»</text><text fill=\"#000000\" font-family=\"sans-serif\" font-size=\"12\" lengthAdjust=\"spacingAndGlyphs\" textLength=\"23\" x=\"480.5\" y=\"92.1074\">c: P</text><line style=\"stroke: #383838; stroke-width: 1.5;\" x1=\"472\" x2=\"512\" y1=\"99.9375\" y2=\"99.9375\"/></a><!--MD5=[2156ba9850f5573cc1fc38a6a4b2f02b]\n",
       "class E7--><a href=\"psysml:4fc87a01-ac01-48e0-9821-1b5b80a637f1\" target=\"_top\" title=\"psysml:4fc87a01-ac01-48e0-9821-1b5b80a637f1\" xlink:actuate=\"onRequest\" xlink:href=\"psysml:4fc87a01-ac01-48e0-9821-1b5b80a637f1\" xlink:show=\"new\" xlink:title=\"psysml:4fc87a01-ac01-48e0-9821-1b5b80a637f1\" xlink:type=\"simple\"><rect fill=\"#FFFFFF\" height=\"45.9375\" id=\"E7\" rx=\"10\" ry=\"10\" style=\"stroke: #383838; stroke-width: 1.5;\" width=\"42\" x=\"394\" y=\"62\"/><text fill=\"#000000\" font-family=\"sans-serif\" font-size=\"12\" font-style=\"italic\" lengthAdjust=\"spacingAndGlyphs\" textLength=\"40\" x=\"395\" y=\"78.1387\">«part»</text><text fill=\"#000000\" font-family=\"sans-serif\" font-size=\"12\" lengthAdjust=\"spacingAndGlyphs\" textLength=\"8\" x=\"411\" y=\"92.1074\">d</text><line style=\"stroke: #383838; stroke-width: 1.5;\" x1=\"395\" x2=\"435\" y1=\"99.9375\" y2=\"99.9375\"/></a><!--MD5=[b9389687b975829384b498ac4b7476b2]\n",
       "class E8--><a href=\"psysml:e7c3b12c-9054-4127-bd5f-a31eeffec0a6\" target=\"_top\" title=\"psysml:e7c3b12c-9054-4127-bd5f-a31eeffec0a6\" xlink:actuate=\"onRequest\" xlink:href=\"psysml:e7c3b12c-9054-4127-bd5f-a31eeffec0a6\" xlink:show=\"new\" xlink:title=\"psysml:e7c3b12c-9054-4127-bd5f-a31eeffec0a6\" xlink:type=\"simple\"><rect fill=\"#FFFFFF\" height=\"45.9375\" id=\"E8\" rx=\"10\" ry=\"10\" style=\"stroke: #383838; stroke-width: 1.5;\" width=\"42\" x=\"317\" y=\"62\"/><text fill=\"#000000\" font-family=\"sans-serif\" font-size=\"12\" font-style=\"italic\" lengthAdjust=\"spacingAndGlyphs\" textLength=\"40\" x=\"318\" y=\"78.1387\">«part»</text><text fill=\"#000000\" font-family=\"sans-serif\" font-size=\"12\" lengthAdjust=\"spacingAndGlyphs\" textLength=\"8\" x=\"334\" y=\"92.1074\">e</text><line style=\"stroke: #383838; stroke-width: 1.5;\" x1=\"318\" x2=\"358\" y1=\"99.9375\" y2=\"99.9375\"/></a><!--MD5=[fd4143e9d270a159db93a4ea2a975926]\n",
       "class E9--><a href=\"psysml:49b700d2-d9c4-4257-84cb-c65bfac2aa08\" target=\"_top\" title=\"psysml:49b700d2-d9c4-4257-84cb-c65bfac2aa08\" xlink:actuate=\"onRequest\" xlink:href=\"psysml:49b700d2-d9c4-4257-84cb-c65bfac2aa08\" xlink:show=\"new\" xlink:title=\"psysml:49b700d2-d9c4-4257-84cb-c65bfac2aa08\" xlink:type=\"simple\"><rect fill=\"#FFFFFF\" height=\"45.9375\" id=\"E9\" rx=\"10\" ry=\"10\" style=\"stroke: #383838; stroke-width: 1.5;\" width=\"42\" x=\"240\" y=\"62\"/><text fill=\"#000000\" font-family=\"sans-serif\" font-size=\"12\" font-style=\"italic\" lengthAdjust=\"spacingAndGlyphs\" textLength=\"40\" x=\"241\" y=\"78.1387\">«part»</text><text fill=\"#000000\" font-family=\"sans-serif\" font-size=\"12\" lengthAdjust=\"spacingAndGlyphs\" textLength=\"4\" x=\"259\" y=\"92.1074\">f</text><line style=\"stroke: #383838; stroke-width: 1.5;\" x1=\"241\" x2=\"281\" y1=\"99.9375\" y2=\"99.9375\"/></a><!--MD5=[96f4274e9e20536e775497830990834d]\n",
       "class E10--><a href=\"psysml:20161f3e-4930-46fe-a17d-f79ec2a77aae\" target=\"_top\" title=\"psysml:20161f3e-4930-46fe-a17d-f79ec2a77aae\" xlink:actuate=\"onRequest\" xlink:href=\"psysml:20161f3e-4930-46fe-a17d-f79ec2a77aae\" xlink:show=\"new\" xlink:title=\"psysml:20161f3e-4930-46fe-a17d-f79ec2a77aae\" xlink:type=\"simple\"><rect fill=\"#FFFFFF\" height=\"45.9375\" id=\"E10\" rx=\"10\" ry=\"10\" style=\"stroke: #383838; stroke-width: 1.5;\" width=\"42\" x=\"163\" y=\"62\"/><text fill=\"#000000\" font-family=\"sans-serif\" font-size=\"12\" font-style=\"italic\" lengthAdjust=\"spacingAndGlyphs\" textLength=\"40\" x=\"164\" y=\"78.1387\">«part»</text><text fill=\"#000000\" font-family=\"sans-serif\" font-size=\"12\" lengthAdjust=\"spacingAndGlyphs\" textLength=\"8\" x=\"180\" y=\"92.1074\">g</text><line style=\"stroke: #383838; stroke-width: 1.5;\" x1=\"164\" x2=\"204\" y1=\"99.9375\" y2=\"99.9375\"/></a><!--MD5=[1dd1bfd58a279cf63c5f349dbc8fc6a1]\n",
       "class E11--><a href=\"psysml:958dabfe-3a24-44d8-9bca-d5e375f56ac2\" target=\"_top\" title=\"psysml:958dabfe-3a24-44d8-9bca-d5e375f56ac2\" xlink:actuate=\"onRequest\" xlink:href=\"psysml:958dabfe-3a24-44d8-9bca-d5e375f56ac2\" xlink:show=\"new\" xlink:title=\"psysml:958dabfe-3a24-44d8-9bca-d5e375f56ac2\" xlink:type=\"simple\"><rect fill=\"#FFFFFF\" height=\"88.3516\" id=\"E11\" style=\"stroke: #383838; stroke-width: 1.5;\" width=\"95\" x=\"32.5\" y=\"41\"/><text fill=\"#000000\" font-family=\"sans-serif\" font-size=\"12\" font-style=\"italic\" lengthAdjust=\"spacingAndGlyphs\" textLength=\"93\" x=\"33.5\" y=\"57.1387\">«attribute def»</text><text fill=\"#000000\" font-family=\"sans-serif\" font-size=\"12\" lengthAdjust=\"spacingAndGlyphs\" textLength=\"8\" x=\"76\" y=\"71.1074\">A</text><line style=\"stroke: #383838; stroke-width: 1.5;\" x1=\"33.5\" x2=\"126.5\" y1=\"78.9375\" y2=\"78.9375\"/><text fill=\"#000000\" font-family=\"sans-serif\" font-size=\"11\" lengthAdjust=\"spacingAndGlyphs\" textLength=\"51\" x=\"38.5\" y=\"109.9526\">i: Integer</text><text fill=\"#000000\" font-family=\"sans-serif\" font-size=\"11\" lengthAdjust=\"spacingAndGlyphs\" textLength=\"21\" x=\"38.5\" y=\"122.7573\">x: A</text><line style=\"stroke: #383838; stroke-width: 1.0;\" x1=\"33.5\" x2=\"52.5\" y1=\"93.3398\" y2=\"93.3398\"/><text fill=\"#000000\" font-family=\"sans-serif\" font-size=\"11\" lengthAdjust=\"spacingAndGlyphs\" textLength=\"55\" x=\"52.5\" y=\"96.6479\">attributes</text><line style=\"stroke: #383838; stroke-width: 1.0;\" x1=\"107.5\" x2=\"126.5\" y1=\"93.3398\" y2=\"93.3398\"/></a><!--MD5=[15ebcb19ae302d9b601edb458606d402]\n",
       "link E5 to E2--><a href=\"psysml:a788c1ae-8502-4aea-9d8b-5a5d865c76a9\" target=\"_top\" title=\"psysml:a788c1ae-8502-4aea-9d8b-5a5d865c76a9\" xlink:actuate=\"onRequest\" xlink:href=\"psysml:a788c1ae-8502-4aea-9d8b-5a5d865c76a9\" xlink:show=\"new\" xlink:title=\"psysml:a788c1ae-8502-4aea-9d8b-5a5d865c76a9\" xlink:type=\"simple\"><path d=\"M562.12,108.06 C556.83,125 549.38,148.89 542.98,169.39 \" fill=\"none\" id=\"E5-&gt;E2\" style=\"stroke: #383838; stroke-width: 1.0;\"/><polygon fill=\"#FFFFFF\" points=\"536.95,188.74,535.929,168.5173,549.2931,172.6886,536.95,188.74\" style=\"stroke: #383838; stroke-width: 1.0;\"/><ellipse cx=\"539.5364\" cy=\"163.6721\" fill=\"#383838\" rx=\"2\" ry=\"2\" style=\"stroke: #383838; stroke-width: 1.0;\"/><ellipse cx=\"549.0823\" cy=\"166.6516\" fill=\"#383838\" rx=\"2\" ry=\"2\" style=\"stroke: #383838; stroke-width: 1.0;\"/></a><!--MD5=[2351f337d6de0f557b50152ba70847b5]\n",
       "link E6 to E2--><a href=\"psysml:96c9e024-7b1d-4ba9-883a-860d4899a00e\" target=\"_top\" title=\"psysml:96c9e024-7b1d-4ba9-883a-860d4899a00e\" xlink:actuate=\"onRequest\" xlink:href=\"psysml:96c9e024-7b1d-4ba9-883a-860d4899a00e\" xlink:show=\"new\" xlink:title=\"psysml:96c9e024-7b1d-4ba9-883a-860d4899a00e\" xlink:type=\"simple\"><path d=\"M498.71,108.06 C503.86,125 511.12,148.89 517.35,169.39 \" fill=\"none\" id=\"E6-&gt;E2\" style=\"stroke: #383838; stroke-width: 1.0;\"/><polygon fill=\"#FFFFFF\" points=\"523.23,188.74,511.007,172.597,524.4019,168.5255,523.23,188.74\" style=\"stroke: #383838; stroke-width: 1.0;\"/><ellipse cx=\"511.2628\" cy=\"166.5617\" fill=\"#383838\" rx=\"2\" ry=\"2\" style=\"stroke: #383838; stroke-width: 1.0;\"/><ellipse cx=\"520.8306\" cy=\"163.6535\" fill=\"#383838\" rx=\"2\" ry=\"2\" style=\"stroke: #383838; stroke-width: 1.0;\"/></a><!--MD5=[5696ea0d19a2a708630082ad9221878e]\n",
       "@startuml\r\n",
       " skinparam monochrome true\r\n",
       "skinparam classbackgroundcolor white\r\n",
       "skinparam shadowing false\r\n",
       "skinparam wrapWidth 300\r\n",
       "hide circle\r\n",
       "\r\n",
       "package \"MultiplicityTest\" as E1  [[psysml:04657276-263c-446b-8b63-b81fdc3bdb65 ]]  {\r\n",
       "comp def \"P\" as E2  <<(T,blue) part def>> [[psysml:68eb8761-ff46-4523-ba58-41a062b6cb94 ]] {\r\n",
       "}\r\n",
       "comp usage \"n: Integer\" as E3  <<(T,blue) attribute>> [[psysml:c2c67205-2617-478d-9839-9411bc2f8511 ]] {\r\n",
       "}\r\n",
       "comp usage \"a\" as E4  <<(T,blue) part>> [[psysml:fbb3215b-67d9-4514-b40f-6d8c33165593 ]] {\r\n",
       "}\r\n",
       "comp usage \"b: P\" as E5  <<(T,blue) part>> [[psysml:d1ff5ca6-7417-4682-b046-127881647fcb ]] {\r\n",
       "}\r\n",
       "comp usage \"c: P\" as E6  <<(T,blue) part>> [[psysml:20d627d7-8daa-4ea4-8c0c-0e67ee5e3616 ]] {\r\n",
       "}\r\n",
       "comp usage \"d\" as E7  <<(T,blue) part>> [[psysml:4fc87a01-ac01-48e0-9821-1b5b80a637f1 ]] {\r\n",
       "}\r\n",
       "comp usage \"e\" as E8  <<(T,blue) part>> [[psysml:e7c3b12c-9054-4127-bd5f-a31eeffec0a6 ]] {\r\n",
       "}\r\n",
       "comp usage \"f\" as E9  <<(T,blue) part>> [[psysml:49b700d2-d9c4-4257-84cb-c65bfac2aa08 ]] {\r\n",
       "}\r\n",
       "comp usage \"g\" as E10  <<(T,blue) part>> [[psysml:20161f3e-4930-46fe-a17d-f79ec2a77aae ]] {\r\n",
       "}\r\n",
       "comp def \"A\" as E11  <<(T,blue) attribute def>> [[psysml:958dabfe-3a24-44d8-9bca-d5e375f56ac2 ]] {\r\n",
       "- - attributes - -\r\n",
       "i: Integer\r\n",
       "x: A\r\n",
       "}\r\n",
       "E5 - -:|> E2 [[psysml:a788c1ae-8502-4aea-9d8b-5a5d865c76a9 ]] \r\n",
       "E6 - -:|> E2 [[psysml:96c9e024-7b1d-4ba9-883a-860d4899a00e ]] \r\n",
       "}\r\n",
       "@enduml\r\n",
       "\n",
       "PlantUML version 1.2020.13(Sat Jun 13 12:26:38 UTC 2020)\n",
       "(EPL source distribution)\n",
       "Java Runtime: OpenJDK Runtime Environment\n",
       "JVM: OpenJDK 64-Bit Server VM\n",
       "Default Encoding: UTF-8\n",
       "Language: en\n",
       "Country: null\n",
       "--></g></svg>"
      ]
     },
     "execution_count": 7,
     "metadata": {},
     "output_type": "execute_result"
    }
   ],
   "source": [
    "%viz --style=\"COMPTREE\" --view=\"Sequence\" \"MultiplicityTest\""
   ]
  },
  {
   "cell_type": "code",
   "execution_count": 8,
   "id": "37607581",
   "metadata": {
    "execution": {
     "iopub.execute_input": "2021-08-04T06:29:49.801374Z",
     "iopub.status.busy": "2021-08-04T06:29:49.800917Z",
     "iopub.status.idle": "2021-08-04T06:29:49.851007Z",
     "shell.execute_reply": "2021-08-04T06:29:49.850203Z"
    }
   },
   "outputs": [
    {
     "data": {
      "image/svg+xml": [
       "<?xml version=\"1.0\" encoding=\"UTF-8\" standalone=\"no\"?><svg xmlns=\"http://www.w3.org/2000/svg\" xmlns:xlink=\"http://www.w3.org/1999/xlink\" contentScriptType=\"application/ecmascript\" contentStyleType=\"text/css\" height=\"263px\" preserveAspectRatio=\"none\" style=\"width:812px;height:263px;\" version=\"1.1\" viewBox=\"0 0 812 263\" width=\"812px\" zoomAndPan=\"magnify\"><defs/><g><!--MD5=[fbc87193dbaf4d95561dea2c320d4a47]\n",
       "cluster E1--><a href=\"psysml:04657276-263c-446b-8b63-b81fdc3bdb65\" target=\"_top\" title=\"psysml:04657276-263c-446b-8b63-b81fdc3bdb65\" xlink:actuate=\"onRequest\" xlink:href=\"psysml:04657276-263c-446b-8b63-b81fdc3bdb65\" xlink:show=\"new\" xlink:title=\"psysml:04657276-263c-446b-8b63-b81fdc3bdb65\" xlink:type=\"simple\"><polygon fill=\"#FFFFFF\" points=\"16,6,140,6,147,28.2969,790,28.2969,790,251,16,251,16,6\" style=\"stroke: #000000; stroke-width: 1.5;\"/><line style=\"stroke: #000000; stroke-width: 1.5;\" x1=\"16\" x2=\"147\" y1=\"28.2969\" y2=\"28.2969\"/><text fill=\"#000000\" font-family=\"sans-serif\" font-size=\"14\" font-weight=\"bold\" lengthAdjust=\"spacingAndGlyphs\" textLength=\"118\" x=\"20\" y=\"20.9951\">MultiplicityTest</text></a><!--MD5=[b4997ac47864f28c2f74865a473b2911]\n",
       "class E2--><a href=\"psysml:68eb8761-ff46-4523-ba58-41a062b6cb94\" target=\"_top\" title=\"psysml:68eb8761-ff46-4523-ba58-41a062b6cb94\" xlink:actuate=\"onRequest\" xlink:href=\"psysml:68eb8761-ff46-4523-ba58-41a062b6cb94\" xlink:show=\"new\" xlink:title=\"psysml:68eb8761-ff46-4523-ba58-41a062b6cb94\" xlink:type=\"simple\"><rect fill=\"#FFFFFF\" height=\"45.9375\" id=\"E2\" style=\"stroke: #383838; stroke-width: 1.5;\" width=\"66\" x=\"497\" y=\"189\"/><text fill=\"#000000\" font-family=\"sans-serif\" font-size=\"12\" font-style=\"italic\" lengthAdjust=\"spacingAndGlyphs\" textLength=\"64\" x=\"498\" y=\"205.1387\">«part def»</text><text fill=\"#000000\" font-family=\"sans-serif\" font-size=\"12\" lengthAdjust=\"spacingAndGlyphs\" textLength=\"8\" x=\"526\" y=\"219.1074\">P</text><line style=\"stroke: #383838; stroke-width: 1.5;\" x1=\"498\" x2=\"562\" y1=\"226.9375\" y2=\"226.9375\"/></a><!--MD5=[09b614a08d8cba4a07c9adeb5e0fee81]\n",
       "class E3--><a href=\"psysml:c2c67205-2617-478d-9839-9411bc2f8511\" target=\"_top\" title=\"psysml:c2c67205-2617-478d-9839-9411bc2f8511\" xlink:actuate=\"onRequest\" xlink:href=\"psysml:c2c67205-2617-478d-9839-9411bc2f8511\" xlink:show=\"new\" xlink:title=\"psysml:c2c67205-2617-478d-9839-9411bc2f8511\" xlink:type=\"simple\"><rect fill=\"#FFFFFF\" height=\"45.9375\" id=\"E3\" rx=\"10\" ry=\"10\" style=\"stroke: #383838; stroke-width: 1.5;\" width=\"71\" x=\"702.5\" y=\"62\"/><text fill=\"#000000\" font-family=\"sans-serif\" font-size=\"12\" font-style=\"italic\" lengthAdjust=\"spacingAndGlyphs\" textLength=\"69\" x=\"703.5\" y=\"78.1387\">«attribute»</text><text fill=\"#000000\" font-family=\"sans-serif\" font-size=\"12\" lengthAdjust=\"spacingAndGlyphs\" textLength=\"61\" x=\"707.5\" y=\"92.1074\">n: Integer</text><line style=\"stroke: #383838; stroke-width: 1.5;\" x1=\"703.5\" x2=\"772.5\" y1=\"99.9375\" y2=\"99.9375\"/></a><!--MD5=[ebbe1d658d1005bcc118a6aa81145e00]\n",
       "class E4--><a href=\"psysml:fbb3215b-67d9-4514-b40f-6d8c33165593\" target=\"_top\" title=\"psysml:fbb3215b-67d9-4514-b40f-6d8c33165593\" xlink:actuate=\"onRequest\" xlink:href=\"psysml:fbb3215b-67d9-4514-b40f-6d8c33165593\" xlink:show=\"new\" xlink:title=\"psysml:fbb3215b-67d9-4514-b40f-6d8c33165593\" xlink:type=\"simple\"><rect fill=\"#FFFFFF\" height=\"45.9375\" id=\"E4\" rx=\"10\" ry=\"10\" style=\"stroke: #383838; stroke-width: 1.5;\" width=\"42\" x=\"625\" y=\"62\"/><text fill=\"#000000\" font-family=\"sans-serif\" font-size=\"12\" font-style=\"italic\" lengthAdjust=\"spacingAndGlyphs\" textLength=\"40\" x=\"626\" y=\"78.1387\">«part»</text><text fill=\"#000000\" font-family=\"sans-serif\" font-size=\"12\" lengthAdjust=\"spacingAndGlyphs\" textLength=\"8\" x=\"642\" y=\"92.1074\">a</text><line style=\"stroke: #383838; stroke-width: 1.5;\" x1=\"626\" x2=\"666\" y1=\"99.9375\" y2=\"99.9375\"/></a><!--MD5=[270fce915f116d4de14055a7c1d9a0f3]\n",
       "class E5--><a href=\"psysml:d1ff5ca6-7417-4682-b046-127881647fcb\" target=\"_top\" title=\"psysml:d1ff5ca6-7417-4682-b046-127881647fcb\" xlink:actuate=\"onRequest\" xlink:href=\"psysml:d1ff5ca6-7417-4682-b046-127881647fcb\" xlink:show=\"new\" xlink:title=\"psysml:d1ff5ca6-7417-4682-b046-127881647fcb\" xlink:type=\"simple\"><rect fill=\"#FFFFFF\" height=\"45.9375\" id=\"E5\" rx=\"10\" ry=\"10\" style=\"stroke: #383838; stroke-width: 1.5;\" width=\"42\" x=\"548\" y=\"62\"/><text fill=\"#000000\" font-family=\"sans-serif\" font-size=\"12\" font-style=\"italic\" lengthAdjust=\"spacingAndGlyphs\" textLength=\"40\" x=\"549\" y=\"78.1387\">«part»</text><text fill=\"#000000\" font-family=\"sans-serif\" font-size=\"12\" lengthAdjust=\"spacingAndGlyphs\" textLength=\"24\" x=\"557\" y=\"92.1074\">b: P</text><line style=\"stroke: #383838; stroke-width: 1.5;\" x1=\"549\" x2=\"589\" y1=\"99.9375\" y2=\"99.9375\"/></a><!--MD5=[60a26617385b1d2d0262a64233df1f8d]\n",
       "class E6--><a href=\"psysml:20d627d7-8daa-4ea4-8c0c-0e67ee5e3616\" target=\"_top\" title=\"psysml:20d627d7-8daa-4ea4-8c0c-0e67ee5e3616\" xlink:actuate=\"onRequest\" xlink:href=\"psysml:20d627d7-8daa-4ea4-8c0c-0e67ee5e3616\" xlink:show=\"new\" xlink:title=\"psysml:20d627d7-8daa-4ea4-8c0c-0e67ee5e3616\" xlink:type=\"simple\"><rect fill=\"#FFFFFF\" height=\"45.9375\" id=\"E6\" rx=\"10\" ry=\"10\" style=\"stroke: #383838; stroke-width: 1.5;\" width=\"42\" x=\"471\" y=\"62\"/><text fill=\"#000000\" font-family=\"sans-serif\" font-size=\"12\" font-style=\"italic\" lengthAdjust=\"spacingAndGlyphs\" textLength=\"40\" x=\"472\" y=\"78.1387\">«part»</text><text fill=\"#000000\" font-family=\"sans-serif\" font-size=\"12\" lengthAdjust=\"spacingAndGlyphs\" textLength=\"23\" x=\"480.5\" y=\"92.1074\">c: P</text><line style=\"stroke: #383838; stroke-width: 1.5;\" x1=\"472\" x2=\"512\" y1=\"99.9375\" y2=\"99.9375\"/></a><!--MD5=[2156ba9850f5573cc1fc38a6a4b2f02b]\n",
       "class E7--><a href=\"psysml:4fc87a01-ac01-48e0-9821-1b5b80a637f1\" target=\"_top\" title=\"psysml:4fc87a01-ac01-48e0-9821-1b5b80a637f1\" xlink:actuate=\"onRequest\" xlink:href=\"psysml:4fc87a01-ac01-48e0-9821-1b5b80a637f1\" xlink:show=\"new\" xlink:title=\"psysml:4fc87a01-ac01-48e0-9821-1b5b80a637f1\" xlink:type=\"simple\"><rect fill=\"#FFFFFF\" height=\"45.9375\" id=\"E7\" rx=\"10\" ry=\"10\" style=\"stroke: #383838; stroke-width: 1.5;\" width=\"42\" x=\"394\" y=\"62\"/><text fill=\"#000000\" font-family=\"sans-serif\" font-size=\"12\" font-style=\"italic\" lengthAdjust=\"spacingAndGlyphs\" textLength=\"40\" x=\"395\" y=\"78.1387\">«part»</text><text fill=\"#000000\" font-family=\"sans-serif\" font-size=\"12\" lengthAdjust=\"spacingAndGlyphs\" textLength=\"8\" x=\"411\" y=\"92.1074\">d</text><line style=\"stroke: #383838; stroke-width: 1.5;\" x1=\"395\" x2=\"435\" y1=\"99.9375\" y2=\"99.9375\"/></a><!--MD5=[b9389687b975829384b498ac4b7476b2]\n",
       "class E8--><a href=\"psysml:e7c3b12c-9054-4127-bd5f-a31eeffec0a6\" target=\"_top\" title=\"psysml:e7c3b12c-9054-4127-bd5f-a31eeffec0a6\" xlink:actuate=\"onRequest\" xlink:href=\"psysml:e7c3b12c-9054-4127-bd5f-a31eeffec0a6\" xlink:show=\"new\" xlink:title=\"psysml:e7c3b12c-9054-4127-bd5f-a31eeffec0a6\" xlink:type=\"simple\"><rect fill=\"#FFFFFF\" height=\"45.9375\" id=\"E8\" rx=\"10\" ry=\"10\" style=\"stroke: #383838; stroke-width: 1.5;\" width=\"42\" x=\"317\" y=\"62\"/><text fill=\"#000000\" font-family=\"sans-serif\" font-size=\"12\" font-style=\"italic\" lengthAdjust=\"spacingAndGlyphs\" textLength=\"40\" x=\"318\" y=\"78.1387\">«part»</text><text fill=\"#000000\" font-family=\"sans-serif\" font-size=\"12\" lengthAdjust=\"spacingAndGlyphs\" textLength=\"8\" x=\"334\" y=\"92.1074\">e</text><line style=\"stroke: #383838; stroke-width: 1.5;\" x1=\"318\" x2=\"358\" y1=\"99.9375\" y2=\"99.9375\"/></a><!--MD5=[fd4143e9d270a159db93a4ea2a975926]\n",
       "class E9--><a href=\"psysml:49b700d2-d9c4-4257-84cb-c65bfac2aa08\" target=\"_top\" title=\"psysml:49b700d2-d9c4-4257-84cb-c65bfac2aa08\" xlink:actuate=\"onRequest\" xlink:href=\"psysml:49b700d2-d9c4-4257-84cb-c65bfac2aa08\" xlink:show=\"new\" xlink:title=\"psysml:49b700d2-d9c4-4257-84cb-c65bfac2aa08\" xlink:type=\"simple\"><rect fill=\"#FFFFFF\" height=\"45.9375\" id=\"E9\" rx=\"10\" ry=\"10\" style=\"stroke: #383838; stroke-width: 1.5;\" width=\"42\" x=\"240\" y=\"62\"/><text fill=\"#000000\" font-family=\"sans-serif\" font-size=\"12\" font-style=\"italic\" lengthAdjust=\"spacingAndGlyphs\" textLength=\"40\" x=\"241\" y=\"78.1387\">«part»</text><text fill=\"#000000\" font-family=\"sans-serif\" font-size=\"12\" lengthAdjust=\"spacingAndGlyphs\" textLength=\"4\" x=\"259\" y=\"92.1074\">f</text><line style=\"stroke: #383838; stroke-width: 1.5;\" x1=\"241\" x2=\"281\" y1=\"99.9375\" y2=\"99.9375\"/></a><!--MD5=[96f4274e9e20536e775497830990834d]\n",
       "class E10--><a href=\"psysml:20161f3e-4930-46fe-a17d-f79ec2a77aae\" target=\"_top\" title=\"psysml:20161f3e-4930-46fe-a17d-f79ec2a77aae\" xlink:actuate=\"onRequest\" xlink:href=\"psysml:20161f3e-4930-46fe-a17d-f79ec2a77aae\" xlink:show=\"new\" xlink:title=\"psysml:20161f3e-4930-46fe-a17d-f79ec2a77aae\" xlink:type=\"simple\"><rect fill=\"#FFFFFF\" height=\"45.9375\" id=\"E10\" rx=\"10\" ry=\"10\" style=\"stroke: #383838; stroke-width: 1.5;\" width=\"42\" x=\"163\" y=\"62\"/><text fill=\"#000000\" font-family=\"sans-serif\" font-size=\"12\" font-style=\"italic\" lengthAdjust=\"spacingAndGlyphs\" textLength=\"40\" x=\"164\" y=\"78.1387\">«part»</text><text fill=\"#000000\" font-family=\"sans-serif\" font-size=\"12\" lengthAdjust=\"spacingAndGlyphs\" textLength=\"8\" x=\"180\" y=\"92.1074\">g</text><line style=\"stroke: #383838; stroke-width: 1.5;\" x1=\"164\" x2=\"204\" y1=\"99.9375\" y2=\"99.9375\"/></a><!--MD5=[1dd1bfd58a279cf63c5f349dbc8fc6a1]\n",
       "class E11--><a href=\"psysml:958dabfe-3a24-44d8-9bca-d5e375f56ac2\" target=\"_top\" title=\"psysml:958dabfe-3a24-44d8-9bca-d5e375f56ac2\" xlink:actuate=\"onRequest\" xlink:href=\"psysml:958dabfe-3a24-44d8-9bca-d5e375f56ac2\" xlink:show=\"new\" xlink:title=\"psysml:958dabfe-3a24-44d8-9bca-d5e375f56ac2\" xlink:type=\"simple\"><rect fill=\"#FFFFFF\" height=\"88.3516\" id=\"E11\" style=\"stroke: #383838; stroke-width: 1.5;\" width=\"95\" x=\"32.5\" y=\"41\"/><text fill=\"#000000\" font-family=\"sans-serif\" font-size=\"12\" font-style=\"italic\" lengthAdjust=\"spacingAndGlyphs\" textLength=\"93\" x=\"33.5\" y=\"57.1387\">«attribute def»</text><text fill=\"#000000\" font-family=\"sans-serif\" font-size=\"12\" lengthAdjust=\"spacingAndGlyphs\" textLength=\"8\" x=\"76\" y=\"71.1074\">A</text><line style=\"stroke: #383838; stroke-width: 1.5;\" x1=\"33.5\" x2=\"126.5\" y1=\"78.9375\" y2=\"78.9375\"/><text fill=\"#000000\" font-family=\"sans-serif\" font-size=\"11\" lengthAdjust=\"spacingAndGlyphs\" textLength=\"51\" x=\"38.5\" y=\"109.9526\">i: Integer</text><text fill=\"#000000\" font-family=\"sans-serif\" font-size=\"11\" lengthAdjust=\"spacingAndGlyphs\" textLength=\"21\" x=\"38.5\" y=\"122.7573\">x: A</text><line style=\"stroke: #383838; stroke-width: 1.0;\" x1=\"33.5\" x2=\"52.5\" y1=\"93.3398\" y2=\"93.3398\"/><text fill=\"#000000\" font-family=\"sans-serif\" font-size=\"11\" lengthAdjust=\"spacingAndGlyphs\" textLength=\"55\" x=\"52.5\" y=\"96.6479\">attributes</text><line style=\"stroke: #383838; stroke-width: 1.0;\" x1=\"107.5\" x2=\"126.5\" y1=\"93.3398\" y2=\"93.3398\"/></a><!--MD5=[15ebcb19ae302d9b601edb458606d402]\n",
       "link E5 to E2--><a href=\"psysml:a788c1ae-8502-4aea-9d8b-5a5d865c76a9\" target=\"_top\" title=\"psysml:a788c1ae-8502-4aea-9d8b-5a5d865c76a9\" xlink:actuate=\"onRequest\" xlink:href=\"psysml:a788c1ae-8502-4aea-9d8b-5a5d865c76a9\" xlink:show=\"new\" xlink:title=\"psysml:a788c1ae-8502-4aea-9d8b-5a5d865c76a9\" xlink:type=\"simple\"><path d=\"M562.12,108.06 C556.83,125 549.38,148.89 542.98,169.39 \" fill=\"none\" id=\"E5-&gt;E2\" style=\"stroke: #383838; stroke-width: 1.0;\"/><polygon fill=\"#FFFFFF\" points=\"536.95,188.74,535.929,168.5173,549.2931,172.6886,536.95,188.74\" style=\"stroke: #383838; stroke-width: 1.0;\"/><ellipse cx=\"539.5364\" cy=\"163.6721\" fill=\"#383838\" rx=\"2\" ry=\"2\" style=\"stroke: #383838; stroke-width: 1.0;\"/><ellipse cx=\"549.0823\" cy=\"166.6516\" fill=\"#383838\" rx=\"2\" ry=\"2\" style=\"stroke: #383838; stroke-width: 1.0;\"/></a><!--MD5=[2351f337d6de0f557b50152ba70847b5]\n",
       "link E6 to E2--><a href=\"psysml:96c9e024-7b1d-4ba9-883a-860d4899a00e\" target=\"_top\" title=\"psysml:96c9e024-7b1d-4ba9-883a-860d4899a00e\" xlink:actuate=\"onRequest\" xlink:href=\"psysml:96c9e024-7b1d-4ba9-883a-860d4899a00e\" xlink:show=\"new\" xlink:title=\"psysml:96c9e024-7b1d-4ba9-883a-860d4899a00e\" xlink:type=\"simple\"><path d=\"M498.71,108.06 C503.86,125 511.12,148.89 517.35,169.39 \" fill=\"none\" id=\"E6-&gt;E2\" style=\"stroke: #383838; stroke-width: 1.0;\"/><polygon fill=\"#FFFFFF\" points=\"523.23,188.74,511.007,172.597,524.4019,168.5255,523.23,188.74\" style=\"stroke: #383838; stroke-width: 1.0;\"/><ellipse cx=\"511.2628\" cy=\"166.5617\" fill=\"#383838\" rx=\"2\" ry=\"2\" style=\"stroke: #383838; stroke-width: 1.0;\"/><ellipse cx=\"520.8306\" cy=\"163.6535\" fill=\"#383838\" rx=\"2\" ry=\"2\" style=\"stroke: #383838; stroke-width: 1.0;\"/></a><!--MD5=[5696ea0d19a2a708630082ad9221878e]\n",
       "@startuml\r\n",
       " skinparam monochrome true\r\n",
       "skinparam classbackgroundcolor white\r\n",
       "skinparam shadowing false\r\n",
       "skinparam wrapWidth 300\r\n",
       "hide circle\r\n",
       "\r\n",
       "package \"MultiplicityTest\" as E1  [[psysml:04657276-263c-446b-8b63-b81fdc3bdb65 ]]  {\r\n",
       "comp def \"P\" as E2  <<(T,blue) part def>> [[psysml:68eb8761-ff46-4523-ba58-41a062b6cb94 ]] {\r\n",
       "}\r\n",
       "comp usage \"n: Integer\" as E3  <<(T,blue) attribute>> [[psysml:c2c67205-2617-478d-9839-9411bc2f8511 ]] {\r\n",
       "}\r\n",
       "comp usage \"a\" as E4  <<(T,blue) part>> [[psysml:fbb3215b-67d9-4514-b40f-6d8c33165593 ]] {\r\n",
       "}\r\n",
       "comp usage \"b: P\" as E5  <<(T,blue) part>> [[psysml:d1ff5ca6-7417-4682-b046-127881647fcb ]] {\r\n",
       "}\r\n",
       "comp usage \"c: P\" as E6  <<(T,blue) part>> [[psysml:20d627d7-8daa-4ea4-8c0c-0e67ee5e3616 ]] {\r\n",
       "}\r\n",
       "comp usage \"d\" as E7  <<(T,blue) part>> [[psysml:4fc87a01-ac01-48e0-9821-1b5b80a637f1 ]] {\r\n",
       "}\r\n",
       "comp usage \"e\" as E8  <<(T,blue) part>> [[psysml:e7c3b12c-9054-4127-bd5f-a31eeffec0a6 ]] {\r\n",
       "}\r\n",
       "comp usage \"f\" as E9  <<(T,blue) part>> [[psysml:49b700d2-d9c4-4257-84cb-c65bfac2aa08 ]] {\r\n",
       "}\r\n",
       "comp usage \"g\" as E10  <<(T,blue) part>> [[psysml:20161f3e-4930-46fe-a17d-f79ec2a77aae ]] {\r\n",
       "}\r\n",
       "comp def \"A\" as E11  <<(T,blue) attribute def>> [[psysml:958dabfe-3a24-44d8-9bca-d5e375f56ac2 ]] {\r\n",
       "- - attributes - -\r\n",
       "i: Integer\r\n",
       "x: A\r\n",
       "}\r\n",
       "E5 - -:|> E2 [[psysml:a788c1ae-8502-4aea-9d8b-5a5d865c76a9 ]] \r\n",
       "E6 - -:|> E2 [[psysml:96c9e024-7b1d-4ba9-883a-860d4899a00e ]] \r\n",
       "}\r\n",
       "@enduml\r\n",
       "\n",
       "PlantUML version 1.2020.13(Sat Jun 13 12:26:38 UTC 2020)\n",
       "(EPL source distribution)\n",
       "Java Runtime: OpenJDK Runtime Environment\n",
       "JVM: OpenJDK 64-Bit Server VM\n",
       "Default Encoding: UTF-8\n",
       "Language: en\n",
       "Country: null\n",
       "--></g></svg>"
      ]
     },
     "execution_count": 8,
     "metadata": {},
     "output_type": "execute_result"
    }
   ],
   "source": [
    "%viz --style=\"COMPTREE\" --view=\"MIXED\" \"MultiplicityTest\""
   ]
  },
  {
   "cell_type": "code",
   "execution_count": 9,
   "id": "50351be0",
   "metadata": {
    "execution": {
     "iopub.execute_input": "2021-08-04T06:29:49.901341Z",
     "iopub.status.busy": "2021-08-04T06:29:49.900883Z",
     "iopub.status.idle": "2021-08-04T06:29:49.961574Z",
     "shell.execute_reply": "2021-08-04T06:29:49.960748Z"
    }
   },
   "outputs": [
    {
     "data": {
      "image/svg+xml": [
       "<?xml version=\"1.0\" encoding=\"UTF-8\" standalone=\"no\"?><svg xmlns=\"http://www.w3.org/2000/svg\" xmlns:xlink=\"http://www.w3.org/1999/xlink\" contentScriptType=\"application/ecmascript\" contentStyleType=\"text/css\" height=\"263px\" preserveAspectRatio=\"none\" style=\"width:812px;height:263px;\" version=\"1.1\" viewBox=\"0 0 812 263\" width=\"812px\" zoomAndPan=\"magnify\"><defs/><g><!--MD5=[fbc87193dbaf4d95561dea2c320d4a47]\n",
       "cluster E1--><a href=\"psysml:04657276-263c-446b-8b63-b81fdc3bdb65\" target=\"_top\" title=\"psysml:04657276-263c-446b-8b63-b81fdc3bdb65\" xlink:actuate=\"onRequest\" xlink:href=\"psysml:04657276-263c-446b-8b63-b81fdc3bdb65\" xlink:show=\"new\" xlink:title=\"psysml:04657276-263c-446b-8b63-b81fdc3bdb65\" xlink:type=\"simple\"><polygon fill=\"#FFFFFF\" points=\"16,6,140,6,147,28.2969,790,28.2969,790,251,16,251,16,6\" style=\"stroke: #000000; stroke-width: 1.5;\"/><line style=\"stroke: #000000; stroke-width: 1.5;\" x1=\"16\" x2=\"147\" y1=\"28.2969\" y2=\"28.2969\"/><text fill=\"#000000\" font-family=\"sans-serif\" font-size=\"14\" font-weight=\"bold\" lengthAdjust=\"spacingAndGlyphs\" textLength=\"118\" x=\"20\" y=\"20.9951\">MultiplicityTest</text></a><!--MD5=[b4997ac47864f28c2f74865a473b2911]\n",
       "class E2--><a href=\"psysml:68eb8761-ff46-4523-ba58-41a062b6cb94\" target=\"_top\" title=\"psysml:68eb8761-ff46-4523-ba58-41a062b6cb94\" xlink:actuate=\"onRequest\" xlink:href=\"psysml:68eb8761-ff46-4523-ba58-41a062b6cb94\" xlink:show=\"new\" xlink:title=\"psysml:68eb8761-ff46-4523-ba58-41a062b6cb94\" xlink:type=\"simple\"><rect fill=\"#FFFFFF\" height=\"45.9375\" id=\"E2\" style=\"stroke: #383838; stroke-width: 1.5;\" width=\"66\" x=\"497\" y=\"189\"/><text fill=\"#000000\" font-family=\"sans-serif\" font-size=\"12\" font-style=\"italic\" lengthAdjust=\"spacingAndGlyphs\" textLength=\"64\" x=\"498\" y=\"205.1387\">«part def»</text><text fill=\"#000000\" font-family=\"sans-serif\" font-size=\"12\" lengthAdjust=\"spacingAndGlyphs\" textLength=\"8\" x=\"526\" y=\"219.1074\">P</text><line style=\"stroke: #383838; stroke-width: 1.5;\" x1=\"498\" x2=\"562\" y1=\"226.9375\" y2=\"226.9375\"/></a><!--MD5=[09b614a08d8cba4a07c9adeb5e0fee81]\n",
       "class E3--><a href=\"psysml:c2c67205-2617-478d-9839-9411bc2f8511\" target=\"_top\" title=\"psysml:c2c67205-2617-478d-9839-9411bc2f8511\" xlink:actuate=\"onRequest\" xlink:href=\"psysml:c2c67205-2617-478d-9839-9411bc2f8511\" xlink:show=\"new\" xlink:title=\"psysml:c2c67205-2617-478d-9839-9411bc2f8511\" xlink:type=\"simple\"><rect fill=\"#FFFFFF\" height=\"45.9375\" id=\"E3\" rx=\"10\" ry=\"10\" style=\"stroke: #383838; stroke-width: 1.5;\" width=\"71\" x=\"702.5\" y=\"62\"/><text fill=\"#000000\" font-family=\"sans-serif\" font-size=\"12\" font-style=\"italic\" lengthAdjust=\"spacingAndGlyphs\" textLength=\"69\" x=\"703.5\" y=\"78.1387\">«attribute»</text><text fill=\"#000000\" font-family=\"sans-serif\" font-size=\"12\" lengthAdjust=\"spacingAndGlyphs\" textLength=\"61\" x=\"707.5\" y=\"92.1074\">n: Integer</text><line style=\"stroke: #383838; stroke-width: 1.5;\" x1=\"703.5\" x2=\"772.5\" y1=\"99.9375\" y2=\"99.9375\"/></a><!--MD5=[ebbe1d658d1005bcc118a6aa81145e00]\n",
       "class E4--><a href=\"psysml:fbb3215b-67d9-4514-b40f-6d8c33165593\" target=\"_top\" title=\"psysml:fbb3215b-67d9-4514-b40f-6d8c33165593\" xlink:actuate=\"onRequest\" xlink:href=\"psysml:fbb3215b-67d9-4514-b40f-6d8c33165593\" xlink:show=\"new\" xlink:title=\"psysml:fbb3215b-67d9-4514-b40f-6d8c33165593\" xlink:type=\"simple\"><rect fill=\"#FFFFFF\" height=\"45.9375\" id=\"E4\" rx=\"10\" ry=\"10\" style=\"stroke: #383838; stroke-width: 1.5;\" width=\"42\" x=\"625\" y=\"62\"/><text fill=\"#000000\" font-family=\"sans-serif\" font-size=\"12\" font-style=\"italic\" lengthAdjust=\"spacingAndGlyphs\" textLength=\"40\" x=\"626\" y=\"78.1387\">«part»</text><text fill=\"#000000\" font-family=\"sans-serif\" font-size=\"12\" lengthAdjust=\"spacingAndGlyphs\" textLength=\"8\" x=\"642\" y=\"92.1074\">a</text><line style=\"stroke: #383838; stroke-width: 1.5;\" x1=\"626\" x2=\"666\" y1=\"99.9375\" y2=\"99.9375\"/></a><!--MD5=[270fce915f116d4de14055a7c1d9a0f3]\n",
       "class E5--><a href=\"psysml:d1ff5ca6-7417-4682-b046-127881647fcb\" target=\"_top\" title=\"psysml:d1ff5ca6-7417-4682-b046-127881647fcb\" xlink:actuate=\"onRequest\" xlink:href=\"psysml:d1ff5ca6-7417-4682-b046-127881647fcb\" xlink:show=\"new\" xlink:title=\"psysml:d1ff5ca6-7417-4682-b046-127881647fcb\" xlink:type=\"simple\"><rect fill=\"#FFFFFF\" height=\"45.9375\" id=\"E5\" rx=\"10\" ry=\"10\" style=\"stroke: #383838; stroke-width: 1.5;\" width=\"42\" x=\"548\" y=\"62\"/><text fill=\"#000000\" font-family=\"sans-serif\" font-size=\"12\" font-style=\"italic\" lengthAdjust=\"spacingAndGlyphs\" textLength=\"40\" x=\"549\" y=\"78.1387\">«part»</text><text fill=\"#000000\" font-family=\"sans-serif\" font-size=\"12\" lengthAdjust=\"spacingAndGlyphs\" textLength=\"24\" x=\"557\" y=\"92.1074\">b: P</text><line style=\"stroke: #383838; stroke-width: 1.5;\" x1=\"549\" x2=\"589\" y1=\"99.9375\" y2=\"99.9375\"/></a><!--MD5=[60a26617385b1d2d0262a64233df1f8d]\n",
       "class E6--><a href=\"psysml:20d627d7-8daa-4ea4-8c0c-0e67ee5e3616\" target=\"_top\" title=\"psysml:20d627d7-8daa-4ea4-8c0c-0e67ee5e3616\" xlink:actuate=\"onRequest\" xlink:href=\"psysml:20d627d7-8daa-4ea4-8c0c-0e67ee5e3616\" xlink:show=\"new\" xlink:title=\"psysml:20d627d7-8daa-4ea4-8c0c-0e67ee5e3616\" xlink:type=\"simple\"><rect fill=\"#FFFFFF\" height=\"45.9375\" id=\"E6\" rx=\"10\" ry=\"10\" style=\"stroke: #383838; stroke-width: 1.5;\" width=\"42\" x=\"471\" y=\"62\"/><text fill=\"#000000\" font-family=\"sans-serif\" font-size=\"12\" font-style=\"italic\" lengthAdjust=\"spacingAndGlyphs\" textLength=\"40\" x=\"472\" y=\"78.1387\">«part»</text><text fill=\"#000000\" font-family=\"sans-serif\" font-size=\"12\" lengthAdjust=\"spacingAndGlyphs\" textLength=\"23\" x=\"480.5\" y=\"92.1074\">c: P</text><line style=\"stroke: #383838; stroke-width: 1.5;\" x1=\"472\" x2=\"512\" y1=\"99.9375\" y2=\"99.9375\"/></a><!--MD5=[2156ba9850f5573cc1fc38a6a4b2f02b]\n",
       "class E7--><a href=\"psysml:4fc87a01-ac01-48e0-9821-1b5b80a637f1\" target=\"_top\" title=\"psysml:4fc87a01-ac01-48e0-9821-1b5b80a637f1\" xlink:actuate=\"onRequest\" xlink:href=\"psysml:4fc87a01-ac01-48e0-9821-1b5b80a637f1\" xlink:show=\"new\" xlink:title=\"psysml:4fc87a01-ac01-48e0-9821-1b5b80a637f1\" xlink:type=\"simple\"><rect fill=\"#FFFFFF\" height=\"45.9375\" id=\"E7\" rx=\"10\" ry=\"10\" style=\"stroke: #383838; stroke-width: 1.5;\" width=\"42\" x=\"394\" y=\"62\"/><text fill=\"#000000\" font-family=\"sans-serif\" font-size=\"12\" font-style=\"italic\" lengthAdjust=\"spacingAndGlyphs\" textLength=\"40\" x=\"395\" y=\"78.1387\">«part»</text><text fill=\"#000000\" font-family=\"sans-serif\" font-size=\"12\" lengthAdjust=\"spacingAndGlyphs\" textLength=\"8\" x=\"411\" y=\"92.1074\">d</text><line style=\"stroke: #383838; stroke-width: 1.5;\" x1=\"395\" x2=\"435\" y1=\"99.9375\" y2=\"99.9375\"/></a><!--MD5=[b9389687b975829384b498ac4b7476b2]\n",
       "class E8--><a href=\"psysml:e7c3b12c-9054-4127-bd5f-a31eeffec0a6\" target=\"_top\" title=\"psysml:e7c3b12c-9054-4127-bd5f-a31eeffec0a6\" xlink:actuate=\"onRequest\" xlink:href=\"psysml:e7c3b12c-9054-4127-bd5f-a31eeffec0a6\" xlink:show=\"new\" xlink:title=\"psysml:e7c3b12c-9054-4127-bd5f-a31eeffec0a6\" xlink:type=\"simple\"><rect fill=\"#FFFFFF\" height=\"45.9375\" id=\"E8\" rx=\"10\" ry=\"10\" style=\"stroke: #383838; stroke-width: 1.5;\" width=\"42\" x=\"317\" y=\"62\"/><text fill=\"#000000\" font-family=\"sans-serif\" font-size=\"12\" font-style=\"italic\" lengthAdjust=\"spacingAndGlyphs\" textLength=\"40\" x=\"318\" y=\"78.1387\">«part»</text><text fill=\"#000000\" font-family=\"sans-serif\" font-size=\"12\" lengthAdjust=\"spacingAndGlyphs\" textLength=\"8\" x=\"334\" y=\"92.1074\">e</text><line style=\"stroke: #383838; stroke-width: 1.5;\" x1=\"318\" x2=\"358\" y1=\"99.9375\" y2=\"99.9375\"/></a><!--MD5=[fd4143e9d270a159db93a4ea2a975926]\n",
       "class E9--><a href=\"psysml:49b700d2-d9c4-4257-84cb-c65bfac2aa08\" target=\"_top\" title=\"psysml:49b700d2-d9c4-4257-84cb-c65bfac2aa08\" xlink:actuate=\"onRequest\" xlink:href=\"psysml:49b700d2-d9c4-4257-84cb-c65bfac2aa08\" xlink:show=\"new\" xlink:title=\"psysml:49b700d2-d9c4-4257-84cb-c65bfac2aa08\" xlink:type=\"simple\"><rect fill=\"#FFFFFF\" height=\"45.9375\" id=\"E9\" rx=\"10\" ry=\"10\" style=\"stroke: #383838; stroke-width: 1.5;\" width=\"42\" x=\"240\" y=\"62\"/><text fill=\"#000000\" font-family=\"sans-serif\" font-size=\"12\" font-style=\"italic\" lengthAdjust=\"spacingAndGlyphs\" textLength=\"40\" x=\"241\" y=\"78.1387\">«part»</text><text fill=\"#000000\" font-family=\"sans-serif\" font-size=\"12\" lengthAdjust=\"spacingAndGlyphs\" textLength=\"4\" x=\"259\" y=\"92.1074\">f</text><line style=\"stroke: #383838; stroke-width: 1.5;\" x1=\"241\" x2=\"281\" y1=\"99.9375\" y2=\"99.9375\"/></a><!--MD5=[96f4274e9e20536e775497830990834d]\n",
       "class E10--><a href=\"psysml:20161f3e-4930-46fe-a17d-f79ec2a77aae\" target=\"_top\" title=\"psysml:20161f3e-4930-46fe-a17d-f79ec2a77aae\" xlink:actuate=\"onRequest\" xlink:href=\"psysml:20161f3e-4930-46fe-a17d-f79ec2a77aae\" xlink:show=\"new\" xlink:title=\"psysml:20161f3e-4930-46fe-a17d-f79ec2a77aae\" xlink:type=\"simple\"><rect fill=\"#FFFFFF\" height=\"45.9375\" id=\"E10\" rx=\"10\" ry=\"10\" style=\"stroke: #383838; stroke-width: 1.5;\" width=\"42\" x=\"163\" y=\"62\"/><text fill=\"#000000\" font-family=\"sans-serif\" font-size=\"12\" font-style=\"italic\" lengthAdjust=\"spacingAndGlyphs\" textLength=\"40\" x=\"164\" y=\"78.1387\">«part»</text><text fill=\"#000000\" font-family=\"sans-serif\" font-size=\"12\" lengthAdjust=\"spacingAndGlyphs\" textLength=\"8\" x=\"180\" y=\"92.1074\">g</text><line style=\"stroke: #383838; stroke-width: 1.5;\" x1=\"164\" x2=\"204\" y1=\"99.9375\" y2=\"99.9375\"/></a><!--MD5=[1dd1bfd58a279cf63c5f349dbc8fc6a1]\n",
       "class E11--><a href=\"psysml:958dabfe-3a24-44d8-9bca-d5e375f56ac2\" target=\"_top\" title=\"psysml:958dabfe-3a24-44d8-9bca-d5e375f56ac2\" xlink:actuate=\"onRequest\" xlink:href=\"psysml:958dabfe-3a24-44d8-9bca-d5e375f56ac2\" xlink:show=\"new\" xlink:title=\"psysml:958dabfe-3a24-44d8-9bca-d5e375f56ac2\" xlink:type=\"simple\"><rect fill=\"#FFFFFF\" height=\"88.3516\" id=\"E11\" style=\"stroke: #383838; stroke-width: 1.5;\" width=\"95\" x=\"32.5\" y=\"41\"/><text fill=\"#000000\" font-family=\"sans-serif\" font-size=\"12\" font-style=\"italic\" lengthAdjust=\"spacingAndGlyphs\" textLength=\"93\" x=\"33.5\" y=\"57.1387\">«attribute def»</text><text fill=\"#000000\" font-family=\"sans-serif\" font-size=\"12\" lengthAdjust=\"spacingAndGlyphs\" textLength=\"8\" x=\"76\" y=\"71.1074\">A</text><line style=\"stroke: #383838; stroke-width: 1.5;\" x1=\"33.5\" x2=\"126.5\" y1=\"78.9375\" y2=\"78.9375\"/><text fill=\"#000000\" font-family=\"sans-serif\" font-size=\"11\" lengthAdjust=\"spacingAndGlyphs\" textLength=\"51\" x=\"38.5\" y=\"109.9526\">i: Integer</text><text fill=\"#000000\" font-family=\"sans-serif\" font-size=\"11\" lengthAdjust=\"spacingAndGlyphs\" textLength=\"21\" x=\"38.5\" y=\"122.7573\">x: A</text><line style=\"stroke: #383838; stroke-width: 1.0;\" x1=\"33.5\" x2=\"52.5\" y1=\"93.3398\" y2=\"93.3398\"/><text fill=\"#000000\" font-family=\"sans-serif\" font-size=\"11\" lengthAdjust=\"spacingAndGlyphs\" textLength=\"55\" x=\"52.5\" y=\"96.6479\">attributes</text><line style=\"stroke: #383838; stroke-width: 1.0;\" x1=\"107.5\" x2=\"126.5\" y1=\"93.3398\" y2=\"93.3398\"/></a><!--MD5=[15ebcb19ae302d9b601edb458606d402]\n",
       "link E5 to E2--><a href=\"psysml:a788c1ae-8502-4aea-9d8b-5a5d865c76a9\" target=\"_top\" title=\"psysml:a788c1ae-8502-4aea-9d8b-5a5d865c76a9\" xlink:actuate=\"onRequest\" xlink:href=\"psysml:a788c1ae-8502-4aea-9d8b-5a5d865c76a9\" xlink:show=\"new\" xlink:title=\"psysml:a788c1ae-8502-4aea-9d8b-5a5d865c76a9\" xlink:type=\"simple\"><path d=\"M562.12,108.06 C556.83,125 549.38,148.89 542.98,169.39 \" fill=\"none\" id=\"E5-&gt;E2\" style=\"stroke: #383838; stroke-width: 1.0;\"/><polygon fill=\"#FFFFFF\" points=\"536.95,188.74,535.929,168.5173,549.2931,172.6886,536.95,188.74\" style=\"stroke: #383838; stroke-width: 1.0;\"/><ellipse cx=\"539.5364\" cy=\"163.6721\" fill=\"#383838\" rx=\"2\" ry=\"2\" style=\"stroke: #383838; stroke-width: 1.0;\"/><ellipse cx=\"549.0823\" cy=\"166.6516\" fill=\"#383838\" rx=\"2\" ry=\"2\" style=\"stroke: #383838; stroke-width: 1.0;\"/></a><!--MD5=[2351f337d6de0f557b50152ba70847b5]\n",
       "link E6 to E2--><a href=\"psysml:96c9e024-7b1d-4ba9-883a-860d4899a00e\" target=\"_top\" title=\"psysml:96c9e024-7b1d-4ba9-883a-860d4899a00e\" xlink:actuate=\"onRequest\" xlink:href=\"psysml:96c9e024-7b1d-4ba9-883a-860d4899a00e\" xlink:show=\"new\" xlink:title=\"psysml:96c9e024-7b1d-4ba9-883a-860d4899a00e\" xlink:type=\"simple\"><path d=\"M498.71,108.06 C503.86,125 511.12,148.89 517.35,169.39 \" fill=\"none\" id=\"E6-&gt;E2\" style=\"stroke: #383838; stroke-width: 1.0;\"/><polygon fill=\"#FFFFFF\" points=\"523.23,188.74,511.007,172.597,524.4019,168.5255,523.23,188.74\" style=\"stroke: #383838; stroke-width: 1.0;\"/><ellipse cx=\"511.2628\" cy=\"166.5617\" fill=\"#383838\" rx=\"2\" ry=\"2\" style=\"stroke: #383838; stroke-width: 1.0;\"/><ellipse cx=\"520.8306\" cy=\"163.6535\" fill=\"#383838\" rx=\"2\" ry=\"2\" style=\"stroke: #383838; stroke-width: 1.0;\"/></a><!--MD5=[d853d12f7fb007d83ed254045a8da81f]\n",
       "@startuml\r\n",
       "skinparam linetype polyline\r\n",
       "skinparam monochrome true\r\n",
       "skinparam classbackgroundcolor white\r\n",
       "skinparam shadowing false\r\n",
       "skinparam wrapWidth 300\r\n",
       "hide circle\r\n",
       "\r\n",
       "package \"MultiplicityTest\" as E1  [[psysml:04657276-263c-446b-8b63-b81fdc3bdb65 ]]  {\r\n",
       "comp def \"P\" as E2  <<(T,blue) part def>> [[psysml:68eb8761-ff46-4523-ba58-41a062b6cb94 ]] {\r\n",
       "}\r\n",
       "comp usage \"n: Integer\" as E3  <<(T,blue) attribute>> [[psysml:c2c67205-2617-478d-9839-9411bc2f8511 ]] {\r\n",
       "}\r\n",
       "comp usage \"a\" as E4  <<(T,blue) part>> [[psysml:fbb3215b-67d9-4514-b40f-6d8c33165593 ]] {\r\n",
       "}\r\n",
       "comp usage \"b: P\" as E5  <<(T,blue) part>> [[psysml:d1ff5ca6-7417-4682-b046-127881647fcb ]] {\r\n",
       "}\r\n",
       "comp usage \"c: P\" as E6  <<(T,blue) part>> [[psysml:20d627d7-8daa-4ea4-8c0c-0e67ee5e3616 ]] {\r\n",
       "}\r\n",
       "comp usage \"d\" as E7  <<(T,blue) part>> [[psysml:4fc87a01-ac01-48e0-9821-1b5b80a637f1 ]] {\r\n",
       "}\r\n",
       "comp usage \"e\" as E8  <<(T,blue) part>> [[psysml:e7c3b12c-9054-4127-bd5f-a31eeffec0a6 ]] {\r\n",
       "}\r\n",
       "comp usage \"f\" as E9  <<(T,blue) part>> [[psysml:49b700d2-d9c4-4257-84cb-c65bfac2aa08 ]] {\r\n",
       "}\r\n",
       "comp usage \"g\" as E10  <<(T,blue) part>> [[psysml:20161f3e-4930-46fe-a17d-f79ec2a77aae ]] {\r\n",
       "}\r\n",
       "comp def \"A\" as E11  <<(T,blue) attribute def>> [[psysml:958dabfe-3a24-44d8-9bca-d5e375f56ac2 ]] {\r\n",
       "- - attributes - -\r\n",
       "i: Integer\r\n",
       "x: A\r\n",
       "}\r\n",
       "E5 - -:|> E2 [[psysml:a788c1ae-8502-4aea-9d8b-5a5d865c76a9 ]] \r\n",
       "E6 - -:|> E2 [[psysml:96c9e024-7b1d-4ba9-883a-860d4899a00e ]] \r\n",
       "}\r\n",
       "@enduml\r\n",
       "\n",
       "PlantUML version 1.2020.13(Sat Jun 13 12:26:38 UTC 2020)\n",
       "(EPL source distribution)\n",
       "Java Runtime: OpenJDK Runtime Environment\n",
       "JVM: OpenJDK 64-Bit Server VM\n",
       "Default Encoding: UTF-8\n",
       "Language: en\n",
       "Country: null\n",
       "--></g></svg>"
      ]
     },
     "execution_count": 9,
     "metadata": {},
     "output_type": "execute_result"
    }
   ],
   "source": [
    "%viz --style=\"POLYLINE\" --view=\"Default\" \"MultiplicityTest\""
   ]
  },
  {
   "cell_type": "code",
   "execution_count": 10,
   "id": "7fad3189",
   "metadata": {
    "execution": {
     "iopub.execute_input": "2021-08-04T06:29:50.012306Z",
     "iopub.status.busy": "2021-08-04T06:29:50.011916Z",
     "iopub.status.idle": "2021-08-04T06:29:50.064090Z",
     "shell.execute_reply": "2021-08-04T06:29:50.063253Z"
    }
   },
   "outputs": [
    {
     "data": {
      "image/svg+xml": [
       "<?xml version=\"1.0\" encoding=\"UTF-8\" standalone=\"no\"?><svg xmlns=\"http://www.w3.org/2000/svg\" xmlns:xlink=\"http://www.w3.org/1999/xlink\" contentScriptType=\"application/ecmascript\" contentStyleType=\"text/css\" height=\"263px\" preserveAspectRatio=\"none\" style=\"width:812px;height:263px;\" version=\"1.1\" viewBox=\"0 0 812 263\" width=\"812px\" zoomAndPan=\"magnify\"><defs/><g><!--MD5=[fbc87193dbaf4d95561dea2c320d4a47]\n",
       "cluster E1--><a href=\"psysml:04657276-263c-446b-8b63-b81fdc3bdb65\" target=\"_top\" title=\"psysml:04657276-263c-446b-8b63-b81fdc3bdb65\" xlink:actuate=\"onRequest\" xlink:href=\"psysml:04657276-263c-446b-8b63-b81fdc3bdb65\" xlink:show=\"new\" xlink:title=\"psysml:04657276-263c-446b-8b63-b81fdc3bdb65\" xlink:type=\"simple\"><polygon fill=\"#FFFFFF\" points=\"16,6,140,6,147,28.2969,790,28.2969,790,251,16,251,16,6\" style=\"stroke: #000000; stroke-width: 1.5;\"/><line style=\"stroke: #000000; stroke-width: 1.5;\" x1=\"16\" x2=\"147\" y1=\"28.2969\" y2=\"28.2969\"/><text fill=\"#000000\" font-family=\"sans-serif\" font-size=\"14\" font-weight=\"bold\" lengthAdjust=\"spacingAndGlyphs\" textLength=\"118\" x=\"20\" y=\"20.9951\">MultiplicityTest</text></a><!--MD5=[b4997ac47864f28c2f74865a473b2911]\n",
       "class E2--><a href=\"psysml:68eb8761-ff46-4523-ba58-41a062b6cb94\" target=\"_top\" title=\"psysml:68eb8761-ff46-4523-ba58-41a062b6cb94\" xlink:actuate=\"onRequest\" xlink:href=\"psysml:68eb8761-ff46-4523-ba58-41a062b6cb94\" xlink:show=\"new\" xlink:title=\"psysml:68eb8761-ff46-4523-ba58-41a062b6cb94\" xlink:type=\"simple\"><rect fill=\"#FFFFFF\" height=\"45.9375\" id=\"E2\" style=\"stroke: #383838; stroke-width: 1.5;\" width=\"66\" x=\"497\" y=\"189\"/><text fill=\"#000000\" font-family=\"sans-serif\" font-size=\"12\" font-style=\"italic\" lengthAdjust=\"spacingAndGlyphs\" textLength=\"64\" x=\"498\" y=\"205.1387\">«part def»</text><text fill=\"#000000\" font-family=\"sans-serif\" font-size=\"12\" lengthAdjust=\"spacingAndGlyphs\" textLength=\"8\" x=\"526\" y=\"219.1074\">P</text><line style=\"stroke: #383838; stroke-width: 1.5;\" x1=\"498\" x2=\"562\" y1=\"226.9375\" y2=\"226.9375\"/></a><!--MD5=[09b614a08d8cba4a07c9adeb5e0fee81]\n",
       "class E3--><a href=\"psysml:c2c67205-2617-478d-9839-9411bc2f8511\" target=\"_top\" title=\"psysml:c2c67205-2617-478d-9839-9411bc2f8511\" xlink:actuate=\"onRequest\" xlink:href=\"psysml:c2c67205-2617-478d-9839-9411bc2f8511\" xlink:show=\"new\" xlink:title=\"psysml:c2c67205-2617-478d-9839-9411bc2f8511\" xlink:type=\"simple\"><rect fill=\"#FFFFFF\" height=\"45.9375\" id=\"E3\" rx=\"10\" ry=\"10\" style=\"stroke: #383838; stroke-width: 1.5;\" width=\"71\" x=\"702.5\" y=\"62\"/><text fill=\"#000000\" font-family=\"sans-serif\" font-size=\"12\" font-style=\"italic\" lengthAdjust=\"spacingAndGlyphs\" textLength=\"69\" x=\"703.5\" y=\"78.1387\">«attribute»</text><text fill=\"#000000\" font-family=\"sans-serif\" font-size=\"12\" lengthAdjust=\"spacingAndGlyphs\" textLength=\"61\" x=\"707.5\" y=\"92.1074\">n: Integer</text><line style=\"stroke: #383838; stroke-width: 1.5;\" x1=\"703.5\" x2=\"772.5\" y1=\"99.9375\" y2=\"99.9375\"/></a><!--MD5=[ebbe1d658d1005bcc118a6aa81145e00]\n",
       "class E4--><a href=\"psysml:fbb3215b-67d9-4514-b40f-6d8c33165593\" target=\"_top\" title=\"psysml:fbb3215b-67d9-4514-b40f-6d8c33165593\" xlink:actuate=\"onRequest\" xlink:href=\"psysml:fbb3215b-67d9-4514-b40f-6d8c33165593\" xlink:show=\"new\" xlink:title=\"psysml:fbb3215b-67d9-4514-b40f-6d8c33165593\" xlink:type=\"simple\"><rect fill=\"#FFFFFF\" height=\"45.9375\" id=\"E4\" rx=\"10\" ry=\"10\" style=\"stroke: #383838; stroke-width: 1.5;\" width=\"42\" x=\"625\" y=\"62\"/><text fill=\"#000000\" font-family=\"sans-serif\" font-size=\"12\" font-style=\"italic\" lengthAdjust=\"spacingAndGlyphs\" textLength=\"40\" x=\"626\" y=\"78.1387\">«part»</text><text fill=\"#000000\" font-family=\"sans-serif\" font-size=\"12\" lengthAdjust=\"spacingAndGlyphs\" textLength=\"8\" x=\"642\" y=\"92.1074\">a</text><line style=\"stroke: #383838; stroke-width: 1.5;\" x1=\"626\" x2=\"666\" y1=\"99.9375\" y2=\"99.9375\"/></a><!--MD5=[270fce915f116d4de14055a7c1d9a0f3]\n",
       "class E5--><a href=\"psysml:d1ff5ca6-7417-4682-b046-127881647fcb\" target=\"_top\" title=\"psysml:d1ff5ca6-7417-4682-b046-127881647fcb\" xlink:actuate=\"onRequest\" xlink:href=\"psysml:d1ff5ca6-7417-4682-b046-127881647fcb\" xlink:show=\"new\" xlink:title=\"psysml:d1ff5ca6-7417-4682-b046-127881647fcb\" xlink:type=\"simple\"><rect fill=\"#FFFFFF\" height=\"45.9375\" id=\"E5\" rx=\"10\" ry=\"10\" style=\"stroke: #383838; stroke-width: 1.5;\" width=\"42\" x=\"548\" y=\"62\"/><text fill=\"#000000\" font-family=\"sans-serif\" font-size=\"12\" font-style=\"italic\" lengthAdjust=\"spacingAndGlyphs\" textLength=\"40\" x=\"549\" y=\"78.1387\">«part»</text><text fill=\"#000000\" font-family=\"sans-serif\" font-size=\"12\" lengthAdjust=\"spacingAndGlyphs\" textLength=\"24\" x=\"557\" y=\"92.1074\">b: P</text><line style=\"stroke: #383838; stroke-width: 1.5;\" x1=\"549\" x2=\"589\" y1=\"99.9375\" y2=\"99.9375\"/></a><!--MD5=[60a26617385b1d2d0262a64233df1f8d]\n",
       "class E6--><a href=\"psysml:20d627d7-8daa-4ea4-8c0c-0e67ee5e3616\" target=\"_top\" title=\"psysml:20d627d7-8daa-4ea4-8c0c-0e67ee5e3616\" xlink:actuate=\"onRequest\" xlink:href=\"psysml:20d627d7-8daa-4ea4-8c0c-0e67ee5e3616\" xlink:show=\"new\" xlink:title=\"psysml:20d627d7-8daa-4ea4-8c0c-0e67ee5e3616\" xlink:type=\"simple\"><rect fill=\"#FFFFFF\" height=\"45.9375\" id=\"E6\" rx=\"10\" ry=\"10\" style=\"stroke: #383838; stroke-width: 1.5;\" width=\"42\" x=\"471\" y=\"62\"/><text fill=\"#000000\" font-family=\"sans-serif\" font-size=\"12\" font-style=\"italic\" lengthAdjust=\"spacingAndGlyphs\" textLength=\"40\" x=\"472\" y=\"78.1387\">«part»</text><text fill=\"#000000\" font-family=\"sans-serif\" font-size=\"12\" lengthAdjust=\"spacingAndGlyphs\" textLength=\"23\" x=\"480.5\" y=\"92.1074\">c: P</text><line style=\"stroke: #383838; stroke-width: 1.5;\" x1=\"472\" x2=\"512\" y1=\"99.9375\" y2=\"99.9375\"/></a><!--MD5=[2156ba9850f5573cc1fc38a6a4b2f02b]\n",
       "class E7--><a href=\"psysml:4fc87a01-ac01-48e0-9821-1b5b80a637f1\" target=\"_top\" title=\"psysml:4fc87a01-ac01-48e0-9821-1b5b80a637f1\" xlink:actuate=\"onRequest\" xlink:href=\"psysml:4fc87a01-ac01-48e0-9821-1b5b80a637f1\" xlink:show=\"new\" xlink:title=\"psysml:4fc87a01-ac01-48e0-9821-1b5b80a637f1\" xlink:type=\"simple\"><rect fill=\"#FFFFFF\" height=\"45.9375\" id=\"E7\" rx=\"10\" ry=\"10\" style=\"stroke: #383838; stroke-width: 1.5;\" width=\"42\" x=\"394\" y=\"62\"/><text fill=\"#000000\" font-family=\"sans-serif\" font-size=\"12\" font-style=\"italic\" lengthAdjust=\"spacingAndGlyphs\" textLength=\"40\" x=\"395\" y=\"78.1387\">«part»</text><text fill=\"#000000\" font-family=\"sans-serif\" font-size=\"12\" lengthAdjust=\"spacingAndGlyphs\" textLength=\"8\" x=\"411\" y=\"92.1074\">d</text><line style=\"stroke: #383838; stroke-width: 1.5;\" x1=\"395\" x2=\"435\" y1=\"99.9375\" y2=\"99.9375\"/></a><!--MD5=[b9389687b975829384b498ac4b7476b2]\n",
       "class E8--><a href=\"psysml:e7c3b12c-9054-4127-bd5f-a31eeffec0a6\" target=\"_top\" title=\"psysml:e7c3b12c-9054-4127-bd5f-a31eeffec0a6\" xlink:actuate=\"onRequest\" xlink:href=\"psysml:e7c3b12c-9054-4127-bd5f-a31eeffec0a6\" xlink:show=\"new\" xlink:title=\"psysml:e7c3b12c-9054-4127-bd5f-a31eeffec0a6\" xlink:type=\"simple\"><rect fill=\"#FFFFFF\" height=\"45.9375\" id=\"E8\" rx=\"10\" ry=\"10\" style=\"stroke: #383838; stroke-width: 1.5;\" width=\"42\" x=\"317\" y=\"62\"/><text fill=\"#000000\" font-family=\"sans-serif\" font-size=\"12\" font-style=\"italic\" lengthAdjust=\"spacingAndGlyphs\" textLength=\"40\" x=\"318\" y=\"78.1387\">«part»</text><text fill=\"#000000\" font-family=\"sans-serif\" font-size=\"12\" lengthAdjust=\"spacingAndGlyphs\" textLength=\"8\" x=\"334\" y=\"92.1074\">e</text><line style=\"stroke: #383838; stroke-width: 1.5;\" x1=\"318\" x2=\"358\" y1=\"99.9375\" y2=\"99.9375\"/></a><!--MD5=[fd4143e9d270a159db93a4ea2a975926]\n",
       "class E9--><a href=\"psysml:49b700d2-d9c4-4257-84cb-c65bfac2aa08\" target=\"_top\" title=\"psysml:49b700d2-d9c4-4257-84cb-c65bfac2aa08\" xlink:actuate=\"onRequest\" xlink:href=\"psysml:49b700d2-d9c4-4257-84cb-c65bfac2aa08\" xlink:show=\"new\" xlink:title=\"psysml:49b700d2-d9c4-4257-84cb-c65bfac2aa08\" xlink:type=\"simple\"><rect fill=\"#FFFFFF\" height=\"45.9375\" id=\"E9\" rx=\"10\" ry=\"10\" style=\"stroke: #383838; stroke-width: 1.5;\" width=\"42\" x=\"240\" y=\"62\"/><text fill=\"#000000\" font-family=\"sans-serif\" font-size=\"12\" font-style=\"italic\" lengthAdjust=\"spacingAndGlyphs\" textLength=\"40\" x=\"241\" y=\"78.1387\">«part»</text><text fill=\"#000000\" font-family=\"sans-serif\" font-size=\"12\" lengthAdjust=\"spacingAndGlyphs\" textLength=\"4\" x=\"259\" y=\"92.1074\">f</text><line style=\"stroke: #383838; stroke-width: 1.5;\" x1=\"241\" x2=\"281\" y1=\"99.9375\" y2=\"99.9375\"/></a><!--MD5=[96f4274e9e20536e775497830990834d]\n",
       "class E10--><a href=\"psysml:20161f3e-4930-46fe-a17d-f79ec2a77aae\" target=\"_top\" title=\"psysml:20161f3e-4930-46fe-a17d-f79ec2a77aae\" xlink:actuate=\"onRequest\" xlink:href=\"psysml:20161f3e-4930-46fe-a17d-f79ec2a77aae\" xlink:show=\"new\" xlink:title=\"psysml:20161f3e-4930-46fe-a17d-f79ec2a77aae\" xlink:type=\"simple\"><rect fill=\"#FFFFFF\" height=\"45.9375\" id=\"E10\" rx=\"10\" ry=\"10\" style=\"stroke: #383838; stroke-width: 1.5;\" width=\"42\" x=\"163\" y=\"62\"/><text fill=\"#000000\" font-family=\"sans-serif\" font-size=\"12\" font-style=\"italic\" lengthAdjust=\"spacingAndGlyphs\" textLength=\"40\" x=\"164\" y=\"78.1387\">«part»</text><text fill=\"#000000\" font-family=\"sans-serif\" font-size=\"12\" lengthAdjust=\"spacingAndGlyphs\" textLength=\"8\" x=\"180\" y=\"92.1074\">g</text><line style=\"stroke: #383838; stroke-width: 1.5;\" x1=\"164\" x2=\"204\" y1=\"99.9375\" y2=\"99.9375\"/></a><!--MD5=[1dd1bfd58a279cf63c5f349dbc8fc6a1]\n",
       "class E11--><a href=\"psysml:958dabfe-3a24-44d8-9bca-d5e375f56ac2\" target=\"_top\" title=\"psysml:958dabfe-3a24-44d8-9bca-d5e375f56ac2\" xlink:actuate=\"onRequest\" xlink:href=\"psysml:958dabfe-3a24-44d8-9bca-d5e375f56ac2\" xlink:show=\"new\" xlink:title=\"psysml:958dabfe-3a24-44d8-9bca-d5e375f56ac2\" xlink:type=\"simple\"><rect fill=\"#FFFFFF\" height=\"88.3516\" id=\"E11\" style=\"stroke: #383838; stroke-width: 1.5;\" width=\"95\" x=\"32.5\" y=\"41\"/><text fill=\"#000000\" font-family=\"sans-serif\" font-size=\"12\" font-style=\"italic\" lengthAdjust=\"spacingAndGlyphs\" textLength=\"93\" x=\"33.5\" y=\"57.1387\">«attribute def»</text><text fill=\"#000000\" font-family=\"sans-serif\" font-size=\"12\" lengthAdjust=\"spacingAndGlyphs\" textLength=\"8\" x=\"76\" y=\"71.1074\">A</text><line style=\"stroke: #383838; stroke-width: 1.5;\" x1=\"33.5\" x2=\"126.5\" y1=\"78.9375\" y2=\"78.9375\"/><text fill=\"#000000\" font-family=\"sans-serif\" font-size=\"11\" lengthAdjust=\"spacingAndGlyphs\" textLength=\"51\" x=\"38.5\" y=\"109.9526\">i: Integer</text><text fill=\"#000000\" font-family=\"sans-serif\" font-size=\"11\" lengthAdjust=\"spacingAndGlyphs\" textLength=\"21\" x=\"38.5\" y=\"122.7573\">x: A</text><line style=\"stroke: #383838; stroke-width: 1.0;\" x1=\"33.5\" x2=\"52.5\" y1=\"93.3398\" y2=\"93.3398\"/><text fill=\"#000000\" font-family=\"sans-serif\" font-size=\"11\" lengthAdjust=\"spacingAndGlyphs\" textLength=\"55\" x=\"52.5\" y=\"96.6479\">attributes</text><line style=\"stroke: #383838; stroke-width: 1.0;\" x1=\"107.5\" x2=\"126.5\" y1=\"93.3398\" y2=\"93.3398\"/></a><!--MD5=[15ebcb19ae302d9b601edb458606d402]\n",
       "link E5 to E2--><a href=\"psysml:a788c1ae-8502-4aea-9d8b-5a5d865c76a9\" target=\"_top\" title=\"psysml:a788c1ae-8502-4aea-9d8b-5a5d865c76a9\" xlink:actuate=\"onRequest\" xlink:href=\"psysml:a788c1ae-8502-4aea-9d8b-5a5d865c76a9\" xlink:show=\"new\" xlink:title=\"psysml:a788c1ae-8502-4aea-9d8b-5a5d865c76a9\" xlink:type=\"simple\"><path d=\"M562.12,108.06 C556.83,125 549.38,148.89 542.98,169.39 \" fill=\"none\" id=\"E5-&gt;E2\" style=\"stroke: #383838; stroke-width: 1.0;\"/><polygon fill=\"#FFFFFF\" points=\"536.95,188.74,535.929,168.5173,549.2931,172.6886,536.95,188.74\" style=\"stroke: #383838; stroke-width: 1.0;\"/><ellipse cx=\"539.5364\" cy=\"163.6721\" fill=\"#383838\" rx=\"2\" ry=\"2\" style=\"stroke: #383838; stroke-width: 1.0;\"/><ellipse cx=\"549.0823\" cy=\"166.6516\" fill=\"#383838\" rx=\"2\" ry=\"2\" style=\"stroke: #383838; stroke-width: 1.0;\"/></a><!--MD5=[2351f337d6de0f557b50152ba70847b5]\n",
       "link E6 to E2--><a href=\"psysml:96c9e024-7b1d-4ba9-883a-860d4899a00e\" target=\"_top\" title=\"psysml:96c9e024-7b1d-4ba9-883a-860d4899a00e\" xlink:actuate=\"onRequest\" xlink:href=\"psysml:96c9e024-7b1d-4ba9-883a-860d4899a00e\" xlink:show=\"new\" xlink:title=\"psysml:96c9e024-7b1d-4ba9-883a-860d4899a00e\" xlink:type=\"simple\"><path d=\"M498.71,108.06 C503.86,125 511.12,148.89 517.35,169.39 \" fill=\"none\" id=\"E6-&gt;E2\" style=\"stroke: #383838; stroke-width: 1.0;\"/><polygon fill=\"#FFFFFF\" points=\"523.23,188.74,511.007,172.597,524.4019,168.5255,523.23,188.74\" style=\"stroke: #383838; stroke-width: 1.0;\"/><ellipse cx=\"511.2628\" cy=\"166.5617\" fill=\"#383838\" rx=\"2\" ry=\"2\" style=\"stroke: #383838; stroke-width: 1.0;\"/><ellipse cx=\"520.8306\" cy=\"163.6535\" fill=\"#383838\" rx=\"2\" ry=\"2\" style=\"stroke: #383838; stroke-width: 1.0;\"/></a><!--MD5=[d853d12f7fb007d83ed254045a8da81f]\n",
       "@startuml\r\n",
       "skinparam linetype polyline\r\n",
       "skinparam monochrome true\r\n",
       "skinparam classbackgroundcolor white\r\n",
       "skinparam shadowing false\r\n",
       "skinparam wrapWidth 300\r\n",
       "hide circle\r\n",
       "\r\n",
       "package \"MultiplicityTest\" as E1  [[psysml:04657276-263c-446b-8b63-b81fdc3bdb65 ]]  {\r\n",
       "comp def \"P\" as E2  <<(T,blue) part def>> [[psysml:68eb8761-ff46-4523-ba58-41a062b6cb94 ]] {\r\n",
       "}\r\n",
       "comp usage \"n: Integer\" as E3  <<(T,blue) attribute>> [[psysml:c2c67205-2617-478d-9839-9411bc2f8511 ]] {\r\n",
       "}\r\n",
       "comp usage \"a\" as E4  <<(T,blue) part>> [[psysml:fbb3215b-67d9-4514-b40f-6d8c33165593 ]] {\r\n",
       "}\r\n",
       "comp usage \"b: P\" as E5  <<(T,blue) part>> [[psysml:d1ff5ca6-7417-4682-b046-127881647fcb ]] {\r\n",
       "}\r\n",
       "comp usage \"c: P\" as E6  <<(T,blue) part>> [[psysml:20d627d7-8daa-4ea4-8c0c-0e67ee5e3616 ]] {\r\n",
       "}\r\n",
       "comp usage \"d\" as E7  <<(T,blue) part>> [[psysml:4fc87a01-ac01-48e0-9821-1b5b80a637f1 ]] {\r\n",
       "}\r\n",
       "comp usage \"e\" as E8  <<(T,blue) part>> [[psysml:e7c3b12c-9054-4127-bd5f-a31eeffec0a6 ]] {\r\n",
       "}\r\n",
       "comp usage \"f\" as E9  <<(T,blue) part>> [[psysml:49b700d2-d9c4-4257-84cb-c65bfac2aa08 ]] {\r\n",
       "}\r\n",
       "comp usage \"g\" as E10  <<(T,blue) part>> [[psysml:20161f3e-4930-46fe-a17d-f79ec2a77aae ]] {\r\n",
       "}\r\n",
       "comp def \"A\" as E11  <<(T,blue) attribute def>> [[psysml:958dabfe-3a24-44d8-9bca-d5e375f56ac2 ]] {\r\n",
       "- - attributes - -\r\n",
       "i: Integer\r\n",
       "x: A\r\n",
       "}\r\n",
       "E5 - -:|> E2 [[psysml:a788c1ae-8502-4aea-9d8b-5a5d865c76a9 ]] \r\n",
       "E6 - -:|> E2 [[psysml:96c9e024-7b1d-4ba9-883a-860d4899a00e ]] \r\n",
       "}\r\n",
       "@enduml\r\n",
       "\n",
       "PlantUML version 1.2020.13(Sat Jun 13 12:26:38 UTC 2020)\n",
       "(EPL source distribution)\n",
       "Java Runtime: OpenJDK Runtime Environment\n",
       "JVM: OpenJDK 64-Bit Server VM\n",
       "Default Encoding: UTF-8\n",
       "Language: en\n",
       "Country: null\n",
       "--></g></svg>"
      ]
     },
     "execution_count": 10,
     "metadata": {},
     "output_type": "execute_result"
    }
   ],
   "source": [
    "%viz --style=\"POLYLINE\" --view=\"Tree\" \"MultiplicityTest\""
   ]
  },
  {
   "cell_type": "code",
   "execution_count": 11,
   "id": "ee957079",
   "metadata": {
    "execution": {
     "iopub.execute_input": "2021-08-04T06:29:50.114695Z",
     "iopub.status.busy": "2021-08-04T06:29:50.114096Z",
     "iopub.status.idle": "2021-08-04T06:29:50.118105Z",
     "shell.execute_reply": "2021-08-04T06:29:50.118275Z"
    }
   },
   "outputs": [
    {
     "data": {
      "image/svg+xml": [
       "<?xml version=\"1.0\" encoding=\"UTF-8\" standalone=\"no\"?><svg xmlns=\"http://www.w3.org/2000/svg\" xmlns:xlink=\"http://www.w3.org/1999/xlink\" contentScriptType=\"application/ecmascript\" contentStyleType=\"text/css\" height=\"12px\" preserveAspectRatio=\"none\" style=\"width:12px;height:12px;\" version=\"1.1\" viewBox=\"0 0 12 12\" width=\"12px\" zoomAndPan=\"magnify\"><defs/><g><!--MD5=[896ac0e7a515d8dd7765a661cb4ee08b]\n",
       "@startuml\r\n",
       "skinparam linetype polyline\r\n",
       "skinparam monochrome true\r\n",
       "skinparam classbackgroundcolor white\r\n",
       "skinparam shadowing false\r\n",
       "skinparam wrapWidth 300\r\n",
       "hide circle\r\n",
       "\r\n",
       "@enduml\r\n",
       "\n",
       "PlantUML version 1.2020.13(Sat Jun 13 12:26:38 UTC 2020)\n",
       "(EPL source distribution)\n",
       "Java Runtime: OpenJDK Runtime Environment\n",
       "JVM: OpenJDK 64-Bit Server VM\n",
       "Default Encoding: UTF-8\n",
       "Language: en\n",
       "Country: null\n",
       "--></g></svg>"
      ]
     },
     "execution_count": 11,
     "metadata": {},
     "output_type": "execute_result"
    }
   ],
   "source": [
    "%viz --style=\"POLYLINE\" --view=\"State\" \"MultiplicityTest\""
   ]
  },
  {
   "cell_type": "code",
   "execution_count": 12,
   "id": "5b96c025",
   "metadata": {
    "execution": {
     "iopub.execute_input": "2021-08-04T06:29:50.169012Z",
     "iopub.status.busy": "2021-08-04T06:29:50.168783Z",
     "iopub.status.idle": "2021-08-04T06:29:50.200033Z",
     "shell.execute_reply": "2021-08-04T06:29:50.200359Z"
    }
   },
   "outputs": [
    {
     "data": {
      "image/svg+xml": [
       "<?xml version=\"1.0\" encoding=\"UTF-8\" standalone=\"no\"?><svg xmlns=\"http://www.w3.org/2000/svg\" xmlns:xlink=\"http://www.w3.org/1999/xlink\" contentScriptType=\"application/ecmascript\" contentStyleType=\"text/css\" height=\"115px\" preserveAspectRatio=\"none\" style=\"width:979px;height:115px;\" version=\"1.1\" viewBox=\"0 0 979 115\" width=\"979px\" zoomAndPan=\"magnify\"><defs/><g><!--MD5=[fbc87193dbaf4d95561dea2c320d4a47]\n",
       "cluster E1--><a href=\"psysml:04657276-263c-446b-8b63-b81fdc3bdb65\" target=\"_top\" title=\"psysml:04657276-263c-446b-8b63-b81fdc3bdb65\" xlink:actuate=\"onRequest\" xlink:href=\"psysml:04657276-263c-446b-8b63-b81fdc3bdb65\" xlink:show=\"new\" xlink:title=\"psysml:04657276-263c-446b-8b63-b81fdc3bdb65\" xlink:type=\"simple\"><polygon fill=\"#FFFFFF\" points=\"16,6,140,6,147,28.2969,957,28.2969,957,103,16,103,16,6\" style=\"stroke: #000000; stroke-width: 1.5;\"/><line style=\"stroke: #000000; stroke-width: 1.5;\" x1=\"16\" x2=\"147\" y1=\"28.2969\" y2=\"28.2969\"/><text fill=\"#000000\" font-family=\"sans-serif\" font-size=\"14\" font-weight=\"bold\" lengthAdjust=\"spacingAndGlyphs\" textLength=\"118\" x=\"20\" y=\"20.9951\">MultiplicityTest</text></a><!--MD5=[09b614a08d8cba4a07c9adeb5e0fee81]\n",
       "class E3--><a href=\"psysml:c2c67205-2617-478d-9839-9411bc2f8511\" target=\"_top\" title=\"psysml:c2c67205-2617-478d-9839-9411bc2f8511\" xlink:actuate=\"onRequest\" xlink:href=\"psysml:c2c67205-2617-478d-9839-9411bc2f8511\" xlink:show=\"new\" xlink:title=\"psysml:c2c67205-2617-478d-9839-9411bc2f8511\" xlink:type=\"simple\"><rect fill=\"#FFFFFF\" height=\"45.9375\" id=\"E3\" rx=\"10\" ry=\"10\" style=\"stroke: #383838; stroke-width: 1.5;\" width=\"71\" x=\"869.5\" y=\"41\"/><text fill=\"#000000\" font-family=\"sans-serif\" font-size=\"12\" font-style=\"italic\" lengthAdjust=\"spacingAndGlyphs\" textLength=\"69\" x=\"870.5\" y=\"57.1387\">«attribute»</text><text fill=\"#000000\" font-family=\"sans-serif\" font-size=\"12\" lengthAdjust=\"spacingAndGlyphs\" textLength=\"61\" x=\"874.5\" y=\"71.1074\">n: Integer</text><line style=\"stroke: #383838; stroke-width: 1.5;\" x1=\"870.5\" x2=\"939.5\" y1=\"78.9375\" y2=\"78.9375\"/></a><g id=\"E1.E11\"><a href=\"psysml:958dabfe-3a24-44d8-9bca-d5e375f56ac2\" target=\"_top\" title=\"psysml:958dabfe-3a24-44d8-9bca-d5e375f56ac2\" xlink:actuate=\"onRequest\" xlink:href=\"psysml:958dabfe-3a24-44d8-9bca-d5e375f56ac2\" xlink:show=\"new\" xlink:title=\"psysml:958dabfe-3a24-44d8-9bca-d5e375f56ac2\" xlink:type=\"simple\"><rect fill=\"#FFFFFF\" height=\"42.9375\" id=\"E11\" style=\"stroke: #383838; stroke-width: 1.5;\" width=\"100\" x=\"734\" y=\"42.5\"/><rect fill=\"#F8F8F8\" height=\"37.9375\" style=\"stroke: #383838; stroke-width: 1.5;\" width=\"100\" x=\"734\" y=\"42.5\"/><text fill=\"#000000\" font-family=\"sans-serif\" font-size=\"12\" font-style=\"italic\" lengthAdjust=\"spacingAndGlyphs\" textLength=\"93\" x=\"737.5\" y=\"58.6387\">«attribute def»</text><text fill=\"#000000\" font-family=\"sans-serif\" font-size=\"12\" lengthAdjust=\"spacingAndGlyphs\" textLength=\"8\" x=\"780\" y=\"72.6074\">A</text></a></g><g id=\"E1.E2\"><a href=\"psysml:68eb8761-ff46-4523-ba58-41a062b6cb94\" target=\"_top\" title=\"psysml:68eb8761-ff46-4523-ba58-41a062b6cb94\" xlink:actuate=\"onRequest\" xlink:href=\"psysml:68eb8761-ff46-4523-ba58-41a062b6cb94\" xlink:show=\"new\" xlink:title=\"psysml:68eb8761-ff46-4523-ba58-41a062b6cb94\" xlink:type=\"simple\"><rect fill=\"#FFFFFF\" height=\"42.9375\" id=\"E2\" style=\"stroke: #383838; stroke-width: 1.5;\" width=\"71\" x=\"627.5\" y=\"42.5\"/><rect fill=\"#F8F8F8\" height=\"37.9375\" style=\"stroke: #383838; stroke-width: 1.5;\" width=\"71\" x=\"627.5\" y=\"42.5\"/><text fill=\"#000000\" font-family=\"sans-serif\" font-size=\"12\" font-style=\"italic\" lengthAdjust=\"spacingAndGlyphs\" textLength=\"64\" x=\"631\" y=\"58.6387\">«part def»</text><text fill=\"#000000\" font-family=\"sans-serif\" font-size=\"12\" lengthAdjust=\"spacingAndGlyphs\" textLength=\"8\" x=\"659\" y=\"72.6074\">P</text></a></g><g id=\"E1.E4\"><a href=\"psysml:fbb3215b-67d9-4514-b40f-6d8c33165593\" target=\"_top\" title=\"psysml:fbb3215b-67d9-4514-b40f-6d8c33165593\" xlink:actuate=\"onRequest\" xlink:href=\"psysml:fbb3215b-67d9-4514-b40f-6d8c33165593\" xlink:show=\"new\" xlink:title=\"psysml:fbb3215b-67d9-4514-b40f-6d8c33165593\" xlink:type=\"simple\"><rect fill=\"#FFFFFF\" height=\"40\" id=\"E4\" rx=\"10\" ry=\"10\" style=\"stroke: #383838; stroke-width: 1.5;\" width=\"50\" x=\"542\" y=\"44\"/><rect fill=\"#F8F8F8\" height=\"23.9688\" rx=\"10\" ry=\"10\" style=\"stroke: #F8F8F8; stroke-width: 1.5;\" width=\"50\" x=\"542\" y=\"44\"/><rect fill=\"#F8F8F8\" height=\"10\" style=\"stroke: #F8F8F8; stroke-width: 1.5;\" width=\"50\" x=\"542\" y=\"57.9688\"/><rect fill=\"none\" height=\"40\" id=\"E4\" rx=\"10\" ry=\"10\" style=\"stroke: #383838; stroke-width: 1.5;\" width=\"50\" x=\"542\" y=\"44\"/><text fill=\"#000000\" font-family=\"sans-serif\" font-size=\"12\" lengthAdjust=\"spacingAndGlyphs\" textLength=\"8\" x=\"563\" y=\"60.1387\">a</text></a></g><g id=\"E1.E5\"><a href=\"psysml:d1ff5ca6-7417-4682-b046-127881647fcb\" target=\"_top\" title=\"psysml:d1ff5ca6-7417-4682-b046-127881647fcb\" xlink:actuate=\"onRequest\" xlink:href=\"psysml:d1ff5ca6-7417-4682-b046-127881647fcb\" xlink:show=\"new\" xlink:title=\"psysml:d1ff5ca6-7417-4682-b046-127881647fcb\" xlink:type=\"simple\"><rect fill=\"#FFFFFF\" height=\"40\" id=\"E5\" rx=\"10\" ry=\"10\" style=\"stroke: #383838; stroke-width: 1.5;\" width=\"50\" x=\"457\" y=\"44\"/><rect fill=\"#F8F8F8\" height=\"23.9688\" rx=\"10\" ry=\"10\" style=\"stroke: #F8F8F8; stroke-width: 1.5;\" width=\"50\" x=\"457\" y=\"44\"/><rect fill=\"#F8F8F8\" height=\"10\" style=\"stroke: #F8F8F8; stroke-width: 1.5;\" width=\"50\" x=\"457\" y=\"57.9688\"/><rect fill=\"none\" height=\"40\" id=\"E5\" rx=\"10\" ry=\"10\" style=\"stroke: #383838; stroke-width: 1.5;\" width=\"50\" x=\"457\" y=\"44\"/><text fill=\"#000000\" font-family=\"sans-serif\" font-size=\"12\" lengthAdjust=\"spacingAndGlyphs\" textLength=\"24\" x=\"470\" y=\"60.1387\">b: P</text></a></g><g id=\"E1.E6\"><a href=\"psysml:20d627d7-8daa-4ea4-8c0c-0e67ee5e3616\" target=\"_top\" title=\"psysml:20d627d7-8daa-4ea4-8c0c-0e67ee5e3616\" xlink:actuate=\"onRequest\" xlink:href=\"psysml:20d627d7-8daa-4ea4-8c0c-0e67ee5e3616\" xlink:show=\"new\" xlink:title=\"psysml:20d627d7-8daa-4ea4-8c0c-0e67ee5e3616\" xlink:type=\"simple\"><rect fill=\"#FFFFFF\" height=\"40\" id=\"E6\" rx=\"10\" ry=\"10\" style=\"stroke: #383838; stroke-width: 1.5;\" width=\"50\" x=\"372\" y=\"44\"/><rect fill=\"#F8F8F8\" height=\"23.9688\" rx=\"10\" ry=\"10\" style=\"stroke: #F8F8F8; stroke-width: 1.5;\" width=\"50\" x=\"372\" y=\"44\"/><rect fill=\"#F8F8F8\" height=\"10\" style=\"stroke: #F8F8F8; stroke-width: 1.5;\" width=\"50\" x=\"372\" y=\"57.9688\"/><rect fill=\"none\" height=\"40\" id=\"E6\" rx=\"10\" ry=\"10\" style=\"stroke: #383838; stroke-width: 1.5;\" width=\"50\" x=\"372\" y=\"44\"/><text fill=\"#000000\" font-family=\"sans-serif\" font-size=\"12\" lengthAdjust=\"spacingAndGlyphs\" textLength=\"23\" x=\"385.5\" y=\"60.1387\">c: P</text></a></g><g id=\"E1.E7\"><a href=\"psysml:4fc87a01-ac01-48e0-9821-1b5b80a637f1\" target=\"_top\" title=\"psysml:4fc87a01-ac01-48e0-9821-1b5b80a637f1\" xlink:actuate=\"onRequest\" xlink:href=\"psysml:4fc87a01-ac01-48e0-9821-1b5b80a637f1\" xlink:show=\"new\" xlink:title=\"psysml:4fc87a01-ac01-48e0-9821-1b5b80a637f1\" xlink:type=\"simple\"><rect fill=\"#FFFFFF\" height=\"40\" id=\"E7\" rx=\"10\" ry=\"10\" style=\"stroke: #383838; stroke-width: 1.5;\" width=\"50\" x=\"287\" y=\"44\"/><rect fill=\"#F8F8F8\" height=\"23.9688\" rx=\"10\" ry=\"10\" style=\"stroke: #F8F8F8; stroke-width: 1.5;\" width=\"50\" x=\"287\" y=\"44\"/><rect fill=\"#F8F8F8\" height=\"10\" style=\"stroke: #F8F8F8; stroke-width: 1.5;\" width=\"50\" x=\"287\" y=\"57.9688\"/><rect fill=\"none\" height=\"40\" id=\"E7\" rx=\"10\" ry=\"10\" style=\"stroke: #383838; stroke-width: 1.5;\" width=\"50\" x=\"287\" y=\"44\"/><text fill=\"#000000\" font-family=\"sans-serif\" font-size=\"12\" lengthAdjust=\"spacingAndGlyphs\" textLength=\"8\" x=\"308\" y=\"60.1387\">d</text></a></g><g id=\"E1.E8\"><a href=\"psysml:e7c3b12c-9054-4127-bd5f-a31eeffec0a6\" target=\"_top\" title=\"psysml:e7c3b12c-9054-4127-bd5f-a31eeffec0a6\" xlink:actuate=\"onRequest\" xlink:href=\"psysml:e7c3b12c-9054-4127-bd5f-a31eeffec0a6\" xlink:show=\"new\" xlink:title=\"psysml:e7c3b12c-9054-4127-bd5f-a31eeffec0a6\" xlink:type=\"simple\"><rect fill=\"#FFFFFF\" height=\"40\" id=\"E8\" rx=\"10\" ry=\"10\" style=\"stroke: #383838; stroke-width: 1.5;\" width=\"50\" x=\"202\" y=\"44\"/><rect fill=\"#F8F8F8\" height=\"23.9688\" rx=\"10\" ry=\"10\" style=\"stroke: #F8F8F8; stroke-width: 1.5;\" width=\"50\" x=\"202\" y=\"44\"/><rect fill=\"#F8F8F8\" height=\"10\" style=\"stroke: #F8F8F8; stroke-width: 1.5;\" width=\"50\" x=\"202\" y=\"57.9688\"/><rect fill=\"none\" height=\"40\" id=\"E8\" rx=\"10\" ry=\"10\" style=\"stroke: #383838; stroke-width: 1.5;\" width=\"50\" x=\"202\" y=\"44\"/><text fill=\"#000000\" font-family=\"sans-serif\" font-size=\"12\" lengthAdjust=\"spacingAndGlyphs\" textLength=\"8\" x=\"223\" y=\"60.1387\">e</text></a></g><g id=\"E1.E9\"><a href=\"psysml:49b700d2-d9c4-4257-84cb-c65bfac2aa08\" target=\"_top\" title=\"psysml:49b700d2-d9c4-4257-84cb-c65bfac2aa08\" xlink:actuate=\"onRequest\" xlink:href=\"psysml:49b700d2-d9c4-4257-84cb-c65bfac2aa08\" xlink:show=\"new\" xlink:title=\"psysml:49b700d2-d9c4-4257-84cb-c65bfac2aa08\" xlink:type=\"simple\"><rect fill=\"#FFFFFF\" height=\"40\" id=\"E9\" rx=\"10\" ry=\"10\" style=\"stroke: #383838; stroke-width: 1.5;\" width=\"50\" x=\"117\" y=\"44\"/><rect fill=\"#F8F8F8\" height=\"23.9688\" rx=\"10\" ry=\"10\" style=\"stroke: #F8F8F8; stroke-width: 1.5;\" width=\"50\" x=\"117\" y=\"44\"/><rect fill=\"#F8F8F8\" height=\"10\" style=\"stroke: #F8F8F8; stroke-width: 1.5;\" width=\"50\" x=\"117\" y=\"57.9688\"/><rect fill=\"none\" height=\"40\" id=\"E9\" rx=\"10\" ry=\"10\" style=\"stroke: #383838; stroke-width: 1.5;\" width=\"50\" x=\"117\" y=\"44\"/><text fill=\"#000000\" font-family=\"sans-serif\" font-size=\"12\" lengthAdjust=\"spacingAndGlyphs\" textLength=\"4\" x=\"140\" y=\"60.1387\">f</text></a></g><g id=\"E1.E10\"><a href=\"psysml:20161f3e-4930-46fe-a17d-f79ec2a77aae\" target=\"_top\" title=\"psysml:20161f3e-4930-46fe-a17d-f79ec2a77aae\" xlink:actuate=\"onRequest\" xlink:href=\"psysml:20161f3e-4930-46fe-a17d-f79ec2a77aae\" xlink:show=\"new\" xlink:title=\"psysml:20161f3e-4930-46fe-a17d-f79ec2a77aae\" xlink:type=\"simple\"><rect fill=\"#FFFFFF\" height=\"40\" id=\"E10\" rx=\"10\" ry=\"10\" style=\"stroke: #383838; stroke-width: 1.5;\" width=\"50\" x=\"32\" y=\"44\"/><rect fill=\"#F8F8F8\" height=\"23.9688\" rx=\"10\" ry=\"10\" style=\"stroke: #F8F8F8; stroke-width: 1.5;\" width=\"50\" x=\"32\" y=\"44\"/><rect fill=\"#F8F8F8\" height=\"10\" style=\"stroke: #F8F8F8; stroke-width: 1.5;\" width=\"50\" x=\"32\" y=\"57.9688\"/><rect fill=\"none\" height=\"40\" id=\"E10\" rx=\"10\" ry=\"10\" style=\"stroke: #383838; stroke-width: 1.5;\" width=\"50\" x=\"32\" y=\"44\"/><text fill=\"#000000\" font-family=\"sans-serif\" font-size=\"12\" lengthAdjust=\"spacingAndGlyphs\" textLength=\"8\" x=\"53\" y=\"60.1387\">g</text></a></g><!--MD5=[2c6fd541e0a5b4475d7224f2477e6c69]\n",
       "@startuml\r\n",
       "skinparam ranksep 10\r\n",
       "skinparam rectangle {\r\n",
       " backgroundColor<<block>> LightGreen\r\n",
       "}\r\n",
       "skinparam linetype polyline\r\n",
       "skinparam monochrome true\r\n",
       "skinparam classbackgroundcolor white\r\n",
       "skinparam shadowing false\r\n",
       "skinparam wrapWidth 300\r\n",
       "hide circle\r\n",
       "\r\n",
       "package \"MultiplicityTest\" as E1  [[psysml:04657276-263c-446b-8b63-b81fdc3bdb65 ]]  {\r\n",
       "rec def \"P\" as E2  <<(T,blue) part def>> [[psysml:68eb8761-ff46-4523-ba58-41a062b6cb94 ]] {\r\n",
       "}\r\n",
       "comp usage \"n: Integer\" as E3  <<(T,blue) attribute>> [[psysml:c2c67205-2617-478d-9839-9411bc2f8511 ]] {\r\n",
       "}\r\n",
       "rec usage \"a\" as E4  [[psysml:fbb3215b-67d9-4514-b40f-6d8c33165593 ]] {\r\n",
       "}\r\n",
       "rec usage \"b: P\" as E5  [[psysml:d1ff5ca6-7417-4682-b046-127881647fcb ]] {\r\n",
       "}\r\n",
       "rec usage \"c: P\" as E6  [[psysml:20d627d7-8daa-4ea4-8c0c-0e67ee5e3616 ]] {\r\n",
       "}\r\n",
       "rec usage \"d\" as E7  [[psysml:4fc87a01-ac01-48e0-9821-1b5b80a637f1 ]] {\r\n",
       "}\r\n",
       "rec usage \"e\" as E8  [[psysml:e7c3b12c-9054-4127-bd5f-a31eeffec0a6 ]] {\r\n",
       "}\r\n",
       "rec usage \"f\" as E9  [[psysml:49b700d2-d9c4-4257-84cb-c65bfac2aa08 ]] {\r\n",
       "}\r\n",
       "rec usage \"g\" as E10  [[psysml:20161f3e-4930-46fe-a17d-f79ec2a77aae ]] {\r\n",
       "}\r\n",
       "def \"A\" as E11  <<(T,blue) attribute def>> [[psysml:958dabfe-3a24-44d8-9bca-d5e375f56ac2 ]] \r\n",
       "}\r\n",
       "@enduml\r\n",
       "\n",
       "PlantUML version 1.2020.13(Sat Jun 13 12:26:38 UTC 2020)\n",
       "(EPL source distribution)\n",
       "Java Runtime: OpenJDK Runtime Environment\n",
       "JVM: OpenJDK 64-Bit Server VM\n",
       "Default Encoding: UTF-8\n",
       "Language: en\n",
       "Country: null\n",
       "--></g></svg>"
      ]
     },
     "execution_count": 12,
     "metadata": {},
     "output_type": "execute_result"
    }
   ],
   "source": [
    "%viz --style=\"POLYLINE\" --view=\"Interconnection\" \"MultiplicityTest\""
   ]
  },
  {
   "cell_type": "code",
   "execution_count": 13,
   "id": "b9e94245",
   "metadata": {
    "execution": {
     "iopub.execute_input": "2021-08-04T06:29:50.251178Z",
     "iopub.status.busy": "2021-08-04T06:29:50.250932Z",
     "iopub.status.idle": "2021-08-04T06:29:50.256793Z",
     "shell.execute_reply": "2021-08-04T06:29:50.257095Z"
    }
   },
   "outputs": [
    {
     "data": {
      "image/svg+xml": [
       "<?xml version=\"1.0\" encoding=\"UTF-8\" standalone=\"no\"?><svg xmlns=\"http://www.w3.org/2000/svg\" xmlns:xlink=\"http://www.w3.org/1999/xlink\" contentScriptType=\"application/ecmascript\" contentStyleType=\"text/css\" height=\"12px\" preserveAspectRatio=\"none\" style=\"width:12px;height:12px;\" version=\"1.1\" viewBox=\"0 0 12 12\" width=\"12px\" zoomAndPan=\"magnify\"><defs/><g><!--MD5=[97bbf32f66ccd50cbc40d92ea8f5a65e]\n",
       "@startuml\r\n",
       "skinparam ranksep 8\r\n",
       "skinparam linetype polyline\r\n",
       "skinparam monochrome true\r\n",
       "skinparam classbackgroundcolor white\r\n",
       "skinparam shadowing false\r\n",
       "skinparam wrapWidth 300\r\n",
       "hide circle\r\n",
       "\r\n",
       "@enduml\r\n",
       "\n",
       "PlantUML version 1.2020.13(Sat Jun 13 12:26:38 UTC 2020)\n",
       "(EPL source distribution)\n",
       "Java Runtime: OpenJDK Runtime Environment\n",
       "JVM: OpenJDK 64-Bit Server VM\n",
       "Default Encoding: UTF-8\n",
       "Language: en\n",
       "Country: null\n",
       "--></g></svg>"
      ]
     },
     "execution_count": 13,
     "metadata": {},
     "output_type": "execute_result"
    }
   ],
   "source": [
    "%viz --style=\"POLYLINE\" --view=\"Action\" \"MultiplicityTest\""
   ]
  },
  {
   "cell_type": "code",
   "execution_count": 14,
   "id": "b7dd9704",
   "metadata": {
    "execution": {
     "iopub.execute_input": "2021-08-04T06:29:50.307746Z",
     "iopub.status.busy": "2021-08-04T06:29:50.307482Z",
     "iopub.status.idle": "2021-08-04T06:29:50.369459Z",
     "shell.execute_reply": "2021-08-04T06:29:50.369165Z"
    }
   },
   "outputs": [
    {
     "data": {
      "image/svg+xml": [
       "<?xml version=\"1.0\" encoding=\"UTF-8\" standalone=\"no\"?><svg xmlns=\"http://www.w3.org/2000/svg\" xmlns:xlink=\"http://www.w3.org/1999/xlink\" contentScriptType=\"application/ecmascript\" contentStyleType=\"text/css\" height=\"263px\" preserveAspectRatio=\"none\" style=\"width:812px;height:263px;\" version=\"1.1\" viewBox=\"0 0 812 263\" width=\"812px\" zoomAndPan=\"magnify\"><defs/><g><!--MD5=[fbc87193dbaf4d95561dea2c320d4a47]\n",
       "cluster E1--><a href=\"psysml:04657276-263c-446b-8b63-b81fdc3bdb65\" target=\"_top\" title=\"psysml:04657276-263c-446b-8b63-b81fdc3bdb65\" xlink:actuate=\"onRequest\" xlink:href=\"psysml:04657276-263c-446b-8b63-b81fdc3bdb65\" xlink:show=\"new\" xlink:title=\"psysml:04657276-263c-446b-8b63-b81fdc3bdb65\" xlink:type=\"simple\"><polygon fill=\"#FFFFFF\" points=\"16,6,140,6,147,28.2969,790,28.2969,790,251,16,251,16,6\" style=\"stroke: #000000; stroke-width: 1.5;\"/><line style=\"stroke: #000000; stroke-width: 1.5;\" x1=\"16\" x2=\"147\" y1=\"28.2969\" y2=\"28.2969\"/><text fill=\"#000000\" font-family=\"sans-serif\" font-size=\"14\" font-weight=\"bold\" lengthAdjust=\"spacingAndGlyphs\" textLength=\"118\" x=\"20\" y=\"20.9951\">MultiplicityTest</text></a><!--MD5=[b4997ac47864f28c2f74865a473b2911]\n",
       "class E2--><a href=\"psysml:68eb8761-ff46-4523-ba58-41a062b6cb94\" target=\"_top\" title=\"psysml:68eb8761-ff46-4523-ba58-41a062b6cb94\" xlink:actuate=\"onRequest\" xlink:href=\"psysml:68eb8761-ff46-4523-ba58-41a062b6cb94\" xlink:show=\"new\" xlink:title=\"psysml:68eb8761-ff46-4523-ba58-41a062b6cb94\" xlink:type=\"simple\"><rect fill=\"#FFFFFF\" height=\"45.9375\" id=\"E2\" style=\"stroke: #383838; stroke-width: 1.5;\" width=\"66\" x=\"497\" y=\"189\"/><text fill=\"#000000\" font-family=\"sans-serif\" font-size=\"12\" font-style=\"italic\" lengthAdjust=\"spacingAndGlyphs\" textLength=\"64\" x=\"498\" y=\"205.1387\">«part def»</text><text fill=\"#000000\" font-family=\"sans-serif\" font-size=\"12\" lengthAdjust=\"spacingAndGlyphs\" textLength=\"8\" x=\"526\" y=\"219.1074\">P</text><line style=\"stroke: #383838; stroke-width: 1.5;\" x1=\"498\" x2=\"562\" y1=\"226.9375\" y2=\"226.9375\"/></a><!--MD5=[09b614a08d8cba4a07c9adeb5e0fee81]\n",
       "class E3--><a href=\"psysml:c2c67205-2617-478d-9839-9411bc2f8511\" target=\"_top\" title=\"psysml:c2c67205-2617-478d-9839-9411bc2f8511\" xlink:actuate=\"onRequest\" xlink:href=\"psysml:c2c67205-2617-478d-9839-9411bc2f8511\" xlink:show=\"new\" xlink:title=\"psysml:c2c67205-2617-478d-9839-9411bc2f8511\" xlink:type=\"simple\"><rect fill=\"#FFFFFF\" height=\"45.9375\" id=\"E3\" rx=\"10\" ry=\"10\" style=\"stroke: #383838; stroke-width: 1.5;\" width=\"71\" x=\"702.5\" y=\"62\"/><text fill=\"#000000\" font-family=\"sans-serif\" font-size=\"12\" font-style=\"italic\" lengthAdjust=\"spacingAndGlyphs\" textLength=\"69\" x=\"703.5\" y=\"78.1387\">«attribute»</text><text fill=\"#000000\" font-family=\"sans-serif\" font-size=\"12\" lengthAdjust=\"spacingAndGlyphs\" textLength=\"61\" x=\"707.5\" y=\"92.1074\">n: Integer</text><line style=\"stroke: #383838; stroke-width: 1.5;\" x1=\"703.5\" x2=\"772.5\" y1=\"99.9375\" y2=\"99.9375\"/></a><!--MD5=[ebbe1d658d1005bcc118a6aa81145e00]\n",
       "class E4--><a href=\"psysml:fbb3215b-67d9-4514-b40f-6d8c33165593\" target=\"_top\" title=\"psysml:fbb3215b-67d9-4514-b40f-6d8c33165593\" xlink:actuate=\"onRequest\" xlink:href=\"psysml:fbb3215b-67d9-4514-b40f-6d8c33165593\" xlink:show=\"new\" xlink:title=\"psysml:fbb3215b-67d9-4514-b40f-6d8c33165593\" xlink:type=\"simple\"><rect fill=\"#FFFFFF\" height=\"45.9375\" id=\"E4\" rx=\"10\" ry=\"10\" style=\"stroke: #383838; stroke-width: 1.5;\" width=\"42\" x=\"625\" y=\"62\"/><text fill=\"#000000\" font-family=\"sans-serif\" font-size=\"12\" font-style=\"italic\" lengthAdjust=\"spacingAndGlyphs\" textLength=\"40\" x=\"626\" y=\"78.1387\">«part»</text><text fill=\"#000000\" font-family=\"sans-serif\" font-size=\"12\" lengthAdjust=\"spacingAndGlyphs\" textLength=\"8\" x=\"642\" y=\"92.1074\">a</text><line style=\"stroke: #383838; stroke-width: 1.5;\" x1=\"626\" x2=\"666\" y1=\"99.9375\" y2=\"99.9375\"/></a><!--MD5=[270fce915f116d4de14055a7c1d9a0f3]\n",
       "class E5--><a href=\"psysml:d1ff5ca6-7417-4682-b046-127881647fcb\" target=\"_top\" title=\"psysml:d1ff5ca6-7417-4682-b046-127881647fcb\" xlink:actuate=\"onRequest\" xlink:href=\"psysml:d1ff5ca6-7417-4682-b046-127881647fcb\" xlink:show=\"new\" xlink:title=\"psysml:d1ff5ca6-7417-4682-b046-127881647fcb\" xlink:type=\"simple\"><rect fill=\"#FFFFFF\" height=\"45.9375\" id=\"E5\" rx=\"10\" ry=\"10\" style=\"stroke: #383838; stroke-width: 1.5;\" width=\"42\" x=\"548\" y=\"62\"/><text fill=\"#000000\" font-family=\"sans-serif\" font-size=\"12\" font-style=\"italic\" lengthAdjust=\"spacingAndGlyphs\" textLength=\"40\" x=\"549\" y=\"78.1387\">«part»</text><text fill=\"#000000\" font-family=\"sans-serif\" font-size=\"12\" lengthAdjust=\"spacingAndGlyphs\" textLength=\"24\" x=\"557\" y=\"92.1074\">b: P</text><line style=\"stroke: #383838; stroke-width: 1.5;\" x1=\"549\" x2=\"589\" y1=\"99.9375\" y2=\"99.9375\"/></a><!--MD5=[60a26617385b1d2d0262a64233df1f8d]\n",
       "class E6--><a href=\"psysml:20d627d7-8daa-4ea4-8c0c-0e67ee5e3616\" target=\"_top\" title=\"psysml:20d627d7-8daa-4ea4-8c0c-0e67ee5e3616\" xlink:actuate=\"onRequest\" xlink:href=\"psysml:20d627d7-8daa-4ea4-8c0c-0e67ee5e3616\" xlink:show=\"new\" xlink:title=\"psysml:20d627d7-8daa-4ea4-8c0c-0e67ee5e3616\" xlink:type=\"simple\"><rect fill=\"#FFFFFF\" height=\"45.9375\" id=\"E6\" rx=\"10\" ry=\"10\" style=\"stroke: #383838; stroke-width: 1.5;\" width=\"42\" x=\"471\" y=\"62\"/><text fill=\"#000000\" font-family=\"sans-serif\" font-size=\"12\" font-style=\"italic\" lengthAdjust=\"spacingAndGlyphs\" textLength=\"40\" x=\"472\" y=\"78.1387\">«part»</text><text fill=\"#000000\" font-family=\"sans-serif\" font-size=\"12\" lengthAdjust=\"spacingAndGlyphs\" textLength=\"23\" x=\"480.5\" y=\"92.1074\">c: P</text><line style=\"stroke: #383838; stroke-width: 1.5;\" x1=\"472\" x2=\"512\" y1=\"99.9375\" y2=\"99.9375\"/></a><!--MD5=[2156ba9850f5573cc1fc38a6a4b2f02b]\n",
       "class E7--><a href=\"psysml:4fc87a01-ac01-48e0-9821-1b5b80a637f1\" target=\"_top\" title=\"psysml:4fc87a01-ac01-48e0-9821-1b5b80a637f1\" xlink:actuate=\"onRequest\" xlink:href=\"psysml:4fc87a01-ac01-48e0-9821-1b5b80a637f1\" xlink:show=\"new\" xlink:title=\"psysml:4fc87a01-ac01-48e0-9821-1b5b80a637f1\" xlink:type=\"simple\"><rect fill=\"#FFFFFF\" height=\"45.9375\" id=\"E7\" rx=\"10\" ry=\"10\" style=\"stroke: #383838; stroke-width: 1.5;\" width=\"42\" x=\"394\" y=\"62\"/><text fill=\"#000000\" font-family=\"sans-serif\" font-size=\"12\" font-style=\"italic\" lengthAdjust=\"spacingAndGlyphs\" textLength=\"40\" x=\"395\" y=\"78.1387\">«part»</text><text fill=\"#000000\" font-family=\"sans-serif\" font-size=\"12\" lengthAdjust=\"spacingAndGlyphs\" textLength=\"8\" x=\"411\" y=\"92.1074\">d</text><line style=\"stroke: #383838; stroke-width: 1.5;\" x1=\"395\" x2=\"435\" y1=\"99.9375\" y2=\"99.9375\"/></a><!--MD5=[b9389687b975829384b498ac4b7476b2]\n",
       "class E8--><a href=\"psysml:e7c3b12c-9054-4127-bd5f-a31eeffec0a6\" target=\"_top\" title=\"psysml:e7c3b12c-9054-4127-bd5f-a31eeffec0a6\" xlink:actuate=\"onRequest\" xlink:href=\"psysml:e7c3b12c-9054-4127-bd5f-a31eeffec0a6\" xlink:show=\"new\" xlink:title=\"psysml:e7c3b12c-9054-4127-bd5f-a31eeffec0a6\" xlink:type=\"simple\"><rect fill=\"#FFFFFF\" height=\"45.9375\" id=\"E8\" rx=\"10\" ry=\"10\" style=\"stroke: #383838; stroke-width: 1.5;\" width=\"42\" x=\"317\" y=\"62\"/><text fill=\"#000000\" font-family=\"sans-serif\" font-size=\"12\" font-style=\"italic\" lengthAdjust=\"spacingAndGlyphs\" textLength=\"40\" x=\"318\" y=\"78.1387\">«part»</text><text fill=\"#000000\" font-family=\"sans-serif\" font-size=\"12\" lengthAdjust=\"spacingAndGlyphs\" textLength=\"8\" x=\"334\" y=\"92.1074\">e</text><line style=\"stroke: #383838; stroke-width: 1.5;\" x1=\"318\" x2=\"358\" y1=\"99.9375\" y2=\"99.9375\"/></a><!--MD5=[fd4143e9d270a159db93a4ea2a975926]\n",
       "class E9--><a href=\"psysml:49b700d2-d9c4-4257-84cb-c65bfac2aa08\" target=\"_top\" title=\"psysml:49b700d2-d9c4-4257-84cb-c65bfac2aa08\" xlink:actuate=\"onRequest\" xlink:href=\"psysml:49b700d2-d9c4-4257-84cb-c65bfac2aa08\" xlink:show=\"new\" xlink:title=\"psysml:49b700d2-d9c4-4257-84cb-c65bfac2aa08\" xlink:type=\"simple\"><rect fill=\"#FFFFFF\" height=\"45.9375\" id=\"E9\" rx=\"10\" ry=\"10\" style=\"stroke: #383838; stroke-width: 1.5;\" width=\"42\" x=\"240\" y=\"62\"/><text fill=\"#000000\" font-family=\"sans-serif\" font-size=\"12\" font-style=\"italic\" lengthAdjust=\"spacingAndGlyphs\" textLength=\"40\" x=\"241\" y=\"78.1387\">«part»</text><text fill=\"#000000\" font-family=\"sans-serif\" font-size=\"12\" lengthAdjust=\"spacingAndGlyphs\" textLength=\"4\" x=\"259\" y=\"92.1074\">f</text><line style=\"stroke: #383838; stroke-width: 1.5;\" x1=\"241\" x2=\"281\" y1=\"99.9375\" y2=\"99.9375\"/></a><!--MD5=[96f4274e9e20536e775497830990834d]\n",
       "class E10--><a href=\"psysml:20161f3e-4930-46fe-a17d-f79ec2a77aae\" target=\"_top\" title=\"psysml:20161f3e-4930-46fe-a17d-f79ec2a77aae\" xlink:actuate=\"onRequest\" xlink:href=\"psysml:20161f3e-4930-46fe-a17d-f79ec2a77aae\" xlink:show=\"new\" xlink:title=\"psysml:20161f3e-4930-46fe-a17d-f79ec2a77aae\" xlink:type=\"simple\"><rect fill=\"#FFFFFF\" height=\"45.9375\" id=\"E10\" rx=\"10\" ry=\"10\" style=\"stroke: #383838; stroke-width: 1.5;\" width=\"42\" x=\"163\" y=\"62\"/><text fill=\"#000000\" font-family=\"sans-serif\" font-size=\"12\" font-style=\"italic\" lengthAdjust=\"spacingAndGlyphs\" textLength=\"40\" x=\"164\" y=\"78.1387\">«part»</text><text fill=\"#000000\" font-family=\"sans-serif\" font-size=\"12\" lengthAdjust=\"spacingAndGlyphs\" textLength=\"8\" x=\"180\" y=\"92.1074\">g</text><line style=\"stroke: #383838; stroke-width: 1.5;\" x1=\"164\" x2=\"204\" y1=\"99.9375\" y2=\"99.9375\"/></a><!--MD5=[1dd1bfd58a279cf63c5f349dbc8fc6a1]\n",
       "class E11--><a href=\"psysml:958dabfe-3a24-44d8-9bca-d5e375f56ac2\" target=\"_top\" title=\"psysml:958dabfe-3a24-44d8-9bca-d5e375f56ac2\" xlink:actuate=\"onRequest\" xlink:href=\"psysml:958dabfe-3a24-44d8-9bca-d5e375f56ac2\" xlink:show=\"new\" xlink:title=\"psysml:958dabfe-3a24-44d8-9bca-d5e375f56ac2\" xlink:type=\"simple\"><rect fill=\"#FFFFFF\" height=\"88.3516\" id=\"E11\" style=\"stroke: #383838; stroke-width: 1.5;\" width=\"95\" x=\"32.5\" y=\"41\"/><text fill=\"#000000\" font-family=\"sans-serif\" font-size=\"12\" font-style=\"italic\" lengthAdjust=\"spacingAndGlyphs\" textLength=\"93\" x=\"33.5\" y=\"57.1387\">«attribute def»</text><text fill=\"#000000\" font-family=\"sans-serif\" font-size=\"12\" lengthAdjust=\"spacingAndGlyphs\" textLength=\"8\" x=\"76\" y=\"71.1074\">A</text><line style=\"stroke: #383838; stroke-width: 1.5;\" x1=\"33.5\" x2=\"126.5\" y1=\"78.9375\" y2=\"78.9375\"/><text fill=\"#000000\" font-family=\"sans-serif\" font-size=\"11\" lengthAdjust=\"spacingAndGlyphs\" textLength=\"51\" x=\"38.5\" y=\"109.9526\">i: Integer</text><text fill=\"#000000\" font-family=\"sans-serif\" font-size=\"11\" lengthAdjust=\"spacingAndGlyphs\" textLength=\"21\" x=\"38.5\" y=\"122.7573\">x: A</text><line style=\"stroke: #383838; stroke-width: 1.0;\" x1=\"33.5\" x2=\"52.5\" y1=\"93.3398\" y2=\"93.3398\"/><text fill=\"#000000\" font-family=\"sans-serif\" font-size=\"11\" lengthAdjust=\"spacingAndGlyphs\" textLength=\"55\" x=\"52.5\" y=\"96.6479\">attributes</text><line style=\"stroke: #383838; stroke-width: 1.0;\" x1=\"107.5\" x2=\"126.5\" y1=\"93.3398\" y2=\"93.3398\"/></a><!--MD5=[15ebcb19ae302d9b601edb458606d402]\n",
       "link E5 to E2--><a href=\"psysml:a788c1ae-8502-4aea-9d8b-5a5d865c76a9\" target=\"_top\" title=\"psysml:a788c1ae-8502-4aea-9d8b-5a5d865c76a9\" xlink:actuate=\"onRequest\" xlink:href=\"psysml:a788c1ae-8502-4aea-9d8b-5a5d865c76a9\" xlink:show=\"new\" xlink:title=\"psysml:a788c1ae-8502-4aea-9d8b-5a5d865c76a9\" xlink:type=\"simple\"><path d=\"M562.12,108.06 C556.83,125 549.38,148.89 542.98,169.39 \" fill=\"none\" id=\"E5-&gt;E2\" style=\"stroke: #383838; stroke-width: 1.0;\"/><polygon fill=\"#FFFFFF\" points=\"536.95,188.74,535.929,168.5173,549.2931,172.6886,536.95,188.74\" style=\"stroke: #383838; stroke-width: 1.0;\"/><ellipse cx=\"539.5364\" cy=\"163.6721\" fill=\"#383838\" rx=\"2\" ry=\"2\" style=\"stroke: #383838; stroke-width: 1.0;\"/><ellipse cx=\"549.0823\" cy=\"166.6516\" fill=\"#383838\" rx=\"2\" ry=\"2\" style=\"stroke: #383838; stroke-width: 1.0;\"/></a><!--MD5=[2351f337d6de0f557b50152ba70847b5]\n",
       "link E6 to E2--><a href=\"psysml:96c9e024-7b1d-4ba9-883a-860d4899a00e\" target=\"_top\" title=\"psysml:96c9e024-7b1d-4ba9-883a-860d4899a00e\" xlink:actuate=\"onRequest\" xlink:href=\"psysml:96c9e024-7b1d-4ba9-883a-860d4899a00e\" xlink:show=\"new\" xlink:title=\"psysml:96c9e024-7b1d-4ba9-883a-860d4899a00e\" xlink:type=\"simple\"><path d=\"M498.71,108.06 C503.86,125 511.12,148.89 517.35,169.39 \" fill=\"none\" id=\"E6-&gt;E2\" style=\"stroke: #383838; stroke-width: 1.0;\"/><polygon fill=\"#FFFFFF\" points=\"523.23,188.74,511.007,172.597,524.4019,168.5255,523.23,188.74\" style=\"stroke: #383838; stroke-width: 1.0;\"/><ellipse cx=\"511.2628\" cy=\"166.5617\" fill=\"#383838\" rx=\"2\" ry=\"2\" style=\"stroke: #383838; stroke-width: 1.0;\"/><ellipse cx=\"520.8306\" cy=\"163.6535\" fill=\"#383838\" rx=\"2\" ry=\"2\" style=\"stroke: #383838; stroke-width: 1.0;\"/></a><!--MD5=[d853d12f7fb007d83ed254045a8da81f]\n",
       "@startuml\r\n",
       "skinparam linetype polyline\r\n",
       "skinparam monochrome true\r\n",
       "skinparam classbackgroundcolor white\r\n",
       "skinparam shadowing false\r\n",
       "skinparam wrapWidth 300\r\n",
       "hide circle\r\n",
       "\r\n",
       "package \"MultiplicityTest\" as E1  [[psysml:04657276-263c-446b-8b63-b81fdc3bdb65 ]]  {\r\n",
       "comp def \"P\" as E2  <<(T,blue) part def>> [[psysml:68eb8761-ff46-4523-ba58-41a062b6cb94 ]] {\r\n",
       "}\r\n",
       "comp usage \"n: Integer\" as E3  <<(T,blue) attribute>> [[psysml:c2c67205-2617-478d-9839-9411bc2f8511 ]] {\r\n",
       "}\r\n",
       "comp usage \"a\" as E4  <<(T,blue) part>> [[psysml:fbb3215b-67d9-4514-b40f-6d8c33165593 ]] {\r\n",
       "}\r\n",
       "comp usage \"b: P\" as E5  <<(T,blue) part>> [[psysml:d1ff5ca6-7417-4682-b046-127881647fcb ]] {\r\n",
       "}\r\n",
       "comp usage \"c: P\" as E6  <<(T,blue) part>> [[psysml:20d627d7-8daa-4ea4-8c0c-0e67ee5e3616 ]] {\r\n",
       "}\r\n",
       "comp usage \"d\" as E7  <<(T,blue) part>> [[psysml:4fc87a01-ac01-48e0-9821-1b5b80a637f1 ]] {\r\n",
       "}\r\n",
       "comp usage \"e\" as E8  <<(T,blue) part>> [[psysml:e7c3b12c-9054-4127-bd5f-a31eeffec0a6 ]] {\r\n",
       "}\r\n",
       "comp usage \"f\" as E9  <<(T,blue) part>> [[psysml:49b700d2-d9c4-4257-84cb-c65bfac2aa08 ]] {\r\n",
       "}\r\n",
       "comp usage \"g\" as E10  <<(T,blue) part>> [[psysml:20161f3e-4930-46fe-a17d-f79ec2a77aae ]] {\r\n",
       "}\r\n",
       "comp def \"A\" as E11  <<(T,blue) attribute def>> [[psysml:958dabfe-3a24-44d8-9bca-d5e375f56ac2 ]] {\r\n",
       "- - attributes - -\r\n",
       "i: Integer\r\n",
       "x: A\r\n",
       "}\r\n",
       "E5 - -:|> E2 [[psysml:a788c1ae-8502-4aea-9d8b-5a5d865c76a9 ]] \r\n",
       "E6 - -:|> E2 [[psysml:96c9e024-7b1d-4ba9-883a-860d4899a00e ]] \r\n",
       "}\r\n",
       "@enduml\r\n",
       "\n",
       "PlantUML version 1.2020.13(Sat Jun 13 12:26:38 UTC 2020)\n",
       "(EPL source distribution)\n",
       "Java Runtime: OpenJDK Runtime Environment\n",
       "JVM: OpenJDK 64-Bit Server VM\n",
       "Default Encoding: UTF-8\n",
       "Language: en\n",
       "Country: null\n",
       "--></g></svg>"
      ]
     },
     "execution_count": 14,
     "metadata": {},
     "output_type": "execute_result"
    }
   ],
   "source": [
    "%viz --style=\"POLYLINE\" --view=\"Sequence\" \"MultiplicityTest\""
   ]
  },
  {
   "cell_type": "code",
   "execution_count": 15,
   "id": "eb59b00a",
   "metadata": {
    "execution": {
     "iopub.execute_input": "2021-08-04T06:29:50.419766Z",
     "iopub.status.busy": "2021-08-04T06:29:50.419503Z",
     "iopub.status.idle": "2021-08-04T06:29:50.480874Z",
     "shell.execute_reply": "2021-08-04T06:29:50.480438Z"
    }
   },
   "outputs": [
    {
     "data": {
      "image/svg+xml": [
       "<?xml version=\"1.0\" encoding=\"UTF-8\" standalone=\"no\"?><svg xmlns=\"http://www.w3.org/2000/svg\" xmlns:xlink=\"http://www.w3.org/1999/xlink\" contentScriptType=\"application/ecmascript\" contentStyleType=\"text/css\" height=\"263px\" preserveAspectRatio=\"none\" style=\"width:812px;height:263px;\" version=\"1.1\" viewBox=\"0 0 812 263\" width=\"812px\" zoomAndPan=\"magnify\"><defs/><g><!--MD5=[fbc87193dbaf4d95561dea2c320d4a47]\n",
       "cluster E1--><a href=\"psysml:04657276-263c-446b-8b63-b81fdc3bdb65\" target=\"_top\" title=\"psysml:04657276-263c-446b-8b63-b81fdc3bdb65\" xlink:actuate=\"onRequest\" xlink:href=\"psysml:04657276-263c-446b-8b63-b81fdc3bdb65\" xlink:show=\"new\" xlink:title=\"psysml:04657276-263c-446b-8b63-b81fdc3bdb65\" xlink:type=\"simple\"><polygon fill=\"#FFFFFF\" points=\"16,6,140,6,147,28.2969,790,28.2969,790,251,16,251,16,6\" style=\"stroke: #000000; stroke-width: 1.5;\"/><line style=\"stroke: #000000; stroke-width: 1.5;\" x1=\"16\" x2=\"147\" y1=\"28.2969\" y2=\"28.2969\"/><text fill=\"#000000\" font-family=\"sans-serif\" font-size=\"14\" font-weight=\"bold\" lengthAdjust=\"spacingAndGlyphs\" textLength=\"118\" x=\"20\" y=\"20.9951\">MultiplicityTest</text></a><!--MD5=[b4997ac47864f28c2f74865a473b2911]\n",
       "class E2--><a href=\"psysml:68eb8761-ff46-4523-ba58-41a062b6cb94\" target=\"_top\" title=\"psysml:68eb8761-ff46-4523-ba58-41a062b6cb94\" xlink:actuate=\"onRequest\" xlink:href=\"psysml:68eb8761-ff46-4523-ba58-41a062b6cb94\" xlink:show=\"new\" xlink:title=\"psysml:68eb8761-ff46-4523-ba58-41a062b6cb94\" xlink:type=\"simple\"><rect fill=\"#FFFFFF\" height=\"45.9375\" id=\"E2\" style=\"stroke: #383838; stroke-width: 1.5;\" width=\"66\" x=\"497\" y=\"189\"/><text fill=\"#000000\" font-family=\"sans-serif\" font-size=\"12\" font-style=\"italic\" lengthAdjust=\"spacingAndGlyphs\" textLength=\"64\" x=\"498\" y=\"205.1387\">«part def»</text><text fill=\"#000000\" font-family=\"sans-serif\" font-size=\"12\" lengthAdjust=\"spacingAndGlyphs\" textLength=\"8\" x=\"526\" y=\"219.1074\">P</text><line style=\"stroke: #383838; stroke-width: 1.5;\" x1=\"498\" x2=\"562\" y1=\"226.9375\" y2=\"226.9375\"/></a><!--MD5=[09b614a08d8cba4a07c9adeb5e0fee81]\n",
       "class E3--><a href=\"psysml:c2c67205-2617-478d-9839-9411bc2f8511\" target=\"_top\" title=\"psysml:c2c67205-2617-478d-9839-9411bc2f8511\" xlink:actuate=\"onRequest\" xlink:href=\"psysml:c2c67205-2617-478d-9839-9411bc2f8511\" xlink:show=\"new\" xlink:title=\"psysml:c2c67205-2617-478d-9839-9411bc2f8511\" xlink:type=\"simple\"><rect fill=\"#FFFFFF\" height=\"45.9375\" id=\"E3\" rx=\"10\" ry=\"10\" style=\"stroke: #383838; stroke-width: 1.5;\" width=\"71\" x=\"702.5\" y=\"62\"/><text fill=\"#000000\" font-family=\"sans-serif\" font-size=\"12\" font-style=\"italic\" lengthAdjust=\"spacingAndGlyphs\" textLength=\"69\" x=\"703.5\" y=\"78.1387\">«attribute»</text><text fill=\"#000000\" font-family=\"sans-serif\" font-size=\"12\" lengthAdjust=\"spacingAndGlyphs\" textLength=\"61\" x=\"707.5\" y=\"92.1074\">n: Integer</text><line style=\"stroke: #383838; stroke-width: 1.5;\" x1=\"703.5\" x2=\"772.5\" y1=\"99.9375\" y2=\"99.9375\"/></a><!--MD5=[ebbe1d658d1005bcc118a6aa81145e00]\n",
       "class E4--><a href=\"psysml:fbb3215b-67d9-4514-b40f-6d8c33165593\" target=\"_top\" title=\"psysml:fbb3215b-67d9-4514-b40f-6d8c33165593\" xlink:actuate=\"onRequest\" xlink:href=\"psysml:fbb3215b-67d9-4514-b40f-6d8c33165593\" xlink:show=\"new\" xlink:title=\"psysml:fbb3215b-67d9-4514-b40f-6d8c33165593\" xlink:type=\"simple\"><rect fill=\"#FFFFFF\" height=\"45.9375\" id=\"E4\" rx=\"10\" ry=\"10\" style=\"stroke: #383838; stroke-width: 1.5;\" width=\"42\" x=\"625\" y=\"62\"/><text fill=\"#000000\" font-family=\"sans-serif\" font-size=\"12\" font-style=\"italic\" lengthAdjust=\"spacingAndGlyphs\" textLength=\"40\" x=\"626\" y=\"78.1387\">«part»</text><text fill=\"#000000\" font-family=\"sans-serif\" font-size=\"12\" lengthAdjust=\"spacingAndGlyphs\" textLength=\"8\" x=\"642\" y=\"92.1074\">a</text><line style=\"stroke: #383838; stroke-width: 1.5;\" x1=\"626\" x2=\"666\" y1=\"99.9375\" y2=\"99.9375\"/></a><!--MD5=[270fce915f116d4de14055a7c1d9a0f3]\n",
       "class E5--><a href=\"psysml:d1ff5ca6-7417-4682-b046-127881647fcb\" target=\"_top\" title=\"psysml:d1ff5ca6-7417-4682-b046-127881647fcb\" xlink:actuate=\"onRequest\" xlink:href=\"psysml:d1ff5ca6-7417-4682-b046-127881647fcb\" xlink:show=\"new\" xlink:title=\"psysml:d1ff5ca6-7417-4682-b046-127881647fcb\" xlink:type=\"simple\"><rect fill=\"#FFFFFF\" height=\"45.9375\" id=\"E5\" rx=\"10\" ry=\"10\" style=\"stroke: #383838; stroke-width: 1.5;\" width=\"42\" x=\"548\" y=\"62\"/><text fill=\"#000000\" font-family=\"sans-serif\" font-size=\"12\" font-style=\"italic\" lengthAdjust=\"spacingAndGlyphs\" textLength=\"40\" x=\"549\" y=\"78.1387\">«part»</text><text fill=\"#000000\" font-family=\"sans-serif\" font-size=\"12\" lengthAdjust=\"spacingAndGlyphs\" textLength=\"24\" x=\"557\" y=\"92.1074\">b: P</text><line style=\"stroke: #383838; stroke-width: 1.5;\" x1=\"549\" x2=\"589\" y1=\"99.9375\" y2=\"99.9375\"/></a><!--MD5=[60a26617385b1d2d0262a64233df1f8d]\n",
       "class E6--><a href=\"psysml:20d627d7-8daa-4ea4-8c0c-0e67ee5e3616\" target=\"_top\" title=\"psysml:20d627d7-8daa-4ea4-8c0c-0e67ee5e3616\" xlink:actuate=\"onRequest\" xlink:href=\"psysml:20d627d7-8daa-4ea4-8c0c-0e67ee5e3616\" xlink:show=\"new\" xlink:title=\"psysml:20d627d7-8daa-4ea4-8c0c-0e67ee5e3616\" xlink:type=\"simple\"><rect fill=\"#FFFFFF\" height=\"45.9375\" id=\"E6\" rx=\"10\" ry=\"10\" style=\"stroke: #383838; stroke-width: 1.5;\" width=\"42\" x=\"471\" y=\"62\"/><text fill=\"#000000\" font-family=\"sans-serif\" font-size=\"12\" font-style=\"italic\" lengthAdjust=\"spacingAndGlyphs\" textLength=\"40\" x=\"472\" y=\"78.1387\">«part»</text><text fill=\"#000000\" font-family=\"sans-serif\" font-size=\"12\" lengthAdjust=\"spacingAndGlyphs\" textLength=\"23\" x=\"480.5\" y=\"92.1074\">c: P</text><line style=\"stroke: #383838; stroke-width: 1.5;\" x1=\"472\" x2=\"512\" y1=\"99.9375\" y2=\"99.9375\"/></a><!--MD5=[2156ba9850f5573cc1fc38a6a4b2f02b]\n",
       "class E7--><a href=\"psysml:4fc87a01-ac01-48e0-9821-1b5b80a637f1\" target=\"_top\" title=\"psysml:4fc87a01-ac01-48e0-9821-1b5b80a637f1\" xlink:actuate=\"onRequest\" xlink:href=\"psysml:4fc87a01-ac01-48e0-9821-1b5b80a637f1\" xlink:show=\"new\" xlink:title=\"psysml:4fc87a01-ac01-48e0-9821-1b5b80a637f1\" xlink:type=\"simple\"><rect fill=\"#FFFFFF\" height=\"45.9375\" id=\"E7\" rx=\"10\" ry=\"10\" style=\"stroke: #383838; stroke-width: 1.5;\" width=\"42\" x=\"394\" y=\"62\"/><text fill=\"#000000\" font-family=\"sans-serif\" font-size=\"12\" font-style=\"italic\" lengthAdjust=\"spacingAndGlyphs\" textLength=\"40\" x=\"395\" y=\"78.1387\">«part»</text><text fill=\"#000000\" font-family=\"sans-serif\" font-size=\"12\" lengthAdjust=\"spacingAndGlyphs\" textLength=\"8\" x=\"411\" y=\"92.1074\">d</text><line style=\"stroke: #383838; stroke-width: 1.5;\" x1=\"395\" x2=\"435\" y1=\"99.9375\" y2=\"99.9375\"/></a><!--MD5=[b9389687b975829384b498ac4b7476b2]\n",
       "class E8--><a href=\"psysml:e7c3b12c-9054-4127-bd5f-a31eeffec0a6\" target=\"_top\" title=\"psysml:e7c3b12c-9054-4127-bd5f-a31eeffec0a6\" xlink:actuate=\"onRequest\" xlink:href=\"psysml:e7c3b12c-9054-4127-bd5f-a31eeffec0a6\" xlink:show=\"new\" xlink:title=\"psysml:e7c3b12c-9054-4127-bd5f-a31eeffec0a6\" xlink:type=\"simple\"><rect fill=\"#FFFFFF\" height=\"45.9375\" id=\"E8\" rx=\"10\" ry=\"10\" style=\"stroke: #383838; stroke-width: 1.5;\" width=\"42\" x=\"317\" y=\"62\"/><text fill=\"#000000\" font-family=\"sans-serif\" font-size=\"12\" font-style=\"italic\" lengthAdjust=\"spacingAndGlyphs\" textLength=\"40\" x=\"318\" y=\"78.1387\">«part»</text><text fill=\"#000000\" font-family=\"sans-serif\" font-size=\"12\" lengthAdjust=\"spacingAndGlyphs\" textLength=\"8\" x=\"334\" y=\"92.1074\">e</text><line style=\"stroke: #383838; stroke-width: 1.5;\" x1=\"318\" x2=\"358\" y1=\"99.9375\" y2=\"99.9375\"/></a><!--MD5=[fd4143e9d270a159db93a4ea2a975926]\n",
       "class E9--><a href=\"psysml:49b700d2-d9c4-4257-84cb-c65bfac2aa08\" target=\"_top\" title=\"psysml:49b700d2-d9c4-4257-84cb-c65bfac2aa08\" xlink:actuate=\"onRequest\" xlink:href=\"psysml:49b700d2-d9c4-4257-84cb-c65bfac2aa08\" xlink:show=\"new\" xlink:title=\"psysml:49b700d2-d9c4-4257-84cb-c65bfac2aa08\" xlink:type=\"simple\"><rect fill=\"#FFFFFF\" height=\"45.9375\" id=\"E9\" rx=\"10\" ry=\"10\" style=\"stroke: #383838; stroke-width: 1.5;\" width=\"42\" x=\"240\" y=\"62\"/><text fill=\"#000000\" font-family=\"sans-serif\" font-size=\"12\" font-style=\"italic\" lengthAdjust=\"spacingAndGlyphs\" textLength=\"40\" x=\"241\" y=\"78.1387\">«part»</text><text fill=\"#000000\" font-family=\"sans-serif\" font-size=\"12\" lengthAdjust=\"spacingAndGlyphs\" textLength=\"4\" x=\"259\" y=\"92.1074\">f</text><line style=\"stroke: #383838; stroke-width: 1.5;\" x1=\"241\" x2=\"281\" y1=\"99.9375\" y2=\"99.9375\"/></a><!--MD5=[96f4274e9e20536e775497830990834d]\n",
       "class E10--><a href=\"psysml:20161f3e-4930-46fe-a17d-f79ec2a77aae\" target=\"_top\" title=\"psysml:20161f3e-4930-46fe-a17d-f79ec2a77aae\" xlink:actuate=\"onRequest\" xlink:href=\"psysml:20161f3e-4930-46fe-a17d-f79ec2a77aae\" xlink:show=\"new\" xlink:title=\"psysml:20161f3e-4930-46fe-a17d-f79ec2a77aae\" xlink:type=\"simple\"><rect fill=\"#FFFFFF\" height=\"45.9375\" id=\"E10\" rx=\"10\" ry=\"10\" style=\"stroke: #383838; stroke-width: 1.5;\" width=\"42\" x=\"163\" y=\"62\"/><text fill=\"#000000\" font-family=\"sans-serif\" font-size=\"12\" font-style=\"italic\" lengthAdjust=\"spacingAndGlyphs\" textLength=\"40\" x=\"164\" y=\"78.1387\">«part»</text><text fill=\"#000000\" font-family=\"sans-serif\" font-size=\"12\" lengthAdjust=\"spacingAndGlyphs\" textLength=\"8\" x=\"180\" y=\"92.1074\">g</text><line style=\"stroke: #383838; stroke-width: 1.5;\" x1=\"164\" x2=\"204\" y1=\"99.9375\" y2=\"99.9375\"/></a><!--MD5=[1dd1bfd58a279cf63c5f349dbc8fc6a1]\n",
       "class E11--><a href=\"psysml:958dabfe-3a24-44d8-9bca-d5e375f56ac2\" target=\"_top\" title=\"psysml:958dabfe-3a24-44d8-9bca-d5e375f56ac2\" xlink:actuate=\"onRequest\" xlink:href=\"psysml:958dabfe-3a24-44d8-9bca-d5e375f56ac2\" xlink:show=\"new\" xlink:title=\"psysml:958dabfe-3a24-44d8-9bca-d5e375f56ac2\" xlink:type=\"simple\"><rect fill=\"#FFFFFF\" height=\"88.3516\" id=\"E11\" style=\"stroke: #383838; stroke-width: 1.5;\" width=\"95\" x=\"32.5\" y=\"41\"/><text fill=\"#000000\" font-family=\"sans-serif\" font-size=\"12\" font-style=\"italic\" lengthAdjust=\"spacingAndGlyphs\" textLength=\"93\" x=\"33.5\" y=\"57.1387\">«attribute def»</text><text fill=\"#000000\" font-family=\"sans-serif\" font-size=\"12\" lengthAdjust=\"spacingAndGlyphs\" textLength=\"8\" x=\"76\" y=\"71.1074\">A</text><line style=\"stroke: #383838; stroke-width: 1.5;\" x1=\"33.5\" x2=\"126.5\" y1=\"78.9375\" y2=\"78.9375\"/><text fill=\"#000000\" font-family=\"sans-serif\" font-size=\"11\" lengthAdjust=\"spacingAndGlyphs\" textLength=\"51\" x=\"38.5\" y=\"109.9526\">i: Integer</text><text fill=\"#000000\" font-family=\"sans-serif\" font-size=\"11\" lengthAdjust=\"spacingAndGlyphs\" textLength=\"21\" x=\"38.5\" y=\"122.7573\">x: A</text><line style=\"stroke: #383838; stroke-width: 1.0;\" x1=\"33.5\" x2=\"52.5\" y1=\"93.3398\" y2=\"93.3398\"/><text fill=\"#000000\" font-family=\"sans-serif\" font-size=\"11\" lengthAdjust=\"spacingAndGlyphs\" textLength=\"55\" x=\"52.5\" y=\"96.6479\">attributes</text><line style=\"stroke: #383838; stroke-width: 1.0;\" x1=\"107.5\" x2=\"126.5\" y1=\"93.3398\" y2=\"93.3398\"/></a><!--MD5=[15ebcb19ae302d9b601edb458606d402]\n",
       "link E5 to E2--><a href=\"psysml:a788c1ae-8502-4aea-9d8b-5a5d865c76a9\" target=\"_top\" title=\"psysml:a788c1ae-8502-4aea-9d8b-5a5d865c76a9\" xlink:actuate=\"onRequest\" xlink:href=\"psysml:a788c1ae-8502-4aea-9d8b-5a5d865c76a9\" xlink:show=\"new\" xlink:title=\"psysml:a788c1ae-8502-4aea-9d8b-5a5d865c76a9\" xlink:type=\"simple\"><path d=\"M562.12,108.06 C556.83,125 549.38,148.89 542.98,169.39 \" fill=\"none\" id=\"E5-&gt;E2\" style=\"stroke: #383838; stroke-width: 1.0;\"/><polygon fill=\"#FFFFFF\" points=\"536.95,188.74,535.929,168.5173,549.2931,172.6886,536.95,188.74\" style=\"stroke: #383838; stroke-width: 1.0;\"/><ellipse cx=\"539.5364\" cy=\"163.6721\" fill=\"#383838\" rx=\"2\" ry=\"2\" style=\"stroke: #383838; stroke-width: 1.0;\"/><ellipse cx=\"549.0823\" cy=\"166.6516\" fill=\"#383838\" rx=\"2\" ry=\"2\" style=\"stroke: #383838; stroke-width: 1.0;\"/></a><!--MD5=[2351f337d6de0f557b50152ba70847b5]\n",
       "link E6 to E2--><a href=\"psysml:96c9e024-7b1d-4ba9-883a-860d4899a00e\" target=\"_top\" title=\"psysml:96c9e024-7b1d-4ba9-883a-860d4899a00e\" xlink:actuate=\"onRequest\" xlink:href=\"psysml:96c9e024-7b1d-4ba9-883a-860d4899a00e\" xlink:show=\"new\" xlink:title=\"psysml:96c9e024-7b1d-4ba9-883a-860d4899a00e\" xlink:type=\"simple\"><path d=\"M498.71,108.06 C503.86,125 511.12,148.89 517.35,169.39 \" fill=\"none\" id=\"E6-&gt;E2\" style=\"stroke: #383838; stroke-width: 1.0;\"/><polygon fill=\"#FFFFFF\" points=\"523.23,188.74,511.007,172.597,524.4019,168.5255,523.23,188.74\" style=\"stroke: #383838; stroke-width: 1.0;\"/><ellipse cx=\"511.2628\" cy=\"166.5617\" fill=\"#383838\" rx=\"2\" ry=\"2\" style=\"stroke: #383838; stroke-width: 1.0;\"/><ellipse cx=\"520.8306\" cy=\"163.6535\" fill=\"#383838\" rx=\"2\" ry=\"2\" style=\"stroke: #383838; stroke-width: 1.0;\"/></a><!--MD5=[d853d12f7fb007d83ed254045a8da81f]\n",
       "@startuml\r\n",
       "skinparam linetype polyline\r\n",
       "skinparam monochrome true\r\n",
       "skinparam classbackgroundcolor white\r\n",
       "skinparam shadowing false\r\n",
       "skinparam wrapWidth 300\r\n",
       "hide circle\r\n",
       "\r\n",
       "package \"MultiplicityTest\" as E1  [[psysml:04657276-263c-446b-8b63-b81fdc3bdb65 ]]  {\r\n",
       "comp def \"P\" as E2  <<(T,blue) part def>> [[psysml:68eb8761-ff46-4523-ba58-41a062b6cb94 ]] {\r\n",
       "}\r\n",
       "comp usage \"n: Integer\" as E3  <<(T,blue) attribute>> [[psysml:c2c67205-2617-478d-9839-9411bc2f8511 ]] {\r\n",
       "}\r\n",
       "comp usage \"a\" as E4  <<(T,blue) part>> [[psysml:fbb3215b-67d9-4514-b40f-6d8c33165593 ]] {\r\n",
       "}\r\n",
       "comp usage \"b: P\" as E5  <<(T,blue) part>> [[psysml:d1ff5ca6-7417-4682-b046-127881647fcb ]] {\r\n",
       "}\r\n",
       "comp usage \"c: P\" as E6  <<(T,blue) part>> [[psysml:20d627d7-8daa-4ea4-8c0c-0e67ee5e3616 ]] {\r\n",
       "}\r\n",
       "comp usage \"d\" as E7  <<(T,blue) part>> [[psysml:4fc87a01-ac01-48e0-9821-1b5b80a637f1 ]] {\r\n",
       "}\r\n",
       "comp usage \"e\" as E8  <<(T,blue) part>> [[psysml:e7c3b12c-9054-4127-bd5f-a31eeffec0a6 ]] {\r\n",
       "}\r\n",
       "comp usage \"f\" as E9  <<(T,blue) part>> [[psysml:49b700d2-d9c4-4257-84cb-c65bfac2aa08 ]] {\r\n",
       "}\r\n",
       "comp usage \"g\" as E10  <<(T,blue) part>> [[psysml:20161f3e-4930-46fe-a17d-f79ec2a77aae ]] {\r\n",
       "}\r\n",
       "comp def \"A\" as E11  <<(T,blue) attribute def>> [[psysml:958dabfe-3a24-44d8-9bca-d5e375f56ac2 ]] {\r\n",
       "- - attributes - -\r\n",
       "i: Integer\r\n",
       "x: A\r\n",
       "}\r\n",
       "E5 - -:|> E2 [[psysml:a788c1ae-8502-4aea-9d8b-5a5d865c76a9 ]] \r\n",
       "E6 - -:|> E2 [[psysml:96c9e024-7b1d-4ba9-883a-860d4899a00e ]] \r\n",
       "}\r\n",
       "@enduml\r\n",
       "\n",
       "PlantUML version 1.2020.13(Sat Jun 13 12:26:38 UTC 2020)\n",
       "(EPL source distribution)\n",
       "Java Runtime: OpenJDK Runtime Environment\n",
       "JVM: OpenJDK 64-Bit Server VM\n",
       "Default Encoding: UTF-8\n",
       "Language: en\n",
       "Country: null\n",
       "--></g></svg>"
      ]
     },
     "execution_count": 15,
     "metadata": {},
     "output_type": "execute_result"
    }
   ],
   "source": [
    "%viz --style=\"POLYLINE\" --view=\"MIXED\" \"MultiplicityTest\""
   ]
  },
  {
   "cell_type": "code",
   "execution_count": 16,
   "id": "77aeadd8",
   "metadata": {
    "execution": {
     "iopub.execute_input": "2021-08-04T06:29:50.530277Z",
     "iopub.status.busy": "2021-08-04T06:29:50.530029Z",
     "iopub.status.idle": "2021-08-04T06:29:50.595678Z",
     "shell.execute_reply": "2021-08-04T06:29:50.595296Z"
    }
   },
   "outputs": [
    {
     "data": {
      "image/svg+xml": [
       "<?xml version=\"1.0\" encoding=\"UTF-8\" standalone=\"no\"?><svg xmlns=\"http://www.w3.org/2000/svg\" xmlns:xlink=\"http://www.w3.org/1999/xlink\" contentScriptType=\"application/ecmascript\" contentStyleType=\"text/css\" height=\"805px\" preserveAspectRatio=\"none\" style=\"width:291px;height:805px;\" version=\"1.1\" viewBox=\"0 0 291 805\" width=\"291px\" zoomAndPan=\"magnify\"><defs/><g><!--MD5=[fbc87193dbaf4d95561dea2c320d4a47]\n",
       "cluster E1--><a href=\"psysml:04657276-263c-446b-8b63-b81fdc3bdb65\" target=\"_top\" title=\"psysml:04657276-263c-446b-8b63-b81fdc3bdb65\" xlink:actuate=\"onRequest\" xlink:href=\"psysml:04657276-263c-446b-8b63-b81fdc3bdb65\" xlink:show=\"new\" xlink:title=\"psysml:04657276-263c-446b-8b63-b81fdc3bdb65\" xlink:type=\"simple\"><polygon fill=\"#FFFFFF\" points=\"16,6,140,6,147,28.2969,269,28.2969,269,793,16,793,16,6\" style=\"stroke: #000000; stroke-width: 1.5;\"/><line style=\"stroke: #000000; stroke-width: 1.5;\" x1=\"16\" x2=\"147\" y1=\"28.2969\" y2=\"28.2969\"/><text fill=\"#000000\" font-family=\"sans-serif\" font-size=\"14\" font-weight=\"bold\" lengthAdjust=\"spacingAndGlyphs\" textLength=\"118\" x=\"20\" y=\"20.9951\">MultiplicityTest</text></a><!--MD5=[b4997ac47864f28c2f74865a473b2911]\n",
       "class E2--><a href=\"psysml:68eb8761-ff46-4523-ba58-41a062b6cb94\" target=\"_top\" title=\"psysml:68eb8761-ff46-4523-ba58-41a062b6cb94\" xlink:actuate=\"onRequest\" xlink:href=\"psysml:68eb8761-ff46-4523-ba58-41a062b6cb94\" xlink:show=\"new\" xlink:title=\"psysml:68eb8761-ff46-4523-ba58-41a062b6cb94\" xlink:type=\"simple\"><rect fill=\"#FFFFFF\" height=\"45.9375\" id=\"E2\" style=\"stroke: #383838; stroke-width: 1.5;\" width=\"66\" x=\"187\" y=\"244\"/><text fill=\"#000000\" font-family=\"sans-serif\" font-size=\"12\" font-style=\"italic\" lengthAdjust=\"spacingAndGlyphs\" textLength=\"64\" x=\"188\" y=\"260.1387\">«part def»</text><text fill=\"#000000\" font-family=\"sans-serif\" font-size=\"12\" lengthAdjust=\"spacingAndGlyphs\" textLength=\"8\" x=\"216\" y=\"274.1074\">P</text><line style=\"stroke: #383838; stroke-width: 1.5;\" x1=\"188\" x2=\"252\" y1=\"281.9375\" y2=\"281.9375\"/></a><!--MD5=[09b614a08d8cba4a07c9adeb5e0fee81]\n",
       "class E3--><a href=\"psysml:c2c67205-2617-478d-9839-9411bc2f8511\" target=\"_top\" title=\"psysml:c2c67205-2617-478d-9839-9411bc2f8511\" xlink:actuate=\"onRequest\" xlink:href=\"psysml:c2c67205-2617-478d-9839-9411bc2f8511\" xlink:show=\"new\" xlink:title=\"psysml:c2c67205-2617-478d-9839-9411bc2f8511\" xlink:type=\"simple\"><rect fill=\"#FFFFFF\" height=\"45.9375\" id=\"E3\" rx=\"10\" ry=\"10\" style=\"stroke: #383838; stroke-width: 1.5;\" width=\"71\" x=\"44\" y=\"41\"/><text fill=\"#000000\" font-family=\"sans-serif\" font-size=\"12\" font-style=\"italic\" lengthAdjust=\"spacingAndGlyphs\" textLength=\"69\" x=\"45\" y=\"57.1387\">«attribute»</text><text fill=\"#000000\" font-family=\"sans-serif\" font-size=\"12\" lengthAdjust=\"spacingAndGlyphs\" textLength=\"61\" x=\"49\" y=\"71.1074\">n: Integer</text><line style=\"stroke: #383838; stroke-width: 1.5;\" x1=\"45\" x2=\"114\" y1=\"78.9375\" y2=\"78.9375\"/></a><!--MD5=[ebbe1d658d1005bcc118a6aa81145e00]\n",
       "class E4--><a href=\"psysml:fbb3215b-67d9-4514-b40f-6d8c33165593\" target=\"_top\" title=\"psysml:fbb3215b-67d9-4514-b40f-6d8c33165593\" xlink:actuate=\"onRequest\" xlink:href=\"psysml:fbb3215b-67d9-4514-b40f-6d8c33165593\" xlink:show=\"new\" xlink:title=\"psysml:fbb3215b-67d9-4514-b40f-6d8c33165593\" xlink:type=\"simple\"><rect fill=\"#FFFFFF\" height=\"45.9375\" id=\"E4\" rx=\"10\" ry=\"10\" style=\"stroke: #383838; stroke-width: 1.5;\" width=\"42\" x=\"58.5\" y=\"122\"/><text fill=\"#000000\" font-family=\"sans-serif\" font-size=\"12\" font-style=\"italic\" lengthAdjust=\"spacingAndGlyphs\" textLength=\"40\" x=\"59.5\" y=\"138.1387\">«part»</text><text fill=\"#000000\" font-family=\"sans-serif\" font-size=\"12\" lengthAdjust=\"spacingAndGlyphs\" textLength=\"8\" x=\"75.5\" y=\"152.1074\">a</text><line style=\"stroke: #383838; stroke-width: 1.5;\" x1=\"59.5\" x2=\"99.5\" y1=\"159.9375\" y2=\"159.9375\"/></a><!--MD5=[270fce915f116d4de14055a7c1d9a0f3]\n",
       "class E5--><a href=\"psysml:d1ff5ca6-7417-4682-b046-127881647fcb\" target=\"_top\" title=\"psysml:d1ff5ca6-7417-4682-b046-127881647fcb\" xlink:actuate=\"onRequest\" xlink:href=\"psysml:d1ff5ca6-7417-4682-b046-127881647fcb\" xlink:show=\"new\" xlink:title=\"psysml:d1ff5ca6-7417-4682-b046-127881647fcb\" xlink:type=\"simple\"><rect fill=\"#FFFFFF\" height=\"45.9375\" id=\"E5\" rx=\"10\" ry=\"10\" style=\"stroke: #383838; stroke-width: 1.5;\" width=\"42\" x=\"58.5\" y=\"203\"/><text fill=\"#000000\" font-family=\"sans-serif\" font-size=\"12\" font-style=\"italic\" lengthAdjust=\"spacingAndGlyphs\" textLength=\"40\" x=\"59.5\" y=\"219.1387\">«part»</text><text fill=\"#000000\" font-family=\"sans-serif\" font-size=\"12\" lengthAdjust=\"spacingAndGlyphs\" textLength=\"24\" x=\"67.5\" y=\"233.1074\">b: P</text><line style=\"stroke: #383838; stroke-width: 1.5;\" x1=\"59.5\" x2=\"99.5\" y1=\"240.9375\" y2=\"240.9375\"/></a><!--MD5=[60a26617385b1d2d0262a64233df1f8d]\n",
       "class E6--><a href=\"psysml:20d627d7-8daa-4ea4-8c0c-0e67ee5e3616\" target=\"_top\" title=\"psysml:20d627d7-8daa-4ea4-8c0c-0e67ee5e3616\" xlink:actuate=\"onRequest\" xlink:href=\"psysml:20d627d7-8daa-4ea4-8c0c-0e67ee5e3616\" xlink:show=\"new\" xlink:title=\"psysml:20d627d7-8daa-4ea4-8c0c-0e67ee5e3616\" xlink:type=\"simple\"><rect fill=\"#FFFFFF\" height=\"45.9375\" id=\"E6\" rx=\"10\" ry=\"10\" style=\"stroke: #383838; stroke-width: 1.5;\" width=\"42\" x=\"58.5\" y=\"284\"/><text fill=\"#000000\" font-family=\"sans-serif\" font-size=\"12\" font-style=\"italic\" lengthAdjust=\"spacingAndGlyphs\" textLength=\"40\" x=\"59.5\" y=\"300.1387\">«part»</text><text fill=\"#000000\" font-family=\"sans-serif\" font-size=\"12\" lengthAdjust=\"spacingAndGlyphs\" textLength=\"23\" x=\"68\" y=\"314.1074\">c: P</text><line style=\"stroke: #383838; stroke-width: 1.5;\" x1=\"59.5\" x2=\"99.5\" y1=\"321.9375\" y2=\"321.9375\"/></a><!--MD5=[2156ba9850f5573cc1fc38a6a4b2f02b]\n",
       "class E7--><a href=\"psysml:4fc87a01-ac01-48e0-9821-1b5b80a637f1\" target=\"_top\" title=\"psysml:4fc87a01-ac01-48e0-9821-1b5b80a637f1\" xlink:actuate=\"onRequest\" xlink:href=\"psysml:4fc87a01-ac01-48e0-9821-1b5b80a637f1\" xlink:show=\"new\" xlink:title=\"psysml:4fc87a01-ac01-48e0-9821-1b5b80a637f1\" xlink:type=\"simple\"><rect fill=\"#FFFFFF\" height=\"45.9375\" id=\"E7\" rx=\"10\" ry=\"10\" style=\"stroke: #383838; stroke-width: 1.5;\" width=\"42\" x=\"58.5\" y=\"365\"/><text fill=\"#000000\" font-family=\"sans-serif\" font-size=\"12\" font-style=\"italic\" lengthAdjust=\"spacingAndGlyphs\" textLength=\"40\" x=\"59.5\" y=\"381.1387\">«part»</text><text fill=\"#000000\" font-family=\"sans-serif\" font-size=\"12\" lengthAdjust=\"spacingAndGlyphs\" textLength=\"8\" x=\"75.5\" y=\"395.1074\">d</text><line style=\"stroke: #383838; stroke-width: 1.5;\" x1=\"59.5\" x2=\"99.5\" y1=\"402.9375\" y2=\"402.9375\"/></a><!--MD5=[b9389687b975829384b498ac4b7476b2]\n",
       "class E8--><a href=\"psysml:e7c3b12c-9054-4127-bd5f-a31eeffec0a6\" target=\"_top\" title=\"psysml:e7c3b12c-9054-4127-bd5f-a31eeffec0a6\" xlink:actuate=\"onRequest\" xlink:href=\"psysml:e7c3b12c-9054-4127-bd5f-a31eeffec0a6\" xlink:show=\"new\" xlink:title=\"psysml:e7c3b12c-9054-4127-bd5f-a31eeffec0a6\" xlink:type=\"simple\"><rect fill=\"#FFFFFF\" height=\"45.9375\" id=\"E8\" rx=\"10\" ry=\"10\" style=\"stroke: #383838; stroke-width: 1.5;\" width=\"42\" x=\"58.5\" y=\"446\"/><text fill=\"#000000\" font-family=\"sans-serif\" font-size=\"12\" font-style=\"italic\" lengthAdjust=\"spacingAndGlyphs\" textLength=\"40\" x=\"59.5\" y=\"462.1387\">«part»</text><text fill=\"#000000\" font-family=\"sans-serif\" font-size=\"12\" lengthAdjust=\"spacingAndGlyphs\" textLength=\"8\" x=\"75.5\" y=\"476.1074\">e</text><line style=\"stroke: #383838; stroke-width: 1.5;\" x1=\"59.5\" x2=\"99.5\" y1=\"483.9375\" y2=\"483.9375\"/></a><!--MD5=[fd4143e9d270a159db93a4ea2a975926]\n",
       "class E9--><a href=\"psysml:49b700d2-d9c4-4257-84cb-c65bfac2aa08\" target=\"_top\" title=\"psysml:49b700d2-d9c4-4257-84cb-c65bfac2aa08\" xlink:actuate=\"onRequest\" xlink:href=\"psysml:49b700d2-d9c4-4257-84cb-c65bfac2aa08\" xlink:show=\"new\" xlink:title=\"psysml:49b700d2-d9c4-4257-84cb-c65bfac2aa08\" xlink:type=\"simple\"><rect fill=\"#FFFFFF\" height=\"45.9375\" id=\"E9\" rx=\"10\" ry=\"10\" style=\"stroke: #383838; stroke-width: 1.5;\" width=\"42\" x=\"58.5\" y=\"527\"/><text fill=\"#000000\" font-family=\"sans-serif\" font-size=\"12\" font-style=\"italic\" lengthAdjust=\"spacingAndGlyphs\" textLength=\"40\" x=\"59.5\" y=\"543.1387\">«part»</text><text fill=\"#000000\" font-family=\"sans-serif\" font-size=\"12\" lengthAdjust=\"spacingAndGlyphs\" textLength=\"4\" x=\"77.5\" y=\"557.1074\">f</text><line style=\"stroke: #383838; stroke-width: 1.5;\" x1=\"59.5\" x2=\"99.5\" y1=\"564.9375\" y2=\"564.9375\"/></a><!--MD5=[96f4274e9e20536e775497830990834d]\n",
       "class E10--><a href=\"psysml:20161f3e-4930-46fe-a17d-f79ec2a77aae\" target=\"_top\" title=\"psysml:20161f3e-4930-46fe-a17d-f79ec2a77aae\" xlink:actuate=\"onRequest\" xlink:href=\"psysml:20161f3e-4930-46fe-a17d-f79ec2a77aae\" xlink:show=\"new\" xlink:title=\"psysml:20161f3e-4930-46fe-a17d-f79ec2a77aae\" xlink:type=\"simple\"><rect fill=\"#FFFFFF\" height=\"45.9375\" id=\"E10\" rx=\"10\" ry=\"10\" style=\"stroke: #383838; stroke-width: 1.5;\" width=\"42\" x=\"58.5\" y=\"608\"/><text fill=\"#000000\" font-family=\"sans-serif\" font-size=\"12\" font-style=\"italic\" lengthAdjust=\"spacingAndGlyphs\" textLength=\"40\" x=\"59.5\" y=\"624.1387\">«part»</text><text fill=\"#000000\" font-family=\"sans-serif\" font-size=\"12\" lengthAdjust=\"spacingAndGlyphs\" textLength=\"8\" x=\"75.5\" y=\"638.1074\">g</text><line style=\"stroke: #383838; stroke-width: 1.5;\" x1=\"59.5\" x2=\"99.5\" y1=\"645.9375\" y2=\"645.9375\"/></a><!--MD5=[1dd1bfd58a279cf63c5f349dbc8fc6a1]\n",
       "class E11--><a href=\"psysml:958dabfe-3a24-44d8-9bca-d5e375f56ac2\" target=\"_top\" title=\"psysml:958dabfe-3a24-44d8-9bca-d5e375f56ac2\" xlink:actuate=\"onRequest\" xlink:href=\"psysml:958dabfe-3a24-44d8-9bca-d5e375f56ac2\" xlink:show=\"new\" xlink:title=\"psysml:958dabfe-3a24-44d8-9bca-d5e375f56ac2\" xlink:type=\"simple\"><rect fill=\"#FFFFFF\" height=\"88.3516\" id=\"E11\" style=\"stroke: #383838; stroke-width: 1.5;\" width=\"95\" x=\"32\" y=\"689\"/><text fill=\"#000000\" font-family=\"sans-serif\" font-size=\"12\" font-style=\"italic\" lengthAdjust=\"spacingAndGlyphs\" textLength=\"93\" x=\"33\" y=\"705.1387\">«attribute def»</text><text fill=\"#000000\" font-family=\"sans-serif\" font-size=\"12\" lengthAdjust=\"spacingAndGlyphs\" textLength=\"8\" x=\"75.5\" y=\"719.1074\">A</text><line style=\"stroke: #383838; stroke-width: 1.5;\" x1=\"33\" x2=\"126\" y1=\"726.9375\" y2=\"726.9375\"/><text fill=\"#000000\" font-family=\"sans-serif\" font-size=\"11\" lengthAdjust=\"spacingAndGlyphs\" textLength=\"51\" x=\"38\" y=\"757.9526\">i: Integer</text><text fill=\"#000000\" font-family=\"sans-serif\" font-size=\"11\" lengthAdjust=\"spacingAndGlyphs\" textLength=\"21\" x=\"38\" y=\"770.7573\">x: A</text><line style=\"stroke: #383838; stroke-width: 1.0;\" x1=\"33\" x2=\"52\" y1=\"741.3398\" y2=\"741.3398\"/><text fill=\"#000000\" font-family=\"sans-serif\" font-size=\"11\" lengthAdjust=\"spacingAndGlyphs\" textLength=\"55\" x=\"52\" y=\"744.6479\">attributes</text><line style=\"stroke: #383838; stroke-width: 1.0;\" x1=\"107\" x2=\"126\" y1=\"741.3398\" y2=\"741.3398\"/></a><!--MD5=[15ebcb19ae302d9b601edb458606d402]\n",
       "link E5 to E2--><a href=\"psysml:a788c1ae-8502-4aea-9d8b-5a5d865c76a9\" target=\"_top\" title=\"psysml:a788c1ae-8502-4aea-9d8b-5a5d865c76a9\" xlink:actuate=\"onRequest\" xlink:href=\"psysml:a788c1ae-8502-4aea-9d8b-5a5d865c76a9\" xlink:show=\"new\" xlink:title=\"psysml:a788c1ae-8502-4aea-9d8b-5a5d865c76a9\" xlink:type=\"simple\"><path d=\"M100.64,231.96 C118.11,237.13 144.16,244.84 167.38,251.72 \" fill=\"none\" id=\"E5-&gt;E2\" style=\"stroke: #383838; stroke-width: 1.0;\"/><polygon fill=\"#FFFFFF\" points=\"186.77,257.46,166.5639,258.7688,170.5445,245.3466,186.77,257.46\" style=\"stroke: #383838; stroke-width: 1.0;\"/><ellipse cx=\"161.6678\" cy=\"255.2306\" fill=\"#383838\" rx=\"2\" ry=\"2\" style=\"stroke: #383838; stroke-width: 1.0;\"/><ellipse cx=\"164.5111\" cy=\"245.6434\" fill=\"#383838\" rx=\"2\" ry=\"2\" style=\"stroke: #383838; stroke-width: 1.0;\"/></a><!--MD5=[2351f337d6de0f557b50152ba70847b5]\n",
       "link E6 to E2--><a href=\"psysml:96c9e024-7b1d-4ba9-883a-860d4899a00e\" target=\"_top\" title=\"psysml:96c9e024-7b1d-4ba9-883a-860d4899a00e\" xlink:actuate=\"onRequest\" xlink:href=\"psysml:96c9e024-7b1d-4ba9-883a-860d4899a00e\" xlink:show=\"new\" xlink:title=\"psysml:96c9e024-7b1d-4ba9-883a-860d4899a00e\" xlink:type=\"simple\"><path d=\"M100.64,301.18 C118.11,296.14 144.16,288.61 167.38,281.91 \" fill=\"none\" id=\"E6-&gt;E2\" style=\"stroke: #383838; stroke-width: 1.0;\"/><polygon fill=\"#FFFFFF\" points=\"186.77,276.31,170.4629,288.3132,166.5732,274.8644,186.77,276.31\" style=\"stroke: #383838; stroke-width: 1.0;\"/><ellipse cx=\"164.4316\" cy=\"287.9756\" fill=\"#383838\" rx=\"2\" ry=\"2\" style=\"stroke: #383838; stroke-width: 1.0;\"/><ellipse cx=\"161.6533\" cy=\"278.3693\" fill=\"#383838\" rx=\"2\" ry=\"2\" style=\"stroke: #383838; stroke-width: 1.0;\"/></a><!--MD5=[1f2102d75e29014f107c9bb5b766c08b]\n",
       "@startuml\r\n",
       "left to right direction\r\n",
       "skinparam monochrome true\r\n",
       "skinparam classbackgroundcolor white\r\n",
       "skinparam shadowing false\r\n",
       "skinparam wrapWidth 300\r\n",
       "hide circle\r\n",
       "\r\n",
       "package \"MultiplicityTest\" as E1  [[psysml:04657276-263c-446b-8b63-b81fdc3bdb65 ]]  {\r\n",
       "comp def \"P\" as E2  <<(T,blue) part def>> [[psysml:68eb8761-ff46-4523-ba58-41a062b6cb94 ]] {\r\n",
       "}\r\n",
       "comp usage \"n: Integer\" as E3  <<(T,blue) attribute>> [[psysml:c2c67205-2617-478d-9839-9411bc2f8511 ]] {\r\n",
       "}\r\n",
       "comp usage \"a\" as E4  <<(T,blue) part>> [[psysml:fbb3215b-67d9-4514-b40f-6d8c33165593 ]] {\r\n",
       "}\r\n",
       "comp usage \"b: P\" as E5  <<(T,blue) part>> [[psysml:d1ff5ca6-7417-4682-b046-127881647fcb ]] {\r\n",
       "}\r\n",
       "comp usage \"c: P\" as E6  <<(T,blue) part>> [[psysml:20d627d7-8daa-4ea4-8c0c-0e67ee5e3616 ]] {\r\n",
       "}\r\n",
       "comp usage \"d\" as E7  <<(T,blue) part>> [[psysml:4fc87a01-ac01-48e0-9821-1b5b80a637f1 ]] {\r\n",
       "}\r\n",
       "comp usage \"e\" as E8  <<(T,blue) part>> [[psysml:e7c3b12c-9054-4127-bd5f-a31eeffec0a6 ]] {\r\n",
       "}\r\n",
       "comp usage \"f\" as E9  <<(T,blue) part>> [[psysml:49b700d2-d9c4-4257-84cb-c65bfac2aa08 ]] {\r\n",
       "}\r\n",
       "comp usage \"g\" as E10  <<(T,blue) part>> [[psysml:20161f3e-4930-46fe-a17d-f79ec2a77aae ]] {\r\n",
       "}\r\n",
       "comp def \"A\" as E11  <<(T,blue) attribute def>> [[psysml:958dabfe-3a24-44d8-9bca-d5e375f56ac2 ]] {\r\n",
       "- - attributes - -\r\n",
       "i: Integer\r\n",
       "x: A\r\n",
       "}\r\n",
       "E5 - -:|> E2 [[psysml:a788c1ae-8502-4aea-9d8b-5a5d865c76a9 ]] \r\n",
       "E6 - -:|> E2 [[psysml:96c9e024-7b1d-4ba9-883a-860d4899a00e ]] \r\n",
       "}\r\n",
       "@enduml\r\n",
       "\n",
       "PlantUML version 1.2020.13(Sat Jun 13 12:26:38 UTC 2020)\n",
       "(EPL source distribution)\n",
       "Java Runtime: OpenJDK Runtime Environment\n",
       "JVM: OpenJDK 64-Bit Server VM\n",
       "Default Encoding: UTF-8\n",
       "Language: en\n",
       "Country: null\n",
       "--></g></svg>"
      ]
     },
     "execution_count": 16,
     "metadata": {},
     "output_type": "execute_result"
    }
   ],
   "source": [
    "%viz --style=\"LR\" --view=\"Default\" \"MultiplicityTest\""
   ]
  },
  {
   "cell_type": "code",
   "execution_count": 17,
   "id": "5bdf1960",
   "metadata": {
    "execution": {
     "iopub.execute_input": "2021-08-04T06:29:50.645726Z",
     "iopub.status.busy": "2021-08-04T06:29:50.645144Z",
     "iopub.status.idle": "2021-08-04T06:29:50.685231Z",
     "shell.execute_reply": "2021-08-04T06:29:50.684431Z"
    }
   },
   "outputs": [
    {
     "data": {
      "image/svg+xml": [
       "<?xml version=\"1.0\" encoding=\"UTF-8\" standalone=\"no\"?><svg xmlns=\"http://www.w3.org/2000/svg\" xmlns:xlink=\"http://www.w3.org/1999/xlink\" contentScriptType=\"application/ecmascript\" contentStyleType=\"text/css\" height=\"805px\" preserveAspectRatio=\"none\" style=\"width:291px;height:805px;\" version=\"1.1\" viewBox=\"0 0 291 805\" width=\"291px\" zoomAndPan=\"magnify\"><defs/><g><!--MD5=[fbc87193dbaf4d95561dea2c320d4a47]\n",
       "cluster E1--><a href=\"psysml:04657276-263c-446b-8b63-b81fdc3bdb65\" target=\"_top\" title=\"psysml:04657276-263c-446b-8b63-b81fdc3bdb65\" xlink:actuate=\"onRequest\" xlink:href=\"psysml:04657276-263c-446b-8b63-b81fdc3bdb65\" xlink:show=\"new\" xlink:title=\"psysml:04657276-263c-446b-8b63-b81fdc3bdb65\" xlink:type=\"simple\"><polygon fill=\"#FFFFFF\" points=\"16,6,140,6,147,28.2969,269,28.2969,269,793,16,793,16,6\" style=\"stroke: #000000; stroke-width: 1.5;\"/><line style=\"stroke: #000000; stroke-width: 1.5;\" x1=\"16\" x2=\"147\" y1=\"28.2969\" y2=\"28.2969\"/><text fill=\"#000000\" font-family=\"sans-serif\" font-size=\"14\" font-weight=\"bold\" lengthAdjust=\"spacingAndGlyphs\" textLength=\"118\" x=\"20\" y=\"20.9951\">MultiplicityTest</text></a><!--MD5=[b4997ac47864f28c2f74865a473b2911]\n",
       "class E2--><a href=\"psysml:68eb8761-ff46-4523-ba58-41a062b6cb94\" target=\"_top\" title=\"psysml:68eb8761-ff46-4523-ba58-41a062b6cb94\" xlink:actuate=\"onRequest\" xlink:href=\"psysml:68eb8761-ff46-4523-ba58-41a062b6cb94\" xlink:show=\"new\" xlink:title=\"psysml:68eb8761-ff46-4523-ba58-41a062b6cb94\" xlink:type=\"simple\"><rect fill=\"#FFFFFF\" height=\"45.9375\" id=\"E2\" style=\"stroke: #383838; stroke-width: 1.5;\" width=\"66\" x=\"187\" y=\"244\"/><text fill=\"#000000\" font-family=\"sans-serif\" font-size=\"12\" font-style=\"italic\" lengthAdjust=\"spacingAndGlyphs\" textLength=\"64\" x=\"188\" y=\"260.1387\">«part def»</text><text fill=\"#000000\" font-family=\"sans-serif\" font-size=\"12\" lengthAdjust=\"spacingAndGlyphs\" textLength=\"8\" x=\"216\" y=\"274.1074\">P</text><line style=\"stroke: #383838; stroke-width: 1.5;\" x1=\"188\" x2=\"252\" y1=\"281.9375\" y2=\"281.9375\"/></a><!--MD5=[09b614a08d8cba4a07c9adeb5e0fee81]\n",
       "class E3--><a href=\"psysml:c2c67205-2617-478d-9839-9411bc2f8511\" target=\"_top\" title=\"psysml:c2c67205-2617-478d-9839-9411bc2f8511\" xlink:actuate=\"onRequest\" xlink:href=\"psysml:c2c67205-2617-478d-9839-9411bc2f8511\" xlink:show=\"new\" xlink:title=\"psysml:c2c67205-2617-478d-9839-9411bc2f8511\" xlink:type=\"simple\"><rect fill=\"#FFFFFF\" height=\"45.9375\" id=\"E3\" rx=\"10\" ry=\"10\" style=\"stroke: #383838; stroke-width: 1.5;\" width=\"71\" x=\"44\" y=\"41\"/><text fill=\"#000000\" font-family=\"sans-serif\" font-size=\"12\" font-style=\"italic\" lengthAdjust=\"spacingAndGlyphs\" textLength=\"69\" x=\"45\" y=\"57.1387\">«attribute»</text><text fill=\"#000000\" font-family=\"sans-serif\" font-size=\"12\" lengthAdjust=\"spacingAndGlyphs\" textLength=\"61\" x=\"49\" y=\"71.1074\">n: Integer</text><line style=\"stroke: #383838; stroke-width: 1.5;\" x1=\"45\" x2=\"114\" y1=\"78.9375\" y2=\"78.9375\"/></a><!--MD5=[ebbe1d658d1005bcc118a6aa81145e00]\n",
       "class E4--><a href=\"psysml:fbb3215b-67d9-4514-b40f-6d8c33165593\" target=\"_top\" title=\"psysml:fbb3215b-67d9-4514-b40f-6d8c33165593\" xlink:actuate=\"onRequest\" xlink:href=\"psysml:fbb3215b-67d9-4514-b40f-6d8c33165593\" xlink:show=\"new\" xlink:title=\"psysml:fbb3215b-67d9-4514-b40f-6d8c33165593\" xlink:type=\"simple\"><rect fill=\"#FFFFFF\" height=\"45.9375\" id=\"E4\" rx=\"10\" ry=\"10\" style=\"stroke: #383838; stroke-width: 1.5;\" width=\"42\" x=\"58.5\" y=\"122\"/><text fill=\"#000000\" font-family=\"sans-serif\" font-size=\"12\" font-style=\"italic\" lengthAdjust=\"spacingAndGlyphs\" textLength=\"40\" x=\"59.5\" y=\"138.1387\">«part»</text><text fill=\"#000000\" font-family=\"sans-serif\" font-size=\"12\" lengthAdjust=\"spacingAndGlyphs\" textLength=\"8\" x=\"75.5\" y=\"152.1074\">a</text><line style=\"stroke: #383838; stroke-width: 1.5;\" x1=\"59.5\" x2=\"99.5\" y1=\"159.9375\" y2=\"159.9375\"/></a><!--MD5=[270fce915f116d4de14055a7c1d9a0f3]\n",
       "class E5--><a href=\"psysml:d1ff5ca6-7417-4682-b046-127881647fcb\" target=\"_top\" title=\"psysml:d1ff5ca6-7417-4682-b046-127881647fcb\" xlink:actuate=\"onRequest\" xlink:href=\"psysml:d1ff5ca6-7417-4682-b046-127881647fcb\" xlink:show=\"new\" xlink:title=\"psysml:d1ff5ca6-7417-4682-b046-127881647fcb\" xlink:type=\"simple\"><rect fill=\"#FFFFFF\" height=\"45.9375\" id=\"E5\" rx=\"10\" ry=\"10\" style=\"stroke: #383838; stroke-width: 1.5;\" width=\"42\" x=\"58.5\" y=\"203\"/><text fill=\"#000000\" font-family=\"sans-serif\" font-size=\"12\" font-style=\"italic\" lengthAdjust=\"spacingAndGlyphs\" textLength=\"40\" x=\"59.5\" y=\"219.1387\">«part»</text><text fill=\"#000000\" font-family=\"sans-serif\" font-size=\"12\" lengthAdjust=\"spacingAndGlyphs\" textLength=\"24\" x=\"67.5\" y=\"233.1074\">b: P</text><line style=\"stroke: #383838; stroke-width: 1.5;\" x1=\"59.5\" x2=\"99.5\" y1=\"240.9375\" y2=\"240.9375\"/></a><!--MD5=[60a26617385b1d2d0262a64233df1f8d]\n",
       "class E6--><a href=\"psysml:20d627d7-8daa-4ea4-8c0c-0e67ee5e3616\" target=\"_top\" title=\"psysml:20d627d7-8daa-4ea4-8c0c-0e67ee5e3616\" xlink:actuate=\"onRequest\" xlink:href=\"psysml:20d627d7-8daa-4ea4-8c0c-0e67ee5e3616\" xlink:show=\"new\" xlink:title=\"psysml:20d627d7-8daa-4ea4-8c0c-0e67ee5e3616\" xlink:type=\"simple\"><rect fill=\"#FFFFFF\" height=\"45.9375\" id=\"E6\" rx=\"10\" ry=\"10\" style=\"stroke: #383838; stroke-width: 1.5;\" width=\"42\" x=\"58.5\" y=\"284\"/><text fill=\"#000000\" font-family=\"sans-serif\" font-size=\"12\" font-style=\"italic\" lengthAdjust=\"spacingAndGlyphs\" textLength=\"40\" x=\"59.5\" y=\"300.1387\">«part»</text><text fill=\"#000000\" font-family=\"sans-serif\" font-size=\"12\" lengthAdjust=\"spacingAndGlyphs\" textLength=\"23\" x=\"68\" y=\"314.1074\">c: P</text><line style=\"stroke: #383838; stroke-width: 1.5;\" x1=\"59.5\" x2=\"99.5\" y1=\"321.9375\" y2=\"321.9375\"/></a><!--MD5=[2156ba9850f5573cc1fc38a6a4b2f02b]\n",
       "class E7--><a href=\"psysml:4fc87a01-ac01-48e0-9821-1b5b80a637f1\" target=\"_top\" title=\"psysml:4fc87a01-ac01-48e0-9821-1b5b80a637f1\" xlink:actuate=\"onRequest\" xlink:href=\"psysml:4fc87a01-ac01-48e0-9821-1b5b80a637f1\" xlink:show=\"new\" xlink:title=\"psysml:4fc87a01-ac01-48e0-9821-1b5b80a637f1\" xlink:type=\"simple\"><rect fill=\"#FFFFFF\" height=\"45.9375\" id=\"E7\" rx=\"10\" ry=\"10\" style=\"stroke: #383838; stroke-width: 1.5;\" width=\"42\" x=\"58.5\" y=\"365\"/><text fill=\"#000000\" font-family=\"sans-serif\" font-size=\"12\" font-style=\"italic\" lengthAdjust=\"spacingAndGlyphs\" textLength=\"40\" x=\"59.5\" y=\"381.1387\">«part»</text><text fill=\"#000000\" font-family=\"sans-serif\" font-size=\"12\" lengthAdjust=\"spacingAndGlyphs\" textLength=\"8\" x=\"75.5\" y=\"395.1074\">d</text><line style=\"stroke: #383838; stroke-width: 1.5;\" x1=\"59.5\" x2=\"99.5\" y1=\"402.9375\" y2=\"402.9375\"/></a><!--MD5=[b9389687b975829384b498ac4b7476b2]\n",
       "class E8--><a href=\"psysml:e7c3b12c-9054-4127-bd5f-a31eeffec0a6\" target=\"_top\" title=\"psysml:e7c3b12c-9054-4127-bd5f-a31eeffec0a6\" xlink:actuate=\"onRequest\" xlink:href=\"psysml:e7c3b12c-9054-4127-bd5f-a31eeffec0a6\" xlink:show=\"new\" xlink:title=\"psysml:e7c3b12c-9054-4127-bd5f-a31eeffec0a6\" xlink:type=\"simple\"><rect fill=\"#FFFFFF\" height=\"45.9375\" id=\"E8\" rx=\"10\" ry=\"10\" style=\"stroke: #383838; stroke-width: 1.5;\" width=\"42\" x=\"58.5\" y=\"446\"/><text fill=\"#000000\" font-family=\"sans-serif\" font-size=\"12\" font-style=\"italic\" lengthAdjust=\"spacingAndGlyphs\" textLength=\"40\" x=\"59.5\" y=\"462.1387\">«part»</text><text fill=\"#000000\" font-family=\"sans-serif\" font-size=\"12\" lengthAdjust=\"spacingAndGlyphs\" textLength=\"8\" x=\"75.5\" y=\"476.1074\">e</text><line style=\"stroke: #383838; stroke-width: 1.5;\" x1=\"59.5\" x2=\"99.5\" y1=\"483.9375\" y2=\"483.9375\"/></a><!--MD5=[fd4143e9d270a159db93a4ea2a975926]\n",
       "class E9--><a href=\"psysml:49b700d2-d9c4-4257-84cb-c65bfac2aa08\" target=\"_top\" title=\"psysml:49b700d2-d9c4-4257-84cb-c65bfac2aa08\" xlink:actuate=\"onRequest\" xlink:href=\"psysml:49b700d2-d9c4-4257-84cb-c65bfac2aa08\" xlink:show=\"new\" xlink:title=\"psysml:49b700d2-d9c4-4257-84cb-c65bfac2aa08\" xlink:type=\"simple\"><rect fill=\"#FFFFFF\" height=\"45.9375\" id=\"E9\" rx=\"10\" ry=\"10\" style=\"stroke: #383838; stroke-width: 1.5;\" width=\"42\" x=\"58.5\" y=\"527\"/><text fill=\"#000000\" font-family=\"sans-serif\" font-size=\"12\" font-style=\"italic\" lengthAdjust=\"spacingAndGlyphs\" textLength=\"40\" x=\"59.5\" y=\"543.1387\">«part»</text><text fill=\"#000000\" font-family=\"sans-serif\" font-size=\"12\" lengthAdjust=\"spacingAndGlyphs\" textLength=\"4\" x=\"77.5\" y=\"557.1074\">f</text><line style=\"stroke: #383838; stroke-width: 1.5;\" x1=\"59.5\" x2=\"99.5\" y1=\"564.9375\" y2=\"564.9375\"/></a><!--MD5=[96f4274e9e20536e775497830990834d]\n",
       "class E10--><a href=\"psysml:20161f3e-4930-46fe-a17d-f79ec2a77aae\" target=\"_top\" title=\"psysml:20161f3e-4930-46fe-a17d-f79ec2a77aae\" xlink:actuate=\"onRequest\" xlink:href=\"psysml:20161f3e-4930-46fe-a17d-f79ec2a77aae\" xlink:show=\"new\" xlink:title=\"psysml:20161f3e-4930-46fe-a17d-f79ec2a77aae\" xlink:type=\"simple\"><rect fill=\"#FFFFFF\" height=\"45.9375\" id=\"E10\" rx=\"10\" ry=\"10\" style=\"stroke: #383838; stroke-width: 1.5;\" width=\"42\" x=\"58.5\" y=\"608\"/><text fill=\"#000000\" font-family=\"sans-serif\" font-size=\"12\" font-style=\"italic\" lengthAdjust=\"spacingAndGlyphs\" textLength=\"40\" x=\"59.5\" y=\"624.1387\">«part»</text><text fill=\"#000000\" font-family=\"sans-serif\" font-size=\"12\" lengthAdjust=\"spacingAndGlyphs\" textLength=\"8\" x=\"75.5\" y=\"638.1074\">g</text><line style=\"stroke: #383838; stroke-width: 1.5;\" x1=\"59.5\" x2=\"99.5\" y1=\"645.9375\" y2=\"645.9375\"/></a><!--MD5=[1dd1bfd58a279cf63c5f349dbc8fc6a1]\n",
       "class E11--><a href=\"psysml:958dabfe-3a24-44d8-9bca-d5e375f56ac2\" target=\"_top\" title=\"psysml:958dabfe-3a24-44d8-9bca-d5e375f56ac2\" xlink:actuate=\"onRequest\" xlink:href=\"psysml:958dabfe-3a24-44d8-9bca-d5e375f56ac2\" xlink:show=\"new\" xlink:title=\"psysml:958dabfe-3a24-44d8-9bca-d5e375f56ac2\" xlink:type=\"simple\"><rect fill=\"#FFFFFF\" height=\"88.3516\" id=\"E11\" style=\"stroke: #383838; stroke-width: 1.5;\" width=\"95\" x=\"32\" y=\"689\"/><text fill=\"#000000\" font-family=\"sans-serif\" font-size=\"12\" font-style=\"italic\" lengthAdjust=\"spacingAndGlyphs\" textLength=\"93\" x=\"33\" y=\"705.1387\">«attribute def»</text><text fill=\"#000000\" font-family=\"sans-serif\" font-size=\"12\" lengthAdjust=\"spacingAndGlyphs\" textLength=\"8\" x=\"75.5\" y=\"719.1074\">A</text><line style=\"stroke: #383838; stroke-width: 1.5;\" x1=\"33\" x2=\"126\" y1=\"726.9375\" y2=\"726.9375\"/><text fill=\"#000000\" font-family=\"sans-serif\" font-size=\"11\" lengthAdjust=\"spacingAndGlyphs\" textLength=\"51\" x=\"38\" y=\"757.9526\">i: Integer</text><text fill=\"#000000\" font-family=\"sans-serif\" font-size=\"11\" lengthAdjust=\"spacingAndGlyphs\" textLength=\"21\" x=\"38\" y=\"770.7573\">x: A</text><line style=\"stroke: #383838; stroke-width: 1.0;\" x1=\"33\" x2=\"52\" y1=\"741.3398\" y2=\"741.3398\"/><text fill=\"#000000\" font-family=\"sans-serif\" font-size=\"11\" lengthAdjust=\"spacingAndGlyphs\" textLength=\"55\" x=\"52\" y=\"744.6479\">attributes</text><line style=\"stroke: #383838; stroke-width: 1.0;\" x1=\"107\" x2=\"126\" y1=\"741.3398\" y2=\"741.3398\"/></a><!--MD5=[15ebcb19ae302d9b601edb458606d402]\n",
       "link E5 to E2--><a href=\"psysml:a788c1ae-8502-4aea-9d8b-5a5d865c76a9\" target=\"_top\" title=\"psysml:a788c1ae-8502-4aea-9d8b-5a5d865c76a9\" xlink:actuate=\"onRequest\" xlink:href=\"psysml:a788c1ae-8502-4aea-9d8b-5a5d865c76a9\" xlink:show=\"new\" xlink:title=\"psysml:a788c1ae-8502-4aea-9d8b-5a5d865c76a9\" xlink:type=\"simple\"><path d=\"M100.64,231.96 C118.11,237.13 144.16,244.84 167.38,251.72 \" fill=\"none\" id=\"E5-&gt;E2\" style=\"stroke: #383838; stroke-width: 1.0;\"/><polygon fill=\"#FFFFFF\" points=\"186.77,257.46,166.5639,258.7688,170.5445,245.3466,186.77,257.46\" style=\"stroke: #383838; stroke-width: 1.0;\"/><ellipse cx=\"161.6678\" cy=\"255.2306\" fill=\"#383838\" rx=\"2\" ry=\"2\" style=\"stroke: #383838; stroke-width: 1.0;\"/><ellipse cx=\"164.5111\" cy=\"245.6434\" fill=\"#383838\" rx=\"2\" ry=\"2\" style=\"stroke: #383838; stroke-width: 1.0;\"/></a><!--MD5=[2351f337d6de0f557b50152ba70847b5]\n",
       "link E6 to E2--><a href=\"psysml:96c9e024-7b1d-4ba9-883a-860d4899a00e\" target=\"_top\" title=\"psysml:96c9e024-7b1d-4ba9-883a-860d4899a00e\" xlink:actuate=\"onRequest\" xlink:href=\"psysml:96c9e024-7b1d-4ba9-883a-860d4899a00e\" xlink:show=\"new\" xlink:title=\"psysml:96c9e024-7b1d-4ba9-883a-860d4899a00e\" xlink:type=\"simple\"><path d=\"M100.64,301.18 C118.11,296.14 144.16,288.61 167.38,281.91 \" fill=\"none\" id=\"E6-&gt;E2\" style=\"stroke: #383838; stroke-width: 1.0;\"/><polygon fill=\"#FFFFFF\" points=\"186.77,276.31,170.4629,288.3132,166.5732,274.8644,186.77,276.31\" style=\"stroke: #383838; stroke-width: 1.0;\"/><ellipse cx=\"164.4316\" cy=\"287.9756\" fill=\"#383838\" rx=\"2\" ry=\"2\" style=\"stroke: #383838; stroke-width: 1.0;\"/><ellipse cx=\"161.6533\" cy=\"278.3693\" fill=\"#383838\" rx=\"2\" ry=\"2\" style=\"stroke: #383838; stroke-width: 1.0;\"/></a><!--MD5=[1f2102d75e29014f107c9bb5b766c08b]\n",
       "@startuml\r\n",
       "left to right direction\r\n",
       "skinparam monochrome true\r\n",
       "skinparam classbackgroundcolor white\r\n",
       "skinparam shadowing false\r\n",
       "skinparam wrapWidth 300\r\n",
       "hide circle\r\n",
       "\r\n",
       "package \"MultiplicityTest\" as E1  [[psysml:04657276-263c-446b-8b63-b81fdc3bdb65 ]]  {\r\n",
       "comp def \"P\" as E2  <<(T,blue) part def>> [[psysml:68eb8761-ff46-4523-ba58-41a062b6cb94 ]] {\r\n",
       "}\r\n",
       "comp usage \"n: Integer\" as E3  <<(T,blue) attribute>> [[psysml:c2c67205-2617-478d-9839-9411bc2f8511 ]] {\r\n",
       "}\r\n",
       "comp usage \"a\" as E4  <<(T,blue) part>> [[psysml:fbb3215b-67d9-4514-b40f-6d8c33165593 ]] {\r\n",
       "}\r\n",
       "comp usage \"b: P\" as E5  <<(T,blue) part>> [[psysml:d1ff5ca6-7417-4682-b046-127881647fcb ]] {\r\n",
       "}\r\n",
       "comp usage \"c: P\" as E6  <<(T,blue) part>> [[psysml:20d627d7-8daa-4ea4-8c0c-0e67ee5e3616 ]] {\r\n",
       "}\r\n",
       "comp usage \"d\" as E7  <<(T,blue) part>> [[psysml:4fc87a01-ac01-48e0-9821-1b5b80a637f1 ]] {\r\n",
       "}\r\n",
       "comp usage \"e\" as E8  <<(T,blue) part>> [[psysml:e7c3b12c-9054-4127-bd5f-a31eeffec0a6 ]] {\r\n",
       "}\r\n",
       "comp usage \"f\" as E9  <<(T,blue) part>> [[psysml:49b700d2-d9c4-4257-84cb-c65bfac2aa08 ]] {\r\n",
       "}\r\n",
       "comp usage \"g\" as E10  <<(T,blue) part>> [[psysml:20161f3e-4930-46fe-a17d-f79ec2a77aae ]] {\r\n",
       "}\r\n",
       "comp def \"A\" as E11  <<(T,blue) attribute def>> [[psysml:958dabfe-3a24-44d8-9bca-d5e375f56ac2 ]] {\r\n",
       "- - attributes - -\r\n",
       "i: Integer\r\n",
       "x: A\r\n",
       "}\r\n",
       "E5 - -:|> E2 [[psysml:a788c1ae-8502-4aea-9d8b-5a5d865c76a9 ]] \r\n",
       "E6 - -:|> E2 [[psysml:96c9e024-7b1d-4ba9-883a-860d4899a00e ]] \r\n",
       "}\r\n",
       "@enduml\r\n",
       "\n",
       "PlantUML version 1.2020.13(Sat Jun 13 12:26:38 UTC 2020)\n",
       "(EPL source distribution)\n",
       "Java Runtime: OpenJDK Runtime Environment\n",
       "JVM: OpenJDK 64-Bit Server VM\n",
       "Default Encoding: UTF-8\n",
       "Language: en\n",
       "Country: null\n",
       "--></g></svg>"
      ]
     },
     "execution_count": 17,
     "metadata": {},
     "output_type": "execute_result"
    }
   ],
   "source": [
    "%viz --style=\"LR\" --view=\"Tree\" \"MultiplicityTest\""
   ]
  },
  {
   "cell_type": "code",
   "execution_count": 18,
   "id": "60ea023c",
   "metadata": {
    "execution": {
     "iopub.execute_input": "2021-08-04T06:29:50.738187Z",
     "iopub.status.busy": "2021-08-04T06:29:50.735230Z",
     "iopub.status.idle": "2021-08-04T06:29:50.740680Z",
     "shell.execute_reply": "2021-08-04T06:29:50.740962Z"
    }
   },
   "outputs": [
    {
     "data": {
      "image/svg+xml": [
       "<?xml version=\"1.0\" encoding=\"UTF-8\" standalone=\"no\"?><svg xmlns=\"http://www.w3.org/2000/svg\" xmlns:xlink=\"http://www.w3.org/1999/xlink\" contentScriptType=\"application/ecmascript\" contentStyleType=\"text/css\" height=\"12px\" preserveAspectRatio=\"none\" style=\"width:12px;height:12px;\" version=\"1.1\" viewBox=\"0 0 12 12\" width=\"12px\" zoomAndPan=\"magnify\"><defs/><g><!--MD5=[19d285c9d72a204eba4e2cd117d745e8]\n",
       "@startuml\r\n",
       "left to right direction\r\n",
       "skinparam monochrome true\r\n",
       "skinparam classbackgroundcolor white\r\n",
       "skinparam shadowing false\r\n",
       "skinparam wrapWidth 300\r\n",
       "hide circle\r\n",
       "\r\n",
       "@enduml\r\n",
       "\n",
       "PlantUML version 1.2020.13(Sat Jun 13 12:26:38 UTC 2020)\n",
       "(EPL source distribution)\n",
       "Java Runtime: OpenJDK Runtime Environment\n",
       "JVM: OpenJDK 64-Bit Server VM\n",
       "Default Encoding: UTF-8\n",
       "Language: en\n",
       "Country: null\n",
       "--></g></svg>"
      ]
     },
     "execution_count": 18,
     "metadata": {},
     "output_type": "execute_result"
    }
   ],
   "source": [
    "%viz --style=\"LR\" --view=\"State\" \"MultiplicityTest\""
   ]
  },
  {
   "cell_type": "code",
   "execution_count": 19,
   "id": "d8e81f86",
   "metadata": {
    "execution": {
     "iopub.execute_input": "2021-08-04T06:29:50.792153Z",
     "iopub.status.busy": "2021-08-04T06:29:50.791501Z",
     "iopub.status.idle": "2021-08-04T06:29:50.821945Z",
     "shell.execute_reply": "2021-08-04T06:29:50.821542Z"
    }
   },
   "outputs": [
    {
     "data": {
      "image/svg+xml": [
       "<?xml version=\"1.0\" encoding=\"UTF-8\" standalone=\"no\"?><svg xmlns=\"http://www.w3.org/2000/svg\" xmlns:xlink=\"http://www.w3.org/1999/xlink\" contentScriptType=\"application/ecmascript\" contentStyleType=\"text/css\" height=\"797px\" preserveAspectRatio=\"none\" style=\"width:172px;height:797px;\" version=\"1.1\" viewBox=\"0 0 172 797\" width=\"172px\" zoomAndPan=\"magnify\"><defs/><g><!--MD5=[fbc87193dbaf4d95561dea2c320d4a47]\n",
       "cluster E1--><a href=\"psysml:04657276-263c-446b-8b63-b81fdc3bdb65\" target=\"_top\" title=\"psysml:04657276-263c-446b-8b63-b81fdc3bdb65\" xlink:actuate=\"onRequest\" xlink:href=\"psysml:04657276-263c-446b-8b63-b81fdc3bdb65\" xlink:show=\"new\" xlink:title=\"psysml:04657276-263c-446b-8b63-b81fdc3bdb65\" xlink:type=\"simple\"><polygon fill=\"#FFFFFF\" points=\"16,6,140,6,147,28.2969,150,28.2969,150,785,16,785,16,6\" style=\"stroke: #000000; stroke-width: 1.5;\"/><line style=\"stroke: #000000; stroke-width: 1.5;\" x1=\"16\" x2=\"147\" y1=\"28.2969\" y2=\"28.2969\"/><text fill=\"#000000\" font-family=\"sans-serif\" font-size=\"14\" font-weight=\"bold\" lengthAdjust=\"spacingAndGlyphs\" textLength=\"118\" x=\"20\" y=\"20.9951\">MultiplicityTest</text></a><!--MD5=[09b614a08d8cba4a07c9adeb5e0fee81]\n",
       "class E3--><a href=\"psysml:c2c67205-2617-478d-9839-9411bc2f8511\" target=\"_top\" title=\"psysml:c2c67205-2617-478d-9839-9411bc2f8511\" xlink:actuate=\"onRequest\" xlink:href=\"psysml:c2c67205-2617-478d-9839-9411bc2f8511\" xlink:show=\"new\" xlink:title=\"psysml:c2c67205-2617-478d-9839-9411bc2f8511\" xlink:type=\"simple\"><rect fill=\"#FFFFFF\" height=\"45.9375\" id=\"E3\" rx=\"10\" ry=\"10\" style=\"stroke: #383838; stroke-width: 1.5;\" width=\"71\" x=\"47.5\" y=\"41\"/><text fill=\"#000000\" font-family=\"sans-serif\" font-size=\"12\" font-style=\"italic\" lengthAdjust=\"spacingAndGlyphs\" textLength=\"69\" x=\"48.5\" y=\"57.1387\">«attribute»</text><text fill=\"#000000\" font-family=\"sans-serif\" font-size=\"12\" lengthAdjust=\"spacingAndGlyphs\" textLength=\"61\" x=\"52.5\" y=\"71.1074\">n: Integer</text><line style=\"stroke: #383838; stroke-width: 1.5;\" x1=\"48.5\" x2=\"117.5\" y1=\"78.9375\" y2=\"78.9375\"/></a><g id=\"E1.E11\"><a href=\"psysml:958dabfe-3a24-44d8-9bca-d5e375f56ac2\" target=\"_top\" title=\"psysml:958dabfe-3a24-44d8-9bca-d5e375f56ac2\" xlink:actuate=\"onRequest\" xlink:href=\"psysml:958dabfe-3a24-44d8-9bca-d5e375f56ac2\" xlink:show=\"new\" xlink:title=\"psysml:958dabfe-3a24-44d8-9bca-d5e375f56ac2\" xlink:type=\"simple\"><rect fill=\"#FFFFFF\" height=\"42.9375\" id=\"E11\" style=\"stroke: #383838; stroke-width: 1.5;\" width=\"100\" x=\"33\" y=\"122.5\"/><rect fill=\"#F8F8F8\" height=\"37.9375\" style=\"stroke: #383838; stroke-width: 1.5;\" width=\"100\" x=\"33\" y=\"122.5\"/><text fill=\"#000000\" font-family=\"sans-serif\" font-size=\"12\" font-style=\"italic\" lengthAdjust=\"spacingAndGlyphs\" textLength=\"93\" x=\"36.5\" y=\"138.6387\">«attribute def»</text><text fill=\"#000000\" font-family=\"sans-serif\" font-size=\"12\" lengthAdjust=\"spacingAndGlyphs\" textLength=\"8\" x=\"79\" y=\"152.6074\">A</text></a></g><g id=\"E1.E2\"><a href=\"psysml:68eb8761-ff46-4523-ba58-41a062b6cb94\" target=\"_top\" title=\"psysml:68eb8761-ff46-4523-ba58-41a062b6cb94\" xlink:actuate=\"onRequest\" xlink:href=\"psysml:68eb8761-ff46-4523-ba58-41a062b6cb94\" xlink:show=\"new\" xlink:title=\"psysml:68eb8761-ff46-4523-ba58-41a062b6cb94\" xlink:type=\"simple\"><rect fill=\"#FFFFFF\" height=\"42.9375\" id=\"E2\" style=\"stroke: #383838; stroke-width: 1.5;\" width=\"71\" x=\"47.5\" y=\"200.5\"/><rect fill=\"#F8F8F8\" height=\"37.9375\" style=\"stroke: #383838; stroke-width: 1.5;\" width=\"71\" x=\"47.5\" y=\"200.5\"/><text fill=\"#000000\" font-family=\"sans-serif\" font-size=\"12\" font-style=\"italic\" lengthAdjust=\"spacingAndGlyphs\" textLength=\"64\" x=\"51\" y=\"216.6387\">«part def»</text><text fill=\"#000000\" font-family=\"sans-serif\" font-size=\"12\" lengthAdjust=\"spacingAndGlyphs\" textLength=\"8\" x=\"79\" y=\"230.6074\">P</text></a></g><g id=\"E1.E4\"><a href=\"psysml:fbb3215b-67d9-4514-b40f-6d8c33165593\" target=\"_top\" title=\"psysml:fbb3215b-67d9-4514-b40f-6d8c33165593\" xlink:actuate=\"onRequest\" xlink:href=\"psysml:fbb3215b-67d9-4514-b40f-6d8c33165593\" xlink:show=\"new\" xlink:title=\"psysml:fbb3215b-67d9-4514-b40f-6d8c33165593\" xlink:type=\"simple\"><rect fill=\"#FFFFFF\" height=\"40\" id=\"E4\" rx=\"10\" ry=\"10\" style=\"stroke: #383838; stroke-width: 1.5;\" width=\"50\" x=\"58\" y=\"279\"/><rect fill=\"#F8F8F8\" height=\"23.9688\" rx=\"10\" ry=\"10\" style=\"stroke: #F8F8F8; stroke-width: 1.5;\" width=\"50\" x=\"58\" y=\"279\"/><rect fill=\"#F8F8F8\" height=\"10\" style=\"stroke: #F8F8F8; stroke-width: 1.5;\" width=\"50\" x=\"58\" y=\"292.9688\"/><rect fill=\"none\" height=\"40\" id=\"E4\" rx=\"10\" ry=\"10\" style=\"stroke: #383838; stroke-width: 1.5;\" width=\"50\" x=\"58\" y=\"279\"/><text fill=\"#000000\" font-family=\"sans-serif\" font-size=\"12\" lengthAdjust=\"spacingAndGlyphs\" textLength=\"8\" x=\"79\" y=\"295.1387\">a</text></a></g><g id=\"E1.E5\"><a href=\"psysml:d1ff5ca6-7417-4682-b046-127881647fcb\" target=\"_top\" title=\"psysml:d1ff5ca6-7417-4682-b046-127881647fcb\" xlink:actuate=\"onRequest\" xlink:href=\"psysml:d1ff5ca6-7417-4682-b046-127881647fcb\" xlink:show=\"new\" xlink:title=\"psysml:d1ff5ca6-7417-4682-b046-127881647fcb\" xlink:type=\"simple\"><rect fill=\"#FFFFFF\" height=\"40\" id=\"E5\" rx=\"10\" ry=\"10\" style=\"stroke: #383838; stroke-width: 1.5;\" width=\"50\" x=\"58\" y=\"354\"/><rect fill=\"#F8F8F8\" height=\"23.9688\" rx=\"10\" ry=\"10\" style=\"stroke: #F8F8F8; stroke-width: 1.5;\" width=\"50\" x=\"58\" y=\"354\"/><rect fill=\"#F8F8F8\" height=\"10\" style=\"stroke: #F8F8F8; stroke-width: 1.5;\" width=\"50\" x=\"58\" y=\"367.9688\"/><rect fill=\"none\" height=\"40\" id=\"E5\" rx=\"10\" ry=\"10\" style=\"stroke: #383838; stroke-width: 1.5;\" width=\"50\" x=\"58\" y=\"354\"/><text fill=\"#000000\" font-family=\"sans-serif\" font-size=\"12\" lengthAdjust=\"spacingAndGlyphs\" textLength=\"24\" x=\"71\" y=\"370.1387\">b: P</text></a></g><g id=\"E1.E6\"><a href=\"psysml:20d627d7-8daa-4ea4-8c0c-0e67ee5e3616\" target=\"_top\" title=\"psysml:20d627d7-8daa-4ea4-8c0c-0e67ee5e3616\" xlink:actuate=\"onRequest\" xlink:href=\"psysml:20d627d7-8daa-4ea4-8c0c-0e67ee5e3616\" xlink:show=\"new\" xlink:title=\"psysml:20d627d7-8daa-4ea4-8c0c-0e67ee5e3616\" xlink:type=\"simple\"><rect fill=\"#FFFFFF\" height=\"40\" id=\"E6\" rx=\"10\" ry=\"10\" style=\"stroke: #383838; stroke-width: 1.5;\" width=\"50\" x=\"58\" y=\"429\"/><rect fill=\"#F8F8F8\" height=\"23.9688\" rx=\"10\" ry=\"10\" style=\"stroke: #F8F8F8; stroke-width: 1.5;\" width=\"50\" x=\"58\" y=\"429\"/><rect fill=\"#F8F8F8\" height=\"10\" style=\"stroke: #F8F8F8; stroke-width: 1.5;\" width=\"50\" x=\"58\" y=\"442.9688\"/><rect fill=\"none\" height=\"40\" id=\"E6\" rx=\"10\" ry=\"10\" style=\"stroke: #383838; stroke-width: 1.5;\" width=\"50\" x=\"58\" y=\"429\"/><text fill=\"#000000\" font-family=\"sans-serif\" font-size=\"12\" lengthAdjust=\"spacingAndGlyphs\" textLength=\"23\" x=\"71.5\" y=\"445.1387\">c: P</text></a></g><g id=\"E1.E7\"><a href=\"psysml:4fc87a01-ac01-48e0-9821-1b5b80a637f1\" target=\"_top\" title=\"psysml:4fc87a01-ac01-48e0-9821-1b5b80a637f1\" xlink:actuate=\"onRequest\" xlink:href=\"psysml:4fc87a01-ac01-48e0-9821-1b5b80a637f1\" xlink:show=\"new\" xlink:title=\"psysml:4fc87a01-ac01-48e0-9821-1b5b80a637f1\" xlink:type=\"simple\"><rect fill=\"#FFFFFF\" height=\"40\" id=\"E7\" rx=\"10\" ry=\"10\" style=\"stroke: #383838; stroke-width: 1.5;\" width=\"50\" x=\"58\" y=\"504\"/><rect fill=\"#F8F8F8\" height=\"23.9688\" rx=\"10\" ry=\"10\" style=\"stroke: #F8F8F8; stroke-width: 1.5;\" width=\"50\" x=\"58\" y=\"504\"/><rect fill=\"#F8F8F8\" height=\"10\" style=\"stroke: #F8F8F8; stroke-width: 1.5;\" width=\"50\" x=\"58\" y=\"517.9688\"/><rect fill=\"none\" height=\"40\" id=\"E7\" rx=\"10\" ry=\"10\" style=\"stroke: #383838; stroke-width: 1.5;\" width=\"50\" x=\"58\" y=\"504\"/><text fill=\"#000000\" font-family=\"sans-serif\" font-size=\"12\" lengthAdjust=\"spacingAndGlyphs\" textLength=\"8\" x=\"79\" y=\"520.1387\">d</text></a></g><g id=\"E1.E8\"><a href=\"psysml:e7c3b12c-9054-4127-bd5f-a31eeffec0a6\" target=\"_top\" title=\"psysml:e7c3b12c-9054-4127-bd5f-a31eeffec0a6\" xlink:actuate=\"onRequest\" xlink:href=\"psysml:e7c3b12c-9054-4127-bd5f-a31eeffec0a6\" xlink:show=\"new\" xlink:title=\"psysml:e7c3b12c-9054-4127-bd5f-a31eeffec0a6\" xlink:type=\"simple\"><rect fill=\"#FFFFFF\" height=\"40\" id=\"E8\" rx=\"10\" ry=\"10\" style=\"stroke: #383838; stroke-width: 1.5;\" width=\"50\" x=\"58\" y=\"579\"/><rect fill=\"#F8F8F8\" height=\"23.9688\" rx=\"10\" ry=\"10\" style=\"stroke: #F8F8F8; stroke-width: 1.5;\" width=\"50\" x=\"58\" y=\"579\"/><rect fill=\"#F8F8F8\" height=\"10\" style=\"stroke: #F8F8F8; stroke-width: 1.5;\" width=\"50\" x=\"58\" y=\"592.9688\"/><rect fill=\"none\" height=\"40\" id=\"E8\" rx=\"10\" ry=\"10\" style=\"stroke: #383838; stroke-width: 1.5;\" width=\"50\" x=\"58\" y=\"579\"/><text fill=\"#000000\" font-family=\"sans-serif\" font-size=\"12\" lengthAdjust=\"spacingAndGlyphs\" textLength=\"8\" x=\"79\" y=\"595.1387\">e</text></a></g><g id=\"E1.E9\"><a href=\"psysml:49b700d2-d9c4-4257-84cb-c65bfac2aa08\" target=\"_top\" title=\"psysml:49b700d2-d9c4-4257-84cb-c65bfac2aa08\" xlink:actuate=\"onRequest\" xlink:href=\"psysml:49b700d2-d9c4-4257-84cb-c65bfac2aa08\" xlink:show=\"new\" xlink:title=\"psysml:49b700d2-d9c4-4257-84cb-c65bfac2aa08\" xlink:type=\"simple\"><rect fill=\"#FFFFFF\" height=\"40\" id=\"E9\" rx=\"10\" ry=\"10\" style=\"stroke: #383838; stroke-width: 1.5;\" width=\"50\" x=\"58\" y=\"654\"/><rect fill=\"#F8F8F8\" height=\"23.9688\" rx=\"10\" ry=\"10\" style=\"stroke: #F8F8F8; stroke-width: 1.5;\" width=\"50\" x=\"58\" y=\"654\"/><rect fill=\"#F8F8F8\" height=\"10\" style=\"stroke: #F8F8F8; stroke-width: 1.5;\" width=\"50\" x=\"58\" y=\"667.9688\"/><rect fill=\"none\" height=\"40\" id=\"E9\" rx=\"10\" ry=\"10\" style=\"stroke: #383838; stroke-width: 1.5;\" width=\"50\" x=\"58\" y=\"654\"/><text fill=\"#000000\" font-family=\"sans-serif\" font-size=\"12\" lengthAdjust=\"spacingAndGlyphs\" textLength=\"4\" x=\"81\" y=\"670.1387\">f</text></a></g><g id=\"E1.E10\"><a href=\"psysml:20161f3e-4930-46fe-a17d-f79ec2a77aae\" target=\"_top\" title=\"psysml:20161f3e-4930-46fe-a17d-f79ec2a77aae\" xlink:actuate=\"onRequest\" xlink:href=\"psysml:20161f3e-4930-46fe-a17d-f79ec2a77aae\" xlink:show=\"new\" xlink:title=\"psysml:20161f3e-4930-46fe-a17d-f79ec2a77aae\" xlink:type=\"simple\"><rect fill=\"#FFFFFF\" height=\"40\" id=\"E10\" rx=\"10\" ry=\"10\" style=\"stroke: #383838; stroke-width: 1.5;\" width=\"50\" x=\"58\" y=\"729\"/><rect fill=\"#F8F8F8\" height=\"23.9688\" rx=\"10\" ry=\"10\" style=\"stroke: #F8F8F8; stroke-width: 1.5;\" width=\"50\" x=\"58\" y=\"729\"/><rect fill=\"#F8F8F8\" height=\"10\" style=\"stroke: #F8F8F8; stroke-width: 1.5;\" width=\"50\" x=\"58\" y=\"742.9688\"/><rect fill=\"none\" height=\"40\" id=\"E10\" rx=\"10\" ry=\"10\" style=\"stroke: #383838; stroke-width: 1.5;\" width=\"50\" x=\"58\" y=\"729\"/><text fill=\"#000000\" font-family=\"sans-serif\" font-size=\"12\" lengthAdjust=\"spacingAndGlyphs\" textLength=\"8\" x=\"79\" y=\"745.1387\">g</text></a></g><!--MD5=[c717aa70908b1aa6a086a24fb05cfbbf]\n",
       "@startuml\r\n",
       "skinparam ranksep 10\r\n",
       "skinparam rectangle {\r\n",
       " backgroundColor<<block>> LightGreen\r\n",
       "}\r\n",
       "left to right direction\r\n",
       "skinparam monochrome true\r\n",
       "skinparam classbackgroundcolor white\r\n",
       "skinparam shadowing false\r\n",
       "skinparam wrapWidth 300\r\n",
       "hide circle\r\n",
       "\r\n",
       "package \"MultiplicityTest\" as E1  [[psysml:04657276-263c-446b-8b63-b81fdc3bdb65 ]]  {\r\n",
       "rec def \"P\" as E2  <<(T,blue) part def>> [[psysml:68eb8761-ff46-4523-ba58-41a062b6cb94 ]] {\r\n",
       "}\r\n",
       "comp usage \"n: Integer\" as E3  <<(T,blue) attribute>> [[psysml:c2c67205-2617-478d-9839-9411bc2f8511 ]] {\r\n",
       "}\r\n",
       "rec usage \"a\" as E4  [[psysml:fbb3215b-67d9-4514-b40f-6d8c33165593 ]] {\r\n",
       "}\r\n",
       "rec usage \"b: P\" as E5  [[psysml:d1ff5ca6-7417-4682-b046-127881647fcb ]] {\r\n",
       "}\r\n",
       "rec usage \"c: P\" as E6  [[psysml:20d627d7-8daa-4ea4-8c0c-0e67ee5e3616 ]] {\r\n",
       "}\r\n",
       "rec usage \"d\" as E7  [[psysml:4fc87a01-ac01-48e0-9821-1b5b80a637f1 ]] {\r\n",
       "}\r\n",
       "rec usage \"e\" as E8  [[psysml:e7c3b12c-9054-4127-bd5f-a31eeffec0a6 ]] {\r\n",
       "}\r\n",
       "rec usage \"f\" as E9  [[psysml:49b700d2-d9c4-4257-84cb-c65bfac2aa08 ]] {\r\n",
       "}\r\n",
       "rec usage \"g\" as E10  [[psysml:20161f3e-4930-46fe-a17d-f79ec2a77aae ]] {\r\n",
       "}\r\n",
       "def \"A\" as E11  <<(T,blue) attribute def>> [[psysml:958dabfe-3a24-44d8-9bca-d5e375f56ac2 ]] \r\n",
       "}\r\n",
       "@enduml\r\n",
       "\n",
       "PlantUML version 1.2020.13(Sat Jun 13 12:26:38 UTC 2020)\n",
       "(EPL source distribution)\n",
       "Java Runtime: OpenJDK Runtime Environment\n",
       "JVM: OpenJDK 64-Bit Server VM\n",
       "Default Encoding: UTF-8\n",
       "Language: en\n",
       "Country: null\n",
       "--></g></svg>"
      ]
     },
     "execution_count": 19,
     "metadata": {},
     "output_type": "execute_result"
    }
   ],
   "source": [
    "%viz --style=\"LR\" --view=\"Interconnection\" \"MultiplicityTest\""
   ]
  },
  {
   "cell_type": "code",
   "execution_count": 20,
   "id": "aadda7b8",
   "metadata": {
    "execution": {
     "iopub.execute_input": "2021-08-04T06:29:50.872195Z",
     "iopub.status.busy": "2021-08-04T06:29:50.871557Z",
     "iopub.status.idle": "2021-08-04T06:29:50.877490Z",
     "shell.execute_reply": "2021-08-04T06:29:50.877142Z"
    }
   },
   "outputs": [
    {
     "data": {
      "image/svg+xml": [
       "<?xml version=\"1.0\" encoding=\"UTF-8\" standalone=\"no\"?><svg xmlns=\"http://www.w3.org/2000/svg\" xmlns:xlink=\"http://www.w3.org/1999/xlink\" contentScriptType=\"application/ecmascript\" contentStyleType=\"text/css\" height=\"12px\" preserveAspectRatio=\"none\" style=\"width:12px;height:12px;\" version=\"1.1\" viewBox=\"0 0 12 12\" width=\"12px\" zoomAndPan=\"magnify\"><defs/><g><!--MD5=[7aeb398939421629f6affaa4a1a7b125]\n",
       "@startuml\r\n",
       "skinparam ranksep 8\r\n",
       "left to right direction\r\n",
       "skinparam monochrome true\r\n",
       "skinparam classbackgroundcolor white\r\n",
       "skinparam shadowing false\r\n",
       "skinparam wrapWidth 300\r\n",
       "hide circle\r\n",
       "\r\n",
       "@enduml\r\n",
       "\n",
       "PlantUML version 1.2020.13(Sat Jun 13 12:26:38 UTC 2020)\n",
       "(EPL source distribution)\n",
       "Java Runtime: OpenJDK Runtime Environment\n",
       "JVM: OpenJDK 64-Bit Server VM\n",
       "Default Encoding: UTF-8\n",
       "Language: en\n",
       "Country: null\n",
       "--></g></svg>"
      ]
     },
     "execution_count": 20,
     "metadata": {},
     "output_type": "execute_result"
    }
   ],
   "source": [
    "%viz --style=\"LR\" --view=\"Action\" \"MultiplicityTest\""
   ]
  },
  {
   "cell_type": "code",
   "execution_count": 21,
   "id": "ceb3f861",
   "metadata": {
    "execution": {
     "iopub.execute_input": "2021-08-04T06:29:50.928196Z",
     "iopub.status.busy": "2021-08-04T06:29:50.927570Z",
     "iopub.status.idle": "2021-08-04T06:29:50.984650Z",
     "shell.execute_reply": "2021-08-04T06:29:50.984207Z"
    }
   },
   "outputs": [
    {
     "data": {
      "image/svg+xml": [
       "<?xml version=\"1.0\" encoding=\"UTF-8\" standalone=\"no\"?><svg xmlns=\"http://www.w3.org/2000/svg\" xmlns:xlink=\"http://www.w3.org/1999/xlink\" contentScriptType=\"application/ecmascript\" contentStyleType=\"text/css\" height=\"805px\" preserveAspectRatio=\"none\" style=\"width:291px;height:805px;\" version=\"1.1\" viewBox=\"0 0 291 805\" width=\"291px\" zoomAndPan=\"magnify\"><defs/><g><!--MD5=[fbc87193dbaf4d95561dea2c320d4a47]\n",
       "cluster E1--><a href=\"psysml:04657276-263c-446b-8b63-b81fdc3bdb65\" target=\"_top\" title=\"psysml:04657276-263c-446b-8b63-b81fdc3bdb65\" xlink:actuate=\"onRequest\" xlink:href=\"psysml:04657276-263c-446b-8b63-b81fdc3bdb65\" xlink:show=\"new\" xlink:title=\"psysml:04657276-263c-446b-8b63-b81fdc3bdb65\" xlink:type=\"simple\"><polygon fill=\"#FFFFFF\" points=\"16,6,140,6,147,28.2969,269,28.2969,269,793,16,793,16,6\" style=\"stroke: #000000; stroke-width: 1.5;\"/><line style=\"stroke: #000000; stroke-width: 1.5;\" x1=\"16\" x2=\"147\" y1=\"28.2969\" y2=\"28.2969\"/><text fill=\"#000000\" font-family=\"sans-serif\" font-size=\"14\" font-weight=\"bold\" lengthAdjust=\"spacingAndGlyphs\" textLength=\"118\" x=\"20\" y=\"20.9951\">MultiplicityTest</text></a><!--MD5=[b4997ac47864f28c2f74865a473b2911]\n",
       "class E2--><a href=\"psysml:68eb8761-ff46-4523-ba58-41a062b6cb94\" target=\"_top\" title=\"psysml:68eb8761-ff46-4523-ba58-41a062b6cb94\" xlink:actuate=\"onRequest\" xlink:href=\"psysml:68eb8761-ff46-4523-ba58-41a062b6cb94\" xlink:show=\"new\" xlink:title=\"psysml:68eb8761-ff46-4523-ba58-41a062b6cb94\" xlink:type=\"simple\"><rect fill=\"#FFFFFF\" height=\"45.9375\" id=\"E2\" style=\"stroke: #383838; stroke-width: 1.5;\" width=\"66\" x=\"187\" y=\"244\"/><text fill=\"#000000\" font-family=\"sans-serif\" font-size=\"12\" font-style=\"italic\" lengthAdjust=\"spacingAndGlyphs\" textLength=\"64\" x=\"188\" y=\"260.1387\">«part def»</text><text fill=\"#000000\" font-family=\"sans-serif\" font-size=\"12\" lengthAdjust=\"spacingAndGlyphs\" textLength=\"8\" x=\"216\" y=\"274.1074\">P</text><line style=\"stroke: #383838; stroke-width: 1.5;\" x1=\"188\" x2=\"252\" y1=\"281.9375\" y2=\"281.9375\"/></a><!--MD5=[09b614a08d8cba4a07c9adeb5e0fee81]\n",
       "class E3--><a href=\"psysml:c2c67205-2617-478d-9839-9411bc2f8511\" target=\"_top\" title=\"psysml:c2c67205-2617-478d-9839-9411bc2f8511\" xlink:actuate=\"onRequest\" xlink:href=\"psysml:c2c67205-2617-478d-9839-9411bc2f8511\" xlink:show=\"new\" xlink:title=\"psysml:c2c67205-2617-478d-9839-9411bc2f8511\" xlink:type=\"simple\"><rect fill=\"#FFFFFF\" height=\"45.9375\" id=\"E3\" rx=\"10\" ry=\"10\" style=\"stroke: #383838; stroke-width: 1.5;\" width=\"71\" x=\"44\" y=\"41\"/><text fill=\"#000000\" font-family=\"sans-serif\" font-size=\"12\" font-style=\"italic\" lengthAdjust=\"spacingAndGlyphs\" textLength=\"69\" x=\"45\" y=\"57.1387\">«attribute»</text><text fill=\"#000000\" font-family=\"sans-serif\" font-size=\"12\" lengthAdjust=\"spacingAndGlyphs\" textLength=\"61\" x=\"49\" y=\"71.1074\">n: Integer</text><line style=\"stroke: #383838; stroke-width: 1.5;\" x1=\"45\" x2=\"114\" y1=\"78.9375\" y2=\"78.9375\"/></a><!--MD5=[ebbe1d658d1005bcc118a6aa81145e00]\n",
       "class E4--><a href=\"psysml:fbb3215b-67d9-4514-b40f-6d8c33165593\" target=\"_top\" title=\"psysml:fbb3215b-67d9-4514-b40f-6d8c33165593\" xlink:actuate=\"onRequest\" xlink:href=\"psysml:fbb3215b-67d9-4514-b40f-6d8c33165593\" xlink:show=\"new\" xlink:title=\"psysml:fbb3215b-67d9-4514-b40f-6d8c33165593\" xlink:type=\"simple\"><rect fill=\"#FFFFFF\" height=\"45.9375\" id=\"E4\" rx=\"10\" ry=\"10\" style=\"stroke: #383838; stroke-width: 1.5;\" width=\"42\" x=\"58.5\" y=\"122\"/><text fill=\"#000000\" font-family=\"sans-serif\" font-size=\"12\" font-style=\"italic\" lengthAdjust=\"spacingAndGlyphs\" textLength=\"40\" x=\"59.5\" y=\"138.1387\">«part»</text><text fill=\"#000000\" font-family=\"sans-serif\" font-size=\"12\" lengthAdjust=\"spacingAndGlyphs\" textLength=\"8\" x=\"75.5\" y=\"152.1074\">a</text><line style=\"stroke: #383838; stroke-width: 1.5;\" x1=\"59.5\" x2=\"99.5\" y1=\"159.9375\" y2=\"159.9375\"/></a><!--MD5=[270fce915f116d4de14055a7c1d9a0f3]\n",
       "class E5--><a href=\"psysml:d1ff5ca6-7417-4682-b046-127881647fcb\" target=\"_top\" title=\"psysml:d1ff5ca6-7417-4682-b046-127881647fcb\" xlink:actuate=\"onRequest\" xlink:href=\"psysml:d1ff5ca6-7417-4682-b046-127881647fcb\" xlink:show=\"new\" xlink:title=\"psysml:d1ff5ca6-7417-4682-b046-127881647fcb\" xlink:type=\"simple\"><rect fill=\"#FFFFFF\" height=\"45.9375\" id=\"E5\" rx=\"10\" ry=\"10\" style=\"stroke: #383838; stroke-width: 1.5;\" width=\"42\" x=\"58.5\" y=\"203\"/><text fill=\"#000000\" font-family=\"sans-serif\" font-size=\"12\" font-style=\"italic\" lengthAdjust=\"spacingAndGlyphs\" textLength=\"40\" x=\"59.5\" y=\"219.1387\">«part»</text><text fill=\"#000000\" font-family=\"sans-serif\" font-size=\"12\" lengthAdjust=\"spacingAndGlyphs\" textLength=\"24\" x=\"67.5\" y=\"233.1074\">b: P</text><line style=\"stroke: #383838; stroke-width: 1.5;\" x1=\"59.5\" x2=\"99.5\" y1=\"240.9375\" y2=\"240.9375\"/></a><!--MD5=[60a26617385b1d2d0262a64233df1f8d]\n",
       "class E6--><a href=\"psysml:20d627d7-8daa-4ea4-8c0c-0e67ee5e3616\" target=\"_top\" title=\"psysml:20d627d7-8daa-4ea4-8c0c-0e67ee5e3616\" xlink:actuate=\"onRequest\" xlink:href=\"psysml:20d627d7-8daa-4ea4-8c0c-0e67ee5e3616\" xlink:show=\"new\" xlink:title=\"psysml:20d627d7-8daa-4ea4-8c0c-0e67ee5e3616\" xlink:type=\"simple\"><rect fill=\"#FFFFFF\" height=\"45.9375\" id=\"E6\" rx=\"10\" ry=\"10\" style=\"stroke: #383838; stroke-width: 1.5;\" width=\"42\" x=\"58.5\" y=\"284\"/><text fill=\"#000000\" font-family=\"sans-serif\" font-size=\"12\" font-style=\"italic\" lengthAdjust=\"spacingAndGlyphs\" textLength=\"40\" x=\"59.5\" y=\"300.1387\">«part»</text><text fill=\"#000000\" font-family=\"sans-serif\" font-size=\"12\" lengthAdjust=\"spacingAndGlyphs\" textLength=\"23\" x=\"68\" y=\"314.1074\">c: P</text><line style=\"stroke: #383838; stroke-width: 1.5;\" x1=\"59.5\" x2=\"99.5\" y1=\"321.9375\" y2=\"321.9375\"/></a><!--MD5=[2156ba9850f5573cc1fc38a6a4b2f02b]\n",
       "class E7--><a href=\"psysml:4fc87a01-ac01-48e0-9821-1b5b80a637f1\" target=\"_top\" title=\"psysml:4fc87a01-ac01-48e0-9821-1b5b80a637f1\" xlink:actuate=\"onRequest\" xlink:href=\"psysml:4fc87a01-ac01-48e0-9821-1b5b80a637f1\" xlink:show=\"new\" xlink:title=\"psysml:4fc87a01-ac01-48e0-9821-1b5b80a637f1\" xlink:type=\"simple\"><rect fill=\"#FFFFFF\" height=\"45.9375\" id=\"E7\" rx=\"10\" ry=\"10\" style=\"stroke: #383838; stroke-width: 1.5;\" width=\"42\" x=\"58.5\" y=\"365\"/><text fill=\"#000000\" font-family=\"sans-serif\" font-size=\"12\" font-style=\"italic\" lengthAdjust=\"spacingAndGlyphs\" textLength=\"40\" x=\"59.5\" y=\"381.1387\">«part»</text><text fill=\"#000000\" font-family=\"sans-serif\" font-size=\"12\" lengthAdjust=\"spacingAndGlyphs\" textLength=\"8\" x=\"75.5\" y=\"395.1074\">d</text><line style=\"stroke: #383838; stroke-width: 1.5;\" x1=\"59.5\" x2=\"99.5\" y1=\"402.9375\" y2=\"402.9375\"/></a><!--MD5=[b9389687b975829384b498ac4b7476b2]\n",
       "class E8--><a href=\"psysml:e7c3b12c-9054-4127-bd5f-a31eeffec0a6\" target=\"_top\" title=\"psysml:e7c3b12c-9054-4127-bd5f-a31eeffec0a6\" xlink:actuate=\"onRequest\" xlink:href=\"psysml:e7c3b12c-9054-4127-bd5f-a31eeffec0a6\" xlink:show=\"new\" xlink:title=\"psysml:e7c3b12c-9054-4127-bd5f-a31eeffec0a6\" xlink:type=\"simple\"><rect fill=\"#FFFFFF\" height=\"45.9375\" id=\"E8\" rx=\"10\" ry=\"10\" style=\"stroke: #383838; stroke-width: 1.5;\" width=\"42\" x=\"58.5\" y=\"446\"/><text fill=\"#000000\" font-family=\"sans-serif\" font-size=\"12\" font-style=\"italic\" lengthAdjust=\"spacingAndGlyphs\" textLength=\"40\" x=\"59.5\" y=\"462.1387\">«part»</text><text fill=\"#000000\" font-family=\"sans-serif\" font-size=\"12\" lengthAdjust=\"spacingAndGlyphs\" textLength=\"8\" x=\"75.5\" y=\"476.1074\">e</text><line style=\"stroke: #383838; stroke-width: 1.5;\" x1=\"59.5\" x2=\"99.5\" y1=\"483.9375\" y2=\"483.9375\"/></a><!--MD5=[fd4143e9d270a159db93a4ea2a975926]\n",
       "class E9--><a href=\"psysml:49b700d2-d9c4-4257-84cb-c65bfac2aa08\" target=\"_top\" title=\"psysml:49b700d2-d9c4-4257-84cb-c65bfac2aa08\" xlink:actuate=\"onRequest\" xlink:href=\"psysml:49b700d2-d9c4-4257-84cb-c65bfac2aa08\" xlink:show=\"new\" xlink:title=\"psysml:49b700d2-d9c4-4257-84cb-c65bfac2aa08\" xlink:type=\"simple\"><rect fill=\"#FFFFFF\" height=\"45.9375\" id=\"E9\" rx=\"10\" ry=\"10\" style=\"stroke: #383838; stroke-width: 1.5;\" width=\"42\" x=\"58.5\" y=\"527\"/><text fill=\"#000000\" font-family=\"sans-serif\" font-size=\"12\" font-style=\"italic\" lengthAdjust=\"spacingAndGlyphs\" textLength=\"40\" x=\"59.5\" y=\"543.1387\">«part»</text><text fill=\"#000000\" font-family=\"sans-serif\" font-size=\"12\" lengthAdjust=\"spacingAndGlyphs\" textLength=\"4\" x=\"77.5\" y=\"557.1074\">f</text><line style=\"stroke: #383838; stroke-width: 1.5;\" x1=\"59.5\" x2=\"99.5\" y1=\"564.9375\" y2=\"564.9375\"/></a><!--MD5=[96f4274e9e20536e775497830990834d]\n",
       "class E10--><a href=\"psysml:20161f3e-4930-46fe-a17d-f79ec2a77aae\" target=\"_top\" title=\"psysml:20161f3e-4930-46fe-a17d-f79ec2a77aae\" xlink:actuate=\"onRequest\" xlink:href=\"psysml:20161f3e-4930-46fe-a17d-f79ec2a77aae\" xlink:show=\"new\" xlink:title=\"psysml:20161f3e-4930-46fe-a17d-f79ec2a77aae\" xlink:type=\"simple\"><rect fill=\"#FFFFFF\" height=\"45.9375\" id=\"E10\" rx=\"10\" ry=\"10\" style=\"stroke: #383838; stroke-width: 1.5;\" width=\"42\" x=\"58.5\" y=\"608\"/><text fill=\"#000000\" font-family=\"sans-serif\" font-size=\"12\" font-style=\"italic\" lengthAdjust=\"spacingAndGlyphs\" textLength=\"40\" x=\"59.5\" y=\"624.1387\">«part»</text><text fill=\"#000000\" font-family=\"sans-serif\" font-size=\"12\" lengthAdjust=\"spacingAndGlyphs\" textLength=\"8\" x=\"75.5\" y=\"638.1074\">g</text><line style=\"stroke: #383838; stroke-width: 1.5;\" x1=\"59.5\" x2=\"99.5\" y1=\"645.9375\" y2=\"645.9375\"/></a><!--MD5=[1dd1bfd58a279cf63c5f349dbc8fc6a1]\n",
       "class E11--><a href=\"psysml:958dabfe-3a24-44d8-9bca-d5e375f56ac2\" target=\"_top\" title=\"psysml:958dabfe-3a24-44d8-9bca-d5e375f56ac2\" xlink:actuate=\"onRequest\" xlink:href=\"psysml:958dabfe-3a24-44d8-9bca-d5e375f56ac2\" xlink:show=\"new\" xlink:title=\"psysml:958dabfe-3a24-44d8-9bca-d5e375f56ac2\" xlink:type=\"simple\"><rect fill=\"#FFFFFF\" height=\"88.3516\" id=\"E11\" style=\"stroke: #383838; stroke-width: 1.5;\" width=\"95\" x=\"32\" y=\"689\"/><text fill=\"#000000\" font-family=\"sans-serif\" font-size=\"12\" font-style=\"italic\" lengthAdjust=\"spacingAndGlyphs\" textLength=\"93\" x=\"33\" y=\"705.1387\">«attribute def»</text><text fill=\"#000000\" font-family=\"sans-serif\" font-size=\"12\" lengthAdjust=\"spacingAndGlyphs\" textLength=\"8\" x=\"75.5\" y=\"719.1074\">A</text><line style=\"stroke: #383838; stroke-width: 1.5;\" x1=\"33\" x2=\"126\" y1=\"726.9375\" y2=\"726.9375\"/><text fill=\"#000000\" font-family=\"sans-serif\" font-size=\"11\" lengthAdjust=\"spacingAndGlyphs\" textLength=\"51\" x=\"38\" y=\"757.9526\">i: Integer</text><text fill=\"#000000\" font-family=\"sans-serif\" font-size=\"11\" lengthAdjust=\"spacingAndGlyphs\" textLength=\"21\" x=\"38\" y=\"770.7573\">x: A</text><line style=\"stroke: #383838; stroke-width: 1.0;\" x1=\"33\" x2=\"52\" y1=\"741.3398\" y2=\"741.3398\"/><text fill=\"#000000\" font-family=\"sans-serif\" font-size=\"11\" lengthAdjust=\"spacingAndGlyphs\" textLength=\"55\" x=\"52\" y=\"744.6479\">attributes</text><line style=\"stroke: #383838; stroke-width: 1.0;\" x1=\"107\" x2=\"126\" y1=\"741.3398\" y2=\"741.3398\"/></a><!--MD5=[15ebcb19ae302d9b601edb458606d402]\n",
       "link E5 to E2--><a href=\"psysml:a788c1ae-8502-4aea-9d8b-5a5d865c76a9\" target=\"_top\" title=\"psysml:a788c1ae-8502-4aea-9d8b-5a5d865c76a9\" xlink:actuate=\"onRequest\" xlink:href=\"psysml:a788c1ae-8502-4aea-9d8b-5a5d865c76a9\" xlink:show=\"new\" xlink:title=\"psysml:a788c1ae-8502-4aea-9d8b-5a5d865c76a9\" xlink:type=\"simple\"><path d=\"M100.64,231.96 C118.11,237.13 144.16,244.84 167.38,251.72 \" fill=\"none\" id=\"E5-&gt;E2\" style=\"stroke: #383838; stroke-width: 1.0;\"/><polygon fill=\"#FFFFFF\" points=\"186.77,257.46,166.5639,258.7688,170.5445,245.3466,186.77,257.46\" style=\"stroke: #383838; stroke-width: 1.0;\"/><ellipse cx=\"161.6678\" cy=\"255.2306\" fill=\"#383838\" rx=\"2\" ry=\"2\" style=\"stroke: #383838; stroke-width: 1.0;\"/><ellipse cx=\"164.5111\" cy=\"245.6434\" fill=\"#383838\" rx=\"2\" ry=\"2\" style=\"stroke: #383838; stroke-width: 1.0;\"/></a><!--MD5=[2351f337d6de0f557b50152ba70847b5]\n",
       "link E6 to E2--><a href=\"psysml:96c9e024-7b1d-4ba9-883a-860d4899a00e\" target=\"_top\" title=\"psysml:96c9e024-7b1d-4ba9-883a-860d4899a00e\" xlink:actuate=\"onRequest\" xlink:href=\"psysml:96c9e024-7b1d-4ba9-883a-860d4899a00e\" xlink:show=\"new\" xlink:title=\"psysml:96c9e024-7b1d-4ba9-883a-860d4899a00e\" xlink:type=\"simple\"><path d=\"M100.64,301.18 C118.11,296.14 144.16,288.61 167.38,281.91 \" fill=\"none\" id=\"E6-&gt;E2\" style=\"stroke: #383838; stroke-width: 1.0;\"/><polygon fill=\"#FFFFFF\" points=\"186.77,276.31,170.4629,288.3132,166.5732,274.8644,186.77,276.31\" style=\"stroke: #383838; stroke-width: 1.0;\"/><ellipse cx=\"164.4316\" cy=\"287.9756\" fill=\"#383838\" rx=\"2\" ry=\"2\" style=\"stroke: #383838; stroke-width: 1.0;\"/><ellipse cx=\"161.6533\" cy=\"278.3693\" fill=\"#383838\" rx=\"2\" ry=\"2\" style=\"stroke: #383838; stroke-width: 1.0;\"/></a><!--MD5=[1f2102d75e29014f107c9bb5b766c08b]\n",
       "@startuml\r\n",
       "left to right direction\r\n",
       "skinparam monochrome true\r\n",
       "skinparam classbackgroundcolor white\r\n",
       "skinparam shadowing false\r\n",
       "skinparam wrapWidth 300\r\n",
       "hide circle\r\n",
       "\r\n",
       "package \"MultiplicityTest\" as E1  [[psysml:04657276-263c-446b-8b63-b81fdc3bdb65 ]]  {\r\n",
       "comp def \"P\" as E2  <<(T,blue) part def>> [[psysml:68eb8761-ff46-4523-ba58-41a062b6cb94 ]] {\r\n",
       "}\r\n",
       "comp usage \"n: Integer\" as E3  <<(T,blue) attribute>> [[psysml:c2c67205-2617-478d-9839-9411bc2f8511 ]] {\r\n",
       "}\r\n",
       "comp usage \"a\" as E4  <<(T,blue) part>> [[psysml:fbb3215b-67d9-4514-b40f-6d8c33165593 ]] {\r\n",
       "}\r\n",
       "comp usage \"b: P\" as E5  <<(T,blue) part>> [[psysml:d1ff5ca6-7417-4682-b046-127881647fcb ]] {\r\n",
       "}\r\n",
       "comp usage \"c: P\" as E6  <<(T,blue) part>> [[psysml:20d627d7-8daa-4ea4-8c0c-0e67ee5e3616 ]] {\r\n",
       "}\r\n",
       "comp usage \"d\" as E7  <<(T,blue) part>> [[psysml:4fc87a01-ac01-48e0-9821-1b5b80a637f1 ]] {\r\n",
       "}\r\n",
       "comp usage \"e\" as E8  <<(T,blue) part>> [[psysml:e7c3b12c-9054-4127-bd5f-a31eeffec0a6 ]] {\r\n",
       "}\r\n",
       "comp usage \"f\" as E9  <<(T,blue) part>> [[psysml:49b700d2-d9c4-4257-84cb-c65bfac2aa08 ]] {\r\n",
       "}\r\n",
       "comp usage \"g\" as E10  <<(T,blue) part>> [[psysml:20161f3e-4930-46fe-a17d-f79ec2a77aae ]] {\r\n",
       "}\r\n",
       "comp def \"A\" as E11  <<(T,blue) attribute def>> [[psysml:958dabfe-3a24-44d8-9bca-d5e375f56ac2 ]] {\r\n",
       "- - attributes - -\r\n",
       "i: Integer\r\n",
       "x: A\r\n",
       "}\r\n",
       "E5 - -:|> E2 [[psysml:a788c1ae-8502-4aea-9d8b-5a5d865c76a9 ]] \r\n",
       "E6 - -:|> E2 [[psysml:96c9e024-7b1d-4ba9-883a-860d4899a00e ]] \r\n",
       "}\r\n",
       "@enduml\r\n",
       "\n",
       "PlantUML version 1.2020.13(Sat Jun 13 12:26:38 UTC 2020)\n",
       "(EPL source distribution)\n",
       "Java Runtime: OpenJDK Runtime Environment\n",
       "JVM: OpenJDK 64-Bit Server VM\n",
       "Default Encoding: UTF-8\n",
       "Language: en\n",
       "Country: null\n",
       "--></g></svg>"
      ]
     },
     "execution_count": 21,
     "metadata": {},
     "output_type": "execute_result"
    }
   ],
   "source": [
    "%viz --style=\"LR\" --view=\"Sequence\" \"MultiplicityTest\""
   ]
  },
  {
   "cell_type": "code",
   "execution_count": 22,
   "id": "8dd11c3a",
   "metadata": {
    "execution": {
     "iopub.execute_input": "2021-08-04T06:29:51.034580Z",
     "iopub.status.busy": "2021-08-04T06:29:51.033929Z",
     "iopub.status.idle": "2021-08-04T06:29:51.087065Z",
     "shell.execute_reply": "2021-08-04T06:29:51.086773Z"
    }
   },
   "outputs": [
    {
     "data": {
      "image/svg+xml": [
       "<?xml version=\"1.0\" encoding=\"UTF-8\" standalone=\"no\"?><svg xmlns=\"http://www.w3.org/2000/svg\" xmlns:xlink=\"http://www.w3.org/1999/xlink\" contentScriptType=\"application/ecmascript\" contentStyleType=\"text/css\" height=\"805px\" preserveAspectRatio=\"none\" style=\"width:291px;height:805px;\" version=\"1.1\" viewBox=\"0 0 291 805\" width=\"291px\" zoomAndPan=\"magnify\"><defs/><g><!--MD5=[fbc87193dbaf4d95561dea2c320d4a47]\n",
       "cluster E1--><a href=\"psysml:04657276-263c-446b-8b63-b81fdc3bdb65\" target=\"_top\" title=\"psysml:04657276-263c-446b-8b63-b81fdc3bdb65\" xlink:actuate=\"onRequest\" xlink:href=\"psysml:04657276-263c-446b-8b63-b81fdc3bdb65\" xlink:show=\"new\" xlink:title=\"psysml:04657276-263c-446b-8b63-b81fdc3bdb65\" xlink:type=\"simple\"><polygon fill=\"#FFFFFF\" points=\"16,6,140,6,147,28.2969,269,28.2969,269,793,16,793,16,6\" style=\"stroke: #000000; stroke-width: 1.5;\"/><line style=\"stroke: #000000; stroke-width: 1.5;\" x1=\"16\" x2=\"147\" y1=\"28.2969\" y2=\"28.2969\"/><text fill=\"#000000\" font-family=\"sans-serif\" font-size=\"14\" font-weight=\"bold\" lengthAdjust=\"spacingAndGlyphs\" textLength=\"118\" x=\"20\" y=\"20.9951\">MultiplicityTest</text></a><!--MD5=[b4997ac47864f28c2f74865a473b2911]\n",
       "class E2--><a href=\"psysml:68eb8761-ff46-4523-ba58-41a062b6cb94\" target=\"_top\" title=\"psysml:68eb8761-ff46-4523-ba58-41a062b6cb94\" xlink:actuate=\"onRequest\" xlink:href=\"psysml:68eb8761-ff46-4523-ba58-41a062b6cb94\" xlink:show=\"new\" xlink:title=\"psysml:68eb8761-ff46-4523-ba58-41a062b6cb94\" xlink:type=\"simple\"><rect fill=\"#FFFFFF\" height=\"45.9375\" id=\"E2\" style=\"stroke: #383838; stroke-width: 1.5;\" width=\"66\" x=\"187\" y=\"244\"/><text fill=\"#000000\" font-family=\"sans-serif\" font-size=\"12\" font-style=\"italic\" lengthAdjust=\"spacingAndGlyphs\" textLength=\"64\" x=\"188\" y=\"260.1387\">«part def»</text><text fill=\"#000000\" font-family=\"sans-serif\" font-size=\"12\" lengthAdjust=\"spacingAndGlyphs\" textLength=\"8\" x=\"216\" y=\"274.1074\">P</text><line style=\"stroke: #383838; stroke-width: 1.5;\" x1=\"188\" x2=\"252\" y1=\"281.9375\" y2=\"281.9375\"/></a><!--MD5=[09b614a08d8cba4a07c9adeb5e0fee81]\n",
       "class E3--><a href=\"psysml:c2c67205-2617-478d-9839-9411bc2f8511\" target=\"_top\" title=\"psysml:c2c67205-2617-478d-9839-9411bc2f8511\" xlink:actuate=\"onRequest\" xlink:href=\"psysml:c2c67205-2617-478d-9839-9411bc2f8511\" xlink:show=\"new\" xlink:title=\"psysml:c2c67205-2617-478d-9839-9411bc2f8511\" xlink:type=\"simple\"><rect fill=\"#FFFFFF\" height=\"45.9375\" id=\"E3\" rx=\"10\" ry=\"10\" style=\"stroke: #383838; stroke-width: 1.5;\" width=\"71\" x=\"44\" y=\"41\"/><text fill=\"#000000\" font-family=\"sans-serif\" font-size=\"12\" font-style=\"italic\" lengthAdjust=\"spacingAndGlyphs\" textLength=\"69\" x=\"45\" y=\"57.1387\">«attribute»</text><text fill=\"#000000\" font-family=\"sans-serif\" font-size=\"12\" lengthAdjust=\"spacingAndGlyphs\" textLength=\"61\" x=\"49\" y=\"71.1074\">n: Integer</text><line style=\"stroke: #383838; stroke-width: 1.5;\" x1=\"45\" x2=\"114\" y1=\"78.9375\" y2=\"78.9375\"/></a><!--MD5=[ebbe1d658d1005bcc118a6aa81145e00]\n",
       "class E4--><a href=\"psysml:fbb3215b-67d9-4514-b40f-6d8c33165593\" target=\"_top\" title=\"psysml:fbb3215b-67d9-4514-b40f-6d8c33165593\" xlink:actuate=\"onRequest\" xlink:href=\"psysml:fbb3215b-67d9-4514-b40f-6d8c33165593\" xlink:show=\"new\" xlink:title=\"psysml:fbb3215b-67d9-4514-b40f-6d8c33165593\" xlink:type=\"simple\"><rect fill=\"#FFFFFF\" height=\"45.9375\" id=\"E4\" rx=\"10\" ry=\"10\" style=\"stroke: #383838; stroke-width: 1.5;\" width=\"42\" x=\"58.5\" y=\"122\"/><text fill=\"#000000\" font-family=\"sans-serif\" font-size=\"12\" font-style=\"italic\" lengthAdjust=\"spacingAndGlyphs\" textLength=\"40\" x=\"59.5\" y=\"138.1387\">«part»</text><text fill=\"#000000\" font-family=\"sans-serif\" font-size=\"12\" lengthAdjust=\"spacingAndGlyphs\" textLength=\"8\" x=\"75.5\" y=\"152.1074\">a</text><line style=\"stroke: #383838; stroke-width: 1.5;\" x1=\"59.5\" x2=\"99.5\" y1=\"159.9375\" y2=\"159.9375\"/></a><!--MD5=[270fce915f116d4de14055a7c1d9a0f3]\n",
       "class E5--><a href=\"psysml:d1ff5ca6-7417-4682-b046-127881647fcb\" target=\"_top\" title=\"psysml:d1ff5ca6-7417-4682-b046-127881647fcb\" xlink:actuate=\"onRequest\" xlink:href=\"psysml:d1ff5ca6-7417-4682-b046-127881647fcb\" xlink:show=\"new\" xlink:title=\"psysml:d1ff5ca6-7417-4682-b046-127881647fcb\" xlink:type=\"simple\"><rect fill=\"#FFFFFF\" height=\"45.9375\" id=\"E5\" rx=\"10\" ry=\"10\" style=\"stroke: #383838; stroke-width: 1.5;\" width=\"42\" x=\"58.5\" y=\"203\"/><text fill=\"#000000\" font-family=\"sans-serif\" font-size=\"12\" font-style=\"italic\" lengthAdjust=\"spacingAndGlyphs\" textLength=\"40\" x=\"59.5\" y=\"219.1387\">«part»</text><text fill=\"#000000\" font-family=\"sans-serif\" font-size=\"12\" lengthAdjust=\"spacingAndGlyphs\" textLength=\"24\" x=\"67.5\" y=\"233.1074\">b: P</text><line style=\"stroke: #383838; stroke-width: 1.5;\" x1=\"59.5\" x2=\"99.5\" y1=\"240.9375\" y2=\"240.9375\"/></a><!--MD5=[60a26617385b1d2d0262a64233df1f8d]\n",
       "class E6--><a href=\"psysml:20d627d7-8daa-4ea4-8c0c-0e67ee5e3616\" target=\"_top\" title=\"psysml:20d627d7-8daa-4ea4-8c0c-0e67ee5e3616\" xlink:actuate=\"onRequest\" xlink:href=\"psysml:20d627d7-8daa-4ea4-8c0c-0e67ee5e3616\" xlink:show=\"new\" xlink:title=\"psysml:20d627d7-8daa-4ea4-8c0c-0e67ee5e3616\" xlink:type=\"simple\"><rect fill=\"#FFFFFF\" height=\"45.9375\" id=\"E6\" rx=\"10\" ry=\"10\" style=\"stroke: #383838; stroke-width: 1.5;\" width=\"42\" x=\"58.5\" y=\"284\"/><text fill=\"#000000\" font-family=\"sans-serif\" font-size=\"12\" font-style=\"italic\" lengthAdjust=\"spacingAndGlyphs\" textLength=\"40\" x=\"59.5\" y=\"300.1387\">«part»</text><text fill=\"#000000\" font-family=\"sans-serif\" font-size=\"12\" lengthAdjust=\"spacingAndGlyphs\" textLength=\"23\" x=\"68\" y=\"314.1074\">c: P</text><line style=\"stroke: #383838; stroke-width: 1.5;\" x1=\"59.5\" x2=\"99.5\" y1=\"321.9375\" y2=\"321.9375\"/></a><!--MD5=[2156ba9850f5573cc1fc38a6a4b2f02b]\n",
       "class E7--><a href=\"psysml:4fc87a01-ac01-48e0-9821-1b5b80a637f1\" target=\"_top\" title=\"psysml:4fc87a01-ac01-48e0-9821-1b5b80a637f1\" xlink:actuate=\"onRequest\" xlink:href=\"psysml:4fc87a01-ac01-48e0-9821-1b5b80a637f1\" xlink:show=\"new\" xlink:title=\"psysml:4fc87a01-ac01-48e0-9821-1b5b80a637f1\" xlink:type=\"simple\"><rect fill=\"#FFFFFF\" height=\"45.9375\" id=\"E7\" rx=\"10\" ry=\"10\" style=\"stroke: #383838; stroke-width: 1.5;\" width=\"42\" x=\"58.5\" y=\"365\"/><text fill=\"#000000\" font-family=\"sans-serif\" font-size=\"12\" font-style=\"italic\" lengthAdjust=\"spacingAndGlyphs\" textLength=\"40\" x=\"59.5\" y=\"381.1387\">«part»</text><text fill=\"#000000\" font-family=\"sans-serif\" font-size=\"12\" lengthAdjust=\"spacingAndGlyphs\" textLength=\"8\" x=\"75.5\" y=\"395.1074\">d</text><line style=\"stroke: #383838; stroke-width: 1.5;\" x1=\"59.5\" x2=\"99.5\" y1=\"402.9375\" y2=\"402.9375\"/></a><!--MD5=[b9389687b975829384b498ac4b7476b2]\n",
       "class E8--><a href=\"psysml:e7c3b12c-9054-4127-bd5f-a31eeffec0a6\" target=\"_top\" title=\"psysml:e7c3b12c-9054-4127-bd5f-a31eeffec0a6\" xlink:actuate=\"onRequest\" xlink:href=\"psysml:e7c3b12c-9054-4127-bd5f-a31eeffec0a6\" xlink:show=\"new\" xlink:title=\"psysml:e7c3b12c-9054-4127-bd5f-a31eeffec0a6\" xlink:type=\"simple\"><rect fill=\"#FFFFFF\" height=\"45.9375\" id=\"E8\" rx=\"10\" ry=\"10\" style=\"stroke: #383838; stroke-width: 1.5;\" width=\"42\" x=\"58.5\" y=\"446\"/><text fill=\"#000000\" font-family=\"sans-serif\" font-size=\"12\" font-style=\"italic\" lengthAdjust=\"spacingAndGlyphs\" textLength=\"40\" x=\"59.5\" y=\"462.1387\">«part»</text><text fill=\"#000000\" font-family=\"sans-serif\" font-size=\"12\" lengthAdjust=\"spacingAndGlyphs\" textLength=\"8\" x=\"75.5\" y=\"476.1074\">e</text><line style=\"stroke: #383838; stroke-width: 1.5;\" x1=\"59.5\" x2=\"99.5\" y1=\"483.9375\" y2=\"483.9375\"/></a><!--MD5=[fd4143e9d270a159db93a4ea2a975926]\n",
       "class E9--><a href=\"psysml:49b700d2-d9c4-4257-84cb-c65bfac2aa08\" target=\"_top\" title=\"psysml:49b700d2-d9c4-4257-84cb-c65bfac2aa08\" xlink:actuate=\"onRequest\" xlink:href=\"psysml:49b700d2-d9c4-4257-84cb-c65bfac2aa08\" xlink:show=\"new\" xlink:title=\"psysml:49b700d2-d9c4-4257-84cb-c65bfac2aa08\" xlink:type=\"simple\"><rect fill=\"#FFFFFF\" height=\"45.9375\" id=\"E9\" rx=\"10\" ry=\"10\" style=\"stroke: #383838; stroke-width: 1.5;\" width=\"42\" x=\"58.5\" y=\"527\"/><text fill=\"#000000\" font-family=\"sans-serif\" font-size=\"12\" font-style=\"italic\" lengthAdjust=\"spacingAndGlyphs\" textLength=\"40\" x=\"59.5\" y=\"543.1387\">«part»</text><text fill=\"#000000\" font-family=\"sans-serif\" font-size=\"12\" lengthAdjust=\"spacingAndGlyphs\" textLength=\"4\" x=\"77.5\" y=\"557.1074\">f</text><line style=\"stroke: #383838; stroke-width: 1.5;\" x1=\"59.5\" x2=\"99.5\" y1=\"564.9375\" y2=\"564.9375\"/></a><!--MD5=[96f4274e9e20536e775497830990834d]\n",
       "class E10--><a href=\"psysml:20161f3e-4930-46fe-a17d-f79ec2a77aae\" target=\"_top\" title=\"psysml:20161f3e-4930-46fe-a17d-f79ec2a77aae\" xlink:actuate=\"onRequest\" xlink:href=\"psysml:20161f3e-4930-46fe-a17d-f79ec2a77aae\" xlink:show=\"new\" xlink:title=\"psysml:20161f3e-4930-46fe-a17d-f79ec2a77aae\" xlink:type=\"simple\"><rect fill=\"#FFFFFF\" height=\"45.9375\" id=\"E10\" rx=\"10\" ry=\"10\" style=\"stroke: #383838; stroke-width: 1.5;\" width=\"42\" x=\"58.5\" y=\"608\"/><text fill=\"#000000\" font-family=\"sans-serif\" font-size=\"12\" font-style=\"italic\" lengthAdjust=\"spacingAndGlyphs\" textLength=\"40\" x=\"59.5\" y=\"624.1387\">«part»</text><text fill=\"#000000\" font-family=\"sans-serif\" font-size=\"12\" lengthAdjust=\"spacingAndGlyphs\" textLength=\"8\" x=\"75.5\" y=\"638.1074\">g</text><line style=\"stroke: #383838; stroke-width: 1.5;\" x1=\"59.5\" x2=\"99.5\" y1=\"645.9375\" y2=\"645.9375\"/></a><!--MD5=[1dd1bfd58a279cf63c5f349dbc8fc6a1]\n",
       "class E11--><a href=\"psysml:958dabfe-3a24-44d8-9bca-d5e375f56ac2\" target=\"_top\" title=\"psysml:958dabfe-3a24-44d8-9bca-d5e375f56ac2\" xlink:actuate=\"onRequest\" xlink:href=\"psysml:958dabfe-3a24-44d8-9bca-d5e375f56ac2\" xlink:show=\"new\" xlink:title=\"psysml:958dabfe-3a24-44d8-9bca-d5e375f56ac2\" xlink:type=\"simple\"><rect fill=\"#FFFFFF\" height=\"88.3516\" id=\"E11\" style=\"stroke: #383838; stroke-width: 1.5;\" width=\"95\" x=\"32\" y=\"689\"/><text fill=\"#000000\" font-family=\"sans-serif\" font-size=\"12\" font-style=\"italic\" lengthAdjust=\"spacingAndGlyphs\" textLength=\"93\" x=\"33\" y=\"705.1387\">«attribute def»</text><text fill=\"#000000\" font-family=\"sans-serif\" font-size=\"12\" lengthAdjust=\"spacingAndGlyphs\" textLength=\"8\" x=\"75.5\" y=\"719.1074\">A</text><line style=\"stroke: #383838; stroke-width: 1.5;\" x1=\"33\" x2=\"126\" y1=\"726.9375\" y2=\"726.9375\"/><text fill=\"#000000\" font-family=\"sans-serif\" font-size=\"11\" lengthAdjust=\"spacingAndGlyphs\" textLength=\"51\" x=\"38\" y=\"757.9526\">i: Integer</text><text fill=\"#000000\" font-family=\"sans-serif\" font-size=\"11\" lengthAdjust=\"spacingAndGlyphs\" textLength=\"21\" x=\"38\" y=\"770.7573\">x: A</text><line style=\"stroke: #383838; stroke-width: 1.0;\" x1=\"33\" x2=\"52\" y1=\"741.3398\" y2=\"741.3398\"/><text fill=\"#000000\" font-family=\"sans-serif\" font-size=\"11\" lengthAdjust=\"spacingAndGlyphs\" textLength=\"55\" x=\"52\" y=\"744.6479\">attributes</text><line style=\"stroke: #383838; stroke-width: 1.0;\" x1=\"107\" x2=\"126\" y1=\"741.3398\" y2=\"741.3398\"/></a><!--MD5=[15ebcb19ae302d9b601edb458606d402]\n",
       "link E5 to E2--><a href=\"psysml:a788c1ae-8502-4aea-9d8b-5a5d865c76a9\" target=\"_top\" title=\"psysml:a788c1ae-8502-4aea-9d8b-5a5d865c76a9\" xlink:actuate=\"onRequest\" xlink:href=\"psysml:a788c1ae-8502-4aea-9d8b-5a5d865c76a9\" xlink:show=\"new\" xlink:title=\"psysml:a788c1ae-8502-4aea-9d8b-5a5d865c76a9\" xlink:type=\"simple\"><path d=\"M100.64,231.96 C118.11,237.13 144.16,244.84 167.38,251.72 \" fill=\"none\" id=\"E5-&gt;E2\" style=\"stroke: #383838; stroke-width: 1.0;\"/><polygon fill=\"#FFFFFF\" points=\"186.77,257.46,166.5639,258.7688,170.5445,245.3466,186.77,257.46\" style=\"stroke: #383838; stroke-width: 1.0;\"/><ellipse cx=\"161.6678\" cy=\"255.2306\" fill=\"#383838\" rx=\"2\" ry=\"2\" style=\"stroke: #383838; stroke-width: 1.0;\"/><ellipse cx=\"164.5111\" cy=\"245.6434\" fill=\"#383838\" rx=\"2\" ry=\"2\" style=\"stroke: #383838; stroke-width: 1.0;\"/></a><!--MD5=[2351f337d6de0f557b50152ba70847b5]\n",
       "link E6 to E2--><a href=\"psysml:96c9e024-7b1d-4ba9-883a-860d4899a00e\" target=\"_top\" title=\"psysml:96c9e024-7b1d-4ba9-883a-860d4899a00e\" xlink:actuate=\"onRequest\" xlink:href=\"psysml:96c9e024-7b1d-4ba9-883a-860d4899a00e\" xlink:show=\"new\" xlink:title=\"psysml:96c9e024-7b1d-4ba9-883a-860d4899a00e\" xlink:type=\"simple\"><path d=\"M100.64,301.18 C118.11,296.14 144.16,288.61 167.38,281.91 \" fill=\"none\" id=\"E6-&gt;E2\" style=\"stroke: #383838; stroke-width: 1.0;\"/><polygon fill=\"#FFFFFF\" points=\"186.77,276.31,170.4629,288.3132,166.5732,274.8644,186.77,276.31\" style=\"stroke: #383838; stroke-width: 1.0;\"/><ellipse cx=\"164.4316\" cy=\"287.9756\" fill=\"#383838\" rx=\"2\" ry=\"2\" style=\"stroke: #383838; stroke-width: 1.0;\"/><ellipse cx=\"161.6533\" cy=\"278.3693\" fill=\"#383838\" rx=\"2\" ry=\"2\" style=\"stroke: #383838; stroke-width: 1.0;\"/></a><!--MD5=[1f2102d75e29014f107c9bb5b766c08b]\n",
       "@startuml\r\n",
       "left to right direction\r\n",
       "skinparam monochrome true\r\n",
       "skinparam classbackgroundcolor white\r\n",
       "skinparam shadowing false\r\n",
       "skinparam wrapWidth 300\r\n",
       "hide circle\r\n",
       "\r\n",
       "package \"MultiplicityTest\" as E1  [[psysml:04657276-263c-446b-8b63-b81fdc3bdb65 ]]  {\r\n",
       "comp def \"P\" as E2  <<(T,blue) part def>> [[psysml:68eb8761-ff46-4523-ba58-41a062b6cb94 ]] {\r\n",
       "}\r\n",
       "comp usage \"n: Integer\" as E3  <<(T,blue) attribute>> [[psysml:c2c67205-2617-478d-9839-9411bc2f8511 ]] {\r\n",
       "}\r\n",
       "comp usage \"a\" as E4  <<(T,blue) part>> [[psysml:fbb3215b-67d9-4514-b40f-6d8c33165593 ]] {\r\n",
       "}\r\n",
       "comp usage \"b: P\" as E5  <<(T,blue) part>> [[psysml:d1ff5ca6-7417-4682-b046-127881647fcb ]] {\r\n",
       "}\r\n",
       "comp usage \"c: P\" as E6  <<(T,blue) part>> [[psysml:20d627d7-8daa-4ea4-8c0c-0e67ee5e3616 ]] {\r\n",
       "}\r\n",
       "comp usage \"d\" as E7  <<(T,blue) part>> [[psysml:4fc87a01-ac01-48e0-9821-1b5b80a637f1 ]] {\r\n",
       "}\r\n",
       "comp usage \"e\" as E8  <<(T,blue) part>> [[psysml:e7c3b12c-9054-4127-bd5f-a31eeffec0a6 ]] {\r\n",
       "}\r\n",
       "comp usage \"f\" as E9  <<(T,blue) part>> [[psysml:49b700d2-d9c4-4257-84cb-c65bfac2aa08 ]] {\r\n",
       "}\r\n",
       "comp usage \"g\" as E10  <<(T,blue) part>> [[psysml:20161f3e-4930-46fe-a17d-f79ec2a77aae ]] {\r\n",
       "}\r\n",
       "comp def \"A\" as E11  <<(T,blue) attribute def>> [[psysml:958dabfe-3a24-44d8-9bca-d5e375f56ac2 ]] {\r\n",
       "- - attributes - -\r\n",
       "i: Integer\r\n",
       "x: A\r\n",
       "}\r\n",
       "E5 - -:|> E2 [[psysml:a788c1ae-8502-4aea-9d8b-5a5d865c76a9 ]] \r\n",
       "E6 - -:|> E2 [[psysml:96c9e024-7b1d-4ba9-883a-860d4899a00e ]] \r\n",
       "}\r\n",
       "@enduml\r\n",
       "\n",
       "PlantUML version 1.2020.13(Sat Jun 13 12:26:38 UTC 2020)\n",
       "(EPL source distribution)\n",
       "Java Runtime: OpenJDK Runtime Environment\n",
       "JVM: OpenJDK 64-Bit Server VM\n",
       "Default Encoding: UTF-8\n",
       "Language: en\n",
       "Country: null\n",
       "--></g></svg>"
      ]
     },
     "execution_count": 22,
     "metadata": {},
     "output_type": "execute_result"
    }
   ],
   "source": [
    "%viz --style=\"LR\" --view=\"MIXED\" \"MultiplicityTest\""
   ]
  },
  {
   "cell_type": "code",
   "execution_count": 23,
   "id": "b29831aa",
   "metadata": {
    "execution": {
     "iopub.execute_input": "2021-08-04T06:29:51.137285Z",
     "iopub.status.busy": "2021-08-04T06:29:51.136783Z",
     "iopub.status.idle": "2021-08-04T06:29:51.175004Z",
     "shell.execute_reply": "2021-08-04T06:29:51.174638Z"
    }
   },
   "outputs": [
    {
     "data": {
      "image/svg+xml": [
       "<?xml version=\"1.0\" encoding=\"UTF-8\" standalone=\"no\"?><svg xmlns=\"http://www.w3.org/2000/svg\" xmlns:xlink=\"http://www.w3.org/1999/xlink\" contentScriptType=\"application/ecmascript\" contentStyleType=\"text/css\" height=\"247px\" preserveAspectRatio=\"none\" style=\"width:812px;height:247px;\" version=\"1.1\" viewBox=\"0 0 812 247\" width=\"812px\" zoomAndPan=\"magnify\"><defs><filter height=\"300%\" id=\"f16yi2p7vuboy5\" width=\"300%\" x=\"-1\" y=\"-1\"><feGaussianBlur result=\"blurOut\" stdDeviation=\"2.0\"/><feColorMatrix in=\"blurOut\" result=\"blurOut2\" type=\"matrix\" values=\"0 0 0 0 0 0 0 0 0 0 0 0 0 0 0 0 0 0 .4 0\"/><feOffset dx=\"4.0\" dy=\"4.0\" in=\"blurOut2\" result=\"blurOut3\"/><feBlend in=\"SourceGraphic\" in2=\"blurOut3\" mode=\"normal\"/></filter></defs><g><!--MD5=[fbc87193dbaf4d95561dea2c320d4a47]\n",
       "cluster E1--><a href=\"psysml:04657276-263c-446b-8b63-b81fdc3bdb65\" target=\"_top\" title=\"psysml:04657276-263c-446b-8b63-b81fdc3bdb65\" xlink:actuate=\"onRequest\" xlink:href=\"psysml:04657276-263c-446b-8b63-b81fdc3bdb65\" xlink:show=\"new\" xlink:title=\"psysml:04657276-263c-446b-8b63-b81fdc3bdb65\" xlink:type=\"simple\"><polygon fill=\"#FFFFFF\" filter=\"url(#f16yi2p7vuboy5)\" points=\"16,6,140,6,147,28.2969,790,28.2969,790,235,16,235,16,6\" style=\"stroke: #000000; stroke-width: 1.5;\"/><line style=\"stroke: #000000; stroke-width: 1.5;\" x1=\"16\" x2=\"147\" y1=\"28.2969\" y2=\"28.2969\"/><text fill=\"#000000\" font-family=\"sans-serif\" font-size=\"14\" font-weight=\"bold\" lengthAdjust=\"spacingAndGlyphs\" textLength=\"118\" x=\"20\" y=\"20.9951\">MultiplicityTest</text></a><!--MD5=[b4997ac47864f28c2f74865a473b2911]\n",
       "class E2--><a href=\"psysml:68eb8761-ff46-4523-ba58-41a062b6cb94\" target=\"_top\" title=\"psysml:68eb8761-ff46-4523-ba58-41a062b6cb94\" xlink:actuate=\"onRequest\" xlink:href=\"psysml:68eb8761-ff46-4523-ba58-41a062b6cb94\" xlink:show=\"new\" xlink:title=\"psysml:68eb8761-ff46-4523-ba58-41a062b6cb94\" xlink:type=\"simple\"><rect fill=\"#FEFECE\" filter=\"url(#f16yi2p7vuboy5)\" height=\"45.9375\" id=\"E2\" style=\"stroke: #A80036; stroke-width: 1.5;\" width=\"66\" x=\"497\" y=\"173\"/><text fill=\"#000000\" font-family=\"sans-serif\" font-size=\"12\" font-style=\"italic\" lengthAdjust=\"spacingAndGlyphs\" textLength=\"64\" x=\"498\" y=\"189.1387\">«part def»</text><text fill=\"#000000\" font-family=\"sans-serif\" font-size=\"12\" lengthAdjust=\"spacingAndGlyphs\" textLength=\"8\" x=\"526\" y=\"203.1074\">P</text><line style=\"stroke: #A80036; stroke-width: 1.5;\" x1=\"498\" x2=\"562\" y1=\"210.9375\" y2=\"210.9375\"/></a><!--MD5=[09b614a08d8cba4a07c9adeb5e0fee81]\n",
       "class E3--><a href=\"psysml:c2c67205-2617-478d-9839-9411bc2f8511\" target=\"_top\" title=\"psysml:c2c67205-2617-478d-9839-9411bc2f8511\" xlink:actuate=\"onRequest\" xlink:href=\"psysml:c2c67205-2617-478d-9839-9411bc2f8511\" xlink:show=\"new\" xlink:title=\"psysml:c2c67205-2617-478d-9839-9411bc2f8511\" xlink:type=\"simple\"><rect fill=\"#FEFECE\" filter=\"url(#f16yi2p7vuboy5)\" height=\"45.9375\" id=\"E3\" rx=\"10\" ry=\"10\" style=\"stroke: #A80036; stroke-width: 1.5;\" width=\"71\" x=\"702.5\" y=\"54\"/><text fill=\"#000000\" font-family=\"sans-serif\" font-size=\"12\" font-style=\"italic\" lengthAdjust=\"spacingAndGlyphs\" textLength=\"69\" x=\"703.5\" y=\"70.1387\">«attribute»</text><text fill=\"#000000\" font-family=\"sans-serif\" font-size=\"12\" lengthAdjust=\"spacingAndGlyphs\" textLength=\"61\" x=\"707.5\" y=\"84.1074\">n: Integer</text><line style=\"stroke: #A80036; stroke-width: 1.5;\" x1=\"703.5\" x2=\"772.5\" y1=\"91.9375\" y2=\"91.9375\"/></a><!--MD5=[ebbe1d658d1005bcc118a6aa81145e00]\n",
       "class E4--><a href=\"psysml:fbb3215b-67d9-4514-b40f-6d8c33165593\" target=\"_top\" title=\"psysml:fbb3215b-67d9-4514-b40f-6d8c33165593\" xlink:actuate=\"onRequest\" xlink:href=\"psysml:fbb3215b-67d9-4514-b40f-6d8c33165593\" xlink:show=\"new\" xlink:title=\"psysml:fbb3215b-67d9-4514-b40f-6d8c33165593\" xlink:type=\"simple\"><rect fill=\"#FEFECE\" filter=\"url(#f16yi2p7vuboy5)\" height=\"45.9375\" id=\"E4\" rx=\"10\" ry=\"10\" style=\"stroke: #A80036; stroke-width: 1.5;\" width=\"42\" x=\"625\" y=\"54\"/><text fill=\"#000000\" font-family=\"sans-serif\" font-size=\"12\" font-style=\"italic\" lengthAdjust=\"spacingAndGlyphs\" textLength=\"40\" x=\"626\" y=\"70.1387\">«part»</text><text fill=\"#000000\" font-family=\"sans-serif\" font-size=\"12\" lengthAdjust=\"spacingAndGlyphs\" textLength=\"8\" x=\"642\" y=\"84.1074\">a</text><line style=\"stroke: #A80036; stroke-width: 1.5;\" x1=\"626\" x2=\"666\" y1=\"91.9375\" y2=\"91.9375\"/></a><!--MD5=[270fce915f116d4de14055a7c1d9a0f3]\n",
       "class E5--><a href=\"psysml:d1ff5ca6-7417-4682-b046-127881647fcb\" target=\"_top\" title=\"psysml:d1ff5ca6-7417-4682-b046-127881647fcb\" xlink:actuate=\"onRequest\" xlink:href=\"psysml:d1ff5ca6-7417-4682-b046-127881647fcb\" xlink:show=\"new\" xlink:title=\"psysml:d1ff5ca6-7417-4682-b046-127881647fcb\" xlink:type=\"simple\"><rect fill=\"#FEFECE\" filter=\"url(#f16yi2p7vuboy5)\" height=\"45.9375\" id=\"E5\" rx=\"10\" ry=\"10\" style=\"stroke: #A80036; stroke-width: 1.5;\" width=\"42\" x=\"548\" y=\"54\"/><text fill=\"#000000\" font-family=\"sans-serif\" font-size=\"12\" font-style=\"italic\" lengthAdjust=\"spacingAndGlyphs\" textLength=\"40\" x=\"549\" y=\"70.1387\">«part»</text><text fill=\"#000000\" font-family=\"sans-serif\" font-size=\"12\" lengthAdjust=\"spacingAndGlyphs\" textLength=\"24\" x=\"557\" y=\"84.1074\">b: P</text><line style=\"stroke: #A80036; stroke-width: 1.5;\" x1=\"549\" x2=\"589\" y1=\"91.9375\" y2=\"91.9375\"/></a><!--MD5=[60a26617385b1d2d0262a64233df1f8d]\n",
       "class E6--><a href=\"psysml:20d627d7-8daa-4ea4-8c0c-0e67ee5e3616\" target=\"_top\" title=\"psysml:20d627d7-8daa-4ea4-8c0c-0e67ee5e3616\" xlink:actuate=\"onRequest\" xlink:href=\"psysml:20d627d7-8daa-4ea4-8c0c-0e67ee5e3616\" xlink:show=\"new\" xlink:title=\"psysml:20d627d7-8daa-4ea4-8c0c-0e67ee5e3616\" xlink:type=\"simple\"><rect fill=\"#FEFECE\" filter=\"url(#f16yi2p7vuboy5)\" height=\"45.9375\" id=\"E6\" rx=\"10\" ry=\"10\" style=\"stroke: #A80036; stroke-width: 1.5;\" width=\"42\" x=\"471\" y=\"54\"/><text fill=\"#000000\" font-family=\"sans-serif\" font-size=\"12\" font-style=\"italic\" lengthAdjust=\"spacingAndGlyphs\" textLength=\"40\" x=\"472\" y=\"70.1387\">«part»</text><text fill=\"#000000\" font-family=\"sans-serif\" font-size=\"12\" lengthAdjust=\"spacingAndGlyphs\" textLength=\"23\" x=\"480.5\" y=\"84.1074\">c: P</text><line style=\"stroke: #A80036; stroke-width: 1.5;\" x1=\"472\" x2=\"512\" y1=\"91.9375\" y2=\"91.9375\"/></a><!--MD5=[2156ba9850f5573cc1fc38a6a4b2f02b]\n",
       "class E7--><a href=\"psysml:4fc87a01-ac01-48e0-9821-1b5b80a637f1\" target=\"_top\" title=\"psysml:4fc87a01-ac01-48e0-9821-1b5b80a637f1\" xlink:actuate=\"onRequest\" xlink:href=\"psysml:4fc87a01-ac01-48e0-9821-1b5b80a637f1\" xlink:show=\"new\" xlink:title=\"psysml:4fc87a01-ac01-48e0-9821-1b5b80a637f1\" xlink:type=\"simple\"><rect fill=\"#FEFECE\" filter=\"url(#f16yi2p7vuboy5)\" height=\"45.9375\" id=\"E7\" rx=\"10\" ry=\"10\" style=\"stroke: #A80036; stroke-width: 1.5;\" width=\"42\" x=\"394\" y=\"54\"/><text fill=\"#000000\" font-family=\"sans-serif\" font-size=\"12\" font-style=\"italic\" lengthAdjust=\"spacingAndGlyphs\" textLength=\"40\" x=\"395\" y=\"70.1387\">«part»</text><text fill=\"#000000\" font-family=\"sans-serif\" font-size=\"12\" lengthAdjust=\"spacingAndGlyphs\" textLength=\"8\" x=\"411\" y=\"84.1074\">d</text><line style=\"stroke: #A80036; stroke-width: 1.5;\" x1=\"395\" x2=\"435\" y1=\"91.9375\" y2=\"91.9375\"/></a><!--MD5=[b9389687b975829384b498ac4b7476b2]\n",
       "class E8--><a href=\"psysml:e7c3b12c-9054-4127-bd5f-a31eeffec0a6\" target=\"_top\" title=\"psysml:e7c3b12c-9054-4127-bd5f-a31eeffec0a6\" xlink:actuate=\"onRequest\" xlink:href=\"psysml:e7c3b12c-9054-4127-bd5f-a31eeffec0a6\" xlink:show=\"new\" xlink:title=\"psysml:e7c3b12c-9054-4127-bd5f-a31eeffec0a6\" xlink:type=\"simple\"><rect fill=\"#FEFECE\" filter=\"url(#f16yi2p7vuboy5)\" height=\"45.9375\" id=\"E8\" rx=\"10\" ry=\"10\" style=\"stroke: #A80036; stroke-width: 1.5;\" width=\"42\" x=\"317\" y=\"54\"/><text fill=\"#000000\" font-family=\"sans-serif\" font-size=\"12\" font-style=\"italic\" lengthAdjust=\"spacingAndGlyphs\" textLength=\"40\" x=\"318\" y=\"70.1387\">«part»</text><text fill=\"#000000\" font-family=\"sans-serif\" font-size=\"12\" lengthAdjust=\"spacingAndGlyphs\" textLength=\"8\" x=\"334\" y=\"84.1074\">e</text><line style=\"stroke: #A80036; stroke-width: 1.5;\" x1=\"318\" x2=\"358\" y1=\"91.9375\" y2=\"91.9375\"/></a><!--MD5=[fd4143e9d270a159db93a4ea2a975926]\n",
       "class E9--><a href=\"psysml:49b700d2-d9c4-4257-84cb-c65bfac2aa08\" target=\"_top\" title=\"psysml:49b700d2-d9c4-4257-84cb-c65bfac2aa08\" xlink:actuate=\"onRequest\" xlink:href=\"psysml:49b700d2-d9c4-4257-84cb-c65bfac2aa08\" xlink:show=\"new\" xlink:title=\"psysml:49b700d2-d9c4-4257-84cb-c65bfac2aa08\" xlink:type=\"simple\"><rect fill=\"#FEFECE\" filter=\"url(#f16yi2p7vuboy5)\" height=\"45.9375\" id=\"E9\" rx=\"10\" ry=\"10\" style=\"stroke: #A80036; stroke-width: 1.5;\" width=\"42\" x=\"240\" y=\"54\"/><text fill=\"#000000\" font-family=\"sans-serif\" font-size=\"12\" font-style=\"italic\" lengthAdjust=\"spacingAndGlyphs\" textLength=\"40\" x=\"241\" y=\"70.1387\">«part»</text><text fill=\"#000000\" font-family=\"sans-serif\" font-size=\"12\" lengthAdjust=\"spacingAndGlyphs\" textLength=\"4\" x=\"259\" y=\"84.1074\">f</text><line style=\"stroke: #A80036; stroke-width: 1.5;\" x1=\"241\" x2=\"281\" y1=\"91.9375\" y2=\"91.9375\"/></a><!--MD5=[96f4274e9e20536e775497830990834d]\n",
       "class E10--><a href=\"psysml:20161f3e-4930-46fe-a17d-f79ec2a77aae\" target=\"_top\" title=\"psysml:20161f3e-4930-46fe-a17d-f79ec2a77aae\" xlink:actuate=\"onRequest\" xlink:href=\"psysml:20161f3e-4930-46fe-a17d-f79ec2a77aae\" xlink:show=\"new\" xlink:title=\"psysml:20161f3e-4930-46fe-a17d-f79ec2a77aae\" xlink:type=\"simple\"><rect fill=\"#FEFECE\" filter=\"url(#f16yi2p7vuboy5)\" height=\"45.9375\" id=\"E10\" rx=\"10\" ry=\"10\" style=\"stroke: #A80036; stroke-width: 1.5;\" width=\"42\" x=\"163\" y=\"54\"/><text fill=\"#000000\" font-family=\"sans-serif\" font-size=\"12\" font-style=\"italic\" lengthAdjust=\"spacingAndGlyphs\" textLength=\"40\" x=\"164\" y=\"70.1387\">«part»</text><text fill=\"#000000\" font-family=\"sans-serif\" font-size=\"12\" lengthAdjust=\"spacingAndGlyphs\" textLength=\"8\" x=\"180\" y=\"84.1074\">g</text><line style=\"stroke: #A80036; stroke-width: 1.5;\" x1=\"164\" x2=\"204\" y1=\"91.9375\" y2=\"91.9375\"/></a><!--MD5=[1dd1bfd58a279cf63c5f349dbc8fc6a1]\n",
       "class E11--><a href=\"psysml:958dabfe-3a24-44d8-9bca-d5e375f56ac2\" target=\"_top\" title=\"psysml:958dabfe-3a24-44d8-9bca-d5e375f56ac2\" xlink:actuate=\"onRequest\" xlink:href=\"psysml:958dabfe-3a24-44d8-9bca-d5e375f56ac2\" xlink:show=\"new\" xlink:title=\"psysml:958dabfe-3a24-44d8-9bca-d5e375f56ac2\" xlink:type=\"simple\"><rect fill=\"#FEFECE\" filter=\"url(#f16yi2p7vuboy5)\" height=\"71.5469\" id=\"E11\" style=\"stroke: #A80036; stroke-width: 1.5;\" width=\"95\" x=\"32.5\" y=\"41\"/><text fill=\"#000000\" font-family=\"sans-serif\" font-size=\"12\" font-style=\"italic\" lengthAdjust=\"spacingAndGlyphs\" textLength=\"93\" x=\"33.5\" y=\"57.1387\">«attribute def»</text><text fill=\"#000000\" font-family=\"sans-serif\" font-size=\"12\" lengthAdjust=\"spacingAndGlyphs\" textLength=\"8\" x=\"76\" y=\"71.1074\">A</text><line style=\"stroke: #A80036; stroke-width: 1.5;\" x1=\"33.5\" x2=\"126.5\" y1=\"78.9375\" y2=\"78.9375\"/><text fill=\"#000000\" font-family=\"sans-serif\" font-size=\"11\" lengthAdjust=\"spacingAndGlyphs\" textLength=\"51\" x=\"38.5\" y=\"93.1479\">i: Integer</text><text fill=\"#000000\" font-family=\"sans-serif\" font-size=\"11\" lengthAdjust=\"spacingAndGlyphs\" textLength=\"21\" x=\"38.5\" y=\"105.9526\">x: A</text></a><!--MD5=[15ebcb19ae302d9b601edb458606d402]\n",
       "link E5 to E2--><a href=\"psysml:a788c1ae-8502-4aea-9d8b-5a5d865c76a9\" target=\"_top\" title=\"psysml:a788c1ae-8502-4aea-9d8b-5a5d865c76a9\" xlink:actuate=\"onRequest\" xlink:href=\"psysml:a788c1ae-8502-4aea-9d8b-5a5d865c76a9\" xlink:show=\"new\" xlink:title=\"psysml:a788c1ae-8502-4aea-9d8b-5a5d865c76a9\" xlink:type=\"simple\"><path d=\"M561.66,100.01 C556.63,115.11 549.8,135.61 543.76,153.71 \" fill=\"none\" id=\"E5-&gt;E2\" style=\"stroke: #A80036; stroke-width: 1.0;\"/><polygon fill=\"#FFFFFF\" points=\"537.44,172.69,536.7984,152.4517,550.082,156.8729,537.44,172.69\" style=\"stroke: #A80036; stroke-width: 1.0;\"/><ellipse cx=\"540.4961\" cy=\"147.675\" fill=\"#A80036\" rx=\"2\" ry=\"2\" style=\"stroke: #A80036; stroke-width: 1.0;\"/><ellipse cx=\"549.9844\" cy=\"150.833\" fill=\"#A80036\" rx=\"2\" ry=\"2\" style=\"stroke: #A80036; stroke-width: 1.0;\"/></a><!--MD5=[2351f337d6de0f557b50152ba70847b5]\n",
       "link E6 to E2--><a href=\"psysml:96c9e024-7b1d-4ba9-883a-860d4899a00e\" target=\"_top\" title=\"psysml:96c9e024-7b1d-4ba9-883a-860d4899a00e\" xlink:actuate=\"onRequest\" xlink:href=\"psysml:96c9e024-7b1d-4ba9-883a-860d4899a00e\" xlink:show=\"new\" xlink:title=\"psysml:96c9e024-7b1d-4ba9-883a-860d4899a00e\" xlink:type=\"simple\"><path d=\"M499.15,100.01 C504.03,115.03 510.64,135.39 516.49,153.41 \" fill=\"none\" id=\"E6-&gt;E2\" style=\"stroke: #A80036; stroke-width: 1.0;\"/><polygon fill=\"#FFFFFF\" points=\"522.76,172.69,510.2363,156.7791,523.5525,152.4571,522.76,172.69\" style=\"stroke: #A80036; stroke-width: 1.0;\"/><ellipse cx=\"510.379\" cy=\"150.74\" fill=\"#A80036\" rx=\"2\" ry=\"2\" style=\"stroke: #A80036; stroke-width: 1.0;\"/><ellipse cx=\"519.8905\" cy=\"147.6529\" fill=\"#A80036\" rx=\"2\" ry=\"2\" style=\"stroke: #A80036; stroke-width: 1.0;\"/></a><!--MD5=[b33e5fca5ffbf348d20dc2632cb60c79]\n",
       "@startuml\r\n",
       "skinparam wrapWidth 300\r\n",
       "hide circle\r\n",
       "\r\n",
       "package \"MultiplicityTest\" as E1  [[psysml:04657276-263c-446b-8b63-b81fdc3bdb65 ]]  {\r\n",
       "comp def \"P\" as E2  <<(T,blue) part def>> [[psysml:68eb8761-ff46-4523-ba58-41a062b6cb94 ]] {\r\n",
       "}\r\n",
       "comp usage \"n: Integer\" as E3  <<(T,blue) attribute>> [[psysml:c2c67205-2617-478d-9839-9411bc2f8511 ]] {\r\n",
       "}\r\n",
       "comp usage \"a\" as E4  <<(T,blue) part>> [[psysml:fbb3215b-67d9-4514-b40f-6d8c33165593 ]] {\r\n",
       "}\r\n",
       "comp usage \"b: P\" as E5  <<(T,blue) part>> [[psysml:d1ff5ca6-7417-4682-b046-127881647fcb ]] {\r\n",
       "}\r\n",
       "comp usage \"c: P\" as E6  <<(T,blue) part>> [[psysml:20d627d7-8daa-4ea4-8c0c-0e67ee5e3616 ]] {\r\n",
       "}\r\n",
       "comp usage \"d\" as E7  <<(T,blue) part>> [[psysml:4fc87a01-ac01-48e0-9821-1b5b80a637f1 ]] {\r\n",
       "}\r\n",
       "comp usage \"e\" as E8  <<(T,blue) part>> [[psysml:e7c3b12c-9054-4127-bd5f-a31eeffec0a6 ]] {\r\n",
       "}\r\n",
       "comp usage \"f\" as E9  <<(T,blue) part>> [[psysml:49b700d2-d9c4-4257-84cb-c65bfac2aa08 ]] {\r\n",
       "}\r\n",
       "comp usage \"g\" as E10  <<(T,blue) part>> [[psysml:20161f3e-4930-46fe-a17d-f79ec2a77aae ]] {\r\n",
       "}\r\n",
       "comp def \"A\" as E11  <<(T,blue) attribute def>> [[psysml:958dabfe-3a24-44d8-9bca-d5e375f56ac2 ]] {\r\n",
       "i: Integer\r\n",
       "x: A\r\n",
       "}\r\n",
       "E5 - -:|> E2 [[psysml:a788c1ae-8502-4aea-9d8b-5a5d865c76a9 ]] \r\n",
       "E6 - -:|> E2 [[psysml:96c9e024-7b1d-4ba9-883a-860d4899a00e ]] \r\n",
       "}\r\n",
       "@enduml\r\n",
       "\n",
       "PlantUML version 1.2020.13(Sat Jun 13 12:26:38 UTC 2020)\n",
       "(EPL source distribution)\n",
       "Java Runtime: OpenJDK Runtime Environment\n",
       "JVM: OpenJDK 64-Bit Server VM\n",
       "Default Encoding: UTF-8\n",
       "Language: en\n",
       "Country: null\n",
       "--></g></svg>"
      ]
     },
     "execution_count": 23,
     "metadata": {},
     "output_type": "execute_result"
    }
   ],
   "source": [
    "%viz --style=\"STDCOLOR\" --view=\"Default\" \"MultiplicityTest\""
   ]
  },
  {
   "cell_type": "code",
   "execution_count": 24,
   "id": "135909f5",
   "metadata": {
    "execution": {
     "iopub.execute_input": "2021-08-04T06:29:51.225310Z",
     "iopub.status.busy": "2021-08-04T06:29:51.224657Z",
     "iopub.status.idle": "2021-08-04T06:29:51.258550Z",
     "shell.execute_reply": "2021-08-04T06:29:51.258353Z"
    }
   },
   "outputs": [
    {
     "data": {
      "image/svg+xml": [
       "<?xml version=\"1.0\" encoding=\"UTF-8\" standalone=\"no\"?><svg xmlns=\"http://www.w3.org/2000/svg\" xmlns:xlink=\"http://www.w3.org/1999/xlink\" contentScriptType=\"application/ecmascript\" contentStyleType=\"text/css\" height=\"247px\" preserveAspectRatio=\"none\" style=\"width:812px;height:247px;\" version=\"1.1\" viewBox=\"0 0 812 247\" width=\"812px\" zoomAndPan=\"magnify\"><defs><filter height=\"300%\" id=\"f16yi2p7vuboy5\" width=\"300%\" x=\"-1\" y=\"-1\"><feGaussianBlur result=\"blurOut\" stdDeviation=\"2.0\"/><feColorMatrix in=\"blurOut\" result=\"blurOut2\" type=\"matrix\" values=\"0 0 0 0 0 0 0 0 0 0 0 0 0 0 0 0 0 0 .4 0\"/><feOffset dx=\"4.0\" dy=\"4.0\" in=\"blurOut2\" result=\"blurOut3\"/><feBlend in=\"SourceGraphic\" in2=\"blurOut3\" mode=\"normal\"/></filter></defs><g><!--MD5=[fbc87193dbaf4d95561dea2c320d4a47]\n",
       "cluster E1--><a href=\"psysml:04657276-263c-446b-8b63-b81fdc3bdb65\" target=\"_top\" title=\"psysml:04657276-263c-446b-8b63-b81fdc3bdb65\" xlink:actuate=\"onRequest\" xlink:href=\"psysml:04657276-263c-446b-8b63-b81fdc3bdb65\" xlink:show=\"new\" xlink:title=\"psysml:04657276-263c-446b-8b63-b81fdc3bdb65\" xlink:type=\"simple\"><polygon fill=\"#FFFFFF\" filter=\"url(#f16yi2p7vuboy5)\" points=\"16,6,140,6,147,28.2969,790,28.2969,790,235,16,235,16,6\" style=\"stroke: #000000; stroke-width: 1.5;\"/><line style=\"stroke: #000000; stroke-width: 1.5;\" x1=\"16\" x2=\"147\" y1=\"28.2969\" y2=\"28.2969\"/><text fill=\"#000000\" font-family=\"sans-serif\" font-size=\"14\" font-weight=\"bold\" lengthAdjust=\"spacingAndGlyphs\" textLength=\"118\" x=\"20\" y=\"20.9951\">MultiplicityTest</text></a><!--MD5=[b4997ac47864f28c2f74865a473b2911]\n",
       "class E2--><a href=\"psysml:68eb8761-ff46-4523-ba58-41a062b6cb94\" target=\"_top\" title=\"psysml:68eb8761-ff46-4523-ba58-41a062b6cb94\" xlink:actuate=\"onRequest\" xlink:href=\"psysml:68eb8761-ff46-4523-ba58-41a062b6cb94\" xlink:show=\"new\" xlink:title=\"psysml:68eb8761-ff46-4523-ba58-41a062b6cb94\" xlink:type=\"simple\"><rect fill=\"#FEFECE\" filter=\"url(#f16yi2p7vuboy5)\" height=\"45.9375\" id=\"E2\" style=\"stroke: #A80036; stroke-width: 1.5;\" width=\"66\" x=\"497\" y=\"173\"/><text fill=\"#000000\" font-family=\"sans-serif\" font-size=\"12\" font-style=\"italic\" lengthAdjust=\"spacingAndGlyphs\" textLength=\"64\" x=\"498\" y=\"189.1387\">«part def»</text><text fill=\"#000000\" font-family=\"sans-serif\" font-size=\"12\" lengthAdjust=\"spacingAndGlyphs\" textLength=\"8\" x=\"526\" y=\"203.1074\">P</text><line style=\"stroke: #A80036; stroke-width: 1.5;\" x1=\"498\" x2=\"562\" y1=\"210.9375\" y2=\"210.9375\"/></a><!--MD5=[09b614a08d8cba4a07c9adeb5e0fee81]\n",
       "class E3--><a href=\"psysml:c2c67205-2617-478d-9839-9411bc2f8511\" target=\"_top\" title=\"psysml:c2c67205-2617-478d-9839-9411bc2f8511\" xlink:actuate=\"onRequest\" xlink:href=\"psysml:c2c67205-2617-478d-9839-9411bc2f8511\" xlink:show=\"new\" xlink:title=\"psysml:c2c67205-2617-478d-9839-9411bc2f8511\" xlink:type=\"simple\"><rect fill=\"#FEFECE\" filter=\"url(#f16yi2p7vuboy5)\" height=\"45.9375\" id=\"E3\" rx=\"10\" ry=\"10\" style=\"stroke: #A80036; stroke-width: 1.5;\" width=\"71\" x=\"702.5\" y=\"54\"/><text fill=\"#000000\" font-family=\"sans-serif\" font-size=\"12\" font-style=\"italic\" lengthAdjust=\"spacingAndGlyphs\" textLength=\"69\" x=\"703.5\" y=\"70.1387\">«attribute»</text><text fill=\"#000000\" font-family=\"sans-serif\" font-size=\"12\" lengthAdjust=\"spacingAndGlyphs\" textLength=\"61\" x=\"707.5\" y=\"84.1074\">n: Integer</text><line style=\"stroke: #A80036; stroke-width: 1.5;\" x1=\"703.5\" x2=\"772.5\" y1=\"91.9375\" y2=\"91.9375\"/></a><!--MD5=[ebbe1d658d1005bcc118a6aa81145e00]\n",
       "class E4--><a href=\"psysml:fbb3215b-67d9-4514-b40f-6d8c33165593\" target=\"_top\" title=\"psysml:fbb3215b-67d9-4514-b40f-6d8c33165593\" xlink:actuate=\"onRequest\" xlink:href=\"psysml:fbb3215b-67d9-4514-b40f-6d8c33165593\" xlink:show=\"new\" xlink:title=\"psysml:fbb3215b-67d9-4514-b40f-6d8c33165593\" xlink:type=\"simple\"><rect fill=\"#FEFECE\" filter=\"url(#f16yi2p7vuboy5)\" height=\"45.9375\" id=\"E4\" rx=\"10\" ry=\"10\" style=\"stroke: #A80036; stroke-width: 1.5;\" width=\"42\" x=\"625\" y=\"54\"/><text fill=\"#000000\" font-family=\"sans-serif\" font-size=\"12\" font-style=\"italic\" lengthAdjust=\"spacingAndGlyphs\" textLength=\"40\" x=\"626\" y=\"70.1387\">«part»</text><text fill=\"#000000\" font-family=\"sans-serif\" font-size=\"12\" lengthAdjust=\"spacingAndGlyphs\" textLength=\"8\" x=\"642\" y=\"84.1074\">a</text><line style=\"stroke: #A80036; stroke-width: 1.5;\" x1=\"626\" x2=\"666\" y1=\"91.9375\" y2=\"91.9375\"/></a><!--MD5=[270fce915f116d4de14055a7c1d9a0f3]\n",
       "class E5--><a href=\"psysml:d1ff5ca6-7417-4682-b046-127881647fcb\" target=\"_top\" title=\"psysml:d1ff5ca6-7417-4682-b046-127881647fcb\" xlink:actuate=\"onRequest\" xlink:href=\"psysml:d1ff5ca6-7417-4682-b046-127881647fcb\" xlink:show=\"new\" xlink:title=\"psysml:d1ff5ca6-7417-4682-b046-127881647fcb\" xlink:type=\"simple\"><rect fill=\"#FEFECE\" filter=\"url(#f16yi2p7vuboy5)\" height=\"45.9375\" id=\"E5\" rx=\"10\" ry=\"10\" style=\"stroke: #A80036; stroke-width: 1.5;\" width=\"42\" x=\"548\" y=\"54\"/><text fill=\"#000000\" font-family=\"sans-serif\" font-size=\"12\" font-style=\"italic\" lengthAdjust=\"spacingAndGlyphs\" textLength=\"40\" x=\"549\" y=\"70.1387\">«part»</text><text fill=\"#000000\" font-family=\"sans-serif\" font-size=\"12\" lengthAdjust=\"spacingAndGlyphs\" textLength=\"24\" x=\"557\" y=\"84.1074\">b: P</text><line style=\"stroke: #A80036; stroke-width: 1.5;\" x1=\"549\" x2=\"589\" y1=\"91.9375\" y2=\"91.9375\"/></a><!--MD5=[60a26617385b1d2d0262a64233df1f8d]\n",
       "class E6--><a href=\"psysml:20d627d7-8daa-4ea4-8c0c-0e67ee5e3616\" target=\"_top\" title=\"psysml:20d627d7-8daa-4ea4-8c0c-0e67ee5e3616\" xlink:actuate=\"onRequest\" xlink:href=\"psysml:20d627d7-8daa-4ea4-8c0c-0e67ee5e3616\" xlink:show=\"new\" xlink:title=\"psysml:20d627d7-8daa-4ea4-8c0c-0e67ee5e3616\" xlink:type=\"simple\"><rect fill=\"#FEFECE\" filter=\"url(#f16yi2p7vuboy5)\" height=\"45.9375\" id=\"E6\" rx=\"10\" ry=\"10\" style=\"stroke: #A80036; stroke-width: 1.5;\" width=\"42\" x=\"471\" y=\"54\"/><text fill=\"#000000\" font-family=\"sans-serif\" font-size=\"12\" font-style=\"italic\" lengthAdjust=\"spacingAndGlyphs\" textLength=\"40\" x=\"472\" y=\"70.1387\">«part»</text><text fill=\"#000000\" font-family=\"sans-serif\" font-size=\"12\" lengthAdjust=\"spacingAndGlyphs\" textLength=\"23\" x=\"480.5\" y=\"84.1074\">c: P</text><line style=\"stroke: #A80036; stroke-width: 1.5;\" x1=\"472\" x2=\"512\" y1=\"91.9375\" y2=\"91.9375\"/></a><!--MD5=[2156ba9850f5573cc1fc38a6a4b2f02b]\n",
       "class E7--><a href=\"psysml:4fc87a01-ac01-48e0-9821-1b5b80a637f1\" target=\"_top\" title=\"psysml:4fc87a01-ac01-48e0-9821-1b5b80a637f1\" xlink:actuate=\"onRequest\" xlink:href=\"psysml:4fc87a01-ac01-48e0-9821-1b5b80a637f1\" xlink:show=\"new\" xlink:title=\"psysml:4fc87a01-ac01-48e0-9821-1b5b80a637f1\" xlink:type=\"simple\"><rect fill=\"#FEFECE\" filter=\"url(#f16yi2p7vuboy5)\" height=\"45.9375\" id=\"E7\" rx=\"10\" ry=\"10\" style=\"stroke: #A80036; stroke-width: 1.5;\" width=\"42\" x=\"394\" y=\"54\"/><text fill=\"#000000\" font-family=\"sans-serif\" font-size=\"12\" font-style=\"italic\" lengthAdjust=\"spacingAndGlyphs\" textLength=\"40\" x=\"395\" y=\"70.1387\">«part»</text><text fill=\"#000000\" font-family=\"sans-serif\" font-size=\"12\" lengthAdjust=\"spacingAndGlyphs\" textLength=\"8\" x=\"411\" y=\"84.1074\">d</text><line style=\"stroke: #A80036; stroke-width: 1.5;\" x1=\"395\" x2=\"435\" y1=\"91.9375\" y2=\"91.9375\"/></a><!--MD5=[b9389687b975829384b498ac4b7476b2]\n",
       "class E8--><a href=\"psysml:e7c3b12c-9054-4127-bd5f-a31eeffec0a6\" target=\"_top\" title=\"psysml:e7c3b12c-9054-4127-bd5f-a31eeffec0a6\" xlink:actuate=\"onRequest\" xlink:href=\"psysml:e7c3b12c-9054-4127-bd5f-a31eeffec0a6\" xlink:show=\"new\" xlink:title=\"psysml:e7c3b12c-9054-4127-bd5f-a31eeffec0a6\" xlink:type=\"simple\"><rect fill=\"#FEFECE\" filter=\"url(#f16yi2p7vuboy5)\" height=\"45.9375\" id=\"E8\" rx=\"10\" ry=\"10\" style=\"stroke: #A80036; stroke-width: 1.5;\" width=\"42\" x=\"317\" y=\"54\"/><text fill=\"#000000\" font-family=\"sans-serif\" font-size=\"12\" font-style=\"italic\" lengthAdjust=\"spacingAndGlyphs\" textLength=\"40\" x=\"318\" y=\"70.1387\">«part»</text><text fill=\"#000000\" font-family=\"sans-serif\" font-size=\"12\" lengthAdjust=\"spacingAndGlyphs\" textLength=\"8\" x=\"334\" y=\"84.1074\">e</text><line style=\"stroke: #A80036; stroke-width: 1.5;\" x1=\"318\" x2=\"358\" y1=\"91.9375\" y2=\"91.9375\"/></a><!--MD5=[fd4143e9d270a159db93a4ea2a975926]\n",
       "class E9--><a href=\"psysml:49b700d2-d9c4-4257-84cb-c65bfac2aa08\" target=\"_top\" title=\"psysml:49b700d2-d9c4-4257-84cb-c65bfac2aa08\" xlink:actuate=\"onRequest\" xlink:href=\"psysml:49b700d2-d9c4-4257-84cb-c65bfac2aa08\" xlink:show=\"new\" xlink:title=\"psysml:49b700d2-d9c4-4257-84cb-c65bfac2aa08\" xlink:type=\"simple\"><rect fill=\"#FEFECE\" filter=\"url(#f16yi2p7vuboy5)\" height=\"45.9375\" id=\"E9\" rx=\"10\" ry=\"10\" style=\"stroke: #A80036; stroke-width: 1.5;\" width=\"42\" x=\"240\" y=\"54\"/><text fill=\"#000000\" font-family=\"sans-serif\" font-size=\"12\" font-style=\"italic\" lengthAdjust=\"spacingAndGlyphs\" textLength=\"40\" x=\"241\" y=\"70.1387\">«part»</text><text fill=\"#000000\" font-family=\"sans-serif\" font-size=\"12\" lengthAdjust=\"spacingAndGlyphs\" textLength=\"4\" x=\"259\" y=\"84.1074\">f</text><line style=\"stroke: #A80036; stroke-width: 1.5;\" x1=\"241\" x2=\"281\" y1=\"91.9375\" y2=\"91.9375\"/></a><!--MD5=[96f4274e9e20536e775497830990834d]\n",
       "class E10--><a href=\"psysml:20161f3e-4930-46fe-a17d-f79ec2a77aae\" target=\"_top\" title=\"psysml:20161f3e-4930-46fe-a17d-f79ec2a77aae\" xlink:actuate=\"onRequest\" xlink:href=\"psysml:20161f3e-4930-46fe-a17d-f79ec2a77aae\" xlink:show=\"new\" xlink:title=\"psysml:20161f3e-4930-46fe-a17d-f79ec2a77aae\" xlink:type=\"simple\"><rect fill=\"#FEFECE\" filter=\"url(#f16yi2p7vuboy5)\" height=\"45.9375\" id=\"E10\" rx=\"10\" ry=\"10\" style=\"stroke: #A80036; stroke-width: 1.5;\" width=\"42\" x=\"163\" y=\"54\"/><text fill=\"#000000\" font-family=\"sans-serif\" font-size=\"12\" font-style=\"italic\" lengthAdjust=\"spacingAndGlyphs\" textLength=\"40\" x=\"164\" y=\"70.1387\">«part»</text><text fill=\"#000000\" font-family=\"sans-serif\" font-size=\"12\" lengthAdjust=\"spacingAndGlyphs\" textLength=\"8\" x=\"180\" y=\"84.1074\">g</text><line style=\"stroke: #A80036; stroke-width: 1.5;\" x1=\"164\" x2=\"204\" y1=\"91.9375\" y2=\"91.9375\"/></a><!--MD5=[1dd1bfd58a279cf63c5f349dbc8fc6a1]\n",
       "class E11--><a href=\"psysml:958dabfe-3a24-44d8-9bca-d5e375f56ac2\" target=\"_top\" title=\"psysml:958dabfe-3a24-44d8-9bca-d5e375f56ac2\" xlink:actuate=\"onRequest\" xlink:href=\"psysml:958dabfe-3a24-44d8-9bca-d5e375f56ac2\" xlink:show=\"new\" xlink:title=\"psysml:958dabfe-3a24-44d8-9bca-d5e375f56ac2\" xlink:type=\"simple\"><rect fill=\"#FEFECE\" filter=\"url(#f16yi2p7vuboy5)\" height=\"71.5469\" id=\"E11\" style=\"stroke: #A80036; stroke-width: 1.5;\" width=\"95\" x=\"32.5\" y=\"41\"/><text fill=\"#000000\" font-family=\"sans-serif\" font-size=\"12\" font-style=\"italic\" lengthAdjust=\"spacingAndGlyphs\" textLength=\"93\" x=\"33.5\" y=\"57.1387\">«attribute def»</text><text fill=\"#000000\" font-family=\"sans-serif\" font-size=\"12\" lengthAdjust=\"spacingAndGlyphs\" textLength=\"8\" x=\"76\" y=\"71.1074\">A</text><line style=\"stroke: #A80036; stroke-width: 1.5;\" x1=\"33.5\" x2=\"126.5\" y1=\"78.9375\" y2=\"78.9375\"/><text fill=\"#000000\" font-family=\"sans-serif\" font-size=\"11\" lengthAdjust=\"spacingAndGlyphs\" textLength=\"51\" x=\"38.5\" y=\"93.1479\">i: Integer</text><text fill=\"#000000\" font-family=\"sans-serif\" font-size=\"11\" lengthAdjust=\"spacingAndGlyphs\" textLength=\"21\" x=\"38.5\" y=\"105.9526\">x: A</text></a><!--MD5=[15ebcb19ae302d9b601edb458606d402]\n",
       "link E5 to E2--><a href=\"psysml:a788c1ae-8502-4aea-9d8b-5a5d865c76a9\" target=\"_top\" title=\"psysml:a788c1ae-8502-4aea-9d8b-5a5d865c76a9\" xlink:actuate=\"onRequest\" xlink:href=\"psysml:a788c1ae-8502-4aea-9d8b-5a5d865c76a9\" xlink:show=\"new\" xlink:title=\"psysml:a788c1ae-8502-4aea-9d8b-5a5d865c76a9\" xlink:type=\"simple\"><path d=\"M561.66,100.01 C556.63,115.11 549.8,135.61 543.76,153.71 \" fill=\"none\" id=\"E5-&gt;E2\" style=\"stroke: #A80036; stroke-width: 1.0;\"/><polygon fill=\"#FFFFFF\" points=\"537.44,172.69,536.7984,152.4517,550.082,156.8729,537.44,172.69\" style=\"stroke: #A80036; stroke-width: 1.0;\"/><ellipse cx=\"540.4961\" cy=\"147.675\" fill=\"#A80036\" rx=\"2\" ry=\"2\" style=\"stroke: #A80036; stroke-width: 1.0;\"/><ellipse cx=\"549.9844\" cy=\"150.833\" fill=\"#A80036\" rx=\"2\" ry=\"2\" style=\"stroke: #A80036; stroke-width: 1.0;\"/></a><!--MD5=[2351f337d6de0f557b50152ba70847b5]\n",
       "link E6 to E2--><a href=\"psysml:96c9e024-7b1d-4ba9-883a-860d4899a00e\" target=\"_top\" title=\"psysml:96c9e024-7b1d-4ba9-883a-860d4899a00e\" xlink:actuate=\"onRequest\" xlink:href=\"psysml:96c9e024-7b1d-4ba9-883a-860d4899a00e\" xlink:show=\"new\" xlink:title=\"psysml:96c9e024-7b1d-4ba9-883a-860d4899a00e\" xlink:type=\"simple\"><path d=\"M499.15,100.01 C504.03,115.03 510.64,135.39 516.49,153.41 \" fill=\"none\" id=\"E6-&gt;E2\" style=\"stroke: #A80036; stroke-width: 1.0;\"/><polygon fill=\"#FFFFFF\" points=\"522.76,172.69,510.2363,156.7791,523.5525,152.4571,522.76,172.69\" style=\"stroke: #A80036; stroke-width: 1.0;\"/><ellipse cx=\"510.379\" cy=\"150.74\" fill=\"#A80036\" rx=\"2\" ry=\"2\" style=\"stroke: #A80036; stroke-width: 1.0;\"/><ellipse cx=\"519.8905\" cy=\"147.6529\" fill=\"#A80036\" rx=\"2\" ry=\"2\" style=\"stroke: #A80036; stroke-width: 1.0;\"/></a><!--MD5=[b33e5fca5ffbf348d20dc2632cb60c79]\n",
       "@startuml\r\n",
       "skinparam wrapWidth 300\r\n",
       "hide circle\r\n",
       "\r\n",
       "package \"MultiplicityTest\" as E1  [[psysml:04657276-263c-446b-8b63-b81fdc3bdb65 ]]  {\r\n",
       "comp def \"P\" as E2  <<(T,blue) part def>> [[psysml:68eb8761-ff46-4523-ba58-41a062b6cb94 ]] {\r\n",
       "}\r\n",
       "comp usage \"n: Integer\" as E3  <<(T,blue) attribute>> [[psysml:c2c67205-2617-478d-9839-9411bc2f8511 ]] {\r\n",
       "}\r\n",
       "comp usage \"a\" as E4  <<(T,blue) part>> [[psysml:fbb3215b-67d9-4514-b40f-6d8c33165593 ]] {\r\n",
       "}\r\n",
       "comp usage \"b: P\" as E5  <<(T,blue) part>> [[psysml:d1ff5ca6-7417-4682-b046-127881647fcb ]] {\r\n",
       "}\r\n",
       "comp usage \"c: P\" as E6  <<(T,blue) part>> [[psysml:20d627d7-8daa-4ea4-8c0c-0e67ee5e3616 ]] {\r\n",
       "}\r\n",
       "comp usage \"d\" as E7  <<(T,blue) part>> [[psysml:4fc87a01-ac01-48e0-9821-1b5b80a637f1 ]] {\r\n",
       "}\r\n",
       "comp usage \"e\" as E8  <<(T,blue) part>> [[psysml:e7c3b12c-9054-4127-bd5f-a31eeffec0a6 ]] {\r\n",
       "}\r\n",
       "comp usage \"f\" as E9  <<(T,blue) part>> [[psysml:49b700d2-d9c4-4257-84cb-c65bfac2aa08 ]] {\r\n",
       "}\r\n",
       "comp usage \"g\" as E10  <<(T,blue) part>> [[psysml:20161f3e-4930-46fe-a17d-f79ec2a77aae ]] {\r\n",
       "}\r\n",
       "comp def \"A\" as E11  <<(T,blue) attribute def>> [[psysml:958dabfe-3a24-44d8-9bca-d5e375f56ac2 ]] {\r\n",
       "i: Integer\r\n",
       "x: A\r\n",
       "}\r\n",
       "E5 - -:|> E2 [[psysml:a788c1ae-8502-4aea-9d8b-5a5d865c76a9 ]] \r\n",
       "E6 - -:|> E2 [[psysml:96c9e024-7b1d-4ba9-883a-860d4899a00e ]] \r\n",
       "}\r\n",
       "@enduml\r\n",
       "\n",
       "PlantUML version 1.2020.13(Sat Jun 13 12:26:38 UTC 2020)\n",
       "(EPL source distribution)\n",
       "Java Runtime: OpenJDK Runtime Environment\n",
       "JVM: OpenJDK 64-Bit Server VM\n",
       "Default Encoding: UTF-8\n",
       "Language: en\n",
       "Country: null\n",
       "--></g></svg>"
      ]
     },
     "execution_count": 24,
     "metadata": {},
     "output_type": "execute_result"
    }
   ],
   "source": [
    "%viz --style=\"STDCOLOR\" --view=\"Tree\" \"MultiplicityTest\""
   ]
  },
  {
   "cell_type": "code",
   "execution_count": 25,
   "id": "00d055c3",
   "metadata": {
    "execution": {
     "iopub.execute_input": "2021-08-04T06:29:51.308648Z",
     "iopub.status.busy": "2021-08-04T06:29:51.308340Z",
     "iopub.status.idle": "2021-08-04T06:29:51.311356Z",
     "shell.execute_reply": "2021-08-04T06:29:51.311169Z"
    }
   },
   "outputs": [
    {
     "data": {
      "image/svg+xml": [
       "<?xml version=\"1.0\" encoding=\"UTF-8\" standalone=\"no\"?><svg xmlns=\"http://www.w3.org/2000/svg\" xmlns:xlink=\"http://www.w3.org/1999/xlink\" contentScriptType=\"application/ecmascript\" contentStyleType=\"text/css\" height=\"12px\" preserveAspectRatio=\"none\" style=\"width:12px;height:12px;\" version=\"1.1\" viewBox=\"0 0 12 12\" width=\"12px\" zoomAndPan=\"magnify\"><defs/><g><!--MD5=[aeeef50f102b80d730deb6443d14f702]\n",
       "@startuml\r\n",
       "skinparam wrapWidth 300\r\n",
       "hide circle\r\n",
       "\r\n",
       "@enduml\r\n",
       "\n",
       "PlantUML version 1.2020.13(Sat Jun 13 12:26:38 UTC 2020)\n",
       "(EPL source distribution)\n",
       "Java Runtime: OpenJDK Runtime Environment\n",
       "JVM: OpenJDK 64-Bit Server VM\n",
       "Default Encoding: UTF-8\n",
       "Language: en\n",
       "Country: null\n",
       "--></g></svg>"
      ]
     },
     "execution_count": 25,
     "metadata": {},
     "output_type": "execute_result"
    }
   ],
   "source": [
    "%viz --style=\"STDCOLOR\" --view=\"State\" \"MultiplicityTest\""
   ]
  },
  {
   "cell_type": "code",
   "execution_count": 26,
   "id": "f8d2c583",
   "metadata": {
    "execution": {
     "iopub.execute_input": "2021-08-04T06:29:51.362399Z",
     "iopub.status.busy": "2021-08-04T06:29:51.361731Z",
     "iopub.status.idle": "2021-08-04T06:29:51.392077Z",
     "shell.execute_reply": "2021-08-04T06:29:51.391703Z"
    }
   },
   "outputs": [
    {
     "data": {
      "image/svg+xml": [
       "<?xml version=\"1.0\" encoding=\"UTF-8\" standalone=\"no\"?><svg xmlns=\"http://www.w3.org/2000/svg\" xmlns:xlink=\"http://www.w3.org/1999/xlink\" contentScriptType=\"application/ecmascript\" contentStyleType=\"text/css\" height=\"115px\" preserveAspectRatio=\"none\" style=\"width:979px;height:115px;\" version=\"1.1\" viewBox=\"0 0 979 115\" width=\"979px\" zoomAndPan=\"magnify\"><defs><filter height=\"300%\" id=\"f1tu056e5vpre\" width=\"300%\" x=\"-1\" y=\"-1\"><feGaussianBlur result=\"blurOut\" stdDeviation=\"2.0\"/><feColorMatrix in=\"blurOut\" result=\"blurOut2\" type=\"matrix\" values=\"0 0 0 0 0 0 0 0 0 0 0 0 0 0 0 0 0 0 .4 0\"/><feOffset dx=\"4.0\" dy=\"4.0\" in=\"blurOut2\" result=\"blurOut3\"/><feBlend in=\"SourceGraphic\" in2=\"blurOut3\" mode=\"normal\"/></filter></defs><g><!--MD5=[fbc87193dbaf4d95561dea2c320d4a47]\n",
       "cluster E1--><a href=\"psysml:04657276-263c-446b-8b63-b81fdc3bdb65\" target=\"_top\" title=\"psysml:04657276-263c-446b-8b63-b81fdc3bdb65\" xlink:actuate=\"onRequest\" xlink:href=\"psysml:04657276-263c-446b-8b63-b81fdc3bdb65\" xlink:show=\"new\" xlink:title=\"psysml:04657276-263c-446b-8b63-b81fdc3bdb65\" xlink:type=\"simple\"><polygon fill=\"#FFFFFF\" filter=\"url(#f1tu056e5vpre)\" points=\"16,6,140,6,147,28.2969,957,28.2969,957,103,16,103,16,6\" style=\"stroke: #000000; stroke-width: 1.5;\"/><line style=\"stroke: #000000; stroke-width: 1.5;\" x1=\"16\" x2=\"147\" y1=\"28.2969\" y2=\"28.2969\"/><text fill=\"#000000\" font-family=\"sans-serif\" font-size=\"14\" font-weight=\"bold\" lengthAdjust=\"spacingAndGlyphs\" textLength=\"118\" x=\"20\" y=\"20.9951\">MultiplicityTest</text></a><!--MD5=[09b614a08d8cba4a07c9adeb5e0fee81]\n",
       "class E3--><a href=\"psysml:c2c67205-2617-478d-9839-9411bc2f8511\" target=\"_top\" title=\"psysml:c2c67205-2617-478d-9839-9411bc2f8511\" xlink:actuate=\"onRequest\" xlink:href=\"psysml:c2c67205-2617-478d-9839-9411bc2f8511\" xlink:show=\"new\" xlink:title=\"psysml:c2c67205-2617-478d-9839-9411bc2f8511\" xlink:type=\"simple\"><rect fill=\"#FEFECE\" filter=\"url(#f1tu056e5vpre)\" height=\"45.9375\" id=\"E3\" rx=\"10\" ry=\"10\" style=\"stroke: #A80036; stroke-width: 1.5;\" width=\"71\" x=\"869.5\" y=\"41\"/><text fill=\"#000000\" font-family=\"sans-serif\" font-size=\"12\" font-style=\"italic\" lengthAdjust=\"spacingAndGlyphs\" textLength=\"69\" x=\"870.5\" y=\"57.1387\">«attribute»</text><text fill=\"#000000\" font-family=\"sans-serif\" font-size=\"12\" lengthAdjust=\"spacingAndGlyphs\" textLength=\"61\" x=\"874.5\" y=\"71.1074\">n: Integer</text><line style=\"stroke: #A80036; stroke-width: 1.5;\" x1=\"870.5\" x2=\"939.5\" y1=\"78.9375\" y2=\"78.9375\"/></a><g id=\"E1.E11\"><a href=\"psysml:958dabfe-3a24-44d8-9bca-d5e375f56ac2\" target=\"_top\" title=\"psysml:958dabfe-3a24-44d8-9bca-d5e375f56ac2\" xlink:actuate=\"onRequest\" xlink:href=\"psysml:958dabfe-3a24-44d8-9bca-d5e375f56ac2\" xlink:show=\"new\" xlink:title=\"psysml:958dabfe-3a24-44d8-9bca-d5e375f56ac2\" xlink:type=\"simple\"><rect fill=\"#FEFECE\" filter=\"url(#f1tu056e5vpre)\" height=\"42.9375\" id=\"E11\" style=\"stroke: #A80036; stroke-width: 1.5;\" width=\"100\" x=\"734\" y=\"42.5\"/><text fill=\"#000000\" font-family=\"sans-serif\" font-size=\"12\" font-style=\"italic\" lengthAdjust=\"spacingAndGlyphs\" textLength=\"93\" x=\"737.5\" y=\"58.6387\">«attribute def»</text><text fill=\"#000000\" font-family=\"sans-serif\" font-size=\"12\" lengthAdjust=\"spacingAndGlyphs\" textLength=\"8\" x=\"780\" y=\"72.6074\">A</text></a></g><g id=\"E1.E2\"><a href=\"psysml:68eb8761-ff46-4523-ba58-41a062b6cb94\" target=\"_top\" title=\"psysml:68eb8761-ff46-4523-ba58-41a062b6cb94\" xlink:actuate=\"onRequest\" xlink:href=\"psysml:68eb8761-ff46-4523-ba58-41a062b6cb94\" xlink:show=\"new\" xlink:title=\"psysml:68eb8761-ff46-4523-ba58-41a062b6cb94\" xlink:type=\"simple\"><rect fill=\"#FEFECE\" filter=\"url(#f1tu056e5vpre)\" height=\"42.9375\" id=\"E2\" style=\"stroke: #A80036; stroke-width: 1.5;\" width=\"71\" x=\"627.5\" y=\"42.5\"/><text fill=\"#000000\" font-family=\"sans-serif\" font-size=\"12\" font-style=\"italic\" lengthAdjust=\"spacingAndGlyphs\" textLength=\"64\" x=\"631\" y=\"58.6387\">«part def»</text><text fill=\"#000000\" font-family=\"sans-serif\" font-size=\"12\" lengthAdjust=\"spacingAndGlyphs\" textLength=\"8\" x=\"659\" y=\"72.6074\">P</text></a></g><g id=\"E1.E4\"><a href=\"psysml:fbb3215b-67d9-4514-b40f-6d8c33165593\" target=\"_top\" title=\"psysml:fbb3215b-67d9-4514-b40f-6d8c33165593\" xlink:actuate=\"onRequest\" xlink:href=\"psysml:fbb3215b-67d9-4514-b40f-6d8c33165593\" xlink:show=\"new\" xlink:title=\"psysml:fbb3215b-67d9-4514-b40f-6d8c33165593\" xlink:type=\"simple\"><rect fill=\"#FEFECE\" filter=\"url(#f1tu056e5vpre)\" height=\"40\" id=\"E4\" rx=\"10\" ry=\"10\" style=\"stroke: #A80036; stroke-width: 1.5;\" width=\"50\" x=\"542\" y=\"44\"/><text fill=\"#000000\" font-family=\"sans-serif\" font-size=\"12\" lengthAdjust=\"spacingAndGlyphs\" textLength=\"8\" x=\"563\" y=\"60.1387\">a</text></a></g><g id=\"E1.E5\"><a href=\"psysml:d1ff5ca6-7417-4682-b046-127881647fcb\" target=\"_top\" title=\"psysml:d1ff5ca6-7417-4682-b046-127881647fcb\" xlink:actuate=\"onRequest\" xlink:href=\"psysml:d1ff5ca6-7417-4682-b046-127881647fcb\" xlink:show=\"new\" xlink:title=\"psysml:d1ff5ca6-7417-4682-b046-127881647fcb\" xlink:type=\"simple\"><rect fill=\"#FEFECE\" filter=\"url(#f1tu056e5vpre)\" height=\"40\" id=\"E5\" rx=\"10\" ry=\"10\" style=\"stroke: #A80036; stroke-width: 1.5;\" width=\"50\" x=\"457\" y=\"44\"/><text fill=\"#000000\" font-family=\"sans-serif\" font-size=\"12\" lengthAdjust=\"spacingAndGlyphs\" textLength=\"24\" x=\"470\" y=\"60.1387\">b: P</text></a></g><g id=\"E1.E6\"><a href=\"psysml:20d627d7-8daa-4ea4-8c0c-0e67ee5e3616\" target=\"_top\" title=\"psysml:20d627d7-8daa-4ea4-8c0c-0e67ee5e3616\" xlink:actuate=\"onRequest\" xlink:href=\"psysml:20d627d7-8daa-4ea4-8c0c-0e67ee5e3616\" xlink:show=\"new\" xlink:title=\"psysml:20d627d7-8daa-4ea4-8c0c-0e67ee5e3616\" xlink:type=\"simple\"><rect fill=\"#FEFECE\" filter=\"url(#f1tu056e5vpre)\" height=\"40\" id=\"E6\" rx=\"10\" ry=\"10\" style=\"stroke: #A80036; stroke-width: 1.5;\" width=\"50\" x=\"372\" y=\"44\"/><text fill=\"#000000\" font-family=\"sans-serif\" font-size=\"12\" lengthAdjust=\"spacingAndGlyphs\" textLength=\"23\" x=\"385.5\" y=\"60.1387\">c: P</text></a></g><g id=\"E1.E7\"><a href=\"psysml:4fc87a01-ac01-48e0-9821-1b5b80a637f1\" target=\"_top\" title=\"psysml:4fc87a01-ac01-48e0-9821-1b5b80a637f1\" xlink:actuate=\"onRequest\" xlink:href=\"psysml:4fc87a01-ac01-48e0-9821-1b5b80a637f1\" xlink:show=\"new\" xlink:title=\"psysml:4fc87a01-ac01-48e0-9821-1b5b80a637f1\" xlink:type=\"simple\"><rect fill=\"#FEFECE\" filter=\"url(#f1tu056e5vpre)\" height=\"40\" id=\"E7\" rx=\"10\" ry=\"10\" style=\"stroke: #A80036; stroke-width: 1.5;\" width=\"50\" x=\"287\" y=\"44\"/><text fill=\"#000000\" font-family=\"sans-serif\" font-size=\"12\" lengthAdjust=\"spacingAndGlyphs\" textLength=\"8\" x=\"308\" y=\"60.1387\">d</text></a></g><g id=\"E1.E8\"><a href=\"psysml:e7c3b12c-9054-4127-bd5f-a31eeffec0a6\" target=\"_top\" title=\"psysml:e7c3b12c-9054-4127-bd5f-a31eeffec0a6\" xlink:actuate=\"onRequest\" xlink:href=\"psysml:e7c3b12c-9054-4127-bd5f-a31eeffec0a6\" xlink:show=\"new\" xlink:title=\"psysml:e7c3b12c-9054-4127-bd5f-a31eeffec0a6\" xlink:type=\"simple\"><rect fill=\"#FEFECE\" filter=\"url(#f1tu056e5vpre)\" height=\"40\" id=\"E8\" rx=\"10\" ry=\"10\" style=\"stroke: #A80036; stroke-width: 1.5;\" width=\"50\" x=\"202\" y=\"44\"/><text fill=\"#000000\" font-family=\"sans-serif\" font-size=\"12\" lengthAdjust=\"spacingAndGlyphs\" textLength=\"8\" x=\"223\" y=\"60.1387\">e</text></a></g><g id=\"E1.E9\"><a href=\"psysml:49b700d2-d9c4-4257-84cb-c65bfac2aa08\" target=\"_top\" title=\"psysml:49b700d2-d9c4-4257-84cb-c65bfac2aa08\" xlink:actuate=\"onRequest\" xlink:href=\"psysml:49b700d2-d9c4-4257-84cb-c65bfac2aa08\" xlink:show=\"new\" xlink:title=\"psysml:49b700d2-d9c4-4257-84cb-c65bfac2aa08\" xlink:type=\"simple\"><rect fill=\"#FEFECE\" filter=\"url(#f1tu056e5vpre)\" height=\"40\" id=\"E9\" rx=\"10\" ry=\"10\" style=\"stroke: #A80036; stroke-width: 1.5;\" width=\"50\" x=\"117\" y=\"44\"/><text fill=\"#000000\" font-family=\"sans-serif\" font-size=\"12\" lengthAdjust=\"spacingAndGlyphs\" textLength=\"4\" x=\"140\" y=\"60.1387\">f</text></a></g><g id=\"E1.E10\"><a href=\"psysml:20161f3e-4930-46fe-a17d-f79ec2a77aae\" target=\"_top\" title=\"psysml:20161f3e-4930-46fe-a17d-f79ec2a77aae\" xlink:actuate=\"onRequest\" xlink:href=\"psysml:20161f3e-4930-46fe-a17d-f79ec2a77aae\" xlink:show=\"new\" xlink:title=\"psysml:20161f3e-4930-46fe-a17d-f79ec2a77aae\" xlink:type=\"simple\"><rect fill=\"#FEFECE\" filter=\"url(#f1tu056e5vpre)\" height=\"40\" id=\"E10\" rx=\"10\" ry=\"10\" style=\"stroke: #A80036; stroke-width: 1.5;\" width=\"50\" x=\"32\" y=\"44\"/><text fill=\"#000000\" font-family=\"sans-serif\" font-size=\"12\" lengthAdjust=\"spacingAndGlyphs\" textLength=\"8\" x=\"53\" y=\"60.1387\">g</text></a></g><!--MD5=[19b8ae3cf5595792fd4c284fddb8a1ba]\n",
       "@startuml\r\n",
       "skinparam ranksep 10\r\n",
       "skinparam rectangle {\r\n",
       " backgroundColor<<block>> LightGreen\r\n",
       "}\r\n",
       "skinparam wrapWidth 300\r\n",
       "hide circle\r\n",
       "\r\n",
       "package \"MultiplicityTest\" as E1  [[psysml:04657276-263c-446b-8b63-b81fdc3bdb65 ]]  {\r\n",
       "rec def \"P\" as E2  <<(T,blue) part def>> [[psysml:68eb8761-ff46-4523-ba58-41a062b6cb94 ]] {\r\n",
       "}\r\n",
       "comp usage \"n: Integer\" as E3  <<(T,blue) attribute>> [[psysml:c2c67205-2617-478d-9839-9411bc2f8511 ]] {\r\n",
       "}\r\n",
       "rec usage \"a\" as E4  [[psysml:fbb3215b-67d9-4514-b40f-6d8c33165593 ]] {\r\n",
       "}\r\n",
       "rec usage \"b: P\" as E5  [[psysml:d1ff5ca6-7417-4682-b046-127881647fcb ]] {\r\n",
       "}\r\n",
       "rec usage \"c: P\" as E6  [[psysml:20d627d7-8daa-4ea4-8c0c-0e67ee5e3616 ]] {\r\n",
       "}\r\n",
       "rec usage \"d\" as E7  [[psysml:4fc87a01-ac01-48e0-9821-1b5b80a637f1 ]] {\r\n",
       "}\r\n",
       "rec usage \"e\" as E8  [[psysml:e7c3b12c-9054-4127-bd5f-a31eeffec0a6 ]] {\r\n",
       "}\r\n",
       "rec usage \"f\" as E9  [[psysml:49b700d2-d9c4-4257-84cb-c65bfac2aa08 ]] {\r\n",
       "}\r\n",
       "rec usage \"g\" as E10  [[psysml:20161f3e-4930-46fe-a17d-f79ec2a77aae ]] {\r\n",
       "}\r\n",
       "def \"A\" as E11  <<(T,blue) attribute def>> [[psysml:958dabfe-3a24-44d8-9bca-d5e375f56ac2 ]] \r\n",
       "}\r\n",
       "@enduml\r\n",
       "\n",
       "PlantUML version 1.2020.13(Sat Jun 13 12:26:38 UTC 2020)\n",
       "(EPL source distribution)\n",
       "Java Runtime: OpenJDK Runtime Environment\n",
       "JVM: OpenJDK 64-Bit Server VM\n",
       "Default Encoding: UTF-8\n",
       "Language: en\n",
       "Country: null\n",
       "--></g></svg>"
      ]
     },
     "execution_count": 26,
     "metadata": {},
     "output_type": "execute_result"
    }
   ],
   "source": [
    "%viz --style=\"STDCOLOR\" --view=\"Interconnection\" \"MultiplicityTest\""
   ]
  },
  {
   "cell_type": "code",
   "execution_count": 27,
   "id": "593a1ab1",
   "metadata": {
    "execution": {
     "iopub.execute_input": "2021-08-04T06:29:51.442262Z",
     "iopub.status.busy": "2021-08-04T06:29:51.441624Z",
     "iopub.status.idle": "2021-08-04T06:29:51.446479Z",
     "shell.execute_reply": "2021-08-04T06:29:51.446804Z"
    }
   },
   "outputs": [
    {
     "data": {
      "image/svg+xml": [
       "<?xml version=\"1.0\" encoding=\"UTF-8\" standalone=\"no\"?><svg xmlns=\"http://www.w3.org/2000/svg\" xmlns:xlink=\"http://www.w3.org/1999/xlink\" contentScriptType=\"application/ecmascript\" contentStyleType=\"text/css\" height=\"12px\" preserveAspectRatio=\"none\" style=\"width:12px;height:12px;\" version=\"1.1\" viewBox=\"0 0 12 12\" width=\"12px\" zoomAndPan=\"magnify\"><defs/><g><!--MD5=[9863325348a96a77dacc89509d8ee65e]\n",
       "@startuml\r\n",
       "skinparam ranksep 8\r\n",
       "skinparam wrapWidth 300\r\n",
       "hide circle\r\n",
       "\r\n",
       "@enduml\r\n",
       "\n",
       "PlantUML version 1.2020.13(Sat Jun 13 12:26:38 UTC 2020)\n",
       "(EPL source distribution)\n",
       "Java Runtime: OpenJDK Runtime Environment\n",
       "JVM: OpenJDK 64-Bit Server VM\n",
       "Default Encoding: UTF-8\n",
       "Language: en\n",
       "Country: null\n",
       "--></g></svg>"
      ]
     },
     "execution_count": 27,
     "metadata": {},
     "output_type": "execute_result"
    }
   ],
   "source": [
    "%viz --style=\"STDCOLOR\" --view=\"Action\" \"MultiplicityTest\""
   ]
  },
  {
   "cell_type": "code",
   "execution_count": 28,
   "id": "2fb8cf23",
   "metadata": {
    "execution": {
     "iopub.execute_input": "2021-08-04T06:29:51.497596Z",
     "iopub.status.busy": "2021-08-04T06:29:51.497133Z",
     "iopub.status.idle": "2021-08-04T06:29:51.545582Z",
     "shell.execute_reply": "2021-08-04T06:29:51.545208Z"
    }
   },
   "outputs": [
    {
     "data": {
      "image/svg+xml": [
       "<?xml version=\"1.0\" encoding=\"UTF-8\" standalone=\"no\"?><svg xmlns=\"http://www.w3.org/2000/svg\" xmlns:xlink=\"http://www.w3.org/1999/xlink\" contentScriptType=\"application/ecmascript\" contentStyleType=\"text/css\" height=\"247px\" preserveAspectRatio=\"none\" style=\"width:812px;height:247px;\" version=\"1.1\" viewBox=\"0 0 812 247\" width=\"812px\" zoomAndPan=\"magnify\"><defs><filter height=\"300%\" id=\"f16yi2p7vuboy5\" width=\"300%\" x=\"-1\" y=\"-1\"><feGaussianBlur result=\"blurOut\" stdDeviation=\"2.0\"/><feColorMatrix in=\"blurOut\" result=\"blurOut2\" type=\"matrix\" values=\"0 0 0 0 0 0 0 0 0 0 0 0 0 0 0 0 0 0 .4 0\"/><feOffset dx=\"4.0\" dy=\"4.0\" in=\"blurOut2\" result=\"blurOut3\"/><feBlend in=\"SourceGraphic\" in2=\"blurOut3\" mode=\"normal\"/></filter></defs><g><!--MD5=[fbc87193dbaf4d95561dea2c320d4a47]\n",
       "cluster E1--><a href=\"psysml:04657276-263c-446b-8b63-b81fdc3bdb65\" target=\"_top\" title=\"psysml:04657276-263c-446b-8b63-b81fdc3bdb65\" xlink:actuate=\"onRequest\" xlink:href=\"psysml:04657276-263c-446b-8b63-b81fdc3bdb65\" xlink:show=\"new\" xlink:title=\"psysml:04657276-263c-446b-8b63-b81fdc3bdb65\" xlink:type=\"simple\"><polygon fill=\"#FFFFFF\" filter=\"url(#f16yi2p7vuboy5)\" points=\"16,6,140,6,147,28.2969,790,28.2969,790,235,16,235,16,6\" style=\"stroke: #000000; stroke-width: 1.5;\"/><line style=\"stroke: #000000; stroke-width: 1.5;\" x1=\"16\" x2=\"147\" y1=\"28.2969\" y2=\"28.2969\"/><text fill=\"#000000\" font-family=\"sans-serif\" font-size=\"14\" font-weight=\"bold\" lengthAdjust=\"spacingAndGlyphs\" textLength=\"118\" x=\"20\" y=\"20.9951\">MultiplicityTest</text></a><!--MD5=[b4997ac47864f28c2f74865a473b2911]\n",
       "class E2--><a href=\"psysml:68eb8761-ff46-4523-ba58-41a062b6cb94\" target=\"_top\" title=\"psysml:68eb8761-ff46-4523-ba58-41a062b6cb94\" xlink:actuate=\"onRequest\" xlink:href=\"psysml:68eb8761-ff46-4523-ba58-41a062b6cb94\" xlink:show=\"new\" xlink:title=\"psysml:68eb8761-ff46-4523-ba58-41a062b6cb94\" xlink:type=\"simple\"><rect fill=\"#FEFECE\" filter=\"url(#f16yi2p7vuboy5)\" height=\"45.9375\" id=\"E2\" style=\"stroke: #A80036; stroke-width: 1.5;\" width=\"66\" x=\"497\" y=\"173\"/><text fill=\"#000000\" font-family=\"sans-serif\" font-size=\"12\" font-style=\"italic\" lengthAdjust=\"spacingAndGlyphs\" textLength=\"64\" x=\"498\" y=\"189.1387\">«part def»</text><text fill=\"#000000\" font-family=\"sans-serif\" font-size=\"12\" lengthAdjust=\"spacingAndGlyphs\" textLength=\"8\" x=\"526\" y=\"203.1074\">P</text><line style=\"stroke: #A80036; stroke-width: 1.5;\" x1=\"498\" x2=\"562\" y1=\"210.9375\" y2=\"210.9375\"/></a><!--MD5=[09b614a08d8cba4a07c9adeb5e0fee81]\n",
       "class E3--><a href=\"psysml:c2c67205-2617-478d-9839-9411bc2f8511\" target=\"_top\" title=\"psysml:c2c67205-2617-478d-9839-9411bc2f8511\" xlink:actuate=\"onRequest\" xlink:href=\"psysml:c2c67205-2617-478d-9839-9411bc2f8511\" xlink:show=\"new\" xlink:title=\"psysml:c2c67205-2617-478d-9839-9411bc2f8511\" xlink:type=\"simple\"><rect fill=\"#FEFECE\" filter=\"url(#f16yi2p7vuboy5)\" height=\"45.9375\" id=\"E3\" rx=\"10\" ry=\"10\" style=\"stroke: #A80036; stroke-width: 1.5;\" width=\"71\" x=\"702.5\" y=\"54\"/><text fill=\"#000000\" font-family=\"sans-serif\" font-size=\"12\" font-style=\"italic\" lengthAdjust=\"spacingAndGlyphs\" textLength=\"69\" x=\"703.5\" y=\"70.1387\">«attribute»</text><text fill=\"#000000\" font-family=\"sans-serif\" font-size=\"12\" lengthAdjust=\"spacingAndGlyphs\" textLength=\"61\" x=\"707.5\" y=\"84.1074\">n: Integer</text><line style=\"stroke: #A80036; stroke-width: 1.5;\" x1=\"703.5\" x2=\"772.5\" y1=\"91.9375\" y2=\"91.9375\"/></a><!--MD5=[ebbe1d658d1005bcc118a6aa81145e00]\n",
       "class E4--><a href=\"psysml:fbb3215b-67d9-4514-b40f-6d8c33165593\" target=\"_top\" title=\"psysml:fbb3215b-67d9-4514-b40f-6d8c33165593\" xlink:actuate=\"onRequest\" xlink:href=\"psysml:fbb3215b-67d9-4514-b40f-6d8c33165593\" xlink:show=\"new\" xlink:title=\"psysml:fbb3215b-67d9-4514-b40f-6d8c33165593\" xlink:type=\"simple\"><rect fill=\"#FEFECE\" filter=\"url(#f16yi2p7vuboy5)\" height=\"45.9375\" id=\"E4\" rx=\"10\" ry=\"10\" style=\"stroke: #A80036; stroke-width: 1.5;\" width=\"42\" x=\"625\" y=\"54\"/><text fill=\"#000000\" font-family=\"sans-serif\" font-size=\"12\" font-style=\"italic\" lengthAdjust=\"spacingAndGlyphs\" textLength=\"40\" x=\"626\" y=\"70.1387\">«part»</text><text fill=\"#000000\" font-family=\"sans-serif\" font-size=\"12\" lengthAdjust=\"spacingAndGlyphs\" textLength=\"8\" x=\"642\" y=\"84.1074\">a</text><line style=\"stroke: #A80036; stroke-width: 1.5;\" x1=\"626\" x2=\"666\" y1=\"91.9375\" y2=\"91.9375\"/></a><!--MD5=[270fce915f116d4de14055a7c1d9a0f3]\n",
       "class E5--><a href=\"psysml:d1ff5ca6-7417-4682-b046-127881647fcb\" target=\"_top\" title=\"psysml:d1ff5ca6-7417-4682-b046-127881647fcb\" xlink:actuate=\"onRequest\" xlink:href=\"psysml:d1ff5ca6-7417-4682-b046-127881647fcb\" xlink:show=\"new\" xlink:title=\"psysml:d1ff5ca6-7417-4682-b046-127881647fcb\" xlink:type=\"simple\"><rect fill=\"#FEFECE\" filter=\"url(#f16yi2p7vuboy5)\" height=\"45.9375\" id=\"E5\" rx=\"10\" ry=\"10\" style=\"stroke: #A80036; stroke-width: 1.5;\" width=\"42\" x=\"548\" y=\"54\"/><text fill=\"#000000\" font-family=\"sans-serif\" font-size=\"12\" font-style=\"italic\" lengthAdjust=\"spacingAndGlyphs\" textLength=\"40\" x=\"549\" y=\"70.1387\">«part»</text><text fill=\"#000000\" font-family=\"sans-serif\" font-size=\"12\" lengthAdjust=\"spacingAndGlyphs\" textLength=\"24\" x=\"557\" y=\"84.1074\">b: P</text><line style=\"stroke: #A80036; stroke-width: 1.5;\" x1=\"549\" x2=\"589\" y1=\"91.9375\" y2=\"91.9375\"/></a><!--MD5=[60a26617385b1d2d0262a64233df1f8d]\n",
       "class E6--><a href=\"psysml:20d627d7-8daa-4ea4-8c0c-0e67ee5e3616\" target=\"_top\" title=\"psysml:20d627d7-8daa-4ea4-8c0c-0e67ee5e3616\" xlink:actuate=\"onRequest\" xlink:href=\"psysml:20d627d7-8daa-4ea4-8c0c-0e67ee5e3616\" xlink:show=\"new\" xlink:title=\"psysml:20d627d7-8daa-4ea4-8c0c-0e67ee5e3616\" xlink:type=\"simple\"><rect fill=\"#FEFECE\" filter=\"url(#f16yi2p7vuboy5)\" height=\"45.9375\" id=\"E6\" rx=\"10\" ry=\"10\" style=\"stroke: #A80036; stroke-width: 1.5;\" width=\"42\" x=\"471\" y=\"54\"/><text fill=\"#000000\" font-family=\"sans-serif\" font-size=\"12\" font-style=\"italic\" lengthAdjust=\"spacingAndGlyphs\" textLength=\"40\" x=\"472\" y=\"70.1387\">«part»</text><text fill=\"#000000\" font-family=\"sans-serif\" font-size=\"12\" lengthAdjust=\"spacingAndGlyphs\" textLength=\"23\" x=\"480.5\" y=\"84.1074\">c: P</text><line style=\"stroke: #A80036; stroke-width: 1.5;\" x1=\"472\" x2=\"512\" y1=\"91.9375\" y2=\"91.9375\"/></a><!--MD5=[2156ba9850f5573cc1fc38a6a4b2f02b]\n",
       "class E7--><a href=\"psysml:4fc87a01-ac01-48e0-9821-1b5b80a637f1\" target=\"_top\" title=\"psysml:4fc87a01-ac01-48e0-9821-1b5b80a637f1\" xlink:actuate=\"onRequest\" xlink:href=\"psysml:4fc87a01-ac01-48e0-9821-1b5b80a637f1\" xlink:show=\"new\" xlink:title=\"psysml:4fc87a01-ac01-48e0-9821-1b5b80a637f1\" xlink:type=\"simple\"><rect fill=\"#FEFECE\" filter=\"url(#f16yi2p7vuboy5)\" height=\"45.9375\" id=\"E7\" rx=\"10\" ry=\"10\" style=\"stroke: #A80036; stroke-width: 1.5;\" width=\"42\" x=\"394\" y=\"54\"/><text fill=\"#000000\" font-family=\"sans-serif\" font-size=\"12\" font-style=\"italic\" lengthAdjust=\"spacingAndGlyphs\" textLength=\"40\" x=\"395\" y=\"70.1387\">«part»</text><text fill=\"#000000\" font-family=\"sans-serif\" font-size=\"12\" lengthAdjust=\"spacingAndGlyphs\" textLength=\"8\" x=\"411\" y=\"84.1074\">d</text><line style=\"stroke: #A80036; stroke-width: 1.5;\" x1=\"395\" x2=\"435\" y1=\"91.9375\" y2=\"91.9375\"/></a><!--MD5=[b9389687b975829384b498ac4b7476b2]\n",
       "class E8--><a href=\"psysml:e7c3b12c-9054-4127-bd5f-a31eeffec0a6\" target=\"_top\" title=\"psysml:e7c3b12c-9054-4127-bd5f-a31eeffec0a6\" xlink:actuate=\"onRequest\" xlink:href=\"psysml:e7c3b12c-9054-4127-bd5f-a31eeffec0a6\" xlink:show=\"new\" xlink:title=\"psysml:e7c3b12c-9054-4127-bd5f-a31eeffec0a6\" xlink:type=\"simple\"><rect fill=\"#FEFECE\" filter=\"url(#f16yi2p7vuboy5)\" height=\"45.9375\" id=\"E8\" rx=\"10\" ry=\"10\" style=\"stroke: #A80036; stroke-width: 1.5;\" width=\"42\" x=\"317\" y=\"54\"/><text fill=\"#000000\" font-family=\"sans-serif\" font-size=\"12\" font-style=\"italic\" lengthAdjust=\"spacingAndGlyphs\" textLength=\"40\" x=\"318\" y=\"70.1387\">«part»</text><text fill=\"#000000\" font-family=\"sans-serif\" font-size=\"12\" lengthAdjust=\"spacingAndGlyphs\" textLength=\"8\" x=\"334\" y=\"84.1074\">e</text><line style=\"stroke: #A80036; stroke-width: 1.5;\" x1=\"318\" x2=\"358\" y1=\"91.9375\" y2=\"91.9375\"/></a><!--MD5=[fd4143e9d270a159db93a4ea2a975926]\n",
       "class E9--><a href=\"psysml:49b700d2-d9c4-4257-84cb-c65bfac2aa08\" target=\"_top\" title=\"psysml:49b700d2-d9c4-4257-84cb-c65bfac2aa08\" xlink:actuate=\"onRequest\" xlink:href=\"psysml:49b700d2-d9c4-4257-84cb-c65bfac2aa08\" xlink:show=\"new\" xlink:title=\"psysml:49b700d2-d9c4-4257-84cb-c65bfac2aa08\" xlink:type=\"simple\"><rect fill=\"#FEFECE\" filter=\"url(#f16yi2p7vuboy5)\" height=\"45.9375\" id=\"E9\" rx=\"10\" ry=\"10\" style=\"stroke: #A80036; stroke-width: 1.5;\" width=\"42\" x=\"240\" y=\"54\"/><text fill=\"#000000\" font-family=\"sans-serif\" font-size=\"12\" font-style=\"italic\" lengthAdjust=\"spacingAndGlyphs\" textLength=\"40\" x=\"241\" y=\"70.1387\">«part»</text><text fill=\"#000000\" font-family=\"sans-serif\" font-size=\"12\" lengthAdjust=\"spacingAndGlyphs\" textLength=\"4\" x=\"259\" y=\"84.1074\">f</text><line style=\"stroke: #A80036; stroke-width: 1.5;\" x1=\"241\" x2=\"281\" y1=\"91.9375\" y2=\"91.9375\"/></a><!--MD5=[96f4274e9e20536e775497830990834d]\n",
       "class E10--><a href=\"psysml:20161f3e-4930-46fe-a17d-f79ec2a77aae\" target=\"_top\" title=\"psysml:20161f3e-4930-46fe-a17d-f79ec2a77aae\" xlink:actuate=\"onRequest\" xlink:href=\"psysml:20161f3e-4930-46fe-a17d-f79ec2a77aae\" xlink:show=\"new\" xlink:title=\"psysml:20161f3e-4930-46fe-a17d-f79ec2a77aae\" xlink:type=\"simple\"><rect fill=\"#FEFECE\" filter=\"url(#f16yi2p7vuboy5)\" height=\"45.9375\" id=\"E10\" rx=\"10\" ry=\"10\" style=\"stroke: #A80036; stroke-width: 1.5;\" width=\"42\" x=\"163\" y=\"54\"/><text fill=\"#000000\" font-family=\"sans-serif\" font-size=\"12\" font-style=\"italic\" lengthAdjust=\"spacingAndGlyphs\" textLength=\"40\" x=\"164\" y=\"70.1387\">«part»</text><text fill=\"#000000\" font-family=\"sans-serif\" font-size=\"12\" lengthAdjust=\"spacingAndGlyphs\" textLength=\"8\" x=\"180\" y=\"84.1074\">g</text><line style=\"stroke: #A80036; stroke-width: 1.5;\" x1=\"164\" x2=\"204\" y1=\"91.9375\" y2=\"91.9375\"/></a><!--MD5=[1dd1bfd58a279cf63c5f349dbc8fc6a1]\n",
       "class E11--><a href=\"psysml:958dabfe-3a24-44d8-9bca-d5e375f56ac2\" target=\"_top\" title=\"psysml:958dabfe-3a24-44d8-9bca-d5e375f56ac2\" xlink:actuate=\"onRequest\" xlink:href=\"psysml:958dabfe-3a24-44d8-9bca-d5e375f56ac2\" xlink:show=\"new\" xlink:title=\"psysml:958dabfe-3a24-44d8-9bca-d5e375f56ac2\" xlink:type=\"simple\"><rect fill=\"#FEFECE\" filter=\"url(#f16yi2p7vuboy5)\" height=\"71.5469\" id=\"E11\" style=\"stroke: #A80036; stroke-width: 1.5;\" width=\"95\" x=\"32.5\" y=\"41\"/><text fill=\"#000000\" font-family=\"sans-serif\" font-size=\"12\" font-style=\"italic\" lengthAdjust=\"spacingAndGlyphs\" textLength=\"93\" x=\"33.5\" y=\"57.1387\">«attribute def»</text><text fill=\"#000000\" font-family=\"sans-serif\" font-size=\"12\" lengthAdjust=\"spacingAndGlyphs\" textLength=\"8\" x=\"76\" y=\"71.1074\">A</text><line style=\"stroke: #A80036; stroke-width: 1.5;\" x1=\"33.5\" x2=\"126.5\" y1=\"78.9375\" y2=\"78.9375\"/><text fill=\"#000000\" font-family=\"sans-serif\" font-size=\"11\" lengthAdjust=\"spacingAndGlyphs\" textLength=\"51\" x=\"38.5\" y=\"93.1479\">i: Integer</text><text fill=\"#000000\" font-family=\"sans-serif\" font-size=\"11\" lengthAdjust=\"spacingAndGlyphs\" textLength=\"21\" x=\"38.5\" y=\"105.9526\">x: A</text></a><!--MD5=[15ebcb19ae302d9b601edb458606d402]\n",
       "link E5 to E2--><a href=\"psysml:a788c1ae-8502-4aea-9d8b-5a5d865c76a9\" target=\"_top\" title=\"psysml:a788c1ae-8502-4aea-9d8b-5a5d865c76a9\" xlink:actuate=\"onRequest\" xlink:href=\"psysml:a788c1ae-8502-4aea-9d8b-5a5d865c76a9\" xlink:show=\"new\" xlink:title=\"psysml:a788c1ae-8502-4aea-9d8b-5a5d865c76a9\" xlink:type=\"simple\"><path d=\"M561.66,100.01 C556.63,115.11 549.8,135.61 543.76,153.71 \" fill=\"none\" id=\"E5-&gt;E2\" style=\"stroke: #A80036; stroke-width: 1.0;\"/><polygon fill=\"#FFFFFF\" points=\"537.44,172.69,536.7984,152.4517,550.082,156.8729,537.44,172.69\" style=\"stroke: #A80036; stroke-width: 1.0;\"/><ellipse cx=\"540.4961\" cy=\"147.675\" fill=\"#A80036\" rx=\"2\" ry=\"2\" style=\"stroke: #A80036; stroke-width: 1.0;\"/><ellipse cx=\"549.9844\" cy=\"150.833\" fill=\"#A80036\" rx=\"2\" ry=\"2\" style=\"stroke: #A80036; stroke-width: 1.0;\"/></a><!--MD5=[2351f337d6de0f557b50152ba70847b5]\n",
       "link E6 to E2--><a href=\"psysml:96c9e024-7b1d-4ba9-883a-860d4899a00e\" target=\"_top\" title=\"psysml:96c9e024-7b1d-4ba9-883a-860d4899a00e\" xlink:actuate=\"onRequest\" xlink:href=\"psysml:96c9e024-7b1d-4ba9-883a-860d4899a00e\" xlink:show=\"new\" xlink:title=\"psysml:96c9e024-7b1d-4ba9-883a-860d4899a00e\" xlink:type=\"simple\"><path d=\"M499.15,100.01 C504.03,115.03 510.64,135.39 516.49,153.41 \" fill=\"none\" id=\"E6-&gt;E2\" style=\"stroke: #A80036; stroke-width: 1.0;\"/><polygon fill=\"#FFFFFF\" points=\"522.76,172.69,510.2363,156.7791,523.5525,152.4571,522.76,172.69\" style=\"stroke: #A80036; stroke-width: 1.0;\"/><ellipse cx=\"510.379\" cy=\"150.74\" fill=\"#A80036\" rx=\"2\" ry=\"2\" style=\"stroke: #A80036; stroke-width: 1.0;\"/><ellipse cx=\"519.8905\" cy=\"147.6529\" fill=\"#A80036\" rx=\"2\" ry=\"2\" style=\"stroke: #A80036; stroke-width: 1.0;\"/></a><!--MD5=[b33e5fca5ffbf348d20dc2632cb60c79]\n",
       "@startuml\r\n",
       "skinparam wrapWidth 300\r\n",
       "hide circle\r\n",
       "\r\n",
       "package \"MultiplicityTest\" as E1  [[psysml:04657276-263c-446b-8b63-b81fdc3bdb65 ]]  {\r\n",
       "comp def \"P\" as E2  <<(T,blue) part def>> [[psysml:68eb8761-ff46-4523-ba58-41a062b6cb94 ]] {\r\n",
       "}\r\n",
       "comp usage \"n: Integer\" as E3  <<(T,blue) attribute>> [[psysml:c2c67205-2617-478d-9839-9411bc2f8511 ]] {\r\n",
       "}\r\n",
       "comp usage \"a\" as E4  <<(T,blue) part>> [[psysml:fbb3215b-67d9-4514-b40f-6d8c33165593 ]] {\r\n",
       "}\r\n",
       "comp usage \"b: P\" as E5  <<(T,blue) part>> [[psysml:d1ff5ca6-7417-4682-b046-127881647fcb ]] {\r\n",
       "}\r\n",
       "comp usage \"c: P\" as E6  <<(T,blue) part>> [[psysml:20d627d7-8daa-4ea4-8c0c-0e67ee5e3616 ]] {\r\n",
       "}\r\n",
       "comp usage \"d\" as E7  <<(T,blue) part>> [[psysml:4fc87a01-ac01-48e0-9821-1b5b80a637f1 ]] {\r\n",
       "}\r\n",
       "comp usage \"e\" as E8  <<(T,blue) part>> [[psysml:e7c3b12c-9054-4127-bd5f-a31eeffec0a6 ]] {\r\n",
       "}\r\n",
       "comp usage \"f\" as E9  <<(T,blue) part>> [[psysml:49b700d2-d9c4-4257-84cb-c65bfac2aa08 ]] {\r\n",
       "}\r\n",
       "comp usage \"g\" as E10  <<(T,blue) part>> [[psysml:20161f3e-4930-46fe-a17d-f79ec2a77aae ]] {\r\n",
       "}\r\n",
       "comp def \"A\" as E11  <<(T,blue) attribute def>> [[psysml:958dabfe-3a24-44d8-9bca-d5e375f56ac2 ]] {\r\n",
       "i: Integer\r\n",
       "x: A\r\n",
       "}\r\n",
       "E5 - -:|> E2 [[psysml:a788c1ae-8502-4aea-9d8b-5a5d865c76a9 ]] \r\n",
       "E6 - -:|> E2 [[psysml:96c9e024-7b1d-4ba9-883a-860d4899a00e ]] \r\n",
       "}\r\n",
       "@enduml\r\n",
       "\n",
       "PlantUML version 1.2020.13(Sat Jun 13 12:26:38 UTC 2020)\n",
       "(EPL source distribution)\n",
       "Java Runtime: OpenJDK Runtime Environment\n",
       "JVM: OpenJDK 64-Bit Server VM\n",
       "Default Encoding: UTF-8\n",
       "Language: en\n",
       "Country: null\n",
       "--></g></svg>"
      ]
     },
     "execution_count": 28,
     "metadata": {},
     "output_type": "execute_result"
    }
   ],
   "source": [
    "%viz --style=\"STDCOLOR\" --view=\"Sequence\" \"MultiplicityTest\""
   ]
  },
  {
   "cell_type": "code",
   "execution_count": 29,
   "id": "5d4f460c",
   "metadata": {
    "execution": {
     "iopub.execute_input": "2021-08-04T06:29:51.595239Z",
     "iopub.status.busy": "2021-08-04T06:29:51.594781Z",
     "iopub.status.idle": "2021-08-04T06:29:51.632898Z",
     "shell.execute_reply": "2021-08-04T06:29:51.632510Z"
    }
   },
   "outputs": [
    {
     "data": {
      "image/svg+xml": [
       "<?xml version=\"1.0\" encoding=\"UTF-8\" standalone=\"no\"?><svg xmlns=\"http://www.w3.org/2000/svg\" xmlns:xlink=\"http://www.w3.org/1999/xlink\" contentScriptType=\"application/ecmascript\" contentStyleType=\"text/css\" height=\"247px\" preserveAspectRatio=\"none\" style=\"width:812px;height:247px;\" version=\"1.1\" viewBox=\"0 0 812 247\" width=\"812px\" zoomAndPan=\"magnify\"><defs><filter height=\"300%\" id=\"f16yi2p7vuboy5\" width=\"300%\" x=\"-1\" y=\"-1\"><feGaussianBlur result=\"blurOut\" stdDeviation=\"2.0\"/><feColorMatrix in=\"blurOut\" result=\"blurOut2\" type=\"matrix\" values=\"0 0 0 0 0 0 0 0 0 0 0 0 0 0 0 0 0 0 .4 0\"/><feOffset dx=\"4.0\" dy=\"4.0\" in=\"blurOut2\" result=\"blurOut3\"/><feBlend in=\"SourceGraphic\" in2=\"blurOut3\" mode=\"normal\"/></filter></defs><g><!--MD5=[fbc87193dbaf4d95561dea2c320d4a47]\n",
       "cluster E1--><a href=\"psysml:04657276-263c-446b-8b63-b81fdc3bdb65\" target=\"_top\" title=\"psysml:04657276-263c-446b-8b63-b81fdc3bdb65\" xlink:actuate=\"onRequest\" xlink:href=\"psysml:04657276-263c-446b-8b63-b81fdc3bdb65\" xlink:show=\"new\" xlink:title=\"psysml:04657276-263c-446b-8b63-b81fdc3bdb65\" xlink:type=\"simple\"><polygon fill=\"#FFFFFF\" filter=\"url(#f16yi2p7vuboy5)\" points=\"16,6,140,6,147,28.2969,790,28.2969,790,235,16,235,16,6\" style=\"stroke: #000000; stroke-width: 1.5;\"/><line style=\"stroke: #000000; stroke-width: 1.5;\" x1=\"16\" x2=\"147\" y1=\"28.2969\" y2=\"28.2969\"/><text fill=\"#000000\" font-family=\"sans-serif\" font-size=\"14\" font-weight=\"bold\" lengthAdjust=\"spacingAndGlyphs\" textLength=\"118\" x=\"20\" y=\"20.9951\">MultiplicityTest</text></a><!--MD5=[b4997ac47864f28c2f74865a473b2911]\n",
       "class E2--><a href=\"psysml:68eb8761-ff46-4523-ba58-41a062b6cb94\" target=\"_top\" title=\"psysml:68eb8761-ff46-4523-ba58-41a062b6cb94\" xlink:actuate=\"onRequest\" xlink:href=\"psysml:68eb8761-ff46-4523-ba58-41a062b6cb94\" xlink:show=\"new\" xlink:title=\"psysml:68eb8761-ff46-4523-ba58-41a062b6cb94\" xlink:type=\"simple\"><rect fill=\"#FEFECE\" filter=\"url(#f16yi2p7vuboy5)\" height=\"45.9375\" id=\"E2\" style=\"stroke: #A80036; stroke-width: 1.5;\" width=\"66\" x=\"497\" y=\"173\"/><text fill=\"#000000\" font-family=\"sans-serif\" font-size=\"12\" font-style=\"italic\" lengthAdjust=\"spacingAndGlyphs\" textLength=\"64\" x=\"498\" y=\"189.1387\">«part def»</text><text fill=\"#000000\" font-family=\"sans-serif\" font-size=\"12\" lengthAdjust=\"spacingAndGlyphs\" textLength=\"8\" x=\"526\" y=\"203.1074\">P</text><line style=\"stroke: #A80036; stroke-width: 1.5;\" x1=\"498\" x2=\"562\" y1=\"210.9375\" y2=\"210.9375\"/></a><!--MD5=[09b614a08d8cba4a07c9adeb5e0fee81]\n",
       "class E3--><a href=\"psysml:c2c67205-2617-478d-9839-9411bc2f8511\" target=\"_top\" title=\"psysml:c2c67205-2617-478d-9839-9411bc2f8511\" xlink:actuate=\"onRequest\" xlink:href=\"psysml:c2c67205-2617-478d-9839-9411bc2f8511\" xlink:show=\"new\" xlink:title=\"psysml:c2c67205-2617-478d-9839-9411bc2f8511\" xlink:type=\"simple\"><rect fill=\"#FEFECE\" filter=\"url(#f16yi2p7vuboy5)\" height=\"45.9375\" id=\"E3\" rx=\"10\" ry=\"10\" style=\"stroke: #A80036; stroke-width: 1.5;\" width=\"71\" x=\"702.5\" y=\"54\"/><text fill=\"#000000\" font-family=\"sans-serif\" font-size=\"12\" font-style=\"italic\" lengthAdjust=\"spacingAndGlyphs\" textLength=\"69\" x=\"703.5\" y=\"70.1387\">«attribute»</text><text fill=\"#000000\" font-family=\"sans-serif\" font-size=\"12\" lengthAdjust=\"spacingAndGlyphs\" textLength=\"61\" x=\"707.5\" y=\"84.1074\">n: Integer</text><line style=\"stroke: #A80036; stroke-width: 1.5;\" x1=\"703.5\" x2=\"772.5\" y1=\"91.9375\" y2=\"91.9375\"/></a><!--MD5=[ebbe1d658d1005bcc118a6aa81145e00]\n",
       "class E4--><a href=\"psysml:fbb3215b-67d9-4514-b40f-6d8c33165593\" target=\"_top\" title=\"psysml:fbb3215b-67d9-4514-b40f-6d8c33165593\" xlink:actuate=\"onRequest\" xlink:href=\"psysml:fbb3215b-67d9-4514-b40f-6d8c33165593\" xlink:show=\"new\" xlink:title=\"psysml:fbb3215b-67d9-4514-b40f-6d8c33165593\" xlink:type=\"simple\"><rect fill=\"#FEFECE\" filter=\"url(#f16yi2p7vuboy5)\" height=\"45.9375\" id=\"E4\" rx=\"10\" ry=\"10\" style=\"stroke: #A80036; stroke-width: 1.5;\" width=\"42\" x=\"625\" y=\"54\"/><text fill=\"#000000\" font-family=\"sans-serif\" font-size=\"12\" font-style=\"italic\" lengthAdjust=\"spacingAndGlyphs\" textLength=\"40\" x=\"626\" y=\"70.1387\">«part»</text><text fill=\"#000000\" font-family=\"sans-serif\" font-size=\"12\" lengthAdjust=\"spacingAndGlyphs\" textLength=\"8\" x=\"642\" y=\"84.1074\">a</text><line style=\"stroke: #A80036; stroke-width: 1.5;\" x1=\"626\" x2=\"666\" y1=\"91.9375\" y2=\"91.9375\"/></a><!--MD5=[270fce915f116d4de14055a7c1d9a0f3]\n",
       "class E5--><a href=\"psysml:d1ff5ca6-7417-4682-b046-127881647fcb\" target=\"_top\" title=\"psysml:d1ff5ca6-7417-4682-b046-127881647fcb\" xlink:actuate=\"onRequest\" xlink:href=\"psysml:d1ff5ca6-7417-4682-b046-127881647fcb\" xlink:show=\"new\" xlink:title=\"psysml:d1ff5ca6-7417-4682-b046-127881647fcb\" xlink:type=\"simple\"><rect fill=\"#FEFECE\" filter=\"url(#f16yi2p7vuboy5)\" height=\"45.9375\" id=\"E5\" rx=\"10\" ry=\"10\" style=\"stroke: #A80036; stroke-width: 1.5;\" width=\"42\" x=\"548\" y=\"54\"/><text fill=\"#000000\" font-family=\"sans-serif\" font-size=\"12\" font-style=\"italic\" lengthAdjust=\"spacingAndGlyphs\" textLength=\"40\" x=\"549\" y=\"70.1387\">«part»</text><text fill=\"#000000\" font-family=\"sans-serif\" font-size=\"12\" lengthAdjust=\"spacingAndGlyphs\" textLength=\"24\" x=\"557\" y=\"84.1074\">b: P</text><line style=\"stroke: #A80036; stroke-width: 1.5;\" x1=\"549\" x2=\"589\" y1=\"91.9375\" y2=\"91.9375\"/></a><!--MD5=[60a26617385b1d2d0262a64233df1f8d]\n",
       "class E6--><a href=\"psysml:20d627d7-8daa-4ea4-8c0c-0e67ee5e3616\" target=\"_top\" title=\"psysml:20d627d7-8daa-4ea4-8c0c-0e67ee5e3616\" xlink:actuate=\"onRequest\" xlink:href=\"psysml:20d627d7-8daa-4ea4-8c0c-0e67ee5e3616\" xlink:show=\"new\" xlink:title=\"psysml:20d627d7-8daa-4ea4-8c0c-0e67ee5e3616\" xlink:type=\"simple\"><rect fill=\"#FEFECE\" filter=\"url(#f16yi2p7vuboy5)\" height=\"45.9375\" id=\"E6\" rx=\"10\" ry=\"10\" style=\"stroke: #A80036; stroke-width: 1.5;\" width=\"42\" x=\"471\" y=\"54\"/><text fill=\"#000000\" font-family=\"sans-serif\" font-size=\"12\" font-style=\"italic\" lengthAdjust=\"spacingAndGlyphs\" textLength=\"40\" x=\"472\" y=\"70.1387\">«part»</text><text fill=\"#000000\" font-family=\"sans-serif\" font-size=\"12\" lengthAdjust=\"spacingAndGlyphs\" textLength=\"23\" x=\"480.5\" y=\"84.1074\">c: P</text><line style=\"stroke: #A80036; stroke-width: 1.5;\" x1=\"472\" x2=\"512\" y1=\"91.9375\" y2=\"91.9375\"/></a><!--MD5=[2156ba9850f5573cc1fc38a6a4b2f02b]\n",
       "class E7--><a href=\"psysml:4fc87a01-ac01-48e0-9821-1b5b80a637f1\" target=\"_top\" title=\"psysml:4fc87a01-ac01-48e0-9821-1b5b80a637f1\" xlink:actuate=\"onRequest\" xlink:href=\"psysml:4fc87a01-ac01-48e0-9821-1b5b80a637f1\" xlink:show=\"new\" xlink:title=\"psysml:4fc87a01-ac01-48e0-9821-1b5b80a637f1\" xlink:type=\"simple\"><rect fill=\"#FEFECE\" filter=\"url(#f16yi2p7vuboy5)\" height=\"45.9375\" id=\"E7\" rx=\"10\" ry=\"10\" style=\"stroke: #A80036; stroke-width: 1.5;\" width=\"42\" x=\"394\" y=\"54\"/><text fill=\"#000000\" font-family=\"sans-serif\" font-size=\"12\" font-style=\"italic\" lengthAdjust=\"spacingAndGlyphs\" textLength=\"40\" x=\"395\" y=\"70.1387\">«part»</text><text fill=\"#000000\" font-family=\"sans-serif\" font-size=\"12\" lengthAdjust=\"spacingAndGlyphs\" textLength=\"8\" x=\"411\" y=\"84.1074\">d</text><line style=\"stroke: #A80036; stroke-width: 1.5;\" x1=\"395\" x2=\"435\" y1=\"91.9375\" y2=\"91.9375\"/></a><!--MD5=[b9389687b975829384b498ac4b7476b2]\n",
       "class E8--><a href=\"psysml:e7c3b12c-9054-4127-bd5f-a31eeffec0a6\" target=\"_top\" title=\"psysml:e7c3b12c-9054-4127-bd5f-a31eeffec0a6\" xlink:actuate=\"onRequest\" xlink:href=\"psysml:e7c3b12c-9054-4127-bd5f-a31eeffec0a6\" xlink:show=\"new\" xlink:title=\"psysml:e7c3b12c-9054-4127-bd5f-a31eeffec0a6\" xlink:type=\"simple\"><rect fill=\"#FEFECE\" filter=\"url(#f16yi2p7vuboy5)\" height=\"45.9375\" id=\"E8\" rx=\"10\" ry=\"10\" style=\"stroke: #A80036; stroke-width: 1.5;\" width=\"42\" x=\"317\" y=\"54\"/><text fill=\"#000000\" font-family=\"sans-serif\" font-size=\"12\" font-style=\"italic\" lengthAdjust=\"spacingAndGlyphs\" textLength=\"40\" x=\"318\" y=\"70.1387\">«part»</text><text fill=\"#000000\" font-family=\"sans-serif\" font-size=\"12\" lengthAdjust=\"spacingAndGlyphs\" textLength=\"8\" x=\"334\" y=\"84.1074\">e</text><line style=\"stroke: #A80036; stroke-width: 1.5;\" x1=\"318\" x2=\"358\" y1=\"91.9375\" y2=\"91.9375\"/></a><!--MD5=[fd4143e9d270a159db93a4ea2a975926]\n",
       "class E9--><a href=\"psysml:49b700d2-d9c4-4257-84cb-c65bfac2aa08\" target=\"_top\" title=\"psysml:49b700d2-d9c4-4257-84cb-c65bfac2aa08\" xlink:actuate=\"onRequest\" xlink:href=\"psysml:49b700d2-d9c4-4257-84cb-c65bfac2aa08\" xlink:show=\"new\" xlink:title=\"psysml:49b700d2-d9c4-4257-84cb-c65bfac2aa08\" xlink:type=\"simple\"><rect fill=\"#FEFECE\" filter=\"url(#f16yi2p7vuboy5)\" height=\"45.9375\" id=\"E9\" rx=\"10\" ry=\"10\" style=\"stroke: #A80036; stroke-width: 1.5;\" width=\"42\" x=\"240\" y=\"54\"/><text fill=\"#000000\" font-family=\"sans-serif\" font-size=\"12\" font-style=\"italic\" lengthAdjust=\"spacingAndGlyphs\" textLength=\"40\" x=\"241\" y=\"70.1387\">«part»</text><text fill=\"#000000\" font-family=\"sans-serif\" font-size=\"12\" lengthAdjust=\"spacingAndGlyphs\" textLength=\"4\" x=\"259\" y=\"84.1074\">f</text><line style=\"stroke: #A80036; stroke-width: 1.5;\" x1=\"241\" x2=\"281\" y1=\"91.9375\" y2=\"91.9375\"/></a><!--MD5=[96f4274e9e20536e775497830990834d]\n",
       "class E10--><a href=\"psysml:20161f3e-4930-46fe-a17d-f79ec2a77aae\" target=\"_top\" title=\"psysml:20161f3e-4930-46fe-a17d-f79ec2a77aae\" xlink:actuate=\"onRequest\" xlink:href=\"psysml:20161f3e-4930-46fe-a17d-f79ec2a77aae\" xlink:show=\"new\" xlink:title=\"psysml:20161f3e-4930-46fe-a17d-f79ec2a77aae\" xlink:type=\"simple\"><rect fill=\"#FEFECE\" filter=\"url(#f16yi2p7vuboy5)\" height=\"45.9375\" id=\"E10\" rx=\"10\" ry=\"10\" style=\"stroke: #A80036; stroke-width: 1.5;\" width=\"42\" x=\"163\" y=\"54\"/><text fill=\"#000000\" font-family=\"sans-serif\" font-size=\"12\" font-style=\"italic\" lengthAdjust=\"spacingAndGlyphs\" textLength=\"40\" x=\"164\" y=\"70.1387\">«part»</text><text fill=\"#000000\" font-family=\"sans-serif\" font-size=\"12\" lengthAdjust=\"spacingAndGlyphs\" textLength=\"8\" x=\"180\" y=\"84.1074\">g</text><line style=\"stroke: #A80036; stroke-width: 1.5;\" x1=\"164\" x2=\"204\" y1=\"91.9375\" y2=\"91.9375\"/></a><!--MD5=[1dd1bfd58a279cf63c5f349dbc8fc6a1]\n",
       "class E11--><a href=\"psysml:958dabfe-3a24-44d8-9bca-d5e375f56ac2\" target=\"_top\" title=\"psysml:958dabfe-3a24-44d8-9bca-d5e375f56ac2\" xlink:actuate=\"onRequest\" xlink:href=\"psysml:958dabfe-3a24-44d8-9bca-d5e375f56ac2\" xlink:show=\"new\" xlink:title=\"psysml:958dabfe-3a24-44d8-9bca-d5e375f56ac2\" xlink:type=\"simple\"><rect fill=\"#FEFECE\" filter=\"url(#f16yi2p7vuboy5)\" height=\"71.5469\" id=\"E11\" style=\"stroke: #A80036; stroke-width: 1.5;\" width=\"95\" x=\"32.5\" y=\"41\"/><text fill=\"#000000\" font-family=\"sans-serif\" font-size=\"12\" font-style=\"italic\" lengthAdjust=\"spacingAndGlyphs\" textLength=\"93\" x=\"33.5\" y=\"57.1387\">«attribute def»</text><text fill=\"#000000\" font-family=\"sans-serif\" font-size=\"12\" lengthAdjust=\"spacingAndGlyphs\" textLength=\"8\" x=\"76\" y=\"71.1074\">A</text><line style=\"stroke: #A80036; stroke-width: 1.5;\" x1=\"33.5\" x2=\"126.5\" y1=\"78.9375\" y2=\"78.9375\"/><text fill=\"#000000\" font-family=\"sans-serif\" font-size=\"11\" lengthAdjust=\"spacingAndGlyphs\" textLength=\"51\" x=\"38.5\" y=\"93.1479\">i: Integer</text><text fill=\"#000000\" font-family=\"sans-serif\" font-size=\"11\" lengthAdjust=\"spacingAndGlyphs\" textLength=\"21\" x=\"38.5\" y=\"105.9526\">x: A</text></a><!--MD5=[15ebcb19ae302d9b601edb458606d402]\n",
       "link E5 to E2--><a href=\"psysml:a788c1ae-8502-4aea-9d8b-5a5d865c76a9\" target=\"_top\" title=\"psysml:a788c1ae-8502-4aea-9d8b-5a5d865c76a9\" xlink:actuate=\"onRequest\" xlink:href=\"psysml:a788c1ae-8502-4aea-9d8b-5a5d865c76a9\" xlink:show=\"new\" xlink:title=\"psysml:a788c1ae-8502-4aea-9d8b-5a5d865c76a9\" xlink:type=\"simple\"><path d=\"M561.66,100.01 C556.63,115.11 549.8,135.61 543.76,153.71 \" fill=\"none\" id=\"E5-&gt;E2\" style=\"stroke: #A80036; stroke-width: 1.0;\"/><polygon fill=\"#FFFFFF\" points=\"537.44,172.69,536.7984,152.4517,550.082,156.8729,537.44,172.69\" style=\"stroke: #A80036; stroke-width: 1.0;\"/><ellipse cx=\"540.4961\" cy=\"147.675\" fill=\"#A80036\" rx=\"2\" ry=\"2\" style=\"stroke: #A80036; stroke-width: 1.0;\"/><ellipse cx=\"549.9844\" cy=\"150.833\" fill=\"#A80036\" rx=\"2\" ry=\"2\" style=\"stroke: #A80036; stroke-width: 1.0;\"/></a><!--MD5=[2351f337d6de0f557b50152ba70847b5]\n",
       "link E6 to E2--><a href=\"psysml:96c9e024-7b1d-4ba9-883a-860d4899a00e\" target=\"_top\" title=\"psysml:96c9e024-7b1d-4ba9-883a-860d4899a00e\" xlink:actuate=\"onRequest\" xlink:href=\"psysml:96c9e024-7b1d-4ba9-883a-860d4899a00e\" xlink:show=\"new\" xlink:title=\"psysml:96c9e024-7b1d-4ba9-883a-860d4899a00e\" xlink:type=\"simple\"><path d=\"M499.15,100.01 C504.03,115.03 510.64,135.39 516.49,153.41 \" fill=\"none\" id=\"E6-&gt;E2\" style=\"stroke: #A80036; stroke-width: 1.0;\"/><polygon fill=\"#FFFFFF\" points=\"522.76,172.69,510.2363,156.7791,523.5525,152.4571,522.76,172.69\" style=\"stroke: #A80036; stroke-width: 1.0;\"/><ellipse cx=\"510.379\" cy=\"150.74\" fill=\"#A80036\" rx=\"2\" ry=\"2\" style=\"stroke: #A80036; stroke-width: 1.0;\"/><ellipse cx=\"519.8905\" cy=\"147.6529\" fill=\"#A80036\" rx=\"2\" ry=\"2\" style=\"stroke: #A80036; stroke-width: 1.0;\"/></a><!--MD5=[b33e5fca5ffbf348d20dc2632cb60c79]\n",
       "@startuml\r\n",
       "skinparam wrapWidth 300\r\n",
       "hide circle\r\n",
       "\r\n",
       "package \"MultiplicityTest\" as E1  [[psysml:04657276-263c-446b-8b63-b81fdc3bdb65 ]]  {\r\n",
       "comp def \"P\" as E2  <<(T,blue) part def>> [[psysml:68eb8761-ff46-4523-ba58-41a062b6cb94 ]] {\r\n",
       "}\r\n",
       "comp usage \"n: Integer\" as E3  <<(T,blue) attribute>> [[psysml:c2c67205-2617-478d-9839-9411bc2f8511 ]] {\r\n",
       "}\r\n",
       "comp usage \"a\" as E4  <<(T,blue) part>> [[psysml:fbb3215b-67d9-4514-b40f-6d8c33165593 ]] {\r\n",
       "}\r\n",
       "comp usage \"b: P\" as E5  <<(T,blue) part>> [[psysml:d1ff5ca6-7417-4682-b046-127881647fcb ]] {\r\n",
       "}\r\n",
       "comp usage \"c: P\" as E6  <<(T,blue) part>> [[psysml:20d627d7-8daa-4ea4-8c0c-0e67ee5e3616 ]] {\r\n",
       "}\r\n",
       "comp usage \"d\" as E7  <<(T,blue) part>> [[psysml:4fc87a01-ac01-48e0-9821-1b5b80a637f1 ]] {\r\n",
       "}\r\n",
       "comp usage \"e\" as E8  <<(T,blue) part>> [[psysml:e7c3b12c-9054-4127-bd5f-a31eeffec0a6 ]] {\r\n",
       "}\r\n",
       "comp usage \"f\" as E9  <<(T,blue) part>> [[psysml:49b700d2-d9c4-4257-84cb-c65bfac2aa08 ]] {\r\n",
       "}\r\n",
       "comp usage \"g\" as E10  <<(T,blue) part>> [[psysml:20161f3e-4930-46fe-a17d-f79ec2a77aae ]] {\r\n",
       "}\r\n",
       "comp def \"A\" as E11  <<(T,blue) attribute def>> [[psysml:958dabfe-3a24-44d8-9bca-d5e375f56ac2 ]] {\r\n",
       "i: Integer\r\n",
       "x: A\r\n",
       "}\r\n",
       "E5 - -:|> E2 [[psysml:a788c1ae-8502-4aea-9d8b-5a5d865c76a9 ]] \r\n",
       "E6 - -:|> E2 [[psysml:96c9e024-7b1d-4ba9-883a-860d4899a00e ]] \r\n",
       "}\r\n",
       "@enduml\r\n",
       "\n",
       "PlantUML version 1.2020.13(Sat Jun 13 12:26:38 UTC 2020)\n",
       "(EPL source distribution)\n",
       "Java Runtime: OpenJDK Runtime Environment\n",
       "JVM: OpenJDK 64-Bit Server VM\n",
       "Default Encoding: UTF-8\n",
       "Language: en\n",
       "Country: null\n",
       "--></g></svg>"
      ]
     },
     "execution_count": 29,
     "metadata": {},
     "output_type": "execute_result"
    }
   ],
   "source": [
    "%viz --style=\"STDCOLOR\" --view=\"MIXED\" \"MultiplicityTest\""
   ]
  },
  {
   "cell_type": "code",
   "execution_count": 30,
   "id": "5a16f587",
   "metadata": {
    "execution": {
     "iopub.execute_input": "2021-08-04T06:29:51.683047Z",
     "iopub.status.busy": "2021-08-04T06:29:51.682386Z",
     "iopub.status.idle": "2021-08-04T06:29:51.750221Z",
     "shell.execute_reply": "2021-08-04T06:29:51.749862Z"
    }
   },
   "outputs": [
    {
     "data": {
      "image/svg+xml": [
       "<?xml version=\"1.0\" encoding=\"UTF-8\" standalone=\"no\"?><svg xmlns=\"http://www.w3.org/2000/svg\" xmlns:xlink=\"http://www.w3.org/1999/xlink\" contentScriptType=\"application/ecmascript\" contentStyleType=\"text/css\" height=\"241px\" preserveAspectRatio=\"none\" style=\"width:1045px;height:241px;\" version=\"1.1\" viewBox=\"0 0 1045 241\" width=\"1045px\" zoomAndPan=\"magnify\"><defs><filter height=\"300%\" id=\"fme7ni5qz1j54\" width=\"300%\" x=\"-1\" y=\"-1\"><feGaussianBlur result=\"blurOut\" stdDeviation=\"2.0\"/><feColorMatrix in=\"blurOut\" result=\"blurOut2\" type=\"matrix\" values=\"0 0 0 0 0 0 0 0 0 0 0 0 0 0 0 0 0 0 .4 0\"/><feOffset dx=\"4.0\" dy=\"4.0\" in=\"blurOut2\" result=\"blurOut3\"/><feBlend in=\"SourceGraphic\" in2=\"blurOut3\" mode=\"normal\"/></filter></defs><g><!--MD5=[fbc87193dbaf4d95561dea2c320d4a47]\n",
       "cluster E1--><a href=\"psysml:04657276-263c-446b-8b63-b81fdc3bdb65\" target=\"_top\" title=\"psysml:04657276-263c-446b-8b63-b81fdc3bdb65\" xlink:actuate=\"onRequest\" xlink:href=\"psysml:04657276-263c-446b-8b63-b81fdc3bdb65\" xlink:show=\"new\" xlink:title=\"psysml:04657276-263c-446b-8b63-b81fdc3bdb65\" xlink:type=\"simple\"><polygon fill=\"#FFFFFF\" filter=\"url(#fme7ni5qz1j54)\" points=\"16,6,140,6,147,28.2969,1023,28.2969,1023,229,16,229,16,6\" style=\"stroke: #000000; stroke-width: 1.5;\"/><line style=\"stroke: #000000; stroke-width: 1.5;\" x1=\"16\" x2=\"147\" y1=\"28.2969\" y2=\"28.2969\"/><text fill=\"#000000\" font-family=\"sans-serif\" font-size=\"14\" font-weight=\"bold\" lengthAdjust=\"spacingAndGlyphs\" textLength=\"118\" x=\"20\" y=\"20.9951\">MultiplicityTest</text></a><!--MD5=[b4997ac47864f28c2f74865a473b2911]\n",
       "class E2--><a href=\"psysml:68eb8761-ff46-4523-ba58-41a062b6cb94\" target=\"_top\" title=\"psysml:68eb8761-ff46-4523-ba58-41a062b6cb94\" xlink:actuate=\"onRequest\" xlink:href=\"psysml:68eb8761-ff46-4523-ba58-41a062b6cb94\" xlink:show=\"new\" xlink:title=\"psysml:68eb8761-ff46-4523-ba58-41a062b6cb94\" xlink:type=\"simple\"><rect fill=\"#FEFECE\" filter=\"url(#fme7ni5qz1j54)\" height=\"40\" id=\"E2\" style=\"stroke: #A80036; stroke-width: 1.5;\" width=\"40\" x=\"666\" y=\"173\"/><ellipse cx=\"681\" cy=\"189\" fill=\"#008000\" rx=\"11\" ry=\"11\" style=\"stroke: #A80036; stroke-width: 1.0;\"/><path d=\"M679.9063,189.375 L679.9063,193.0469 L681.5313,193.0469 Q682.7031,193.0469 683.1719,192.6563 Q683.6406,192.25 683.6406,191.25 Q683.6406,190.25 683.1406,189.8125 Q682.6563,189.375 681.5313,189.375 L679.9063,189.375 Z M679.9063,184.5469 L679.9063,187.4219 L681.5313,187.4219 Q682.4531,187.4219 682.8438,187.0938 Q683.25,186.75 683.25,186 Q683.25,185.2344 682.8438,184.8906 Q682.4375,184.5469 681.5313,184.5469 L679.9063,184.5469 Z M677.5313,182.5938 L681.5313,182.5938 Q683.5938,182.5938 684.6406,183.375 Q685.6875,184.1563 685.6875,185.7188 Q685.6875,186.9219 685.0625,187.5938 Q684.4531,188.2656 683.2656,188.375 Q684.6875,188.5156 685.4063,189.3281 Q686.125,190.1406 686.125,191.5938 Q686.125,193.3906 685.0469,194.2031 Q683.9688,195 681.5313,195 L677.5313,195 L677.5313,182.5938 Z \"/><text fill=\"#000000\" font-family=\"sans-serif\" font-size=\"12\" lengthAdjust=\"spacingAndGlyphs\" textLength=\"8\" x=\"695\" y=\"193.1543\">P</text><line style=\"stroke: #A80036; stroke-width: 1.5;\" x1=\"667\" x2=\"705\" y1=\"205\" y2=\"205\"/></a><!--MD5=[09b614a08d8cba4a07c9adeb5e0fee81]\n",
       "class E3--><a href=\"psysml:c2c67205-2617-478d-9839-9411bc2f8511\" target=\"_top\" title=\"psysml:c2c67205-2617-478d-9839-9411bc2f8511\" xlink:actuate=\"onRequest\" xlink:href=\"psysml:c2c67205-2617-478d-9839-9411bc2f8511\" xlink:show=\"new\" xlink:title=\"psysml:c2c67205-2617-478d-9839-9411bc2f8511\" xlink:type=\"simple\"><rect fill=\"#FEFECE\" filter=\"url(#fme7ni5qz1j54)\" height=\"45.9375\" id=\"E3\" rx=\"10\" ry=\"10\" style=\"stroke: #A80036; stroke-width: 1.5;\" width=\"97\" x=\"910.5\" y=\"54\"/><ellipse cx=\"925.5\" cy=\"72.9688\" fill=\"#FFA500\" rx=\"11\" ry=\"11\" style=\"stroke: #A80036; stroke-width: 1.0;\"/><path d=\"M921.375,74.8906 L921.375,67.0781 L923.8281,67.0781 L923.8281,75.5156 Q923.8281,76.4375 924.2969,76.9688 Q924.7813,77.5 925.6094,77.5 Q926.4531,77.5 926.9219,76.9688 Q927.3906,76.4375 927.3906,75.5156 L927.3906,67.0781 L929.8438,67.0781 L929.8438,74.8906 Q929.8438,77.4219 928.8438,78.5625 Q927.8438,79.7031 925.6094,79.7031 Q923.3906,79.7031 922.375,78.5625 Q921.375,77.4219 921.375,74.8906 Z \"/><text fill=\"#000000\" font-family=\"sans-serif\" font-size=\"12\" font-style=\"italic\" lengthAdjust=\"spacingAndGlyphs\" textLength=\"69\" x=\"937.5\" y=\"70.1387\">«attribute»</text><text fill=\"#000000\" font-family=\"sans-serif\" font-size=\"12\" lengthAdjust=\"spacingAndGlyphs\" textLength=\"61\" x=\"941.5\" y=\"84.1074\">n: Integer</text><line style=\"stroke: #A80036; stroke-width: 1.5;\" x1=\"911.5\" x2=\"1006.5\" y1=\"91.9375\" y2=\"91.9375\"/></a><!--MD5=[ebbe1d658d1005bcc118a6aa81145e00]\n",
       "class E4--><a href=\"psysml:fbb3215b-67d9-4514-b40f-6d8c33165593\" target=\"_top\" title=\"psysml:fbb3215b-67d9-4514-b40f-6d8c33165593\" xlink:actuate=\"onRequest\" xlink:href=\"psysml:fbb3215b-67d9-4514-b40f-6d8c33165593\" xlink:show=\"new\" xlink:title=\"psysml:fbb3215b-67d9-4514-b40f-6d8c33165593\" xlink:type=\"simple\"><rect fill=\"#FEFECE\" filter=\"url(#fme7ni5qz1j54)\" height=\"45.9375\" id=\"E4\" rx=\"10\" ry=\"10\" style=\"stroke: #A80036; stroke-width: 1.5;\" width=\"68\" x=\"807\" y=\"54\"/><ellipse cx=\"822\" cy=\"72.9688\" fill=\"#32CD32\" rx=\"11\" ry=\"11\" style=\"stroke: #A80036; stroke-width: 1.0;\"/><path d=\"M821.7969,68.6406 L821.7969,72.2656 L822.7969,72.2656 Q824,72.2656 824.4844,71.8594 Q824.9688,71.4531 824.9688,70.4531 Q824.9688,69.4531 824.4844,69.0469 Q824,68.6406 822.7969,68.6406 L821.7969,68.6406 Z M819.3438,66.5781 L822.7031,66.5781 Q825.2656,66.5781 826.3906,67.5 Q827.5156,68.4063 827.5156,70.4531 Q827.5156,72.5 826.3906,73.4219 Q825.2656,74.3281 822.7031,74.3281 L821.7969,74.3281 L821.7969,78.9688 L819.3438,78.9688 L819.3438,66.5781 Z \"/><text fill=\"#000000\" font-family=\"sans-serif\" font-size=\"12\" font-style=\"italic\" lengthAdjust=\"spacingAndGlyphs\" textLength=\"40\" x=\"834\" y=\"70.1387\">«part»</text><text fill=\"#000000\" font-family=\"sans-serif\" font-size=\"12\" lengthAdjust=\"spacingAndGlyphs\" textLength=\"8\" x=\"850\" y=\"84.1074\">a</text><line style=\"stroke: #A80036; stroke-width: 1.5;\" x1=\"808\" x2=\"874\" y1=\"91.9375\" y2=\"91.9375\"/></a><!--MD5=[270fce915f116d4de14055a7c1d9a0f3]\n",
       "class E5--><a href=\"psysml:d1ff5ca6-7417-4682-b046-127881647fcb\" target=\"_top\" title=\"psysml:d1ff5ca6-7417-4682-b046-127881647fcb\" xlink:actuate=\"onRequest\" xlink:href=\"psysml:d1ff5ca6-7417-4682-b046-127881647fcb\" xlink:show=\"new\" xlink:title=\"psysml:d1ff5ca6-7417-4682-b046-127881647fcb\" xlink:type=\"simple\"><rect fill=\"#FEFECE\" filter=\"url(#fme7ni5qz1j54)\" height=\"45.9375\" id=\"E5\" rx=\"10\" ry=\"10\" style=\"stroke: #A80036; stroke-width: 1.5;\" width=\"68\" x=\"704\" y=\"54\"/><ellipse cx=\"719\" cy=\"72.9688\" fill=\"#32CD32\" rx=\"11\" ry=\"11\" style=\"stroke: #A80036; stroke-width: 1.0;\"/><path d=\"M718.7969,68.6406 L718.7969,72.2656 L719.7969,72.2656 Q721,72.2656 721.4844,71.8594 Q721.9688,71.4531 721.9688,70.4531 Q721.9688,69.4531 721.4844,69.0469 Q721,68.6406 719.7969,68.6406 L718.7969,68.6406 Z M716.3438,66.5781 L719.7031,66.5781 Q722.2656,66.5781 723.3906,67.5 Q724.5156,68.4063 724.5156,70.4531 Q724.5156,72.5 723.3906,73.4219 Q722.2656,74.3281 719.7031,74.3281 L718.7969,74.3281 L718.7969,78.9688 L716.3438,78.9688 L716.3438,66.5781 Z \"/><text fill=\"#000000\" font-family=\"sans-serif\" font-size=\"12\" font-style=\"italic\" lengthAdjust=\"spacingAndGlyphs\" textLength=\"40\" x=\"731\" y=\"70.1387\">«part»</text><text fill=\"#000000\" font-family=\"sans-serif\" font-size=\"12\" lengthAdjust=\"spacingAndGlyphs\" textLength=\"24\" x=\"739\" y=\"84.1074\">b: P</text><line style=\"stroke: #A80036; stroke-width: 1.5;\" x1=\"705\" x2=\"771\" y1=\"91.9375\" y2=\"91.9375\"/></a><!--MD5=[60a26617385b1d2d0262a64233df1f8d]\n",
       "class E6--><a href=\"psysml:20d627d7-8daa-4ea4-8c0c-0e67ee5e3616\" target=\"_top\" title=\"psysml:20d627d7-8daa-4ea4-8c0c-0e67ee5e3616\" xlink:actuate=\"onRequest\" xlink:href=\"psysml:20d627d7-8daa-4ea4-8c0c-0e67ee5e3616\" xlink:show=\"new\" xlink:title=\"psysml:20d627d7-8daa-4ea4-8c0c-0e67ee5e3616\" xlink:type=\"simple\"><rect fill=\"#FEFECE\" filter=\"url(#fme7ni5qz1j54)\" height=\"45.9375\" id=\"E6\" rx=\"10\" ry=\"10\" style=\"stroke: #A80036; stroke-width: 1.5;\" width=\"68\" x=\"601\" y=\"54\"/><ellipse cx=\"616\" cy=\"72.9688\" fill=\"#32CD32\" rx=\"11\" ry=\"11\" style=\"stroke: #A80036; stroke-width: 1.0;\"/><path d=\"M615.7969,68.6406 L615.7969,72.2656 L616.7969,72.2656 Q618,72.2656 618.4844,71.8594 Q618.9688,71.4531 618.9688,70.4531 Q618.9688,69.4531 618.4844,69.0469 Q618,68.6406 616.7969,68.6406 L615.7969,68.6406 Z M613.3438,66.5781 L616.7031,66.5781 Q619.2656,66.5781 620.3906,67.5 Q621.5156,68.4063 621.5156,70.4531 Q621.5156,72.5 620.3906,73.4219 Q619.2656,74.3281 616.7031,74.3281 L615.7969,74.3281 L615.7969,78.9688 L613.3438,78.9688 L613.3438,66.5781 Z \"/><text fill=\"#000000\" font-family=\"sans-serif\" font-size=\"12\" font-style=\"italic\" lengthAdjust=\"spacingAndGlyphs\" textLength=\"40\" x=\"628\" y=\"70.1387\">«part»</text><text fill=\"#000000\" font-family=\"sans-serif\" font-size=\"12\" lengthAdjust=\"spacingAndGlyphs\" textLength=\"23\" x=\"636.5\" y=\"84.1074\">c: P</text><line style=\"stroke: #A80036; stroke-width: 1.5;\" x1=\"602\" x2=\"668\" y1=\"91.9375\" y2=\"91.9375\"/></a><!--MD5=[2156ba9850f5573cc1fc38a6a4b2f02b]\n",
       "class E7--><a href=\"psysml:4fc87a01-ac01-48e0-9821-1b5b80a637f1\" target=\"_top\" title=\"psysml:4fc87a01-ac01-48e0-9821-1b5b80a637f1\" xlink:actuate=\"onRequest\" xlink:href=\"psysml:4fc87a01-ac01-48e0-9821-1b5b80a637f1\" xlink:show=\"new\" xlink:title=\"psysml:4fc87a01-ac01-48e0-9821-1b5b80a637f1\" xlink:type=\"simple\"><rect fill=\"#FEFECE\" filter=\"url(#fme7ni5qz1j54)\" height=\"45.9375\" id=\"E7\" rx=\"10\" ry=\"10\" style=\"stroke: #A80036; stroke-width: 1.5;\" width=\"68\" x=\"498\" y=\"54\"/><ellipse cx=\"513\" cy=\"72.9688\" fill=\"#32CD32\" rx=\"11\" ry=\"11\" style=\"stroke: #A80036; stroke-width: 1.0;\"/><path d=\"M512.7969,68.6406 L512.7969,72.2656 L513.7969,72.2656 Q515,72.2656 515.4844,71.8594 Q515.9688,71.4531 515.9688,70.4531 Q515.9688,69.4531 515.4844,69.0469 Q515,68.6406 513.7969,68.6406 L512.7969,68.6406 Z M510.3438,66.5781 L513.7031,66.5781 Q516.2656,66.5781 517.3906,67.5 Q518.5156,68.4063 518.5156,70.4531 Q518.5156,72.5 517.3906,73.4219 Q516.2656,74.3281 513.7031,74.3281 L512.7969,74.3281 L512.7969,78.9688 L510.3438,78.9688 L510.3438,66.5781 Z \"/><text fill=\"#000000\" font-family=\"sans-serif\" font-size=\"12\" font-style=\"italic\" lengthAdjust=\"spacingAndGlyphs\" textLength=\"40\" x=\"525\" y=\"70.1387\">«part»</text><text fill=\"#000000\" font-family=\"sans-serif\" font-size=\"12\" lengthAdjust=\"spacingAndGlyphs\" textLength=\"8\" x=\"541\" y=\"84.1074\">d</text><line style=\"stroke: #A80036; stroke-width: 1.5;\" x1=\"499\" x2=\"565\" y1=\"91.9375\" y2=\"91.9375\"/></a><!--MD5=[b9389687b975829384b498ac4b7476b2]\n",
       "class E8--><a href=\"psysml:e7c3b12c-9054-4127-bd5f-a31eeffec0a6\" target=\"_top\" title=\"psysml:e7c3b12c-9054-4127-bd5f-a31eeffec0a6\" xlink:actuate=\"onRequest\" xlink:href=\"psysml:e7c3b12c-9054-4127-bd5f-a31eeffec0a6\" xlink:show=\"new\" xlink:title=\"psysml:e7c3b12c-9054-4127-bd5f-a31eeffec0a6\" xlink:type=\"simple\"><rect fill=\"#FEFECE\" filter=\"url(#fme7ni5qz1j54)\" height=\"45.9375\" id=\"E8\" rx=\"10\" ry=\"10\" style=\"stroke: #A80036; stroke-width: 1.5;\" width=\"68\" x=\"395\" y=\"54\"/><ellipse cx=\"410\" cy=\"72.9688\" fill=\"#32CD32\" rx=\"11\" ry=\"11\" style=\"stroke: #A80036; stroke-width: 1.0;\"/><path d=\"M409.7969,68.6406 L409.7969,72.2656 L410.7969,72.2656 Q412,72.2656 412.4844,71.8594 Q412.9688,71.4531 412.9688,70.4531 Q412.9688,69.4531 412.4844,69.0469 Q412,68.6406 410.7969,68.6406 L409.7969,68.6406 Z M407.3438,66.5781 L410.7031,66.5781 Q413.2656,66.5781 414.3906,67.5 Q415.5156,68.4063 415.5156,70.4531 Q415.5156,72.5 414.3906,73.4219 Q413.2656,74.3281 410.7031,74.3281 L409.7969,74.3281 L409.7969,78.9688 L407.3438,78.9688 L407.3438,66.5781 Z \"/><text fill=\"#000000\" font-family=\"sans-serif\" font-size=\"12\" font-style=\"italic\" lengthAdjust=\"spacingAndGlyphs\" textLength=\"40\" x=\"422\" y=\"70.1387\">«part»</text><text fill=\"#000000\" font-family=\"sans-serif\" font-size=\"12\" lengthAdjust=\"spacingAndGlyphs\" textLength=\"8\" x=\"438\" y=\"84.1074\">e</text><line style=\"stroke: #A80036; stroke-width: 1.5;\" x1=\"396\" x2=\"462\" y1=\"91.9375\" y2=\"91.9375\"/></a><!--MD5=[fd4143e9d270a159db93a4ea2a975926]\n",
       "class E9--><a href=\"psysml:49b700d2-d9c4-4257-84cb-c65bfac2aa08\" target=\"_top\" title=\"psysml:49b700d2-d9c4-4257-84cb-c65bfac2aa08\" xlink:actuate=\"onRequest\" xlink:href=\"psysml:49b700d2-d9c4-4257-84cb-c65bfac2aa08\" xlink:show=\"new\" xlink:title=\"psysml:49b700d2-d9c4-4257-84cb-c65bfac2aa08\" xlink:type=\"simple\"><rect fill=\"#FEFECE\" filter=\"url(#fme7ni5qz1j54)\" height=\"45.9375\" id=\"E9\" rx=\"10\" ry=\"10\" style=\"stroke: #A80036; stroke-width: 1.5;\" width=\"68\" x=\"292\" y=\"54\"/><ellipse cx=\"307\" cy=\"72.9688\" fill=\"#32CD32\" rx=\"11\" ry=\"11\" style=\"stroke: #A80036; stroke-width: 1.0;\"/><path d=\"M306.7969,68.6406 L306.7969,72.2656 L307.7969,72.2656 Q309,72.2656 309.4844,71.8594 Q309.9688,71.4531 309.9688,70.4531 Q309.9688,69.4531 309.4844,69.0469 Q309,68.6406 307.7969,68.6406 L306.7969,68.6406 Z M304.3438,66.5781 L307.7031,66.5781 Q310.2656,66.5781 311.3906,67.5 Q312.5156,68.4063 312.5156,70.4531 Q312.5156,72.5 311.3906,73.4219 Q310.2656,74.3281 307.7031,74.3281 L306.7969,74.3281 L306.7969,78.9688 L304.3438,78.9688 L304.3438,66.5781 Z \"/><text fill=\"#000000\" font-family=\"sans-serif\" font-size=\"12\" font-style=\"italic\" lengthAdjust=\"spacingAndGlyphs\" textLength=\"40\" x=\"319\" y=\"70.1387\">«part»</text><text fill=\"#000000\" font-family=\"sans-serif\" font-size=\"12\" lengthAdjust=\"spacingAndGlyphs\" textLength=\"4\" x=\"337\" y=\"84.1074\">f</text><line style=\"stroke: #A80036; stroke-width: 1.5;\" x1=\"293\" x2=\"359\" y1=\"91.9375\" y2=\"91.9375\"/></a><!--MD5=[96f4274e9e20536e775497830990834d]\n",
       "class E10--><a href=\"psysml:20161f3e-4930-46fe-a17d-f79ec2a77aae\" target=\"_top\" title=\"psysml:20161f3e-4930-46fe-a17d-f79ec2a77aae\" xlink:actuate=\"onRequest\" xlink:href=\"psysml:20161f3e-4930-46fe-a17d-f79ec2a77aae\" xlink:show=\"new\" xlink:title=\"psysml:20161f3e-4930-46fe-a17d-f79ec2a77aae\" xlink:type=\"simple\"><rect fill=\"#FEFECE\" filter=\"url(#fme7ni5qz1j54)\" height=\"45.9375\" id=\"E10\" rx=\"10\" ry=\"10\" style=\"stroke: #A80036; stroke-width: 1.5;\" width=\"68\" x=\"189\" y=\"54\"/><ellipse cx=\"204\" cy=\"72.9688\" fill=\"#32CD32\" rx=\"11\" ry=\"11\" style=\"stroke: #A80036; stroke-width: 1.0;\"/><path d=\"M203.7969,68.6406 L203.7969,72.2656 L204.7969,72.2656 Q206,72.2656 206.4844,71.8594 Q206.9688,71.4531 206.9688,70.4531 Q206.9688,69.4531 206.4844,69.0469 Q206,68.6406 204.7969,68.6406 L203.7969,68.6406 Z M201.3438,66.5781 L204.7031,66.5781 Q207.2656,66.5781 208.3906,67.5 Q209.5156,68.4063 209.5156,70.4531 Q209.5156,72.5 208.3906,73.4219 Q207.2656,74.3281 204.7031,74.3281 L203.7969,74.3281 L203.7969,78.9688 L201.3438,78.9688 L201.3438,66.5781 Z \"/><text fill=\"#000000\" font-family=\"sans-serif\" font-size=\"12\" font-style=\"italic\" lengthAdjust=\"spacingAndGlyphs\" textLength=\"40\" x=\"216\" y=\"70.1387\">«part»</text><text fill=\"#000000\" font-family=\"sans-serif\" font-size=\"12\" lengthAdjust=\"spacingAndGlyphs\" textLength=\"8\" x=\"232\" y=\"84.1074\">g</text><line style=\"stroke: #A80036; stroke-width: 1.5;\" x1=\"190\" x2=\"256\" y1=\"91.9375\" y2=\"91.9375\"/></a><!--MD5=[1dd1bfd58a279cf63c5f349dbc8fc6a1]\n",
       "class E11--><a href=\"psysml:958dabfe-3a24-44d8-9bca-d5e375f56ac2\" target=\"_top\" title=\"psysml:958dabfe-3a24-44d8-9bca-d5e375f56ac2\" xlink:actuate=\"onRequest\" xlink:href=\"psysml:958dabfe-3a24-44d8-9bca-d5e375f56ac2\" xlink:show=\"new\" xlink:title=\"psysml:958dabfe-3a24-44d8-9bca-d5e375f56ac2\" xlink:type=\"simple\"><rect fill=\"#FEFECE\" filter=\"url(#fme7ni5qz1j54)\" height=\"71.5469\" id=\"E11\" style=\"stroke: #A80036; stroke-width: 1.5;\" width=\"121\" x=\"32.5\" y=\"41\"/><ellipse cx=\"47.5\" cy=\"59.9688\" fill=\"#A52A2A\" rx=\"11\" ry=\"11\" style=\"stroke: #A80036; stroke-width: 1.0;\"/><path d=\"M47.0938,55.7813 L47.0938,63.7656 L47.75,63.7656 Q49.1875,63.7656 49.7969,62.8594 Q50.4219,61.9375 50.4219,59.7656 Q50.4219,57.5938 49.7969,56.6875 Q49.1875,55.7813 47.75,55.7813 L47.0938,55.7813 Z M44.6406,53.5781 L47.2656,53.5781 Q50.2969,53.5781 51.625,55.0313 Q52.9688,56.4688 52.9688,59.7656 Q52.9688,63.0625 51.625,64.5156 Q50.2969,65.9688 47.2656,65.9688 L44.6406,65.9688 L44.6406,53.5781 Z \"/><text fill=\"#000000\" font-family=\"sans-serif\" font-size=\"12\" font-style=\"italic\" lengthAdjust=\"spacingAndGlyphs\" textLength=\"93\" x=\"59.5\" y=\"57.1387\">«attribute def»</text><text fill=\"#000000\" font-family=\"sans-serif\" font-size=\"12\" lengthAdjust=\"spacingAndGlyphs\" textLength=\"8\" x=\"102\" y=\"71.1074\">A</text><line style=\"stroke: #A80036; stroke-width: 1.5;\" x1=\"33.5\" x2=\"152.5\" y1=\"78.9375\" y2=\"78.9375\"/><text fill=\"#000000\" font-family=\"sans-serif\" font-size=\"11\" lengthAdjust=\"spacingAndGlyphs\" textLength=\"51\" x=\"38.5\" y=\"93.1479\">i: Integer</text><text fill=\"#000000\" font-family=\"sans-serif\" font-size=\"11\" lengthAdjust=\"spacingAndGlyphs\" textLength=\"21\" x=\"38.5\" y=\"105.9526\">x: A</text></a><!--MD5=[15ebcb19ae302d9b601edb458606d402]\n",
       "link E5 to E2--><a href=\"psysml:a788c1ae-8502-4aea-9d8b-5a5d865c76a9\" target=\"_top\" title=\"psysml:a788c1ae-8502-4aea-9d8b-5a5d865c76a9\" xlink:actuate=\"onRequest\" xlink:href=\"psysml:a788c1ae-8502-4aea-9d8b-5a5d865c76a9\" xlink:show=\"new\" xlink:title=\"psysml:a788c1ae-8502-4aea-9d8b-5a5d865c76a9\" xlink:type=\"simple\"><path d=\"M727.85,100.25 C720.81,115.68 711.27,136.61 703.07,154.58 \" fill=\"none\" id=\"E5-&gt;E2\" style=\"stroke: #A80036; stroke-width: 1.0;\"/><polygon fill=\"#FFFFFF\" points=\"694.74,172.84,696.2548,152.6483,708.9927,158.4573,694.74,172.84\" style=\"stroke: #A80036; stroke-width: 1.0;\"/><ellipse cx=\"700.4396\" cy=\"148.292\" fill=\"#A80036\" rx=\"2\" ry=\"2\" style=\"stroke: #A80036; stroke-width: 1.0;\"/><ellipse cx=\"709.5381\" cy=\"152.4413\" fill=\"#A80036\" rx=\"2\" ry=\"2\" style=\"stroke: #A80036; stroke-width: 1.0;\"/></a><!--MD5=[2351f337d6de0f557b50152ba70847b5]\n",
       "link E6 to E2--><a href=\"psysml:96c9e024-7b1d-4ba9-883a-860d4899a00e\" target=\"_top\" title=\"psysml:96c9e024-7b1d-4ba9-883a-860d4899a00e\" xlink:actuate=\"onRequest\" xlink:href=\"psysml:96c9e024-7b1d-4ba9-883a-860d4899a00e\" xlink:show=\"new\" xlink:title=\"psysml:96c9e024-7b1d-4ba9-883a-860d4899a00e\" xlink:type=\"simple\"><path d=\"M644.95,100.25 C651.86,115.68 661.22,136.61 669.26,154.58 \" fill=\"none\" id=\"E6-&gt;E2\" style=\"stroke: #A80036; stroke-width: 1.0;\"/><polygon fill=\"#FFFFFF\" points=\"677.43,172.84,663.2788,158.3574,676.0573,152.6381,677.43,172.84\" style=\"stroke: #A80036; stroke-width: 1.0;\"/><ellipse cx=\"662.7757\" cy=\"152.3377\" fill=\"#A80036\" rx=\"2\" ry=\"2\" style=\"stroke: #A80036; stroke-width: 1.0;\"/><ellipse cx=\"671.9032\" cy=\"148.2525\" fill=\"#A80036\" rx=\"2\" ry=\"2\" style=\"stroke: #A80036; stroke-width: 1.0;\"/></a><!--MD5=[a556de6ff180598273b82a78944473c9]\n",
       "@startuml\r\n",
       " \r\n",
       "package \"MultiplicityTest\" as E1  [[psysml:04657276-263c-446b-8b63-b81fdc3bdb65 ]]  {\r\n",
       "comp def \"P\" as E2 << << (B,green) >> [[psysml:68eb8761-ff46-4523-ba58-41a062b6cb94 ]] {\r\n",
       "}\r\n",
       "comp usage \"n: Integer\" as E3 << <<(U,orange) attribute>> [[psysml:c2c67205-2617-478d-9839-9411bc2f8511 ]] {\r\n",
       "}\r\n",
       "comp usage \"a\" as E4 << << (P,limegreen) part>> [[psysml:fbb3215b-67d9-4514-b40f-6d8c33165593 ]] {\r\n",
       "}\r\n",
       "comp usage \"b: P\" as E5 << << (P,limegreen) part>> [[psysml:d1ff5ca6-7417-4682-b046-127881647fcb ]] {\r\n",
       "}\r\n",
       "comp usage \"c: P\" as E6 << << (P,limegreen) part>> [[psysml:20d627d7-8daa-4ea4-8c0c-0e67ee5e3616 ]] {\r\n",
       "}\r\n",
       "comp usage \"d\" as E7 << << (P,limegreen) part>> [[psysml:4fc87a01-ac01-48e0-9821-1b5b80a637f1 ]] {\r\n",
       "}\r\n",
       "comp usage \"e\" as E8 << << (P,limegreen) part>> [[psysml:e7c3b12c-9054-4127-bd5f-a31eeffec0a6 ]] {\r\n",
       "}\r\n",
       "comp usage \"f\" as E9 << << (P,limegreen) part>> [[psysml:49b700d2-d9c4-4257-84cb-c65bfac2aa08 ]] {\r\n",
       "}\r\n",
       "comp usage \"g\" as E10 << << (P,limegreen) part>> [[psysml:20161f3e-4930-46fe-a17d-f79ec2a77aae ]] {\r\n",
       "}\r\n",
       "comp def \"A\" as E11 << <<(D,brown) attribute def>> [[psysml:958dabfe-3a24-44d8-9bca-d5e375f56ac2 ]] {\r\n",
       "i: Integer\r\n",
       "x: A\r\n",
       "}\r\n",
       "E5 - -:|> E2 [[psysml:a788c1ae-8502-4aea-9d8b-5a5d865c76a9 ]] \r\n",
       "E6 - -:|> E2 [[psysml:96c9e024-7b1d-4ba9-883a-860d4899a00e ]] \r\n",
       "}\r\n",
       "@enduml\r\n",
       "\n",
       "PlantUML version 1.2020.13(Sat Jun 13 12:26:38 UTC 2020)\n",
       "(EPL source distribution)\n",
       "Java Runtime: OpenJDK Runtime Environment\n",
       "JVM: OpenJDK 64-Bit Server VM\n",
       "Default Encoding: UTF-8\n",
       "Language: en\n",
       "Country: null\n",
       "--></g></svg>"
      ]
     },
     "execution_count": 30,
     "metadata": {},
     "output_type": "execute_result"
    }
   ],
   "source": [
    "%viz --style=\"PLANTUML\" --view=\"Default\" \"MultiplicityTest\""
   ]
  },
  {
   "cell_type": "code",
   "execution_count": 31,
   "id": "81052f04",
   "metadata": {
    "execution": {
     "iopub.execute_input": "2021-08-04T06:29:51.800201Z",
     "iopub.status.busy": "2021-08-04T06:29:51.799559Z",
     "iopub.status.idle": "2021-08-04T06:29:51.841971Z",
     "shell.execute_reply": "2021-08-04T06:29:51.841594Z"
    }
   },
   "outputs": [
    {
     "data": {
      "image/svg+xml": [
       "<?xml version=\"1.0\" encoding=\"UTF-8\" standalone=\"no\"?><svg xmlns=\"http://www.w3.org/2000/svg\" xmlns:xlink=\"http://www.w3.org/1999/xlink\" contentScriptType=\"application/ecmascript\" contentStyleType=\"text/css\" height=\"241px\" preserveAspectRatio=\"none\" style=\"width:1045px;height:241px;\" version=\"1.1\" viewBox=\"0 0 1045 241\" width=\"1045px\" zoomAndPan=\"magnify\"><defs><filter height=\"300%\" id=\"fme7ni5qz1j54\" width=\"300%\" x=\"-1\" y=\"-1\"><feGaussianBlur result=\"blurOut\" stdDeviation=\"2.0\"/><feColorMatrix in=\"blurOut\" result=\"blurOut2\" type=\"matrix\" values=\"0 0 0 0 0 0 0 0 0 0 0 0 0 0 0 0 0 0 .4 0\"/><feOffset dx=\"4.0\" dy=\"4.0\" in=\"blurOut2\" result=\"blurOut3\"/><feBlend in=\"SourceGraphic\" in2=\"blurOut3\" mode=\"normal\"/></filter></defs><g><!--MD5=[fbc87193dbaf4d95561dea2c320d4a47]\n",
       "cluster E1--><a href=\"psysml:04657276-263c-446b-8b63-b81fdc3bdb65\" target=\"_top\" title=\"psysml:04657276-263c-446b-8b63-b81fdc3bdb65\" xlink:actuate=\"onRequest\" xlink:href=\"psysml:04657276-263c-446b-8b63-b81fdc3bdb65\" xlink:show=\"new\" xlink:title=\"psysml:04657276-263c-446b-8b63-b81fdc3bdb65\" xlink:type=\"simple\"><polygon fill=\"#FFFFFF\" filter=\"url(#fme7ni5qz1j54)\" points=\"16,6,140,6,147,28.2969,1023,28.2969,1023,229,16,229,16,6\" style=\"stroke: #000000; stroke-width: 1.5;\"/><line style=\"stroke: #000000; stroke-width: 1.5;\" x1=\"16\" x2=\"147\" y1=\"28.2969\" y2=\"28.2969\"/><text fill=\"#000000\" font-family=\"sans-serif\" font-size=\"14\" font-weight=\"bold\" lengthAdjust=\"spacingAndGlyphs\" textLength=\"118\" x=\"20\" y=\"20.9951\">MultiplicityTest</text></a><!--MD5=[b4997ac47864f28c2f74865a473b2911]\n",
       "class E2--><a href=\"psysml:68eb8761-ff46-4523-ba58-41a062b6cb94\" target=\"_top\" title=\"psysml:68eb8761-ff46-4523-ba58-41a062b6cb94\" xlink:actuate=\"onRequest\" xlink:href=\"psysml:68eb8761-ff46-4523-ba58-41a062b6cb94\" xlink:show=\"new\" xlink:title=\"psysml:68eb8761-ff46-4523-ba58-41a062b6cb94\" xlink:type=\"simple\"><rect fill=\"#FEFECE\" filter=\"url(#fme7ni5qz1j54)\" height=\"40\" id=\"E2\" style=\"stroke: #A80036; stroke-width: 1.5;\" width=\"40\" x=\"666\" y=\"173\"/><ellipse cx=\"681\" cy=\"189\" fill=\"#008000\" rx=\"11\" ry=\"11\" style=\"stroke: #A80036; stroke-width: 1.0;\"/><path d=\"M679.9063,189.375 L679.9063,193.0469 L681.5313,193.0469 Q682.7031,193.0469 683.1719,192.6563 Q683.6406,192.25 683.6406,191.25 Q683.6406,190.25 683.1406,189.8125 Q682.6563,189.375 681.5313,189.375 L679.9063,189.375 Z M679.9063,184.5469 L679.9063,187.4219 L681.5313,187.4219 Q682.4531,187.4219 682.8438,187.0938 Q683.25,186.75 683.25,186 Q683.25,185.2344 682.8438,184.8906 Q682.4375,184.5469 681.5313,184.5469 L679.9063,184.5469 Z M677.5313,182.5938 L681.5313,182.5938 Q683.5938,182.5938 684.6406,183.375 Q685.6875,184.1563 685.6875,185.7188 Q685.6875,186.9219 685.0625,187.5938 Q684.4531,188.2656 683.2656,188.375 Q684.6875,188.5156 685.4063,189.3281 Q686.125,190.1406 686.125,191.5938 Q686.125,193.3906 685.0469,194.2031 Q683.9688,195 681.5313,195 L677.5313,195 L677.5313,182.5938 Z \"/><text fill=\"#000000\" font-family=\"sans-serif\" font-size=\"12\" lengthAdjust=\"spacingAndGlyphs\" textLength=\"8\" x=\"695\" y=\"193.1543\">P</text><line style=\"stroke: #A80036; stroke-width: 1.5;\" x1=\"667\" x2=\"705\" y1=\"205\" y2=\"205\"/></a><!--MD5=[09b614a08d8cba4a07c9adeb5e0fee81]\n",
       "class E3--><a href=\"psysml:c2c67205-2617-478d-9839-9411bc2f8511\" target=\"_top\" title=\"psysml:c2c67205-2617-478d-9839-9411bc2f8511\" xlink:actuate=\"onRequest\" xlink:href=\"psysml:c2c67205-2617-478d-9839-9411bc2f8511\" xlink:show=\"new\" xlink:title=\"psysml:c2c67205-2617-478d-9839-9411bc2f8511\" xlink:type=\"simple\"><rect fill=\"#FEFECE\" filter=\"url(#fme7ni5qz1j54)\" height=\"45.9375\" id=\"E3\" rx=\"10\" ry=\"10\" style=\"stroke: #A80036; stroke-width: 1.5;\" width=\"97\" x=\"910.5\" y=\"54\"/><ellipse cx=\"925.5\" cy=\"72.9688\" fill=\"#FFA500\" rx=\"11\" ry=\"11\" style=\"stroke: #A80036; stroke-width: 1.0;\"/><path d=\"M921.375,74.8906 L921.375,67.0781 L923.8281,67.0781 L923.8281,75.5156 Q923.8281,76.4375 924.2969,76.9688 Q924.7813,77.5 925.6094,77.5 Q926.4531,77.5 926.9219,76.9688 Q927.3906,76.4375 927.3906,75.5156 L927.3906,67.0781 L929.8438,67.0781 L929.8438,74.8906 Q929.8438,77.4219 928.8438,78.5625 Q927.8438,79.7031 925.6094,79.7031 Q923.3906,79.7031 922.375,78.5625 Q921.375,77.4219 921.375,74.8906 Z \"/><text fill=\"#000000\" font-family=\"sans-serif\" font-size=\"12\" font-style=\"italic\" lengthAdjust=\"spacingAndGlyphs\" textLength=\"69\" x=\"937.5\" y=\"70.1387\">«attribute»</text><text fill=\"#000000\" font-family=\"sans-serif\" font-size=\"12\" lengthAdjust=\"spacingAndGlyphs\" textLength=\"61\" x=\"941.5\" y=\"84.1074\">n: Integer</text><line style=\"stroke: #A80036; stroke-width: 1.5;\" x1=\"911.5\" x2=\"1006.5\" y1=\"91.9375\" y2=\"91.9375\"/></a><!--MD5=[ebbe1d658d1005bcc118a6aa81145e00]\n",
       "class E4--><a href=\"psysml:fbb3215b-67d9-4514-b40f-6d8c33165593\" target=\"_top\" title=\"psysml:fbb3215b-67d9-4514-b40f-6d8c33165593\" xlink:actuate=\"onRequest\" xlink:href=\"psysml:fbb3215b-67d9-4514-b40f-6d8c33165593\" xlink:show=\"new\" xlink:title=\"psysml:fbb3215b-67d9-4514-b40f-6d8c33165593\" xlink:type=\"simple\"><rect fill=\"#FEFECE\" filter=\"url(#fme7ni5qz1j54)\" height=\"45.9375\" id=\"E4\" rx=\"10\" ry=\"10\" style=\"stroke: #A80036; stroke-width: 1.5;\" width=\"68\" x=\"807\" y=\"54\"/><ellipse cx=\"822\" cy=\"72.9688\" fill=\"#32CD32\" rx=\"11\" ry=\"11\" style=\"stroke: #A80036; stroke-width: 1.0;\"/><path d=\"M821.7969,68.6406 L821.7969,72.2656 L822.7969,72.2656 Q824,72.2656 824.4844,71.8594 Q824.9688,71.4531 824.9688,70.4531 Q824.9688,69.4531 824.4844,69.0469 Q824,68.6406 822.7969,68.6406 L821.7969,68.6406 Z M819.3438,66.5781 L822.7031,66.5781 Q825.2656,66.5781 826.3906,67.5 Q827.5156,68.4063 827.5156,70.4531 Q827.5156,72.5 826.3906,73.4219 Q825.2656,74.3281 822.7031,74.3281 L821.7969,74.3281 L821.7969,78.9688 L819.3438,78.9688 L819.3438,66.5781 Z \"/><text fill=\"#000000\" font-family=\"sans-serif\" font-size=\"12\" font-style=\"italic\" lengthAdjust=\"spacingAndGlyphs\" textLength=\"40\" x=\"834\" y=\"70.1387\">«part»</text><text fill=\"#000000\" font-family=\"sans-serif\" font-size=\"12\" lengthAdjust=\"spacingAndGlyphs\" textLength=\"8\" x=\"850\" y=\"84.1074\">a</text><line style=\"stroke: #A80036; stroke-width: 1.5;\" x1=\"808\" x2=\"874\" y1=\"91.9375\" y2=\"91.9375\"/></a><!--MD5=[270fce915f116d4de14055a7c1d9a0f3]\n",
       "class E5--><a href=\"psysml:d1ff5ca6-7417-4682-b046-127881647fcb\" target=\"_top\" title=\"psysml:d1ff5ca6-7417-4682-b046-127881647fcb\" xlink:actuate=\"onRequest\" xlink:href=\"psysml:d1ff5ca6-7417-4682-b046-127881647fcb\" xlink:show=\"new\" xlink:title=\"psysml:d1ff5ca6-7417-4682-b046-127881647fcb\" xlink:type=\"simple\"><rect fill=\"#FEFECE\" filter=\"url(#fme7ni5qz1j54)\" height=\"45.9375\" id=\"E5\" rx=\"10\" ry=\"10\" style=\"stroke: #A80036; stroke-width: 1.5;\" width=\"68\" x=\"704\" y=\"54\"/><ellipse cx=\"719\" cy=\"72.9688\" fill=\"#32CD32\" rx=\"11\" ry=\"11\" style=\"stroke: #A80036; stroke-width: 1.0;\"/><path d=\"M718.7969,68.6406 L718.7969,72.2656 L719.7969,72.2656 Q721,72.2656 721.4844,71.8594 Q721.9688,71.4531 721.9688,70.4531 Q721.9688,69.4531 721.4844,69.0469 Q721,68.6406 719.7969,68.6406 L718.7969,68.6406 Z M716.3438,66.5781 L719.7031,66.5781 Q722.2656,66.5781 723.3906,67.5 Q724.5156,68.4063 724.5156,70.4531 Q724.5156,72.5 723.3906,73.4219 Q722.2656,74.3281 719.7031,74.3281 L718.7969,74.3281 L718.7969,78.9688 L716.3438,78.9688 L716.3438,66.5781 Z \"/><text fill=\"#000000\" font-family=\"sans-serif\" font-size=\"12\" font-style=\"italic\" lengthAdjust=\"spacingAndGlyphs\" textLength=\"40\" x=\"731\" y=\"70.1387\">«part»</text><text fill=\"#000000\" font-family=\"sans-serif\" font-size=\"12\" lengthAdjust=\"spacingAndGlyphs\" textLength=\"24\" x=\"739\" y=\"84.1074\">b: P</text><line style=\"stroke: #A80036; stroke-width: 1.5;\" x1=\"705\" x2=\"771\" y1=\"91.9375\" y2=\"91.9375\"/></a><!--MD5=[60a26617385b1d2d0262a64233df1f8d]\n",
       "class E6--><a href=\"psysml:20d627d7-8daa-4ea4-8c0c-0e67ee5e3616\" target=\"_top\" title=\"psysml:20d627d7-8daa-4ea4-8c0c-0e67ee5e3616\" xlink:actuate=\"onRequest\" xlink:href=\"psysml:20d627d7-8daa-4ea4-8c0c-0e67ee5e3616\" xlink:show=\"new\" xlink:title=\"psysml:20d627d7-8daa-4ea4-8c0c-0e67ee5e3616\" xlink:type=\"simple\"><rect fill=\"#FEFECE\" filter=\"url(#fme7ni5qz1j54)\" height=\"45.9375\" id=\"E6\" rx=\"10\" ry=\"10\" style=\"stroke: #A80036; stroke-width: 1.5;\" width=\"68\" x=\"601\" y=\"54\"/><ellipse cx=\"616\" cy=\"72.9688\" fill=\"#32CD32\" rx=\"11\" ry=\"11\" style=\"stroke: #A80036; stroke-width: 1.0;\"/><path d=\"M615.7969,68.6406 L615.7969,72.2656 L616.7969,72.2656 Q618,72.2656 618.4844,71.8594 Q618.9688,71.4531 618.9688,70.4531 Q618.9688,69.4531 618.4844,69.0469 Q618,68.6406 616.7969,68.6406 L615.7969,68.6406 Z M613.3438,66.5781 L616.7031,66.5781 Q619.2656,66.5781 620.3906,67.5 Q621.5156,68.4063 621.5156,70.4531 Q621.5156,72.5 620.3906,73.4219 Q619.2656,74.3281 616.7031,74.3281 L615.7969,74.3281 L615.7969,78.9688 L613.3438,78.9688 L613.3438,66.5781 Z \"/><text fill=\"#000000\" font-family=\"sans-serif\" font-size=\"12\" font-style=\"italic\" lengthAdjust=\"spacingAndGlyphs\" textLength=\"40\" x=\"628\" y=\"70.1387\">«part»</text><text fill=\"#000000\" font-family=\"sans-serif\" font-size=\"12\" lengthAdjust=\"spacingAndGlyphs\" textLength=\"23\" x=\"636.5\" y=\"84.1074\">c: P</text><line style=\"stroke: #A80036; stroke-width: 1.5;\" x1=\"602\" x2=\"668\" y1=\"91.9375\" y2=\"91.9375\"/></a><!--MD5=[2156ba9850f5573cc1fc38a6a4b2f02b]\n",
       "class E7--><a href=\"psysml:4fc87a01-ac01-48e0-9821-1b5b80a637f1\" target=\"_top\" title=\"psysml:4fc87a01-ac01-48e0-9821-1b5b80a637f1\" xlink:actuate=\"onRequest\" xlink:href=\"psysml:4fc87a01-ac01-48e0-9821-1b5b80a637f1\" xlink:show=\"new\" xlink:title=\"psysml:4fc87a01-ac01-48e0-9821-1b5b80a637f1\" xlink:type=\"simple\"><rect fill=\"#FEFECE\" filter=\"url(#fme7ni5qz1j54)\" height=\"45.9375\" id=\"E7\" rx=\"10\" ry=\"10\" style=\"stroke: #A80036; stroke-width: 1.5;\" width=\"68\" x=\"498\" y=\"54\"/><ellipse cx=\"513\" cy=\"72.9688\" fill=\"#32CD32\" rx=\"11\" ry=\"11\" style=\"stroke: #A80036; stroke-width: 1.0;\"/><path d=\"M512.7969,68.6406 L512.7969,72.2656 L513.7969,72.2656 Q515,72.2656 515.4844,71.8594 Q515.9688,71.4531 515.9688,70.4531 Q515.9688,69.4531 515.4844,69.0469 Q515,68.6406 513.7969,68.6406 L512.7969,68.6406 Z M510.3438,66.5781 L513.7031,66.5781 Q516.2656,66.5781 517.3906,67.5 Q518.5156,68.4063 518.5156,70.4531 Q518.5156,72.5 517.3906,73.4219 Q516.2656,74.3281 513.7031,74.3281 L512.7969,74.3281 L512.7969,78.9688 L510.3438,78.9688 L510.3438,66.5781 Z \"/><text fill=\"#000000\" font-family=\"sans-serif\" font-size=\"12\" font-style=\"italic\" lengthAdjust=\"spacingAndGlyphs\" textLength=\"40\" x=\"525\" y=\"70.1387\">«part»</text><text fill=\"#000000\" font-family=\"sans-serif\" font-size=\"12\" lengthAdjust=\"spacingAndGlyphs\" textLength=\"8\" x=\"541\" y=\"84.1074\">d</text><line style=\"stroke: #A80036; stroke-width: 1.5;\" x1=\"499\" x2=\"565\" y1=\"91.9375\" y2=\"91.9375\"/></a><!--MD5=[b9389687b975829384b498ac4b7476b2]\n",
       "class E8--><a href=\"psysml:e7c3b12c-9054-4127-bd5f-a31eeffec0a6\" target=\"_top\" title=\"psysml:e7c3b12c-9054-4127-bd5f-a31eeffec0a6\" xlink:actuate=\"onRequest\" xlink:href=\"psysml:e7c3b12c-9054-4127-bd5f-a31eeffec0a6\" xlink:show=\"new\" xlink:title=\"psysml:e7c3b12c-9054-4127-bd5f-a31eeffec0a6\" xlink:type=\"simple\"><rect fill=\"#FEFECE\" filter=\"url(#fme7ni5qz1j54)\" height=\"45.9375\" id=\"E8\" rx=\"10\" ry=\"10\" style=\"stroke: #A80036; stroke-width: 1.5;\" width=\"68\" x=\"395\" y=\"54\"/><ellipse cx=\"410\" cy=\"72.9688\" fill=\"#32CD32\" rx=\"11\" ry=\"11\" style=\"stroke: #A80036; stroke-width: 1.0;\"/><path d=\"M409.7969,68.6406 L409.7969,72.2656 L410.7969,72.2656 Q412,72.2656 412.4844,71.8594 Q412.9688,71.4531 412.9688,70.4531 Q412.9688,69.4531 412.4844,69.0469 Q412,68.6406 410.7969,68.6406 L409.7969,68.6406 Z M407.3438,66.5781 L410.7031,66.5781 Q413.2656,66.5781 414.3906,67.5 Q415.5156,68.4063 415.5156,70.4531 Q415.5156,72.5 414.3906,73.4219 Q413.2656,74.3281 410.7031,74.3281 L409.7969,74.3281 L409.7969,78.9688 L407.3438,78.9688 L407.3438,66.5781 Z \"/><text fill=\"#000000\" font-family=\"sans-serif\" font-size=\"12\" font-style=\"italic\" lengthAdjust=\"spacingAndGlyphs\" textLength=\"40\" x=\"422\" y=\"70.1387\">«part»</text><text fill=\"#000000\" font-family=\"sans-serif\" font-size=\"12\" lengthAdjust=\"spacingAndGlyphs\" textLength=\"8\" x=\"438\" y=\"84.1074\">e</text><line style=\"stroke: #A80036; stroke-width: 1.5;\" x1=\"396\" x2=\"462\" y1=\"91.9375\" y2=\"91.9375\"/></a><!--MD5=[fd4143e9d270a159db93a4ea2a975926]\n",
       "class E9--><a href=\"psysml:49b700d2-d9c4-4257-84cb-c65bfac2aa08\" target=\"_top\" title=\"psysml:49b700d2-d9c4-4257-84cb-c65bfac2aa08\" xlink:actuate=\"onRequest\" xlink:href=\"psysml:49b700d2-d9c4-4257-84cb-c65bfac2aa08\" xlink:show=\"new\" xlink:title=\"psysml:49b700d2-d9c4-4257-84cb-c65bfac2aa08\" xlink:type=\"simple\"><rect fill=\"#FEFECE\" filter=\"url(#fme7ni5qz1j54)\" height=\"45.9375\" id=\"E9\" rx=\"10\" ry=\"10\" style=\"stroke: #A80036; stroke-width: 1.5;\" width=\"68\" x=\"292\" y=\"54\"/><ellipse cx=\"307\" cy=\"72.9688\" fill=\"#32CD32\" rx=\"11\" ry=\"11\" style=\"stroke: #A80036; stroke-width: 1.0;\"/><path d=\"M306.7969,68.6406 L306.7969,72.2656 L307.7969,72.2656 Q309,72.2656 309.4844,71.8594 Q309.9688,71.4531 309.9688,70.4531 Q309.9688,69.4531 309.4844,69.0469 Q309,68.6406 307.7969,68.6406 L306.7969,68.6406 Z M304.3438,66.5781 L307.7031,66.5781 Q310.2656,66.5781 311.3906,67.5 Q312.5156,68.4063 312.5156,70.4531 Q312.5156,72.5 311.3906,73.4219 Q310.2656,74.3281 307.7031,74.3281 L306.7969,74.3281 L306.7969,78.9688 L304.3438,78.9688 L304.3438,66.5781 Z \"/><text fill=\"#000000\" font-family=\"sans-serif\" font-size=\"12\" font-style=\"italic\" lengthAdjust=\"spacingAndGlyphs\" textLength=\"40\" x=\"319\" y=\"70.1387\">«part»</text><text fill=\"#000000\" font-family=\"sans-serif\" font-size=\"12\" lengthAdjust=\"spacingAndGlyphs\" textLength=\"4\" x=\"337\" y=\"84.1074\">f</text><line style=\"stroke: #A80036; stroke-width: 1.5;\" x1=\"293\" x2=\"359\" y1=\"91.9375\" y2=\"91.9375\"/></a><!--MD5=[96f4274e9e20536e775497830990834d]\n",
       "class E10--><a href=\"psysml:20161f3e-4930-46fe-a17d-f79ec2a77aae\" target=\"_top\" title=\"psysml:20161f3e-4930-46fe-a17d-f79ec2a77aae\" xlink:actuate=\"onRequest\" xlink:href=\"psysml:20161f3e-4930-46fe-a17d-f79ec2a77aae\" xlink:show=\"new\" xlink:title=\"psysml:20161f3e-4930-46fe-a17d-f79ec2a77aae\" xlink:type=\"simple\"><rect fill=\"#FEFECE\" filter=\"url(#fme7ni5qz1j54)\" height=\"45.9375\" id=\"E10\" rx=\"10\" ry=\"10\" style=\"stroke: #A80036; stroke-width: 1.5;\" width=\"68\" x=\"189\" y=\"54\"/><ellipse cx=\"204\" cy=\"72.9688\" fill=\"#32CD32\" rx=\"11\" ry=\"11\" style=\"stroke: #A80036; stroke-width: 1.0;\"/><path d=\"M203.7969,68.6406 L203.7969,72.2656 L204.7969,72.2656 Q206,72.2656 206.4844,71.8594 Q206.9688,71.4531 206.9688,70.4531 Q206.9688,69.4531 206.4844,69.0469 Q206,68.6406 204.7969,68.6406 L203.7969,68.6406 Z M201.3438,66.5781 L204.7031,66.5781 Q207.2656,66.5781 208.3906,67.5 Q209.5156,68.4063 209.5156,70.4531 Q209.5156,72.5 208.3906,73.4219 Q207.2656,74.3281 204.7031,74.3281 L203.7969,74.3281 L203.7969,78.9688 L201.3438,78.9688 L201.3438,66.5781 Z \"/><text fill=\"#000000\" font-family=\"sans-serif\" font-size=\"12\" font-style=\"italic\" lengthAdjust=\"spacingAndGlyphs\" textLength=\"40\" x=\"216\" y=\"70.1387\">«part»</text><text fill=\"#000000\" font-family=\"sans-serif\" font-size=\"12\" lengthAdjust=\"spacingAndGlyphs\" textLength=\"8\" x=\"232\" y=\"84.1074\">g</text><line style=\"stroke: #A80036; stroke-width: 1.5;\" x1=\"190\" x2=\"256\" y1=\"91.9375\" y2=\"91.9375\"/></a><!--MD5=[1dd1bfd58a279cf63c5f349dbc8fc6a1]\n",
       "class E11--><a href=\"psysml:958dabfe-3a24-44d8-9bca-d5e375f56ac2\" target=\"_top\" title=\"psysml:958dabfe-3a24-44d8-9bca-d5e375f56ac2\" xlink:actuate=\"onRequest\" xlink:href=\"psysml:958dabfe-3a24-44d8-9bca-d5e375f56ac2\" xlink:show=\"new\" xlink:title=\"psysml:958dabfe-3a24-44d8-9bca-d5e375f56ac2\" xlink:type=\"simple\"><rect fill=\"#FEFECE\" filter=\"url(#fme7ni5qz1j54)\" height=\"71.5469\" id=\"E11\" style=\"stroke: #A80036; stroke-width: 1.5;\" width=\"121\" x=\"32.5\" y=\"41\"/><ellipse cx=\"47.5\" cy=\"59.9688\" fill=\"#A52A2A\" rx=\"11\" ry=\"11\" style=\"stroke: #A80036; stroke-width: 1.0;\"/><path d=\"M47.0938,55.7813 L47.0938,63.7656 L47.75,63.7656 Q49.1875,63.7656 49.7969,62.8594 Q50.4219,61.9375 50.4219,59.7656 Q50.4219,57.5938 49.7969,56.6875 Q49.1875,55.7813 47.75,55.7813 L47.0938,55.7813 Z M44.6406,53.5781 L47.2656,53.5781 Q50.2969,53.5781 51.625,55.0313 Q52.9688,56.4688 52.9688,59.7656 Q52.9688,63.0625 51.625,64.5156 Q50.2969,65.9688 47.2656,65.9688 L44.6406,65.9688 L44.6406,53.5781 Z \"/><text fill=\"#000000\" font-family=\"sans-serif\" font-size=\"12\" font-style=\"italic\" lengthAdjust=\"spacingAndGlyphs\" textLength=\"93\" x=\"59.5\" y=\"57.1387\">«attribute def»</text><text fill=\"#000000\" font-family=\"sans-serif\" font-size=\"12\" lengthAdjust=\"spacingAndGlyphs\" textLength=\"8\" x=\"102\" y=\"71.1074\">A</text><line style=\"stroke: #A80036; stroke-width: 1.5;\" x1=\"33.5\" x2=\"152.5\" y1=\"78.9375\" y2=\"78.9375\"/><text fill=\"#000000\" font-family=\"sans-serif\" font-size=\"11\" lengthAdjust=\"spacingAndGlyphs\" textLength=\"51\" x=\"38.5\" y=\"93.1479\">i: Integer</text><text fill=\"#000000\" font-family=\"sans-serif\" font-size=\"11\" lengthAdjust=\"spacingAndGlyphs\" textLength=\"21\" x=\"38.5\" y=\"105.9526\">x: A</text></a><!--MD5=[15ebcb19ae302d9b601edb458606d402]\n",
       "link E5 to E2--><a href=\"psysml:a788c1ae-8502-4aea-9d8b-5a5d865c76a9\" target=\"_top\" title=\"psysml:a788c1ae-8502-4aea-9d8b-5a5d865c76a9\" xlink:actuate=\"onRequest\" xlink:href=\"psysml:a788c1ae-8502-4aea-9d8b-5a5d865c76a9\" xlink:show=\"new\" xlink:title=\"psysml:a788c1ae-8502-4aea-9d8b-5a5d865c76a9\" xlink:type=\"simple\"><path d=\"M727.85,100.25 C720.81,115.68 711.27,136.61 703.07,154.58 \" fill=\"none\" id=\"E5-&gt;E2\" style=\"stroke: #A80036; stroke-width: 1.0;\"/><polygon fill=\"#FFFFFF\" points=\"694.74,172.84,696.2548,152.6483,708.9927,158.4573,694.74,172.84\" style=\"stroke: #A80036; stroke-width: 1.0;\"/><ellipse cx=\"700.4396\" cy=\"148.292\" fill=\"#A80036\" rx=\"2\" ry=\"2\" style=\"stroke: #A80036; stroke-width: 1.0;\"/><ellipse cx=\"709.5381\" cy=\"152.4413\" fill=\"#A80036\" rx=\"2\" ry=\"2\" style=\"stroke: #A80036; stroke-width: 1.0;\"/></a><!--MD5=[2351f337d6de0f557b50152ba70847b5]\n",
       "link E6 to E2--><a href=\"psysml:96c9e024-7b1d-4ba9-883a-860d4899a00e\" target=\"_top\" title=\"psysml:96c9e024-7b1d-4ba9-883a-860d4899a00e\" xlink:actuate=\"onRequest\" xlink:href=\"psysml:96c9e024-7b1d-4ba9-883a-860d4899a00e\" xlink:show=\"new\" xlink:title=\"psysml:96c9e024-7b1d-4ba9-883a-860d4899a00e\" xlink:type=\"simple\"><path d=\"M644.95,100.25 C651.86,115.68 661.22,136.61 669.26,154.58 \" fill=\"none\" id=\"E6-&gt;E2\" style=\"stroke: #A80036; stroke-width: 1.0;\"/><polygon fill=\"#FFFFFF\" points=\"677.43,172.84,663.2788,158.3574,676.0573,152.6381,677.43,172.84\" style=\"stroke: #A80036; stroke-width: 1.0;\"/><ellipse cx=\"662.7757\" cy=\"152.3377\" fill=\"#A80036\" rx=\"2\" ry=\"2\" style=\"stroke: #A80036; stroke-width: 1.0;\"/><ellipse cx=\"671.9032\" cy=\"148.2525\" fill=\"#A80036\" rx=\"2\" ry=\"2\" style=\"stroke: #A80036; stroke-width: 1.0;\"/></a><!--MD5=[a556de6ff180598273b82a78944473c9]\n",
       "@startuml\r\n",
       " \r\n",
       "package \"MultiplicityTest\" as E1  [[psysml:04657276-263c-446b-8b63-b81fdc3bdb65 ]]  {\r\n",
       "comp def \"P\" as E2 << << (B,green) >> [[psysml:68eb8761-ff46-4523-ba58-41a062b6cb94 ]] {\r\n",
       "}\r\n",
       "comp usage \"n: Integer\" as E3 << <<(U,orange) attribute>> [[psysml:c2c67205-2617-478d-9839-9411bc2f8511 ]] {\r\n",
       "}\r\n",
       "comp usage \"a\" as E4 << << (P,limegreen) part>> [[psysml:fbb3215b-67d9-4514-b40f-6d8c33165593 ]] {\r\n",
       "}\r\n",
       "comp usage \"b: P\" as E5 << << (P,limegreen) part>> [[psysml:d1ff5ca6-7417-4682-b046-127881647fcb ]] {\r\n",
       "}\r\n",
       "comp usage \"c: P\" as E6 << << (P,limegreen) part>> [[psysml:20d627d7-8daa-4ea4-8c0c-0e67ee5e3616 ]] {\r\n",
       "}\r\n",
       "comp usage \"d\" as E7 << << (P,limegreen) part>> [[psysml:4fc87a01-ac01-48e0-9821-1b5b80a637f1 ]] {\r\n",
       "}\r\n",
       "comp usage \"e\" as E8 << << (P,limegreen) part>> [[psysml:e7c3b12c-9054-4127-bd5f-a31eeffec0a6 ]] {\r\n",
       "}\r\n",
       "comp usage \"f\" as E9 << << (P,limegreen) part>> [[psysml:49b700d2-d9c4-4257-84cb-c65bfac2aa08 ]] {\r\n",
       "}\r\n",
       "comp usage \"g\" as E10 << << (P,limegreen) part>> [[psysml:20161f3e-4930-46fe-a17d-f79ec2a77aae ]] {\r\n",
       "}\r\n",
       "comp def \"A\" as E11 << <<(D,brown) attribute def>> [[psysml:958dabfe-3a24-44d8-9bca-d5e375f56ac2 ]] {\r\n",
       "i: Integer\r\n",
       "x: A\r\n",
       "}\r\n",
       "E5 - -:|> E2 [[psysml:a788c1ae-8502-4aea-9d8b-5a5d865c76a9 ]] \r\n",
       "E6 - -:|> E2 [[psysml:96c9e024-7b1d-4ba9-883a-860d4899a00e ]] \r\n",
       "}\r\n",
       "@enduml\r\n",
       "\n",
       "PlantUML version 1.2020.13(Sat Jun 13 12:26:38 UTC 2020)\n",
       "(EPL source distribution)\n",
       "Java Runtime: OpenJDK Runtime Environment\n",
       "JVM: OpenJDK 64-Bit Server VM\n",
       "Default Encoding: UTF-8\n",
       "Language: en\n",
       "Country: null\n",
       "--></g></svg>"
      ]
     },
     "execution_count": 31,
     "metadata": {},
     "output_type": "execute_result"
    }
   ],
   "source": [
    "%viz --style=\"PLANTUML\" --view=\"Tree\" \"MultiplicityTest\""
   ]
  },
  {
   "cell_type": "code",
   "execution_count": 32,
   "id": "8f24d680",
   "metadata": {
    "execution": {
     "iopub.execute_input": "2021-08-04T06:29:51.892123Z",
     "iopub.status.busy": "2021-08-04T06:29:51.891492Z",
     "iopub.status.idle": "2021-08-04T06:29:51.964396Z",
     "shell.execute_reply": "2021-08-04T06:29:51.964192Z"
    }
   },
   "outputs": [
    {
     "data": {
      "image/svg+xml": [
       "<?xml version=\"1.0\" encoding=\"UTF-8\" standalone=\"no\"?><svg xmlns=\"http://www.w3.org/2000/svg\" xmlns:xlink=\"http://www.w3.org/1999/xlink\" contentScriptType=\"application/ecmascript\" contentStyleType=\"text/css\" height=\"303px\" preserveAspectRatio=\"none\" style=\"width:603px;height:303px;background:#000000;\" version=\"1.1\" viewBox=\"0 0 603 303\" width=\"603px\" zoomAndPan=\"magnify\"><defs/><g><rect fill=\"#100400\" height=\"1\" style=\"stroke: #100400; stroke-width: 1.0;\" width=\"1\" x=\"0\" y=\"0\"/><rect fill=\"#FFFFFF\" height=\"205.5625\" style=\"stroke: #FFFFFF; stroke-width: 1.0;\" width=\"602\" x=\"0\" y=\"0\"/><text fill=\"#000000\" font-family=\"sans-serif\" font-size=\"12\" font-weight=\"bold\" lengthAdjust=\"spacingAndGlyphs\" textLength=\"159\" x=\"5\" y=\"16.1387\">Welcome to PlantUML!</text><text fill=\"#000000\" font-family=\"sans-serif\" font-size=\"12\" lengthAdjust=\"spacingAndGlyphs\" textLength=\"0\" x=\"9\" y=\"30.1074\"/><text fill=\"#000000\" font-family=\"sans-serif\" font-size=\"12\" lengthAdjust=\"spacingAndGlyphs\" textLength=\"293\" x=\"5\" y=\"44.0762\">If you use this software, you accept its license.</text><text fill=\"#000000\" font-family=\"sans-serif\" font-size=\"12\" lengthAdjust=\"spacingAndGlyphs\" textLength=\"107\" x=\"5\" y=\"58.0449\">(details by typing</text><text fill=\"#000000\" font-family=\"monospace\" font-size=\"12\" lengthAdjust=\"spacingAndGlyphs\" textLength=\"49\" x=\"116\" y=\"58.0449\">license</text><text fill=\"#000000\" font-family=\"sans-serif\" font-size=\"12\" lengthAdjust=\"spacingAndGlyphs\" textLength=\"56\" x=\"169\" y=\"58.0449\">keyword)</text><text fill=\"#000000\" font-family=\"sans-serif\" font-size=\"12\" lengthAdjust=\"spacingAndGlyphs\" textLength=\"0\" x=\"9\" y=\"72.0137\"/><text fill=\"#000000\" font-family=\"sans-serif\" font-size=\"12\" lengthAdjust=\"spacingAndGlyphs\" textLength=\"283\" x=\"5\" y=\"85.9824\">You can start with a simple UML Diagram like:</text><text fill=\"#000000\" font-family=\"sans-serif\" font-size=\"12\" lengthAdjust=\"spacingAndGlyphs\" textLength=\"0\" x=\"9\" y=\"99.9512\"/><text fill=\"#000000\" font-family=\"monospace\" font-size=\"12\" lengthAdjust=\"spacingAndGlyphs\" textLength=\"119\" x=\"5\" y=\"113.9199\">Bob-&gt;Alice: Hello</text><text fill=\"#000000\" font-family=\"sans-serif\" font-size=\"12\" lengthAdjust=\"spacingAndGlyphs\" textLength=\"0\" x=\"9\" y=\"127.8887\"/><text fill=\"#000000\" font-family=\"sans-serif\" font-size=\"12\" lengthAdjust=\"spacingAndGlyphs\" textLength=\"14\" x=\"5\" y=\"141.8574\">Or</text><text fill=\"#000000\" font-family=\"sans-serif\" font-size=\"12\" lengthAdjust=\"spacingAndGlyphs\" textLength=\"0\" x=\"9\" y=\"155.8262\"/><text fill=\"#000000\" font-family=\"monospace\" font-size=\"12\" lengthAdjust=\"spacingAndGlyphs\" textLength=\"91\" x=\"5\" y=\"169.7949\">class Example</text><text fill=\"#000000\" font-family=\"sans-serif\" font-size=\"12\" lengthAdjust=\"spacingAndGlyphs\" textLength=\"0\" x=\"9\" y=\"183.7637\"/><text fill=\"#000000\" font-family=\"sans-serif\" font-size=\"12\" lengthAdjust=\"spacingAndGlyphs\" textLength=\"349\" x=\"5\" y=\"197.7324\">You will find more information about PlantUML syntax on</text><text fill=\"#000000\" font-family=\"sans-serif\" font-size=\"12\" lengthAdjust=\"spacingAndGlyphs\" text-decoration=\"underline\" textLength=\"129\" x=\"358\" y=\"197.7324\">https://plantuml.com</text><image height=\"71\" width=\"80\" x=\"516\" xlink:href=\"data:image/png;base64,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\" y=\"6\"/><rect fill=\"#000000\" height=\"96.4844\" style=\"stroke: #000000; stroke-width: 1.0;\" width=\"602\" x=\"0\" y=\"205.5625\"/><rect fill=\"#33FF02\" height=\"21.2969\" style=\"stroke: #33FF02; stroke-width: 1.0;\" width=\"170\" x=\"5\" y=\"210.5625\"/><text fill=\"#000000\" font-family=\"sans-serif\" font-size=\"14\" font-weight=\"bold\" lengthAdjust=\"spacingAndGlyphs\" textLength=\"168\" x=\"6\" y=\"225.5625\">[From string (line 2) ]</text><text fill=\"#33FF02\" font-family=\"sans-serif\" font-size=\"14\" font-weight=\"bold\" lengthAdjust=\"spacingAndGlyphs\" textLength=\"0\" x=\"10\" y=\"245.8594\"/><text fill=\"#33FF02\" font-family=\"sans-serif\" font-size=\"14\" font-weight=\"bold\" lengthAdjust=\"spacingAndGlyphs\" textLength=\"79\" x=\"5\" y=\"262.1563\">@startuml</text><text fill=\"#33FF02\" font-family=\"sans-serif\" font-size=\"14\" font-weight=\"bold\" lengthAdjust=\"spacingAndGlyphs\" textLength=\"0\" x=\"10\" y=\"278.4531\"/><text fill=\"#FF0000\" font-family=\"sans-serif\" font-size=\"14\" font-weight=\"bold\" lengthAdjust=\"spacingAndGlyphs\" textLength=\"142\" x=\"10\" y=\"294.75\">Empty description</text><!--MD5=[f59edd8218d337f74d0c332fc6737304]\n",
       "@startuml\r\n",
       " \r\n",
       "@enduml\r\n",
       "\n",
       "PlantUML version 1.2020.13(Sat Jun 13 12:26:38 UTC 2020)\n",
       "(EPL source distribution)\n",
       "Java Runtime: OpenJDK Runtime Environment\n",
       "JVM: OpenJDK 64-Bit Server VM\n",
       "Default Encoding: UTF-8\n",
       "Language: en\n",
       "Country: null\n",
       "--></g></svg>"
      ]
     },
     "execution_count": 32,
     "metadata": {},
     "output_type": "execute_result"
    }
   ],
   "source": [
    "%viz --style=\"PLANTUML\" --view=\"State\" \"MultiplicityTest\""
   ]
  },
  {
   "cell_type": "code",
   "execution_count": 33,
   "id": "4563e495",
   "metadata": {
    "execution": {
     "iopub.execute_input": "2021-08-04T06:29:52.014564Z",
     "iopub.status.busy": "2021-08-04T06:29:52.014217Z",
     "iopub.status.idle": "2021-08-04T06:29:52.035107Z",
     "shell.execute_reply": "2021-08-04T06:29:52.034778Z"
    }
   },
   "outputs": [
    {
     "data": {
      "image/svg+xml": [
       "<?xml version=\"1.0\" encoding=\"UTF-8\" standalone=\"no\"?><svg xmlns=\"http://www.w3.org/2000/svg\" xmlns:xlink=\"http://www.w3.org/1999/xlink\" contentScriptType=\"application/ecmascript\" contentStyleType=\"text/css\" height=\"115px\" preserveAspectRatio=\"none\" style=\"width:1030px;height:115px;\" version=\"1.1\" viewBox=\"0 0 1030 115\" width=\"1030px\" zoomAndPan=\"magnify\"><defs><filter height=\"300%\" id=\"f1gmpi44zt9eir\" width=\"300%\" x=\"-1\" y=\"-1\"><feGaussianBlur result=\"blurOut\" stdDeviation=\"2.0\"/><feColorMatrix in=\"blurOut\" result=\"blurOut2\" type=\"matrix\" values=\"0 0 0 0 0 0 0 0 0 0 0 0 0 0 0 0 0 0 .4 0\"/><feOffset dx=\"4.0\" dy=\"4.0\" in=\"blurOut2\" result=\"blurOut3\"/><feBlend in=\"SourceGraphic\" in2=\"blurOut3\" mode=\"normal\"/></filter></defs><g><!--MD5=[fbc87193dbaf4d95561dea2c320d4a47]\n",
       "cluster E1--><a href=\"psysml:04657276-263c-446b-8b63-b81fdc3bdb65\" target=\"_top\" title=\"psysml:04657276-263c-446b-8b63-b81fdc3bdb65\" xlink:actuate=\"onRequest\" xlink:href=\"psysml:04657276-263c-446b-8b63-b81fdc3bdb65\" xlink:show=\"new\" xlink:title=\"psysml:04657276-263c-446b-8b63-b81fdc3bdb65\" xlink:type=\"simple\"><polygon fill=\"#FFFFFF\" filter=\"url(#f1gmpi44zt9eir)\" points=\"16,6,140,6,147,28.2969,1008,28.2969,1008,103,16,103,16,6\" style=\"stroke: #000000; stroke-width: 1.5;\"/><line style=\"stroke: #000000; stroke-width: 1.5;\" x1=\"16\" x2=\"147\" y1=\"28.2969\" y2=\"28.2969\"/><text fill=\"#000000\" font-family=\"sans-serif\" font-size=\"14\" font-weight=\"bold\" lengthAdjust=\"spacingAndGlyphs\" textLength=\"118\" x=\"20\" y=\"20.9951\">MultiplicityTest</text></a><!--MD5=[09b614a08d8cba4a07c9adeb5e0fee81]\n",
       "class E3--><a href=\"psysml:c2c67205-2617-478d-9839-9411bc2f8511\" target=\"_top\" title=\"psysml:c2c67205-2617-478d-9839-9411bc2f8511\" xlink:actuate=\"onRequest\" xlink:href=\"psysml:c2c67205-2617-478d-9839-9411bc2f8511\" xlink:show=\"new\" xlink:title=\"psysml:c2c67205-2617-478d-9839-9411bc2f8511\" xlink:type=\"simple\"><rect fill=\"#FEFECE\" filter=\"url(#f1gmpi44zt9eir)\" height=\"45.9375\" id=\"E3\" rx=\"10\" ry=\"10\" style=\"stroke: #A80036; stroke-width: 1.5;\" width=\"97\" x=\"895.5\" y=\"41\"/><ellipse cx=\"910.5\" cy=\"59.9688\" fill=\"#FFA500\" rx=\"11\" ry=\"11\" style=\"stroke: #A80036; stroke-width: 1.0;\"/><path d=\"M906.375,61.8906 L906.375,54.0781 L908.8281,54.0781 L908.8281,62.5156 Q908.8281,63.4375 909.2969,63.9688 Q909.7813,64.5 910.6094,64.5 Q911.4531,64.5 911.9219,63.9688 Q912.3906,63.4375 912.3906,62.5156 L912.3906,54.0781 L914.8438,54.0781 L914.8438,61.8906 Q914.8438,64.4219 913.8438,65.5625 Q912.8438,66.7031 910.6094,66.7031 Q908.3906,66.7031 907.375,65.5625 Q906.375,64.4219 906.375,61.8906 Z \"/><text fill=\"#000000\" font-family=\"sans-serif\" font-size=\"12\" font-style=\"italic\" lengthAdjust=\"spacingAndGlyphs\" textLength=\"69\" x=\"922.5\" y=\"57.1387\">«attribute»</text><text fill=\"#000000\" font-family=\"sans-serif\" font-size=\"12\" lengthAdjust=\"spacingAndGlyphs\" textLength=\"61\" x=\"926.5\" y=\"71.1074\">n: Integer</text><line style=\"stroke: #A80036; stroke-width: 1.5;\" x1=\"896.5\" x2=\"991.5\" y1=\"78.9375\" y2=\"78.9375\"/></a><g id=\"E1.E11\"><a href=\"psysml:958dabfe-3a24-44d8-9bca-d5e375f56ac2\" target=\"_top\" title=\"psysml:958dabfe-3a24-44d8-9bca-d5e375f56ac2\" xlink:actuate=\"onRequest\" xlink:href=\"psysml:958dabfe-3a24-44d8-9bca-d5e375f56ac2\" xlink:show=\"new\" xlink:title=\"psysml:958dabfe-3a24-44d8-9bca-d5e375f56ac2\" xlink:type=\"simple\"><rect fill=\"#FEFECE\" filter=\"url(#f1gmpi44zt9eir)\" height=\"42.9375\" id=\"E11\" style=\"stroke: #A80036; stroke-width: 1.5;\" width=\"126\" x=\"734\" y=\"42.5\"/><ellipse cx=\"751.25\" cy=\"61.4688\" fill=\"#A52A2A\" rx=\"11\" ry=\"11\" style=\"stroke: #A80036; stroke-width: 1.0;\"/><path d=\"M750.8438,57.2813 L750.8438,65.2656 L751.5,65.2656 Q752.9375,65.2656 753.5469,64.3594 Q754.1719,63.4375 754.1719,61.2656 Q754.1719,59.0938 753.5469,58.1875 Q752.9375,57.2813 751.5,57.2813 L750.8438,57.2813 Z M748.3906,55.0781 L751.0156,55.0781 Q754.0469,55.0781 755.375,56.5313 Q756.7188,57.9688 756.7188,61.2656 Q756.7188,64.5625 755.375,66.0156 Q754.0469,67.4688 751.0156,67.4688 L748.3906,67.4688 L748.3906,55.0781 Z \"/><text fill=\"#000000\" font-family=\"sans-serif\" font-size=\"12\" font-style=\"italic\" lengthAdjust=\"spacingAndGlyphs\" textLength=\"93\" x=\"763.75\" y=\"58.6387\">«attribute def»</text><text fill=\"#000000\" font-family=\"sans-serif\" font-size=\"12\" lengthAdjust=\"spacingAndGlyphs\" textLength=\"8\" x=\"806.25\" y=\"72.6074\">A</text></a></g><g id=\"E1.E2\"><a href=\"psysml:68eb8761-ff46-4523-ba58-41a062b6cb94\" target=\"_top\" title=\"psysml:68eb8761-ff46-4523-ba58-41a062b6cb94\" xlink:actuate=\"onRequest\" xlink:href=\"psysml:68eb8761-ff46-4523-ba58-41a062b6cb94\" xlink:show=\"new\" xlink:title=\"psysml:68eb8761-ff46-4523-ba58-41a062b6cb94\" xlink:type=\"simple\"><rect fill=\"#FEFECE\" filter=\"url(#f1gmpi44zt9eir)\" height=\"40\" id=\"E2\" style=\"stroke: #A80036; stroke-width: 1.5;\" width=\"50\" x=\"649\" y=\"44\"/><ellipse cx=\"668.5\" cy=\"60\" fill=\"#008000\" rx=\"11\" ry=\"11\" style=\"stroke: #A80036; stroke-width: 1.0;\"/><path d=\"M667.4063,60.375 L667.4063,64.0469 L669.0313,64.0469 Q670.2031,64.0469 670.6719,63.6563 Q671.1406,63.25 671.1406,62.25 Q671.1406,61.25 670.6406,60.8125 Q670.1563,60.375 669.0313,60.375 L667.4063,60.375 Z M667.4063,55.5469 L667.4063,58.4219 L669.0313,58.4219 Q669.9531,58.4219 670.3438,58.0938 Q670.75,57.75 670.75,57 Q670.75,56.2344 670.3438,55.8906 Q669.9375,55.5469 669.0313,55.5469 L667.4063,55.5469 Z M665.0313,53.5938 L669.0313,53.5938 Q671.0938,53.5938 672.1406,54.375 Q673.1875,55.1563 673.1875,56.7188 Q673.1875,57.9219 672.5625,58.5938 Q671.9531,59.2656 670.7656,59.375 Q672.1875,59.5156 672.9063,60.3281 Q673.625,61.1406 673.625,62.5938 Q673.625,64.3906 672.5469,65.2031 Q671.4688,66 669.0313,66 L665.0313,66 L665.0313,53.5938 Z \"/><text fill=\"#000000\" font-family=\"sans-serif\" font-size=\"12\" lengthAdjust=\"spacingAndGlyphs\" textLength=\"8\" x=\"683.5\" y=\"64.1543\">P</text></a></g><g id=\"E1.E4\"><a href=\"psysml:fbb3215b-67d9-4514-b40f-6d8c33165593\" target=\"_top\" title=\"psysml:fbb3215b-67d9-4514-b40f-6d8c33165593\" xlink:actuate=\"onRequest\" xlink:href=\"psysml:fbb3215b-67d9-4514-b40f-6d8c33165593\" xlink:show=\"new\" xlink:title=\"psysml:fbb3215b-67d9-4514-b40f-6d8c33165593\" xlink:type=\"simple\"><rect fill=\"#FEFECE\" filter=\"url(#f1gmpi44zt9eir)\" height=\"40\" id=\"E4\" rx=\"10\" ry=\"10\" style=\"stroke: #A80036; stroke-width: 1.5;\" width=\"50\" x=\"564\" y=\"44\"/><ellipse cx=\"583.5\" cy=\"60\" fill=\"#B6DBBB\" rx=\"11\" ry=\"11\" style=\"stroke: #A80036; stroke-width: 1.0;\"/><path d=\"M579.375,61.9219 L579.375,54.1094 L581.8281,54.1094 L581.8281,62.5469 Q581.8281,63.4688 582.2969,64 Q582.7813,64.5313 583.6094,64.5313 Q584.4531,64.5313 584.9219,64 Q585.3906,63.4688 585.3906,62.5469 L585.3906,54.1094 L587.8438,54.1094 L587.8438,61.9219 Q587.8438,64.4531 586.8438,65.5938 Q585.8438,66.7344 583.6094,66.7344 Q581.3906,66.7344 580.375,65.5938 Q579.375,64.4531 579.375,61.9219 Z \"/><text fill=\"#000000\" font-family=\"sans-serif\" font-size=\"12\" lengthAdjust=\"spacingAndGlyphs\" textLength=\"8\" x=\"598.5\" y=\"64.1543\">a</text></a></g><g id=\"E1.E5\"><a href=\"psysml:d1ff5ca6-7417-4682-b046-127881647fcb\" target=\"_top\" title=\"psysml:d1ff5ca6-7417-4682-b046-127881647fcb\" xlink:actuate=\"onRequest\" xlink:href=\"psysml:d1ff5ca6-7417-4682-b046-127881647fcb\" xlink:show=\"new\" xlink:title=\"psysml:d1ff5ca6-7417-4682-b046-127881647fcb\" xlink:type=\"simple\"><rect fill=\"#FEFECE\" filter=\"url(#f1gmpi44zt9eir)\" height=\"40\" id=\"E5\" rx=\"10\" ry=\"10\" style=\"stroke: #A80036; stroke-width: 1.5;\" width=\"61\" x=\"467.5\" y=\"44\"/><ellipse cx=\"484.75\" cy=\"60\" fill=\"#B6DBBB\" rx=\"11\" ry=\"11\" style=\"stroke: #A80036; stroke-width: 1.0;\"/><path d=\"M480.625,61.9219 L480.625,54.1094 L483.0781,54.1094 L483.0781,62.5469 Q483.0781,63.4688 483.5469,64 Q484.0313,64.5313 484.8594,64.5313 Q485.7031,64.5313 486.1719,64 Q486.6406,63.4688 486.6406,62.5469 L486.6406,54.1094 L489.0938,54.1094 L489.0938,61.9219 Q489.0938,64.4531 488.0938,65.5938 Q487.0938,66.7344 484.8594,66.7344 Q482.6406,66.7344 481.625,65.5938 Q480.625,64.4531 480.625,61.9219 Z \"/><text fill=\"#000000\" font-family=\"sans-serif\" font-size=\"12\" lengthAdjust=\"spacingAndGlyphs\" textLength=\"24\" x=\"499.25\" y=\"64.1543\">b: P</text></a></g><g id=\"E1.E6\"><a href=\"psysml:20d627d7-8daa-4ea4-8c0c-0e67ee5e3616\" target=\"_top\" title=\"psysml:20d627d7-8daa-4ea4-8c0c-0e67ee5e3616\" xlink:actuate=\"onRequest\" xlink:href=\"psysml:20d627d7-8daa-4ea4-8c0c-0e67ee5e3616\" xlink:show=\"new\" xlink:title=\"psysml:20d627d7-8daa-4ea4-8c0c-0e67ee5e3616\" xlink:type=\"simple\"><rect fill=\"#FEFECE\" filter=\"url(#f1gmpi44zt9eir)\" height=\"40\" id=\"E6\" rx=\"10\" ry=\"10\" style=\"stroke: #A80036; stroke-width: 1.5;\" width=\"60\" x=\"372\" y=\"44\"/><ellipse cx=\"389.25\" cy=\"60\" fill=\"#B6DBBB\" rx=\"11\" ry=\"11\" style=\"stroke: #A80036; stroke-width: 1.0;\"/><path d=\"M385.125,61.9219 L385.125,54.1094 L387.5781,54.1094 L387.5781,62.5469 Q387.5781,63.4688 388.0469,64 Q388.5313,64.5313 389.3594,64.5313 Q390.2031,64.5313 390.6719,64 Q391.1406,63.4688 391.1406,62.5469 L391.1406,54.1094 L393.5938,54.1094 L393.5938,61.9219 Q393.5938,64.4531 392.5938,65.5938 Q391.5938,66.7344 389.3594,66.7344 Q387.1406,66.7344 386.125,65.5938 Q385.125,64.4531 385.125,61.9219 Z \"/><text fill=\"#000000\" font-family=\"sans-serif\" font-size=\"12\" lengthAdjust=\"spacingAndGlyphs\" textLength=\"23\" x=\"403.75\" y=\"64.1543\">c: P</text></a></g><g id=\"E1.E7\"><a href=\"psysml:4fc87a01-ac01-48e0-9821-1b5b80a637f1\" target=\"_top\" title=\"psysml:4fc87a01-ac01-48e0-9821-1b5b80a637f1\" xlink:actuate=\"onRequest\" xlink:href=\"psysml:4fc87a01-ac01-48e0-9821-1b5b80a637f1\" xlink:show=\"new\" xlink:title=\"psysml:4fc87a01-ac01-48e0-9821-1b5b80a637f1\" xlink:type=\"simple\"><rect fill=\"#FEFECE\" filter=\"url(#f1gmpi44zt9eir)\" height=\"40\" id=\"E7\" rx=\"10\" ry=\"10\" style=\"stroke: #A80036; stroke-width: 1.5;\" width=\"50\" x=\"287\" y=\"44\"/><ellipse cx=\"306.5\" cy=\"60\" fill=\"#B6DBBB\" rx=\"11\" ry=\"11\" style=\"stroke: #A80036; stroke-width: 1.0;\"/><path d=\"M302.375,61.9219 L302.375,54.1094 L304.8281,54.1094 L304.8281,62.5469 Q304.8281,63.4688 305.2969,64 Q305.7813,64.5313 306.6094,64.5313 Q307.4531,64.5313 307.9219,64 Q308.3906,63.4688 308.3906,62.5469 L308.3906,54.1094 L310.8438,54.1094 L310.8438,61.9219 Q310.8438,64.4531 309.8438,65.5938 Q308.8438,66.7344 306.6094,66.7344 Q304.3906,66.7344 303.375,65.5938 Q302.375,64.4531 302.375,61.9219 Z \"/><text fill=\"#000000\" font-family=\"sans-serif\" font-size=\"12\" lengthAdjust=\"spacingAndGlyphs\" textLength=\"8\" x=\"321.5\" y=\"64.1543\">d</text></a></g><g id=\"E1.E8\"><a href=\"psysml:e7c3b12c-9054-4127-bd5f-a31eeffec0a6\" target=\"_top\" title=\"psysml:e7c3b12c-9054-4127-bd5f-a31eeffec0a6\" xlink:actuate=\"onRequest\" xlink:href=\"psysml:e7c3b12c-9054-4127-bd5f-a31eeffec0a6\" xlink:show=\"new\" xlink:title=\"psysml:e7c3b12c-9054-4127-bd5f-a31eeffec0a6\" xlink:type=\"simple\"><rect fill=\"#FEFECE\" filter=\"url(#f1gmpi44zt9eir)\" height=\"40\" id=\"E8\" rx=\"10\" ry=\"10\" style=\"stroke: #A80036; stroke-width: 1.5;\" width=\"50\" x=\"202\" y=\"44\"/><ellipse cx=\"221.5\" cy=\"60\" fill=\"#B6DBBB\" rx=\"11\" ry=\"11\" style=\"stroke: #A80036; stroke-width: 1.0;\"/><path d=\"M217.375,61.9219 L217.375,54.1094 L219.8281,54.1094 L219.8281,62.5469 Q219.8281,63.4688 220.2969,64 Q220.7813,64.5313 221.6094,64.5313 Q222.4531,64.5313 222.9219,64 Q223.3906,63.4688 223.3906,62.5469 L223.3906,54.1094 L225.8438,54.1094 L225.8438,61.9219 Q225.8438,64.4531 224.8438,65.5938 Q223.8438,66.7344 221.6094,66.7344 Q219.3906,66.7344 218.375,65.5938 Q217.375,64.4531 217.375,61.9219 Z \"/><text fill=\"#000000\" font-family=\"sans-serif\" font-size=\"12\" lengthAdjust=\"spacingAndGlyphs\" textLength=\"8\" x=\"236.5\" y=\"64.1543\">e</text></a></g><g id=\"E1.E9\"><a href=\"psysml:49b700d2-d9c4-4257-84cb-c65bfac2aa08\" target=\"_top\" title=\"psysml:49b700d2-d9c4-4257-84cb-c65bfac2aa08\" xlink:actuate=\"onRequest\" xlink:href=\"psysml:49b700d2-d9c4-4257-84cb-c65bfac2aa08\" xlink:show=\"new\" xlink:title=\"psysml:49b700d2-d9c4-4257-84cb-c65bfac2aa08\" xlink:type=\"simple\"><rect fill=\"#FEFECE\" filter=\"url(#f1gmpi44zt9eir)\" height=\"40\" id=\"E9\" rx=\"10\" ry=\"10\" style=\"stroke: #A80036; stroke-width: 1.5;\" width=\"50\" x=\"117\" y=\"44\"/><ellipse cx=\"138.3\" cy=\"60\" fill=\"#B6DBBB\" rx=\"11\" ry=\"11\" style=\"stroke: #A80036; stroke-width: 1.0;\"/><path d=\"M134.175,61.9219 L134.175,54.1094 L136.6281,54.1094 L136.6281,62.5469 Q136.6281,63.4688 137.0969,64 Q137.5813,64.5313 138.4094,64.5313 Q139.2531,64.5313 139.7219,64 Q140.1906,63.4688 140.1906,62.5469 L140.1906,54.1094 L142.6438,54.1094 L142.6438,61.9219 Q142.6438,64.4531 141.6438,65.5938 Q140.6438,66.7344 138.4094,66.7344 Q136.1906,66.7344 135.175,65.5938 Q134.175,64.4531 134.175,61.9219 Z \"/><text fill=\"#000000\" font-family=\"sans-serif\" font-size=\"12\" lengthAdjust=\"spacingAndGlyphs\" textLength=\"4\" x=\"153.7\" y=\"64.1543\">f</text></a></g><g id=\"E1.E10\"><a href=\"psysml:20161f3e-4930-46fe-a17d-f79ec2a77aae\" target=\"_top\" title=\"psysml:20161f3e-4930-46fe-a17d-f79ec2a77aae\" xlink:actuate=\"onRequest\" xlink:href=\"psysml:20161f3e-4930-46fe-a17d-f79ec2a77aae\" xlink:show=\"new\" xlink:title=\"psysml:20161f3e-4930-46fe-a17d-f79ec2a77aae\" xlink:type=\"simple\"><rect fill=\"#FEFECE\" filter=\"url(#f1gmpi44zt9eir)\" height=\"40\" id=\"E10\" rx=\"10\" ry=\"10\" style=\"stroke: #A80036; stroke-width: 1.5;\" width=\"50\" x=\"32\" y=\"44\"/><ellipse cx=\"51.5\" cy=\"60\" fill=\"#B6DBBB\" rx=\"11\" ry=\"11\" style=\"stroke: #A80036; stroke-width: 1.0;\"/><path d=\"M47.375,61.9219 L47.375,54.1094 L49.8281,54.1094 L49.8281,62.5469 Q49.8281,63.4688 50.2969,64 Q50.7813,64.5313 51.6094,64.5313 Q52.4531,64.5313 52.9219,64 Q53.3906,63.4688 53.3906,62.5469 L53.3906,54.1094 L55.8438,54.1094 L55.8438,61.9219 Q55.8438,64.4531 54.8438,65.5938 Q53.8438,66.7344 51.6094,66.7344 Q49.3906,66.7344 48.375,65.5938 Q47.375,64.4531 47.375,61.9219 Z \"/><text fill=\"#000000\" font-family=\"sans-serif\" font-size=\"12\" lengthAdjust=\"spacingAndGlyphs\" textLength=\"8\" x=\"66.5\" y=\"64.1543\">g</text></a></g><!--MD5=[73e577ea6e667ba0d198ef572f31a153]\n",
       "@startuml\r\n",
       "skinparam ranksep 10\r\n",
       "skinparam rectangle {\r\n",
       " backgroundColor<<block>> LightGreen\r\n",
       "}\r\n",
       " \r\n",
       "package \"MultiplicityTest\" as E1  [[psysml:04657276-263c-446b-8b63-b81fdc3bdb65 ]]  {\r\n",
       "rec def \"P\" as E2 << << (B,green) >> [[psysml:68eb8761-ff46-4523-ba58-41a062b6cb94 ]] {\r\n",
       "}\r\n",
       "comp usage \"n: Integer\" as E3 << <<(U,orange) attribute>> [[psysml:c2c67205-2617-478d-9839-9411bc2f8511 ]] {\r\n",
       "}\r\n",
       "rec usage \"a\" as E4  [[psysml:fbb3215b-67d9-4514-b40f-6d8c33165593 ]] {\r\n",
       "}\r\n",
       "rec usage \"b: P\" as E5  [[psysml:d1ff5ca6-7417-4682-b046-127881647fcb ]] {\r\n",
       "}\r\n",
       "rec usage \"c: P\" as E6  [[psysml:20d627d7-8daa-4ea4-8c0c-0e67ee5e3616 ]] {\r\n",
       "}\r\n",
       "rec usage \"d\" as E7  [[psysml:4fc87a01-ac01-48e0-9821-1b5b80a637f1 ]] {\r\n",
       "}\r\n",
       "rec usage \"e\" as E8  [[psysml:e7c3b12c-9054-4127-bd5f-a31eeffec0a6 ]] {\r\n",
       "}\r\n",
       "rec usage \"f\" as E9  [[psysml:49b700d2-d9c4-4257-84cb-c65bfac2aa08 ]] {\r\n",
       "}\r\n",
       "rec usage \"g\" as E10  [[psysml:20161f3e-4930-46fe-a17d-f79ec2a77aae ]] {\r\n",
       "}\r\n",
       "def \"A\" as E11 << <<(D,brown) attribute def>> [[psysml:958dabfe-3a24-44d8-9bca-d5e375f56ac2 ]] \r\n",
       "}\r\n",
       "@enduml\r\n",
       "\n",
       "PlantUML version 1.2020.13(Sat Jun 13 12:26:38 UTC 2020)\n",
       "(EPL source distribution)\n",
       "Java Runtime: OpenJDK Runtime Environment\n",
       "JVM: OpenJDK 64-Bit Server VM\n",
       "Default Encoding: UTF-8\n",
       "Language: en\n",
       "Country: null\n",
       "--></g></svg>"
      ]
     },
     "execution_count": 33,
     "metadata": {},
     "output_type": "execute_result"
    }
   ],
   "source": [
    "%viz --style=\"PLANTUML\" --view=\"Interconnection\" \"MultiplicityTest\""
   ]
  },
  {
   "cell_type": "code",
   "execution_count": 34,
   "id": "d89e0b20",
   "metadata": {
    "execution": {
     "iopub.execute_input": "2021-08-04T06:29:52.085061Z",
     "iopub.status.busy": "2021-08-04T06:29:52.084501Z",
     "iopub.status.idle": "2021-08-04T06:29:52.089032Z",
     "shell.execute_reply": "2021-08-04T06:29:52.088729Z"
    }
   },
   "outputs": [
    {
     "data": {
      "image/svg+xml": [
       "<?xml version=\"1.0\" encoding=\"UTF-8\" standalone=\"no\"?><svg xmlns=\"http://www.w3.org/2000/svg\" xmlns:xlink=\"http://www.w3.org/1999/xlink\" contentScriptType=\"application/ecmascript\" contentStyleType=\"text/css\" height=\"12px\" preserveAspectRatio=\"none\" style=\"width:12px;height:12px;\" version=\"1.1\" viewBox=\"0 0 12 12\" width=\"12px\" zoomAndPan=\"magnify\"><defs/><g><!--MD5=[6a4cb978cab31700e1ce5529f947a75d]\n",
       "@startuml\r\n",
       "skinparam ranksep 8\r\n",
       " \r\n",
       "@enduml\r\n",
       "\n",
       "PlantUML version 1.2020.13(Sat Jun 13 12:26:38 UTC 2020)\n",
       "(EPL source distribution)\n",
       "Java Runtime: OpenJDK Runtime Environment\n",
       "JVM: OpenJDK 64-Bit Server VM\n",
       "Default Encoding: UTF-8\n",
       "Language: en\n",
       "Country: null\n",
       "--></g></svg>"
      ]
     },
     "execution_count": 34,
     "metadata": {},
     "output_type": "execute_result"
    }
   ],
   "source": [
    "%viz --style=\"PLANTUML\" --view=\"Action\" \"MultiplicityTest\""
   ]
  },
  {
   "cell_type": "code",
   "execution_count": 35,
   "id": "fa0d4957",
   "metadata": {
    "execution": {
     "iopub.execute_input": "2021-08-04T06:29:52.139620Z",
     "iopub.status.busy": "2021-08-04T06:29:52.138957Z",
     "iopub.status.idle": "2021-08-04T06:29:52.180027Z",
     "shell.execute_reply": "2021-08-04T06:29:52.179656Z"
    }
   },
   "outputs": [
    {
     "data": {
      "image/svg+xml": [
       "<?xml version=\"1.0\" encoding=\"UTF-8\" standalone=\"no\"?><svg xmlns=\"http://www.w3.org/2000/svg\" xmlns:xlink=\"http://www.w3.org/1999/xlink\" contentScriptType=\"application/ecmascript\" contentStyleType=\"text/css\" height=\"241px\" preserveAspectRatio=\"none\" style=\"width:1045px;height:241px;\" version=\"1.1\" viewBox=\"0 0 1045 241\" width=\"1045px\" zoomAndPan=\"magnify\"><defs><filter height=\"300%\" id=\"fme7ni5qz1j54\" width=\"300%\" x=\"-1\" y=\"-1\"><feGaussianBlur result=\"blurOut\" stdDeviation=\"2.0\"/><feColorMatrix in=\"blurOut\" result=\"blurOut2\" type=\"matrix\" values=\"0 0 0 0 0 0 0 0 0 0 0 0 0 0 0 0 0 0 .4 0\"/><feOffset dx=\"4.0\" dy=\"4.0\" in=\"blurOut2\" result=\"blurOut3\"/><feBlend in=\"SourceGraphic\" in2=\"blurOut3\" mode=\"normal\"/></filter></defs><g><!--MD5=[fbc87193dbaf4d95561dea2c320d4a47]\n",
       "cluster E1--><a href=\"psysml:04657276-263c-446b-8b63-b81fdc3bdb65\" target=\"_top\" title=\"psysml:04657276-263c-446b-8b63-b81fdc3bdb65\" xlink:actuate=\"onRequest\" xlink:href=\"psysml:04657276-263c-446b-8b63-b81fdc3bdb65\" xlink:show=\"new\" xlink:title=\"psysml:04657276-263c-446b-8b63-b81fdc3bdb65\" xlink:type=\"simple\"><polygon fill=\"#FFFFFF\" filter=\"url(#fme7ni5qz1j54)\" points=\"16,6,140,6,147,28.2969,1023,28.2969,1023,229,16,229,16,6\" style=\"stroke: #000000; stroke-width: 1.5;\"/><line style=\"stroke: #000000; stroke-width: 1.5;\" x1=\"16\" x2=\"147\" y1=\"28.2969\" y2=\"28.2969\"/><text fill=\"#000000\" font-family=\"sans-serif\" font-size=\"14\" font-weight=\"bold\" lengthAdjust=\"spacingAndGlyphs\" textLength=\"118\" x=\"20\" y=\"20.9951\">MultiplicityTest</text></a><!--MD5=[b4997ac47864f28c2f74865a473b2911]\n",
       "class E2--><a href=\"psysml:68eb8761-ff46-4523-ba58-41a062b6cb94\" target=\"_top\" title=\"psysml:68eb8761-ff46-4523-ba58-41a062b6cb94\" xlink:actuate=\"onRequest\" xlink:href=\"psysml:68eb8761-ff46-4523-ba58-41a062b6cb94\" xlink:show=\"new\" xlink:title=\"psysml:68eb8761-ff46-4523-ba58-41a062b6cb94\" xlink:type=\"simple\"><rect fill=\"#FEFECE\" filter=\"url(#fme7ni5qz1j54)\" height=\"40\" id=\"E2\" style=\"stroke: #A80036; stroke-width: 1.5;\" width=\"40\" x=\"666\" y=\"173\"/><ellipse cx=\"681\" cy=\"189\" fill=\"#008000\" rx=\"11\" ry=\"11\" style=\"stroke: #A80036; stroke-width: 1.0;\"/><path d=\"M679.9063,189.375 L679.9063,193.0469 L681.5313,193.0469 Q682.7031,193.0469 683.1719,192.6563 Q683.6406,192.25 683.6406,191.25 Q683.6406,190.25 683.1406,189.8125 Q682.6563,189.375 681.5313,189.375 L679.9063,189.375 Z M679.9063,184.5469 L679.9063,187.4219 L681.5313,187.4219 Q682.4531,187.4219 682.8438,187.0938 Q683.25,186.75 683.25,186 Q683.25,185.2344 682.8438,184.8906 Q682.4375,184.5469 681.5313,184.5469 L679.9063,184.5469 Z M677.5313,182.5938 L681.5313,182.5938 Q683.5938,182.5938 684.6406,183.375 Q685.6875,184.1563 685.6875,185.7188 Q685.6875,186.9219 685.0625,187.5938 Q684.4531,188.2656 683.2656,188.375 Q684.6875,188.5156 685.4063,189.3281 Q686.125,190.1406 686.125,191.5938 Q686.125,193.3906 685.0469,194.2031 Q683.9688,195 681.5313,195 L677.5313,195 L677.5313,182.5938 Z \"/><text fill=\"#000000\" font-family=\"sans-serif\" font-size=\"12\" lengthAdjust=\"spacingAndGlyphs\" textLength=\"8\" x=\"695\" y=\"193.1543\">P</text><line style=\"stroke: #A80036; stroke-width: 1.5;\" x1=\"667\" x2=\"705\" y1=\"205\" y2=\"205\"/></a><!--MD5=[09b614a08d8cba4a07c9adeb5e0fee81]\n",
       "class E3--><a href=\"psysml:c2c67205-2617-478d-9839-9411bc2f8511\" target=\"_top\" title=\"psysml:c2c67205-2617-478d-9839-9411bc2f8511\" xlink:actuate=\"onRequest\" xlink:href=\"psysml:c2c67205-2617-478d-9839-9411bc2f8511\" xlink:show=\"new\" xlink:title=\"psysml:c2c67205-2617-478d-9839-9411bc2f8511\" xlink:type=\"simple\"><rect fill=\"#FEFECE\" filter=\"url(#fme7ni5qz1j54)\" height=\"45.9375\" id=\"E3\" rx=\"10\" ry=\"10\" style=\"stroke: #A80036; stroke-width: 1.5;\" width=\"97\" x=\"910.5\" y=\"54\"/><ellipse cx=\"925.5\" cy=\"72.9688\" fill=\"#FFA500\" rx=\"11\" ry=\"11\" style=\"stroke: #A80036; stroke-width: 1.0;\"/><path d=\"M921.375,74.8906 L921.375,67.0781 L923.8281,67.0781 L923.8281,75.5156 Q923.8281,76.4375 924.2969,76.9688 Q924.7813,77.5 925.6094,77.5 Q926.4531,77.5 926.9219,76.9688 Q927.3906,76.4375 927.3906,75.5156 L927.3906,67.0781 L929.8438,67.0781 L929.8438,74.8906 Q929.8438,77.4219 928.8438,78.5625 Q927.8438,79.7031 925.6094,79.7031 Q923.3906,79.7031 922.375,78.5625 Q921.375,77.4219 921.375,74.8906 Z \"/><text fill=\"#000000\" font-family=\"sans-serif\" font-size=\"12\" font-style=\"italic\" lengthAdjust=\"spacingAndGlyphs\" textLength=\"69\" x=\"937.5\" y=\"70.1387\">«attribute»</text><text fill=\"#000000\" font-family=\"sans-serif\" font-size=\"12\" lengthAdjust=\"spacingAndGlyphs\" textLength=\"61\" x=\"941.5\" y=\"84.1074\">n: Integer</text><line style=\"stroke: #A80036; stroke-width: 1.5;\" x1=\"911.5\" x2=\"1006.5\" y1=\"91.9375\" y2=\"91.9375\"/></a><!--MD5=[ebbe1d658d1005bcc118a6aa81145e00]\n",
       "class E4--><a href=\"psysml:fbb3215b-67d9-4514-b40f-6d8c33165593\" target=\"_top\" title=\"psysml:fbb3215b-67d9-4514-b40f-6d8c33165593\" xlink:actuate=\"onRequest\" xlink:href=\"psysml:fbb3215b-67d9-4514-b40f-6d8c33165593\" xlink:show=\"new\" xlink:title=\"psysml:fbb3215b-67d9-4514-b40f-6d8c33165593\" xlink:type=\"simple\"><rect fill=\"#FEFECE\" filter=\"url(#fme7ni5qz1j54)\" height=\"45.9375\" id=\"E4\" rx=\"10\" ry=\"10\" style=\"stroke: #A80036; stroke-width: 1.5;\" width=\"68\" x=\"807\" y=\"54\"/><ellipse cx=\"822\" cy=\"72.9688\" fill=\"#32CD32\" rx=\"11\" ry=\"11\" style=\"stroke: #A80036; stroke-width: 1.0;\"/><path d=\"M821.7969,68.6406 L821.7969,72.2656 L822.7969,72.2656 Q824,72.2656 824.4844,71.8594 Q824.9688,71.4531 824.9688,70.4531 Q824.9688,69.4531 824.4844,69.0469 Q824,68.6406 822.7969,68.6406 L821.7969,68.6406 Z M819.3438,66.5781 L822.7031,66.5781 Q825.2656,66.5781 826.3906,67.5 Q827.5156,68.4063 827.5156,70.4531 Q827.5156,72.5 826.3906,73.4219 Q825.2656,74.3281 822.7031,74.3281 L821.7969,74.3281 L821.7969,78.9688 L819.3438,78.9688 L819.3438,66.5781 Z \"/><text fill=\"#000000\" font-family=\"sans-serif\" font-size=\"12\" font-style=\"italic\" lengthAdjust=\"spacingAndGlyphs\" textLength=\"40\" x=\"834\" y=\"70.1387\">«part»</text><text fill=\"#000000\" font-family=\"sans-serif\" font-size=\"12\" lengthAdjust=\"spacingAndGlyphs\" textLength=\"8\" x=\"850\" y=\"84.1074\">a</text><line style=\"stroke: #A80036; stroke-width: 1.5;\" x1=\"808\" x2=\"874\" y1=\"91.9375\" y2=\"91.9375\"/></a><!--MD5=[270fce915f116d4de14055a7c1d9a0f3]\n",
       "class E5--><a href=\"psysml:d1ff5ca6-7417-4682-b046-127881647fcb\" target=\"_top\" title=\"psysml:d1ff5ca6-7417-4682-b046-127881647fcb\" xlink:actuate=\"onRequest\" xlink:href=\"psysml:d1ff5ca6-7417-4682-b046-127881647fcb\" xlink:show=\"new\" xlink:title=\"psysml:d1ff5ca6-7417-4682-b046-127881647fcb\" xlink:type=\"simple\"><rect fill=\"#FEFECE\" filter=\"url(#fme7ni5qz1j54)\" height=\"45.9375\" id=\"E5\" rx=\"10\" ry=\"10\" style=\"stroke: #A80036; stroke-width: 1.5;\" width=\"68\" x=\"704\" y=\"54\"/><ellipse cx=\"719\" cy=\"72.9688\" fill=\"#32CD32\" rx=\"11\" ry=\"11\" style=\"stroke: #A80036; stroke-width: 1.0;\"/><path d=\"M718.7969,68.6406 L718.7969,72.2656 L719.7969,72.2656 Q721,72.2656 721.4844,71.8594 Q721.9688,71.4531 721.9688,70.4531 Q721.9688,69.4531 721.4844,69.0469 Q721,68.6406 719.7969,68.6406 L718.7969,68.6406 Z M716.3438,66.5781 L719.7031,66.5781 Q722.2656,66.5781 723.3906,67.5 Q724.5156,68.4063 724.5156,70.4531 Q724.5156,72.5 723.3906,73.4219 Q722.2656,74.3281 719.7031,74.3281 L718.7969,74.3281 L718.7969,78.9688 L716.3438,78.9688 L716.3438,66.5781 Z \"/><text fill=\"#000000\" font-family=\"sans-serif\" font-size=\"12\" font-style=\"italic\" lengthAdjust=\"spacingAndGlyphs\" textLength=\"40\" x=\"731\" y=\"70.1387\">«part»</text><text fill=\"#000000\" font-family=\"sans-serif\" font-size=\"12\" lengthAdjust=\"spacingAndGlyphs\" textLength=\"24\" x=\"739\" y=\"84.1074\">b: P</text><line style=\"stroke: #A80036; stroke-width: 1.5;\" x1=\"705\" x2=\"771\" y1=\"91.9375\" y2=\"91.9375\"/></a><!--MD5=[60a26617385b1d2d0262a64233df1f8d]\n",
       "class E6--><a href=\"psysml:20d627d7-8daa-4ea4-8c0c-0e67ee5e3616\" target=\"_top\" title=\"psysml:20d627d7-8daa-4ea4-8c0c-0e67ee5e3616\" xlink:actuate=\"onRequest\" xlink:href=\"psysml:20d627d7-8daa-4ea4-8c0c-0e67ee5e3616\" xlink:show=\"new\" xlink:title=\"psysml:20d627d7-8daa-4ea4-8c0c-0e67ee5e3616\" xlink:type=\"simple\"><rect fill=\"#FEFECE\" filter=\"url(#fme7ni5qz1j54)\" height=\"45.9375\" id=\"E6\" rx=\"10\" ry=\"10\" style=\"stroke: #A80036; stroke-width: 1.5;\" width=\"68\" x=\"601\" y=\"54\"/><ellipse cx=\"616\" cy=\"72.9688\" fill=\"#32CD32\" rx=\"11\" ry=\"11\" style=\"stroke: #A80036; stroke-width: 1.0;\"/><path d=\"M615.7969,68.6406 L615.7969,72.2656 L616.7969,72.2656 Q618,72.2656 618.4844,71.8594 Q618.9688,71.4531 618.9688,70.4531 Q618.9688,69.4531 618.4844,69.0469 Q618,68.6406 616.7969,68.6406 L615.7969,68.6406 Z M613.3438,66.5781 L616.7031,66.5781 Q619.2656,66.5781 620.3906,67.5 Q621.5156,68.4063 621.5156,70.4531 Q621.5156,72.5 620.3906,73.4219 Q619.2656,74.3281 616.7031,74.3281 L615.7969,74.3281 L615.7969,78.9688 L613.3438,78.9688 L613.3438,66.5781 Z \"/><text fill=\"#000000\" font-family=\"sans-serif\" font-size=\"12\" font-style=\"italic\" lengthAdjust=\"spacingAndGlyphs\" textLength=\"40\" x=\"628\" y=\"70.1387\">«part»</text><text fill=\"#000000\" font-family=\"sans-serif\" font-size=\"12\" lengthAdjust=\"spacingAndGlyphs\" textLength=\"23\" x=\"636.5\" y=\"84.1074\">c: P</text><line style=\"stroke: #A80036; stroke-width: 1.5;\" x1=\"602\" x2=\"668\" y1=\"91.9375\" y2=\"91.9375\"/></a><!--MD5=[2156ba9850f5573cc1fc38a6a4b2f02b]\n",
       "class E7--><a href=\"psysml:4fc87a01-ac01-48e0-9821-1b5b80a637f1\" target=\"_top\" title=\"psysml:4fc87a01-ac01-48e0-9821-1b5b80a637f1\" xlink:actuate=\"onRequest\" xlink:href=\"psysml:4fc87a01-ac01-48e0-9821-1b5b80a637f1\" xlink:show=\"new\" xlink:title=\"psysml:4fc87a01-ac01-48e0-9821-1b5b80a637f1\" xlink:type=\"simple\"><rect fill=\"#FEFECE\" filter=\"url(#fme7ni5qz1j54)\" height=\"45.9375\" id=\"E7\" rx=\"10\" ry=\"10\" style=\"stroke: #A80036; stroke-width: 1.5;\" width=\"68\" x=\"498\" y=\"54\"/><ellipse cx=\"513\" cy=\"72.9688\" fill=\"#32CD32\" rx=\"11\" ry=\"11\" style=\"stroke: #A80036; stroke-width: 1.0;\"/><path d=\"M512.7969,68.6406 L512.7969,72.2656 L513.7969,72.2656 Q515,72.2656 515.4844,71.8594 Q515.9688,71.4531 515.9688,70.4531 Q515.9688,69.4531 515.4844,69.0469 Q515,68.6406 513.7969,68.6406 L512.7969,68.6406 Z M510.3438,66.5781 L513.7031,66.5781 Q516.2656,66.5781 517.3906,67.5 Q518.5156,68.4063 518.5156,70.4531 Q518.5156,72.5 517.3906,73.4219 Q516.2656,74.3281 513.7031,74.3281 L512.7969,74.3281 L512.7969,78.9688 L510.3438,78.9688 L510.3438,66.5781 Z \"/><text fill=\"#000000\" font-family=\"sans-serif\" font-size=\"12\" font-style=\"italic\" lengthAdjust=\"spacingAndGlyphs\" textLength=\"40\" x=\"525\" y=\"70.1387\">«part»</text><text fill=\"#000000\" font-family=\"sans-serif\" font-size=\"12\" lengthAdjust=\"spacingAndGlyphs\" textLength=\"8\" x=\"541\" y=\"84.1074\">d</text><line style=\"stroke: #A80036; stroke-width: 1.5;\" x1=\"499\" x2=\"565\" y1=\"91.9375\" y2=\"91.9375\"/></a><!--MD5=[b9389687b975829384b498ac4b7476b2]\n",
       "class E8--><a href=\"psysml:e7c3b12c-9054-4127-bd5f-a31eeffec0a6\" target=\"_top\" title=\"psysml:e7c3b12c-9054-4127-bd5f-a31eeffec0a6\" xlink:actuate=\"onRequest\" xlink:href=\"psysml:e7c3b12c-9054-4127-bd5f-a31eeffec0a6\" xlink:show=\"new\" xlink:title=\"psysml:e7c3b12c-9054-4127-bd5f-a31eeffec0a6\" xlink:type=\"simple\"><rect fill=\"#FEFECE\" filter=\"url(#fme7ni5qz1j54)\" height=\"45.9375\" id=\"E8\" rx=\"10\" ry=\"10\" style=\"stroke: #A80036; stroke-width: 1.5;\" width=\"68\" x=\"395\" y=\"54\"/><ellipse cx=\"410\" cy=\"72.9688\" fill=\"#32CD32\" rx=\"11\" ry=\"11\" style=\"stroke: #A80036; stroke-width: 1.0;\"/><path d=\"M409.7969,68.6406 L409.7969,72.2656 L410.7969,72.2656 Q412,72.2656 412.4844,71.8594 Q412.9688,71.4531 412.9688,70.4531 Q412.9688,69.4531 412.4844,69.0469 Q412,68.6406 410.7969,68.6406 L409.7969,68.6406 Z M407.3438,66.5781 L410.7031,66.5781 Q413.2656,66.5781 414.3906,67.5 Q415.5156,68.4063 415.5156,70.4531 Q415.5156,72.5 414.3906,73.4219 Q413.2656,74.3281 410.7031,74.3281 L409.7969,74.3281 L409.7969,78.9688 L407.3438,78.9688 L407.3438,66.5781 Z \"/><text fill=\"#000000\" font-family=\"sans-serif\" font-size=\"12\" font-style=\"italic\" lengthAdjust=\"spacingAndGlyphs\" textLength=\"40\" x=\"422\" y=\"70.1387\">«part»</text><text fill=\"#000000\" font-family=\"sans-serif\" font-size=\"12\" lengthAdjust=\"spacingAndGlyphs\" textLength=\"8\" x=\"438\" y=\"84.1074\">e</text><line style=\"stroke: #A80036; stroke-width: 1.5;\" x1=\"396\" x2=\"462\" y1=\"91.9375\" y2=\"91.9375\"/></a><!--MD5=[fd4143e9d270a159db93a4ea2a975926]\n",
       "class E9--><a href=\"psysml:49b700d2-d9c4-4257-84cb-c65bfac2aa08\" target=\"_top\" title=\"psysml:49b700d2-d9c4-4257-84cb-c65bfac2aa08\" xlink:actuate=\"onRequest\" xlink:href=\"psysml:49b700d2-d9c4-4257-84cb-c65bfac2aa08\" xlink:show=\"new\" xlink:title=\"psysml:49b700d2-d9c4-4257-84cb-c65bfac2aa08\" xlink:type=\"simple\"><rect fill=\"#FEFECE\" filter=\"url(#fme7ni5qz1j54)\" height=\"45.9375\" id=\"E9\" rx=\"10\" ry=\"10\" style=\"stroke: #A80036; stroke-width: 1.5;\" width=\"68\" x=\"292\" y=\"54\"/><ellipse cx=\"307\" cy=\"72.9688\" fill=\"#32CD32\" rx=\"11\" ry=\"11\" style=\"stroke: #A80036; stroke-width: 1.0;\"/><path d=\"M306.7969,68.6406 L306.7969,72.2656 L307.7969,72.2656 Q309,72.2656 309.4844,71.8594 Q309.9688,71.4531 309.9688,70.4531 Q309.9688,69.4531 309.4844,69.0469 Q309,68.6406 307.7969,68.6406 L306.7969,68.6406 Z M304.3438,66.5781 L307.7031,66.5781 Q310.2656,66.5781 311.3906,67.5 Q312.5156,68.4063 312.5156,70.4531 Q312.5156,72.5 311.3906,73.4219 Q310.2656,74.3281 307.7031,74.3281 L306.7969,74.3281 L306.7969,78.9688 L304.3438,78.9688 L304.3438,66.5781 Z \"/><text fill=\"#000000\" font-family=\"sans-serif\" font-size=\"12\" font-style=\"italic\" lengthAdjust=\"spacingAndGlyphs\" textLength=\"40\" x=\"319\" y=\"70.1387\">«part»</text><text fill=\"#000000\" font-family=\"sans-serif\" font-size=\"12\" lengthAdjust=\"spacingAndGlyphs\" textLength=\"4\" x=\"337\" y=\"84.1074\">f</text><line style=\"stroke: #A80036; stroke-width: 1.5;\" x1=\"293\" x2=\"359\" y1=\"91.9375\" y2=\"91.9375\"/></a><!--MD5=[96f4274e9e20536e775497830990834d]\n",
       "class E10--><a href=\"psysml:20161f3e-4930-46fe-a17d-f79ec2a77aae\" target=\"_top\" title=\"psysml:20161f3e-4930-46fe-a17d-f79ec2a77aae\" xlink:actuate=\"onRequest\" xlink:href=\"psysml:20161f3e-4930-46fe-a17d-f79ec2a77aae\" xlink:show=\"new\" xlink:title=\"psysml:20161f3e-4930-46fe-a17d-f79ec2a77aae\" xlink:type=\"simple\"><rect fill=\"#FEFECE\" filter=\"url(#fme7ni5qz1j54)\" height=\"45.9375\" id=\"E10\" rx=\"10\" ry=\"10\" style=\"stroke: #A80036; stroke-width: 1.5;\" width=\"68\" x=\"189\" y=\"54\"/><ellipse cx=\"204\" cy=\"72.9688\" fill=\"#32CD32\" rx=\"11\" ry=\"11\" style=\"stroke: #A80036; stroke-width: 1.0;\"/><path d=\"M203.7969,68.6406 L203.7969,72.2656 L204.7969,72.2656 Q206,72.2656 206.4844,71.8594 Q206.9688,71.4531 206.9688,70.4531 Q206.9688,69.4531 206.4844,69.0469 Q206,68.6406 204.7969,68.6406 L203.7969,68.6406 Z M201.3438,66.5781 L204.7031,66.5781 Q207.2656,66.5781 208.3906,67.5 Q209.5156,68.4063 209.5156,70.4531 Q209.5156,72.5 208.3906,73.4219 Q207.2656,74.3281 204.7031,74.3281 L203.7969,74.3281 L203.7969,78.9688 L201.3438,78.9688 L201.3438,66.5781 Z \"/><text fill=\"#000000\" font-family=\"sans-serif\" font-size=\"12\" font-style=\"italic\" lengthAdjust=\"spacingAndGlyphs\" textLength=\"40\" x=\"216\" y=\"70.1387\">«part»</text><text fill=\"#000000\" font-family=\"sans-serif\" font-size=\"12\" lengthAdjust=\"spacingAndGlyphs\" textLength=\"8\" x=\"232\" y=\"84.1074\">g</text><line style=\"stroke: #A80036; stroke-width: 1.5;\" x1=\"190\" x2=\"256\" y1=\"91.9375\" y2=\"91.9375\"/></a><!--MD5=[1dd1bfd58a279cf63c5f349dbc8fc6a1]\n",
       "class E11--><a href=\"psysml:958dabfe-3a24-44d8-9bca-d5e375f56ac2\" target=\"_top\" title=\"psysml:958dabfe-3a24-44d8-9bca-d5e375f56ac2\" xlink:actuate=\"onRequest\" xlink:href=\"psysml:958dabfe-3a24-44d8-9bca-d5e375f56ac2\" xlink:show=\"new\" xlink:title=\"psysml:958dabfe-3a24-44d8-9bca-d5e375f56ac2\" xlink:type=\"simple\"><rect fill=\"#FEFECE\" filter=\"url(#fme7ni5qz1j54)\" height=\"71.5469\" id=\"E11\" style=\"stroke: #A80036; stroke-width: 1.5;\" width=\"121\" x=\"32.5\" y=\"41\"/><ellipse cx=\"47.5\" cy=\"59.9688\" fill=\"#A52A2A\" rx=\"11\" ry=\"11\" style=\"stroke: #A80036; stroke-width: 1.0;\"/><path d=\"M47.0938,55.7813 L47.0938,63.7656 L47.75,63.7656 Q49.1875,63.7656 49.7969,62.8594 Q50.4219,61.9375 50.4219,59.7656 Q50.4219,57.5938 49.7969,56.6875 Q49.1875,55.7813 47.75,55.7813 L47.0938,55.7813 Z M44.6406,53.5781 L47.2656,53.5781 Q50.2969,53.5781 51.625,55.0313 Q52.9688,56.4688 52.9688,59.7656 Q52.9688,63.0625 51.625,64.5156 Q50.2969,65.9688 47.2656,65.9688 L44.6406,65.9688 L44.6406,53.5781 Z \"/><text fill=\"#000000\" font-family=\"sans-serif\" font-size=\"12\" font-style=\"italic\" lengthAdjust=\"spacingAndGlyphs\" textLength=\"93\" x=\"59.5\" y=\"57.1387\">«attribute def»</text><text fill=\"#000000\" font-family=\"sans-serif\" font-size=\"12\" lengthAdjust=\"spacingAndGlyphs\" textLength=\"8\" x=\"102\" y=\"71.1074\">A</text><line style=\"stroke: #A80036; stroke-width: 1.5;\" x1=\"33.5\" x2=\"152.5\" y1=\"78.9375\" y2=\"78.9375\"/><text fill=\"#000000\" font-family=\"sans-serif\" font-size=\"11\" lengthAdjust=\"spacingAndGlyphs\" textLength=\"51\" x=\"38.5\" y=\"93.1479\">i: Integer</text><text fill=\"#000000\" font-family=\"sans-serif\" font-size=\"11\" lengthAdjust=\"spacingAndGlyphs\" textLength=\"21\" x=\"38.5\" y=\"105.9526\">x: A</text></a><!--MD5=[15ebcb19ae302d9b601edb458606d402]\n",
       "link E5 to E2--><a href=\"psysml:a788c1ae-8502-4aea-9d8b-5a5d865c76a9\" target=\"_top\" title=\"psysml:a788c1ae-8502-4aea-9d8b-5a5d865c76a9\" xlink:actuate=\"onRequest\" xlink:href=\"psysml:a788c1ae-8502-4aea-9d8b-5a5d865c76a9\" xlink:show=\"new\" xlink:title=\"psysml:a788c1ae-8502-4aea-9d8b-5a5d865c76a9\" xlink:type=\"simple\"><path d=\"M727.85,100.25 C720.81,115.68 711.27,136.61 703.07,154.58 \" fill=\"none\" id=\"E5-&gt;E2\" style=\"stroke: #A80036; stroke-width: 1.0;\"/><polygon fill=\"#FFFFFF\" points=\"694.74,172.84,696.2548,152.6483,708.9927,158.4573,694.74,172.84\" style=\"stroke: #A80036; stroke-width: 1.0;\"/><ellipse cx=\"700.4396\" cy=\"148.292\" fill=\"#A80036\" rx=\"2\" ry=\"2\" style=\"stroke: #A80036; stroke-width: 1.0;\"/><ellipse cx=\"709.5381\" cy=\"152.4413\" fill=\"#A80036\" rx=\"2\" ry=\"2\" style=\"stroke: #A80036; stroke-width: 1.0;\"/></a><!--MD5=[2351f337d6de0f557b50152ba70847b5]\n",
       "link E6 to E2--><a href=\"psysml:96c9e024-7b1d-4ba9-883a-860d4899a00e\" target=\"_top\" title=\"psysml:96c9e024-7b1d-4ba9-883a-860d4899a00e\" xlink:actuate=\"onRequest\" xlink:href=\"psysml:96c9e024-7b1d-4ba9-883a-860d4899a00e\" xlink:show=\"new\" xlink:title=\"psysml:96c9e024-7b1d-4ba9-883a-860d4899a00e\" xlink:type=\"simple\"><path d=\"M644.95,100.25 C651.86,115.68 661.22,136.61 669.26,154.58 \" fill=\"none\" id=\"E6-&gt;E2\" style=\"stroke: #A80036; stroke-width: 1.0;\"/><polygon fill=\"#FFFFFF\" points=\"677.43,172.84,663.2788,158.3574,676.0573,152.6381,677.43,172.84\" style=\"stroke: #A80036; stroke-width: 1.0;\"/><ellipse cx=\"662.7757\" cy=\"152.3377\" fill=\"#A80036\" rx=\"2\" ry=\"2\" style=\"stroke: #A80036; stroke-width: 1.0;\"/><ellipse cx=\"671.9032\" cy=\"148.2525\" fill=\"#A80036\" rx=\"2\" ry=\"2\" style=\"stroke: #A80036; stroke-width: 1.0;\"/></a><!--MD5=[a556de6ff180598273b82a78944473c9]\n",
       "@startuml\r\n",
       " \r\n",
       "package \"MultiplicityTest\" as E1  [[psysml:04657276-263c-446b-8b63-b81fdc3bdb65 ]]  {\r\n",
       "comp def \"P\" as E2 << << (B,green) >> [[psysml:68eb8761-ff46-4523-ba58-41a062b6cb94 ]] {\r\n",
       "}\r\n",
       "comp usage \"n: Integer\" as E3 << <<(U,orange) attribute>> [[psysml:c2c67205-2617-478d-9839-9411bc2f8511 ]] {\r\n",
       "}\r\n",
       "comp usage \"a\" as E4 << << (P,limegreen) part>> [[psysml:fbb3215b-67d9-4514-b40f-6d8c33165593 ]] {\r\n",
       "}\r\n",
       "comp usage \"b: P\" as E5 << << (P,limegreen) part>> [[psysml:d1ff5ca6-7417-4682-b046-127881647fcb ]] {\r\n",
       "}\r\n",
       "comp usage \"c: P\" as E6 << << (P,limegreen) part>> [[psysml:20d627d7-8daa-4ea4-8c0c-0e67ee5e3616 ]] {\r\n",
       "}\r\n",
       "comp usage \"d\" as E7 << << (P,limegreen) part>> [[psysml:4fc87a01-ac01-48e0-9821-1b5b80a637f1 ]] {\r\n",
       "}\r\n",
       "comp usage \"e\" as E8 << << (P,limegreen) part>> [[psysml:e7c3b12c-9054-4127-bd5f-a31eeffec0a6 ]] {\r\n",
       "}\r\n",
       "comp usage \"f\" as E9 << << (P,limegreen) part>> [[psysml:49b700d2-d9c4-4257-84cb-c65bfac2aa08 ]] {\r\n",
       "}\r\n",
       "comp usage \"g\" as E10 << << (P,limegreen) part>> [[psysml:20161f3e-4930-46fe-a17d-f79ec2a77aae ]] {\r\n",
       "}\r\n",
       "comp def \"A\" as E11 << <<(D,brown) attribute def>> [[psysml:958dabfe-3a24-44d8-9bca-d5e375f56ac2 ]] {\r\n",
       "i: Integer\r\n",
       "x: A\r\n",
       "}\r\n",
       "E5 - -:|> E2 [[psysml:a788c1ae-8502-4aea-9d8b-5a5d865c76a9 ]] \r\n",
       "E6 - -:|> E2 [[psysml:96c9e024-7b1d-4ba9-883a-860d4899a00e ]] \r\n",
       "}\r\n",
       "@enduml\r\n",
       "\n",
       "PlantUML version 1.2020.13(Sat Jun 13 12:26:38 UTC 2020)\n",
       "(EPL source distribution)\n",
       "Java Runtime: OpenJDK Runtime Environment\n",
       "JVM: OpenJDK 64-Bit Server VM\n",
       "Default Encoding: UTF-8\n",
       "Language: en\n",
       "Country: null\n",
       "--></g></svg>"
      ]
     },
     "execution_count": 35,
     "metadata": {},
     "output_type": "execute_result"
    }
   ],
   "source": [
    "%viz --style=\"PLANTUML\" --view=\"Sequence\" \"MultiplicityTest\""
   ]
  },
  {
   "cell_type": "code",
   "execution_count": 36,
   "id": "9fca1a98",
   "metadata": {
    "execution": {
     "iopub.execute_input": "2021-08-04T06:29:52.229823Z",
     "iopub.status.busy": "2021-08-04T06:29:52.229204Z",
     "iopub.status.idle": "2021-08-04T06:29:52.271173Z",
     "shell.execute_reply": "2021-08-04T06:29:52.270833Z"
    }
   },
   "outputs": [
    {
     "data": {
      "image/svg+xml": [
       "<?xml version=\"1.0\" encoding=\"UTF-8\" standalone=\"no\"?><svg xmlns=\"http://www.w3.org/2000/svg\" xmlns:xlink=\"http://www.w3.org/1999/xlink\" contentScriptType=\"application/ecmascript\" contentStyleType=\"text/css\" height=\"241px\" preserveAspectRatio=\"none\" style=\"width:1045px;height:241px;\" version=\"1.1\" viewBox=\"0 0 1045 241\" width=\"1045px\" zoomAndPan=\"magnify\"><defs><filter height=\"300%\" id=\"fme7ni5qz1j54\" width=\"300%\" x=\"-1\" y=\"-1\"><feGaussianBlur result=\"blurOut\" stdDeviation=\"2.0\"/><feColorMatrix in=\"blurOut\" result=\"blurOut2\" type=\"matrix\" values=\"0 0 0 0 0 0 0 0 0 0 0 0 0 0 0 0 0 0 .4 0\"/><feOffset dx=\"4.0\" dy=\"4.0\" in=\"blurOut2\" result=\"blurOut3\"/><feBlend in=\"SourceGraphic\" in2=\"blurOut3\" mode=\"normal\"/></filter></defs><g><!--MD5=[fbc87193dbaf4d95561dea2c320d4a47]\n",
       "cluster E1--><a href=\"psysml:04657276-263c-446b-8b63-b81fdc3bdb65\" target=\"_top\" title=\"psysml:04657276-263c-446b-8b63-b81fdc3bdb65\" xlink:actuate=\"onRequest\" xlink:href=\"psysml:04657276-263c-446b-8b63-b81fdc3bdb65\" xlink:show=\"new\" xlink:title=\"psysml:04657276-263c-446b-8b63-b81fdc3bdb65\" xlink:type=\"simple\"><polygon fill=\"#FFFFFF\" filter=\"url(#fme7ni5qz1j54)\" points=\"16,6,140,6,147,28.2969,1023,28.2969,1023,229,16,229,16,6\" style=\"stroke: #000000; stroke-width: 1.5;\"/><line style=\"stroke: #000000; stroke-width: 1.5;\" x1=\"16\" x2=\"147\" y1=\"28.2969\" y2=\"28.2969\"/><text fill=\"#000000\" font-family=\"sans-serif\" font-size=\"14\" font-weight=\"bold\" lengthAdjust=\"spacingAndGlyphs\" textLength=\"118\" x=\"20\" y=\"20.9951\">MultiplicityTest</text></a><!--MD5=[b4997ac47864f28c2f74865a473b2911]\n",
       "class E2--><a href=\"psysml:68eb8761-ff46-4523-ba58-41a062b6cb94\" target=\"_top\" title=\"psysml:68eb8761-ff46-4523-ba58-41a062b6cb94\" xlink:actuate=\"onRequest\" xlink:href=\"psysml:68eb8761-ff46-4523-ba58-41a062b6cb94\" xlink:show=\"new\" xlink:title=\"psysml:68eb8761-ff46-4523-ba58-41a062b6cb94\" xlink:type=\"simple\"><rect fill=\"#FEFECE\" filter=\"url(#fme7ni5qz1j54)\" height=\"40\" id=\"E2\" style=\"stroke: #A80036; stroke-width: 1.5;\" width=\"40\" x=\"666\" y=\"173\"/><ellipse cx=\"681\" cy=\"189\" fill=\"#008000\" rx=\"11\" ry=\"11\" style=\"stroke: #A80036; stroke-width: 1.0;\"/><path d=\"M679.9063,189.375 L679.9063,193.0469 L681.5313,193.0469 Q682.7031,193.0469 683.1719,192.6563 Q683.6406,192.25 683.6406,191.25 Q683.6406,190.25 683.1406,189.8125 Q682.6563,189.375 681.5313,189.375 L679.9063,189.375 Z M679.9063,184.5469 L679.9063,187.4219 L681.5313,187.4219 Q682.4531,187.4219 682.8438,187.0938 Q683.25,186.75 683.25,186 Q683.25,185.2344 682.8438,184.8906 Q682.4375,184.5469 681.5313,184.5469 L679.9063,184.5469 Z M677.5313,182.5938 L681.5313,182.5938 Q683.5938,182.5938 684.6406,183.375 Q685.6875,184.1563 685.6875,185.7188 Q685.6875,186.9219 685.0625,187.5938 Q684.4531,188.2656 683.2656,188.375 Q684.6875,188.5156 685.4063,189.3281 Q686.125,190.1406 686.125,191.5938 Q686.125,193.3906 685.0469,194.2031 Q683.9688,195 681.5313,195 L677.5313,195 L677.5313,182.5938 Z \"/><text fill=\"#000000\" font-family=\"sans-serif\" font-size=\"12\" lengthAdjust=\"spacingAndGlyphs\" textLength=\"8\" x=\"695\" y=\"193.1543\">P</text><line style=\"stroke: #A80036; stroke-width: 1.5;\" x1=\"667\" x2=\"705\" y1=\"205\" y2=\"205\"/></a><!--MD5=[09b614a08d8cba4a07c9adeb5e0fee81]\n",
       "class E3--><a href=\"psysml:c2c67205-2617-478d-9839-9411bc2f8511\" target=\"_top\" title=\"psysml:c2c67205-2617-478d-9839-9411bc2f8511\" xlink:actuate=\"onRequest\" xlink:href=\"psysml:c2c67205-2617-478d-9839-9411bc2f8511\" xlink:show=\"new\" xlink:title=\"psysml:c2c67205-2617-478d-9839-9411bc2f8511\" xlink:type=\"simple\"><rect fill=\"#FEFECE\" filter=\"url(#fme7ni5qz1j54)\" height=\"45.9375\" id=\"E3\" rx=\"10\" ry=\"10\" style=\"stroke: #A80036; stroke-width: 1.5;\" width=\"97\" x=\"910.5\" y=\"54\"/><ellipse cx=\"925.5\" cy=\"72.9688\" fill=\"#FFA500\" rx=\"11\" ry=\"11\" style=\"stroke: #A80036; stroke-width: 1.0;\"/><path d=\"M921.375,74.8906 L921.375,67.0781 L923.8281,67.0781 L923.8281,75.5156 Q923.8281,76.4375 924.2969,76.9688 Q924.7813,77.5 925.6094,77.5 Q926.4531,77.5 926.9219,76.9688 Q927.3906,76.4375 927.3906,75.5156 L927.3906,67.0781 L929.8438,67.0781 L929.8438,74.8906 Q929.8438,77.4219 928.8438,78.5625 Q927.8438,79.7031 925.6094,79.7031 Q923.3906,79.7031 922.375,78.5625 Q921.375,77.4219 921.375,74.8906 Z \"/><text fill=\"#000000\" font-family=\"sans-serif\" font-size=\"12\" font-style=\"italic\" lengthAdjust=\"spacingAndGlyphs\" textLength=\"69\" x=\"937.5\" y=\"70.1387\">«attribute»</text><text fill=\"#000000\" font-family=\"sans-serif\" font-size=\"12\" lengthAdjust=\"spacingAndGlyphs\" textLength=\"61\" x=\"941.5\" y=\"84.1074\">n: Integer</text><line style=\"stroke: #A80036; stroke-width: 1.5;\" x1=\"911.5\" x2=\"1006.5\" y1=\"91.9375\" y2=\"91.9375\"/></a><!--MD5=[ebbe1d658d1005bcc118a6aa81145e00]\n",
       "class E4--><a href=\"psysml:fbb3215b-67d9-4514-b40f-6d8c33165593\" target=\"_top\" title=\"psysml:fbb3215b-67d9-4514-b40f-6d8c33165593\" xlink:actuate=\"onRequest\" xlink:href=\"psysml:fbb3215b-67d9-4514-b40f-6d8c33165593\" xlink:show=\"new\" xlink:title=\"psysml:fbb3215b-67d9-4514-b40f-6d8c33165593\" xlink:type=\"simple\"><rect fill=\"#FEFECE\" filter=\"url(#fme7ni5qz1j54)\" height=\"45.9375\" id=\"E4\" rx=\"10\" ry=\"10\" style=\"stroke: #A80036; stroke-width: 1.5;\" width=\"68\" x=\"807\" y=\"54\"/><ellipse cx=\"822\" cy=\"72.9688\" fill=\"#32CD32\" rx=\"11\" ry=\"11\" style=\"stroke: #A80036; stroke-width: 1.0;\"/><path d=\"M821.7969,68.6406 L821.7969,72.2656 L822.7969,72.2656 Q824,72.2656 824.4844,71.8594 Q824.9688,71.4531 824.9688,70.4531 Q824.9688,69.4531 824.4844,69.0469 Q824,68.6406 822.7969,68.6406 L821.7969,68.6406 Z M819.3438,66.5781 L822.7031,66.5781 Q825.2656,66.5781 826.3906,67.5 Q827.5156,68.4063 827.5156,70.4531 Q827.5156,72.5 826.3906,73.4219 Q825.2656,74.3281 822.7031,74.3281 L821.7969,74.3281 L821.7969,78.9688 L819.3438,78.9688 L819.3438,66.5781 Z \"/><text fill=\"#000000\" font-family=\"sans-serif\" font-size=\"12\" font-style=\"italic\" lengthAdjust=\"spacingAndGlyphs\" textLength=\"40\" x=\"834\" y=\"70.1387\">«part»</text><text fill=\"#000000\" font-family=\"sans-serif\" font-size=\"12\" lengthAdjust=\"spacingAndGlyphs\" textLength=\"8\" x=\"850\" y=\"84.1074\">a</text><line style=\"stroke: #A80036; stroke-width: 1.5;\" x1=\"808\" x2=\"874\" y1=\"91.9375\" y2=\"91.9375\"/></a><!--MD5=[270fce915f116d4de14055a7c1d9a0f3]\n",
       "class E5--><a href=\"psysml:d1ff5ca6-7417-4682-b046-127881647fcb\" target=\"_top\" title=\"psysml:d1ff5ca6-7417-4682-b046-127881647fcb\" xlink:actuate=\"onRequest\" xlink:href=\"psysml:d1ff5ca6-7417-4682-b046-127881647fcb\" xlink:show=\"new\" xlink:title=\"psysml:d1ff5ca6-7417-4682-b046-127881647fcb\" xlink:type=\"simple\"><rect fill=\"#FEFECE\" filter=\"url(#fme7ni5qz1j54)\" height=\"45.9375\" id=\"E5\" rx=\"10\" ry=\"10\" style=\"stroke: #A80036; stroke-width: 1.5;\" width=\"68\" x=\"704\" y=\"54\"/><ellipse cx=\"719\" cy=\"72.9688\" fill=\"#32CD32\" rx=\"11\" ry=\"11\" style=\"stroke: #A80036; stroke-width: 1.0;\"/><path d=\"M718.7969,68.6406 L718.7969,72.2656 L719.7969,72.2656 Q721,72.2656 721.4844,71.8594 Q721.9688,71.4531 721.9688,70.4531 Q721.9688,69.4531 721.4844,69.0469 Q721,68.6406 719.7969,68.6406 L718.7969,68.6406 Z M716.3438,66.5781 L719.7031,66.5781 Q722.2656,66.5781 723.3906,67.5 Q724.5156,68.4063 724.5156,70.4531 Q724.5156,72.5 723.3906,73.4219 Q722.2656,74.3281 719.7031,74.3281 L718.7969,74.3281 L718.7969,78.9688 L716.3438,78.9688 L716.3438,66.5781 Z \"/><text fill=\"#000000\" font-family=\"sans-serif\" font-size=\"12\" font-style=\"italic\" lengthAdjust=\"spacingAndGlyphs\" textLength=\"40\" x=\"731\" y=\"70.1387\">«part»</text><text fill=\"#000000\" font-family=\"sans-serif\" font-size=\"12\" lengthAdjust=\"spacingAndGlyphs\" textLength=\"24\" x=\"739\" y=\"84.1074\">b: P</text><line style=\"stroke: #A80036; stroke-width: 1.5;\" x1=\"705\" x2=\"771\" y1=\"91.9375\" y2=\"91.9375\"/></a><!--MD5=[60a26617385b1d2d0262a64233df1f8d]\n",
       "class E6--><a href=\"psysml:20d627d7-8daa-4ea4-8c0c-0e67ee5e3616\" target=\"_top\" title=\"psysml:20d627d7-8daa-4ea4-8c0c-0e67ee5e3616\" xlink:actuate=\"onRequest\" xlink:href=\"psysml:20d627d7-8daa-4ea4-8c0c-0e67ee5e3616\" xlink:show=\"new\" xlink:title=\"psysml:20d627d7-8daa-4ea4-8c0c-0e67ee5e3616\" xlink:type=\"simple\"><rect fill=\"#FEFECE\" filter=\"url(#fme7ni5qz1j54)\" height=\"45.9375\" id=\"E6\" rx=\"10\" ry=\"10\" style=\"stroke: #A80036; stroke-width: 1.5;\" width=\"68\" x=\"601\" y=\"54\"/><ellipse cx=\"616\" cy=\"72.9688\" fill=\"#32CD32\" rx=\"11\" ry=\"11\" style=\"stroke: #A80036; stroke-width: 1.0;\"/><path d=\"M615.7969,68.6406 L615.7969,72.2656 L616.7969,72.2656 Q618,72.2656 618.4844,71.8594 Q618.9688,71.4531 618.9688,70.4531 Q618.9688,69.4531 618.4844,69.0469 Q618,68.6406 616.7969,68.6406 L615.7969,68.6406 Z M613.3438,66.5781 L616.7031,66.5781 Q619.2656,66.5781 620.3906,67.5 Q621.5156,68.4063 621.5156,70.4531 Q621.5156,72.5 620.3906,73.4219 Q619.2656,74.3281 616.7031,74.3281 L615.7969,74.3281 L615.7969,78.9688 L613.3438,78.9688 L613.3438,66.5781 Z \"/><text fill=\"#000000\" font-family=\"sans-serif\" font-size=\"12\" font-style=\"italic\" lengthAdjust=\"spacingAndGlyphs\" textLength=\"40\" x=\"628\" y=\"70.1387\">«part»</text><text fill=\"#000000\" font-family=\"sans-serif\" font-size=\"12\" lengthAdjust=\"spacingAndGlyphs\" textLength=\"23\" x=\"636.5\" y=\"84.1074\">c: P</text><line style=\"stroke: #A80036; stroke-width: 1.5;\" x1=\"602\" x2=\"668\" y1=\"91.9375\" y2=\"91.9375\"/></a><!--MD5=[2156ba9850f5573cc1fc38a6a4b2f02b]\n",
       "class E7--><a href=\"psysml:4fc87a01-ac01-48e0-9821-1b5b80a637f1\" target=\"_top\" title=\"psysml:4fc87a01-ac01-48e0-9821-1b5b80a637f1\" xlink:actuate=\"onRequest\" xlink:href=\"psysml:4fc87a01-ac01-48e0-9821-1b5b80a637f1\" xlink:show=\"new\" xlink:title=\"psysml:4fc87a01-ac01-48e0-9821-1b5b80a637f1\" xlink:type=\"simple\"><rect fill=\"#FEFECE\" filter=\"url(#fme7ni5qz1j54)\" height=\"45.9375\" id=\"E7\" rx=\"10\" ry=\"10\" style=\"stroke: #A80036; stroke-width: 1.5;\" width=\"68\" x=\"498\" y=\"54\"/><ellipse cx=\"513\" cy=\"72.9688\" fill=\"#32CD32\" rx=\"11\" ry=\"11\" style=\"stroke: #A80036; stroke-width: 1.0;\"/><path d=\"M512.7969,68.6406 L512.7969,72.2656 L513.7969,72.2656 Q515,72.2656 515.4844,71.8594 Q515.9688,71.4531 515.9688,70.4531 Q515.9688,69.4531 515.4844,69.0469 Q515,68.6406 513.7969,68.6406 L512.7969,68.6406 Z M510.3438,66.5781 L513.7031,66.5781 Q516.2656,66.5781 517.3906,67.5 Q518.5156,68.4063 518.5156,70.4531 Q518.5156,72.5 517.3906,73.4219 Q516.2656,74.3281 513.7031,74.3281 L512.7969,74.3281 L512.7969,78.9688 L510.3438,78.9688 L510.3438,66.5781 Z \"/><text fill=\"#000000\" font-family=\"sans-serif\" font-size=\"12\" font-style=\"italic\" lengthAdjust=\"spacingAndGlyphs\" textLength=\"40\" x=\"525\" y=\"70.1387\">«part»</text><text fill=\"#000000\" font-family=\"sans-serif\" font-size=\"12\" lengthAdjust=\"spacingAndGlyphs\" textLength=\"8\" x=\"541\" y=\"84.1074\">d</text><line style=\"stroke: #A80036; stroke-width: 1.5;\" x1=\"499\" x2=\"565\" y1=\"91.9375\" y2=\"91.9375\"/></a><!--MD5=[b9389687b975829384b498ac4b7476b2]\n",
       "class E8--><a href=\"psysml:e7c3b12c-9054-4127-bd5f-a31eeffec0a6\" target=\"_top\" title=\"psysml:e7c3b12c-9054-4127-bd5f-a31eeffec0a6\" xlink:actuate=\"onRequest\" xlink:href=\"psysml:e7c3b12c-9054-4127-bd5f-a31eeffec0a6\" xlink:show=\"new\" xlink:title=\"psysml:e7c3b12c-9054-4127-bd5f-a31eeffec0a6\" xlink:type=\"simple\"><rect fill=\"#FEFECE\" filter=\"url(#fme7ni5qz1j54)\" height=\"45.9375\" id=\"E8\" rx=\"10\" ry=\"10\" style=\"stroke: #A80036; stroke-width: 1.5;\" width=\"68\" x=\"395\" y=\"54\"/><ellipse cx=\"410\" cy=\"72.9688\" fill=\"#32CD32\" rx=\"11\" ry=\"11\" style=\"stroke: #A80036; stroke-width: 1.0;\"/><path d=\"M409.7969,68.6406 L409.7969,72.2656 L410.7969,72.2656 Q412,72.2656 412.4844,71.8594 Q412.9688,71.4531 412.9688,70.4531 Q412.9688,69.4531 412.4844,69.0469 Q412,68.6406 410.7969,68.6406 L409.7969,68.6406 Z M407.3438,66.5781 L410.7031,66.5781 Q413.2656,66.5781 414.3906,67.5 Q415.5156,68.4063 415.5156,70.4531 Q415.5156,72.5 414.3906,73.4219 Q413.2656,74.3281 410.7031,74.3281 L409.7969,74.3281 L409.7969,78.9688 L407.3438,78.9688 L407.3438,66.5781 Z \"/><text fill=\"#000000\" font-family=\"sans-serif\" font-size=\"12\" font-style=\"italic\" lengthAdjust=\"spacingAndGlyphs\" textLength=\"40\" x=\"422\" y=\"70.1387\">«part»</text><text fill=\"#000000\" font-family=\"sans-serif\" font-size=\"12\" lengthAdjust=\"spacingAndGlyphs\" textLength=\"8\" x=\"438\" y=\"84.1074\">e</text><line style=\"stroke: #A80036; stroke-width: 1.5;\" x1=\"396\" x2=\"462\" y1=\"91.9375\" y2=\"91.9375\"/></a><!--MD5=[fd4143e9d270a159db93a4ea2a975926]\n",
       "class E9--><a href=\"psysml:49b700d2-d9c4-4257-84cb-c65bfac2aa08\" target=\"_top\" title=\"psysml:49b700d2-d9c4-4257-84cb-c65bfac2aa08\" xlink:actuate=\"onRequest\" xlink:href=\"psysml:49b700d2-d9c4-4257-84cb-c65bfac2aa08\" xlink:show=\"new\" xlink:title=\"psysml:49b700d2-d9c4-4257-84cb-c65bfac2aa08\" xlink:type=\"simple\"><rect fill=\"#FEFECE\" filter=\"url(#fme7ni5qz1j54)\" height=\"45.9375\" id=\"E9\" rx=\"10\" ry=\"10\" style=\"stroke: #A80036; stroke-width: 1.5;\" width=\"68\" x=\"292\" y=\"54\"/><ellipse cx=\"307\" cy=\"72.9688\" fill=\"#32CD32\" rx=\"11\" ry=\"11\" style=\"stroke: #A80036; stroke-width: 1.0;\"/><path d=\"M306.7969,68.6406 L306.7969,72.2656 L307.7969,72.2656 Q309,72.2656 309.4844,71.8594 Q309.9688,71.4531 309.9688,70.4531 Q309.9688,69.4531 309.4844,69.0469 Q309,68.6406 307.7969,68.6406 L306.7969,68.6406 Z M304.3438,66.5781 L307.7031,66.5781 Q310.2656,66.5781 311.3906,67.5 Q312.5156,68.4063 312.5156,70.4531 Q312.5156,72.5 311.3906,73.4219 Q310.2656,74.3281 307.7031,74.3281 L306.7969,74.3281 L306.7969,78.9688 L304.3438,78.9688 L304.3438,66.5781 Z \"/><text fill=\"#000000\" font-family=\"sans-serif\" font-size=\"12\" font-style=\"italic\" lengthAdjust=\"spacingAndGlyphs\" textLength=\"40\" x=\"319\" y=\"70.1387\">«part»</text><text fill=\"#000000\" font-family=\"sans-serif\" font-size=\"12\" lengthAdjust=\"spacingAndGlyphs\" textLength=\"4\" x=\"337\" y=\"84.1074\">f</text><line style=\"stroke: #A80036; stroke-width: 1.5;\" x1=\"293\" x2=\"359\" y1=\"91.9375\" y2=\"91.9375\"/></a><!--MD5=[96f4274e9e20536e775497830990834d]\n",
       "class E10--><a href=\"psysml:20161f3e-4930-46fe-a17d-f79ec2a77aae\" target=\"_top\" title=\"psysml:20161f3e-4930-46fe-a17d-f79ec2a77aae\" xlink:actuate=\"onRequest\" xlink:href=\"psysml:20161f3e-4930-46fe-a17d-f79ec2a77aae\" xlink:show=\"new\" xlink:title=\"psysml:20161f3e-4930-46fe-a17d-f79ec2a77aae\" xlink:type=\"simple\"><rect fill=\"#FEFECE\" filter=\"url(#fme7ni5qz1j54)\" height=\"45.9375\" id=\"E10\" rx=\"10\" ry=\"10\" style=\"stroke: #A80036; stroke-width: 1.5;\" width=\"68\" x=\"189\" y=\"54\"/><ellipse cx=\"204\" cy=\"72.9688\" fill=\"#32CD32\" rx=\"11\" ry=\"11\" style=\"stroke: #A80036; stroke-width: 1.0;\"/><path d=\"M203.7969,68.6406 L203.7969,72.2656 L204.7969,72.2656 Q206,72.2656 206.4844,71.8594 Q206.9688,71.4531 206.9688,70.4531 Q206.9688,69.4531 206.4844,69.0469 Q206,68.6406 204.7969,68.6406 L203.7969,68.6406 Z M201.3438,66.5781 L204.7031,66.5781 Q207.2656,66.5781 208.3906,67.5 Q209.5156,68.4063 209.5156,70.4531 Q209.5156,72.5 208.3906,73.4219 Q207.2656,74.3281 204.7031,74.3281 L203.7969,74.3281 L203.7969,78.9688 L201.3438,78.9688 L201.3438,66.5781 Z \"/><text fill=\"#000000\" font-family=\"sans-serif\" font-size=\"12\" font-style=\"italic\" lengthAdjust=\"spacingAndGlyphs\" textLength=\"40\" x=\"216\" y=\"70.1387\">«part»</text><text fill=\"#000000\" font-family=\"sans-serif\" font-size=\"12\" lengthAdjust=\"spacingAndGlyphs\" textLength=\"8\" x=\"232\" y=\"84.1074\">g</text><line style=\"stroke: #A80036; stroke-width: 1.5;\" x1=\"190\" x2=\"256\" y1=\"91.9375\" y2=\"91.9375\"/></a><!--MD5=[1dd1bfd58a279cf63c5f349dbc8fc6a1]\n",
       "class E11--><a href=\"psysml:958dabfe-3a24-44d8-9bca-d5e375f56ac2\" target=\"_top\" title=\"psysml:958dabfe-3a24-44d8-9bca-d5e375f56ac2\" xlink:actuate=\"onRequest\" xlink:href=\"psysml:958dabfe-3a24-44d8-9bca-d5e375f56ac2\" xlink:show=\"new\" xlink:title=\"psysml:958dabfe-3a24-44d8-9bca-d5e375f56ac2\" xlink:type=\"simple\"><rect fill=\"#FEFECE\" filter=\"url(#fme7ni5qz1j54)\" height=\"71.5469\" id=\"E11\" style=\"stroke: #A80036; stroke-width: 1.5;\" width=\"121\" x=\"32.5\" y=\"41\"/><ellipse cx=\"47.5\" cy=\"59.9688\" fill=\"#A52A2A\" rx=\"11\" ry=\"11\" style=\"stroke: #A80036; stroke-width: 1.0;\"/><path d=\"M47.0938,55.7813 L47.0938,63.7656 L47.75,63.7656 Q49.1875,63.7656 49.7969,62.8594 Q50.4219,61.9375 50.4219,59.7656 Q50.4219,57.5938 49.7969,56.6875 Q49.1875,55.7813 47.75,55.7813 L47.0938,55.7813 Z M44.6406,53.5781 L47.2656,53.5781 Q50.2969,53.5781 51.625,55.0313 Q52.9688,56.4688 52.9688,59.7656 Q52.9688,63.0625 51.625,64.5156 Q50.2969,65.9688 47.2656,65.9688 L44.6406,65.9688 L44.6406,53.5781 Z \"/><text fill=\"#000000\" font-family=\"sans-serif\" font-size=\"12\" font-style=\"italic\" lengthAdjust=\"spacingAndGlyphs\" textLength=\"93\" x=\"59.5\" y=\"57.1387\">«attribute def»</text><text fill=\"#000000\" font-family=\"sans-serif\" font-size=\"12\" lengthAdjust=\"spacingAndGlyphs\" textLength=\"8\" x=\"102\" y=\"71.1074\">A</text><line style=\"stroke: #A80036; stroke-width: 1.5;\" x1=\"33.5\" x2=\"152.5\" y1=\"78.9375\" y2=\"78.9375\"/><text fill=\"#000000\" font-family=\"sans-serif\" font-size=\"11\" lengthAdjust=\"spacingAndGlyphs\" textLength=\"51\" x=\"38.5\" y=\"93.1479\">i: Integer</text><text fill=\"#000000\" font-family=\"sans-serif\" font-size=\"11\" lengthAdjust=\"spacingAndGlyphs\" textLength=\"21\" x=\"38.5\" y=\"105.9526\">x: A</text></a><!--MD5=[15ebcb19ae302d9b601edb458606d402]\n",
       "link E5 to E2--><a href=\"psysml:a788c1ae-8502-4aea-9d8b-5a5d865c76a9\" target=\"_top\" title=\"psysml:a788c1ae-8502-4aea-9d8b-5a5d865c76a9\" xlink:actuate=\"onRequest\" xlink:href=\"psysml:a788c1ae-8502-4aea-9d8b-5a5d865c76a9\" xlink:show=\"new\" xlink:title=\"psysml:a788c1ae-8502-4aea-9d8b-5a5d865c76a9\" xlink:type=\"simple\"><path d=\"M727.85,100.25 C720.81,115.68 711.27,136.61 703.07,154.58 \" fill=\"none\" id=\"E5-&gt;E2\" style=\"stroke: #A80036; stroke-width: 1.0;\"/><polygon fill=\"#FFFFFF\" points=\"694.74,172.84,696.2548,152.6483,708.9927,158.4573,694.74,172.84\" style=\"stroke: #A80036; stroke-width: 1.0;\"/><ellipse cx=\"700.4396\" cy=\"148.292\" fill=\"#A80036\" rx=\"2\" ry=\"2\" style=\"stroke: #A80036; stroke-width: 1.0;\"/><ellipse cx=\"709.5381\" cy=\"152.4413\" fill=\"#A80036\" rx=\"2\" ry=\"2\" style=\"stroke: #A80036; stroke-width: 1.0;\"/></a><!--MD5=[2351f337d6de0f557b50152ba70847b5]\n",
       "link E6 to E2--><a href=\"psysml:96c9e024-7b1d-4ba9-883a-860d4899a00e\" target=\"_top\" title=\"psysml:96c9e024-7b1d-4ba9-883a-860d4899a00e\" xlink:actuate=\"onRequest\" xlink:href=\"psysml:96c9e024-7b1d-4ba9-883a-860d4899a00e\" xlink:show=\"new\" xlink:title=\"psysml:96c9e024-7b1d-4ba9-883a-860d4899a00e\" xlink:type=\"simple\"><path d=\"M644.95,100.25 C651.86,115.68 661.22,136.61 669.26,154.58 \" fill=\"none\" id=\"E6-&gt;E2\" style=\"stroke: #A80036; stroke-width: 1.0;\"/><polygon fill=\"#FFFFFF\" points=\"677.43,172.84,663.2788,158.3574,676.0573,152.6381,677.43,172.84\" style=\"stroke: #A80036; stroke-width: 1.0;\"/><ellipse cx=\"662.7757\" cy=\"152.3377\" fill=\"#A80036\" rx=\"2\" ry=\"2\" style=\"stroke: #A80036; stroke-width: 1.0;\"/><ellipse cx=\"671.9032\" cy=\"148.2525\" fill=\"#A80036\" rx=\"2\" ry=\"2\" style=\"stroke: #A80036; stroke-width: 1.0;\"/></a><!--MD5=[a556de6ff180598273b82a78944473c9]\n",
       "@startuml\r\n",
       " \r\n",
       "package \"MultiplicityTest\" as E1  [[psysml:04657276-263c-446b-8b63-b81fdc3bdb65 ]]  {\r\n",
       "comp def \"P\" as E2 << << (B,green) >> [[psysml:68eb8761-ff46-4523-ba58-41a062b6cb94 ]] {\r\n",
       "}\r\n",
       "comp usage \"n: Integer\" as E3 << <<(U,orange) attribute>> [[psysml:c2c67205-2617-478d-9839-9411bc2f8511 ]] {\r\n",
       "}\r\n",
       "comp usage \"a\" as E4 << << (P,limegreen) part>> [[psysml:fbb3215b-67d9-4514-b40f-6d8c33165593 ]] {\r\n",
       "}\r\n",
       "comp usage \"b: P\" as E5 << << (P,limegreen) part>> [[psysml:d1ff5ca6-7417-4682-b046-127881647fcb ]] {\r\n",
       "}\r\n",
       "comp usage \"c: P\" as E6 << << (P,limegreen) part>> [[psysml:20d627d7-8daa-4ea4-8c0c-0e67ee5e3616 ]] {\r\n",
       "}\r\n",
       "comp usage \"d\" as E7 << << (P,limegreen) part>> [[psysml:4fc87a01-ac01-48e0-9821-1b5b80a637f1 ]] {\r\n",
       "}\r\n",
       "comp usage \"e\" as E8 << << (P,limegreen) part>> [[psysml:e7c3b12c-9054-4127-bd5f-a31eeffec0a6 ]] {\r\n",
       "}\r\n",
       "comp usage \"f\" as E9 << << (P,limegreen) part>> [[psysml:49b700d2-d9c4-4257-84cb-c65bfac2aa08 ]] {\r\n",
       "}\r\n",
       "comp usage \"g\" as E10 << << (P,limegreen) part>> [[psysml:20161f3e-4930-46fe-a17d-f79ec2a77aae ]] {\r\n",
       "}\r\n",
       "comp def \"A\" as E11 << <<(D,brown) attribute def>> [[psysml:958dabfe-3a24-44d8-9bca-d5e375f56ac2 ]] {\r\n",
       "i: Integer\r\n",
       "x: A\r\n",
       "}\r\n",
       "E5 - -:|> E2 [[psysml:a788c1ae-8502-4aea-9d8b-5a5d865c76a9 ]] \r\n",
       "E6 - -:|> E2 [[psysml:96c9e024-7b1d-4ba9-883a-860d4899a00e ]] \r\n",
       "}\r\n",
       "@enduml\r\n",
       "\n",
       "PlantUML version 1.2020.13(Sat Jun 13 12:26:38 UTC 2020)\n",
       "(EPL source distribution)\n",
       "Java Runtime: OpenJDK Runtime Environment\n",
       "JVM: OpenJDK 64-Bit Server VM\n",
       "Default Encoding: UTF-8\n",
       "Language: en\n",
       "Country: null\n",
       "--></g></svg>"
      ]
     },
     "execution_count": 36,
     "metadata": {},
     "output_type": "execute_result"
    }
   ],
   "source": [
    "%viz --style=\"PLANTUML\" --view=\"MIXED\" \"MultiplicityTest\""
   ]
  },
  {
   "cell_type": "code",
   "execution_count": 37,
   "id": "9dfc8374",
   "metadata": {
    "execution": {
     "iopub.execute_input": "2021-08-04T06:29:52.320943Z",
     "iopub.status.busy": "2021-08-04T06:29:52.320295Z",
     "iopub.status.idle": "2021-08-04T06:29:52.367353Z",
     "shell.execute_reply": "2021-08-04T06:29:52.365990Z"
    }
   },
   "outputs": [
    {
     "data": {
      "image/svg+xml": [
       "<?xml version=\"1.0\" encoding=\"UTF-8\" standalone=\"no\"?><svg xmlns=\"http://www.w3.org/2000/svg\" xmlns:xlink=\"http://www.w3.org/1999/xlink\" contentScriptType=\"application/ecmascript\" contentStyleType=\"text/css\" height=\"263px\" preserveAspectRatio=\"none\" style=\"width:812px;height:263px;\" version=\"1.1\" viewBox=\"0 0 812 263\" width=\"812px\" zoomAndPan=\"magnify\"><defs/><g><!--MD5=[fbc87193dbaf4d95561dea2c320d4a47]\n",
       "cluster E1--><a href=\"psysml:04657276-263c-446b-8b63-b81fdc3bdb65\" target=\"_top\" title=\"psysml:04657276-263c-446b-8b63-b81fdc3bdb65\" xlink:actuate=\"onRequest\" xlink:href=\"psysml:04657276-263c-446b-8b63-b81fdc3bdb65\" xlink:show=\"new\" xlink:title=\"psysml:04657276-263c-446b-8b63-b81fdc3bdb65\" xlink:type=\"simple\"><polygon fill=\"#FFFFFF\" points=\"16,6,140,6,147,28.2969,790,28.2969,790,251,16,251,16,6\" style=\"stroke: #000000; stroke-width: 1.5;\"/><line style=\"stroke: #000000; stroke-width: 1.5;\" x1=\"16\" x2=\"147\" y1=\"28.2969\" y2=\"28.2969\"/><text fill=\"#000000\" font-family=\"sans-serif\" font-size=\"14\" font-weight=\"bold\" lengthAdjust=\"spacingAndGlyphs\" textLength=\"118\" x=\"20\" y=\"20.9951\">MultiplicityTest</text></a><!--MD5=[b4997ac47864f28c2f74865a473b2911]\n",
       "class E2--><a href=\"psysml:68eb8761-ff46-4523-ba58-41a062b6cb94\" target=\"_top\" title=\"psysml:68eb8761-ff46-4523-ba58-41a062b6cb94\" xlink:actuate=\"onRequest\" xlink:href=\"psysml:68eb8761-ff46-4523-ba58-41a062b6cb94\" xlink:show=\"new\" xlink:title=\"psysml:68eb8761-ff46-4523-ba58-41a062b6cb94\" xlink:type=\"simple\"><rect fill=\"#FFFFFF\" height=\"45.9375\" id=\"E2\" style=\"stroke: #383838; stroke-width: 1.5;\" width=\"66\" x=\"497\" y=\"189\"/><text fill=\"#000000\" font-family=\"sans-serif\" font-size=\"12\" font-style=\"italic\" lengthAdjust=\"spacingAndGlyphs\" textLength=\"64\" x=\"498\" y=\"205.1387\">«part def»</text><text fill=\"#000000\" font-family=\"sans-serif\" font-size=\"12\" lengthAdjust=\"spacingAndGlyphs\" textLength=\"8\" x=\"526\" y=\"219.1074\">P</text><line style=\"stroke: #383838; stroke-width: 1.5;\" x1=\"498\" x2=\"562\" y1=\"226.9375\" y2=\"226.9375\"/></a><!--MD5=[09b614a08d8cba4a07c9adeb5e0fee81]\n",
       "class E3--><a href=\"psysml:c2c67205-2617-478d-9839-9411bc2f8511\" target=\"_top\" title=\"psysml:c2c67205-2617-478d-9839-9411bc2f8511\" xlink:actuate=\"onRequest\" xlink:href=\"psysml:c2c67205-2617-478d-9839-9411bc2f8511\" xlink:show=\"new\" xlink:title=\"psysml:c2c67205-2617-478d-9839-9411bc2f8511\" xlink:type=\"simple\"><rect fill=\"#FFFFFF\" height=\"45.9375\" id=\"E3\" rx=\"10\" ry=\"10\" style=\"stroke: #383838; stroke-width: 1.5;\" width=\"71\" x=\"702.5\" y=\"62\"/><text fill=\"#000000\" font-family=\"sans-serif\" font-size=\"12\" font-style=\"italic\" lengthAdjust=\"spacingAndGlyphs\" textLength=\"69\" x=\"703.5\" y=\"78.1387\">«attribute»</text><text fill=\"#000000\" font-family=\"sans-serif\" font-size=\"12\" lengthAdjust=\"spacingAndGlyphs\" textLength=\"61\" x=\"707.5\" y=\"92.1074\">n: Integer</text><line style=\"stroke: #383838; stroke-width: 1.5;\" x1=\"703.5\" x2=\"772.5\" y1=\"99.9375\" y2=\"99.9375\"/></a><!--MD5=[ebbe1d658d1005bcc118a6aa81145e00]\n",
       "class E4--><a href=\"psysml:fbb3215b-67d9-4514-b40f-6d8c33165593\" target=\"_top\" title=\"psysml:fbb3215b-67d9-4514-b40f-6d8c33165593\" xlink:actuate=\"onRequest\" xlink:href=\"psysml:fbb3215b-67d9-4514-b40f-6d8c33165593\" xlink:show=\"new\" xlink:title=\"psysml:fbb3215b-67d9-4514-b40f-6d8c33165593\" xlink:type=\"simple\"><rect fill=\"#FFFFFF\" height=\"45.9375\" id=\"E4\" rx=\"10\" ry=\"10\" style=\"stroke: #383838; stroke-width: 1.5;\" width=\"42\" x=\"625\" y=\"62\"/><text fill=\"#000000\" font-family=\"sans-serif\" font-size=\"12\" font-style=\"italic\" lengthAdjust=\"spacingAndGlyphs\" textLength=\"40\" x=\"626\" y=\"78.1387\">«part»</text><text fill=\"#000000\" font-family=\"sans-serif\" font-size=\"12\" lengthAdjust=\"spacingAndGlyphs\" textLength=\"8\" x=\"642\" y=\"92.1074\">a</text><line style=\"stroke: #383838; stroke-width: 1.5;\" x1=\"626\" x2=\"666\" y1=\"99.9375\" y2=\"99.9375\"/></a><!--MD5=[270fce915f116d4de14055a7c1d9a0f3]\n",
       "class E5--><a href=\"psysml:d1ff5ca6-7417-4682-b046-127881647fcb\" target=\"_top\" title=\"psysml:d1ff5ca6-7417-4682-b046-127881647fcb\" xlink:actuate=\"onRequest\" xlink:href=\"psysml:d1ff5ca6-7417-4682-b046-127881647fcb\" xlink:show=\"new\" xlink:title=\"psysml:d1ff5ca6-7417-4682-b046-127881647fcb\" xlink:type=\"simple\"><rect fill=\"#FFFFFF\" height=\"45.9375\" id=\"E5\" rx=\"10\" ry=\"10\" style=\"stroke: #383838; stroke-width: 1.5;\" width=\"42\" x=\"548\" y=\"62\"/><text fill=\"#000000\" font-family=\"sans-serif\" font-size=\"12\" font-style=\"italic\" lengthAdjust=\"spacingAndGlyphs\" textLength=\"40\" x=\"549\" y=\"78.1387\">«part»</text><text fill=\"#000000\" font-family=\"sans-serif\" font-size=\"12\" lengthAdjust=\"spacingAndGlyphs\" textLength=\"24\" x=\"557\" y=\"92.1074\">b: P</text><line style=\"stroke: #383838; stroke-width: 1.5;\" x1=\"549\" x2=\"589\" y1=\"99.9375\" y2=\"99.9375\"/></a><!--MD5=[60a26617385b1d2d0262a64233df1f8d]\n",
       "class E6--><a href=\"psysml:20d627d7-8daa-4ea4-8c0c-0e67ee5e3616\" target=\"_top\" title=\"psysml:20d627d7-8daa-4ea4-8c0c-0e67ee5e3616\" xlink:actuate=\"onRequest\" xlink:href=\"psysml:20d627d7-8daa-4ea4-8c0c-0e67ee5e3616\" xlink:show=\"new\" xlink:title=\"psysml:20d627d7-8daa-4ea4-8c0c-0e67ee5e3616\" xlink:type=\"simple\"><rect fill=\"#FFFFFF\" height=\"45.9375\" id=\"E6\" rx=\"10\" ry=\"10\" style=\"stroke: #383838; stroke-width: 1.5;\" width=\"42\" x=\"471\" y=\"62\"/><text fill=\"#000000\" font-family=\"sans-serif\" font-size=\"12\" font-style=\"italic\" lengthAdjust=\"spacingAndGlyphs\" textLength=\"40\" x=\"472\" y=\"78.1387\">«part»</text><text fill=\"#000000\" font-family=\"sans-serif\" font-size=\"12\" lengthAdjust=\"spacingAndGlyphs\" textLength=\"23\" x=\"480.5\" y=\"92.1074\">c: P</text><line style=\"stroke: #383838; stroke-width: 1.5;\" x1=\"472\" x2=\"512\" y1=\"99.9375\" y2=\"99.9375\"/></a><!--MD5=[2156ba9850f5573cc1fc38a6a4b2f02b]\n",
       "class E7--><a href=\"psysml:4fc87a01-ac01-48e0-9821-1b5b80a637f1\" target=\"_top\" title=\"psysml:4fc87a01-ac01-48e0-9821-1b5b80a637f1\" xlink:actuate=\"onRequest\" xlink:href=\"psysml:4fc87a01-ac01-48e0-9821-1b5b80a637f1\" xlink:show=\"new\" xlink:title=\"psysml:4fc87a01-ac01-48e0-9821-1b5b80a637f1\" xlink:type=\"simple\"><rect fill=\"#FFFFFF\" height=\"45.9375\" id=\"E7\" rx=\"10\" ry=\"10\" style=\"stroke: #383838; stroke-width: 1.5;\" width=\"42\" x=\"394\" y=\"62\"/><text fill=\"#000000\" font-family=\"sans-serif\" font-size=\"12\" font-style=\"italic\" lengthAdjust=\"spacingAndGlyphs\" textLength=\"40\" x=\"395\" y=\"78.1387\">«part»</text><text fill=\"#000000\" font-family=\"sans-serif\" font-size=\"12\" lengthAdjust=\"spacingAndGlyphs\" textLength=\"8\" x=\"411\" y=\"92.1074\">d</text><line style=\"stroke: #383838; stroke-width: 1.5;\" x1=\"395\" x2=\"435\" y1=\"99.9375\" y2=\"99.9375\"/></a><!--MD5=[b9389687b975829384b498ac4b7476b2]\n",
       "class E8--><a href=\"psysml:e7c3b12c-9054-4127-bd5f-a31eeffec0a6\" target=\"_top\" title=\"psysml:e7c3b12c-9054-4127-bd5f-a31eeffec0a6\" xlink:actuate=\"onRequest\" xlink:href=\"psysml:e7c3b12c-9054-4127-bd5f-a31eeffec0a6\" xlink:show=\"new\" xlink:title=\"psysml:e7c3b12c-9054-4127-bd5f-a31eeffec0a6\" xlink:type=\"simple\"><rect fill=\"#FFFFFF\" height=\"45.9375\" id=\"E8\" rx=\"10\" ry=\"10\" style=\"stroke: #383838; stroke-width: 1.5;\" width=\"42\" x=\"317\" y=\"62\"/><text fill=\"#000000\" font-family=\"sans-serif\" font-size=\"12\" font-style=\"italic\" lengthAdjust=\"spacingAndGlyphs\" textLength=\"40\" x=\"318\" y=\"78.1387\">«part»</text><text fill=\"#000000\" font-family=\"sans-serif\" font-size=\"12\" lengthAdjust=\"spacingAndGlyphs\" textLength=\"8\" x=\"334\" y=\"92.1074\">e</text><line style=\"stroke: #383838; stroke-width: 1.5;\" x1=\"318\" x2=\"358\" y1=\"99.9375\" y2=\"99.9375\"/></a><!--MD5=[fd4143e9d270a159db93a4ea2a975926]\n",
       "class E9--><a href=\"psysml:49b700d2-d9c4-4257-84cb-c65bfac2aa08\" target=\"_top\" title=\"psysml:49b700d2-d9c4-4257-84cb-c65bfac2aa08\" xlink:actuate=\"onRequest\" xlink:href=\"psysml:49b700d2-d9c4-4257-84cb-c65bfac2aa08\" xlink:show=\"new\" xlink:title=\"psysml:49b700d2-d9c4-4257-84cb-c65bfac2aa08\" xlink:type=\"simple\"><rect fill=\"#FFFFFF\" height=\"45.9375\" id=\"E9\" rx=\"10\" ry=\"10\" style=\"stroke: #383838; stroke-width: 1.5;\" width=\"42\" x=\"240\" y=\"62\"/><text fill=\"#000000\" font-family=\"sans-serif\" font-size=\"12\" font-style=\"italic\" lengthAdjust=\"spacingAndGlyphs\" textLength=\"40\" x=\"241\" y=\"78.1387\">«part»</text><text fill=\"#000000\" font-family=\"sans-serif\" font-size=\"12\" lengthAdjust=\"spacingAndGlyphs\" textLength=\"4\" x=\"259\" y=\"92.1074\">f</text><line style=\"stroke: #383838; stroke-width: 1.5;\" x1=\"241\" x2=\"281\" y1=\"99.9375\" y2=\"99.9375\"/></a><!--MD5=[96f4274e9e20536e775497830990834d]\n",
       "class E10--><a href=\"psysml:20161f3e-4930-46fe-a17d-f79ec2a77aae\" target=\"_top\" title=\"psysml:20161f3e-4930-46fe-a17d-f79ec2a77aae\" xlink:actuate=\"onRequest\" xlink:href=\"psysml:20161f3e-4930-46fe-a17d-f79ec2a77aae\" xlink:show=\"new\" xlink:title=\"psysml:20161f3e-4930-46fe-a17d-f79ec2a77aae\" xlink:type=\"simple\"><rect fill=\"#FFFFFF\" height=\"45.9375\" id=\"E10\" rx=\"10\" ry=\"10\" style=\"stroke: #383838; stroke-width: 1.5;\" width=\"42\" x=\"163\" y=\"62\"/><text fill=\"#000000\" font-family=\"sans-serif\" font-size=\"12\" font-style=\"italic\" lengthAdjust=\"spacingAndGlyphs\" textLength=\"40\" x=\"164\" y=\"78.1387\">«part»</text><text fill=\"#000000\" font-family=\"sans-serif\" font-size=\"12\" lengthAdjust=\"spacingAndGlyphs\" textLength=\"8\" x=\"180\" y=\"92.1074\">g</text><line style=\"stroke: #383838; stroke-width: 1.5;\" x1=\"164\" x2=\"204\" y1=\"99.9375\" y2=\"99.9375\"/></a><!--MD5=[1dd1bfd58a279cf63c5f349dbc8fc6a1]\n",
       "class E11--><a href=\"psysml:958dabfe-3a24-44d8-9bca-d5e375f56ac2\" target=\"_top\" title=\"psysml:958dabfe-3a24-44d8-9bca-d5e375f56ac2\" xlink:actuate=\"onRequest\" xlink:href=\"psysml:958dabfe-3a24-44d8-9bca-d5e375f56ac2\" xlink:show=\"new\" xlink:title=\"psysml:958dabfe-3a24-44d8-9bca-d5e375f56ac2\" xlink:type=\"simple\"><rect fill=\"#FFFFFF\" height=\"88.3516\" id=\"E11\" style=\"stroke: #383838; stroke-width: 1.5;\" width=\"95\" x=\"32.5\" y=\"41\"/><text fill=\"#000000\" font-family=\"sans-serif\" font-size=\"12\" font-style=\"italic\" lengthAdjust=\"spacingAndGlyphs\" textLength=\"93\" x=\"33.5\" y=\"57.1387\">«attribute def»</text><text fill=\"#000000\" font-family=\"sans-serif\" font-size=\"12\" lengthAdjust=\"spacingAndGlyphs\" textLength=\"8\" x=\"76\" y=\"71.1074\">A</text><line style=\"stroke: #383838; stroke-width: 1.5;\" x1=\"33.5\" x2=\"126.5\" y1=\"78.9375\" y2=\"78.9375\"/><text fill=\"#000000\" font-family=\"sans-serif\" font-size=\"11\" lengthAdjust=\"spacingAndGlyphs\" textLength=\"51\" x=\"38.5\" y=\"109.9526\">i: Integer</text><text fill=\"#000000\" font-family=\"sans-serif\" font-size=\"11\" lengthAdjust=\"spacingAndGlyphs\" textLength=\"21\" x=\"38.5\" y=\"122.7573\">x: A</text><line style=\"stroke: #383838; stroke-width: 1.0;\" x1=\"33.5\" x2=\"52.5\" y1=\"93.3398\" y2=\"93.3398\"/><text fill=\"#000000\" font-family=\"sans-serif\" font-size=\"11\" lengthAdjust=\"spacingAndGlyphs\" textLength=\"55\" x=\"52.5\" y=\"96.6479\">attributes</text><line style=\"stroke: #383838; stroke-width: 1.0;\" x1=\"107.5\" x2=\"126.5\" y1=\"93.3398\" y2=\"93.3398\"/></a><!--MD5=[15ebcb19ae302d9b601edb458606d402]\n",
       "link E5 to E2--><a href=\"psysml:a788c1ae-8502-4aea-9d8b-5a5d865c76a9\" target=\"_top\" title=\"psysml:a788c1ae-8502-4aea-9d8b-5a5d865c76a9\" xlink:actuate=\"onRequest\" xlink:href=\"psysml:a788c1ae-8502-4aea-9d8b-5a5d865c76a9\" xlink:show=\"new\" xlink:title=\"psysml:a788c1ae-8502-4aea-9d8b-5a5d865c76a9\" xlink:type=\"simple\"><path d=\"M562.12,108.06 C556.83,125 549.38,148.89 542.98,169.39 \" fill=\"none\" id=\"E5-&gt;E2\" style=\"stroke: #383838; stroke-width: 1.0;\"/><polygon fill=\"#FFFFFF\" points=\"536.95,188.74,535.929,168.5173,549.2931,172.6886,536.95,188.74\" style=\"stroke: #383838; stroke-width: 1.0;\"/><ellipse cx=\"539.5364\" cy=\"163.6721\" fill=\"#383838\" rx=\"2\" ry=\"2\" style=\"stroke: #383838; stroke-width: 1.0;\"/><ellipse cx=\"549.0823\" cy=\"166.6516\" fill=\"#383838\" rx=\"2\" ry=\"2\" style=\"stroke: #383838; stroke-width: 1.0;\"/></a><!--MD5=[2351f337d6de0f557b50152ba70847b5]\n",
       "link E6 to E2--><a href=\"psysml:96c9e024-7b1d-4ba9-883a-860d4899a00e\" target=\"_top\" title=\"psysml:96c9e024-7b1d-4ba9-883a-860d4899a00e\" xlink:actuate=\"onRequest\" xlink:href=\"psysml:96c9e024-7b1d-4ba9-883a-860d4899a00e\" xlink:show=\"new\" xlink:title=\"psysml:96c9e024-7b1d-4ba9-883a-860d4899a00e\" xlink:type=\"simple\"><path d=\"M498.71,108.06 C503.86,125 511.12,148.89 517.35,169.39 \" fill=\"none\" id=\"E6-&gt;E2\" style=\"stroke: #383838; stroke-width: 1.0;\"/><polygon fill=\"#FFFFFF\" points=\"523.23,188.74,511.007,172.597,524.4019,168.5255,523.23,188.74\" style=\"stroke: #383838; stroke-width: 1.0;\"/><ellipse cx=\"511.2628\" cy=\"166.5617\" fill=\"#383838\" rx=\"2\" ry=\"2\" style=\"stroke: #383838; stroke-width: 1.0;\"/><ellipse cx=\"520.8306\" cy=\"163.6535\" fill=\"#383838\" rx=\"2\" ry=\"2\" style=\"stroke: #383838; stroke-width: 1.0;\"/></a><!--MD5=[2a46ddeac10f1fe136282d13ae769b94]\n",
       "@startuml\r\n",
       "skinparam monochrome true\r\n",
       "skinparam classbackgroundcolor white\r\n",
       "skinparam shadowing false\r\n",
       "skinparam wrapWidth 300\r\n",
       "hide circle\r\n",
       "\r\n",
       "package \"MultiplicityTest\" as E1  [[psysml:04657276-263c-446b-8b63-b81fdc3bdb65 ]]  {\r\n",
       "comp def \"P\" as E2  <<(T,blue) part def>> [[psysml:68eb8761-ff46-4523-ba58-41a062b6cb94 ]] {\r\n",
       "}\r\n",
       "comp usage \"n: Integer\" as E3  <<(T,blue) attribute>> [[psysml:c2c67205-2617-478d-9839-9411bc2f8511 ]] {\r\n",
       "}\r\n",
       "comp usage \"a\" as E4  <<(T,blue) part>> [[psysml:fbb3215b-67d9-4514-b40f-6d8c33165593 ]] {\r\n",
       "}\r\n",
       "comp usage \"b: P\" as E5  <<(T,blue) part>> [[psysml:d1ff5ca6-7417-4682-b046-127881647fcb ]] {\r\n",
       "}\r\n",
       "comp usage \"c: P\" as E6  <<(T,blue) part>> [[psysml:20d627d7-8daa-4ea4-8c0c-0e67ee5e3616 ]] {\r\n",
       "}\r\n",
       "comp usage \"d\" as E7  <<(T,blue) part>> [[psysml:4fc87a01-ac01-48e0-9821-1b5b80a637f1 ]] {\r\n",
       "}\r\n",
       "comp usage \"e\" as E8  <<(T,blue) part>> [[psysml:e7c3b12c-9054-4127-bd5f-a31eeffec0a6 ]] {\r\n",
       "}\r\n",
       "comp usage \"f\" as E9  <<(T,blue) part>> [[psysml:49b700d2-d9c4-4257-84cb-c65bfac2aa08 ]] {\r\n",
       "}\r\n",
       "comp usage \"g\" as E10  <<(T,blue) part>> [[psysml:20161f3e-4930-46fe-a17d-f79ec2a77aae ]] {\r\n",
       "}\r\n",
       "comp def \"A\" as E11  <<(T,blue) attribute def>> [[psysml:958dabfe-3a24-44d8-9bca-d5e375f56ac2 ]] {\r\n",
       "- - attributes - -\r\n",
       "i: Integer\r\n",
       "x: A\r\n",
       "}\r\n",
       "E5 - -:|> E2 [[psysml:a788c1ae-8502-4aea-9d8b-5a5d865c76a9 ]] \r\n",
       "E6 - -:|> E2 [[psysml:96c9e024-7b1d-4ba9-883a-860d4899a00e ]] \r\n",
       "}\r\n",
       "@enduml\r\n",
       "\n",
       "PlantUML version 1.2020.13(Sat Jun 13 12:26:38 UTC 2020)\n",
       "(EPL source distribution)\n",
       "Java Runtime: OpenJDK Runtime Environment\n",
       "JVM: OpenJDK 64-Bit Server VM\n",
       "Default Encoding: UTF-8\n",
       "Language: en\n",
       "Country: null\n",
       "--></g></svg>"
      ]
     },
     "execution_count": 37,
     "metadata": {},
     "output_type": "execute_result"
    }
   ],
   "source": [
    "%viz --style=\"DEFAULT\" --view=\"Default\" \"MultiplicityTest\""
   ]
  },
  {
   "cell_type": "code",
   "execution_count": 38,
   "id": "22220345",
   "metadata": {
    "execution": {
     "iopub.execute_input": "2021-08-04T06:29:52.417225Z",
     "iopub.status.busy": "2021-08-04T06:29:52.416590Z",
     "iopub.status.idle": "2021-08-04T06:29:52.454847Z",
     "shell.execute_reply": "2021-08-04T06:29:52.454066Z"
    }
   },
   "outputs": [
    {
     "data": {
      "image/svg+xml": [
       "<?xml version=\"1.0\" encoding=\"UTF-8\" standalone=\"no\"?><svg xmlns=\"http://www.w3.org/2000/svg\" xmlns:xlink=\"http://www.w3.org/1999/xlink\" contentScriptType=\"application/ecmascript\" contentStyleType=\"text/css\" height=\"263px\" preserveAspectRatio=\"none\" style=\"width:812px;height:263px;\" version=\"1.1\" viewBox=\"0 0 812 263\" width=\"812px\" zoomAndPan=\"magnify\"><defs/><g><!--MD5=[fbc87193dbaf4d95561dea2c320d4a47]\n",
       "cluster E1--><a href=\"psysml:04657276-263c-446b-8b63-b81fdc3bdb65\" target=\"_top\" title=\"psysml:04657276-263c-446b-8b63-b81fdc3bdb65\" xlink:actuate=\"onRequest\" xlink:href=\"psysml:04657276-263c-446b-8b63-b81fdc3bdb65\" xlink:show=\"new\" xlink:title=\"psysml:04657276-263c-446b-8b63-b81fdc3bdb65\" xlink:type=\"simple\"><polygon fill=\"#FFFFFF\" points=\"16,6,140,6,147,28.2969,790,28.2969,790,251,16,251,16,6\" style=\"stroke: #000000; stroke-width: 1.5;\"/><line style=\"stroke: #000000; stroke-width: 1.5;\" x1=\"16\" x2=\"147\" y1=\"28.2969\" y2=\"28.2969\"/><text fill=\"#000000\" font-family=\"sans-serif\" font-size=\"14\" font-weight=\"bold\" lengthAdjust=\"spacingAndGlyphs\" textLength=\"118\" x=\"20\" y=\"20.9951\">MultiplicityTest</text></a><!--MD5=[b4997ac47864f28c2f74865a473b2911]\n",
       "class E2--><a href=\"psysml:68eb8761-ff46-4523-ba58-41a062b6cb94\" target=\"_top\" title=\"psysml:68eb8761-ff46-4523-ba58-41a062b6cb94\" xlink:actuate=\"onRequest\" xlink:href=\"psysml:68eb8761-ff46-4523-ba58-41a062b6cb94\" xlink:show=\"new\" xlink:title=\"psysml:68eb8761-ff46-4523-ba58-41a062b6cb94\" xlink:type=\"simple\"><rect fill=\"#FFFFFF\" height=\"45.9375\" id=\"E2\" style=\"stroke: #383838; stroke-width: 1.5;\" width=\"66\" x=\"497\" y=\"189\"/><text fill=\"#000000\" font-family=\"sans-serif\" font-size=\"12\" font-style=\"italic\" lengthAdjust=\"spacingAndGlyphs\" textLength=\"64\" x=\"498\" y=\"205.1387\">«part def»</text><text fill=\"#000000\" font-family=\"sans-serif\" font-size=\"12\" lengthAdjust=\"spacingAndGlyphs\" textLength=\"8\" x=\"526\" y=\"219.1074\">P</text><line style=\"stroke: #383838; stroke-width: 1.5;\" x1=\"498\" x2=\"562\" y1=\"226.9375\" y2=\"226.9375\"/></a><!--MD5=[09b614a08d8cba4a07c9adeb5e0fee81]\n",
       "class E3--><a href=\"psysml:c2c67205-2617-478d-9839-9411bc2f8511\" target=\"_top\" title=\"psysml:c2c67205-2617-478d-9839-9411bc2f8511\" xlink:actuate=\"onRequest\" xlink:href=\"psysml:c2c67205-2617-478d-9839-9411bc2f8511\" xlink:show=\"new\" xlink:title=\"psysml:c2c67205-2617-478d-9839-9411bc2f8511\" xlink:type=\"simple\"><rect fill=\"#FFFFFF\" height=\"45.9375\" id=\"E3\" rx=\"10\" ry=\"10\" style=\"stroke: #383838; stroke-width: 1.5;\" width=\"71\" x=\"702.5\" y=\"62\"/><text fill=\"#000000\" font-family=\"sans-serif\" font-size=\"12\" font-style=\"italic\" lengthAdjust=\"spacingAndGlyphs\" textLength=\"69\" x=\"703.5\" y=\"78.1387\">«attribute»</text><text fill=\"#000000\" font-family=\"sans-serif\" font-size=\"12\" lengthAdjust=\"spacingAndGlyphs\" textLength=\"61\" x=\"707.5\" y=\"92.1074\">n: Integer</text><line style=\"stroke: #383838; stroke-width: 1.5;\" x1=\"703.5\" x2=\"772.5\" y1=\"99.9375\" y2=\"99.9375\"/></a><!--MD5=[ebbe1d658d1005bcc118a6aa81145e00]\n",
       "class E4--><a href=\"psysml:fbb3215b-67d9-4514-b40f-6d8c33165593\" target=\"_top\" title=\"psysml:fbb3215b-67d9-4514-b40f-6d8c33165593\" xlink:actuate=\"onRequest\" xlink:href=\"psysml:fbb3215b-67d9-4514-b40f-6d8c33165593\" xlink:show=\"new\" xlink:title=\"psysml:fbb3215b-67d9-4514-b40f-6d8c33165593\" xlink:type=\"simple\"><rect fill=\"#FFFFFF\" height=\"45.9375\" id=\"E4\" rx=\"10\" ry=\"10\" style=\"stroke: #383838; stroke-width: 1.5;\" width=\"42\" x=\"625\" y=\"62\"/><text fill=\"#000000\" font-family=\"sans-serif\" font-size=\"12\" font-style=\"italic\" lengthAdjust=\"spacingAndGlyphs\" textLength=\"40\" x=\"626\" y=\"78.1387\">«part»</text><text fill=\"#000000\" font-family=\"sans-serif\" font-size=\"12\" lengthAdjust=\"spacingAndGlyphs\" textLength=\"8\" x=\"642\" y=\"92.1074\">a</text><line style=\"stroke: #383838; stroke-width: 1.5;\" x1=\"626\" x2=\"666\" y1=\"99.9375\" y2=\"99.9375\"/></a><!--MD5=[270fce915f116d4de14055a7c1d9a0f3]\n",
       "class E5--><a href=\"psysml:d1ff5ca6-7417-4682-b046-127881647fcb\" target=\"_top\" title=\"psysml:d1ff5ca6-7417-4682-b046-127881647fcb\" xlink:actuate=\"onRequest\" xlink:href=\"psysml:d1ff5ca6-7417-4682-b046-127881647fcb\" xlink:show=\"new\" xlink:title=\"psysml:d1ff5ca6-7417-4682-b046-127881647fcb\" xlink:type=\"simple\"><rect fill=\"#FFFFFF\" height=\"45.9375\" id=\"E5\" rx=\"10\" ry=\"10\" style=\"stroke: #383838; stroke-width: 1.5;\" width=\"42\" x=\"548\" y=\"62\"/><text fill=\"#000000\" font-family=\"sans-serif\" font-size=\"12\" font-style=\"italic\" lengthAdjust=\"spacingAndGlyphs\" textLength=\"40\" x=\"549\" y=\"78.1387\">«part»</text><text fill=\"#000000\" font-family=\"sans-serif\" font-size=\"12\" lengthAdjust=\"spacingAndGlyphs\" textLength=\"24\" x=\"557\" y=\"92.1074\">b: P</text><line style=\"stroke: #383838; stroke-width: 1.5;\" x1=\"549\" x2=\"589\" y1=\"99.9375\" y2=\"99.9375\"/></a><!--MD5=[60a26617385b1d2d0262a64233df1f8d]\n",
       "class E6--><a href=\"psysml:20d627d7-8daa-4ea4-8c0c-0e67ee5e3616\" target=\"_top\" title=\"psysml:20d627d7-8daa-4ea4-8c0c-0e67ee5e3616\" xlink:actuate=\"onRequest\" xlink:href=\"psysml:20d627d7-8daa-4ea4-8c0c-0e67ee5e3616\" xlink:show=\"new\" xlink:title=\"psysml:20d627d7-8daa-4ea4-8c0c-0e67ee5e3616\" xlink:type=\"simple\"><rect fill=\"#FFFFFF\" height=\"45.9375\" id=\"E6\" rx=\"10\" ry=\"10\" style=\"stroke: #383838; stroke-width: 1.5;\" width=\"42\" x=\"471\" y=\"62\"/><text fill=\"#000000\" font-family=\"sans-serif\" font-size=\"12\" font-style=\"italic\" lengthAdjust=\"spacingAndGlyphs\" textLength=\"40\" x=\"472\" y=\"78.1387\">«part»</text><text fill=\"#000000\" font-family=\"sans-serif\" font-size=\"12\" lengthAdjust=\"spacingAndGlyphs\" textLength=\"23\" x=\"480.5\" y=\"92.1074\">c: P</text><line style=\"stroke: #383838; stroke-width: 1.5;\" x1=\"472\" x2=\"512\" y1=\"99.9375\" y2=\"99.9375\"/></a><!--MD5=[2156ba9850f5573cc1fc38a6a4b2f02b]\n",
       "class E7--><a href=\"psysml:4fc87a01-ac01-48e0-9821-1b5b80a637f1\" target=\"_top\" title=\"psysml:4fc87a01-ac01-48e0-9821-1b5b80a637f1\" xlink:actuate=\"onRequest\" xlink:href=\"psysml:4fc87a01-ac01-48e0-9821-1b5b80a637f1\" xlink:show=\"new\" xlink:title=\"psysml:4fc87a01-ac01-48e0-9821-1b5b80a637f1\" xlink:type=\"simple\"><rect fill=\"#FFFFFF\" height=\"45.9375\" id=\"E7\" rx=\"10\" ry=\"10\" style=\"stroke: #383838; stroke-width: 1.5;\" width=\"42\" x=\"394\" y=\"62\"/><text fill=\"#000000\" font-family=\"sans-serif\" font-size=\"12\" font-style=\"italic\" lengthAdjust=\"spacingAndGlyphs\" textLength=\"40\" x=\"395\" y=\"78.1387\">«part»</text><text fill=\"#000000\" font-family=\"sans-serif\" font-size=\"12\" lengthAdjust=\"spacingAndGlyphs\" textLength=\"8\" x=\"411\" y=\"92.1074\">d</text><line style=\"stroke: #383838; stroke-width: 1.5;\" x1=\"395\" x2=\"435\" y1=\"99.9375\" y2=\"99.9375\"/></a><!--MD5=[b9389687b975829384b498ac4b7476b2]\n",
       "class E8--><a href=\"psysml:e7c3b12c-9054-4127-bd5f-a31eeffec0a6\" target=\"_top\" title=\"psysml:e7c3b12c-9054-4127-bd5f-a31eeffec0a6\" xlink:actuate=\"onRequest\" xlink:href=\"psysml:e7c3b12c-9054-4127-bd5f-a31eeffec0a6\" xlink:show=\"new\" xlink:title=\"psysml:e7c3b12c-9054-4127-bd5f-a31eeffec0a6\" xlink:type=\"simple\"><rect fill=\"#FFFFFF\" height=\"45.9375\" id=\"E8\" rx=\"10\" ry=\"10\" style=\"stroke: #383838; stroke-width: 1.5;\" width=\"42\" x=\"317\" y=\"62\"/><text fill=\"#000000\" font-family=\"sans-serif\" font-size=\"12\" font-style=\"italic\" lengthAdjust=\"spacingAndGlyphs\" textLength=\"40\" x=\"318\" y=\"78.1387\">«part»</text><text fill=\"#000000\" font-family=\"sans-serif\" font-size=\"12\" lengthAdjust=\"spacingAndGlyphs\" textLength=\"8\" x=\"334\" y=\"92.1074\">e</text><line style=\"stroke: #383838; stroke-width: 1.5;\" x1=\"318\" x2=\"358\" y1=\"99.9375\" y2=\"99.9375\"/></a><!--MD5=[fd4143e9d270a159db93a4ea2a975926]\n",
       "class E9--><a href=\"psysml:49b700d2-d9c4-4257-84cb-c65bfac2aa08\" target=\"_top\" title=\"psysml:49b700d2-d9c4-4257-84cb-c65bfac2aa08\" xlink:actuate=\"onRequest\" xlink:href=\"psysml:49b700d2-d9c4-4257-84cb-c65bfac2aa08\" xlink:show=\"new\" xlink:title=\"psysml:49b700d2-d9c4-4257-84cb-c65bfac2aa08\" xlink:type=\"simple\"><rect fill=\"#FFFFFF\" height=\"45.9375\" id=\"E9\" rx=\"10\" ry=\"10\" style=\"stroke: #383838; stroke-width: 1.5;\" width=\"42\" x=\"240\" y=\"62\"/><text fill=\"#000000\" font-family=\"sans-serif\" font-size=\"12\" font-style=\"italic\" lengthAdjust=\"spacingAndGlyphs\" textLength=\"40\" x=\"241\" y=\"78.1387\">«part»</text><text fill=\"#000000\" font-family=\"sans-serif\" font-size=\"12\" lengthAdjust=\"spacingAndGlyphs\" textLength=\"4\" x=\"259\" y=\"92.1074\">f</text><line style=\"stroke: #383838; stroke-width: 1.5;\" x1=\"241\" x2=\"281\" y1=\"99.9375\" y2=\"99.9375\"/></a><!--MD5=[96f4274e9e20536e775497830990834d]\n",
       "class E10--><a href=\"psysml:20161f3e-4930-46fe-a17d-f79ec2a77aae\" target=\"_top\" title=\"psysml:20161f3e-4930-46fe-a17d-f79ec2a77aae\" xlink:actuate=\"onRequest\" xlink:href=\"psysml:20161f3e-4930-46fe-a17d-f79ec2a77aae\" xlink:show=\"new\" xlink:title=\"psysml:20161f3e-4930-46fe-a17d-f79ec2a77aae\" xlink:type=\"simple\"><rect fill=\"#FFFFFF\" height=\"45.9375\" id=\"E10\" rx=\"10\" ry=\"10\" style=\"stroke: #383838; stroke-width: 1.5;\" width=\"42\" x=\"163\" y=\"62\"/><text fill=\"#000000\" font-family=\"sans-serif\" font-size=\"12\" font-style=\"italic\" lengthAdjust=\"spacingAndGlyphs\" textLength=\"40\" x=\"164\" y=\"78.1387\">«part»</text><text fill=\"#000000\" font-family=\"sans-serif\" font-size=\"12\" lengthAdjust=\"spacingAndGlyphs\" textLength=\"8\" x=\"180\" y=\"92.1074\">g</text><line style=\"stroke: #383838; stroke-width: 1.5;\" x1=\"164\" x2=\"204\" y1=\"99.9375\" y2=\"99.9375\"/></a><!--MD5=[1dd1bfd58a279cf63c5f349dbc8fc6a1]\n",
       "class E11--><a href=\"psysml:958dabfe-3a24-44d8-9bca-d5e375f56ac2\" target=\"_top\" title=\"psysml:958dabfe-3a24-44d8-9bca-d5e375f56ac2\" xlink:actuate=\"onRequest\" xlink:href=\"psysml:958dabfe-3a24-44d8-9bca-d5e375f56ac2\" xlink:show=\"new\" xlink:title=\"psysml:958dabfe-3a24-44d8-9bca-d5e375f56ac2\" xlink:type=\"simple\"><rect fill=\"#FFFFFF\" height=\"88.3516\" id=\"E11\" style=\"stroke: #383838; stroke-width: 1.5;\" width=\"95\" x=\"32.5\" y=\"41\"/><text fill=\"#000000\" font-family=\"sans-serif\" font-size=\"12\" font-style=\"italic\" lengthAdjust=\"spacingAndGlyphs\" textLength=\"93\" x=\"33.5\" y=\"57.1387\">«attribute def»</text><text fill=\"#000000\" font-family=\"sans-serif\" font-size=\"12\" lengthAdjust=\"spacingAndGlyphs\" textLength=\"8\" x=\"76\" y=\"71.1074\">A</text><line style=\"stroke: #383838; stroke-width: 1.5;\" x1=\"33.5\" x2=\"126.5\" y1=\"78.9375\" y2=\"78.9375\"/><text fill=\"#000000\" font-family=\"sans-serif\" font-size=\"11\" lengthAdjust=\"spacingAndGlyphs\" textLength=\"51\" x=\"38.5\" y=\"109.9526\">i: Integer</text><text fill=\"#000000\" font-family=\"sans-serif\" font-size=\"11\" lengthAdjust=\"spacingAndGlyphs\" textLength=\"21\" x=\"38.5\" y=\"122.7573\">x: A</text><line style=\"stroke: #383838; stroke-width: 1.0;\" x1=\"33.5\" x2=\"52.5\" y1=\"93.3398\" y2=\"93.3398\"/><text fill=\"#000000\" font-family=\"sans-serif\" font-size=\"11\" lengthAdjust=\"spacingAndGlyphs\" textLength=\"55\" x=\"52.5\" y=\"96.6479\">attributes</text><line style=\"stroke: #383838; stroke-width: 1.0;\" x1=\"107.5\" x2=\"126.5\" y1=\"93.3398\" y2=\"93.3398\"/></a><!--MD5=[15ebcb19ae302d9b601edb458606d402]\n",
       "link E5 to E2--><a href=\"psysml:a788c1ae-8502-4aea-9d8b-5a5d865c76a9\" target=\"_top\" title=\"psysml:a788c1ae-8502-4aea-9d8b-5a5d865c76a9\" xlink:actuate=\"onRequest\" xlink:href=\"psysml:a788c1ae-8502-4aea-9d8b-5a5d865c76a9\" xlink:show=\"new\" xlink:title=\"psysml:a788c1ae-8502-4aea-9d8b-5a5d865c76a9\" xlink:type=\"simple\"><path d=\"M562.12,108.06 C556.83,125 549.38,148.89 542.98,169.39 \" fill=\"none\" id=\"E5-&gt;E2\" style=\"stroke: #383838; stroke-width: 1.0;\"/><polygon fill=\"#FFFFFF\" points=\"536.95,188.74,535.929,168.5173,549.2931,172.6886,536.95,188.74\" style=\"stroke: #383838; stroke-width: 1.0;\"/><ellipse cx=\"539.5364\" cy=\"163.6721\" fill=\"#383838\" rx=\"2\" ry=\"2\" style=\"stroke: #383838; stroke-width: 1.0;\"/><ellipse cx=\"549.0823\" cy=\"166.6516\" fill=\"#383838\" rx=\"2\" ry=\"2\" style=\"stroke: #383838; stroke-width: 1.0;\"/></a><!--MD5=[2351f337d6de0f557b50152ba70847b5]\n",
       "link E6 to E2--><a href=\"psysml:96c9e024-7b1d-4ba9-883a-860d4899a00e\" target=\"_top\" title=\"psysml:96c9e024-7b1d-4ba9-883a-860d4899a00e\" xlink:actuate=\"onRequest\" xlink:href=\"psysml:96c9e024-7b1d-4ba9-883a-860d4899a00e\" xlink:show=\"new\" xlink:title=\"psysml:96c9e024-7b1d-4ba9-883a-860d4899a00e\" xlink:type=\"simple\"><path d=\"M498.71,108.06 C503.86,125 511.12,148.89 517.35,169.39 \" fill=\"none\" id=\"E6-&gt;E2\" style=\"stroke: #383838; stroke-width: 1.0;\"/><polygon fill=\"#FFFFFF\" points=\"523.23,188.74,511.007,172.597,524.4019,168.5255,523.23,188.74\" style=\"stroke: #383838; stroke-width: 1.0;\"/><ellipse cx=\"511.2628\" cy=\"166.5617\" fill=\"#383838\" rx=\"2\" ry=\"2\" style=\"stroke: #383838; stroke-width: 1.0;\"/><ellipse cx=\"520.8306\" cy=\"163.6535\" fill=\"#383838\" rx=\"2\" ry=\"2\" style=\"stroke: #383838; stroke-width: 1.0;\"/></a><!--MD5=[2a46ddeac10f1fe136282d13ae769b94]\n",
       "@startuml\r\n",
       "skinparam monochrome true\r\n",
       "skinparam classbackgroundcolor white\r\n",
       "skinparam shadowing false\r\n",
       "skinparam wrapWidth 300\r\n",
       "hide circle\r\n",
       "\r\n",
       "package \"MultiplicityTest\" as E1  [[psysml:04657276-263c-446b-8b63-b81fdc3bdb65 ]]  {\r\n",
       "comp def \"P\" as E2  <<(T,blue) part def>> [[psysml:68eb8761-ff46-4523-ba58-41a062b6cb94 ]] {\r\n",
       "}\r\n",
       "comp usage \"n: Integer\" as E3  <<(T,blue) attribute>> [[psysml:c2c67205-2617-478d-9839-9411bc2f8511 ]] {\r\n",
       "}\r\n",
       "comp usage \"a\" as E4  <<(T,blue) part>> [[psysml:fbb3215b-67d9-4514-b40f-6d8c33165593 ]] {\r\n",
       "}\r\n",
       "comp usage \"b: P\" as E5  <<(T,blue) part>> [[psysml:d1ff5ca6-7417-4682-b046-127881647fcb ]] {\r\n",
       "}\r\n",
       "comp usage \"c: P\" as E6  <<(T,blue) part>> [[psysml:20d627d7-8daa-4ea4-8c0c-0e67ee5e3616 ]] {\r\n",
       "}\r\n",
       "comp usage \"d\" as E7  <<(T,blue) part>> [[psysml:4fc87a01-ac01-48e0-9821-1b5b80a637f1 ]] {\r\n",
       "}\r\n",
       "comp usage \"e\" as E8  <<(T,blue) part>> [[psysml:e7c3b12c-9054-4127-bd5f-a31eeffec0a6 ]] {\r\n",
       "}\r\n",
       "comp usage \"f\" as E9  <<(T,blue) part>> [[psysml:49b700d2-d9c4-4257-84cb-c65bfac2aa08 ]] {\r\n",
       "}\r\n",
       "comp usage \"g\" as E10  <<(T,blue) part>> [[psysml:20161f3e-4930-46fe-a17d-f79ec2a77aae ]] {\r\n",
       "}\r\n",
       "comp def \"A\" as E11  <<(T,blue) attribute def>> [[psysml:958dabfe-3a24-44d8-9bca-d5e375f56ac2 ]] {\r\n",
       "- - attributes - -\r\n",
       "i: Integer\r\n",
       "x: A\r\n",
       "}\r\n",
       "E5 - -:|> E2 [[psysml:a788c1ae-8502-4aea-9d8b-5a5d865c76a9 ]] \r\n",
       "E6 - -:|> E2 [[psysml:96c9e024-7b1d-4ba9-883a-860d4899a00e ]] \r\n",
       "}\r\n",
       "@enduml\r\n",
       "\n",
       "PlantUML version 1.2020.13(Sat Jun 13 12:26:38 UTC 2020)\n",
       "(EPL source distribution)\n",
       "Java Runtime: OpenJDK Runtime Environment\n",
       "JVM: OpenJDK 64-Bit Server VM\n",
       "Default Encoding: UTF-8\n",
       "Language: en\n",
       "Country: null\n",
       "--></g></svg>"
      ]
     },
     "execution_count": 38,
     "metadata": {},
     "output_type": "execute_result"
    }
   ],
   "source": [
    "%viz --style=\"DEFAULT\" --view=\"Tree\" \"MultiplicityTest\""
   ]
  },
  {
   "cell_type": "code",
   "execution_count": 39,
   "id": "dd53ef31",
   "metadata": {
    "execution": {
     "iopub.execute_input": "2021-08-04T06:29:52.505216Z",
     "iopub.status.busy": "2021-08-04T06:29:52.504598Z",
     "iopub.status.idle": "2021-08-04T06:29:52.509716Z",
     "shell.execute_reply": "2021-08-04T06:29:52.509353Z"
    }
   },
   "outputs": [
    {
     "data": {
      "image/svg+xml": [
       "<?xml version=\"1.0\" encoding=\"UTF-8\" standalone=\"no\"?><svg xmlns=\"http://www.w3.org/2000/svg\" xmlns:xlink=\"http://www.w3.org/1999/xlink\" contentScriptType=\"application/ecmascript\" contentStyleType=\"text/css\" height=\"12px\" preserveAspectRatio=\"none\" style=\"width:12px;height:12px;\" version=\"1.1\" viewBox=\"0 0 12 12\" width=\"12px\" zoomAndPan=\"magnify\"><defs/><g><!--MD5=[c5f280e076d0d61ccf4b0f27871bda1d]\n",
       "@startuml\r\n",
       "skinparam monochrome true\r\n",
       "skinparam classbackgroundcolor white\r\n",
       "skinparam shadowing false\r\n",
       "skinparam wrapWidth 300\r\n",
       "hide circle\r\n",
       "\r\n",
       "@enduml\r\n",
       "\n",
       "PlantUML version 1.2020.13(Sat Jun 13 12:26:38 UTC 2020)\n",
       "(EPL source distribution)\n",
       "Java Runtime: OpenJDK Runtime Environment\n",
       "JVM: OpenJDK 64-Bit Server VM\n",
       "Default Encoding: UTF-8\n",
       "Language: en\n",
       "Country: null\n",
       "--></g></svg>"
      ]
     },
     "execution_count": 39,
     "metadata": {},
     "output_type": "execute_result"
    }
   ],
   "source": [
    "%viz --style=\"DEFAULT\" --view=\"State\" \"MultiplicityTest\""
   ]
  },
  {
   "cell_type": "code",
   "execution_count": 40,
   "id": "8849a373",
   "metadata": {
    "execution": {
     "iopub.execute_input": "2021-08-04T06:29:52.560088Z",
     "iopub.status.busy": "2021-08-04T06:29:52.559453Z",
     "iopub.status.idle": "2021-08-04T06:29:52.585438Z",
     "shell.execute_reply": "2021-08-04T06:29:52.585068Z"
    }
   },
   "outputs": [
    {
     "data": {
      "image/svg+xml": [
       "<?xml version=\"1.0\" encoding=\"UTF-8\" standalone=\"no\"?><svg xmlns=\"http://www.w3.org/2000/svg\" xmlns:xlink=\"http://www.w3.org/1999/xlink\" contentScriptType=\"application/ecmascript\" contentStyleType=\"text/css\" height=\"115px\" preserveAspectRatio=\"none\" style=\"width:979px;height:115px;\" version=\"1.1\" viewBox=\"0 0 979 115\" width=\"979px\" zoomAndPan=\"magnify\"><defs/><g><!--MD5=[fbc87193dbaf4d95561dea2c320d4a47]\n",
       "cluster E1--><a href=\"psysml:04657276-263c-446b-8b63-b81fdc3bdb65\" target=\"_top\" title=\"psysml:04657276-263c-446b-8b63-b81fdc3bdb65\" xlink:actuate=\"onRequest\" xlink:href=\"psysml:04657276-263c-446b-8b63-b81fdc3bdb65\" xlink:show=\"new\" xlink:title=\"psysml:04657276-263c-446b-8b63-b81fdc3bdb65\" xlink:type=\"simple\"><polygon fill=\"#FFFFFF\" points=\"16,6,140,6,147,28.2969,957,28.2969,957,103,16,103,16,6\" style=\"stroke: #000000; stroke-width: 1.5;\"/><line style=\"stroke: #000000; stroke-width: 1.5;\" x1=\"16\" x2=\"147\" y1=\"28.2969\" y2=\"28.2969\"/><text fill=\"#000000\" font-family=\"sans-serif\" font-size=\"14\" font-weight=\"bold\" lengthAdjust=\"spacingAndGlyphs\" textLength=\"118\" x=\"20\" y=\"20.9951\">MultiplicityTest</text></a><!--MD5=[09b614a08d8cba4a07c9adeb5e0fee81]\n",
       "class E3--><a href=\"psysml:c2c67205-2617-478d-9839-9411bc2f8511\" target=\"_top\" title=\"psysml:c2c67205-2617-478d-9839-9411bc2f8511\" xlink:actuate=\"onRequest\" xlink:href=\"psysml:c2c67205-2617-478d-9839-9411bc2f8511\" xlink:show=\"new\" xlink:title=\"psysml:c2c67205-2617-478d-9839-9411bc2f8511\" xlink:type=\"simple\"><rect fill=\"#FFFFFF\" height=\"45.9375\" id=\"E3\" rx=\"10\" ry=\"10\" style=\"stroke: #383838; stroke-width: 1.5;\" width=\"71\" x=\"869.5\" y=\"41\"/><text fill=\"#000000\" font-family=\"sans-serif\" font-size=\"12\" font-style=\"italic\" lengthAdjust=\"spacingAndGlyphs\" textLength=\"69\" x=\"870.5\" y=\"57.1387\">«attribute»</text><text fill=\"#000000\" font-family=\"sans-serif\" font-size=\"12\" lengthAdjust=\"spacingAndGlyphs\" textLength=\"61\" x=\"874.5\" y=\"71.1074\">n: Integer</text><line style=\"stroke: #383838; stroke-width: 1.5;\" x1=\"870.5\" x2=\"939.5\" y1=\"78.9375\" y2=\"78.9375\"/></a><g id=\"E1.E11\"><a href=\"psysml:958dabfe-3a24-44d8-9bca-d5e375f56ac2\" target=\"_top\" title=\"psysml:958dabfe-3a24-44d8-9bca-d5e375f56ac2\" xlink:actuate=\"onRequest\" xlink:href=\"psysml:958dabfe-3a24-44d8-9bca-d5e375f56ac2\" xlink:show=\"new\" xlink:title=\"psysml:958dabfe-3a24-44d8-9bca-d5e375f56ac2\" xlink:type=\"simple\"><rect fill=\"#FFFFFF\" height=\"42.9375\" id=\"E11\" style=\"stroke: #383838; stroke-width: 1.5;\" width=\"100\" x=\"734\" y=\"42.5\"/><rect fill=\"#F8F8F8\" height=\"37.9375\" style=\"stroke: #383838; stroke-width: 1.5;\" width=\"100\" x=\"734\" y=\"42.5\"/><text fill=\"#000000\" font-family=\"sans-serif\" font-size=\"12\" font-style=\"italic\" lengthAdjust=\"spacingAndGlyphs\" textLength=\"93\" x=\"737.5\" y=\"58.6387\">«attribute def»</text><text fill=\"#000000\" font-family=\"sans-serif\" font-size=\"12\" lengthAdjust=\"spacingAndGlyphs\" textLength=\"8\" x=\"780\" y=\"72.6074\">A</text></a></g><g id=\"E1.E2\"><a href=\"psysml:68eb8761-ff46-4523-ba58-41a062b6cb94\" target=\"_top\" title=\"psysml:68eb8761-ff46-4523-ba58-41a062b6cb94\" xlink:actuate=\"onRequest\" xlink:href=\"psysml:68eb8761-ff46-4523-ba58-41a062b6cb94\" xlink:show=\"new\" xlink:title=\"psysml:68eb8761-ff46-4523-ba58-41a062b6cb94\" xlink:type=\"simple\"><rect fill=\"#FFFFFF\" height=\"42.9375\" id=\"E2\" style=\"stroke: #383838; stroke-width: 1.5;\" width=\"71\" x=\"627.5\" y=\"42.5\"/><rect fill=\"#F8F8F8\" height=\"37.9375\" style=\"stroke: #383838; stroke-width: 1.5;\" width=\"71\" x=\"627.5\" y=\"42.5\"/><text fill=\"#000000\" font-family=\"sans-serif\" font-size=\"12\" font-style=\"italic\" lengthAdjust=\"spacingAndGlyphs\" textLength=\"64\" x=\"631\" y=\"58.6387\">«part def»</text><text fill=\"#000000\" font-family=\"sans-serif\" font-size=\"12\" lengthAdjust=\"spacingAndGlyphs\" textLength=\"8\" x=\"659\" y=\"72.6074\">P</text></a></g><g id=\"E1.E4\"><a href=\"psysml:fbb3215b-67d9-4514-b40f-6d8c33165593\" target=\"_top\" title=\"psysml:fbb3215b-67d9-4514-b40f-6d8c33165593\" xlink:actuate=\"onRequest\" xlink:href=\"psysml:fbb3215b-67d9-4514-b40f-6d8c33165593\" xlink:show=\"new\" xlink:title=\"psysml:fbb3215b-67d9-4514-b40f-6d8c33165593\" xlink:type=\"simple\"><rect fill=\"#FFFFFF\" height=\"40\" id=\"E4\" rx=\"10\" ry=\"10\" style=\"stroke: #383838; stroke-width: 1.5;\" width=\"50\" x=\"542\" y=\"44\"/><rect fill=\"#F8F8F8\" height=\"23.9688\" rx=\"10\" ry=\"10\" style=\"stroke: #F8F8F8; stroke-width: 1.5;\" width=\"50\" x=\"542\" y=\"44\"/><rect fill=\"#F8F8F8\" height=\"10\" style=\"stroke: #F8F8F8; stroke-width: 1.5;\" width=\"50\" x=\"542\" y=\"57.9688\"/><rect fill=\"none\" height=\"40\" id=\"E4\" rx=\"10\" ry=\"10\" style=\"stroke: #383838; stroke-width: 1.5;\" width=\"50\" x=\"542\" y=\"44\"/><text fill=\"#000000\" font-family=\"sans-serif\" font-size=\"12\" lengthAdjust=\"spacingAndGlyphs\" textLength=\"8\" x=\"563\" y=\"60.1387\">a</text></a></g><g id=\"E1.E5\"><a href=\"psysml:d1ff5ca6-7417-4682-b046-127881647fcb\" target=\"_top\" title=\"psysml:d1ff5ca6-7417-4682-b046-127881647fcb\" xlink:actuate=\"onRequest\" xlink:href=\"psysml:d1ff5ca6-7417-4682-b046-127881647fcb\" xlink:show=\"new\" xlink:title=\"psysml:d1ff5ca6-7417-4682-b046-127881647fcb\" xlink:type=\"simple\"><rect fill=\"#FFFFFF\" height=\"40\" id=\"E5\" rx=\"10\" ry=\"10\" style=\"stroke: #383838; stroke-width: 1.5;\" width=\"50\" x=\"457\" y=\"44\"/><rect fill=\"#F8F8F8\" height=\"23.9688\" rx=\"10\" ry=\"10\" style=\"stroke: #F8F8F8; stroke-width: 1.5;\" width=\"50\" x=\"457\" y=\"44\"/><rect fill=\"#F8F8F8\" height=\"10\" style=\"stroke: #F8F8F8; stroke-width: 1.5;\" width=\"50\" x=\"457\" y=\"57.9688\"/><rect fill=\"none\" height=\"40\" id=\"E5\" rx=\"10\" ry=\"10\" style=\"stroke: #383838; stroke-width: 1.5;\" width=\"50\" x=\"457\" y=\"44\"/><text fill=\"#000000\" font-family=\"sans-serif\" font-size=\"12\" lengthAdjust=\"spacingAndGlyphs\" textLength=\"24\" x=\"470\" y=\"60.1387\">b: P</text></a></g><g id=\"E1.E6\"><a href=\"psysml:20d627d7-8daa-4ea4-8c0c-0e67ee5e3616\" target=\"_top\" title=\"psysml:20d627d7-8daa-4ea4-8c0c-0e67ee5e3616\" xlink:actuate=\"onRequest\" xlink:href=\"psysml:20d627d7-8daa-4ea4-8c0c-0e67ee5e3616\" xlink:show=\"new\" xlink:title=\"psysml:20d627d7-8daa-4ea4-8c0c-0e67ee5e3616\" xlink:type=\"simple\"><rect fill=\"#FFFFFF\" height=\"40\" id=\"E6\" rx=\"10\" ry=\"10\" style=\"stroke: #383838; stroke-width: 1.5;\" width=\"50\" x=\"372\" y=\"44\"/><rect fill=\"#F8F8F8\" height=\"23.9688\" rx=\"10\" ry=\"10\" style=\"stroke: #F8F8F8; stroke-width: 1.5;\" width=\"50\" x=\"372\" y=\"44\"/><rect fill=\"#F8F8F8\" height=\"10\" style=\"stroke: #F8F8F8; stroke-width: 1.5;\" width=\"50\" x=\"372\" y=\"57.9688\"/><rect fill=\"none\" height=\"40\" id=\"E6\" rx=\"10\" ry=\"10\" style=\"stroke: #383838; stroke-width: 1.5;\" width=\"50\" x=\"372\" y=\"44\"/><text fill=\"#000000\" font-family=\"sans-serif\" font-size=\"12\" lengthAdjust=\"spacingAndGlyphs\" textLength=\"23\" x=\"385.5\" y=\"60.1387\">c: P</text></a></g><g id=\"E1.E7\"><a href=\"psysml:4fc87a01-ac01-48e0-9821-1b5b80a637f1\" target=\"_top\" title=\"psysml:4fc87a01-ac01-48e0-9821-1b5b80a637f1\" xlink:actuate=\"onRequest\" xlink:href=\"psysml:4fc87a01-ac01-48e0-9821-1b5b80a637f1\" xlink:show=\"new\" xlink:title=\"psysml:4fc87a01-ac01-48e0-9821-1b5b80a637f1\" xlink:type=\"simple\"><rect fill=\"#FFFFFF\" height=\"40\" id=\"E7\" rx=\"10\" ry=\"10\" style=\"stroke: #383838; stroke-width: 1.5;\" width=\"50\" x=\"287\" y=\"44\"/><rect fill=\"#F8F8F8\" height=\"23.9688\" rx=\"10\" ry=\"10\" style=\"stroke: #F8F8F8; stroke-width: 1.5;\" width=\"50\" x=\"287\" y=\"44\"/><rect fill=\"#F8F8F8\" height=\"10\" style=\"stroke: #F8F8F8; stroke-width: 1.5;\" width=\"50\" x=\"287\" y=\"57.9688\"/><rect fill=\"none\" height=\"40\" id=\"E7\" rx=\"10\" ry=\"10\" style=\"stroke: #383838; stroke-width: 1.5;\" width=\"50\" x=\"287\" y=\"44\"/><text fill=\"#000000\" font-family=\"sans-serif\" font-size=\"12\" lengthAdjust=\"spacingAndGlyphs\" textLength=\"8\" x=\"308\" y=\"60.1387\">d</text></a></g><g id=\"E1.E8\"><a href=\"psysml:e7c3b12c-9054-4127-bd5f-a31eeffec0a6\" target=\"_top\" title=\"psysml:e7c3b12c-9054-4127-bd5f-a31eeffec0a6\" xlink:actuate=\"onRequest\" xlink:href=\"psysml:e7c3b12c-9054-4127-bd5f-a31eeffec0a6\" xlink:show=\"new\" xlink:title=\"psysml:e7c3b12c-9054-4127-bd5f-a31eeffec0a6\" xlink:type=\"simple\"><rect fill=\"#FFFFFF\" height=\"40\" id=\"E8\" rx=\"10\" ry=\"10\" style=\"stroke: #383838; stroke-width: 1.5;\" width=\"50\" x=\"202\" y=\"44\"/><rect fill=\"#F8F8F8\" height=\"23.9688\" rx=\"10\" ry=\"10\" style=\"stroke: #F8F8F8; stroke-width: 1.5;\" width=\"50\" x=\"202\" y=\"44\"/><rect fill=\"#F8F8F8\" height=\"10\" style=\"stroke: #F8F8F8; stroke-width: 1.5;\" width=\"50\" x=\"202\" y=\"57.9688\"/><rect fill=\"none\" height=\"40\" id=\"E8\" rx=\"10\" ry=\"10\" style=\"stroke: #383838; stroke-width: 1.5;\" width=\"50\" x=\"202\" y=\"44\"/><text fill=\"#000000\" font-family=\"sans-serif\" font-size=\"12\" lengthAdjust=\"spacingAndGlyphs\" textLength=\"8\" x=\"223\" y=\"60.1387\">e</text></a></g><g id=\"E1.E9\"><a href=\"psysml:49b700d2-d9c4-4257-84cb-c65bfac2aa08\" target=\"_top\" title=\"psysml:49b700d2-d9c4-4257-84cb-c65bfac2aa08\" xlink:actuate=\"onRequest\" xlink:href=\"psysml:49b700d2-d9c4-4257-84cb-c65bfac2aa08\" xlink:show=\"new\" xlink:title=\"psysml:49b700d2-d9c4-4257-84cb-c65bfac2aa08\" xlink:type=\"simple\"><rect fill=\"#FFFFFF\" height=\"40\" id=\"E9\" rx=\"10\" ry=\"10\" style=\"stroke: #383838; stroke-width: 1.5;\" width=\"50\" x=\"117\" y=\"44\"/><rect fill=\"#F8F8F8\" height=\"23.9688\" rx=\"10\" ry=\"10\" style=\"stroke: #F8F8F8; stroke-width: 1.5;\" width=\"50\" x=\"117\" y=\"44\"/><rect fill=\"#F8F8F8\" height=\"10\" style=\"stroke: #F8F8F8; stroke-width: 1.5;\" width=\"50\" x=\"117\" y=\"57.9688\"/><rect fill=\"none\" height=\"40\" id=\"E9\" rx=\"10\" ry=\"10\" style=\"stroke: #383838; stroke-width: 1.5;\" width=\"50\" x=\"117\" y=\"44\"/><text fill=\"#000000\" font-family=\"sans-serif\" font-size=\"12\" lengthAdjust=\"spacingAndGlyphs\" textLength=\"4\" x=\"140\" y=\"60.1387\">f</text></a></g><g id=\"E1.E10\"><a href=\"psysml:20161f3e-4930-46fe-a17d-f79ec2a77aae\" target=\"_top\" title=\"psysml:20161f3e-4930-46fe-a17d-f79ec2a77aae\" xlink:actuate=\"onRequest\" xlink:href=\"psysml:20161f3e-4930-46fe-a17d-f79ec2a77aae\" xlink:show=\"new\" xlink:title=\"psysml:20161f3e-4930-46fe-a17d-f79ec2a77aae\" xlink:type=\"simple\"><rect fill=\"#FFFFFF\" height=\"40\" id=\"E10\" rx=\"10\" ry=\"10\" style=\"stroke: #383838; stroke-width: 1.5;\" width=\"50\" x=\"32\" y=\"44\"/><rect fill=\"#F8F8F8\" height=\"23.9688\" rx=\"10\" ry=\"10\" style=\"stroke: #F8F8F8; stroke-width: 1.5;\" width=\"50\" x=\"32\" y=\"44\"/><rect fill=\"#F8F8F8\" height=\"10\" style=\"stroke: #F8F8F8; stroke-width: 1.5;\" width=\"50\" x=\"32\" y=\"57.9688\"/><rect fill=\"none\" height=\"40\" id=\"E10\" rx=\"10\" ry=\"10\" style=\"stroke: #383838; stroke-width: 1.5;\" width=\"50\" x=\"32\" y=\"44\"/><text fill=\"#000000\" font-family=\"sans-serif\" font-size=\"12\" lengthAdjust=\"spacingAndGlyphs\" textLength=\"8\" x=\"53\" y=\"60.1387\">g</text></a></g><!--MD5=[b747540d9f88e802bd4e03a074733dd0]\n",
       "@startuml\r\n",
       "skinparam ranksep 10\r\n",
       "skinparam rectangle {\r\n",
       " backgroundColor<<block>> LightGreen\r\n",
       "}\r\n",
       "skinparam monochrome true\r\n",
       "skinparam classbackgroundcolor white\r\n",
       "skinparam shadowing false\r\n",
       "skinparam wrapWidth 300\r\n",
       "hide circle\r\n",
       "\r\n",
       "package \"MultiplicityTest\" as E1  [[psysml:04657276-263c-446b-8b63-b81fdc3bdb65 ]]  {\r\n",
       "rec def \"P\" as E2  <<(T,blue) part def>> [[psysml:68eb8761-ff46-4523-ba58-41a062b6cb94 ]] {\r\n",
       "}\r\n",
       "comp usage \"n: Integer\" as E3  <<(T,blue) attribute>> [[psysml:c2c67205-2617-478d-9839-9411bc2f8511 ]] {\r\n",
       "}\r\n",
       "rec usage \"a\" as E4  [[psysml:fbb3215b-67d9-4514-b40f-6d8c33165593 ]] {\r\n",
       "}\r\n",
       "rec usage \"b: P\" as E5  [[psysml:d1ff5ca6-7417-4682-b046-127881647fcb ]] {\r\n",
       "}\r\n",
       "rec usage \"c: P\" as E6  [[psysml:20d627d7-8daa-4ea4-8c0c-0e67ee5e3616 ]] {\r\n",
       "}\r\n",
       "rec usage \"d\" as E7  [[psysml:4fc87a01-ac01-48e0-9821-1b5b80a637f1 ]] {\r\n",
       "}\r\n",
       "rec usage \"e\" as E8  [[psysml:e7c3b12c-9054-4127-bd5f-a31eeffec0a6 ]] {\r\n",
       "}\r\n",
       "rec usage \"f\" as E9  [[psysml:49b700d2-d9c4-4257-84cb-c65bfac2aa08 ]] {\r\n",
       "}\r\n",
       "rec usage \"g\" as E10  [[psysml:20161f3e-4930-46fe-a17d-f79ec2a77aae ]] {\r\n",
       "}\r\n",
       "def \"A\" as E11  <<(T,blue) attribute def>> [[psysml:958dabfe-3a24-44d8-9bca-d5e375f56ac2 ]] \r\n",
       "}\r\n",
       "@enduml\r\n",
       "\n",
       "PlantUML version 1.2020.13(Sat Jun 13 12:26:38 UTC 2020)\n",
       "(EPL source distribution)\n",
       "Java Runtime: OpenJDK Runtime Environment\n",
       "JVM: OpenJDK 64-Bit Server VM\n",
       "Default Encoding: UTF-8\n",
       "Language: en\n",
       "Country: null\n",
       "--></g></svg>"
      ]
     },
     "execution_count": 40,
     "metadata": {},
     "output_type": "execute_result"
    }
   ],
   "source": [
    "%viz --style=\"DEFAULT\" --view=\"Interconnection\" \"MultiplicityTest\""
   ]
  },
  {
   "cell_type": "code",
   "execution_count": 41,
   "id": "f4a4883f",
   "metadata": {
    "execution": {
     "iopub.execute_input": "2021-08-04T06:29:52.635207Z",
     "iopub.status.busy": "2021-08-04T06:29:52.634594Z",
     "iopub.status.idle": "2021-08-04T06:29:52.639917Z",
     "shell.execute_reply": "2021-08-04T06:29:52.639557Z"
    }
   },
   "outputs": [
    {
     "data": {
      "image/svg+xml": [
       "<?xml version=\"1.0\" encoding=\"UTF-8\" standalone=\"no\"?><svg xmlns=\"http://www.w3.org/2000/svg\" xmlns:xlink=\"http://www.w3.org/1999/xlink\" contentScriptType=\"application/ecmascript\" contentStyleType=\"text/css\" height=\"12px\" preserveAspectRatio=\"none\" style=\"width:12px;height:12px;\" version=\"1.1\" viewBox=\"0 0 12 12\" width=\"12px\" zoomAndPan=\"magnify\"><defs/><g><!--MD5=[388f21188e31bfdd97050473b19af356]\n",
       "@startuml\r\n",
       "skinparam ranksep 8\r\n",
       "skinparam monochrome true\r\n",
       "skinparam classbackgroundcolor white\r\n",
       "skinparam shadowing false\r\n",
       "skinparam wrapWidth 300\r\n",
       "hide circle\r\n",
       "\r\n",
       "@enduml\r\n",
       "\n",
       "PlantUML version 1.2020.13(Sat Jun 13 12:26:38 UTC 2020)\n",
       "(EPL source distribution)\n",
       "Java Runtime: OpenJDK Runtime Environment\n",
       "JVM: OpenJDK 64-Bit Server VM\n",
       "Default Encoding: UTF-8\n",
       "Language: en\n",
       "Country: null\n",
       "--></g></svg>"
      ]
     },
     "execution_count": 41,
     "metadata": {},
     "output_type": "execute_result"
    }
   ],
   "source": [
    "%viz --style=\"DEFAULT\" --view=\"Action\" \"MultiplicityTest\""
   ]
  },
  {
   "cell_type": "code",
   "execution_count": 42,
   "id": "26bd3bf8",
   "metadata": {
    "execution": {
     "iopub.execute_input": "2021-08-04T06:29:52.690535Z",
     "iopub.status.busy": "2021-08-04T06:29:52.689877Z",
     "iopub.status.idle": "2021-08-04T06:29:52.739553Z",
     "shell.execute_reply": "2021-08-04T06:29:52.738138Z"
    }
   },
   "outputs": [
    {
     "data": {
      "image/svg+xml": [
       "<?xml version=\"1.0\" encoding=\"UTF-8\" standalone=\"no\"?><svg xmlns=\"http://www.w3.org/2000/svg\" xmlns:xlink=\"http://www.w3.org/1999/xlink\" contentScriptType=\"application/ecmascript\" contentStyleType=\"text/css\" height=\"263px\" preserveAspectRatio=\"none\" style=\"width:812px;height:263px;\" version=\"1.1\" viewBox=\"0 0 812 263\" width=\"812px\" zoomAndPan=\"magnify\"><defs/><g><!--MD5=[fbc87193dbaf4d95561dea2c320d4a47]\n",
       "cluster E1--><a href=\"psysml:04657276-263c-446b-8b63-b81fdc3bdb65\" target=\"_top\" title=\"psysml:04657276-263c-446b-8b63-b81fdc3bdb65\" xlink:actuate=\"onRequest\" xlink:href=\"psysml:04657276-263c-446b-8b63-b81fdc3bdb65\" xlink:show=\"new\" xlink:title=\"psysml:04657276-263c-446b-8b63-b81fdc3bdb65\" xlink:type=\"simple\"><polygon fill=\"#FFFFFF\" points=\"16,6,140,6,147,28.2969,790,28.2969,790,251,16,251,16,6\" style=\"stroke: #000000; stroke-width: 1.5;\"/><line style=\"stroke: #000000; stroke-width: 1.5;\" x1=\"16\" x2=\"147\" y1=\"28.2969\" y2=\"28.2969\"/><text fill=\"#000000\" font-family=\"sans-serif\" font-size=\"14\" font-weight=\"bold\" lengthAdjust=\"spacingAndGlyphs\" textLength=\"118\" x=\"20\" y=\"20.9951\">MultiplicityTest</text></a><!--MD5=[b4997ac47864f28c2f74865a473b2911]\n",
       "class E2--><a href=\"psysml:68eb8761-ff46-4523-ba58-41a062b6cb94\" target=\"_top\" title=\"psysml:68eb8761-ff46-4523-ba58-41a062b6cb94\" xlink:actuate=\"onRequest\" xlink:href=\"psysml:68eb8761-ff46-4523-ba58-41a062b6cb94\" xlink:show=\"new\" xlink:title=\"psysml:68eb8761-ff46-4523-ba58-41a062b6cb94\" xlink:type=\"simple\"><rect fill=\"#FFFFFF\" height=\"45.9375\" id=\"E2\" style=\"stroke: #383838; stroke-width: 1.5;\" width=\"66\" x=\"497\" y=\"189\"/><text fill=\"#000000\" font-family=\"sans-serif\" font-size=\"12\" font-style=\"italic\" lengthAdjust=\"spacingAndGlyphs\" textLength=\"64\" x=\"498\" y=\"205.1387\">«part def»</text><text fill=\"#000000\" font-family=\"sans-serif\" font-size=\"12\" lengthAdjust=\"spacingAndGlyphs\" textLength=\"8\" x=\"526\" y=\"219.1074\">P</text><line style=\"stroke: #383838; stroke-width: 1.5;\" x1=\"498\" x2=\"562\" y1=\"226.9375\" y2=\"226.9375\"/></a><!--MD5=[09b614a08d8cba4a07c9adeb5e0fee81]\n",
       "class E3--><a href=\"psysml:c2c67205-2617-478d-9839-9411bc2f8511\" target=\"_top\" title=\"psysml:c2c67205-2617-478d-9839-9411bc2f8511\" xlink:actuate=\"onRequest\" xlink:href=\"psysml:c2c67205-2617-478d-9839-9411bc2f8511\" xlink:show=\"new\" xlink:title=\"psysml:c2c67205-2617-478d-9839-9411bc2f8511\" xlink:type=\"simple\"><rect fill=\"#FFFFFF\" height=\"45.9375\" id=\"E3\" rx=\"10\" ry=\"10\" style=\"stroke: #383838; stroke-width: 1.5;\" width=\"71\" x=\"702.5\" y=\"62\"/><text fill=\"#000000\" font-family=\"sans-serif\" font-size=\"12\" font-style=\"italic\" lengthAdjust=\"spacingAndGlyphs\" textLength=\"69\" x=\"703.5\" y=\"78.1387\">«attribute»</text><text fill=\"#000000\" font-family=\"sans-serif\" font-size=\"12\" lengthAdjust=\"spacingAndGlyphs\" textLength=\"61\" x=\"707.5\" y=\"92.1074\">n: Integer</text><line style=\"stroke: #383838; stroke-width: 1.5;\" x1=\"703.5\" x2=\"772.5\" y1=\"99.9375\" y2=\"99.9375\"/></a><!--MD5=[ebbe1d658d1005bcc118a6aa81145e00]\n",
       "class E4--><a href=\"psysml:fbb3215b-67d9-4514-b40f-6d8c33165593\" target=\"_top\" title=\"psysml:fbb3215b-67d9-4514-b40f-6d8c33165593\" xlink:actuate=\"onRequest\" xlink:href=\"psysml:fbb3215b-67d9-4514-b40f-6d8c33165593\" xlink:show=\"new\" xlink:title=\"psysml:fbb3215b-67d9-4514-b40f-6d8c33165593\" xlink:type=\"simple\"><rect fill=\"#FFFFFF\" height=\"45.9375\" id=\"E4\" rx=\"10\" ry=\"10\" style=\"stroke: #383838; stroke-width: 1.5;\" width=\"42\" x=\"625\" y=\"62\"/><text fill=\"#000000\" font-family=\"sans-serif\" font-size=\"12\" font-style=\"italic\" lengthAdjust=\"spacingAndGlyphs\" textLength=\"40\" x=\"626\" y=\"78.1387\">«part»</text><text fill=\"#000000\" font-family=\"sans-serif\" font-size=\"12\" lengthAdjust=\"spacingAndGlyphs\" textLength=\"8\" x=\"642\" y=\"92.1074\">a</text><line style=\"stroke: #383838; stroke-width: 1.5;\" x1=\"626\" x2=\"666\" y1=\"99.9375\" y2=\"99.9375\"/></a><!--MD5=[270fce915f116d4de14055a7c1d9a0f3]\n",
       "class E5--><a href=\"psysml:d1ff5ca6-7417-4682-b046-127881647fcb\" target=\"_top\" title=\"psysml:d1ff5ca6-7417-4682-b046-127881647fcb\" xlink:actuate=\"onRequest\" xlink:href=\"psysml:d1ff5ca6-7417-4682-b046-127881647fcb\" xlink:show=\"new\" xlink:title=\"psysml:d1ff5ca6-7417-4682-b046-127881647fcb\" xlink:type=\"simple\"><rect fill=\"#FFFFFF\" height=\"45.9375\" id=\"E5\" rx=\"10\" ry=\"10\" style=\"stroke: #383838; stroke-width: 1.5;\" width=\"42\" x=\"548\" y=\"62\"/><text fill=\"#000000\" font-family=\"sans-serif\" font-size=\"12\" font-style=\"italic\" lengthAdjust=\"spacingAndGlyphs\" textLength=\"40\" x=\"549\" y=\"78.1387\">«part»</text><text fill=\"#000000\" font-family=\"sans-serif\" font-size=\"12\" lengthAdjust=\"spacingAndGlyphs\" textLength=\"24\" x=\"557\" y=\"92.1074\">b: P</text><line style=\"stroke: #383838; stroke-width: 1.5;\" x1=\"549\" x2=\"589\" y1=\"99.9375\" y2=\"99.9375\"/></a><!--MD5=[60a26617385b1d2d0262a64233df1f8d]\n",
       "class E6--><a href=\"psysml:20d627d7-8daa-4ea4-8c0c-0e67ee5e3616\" target=\"_top\" title=\"psysml:20d627d7-8daa-4ea4-8c0c-0e67ee5e3616\" xlink:actuate=\"onRequest\" xlink:href=\"psysml:20d627d7-8daa-4ea4-8c0c-0e67ee5e3616\" xlink:show=\"new\" xlink:title=\"psysml:20d627d7-8daa-4ea4-8c0c-0e67ee5e3616\" xlink:type=\"simple\"><rect fill=\"#FFFFFF\" height=\"45.9375\" id=\"E6\" rx=\"10\" ry=\"10\" style=\"stroke: #383838; stroke-width: 1.5;\" width=\"42\" x=\"471\" y=\"62\"/><text fill=\"#000000\" font-family=\"sans-serif\" font-size=\"12\" font-style=\"italic\" lengthAdjust=\"spacingAndGlyphs\" textLength=\"40\" x=\"472\" y=\"78.1387\">«part»</text><text fill=\"#000000\" font-family=\"sans-serif\" font-size=\"12\" lengthAdjust=\"spacingAndGlyphs\" textLength=\"23\" x=\"480.5\" y=\"92.1074\">c: P</text><line style=\"stroke: #383838; stroke-width: 1.5;\" x1=\"472\" x2=\"512\" y1=\"99.9375\" y2=\"99.9375\"/></a><!--MD5=[2156ba9850f5573cc1fc38a6a4b2f02b]\n",
       "class E7--><a href=\"psysml:4fc87a01-ac01-48e0-9821-1b5b80a637f1\" target=\"_top\" title=\"psysml:4fc87a01-ac01-48e0-9821-1b5b80a637f1\" xlink:actuate=\"onRequest\" xlink:href=\"psysml:4fc87a01-ac01-48e0-9821-1b5b80a637f1\" xlink:show=\"new\" xlink:title=\"psysml:4fc87a01-ac01-48e0-9821-1b5b80a637f1\" xlink:type=\"simple\"><rect fill=\"#FFFFFF\" height=\"45.9375\" id=\"E7\" rx=\"10\" ry=\"10\" style=\"stroke: #383838; stroke-width: 1.5;\" width=\"42\" x=\"394\" y=\"62\"/><text fill=\"#000000\" font-family=\"sans-serif\" font-size=\"12\" font-style=\"italic\" lengthAdjust=\"spacingAndGlyphs\" textLength=\"40\" x=\"395\" y=\"78.1387\">«part»</text><text fill=\"#000000\" font-family=\"sans-serif\" font-size=\"12\" lengthAdjust=\"spacingAndGlyphs\" textLength=\"8\" x=\"411\" y=\"92.1074\">d</text><line style=\"stroke: #383838; stroke-width: 1.5;\" x1=\"395\" x2=\"435\" y1=\"99.9375\" y2=\"99.9375\"/></a><!--MD5=[b9389687b975829384b498ac4b7476b2]\n",
       "class E8--><a href=\"psysml:e7c3b12c-9054-4127-bd5f-a31eeffec0a6\" target=\"_top\" title=\"psysml:e7c3b12c-9054-4127-bd5f-a31eeffec0a6\" xlink:actuate=\"onRequest\" xlink:href=\"psysml:e7c3b12c-9054-4127-bd5f-a31eeffec0a6\" xlink:show=\"new\" xlink:title=\"psysml:e7c3b12c-9054-4127-bd5f-a31eeffec0a6\" xlink:type=\"simple\"><rect fill=\"#FFFFFF\" height=\"45.9375\" id=\"E8\" rx=\"10\" ry=\"10\" style=\"stroke: #383838; stroke-width: 1.5;\" width=\"42\" x=\"317\" y=\"62\"/><text fill=\"#000000\" font-family=\"sans-serif\" font-size=\"12\" font-style=\"italic\" lengthAdjust=\"spacingAndGlyphs\" textLength=\"40\" x=\"318\" y=\"78.1387\">«part»</text><text fill=\"#000000\" font-family=\"sans-serif\" font-size=\"12\" lengthAdjust=\"spacingAndGlyphs\" textLength=\"8\" x=\"334\" y=\"92.1074\">e</text><line style=\"stroke: #383838; stroke-width: 1.5;\" x1=\"318\" x2=\"358\" y1=\"99.9375\" y2=\"99.9375\"/></a><!--MD5=[fd4143e9d270a159db93a4ea2a975926]\n",
       "class E9--><a href=\"psysml:49b700d2-d9c4-4257-84cb-c65bfac2aa08\" target=\"_top\" title=\"psysml:49b700d2-d9c4-4257-84cb-c65bfac2aa08\" xlink:actuate=\"onRequest\" xlink:href=\"psysml:49b700d2-d9c4-4257-84cb-c65bfac2aa08\" xlink:show=\"new\" xlink:title=\"psysml:49b700d2-d9c4-4257-84cb-c65bfac2aa08\" xlink:type=\"simple\"><rect fill=\"#FFFFFF\" height=\"45.9375\" id=\"E9\" rx=\"10\" ry=\"10\" style=\"stroke: #383838; stroke-width: 1.5;\" width=\"42\" x=\"240\" y=\"62\"/><text fill=\"#000000\" font-family=\"sans-serif\" font-size=\"12\" font-style=\"italic\" lengthAdjust=\"spacingAndGlyphs\" textLength=\"40\" x=\"241\" y=\"78.1387\">«part»</text><text fill=\"#000000\" font-family=\"sans-serif\" font-size=\"12\" lengthAdjust=\"spacingAndGlyphs\" textLength=\"4\" x=\"259\" y=\"92.1074\">f</text><line style=\"stroke: #383838; stroke-width: 1.5;\" x1=\"241\" x2=\"281\" y1=\"99.9375\" y2=\"99.9375\"/></a><!--MD5=[96f4274e9e20536e775497830990834d]\n",
       "class E10--><a href=\"psysml:20161f3e-4930-46fe-a17d-f79ec2a77aae\" target=\"_top\" title=\"psysml:20161f3e-4930-46fe-a17d-f79ec2a77aae\" xlink:actuate=\"onRequest\" xlink:href=\"psysml:20161f3e-4930-46fe-a17d-f79ec2a77aae\" xlink:show=\"new\" xlink:title=\"psysml:20161f3e-4930-46fe-a17d-f79ec2a77aae\" xlink:type=\"simple\"><rect fill=\"#FFFFFF\" height=\"45.9375\" id=\"E10\" rx=\"10\" ry=\"10\" style=\"stroke: #383838; stroke-width: 1.5;\" width=\"42\" x=\"163\" y=\"62\"/><text fill=\"#000000\" font-family=\"sans-serif\" font-size=\"12\" font-style=\"italic\" lengthAdjust=\"spacingAndGlyphs\" textLength=\"40\" x=\"164\" y=\"78.1387\">«part»</text><text fill=\"#000000\" font-family=\"sans-serif\" font-size=\"12\" lengthAdjust=\"spacingAndGlyphs\" textLength=\"8\" x=\"180\" y=\"92.1074\">g</text><line style=\"stroke: #383838; stroke-width: 1.5;\" x1=\"164\" x2=\"204\" y1=\"99.9375\" y2=\"99.9375\"/></a><!--MD5=[1dd1bfd58a279cf63c5f349dbc8fc6a1]\n",
       "class E11--><a href=\"psysml:958dabfe-3a24-44d8-9bca-d5e375f56ac2\" target=\"_top\" title=\"psysml:958dabfe-3a24-44d8-9bca-d5e375f56ac2\" xlink:actuate=\"onRequest\" xlink:href=\"psysml:958dabfe-3a24-44d8-9bca-d5e375f56ac2\" xlink:show=\"new\" xlink:title=\"psysml:958dabfe-3a24-44d8-9bca-d5e375f56ac2\" xlink:type=\"simple\"><rect fill=\"#FFFFFF\" height=\"88.3516\" id=\"E11\" style=\"stroke: #383838; stroke-width: 1.5;\" width=\"95\" x=\"32.5\" y=\"41\"/><text fill=\"#000000\" font-family=\"sans-serif\" font-size=\"12\" font-style=\"italic\" lengthAdjust=\"spacingAndGlyphs\" textLength=\"93\" x=\"33.5\" y=\"57.1387\">«attribute def»</text><text fill=\"#000000\" font-family=\"sans-serif\" font-size=\"12\" lengthAdjust=\"spacingAndGlyphs\" textLength=\"8\" x=\"76\" y=\"71.1074\">A</text><line style=\"stroke: #383838; stroke-width: 1.5;\" x1=\"33.5\" x2=\"126.5\" y1=\"78.9375\" y2=\"78.9375\"/><text fill=\"#000000\" font-family=\"sans-serif\" font-size=\"11\" lengthAdjust=\"spacingAndGlyphs\" textLength=\"51\" x=\"38.5\" y=\"109.9526\">i: Integer</text><text fill=\"#000000\" font-family=\"sans-serif\" font-size=\"11\" lengthAdjust=\"spacingAndGlyphs\" textLength=\"21\" x=\"38.5\" y=\"122.7573\">x: A</text><line style=\"stroke: #383838; stroke-width: 1.0;\" x1=\"33.5\" x2=\"52.5\" y1=\"93.3398\" y2=\"93.3398\"/><text fill=\"#000000\" font-family=\"sans-serif\" font-size=\"11\" lengthAdjust=\"spacingAndGlyphs\" textLength=\"55\" x=\"52.5\" y=\"96.6479\">attributes</text><line style=\"stroke: #383838; stroke-width: 1.0;\" x1=\"107.5\" x2=\"126.5\" y1=\"93.3398\" y2=\"93.3398\"/></a><!--MD5=[15ebcb19ae302d9b601edb458606d402]\n",
       "link E5 to E2--><a href=\"psysml:a788c1ae-8502-4aea-9d8b-5a5d865c76a9\" target=\"_top\" title=\"psysml:a788c1ae-8502-4aea-9d8b-5a5d865c76a9\" xlink:actuate=\"onRequest\" xlink:href=\"psysml:a788c1ae-8502-4aea-9d8b-5a5d865c76a9\" xlink:show=\"new\" xlink:title=\"psysml:a788c1ae-8502-4aea-9d8b-5a5d865c76a9\" xlink:type=\"simple\"><path d=\"M562.12,108.06 C556.83,125 549.38,148.89 542.98,169.39 \" fill=\"none\" id=\"E5-&gt;E2\" style=\"stroke: #383838; stroke-width: 1.0;\"/><polygon fill=\"#FFFFFF\" points=\"536.95,188.74,535.929,168.5173,549.2931,172.6886,536.95,188.74\" style=\"stroke: #383838; stroke-width: 1.0;\"/><ellipse cx=\"539.5364\" cy=\"163.6721\" fill=\"#383838\" rx=\"2\" ry=\"2\" style=\"stroke: #383838; stroke-width: 1.0;\"/><ellipse cx=\"549.0823\" cy=\"166.6516\" fill=\"#383838\" rx=\"2\" ry=\"2\" style=\"stroke: #383838; stroke-width: 1.0;\"/></a><!--MD5=[2351f337d6de0f557b50152ba70847b5]\n",
       "link E6 to E2--><a href=\"psysml:96c9e024-7b1d-4ba9-883a-860d4899a00e\" target=\"_top\" title=\"psysml:96c9e024-7b1d-4ba9-883a-860d4899a00e\" xlink:actuate=\"onRequest\" xlink:href=\"psysml:96c9e024-7b1d-4ba9-883a-860d4899a00e\" xlink:show=\"new\" xlink:title=\"psysml:96c9e024-7b1d-4ba9-883a-860d4899a00e\" xlink:type=\"simple\"><path d=\"M498.71,108.06 C503.86,125 511.12,148.89 517.35,169.39 \" fill=\"none\" id=\"E6-&gt;E2\" style=\"stroke: #383838; stroke-width: 1.0;\"/><polygon fill=\"#FFFFFF\" points=\"523.23,188.74,511.007,172.597,524.4019,168.5255,523.23,188.74\" style=\"stroke: #383838; stroke-width: 1.0;\"/><ellipse cx=\"511.2628\" cy=\"166.5617\" fill=\"#383838\" rx=\"2\" ry=\"2\" style=\"stroke: #383838; stroke-width: 1.0;\"/><ellipse cx=\"520.8306\" cy=\"163.6535\" fill=\"#383838\" rx=\"2\" ry=\"2\" style=\"stroke: #383838; stroke-width: 1.0;\"/></a><!--MD5=[2a46ddeac10f1fe136282d13ae769b94]\n",
       "@startuml\r\n",
       "skinparam monochrome true\r\n",
       "skinparam classbackgroundcolor white\r\n",
       "skinparam shadowing false\r\n",
       "skinparam wrapWidth 300\r\n",
       "hide circle\r\n",
       "\r\n",
       "package \"MultiplicityTest\" as E1  [[psysml:04657276-263c-446b-8b63-b81fdc3bdb65 ]]  {\r\n",
       "comp def \"P\" as E2  <<(T,blue) part def>> [[psysml:68eb8761-ff46-4523-ba58-41a062b6cb94 ]] {\r\n",
       "}\r\n",
       "comp usage \"n: Integer\" as E3  <<(T,blue) attribute>> [[psysml:c2c67205-2617-478d-9839-9411bc2f8511 ]] {\r\n",
       "}\r\n",
       "comp usage \"a\" as E4  <<(T,blue) part>> [[psysml:fbb3215b-67d9-4514-b40f-6d8c33165593 ]] {\r\n",
       "}\r\n",
       "comp usage \"b: P\" as E5  <<(T,blue) part>> [[psysml:d1ff5ca6-7417-4682-b046-127881647fcb ]] {\r\n",
       "}\r\n",
       "comp usage \"c: P\" as E6  <<(T,blue) part>> [[psysml:20d627d7-8daa-4ea4-8c0c-0e67ee5e3616 ]] {\r\n",
       "}\r\n",
       "comp usage \"d\" as E7  <<(T,blue) part>> [[psysml:4fc87a01-ac01-48e0-9821-1b5b80a637f1 ]] {\r\n",
       "}\r\n",
       "comp usage \"e\" as E8  <<(T,blue) part>> [[psysml:e7c3b12c-9054-4127-bd5f-a31eeffec0a6 ]] {\r\n",
       "}\r\n",
       "comp usage \"f\" as E9  <<(T,blue) part>> [[psysml:49b700d2-d9c4-4257-84cb-c65bfac2aa08 ]] {\r\n",
       "}\r\n",
       "comp usage \"g\" as E10  <<(T,blue) part>> [[psysml:20161f3e-4930-46fe-a17d-f79ec2a77aae ]] {\r\n",
       "}\r\n",
       "comp def \"A\" as E11  <<(T,blue) attribute def>> [[psysml:958dabfe-3a24-44d8-9bca-d5e375f56ac2 ]] {\r\n",
       "- - attributes - -\r\n",
       "i: Integer\r\n",
       "x: A\r\n",
       "}\r\n",
       "E5 - -:|> E2 [[psysml:a788c1ae-8502-4aea-9d8b-5a5d865c76a9 ]] \r\n",
       "E6 - -:|> E2 [[psysml:96c9e024-7b1d-4ba9-883a-860d4899a00e ]] \r\n",
       "}\r\n",
       "@enduml\r\n",
       "\n",
       "PlantUML version 1.2020.13(Sat Jun 13 12:26:38 UTC 2020)\n",
       "(EPL source distribution)\n",
       "Java Runtime: OpenJDK Runtime Environment\n",
       "JVM: OpenJDK 64-Bit Server VM\n",
       "Default Encoding: UTF-8\n",
       "Language: en\n",
       "Country: null\n",
       "--></g></svg>"
      ]
     },
     "execution_count": 42,
     "metadata": {},
     "output_type": "execute_result"
    }
   ],
   "source": [
    "%viz --style=\"DEFAULT\" --view=\"Sequence\" \"MultiplicityTest\""
   ]
  },
  {
   "cell_type": "code",
   "execution_count": 43,
   "id": "fd1bad66",
   "metadata": {
    "execution": {
     "iopub.execute_input": "2021-08-04T06:29:52.789307Z",
     "iopub.status.busy": "2021-08-04T06:29:52.788635Z",
     "iopub.status.idle": "2021-08-04T06:29:52.838494Z",
     "shell.execute_reply": "2021-08-04T06:29:52.838124Z"
    }
   },
   "outputs": [
    {
     "data": {
      "image/svg+xml": [
       "<?xml version=\"1.0\" encoding=\"UTF-8\" standalone=\"no\"?><svg xmlns=\"http://www.w3.org/2000/svg\" xmlns:xlink=\"http://www.w3.org/1999/xlink\" contentScriptType=\"application/ecmascript\" contentStyleType=\"text/css\" height=\"263px\" preserveAspectRatio=\"none\" style=\"width:812px;height:263px;\" version=\"1.1\" viewBox=\"0 0 812 263\" width=\"812px\" zoomAndPan=\"magnify\"><defs/><g><!--MD5=[fbc87193dbaf4d95561dea2c320d4a47]\n",
       "cluster E1--><a href=\"psysml:04657276-263c-446b-8b63-b81fdc3bdb65\" target=\"_top\" title=\"psysml:04657276-263c-446b-8b63-b81fdc3bdb65\" xlink:actuate=\"onRequest\" xlink:href=\"psysml:04657276-263c-446b-8b63-b81fdc3bdb65\" xlink:show=\"new\" xlink:title=\"psysml:04657276-263c-446b-8b63-b81fdc3bdb65\" xlink:type=\"simple\"><polygon fill=\"#FFFFFF\" points=\"16,6,140,6,147,28.2969,790,28.2969,790,251,16,251,16,6\" style=\"stroke: #000000; stroke-width: 1.5;\"/><line style=\"stroke: #000000; stroke-width: 1.5;\" x1=\"16\" x2=\"147\" y1=\"28.2969\" y2=\"28.2969\"/><text fill=\"#000000\" font-family=\"sans-serif\" font-size=\"14\" font-weight=\"bold\" lengthAdjust=\"spacingAndGlyphs\" textLength=\"118\" x=\"20\" y=\"20.9951\">MultiplicityTest</text></a><!--MD5=[b4997ac47864f28c2f74865a473b2911]\n",
       "class E2--><a href=\"psysml:68eb8761-ff46-4523-ba58-41a062b6cb94\" target=\"_top\" title=\"psysml:68eb8761-ff46-4523-ba58-41a062b6cb94\" xlink:actuate=\"onRequest\" xlink:href=\"psysml:68eb8761-ff46-4523-ba58-41a062b6cb94\" xlink:show=\"new\" xlink:title=\"psysml:68eb8761-ff46-4523-ba58-41a062b6cb94\" xlink:type=\"simple\"><rect fill=\"#FFFFFF\" height=\"45.9375\" id=\"E2\" style=\"stroke: #383838; stroke-width: 1.5;\" width=\"66\" x=\"497\" y=\"189\"/><text fill=\"#000000\" font-family=\"sans-serif\" font-size=\"12\" font-style=\"italic\" lengthAdjust=\"spacingAndGlyphs\" textLength=\"64\" x=\"498\" y=\"205.1387\">«part def»</text><text fill=\"#000000\" font-family=\"sans-serif\" font-size=\"12\" lengthAdjust=\"spacingAndGlyphs\" textLength=\"8\" x=\"526\" y=\"219.1074\">P</text><line style=\"stroke: #383838; stroke-width: 1.5;\" x1=\"498\" x2=\"562\" y1=\"226.9375\" y2=\"226.9375\"/></a><!--MD5=[09b614a08d8cba4a07c9adeb5e0fee81]\n",
       "class E3--><a href=\"psysml:c2c67205-2617-478d-9839-9411bc2f8511\" target=\"_top\" title=\"psysml:c2c67205-2617-478d-9839-9411bc2f8511\" xlink:actuate=\"onRequest\" xlink:href=\"psysml:c2c67205-2617-478d-9839-9411bc2f8511\" xlink:show=\"new\" xlink:title=\"psysml:c2c67205-2617-478d-9839-9411bc2f8511\" xlink:type=\"simple\"><rect fill=\"#FFFFFF\" height=\"45.9375\" id=\"E3\" rx=\"10\" ry=\"10\" style=\"stroke: #383838; stroke-width: 1.5;\" width=\"71\" x=\"702.5\" y=\"62\"/><text fill=\"#000000\" font-family=\"sans-serif\" font-size=\"12\" font-style=\"italic\" lengthAdjust=\"spacingAndGlyphs\" textLength=\"69\" x=\"703.5\" y=\"78.1387\">«attribute»</text><text fill=\"#000000\" font-family=\"sans-serif\" font-size=\"12\" lengthAdjust=\"spacingAndGlyphs\" textLength=\"61\" x=\"707.5\" y=\"92.1074\">n: Integer</text><line style=\"stroke: #383838; stroke-width: 1.5;\" x1=\"703.5\" x2=\"772.5\" y1=\"99.9375\" y2=\"99.9375\"/></a><!--MD5=[ebbe1d658d1005bcc118a6aa81145e00]\n",
       "class E4--><a href=\"psysml:fbb3215b-67d9-4514-b40f-6d8c33165593\" target=\"_top\" title=\"psysml:fbb3215b-67d9-4514-b40f-6d8c33165593\" xlink:actuate=\"onRequest\" xlink:href=\"psysml:fbb3215b-67d9-4514-b40f-6d8c33165593\" xlink:show=\"new\" xlink:title=\"psysml:fbb3215b-67d9-4514-b40f-6d8c33165593\" xlink:type=\"simple\"><rect fill=\"#FFFFFF\" height=\"45.9375\" id=\"E4\" rx=\"10\" ry=\"10\" style=\"stroke: #383838; stroke-width: 1.5;\" width=\"42\" x=\"625\" y=\"62\"/><text fill=\"#000000\" font-family=\"sans-serif\" font-size=\"12\" font-style=\"italic\" lengthAdjust=\"spacingAndGlyphs\" textLength=\"40\" x=\"626\" y=\"78.1387\">«part»</text><text fill=\"#000000\" font-family=\"sans-serif\" font-size=\"12\" lengthAdjust=\"spacingAndGlyphs\" textLength=\"8\" x=\"642\" y=\"92.1074\">a</text><line style=\"stroke: #383838; stroke-width: 1.5;\" x1=\"626\" x2=\"666\" y1=\"99.9375\" y2=\"99.9375\"/></a><!--MD5=[270fce915f116d4de14055a7c1d9a0f3]\n",
       "class E5--><a href=\"psysml:d1ff5ca6-7417-4682-b046-127881647fcb\" target=\"_top\" title=\"psysml:d1ff5ca6-7417-4682-b046-127881647fcb\" xlink:actuate=\"onRequest\" xlink:href=\"psysml:d1ff5ca6-7417-4682-b046-127881647fcb\" xlink:show=\"new\" xlink:title=\"psysml:d1ff5ca6-7417-4682-b046-127881647fcb\" xlink:type=\"simple\"><rect fill=\"#FFFFFF\" height=\"45.9375\" id=\"E5\" rx=\"10\" ry=\"10\" style=\"stroke: #383838; stroke-width: 1.5;\" width=\"42\" x=\"548\" y=\"62\"/><text fill=\"#000000\" font-family=\"sans-serif\" font-size=\"12\" font-style=\"italic\" lengthAdjust=\"spacingAndGlyphs\" textLength=\"40\" x=\"549\" y=\"78.1387\">«part»</text><text fill=\"#000000\" font-family=\"sans-serif\" font-size=\"12\" lengthAdjust=\"spacingAndGlyphs\" textLength=\"24\" x=\"557\" y=\"92.1074\">b: P</text><line style=\"stroke: #383838; stroke-width: 1.5;\" x1=\"549\" x2=\"589\" y1=\"99.9375\" y2=\"99.9375\"/></a><!--MD5=[60a26617385b1d2d0262a64233df1f8d]\n",
       "class E6--><a href=\"psysml:20d627d7-8daa-4ea4-8c0c-0e67ee5e3616\" target=\"_top\" title=\"psysml:20d627d7-8daa-4ea4-8c0c-0e67ee5e3616\" xlink:actuate=\"onRequest\" xlink:href=\"psysml:20d627d7-8daa-4ea4-8c0c-0e67ee5e3616\" xlink:show=\"new\" xlink:title=\"psysml:20d627d7-8daa-4ea4-8c0c-0e67ee5e3616\" xlink:type=\"simple\"><rect fill=\"#FFFFFF\" height=\"45.9375\" id=\"E6\" rx=\"10\" ry=\"10\" style=\"stroke: #383838; stroke-width: 1.5;\" width=\"42\" x=\"471\" y=\"62\"/><text fill=\"#000000\" font-family=\"sans-serif\" font-size=\"12\" font-style=\"italic\" lengthAdjust=\"spacingAndGlyphs\" textLength=\"40\" x=\"472\" y=\"78.1387\">«part»</text><text fill=\"#000000\" font-family=\"sans-serif\" font-size=\"12\" lengthAdjust=\"spacingAndGlyphs\" textLength=\"23\" x=\"480.5\" y=\"92.1074\">c: P</text><line style=\"stroke: #383838; stroke-width: 1.5;\" x1=\"472\" x2=\"512\" y1=\"99.9375\" y2=\"99.9375\"/></a><!--MD5=[2156ba9850f5573cc1fc38a6a4b2f02b]\n",
       "class E7--><a href=\"psysml:4fc87a01-ac01-48e0-9821-1b5b80a637f1\" target=\"_top\" title=\"psysml:4fc87a01-ac01-48e0-9821-1b5b80a637f1\" xlink:actuate=\"onRequest\" xlink:href=\"psysml:4fc87a01-ac01-48e0-9821-1b5b80a637f1\" xlink:show=\"new\" xlink:title=\"psysml:4fc87a01-ac01-48e0-9821-1b5b80a637f1\" xlink:type=\"simple\"><rect fill=\"#FFFFFF\" height=\"45.9375\" id=\"E7\" rx=\"10\" ry=\"10\" style=\"stroke: #383838; stroke-width: 1.5;\" width=\"42\" x=\"394\" y=\"62\"/><text fill=\"#000000\" font-family=\"sans-serif\" font-size=\"12\" font-style=\"italic\" lengthAdjust=\"spacingAndGlyphs\" textLength=\"40\" x=\"395\" y=\"78.1387\">«part»</text><text fill=\"#000000\" font-family=\"sans-serif\" font-size=\"12\" lengthAdjust=\"spacingAndGlyphs\" textLength=\"8\" x=\"411\" y=\"92.1074\">d</text><line style=\"stroke: #383838; stroke-width: 1.5;\" x1=\"395\" x2=\"435\" y1=\"99.9375\" y2=\"99.9375\"/></a><!--MD5=[b9389687b975829384b498ac4b7476b2]\n",
       "class E8--><a href=\"psysml:e7c3b12c-9054-4127-bd5f-a31eeffec0a6\" target=\"_top\" title=\"psysml:e7c3b12c-9054-4127-bd5f-a31eeffec0a6\" xlink:actuate=\"onRequest\" xlink:href=\"psysml:e7c3b12c-9054-4127-bd5f-a31eeffec0a6\" xlink:show=\"new\" xlink:title=\"psysml:e7c3b12c-9054-4127-bd5f-a31eeffec0a6\" xlink:type=\"simple\"><rect fill=\"#FFFFFF\" height=\"45.9375\" id=\"E8\" rx=\"10\" ry=\"10\" style=\"stroke: #383838; stroke-width: 1.5;\" width=\"42\" x=\"317\" y=\"62\"/><text fill=\"#000000\" font-family=\"sans-serif\" font-size=\"12\" font-style=\"italic\" lengthAdjust=\"spacingAndGlyphs\" textLength=\"40\" x=\"318\" y=\"78.1387\">«part»</text><text fill=\"#000000\" font-family=\"sans-serif\" font-size=\"12\" lengthAdjust=\"spacingAndGlyphs\" textLength=\"8\" x=\"334\" y=\"92.1074\">e</text><line style=\"stroke: #383838; stroke-width: 1.5;\" x1=\"318\" x2=\"358\" y1=\"99.9375\" y2=\"99.9375\"/></a><!--MD5=[fd4143e9d270a159db93a4ea2a975926]\n",
       "class E9--><a href=\"psysml:49b700d2-d9c4-4257-84cb-c65bfac2aa08\" target=\"_top\" title=\"psysml:49b700d2-d9c4-4257-84cb-c65bfac2aa08\" xlink:actuate=\"onRequest\" xlink:href=\"psysml:49b700d2-d9c4-4257-84cb-c65bfac2aa08\" xlink:show=\"new\" xlink:title=\"psysml:49b700d2-d9c4-4257-84cb-c65bfac2aa08\" xlink:type=\"simple\"><rect fill=\"#FFFFFF\" height=\"45.9375\" id=\"E9\" rx=\"10\" ry=\"10\" style=\"stroke: #383838; stroke-width: 1.5;\" width=\"42\" x=\"240\" y=\"62\"/><text fill=\"#000000\" font-family=\"sans-serif\" font-size=\"12\" font-style=\"italic\" lengthAdjust=\"spacingAndGlyphs\" textLength=\"40\" x=\"241\" y=\"78.1387\">«part»</text><text fill=\"#000000\" font-family=\"sans-serif\" font-size=\"12\" lengthAdjust=\"spacingAndGlyphs\" textLength=\"4\" x=\"259\" y=\"92.1074\">f</text><line style=\"stroke: #383838; stroke-width: 1.5;\" x1=\"241\" x2=\"281\" y1=\"99.9375\" y2=\"99.9375\"/></a><!--MD5=[96f4274e9e20536e775497830990834d]\n",
       "class E10--><a href=\"psysml:20161f3e-4930-46fe-a17d-f79ec2a77aae\" target=\"_top\" title=\"psysml:20161f3e-4930-46fe-a17d-f79ec2a77aae\" xlink:actuate=\"onRequest\" xlink:href=\"psysml:20161f3e-4930-46fe-a17d-f79ec2a77aae\" xlink:show=\"new\" xlink:title=\"psysml:20161f3e-4930-46fe-a17d-f79ec2a77aae\" xlink:type=\"simple\"><rect fill=\"#FFFFFF\" height=\"45.9375\" id=\"E10\" rx=\"10\" ry=\"10\" style=\"stroke: #383838; stroke-width: 1.5;\" width=\"42\" x=\"163\" y=\"62\"/><text fill=\"#000000\" font-family=\"sans-serif\" font-size=\"12\" font-style=\"italic\" lengthAdjust=\"spacingAndGlyphs\" textLength=\"40\" x=\"164\" y=\"78.1387\">«part»</text><text fill=\"#000000\" font-family=\"sans-serif\" font-size=\"12\" lengthAdjust=\"spacingAndGlyphs\" textLength=\"8\" x=\"180\" y=\"92.1074\">g</text><line style=\"stroke: #383838; stroke-width: 1.5;\" x1=\"164\" x2=\"204\" y1=\"99.9375\" y2=\"99.9375\"/></a><!--MD5=[1dd1bfd58a279cf63c5f349dbc8fc6a1]\n",
       "class E11--><a href=\"psysml:958dabfe-3a24-44d8-9bca-d5e375f56ac2\" target=\"_top\" title=\"psysml:958dabfe-3a24-44d8-9bca-d5e375f56ac2\" xlink:actuate=\"onRequest\" xlink:href=\"psysml:958dabfe-3a24-44d8-9bca-d5e375f56ac2\" xlink:show=\"new\" xlink:title=\"psysml:958dabfe-3a24-44d8-9bca-d5e375f56ac2\" xlink:type=\"simple\"><rect fill=\"#FFFFFF\" height=\"88.3516\" id=\"E11\" style=\"stroke: #383838; stroke-width: 1.5;\" width=\"95\" x=\"32.5\" y=\"41\"/><text fill=\"#000000\" font-family=\"sans-serif\" font-size=\"12\" font-style=\"italic\" lengthAdjust=\"spacingAndGlyphs\" textLength=\"93\" x=\"33.5\" y=\"57.1387\">«attribute def»</text><text fill=\"#000000\" font-family=\"sans-serif\" font-size=\"12\" lengthAdjust=\"spacingAndGlyphs\" textLength=\"8\" x=\"76\" y=\"71.1074\">A</text><line style=\"stroke: #383838; stroke-width: 1.5;\" x1=\"33.5\" x2=\"126.5\" y1=\"78.9375\" y2=\"78.9375\"/><text fill=\"#000000\" font-family=\"sans-serif\" font-size=\"11\" lengthAdjust=\"spacingAndGlyphs\" textLength=\"51\" x=\"38.5\" y=\"109.9526\">i: Integer</text><text fill=\"#000000\" font-family=\"sans-serif\" font-size=\"11\" lengthAdjust=\"spacingAndGlyphs\" textLength=\"21\" x=\"38.5\" y=\"122.7573\">x: A</text><line style=\"stroke: #383838; stroke-width: 1.0;\" x1=\"33.5\" x2=\"52.5\" y1=\"93.3398\" y2=\"93.3398\"/><text fill=\"#000000\" font-family=\"sans-serif\" font-size=\"11\" lengthAdjust=\"spacingAndGlyphs\" textLength=\"55\" x=\"52.5\" y=\"96.6479\">attributes</text><line style=\"stroke: #383838; stroke-width: 1.0;\" x1=\"107.5\" x2=\"126.5\" y1=\"93.3398\" y2=\"93.3398\"/></a><!--MD5=[15ebcb19ae302d9b601edb458606d402]\n",
       "link E5 to E2--><a href=\"psysml:a788c1ae-8502-4aea-9d8b-5a5d865c76a9\" target=\"_top\" title=\"psysml:a788c1ae-8502-4aea-9d8b-5a5d865c76a9\" xlink:actuate=\"onRequest\" xlink:href=\"psysml:a788c1ae-8502-4aea-9d8b-5a5d865c76a9\" xlink:show=\"new\" xlink:title=\"psysml:a788c1ae-8502-4aea-9d8b-5a5d865c76a9\" xlink:type=\"simple\"><path d=\"M562.12,108.06 C556.83,125 549.38,148.89 542.98,169.39 \" fill=\"none\" id=\"E5-&gt;E2\" style=\"stroke: #383838; stroke-width: 1.0;\"/><polygon fill=\"#FFFFFF\" points=\"536.95,188.74,535.929,168.5173,549.2931,172.6886,536.95,188.74\" style=\"stroke: #383838; stroke-width: 1.0;\"/><ellipse cx=\"539.5364\" cy=\"163.6721\" fill=\"#383838\" rx=\"2\" ry=\"2\" style=\"stroke: #383838; stroke-width: 1.0;\"/><ellipse cx=\"549.0823\" cy=\"166.6516\" fill=\"#383838\" rx=\"2\" ry=\"2\" style=\"stroke: #383838; stroke-width: 1.0;\"/></a><!--MD5=[2351f337d6de0f557b50152ba70847b5]\n",
       "link E6 to E2--><a href=\"psysml:96c9e024-7b1d-4ba9-883a-860d4899a00e\" target=\"_top\" title=\"psysml:96c9e024-7b1d-4ba9-883a-860d4899a00e\" xlink:actuate=\"onRequest\" xlink:href=\"psysml:96c9e024-7b1d-4ba9-883a-860d4899a00e\" xlink:show=\"new\" xlink:title=\"psysml:96c9e024-7b1d-4ba9-883a-860d4899a00e\" xlink:type=\"simple\"><path d=\"M498.71,108.06 C503.86,125 511.12,148.89 517.35,169.39 \" fill=\"none\" id=\"E6-&gt;E2\" style=\"stroke: #383838; stroke-width: 1.0;\"/><polygon fill=\"#FFFFFF\" points=\"523.23,188.74,511.007,172.597,524.4019,168.5255,523.23,188.74\" style=\"stroke: #383838; stroke-width: 1.0;\"/><ellipse cx=\"511.2628\" cy=\"166.5617\" fill=\"#383838\" rx=\"2\" ry=\"2\" style=\"stroke: #383838; stroke-width: 1.0;\"/><ellipse cx=\"520.8306\" cy=\"163.6535\" fill=\"#383838\" rx=\"2\" ry=\"2\" style=\"stroke: #383838; stroke-width: 1.0;\"/></a><!--MD5=[2a46ddeac10f1fe136282d13ae769b94]\n",
       "@startuml\r\n",
       "skinparam monochrome true\r\n",
       "skinparam classbackgroundcolor white\r\n",
       "skinparam shadowing false\r\n",
       "skinparam wrapWidth 300\r\n",
       "hide circle\r\n",
       "\r\n",
       "package \"MultiplicityTest\" as E1  [[psysml:04657276-263c-446b-8b63-b81fdc3bdb65 ]]  {\r\n",
       "comp def \"P\" as E2  <<(T,blue) part def>> [[psysml:68eb8761-ff46-4523-ba58-41a062b6cb94 ]] {\r\n",
       "}\r\n",
       "comp usage \"n: Integer\" as E3  <<(T,blue) attribute>> [[psysml:c2c67205-2617-478d-9839-9411bc2f8511 ]] {\r\n",
       "}\r\n",
       "comp usage \"a\" as E4  <<(T,blue) part>> [[psysml:fbb3215b-67d9-4514-b40f-6d8c33165593 ]] {\r\n",
       "}\r\n",
       "comp usage \"b: P\" as E5  <<(T,blue) part>> [[psysml:d1ff5ca6-7417-4682-b046-127881647fcb ]] {\r\n",
       "}\r\n",
       "comp usage \"c: P\" as E6  <<(T,blue) part>> [[psysml:20d627d7-8daa-4ea4-8c0c-0e67ee5e3616 ]] {\r\n",
       "}\r\n",
       "comp usage \"d\" as E7  <<(T,blue) part>> [[psysml:4fc87a01-ac01-48e0-9821-1b5b80a637f1 ]] {\r\n",
       "}\r\n",
       "comp usage \"e\" as E8  <<(T,blue) part>> [[psysml:e7c3b12c-9054-4127-bd5f-a31eeffec0a6 ]] {\r\n",
       "}\r\n",
       "comp usage \"f\" as E9  <<(T,blue) part>> [[psysml:49b700d2-d9c4-4257-84cb-c65bfac2aa08 ]] {\r\n",
       "}\r\n",
       "comp usage \"g\" as E10  <<(T,blue) part>> [[psysml:20161f3e-4930-46fe-a17d-f79ec2a77aae ]] {\r\n",
       "}\r\n",
       "comp def \"A\" as E11  <<(T,blue) attribute def>> [[psysml:958dabfe-3a24-44d8-9bca-d5e375f56ac2 ]] {\r\n",
       "- - attributes - -\r\n",
       "i: Integer\r\n",
       "x: A\r\n",
       "}\r\n",
       "E5 - -:|> E2 [[psysml:a788c1ae-8502-4aea-9d8b-5a5d865c76a9 ]] \r\n",
       "E6 - -:|> E2 [[psysml:96c9e024-7b1d-4ba9-883a-860d4899a00e ]] \r\n",
       "}\r\n",
       "@enduml\r\n",
       "\n",
       "PlantUML version 1.2020.13(Sat Jun 13 12:26:38 UTC 2020)\n",
       "(EPL source distribution)\n",
       "Java Runtime: OpenJDK Runtime Environment\n",
       "JVM: OpenJDK 64-Bit Server VM\n",
       "Default Encoding: UTF-8\n",
       "Language: en\n",
       "Country: null\n",
       "--></g></svg>"
      ]
     },
     "execution_count": 43,
     "metadata": {},
     "output_type": "execute_result"
    }
   ],
   "source": [
    "%viz --style=\"DEFAULT\" --view=\"MIXED\" \"MultiplicityTest\""
   ]
  },
  {
   "cell_type": "code",
   "execution_count": 44,
   "id": "cc754c8c",
   "metadata": {
    "execution": {
     "iopub.execute_input": "2021-08-04T06:29:52.888340Z",
     "iopub.status.busy": "2021-08-04T06:29:52.887699Z",
     "iopub.status.idle": "2021-08-04T06:29:52.940762Z",
     "shell.execute_reply": "2021-08-04T06:29:52.939363Z"
    }
   },
   "outputs": [
    {
     "data": {
      "image/svg+xml": [
       "<?xml version=\"1.0\" encoding=\"UTF-8\" standalone=\"no\"?><svg xmlns=\"http://www.w3.org/2000/svg\" xmlns:xlink=\"http://www.w3.org/1999/xlink\" contentScriptType=\"application/ecmascript\" contentStyleType=\"text/css\" height=\"263px\" preserveAspectRatio=\"none\" style=\"width:812px;height:263px;\" version=\"1.1\" viewBox=\"0 0 812 263\" width=\"812px\" zoomAndPan=\"magnify\"><defs/><g><!--MD5=[fbc87193dbaf4d95561dea2c320d4a47]\n",
       "cluster E1--><a href=\"psysml:04657276-263c-446b-8b63-b81fdc3bdb65\" target=\"_top\" title=\"psysml:04657276-263c-446b-8b63-b81fdc3bdb65\" xlink:actuate=\"onRequest\" xlink:href=\"psysml:04657276-263c-446b-8b63-b81fdc3bdb65\" xlink:show=\"new\" xlink:title=\"psysml:04657276-263c-446b-8b63-b81fdc3bdb65\" xlink:type=\"simple\"><polygon fill=\"#FFFFFF\" points=\"16,6,140,6,147,28.2969,790,28.2969,790,251,16,251,16,6\" style=\"stroke: #000000; stroke-width: 1.5;\"/><line style=\"stroke: #000000; stroke-width: 1.5;\" x1=\"16\" x2=\"147\" y1=\"28.2969\" y2=\"28.2969\"/><text fill=\"#000000\" font-family=\"sans-serif\" font-size=\"14\" font-weight=\"bold\" lengthAdjust=\"spacingAndGlyphs\" textLength=\"118\" x=\"20\" y=\"20.9951\">MultiplicityTest</text></a><!--MD5=[b4997ac47864f28c2f74865a473b2911]\n",
       "class E2--><a href=\"psysml:68eb8761-ff46-4523-ba58-41a062b6cb94\" target=\"_top\" title=\"psysml:68eb8761-ff46-4523-ba58-41a062b6cb94\" xlink:actuate=\"onRequest\" xlink:href=\"psysml:68eb8761-ff46-4523-ba58-41a062b6cb94\" xlink:show=\"new\" xlink:title=\"psysml:68eb8761-ff46-4523-ba58-41a062b6cb94\" xlink:type=\"simple\"><rect fill=\"#FFFFFF\" height=\"45.9375\" id=\"E2\" style=\"stroke: #383838; stroke-width: 1.5;\" width=\"66\" x=\"497\" y=\"189\"/><text fill=\"#000000\" font-family=\"sans-serif\" font-size=\"12\" font-style=\"italic\" lengthAdjust=\"spacingAndGlyphs\" textLength=\"64\" x=\"498\" y=\"205.1387\">«part def»</text><text fill=\"#000000\" font-family=\"sans-serif\" font-size=\"12\" lengthAdjust=\"spacingAndGlyphs\" textLength=\"8\" x=\"526\" y=\"219.1074\">P</text><line style=\"stroke: #383838; stroke-width: 1.5;\" x1=\"498\" x2=\"562\" y1=\"226.9375\" y2=\"226.9375\"/></a><!--MD5=[09b614a08d8cba4a07c9adeb5e0fee81]\n",
       "class E3--><a href=\"psysml:c2c67205-2617-478d-9839-9411bc2f8511\" target=\"_top\" title=\"psysml:c2c67205-2617-478d-9839-9411bc2f8511\" xlink:actuate=\"onRequest\" xlink:href=\"psysml:c2c67205-2617-478d-9839-9411bc2f8511\" xlink:show=\"new\" xlink:title=\"psysml:c2c67205-2617-478d-9839-9411bc2f8511\" xlink:type=\"simple\"><rect fill=\"#FFFFFF\" height=\"45.9375\" id=\"E3\" rx=\"10\" ry=\"10\" style=\"stroke: #383838; stroke-width: 1.5;\" width=\"71\" x=\"702.5\" y=\"62\"/><text fill=\"#000000\" font-family=\"sans-serif\" font-size=\"12\" font-style=\"italic\" lengthAdjust=\"spacingAndGlyphs\" textLength=\"69\" x=\"703.5\" y=\"78.1387\">«attribute»</text><text fill=\"#000000\" font-family=\"sans-serif\" font-size=\"12\" lengthAdjust=\"spacingAndGlyphs\" textLength=\"61\" x=\"707.5\" y=\"92.1074\">n: Integer</text><line style=\"stroke: #383838; stroke-width: 1.5;\" x1=\"703.5\" x2=\"772.5\" y1=\"99.9375\" y2=\"99.9375\"/></a><!--MD5=[ebbe1d658d1005bcc118a6aa81145e00]\n",
       "class E4--><a href=\"psysml:fbb3215b-67d9-4514-b40f-6d8c33165593\" target=\"_top\" title=\"psysml:fbb3215b-67d9-4514-b40f-6d8c33165593\" xlink:actuate=\"onRequest\" xlink:href=\"psysml:fbb3215b-67d9-4514-b40f-6d8c33165593\" xlink:show=\"new\" xlink:title=\"psysml:fbb3215b-67d9-4514-b40f-6d8c33165593\" xlink:type=\"simple\"><rect fill=\"#FFFFFF\" height=\"45.9375\" id=\"E4\" rx=\"10\" ry=\"10\" style=\"stroke: #383838; stroke-width: 1.5;\" width=\"42\" x=\"625\" y=\"62\"/><text fill=\"#000000\" font-family=\"sans-serif\" font-size=\"12\" font-style=\"italic\" lengthAdjust=\"spacingAndGlyphs\" textLength=\"40\" x=\"626\" y=\"78.1387\">«part»</text><text fill=\"#000000\" font-family=\"sans-serif\" font-size=\"12\" lengthAdjust=\"spacingAndGlyphs\" textLength=\"8\" x=\"642\" y=\"92.1074\">a</text><line style=\"stroke: #383838; stroke-width: 1.5;\" x1=\"626\" x2=\"666\" y1=\"99.9375\" y2=\"99.9375\"/></a><!--MD5=[270fce915f116d4de14055a7c1d9a0f3]\n",
       "class E5--><a href=\"psysml:d1ff5ca6-7417-4682-b046-127881647fcb\" target=\"_top\" title=\"psysml:d1ff5ca6-7417-4682-b046-127881647fcb\" xlink:actuate=\"onRequest\" xlink:href=\"psysml:d1ff5ca6-7417-4682-b046-127881647fcb\" xlink:show=\"new\" xlink:title=\"psysml:d1ff5ca6-7417-4682-b046-127881647fcb\" xlink:type=\"simple\"><rect fill=\"#FFFFFF\" height=\"45.9375\" id=\"E5\" rx=\"10\" ry=\"10\" style=\"stroke: #383838; stroke-width: 1.5;\" width=\"42\" x=\"548\" y=\"62\"/><text fill=\"#000000\" font-family=\"sans-serif\" font-size=\"12\" font-style=\"italic\" lengthAdjust=\"spacingAndGlyphs\" textLength=\"40\" x=\"549\" y=\"78.1387\">«part»</text><text fill=\"#000000\" font-family=\"sans-serif\" font-size=\"12\" lengthAdjust=\"spacingAndGlyphs\" textLength=\"24\" x=\"557\" y=\"92.1074\">b: P</text><line style=\"stroke: #383838; stroke-width: 1.5;\" x1=\"549\" x2=\"589\" y1=\"99.9375\" y2=\"99.9375\"/></a><!--MD5=[60a26617385b1d2d0262a64233df1f8d]\n",
       "class E6--><a href=\"psysml:20d627d7-8daa-4ea4-8c0c-0e67ee5e3616\" target=\"_top\" title=\"psysml:20d627d7-8daa-4ea4-8c0c-0e67ee5e3616\" xlink:actuate=\"onRequest\" xlink:href=\"psysml:20d627d7-8daa-4ea4-8c0c-0e67ee5e3616\" xlink:show=\"new\" xlink:title=\"psysml:20d627d7-8daa-4ea4-8c0c-0e67ee5e3616\" xlink:type=\"simple\"><rect fill=\"#FFFFFF\" height=\"45.9375\" id=\"E6\" rx=\"10\" ry=\"10\" style=\"stroke: #383838; stroke-width: 1.5;\" width=\"42\" x=\"471\" y=\"62\"/><text fill=\"#000000\" font-family=\"sans-serif\" font-size=\"12\" font-style=\"italic\" lengthAdjust=\"spacingAndGlyphs\" textLength=\"40\" x=\"472\" y=\"78.1387\">«part»</text><text fill=\"#000000\" font-family=\"sans-serif\" font-size=\"12\" lengthAdjust=\"spacingAndGlyphs\" textLength=\"23\" x=\"480.5\" y=\"92.1074\">c: P</text><line style=\"stroke: #383838; stroke-width: 1.5;\" x1=\"472\" x2=\"512\" y1=\"99.9375\" y2=\"99.9375\"/></a><!--MD5=[2156ba9850f5573cc1fc38a6a4b2f02b]\n",
       "class E7--><a href=\"psysml:4fc87a01-ac01-48e0-9821-1b5b80a637f1\" target=\"_top\" title=\"psysml:4fc87a01-ac01-48e0-9821-1b5b80a637f1\" xlink:actuate=\"onRequest\" xlink:href=\"psysml:4fc87a01-ac01-48e0-9821-1b5b80a637f1\" xlink:show=\"new\" xlink:title=\"psysml:4fc87a01-ac01-48e0-9821-1b5b80a637f1\" xlink:type=\"simple\"><rect fill=\"#FFFFFF\" height=\"45.9375\" id=\"E7\" rx=\"10\" ry=\"10\" style=\"stroke: #383838; stroke-width: 1.5;\" width=\"42\" x=\"394\" y=\"62\"/><text fill=\"#000000\" font-family=\"sans-serif\" font-size=\"12\" font-style=\"italic\" lengthAdjust=\"spacingAndGlyphs\" textLength=\"40\" x=\"395\" y=\"78.1387\">«part»</text><text fill=\"#000000\" font-family=\"sans-serif\" font-size=\"12\" lengthAdjust=\"spacingAndGlyphs\" textLength=\"8\" x=\"411\" y=\"92.1074\">d</text><line style=\"stroke: #383838; stroke-width: 1.5;\" x1=\"395\" x2=\"435\" y1=\"99.9375\" y2=\"99.9375\"/></a><!--MD5=[b9389687b975829384b498ac4b7476b2]\n",
       "class E8--><a href=\"psysml:e7c3b12c-9054-4127-bd5f-a31eeffec0a6\" target=\"_top\" title=\"psysml:e7c3b12c-9054-4127-bd5f-a31eeffec0a6\" xlink:actuate=\"onRequest\" xlink:href=\"psysml:e7c3b12c-9054-4127-bd5f-a31eeffec0a6\" xlink:show=\"new\" xlink:title=\"psysml:e7c3b12c-9054-4127-bd5f-a31eeffec0a6\" xlink:type=\"simple\"><rect fill=\"#FFFFFF\" height=\"45.9375\" id=\"E8\" rx=\"10\" ry=\"10\" style=\"stroke: #383838; stroke-width: 1.5;\" width=\"42\" x=\"317\" y=\"62\"/><text fill=\"#000000\" font-family=\"sans-serif\" font-size=\"12\" font-style=\"italic\" lengthAdjust=\"spacingAndGlyphs\" textLength=\"40\" x=\"318\" y=\"78.1387\">«part»</text><text fill=\"#000000\" font-family=\"sans-serif\" font-size=\"12\" lengthAdjust=\"spacingAndGlyphs\" textLength=\"8\" x=\"334\" y=\"92.1074\">e</text><line style=\"stroke: #383838; stroke-width: 1.5;\" x1=\"318\" x2=\"358\" y1=\"99.9375\" y2=\"99.9375\"/></a><!--MD5=[fd4143e9d270a159db93a4ea2a975926]\n",
       "class E9--><a href=\"psysml:49b700d2-d9c4-4257-84cb-c65bfac2aa08\" target=\"_top\" title=\"psysml:49b700d2-d9c4-4257-84cb-c65bfac2aa08\" xlink:actuate=\"onRequest\" xlink:href=\"psysml:49b700d2-d9c4-4257-84cb-c65bfac2aa08\" xlink:show=\"new\" xlink:title=\"psysml:49b700d2-d9c4-4257-84cb-c65bfac2aa08\" xlink:type=\"simple\"><rect fill=\"#FFFFFF\" height=\"45.9375\" id=\"E9\" rx=\"10\" ry=\"10\" style=\"stroke: #383838; stroke-width: 1.5;\" width=\"42\" x=\"240\" y=\"62\"/><text fill=\"#000000\" font-family=\"sans-serif\" font-size=\"12\" font-style=\"italic\" lengthAdjust=\"spacingAndGlyphs\" textLength=\"40\" x=\"241\" y=\"78.1387\">«part»</text><text fill=\"#000000\" font-family=\"sans-serif\" font-size=\"12\" lengthAdjust=\"spacingAndGlyphs\" textLength=\"4\" x=\"259\" y=\"92.1074\">f</text><line style=\"stroke: #383838; stroke-width: 1.5;\" x1=\"241\" x2=\"281\" y1=\"99.9375\" y2=\"99.9375\"/></a><!--MD5=[96f4274e9e20536e775497830990834d]\n",
       "class E10--><a href=\"psysml:20161f3e-4930-46fe-a17d-f79ec2a77aae\" target=\"_top\" title=\"psysml:20161f3e-4930-46fe-a17d-f79ec2a77aae\" xlink:actuate=\"onRequest\" xlink:href=\"psysml:20161f3e-4930-46fe-a17d-f79ec2a77aae\" xlink:show=\"new\" xlink:title=\"psysml:20161f3e-4930-46fe-a17d-f79ec2a77aae\" xlink:type=\"simple\"><rect fill=\"#FFFFFF\" height=\"45.9375\" id=\"E10\" rx=\"10\" ry=\"10\" style=\"stroke: #383838; stroke-width: 1.5;\" width=\"42\" x=\"163\" y=\"62\"/><text fill=\"#000000\" font-family=\"sans-serif\" font-size=\"12\" font-style=\"italic\" lengthAdjust=\"spacingAndGlyphs\" textLength=\"40\" x=\"164\" y=\"78.1387\">«part»</text><text fill=\"#000000\" font-family=\"sans-serif\" font-size=\"12\" lengthAdjust=\"spacingAndGlyphs\" textLength=\"8\" x=\"180\" y=\"92.1074\">g</text><line style=\"stroke: #383838; stroke-width: 1.5;\" x1=\"164\" x2=\"204\" y1=\"99.9375\" y2=\"99.9375\"/></a><!--MD5=[1dd1bfd58a279cf63c5f349dbc8fc6a1]\n",
       "class E11--><a href=\"psysml:958dabfe-3a24-44d8-9bca-d5e375f56ac2\" target=\"_top\" title=\"psysml:958dabfe-3a24-44d8-9bca-d5e375f56ac2\" xlink:actuate=\"onRequest\" xlink:href=\"psysml:958dabfe-3a24-44d8-9bca-d5e375f56ac2\" xlink:show=\"new\" xlink:title=\"psysml:958dabfe-3a24-44d8-9bca-d5e375f56ac2\" xlink:type=\"simple\"><rect fill=\"#FFFFFF\" height=\"88.3516\" id=\"E11\" style=\"stroke: #383838; stroke-width: 1.5;\" width=\"95\" x=\"32.5\" y=\"41\"/><text fill=\"#000000\" font-family=\"sans-serif\" font-size=\"12\" font-style=\"italic\" lengthAdjust=\"spacingAndGlyphs\" textLength=\"93\" x=\"33.5\" y=\"57.1387\">«attribute def»</text><text fill=\"#000000\" font-family=\"sans-serif\" font-size=\"12\" lengthAdjust=\"spacingAndGlyphs\" textLength=\"8\" x=\"76\" y=\"71.1074\">A</text><line style=\"stroke: #383838; stroke-width: 1.5;\" x1=\"33.5\" x2=\"126.5\" y1=\"78.9375\" y2=\"78.9375\"/><text fill=\"#000000\" font-family=\"sans-serif\" font-size=\"11\" lengthAdjust=\"spacingAndGlyphs\" textLength=\"51\" x=\"38.5\" y=\"109.9526\">i: Integer</text><text fill=\"#000000\" font-family=\"sans-serif\" font-size=\"11\" lengthAdjust=\"spacingAndGlyphs\" textLength=\"21\" x=\"38.5\" y=\"122.7573\">x: A</text><line style=\"stroke: #383838; stroke-width: 1.0;\" x1=\"33.5\" x2=\"52.5\" y1=\"93.3398\" y2=\"93.3398\"/><text fill=\"#000000\" font-family=\"sans-serif\" font-size=\"11\" lengthAdjust=\"spacingAndGlyphs\" textLength=\"55\" x=\"52.5\" y=\"96.6479\">attributes</text><line style=\"stroke: #383838; stroke-width: 1.0;\" x1=\"107.5\" x2=\"126.5\" y1=\"93.3398\" y2=\"93.3398\"/></a><!--MD5=[15ebcb19ae302d9b601edb458606d402]\n",
       "link E5 to E2--><a href=\"psysml:a788c1ae-8502-4aea-9d8b-5a5d865c76a9\" target=\"_top\" title=\"psysml:a788c1ae-8502-4aea-9d8b-5a5d865c76a9\" xlink:actuate=\"onRequest\" xlink:href=\"psysml:a788c1ae-8502-4aea-9d8b-5a5d865c76a9\" xlink:show=\"new\" xlink:title=\"psysml:a788c1ae-8502-4aea-9d8b-5a5d865c76a9\" xlink:type=\"simple\"><path d=\"M562.12,108.06 C556.83,125 549.38,148.89 542.98,169.39 \" fill=\"none\" id=\"E5-&gt;E2\" style=\"stroke: #383838; stroke-width: 1.0;\"/><polygon fill=\"#FFFFFF\" points=\"536.95,188.74,535.929,168.5173,549.2931,172.6886,536.95,188.74\" style=\"stroke: #383838; stroke-width: 1.0;\"/><ellipse cx=\"539.5364\" cy=\"163.6721\" fill=\"#383838\" rx=\"2\" ry=\"2\" style=\"stroke: #383838; stroke-width: 1.0;\"/><ellipse cx=\"549.0823\" cy=\"166.6516\" fill=\"#383838\" rx=\"2\" ry=\"2\" style=\"stroke: #383838; stroke-width: 1.0;\"/></a><!--MD5=[2351f337d6de0f557b50152ba70847b5]\n",
       "link E6 to E2--><a href=\"psysml:96c9e024-7b1d-4ba9-883a-860d4899a00e\" target=\"_top\" title=\"psysml:96c9e024-7b1d-4ba9-883a-860d4899a00e\" xlink:actuate=\"onRequest\" xlink:href=\"psysml:96c9e024-7b1d-4ba9-883a-860d4899a00e\" xlink:show=\"new\" xlink:title=\"psysml:96c9e024-7b1d-4ba9-883a-860d4899a00e\" xlink:type=\"simple\"><path d=\"M498.71,108.06 C503.86,125 511.12,148.89 517.35,169.39 \" fill=\"none\" id=\"E6-&gt;E2\" style=\"stroke: #383838; stroke-width: 1.0;\"/><polygon fill=\"#FFFFFF\" points=\"523.23,188.74,511.007,172.597,524.4019,168.5255,523.23,188.74\" style=\"stroke: #383838; stroke-width: 1.0;\"/><ellipse cx=\"511.2628\" cy=\"166.5617\" fill=\"#383838\" rx=\"2\" ry=\"2\" style=\"stroke: #383838; stroke-width: 1.0;\"/><ellipse cx=\"520.8306\" cy=\"163.6535\" fill=\"#383838\" rx=\"2\" ry=\"2\" style=\"stroke: #383838; stroke-width: 1.0;\"/></a><!--MD5=[00eaef5344c30a8ae9dfaff4d459c045]\n",
       "@startuml\r\n",
       "top to bottom direction\r\n",
       "skinparam monochrome true\r\n",
       "skinparam classbackgroundcolor white\r\n",
       "skinparam shadowing false\r\n",
       "skinparam wrapWidth 300\r\n",
       "hide circle\r\n",
       "\r\n",
       "package \"MultiplicityTest\" as E1  [[psysml:04657276-263c-446b-8b63-b81fdc3bdb65 ]]  {\r\n",
       "comp def \"P\" as E2  <<(T,blue) part def>> [[psysml:68eb8761-ff46-4523-ba58-41a062b6cb94 ]] {\r\n",
       "}\r\n",
       "comp usage \"n: Integer\" as E3  <<(T,blue) attribute>> [[psysml:c2c67205-2617-478d-9839-9411bc2f8511 ]] {\r\n",
       "}\r\n",
       "comp usage \"a\" as E4  <<(T,blue) part>> [[psysml:fbb3215b-67d9-4514-b40f-6d8c33165593 ]] {\r\n",
       "}\r\n",
       "comp usage \"b: P\" as E5  <<(T,blue) part>> [[psysml:d1ff5ca6-7417-4682-b046-127881647fcb ]] {\r\n",
       "}\r\n",
       "comp usage \"c: P\" as E6  <<(T,blue) part>> [[psysml:20d627d7-8daa-4ea4-8c0c-0e67ee5e3616 ]] {\r\n",
       "}\r\n",
       "comp usage \"d\" as E7  <<(T,blue) part>> [[psysml:4fc87a01-ac01-48e0-9821-1b5b80a637f1 ]] {\r\n",
       "}\r\n",
       "comp usage \"e\" as E8  <<(T,blue) part>> [[psysml:e7c3b12c-9054-4127-bd5f-a31eeffec0a6 ]] {\r\n",
       "}\r\n",
       "comp usage \"f\" as E9  <<(T,blue) part>> [[psysml:49b700d2-d9c4-4257-84cb-c65bfac2aa08 ]] {\r\n",
       "}\r\n",
       "comp usage \"g\" as E10  <<(T,blue) part>> [[psysml:20161f3e-4930-46fe-a17d-f79ec2a77aae ]] {\r\n",
       "}\r\n",
       "comp def \"A\" as E11  <<(T,blue) attribute def>> [[psysml:958dabfe-3a24-44d8-9bca-d5e375f56ac2 ]] {\r\n",
       "- - attributes - -\r\n",
       "i: Integer\r\n",
       "x: A\r\n",
       "}\r\n",
       "E5 - -:|> E2 [[psysml:a788c1ae-8502-4aea-9d8b-5a5d865c76a9 ]] \r\n",
       "E6 - -:|> E2 [[psysml:96c9e024-7b1d-4ba9-883a-860d4899a00e ]] \r\n",
       "}\r\n",
       "@enduml\r\n",
       "\n",
       "PlantUML version 1.2020.13(Sat Jun 13 12:26:38 UTC 2020)\n",
       "(EPL source distribution)\n",
       "Java Runtime: OpenJDK Runtime Environment\n",
       "JVM: OpenJDK 64-Bit Server VM\n",
       "Default Encoding: UTF-8\n",
       "Language: en\n",
       "Country: null\n",
       "--></g></svg>"
      ]
     },
     "execution_count": 44,
     "metadata": {},
     "output_type": "execute_result"
    }
   ],
   "source": [
    "%viz --style=\"TB\" --view=\"Default\" \"MultiplicityTest\""
   ]
  },
  {
   "cell_type": "code",
   "execution_count": 45,
   "id": "3853e4fc",
   "metadata": {
    "execution": {
     "iopub.execute_input": "2021-08-04T06:29:52.990451Z",
     "iopub.status.busy": "2021-08-04T06:29:52.989825Z",
     "iopub.status.idle": "2021-08-04T06:29:53.050130Z",
     "shell.execute_reply": "2021-08-04T06:29:53.049748Z"
    }
   },
   "outputs": [
    {
     "data": {
      "image/svg+xml": [
       "<?xml version=\"1.0\" encoding=\"UTF-8\" standalone=\"no\"?><svg xmlns=\"http://www.w3.org/2000/svg\" xmlns:xlink=\"http://www.w3.org/1999/xlink\" contentScriptType=\"application/ecmascript\" contentStyleType=\"text/css\" height=\"263px\" preserveAspectRatio=\"none\" style=\"width:812px;height:263px;\" version=\"1.1\" viewBox=\"0 0 812 263\" width=\"812px\" zoomAndPan=\"magnify\"><defs/><g><!--MD5=[fbc87193dbaf4d95561dea2c320d4a47]\n",
       "cluster E1--><a href=\"psysml:04657276-263c-446b-8b63-b81fdc3bdb65\" target=\"_top\" title=\"psysml:04657276-263c-446b-8b63-b81fdc3bdb65\" xlink:actuate=\"onRequest\" xlink:href=\"psysml:04657276-263c-446b-8b63-b81fdc3bdb65\" xlink:show=\"new\" xlink:title=\"psysml:04657276-263c-446b-8b63-b81fdc3bdb65\" xlink:type=\"simple\"><polygon fill=\"#FFFFFF\" points=\"16,6,140,6,147,28.2969,790,28.2969,790,251,16,251,16,6\" style=\"stroke: #000000; stroke-width: 1.5;\"/><line style=\"stroke: #000000; stroke-width: 1.5;\" x1=\"16\" x2=\"147\" y1=\"28.2969\" y2=\"28.2969\"/><text fill=\"#000000\" font-family=\"sans-serif\" font-size=\"14\" font-weight=\"bold\" lengthAdjust=\"spacingAndGlyphs\" textLength=\"118\" x=\"20\" y=\"20.9951\">MultiplicityTest</text></a><!--MD5=[b4997ac47864f28c2f74865a473b2911]\n",
       "class E2--><a href=\"psysml:68eb8761-ff46-4523-ba58-41a062b6cb94\" target=\"_top\" title=\"psysml:68eb8761-ff46-4523-ba58-41a062b6cb94\" xlink:actuate=\"onRequest\" xlink:href=\"psysml:68eb8761-ff46-4523-ba58-41a062b6cb94\" xlink:show=\"new\" xlink:title=\"psysml:68eb8761-ff46-4523-ba58-41a062b6cb94\" xlink:type=\"simple\"><rect fill=\"#FFFFFF\" height=\"45.9375\" id=\"E2\" style=\"stroke: #383838; stroke-width: 1.5;\" width=\"66\" x=\"497\" y=\"189\"/><text fill=\"#000000\" font-family=\"sans-serif\" font-size=\"12\" font-style=\"italic\" lengthAdjust=\"spacingAndGlyphs\" textLength=\"64\" x=\"498\" y=\"205.1387\">«part def»</text><text fill=\"#000000\" font-family=\"sans-serif\" font-size=\"12\" lengthAdjust=\"spacingAndGlyphs\" textLength=\"8\" x=\"526\" y=\"219.1074\">P</text><line style=\"stroke: #383838; stroke-width: 1.5;\" x1=\"498\" x2=\"562\" y1=\"226.9375\" y2=\"226.9375\"/></a><!--MD5=[09b614a08d8cba4a07c9adeb5e0fee81]\n",
       "class E3--><a href=\"psysml:c2c67205-2617-478d-9839-9411bc2f8511\" target=\"_top\" title=\"psysml:c2c67205-2617-478d-9839-9411bc2f8511\" xlink:actuate=\"onRequest\" xlink:href=\"psysml:c2c67205-2617-478d-9839-9411bc2f8511\" xlink:show=\"new\" xlink:title=\"psysml:c2c67205-2617-478d-9839-9411bc2f8511\" xlink:type=\"simple\"><rect fill=\"#FFFFFF\" height=\"45.9375\" id=\"E3\" rx=\"10\" ry=\"10\" style=\"stroke: #383838; stroke-width: 1.5;\" width=\"71\" x=\"702.5\" y=\"62\"/><text fill=\"#000000\" font-family=\"sans-serif\" font-size=\"12\" font-style=\"italic\" lengthAdjust=\"spacingAndGlyphs\" textLength=\"69\" x=\"703.5\" y=\"78.1387\">«attribute»</text><text fill=\"#000000\" font-family=\"sans-serif\" font-size=\"12\" lengthAdjust=\"spacingAndGlyphs\" textLength=\"61\" x=\"707.5\" y=\"92.1074\">n: Integer</text><line style=\"stroke: #383838; stroke-width: 1.5;\" x1=\"703.5\" x2=\"772.5\" y1=\"99.9375\" y2=\"99.9375\"/></a><!--MD5=[ebbe1d658d1005bcc118a6aa81145e00]\n",
       "class E4--><a href=\"psysml:fbb3215b-67d9-4514-b40f-6d8c33165593\" target=\"_top\" title=\"psysml:fbb3215b-67d9-4514-b40f-6d8c33165593\" xlink:actuate=\"onRequest\" xlink:href=\"psysml:fbb3215b-67d9-4514-b40f-6d8c33165593\" xlink:show=\"new\" xlink:title=\"psysml:fbb3215b-67d9-4514-b40f-6d8c33165593\" xlink:type=\"simple\"><rect fill=\"#FFFFFF\" height=\"45.9375\" id=\"E4\" rx=\"10\" ry=\"10\" style=\"stroke: #383838; stroke-width: 1.5;\" width=\"42\" x=\"625\" y=\"62\"/><text fill=\"#000000\" font-family=\"sans-serif\" font-size=\"12\" font-style=\"italic\" lengthAdjust=\"spacingAndGlyphs\" textLength=\"40\" x=\"626\" y=\"78.1387\">«part»</text><text fill=\"#000000\" font-family=\"sans-serif\" font-size=\"12\" lengthAdjust=\"spacingAndGlyphs\" textLength=\"8\" x=\"642\" y=\"92.1074\">a</text><line style=\"stroke: #383838; stroke-width: 1.5;\" x1=\"626\" x2=\"666\" y1=\"99.9375\" y2=\"99.9375\"/></a><!--MD5=[270fce915f116d4de14055a7c1d9a0f3]\n",
       "class E5--><a href=\"psysml:d1ff5ca6-7417-4682-b046-127881647fcb\" target=\"_top\" title=\"psysml:d1ff5ca6-7417-4682-b046-127881647fcb\" xlink:actuate=\"onRequest\" xlink:href=\"psysml:d1ff5ca6-7417-4682-b046-127881647fcb\" xlink:show=\"new\" xlink:title=\"psysml:d1ff5ca6-7417-4682-b046-127881647fcb\" xlink:type=\"simple\"><rect fill=\"#FFFFFF\" height=\"45.9375\" id=\"E5\" rx=\"10\" ry=\"10\" style=\"stroke: #383838; stroke-width: 1.5;\" width=\"42\" x=\"548\" y=\"62\"/><text fill=\"#000000\" font-family=\"sans-serif\" font-size=\"12\" font-style=\"italic\" lengthAdjust=\"spacingAndGlyphs\" textLength=\"40\" x=\"549\" y=\"78.1387\">«part»</text><text fill=\"#000000\" font-family=\"sans-serif\" font-size=\"12\" lengthAdjust=\"spacingAndGlyphs\" textLength=\"24\" x=\"557\" y=\"92.1074\">b: P</text><line style=\"stroke: #383838; stroke-width: 1.5;\" x1=\"549\" x2=\"589\" y1=\"99.9375\" y2=\"99.9375\"/></a><!--MD5=[60a26617385b1d2d0262a64233df1f8d]\n",
       "class E6--><a href=\"psysml:20d627d7-8daa-4ea4-8c0c-0e67ee5e3616\" target=\"_top\" title=\"psysml:20d627d7-8daa-4ea4-8c0c-0e67ee5e3616\" xlink:actuate=\"onRequest\" xlink:href=\"psysml:20d627d7-8daa-4ea4-8c0c-0e67ee5e3616\" xlink:show=\"new\" xlink:title=\"psysml:20d627d7-8daa-4ea4-8c0c-0e67ee5e3616\" xlink:type=\"simple\"><rect fill=\"#FFFFFF\" height=\"45.9375\" id=\"E6\" rx=\"10\" ry=\"10\" style=\"stroke: #383838; stroke-width: 1.5;\" width=\"42\" x=\"471\" y=\"62\"/><text fill=\"#000000\" font-family=\"sans-serif\" font-size=\"12\" font-style=\"italic\" lengthAdjust=\"spacingAndGlyphs\" textLength=\"40\" x=\"472\" y=\"78.1387\">«part»</text><text fill=\"#000000\" font-family=\"sans-serif\" font-size=\"12\" lengthAdjust=\"spacingAndGlyphs\" textLength=\"23\" x=\"480.5\" y=\"92.1074\">c: P</text><line style=\"stroke: #383838; stroke-width: 1.5;\" x1=\"472\" x2=\"512\" y1=\"99.9375\" y2=\"99.9375\"/></a><!--MD5=[2156ba9850f5573cc1fc38a6a4b2f02b]\n",
       "class E7--><a href=\"psysml:4fc87a01-ac01-48e0-9821-1b5b80a637f1\" target=\"_top\" title=\"psysml:4fc87a01-ac01-48e0-9821-1b5b80a637f1\" xlink:actuate=\"onRequest\" xlink:href=\"psysml:4fc87a01-ac01-48e0-9821-1b5b80a637f1\" xlink:show=\"new\" xlink:title=\"psysml:4fc87a01-ac01-48e0-9821-1b5b80a637f1\" xlink:type=\"simple\"><rect fill=\"#FFFFFF\" height=\"45.9375\" id=\"E7\" rx=\"10\" ry=\"10\" style=\"stroke: #383838; stroke-width: 1.5;\" width=\"42\" x=\"394\" y=\"62\"/><text fill=\"#000000\" font-family=\"sans-serif\" font-size=\"12\" font-style=\"italic\" lengthAdjust=\"spacingAndGlyphs\" textLength=\"40\" x=\"395\" y=\"78.1387\">«part»</text><text fill=\"#000000\" font-family=\"sans-serif\" font-size=\"12\" lengthAdjust=\"spacingAndGlyphs\" textLength=\"8\" x=\"411\" y=\"92.1074\">d</text><line style=\"stroke: #383838; stroke-width: 1.5;\" x1=\"395\" x2=\"435\" y1=\"99.9375\" y2=\"99.9375\"/></a><!--MD5=[b9389687b975829384b498ac4b7476b2]\n",
       "class E8--><a href=\"psysml:e7c3b12c-9054-4127-bd5f-a31eeffec0a6\" target=\"_top\" title=\"psysml:e7c3b12c-9054-4127-bd5f-a31eeffec0a6\" xlink:actuate=\"onRequest\" xlink:href=\"psysml:e7c3b12c-9054-4127-bd5f-a31eeffec0a6\" xlink:show=\"new\" xlink:title=\"psysml:e7c3b12c-9054-4127-bd5f-a31eeffec0a6\" xlink:type=\"simple\"><rect fill=\"#FFFFFF\" height=\"45.9375\" id=\"E8\" rx=\"10\" ry=\"10\" style=\"stroke: #383838; stroke-width: 1.5;\" width=\"42\" x=\"317\" y=\"62\"/><text fill=\"#000000\" font-family=\"sans-serif\" font-size=\"12\" font-style=\"italic\" lengthAdjust=\"spacingAndGlyphs\" textLength=\"40\" x=\"318\" y=\"78.1387\">«part»</text><text fill=\"#000000\" font-family=\"sans-serif\" font-size=\"12\" lengthAdjust=\"spacingAndGlyphs\" textLength=\"8\" x=\"334\" y=\"92.1074\">e</text><line style=\"stroke: #383838; stroke-width: 1.5;\" x1=\"318\" x2=\"358\" y1=\"99.9375\" y2=\"99.9375\"/></a><!--MD5=[fd4143e9d270a159db93a4ea2a975926]\n",
       "class E9--><a href=\"psysml:49b700d2-d9c4-4257-84cb-c65bfac2aa08\" target=\"_top\" title=\"psysml:49b700d2-d9c4-4257-84cb-c65bfac2aa08\" xlink:actuate=\"onRequest\" xlink:href=\"psysml:49b700d2-d9c4-4257-84cb-c65bfac2aa08\" xlink:show=\"new\" xlink:title=\"psysml:49b700d2-d9c4-4257-84cb-c65bfac2aa08\" xlink:type=\"simple\"><rect fill=\"#FFFFFF\" height=\"45.9375\" id=\"E9\" rx=\"10\" ry=\"10\" style=\"stroke: #383838; stroke-width: 1.5;\" width=\"42\" x=\"240\" y=\"62\"/><text fill=\"#000000\" font-family=\"sans-serif\" font-size=\"12\" font-style=\"italic\" lengthAdjust=\"spacingAndGlyphs\" textLength=\"40\" x=\"241\" y=\"78.1387\">«part»</text><text fill=\"#000000\" font-family=\"sans-serif\" font-size=\"12\" lengthAdjust=\"spacingAndGlyphs\" textLength=\"4\" x=\"259\" y=\"92.1074\">f</text><line style=\"stroke: #383838; stroke-width: 1.5;\" x1=\"241\" x2=\"281\" y1=\"99.9375\" y2=\"99.9375\"/></a><!--MD5=[96f4274e9e20536e775497830990834d]\n",
       "class E10--><a href=\"psysml:20161f3e-4930-46fe-a17d-f79ec2a77aae\" target=\"_top\" title=\"psysml:20161f3e-4930-46fe-a17d-f79ec2a77aae\" xlink:actuate=\"onRequest\" xlink:href=\"psysml:20161f3e-4930-46fe-a17d-f79ec2a77aae\" xlink:show=\"new\" xlink:title=\"psysml:20161f3e-4930-46fe-a17d-f79ec2a77aae\" xlink:type=\"simple\"><rect fill=\"#FFFFFF\" height=\"45.9375\" id=\"E10\" rx=\"10\" ry=\"10\" style=\"stroke: #383838; stroke-width: 1.5;\" width=\"42\" x=\"163\" y=\"62\"/><text fill=\"#000000\" font-family=\"sans-serif\" font-size=\"12\" font-style=\"italic\" lengthAdjust=\"spacingAndGlyphs\" textLength=\"40\" x=\"164\" y=\"78.1387\">«part»</text><text fill=\"#000000\" font-family=\"sans-serif\" font-size=\"12\" lengthAdjust=\"spacingAndGlyphs\" textLength=\"8\" x=\"180\" y=\"92.1074\">g</text><line style=\"stroke: #383838; stroke-width: 1.5;\" x1=\"164\" x2=\"204\" y1=\"99.9375\" y2=\"99.9375\"/></a><!--MD5=[1dd1bfd58a279cf63c5f349dbc8fc6a1]\n",
       "class E11--><a href=\"psysml:958dabfe-3a24-44d8-9bca-d5e375f56ac2\" target=\"_top\" title=\"psysml:958dabfe-3a24-44d8-9bca-d5e375f56ac2\" xlink:actuate=\"onRequest\" xlink:href=\"psysml:958dabfe-3a24-44d8-9bca-d5e375f56ac2\" xlink:show=\"new\" xlink:title=\"psysml:958dabfe-3a24-44d8-9bca-d5e375f56ac2\" xlink:type=\"simple\"><rect fill=\"#FFFFFF\" height=\"88.3516\" id=\"E11\" style=\"stroke: #383838; stroke-width: 1.5;\" width=\"95\" x=\"32.5\" y=\"41\"/><text fill=\"#000000\" font-family=\"sans-serif\" font-size=\"12\" font-style=\"italic\" lengthAdjust=\"spacingAndGlyphs\" textLength=\"93\" x=\"33.5\" y=\"57.1387\">«attribute def»</text><text fill=\"#000000\" font-family=\"sans-serif\" font-size=\"12\" lengthAdjust=\"spacingAndGlyphs\" textLength=\"8\" x=\"76\" y=\"71.1074\">A</text><line style=\"stroke: #383838; stroke-width: 1.5;\" x1=\"33.5\" x2=\"126.5\" y1=\"78.9375\" y2=\"78.9375\"/><text fill=\"#000000\" font-family=\"sans-serif\" font-size=\"11\" lengthAdjust=\"spacingAndGlyphs\" textLength=\"51\" x=\"38.5\" y=\"109.9526\">i: Integer</text><text fill=\"#000000\" font-family=\"sans-serif\" font-size=\"11\" lengthAdjust=\"spacingAndGlyphs\" textLength=\"21\" x=\"38.5\" y=\"122.7573\">x: A</text><line style=\"stroke: #383838; stroke-width: 1.0;\" x1=\"33.5\" x2=\"52.5\" y1=\"93.3398\" y2=\"93.3398\"/><text fill=\"#000000\" font-family=\"sans-serif\" font-size=\"11\" lengthAdjust=\"spacingAndGlyphs\" textLength=\"55\" x=\"52.5\" y=\"96.6479\">attributes</text><line style=\"stroke: #383838; stroke-width: 1.0;\" x1=\"107.5\" x2=\"126.5\" y1=\"93.3398\" y2=\"93.3398\"/></a><!--MD5=[15ebcb19ae302d9b601edb458606d402]\n",
       "link E5 to E2--><a href=\"psysml:a788c1ae-8502-4aea-9d8b-5a5d865c76a9\" target=\"_top\" title=\"psysml:a788c1ae-8502-4aea-9d8b-5a5d865c76a9\" xlink:actuate=\"onRequest\" xlink:href=\"psysml:a788c1ae-8502-4aea-9d8b-5a5d865c76a9\" xlink:show=\"new\" xlink:title=\"psysml:a788c1ae-8502-4aea-9d8b-5a5d865c76a9\" xlink:type=\"simple\"><path d=\"M562.12,108.06 C556.83,125 549.38,148.89 542.98,169.39 \" fill=\"none\" id=\"E5-&gt;E2\" style=\"stroke: #383838; stroke-width: 1.0;\"/><polygon fill=\"#FFFFFF\" points=\"536.95,188.74,535.929,168.5173,549.2931,172.6886,536.95,188.74\" style=\"stroke: #383838; stroke-width: 1.0;\"/><ellipse cx=\"539.5364\" cy=\"163.6721\" fill=\"#383838\" rx=\"2\" ry=\"2\" style=\"stroke: #383838; stroke-width: 1.0;\"/><ellipse cx=\"549.0823\" cy=\"166.6516\" fill=\"#383838\" rx=\"2\" ry=\"2\" style=\"stroke: #383838; stroke-width: 1.0;\"/></a><!--MD5=[2351f337d6de0f557b50152ba70847b5]\n",
       "link E6 to E2--><a href=\"psysml:96c9e024-7b1d-4ba9-883a-860d4899a00e\" target=\"_top\" title=\"psysml:96c9e024-7b1d-4ba9-883a-860d4899a00e\" xlink:actuate=\"onRequest\" xlink:href=\"psysml:96c9e024-7b1d-4ba9-883a-860d4899a00e\" xlink:show=\"new\" xlink:title=\"psysml:96c9e024-7b1d-4ba9-883a-860d4899a00e\" xlink:type=\"simple\"><path d=\"M498.71,108.06 C503.86,125 511.12,148.89 517.35,169.39 \" fill=\"none\" id=\"E6-&gt;E2\" style=\"stroke: #383838; stroke-width: 1.0;\"/><polygon fill=\"#FFFFFF\" points=\"523.23,188.74,511.007,172.597,524.4019,168.5255,523.23,188.74\" style=\"stroke: #383838; stroke-width: 1.0;\"/><ellipse cx=\"511.2628\" cy=\"166.5617\" fill=\"#383838\" rx=\"2\" ry=\"2\" style=\"stroke: #383838; stroke-width: 1.0;\"/><ellipse cx=\"520.8306\" cy=\"163.6535\" fill=\"#383838\" rx=\"2\" ry=\"2\" style=\"stroke: #383838; stroke-width: 1.0;\"/></a><!--MD5=[00eaef5344c30a8ae9dfaff4d459c045]\n",
       "@startuml\r\n",
       "top to bottom direction\r\n",
       "skinparam monochrome true\r\n",
       "skinparam classbackgroundcolor white\r\n",
       "skinparam shadowing false\r\n",
       "skinparam wrapWidth 300\r\n",
       "hide circle\r\n",
       "\r\n",
       "package \"MultiplicityTest\" as E1  [[psysml:04657276-263c-446b-8b63-b81fdc3bdb65 ]]  {\r\n",
       "comp def \"P\" as E2  <<(T,blue) part def>> [[psysml:68eb8761-ff46-4523-ba58-41a062b6cb94 ]] {\r\n",
       "}\r\n",
       "comp usage \"n: Integer\" as E3  <<(T,blue) attribute>> [[psysml:c2c67205-2617-478d-9839-9411bc2f8511 ]] {\r\n",
       "}\r\n",
       "comp usage \"a\" as E4  <<(T,blue) part>> [[psysml:fbb3215b-67d9-4514-b40f-6d8c33165593 ]] {\r\n",
       "}\r\n",
       "comp usage \"b: P\" as E5  <<(T,blue) part>> [[psysml:d1ff5ca6-7417-4682-b046-127881647fcb ]] {\r\n",
       "}\r\n",
       "comp usage \"c: P\" as E6  <<(T,blue) part>> [[psysml:20d627d7-8daa-4ea4-8c0c-0e67ee5e3616 ]] {\r\n",
       "}\r\n",
       "comp usage \"d\" as E7  <<(T,blue) part>> [[psysml:4fc87a01-ac01-48e0-9821-1b5b80a637f1 ]] {\r\n",
       "}\r\n",
       "comp usage \"e\" as E8  <<(T,blue) part>> [[psysml:e7c3b12c-9054-4127-bd5f-a31eeffec0a6 ]] {\r\n",
       "}\r\n",
       "comp usage \"f\" as E9  <<(T,blue) part>> [[psysml:49b700d2-d9c4-4257-84cb-c65bfac2aa08 ]] {\r\n",
       "}\r\n",
       "comp usage \"g\" as E10  <<(T,blue) part>> [[psysml:20161f3e-4930-46fe-a17d-f79ec2a77aae ]] {\r\n",
       "}\r\n",
       "comp def \"A\" as E11  <<(T,blue) attribute def>> [[psysml:958dabfe-3a24-44d8-9bca-d5e375f56ac2 ]] {\r\n",
       "- - attributes - -\r\n",
       "i: Integer\r\n",
       "x: A\r\n",
       "}\r\n",
       "E5 - -:|> E2 [[psysml:a788c1ae-8502-4aea-9d8b-5a5d865c76a9 ]] \r\n",
       "E6 - -:|> E2 [[psysml:96c9e024-7b1d-4ba9-883a-860d4899a00e ]] \r\n",
       "}\r\n",
       "@enduml\r\n",
       "\n",
       "PlantUML version 1.2020.13(Sat Jun 13 12:26:38 UTC 2020)\n",
       "(EPL source distribution)\n",
       "Java Runtime: OpenJDK Runtime Environment\n",
       "JVM: OpenJDK 64-Bit Server VM\n",
       "Default Encoding: UTF-8\n",
       "Language: en\n",
       "Country: null\n",
       "--></g></svg>"
      ]
     },
     "execution_count": 45,
     "metadata": {},
     "output_type": "execute_result"
    }
   ],
   "source": [
    "%viz --style=\"TB\" --view=\"Tree\" \"MultiplicityTest\""
   ]
  },
  {
   "cell_type": "code",
   "execution_count": 46,
   "id": "12df7209",
   "metadata": {
    "execution": {
     "iopub.execute_input": "2021-08-04T06:29:53.099363Z",
     "iopub.status.busy": "2021-08-04T06:29:53.098945Z",
     "iopub.status.idle": "2021-08-04T06:29:53.103171Z",
     "shell.execute_reply": "2021-08-04T06:29:53.102812Z"
    }
   },
   "outputs": [
    {
     "data": {
      "image/svg+xml": [
       "<?xml version=\"1.0\" encoding=\"UTF-8\" standalone=\"no\"?><svg xmlns=\"http://www.w3.org/2000/svg\" xmlns:xlink=\"http://www.w3.org/1999/xlink\" contentScriptType=\"application/ecmascript\" contentStyleType=\"text/css\" height=\"12px\" preserveAspectRatio=\"none\" style=\"width:12px;height:12px;\" version=\"1.1\" viewBox=\"0 0 12 12\" width=\"12px\" zoomAndPan=\"magnify\"><defs/><g><!--MD5=[f4ee21bc66e489b5061b7c3e9601fdef]\n",
       "@startuml\r\n",
       "top to bottom direction\r\n",
       "skinparam monochrome true\r\n",
       "skinparam classbackgroundcolor white\r\n",
       "skinparam shadowing false\r\n",
       "skinparam wrapWidth 300\r\n",
       "hide circle\r\n",
       "\r\n",
       "@enduml\r\n",
       "\n",
       "PlantUML version 1.2020.13(Sat Jun 13 12:26:38 UTC 2020)\n",
       "(EPL source distribution)\n",
       "Java Runtime: OpenJDK Runtime Environment\n",
       "JVM: OpenJDK 64-Bit Server VM\n",
       "Default Encoding: UTF-8\n",
       "Language: en\n",
       "Country: null\n",
       "--></g></svg>"
      ]
     },
     "execution_count": 46,
     "metadata": {},
     "output_type": "execute_result"
    }
   ],
   "source": [
    "%viz --style=\"TB\" --view=\"State\" \"MultiplicityTest\""
   ]
  },
  {
   "cell_type": "code",
   "execution_count": 47,
   "id": "1cc6f119",
   "metadata": {
    "execution": {
     "iopub.execute_input": "2021-08-04T06:29:53.153012Z",
     "iopub.status.busy": "2021-08-04T06:29:53.152573Z",
     "iopub.status.idle": "2021-08-04T06:29:53.179491Z",
     "shell.execute_reply": "2021-08-04T06:29:53.179296Z"
    }
   },
   "outputs": [
    {
     "data": {
      "image/svg+xml": [
       "<?xml version=\"1.0\" encoding=\"UTF-8\" standalone=\"no\"?><svg xmlns=\"http://www.w3.org/2000/svg\" xmlns:xlink=\"http://www.w3.org/1999/xlink\" contentScriptType=\"application/ecmascript\" contentStyleType=\"text/css\" height=\"115px\" preserveAspectRatio=\"none\" style=\"width:979px;height:115px;\" version=\"1.1\" viewBox=\"0 0 979 115\" width=\"979px\" zoomAndPan=\"magnify\"><defs/><g><!--MD5=[fbc87193dbaf4d95561dea2c320d4a47]\n",
       "cluster E1--><a href=\"psysml:04657276-263c-446b-8b63-b81fdc3bdb65\" target=\"_top\" title=\"psysml:04657276-263c-446b-8b63-b81fdc3bdb65\" xlink:actuate=\"onRequest\" xlink:href=\"psysml:04657276-263c-446b-8b63-b81fdc3bdb65\" xlink:show=\"new\" xlink:title=\"psysml:04657276-263c-446b-8b63-b81fdc3bdb65\" xlink:type=\"simple\"><polygon fill=\"#FFFFFF\" points=\"16,6,140,6,147,28.2969,957,28.2969,957,103,16,103,16,6\" style=\"stroke: #000000; stroke-width: 1.5;\"/><line style=\"stroke: #000000; stroke-width: 1.5;\" x1=\"16\" x2=\"147\" y1=\"28.2969\" y2=\"28.2969\"/><text fill=\"#000000\" font-family=\"sans-serif\" font-size=\"14\" font-weight=\"bold\" lengthAdjust=\"spacingAndGlyphs\" textLength=\"118\" x=\"20\" y=\"20.9951\">MultiplicityTest</text></a><!--MD5=[09b614a08d8cba4a07c9adeb5e0fee81]\n",
       "class E3--><a href=\"psysml:c2c67205-2617-478d-9839-9411bc2f8511\" target=\"_top\" title=\"psysml:c2c67205-2617-478d-9839-9411bc2f8511\" xlink:actuate=\"onRequest\" xlink:href=\"psysml:c2c67205-2617-478d-9839-9411bc2f8511\" xlink:show=\"new\" xlink:title=\"psysml:c2c67205-2617-478d-9839-9411bc2f8511\" xlink:type=\"simple\"><rect fill=\"#FFFFFF\" height=\"45.9375\" id=\"E3\" rx=\"10\" ry=\"10\" style=\"stroke: #383838; stroke-width: 1.5;\" width=\"71\" x=\"869.5\" y=\"41\"/><text fill=\"#000000\" font-family=\"sans-serif\" font-size=\"12\" font-style=\"italic\" lengthAdjust=\"spacingAndGlyphs\" textLength=\"69\" x=\"870.5\" y=\"57.1387\">«attribute»</text><text fill=\"#000000\" font-family=\"sans-serif\" font-size=\"12\" lengthAdjust=\"spacingAndGlyphs\" textLength=\"61\" x=\"874.5\" y=\"71.1074\">n: Integer</text><line style=\"stroke: #383838; stroke-width: 1.5;\" x1=\"870.5\" x2=\"939.5\" y1=\"78.9375\" y2=\"78.9375\"/></a><g id=\"E1.E11\"><a href=\"psysml:958dabfe-3a24-44d8-9bca-d5e375f56ac2\" target=\"_top\" title=\"psysml:958dabfe-3a24-44d8-9bca-d5e375f56ac2\" xlink:actuate=\"onRequest\" xlink:href=\"psysml:958dabfe-3a24-44d8-9bca-d5e375f56ac2\" xlink:show=\"new\" xlink:title=\"psysml:958dabfe-3a24-44d8-9bca-d5e375f56ac2\" xlink:type=\"simple\"><rect fill=\"#FFFFFF\" height=\"42.9375\" id=\"E11\" style=\"stroke: #383838; stroke-width: 1.5;\" width=\"100\" x=\"734\" y=\"42.5\"/><rect fill=\"#F8F8F8\" height=\"37.9375\" style=\"stroke: #383838; stroke-width: 1.5;\" width=\"100\" x=\"734\" y=\"42.5\"/><text fill=\"#000000\" font-family=\"sans-serif\" font-size=\"12\" font-style=\"italic\" lengthAdjust=\"spacingAndGlyphs\" textLength=\"93\" x=\"737.5\" y=\"58.6387\">«attribute def»</text><text fill=\"#000000\" font-family=\"sans-serif\" font-size=\"12\" lengthAdjust=\"spacingAndGlyphs\" textLength=\"8\" x=\"780\" y=\"72.6074\">A</text></a></g><g id=\"E1.E2\"><a href=\"psysml:68eb8761-ff46-4523-ba58-41a062b6cb94\" target=\"_top\" title=\"psysml:68eb8761-ff46-4523-ba58-41a062b6cb94\" xlink:actuate=\"onRequest\" xlink:href=\"psysml:68eb8761-ff46-4523-ba58-41a062b6cb94\" xlink:show=\"new\" xlink:title=\"psysml:68eb8761-ff46-4523-ba58-41a062b6cb94\" xlink:type=\"simple\"><rect fill=\"#FFFFFF\" height=\"42.9375\" id=\"E2\" style=\"stroke: #383838; stroke-width: 1.5;\" width=\"71\" x=\"627.5\" y=\"42.5\"/><rect fill=\"#F8F8F8\" height=\"37.9375\" style=\"stroke: #383838; stroke-width: 1.5;\" width=\"71\" x=\"627.5\" y=\"42.5\"/><text fill=\"#000000\" font-family=\"sans-serif\" font-size=\"12\" font-style=\"italic\" lengthAdjust=\"spacingAndGlyphs\" textLength=\"64\" x=\"631\" y=\"58.6387\">«part def»</text><text fill=\"#000000\" font-family=\"sans-serif\" font-size=\"12\" lengthAdjust=\"spacingAndGlyphs\" textLength=\"8\" x=\"659\" y=\"72.6074\">P</text></a></g><g id=\"E1.E4\"><a href=\"psysml:fbb3215b-67d9-4514-b40f-6d8c33165593\" target=\"_top\" title=\"psysml:fbb3215b-67d9-4514-b40f-6d8c33165593\" xlink:actuate=\"onRequest\" xlink:href=\"psysml:fbb3215b-67d9-4514-b40f-6d8c33165593\" xlink:show=\"new\" xlink:title=\"psysml:fbb3215b-67d9-4514-b40f-6d8c33165593\" xlink:type=\"simple\"><rect fill=\"#FFFFFF\" height=\"40\" id=\"E4\" rx=\"10\" ry=\"10\" style=\"stroke: #383838; stroke-width: 1.5;\" width=\"50\" x=\"542\" y=\"44\"/><rect fill=\"#F8F8F8\" height=\"23.9688\" rx=\"10\" ry=\"10\" style=\"stroke: #F8F8F8; stroke-width: 1.5;\" width=\"50\" x=\"542\" y=\"44\"/><rect fill=\"#F8F8F8\" height=\"10\" style=\"stroke: #F8F8F8; stroke-width: 1.5;\" width=\"50\" x=\"542\" y=\"57.9688\"/><rect fill=\"none\" height=\"40\" id=\"E4\" rx=\"10\" ry=\"10\" style=\"stroke: #383838; stroke-width: 1.5;\" width=\"50\" x=\"542\" y=\"44\"/><text fill=\"#000000\" font-family=\"sans-serif\" font-size=\"12\" lengthAdjust=\"spacingAndGlyphs\" textLength=\"8\" x=\"563\" y=\"60.1387\">a</text></a></g><g id=\"E1.E5\"><a href=\"psysml:d1ff5ca6-7417-4682-b046-127881647fcb\" target=\"_top\" title=\"psysml:d1ff5ca6-7417-4682-b046-127881647fcb\" xlink:actuate=\"onRequest\" xlink:href=\"psysml:d1ff5ca6-7417-4682-b046-127881647fcb\" xlink:show=\"new\" xlink:title=\"psysml:d1ff5ca6-7417-4682-b046-127881647fcb\" xlink:type=\"simple\"><rect fill=\"#FFFFFF\" height=\"40\" id=\"E5\" rx=\"10\" ry=\"10\" style=\"stroke: #383838; stroke-width: 1.5;\" width=\"50\" x=\"457\" y=\"44\"/><rect fill=\"#F8F8F8\" height=\"23.9688\" rx=\"10\" ry=\"10\" style=\"stroke: #F8F8F8; stroke-width: 1.5;\" width=\"50\" x=\"457\" y=\"44\"/><rect fill=\"#F8F8F8\" height=\"10\" style=\"stroke: #F8F8F8; stroke-width: 1.5;\" width=\"50\" x=\"457\" y=\"57.9688\"/><rect fill=\"none\" height=\"40\" id=\"E5\" rx=\"10\" ry=\"10\" style=\"stroke: #383838; stroke-width: 1.5;\" width=\"50\" x=\"457\" y=\"44\"/><text fill=\"#000000\" font-family=\"sans-serif\" font-size=\"12\" lengthAdjust=\"spacingAndGlyphs\" textLength=\"24\" x=\"470\" y=\"60.1387\">b: P</text></a></g><g id=\"E1.E6\"><a href=\"psysml:20d627d7-8daa-4ea4-8c0c-0e67ee5e3616\" target=\"_top\" title=\"psysml:20d627d7-8daa-4ea4-8c0c-0e67ee5e3616\" xlink:actuate=\"onRequest\" xlink:href=\"psysml:20d627d7-8daa-4ea4-8c0c-0e67ee5e3616\" xlink:show=\"new\" xlink:title=\"psysml:20d627d7-8daa-4ea4-8c0c-0e67ee5e3616\" xlink:type=\"simple\"><rect fill=\"#FFFFFF\" height=\"40\" id=\"E6\" rx=\"10\" ry=\"10\" style=\"stroke: #383838; stroke-width: 1.5;\" width=\"50\" x=\"372\" y=\"44\"/><rect fill=\"#F8F8F8\" height=\"23.9688\" rx=\"10\" ry=\"10\" style=\"stroke: #F8F8F8; stroke-width: 1.5;\" width=\"50\" x=\"372\" y=\"44\"/><rect fill=\"#F8F8F8\" height=\"10\" style=\"stroke: #F8F8F8; stroke-width: 1.5;\" width=\"50\" x=\"372\" y=\"57.9688\"/><rect fill=\"none\" height=\"40\" id=\"E6\" rx=\"10\" ry=\"10\" style=\"stroke: #383838; stroke-width: 1.5;\" width=\"50\" x=\"372\" y=\"44\"/><text fill=\"#000000\" font-family=\"sans-serif\" font-size=\"12\" lengthAdjust=\"spacingAndGlyphs\" textLength=\"23\" x=\"385.5\" y=\"60.1387\">c: P</text></a></g><g id=\"E1.E7\"><a href=\"psysml:4fc87a01-ac01-48e0-9821-1b5b80a637f1\" target=\"_top\" title=\"psysml:4fc87a01-ac01-48e0-9821-1b5b80a637f1\" xlink:actuate=\"onRequest\" xlink:href=\"psysml:4fc87a01-ac01-48e0-9821-1b5b80a637f1\" xlink:show=\"new\" xlink:title=\"psysml:4fc87a01-ac01-48e0-9821-1b5b80a637f1\" xlink:type=\"simple\"><rect fill=\"#FFFFFF\" height=\"40\" id=\"E7\" rx=\"10\" ry=\"10\" style=\"stroke: #383838; stroke-width: 1.5;\" width=\"50\" x=\"287\" y=\"44\"/><rect fill=\"#F8F8F8\" height=\"23.9688\" rx=\"10\" ry=\"10\" style=\"stroke: #F8F8F8; stroke-width: 1.5;\" width=\"50\" x=\"287\" y=\"44\"/><rect fill=\"#F8F8F8\" height=\"10\" style=\"stroke: #F8F8F8; stroke-width: 1.5;\" width=\"50\" x=\"287\" y=\"57.9688\"/><rect fill=\"none\" height=\"40\" id=\"E7\" rx=\"10\" ry=\"10\" style=\"stroke: #383838; stroke-width: 1.5;\" width=\"50\" x=\"287\" y=\"44\"/><text fill=\"#000000\" font-family=\"sans-serif\" font-size=\"12\" lengthAdjust=\"spacingAndGlyphs\" textLength=\"8\" x=\"308\" y=\"60.1387\">d</text></a></g><g id=\"E1.E8\"><a href=\"psysml:e7c3b12c-9054-4127-bd5f-a31eeffec0a6\" target=\"_top\" title=\"psysml:e7c3b12c-9054-4127-bd5f-a31eeffec0a6\" xlink:actuate=\"onRequest\" xlink:href=\"psysml:e7c3b12c-9054-4127-bd5f-a31eeffec0a6\" xlink:show=\"new\" xlink:title=\"psysml:e7c3b12c-9054-4127-bd5f-a31eeffec0a6\" xlink:type=\"simple\"><rect fill=\"#FFFFFF\" height=\"40\" id=\"E8\" rx=\"10\" ry=\"10\" style=\"stroke: #383838; stroke-width: 1.5;\" width=\"50\" x=\"202\" y=\"44\"/><rect fill=\"#F8F8F8\" height=\"23.9688\" rx=\"10\" ry=\"10\" style=\"stroke: #F8F8F8; stroke-width: 1.5;\" width=\"50\" x=\"202\" y=\"44\"/><rect fill=\"#F8F8F8\" height=\"10\" style=\"stroke: #F8F8F8; stroke-width: 1.5;\" width=\"50\" x=\"202\" y=\"57.9688\"/><rect fill=\"none\" height=\"40\" id=\"E8\" rx=\"10\" ry=\"10\" style=\"stroke: #383838; stroke-width: 1.5;\" width=\"50\" x=\"202\" y=\"44\"/><text fill=\"#000000\" font-family=\"sans-serif\" font-size=\"12\" lengthAdjust=\"spacingAndGlyphs\" textLength=\"8\" x=\"223\" y=\"60.1387\">e</text></a></g><g id=\"E1.E9\"><a href=\"psysml:49b700d2-d9c4-4257-84cb-c65bfac2aa08\" target=\"_top\" title=\"psysml:49b700d2-d9c4-4257-84cb-c65bfac2aa08\" xlink:actuate=\"onRequest\" xlink:href=\"psysml:49b700d2-d9c4-4257-84cb-c65bfac2aa08\" xlink:show=\"new\" xlink:title=\"psysml:49b700d2-d9c4-4257-84cb-c65bfac2aa08\" xlink:type=\"simple\"><rect fill=\"#FFFFFF\" height=\"40\" id=\"E9\" rx=\"10\" ry=\"10\" style=\"stroke: #383838; stroke-width: 1.5;\" width=\"50\" x=\"117\" y=\"44\"/><rect fill=\"#F8F8F8\" height=\"23.9688\" rx=\"10\" ry=\"10\" style=\"stroke: #F8F8F8; stroke-width: 1.5;\" width=\"50\" x=\"117\" y=\"44\"/><rect fill=\"#F8F8F8\" height=\"10\" style=\"stroke: #F8F8F8; stroke-width: 1.5;\" width=\"50\" x=\"117\" y=\"57.9688\"/><rect fill=\"none\" height=\"40\" id=\"E9\" rx=\"10\" ry=\"10\" style=\"stroke: #383838; stroke-width: 1.5;\" width=\"50\" x=\"117\" y=\"44\"/><text fill=\"#000000\" font-family=\"sans-serif\" font-size=\"12\" lengthAdjust=\"spacingAndGlyphs\" textLength=\"4\" x=\"140\" y=\"60.1387\">f</text></a></g><g id=\"E1.E10\"><a href=\"psysml:20161f3e-4930-46fe-a17d-f79ec2a77aae\" target=\"_top\" title=\"psysml:20161f3e-4930-46fe-a17d-f79ec2a77aae\" xlink:actuate=\"onRequest\" xlink:href=\"psysml:20161f3e-4930-46fe-a17d-f79ec2a77aae\" xlink:show=\"new\" xlink:title=\"psysml:20161f3e-4930-46fe-a17d-f79ec2a77aae\" xlink:type=\"simple\"><rect fill=\"#FFFFFF\" height=\"40\" id=\"E10\" rx=\"10\" ry=\"10\" style=\"stroke: #383838; stroke-width: 1.5;\" width=\"50\" x=\"32\" y=\"44\"/><rect fill=\"#F8F8F8\" height=\"23.9688\" rx=\"10\" ry=\"10\" style=\"stroke: #F8F8F8; stroke-width: 1.5;\" width=\"50\" x=\"32\" y=\"44\"/><rect fill=\"#F8F8F8\" height=\"10\" style=\"stroke: #F8F8F8; stroke-width: 1.5;\" width=\"50\" x=\"32\" y=\"57.9688\"/><rect fill=\"none\" height=\"40\" id=\"E10\" rx=\"10\" ry=\"10\" style=\"stroke: #383838; stroke-width: 1.5;\" width=\"50\" x=\"32\" y=\"44\"/><text fill=\"#000000\" font-family=\"sans-serif\" font-size=\"12\" lengthAdjust=\"spacingAndGlyphs\" textLength=\"8\" x=\"53\" y=\"60.1387\">g</text></a></g><!--MD5=[62733c1f791d746a63dc7fd530796e77]\n",
       "@startuml\r\n",
       "skinparam ranksep 10\r\n",
       "skinparam rectangle {\r\n",
       " backgroundColor<<block>> LightGreen\r\n",
       "}\r\n",
       "top to bottom direction\r\n",
       "skinparam monochrome true\r\n",
       "skinparam classbackgroundcolor white\r\n",
       "skinparam shadowing false\r\n",
       "skinparam wrapWidth 300\r\n",
       "hide circle\r\n",
       "\r\n",
       "package \"MultiplicityTest\" as E1  [[psysml:04657276-263c-446b-8b63-b81fdc3bdb65 ]]  {\r\n",
       "rec def \"P\" as E2  <<(T,blue) part def>> [[psysml:68eb8761-ff46-4523-ba58-41a062b6cb94 ]] {\r\n",
       "}\r\n",
       "comp usage \"n: Integer\" as E3  <<(T,blue) attribute>> [[psysml:c2c67205-2617-478d-9839-9411bc2f8511 ]] {\r\n",
       "}\r\n",
       "rec usage \"a\" as E4  [[psysml:fbb3215b-67d9-4514-b40f-6d8c33165593 ]] {\r\n",
       "}\r\n",
       "rec usage \"b: P\" as E5  [[psysml:d1ff5ca6-7417-4682-b046-127881647fcb ]] {\r\n",
       "}\r\n",
       "rec usage \"c: P\" as E6  [[psysml:20d627d7-8daa-4ea4-8c0c-0e67ee5e3616 ]] {\r\n",
       "}\r\n",
       "rec usage \"d\" as E7  [[psysml:4fc87a01-ac01-48e0-9821-1b5b80a637f1 ]] {\r\n",
       "}\r\n",
       "rec usage \"e\" as E8  [[psysml:e7c3b12c-9054-4127-bd5f-a31eeffec0a6 ]] {\r\n",
       "}\r\n",
       "rec usage \"f\" as E9  [[psysml:49b700d2-d9c4-4257-84cb-c65bfac2aa08 ]] {\r\n",
       "}\r\n",
       "rec usage \"g\" as E10  [[psysml:20161f3e-4930-46fe-a17d-f79ec2a77aae ]] {\r\n",
       "}\r\n",
       "def \"A\" as E11  <<(T,blue) attribute def>> [[psysml:958dabfe-3a24-44d8-9bca-d5e375f56ac2 ]] \r\n",
       "}\r\n",
       "@enduml\r\n",
       "\n",
       "PlantUML version 1.2020.13(Sat Jun 13 12:26:38 UTC 2020)\n",
       "(EPL source distribution)\n",
       "Java Runtime: OpenJDK Runtime Environment\n",
       "JVM: OpenJDK 64-Bit Server VM\n",
       "Default Encoding: UTF-8\n",
       "Language: en\n",
       "Country: null\n",
       "--></g></svg>"
      ]
     },
     "execution_count": 47,
     "metadata": {},
     "output_type": "execute_result"
    }
   ],
   "source": [
    "%viz --style=\"TB\" --view=\"Interconnection\" \"MultiplicityTest\""
   ]
  },
  {
   "cell_type": "code",
   "execution_count": 48,
   "id": "c983c7eb",
   "metadata": {
    "execution": {
     "iopub.execute_input": "2021-08-04T06:29:53.229959Z",
     "iopub.status.busy": "2021-08-04T06:29:53.229559Z",
     "iopub.status.idle": "2021-08-04T06:29:53.234797Z",
     "shell.execute_reply": "2021-08-04T06:29:53.234462Z"
    }
   },
   "outputs": [
    {
     "data": {
      "image/svg+xml": [
       "<?xml version=\"1.0\" encoding=\"UTF-8\" standalone=\"no\"?><svg xmlns=\"http://www.w3.org/2000/svg\" xmlns:xlink=\"http://www.w3.org/1999/xlink\" contentScriptType=\"application/ecmascript\" contentStyleType=\"text/css\" height=\"12px\" preserveAspectRatio=\"none\" style=\"width:12px;height:12px;\" version=\"1.1\" viewBox=\"0 0 12 12\" width=\"12px\" zoomAndPan=\"magnify\"><defs/><g><!--MD5=[06afc254b03ac5e9d9fb7773b07d0800]\n",
       "@startuml\r\n",
       "skinparam ranksep 8\r\n",
       "top to bottom direction\r\n",
       "skinparam monochrome true\r\n",
       "skinparam classbackgroundcolor white\r\n",
       "skinparam shadowing false\r\n",
       "skinparam wrapWidth 300\r\n",
       "hide circle\r\n",
       "\r\n",
       "@enduml\r\n",
       "\n",
       "PlantUML version 1.2020.13(Sat Jun 13 12:26:38 UTC 2020)\n",
       "(EPL source distribution)\n",
       "Java Runtime: OpenJDK Runtime Environment\n",
       "JVM: OpenJDK 64-Bit Server VM\n",
       "Default Encoding: UTF-8\n",
       "Language: en\n",
       "Country: null\n",
       "--></g></svg>"
      ]
     },
     "execution_count": 48,
     "metadata": {},
     "output_type": "execute_result"
    }
   ],
   "source": [
    "%viz --style=\"TB\" --view=\"Action\" \"MultiplicityTest\""
   ]
  },
  {
   "cell_type": "code",
   "execution_count": 49,
   "id": "c5812b2e",
   "metadata": {
    "execution": {
     "iopub.execute_input": "2021-08-04T06:29:53.285315Z",
     "iopub.status.busy": "2021-08-04T06:29:53.284884Z",
     "iopub.status.idle": "2021-08-04T06:29:53.332033Z",
     "shell.execute_reply": "2021-08-04T06:29:53.331667Z"
    }
   },
   "outputs": [
    {
     "data": {
      "image/svg+xml": [
       "<?xml version=\"1.0\" encoding=\"UTF-8\" standalone=\"no\"?><svg xmlns=\"http://www.w3.org/2000/svg\" xmlns:xlink=\"http://www.w3.org/1999/xlink\" contentScriptType=\"application/ecmascript\" contentStyleType=\"text/css\" height=\"263px\" preserveAspectRatio=\"none\" style=\"width:812px;height:263px;\" version=\"1.1\" viewBox=\"0 0 812 263\" width=\"812px\" zoomAndPan=\"magnify\"><defs/><g><!--MD5=[fbc87193dbaf4d95561dea2c320d4a47]\n",
       "cluster E1--><a href=\"psysml:04657276-263c-446b-8b63-b81fdc3bdb65\" target=\"_top\" title=\"psysml:04657276-263c-446b-8b63-b81fdc3bdb65\" xlink:actuate=\"onRequest\" xlink:href=\"psysml:04657276-263c-446b-8b63-b81fdc3bdb65\" xlink:show=\"new\" xlink:title=\"psysml:04657276-263c-446b-8b63-b81fdc3bdb65\" xlink:type=\"simple\"><polygon fill=\"#FFFFFF\" points=\"16,6,140,6,147,28.2969,790,28.2969,790,251,16,251,16,6\" style=\"stroke: #000000; stroke-width: 1.5;\"/><line style=\"stroke: #000000; stroke-width: 1.5;\" x1=\"16\" x2=\"147\" y1=\"28.2969\" y2=\"28.2969\"/><text fill=\"#000000\" font-family=\"sans-serif\" font-size=\"14\" font-weight=\"bold\" lengthAdjust=\"spacingAndGlyphs\" textLength=\"118\" x=\"20\" y=\"20.9951\">MultiplicityTest</text></a><!--MD5=[b4997ac47864f28c2f74865a473b2911]\n",
       "class E2--><a href=\"psysml:68eb8761-ff46-4523-ba58-41a062b6cb94\" target=\"_top\" title=\"psysml:68eb8761-ff46-4523-ba58-41a062b6cb94\" xlink:actuate=\"onRequest\" xlink:href=\"psysml:68eb8761-ff46-4523-ba58-41a062b6cb94\" xlink:show=\"new\" xlink:title=\"psysml:68eb8761-ff46-4523-ba58-41a062b6cb94\" xlink:type=\"simple\"><rect fill=\"#FFFFFF\" height=\"45.9375\" id=\"E2\" style=\"stroke: #383838; stroke-width: 1.5;\" width=\"66\" x=\"497\" y=\"189\"/><text fill=\"#000000\" font-family=\"sans-serif\" font-size=\"12\" font-style=\"italic\" lengthAdjust=\"spacingAndGlyphs\" textLength=\"64\" x=\"498\" y=\"205.1387\">«part def»</text><text fill=\"#000000\" font-family=\"sans-serif\" font-size=\"12\" lengthAdjust=\"spacingAndGlyphs\" textLength=\"8\" x=\"526\" y=\"219.1074\">P</text><line style=\"stroke: #383838; stroke-width: 1.5;\" x1=\"498\" x2=\"562\" y1=\"226.9375\" y2=\"226.9375\"/></a><!--MD5=[09b614a08d8cba4a07c9adeb5e0fee81]\n",
       "class E3--><a href=\"psysml:c2c67205-2617-478d-9839-9411bc2f8511\" target=\"_top\" title=\"psysml:c2c67205-2617-478d-9839-9411bc2f8511\" xlink:actuate=\"onRequest\" xlink:href=\"psysml:c2c67205-2617-478d-9839-9411bc2f8511\" xlink:show=\"new\" xlink:title=\"psysml:c2c67205-2617-478d-9839-9411bc2f8511\" xlink:type=\"simple\"><rect fill=\"#FFFFFF\" height=\"45.9375\" id=\"E3\" rx=\"10\" ry=\"10\" style=\"stroke: #383838; stroke-width: 1.5;\" width=\"71\" x=\"702.5\" y=\"62\"/><text fill=\"#000000\" font-family=\"sans-serif\" font-size=\"12\" font-style=\"italic\" lengthAdjust=\"spacingAndGlyphs\" textLength=\"69\" x=\"703.5\" y=\"78.1387\">«attribute»</text><text fill=\"#000000\" font-family=\"sans-serif\" font-size=\"12\" lengthAdjust=\"spacingAndGlyphs\" textLength=\"61\" x=\"707.5\" y=\"92.1074\">n: Integer</text><line style=\"stroke: #383838; stroke-width: 1.5;\" x1=\"703.5\" x2=\"772.5\" y1=\"99.9375\" y2=\"99.9375\"/></a><!--MD5=[ebbe1d658d1005bcc118a6aa81145e00]\n",
       "class E4--><a href=\"psysml:fbb3215b-67d9-4514-b40f-6d8c33165593\" target=\"_top\" title=\"psysml:fbb3215b-67d9-4514-b40f-6d8c33165593\" xlink:actuate=\"onRequest\" xlink:href=\"psysml:fbb3215b-67d9-4514-b40f-6d8c33165593\" xlink:show=\"new\" xlink:title=\"psysml:fbb3215b-67d9-4514-b40f-6d8c33165593\" xlink:type=\"simple\"><rect fill=\"#FFFFFF\" height=\"45.9375\" id=\"E4\" rx=\"10\" ry=\"10\" style=\"stroke: #383838; stroke-width: 1.5;\" width=\"42\" x=\"625\" y=\"62\"/><text fill=\"#000000\" font-family=\"sans-serif\" font-size=\"12\" font-style=\"italic\" lengthAdjust=\"spacingAndGlyphs\" textLength=\"40\" x=\"626\" y=\"78.1387\">«part»</text><text fill=\"#000000\" font-family=\"sans-serif\" font-size=\"12\" lengthAdjust=\"spacingAndGlyphs\" textLength=\"8\" x=\"642\" y=\"92.1074\">a</text><line style=\"stroke: #383838; stroke-width: 1.5;\" x1=\"626\" x2=\"666\" y1=\"99.9375\" y2=\"99.9375\"/></a><!--MD5=[270fce915f116d4de14055a7c1d9a0f3]\n",
       "class E5--><a href=\"psysml:d1ff5ca6-7417-4682-b046-127881647fcb\" target=\"_top\" title=\"psysml:d1ff5ca6-7417-4682-b046-127881647fcb\" xlink:actuate=\"onRequest\" xlink:href=\"psysml:d1ff5ca6-7417-4682-b046-127881647fcb\" xlink:show=\"new\" xlink:title=\"psysml:d1ff5ca6-7417-4682-b046-127881647fcb\" xlink:type=\"simple\"><rect fill=\"#FFFFFF\" height=\"45.9375\" id=\"E5\" rx=\"10\" ry=\"10\" style=\"stroke: #383838; stroke-width: 1.5;\" width=\"42\" x=\"548\" y=\"62\"/><text fill=\"#000000\" font-family=\"sans-serif\" font-size=\"12\" font-style=\"italic\" lengthAdjust=\"spacingAndGlyphs\" textLength=\"40\" x=\"549\" y=\"78.1387\">«part»</text><text fill=\"#000000\" font-family=\"sans-serif\" font-size=\"12\" lengthAdjust=\"spacingAndGlyphs\" textLength=\"24\" x=\"557\" y=\"92.1074\">b: P</text><line style=\"stroke: #383838; stroke-width: 1.5;\" x1=\"549\" x2=\"589\" y1=\"99.9375\" y2=\"99.9375\"/></a><!--MD5=[60a26617385b1d2d0262a64233df1f8d]\n",
       "class E6--><a href=\"psysml:20d627d7-8daa-4ea4-8c0c-0e67ee5e3616\" target=\"_top\" title=\"psysml:20d627d7-8daa-4ea4-8c0c-0e67ee5e3616\" xlink:actuate=\"onRequest\" xlink:href=\"psysml:20d627d7-8daa-4ea4-8c0c-0e67ee5e3616\" xlink:show=\"new\" xlink:title=\"psysml:20d627d7-8daa-4ea4-8c0c-0e67ee5e3616\" xlink:type=\"simple\"><rect fill=\"#FFFFFF\" height=\"45.9375\" id=\"E6\" rx=\"10\" ry=\"10\" style=\"stroke: #383838; stroke-width: 1.5;\" width=\"42\" x=\"471\" y=\"62\"/><text fill=\"#000000\" font-family=\"sans-serif\" font-size=\"12\" font-style=\"italic\" lengthAdjust=\"spacingAndGlyphs\" textLength=\"40\" x=\"472\" y=\"78.1387\">«part»</text><text fill=\"#000000\" font-family=\"sans-serif\" font-size=\"12\" lengthAdjust=\"spacingAndGlyphs\" textLength=\"23\" x=\"480.5\" y=\"92.1074\">c: P</text><line style=\"stroke: #383838; stroke-width: 1.5;\" x1=\"472\" x2=\"512\" y1=\"99.9375\" y2=\"99.9375\"/></a><!--MD5=[2156ba9850f5573cc1fc38a6a4b2f02b]\n",
       "class E7--><a href=\"psysml:4fc87a01-ac01-48e0-9821-1b5b80a637f1\" target=\"_top\" title=\"psysml:4fc87a01-ac01-48e0-9821-1b5b80a637f1\" xlink:actuate=\"onRequest\" xlink:href=\"psysml:4fc87a01-ac01-48e0-9821-1b5b80a637f1\" xlink:show=\"new\" xlink:title=\"psysml:4fc87a01-ac01-48e0-9821-1b5b80a637f1\" xlink:type=\"simple\"><rect fill=\"#FFFFFF\" height=\"45.9375\" id=\"E7\" rx=\"10\" ry=\"10\" style=\"stroke: #383838; stroke-width: 1.5;\" width=\"42\" x=\"394\" y=\"62\"/><text fill=\"#000000\" font-family=\"sans-serif\" font-size=\"12\" font-style=\"italic\" lengthAdjust=\"spacingAndGlyphs\" textLength=\"40\" x=\"395\" y=\"78.1387\">«part»</text><text fill=\"#000000\" font-family=\"sans-serif\" font-size=\"12\" lengthAdjust=\"spacingAndGlyphs\" textLength=\"8\" x=\"411\" y=\"92.1074\">d</text><line style=\"stroke: #383838; stroke-width: 1.5;\" x1=\"395\" x2=\"435\" y1=\"99.9375\" y2=\"99.9375\"/></a><!--MD5=[b9389687b975829384b498ac4b7476b2]\n",
       "class E8--><a href=\"psysml:e7c3b12c-9054-4127-bd5f-a31eeffec0a6\" target=\"_top\" title=\"psysml:e7c3b12c-9054-4127-bd5f-a31eeffec0a6\" xlink:actuate=\"onRequest\" xlink:href=\"psysml:e7c3b12c-9054-4127-bd5f-a31eeffec0a6\" xlink:show=\"new\" xlink:title=\"psysml:e7c3b12c-9054-4127-bd5f-a31eeffec0a6\" xlink:type=\"simple\"><rect fill=\"#FFFFFF\" height=\"45.9375\" id=\"E8\" rx=\"10\" ry=\"10\" style=\"stroke: #383838; stroke-width: 1.5;\" width=\"42\" x=\"317\" y=\"62\"/><text fill=\"#000000\" font-family=\"sans-serif\" font-size=\"12\" font-style=\"italic\" lengthAdjust=\"spacingAndGlyphs\" textLength=\"40\" x=\"318\" y=\"78.1387\">«part»</text><text fill=\"#000000\" font-family=\"sans-serif\" font-size=\"12\" lengthAdjust=\"spacingAndGlyphs\" textLength=\"8\" x=\"334\" y=\"92.1074\">e</text><line style=\"stroke: #383838; stroke-width: 1.5;\" x1=\"318\" x2=\"358\" y1=\"99.9375\" y2=\"99.9375\"/></a><!--MD5=[fd4143e9d270a159db93a4ea2a975926]\n",
       "class E9--><a href=\"psysml:49b700d2-d9c4-4257-84cb-c65bfac2aa08\" target=\"_top\" title=\"psysml:49b700d2-d9c4-4257-84cb-c65bfac2aa08\" xlink:actuate=\"onRequest\" xlink:href=\"psysml:49b700d2-d9c4-4257-84cb-c65bfac2aa08\" xlink:show=\"new\" xlink:title=\"psysml:49b700d2-d9c4-4257-84cb-c65bfac2aa08\" xlink:type=\"simple\"><rect fill=\"#FFFFFF\" height=\"45.9375\" id=\"E9\" rx=\"10\" ry=\"10\" style=\"stroke: #383838; stroke-width: 1.5;\" width=\"42\" x=\"240\" y=\"62\"/><text fill=\"#000000\" font-family=\"sans-serif\" font-size=\"12\" font-style=\"italic\" lengthAdjust=\"spacingAndGlyphs\" textLength=\"40\" x=\"241\" y=\"78.1387\">«part»</text><text fill=\"#000000\" font-family=\"sans-serif\" font-size=\"12\" lengthAdjust=\"spacingAndGlyphs\" textLength=\"4\" x=\"259\" y=\"92.1074\">f</text><line style=\"stroke: #383838; stroke-width: 1.5;\" x1=\"241\" x2=\"281\" y1=\"99.9375\" y2=\"99.9375\"/></a><!--MD5=[96f4274e9e20536e775497830990834d]\n",
       "class E10--><a href=\"psysml:20161f3e-4930-46fe-a17d-f79ec2a77aae\" target=\"_top\" title=\"psysml:20161f3e-4930-46fe-a17d-f79ec2a77aae\" xlink:actuate=\"onRequest\" xlink:href=\"psysml:20161f3e-4930-46fe-a17d-f79ec2a77aae\" xlink:show=\"new\" xlink:title=\"psysml:20161f3e-4930-46fe-a17d-f79ec2a77aae\" xlink:type=\"simple\"><rect fill=\"#FFFFFF\" height=\"45.9375\" id=\"E10\" rx=\"10\" ry=\"10\" style=\"stroke: #383838; stroke-width: 1.5;\" width=\"42\" x=\"163\" y=\"62\"/><text fill=\"#000000\" font-family=\"sans-serif\" font-size=\"12\" font-style=\"italic\" lengthAdjust=\"spacingAndGlyphs\" textLength=\"40\" x=\"164\" y=\"78.1387\">«part»</text><text fill=\"#000000\" font-family=\"sans-serif\" font-size=\"12\" lengthAdjust=\"spacingAndGlyphs\" textLength=\"8\" x=\"180\" y=\"92.1074\">g</text><line style=\"stroke: #383838; stroke-width: 1.5;\" x1=\"164\" x2=\"204\" y1=\"99.9375\" y2=\"99.9375\"/></a><!--MD5=[1dd1bfd58a279cf63c5f349dbc8fc6a1]\n",
       "class E11--><a href=\"psysml:958dabfe-3a24-44d8-9bca-d5e375f56ac2\" target=\"_top\" title=\"psysml:958dabfe-3a24-44d8-9bca-d5e375f56ac2\" xlink:actuate=\"onRequest\" xlink:href=\"psysml:958dabfe-3a24-44d8-9bca-d5e375f56ac2\" xlink:show=\"new\" xlink:title=\"psysml:958dabfe-3a24-44d8-9bca-d5e375f56ac2\" xlink:type=\"simple\"><rect fill=\"#FFFFFF\" height=\"88.3516\" id=\"E11\" style=\"stroke: #383838; stroke-width: 1.5;\" width=\"95\" x=\"32.5\" y=\"41\"/><text fill=\"#000000\" font-family=\"sans-serif\" font-size=\"12\" font-style=\"italic\" lengthAdjust=\"spacingAndGlyphs\" textLength=\"93\" x=\"33.5\" y=\"57.1387\">«attribute def»</text><text fill=\"#000000\" font-family=\"sans-serif\" font-size=\"12\" lengthAdjust=\"spacingAndGlyphs\" textLength=\"8\" x=\"76\" y=\"71.1074\">A</text><line style=\"stroke: #383838; stroke-width: 1.5;\" x1=\"33.5\" x2=\"126.5\" y1=\"78.9375\" y2=\"78.9375\"/><text fill=\"#000000\" font-family=\"sans-serif\" font-size=\"11\" lengthAdjust=\"spacingAndGlyphs\" textLength=\"51\" x=\"38.5\" y=\"109.9526\">i: Integer</text><text fill=\"#000000\" font-family=\"sans-serif\" font-size=\"11\" lengthAdjust=\"spacingAndGlyphs\" textLength=\"21\" x=\"38.5\" y=\"122.7573\">x: A</text><line style=\"stroke: #383838; stroke-width: 1.0;\" x1=\"33.5\" x2=\"52.5\" y1=\"93.3398\" y2=\"93.3398\"/><text fill=\"#000000\" font-family=\"sans-serif\" font-size=\"11\" lengthAdjust=\"spacingAndGlyphs\" textLength=\"55\" x=\"52.5\" y=\"96.6479\">attributes</text><line style=\"stroke: #383838; stroke-width: 1.0;\" x1=\"107.5\" x2=\"126.5\" y1=\"93.3398\" y2=\"93.3398\"/></a><!--MD5=[15ebcb19ae302d9b601edb458606d402]\n",
       "link E5 to E2--><a href=\"psysml:a788c1ae-8502-4aea-9d8b-5a5d865c76a9\" target=\"_top\" title=\"psysml:a788c1ae-8502-4aea-9d8b-5a5d865c76a9\" xlink:actuate=\"onRequest\" xlink:href=\"psysml:a788c1ae-8502-4aea-9d8b-5a5d865c76a9\" xlink:show=\"new\" xlink:title=\"psysml:a788c1ae-8502-4aea-9d8b-5a5d865c76a9\" xlink:type=\"simple\"><path d=\"M562.12,108.06 C556.83,125 549.38,148.89 542.98,169.39 \" fill=\"none\" id=\"E5-&gt;E2\" style=\"stroke: #383838; stroke-width: 1.0;\"/><polygon fill=\"#FFFFFF\" points=\"536.95,188.74,535.929,168.5173,549.2931,172.6886,536.95,188.74\" style=\"stroke: #383838; stroke-width: 1.0;\"/><ellipse cx=\"539.5364\" cy=\"163.6721\" fill=\"#383838\" rx=\"2\" ry=\"2\" style=\"stroke: #383838; stroke-width: 1.0;\"/><ellipse cx=\"549.0823\" cy=\"166.6516\" fill=\"#383838\" rx=\"2\" ry=\"2\" style=\"stroke: #383838; stroke-width: 1.0;\"/></a><!--MD5=[2351f337d6de0f557b50152ba70847b5]\n",
       "link E6 to E2--><a href=\"psysml:96c9e024-7b1d-4ba9-883a-860d4899a00e\" target=\"_top\" title=\"psysml:96c9e024-7b1d-4ba9-883a-860d4899a00e\" xlink:actuate=\"onRequest\" xlink:href=\"psysml:96c9e024-7b1d-4ba9-883a-860d4899a00e\" xlink:show=\"new\" xlink:title=\"psysml:96c9e024-7b1d-4ba9-883a-860d4899a00e\" xlink:type=\"simple\"><path d=\"M498.71,108.06 C503.86,125 511.12,148.89 517.35,169.39 \" fill=\"none\" id=\"E6-&gt;E2\" style=\"stroke: #383838; stroke-width: 1.0;\"/><polygon fill=\"#FFFFFF\" points=\"523.23,188.74,511.007,172.597,524.4019,168.5255,523.23,188.74\" style=\"stroke: #383838; stroke-width: 1.0;\"/><ellipse cx=\"511.2628\" cy=\"166.5617\" fill=\"#383838\" rx=\"2\" ry=\"2\" style=\"stroke: #383838; stroke-width: 1.0;\"/><ellipse cx=\"520.8306\" cy=\"163.6535\" fill=\"#383838\" rx=\"2\" ry=\"2\" style=\"stroke: #383838; stroke-width: 1.0;\"/></a><!--MD5=[00eaef5344c30a8ae9dfaff4d459c045]\n",
       "@startuml\r\n",
       "top to bottom direction\r\n",
       "skinparam monochrome true\r\n",
       "skinparam classbackgroundcolor white\r\n",
       "skinparam shadowing false\r\n",
       "skinparam wrapWidth 300\r\n",
       "hide circle\r\n",
       "\r\n",
       "package \"MultiplicityTest\" as E1  [[psysml:04657276-263c-446b-8b63-b81fdc3bdb65 ]]  {\r\n",
       "comp def \"P\" as E2  <<(T,blue) part def>> [[psysml:68eb8761-ff46-4523-ba58-41a062b6cb94 ]] {\r\n",
       "}\r\n",
       "comp usage \"n: Integer\" as E3  <<(T,blue) attribute>> [[psysml:c2c67205-2617-478d-9839-9411bc2f8511 ]] {\r\n",
       "}\r\n",
       "comp usage \"a\" as E4  <<(T,blue) part>> [[psysml:fbb3215b-67d9-4514-b40f-6d8c33165593 ]] {\r\n",
       "}\r\n",
       "comp usage \"b: P\" as E5  <<(T,blue) part>> [[psysml:d1ff5ca6-7417-4682-b046-127881647fcb ]] {\r\n",
       "}\r\n",
       "comp usage \"c: P\" as E6  <<(T,blue) part>> [[psysml:20d627d7-8daa-4ea4-8c0c-0e67ee5e3616 ]] {\r\n",
       "}\r\n",
       "comp usage \"d\" as E7  <<(T,blue) part>> [[psysml:4fc87a01-ac01-48e0-9821-1b5b80a637f1 ]] {\r\n",
       "}\r\n",
       "comp usage \"e\" as E8  <<(T,blue) part>> [[psysml:e7c3b12c-9054-4127-bd5f-a31eeffec0a6 ]] {\r\n",
       "}\r\n",
       "comp usage \"f\" as E9  <<(T,blue) part>> [[psysml:49b700d2-d9c4-4257-84cb-c65bfac2aa08 ]] {\r\n",
       "}\r\n",
       "comp usage \"g\" as E10  <<(T,blue) part>> [[psysml:20161f3e-4930-46fe-a17d-f79ec2a77aae ]] {\r\n",
       "}\r\n",
       "comp def \"A\" as E11  <<(T,blue) attribute def>> [[psysml:958dabfe-3a24-44d8-9bca-d5e375f56ac2 ]] {\r\n",
       "- - attributes - -\r\n",
       "i: Integer\r\n",
       "x: A\r\n",
       "}\r\n",
       "E5 - -:|> E2 [[psysml:a788c1ae-8502-4aea-9d8b-5a5d865c76a9 ]] \r\n",
       "E6 - -:|> E2 [[psysml:96c9e024-7b1d-4ba9-883a-860d4899a00e ]] \r\n",
       "}\r\n",
       "@enduml\r\n",
       "\n",
       "PlantUML version 1.2020.13(Sat Jun 13 12:26:38 UTC 2020)\n",
       "(EPL source distribution)\n",
       "Java Runtime: OpenJDK Runtime Environment\n",
       "JVM: OpenJDK 64-Bit Server VM\n",
       "Default Encoding: UTF-8\n",
       "Language: en\n",
       "Country: null\n",
       "--></g></svg>"
      ]
     },
     "execution_count": 49,
     "metadata": {},
     "output_type": "execute_result"
    }
   ],
   "source": [
    "%viz --style=\"TB\" --view=\"Sequence\" \"MultiplicityTest\""
   ]
  },
  {
   "cell_type": "code",
   "execution_count": 50,
   "id": "34f55aae",
   "metadata": {
    "execution": {
     "iopub.execute_input": "2021-08-04T06:29:53.381729Z",
     "iopub.status.busy": "2021-08-04T06:29:53.381323Z",
     "iopub.status.idle": "2021-08-04T06:29:53.428046Z",
     "shell.execute_reply": "2021-08-04T06:29:53.427670Z"
    }
   },
   "outputs": [
    {
     "data": {
      "image/svg+xml": [
       "<?xml version=\"1.0\" encoding=\"UTF-8\" standalone=\"no\"?><svg xmlns=\"http://www.w3.org/2000/svg\" xmlns:xlink=\"http://www.w3.org/1999/xlink\" contentScriptType=\"application/ecmascript\" contentStyleType=\"text/css\" height=\"263px\" preserveAspectRatio=\"none\" style=\"width:812px;height:263px;\" version=\"1.1\" viewBox=\"0 0 812 263\" width=\"812px\" zoomAndPan=\"magnify\"><defs/><g><!--MD5=[fbc87193dbaf4d95561dea2c320d4a47]\n",
       "cluster E1--><a href=\"psysml:04657276-263c-446b-8b63-b81fdc3bdb65\" target=\"_top\" title=\"psysml:04657276-263c-446b-8b63-b81fdc3bdb65\" xlink:actuate=\"onRequest\" xlink:href=\"psysml:04657276-263c-446b-8b63-b81fdc3bdb65\" xlink:show=\"new\" xlink:title=\"psysml:04657276-263c-446b-8b63-b81fdc3bdb65\" xlink:type=\"simple\"><polygon fill=\"#FFFFFF\" points=\"16,6,140,6,147,28.2969,790,28.2969,790,251,16,251,16,6\" style=\"stroke: #000000; stroke-width: 1.5;\"/><line style=\"stroke: #000000; stroke-width: 1.5;\" x1=\"16\" x2=\"147\" y1=\"28.2969\" y2=\"28.2969\"/><text fill=\"#000000\" font-family=\"sans-serif\" font-size=\"14\" font-weight=\"bold\" lengthAdjust=\"spacingAndGlyphs\" textLength=\"118\" x=\"20\" y=\"20.9951\">MultiplicityTest</text></a><!--MD5=[b4997ac47864f28c2f74865a473b2911]\n",
       "class E2--><a href=\"psysml:68eb8761-ff46-4523-ba58-41a062b6cb94\" target=\"_top\" title=\"psysml:68eb8761-ff46-4523-ba58-41a062b6cb94\" xlink:actuate=\"onRequest\" xlink:href=\"psysml:68eb8761-ff46-4523-ba58-41a062b6cb94\" xlink:show=\"new\" xlink:title=\"psysml:68eb8761-ff46-4523-ba58-41a062b6cb94\" xlink:type=\"simple\"><rect fill=\"#FFFFFF\" height=\"45.9375\" id=\"E2\" style=\"stroke: #383838; stroke-width: 1.5;\" width=\"66\" x=\"497\" y=\"189\"/><text fill=\"#000000\" font-family=\"sans-serif\" font-size=\"12\" font-style=\"italic\" lengthAdjust=\"spacingAndGlyphs\" textLength=\"64\" x=\"498\" y=\"205.1387\">«part def»</text><text fill=\"#000000\" font-family=\"sans-serif\" font-size=\"12\" lengthAdjust=\"spacingAndGlyphs\" textLength=\"8\" x=\"526\" y=\"219.1074\">P</text><line style=\"stroke: #383838; stroke-width: 1.5;\" x1=\"498\" x2=\"562\" y1=\"226.9375\" y2=\"226.9375\"/></a><!--MD5=[09b614a08d8cba4a07c9adeb5e0fee81]\n",
       "class E3--><a href=\"psysml:c2c67205-2617-478d-9839-9411bc2f8511\" target=\"_top\" title=\"psysml:c2c67205-2617-478d-9839-9411bc2f8511\" xlink:actuate=\"onRequest\" xlink:href=\"psysml:c2c67205-2617-478d-9839-9411bc2f8511\" xlink:show=\"new\" xlink:title=\"psysml:c2c67205-2617-478d-9839-9411bc2f8511\" xlink:type=\"simple\"><rect fill=\"#FFFFFF\" height=\"45.9375\" id=\"E3\" rx=\"10\" ry=\"10\" style=\"stroke: #383838; stroke-width: 1.5;\" width=\"71\" x=\"702.5\" y=\"62\"/><text fill=\"#000000\" font-family=\"sans-serif\" font-size=\"12\" font-style=\"italic\" lengthAdjust=\"spacingAndGlyphs\" textLength=\"69\" x=\"703.5\" y=\"78.1387\">«attribute»</text><text fill=\"#000000\" font-family=\"sans-serif\" font-size=\"12\" lengthAdjust=\"spacingAndGlyphs\" textLength=\"61\" x=\"707.5\" y=\"92.1074\">n: Integer</text><line style=\"stroke: #383838; stroke-width: 1.5;\" x1=\"703.5\" x2=\"772.5\" y1=\"99.9375\" y2=\"99.9375\"/></a><!--MD5=[ebbe1d658d1005bcc118a6aa81145e00]\n",
       "class E4--><a href=\"psysml:fbb3215b-67d9-4514-b40f-6d8c33165593\" target=\"_top\" title=\"psysml:fbb3215b-67d9-4514-b40f-6d8c33165593\" xlink:actuate=\"onRequest\" xlink:href=\"psysml:fbb3215b-67d9-4514-b40f-6d8c33165593\" xlink:show=\"new\" xlink:title=\"psysml:fbb3215b-67d9-4514-b40f-6d8c33165593\" xlink:type=\"simple\"><rect fill=\"#FFFFFF\" height=\"45.9375\" id=\"E4\" rx=\"10\" ry=\"10\" style=\"stroke: #383838; stroke-width: 1.5;\" width=\"42\" x=\"625\" y=\"62\"/><text fill=\"#000000\" font-family=\"sans-serif\" font-size=\"12\" font-style=\"italic\" lengthAdjust=\"spacingAndGlyphs\" textLength=\"40\" x=\"626\" y=\"78.1387\">«part»</text><text fill=\"#000000\" font-family=\"sans-serif\" font-size=\"12\" lengthAdjust=\"spacingAndGlyphs\" textLength=\"8\" x=\"642\" y=\"92.1074\">a</text><line style=\"stroke: #383838; stroke-width: 1.5;\" x1=\"626\" x2=\"666\" y1=\"99.9375\" y2=\"99.9375\"/></a><!--MD5=[270fce915f116d4de14055a7c1d9a0f3]\n",
       "class E5--><a href=\"psysml:d1ff5ca6-7417-4682-b046-127881647fcb\" target=\"_top\" title=\"psysml:d1ff5ca6-7417-4682-b046-127881647fcb\" xlink:actuate=\"onRequest\" xlink:href=\"psysml:d1ff5ca6-7417-4682-b046-127881647fcb\" xlink:show=\"new\" xlink:title=\"psysml:d1ff5ca6-7417-4682-b046-127881647fcb\" xlink:type=\"simple\"><rect fill=\"#FFFFFF\" height=\"45.9375\" id=\"E5\" rx=\"10\" ry=\"10\" style=\"stroke: #383838; stroke-width: 1.5;\" width=\"42\" x=\"548\" y=\"62\"/><text fill=\"#000000\" font-family=\"sans-serif\" font-size=\"12\" font-style=\"italic\" lengthAdjust=\"spacingAndGlyphs\" textLength=\"40\" x=\"549\" y=\"78.1387\">«part»</text><text fill=\"#000000\" font-family=\"sans-serif\" font-size=\"12\" lengthAdjust=\"spacingAndGlyphs\" textLength=\"24\" x=\"557\" y=\"92.1074\">b: P</text><line style=\"stroke: #383838; stroke-width: 1.5;\" x1=\"549\" x2=\"589\" y1=\"99.9375\" y2=\"99.9375\"/></a><!--MD5=[60a26617385b1d2d0262a64233df1f8d]\n",
       "class E6--><a href=\"psysml:20d627d7-8daa-4ea4-8c0c-0e67ee5e3616\" target=\"_top\" title=\"psysml:20d627d7-8daa-4ea4-8c0c-0e67ee5e3616\" xlink:actuate=\"onRequest\" xlink:href=\"psysml:20d627d7-8daa-4ea4-8c0c-0e67ee5e3616\" xlink:show=\"new\" xlink:title=\"psysml:20d627d7-8daa-4ea4-8c0c-0e67ee5e3616\" xlink:type=\"simple\"><rect fill=\"#FFFFFF\" height=\"45.9375\" id=\"E6\" rx=\"10\" ry=\"10\" style=\"stroke: #383838; stroke-width: 1.5;\" width=\"42\" x=\"471\" y=\"62\"/><text fill=\"#000000\" font-family=\"sans-serif\" font-size=\"12\" font-style=\"italic\" lengthAdjust=\"spacingAndGlyphs\" textLength=\"40\" x=\"472\" y=\"78.1387\">«part»</text><text fill=\"#000000\" font-family=\"sans-serif\" font-size=\"12\" lengthAdjust=\"spacingAndGlyphs\" textLength=\"23\" x=\"480.5\" y=\"92.1074\">c: P</text><line style=\"stroke: #383838; stroke-width: 1.5;\" x1=\"472\" x2=\"512\" y1=\"99.9375\" y2=\"99.9375\"/></a><!--MD5=[2156ba9850f5573cc1fc38a6a4b2f02b]\n",
       "class E7--><a href=\"psysml:4fc87a01-ac01-48e0-9821-1b5b80a637f1\" target=\"_top\" title=\"psysml:4fc87a01-ac01-48e0-9821-1b5b80a637f1\" xlink:actuate=\"onRequest\" xlink:href=\"psysml:4fc87a01-ac01-48e0-9821-1b5b80a637f1\" xlink:show=\"new\" xlink:title=\"psysml:4fc87a01-ac01-48e0-9821-1b5b80a637f1\" xlink:type=\"simple\"><rect fill=\"#FFFFFF\" height=\"45.9375\" id=\"E7\" rx=\"10\" ry=\"10\" style=\"stroke: #383838; stroke-width: 1.5;\" width=\"42\" x=\"394\" y=\"62\"/><text fill=\"#000000\" font-family=\"sans-serif\" font-size=\"12\" font-style=\"italic\" lengthAdjust=\"spacingAndGlyphs\" textLength=\"40\" x=\"395\" y=\"78.1387\">«part»</text><text fill=\"#000000\" font-family=\"sans-serif\" font-size=\"12\" lengthAdjust=\"spacingAndGlyphs\" textLength=\"8\" x=\"411\" y=\"92.1074\">d</text><line style=\"stroke: #383838; stroke-width: 1.5;\" x1=\"395\" x2=\"435\" y1=\"99.9375\" y2=\"99.9375\"/></a><!--MD5=[b9389687b975829384b498ac4b7476b2]\n",
       "class E8--><a href=\"psysml:e7c3b12c-9054-4127-bd5f-a31eeffec0a6\" target=\"_top\" title=\"psysml:e7c3b12c-9054-4127-bd5f-a31eeffec0a6\" xlink:actuate=\"onRequest\" xlink:href=\"psysml:e7c3b12c-9054-4127-bd5f-a31eeffec0a6\" xlink:show=\"new\" xlink:title=\"psysml:e7c3b12c-9054-4127-bd5f-a31eeffec0a6\" xlink:type=\"simple\"><rect fill=\"#FFFFFF\" height=\"45.9375\" id=\"E8\" rx=\"10\" ry=\"10\" style=\"stroke: #383838; stroke-width: 1.5;\" width=\"42\" x=\"317\" y=\"62\"/><text fill=\"#000000\" font-family=\"sans-serif\" font-size=\"12\" font-style=\"italic\" lengthAdjust=\"spacingAndGlyphs\" textLength=\"40\" x=\"318\" y=\"78.1387\">«part»</text><text fill=\"#000000\" font-family=\"sans-serif\" font-size=\"12\" lengthAdjust=\"spacingAndGlyphs\" textLength=\"8\" x=\"334\" y=\"92.1074\">e</text><line style=\"stroke: #383838; stroke-width: 1.5;\" x1=\"318\" x2=\"358\" y1=\"99.9375\" y2=\"99.9375\"/></a><!--MD5=[fd4143e9d270a159db93a4ea2a975926]\n",
       "class E9--><a href=\"psysml:49b700d2-d9c4-4257-84cb-c65bfac2aa08\" target=\"_top\" title=\"psysml:49b700d2-d9c4-4257-84cb-c65bfac2aa08\" xlink:actuate=\"onRequest\" xlink:href=\"psysml:49b700d2-d9c4-4257-84cb-c65bfac2aa08\" xlink:show=\"new\" xlink:title=\"psysml:49b700d2-d9c4-4257-84cb-c65bfac2aa08\" xlink:type=\"simple\"><rect fill=\"#FFFFFF\" height=\"45.9375\" id=\"E9\" rx=\"10\" ry=\"10\" style=\"stroke: #383838; stroke-width: 1.5;\" width=\"42\" x=\"240\" y=\"62\"/><text fill=\"#000000\" font-family=\"sans-serif\" font-size=\"12\" font-style=\"italic\" lengthAdjust=\"spacingAndGlyphs\" textLength=\"40\" x=\"241\" y=\"78.1387\">«part»</text><text fill=\"#000000\" font-family=\"sans-serif\" font-size=\"12\" lengthAdjust=\"spacingAndGlyphs\" textLength=\"4\" x=\"259\" y=\"92.1074\">f</text><line style=\"stroke: #383838; stroke-width: 1.5;\" x1=\"241\" x2=\"281\" y1=\"99.9375\" y2=\"99.9375\"/></a><!--MD5=[96f4274e9e20536e775497830990834d]\n",
       "class E10--><a href=\"psysml:20161f3e-4930-46fe-a17d-f79ec2a77aae\" target=\"_top\" title=\"psysml:20161f3e-4930-46fe-a17d-f79ec2a77aae\" xlink:actuate=\"onRequest\" xlink:href=\"psysml:20161f3e-4930-46fe-a17d-f79ec2a77aae\" xlink:show=\"new\" xlink:title=\"psysml:20161f3e-4930-46fe-a17d-f79ec2a77aae\" xlink:type=\"simple\"><rect fill=\"#FFFFFF\" height=\"45.9375\" id=\"E10\" rx=\"10\" ry=\"10\" style=\"stroke: #383838; stroke-width: 1.5;\" width=\"42\" x=\"163\" y=\"62\"/><text fill=\"#000000\" font-family=\"sans-serif\" font-size=\"12\" font-style=\"italic\" lengthAdjust=\"spacingAndGlyphs\" textLength=\"40\" x=\"164\" y=\"78.1387\">«part»</text><text fill=\"#000000\" font-family=\"sans-serif\" font-size=\"12\" lengthAdjust=\"spacingAndGlyphs\" textLength=\"8\" x=\"180\" y=\"92.1074\">g</text><line style=\"stroke: #383838; stroke-width: 1.5;\" x1=\"164\" x2=\"204\" y1=\"99.9375\" y2=\"99.9375\"/></a><!--MD5=[1dd1bfd58a279cf63c5f349dbc8fc6a1]\n",
       "class E11--><a href=\"psysml:958dabfe-3a24-44d8-9bca-d5e375f56ac2\" target=\"_top\" title=\"psysml:958dabfe-3a24-44d8-9bca-d5e375f56ac2\" xlink:actuate=\"onRequest\" xlink:href=\"psysml:958dabfe-3a24-44d8-9bca-d5e375f56ac2\" xlink:show=\"new\" xlink:title=\"psysml:958dabfe-3a24-44d8-9bca-d5e375f56ac2\" xlink:type=\"simple\"><rect fill=\"#FFFFFF\" height=\"88.3516\" id=\"E11\" style=\"stroke: #383838; stroke-width: 1.5;\" width=\"95\" x=\"32.5\" y=\"41\"/><text fill=\"#000000\" font-family=\"sans-serif\" font-size=\"12\" font-style=\"italic\" lengthAdjust=\"spacingAndGlyphs\" textLength=\"93\" x=\"33.5\" y=\"57.1387\">«attribute def»</text><text fill=\"#000000\" font-family=\"sans-serif\" font-size=\"12\" lengthAdjust=\"spacingAndGlyphs\" textLength=\"8\" x=\"76\" y=\"71.1074\">A</text><line style=\"stroke: #383838; stroke-width: 1.5;\" x1=\"33.5\" x2=\"126.5\" y1=\"78.9375\" y2=\"78.9375\"/><text fill=\"#000000\" font-family=\"sans-serif\" font-size=\"11\" lengthAdjust=\"spacingAndGlyphs\" textLength=\"51\" x=\"38.5\" y=\"109.9526\">i: Integer</text><text fill=\"#000000\" font-family=\"sans-serif\" font-size=\"11\" lengthAdjust=\"spacingAndGlyphs\" textLength=\"21\" x=\"38.5\" y=\"122.7573\">x: A</text><line style=\"stroke: #383838; stroke-width: 1.0;\" x1=\"33.5\" x2=\"52.5\" y1=\"93.3398\" y2=\"93.3398\"/><text fill=\"#000000\" font-family=\"sans-serif\" font-size=\"11\" lengthAdjust=\"spacingAndGlyphs\" textLength=\"55\" x=\"52.5\" y=\"96.6479\">attributes</text><line style=\"stroke: #383838; stroke-width: 1.0;\" x1=\"107.5\" x2=\"126.5\" y1=\"93.3398\" y2=\"93.3398\"/></a><!--MD5=[15ebcb19ae302d9b601edb458606d402]\n",
       "link E5 to E2--><a href=\"psysml:a788c1ae-8502-4aea-9d8b-5a5d865c76a9\" target=\"_top\" title=\"psysml:a788c1ae-8502-4aea-9d8b-5a5d865c76a9\" xlink:actuate=\"onRequest\" xlink:href=\"psysml:a788c1ae-8502-4aea-9d8b-5a5d865c76a9\" xlink:show=\"new\" xlink:title=\"psysml:a788c1ae-8502-4aea-9d8b-5a5d865c76a9\" xlink:type=\"simple\"><path d=\"M562.12,108.06 C556.83,125 549.38,148.89 542.98,169.39 \" fill=\"none\" id=\"E5-&gt;E2\" style=\"stroke: #383838; stroke-width: 1.0;\"/><polygon fill=\"#FFFFFF\" points=\"536.95,188.74,535.929,168.5173,549.2931,172.6886,536.95,188.74\" style=\"stroke: #383838; stroke-width: 1.0;\"/><ellipse cx=\"539.5364\" cy=\"163.6721\" fill=\"#383838\" rx=\"2\" ry=\"2\" style=\"stroke: #383838; stroke-width: 1.0;\"/><ellipse cx=\"549.0823\" cy=\"166.6516\" fill=\"#383838\" rx=\"2\" ry=\"2\" style=\"stroke: #383838; stroke-width: 1.0;\"/></a><!--MD5=[2351f337d6de0f557b50152ba70847b5]\n",
       "link E6 to E2--><a href=\"psysml:96c9e024-7b1d-4ba9-883a-860d4899a00e\" target=\"_top\" title=\"psysml:96c9e024-7b1d-4ba9-883a-860d4899a00e\" xlink:actuate=\"onRequest\" xlink:href=\"psysml:96c9e024-7b1d-4ba9-883a-860d4899a00e\" xlink:show=\"new\" xlink:title=\"psysml:96c9e024-7b1d-4ba9-883a-860d4899a00e\" xlink:type=\"simple\"><path d=\"M498.71,108.06 C503.86,125 511.12,148.89 517.35,169.39 \" fill=\"none\" id=\"E6-&gt;E2\" style=\"stroke: #383838; stroke-width: 1.0;\"/><polygon fill=\"#FFFFFF\" points=\"523.23,188.74,511.007,172.597,524.4019,168.5255,523.23,188.74\" style=\"stroke: #383838; stroke-width: 1.0;\"/><ellipse cx=\"511.2628\" cy=\"166.5617\" fill=\"#383838\" rx=\"2\" ry=\"2\" style=\"stroke: #383838; stroke-width: 1.0;\"/><ellipse cx=\"520.8306\" cy=\"163.6535\" fill=\"#383838\" rx=\"2\" ry=\"2\" style=\"stroke: #383838; stroke-width: 1.0;\"/></a><!--MD5=[00eaef5344c30a8ae9dfaff4d459c045]\n",
       "@startuml\r\n",
       "top to bottom direction\r\n",
       "skinparam monochrome true\r\n",
       "skinparam classbackgroundcolor white\r\n",
       "skinparam shadowing false\r\n",
       "skinparam wrapWidth 300\r\n",
       "hide circle\r\n",
       "\r\n",
       "package \"MultiplicityTest\" as E1  [[psysml:04657276-263c-446b-8b63-b81fdc3bdb65 ]]  {\r\n",
       "comp def \"P\" as E2  <<(T,blue) part def>> [[psysml:68eb8761-ff46-4523-ba58-41a062b6cb94 ]] {\r\n",
       "}\r\n",
       "comp usage \"n: Integer\" as E3  <<(T,blue) attribute>> [[psysml:c2c67205-2617-478d-9839-9411bc2f8511 ]] {\r\n",
       "}\r\n",
       "comp usage \"a\" as E4  <<(T,blue) part>> [[psysml:fbb3215b-67d9-4514-b40f-6d8c33165593 ]] {\r\n",
       "}\r\n",
       "comp usage \"b: P\" as E5  <<(T,blue) part>> [[psysml:d1ff5ca6-7417-4682-b046-127881647fcb ]] {\r\n",
       "}\r\n",
       "comp usage \"c: P\" as E6  <<(T,blue) part>> [[psysml:20d627d7-8daa-4ea4-8c0c-0e67ee5e3616 ]] {\r\n",
       "}\r\n",
       "comp usage \"d\" as E7  <<(T,blue) part>> [[psysml:4fc87a01-ac01-48e0-9821-1b5b80a637f1 ]] {\r\n",
       "}\r\n",
       "comp usage \"e\" as E8  <<(T,blue) part>> [[psysml:e7c3b12c-9054-4127-bd5f-a31eeffec0a6 ]] {\r\n",
       "}\r\n",
       "comp usage \"f\" as E9  <<(T,blue) part>> [[psysml:49b700d2-d9c4-4257-84cb-c65bfac2aa08 ]] {\r\n",
       "}\r\n",
       "comp usage \"g\" as E10  <<(T,blue) part>> [[psysml:20161f3e-4930-46fe-a17d-f79ec2a77aae ]] {\r\n",
       "}\r\n",
       "comp def \"A\" as E11  <<(T,blue) attribute def>> [[psysml:958dabfe-3a24-44d8-9bca-d5e375f56ac2 ]] {\r\n",
       "- - attributes - -\r\n",
       "i: Integer\r\n",
       "x: A\r\n",
       "}\r\n",
       "E5 - -:|> E2 [[psysml:a788c1ae-8502-4aea-9d8b-5a5d865c76a9 ]] \r\n",
       "E6 - -:|> E2 [[psysml:96c9e024-7b1d-4ba9-883a-860d4899a00e ]] \r\n",
       "}\r\n",
       "@enduml\r\n",
       "\n",
       "PlantUML version 1.2020.13(Sat Jun 13 12:26:38 UTC 2020)\n",
       "(EPL source distribution)\n",
       "Java Runtime: OpenJDK Runtime Environment\n",
       "JVM: OpenJDK 64-Bit Server VM\n",
       "Default Encoding: UTF-8\n",
       "Language: en\n",
       "Country: null\n",
       "--></g></svg>"
      ]
     },
     "execution_count": 50,
     "metadata": {},
     "output_type": "execute_result"
    }
   ],
   "source": [
    "%viz --style=\"TB\" --view=\"MIXED\" \"MultiplicityTest\""
   ]
  },
  {
   "cell_type": "code",
   "execution_count": 51,
   "id": "9998334c",
   "metadata": {
    "execution": {
     "iopub.execute_input": "2021-08-04T06:29:53.477596Z",
     "iopub.status.busy": "2021-08-04T06:29:53.477148Z",
     "iopub.status.idle": "2021-08-04T06:29:53.523141Z",
     "shell.execute_reply": "2021-08-04T06:29:53.522946Z"
    }
   },
   "outputs": [
    {
     "data": {
      "image/svg+xml": [
       "<?xml version=\"1.0\" encoding=\"UTF-8\" standalone=\"no\"?><svg xmlns=\"http://www.w3.org/2000/svg\" xmlns:xlink=\"http://www.w3.org/1999/xlink\" contentScriptType=\"application/ecmascript\" contentStyleType=\"text/css\" height=\"263px\" preserveAspectRatio=\"none\" style=\"width:812px;height:263px;\" version=\"1.1\" viewBox=\"0 0 812 263\" width=\"812px\" zoomAndPan=\"magnify\"><defs/><g><!--MD5=[fbc87193dbaf4d95561dea2c320d4a47]\n",
       "cluster E1--><a href=\"psysml:04657276-263c-446b-8b63-b81fdc3bdb65\" target=\"_top\" title=\"psysml:04657276-263c-446b-8b63-b81fdc3bdb65\" xlink:actuate=\"onRequest\" xlink:href=\"psysml:04657276-263c-446b-8b63-b81fdc3bdb65\" xlink:show=\"new\" xlink:title=\"psysml:04657276-263c-446b-8b63-b81fdc3bdb65\" xlink:type=\"simple\"><polygon fill=\"#FFFFFF\" points=\"16,6,140,6,147,28.2969,790,28.2969,790,251,16,251,16,6\" style=\"stroke: #000000; stroke-width: 1.5;\"/><line style=\"stroke: #000000; stroke-width: 1.5;\" x1=\"16\" x2=\"147\" y1=\"28.2969\" y2=\"28.2969\"/><text fill=\"#000000\" font-family=\"sans-serif\" font-size=\"14\" font-weight=\"bold\" lengthAdjust=\"spacingAndGlyphs\" textLength=\"118\" x=\"20\" y=\"20.9951\">MultiplicityTest</text></a><!--MD5=[b4997ac47864f28c2f74865a473b2911]\n",
       "class E2--><a href=\"psysml:68eb8761-ff46-4523-ba58-41a062b6cb94\" target=\"_top\" title=\"psysml:68eb8761-ff46-4523-ba58-41a062b6cb94\" xlink:actuate=\"onRequest\" xlink:href=\"psysml:68eb8761-ff46-4523-ba58-41a062b6cb94\" xlink:show=\"new\" xlink:title=\"psysml:68eb8761-ff46-4523-ba58-41a062b6cb94\" xlink:type=\"simple\"><rect fill=\"#FFFFFF\" height=\"45.9375\" id=\"E2\" style=\"stroke: #383838; stroke-width: 1.5;\" width=\"66\" x=\"497\" y=\"189\"/><text fill=\"#000000\" font-family=\"sans-serif\" font-size=\"12\" font-style=\"italic\" lengthAdjust=\"spacingAndGlyphs\" textLength=\"64\" x=\"498\" y=\"205.1387\">«part def»</text><text fill=\"#000000\" font-family=\"sans-serif\" font-size=\"12\" lengthAdjust=\"spacingAndGlyphs\" textLength=\"8\" x=\"526\" y=\"219.1074\">P</text><line style=\"stroke: #383838; stroke-width: 1.5;\" x1=\"498\" x2=\"562\" y1=\"226.9375\" y2=\"226.9375\"/></a><!--MD5=[09b614a08d8cba4a07c9adeb5e0fee81]\n",
       "class E3--><a href=\"psysml:c2c67205-2617-478d-9839-9411bc2f8511\" target=\"_top\" title=\"psysml:c2c67205-2617-478d-9839-9411bc2f8511\" xlink:actuate=\"onRequest\" xlink:href=\"psysml:c2c67205-2617-478d-9839-9411bc2f8511\" xlink:show=\"new\" xlink:title=\"psysml:c2c67205-2617-478d-9839-9411bc2f8511\" xlink:type=\"simple\"><rect fill=\"#FFFFFF\" height=\"45.9375\" id=\"E3\" rx=\"10\" ry=\"10\" style=\"stroke: #383838; stroke-width: 1.5;\" width=\"71\" x=\"702.5\" y=\"62\"/><text fill=\"#000000\" font-family=\"sans-serif\" font-size=\"12\" font-style=\"italic\" lengthAdjust=\"spacingAndGlyphs\" textLength=\"69\" x=\"703.5\" y=\"78.1387\">«attribute»</text><text fill=\"#000000\" font-family=\"sans-serif\" font-size=\"12\" lengthAdjust=\"spacingAndGlyphs\" textLength=\"61\" x=\"707.5\" y=\"92.1074\">n: Integer</text><line style=\"stroke: #383838; stroke-width: 1.5;\" x1=\"703.5\" x2=\"772.5\" y1=\"99.9375\" y2=\"99.9375\"/></a><!--MD5=[ebbe1d658d1005bcc118a6aa81145e00]\n",
       "class E4--><a href=\"psysml:fbb3215b-67d9-4514-b40f-6d8c33165593\" target=\"_top\" title=\"psysml:fbb3215b-67d9-4514-b40f-6d8c33165593\" xlink:actuate=\"onRequest\" xlink:href=\"psysml:fbb3215b-67d9-4514-b40f-6d8c33165593\" xlink:show=\"new\" xlink:title=\"psysml:fbb3215b-67d9-4514-b40f-6d8c33165593\" xlink:type=\"simple\"><rect fill=\"#FFFFFF\" height=\"45.9375\" id=\"E4\" rx=\"10\" ry=\"10\" style=\"stroke: #383838; stroke-width: 1.5;\" width=\"42\" x=\"625\" y=\"62\"/><text fill=\"#000000\" font-family=\"sans-serif\" font-size=\"12\" font-style=\"italic\" lengthAdjust=\"spacingAndGlyphs\" textLength=\"40\" x=\"626\" y=\"78.1387\">«part»</text><text fill=\"#000000\" font-family=\"sans-serif\" font-size=\"12\" lengthAdjust=\"spacingAndGlyphs\" textLength=\"8\" x=\"642\" y=\"92.1074\">a</text><line style=\"stroke: #383838; stroke-width: 1.5;\" x1=\"626\" x2=\"666\" y1=\"99.9375\" y2=\"99.9375\"/></a><!--MD5=[270fce915f116d4de14055a7c1d9a0f3]\n",
       "class E5--><a href=\"psysml:d1ff5ca6-7417-4682-b046-127881647fcb\" target=\"_top\" title=\"psysml:d1ff5ca6-7417-4682-b046-127881647fcb\" xlink:actuate=\"onRequest\" xlink:href=\"psysml:d1ff5ca6-7417-4682-b046-127881647fcb\" xlink:show=\"new\" xlink:title=\"psysml:d1ff5ca6-7417-4682-b046-127881647fcb\" xlink:type=\"simple\"><rect fill=\"#FFFFFF\" height=\"45.9375\" id=\"E5\" rx=\"10\" ry=\"10\" style=\"stroke: #383838; stroke-width: 1.5;\" width=\"42\" x=\"548\" y=\"62\"/><text fill=\"#000000\" font-family=\"sans-serif\" font-size=\"12\" font-style=\"italic\" lengthAdjust=\"spacingAndGlyphs\" textLength=\"40\" x=\"549\" y=\"78.1387\">«part»</text><text fill=\"#000000\" font-family=\"sans-serif\" font-size=\"12\" lengthAdjust=\"spacingAndGlyphs\" textLength=\"24\" x=\"557\" y=\"92.1074\">b: P</text><line style=\"stroke: #383838; stroke-width: 1.5;\" x1=\"549\" x2=\"589\" y1=\"99.9375\" y2=\"99.9375\"/></a><!--MD5=[60a26617385b1d2d0262a64233df1f8d]\n",
       "class E6--><a href=\"psysml:20d627d7-8daa-4ea4-8c0c-0e67ee5e3616\" target=\"_top\" title=\"psysml:20d627d7-8daa-4ea4-8c0c-0e67ee5e3616\" xlink:actuate=\"onRequest\" xlink:href=\"psysml:20d627d7-8daa-4ea4-8c0c-0e67ee5e3616\" xlink:show=\"new\" xlink:title=\"psysml:20d627d7-8daa-4ea4-8c0c-0e67ee5e3616\" xlink:type=\"simple\"><rect fill=\"#FFFFFF\" height=\"45.9375\" id=\"E6\" rx=\"10\" ry=\"10\" style=\"stroke: #383838; stroke-width: 1.5;\" width=\"42\" x=\"471\" y=\"62\"/><text fill=\"#000000\" font-family=\"sans-serif\" font-size=\"12\" font-style=\"italic\" lengthAdjust=\"spacingAndGlyphs\" textLength=\"40\" x=\"472\" y=\"78.1387\">«part»</text><text fill=\"#000000\" font-family=\"sans-serif\" font-size=\"12\" lengthAdjust=\"spacingAndGlyphs\" textLength=\"23\" x=\"480.5\" y=\"92.1074\">c: P</text><line style=\"stroke: #383838; stroke-width: 1.5;\" x1=\"472\" x2=\"512\" y1=\"99.9375\" y2=\"99.9375\"/></a><!--MD5=[2156ba9850f5573cc1fc38a6a4b2f02b]\n",
       "class E7--><a href=\"psysml:4fc87a01-ac01-48e0-9821-1b5b80a637f1\" target=\"_top\" title=\"psysml:4fc87a01-ac01-48e0-9821-1b5b80a637f1\" xlink:actuate=\"onRequest\" xlink:href=\"psysml:4fc87a01-ac01-48e0-9821-1b5b80a637f1\" xlink:show=\"new\" xlink:title=\"psysml:4fc87a01-ac01-48e0-9821-1b5b80a637f1\" xlink:type=\"simple\"><rect fill=\"#FFFFFF\" height=\"45.9375\" id=\"E7\" rx=\"10\" ry=\"10\" style=\"stroke: #383838; stroke-width: 1.5;\" width=\"42\" x=\"394\" y=\"62\"/><text fill=\"#000000\" font-family=\"sans-serif\" font-size=\"12\" font-style=\"italic\" lengthAdjust=\"spacingAndGlyphs\" textLength=\"40\" x=\"395\" y=\"78.1387\">«part»</text><text fill=\"#000000\" font-family=\"sans-serif\" font-size=\"12\" lengthAdjust=\"spacingAndGlyphs\" textLength=\"8\" x=\"411\" y=\"92.1074\">d</text><line style=\"stroke: #383838; stroke-width: 1.5;\" x1=\"395\" x2=\"435\" y1=\"99.9375\" y2=\"99.9375\"/></a><!--MD5=[b9389687b975829384b498ac4b7476b2]\n",
       "class E8--><a href=\"psysml:e7c3b12c-9054-4127-bd5f-a31eeffec0a6\" target=\"_top\" title=\"psysml:e7c3b12c-9054-4127-bd5f-a31eeffec0a6\" xlink:actuate=\"onRequest\" xlink:href=\"psysml:e7c3b12c-9054-4127-bd5f-a31eeffec0a6\" xlink:show=\"new\" xlink:title=\"psysml:e7c3b12c-9054-4127-bd5f-a31eeffec0a6\" xlink:type=\"simple\"><rect fill=\"#FFFFFF\" height=\"45.9375\" id=\"E8\" rx=\"10\" ry=\"10\" style=\"stroke: #383838; stroke-width: 1.5;\" width=\"42\" x=\"317\" y=\"62\"/><text fill=\"#000000\" font-family=\"sans-serif\" font-size=\"12\" font-style=\"italic\" lengthAdjust=\"spacingAndGlyphs\" textLength=\"40\" x=\"318\" y=\"78.1387\">«part»</text><text fill=\"#000000\" font-family=\"sans-serif\" font-size=\"12\" lengthAdjust=\"spacingAndGlyphs\" textLength=\"8\" x=\"334\" y=\"92.1074\">e</text><line style=\"stroke: #383838; stroke-width: 1.5;\" x1=\"318\" x2=\"358\" y1=\"99.9375\" y2=\"99.9375\"/></a><!--MD5=[fd4143e9d270a159db93a4ea2a975926]\n",
       "class E9--><a href=\"psysml:49b700d2-d9c4-4257-84cb-c65bfac2aa08\" target=\"_top\" title=\"psysml:49b700d2-d9c4-4257-84cb-c65bfac2aa08\" xlink:actuate=\"onRequest\" xlink:href=\"psysml:49b700d2-d9c4-4257-84cb-c65bfac2aa08\" xlink:show=\"new\" xlink:title=\"psysml:49b700d2-d9c4-4257-84cb-c65bfac2aa08\" xlink:type=\"simple\"><rect fill=\"#FFFFFF\" height=\"45.9375\" id=\"E9\" rx=\"10\" ry=\"10\" style=\"stroke: #383838; stroke-width: 1.5;\" width=\"42\" x=\"240\" y=\"62\"/><text fill=\"#000000\" font-family=\"sans-serif\" font-size=\"12\" font-style=\"italic\" lengthAdjust=\"spacingAndGlyphs\" textLength=\"40\" x=\"241\" y=\"78.1387\">«part»</text><text fill=\"#000000\" font-family=\"sans-serif\" font-size=\"12\" lengthAdjust=\"spacingAndGlyphs\" textLength=\"4\" x=\"259\" y=\"92.1074\">f</text><line style=\"stroke: #383838; stroke-width: 1.5;\" x1=\"241\" x2=\"281\" y1=\"99.9375\" y2=\"99.9375\"/></a><!--MD5=[96f4274e9e20536e775497830990834d]\n",
       "class E10--><a href=\"psysml:20161f3e-4930-46fe-a17d-f79ec2a77aae\" target=\"_top\" title=\"psysml:20161f3e-4930-46fe-a17d-f79ec2a77aae\" xlink:actuate=\"onRequest\" xlink:href=\"psysml:20161f3e-4930-46fe-a17d-f79ec2a77aae\" xlink:show=\"new\" xlink:title=\"psysml:20161f3e-4930-46fe-a17d-f79ec2a77aae\" xlink:type=\"simple\"><rect fill=\"#FFFFFF\" height=\"45.9375\" id=\"E10\" rx=\"10\" ry=\"10\" style=\"stroke: #383838; stroke-width: 1.5;\" width=\"42\" x=\"163\" y=\"62\"/><text fill=\"#000000\" font-family=\"sans-serif\" font-size=\"12\" font-style=\"italic\" lengthAdjust=\"spacingAndGlyphs\" textLength=\"40\" x=\"164\" y=\"78.1387\">«part»</text><text fill=\"#000000\" font-family=\"sans-serif\" font-size=\"12\" lengthAdjust=\"spacingAndGlyphs\" textLength=\"8\" x=\"180\" y=\"92.1074\">g</text><line style=\"stroke: #383838; stroke-width: 1.5;\" x1=\"164\" x2=\"204\" y1=\"99.9375\" y2=\"99.9375\"/></a><!--MD5=[1dd1bfd58a279cf63c5f349dbc8fc6a1]\n",
       "class E11--><a href=\"psysml:958dabfe-3a24-44d8-9bca-d5e375f56ac2\" target=\"_top\" title=\"psysml:958dabfe-3a24-44d8-9bca-d5e375f56ac2\" xlink:actuate=\"onRequest\" xlink:href=\"psysml:958dabfe-3a24-44d8-9bca-d5e375f56ac2\" xlink:show=\"new\" xlink:title=\"psysml:958dabfe-3a24-44d8-9bca-d5e375f56ac2\" xlink:type=\"simple\"><rect fill=\"#FFFFFF\" height=\"88.3516\" id=\"E11\" style=\"stroke: #383838; stroke-width: 1.5;\" width=\"95\" x=\"32.5\" y=\"41\"/><text fill=\"#000000\" font-family=\"sans-serif\" font-size=\"12\" font-style=\"italic\" lengthAdjust=\"spacingAndGlyphs\" textLength=\"93\" x=\"33.5\" y=\"57.1387\">«attribute def»</text><text fill=\"#000000\" font-family=\"sans-serif\" font-size=\"12\" lengthAdjust=\"spacingAndGlyphs\" textLength=\"8\" x=\"76\" y=\"71.1074\">A</text><line style=\"stroke: #383838; stroke-width: 1.5;\" x1=\"33.5\" x2=\"126.5\" y1=\"78.9375\" y2=\"78.9375\"/><text fill=\"#000000\" font-family=\"sans-serif\" font-size=\"11\" lengthAdjust=\"spacingAndGlyphs\" textLength=\"51\" x=\"38.5\" y=\"109.9526\">i: Integer</text><text fill=\"#000000\" font-family=\"sans-serif\" font-size=\"11\" lengthAdjust=\"spacingAndGlyphs\" textLength=\"21\" x=\"38.5\" y=\"122.7573\">x: A</text><line style=\"stroke: #383838; stroke-width: 1.0;\" x1=\"33.5\" x2=\"52.5\" y1=\"93.3398\" y2=\"93.3398\"/><text fill=\"#000000\" font-family=\"sans-serif\" font-size=\"11\" lengthAdjust=\"spacingAndGlyphs\" textLength=\"55\" x=\"52.5\" y=\"96.6479\">attributes</text><line style=\"stroke: #383838; stroke-width: 1.0;\" x1=\"107.5\" x2=\"126.5\" y1=\"93.3398\" y2=\"93.3398\"/></a><!--MD5=[15ebcb19ae302d9b601edb458606d402]\n",
       "link E5 to E2--><a href=\"psysml:a788c1ae-8502-4aea-9d8b-5a5d865c76a9\" target=\"_top\" title=\"psysml:a788c1ae-8502-4aea-9d8b-5a5d865c76a9\" xlink:actuate=\"onRequest\" xlink:href=\"psysml:a788c1ae-8502-4aea-9d8b-5a5d865c76a9\" xlink:show=\"new\" xlink:title=\"psysml:a788c1ae-8502-4aea-9d8b-5a5d865c76a9\" xlink:type=\"simple\"><path d=\"M555.5,108.29 C555.5,108.29 555.5,168.85 555.5,168.85 \" fill=\"none\" id=\"E5-&gt;E2\" style=\"stroke: #383838; stroke-width: 1.0;\"/><polygon fill=\"#FFFFFF\" points=\"555.5,188.85,548.5,169.85,562.5,169.85,555.5,188.85\" style=\"stroke: #383838; stroke-width: 1.0;\"/><ellipse cx=\"550.5\" cy=\"164.15\" fill=\"#383838\" rx=\"2\" ry=\"2\" style=\"stroke: #383838; stroke-width: 1.0;\"/><ellipse cx=\"560.5\" cy=\"164.15\" fill=\"#383838\" rx=\"2\" ry=\"2\" style=\"stroke: #383838; stroke-width: 1.0;\"/></a><!--MD5=[2351f337d6de0f557b50152ba70847b5]\n",
       "link E6 to E2--><a href=\"psysml:96c9e024-7b1d-4ba9-883a-860d4899a00e\" target=\"_top\" title=\"psysml:96c9e024-7b1d-4ba9-883a-860d4899a00e\" xlink:actuate=\"onRequest\" xlink:href=\"psysml:96c9e024-7b1d-4ba9-883a-860d4899a00e\" xlink:show=\"new\" xlink:title=\"psysml:96c9e024-7b1d-4ba9-883a-860d4899a00e\" xlink:type=\"simple\"><path d=\"M505,108.29 C505,108.29 505,168.85 505,168.85 \" fill=\"none\" id=\"E6-&gt;E2\" style=\"stroke: #383838; stroke-width: 1.0;\"/><polygon fill=\"#FFFFFF\" points=\"505,188.85,498,169.85,512,169.85,505,188.85\" style=\"stroke: #383838; stroke-width: 1.0;\"/><ellipse cx=\"500\" cy=\"164.15\" fill=\"#383838\" rx=\"2\" ry=\"2\" style=\"stroke: #383838; stroke-width: 1.0;\"/><ellipse cx=\"510\" cy=\"164.15\" fill=\"#383838\" rx=\"2\" ry=\"2\" style=\"stroke: #383838; stroke-width: 1.0;\"/></a><!--MD5=[abb549fcbcf8cd09f1131993576ca519]\n",
       "@startuml\r\n",
       "skinparam linetype ortho\r\n",
       "skinparam monochrome true\r\n",
       "skinparam classbackgroundcolor white\r\n",
       "skinparam shadowing false\r\n",
       "skinparam wrapWidth 300\r\n",
       "hide circle\r\n",
       "\r\n",
       "package \"MultiplicityTest\" as E1  [[psysml:04657276-263c-446b-8b63-b81fdc3bdb65 ]]  {\r\n",
       "comp def \"P\" as E2  <<(T,blue) part def>> [[psysml:68eb8761-ff46-4523-ba58-41a062b6cb94 ]] {\r\n",
       "}\r\n",
       "comp usage \"n: Integer\" as E3  <<(T,blue) attribute>> [[psysml:c2c67205-2617-478d-9839-9411bc2f8511 ]] {\r\n",
       "}\r\n",
       "comp usage \"a\" as E4  <<(T,blue) part>> [[psysml:fbb3215b-67d9-4514-b40f-6d8c33165593 ]] {\r\n",
       "}\r\n",
       "comp usage \"b: P\" as E5  <<(T,blue) part>> [[psysml:d1ff5ca6-7417-4682-b046-127881647fcb ]] {\r\n",
       "}\r\n",
       "comp usage \"c: P\" as E6  <<(T,blue) part>> [[psysml:20d627d7-8daa-4ea4-8c0c-0e67ee5e3616 ]] {\r\n",
       "}\r\n",
       "comp usage \"d\" as E7  <<(T,blue) part>> [[psysml:4fc87a01-ac01-48e0-9821-1b5b80a637f1 ]] {\r\n",
       "}\r\n",
       "comp usage \"e\" as E8  <<(T,blue) part>> [[psysml:e7c3b12c-9054-4127-bd5f-a31eeffec0a6 ]] {\r\n",
       "}\r\n",
       "comp usage \"f\" as E9  <<(T,blue) part>> [[psysml:49b700d2-d9c4-4257-84cb-c65bfac2aa08 ]] {\r\n",
       "}\r\n",
       "comp usage \"g\" as E10  <<(T,blue) part>> [[psysml:20161f3e-4930-46fe-a17d-f79ec2a77aae ]] {\r\n",
       "}\r\n",
       "comp def \"A\" as E11  <<(T,blue) attribute def>> [[psysml:958dabfe-3a24-44d8-9bca-d5e375f56ac2 ]] {\r\n",
       "- - attributes - -\r\n",
       "i: Integer\r\n",
       "x: A\r\n",
       "}\r\n",
       "E5 - -:|> E2 [[psysml:a788c1ae-8502-4aea-9d8b-5a5d865c76a9 ]] \r\n",
       "E6 - -:|> E2 [[psysml:96c9e024-7b1d-4ba9-883a-860d4899a00e ]] \r\n",
       "}\r\n",
       "@enduml\r\n",
       "\n",
       "PlantUML version 1.2020.13(Sat Jun 13 12:26:38 UTC 2020)\n",
       "(EPL source distribution)\n",
       "Java Runtime: OpenJDK Runtime Environment\n",
       "JVM: OpenJDK 64-Bit Server VM\n",
       "Default Encoding: UTF-8\n",
       "Language: en\n",
       "Country: null\n",
       "--></g></svg>"
      ]
     },
     "execution_count": 51,
     "metadata": {},
     "output_type": "execute_result"
    }
   ],
   "source": [
    "%viz --style=\"ORTHOLINE\" --view=\"Default\" \"MultiplicityTest\""
   ]
  },
  {
   "cell_type": "code",
   "execution_count": 52,
   "id": "a391e87c",
   "metadata": {
    "execution": {
     "iopub.execute_input": "2021-08-04T06:29:53.572950Z",
     "iopub.status.busy": "2021-08-04T06:29:53.572697Z",
     "iopub.status.idle": "2021-08-04T06:29:53.621034Z",
     "shell.execute_reply": "2021-08-04T06:29:53.620297Z"
    }
   },
   "outputs": [
    {
     "data": {
      "image/svg+xml": [
       "<?xml version=\"1.0\" encoding=\"UTF-8\" standalone=\"no\"?><svg xmlns=\"http://www.w3.org/2000/svg\" xmlns:xlink=\"http://www.w3.org/1999/xlink\" contentScriptType=\"application/ecmascript\" contentStyleType=\"text/css\" height=\"263px\" preserveAspectRatio=\"none\" style=\"width:812px;height:263px;\" version=\"1.1\" viewBox=\"0 0 812 263\" width=\"812px\" zoomAndPan=\"magnify\"><defs/><g><!--MD5=[fbc87193dbaf4d95561dea2c320d4a47]\n",
       "cluster E1--><a href=\"psysml:04657276-263c-446b-8b63-b81fdc3bdb65\" target=\"_top\" title=\"psysml:04657276-263c-446b-8b63-b81fdc3bdb65\" xlink:actuate=\"onRequest\" xlink:href=\"psysml:04657276-263c-446b-8b63-b81fdc3bdb65\" xlink:show=\"new\" xlink:title=\"psysml:04657276-263c-446b-8b63-b81fdc3bdb65\" xlink:type=\"simple\"><polygon fill=\"#FFFFFF\" points=\"16,6,140,6,147,28.2969,790,28.2969,790,251,16,251,16,6\" style=\"stroke: #000000; stroke-width: 1.5;\"/><line style=\"stroke: #000000; stroke-width: 1.5;\" x1=\"16\" x2=\"147\" y1=\"28.2969\" y2=\"28.2969\"/><text fill=\"#000000\" font-family=\"sans-serif\" font-size=\"14\" font-weight=\"bold\" lengthAdjust=\"spacingAndGlyphs\" textLength=\"118\" x=\"20\" y=\"20.9951\">MultiplicityTest</text></a><!--MD5=[b4997ac47864f28c2f74865a473b2911]\n",
       "class E2--><a href=\"psysml:68eb8761-ff46-4523-ba58-41a062b6cb94\" target=\"_top\" title=\"psysml:68eb8761-ff46-4523-ba58-41a062b6cb94\" xlink:actuate=\"onRequest\" xlink:href=\"psysml:68eb8761-ff46-4523-ba58-41a062b6cb94\" xlink:show=\"new\" xlink:title=\"psysml:68eb8761-ff46-4523-ba58-41a062b6cb94\" xlink:type=\"simple\"><rect fill=\"#FFFFFF\" height=\"45.9375\" id=\"E2\" style=\"stroke: #383838; stroke-width: 1.5;\" width=\"66\" x=\"497\" y=\"189\"/><text fill=\"#000000\" font-family=\"sans-serif\" font-size=\"12\" font-style=\"italic\" lengthAdjust=\"spacingAndGlyphs\" textLength=\"64\" x=\"498\" y=\"205.1387\">«part def»</text><text fill=\"#000000\" font-family=\"sans-serif\" font-size=\"12\" lengthAdjust=\"spacingAndGlyphs\" textLength=\"8\" x=\"526\" y=\"219.1074\">P</text><line style=\"stroke: #383838; stroke-width: 1.5;\" x1=\"498\" x2=\"562\" y1=\"226.9375\" y2=\"226.9375\"/></a><!--MD5=[09b614a08d8cba4a07c9adeb5e0fee81]\n",
       "class E3--><a href=\"psysml:c2c67205-2617-478d-9839-9411bc2f8511\" target=\"_top\" title=\"psysml:c2c67205-2617-478d-9839-9411bc2f8511\" xlink:actuate=\"onRequest\" xlink:href=\"psysml:c2c67205-2617-478d-9839-9411bc2f8511\" xlink:show=\"new\" xlink:title=\"psysml:c2c67205-2617-478d-9839-9411bc2f8511\" xlink:type=\"simple\"><rect fill=\"#FFFFFF\" height=\"45.9375\" id=\"E3\" rx=\"10\" ry=\"10\" style=\"stroke: #383838; stroke-width: 1.5;\" width=\"71\" x=\"702.5\" y=\"62\"/><text fill=\"#000000\" font-family=\"sans-serif\" font-size=\"12\" font-style=\"italic\" lengthAdjust=\"spacingAndGlyphs\" textLength=\"69\" x=\"703.5\" y=\"78.1387\">«attribute»</text><text fill=\"#000000\" font-family=\"sans-serif\" font-size=\"12\" lengthAdjust=\"spacingAndGlyphs\" textLength=\"61\" x=\"707.5\" y=\"92.1074\">n: Integer</text><line style=\"stroke: #383838; stroke-width: 1.5;\" x1=\"703.5\" x2=\"772.5\" y1=\"99.9375\" y2=\"99.9375\"/></a><!--MD5=[ebbe1d658d1005bcc118a6aa81145e00]\n",
       "class E4--><a href=\"psysml:fbb3215b-67d9-4514-b40f-6d8c33165593\" target=\"_top\" title=\"psysml:fbb3215b-67d9-4514-b40f-6d8c33165593\" xlink:actuate=\"onRequest\" xlink:href=\"psysml:fbb3215b-67d9-4514-b40f-6d8c33165593\" xlink:show=\"new\" xlink:title=\"psysml:fbb3215b-67d9-4514-b40f-6d8c33165593\" xlink:type=\"simple\"><rect fill=\"#FFFFFF\" height=\"45.9375\" id=\"E4\" rx=\"10\" ry=\"10\" style=\"stroke: #383838; stroke-width: 1.5;\" width=\"42\" x=\"625\" y=\"62\"/><text fill=\"#000000\" font-family=\"sans-serif\" font-size=\"12\" font-style=\"italic\" lengthAdjust=\"spacingAndGlyphs\" textLength=\"40\" x=\"626\" y=\"78.1387\">«part»</text><text fill=\"#000000\" font-family=\"sans-serif\" font-size=\"12\" lengthAdjust=\"spacingAndGlyphs\" textLength=\"8\" x=\"642\" y=\"92.1074\">a</text><line style=\"stroke: #383838; stroke-width: 1.5;\" x1=\"626\" x2=\"666\" y1=\"99.9375\" y2=\"99.9375\"/></a><!--MD5=[270fce915f116d4de14055a7c1d9a0f3]\n",
       "class E5--><a href=\"psysml:d1ff5ca6-7417-4682-b046-127881647fcb\" target=\"_top\" title=\"psysml:d1ff5ca6-7417-4682-b046-127881647fcb\" xlink:actuate=\"onRequest\" xlink:href=\"psysml:d1ff5ca6-7417-4682-b046-127881647fcb\" xlink:show=\"new\" xlink:title=\"psysml:d1ff5ca6-7417-4682-b046-127881647fcb\" xlink:type=\"simple\"><rect fill=\"#FFFFFF\" height=\"45.9375\" id=\"E5\" rx=\"10\" ry=\"10\" style=\"stroke: #383838; stroke-width: 1.5;\" width=\"42\" x=\"548\" y=\"62\"/><text fill=\"#000000\" font-family=\"sans-serif\" font-size=\"12\" font-style=\"italic\" lengthAdjust=\"spacingAndGlyphs\" textLength=\"40\" x=\"549\" y=\"78.1387\">«part»</text><text fill=\"#000000\" font-family=\"sans-serif\" font-size=\"12\" lengthAdjust=\"spacingAndGlyphs\" textLength=\"24\" x=\"557\" y=\"92.1074\">b: P</text><line style=\"stroke: #383838; stroke-width: 1.5;\" x1=\"549\" x2=\"589\" y1=\"99.9375\" y2=\"99.9375\"/></a><!--MD5=[60a26617385b1d2d0262a64233df1f8d]\n",
       "class E6--><a href=\"psysml:20d627d7-8daa-4ea4-8c0c-0e67ee5e3616\" target=\"_top\" title=\"psysml:20d627d7-8daa-4ea4-8c0c-0e67ee5e3616\" xlink:actuate=\"onRequest\" xlink:href=\"psysml:20d627d7-8daa-4ea4-8c0c-0e67ee5e3616\" xlink:show=\"new\" xlink:title=\"psysml:20d627d7-8daa-4ea4-8c0c-0e67ee5e3616\" xlink:type=\"simple\"><rect fill=\"#FFFFFF\" height=\"45.9375\" id=\"E6\" rx=\"10\" ry=\"10\" style=\"stroke: #383838; stroke-width: 1.5;\" width=\"42\" x=\"471\" y=\"62\"/><text fill=\"#000000\" font-family=\"sans-serif\" font-size=\"12\" font-style=\"italic\" lengthAdjust=\"spacingAndGlyphs\" textLength=\"40\" x=\"472\" y=\"78.1387\">«part»</text><text fill=\"#000000\" font-family=\"sans-serif\" font-size=\"12\" lengthAdjust=\"spacingAndGlyphs\" textLength=\"23\" x=\"480.5\" y=\"92.1074\">c: P</text><line style=\"stroke: #383838; stroke-width: 1.5;\" x1=\"472\" x2=\"512\" y1=\"99.9375\" y2=\"99.9375\"/></a><!--MD5=[2156ba9850f5573cc1fc38a6a4b2f02b]\n",
       "class E7--><a href=\"psysml:4fc87a01-ac01-48e0-9821-1b5b80a637f1\" target=\"_top\" title=\"psysml:4fc87a01-ac01-48e0-9821-1b5b80a637f1\" xlink:actuate=\"onRequest\" xlink:href=\"psysml:4fc87a01-ac01-48e0-9821-1b5b80a637f1\" xlink:show=\"new\" xlink:title=\"psysml:4fc87a01-ac01-48e0-9821-1b5b80a637f1\" xlink:type=\"simple\"><rect fill=\"#FFFFFF\" height=\"45.9375\" id=\"E7\" rx=\"10\" ry=\"10\" style=\"stroke: #383838; stroke-width: 1.5;\" width=\"42\" x=\"394\" y=\"62\"/><text fill=\"#000000\" font-family=\"sans-serif\" font-size=\"12\" font-style=\"italic\" lengthAdjust=\"spacingAndGlyphs\" textLength=\"40\" x=\"395\" y=\"78.1387\">«part»</text><text fill=\"#000000\" font-family=\"sans-serif\" font-size=\"12\" lengthAdjust=\"spacingAndGlyphs\" textLength=\"8\" x=\"411\" y=\"92.1074\">d</text><line style=\"stroke: #383838; stroke-width: 1.5;\" x1=\"395\" x2=\"435\" y1=\"99.9375\" y2=\"99.9375\"/></a><!--MD5=[b9389687b975829384b498ac4b7476b2]\n",
       "class E8--><a href=\"psysml:e7c3b12c-9054-4127-bd5f-a31eeffec0a6\" target=\"_top\" title=\"psysml:e7c3b12c-9054-4127-bd5f-a31eeffec0a6\" xlink:actuate=\"onRequest\" xlink:href=\"psysml:e7c3b12c-9054-4127-bd5f-a31eeffec0a6\" xlink:show=\"new\" xlink:title=\"psysml:e7c3b12c-9054-4127-bd5f-a31eeffec0a6\" xlink:type=\"simple\"><rect fill=\"#FFFFFF\" height=\"45.9375\" id=\"E8\" rx=\"10\" ry=\"10\" style=\"stroke: #383838; stroke-width: 1.5;\" width=\"42\" x=\"317\" y=\"62\"/><text fill=\"#000000\" font-family=\"sans-serif\" font-size=\"12\" font-style=\"italic\" lengthAdjust=\"spacingAndGlyphs\" textLength=\"40\" x=\"318\" y=\"78.1387\">«part»</text><text fill=\"#000000\" font-family=\"sans-serif\" font-size=\"12\" lengthAdjust=\"spacingAndGlyphs\" textLength=\"8\" x=\"334\" y=\"92.1074\">e</text><line style=\"stroke: #383838; stroke-width: 1.5;\" x1=\"318\" x2=\"358\" y1=\"99.9375\" y2=\"99.9375\"/></a><!--MD5=[fd4143e9d270a159db93a4ea2a975926]\n",
       "class E9--><a href=\"psysml:49b700d2-d9c4-4257-84cb-c65bfac2aa08\" target=\"_top\" title=\"psysml:49b700d2-d9c4-4257-84cb-c65bfac2aa08\" xlink:actuate=\"onRequest\" xlink:href=\"psysml:49b700d2-d9c4-4257-84cb-c65bfac2aa08\" xlink:show=\"new\" xlink:title=\"psysml:49b700d2-d9c4-4257-84cb-c65bfac2aa08\" xlink:type=\"simple\"><rect fill=\"#FFFFFF\" height=\"45.9375\" id=\"E9\" rx=\"10\" ry=\"10\" style=\"stroke: #383838; stroke-width: 1.5;\" width=\"42\" x=\"240\" y=\"62\"/><text fill=\"#000000\" font-family=\"sans-serif\" font-size=\"12\" font-style=\"italic\" lengthAdjust=\"spacingAndGlyphs\" textLength=\"40\" x=\"241\" y=\"78.1387\">«part»</text><text fill=\"#000000\" font-family=\"sans-serif\" font-size=\"12\" lengthAdjust=\"spacingAndGlyphs\" textLength=\"4\" x=\"259\" y=\"92.1074\">f</text><line style=\"stroke: #383838; stroke-width: 1.5;\" x1=\"241\" x2=\"281\" y1=\"99.9375\" y2=\"99.9375\"/></a><!--MD5=[96f4274e9e20536e775497830990834d]\n",
       "class E10--><a href=\"psysml:20161f3e-4930-46fe-a17d-f79ec2a77aae\" target=\"_top\" title=\"psysml:20161f3e-4930-46fe-a17d-f79ec2a77aae\" xlink:actuate=\"onRequest\" xlink:href=\"psysml:20161f3e-4930-46fe-a17d-f79ec2a77aae\" xlink:show=\"new\" xlink:title=\"psysml:20161f3e-4930-46fe-a17d-f79ec2a77aae\" xlink:type=\"simple\"><rect fill=\"#FFFFFF\" height=\"45.9375\" id=\"E10\" rx=\"10\" ry=\"10\" style=\"stroke: #383838; stroke-width: 1.5;\" width=\"42\" x=\"163\" y=\"62\"/><text fill=\"#000000\" font-family=\"sans-serif\" font-size=\"12\" font-style=\"italic\" lengthAdjust=\"spacingAndGlyphs\" textLength=\"40\" x=\"164\" y=\"78.1387\">«part»</text><text fill=\"#000000\" font-family=\"sans-serif\" font-size=\"12\" lengthAdjust=\"spacingAndGlyphs\" textLength=\"8\" x=\"180\" y=\"92.1074\">g</text><line style=\"stroke: #383838; stroke-width: 1.5;\" x1=\"164\" x2=\"204\" y1=\"99.9375\" y2=\"99.9375\"/></a><!--MD5=[1dd1bfd58a279cf63c5f349dbc8fc6a1]\n",
       "class E11--><a href=\"psysml:958dabfe-3a24-44d8-9bca-d5e375f56ac2\" target=\"_top\" title=\"psysml:958dabfe-3a24-44d8-9bca-d5e375f56ac2\" xlink:actuate=\"onRequest\" xlink:href=\"psysml:958dabfe-3a24-44d8-9bca-d5e375f56ac2\" xlink:show=\"new\" xlink:title=\"psysml:958dabfe-3a24-44d8-9bca-d5e375f56ac2\" xlink:type=\"simple\"><rect fill=\"#FFFFFF\" height=\"88.3516\" id=\"E11\" style=\"stroke: #383838; stroke-width: 1.5;\" width=\"95\" x=\"32.5\" y=\"41\"/><text fill=\"#000000\" font-family=\"sans-serif\" font-size=\"12\" font-style=\"italic\" lengthAdjust=\"spacingAndGlyphs\" textLength=\"93\" x=\"33.5\" y=\"57.1387\">«attribute def»</text><text fill=\"#000000\" font-family=\"sans-serif\" font-size=\"12\" lengthAdjust=\"spacingAndGlyphs\" textLength=\"8\" x=\"76\" y=\"71.1074\">A</text><line style=\"stroke: #383838; stroke-width: 1.5;\" x1=\"33.5\" x2=\"126.5\" y1=\"78.9375\" y2=\"78.9375\"/><text fill=\"#000000\" font-family=\"sans-serif\" font-size=\"11\" lengthAdjust=\"spacingAndGlyphs\" textLength=\"51\" x=\"38.5\" y=\"109.9526\">i: Integer</text><text fill=\"#000000\" font-family=\"sans-serif\" font-size=\"11\" lengthAdjust=\"spacingAndGlyphs\" textLength=\"21\" x=\"38.5\" y=\"122.7573\">x: A</text><line style=\"stroke: #383838; stroke-width: 1.0;\" x1=\"33.5\" x2=\"52.5\" y1=\"93.3398\" y2=\"93.3398\"/><text fill=\"#000000\" font-family=\"sans-serif\" font-size=\"11\" lengthAdjust=\"spacingAndGlyphs\" textLength=\"55\" x=\"52.5\" y=\"96.6479\">attributes</text><line style=\"stroke: #383838; stroke-width: 1.0;\" x1=\"107.5\" x2=\"126.5\" y1=\"93.3398\" y2=\"93.3398\"/></a><!--MD5=[15ebcb19ae302d9b601edb458606d402]\n",
       "link E5 to E2--><a href=\"psysml:a788c1ae-8502-4aea-9d8b-5a5d865c76a9\" target=\"_top\" title=\"psysml:a788c1ae-8502-4aea-9d8b-5a5d865c76a9\" xlink:actuate=\"onRequest\" xlink:href=\"psysml:a788c1ae-8502-4aea-9d8b-5a5d865c76a9\" xlink:show=\"new\" xlink:title=\"psysml:a788c1ae-8502-4aea-9d8b-5a5d865c76a9\" xlink:type=\"simple\"><path d=\"M555.5,108.29 C555.5,108.29 555.5,168.85 555.5,168.85 \" fill=\"none\" id=\"E5-&gt;E2\" style=\"stroke: #383838; stroke-width: 1.0;\"/><polygon fill=\"#FFFFFF\" points=\"555.5,188.85,548.5,169.85,562.5,169.85,555.5,188.85\" style=\"stroke: #383838; stroke-width: 1.0;\"/><ellipse cx=\"550.5\" cy=\"164.15\" fill=\"#383838\" rx=\"2\" ry=\"2\" style=\"stroke: #383838; stroke-width: 1.0;\"/><ellipse cx=\"560.5\" cy=\"164.15\" fill=\"#383838\" rx=\"2\" ry=\"2\" style=\"stroke: #383838; stroke-width: 1.0;\"/></a><!--MD5=[2351f337d6de0f557b50152ba70847b5]\n",
       "link E6 to E2--><a href=\"psysml:96c9e024-7b1d-4ba9-883a-860d4899a00e\" target=\"_top\" title=\"psysml:96c9e024-7b1d-4ba9-883a-860d4899a00e\" xlink:actuate=\"onRequest\" xlink:href=\"psysml:96c9e024-7b1d-4ba9-883a-860d4899a00e\" xlink:show=\"new\" xlink:title=\"psysml:96c9e024-7b1d-4ba9-883a-860d4899a00e\" xlink:type=\"simple\"><path d=\"M505,108.29 C505,108.29 505,168.85 505,168.85 \" fill=\"none\" id=\"E6-&gt;E2\" style=\"stroke: #383838; stroke-width: 1.0;\"/><polygon fill=\"#FFFFFF\" points=\"505,188.85,498,169.85,512,169.85,505,188.85\" style=\"stroke: #383838; stroke-width: 1.0;\"/><ellipse cx=\"500\" cy=\"164.15\" fill=\"#383838\" rx=\"2\" ry=\"2\" style=\"stroke: #383838; stroke-width: 1.0;\"/><ellipse cx=\"510\" cy=\"164.15\" fill=\"#383838\" rx=\"2\" ry=\"2\" style=\"stroke: #383838; stroke-width: 1.0;\"/></a><!--MD5=[abb549fcbcf8cd09f1131993576ca519]\n",
       "@startuml\r\n",
       "skinparam linetype ortho\r\n",
       "skinparam monochrome true\r\n",
       "skinparam classbackgroundcolor white\r\n",
       "skinparam shadowing false\r\n",
       "skinparam wrapWidth 300\r\n",
       "hide circle\r\n",
       "\r\n",
       "package \"MultiplicityTest\" as E1  [[psysml:04657276-263c-446b-8b63-b81fdc3bdb65 ]]  {\r\n",
       "comp def \"P\" as E2  <<(T,blue) part def>> [[psysml:68eb8761-ff46-4523-ba58-41a062b6cb94 ]] {\r\n",
       "}\r\n",
       "comp usage \"n: Integer\" as E3  <<(T,blue) attribute>> [[psysml:c2c67205-2617-478d-9839-9411bc2f8511 ]] {\r\n",
       "}\r\n",
       "comp usage \"a\" as E4  <<(T,blue) part>> [[psysml:fbb3215b-67d9-4514-b40f-6d8c33165593 ]] {\r\n",
       "}\r\n",
       "comp usage \"b: P\" as E5  <<(T,blue) part>> [[psysml:d1ff5ca6-7417-4682-b046-127881647fcb ]] {\r\n",
       "}\r\n",
       "comp usage \"c: P\" as E6  <<(T,blue) part>> [[psysml:20d627d7-8daa-4ea4-8c0c-0e67ee5e3616 ]] {\r\n",
       "}\r\n",
       "comp usage \"d\" as E7  <<(T,blue) part>> [[psysml:4fc87a01-ac01-48e0-9821-1b5b80a637f1 ]] {\r\n",
       "}\r\n",
       "comp usage \"e\" as E8  <<(T,blue) part>> [[psysml:e7c3b12c-9054-4127-bd5f-a31eeffec0a6 ]] {\r\n",
       "}\r\n",
       "comp usage \"f\" as E9  <<(T,blue) part>> [[psysml:49b700d2-d9c4-4257-84cb-c65bfac2aa08 ]] {\r\n",
       "}\r\n",
       "comp usage \"g\" as E10  <<(T,blue) part>> [[psysml:20161f3e-4930-46fe-a17d-f79ec2a77aae ]] {\r\n",
       "}\r\n",
       "comp def \"A\" as E11  <<(T,blue) attribute def>> [[psysml:958dabfe-3a24-44d8-9bca-d5e375f56ac2 ]] {\r\n",
       "- - attributes - -\r\n",
       "i: Integer\r\n",
       "x: A\r\n",
       "}\r\n",
       "E5 - -:|> E2 [[psysml:a788c1ae-8502-4aea-9d8b-5a5d865c76a9 ]] \r\n",
       "E6 - -:|> E2 [[psysml:96c9e024-7b1d-4ba9-883a-860d4899a00e ]] \r\n",
       "}\r\n",
       "@enduml\r\n",
       "\n",
       "PlantUML version 1.2020.13(Sat Jun 13 12:26:38 UTC 2020)\n",
       "(EPL source distribution)\n",
       "Java Runtime: OpenJDK Runtime Environment\n",
       "JVM: OpenJDK 64-Bit Server VM\n",
       "Default Encoding: UTF-8\n",
       "Language: en\n",
       "Country: null\n",
       "--></g></svg>"
      ]
     },
     "execution_count": 52,
     "metadata": {},
     "output_type": "execute_result"
    }
   ],
   "source": [
    "%viz --style=\"ORTHOLINE\" --view=\"Tree\" \"MultiplicityTest\""
   ]
  },
  {
   "cell_type": "code",
   "execution_count": 53,
   "id": "d37accc9",
   "metadata": {
    "execution": {
     "iopub.execute_input": "2021-08-04T06:29:53.671068Z",
     "iopub.status.busy": "2021-08-04T06:29:53.670700Z",
     "iopub.status.idle": "2021-08-04T06:29:53.675248Z",
     "shell.execute_reply": "2021-08-04T06:29:53.674904Z"
    }
   },
   "outputs": [
    {
     "data": {
      "image/svg+xml": [
       "<?xml version=\"1.0\" encoding=\"UTF-8\" standalone=\"no\"?><svg xmlns=\"http://www.w3.org/2000/svg\" xmlns:xlink=\"http://www.w3.org/1999/xlink\" contentScriptType=\"application/ecmascript\" contentStyleType=\"text/css\" height=\"12px\" preserveAspectRatio=\"none\" style=\"width:12px;height:12px;\" version=\"1.1\" viewBox=\"0 0 12 12\" width=\"12px\" zoomAndPan=\"magnify\"><defs/><g><!--MD5=[97d6f38768b311333d388e66b2b27985]\n",
       "@startuml\r\n",
       "skinparam linetype ortho\r\n",
       "skinparam monochrome true\r\n",
       "skinparam classbackgroundcolor white\r\n",
       "skinparam shadowing false\r\n",
       "skinparam wrapWidth 300\r\n",
       "hide circle\r\n",
       "\r\n",
       "@enduml\r\n",
       "\n",
       "PlantUML version 1.2020.13(Sat Jun 13 12:26:38 UTC 2020)\n",
       "(EPL source distribution)\n",
       "Java Runtime: OpenJDK Runtime Environment\n",
       "JVM: OpenJDK 64-Bit Server VM\n",
       "Default Encoding: UTF-8\n",
       "Language: en\n",
       "Country: null\n",
       "--></g></svg>"
      ]
     },
     "execution_count": 53,
     "metadata": {},
     "output_type": "execute_result"
    }
   ],
   "source": [
    "%viz --style=\"ORTHOLINE\" --view=\"State\" \"MultiplicityTest\""
   ]
  },
  {
   "cell_type": "code",
   "execution_count": 54,
   "id": "e4602cc7",
   "metadata": {
    "execution": {
     "iopub.execute_input": "2021-08-04T06:29:53.725193Z",
     "iopub.status.busy": "2021-08-04T06:29:53.724771Z",
     "iopub.status.idle": "2021-08-04T06:29:53.750248Z",
     "shell.execute_reply": "2021-08-04T06:29:53.749883Z"
    }
   },
   "outputs": [
    {
     "data": {
      "image/svg+xml": [
       "<?xml version=\"1.0\" encoding=\"UTF-8\" standalone=\"no\"?><svg xmlns=\"http://www.w3.org/2000/svg\" xmlns:xlink=\"http://www.w3.org/1999/xlink\" contentScriptType=\"application/ecmascript\" contentStyleType=\"text/css\" height=\"115px\" preserveAspectRatio=\"none\" style=\"width:979px;height:115px;\" version=\"1.1\" viewBox=\"0 0 979 115\" width=\"979px\" zoomAndPan=\"magnify\"><defs/><g><!--MD5=[fbc87193dbaf4d95561dea2c320d4a47]\n",
       "cluster E1--><a href=\"psysml:04657276-263c-446b-8b63-b81fdc3bdb65\" target=\"_top\" title=\"psysml:04657276-263c-446b-8b63-b81fdc3bdb65\" xlink:actuate=\"onRequest\" xlink:href=\"psysml:04657276-263c-446b-8b63-b81fdc3bdb65\" xlink:show=\"new\" xlink:title=\"psysml:04657276-263c-446b-8b63-b81fdc3bdb65\" xlink:type=\"simple\"><polygon fill=\"#FFFFFF\" points=\"16,6,140,6,147,28.2969,957,28.2969,957,103,16,103,16,6\" style=\"stroke: #000000; stroke-width: 1.5;\"/><line style=\"stroke: #000000; stroke-width: 1.5;\" x1=\"16\" x2=\"147\" y1=\"28.2969\" y2=\"28.2969\"/><text fill=\"#000000\" font-family=\"sans-serif\" font-size=\"14\" font-weight=\"bold\" lengthAdjust=\"spacingAndGlyphs\" textLength=\"118\" x=\"20\" y=\"20.9951\">MultiplicityTest</text></a><!--MD5=[09b614a08d8cba4a07c9adeb5e0fee81]\n",
       "class E3--><a href=\"psysml:c2c67205-2617-478d-9839-9411bc2f8511\" target=\"_top\" title=\"psysml:c2c67205-2617-478d-9839-9411bc2f8511\" xlink:actuate=\"onRequest\" xlink:href=\"psysml:c2c67205-2617-478d-9839-9411bc2f8511\" xlink:show=\"new\" xlink:title=\"psysml:c2c67205-2617-478d-9839-9411bc2f8511\" xlink:type=\"simple\"><rect fill=\"#FFFFFF\" height=\"45.9375\" id=\"E3\" rx=\"10\" ry=\"10\" style=\"stroke: #383838; stroke-width: 1.5;\" width=\"71\" x=\"869.5\" y=\"41\"/><text fill=\"#000000\" font-family=\"sans-serif\" font-size=\"12\" font-style=\"italic\" lengthAdjust=\"spacingAndGlyphs\" textLength=\"69\" x=\"870.5\" y=\"57.1387\">«attribute»</text><text fill=\"#000000\" font-family=\"sans-serif\" font-size=\"12\" lengthAdjust=\"spacingAndGlyphs\" textLength=\"61\" x=\"874.5\" y=\"71.1074\">n: Integer</text><line style=\"stroke: #383838; stroke-width: 1.5;\" x1=\"870.5\" x2=\"939.5\" y1=\"78.9375\" y2=\"78.9375\"/></a><g id=\"E1.E11\"><a href=\"psysml:958dabfe-3a24-44d8-9bca-d5e375f56ac2\" target=\"_top\" title=\"psysml:958dabfe-3a24-44d8-9bca-d5e375f56ac2\" xlink:actuate=\"onRequest\" xlink:href=\"psysml:958dabfe-3a24-44d8-9bca-d5e375f56ac2\" xlink:show=\"new\" xlink:title=\"psysml:958dabfe-3a24-44d8-9bca-d5e375f56ac2\" xlink:type=\"simple\"><rect fill=\"#FFFFFF\" height=\"42.9375\" id=\"E11\" style=\"stroke: #383838; stroke-width: 1.5;\" width=\"100\" x=\"734\" y=\"42.5\"/><rect fill=\"#F8F8F8\" height=\"37.9375\" style=\"stroke: #383838; stroke-width: 1.5;\" width=\"100\" x=\"734\" y=\"42.5\"/><text fill=\"#000000\" font-family=\"sans-serif\" font-size=\"12\" font-style=\"italic\" lengthAdjust=\"spacingAndGlyphs\" textLength=\"93\" x=\"737.5\" y=\"58.6387\">«attribute def»</text><text fill=\"#000000\" font-family=\"sans-serif\" font-size=\"12\" lengthAdjust=\"spacingAndGlyphs\" textLength=\"8\" x=\"780\" y=\"72.6074\">A</text></a></g><g id=\"E1.E2\"><a href=\"psysml:68eb8761-ff46-4523-ba58-41a062b6cb94\" target=\"_top\" title=\"psysml:68eb8761-ff46-4523-ba58-41a062b6cb94\" xlink:actuate=\"onRequest\" xlink:href=\"psysml:68eb8761-ff46-4523-ba58-41a062b6cb94\" xlink:show=\"new\" xlink:title=\"psysml:68eb8761-ff46-4523-ba58-41a062b6cb94\" xlink:type=\"simple\"><rect fill=\"#FFFFFF\" height=\"42.9375\" id=\"E2\" style=\"stroke: #383838; stroke-width: 1.5;\" width=\"71\" x=\"627.5\" y=\"42.5\"/><rect fill=\"#F8F8F8\" height=\"37.9375\" style=\"stroke: #383838; stroke-width: 1.5;\" width=\"71\" x=\"627.5\" y=\"42.5\"/><text fill=\"#000000\" font-family=\"sans-serif\" font-size=\"12\" font-style=\"italic\" lengthAdjust=\"spacingAndGlyphs\" textLength=\"64\" x=\"631\" y=\"58.6387\">«part def»</text><text fill=\"#000000\" font-family=\"sans-serif\" font-size=\"12\" lengthAdjust=\"spacingAndGlyphs\" textLength=\"8\" x=\"659\" y=\"72.6074\">P</text></a></g><g id=\"E1.E4\"><a href=\"psysml:fbb3215b-67d9-4514-b40f-6d8c33165593\" target=\"_top\" title=\"psysml:fbb3215b-67d9-4514-b40f-6d8c33165593\" xlink:actuate=\"onRequest\" xlink:href=\"psysml:fbb3215b-67d9-4514-b40f-6d8c33165593\" xlink:show=\"new\" xlink:title=\"psysml:fbb3215b-67d9-4514-b40f-6d8c33165593\" xlink:type=\"simple\"><rect fill=\"#FFFFFF\" height=\"40\" id=\"E4\" rx=\"10\" ry=\"10\" style=\"stroke: #383838; stroke-width: 1.5;\" width=\"50\" x=\"542\" y=\"44\"/><rect fill=\"#F8F8F8\" height=\"23.9688\" rx=\"10\" ry=\"10\" style=\"stroke: #F8F8F8; stroke-width: 1.5;\" width=\"50\" x=\"542\" y=\"44\"/><rect fill=\"#F8F8F8\" height=\"10\" style=\"stroke: #F8F8F8; stroke-width: 1.5;\" width=\"50\" x=\"542\" y=\"57.9688\"/><rect fill=\"none\" height=\"40\" id=\"E4\" rx=\"10\" ry=\"10\" style=\"stroke: #383838; stroke-width: 1.5;\" width=\"50\" x=\"542\" y=\"44\"/><text fill=\"#000000\" font-family=\"sans-serif\" font-size=\"12\" lengthAdjust=\"spacingAndGlyphs\" textLength=\"8\" x=\"563\" y=\"60.1387\">a</text></a></g><g id=\"E1.E5\"><a href=\"psysml:d1ff5ca6-7417-4682-b046-127881647fcb\" target=\"_top\" title=\"psysml:d1ff5ca6-7417-4682-b046-127881647fcb\" xlink:actuate=\"onRequest\" xlink:href=\"psysml:d1ff5ca6-7417-4682-b046-127881647fcb\" xlink:show=\"new\" xlink:title=\"psysml:d1ff5ca6-7417-4682-b046-127881647fcb\" xlink:type=\"simple\"><rect fill=\"#FFFFFF\" height=\"40\" id=\"E5\" rx=\"10\" ry=\"10\" style=\"stroke: #383838; stroke-width: 1.5;\" width=\"50\" x=\"457\" y=\"44\"/><rect fill=\"#F8F8F8\" height=\"23.9688\" rx=\"10\" ry=\"10\" style=\"stroke: #F8F8F8; stroke-width: 1.5;\" width=\"50\" x=\"457\" y=\"44\"/><rect fill=\"#F8F8F8\" height=\"10\" style=\"stroke: #F8F8F8; stroke-width: 1.5;\" width=\"50\" x=\"457\" y=\"57.9688\"/><rect fill=\"none\" height=\"40\" id=\"E5\" rx=\"10\" ry=\"10\" style=\"stroke: #383838; stroke-width: 1.5;\" width=\"50\" x=\"457\" y=\"44\"/><text fill=\"#000000\" font-family=\"sans-serif\" font-size=\"12\" lengthAdjust=\"spacingAndGlyphs\" textLength=\"24\" x=\"470\" y=\"60.1387\">b: P</text></a></g><g id=\"E1.E6\"><a href=\"psysml:20d627d7-8daa-4ea4-8c0c-0e67ee5e3616\" target=\"_top\" title=\"psysml:20d627d7-8daa-4ea4-8c0c-0e67ee5e3616\" xlink:actuate=\"onRequest\" xlink:href=\"psysml:20d627d7-8daa-4ea4-8c0c-0e67ee5e3616\" xlink:show=\"new\" xlink:title=\"psysml:20d627d7-8daa-4ea4-8c0c-0e67ee5e3616\" xlink:type=\"simple\"><rect fill=\"#FFFFFF\" height=\"40\" id=\"E6\" rx=\"10\" ry=\"10\" style=\"stroke: #383838; stroke-width: 1.5;\" width=\"50\" x=\"372\" y=\"44\"/><rect fill=\"#F8F8F8\" height=\"23.9688\" rx=\"10\" ry=\"10\" style=\"stroke: #F8F8F8; stroke-width: 1.5;\" width=\"50\" x=\"372\" y=\"44\"/><rect fill=\"#F8F8F8\" height=\"10\" style=\"stroke: #F8F8F8; stroke-width: 1.5;\" width=\"50\" x=\"372\" y=\"57.9688\"/><rect fill=\"none\" height=\"40\" id=\"E6\" rx=\"10\" ry=\"10\" style=\"stroke: #383838; stroke-width: 1.5;\" width=\"50\" x=\"372\" y=\"44\"/><text fill=\"#000000\" font-family=\"sans-serif\" font-size=\"12\" lengthAdjust=\"spacingAndGlyphs\" textLength=\"23\" x=\"385.5\" y=\"60.1387\">c: P</text></a></g><g id=\"E1.E7\"><a href=\"psysml:4fc87a01-ac01-48e0-9821-1b5b80a637f1\" target=\"_top\" title=\"psysml:4fc87a01-ac01-48e0-9821-1b5b80a637f1\" xlink:actuate=\"onRequest\" xlink:href=\"psysml:4fc87a01-ac01-48e0-9821-1b5b80a637f1\" xlink:show=\"new\" xlink:title=\"psysml:4fc87a01-ac01-48e0-9821-1b5b80a637f1\" xlink:type=\"simple\"><rect fill=\"#FFFFFF\" height=\"40\" id=\"E7\" rx=\"10\" ry=\"10\" style=\"stroke: #383838; stroke-width: 1.5;\" width=\"50\" x=\"287\" y=\"44\"/><rect fill=\"#F8F8F8\" height=\"23.9688\" rx=\"10\" ry=\"10\" style=\"stroke: #F8F8F8; stroke-width: 1.5;\" width=\"50\" x=\"287\" y=\"44\"/><rect fill=\"#F8F8F8\" height=\"10\" style=\"stroke: #F8F8F8; stroke-width: 1.5;\" width=\"50\" x=\"287\" y=\"57.9688\"/><rect fill=\"none\" height=\"40\" id=\"E7\" rx=\"10\" ry=\"10\" style=\"stroke: #383838; stroke-width: 1.5;\" width=\"50\" x=\"287\" y=\"44\"/><text fill=\"#000000\" font-family=\"sans-serif\" font-size=\"12\" lengthAdjust=\"spacingAndGlyphs\" textLength=\"8\" x=\"308\" y=\"60.1387\">d</text></a></g><g id=\"E1.E8\"><a href=\"psysml:e7c3b12c-9054-4127-bd5f-a31eeffec0a6\" target=\"_top\" title=\"psysml:e7c3b12c-9054-4127-bd5f-a31eeffec0a6\" xlink:actuate=\"onRequest\" xlink:href=\"psysml:e7c3b12c-9054-4127-bd5f-a31eeffec0a6\" xlink:show=\"new\" xlink:title=\"psysml:e7c3b12c-9054-4127-bd5f-a31eeffec0a6\" xlink:type=\"simple\"><rect fill=\"#FFFFFF\" height=\"40\" id=\"E8\" rx=\"10\" ry=\"10\" style=\"stroke: #383838; stroke-width: 1.5;\" width=\"50\" x=\"202\" y=\"44\"/><rect fill=\"#F8F8F8\" height=\"23.9688\" rx=\"10\" ry=\"10\" style=\"stroke: #F8F8F8; stroke-width: 1.5;\" width=\"50\" x=\"202\" y=\"44\"/><rect fill=\"#F8F8F8\" height=\"10\" style=\"stroke: #F8F8F8; stroke-width: 1.5;\" width=\"50\" x=\"202\" y=\"57.9688\"/><rect fill=\"none\" height=\"40\" id=\"E8\" rx=\"10\" ry=\"10\" style=\"stroke: #383838; stroke-width: 1.5;\" width=\"50\" x=\"202\" y=\"44\"/><text fill=\"#000000\" font-family=\"sans-serif\" font-size=\"12\" lengthAdjust=\"spacingAndGlyphs\" textLength=\"8\" x=\"223\" y=\"60.1387\">e</text></a></g><g id=\"E1.E9\"><a href=\"psysml:49b700d2-d9c4-4257-84cb-c65bfac2aa08\" target=\"_top\" title=\"psysml:49b700d2-d9c4-4257-84cb-c65bfac2aa08\" xlink:actuate=\"onRequest\" xlink:href=\"psysml:49b700d2-d9c4-4257-84cb-c65bfac2aa08\" xlink:show=\"new\" xlink:title=\"psysml:49b700d2-d9c4-4257-84cb-c65bfac2aa08\" xlink:type=\"simple\"><rect fill=\"#FFFFFF\" height=\"40\" id=\"E9\" rx=\"10\" ry=\"10\" style=\"stroke: #383838; stroke-width: 1.5;\" width=\"50\" x=\"117\" y=\"44\"/><rect fill=\"#F8F8F8\" height=\"23.9688\" rx=\"10\" ry=\"10\" style=\"stroke: #F8F8F8; stroke-width: 1.5;\" width=\"50\" x=\"117\" y=\"44\"/><rect fill=\"#F8F8F8\" height=\"10\" style=\"stroke: #F8F8F8; stroke-width: 1.5;\" width=\"50\" x=\"117\" y=\"57.9688\"/><rect fill=\"none\" height=\"40\" id=\"E9\" rx=\"10\" ry=\"10\" style=\"stroke: #383838; stroke-width: 1.5;\" width=\"50\" x=\"117\" y=\"44\"/><text fill=\"#000000\" font-family=\"sans-serif\" font-size=\"12\" lengthAdjust=\"spacingAndGlyphs\" textLength=\"4\" x=\"140\" y=\"60.1387\">f</text></a></g><g id=\"E1.E10\"><a href=\"psysml:20161f3e-4930-46fe-a17d-f79ec2a77aae\" target=\"_top\" title=\"psysml:20161f3e-4930-46fe-a17d-f79ec2a77aae\" xlink:actuate=\"onRequest\" xlink:href=\"psysml:20161f3e-4930-46fe-a17d-f79ec2a77aae\" xlink:show=\"new\" xlink:title=\"psysml:20161f3e-4930-46fe-a17d-f79ec2a77aae\" xlink:type=\"simple\"><rect fill=\"#FFFFFF\" height=\"40\" id=\"E10\" rx=\"10\" ry=\"10\" style=\"stroke: #383838; stroke-width: 1.5;\" width=\"50\" x=\"32\" y=\"44\"/><rect fill=\"#F8F8F8\" height=\"23.9688\" rx=\"10\" ry=\"10\" style=\"stroke: #F8F8F8; stroke-width: 1.5;\" width=\"50\" x=\"32\" y=\"44\"/><rect fill=\"#F8F8F8\" height=\"10\" style=\"stroke: #F8F8F8; stroke-width: 1.5;\" width=\"50\" x=\"32\" y=\"57.9688\"/><rect fill=\"none\" height=\"40\" id=\"E10\" rx=\"10\" ry=\"10\" style=\"stroke: #383838; stroke-width: 1.5;\" width=\"50\" x=\"32\" y=\"44\"/><text fill=\"#000000\" font-family=\"sans-serif\" font-size=\"12\" lengthAdjust=\"spacingAndGlyphs\" textLength=\"8\" x=\"53\" y=\"60.1387\">g</text></a></g><!--MD5=[9ecfbcc60cc4608fb762ca81d325d0e3]\n",
       "@startuml\r\n",
       "skinparam ranksep 10\r\n",
       "skinparam rectangle {\r\n",
       " backgroundColor<<block>> LightGreen\r\n",
       "}\r\n",
       "skinparam linetype ortho\r\n",
       "skinparam monochrome true\r\n",
       "skinparam classbackgroundcolor white\r\n",
       "skinparam shadowing false\r\n",
       "skinparam wrapWidth 300\r\n",
       "hide circle\r\n",
       "\r\n",
       "package \"MultiplicityTest\" as E1  [[psysml:04657276-263c-446b-8b63-b81fdc3bdb65 ]]  {\r\n",
       "rec def \"P\" as E2  <<(T,blue) part def>> [[psysml:68eb8761-ff46-4523-ba58-41a062b6cb94 ]] {\r\n",
       "}\r\n",
       "comp usage \"n: Integer\" as E3  <<(T,blue) attribute>> [[psysml:c2c67205-2617-478d-9839-9411bc2f8511 ]] {\r\n",
       "}\r\n",
       "rec usage \"a\" as E4  [[psysml:fbb3215b-67d9-4514-b40f-6d8c33165593 ]] {\r\n",
       "}\r\n",
       "rec usage \"b: P\" as E5  [[psysml:d1ff5ca6-7417-4682-b046-127881647fcb ]] {\r\n",
       "}\r\n",
       "rec usage \"c: P\" as E6  [[psysml:20d627d7-8daa-4ea4-8c0c-0e67ee5e3616 ]] {\r\n",
       "}\r\n",
       "rec usage \"d\" as E7  [[psysml:4fc87a01-ac01-48e0-9821-1b5b80a637f1 ]] {\r\n",
       "}\r\n",
       "rec usage \"e\" as E8  [[psysml:e7c3b12c-9054-4127-bd5f-a31eeffec0a6 ]] {\r\n",
       "}\r\n",
       "rec usage \"f\" as E9  [[psysml:49b700d2-d9c4-4257-84cb-c65bfac2aa08 ]] {\r\n",
       "}\r\n",
       "rec usage \"g\" as E10  [[psysml:20161f3e-4930-46fe-a17d-f79ec2a77aae ]] {\r\n",
       "}\r\n",
       "def \"A\" as E11  <<(T,blue) attribute def>> [[psysml:958dabfe-3a24-44d8-9bca-d5e375f56ac2 ]] \r\n",
       "}\r\n",
       "@enduml\r\n",
       "\n",
       "PlantUML version 1.2020.13(Sat Jun 13 12:26:38 UTC 2020)\n",
       "(EPL source distribution)\n",
       "Java Runtime: OpenJDK Runtime Environment\n",
       "JVM: OpenJDK 64-Bit Server VM\n",
       "Default Encoding: UTF-8\n",
       "Language: en\n",
       "Country: null\n",
       "--></g></svg>"
      ]
     },
     "execution_count": 54,
     "metadata": {},
     "output_type": "execute_result"
    }
   ],
   "source": [
    "%viz --style=\"ORTHOLINE\" --view=\"Interconnection\" \"MultiplicityTest\""
   ]
  },
  {
   "cell_type": "code",
   "execution_count": 55,
   "id": "d85cb169",
   "metadata": {
    "execution": {
     "iopub.execute_input": "2021-08-04T06:29:53.799483Z",
     "iopub.status.busy": "2021-08-04T06:29:53.799077Z",
     "iopub.status.idle": "2021-08-04T06:29:53.803667Z",
     "shell.execute_reply": "2021-08-04T06:29:53.803316Z"
    }
   },
   "outputs": [
    {
     "data": {
      "image/svg+xml": [
       "<?xml version=\"1.0\" encoding=\"UTF-8\" standalone=\"no\"?><svg xmlns=\"http://www.w3.org/2000/svg\" xmlns:xlink=\"http://www.w3.org/1999/xlink\" contentScriptType=\"application/ecmascript\" contentStyleType=\"text/css\" height=\"12px\" preserveAspectRatio=\"none\" style=\"width:12px;height:12px;\" version=\"1.1\" viewBox=\"0 0 12 12\" width=\"12px\" zoomAndPan=\"magnify\"><defs/><g><!--MD5=[72934c63077099a26744516a776b4749]\n",
       "@startuml\r\n",
       "skinparam ranksep 8\r\n",
       "skinparam linetype ortho\r\n",
       "skinparam monochrome true\r\n",
       "skinparam classbackgroundcolor white\r\n",
       "skinparam shadowing false\r\n",
       "skinparam wrapWidth 300\r\n",
       "hide circle\r\n",
       "\r\n",
       "@enduml\r\n",
       "\n",
       "PlantUML version 1.2020.13(Sat Jun 13 12:26:38 UTC 2020)\n",
       "(EPL source distribution)\n",
       "Java Runtime: OpenJDK Runtime Environment\n",
       "JVM: OpenJDK 64-Bit Server VM\n",
       "Default Encoding: UTF-8\n",
       "Language: en\n",
       "Country: null\n",
       "--></g></svg>"
      ]
     },
     "execution_count": 55,
     "metadata": {},
     "output_type": "execute_result"
    }
   ],
   "source": [
    "%viz --style=\"ORTHOLINE\" --view=\"Action\" \"MultiplicityTest\""
   ]
  },
  {
   "cell_type": "code",
   "execution_count": 56,
   "id": "0b91c115",
   "metadata": {
    "execution": {
     "iopub.execute_input": "2021-08-04T06:29:53.853548Z",
     "iopub.status.busy": "2021-08-04T06:29:53.853141Z",
     "iopub.status.idle": "2021-08-04T06:29:53.898621Z",
     "shell.execute_reply": "2021-08-04T06:29:53.898432Z"
    }
   },
   "outputs": [
    {
     "data": {
      "image/svg+xml": [
       "<?xml version=\"1.0\" encoding=\"UTF-8\" standalone=\"no\"?><svg xmlns=\"http://www.w3.org/2000/svg\" xmlns:xlink=\"http://www.w3.org/1999/xlink\" contentScriptType=\"application/ecmascript\" contentStyleType=\"text/css\" height=\"263px\" preserveAspectRatio=\"none\" style=\"width:812px;height:263px;\" version=\"1.1\" viewBox=\"0 0 812 263\" width=\"812px\" zoomAndPan=\"magnify\"><defs/><g><!--MD5=[fbc87193dbaf4d95561dea2c320d4a47]\n",
       "cluster E1--><a href=\"psysml:04657276-263c-446b-8b63-b81fdc3bdb65\" target=\"_top\" title=\"psysml:04657276-263c-446b-8b63-b81fdc3bdb65\" xlink:actuate=\"onRequest\" xlink:href=\"psysml:04657276-263c-446b-8b63-b81fdc3bdb65\" xlink:show=\"new\" xlink:title=\"psysml:04657276-263c-446b-8b63-b81fdc3bdb65\" xlink:type=\"simple\"><polygon fill=\"#FFFFFF\" points=\"16,6,140,6,147,28.2969,790,28.2969,790,251,16,251,16,6\" style=\"stroke: #000000; stroke-width: 1.5;\"/><line style=\"stroke: #000000; stroke-width: 1.5;\" x1=\"16\" x2=\"147\" y1=\"28.2969\" y2=\"28.2969\"/><text fill=\"#000000\" font-family=\"sans-serif\" font-size=\"14\" font-weight=\"bold\" lengthAdjust=\"spacingAndGlyphs\" textLength=\"118\" x=\"20\" y=\"20.9951\">MultiplicityTest</text></a><!--MD5=[b4997ac47864f28c2f74865a473b2911]\n",
       "class E2--><a href=\"psysml:68eb8761-ff46-4523-ba58-41a062b6cb94\" target=\"_top\" title=\"psysml:68eb8761-ff46-4523-ba58-41a062b6cb94\" xlink:actuate=\"onRequest\" xlink:href=\"psysml:68eb8761-ff46-4523-ba58-41a062b6cb94\" xlink:show=\"new\" xlink:title=\"psysml:68eb8761-ff46-4523-ba58-41a062b6cb94\" xlink:type=\"simple\"><rect fill=\"#FFFFFF\" height=\"45.9375\" id=\"E2\" style=\"stroke: #383838; stroke-width: 1.5;\" width=\"66\" x=\"497\" y=\"189\"/><text fill=\"#000000\" font-family=\"sans-serif\" font-size=\"12\" font-style=\"italic\" lengthAdjust=\"spacingAndGlyphs\" textLength=\"64\" x=\"498\" y=\"205.1387\">«part def»</text><text fill=\"#000000\" font-family=\"sans-serif\" font-size=\"12\" lengthAdjust=\"spacingAndGlyphs\" textLength=\"8\" x=\"526\" y=\"219.1074\">P</text><line style=\"stroke: #383838; stroke-width: 1.5;\" x1=\"498\" x2=\"562\" y1=\"226.9375\" y2=\"226.9375\"/></a><!--MD5=[09b614a08d8cba4a07c9adeb5e0fee81]\n",
       "class E3--><a href=\"psysml:c2c67205-2617-478d-9839-9411bc2f8511\" target=\"_top\" title=\"psysml:c2c67205-2617-478d-9839-9411bc2f8511\" xlink:actuate=\"onRequest\" xlink:href=\"psysml:c2c67205-2617-478d-9839-9411bc2f8511\" xlink:show=\"new\" xlink:title=\"psysml:c2c67205-2617-478d-9839-9411bc2f8511\" xlink:type=\"simple\"><rect fill=\"#FFFFFF\" height=\"45.9375\" id=\"E3\" rx=\"10\" ry=\"10\" style=\"stroke: #383838; stroke-width: 1.5;\" width=\"71\" x=\"702.5\" y=\"62\"/><text fill=\"#000000\" font-family=\"sans-serif\" font-size=\"12\" font-style=\"italic\" lengthAdjust=\"spacingAndGlyphs\" textLength=\"69\" x=\"703.5\" y=\"78.1387\">«attribute»</text><text fill=\"#000000\" font-family=\"sans-serif\" font-size=\"12\" lengthAdjust=\"spacingAndGlyphs\" textLength=\"61\" x=\"707.5\" y=\"92.1074\">n: Integer</text><line style=\"stroke: #383838; stroke-width: 1.5;\" x1=\"703.5\" x2=\"772.5\" y1=\"99.9375\" y2=\"99.9375\"/></a><!--MD5=[ebbe1d658d1005bcc118a6aa81145e00]\n",
       "class E4--><a href=\"psysml:fbb3215b-67d9-4514-b40f-6d8c33165593\" target=\"_top\" title=\"psysml:fbb3215b-67d9-4514-b40f-6d8c33165593\" xlink:actuate=\"onRequest\" xlink:href=\"psysml:fbb3215b-67d9-4514-b40f-6d8c33165593\" xlink:show=\"new\" xlink:title=\"psysml:fbb3215b-67d9-4514-b40f-6d8c33165593\" xlink:type=\"simple\"><rect fill=\"#FFFFFF\" height=\"45.9375\" id=\"E4\" rx=\"10\" ry=\"10\" style=\"stroke: #383838; stroke-width: 1.5;\" width=\"42\" x=\"625\" y=\"62\"/><text fill=\"#000000\" font-family=\"sans-serif\" font-size=\"12\" font-style=\"italic\" lengthAdjust=\"spacingAndGlyphs\" textLength=\"40\" x=\"626\" y=\"78.1387\">«part»</text><text fill=\"#000000\" font-family=\"sans-serif\" font-size=\"12\" lengthAdjust=\"spacingAndGlyphs\" textLength=\"8\" x=\"642\" y=\"92.1074\">a</text><line style=\"stroke: #383838; stroke-width: 1.5;\" x1=\"626\" x2=\"666\" y1=\"99.9375\" y2=\"99.9375\"/></a><!--MD5=[270fce915f116d4de14055a7c1d9a0f3]\n",
       "class E5--><a href=\"psysml:d1ff5ca6-7417-4682-b046-127881647fcb\" target=\"_top\" title=\"psysml:d1ff5ca6-7417-4682-b046-127881647fcb\" xlink:actuate=\"onRequest\" xlink:href=\"psysml:d1ff5ca6-7417-4682-b046-127881647fcb\" xlink:show=\"new\" xlink:title=\"psysml:d1ff5ca6-7417-4682-b046-127881647fcb\" xlink:type=\"simple\"><rect fill=\"#FFFFFF\" height=\"45.9375\" id=\"E5\" rx=\"10\" ry=\"10\" style=\"stroke: #383838; stroke-width: 1.5;\" width=\"42\" x=\"548\" y=\"62\"/><text fill=\"#000000\" font-family=\"sans-serif\" font-size=\"12\" font-style=\"italic\" lengthAdjust=\"spacingAndGlyphs\" textLength=\"40\" x=\"549\" y=\"78.1387\">«part»</text><text fill=\"#000000\" font-family=\"sans-serif\" font-size=\"12\" lengthAdjust=\"spacingAndGlyphs\" textLength=\"24\" x=\"557\" y=\"92.1074\">b: P</text><line style=\"stroke: #383838; stroke-width: 1.5;\" x1=\"549\" x2=\"589\" y1=\"99.9375\" y2=\"99.9375\"/></a><!--MD5=[60a26617385b1d2d0262a64233df1f8d]\n",
       "class E6--><a href=\"psysml:20d627d7-8daa-4ea4-8c0c-0e67ee5e3616\" target=\"_top\" title=\"psysml:20d627d7-8daa-4ea4-8c0c-0e67ee5e3616\" xlink:actuate=\"onRequest\" xlink:href=\"psysml:20d627d7-8daa-4ea4-8c0c-0e67ee5e3616\" xlink:show=\"new\" xlink:title=\"psysml:20d627d7-8daa-4ea4-8c0c-0e67ee5e3616\" xlink:type=\"simple\"><rect fill=\"#FFFFFF\" height=\"45.9375\" id=\"E6\" rx=\"10\" ry=\"10\" style=\"stroke: #383838; stroke-width: 1.5;\" width=\"42\" x=\"471\" y=\"62\"/><text fill=\"#000000\" font-family=\"sans-serif\" font-size=\"12\" font-style=\"italic\" lengthAdjust=\"spacingAndGlyphs\" textLength=\"40\" x=\"472\" y=\"78.1387\">«part»</text><text fill=\"#000000\" font-family=\"sans-serif\" font-size=\"12\" lengthAdjust=\"spacingAndGlyphs\" textLength=\"23\" x=\"480.5\" y=\"92.1074\">c: P</text><line style=\"stroke: #383838; stroke-width: 1.5;\" x1=\"472\" x2=\"512\" y1=\"99.9375\" y2=\"99.9375\"/></a><!--MD5=[2156ba9850f5573cc1fc38a6a4b2f02b]\n",
       "class E7--><a href=\"psysml:4fc87a01-ac01-48e0-9821-1b5b80a637f1\" target=\"_top\" title=\"psysml:4fc87a01-ac01-48e0-9821-1b5b80a637f1\" xlink:actuate=\"onRequest\" xlink:href=\"psysml:4fc87a01-ac01-48e0-9821-1b5b80a637f1\" xlink:show=\"new\" xlink:title=\"psysml:4fc87a01-ac01-48e0-9821-1b5b80a637f1\" xlink:type=\"simple\"><rect fill=\"#FFFFFF\" height=\"45.9375\" id=\"E7\" rx=\"10\" ry=\"10\" style=\"stroke: #383838; stroke-width: 1.5;\" width=\"42\" x=\"394\" y=\"62\"/><text fill=\"#000000\" font-family=\"sans-serif\" font-size=\"12\" font-style=\"italic\" lengthAdjust=\"spacingAndGlyphs\" textLength=\"40\" x=\"395\" y=\"78.1387\">«part»</text><text fill=\"#000000\" font-family=\"sans-serif\" font-size=\"12\" lengthAdjust=\"spacingAndGlyphs\" textLength=\"8\" x=\"411\" y=\"92.1074\">d</text><line style=\"stroke: #383838; stroke-width: 1.5;\" x1=\"395\" x2=\"435\" y1=\"99.9375\" y2=\"99.9375\"/></a><!--MD5=[b9389687b975829384b498ac4b7476b2]\n",
       "class E8--><a href=\"psysml:e7c3b12c-9054-4127-bd5f-a31eeffec0a6\" target=\"_top\" title=\"psysml:e7c3b12c-9054-4127-bd5f-a31eeffec0a6\" xlink:actuate=\"onRequest\" xlink:href=\"psysml:e7c3b12c-9054-4127-bd5f-a31eeffec0a6\" xlink:show=\"new\" xlink:title=\"psysml:e7c3b12c-9054-4127-bd5f-a31eeffec0a6\" xlink:type=\"simple\"><rect fill=\"#FFFFFF\" height=\"45.9375\" id=\"E8\" rx=\"10\" ry=\"10\" style=\"stroke: #383838; stroke-width: 1.5;\" width=\"42\" x=\"317\" y=\"62\"/><text fill=\"#000000\" font-family=\"sans-serif\" font-size=\"12\" font-style=\"italic\" lengthAdjust=\"spacingAndGlyphs\" textLength=\"40\" x=\"318\" y=\"78.1387\">«part»</text><text fill=\"#000000\" font-family=\"sans-serif\" font-size=\"12\" lengthAdjust=\"spacingAndGlyphs\" textLength=\"8\" x=\"334\" y=\"92.1074\">e</text><line style=\"stroke: #383838; stroke-width: 1.5;\" x1=\"318\" x2=\"358\" y1=\"99.9375\" y2=\"99.9375\"/></a><!--MD5=[fd4143e9d270a159db93a4ea2a975926]\n",
       "class E9--><a href=\"psysml:49b700d2-d9c4-4257-84cb-c65bfac2aa08\" target=\"_top\" title=\"psysml:49b700d2-d9c4-4257-84cb-c65bfac2aa08\" xlink:actuate=\"onRequest\" xlink:href=\"psysml:49b700d2-d9c4-4257-84cb-c65bfac2aa08\" xlink:show=\"new\" xlink:title=\"psysml:49b700d2-d9c4-4257-84cb-c65bfac2aa08\" xlink:type=\"simple\"><rect fill=\"#FFFFFF\" height=\"45.9375\" id=\"E9\" rx=\"10\" ry=\"10\" style=\"stroke: #383838; stroke-width: 1.5;\" width=\"42\" x=\"240\" y=\"62\"/><text fill=\"#000000\" font-family=\"sans-serif\" font-size=\"12\" font-style=\"italic\" lengthAdjust=\"spacingAndGlyphs\" textLength=\"40\" x=\"241\" y=\"78.1387\">«part»</text><text fill=\"#000000\" font-family=\"sans-serif\" font-size=\"12\" lengthAdjust=\"spacingAndGlyphs\" textLength=\"4\" x=\"259\" y=\"92.1074\">f</text><line style=\"stroke: #383838; stroke-width: 1.5;\" x1=\"241\" x2=\"281\" y1=\"99.9375\" y2=\"99.9375\"/></a><!--MD5=[96f4274e9e20536e775497830990834d]\n",
       "class E10--><a href=\"psysml:20161f3e-4930-46fe-a17d-f79ec2a77aae\" target=\"_top\" title=\"psysml:20161f3e-4930-46fe-a17d-f79ec2a77aae\" xlink:actuate=\"onRequest\" xlink:href=\"psysml:20161f3e-4930-46fe-a17d-f79ec2a77aae\" xlink:show=\"new\" xlink:title=\"psysml:20161f3e-4930-46fe-a17d-f79ec2a77aae\" xlink:type=\"simple\"><rect fill=\"#FFFFFF\" height=\"45.9375\" id=\"E10\" rx=\"10\" ry=\"10\" style=\"stroke: #383838; stroke-width: 1.5;\" width=\"42\" x=\"163\" y=\"62\"/><text fill=\"#000000\" font-family=\"sans-serif\" font-size=\"12\" font-style=\"italic\" lengthAdjust=\"spacingAndGlyphs\" textLength=\"40\" x=\"164\" y=\"78.1387\">«part»</text><text fill=\"#000000\" font-family=\"sans-serif\" font-size=\"12\" lengthAdjust=\"spacingAndGlyphs\" textLength=\"8\" x=\"180\" y=\"92.1074\">g</text><line style=\"stroke: #383838; stroke-width: 1.5;\" x1=\"164\" x2=\"204\" y1=\"99.9375\" y2=\"99.9375\"/></a><!--MD5=[1dd1bfd58a279cf63c5f349dbc8fc6a1]\n",
       "class E11--><a href=\"psysml:958dabfe-3a24-44d8-9bca-d5e375f56ac2\" target=\"_top\" title=\"psysml:958dabfe-3a24-44d8-9bca-d5e375f56ac2\" xlink:actuate=\"onRequest\" xlink:href=\"psysml:958dabfe-3a24-44d8-9bca-d5e375f56ac2\" xlink:show=\"new\" xlink:title=\"psysml:958dabfe-3a24-44d8-9bca-d5e375f56ac2\" xlink:type=\"simple\"><rect fill=\"#FFFFFF\" height=\"88.3516\" id=\"E11\" style=\"stroke: #383838; stroke-width: 1.5;\" width=\"95\" x=\"32.5\" y=\"41\"/><text fill=\"#000000\" font-family=\"sans-serif\" font-size=\"12\" font-style=\"italic\" lengthAdjust=\"spacingAndGlyphs\" textLength=\"93\" x=\"33.5\" y=\"57.1387\">«attribute def»</text><text fill=\"#000000\" font-family=\"sans-serif\" font-size=\"12\" lengthAdjust=\"spacingAndGlyphs\" textLength=\"8\" x=\"76\" y=\"71.1074\">A</text><line style=\"stroke: #383838; stroke-width: 1.5;\" x1=\"33.5\" x2=\"126.5\" y1=\"78.9375\" y2=\"78.9375\"/><text fill=\"#000000\" font-family=\"sans-serif\" font-size=\"11\" lengthAdjust=\"spacingAndGlyphs\" textLength=\"51\" x=\"38.5\" y=\"109.9526\">i: Integer</text><text fill=\"#000000\" font-family=\"sans-serif\" font-size=\"11\" lengthAdjust=\"spacingAndGlyphs\" textLength=\"21\" x=\"38.5\" y=\"122.7573\">x: A</text><line style=\"stroke: #383838; stroke-width: 1.0;\" x1=\"33.5\" x2=\"52.5\" y1=\"93.3398\" y2=\"93.3398\"/><text fill=\"#000000\" font-family=\"sans-serif\" font-size=\"11\" lengthAdjust=\"spacingAndGlyphs\" textLength=\"55\" x=\"52.5\" y=\"96.6479\">attributes</text><line style=\"stroke: #383838; stroke-width: 1.0;\" x1=\"107.5\" x2=\"126.5\" y1=\"93.3398\" y2=\"93.3398\"/></a><!--MD5=[15ebcb19ae302d9b601edb458606d402]\n",
       "link E5 to E2--><a href=\"psysml:a788c1ae-8502-4aea-9d8b-5a5d865c76a9\" target=\"_top\" title=\"psysml:a788c1ae-8502-4aea-9d8b-5a5d865c76a9\" xlink:actuate=\"onRequest\" xlink:href=\"psysml:a788c1ae-8502-4aea-9d8b-5a5d865c76a9\" xlink:show=\"new\" xlink:title=\"psysml:a788c1ae-8502-4aea-9d8b-5a5d865c76a9\" xlink:type=\"simple\"><path d=\"M555.5,108.29 C555.5,108.29 555.5,168.85 555.5,168.85 \" fill=\"none\" id=\"E5-&gt;E2\" style=\"stroke: #383838; stroke-width: 1.0;\"/><polygon fill=\"#FFFFFF\" points=\"555.5,188.85,548.5,169.85,562.5,169.85,555.5,188.85\" style=\"stroke: #383838; stroke-width: 1.0;\"/><ellipse cx=\"550.5\" cy=\"164.15\" fill=\"#383838\" rx=\"2\" ry=\"2\" style=\"stroke: #383838; stroke-width: 1.0;\"/><ellipse cx=\"560.5\" cy=\"164.15\" fill=\"#383838\" rx=\"2\" ry=\"2\" style=\"stroke: #383838; stroke-width: 1.0;\"/></a><!--MD5=[2351f337d6de0f557b50152ba70847b5]\n",
       "link E6 to E2--><a href=\"psysml:96c9e024-7b1d-4ba9-883a-860d4899a00e\" target=\"_top\" title=\"psysml:96c9e024-7b1d-4ba9-883a-860d4899a00e\" xlink:actuate=\"onRequest\" xlink:href=\"psysml:96c9e024-7b1d-4ba9-883a-860d4899a00e\" xlink:show=\"new\" xlink:title=\"psysml:96c9e024-7b1d-4ba9-883a-860d4899a00e\" xlink:type=\"simple\"><path d=\"M505,108.29 C505,108.29 505,168.85 505,168.85 \" fill=\"none\" id=\"E6-&gt;E2\" style=\"stroke: #383838; stroke-width: 1.0;\"/><polygon fill=\"#FFFFFF\" points=\"505,188.85,498,169.85,512,169.85,505,188.85\" style=\"stroke: #383838; stroke-width: 1.0;\"/><ellipse cx=\"500\" cy=\"164.15\" fill=\"#383838\" rx=\"2\" ry=\"2\" style=\"stroke: #383838; stroke-width: 1.0;\"/><ellipse cx=\"510\" cy=\"164.15\" fill=\"#383838\" rx=\"2\" ry=\"2\" style=\"stroke: #383838; stroke-width: 1.0;\"/></a><!--MD5=[abb549fcbcf8cd09f1131993576ca519]\n",
       "@startuml\r\n",
       "skinparam linetype ortho\r\n",
       "skinparam monochrome true\r\n",
       "skinparam classbackgroundcolor white\r\n",
       "skinparam shadowing false\r\n",
       "skinparam wrapWidth 300\r\n",
       "hide circle\r\n",
       "\r\n",
       "package \"MultiplicityTest\" as E1  [[psysml:04657276-263c-446b-8b63-b81fdc3bdb65 ]]  {\r\n",
       "comp def \"P\" as E2  <<(T,blue) part def>> [[psysml:68eb8761-ff46-4523-ba58-41a062b6cb94 ]] {\r\n",
       "}\r\n",
       "comp usage \"n: Integer\" as E3  <<(T,blue) attribute>> [[psysml:c2c67205-2617-478d-9839-9411bc2f8511 ]] {\r\n",
       "}\r\n",
       "comp usage \"a\" as E4  <<(T,blue) part>> [[psysml:fbb3215b-67d9-4514-b40f-6d8c33165593 ]] {\r\n",
       "}\r\n",
       "comp usage \"b: P\" as E5  <<(T,blue) part>> [[psysml:d1ff5ca6-7417-4682-b046-127881647fcb ]] {\r\n",
       "}\r\n",
       "comp usage \"c: P\" as E6  <<(T,blue) part>> [[psysml:20d627d7-8daa-4ea4-8c0c-0e67ee5e3616 ]] {\r\n",
       "}\r\n",
       "comp usage \"d\" as E7  <<(T,blue) part>> [[psysml:4fc87a01-ac01-48e0-9821-1b5b80a637f1 ]] {\r\n",
       "}\r\n",
       "comp usage \"e\" as E8  <<(T,blue) part>> [[psysml:e7c3b12c-9054-4127-bd5f-a31eeffec0a6 ]] {\r\n",
       "}\r\n",
       "comp usage \"f\" as E9  <<(T,blue) part>> [[psysml:49b700d2-d9c4-4257-84cb-c65bfac2aa08 ]] {\r\n",
       "}\r\n",
       "comp usage \"g\" as E10  <<(T,blue) part>> [[psysml:20161f3e-4930-46fe-a17d-f79ec2a77aae ]] {\r\n",
       "}\r\n",
       "comp def \"A\" as E11  <<(T,blue) attribute def>> [[psysml:958dabfe-3a24-44d8-9bca-d5e375f56ac2 ]] {\r\n",
       "- - attributes - -\r\n",
       "i: Integer\r\n",
       "x: A\r\n",
       "}\r\n",
       "E5 - -:|> E2 [[psysml:a788c1ae-8502-4aea-9d8b-5a5d865c76a9 ]] \r\n",
       "E6 - -:|> E2 [[psysml:96c9e024-7b1d-4ba9-883a-860d4899a00e ]] \r\n",
       "}\r\n",
       "@enduml\r\n",
       "\n",
       "PlantUML version 1.2020.13(Sat Jun 13 12:26:38 UTC 2020)\n",
       "(EPL source distribution)\n",
       "Java Runtime: OpenJDK Runtime Environment\n",
       "JVM: OpenJDK 64-Bit Server VM\n",
       "Default Encoding: UTF-8\n",
       "Language: en\n",
       "Country: null\n",
       "--></g></svg>"
      ]
     },
     "execution_count": 56,
     "metadata": {},
     "output_type": "execute_result"
    }
   ],
   "source": [
    "%viz --style=\"ORTHOLINE\" --view=\"Sequence\" \"MultiplicityTest\""
   ]
  },
  {
   "cell_type": "code",
   "execution_count": 57,
   "id": "5060c9f4",
   "metadata": {
    "execution": {
     "iopub.execute_input": "2021-08-04T06:29:53.948477Z",
     "iopub.status.busy": "2021-08-04T06:29:53.948217Z",
     "iopub.status.idle": "2021-08-04T06:29:53.983380Z",
     "shell.execute_reply": "2021-08-04T06:29:53.982400Z"
    }
   },
   "outputs": [
    {
     "data": {
      "image/svg+xml": [
       "<?xml version=\"1.0\" encoding=\"UTF-8\" standalone=\"no\"?><svg xmlns=\"http://www.w3.org/2000/svg\" xmlns:xlink=\"http://www.w3.org/1999/xlink\" contentScriptType=\"application/ecmascript\" contentStyleType=\"text/css\" height=\"263px\" preserveAspectRatio=\"none\" style=\"width:812px;height:263px;\" version=\"1.1\" viewBox=\"0 0 812 263\" width=\"812px\" zoomAndPan=\"magnify\"><defs/><g><!--MD5=[fbc87193dbaf4d95561dea2c320d4a47]\n",
       "cluster E1--><a href=\"psysml:04657276-263c-446b-8b63-b81fdc3bdb65\" target=\"_top\" title=\"psysml:04657276-263c-446b-8b63-b81fdc3bdb65\" xlink:actuate=\"onRequest\" xlink:href=\"psysml:04657276-263c-446b-8b63-b81fdc3bdb65\" xlink:show=\"new\" xlink:title=\"psysml:04657276-263c-446b-8b63-b81fdc3bdb65\" xlink:type=\"simple\"><polygon fill=\"#FFFFFF\" points=\"16,6,140,6,147,28.2969,790,28.2969,790,251,16,251,16,6\" style=\"stroke: #000000; stroke-width: 1.5;\"/><line style=\"stroke: #000000; stroke-width: 1.5;\" x1=\"16\" x2=\"147\" y1=\"28.2969\" y2=\"28.2969\"/><text fill=\"#000000\" font-family=\"sans-serif\" font-size=\"14\" font-weight=\"bold\" lengthAdjust=\"spacingAndGlyphs\" textLength=\"118\" x=\"20\" y=\"20.9951\">MultiplicityTest</text></a><!--MD5=[b4997ac47864f28c2f74865a473b2911]\n",
       "class E2--><a href=\"psysml:68eb8761-ff46-4523-ba58-41a062b6cb94\" target=\"_top\" title=\"psysml:68eb8761-ff46-4523-ba58-41a062b6cb94\" xlink:actuate=\"onRequest\" xlink:href=\"psysml:68eb8761-ff46-4523-ba58-41a062b6cb94\" xlink:show=\"new\" xlink:title=\"psysml:68eb8761-ff46-4523-ba58-41a062b6cb94\" xlink:type=\"simple\"><rect fill=\"#FFFFFF\" height=\"45.9375\" id=\"E2\" style=\"stroke: #383838; stroke-width: 1.5;\" width=\"66\" x=\"497\" y=\"189\"/><text fill=\"#000000\" font-family=\"sans-serif\" font-size=\"12\" font-style=\"italic\" lengthAdjust=\"spacingAndGlyphs\" textLength=\"64\" x=\"498\" y=\"205.1387\">«part def»</text><text fill=\"#000000\" font-family=\"sans-serif\" font-size=\"12\" lengthAdjust=\"spacingAndGlyphs\" textLength=\"8\" x=\"526\" y=\"219.1074\">P</text><line style=\"stroke: #383838; stroke-width: 1.5;\" x1=\"498\" x2=\"562\" y1=\"226.9375\" y2=\"226.9375\"/></a><!--MD5=[09b614a08d8cba4a07c9adeb5e0fee81]\n",
       "class E3--><a href=\"psysml:c2c67205-2617-478d-9839-9411bc2f8511\" target=\"_top\" title=\"psysml:c2c67205-2617-478d-9839-9411bc2f8511\" xlink:actuate=\"onRequest\" xlink:href=\"psysml:c2c67205-2617-478d-9839-9411bc2f8511\" xlink:show=\"new\" xlink:title=\"psysml:c2c67205-2617-478d-9839-9411bc2f8511\" xlink:type=\"simple\"><rect fill=\"#FFFFFF\" height=\"45.9375\" id=\"E3\" rx=\"10\" ry=\"10\" style=\"stroke: #383838; stroke-width: 1.5;\" width=\"71\" x=\"702.5\" y=\"62\"/><text fill=\"#000000\" font-family=\"sans-serif\" font-size=\"12\" font-style=\"italic\" lengthAdjust=\"spacingAndGlyphs\" textLength=\"69\" x=\"703.5\" y=\"78.1387\">«attribute»</text><text fill=\"#000000\" font-family=\"sans-serif\" font-size=\"12\" lengthAdjust=\"spacingAndGlyphs\" textLength=\"61\" x=\"707.5\" y=\"92.1074\">n: Integer</text><line style=\"stroke: #383838; stroke-width: 1.5;\" x1=\"703.5\" x2=\"772.5\" y1=\"99.9375\" y2=\"99.9375\"/></a><!--MD5=[ebbe1d658d1005bcc118a6aa81145e00]\n",
       "class E4--><a href=\"psysml:fbb3215b-67d9-4514-b40f-6d8c33165593\" target=\"_top\" title=\"psysml:fbb3215b-67d9-4514-b40f-6d8c33165593\" xlink:actuate=\"onRequest\" xlink:href=\"psysml:fbb3215b-67d9-4514-b40f-6d8c33165593\" xlink:show=\"new\" xlink:title=\"psysml:fbb3215b-67d9-4514-b40f-6d8c33165593\" xlink:type=\"simple\"><rect fill=\"#FFFFFF\" height=\"45.9375\" id=\"E4\" rx=\"10\" ry=\"10\" style=\"stroke: #383838; stroke-width: 1.5;\" width=\"42\" x=\"625\" y=\"62\"/><text fill=\"#000000\" font-family=\"sans-serif\" font-size=\"12\" font-style=\"italic\" lengthAdjust=\"spacingAndGlyphs\" textLength=\"40\" x=\"626\" y=\"78.1387\">«part»</text><text fill=\"#000000\" font-family=\"sans-serif\" font-size=\"12\" lengthAdjust=\"spacingAndGlyphs\" textLength=\"8\" x=\"642\" y=\"92.1074\">a</text><line style=\"stroke: #383838; stroke-width: 1.5;\" x1=\"626\" x2=\"666\" y1=\"99.9375\" y2=\"99.9375\"/></a><!--MD5=[270fce915f116d4de14055a7c1d9a0f3]\n",
       "class E5--><a href=\"psysml:d1ff5ca6-7417-4682-b046-127881647fcb\" target=\"_top\" title=\"psysml:d1ff5ca6-7417-4682-b046-127881647fcb\" xlink:actuate=\"onRequest\" xlink:href=\"psysml:d1ff5ca6-7417-4682-b046-127881647fcb\" xlink:show=\"new\" xlink:title=\"psysml:d1ff5ca6-7417-4682-b046-127881647fcb\" xlink:type=\"simple\"><rect fill=\"#FFFFFF\" height=\"45.9375\" id=\"E5\" rx=\"10\" ry=\"10\" style=\"stroke: #383838; stroke-width: 1.5;\" width=\"42\" x=\"548\" y=\"62\"/><text fill=\"#000000\" font-family=\"sans-serif\" font-size=\"12\" font-style=\"italic\" lengthAdjust=\"spacingAndGlyphs\" textLength=\"40\" x=\"549\" y=\"78.1387\">«part»</text><text fill=\"#000000\" font-family=\"sans-serif\" font-size=\"12\" lengthAdjust=\"spacingAndGlyphs\" textLength=\"24\" x=\"557\" y=\"92.1074\">b: P</text><line style=\"stroke: #383838; stroke-width: 1.5;\" x1=\"549\" x2=\"589\" y1=\"99.9375\" y2=\"99.9375\"/></a><!--MD5=[60a26617385b1d2d0262a64233df1f8d]\n",
       "class E6--><a href=\"psysml:20d627d7-8daa-4ea4-8c0c-0e67ee5e3616\" target=\"_top\" title=\"psysml:20d627d7-8daa-4ea4-8c0c-0e67ee5e3616\" xlink:actuate=\"onRequest\" xlink:href=\"psysml:20d627d7-8daa-4ea4-8c0c-0e67ee5e3616\" xlink:show=\"new\" xlink:title=\"psysml:20d627d7-8daa-4ea4-8c0c-0e67ee5e3616\" xlink:type=\"simple\"><rect fill=\"#FFFFFF\" height=\"45.9375\" id=\"E6\" rx=\"10\" ry=\"10\" style=\"stroke: #383838; stroke-width: 1.5;\" width=\"42\" x=\"471\" y=\"62\"/><text fill=\"#000000\" font-family=\"sans-serif\" font-size=\"12\" font-style=\"italic\" lengthAdjust=\"spacingAndGlyphs\" textLength=\"40\" x=\"472\" y=\"78.1387\">«part»</text><text fill=\"#000000\" font-family=\"sans-serif\" font-size=\"12\" lengthAdjust=\"spacingAndGlyphs\" textLength=\"23\" x=\"480.5\" y=\"92.1074\">c: P</text><line style=\"stroke: #383838; stroke-width: 1.5;\" x1=\"472\" x2=\"512\" y1=\"99.9375\" y2=\"99.9375\"/></a><!--MD5=[2156ba9850f5573cc1fc38a6a4b2f02b]\n",
       "class E7--><a href=\"psysml:4fc87a01-ac01-48e0-9821-1b5b80a637f1\" target=\"_top\" title=\"psysml:4fc87a01-ac01-48e0-9821-1b5b80a637f1\" xlink:actuate=\"onRequest\" xlink:href=\"psysml:4fc87a01-ac01-48e0-9821-1b5b80a637f1\" xlink:show=\"new\" xlink:title=\"psysml:4fc87a01-ac01-48e0-9821-1b5b80a637f1\" xlink:type=\"simple\"><rect fill=\"#FFFFFF\" height=\"45.9375\" id=\"E7\" rx=\"10\" ry=\"10\" style=\"stroke: #383838; stroke-width: 1.5;\" width=\"42\" x=\"394\" y=\"62\"/><text fill=\"#000000\" font-family=\"sans-serif\" font-size=\"12\" font-style=\"italic\" lengthAdjust=\"spacingAndGlyphs\" textLength=\"40\" x=\"395\" y=\"78.1387\">«part»</text><text fill=\"#000000\" font-family=\"sans-serif\" font-size=\"12\" lengthAdjust=\"spacingAndGlyphs\" textLength=\"8\" x=\"411\" y=\"92.1074\">d</text><line style=\"stroke: #383838; stroke-width: 1.5;\" x1=\"395\" x2=\"435\" y1=\"99.9375\" y2=\"99.9375\"/></a><!--MD5=[b9389687b975829384b498ac4b7476b2]\n",
       "class E8--><a href=\"psysml:e7c3b12c-9054-4127-bd5f-a31eeffec0a6\" target=\"_top\" title=\"psysml:e7c3b12c-9054-4127-bd5f-a31eeffec0a6\" xlink:actuate=\"onRequest\" xlink:href=\"psysml:e7c3b12c-9054-4127-bd5f-a31eeffec0a6\" xlink:show=\"new\" xlink:title=\"psysml:e7c3b12c-9054-4127-bd5f-a31eeffec0a6\" xlink:type=\"simple\"><rect fill=\"#FFFFFF\" height=\"45.9375\" id=\"E8\" rx=\"10\" ry=\"10\" style=\"stroke: #383838; stroke-width: 1.5;\" width=\"42\" x=\"317\" y=\"62\"/><text fill=\"#000000\" font-family=\"sans-serif\" font-size=\"12\" font-style=\"italic\" lengthAdjust=\"spacingAndGlyphs\" textLength=\"40\" x=\"318\" y=\"78.1387\">«part»</text><text fill=\"#000000\" font-family=\"sans-serif\" font-size=\"12\" lengthAdjust=\"spacingAndGlyphs\" textLength=\"8\" x=\"334\" y=\"92.1074\">e</text><line style=\"stroke: #383838; stroke-width: 1.5;\" x1=\"318\" x2=\"358\" y1=\"99.9375\" y2=\"99.9375\"/></a><!--MD5=[fd4143e9d270a159db93a4ea2a975926]\n",
       "class E9--><a href=\"psysml:49b700d2-d9c4-4257-84cb-c65bfac2aa08\" target=\"_top\" title=\"psysml:49b700d2-d9c4-4257-84cb-c65bfac2aa08\" xlink:actuate=\"onRequest\" xlink:href=\"psysml:49b700d2-d9c4-4257-84cb-c65bfac2aa08\" xlink:show=\"new\" xlink:title=\"psysml:49b700d2-d9c4-4257-84cb-c65bfac2aa08\" xlink:type=\"simple\"><rect fill=\"#FFFFFF\" height=\"45.9375\" id=\"E9\" rx=\"10\" ry=\"10\" style=\"stroke: #383838; stroke-width: 1.5;\" width=\"42\" x=\"240\" y=\"62\"/><text fill=\"#000000\" font-family=\"sans-serif\" font-size=\"12\" font-style=\"italic\" lengthAdjust=\"spacingAndGlyphs\" textLength=\"40\" x=\"241\" y=\"78.1387\">«part»</text><text fill=\"#000000\" font-family=\"sans-serif\" font-size=\"12\" lengthAdjust=\"spacingAndGlyphs\" textLength=\"4\" x=\"259\" y=\"92.1074\">f</text><line style=\"stroke: #383838; stroke-width: 1.5;\" x1=\"241\" x2=\"281\" y1=\"99.9375\" y2=\"99.9375\"/></a><!--MD5=[96f4274e9e20536e775497830990834d]\n",
       "class E10--><a href=\"psysml:20161f3e-4930-46fe-a17d-f79ec2a77aae\" target=\"_top\" title=\"psysml:20161f3e-4930-46fe-a17d-f79ec2a77aae\" xlink:actuate=\"onRequest\" xlink:href=\"psysml:20161f3e-4930-46fe-a17d-f79ec2a77aae\" xlink:show=\"new\" xlink:title=\"psysml:20161f3e-4930-46fe-a17d-f79ec2a77aae\" xlink:type=\"simple\"><rect fill=\"#FFFFFF\" height=\"45.9375\" id=\"E10\" rx=\"10\" ry=\"10\" style=\"stroke: #383838; stroke-width: 1.5;\" width=\"42\" x=\"163\" y=\"62\"/><text fill=\"#000000\" font-family=\"sans-serif\" font-size=\"12\" font-style=\"italic\" lengthAdjust=\"spacingAndGlyphs\" textLength=\"40\" x=\"164\" y=\"78.1387\">«part»</text><text fill=\"#000000\" font-family=\"sans-serif\" font-size=\"12\" lengthAdjust=\"spacingAndGlyphs\" textLength=\"8\" x=\"180\" y=\"92.1074\">g</text><line style=\"stroke: #383838; stroke-width: 1.5;\" x1=\"164\" x2=\"204\" y1=\"99.9375\" y2=\"99.9375\"/></a><!--MD5=[1dd1bfd58a279cf63c5f349dbc8fc6a1]\n",
       "class E11--><a href=\"psysml:958dabfe-3a24-44d8-9bca-d5e375f56ac2\" target=\"_top\" title=\"psysml:958dabfe-3a24-44d8-9bca-d5e375f56ac2\" xlink:actuate=\"onRequest\" xlink:href=\"psysml:958dabfe-3a24-44d8-9bca-d5e375f56ac2\" xlink:show=\"new\" xlink:title=\"psysml:958dabfe-3a24-44d8-9bca-d5e375f56ac2\" xlink:type=\"simple\"><rect fill=\"#FFFFFF\" height=\"88.3516\" id=\"E11\" style=\"stroke: #383838; stroke-width: 1.5;\" width=\"95\" x=\"32.5\" y=\"41\"/><text fill=\"#000000\" font-family=\"sans-serif\" font-size=\"12\" font-style=\"italic\" lengthAdjust=\"spacingAndGlyphs\" textLength=\"93\" x=\"33.5\" y=\"57.1387\">«attribute def»</text><text fill=\"#000000\" font-family=\"sans-serif\" font-size=\"12\" lengthAdjust=\"spacingAndGlyphs\" textLength=\"8\" x=\"76\" y=\"71.1074\">A</text><line style=\"stroke: #383838; stroke-width: 1.5;\" x1=\"33.5\" x2=\"126.5\" y1=\"78.9375\" y2=\"78.9375\"/><text fill=\"#000000\" font-family=\"sans-serif\" font-size=\"11\" lengthAdjust=\"spacingAndGlyphs\" textLength=\"51\" x=\"38.5\" y=\"109.9526\">i: Integer</text><text fill=\"#000000\" font-family=\"sans-serif\" font-size=\"11\" lengthAdjust=\"spacingAndGlyphs\" textLength=\"21\" x=\"38.5\" y=\"122.7573\">x: A</text><line style=\"stroke: #383838; stroke-width: 1.0;\" x1=\"33.5\" x2=\"52.5\" y1=\"93.3398\" y2=\"93.3398\"/><text fill=\"#000000\" font-family=\"sans-serif\" font-size=\"11\" lengthAdjust=\"spacingAndGlyphs\" textLength=\"55\" x=\"52.5\" y=\"96.6479\">attributes</text><line style=\"stroke: #383838; stroke-width: 1.0;\" x1=\"107.5\" x2=\"126.5\" y1=\"93.3398\" y2=\"93.3398\"/></a><!--MD5=[15ebcb19ae302d9b601edb458606d402]\n",
       "link E5 to E2--><a href=\"psysml:a788c1ae-8502-4aea-9d8b-5a5d865c76a9\" target=\"_top\" title=\"psysml:a788c1ae-8502-4aea-9d8b-5a5d865c76a9\" xlink:actuate=\"onRequest\" xlink:href=\"psysml:a788c1ae-8502-4aea-9d8b-5a5d865c76a9\" xlink:show=\"new\" xlink:title=\"psysml:a788c1ae-8502-4aea-9d8b-5a5d865c76a9\" xlink:type=\"simple\"><path d=\"M555.5,108.29 C555.5,108.29 555.5,168.85 555.5,168.85 \" fill=\"none\" id=\"E5-&gt;E2\" style=\"stroke: #383838; stroke-width: 1.0;\"/><polygon fill=\"#FFFFFF\" points=\"555.5,188.85,548.5,169.85,562.5,169.85,555.5,188.85\" style=\"stroke: #383838; stroke-width: 1.0;\"/><ellipse cx=\"550.5\" cy=\"164.15\" fill=\"#383838\" rx=\"2\" ry=\"2\" style=\"stroke: #383838; stroke-width: 1.0;\"/><ellipse cx=\"560.5\" cy=\"164.15\" fill=\"#383838\" rx=\"2\" ry=\"2\" style=\"stroke: #383838; stroke-width: 1.0;\"/></a><!--MD5=[2351f337d6de0f557b50152ba70847b5]\n",
       "link E6 to E2--><a href=\"psysml:96c9e024-7b1d-4ba9-883a-860d4899a00e\" target=\"_top\" title=\"psysml:96c9e024-7b1d-4ba9-883a-860d4899a00e\" xlink:actuate=\"onRequest\" xlink:href=\"psysml:96c9e024-7b1d-4ba9-883a-860d4899a00e\" xlink:show=\"new\" xlink:title=\"psysml:96c9e024-7b1d-4ba9-883a-860d4899a00e\" xlink:type=\"simple\"><path d=\"M505,108.29 C505,108.29 505,168.85 505,168.85 \" fill=\"none\" id=\"E6-&gt;E2\" style=\"stroke: #383838; stroke-width: 1.0;\"/><polygon fill=\"#FFFFFF\" points=\"505,188.85,498,169.85,512,169.85,505,188.85\" style=\"stroke: #383838; stroke-width: 1.0;\"/><ellipse cx=\"500\" cy=\"164.15\" fill=\"#383838\" rx=\"2\" ry=\"2\" style=\"stroke: #383838; stroke-width: 1.0;\"/><ellipse cx=\"510\" cy=\"164.15\" fill=\"#383838\" rx=\"2\" ry=\"2\" style=\"stroke: #383838; stroke-width: 1.0;\"/></a><!--MD5=[abb549fcbcf8cd09f1131993576ca519]\n",
       "@startuml\r\n",
       "skinparam linetype ortho\r\n",
       "skinparam monochrome true\r\n",
       "skinparam classbackgroundcolor white\r\n",
       "skinparam shadowing false\r\n",
       "skinparam wrapWidth 300\r\n",
       "hide circle\r\n",
       "\r\n",
       "package \"MultiplicityTest\" as E1  [[psysml:04657276-263c-446b-8b63-b81fdc3bdb65 ]]  {\r\n",
       "comp def \"P\" as E2  <<(T,blue) part def>> [[psysml:68eb8761-ff46-4523-ba58-41a062b6cb94 ]] {\r\n",
       "}\r\n",
       "comp usage \"n: Integer\" as E3  <<(T,blue) attribute>> [[psysml:c2c67205-2617-478d-9839-9411bc2f8511 ]] {\r\n",
       "}\r\n",
       "comp usage \"a\" as E4  <<(T,blue) part>> [[psysml:fbb3215b-67d9-4514-b40f-6d8c33165593 ]] {\r\n",
       "}\r\n",
       "comp usage \"b: P\" as E5  <<(T,blue) part>> [[psysml:d1ff5ca6-7417-4682-b046-127881647fcb ]] {\r\n",
       "}\r\n",
       "comp usage \"c: P\" as E6  <<(T,blue) part>> [[psysml:20d627d7-8daa-4ea4-8c0c-0e67ee5e3616 ]] {\r\n",
       "}\r\n",
       "comp usage \"d\" as E7  <<(T,blue) part>> [[psysml:4fc87a01-ac01-48e0-9821-1b5b80a637f1 ]] {\r\n",
       "}\r\n",
       "comp usage \"e\" as E8  <<(T,blue) part>> [[psysml:e7c3b12c-9054-4127-bd5f-a31eeffec0a6 ]] {\r\n",
       "}\r\n",
       "comp usage \"f\" as E9  <<(T,blue) part>> [[psysml:49b700d2-d9c4-4257-84cb-c65bfac2aa08 ]] {\r\n",
       "}\r\n",
       "comp usage \"g\" as E10  <<(T,blue) part>> [[psysml:20161f3e-4930-46fe-a17d-f79ec2a77aae ]] {\r\n",
       "}\r\n",
       "comp def \"A\" as E11  <<(T,blue) attribute def>> [[psysml:958dabfe-3a24-44d8-9bca-d5e375f56ac2 ]] {\r\n",
       "- - attributes - -\r\n",
       "i: Integer\r\n",
       "x: A\r\n",
       "}\r\n",
       "E5 - -:|> E2 [[psysml:a788c1ae-8502-4aea-9d8b-5a5d865c76a9 ]] \r\n",
       "E6 - -:|> E2 [[psysml:96c9e024-7b1d-4ba9-883a-860d4899a00e ]] \r\n",
       "}\r\n",
       "@enduml\r\n",
       "\n",
       "PlantUML version 1.2020.13(Sat Jun 13 12:26:38 UTC 2020)\n",
       "(EPL source distribution)\n",
       "Java Runtime: OpenJDK Runtime Environment\n",
       "JVM: OpenJDK 64-Bit Server VM\n",
       "Default Encoding: UTF-8\n",
       "Language: en\n",
       "Country: null\n",
       "--></g></svg>"
      ]
     },
     "execution_count": 57,
     "metadata": {},
     "output_type": "execute_result"
    }
   ],
   "source": [
    "%viz --style=\"ORTHOLINE\" --view=\"MIXED\" \"MultiplicityTest\""
   ]
  }
 ],
 "metadata": {
  "kernelspec": {
   "display_name": "SysML",
   "language": "sysml",
   "name": "sysml"
  },
  "language_info": {
   "codemirror_mode": "sysml",
   "file_extension": ".sysml",
   "mimetype": "text/x-sysml",
   "name": "SysML",
   "pygments_lexer": "java",
   "version": "1.0.0"
  }
 },
 "nbformat": 4,
 "nbformat_minor": 5
}
